{
 "cells": [
  {
   "cell_type": "markdown",
   "id": "muslim-click",
   "metadata": {
    "papermill": {
     "duration": 0.040132,
     "end_time": "2021-07-05T00:18:51.856175",
     "exception": false,
     "start_time": "2021-07-05T00:18:51.816043",
     "status": "completed"
    },
    "tags": []
   },
   "source": [
    "# COVID-19 Case Race\n",
    "> A race chart to see rising cases around the world\n",
    "\n",
    "- author: Hargun Oberoi\n",
    "- image: images/covid-overview.png\n",
    "- hide: false\n",
    "- badges: false"
   ]
  },
  {
   "cell_type": "code",
   "execution_count": 1,
   "id": "proof-material",
   "metadata": {
    "execution": {
     "iopub.execute_input": "2021-07-05T00:18:51.933676Z",
     "iopub.status.busy": "2021-07-05T00:18:51.933085Z",
     "iopub.status.idle": "2021-07-05T00:18:52.279628Z",
     "shell.execute_reply": "2021-07-05T00:18:52.278734Z"
    },
    "papermill": {
     "duration": 0.390673,
     "end_time": "2021-07-05T00:18:52.279932",
     "exception": false,
     "start_time": "2021-07-05T00:18:51.889259",
     "status": "completed"
    },
    "tags": []
   },
   "outputs": [],
   "source": [
    "#hide\n",
    "import numpy as np\n",
    "import pandas as pd\n",
    "from jinja2 import Template\n",
    "from IPython.display import HTML"
   ]
  },
  {
   "cell_type": "code",
   "execution_count": 2,
   "id": "developed-terminology",
   "metadata": {
    "execution": {
     "iopub.execute_input": "2021-07-05T00:18:52.350905Z",
     "iopub.status.busy": "2021-07-05T00:18:52.350318Z",
     "iopub.status.idle": "2021-07-05T00:18:52.353047Z",
     "shell.execute_reply": "2021-07-05T00:18:52.353600Z"
    },
    "papermill": {
     "duration": 0.040421,
     "end_time": "2021-07-05T00:18:52.353745",
     "exception": false,
     "start_time": "2021-07-05T00:18:52.313324",
     "status": "completed"
    },
    "tags": []
   },
   "outputs": [],
   "source": [
    "#hide\n",
    "\n",
    "# FETCH\n",
    "base_url = 'https://raw.githubusercontent.com/pratapvardhan/notebooks/master/covid19/'\n",
    "paths = {\n",
    "    'mapping': base_url + 'mapping_countries.csv',\n",
    "    'overview': base_url + 'overview.tpl'\n",
    "}"
   ]
  },
  {
   "cell_type": "code",
   "execution_count": 3,
   "id": "dynamic-saver",
   "metadata": {
    "execution": {
     "iopub.execute_input": "2021-07-05T00:18:52.428600Z",
     "iopub.status.busy": "2021-07-05T00:18:52.424254Z",
     "iopub.status.idle": "2021-07-05T00:18:52.431546Z",
     "shell.execute_reply": "2021-07-05T00:18:52.431093Z"
    },
    "papermill": {
     "duration": 0.046972,
     "end_time": "2021-07-05T00:18:52.431702",
     "exception": false,
     "start_time": "2021-07-05T00:18:52.384730",
     "status": "completed"
    },
    "tags": []
   },
   "outputs": [
    {
     "data": {
      "text/plain": [
       "'https://raw.githubusercontent.com/pratapvardhan/notebooks/master/covid19/mapping_countries.csv'"
      ]
     },
     "execution_count": 3,
     "metadata": {},
     "output_type": "execute_result"
    }
   ],
   "source": [
    "#hide\n",
    "paths['mapping']"
   ]
  },
  {
   "cell_type": "code",
   "execution_count": 4,
   "id": "urban-software",
   "metadata": {
    "execution": {
     "iopub.execute_input": "2021-07-05T00:18:52.504381Z",
     "iopub.status.busy": "2021-07-05T00:18:52.503804Z",
     "iopub.status.idle": "2021-07-05T00:18:52.506454Z",
     "shell.execute_reply": "2021-07-05T00:18:52.505956Z"
    },
    "papermill": {
     "duration": 0.042229,
     "end_time": "2021-07-05T00:18:52.506565",
     "exception": false,
     "start_time": "2021-07-05T00:18:52.464336",
     "status": "completed"
    },
    "tags": []
   },
   "outputs": [],
   "source": [
    "#hide\n",
    "def get_mappings(url):\n",
    "    df = pd.read_csv(url)\n",
    "    return {\n",
    "        'df': df,\n",
    "        'replace.country': dict(df.dropna(subset=['Name']).set_index('Country')['Name']),\n",
    "        'map.continent': dict(df.set_index('Name')['Continent'])\n",
    "    }"
   ]
  },
  {
   "cell_type": "code",
   "execution_count": 5,
   "id": "intimate-machinery",
   "metadata": {
    "execution": {
     "iopub.execute_input": "2021-07-05T00:18:52.574829Z",
     "iopub.status.busy": "2021-07-05T00:18:52.574263Z",
     "iopub.status.idle": "2021-07-05T00:18:52.601325Z",
     "shell.execute_reply": "2021-07-05T00:18:52.600681Z"
    },
    "papermill": {
     "duration": 0.064022,
     "end_time": "2021-07-05T00:18:52.601480",
     "exception": false,
     "start_time": "2021-07-05T00:18:52.537458",
     "status": "completed"
    },
    "tags": []
   },
   "outputs": [],
   "source": [
    "#hide\n",
    "mapping = get_mappings(paths['mapping'])"
   ]
  },
  {
   "cell_type": "code",
   "execution_count": 6,
   "id": "certified-tactics",
   "metadata": {
    "execution": {
     "iopub.execute_input": "2021-07-05T00:18:52.676100Z",
     "iopub.status.busy": "2021-07-05T00:18:52.675494Z",
     "iopub.status.idle": "2021-07-05T00:18:52.678270Z",
     "shell.execute_reply": "2021-07-05T00:18:52.678720Z"
    },
    "papermill": {
     "duration": 0.042387,
     "end_time": "2021-07-05T00:18:52.678852",
     "exception": false,
     "start_time": "2021-07-05T00:18:52.636465",
     "status": "completed"
    },
    "tags": []
   },
   "outputs": [],
   "source": [
    "#hide\n",
    "def get_template(path):\n",
    "    from urllib.parse import urlparse\n",
    "    if bool(urlparse(path).netloc):\n",
    "        from urllib.request import urlopen\n",
    "        return urlopen(path).read().decode('utf8')\n",
    "    return open(path).read()"
   ]
  },
  {
   "cell_type": "code",
   "execution_count": 7,
   "id": "realistic-blast",
   "metadata": {
    "execution": {
     "iopub.execute_input": "2021-07-05T00:18:52.751811Z",
     "iopub.status.busy": "2021-07-05T00:18:52.751159Z",
     "iopub.status.idle": "2021-07-05T00:18:52.752962Z",
     "shell.execute_reply": "2021-07-05T00:18:52.753432Z"
    },
    "papermill": {
     "duration": 0.041286,
     "end_time": "2021-07-05T00:18:52.753573",
     "exception": false,
     "start_time": "2021-07-05T00:18:52.712287",
     "status": "completed"
    },
    "tags": []
   },
   "outputs": [],
   "source": [
    "#hide\n",
    "def get_frame(name):\n",
    "    url = (\n",
    "        'https://raw.githubusercontent.com/CSSEGISandData/COVID-19/master/csse_covid_19_data/'\n",
    "        f'csse_covid_19_time_series/time_series_covid19_{name}_global.csv')\n",
    "    df = pd.read_csv(url)\n",
    "    # rename countries\n",
    "    df['Country/Region'] = df['Country/Region'].replace(mapping['replace.country'])\n",
    "    return df"
   ]
  },
  {
   "cell_type": "code",
   "execution_count": 8,
   "id": "affiliated-characterization",
   "metadata": {
    "execution": {
     "iopub.execute_input": "2021-07-05T00:18:52.824693Z",
     "iopub.status.busy": "2021-07-05T00:18:52.824113Z",
     "iopub.status.idle": "2021-07-05T00:18:52.826416Z",
     "shell.execute_reply": "2021-07-05T00:18:52.826913Z"
    },
    "papermill": {
     "duration": 0.040224,
     "end_time": "2021-07-05T00:18:52.827025",
     "exception": false,
     "start_time": "2021-07-05T00:18:52.786801",
     "status": "completed"
    },
    "tags": []
   },
   "outputs": [],
   "source": [
    "#hide\n",
    "def get_dates(df):\n",
    "    dt_cols = df.columns[~df.columns.isin(['Province/State', 'Country/Region', 'Lat', 'Long'])]\n",
    "    LAST_DATE_I = -1\n",
    "    # sometimes last column may be empty, then go backwards\n",
    "    for i in range(-1, -len(dt_cols), -1):\n",
    "        if not df[dt_cols[i]].fillna(0).eq(0).all():\n",
    "            LAST_DATE_I = i\n",
    "            break\n",
    "    return LAST_DATE_I, dt_cols"
   ]
  },
  {
   "cell_type": "code",
   "execution_count": 9,
   "id": "recent-optimization",
   "metadata": {
    "execution": {
     "iopub.execute_input": "2021-07-05T00:18:52.894326Z",
     "iopub.status.busy": "2021-07-05T00:18:52.893760Z",
     "iopub.status.idle": "2021-07-05T00:18:53.167947Z",
     "shell.execute_reply": "2021-07-05T00:18:53.167153Z"
    },
    "papermill": {
     "duration": 0.309621,
     "end_time": "2021-07-05T00:18:53.168125",
     "exception": false,
     "start_time": "2021-07-05T00:18:52.858504",
     "status": "completed"
    },
    "tags": []
   },
   "outputs": [],
   "source": [
    "#hide\n",
    "COL_REGION = 'Country/Region'\n",
    "# Confirmed, Recovered, Deaths\n",
    "df = get_frame('confirmed')\n",
    "# dft_: timeseries, dfc_: today country agg\n",
    "dft_cases = df\n",
    "dft_deaths = get_frame('deaths')\n",
    "dft_recovered = get_frame('recovered')\n",
    "LAST_DATE_I, dt_cols = get_dates(df)"
   ]
  },
  {
   "cell_type": "code",
   "execution_count": 10,
   "id": "absolute-copper",
   "metadata": {
    "execution": {
     "iopub.execute_input": "2021-07-05T00:18:53.244141Z",
     "iopub.status.busy": "2021-07-05T00:18:53.243467Z",
     "iopub.status.idle": "2021-07-05T00:18:53.245716Z",
     "shell.execute_reply": "2021-07-05T00:18:53.246279Z"
    },
    "papermill": {
     "duration": 0.043597,
     "end_time": "2021-07-05T00:18:53.246419",
     "exception": false,
     "start_time": "2021-07-05T00:18:53.202822",
     "status": "completed"
    },
    "tags": []
   },
   "outputs": [],
   "source": [
    "#hide\n",
    "LAST_DATE_I, dt_cols = get_dates(df)\n",
    "dt_today =dt_cols[LAST_DATE_I]\n",
    "# dt_5day = dt_cols[LAST_DATE_I - 5]\n",
    "dt_yday = dt_cols[LAST_DATE_I - 1]"
   ]
  },
  {
   "cell_type": "code",
   "execution_count": 11,
   "id": "restricted-sheriff",
   "metadata": {
    "execution": {
     "iopub.execute_input": "2021-07-05T00:18:53.325480Z",
     "iopub.status.busy": "2021-07-05T00:18:53.321930Z",
     "iopub.status.idle": "2021-07-05T00:18:53.328115Z",
     "shell.execute_reply": "2021-07-05T00:18:53.328570Z"
    },
    "papermill": {
     "duration": 0.048501,
     "end_time": "2021-07-05T00:18:53.328710",
     "exception": false,
     "start_time": "2021-07-05T00:18:53.280209",
     "status": "completed"
    },
    "tags": []
   },
   "outputs": [],
   "source": [
    "#hide\n",
    "dfc_cases = dft_cases.groupby(COL_REGION)[dt_today].sum()\n",
    "dfc_deaths = dft_deaths.groupby(COL_REGION)[dt_today].sum()\n",
    "# dfp_cases = dft_cases.groupby(COL_REGION)[dt_5day].sum()\n",
    "# dfp_deaths = dft_deaths.groupby(COL_REGION)[dt_5day].sum()\n",
    "dfp_cases = dft_cases.groupby(COL_REGION)[dt_yday].sum()\n",
    "dfp_deaths = dft_deaths.groupby(COL_REGION)[dt_yday].sum()"
   ]
  },
  {
   "cell_type": "code",
   "execution_count": 12,
   "id": "deluxe-hepatitis",
   "metadata": {
    "execution": {
     "iopub.execute_input": "2021-07-05T00:18:53.401248Z",
     "iopub.status.busy": "2021-07-05T00:18:53.398858Z",
     "iopub.status.idle": "2021-07-05T00:18:53.404338Z",
     "shell.execute_reply": "2021-07-05T00:18:53.403874Z"
    },
    "papermill": {
     "duration": 0.043889,
     "end_time": "2021-07-05T00:18:53.404443",
     "exception": false,
     "start_time": "2021-07-05T00:18:53.360554",
     "status": "completed"
    },
    "tags": []
   },
   "outputs": [],
   "source": [
    "#hide\n",
    "df_table = (pd.DataFrame(dict(Cases = dfc_cases, Deaths = dfc_deaths, PCases = dfp_cases, PDeaths = dfp_deaths))\n",
    "            .sort_values(by = ['Cases','Deaths'], ascending = [False, False])\n",
    "            .reset_index())"
   ]
  },
  {
   "cell_type": "code",
   "execution_count": 13,
   "id": "educational-chancellor",
   "metadata": {
    "execution": {
     "iopub.execute_input": "2021-07-05T00:18:53.489633Z",
     "iopub.status.busy": "2021-07-05T00:18:53.485050Z",
     "iopub.status.idle": "2021-07-05T00:18:53.497505Z",
     "shell.execute_reply": "2021-07-05T00:18:53.497038Z"
    },
    "papermill": {
     "duration": 0.061259,
     "end_time": "2021-07-05T00:18:53.497617",
     "exception": false,
     "start_time": "2021-07-05T00:18:53.436358",
     "status": "completed"
    },
    "tags": []
   },
   "outputs": [
    {
     "data": {
      "text/html": [
       "<div>\n",
       "<style scoped>\n",
       "    .dataframe tbody tr th:only-of-type {\n",
       "        vertical-align: middle;\n",
       "    }\n",
       "\n",
       "    .dataframe tbody tr th {\n",
       "        vertical-align: top;\n",
       "    }\n",
       "\n",
       "    .dataframe thead th {\n",
       "        text-align: right;\n",
       "    }\n",
       "</style>\n",
       "<table border=\"1\" class=\"dataframe\">\n",
       "  <thead>\n",
       "    <tr style=\"text-align: right;\">\n",
       "      <th></th>\n",
       "      <th>Country/Region</th>\n",
       "      <th>Cases</th>\n",
       "      <th>Deaths</th>\n",
       "      <th>PCases</th>\n",
       "      <th>PDeaths</th>\n",
       "      <th>Cases (+)</th>\n",
       "      <th>Deaths (+)</th>\n",
       "      <th>Fatality Rate</th>\n",
       "      <th>Continent</th>\n",
       "    </tr>\n",
       "  </thead>\n",
       "  <tbody>\n",
       "    <tr>\n",
       "      <th>0</th>\n",
       "      <td>US</td>\n",
       "      <td>33713870</td>\n",
       "      <td>605493</td>\n",
       "      <td>33709131</td>\n",
       "      <td>605413</td>\n",
       "      <td>4739</td>\n",
       "      <td>80</td>\n",
       "      <td>1.80</td>\n",
       "      <td>North America</td>\n",
       "    </tr>\n",
       "    <tr>\n",
       "      <th>1</th>\n",
       "      <td>India</td>\n",
       "      <td>30545433</td>\n",
       "      <td>402005</td>\n",
       "      <td>30502362</td>\n",
       "      <td>401050</td>\n",
       "      <td>43071</td>\n",
       "      <td>955</td>\n",
       "      <td>1.32</td>\n",
       "      <td>Asia</td>\n",
       "    </tr>\n",
       "    <tr>\n",
       "      <th>2</th>\n",
       "      <td>Brazil</td>\n",
       "      <td>18742025</td>\n",
       "      <td>523587</td>\n",
       "      <td>18687469</td>\n",
       "      <td>521952</td>\n",
       "      <td>54556</td>\n",
       "      <td>1635</td>\n",
       "      <td>2.79</td>\n",
       "      <td>South America</td>\n",
       "    </tr>\n",
       "    <tr>\n",
       "      <th>3</th>\n",
       "      <td>France</td>\n",
       "      <td>5845622</td>\n",
       "      <td>111314</td>\n",
       "      <td>5842616</td>\n",
       "      <td>111297</td>\n",
       "      <td>3006</td>\n",
       "      <td>17</td>\n",
       "      <td>1.90</td>\n",
       "      <td>Europe</td>\n",
       "    </tr>\n",
       "    <tr>\n",
       "      <th>4</th>\n",
       "      <td>Russia</td>\n",
       "      <td>5519516</td>\n",
       "      <td>134987</td>\n",
       "      <td>5495513</td>\n",
       "      <td>134302</td>\n",
       "      <td>24003</td>\n",
       "      <td>685</td>\n",
       "      <td>2.45</td>\n",
       "      <td>Europe</td>\n",
       "    </tr>\n",
       "  </tbody>\n",
       "</table>\n",
       "</div>"
      ],
      "text/plain": [
       "  Country/Region     Cases  Deaths    PCases  PDeaths  Cases (+)  Deaths (+)  \\\n",
       "0             US  33713870  605493  33709131   605413       4739          80   \n",
       "1          India  30545433  402005  30502362   401050      43071         955   \n",
       "2         Brazil  18742025  523587  18687469   521952      54556        1635   \n",
       "3         France   5845622  111314   5842616   111297       3006          17   \n",
       "4         Russia   5519516  134987   5495513   134302      24003         685   \n",
       "\n",
       "   Fatality Rate      Continent  \n",
       "0           1.80  North America  \n",
       "1           1.32           Asia  \n",
       "2           2.79  South America  \n",
       "3           1.90         Europe  \n",
       "4           2.45         Europe  "
      ]
     },
     "execution_count": 13,
     "metadata": {},
     "output_type": "execute_result"
    }
   ],
   "source": [
    "#hide\n",
    "for c in 'Cases, Deaths'.split(', '):\n",
    "    df_table[f'{c} (+)'] = (df_table[c] - df_table[f'P{c}']).clip(0)\n",
    "    #Clip ça veut dire, les chiffres negatif sont interdit\n",
    "df_table['Fatality Rate'] = (100* df_table['Deaths']/ df_table['Cases']).round(2)\n",
    "df_table['Continent'] = df_table['Country/Region'].map(mapping['map.continent'])\n",
    "df_table.head(5)"
   ]
  },
  {
   "cell_type": "code",
   "execution_count": 14,
   "id": "aboriginal-bulgaria",
   "metadata": {
    "execution": {
     "iopub.execute_input": "2021-07-05T00:18:53.572419Z",
     "iopub.status.busy": "2021-07-05T00:18:53.571837Z",
     "iopub.status.idle": "2021-07-05T00:18:53.574402Z",
     "shell.execute_reply": "2021-07-05T00:18:53.573939Z"
    },
    "papermill": {
     "duration": 0.043538,
     "end_time": "2021-07-05T00:18:53.574516",
     "exception": false,
     "start_time": "2021-07-05T00:18:53.530978",
     "status": "completed"
    },
    "tags": []
   },
   "outputs": [],
   "source": [
    "#hide\n",
    "#delete problematic countries from table\n",
    "df_table = df_table[~df_table['Country/Region'].isin(['Cape Verde', 'Cruise Ship', 'Kosovo'])]"
   ]
  },
  {
   "cell_type": "code",
   "execution_count": 15,
   "id": "fantastic-effect",
   "metadata": {
    "execution": {
     "iopub.execute_input": "2021-07-05T00:18:53.652453Z",
     "iopub.status.busy": "2021-07-05T00:18:53.649024Z",
     "iopub.status.idle": "2021-07-05T00:18:53.670990Z",
     "shell.execute_reply": "2021-07-05T00:18:53.670518Z"
    },
    "papermill": {
     "duration": 0.063132,
     "end_time": "2021-07-05T00:18:53.671103",
     "exception": false,
     "start_time": "2021-07-05T00:18:53.607971",
     "status": "completed"
    },
    "tags": []
   },
   "outputs": [
    {
     "data": {
      "text/html": [
       "<div>\n",
       "<style scoped>\n",
       "    .dataframe tbody tr th:only-of-type {\n",
       "        vertical-align: middle;\n",
       "    }\n",
       "\n",
       "    .dataframe tbody tr th {\n",
       "        vertical-align: top;\n",
       "    }\n",
       "\n",
       "    .dataframe thead th {\n",
       "        text-align: right;\n",
       "    }\n",
       "</style>\n",
       "<table border=\"1\" class=\"dataframe\">\n",
       "  <thead>\n",
       "    <tr style=\"text-align: right;\">\n",
       "      <th></th>\n",
       "      <th>Country/Region</th>\n",
       "      <th>Cases</th>\n",
       "      <th>Deaths</th>\n",
       "      <th>PCases</th>\n",
       "      <th>PDeaths</th>\n",
       "      <th>Cases (+)</th>\n",
       "      <th>Deaths (+)</th>\n",
       "      <th>Fatality Rate</th>\n",
       "      <th>Continent</th>\n",
       "    </tr>\n",
       "  </thead>\n",
       "  <tbody>\n",
       "    <tr>\n",
       "      <th>0</th>\n",
       "      <td>US</td>\n",
       "      <td>33713870</td>\n",
       "      <td>605493</td>\n",
       "      <td>33709131</td>\n",
       "      <td>605413</td>\n",
       "      <td>4739</td>\n",
       "      <td>80</td>\n",
       "      <td>1.8</td>\n",
       "      <td>North America</td>\n",
       "    </tr>\n",
       "    <tr>\n",
       "      <th>1</th>\n",
       "      <td>India</td>\n",
       "      <td>30545433</td>\n",
       "      <td>402005</td>\n",
       "      <td>30502362</td>\n",
       "      <td>401050</td>\n",
       "      <td>43071</td>\n",
       "      <td>955</td>\n",
       "      <td>1.3</td>\n",
       "      <td>Asia</td>\n",
       "    </tr>\n",
       "    <tr>\n",
       "      <th>2</th>\n",
       "      <td>Brazil</td>\n",
       "      <td>18742025</td>\n",
       "      <td>523587</td>\n",
       "      <td>18687469</td>\n",
       "      <td>521952</td>\n",
       "      <td>54556</td>\n",
       "      <td>1635</td>\n",
       "      <td>2.8</td>\n",
       "      <td>South America</td>\n",
       "    </tr>\n",
       "    <tr>\n",
       "      <th>3</th>\n",
       "      <td>France</td>\n",
       "      <td>5845622</td>\n",
       "      <td>111314</td>\n",
       "      <td>5842616</td>\n",
       "      <td>111297</td>\n",
       "      <td>3006</td>\n",
       "      <td>17</td>\n",
       "      <td>1.9</td>\n",
       "      <td>Europe</td>\n",
       "    </tr>\n",
       "    <tr>\n",
       "      <th>4</th>\n",
       "      <td>Russia</td>\n",
       "      <td>5519516</td>\n",
       "      <td>134987</td>\n",
       "      <td>5495513</td>\n",
       "      <td>134302</td>\n",
       "      <td>24003</td>\n",
       "      <td>685</td>\n",
       "      <td>2.4</td>\n",
       "      <td>Europe</td>\n",
       "    </tr>\n",
       "  </tbody>\n",
       "</table>\n",
       "</div>"
      ],
      "text/plain": [
       "  Country/Region     Cases  Deaths    PCases  PDeaths  Cases (+)  Deaths (+)  \\\n",
       "0             US  33713870  605493  33709131   605413       4739          80   \n",
       "1          India  30545433  402005  30502362   401050      43071         955   \n",
       "2         Brazil  18742025  523587  18687469   521952      54556        1635   \n",
       "3         France   5845622  111314   5842616   111297       3006          17   \n",
       "4         Russia   5519516  134987   5495513   134302      24003         685   \n",
       "\n",
       "   Fatality Rate      Continent  \n",
       "0            1.8  North America  \n",
       "1            1.3           Asia  \n",
       "2            2.8  South America  \n",
       "3            1.9         Europe  \n",
       "4            2.4         Europe  "
      ]
     },
     "execution_count": 15,
     "metadata": {},
     "output_type": "execute_result"
    }
   ],
   "source": [
    "#hide\n",
    "df_table = (pd.DataFrame(dict(Cases=dfc_cases, Deaths=dfc_deaths, PCases=dfp_cases, PDeaths=dfp_deaths))\n",
    "             .sort_values(by=['Cases', 'Deaths'], ascending=[False, False])\n",
    "             .reset_index())\n",
    "df_table.rename(columns={'index': 'Country/Region'}, inplace=True)\n",
    "for c in 'Cases, Deaths'.split(', '):\n",
    "    df_table[f'{c} (+)'] = (df_table[c] - df_table[f'P{c}']).clip(0)  # DATA BUG\n",
    "df_table['Fatality Rate'] = (100 * df_table['Deaths'] / df_table['Cases']).round(1)\n",
    "df_table['Continent'] = df_table['Country/Region'].map(mapping['map.continent'])\n",
    "df_table.head(5)"
   ]
  },
  {
   "cell_type": "code",
   "execution_count": 16,
   "id": "fewer-occasion",
   "metadata": {
    "execution": {
     "iopub.execute_input": "2021-07-05T00:18:53.744562Z",
     "iopub.status.busy": "2021-07-05T00:18:53.743982Z",
     "iopub.status.idle": "2021-07-05T00:18:53.746293Z",
     "shell.execute_reply": "2021-07-05T00:18:53.746761Z"
    },
    "papermill": {
     "duration": 0.042459,
     "end_time": "2021-07-05T00:18:53.746896",
     "exception": false,
     "start_time": "2021-07-05T00:18:53.704437",
     "status": "completed"
    },
    "tags": []
   },
   "outputs": [],
   "source": [
    "#hide\n",
    "#delete problematic countries from table\n",
    "df_table = df_table[~df_table['Country/Region'].isin(['Cape Verde', 'Cruise Ship', 'Kosovo'])]"
   ]
  },
  {
   "cell_type": "code",
   "execution_count": 17,
   "id": "related-center",
   "metadata": {
    "execution": {
     "iopub.execute_input": "2021-07-05T00:18:53.830501Z",
     "iopub.status.busy": "2021-07-05T00:18:53.829923Z",
     "iopub.status.idle": "2021-07-05T00:18:53.840100Z",
     "shell.execute_reply": "2021-07-05T00:18:53.839596Z"
    },
    "papermill": {
     "duration": 0.059217,
     "end_time": "2021-07-05T00:18:53.840221",
     "exception": false,
     "start_time": "2021-07-05T00:18:53.781004",
     "status": "completed"
    },
    "tags": []
   },
   "outputs": [],
   "source": [
    "#hide\n",
    "metrics = [df_table.columns[index] for index in [1,2,5,6]]\n",
    "# s_china = df_table[df_table['Country/Region'].eq('China')][metrics].sum().add_prefix('China ')\n",
    "s_us = df_table[df_table['Country/Region'].eq('US')][metrics].sum().add_prefix('US ')\n",
    "s_eu = df_table[df_table['Continent'].eq('Europe')][metrics].sum().add_prefix('EU ')\n",
    "s_ind = df_table[df_table['Country/Region'].eq('India')][metrics].sum().add_prefix('India ')\n",
    "summary = {'updated': pd.to_datetime(dt_today), 'since': pd.to_datetime(dt_yday)}\n",
    "summary = {'updated': pd.to_datetime(dt_today), 'since': pd.to_datetime(dt_yday)}\n",
    "summary = {**summary, **df_table[metrics].sum(), **s_ind, **s_us, **s_eu}"
   ]
  },
  {
   "cell_type": "code",
   "execution_count": 18,
   "id": "engaging-syndrome",
   "metadata": {
    "execution": {
     "iopub.execute_input": "2021-07-05T00:18:53.914236Z",
     "iopub.status.busy": "2021-07-05T00:18:53.913664Z",
     "iopub.status.idle": "2021-07-05T00:18:53.927288Z",
     "shell.execute_reply": "2021-07-05T00:18:53.926818Z"
    },
    "papermill": {
     "duration": 0.052778,
     "end_time": "2021-07-05T00:18:53.927415",
     "exception": false,
     "start_time": "2021-07-05T00:18:53.874637",
     "status": "completed"
    },
    "tags": []
   },
   "outputs": [],
   "source": [
    "#hide\n",
    "dft_ct_new_cases = dft_cases.groupby(COL_REGION)[dt_cols].sum().diff(axis=1).fillna(0).astype(int)"
   ]
  },
  {
   "cell_type": "code",
   "execution_count": 19,
   "id": "neutral-assignment",
   "metadata": {
    "execution": {
     "iopub.execute_input": "2021-07-05T00:18:53.998526Z",
     "iopub.status.busy": "2021-07-05T00:18:53.998022Z",
     "iopub.status.idle": "2021-07-05T00:18:54.001515Z",
     "shell.execute_reply": "2021-07-05T00:18:54.001963Z"
    },
    "papermill": {
     "duration": 0.04194,
     "end_time": "2021-07-05T00:18:54.002091",
     "exception": false,
     "start_time": "2021-07-05T00:18:53.960151",
     "status": "completed"
    },
    "tags": []
   },
   "outputs": [],
   "source": [
    "#hide\n",
    "everydaycases = dft_ct_new_cases.cumsum(axis=1)"
   ]
  },
  {
   "cell_type": "code",
   "execution_count": 20,
   "id": "parliamentary-calgary",
   "metadata": {
    "execution": {
     "iopub.execute_input": "2021-07-05T00:18:54.074393Z",
     "iopub.status.busy": "2021-07-05T00:18:54.073808Z",
     "iopub.status.idle": "2021-07-05T00:18:54.640990Z",
     "shell.execute_reply": "2021-07-05T00:18:54.640319Z"
    },
    "papermill": {
     "duration": 0.605928,
     "end_time": "2021-07-05T00:18:54.641118",
     "exception": false,
     "start_time": "2021-07-05T00:18:54.035190",
     "status": "completed"
    },
    "tags": []
   },
   "outputs": [],
   "source": [
    "#hide\n",
    "import pandas as pd\n",
    "import matplotlib.pyplot as plt\n",
    "import matplotlib.ticker as ticker\n",
    "import matplotlib.animation as animation\n",
    "from IPython.display import HTML"
   ]
  },
  {
   "cell_type": "code",
   "execution_count": 21,
   "id": "lasting-extraction",
   "metadata": {
    "execution": {
     "iopub.execute_input": "2021-07-05T00:18:54.718206Z",
     "iopub.status.busy": "2021-07-05T00:18:54.717650Z",
     "iopub.status.idle": "2021-07-05T00:18:54.720358Z",
     "shell.execute_reply": "2021-07-05T00:18:54.719878Z"
    },
    "papermill": {
     "duration": 0.044918,
     "end_time": "2021-07-05T00:18:54.720479",
     "exception": false,
     "start_time": "2021-07-05T00:18:54.675561",
     "status": "completed"
    },
    "tags": []
   },
   "outputs": [],
   "source": [
    "#hide\n",
    "t = everydaycases.stack()"
   ]
  },
  {
   "cell_type": "code",
   "execution_count": 22,
   "id": "premier-sleeve",
   "metadata": {
    "execution": {
     "iopub.execute_input": "2021-07-05T00:18:54.793572Z",
     "iopub.status.busy": "2021-07-05T00:18:54.792993Z",
     "iopub.status.idle": "2021-07-05T00:18:54.803469Z",
     "shell.execute_reply": "2021-07-05T00:18:54.803958Z"
    },
    "papermill": {
     "duration": 0.049662,
     "end_time": "2021-07-05T00:18:54.804087",
     "exception": false,
     "start_time": "2021-07-05T00:18:54.754425",
     "status": "completed"
    },
    "tags": []
   },
   "outputs": [],
   "source": [
    "#hide\n",
    "g = t.reset_index(['Country/Region'])"
   ]
  },
  {
   "cell_type": "code",
   "execution_count": 23,
   "id": "distributed-pittsburgh",
   "metadata": {
    "execution": {
     "iopub.execute_input": "2021-07-05T00:18:54.874505Z",
     "iopub.status.busy": "2021-07-05T00:18:54.873977Z",
     "iopub.status.idle": "2021-07-05T00:18:54.876370Z",
     "shell.execute_reply": "2021-07-05T00:18:54.876950Z"
    },
    "papermill": {
     "duration": 0.039824,
     "end_time": "2021-07-05T00:18:54.877083",
     "exception": false,
     "start_time": "2021-07-05T00:18:54.837259",
     "status": "completed"
    },
    "tags": []
   },
   "outputs": [],
   "source": [
    "#hide\n",
    "g.index.name = 'date'"
   ]
  },
  {
   "cell_type": "code",
   "execution_count": 24,
   "id": "naked-donor",
   "metadata": {
    "execution": {
     "iopub.execute_input": "2021-07-05T00:18:54.949140Z",
     "iopub.status.busy": "2021-07-05T00:18:54.948544Z",
     "iopub.status.idle": "2021-07-05T00:18:54.950920Z",
     "shell.execute_reply": "2021-07-05T00:18:54.951462Z"
    },
    "papermill": {
     "duration": 0.040746,
     "end_time": "2021-07-05T00:18:54.951589",
     "exception": false,
     "start_time": "2021-07-05T00:18:54.910843",
     "status": "completed"
    },
    "tags": []
   },
   "outputs": [],
   "source": [
    "# #hide\n",
    "# g = g.reset_index(['date'])"
   ]
  },
  {
   "cell_type": "code",
   "execution_count": 25,
   "id": "incomplete-mustang",
   "metadata": {
    "execution": {
     "iopub.execute_input": "2021-07-05T00:18:55.026065Z",
     "iopub.status.busy": "2021-07-05T00:18:55.025490Z",
     "iopub.status.idle": "2021-07-05T00:18:55.027737Z",
     "shell.execute_reply": "2021-07-05T00:18:55.028202Z"
    },
    "papermill": {
     "duration": 0.042201,
     "end_time": "2021-07-05T00:18:55.028333",
     "exception": false,
     "start_time": "2021-07-05T00:18:54.986132",
     "status": "completed"
    },
    "tags": []
   },
   "outputs": [],
   "source": [
    "#hide\n",
    "# g.head()"
   ]
  },
  {
   "cell_type": "code",
   "execution_count": 26,
   "id": "specific-kruger",
   "metadata": {
    "execution": {
     "iopub.execute_input": "2021-07-05T00:18:55.102537Z",
     "iopub.status.busy": "2021-07-05T00:18:55.101954Z",
     "iopub.status.idle": "2021-07-05T00:18:55.104779Z",
     "shell.execute_reply": "2021-07-05T00:18:55.104290Z"
    },
    "papermill": {
     "duration": 0.041931,
     "end_time": "2021-07-05T00:18:55.104890",
     "exception": false,
     "start_time": "2021-07-05T00:18:55.062959",
     "status": "completed"
    },
    "tags": []
   },
   "outputs": [],
   "source": [
    "#hide\n",
    "# g.columns = ['date','country','cases']"
   ]
  },
  {
   "cell_type": "code",
   "execution_count": 27,
   "id": "tender-conversion",
   "metadata": {
    "execution": {
     "iopub.execute_input": "2021-07-05T00:18:55.177793Z",
     "iopub.status.busy": "2021-07-05T00:18:55.177223Z",
     "iopub.status.idle": "2021-07-05T00:18:55.178957Z",
     "shell.execute_reply": "2021-07-05T00:18:55.179445Z"
    },
    "papermill": {
     "duration": 0.040298,
     "end_time": "2021-07-05T00:18:55.179577",
     "exception": false,
     "start_time": "2021-07-05T00:18:55.139279",
     "status": "completed"
    },
    "tags": []
   },
   "outputs": [],
   "source": [
    "#hide\n",
    "# g['continent'] = g.country"
   ]
  },
  {
   "cell_type": "code",
   "execution_count": 28,
   "id": "substantial-wilderness",
   "metadata": {
    "execution": {
     "iopub.execute_input": "2021-07-05T00:18:55.253284Z",
     "iopub.status.busy": "2021-07-05T00:18:55.252708Z",
     "iopub.status.idle": "2021-07-05T00:18:55.255058Z",
     "shell.execute_reply": "2021-07-05T00:18:55.254569Z"
    },
    "papermill": {
     "duration": 0.040758,
     "end_time": "2021-07-05T00:18:55.255172",
     "exception": false,
     "start_time": "2021-07-05T00:18:55.214414",
     "status": "completed"
    },
    "tags": []
   },
   "outputs": [],
   "source": [
    "#hide\n",
    "# cols = list(g.columns.values)"
   ]
  },
  {
   "cell_type": "code",
   "execution_count": 29,
   "id": "solved-farming",
   "metadata": {
    "execution": {
     "iopub.execute_input": "2021-07-05T00:18:55.328545Z",
     "iopub.status.busy": "2021-07-05T00:18:55.327955Z",
     "iopub.status.idle": "2021-07-05T00:18:55.330174Z",
     "shell.execute_reply": "2021-07-05T00:18:55.329688Z"
    },
    "papermill": {
     "duration": 0.040335,
     "end_time": "2021-07-05T00:18:55.330289",
     "exception": false,
     "start_time": "2021-07-05T00:18:55.289954",
     "status": "completed"
    },
    "tags": []
   },
   "outputs": [],
   "source": [
    "#hide\n",
    "# cols.insert(0, cols.pop())"
   ]
  },
  {
   "cell_type": "code",
   "execution_count": 30,
   "id": "executed-adoption",
   "metadata": {
    "execution": {
     "iopub.execute_input": "2021-07-05T00:18:55.404200Z",
     "iopub.status.busy": "2021-07-05T00:18:55.403588Z",
     "iopub.status.idle": "2021-07-05T00:18:55.406262Z",
     "shell.execute_reply": "2021-07-05T00:18:55.406808Z"
    },
    "papermill": {
     "duration": 0.041938,
     "end_time": "2021-07-05T00:18:55.406940",
     "exception": false,
     "start_time": "2021-07-05T00:18:55.365002",
     "status": "completed"
    },
    "tags": []
   },
   "outputs": [],
   "source": [
    "#hide\n",
    "# g = g[cols]"
   ]
  },
  {
   "cell_type": "code",
   "execution_count": 31,
   "id": "subject-dublin",
   "metadata": {
    "execution": {
     "iopub.execute_input": "2021-07-05T00:18:55.480715Z",
     "iopub.status.busy": "2021-07-05T00:18:55.480146Z",
     "iopub.status.idle": "2021-07-05T00:18:55.482609Z",
     "shell.execute_reply": "2021-07-05T00:18:55.482156Z"
    },
    "papermill": {
     "duration": 0.041235,
     "end_time": "2021-07-05T00:18:55.482712",
     "exception": false,
     "start_time": "2021-07-05T00:18:55.441477",
     "status": "completed"
    },
    "tags": []
   },
   "outputs": [],
   "source": [
    "#hide\n",
    "# g['continent'] = g['continent'].map(mapping['map.continent'])"
   ]
  },
  {
   "cell_type": "code",
   "execution_count": 32,
   "id": "freelance-scout",
   "metadata": {
    "execution": {
     "iopub.execute_input": "2021-07-05T00:18:55.553587Z",
     "iopub.status.busy": "2021-07-05T00:18:55.553011Z",
     "iopub.status.idle": "2021-07-05T00:18:55.555160Z",
     "shell.execute_reply": "2021-07-05T00:18:55.555714Z"
    },
    "papermill": {
     "duration": 0.039252,
     "end_time": "2021-07-05T00:18:55.555839",
     "exception": false,
     "start_time": "2021-07-05T00:18:55.516587",
     "status": "completed"
    },
    "tags": []
   },
   "outputs": [],
   "source": [
    "#hide\n",
    "# g.head()"
   ]
  },
  {
   "cell_type": "code",
   "execution_count": 33,
   "id": "limited-engine",
   "metadata": {
    "execution": {
     "iopub.execute_input": "2021-07-05T00:18:55.626730Z",
     "iopub.status.busy": "2021-07-05T00:18:55.626159Z",
     "iopub.status.idle": "2021-07-05T00:18:55.628592Z",
     "shell.execute_reply": "2021-07-05T00:18:55.628130Z"
    },
    "papermill": {
     "duration": 0.038481,
     "end_time": "2021-07-05T00:18:55.628708",
     "exception": false,
     "start_time": "2021-07-05T00:18:55.590227",
     "status": "completed"
    },
    "tags": []
   },
   "outputs": [],
   "source": [
    "# hide\n",
    "# g['date'] = g['date'].astype('datetime64[ns]')"
   ]
  },
  {
   "cell_type": "code",
   "execution_count": 34,
   "id": "sophisticated-supervisor",
   "metadata": {
    "execution": {
     "iopub.execute_input": "2021-07-05T00:18:55.701219Z",
     "iopub.status.busy": "2021-07-05T00:18:55.700688Z",
     "iopub.status.idle": "2021-07-05T00:18:55.703005Z",
     "shell.execute_reply": "2021-07-05T00:18:55.703529Z"
    },
    "papermill": {
     "duration": 0.040659,
     "end_time": "2021-07-05T00:18:55.703667",
     "exception": false,
     "start_time": "2021-07-05T00:18:55.663008",
     "status": "completed"
    },
    "tags": []
   },
   "outputs": [],
   "source": [
    "#hide\n",
    "# g['date'] = g.date.dt.dayofyear"
   ]
  },
  {
   "cell_type": "code",
   "execution_count": 35,
   "id": "inside-dubai",
   "metadata": {
    "execution": {
     "iopub.execute_input": "2021-07-05T00:18:55.773586Z",
     "iopub.status.busy": "2021-07-05T00:18:55.773055Z",
     "iopub.status.idle": "2021-07-05T00:18:55.775467Z",
     "shell.execute_reply": "2021-07-05T00:18:55.776047Z"
    },
    "papermill": {
     "duration": 0.04016,
     "end_time": "2021-07-05T00:18:55.776170",
     "exception": false,
     "start_time": "2021-07-05T00:18:55.736010",
     "status": "completed"
    },
    "tags": []
   },
   "outputs": [],
   "source": [
    "#hide\n",
    "# g = g.rename(columns= {'continent':'group','country':'name','cases':'value'})"
   ]
  },
  {
   "cell_type": "code",
   "execution_count": 36,
   "id": "fleet-motorcycle",
   "metadata": {
    "execution": {
     "iopub.execute_input": "2021-07-05T00:18:55.846439Z",
     "iopub.status.busy": "2021-07-05T00:18:55.845851Z",
     "iopub.status.idle": "2021-07-05T00:18:55.848342Z",
     "shell.execute_reply": "2021-07-05T00:18:55.847851Z"
    },
    "papermill": {
     "duration": 0.039775,
     "end_time": "2021-07-05T00:18:55.848449",
     "exception": false,
     "start_time": "2021-07-05T00:18:55.808674",
     "status": "completed"
    },
    "tags": []
   },
   "outputs": [],
   "source": [
    "#hide\n",
    "# cols = ['name','group','day','value']"
   ]
  },
  {
   "cell_type": "code",
   "execution_count": 37,
   "id": "continued-sleeping",
   "metadata": {
    "execution": {
     "iopub.execute_input": "2021-07-05T00:18:55.921179Z",
     "iopub.status.busy": "2021-07-05T00:18:55.920604Z",
     "iopub.status.idle": "2021-07-05T00:18:55.922811Z",
     "shell.execute_reply": "2021-07-05T00:18:55.923315Z"
    },
    "papermill": {
     "duration": 0.040944,
     "end_time": "2021-07-05T00:18:55.923438",
     "exception": false,
     "start_time": "2021-07-05T00:18:55.882494",
     "status": "completed"
    },
    "tags": []
   },
   "outputs": [],
   "source": [
    "#hide\n",
    "# g.rename(columns= {'date':'day'},inplace = True)"
   ]
  },
  {
   "cell_type": "code",
   "execution_count": 38,
   "id": "major-fight",
   "metadata": {
    "execution": {
     "iopub.execute_input": "2021-07-05T00:18:55.993760Z",
     "iopub.status.busy": "2021-07-05T00:18:55.993189Z",
     "iopub.status.idle": "2021-07-05T00:18:55.995556Z",
     "shell.execute_reply": "2021-07-05T00:18:55.996124Z"
    },
    "papermill": {
     "duration": 0.039645,
     "end_time": "2021-07-05T00:18:55.996257",
     "exception": false,
     "start_time": "2021-07-05T00:18:55.956612",
     "status": "completed"
    },
    "tags": []
   },
   "outputs": [],
   "source": [
    "#hide\n",
    "# g = g[cols]"
   ]
  },
  {
   "cell_type": "code",
   "execution_count": 39,
   "id": "structured-mobile",
   "metadata": {
    "execution": {
     "iopub.execute_input": "2021-07-05T00:18:56.064791Z",
     "iopub.status.busy": "2021-07-05T00:18:56.064261Z",
     "iopub.status.idle": "2021-07-05T00:18:56.066635Z",
     "shell.execute_reply": "2021-07-05T00:18:56.067178Z"
    },
    "papermill": {
     "duration": 0.039597,
     "end_time": "2021-07-05T00:18:56.067306",
     "exception": false,
     "start_time": "2021-07-05T00:18:56.027709",
     "status": "completed"
    },
    "tags": []
   },
   "outputs": [],
   "source": [
    "# #hide\n",
    "# g = g[g.group.notna()]"
   ]
  },
  {
   "cell_type": "code",
   "execution_count": 40,
   "id": "determined-closing",
   "metadata": {
    "execution": {
     "iopub.execute_input": "2021-07-05T00:18:56.140260Z",
     "iopub.status.busy": "2021-07-05T00:18:56.139644Z",
     "iopub.status.idle": "2021-07-05T00:18:56.141995Z",
     "shell.execute_reply": "2021-07-05T00:18:56.142558Z"
    },
    "papermill": {
     "duration": 0.041163,
     "end_time": "2021-07-05T00:18:56.142684",
     "exception": false,
     "start_time": "2021-07-05T00:18:56.101521",
     "status": "completed"
    },
    "tags": []
   },
   "outputs": [],
   "source": [
    "# #hide\n",
    "# colors = dict(zip(\n",
    "#     [\"Oceania\", \"Europe\", \"Asia\", \"South America\", \"Middle East\", \"North America\", \"Africa\"],\n",
    "#     [\"#adb0ff\", \"#ffb3ff\", \"#90d595\", \"#e48381\", \"#aafbff\", \"#f7bb5f\", \"#eafb50\"]\n",
    "# ))\n",
    "# group_lk = g.set_index('name')['group'].to_dict()"
   ]
  },
  {
   "cell_type": "code",
   "execution_count": null,
   "id": "gross-drinking",
   "metadata": {
    "papermill": {
     "duration": 0.033733,
     "end_time": "2021-07-05T00:18:56.209067",
     "exception": false,
     "start_time": "2021-07-05T00:18:56.175334",
     "status": "completed"
    },
    "tags": []
   },
   "outputs": [],
   "source": []
  },
  {
   "cell_type": "code",
   "execution_count": 41,
   "id": "subject-macintosh",
   "metadata": {
    "execution": {
     "iopub.execute_input": "2021-07-05T00:18:56.281737Z",
     "iopub.status.busy": "2021-07-05T00:18:56.281138Z",
     "iopub.status.idle": "2021-07-05T00:18:56.284377Z",
     "shell.execute_reply": "2021-07-05T00:18:56.283906Z"
    },
    "papermill": {
     "duration": 0.040999,
     "end_time": "2021-07-05T00:18:56.284493",
     "exception": false,
     "start_time": "2021-07-05T00:18:56.243494",
     "status": "completed"
    },
    "tags": []
   },
   "outputs": [],
   "source": [
    "# #hide\n",
    "# fig, ax = plt.subplots(figsize=(15, 8))\n",
    "\n",
    "# def draw_barchart(current_day):\n",
    "#     dff = g[g['day'].eq(current_day)].sort_values(by='value', ascending=True).tail(10)\n",
    "#     ax.clear()\n",
    "#     ax.barh(dff['name'], dff['value'], color=[colors[group_lk[x]] for x in dff['name']])\n",
    "#     dx = dff['value'].max() / 200\n",
    "    \n",
    "#     for i, (value, name) in enumerate(zip(dff['value'], dff['name'])):\n",
    "#         ax.text(value-dx, i,     name,           size=14, weight=600, ha='right', va='bottom')\n",
    "#         ax.text(value-dx, i-.25, group_lk[name], size=10, color='#444444', ha='right', va='baseline')\n",
    "#         ax.text(value+dx, i,     f'{value:,.0f}',  size=14, ha='left',  va='center')\n",
    "#     ax.text(1, 0.4, current_day, transform=ax.transAxes, color='#777777', size=46, ha='right', weight=800)\n",
    "#     ax.text(0, 1.06, 'Population (thousands)', transform=ax.transAxes, size=12, color='#777777')\n",
    "#     ax.xaxis.set_major_formatter(ticker.StrMethodFormatter('{x:,.0f}'))\n",
    "#     ax.xaxis.set_ticks_position('top')\n",
    "#     ax.tick_params(axis='x', colors='#777777', labelsize=12)\n",
    "#     ax.set_yticks([])\n",
    "#     ax.margins(0, 0.01)\n",
    "#     ax.grid(which='major', axis='x', linestyle='-')\n",
    "#     ax.set_axisbelow(True)\n",
    "    \n",
    "#     ax.text(0, 1.15, 'Coronavirus',\n",
    "#             transform=ax.transAxes, size=24, weight=600, ha='left', va='top')\n",
    "# #     ax.text(1, 0, 'by @pratapvardhan; credit @jburnmurdoch', transform=ax.transAxes, color='#777777', ha='right',\n",
    "# #             bbox=dict(facecolor='white', alpha=0.8, edgecolor='white'))\n",
    "#     plt.box(False)"
   ]
  },
  {
   "cell_type": "code",
   "execution_count": 42,
   "id": "sexual-wages",
   "metadata": {
    "execution": {
     "iopub.execute_input": "2021-07-05T00:18:56.354701Z",
     "iopub.status.busy": "2021-07-05T00:18:56.354141Z",
     "iopub.status.idle": "2021-07-05T00:18:56.356780Z",
     "shell.execute_reply": "2021-07-05T00:18:56.356316Z"
    },
    "papermill": {
     "duration": 0.038872,
     "end_time": "2021-07-05T00:18:56.356895",
     "exception": false,
     "start_time": "2021-07-05T00:18:56.318023",
     "status": "completed"
    },
    "tags": []
   },
   "outputs": [],
   "source": [
    "# #hide_input\n",
    "# fig, ax = plt.subplots(figsize=(15, 8))\n",
    "# animator = animation.FuncAnimation(fig, draw_barchart, frames=range(g.day.values.min(), g.day.values.max()))\n",
    "# HTML(animator.to_jshtml())\n",
    "# # or use animator.to_html5_video() or animator.save() "
   ]
  },
  {
   "cell_type": "code",
   "execution_count": null,
   "id": "australian-container",
   "metadata": {
    "papermill": {
     "duration": 0.032843,
     "end_time": "2021-07-05T00:18:56.422216",
     "exception": false,
     "start_time": "2021-07-05T00:18:56.389373",
     "status": "completed"
    },
    "tags": []
   },
   "outputs": [],
   "source": []
  },
  {
   "cell_type": "code",
   "execution_count": null,
   "id": "mediterranean-pontiac",
   "metadata": {
    "papermill": {
     "duration": 0.033235,
     "end_time": "2021-07-05T00:18:56.489336",
     "exception": false,
     "start_time": "2021-07-05T00:18:56.456101",
     "status": "completed"
    },
    "tags": []
   },
   "outputs": [],
   "source": []
  },
  {
   "cell_type": "code",
   "execution_count": null,
   "id": "aging-legislature",
   "metadata": {
    "papermill": {
     "duration": 0.031342,
     "end_time": "2021-07-05T00:18:56.553275",
     "exception": false,
     "start_time": "2021-07-05T00:18:56.521933",
     "status": "completed"
    },
    "tags": []
   },
   "outputs": [],
   "source": []
  }
 ],
 "metadata": {
  "kernelspec": {
   "display_name": "Python 3",
   "language": "python",
   "name": "python3"
  },
  "language_info": {
   "codemirror_mode": {
    "name": "ipython",
    "version": 3
   },
   "file_extension": ".py",
   "mimetype": "text/x-python",
   "name": "python",
   "nbconvert_exporter": "python",
   "pygments_lexer": "ipython3",
   "version": "3.6.13"
  },
  "papermill": {
   "duration": 6.170811,
   "end_time": "2021-07-05T00:18:56.896773",
   "environment_variables": {},
   "exception": null,
   "input_path": "2020-03-21-covid19exp.ipynb",
   "output_path": "2020-03-21-covid19exp.ipynb",
   "parameters": {},
   "start_time": "2021-07-05T00:18:50.725962",
   "version": "2.0.0"
  }
 },
 "nbformat": 4,
 "nbformat_minor": 5
}