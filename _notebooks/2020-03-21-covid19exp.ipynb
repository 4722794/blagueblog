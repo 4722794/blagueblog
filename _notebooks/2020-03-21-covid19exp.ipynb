{
 "cells": [
  {
   "cell_type": "markdown",
   "id": "muslim-click",
   "metadata": {
    "papermill": {
     "duration": 0.032829,
     "end_time": "2022-03-03T12:15:13.799310",
     "exception": false,
     "start_time": "2022-03-03T12:15:13.766481",
     "status": "completed"
    },
    "tags": []
   },
   "source": [
    "# COVID-19 Case Race\n",
    "> A race chart to see rising cases around the world\n",
    "\n",
    "- author: Hargun Oberoi\n",
    "- image: images/covid-overview.png\n",
    "- hide: false\n",
    "- badges: false"
   ]
  },
  {
   "cell_type": "code",
   "execution_count": 1,
   "id": "proof-material",
   "metadata": {
    "execution": {
     "iopub.execute_input": "2022-03-03T12:15:13.868481Z",
     "iopub.status.busy": "2022-03-03T12:15:13.861135Z",
     "iopub.status.idle": "2022-03-03T12:15:14.183831Z",
     "shell.execute_reply": "2022-03-03T12:15:14.183342Z"
    },
    "papermill": {
     "duration": 0.353938,
     "end_time": "2022-03-03T12:15:14.183966",
     "exception": false,
     "start_time": "2022-03-03T12:15:13.830028",
     "status": "completed"
    },
    "tags": []
   },
   "outputs": [],
   "source": [
    "#hide\n",
    "import numpy as np\n",
    "import pandas as pd\n",
    "from jinja2 import Template\n",
    "from IPython.display import HTML"
   ]
  },
  {
   "cell_type": "code",
   "execution_count": 2,
   "id": "developed-terminology",
   "metadata": {
    "execution": {
     "iopub.execute_input": "2022-03-03T12:15:14.247410Z",
     "iopub.status.busy": "2022-03-03T12:15:14.246885Z",
     "iopub.status.idle": "2022-03-03T12:15:14.248960Z",
     "shell.execute_reply": "2022-03-03T12:15:14.248415Z"
    },
    "papermill": {
     "duration": 0.035632,
     "end_time": "2022-03-03T12:15:14.249075",
     "exception": false,
     "start_time": "2022-03-03T12:15:14.213443",
     "status": "completed"
    },
    "tags": []
   },
   "outputs": [],
   "source": [
    "#hide\n",
    "\n",
    "# FETCH\n",
    "base_url = 'https://raw.githubusercontent.com/pratapvardhan/notebooks/master/covid19/'\n",
    "paths = {\n",
    "    'mapping': base_url + 'mapping_countries.csv',\n",
    "    'overview': base_url + 'overview.tpl'\n",
    "}"
   ]
  },
  {
   "cell_type": "code",
   "execution_count": 3,
   "id": "dynamic-saver",
   "metadata": {
    "execution": {
     "iopub.execute_input": "2022-03-03T12:15:14.316630Z",
     "iopub.status.busy": "2022-03-03T12:15:14.314423Z",
     "iopub.status.idle": "2022-03-03T12:15:14.318966Z",
     "shell.execute_reply": "2022-03-03T12:15:14.319428Z"
    },
    "papermill": {
     "duration": 0.041425,
     "end_time": "2022-03-03T12:15:14.319547",
     "exception": false,
     "start_time": "2022-03-03T12:15:14.278122",
     "status": "completed"
    },
    "tags": []
   },
   "outputs": [
    {
     "data": {
      "text/plain": [
       "'https://raw.githubusercontent.com/pratapvardhan/notebooks/master/covid19/mapping_countries.csv'"
      ]
     },
     "execution_count": 3,
     "metadata": {},
     "output_type": "execute_result"
    }
   ],
   "source": [
    "#hide\n",
    "paths['mapping']"
   ]
  },
  {
   "cell_type": "code",
   "execution_count": 4,
   "id": "urban-software",
   "metadata": {
    "execution": {
     "iopub.execute_input": "2022-03-03T12:15:14.382864Z",
     "iopub.status.busy": "2022-03-03T12:15:14.382295Z",
     "iopub.status.idle": "2022-03-03T12:15:14.384426Z",
     "shell.execute_reply": "2022-03-03T12:15:14.383947Z"
    },
    "papermill": {
     "duration": 0.035664,
     "end_time": "2022-03-03T12:15:14.384558",
     "exception": false,
     "start_time": "2022-03-03T12:15:14.348894",
     "status": "completed"
    },
    "tags": []
   },
   "outputs": [],
   "source": [
    "#hide\n",
    "def get_mappings(url):\n",
    "    df = pd.read_csv(url)\n",
    "    return {\n",
    "        'df': df,\n",
    "        'replace.country': dict(df.dropna(subset=['Name']).set_index('Country')['Name']),\n",
    "        'map.continent': dict(df.set_index('Name')['Continent'])\n",
    "    }"
   ]
  },
  {
   "cell_type": "code",
   "execution_count": 5,
   "id": "intimate-machinery",
   "metadata": {
    "execution": {
     "iopub.execute_input": "2022-03-03T12:15:14.447789Z",
     "iopub.status.busy": "2022-03-03T12:15:14.447290Z",
     "iopub.status.idle": "2022-03-03T12:15:14.508075Z",
     "shell.execute_reply": "2022-03-03T12:15:14.507613Z"
    },
    "papermill": {
     "duration": 0.094281,
     "end_time": "2022-03-03T12:15:14.508192",
     "exception": false,
     "start_time": "2022-03-03T12:15:14.413911",
     "status": "completed"
    },
    "tags": []
   },
   "outputs": [],
   "source": [
    "#hide\n",
    "mapping = get_mappings(paths['mapping'])"
   ]
  },
  {
   "cell_type": "code",
   "execution_count": 6,
   "id": "certified-tactics",
   "metadata": {
    "execution": {
     "iopub.execute_input": "2022-03-03T12:15:14.571573Z",
     "iopub.status.busy": "2022-03-03T12:15:14.571070Z",
     "iopub.status.idle": "2022-03-03T12:15:14.574427Z",
     "shell.execute_reply": "2022-03-03T12:15:14.574809Z"
    },
    "papermill": {
     "duration": 0.037213,
     "end_time": "2022-03-03T12:15:14.574925",
     "exception": false,
     "start_time": "2022-03-03T12:15:14.537712",
     "status": "completed"
    },
    "tags": []
   },
   "outputs": [],
   "source": [
    "#hide\n",
    "def get_template(path):\n",
    "    from urllib.parse import urlparse\n",
    "    if bool(urlparse(path).netloc):\n",
    "        from urllib.request import urlopen\n",
    "        return urlopen(path).read().decode('utf8')\n",
    "    return open(path).read()"
   ]
  },
  {
   "cell_type": "code",
   "execution_count": 7,
   "id": "realistic-blast",
   "metadata": {
    "execution": {
     "iopub.execute_input": "2022-03-03T12:15:14.637956Z",
     "iopub.status.busy": "2022-03-03T12:15:14.637384Z",
     "iopub.status.idle": "2022-03-03T12:15:14.639022Z",
     "shell.execute_reply": "2022-03-03T12:15:14.639453Z"
    },
    "papermill": {
     "duration": 0.035308,
     "end_time": "2022-03-03T12:15:14.639583",
     "exception": false,
     "start_time": "2022-03-03T12:15:14.604275",
     "status": "completed"
    },
    "tags": []
   },
   "outputs": [],
   "source": [
    "#hide\n",
    "def get_frame(name):\n",
    "    url = (\n",
    "        'https://raw.githubusercontent.com/CSSEGISandData/COVID-19/master/csse_covid_19_data/'\n",
    "        f'csse_covid_19_time_series/time_series_covid19_{name}_global.csv')\n",
    "    df = pd.read_csv(url)\n",
    "    # rename countries\n",
    "    df['Country/Region'] = df['Country/Region'].replace(mapping['replace.country'])\n",
    "    return df"
   ]
  },
  {
   "cell_type": "code",
   "execution_count": 8,
   "id": "affiliated-characterization",
   "metadata": {
    "execution": {
     "iopub.execute_input": "2022-03-03T12:15:14.703824Z",
     "iopub.status.busy": "2022-03-03T12:15:14.703318Z",
     "iopub.status.idle": "2022-03-03T12:15:14.705640Z",
     "shell.execute_reply": "2022-03-03T12:15:14.705214Z"
    },
    "papermill": {
     "duration": 0.036804,
     "end_time": "2022-03-03T12:15:14.705742",
     "exception": false,
     "start_time": "2022-03-03T12:15:14.668938",
     "status": "completed"
    },
    "tags": []
   },
   "outputs": [],
   "source": [
    "#hide\n",
    "def get_dates(df):\n",
    "    dt_cols = df.columns[~df.columns.isin(['Province/State', 'Country/Region', 'Lat', 'Long'])]\n",
    "    LAST_DATE_I = -1\n",
    "    # sometimes last column may be empty, then go backwards\n",
    "    for i in range(-1, -len(dt_cols), -1):\n",
    "        if not df[dt_cols[i]].fillna(0).eq(0).all():\n",
    "            LAST_DATE_I = i\n",
    "            break\n",
    "    return LAST_DATE_I, dt_cols"
   ]
  },
  {
   "cell_type": "code",
   "execution_count": 9,
   "id": "recent-optimization",
   "metadata": {
    "execution": {
     "iopub.execute_input": "2022-03-03T12:15:14.767971Z",
     "iopub.status.busy": "2022-03-03T12:15:14.767466Z",
     "iopub.status.idle": "2022-03-03T12:15:15.356297Z",
     "shell.execute_reply": "2022-03-03T12:15:15.355777Z"
    },
    "papermill": {
     "duration": 0.621548,
     "end_time": "2022-03-03T12:15:15.356435",
     "exception": false,
     "start_time": "2022-03-03T12:15:14.734887",
     "status": "completed"
    },
    "tags": []
   },
   "outputs": [],
   "source": [
    "#hide\n",
    "COL_REGION = 'Country/Region'\n",
    "# Confirmed, Recovered, Deaths\n",
    "df = get_frame('confirmed')\n",
    "# dft_: timeseries, dfc_: today country agg\n",
    "dft_cases = df\n",
    "dft_deaths = get_frame('deaths')\n",
    "dft_recovered = get_frame('recovered')\n",
    "LAST_DATE_I, dt_cols = get_dates(df)"
   ]
  },
  {
   "cell_type": "code",
   "execution_count": 10,
   "id": "absolute-copper",
   "metadata": {
    "execution": {
     "iopub.execute_input": "2022-03-03T12:15:15.421530Z",
     "iopub.status.busy": "2022-03-03T12:15:15.420932Z",
     "iopub.status.idle": "2022-03-03T12:15:15.422430Z",
     "shell.execute_reply": "2022-03-03T12:15:15.422850Z"
    },
    "papermill": {
     "duration": 0.036124,
     "end_time": "2022-03-03T12:15:15.422975",
     "exception": false,
     "start_time": "2022-03-03T12:15:15.386851",
     "status": "completed"
    },
    "tags": []
   },
   "outputs": [],
   "source": [
    "#hide\n",
    "LAST_DATE_I, dt_cols = get_dates(df)\n",
    "dt_today =dt_cols[LAST_DATE_I]\n",
    "# dt_5day = dt_cols[LAST_DATE_I - 5]\n",
    "dt_yday = dt_cols[LAST_DATE_I - 1]"
   ]
  },
  {
   "cell_type": "code",
   "execution_count": 11,
   "id": "restricted-sheriff",
   "metadata": {
    "execution": {
     "iopub.execute_input": "2022-03-03T12:15:15.485925Z",
     "iopub.status.busy": "2022-03-03T12:15:15.485428Z",
     "iopub.status.idle": "2022-03-03T12:15:15.492604Z",
     "shell.execute_reply": "2022-03-03T12:15:15.492158Z"
    },
    "papermill": {
     "duration": 0.040473,
     "end_time": "2022-03-03T12:15:15.492710",
     "exception": false,
     "start_time": "2022-03-03T12:15:15.452237",
     "status": "completed"
    },
    "tags": []
   },
   "outputs": [],
   "source": [
    "#hide\n",
    "dfc_cases = dft_cases.groupby(COL_REGION)[dt_today].sum()\n",
    "dfc_deaths = dft_deaths.groupby(COL_REGION)[dt_today].sum()\n",
    "# dfp_cases = dft_cases.groupby(COL_REGION)[dt_5day].sum()\n",
    "# dfp_deaths = dft_deaths.groupby(COL_REGION)[dt_5day].sum()\n",
    "dfp_cases = dft_cases.groupby(COL_REGION)[dt_yday].sum()\n",
    "dfp_deaths = dft_deaths.groupby(COL_REGION)[dt_yday].sum()"
   ]
  },
  {
   "cell_type": "code",
   "execution_count": 12,
   "id": "deluxe-hepatitis",
   "metadata": {
    "execution": {
     "iopub.execute_input": "2022-03-03T12:15:15.556827Z",
     "iopub.status.busy": "2022-03-03T12:15:15.556306Z",
     "iopub.status.idle": "2022-03-03T12:15:15.560653Z",
     "shell.execute_reply": "2022-03-03T12:15:15.560223Z"
    },
    "papermill": {
     "duration": 0.03877,
     "end_time": "2022-03-03T12:15:15.560762",
     "exception": false,
     "start_time": "2022-03-03T12:15:15.521992",
     "status": "completed"
    },
    "tags": []
   },
   "outputs": [],
   "source": [
    "#hide\n",
    "df_table = (pd.DataFrame(dict(Cases = dfc_cases, Deaths = dfc_deaths, PCases = dfp_cases, PDeaths = dfp_deaths))\n",
    "            .sort_values(by = ['Cases','Deaths'], ascending = [False, False])\n",
    "            .reset_index())"
   ]
  },
  {
   "cell_type": "code",
   "execution_count": 13,
   "id": "educational-chancellor",
   "metadata": {
    "execution": {
     "iopub.execute_input": "2022-03-03T12:15:15.635715Z",
     "iopub.status.busy": "2022-03-03T12:15:15.635217Z",
     "iopub.status.idle": "2022-03-03T12:15:15.642561Z",
     "shell.execute_reply": "2022-03-03T12:15:15.642166Z"
    },
    "papermill": {
     "duration": 0.052771,
     "end_time": "2022-03-03T12:15:15.642661",
     "exception": false,
     "start_time": "2022-03-03T12:15:15.589890",
     "status": "completed"
    },
    "tags": []
   },
   "outputs": [
    {
     "data": {
      "text/html": [
       "<div>\n",
       "<style scoped>\n",
       "    .dataframe tbody tr th:only-of-type {\n",
       "        vertical-align: middle;\n",
       "    }\n",
       "\n",
       "    .dataframe tbody tr th {\n",
       "        vertical-align: top;\n",
       "    }\n",
       "\n",
       "    .dataframe thead th {\n",
       "        text-align: right;\n",
       "    }\n",
       "</style>\n",
       "<table border=\"1\" class=\"dataframe\">\n",
       "  <thead>\n",
       "    <tr style=\"text-align: right;\">\n",
       "      <th></th>\n",
       "      <th>Country/Region</th>\n",
       "      <th>Cases</th>\n",
       "      <th>Deaths</th>\n",
       "      <th>PCases</th>\n",
       "      <th>PDeaths</th>\n",
       "      <th>Cases (+)</th>\n",
       "      <th>Deaths (+)</th>\n",
       "      <th>Fatality Rate</th>\n",
       "      <th>Continent</th>\n",
       "    </tr>\n",
       "  </thead>\n",
       "  <tbody>\n",
       "    <tr>\n",
       "      <th>0</th>\n",
       "      <td>US</td>\n",
       "      <td>79143716</td>\n",
       "      <td>954518</td>\n",
       "      <td>79091361</td>\n",
       "      <td>952423</td>\n",
       "      <td>52355</td>\n",
       "      <td>2095</td>\n",
       "      <td>1.21</td>\n",
       "      <td>North America</td>\n",
       "    </tr>\n",
       "    <tr>\n",
       "      <th>1</th>\n",
       "      <td>India</td>\n",
       "      <td>42945160</td>\n",
       "      <td>514388</td>\n",
       "      <td>42938599</td>\n",
       "      <td>514246</td>\n",
       "      <td>6561</td>\n",
       "      <td>142</td>\n",
       "      <td>1.20</td>\n",
       "      <td>Asia</td>\n",
       "    </tr>\n",
       "    <tr>\n",
       "      <th>2</th>\n",
       "      <td>Brazil</td>\n",
       "      <td>28846495</td>\n",
       "      <td>650254</td>\n",
       "      <td>28818850</td>\n",
       "      <td>649922</td>\n",
       "      <td>27645</td>\n",
       "      <td>332</td>\n",
       "      <td>2.25</td>\n",
       "      <td>South America</td>\n",
       "    </tr>\n",
       "    <tr>\n",
       "      <th>3</th>\n",
       "      <td>France</td>\n",
       "      <td>23017711</td>\n",
       "      <td>139781</td>\n",
       "      <td>22959368</td>\n",
       "      <td>139594</td>\n",
       "      <td>58343</td>\n",
       "      <td>187</td>\n",
       "      <td>0.61</td>\n",
       "      <td>Europe</td>\n",
       "    </tr>\n",
       "    <tr>\n",
       "      <th>4</th>\n",
       "      <td>United Kingdom</td>\n",
       "      <td>19166049</td>\n",
       "      <td>162278</td>\n",
       "      <td>19120746</td>\n",
       "      <td>162203</td>\n",
       "      <td>45303</td>\n",
       "      <td>75</td>\n",
       "      <td>0.85</td>\n",
       "      <td>Europe</td>\n",
       "    </tr>\n",
       "  </tbody>\n",
       "</table>\n",
       "</div>"
      ],
      "text/plain": [
       "   Country/Region     Cases  Deaths    PCases  PDeaths  Cases (+)  Deaths (+)  \\\n",
       "0              US  79143716  954518  79091361   952423      52355        2095   \n",
       "1           India  42945160  514388  42938599   514246       6561         142   \n",
       "2          Brazil  28846495  650254  28818850   649922      27645         332   \n",
       "3          France  23017711  139781  22959368   139594      58343         187   \n",
       "4  United Kingdom  19166049  162278  19120746   162203      45303          75   \n",
       "\n",
       "   Fatality Rate      Continent  \n",
       "0           1.21  North America  \n",
       "1           1.20           Asia  \n",
       "2           2.25  South America  \n",
       "3           0.61         Europe  \n",
       "4           0.85         Europe  "
      ]
     },
     "execution_count": 13,
     "metadata": {},
     "output_type": "execute_result"
    }
   ],
   "source": [
    "#hide\n",
    "for c in 'Cases, Deaths'.split(', '):\n",
    "    df_table[f'{c} (+)'] = (df_table[c] - df_table[f'P{c}']).clip(0)\n",
    "    #Clip ça veut dire, les chiffres negatif sont interdit\n",
    "df_table['Fatality Rate'] = (100* df_table['Deaths']/ df_table['Cases']).round(2)\n",
    "df_table['Continent'] = df_table['Country/Region'].map(mapping['map.continent'])\n",
    "df_table.head(5)"
   ]
  },
  {
   "cell_type": "code",
   "execution_count": 14,
   "id": "aboriginal-bulgaria",
   "metadata": {
    "execution": {
     "iopub.execute_input": "2022-03-03T12:15:15.706880Z",
     "iopub.status.busy": "2022-03-03T12:15:15.706379Z",
     "iopub.status.idle": "2022-03-03T12:15:15.708521Z",
     "shell.execute_reply": "2022-03-03T12:15:15.708096Z"
    },
    "papermill": {
     "duration": 0.036217,
     "end_time": "2022-03-03T12:15:15.708649",
     "exception": false,
     "start_time": "2022-03-03T12:15:15.672432",
     "status": "completed"
    },
    "tags": []
   },
   "outputs": [],
   "source": [
    "#hide\n",
    "#delete problematic countries from table\n",
    "df_table = df_table[~df_table['Country/Region'].isin(['Cape Verde', 'Cruise Ship', 'Kosovo'])]"
   ]
  },
  {
   "cell_type": "code",
   "execution_count": 15,
   "id": "fantastic-effect",
   "metadata": {
    "execution": {
     "iopub.execute_input": "2022-03-03T12:15:15.775111Z",
     "iopub.status.busy": "2022-03-03T12:15:15.774615Z",
     "iopub.status.idle": "2022-03-03T12:15:15.791577Z",
     "shell.execute_reply": "2022-03-03T12:15:15.791100Z"
    },
    "papermill": {
     "duration": 0.05345,
     "end_time": "2022-03-03T12:15:15.791689",
     "exception": false,
     "start_time": "2022-03-03T12:15:15.738239",
     "status": "completed"
    },
    "tags": []
   },
   "outputs": [
    {
     "data": {
      "text/html": [
       "<div>\n",
       "<style scoped>\n",
       "    .dataframe tbody tr th:only-of-type {\n",
       "        vertical-align: middle;\n",
       "    }\n",
       "\n",
       "    .dataframe tbody tr th {\n",
       "        vertical-align: top;\n",
       "    }\n",
       "\n",
       "    .dataframe thead th {\n",
       "        text-align: right;\n",
       "    }\n",
       "</style>\n",
       "<table border=\"1\" class=\"dataframe\">\n",
       "  <thead>\n",
       "    <tr style=\"text-align: right;\">\n",
       "      <th></th>\n",
       "      <th>Country/Region</th>\n",
       "      <th>Cases</th>\n",
       "      <th>Deaths</th>\n",
       "      <th>PCases</th>\n",
       "      <th>PDeaths</th>\n",
       "      <th>Cases (+)</th>\n",
       "      <th>Deaths (+)</th>\n",
       "      <th>Fatality Rate</th>\n",
       "      <th>Continent</th>\n",
       "    </tr>\n",
       "  </thead>\n",
       "  <tbody>\n",
       "    <tr>\n",
       "      <th>0</th>\n",
       "      <td>US</td>\n",
       "      <td>79143716</td>\n",
       "      <td>954518</td>\n",
       "      <td>79091361</td>\n",
       "      <td>952423</td>\n",
       "      <td>52355</td>\n",
       "      <td>2095</td>\n",
       "      <td>1.2</td>\n",
       "      <td>North America</td>\n",
       "    </tr>\n",
       "    <tr>\n",
       "      <th>1</th>\n",
       "      <td>India</td>\n",
       "      <td>42945160</td>\n",
       "      <td>514388</td>\n",
       "      <td>42938599</td>\n",
       "      <td>514246</td>\n",
       "      <td>6561</td>\n",
       "      <td>142</td>\n",
       "      <td>1.2</td>\n",
       "      <td>Asia</td>\n",
       "    </tr>\n",
       "    <tr>\n",
       "      <th>2</th>\n",
       "      <td>Brazil</td>\n",
       "      <td>28846495</td>\n",
       "      <td>650254</td>\n",
       "      <td>28818850</td>\n",
       "      <td>649922</td>\n",
       "      <td>27645</td>\n",
       "      <td>332</td>\n",
       "      <td>2.3</td>\n",
       "      <td>South America</td>\n",
       "    </tr>\n",
       "    <tr>\n",
       "      <th>3</th>\n",
       "      <td>France</td>\n",
       "      <td>23017711</td>\n",
       "      <td>139781</td>\n",
       "      <td>22959368</td>\n",
       "      <td>139594</td>\n",
       "      <td>58343</td>\n",
       "      <td>187</td>\n",
       "      <td>0.6</td>\n",
       "      <td>Europe</td>\n",
       "    </tr>\n",
       "    <tr>\n",
       "      <th>4</th>\n",
       "      <td>United Kingdom</td>\n",
       "      <td>19166049</td>\n",
       "      <td>162278</td>\n",
       "      <td>19120746</td>\n",
       "      <td>162203</td>\n",
       "      <td>45303</td>\n",
       "      <td>75</td>\n",
       "      <td>0.8</td>\n",
       "      <td>Europe</td>\n",
       "    </tr>\n",
       "  </tbody>\n",
       "</table>\n",
       "</div>"
      ],
      "text/plain": [
       "   Country/Region     Cases  Deaths    PCases  PDeaths  Cases (+)  Deaths (+)  \\\n",
       "0              US  79143716  954518  79091361   952423      52355        2095   \n",
       "1           India  42945160  514388  42938599   514246       6561         142   \n",
       "2          Brazil  28846495  650254  28818850   649922      27645         332   \n",
       "3          France  23017711  139781  22959368   139594      58343         187   \n",
       "4  United Kingdom  19166049  162278  19120746   162203      45303          75   \n",
       "\n",
       "   Fatality Rate      Continent  \n",
       "0            1.2  North America  \n",
       "1            1.2           Asia  \n",
       "2            2.3  South America  \n",
       "3            0.6         Europe  \n",
       "4            0.8         Europe  "
      ]
     },
     "execution_count": 15,
     "metadata": {},
     "output_type": "execute_result"
    }
   ],
   "source": [
    "#hide\n",
    "df_table = (pd.DataFrame(dict(Cases=dfc_cases, Deaths=dfc_deaths, PCases=dfp_cases, PDeaths=dfp_deaths))\n",
    "             .sort_values(by=['Cases', 'Deaths'], ascending=[False, False])\n",
    "             .reset_index())\n",
    "df_table.rename(columns={'index': 'Country/Region'}, inplace=True)\n",
    "for c in 'Cases, Deaths'.split(', '):\n",
    "    df_table[f'{c} (+)'] = (df_table[c] - df_table[f'P{c}']).clip(0)  # DATA BUG\n",
    "df_table['Fatality Rate'] = (100 * df_table['Deaths'] / df_table['Cases']).round(1)\n",
    "df_table['Continent'] = df_table['Country/Region'].map(mapping['map.continent'])\n",
    "df_table.head(5)"
   ]
  },
  {
   "cell_type": "code",
   "execution_count": 16,
   "id": "fewer-occasion",
   "metadata": {
    "execution": {
     "iopub.execute_input": "2022-03-03T12:15:15.857955Z",
     "iopub.status.busy": "2022-03-03T12:15:15.857380Z",
     "iopub.status.idle": "2022-03-03T12:15:15.859379Z",
     "shell.execute_reply": "2022-03-03T12:15:15.858985Z"
    },
    "papermill": {
     "duration": 0.036628,
     "end_time": "2022-03-03T12:15:15.859479",
     "exception": false,
     "start_time": "2022-03-03T12:15:15.822851",
     "status": "completed"
    },
    "tags": []
   },
   "outputs": [],
   "source": [
    "#hide\n",
    "#delete problematic countries from table\n",
    "df_table = df_table[~df_table['Country/Region'].isin(['Cape Verde', 'Cruise Ship', 'Kosovo'])]"
   ]
  },
  {
   "cell_type": "code",
   "execution_count": 17,
   "id": "related-center",
   "metadata": {
    "execution": {
     "iopub.execute_input": "2022-03-03T12:15:15.925770Z",
     "iopub.status.busy": "2022-03-03T12:15:15.925270Z",
     "iopub.status.idle": "2022-03-03T12:15:15.938279Z",
     "shell.execute_reply": "2022-03-03T12:15:15.937859Z"
    },
    "papermill": {
     "duration": 0.048837,
     "end_time": "2022-03-03T12:15:15.938377",
     "exception": false,
     "start_time": "2022-03-03T12:15:15.889540",
     "status": "completed"
    },
    "tags": []
   },
   "outputs": [],
   "source": [
    "#hide\n",
    "metrics = [df_table.columns[index] for index in [1,2,5,6]]\n",
    "# s_china = df_table[df_table['Country/Region'].eq('China')][metrics].sum().add_prefix('China ')\n",
    "s_us = df_table[df_table['Country/Region'].eq('US')][metrics].sum().add_prefix('US ')\n",
    "s_eu = df_table[df_table['Continent'].eq('Europe')][metrics].sum().add_prefix('EU ')\n",
    "s_ind = df_table[df_table['Country/Region'].eq('India')][metrics].sum().add_prefix('India ')\n",
    "summary = {'updated': pd.to_datetime(dt_today), 'since': pd.to_datetime(dt_yday)}\n",
    "summary = {'updated': pd.to_datetime(dt_today), 'since': pd.to_datetime(dt_yday)}\n",
    "summary = {**summary, **df_table[metrics].sum(), **s_ind, **s_us, **s_eu}"
   ]
  },
  {
   "cell_type": "code",
   "execution_count": 18,
   "id": "engaging-syndrome",
   "metadata": {
    "execution": {
     "iopub.execute_input": "2022-03-03T12:15:16.003795Z",
     "iopub.status.busy": "2022-03-03T12:15:16.003297Z",
     "iopub.status.idle": "2022-03-03T12:15:16.018828Z",
     "shell.execute_reply": "2022-03-03T12:15:16.019234Z"
    },
    "papermill": {
     "duration": 0.050458,
     "end_time": "2022-03-03T12:15:16.019353",
     "exception": false,
     "start_time": "2022-03-03T12:15:15.968895",
     "status": "completed"
    },
    "tags": []
   },
   "outputs": [],
   "source": [
    "#hide\n",
    "dft_ct_new_cases = dft_cases.groupby(COL_REGION)[dt_cols].sum().diff(axis=1).fillna(0).astype(int)"
   ]
  },
  {
   "cell_type": "code",
   "execution_count": 19,
   "id": "neutral-assignment",
   "metadata": {
    "execution": {
     "iopub.execute_input": "2022-03-03T12:15:16.085316Z",
     "iopub.status.busy": "2022-03-03T12:15:16.084803Z",
     "iopub.status.idle": "2022-03-03T12:15:16.087459Z",
     "shell.execute_reply": "2022-03-03T12:15:16.087941Z"
    },
    "papermill": {
     "duration": 0.038214,
     "end_time": "2022-03-03T12:15:16.088063",
     "exception": false,
     "start_time": "2022-03-03T12:15:16.049849",
     "status": "completed"
    },
    "tags": []
   },
   "outputs": [],
   "source": [
    "#hide\n",
    "everydaycases = dft_ct_new_cases.cumsum(axis=1)"
   ]
  },
  {
   "cell_type": "code",
   "execution_count": 20,
   "id": "parliamentary-calgary",
   "metadata": {
    "execution": {
     "iopub.execute_input": "2022-03-03T12:15:16.153454Z",
     "iopub.status.busy": "2022-03-03T12:15:16.152940Z",
     "iopub.status.idle": "2022-03-03T12:15:16.733805Z",
     "shell.execute_reply": "2022-03-03T12:15:16.733283Z"
    },
    "papermill": {
     "duration": 0.615468,
     "end_time": "2022-03-03T12:15:16.733943",
     "exception": false,
     "start_time": "2022-03-03T12:15:16.118475",
     "status": "completed"
    },
    "tags": []
   },
   "outputs": [],
   "source": [
    "#hide\n",
    "import pandas as pd\n",
    "import matplotlib.pyplot as plt\n",
    "import matplotlib.ticker as ticker\n",
    "import matplotlib.animation as animation\n",
    "from IPython.display import HTML"
   ]
  },
  {
   "cell_type": "code",
   "execution_count": 21,
   "id": "lasting-extraction",
   "metadata": {
    "execution": {
     "iopub.execute_input": "2022-03-03T12:15:16.801342Z",
     "iopub.status.busy": "2022-03-03T12:15:16.800835Z",
     "iopub.status.idle": "2022-03-03T12:15:16.807404Z",
     "shell.execute_reply": "2022-03-03T12:15:16.807002Z"
    },
    "papermill": {
     "duration": 0.042225,
     "end_time": "2022-03-03T12:15:16.807511",
     "exception": false,
     "start_time": "2022-03-03T12:15:16.765286",
     "status": "completed"
    },
    "tags": []
   },
   "outputs": [],
   "source": [
    "#hide\n",
    "t = everydaycases.stack()"
   ]
  },
  {
   "cell_type": "code",
   "execution_count": 22,
   "id": "premier-sleeve",
   "metadata": {
    "execution": {
     "iopub.execute_input": "2022-03-03T12:15:16.873040Z",
     "iopub.status.busy": "2022-03-03T12:15:16.872491Z",
     "iopub.status.idle": "2022-03-03T12:15:16.882537Z",
     "shell.execute_reply": "2022-03-03T12:15:16.882137Z"
    },
    "papermill": {
     "duration": 0.044176,
     "end_time": "2022-03-03T12:15:16.882642",
     "exception": false,
     "start_time": "2022-03-03T12:15:16.838466",
     "status": "completed"
    },
    "tags": []
   },
   "outputs": [],
   "source": [
    "#hide\n",
    "g = t.reset_index(['Country/Region'])"
   ]
  },
  {
   "cell_type": "code",
   "execution_count": 23,
   "id": "distributed-pittsburgh",
   "metadata": {
    "execution": {
     "iopub.execute_input": "2022-03-03T12:15:16.946476Z",
     "iopub.status.busy": "2022-03-03T12:15:16.945975Z",
     "iopub.status.idle": "2022-03-03T12:15:16.949515Z",
     "shell.execute_reply": "2022-03-03T12:15:16.949113Z"
    },
    "papermill": {
     "duration": 0.036913,
     "end_time": "2022-03-03T12:15:16.949619",
     "exception": false,
     "start_time": "2022-03-03T12:15:16.912706",
     "status": "completed"
    },
    "tags": []
   },
   "outputs": [],
   "source": [
    "#hide\n",
    "g.index.name = 'date'"
   ]
  },
  {
   "cell_type": "code",
   "execution_count": 24,
   "id": "naked-donor",
   "metadata": {
    "execution": {
     "iopub.execute_input": "2022-03-03T12:15:17.013870Z",
     "iopub.status.busy": "2022-03-03T12:15:17.013287Z",
     "iopub.status.idle": "2022-03-03T12:15:17.015290Z",
     "shell.execute_reply": "2022-03-03T12:15:17.014873Z"
    },
    "papermill": {
     "duration": 0.035557,
     "end_time": "2022-03-03T12:15:17.015387",
     "exception": false,
     "start_time": "2022-03-03T12:15:16.979830",
     "status": "completed"
    },
    "tags": []
   },
   "outputs": [],
   "source": [
    "# #hide\n",
    "# g = g.reset_index(['date'])"
   ]
  },
  {
   "cell_type": "code",
   "execution_count": 25,
   "id": "incomplete-mustang",
   "metadata": {
    "execution": {
     "iopub.execute_input": "2022-03-03T12:15:17.078858Z",
     "iopub.status.busy": "2022-03-03T12:15:17.078288Z",
     "iopub.status.idle": "2022-03-03T12:15:17.080401Z",
     "shell.execute_reply": "2022-03-03T12:15:17.079925Z"
    },
    "papermill": {
     "duration": 0.034952,
     "end_time": "2022-03-03T12:15:17.080512",
     "exception": false,
     "start_time": "2022-03-03T12:15:17.045560",
     "status": "completed"
    },
    "tags": []
   },
   "outputs": [],
   "source": [
    "#hide\n",
    "# g.head()"
   ]
  },
  {
   "cell_type": "code",
   "execution_count": 26,
   "id": "specific-kruger",
   "metadata": {
    "execution": {
     "iopub.execute_input": "2022-03-03T12:15:17.144663Z",
     "iopub.status.busy": "2022-03-03T12:15:17.144055Z",
     "iopub.status.idle": "2022-03-03T12:15:17.145688Z",
     "shell.execute_reply": "2022-03-03T12:15:17.146085Z"
    },
    "papermill": {
     "duration": 0.034863,
     "end_time": "2022-03-03T12:15:17.146194",
     "exception": false,
     "start_time": "2022-03-03T12:15:17.111331",
     "status": "completed"
    },
    "tags": []
   },
   "outputs": [],
   "source": [
    "#hide\n",
    "# g.columns = ['date','country','cases']"
   ]
  },
  {
   "cell_type": "code",
   "execution_count": 27,
   "id": "tender-conversion",
   "metadata": {
    "execution": {
     "iopub.execute_input": "2022-03-03T12:15:17.209304Z",
     "iopub.status.busy": "2022-03-03T12:15:17.208733Z",
     "iopub.status.idle": "2022-03-03T12:15:17.210890Z",
     "shell.execute_reply": "2022-03-03T12:15:17.210319Z"
    },
    "papermill": {
     "duration": 0.034835,
     "end_time": "2022-03-03T12:15:17.210999",
     "exception": false,
     "start_time": "2022-03-03T12:15:17.176164",
     "status": "completed"
    },
    "tags": []
   },
   "outputs": [],
   "source": [
    "#hide\n",
    "# g['continent'] = g.country"
   ]
  },
  {
   "cell_type": "code",
   "execution_count": 28,
   "id": "substantial-wilderness",
   "metadata": {
    "execution": {
     "iopub.execute_input": "2022-03-03T12:15:17.275669Z",
     "iopub.status.busy": "2022-03-03T12:15:17.275089Z",
     "iopub.status.idle": "2022-03-03T12:15:17.278778Z",
     "shell.execute_reply": "2022-03-03T12:15:17.279156Z"
    },
    "papermill": {
     "duration": 0.037221,
     "end_time": "2022-03-03T12:15:17.279277",
     "exception": false,
     "start_time": "2022-03-03T12:15:17.242056",
     "status": "completed"
    },
    "tags": []
   },
   "outputs": [],
   "source": [
    "#hide\n",
    "# cols = list(g.columns.values)"
   ]
  },
  {
   "cell_type": "code",
   "execution_count": 29,
   "id": "solved-farming",
   "metadata": {
    "execution": {
     "iopub.execute_input": "2022-03-03T12:15:17.342984Z",
     "iopub.status.busy": "2022-03-03T12:15:17.342376Z",
     "iopub.status.idle": "2022-03-03T12:15:17.345720Z",
     "shell.execute_reply": "2022-03-03T12:15:17.346159Z"
    },
    "papermill": {
     "duration": 0.036855,
     "end_time": "2022-03-03T12:15:17.346298",
     "exception": false,
     "start_time": "2022-03-03T12:15:17.309443",
     "status": "completed"
    },
    "tags": []
   },
   "outputs": [],
   "source": [
    "#hide\n",
    "# cols.insert(0, cols.pop())"
   ]
  },
  {
   "cell_type": "code",
   "execution_count": 30,
   "id": "executed-adoption",
   "metadata": {
    "execution": {
     "iopub.execute_input": "2022-03-03T12:15:17.410402Z",
     "iopub.status.busy": "2022-03-03T12:15:17.409897Z",
     "iopub.status.idle": "2022-03-03T12:15:17.411874Z",
     "shell.execute_reply": "2022-03-03T12:15:17.411455Z"
    },
    "papermill": {
     "duration": 0.03511,
     "end_time": "2022-03-03T12:15:17.411974",
     "exception": false,
     "start_time": "2022-03-03T12:15:17.376864",
     "status": "completed"
    },
    "tags": []
   },
   "outputs": [],
   "source": [
    "#hide\n",
    "# g = g[cols]"
   ]
  },
  {
   "cell_type": "code",
   "execution_count": 31,
   "id": "subject-dublin",
   "metadata": {
    "execution": {
     "iopub.execute_input": "2022-03-03T12:15:17.475904Z",
     "iopub.status.busy": "2022-03-03T12:15:17.475320Z",
     "iopub.status.idle": "2022-03-03T12:15:17.477466Z",
     "shell.execute_reply": "2022-03-03T12:15:17.476977Z"
    },
    "papermill": {
     "duration": 0.035345,
     "end_time": "2022-03-03T12:15:17.477581",
     "exception": false,
     "start_time": "2022-03-03T12:15:17.442236",
     "status": "completed"
    },
    "tags": []
   },
   "outputs": [],
   "source": [
    "#hide\n",
    "# g['continent'] = g['continent'].map(mapping['map.continent'])"
   ]
  },
  {
   "cell_type": "code",
   "execution_count": 32,
   "id": "freelance-scout",
   "metadata": {
    "execution": {
     "iopub.execute_input": "2022-03-03T12:15:17.541867Z",
     "iopub.status.busy": "2022-03-03T12:15:17.541293Z",
     "iopub.status.idle": "2022-03-03T12:15:17.542908Z",
     "shell.execute_reply": "2022-03-03T12:15:17.543307Z"
    },
    "papermill": {
     "duration": 0.035134,
     "end_time": "2022-03-03T12:15:17.543427",
     "exception": false,
     "start_time": "2022-03-03T12:15:17.508293",
     "status": "completed"
    },
    "tags": []
   },
   "outputs": [],
   "source": [
    "#hide\n",
    "# g.head()"
   ]
  },
  {
   "cell_type": "code",
   "execution_count": 33,
   "id": "limited-engine",
   "metadata": {
    "execution": {
     "iopub.execute_input": "2022-03-03T12:15:17.610948Z",
     "iopub.status.busy": "2022-03-03T12:15:17.610376Z",
     "iopub.status.idle": "2022-03-03T12:15:17.614111Z",
     "shell.execute_reply": "2022-03-03T12:15:17.613678Z"
    },
    "papermill": {
     "duration": 0.036539,
     "end_time": "2022-03-03T12:15:17.614215",
     "exception": false,
     "start_time": "2022-03-03T12:15:17.577676",
     "status": "completed"
    },
    "tags": []
   },
   "outputs": [],
   "source": [
    "# hide\n",
    "# g['date'] = g['date'].astype('datetime64[ns]')"
   ]
  },
  {
   "cell_type": "code",
   "execution_count": 34,
   "id": "sophisticated-supervisor",
   "metadata": {
    "execution": {
     "iopub.execute_input": "2022-03-03T12:15:17.678133Z",
     "iopub.status.busy": "2022-03-03T12:15:17.677553Z",
     "iopub.status.idle": "2022-03-03T12:15:17.679243Z",
     "shell.execute_reply": "2022-03-03T12:15:17.679679Z"
    },
    "papermill": {
     "duration": 0.035184,
     "end_time": "2022-03-03T12:15:17.679813",
     "exception": false,
     "start_time": "2022-03-03T12:15:17.644629",
     "status": "completed"
    },
    "tags": []
   },
   "outputs": [],
   "source": [
    "#hide\n",
    "# g['date'] = g.date.dt.dayofyear"
   ]
  },
  {
   "cell_type": "code",
   "execution_count": 35,
   "id": "inside-dubai",
   "metadata": {
    "execution": {
     "iopub.execute_input": "2022-03-03T12:15:17.744240Z",
     "iopub.status.busy": "2022-03-03T12:15:17.743667Z",
     "iopub.status.idle": "2022-03-03T12:15:17.745347Z",
     "shell.execute_reply": "2022-03-03T12:15:17.745754Z"
    },
    "papermill": {
     "duration": 0.035123,
     "end_time": "2022-03-03T12:15:17.745872",
     "exception": false,
     "start_time": "2022-03-03T12:15:17.710749",
     "status": "completed"
    },
    "tags": []
   },
   "outputs": [],
   "source": [
    "#hide\n",
    "# g = g.rename(columns= {'continent':'group','country':'name','cases':'value'})"
   ]
  },
  {
   "cell_type": "code",
   "execution_count": 36,
   "id": "fleet-motorcycle",
   "metadata": {
    "execution": {
     "iopub.execute_input": "2022-03-03T12:15:17.809450Z",
     "iopub.status.busy": "2022-03-03T12:15:17.808880Z",
     "iopub.status.idle": "2022-03-03T12:15:17.812324Z",
     "shell.execute_reply": "2022-03-03T12:15:17.812784Z"
    },
    "papermill": {
     "duration": 0.036924,
     "end_time": "2022-03-03T12:15:17.812919",
     "exception": false,
     "start_time": "2022-03-03T12:15:17.775995",
     "status": "completed"
    },
    "tags": []
   },
   "outputs": [],
   "source": [
    "#hide\n",
    "# cols = ['name','group','day','value']"
   ]
  },
  {
   "cell_type": "code",
   "execution_count": 37,
   "id": "continued-sleeping",
   "metadata": {
    "execution": {
     "iopub.execute_input": "2022-03-03T12:15:17.876722Z",
     "iopub.status.busy": "2022-03-03T12:15:17.876115Z",
     "iopub.status.idle": "2022-03-03T12:15:17.877723Z",
     "shell.execute_reply": "2022-03-03T12:15:17.878099Z"
    },
    "papermill": {
     "duration": 0.034687,
     "end_time": "2022-03-03T12:15:17.878212",
     "exception": false,
     "start_time": "2022-03-03T12:15:17.843525",
     "status": "completed"
    },
    "tags": []
   },
   "outputs": [],
   "source": [
    "#hide\n",
    "# g.rename(columns= {'date':'day'},inplace = True)"
   ]
  },
  {
   "cell_type": "code",
   "execution_count": 38,
   "id": "major-fight",
   "metadata": {
    "execution": {
     "iopub.execute_input": "2022-03-03T12:15:17.941702Z",
     "iopub.status.busy": "2022-03-03T12:15:17.941135Z",
     "iopub.status.idle": "2022-03-03T12:15:17.942750Z",
     "shell.execute_reply": "2022-03-03T12:15:17.943180Z"
    },
    "papermill": {
     "duration": 0.034844,
     "end_time": "2022-03-03T12:15:17.943307",
     "exception": false,
     "start_time": "2022-03-03T12:15:17.908463",
     "status": "completed"
    },
    "tags": []
   },
   "outputs": [],
   "source": [
    "#hide\n",
    "# g = g[cols]"
   ]
  },
  {
   "cell_type": "code",
   "execution_count": 39,
   "id": "structured-mobile",
   "metadata": {
    "execution": {
     "iopub.execute_input": "2022-03-03T12:15:18.007482Z",
     "iopub.status.busy": "2022-03-03T12:15:18.006909Z",
     "iopub.status.idle": "2022-03-03T12:15:18.010964Z",
     "shell.execute_reply": "2022-03-03T12:15:18.010562Z"
    },
    "papermill": {
     "duration": 0.037043,
     "end_time": "2022-03-03T12:15:18.011066",
     "exception": false,
     "start_time": "2022-03-03T12:15:17.974023",
     "status": "completed"
    },
    "tags": []
   },
   "outputs": [],
   "source": [
    "# #hide\n",
    "# g = g[g.group.notna()]"
   ]
  },
  {
   "cell_type": "code",
   "execution_count": 40,
   "id": "determined-closing",
   "metadata": {
    "execution": {
     "iopub.execute_input": "2022-03-03T12:15:18.074538Z",
     "iopub.status.busy": "2022-03-03T12:15:18.074030Z",
     "iopub.status.idle": "2022-03-03T12:15:18.075819Z",
     "shell.execute_reply": "2022-03-03T12:15:18.076221Z"
    },
    "papermill": {
     "duration": 0.035009,
     "end_time": "2022-03-03T12:15:18.076332",
     "exception": false,
     "start_time": "2022-03-03T12:15:18.041323",
     "status": "completed"
    },
    "tags": []
   },
   "outputs": [],
   "source": [
    "# #hide\n",
    "# colors = dict(zip(\n",
    "#     [\"Oceania\", \"Europe\", \"Asia\", \"South America\", \"Middle East\", \"North America\", \"Africa\"],\n",
    "#     [\"#adb0ff\", \"#ffb3ff\", \"#90d595\", \"#e48381\", \"#aafbff\", \"#f7bb5f\", \"#eafb50\"]\n",
    "# ))\n",
    "# group_lk = g.set_index('name')['group'].to_dict()"
   ]
  },
  {
   "cell_type": "code",
   "execution_count": null,
   "id": "gross-drinking",
   "metadata": {
    "papermill": {
     "duration": 0.030172,
     "end_time": "2022-03-03T12:15:18.136464",
     "exception": false,
     "start_time": "2022-03-03T12:15:18.106292",
     "status": "completed"
    },
    "tags": []
   },
   "outputs": [],
   "source": []
  },
  {
   "cell_type": "code",
   "execution_count": 41,
   "id": "subject-macintosh",
   "metadata": {
    "execution": {
     "iopub.execute_input": "2022-03-03T12:15:18.200913Z",
     "iopub.status.busy": "2022-03-03T12:15:18.200279Z",
     "iopub.status.idle": "2022-03-03T12:15:18.201961Z",
     "shell.execute_reply": "2022-03-03T12:15:18.202339Z"
    },
    "papermill": {
     "duration": 0.035527,
     "end_time": "2022-03-03T12:15:18.202457",
     "exception": false,
     "start_time": "2022-03-03T12:15:18.166930",
     "status": "completed"
    },
    "tags": []
   },
   "outputs": [],
   "source": [
    "# #hide\n",
    "# fig, ax = plt.subplots(figsize=(15, 8))\n",
    "\n",
    "# def draw_barchart(current_day):\n",
    "#     dff = g[g['day'].eq(current_day)].sort_values(by='value', ascending=True).tail(10)\n",
    "#     ax.clear()\n",
    "#     ax.barh(dff['name'], dff['value'], color=[colors[group_lk[x]] for x in dff['name']])\n",
    "#     dx = dff['value'].max() / 200\n",
    "    \n",
    "#     for i, (value, name) in enumerate(zip(dff['value'], dff['name'])):\n",
    "#         ax.text(value-dx, i,     name,           size=14, weight=600, ha='right', va='bottom')\n",
    "#         ax.text(value-dx, i-.25, group_lk[name], size=10, color='#444444', ha='right', va='baseline')\n",
    "#         ax.text(value+dx, i,     f'{value:,.0f}',  size=14, ha='left',  va='center')\n",
    "#     ax.text(1, 0.4, current_day, transform=ax.transAxes, color='#777777', size=46, ha='right', weight=800)\n",
    "#     ax.text(0, 1.06, 'Population (thousands)', transform=ax.transAxes, size=12, color='#777777')\n",
    "#     ax.xaxis.set_major_formatter(ticker.StrMethodFormatter('{x:,.0f}'))\n",
    "#     ax.xaxis.set_ticks_position('top')\n",
    "#     ax.tick_params(axis='x', colors='#777777', labelsize=12)\n",
    "#     ax.set_yticks([])\n",
    "#     ax.margins(0, 0.01)\n",
    "#     ax.grid(which='major', axis='x', linestyle='-')\n",
    "#     ax.set_axisbelow(True)\n",
    "    \n",
    "#     ax.text(0, 1.15, 'Coronavirus',\n",
    "#             transform=ax.transAxes, size=24, weight=600, ha='left', va='top')\n",
    "# #     ax.text(1, 0, 'by @pratapvardhan; credit @jburnmurdoch', transform=ax.transAxes, color='#777777', ha='right',\n",
    "# #             bbox=dict(facecolor='white', alpha=0.8, edgecolor='white'))\n",
    "#     plt.box(False)"
   ]
  },
  {
   "cell_type": "code",
   "execution_count": 42,
   "id": "sexual-wages",
   "metadata": {
    "execution": {
     "iopub.execute_input": "2022-03-03T12:15:18.266336Z",
     "iopub.status.busy": "2022-03-03T12:15:18.265761Z",
     "iopub.status.idle": "2022-03-03T12:15:18.267461Z",
     "shell.execute_reply": "2022-03-03T12:15:18.267893Z"
    },
    "papermill": {
     "duration": 0.035221,
     "end_time": "2022-03-03T12:15:18.268022",
     "exception": false,
     "start_time": "2022-03-03T12:15:18.232801",
     "status": "completed"
    },
    "tags": []
   },
   "outputs": [],
   "source": [
    "# #hide_input\n",
    "# fig, ax = plt.subplots(figsize=(15, 8))\n",
    "# animator = animation.FuncAnimation(fig, draw_barchart, frames=range(g.day.values.min(), g.day.values.max()))\n",
    "# HTML(animator.to_jshtml())\n",
    "# # or use animator.to_html5_video() or animator.save() "
   ]
  },
  {
   "cell_type": "code",
   "execution_count": null,
   "id": "australian-container",
   "metadata": {
    "papermill": {
     "duration": 0.030278,
     "end_time": "2022-03-03T12:15:18.329051",
     "exception": false,
     "start_time": "2022-03-03T12:15:18.298773",
     "status": "completed"
    },
    "tags": []
   },
   "outputs": [],
   "source": []
  },
  {
   "cell_type": "code",
   "execution_count": null,
   "id": "mediterranean-pontiac",
   "metadata": {
    "papermill": {
     "duration": 0.029978,
     "end_time": "2022-03-03T12:15:18.389099",
     "exception": false,
     "start_time": "2022-03-03T12:15:18.359121",
     "status": "completed"
    },
    "tags": []
   },
   "outputs": [],
   "source": []
  },
  {
   "cell_type": "code",
   "execution_count": null,
   "id": "aging-legislature",
   "metadata": {
    "papermill": {
     "duration": 0.030347,
     "end_time": "2022-03-03T12:15:18.449796",
     "exception": false,
     "start_time": "2022-03-03T12:15:18.419449",
     "status": "completed"
    },
    "tags": []
   },
   "outputs": [],
   "source": []
  }
 ],
 "metadata": {
  "kernelspec": {
   "display_name": "Python 3",
   "language": "python",
   "name": "python3"
  },
  "language_info": {
   "codemirror_mode": {
    "name": "ipython",
    "version": 3
   },
   "file_extension": ".py",
   "mimetype": "text/x-python",
   "name": "python",
   "nbconvert_exporter": "python",
   "pygments_lexer": "ipython3",
   "version": "3.6.15"
  },
  "papermill": {
   "duration": 5.952878,
   "end_time": "2022-03-03T12:15:18.797643",
   "environment_variables": {},
   "exception": null,
   "input_path": "2020-03-21-covid19exp.ipynb",
   "output_path": "2020-03-21-covid19exp.ipynb",
   "parameters": {},
   "start_time": "2022-03-03T12:15:12.844765",
   "version": "2.0.0"
  }
 },
 "nbformat": 4,
 "nbformat_minor": 5
}