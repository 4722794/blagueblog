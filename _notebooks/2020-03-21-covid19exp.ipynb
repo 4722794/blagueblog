{
 "cells": [
  {
   "cell_type": "markdown",
   "id": "muslim-click",
   "metadata": {
    "papermill": {
     "duration": 0.034759,
     "end_time": "2022-12-05T12:15:37.779679",
     "exception": false,
     "start_time": "2022-12-05T12:15:37.744920",
     "status": "completed"
    },
    "tags": []
   },
   "source": [
    "# COVID-19 Case Race\n",
    "> A race chart to see rising cases around the world\n",
    "\n",
    "- author: Hargun Oberoi\n",
    "- image: images/covid-overview.png\n",
    "- hide: false\n",
    "- badges: false"
   ]
  },
  {
   "cell_type": "code",
   "execution_count": 1,
   "id": "proof-material",
   "metadata": {
    "execution": {
     "iopub.execute_input": "2022-12-05T12:15:37.852494Z",
     "iopub.status.busy": "2022-12-05T12:15:37.851824Z",
     "iopub.status.idle": "2022-12-05T12:15:38.177630Z",
     "shell.execute_reply": "2022-12-05T12:15:38.177037Z"
    },
    "papermill": {
     "duration": 0.365293,
     "end_time": "2022-12-05T12:15:38.177792",
     "exception": false,
     "start_time": "2022-12-05T12:15:37.812499",
     "status": "completed"
    },
    "tags": []
   },
   "outputs": [],
   "source": [
    "#hide\n",
    "import numpy as np\n",
    "import pandas as pd\n",
    "from jinja2 import Template\n",
    "from IPython.display import HTML"
   ]
  },
  {
   "cell_type": "code",
   "execution_count": 2,
   "id": "developed-terminology",
   "metadata": {
    "execution": {
     "iopub.execute_input": "2022-12-05T12:15:38.241409Z",
     "iopub.status.busy": "2022-12-05T12:15:38.240798Z",
     "iopub.status.idle": "2022-12-05T12:15:38.242719Z",
     "shell.execute_reply": "2022-12-05T12:15:38.243268Z"
    },
    "papermill": {
     "duration": 0.036419,
     "end_time": "2022-12-05T12:15:38.243400",
     "exception": false,
     "start_time": "2022-12-05T12:15:38.206981",
     "status": "completed"
    },
    "tags": []
   },
   "outputs": [],
   "source": [
    "#hide\n",
    "\n",
    "# FETCH\n",
    "base_url = 'https://raw.githubusercontent.com/pratapvardhan/notebooks/master/covid19/'\n",
    "paths = {\n",
    "    'mapping': base_url + 'mapping_countries.csv',\n",
    "    'overview': base_url + 'overview.tpl'\n",
    "}"
   ]
  },
  {
   "cell_type": "code",
   "execution_count": 3,
   "id": "dynamic-saver",
   "metadata": {
    "execution": {
     "iopub.execute_input": "2022-12-05T12:15:38.312241Z",
     "iopub.status.busy": "2022-12-05T12:15:38.311631Z",
     "iopub.status.idle": "2022-12-05T12:15:38.314462Z",
     "shell.execute_reply": "2022-12-05T12:15:38.315009Z"
    },
    "papermill": {
     "duration": 0.042624,
     "end_time": "2022-12-05T12:15:38.315148",
     "exception": false,
     "start_time": "2022-12-05T12:15:38.272524",
     "status": "completed"
    },
    "tags": []
   },
   "outputs": [
    {
     "data": {
      "text/plain": [
       "'https://raw.githubusercontent.com/pratapvardhan/notebooks/master/covid19/mapping_countries.csv'"
      ]
     },
     "execution_count": 3,
     "metadata": {},
     "output_type": "execute_result"
    }
   ],
   "source": [
    "#hide\n",
    "paths['mapping']"
   ]
  },
  {
   "cell_type": "code",
   "execution_count": 4,
   "id": "urban-software",
   "metadata": {
    "execution": {
     "iopub.execute_input": "2022-12-05T12:15:38.380023Z",
     "iopub.status.busy": "2022-12-05T12:15:38.379308Z",
     "iopub.status.idle": "2022-12-05T12:15:38.381104Z",
     "shell.execute_reply": "2022-12-05T12:15:38.381641Z"
    },
    "papermill": {
     "duration": 0.037207,
     "end_time": "2022-12-05T12:15:38.381786",
     "exception": false,
     "start_time": "2022-12-05T12:15:38.344579",
     "status": "completed"
    },
    "tags": []
   },
   "outputs": [],
   "source": [
    "#hide\n",
    "def get_mappings(url):\n",
    "    df = pd.read_csv(url)\n",
    "    return {\n",
    "        'df': df,\n",
    "        'replace.country': dict(df.dropna(subset=['Name']).set_index('Country')['Name']),\n",
    "        'map.continent': dict(df.set_index('Name')['Continent'])\n",
    "    }"
   ]
  },
  {
   "cell_type": "code",
   "execution_count": 5,
   "id": "intimate-machinery",
   "metadata": {
    "execution": {
     "iopub.execute_input": "2022-12-05T12:15:38.445666Z",
     "iopub.status.busy": "2022-12-05T12:15:38.445093Z",
     "iopub.status.idle": "2022-12-05T12:15:38.507963Z",
     "shell.execute_reply": "2022-12-05T12:15:38.507440Z"
    },
    "papermill": {
     "duration": 0.097059,
     "end_time": "2022-12-05T12:15:38.508094",
     "exception": false,
     "start_time": "2022-12-05T12:15:38.411035",
     "status": "completed"
    },
    "tags": []
   },
   "outputs": [],
   "source": [
    "#hide\n",
    "mapping = get_mappings(paths['mapping'])"
   ]
  },
  {
   "cell_type": "code",
   "execution_count": 6,
   "id": "certified-tactics",
   "metadata": {
    "execution": {
     "iopub.execute_input": "2022-12-05T12:15:38.572973Z",
     "iopub.status.busy": "2022-12-05T12:15:38.572380Z",
     "iopub.status.idle": "2022-12-05T12:15:38.574844Z",
     "shell.execute_reply": "2022-12-05T12:15:38.575320Z"
    },
    "papermill": {
     "duration": 0.036927,
     "end_time": "2022-12-05T12:15:38.575446",
     "exception": false,
     "start_time": "2022-12-05T12:15:38.538519",
     "status": "completed"
    },
    "tags": []
   },
   "outputs": [],
   "source": [
    "#hide\n",
    "def get_template(path):\n",
    "    from urllib.parse import urlparse\n",
    "    if bool(urlparse(path).netloc):\n",
    "        from urllib.request import urlopen\n",
    "        return urlopen(path).read().decode('utf8')\n",
    "    return open(path).read()"
   ]
  },
  {
   "cell_type": "code",
   "execution_count": 7,
   "id": "realistic-blast",
   "metadata": {
    "execution": {
     "iopub.execute_input": "2022-12-05T12:15:38.639064Z",
     "iopub.status.busy": "2022-12-05T12:15:38.638478Z",
     "iopub.status.idle": "2022-12-05T12:15:38.640599Z",
     "shell.execute_reply": "2022-12-05T12:15:38.641044Z"
    },
    "papermill": {
     "duration": 0.036743,
     "end_time": "2022-12-05T12:15:38.641170",
     "exception": false,
     "start_time": "2022-12-05T12:15:38.604427",
     "status": "completed"
    },
    "tags": []
   },
   "outputs": [],
   "source": [
    "#hide\n",
    "def get_frame(name):\n",
    "    url = (\n",
    "        'https://raw.githubusercontent.com/CSSEGISandData/COVID-19/master/csse_covid_19_data/'\n",
    "        f'csse_covid_19_time_series/time_series_covid19_{name}_global.csv')\n",
    "    df = pd.read_csv(url)\n",
    "    # rename countries\n",
    "    df['Country/Region'] = df['Country/Region'].replace(mapping['replace.country'])\n",
    "    return df"
   ]
  },
  {
   "cell_type": "code",
   "execution_count": 8,
   "id": "affiliated-characterization",
   "metadata": {
    "execution": {
     "iopub.execute_input": "2022-12-05T12:15:38.705856Z",
     "iopub.status.busy": "2022-12-05T12:15:38.705266Z",
     "iopub.status.idle": "2022-12-05T12:15:38.707283Z",
     "shell.execute_reply": "2022-12-05T12:15:38.707827Z"
    },
    "papermill": {
     "duration": 0.037494,
     "end_time": "2022-12-05T12:15:38.707954",
     "exception": false,
     "start_time": "2022-12-05T12:15:38.670460",
     "status": "completed"
    },
    "tags": []
   },
   "outputs": [],
   "source": [
    "#hide\n",
    "def get_dates(df):\n",
    "    dt_cols = df.columns[~df.columns.isin(['Province/State', 'Country/Region', 'Lat', 'Long'])]\n",
    "    LAST_DATE_I = -1\n",
    "    # sometimes last column may be empty, then go backwards\n",
    "    for i in range(-1, -len(dt_cols), -1):\n",
    "        if not df[dt_cols[i]].fillna(0).eq(0).all():\n",
    "            LAST_DATE_I = i\n",
    "            break\n",
    "    return LAST_DATE_I, dt_cols"
   ]
  },
  {
   "cell_type": "code",
   "execution_count": 9,
   "id": "recent-optimization",
   "metadata": {
    "execution": {
     "iopub.execute_input": "2022-12-05T12:15:38.771375Z",
     "iopub.status.busy": "2022-12-05T12:15:38.770793Z",
     "iopub.status.idle": "2022-12-05T12:15:39.447934Z",
     "shell.execute_reply": "2022-12-05T12:15:39.447353Z"
    },
    "papermill": {
     "duration": 0.711218,
     "end_time": "2022-12-05T12:15:39.448081",
     "exception": false,
     "start_time": "2022-12-05T12:15:38.736863",
     "status": "completed"
    },
    "tags": []
   },
   "outputs": [],
   "source": [
    "#hide\n",
    "COL_REGION = 'Country/Region'\n",
    "# Confirmed, Recovered, Deaths\n",
    "df = get_frame('confirmed')\n",
    "# dft_: timeseries, dfc_: today country agg\n",
    "dft_cases = df\n",
    "dft_deaths = get_frame('deaths')\n",
    "dft_recovered = get_frame('recovered')\n",
    "LAST_DATE_I, dt_cols = get_dates(df)"
   ]
  },
  {
   "cell_type": "code",
   "execution_count": 10,
   "id": "absolute-copper",
   "metadata": {
    "execution": {
     "iopub.execute_input": "2022-12-05T12:15:39.514556Z",
     "iopub.status.busy": "2022-12-05T12:15:39.513854Z",
     "iopub.status.idle": "2022-12-05T12:15:39.515705Z",
     "shell.execute_reply": "2022-12-05T12:15:39.516214Z"
    },
    "papermill": {
     "duration": 0.037477,
     "end_time": "2022-12-05T12:15:39.516371",
     "exception": false,
     "start_time": "2022-12-05T12:15:39.478894",
     "status": "completed"
    },
    "tags": []
   },
   "outputs": [],
   "source": [
    "#hide\n",
    "LAST_DATE_I, dt_cols = get_dates(df)\n",
    "dt_today =dt_cols[LAST_DATE_I]\n",
    "# dt_5day = dt_cols[LAST_DATE_I - 5]\n",
    "dt_yday = dt_cols[LAST_DATE_I - 1]"
   ]
  },
  {
   "cell_type": "code",
   "execution_count": 11,
   "id": "restricted-sheriff",
   "metadata": {
    "execution": {
     "iopub.execute_input": "2022-12-05T12:15:39.577894Z",
     "iopub.status.busy": "2022-12-05T12:15:39.577300Z",
     "iopub.status.idle": "2022-12-05T12:15:39.586980Z",
     "shell.execute_reply": "2022-12-05T12:15:39.587427Z"
    },
    "papermill": {
     "duration": 0.041608,
     "end_time": "2022-12-05T12:15:39.587564",
     "exception": false,
     "start_time": "2022-12-05T12:15:39.545956",
     "status": "completed"
    },
    "tags": []
   },
   "outputs": [],
   "source": [
    "#hide\n",
    "dfc_cases = dft_cases.groupby(COL_REGION)[dt_today].sum()\n",
    "dfc_deaths = dft_deaths.groupby(COL_REGION)[dt_today].sum()\n",
    "# dfp_cases = dft_cases.groupby(COL_REGION)[dt_5day].sum()\n",
    "# dfp_deaths = dft_deaths.groupby(COL_REGION)[dt_5day].sum()\n",
    "dfp_cases = dft_cases.groupby(COL_REGION)[dt_yday].sum()\n",
    "dfp_deaths = dft_deaths.groupby(COL_REGION)[dt_yday].sum()"
   ]
  },
  {
   "cell_type": "code",
   "execution_count": 12,
   "id": "deluxe-hepatitis",
   "metadata": {
    "execution": {
     "iopub.execute_input": "2022-12-05T12:15:39.652031Z",
     "iopub.status.busy": "2022-12-05T12:15:39.651455Z",
     "iopub.status.idle": "2022-12-05T12:15:39.656352Z",
     "shell.execute_reply": "2022-12-05T12:15:39.655858Z"
    },
    "papermill": {
     "duration": 0.039675,
     "end_time": "2022-12-05T12:15:39.656470",
     "exception": false,
     "start_time": "2022-12-05T12:15:39.616795",
     "status": "completed"
    },
    "tags": []
   },
   "outputs": [],
   "source": [
    "#hide\n",
    "df_table = (pd.DataFrame(dict(Cases = dfc_cases, Deaths = dfc_deaths, PCases = dfp_cases, PDeaths = dfp_deaths))\n",
    "            .sort_values(by = ['Cases','Deaths'], ascending = [False, False])\n",
    "            .reset_index())"
   ]
  },
  {
   "cell_type": "code",
   "execution_count": 13,
   "id": "educational-chancellor",
   "metadata": {
    "execution": {
     "iopub.execute_input": "2022-12-05T12:15:39.731081Z",
     "iopub.status.busy": "2022-12-05T12:15:39.727262Z",
     "iopub.status.idle": "2022-12-05T12:15:39.739587Z",
     "shell.execute_reply": "2022-12-05T12:15:39.739122Z"
    },
    "papermill": {
     "duration": 0.05427,
     "end_time": "2022-12-05T12:15:39.739701",
     "exception": false,
     "start_time": "2022-12-05T12:15:39.685431",
     "status": "completed"
    },
    "tags": []
   },
   "outputs": [
    {
     "data": {
      "text/html": [
       "<div>\n",
       "<style scoped>\n",
       "    .dataframe tbody tr th:only-of-type {\n",
       "        vertical-align: middle;\n",
       "    }\n",
       "\n",
       "    .dataframe tbody tr th {\n",
       "        vertical-align: top;\n",
       "    }\n",
       "\n",
       "    .dataframe thead th {\n",
       "        text-align: right;\n",
       "    }\n",
       "</style>\n",
       "<table border=\"1\" class=\"dataframe\">\n",
       "  <thead>\n",
       "    <tr style=\"text-align: right;\">\n",
       "      <th></th>\n",
       "      <th>Country/Region</th>\n",
       "      <th>Cases</th>\n",
       "      <th>Deaths</th>\n",
       "      <th>PCases</th>\n",
       "      <th>PDeaths</th>\n",
       "      <th>Cases (+)</th>\n",
       "      <th>Deaths (+)</th>\n",
       "      <th>Fatality Rate</th>\n",
       "      <th>Continent</th>\n",
       "    </tr>\n",
       "  </thead>\n",
       "  <tbody>\n",
       "    <tr>\n",
       "      <th>0</th>\n",
       "      <td>US</td>\n",
       "      <td>98972375</td>\n",
       "      <td>1081431</td>\n",
       "      <td>98967906</td>\n",
       "      <td>1081431</td>\n",
       "      <td>4469</td>\n",
       "      <td>0</td>\n",
       "      <td>1.09</td>\n",
       "      <td>North America</td>\n",
       "    </tr>\n",
       "    <tr>\n",
       "      <th>1</th>\n",
       "      <td>India</td>\n",
       "      <td>44674842</td>\n",
       "      <td>530630</td>\n",
       "      <td>44674616</td>\n",
       "      <td>530628</td>\n",
       "      <td>226</td>\n",
       "      <td>2</td>\n",
       "      <td>1.19</td>\n",
       "      <td>Asia</td>\n",
       "    </tr>\n",
       "    <tr>\n",
       "      <th>2</th>\n",
       "      <td>France</td>\n",
       "      <td>38174893</td>\n",
       "      <td>160133</td>\n",
       "      <td>38174893</td>\n",
       "      <td>160133</td>\n",
       "      <td>0</td>\n",
       "      <td>0</td>\n",
       "      <td>0.42</td>\n",
       "      <td>Europe</td>\n",
       "    </tr>\n",
       "    <tr>\n",
       "      <th>3</th>\n",
       "      <td>Germany</td>\n",
       "      <td>36557861</td>\n",
       "      <td>158198</td>\n",
       "      <td>36557861</td>\n",
       "      <td>158198</td>\n",
       "      <td>0</td>\n",
       "      <td>0</td>\n",
       "      <td>0.43</td>\n",
       "      <td>Europe</td>\n",
       "    </tr>\n",
       "    <tr>\n",
       "      <th>4</th>\n",
       "      <td>Brazil</td>\n",
       "      <td>35337546</td>\n",
       "      <td>690074</td>\n",
       "      <td>35337546</td>\n",
       "      <td>690074</td>\n",
       "      <td>0</td>\n",
       "      <td>0</td>\n",
       "      <td>1.95</td>\n",
       "      <td>South America</td>\n",
       "    </tr>\n",
       "  </tbody>\n",
       "</table>\n",
       "</div>"
      ],
      "text/plain": [
       "  Country/Region     Cases   Deaths    PCases  PDeaths  Cases (+)  Deaths (+)  \\\n",
       "0             US  98972375  1081431  98967906  1081431       4469           0   \n",
       "1          India  44674842   530630  44674616   530628        226           2   \n",
       "2         France  38174893   160133  38174893   160133          0           0   \n",
       "3        Germany  36557861   158198  36557861   158198          0           0   \n",
       "4         Brazil  35337546   690074  35337546   690074          0           0   \n",
       "\n",
       "   Fatality Rate      Continent  \n",
       "0           1.09  North America  \n",
       "1           1.19           Asia  \n",
       "2           0.42         Europe  \n",
       "3           0.43         Europe  \n",
       "4           1.95  South America  "
      ]
     },
     "execution_count": 13,
     "metadata": {},
     "output_type": "execute_result"
    }
   ],
   "source": [
    "#hide\n",
    "for c in 'Cases, Deaths'.split(', '):\n",
    "    df_table[f'{c} (+)'] = (df_table[c] - df_table[f'P{c}']).clip(0)\n",
    "    #Clip ça veut dire, les chiffres negatif sont interdit\n",
    "df_table['Fatality Rate'] = (100* df_table['Deaths']/ df_table['Cases']).round(2)\n",
    "df_table['Continent'] = df_table['Country/Region'].map(mapping['map.continent'])\n",
    "df_table.head(5)"
   ]
  },
  {
   "cell_type": "code",
   "execution_count": 14,
   "id": "aboriginal-bulgaria",
   "metadata": {
    "execution": {
     "iopub.execute_input": "2022-12-05T12:15:39.805416Z",
     "iopub.status.busy": "2022-12-05T12:15:39.804758Z",
     "iopub.status.idle": "2022-12-05T12:15:39.806556Z",
     "shell.execute_reply": "2022-12-05T12:15:39.807102Z"
    },
    "papermill": {
     "duration": 0.037873,
     "end_time": "2022-12-05T12:15:39.807241",
     "exception": false,
     "start_time": "2022-12-05T12:15:39.769368",
     "status": "completed"
    },
    "tags": []
   },
   "outputs": [],
   "source": [
    "#hide\n",
    "#delete problematic countries from table\n",
    "df_table = df_table[~df_table['Country/Region'].isin(['Cape Verde', 'Cruise Ship', 'Kosovo'])]"
   ]
  },
  {
   "cell_type": "code",
   "execution_count": 15,
   "id": "fantastic-effect",
   "metadata": {
    "execution": {
     "iopub.execute_input": "2022-12-05T12:15:39.874812Z",
     "iopub.status.busy": "2022-12-05T12:15:39.874231Z",
     "iopub.status.idle": "2022-12-05T12:15:39.891384Z",
     "shell.execute_reply": "2022-12-05T12:15:39.891851Z"
    },
    "papermill": {
     "duration": 0.055127,
     "end_time": "2022-12-05T12:15:39.891981",
     "exception": false,
     "start_time": "2022-12-05T12:15:39.836854",
     "status": "completed"
    },
    "tags": []
   },
   "outputs": [
    {
     "data": {
      "text/html": [
       "<div>\n",
       "<style scoped>\n",
       "    .dataframe tbody tr th:only-of-type {\n",
       "        vertical-align: middle;\n",
       "    }\n",
       "\n",
       "    .dataframe tbody tr th {\n",
       "        vertical-align: top;\n",
       "    }\n",
       "\n",
       "    .dataframe thead th {\n",
       "        text-align: right;\n",
       "    }\n",
       "</style>\n",
       "<table border=\"1\" class=\"dataframe\">\n",
       "  <thead>\n",
       "    <tr style=\"text-align: right;\">\n",
       "      <th></th>\n",
       "      <th>Country/Region</th>\n",
       "      <th>Cases</th>\n",
       "      <th>Deaths</th>\n",
       "      <th>PCases</th>\n",
       "      <th>PDeaths</th>\n",
       "      <th>Cases (+)</th>\n",
       "      <th>Deaths (+)</th>\n",
       "      <th>Fatality Rate</th>\n",
       "      <th>Continent</th>\n",
       "    </tr>\n",
       "  </thead>\n",
       "  <tbody>\n",
       "    <tr>\n",
       "      <th>0</th>\n",
       "      <td>US</td>\n",
       "      <td>98972375</td>\n",
       "      <td>1081431</td>\n",
       "      <td>98967906</td>\n",
       "      <td>1081431</td>\n",
       "      <td>4469</td>\n",
       "      <td>0</td>\n",
       "      <td>1.1</td>\n",
       "      <td>North America</td>\n",
       "    </tr>\n",
       "    <tr>\n",
       "      <th>1</th>\n",
       "      <td>India</td>\n",
       "      <td>44674842</td>\n",
       "      <td>530630</td>\n",
       "      <td>44674616</td>\n",
       "      <td>530628</td>\n",
       "      <td>226</td>\n",
       "      <td>2</td>\n",
       "      <td>1.2</td>\n",
       "      <td>Asia</td>\n",
       "    </tr>\n",
       "    <tr>\n",
       "      <th>2</th>\n",
       "      <td>France</td>\n",
       "      <td>38174893</td>\n",
       "      <td>160133</td>\n",
       "      <td>38174893</td>\n",
       "      <td>160133</td>\n",
       "      <td>0</td>\n",
       "      <td>0</td>\n",
       "      <td>0.4</td>\n",
       "      <td>Europe</td>\n",
       "    </tr>\n",
       "    <tr>\n",
       "      <th>3</th>\n",
       "      <td>Germany</td>\n",
       "      <td>36557861</td>\n",
       "      <td>158198</td>\n",
       "      <td>36557861</td>\n",
       "      <td>158198</td>\n",
       "      <td>0</td>\n",
       "      <td>0</td>\n",
       "      <td>0.4</td>\n",
       "      <td>Europe</td>\n",
       "    </tr>\n",
       "    <tr>\n",
       "      <th>4</th>\n",
       "      <td>Brazil</td>\n",
       "      <td>35337546</td>\n",
       "      <td>690074</td>\n",
       "      <td>35337546</td>\n",
       "      <td>690074</td>\n",
       "      <td>0</td>\n",
       "      <td>0</td>\n",
       "      <td>2.0</td>\n",
       "      <td>South America</td>\n",
       "    </tr>\n",
       "  </tbody>\n",
       "</table>\n",
       "</div>"
      ],
      "text/plain": [
       "  Country/Region     Cases   Deaths    PCases  PDeaths  Cases (+)  Deaths (+)  \\\n",
       "0             US  98972375  1081431  98967906  1081431       4469           0   \n",
       "1          India  44674842   530630  44674616   530628        226           2   \n",
       "2         France  38174893   160133  38174893   160133          0           0   \n",
       "3        Germany  36557861   158198  36557861   158198          0           0   \n",
       "4         Brazil  35337546   690074  35337546   690074          0           0   \n",
       "\n",
       "   Fatality Rate      Continent  \n",
       "0            1.1  North America  \n",
       "1            1.2           Asia  \n",
       "2            0.4         Europe  \n",
       "3            0.4         Europe  \n",
       "4            2.0  South America  "
      ]
     },
     "execution_count": 15,
     "metadata": {},
     "output_type": "execute_result"
    }
   ],
   "source": [
    "#hide\n",
    "df_table = (pd.DataFrame(dict(Cases=dfc_cases, Deaths=dfc_deaths, PCases=dfp_cases, PDeaths=dfp_deaths))\n",
    "             .sort_values(by=['Cases', 'Deaths'], ascending=[False, False])\n",
    "             .reset_index())\n",
    "df_table.rename(columns={'index': 'Country/Region'}, inplace=True)\n",
    "for c in 'Cases, Deaths'.split(', '):\n",
    "    df_table[f'{c} (+)'] = (df_table[c] - df_table[f'P{c}']).clip(0)  # DATA BUG\n",
    "df_table['Fatality Rate'] = (100 * df_table['Deaths'] / df_table['Cases']).round(1)\n",
    "df_table['Continent'] = df_table['Country/Region'].map(mapping['map.continent'])\n",
    "df_table.head(5)"
   ]
  },
  {
   "cell_type": "code",
   "execution_count": 16,
   "id": "fewer-occasion",
   "metadata": {
    "execution": {
     "iopub.execute_input": "2022-12-05T12:15:39.958319Z",
     "iopub.status.busy": "2022-12-05T12:15:39.957743Z",
     "iopub.status.idle": "2022-12-05T12:15:39.959753Z",
     "shell.execute_reply": "2022-12-05T12:15:39.960314Z"
    },
    "papermill": {
     "duration": 0.03805,
     "end_time": "2022-12-05T12:15:39.960442",
     "exception": false,
     "start_time": "2022-12-05T12:15:39.922392",
     "status": "completed"
    },
    "tags": []
   },
   "outputs": [],
   "source": [
    "#hide\n",
    "#delete problematic countries from table\n",
    "df_table = df_table[~df_table['Country/Region'].isin(['Cape Verde', 'Cruise Ship', 'Kosovo'])]"
   ]
  },
  {
   "cell_type": "code",
   "execution_count": 17,
   "id": "related-center",
   "metadata": {
    "execution": {
     "iopub.execute_input": "2022-12-05T12:15:40.038806Z",
     "iopub.status.busy": "2022-12-05T12:15:40.038189Z",
     "iopub.status.idle": "2022-12-05T12:15:40.040397Z",
     "shell.execute_reply": "2022-12-05T12:15:40.040824Z"
    },
    "papermill": {
     "duration": 0.050644,
     "end_time": "2022-12-05T12:15:40.040956",
     "exception": false,
     "start_time": "2022-12-05T12:15:39.990312",
     "status": "completed"
    },
    "tags": []
   },
   "outputs": [],
   "source": [
    "#hide\n",
    "metrics = [df_table.columns[index] for index in [1,2,5,6]]\n",
    "# s_china = df_table[df_table['Country/Region'].eq('China')][metrics].sum().add_prefix('China ')\n",
    "s_us = df_table[df_table['Country/Region'].eq('US')][metrics].sum().add_prefix('US ')\n",
    "s_eu = df_table[df_table['Continent'].eq('Europe')][metrics].sum().add_prefix('EU ')\n",
    "s_ind = df_table[df_table['Country/Region'].eq('India')][metrics].sum().add_prefix('India ')\n",
    "summary = {'updated': pd.to_datetime(dt_today), 'since': pd.to_datetime(dt_yday)}\n",
    "summary = {'updated': pd.to_datetime(dt_today), 'since': pd.to_datetime(dt_yday)}\n",
    "summary = {**summary, **df_table[metrics].sum(), **s_ind, **s_us, **s_eu}"
   ]
  },
  {
   "cell_type": "code",
   "execution_count": 18,
   "id": "engaging-syndrome",
   "metadata": {
    "execution": {
     "iopub.execute_input": "2022-12-05T12:15:40.107926Z",
     "iopub.status.busy": "2022-12-05T12:15:40.107226Z",
     "iopub.status.idle": "2022-12-05T12:15:40.130195Z",
     "shell.execute_reply": "2022-12-05T12:15:40.129693Z"
    },
    "papermill": {
     "duration": 0.059358,
     "end_time": "2022-12-05T12:15:40.130326",
     "exception": false,
     "start_time": "2022-12-05T12:15:40.070968",
     "status": "completed"
    },
    "tags": []
   },
   "outputs": [],
   "source": [
    "#hide\n",
    "dft_ct_new_cases = dft_cases.groupby(COL_REGION)[dt_cols].sum().diff(axis=1).fillna(0).astype(int)"
   ]
  },
  {
   "cell_type": "code",
   "execution_count": 19,
   "id": "neutral-assignment",
   "metadata": {
    "execution": {
     "iopub.execute_input": "2022-12-05T12:15:40.196277Z",
     "iopub.status.busy": "2022-12-05T12:15:40.195675Z",
     "iopub.status.idle": "2022-12-05T12:15:40.200725Z",
     "shell.execute_reply": "2022-12-05T12:15:40.201259Z"
    },
    "papermill": {
     "duration": 0.040665,
     "end_time": "2022-12-05T12:15:40.201390",
     "exception": false,
     "start_time": "2022-12-05T12:15:40.160725",
     "status": "completed"
    },
    "tags": []
   },
   "outputs": [],
   "source": [
    "#hide\n",
    "everydaycases = dft_ct_new_cases.cumsum(axis=1)"
   ]
  },
  {
   "cell_type": "code",
   "execution_count": 20,
   "id": "parliamentary-calgary",
   "metadata": {
    "execution": {
     "iopub.execute_input": "2022-12-05T12:15:40.266781Z",
     "iopub.status.busy": "2022-12-05T12:15:40.266175Z",
     "iopub.status.idle": "2022-12-05T12:15:40.806657Z",
     "shell.execute_reply": "2022-12-05T12:15:40.806076Z"
    },
    "papermill": {
     "duration": 0.574991,
     "end_time": "2022-12-05T12:15:40.806803",
     "exception": false,
     "start_time": "2022-12-05T12:15:40.231812",
     "status": "completed"
    },
    "tags": []
   },
   "outputs": [],
   "source": [
    "#hide\n",
    "import pandas as pd\n",
    "import matplotlib.pyplot as plt\n",
    "import matplotlib.ticker as ticker\n",
    "import matplotlib.animation as animation\n",
    "from IPython.display import HTML"
   ]
  },
  {
   "cell_type": "code",
   "execution_count": 21,
   "id": "lasting-extraction",
   "metadata": {
    "execution": {
     "iopub.execute_input": "2022-12-05T12:15:40.879612Z",
     "iopub.status.busy": "2022-12-05T12:15:40.879038Z",
     "iopub.status.idle": "2022-12-05T12:15:40.887803Z",
     "shell.execute_reply": "2022-12-05T12:15:40.887323Z"
    },
    "papermill": {
     "duration": 0.050511,
     "end_time": "2022-12-05T12:15:40.887915",
     "exception": false,
     "start_time": "2022-12-05T12:15:40.837404",
     "status": "completed"
    },
    "tags": []
   },
   "outputs": [],
   "source": [
    "#hide\n",
    "t = everydaycases.stack()"
   ]
  },
  {
   "cell_type": "code",
   "execution_count": 22,
   "id": "premier-sleeve",
   "metadata": {
    "execution": {
     "iopub.execute_input": "2022-12-05T12:15:40.953552Z",
     "iopub.status.busy": "2022-12-05T12:15:40.952964Z",
     "iopub.status.idle": "2022-12-05T12:15:40.965800Z",
     "shell.execute_reply": "2022-12-05T12:15:40.965332Z"
    },
    "papermill": {
     "duration": 0.047405,
     "end_time": "2022-12-05T12:15:40.965912",
     "exception": false,
     "start_time": "2022-12-05T12:15:40.918507",
     "status": "completed"
    },
    "tags": []
   },
   "outputs": [],
   "source": [
    "#hide\n",
    "g = t.reset_index(['Country/Region'])"
   ]
  },
  {
   "cell_type": "code",
   "execution_count": 23,
   "id": "distributed-pittsburgh",
   "metadata": {
    "execution": {
     "iopub.execute_input": "2022-12-05T12:15:41.030116Z",
     "iopub.status.busy": "2022-12-05T12:15:41.029542Z",
     "iopub.status.idle": "2022-12-05T12:15:41.031726Z",
     "shell.execute_reply": "2022-12-05T12:15:41.032279Z"
    },
    "papermill": {
     "duration": 0.036532,
     "end_time": "2022-12-05T12:15:41.032410",
     "exception": false,
     "start_time": "2022-12-05T12:15:40.995878",
     "status": "completed"
    },
    "tags": []
   },
   "outputs": [],
   "source": [
    "#hide\n",
    "g.index.name = 'date'"
   ]
  },
  {
   "cell_type": "code",
   "execution_count": 24,
   "id": "naked-donor",
   "metadata": {
    "execution": {
     "iopub.execute_input": "2022-12-05T12:15:41.096510Z",
     "iopub.status.busy": "2022-12-05T12:15:41.095867Z",
     "iopub.status.idle": "2022-12-05T12:15:41.099685Z",
     "shell.execute_reply": "2022-12-05T12:15:41.099108Z"
    },
    "papermill": {
     "duration": 0.037417,
     "end_time": "2022-12-05T12:15:41.099794",
     "exception": false,
     "start_time": "2022-12-05T12:15:41.062377",
     "status": "completed"
    },
    "tags": []
   },
   "outputs": [],
   "source": [
    "# #hide\n",
    "# g = g.reset_index(['date'])"
   ]
  },
  {
   "cell_type": "code",
   "execution_count": 25,
   "id": "incomplete-mustang",
   "metadata": {
    "execution": {
     "iopub.execute_input": "2022-12-05T12:15:41.163582Z",
     "iopub.status.busy": "2022-12-05T12:15:41.162927Z",
     "iopub.status.idle": "2022-12-05T12:15:41.165004Z",
     "shell.execute_reply": "2022-12-05T12:15:41.165485Z"
    },
    "papermill": {
     "duration": 0.035833,
     "end_time": "2022-12-05T12:15:41.165626",
     "exception": false,
     "start_time": "2022-12-05T12:15:41.129793",
     "status": "completed"
    },
    "tags": []
   },
   "outputs": [],
   "source": [
    "#hide\n",
    "# g.head()"
   ]
  },
  {
   "cell_type": "code",
   "execution_count": 26,
   "id": "specific-kruger",
   "metadata": {
    "execution": {
     "iopub.execute_input": "2022-12-05T12:15:41.229848Z",
     "iopub.status.busy": "2022-12-05T12:15:41.229179Z",
     "iopub.status.idle": "2022-12-05T12:15:41.231769Z",
     "shell.execute_reply": "2022-12-05T12:15:41.231237Z"
    },
    "papermill": {
     "duration": 0.035901,
     "end_time": "2022-12-05T12:15:41.231886",
     "exception": false,
     "start_time": "2022-12-05T12:15:41.195985",
     "status": "completed"
    },
    "tags": []
   },
   "outputs": [],
   "source": [
    "#hide\n",
    "# g.columns = ['date','country','cases']"
   ]
  },
  {
   "cell_type": "code",
   "execution_count": 27,
   "id": "tender-conversion",
   "metadata": {
    "execution": {
     "iopub.execute_input": "2022-12-05T12:15:41.296015Z",
     "iopub.status.busy": "2022-12-05T12:15:41.295355Z",
     "iopub.status.idle": "2022-12-05T12:15:41.297870Z",
     "shell.execute_reply": "2022-12-05T12:15:41.297409Z"
    },
    "papermill": {
     "duration": 0.035718,
     "end_time": "2022-12-05T12:15:41.297975",
     "exception": false,
     "start_time": "2022-12-05T12:15:41.262257",
     "status": "completed"
    },
    "tags": []
   },
   "outputs": [],
   "source": [
    "#hide\n",
    "# g['continent'] = g.country"
   ]
  },
  {
   "cell_type": "code",
   "execution_count": 28,
   "id": "substantial-wilderness",
   "metadata": {
    "execution": {
     "iopub.execute_input": "2022-12-05T12:15:41.362060Z",
     "iopub.status.busy": "2022-12-05T12:15:41.361389Z",
     "iopub.status.idle": "2022-12-05T12:15:41.363757Z",
     "shell.execute_reply": "2022-12-05T12:15:41.363120Z"
    },
    "papermill": {
     "duration": 0.035809,
     "end_time": "2022-12-05T12:15:41.363877",
     "exception": false,
     "start_time": "2022-12-05T12:15:41.328068",
     "status": "completed"
    },
    "tags": []
   },
   "outputs": [],
   "source": [
    "#hide\n",
    "# cols = list(g.columns.values)"
   ]
  },
  {
   "cell_type": "code",
   "execution_count": 29,
   "id": "solved-farming",
   "metadata": {
    "execution": {
     "iopub.execute_input": "2022-12-05T12:15:41.429313Z",
     "iopub.status.busy": "2022-12-05T12:15:41.428433Z",
     "iopub.status.idle": "2022-12-05T12:15:41.430497Z",
     "shell.execute_reply": "2022-12-05T12:15:41.430968Z"
    },
    "papermill": {
     "duration": 0.036551,
     "end_time": "2022-12-05T12:15:41.431101",
     "exception": false,
     "start_time": "2022-12-05T12:15:41.394550",
     "status": "completed"
    },
    "tags": []
   },
   "outputs": [],
   "source": [
    "#hide\n",
    "# cols.insert(0, cols.pop())"
   ]
  },
  {
   "cell_type": "code",
   "execution_count": 30,
   "id": "executed-adoption",
   "metadata": {
    "execution": {
     "iopub.execute_input": "2022-12-05T12:15:41.495069Z",
     "iopub.status.busy": "2022-12-05T12:15:41.494396Z",
     "iopub.status.idle": "2022-12-05T12:15:41.498974Z",
     "shell.execute_reply": "2022-12-05T12:15:41.499456Z"
    },
    "papermill": {
     "duration": 0.038488,
     "end_time": "2022-12-05T12:15:41.499599",
     "exception": false,
     "start_time": "2022-12-05T12:15:41.461111",
     "status": "completed"
    },
    "tags": []
   },
   "outputs": [],
   "source": [
    "#hide\n",
    "# g = g[cols]"
   ]
  },
  {
   "cell_type": "code",
   "execution_count": 31,
   "id": "subject-dublin",
   "metadata": {
    "execution": {
     "iopub.execute_input": "2022-12-05T12:15:41.563623Z",
     "iopub.status.busy": "2022-12-05T12:15:41.563033Z",
     "iopub.status.idle": "2022-12-05T12:15:41.565824Z",
     "shell.execute_reply": "2022-12-05T12:15:41.565357Z"
    },
    "papermill": {
     "duration": 0.036209,
     "end_time": "2022-12-05T12:15:41.565934",
     "exception": false,
     "start_time": "2022-12-05T12:15:41.529725",
     "status": "completed"
    },
    "tags": []
   },
   "outputs": [],
   "source": [
    "#hide\n",
    "# g['continent'] = g['continent'].map(mapping['map.continent'])"
   ]
  },
  {
   "cell_type": "code",
   "execution_count": 32,
   "id": "freelance-scout",
   "metadata": {
    "execution": {
     "iopub.execute_input": "2022-12-05T12:15:41.631571Z",
     "iopub.status.busy": "2022-12-05T12:15:41.630861Z",
     "iopub.status.idle": "2022-12-05T12:15:41.632643Z",
     "shell.execute_reply": "2022-12-05T12:15:41.633156Z"
    },
    "papermill": {
     "duration": 0.036832,
     "end_time": "2022-12-05T12:15:41.633308",
     "exception": false,
     "start_time": "2022-12-05T12:15:41.596476",
     "status": "completed"
    },
    "tags": []
   },
   "outputs": [],
   "source": [
    "#hide\n",
    "# g.head()"
   ]
  },
  {
   "cell_type": "code",
   "execution_count": 33,
   "id": "limited-engine",
   "metadata": {
    "execution": {
     "iopub.execute_input": "2022-12-05T12:15:41.697086Z",
     "iopub.status.busy": "2022-12-05T12:15:41.696502Z",
     "iopub.status.idle": "2022-12-05T12:15:41.699673Z",
     "shell.execute_reply": "2022-12-05T12:15:41.700223Z"
    },
    "papermill": {
     "duration": 0.036754,
     "end_time": "2022-12-05T12:15:41.700379",
     "exception": false,
     "start_time": "2022-12-05T12:15:41.663625",
     "status": "completed"
    },
    "tags": []
   },
   "outputs": [],
   "source": [
    "# hide\n",
    "# g['date'] = g['date'].astype('datetime64[ns]')"
   ]
  },
  {
   "cell_type": "code",
   "execution_count": 34,
   "id": "sophisticated-supervisor",
   "metadata": {
    "execution": {
     "iopub.execute_input": "2022-12-05T12:15:41.765512Z",
     "iopub.status.busy": "2022-12-05T12:15:41.764724Z",
     "iopub.status.idle": "2022-12-05T12:15:41.766479Z",
     "shell.execute_reply": "2022-12-05T12:15:41.766947Z"
    },
    "papermill": {
     "duration": 0.036373,
     "end_time": "2022-12-05T12:15:41.767082",
     "exception": false,
     "start_time": "2022-12-05T12:15:41.730709",
     "status": "completed"
    },
    "tags": []
   },
   "outputs": [],
   "source": [
    "#hide\n",
    "# g['date'] = g.date.dt.dayofyear"
   ]
  },
  {
   "cell_type": "code",
   "execution_count": 35,
   "id": "inside-dubai",
   "metadata": {
    "execution": {
     "iopub.execute_input": "2022-12-05T12:15:41.832188Z",
     "iopub.status.busy": "2022-12-05T12:15:41.831490Z",
     "iopub.status.idle": "2022-12-05T12:15:41.833281Z",
     "shell.execute_reply": "2022-12-05T12:15:41.833822Z"
    },
    "papermill": {
     "duration": 0.036652,
     "end_time": "2022-12-05T12:15:41.833976",
     "exception": false,
     "start_time": "2022-12-05T12:15:41.797324",
     "status": "completed"
    },
    "tags": []
   },
   "outputs": [],
   "source": [
    "#hide\n",
    "# g = g.rename(columns= {'continent':'group','country':'name','cases':'value'})"
   ]
  },
  {
   "cell_type": "code",
   "execution_count": 36,
   "id": "fleet-motorcycle",
   "metadata": {
    "execution": {
     "iopub.execute_input": "2022-12-05T12:15:41.898442Z",
     "iopub.status.busy": "2022-12-05T12:15:41.897807Z",
     "iopub.status.idle": "2022-12-05T12:15:41.900973Z",
     "shell.execute_reply": "2022-12-05T12:15:41.901509Z"
    },
    "papermill": {
     "duration": 0.036888,
     "end_time": "2022-12-05T12:15:41.901637",
     "exception": false,
     "start_time": "2022-12-05T12:15:41.864749",
     "status": "completed"
    },
    "tags": []
   },
   "outputs": [],
   "source": [
    "#hide\n",
    "# cols = ['name','group','day','value']"
   ]
  },
  {
   "cell_type": "code",
   "execution_count": 37,
   "id": "continued-sleeping",
   "metadata": {
    "execution": {
     "iopub.execute_input": "2022-12-05T12:15:41.966102Z",
     "iopub.status.busy": "2022-12-05T12:15:41.965500Z",
     "iopub.status.idle": "2022-12-05T12:15:41.967624Z",
     "shell.execute_reply": "2022-12-05T12:15:41.968067Z"
    },
    "papermill": {
     "duration": 0.036457,
     "end_time": "2022-12-05T12:15:41.968194",
     "exception": false,
     "start_time": "2022-12-05T12:15:41.931737",
     "status": "completed"
    },
    "tags": []
   },
   "outputs": [],
   "source": [
    "#hide\n",
    "# g.rename(columns= {'date':'day'},inplace = True)"
   ]
  },
  {
   "cell_type": "code",
   "execution_count": 38,
   "id": "major-fight",
   "metadata": {
    "execution": {
     "iopub.execute_input": "2022-12-05T12:15:42.032274Z",
     "iopub.status.busy": "2022-12-05T12:15:42.031641Z",
     "iopub.status.idle": "2022-12-05T12:15:42.033885Z",
     "shell.execute_reply": "2022-12-05T12:15:42.033314Z"
    },
    "papermill": {
     "duration": 0.035674,
     "end_time": "2022-12-05T12:15:42.034002",
     "exception": false,
     "start_time": "2022-12-05T12:15:41.998328",
     "status": "completed"
    },
    "tags": []
   },
   "outputs": [],
   "source": [
    "#hide\n",
    "# g = g[cols]"
   ]
  },
  {
   "cell_type": "code",
   "execution_count": 39,
   "id": "structured-mobile",
   "metadata": {
    "execution": {
     "iopub.execute_input": "2022-12-05T12:15:42.099975Z",
     "iopub.status.busy": "2022-12-05T12:15:42.099298Z",
     "iopub.status.idle": "2022-12-05T12:15:42.103146Z",
     "shell.execute_reply": "2022-12-05T12:15:42.103570Z"
    },
    "papermill": {
     "duration": 0.038592,
     "end_time": "2022-12-05T12:15:42.103706",
     "exception": false,
     "start_time": "2022-12-05T12:15:42.065114",
     "status": "completed"
    },
    "tags": []
   },
   "outputs": [],
   "source": [
    "# #hide\n",
    "# g = g[g.group.notna()]"
   ]
  },
  {
   "cell_type": "code",
   "execution_count": 40,
   "id": "determined-closing",
   "metadata": {
    "execution": {
     "iopub.execute_input": "2022-12-05T12:15:42.168155Z",
     "iopub.status.busy": "2022-12-05T12:15:42.167576Z",
     "iopub.status.idle": "2022-12-05T12:15:42.169706Z",
     "shell.execute_reply": "2022-12-05T12:15:42.169150Z"
    },
    "papermill": {
     "duration": 0.035921,
     "end_time": "2022-12-05T12:15:42.169819",
     "exception": false,
     "start_time": "2022-12-05T12:15:42.133898",
     "status": "completed"
    },
    "tags": []
   },
   "outputs": [],
   "source": [
    "# #hide\n",
    "# colors = dict(zip(\n",
    "#     [\"Oceania\", \"Europe\", \"Asia\", \"South America\", \"Middle East\", \"North America\", \"Africa\"],\n",
    "#     [\"#adb0ff\", \"#ffb3ff\", \"#90d595\", \"#e48381\", \"#aafbff\", \"#f7bb5f\", \"#eafb50\"]\n",
    "# ))\n",
    "# group_lk = g.set_index('name')['group'].to_dict()"
   ]
  },
  {
   "cell_type": "code",
   "execution_count": null,
   "id": "gross-drinking",
   "metadata": {
    "papermill": {
     "duration": 0.030188,
     "end_time": "2022-12-05T12:15:42.230078",
     "exception": false,
     "start_time": "2022-12-05T12:15:42.199890",
     "status": "completed"
    },
    "tags": []
   },
   "outputs": [],
   "source": []
  },
  {
   "cell_type": "code",
   "execution_count": 41,
   "id": "subject-macintosh",
   "metadata": {
    "execution": {
     "iopub.execute_input": "2022-12-05T12:15:42.295201Z",
     "iopub.status.busy": "2022-12-05T12:15:42.294585Z",
     "iopub.status.idle": "2022-12-05T12:15:42.296888Z",
     "shell.execute_reply": "2022-12-05T12:15:42.297438Z"
    },
    "papermill": {
     "duration": 0.037305,
     "end_time": "2022-12-05T12:15:42.297572",
     "exception": false,
     "start_time": "2022-12-05T12:15:42.260267",
     "status": "completed"
    },
    "tags": []
   },
   "outputs": [],
   "source": [
    "# #hide\n",
    "# fig, ax = plt.subplots(figsize=(15, 8))\n",
    "\n",
    "# def draw_barchart(current_day):\n",
    "#     dff = g[g['day'].eq(current_day)].sort_values(by='value', ascending=True).tail(10)\n",
    "#     ax.clear()\n",
    "#     ax.barh(dff['name'], dff['value'], color=[colors[group_lk[x]] for x in dff['name']])\n",
    "#     dx = dff['value'].max() / 200\n",
    "    \n",
    "#     for i, (value, name) in enumerate(zip(dff['value'], dff['name'])):\n",
    "#         ax.text(value-dx, i,     name,           size=14, weight=600, ha='right', va='bottom')\n",
    "#         ax.text(value-dx, i-.25, group_lk[name], size=10, color='#444444', ha='right', va='baseline')\n",
    "#         ax.text(value+dx, i,     f'{value:,.0f}',  size=14, ha='left',  va='center')\n",
    "#     ax.text(1, 0.4, current_day, transform=ax.transAxes, color='#777777', size=46, ha='right', weight=800)\n",
    "#     ax.text(0, 1.06, 'Population (thousands)', transform=ax.transAxes, size=12, color='#777777')\n",
    "#     ax.xaxis.set_major_formatter(ticker.StrMethodFormatter('{x:,.0f}'))\n",
    "#     ax.xaxis.set_ticks_position('top')\n",
    "#     ax.tick_params(axis='x', colors='#777777', labelsize=12)\n",
    "#     ax.set_yticks([])\n",
    "#     ax.margins(0, 0.01)\n",
    "#     ax.grid(which='major', axis='x', linestyle='-')\n",
    "#     ax.set_axisbelow(True)\n",
    "    \n",
    "#     ax.text(0, 1.15, 'Coronavirus',\n",
    "#             transform=ax.transAxes, size=24, weight=600, ha='left', va='top')\n",
    "# #     ax.text(1, 0, 'by @pratapvardhan; credit @jburnmurdoch', transform=ax.transAxes, color='#777777', ha='right',\n",
    "# #             bbox=dict(facecolor='white', alpha=0.8, edgecolor='white'))\n",
    "#     plt.box(False)"
   ]
  },
  {
   "cell_type": "code",
   "execution_count": 42,
   "id": "sexual-wages",
   "metadata": {
    "execution": {
     "iopub.execute_input": "2022-12-05T12:15:42.362130Z",
     "iopub.status.busy": "2022-12-05T12:15:42.361548Z",
     "iopub.status.idle": "2022-12-05T12:15:42.363762Z",
     "shell.execute_reply": "2022-12-05T12:15:42.364351Z"
    },
    "papermill": {
     "duration": 0.036434,
     "end_time": "2022-12-05T12:15:42.364489",
     "exception": false,
     "start_time": "2022-12-05T12:15:42.328055",
     "status": "completed"
    },
    "tags": []
   },
   "outputs": [],
   "source": [
    "# #hide_input\n",
    "# fig, ax = plt.subplots(figsize=(15, 8))\n",
    "# animator = animation.FuncAnimation(fig, draw_barchart, frames=range(g.day.values.min(), g.day.values.max()))\n",
    "# HTML(animator.to_jshtml())\n",
    "# # or use animator.to_html5_video() or animator.save() "
   ]
  },
  {
   "cell_type": "code",
   "execution_count": null,
   "id": "australian-container",
   "metadata": {
    "papermill": {
     "duration": 0.03003,
     "end_time": "2022-12-05T12:15:42.424476",
     "exception": false,
     "start_time": "2022-12-05T12:15:42.394446",
     "status": "completed"
    },
    "tags": []
   },
   "outputs": [],
   "source": []
  },
  {
   "cell_type": "code",
   "execution_count": null,
   "id": "mediterranean-pontiac",
   "metadata": {
    "papermill": {
     "duration": 0.030194,
     "end_time": "2022-12-05T12:15:42.484585",
     "exception": false,
     "start_time": "2022-12-05T12:15:42.454391",
     "status": "completed"
    },
    "tags": []
   },
   "outputs": [],
   "source": []
  },
  {
   "cell_type": "code",
   "execution_count": null,
   "id": "aging-legislature",
   "metadata": {
    "papermill": {
     "duration": 0.029894,
     "end_time": "2022-12-05T12:15:42.544657",
     "exception": false,
     "start_time": "2022-12-05T12:15:42.514763",
     "status": "completed"
    },
    "tags": []
   },
   "outputs": [],
   "source": []
  }
 ],
 "metadata": {
  "kernelspec": {
   "display_name": "Python 3",
   "language": "python",
   "name": "python3"
  },
  "language_info": {
   "codemirror_mode": {
    "name": "ipython",
    "version": 3
   },
   "file_extension": ".py",
   "mimetype": "text/x-python",
   "name": "python",
   "nbconvert_exporter": "python",
   "pygments_lexer": "ipython3",
   "version": "3.6.15"
  },
  "papermill": {
   "duration": 6.100097,
   "end_time": "2022-12-05T12:15:42.895464",
   "environment_variables": {},
   "exception": null,
   "input_path": "2020-03-21-covid19exp.ipynb",
   "output_path": "2020-03-21-covid19exp.ipynb",
   "parameters": {},
   "start_time": "2022-12-05T12:15:36.795367",
   "version": "2.0.0"
  }
 },
 "nbformat": 4,
 "nbformat_minor": 5
}