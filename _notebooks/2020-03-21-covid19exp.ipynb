{
 "cells": [
  {
   "cell_type": "markdown",
   "id": "muslim-click",
   "metadata": {
    "papermill": {
     "duration": 0.040687,
     "end_time": "2021-02-18T12:07:17.596266",
     "exception": false,
     "start_time": "2021-02-18T12:07:17.555579",
     "status": "completed"
    },
    "tags": []
   },
   "source": [
    "# COVID-19 Case Race\n",
    "> A race chart to see rising cases around the world\n",
    "\n",
    "- author: Hargun Oberoi\n",
    "- image: images/covid-overview.png\n",
    "- hide: false\n",
    "- badges: false"
   ]
  },
  {
   "cell_type": "code",
   "execution_count": 1,
   "id": "proof-material",
   "metadata": {
    "execution": {
     "iopub.execute_input": "2021-02-18T12:07:17.685748Z",
     "iopub.status.busy": "2021-02-18T12:07:17.684862Z",
     "iopub.status.idle": "2021-02-18T12:07:18.007264Z",
     "shell.execute_reply": "2021-02-18T12:07:18.006667Z"
    },
    "papermill": {
     "duration": 0.374779,
     "end_time": "2021-02-18T12:07:18.007462",
     "exception": false,
     "start_time": "2021-02-18T12:07:17.632683",
     "status": "completed"
    },
    "tags": []
   },
   "outputs": [],
   "source": [
    "#hide\n",
    "import numpy as np\n",
    "import pandas as pd\n",
    "from jinja2 import Template\n",
    "from IPython.display import HTML"
   ]
  },
  {
   "cell_type": "code",
   "execution_count": 2,
   "id": "developed-terminology",
   "metadata": {
    "execution": {
     "iopub.execute_input": "2021-02-18T12:07:18.083015Z",
     "iopub.status.busy": "2021-02-18T12:07:18.082410Z",
     "iopub.status.idle": "2021-02-18T12:07:18.084232Z",
     "shell.execute_reply": "2021-02-18T12:07:18.084723Z"
    },
    "papermill": {
     "duration": 0.044033,
     "end_time": "2021-02-18T12:07:18.084886",
     "exception": false,
     "start_time": "2021-02-18T12:07:18.040853",
     "status": "completed"
    },
    "tags": []
   },
   "outputs": [],
   "source": [
    "#hide\n",
    "\n",
    "# FETCH\n",
    "base_url = 'https://raw.githubusercontent.com/pratapvardhan/notebooks/master/covid19/'\n",
    "paths = {\n",
    "    'mapping': base_url + 'mapping_countries.csv',\n",
    "    'overview': base_url + 'overview.tpl'\n",
    "}"
   ]
  },
  {
   "cell_type": "code",
   "execution_count": 3,
   "id": "dynamic-saver",
   "metadata": {
    "execution": {
     "iopub.execute_input": "2021-02-18T12:07:18.158843Z",
     "iopub.status.busy": "2021-02-18T12:07:18.158235Z",
     "iopub.status.idle": "2021-02-18T12:07:18.161532Z",
     "shell.execute_reply": "2021-02-18T12:07:18.160985Z"
    },
    "papermill": {
     "duration": 0.045065,
     "end_time": "2021-02-18T12:07:18.161651",
     "exception": false,
     "start_time": "2021-02-18T12:07:18.116586",
     "status": "completed"
    },
    "tags": []
   },
   "outputs": [
    {
     "data": {
      "text/plain": [
       "'https://raw.githubusercontent.com/pratapvardhan/notebooks/master/covid19/mapping_countries.csv'"
      ]
     },
     "execution_count": 3,
     "metadata": {},
     "output_type": "execute_result"
    }
   ],
   "source": [
    "#hide\n",
    "paths['mapping']"
   ]
  },
  {
   "cell_type": "code",
   "execution_count": 4,
   "id": "urban-software",
   "metadata": {
    "execution": {
     "iopub.execute_input": "2021-02-18T12:07:18.239011Z",
     "iopub.status.busy": "2021-02-18T12:07:18.238213Z",
     "iopub.status.idle": "2021-02-18T12:07:18.242077Z",
     "shell.execute_reply": "2021-02-18T12:07:18.240826Z"
    },
    "papermill": {
     "duration": 0.048302,
     "end_time": "2021-02-18T12:07:18.242294",
     "exception": false,
     "start_time": "2021-02-18T12:07:18.193992",
     "status": "completed"
    },
    "tags": []
   },
   "outputs": [],
   "source": [
    "#hide\n",
    "def get_mappings(url):\n",
    "    df = pd.read_csv(url)\n",
    "    return {\n",
    "        'df': df,\n",
    "        'replace.country': dict(df.dropna(subset=['Name']).set_index('Country')['Name']),\n",
    "        'map.continent': dict(df.set_index('Name')['Continent'])\n",
    "    }"
   ]
  },
  {
   "cell_type": "code",
   "execution_count": 5,
   "id": "intimate-machinery",
   "metadata": {
    "execution": {
     "iopub.execute_input": "2021-02-18T12:07:18.322919Z",
     "iopub.status.busy": "2021-02-18T12:07:18.322296Z",
     "iopub.status.idle": "2021-02-18T12:07:18.348645Z",
     "shell.execute_reply": "2021-02-18T12:07:18.349145Z"
    },
    "papermill": {
     "duration": 0.069522,
     "end_time": "2021-02-18T12:07:18.349296",
     "exception": false,
     "start_time": "2021-02-18T12:07:18.279774",
     "status": "completed"
    },
    "tags": []
   },
   "outputs": [],
   "source": [
    "#hide\n",
    "mapping = get_mappings(paths['mapping'])"
   ]
  },
  {
   "cell_type": "code",
   "execution_count": 6,
   "id": "certified-tactics",
   "metadata": {
    "execution": {
     "iopub.execute_input": "2021-02-18T12:07:18.427755Z",
     "iopub.status.busy": "2021-02-18T12:07:18.427152Z",
     "iopub.status.idle": "2021-02-18T12:07:18.430179Z",
     "shell.execute_reply": "2021-02-18T12:07:18.429522Z"
    },
    "papermill": {
     "duration": 0.045131,
     "end_time": "2021-02-18T12:07:18.430296",
     "exception": false,
     "start_time": "2021-02-18T12:07:18.385165",
     "status": "completed"
    },
    "tags": []
   },
   "outputs": [],
   "source": [
    "#hide\n",
    "def get_template(path):\n",
    "    from urllib.parse import urlparse\n",
    "    if bool(urlparse(path).netloc):\n",
    "        from urllib.request import urlopen\n",
    "        return urlopen(path).read().decode('utf8')\n",
    "    return open(path).read()"
   ]
  },
  {
   "cell_type": "code",
   "execution_count": 7,
   "id": "realistic-blast",
   "metadata": {
    "execution": {
     "iopub.execute_input": "2021-02-18T12:07:18.507759Z",
     "iopub.status.busy": "2021-02-18T12:07:18.507060Z",
     "iopub.status.idle": "2021-02-18T12:07:18.509917Z",
     "shell.execute_reply": "2021-02-18T12:07:18.509227Z"
    },
    "papermill": {
     "duration": 0.045904,
     "end_time": "2021-02-18T12:07:18.510045",
     "exception": false,
     "start_time": "2021-02-18T12:07:18.464141",
     "status": "completed"
    },
    "tags": []
   },
   "outputs": [],
   "source": [
    "#hide\n",
    "def get_frame(name):\n",
    "    url = (\n",
    "        'https://raw.githubusercontent.com/CSSEGISandData/COVID-19/master/csse_covid_19_data/'\n",
    "        f'csse_covid_19_time_series/time_series_covid19_{name}_global.csv')\n",
    "    df = pd.read_csv(url)\n",
    "    # rename countries\n",
    "    df['Country/Region'] = df['Country/Region'].replace(mapping['replace.country'])\n",
    "    return df"
   ]
  },
  {
   "cell_type": "code",
   "execution_count": 8,
   "id": "affiliated-characterization",
   "metadata": {
    "execution": {
     "iopub.execute_input": "2021-02-18T12:07:18.585111Z",
     "iopub.status.busy": "2021-02-18T12:07:18.584551Z",
     "iopub.status.idle": "2021-02-18T12:07:18.586767Z",
     "shell.execute_reply": "2021-02-18T12:07:18.586349Z"
    },
    "papermill": {
     "duration": 0.040175,
     "end_time": "2021-02-18T12:07:18.586873",
     "exception": false,
     "start_time": "2021-02-18T12:07:18.546698",
     "status": "completed"
    },
    "tags": []
   },
   "outputs": [],
   "source": [
    "#hide\n",
    "def get_dates(df):\n",
    "    dt_cols = df.columns[~df.columns.isin(['Province/State', 'Country/Region', 'Lat', 'Long'])]\n",
    "    LAST_DATE_I = -1\n",
    "    # sometimes last column may be empty, then go backwards\n",
    "    for i in range(-1, -len(dt_cols), -1):\n",
    "        if not df[dt_cols[i]].fillna(0).eq(0).all():\n",
    "            LAST_DATE_I = i\n",
    "            break\n",
    "    return LAST_DATE_I, dt_cols"
   ]
  },
  {
   "cell_type": "code",
   "execution_count": 9,
   "id": "recent-optimization",
   "metadata": {
    "execution": {
     "iopub.execute_input": "2021-02-18T12:07:18.661542Z",
     "iopub.status.busy": "2021-02-18T12:07:18.660797Z",
     "iopub.status.idle": "2021-02-18T12:07:18.901988Z",
     "shell.execute_reply": "2021-02-18T12:07:18.901471Z"
    },
    "papermill": {
     "duration": 0.28403,
     "end_time": "2021-02-18T12:07:18.902121",
     "exception": false,
     "start_time": "2021-02-18T12:07:18.618091",
     "status": "completed"
    },
    "tags": []
   },
   "outputs": [],
   "source": [
    "#hide\n",
    "COL_REGION = 'Country/Region'\n",
    "# Confirmed, Recovered, Deaths\n",
    "df = get_frame('confirmed')\n",
    "# dft_: timeseries, dfc_: today country agg\n",
    "dft_cases = df\n",
    "dft_deaths = get_frame('deaths')\n",
    "dft_recovered = get_frame('recovered')\n",
    "LAST_DATE_I, dt_cols = get_dates(df)"
   ]
  },
  {
   "cell_type": "code",
   "execution_count": 10,
   "id": "absolute-copper",
   "metadata": {
    "execution": {
     "iopub.execute_input": "2021-02-18T12:07:18.979826Z",
     "iopub.status.busy": "2021-02-18T12:07:18.979224Z",
     "iopub.status.idle": "2021-02-18T12:07:18.981489Z",
     "shell.execute_reply": "2021-02-18T12:07:18.980942Z"
    },
    "papermill": {
     "duration": 0.04266,
     "end_time": "2021-02-18T12:07:18.981630",
     "exception": false,
     "start_time": "2021-02-18T12:07:18.938970",
     "status": "completed"
    },
    "tags": []
   },
   "outputs": [],
   "source": [
    "#hide\n",
    "LAST_DATE_I, dt_cols = get_dates(df)\n",
    "dt_today =dt_cols[LAST_DATE_I]\n",
    "# dt_5day = dt_cols[LAST_DATE_I - 5]\n",
    "dt_yday = dt_cols[LAST_DATE_I - 1]"
   ]
  },
  {
   "cell_type": "code",
   "execution_count": 11,
   "id": "restricted-sheriff",
   "metadata": {
    "execution": {
     "iopub.execute_input": "2021-02-18T12:07:19.057661Z",
     "iopub.status.busy": "2021-02-18T12:07:19.057069Z",
     "iopub.status.idle": "2021-02-18T12:07:19.064329Z",
     "shell.execute_reply": "2021-02-18T12:07:19.064860Z"
    },
    "papermill": {
     "duration": 0.047767,
     "end_time": "2021-02-18T12:07:19.065026",
     "exception": false,
     "start_time": "2021-02-18T12:07:19.017259",
     "status": "completed"
    },
    "tags": []
   },
   "outputs": [],
   "source": [
    "#hide\n",
    "dfc_cases = dft_cases.groupby(COL_REGION)[dt_today].sum()\n",
    "dfc_deaths = dft_deaths.groupby(COL_REGION)[dt_today].sum()\n",
    "# dfp_cases = dft_cases.groupby(COL_REGION)[dt_5day].sum()\n",
    "# dfp_deaths = dft_deaths.groupby(COL_REGION)[dt_5day].sum()\n",
    "dfp_cases = dft_cases.groupby(COL_REGION)[dt_yday].sum()\n",
    "dfp_deaths = dft_deaths.groupby(COL_REGION)[dt_yday].sum()"
   ]
  },
  {
   "cell_type": "code",
   "execution_count": 12,
   "id": "deluxe-hepatitis",
   "metadata": {
    "execution": {
     "iopub.execute_input": "2021-02-18T12:07:19.140882Z",
     "iopub.status.busy": "2021-02-18T12:07:19.140312Z",
     "iopub.status.idle": "2021-02-18T12:07:19.145622Z",
     "shell.execute_reply": "2021-02-18T12:07:19.146273Z"
    },
    "papermill": {
     "duration": 0.047144,
     "end_time": "2021-02-18T12:07:19.146404",
     "exception": false,
     "start_time": "2021-02-18T12:07:19.099260",
     "status": "completed"
    },
    "tags": []
   },
   "outputs": [],
   "source": [
    "#hide\n",
    "df_table = (pd.DataFrame(dict(Cases = dfc_cases, Deaths = dfc_deaths, PCases = dfp_cases, PDeaths = dfp_deaths))\n",
    "            .sort_values(by = ['Cases','Deaths'], ascending = [False, False])\n",
    "            .reset_index())"
   ]
  },
  {
   "cell_type": "code",
   "execution_count": 13,
   "id": "educational-chancellor",
   "metadata": {
    "execution": {
     "iopub.execute_input": "2021-02-18T12:07:19.238503Z",
     "iopub.status.busy": "2021-02-18T12:07:19.237968Z",
     "iopub.status.idle": "2021-02-18T12:07:19.247993Z",
     "shell.execute_reply": "2021-02-18T12:07:19.248543Z"
    },
    "papermill": {
     "duration": 0.067779,
     "end_time": "2021-02-18T12:07:19.248674",
     "exception": false,
     "start_time": "2021-02-18T12:07:19.180895",
     "status": "completed"
    },
    "tags": []
   },
   "outputs": [
    {
     "data": {
      "text/html": [
       "<div>\n",
       "<style scoped>\n",
       "    .dataframe tbody tr th:only-of-type {\n",
       "        vertical-align: middle;\n",
       "    }\n",
       "\n",
       "    .dataframe tbody tr th {\n",
       "        vertical-align: top;\n",
       "    }\n",
       "\n",
       "    .dataframe thead th {\n",
       "        text-align: right;\n",
       "    }\n",
       "</style>\n",
       "<table border=\"1\" class=\"dataframe\">\n",
       "  <thead>\n",
       "    <tr style=\"text-align: right;\">\n",
       "      <th></th>\n",
       "      <th>Country/Region</th>\n",
       "      <th>Cases</th>\n",
       "      <th>Deaths</th>\n",
       "      <th>PCases</th>\n",
       "      <th>PDeaths</th>\n",
       "      <th>Cases (+)</th>\n",
       "      <th>Deaths (+)</th>\n",
       "      <th>Fatality Rate</th>\n",
       "      <th>Continent</th>\n",
       "    </tr>\n",
       "  </thead>\n",
       "  <tbody>\n",
       "    <tr>\n",
       "      <th>0</th>\n",
       "      <td>US</td>\n",
       "      <td>27826812</td>\n",
       "      <td>490540</td>\n",
       "      <td>27756624</td>\n",
       "      <td>488081</td>\n",
       "      <td>70188</td>\n",
       "      <td>2459</td>\n",
       "      <td>1.76</td>\n",
       "      <td>North America</td>\n",
       "    </tr>\n",
       "    <tr>\n",
       "      <th>1</th>\n",
       "      <td>India</td>\n",
       "      <td>10950201</td>\n",
       "      <td>156014</td>\n",
       "      <td>10937320</td>\n",
       "      <td>155913</td>\n",
       "      <td>12881</td>\n",
       "      <td>101</td>\n",
       "      <td>1.42</td>\n",
       "      <td>Asia</td>\n",
       "    </tr>\n",
       "    <tr>\n",
       "      <th>2</th>\n",
       "      <td>Brazil</td>\n",
       "      <td>9978747</td>\n",
       "      <td>242090</td>\n",
       "      <td>9921981</td>\n",
       "      <td>240940</td>\n",
       "      <td>56766</td>\n",
       "      <td>1150</td>\n",
       "      <td>2.43</td>\n",
       "      <td>South America</td>\n",
       "    </tr>\n",
       "    <tr>\n",
       "      <th>3</th>\n",
       "      <td>United Kingdom</td>\n",
       "      <td>4083092</td>\n",
       "      <td>119159</td>\n",
       "      <td>4070332</td>\n",
       "      <td>118421</td>\n",
       "      <td>12760</td>\n",
       "      <td>738</td>\n",
       "      <td>2.92</td>\n",
       "      <td>Europe</td>\n",
       "    </tr>\n",
       "    <tr>\n",
       "      <th>4</th>\n",
       "      <td>Russia</td>\n",
       "      <td>4066164</td>\n",
       "      <td>80118</td>\n",
       "      <td>4053535</td>\n",
       "      <td>79659</td>\n",
       "      <td>12629</td>\n",
       "      <td>459</td>\n",
       "      <td>1.97</td>\n",
       "      <td>Europe</td>\n",
       "    </tr>\n",
       "  </tbody>\n",
       "</table>\n",
       "</div>"
      ],
      "text/plain": [
       "   Country/Region     Cases  Deaths    PCases  PDeaths  Cases (+)  Deaths (+)  \\\n",
       "0              US  27826812  490540  27756624   488081      70188        2459   \n",
       "1           India  10950201  156014  10937320   155913      12881         101   \n",
       "2          Brazil   9978747  242090   9921981   240940      56766        1150   \n",
       "3  United Kingdom   4083092  119159   4070332   118421      12760         738   \n",
       "4          Russia   4066164   80118   4053535    79659      12629         459   \n",
       "\n",
       "   Fatality Rate      Continent  \n",
       "0           1.76  North America  \n",
       "1           1.42           Asia  \n",
       "2           2.43  South America  \n",
       "3           2.92         Europe  \n",
       "4           1.97         Europe  "
      ]
     },
     "execution_count": 13,
     "metadata": {},
     "output_type": "execute_result"
    }
   ],
   "source": [
    "#hide\n",
    "for c in 'Cases, Deaths'.split(', '):\n",
    "    df_table[f'{c} (+)'] = (df_table[c] - df_table[f'P{c}']).clip(0)\n",
    "    #Clip ça veut dire, les chiffres negatif sont interdit\n",
    "df_table['Fatality Rate'] = (100* df_table['Deaths']/ df_table['Cases']).round(2)\n",
    "df_table['Continent'] = df_table['Country/Region'].map(mapping['map.continent'])\n",
    "df_table.head(5)"
   ]
  },
  {
   "cell_type": "code",
   "execution_count": 14,
   "id": "aboriginal-bulgaria",
   "metadata": {
    "execution": {
     "iopub.execute_input": "2021-02-18T12:07:19.328297Z",
     "iopub.status.busy": "2021-02-18T12:07:19.327650Z",
     "iopub.status.idle": "2021-02-18T12:07:19.330889Z",
     "shell.execute_reply": "2021-02-18T12:07:19.331345Z"
    },
    "papermill": {
     "duration": 0.047872,
     "end_time": "2021-02-18T12:07:19.331482",
     "exception": false,
     "start_time": "2021-02-18T12:07:19.283610",
     "status": "completed"
    },
    "tags": []
   },
   "outputs": [],
   "source": [
    "#hide\n",
    "#delete problematic countries from table\n",
    "df_table = df_table[~df_table['Country/Region'].isin(['Cape Verde', 'Cruise Ship', 'Kosovo'])]"
   ]
  },
  {
   "cell_type": "code",
   "execution_count": 15,
   "id": "fantastic-effect",
   "metadata": {
    "execution": {
     "iopub.execute_input": "2021-02-18T12:07:19.410446Z",
     "iopub.status.busy": "2021-02-18T12:07:19.409727Z",
     "iopub.status.idle": "2021-02-18T12:07:19.432207Z",
     "shell.execute_reply": "2021-02-18T12:07:19.432838Z"
    },
    "papermill": {
     "duration": 0.068083,
     "end_time": "2021-02-18T12:07:19.433104",
     "exception": false,
     "start_time": "2021-02-18T12:07:19.365021",
     "status": "completed"
    },
    "tags": []
   },
   "outputs": [
    {
     "data": {
      "text/html": [
       "<div>\n",
       "<style scoped>\n",
       "    .dataframe tbody tr th:only-of-type {\n",
       "        vertical-align: middle;\n",
       "    }\n",
       "\n",
       "    .dataframe tbody tr th {\n",
       "        vertical-align: top;\n",
       "    }\n",
       "\n",
       "    .dataframe thead th {\n",
       "        text-align: right;\n",
       "    }\n",
       "</style>\n",
       "<table border=\"1\" class=\"dataframe\">\n",
       "  <thead>\n",
       "    <tr style=\"text-align: right;\">\n",
       "      <th></th>\n",
       "      <th>Country/Region</th>\n",
       "      <th>Cases</th>\n",
       "      <th>Deaths</th>\n",
       "      <th>PCases</th>\n",
       "      <th>PDeaths</th>\n",
       "      <th>Cases (+)</th>\n",
       "      <th>Deaths (+)</th>\n",
       "      <th>Fatality Rate</th>\n",
       "      <th>Continent</th>\n",
       "    </tr>\n",
       "  </thead>\n",
       "  <tbody>\n",
       "    <tr>\n",
       "      <th>0</th>\n",
       "      <td>US</td>\n",
       "      <td>27826812</td>\n",
       "      <td>490540</td>\n",
       "      <td>27756624</td>\n",
       "      <td>488081</td>\n",
       "      <td>70188</td>\n",
       "      <td>2459</td>\n",
       "      <td>1.8</td>\n",
       "      <td>North America</td>\n",
       "    </tr>\n",
       "    <tr>\n",
       "      <th>1</th>\n",
       "      <td>India</td>\n",
       "      <td>10950201</td>\n",
       "      <td>156014</td>\n",
       "      <td>10937320</td>\n",
       "      <td>155913</td>\n",
       "      <td>12881</td>\n",
       "      <td>101</td>\n",
       "      <td>1.4</td>\n",
       "      <td>Asia</td>\n",
       "    </tr>\n",
       "    <tr>\n",
       "      <th>2</th>\n",
       "      <td>Brazil</td>\n",
       "      <td>9978747</td>\n",
       "      <td>242090</td>\n",
       "      <td>9921981</td>\n",
       "      <td>240940</td>\n",
       "      <td>56766</td>\n",
       "      <td>1150</td>\n",
       "      <td>2.4</td>\n",
       "      <td>South America</td>\n",
       "    </tr>\n",
       "    <tr>\n",
       "      <th>3</th>\n",
       "      <td>United Kingdom</td>\n",
       "      <td>4083092</td>\n",
       "      <td>119159</td>\n",
       "      <td>4070332</td>\n",
       "      <td>118421</td>\n",
       "      <td>12760</td>\n",
       "      <td>738</td>\n",
       "      <td>2.9</td>\n",
       "      <td>Europe</td>\n",
       "    </tr>\n",
       "    <tr>\n",
       "      <th>4</th>\n",
       "      <td>Russia</td>\n",
       "      <td>4066164</td>\n",
       "      <td>80118</td>\n",
       "      <td>4053535</td>\n",
       "      <td>79659</td>\n",
       "      <td>12629</td>\n",
       "      <td>459</td>\n",
       "      <td>2.0</td>\n",
       "      <td>Europe</td>\n",
       "    </tr>\n",
       "  </tbody>\n",
       "</table>\n",
       "</div>"
      ],
      "text/plain": [
       "   Country/Region     Cases  Deaths    PCases  PDeaths  Cases (+)  Deaths (+)  \\\n",
       "0              US  27826812  490540  27756624   488081      70188        2459   \n",
       "1           India  10950201  156014  10937320   155913      12881         101   \n",
       "2          Brazil   9978747  242090   9921981   240940      56766        1150   \n",
       "3  United Kingdom   4083092  119159   4070332   118421      12760         738   \n",
       "4          Russia   4066164   80118   4053535    79659      12629         459   \n",
       "\n",
       "   Fatality Rate      Continent  \n",
       "0            1.8  North America  \n",
       "1            1.4           Asia  \n",
       "2            2.4  South America  \n",
       "3            2.9         Europe  \n",
       "4            2.0         Europe  "
      ]
     },
     "execution_count": 15,
     "metadata": {},
     "output_type": "execute_result"
    }
   ],
   "source": [
    "#hide\n",
    "df_table = (pd.DataFrame(dict(Cases=dfc_cases, Deaths=dfc_deaths, PCases=dfp_cases, PDeaths=dfp_deaths))\n",
    "             .sort_values(by=['Cases', 'Deaths'], ascending=[False, False])\n",
    "             .reset_index())\n",
    "df_table.rename(columns={'index': 'Country/Region'}, inplace=True)\n",
    "for c in 'Cases, Deaths'.split(', '):\n",
    "    df_table[f'{c} (+)'] = (df_table[c] - df_table[f'P{c}']).clip(0)  # DATA BUG\n",
    "df_table['Fatality Rate'] = (100 * df_table['Deaths'] / df_table['Cases']).round(1)\n",
    "df_table['Continent'] = df_table['Country/Region'].map(mapping['map.continent'])\n",
    "df_table.head(5)"
   ]
  },
  {
   "cell_type": "code",
   "execution_count": 16,
   "id": "fewer-occasion",
   "metadata": {
    "execution": {
     "iopub.execute_input": "2021-02-18T12:07:19.514546Z",
     "iopub.status.busy": "2021-02-18T12:07:19.513112Z",
     "iopub.status.idle": "2021-02-18T12:07:19.516022Z",
     "shell.execute_reply": "2021-02-18T12:07:19.516631Z"
    },
    "papermill": {
     "duration": 0.046035,
     "end_time": "2021-02-18T12:07:19.516805",
     "exception": false,
     "start_time": "2021-02-18T12:07:19.470770",
     "status": "completed"
    },
    "tags": []
   },
   "outputs": [],
   "source": [
    "#hide\n",
    "#delete problematic countries from table\n",
    "df_table = df_table[~df_table['Country/Region'].isin(['Cape Verde', 'Cruise Ship', 'Kosovo'])]"
   ]
  },
  {
   "cell_type": "code",
   "execution_count": 17,
   "id": "related-center",
   "metadata": {
    "execution": {
     "iopub.execute_input": "2021-02-18T12:07:19.613436Z",
     "iopub.status.busy": "2021-02-18T12:07:19.612661Z",
     "iopub.status.idle": "2021-02-18T12:07:19.615357Z",
     "shell.execute_reply": "2021-02-18T12:07:19.614852Z"
    },
    "papermill": {
     "duration": 0.063565,
     "end_time": "2021-02-18T12:07:19.615480",
     "exception": false,
     "start_time": "2021-02-18T12:07:19.551915",
     "status": "completed"
    },
    "tags": []
   },
   "outputs": [],
   "source": [
    "#hide\n",
    "metrics = [df_table.columns[index] for index in [1,2,5,6]]\n",
    "# s_china = df_table[df_table['Country/Region'].eq('China')][metrics].sum().add_prefix('China ')\n",
    "s_us = df_table[df_table['Country/Region'].eq('US')][metrics].sum().add_prefix('US ')\n",
    "s_eu = df_table[df_table['Continent'].eq('Europe')][metrics].sum().add_prefix('EU ')\n",
    "s_ind = df_table[df_table['Country/Region'].eq('India')][metrics].sum().add_prefix('India ')\n",
    "summary = {'updated': pd.to_datetime(dt_today), 'since': pd.to_datetime(dt_yday)}\n",
    "summary = {'updated': pd.to_datetime(dt_today), 'since': pd.to_datetime(dt_yday)}\n",
    "summary = {**summary, **df_table[metrics].sum(), **s_ind, **s_us, **s_eu}"
   ]
  },
  {
   "cell_type": "code",
   "execution_count": 18,
   "id": "engaging-syndrome",
   "metadata": {
    "execution": {
     "iopub.execute_input": "2021-02-18T12:07:19.704878Z",
     "iopub.status.busy": "2021-02-18T12:07:19.703783Z",
     "iopub.status.idle": "2021-02-18T12:07:19.721417Z",
     "shell.execute_reply": "2021-02-18T12:07:19.721995Z"
    },
    "papermill": {
     "duration": 0.066092,
     "end_time": "2021-02-18T12:07:19.722158",
     "exception": false,
     "start_time": "2021-02-18T12:07:19.656066",
     "status": "completed"
    },
    "tags": []
   },
   "outputs": [],
   "source": [
    "#hide\n",
    "dft_ct_new_cases = dft_cases.groupby(COL_REGION)[dt_cols].sum().diff(axis=1).fillna(0).astype(int)"
   ]
  },
  {
   "cell_type": "code",
   "execution_count": 19,
   "id": "neutral-assignment",
   "metadata": {
    "execution": {
     "iopub.execute_input": "2021-02-18T12:07:19.807531Z",
     "iopub.status.busy": "2021-02-18T12:07:19.806926Z",
     "iopub.status.idle": "2021-02-18T12:07:19.809348Z",
     "shell.execute_reply": "2021-02-18T12:07:19.810000Z"
    },
    "papermill": {
     "duration": 0.047747,
     "end_time": "2021-02-18T12:07:19.810176",
     "exception": false,
     "start_time": "2021-02-18T12:07:19.762429",
     "status": "completed"
    },
    "tags": []
   },
   "outputs": [],
   "source": [
    "#hide\n",
    "everydaycases = dft_ct_new_cases.cumsum(axis=1)"
   ]
  },
  {
   "cell_type": "code",
   "execution_count": 20,
   "id": "parliamentary-calgary",
   "metadata": {
    "execution": {
     "iopub.execute_input": "2021-02-18T12:07:19.901545Z",
     "iopub.status.busy": "2021-02-18T12:07:19.900915Z",
     "iopub.status.idle": "2021-02-18T12:07:24.938125Z",
     "shell.execute_reply": "2021-02-18T12:07:24.937023Z"
    },
    "papermill": {
     "duration": 5.090286,
     "end_time": "2021-02-18T12:07:24.938321",
     "exception": false,
     "start_time": "2021-02-18T12:07:19.848035",
     "status": "completed"
    },
    "tags": []
   },
   "outputs": [],
   "source": [
    "#hide\n",
    "import pandas as pd\n",
    "import matplotlib.pyplot as plt\n",
    "import matplotlib.ticker as ticker\n",
    "import matplotlib.animation as animation\n",
    "from IPython.display import HTML"
   ]
  },
  {
   "cell_type": "code",
   "execution_count": 21,
   "id": "lasting-extraction",
   "metadata": {
    "execution": {
     "iopub.execute_input": "2021-02-18T12:07:25.023216Z",
     "iopub.status.busy": "2021-02-18T12:07:25.022497Z",
     "iopub.status.idle": "2021-02-18T12:07:25.027649Z",
     "shell.execute_reply": "2021-02-18T12:07:25.028334Z"
    },
    "papermill": {
     "duration": 0.051936,
     "end_time": "2021-02-18T12:07:25.028469",
     "exception": false,
     "start_time": "2021-02-18T12:07:24.976533",
     "status": "completed"
    },
    "tags": []
   },
   "outputs": [],
   "source": [
    "#hide\n",
    "t = everydaycases.stack()"
   ]
  },
  {
   "cell_type": "code",
   "execution_count": 22,
   "id": "premier-sleeve",
   "metadata": {
    "execution": {
     "iopub.execute_input": "2021-02-18T12:07:25.113979Z",
     "iopub.status.busy": "2021-02-18T12:07:25.113313Z",
     "iopub.status.idle": "2021-02-18T12:07:25.122062Z",
     "shell.execute_reply": "2021-02-18T12:07:25.121455Z"
    },
    "papermill": {
     "duration": 0.052434,
     "end_time": "2021-02-18T12:07:25.122198",
     "exception": false,
     "start_time": "2021-02-18T12:07:25.069764",
     "status": "completed"
    },
    "tags": []
   },
   "outputs": [],
   "source": [
    "#hide\n",
    "g = t.reset_index(['Country/Region'])"
   ]
  },
  {
   "cell_type": "code",
   "execution_count": 23,
   "id": "distributed-pittsburgh",
   "metadata": {
    "execution": {
     "iopub.execute_input": "2021-02-18T12:07:25.205073Z",
     "iopub.status.busy": "2021-02-18T12:07:25.204397Z",
     "iopub.status.idle": "2021-02-18T12:07:25.206723Z",
     "shell.execute_reply": "2021-02-18T12:07:25.207268Z"
    },
    "papermill": {
     "duration": 0.046056,
     "end_time": "2021-02-18T12:07:25.207436",
     "exception": false,
     "start_time": "2021-02-18T12:07:25.161380",
     "status": "completed"
    },
    "tags": []
   },
   "outputs": [],
   "source": [
    "#hide\n",
    "g.index.name = 'date'"
   ]
  },
  {
   "cell_type": "code",
   "execution_count": 24,
   "id": "naked-donor",
   "metadata": {
    "execution": {
     "iopub.execute_input": "2021-02-18T12:07:25.296286Z",
     "iopub.status.busy": "2021-02-18T12:07:25.295560Z",
     "iopub.status.idle": "2021-02-18T12:07:25.298101Z",
     "shell.execute_reply": "2021-02-18T12:07:25.298669Z"
    },
    "papermill": {
     "duration": 0.046503,
     "end_time": "2021-02-18T12:07:25.298844",
     "exception": false,
     "start_time": "2021-02-18T12:07:25.252341",
     "status": "completed"
    },
    "tags": []
   },
   "outputs": [],
   "source": [
    "# #hide\n",
    "# g = g.reset_index(['date'])"
   ]
  },
  {
   "cell_type": "code",
   "execution_count": 25,
   "id": "incomplete-mustang",
   "metadata": {
    "execution": {
     "iopub.execute_input": "2021-02-18T12:07:25.388285Z",
     "iopub.status.busy": "2021-02-18T12:07:25.387633Z",
     "iopub.status.idle": "2021-02-18T12:07:25.389645Z",
     "shell.execute_reply": "2021-02-18T12:07:25.390260Z"
    },
    "papermill": {
     "duration": 0.044897,
     "end_time": "2021-02-18T12:07:25.390400",
     "exception": false,
     "start_time": "2021-02-18T12:07:25.345503",
     "status": "completed"
    },
    "tags": []
   },
   "outputs": [],
   "source": [
    "#hide\n",
    "# g.head()"
   ]
  },
  {
   "cell_type": "code",
   "execution_count": 26,
   "id": "specific-kruger",
   "metadata": {
    "execution": {
     "iopub.execute_input": "2021-02-18T12:07:25.469949Z",
     "iopub.status.busy": "2021-02-18T12:07:25.469206Z",
     "iopub.status.idle": "2021-02-18T12:07:25.471159Z",
     "shell.execute_reply": "2021-02-18T12:07:25.471720Z"
    },
    "papermill": {
     "duration": 0.044755,
     "end_time": "2021-02-18T12:07:25.471873",
     "exception": false,
     "start_time": "2021-02-18T12:07:25.427118",
     "status": "completed"
    },
    "tags": []
   },
   "outputs": [],
   "source": [
    "#hide\n",
    "# g.columns = ['date','country','cases']"
   ]
  },
  {
   "cell_type": "code",
   "execution_count": 27,
   "id": "tender-conversion",
   "metadata": {
    "execution": {
     "iopub.execute_input": "2021-02-18T12:07:25.552475Z",
     "iopub.status.busy": "2021-02-18T12:07:25.551602Z",
     "iopub.status.idle": "2021-02-18T12:07:25.553432Z",
     "shell.execute_reply": "2021-02-18T12:07:25.554116Z"
    },
    "papermill": {
     "duration": 0.043708,
     "end_time": "2021-02-18T12:07:25.554273",
     "exception": false,
     "start_time": "2021-02-18T12:07:25.510565",
     "status": "completed"
    },
    "tags": []
   },
   "outputs": [],
   "source": [
    "#hide\n",
    "# g['continent'] = g.country"
   ]
  },
  {
   "cell_type": "code",
   "execution_count": 28,
   "id": "substantial-wilderness",
   "metadata": {
    "execution": {
     "iopub.execute_input": "2021-02-18T12:07:25.635238Z",
     "iopub.status.busy": "2021-02-18T12:07:25.634624Z",
     "iopub.status.idle": "2021-02-18T12:07:25.636536Z",
     "shell.execute_reply": "2021-02-18T12:07:25.637008Z"
    },
    "papermill": {
     "duration": 0.044638,
     "end_time": "2021-02-18T12:07:25.637178",
     "exception": false,
     "start_time": "2021-02-18T12:07:25.592540",
     "status": "completed"
    },
    "tags": []
   },
   "outputs": [],
   "source": [
    "#hide\n",
    "# cols = list(g.columns.values)"
   ]
  },
  {
   "cell_type": "code",
   "execution_count": 29,
   "id": "solved-farming",
   "metadata": {
    "execution": {
     "iopub.execute_input": "2021-02-18T12:07:25.714585Z",
     "iopub.status.busy": "2021-02-18T12:07:25.713845Z",
     "iopub.status.idle": "2021-02-18T12:07:25.715980Z",
     "shell.execute_reply": "2021-02-18T12:07:25.716540Z"
    },
    "papermill": {
     "duration": 0.042676,
     "end_time": "2021-02-18T12:07:25.717026",
     "exception": false,
     "start_time": "2021-02-18T12:07:25.674350",
     "status": "completed"
    },
    "tags": []
   },
   "outputs": [],
   "source": [
    "#hide\n",
    "# cols.insert(0, cols.pop())"
   ]
  },
  {
   "cell_type": "code",
   "execution_count": 30,
   "id": "executed-adoption",
   "metadata": {
    "execution": {
     "iopub.execute_input": "2021-02-18T12:07:25.804043Z",
     "iopub.status.busy": "2021-02-18T12:07:25.803356Z",
     "iopub.status.idle": "2021-02-18T12:07:25.806252Z",
     "shell.execute_reply": "2021-02-18T12:07:25.806816Z"
    },
    "papermill": {
     "duration": 0.052355,
     "end_time": "2021-02-18T12:07:25.806942",
     "exception": false,
     "start_time": "2021-02-18T12:07:25.754587",
     "status": "completed"
    },
    "tags": []
   },
   "outputs": [],
   "source": [
    "#hide\n",
    "# g = g[cols]"
   ]
  },
  {
   "cell_type": "code",
   "execution_count": 31,
   "id": "subject-dublin",
   "metadata": {
    "execution": {
     "iopub.execute_input": "2021-02-18T12:07:25.889727Z",
     "iopub.status.busy": "2021-02-18T12:07:25.888313Z",
     "iopub.status.idle": "2021-02-18T12:07:25.890437Z",
     "shell.execute_reply": "2021-02-18T12:07:25.891070Z"
    },
    "papermill": {
     "duration": 0.047545,
     "end_time": "2021-02-18T12:07:25.891225",
     "exception": false,
     "start_time": "2021-02-18T12:07:25.843680",
     "status": "completed"
    },
    "tags": []
   },
   "outputs": [],
   "source": [
    "#hide\n",
    "# g['continent'] = g['continent'].map(mapping['map.continent'])"
   ]
  },
  {
   "cell_type": "code",
   "execution_count": 32,
   "id": "freelance-scout",
   "metadata": {
    "execution": {
     "iopub.execute_input": "2021-02-18T12:07:25.971249Z",
     "iopub.status.busy": "2021-02-18T12:07:25.970380Z",
     "iopub.status.idle": "2021-02-18T12:07:25.972856Z",
     "shell.execute_reply": "2021-02-18T12:07:25.972273Z"
    },
    "papermill": {
     "duration": 0.043689,
     "end_time": "2021-02-18T12:07:25.972977",
     "exception": false,
     "start_time": "2021-02-18T12:07:25.929288",
     "status": "completed"
    },
    "tags": []
   },
   "outputs": [],
   "source": [
    "#hide\n",
    "# g.head()"
   ]
  },
  {
   "cell_type": "code",
   "execution_count": 33,
   "id": "limited-engine",
   "metadata": {
    "execution": {
     "iopub.execute_input": "2021-02-18T12:07:26.053892Z",
     "iopub.status.busy": "2021-02-18T12:07:26.053141Z",
     "iopub.status.idle": "2021-02-18T12:07:26.055342Z",
     "shell.execute_reply": "2021-02-18T12:07:26.055842Z"
    },
    "papermill": {
     "duration": 0.044368,
     "end_time": "2021-02-18T12:07:26.055974",
     "exception": false,
     "start_time": "2021-02-18T12:07:26.011606",
     "status": "completed"
    },
    "tags": []
   },
   "outputs": [],
   "source": [
    "# hide\n",
    "# g['date'] = g['date'].astype('datetime64[ns]')"
   ]
  },
  {
   "cell_type": "code",
   "execution_count": 34,
   "id": "sophisticated-supervisor",
   "metadata": {
    "execution": {
     "iopub.execute_input": "2021-02-18T12:07:26.144499Z",
     "iopub.status.busy": "2021-02-18T12:07:26.143846Z",
     "iopub.status.idle": "2021-02-18T12:07:26.146133Z",
     "shell.execute_reply": "2021-02-18T12:07:26.146791Z"
    },
    "papermill": {
     "duration": 0.046183,
     "end_time": "2021-02-18T12:07:26.146943",
     "exception": false,
     "start_time": "2021-02-18T12:07:26.100760",
     "status": "completed"
    },
    "tags": []
   },
   "outputs": [],
   "source": [
    "#hide\n",
    "# g['date'] = g.date.dt.dayofyear"
   ]
  },
  {
   "cell_type": "code",
   "execution_count": 35,
   "id": "inside-dubai",
   "metadata": {
    "execution": {
     "iopub.execute_input": "2021-02-18T12:07:26.229607Z",
     "iopub.status.busy": "2021-02-18T12:07:26.228928Z",
     "iopub.status.idle": "2021-02-18T12:07:26.230958Z",
     "shell.execute_reply": "2021-02-18T12:07:26.231597Z"
    },
    "papermill": {
     "duration": 0.045325,
     "end_time": "2021-02-18T12:07:26.231747",
     "exception": false,
     "start_time": "2021-02-18T12:07:26.186422",
     "status": "completed"
    },
    "tags": []
   },
   "outputs": [],
   "source": [
    "#hide\n",
    "# g = g.rename(columns= {'continent':'group','country':'name','cases':'value'})"
   ]
  },
  {
   "cell_type": "code",
   "execution_count": 36,
   "id": "fleet-motorcycle",
   "metadata": {
    "execution": {
     "iopub.execute_input": "2021-02-18T12:07:26.324845Z",
     "iopub.status.busy": "2021-02-18T12:07:26.324048Z",
     "iopub.status.idle": "2021-02-18T12:07:26.327180Z",
     "shell.execute_reply": "2021-02-18T12:07:26.326482Z"
    },
    "papermill": {
     "duration": 0.057094,
     "end_time": "2021-02-18T12:07:26.327361",
     "exception": false,
     "start_time": "2021-02-18T12:07:26.270267",
     "status": "completed"
    },
    "tags": []
   },
   "outputs": [],
   "source": [
    "#hide\n",
    "# cols = ['name','group','day','value']"
   ]
  },
  {
   "cell_type": "code",
   "execution_count": 37,
   "id": "continued-sleeping",
   "metadata": {
    "execution": {
     "iopub.execute_input": "2021-02-18T12:07:26.415999Z",
     "iopub.status.busy": "2021-02-18T12:07:26.415305Z",
     "iopub.status.idle": "2021-02-18T12:07:26.417530Z",
     "shell.execute_reply": "2021-02-18T12:07:26.418077Z"
    },
    "papermill": {
     "duration": 0.047276,
     "end_time": "2021-02-18T12:07:26.418232",
     "exception": false,
     "start_time": "2021-02-18T12:07:26.370956",
     "status": "completed"
    },
    "tags": []
   },
   "outputs": [],
   "source": [
    "#hide\n",
    "# g.rename(columns= {'date':'day'},inplace = True)"
   ]
  },
  {
   "cell_type": "code",
   "execution_count": 38,
   "id": "major-fight",
   "metadata": {
    "execution": {
     "iopub.execute_input": "2021-02-18T12:07:26.499895Z",
     "iopub.status.busy": "2021-02-18T12:07:26.499166Z",
     "iopub.status.idle": "2021-02-18T12:07:26.501624Z",
     "shell.execute_reply": "2021-02-18T12:07:26.502246Z"
    },
    "papermill": {
     "duration": 0.045403,
     "end_time": "2021-02-18T12:07:26.502387",
     "exception": false,
     "start_time": "2021-02-18T12:07:26.456984",
     "status": "completed"
    },
    "tags": []
   },
   "outputs": [],
   "source": [
    "#hide\n",
    "# g = g[cols]"
   ]
  },
  {
   "cell_type": "code",
   "execution_count": 39,
   "id": "structured-mobile",
   "metadata": {
    "execution": {
     "iopub.execute_input": "2021-02-18T12:07:26.578840Z",
     "iopub.status.busy": "2021-02-18T12:07:26.578208Z",
     "iopub.status.idle": "2021-02-18T12:07:26.582555Z",
     "shell.execute_reply": "2021-02-18T12:07:26.582062Z"
    },
    "papermill": {
     "duration": 0.043062,
     "end_time": "2021-02-18T12:07:26.582667",
     "exception": false,
     "start_time": "2021-02-18T12:07:26.539605",
     "status": "completed"
    },
    "tags": []
   },
   "outputs": [],
   "source": [
    "# #hide\n",
    "# g = g[g.group.notna()]"
   ]
  },
  {
   "cell_type": "code",
   "execution_count": 40,
   "id": "determined-closing",
   "metadata": {
    "execution": {
     "iopub.execute_input": "2021-02-18T12:07:26.663810Z",
     "iopub.status.busy": "2021-02-18T12:07:26.663184Z",
     "iopub.status.idle": "2021-02-18T12:07:26.665980Z",
     "shell.execute_reply": "2021-02-18T12:07:26.665372Z"
    },
    "papermill": {
     "duration": 0.045737,
     "end_time": "2021-02-18T12:07:26.666155",
     "exception": false,
     "start_time": "2021-02-18T12:07:26.620418",
     "status": "completed"
    },
    "tags": []
   },
   "outputs": [],
   "source": [
    "# #hide\n",
    "# colors = dict(zip(\n",
    "#     [\"Oceania\", \"Europe\", \"Asia\", \"South America\", \"Middle East\", \"North America\", \"Africa\"],\n",
    "#     [\"#adb0ff\", \"#ffb3ff\", \"#90d595\", \"#e48381\", \"#aafbff\", \"#f7bb5f\", \"#eafb50\"]\n",
    "# ))\n",
    "# group_lk = g.set_index('name')['group'].to_dict()"
   ]
  },
  {
   "cell_type": "code",
   "execution_count": null,
   "id": "gross-drinking",
   "metadata": {
    "papermill": {
     "duration": 0.038574,
     "end_time": "2021-02-18T12:07:26.744363",
     "exception": false,
     "start_time": "2021-02-18T12:07:26.705789",
     "status": "completed"
    },
    "tags": []
   },
   "outputs": [],
   "source": []
  },
  {
   "cell_type": "code",
   "execution_count": 41,
   "id": "subject-macintosh",
   "metadata": {
    "execution": {
     "iopub.execute_input": "2021-02-18T12:07:26.822520Z",
     "iopub.status.busy": "2021-02-18T12:07:26.819836Z",
     "iopub.status.idle": "2021-02-18T12:07:26.824730Z",
     "shell.execute_reply": "2021-02-18T12:07:26.825286Z"
    },
    "papermill": {
     "duration": 0.045073,
     "end_time": "2021-02-18T12:07:26.825460",
     "exception": false,
     "start_time": "2021-02-18T12:07:26.780387",
     "status": "completed"
    },
    "tags": []
   },
   "outputs": [],
   "source": [
    "# #hide\n",
    "# fig, ax = plt.subplots(figsize=(15, 8))\n",
    "\n",
    "# def draw_barchart(current_day):\n",
    "#     dff = g[g['day'].eq(current_day)].sort_values(by='value', ascending=True).tail(10)\n",
    "#     ax.clear()\n",
    "#     ax.barh(dff['name'], dff['value'], color=[colors[group_lk[x]] for x in dff['name']])\n",
    "#     dx = dff['value'].max() / 200\n",
    "    \n",
    "#     for i, (value, name) in enumerate(zip(dff['value'], dff['name'])):\n",
    "#         ax.text(value-dx, i,     name,           size=14, weight=600, ha='right', va='bottom')\n",
    "#         ax.text(value-dx, i-.25, group_lk[name], size=10, color='#444444', ha='right', va='baseline')\n",
    "#         ax.text(value+dx, i,     f'{value:,.0f}',  size=14, ha='left',  va='center')\n",
    "#     ax.text(1, 0.4, current_day, transform=ax.transAxes, color='#777777', size=46, ha='right', weight=800)\n",
    "#     ax.text(0, 1.06, 'Population (thousands)', transform=ax.transAxes, size=12, color='#777777')\n",
    "#     ax.xaxis.set_major_formatter(ticker.StrMethodFormatter('{x:,.0f}'))\n",
    "#     ax.xaxis.set_ticks_position('top')\n",
    "#     ax.tick_params(axis='x', colors='#777777', labelsize=12)\n",
    "#     ax.set_yticks([])\n",
    "#     ax.margins(0, 0.01)\n",
    "#     ax.grid(which='major', axis='x', linestyle='-')\n",
    "#     ax.set_axisbelow(True)\n",
    "    \n",
    "#     ax.text(0, 1.15, 'Coronavirus',\n",
    "#             transform=ax.transAxes, size=24, weight=600, ha='left', va='top')\n",
    "# #     ax.text(1, 0, 'by @pratapvardhan; credit @jburnmurdoch', transform=ax.transAxes, color='#777777', ha='right',\n",
    "# #             bbox=dict(facecolor='white', alpha=0.8, edgecolor='white'))\n",
    "#     plt.box(False)"
   ]
  },
  {
   "cell_type": "code",
   "execution_count": 42,
   "id": "sexual-wages",
   "metadata": {
    "execution": {
     "iopub.execute_input": "2021-02-18T12:07:26.903069Z",
     "iopub.status.busy": "2021-02-18T12:07:26.902347Z",
     "iopub.status.idle": "2021-02-18T12:07:26.905088Z",
     "shell.execute_reply": "2021-02-18T12:07:26.904470Z"
    },
    "papermill": {
     "duration": 0.04177,
     "end_time": "2021-02-18T12:07:26.905268",
     "exception": false,
     "start_time": "2021-02-18T12:07:26.863498",
     "status": "completed"
    },
    "tags": []
   },
   "outputs": [],
   "source": [
    "# #hide_input\n",
    "# fig, ax = plt.subplots(figsize=(15, 8))\n",
    "# animator = animation.FuncAnimation(fig, draw_barchart, frames=range(g.day.values.min(), g.day.values.max()))\n",
    "# HTML(animator.to_jshtml())\n",
    "# # or use animator.to_html5_video() or animator.save() "
   ]
  },
  {
   "cell_type": "code",
   "execution_count": null,
   "id": "australian-container",
   "metadata": {
    "papermill": {
     "duration": 0.036194,
     "end_time": "2021-02-18T12:07:26.978361",
     "exception": false,
     "start_time": "2021-02-18T12:07:26.942167",
     "status": "completed"
    },
    "tags": []
   },
   "outputs": [],
   "source": []
  },
  {
   "cell_type": "code",
   "execution_count": null,
   "id": "mediterranean-pontiac",
   "metadata": {
    "papermill": {
     "duration": 0.035742,
     "end_time": "2021-02-18T12:07:27.051755",
     "exception": false,
     "start_time": "2021-02-18T12:07:27.016013",
     "status": "completed"
    },
    "tags": []
   },
   "outputs": [],
   "source": []
  },
  {
   "cell_type": "code",
   "execution_count": null,
   "id": "aging-legislature",
   "metadata": {
    "papermill": {
     "duration": 0.037546,
     "end_time": "2021-02-18T12:07:27.139728",
     "exception": false,
     "start_time": "2021-02-18T12:07:27.102182",
     "status": "completed"
    },
    "tags": []
   },
   "outputs": [],
   "source": []
  }
 ],
 "metadata": {
  "kernelspec": {
   "display_name": "Python 3",
   "language": "python",
   "name": "python3"
  },
  "language_info": {
   "codemirror_mode": {
    "name": "ipython",
    "version": 3
   },
   "file_extension": ".py",
   "mimetype": "text/x-python",
   "name": "python",
   "nbconvert_exporter": "python",
   "pygments_lexer": "ipython3",
   "version": "3.6.12"
  },
  "papermill": {
   "duration": 11.065054,
   "end_time": "2021-02-18T12:07:27.482375",
   "environment_variables": {},
   "exception": null,
   "input_path": "2020-03-21-covid19exp.ipynb",
   "output_path": "2020-03-21-covid19exp.ipynb",
   "parameters": {},
   "start_time": "2021-02-18T12:07:16.417321",
   "version": "2.0.0"
  }
 },
 "nbformat": 4,
 "nbformat_minor": 5
}