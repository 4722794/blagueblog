{
 "cells": [
  {
   "cell_type": "markdown",
   "id": "muslim-click",
   "metadata": {
    "papermill": {
     "duration": 0.033513,
     "end_time": "2022-01-25T12:12:53.901410",
     "exception": false,
     "start_time": "2022-01-25T12:12:53.867897",
     "status": "completed"
    },
    "tags": []
   },
   "source": [
    "# COVID-19 Case Race\n",
    "> A race chart to see rising cases around the world\n",
    "\n",
    "- author: Hargun Oberoi\n",
    "- image: images/covid-overview.png\n",
    "- hide: false\n",
    "- badges: false"
   ]
  },
  {
   "cell_type": "code",
   "execution_count": 1,
   "id": "proof-material",
   "metadata": {
    "execution": {
     "iopub.execute_input": "2022-01-25T12:12:53.972364Z",
     "iopub.status.busy": "2022-01-25T12:12:53.971818Z",
     "iopub.status.idle": "2022-01-25T12:12:54.297599Z",
     "shell.execute_reply": "2022-01-25T12:12:54.297057Z"
    },
    "papermill": {
     "duration": 0.366337,
     "end_time": "2022-01-25T12:12:54.297753",
     "exception": false,
     "start_time": "2022-01-25T12:12:53.931416",
     "status": "completed"
    },
    "tags": []
   },
   "outputs": [],
   "source": [
    "#hide\n",
    "import numpy as np\n",
    "import pandas as pd\n",
    "from jinja2 import Template\n",
    "from IPython.display import HTML"
   ]
  },
  {
   "cell_type": "code",
   "execution_count": 2,
   "id": "developed-terminology",
   "metadata": {
    "execution": {
     "iopub.execute_input": "2022-01-25T12:12:54.362451Z",
     "iopub.status.busy": "2022-01-25T12:12:54.361872Z",
     "iopub.status.idle": "2022-01-25T12:12:54.363895Z",
     "shell.execute_reply": "2022-01-25T12:12:54.363480Z"
    },
    "papermill": {
     "duration": 0.036484,
     "end_time": "2022-01-25T12:12:54.364007",
     "exception": false,
     "start_time": "2022-01-25T12:12:54.327523",
     "status": "completed"
    },
    "tags": []
   },
   "outputs": [],
   "source": [
    "#hide\n",
    "\n",
    "# FETCH\n",
    "base_url = 'https://raw.githubusercontent.com/pratapvardhan/notebooks/master/covid19/'\n",
    "paths = {\n",
    "    'mapping': base_url + 'mapping_countries.csv',\n",
    "    'overview': base_url + 'overview.tpl'\n",
    "}"
   ]
  },
  {
   "cell_type": "code",
   "execution_count": 3,
   "id": "dynamic-saver",
   "metadata": {
    "execution": {
     "iopub.execute_input": "2022-01-25T12:12:54.432668Z",
     "iopub.status.busy": "2022-01-25T12:12:54.432130Z",
     "iopub.status.idle": "2022-01-25T12:12:54.434880Z",
     "shell.execute_reply": "2022-01-25T12:12:54.435270Z"
    },
    "papermill": {
     "duration": 0.042082,
     "end_time": "2022-01-25T12:12:54.435402",
     "exception": false,
     "start_time": "2022-01-25T12:12:54.393320",
     "status": "completed"
    },
    "tags": []
   },
   "outputs": [
    {
     "data": {
      "text/plain": [
       "'https://raw.githubusercontent.com/pratapvardhan/notebooks/master/covid19/mapping_countries.csv'"
      ]
     },
     "execution_count": 3,
     "metadata": {},
     "output_type": "execute_result"
    }
   ],
   "source": [
    "#hide\n",
    "paths['mapping']"
   ]
  },
  {
   "cell_type": "code",
   "execution_count": 4,
   "id": "urban-software",
   "metadata": {
    "execution": {
     "iopub.execute_input": "2022-01-25T12:12:54.500301Z",
     "iopub.status.busy": "2022-01-25T12:12:54.499680Z",
     "iopub.status.idle": "2022-01-25T12:12:54.503317Z",
     "shell.execute_reply": "2022-01-25T12:12:54.502869Z"
    },
    "papermill": {
     "duration": 0.038419,
     "end_time": "2022-01-25T12:12:54.503427",
     "exception": false,
     "start_time": "2022-01-25T12:12:54.465008",
     "status": "completed"
    },
    "tags": []
   },
   "outputs": [],
   "source": [
    "#hide\n",
    "def get_mappings(url):\n",
    "    df = pd.read_csv(url)\n",
    "    return {\n",
    "        'df': df,\n",
    "        'replace.country': dict(df.dropna(subset=['Name']).set_index('Country')['Name']),\n",
    "        'map.continent': dict(df.set_index('Name')['Continent'])\n",
    "    }"
   ]
  },
  {
   "cell_type": "code",
   "execution_count": 5,
   "id": "intimate-machinery",
   "metadata": {
    "execution": {
     "iopub.execute_input": "2022-01-25T12:12:54.567938Z",
     "iopub.status.busy": "2022-01-25T12:12:54.567420Z",
     "iopub.status.idle": "2022-01-25T12:12:54.603722Z",
     "shell.execute_reply": "2022-01-25T12:12:54.604255Z"
    },
    "papermill": {
     "duration": 0.071419,
     "end_time": "2022-01-25T12:12:54.604430",
     "exception": false,
     "start_time": "2022-01-25T12:12:54.533011",
     "status": "completed"
    },
    "tags": []
   },
   "outputs": [],
   "source": [
    "#hide\n",
    "mapping = get_mappings(paths['mapping'])"
   ]
  },
  {
   "cell_type": "code",
   "execution_count": 6,
   "id": "certified-tactics",
   "metadata": {
    "execution": {
     "iopub.execute_input": "2022-01-25T12:12:54.673531Z",
     "iopub.status.busy": "2022-01-25T12:12:54.672891Z",
     "iopub.status.idle": "2022-01-25T12:12:54.674336Z",
     "shell.execute_reply": "2022-01-25T12:12:54.674859Z"
    },
    "papermill": {
     "duration": 0.040217,
     "end_time": "2022-01-25T12:12:54.675012",
     "exception": false,
     "start_time": "2022-01-25T12:12:54.634795",
     "status": "completed"
    },
    "tags": []
   },
   "outputs": [],
   "source": [
    "#hide\n",
    "def get_template(path):\n",
    "    from urllib.parse import urlparse\n",
    "    if bool(urlparse(path).netloc):\n",
    "        from urllib.request import urlopen\n",
    "        return urlopen(path).read().decode('utf8')\n",
    "    return open(path).read()"
   ]
  },
  {
   "cell_type": "code",
   "execution_count": 7,
   "id": "realistic-blast",
   "metadata": {
    "execution": {
     "iopub.execute_input": "2022-01-25T12:12:54.739569Z",
     "iopub.status.busy": "2022-01-25T12:12:54.738985Z",
     "iopub.status.idle": "2022-01-25T12:12:54.740653Z",
     "shell.execute_reply": "2022-01-25T12:12:54.741037Z"
    },
    "papermill": {
     "duration": 0.036471,
     "end_time": "2022-01-25T12:12:54.741175",
     "exception": false,
     "start_time": "2022-01-25T12:12:54.704704",
     "status": "completed"
    },
    "tags": []
   },
   "outputs": [],
   "source": [
    "#hide\n",
    "def get_frame(name):\n",
    "    url = (\n",
    "        'https://raw.githubusercontent.com/CSSEGISandData/COVID-19/master/csse_covid_19_data/'\n",
    "        f'csse_covid_19_time_series/time_series_covid19_{name}_global.csv')\n",
    "    df = pd.read_csv(url)\n",
    "    # rename countries\n",
    "    df['Country/Region'] = df['Country/Region'].replace(mapping['replace.country'])\n",
    "    return df"
   ]
  },
  {
   "cell_type": "code",
   "execution_count": 8,
   "id": "affiliated-characterization",
   "metadata": {
    "execution": {
     "iopub.execute_input": "2022-01-25T12:12:54.806685Z",
     "iopub.status.busy": "2022-01-25T12:12:54.806050Z",
     "iopub.status.idle": "2022-01-25T12:12:54.807514Z",
     "shell.execute_reply": "2022-01-25T12:12:54.807944Z"
    },
    "papermill": {
     "duration": 0.03715,
     "end_time": "2022-01-25T12:12:54.808073",
     "exception": false,
     "start_time": "2022-01-25T12:12:54.770923",
     "status": "completed"
    },
    "tags": []
   },
   "outputs": [],
   "source": [
    "#hide\n",
    "def get_dates(df):\n",
    "    dt_cols = df.columns[~df.columns.isin(['Province/State', 'Country/Region', 'Lat', 'Long'])]\n",
    "    LAST_DATE_I = -1\n",
    "    # sometimes last column may be empty, then go backwards\n",
    "    for i in range(-1, -len(dt_cols), -1):\n",
    "        if not df[dt_cols[i]].fillna(0).eq(0).all():\n",
    "            LAST_DATE_I = i\n",
    "            break\n",
    "    return LAST_DATE_I, dt_cols"
   ]
  },
  {
   "cell_type": "code",
   "execution_count": 9,
   "id": "recent-optimization",
   "metadata": {
    "execution": {
     "iopub.execute_input": "2022-01-25T12:12:54.871370Z",
     "iopub.status.busy": "2022-01-25T12:12:54.870836Z",
     "iopub.status.idle": "2022-01-25T12:12:55.250929Z",
     "shell.execute_reply": "2022-01-25T12:12:55.250386Z"
    },
    "papermill": {
     "duration": 0.413698,
     "end_time": "2022-01-25T12:12:55.251056",
     "exception": false,
     "start_time": "2022-01-25T12:12:54.837358",
     "status": "completed"
    },
    "tags": []
   },
   "outputs": [],
   "source": [
    "#hide\n",
    "COL_REGION = 'Country/Region'\n",
    "# Confirmed, Recovered, Deaths\n",
    "df = get_frame('confirmed')\n",
    "# dft_: timeseries, dfc_: today country agg\n",
    "dft_cases = df\n",
    "dft_deaths = get_frame('deaths')\n",
    "dft_recovered = get_frame('recovered')\n",
    "LAST_DATE_I, dt_cols = get_dates(df)"
   ]
  },
  {
   "cell_type": "code",
   "execution_count": 10,
   "id": "absolute-copper",
   "metadata": {
    "execution": {
     "iopub.execute_input": "2022-01-25T12:12:55.315851Z",
     "iopub.status.busy": "2022-01-25T12:12:55.315248Z",
     "iopub.status.idle": "2022-01-25T12:12:55.317675Z",
     "shell.execute_reply": "2022-01-25T12:12:55.317242Z"
    },
    "papermill": {
     "duration": 0.036853,
     "end_time": "2022-01-25T12:12:55.317781",
     "exception": false,
     "start_time": "2022-01-25T12:12:55.280928",
     "status": "completed"
    },
    "tags": []
   },
   "outputs": [],
   "source": [
    "#hide\n",
    "LAST_DATE_I, dt_cols = get_dates(df)\n",
    "dt_today =dt_cols[LAST_DATE_I]\n",
    "# dt_5day = dt_cols[LAST_DATE_I - 5]\n",
    "dt_yday = dt_cols[LAST_DATE_I - 1]"
   ]
  },
  {
   "cell_type": "code",
   "execution_count": 11,
   "id": "restricted-sheriff",
   "metadata": {
    "execution": {
     "iopub.execute_input": "2022-01-25T12:12:55.383020Z",
     "iopub.status.busy": "2022-01-25T12:12:55.382427Z",
     "iopub.status.idle": "2022-01-25T12:12:55.389617Z",
     "shell.execute_reply": "2022-01-25T12:12:55.390001Z"
    },
    "papermill": {
     "duration": 0.042779,
     "end_time": "2022-01-25T12:12:55.390132",
     "exception": false,
     "start_time": "2022-01-25T12:12:55.347353",
     "status": "completed"
    },
    "tags": []
   },
   "outputs": [],
   "source": [
    "#hide\n",
    "dfc_cases = dft_cases.groupby(COL_REGION)[dt_today].sum()\n",
    "dfc_deaths = dft_deaths.groupby(COL_REGION)[dt_today].sum()\n",
    "# dfp_cases = dft_cases.groupby(COL_REGION)[dt_5day].sum()\n",
    "# dfp_deaths = dft_deaths.groupby(COL_REGION)[dt_5day].sum()\n",
    "dfp_cases = dft_cases.groupby(COL_REGION)[dt_yday].sum()\n",
    "dfp_deaths = dft_deaths.groupby(COL_REGION)[dt_yday].sum()"
   ]
  },
  {
   "cell_type": "code",
   "execution_count": 12,
   "id": "deluxe-hepatitis",
   "metadata": {
    "execution": {
     "iopub.execute_input": "2022-01-25T12:12:55.454651Z",
     "iopub.status.busy": "2022-01-25T12:12:55.454113Z",
     "iopub.status.idle": "2022-01-25T12:12:55.459397Z",
     "shell.execute_reply": "2022-01-25T12:12:55.458988Z"
    },
    "papermill": {
     "duration": 0.039906,
     "end_time": "2022-01-25T12:12:55.459510",
     "exception": false,
     "start_time": "2022-01-25T12:12:55.419604",
     "status": "completed"
    },
    "tags": []
   },
   "outputs": [],
   "source": [
    "#hide\n",
    "df_table = (pd.DataFrame(dict(Cases = dfc_cases, Deaths = dfc_deaths, PCases = dfp_cases, PDeaths = dfp_deaths))\n",
    "            .sort_values(by = ['Cases','Deaths'], ascending = [False, False])\n",
    "            .reset_index())"
   ]
  },
  {
   "cell_type": "code",
   "execution_count": 13,
   "id": "educational-chancellor",
   "metadata": {
    "execution": {
     "iopub.execute_input": "2022-01-25T12:12:55.536791Z",
     "iopub.status.busy": "2022-01-25T12:12:55.536267Z",
     "iopub.status.idle": "2022-01-25T12:12:55.543426Z",
     "shell.execute_reply": "2022-01-25T12:12:55.543814Z"
    },
    "papermill": {
     "duration": 0.055056,
     "end_time": "2022-01-25T12:12:55.543951",
     "exception": false,
     "start_time": "2022-01-25T12:12:55.488895",
     "status": "completed"
    },
    "tags": []
   },
   "outputs": [
    {
     "data": {
      "text/html": [
       "<div>\n",
       "<style scoped>\n",
       "    .dataframe tbody tr th:only-of-type {\n",
       "        vertical-align: middle;\n",
       "    }\n",
       "\n",
       "    .dataframe tbody tr th {\n",
       "        vertical-align: top;\n",
       "    }\n",
       "\n",
       "    .dataframe thead th {\n",
       "        text-align: right;\n",
       "    }\n",
       "</style>\n",
       "<table border=\"1\" class=\"dataframe\">\n",
       "  <thead>\n",
       "    <tr style=\"text-align: right;\">\n",
       "      <th></th>\n",
       "      <th>Country/Region</th>\n",
       "      <th>Cases</th>\n",
       "      <th>Deaths</th>\n",
       "      <th>PCases</th>\n",
       "      <th>PDeaths</th>\n",
       "      <th>Cases (+)</th>\n",
       "      <th>Deaths (+)</th>\n",
       "      <th>Fatality Rate</th>\n",
       "      <th>Continent</th>\n",
       "    </tr>\n",
       "  </thead>\n",
       "  <tbody>\n",
       "    <tr>\n",
       "      <th>0</th>\n",
       "      <td>US</td>\n",
       "      <td>71708189</td>\n",
       "      <td>868503</td>\n",
       "      <td>70700678</td>\n",
       "      <td>866540</td>\n",
       "      <td>1007511</td>\n",
       "      <td>1963</td>\n",
       "      <td>1.21</td>\n",
       "      <td>North America</td>\n",
       "    </tr>\n",
       "    <tr>\n",
       "      <th>1</th>\n",
       "      <td>India</td>\n",
       "      <td>39799202</td>\n",
       "      <td>490462</td>\n",
       "      <td>39543328</td>\n",
       "      <td>489848</td>\n",
       "      <td>255874</td>\n",
       "      <td>614</td>\n",
       "      <td>1.23</td>\n",
       "      <td>Asia</td>\n",
       "    </tr>\n",
       "    <tr>\n",
       "      <th>2</th>\n",
       "      <td>Brazil</td>\n",
       "      <td>24142032</td>\n",
       "      <td>623636</td>\n",
       "      <td>24054405</td>\n",
       "      <td>623370</td>\n",
       "      <td>87627</td>\n",
       "      <td>266</td>\n",
       "      <td>2.58</td>\n",
       "      <td>South America</td>\n",
       "    </tr>\n",
       "    <tr>\n",
       "      <th>3</th>\n",
       "      <td>France</td>\n",
       "      <td>16917220</td>\n",
       "      <td>130013</td>\n",
       "      <td>16807733</td>\n",
       "      <td>129620</td>\n",
       "      <td>109487</td>\n",
       "      <td>393</td>\n",
       "      <td>0.77</td>\n",
       "      <td>Europe</td>\n",
       "    </tr>\n",
       "    <tr>\n",
       "      <th>4</th>\n",
       "      <td>United Kingdom</td>\n",
       "      <td>16063010</td>\n",
       "      <td>154430</td>\n",
       "      <td>15966838</td>\n",
       "      <td>154374</td>\n",
       "      <td>96172</td>\n",
       "      <td>56</td>\n",
       "      <td>0.96</td>\n",
       "      <td>Europe</td>\n",
       "    </tr>\n",
       "  </tbody>\n",
       "</table>\n",
       "</div>"
      ],
      "text/plain": [
       "   Country/Region     Cases  Deaths    PCases  PDeaths  Cases (+)  Deaths (+)  \\\n",
       "0              US  71708189  868503  70700678   866540    1007511        1963   \n",
       "1           India  39799202  490462  39543328   489848     255874         614   \n",
       "2          Brazil  24142032  623636  24054405   623370      87627         266   \n",
       "3          France  16917220  130013  16807733   129620     109487         393   \n",
       "4  United Kingdom  16063010  154430  15966838   154374      96172          56   \n",
       "\n",
       "   Fatality Rate      Continent  \n",
       "0           1.21  North America  \n",
       "1           1.23           Asia  \n",
       "2           2.58  South America  \n",
       "3           0.77         Europe  \n",
       "4           0.96         Europe  "
      ]
     },
     "execution_count": 13,
     "metadata": {},
     "output_type": "execute_result"
    }
   ],
   "source": [
    "#hide\n",
    "for c in 'Cases, Deaths'.split(', '):\n",
    "    df_table[f'{c} (+)'] = (df_table[c] - df_table[f'P{c}']).clip(0)\n",
    "    #Clip ça veut dire, les chiffres negatif sont interdit\n",
    "df_table['Fatality Rate'] = (100* df_table['Deaths']/ df_table['Cases']).round(2)\n",
    "df_table['Continent'] = df_table['Country/Region'].map(mapping['map.continent'])\n",
    "df_table.head(5)"
   ]
  },
  {
   "cell_type": "code",
   "execution_count": 14,
   "id": "aboriginal-bulgaria",
   "metadata": {
    "execution": {
     "iopub.execute_input": "2022-01-25T12:12:55.609023Z",
     "iopub.status.busy": "2022-01-25T12:12:55.608507Z",
     "iopub.status.idle": "2022-01-25T12:12:55.611578Z",
     "shell.execute_reply": "2022-01-25T12:12:55.611167Z"
    },
    "papermill": {
     "duration": 0.037854,
     "end_time": "2022-01-25T12:12:55.611691",
     "exception": false,
     "start_time": "2022-01-25T12:12:55.573837",
     "status": "completed"
    },
    "tags": []
   },
   "outputs": [],
   "source": [
    "#hide\n",
    "#delete problematic countries from table\n",
    "df_table = df_table[~df_table['Country/Region'].isin(['Cape Verde', 'Cruise Ship', 'Kosovo'])]"
   ]
  },
  {
   "cell_type": "code",
   "execution_count": 15,
   "id": "fantastic-effect",
   "metadata": {
    "execution": {
     "iopub.execute_input": "2022-01-25T12:12:55.679806Z",
     "iopub.status.busy": "2022-01-25T12:12:55.679275Z",
     "iopub.status.idle": "2022-01-25T12:12:55.696275Z",
     "shell.execute_reply": "2022-01-25T12:12:55.695842Z"
    },
    "papermill": {
     "duration": 0.054909,
     "end_time": "2022-01-25T12:12:55.696388",
     "exception": false,
     "start_time": "2022-01-25T12:12:55.641479",
     "status": "completed"
    },
    "tags": []
   },
   "outputs": [
    {
     "data": {
      "text/html": [
       "<div>\n",
       "<style scoped>\n",
       "    .dataframe tbody tr th:only-of-type {\n",
       "        vertical-align: middle;\n",
       "    }\n",
       "\n",
       "    .dataframe tbody tr th {\n",
       "        vertical-align: top;\n",
       "    }\n",
       "\n",
       "    .dataframe thead th {\n",
       "        text-align: right;\n",
       "    }\n",
       "</style>\n",
       "<table border=\"1\" class=\"dataframe\">\n",
       "  <thead>\n",
       "    <tr style=\"text-align: right;\">\n",
       "      <th></th>\n",
       "      <th>Country/Region</th>\n",
       "      <th>Cases</th>\n",
       "      <th>Deaths</th>\n",
       "      <th>PCases</th>\n",
       "      <th>PDeaths</th>\n",
       "      <th>Cases (+)</th>\n",
       "      <th>Deaths (+)</th>\n",
       "      <th>Fatality Rate</th>\n",
       "      <th>Continent</th>\n",
       "    </tr>\n",
       "  </thead>\n",
       "  <tbody>\n",
       "    <tr>\n",
       "      <th>0</th>\n",
       "      <td>US</td>\n",
       "      <td>71708189</td>\n",
       "      <td>868503</td>\n",
       "      <td>70700678</td>\n",
       "      <td>866540</td>\n",
       "      <td>1007511</td>\n",
       "      <td>1963</td>\n",
       "      <td>1.2</td>\n",
       "      <td>North America</td>\n",
       "    </tr>\n",
       "    <tr>\n",
       "      <th>1</th>\n",
       "      <td>India</td>\n",
       "      <td>39799202</td>\n",
       "      <td>490462</td>\n",
       "      <td>39543328</td>\n",
       "      <td>489848</td>\n",
       "      <td>255874</td>\n",
       "      <td>614</td>\n",
       "      <td>1.2</td>\n",
       "      <td>Asia</td>\n",
       "    </tr>\n",
       "    <tr>\n",
       "      <th>2</th>\n",
       "      <td>Brazil</td>\n",
       "      <td>24142032</td>\n",
       "      <td>623636</td>\n",
       "      <td>24054405</td>\n",
       "      <td>623370</td>\n",
       "      <td>87627</td>\n",
       "      <td>266</td>\n",
       "      <td>2.6</td>\n",
       "      <td>South America</td>\n",
       "    </tr>\n",
       "    <tr>\n",
       "      <th>3</th>\n",
       "      <td>France</td>\n",
       "      <td>16917220</td>\n",
       "      <td>130013</td>\n",
       "      <td>16807733</td>\n",
       "      <td>129620</td>\n",
       "      <td>109487</td>\n",
       "      <td>393</td>\n",
       "      <td>0.8</td>\n",
       "      <td>Europe</td>\n",
       "    </tr>\n",
       "    <tr>\n",
       "      <th>4</th>\n",
       "      <td>United Kingdom</td>\n",
       "      <td>16063010</td>\n",
       "      <td>154430</td>\n",
       "      <td>15966838</td>\n",
       "      <td>154374</td>\n",
       "      <td>96172</td>\n",
       "      <td>56</td>\n",
       "      <td>1.0</td>\n",
       "      <td>Europe</td>\n",
       "    </tr>\n",
       "  </tbody>\n",
       "</table>\n",
       "</div>"
      ],
      "text/plain": [
       "   Country/Region     Cases  Deaths    PCases  PDeaths  Cases (+)  Deaths (+)  \\\n",
       "0              US  71708189  868503  70700678   866540    1007511        1963   \n",
       "1           India  39799202  490462  39543328   489848     255874         614   \n",
       "2          Brazil  24142032  623636  24054405   623370      87627         266   \n",
       "3          France  16917220  130013  16807733   129620     109487         393   \n",
       "4  United Kingdom  16063010  154430  15966838   154374      96172          56   \n",
       "\n",
       "   Fatality Rate      Continent  \n",
       "0            1.2  North America  \n",
       "1            1.2           Asia  \n",
       "2            2.6  South America  \n",
       "3            0.8         Europe  \n",
       "4            1.0         Europe  "
      ]
     },
     "execution_count": 15,
     "metadata": {},
     "output_type": "execute_result"
    }
   ],
   "source": [
    "#hide\n",
    "df_table = (pd.DataFrame(dict(Cases=dfc_cases, Deaths=dfc_deaths, PCases=dfp_cases, PDeaths=dfp_deaths))\n",
    "             .sort_values(by=['Cases', 'Deaths'], ascending=[False, False])\n",
    "             .reset_index())\n",
    "df_table.rename(columns={'index': 'Country/Region'}, inplace=True)\n",
    "for c in 'Cases, Deaths'.split(', '):\n",
    "    df_table[f'{c} (+)'] = (df_table[c] - df_table[f'P{c}']).clip(0)  # DATA BUG\n",
    "df_table['Fatality Rate'] = (100 * df_table['Deaths'] / df_table['Cases']).round(1)\n",
    "df_table['Continent'] = df_table['Country/Region'].map(mapping['map.continent'])\n",
    "df_table.head(5)"
   ]
  },
  {
   "cell_type": "code",
   "execution_count": 16,
   "id": "fewer-occasion",
   "metadata": {
    "execution": {
     "iopub.execute_input": "2022-01-25T12:12:55.763111Z",
     "iopub.status.busy": "2022-01-25T12:12:55.762556Z",
     "iopub.status.idle": "2022-01-25T12:12:55.764221Z",
     "shell.execute_reply": "2022-01-25T12:12:55.764601Z"
    },
    "papermill": {
     "duration": 0.03782,
     "end_time": "2022-01-25T12:12:55.764731",
     "exception": false,
     "start_time": "2022-01-25T12:12:55.726911",
     "status": "completed"
    },
    "tags": []
   },
   "outputs": [],
   "source": [
    "#hide\n",
    "#delete problematic countries from table\n",
    "df_table = df_table[~df_table['Country/Region'].isin(['Cape Verde', 'Cruise Ship', 'Kosovo'])]"
   ]
  },
  {
   "cell_type": "code",
   "execution_count": 17,
   "id": "related-center",
   "metadata": {
    "execution": {
     "iopub.execute_input": "2022-01-25T12:12:55.839984Z",
     "iopub.status.busy": "2022-01-25T12:12:55.839464Z",
     "iopub.status.idle": "2022-01-25T12:12:55.847380Z",
     "shell.execute_reply": "2022-01-25T12:12:55.846968Z"
    },
    "papermill": {
     "duration": 0.05255,
     "end_time": "2022-01-25T12:12:55.847493",
     "exception": false,
     "start_time": "2022-01-25T12:12:55.794943",
     "status": "completed"
    },
    "tags": []
   },
   "outputs": [],
   "source": [
    "#hide\n",
    "metrics = [df_table.columns[index] for index in [1,2,5,6]]\n",
    "# s_china = df_table[df_table['Country/Region'].eq('China')][metrics].sum().add_prefix('China ')\n",
    "s_us = df_table[df_table['Country/Region'].eq('US')][metrics].sum().add_prefix('US ')\n",
    "s_eu = df_table[df_table['Continent'].eq('Europe')][metrics].sum().add_prefix('EU ')\n",
    "s_ind = df_table[df_table['Country/Region'].eq('India')][metrics].sum().add_prefix('India ')\n",
    "summary = {'updated': pd.to_datetime(dt_today), 'since': pd.to_datetime(dt_yday)}\n",
    "summary = {'updated': pd.to_datetime(dt_today), 'since': pd.to_datetime(dt_yday)}\n",
    "summary = {**summary, **df_table[metrics].sum(), **s_ind, **s_us, **s_eu}"
   ]
  },
  {
   "cell_type": "code",
   "execution_count": 18,
   "id": "engaging-syndrome",
   "metadata": {
    "execution": {
     "iopub.execute_input": "2022-01-25T12:12:55.914316Z",
     "iopub.status.busy": "2022-01-25T12:12:55.913804Z",
     "iopub.status.idle": "2022-01-25T12:12:55.927879Z",
     "shell.execute_reply": "2022-01-25T12:12:55.927462Z"
    },
    "papermill": {
     "duration": 0.049831,
     "end_time": "2022-01-25T12:12:55.928018",
     "exception": false,
     "start_time": "2022-01-25T12:12:55.878187",
     "status": "completed"
    },
    "tags": []
   },
   "outputs": [],
   "source": [
    "#hide\n",
    "dft_ct_new_cases = dft_cases.groupby(COL_REGION)[dt_cols].sum().diff(axis=1).fillna(0).astype(int)"
   ]
  },
  {
   "cell_type": "code",
   "execution_count": 19,
   "id": "neutral-assignment",
   "metadata": {
    "execution": {
     "iopub.execute_input": "2022-01-25T12:12:55.995404Z",
     "iopub.status.busy": "2022-01-25T12:12:55.994843Z",
     "iopub.status.idle": "2022-01-25T12:12:55.998237Z",
     "shell.execute_reply": "2022-01-25T12:12:55.997776Z"
    },
    "papermill": {
     "duration": 0.039819,
     "end_time": "2022-01-25T12:12:55.998348",
     "exception": false,
     "start_time": "2022-01-25T12:12:55.958529",
     "status": "completed"
    },
    "tags": []
   },
   "outputs": [],
   "source": [
    "#hide\n",
    "everydaycases = dft_ct_new_cases.cumsum(axis=1)"
   ]
  },
  {
   "cell_type": "code",
   "execution_count": 20,
   "id": "parliamentary-calgary",
   "metadata": {
    "execution": {
     "iopub.execute_input": "2022-01-25T12:12:56.064429Z",
     "iopub.status.busy": "2022-01-25T12:12:56.063889Z",
     "iopub.status.idle": "2022-01-25T12:12:56.653290Z",
     "shell.execute_reply": "2022-01-25T12:12:56.652383Z"
    },
    "papermill": {
     "duration": 0.624522,
     "end_time": "2022-01-25T12:12:56.653435",
     "exception": false,
     "start_time": "2022-01-25T12:12:56.028913",
     "status": "completed"
    },
    "tags": []
   },
   "outputs": [],
   "source": [
    "#hide\n",
    "import pandas as pd\n",
    "import matplotlib.pyplot as plt\n",
    "import matplotlib.ticker as ticker\n",
    "import matplotlib.animation as animation\n",
    "from IPython.display import HTML"
   ]
  },
  {
   "cell_type": "code",
   "execution_count": 21,
   "id": "lasting-extraction",
   "metadata": {
    "execution": {
     "iopub.execute_input": "2022-01-25T12:12:56.720116Z",
     "iopub.status.busy": "2022-01-25T12:12:56.719603Z",
     "iopub.status.idle": "2022-01-25T12:12:56.725178Z",
     "shell.execute_reply": "2022-01-25T12:12:56.725559Z"
    },
    "papermill": {
     "duration": 0.041776,
     "end_time": "2022-01-25T12:12:56.725689",
     "exception": false,
     "start_time": "2022-01-25T12:12:56.683913",
     "status": "completed"
    },
    "tags": []
   },
   "outputs": [],
   "source": [
    "#hide\n",
    "t = everydaycases.stack()"
   ]
  },
  {
   "cell_type": "code",
   "execution_count": 22,
   "id": "premier-sleeve",
   "metadata": {
    "execution": {
     "iopub.execute_input": "2022-01-25T12:12:56.790995Z",
     "iopub.status.busy": "2022-01-25T12:12:56.790446Z",
     "iopub.status.idle": "2022-01-25T12:12:56.800906Z",
     "shell.execute_reply": "2022-01-25T12:12:56.800497Z"
    },
    "papermill": {
     "duration": 0.044876,
     "end_time": "2022-01-25T12:12:56.801020",
     "exception": false,
     "start_time": "2022-01-25T12:12:56.756144",
     "status": "completed"
    },
    "tags": []
   },
   "outputs": [],
   "source": [
    "#hide\n",
    "g = t.reset_index(['Country/Region'])"
   ]
  },
  {
   "cell_type": "code",
   "execution_count": 23,
   "id": "distributed-pittsburgh",
   "metadata": {
    "execution": {
     "iopub.execute_input": "2022-01-25T12:12:56.865589Z",
     "iopub.status.busy": "2022-01-25T12:12:56.865075Z",
     "iopub.status.idle": "2022-01-25T12:12:56.867121Z",
     "shell.execute_reply": "2022-01-25T12:12:56.867605Z"
    },
    "papermill": {
     "duration": 0.036505,
     "end_time": "2022-01-25T12:12:56.867730",
     "exception": false,
     "start_time": "2022-01-25T12:12:56.831225",
     "status": "completed"
    },
    "tags": []
   },
   "outputs": [],
   "source": [
    "#hide\n",
    "g.index.name = 'date'"
   ]
  },
  {
   "cell_type": "code",
   "execution_count": 24,
   "id": "naked-donor",
   "metadata": {
    "execution": {
     "iopub.execute_input": "2022-01-25T12:12:56.931990Z",
     "iopub.status.busy": "2022-01-25T12:12:56.931402Z",
     "iopub.status.idle": "2022-01-25T12:12:56.933650Z",
     "shell.execute_reply": "2022-01-25T12:12:56.933214Z"
    },
    "papermill": {
     "duration": 0.035718,
     "end_time": "2022-01-25T12:12:56.933755",
     "exception": false,
     "start_time": "2022-01-25T12:12:56.898037",
     "status": "completed"
    },
    "tags": []
   },
   "outputs": [],
   "source": [
    "# #hide\n",
    "# g = g.reset_index(['date'])"
   ]
  },
  {
   "cell_type": "code",
   "execution_count": 25,
   "id": "incomplete-mustang",
   "metadata": {
    "execution": {
     "iopub.execute_input": "2022-01-25T12:12:56.998819Z",
     "iopub.status.busy": "2022-01-25T12:12:56.998178Z",
     "iopub.status.idle": "2022-01-25T12:12:57.000214Z",
     "shell.execute_reply": "2022-01-25T12:12:56.999641Z"
    },
    "papermill": {
     "duration": 0.036031,
     "end_time": "2022-01-25T12:12:57.000336",
     "exception": false,
     "start_time": "2022-01-25T12:12:56.964305",
     "status": "completed"
    },
    "tags": []
   },
   "outputs": [],
   "source": [
    "#hide\n",
    "# g.head()"
   ]
  },
  {
   "cell_type": "code",
   "execution_count": 26,
   "id": "specific-kruger",
   "metadata": {
    "execution": {
     "iopub.execute_input": "2022-01-25T12:12:57.065175Z",
     "iopub.status.busy": "2022-01-25T12:12:57.064660Z",
     "iopub.status.idle": "2022-01-25T12:12:57.067026Z",
     "shell.execute_reply": "2022-01-25T12:12:57.066579Z"
    },
    "papermill": {
     "duration": 0.036238,
     "end_time": "2022-01-25T12:12:57.067138",
     "exception": false,
     "start_time": "2022-01-25T12:12:57.030900",
     "status": "completed"
    },
    "tags": []
   },
   "outputs": [],
   "source": [
    "#hide\n",
    "# g.columns = ['date','country','cases']"
   ]
  },
  {
   "cell_type": "code",
   "execution_count": 27,
   "id": "tender-conversion",
   "metadata": {
    "execution": {
     "iopub.execute_input": "2022-01-25T12:12:57.131929Z",
     "iopub.status.busy": "2022-01-25T12:12:57.131288Z",
     "iopub.status.idle": "2022-01-25T12:12:57.132786Z",
     "shell.execute_reply": "2022-01-25T12:12:57.133220Z"
    },
    "papermill": {
     "duration": 0.035961,
     "end_time": "2022-01-25T12:12:57.133351",
     "exception": false,
     "start_time": "2022-01-25T12:12:57.097390",
     "status": "completed"
    },
    "tags": []
   },
   "outputs": [],
   "source": [
    "#hide\n",
    "# g['continent'] = g.country"
   ]
  },
  {
   "cell_type": "code",
   "execution_count": 28,
   "id": "substantial-wilderness",
   "metadata": {
    "execution": {
     "iopub.execute_input": "2022-01-25T12:12:57.198597Z",
     "iopub.status.busy": "2022-01-25T12:12:57.197944Z",
     "iopub.status.idle": "2022-01-25T12:12:57.199469Z",
     "shell.execute_reply": "2022-01-25T12:12:57.199932Z"
    },
    "papermill": {
     "duration": 0.035951,
     "end_time": "2022-01-25T12:12:57.200074",
     "exception": false,
     "start_time": "2022-01-25T12:12:57.164123",
     "status": "completed"
    },
    "tags": []
   },
   "outputs": [],
   "source": [
    "#hide\n",
    "# cols = list(g.columns.values)"
   ]
  },
  {
   "cell_type": "code",
   "execution_count": 29,
   "id": "solved-farming",
   "metadata": {
    "execution": {
     "iopub.execute_input": "2022-01-25T12:12:57.265333Z",
     "iopub.status.busy": "2022-01-25T12:12:57.264801Z",
     "iopub.status.idle": "2022-01-25T12:12:57.268394Z",
     "shell.execute_reply": "2022-01-25T12:12:57.267984Z"
    },
    "papermill": {
     "duration": 0.037143,
     "end_time": "2022-01-25T12:12:57.268506",
     "exception": false,
     "start_time": "2022-01-25T12:12:57.231363",
     "status": "completed"
    },
    "tags": []
   },
   "outputs": [],
   "source": [
    "#hide\n",
    "# cols.insert(0, cols.pop())"
   ]
  },
  {
   "cell_type": "code",
   "execution_count": 30,
   "id": "executed-adoption",
   "metadata": {
    "execution": {
     "iopub.execute_input": "2022-01-25T12:12:57.333649Z",
     "iopub.status.busy": "2022-01-25T12:12:57.333004Z",
     "iopub.status.idle": "2022-01-25T12:12:57.334985Z",
     "shell.execute_reply": "2022-01-25T12:12:57.334388Z"
    },
    "papermill": {
     "duration": 0.036076,
     "end_time": "2022-01-25T12:12:57.335111",
     "exception": false,
     "start_time": "2022-01-25T12:12:57.299035",
     "status": "completed"
    },
    "tags": []
   },
   "outputs": [],
   "source": [
    "#hide\n",
    "# g = g[cols]"
   ]
  },
  {
   "cell_type": "code",
   "execution_count": 31,
   "id": "subject-dublin",
   "metadata": {
    "execution": {
     "iopub.execute_input": "2022-01-25T12:12:57.399600Z",
     "iopub.status.busy": "2022-01-25T12:12:57.398982Z",
     "iopub.status.idle": "2022-01-25T12:12:57.402353Z",
     "shell.execute_reply": "2022-01-25T12:12:57.402843Z"
    },
    "papermill": {
     "duration": 0.037586,
     "end_time": "2022-01-25T12:12:57.402997",
     "exception": false,
     "start_time": "2022-01-25T12:12:57.365411",
     "status": "completed"
    },
    "tags": []
   },
   "outputs": [],
   "source": [
    "#hide\n",
    "# g['continent'] = g['continent'].map(mapping['map.continent'])"
   ]
  },
  {
   "cell_type": "code",
   "execution_count": 32,
   "id": "freelance-scout",
   "metadata": {
    "execution": {
     "iopub.execute_input": "2022-01-25T12:12:57.468238Z",
     "iopub.status.busy": "2022-01-25T12:12:57.467698Z",
     "iopub.status.idle": "2022-01-25T12:12:57.471325Z",
     "shell.execute_reply": "2022-01-25T12:12:57.470911Z"
    },
    "papermill": {
     "duration": 0.037707,
     "end_time": "2022-01-25T12:12:57.471436",
     "exception": false,
     "start_time": "2022-01-25T12:12:57.433729",
     "status": "completed"
    },
    "tags": []
   },
   "outputs": [],
   "source": [
    "#hide\n",
    "# g.head()"
   ]
  },
  {
   "cell_type": "code",
   "execution_count": 33,
   "id": "limited-engine",
   "metadata": {
    "execution": {
     "iopub.execute_input": "2022-01-25T12:12:57.536852Z",
     "iopub.status.busy": "2022-01-25T12:12:57.536069Z",
     "iopub.status.idle": "2022-01-25T12:12:57.537876Z",
     "shell.execute_reply": "2022-01-25T12:12:57.537394Z"
    },
    "papermill": {
     "duration": 0.036262,
     "end_time": "2022-01-25T12:12:57.537993",
     "exception": false,
     "start_time": "2022-01-25T12:12:57.501731",
     "status": "completed"
    },
    "tags": []
   },
   "outputs": [],
   "source": [
    "# hide\n",
    "# g['date'] = g['date'].astype('datetime64[ns]')"
   ]
  },
  {
   "cell_type": "code",
   "execution_count": 34,
   "id": "sophisticated-supervisor",
   "metadata": {
    "execution": {
     "iopub.execute_input": "2022-01-25T12:12:57.602789Z",
     "iopub.status.busy": "2022-01-25T12:12:57.602153Z",
     "iopub.status.idle": "2022-01-25T12:12:57.604222Z",
     "shell.execute_reply": "2022-01-25T12:12:57.603606Z"
    },
    "papermill": {
     "duration": 0.03578,
     "end_time": "2022-01-25T12:12:57.604346",
     "exception": false,
     "start_time": "2022-01-25T12:12:57.568566",
     "status": "completed"
    },
    "tags": []
   },
   "outputs": [],
   "source": [
    "#hide\n",
    "# g['date'] = g.date.dt.dayofyear"
   ]
  },
  {
   "cell_type": "code",
   "execution_count": 35,
   "id": "inside-dubai",
   "metadata": {
    "execution": {
     "iopub.execute_input": "2022-01-25T12:12:57.669692Z",
     "iopub.status.busy": "2022-01-25T12:12:57.669068Z",
     "iopub.status.idle": "2022-01-25T12:12:57.672946Z",
     "shell.execute_reply": "2022-01-25T12:12:57.672530Z"
    },
    "papermill": {
     "duration": 0.037842,
     "end_time": "2022-01-25T12:12:57.673060",
     "exception": false,
     "start_time": "2022-01-25T12:12:57.635218",
     "status": "completed"
    },
    "tags": []
   },
   "outputs": [],
   "source": [
    "#hide\n",
    "# g = g.rename(columns= {'continent':'group','country':'name','cases':'value'})"
   ]
  },
  {
   "cell_type": "code",
   "execution_count": 36,
   "id": "fleet-motorcycle",
   "metadata": {
    "execution": {
     "iopub.execute_input": "2022-01-25T12:12:57.738346Z",
     "iopub.status.busy": "2022-01-25T12:12:57.737734Z",
     "iopub.status.idle": "2022-01-25T12:12:57.739552Z",
     "shell.execute_reply": "2022-01-25T12:12:57.738985Z"
    },
    "papermill": {
     "duration": 0.036082,
     "end_time": "2022-01-25T12:12:57.739672",
     "exception": false,
     "start_time": "2022-01-25T12:12:57.703590",
     "status": "completed"
    },
    "tags": []
   },
   "outputs": [],
   "source": [
    "#hide\n",
    "# cols = ['name','group','day','value']"
   ]
  },
  {
   "cell_type": "code",
   "execution_count": 37,
   "id": "continued-sleeping",
   "metadata": {
    "execution": {
     "iopub.execute_input": "2022-01-25T12:12:57.804280Z",
     "iopub.status.busy": "2022-01-25T12:12:57.803679Z",
     "iopub.status.idle": "2022-01-25T12:12:57.807608Z",
     "shell.execute_reply": "2022-01-25T12:12:57.807145Z"
    },
    "papermill": {
     "duration": 0.037631,
     "end_time": "2022-01-25T12:12:57.807732",
     "exception": false,
     "start_time": "2022-01-25T12:12:57.770101",
     "status": "completed"
    },
    "tags": []
   },
   "outputs": [],
   "source": [
    "#hide\n",
    "# g.rename(columns= {'date':'day'},inplace = True)"
   ]
  },
  {
   "cell_type": "code",
   "execution_count": 38,
   "id": "major-fight",
   "metadata": {
    "execution": {
     "iopub.execute_input": "2022-01-25T12:12:57.873305Z",
     "iopub.status.busy": "2022-01-25T12:12:57.872707Z",
     "iopub.status.idle": "2022-01-25T12:12:57.874333Z",
     "shell.execute_reply": "2022-01-25T12:12:57.873844Z"
    },
    "papermill": {
     "duration": 0.035694,
     "end_time": "2022-01-25T12:12:57.874442",
     "exception": false,
     "start_time": "2022-01-25T12:12:57.838748",
     "status": "completed"
    },
    "tags": []
   },
   "outputs": [],
   "source": [
    "#hide\n",
    "# g = g[cols]"
   ]
  },
  {
   "cell_type": "code",
   "execution_count": 39,
   "id": "structured-mobile",
   "metadata": {
    "execution": {
     "iopub.execute_input": "2022-01-25T12:12:57.938866Z",
     "iopub.status.busy": "2022-01-25T12:12:57.938238Z",
     "iopub.status.idle": "2022-01-25T12:12:57.940269Z",
     "shell.execute_reply": "2022-01-25T12:12:57.939696Z"
    },
    "papermill": {
     "duration": 0.035609,
     "end_time": "2022-01-25T12:12:57.940391",
     "exception": false,
     "start_time": "2022-01-25T12:12:57.904782",
     "status": "completed"
    },
    "tags": []
   },
   "outputs": [],
   "source": [
    "# #hide\n",
    "# g = g[g.group.notna()]"
   ]
  },
  {
   "cell_type": "code",
   "execution_count": 40,
   "id": "determined-closing",
   "metadata": {
    "execution": {
     "iopub.execute_input": "2022-01-25T12:12:58.005305Z",
     "iopub.status.busy": "2022-01-25T12:12:58.004792Z",
     "iopub.status.idle": "2022-01-25T12:12:58.007149Z",
     "shell.execute_reply": "2022-01-25T12:12:58.006737Z"
    },
    "papermill": {
     "duration": 0.035876,
     "end_time": "2022-01-25T12:12:58.007258",
     "exception": false,
     "start_time": "2022-01-25T12:12:57.971382",
     "status": "completed"
    },
    "tags": []
   },
   "outputs": [],
   "source": [
    "# #hide\n",
    "# colors = dict(zip(\n",
    "#     [\"Oceania\", \"Europe\", \"Asia\", \"South America\", \"Middle East\", \"North America\", \"Africa\"],\n",
    "#     [\"#adb0ff\", \"#ffb3ff\", \"#90d595\", \"#e48381\", \"#aafbff\", \"#f7bb5f\", \"#eafb50\"]\n",
    "# ))\n",
    "# group_lk = g.set_index('name')['group'].to_dict()"
   ]
  },
  {
   "cell_type": "code",
   "execution_count": null,
   "id": "gross-drinking",
   "metadata": {
    "papermill": {
     "duration": 0.030232,
     "end_time": "2022-01-25T12:12:58.067761",
     "exception": false,
     "start_time": "2022-01-25T12:12:58.037529",
     "status": "completed"
    },
    "tags": []
   },
   "outputs": [],
   "source": []
  },
  {
   "cell_type": "code",
   "execution_count": 41,
   "id": "subject-macintosh",
   "metadata": {
    "execution": {
     "iopub.execute_input": "2022-01-25T12:12:58.133392Z",
     "iopub.status.busy": "2022-01-25T12:12:58.132759Z",
     "iopub.status.idle": "2022-01-25T12:12:58.134793Z",
     "shell.execute_reply": "2022-01-25T12:12:58.134193Z"
    },
    "papermill": {
     "duration": 0.036694,
     "end_time": "2022-01-25T12:12:58.134918",
     "exception": false,
     "start_time": "2022-01-25T12:12:58.098224",
     "status": "completed"
    },
    "tags": []
   },
   "outputs": [],
   "source": [
    "# #hide\n",
    "# fig, ax = plt.subplots(figsize=(15, 8))\n",
    "\n",
    "# def draw_barchart(current_day):\n",
    "#     dff = g[g['day'].eq(current_day)].sort_values(by='value', ascending=True).tail(10)\n",
    "#     ax.clear()\n",
    "#     ax.barh(dff['name'], dff['value'], color=[colors[group_lk[x]] for x in dff['name']])\n",
    "#     dx = dff['value'].max() / 200\n",
    "    \n",
    "#     for i, (value, name) in enumerate(zip(dff['value'], dff['name'])):\n",
    "#         ax.text(value-dx, i,     name,           size=14, weight=600, ha='right', va='bottom')\n",
    "#         ax.text(value-dx, i-.25, group_lk[name], size=10, color='#444444', ha='right', va='baseline')\n",
    "#         ax.text(value+dx, i,     f'{value:,.0f}',  size=14, ha='left',  va='center')\n",
    "#     ax.text(1, 0.4, current_day, transform=ax.transAxes, color='#777777', size=46, ha='right', weight=800)\n",
    "#     ax.text(0, 1.06, 'Population (thousands)', transform=ax.transAxes, size=12, color='#777777')\n",
    "#     ax.xaxis.set_major_formatter(ticker.StrMethodFormatter('{x:,.0f}'))\n",
    "#     ax.xaxis.set_ticks_position('top')\n",
    "#     ax.tick_params(axis='x', colors='#777777', labelsize=12)\n",
    "#     ax.set_yticks([])\n",
    "#     ax.margins(0, 0.01)\n",
    "#     ax.grid(which='major', axis='x', linestyle='-')\n",
    "#     ax.set_axisbelow(True)\n",
    "    \n",
    "#     ax.text(0, 1.15, 'Coronavirus',\n",
    "#             transform=ax.transAxes, size=24, weight=600, ha='left', va='top')\n",
    "# #     ax.text(1, 0, 'by @pratapvardhan; credit @jburnmurdoch', transform=ax.transAxes, color='#777777', ha='right',\n",
    "# #             bbox=dict(facecolor='white', alpha=0.8, edgecolor='white'))\n",
    "#     plt.box(False)"
   ]
  },
  {
   "cell_type": "code",
   "execution_count": 42,
   "id": "sexual-wages",
   "metadata": {
    "execution": {
     "iopub.execute_input": "2022-01-25T12:12:58.199676Z",
     "iopub.status.busy": "2022-01-25T12:12:58.199138Z",
     "iopub.status.idle": "2022-01-25T12:12:58.202278Z",
     "shell.execute_reply": "2022-01-25T12:12:58.202686Z"
    },
    "papermill": {
     "duration": 0.037343,
     "end_time": "2022-01-25T12:12:58.202817",
     "exception": false,
     "start_time": "2022-01-25T12:12:58.165474",
     "status": "completed"
    },
    "tags": []
   },
   "outputs": [],
   "source": [
    "# #hide_input\n",
    "# fig, ax = plt.subplots(figsize=(15, 8))\n",
    "# animator = animation.FuncAnimation(fig, draw_barchart, frames=range(g.day.values.min(), g.day.values.max()))\n",
    "# HTML(animator.to_jshtml())\n",
    "# # or use animator.to_html5_video() or animator.save() "
   ]
  },
  {
   "cell_type": "code",
   "execution_count": null,
   "id": "australian-container",
   "metadata": {
    "papermill": {
     "duration": 0.030671,
     "end_time": "2022-01-25T12:12:58.264535",
     "exception": false,
     "start_time": "2022-01-25T12:12:58.233864",
     "status": "completed"
    },
    "tags": []
   },
   "outputs": [],
   "source": []
  },
  {
   "cell_type": "code",
   "execution_count": null,
   "id": "mediterranean-pontiac",
   "metadata": {
    "papermill": {
     "duration": 0.030372,
     "end_time": "2022-01-25T12:12:58.325204",
     "exception": false,
     "start_time": "2022-01-25T12:12:58.294832",
     "status": "completed"
    },
    "tags": []
   },
   "outputs": [],
   "source": []
  },
  {
   "cell_type": "code",
   "execution_count": null,
   "id": "aging-legislature",
   "metadata": {
    "papermill": {
     "duration": 0.030261,
     "end_time": "2022-01-25T12:12:58.386026",
     "exception": false,
     "start_time": "2022-01-25T12:12:58.355765",
     "status": "completed"
    },
    "tags": []
   },
   "outputs": [],
   "source": []
  }
 ],
 "metadata": {
  "kernelspec": {
   "display_name": "Python 3",
   "language": "python",
   "name": "python3"
  },
  "language_info": {
   "codemirror_mode": {
    "name": "ipython",
    "version": 3
   },
   "file_extension": ".py",
   "mimetype": "text/x-python",
   "name": "python",
   "nbconvert_exporter": "python",
   "pygments_lexer": "ipython3",
   "version": "3.6.15"
  },
  "papermill": {
   "duration": 5.816194,
   "end_time": "2022-01-25T12:12:58.734640",
   "environment_variables": {},
   "exception": null,
   "input_path": "2020-03-21-covid19exp.ipynb",
   "output_path": "2020-03-21-covid19exp.ipynb",
   "parameters": {},
   "start_time": "2022-01-25T12:12:52.918446",
   "version": "2.0.0"
  }
 },
 "nbformat": 4,
 "nbformat_minor": 5
}