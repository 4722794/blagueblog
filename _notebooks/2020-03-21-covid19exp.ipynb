{
 "cells": [
  {
   "cell_type": "markdown",
   "id": "muslim-click",
   "metadata": {
    "papermill": {
     "duration": 0.034223,
     "end_time": "2021-08-25T00:22:34.629088",
     "exception": false,
     "start_time": "2021-08-25T00:22:34.594865",
     "status": "completed"
    },
    "tags": []
   },
   "source": [
    "# COVID-19 Case Race\n",
    "> A race chart to see rising cases around the world\n",
    "\n",
    "- author: Hargun Oberoi\n",
    "- image: images/covid-overview.png\n",
    "- hide: false\n",
    "- badges: false"
   ]
  },
  {
   "cell_type": "code",
   "execution_count": 1,
   "id": "proof-material",
   "metadata": {
    "execution": {
     "iopub.execute_input": "2021-08-25T00:22:34.697717Z",
     "iopub.status.busy": "2021-08-25T00:22:34.697196Z",
     "iopub.status.idle": "2021-08-25T00:22:35.015247Z",
     "shell.execute_reply": "2021-08-25T00:22:35.014706Z"
    },
    "papermill": {
     "duration": 0.356356,
     "end_time": "2021-08-25T00:22:35.015401",
     "exception": false,
     "start_time": "2021-08-25T00:22:34.659045",
     "status": "completed"
    },
    "tags": []
   },
   "outputs": [],
   "source": [
    "#hide\n",
    "import numpy as np\n",
    "import pandas as pd\n",
    "from jinja2 import Template\n",
    "from IPython.display import HTML"
   ]
  },
  {
   "cell_type": "code",
   "execution_count": 2,
   "id": "developed-terminology",
   "metadata": {
    "execution": {
     "iopub.execute_input": "2021-08-25T00:22:35.081639Z",
     "iopub.status.busy": "2021-08-25T00:22:35.081128Z",
     "iopub.status.idle": "2021-08-25T00:22:35.083284Z",
     "shell.execute_reply": "2021-08-25T00:22:35.082877Z"
    },
    "papermill": {
     "duration": 0.037301,
     "end_time": "2021-08-25T00:22:35.083393",
     "exception": false,
     "start_time": "2021-08-25T00:22:35.046092",
     "status": "completed"
    },
    "tags": []
   },
   "outputs": [],
   "source": [
    "#hide\n",
    "\n",
    "# FETCH\n",
    "base_url = 'https://raw.githubusercontent.com/pratapvardhan/notebooks/master/covid19/'\n",
    "paths = {\n",
    "    'mapping': base_url + 'mapping_countries.csv',\n",
    "    'overview': base_url + 'overview.tpl'\n",
    "}"
   ]
  },
  {
   "cell_type": "code",
   "execution_count": 3,
   "id": "dynamic-saver",
   "metadata": {
    "execution": {
     "iopub.execute_input": "2021-08-25T00:22:35.150925Z",
     "iopub.status.busy": "2021-08-25T00:22:35.150390Z",
     "iopub.status.idle": "2021-08-25T00:22:35.153532Z",
     "shell.execute_reply": "2021-08-25T00:22:35.153109Z"
    },
    "papermill": {
     "duration": 0.041384,
     "end_time": "2021-08-25T00:22:35.153640",
     "exception": false,
     "start_time": "2021-08-25T00:22:35.112256",
     "status": "completed"
    },
    "tags": []
   },
   "outputs": [
    {
     "data": {
      "text/plain": [
       "'https://raw.githubusercontent.com/pratapvardhan/notebooks/master/covid19/mapping_countries.csv'"
      ]
     },
     "execution_count": 3,
     "metadata": {},
     "output_type": "execute_result"
    }
   ],
   "source": [
    "#hide\n",
    "paths['mapping']"
   ]
  },
  {
   "cell_type": "code",
   "execution_count": 4,
   "id": "urban-software",
   "metadata": {
    "execution": {
     "iopub.execute_input": "2021-08-25T00:22:35.217353Z",
     "iopub.status.busy": "2021-08-25T00:22:35.216854Z",
     "iopub.status.idle": "2021-08-25T00:22:35.218703Z",
     "shell.execute_reply": "2021-08-25T00:22:35.219127Z"
    },
    "papermill": {
     "duration": 0.036183,
     "end_time": "2021-08-25T00:22:35.219245",
     "exception": false,
     "start_time": "2021-08-25T00:22:35.183062",
     "status": "completed"
    },
    "tags": []
   },
   "outputs": [],
   "source": [
    "#hide\n",
    "def get_mappings(url):\n",
    "    df = pd.read_csv(url)\n",
    "    return {\n",
    "        'df': df,\n",
    "        'replace.country': dict(df.dropna(subset=['Name']).set_index('Country')['Name']),\n",
    "        'map.continent': dict(df.set_index('Name')['Continent'])\n",
    "    }"
   ]
  },
  {
   "cell_type": "code",
   "execution_count": 5,
   "id": "intimate-machinery",
   "metadata": {
    "execution": {
     "iopub.execute_input": "2021-08-25T00:22:35.283605Z",
     "iopub.status.busy": "2021-08-25T00:22:35.283108Z",
     "iopub.status.idle": "2021-08-25T00:22:35.340809Z",
     "shell.execute_reply": "2021-08-25T00:22:35.340285Z"
    },
    "papermill": {
     "duration": 0.091373,
     "end_time": "2021-08-25T00:22:35.340932",
     "exception": false,
     "start_time": "2021-08-25T00:22:35.249559",
     "status": "completed"
    },
    "tags": []
   },
   "outputs": [],
   "source": [
    "#hide\n",
    "mapping = get_mappings(paths['mapping'])"
   ]
  },
  {
   "cell_type": "code",
   "execution_count": 6,
   "id": "certified-tactics",
   "metadata": {
    "execution": {
     "iopub.execute_input": "2021-08-25T00:22:35.405595Z",
     "iopub.status.busy": "2021-08-25T00:22:35.405088Z",
     "iopub.status.idle": "2021-08-25T00:22:35.407192Z",
     "shell.execute_reply": "2021-08-25T00:22:35.406782Z"
    },
    "papermill": {
     "duration": 0.036722,
     "end_time": "2021-08-25T00:22:35.407304",
     "exception": false,
     "start_time": "2021-08-25T00:22:35.370582",
     "status": "completed"
    },
    "tags": []
   },
   "outputs": [],
   "source": [
    "#hide\n",
    "def get_template(path):\n",
    "    from urllib.parse import urlparse\n",
    "    if bool(urlparse(path).netloc):\n",
    "        from urllib.request import urlopen\n",
    "        return urlopen(path).read().decode('utf8')\n",
    "    return open(path).read()"
   ]
  },
  {
   "cell_type": "code",
   "execution_count": 7,
   "id": "realistic-blast",
   "metadata": {
    "execution": {
     "iopub.execute_input": "2021-08-25T00:22:35.471237Z",
     "iopub.status.busy": "2021-08-25T00:22:35.470734Z",
     "iopub.status.idle": "2021-08-25T00:22:35.472891Z",
     "shell.execute_reply": "2021-08-25T00:22:35.472462Z"
    },
    "papermill": {
     "duration": 0.036335,
     "end_time": "2021-08-25T00:22:35.472996",
     "exception": false,
     "start_time": "2021-08-25T00:22:35.436661",
     "status": "completed"
    },
    "tags": []
   },
   "outputs": [],
   "source": [
    "#hide\n",
    "def get_frame(name):\n",
    "    url = (\n",
    "        'https://raw.githubusercontent.com/CSSEGISandData/COVID-19/master/csse_covid_19_data/'\n",
    "        f'csse_covid_19_time_series/time_series_covid19_{name}_global.csv')\n",
    "    df = pd.read_csv(url)\n",
    "    # rename countries\n",
    "    df['Country/Region'] = df['Country/Region'].replace(mapping['replace.country'])\n",
    "    return df"
   ]
  },
  {
   "cell_type": "code",
   "execution_count": 8,
   "id": "affiliated-characterization",
   "metadata": {
    "execution": {
     "iopub.execute_input": "2021-08-25T00:22:35.537623Z",
     "iopub.status.busy": "2021-08-25T00:22:35.537120Z",
     "iopub.status.idle": "2021-08-25T00:22:35.539503Z",
     "shell.execute_reply": "2021-08-25T00:22:35.539102Z"
    },
    "papermill": {
     "duration": 0.037207,
     "end_time": "2021-08-25T00:22:35.539610",
     "exception": false,
     "start_time": "2021-08-25T00:22:35.502403",
     "status": "completed"
    },
    "tags": []
   },
   "outputs": [],
   "source": [
    "#hide\n",
    "def get_dates(df):\n",
    "    dt_cols = df.columns[~df.columns.isin(['Province/State', 'Country/Region', 'Lat', 'Long'])]\n",
    "    LAST_DATE_I = -1\n",
    "    # sometimes last column may be empty, then go backwards\n",
    "    for i in range(-1, -len(dt_cols), -1):\n",
    "        if not df[dt_cols[i]].fillna(0).eq(0).all():\n",
    "            LAST_DATE_I = i\n",
    "            break\n",
    "    return LAST_DATE_I, dt_cols"
   ]
  },
  {
   "cell_type": "code",
   "execution_count": 9,
   "id": "recent-optimization",
   "metadata": {
    "execution": {
     "iopub.execute_input": "2021-08-25T00:22:35.603376Z",
     "iopub.status.busy": "2021-08-25T00:22:35.602862Z",
     "iopub.status.idle": "2021-08-25T00:22:36.088930Z",
     "shell.execute_reply": "2021-08-25T00:22:36.087885Z"
    },
    "papermill": {
     "duration": 0.520206,
     "end_time": "2021-08-25T00:22:36.089064",
     "exception": false,
     "start_time": "2021-08-25T00:22:35.568858",
     "status": "completed"
    },
    "tags": []
   },
   "outputs": [],
   "source": [
    "#hide\n",
    "COL_REGION = 'Country/Region'\n",
    "# Confirmed, Recovered, Deaths\n",
    "df = get_frame('confirmed')\n",
    "# dft_: timeseries, dfc_: today country agg\n",
    "dft_cases = df\n",
    "dft_deaths = get_frame('deaths')\n",
    "dft_recovered = get_frame('recovered')\n",
    "LAST_DATE_I, dt_cols = get_dates(df)"
   ]
  },
  {
   "cell_type": "code",
   "execution_count": 10,
   "id": "absolute-copper",
   "metadata": {
    "execution": {
     "iopub.execute_input": "2021-08-25T00:22:36.153245Z",
     "iopub.status.busy": "2021-08-25T00:22:36.152739Z",
     "iopub.status.idle": "2021-08-25T00:22:36.155036Z",
     "shell.execute_reply": "2021-08-25T00:22:36.154581Z"
    },
    "papermill": {
     "duration": 0.036458,
     "end_time": "2021-08-25T00:22:36.155143",
     "exception": false,
     "start_time": "2021-08-25T00:22:36.118685",
     "status": "completed"
    },
    "tags": []
   },
   "outputs": [],
   "source": [
    "#hide\n",
    "LAST_DATE_I, dt_cols = get_dates(df)\n",
    "dt_today =dt_cols[LAST_DATE_I]\n",
    "# dt_5day = dt_cols[LAST_DATE_I - 5]\n",
    "dt_yday = dt_cols[LAST_DATE_I - 1]"
   ]
  },
  {
   "cell_type": "code",
   "execution_count": 11,
   "id": "restricted-sheriff",
   "metadata": {
    "execution": {
     "iopub.execute_input": "2021-08-25T00:22:36.219026Z",
     "iopub.status.busy": "2021-08-25T00:22:36.218529Z",
     "iopub.status.idle": "2021-08-25T00:22:36.225355Z",
     "shell.execute_reply": "2021-08-25T00:22:36.224929Z"
    },
    "papermill": {
     "duration": 0.041238,
     "end_time": "2021-08-25T00:22:36.225457",
     "exception": false,
     "start_time": "2021-08-25T00:22:36.184219",
     "status": "completed"
    },
    "tags": []
   },
   "outputs": [],
   "source": [
    "#hide\n",
    "dfc_cases = dft_cases.groupby(COL_REGION)[dt_today].sum()\n",
    "dfc_deaths = dft_deaths.groupby(COL_REGION)[dt_today].sum()\n",
    "# dfp_cases = dft_cases.groupby(COL_REGION)[dt_5day].sum()\n",
    "# dfp_deaths = dft_deaths.groupby(COL_REGION)[dt_5day].sum()\n",
    "dfp_cases = dft_cases.groupby(COL_REGION)[dt_yday].sum()\n",
    "dfp_deaths = dft_deaths.groupby(COL_REGION)[dt_yday].sum()"
   ]
  },
  {
   "cell_type": "code",
   "execution_count": 12,
   "id": "deluxe-hepatitis",
   "metadata": {
    "execution": {
     "iopub.execute_input": "2021-08-25T00:22:36.290094Z",
     "iopub.status.busy": "2021-08-25T00:22:36.289578Z",
     "iopub.status.idle": "2021-08-25T00:22:36.293505Z",
     "shell.execute_reply": "2021-08-25T00:22:36.293932Z"
    },
    "papermill": {
     "duration": 0.039322,
     "end_time": "2021-08-25T00:22:36.294058",
     "exception": false,
     "start_time": "2021-08-25T00:22:36.254736",
     "status": "completed"
    },
    "tags": []
   },
   "outputs": [],
   "source": [
    "#hide\n",
    "df_table = (pd.DataFrame(dict(Cases = dfc_cases, Deaths = dfc_deaths, PCases = dfp_cases, PDeaths = dfp_deaths))\n",
    "            .sort_values(by = ['Cases','Deaths'], ascending = [False, False])\n",
    "            .reset_index())"
   ]
  },
  {
   "cell_type": "code",
   "execution_count": 13,
   "id": "educational-chancellor",
   "metadata": {
    "execution": {
     "iopub.execute_input": "2021-08-25T00:22:36.370832Z",
     "iopub.status.busy": "2021-08-25T00:22:36.370285Z",
     "iopub.status.idle": "2021-08-25T00:22:36.377349Z",
     "shell.execute_reply": "2021-08-25T00:22:36.376915Z"
    },
    "papermill": {
     "duration": 0.054013,
     "end_time": "2021-08-25T00:22:36.377463",
     "exception": false,
     "start_time": "2021-08-25T00:22:36.323450",
     "status": "completed"
    },
    "tags": []
   },
   "outputs": [
    {
     "data": {
      "text/html": [
       "<div>\n",
       "<style scoped>\n",
       "    .dataframe tbody tr th:only-of-type {\n",
       "        vertical-align: middle;\n",
       "    }\n",
       "\n",
       "    .dataframe tbody tr th {\n",
       "        vertical-align: top;\n",
       "    }\n",
       "\n",
       "    .dataframe thead th {\n",
       "        text-align: right;\n",
       "    }\n",
       "</style>\n",
       "<table border=\"1\" class=\"dataframe\">\n",
       "  <thead>\n",
       "    <tr style=\"text-align: right;\">\n",
       "      <th></th>\n",
       "      <th>Country/Region</th>\n",
       "      <th>Cases</th>\n",
       "      <th>Deaths</th>\n",
       "      <th>PCases</th>\n",
       "      <th>PDeaths</th>\n",
       "      <th>Cases (+)</th>\n",
       "      <th>Deaths (+)</th>\n",
       "      <th>Fatality Rate</th>\n",
       "      <th>Continent</th>\n",
       "    </tr>\n",
       "  </thead>\n",
       "  <tbody>\n",
       "    <tr>\n",
       "      <th>0</th>\n",
       "      <td>US</td>\n",
       "      <td>37939641</td>\n",
       "      <td>629411</td>\n",
       "      <td>37709810</td>\n",
       "      <td>628503</td>\n",
       "      <td>229831</td>\n",
       "      <td>908</td>\n",
       "      <td>1.66</td>\n",
       "      <td>North America</td>\n",
       "    </tr>\n",
       "    <tr>\n",
       "      <th>1</th>\n",
       "      <td>India</td>\n",
       "      <td>32474773</td>\n",
       "      <td>435110</td>\n",
       "      <td>32449306</td>\n",
       "      <td>434756</td>\n",
       "      <td>25467</td>\n",
       "      <td>354</td>\n",
       "      <td>1.34</td>\n",
       "      <td>Asia</td>\n",
       "    </tr>\n",
       "    <tr>\n",
       "      <th>2</th>\n",
       "      <td>Brazil</td>\n",
       "      <td>20583994</td>\n",
       "      <td>574848</td>\n",
       "      <td>20570891</td>\n",
       "      <td>574527</td>\n",
       "      <td>13103</td>\n",
       "      <td>321</td>\n",
       "      <td>2.79</td>\n",
       "      <td>South America</td>\n",
       "    </tr>\n",
       "    <tr>\n",
       "      <th>3</th>\n",
       "      <td>France</td>\n",
       "      <td>6708163</td>\n",
       "      <td>113857</td>\n",
       "      <td>6700252</td>\n",
       "      <td>113472</td>\n",
       "      <td>7911</td>\n",
       "      <td>385</td>\n",
       "      <td>1.70</td>\n",
       "      <td>Europe</td>\n",
       "    </tr>\n",
       "    <tr>\n",
       "      <th>4</th>\n",
       "      <td>Russia</td>\n",
       "      <td>6672373</td>\n",
       "      <td>173768</td>\n",
       "      <td>6653498</td>\n",
       "      <td>173003</td>\n",
       "      <td>18875</td>\n",
       "      <td>765</td>\n",
       "      <td>2.60</td>\n",
       "      <td>Europe</td>\n",
       "    </tr>\n",
       "  </tbody>\n",
       "</table>\n",
       "</div>"
      ],
      "text/plain": [
       "  Country/Region     Cases  Deaths    PCases  PDeaths  Cases (+)  Deaths (+)  \\\n",
       "0             US  37939641  629411  37709810   628503     229831         908   \n",
       "1          India  32474773  435110  32449306   434756      25467         354   \n",
       "2         Brazil  20583994  574848  20570891   574527      13103         321   \n",
       "3         France   6708163  113857   6700252   113472       7911         385   \n",
       "4         Russia   6672373  173768   6653498   173003      18875         765   \n",
       "\n",
       "   Fatality Rate      Continent  \n",
       "0           1.66  North America  \n",
       "1           1.34           Asia  \n",
       "2           2.79  South America  \n",
       "3           1.70         Europe  \n",
       "4           2.60         Europe  "
      ]
     },
     "execution_count": 13,
     "metadata": {},
     "output_type": "execute_result"
    }
   ],
   "source": [
    "#hide\n",
    "for c in 'Cases, Deaths'.split(', '):\n",
    "    df_table[f'{c} (+)'] = (df_table[c] - df_table[f'P{c}']).clip(0)\n",
    "    #Clip ça veut dire, les chiffres negatif sont interdit\n",
    "df_table['Fatality Rate'] = (100* df_table['Deaths']/ df_table['Cases']).round(2)\n",
    "df_table['Continent'] = df_table['Country/Region'].map(mapping['map.continent'])\n",
    "df_table.head(5)"
   ]
  },
  {
   "cell_type": "code",
   "execution_count": 14,
   "id": "aboriginal-bulgaria",
   "metadata": {
    "execution": {
     "iopub.execute_input": "2021-08-25T00:22:36.442950Z",
     "iopub.status.busy": "2021-08-25T00:22:36.442445Z",
     "iopub.status.idle": "2021-08-25T00:22:36.444410Z",
     "shell.execute_reply": "2021-08-25T00:22:36.444819Z"
    },
    "papermill": {
     "duration": 0.037509,
     "end_time": "2021-08-25T00:22:36.444953",
     "exception": false,
     "start_time": "2021-08-25T00:22:36.407444",
     "status": "completed"
    },
    "tags": []
   },
   "outputs": [],
   "source": [
    "#hide\n",
    "#delete problematic countries from table\n",
    "df_table = df_table[~df_table['Country/Region'].isin(['Cape Verde', 'Cruise Ship', 'Kosovo'])]"
   ]
  },
  {
   "cell_type": "code",
   "execution_count": 15,
   "id": "fantastic-effect",
   "metadata": {
    "execution": {
     "iopub.execute_input": "2021-08-25T00:22:36.512513Z",
     "iopub.status.busy": "2021-08-25T00:22:36.511980Z",
     "iopub.status.idle": "2021-08-25T00:22:36.528328Z",
     "shell.execute_reply": "2021-08-25T00:22:36.527927Z"
    },
    "papermill": {
     "duration": 0.053844,
     "end_time": "2021-08-25T00:22:36.528456",
     "exception": false,
     "start_time": "2021-08-25T00:22:36.474612",
     "status": "completed"
    },
    "tags": []
   },
   "outputs": [
    {
     "data": {
      "text/html": [
       "<div>\n",
       "<style scoped>\n",
       "    .dataframe tbody tr th:only-of-type {\n",
       "        vertical-align: middle;\n",
       "    }\n",
       "\n",
       "    .dataframe tbody tr th {\n",
       "        vertical-align: top;\n",
       "    }\n",
       "\n",
       "    .dataframe thead th {\n",
       "        text-align: right;\n",
       "    }\n",
       "</style>\n",
       "<table border=\"1\" class=\"dataframe\">\n",
       "  <thead>\n",
       "    <tr style=\"text-align: right;\">\n",
       "      <th></th>\n",
       "      <th>Country/Region</th>\n",
       "      <th>Cases</th>\n",
       "      <th>Deaths</th>\n",
       "      <th>PCases</th>\n",
       "      <th>PDeaths</th>\n",
       "      <th>Cases (+)</th>\n",
       "      <th>Deaths (+)</th>\n",
       "      <th>Fatality Rate</th>\n",
       "      <th>Continent</th>\n",
       "    </tr>\n",
       "  </thead>\n",
       "  <tbody>\n",
       "    <tr>\n",
       "      <th>0</th>\n",
       "      <td>US</td>\n",
       "      <td>37939641</td>\n",
       "      <td>629411</td>\n",
       "      <td>37709810</td>\n",
       "      <td>628503</td>\n",
       "      <td>229831</td>\n",
       "      <td>908</td>\n",
       "      <td>1.7</td>\n",
       "      <td>North America</td>\n",
       "    </tr>\n",
       "    <tr>\n",
       "      <th>1</th>\n",
       "      <td>India</td>\n",
       "      <td>32474773</td>\n",
       "      <td>435110</td>\n",
       "      <td>32449306</td>\n",
       "      <td>434756</td>\n",
       "      <td>25467</td>\n",
       "      <td>354</td>\n",
       "      <td>1.3</td>\n",
       "      <td>Asia</td>\n",
       "    </tr>\n",
       "    <tr>\n",
       "      <th>2</th>\n",
       "      <td>Brazil</td>\n",
       "      <td>20583994</td>\n",
       "      <td>574848</td>\n",
       "      <td>20570891</td>\n",
       "      <td>574527</td>\n",
       "      <td>13103</td>\n",
       "      <td>321</td>\n",
       "      <td>2.8</td>\n",
       "      <td>South America</td>\n",
       "    </tr>\n",
       "    <tr>\n",
       "      <th>3</th>\n",
       "      <td>France</td>\n",
       "      <td>6708163</td>\n",
       "      <td>113857</td>\n",
       "      <td>6700252</td>\n",
       "      <td>113472</td>\n",
       "      <td>7911</td>\n",
       "      <td>385</td>\n",
       "      <td>1.7</td>\n",
       "      <td>Europe</td>\n",
       "    </tr>\n",
       "    <tr>\n",
       "      <th>4</th>\n",
       "      <td>Russia</td>\n",
       "      <td>6672373</td>\n",
       "      <td>173768</td>\n",
       "      <td>6653498</td>\n",
       "      <td>173003</td>\n",
       "      <td>18875</td>\n",
       "      <td>765</td>\n",
       "      <td>2.6</td>\n",
       "      <td>Europe</td>\n",
       "    </tr>\n",
       "  </tbody>\n",
       "</table>\n",
       "</div>"
      ],
      "text/plain": [
       "  Country/Region     Cases  Deaths    PCases  PDeaths  Cases (+)  Deaths (+)  \\\n",
       "0             US  37939641  629411  37709810   628503     229831         908   \n",
       "1          India  32474773  435110  32449306   434756      25467         354   \n",
       "2         Brazil  20583994  574848  20570891   574527      13103         321   \n",
       "3         France   6708163  113857   6700252   113472       7911         385   \n",
       "4         Russia   6672373  173768   6653498   173003      18875         765   \n",
       "\n",
       "   Fatality Rate      Continent  \n",
       "0            1.7  North America  \n",
       "1            1.3           Asia  \n",
       "2            2.8  South America  \n",
       "3            1.7         Europe  \n",
       "4            2.6         Europe  "
      ]
     },
     "execution_count": 15,
     "metadata": {},
     "output_type": "execute_result"
    }
   ],
   "source": [
    "#hide\n",
    "df_table = (pd.DataFrame(dict(Cases=dfc_cases, Deaths=dfc_deaths, PCases=dfp_cases, PDeaths=dfp_deaths))\n",
    "             .sort_values(by=['Cases', 'Deaths'], ascending=[False, False])\n",
    "             .reset_index())\n",
    "df_table.rename(columns={'index': 'Country/Region'}, inplace=True)\n",
    "for c in 'Cases, Deaths'.split(', '):\n",
    "    df_table[f'{c} (+)'] = (df_table[c] - df_table[f'P{c}']).clip(0)  # DATA BUG\n",
    "df_table['Fatality Rate'] = (100 * df_table['Deaths'] / df_table['Cases']).round(1)\n",
    "df_table['Continent'] = df_table['Country/Region'].map(mapping['map.continent'])\n",
    "df_table.head(5)"
   ]
  },
  {
   "cell_type": "code",
   "execution_count": 16,
   "id": "fewer-occasion",
   "metadata": {
    "execution": {
     "iopub.execute_input": "2021-08-25T00:22:36.594652Z",
     "iopub.status.busy": "2021-08-25T00:22:36.594160Z",
     "iopub.status.idle": "2021-08-25T00:22:36.596689Z",
     "shell.execute_reply": "2021-08-25T00:22:36.596129Z"
    },
    "papermill": {
     "duration": 0.038061,
     "end_time": "2021-08-25T00:22:36.596808",
     "exception": false,
     "start_time": "2021-08-25T00:22:36.558747",
     "status": "completed"
    },
    "tags": []
   },
   "outputs": [],
   "source": [
    "#hide\n",
    "#delete problematic countries from table\n",
    "df_table = df_table[~df_table['Country/Region'].isin(['Cape Verde', 'Cruise Ship', 'Kosovo'])]"
   ]
  },
  {
   "cell_type": "code",
   "execution_count": 17,
   "id": "related-center",
   "metadata": {
    "execution": {
     "iopub.execute_input": "2021-08-25T00:22:36.675053Z",
     "iopub.status.busy": "2021-08-25T00:22:36.674524Z",
     "iopub.status.idle": "2021-08-25T00:22:36.676939Z",
     "shell.execute_reply": "2021-08-25T00:22:36.676513Z"
    },
    "papermill": {
     "duration": 0.050057,
     "end_time": "2021-08-25T00:22:36.677055",
     "exception": false,
     "start_time": "2021-08-25T00:22:36.626998",
     "status": "completed"
    },
    "tags": []
   },
   "outputs": [],
   "source": [
    "#hide\n",
    "metrics = [df_table.columns[index] for index in [1,2,5,6]]\n",
    "# s_china = df_table[df_table['Country/Region'].eq('China')][metrics].sum().add_prefix('China ')\n",
    "s_us = df_table[df_table['Country/Region'].eq('US')][metrics].sum().add_prefix('US ')\n",
    "s_eu = df_table[df_table['Continent'].eq('Europe')][metrics].sum().add_prefix('EU ')\n",
    "s_ind = df_table[df_table['Country/Region'].eq('India')][metrics].sum().add_prefix('India ')\n",
    "summary = {'updated': pd.to_datetime(dt_today), 'since': pd.to_datetime(dt_yday)}\n",
    "summary = {'updated': pd.to_datetime(dt_today), 'since': pd.to_datetime(dt_yday)}\n",
    "summary = {**summary, **df_table[metrics].sum(), **s_ind, **s_us, **s_eu}"
   ]
  },
  {
   "cell_type": "code",
   "execution_count": 18,
   "id": "engaging-syndrome",
   "metadata": {
    "execution": {
     "iopub.execute_input": "2021-08-25T00:22:36.742826Z",
     "iopub.status.busy": "2021-08-25T00:22:36.742322Z",
     "iopub.status.idle": "2021-08-25T00:22:36.756400Z",
     "shell.execute_reply": "2021-08-25T00:22:36.755988Z"
    },
    "papermill": {
     "duration": 0.049099,
     "end_time": "2021-08-25T00:22:36.756547",
     "exception": false,
     "start_time": "2021-08-25T00:22:36.707448",
     "status": "completed"
    },
    "tags": []
   },
   "outputs": [],
   "source": [
    "#hide\n",
    "dft_ct_new_cases = dft_cases.groupby(COL_REGION)[dt_cols].sum().diff(axis=1).fillna(0).astype(int)"
   ]
  },
  {
   "cell_type": "code",
   "execution_count": 19,
   "id": "neutral-assignment",
   "metadata": {
    "execution": {
     "iopub.execute_input": "2021-08-25T00:22:36.823840Z",
     "iopub.status.busy": "2021-08-25T00:22:36.823335Z",
     "iopub.status.idle": "2021-08-25T00:22:36.825233Z",
     "shell.execute_reply": "2021-08-25T00:22:36.825727Z"
    },
    "papermill": {
     "duration": 0.038867,
     "end_time": "2021-08-25T00:22:36.825853",
     "exception": false,
     "start_time": "2021-08-25T00:22:36.786986",
     "status": "completed"
    },
    "tags": []
   },
   "outputs": [],
   "source": [
    "#hide\n",
    "everydaycases = dft_ct_new_cases.cumsum(axis=1)"
   ]
  },
  {
   "cell_type": "code",
   "execution_count": 20,
   "id": "parliamentary-calgary",
   "metadata": {
    "execution": {
     "iopub.execute_input": "2021-08-25T00:22:36.890861Z",
     "iopub.status.busy": "2021-08-25T00:22:36.890358Z",
     "iopub.status.idle": "2021-08-25T00:22:37.465384Z",
     "shell.execute_reply": "2021-08-25T00:22:37.464856Z"
    },
    "papermill": {
     "duration": 0.608949,
     "end_time": "2021-08-25T00:22:37.465520",
     "exception": false,
     "start_time": "2021-08-25T00:22:36.856571",
     "status": "completed"
    },
    "tags": []
   },
   "outputs": [],
   "source": [
    "#hide\n",
    "import pandas as pd\n",
    "import matplotlib.pyplot as plt\n",
    "import matplotlib.ticker as ticker\n",
    "import matplotlib.animation as animation\n",
    "from IPython.display import HTML"
   ]
  },
  {
   "cell_type": "code",
   "execution_count": 21,
   "id": "lasting-extraction",
   "metadata": {
    "execution": {
     "iopub.execute_input": "2021-08-25T00:22:37.532492Z",
     "iopub.status.busy": "2021-08-25T00:22:37.531958Z",
     "iopub.status.idle": "2021-08-25T00:22:37.537917Z",
     "shell.execute_reply": "2021-08-25T00:22:37.537509Z"
    },
    "papermill": {
     "duration": 0.041819,
     "end_time": "2021-08-25T00:22:37.538032",
     "exception": false,
     "start_time": "2021-08-25T00:22:37.496213",
     "status": "completed"
    },
    "tags": []
   },
   "outputs": [],
   "source": [
    "#hide\n",
    "t = everydaycases.stack()"
   ]
  },
  {
   "cell_type": "code",
   "execution_count": 22,
   "id": "premier-sleeve",
   "metadata": {
    "execution": {
     "iopub.execute_input": "2021-08-25T00:22:37.602904Z",
     "iopub.status.busy": "2021-08-25T00:22:37.602398Z",
     "iopub.status.idle": "2021-08-25T00:22:37.611077Z",
     "shell.execute_reply": "2021-08-25T00:22:37.610673Z"
    },
    "papermill": {
     "duration": 0.042623,
     "end_time": "2021-08-25T00:22:37.611187",
     "exception": false,
     "start_time": "2021-08-25T00:22:37.568564",
     "status": "completed"
    },
    "tags": []
   },
   "outputs": [],
   "source": [
    "#hide\n",
    "g = t.reset_index(['Country/Region'])"
   ]
  },
  {
   "cell_type": "code",
   "execution_count": 23,
   "id": "distributed-pittsburgh",
   "metadata": {
    "execution": {
     "iopub.execute_input": "2021-08-25T00:22:37.675467Z",
     "iopub.status.busy": "2021-08-25T00:22:37.674952Z",
     "iopub.status.idle": "2021-08-25T00:22:37.676768Z",
     "shell.execute_reply": "2021-08-25T00:22:37.677304Z"
    },
    "papermill": {
     "duration": 0.036012,
     "end_time": "2021-08-25T00:22:37.677435",
     "exception": false,
     "start_time": "2021-08-25T00:22:37.641423",
     "status": "completed"
    },
    "tags": []
   },
   "outputs": [],
   "source": [
    "#hide\n",
    "g.index.name = 'date'"
   ]
  },
  {
   "cell_type": "code",
   "execution_count": 24,
   "id": "naked-donor",
   "metadata": {
    "execution": {
     "iopub.execute_input": "2021-08-25T00:22:37.741500Z",
     "iopub.status.busy": "2021-08-25T00:22:37.740992Z",
     "iopub.status.idle": "2021-08-25T00:22:37.743170Z",
     "shell.execute_reply": "2021-08-25T00:22:37.742746Z"
    },
    "papermill": {
     "duration": 0.035557,
     "end_time": "2021-08-25T00:22:37.743275",
     "exception": false,
     "start_time": "2021-08-25T00:22:37.707718",
     "status": "completed"
    },
    "tags": []
   },
   "outputs": [],
   "source": [
    "# #hide\n",
    "# g = g.reset_index(['date'])"
   ]
  },
  {
   "cell_type": "code",
   "execution_count": 25,
   "id": "incomplete-mustang",
   "metadata": {
    "execution": {
     "iopub.execute_input": "2021-08-25T00:22:37.807986Z",
     "iopub.status.busy": "2021-08-25T00:22:37.807487Z",
     "iopub.status.idle": "2021-08-25T00:22:37.809770Z",
     "shell.execute_reply": "2021-08-25T00:22:37.809366Z"
    },
    "papermill": {
     "duration": 0.036493,
     "end_time": "2021-08-25T00:22:37.809879",
     "exception": false,
     "start_time": "2021-08-25T00:22:37.773386",
     "status": "completed"
    },
    "tags": []
   },
   "outputs": [],
   "source": [
    "#hide\n",
    "# g.head()"
   ]
  },
  {
   "cell_type": "code",
   "execution_count": 26,
   "id": "specific-kruger",
   "metadata": {
    "execution": {
     "iopub.execute_input": "2021-08-25T00:22:37.874198Z",
     "iopub.status.busy": "2021-08-25T00:22:37.873688Z",
     "iopub.status.idle": "2021-08-25T00:22:37.875851Z",
     "shell.execute_reply": "2021-08-25T00:22:37.875427Z"
    },
    "papermill": {
     "duration": 0.035814,
     "end_time": "2021-08-25T00:22:37.875954",
     "exception": false,
     "start_time": "2021-08-25T00:22:37.840140",
     "status": "completed"
    },
    "tags": []
   },
   "outputs": [],
   "source": [
    "#hide\n",
    "# g.columns = ['date','country','cases']"
   ]
  },
  {
   "cell_type": "code",
   "execution_count": 27,
   "id": "tender-conversion",
   "metadata": {
    "execution": {
     "iopub.execute_input": "2021-08-25T00:22:37.940445Z",
     "iopub.status.busy": "2021-08-25T00:22:37.939919Z",
     "iopub.status.idle": "2021-08-25T00:22:37.941671Z",
     "shell.execute_reply": "2021-08-25T00:22:37.942147Z"
    },
    "papermill": {
     "duration": 0.03621,
     "end_time": "2021-08-25T00:22:37.942275",
     "exception": false,
     "start_time": "2021-08-25T00:22:37.906065",
     "status": "completed"
    },
    "tags": []
   },
   "outputs": [],
   "source": [
    "#hide\n",
    "# g['continent'] = g.country"
   ]
  },
  {
   "cell_type": "code",
   "execution_count": 28,
   "id": "substantial-wilderness",
   "metadata": {
    "execution": {
     "iopub.execute_input": "2021-08-25T00:22:38.006930Z",
     "iopub.status.busy": "2021-08-25T00:22:38.006424Z",
     "iopub.status.idle": "2021-08-25T00:22:38.008533Z",
     "shell.execute_reply": "2021-08-25T00:22:38.008085Z"
    },
    "papermill": {
     "duration": 0.035806,
     "end_time": "2021-08-25T00:22:38.008646",
     "exception": false,
     "start_time": "2021-08-25T00:22:37.972840",
     "status": "completed"
    },
    "tags": []
   },
   "outputs": [],
   "source": [
    "#hide\n",
    "# cols = list(g.columns.values)"
   ]
  },
  {
   "cell_type": "code",
   "execution_count": 29,
   "id": "solved-farming",
   "metadata": {
    "execution": {
     "iopub.execute_input": "2021-08-25T00:22:38.073222Z",
     "iopub.status.busy": "2021-08-25T00:22:38.072708Z",
     "iopub.status.idle": "2021-08-25T00:22:38.074893Z",
     "shell.execute_reply": "2021-08-25T00:22:38.074465Z"
    },
    "papermill": {
     "duration": 0.035923,
     "end_time": "2021-08-25T00:22:38.074999",
     "exception": false,
     "start_time": "2021-08-25T00:22:38.039076",
     "status": "completed"
    },
    "tags": []
   },
   "outputs": [],
   "source": [
    "#hide\n",
    "# cols.insert(0, cols.pop())"
   ]
  },
  {
   "cell_type": "code",
   "execution_count": 30,
   "id": "executed-adoption",
   "metadata": {
    "execution": {
     "iopub.execute_input": "2021-08-25T00:22:38.139613Z",
     "iopub.status.busy": "2021-08-25T00:22:38.139096Z",
     "iopub.status.idle": "2021-08-25T00:22:38.140888Z",
     "shell.execute_reply": "2021-08-25T00:22:38.141316Z"
    },
    "papermill": {
     "duration": 0.035929,
     "end_time": "2021-08-25T00:22:38.141442",
     "exception": false,
     "start_time": "2021-08-25T00:22:38.105513",
     "status": "completed"
    },
    "tags": []
   },
   "outputs": [],
   "source": [
    "#hide\n",
    "# g = g[cols]"
   ]
  },
  {
   "cell_type": "code",
   "execution_count": 31,
   "id": "subject-dublin",
   "metadata": {
    "execution": {
     "iopub.execute_input": "2021-08-25T00:22:38.205420Z",
     "iopub.status.busy": "2021-08-25T00:22:38.204921Z",
     "iopub.status.idle": "2021-08-25T00:22:38.207266Z",
     "shell.execute_reply": "2021-08-25T00:22:38.206861Z"
    },
    "papermill": {
     "duration": 0.035657,
     "end_time": "2021-08-25T00:22:38.207378",
     "exception": false,
     "start_time": "2021-08-25T00:22:38.171721",
     "status": "completed"
    },
    "tags": []
   },
   "outputs": [],
   "source": [
    "#hide\n",
    "# g['continent'] = g['continent'].map(mapping['map.continent'])"
   ]
  },
  {
   "cell_type": "code",
   "execution_count": 32,
   "id": "freelance-scout",
   "metadata": {
    "execution": {
     "iopub.execute_input": "2021-08-25T00:22:38.271747Z",
     "iopub.status.busy": "2021-08-25T00:22:38.271239Z",
     "iopub.status.idle": "2021-08-25T00:22:38.273137Z",
     "shell.execute_reply": "2021-08-25T00:22:38.273519Z"
    },
    "papermill": {
     "duration": 0.035743,
     "end_time": "2021-08-25T00:22:38.273647",
     "exception": false,
     "start_time": "2021-08-25T00:22:38.237904",
     "status": "completed"
    },
    "tags": []
   },
   "outputs": [],
   "source": [
    "#hide\n",
    "# g.head()"
   ]
  },
  {
   "cell_type": "code",
   "execution_count": 33,
   "id": "limited-engine",
   "metadata": {
    "execution": {
     "iopub.execute_input": "2021-08-25T00:22:38.337558Z",
     "iopub.status.busy": "2021-08-25T00:22:38.337049Z",
     "iopub.status.idle": "2021-08-25T00:22:38.339391Z",
     "shell.execute_reply": "2021-08-25T00:22:38.338982Z"
    },
    "papermill": {
     "duration": 0.035646,
     "end_time": "2021-08-25T00:22:38.339501",
     "exception": false,
     "start_time": "2021-08-25T00:22:38.303855",
     "status": "completed"
    },
    "tags": []
   },
   "outputs": [],
   "source": [
    "# hide\n",
    "# g['date'] = g['date'].astype('datetime64[ns]')"
   ]
  },
  {
   "cell_type": "code",
   "execution_count": 34,
   "id": "sophisticated-supervisor",
   "metadata": {
    "execution": {
     "iopub.execute_input": "2021-08-25T00:22:38.403458Z",
     "iopub.status.busy": "2021-08-25T00:22:38.402960Z",
     "iopub.status.idle": "2021-08-25T00:22:38.405267Z",
     "shell.execute_reply": "2021-08-25T00:22:38.404865Z"
    },
    "papermill": {
     "duration": 0.035557,
     "end_time": "2021-08-25T00:22:38.405374",
     "exception": false,
     "start_time": "2021-08-25T00:22:38.369817",
     "status": "completed"
    },
    "tags": []
   },
   "outputs": [],
   "source": [
    "#hide\n",
    "# g['date'] = g.date.dt.dayofyear"
   ]
  },
  {
   "cell_type": "code",
   "execution_count": 35,
   "id": "inside-dubai",
   "metadata": {
    "execution": {
     "iopub.execute_input": "2021-08-25T00:22:38.469368Z",
     "iopub.status.busy": "2021-08-25T00:22:38.468850Z",
     "iopub.status.idle": "2021-08-25T00:22:38.470629Z",
     "shell.execute_reply": "2021-08-25T00:22:38.471032Z"
    },
    "papermill": {
     "duration": 0.035662,
     "end_time": "2021-08-25T00:22:38.471157",
     "exception": false,
     "start_time": "2021-08-25T00:22:38.435495",
     "status": "completed"
    },
    "tags": []
   },
   "outputs": [],
   "source": [
    "#hide\n",
    "# g = g.rename(columns= {'continent':'group','country':'name','cases':'value'})"
   ]
  },
  {
   "cell_type": "code",
   "execution_count": 36,
   "id": "fleet-motorcycle",
   "metadata": {
    "execution": {
     "iopub.execute_input": "2021-08-25T00:22:38.535285Z",
     "iopub.status.busy": "2021-08-25T00:22:38.534779Z",
     "iopub.status.idle": "2021-08-25T00:22:38.537061Z",
     "shell.execute_reply": "2021-08-25T00:22:38.536650Z"
    },
    "papermill": {
     "duration": 0.035691,
     "end_time": "2021-08-25T00:22:38.537172",
     "exception": false,
     "start_time": "2021-08-25T00:22:38.501481",
     "status": "completed"
    },
    "tags": []
   },
   "outputs": [],
   "source": [
    "#hide\n",
    "# cols = ['name','group','day','value']"
   ]
  },
  {
   "cell_type": "code",
   "execution_count": 37,
   "id": "continued-sleeping",
   "metadata": {
    "execution": {
     "iopub.execute_input": "2021-08-25T00:22:38.601093Z",
     "iopub.status.busy": "2021-08-25T00:22:38.600588Z",
     "iopub.status.idle": "2021-08-25T00:22:38.602868Z",
     "shell.execute_reply": "2021-08-25T00:22:38.602439Z"
    },
    "papermill": {
     "duration": 0.035654,
     "end_time": "2021-08-25T00:22:38.602976",
     "exception": false,
     "start_time": "2021-08-25T00:22:38.567322",
     "status": "completed"
    },
    "tags": []
   },
   "outputs": [],
   "source": [
    "#hide\n",
    "# g.rename(columns= {'date':'day'},inplace = True)"
   ]
  },
  {
   "cell_type": "code",
   "execution_count": 38,
   "id": "major-fight",
   "metadata": {
    "execution": {
     "iopub.execute_input": "2021-08-25T00:22:38.667583Z",
     "iopub.status.busy": "2021-08-25T00:22:38.667067Z",
     "iopub.status.idle": "2021-08-25T00:22:38.668775Z",
     "shell.execute_reply": "2021-08-25T00:22:38.669182Z"
    },
    "papermill": {
     "duration": 0.035857,
     "end_time": "2021-08-25T00:22:38.669308",
     "exception": false,
     "start_time": "2021-08-25T00:22:38.633451",
     "status": "completed"
    },
    "tags": []
   },
   "outputs": [],
   "source": [
    "#hide\n",
    "# g = g[cols]"
   ]
  },
  {
   "cell_type": "code",
   "execution_count": 39,
   "id": "structured-mobile",
   "metadata": {
    "execution": {
     "iopub.execute_input": "2021-08-25T00:22:38.733830Z",
     "iopub.status.busy": "2021-08-25T00:22:38.733321Z",
     "iopub.status.idle": "2021-08-25T00:22:38.735449Z",
     "shell.execute_reply": "2021-08-25T00:22:38.735016Z"
    },
    "papermill": {
     "duration": 0.035978,
     "end_time": "2021-08-25T00:22:38.735556",
     "exception": false,
     "start_time": "2021-08-25T00:22:38.699578",
     "status": "completed"
    },
    "tags": []
   },
   "outputs": [],
   "source": [
    "# #hide\n",
    "# g = g[g.group.notna()]"
   ]
  },
  {
   "cell_type": "code",
   "execution_count": 40,
   "id": "determined-closing",
   "metadata": {
    "execution": {
     "iopub.execute_input": "2021-08-25T00:22:38.800497Z",
     "iopub.status.busy": "2021-08-25T00:22:38.799954Z",
     "iopub.status.idle": "2021-08-25T00:22:38.802110Z",
     "shell.execute_reply": "2021-08-25T00:22:38.801675Z"
    },
    "papermill": {
     "duration": 0.036101,
     "end_time": "2021-08-25T00:22:38.802223",
     "exception": false,
     "start_time": "2021-08-25T00:22:38.766122",
     "status": "completed"
    },
    "tags": []
   },
   "outputs": [],
   "source": [
    "# #hide\n",
    "# colors = dict(zip(\n",
    "#     [\"Oceania\", \"Europe\", \"Asia\", \"South America\", \"Middle East\", \"North America\", \"Africa\"],\n",
    "#     [\"#adb0ff\", \"#ffb3ff\", \"#90d595\", \"#e48381\", \"#aafbff\", \"#f7bb5f\", \"#eafb50\"]\n",
    "# ))\n",
    "# group_lk = g.set_index('name')['group'].to_dict()"
   ]
  },
  {
   "cell_type": "code",
   "execution_count": null,
   "id": "gross-drinking",
   "metadata": {
    "papermill": {
     "duration": 0.030499,
     "end_time": "2021-08-25T00:22:38.863020",
     "exception": false,
     "start_time": "2021-08-25T00:22:38.832521",
     "status": "completed"
    },
    "tags": []
   },
   "outputs": [],
   "source": []
  },
  {
   "cell_type": "code",
   "execution_count": 41,
   "id": "subject-macintosh",
   "metadata": {
    "execution": {
     "iopub.execute_input": "2021-08-25T00:22:38.928072Z",
     "iopub.status.busy": "2021-08-25T00:22:38.927558Z",
     "iopub.status.idle": "2021-08-25T00:22:38.930072Z",
     "shell.execute_reply": "2021-08-25T00:22:38.929659Z"
    },
    "papermill": {
     "duration": 0.036687,
     "end_time": "2021-08-25T00:22:38.930186",
     "exception": false,
     "start_time": "2021-08-25T00:22:38.893499",
     "status": "completed"
    },
    "tags": []
   },
   "outputs": [],
   "source": [
    "# #hide\n",
    "# fig, ax = plt.subplots(figsize=(15, 8))\n",
    "\n",
    "# def draw_barchart(current_day):\n",
    "#     dff = g[g['day'].eq(current_day)].sort_values(by='value', ascending=True).tail(10)\n",
    "#     ax.clear()\n",
    "#     ax.barh(dff['name'], dff['value'], color=[colors[group_lk[x]] for x in dff['name']])\n",
    "#     dx = dff['value'].max() / 200\n",
    "    \n",
    "#     for i, (value, name) in enumerate(zip(dff['value'], dff['name'])):\n",
    "#         ax.text(value-dx, i,     name,           size=14, weight=600, ha='right', va='bottom')\n",
    "#         ax.text(value-dx, i-.25, group_lk[name], size=10, color='#444444', ha='right', va='baseline')\n",
    "#         ax.text(value+dx, i,     f'{value:,.0f}',  size=14, ha='left',  va='center')\n",
    "#     ax.text(1, 0.4, current_day, transform=ax.transAxes, color='#777777', size=46, ha='right', weight=800)\n",
    "#     ax.text(0, 1.06, 'Population (thousands)', transform=ax.transAxes, size=12, color='#777777')\n",
    "#     ax.xaxis.set_major_formatter(ticker.StrMethodFormatter('{x:,.0f}'))\n",
    "#     ax.xaxis.set_ticks_position('top')\n",
    "#     ax.tick_params(axis='x', colors='#777777', labelsize=12)\n",
    "#     ax.set_yticks([])\n",
    "#     ax.margins(0, 0.01)\n",
    "#     ax.grid(which='major', axis='x', linestyle='-')\n",
    "#     ax.set_axisbelow(True)\n",
    "    \n",
    "#     ax.text(0, 1.15, 'Coronavirus',\n",
    "#             transform=ax.transAxes, size=24, weight=600, ha='left', va='top')\n",
    "# #     ax.text(1, 0, 'by @pratapvardhan; credit @jburnmurdoch', transform=ax.transAxes, color='#777777', ha='right',\n",
    "# #             bbox=dict(facecolor='white', alpha=0.8, edgecolor='white'))\n",
    "#     plt.box(False)"
   ]
  },
  {
   "cell_type": "code",
   "execution_count": 42,
   "id": "sexual-wages",
   "metadata": {
    "execution": {
     "iopub.execute_input": "2021-08-25T00:22:38.994824Z",
     "iopub.status.busy": "2021-08-25T00:22:38.994309Z",
     "iopub.status.idle": "2021-08-25T00:22:38.996082Z",
     "shell.execute_reply": "2021-08-25T00:22:38.996530Z"
    },
    "papermill": {
     "duration": 0.036162,
     "end_time": "2021-08-25T00:22:38.996661",
     "exception": false,
     "start_time": "2021-08-25T00:22:38.960499",
     "status": "completed"
    },
    "tags": []
   },
   "outputs": [],
   "source": [
    "# #hide_input\n",
    "# fig, ax = plt.subplots(figsize=(15, 8))\n",
    "# animator = animation.FuncAnimation(fig, draw_barchart, frames=range(g.day.values.min(), g.day.values.max()))\n",
    "# HTML(animator.to_jshtml())\n",
    "# # or use animator.to_html5_video() or animator.save() "
   ]
  },
  {
   "cell_type": "code",
   "execution_count": null,
   "id": "australian-container",
   "metadata": {
    "papermill": {
     "duration": 0.030263,
     "end_time": "2021-08-25T00:22:39.057224",
     "exception": false,
     "start_time": "2021-08-25T00:22:39.026961",
     "status": "completed"
    },
    "tags": []
   },
   "outputs": [],
   "source": []
  },
  {
   "cell_type": "code",
   "execution_count": null,
   "id": "mediterranean-pontiac",
   "metadata": {
    "papermill": {
     "duration": 0.030214,
     "end_time": "2021-08-25T00:22:39.117664",
     "exception": false,
     "start_time": "2021-08-25T00:22:39.087450",
     "status": "completed"
    },
    "tags": []
   },
   "outputs": [],
   "source": []
  },
  {
   "cell_type": "code",
   "execution_count": null,
   "id": "aging-legislature",
   "metadata": {
    "papermill": {
     "duration": 0.030969,
     "end_time": "2021-08-25T00:22:39.179524",
     "exception": false,
     "start_time": "2021-08-25T00:22:39.148555",
     "status": "completed"
    },
    "tags": []
   },
   "outputs": [],
   "source": []
  }
 ],
 "metadata": {
  "kernelspec": {
   "display_name": "Python 3",
   "language": "python",
   "name": "python3"
  },
  "language_info": {
   "codemirror_mode": {
    "name": "ipython",
    "version": 3
   },
   "file_extension": ".py",
   "mimetype": "text/x-python",
   "name": "python",
   "nbconvert_exporter": "python",
   "pygments_lexer": "ipython3",
   "version": "3.6.14"
  },
  "papermill": {
   "duration": 5.958134,
   "end_time": "2021-08-25T00:22:39.518415",
   "environment_variables": {},
   "exception": null,
   "input_path": "2020-03-21-covid19exp.ipynb",
   "output_path": "2020-03-21-covid19exp.ipynb",
   "parameters": {},
   "start_time": "2021-08-25T00:22:33.560281",
   "version": "2.0.0"
  }
 },
 "nbformat": 4,
 "nbformat_minor": 5
}