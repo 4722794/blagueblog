{
 "cells": [
  {
   "cell_type": "markdown",
   "id": "muslim-click",
   "metadata": {
    "papermill": {
     "duration": 0.033498,
     "end_time": "2021-09-01T00:21:42.781633",
     "exception": false,
     "start_time": "2021-09-01T00:21:42.748135",
     "status": "completed"
    },
    "tags": []
   },
   "source": [
    "# COVID-19 Case Race\n",
    "> A race chart to see rising cases around the world\n",
    "\n",
    "- author: Hargun Oberoi\n",
    "- image: images/covid-overview.png\n",
    "- hide: false\n",
    "- badges: false"
   ]
  },
  {
   "cell_type": "code",
   "execution_count": 1,
   "id": "proof-material",
   "metadata": {
    "execution": {
     "iopub.execute_input": "2021-09-01T00:21:42.861720Z",
     "iopub.status.busy": "2021-09-01T00:21:42.851550Z",
     "iopub.status.idle": "2021-09-01T00:21:43.202707Z",
     "shell.execute_reply": "2021-09-01T00:21:43.201659Z"
    },
    "papermill": {
     "duration": 0.38846,
     "end_time": "2021-09-01T00:21:43.202849",
     "exception": false,
     "start_time": "2021-09-01T00:21:42.814389",
     "status": "completed"
    },
    "tags": []
   },
   "outputs": [],
   "source": [
    "#hide\n",
    "import numpy as np\n",
    "import pandas as pd\n",
    "from jinja2 import Template\n",
    "from IPython.display import HTML"
   ]
  },
  {
   "cell_type": "code",
   "execution_count": 2,
   "id": "developed-terminology",
   "metadata": {
    "execution": {
     "iopub.execute_input": "2021-09-01T00:21:43.269311Z",
     "iopub.status.busy": "2021-09-01T00:21:43.268764Z",
     "iopub.status.idle": "2021-09-01T00:21:43.270821Z",
     "shell.execute_reply": "2021-09-01T00:21:43.270271Z"
    },
    "papermill": {
     "duration": 0.03681,
     "end_time": "2021-09-01T00:21:43.270928",
     "exception": false,
     "start_time": "2021-09-01T00:21:43.234118",
     "status": "completed"
    },
    "tags": []
   },
   "outputs": [],
   "source": [
    "#hide\n",
    "\n",
    "# FETCH\n",
    "base_url = 'https://raw.githubusercontent.com/pratapvardhan/notebooks/master/covid19/'\n",
    "paths = {\n",
    "    'mapping': base_url + 'mapping_countries.csv',\n",
    "    'overview': base_url + 'overview.tpl'\n",
    "}"
   ]
  },
  {
   "cell_type": "code",
   "execution_count": 3,
   "id": "dynamic-saver",
   "metadata": {
    "execution": {
     "iopub.execute_input": "2021-09-01T00:21:43.339154Z",
     "iopub.status.busy": "2021-09-01T00:21:43.337387Z",
     "iopub.status.idle": "2021-09-01T00:21:43.342246Z",
     "shell.execute_reply": "2021-09-01T00:21:43.342732Z"
    },
    "papermill": {
     "duration": 0.042276,
     "end_time": "2021-09-01T00:21:43.342849",
     "exception": false,
     "start_time": "2021-09-01T00:21:43.300573",
     "status": "completed"
    },
    "tags": []
   },
   "outputs": [
    {
     "data": {
      "text/plain": [
       "'https://raw.githubusercontent.com/pratapvardhan/notebooks/master/covid19/mapping_countries.csv'"
      ]
     },
     "execution_count": 3,
     "metadata": {},
     "output_type": "execute_result"
    }
   ],
   "source": [
    "#hide\n",
    "paths['mapping']"
   ]
  },
  {
   "cell_type": "code",
   "execution_count": 4,
   "id": "urban-software",
   "metadata": {
    "execution": {
     "iopub.execute_input": "2021-09-01T00:21:43.411278Z",
     "iopub.status.busy": "2021-09-01T00:21:43.410719Z",
     "iopub.status.idle": "2021-09-01T00:21:43.412909Z",
     "shell.execute_reply": "2021-09-01T00:21:43.413409Z"
    },
    "papermill": {
     "duration": 0.039172,
     "end_time": "2021-09-01T00:21:43.413521",
     "exception": false,
     "start_time": "2021-09-01T00:21:43.374349",
     "status": "completed"
    },
    "tags": []
   },
   "outputs": [],
   "source": [
    "#hide\n",
    "def get_mappings(url):\n",
    "    df = pd.read_csv(url)\n",
    "    return {\n",
    "        'df': df,\n",
    "        'replace.country': dict(df.dropna(subset=['Name']).set_index('Country')['Name']),\n",
    "        'map.continent': dict(df.set_index('Name')['Continent'])\n",
    "    }"
   ]
  },
  {
   "cell_type": "code",
   "execution_count": 5,
   "id": "intimate-machinery",
   "metadata": {
    "execution": {
     "iopub.execute_input": "2021-09-01T00:21:43.478969Z",
     "iopub.status.busy": "2021-09-01T00:21:43.478415Z",
     "iopub.status.idle": "2021-09-01T00:21:43.516386Z",
     "shell.execute_reply": "2021-09-01T00:21:43.516897Z"
    },
    "papermill": {
     "duration": 0.073809,
     "end_time": "2021-09-01T00:21:43.517013",
     "exception": false,
     "start_time": "2021-09-01T00:21:43.443204",
     "status": "completed"
    },
    "tags": []
   },
   "outputs": [],
   "source": [
    "#hide\n",
    "mapping = get_mappings(paths['mapping'])"
   ]
  },
  {
   "cell_type": "code",
   "execution_count": 6,
   "id": "certified-tactics",
   "metadata": {
    "execution": {
     "iopub.execute_input": "2021-09-01T00:21:43.586171Z",
     "iopub.status.busy": "2021-09-01T00:21:43.585529Z",
     "iopub.status.idle": "2021-09-01T00:21:43.587750Z",
     "shell.execute_reply": "2021-09-01T00:21:43.587177Z"
    },
    "papermill": {
     "duration": 0.04031,
     "end_time": "2021-09-01T00:21:43.587853",
     "exception": false,
     "start_time": "2021-09-01T00:21:43.547543",
     "status": "completed"
    },
    "tags": []
   },
   "outputs": [],
   "source": [
    "#hide\n",
    "def get_template(path):\n",
    "    from urllib.parse import urlparse\n",
    "    if bool(urlparse(path).netloc):\n",
    "        from urllib.request import urlopen\n",
    "        return urlopen(path).read().decode('utf8')\n",
    "    return open(path).read()"
   ]
  },
  {
   "cell_type": "code",
   "execution_count": 7,
   "id": "realistic-blast",
   "metadata": {
    "execution": {
     "iopub.execute_input": "2021-09-01T00:21:43.653759Z",
     "iopub.status.busy": "2021-09-01T00:21:43.653166Z",
     "iopub.status.idle": "2021-09-01T00:21:43.655328Z",
     "shell.execute_reply": "2021-09-01T00:21:43.655731Z"
    },
    "papermill": {
     "duration": 0.036567,
     "end_time": "2021-09-01T00:21:43.655846",
     "exception": false,
     "start_time": "2021-09-01T00:21:43.619279",
     "status": "completed"
    },
    "tags": []
   },
   "outputs": [],
   "source": [
    "#hide\n",
    "def get_frame(name):\n",
    "    url = (\n",
    "        'https://raw.githubusercontent.com/CSSEGISandData/COVID-19/master/csse_covid_19_data/'\n",
    "        f'csse_covid_19_time_series/time_series_covid19_{name}_global.csv')\n",
    "    df = pd.read_csv(url)\n",
    "    # rename countries\n",
    "    df['Country/Region'] = df['Country/Region'].replace(mapping['replace.country'])\n",
    "    return df"
   ]
  },
  {
   "cell_type": "code",
   "execution_count": 8,
   "id": "affiliated-characterization",
   "metadata": {
    "execution": {
     "iopub.execute_input": "2021-09-01T00:21:43.727305Z",
     "iopub.status.busy": "2021-09-01T00:21:43.726681Z",
     "iopub.status.idle": "2021-09-01T00:21:43.728428Z",
     "shell.execute_reply": "2021-09-01T00:21:43.728882Z"
    },
    "papermill": {
     "duration": 0.039006,
     "end_time": "2021-09-01T00:21:43.728996",
     "exception": false,
     "start_time": "2021-09-01T00:21:43.689990",
     "status": "completed"
    },
    "tags": []
   },
   "outputs": [],
   "source": [
    "#hide\n",
    "def get_dates(df):\n",
    "    dt_cols = df.columns[~df.columns.isin(['Province/State', 'Country/Region', 'Lat', 'Long'])]\n",
    "    LAST_DATE_I = -1\n",
    "    # sometimes last column may be empty, then go backwards\n",
    "    for i in range(-1, -len(dt_cols), -1):\n",
    "        if not df[dt_cols[i]].fillna(0).eq(0).all():\n",
    "            LAST_DATE_I = i\n",
    "            break\n",
    "    return LAST_DATE_I, dt_cols"
   ]
  },
  {
   "cell_type": "code",
   "execution_count": 9,
   "id": "recent-optimization",
   "metadata": {
    "execution": {
     "iopub.execute_input": "2021-09-01T00:21:43.795028Z",
     "iopub.status.busy": "2021-09-01T00:21:43.794169Z",
     "iopub.status.idle": "2021-09-01T00:21:44.173208Z",
     "shell.execute_reply": "2021-09-01T00:21:44.173677Z"
    },
    "papermill": {
     "duration": 0.413299,
     "end_time": "2021-09-01T00:21:44.173821",
     "exception": false,
     "start_time": "2021-09-01T00:21:43.760522",
     "status": "completed"
    },
    "tags": []
   },
   "outputs": [],
   "source": [
    "#hide\n",
    "COL_REGION = 'Country/Region'\n",
    "# Confirmed, Recovered, Deaths\n",
    "df = get_frame('confirmed')\n",
    "# dft_: timeseries, dfc_: today country agg\n",
    "dft_cases = df\n",
    "dft_deaths = get_frame('deaths')\n",
    "dft_recovered = get_frame('recovered')\n",
    "LAST_DATE_I, dt_cols = get_dates(df)"
   ]
  },
  {
   "cell_type": "code",
   "execution_count": 10,
   "id": "absolute-copper",
   "metadata": {
    "execution": {
     "iopub.execute_input": "2021-09-01T00:21:44.241097Z",
     "iopub.status.busy": "2021-09-01T00:21:44.240503Z",
     "iopub.status.idle": "2021-09-01T00:21:44.243379Z",
     "shell.execute_reply": "2021-09-01T00:21:44.242939Z"
    },
    "papermill": {
     "duration": 0.037992,
     "end_time": "2021-09-01T00:21:44.243481",
     "exception": false,
     "start_time": "2021-09-01T00:21:44.205489",
     "status": "completed"
    },
    "tags": []
   },
   "outputs": [],
   "source": [
    "#hide\n",
    "LAST_DATE_I, dt_cols = get_dates(df)\n",
    "dt_today =dt_cols[LAST_DATE_I]\n",
    "# dt_5day = dt_cols[LAST_DATE_I - 5]\n",
    "dt_yday = dt_cols[LAST_DATE_I - 1]"
   ]
  },
  {
   "cell_type": "code",
   "execution_count": 11,
   "id": "restricted-sheriff",
   "metadata": {
    "execution": {
     "iopub.execute_input": "2021-09-01T00:21:44.315949Z",
     "iopub.status.busy": "2021-09-01T00:21:44.315392Z",
     "iopub.status.idle": "2021-09-01T00:21:44.324708Z",
     "shell.execute_reply": "2021-09-01T00:21:44.324202Z"
    },
    "papermill": {
     "duration": 0.047154,
     "end_time": "2021-09-01T00:21:44.324822",
     "exception": false,
     "start_time": "2021-09-01T00:21:44.277668",
     "status": "completed"
    },
    "tags": []
   },
   "outputs": [],
   "source": [
    "#hide\n",
    "dfc_cases = dft_cases.groupby(COL_REGION)[dt_today].sum()\n",
    "dfc_deaths = dft_deaths.groupby(COL_REGION)[dt_today].sum()\n",
    "# dfp_cases = dft_cases.groupby(COL_REGION)[dt_5day].sum()\n",
    "# dfp_deaths = dft_deaths.groupby(COL_REGION)[dt_5day].sum()\n",
    "dfp_cases = dft_cases.groupby(COL_REGION)[dt_yday].sum()\n",
    "dfp_deaths = dft_deaths.groupby(COL_REGION)[dt_yday].sum()"
   ]
  },
  {
   "cell_type": "code",
   "execution_count": 12,
   "id": "deluxe-hepatitis",
   "metadata": {
    "execution": {
     "iopub.execute_input": "2021-09-01T00:21:44.398872Z",
     "iopub.status.busy": "2021-09-01T00:21:44.398273Z",
     "iopub.status.idle": "2021-09-01T00:21:44.402852Z",
     "shell.execute_reply": "2021-09-01T00:21:44.403631Z"
    },
    "papermill": {
     "duration": 0.04739,
     "end_time": "2021-09-01T00:21:44.403765",
     "exception": false,
     "start_time": "2021-09-01T00:21:44.356375",
     "status": "completed"
    },
    "tags": []
   },
   "outputs": [],
   "source": [
    "#hide\n",
    "df_table = (pd.DataFrame(dict(Cases = dfc_cases, Deaths = dfc_deaths, PCases = dfp_cases, PDeaths = dfp_deaths))\n",
    "            .sort_values(by = ['Cases','Deaths'], ascending = [False, False])\n",
    "            .reset_index())"
   ]
  },
  {
   "cell_type": "code",
   "execution_count": 13,
   "id": "educational-chancellor",
   "metadata": {
    "execution": {
     "iopub.execute_input": "2021-09-01T00:21:44.495025Z",
     "iopub.status.busy": "2021-09-01T00:21:44.494176Z",
     "iopub.status.idle": "2021-09-01T00:21:44.502656Z",
     "shell.execute_reply": "2021-09-01T00:21:44.503167Z"
    },
    "papermill": {
     "duration": 0.064057,
     "end_time": "2021-09-01T00:21:44.503325",
     "exception": false,
     "start_time": "2021-09-01T00:21:44.439268",
     "status": "completed"
    },
    "tags": []
   },
   "outputs": [
    {
     "data": {
      "text/html": [
       "<div>\n",
       "<style scoped>\n",
       "    .dataframe tbody tr th:only-of-type {\n",
       "        vertical-align: middle;\n",
       "    }\n",
       "\n",
       "    .dataframe tbody tr th {\n",
       "        vertical-align: top;\n",
       "    }\n",
       "\n",
       "    .dataframe thead th {\n",
       "        text-align: right;\n",
       "    }\n",
       "</style>\n",
       "<table border=\"1\" class=\"dataframe\">\n",
       "  <thead>\n",
       "    <tr style=\"text-align: right;\">\n",
       "      <th></th>\n",
       "      <th>Country/Region</th>\n",
       "      <th>Cases</th>\n",
       "      <th>Deaths</th>\n",
       "      <th>PCases</th>\n",
       "      <th>PDeaths</th>\n",
       "      <th>Cases (+)</th>\n",
       "      <th>Deaths (+)</th>\n",
       "      <th>Fatality Rate</th>\n",
       "      <th>Continent</th>\n",
       "    </tr>\n",
       "  </thead>\n",
       "  <tbody>\n",
       "    <tr>\n",
       "      <th>0</th>\n",
       "      <td>US</td>\n",
       "      <td>39057368</td>\n",
       "      <td>638711</td>\n",
       "      <td>38798836</td>\n",
       "      <td>637539</td>\n",
       "      <td>258532</td>\n",
       "      <td>1172</td>\n",
       "      <td>1.64</td>\n",
       "      <td>North America</td>\n",
       "    </tr>\n",
       "    <tr>\n",
       "      <th>1</th>\n",
       "      <td>India</td>\n",
       "      <td>32768880</td>\n",
       "      <td>438560</td>\n",
       "      <td>32737939</td>\n",
       "      <td>438210</td>\n",
       "      <td>30941</td>\n",
       "      <td>350</td>\n",
       "      <td>1.34</td>\n",
       "      <td>Asia</td>\n",
       "    </tr>\n",
       "    <tr>\n",
       "      <th>2</th>\n",
       "      <td>Brazil</td>\n",
       "      <td>20752281</td>\n",
       "      <td>579574</td>\n",
       "      <td>20741815</td>\n",
       "      <td>579308</td>\n",
       "      <td>10466</td>\n",
       "      <td>266</td>\n",
       "      <td>2.79</td>\n",
       "      <td>South America</td>\n",
       "    </tr>\n",
       "    <tr>\n",
       "      <th>3</th>\n",
       "      <td>France</td>\n",
       "      <td>6834834</td>\n",
       "      <td>114620</td>\n",
       "      <td>6827146</td>\n",
       "      <td>114506</td>\n",
       "      <td>7688</td>\n",
       "      <td>114</td>\n",
       "      <td>1.68</td>\n",
       "      <td>Europe</td>\n",
       "    </tr>\n",
       "    <tr>\n",
       "      <th>4</th>\n",
       "      <td>Russia</td>\n",
       "      <td>6803323</td>\n",
       "      <td>179233</td>\n",
       "      <td>6785465</td>\n",
       "      <td>178457</td>\n",
       "      <td>17858</td>\n",
       "      <td>776</td>\n",
       "      <td>2.63</td>\n",
       "      <td>Europe</td>\n",
       "    </tr>\n",
       "  </tbody>\n",
       "</table>\n",
       "</div>"
      ],
      "text/plain": [
       "  Country/Region     Cases  Deaths    PCases  PDeaths  Cases (+)  Deaths (+)  \\\n",
       "0             US  39057368  638711  38798836   637539     258532        1172   \n",
       "1          India  32768880  438560  32737939   438210      30941         350   \n",
       "2         Brazil  20752281  579574  20741815   579308      10466         266   \n",
       "3         France   6834834  114620   6827146   114506       7688         114   \n",
       "4         Russia   6803323  179233   6785465   178457      17858         776   \n",
       "\n",
       "   Fatality Rate      Continent  \n",
       "0           1.64  North America  \n",
       "1           1.34           Asia  \n",
       "2           2.79  South America  \n",
       "3           1.68         Europe  \n",
       "4           2.63         Europe  "
      ]
     },
     "execution_count": 13,
     "metadata": {},
     "output_type": "execute_result"
    }
   ],
   "source": [
    "#hide\n",
    "for c in 'Cases, Deaths'.split(', '):\n",
    "    df_table[f'{c} (+)'] = (df_table[c] - df_table[f'P{c}']).clip(0)\n",
    "    #Clip ça veut dire, les chiffres negatif sont interdit\n",
    "df_table['Fatality Rate'] = (100* df_table['Deaths']/ df_table['Cases']).round(2)\n",
    "df_table['Continent'] = df_table['Country/Region'].map(mapping['map.continent'])\n",
    "df_table.head(5)"
   ]
  },
  {
   "cell_type": "code",
   "execution_count": 14,
   "id": "aboriginal-bulgaria",
   "metadata": {
    "execution": {
     "iopub.execute_input": "2021-09-01T00:21:44.581198Z",
     "iopub.status.busy": "2021-09-01T00:21:44.580610Z",
     "iopub.status.idle": "2021-09-01T00:21:44.583167Z",
     "shell.execute_reply": "2021-09-01T00:21:44.583760Z"
    },
    "papermill": {
     "duration": 0.044689,
     "end_time": "2021-09-01T00:21:44.583911",
     "exception": false,
     "start_time": "2021-09-01T00:21:44.539222",
     "status": "completed"
    },
    "tags": []
   },
   "outputs": [],
   "source": [
    "#hide\n",
    "#delete problematic countries from table\n",
    "df_table = df_table[~df_table['Country/Region'].isin(['Cape Verde', 'Cruise Ship', 'Kosovo'])]"
   ]
  },
  {
   "cell_type": "code",
   "execution_count": 15,
   "id": "fantastic-effect",
   "metadata": {
    "execution": {
     "iopub.execute_input": "2021-09-01T00:21:44.698524Z",
     "iopub.status.busy": "2021-09-01T00:21:44.697917Z",
     "iopub.status.idle": "2021-09-01T00:21:44.717978Z",
     "shell.execute_reply": "2021-09-01T00:21:44.718411Z"
    },
    "papermill": {
     "duration": 0.099228,
     "end_time": "2021-09-01T00:21:44.718555",
     "exception": false,
     "start_time": "2021-09-01T00:21:44.619327",
     "status": "completed"
    },
    "tags": []
   },
   "outputs": [
    {
     "data": {
      "text/html": [
       "<div>\n",
       "<style scoped>\n",
       "    .dataframe tbody tr th:only-of-type {\n",
       "        vertical-align: middle;\n",
       "    }\n",
       "\n",
       "    .dataframe tbody tr th {\n",
       "        vertical-align: top;\n",
       "    }\n",
       "\n",
       "    .dataframe thead th {\n",
       "        text-align: right;\n",
       "    }\n",
       "</style>\n",
       "<table border=\"1\" class=\"dataframe\">\n",
       "  <thead>\n",
       "    <tr style=\"text-align: right;\">\n",
       "      <th></th>\n",
       "      <th>Country/Region</th>\n",
       "      <th>Cases</th>\n",
       "      <th>Deaths</th>\n",
       "      <th>PCases</th>\n",
       "      <th>PDeaths</th>\n",
       "      <th>Cases (+)</th>\n",
       "      <th>Deaths (+)</th>\n",
       "      <th>Fatality Rate</th>\n",
       "      <th>Continent</th>\n",
       "    </tr>\n",
       "  </thead>\n",
       "  <tbody>\n",
       "    <tr>\n",
       "      <th>0</th>\n",
       "      <td>US</td>\n",
       "      <td>39057368</td>\n",
       "      <td>638711</td>\n",
       "      <td>38798836</td>\n",
       "      <td>637539</td>\n",
       "      <td>258532</td>\n",
       "      <td>1172</td>\n",
       "      <td>1.6</td>\n",
       "      <td>North America</td>\n",
       "    </tr>\n",
       "    <tr>\n",
       "      <th>1</th>\n",
       "      <td>India</td>\n",
       "      <td>32768880</td>\n",
       "      <td>438560</td>\n",
       "      <td>32737939</td>\n",
       "      <td>438210</td>\n",
       "      <td>30941</td>\n",
       "      <td>350</td>\n",
       "      <td>1.3</td>\n",
       "      <td>Asia</td>\n",
       "    </tr>\n",
       "    <tr>\n",
       "      <th>2</th>\n",
       "      <td>Brazil</td>\n",
       "      <td>20752281</td>\n",
       "      <td>579574</td>\n",
       "      <td>20741815</td>\n",
       "      <td>579308</td>\n",
       "      <td>10466</td>\n",
       "      <td>266</td>\n",
       "      <td>2.8</td>\n",
       "      <td>South America</td>\n",
       "    </tr>\n",
       "    <tr>\n",
       "      <th>3</th>\n",
       "      <td>France</td>\n",
       "      <td>6834834</td>\n",
       "      <td>114620</td>\n",
       "      <td>6827146</td>\n",
       "      <td>114506</td>\n",
       "      <td>7688</td>\n",
       "      <td>114</td>\n",
       "      <td>1.7</td>\n",
       "      <td>Europe</td>\n",
       "    </tr>\n",
       "    <tr>\n",
       "      <th>4</th>\n",
       "      <td>Russia</td>\n",
       "      <td>6803323</td>\n",
       "      <td>179233</td>\n",
       "      <td>6785465</td>\n",
       "      <td>178457</td>\n",
       "      <td>17858</td>\n",
       "      <td>776</td>\n",
       "      <td>2.6</td>\n",
       "      <td>Europe</td>\n",
       "    </tr>\n",
       "  </tbody>\n",
       "</table>\n",
       "</div>"
      ],
      "text/plain": [
       "  Country/Region     Cases  Deaths    PCases  PDeaths  Cases (+)  Deaths (+)  \\\n",
       "0             US  39057368  638711  38798836   637539     258532        1172   \n",
       "1          India  32768880  438560  32737939   438210      30941         350   \n",
       "2         Brazil  20752281  579574  20741815   579308      10466         266   \n",
       "3         France   6834834  114620   6827146   114506       7688         114   \n",
       "4         Russia   6803323  179233   6785465   178457      17858         776   \n",
       "\n",
       "   Fatality Rate      Continent  \n",
       "0            1.6  North America  \n",
       "1            1.3           Asia  \n",
       "2            2.8  South America  \n",
       "3            1.7         Europe  \n",
       "4            2.6         Europe  "
      ]
     },
     "execution_count": 15,
     "metadata": {},
     "output_type": "execute_result"
    }
   ],
   "source": [
    "#hide\n",
    "df_table = (pd.DataFrame(dict(Cases=dfc_cases, Deaths=dfc_deaths, PCases=dfp_cases, PDeaths=dfp_deaths))\n",
    "             .sort_values(by=['Cases', 'Deaths'], ascending=[False, False])\n",
    "             .reset_index())\n",
    "df_table.rename(columns={'index': 'Country/Region'}, inplace=True)\n",
    "for c in 'Cases, Deaths'.split(', '):\n",
    "    df_table[f'{c} (+)'] = (df_table[c] - df_table[f'P{c}']).clip(0)  # DATA BUG\n",
    "df_table['Fatality Rate'] = (100 * df_table['Deaths'] / df_table['Cases']).round(1)\n",
    "df_table['Continent'] = df_table['Country/Region'].map(mapping['map.continent'])\n",
    "df_table.head(5)"
   ]
  },
  {
   "cell_type": "code",
   "execution_count": 16,
   "id": "fewer-occasion",
   "metadata": {
    "execution": {
     "iopub.execute_input": "2021-09-01T00:21:44.898851Z",
     "iopub.status.busy": "2021-09-01T00:21:44.898189Z",
     "iopub.status.idle": "2021-09-01T00:21:44.901048Z",
     "shell.execute_reply": "2021-09-01T00:21:44.901568Z"
    },
    "papermill": {
     "duration": 0.071643,
     "end_time": "2021-09-01T00:21:44.901692",
     "exception": false,
     "start_time": "2021-09-01T00:21:44.830049",
     "status": "completed"
    },
    "tags": []
   },
   "outputs": [],
   "source": [
    "#hide\n",
    "#delete problematic countries from table\n",
    "df_table = df_table[~df_table['Country/Region'].isin(['Cape Verde', 'Cruise Ship', 'Kosovo'])]"
   ]
  },
  {
   "cell_type": "code",
   "execution_count": 17,
   "id": "related-center",
   "metadata": {
    "execution": {
     "iopub.execute_input": "2021-09-01T00:21:45.078343Z",
     "iopub.status.busy": "2021-09-01T00:21:45.077746Z",
     "iopub.status.idle": "2021-09-01T00:21:45.092621Z",
     "shell.execute_reply": "2021-09-01T00:21:45.092171Z"
    },
    "papermill": {
     "duration": 0.06225,
     "end_time": "2021-09-01T00:21:45.092736",
     "exception": false,
     "start_time": "2021-09-01T00:21:45.030486",
     "status": "completed"
    },
    "tags": []
   },
   "outputs": [],
   "source": [
    "#hide\n",
    "metrics = [df_table.columns[index] for index in [1,2,5,6]]\n",
    "# s_china = df_table[df_table['Country/Region'].eq('China')][metrics].sum().add_prefix('China ')\n",
    "s_us = df_table[df_table['Country/Region'].eq('US')][metrics].sum().add_prefix('US ')\n",
    "s_eu = df_table[df_table['Continent'].eq('Europe')][metrics].sum().add_prefix('EU ')\n",
    "s_ind = df_table[df_table['Country/Region'].eq('India')][metrics].sum().add_prefix('India ')\n",
    "summary = {'updated': pd.to_datetime(dt_today), 'since': pd.to_datetime(dt_yday)}\n",
    "summary = {'updated': pd.to_datetime(dt_today), 'since': pd.to_datetime(dt_yday)}\n",
    "summary = {**summary, **df_table[metrics].sum(), **s_ind, **s_us, **s_eu}"
   ]
  },
  {
   "cell_type": "code",
   "execution_count": 18,
   "id": "engaging-syndrome",
   "metadata": {
    "execution": {
     "iopub.execute_input": "2021-09-01T00:21:45.162051Z",
     "iopub.status.busy": "2021-09-01T00:21:45.161506Z",
     "iopub.status.idle": "2021-09-01T00:21:45.176665Z",
     "shell.execute_reply": "2021-09-01T00:21:45.177124Z"
    },
    "papermill": {
     "duration": 0.052811,
     "end_time": "2021-09-01T00:21:45.177261",
     "exception": false,
     "start_time": "2021-09-01T00:21:45.124450",
     "status": "completed"
    },
    "tags": []
   },
   "outputs": [],
   "source": [
    "#hide\n",
    "dft_ct_new_cases = dft_cases.groupby(COL_REGION)[dt_cols].sum().diff(axis=1).fillna(0).astype(int)"
   ]
  },
  {
   "cell_type": "code",
   "execution_count": 19,
   "id": "neutral-assignment",
   "metadata": {
    "execution": {
     "iopub.execute_input": "2021-09-01T00:21:45.253801Z",
     "iopub.status.busy": "2021-09-01T00:21:45.253212Z",
     "iopub.status.idle": "2021-09-01T00:21:45.255255Z",
     "shell.execute_reply": "2021-09-01T00:21:45.255777Z"
    },
    "papermill": {
     "duration": 0.042789,
     "end_time": "2021-09-01T00:21:45.255893",
     "exception": false,
     "start_time": "2021-09-01T00:21:45.213104",
     "status": "completed"
    },
    "tags": []
   },
   "outputs": [],
   "source": [
    "#hide\n",
    "everydaycases = dft_ct_new_cases.cumsum(axis=1)"
   ]
  },
  {
   "cell_type": "code",
   "execution_count": 20,
   "id": "parliamentary-calgary",
   "metadata": {
    "execution": {
     "iopub.execute_input": "2021-09-01T00:21:45.328474Z",
     "iopub.status.busy": "2021-09-01T00:21:45.327829Z",
     "iopub.status.idle": "2021-09-01T00:21:45.845219Z",
     "shell.execute_reply": "2021-09-01T00:21:45.845640Z"
    },
    "papermill": {
     "duration": 0.555498,
     "end_time": "2021-09-01T00:21:45.845790",
     "exception": false,
     "start_time": "2021-09-01T00:21:45.290292",
     "status": "completed"
    },
    "tags": []
   },
   "outputs": [],
   "source": [
    "#hide\n",
    "import pandas as pd\n",
    "import matplotlib.pyplot as plt\n",
    "import matplotlib.ticker as ticker\n",
    "import matplotlib.animation as animation\n",
    "from IPython.display import HTML"
   ]
  },
  {
   "cell_type": "code",
   "execution_count": 21,
   "id": "lasting-extraction",
   "metadata": {
    "execution": {
     "iopub.execute_input": "2021-09-01T00:21:45.921070Z",
     "iopub.status.busy": "2021-09-01T00:21:45.920528Z",
     "iopub.status.idle": "2021-09-01T00:21:45.925728Z",
     "shell.execute_reply": "2021-09-01T00:21:45.926180Z"
    },
    "papermill": {
     "duration": 0.044627,
     "end_time": "2021-09-01T00:21:45.926309",
     "exception": false,
     "start_time": "2021-09-01T00:21:45.881682",
     "status": "completed"
    },
    "tags": []
   },
   "outputs": [],
   "source": [
    "#hide\n",
    "t = everydaycases.stack()"
   ]
  },
  {
   "cell_type": "code",
   "execution_count": 22,
   "id": "premier-sleeve",
   "metadata": {
    "execution": {
     "iopub.execute_input": "2021-09-01T00:21:46.000631Z",
     "iopub.status.busy": "2021-09-01T00:21:46.000025Z",
     "iopub.status.idle": "2021-09-01T00:21:46.007777Z",
     "shell.execute_reply": "2021-09-01T00:21:46.008297Z"
    },
    "papermill": {
     "duration": 0.04738,
     "end_time": "2021-09-01T00:21:46.008530",
     "exception": false,
     "start_time": "2021-09-01T00:21:45.961150",
     "status": "completed"
    },
    "tags": []
   },
   "outputs": [],
   "source": [
    "#hide\n",
    "g = t.reset_index(['Country/Region'])"
   ]
  },
  {
   "cell_type": "code",
   "execution_count": 23,
   "id": "distributed-pittsburgh",
   "metadata": {
    "execution": {
     "iopub.execute_input": "2021-09-01T00:21:46.079805Z",
     "iopub.status.busy": "2021-09-01T00:21:46.079122Z",
     "iopub.status.idle": "2021-09-01T00:21:46.082119Z",
     "shell.execute_reply": "2021-09-01T00:21:46.081546Z"
    },
    "papermill": {
     "duration": 0.040868,
     "end_time": "2021-09-01T00:21:46.082263",
     "exception": false,
     "start_time": "2021-09-01T00:21:46.041395",
     "status": "completed"
    },
    "tags": []
   },
   "outputs": [],
   "source": [
    "#hide\n",
    "g.index.name = 'date'"
   ]
  },
  {
   "cell_type": "code",
   "execution_count": 24,
   "id": "naked-donor",
   "metadata": {
    "execution": {
     "iopub.execute_input": "2021-09-01T00:21:46.147781Z",
     "iopub.status.busy": "2021-09-01T00:21:46.147277Z",
     "iopub.status.idle": "2021-09-01T00:21:46.149443Z",
     "shell.execute_reply": "2021-09-01T00:21:46.149040Z"
    },
    "papermill": {
     "duration": 0.0363,
     "end_time": "2021-09-01T00:21:46.149638",
     "exception": false,
     "start_time": "2021-09-01T00:21:46.113338",
     "status": "completed"
    },
    "tags": []
   },
   "outputs": [],
   "source": [
    "# #hide\n",
    "# g = g.reset_index(['date'])"
   ]
  },
  {
   "cell_type": "code",
   "execution_count": 25,
   "id": "incomplete-mustang",
   "metadata": {
    "execution": {
     "iopub.execute_input": "2021-09-01T00:21:46.216445Z",
     "iopub.status.busy": "2021-09-01T00:21:46.215906Z",
     "iopub.status.idle": "2021-09-01T00:21:46.217704Z",
     "shell.execute_reply": "2021-09-01T00:21:46.218185Z"
    },
    "papermill": {
     "duration": 0.037893,
     "end_time": "2021-09-01T00:21:46.218294",
     "exception": false,
     "start_time": "2021-09-01T00:21:46.180401",
     "status": "completed"
    },
    "tags": []
   },
   "outputs": [],
   "source": [
    "#hide\n",
    "# g.head()"
   ]
  },
  {
   "cell_type": "code",
   "execution_count": 26,
   "id": "specific-kruger",
   "metadata": {
    "execution": {
     "iopub.execute_input": "2021-09-01T00:21:46.290716Z",
     "iopub.status.busy": "2021-09-01T00:21:46.290140Z",
     "iopub.status.idle": "2021-09-01T00:21:46.292806Z",
     "shell.execute_reply": "2021-09-01T00:21:46.292225Z"
    },
    "papermill": {
     "duration": 0.042746,
     "end_time": "2021-09-01T00:21:46.292907",
     "exception": false,
     "start_time": "2021-09-01T00:21:46.250161",
     "status": "completed"
    },
    "tags": []
   },
   "outputs": [],
   "source": [
    "#hide\n",
    "# g.columns = ['date','country','cases']"
   ]
  },
  {
   "cell_type": "code",
   "execution_count": 27,
   "id": "tender-conversion",
   "metadata": {
    "execution": {
     "iopub.execute_input": "2021-09-01T00:21:46.361975Z",
     "iopub.status.busy": "2021-09-01T00:21:46.361171Z",
     "iopub.status.idle": "2021-09-01T00:21:46.363580Z",
     "shell.execute_reply": "2021-09-01T00:21:46.363152Z"
    },
    "papermill": {
     "duration": 0.036468,
     "end_time": "2021-09-01T00:21:46.363680",
     "exception": false,
     "start_time": "2021-09-01T00:21:46.327212",
     "status": "completed"
    },
    "tags": []
   },
   "outputs": [],
   "source": [
    "#hide\n",
    "# g['continent'] = g.country"
   ]
  },
  {
   "cell_type": "code",
   "execution_count": 28,
   "id": "substantial-wilderness",
   "metadata": {
    "execution": {
     "iopub.execute_input": "2021-09-01T00:21:46.430157Z",
     "iopub.status.busy": "2021-09-01T00:21:46.429603Z",
     "iopub.status.idle": "2021-09-01T00:21:46.431665Z",
     "shell.execute_reply": "2021-09-01T00:21:46.432241Z"
    },
    "papermill": {
     "duration": 0.03836,
     "end_time": "2021-09-01T00:21:46.432395",
     "exception": false,
     "start_time": "2021-09-01T00:21:46.394035",
     "status": "completed"
    },
    "tags": []
   },
   "outputs": [],
   "source": [
    "#hide\n",
    "# cols = list(g.columns.values)"
   ]
  },
  {
   "cell_type": "code",
   "execution_count": 29,
   "id": "solved-farming",
   "metadata": {
    "execution": {
     "iopub.execute_input": "2021-09-01T00:21:46.499652Z",
     "iopub.status.busy": "2021-09-01T00:21:46.499121Z",
     "iopub.status.idle": "2021-09-01T00:21:46.501428Z",
     "shell.execute_reply": "2021-09-01T00:21:46.500999Z"
    },
    "papermill": {
     "duration": 0.037995,
     "end_time": "2021-09-01T00:21:46.501529",
     "exception": false,
     "start_time": "2021-09-01T00:21:46.463534",
     "status": "completed"
    },
    "tags": []
   },
   "outputs": [],
   "source": [
    "#hide\n",
    "# cols.insert(0, cols.pop())"
   ]
  },
  {
   "cell_type": "code",
   "execution_count": 30,
   "id": "executed-adoption",
   "metadata": {
    "execution": {
     "iopub.execute_input": "2021-09-01T00:21:46.566313Z",
     "iopub.status.busy": "2021-09-01T00:21:46.565751Z",
     "iopub.status.idle": "2021-09-01T00:21:46.567684Z",
     "shell.execute_reply": "2021-09-01T00:21:46.568240Z"
    },
    "papermill": {
     "duration": 0.036237,
     "end_time": "2021-09-01T00:21:46.568382",
     "exception": false,
     "start_time": "2021-09-01T00:21:46.532145",
     "status": "completed"
    },
    "tags": []
   },
   "outputs": [],
   "source": [
    "#hide\n",
    "# g = g[cols]"
   ]
  },
  {
   "cell_type": "code",
   "execution_count": 31,
   "id": "subject-dublin",
   "metadata": {
    "execution": {
     "iopub.execute_input": "2021-09-01T00:21:46.635766Z",
     "iopub.status.busy": "2021-09-01T00:21:46.635266Z",
     "iopub.status.idle": "2021-09-01T00:21:46.637698Z",
     "shell.execute_reply": "2021-09-01T00:21:46.637274Z"
    },
    "papermill": {
     "duration": 0.037207,
     "end_time": "2021-09-01T00:21:46.637794",
     "exception": false,
     "start_time": "2021-09-01T00:21:46.600587",
     "status": "completed"
    },
    "tags": []
   },
   "outputs": [],
   "source": [
    "#hide\n",
    "# g['continent'] = g['continent'].map(mapping['map.continent'])"
   ]
  },
  {
   "cell_type": "code",
   "execution_count": 32,
   "id": "freelance-scout",
   "metadata": {
    "execution": {
     "iopub.execute_input": "2021-09-01T00:21:46.703686Z",
     "iopub.status.busy": "2021-09-01T00:21:46.703128Z",
     "iopub.status.idle": "2021-09-01T00:21:46.706117Z",
     "shell.execute_reply": "2021-09-01T00:21:46.705577Z"
    },
    "papermill": {
     "duration": 0.037874,
     "end_time": "2021-09-01T00:21:46.706215",
     "exception": false,
     "start_time": "2021-09-01T00:21:46.668341",
     "status": "completed"
    },
    "tags": []
   },
   "outputs": [],
   "source": [
    "#hide\n",
    "# g.head()"
   ]
  },
  {
   "cell_type": "code",
   "execution_count": 33,
   "id": "limited-engine",
   "metadata": {
    "execution": {
     "iopub.execute_input": "2021-09-01T00:21:46.775017Z",
     "iopub.status.busy": "2021-09-01T00:21:46.774264Z",
     "iopub.status.idle": "2021-09-01T00:21:46.776420Z",
     "shell.execute_reply": "2021-09-01T00:21:46.776989Z"
    },
    "papermill": {
     "duration": 0.040646,
     "end_time": "2021-09-01T00:21:46.777161",
     "exception": false,
     "start_time": "2021-09-01T00:21:46.736515",
     "status": "completed"
    },
    "tags": []
   },
   "outputs": [],
   "source": [
    "# hide\n",
    "# g['date'] = g['date'].astype('datetime64[ns]')"
   ]
  },
  {
   "cell_type": "code",
   "execution_count": 34,
   "id": "sophisticated-supervisor",
   "metadata": {
    "execution": {
     "iopub.execute_input": "2021-09-01T00:21:46.856626Z",
     "iopub.status.busy": "2021-09-01T00:21:46.856066Z",
     "iopub.status.idle": "2021-09-01T00:21:46.858265Z",
     "shell.execute_reply": "2021-09-01T00:21:46.857822Z"
    },
    "papermill": {
     "duration": 0.044733,
     "end_time": "2021-09-01T00:21:46.858365",
     "exception": false,
     "start_time": "2021-09-01T00:21:46.813632",
     "status": "completed"
    },
    "tags": []
   },
   "outputs": [],
   "source": [
    "#hide\n",
    "# g['date'] = g.date.dt.dayofyear"
   ]
  },
  {
   "cell_type": "code",
   "execution_count": 35,
   "id": "inside-dubai",
   "metadata": {
    "execution": {
     "iopub.execute_input": "2021-09-01T00:21:46.924728Z",
     "iopub.status.busy": "2021-09-01T00:21:46.924170Z",
     "iopub.status.idle": "2021-09-01T00:21:46.927171Z",
     "shell.execute_reply": "2021-09-01T00:21:46.926731Z"
    },
    "papermill": {
     "duration": 0.037276,
     "end_time": "2021-09-01T00:21:46.927272",
     "exception": false,
     "start_time": "2021-09-01T00:21:46.889996",
     "status": "completed"
    },
    "tags": []
   },
   "outputs": [],
   "source": [
    "#hide\n",
    "# g = g.rename(columns= {'continent':'group','country':'name','cases':'value'})"
   ]
  },
  {
   "cell_type": "code",
   "execution_count": 36,
   "id": "fleet-motorcycle",
   "metadata": {
    "execution": {
     "iopub.execute_input": "2021-09-01T00:21:46.992140Z",
     "iopub.status.busy": "2021-09-01T00:21:46.991581Z",
     "iopub.status.idle": "2021-09-01T00:21:46.993399Z",
     "shell.execute_reply": "2021-09-01T00:21:46.993891Z"
    },
    "papermill": {
     "duration": 0.036885,
     "end_time": "2021-09-01T00:21:46.994034",
     "exception": false,
     "start_time": "2021-09-01T00:21:46.957149",
     "status": "completed"
    },
    "tags": []
   },
   "outputs": [],
   "source": [
    "#hide\n",
    "# cols = ['name','group','day','value']"
   ]
  },
  {
   "cell_type": "code",
   "execution_count": 37,
   "id": "continued-sleeping",
   "metadata": {
    "execution": {
     "iopub.execute_input": "2021-09-01T00:21:47.062724Z",
     "iopub.status.busy": "2021-09-01T00:21:47.062167Z",
     "iopub.status.idle": "2021-09-01T00:21:47.064461Z",
     "shell.execute_reply": "2021-09-01T00:21:47.064019Z"
    },
    "papermill": {
     "duration": 0.035701,
     "end_time": "2021-09-01T00:21:47.064562",
     "exception": false,
     "start_time": "2021-09-01T00:21:47.028861",
     "status": "completed"
    },
    "tags": []
   },
   "outputs": [],
   "source": [
    "#hide\n",
    "# g.rename(columns= {'date':'day'},inplace = True)"
   ]
  },
  {
   "cell_type": "code",
   "execution_count": 38,
   "id": "major-fight",
   "metadata": {
    "execution": {
     "iopub.execute_input": "2021-09-01T00:21:47.134503Z",
     "iopub.status.busy": "2021-09-01T00:21:47.133790Z",
     "iopub.status.idle": "2021-09-01T00:21:47.136216Z",
     "shell.execute_reply": "2021-09-01T00:21:47.135699Z"
    },
    "papermill": {
     "duration": 0.037649,
     "end_time": "2021-09-01T00:21:47.136352",
     "exception": false,
     "start_time": "2021-09-01T00:21:47.098703",
     "status": "completed"
    },
    "tags": []
   },
   "outputs": [],
   "source": [
    "#hide\n",
    "# g = g[cols]"
   ]
  },
  {
   "cell_type": "code",
   "execution_count": 39,
   "id": "structured-mobile",
   "metadata": {
    "execution": {
     "iopub.execute_input": "2021-09-01T00:21:47.202731Z",
     "iopub.status.busy": "2021-09-01T00:21:47.202149Z",
     "iopub.status.idle": "2021-09-01T00:21:47.204346Z",
     "shell.execute_reply": "2021-09-01T00:21:47.203903Z"
    },
    "papermill": {
     "duration": 0.036844,
     "end_time": "2021-09-01T00:21:47.204450",
     "exception": false,
     "start_time": "2021-09-01T00:21:47.167606",
     "status": "completed"
    },
    "tags": []
   },
   "outputs": [],
   "source": [
    "# #hide\n",
    "# g = g[g.group.notna()]"
   ]
  },
  {
   "cell_type": "code",
   "execution_count": 40,
   "id": "determined-closing",
   "metadata": {
    "execution": {
     "iopub.execute_input": "2021-09-01T00:21:47.274982Z",
     "iopub.status.busy": "2021-09-01T00:21:47.274390Z",
     "iopub.status.idle": "2021-09-01T00:21:47.276180Z",
     "shell.execute_reply": "2021-09-01T00:21:47.276653Z"
    },
    "papermill": {
     "duration": 0.039412,
     "end_time": "2021-09-01T00:21:47.276855",
     "exception": false,
     "start_time": "2021-09-01T00:21:47.237443",
     "status": "completed"
    },
    "tags": []
   },
   "outputs": [],
   "source": [
    "# #hide\n",
    "# colors = dict(zip(\n",
    "#     [\"Oceania\", \"Europe\", \"Asia\", \"South America\", \"Middle East\", \"North America\", \"Africa\"],\n",
    "#     [\"#adb0ff\", \"#ffb3ff\", \"#90d595\", \"#e48381\", \"#aafbff\", \"#f7bb5f\", \"#eafb50\"]\n",
    "# ))\n",
    "# group_lk = g.set_index('name')['group'].to_dict()"
   ]
  },
  {
   "cell_type": "code",
   "execution_count": null,
   "id": "gross-drinking",
   "metadata": {
    "papermill": {
     "duration": 0.030821,
     "end_time": "2021-09-01T00:21:47.339102",
     "exception": false,
     "start_time": "2021-09-01T00:21:47.308281",
     "status": "completed"
    },
    "tags": []
   },
   "outputs": [],
   "source": []
  },
  {
   "cell_type": "code",
   "execution_count": 41,
   "id": "subject-macintosh",
   "metadata": {
    "execution": {
     "iopub.execute_input": "2021-09-01T00:21:47.411649Z",
     "iopub.status.busy": "2021-09-01T00:21:47.411107Z",
     "iopub.status.idle": "2021-09-01T00:21:47.413372Z",
     "shell.execute_reply": "2021-09-01T00:21:47.412930Z"
    },
    "papermill": {
     "duration": 0.040055,
     "end_time": "2021-09-01T00:21:47.413476",
     "exception": false,
     "start_time": "2021-09-01T00:21:47.373421",
     "status": "completed"
    },
    "tags": []
   },
   "outputs": [],
   "source": [
    "# #hide\n",
    "# fig, ax = plt.subplots(figsize=(15, 8))\n",
    "\n",
    "# def draw_barchart(current_day):\n",
    "#     dff = g[g['day'].eq(current_day)].sort_values(by='value', ascending=True).tail(10)\n",
    "#     ax.clear()\n",
    "#     ax.barh(dff['name'], dff['value'], color=[colors[group_lk[x]] for x in dff['name']])\n",
    "#     dx = dff['value'].max() / 200\n",
    "    \n",
    "#     for i, (value, name) in enumerate(zip(dff['value'], dff['name'])):\n",
    "#         ax.text(value-dx, i,     name,           size=14, weight=600, ha='right', va='bottom')\n",
    "#         ax.text(value-dx, i-.25, group_lk[name], size=10, color='#444444', ha='right', va='baseline')\n",
    "#         ax.text(value+dx, i,     f'{value:,.0f}',  size=14, ha='left',  va='center')\n",
    "#     ax.text(1, 0.4, current_day, transform=ax.transAxes, color='#777777', size=46, ha='right', weight=800)\n",
    "#     ax.text(0, 1.06, 'Population (thousands)', transform=ax.transAxes, size=12, color='#777777')\n",
    "#     ax.xaxis.set_major_formatter(ticker.StrMethodFormatter('{x:,.0f}'))\n",
    "#     ax.xaxis.set_ticks_position('top')\n",
    "#     ax.tick_params(axis='x', colors='#777777', labelsize=12)\n",
    "#     ax.set_yticks([])\n",
    "#     ax.margins(0, 0.01)\n",
    "#     ax.grid(which='major', axis='x', linestyle='-')\n",
    "#     ax.set_axisbelow(True)\n",
    "    \n",
    "#     ax.text(0, 1.15, 'Coronavirus',\n",
    "#             transform=ax.transAxes, size=24, weight=600, ha='left', va='top')\n",
    "# #     ax.text(1, 0, 'by @pratapvardhan; credit @jburnmurdoch', transform=ax.transAxes, color='#777777', ha='right',\n",
    "# #             bbox=dict(facecolor='white', alpha=0.8, edgecolor='white'))\n",
    "#     plt.box(False)"
   ]
  },
  {
   "cell_type": "code",
   "execution_count": 42,
   "id": "sexual-wages",
   "metadata": {
    "execution": {
     "iopub.execute_input": "2021-09-01T00:21:47.480643Z",
     "iopub.status.busy": "2021-09-01T00:21:47.480053Z",
     "iopub.status.idle": "2021-09-01T00:21:47.482998Z",
     "shell.execute_reply": "2021-09-01T00:21:47.482554Z"
    },
    "papermill": {
     "duration": 0.037935,
     "end_time": "2021-09-01T00:21:47.483100",
     "exception": false,
     "start_time": "2021-09-01T00:21:47.445165",
     "status": "completed"
    },
    "tags": []
   },
   "outputs": [],
   "source": [
    "# #hide_input\n",
    "# fig, ax = plt.subplots(figsize=(15, 8))\n",
    "# animator = animation.FuncAnimation(fig, draw_barchart, frames=range(g.day.values.min(), g.day.values.max()))\n",
    "# HTML(animator.to_jshtml())\n",
    "# # or use animator.to_html5_video() or animator.save() "
   ]
  },
  {
   "cell_type": "code",
   "execution_count": null,
   "id": "australian-container",
   "metadata": {
    "papermill": {
     "duration": 0.032144,
     "end_time": "2021-09-01T00:21:47.546853",
     "exception": false,
     "start_time": "2021-09-01T00:21:47.514709",
     "status": "completed"
    },
    "tags": []
   },
   "outputs": [],
   "source": []
  },
  {
   "cell_type": "code",
   "execution_count": null,
   "id": "mediterranean-pontiac",
   "metadata": {
    "papermill": {
     "duration": 0.032905,
     "end_time": "2021-09-01T00:21:47.611694",
     "exception": false,
     "start_time": "2021-09-01T00:21:47.578789",
     "status": "completed"
    },
    "tags": []
   },
   "outputs": [],
   "source": []
  },
  {
   "cell_type": "code",
   "execution_count": null,
   "id": "aging-legislature",
   "metadata": {
    "papermill": {
     "duration": 0.033732,
     "end_time": "2021-09-01T00:21:47.676181",
     "exception": false,
     "start_time": "2021-09-01T00:21:47.642449",
     "status": "completed"
    },
    "tags": []
   },
   "outputs": [],
   "source": []
  }
 ],
 "metadata": {
  "kernelspec": {
   "display_name": "Python 3",
   "language": "python",
   "name": "python3"
  },
  "language_info": {
   "codemirror_mode": {
    "name": "ipython",
    "version": 3
   },
   "file_extension": ".py",
   "mimetype": "text/x-python",
   "name": "python",
   "nbconvert_exporter": "python",
   "pygments_lexer": "ipython3",
   "version": "3.6.14"
  },
  "papermill": {
   "duration": 6.320501,
   "end_time": "2021-09-01T00:21:48.015472",
   "environment_variables": {},
   "exception": null,
   "input_path": "2020-03-21-covid19exp.ipynb",
   "output_path": "2020-03-21-covid19exp.ipynb",
   "parameters": {},
   "start_time": "2021-09-01T00:21:41.694971",
   "version": "2.0.0"
  }
 },
 "nbformat": 4,
 "nbformat_minor": 5
}