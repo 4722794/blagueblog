{
 "cells": [
  {
   "cell_type": "markdown",
   "id": "muslim-click",
   "metadata": {
    "papermill": {
     "duration": 0.033903,
     "end_time": "2021-10-07T12:12:34.817928",
     "exception": false,
     "start_time": "2021-10-07T12:12:34.784025",
     "status": "completed"
    },
    "tags": []
   },
   "source": [
    "# COVID-19 Case Race\n",
    "> A race chart to see rising cases around the world\n",
    "\n",
    "- author: Hargun Oberoi\n",
    "- image: images/covid-overview.png\n",
    "- hide: false\n",
    "- badges: false"
   ]
  },
  {
   "cell_type": "code",
   "execution_count": 1,
   "id": "proof-material",
   "metadata": {
    "execution": {
     "iopub.execute_input": "2021-10-07T12:12:34.889281Z",
     "iopub.status.busy": "2021-10-07T12:12:34.888731Z",
     "iopub.status.idle": "2021-10-07T12:12:35.221856Z",
     "shell.execute_reply": "2021-10-07T12:12:35.222350Z"
    },
    "papermill": {
     "duration": 0.373936,
     "end_time": "2021-10-07T12:12:35.222545",
     "exception": false,
     "start_time": "2021-10-07T12:12:34.848609",
     "status": "completed"
    },
    "tags": []
   },
   "outputs": [],
   "source": [
    "#hide\n",
    "import numpy as np\n",
    "import pandas as pd\n",
    "from jinja2 import Template\n",
    "from IPython.display import HTML"
   ]
  },
  {
   "cell_type": "code",
   "execution_count": 2,
   "id": "developed-terminology",
   "metadata": {
    "execution": {
     "iopub.execute_input": "2021-10-07T12:12:35.290319Z",
     "iopub.status.busy": "2021-10-07T12:12:35.289684Z",
     "iopub.status.idle": "2021-10-07T12:12:35.291057Z",
     "shell.execute_reply": "2021-10-07T12:12:35.291585Z"
    },
    "papermill": {
     "duration": 0.038822,
     "end_time": "2021-10-07T12:12:35.291733",
     "exception": false,
     "start_time": "2021-10-07T12:12:35.252911",
     "status": "completed"
    },
    "tags": []
   },
   "outputs": [],
   "source": [
    "#hide\n",
    "\n",
    "# FETCH\n",
    "base_url = 'https://raw.githubusercontent.com/pratapvardhan/notebooks/master/covid19/'\n",
    "paths = {\n",
    "    'mapping': base_url + 'mapping_countries.csv',\n",
    "    'overview': base_url + 'overview.tpl'\n",
    "}"
   ]
  },
  {
   "cell_type": "code",
   "execution_count": 3,
   "id": "dynamic-saver",
   "metadata": {
    "execution": {
     "iopub.execute_input": "2021-10-07T12:12:35.361773Z",
     "iopub.status.busy": "2021-10-07T12:12:35.361251Z",
     "iopub.status.idle": "2021-10-07T12:12:35.363961Z",
     "shell.execute_reply": "2021-10-07T12:12:35.363532Z"
    },
    "papermill": {
     "duration": 0.041996,
     "end_time": "2021-10-07T12:12:35.364072",
     "exception": false,
     "start_time": "2021-10-07T12:12:35.322076",
     "status": "completed"
    },
    "tags": []
   },
   "outputs": [
    {
     "data": {
      "text/plain": [
       "'https://raw.githubusercontent.com/pratapvardhan/notebooks/master/covid19/mapping_countries.csv'"
      ]
     },
     "execution_count": 3,
     "metadata": {},
     "output_type": "execute_result"
    }
   ],
   "source": [
    "#hide\n",
    "paths['mapping']"
   ]
  },
  {
   "cell_type": "code",
   "execution_count": 4,
   "id": "urban-software",
   "metadata": {
    "execution": {
     "iopub.execute_input": "2021-10-07T12:12:35.430712Z",
     "iopub.status.busy": "2021-10-07T12:12:35.430195Z",
     "iopub.status.idle": "2021-10-07T12:12:35.432261Z",
     "shell.execute_reply": "2021-10-07T12:12:35.431802Z"
    },
    "papermill": {
     "duration": 0.037897,
     "end_time": "2021-10-07T12:12:35.432378",
     "exception": false,
     "start_time": "2021-10-07T12:12:35.394481",
     "status": "completed"
    },
    "tags": []
   },
   "outputs": [],
   "source": [
    "#hide\n",
    "def get_mappings(url):\n",
    "    df = pd.read_csv(url)\n",
    "    return {\n",
    "        'df': df,\n",
    "        'replace.country': dict(df.dropna(subset=['Name']).set_index('Country')['Name']),\n",
    "        'map.continent': dict(df.set_index('Name')['Continent'])\n",
    "    }"
   ]
  },
  {
   "cell_type": "code",
   "execution_count": 5,
   "id": "intimate-machinery",
   "metadata": {
    "execution": {
     "iopub.execute_input": "2021-10-07T12:12:35.498812Z",
     "iopub.status.busy": "2021-10-07T12:12:35.498279Z",
     "iopub.status.idle": "2021-10-07T12:12:35.557911Z",
     "shell.execute_reply": "2021-10-07T12:12:35.557372Z"
    },
    "papermill": {
     "duration": 0.095408,
     "end_time": "2021-10-07T12:12:35.558054",
     "exception": false,
     "start_time": "2021-10-07T12:12:35.462646",
     "status": "completed"
    },
    "tags": []
   },
   "outputs": [],
   "source": [
    "#hide\n",
    "mapping = get_mappings(paths['mapping'])"
   ]
  },
  {
   "cell_type": "code",
   "execution_count": 6,
   "id": "certified-tactics",
   "metadata": {
    "execution": {
     "iopub.execute_input": "2021-10-07T12:12:35.624870Z",
     "iopub.status.busy": "2021-10-07T12:12:35.624343Z",
     "iopub.status.idle": "2021-10-07T12:12:35.626257Z",
     "shell.execute_reply": "2021-10-07T12:12:35.625822Z"
    },
    "papermill": {
     "duration": 0.037312,
     "end_time": "2021-10-07T12:12:35.626370",
     "exception": false,
     "start_time": "2021-10-07T12:12:35.589058",
     "status": "completed"
    },
    "tags": []
   },
   "outputs": [],
   "source": [
    "#hide\n",
    "def get_template(path):\n",
    "    from urllib.parse import urlparse\n",
    "    if bool(urlparse(path).netloc):\n",
    "        from urllib.request import urlopen\n",
    "        return urlopen(path).read().decode('utf8')\n",
    "    return open(path).read()"
   ]
  },
  {
   "cell_type": "code",
   "execution_count": 7,
   "id": "realistic-blast",
   "metadata": {
    "execution": {
     "iopub.execute_input": "2021-10-07T12:12:35.692094Z",
     "iopub.status.busy": "2021-10-07T12:12:35.691573Z",
     "iopub.status.idle": "2021-10-07T12:12:35.693534Z",
     "shell.execute_reply": "2021-10-07T12:12:35.693103Z"
    },
    "papermill": {
     "duration": 0.036908,
     "end_time": "2021-10-07T12:12:35.693643",
     "exception": false,
     "start_time": "2021-10-07T12:12:35.656735",
     "status": "completed"
    },
    "tags": []
   },
   "outputs": [],
   "source": [
    "#hide\n",
    "def get_frame(name):\n",
    "    url = (\n",
    "        'https://raw.githubusercontent.com/CSSEGISandData/COVID-19/master/csse_covid_19_data/'\n",
    "        f'csse_covid_19_time_series/time_series_covid19_{name}_global.csv')\n",
    "    df = pd.read_csv(url)\n",
    "    # rename countries\n",
    "    df['Country/Region'] = df['Country/Region'].replace(mapping['replace.country'])\n",
    "    return df"
   ]
  },
  {
   "cell_type": "code",
   "execution_count": 8,
   "id": "affiliated-characterization",
   "metadata": {
    "execution": {
     "iopub.execute_input": "2021-10-07T12:12:35.760375Z",
     "iopub.status.busy": "2021-10-07T12:12:35.759833Z",
     "iopub.status.idle": "2021-10-07T12:12:35.762351Z",
     "shell.execute_reply": "2021-10-07T12:12:35.761934Z"
    },
    "papermill": {
     "duration": 0.038612,
     "end_time": "2021-10-07T12:12:35.762469",
     "exception": false,
     "start_time": "2021-10-07T12:12:35.723857",
     "status": "completed"
    },
    "tags": []
   },
   "outputs": [],
   "source": [
    "#hide\n",
    "def get_dates(df):\n",
    "    dt_cols = df.columns[~df.columns.isin(['Province/State', 'Country/Region', 'Lat', 'Long'])]\n",
    "    LAST_DATE_I = -1\n",
    "    # sometimes last column may be empty, then go backwards\n",
    "    for i in range(-1, -len(dt_cols), -1):\n",
    "        if not df[dt_cols[i]].fillna(0).eq(0).all():\n",
    "            LAST_DATE_I = i\n",
    "            break\n",
    "    return LAST_DATE_I, dt_cols"
   ]
  },
  {
   "cell_type": "code",
   "execution_count": 9,
   "id": "recent-optimization",
   "metadata": {
    "execution": {
     "iopub.execute_input": "2021-10-07T12:12:35.828533Z",
     "iopub.status.busy": "2021-10-07T12:12:35.827944Z",
     "iopub.status.idle": "2021-10-07T12:12:36.400176Z",
     "shell.execute_reply": "2021-10-07T12:12:36.399666Z"
    },
    "papermill": {
     "duration": 0.607523,
     "end_time": "2021-10-07T12:12:36.400337",
     "exception": false,
     "start_time": "2021-10-07T12:12:35.792814",
     "status": "completed"
    },
    "tags": []
   },
   "outputs": [],
   "source": [
    "#hide\n",
    "COL_REGION = 'Country/Region'\n",
    "# Confirmed, Recovered, Deaths\n",
    "df = get_frame('confirmed')\n",
    "# dft_: timeseries, dfc_: today country agg\n",
    "dft_cases = df\n",
    "dft_deaths = get_frame('deaths')\n",
    "dft_recovered = get_frame('recovered')\n",
    "LAST_DATE_I, dt_cols = get_dates(df)"
   ]
  },
  {
   "cell_type": "code",
   "execution_count": 10,
   "id": "absolute-copper",
   "metadata": {
    "execution": {
     "iopub.execute_input": "2021-10-07T12:12:36.467425Z",
     "iopub.status.busy": "2021-10-07T12:12:36.466883Z",
     "iopub.status.idle": "2021-10-07T12:12:36.468658Z",
     "shell.execute_reply": "2021-10-07T12:12:36.469132Z"
    },
    "papermill": {
     "duration": 0.038239,
     "end_time": "2021-10-07T12:12:36.469267",
     "exception": false,
     "start_time": "2021-10-07T12:12:36.431028",
     "status": "completed"
    },
    "tags": []
   },
   "outputs": [],
   "source": [
    "#hide\n",
    "LAST_DATE_I, dt_cols = get_dates(df)\n",
    "dt_today =dt_cols[LAST_DATE_I]\n",
    "# dt_5day = dt_cols[LAST_DATE_I - 5]\n",
    "dt_yday = dt_cols[LAST_DATE_I - 1]"
   ]
  },
  {
   "cell_type": "code",
   "execution_count": 11,
   "id": "restricted-sheriff",
   "metadata": {
    "execution": {
     "iopub.execute_input": "2021-10-07T12:12:36.536268Z",
     "iopub.status.busy": "2021-10-07T12:12:36.535720Z",
     "iopub.status.idle": "2021-10-07T12:12:36.543189Z",
     "shell.execute_reply": "2021-10-07T12:12:36.542779Z"
    },
    "papermill": {
     "duration": 0.043749,
     "end_time": "2021-10-07T12:12:36.543301",
     "exception": false,
     "start_time": "2021-10-07T12:12:36.499552",
     "status": "completed"
    },
    "tags": []
   },
   "outputs": [],
   "source": [
    "#hide\n",
    "dfc_cases = dft_cases.groupby(COL_REGION)[dt_today].sum()\n",
    "dfc_deaths = dft_deaths.groupby(COL_REGION)[dt_today].sum()\n",
    "# dfp_cases = dft_cases.groupby(COL_REGION)[dt_5day].sum()\n",
    "# dfp_deaths = dft_deaths.groupby(COL_REGION)[dt_5day].sum()\n",
    "dfp_cases = dft_cases.groupby(COL_REGION)[dt_yday].sum()\n",
    "dfp_deaths = dft_deaths.groupby(COL_REGION)[dt_yday].sum()"
   ]
  },
  {
   "cell_type": "code",
   "execution_count": 12,
   "id": "deluxe-hepatitis",
   "metadata": {
    "execution": {
     "iopub.execute_input": "2021-10-07T12:12:36.610098Z",
     "iopub.status.busy": "2021-10-07T12:12:36.609590Z",
     "iopub.status.idle": "2021-10-07T12:12:36.614192Z",
     "shell.execute_reply": "2021-10-07T12:12:36.613784Z"
    },
    "papermill": {
     "duration": 0.040759,
     "end_time": "2021-10-07T12:12:36.614306",
     "exception": false,
     "start_time": "2021-10-07T12:12:36.573547",
     "status": "completed"
    },
    "tags": []
   },
   "outputs": [],
   "source": [
    "#hide\n",
    "df_table = (pd.DataFrame(dict(Cases = dfc_cases, Deaths = dfc_deaths, PCases = dfp_cases, PDeaths = dfp_deaths))\n",
    "            .sort_values(by = ['Cases','Deaths'], ascending = [False, False])\n",
    "            .reset_index())"
   ]
  },
  {
   "cell_type": "code",
   "execution_count": 13,
   "id": "educational-chancellor",
   "metadata": {
    "execution": {
     "iopub.execute_input": "2021-10-07T12:12:36.688393Z",
     "iopub.status.busy": "2021-10-07T12:12:36.687832Z",
     "iopub.status.idle": "2021-10-07T12:12:36.699739Z",
     "shell.execute_reply": "2021-10-07T12:12:36.700124Z"
    },
    "papermill": {
     "duration": 0.055925,
     "end_time": "2021-10-07T12:12:36.700301",
     "exception": false,
     "start_time": "2021-10-07T12:12:36.644376",
     "status": "completed"
    },
    "tags": []
   },
   "outputs": [
    {
     "data": {
      "text/html": [
       "<div>\n",
       "<style scoped>\n",
       "    .dataframe tbody tr th:only-of-type {\n",
       "        vertical-align: middle;\n",
       "    }\n",
       "\n",
       "    .dataframe tbody tr th {\n",
       "        vertical-align: top;\n",
       "    }\n",
       "\n",
       "    .dataframe thead th {\n",
       "        text-align: right;\n",
       "    }\n",
       "</style>\n",
       "<table border=\"1\" class=\"dataframe\">\n",
       "  <thead>\n",
       "    <tr style=\"text-align: right;\">\n",
       "      <th></th>\n",
       "      <th>Country/Region</th>\n",
       "      <th>Cases</th>\n",
       "      <th>Deaths</th>\n",
       "      <th>PCases</th>\n",
       "      <th>PDeaths</th>\n",
       "      <th>Cases (+)</th>\n",
       "      <th>Deaths (+)</th>\n",
       "      <th>Fatality Rate</th>\n",
       "      <th>Continent</th>\n",
       "    </tr>\n",
       "  </thead>\n",
       "  <tbody>\n",
       "    <tr>\n",
       "      <th>0</th>\n",
       "      <td>US</td>\n",
       "      <td>44058827</td>\n",
       "      <td>707781</td>\n",
       "      <td>43947324</td>\n",
       "      <td>705225</td>\n",
       "      <td>111503</td>\n",
       "      <td>2556</td>\n",
       "      <td>1.61</td>\n",
       "      <td>North America</td>\n",
       "    </tr>\n",
       "    <tr>\n",
       "      <th>1</th>\n",
       "      <td>India</td>\n",
       "      <td>33894312</td>\n",
       "      <td>449856</td>\n",
       "      <td>33871881</td>\n",
       "      <td>449538</td>\n",
       "      <td>22431</td>\n",
       "      <td>318</td>\n",
       "      <td>1.33</td>\n",
       "      <td>Asia</td>\n",
       "    </tr>\n",
       "    <tr>\n",
       "      <th>2</th>\n",
       "      <td>Brazil</td>\n",
       "      <td>21516967</td>\n",
       "      <td>599359</td>\n",
       "      <td>21499074</td>\n",
       "      <td>598829</td>\n",
       "      <td>17893</td>\n",
       "      <td>530</td>\n",
       "      <td>2.79</td>\n",
       "      <td>South America</td>\n",
       "    </tr>\n",
       "    <tr>\n",
       "      <th>3</th>\n",
       "      <td>United Kingdom</td>\n",
       "      <td>8044424</td>\n",
       "      <td>137694</td>\n",
       "      <td>8005502</td>\n",
       "      <td>137544</td>\n",
       "      <td>38922</td>\n",
       "      <td>150</td>\n",
       "      <td>1.71</td>\n",
       "      <td>Europe</td>\n",
       "    </tr>\n",
       "    <tr>\n",
       "      <th>4</th>\n",
       "      <td>Russia</td>\n",
       "      <td>7548944</td>\n",
       "      <td>208842</td>\n",
       "      <td>7524465</td>\n",
       "      <td>207932</td>\n",
       "      <td>24479</td>\n",
       "      <td>910</td>\n",
       "      <td>2.77</td>\n",
       "      <td>Europe</td>\n",
       "    </tr>\n",
       "  </tbody>\n",
       "</table>\n",
       "</div>"
      ],
      "text/plain": [
       "   Country/Region     Cases  Deaths    PCases  PDeaths  Cases (+)  Deaths (+)  \\\n",
       "0              US  44058827  707781  43947324   705225     111503        2556   \n",
       "1           India  33894312  449856  33871881   449538      22431         318   \n",
       "2          Brazil  21516967  599359  21499074   598829      17893         530   \n",
       "3  United Kingdom   8044424  137694   8005502   137544      38922         150   \n",
       "4          Russia   7548944  208842   7524465   207932      24479         910   \n",
       "\n",
       "   Fatality Rate      Continent  \n",
       "0           1.61  North America  \n",
       "1           1.33           Asia  \n",
       "2           2.79  South America  \n",
       "3           1.71         Europe  \n",
       "4           2.77         Europe  "
      ]
     },
     "execution_count": 13,
     "metadata": {},
     "output_type": "execute_result"
    }
   ],
   "source": [
    "#hide\n",
    "for c in 'Cases, Deaths'.split(', '):\n",
    "    df_table[f'{c} (+)'] = (df_table[c] - df_table[f'P{c}']).clip(0)\n",
    "    #Clip ça veut dire, les chiffres negatif sont interdit\n",
    "df_table['Fatality Rate'] = (100* df_table['Deaths']/ df_table['Cases']).round(2)\n",
    "df_table['Continent'] = df_table['Country/Region'].map(mapping['map.continent'])\n",
    "df_table.head(5)"
   ]
  },
  {
   "cell_type": "code",
   "execution_count": 14,
   "id": "aboriginal-bulgaria",
   "metadata": {
    "execution": {
     "iopub.execute_input": "2021-10-07T12:12:36.766922Z",
     "iopub.status.busy": "2021-10-07T12:12:36.766412Z",
     "iopub.status.idle": "2021-10-07T12:12:36.770001Z",
     "shell.execute_reply": "2021-10-07T12:12:36.769589Z"
    },
    "papermill": {
     "duration": 0.038918,
     "end_time": "2021-10-07T12:12:36.770117",
     "exception": false,
     "start_time": "2021-10-07T12:12:36.731199",
     "status": "completed"
    },
    "tags": []
   },
   "outputs": [],
   "source": [
    "#hide\n",
    "#delete problematic countries from table\n",
    "df_table = df_table[~df_table['Country/Region'].isin(['Cape Verde', 'Cruise Ship', 'Kosovo'])]"
   ]
  },
  {
   "cell_type": "code",
   "execution_count": 15,
   "id": "fantastic-effect",
   "metadata": {
    "execution": {
     "iopub.execute_input": "2021-10-07T12:12:36.880986Z",
     "iopub.status.busy": "2021-10-07T12:12:36.880419Z",
     "iopub.status.idle": "2021-10-07T12:12:36.898381Z",
     "shell.execute_reply": "2021-10-07T12:12:36.898852Z"
    },
    "papermill": {
     "duration": 0.098296,
     "end_time": "2021-10-07T12:12:36.899011",
     "exception": false,
     "start_time": "2021-10-07T12:12:36.800715",
     "status": "completed"
    },
    "tags": []
   },
   "outputs": [
    {
     "data": {
      "text/html": [
       "<div>\n",
       "<style scoped>\n",
       "    .dataframe tbody tr th:only-of-type {\n",
       "        vertical-align: middle;\n",
       "    }\n",
       "\n",
       "    .dataframe tbody tr th {\n",
       "        vertical-align: top;\n",
       "    }\n",
       "\n",
       "    .dataframe thead th {\n",
       "        text-align: right;\n",
       "    }\n",
       "</style>\n",
       "<table border=\"1\" class=\"dataframe\">\n",
       "  <thead>\n",
       "    <tr style=\"text-align: right;\">\n",
       "      <th></th>\n",
       "      <th>Country/Region</th>\n",
       "      <th>Cases</th>\n",
       "      <th>Deaths</th>\n",
       "      <th>PCases</th>\n",
       "      <th>PDeaths</th>\n",
       "      <th>Cases (+)</th>\n",
       "      <th>Deaths (+)</th>\n",
       "      <th>Fatality Rate</th>\n",
       "      <th>Continent</th>\n",
       "    </tr>\n",
       "  </thead>\n",
       "  <tbody>\n",
       "    <tr>\n",
       "      <th>0</th>\n",
       "      <td>US</td>\n",
       "      <td>44058827</td>\n",
       "      <td>707781</td>\n",
       "      <td>43947324</td>\n",
       "      <td>705225</td>\n",
       "      <td>111503</td>\n",
       "      <td>2556</td>\n",
       "      <td>1.6</td>\n",
       "      <td>North America</td>\n",
       "    </tr>\n",
       "    <tr>\n",
       "      <th>1</th>\n",
       "      <td>India</td>\n",
       "      <td>33894312</td>\n",
       "      <td>449856</td>\n",
       "      <td>33871881</td>\n",
       "      <td>449538</td>\n",
       "      <td>22431</td>\n",
       "      <td>318</td>\n",
       "      <td>1.3</td>\n",
       "      <td>Asia</td>\n",
       "    </tr>\n",
       "    <tr>\n",
       "      <th>2</th>\n",
       "      <td>Brazil</td>\n",
       "      <td>21516967</td>\n",
       "      <td>599359</td>\n",
       "      <td>21499074</td>\n",
       "      <td>598829</td>\n",
       "      <td>17893</td>\n",
       "      <td>530</td>\n",
       "      <td>2.8</td>\n",
       "      <td>South America</td>\n",
       "    </tr>\n",
       "    <tr>\n",
       "      <th>3</th>\n",
       "      <td>United Kingdom</td>\n",
       "      <td>8044424</td>\n",
       "      <td>137694</td>\n",
       "      <td>8005502</td>\n",
       "      <td>137544</td>\n",
       "      <td>38922</td>\n",
       "      <td>150</td>\n",
       "      <td>1.7</td>\n",
       "      <td>Europe</td>\n",
       "    </tr>\n",
       "    <tr>\n",
       "      <th>4</th>\n",
       "      <td>Russia</td>\n",
       "      <td>7548944</td>\n",
       "      <td>208842</td>\n",
       "      <td>7524465</td>\n",
       "      <td>207932</td>\n",
       "      <td>24479</td>\n",
       "      <td>910</td>\n",
       "      <td>2.8</td>\n",
       "      <td>Europe</td>\n",
       "    </tr>\n",
       "  </tbody>\n",
       "</table>\n",
       "</div>"
      ],
      "text/plain": [
       "   Country/Region     Cases  Deaths    PCases  PDeaths  Cases (+)  Deaths (+)  \\\n",
       "0              US  44058827  707781  43947324   705225     111503        2556   \n",
       "1           India  33894312  449856  33871881   449538      22431         318   \n",
       "2          Brazil  21516967  599359  21499074   598829      17893         530   \n",
       "3  United Kingdom   8044424  137694   8005502   137544      38922         150   \n",
       "4          Russia   7548944  208842   7524465   207932      24479         910   \n",
       "\n",
       "   Fatality Rate      Continent  \n",
       "0            1.6  North America  \n",
       "1            1.3           Asia  \n",
       "2            2.8  South America  \n",
       "3            1.7         Europe  \n",
       "4            2.8         Europe  "
      ]
     },
     "execution_count": 15,
     "metadata": {},
     "output_type": "execute_result"
    }
   ],
   "source": [
    "#hide\n",
    "df_table = (pd.DataFrame(dict(Cases=dfc_cases, Deaths=dfc_deaths, PCases=dfp_cases, PDeaths=dfp_deaths))\n",
    "             .sort_values(by=['Cases', 'Deaths'], ascending=[False, False])\n",
    "             .reset_index())\n",
    "df_table.rename(columns={'index': 'Country/Region'}, inplace=True)\n",
    "for c in 'Cases, Deaths'.split(', '):\n",
    "    df_table[f'{c} (+)'] = (df_table[c] - df_table[f'P{c}']).clip(0)  # DATA BUG\n",
    "df_table['Fatality Rate'] = (100 * df_table['Deaths'] / df_table['Cases']).round(1)\n",
    "df_table['Continent'] = df_table['Country/Region'].map(mapping['map.continent'])\n",
    "df_table.head(5)"
   ]
  },
  {
   "cell_type": "code",
   "execution_count": 16,
   "id": "fewer-occasion",
   "metadata": {
    "execution": {
     "iopub.execute_input": "2021-10-07T12:12:36.967721Z",
     "iopub.status.busy": "2021-10-07T12:12:36.967202Z",
     "iopub.status.idle": "2021-10-07T12:12:36.970581Z",
     "shell.execute_reply": "2021-10-07T12:12:36.970142Z"
    },
    "papermill": {
     "duration": 0.039481,
     "end_time": "2021-10-07T12:12:36.970696",
     "exception": false,
     "start_time": "2021-10-07T12:12:36.931215",
     "status": "completed"
    },
    "tags": []
   },
   "outputs": [],
   "source": [
    "#hide\n",
    "#delete problematic countries from table\n",
    "df_table = df_table[~df_table['Country/Region'].isin(['Cape Verde', 'Cruise Ship', 'Kosovo'])]"
   ]
  },
  {
   "cell_type": "code",
   "execution_count": 17,
   "id": "related-center",
   "metadata": {
    "execution": {
     "iopub.execute_input": "2021-10-07T12:12:37.052417Z",
     "iopub.status.busy": "2021-10-07T12:12:37.051831Z",
     "iopub.status.idle": "2021-10-07T12:12:37.053504Z",
     "shell.execute_reply": "2021-10-07T12:12:37.053920Z"
    },
    "papermill": {
     "duration": 0.052166,
     "end_time": "2021-10-07T12:12:37.054061",
     "exception": false,
     "start_time": "2021-10-07T12:12:37.001895",
     "status": "completed"
    },
    "tags": []
   },
   "outputs": [],
   "source": [
    "#hide\n",
    "metrics = [df_table.columns[index] for index in [1,2,5,6]]\n",
    "# s_china = df_table[df_table['Country/Region'].eq('China')][metrics].sum().add_prefix('China ')\n",
    "s_us = df_table[df_table['Country/Region'].eq('US')][metrics].sum().add_prefix('US ')\n",
    "s_eu = df_table[df_table['Continent'].eq('Europe')][metrics].sum().add_prefix('EU ')\n",
    "s_ind = df_table[df_table['Country/Region'].eq('India')][metrics].sum().add_prefix('India ')\n",
    "summary = {'updated': pd.to_datetime(dt_today), 'since': pd.to_datetime(dt_yday)}\n",
    "summary = {'updated': pd.to_datetime(dt_today), 'since': pd.to_datetime(dt_yday)}\n",
    "summary = {**summary, **df_table[metrics].sum(), **s_ind, **s_us, **s_eu}"
   ]
  },
  {
   "cell_type": "code",
   "execution_count": 18,
   "id": "engaging-syndrome",
   "metadata": {
    "execution": {
     "iopub.execute_input": "2021-10-07T12:12:37.122523Z",
     "iopub.status.busy": "2021-10-07T12:12:37.121990Z",
     "iopub.status.idle": "2021-10-07T12:12:37.136930Z",
     "shell.execute_reply": "2021-10-07T12:12:37.136496Z"
    },
    "papermill": {
     "duration": 0.051411,
     "end_time": "2021-10-07T12:12:37.137057",
     "exception": false,
     "start_time": "2021-10-07T12:12:37.085646",
     "status": "completed"
    },
    "tags": []
   },
   "outputs": [],
   "source": [
    "#hide\n",
    "dft_ct_new_cases = dft_cases.groupby(COL_REGION)[dt_cols].sum().diff(axis=1).fillna(0).astype(int)"
   ]
  },
  {
   "cell_type": "code",
   "execution_count": 19,
   "id": "neutral-assignment",
   "metadata": {
    "execution": {
     "iopub.execute_input": "2021-10-07T12:12:37.206259Z",
     "iopub.status.busy": "2021-10-07T12:12:37.205736Z",
     "iopub.status.idle": "2021-10-07T12:12:37.207393Z",
     "shell.execute_reply": "2021-10-07T12:12:37.207775Z"
    },
    "papermill": {
     "duration": 0.039611,
     "end_time": "2021-10-07T12:12:37.207916",
     "exception": false,
     "start_time": "2021-10-07T12:12:37.168305",
     "status": "completed"
    },
    "tags": []
   },
   "outputs": [],
   "source": [
    "#hide\n",
    "everydaycases = dft_ct_new_cases.cumsum(axis=1)"
   ]
  },
  {
   "cell_type": "code",
   "execution_count": 20,
   "id": "parliamentary-calgary",
   "metadata": {
    "execution": {
     "iopub.execute_input": "2021-10-07T12:12:37.274729Z",
     "iopub.status.busy": "2021-10-07T12:12:37.274222Z",
     "iopub.status.idle": "2021-10-07T12:12:37.828049Z",
     "shell.execute_reply": "2021-10-07T12:12:37.827509Z"
    },
    "papermill": {
     "duration": 0.589084,
     "end_time": "2021-10-07T12:12:37.828194",
     "exception": false,
     "start_time": "2021-10-07T12:12:37.239110",
     "status": "completed"
    },
    "tags": []
   },
   "outputs": [],
   "source": [
    "#hide\n",
    "import pandas as pd\n",
    "import matplotlib.pyplot as plt\n",
    "import matplotlib.ticker as ticker\n",
    "import matplotlib.animation as animation\n",
    "from IPython.display import HTML"
   ]
  },
  {
   "cell_type": "code",
   "execution_count": 21,
   "id": "lasting-extraction",
   "metadata": {
    "execution": {
     "iopub.execute_input": "2021-10-07T12:12:37.897410Z",
     "iopub.status.busy": "2021-10-07T12:12:37.896885Z",
     "iopub.status.idle": "2021-10-07T12:12:37.902960Z",
     "shell.execute_reply": "2021-10-07T12:12:37.902513Z"
    },
    "papermill": {
     "duration": 0.042588,
     "end_time": "2021-10-07T12:12:37.903078",
     "exception": false,
     "start_time": "2021-10-07T12:12:37.860490",
     "status": "completed"
    },
    "tags": []
   },
   "outputs": [],
   "source": [
    "#hide\n",
    "t = everydaycases.stack()"
   ]
  },
  {
   "cell_type": "code",
   "execution_count": 22,
   "id": "premier-sleeve",
   "metadata": {
    "execution": {
     "iopub.execute_input": "2021-10-07T12:12:37.970195Z",
     "iopub.status.busy": "2021-10-07T12:12:37.969656Z",
     "iopub.status.idle": "2021-10-07T12:12:37.978618Z",
     "shell.execute_reply": "2021-10-07T12:12:37.978194Z"
    },
    "papermill": {
     "duration": 0.044198,
     "end_time": "2021-10-07T12:12:37.978741",
     "exception": false,
     "start_time": "2021-10-07T12:12:37.934543",
     "status": "completed"
    },
    "tags": []
   },
   "outputs": [],
   "source": [
    "#hide\n",
    "g = t.reset_index(['Country/Region'])"
   ]
  },
  {
   "cell_type": "code",
   "execution_count": 23,
   "id": "distributed-pittsburgh",
   "metadata": {
    "execution": {
     "iopub.execute_input": "2021-10-07T12:12:38.045325Z",
     "iopub.status.busy": "2021-10-07T12:12:38.044812Z",
     "iopub.status.idle": "2021-10-07T12:12:38.047023Z",
     "shell.execute_reply": "2021-10-07T12:12:38.046589Z"
    },
    "papermill": {
     "duration": 0.037457,
     "end_time": "2021-10-07T12:12:38.047131",
     "exception": false,
     "start_time": "2021-10-07T12:12:38.009674",
     "status": "completed"
    },
    "tags": []
   },
   "outputs": [],
   "source": [
    "#hide\n",
    "g.index.name = 'date'"
   ]
  },
  {
   "cell_type": "code",
   "execution_count": 24,
   "id": "naked-donor",
   "metadata": {
    "execution": {
     "iopub.execute_input": "2021-10-07T12:12:38.113362Z",
     "iopub.status.busy": "2021-10-07T12:12:38.112829Z",
     "iopub.status.idle": "2021-10-07T12:12:38.114625Z",
     "shell.execute_reply": "2021-10-07T12:12:38.115115Z"
    },
    "papermill": {
     "duration": 0.037005,
     "end_time": "2021-10-07T12:12:38.115252",
     "exception": false,
     "start_time": "2021-10-07T12:12:38.078247",
     "status": "completed"
    },
    "tags": []
   },
   "outputs": [],
   "source": [
    "# #hide\n",
    "# g = g.reset_index(['date'])"
   ]
  },
  {
   "cell_type": "code",
   "execution_count": 25,
   "id": "incomplete-mustang",
   "metadata": {
    "execution": {
     "iopub.execute_input": "2021-10-07T12:12:38.181912Z",
     "iopub.status.busy": "2021-10-07T12:12:38.181381Z",
     "iopub.status.idle": "2021-10-07T12:12:38.183120Z",
     "shell.execute_reply": "2021-10-07T12:12:38.183523Z"
    },
    "papermill": {
     "duration": 0.037212,
     "end_time": "2021-10-07T12:12:38.183663",
     "exception": false,
     "start_time": "2021-10-07T12:12:38.146451",
     "status": "completed"
    },
    "tags": []
   },
   "outputs": [],
   "source": [
    "#hide\n",
    "# g.head()"
   ]
  },
  {
   "cell_type": "code",
   "execution_count": 26,
   "id": "specific-kruger",
   "metadata": {
    "execution": {
     "iopub.execute_input": "2021-10-07T12:12:38.250024Z",
     "iopub.status.busy": "2021-10-07T12:12:38.249502Z",
     "iopub.status.idle": "2021-10-07T12:12:38.251244Z",
     "shell.execute_reply": "2021-10-07T12:12:38.251723Z"
    },
    "papermill": {
     "duration": 0.036944,
     "end_time": "2021-10-07T12:12:38.251858",
     "exception": false,
     "start_time": "2021-10-07T12:12:38.214914",
     "status": "completed"
    },
    "tags": []
   },
   "outputs": [],
   "source": [
    "#hide\n",
    "# g.columns = ['date','country','cases']"
   ]
  },
  {
   "cell_type": "code",
   "execution_count": 27,
   "id": "tender-conversion",
   "metadata": {
    "execution": {
     "iopub.execute_input": "2021-10-07T12:12:38.318112Z",
     "iopub.status.busy": "2021-10-07T12:12:38.317582Z",
     "iopub.status.idle": "2021-10-07T12:12:38.319821Z",
     "shell.execute_reply": "2021-10-07T12:12:38.319400Z"
    },
    "papermill": {
     "duration": 0.037152,
     "end_time": "2021-10-07T12:12:38.319939",
     "exception": false,
     "start_time": "2021-10-07T12:12:38.282787",
     "status": "completed"
    },
    "tags": []
   },
   "outputs": [],
   "source": [
    "#hide\n",
    "# g['continent'] = g.country"
   ]
  },
  {
   "cell_type": "code",
   "execution_count": 28,
   "id": "substantial-wilderness",
   "metadata": {
    "execution": {
     "iopub.execute_input": "2021-10-07T12:12:38.386292Z",
     "iopub.status.busy": "2021-10-07T12:12:38.385756Z",
     "iopub.status.idle": "2021-10-07T12:12:38.387815Z",
     "shell.execute_reply": "2021-10-07T12:12:38.387371Z"
    },
    "papermill": {
     "duration": 0.036685,
     "end_time": "2021-10-07T12:12:38.387932",
     "exception": false,
     "start_time": "2021-10-07T12:12:38.351247",
     "status": "completed"
    },
    "tags": []
   },
   "outputs": [],
   "source": [
    "#hide\n",
    "# cols = list(g.columns.values)"
   ]
  },
  {
   "cell_type": "code",
   "execution_count": 29,
   "id": "solved-farming",
   "metadata": {
    "execution": {
     "iopub.execute_input": "2021-10-07T12:12:38.454118Z",
     "iopub.status.busy": "2021-10-07T12:12:38.453604Z",
     "iopub.status.idle": "2021-10-07T12:12:38.455960Z",
     "shell.execute_reply": "2021-10-07T12:12:38.455543Z"
    },
    "papermill": {
     "duration": 0.037172,
     "end_time": "2021-10-07T12:12:38.456079",
     "exception": false,
     "start_time": "2021-10-07T12:12:38.418907",
     "status": "completed"
    },
    "tags": []
   },
   "outputs": [],
   "source": [
    "#hide\n",
    "# cols.insert(0, cols.pop())"
   ]
  },
  {
   "cell_type": "code",
   "execution_count": 30,
   "id": "executed-adoption",
   "metadata": {
    "execution": {
     "iopub.execute_input": "2021-10-07T12:12:38.522551Z",
     "iopub.status.busy": "2021-10-07T12:12:38.522023Z",
     "iopub.status.idle": "2021-10-07T12:12:38.523828Z",
     "shell.execute_reply": "2021-10-07T12:12:38.524283Z"
    },
    "papermill": {
     "duration": 0.037075,
     "end_time": "2021-10-07T12:12:38.524426",
     "exception": false,
     "start_time": "2021-10-07T12:12:38.487351",
     "status": "completed"
    },
    "tags": []
   },
   "outputs": [],
   "source": [
    "#hide\n",
    "# g = g[cols]"
   ]
  },
  {
   "cell_type": "code",
   "execution_count": 31,
   "id": "subject-dublin",
   "metadata": {
    "execution": {
     "iopub.execute_input": "2021-10-07T12:12:38.590618Z",
     "iopub.status.busy": "2021-10-07T12:12:38.590092Z",
     "iopub.status.idle": "2021-10-07T12:12:38.591749Z",
     "shell.execute_reply": "2021-10-07T12:12:38.592132Z"
    },
    "papermill": {
     "duration": 0.036798,
     "end_time": "2021-10-07T12:12:38.592294",
     "exception": false,
     "start_time": "2021-10-07T12:12:38.555496",
     "status": "completed"
    },
    "tags": []
   },
   "outputs": [],
   "source": [
    "#hide\n",
    "# g['continent'] = g['continent'].map(mapping['map.continent'])"
   ]
  },
  {
   "cell_type": "code",
   "execution_count": 32,
   "id": "freelance-scout",
   "metadata": {
    "execution": {
     "iopub.execute_input": "2021-10-07T12:12:38.658706Z",
     "iopub.status.busy": "2021-10-07T12:12:38.658147Z",
     "iopub.status.idle": "2021-10-07T12:12:38.660156Z",
     "shell.execute_reply": "2021-10-07T12:12:38.660573Z"
    },
    "papermill": {
     "duration": 0.037185,
     "end_time": "2021-10-07T12:12:38.660721",
     "exception": false,
     "start_time": "2021-10-07T12:12:38.623536",
     "status": "completed"
    },
    "tags": []
   },
   "outputs": [],
   "source": [
    "#hide\n",
    "# g.head()"
   ]
  },
  {
   "cell_type": "code",
   "execution_count": 33,
   "id": "limited-engine",
   "metadata": {
    "execution": {
     "iopub.execute_input": "2021-10-07T12:12:38.726883Z",
     "iopub.status.busy": "2021-10-07T12:12:38.726366Z",
     "iopub.status.idle": "2021-10-07T12:12:38.728668Z",
     "shell.execute_reply": "2021-10-07T12:12:38.728246Z"
    },
    "papermill": {
     "duration": 0.037091,
     "end_time": "2021-10-07T12:12:38.728797",
     "exception": false,
     "start_time": "2021-10-07T12:12:38.691706",
     "status": "completed"
    },
    "tags": []
   },
   "outputs": [],
   "source": [
    "# hide\n",
    "# g['date'] = g['date'].astype('datetime64[ns]')"
   ]
  },
  {
   "cell_type": "code",
   "execution_count": 34,
   "id": "sophisticated-supervisor",
   "metadata": {
    "execution": {
     "iopub.execute_input": "2021-10-07T12:12:38.795409Z",
     "iopub.status.busy": "2021-10-07T12:12:38.794874Z",
     "iopub.status.idle": "2021-10-07T12:12:38.796888Z",
     "shell.execute_reply": "2021-10-07T12:12:38.796444Z"
    },
    "papermill": {
     "duration": 0.036715,
     "end_time": "2021-10-07T12:12:38.797000",
     "exception": false,
     "start_time": "2021-10-07T12:12:38.760285",
     "status": "completed"
    },
    "tags": []
   },
   "outputs": [],
   "source": [
    "#hide\n",
    "# g['date'] = g.date.dt.dayofyear"
   ]
  },
  {
   "cell_type": "code",
   "execution_count": 35,
   "id": "inside-dubai",
   "metadata": {
    "execution": {
     "iopub.execute_input": "2021-10-07T12:12:38.863135Z",
     "iopub.status.busy": "2021-10-07T12:12:38.862603Z",
     "iopub.status.idle": "2021-10-07T12:12:38.864959Z",
     "shell.execute_reply": "2021-10-07T12:12:38.864543Z"
    },
    "papermill": {
     "duration": 0.037152,
     "end_time": "2021-10-07T12:12:38.865075",
     "exception": false,
     "start_time": "2021-10-07T12:12:38.827923",
     "status": "completed"
    },
    "tags": []
   },
   "outputs": [],
   "source": [
    "#hide\n",
    "# g = g.rename(columns= {'continent':'group','country':'name','cases':'value'})"
   ]
  },
  {
   "cell_type": "code",
   "execution_count": 36,
   "id": "fleet-motorcycle",
   "metadata": {
    "execution": {
     "iopub.execute_input": "2021-10-07T12:12:38.931389Z",
     "iopub.status.busy": "2021-10-07T12:12:38.930862Z",
     "iopub.status.idle": "2021-10-07T12:12:38.932843Z",
     "shell.execute_reply": "2021-10-07T12:12:38.933276Z"
    },
    "papermill": {
     "duration": 0.037228,
     "end_time": "2021-10-07T12:12:38.933412",
     "exception": false,
     "start_time": "2021-10-07T12:12:38.896184",
     "status": "completed"
    },
    "tags": []
   },
   "outputs": [],
   "source": [
    "#hide\n",
    "# cols = ['name','group','day','value']"
   ]
  },
  {
   "cell_type": "code",
   "execution_count": 37,
   "id": "continued-sleeping",
   "metadata": {
    "execution": {
     "iopub.execute_input": "2021-10-07T12:12:38.999484Z",
     "iopub.status.busy": "2021-10-07T12:12:38.998950Z",
     "iopub.status.idle": "2021-10-07T12:12:39.000734Z",
     "shell.execute_reply": "2021-10-07T12:12:39.001230Z"
    },
    "papermill": {
     "duration": 0.036881,
     "end_time": "2021-10-07T12:12:39.001370",
     "exception": false,
     "start_time": "2021-10-07T12:12:38.964489",
     "status": "completed"
    },
    "tags": []
   },
   "outputs": [],
   "source": [
    "#hide\n",
    "# g.rename(columns= {'date':'day'},inplace = True)"
   ]
  },
  {
   "cell_type": "code",
   "execution_count": 38,
   "id": "major-fight",
   "metadata": {
    "execution": {
     "iopub.execute_input": "2021-10-07T12:12:39.068269Z",
     "iopub.status.busy": "2021-10-07T12:12:39.067729Z",
     "iopub.status.idle": "2021-10-07T12:12:39.069952Z",
     "shell.execute_reply": "2021-10-07T12:12:39.069520Z"
    },
    "papermill": {
     "duration": 0.037401,
     "end_time": "2021-10-07T12:12:39.070067",
     "exception": false,
     "start_time": "2021-10-07T12:12:39.032666",
     "status": "completed"
    },
    "tags": []
   },
   "outputs": [],
   "source": [
    "#hide\n",
    "# g = g[cols]"
   ]
  },
  {
   "cell_type": "code",
   "execution_count": 39,
   "id": "structured-mobile",
   "metadata": {
    "execution": {
     "iopub.execute_input": "2021-10-07T12:12:39.136261Z",
     "iopub.status.busy": "2021-10-07T12:12:39.135717Z",
     "iopub.status.idle": "2021-10-07T12:12:39.138115Z",
     "shell.execute_reply": "2021-10-07T12:12:39.137698Z"
    },
    "papermill": {
     "duration": 0.037127,
     "end_time": "2021-10-07T12:12:39.138231",
     "exception": false,
     "start_time": "2021-10-07T12:12:39.101104",
     "status": "completed"
    },
    "tags": []
   },
   "outputs": [],
   "source": [
    "# #hide\n",
    "# g = g[g.group.notna()]"
   ]
  },
  {
   "cell_type": "code",
   "execution_count": 40,
   "id": "determined-closing",
   "metadata": {
    "execution": {
     "iopub.execute_input": "2021-10-07T12:12:39.205091Z",
     "iopub.status.busy": "2021-10-07T12:12:39.204537Z",
     "iopub.status.idle": "2021-10-07T12:12:39.206274Z",
     "shell.execute_reply": "2021-10-07T12:12:39.206658Z"
    },
    "papermill": {
     "duration": 0.037192,
     "end_time": "2021-10-07T12:12:39.206802",
     "exception": false,
     "start_time": "2021-10-07T12:12:39.169610",
     "status": "completed"
    },
    "tags": []
   },
   "outputs": [],
   "source": [
    "# #hide\n",
    "# colors = dict(zip(\n",
    "#     [\"Oceania\", \"Europe\", \"Asia\", \"South America\", \"Middle East\", \"North America\", \"Africa\"],\n",
    "#     [\"#adb0ff\", \"#ffb3ff\", \"#90d595\", \"#e48381\", \"#aafbff\", \"#f7bb5f\", \"#eafb50\"]\n",
    "# ))\n",
    "# group_lk = g.set_index('name')['group'].to_dict()"
   ]
  },
  {
   "cell_type": "code",
   "execution_count": null,
   "id": "gross-drinking",
   "metadata": {
    "papermill": {
     "duration": 0.031031,
     "end_time": "2021-10-07T12:12:39.268840",
     "exception": false,
     "start_time": "2021-10-07T12:12:39.237809",
     "status": "completed"
    },
    "tags": []
   },
   "outputs": [],
   "source": []
  },
  {
   "cell_type": "code",
   "execution_count": 41,
   "id": "subject-macintosh",
   "metadata": {
    "execution": {
     "iopub.execute_input": "2021-10-07T12:12:39.335719Z",
     "iopub.status.busy": "2021-10-07T12:12:39.335189Z",
     "iopub.status.idle": "2021-10-07T12:12:39.337432Z",
     "shell.execute_reply": "2021-10-07T12:12:39.337012Z"
    },
    "papermill": {
     "duration": 0.037556,
     "end_time": "2021-10-07T12:12:39.337548",
     "exception": false,
     "start_time": "2021-10-07T12:12:39.299992",
     "status": "completed"
    },
    "tags": []
   },
   "outputs": [],
   "source": [
    "# #hide\n",
    "# fig, ax = plt.subplots(figsize=(15, 8))\n",
    "\n",
    "# def draw_barchart(current_day):\n",
    "#     dff = g[g['day'].eq(current_day)].sort_values(by='value', ascending=True).tail(10)\n",
    "#     ax.clear()\n",
    "#     ax.barh(dff['name'], dff['value'], color=[colors[group_lk[x]] for x in dff['name']])\n",
    "#     dx = dff['value'].max() / 200\n",
    "    \n",
    "#     for i, (value, name) in enumerate(zip(dff['value'], dff['name'])):\n",
    "#         ax.text(value-dx, i,     name,           size=14, weight=600, ha='right', va='bottom')\n",
    "#         ax.text(value-dx, i-.25, group_lk[name], size=10, color='#444444', ha='right', va='baseline')\n",
    "#         ax.text(value+dx, i,     f'{value:,.0f}',  size=14, ha='left',  va='center')\n",
    "#     ax.text(1, 0.4, current_day, transform=ax.transAxes, color='#777777', size=46, ha='right', weight=800)\n",
    "#     ax.text(0, 1.06, 'Population (thousands)', transform=ax.transAxes, size=12, color='#777777')\n",
    "#     ax.xaxis.set_major_formatter(ticker.StrMethodFormatter('{x:,.0f}'))\n",
    "#     ax.xaxis.set_ticks_position('top')\n",
    "#     ax.tick_params(axis='x', colors='#777777', labelsize=12)\n",
    "#     ax.set_yticks([])\n",
    "#     ax.margins(0, 0.01)\n",
    "#     ax.grid(which='major', axis='x', linestyle='-')\n",
    "#     ax.set_axisbelow(True)\n",
    "    \n",
    "#     ax.text(0, 1.15, 'Coronavirus',\n",
    "#             transform=ax.transAxes, size=24, weight=600, ha='left', va='top')\n",
    "# #     ax.text(1, 0, 'by @pratapvardhan; credit @jburnmurdoch', transform=ax.transAxes, color='#777777', ha='right',\n",
    "# #             bbox=dict(facecolor='white', alpha=0.8, edgecolor='white'))\n",
    "#     plt.box(False)"
   ]
  },
  {
   "cell_type": "code",
   "execution_count": 42,
   "id": "sexual-wages",
   "metadata": {
    "execution": {
     "iopub.execute_input": "2021-10-07T12:12:39.403945Z",
     "iopub.status.busy": "2021-10-07T12:12:39.403428Z",
     "iopub.status.idle": "2021-10-07T12:12:39.405502Z",
     "shell.execute_reply": "2021-10-07T12:12:39.405068Z"
    },
    "papermill": {
     "duration": 0.036959,
     "end_time": "2021-10-07T12:12:39.405615",
     "exception": false,
     "start_time": "2021-10-07T12:12:39.368656",
     "status": "completed"
    },
    "tags": []
   },
   "outputs": [],
   "source": [
    "# #hide_input\n",
    "# fig, ax = plt.subplots(figsize=(15, 8))\n",
    "# animator = animation.FuncAnimation(fig, draw_barchart, frames=range(g.day.values.min(), g.day.values.max()))\n",
    "# HTML(animator.to_jshtml())\n",
    "# # or use animator.to_html5_video() or animator.save() "
   ]
  },
  {
   "cell_type": "code",
   "execution_count": null,
   "id": "australian-container",
   "metadata": {
    "papermill": {
     "duration": 0.031002,
     "end_time": "2021-10-07T12:12:39.467785",
     "exception": false,
     "start_time": "2021-10-07T12:12:39.436783",
     "status": "completed"
    },
    "tags": []
   },
   "outputs": [],
   "source": []
  },
  {
   "cell_type": "code",
   "execution_count": null,
   "id": "mediterranean-pontiac",
   "metadata": {
    "papermill": {
     "duration": 0.031101,
     "end_time": "2021-10-07T12:12:39.529927",
     "exception": false,
     "start_time": "2021-10-07T12:12:39.498826",
     "status": "completed"
    },
    "tags": []
   },
   "outputs": [],
   "source": []
  },
  {
   "cell_type": "code",
   "execution_count": null,
   "id": "aging-legislature",
   "metadata": {
    "papermill": {
     "duration": 0.031031,
     "end_time": "2021-10-07T12:12:39.592179",
     "exception": false,
     "start_time": "2021-10-07T12:12:39.561148",
     "status": "completed"
    },
    "tags": []
   },
   "outputs": [],
   "source": []
  }
 ],
 "metadata": {
  "kernelspec": {
   "display_name": "Python 3",
   "language": "python",
   "name": "python3"
  },
  "language_info": {
   "codemirror_mode": {
    "name": "ipython",
    "version": 3
   },
   "file_extension": ".py",
   "mimetype": "text/x-python",
   "name": "python",
   "nbconvert_exporter": "python",
   "pygments_lexer": "ipython3",
   "version": "3.6.15"
  },
  "papermill": {
   "duration": 6.295812,
   "end_time": "2021-10-07T12:12:40.031419",
   "environment_variables": {},
   "exception": null,
   "input_path": "2020-03-21-covid19exp.ipynb",
   "output_path": "2020-03-21-covid19exp.ipynb",
   "parameters": {},
   "start_time": "2021-10-07T12:12:33.735607",
   "version": "2.0.0"
  }
 },
 "nbformat": 4,
 "nbformat_minor": 5
}