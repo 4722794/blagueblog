{
 "cells": [
  {
   "cell_type": "markdown",
   "id": "muslim-click",
   "metadata": {
    "papermill": {
     "duration": 0.042033,
     "end_time": "2021-03-16T12:07:16.525460",
     "exception": false,
     "start_time": "2021-03-16T12:07:16.483427",
     "status": "completed"
    },
    "tags": []
   },
   "source": [
    "# COVID-19 Case Race\n",
    "> A race chart to see rising cases around the world\n",
    "\n",
    "- author: Hargun Oberoi\n",
    "- image: images/covid-overview.png\n",
    "- hide: false\n",
    "- badges: false"
   ]
  },
  {
   "cell_type": "code",
   "execution_count": 1,
   "id": "proof-material",
   "metadata": {
    "execution": {
     "iopub.execute_input": "2021-03-16T12:07:16.614473Z",
     "iopub.status.busy": "2021-03-16T12:07:16.613820Z",
     "iopub.status.idle": "2021-03-16T12:07:16.952976Z",
     "shell.execute_reply": "2021-03-16T12:07:16.952027Z"
    },
    "papermill": {
     "duration": 0.392456,
     "end_time": "2021-03-16T12:07:16.953132",
     "exception": false,
     "start_time": "2021-03-16T12:07:16.560676",
     "status": "completed"
    },
    "tags": []
   },
   "outputs": [],
   "source": [
    "#hide\n",
    "import numpy as np\n",
    "import pandas as pd\n",
    "from jinja2 import Template\n",
    "from IPython.display import HTML"
   ]
  },
  {
   "cell_type": "code",
   "execution_count": 2,
   "id": "developed-terminology",
   "metadata": {
    "execution": {
     "iopub.execute_input": "2021-03-16T12:07:17.030740Z",
     "iopub.status.busy": "2021-03-16T12:07:17.030121Z",
     "iopub.status.idle": "2021-03-16T12:07:17.032665Z",
     "shell.execute_reply": "2021-03-16T12:07:17.032142Z"
    },
    "papermill": {
     "duration": 0.043863,
     "end_time": "2021-03-16T12:07:17.032780",
     "exception": false,
     "start_time": "2021-03-16T12:07:16.988917",
     "status": "completed"
    },
    "tags": []
   },
   "outputs": [],
   "source": [
    "#hide\n",
    "\n",
    "# FETCH\n",
    "base_url = 'https://raw.githubusercontent.com/pratapvardhan/notebooks/master/covid19/'\n",
    "paths = {\n",
    "    'mapping': base_url + 'mapping_countries.csv',\n",
    "    'overview': base_url + 'overview.tpl'\n",
    "}"
   ]
  },
  {
   "cell_type": "code",
   "execution_count": 3,
   "id": "dynamic-saver",
   "metadata": {
    "execution": {
     "iopub.execute_input": "2021-03-16T12:07:17.112611Z",
     "iopub.status.busy": "2021-03-16T12:07:17.112018Z",
     "iopub.status.idle": "2021-03-16T12:07:17.114846Z",
     "shell.execute_reply": "2021-03-16T12:07:17.115308Z"
    },
    "papermill": {
     "duration": 0.047921,
     "end_time": "2021-03-16T12:07:17.115438",
     "exception": false,
     "start_time": "2021-03-16T12:07:17.067517",
     "status": "completed"
    },
    "tags": []
   },
   "outputs": [
    {
     "data": {
      "text/plain": [
       "'https://raw.githubusercontent.com/pratapvardhan/notebooks/master/covid19/mapping_countries.csv'"
      ]
     },
     "execution_count": 3,
     "metadata": {},
     "output_type": "execute_result"
    }
   ],
   "source": [
    "#hide\n",
    "paths['mapping']"
   ]
  },
  {
   "cell_type": "code",
   "execution_count": 4,
   "id": "urban-software",
   "metadata": {
    "execution": {
     "iopub.execute_input": "2021-03-16T12:07:17.193663Z",
     "iopub.status.busy": "2021-03-16T12:07:17.193083Z",
     "iopub.status.idle": "2021-03-16T12:07:17.194944Z",
     "shell.execute_reply": "2021-03-16T12:07:17.195635Z"
    },
    "papermill": {
     "duration": 0.043801,
     "end_time": "2021-03-16T12:07:17.195851",
     "exception": false,
     "start_time": "2021-03-16T12:07:17.152050",
     "status": "completed"
    },
    "tags": []
   },
   "outputs": [],
   "source": [
    "#hide\n",
    "def get_mappings(url):\n",
    "    df = pd.read_csv(url)\n",
    "    return {\n",
    "        'df': df,\n",
    "        'replace.country': dict(df.dropna(subset=['Name']).set_index('Country')['Name']),\n",
    "        'map.continent': dict(df.set_index('Name')['Continent'])\n",
    "    }"
   ]
  },
  {
   "cell_type": "code",
   "execution_count": 5,
   "id": "intimate-machinery",
   "metadata": {
    "execution": {
     "iopub.execute_input": "2021-03-16T12:07:17.275301Z",
     "iopub.status.busy": "2021-03-16T12:07:17.274666Z",
     "iopub.status.idle": "2021-03-16T12:07:17.307848Z",
     "shell.execute_reply": "2021-03-16T12:07:17.307329Z"
    },
    "papermill": {
     "duration": 0.075394,
     "end_time": "2021-03-16T12:07:17.307987",
     "exception": false,
     "start_time": "2021-03-16T12:07:17.232593",
     "status": "completed"
    },
    "tags": []
   },
   "outputs": [],
   "source": [
    "#hide\n",
    "mapping = get_mappings(paths['mapping'])"
   ]
  },
  {
   "cell_type": "code",
   "execution_count": 6,
   "id": "certified-tactics",
   "metadata": {
    "execution": {
     "iopub.execute_input": "2021-03-16T12:07:17.383312Z",
     "iopub.status.busy": "2021-03-16T12:07:17.382736Z",
     "iopub.status.idle": "2021-03-16T12:07:17.384976Z",
     "shell.execute_reply": "2021-03-16T12:07:17.385527Z"
    },
    "papermill": {
     "duration": 0.042403,
     "end_time": "2021-03-16T12:07:17.385638",
     "exception": false,
     "start_time": "2021-03-16T12:07:17.343235",
     "status": "completed"
    },
    "tags": []
   },
   "outputs": [],
   "source": [
    "#hide\n",
    "def get_template(path):\n",
    "    from urllib.parse import urlparse\n",
    "    if bool(urlparse(path).netloc):\n",
    "        from urllib.request import urlopen\n",
    "        return urlopen(path).read().decode('utf8')\n",
    "    return open(path).read()"
   ]
  },
  {
   "cell_type": "code",
   "execution_count": 7,
   "id": "realistic-blast",
   "metadata": {
    "execution": {
     "iopub.execute_input": "2021-03-16T12:07:17.463287Z",
     "iopub.status.busy": "2021-03-16T12:07:17.462673Z",
     "iopub.status.idle": "2021-03-16T12:07:17.464543Z",
     "shell.execute_reply": "2021-03-16T12:07:17.465123Z"
    },
    "papermill": {
     "duration": 0.045523,
     "end_time": "2021-03-16T12:07:17.465245",
     "exception": false,
     "start_time": "2021-03-16T12:07:17.419722",
     "status": "completed"
    },
    "tags": []
   },
   "outputs": [],
   "source": [
    "#hide\n",
    "def get_frame(name):\n",
    "    url = (\n",
    "        'https://raw.githubusercontent.com/CSSEGISandData/COVID-19/master/csse_covid_19_data/'\n",
    "        f'csse_covid_19_time_series/time_series_covid19_{name}_global.csv')\n",
    "    df = pd.read_csv(url)\n",
    "    # rename countries\n",
    "    df['Country/Region'] = df['Country/Region'].replace(mapping['replace.country'])\n",
    "    return df"
   ]
  },
  {
   "cell_type": "code",
   "execution_count": 8,
   "id": "affiliated-characterization",
   "metadata": {
    "execution": {
     "iopub.execute_input": "2021-03-16T12:07:17.543206Z",
     "iopub.status.busy": "2021-03-16T12:07:17.542640Z",
     "iopub.status.idle": "2021-03-16T12:07:17.544916Z",
     "shell.execute_reply": "2021-03-16T12:07:17.544418Z"
    },
    "papermill": {
     "duration": 0.045506,
     "end_time": "2021-03-16T12:07:17.545025",
     "exception": false,
     "start_time": "2021-03-16T12:07:17.499519",
     "status": "completed"
    },
    "tags": []
   },
   "outputs": [],
   "source": [
    "#hide\n",
    "def get_dates(df):\n",
    "    dt_cols = df.columns[~df.columns.isin(['Province/State', 'Country/Region', 'Lat', 'Long'])]\n",
    "    LAST_DATE_I = -1\n",
    "    # sometimes last column may be empty, then go backwards\n",
    "    for i in range(-1, -len(dt_cols), -1):\n",
    "        if not df[dt_cols[i]].fillna(0).eq(0).all():\n",
    "            LAST_DATE_I = i\n",
    "            break\n",
    "    return LAST_DATE_I, dt_cols"
   ]
  },
  {
   "cell_type": "code",
   "execution_count": 9,
   "id": "recent-optimization",
   "metadata": {
    "execution": {
     "iopub.execute_input": "2021-03-16T12:07:17.626632Z",
     "iopub.status.busy": "2021-03-16T12:07:17.625931Z",
     "iopub.status.idle": "2021-03-16T12:07:17.907077Z",
     "shell.execute_reply": "2021-03-16T12:07:17.905860Z"
    },
    "papermill": {
     "duration": 0.324046,
     "end_time": "2021-03-16T12:07:17.907256",
     "exception": false,
     "start_time": "2021-03-16T12:07:17.583210",
     "status": "completed"
    },
    "tags": []
   },
   "outputs": [],
   "source": [
    "#hide\n",
    "COL_REGION = 'Country/Region'\n",
    "# Confirmed, Recovered, Deaths\n",
    "df = get_frame('confirmed')\n",
    "# dft_: timeseries, dfc_: today country agg\n",
    "dft_cases = df\n",
    "dft_deaths = get_frame('deaths')\n",
    "dft_recovered = get_frame('recovered')\n",
    "LAST_DATE_I, dt_cols = get_dates(df)"
   ]
  },
  {
   "cell_type": "code",
   "execution_count": 10,
   "id": "absolute-copper",
   "metadata": {
    "execution": {
     "iopub.execute_input": "2021-03-16T12:07:17.981751Z",
     "iopub.status.busy": "2021-03-16T12:07:17.981158Z",
     "iopub.status.idle": "2021-03-16T12:07:17.982947Z",
     "shell.execute_reply": "2021-03-16T12:07:17.983432Z"
    },
    "papermill": {
     "duration": 0.041201,
     "end_time": "2021-03-16T12:07:17.983554",
     "exception": false,
     "start_time": "2021-03-16T12:07:17.942353",
     "status": "completed"
    },
    "tags": []
   },
   "outputs": [],
   "source": [
    "#hide\n",
    "LAST_DATE_I, dt_cols = get_dates(df)\n",
    "dt_today =dt_cols[LAST_DATE_I]\n",
    "# dt_5day = dt_cols[LAST_DATE_I - 5]\n",
    "dt_yday = dt_cols[LAST_DATE_I - 1]"
   ]
  },
  {
   "cell_type": "code",
   "execution_count": 11,
   "id": "restricted-sheriff",
   "metadata": {
    "execution": {
     "iopub.execute_input": "2021-03-16T12:07:18.065667Z",
     "iopub.status.busy": "2021-03-16T12:07:18.064899Z",
     "iopub.status.idle": "2021-03-16T12:07:18.073209Z",
     "shell.execute_reply": "2021-03-16T12:07:18.073773Z"
    },
    "papermill": {
     "duration": 0.053192,
     "end_time": "2021-03-16T12:07:18.073896",
     "exception": false,
     "start_time": "2021-03-16T12:07:18.020704",
     "status": "completed"
    },
    "tags": []
   },
   "outputs": [],
   "source": [
    "#hide\n",
    "dfc_cases = dft_cases.groupby(COL_REGION)[dt_today].sum()\n",
    "dfc_deaths = dft_deaths.groupby(COL_REGION)[dt_today].sum()\n",
    "# dfp_cases = dft_cases.groupby(COL_REGION)[dt_5day].sum()\n",
    "# dfp_deaths = dft_deaths.groupby(COL_REGION)[dt_5day].sum()\n",
    "dfp_cases = dft_cases.groupby(COL_REGION)[dt_yday].sum()\n",
    "dfp_deaths = dft_deaths.groupby(COL_REGION)[dt_yday].sum()"
   ]
  },
  {
   "cell_type": "code",
   "execution_count": 12,
   "id": "deluxe-hepatitis",
   "metadata": {
    "execution": {
     "iopub.execute_input": "2021-03-16T12:07:18.163735Z",
     "iopub.status.busy": "2021-03-16T12:07:18.163137Z",
     "iopub.status.idle": "2021-03-16T12:07:18.167865Z",
     "shell.execute_reply": "2021-03-16T12:07:18.168474Z"
    },
    "papermill": {
     "duration": 0.055332,
     "end_time": "2021-03-16T12:07:18.168599",
     "exception": false,
     "start_time": "2021-03-16T12:07:18.113267",
     "status": "completed"
    },
    "tags": []
   },
   "outputs": [],
   "source": [
    "#hide\n",
    "df_table = (pd.DataFrame(dict(Cases = dfc_cases, Deaths = dfc_deaths, PCases = dfp_cases, PDeaths = dfp_deaths))\n",
    "            .sort_values(by = ['Cases','Deaths'], ascending = [False, False])\n",
    "            .reset_index())"
   ]
  },
  {
   "cell_type": "code",
   "execution_count": 13,
   "id": "educational-chancellor",
   "metadata": {
    "execution": {
     "iopub.execute_input": "2021-03-16T12:07:18.262738Z",
     "iopub.status.busy": "2021-03-16T12:07:18.262068Z",
     "iopub.status.idle": "2021-03-16T12:07:18.271108Z",
     "shell.execute_reply": "2021-03-16T12:07:18.270534Z"
    },
    "papermill": {
     "duration": 0.066837,
     "end_time": "2021-03-16T12:07:18.271224",
     "exception": false,
     "start_time": "2021-03-16T12:07:18.204387",
     "status": "completed"
    },
    "tags": []
   },
   "outputs": [
    {
     "data": {
      "text/html": [
       "<div>\n",
       "<style scoped>\n",
       "    .dataframe tbody tr th:only-of-type {\n",
       "        vertical-align: middle;\n",
       "    }\n",
       "\n",
       "    .dataframe tbody tr th {\n",
       "        vertical-align: top;\n",
       "    }\n",
       "\n",
       "    .dataframe thead th {\n",
       "        text-align: right;\n",
       "    }\n",
       "</style>\n",
       "<table border=\"1\" class=\"dataframe\">\n",
       "  <thead>\n",
       "    <tr style=\"text-align: right;\">\n",
       "      <th></th>\n",
       "      <th>Country/Region</th>\n",
       "      <th>Cases</th>\n",
       "      <th>Deaths</th>\n",
       "      <th>PCases</th>\n",
       "      <th>PDeaths</th>\n",
       "      <th>Cases (+)</th>\n",
       "      <th>Deaths (+)</th>\n",
       "      <th>Fatality Rate</th>\n",
       "      <th>Continent</th>\n",
       "    </tr>\n",
       "  </thead>\n",
       "  <tbody>\n",
       "    <tr>\n",
       "      <th>0</th>\n",
       "      <td>US</td>\n",
       "      <td>29495424</td>\n",
       "      <td>535628</td>\n",
       "      <td>29438775</td>\n",
       "      <td>534888</td>\n",
       "      <td>56649</td>\n",
       "      <td>740</td>\n",
       "      <td>1.82</td>\n",
       "      <td>North America</td>\n",
       "    </tr>\n",
       "    <tr>\n",
       "      <th>1</th>\n",
       "      <td>Brazil</td>\n",
       "      <td>11519609</td>\n",
       "      <td>279286</td>\n",
       "      <td>11483370</td>\n",
       "      <td>278229</td>\n",
       "      <td>36239</td>\n",
       "      <td>1057</td>\n",
       "      <td>2.42</td>\n",
       "      <td>South America</td>\n",
       "    </tr>\n",
       "    <tr>\n",
       "      <th>2</th>\n",
       "      <td>India</td>\n",
       "      <td>11409831</td>\n",
       "      <td>158856</td>\n",
       "      <td>11385339</td>\n",
       "      <td>158725</td>\n",
       "      <td>24492</td>\n",
       "      <td>131</td>\n",
       "      <td>1.39</td>\n",
       "      <td>Asia</td>\n",
       "    </tr>\n",
       "    <tr>\n",
       "      <th>3</th>\n",
       "      <td>Russia</td>\n",
       "      <td>4350728</td>\n",
       "      <td>90958</td>\n",
       "      <td>4341381</td>\n",
       "      <td>90558</td>\n",
       "      <td>9347</td>\n",
       "      <td>400</td>\n",
       "      <td>2.09</td>\n",
       "      <td>Europe</td>\n",
       "    </tr>\n",
       "    <tr>\n",
       "      <th>4</th>\n",
       "      <td>United Kingdom</td>\n",
       "      <td>4276840</td>\n",
       "      <td>125817</td>\n",
       "      <td>4271710</td>\n",
       "      <td>125753</td>\n",
       "      <td>5130</td>\n",
       "      <td>64</td>\n",
       "      <td>2.94</td>\n",
       "      <td>Europe</td>\n",
       "    </tr>\n",
       "  </tbody>\n",
       "</table>\n",
       "</div>"
      ],
      "text/plain": [
       "   Country/Region     Cases  Deaths    PCases  PDeaths  Cases (+)  Deaths (+)  \\\n",
       "0              US  29495424  535628  29438775   534888      56649         740   \n",
       "1          Brazil  11519609  279286  11483370   278229      36239        1057   \n",
       "2           India  11409831  158856  11385339   158725      24492         131   \n",
       "3          Russia   4350728   90958   4341381    90558       9347         400   \n",
       "4  United Kingdom   4276840  125817   4271710   125753       5130          64   \n",
       "\n",
       "   Fatality Rate      Continent  \n",
       "0           1.82  North America  \n",
       "1           2.42  South America  \n",
       "2           1.39           Asia  \n",
       "3           2.09         Europe  \n",
       "4           2.94         Europe  "
      ]
     },
     "execution_count": 13,
     "metadata": {},
     "output_type": "execute_result"
    }
   ],
   "source": [
    "#hide\n",
    "for c in 'Cases, Deaths'.split(', '):\n",
    "    df_table[f'{c} (+)'] = (df_table[c] - df_table[f'P{c}']).clip(0)\n",
    "    #Clip ça veut dire, les chiffres negatif sont interdit\n",
    "df_table['Fatality Rate'] = (100* df_table['Deaths']/ df_table['Cases']).round(2)\n",
    "df_table['Continent'] = df_table['Country/Region'].map(mapping['map.continent'])\n",
    "df_table.head(5)"
   ]
  },
  {
   "cell_type": "code",
   "execution_count": 14,
   "id": "aboriginal-bulgaria",
   "metadata": {
    "execution": {
     "iopub.execute_input": "2021-03-16T12:07:18.353963Z",
     "iopub.status.busy": "2021-03-16T12:07:18.353409Z",
     "iopub.status.idle": "2021-03-16T12:07:18.356858Z",
     "shell.execute_reply": "2021-03-16T12:07:18.356302Z"
    },
    "papermill": {
     "duration": 0.047394,
     "end_time": "2021-03-16T12:07:18.356972",
     "exception": false,
     "start_time": "2021-03-16T12:07:18.309578",
     "status": "completed"
    },
    "tags": []
   },
   "outputs": [],
   "source": [
    "#hide\n",
    "#delete problematic countries from table\n",
    "df_table = df_table[~df_table['Country/Region'].isin(['Cape Verde', 'Cruise Ship', 'Kosovo'])]"
   ]
  },
  {
   "cell_type": "code",
   "execution_count": 15,
   "id": "fantastic-effect",
   "metadata": {
    "execution": {
     "iopub.execute_input": "2021-03-16T12:07:18.436786Z",
     "iopub.status.busy": "2021-03-16T12:07:18.436136Z",
     "iopub.status.idle": "2021-03-16T12:07:18.459251Z",
     "shell.execute_reply": "2021-03-16T12:07:18.459899Z"
    },
    "papermill": {
     "duration": 0.066627,
     "end_time": "2021-03-16T12:07:18.460068",
     "exception": false,
     "start_time": "2021-03-16T12:07:18.393441",
     "status": "completed"
    },
    "tags": []
   },
   "outputs": [
    {
     "data": {
      "text/html": [
       "<div>\n",
       "<style scoped>\n",
       "    .dataframe tbody tr th:only-of-type {\n",
       "        vertical-align: middle;\n",
       "    }\n",
       "\n",
       "    .dataframe tbody tr th {\n",
       "        vertical-align: top;\n",
       "    }\n",
       "\n",
       "    .dataframe thead th {\n",
       "        text-align: right;\n",
       "    }\n",
       "</style>\n",
       "<table border=\"1\" class=\"dataframe\">\n",
       "  <thead>\n",
       "    <tr style=\"text-align: right;\">\n",
       "      <th></th>\n",
       "      <th>Country/Region</th>\n",
       "      <th>Cases</th>\n",
       "      <th>Deaths</th>\n",
       "      <th>PCases</th>\n",
       "      <th>PDeaths</th>\n",
       "      <th>Cases (+)</th>\n",
       "      <th>Deaths (+)</th>\n",
       "      <th>Fatality Rate</th>\n",
       "      <th>Continent</th>\n",
       "    </tr>\n",
       "  </thead>\n",
       "  <tbody>\n",
       "    <tr>\n",
       "      <th>0</th>\n",
       "      <td>US</td>\n",
       "      <td>29495424</td>\n",
       "      <td>535628</td>\n",
       "      <td>29438775</td>\n",
       "      <td>534888</td>\n",
       "      <td>56649</td>\n",
       "      <td>740</td>\n",
       "      <td>1.8</td>\n",
       "      <td>North America</td>\n",
       "    </tr>\n",
       "    <tr>\n",
       "      <th>1</th>\n",
       "      <td>Brazil</td>\n",
       "      <td>11519609</td>\n",
       "      <td>279286</td>\n",
       "      <td>11483370</td>\n",
       "      <td>278229</td>\n",
       "      <td>36239</td>\n",
       "      <td>1057</td>\n",
       "      <td>2.4</td>\n",
       "      <td>South America</td>\n",
       "    </tr>\n",
       "    <tr>\n",
       "      <th>2</th>\n",
       "      <td>India</td>\n",
       "      <td>11409831</td>\n",
       "      <td>158856</td>\n",
       "      <td>11385339</td>\n",
       "      <td>158725</td>\n",
       "      <td>24492</td>\n",
       "      <td>131</td>\n",
       "      <td>1.4</td>\n",
       "      <td>Asia</td>\n",
       "    </tr>\n",
       "    <tr>\n",
       "      <th>3</th>\n",
       "      <td>Russia</td>\n",
       "      <td>4350728</td>\n",
       "      <td>90958</td>\n",
       "      <td>4341381</td>\n",
       "      <td>90558</td>\n",
       "      <td>9347</td>\n",
       "      <td>400</td>\n",
       "      <td>2.1</td>\n",
       "      <td>Europe</td>\n",
       "    </tr>\n",
       "    <tr>\n",
       "      <th>4</th>\n",
       "      <td>United Kingdom</td>\n",
       "      <td>4276840</td>\n",
       "      <td>125817</td>\n",
       "      <td>4271710</td>\n",
       "      <td>125753</td>\n",
       "      <td>5130</td>\n",
       "      <td>64</td>\n",
       "      <td>2.9</td>\n",
       "      <td>Europe</td>\n",
       "    </tr>\n",
       "  </tbody>\n",
       "</table>\n",
       "</div>"
      ],
      "text/plain": [
       "   Country/Region     Cases  Deaths    PCases  PDeaths  Cases (+)  Deaths (+)  \\\n",
       "0              US  29495424  535628  29438775   534888      56649         740   \n",
       "1          Brazil  11519609  279286  11483370   278229      36239        1057   \n",
       "2           India  11409831  158856  11385339   158725      24492         131   \n",
       "3          Russia   4350728   90958   4341381    90558       9347         400   \n",
       "4  United Kingdom   4276840  125817   4271710   125753       5130          64   \n",
       "\n",
       "   Fatality Rate      Continent  \n",
       "0            1.8  North America  \n",
       "1            2.4  South America  \n",
       "2            1.4           Asia  \n",
       "3            2.1         Europe  \n",
       "4            2.9         Europe  "
      ]
     },
     "execution_count": 15,
     "metadata": {},
     "output_type": "execute_result"
    }
   ],
   "source": [
    "#hide\n",
    "df_table = (pd.DataFrame(dict(Cases=dfc_cases, Deaths=dfc_deaths, PCases=dfp_cases, PDeaths=dfp_deaths))\n",
    "             .sort_values(by=['Cases', 'Deaths'], ascending=[False, False])\n",
    "             .reset_index())\n",
    "df_table.rename(columns={'index': 'Country/Region'}, inplace=True)\n",
    "for c in 'Cases, Deaths'.split(', '):\n",
    "    df_table[f'{c} (+)'] = (df_table[c] - df_table[f'P{c}']).clip(0)  # DATA BUG\n",
    "df_table['Fatality Rate'] = (100 * df_table['Deaths'] / df_table['Cases']).round(1)\n",
    "df_table['Continent'] = df_table['Country/Region'].map(mapping['map.continent'])\n",
    "df_table.head(5)"
   ]
  },
  {
   "cell_type": "code",
   "execution_count": 16,
   "id": "fewer-occasion",
   "metadata": {
    "execution": {
     "iopub.execute_input": "2021-03-16T12:07:18.542480Z",
     "iopub.status.busy": "2021-03-16T12:07:18.541871Z",
     "iopub.status.idle": "2021-03-16T12:07:18.544877Z",
     "shell.execute_reply": "2021-03-16T12:07:18.545432Z"
    },
    "papermill": {
     "duration": 0.048773,
     "end_time": "2021-03-16T12:07:18.545557",
     "exception": false,
     "start_time": "2021-03-16T12:07:18.496784",
     "status": "completed"
    },
    "tags": []
   },
   "outputs": [],
   "source": [
    "#hide\n",
    "#delete problematic countries from table\n",
    "df_table = df_table[~df_table['Country/Region'].isin(['Cape Verde', 'Cruise Ship', 'Kosovo'])]"
   ]
  },
  {
   "cell_type": "code",
   "execution_count": 17,
   "id": "related-center",
   "metadata": {
    "execution": {
     "iopub.execute_input": "2021-03-16T12:07:18.632877Z",
     "iopub.status.busy": "2021-03-16T12:07:18.632242Z",
     "iopub.status.idle": "2021-03-16T12:07:18.644096Z",
     "shell.execute_reply": "2021-03-16T12:07:18.644711Z"
    },
    "papermill": {
     "duration": 0.063298,
     "end_time": "2021-03-16T12:07:18.644861",
     "exception": false,
     "start_time": "2021-03-16T12:07:18.581563",
     "status": "completed"
    },
    "tags": []
   },
   "outputs": [],
   "source": [
    "#hide\n",
    "metrics = [df_table.columns[index] for index in [1,2,5,6]]\n",
    "# s_china = df_table[df_table['Country/Region'].eq('China')][metrics].sum().add_prefix('China ')\n",
    "s_us = df_table[df_table['Country/Region'].eq('US')][metrics].sum().add_prefix('US ')\n",
    "s_eu = df_table[df_table['Continent'].eq('Europe')][metrics].sum().add_prefix('EU ')\n",
    "s_ind = df_table[df_table['Country/Region'].eq('India')][metrics].sum().add_prefix('India ')\n",
    "summary = {'updated': pd.to_datetime(dt_today), 'since': pd.to_datetime(dt_yday)}\n",
    "summary = {'updated': pd.to_datetime(dt_today), 'since': pd.to_datetime(dt_yday)}\n",
    "summary = {**summary, **df_table[metrics].sum(), **s_ind, **s_us, **s_eu}"
   ]
  },
  {
   "cell_type": "code",
   "execution_count": 18,
   "id": "engaging-syndrome",
   "metadata": {
    "execution": {
     "iopub.execute_input": "2021-03-16T12:07:18.724091Z",
     "iopub.status.busy": "2021-03-16T12:07:18.723381Z",
     "iopub.status.idle": "2021-03-16T12:07:18.736396Z",
     "shell.execute_reply": "2021-03-16T12:07:18.737075Z"
    },
    "papermill": {
     "duration": 0.05447,
     "end_time": "2021-03-16T12:07:18.737209",
     "exception": false,
     "start_time": "2021-03-16T12:07:18.682739",
     "status": "completed"
    },
    "tags": []
   },
   "outputs": [],
   "source": [
    "#hide\n",
    "dft_ct_new_cases = dft_cases.groupby(COL_REGION)[dt_cols].sum().diff(axis=1).fillna(0).astype(int)"
   ]
  },
  {
   "cell_type": "code",
   "execution_count": 19,
   "id": "neutral-assignment",
   "metadata": {
    "execution": {
     "iopub.execute_input": "2021-03-16T12:07:18.819729Z",
     "iopub.status.busy": "2021-03-16T12:07:18.819160Z",
     "iopub.status.idle": "2021-03-16T12:07:18.821068Z",
     "shell.execute_reply": "2021-03-16T12:07:18.821580Z"
    },
    "papermill": {
     "duration": 0.045282,
     "end_time": "2021-03-16T12:07:18.821699",
     "exception": false,
     "start_time": "2021-03-16T12:07:18.776417",
     "status": "completed"
    },
    "tags": []
   },
   "outputs": [],
   "source": [
    "#hide\n",
    "everydaycases = dft_ct_new_cases.cumsum(axis=1)"
   ]
  },
  {
   "cell_type": "code",
   "execution_count": 20,
   "id": "parliamentary-calgary",
   "metadata": {
    "execution": {
     "iopub.execute_input": "2021-03-16T12:07:18.898462Z",
     "iopub.status.busy": "2021-03-16T12:07:18.897863Z",
     "iopub.status.idle": "2021-03-16T12:07:19.471390Z",
     "shell.execute_reply": "2021-03-16T12:07:19.470867Z"
    },
    "papermill": {
     "duration": 0.614197,
     "end_time": "2021-03-16T12:07:19.471531",
     "exception": false,
     "start_time": "2021-03-16T12:07:18.857334",
     "status": "completed"
    },
    "tags": []
   },
   "outputs": [],
   "source": [
    "#hide\n",
    "import pandas as pd\n",
    "import matplotlib.pyplot as plt\n",
    "import matplotlib.ticker as ticker\n",
    "import matplotlib.animation as animation\n",
    "from IPython.display import HTML"
   ]
  },
  {
   "cell_type": "code",
   "execution_count": 21,
   "id": "lasting-extraction",
   "metadata": {
    "execution": {
     "iopub.execute_input": "2021-03-16T12:07:19.552762Z",
     "iopub.status.busy": "2021-03-16T12:07:19.552164Z",
     "iopub.status.idle": "2021-03-16T12:07:19.557441Z",
     "shell.execute_reply": "2021-03-16T12:07:19.557996Z"
    },
    "papermill": {
     "duration": 0.049546,
     "end_time": "2021-03-16T12:07:19.558126",
     "exception": false,
     "start_time": "2021-03-16T12:07:19.508580",
     "status": "completed"
    },
    "tags": []
   },
   "outputs": [],
   "source": [
    "#hide\n",
    "t = everydaycases.stack()"
   ]
  },
  {
   "cell_type": "code",
   "execution_count": 22,
   "id": "premier-sleeve",
   "metadata": {
    "execution": {
     "iopub.execute_input": "2021-03-16T12:07:19.640984Z",
     "iopub.status.busy": "2021-03-16T12:07:19.640393Z",
     "iopub.status.idle": "2021-03-16T12:07:19.648836Z",
     "shell.execute_reply": "2021-03-16T12:07:19.649308Z"
    },
    "papermill": {
     "duration": 0.052037,
     "end_time": "2021-03-16T12:07:19.649445",
     "exception": false,
     "start_time": "2021-03-16T12:07:19.597408",
     "status": "completed"
    },
    "tags": []
   },
   "outputs": [],
   "source": [
    "#hide\n",
    "g = t.reset_index(['Country/Region'])"
   ]
  },
  {
   "cell_type": "code",
   "execution_count": 23,
   "id": "distributed-pittsburgh",
   "metadata": {
    "execution": {
     "iopub.execute_input": "2021-03-16T12:07:19.730798Z",
     "iopub.status.busy": "2021-03-16T12:07:19.730028Z",
     "iopub.status.idle": "2021-03-16T12:07:19.732617Z",
     "shell.execute_reply": "2021-03-16T12:07:19.732145Z"
    },
    "papermill": {
     "duration": 0.045669,
     "end_time": "2021-03-16T12:07:19.732720",
     "exception": false,
     "start_time": "2021-03-16T12:07:19.687051",
     "status": "completed"
    },
    "tags": []
   },
   "outputs": [],
   "source": [
    "#hide\n",
    "g.index.name = 'date'"
   ]
  },
  {
   "cell_type": "code",
   "execution_count": 24,
   "id": "naked-donor",
   "metadata": {
    "execution": {
     "iopub.execute_input": "2021-03-16T12:07:19.810178Z",
     "iopub.status.busy": "2021-03-16T12:07:19.809558Z",
     "iopub.status.idle": "2021-03-16T12:07:19.811561Z",
     "shell.execute_reply": "2021-03-16T12:07:19.812222Z"
    },
    "papermill": {
     "duration": 0.041833,
     "end_time": "2021-03-16T12:07:19.812347",
     "exception": false,
     "start_time": "2021-03-16T12:07:19.770514",
     "status": "completed"
    },
    "tags": []
   },
   "outputs": [],
   "source": [
    "# #hide\n",
    "# g = g.reset_index(['date'])"
   ]
  },
  {
   "cell_type": "code",
   "execution_count": 25,
   "id": "incomplete-mustang",
   "metadata": {
    "execution": {
     "iopub.execute_input": "2021-03-16T12:07:19.890255Z",
     "iopub.status.busy": "2021-03-16T12:07:19.889526Z",
     "iopub.status.idle": "2021-03-16T12:07:19.892008Z",
     "shell.execute_reply": "2021-03-16T12:07:19.892463Z"
    },
    "papermill": {
     "duration": 0.04376,
     "end_time": "2021-03-16T12:07:19.892592",
     "exception": false,
     "start_time": "2021-03-16T12:07:19.848832",
     "status": "completed"
    },
    "tags": []
   },
   "outputs": [],
   "source": [
    "#hide\n",
    "# g.head()"
   ]
  },
  {
   "cell_type": "code",
   "execution_count": 26,
   "id": "specific-kruger",
   "metadata": {
    "execution": {
     "iopub.execute_input": "2021-03-16T12:07:19.974550Z",
     "iopub.status.busy": "2021-03-16T12:07:19.973924Z",
     "iopub.status.idle": "2021-03-16T12:07:19.976382Z",
     "shell.execute_reply": "2021-03-16T12:07:19.975839Z"
    },
    "papermill": {
     "duration": 0.045515,
     "end_time": "2021-03-16T12:07:19.976497",
     "exception": false,
     "start_time": "2021-03-16T12:07:19.930982",
     "status": "completed"
    },
    "tags": []
   },
   "outputs": [],
   "source": [
    "#hide\n",
    "# g.columns = ['date','country','cases']"
   ]
  },
  {
   "cell_type": "code",
   "execution_count": 27,
   "id": "tender-conversion",
   "metadata": {
    "execution": {
     "iopub.execute_input": "2021-03-16T12:07:20.065676Z",
     "iopub.status.busy": "2021-03-16T12:07:20.064992Z",
     "iopub.status.idle": "2021-03-16T12:07:20.067752Z",
     "shell.execute_reply": "2021-03-16T12:07:20.067191Z"
    },
    "papermill": {
     "duration": 0.053778,
     "end_time": "2021-03-16T12:07:20.067929",
     "exception": false,
     "start_time": "2021-03-16T12:07:20.014151",
     "status": "completed"
    },
    "tags": []
   },
   "outputs": [],
   "source": [
    "#hide\n",
    "# g['continent'] = g.country"
   ]
  },
  {
   "cell_type": "code",
   "execution_count": 28,
   "id": "substantial-wilderness",
   "metadata": {
    "execution": {
     "iopub.execute_input": "2021-03-16T12:07:20.151475Z",
     "iopub.status.busy": "2021-03-16T12:07:20.150641Z",
     "iopub.status.idle": "2021-03-16T12:07:20.152945Z",
     "shell.execute_reply": "2021-03-16T12:07:20.153399Z"
    },
    "papermill": {
     "duration": 0.043601,
     "end_time": "2021-03-16T12:07:20.153547",
     "exception": false,
     "start_time": "2021-03-16T12:07:20.109946",
     "status": "completed"
    },
    "tags": []
   },
   "outputs": [],
   "source": [
    "#hide\n",
    "# cols = list(g.columns.values)"
   ]
  },
  {
   "cell_type": "code",
   "execution_count": 29,
   "id": "solved-farming",
   "metadata": {
    "execution": {
     "iopub.execute_input": "2021-03-16T12:07:20.235562Z",
     "iopub.status.busy": "2021-03-16T12:07:20.234737Z",
     "iopub.status.idle": "2021-03-16T12:07:20.237277Z",
     "shell.execute_reply": "2021-03-16T12:07:20.236807Z"
    },
    "papermill": {
     "duration": 0.044599,
     "end_time": "2021-03-16T12:07:20.237389",
     "exception": false,
     "start_time": "2021-03-16T12:07:20.192790",
     "status": "completed"
    },
    "tags": []
   },
   "outputs": [],
   "source": [
    "#hide\n",
    "# cols.insert(0, cols.pop())"
   ]
  },
  {
   "cell_type": "code",
   "execution_count": 30,
   "id": "executed-adoption",
   "metadata": {
    "execution": {
     "iopub.execute_input": "2021-03-16T12:07:20.317837Z",
     "iopub.status.busy": "2021-03-16T12:07:20.317239Z",
     "iopub.status.idle": "2021-03-16T12:07:20.319636Z",
     "shell.execute_reply": "2021-03-16T12:07:20.319115Z"
    },
    "papermill": {
     "duration": 0.044848,
     "end_time": "2021-03-16T12:07:20.319810",
     "exception": false,
     "start_time": "2021-03-16T12:07:20.274962",
     "status": "completed"
    },
    "tags": []
   },
   "outputs": [],
   "source": [
    "#hide\n",
    "# g = g[cols]"
   ]
  },
  {
   "cell_type": "code",
   "execution_count": 31,
   "id": "subject-dublin",
   "metadata": {
    "execution": {
     "iopub.execute_input": "2021-03-16T12:07:20.397539Z",
     "iopub.status.busy": "2021-03-16T12:07:20.396911Z",
     "iopub.status.idle": "2021-03-16T12:07:20.399293Z",
     "shell.execute_reply": "2021-03-16T12:07:20.399843Z"
    },
    "papermill": {
     "duration": 0.0434,
     "end_time": "2021-03-16T12:07:20.399965",
     "exception": false,
     "start_time": "2021-03-16T12:07:20.356565",
     "status": "completed"
    },
    "tags": []
   },
   "outputs": [],
   "source": [
    "#hide\n",
    "# g['continent'] = g['continent'].map(mapping['map.continent'])"
   ]
  },
  {
   "cell_type": "code",
   "execution_count": 32,
   "id": "freelance-scout",
   "metadata": {
    "execution": {
     "iopub.execute_input": "2021-03-16T12:07:20.479286Z",
     "iopub.status.busy": "2021-03-16T12:07:20.478759Z",
     "iopub.status.idle": "2021-03-16T12:07:20.481086Z",
     "shell.execute_reply": "2021-03-16T12:07:20.480571Z"
    },
    "papermill": {
     "duration": 0.041772,
     "end_time": "2021-03-16T12:07:20.481186",
     "exception": false,
     "start_time": "2021-03-16T12:07:20.439414",
     "status": "completed"
    },
    "tags": []
   },
   "outputs": [],
   "source": [
    "#hide\n",
    "# g.head()"
   ]
  },
  {
   "cell_type": "code",
   "execution_count": 33,
   "id": "limited-engine",
   "metadata": {
    "execution": {
     "iopub.execute_input": "2021-03-16T12:07:20.554551Z",
     "iopub.status.busy": "2021-03-16T12:07:20.553886Z",
     "iopub.status.idle": "2021-03-16T12:07:20.555943Z",
     "shell.execute_reply": "2021-03-16T12:07:20.556463Z"
    },
    "papermill": {
     "duration": 0.042354,
     "end_time": "2021-03-16T12:07:20.556585",
     "exception": false,
     "start_time": "2021-03-16T12:07:20.514231",
     "status": "completed"
    },
    "tags": []
   },
   "outputs": [],
   "source": [
    "# hide\n",
    "# g['date'] = g['date'].astype('datetime64[ns]')"
   ]
  },
  {
   "cell_type": "code",
   "execution_count": 34,
   "id": "sophisticated-supervisor",
   "metadata": {
    "execution": {
     "iopub.execute_input": "2021-03-16T12:07:20.632334Z",
     "iopub.status.busy": "2021-03-16T12:07:20.631685Z",
     "iopub.status.idle": "2021-03-16T12:07:20.633963Z",
     "shell.execute_reply": "2021-03-16T12:07:20.633374Z"
    },
    "papermill": {
     "duration": 0.042036,
     "end_time": "2021-03-16T12:07:20.634076",
     "exception": false,
     "start_time": "2021-03-16T12:07:20.592040",
     "status": "completed"
    },
    "tags": []
   },
   "outputs": [],
   "source": [
    "#hide\n",
    "# g['date'] = g.date.dt.dayofyear"
   ]
  },
  {
   "cell_type": "code",
   "execution_count": 35,
   "id": "inside-dubai",
   "metadata": {
    "execution": {
     "iopub.execute_input": "2021-03-16T12:07:20.715320Z",
     "iopub.status.busy": "2021-03-16T12:07:20.714669Z",
     "iopub.status.idle": "2021-03-16T12:07:20.716957Z",
     "shell.execute_reply": "2021-03-16T12:07:20.716429Z"
    },
    "papermill": {
     "duration": 0.047016,
     "end_time": "2021-03-16T12:07:20.717079",
     "exception": false,
     "start_time": "2021-03-16T12:07:20.670063",
     "status": "completed"
    },
    "tags": []
   },
   "outputs": [],
   "source": [
    "#hide\n",
    "# g = g.rename(columns= {'continent':'group','country':'name','cases':'value'})"
   ]
  },
  {
   "cell_type": "code",
   "execution_count": 36,
   "id": "fleet-motorcycle",
   "metadata": {
    "execution": {
     "iopub.execute_input": "2021-03-16T12:07:20.799171Z",
     "iopub.status.busy": "2021-03-16T12:07:20.798503Z",
     "iopub.status.idle": "2021-03-16T12:07:20.801140Z",
     "shell.execute_reply": "2021-03-16T12:07:20.800645Z"
    },
    "papermill": {
     "duration": 0.043503,
     "end_time": "2021-03-16T12:07:20.801254",
     "exception": false,
     "start_time": "2021-03-16T12:07:20.757751",
     "status": "completed"
    },
    "tags": []
   },
   "outputs": [],
   "source": [
    "#hide\n",
    "# cols = ['name','group','day','value']"
   ]
  },
  {
   "cell_type": "code",
   "execution_count": 37,
   "id": "continued-sleeping",
   "metadata": {
    "execution": {
     "iopub.execute_input": "2021-03-16T12:07:20.882597Z",
     "iopub.status.busy": "2021-03-16T12:07:20.882018Z",
     "iopub.status.idle": "2021-03-16T12:07:20.884312Z",
     "shell.execute_reply": "2021-03-16T12:07:20.883626Z"
    },
    "papermill": {
     "duration": 0.04652,
     "end_time": "2021-03-16T12:07:20.884427",
     "exception": false,
     "start_time": "2021-03-16T12:07:20.837907",
     "status": "completed"
    },
    "tags": []
   },
   "outputs": [],
   "source": [
    "#hide\n",
    "# g.rename(columns= {'date':'day'},inplace = True)"
   ]
  },
  {
   "cell_type": "code",
   "execution_count": 38,
   "id": "major-fight",
   "metadata": {
    "execution": {
     "iopub.execute_input": "2021-03-16T12:07:20.967319Z",
     "iopub.status.busy": "2021-03-16T12:07:20.966759Z",
     "iopub.status.idle": "2021-03-16T12:07:20.968543Z",
     "shell.execute_reply": "2021-03-16T12:07:20.969025Z"
    },
    "papermill": {
     "duration": 0.047634,
     "end_time": "2021-03-16T12:07:20.969151",
     "exception": false,
     "start_time": "2021-03-16T12:07:20.921517",
     "status": "completed"
    },
    "tags": []
   },
   "outputs": [],
   "source": [
    "#hide\n",
    "# g = g[cols]"
   ]
  },
  {
   "cell_type": "code",
   "execution_count": 39,
   "id": "structured-mobile",
   "metadata": {
    "execution": {
     "iopub.execute_input": "2021-03-16T12:07:21.049175Z",
     "iopub.status.busy": "2021-03-16T12:07:21.048545Z",
     "iopub.status.idle": "2021-03-16T12:07:21.050931Z",
     "shell.execute_reply": "2021-03-16T12:07:21.050255Z"
    },
    "papermill": {
     "duration": 0.045825,
     "end_time": "2021-03-16T12:07:21.051145",
     "exception": false,
     "start_time": "2021-03-16T12:07:21.005320",
     "status": "completed"
    },
    "tags": []
   },
   "outputs": [],
   "source": [
    "# #hide\n",
    "# g = g[g.group.notna()]"
   ]
  },
  {
   "cell_type": "code",
   "execution_count": 40,
   "id": "determined-closing",
   "metadata": {
    "execution": {
     "iopub.execute_input": "2021-03-16T12:07:21.132830Z",
     "iopub.status.busy": "2021-03-16T12:07:21.132093Z",
     "iopub.status.idle": "2021-03-16T12:07:21.134118Z",
     "shell.execute_reply": "2021-03-16T12:07:21.134566Z"
    },
    "papermill": {
     "duration": 0.043169,
     "end_time": "2021-03-16T12:07:21.134724",
     "exception": false,
     "start_time": "2021-03-16T12:07:21.091555",
     "status": "completed"
    },
    "tags": []
   },
   "outputs": [],
   "source": [
    "# #hide\n",
    "# colors = dict(zip(\n",
    "#     [\"Oceania\", \"Europe\", \"Asia\", \"South America\", \"Middle East\", \"North America\", \"Africa\"],\n",
    "#     [\"#adb0ff\", \"#ffb3ff\", \"#90d595\", \"#e48381\", \"#aafbff\", \"#f7bb5f\", \"#eafb50\"]\n",
    "# ))\n",
    "# group_lk = g.set_index('name')['group'].to_dict()"
   ]
  },
  {
   "cell_type": "code",
   "execution_count": null,
   "id": "gross-drinking",
   "metadata": {
    "papermill": {
     "duration": 0.038359,
     "end_time": "2021-03-16T12:07:21.209589",
     "exception": false,
     "start_time": "2021-03-16T12:07:21.171230",
     "status": "completed"
    },
    "tags": []
   },
   "outputs": [],
   "source": []
  },
  {
   "cell_type": "code",
   "execution_count": 41,
   "id": "subject-macintosh",
   "metadata": {
    "execution": {
     "iopub.execute_input": "2021-03-16T12:07:21.289936Z",
     "iopub.status.busy": "2021-03-16T12:07:21.289205Z",
     "iopub.status.idle": "2021-03-16T12:07:21.291886Z",
     "shell.execute_reply": "2021-03-16T12:07:21.291282Z"
    },
    "papermill": {
     "duration": 0.045416,
     "end_time": "2021-03-16T12:07:21.292004",
     "exception": false,
     "start_time": "2021-03-16T12:07:21.246588",
     "status": "completed"
    },
    "tags": []
   },
   "outputs": [],
   "source": [
    "# #hide\n",
    "# fig, ax = plt.subplots(figsize=(15, 8))\n",
    "\n",
    "# def draw_barchart(current_day):\n",
    "#     dff = g[g['day'].eq(current_day)].sort_values(by='value', ascending=True).tail(10)\n",
    "#     ax.clear()\n",
    "#     ax.barh(dff['name'], dff['value'], color=[colors[group_lk[x]] for x in dff['name']])\n",
    "#     dx = dff['value'].max() / 200\n",
    "    \n",
    "#     for i, (value, name) in enumerate(zip(dff['value'], dff['name'])):\n",
    "#         ax.text(value-dx, i,     name,           size=14, weight=600, ha='right', va='bottom')\n",
    "#         ax.text(value-dx, i-.25, group_lk[name], size=10, color='#444444', ha='right', va='baseline')\n",
    "#         ax.text(value+dx, i,     f'{value:,.0f}',  size=14, ha='left',  va='center')\n",
    "#     ax.text(1, 0.4, current_day, transform=ax.transAxes, color='#777777', size=46, ha='right', weight=800)\n",
    "#     ax.text(0, 1.06, 'Population (thousands)', transform=ax.transAxes, size=12, color='#777777')\n",
    "#     ax.xaxis.set_major_formatter(ticker.StrMethodFormatter('{x:,.0f}'))\n",
    "#     ax.xaxis.set_ticks_position('top')\n",
    "#     ax.tick_params(axis='x', colors='#777777', labelsize=12)\n",
    "#     ax.set_yticks([])\n",
    "#     ax.margins(0, 0.01)\n",
    "#     ax.grid(which='major', axis='x', linestyle='-')\n",
    "#     ax.set_axisbelow(True)\n",
    "    \n",
    "#     ax.text(0, 1.15, 'Coronavirus',\n",
    "#             transform=ax.transAxes, size=24, weight=600, ha='left', va='top')\n",
    "# #     ax.text(1, 0, 'by @pratapvardhan; credit @jburnmurdoch', transform=ax.transAxes, color='#777777', ha='right',\n",
    "# #             bbox=dict(facecolor='white', alpha=0.8, edgecolor='white'))\n",
    "#     plt.box(False)"
   ]
  },
  {
   "cell_type": "code",
   "execution_count": 42,
   "id": "sexual-wages",
   "metadata": {
    "execution": {
     "iopub.execute_input": "2021-03-16T12:07:21.368440Z",
     "iopub.status.busy": "2021-03-16T12:07:21.367862Z",
     "iopub.status.idle": "2021-03-16T12:07:21.370378Z",
     "shell.execute_reply": "2021-03-16T12:07:21.369876Z"
    },
    "papermill": {
     "duration": 0.042059,
     "end_time": "2021-03-16T12:07:21.370509",
     "exception": false,
     "start_time": "2021-03-16T12:07:21.328450",
     "status": "completed"
    },
    "tags": []
   },
   "outputs": [],
   "source": [
    "# #hide_input\n",
    "# fig, ax = plt.subplots(figsize=(15, 8))\n",
    "# animator = animation.FuncAnimation(fig, draw_barchart, frames=range(g.day.values.min(), g.day.values.max()))\n",
    "# HTML(animator.to_jshtml())\n",
    "# # or use animator.to_html5_video() or animator.save() "
   ]
  },
  {
   "cell_type": "code",
   "execution_count": null,
   "id": "australian-container",
   "metadata": {
    "papermill": {
     "duration": 0.034954,
     "end_time": "2021-03-16T12:07:21.444676",
     "exception": false,
     "start_time": "2021-03-16T12:07:21.409722",
     "status": "completed"
    },
    "tags": []
   },
   "outputs": [],
   "source": []
  },
  {
   "cell_type": "code",
   "execution_count": null,
   "id": "mediterranean-pontiac",
   "metadata": {
    "papermill": {
     "duration": 0.03682,
     "end_time": "2021-03-16T12:07:21.518010",
     "exception": false,
     "start_time": "2021-03-16T12:07:21.481190",
     "status": "completed"
    },
    "tags": []
   },
   "outputs": [],
   "source": []
  },
  {
   "cell_type": "code",
   "execution_count": null,
   "id": "aging-legislature",
   "metadata": {
    "papermill": {
     "duration": 0.039143,
     "end_time": "2021-03-16T12:07:21.595964",
     "exception": false,
     "start_time": "2021-03-16T12:07:21.556821",
     "status": "completed"
    },
    "tags": []
   },
   "outputs": [],
   "source": []
  }
 ],
 "metadata": {
  "kernelspec": {
   "display_name": "Python 3",
   "language": "python",
   "name": "python3"
  },
  "language_info": {
   "codemirror_mode": {
    "name": "ipython",
    "version": 3
   },
   "file_extension": ".py",
   "mimetype": "text/x-python",
   "name": "python",
   "nbconvert_exporter": "python",
   "pygments_lexer": "ipython3",
   "version": "3.6.13"
  },
  "papermill": {
   "duration": 6.564995,
   "end_time": "2021-03-16T12:07:21.943036",
   "environment_variables": {},
   "exception": null,
   "input_path": "2020-03-21-covid19exp.ipynb",
   "output_path": "2020-03-21-covid19exp.ipynb",
   "parameters": {},
   "start_time": "2021-03-16T12:07:15.378041",
   "version": "2.0.0"
  }
 },
 "nbformat": 4,
 "nbformat_minor": 5
}