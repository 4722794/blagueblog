{
 "cells": [
  {
   "cell_type": "markdown",
   "id": "muslim-click",
   "metadata": {
    "papermill": {
     "duration": 0.045321,
     "end_time": "2021-10-12T12:12:25.378826",
     "exception": false,
     "start_time": "2021-10-12T12:12:25.333505",
     "status": "completed"
    },
    "tags": []
   },
   "source": [
    "# COVID-19 Case Race\n",
    "> A race chart to see rising cases around the world\n",
    "\n",
    "- author: Hargun Oberoi\n",
    "- image: images/covid-overview.png\n",
    "- hide: false\n",
    "- badges: false"
   ]
  },
  {
   "cell_type": "code",
   "execution_count": 1,
   "id": "proof-material",
   "metadata": {
    "execution": {
     "iopub.execute_input": "2021-10-12T12:12:25.468991Z",
     "iopub.status.busy": "2021-10-12T12:12:25.468286Z",
     "iopub.status.idle": "2021-10-12T12:12:25.872918Z",
     "shell.execute_reply": "2021-10-12T12:12:25.872313Z"
    },
    "papermill": {
     "duration": 0.452404,
     "end_time": "2021-10-12T12:12:25.873096",
     "exception": false,
     "start_time": "2021-10-12T12:12:25.420692",
     "status": "completed"
    },
    "tags": []
   },
   "outputs": [],
   "source": [
    "#hide\n",
    "import numpy as np\n",
    "import pandas as pd\n",
    "from jinja2 import Template\n",
    "from IPython.display import HTML"
   ]
  },
  {
   "cell_type": "code",
   "execution_count": 2,
   "id": "developed-terminology",
   "metadata": {
    "execution": {
     "iopub.execute_input": "2021-10-12T12:12:25.961410Z",
     "iopub.status.busy": "2021-10-12T12:12:25.960735Z",
     "iopub.status.idle": "2021-10-12T12:12:25.962868Z",
     "shell.execute_reply": "2021-10-12T12:12:25.963463Z"
    },
    "papermill": {
     "duration": 0.049594,
     "end_time": "2021-10-12T12:12:25.963617",
     "exception": false,
     "start_time": "2021-10-12T12:12:25.914023",
     "status": "completed"
    },
    "tags": []
   },
   "outputs": [],
   "source": [
    "#hide\n",
    "\n",
    "# FETCH\n",
    "base_url = 'https://raw.githubusercontent.com/pratapvardhan/notebooks/master/covid19/'\n",
    "paths = {\n",
    "    'mapping': base_url + 'mapping_countries.csv',\n",
    "    'overview': base_url + 'overview.tpl'\n",
    "}"
   ]
  },
  {
   "cell_type": "code",
   "execution_count": 3,
   "id": "dynamic-saver",
   "metadata": {
    "execution": {
     "iopub.execute_input": "2021-10-12T12:12:26.056060Z",
     "iopub.status.busy": "2021-10-12T12:12:26.050711Z",
     "iopub.status.idle": "2021-10-12T12:12:26.060097Z",
     "shell.execute_reply": "2021-10-12T12:12:26.060771Z"
    },
    "papermill": {
     "duration": 0.057778,
     "end_time": "2021-10-12T12:12:26.060930",
     "exception": false,
     "start_time": "2021-10-12T12:12:26.003152",
     "status": "completed"
    },
    "tags": []
   },
   "outputs": [
    {
     "data": {
      "text/plain": [
       "'https://raw.githubusercontent.com/pratapvardhan/notebooks/master/covid19/mapping_countries.csv'"
      ]
     },
     "execution_count": 3,
     "metadata": {},
     "output_type": "execute_result"
    }
   ],
   "source": [
    "#hide\n",
    "paths['mapping']"
   ]
  },
  {
   "cell_type": "code",
   "execution_count": 4,
   "id": "urban-software",
   "metadata": {
    "execution": {
     "iopub.execute_input": "2021-10-12T12:12:26.156831Z",
     "iopub.status.busy": "2021-10-12T12:12:26.156244Z",
     "iopub.status.idle": "2021-10-12T12:12:26.159088Z",
     "shell.execute_reply": "2021-10-12T12:12:26.158398Z"
    },
    "papermill": {
     "duration": 0.049674,
     "end_time": "2021-10-12T12:12:26.159227",
     "exception": false,
     "start_time": "2021-10-12T12:12:26.109553",
     "status": "completed"
    },
    "tags": []
   },
   "outputs": [],
   "source": [
    "#hide\n",
    "def get_mappings(url):\n",
    "    df = pd.read_csv(url)\n",
    "    return {\n",
    "        'df': df,\n",
    "        'replace.country': dict(df.dropna(subset=['Name']).set_index('Country')['Name']),\n",
    "        'map.continent': dict(df.set_index('Name')['Continent'])\n",
    "    }"
   ]
  },
  {
   "cell_type": "code",
   "execution_count": 5,
   "id": "intimate-machinery",
   "metadata": {
    "execution": {
     "iopub.execute_input": "2021-10-12T12:12:26.246268Z",
     "iopub.status.busy": "2021-10-12T12:12:26.244766Z",
     "iopub.status.idle": "2021-10-12T12:12:26.290617Z",
     "shell.execute_reply": "2021-10-12T12:12:26.291145Z"
    },
    "papermill": {
     "duration": 0.091769,
     "end_time": "2021-10-12T12:12:26.291308",
     "exception": false,
     "start_time": "2021-10-12T12:12:26.199539",
     "status": "completed"
    },
    "tags": []
   },
   "outputs": [],
   "source": [
    "#hide\n",
    "mapping = get_mappings(paths['mapping'])"
   ]
  },
  {
   "cell_type": "code",
   "execution_count": 6,
   "id": "certified-tactics",
   "metadata": {
    "execution": {
     "iopub.execute_input": "2021-10-12T12:12:26.380432Z",
     "iopub.status.busy": "2021-10-12T12:12:26.379588Z",
     "iopub.status.idle": "2021-10-12T12:12:26.387036Z",
     "shell.execute_reply": "2021-10-12T12:12:26.387644Z"
    },
    "papermill": {
     "duration": 0.053729,
     "end_time": "2021-10-12T12:12:26.387819",
     "exception": false,
     "start_time": "2021-10-12T12:12:26.334090",
     "status": "completed"
    },
    "tags": []
   },
   "outputs": [],
   "source": [
    "#hide\n",
    "def get_template(path):\n",
    "    from urllib.parse import urlparse\n",
    "    if bool(urlparse(path).netloc):\n",
    "        from urllib.request import urlopen\n",
    "        return urlopen(path).read().decode('utf8')\n",
    "    return open(path).read()"
   ]
  },
  {
   "cell_type": "code",
   "execution_count": 7,
   "id": "realistic-blast",
   "metadata": {
    "execution": {
     "iopub.execute_input": "2021-10-12T12:12:26.471931Z",
     "iopub.status.busy": "2021-10-12T12:12:26.471145Z",
     "iopub.status.idle": "2021-10-12T12:12:26.476580Z",
     "shell.execute_reply": "2021-10-12T12:12:26.477141Z"
    },
    "papermill": {
     "duration": 0.048945,
     "end_time": "2021-10-12T12:12:26.477431",
     "exception": false,
     "start_time": "2021-10-12T12:12:26.428486",
     "status": "completed"
    },
    "tags": []
   },
   "outputs": [],
   "source": [
    "#hide\n",
    "def get_frame(name):\n",
    "    url = (\n",
    "        'https://raw.githubusercontent.com/CSSEGISandData/COVID-19/master/csse_covid_19_data/'\n",
    "        f'csse_covid_19_time_series/time_series_covid19_{name}_global.csv')\n",
    "    df = pd.read_csv(url)\n",
    "    # rename countries\n",
    "    df['Country/Region'] = df['Country/Region'].replace(mapping['replace.country'])\n",
    "    return df"
   ]
  },
  {
   "cell_type": "code",
   "execution_count": 8,
   "id": "affiliated-characterization",
   "metadata": {
    "execution": {
     "iopub.execute_input": "2021-10-12T12:12:26.565681Z",
     "iopub.status.busy": "2021-10-12T12:12:26.564954Z",
     "iopub.status.idle": "2021-10-12T12:12:26.570321Z",
     "shell.execute_reply": "2021-10-12T12:12:26.571633Z"
    },
    "papermill": {
     "duration": 0.052483,
     "end_time": "2021-10-12T12:12:26.572071",
     "exception": false,
     "start_time": "2021-10-12T12:12:26.519588",
     "status": "completed"
    },
    "tags": []
   },
   "outputs": [],
   "source": [
    "#hide\n",
    "def get_dates(df):\n",
    "    dt_cols = df.columns[~df.columns.isin(['Province/State', 'Country/Region', 'Lat', 'Long'])]\n",
    "    LAST_DATE_I = -1\n",
    "    # sometimes last column may be empty, then go backwards\n",
    "    for i in range(-1, -len(dt_cols), -1):\n",
    "        if not df[dt_cols[i]].fillna(0).eq(0).all():\n",
    "            LAST_DATE_I = i\n",
    "            break\n",
    "    return LAST_DATE_I, dt_cols"
   ]
  },
  {
   "cell_type": "code",
   "execution_count": 9,
   "id": "recent-optimization",
   "metadata": {
    "execution": {
     "iopub.execute_input": "2021-10-12T12:12:26.660835Z",
     "iopub.status.busy": "2021-10-12T12:12:26.659181Z",
     "iopub.status.idle": "2021-10-12T12:12:27.099771Z",
     "shell.execute_reply": "2021-10-12T12:12:27.099142Z"
    },
    "papermill": {
     "duration": 0.485612,
     "end_time": "2021-10-12T12:12:27.099925",
     "exception": false,
     "start_time": "2021-10-12T12:12:26.614313",
     "status": "completed"
    },
    "tags": []
   },
   "outputs": [],
   "source": [
    "#hide\n",
    "COL_REGION = 'Country/Region'\n",
    "# Confirmed, Recovered, Deaths\n",
    "df = get_frame('confirmed')\n",
    "# dft_: timeseries, dfc_: today country agg\n",
    "dft_cases = df\n",
    "dft_deaths = get_frame('deaths')\n",
    "dft_recovered = get_frame('recovered')\n",
    "LAST_DATE_I, dt_cols = get_dates(df)"
   ]
  },
  {
   "cell_type": "code",
   "execution_count": 10,
   "id": "absolute-copper",
   "metadata": {
    "execution": {
     "iopub.execute_input": "2021-10-12T12:12:27.192145Z",
     "iopub.status.busy": "2021-10-12T12:12:27.190145Z",
     "iopub.status.idle": "2021-10-12T12:12:27.193052Z",
     "shell.execute_reply": "2021-10-12T12:12:27.193652Z"
    },
    "papermill": {
     "duration": 0.051965,
     "end_time": "2021-10-12T12:12:27.193810",
     "exception": false,
     "start_time": "2021-10-12T12:12:27.141845",
     "status": "completed"
    },
    "tags": []
   },
   "outputs": [],
   "source": [
    "#hide\n",
    "LAST_DATE_I, dt_cols = get_dates(df)\n",
    "dt_today =dt_cols[LAST_DATE_I]\n",
    "# dt_5day = dt_cols[LAST_DATE_I - 5]\n",
    "dt_yday = dt_cols[LAST_DATE_I - 1]"
   ]
  },
  {
   "cell_type": "code",
   "execution_count": 11,
   "id": "restricted-sheriff",
   "metadata": {
    "execution": {
     "iopub.execute_input": "2021-10-12T12:12:27.281169Z",
     "iopub.status.busy": "2021-10-12T12:12:27.280475Z",
     "iopub.status.idle": "2021-10-12T12:12:27.293720Z",
     "shell.execute_reply": "2021-10-12T12:12:27.292304Z"
    },
    "papermill": {
     "duration": 0.061363,
     "end_time": "2021-10-12T12:12:27.294001",
     "exception": false,
     "start_time": "2021-10-12T12:12:27.232638",
     "status": "completed"
    },
    "tags": []
   },
   "outputs": [],
   "source": [
    "#hide\n",
    "dfc_cases = dft_cases.groupby(COL_REGION)[dt_today].sum()\n",
    "dfc_deaths = dft_deaths.groupby(COL_REGION)[dt_today].sum()\n",
    "# dfp_cases = dft_cases.groupby(COL_REGION)[dt_5day].sum()\n",
    "# dfp_deaths = dft_deaths.groupby(COL_REGION)[dt_5day].sum()\n",
    "dfp_cases = dft_cases.groupby(COL_REGION)[dt_yday].sum()\n",
    "dfp_deaths = dft_deaths.groupby(COL_REGION)[dt_yday].sum()"
   ]
  },
  {
   "cell_type": "code",
   "execution_count": 12,
   "id": "deluxe-hepatitis",
   "metadata": {
    "execution": {
     "iopub.execute_input": "2021-10-12T12:12:27.384100Z",
     "iopub.status.busy": "2021-10-12T12:12:27.381927Z",
     "iopub.status.idle": "2021-10-12T12:12:27.386524Z",
     "shell.execute_reply": "2021-10-12T12:12:27.387272Z"
    },
    "papermill": {
     "duration": 0.051707,
     "end_time": "2021-10-12T12:12:27.387454",
     "exception": false,
     "start_time": "2021-10-12T12:12:27.335747",
     "status": "completed"
    },
    "tags": []
   },
   "outputs": [],
   "source": [
    "#hide\n",
    "df_table = (pd.DataFrame(dict(Cases = dfc_cases, Deaths = dfc_deaths, PCases = dfp_cases, PDeaths = dfp_deaths))\n",
    "            .sort_values(by = ['Cases','Deaths'], ascending = [False, False])\n",
    "            .reset_index())"
   ]
  },
  {
   "cell_type": "code",
   "execution_count": 13,
   "id": "educational-chancellor",
   "metadata": {
    "execution": {
     "iopub.execute_input": "2021-10-12T12:12:27.494320Z",
     "iopub.status.busy": "2021-10-12T12:12:27.488414Z",
     "iopub.status.idle": "2021-10-12T12:12:27.503737Z",
     "shell.execute_reply": "2021-10-12T12:12:27.504979Z"
    },
    "papermill": {
     "duration": 0.078785,
     "end_time": "2021-10-12T12:12:27.505372",
     "exception": false,
     "start_time": "2021-10-12T12:12:27.426587",
     "status": "completed"
    },
    "tags": []
   },
   "outputs": [
    {
     "data": {
      "text/html": [
       "<div>\n",
       "<style scoped>\n",
       "    .dataframe tbody tr th:only-of-type {\n",
       "        vertical-align: middle;\n",
       "    }\n",
       "\n",
       "    .dataframe tbody tr th {\n",
       "        vertical-align: top;\n",
       "    }\n",
       "\n",
       "    .dataframe thead th {\n",
       "        text-align: right;\n",
       "    }\n",
       "</style>\n",
       "<table border=\"1\" class=\"dataframe\">\n",
       "  <thead>\n",
       "    <tr style=\"text-align: right;\">\n",
       "      <th></th>\n",
       "      <th>Country/Region</th>\n",
       "      <th>Cases</th>\n",
       "      <th>Deaths</th>\n",
       "      <th>PCases</th>\n",
       "      <th>PDeaths</th>\n",
       "      <th>Cases (+)</th>\n",
       "      <th>Deaths (+)</th>\n",
       "      <th>Fatality Rate</th>\n",
       "      <th>Continent</th>\n",
       "    </tr>\n",
       "  </thead>\n",
       "  <tbody>\n",
       "    <tr>\n",
       "      <th>0</th>\n",
       "      <td>US</td>\n",
       "      <td>44455949</td>\n",
       "      <td>714055</td>\n",
       "      <td>44339747</td>\n",
       "      <td>712873</td>\n",
       "      <td>116202</td>\n",
       "      <td>1182</td>\n",
       "      <td>1.61</td>\n",
       "      <td>North America</td>\n",
       "    </tr>\n",
       "    <tr>\n",
       "      <th>1</th>\n",
       "      <td>India</td>\n",
       "      <td>33985920</td>\n",
       "      <td>450963</td>\n",
       "      <td>33971607</td>\n",
       "      <td>450782</td>\n",
       "      <td>14313</td>\n",
       "      <td>181</td>\n",
       "      <td>1.33</td>\n",
       "      <td>Asia</td>\n",
       "    </tr>\n",
       "    <tr>\n",
       "      <th>2</th>\n",
       "      <td>Brazil</td>\n",
       "      <td>21582738</td>\n",
       "      <td>601213</td>\n",
       "      <td>21575820</td>\n",
       "      <td>601011</td>\n",
       "      <td>6918</td>\n",
       "      <td>202</td>\n",
       "      <td>2.79</td>\n",
       "      <td>South America</td>\n",
       "    </tr>\n",
       "    <tr>\n",
       "      <th>3</th>\n",
       "      <td>United Kingdom</td>\n",
       "      <td>8232327</td>\n",
       "      <td>138167</td>\n",
       "      <td>8192589</td>\n",
       "      <td>138139</td>\n",
       "      <td>39738</td>\n",
       "      <td>28</td>\n",
       "      <td>1.68</td>\n",
       "      <td>Europe</td>\n",
       "    </tr>\n",
       "    <tr>\n",
       "      <th>4</th>\n",
       "      <td>Russia</td>\n",
       "      <td>7687559</td>\n",
       "      <td>213522</td>\n",
       "      <td>7658923</td>\n",
       "      <td>212576</td>\n",
       "      <td>28636</td>\n",
       "      <td>946</td>\n",
       "      <td>2.78</td>\n",
       "      <td>Europe</td>\n",
       "    </tr>\n",
       "  </tbody>\n",
       "</table>\n",
       "</div>"
      ],
      "text/plain": [
       "   Country/Region     Cases  Deaths    PCases  PDeaths  Cases (+)  Deaths (+)  \\\n",
       "0              US  44455949  714055  44339747   712873     116202        1182   \n",
       "1           India  33985920  450963  33971607   450782      14313         181   \n",
       "2          Brazil  21582738  601213  21575820   601011       6918         202   \n",
       "3  United Kingdom   8232327  138167   8192589   138139      39738          28   \n",
       "4          Russia   7687559  213522   7658923   212576      28636         946   \n",
       "\n",
       "   Fatality Rate      Continent  \n",
       "0           1.61  North America  \n",
       "1           1.33           Asia  \n",
       "2           2.79  South America  \n",
       "3           1.68         Europe  \n",
       "4           2.78         Europe  "
      ]
     },
     "execution_count": 13,
     "metadata": {},
     "output_type": "execute_result"
    }
   ],
   "source": [
    "#hide\n",
    "for c in 'Cases, Deaths'.split(', '):\n",
    "    df_table[f'{c} (+)'] = (df_table[c] - df_table[f'P{c}']).clip(0)\n",
    "    #Clip ça veut dire, les chiffres negatif sont interdit\n",
    "df_table['Fatality Rate'] = (100* df_table['Deaths']/ df_table['Cases']).round(2)\n",
    "df_table['Continent'] = df_table['Country/Region'].map(mapping['map.continent'])\n",
    "df_table.head(5)"
   ]
  },
  {
   "cell_type": "code",
   "execution_count": 14,
   "id": "aboriginal-bulgaria",
   "metadata": {
    "execution": {
     "iopub.execute_input": "2021-10-12T12:12:27.599984Z",
     "iopub.status.busy": "2021-10-12T12:12:27.599297Z",
     "iopub.status.idle": "2021-10-12T12:12:27.614221Z",
     "shell.execute_reply": "2021-10-12T12:12:27.613192Z"
    },
    "papermill": {
     "duration": 0.06416,
     "end_time": "2021-10-12T12:12:27.614424",
     "exception": false,
     "start_time": "2021-10-12T12:12:27.550264",
     "status": "completed"
    },
    "tags": []
   },
   "outputs": [],
   "source": [
    "#hide\n",
    "#delete problematic countries from table\n",
    "df_table = df_table[~df_table['Country/Region'].isin(['Cape Verde', 'Cruise Ship', 'Kosovo'])]"
   ]
  },
  {
   "cell_type": "code",
   "execution_count": 15,
   "id": "fantastic-effect",
   "metadata": {
    "execution": {
     "iopub.execute_input": "2021-10-12T12:12:27.727459Z",
     "iopub.status.busy": "2021-10-12T12:12:27.707946Z",
     "iopub.status.idle": "2021-10-12T12:12:27.731237Z",
     "shell.execute_reply": "2021-10-12T12:12:27.730589Z"
    },
    "papermill": {
     "duration": 0.075608,
     "end_time": "2021-10-12T12:12:27.731379",
     "exception": false,
     "start_time": "2021-10-12T12:12:27.655771",
     "status": "completed"
    },
    "tags": []
   },
   "outputs": [
    {
     "data": {
      "text/html": [
       "<div>\n",
       "<style scoped>\n",
       "    .dataframe tbody tr th:only-of-type {\n",
       "        vertical-align: middle;\n",
       "    }\n",
       "\n",
       "    .dataframe tbody tr th {\n",
       "        vertical-align: top;\n",
       "    }\n",
       "\n",
       "    .dataframe thead th {\n",
       "        text-align: right;\n",
       "    }\n",
       "</style>\n",
       "<table border=\"1\" class=\"dataframe\">\n",
       "  <thead>\n",
       "    <tr style=\"text-align: right;\">\n",
       "      <th></th>\n",
       "      <th>Country/Region</th>\n",
       "      <th>Cases</th>\n",
       "      <th>Deaths</th>\n",
       "      <th>PCases</th>\n",
       "      <th>PDeaths</th>\n",
       "      <th>Cases (+)</th>\n",
       "      <th>Deaths (+)</th>\n",
       "      <th>Fatality Rate</th>\n",
       "      <th>Continent</th>\n",
       "    </tr>\n",
       "  </thead>\n",
       "  <tbody>\n",
       "    <tr>\n",
       "      <th>0</th>\n",
       "      <td>US</td>\n",
       "      <td>44455949</td>\n",
       "      <td>714055</td>\n",
       "      <td>44339747</td>\n",
       "      <td>712873</td>\n",
       "      <td>116202</td>\n",
       "      <td>1182</td>\n",
       "      <td>1.6</td>\n",
       "      <td>North America</td>\n",
       "    </tr>\n",
       "    <tr>\n",
       "      <th>1</th>\n",
       "      <td>India</td>\n",
       "      <td>33985920</td>\n",
       "      <td>450963</td>\n",
       "      <td>33971607</td>\n",
       "      <td>450782</td>\n",
       "      <td>14313</td>\n",
       "      <td>181</td>\n",
       "      <td>1.3</td>\n",
       "      <td>Asia</td>\n",
       "    </tr>\n",
       "    <tr>\n",
       "      <th>2</th>\n",
       "      <td>Brazil</td>\n",
       "      <td>21582738</td>\n",
       "      <td>601213</td>\n",
       "      <td>21575820</td>\n",
       "      <td>601011</td>\n",
       "      <td>6918</td>\n",
       "      <td>202</td>\n",
       "      <td>2.8</td>\n",
       "      <td>South America</td>\n",
       "    </tr>\n",
       "    <tr>\n",
       "      <th>3</th>\n",
       "      <td>United Kingdom</td>\n",
       "      <td>8232327</td>\n",
       "      <td>138167</td>\n",
       "      <td>8192589</td>\n",
       "      <td>138139</td>\n",
       "      <td>39738</td>\n",
       "      <td>28</td>\n",
       "      <td>1.7</td>\n",
       "      <td>Europe</td>\n",
       "    </tr>\n",
       "    <tr>\n",
       "      <th>4</th>\n",
       "      <td>Russia</td>\n",
       "      <td>7687559</td>\n",
       "      <td>213522</td>\n",
       "      <td>7658923</td>\n",
       "      <td>212576</td>\n",
       "      <td>28636</td>\n",
       "      <td>946</td>\n",
       "      <td>2.8</td>\n",
       "      <td>Europe</td>\n",
       "    </tr>\n",
       "  </tbody>\n",
       "</table>\n",
       "</div>"
      ],
      "text/plain": [
       "   Country/Region     Cases  Deaths    PCases  PDeaths  Cases (+)  Deaths (+)  \\\n",
       "0              US  44455949  714055  44339747   712873     116202        1182   \n",
       "1           India  33985920  450963  33971607   450782      14313         181   \n",
       "2          Brazil  21582738  601213  21575820   601011       6918         202   \n",
       "3  United Kingdom   8232327  138167   8192589   138139      39738          28   \n",
       "4          Russia   7687559  213522   7658923   212576      28636         946   \n",
       "\n",
       "   Fatality Rate      Continent  \n",
       "0            1.6  North America  \n",
       "1            1.3           Asia  \n",
       "2            2.8  South America  \n",
       "3            1.7         Europe  \n",
       "4            2.8         Europe  "
      ]
     },
     "execution_count": 15,
     "metadata": {},
     "output_type": "execute_result"
    }
   ],
   "source": [
    "#hide\n",
    "df_table = (pd.DataFrame(dict(Cases=dfc_cases, Deaths=dfc_deaths, PCases=dfp_cases, PDeaths=dfp_deaths))\n",
    "             .sort_values(by=['Cases', 'Deaths'], ascending=[False, False])\n",
    "             .reset_index())\n",
    "df_table.rename(columns={'index': 'Country/Region'}, inplace=True)\n",
    "for c in 'Cases, Deaths'.split(', '):\n",
    "    df_table[f'{c} (+)'] = (df_table[c] - df_table[f'P{c}']).clip(0)  # DATA BUG\n",
    "df_table['Fatality Rate'] = (100 * df_table['Deaths'] / df_table['Cases']).round(1)\n",
    "df_table['Continent'] = df_table['Country/Region'].map(mapping['map.continent'])\n",
    "df_table.head(5)"
   ]
  },
  {
   "cell_type": "code",
   "execution_count": 16,
   "id": "fewer-occasion",
   "metadata": {
    "execution": {
     "iopub.execute_input": "2021-10-12T12:12:27.819645Z",
     "iopub.status.busy": "2021-10-12T12:12:27.818958Z",
     "iopub.status.idle": "2021-10-12T12:12:27.821700Z",
     "shell.execute_reply": "2021-10-12T12:12:27.822378Z"
    },
    "papermill": {
     "duration": 0.051153,
     "end_time": "2021-10-12T12:12:27.822523",
     "exception": false,
     "start_time": "2021-10-12T12:12:27.771370",
     "status": "completed"
    },
    "tags": []
   },
   "outputs": [],
   "source": [
    "#hide\n",
    "#delete problematic countries from table\n",
    "df_table = df_table[~df_table['Country/Region'].isin(['Cape Verde', 'Cruise Ship', 'Kosovo'])]"
   ]
  },
  {
   "cell_type": "code",
   "execution_count": 17,
   "id": "related-center",
   "metadata": {
    "execution": {
     "iopub.execute_input": "2021-10-12T12:12:27.926859Z",
     "iopub.status.busy": "2021-10-12T12:12:27.926144Z",
     "iopub.status.idle": "2021-10-12T12:12:27.927991Z",
     "shell.execute_reply": "2021-10-12T12:12:27.928634Z"
    },
    "papermill": {
     "duration": 0.065913,
     "end_time": "2021-10-12T12:12:27.928804",
     "exception": false,
     "start_time": "2021-10-12T12:12:27.862891",
     "status": "completed"
    },
    "tags": []
   },
   "outputs": [],
   "source": [
    "#hide\n",
    "metrics = [df_table.columns[index] for index in [1,2,5,6]]\n",
    "# s_china = df_table[df_table['Country/Region'].eq('China')][metrics].sum().add_prefix('China ')\n",
    "s_us = df_table[df_table['Country/Region'].eq('US')][metrics].sum().add_prefix('US ')\n",
    "s_eu = df_table[df_table['Continent'].eq('Europe')][metrics].sum().add_prefix('EU ')\n",
    "s_ind = df_table[df_table['Country/Region'].eq('India')][metrics].sum().add_prefix('India ')\n",
    "summary = {'updated': pd.to_datetime(dt_today), 'since': pd.to_datetime(dt_yday)}\n",
    "summary = {'updated': pd.to_datetime(dt_today), 'since': pd.to_datetime(dt_yday)}\n",
    "summary = {**summary, **df_table[metrics].sum(), **s_ind, **s_us, **s_eu}"
   ]
  },
  {
   "cell_type": "code",
   "execution_count": 18,
   "id": "engaging-syndrome",
   "metadata": {
    "execution": {
     "iopub.execute_input": "2021-10-12T12:12:28.017456Z",
     "iopub.status.busy": "2021-10-12T12:12:28.016762Z",
     "iopub.status.idle": "2021-10-12T12:12:28.033062Z",
     "shell.execute_reply": "2021-10-12T12:12:28.032494Z"
    },
    "papermill": {
     "duration": 0.063183,
     "end_time": "2021-10-12T12:12:28.033201",
     "exception": false,
     "start_time": "2021-10-12T12:12:27.970018",
     "status": "completed"
    },
    "tags": []
   },
   "outputs": [],
   "source": [
    "#hide\n",
    "dft_ct_new_cases = dft_cases.groupby(COL_REGION)[dt_cols].sum().diff(axis=1).fillna(0).astype(int)"
   ]
  },
  {
   "cell_type": "code",
   "execution_count": 19,
   "id": "neutral-assignment",
   "metadata": {
    "execution": {
     "iopub.execute_input": "2021-10-12T12:12:28.126838Z",
     "iopub.status.busy": "2021-10-12T12:12:28.126111Z",
     "iopub.status.idle": "2021-10-12T12:12:28.128880Z",
     "shell.execute_reply": "2021-10-12T12:12:28.128329Z"
    },
    "papermill": {
     "duration": 0.051435,
     "end_time": "2021-10-12T12:12:28.129008",
     "exception": false,
     "start_time": "2021-10-12T12:12:28.077573",
     "status": "completed"
    },
    "tags": []
   },
   "outputs": [],
   "source": [
    "#hide\n",
    "everydaycases = dft_ct_new_cases.cumsum(axis=1)"
   ]
  },
  {
   "cell_type": "code",
   "execution_count": 20,
   "id": "parliamentary-calgary",
   "metadata": {
    "execution": {
     "iopub.execute_input": "2021-10-12T12:12:28.214636Z",
     "iopub.status.busy": "2021-10-12T12:12:28.214029Z",
     "iopub.status.idle": "2021-10-12T12:12:28.879029Z",
     "shell.execute_reply": "2021-10-12T12:12:28.877676Z"
    },
    "papermill": {
     "duration": 0.710027,
     "end_time": "2021-10-12T12:12:28.879179",
     "exception": false,
     "start_time": "2021-10-12T12:12:28.169152",
     "status": "completed"
    },
    "tags": []
   },
   "outputs": [],
   "source": [
    "#hide\n",
    "import pandas as pd\n",
    "import matplotlib.pyplot as plt\n",
    "import matplotlib.ticker as ticker\n",
    "import matplotlib.animation as animation\n",
    "from IPython.display import HTML"
   ]
  },
  {
   "cell_type": "code",
   "execution_count": 21,
   "id": "lasting-extraction",
   "metadata": {
    "execution": {
     "iopub.execute_input": "2021-10-12T12:12:28.971925Z",
     "iopub.status.busy": "2021-10-12T12:12:28.971220Z",
     "iopub.status.idle": "2021-10-12T12:12:28.977724Z",
     "shell.execute_reply": "2021-10-12T12:12:28.978282Z"
    },
    "papermill": {
     "duration": 0.054834,
     "end_time": "2021-10-12T12:12:28.978565",
     "exception": false,
     "start_time": "2021-10-12T12:12:28.923731",
     "status": "completed"
    },
    "tags": []
   },
   "outputs": [],
   "source": [
    "#hide\n",
    "t = everydaycases.stack()"
   ]
  },
  {
   "cell_type": "code",
   "execution_count": 22,
   "id": "premier-sleeve",
   "metadata": {
    "execution": {
     "iopub.execute_input": "2021-10-12T12:12:29.072375Z",
     "iopub.status.busy": "2021-10-12T12:12:29.071699Z",
     "iopub.status.idle": "2021-10-12T12:12:29.082115Z",
     "shell.execute_reply": "2021-10-12T12:12:29.082730Z"
    },
    "papermill": {
     "duration": 0.056632,
     "end_time": "2021-10-12T12:12:29.082885",
     "exception": false,
     "start_time": "2021-10-12T12:12:29.026253",
     "status": "completed"
    },
    "tags": []
   },
   "outputs": [],
   "source": [
    "#hide\n",
    "g = t.reset_index(['Country/Region'])"
   ]
  },
  {
   "cell_type": "code",
   "execution_count": 23,
   "id": "distributed-pittsburgh",
   "metadata": {
    "execution": {
     "iopub.execute_input": "2021-10-12T12:12:29.174155Z",
     "iopub.status.busy": "2021-10-12T12:12:29.173384Z",
     "iopub.status.idle": "2021-10-12T12:12:29.175419Z",
     "shell.execute_reply": "2021-10-12T12:12:29.174726Z"
    },
    "papermill": {
     "duration": 0.052053,
     "end_time": "2021-10-12T12:12:29.175557",
     "exception": false,
     "start_time": "2021-10-12T12:12:29.123504",
     "status": "completed"
    },
    "tags": []
   },
   "outputs": [],
   "source": [
    "#hide\n",
    "g.index.name = 'date'"
   ]
  },
  {
   "cell_type": "code",
   "execution_count": 24,
   "id": "naked-donor",
   "metadata": {
    "execution": {
     "iopub.execute_input": "2021-10-12T12:12:29.260299Z",
     "iopub.status.busy": "2021-10-12T12:12:29.259500Z",
     "iopub.status.idle": "2021-10-12T12:12:29.261181Z",
     "shell.execute_reply": "2021-10-12T12:12:29.261759Z"
    },
    "papermill": {
     "duration": 0.046313,
     "end_time": "2021-10-12T12:12:29.261964",
     "exception": false,
     "start_time": "2021-10-12T12:12:29.215651",
     "status": "completed"
    },
    "tags": []
   },
   "outputs": [],
   "source": [
    "# #hide\n",
    "# g = g.reset_index(['date'])"
   ]
  },
  {
   "cell_type": "code",
   "execution_count": 25,
   "id": "incomplete-mustang",
   "metadata": {
    "execution": {
     "iopub.execute_input": "2021-10-12T12:12:29.353832Z",
     "iopub.status.busy": "2021-10-12T12:12:29.353136Z",
     "iopub.status.idle": "2021-10-12T12:12:29.355692Z",
     "shell.execute_reply": "2021-10-12T12:12:29.355129Z"
    },
    "papermill": {
     "duration": 0.048464,
     "end_time": "2021-10-12T12:12:29.355823",
     "exception": false,
     "start_time": "2021-10-12T12:12:29.307359",
     "status": "completed"
    },
    "tags": []
   },
   "outputs": [],
   "source": [
    "#hide\n",
    "# g.head()"
   ]
  },
  {
   "cell_type": "code",
   "execution_count": 26,
   "id": "specific-kruger",
   "metadata": {
    "execution": {
     "iopub.execute_input": "2021-10-12T12:12:29.442029Z",
     "iopub.status.busy": "2021-10-12T12:12:29.441339Z",
     "iopub.status.idle": "2021-10-12T12:12:29.443821Z",
     "shell.execute_reply": "2021-10-12T12:12:29.443190Z"
    },
    "papermill": {
     "duration": 0.045989,
     "end_time": "2021-10-12T12:12:29.443947",
     "exception": false,
     "start_time": "2021-10-12T12:12:29.397958",
     "status": "completed"
    },
    "tags": []
   },
   "outputs": [],
   "source": [
    "#hide\n",
    "# g.columns = ['date','country','cases']"
   ]
  },
  {
   "cell_type": "code",
   "execution_count": 27,
   "id": "tender-conversion",
   "metadata": {
    "execution": {
     "iopub.execute_input": "2021-10-12T12:12:29.535096Z",
     "iopub.status.busy": "2021-10-12T12:12:29.534425Z",
     "iopub.status.idle": "2021-10-12T12:12:29.536670Z",
     "shell.execute_reply": "2021-10-12T12:12:29.537213Z"
    },
    "papermill": {
     "duration": 0.053198,
     "end_time": "2021-10-12T12:12:29.537390",
     "exception": false,
     "start_time": "2021-10-12T12:12:29.484192",
     "status": "completed"
    },
    "tags": []
   },
   "outputs": [],
   "source": [
    "#hide\n",
    "# g['continent'] = g.country"
   ]
  },
  {
   "cell_type": "code",
   "execution_count": 28,
   "id": "substantial-wilderness",
   "metadata": {
    "execution": {
     "iopub.execute_input": "2021-10-12T12:12:29.626224Z",
     "iopub.status.busy": "2021-10-12T12:12:29.625524Z",
     "iopub.status.idle": "2021-10-12T12:12:29.627925Z",
     "shell.execute_reply": "2021-10-12T12:12:29.628584Z"
    },
    "papermill": {
     "duration": 0.048944,
     "end_time": "2021-10-12T12:12:29.628746",
     "exception": false,
     "start_time": "2021-10-12T12:12:29.579802",
     "status": "completed"
    },
    "tags": []
   },
   "outputs": [],
   "source": [
    "#hide\n",
    "# cols = list(g.columns.values)"
   ]
  },
  {
   "cell_type": "code",
   "execution_count": 29,
   "id": "solved-farming",
   "metadata": {
    "execution": {
     "iopub.execute_input": "2021-10-12T12:12:29.724471Z",
     "iopub.status.busy": "2021-10-12T12:12:29.723596Z",
     "iopub.status.idle": "2021-10-12T12:12:29.725331Z",
     "shell.execute_reply": "2021-10-12T12:12:29.726186Z"
    },
    "papermill": {
     "duration": 0.053853,
     "end_time": "2021-10-12T12:12:29.726346",
     "exception": false,
     "start_time": "2021-10-12T12:12:29.672493",
     "status": "completed"
    },
    "tags": []
   },
   "outputs": [],
   "source": [
    "#hide\n",
    "# cols.insert(0, cols.pop())"
   ]
  },
  {
   "cell_type": "code",
   "execution_count": 30,
   "id": "executed-adoption",
   "metadata": {
    "execution": {
     "iopub.execute_input": "2021-10-12T12:12:29.834262Z",
     "iopub.status.busy": "2021-10-12T12:12:29.830576Z",
     "iopub.status.idle": "2021-10-12T12:12:29.835927Z",
     "shell.execute_reply": "2021-10-12T12:12:29.835192Z"
    },
    "papermill": {
     "duration": 0.053179,
     "end_time": "2021-10-12T12:12:29.836073",
     "exception": false,
     "start_time": "2021-10-12T12:12:29.782894",
     "status": "completed"
    },
    "tags": []
   },
   "outputs": [],
   "source": [
    "#hide\n",
    "# g = g[cols]"
   ]
  },
  {
   "cell_type": "code",
   "execution_count": 31,
   "id": "subject-dublin",
   "metadata": {
    "execution": {
     "iopub.execute_input": "2021-10-12T12:12:29.922228Z",
     "iopub.status.busy": "2021-10-12T12:12:29.921531Z",
     "iopub.status.idle": "2021-10-12T12:12:29.923576Z",
     "shell.execute_reply": "2021-10-12T12:12:29.924158Z"
    },
    "papermill": {
     "duration": 0.046423,
     "end_time": "2021-10-12T12:12:29.924308",
     "exception": false,
     "start_time": "2021-10-12T12:12:29.877885",
     "status": "completed"
    },
    "tags": []
   },
   "outputs": [],
   "source": [
    "#hide\n",
    "# g['continent'] = g['continent'].map(mapping['map.continent'])"
   ]
  },
  {
   "cell_type": "code",
   "execution_count": 32,
   "id": "freelance-scout",
   "metadata": {
    "execution": {
     "iopub.execute_input": "2021-10-12T12:12:30.010285Z",
     "iopub.status.busy": "2021-10-12T12:12:30.009462Z",
     "iopub.status.idle": "2021-10-12T12:12:30.011329Z",
     "shell.execute_reply": "2021-10-12T12:12:30.012002Z"
    },
    "papermill": {
     "duration": 0.046934,
     "end_time": "2021-10-12T12:12:30.012169",
     "exception": false,
     "start_time": "2021-10-12T12:12:29.965235",
     "status": "completed"
    },
    "tags": []
   },
   "outputs": [],
   "source": [
    "#hide\n",
    "# g.head()"
   ]
  },
  {
   "cell_type": "code",
   "execution_count": 33,
   "id": "limited-engine",
   "metadata": {
    "execution": {
     "iopub.execute_input": "2021-10-12T12:12:30.108606Z",
     "iopub.status.busy": "2021-10-12T12:12:30.107538Z",
     "iopub.status.idle": "2021-10-12T12:12:30.110595Z",
     "shell.execute_reply": "2021-10-12T12:12:30.109710Z"
    },
    "papermill": {
     "duration": 0.053769,
     "end_time": "2021-10-12T12:12:30.111118",
     "exception": false,
     "start_time": "2021-10-12T12:12:30.057349",
     "status": "completed"
    },
    "tags": []
   },
   "outputs": [],
   "source": [
    "# hide\n",
    "# g['date'] = g['date'].astype('datetime64[ns]')"
   ]
  },
  {
   "cell_type": "code",
   "execution_count": 34,
   "id": "sophisticated-supervisor",
   "metadata": {
    "execution": {
     "iopub.execute_input": "2021-10-12T12:12:30.213547Z",
     "iopub.status.busy": "2021-10-12T12:12:30.212795Z",
     "iopub.status.idle": "2021-10-12T12:12:30.215399Z",
     "shell.execute_reply": "2021-10-12T12:12:30.214661Z"
    },
    "papermill": {
     "duration": 0.056702,
     "end_time": "2021-10-12T12:12:30.215608",
     "exception": false,
     "start_time": "2021-10-12T12:12:30.158906",
     "status": "completed"
    },
    "tags": []
   },
   "outputs": [],
   "source": [
    "#hide\n",
    "# g['date'] = g.date.dt.dayofyear"
   ]
  },
  {
   "cell_type": "code",
   "execution_count": 35,
   "id": "inside-dubai",
   "metadata": {
    "execution": {
     "iopub.execute_input": "2021-10-12T12:12:30.304537Z",
     "iopub.status.busy": "2021-10-12T12:12:30.303894Z",
     "iopub.status.idle": "2021-10-12T12:12:30.310821Z",
     "shell.execute_reply": "2021-10-12T12:12:30.311485Z"
    },
    "papermill": {
     "duration": 0.053246,
     "end_time": "2021-10-12T12:12:30.311649",
     "exception": false,
     "start_time": "2021-10-12T12:12:30.258403",
     "status": "completed"
    },
    "tags": []
   },
   "outputs": [],
   "source": [
    "#hide\n",
    "# g = g.rename(columns= {'continent':'group','country':'name','cases':'value'})"
   ]
  },
  {
   "cell_type": "code",
   "execution_count": 36,
   "id": "fleet-motorcycle",
   "metadata": {
    "execution": {
     "iopub.execute_input": "2021-10-12T12:12:30.406758Z",
     "iopub.status.busy": "2021-10-12T12:12:30.406018Z",
     "iopub.status.idle": "2021-10-12T12:12:30.408944Z",
     "shell.execute_reply": "2021-10-12T12:12:30.408283Z"
    },
    "papermill": {
     "duration": 0.048163,
     "end_time": "2021-10-12T12:12:30.409089",
     "exception": false,
     "start_time": "2021-10-12T12:12:30.360926",
     "status": "completed"
    },
    "tags": []
   },
   "outputs": [],
   "source": [
    "#hide\n",
    "# cols = ['name','group','day','value']"
   ]
  },
  {
   "cell_type": "code",
   "execution_count": 37,
   "id": "continued-sleeping",
   "metadata": {
    "execution": {
     "iopub.execute_input": "2021-10-12T12:12:30.497063Z",
     "iopub.status.busy": "2021-10-12T12:12:30.496371Z",
     "iopub.status.idle": "2021-10-12T12:12:30.499058Z",
     "shell.execute_reply": "2021-10-12T12:12:30.498465Z"
    },
    "papermill": {
     "duration": 0.047738,
     "end_time": "2021-10-12T12:12:30.499195",
     "exception": false,
     "start_time": "2021-10-12T12:12:30.451457",
     "status": "completed"
    },
    "tags": []
   },
   "outputs": [],
   "source": [
    "#hide\n",
    "# g.rename(columns= {'date':'day'},inplace = True)"
   ]
  },
  {
   "cell_type": "code",
   "execution_count": 38,
   "id": "major-fight",
   "metadata": {
    "execution": {
     "iopub.execute_input": "2021-10-12T12:12:30.585503Z",
     "iopub.status.busy": "2021-10-12T12:12:30.584791Z",
     "iopub.status.idle": "2021-10-12T12:12:30.587369Z",
     "shell.execute_reply": "2021-10-12T12:12:30.586693Z"
    },
    "papermill": {
     "duration": 0.047201,
     "end_time": "2021-10-12T12:12:30.587504",
     "exception": false,
     "start_time": "2021-10-12T12:12:30.540303",
     "status": "completed"
    },
    "tags": []
   },
   "outputs": [],
   "source": [
    "#hide\n",
    "# g = g[cols]"
   ]
  },
  {
   "cell_type": "code",
   "execution_count": 39,
   "id": "structured-mobile",
   "metadata": {
    "execution": {
     "iopub.execute_input": "2021-10-12T12:12:30.675390Z",
     "iopub.status.busy": "2021-10-12T12:12:30.674405Z",
     "iopub.status.idle": "2021-10-12T12:12:30.676422Z",
     "shell.execute_reply": "2021-10-12T12:12:30.676982Z"
    },
    "papermill": {
     "duration": 0.047878,
     "end_time": "2021-10-12T12:12:30.677134",
     "exception": false,
     "start_time": "2021-10-12T12:12:30.629256",
     "status": "completed"
    },
    "tags": []
   },
   "outputs": [],
   "source": [
    "# #hide\n",
    "# g = g[g.group.notna()]"
   ]
  },
  {
   "cell_type": "code",
   "execution_count": 40,
   "id": "determined-closing",
   "metadata": {
    "execution": {
     "iopub.execute_input": "2021-10-12T12:12:30.762447Z",
     "iopub.status.busy": "2021-10-12T12:12:30.761752Z",
     "iopub.status.idle": "2021-10-12T12:12:30.764277Z",
     "shell.execute_reply": "2021-10-12T12:12:30.763705Z"
    },
    "papermill": {
     "duration": 0.047284,
     "end_time": "2021-10-12T12:12:30.764408",
     "exception": false,
     "start_time": "2021-10-12T12:12:30.717124",
     "status": "completed"
    },
    "tags": []
   },
   "outputs": [],
   "source": [
    "# #hide\n",
    "# colors = dict(zip(\n",
    "#     [\"Oceania\", \"Europe\", \"Asia\", \"South America\", \"Middle East\", \"North America\", \"Africa\"],\n",
    "#     [\"#adb0ff\", \"#ffb3ff\", \"#90d595\", \"#e48381\", \"#aafbff\", \"#f7bb5f\", \"#eafb50\"]\n",
    "# ))\n",
    "# group_lk = g.set_index('name')['group'].to_dict()"
   ]
  },
  {
   "cell_type": "code",
   "execution_count": null,
   "id": "gross-drinking",
   "metadata": {
    "papermill": {
     "duration": 0.041657,
     "end_time": "2021-10-12T12:12:30.846793",
     "exception": false,
     "start_time": "2021-10-12T12:12:30.805136",
     "status": "completed"
    },
    "tags": []
   },
   "outputs": [],
   "source": []
  },
  {
   "cell_type": "code",
   "execution_count": 41,
   "id": "subject-macintosh",
   "metadata": {
    "execution": {
     "iopub.execute_input": "2021-10-12T12:12:30.938182Z",
     "iopub.status.busy": "2021-10-12T12:12:30.937058Z",
     "iopub.status.idle": "2021-10-12T12:12:30.939514Z",
     "shell.execute_reply": "2021-10-12T12:12:30.940224Z"
    },
    "papermill": {
     "duration": 0.050327,
     "end_time": "2021-10-12T12:12:30.940444",
     "exception": false,
     "start_time": "2021-10-12T12:12:30.890117",
     "status": "completed"
    },
    "tags": []
   },
   "outputs": [],
   "source": [
    "# #hide\n",
    "# fig, ax = plt.subplots(figsize=(15, 8))\n",
    "\n",
    "# def draw_barchart(current_day):\n",
    "#     dff = g[g['day'].eq(current_day)].sort_values(by='value', ascending=True).tail(10)\n",
    "#     ax.clear()\n",
    "#     ax.barh(dff['name'], dff['value'], color=[colors[group_lk[x]] for x in dff['name']])\n",
    "#     dx = dff['value'].max() / 200\n",
    "    \n",
    "#     for i, (value, name) in enumerate(zip(dff['value'], dff['name'])):\n",
    "#         ax.text(value-dx, i,     name,           size=14, weight=600, ha='right', va='bottom')\n",
    "#         ax.text(value-dx, i-.25, group_lk[name], size=10, color='#444444', ha='right', va='baseline')\n",
    "#         ax.text(value+dx, i,     f'{value:,.0f}',  size=14, ha='left',  va='center')\n",
    "#     ax.text(1, 0.4, current_day, transform=ax.transAxes, color='#777777', size=46, ha='right', weight=800)\n",
    "#     ax.text(0, 1.06, 'Population (thousands)', transform=ax.transAxes, size=12, color='#777777')\n",
    "#     ax.xaxis.set_major_formatter(ticker.StrMethodFormatter('{x:,.0f}'))\n",
    "#     ax.xaxis.set_ticks_position('top')\n",
    "#     ax.tick_params(axis='x', colors='#777777', labelsize=12)\n",
    "#     ax.set_yticks([])\n",
    "#     ax.margins(0, 0.01)\n",
    "#     ax.grid(which='major', axis='x', linestyle='-')\n",
    "#     ax.set_axisbelow(True)\n",
    "    \n",
    "#     ax.text(0, 1.15, 'Coronavirus',\n",
    "#             transform=ax.transAxes, size=24, weight=600, ha='left', va='top')\n",
    "# #     ax.text(1, 0, 'by @pratapvardhan; credit @jburnmurdoch', transform=ax.transAxes, color='#777777', ha='right',\n",
    "# #             bbox=dict(facecolor='white', alpha=0.8, edgecolor='white'))\n",
    "#     plt.box(False)"
   ]
  },
  {
   "cell_type": "code",
   "execution_count": 42,
   "id": "sexual-wages",
   "metadata": {
    "execution": {
     "iopub.execute_input": "2021-10-12T12:12:31.031100Z",
     "iopub.status.busy": "2021-10-12T12:12:31.030203Z",
     "iopub.status.idle": "2021-10-12T12:12:31.032000Z",
     "shell.execute_reply": "2021-10-12T12:12:31.032648Z"
    },
    "papermill": {
     "duration": 0.049959,
     "end_time": "2021-10-12T12:12:31.032799",
     "exception": false,
     "start_time": "2021-10-12T12:12:30.982840",
     "status": "completed"
    },
    "tags": []
   },
   "outputs": [],
   "source": [
    "# #hide_input\n",
    "# fig, ax = plt.subplots(figsize=(15, 8))\n",
    "# animator = animation.FuncAnimation(fig, draw_barchart, frames=range(g.day.values.min(), g.day.values.max()))\n",
    "# HTML(animator.to_jshtml())\n",
    "# # or use animator.to_html5_video() or animator.save() "
   ]
  },
  {
   "cell_type": "code",
   "execution_count": null,
   "id": "australian-container",
   "metadata": {
    "papermill": {
     "duration": 0.039735,
     "end_time": "2021-10-12T12:12:31.113550",
     "exception": false,
     "start_time": "2021-10-12T12:12:31.073815",
     "status": "completed"
    },
    "tags": []
   },
   "outputs": [],
   "source": []
  },
  {
   "cell_type": "code",
   "execution_count": null,
   "id": "mediterranean-pontiac",
   "metadata": {
    "papermill": {
     "duration": 0.039625,
     "end_time": "2021-10-12T12:12:31.192692",
     "exception": false,
     "start_time": "2021-10-12T12:12:31.153067",
     "status": "completed"
    },
    "tags": []
   },
   "outputs": [],
   "source": []
  },
  {
   "cell_type": "code",
   "execution_count": null,
   "id": "aging-legislature",
   "metadata": {
    "papermill": {
     "duration": 0.039955,
     "end_time": "2021-10-12T12:12:31.274681",
     "exception": false,
     "start_time": "2021-10-12T12:12:31.234726",
     "status": "completed"
    },
    "tags": []
   },
   "outputs": [],
   "source": []
  }
 ],
 "metadata": {
  "kernelspec": {
   "display_name": "Python 3",
   "language": "python",
   "name": "python3"
  },
  "language_info": {
   "codemirror_mode": {
    "name": "ipython",
    "version": 3
   },
   "file_extension": ".py",
   "mimetype": "text/x-python",
   "name": "python",
   "nbconvert_exporter": "python",
   "pygments_lexer": "ipython3",
   "version": "3.6.15"
  },
  "papermill": {
   "duration": 7.660088,
   "end_time": "2021-10-12T12:12:31.625555",
   "environment_variables": {},
   "exception": null,
   "input_path": "2020-03-21-covid19exp.ipynb",
   "output_path": "2020-03-21-covid19exp.ipynb",
   "parameters": {},
   "start_time": "2021-10-12T12:12:23.965467",
   "version": "2.0.0"
  }
 },
 "nbformat": 4,
 "nbformat_minor": 5
}