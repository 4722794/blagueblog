{
 "cells": [
  {
   "cell_type": "markdown",
   "id": "muslim-click",
   "metadata": {
    "papermill": {
     "duration": 0.042189,
     "end_time": "2021-02-14T00:11:30.617590",
     "exception": false,
     "start_time": "2021-02-14T00:11:30.575401",
     "status": "completed"
    },
    "tags": []
   },
   "source": [
    "# COVID-19 Case Race\n",
    "> A race chart to see rising cases around the world\n",
    "\n",
    "- author: Hargun Oberoi\n",
    "- image: images/covid-overview.png\n",
    "- hide: false\n",
    "- badges: false"
   ]
  },
  {
   "cell_type": "code",
   "execution_count": 1,
   "id": "proof-material",
   "metadata": {
    "execution": {
     "iopub.execute_input": "2021-02-14T00:11:30.699394Z",
     "iopub.status.busy": "2021-02-14T00:11:30.698603Z",
     "iopub.status.idle": "2021-02-14T00:11:31.082374Z",
     "shell.execute_reply": "2021-02-14T00:11:31.081811Z"
    },
    "papermill": {
     "duration": 0.428387,
     "end_time": "2021-02-14T00:11:31.082621",
     "exception": false,
     "start_time": "2021-02-14T00:11:30.654234",
     "status": "completed"
    },
    "tags": []
   },
   "outputs": [],
   "source": [
    "#hide\n",
    "import numpy as np\n",
    "import pandas as pd\n",
    "from jinja2 import Template\n",
    "from IPython.display import HTML"
   ]
  },
  {
   "cell_type": "code",
   "execution_count": 2,
   "id": "developed-terminology",
   "metadata": {
    "execution": {
     "iopub.execute_input": "2021-02-14T00:11:31.157224Z",
     "iopub.status.busy": "2021-02-14T00:11:31.156345Z",
     "iopub.status.idle": "2021-02-14T00:11:31.158531Z",
     "shell.execute_reply": "2021-02-14T00:11:31.159080Z"
    },
    "papermill": {
     "duration": 0.043336,
     "end_time": "2021-02-14T00:11:31.159238",
     "exception": false,
     "start_time": "2021-02-14T00:11:31.115902",
     "status": "completed"
    },
    "tags": []
   },
   "outputs": [],
   "source": [
    "#hide\n",
    "\n",
    "# FETCH\n",
    "base_url = 'https://raw.githubusercontent.com/pratapvardhan/notebooks/master/covid19/'\n",
    "paths = {\n",
    "    'mapping': base_url + 'mapping_countries.csv',\n",
    "    'overview': base_url + 'overview.tpl'\n",
    "}"
   ]
  },
  {
   "cell_type": "code",
   "execution_count": 3,
   "id": "dynamic-saver",
   "metadata": {
    "execution": {
     "iopub.execute_input": "2021-02-14T00:11:31.237420Z",
     "iopub.status.busy": "2021-02-14T00:11:31.236680Z",
     "iopub.status.idle": "2021-02-14T00:11:31.240303Z",
     "shell.execute_reply": "2021-02-14T00:11:31.239717Z"
    },
    "papermill": {
     "duration": 0.046521,
     "end_time": "2021-02-14T00:11:31.240439",
     "exception": false,
     "start_time": "2021-02-14T00:11:31.193918",
     "status": "completed"
    },
    "tags": []
   },
   "outputs": [
    {
     "data": {
      "text/plain": [
       "'https://raw.githubusercontent.com/pratapvardhan/notebooks/master/covid19/mapping_countries.csv'"
      ]
     },
     "execution_count": 3,
     "metadata": {},
     "output_type": "execute_result"
    }
   ],
   "source": [
    "#hide\n",
    "paths['mapping']"
   ]
  },
  {
   "cell_type": "code",
   "execution_count": 4,
   "id": "urban-software",
   "metadata": {
    "execution": {
     "iopub.execute_input": "2021-02-14T00:11:31.319863Z",
     "iopub.status.busy": "2021-02-14T00:11:31.319248Z",
     "iopub.status.idle": "2021-02-14T00:11:31.321102Z",
     "shell.execute_reply": "2021-02-14T00:11:31.321545Z"
    },
    "papermill": {
     "duration": 0.044597,
     "end_time": "2021-02-14T00:11:31.321675",
     "exception": false,
     "start_time": "2021-02-14T00:11:31.277078",
     "status": "completed"
    },
    "tags": []
   },
   "outputs": [],
   "source": [
    "#hide\n",
    "def get_mappings(url):\n",
    "    df = pd.read_csv(url)\n",
    "    return {\n",
    "        'df': df,\n",
    "        'replace.country': dict(df.dropna(subset=['Name']).set_index('Country')['Name']),\n",
    "        'map.continent': dict(df.set_index('Name')['Continent'])\n",
    "    }"
   ]
  },
  {
   "cell_type": "code",
   "execution_count": 5,
   "id": "intimate-machinery",
   "metadata": {
    "execution": {
     "iopub.execute_input": "2021-02-14T00:11:31.398652Z",
     "iopub.status.busy": "2021-02-14T00:11:31.398057Z",
     "iopub.status.idle": "2021-02-14T00:11:31.444712Z",
     "shell.execute_reply": "2021-02-14T00:11:31.445379Z"
    },
    "papermill": {
     "duration": 0.087456,
     "end_time": "2021-02-14T00:11:31.445531",
     "exception": false,
     "start_time": "2021-02-14T00:11:31.358075",
     "status": "completed"
    },
    "tags": []
   },
   "outputs": [],
   "source": [
    "#hide\n",
    "mapping = get_mappings(paths['mapping'])"
   ]
  },
  {
   "cell_type": "code",
   "execution_count": 6,
   "id": "certified-tactics",
   "metadata": {
    "execution": {
     "iopub.execute_input": "2021-02-14T00:11:31.519518Z",
     "iopub.status.busy": "2021-02-14T00:11:31.518830Z",
     "iopub.status.idle": "2021-02-14T00:11:31.521059Z",
     "shell.execute_reply": "2021-02-14T00:11:31.521730Z"
    },
    "papermill": {
     "duration": 0.041956,
     "end_time": "2021-02-14T00:11:31.521851",
     "exception": false,
     "start_time": "2021-02-14T00:11:31.479895",
     "status": "completed"
    },
    "tags": []
   },
   "outputs": [],
   "source": [
    "#hide\n",
    "def get_template(path):\n",
    "    from urllib.parse import urlparse\n",
    "    if bool(urlparse(path).netloc):\n",
    "        from urllib.request import urlopen\n",
    "        return urlopen(path).read().decode('utf8')\n",
    "    return open(path).read()"
   ]
  },
  {
   "cell_type": "code",
   "execution_count": 7,
   "id": "realistic-blast",
   "metadata": {
    "execution": {
     "iopub.execute_input": "2021-02-14T00:11:31.594897Z",
     "iopub.status.busy": "2021-02-14T00:11:31.594220Z",
     "iopub.status.idle": "2021-02-14T00:11:31.596731Z",
     "shell.execute_reply": "2021-02-14T00:11:31.596236Z"
    },
    "papermill": {
     "duration": 0.039633,
     "end_time": "2021-02-14T00:11:31.596834",
     "exception": false,
     "start_time": "2021-02-14T00:11:31.557201",
     "status": "completed"
    },
    "tags": []
   },
   "outputs": [],
   "source": [
    "#hide\n",
    "def get_frame(name):\n",
    "    url = (\n",
    "        'https://raw.githubusercontent.com/CSSEGISandData/COVID-19/master/csse_covid_19_data/'\n",
    "        f'csse_covid_19_time_series/time_series_covid19_{name}_global.csv')\n",
    "    df = pd.read_csv(url)\n",
    "    # rename countries\n",
    "    df['Country/Region'] = df['Country/Region'].replace(mapping['replace.country'])\n",
    "    return df"
   ]
  },
  {
   "cell_type": "code",
   "execution_count": 8,
   "id": "affiliated-characterization",
   "metadata": {
    "execution": {
     "iopub.execute_input": "2021-02-14T00:11:31.675883Z",
     "iopub.status.busy": "2021-02-14T00:11:31.675198Z",
     "iopub.status.idle": "2021-02-14T00:11:31.677663Z",
     "shell.execute_reply": "2021-02-14T00:11:31.676977Z"
    },
    "papermill": {
     "duration": 0.045519,
     "end_time": "2021-02-14T00:11:31.677816",
     "exception": false,
     "start_time": "2021-02-14T00:11:31.632297",
     "status": "completed"
    },
    "tags": []
   },
   "outputs": [],
   "source": [
    "#hide\n",
    "def get_dates(df):\n",
    "    dt_cols = df.columns[~df.columns.isin(['Province/State', 'Country/Region', 'Lat', 'Long'])]\n",
    "    LAST_DATE_I = -1\n",
    "    # sometimes last column may be empty, then go backwards\n",
    "    for i in range(-1, -len(dt_cols), -1):\n",
    "        if not df[dt_cols[i]].fillna(0).eq(0).all():\n",
    "            LAST_DATE_I = i\n",
    "            break\n",
    "    return LAST_DATE_I, dt_cols"
   ]
  },
  {
   "cell_type": "code",
   "execution_count": 9,
   "id": "recent-optimization",
   "metadata": {
    "execution": {
     "iopub.execute_input": "2021-02-14T00:11:31.760304Z",
     "iopub.status.busy": "2021-02-14T00:11:31.759519Z",
     "iopub.status.idle": "2021-02-14T00:11:32.338801Z",
     "shell.execute_reply": "2021-02-14T00:11:32.338153Z"
    },
    "papermill": {
     "duration": 0.622151,
     "end_time": "2021-02-14T00:11:32.338936",
     "exception": false,
     "start_time": "2021-02-14T00:11:31.716785",
     "status": "completed"
    },
    "tags": []
   },
   "outputs": [],
   "source": [
    "#hide\n",
    "COL_REGION = 'Country/Region'\n",
    "# Confirmed, Recovered, Deaths\n",
    "df = get_frame('confirmed')\n",
    "# dft_: timeseries, dfc_: today country agg\n",
    "dft_cases = df\n",
    "dft_deaths = get_frame('deaths')\n",
    "dft_recovered = get_frame('recovered')\n",
    "LAST_DATE_I, dt_cols = get_dates(df)"
   ]
  },
  {
   "cell_type": "code",
   "execution_count": 10,
   "id": "absolute-copper",
   "metadata": {
    "execution": {
     "iopub.execute_input": "2021-02-14T00:11:32.436076Z",
     "iopub.status.busy": "2021-02-14T00:11:32.435392Z",
     "iopub.status.idle": "2021-02-14T00:11:32.437472Z",
     "shell.execute_reply": "2021-02-14T00:11:32.438049Z"
    },
    "papermill": {
     "duration": 0.058062,
     "end_time": "2021-02-14T00:11:32.438217",
     "exception": false,
     "start_time": "2021-02-14T00:11:32.380155",
     "status": "completed"
    },
    "tags": []
   },
   "outputs": [],
   "source": [
    "#hide\n",
    "LAST_DATE_I, dt_cols = get_dates(df)\n",
    "dt_today =dt_cols[LAST_DATE_I]\n",
    "# dt_5day = dt_cols[LAST_DATE_I - 5]\n",
    "dt_yday = dt_cols[LAST_DATE_I - 1]"
   ]
  },
  {
   "cell_type": "code",
   "execution_count": 11,
   "id": "restricted-sheriff",
   "metadata": {
    "execution": {
     "iopub.execute_input": "2021-02-14T00:11:32.521584Z",
     "iopub.status.busy": "2021-02-14T00:11:32.520882Z",
     "iopub.status.idle": "2021-02-14T00:11:32.535919Z",
     "shell.execute_reply": "2021-02-14T00:11:32.535351Z"
    },
    "papermill": {
     "duration": 0.060397,
     "end_time": "2021-02-14T00:11:32.536073",
     "exception": false,
     "start_time": "2021-02-14T00:11:32.475676",
     "status": "completed"
    },
    "tags": []
   },
   "outputs": [],
   "source": [
    "#hide\n",
    "dfc_cases = dft_cases.groupby(COL_REGION)[dt_today].sum()\n",
    "dfc_deaths = dft_deaths.groupby(COL_REGION)[dt_today].sum()\n",
    "# dfp_cases = dft_cases.groupby(COL_REGION)[dt_5day].sum()\n",
    "# dfp_deaths = dft_deaths.groupby(COL_REGION)[dt_5day].sum()\n",
    "dfp_cases = dft_cases.groupby(COL_REGION)[dt_yday].sum()\n",
    "dfp_deaths = dft_deaths.groupby(COL_REGION)[dt_yday].sum()"
   ]
  },
  {
   "cell_type": "code",
   "execution_count": 12,
   "id": "deluxe-hepatitis",
   "metadata": {
    "execution": {
     "iopub.execute_input": "2021-02-14T00:11:32.621234Z",
     "iopub.status.busy": "2021-02-14T00:11:32.620566Z",
     "iopub.status.idle": "2021-02-14T00:11:32.625450Z",
     "shell.execute_reply": "2021-02-14T00:11:32.626070Z"
    },
    "papermill": {
     "duration": 0.051594,
     "end_time": "2021-02-14T00:11:32.626295",
     "exception": false,
     "start_time": "2021-02-14T00:11:32.574701",
     "status": "completed"
    },
    "tags": []
   },
   "outputs": [],
   "source": [
    "#hide\n",
    "df_table = (pd.DataFrame(dict(Cases = dfc_cases, Deaths = dfc_deaths, PCases = dfp_cases, PDeaths = dfp_deaths))\n",
    "            .sort_values(by = ['Cases','Deaths'], ascending = [False, False])\n",
    "            .reset_index())"
   ]
  },
  {
   "cell_type": "code",
   "execution_count": 13,
   "id": "educational-chancellor",
   "metadata": {
    "execution": {
     "iopub.execute_input": "2021-02-14T00:11:32.729177Z",
     "iopub.status.busy": "2021-02-14T00:11:32.725140Z",
     "iopub.status.idle": "2021-02-14T00:11:32.735118Z",
     "shell.execute_reply": "2021-02-14T00:11:32.735695Z"
    },
    "papermill": {
     "duration": 0.069832,
     "end_time": "2021-02-14T00:11:32.735837",
     "exception": false,
     "start_time": "2021-02-14T00:11:32.666005",
     "status": "completed"
    },
    "tags": []
   },
   "outputs": [
    {
     "data": {
      "text/html": [
       "<div>\n",
       "<style scoped>\n",
       "    .dataframe tbody tr th:only-of-type {\n",
       "        vertical-align: middle;\n",
       "    }\n",
       "\n",
       "    .dataframe tbody tr th {\n",
       "        vertical-align: top;\n",
       "    }\n",
       "\n",
       "    .dataframe thead th {\n",
       "        text-align: right;\n",
       "    }\n",
       "</style>\n",
       "<table border=\"1\" class=\"dataframe\">\n",
       "  <thead>\n",
       "    <tr style=\"text-align: right;\">\n",
       "      <th></th>\n",
       "      <th>Country/Region</th>\n",
       "      <th>Cases</th>\n",
       "      <th>Deaths</th>\n",
       "      <th>PCases</th>\n",
       "      <th>PDeaths</th>\n",
       "      <th>Cases (+)</th>\n",
       "      <th>Deaths (+)</th>\n",
       "      <th>Fatality Rate</th>\n",
       "      <th>Continent</th>\n",
       "    </tr>\n",
       "  </thead>\n",
       "  <tbody>\n",
       "    <tr>\n",
       "      <th>0</th>\n",
       "      <td>US</td>\n",
       "      <td>27492023</td>\n",
       "      <td>480887</td>\n",
       "      <td>27392512</td>\n",
       "      <td>475444</td>\n",
       "      <td>99511</td>\n",
       "      <td>5443</td>\n",
       "      <td>1.75</td>\n",
       "      <td>North America</td>\n",
       "    </tr>\n",
       "    <tr>\n",
       "      <th>1</th>\n",
       "      <td>India</td>\n",
       "      <td>10892746</td>\n",
       "      <td>155550</td>\n",
       "      <td>10880603</td>\n",
       "      <td>155447</td>\n",
       "      <td>12143</td>\n",
       "      <td>103</td>\n",
       "      <td>1.43</td>\n",
       "      <td>Asia</td>\n",
       "    </tr>\n",
       "    <tr>\n",
       "      <th>2</th>\n",
       "      <td>Brazil</td>\n",
       "      <td>9765455</td>\n",
       "      <td>237489</td>\n",
       "      <td>9713909</td>\n",
       "      <td>236201</td>\n",
       "      <td>51546</td>\n",
       "      <td>1288</td>\n",
       "      <td>2.43</td>\n",
       "      <td>South America</td>\n",
       "    </tr>\n",
       "    <tr>\n",
       "      <th>3</th>\n",
       "      <td>United Kingdom</td>\n",
       "      <td>4025574</td>\n",
       "      <td>116507</td>\n",
       "      <td>4010376</td>\n",
       "      <td>115748</td>\n",
       "      <td>15198</td>\n",
       "      <td>759</td>\n",
       "      <td>2.89</td>\n",
       "      <td>Europe</td>\n",
       "    </tr>\n",
       "    <tr>\n",
       "      <th>4</th>\n",
       "      <td>Russia</td>\n",
       "      <td>3997898</td>\n",
       "      <td>77911</td>\n",
       "      <td>3983031</td>\n",
       "      <td>77415</td>\n",
       "      <td>14867</td>\n",
       "      <td>496</td>\n",
       "      <td>1.95</td>\n",
       "      <td>Europe</td>\n",
       "    </tr>\n",
       "  </tbody>\n",
       "</table>\n",
       "</div>"
      ],
      "text/plain": [
       "   Country/Region     Cases  Deaths    PCases  PDeaths  Cases (+)  Deaths (+)  \\\n",
       "0              US  27492023  480887  27392512   475444      99511        5443   \n",
       "1           India  10892746  155550  10880603   155447      12143         103   \n",
       "2          Brazil   9765455  237489   9713909   236201      51546        1288   \n",
       "3  United Kingdom   4025574  116507   4010376   115748      15198         759   \n",
       "4          Russia   3997898   77911   3983031    77415      14867         496   \n",
       "\n",
       "   Fatality Rate      Continent  \n",
       "0           1.75  North America  \n",
       "1           1.43           Asia  \n",
       "2           2.43  South America  \n",
       "3           2.89         Europe  \n",
       "4           1.95         Europe  "
      ]
     },
     "execution_count": 13,
     "metadata": {},
     "output_type": "execute_result"
    }
   ],
   "source": [
    "#hide\n",
    "for c in 'Cases, Deaths'.split(', '):\n",
    "    df_table[f'{c} (+)'] = (df_table[c] - df_table[f'P{c}']).clip(0)\n",
    "    #Clip ça veut dire, les chiffres negatif sont interdit\n",
    "df_table['Fatality Rate'] = (100* df_table['Deaths']/ df_table['Cases']).round(2)\n",
    "df_table['Continent'] = df_table['Country/Region'].map(mapping['map.continent'])\n",
    "df_table.head(5)"
   ]
  },
  {
   "cell_type": "code",
   "execution_count": 14,
   "id": "aboriginal-bulgaria",
   "metadata": {
    "execution": {
     "iopub.execute_input": "2021-02-14T00:11:32.820701Z",
     "iopub.status.busy": "2021-02-14T00:11:32.819943Z",
     "iopub.status.idle": "2021-02-14T00:11:32.823599Z",
     "shell.execute_reply": "2021-02-14T00:11:32.824225Z"
    },
    "papermill": {
     "duration": 0.051667,
     "end_time": "2021-02-14T00:11:32.824360",
     "exception": false,
     "start_time": "2021-02-14T00:11:32.772693",
     "status": "completed"
    },
    "tags": []
   },
   "outputs": [],
   "source": [
    "#hide\n",
    "#delete problematic countries from table\n",
    "df_table = df_table[~df_table['Country/Region'].isin(['Cape Verde', 'Cruise Ship', 'Kosovo'])]"
   ]
  },
  {
   "cell_type": "code",
   "execution_count": 15,
   "id": "fantastic-effect",
   "metadata": {
    "execution": {
     "iopub.execute_input": "2021-02-14T00:11:32.905689Z",
     "iopub.status.busy": "2021-02-14T00:11:32.905019Z",
     "iopub.status.idle": "2021-02-14T00:11:32.927097Z",
     "shell.execute_reply": "2021-02-14T00:11:32.926489Z"
    },
    "papermill": {
     "duration": 0.066209,
     "end_time": "2021-02-14T00:11:32.927214",
     "exception": false,
     "start_time": "2021-02-14T00:11:32.861005",
     "status": "completed"
    },
    "tags": []
   },
   "outputs": [
    {
     "data": {
      "text/html": [
       "<div>\n",
       "<style scoped>\n",
       "    .dataframe tbody tr th:only-of-type {\n",
       "        vertical-align: middle;\n",
       "    }\n",
       "\n",
       "    .dataframe tbody tr th {\n",
       "        vertical-align: top;\n",
       "    }\n",
       "\n",
       "    .dataframe thead th {\n",
       "        text-align: right;\n",
       "    }\n",
       "</style>\n",
       "<table border=\"1\" class=\"dataframe\">\n",
       "  <thead>\n",
       "    <tr style=\"text-align: right;\">\n",
       "      <th></th>\n",
       "      <th>Country/Region</th>\n",
       "      <th>Cases</th>\n",
       "      <th>Deaths</th>\n",
       "      <th>PCases</th>\n",
       "      <th>PDeaths</th>\n",
       "      <th>Cases (+)</th>\n",
       "      <th>Deaths (+)</th>\n",
       "      <th>Fatality Rate</th>\n",
       "      <th>Continent</th>\n",
       "    </tr>\n",
       "  </thead>\n",
       "  <tbody>\n",
       "    <tr>\n",
       "      <th>0</th>\n",
       "      <td>US</td>\n",
       "      <td>27492023</td>\n",
       "      <td>480887</td>\n",
       "      <td>27392512</td>\n",
       "      <td>475444</td>\n",
       "      <td>99511</td>\n",
       "      <td>5443</td>\n",
       "      <td>1.7</td>\n",
       "      <td>North America</td>\n",
       "    </tr>\n",
       "    <tr>\n",
       "      <th>1</th>\n",
       "      <td>India</td>\n",
       "      <td>10892746</td>\n",
       "      <td>155550</td>\n",
       "      <td>10880603</td>\n",
       "      <td>155447</td>\n",
       "      <td>12143</td>\n",
       "      <td>103</td>\n",
       "      <td>1.4</td>\n",
       "      <td>Asia</td>\n",
       "    </tr>\n",
       "    <tr>\n",
       "      <th>2</th>\n",
       "      <td>Brazil</td>\n",
       "      <td>9765455</td>\n",
       "      <td>237489</td>\n",
       "      <td>9713909</td>\n",
       "      <td>236201</td>\n",
       "      <td>51546</td>\n",
       "      <td>1288</td>\n",
       "      <td>2.4</td>\n",
       "      <td>South America</td>\n",
       "    </tr>\n",
       "    <tr>\n",
       "      <th>3</th>\n",
       "      <td>United Kingdom</td>\n",
       "      <td>4025574</td>\n",
       "      <td>116507</td>\n",
       "      <td>4010376</td>\n",
       "      <td>115748</td>\n",
       "      <td>15198</td>\n",
       "      <td>759</td>\n",
       "      <td>2.9</td>\n",
       "      <td>Europe</td>\n",
       "    </tr>\n",
       "    <tr>\n",
       "      <th>4</th>\n",
       "      <td>Russia</td>\n",
       "      <td>3997898</td>\n",
       "      <td>77911</td>\n",
       "      <td>3983031</td>\n",
       "      <td>77415</td>\n",
       "      <td>14867</td>\n",
       "      <td>496</td>\n",
       "      <td>1.9</td>\n",
       "      <td>Europe</td>\n",
       "    </tr>\n",
       "  </tbody>\n",
       "</table>\n",
       "</div>"
      ],
      "text/plain": [
       "   Country/Region     Cases  Deaths    PCases  PDeaths  Cases (+)  Deaths (+)  \\\n",
       "0              US  27492023  480887  27392512   475444      99511        5443   \n",
       "1           India  10892746  155550  10880603   155447      12143         103   \n",
       "2          Brazil   9765455  237489   9713909   236201      51546        1288   \n",
       "3  United Kingdom   4025574  116507   4010376   115748      15198         759   \n",
       "4          Russia   3997898   77911   3983031    77415      14867         496   \n",
       "\n",
       "   Fatality Rate      Continent  \n",
       "0            1.7  North America  \n",
       "1            1.4           Asia  \n",
       "2            2.4  South America  \n",
       "3            2.9         Europe  \n",
       "4            1.9         Europe  "
      ]
     },
     "execution_count": 15,
     "metadata": {},
     "output_type": "execute_result"
    }
   ],
   "source": [
    "#hide\n",
    "df_table = (pd.DataFrame(dict(Cases=dfc_cases, Deaths=dfc_deaths, PCases=dfp_cases, PDeaths=dfp_deaths))\n",
    "             .sort_values(by=['Cases', 'Deaths'], ascending=[False, False])\n",
    "             .reset_index())\n",
    "df_table.rename(columns={'index': 'Country/Region'}, inplace=True)\n",
    "for c in 'Cases, Deaths'.split(', '):\n",
    "    df_table[f'{c} (+)'] = (df_table[c] - df_table[f'P{c}']).clip(0)  # DATA BUG\n",
    "df_table['Fatality Rate'] = (100 * df_table['Deaths'] / df_table['Cases']).round(1)\n",
    "df_table['Continent'] = df_table['Country/Region'].map(mapping['map.continent'])\n",
    "df_table.head(5)"
   ]
  },
  {
   "cell_type": "code",
   "execution_count": 16,
   "id": "fewer-occasion",
   "metadata": {
    "execution": {
     "iopub.execute_input": "2021-02-14T00:11:33.010845Z",
     "iopub.status.busy": "2021-02-14T00:11:33.010237Z",
     "iopub.status.idle": "2021-02-14T00:11:33.013207Z",
     "shell.execute_reply": "2021-02-14T00:11:33.014327Z"
    },
    "papermill": {
     "duration": 0.046085,
     "end_time": "2021-02-14T00:11:33.014584",
     "exception": false,
     "start_time": "2021-02-14T00:11:32.968499",
     "status": "completed"
    },
    "tags": []
   },
   "outputs": [],
   "source": [
    "#hide\n",
    "#delete problematic countries from table\n",
    "df_table = df_table[~df_table['Country/Region'].isin(['Cape Verde', 'Cruise Ship', 'Kosovo'])]"
   ]
  },
  {
   "cell_type": "code",
   "execution_count": 17,
   "id": "related-center",
   "metadata": {
    "execution": {
     "iopub.execute_input": "2021-02-14T00:11:33.094965Z",
     "iopub.status.busy": "2021-02-14T00:11:33.094157Z",
     "iopub.status.idle": "2021-02-14T00:11:33.110324Z",
     "shell.execute_reply": "2021-02-14T00:11:33.111086Z"
    },
    "papermill": {
     "duration": 0.060846,
     "end_time": "2021-02-14T00:11:33.111233",
     "exception": false,
     "start_time": "2021-02-14T00:11:33.050387",
     "status": "completed"
    },
    "tags": []
   },
   "outputs": [],
   "source": [
    "#hide\n",
    "metrics = [df_table.columns[index] for index in [1,2,5,6]]\n",
    "# s_china = df_table[df_table['Country/Region'].eq('China')][metrics].sum().add_prefix('China ')\n",
    "s_us = df_table[df_table['Country/Region'].eq('US')][metrics].sum().add_prefix('US ')\n",
    "s_eu = df_table[df_table['Continent'].eq('Europe')][metrics].sum().add_prefix('EU ')\n",
    "s_ind = df_table[df_table['Country/Region'].eq('India')][metrics].sum().add_prefix('India ')\n",
    "summary = {'updated': pd.to_datetime(dt_today), 'since': pd.to_datetime(dt_yday)}\n",
    "summary = {'updated': pd.to_datetime(dt_today), 'since': pd.to_datetime(dt_yday)}\n",
    "summary = {**summary, **df_table[metrics].sum(), **s_ind, **s_us, **s_eu}"
   ]
  },
  {
   "cell_type": "code",
   "execution_count": 18,
   "id": "engaging-syndrome",
   "metadata": {
    "execution": {
     "iopub.execute_input": "2021-02-14T00:11:33.196261Z",
     "iopub.status.busy": "2021-02-14T00:11:33.195673Z",
     "iopub.status.idle": "2021-02-14T00:11:33.205330Z",
     "shell.execute_reply": "2021-02-14T00:11:33.204848Z"
    },
    "papermill": {
     "duration": 0.054641,
     "end_time": "2021-02-14T00:11:33.205445",
     "exception": false,
     "start_time": "2021-02-14T00:11:33.150804",
     "status": "completed"
    },
    "tags": []
   },
   "outputs": [],
   "source": [
    "#hide\n",
    "dft_ct_new_cases = dft_cases.groupby(COL_REGION)[dt_cols].sum().diff(axis=1).fillna(0).astype(int)"
   ]
  },
  {
   "cell_type": "code",
   "execution_count": 19,
   "id": "neutral-assignment",
   "metadata": {
    "execution": {
     "iopub.execute_input": "2021-02-14T00:11:33.286402Z",
     "iopub.status.busy": "2021-02-14T00:11:33.285784Z",
     "iopub.status.idle": "2021-02-14T00:11:33.288326Z",
     "shell.execute_reply": "2021-02-14T00:11:33.287820Z"
    },
    "papermill": {
     "duration": 0.046742,
     "end_time": "2021-02-14T00:11:33.288458",
     "exception": false,
     "start_time": "2021-02-14T00:11:33.241716",
     "status": "completed"
    },
    "tags": []
   },
   "outputs": [],
   "source": [
    "#hide\n",
    "everydaycases = dft_ct_new_cases.cumsum(axis=1)"
   ]
  },
  {
   "cell_type": "code",
   "execution_count": 20,
   "id": "parliamentary-calgary",
   "metadata": {
    "execution": {
     "iopub.execute_input": "2021-02-14T00:11:33.366624Z",
     "iopub.status.busy": "2021-02-14T00:11:33.365909Z",
     "iopub.status.idle": "2021-02-14T00:11:35.258469Z",
     "shell.execute_reply": "2021-02-14T00:11:35.257786Z"
    },
    "papermill": {
     "duration": 1.933937,
     "end_time": "2021-02-14T00:11:35.258654",
     "exception": false,
     "start_time": "2021-02-14T00:11:33.324717",
     "status": "completed"
    },
    "tags": []
   },
   "outputs": [],
   "source": [
    "#hide\n",
    "import pandas as pd\n",
    "import matplotlib.pyplot as plt\n",
    "import matplotlib.ticker as ticker\n",
    "import matplotlib.animation as animation\n",
    "from IPython.display import HTML"
   ]
  },
  {
   "cell_type": "code",
   "execution_count": 21,
   "id": "lasting-extraction",
   "metadata": {
    "execution": {
     "iopub.execute_input": "2021-02-14T00:11:35.330473Z",
     "iopub.status.busy": "2021-02-14T00:11:35.329903Z",
     "iopub.status.idle": "2021-02-14T00:11:35.335400Z",
     "shell.execute_reply": "2021-02-14T00:11:35.334902Z"
    },
    "papermill": {
     "duration": 0.043563,
     "end_time": "2021-02-14T00:11:35.335510",
     "exception": false,
     "start_time": "2021-02-14T00:11:35.291947",
     "status": "completed"
    },
    "tags": []
   },
   "outputs": [],
   "source": [
    "#hide\n",
    "t = everydaycases.stack()"
   ]
  },
  {
   "cell_type": "code",
   "execution_count": 22,
   "id": "premier-sleeve",
   "metadata": {
    "execution": {
     "iopub.execute_input": "2021-02-14T00:11:35.413464Z",
     "iopub.status.busy": "2021-02-14T00:11:35.412731Z",
     "iopub.status.idle": "2021-02-14T00:11:35.420286Z",
     "shell.execute_reply": "2021-02-14T00:11:35.420998Z"
    },
    "papermill": {
     "duration": 0.049172,
     "end_time": "2021-02-14T00:11:35.421180",
     "exception": false,
     "start_time": "2021-02-14T00:11:35.372008",
     "status": "completed"
    },
    "tags": []
   },
   "outputs": [],
   "source": [
    "#hide\n",
    "g = t.reset_index(['Country/Region'])"
   ]
  },
  {
   "cell_type": "code",
   "execution_count": 23,
   "id": "distributed-pittsburgh",
   "metadata": {
    "execution": {
     "iopub.execute_input": "2021-02-14T00:11:35.500487Z",
     "iopub.status.busy": "2021-02-14T00:11:35.499935Z",
     "iopub.status.idle": "2021-02-14T00:11:35.501977Z",
     "shell.execute_reply": "2021-02-14T00:11:35.502572Z"
    },
    "papermill": {
     "duration": 0.04356,
     "end_time": "2021-02-14T00:11:35.502709",
     "exception": false,
     "start_time": "2021-02-14T00:11:35.459149",
     "status": "completed"
    },
    "tags": []
   },
   "outputs": [],
   "source": [
    "#hide\n",
    "g.index.name = 'date'"
   ]
  },
  {
   "cell_type": "code",
   "execution_count": 24,
   "id": "naked-donor",
   "metadata": {
    "execution": {
     "iopub.execute_input": "2021-02-14T00:11:35.574410Z",
     "iopub.status.busy": "2021-02-14T00:11:35.573787Z",
     "iopub.status.idle": "2021-02-14T00:11:35.575625Z",
     "shell.execute_reply": "2021-02-14T00:11:35.576182Z"
    },
    "papermill": {
     "duration": 0.040166,
     "end_time": "2021-02-14T00:11:35.576300",
     "exception": false,
     "start_time": "2021-02-14T00:11:35.536134",
     "status": "completed"
    },
    "tags": []
   },
   "outputs": [],
   "source": [
    "# #hide\n",
    "# g = g.reset_index(['date'])"
   ]
  },
  {
   "cell_type": "code",
   "execution_count": 25,
   "id": "incomplete-mustang",
   "metadata": {
    "execution": {
     "iopub.execute_input": "2021-02-14T00:11:35.647949Z",
     "iopub.status.busy": "2021-02-14T00:11:35.647365Z",
     "iopub.status.idle": "2021-02-14T00:11:35.649499Z",
     "shell.execute_reply": "2021-02-14T00:11:35.650181Z"
    },
    "papermill": {
     "duration": 0.040449,
     "end_time": "2021-02-14T00:11:35.650403",
     "exception": false,
     "start_time": "2021-02-14T00:11:35.609954",
     "status": "completed"
    },
    "tags": []
   },
   "outputs": [],
   "source": [
    "#hide\n",
    "# g.head()"
   ]
  },
  {
   "cell_type": "code",
   "execution_count": 26,
   "id": "specific-kruger",
   "metadata": {
    "execution": {
     "iopub.execute_input": "2021-02-14T00:11:35.729290Z",
     "iopub.status.busy": "2021-02-14T00:11:35.728664Z",
     "iopub.status.idle": "2021-02-14T00:11:35.730008Z",
     "shell.execute_reply": "2021-02-14T00:11:35.730713Z"
    },
    "papermill": {
     "duration": 0.042782,
     "end_time": "2021-02-14T00:11:35.730971",
     "exception": false,
     "start_time": "2021-02-14T00:11:35.688189",
     "status": "completed"
    },
    "tags": []
   },
   "outputs": [],
   "source": [
    "#hide\n",
    "# g.columns = ['date','country','cases']"
   ]
  },
  {
   "cell_type": "code",
   "execution_count": 27,
   "id": "tender-conversion",
   "metadata": {
    "execution": {
     "iopub.execute_input": "2021-02-14T00:11:35.808206Z",
     "iopub.status.busy": "2021-02-14T00:11:35.807555Z",
     "iopub.status.idle": "2021-02-14T00:11:35.809809Z",
     "shell.execute_reply": "2021-02-14T00:11:35.809321Z"
    },
    "papermill": {
     "duration": 0.041609,
     "end_time": "2021-02-14T00:11:35.809925",
     "exception": false,
     "start_time": "2021-02-14T00:11:35.768316",
     "status": "completed"
    },
    "tags": []
   },
   "outputs": [],
   "source": [
    "#hide\n",
    "# g['continent'] = g.country"
   ]
  },
  {
   "cell_type": "code",
   "execution_count": 28,
   "id": "substantial-wilderness",
   "metadata": {
    "execution": {
     "iopub.execute_input": "2021-02-14T00:11:35.895539Z",
     "iopub.status.busy": "2021-02-14T00:11:35.894923Z",
     "iopub.status.idle": "2021-02-14T00:11:35.897622Z",
     "shell.execute_reply": "2021-02-14T00:11:35.897123Z"
    },
    "papermill": {
     "duration": 0.047833,
     "end_time": "2021-02-14T00:11:35.897761",
     "exception": false,
     "start_time": "2021-02-14T00:11:35.849928",
     "status": "completed"
    },
    "tags": []
   },
   "outputs": [],
   "source": [
    "#hide\n",
    "# cols = list(g.columns.values)"
   ]
  },
  {
   "cell_type": "code",
   "execution_count": 29,
   "id": "solved-farming",
   "metadata": {
    "execution": {
     "iopub.execute_input": "2021-02-14T00:11:35.979955Z",
     "iopub.status.busy": "2021-02-14T00:11:35.979161Z",
     "iopub.status.idle": "2021-02-14T00:11:35.981059Z",
     "shell.execute_reply": "2021-02-14T00:11:35.981613Z"
    },
    "papermill": {
     "duration": 0.045319,
     "end_time": "2021-02-14T00:11:35.981747",
     "exception": false,
     "start_time": "2021-02-14T00:11:35.936428",
     "status": "completed"
    },
    "tags": []
   },
   "outputs": [],
   "source": [
    "#hide\n",
    "# cols.insert(0, cols.pop())"
   ]
  },
  {
   "cell_type": "code",
   "execution_count": 30,
   "id": "executed-adoption",
   "metadata": {
    "execution": {
     "iopub.execute_input": "2021-02-14T00:11:36.056888Z",
     "iopub.status.busy": "2021-02-14T00:11:36.056080Z",
     "iopub.status.idle": "2021-02-14T00:11:36.060728Z",
     "shell.execute_reply": "2021-02-14T00:11:36.061418Z"
    },
    "papermill": {
     "duration": 0.042321,
     "end_time": "2021-02-14T00:11:36.061575",
     "exception": false,
     "start_time": "2021-02-14T00:11:36.019254",
     "status": "completed"
    },
    "tags": []
   },
   "outputs": [],
   "source": [
    "#hide\n",
    "# g = g[cols]"
   ]
  },
  {
   "cell_type": "code",
   "execution_count": 31,
   "id": "subject-dublin",
   "metadata": {
    "execution": {
     "iopub.execute_input": "2021-02-14T00:11:36.137716Z",
     "iopub.status.busy": "2021-02-14T00:11:36.137179Z",
     "iopub.status.idle": "2021-02-14T00:11:36.139099Z",
     "shell.execute_reply": "2021-02-14T00:11:36.139533Z"
    },
    "papermill": {
     "duration": 0.041609,
     "end_time": "2021-02-14T00:11:36.139655",
     "exception": false,
     "start_time": "2021-02-14T00:11:36.098046",
     "status": "completed"
    },
    "tags": []
   },
   "outputs": [],
   "source": [
    "#hide\n",
    "# g['continent'] = g['continent'].map(mapping['map.continent'])"
   ]
  },
  {
   "cell_type": "code",
   "execution_count": 32,
   "id": "freelance-scout",
   "metadata": {
    "execution": {
     "iopub.execute_input": "2021-02-14T00:11:36.211638Z",
     "iopub.status.busy": "2021-02-14T00:11:36.211081Z",
     "iopub.status.idle": "2021-02-14T00:11:36.213589Z",
     "shell.execute_reply": "2021-02-14T00:11:36.213075Z"
    },
    "papermill": {
     "duration": 0.038366,
     "end_time": "2021-02-14T00:11:36.213698",
     "exception": false,
     "start_time": "2021-02-14T00:11:36.175332",
     "status": "completed"
    },
    "tags": []
   },
   "outputs": [],
   "source": [
    "#hide\n",
    "# g.head()"
   ]
  },
  {
   "cell_type": "code",
   "execution_count": 33,
   "id": "limited-engine",
   "metadata": {
    "execution": {
     "iopub.execute_input": "2021-02-14T00:11:36.283605Z",
     "iopub.status.busy": "2021-02-14T00:11:36.283104Z",
     "iopub.status.idle": "2021-02-14T00:11:36.285334Z",
     "shell.execute_reply": "2021-02-14T00:11:36.284850Z"
    },
    "papermill": {
     "duration": 0.038089,
     "end_time": "2021-02-14T00:11:36.285474",
     "exception": false,
     "start_time": "2021-02-14T00:11:36.247385",
     "status": "completed"
    },
    "tags": []
   },
   "outputs": [],
   "source": [
    "# hide\n",
    "# g['date'] = g['date'].astype('datetime64[ns]')"
   ]
  },
  {
   "cell_type": "code",
   "execution_count": 34,
   "id": "sophisticated-supervisor",
   "metadata": {
    "execution": {
     "iopub.execute_input": "2021-02-14T00:11:36.359118Z",
     "iopub.status.busy": "2021-02-14T00:11:36.358566Z",
     "iopub.status.idle": "2021-02-14T00:11:36.360924Z",
     "shell.execute_reply": "2021-02-14T00:11:36.360487Z"
    },
    "papermill": {
     "duration": 0.041978,
     "end_time": "2021-02-14T00:11:36.361030",
     "exception": false,
     "start_time": "2021-02-14T00:11:36.319052",
     "status": "completed"
    },
    "tags": []
   },
   "outputs": [],
   "source": [
    "#hide\n",
    "# g['date'] = g.date.dt.dayofyear"
   ]
  },
  {
   "cell_type": "code",
   "execution_count": 35,
   "id": "inside-dubai",
   "metadata": {
    "execution": {
     "iopub.execute_input": "2021-02-14T00:11:36.433412Z",
     "iopub.status.busy": "2021-02-14T00:11:36.432884Z",
     "iopub.status.idle": "2021-02-14T00:11:36.434879Z",
     "shell.execute_reply": "2021-02-14T00:11:36.435470Z"
    },
    "papermill": {
     "duration": 0.040978,
     "end_time": "2021-02-14T00:11:36.435581",
     "exception": false,
     "start_time": "2021-02-14T00:11:36.394603",
     "status": "completed"
    },
    "tags": []
   },
   "outputs": [],
   "source": [
    "#hide\n",
    "# g = g.rename(columns= {'continent':'group','country':'name','cases':'value'})"
   ]
  },
  {
   "cell_type": "code",
   "execution_count": 36,
   "id": "fleet-motorcycle",
   "metadata": {
    "execution": {
     "iopub.execute_input": "2021-02-14T00:11:36.513367Z",
     "iopub.status.busy": "2021-02-14T00:11:36.512660Z",
     "iopub.status.idle": "2021-02-14T00:11:36.514843Z",
     "shell.execute_reply": "2021-02-14T00:11:36.515430Z"
    },
    "papermill": {
     "duration": 0.044495,
     "end_time": "2021-02-14T00:11:36.515561",
     "exception": false,
     "start_time": "2021-02-14T00:11:36.471066",
     "status": "completed"
    },
    "tags": []
   },
   "outputs": [],
   "source": [
    "#hide\n",
    "# cols = ['name','group','day','value']"
   ]
  },
  {
   "cell_type": "code",
   "execution_count": 37,
   "id": "continued-sleeping",
   "metadata": {
    "execution": {
     "iopub.execute_input": "2021-02-14T00:11:36.592948Z",
     "iopub.status.busy": "2021-02-14T00:11:36.592305Z",
     "iopub.status.idle": "2021-02-14T00:11:36.594900Z",
     "shell.execute_reply": "2021-02-14T00:11:36.594411Z"
    },
    "papermill": {
     "duration": 0.042389,
     "end_time": "2021-02-14T00:11:36.595012",
     "exception": false,
     "start_time": "2021-02-14T00:11:36.552623",
     "status": "completed"
    },
    "tags": []
   },
   "outputs": [],
   "source": [
    "#hide\n",
    "# g.rename(columns= {'date':'day'},inplace = True)"
   ]
  },
  {
   "cell_type": "code",
   "execution_count": 38,
   "id": "major-fight",
   "metadata": {
    "execution": {
     "iopub.execute_input": "2021-02-14T00:11:36.670028Z",
     "iopub.status.busy": "2021-02-14T00:11:36.669498Z",
     "iopub.status.idle": "2021-02-14T00:11:36.671317Z",
     "shell.execute_reply": "2021-02-14T00:11:36.671855Z"
    },
    "papermill": {
     "duration": 0.041182,
     "end_time": "2021-02-14T00:11:36.671966",
     "exception": false,
     "start_time": "2021-02-14T00:11:36.630784",
     "status": "completed"
    },
    "tags": []
   },
   "outputs": [],
   "source": [
    "#hide\n",
    "# g = g[cols]"
   ]
  },
  {
   "cell_type": "code",
   "execution_count": 39,
   "id": "structured-mobile",
   "metadata": {
    "execution": {
     "iopub.execute_input": "2021-02-14T00:11:36.753052Z",
     "iopub.status.busy": "2021-02-14T00:11:36.752496Z",
     "iopub.status.idle": "2021-02-14T00:11:36.754522Z",
     "shell.execute_reply": "2021-02-14T00:11:36.755145Z"
    },
    "papermill": {
     "duration": 0.045088,
     "end_time": "2021-02-14T00:11:36.755267",
     "exception": false,
     "start_time": "2021-02-14T00:11:36.710179",
     "status": "completed"
    },
    "tags": []
   },
   "outputs": [],
   "source": [
    "# #hide\n",
    "# g = g[g.group.notna()]"
   ]
  },
  {
   "cell_type": "code",
   "execution_count": 40,
   "id": "determined-closing",
   "metadata": {
    "execution": {
     "iopub.execute_input": "2021-02-14T00:11:36.835167Z",
     "iopub.status.busy": "2021-02-14T00:11:36.834551Z",
     "iopub.status.idle": "2021-02-14T00:11:36.837507Z",
     "shell.execute_reply": "2021-02-14T00:11:36.838073Z"
    },
    "papermill": {
     "duration": 0.046046,
     "end_time": "2021-02-14T00:11:36.838205",
     "exception": false,
     "start_time": "2021-02-14T00:11:36.792159",
     "status": "completed"
    },
    "tags": []
   },
   "outputs": [],
   "source": [
    "# #hide\n",
    "# colors = dict(zip(\n",
    "#     [\"Oceania\", \"Europe\", \"Asia\", \"South America\", \"Middle East\", \"North America\", \"Africa\"],\n",
    "#     [\"#adb0ff\", \"#ffb3ff\", \"#90d595\", \"#e48381\", \"#aafbff\", \"#f7bb5f\", \"#eafb50\"]\n",
    "# ))\n",
    "# group_lk = g.set_index('name')['group'].to_dict()"
   ]
  },
  {
   "cell_type": "code",
   "execution_count": null,
   "id": "gross-drinking",
   "metadata": {
    "papermill": {
     "duration": 0.043338,
     "end_time": "2021-02-14T00:11:36.918769",
     "exception": false,
     "start_time": "2021-02-14T00:11:36.875431",
     "status": "completed"
    },
    "tags": []
   },
   "outputs": [],
   "source": []
  },
  {
   "cell_type": "code",
   "execution_count": 41,
   "id": "subject-macintosh",
   "metadata": {
    "execution": {
     "iopub.execute_input": "2021-02-14T00:11:36.995573Z",
     "iopub.status.busy": "2021-02-14T00:11:36.995007Z",
     "iopub.status.idle": "2021-02-14T00:11:36.996843Z",
     "shell.execute_reply": "2021-02-14T00:11:36.997353Z"
    },
    "papermill": {
     "duration": 0.041778,
     "end_time": "2021-02-14T00:11:36.997487",
     "exception": false,
     "start_time": "2021-02-14T00:11:36.955709",
     "status": "completed"
    },
    "tags": []
   },
   "outputs": [],
   "source": [
    "# #hide\n",
    "# fig, ax = plt.subplots(figsize=(15, 8))\n",
    "\n",
    "# def draw_barchart(current_day):\n",
    "#     dff = g[g['day'].eq(current_day)].sort_values(by='value', ascending=True).tail(10)\n",
    "#     ax.clear()\n",
    "#     ax.barh(dff['name'], dff['value'], color=[colors[group_lk[x]] for x in dff['name']])\n",
    "#     dx = dff['value'].max() / 200\n",
    "    \n",
    "#     for i, (value, name) in enumerate(zip(dff['value'], dff['name'])):\n",
    "#         ax.text(value-dx, i,     name,           size=14, weight=600, ha='right', va='bottom')\n",
    "#         ax.text(value-dx, i-.25, group_lk[name], size=10, color='#444444', ha='right', va='baseline')\n",
    "#         ax.text(value+dx, i,     f'{value:,.0f}',  size=14, ha='left',  va='center')\n",
    "#     ax.text(1, 0.4, current_day, transform=ax.transAxes, color='#777777', size=46, ha='right', weight=800)\n",
    "#     ax.text(0, 1.06, 'Population (thousands)', transform=ax.transAxes, size=12, color='#777777')\n",
    "#     ax.xaxis.set_major_formatter(ticker.StrMethodFormatter('{x:,.0f}'))\n",
    "#     ax.xaxis.set_ticks_position('top')\n",
    "#     ax.tick_params(axis='x', colors='#777777', labelsize=12)\n",
    "#     ax.set_yticks([])\n",
    "#     ax.margins(0, 0.01)\n",
    "#     ax.grid(which='major', axis='x', linestyle='-')\n",
    "#     ax.set_axisbelow(True)\n",
    "    \n",
    "#     ax.text(0, 1.15, 'Coronavirus',\n",
    "#             transform=ax.transAxes, size=24, weight=600, ha='left', va='top')\n",
    "# #     ax.text(1, 0, 'by @pratapvardhan; credit @jburnmurdoch', transform=ax.transAxes, color='#777777', ha='right',\n",
    "# #             bbox=dict(facecolor='white', alpha=0.8, edgecolor='white'))\n",
    "#     plt.box(False)"
   ]
  },
  {
   "cell_type": "code",
   "execution_count": 42,
   "id": "sexual-wages",
   "metadata": {
    "execution": {
     "iopub.execute_input": "2021-02-14T00:11:37.074298Z",
     "iopub.status.busy": "2021-02-14T00:11:37.073670Z",
     "iopub.status.idle": "2021-02-14T00:11:37.075656Z",
     "shell.execute_reply": "2021-02-14T00:11:37.076232Z"
    },
    "papermill": {
     "duration": 0.045437,
     "end_time": "2021-02-14T00:11:37.076366",
     "exception": false,
     "start_time": "2021-02-14T00:11:37.030929",
     "status": "completed"
    },
    "tags": []
   },
   "outputs": [],
   "source": [
    "# #hide_input\n",
    "# fig, ax = plt.subplots(figsize=(15, 8))\n",
    "# animator = animation.FuncAnimation(fig, draw_barchart, frames=range(g.day.values.min(), g.day.values.max()))\n",
    "# HTML(animator.to_jshtml())\n",
    "# # or use animator.to_html5_video() or animator.save() "
   ]
  },
  {
   "cell_type": "code",
   "execution_count": null,
   "id": "australian-container",
   "metadata": {
    "papermill": {
     "duration": 0.036885,
     "end_time": "2021-02-14T00:11:37.149659",
     "exception": false,
     "start_time": "2021-02-14T00:11:37.112774",
     "status": "completed"
    },
    "tags": []
   },
   "outputs": [],
   "source": []
  },
  {
   "cell_type": "code",
   "execution_count": null,
   "id": "mediterranean-pontiac",
   "metadata": {
    "papermill": {
     "duration": 0.043949,
     "end_time": "2021-02-14T00:11:37.231475",
     "exception": false,
     "start_time": "2021-02-14T00:11:37.187526",
     "status": "completed"
    },
    "tags": []
   },
   "outputs": [],
   "source": []
  },
  {
   "cell_type": "code",
   "execution_count": null,
   "id": "aging-legislature",
   "metadata": {
    "papermill": {
     "duration": 0.038113,
     "end_time": "2021-02-14T00:11:37.307860",
     "exception": false,
     "start_time": "2021-02-14T00:11:37.269747",
     "status": "completed"
    },
    "tags": []
   },
   "outputs": [],
   "source": []
  }
 ],
 "metadata": {
  "kernelspec": {
   "display_name": "Python 3",
   "language": "python",
   "name": "python3"
  },
  "language_info": {
   "codemirror_mode": {
    "name": "ipython",
    "version": 3
   },
   "file_extension": ".py",
   "mimetype": "text/x-python",
   "name": "python",
   "nbconvert_exporter": "python",
   "pygments_lexer": "ipython3",
   "version": "3.6.12"
  },
  "papermill": {
   "duration": 8.406577,
   "end_time": "2021-02-14T00:11:37.653656",
   "environment_variables": {},
   "exception": null,
   "input_path": "2020-03-21-covid19exp.ipynb",
   "output_path": "2020-03-21-covid19exp.ipynb",
   "parameters": {},
   "start_time": "2021-02-14T00:11:29.247079",
   "version": "2.0.0"
  }
 },
 "nbformat": 4,
 "nbformat_minor": 5
}