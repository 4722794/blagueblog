{
 "cells": [
  {
   "cell_type": "markdown",
   "id": "muslim-click",
   "metadata": {
    "papermill": {
     "duration": 0.042446,
     "end_time": "2022-03-18T00:34:18.628650",
     "exception": false,
     "start_time": "2022-03-18T00:34:18.586204",
     "status": "completed"
    },
    "tags": []
   },
   "source": [
    "# COVID-19 Case Race\n",
    "> A race chart to see rising cases around the world\n",
    "\n",
    "- author: Hargun Oberoi\n",
    "- image: images/covid-overview.png\n",
    "- hide: false\n",
    "- badges: false"
   ]
  },
  {
   "cell_type": "code",
   "execution_count": 1,
   "id": "proof-material",
   "metadata": {
    "execution": {
     "iopub.execute_input": "2022-03-18T00:34:18.725898Z",
     "iopub.status.busy": "2022-03-18T00:34:18.725159Z",
     "iopub.status.idle": "2022-03-18T00:34:19.136131Z",
     "shell.execute_reply": "2022-03-18T00:34:19.136949Z"
    },
    "papermill": {
     "duration": 0.467513,
     "end_time": "2022-03-18T00:34:19.137152",
     "exception": false,
     "start_time": "2022-03-18T00:34:18.669639",
     "status": "completed"
    },
    "tags": []
   },
   "outputs": [],
   "source": [
    "#hide\n",
    "import numpy as np\n",
    "import pandas as pd\n",
    "from jinja2 import Template\n",
    "from IPython.display import HTML"
   ]
  },
  {
   "cell_type": "code",
   "execution_count": 2,
   "id": "developed-terminology",
   "metadata": {
    "execution": {
     "iopub.execute_input": "2022-03-18T00:34:19.226221Z",
     "iopub.status.busy": "2022-03-18T00:34:19.225524Z",
     "iopub.status.idle": "2022-03-18T00:34:19.227357Z",
     "shell.execute_reply": "2022-03-18T00:34:19.227995Z"
    },
    "papermill": {
     "duration": 0.051629,
     "end_time": "2022-03-18T00:34:19.228154",
     "exception": false,
     "start_time": "2022-03-18T00:34:19.176525",
     "status": "completed"
    },
    "tags": []
   },
   "outputs": [],
   "source": [
    "#hide\n",
    "\n",
    "# FETCH\n",
    "base_url = 'https://raw.githubusercontent.com/pratapvardhan/notebooks/master/covid19/'\n",
    "paths = {\n",
    "    'mapping': base_url + 'mapping_countries.csv',\n",
    "    'overview': base_url + 'overview.tpl'\n",
    "}"
   ]
  },
  {
   "cell_type": "code",
   "execution_count": 3,
   "id": "dynamic-saver",
   "metadata": {
    "execution": {
     "iopub.execute_input": "2022-03-18T00:34:19.316045Z",
     "iopub.status.busy": "2022-03-18T00:34:19.315374Z",
     "iopub.status.idle": "2022-03-18T00:34:19.318797Z",
     "shell.execute_reply": "2022-03-18T00:34:19.318133Z"
    },
    "papermill": {
     "duration": 0.05233,
     "end_time": "2022-03-18T00:34:19.318938",
     "exception": false,
     "start_time": "2022-03-18T00:34:19.266608",
     "status": "completed"
    },
    "tags": []
   },
   "outputs": [
    {
     "data": {
      "text/plain": [
       "'https://raw.githubusercontent.com/pratapvardhan/notebooks/master/covid19/mapping_countries.csv'"
      ]
     },
     "execution_count": 3,
     "metadata": {},
     "output_type": "execute_result"
    }
   ],
   "source": [
    "#hide\n",
    "paths['mapping']"
   ]
  },
  {
   "cell_type": "code",
   "execution_count": 4,
   "id": "urban-software",
   "metadata": {
    "execution": {
     "iopub.execute_input": "2022-03-18T00:34:19.403905Z",
     "iopub.status.busy": "2022-03-18T00:34:19.403234Z",
     "iopub.status.idle": "2022-03-18T00:34:19.406149Z",
     "shell.execute_reply": "2022-03-18T00:34:19.405573Z"
    },
    "papermill": {
     "duration": 0.048325,
     "end_time": "2022-03-18T00:34:19.406289",
     "exception": false,
     "start_time": "2022-03-18T00:34:19.357964",
     "status": "completed"
    },
    "tags": []
   },
   "outputs": [],
   "source": [
    "#hide\n",
    "def get_mappings(url):\n",
    "    df = pd.read_csv(url)\n",
    "    return {\n",
    "        'df': df,\n",
    "        'replace.country': dict(df.dropna(subset=['Name']).set_index('Country')['Name']),\n",
    "        'map.continent': dict(df.set_index('Name')['Continent'])\n",
    "    }"
   ]
  },
  {
   "cell_type": "code",
   "execution_count": 5,
   "id": "intimate-machinery",
   "metadata": {
    "execution": {
     "iopub.execute_input": "2022-03-18T00:34:19.497131Z",
     "iopub.status.busy": "2022-03-18T00:34:19.496444Z",
     "iopub.status.idle": "2022-03-18T00:34:19.528045Z",
     "shell.execute_reply": "2022-03-18T00:34:19.527438Z"
    },
    "papermill": {
     "duration": 0.080415,
     "end_time": "2022-03-18T00:34:19.528209",
     "exception": false,
     "start_time": "2022-03-18T00:34:19.447794",
     "status": "completed"
    },
    "tags": []
   },
   "outputs": [],
   "source": [
    "#hide\n",
    "mapping = get_mappings(paths['mapping'])"
   ]
  },
  {
   "cell_type": "code",
   "execution_count": 6,
   "id": "certified-tactics",
   "metadata": {
    "execution": {
     "iopub.execute_input": "2022-03-18T00:34:19.616934Z",
     "iopub.status.busy": "2022-03-18T00:34:19.616148Z",
     "iopub.status.idle": "2022-03-18T00:34:19.620957Z",
     "shell.execute_reply": "2022-03-18T00:34:19.620216Z"
    },
    "papermill": {
     "duration": 0.052798,
     "end_time": "2022-03-18T00:34:19.621118",
     "exception": false,
     "start_time": "2022-03-18T00:34:19.568320",
     "status": "completed"
    },
    "tags": []
   },
   "outputs": [],
   "source": [
    "#hide\n",
    "def get_template(path):\n",
    "    from urllib.parse import urlparse\n",
    "    if bool(urlparse(path).netloc):\n",
    "        from urllib.request import urlopen\n",
    "        return urlopen(path).read().decode('utf8')\n",
    "    return open(path).read()"
   ]
  },
  {
   "cell_type": "code",
   "execution_count": 7,
   "id": "realistic-blast",
   "metadata": {
    "execution": {
     "iopub.execute_input": "2022-03-18T00:34:19.705883Z",
     "iopub.status.busy": "2022-03-18T00:34:19.705172Z",
     "iopub.status.idle": "2022-03-18T00:34:19.708644Z",
     "shell.execute_reply": "2022-03-18T00:34:19.708079Z"
    },
    "papermill": {
     "duration": 0.048169,
     "end_time": "2022-03-18T00:34:19.708783",
     "exception": false,
     "start_time": "2022-03-18T00:34:19.660614",
     "status": "completed"
    },
    "tags": []
   },
   "outputs": [],
   "source": [
    "#hide\n",
    "def get_frame(name):\n",
    "    url = (\n",
    "        'https://raw.githubusercontent.com/CSSEGISandData/COVID-19/master/csse_covid_19_data/'\n",
    "        f'csse_covid_19_time_series/time_series_covid19_{name}_global.csv')\n",
    "    df = pd.read_csv(url)\n",
    "    # rename countries\n",
    "    df['Country/Region'] = df['Country/Region'].replace(mapping['replace.country'])\n",
    "    return df"
   ]
  },
  {
   "cell_type": "code",
   "execution_count": 8,
   "id": "affiliated-characterization",
   "metadata": {
    "execution": {
     "iopub.execute_input": "2022-03-18T00:34:19.794603Z",
     "iopub.status.busy": "2022-03-18T00:34:19.793918Z",
     "iopub.status.idle": "2022-03-18T00:34:19.797878Z",
     "shell.execute_reply": "2022-03-18T00:34:19.797225Z"
    },
    "papermill": {
     "duration": 0.049729,
     "end_time": "2022-03-18T00:34:19.798018",
     "exception": false,
     "start_time": "2022-03-18T00:34:19.748289",
     "status": "completed"
    },
    "tags": []
   },
   "outputs": [],
   "source": [
    "#hide\n",
    "def get_dates(df):\n",
    "    dt_cols = df.columns[~df.columns.isin(['Province/State', 'Country/Region', 'Lat', 'Long'])]\n",
    "    LAST_DATE_I = -1\n",
    "    # sometimes last column may be empty, then go backwards\n",
    "    for i in range(-1, -len(dt_cols), -1):\n",
    "        if not df[dt_cols[i]].fillna(0).eq(0).all():\n",
    "            LAST_DATE_I = i\n",
    "            break\n",
    "    return LAST_DATE_I, dt_cols"
   ]
  },
  {
   "cell_type": "code",
   "execution_count": 9,
   "id": "recent-optimization",
   "metadata": {
    "execution": {
     "iopub.execute_input": "2022-03-18T00:34:19.882176Z",
     "iopub.status.busy": "2022-03-18T00:34:19.881424Z",
     "iopub.status.idle": "2022-03-18T00:34:20.291299Z",
     "shell.execute_reply": "2022-03-18T00:34:20.290715Z"
    },
    "papermill": {
     "duration": 0.45515,
     "end_time": "2022-03-18T00:34:20.291446",
     "exception": false,
     "start_time": "2022-03-18T00:34:19.836296",
     "status": "completed"
    },
    "tags": []
   },
   "outputs": [],
   "source": [
    "#hide\n",
    "COL_REGION = 'Country/Region'\n",
    "# Confirmed, Recovered, Deaths\n",
    "df = get_frame('confirmed')\n",
    "# dft_: timeseries, dfc_: today country agg\n",
    "dft_cases = df\n",
    "dft_deaths = get_frame('deaths')\n",
    "dft_recovered = get_frame('recovered')\n",
    "LAST_DATE_I, dt_cols = get_dates(df)"
   ]
  },
  {
   "cell_type": "code",
   "execution_count": 10,
   "id": "absolute-copper",
   "metadata": {
    "execution": {
     "iopub.execute_input": "2022-03-18T00:34:20.374058Z",
     "iopub.status.busy": "2022-03-18T00:34:20.373373Z",
     "iopub.status.idle": "2022-03-18T00:34:20.376995Z",
     "shell.execute_reply": "2022-03-18T00:34:20.376328Z"
    },
    "papermill": {
     "duration": 0.047574,
     "end_time": "2022-03-18T00:34:20.377138",
     "exception": false,
     "start_time": "2022-03-18T00:34:20.329564",
     "status": "completed"
    },
    "tags": []
   },
   "outputs": [],
   "source": [
    "#hide\n",
    "LAST_DATE_I, dt_cols = get_dates(df)\n",
    "dt_today =dt_cols[LAST_DATE_I]\n",
    "# dt_5day = dt_cols[LAST_DATE_I - 5]\n",
    "dt_yday = dt_cols[LAST_DATE_I - 1]"
   ]
  },
  {
   "cell_type": "code",
   "execution_count": 11,
   "id": "restricted-sheriff",
   "metadata": {
    "execution": {
     "iopub.execute_input": "2022-03-18T00:34:20.472195Z",
     "iopub.status.busy": "2022-03-18T00:34:20.470464Z",
     "iopub.status.idle": "2022-03-18T00:34:20.477070Z",
     "shell.execute_reply": "2022-03-18T00:34:20.477802Z"
    },
    "papermill": {
     "duration": 0.061253,
     "end_time": "2022-03-18T00:34:20.477950",
     "exception": false,
     "start_time": "2022-03-18T00:34:20.416697",
     "status": "completed"
    },
    "tags": []
   },
   "outputs": [],
   "source": [
    "#hide\n",
    "dfc_cases = dft_cases.groupby(COL_REGION)[dt_today].sum()\n",
    "dfc_deaths = dft_deaths.groupby(COL_REGION)[dt_today].sum()\n",
    "# dfp_cases = dft_cases.groupby(COL_REGION)[dt_5day].sum()\n",
    "# dfp_deaths = dft_deaths.groupby(COL_REGION)[dt_5day].sum()\n",
    "dfp_cases = dft_cases.groupby(COL_REGION)[dt_yday].sum()\n",
    "dfp_deaths = dft_deaths.groupby(COL_REGION)[dt_yday].sum()"
   ]
  },
  {
   "cell_type": "code",
   "execution_count": 12,
   "id": "deluxe-hepatitis",
   "metadata": {
    "execution": {
     "iopub.execute_input": "2022-03-18T00:34:20.567636Z",
     "iopub.status.busy": "2022-03-18T00:34:20.566957Z",
     "iopub.status.idle": "2022-03-18T00:34:20.572055Z",
     "shell.execute_reply": "2022-03-18T00:34:20.572649Z"
    },
    "papermill": {
     "duration": 0.050453,
     "end_time": "2022-03-18T00:34:20.572820",
     "exception": false,
     "start_time": "2022-03-18T00:34:20.522367",
     "status": "completed"
    },
    "tags": []
   },
   "outputs": [],
   "source": [
    "#hide\n",
    "df_table = (pd.DataFrame(dict(Cases = dfc_cases, Deaths = dfc_deaths, PCases = dfp_cases, PDeaths = dfp_deaths))\n",
    "            .sort_values(by = ['Cases','Deaths'], ascending = [False, False])\n",
    "            .reset_index())"
   ]
  },
  {
   "cell_type": "code",
   "execution_count": 13,
   "id": "educational-chancellor",
   "metadata": {
    "execution": {
     "iopub.execute_input": "2022-03-18T00:34:20.675078Z",
     "iopub.status.busy": "2022-03-18T00:34:20.674377Z",
     "iopub.status.idle": "2022-03-18T00:34:20.683726Z",
     "shell.execute_reply": "2022-03-18T00:34:20.683164Z"
    },
    "papermill": {
     "duration": 0.069019,
     "end_time": "2022-03-18T00:34:20.683876",
     "exception": false,
     "start_time": "2022-03-18T00:34:20.614857",
     "status": "completed"
    },
    "tags": []
   },
   "outputs": [
    {
     "data": {
      "text/html": [
       "<div>\n",
       "<style scoped>\n",
       "    .dataframe tbody tr th:only-of-type {\n",
       "        vertical-align: middle;\n",
       "    }\n",
       "\n",
       "    .dataframe tbody tr th {\n",
       "        vertical-align: top;\n",
       "    }\n",
       "\n",
       "    .dataframe thead th {\n",
       "        text-align: right;\n",
       "    }\n",
       "</style>\n",
       "<table border=\"1\" class=\"dataframe\">\n",
       "  <thead>\n",
       "    <tr style=\"text-align: right;\">\n",
       "      <th></th>\n",
       "      <th>Country/Region</th>\n",
       "      <th>Cases</th>\n",
       "      <th>Deaths</th>\n",
       "      <th>PCases</th>\n",
       "      <th>PDeaths</th>\n",
       "      <th>Cases (+)</th>\n",
       "      <th>Deaths (+)</th>\n",
       "      <th>Fatality Rate</th>\n",
       "      <th>Continent</th>\n",
       "    </tr>\n",
       "  </thead>\n",
       "  <tbody>\n",
       "    <tr>\n",
       "      <th>0</th>\n",
       "      <td>US</td>\n",
       "      <td>79630853</td>\n",
       "      <td>968324</td>\n",
       "      <td>79585838</td>\n",
       "      <td>966381</td>\n",
       "      <td>45015</td>\n",
       "      <td>1943</td>\n",
       "      <td>1.22</td>\n",
       "      <td>North America</td>\n",
       "    </tr>\n",
       "    <tr>\n",
       "      <th>1</th>\n",
       "      <td>India</td>\n",
       "      <td>43001477</td>\n",
       "      <td>516132</td>\n",
       "      <td>42998938</td>\n",
       "      <td>516072</td>\n",
       "      <td>2539</td>\n",
       "      <td>60</td>\n",
       "      <td>1.20</td>\n",
       "      <td>Asia</td>\n",
       "    </tr>\n",
       "    <tr>\n",
       "      <th>2</th>\n",
       "      <td>Brazil</td>\n",
       "      <td>29488777</td>\n",
       "      <td>656231</td>\n",
       "      <td>29441039</td>\n",
       "      <td>655878</td>\n",
       "      <td>47738</td>\n",
       "      <td>353</td>\n",
       "      <td>2.23</td>\n",
       "      <td>South America</td>\n",
       "    </tr>\n",
       "    <tr>\n",
       "      <th>3</th>\n",
       "      <td>France</td>\n",
       "      <td>23943801</td>\n",
       "      <td>141640</td>\n",
       "      <td>23834842</td>\n",
       "      <td>141467</td>\n",
       "      <td>108959</td>\n",
       "      <td>173</td>\n",
       "      <td>0.59</td>\n",
       "      <td>Europe</td>\n",
       "    </tr>\n",
       "    <tr>\n",
       "      <th>4</th>\n",
       "      <td>United Kingdom</td>\n",
       "      <td>20059641</td>\n",
       "      <td>163833</td>\n",
       "      <td>19965698</td>\n",
       "      <td>163680</td>\n",
       "      <td>93943</td>\n",
       "      <td>153</td>\n",
       "      <td>0.82</td>\n",
       "      <td>Europe</td>\n",
       "    </tr>\n",
       "  </tbody>\n",
       "</table>\n",
       "</div>"
      ],
      "text/plain": [
       "   Country/Region     Cases  Deaths    PCases  PDeaths  Cases (+)  Deaths (+)  \\\n",
       "0              US  79630853  968324  79585838   966381      45015        1943   \n",
       "1           India  43001477  516132  42998938   516072       2539          60   \n",
       "2          Brazil  29488777  656231  29441039   655878      47738         353   \n",
       "3          France  23943801  141640  23834842   141467     108959         173   \n",
       "4  United Kingdom  20059641  163833  19965698   163680      93943         153   \n",
       "\n",
       "   Fatality Rate      Continent  \n",
       "0           1.22  North America  \n",
       "1           1.20           Asia  \n",
       "2           2.23  South America  \n",
       "3           0.59         Europe  \n",
       "4           0.82         Europe  "
      ]
     },
     "execution_count": 13,
     "metadata": {},
     "output_type": "execute_result"
    }
   ],
   "source": [
    "#hide\n",
    "for c in 'Cases, Deaths'.split(', '):\n",
    "    df_table[f'{c} (+)'] = (df_table[c] - df_table[f'P{c}']).clip(0)\n",
    "    #Clip ça veut dire, les chiffres negatif sont interdit\n",
    "df_table['Fatality Rate'] = (100* df_table['Deaths']/ df_table['Cases']).round(2)\n",
    "df_table['Continent'] = df_table['Country/Region'].map(mapping['map.continent'])\n",
    "df_table.head(5)"
   ]
  },
  {
   "cell_type": "code",
   "execution_count": 14,
   "id": "aboriginal-bulgaria",
   "metadata": {
    "execution": {
     "iopub.execute_input": "2022-03-18T00:34:20.769928Z",
     "iopub.status.busy": "2022-03-18T00:34:20.768964Z",
     "iopub.status.idle": "2022-03-18T00:34:20.771352Z",
     "shell.execute_reply": "2022-03-18T00:34:20.772057Z"
    },
    "papermill": {
     "duration": 0.048493,
     "end_time": "2022-03-18T00:34:20.772223",
     "exception": false,
     "start_time": "2022-03-18T00:34:20.723730",
     "status": "completed"
    },
    "tags": []
   },
   "outputs": [],
   "source": [
    "#hide\n",
    "#delete problematic countries from table\n",
    "df_table = df_table[~df_table['Country/Region'].isin(['Cape Verde', 'Cruise Ship', 'Kosovo'])]"
   ]
  },
  {
   "cell_type": "code",
   "execution_count": 15,
   "id": "fantastic-effect",
   "metadata": {
    "execution": {
     "iopub.execute_input": "2022-03-18T00:34:20.860747Z",
     "iopub.status.busy": "2022-03-18T00:34:20.860066Z",
     "iopub.status.idle": "2022-03-18T00:34:20.881867Z",
     "shell.execute_reply": "2022-03-18T00:34:20.881175Z"
    },
    "papermill": {
     "duration": 0.069962,
     "end_time": "2022-03-18T00:34:20.882012",
     "exception": false,
     "start_time": "2022-03-18T00:34:20.812050",
     "status": "completed"
    },
    "tags": []
   },
   "outputs": [
    {
     "data": {
      "text/html": [
       "<div>\n",
       "<style scoped>\n",
       "    .dataframe tbody tr th:only-of-type {\n",
       "        vertical-align: middle;\n",
       "    }\n",
       "\n",
       "    .dataframe tbody tr th {\n",
       "        vertical-align: top;\n",
       "    }\n",
       "\n",
       "    .dataframe thead th {\n",
       "        text-align: right;\n",
       "    }\n",
       "</style>\n",
       "<table border=\"1\" class=\"dataframe\">\n",
       "  <thead>\n",
       "    <tr style=\"text-align: right;\">\n",
       "      <th></th>\n",
       "      <th>Country/Region</th>\n",
       "      <th>Cases</th>\n",
       "      <th>Deaths</th>\n",
       "      <th>PCases</th>\n",
       "      <th>PDeaths</th>\n",
       "      <th>Cases (+)</th>\n",
       "      <th>Deaths (+)</th>\n",
       "      <th>Fatality Rate</th>\n",
       "      <th>Continent</th>\n",
       "    </tr>\n",
       "  </thead>\n",
       "  <tbody>\n",
       "    <tr>\n",
       "      <th>0</th>\n",
       "      <td>US</td>\n",
       "      <td>79630853</td>\n",
       "      <td>968324</td>\n",
       "      <td>79585838</td>\n",
       "      <td>966381</td>\n",
       "      <td>45015</td>\n",
       "      <td>1943</td>\n",
       "      <td>1.2</td>\n",
       "      <td>North America</td>\n",
       "    </tr>\n",
       "    <tr>\n",
       "      <th>1</th>\n",
       "      <td>India</td>\n",
       "      <td>43001477</td>\n",
       "      <td>516132</td>\n",
       "      <td>42998938</td>\n",
       "      <td>516072</td>\n",
       "      <td>2539</td>\n",
       "      <td>60</td>\n",
       "      <td>1.2</td>\n",
       "      <td>Asia</td>\n",
       "    </tr>\n",
       "    <tr>\n",
       "      <th>2</th>\n",
       "      <td>Brazil</td>\n",
       "      <td>29488777</td>\n",
       "      <td>656231</td>\n",
       "      <td>29441039</td>\n",
       "      <td>655878</td>\n",
       "      <td>47738</td>\n",
       "      <td>353</td>\n",
       "      <td>2.2</td>\n",
       "      <td>South America</td>\n",
       "    </tr>\n",
       "    <tr>\n",
       "      <th>3</th>\n",
       "      <td>France</td>\n",
       "      <td>23943801</td>\n",
       "      <td>141640</td>\n",
       "      <td>23834842</td>\n",
       "      <td>141467</td>\n",
       "      <td>108959</td>\n",
       "      <td>173</td>\n",
       "      <td>0.6</td>\n",
       "      <td>Europe</td>\n",
       "    </tr>\n",
       "    <tr>\n",
       "      <th>4</th>\n",
       "      <td>United Kingdom</td>\n",
       "      <td>20059641</td>\n",
       "      <td>163833</td>\n",
       "      <td>19965698</td>\n",
       "      <td>163680</td>\n",
       "      <td>93943</td>\n",
       "      <td>153</td>\n",
       "      <td>0.8</td>\n",
       "      <td>Europe</td>\n",
       "    </tr>\n",
       "  </tbody>\n",
       "</table>\n",
       "</div>"
      ],
      "text/plain": [
       "   Country/Region     Cases  Deaths    PCases  PDeaths  Cases (+)  Deaths (+)  \\\n",
       "0              US  79630853  968324  79585838   966381      45015        1943   \n",
       "1           India  43001477  516132  42998938   516072       2539          60   \n",
       "2          Brazil  29488777  656231  29441039   655878      47738         353   \n",
       "3          France  23943801  141640  23834842   141467     108959         173   \n",
       "4  United Kingdom  20059641  163833  19965698   163680      93943         153   \n",
       "\n",
       "   Fatality Rate      Continent  \n",
       "0            1.2  North America  \n",
       "1            1.2           Asia  \n",
       "2            2.2  South America  \n",
       "3            0.6         Europe  \n",
       "4            0.8         Europe  "
      ]
     },
     "execution_count": 15,
     "metadata": {},
     "output_type": "execute_result"
    }
   ],
   "source": [
    "#hide\n",
    "df_table = (pd.DataFrame(dict(Cases=dfc_cases, Deaths=dfc_deaths, PCases=dfp_cases, PDeaths=dfp_deaths))\n",
    "             .sort_values(by=['Cases', 'Deaths'], ascending=[False, False])\n",
    "             .reset_index())\n",
    "df_table.rename(columns={'index': 'Country/Region'}, inplace=True)\n",
    "for c in 'Cases, Deaths'.split(', '):\n",
    "    df_table[f'{c} (+)'] = (df_table[c] - df_table[f'P{c}']).clip(0)  # DATA BUG\n",
    "df_table['Fatality Rate'] = (100 * df_table['Deaths'] / df_table['Cases']).round(1)\n",
    "df_table['Continent'] = df_table['Country/Region'].map(mapping['map.continent'])\n",
    "df_table.head(5)"
   ]
  },
  {
   "cell_type": "code",
   "execution_count": 16,
   "id": "fewer-occasion",
   "metadata": {
    "execution": {
     "iopub.execute_input": "2022-03-18T00:34:20.969096Z",
     "iopub.status.busy": "2022-03-18T00:34:20.968407Z",
     "iopub.status.idle": "2022-03-18T00:34:20.971065Z",
     "shell.execute_reply": "2022-03-18T00:34:20.970495Z"
    },
    "papermill": {
     "duration": 0.048604,
     "end_time": "2022-03-18T00:34:20.971207",
     "exception": false,
     "start_time": "2022-03-18T00:34:20.922603",
     "status": "completed"
    },
    "tags": []
   },
   "outputs": [],
   "source": [
    "#hide\n",
    "#delete problematic countries from table\n",
    "df_table = df_table[~df_table['Country/Region'].isin(['Cape Verde', 'Cruise Ship', 'Kosovo'])]"
   ]
  },
  {
   "cell_type": "code",
   "execution_count": 17,
   "id": "related-center",
   "metadata": {
    "execution": {
     "iopub.execute_input": "2022-03-18T00:34:21.074596Z",
     "iopub.status.busy": "2022-03-18T00:34:21.073886Z",
     "iopub.status.idle": "2022-03-18T00:34:21.077006Z",
     "shell.execute_reply": "2022-03-18T00:34:21.076462Z"
    },
    "papermill": {
     "duration": 0.065578,
     "end_time": "2022-03-18T00:34:21.077153",
     "exception": false,
     "start_time": "2022-03-18T00:34:21.011575",
     "status": "completed"
    },
    "tags": []
   },
   "outputs": [],
   "source": [
    "#hide\n",
    "metrics = [df_table.columns[index] for index in [1,2,5,6]]\n",
    "# s_china = df_table[df_table['Country/Region'].eq('China')][metrics].sum().add_prefix('China ')\n",
    "s_us = df_table[df_table['Country/Region'].eq('US')][metrics].sum().add_prefix('US ')\n",
    "s_eu = df_table[df_table['Continent'].eq('Europe')][metrics].sum().add_prefix('EU ')\n",
    "s_ind = df_table[df_table['Country/Region'].eq('India')][metrics].sum().add_prefix('India ')\n",
    "summary = {'updated': pd.to_datetime(dt_today), 'since': pd.to_datetime(dt_yday)}\n",
    "summary = {'updated': pd.to_datetime(dt_today), 'since': pd.to_datetime(dt_yday)}\n",
    "summary = {**summary, **df_table[metrics].sum(), **s_ind, **s_us, **s_eu}"
   ]
  },
  {
   "cell_type": "code",
   "execution_count": 18,
   "id": "engaging-syndrome",
   "metadata": {
    "execution": {
     "iopub.execute_input": "2022-03-18T00:34:21.162155Z",
     "iopub.status.busy": "2022-03-18T00:34:21.161485Z",
     "iopub.status.idle": "2022-03-18T00:34:21.178598Z",
     "shell.execute_reply": "2022-03-18T00:34:21.179133Z"
    },
    "papermill": {
     "duration": 0.062706,
     "end_time": "2022-03-18T00:34:21.179307",
     "exception": false,
     "start_time": "2022-03-18T00:34:21.116601",
     "status": "completed"
    },
    "tags": []
   },
   "outputs": [],
   "source": [
    "#hide\n",
    "dft_ct_new_cases = dft_cases.groupby(COL_REGION)[dt_cols].sum().diff(axis=1).fillna(0).astype(int)"
   ]
  },
  {
   "cell_type": "code",
   "execution_count": 19,
   "id": "neutral-assignment",
   "metadata": {
    "execution": {
     "iopub.execute_input": "2022-03-18T00:34:21.269261Z",
     "iopub.status.busy": "2022-03-18T00:34:21.268584Z",
     "iopub.status.idle": "2022-03-18T00:34:21.270968Z",
     "shell.execute_reply": "2022-03-18T00:34:21.270301Z"
    },
    "papermill": {
     "duration": 0.05073,
     "end_time": "2022-03-18T00:34:21.271112",
     "exception": false,
     "start_time": "2022-03-18T00:34:21.220382",
     "status": "completed"
    },
    "tags": []
   },
   "outputs": [],
   "source": [
    "#hide\n",
    "everydaycases = dft_ct_new_cases.cumsum(axis=1)"
   ]
  },
  {
   "cell_type": "code",
   "execution_count": 20,
   "id": "parliamentary-calgary",
   "metadata": {
    "execution": {
     "iopub.execute_input": "2022-03-18T00:34:21.357379Z",
     "iopub.status.busy": "2022-03-18T00:34:21.356654Z",
     "iopub.status.idle": "2022-03-18T00:34:22.089906Z",
     "shell.execute_reply": "2022-03-18T00:34:22.089278Z"
    },
    "papermill": {
     "duration": 0.778594,
     "end_time": "2022-03-18T00:34:22.090064",
     "exception": false,
     "start_time": "2022-03-18T00:34:21.311470",
     "status": "completed"
    },
    "tags": []
   },
   "outputs": [],
   "source": [
    "#hide\n",
    "import pandas as pd\n",
    "import matplotlib.pyplot as plt\n",
    "import matplotlib.ticker as ticker\n",
    "import matplotlib.animation as animation\n",
    "from IPython.display import HTML"
   ]
  },
  {
   "cell_type": "code",
   "execution_count": 21,
   "id": "lasting-extraction",
   "metadata": {
    "execution": {
     "iopub.execute_input": "2022-03-18T00:34:22.178340Z",
     "iopub.status.busy": "2022-03-18T00:34:22.177644Z",
     "iopub.status.idle": "2022-03-18T00:34:22.184891Z",
     "shell.execute_reply": "2022-03-18T00:34:22.184328Z"
    },
    "papermill": {
     "duration": 0.054682,
     "end_time": "2022-03-18T00:34:22.185052",
     "exception": false,
     "start_time": "2022-03-18T00:34:22.130370",
     "status": "completed"
    },
    "tags": []
   },
   "outputs": [],
   "source": [
    "#hide\n",
    "t = everydaycases.stack()"
   ]
  },
  {
   "cell_type": "code",
   "execution_count": 22,
   "id": "premier-sleeve",
   "metadata": {
    "execution": {
     "iopub.execute_input": "2022-03-18T00:34:22.270415Z",
     "iopub.status.busy": "2022-03-18T00:34:22.269739Z",
     "iopub.status.idle": "2022-03-18T00:34:22.280956Z",
     "shell.execute_reply": "2022-03-18T00:34:22.281527Z"
    },
    "papermill": {
     "duration": 0.054888,
     "end_time": "2022-03-18T00:34:22.281699",
     "exception": false,
     "start_time": "2022-03-18T00:34:22.226811",
     "status": "completed"
    },
    "tags": []
   },
   "outputs": [],
   "source": [
    "#hide\n",
    "g = t.reset_index(['Country/Region'])"
   ]
  },
  {
   "cell_type": "code",
   "execution_count": 23,
   "id": "distributed-pittsburgh",
   "metadata": {
    "execution": {
     "iopub.execute_input": "2022-03-18T00:34:22.367588Z",
     "iopub.status.busy": "2022-03-18T00:34:22.365863Z",
     "iopub.status.idle": "2022-03-18T00:34:22.368387Z",
     "shell.execute_reply": "2022-03-18T00:34:22.368948Z"
    },
    "papermill": {
     "duration": 0.047194,
     "end_time": "2022-03-18T00:34:22.369098",
     "exception": false,
     "start_time": "2022-03-18T00:34:22.321904",
     "status": "completed"
    },
    "tags": []
   },
   "outputs": [],
   "source": [
    "#hide\n",
    "g.index.name = 'date'"
   ]
  },
  {
   "cell_type": "code",
   "execution_count": 24,
   "id": "naked-donor",
   "metadata": {
    "execution": {
     "iopub.execute_input": "2022-03-18T00:34:22.450079Z",
     "iopub.status.busy": "2022-03-18T00:34:22.449409Z",
     "iopub.status.idle": "2022-03-18T00:34:22.452187Z",
     "shell.execute_reply": "2022-03-18T00:34:22.452697Z"
    },
    "papermill": {
     "duration": 0.045984,
     "end_time": "2022-03-18T00:34:22.452858",
     "exception": false,
     "start_time": "2022-03-18T00:34:22.406874",
     "status": "completed"
    },
    "tags": []
   },
   "outputs": [],
   "source": [
    "# #hide\n",
    "# g = g.reset_index(['date'])"
   ]
  },
  {
   "cell_type": "code",
   "execution_count": 25,
   "id": "incomplete-mustang",
   "metadata": {
    "execution": {
     "iopub.execute_input": "2022-03-18T00:34:22.539326Z",
     "iopub.status.busy": "2022-03-18T00:34:22.538693Z",
     "iopub.status.idle": "2022-03-18T00:34:22.541562Z",
     "shell.execute_reply": "2022-03-18T00:34:22.540573Z"
    },
    "papermill": {
     "duration": 0.048352,
     "end_time": "2022-03-18T00:34:22.541705",
     "exception": false,
     "start_time": "2022-03-18T00:34:22.493353",
     "status": "completed"
    },
    "tags": []
   },
   "outputs": [],
   "source": [
    "#hide\n",
    "# g.head()"
   ]
  },
  {
   "cell_type": "code",
   "execution_count": 26,
   "id": "specific-kruger",
   "metadata": {
    "execution": {
     "iopub.execute_input": "2022-03-18T00:34:22.624855Z",
     "iopub.status.busy": "2022-03-18T00:34:22.624187Z",
     "iopub.status.idle": "2022-03-18T00:34:22.626802Z",
     "shell.execute_reply": "2022-03-18T00:34:22.626267Z"
    },
    "papermill": {
     "duration": 0.04618,
     "end_time": "2022-03-18T00:34:22.626932",
     "exception": false,
     "start_time": "2022-03-18T00:34:22.580752",
     "status": "completed"
    },
    "tags": []
   },
   "outputs": [],
   "source": [
    "#hide\n",
    "# g.columns = ['date','country','cases']"
   ]
  },
  {
   "cell_type": "code",
   "execution_count": 27,
   "id": "tender-conversion",
   "metadata": {
    "execution": {
     "iopub.execute_input": "2022-03-18T00:34:22.710330Z",
     "iopub.status.busy": "2022-03-18T00:34:22.709662Z",
     "iopub.status.idle": "2022-03-18T00:34:22.711831Z",
     "shell.execute_reply": "2022-03-18T00:34:22.712286Z"
    },
    "papermill": {
     "duration": 0.044559,
     "end_time": "2022-03-18T00:34:22.712440",
     "exception": false,
     "start_time": "2022-03-18T00:34:22.667881",
     "status": "completed"
    },
    "tags": []
   },
   "outputs": [],
   "source": [
    "#hide\n",
    "# g['continent'] = g.country"
   ]
  },
  {
   "cell_type": "code",
   "execution_count": 28,
   "id": "substantial-wilderness",
   "metadata": {
    "execution": {
     "iopub.execute_input": "2022-03-18T00:34:22.794431Z",
     "iopub.status.busy": "2022-03-18T00:34:22.793408Z",
     "iopub.status.idle": "2022-03-18T00:34:22.796875Z",
     "shell.execute_reply": "2022-03-18T00:34:22.796191Z"
    },
    "papermill": {
     "duration": 0.044369,
     "end_time": "2022-03-18T00:34:22.797015",
     "exception": false,
     "start_time": "2022-03-18T00:34:22.752646",
     "status": "completed"
    },
    "tags": []
   },
   "outputs": [],
   "source": [
    "#hide\n",
    "# cols = list(g.columns.values)"
   ]
  },
  {
   "cell_type": "code",
   "execution_count": 29,
   "id": "solved-farming",
   "metadata": {
    "execution": {
     "iopub.execute_input": "2022-03-18T00:34:22.881957Z",
     "iopub.status.busy": "2022-03-18T00:34:22.881255Z",
     "iopub.status.idle": "2022-03-18T00:34:22.884642Z",
     "shell.execute_reply": "2022-03-18T00:34:22.883995Z"
    },
    "papermill": {
     "duration": 0.045767,
     "end_time": "2022-03-18T00:34:22.884793",
     "exception": false,
     "start_time": "2022-03-18T00:34:22.839026",
     "status": "completed"
    },
    "tags": []
   },
   "outputs": [],
   "source": [
    "#hide\n",
    "# cols.insert(0, cols.pop())"
   ]
  },
  {
   "cell_type": "code",
   "execution_count": 30,
   "id": "executed-adoption",
   "metadata": {
    "execution": {
     "iopub.execute_input": "2022-03-18T00:34:22.967447Z",
     "iopub.status.busy": "2022-03-18T00:34:22.966779Z",
     "iopub.status.idle": "2022-03-18T00:34:22.968704Z",
     "shell.execute_reply": "2022-03-18T00:34:22.969318Z"
    },
    "papermill": {
     "duration": 0.046662,
     "end_time": "2022-03-18T00:34:22.969489",
     "exception": false,
     "start_time": "2022-03-18T00:34:22.922827",
     "status": "completed"
    },
    "tags": []
   },
   "outputs": [],
   "source": [
    "#hide\n",
    "# g = g[cols]"
   ]
  },
  {
   "cell_type": "code",
   "execution_count": 31,
   "id": "subject-dublin",
   "metadata": {
    "execution": {
     "iopub.execute_input": "2022-03-18T00:34:23.054049Z",
     "iopub.status.busy": "2022-03-18T00:34:23.053375Z",
     "iopub.status.idle": "2022-03-18T00:34:23.058241Z",
     "shell.execute_reply": "2022-03-18T00:34:23.058749Z"
    },
    "papermill": {
     "duration": 0.051551,
     "end_time": "2022-03-18T00:34:23.058906",
     "exception": false,
     "start_time": "2022-03-18T00:34:23.007355",
     "status": "completed"
    },
    "tags": []
   },
   "outputs": [],
   "source": [
    "#hide\n",
    "# g['continent'] = g['continent'].map(mapping['map.continent'])"
   ]
  },
  {
   "cell_type": "code",
   "execution_count": 32,
   "id": "freelance-scout",
   "metadata": {
    "execution": {
     "iopub.execute_input": "2022-03-18T00:34:23.141243Z",
     "iopub.status.busy": "2022-03-18T00:34:23.140567Z",
     "iopub.status.idle": "2022-03-18T00:34:23.143022Z",
     "shell.execute_reply": "2022-03-18T00:34:23.142400Z"
    },
    "papermill": {
     "duration": 0.044456,
     "end_time": "2022-03-18T00:34:23.143157",
     "exception": false,
     "start_time": "2022-03-18T00:34:23.098701",
     "status": "completed"
    },
    "tags": []
   },
   "outputs": [],
   "source": [
    "#hide\n",
    "# g.head()"
   ]
  },
  {
   "cell_type": "code",
   "execution_count": 33,
   "id": "limited-engine",
   "metadata": {
    "execution": {
     "iopub.execute_input": "2022-03-18T00:34:23.229286Z",
     "iopub.status.busy": "2022-03-18T00:34:23.228617Z",
     "iopub.status.idle": "2022-03-18T00:34:23.230688Z",
     "shell.execute_reply": "2022-03-18T00:34:23.231315Z"
    },
    "papermill": {
     "duration": 0.047438,
     "end_time": "2022-03-18T00:34:23.231465",
     "exception": false,
     "start_time": "2022-03-18T00:34:23.184027",
     "status": "completed"
    },
    "tags": []
   },
   "outputs": [],
   "source": [
    "# hide\n",
    "# g['date'] = g['date'].astype('datetime64[ns]')"
   ]
  },
  {
   "cell_type": "code",
   "execution_count": 34,
   "id": "sophisticated-supervisor",
   "metadata": {
    "execution": {
     "iopub.execute_input": "2022-03-18T00:34:23.314301Z",
     "iopub.status.busy": "2022-03-18T00:34:23.313626Z",
     "iopub.status.idle": "2022-03-18T00:34:23.315848Z",
     "shell.execute_reply": "2022-03-18T00:34:23.316363Z"
    },
    "papermill": {
     "duration": 0.045549,
     "end_time": "2022-03-18T00:34:23.316535",
     "exception": false,
     "start_time": "2022-03-18T00:34:23.270986",
     "status": "completed"
    },
    "tags": []
   },
   "outputs": [],
   "source": [
    "#hide\n",
    "# g['date'] = g.date.dt.dayofyear"
   ]
  },
  {
   "cell_type": "code",
   "execution_count": 35,
   "id": "inside-dubai",
   "metadata": {
    "execution": {
     "iopub.execute_input": "2022-03-18T00:34:23.402690Z",
     "iopub.status.busy": "2022-03-18T00:34:23.401858Z",
     "iopub.status.idle": "2022-03-18T00:34:23.404900Z",
     "shell.execute_reply": "2022-03-18T00:34:23.404351Z"
    },
    "papermill": {
     "duration": 0.048336,
     "end_time": "2022-03-18T00:34:23.405029",
     "exception": false,
     "start_time": "2022-03-18T00:34:23.356693",
     "status": "completed"
    },
    "tags": []
   },
   "outputs": [],
   "source": [
    "#hide\n",
    "# g = g.rename(columns= {'continent':'group','country':'name','cases':'value'})"
   ]
  },
  {
   "cell_type": "code",
   "execution_count": 36,
   "id": "fleet-motorcycle",
   "metadata": {
    "execution": {
     "iopub.execute_input": "2022-03-18T00:34:23.488411Z",
     "iopub.status.busy": "2022-03-18T00:34:23.487701Z",
     "iopub.status.idle": "2022-03-18T00:34:23.491894Z",
     "shell.execute_reply": "2022-03-18T00:34:23.492521Z"
    },
    "papermill": {
     "duration": 0.046956,
     "end_time": "2022-03-18T00:34:23.492692",
     "exception": false,
     "start_time": "2022-03-18T00:34:23.445736",
     "status": "completed"
    },
    "tags": []
   },
   "outputs": [],
   "source": [
    "#hide\n",
    "# cols = ['name','group','day','value']"
   ]
  },
  {
   "cell_type": "code",
   "execution_count": 37,
   "id": "continued-sleeping",
   "metadata": {
    "execution": {
     "iopub.execute_input": "2022-03-18T00:34:23.580121Z",
     "iopub.status.busy": "2022-03-18T00:34:23.579445Z",
     "iopub.status.idle": "2022-03-18T00:34:23.581694Z",
     "shell.execute_reply": "2022-03-18T00:34:23.581010Z"
    },
    "papermill": {
     "duration": 0.046253,
     "end_time": "2022-03-18T00:34:23.581834",
     "exception": false,
     "start_time": "2022-03-18T00:34:23.535581",
     "status": "completed"
    },
    "tags": []
   },
   "outputs": [],
   "source": [
    "#hide\n",
    "# g.rename(columns= {'date':'day'},inplace = True)"
   ]
  },
  {
   "cell_type": "code",
   "execution_count": 38,
   "id": "major-fight",
   "metadata": {
    "execution": {
     "iopub.execute_input": "2022-03-18T00:34:23.666896Z",
     "iopub.status.busy": "2022-03-18T00:34:23.666208Z",
     "iopub.status.idle": "2022-03-18T00:34:23.668920Z",
     "shell.execute_reply": "2022-03-18T00:34:23.668349Z"
    },
    "papermill": {
     "duration": 0.046214,
     "end_time": "2022-03-18T00:34:23.669058",
     "exception": false,
     "start_time": "2022-03-18T00:34:23.622844",
     "status": "completed"
    },
    "tags": []
   },
   "outputs": [],
   "source": [
    "#hide\n",
    "# g = g[cols]"
   ]
  },
  {
   "cell_type": "code",
   "execution_count": 39,
   "id": "structured-mobile",
   "metadata": {
    "execution": {
     "iopub.execute_input": "2022-03-18T00:34:23.756677Z",
     "iopub.status.busy": "2022-03-18T00:34:23.756007Z",
     "iopub.status.idle": "2022-03-18T00:34:23.760375Z",
     "shell.execute_reply": "2022-03-18T00:34:23.759809Z"
    },
    "papermill": {
     "duration": 0.049163,
     "end_time": "2022-03-18T00:34:23.760512",
     "exception": false,
     "start_time": "2022-03-18T00:34:23.711349",
     "status": "completed"
    },
    "tags": []
   },
   "outputs": [],
   "source": [
    "# #hide\n",
    "# g = g[g.group.notna()]"
   ]
  },
  {
   "cell_type": "code",
   "execution_count": 40,
   "id": "determined-closing",
   "metadata": {
    "execution": {
     "iopub.execute_input": "2022-03-18T00:34:23.845792Z",
     "iopub.status.busy": "2022-03-18T00:34:23.845081Z",
     "iopub.status.idle": "2022-03-18T00:34:23.848703Z",
     "shell.execute_reply": "2022-03-18T00:34:23.848158Z"
    },
    "papermill": {
     "duration": 0.048583,
     "end_time": "2022-03-18T00:34:23.848845",
     "exception": false,
     "start_time": "2022-03-18T00:34:23.800262",
     "status": "completed"
    },
    "tags": []
   },
   "outputs": [],
   "source": [
    "# #hide\n",
    "# colors = dict(zip(\n",
    "#     [\"Oceania\", \"Europe\", \"Asia\", \"South America\", \"Middle East\", \"North America\", \"Africa\"],\n",
    "#     [\"#adb0ff\", \"#ffb3ff\", \"#90d595\", \"#e48381\", \"#aafbff\", \"#f7bb5f\", \"#eafb50\"]\n",
    "# ))\n",
    "# group_lk = g.set_index('name')['group'].to_dict()"
   ]
  },
  {
   "cell_type": "code",
   "execution_count": null,
   "id": "gross-drinking",
   "metadata": {
    "papermill": {
     "duration": 0.042089,
     "end_time": "2022-03-18T00:34:23.929695",
     "exception": false,
     "start_time": "2022-03-18T00:34:23.887606",
     "status": "completed"
    },
    "tags": []
   },
   "outputs": [],
   "source": []
  },
  {
   "cell_type": "code",
   "execution_count": 41,
   "id": "subject-macintosh",
   "metadata": {
    "execution": {
     "iopub.execute_input": "2022-03-18T00:34:24.012728Z",
     "iopub.status.busy": "2022-03-18T00:34:24.012041Z",
     "iopub.status.idle": "2022-03-18T00:34:24.014706Z",
     "shell.execute_reply": "2022-03-18T00:34:24.014139Z"
    },
    "papermill": {
     "duration": 0.045893,
     "end_time": "2022-03-18T00:34:24.014845",
     "exception": false,
     "start_time": "2022-03-18T00:34:23.968952",
     "status": "completed"
    },
    "tags": []
   },
   "outputs": [],
   "source": [
    "# #hide\n",
    "# fig, ax = plt.subplots(figsize=(15, 8))\n",
    "\n",
    "# def draw_barchart(current_day):\n",
    "#     dff = g[g['day'].eq(current_day)].sort_values(by='value', ascending=True).tail(10)\n",
    "#     ax.clear()\n",
    "#     ax.barh(dff['name'], dff['value'], color=[colors[group_lk[x]] for x in dff['name']])\n",
    "#     dx = dff['value'].max() / 200\n",
    "    \n",
    "#     for i, (value, name) in enumerate(zip(dff['value'], dff['name'])):\n",
    "#         ax.text(value-dx, i,     name,           size=14, weight=600, ha='right', va='bottom')\n",
    "#         ax.text(value-dx, i-.25, group_lk[name], size=10, color='#444444', ha='right', va='baseline')\n",
    "#         ax.text(value+dx, i,     f'{value:,.0f}',  size=14, ha='left',  va='center')\n",
    "#     ax.text(1, 0.4, current_day, transform=ax.transAxes, color='#777777', size=46, ha='right', weight=800)\n",
    "#     ax.text(0, 1.06, 'Population (thousands)', transform=ax.transAxes, size=12, color='#777777')\n",
    "#     ax.xaxis.set_major_formatter(ticker.StrMethodFormatter('{x:,.0f}'))\n",
    "#     ax.xaxis.set_ticks_position('top')\n",
    "#     ax.tick_params(axis='x', colors='#777777', labelsize=12)\n",
    "#     ax.set_yticks([])\n",
    "#     ax.margins(0, 0.01)\n",
    "#     ax.grid(which='major', axis='x', linestyle='-')\n",
    "#     ax.set_axisbelow(True)\n",
    "    \n",
    "#     ax.text(0, 1.15, 'Coronavirus',\n",
    "#             transform=ax.transAxes, size=24, weight=600, ha='left', va='top')\n",
    "# #     ax.text(1, 0, 'by @pratapvardhan; credit @jburnmurdoch', transform=ax.transAxes, color='#777777', ha='right',\n",
    "# #             bbox=dict(facecolor='white', alpha=0.8, edgecolor='white'))\n",
    "#     plt.box(False)"
   ]
  },
  {
   "cell_type": "code",
   "execution_count": 42,
   "id": "sexual-wages",
   "metadata": {
    "execution": {
     "iopub.execute_input": "2022-03-18T00:34:24.114662Z",
     "iopub.status.busy": "2022-03-18T00:34:24.113964Z",
     "iopub.status.idle": "2022-03-18T00:34:24.118010Z",
     "shell.execute_reply": "2022-03-18T00:34:24.118545Z"
    },
    "papermill": {
     "duration": 0.061778,
     "end_time": "2022-03-18T00:34:24.118726",
     "exception": false,
     "start_time": "2022-03-18T00:34:24.056948",
     "status": "completed"
    },
    "tags": []
   },
   "outputs": [],
   "source": [
    "# #hide_input\n",
    "# fig, ax = plt.subplots(figsize=(15, 8))\n",
    "# animator = animation.FuncAnimation(fig, draw_barchart, frames=range(g.day.values.min(), g.day.values.max()))\n",
    "# HTML(animator.to_jshtml())\n",
    "# # or use animator.to_html5_video() or animator.save() "
   ]
  },
  {
   "cell_type": "code",
   "execution_count": null,
   "id": "australian-container",
   "metadata": {
    "papermill": {
     "duration": 0.04251,
     "end_time": "2022-03-18T00:34:24.200827",
     "exception": false,
     "start_time": "2022-03-18T00:34:24.158317",
     "status": "completed"
    },
    "tags": []
   },
   "outputs": [],
   "source": []
  },
  {
   "cell_type": "code",
   "execution_count": null,
   "id": "mediterranean-pontiac",
   "metadata": {
    "papermill": {
     "duration": 0.041889,
     "end_time": "2022-03-18T00:34:24.283601",
     "exception": false,
     "start_time": "2022-03-18T00:34:24.241712",
     "status": "completed"
    },
    "tags": []
   },
   "outputs": [],
   "source": []
  },
  {
   "cell_type": "code",
   "execution_count": null,
   "id": "aging-legislature",
   "metadata": {
    "papermill": {
     "duration": 0.038924,
     "end_time": "2022-03-18T00:34:24.362947",
     "exception": false,
     "start_time": "2022-03-18T00:34:24.324023",
     "status": "completed"
    },
    "tags": []
   },
   "outputs": [],
   "source": []
  }
 ],
 "metadata": {
  "kernelspec": {
   "display_name": "Python 3",
   "language": "python",
   "name": "python3"
  },
  "language_info": {
   "codemirror_mode": {
    "name": "ipython",
    "version": 3
   },
   "file_extension": ".py",
   "mimetype": "text/x-python",
   "name": "python",
   "nbconvert_exporter": "python",
   "pygments_lexer": "ipython3",
   "version": "3.6.15"
  },
  "papermill": {
   "duration": 7.566142,
   "end_time": "2022-03-18T00:34:24.822439",
   "environment_variables": {},
   "exception": null,
   "input_path": "2020-03-21-covid19exp.ipynb",
   "output_path": "2020-03-21-covid19exp.ipynb",
   "parameters": {},
   "start_time": "2022-03-18T00:34:17.256297",
   "version": "2.0.0"
  }
 },
 "nbformat": 4,
 "nbformat_minor": 5
}