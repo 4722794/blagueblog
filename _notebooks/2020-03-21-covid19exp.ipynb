{
 "cells": [
  {
   "cell_type": "markdown",
   "id": "muslim-click",
   "metadata": {
    "papermill": {
     "duration": 0.045082,
     "end_time": "2022-09-03T00:44:32.404654",
     "exception": false,
     "start_time": "2022-09-03T00:44:32.359572",
     "status": "completed"
    },
    "tags": []
   },
   "source": [
    "# COVID-19 Case Race\n",
    "> A race chart to see rising cases around the world\n",
    "\n",
    "- author: Hargun Oberoi\n",
    "- image: images/covid-overview.png\n",
    "- hide: false\n",
    "- badges: false"
   ]
  },
  {
   "cell_type": "code",
   "execution_count": 1,
   "id": "proof-material",
   "metadata": {
    "execution": {
     "iopub.execute_input": "2022-09-03T00:44:32.493714Z",
     "iopub.status.busy": "2022-09-03T00:44:32.492928Z",
     "iopub.status.idle": "2022-09-03T00:44:32.888155Z",
     "shell.execute_reply": "2022-09-03T00:44:32.888763Z"
    },
    "papermill": {
     "duration": 0.445855,
     "end_time": "2022-09-03T00:44:32.888977",
     "exception": false,
     "start_time": "2022-09-03T00:44:32.443122",
     "status": "completed"
    },
    "tags": []
   },
   "outputs": [],
   "source": [
    "#hide\n",
    "import numpy as np\n",
    "import pandas as pd\n",
    "from jinja2 import Template\n",
    "from IPython.display import HTML"
   ]
  },
  {
   "cell_type": "code",
   "execution_count": 2,
   "id": "developed-terminology",
   "metadata": {
    "execution": {
     "iopub.execute_input": "2022-09-03T00:44:32.972383Z",
     "iopub.status.busy": "2022-09-03T00:44:32.971474Z",
     "iopub.status.idle": "2022-09-03T00:44:32.974850Z",
     "shell.execute_reply": "2022-09-03T00:44:32.974203Z"
    },
    "papermill": {
     "duration": 0.046974,
     "end_time": "2022-09-03T00:44:32.974985",
     "exception": false,
     "start_time": "2022-09-03T00:44:32.928011",
     "status": "completed"
    },
    "tags": []
   },
   "outputs": [],
   "source": [
    "#hide\n",
    "\n",
    "# FETCH\n",
    "base_url = 'https://raw.githubusercontent.com/pratapvardhan/notebooks/master/covid19/'\n",
    "paths = {\n",
    "    'mapping': base_url + 'mapping_countries.csv',\n",
    "    'overview': base_url + 'overview.tpl'\n",
    "}"
   ]
  },
  {
   "cell_type": "code",
   "execution_count": 3,
   "id": "dynamic-saver",
   "metadata": {
    "execution": {
     "iopub.execute_input": "2022-09-03T00:44:33.065256Z",
     "iopub.status.busy": "2022-09-03T00:44:33.064458Z",
     "iopub.status.idle": "2022-09-03T00:44:33.069136Z",
     "shell.execute_reply": "2022-09-03T00:44:33.068497Z"
    },
    "papermill": {
     "duration": 0.056268,
     "end_time": "2022-09-03T00:44:33.069280",
     "exception": false,
     "start_time": "2022-09-03T00:44:33.013012",
     "status": "completed"
    },
    "tags": []
   },
   "outputs": [
    {
     "data": {
      "text/plain": [
       "'https://raw.githubusercontent.com/pratapvardhan/notebooks/master/covid19/mapping_countries.csv'"
      ]
     },
     "execution_count": 3,
     "metadata": {},
     "output_type": "execute_result"
    }
   ],
   "source": [
    "#hide\n",
    "paths['mapping']"
   ]
  },
  {
   "cell_type": "code",
   "execution_count": 4,
   "id": "urban-software",
   "metadata": {
    "execution": {
     "iopub.execute_input": "2022-09-03T00:44:33.161246Z",
     "iopub.status.busy": "2022-09-03T00:44:33.160471Z",
     "iopub.status.idle": "2022-09-03T00:44:33.163650Z",
     "shell.execute_reply": "2022-09-03T00:44:33.162955Z"
    },
    "papermill": {
     "duration": 0.055345,
     "end_time": "2022-09-03T00:44:33.163797",
     "exception": false,
     "start_time": "2022-09-03T00:44:33.108452",
     "status": "completed"
    },
    "tags": []
   },
   "outputs": [],
   "source": [
    "#hide\n",
    "def get_mappings(url):\n",
    "    df = pd.read_csv(url)\n",
    "    return {\n",
    "        'df': df,\n",
    "        'replace.country': dict(df.dropna(subset=['Name']).set_index('Country')['Name']),\n",
    "        'map.continent': dict(df.set_index('Name')['Continent'])\n",
    "    }"
   ]
  },
  {
   "cell_type": "code",
   "execution_count": 5,
   "id": "intimate-machinery",
   "metadata": {
    "execution": {
     "iopub.execute_input": "2022-09-03T00:44:33.254058Z",
     "iopub.status.busy": "2022-09-03T00:44:33.253305Z",
     "iopub.status.idle": "2022-09-03T00:44:33.309339Z",
     "shell.execute_reply": "2022-09-03T00:44:33.308076Z"
    },
    "papermill": {
     "duration": 0.105558,
     "end_time": "2022-09-03T00:44:33.309495",
     "exception": false,
     "start_time": "2022-09-03T00:44:33.203937",
     "status": "completed"
    },
    "tags": []
   },
   "outputs": [],
   "source": [
    "#hide\n",
    "mapping = get_mappings(paths['mapping'])"
   ]
  },
  {
   "cell_type": "code",
   "execution_count": 6,
   "id": "certified-tactics",
   "metadata": {
    "execution": {
     "iopub.execute_input": "2022-09-03T00:44:33.393928Z",
     "iopub.status.busy": "2022-09-03T00:44:33.393152Z",
     "iopub.status.idle": "2022-09-03T00:44:33.396255Z",
     "shell.execute_reply": "2022-09-03T00:44:33.396812Z"
    },
    "papermill": {
     "duration": 0.048458,
     "end_time": "2022-09-03T00:44:33.396975",
     "exception": false,
     "start_time": "2022-09-03T00:44:33.348517",
     "status": "completed"
    },
    "tags": []
   },
   "outputs": [],
   "source": [
    "#hide\n",
    "def get_template(path):\n",
    "    from urllib.parse import urlparse\n",
    "    if bool(urlparse(path).netloc):\n",
    "        from urllib.request import urlopen\n",
    "        return urlopen(path).read().decode('utf8')\n",
    "    return open(path).read()"
   ]
  },
  {
   "cell_type": "code",
   "execution_count": 7,
   "id": "realistic-blast",
   "metadata": {
    "execution": {
     "iopub.execute_input": "2022-09-03T00:44:33.480479Z",
     "iopub.status.busy": "2022-09-03T00:44:33.479656Z",
     "iopub.status.idle": "2022-09-03T00:44:33.482872Z",
     "shell.execute_reply": "2022-09-03T00:44:33.482104Z"
    },
    "papermill": {
     "duration": 0.047792,
     "end_time": "2022-09-03T00:44:33.483035",
     "exception": false,
     "start_time": "2022-09-03T00:44:33.435243",
     "status": "completed"
    },
    "tags": []
   },
   "outputs": [],
   "source": [
    "#hide\n",
    "def get_frame(name):\n",
    "    url = (\n",
    "        'https://raw.githubusercontent.com/CSSEGISandData/COVID-19/master/csse_covid_19_data/'\n",
    "        f'csse_covid_19_time_series/time_series_covid19_{name}_global.csv')\n",
    "    df = pd.read_csv(url)\n",
    "    # rename countries\n",
    "    df['Country/Region'] = df['Country/Region'].replace(mapping['replace.country'])\n",
    "    return df"
   ]
  },
  {
   "cell_type": "code",
   "execution_count": 8,
   "id": "affiliated-characterization",
   "metadata": {
    "execution": {
     "iopub.execute_input": "2022-09-03T00:44:33.573244Z",
     "iopub.status.busy": "2022-09-03T00:44:33.572439Z",
     "iopub.status.idle": "2022-09-03T00:44:33.576225Z",
     "shell.execute_reply": "2022-09-03T00:44:33.575536Z"
    },
    "papermill": {
     "duration": 0.050103,
     "end_time": "2022-09-03T00:44:33.576385",
     "exception": false,
     "start_time": "2022-09-03T00:44:33.526282",
     "status": "completed"
    },
    "tags": []
   },
   "outputs": [],
   "source": [
    "#hide\n",
    "def get_dates(df):\n",
    "    dt_cols = df.columns[~df.columns.isin(['Province/State', 'Country/Region', 'Lat', 'Long'])]\n",
    "    LAST_DATE_I = -1\n",
    "    # sometimes last column may be empty, then go backwards\n",
    "    for i in range(-1, -len(dt_cols), -1):\n",
    "        if not df[dt_cols[i]].fillna(0).eq(0).all():\n",
    "            LAST_DATE_I = i\n",
    "            break\n",
    "    return LAST_DATE_I, dt_cols"
   ]
  },
  {
   "cell_type": "code",
   "execution_count": 9,
   "id": "recent-optimization",
   "metadata": {
    "execution": {
     "iopub.execute_input": "2022-09-03T00:44:33.664885Z",
     "iopub.status.busy": "2022-09-03T00:44:33.664104Z",
     "iopub.status.idle": "2022-09-03T00:44:34.367090Z",
     "shell.execute_reply": "2022-09-03T00:44:34.367631Z"
    },
    "papermill": {
     "duration": 0.751297,
     "end_time": "2022-09-03T00:44:34.367824",
     "exception": false,
     "start_time": "2022-09-03T00:44:33.616527",
     "status": "completed"
    },
    "tags": []
   },
   "outputs": [],
   "source": [
    "#hide\n",
    "COL_REGION = 'Country/Region'\n",
    "# Confirmed, Recovered, Deaths\n",
    "df = get_frame('confirmed')\n",
    "# dft_: timeseries, dfc_: today country agg\n",
    "dft_cases = df\n",
    "dft_deaths = get_frame('deaths')\n",
    "dft_recovered = get_frame('recovered')\n",
    "LAST_DATE_I, dt_cols = get_dates(df)"
   ]
  },
  {
   "cell_type": "code",
   "execution_count": 10,
   "id": "absolute-copper",
   "metadata": {
    "execution": {
     "iopub.execute_input": "2022-09-03T00:44:34.451175Z",
     "iopub.status.busy": "2022-09-03T00:44:34.450414Z",
     "iopub.status.idle": "2022-09-03T00:44:34.453425Z",
     "shell.execute_reply": "2022-09-03T00:44:34.453986Z"
    },
    "papermill": {
     "duration": 0.046744,
     "end_time": "2022-09-03T00:44:34.454166",
     "exception": false,
     "start_time": "2022-09-03T00:44:34.407422",
     "status": "completed"
    },
    "tags": []
   },
   "outputs": [],
   "source": [
    "#hide\n",
    "LAST_DATE_I, dt_cols = get_dates(df)\n",
    "dt_today =dt_cols[LAST_DATE_I]\n",
    "# dt_5day = dt_cols[LAST_DATE_I - 5]\n",
    "dt_yday = dt_cols[LAST_DATE_I - 1]"
   ]
  },
  {
   "cell_type": "code",
   "execution_count": 11,
   "id": "restricted-sheriff",
   "metadata": {
    "execution": {
     "iopub.execute_input": "2022-09-03T00:44:34.540462Z",
     "iopub.status.busy": "2022-09-03T00:44:34.539581Z",
     "iopub.status.idle": "2022-09-03T00:44:34.547871Z",
     "shell.execute_reply": "2022-09-03T00:44:34.547282Z"
    },
    "papermill": {
     "duration": 0.055471,
     "end_time": "2022-09-03T00:44:34.547997",
     "exception": false,
     "start_time": "2022-09-03T00:44:34.492526",
     "status": "completed"
    },
    "tags": []
   },
   "outputs": [],
   "source": [
    "#hide\n",
    "dfc_cases = dft_cases.groupby(COL_REGION)[dt_today].sum()\n",
    "dfc_deaths = dft_deaths.groupby(COL_REGION)[dt_today].sum()\n",
    "# dfp_cases = dft_cases.groupby(COL_REGION)[dt_5day].sum()\n",
    "# dfp_deaths = dft_deaths.groupby(COL_REGION)[dt_5day].sum()\n",
    "dfp_cases = dft_cases.groupby(COL_REGION)[dt_yday].sum()\n",
    "dfp_deaths = dft_deaths.groupby(COL_REGION)[dt_yday].sum()"
   ]
  },
  {
   "cell_type": "code",
   "execution_count": 12,
   "id": "deluxe-hepatitis",
   "metadata": {
    "execution": {
     "iopub.execute_input": "2022-09-03T00:44:34.627543Z",
     "iopub.status.busy": "2022-09-03T00:44:34.626763Z",
     "iopub.status.idle": "2022-09-03T00:44:34.633046Z",
     "shell.execute_reply": "2022-09-03T00:44:34.632379Z"
    },
    "papermill": {
     "duration": 0.049044,
     "end_time": "2022-09-03T00:44:34.633181",
     "exception": false,
     "start_time": "2022-09-03T00:44:34.584137",
     "status": "completed"
    },
    "tags": []
   },
   "outputs": [],
   "source": [
    "#hide\n",
    "df_table = (pd.DataFrame(dict(Cases = dfc_cases, Deaths = dfc_deaths, PCases = dfp_cases, PDeaths = dfp_deaths))\n",
    "            .sort_values(by = ['Cases','Deaths'], ascending = [False, False])\n",
    "            .reset_index())"
   ]
  },
  {
   "cell_type": "code",
   "execution_count": 13,
   "id": "educational-chancellor",
   "metadata": {
    "execution": {
     "iopub.execute_input": "2022-09-03T00:44:34.733380Z",
     "iopub.status.busy": "2022-09-03T00:44:34.732587Z",
     "iopub.status.idle": "2022-09-03T00:44:34.743262Z",
     "shell.execute_reply": "2022-09-03T00:44:34.742583Z"
    },
    "papermill": {
     "duration": 0.071059,
     "end_time": "2022-09-03T00:44:34.743405",
     "exception": false,
     "start_time": "2022-09-03T00:44:34.672346",
     "status": "completed"
    },
    "tags": []
   },
   "outputs": [
    {
     "data": {
      "text/html": [
       "<div>\n",
       "<style scoped>\n",
       "    .dataframe tbody tr th:only-of-type {\n",
       "        vertical-align: middle;\n",
       "    }\n",
       "\n",
       "    .dataframe tbody tr th {\n",
       "        vertical-align: top;\n",
       "    }\n",
       "\n",
       "    .dataframe thead th {\n",
       "        text-align: right;\n",
       "    }\n",
       "</style>\n",
       "<table border=\"1\" class=\"dataframe\">\n",
       "  <thead>\n",
       "    <tr style=\"text-align: right;\">\n",
       "      <th></th>\n",
       "      <th>Country/Region</th>\n",
       "      <th>Cases</th>\n",
       "      <th>Deaths</th>\n",
       "      <th>PCases</th>\n",
       "      <th>PDeaths</th>\n",
       "      <th>Cases (+)</th>\n",
       "      <th>Deaths (+)</th>\n",
       "      <th>Fatality Rate</th>\n",
       "      <th>Continent</th>\n",
       "    </tr>\n",
       "  </thead>\n",
       "  <tbody>\n",
       "    <tr>\n",
       "      <th>0</th>\n",
       "      <td>US</td>\n",
       "      <td>94649469</td>\n",
       "      <td>1047006</td>\n",
       "      <td>94531854</td>\n",
       "      <td>1046327</td>\n",
       "      <td>117615</td>\n",
       "      <td>679</td>\n",
       "      <td>1.11</td>\n",
       "      <td>North America</td>\n",
       "    </tr>\n",
       "    <tr>\n",
       "      <th>1</th>\n",
       "      <td>India</td>\n",
       "      <td>44442507</td>\n",
       "      <td>527932</td>\n",
       "      <td>44436339</td>\n",
       "      <td>527911</td>\n",
       "      <td>6168</td>\n",
       "      <td>21</td>\n",
       "      <td>1.19</td>\n",
       "      <td>Asia</td>\n",
       "    </tr>\n",
       "    <tr>\n",
       "      <th>2</th>\n",
       "      <td>France</td>\n",
       "      <td>34764504</td>\n",
       "      <td>155174</td>\n",
       "      <td>34745833</td>\n",
       "      <td>155133</td>\n",
       "      <td>18671</td>\n",
       "      <td>41</td>\n",
       "      <td>0.45</td>\n",
       "      <td>Europe</td>\n",
       "    </tr>\n",
       "    <tr>\n",
       "      <th>3</th>\n",
       "      <td>Brazil</td>\n",
       "      <td>34429853</td>\n",
       "      <td>683965</td>\n",
       "      <td>34429853</td>\n",
       "      <td>683965</td>\n",
       "      <td>0</td>\n",
       "      <td>0</td>\n",
       "      <td>1.99</td>\n",
       "      <td>South America</td>\n",
       "    </tr>\n",
       "    <tr>\n",
       "      <th>4</th>\n",
       "      <td>Germany</td>\n",
       "      <td>32218483</td>\n",
       "      <td>147642</td>\n",
       "      <td>32184553</td>\n",
       "      <td>147494</td>\n",
       "      <td>33930</td>\n",
       "      <td>148</td>\n",
       "      <td>0.46</td>\n",
       "      <td>Europe</td>\n",
       "    </tr>\n",
       "  </tbody>\n",
       "</table>\n",
       "</div>"
      ],
      "text/plain": [
       "  Country/Region     Cases   Deaths    PCases  PDeaths  Cases (+)  Deaths (+)  \\\n",
       "0             US  94649469  1047006  94531854  1046327     117615         679   \n",
       "1          India  44442507   527932  44436339   527911       6168          21   \n",
       "2         France  34764504   155174  34745833   155133      18671          41   \n",
       "3         Brazil  34429853   683965  34429853   683965          0           0   \n",
       "4        Germany  32218483   147642  32184553   147494      33930         148   \n",
       "\n",
       "   Fatality Rate      Continent  \n",
       "0           1.11  North America  \n",
       "1           1.19           Asia  \n",
       "2           0.45         Europe  \n",
       "3           1.99  South America  \n",
       "4           0.46         Europe  "
      ]
     },
     "execution_count": 13,
     "metadata": {},
     "output_type": "execute_result"
    }
   ],
   "source": [
    "#hide\n",
    "for c in 'Cases, Deaths'.split(', '):\n",
    "    df_table[f'{c} (+)'] = (df_table[c] - df_table[f'P{c}']).clip(0)\n",
    "    #Clip ça veut dire, les chiffres negatif sont interdit\n",
    "df_table['Fatality Rate'] = (100* df_table['Deaths']/ df_table['Cases']).round(2)\n",
    "df_table['Continent'] = df_table['Country/Region'].map(mapping['map.continent'])\n",
    "df_table.head(5)"
   ]
  },
  {
   "cell_type": "code",
   "execution_count": 14,
   "id": "aboriginal-bulgaria",
   "metadata": {
    "execution": {
     "iopub.execute_input": "2022-09-03T00:44:34.827565Z",
     "iopub.status.busy": "2022-09-03T00:44:34.826720Z",
     "iopub.status.idle": "2022-09-03T00:44:34.830183Z",
     "shell.execute_reply": "2022-09-03T00:44:34.829460Z"
    },
    "papermill": {
     "duration": 0.048304,
     "end_time": "2022-09-03T00:44:34.830317",
     "exception": false,
     "start_time": "2022-09-03T00:44:34.782013",
     "status": "completed"
    },
    "tags": []
   },
   "outputs": [],
   "source": [
    "#hide\n",
    "#delete problematic countries from table\n",
    "df_table = df_table[~df_table['Country/Region'].isin(['Cape Verde', 'Cruise Ship', 'Kosovo'])]"
   ]
  },
  {
   "cell_type": "code",
   "execution_count": 15,
   "id": "fantastic-effect",
   "metadata": {
    "execution": {
     "iopub.execute_input": "2022-09-03T00:44:34.917622Z",
     "iopub.status.busy": "2022-09-03T00:44:34.916867Z",
     "iopub.status.idle": "2022-09-03T00:44:34.939863Z",
     "shell.execute_reply": "2022-09-03T00:44:34.940442Z"
    },
    "papermill": {
     "duration": 0.073008,
     "end_time": "2022-09-03T00:44:34.940595",
     "exception": false,
     "start_time": "2022-09-03T00:44:34.867587",
     "status": "completed"
    },
    "tags": []
   },
   "outputs": [
    {
     "data": {
      "text/html": [
       "<div>\n",
       "<style scoped>\n",
       "    .dataframe tbody tr th:only-of-type {\n",
       "        vertical-align: middle;\n",
       "    }\n",
       "\n",
       "    .dataframe tbody tr th {\n",
       "        vertical-align: top;\n",
       "    }\n",
       "\n",
       "    .dataframe thead th {\n",
       "        text-align: right;\n",
       "    }\n",
       "</style>\n",
       "<table border=\"1\" class=\"dataframe\">\n",
       "  <thead>\n",
       "    <tr style=\"text-align: right;\">\n",
       "      <th></th>\n",
       "      <th>Country/Region</th>\n",
       "      <th>Cases</th>\n",
       "      <th>Deaths</th>\n",
       "      <th>PCases</th>\n",
       "      <th>PDeaths</th>\n",
       "      <th>Cases (+)</th>\n",
       "      <th>Deaths (+)</th>\n",
       "      <th>Fatality Rate</th>\n",
       "      <th>Continent</th>\n",
       "    </tr>\n",
       "  </thead>\n",
       "  <tbody>\n",
       "    <tr>\n",
       "      <th>0</th>\n",
       "      <td>US</td>\n",
       "      <td>94649469</td>\n",
       "      <td>1047006</td>\n",
       "      <td>94531854</td>\n",
       "      <td>1046327</td>\n",
       "      <td>117615</td>\n",
       "      <td>679</td>\n",
       "      <td>1.1</td>\n",
       "      <td>North America</td>\n",
       "    </tr>\n",
       "    <tr>\n",
       "      <th>1</th>\n",
       "      <td>India</td>\n",
       "      <td>44442507</td>\n",
       "      <td>527932</td>\n",
       "      <td>44436339</td>\n",
       "      <td>527911</td>\n",
       "      <td>6168</td>\n",
       "      <td>21</td>\n",
       "      <td>1.2</td>\n",
       "      <td>Asia</td>\n",
       "    </tr>\n",
       "    <tr>\n",
       "      <th>2</th>\n",
       "      <td>France</td>\n",
       "      <td>34764504</td>\n",
       "      <td>155174</td>\n",
       "      <td>34745833</td>\n",
       "      <td>155133</td>\n",
       "      <td>18671</td>\n",
       "      <td>41</td>\n",
       "      <td>0.4</td>\n",
       "      <td>Europe</td>\n",
       "    </tr>\n",
       "    <tr>\n",
       "      <th>3</th>\n",
       "      <td>Brazil</td>\n",
       "      <td>34429853</td>\n",
       "      <td>683965</td>\n",
       "      <td>34429853</td>\n",
       "      <td>683965</td>\n",
       "      <td>0</td>\n",
       "      <td>0</td>\n",
       "      <td>2.0</td>\n",
       "      <td>South America</td>\n",
       "    </tr>\n",
       "    <tr>\n",
       "      <th>4</th>\n",
       "      <td>Germany</td>\n",
       "      <td>32218483</td>\n",
       "      <td>147642</td>\n",
       "      <td>32184553</td>\n",
       "      <td>147494</td>\n",
       "      <td>33930</td>\n",
       "      <td>148</td>\n",
       "      <td>0.5</td>\n",
       "      <td>Europe</td>\n",
       "    </tr>\n",
       "  </tbody>\n",
       "</table>\n",
       "</div>"
      ],
      "text/plain": [
       "  Country/Region     Cases   Deaths    PCases  PDeaths  Cases (+)  Deaths (+)  \\\n",
       "0             US  94649469  1047006  94531854  1046327     117615         679   \n",
       "1          India  44442507   527932  44436339   527911       6168          21   \n",
       "2         France  34764504   155174  34745833   155133      18671          41   \n",
       "3         Brazil  34429853   683965  34429853   683965          0           0   \n",
       "4        Germany  32218483   147642  32184553   147494      33930         148   \n",
       "\n",
       "   Fatality Rate      Continent  \n",
       "0            1.1  North America  \n",
       "1            1.2           Asia  \n",
       "2            0.4         Europe  \n",
       "3            2.0  South America  \n",
       "4            0.5         Europe  "
      ]
     },
     "execution_count": 15,
     "metadata": {},
     "output_type": "execute_result"
    }
   ],
   "source": [
    "#hide\n",
    "df_table = (pd.DataFrame(dict(Cases=dfc_cases, Deaths=dfc_deaths, PCases=dfp_cases, PDeaths=dfp_deaths))\n",
    "             .sort_values(by=['Cases', 'Deaths'], ascending=[False, False])\n",
    "             .reset_index())\n",
    "df_table.rename(columns={'index': 'Country/Region'}, inplace=True)\n",
    "for c in 'Cases, Deaths'.split(', '):\n",
    "    df_table[f'{c} (+)'] = (df_table[c] - df_table[f'P{c}']).clip(0)  # DATA BUG\n",
    "df_table['Fatality Rate'] = (100 * df_table['Deaths'] / df_table['Cases']).round(1)\n",
    "df_table['Continent'] = df_table['Country/Region'].map(mapping['map.continent'])\n",
    "df_table.head(5)"
   ]
  },
  {
   "cell_type": "code",
   "execution_count": 16,
   "id": "fewer-occasion",
   "metadata": {
    "execution": {
     "iopub.execute_input": "2022-09-03T00:44:35.024748Z",
     "iopub.status.busy": "2022-09-03T00:44:35.023918Z",
     "iopub.status.idle": "2022-09-03T00:44:35.027076Z",
     "shell.execute_reply": "2022-09-03T00:44:35.026321Z"
    },
    "papermill": {
     "duration": 0.048698,
     "end_time": "2022-09-03T00:44:35.027235",
     "exception": false,
     "start_time": "2022-09-03T00:44:34.978537",
     "status": "completed"
    },
    "tags": []
   },
   "outputs": [],
   "source": [
    "#hide\n",
    "#delete problematic countries from table\n",
    "df_table = df_table[~df_table['Country/Region'].isin(['Cape Verde', 'Cruise Ship', 'Kosovo'])]"
   ]
  },
  {
   "cell_type": "code",
   "execution_count": 17,
   "id": "related-center",
   "metadata": {
    "execution": {
     "iopub.execute_input": "2022-09-03T00:44:35.133459Z",
     "iopub.status.busy": "2022-09-03T00:44:35.132580Z",
     "iopub.status.idle": "2022-09-03T00:44:35.135391Z",
     "shell.execute_reply": "2022-09-03T00:44:35.134690Z"
    },
    "papermill": {
     "duration": 0.065209,
     "end_time": "2022-09-03T00:44:35.135525",
     "exception": false,
     "start_time": "2022-09-03T00:44:35.070316",
     "status": "completed"
    },
    "tags": []
   },
   "outputs": [],
   "source": [
    "#hide\n",
    "metrics = [df_table.columns[index] for index in [1,2,5,6]]\n",
    "# s_china = df_table[df_table['Country/Region'].eq('China')][metrics].sum().add_prefix('China ')\n",
    "s_us = df_table[df_table['Country/Region'].eq('US')][metrics].sum().add_prefix('US ')\n",
    "s_eu = df_table[df_table['Continent'].eq('Europe')][metrics].sum().add_prefix('EU ')\n",
    "s_ind = df_table[df_table['Country/Region'].eq('India')][metrics].sum().add_prefix('India ')\n",
    "summary = {'updated': pd.to_datetime(dt_today), 'since': pd.to_datetime(dt_yday)}\n",
    "summary = {'updated': pd.to_datetime(dt_today), 'since': pd.to_datetime(dt_yday)}\n",
    "summary = {**summary, **df_table[metrics].sum(), **s_ind, **s_us, **s_eu}"
   ]
  },
  {
   "cell_type": "code",
   "execution_count": 18,
   "id": "engaging-syndrome",
   "metadata": {
    "execution": {
     "iopub.execute_input": "2022-09-03T00:44:35.220959Z",
     "iopub.status.busy": "2022-09-03T00:44:35.220177Z",
     "iopub.status.idle": "2022-09-03T00:44:35.248016Z",
     "shell.execute_reply": "2022-09-03T00:44:35.247373Z"
    },
    "papermill": {
     "duration": 0.073101,
     "end_time": "2022-09-03T00:44:35.248188",
     "exception": false,
     "start_time": "2022-09-03T00:44:35.175087",
     "status": "completed"
    },
    "tags": []
   },
   "outputs": [],
   "source": [
    "#hide\n",
    "dft_ct_new_cases = dft_cases.groupby(COL_REGION)[dt_cols].sum().diff(axis=1).fillna(0).astype(int)"
   ]
  },
  {
   "cell_type": "code",
   "execution_count": 19,
   "id": "neutral-assignment",
   "metadata": {
    "execution": {
     "iopub.execute_input": "2022-09-03T00:44:35.335146Z",
     "iopub.status.busy": "2022-09-03T00:44:35.334369Z",
     "iopub.status.idle": "2022-09-03T00:44:35.337408Z",
     "shell.execute_reply": "2022-09-03T00:44:35.336658Z"
    },
    "papermill": {
     "duration": 0.049805,
     "end_time": "2022-09-03T00:44:35.337544",
     "exception": false,
     "start_time": "2022-09-03T00:44:35.287739",
     "status": "completed"
    },
    "tags": []
   },
   "outputs": [],
   "source": [
    "#hide\n",
    "everydaycases = dft_ct_new_cases.cumsum(axis=1)"
   ]
  },
  {
   "cell_type": "code",
   "execution_count": 20,
   "id": "parliamentary-calgary",
   "metadata": {
    "execution": {
     "iopub.execute_input": "2022-09-03T00:44:35.424193Z",
     "iopub.status.busy": "2022-09-03T00:44:35.423432Z",
     "iopub.status.idle": "2022-09-03T00:44:36.065376Z",
     "shell.execute_reply": "2022-09-03T00:44:36.064740Z"
    },
    "papermill": {
     "duration": 0.687952,
     "end_time": "2022-09-03T00:44:36.065532",
     "exception": false,
     "start_time": "2022-09-03T00:44:35.377580",
     "status": "completed"
    },
    "tags": []
   },
   "outputs": [],
   "source": [
    "#hide\n",
    "import pandas as pd\n",
    "import matplotlib.pyplot as plt\n",
    "import matplotlib.ticker as ticker\n",
    "import matplotlib.animation as animation\n",
    "from IPython.display import HTML"
   ]
  },
  {
   "cell_type": "code",
   "execution_count": 21,
   "id": "lasting-extraction",
   "metadata": {
    "execution": {
     "iopub.execute_input": "2022-09-03T00:44:36.154662Z",
     "iopub.status.busy": "2022-09-03T00:44:36.153898Z",
     "iopub.status.idle": "2022-09-03T00:44:36.162328Z",
     "shell.execute_reply": "2022-09-03T00:44:36.161725Z"
    },
    "papermill": {
     "duration": 0.057512,
     "end_time": "2022-09-03T00:44:36.162474",
     "exception": false,
     "start_time": "2022-09-03T00:44:36.104962",
     "status": "completed"
    },
    "tags": []
   },
   "outputs": [],
   "source": [
    "#hide\n",
    "t = everydaycases.stack()"
   ]
  },
  {
   "cell_type": "code",
   "execution_count": 22,
   "id": "premier-sleeve",
   "metadata": {
    "execution": {
     "iopub.execute_input": "2022-09-03T00:44:36.255330Z",
     "iopub.status.busy": "2022-09-03T00:44:36.254573Z",
     "iopub.status.idle": "2022-09-03T00:44:36.269564Z",
     "shell.execute_reply": "2022-09-03T00:44:36.268570Z"
    },
    "papermill": {
     "duration": 0.066979,
     "end_time": "2022-09-03T00:44:36.269728",
     "exception": false,
     "start_time": "2022-09-03T00:44:36.202749",
     "status": "completed"
    },
    "tags": []
   },
   "outputs": [],
   "source": [
    "#hide\n",
    "g = t.reset_index(['Country/Region'])"
   ]
  },
  {
   "cell_type": "code",
   "execution_count": 23,
   "id": "distributed-pittsburgh",
   "metadata": {
    "execution": {
     "iopub.execute_input": "2022-09-03T00:44:36.355896Z",
     "iopub.status.busy": "2022-09-03T00:44:36.355131Z",
     "iopub.status.idle": "2022-09-03T00:44:36.358346Z",
     "shell.execute_reply": "2022-09-03T00:44:36.357602Z"
    },
    "papermill": {
     "duration": 0.048111,
     "end_time": "2022-09-03T00:44:36.358483",
     "exception": false,
     "start_time": "2022-09-03T00:44:36.310372",
     "status": "completed"
    },
    "tags": []
   },
   "outputs": [],
   "source": [
    "#hide\n",
    "g.index.name = 'date'"
   ]
  },
  {
   "cell_type": "code",
   "execution_count": 24,
   "id": "naked-donor",
   "metadata": {
    "execution": {
     "iopub.execute_input": "2022-09-03T00:44:36.443663Z",
     "iopub.status.busy": "2022-09-03T00:44:36.442901Z",
     "iopub.status.idle": "2022-09-03T00:44:36.446276Z",
     "shell.execute_reply": "2022-09-03T00:44:36.445661Z"
    },
    "papermill": {
     "duration": 0.047568,
     "end_time": "2022-09-03T00:44:36.446417",
     "exception": false,
     "start_time": "2022-09-03T00:44:36.398849",
     "status": "completed"
    },
    "tags": []
   },
   "outputs": [],
   "source": [
    "# #hide\n",
    "# g = g.reset_index(['date'])"
   ]
  },
  {
   "cell_type": "code",
   "execution_count": 25,
   "id": "incomplete-mustang",
   "metadata": {
    "execution": {
     "iopub.execute_input": "2022-09-03T00:44:36.530859Z",
     "iopub.status.busy": "2022-09-03T00:44:36.530113Z",
     "iopub.status.idle": "2022-09-03T00:44:36.533464Z",
     "shell.execute_reply": "2022-09-03T00:44:36.532772Z"
    },
    "papermill": {
     "duration": 0.047763,
     "end_time": "2022-09-03T00:44:36.533607",
     "exception": false,
     "start_time": "2022-09-03T00:44:36.485844",
     "status": "completed"
    },
    "tags": []
   },
   "outputs": [],
   "source": [
    "#hide\n",
    "# g.head()"
   ]
  },
  {
   "cell_type": "code",
   "execution_count": 26,
   "id": "specific-kruger",
   "metadata": {
    "execution": {
     "iopub.execute_input": "2022-09-03T00:44:36.617957Z",
     "iopub.status.busy": "2022-09-03T00:44:36.617212Z",
     "iopub.status.idle": "2022-09-03T00:44:36.619873Z",
     "shell.execute_reply": "2022-09-03T00:44:36.620483Z"
    },
    "papermill": {
     "duration": 0.04705,
     "end_time": "2022-09-03T00:44:36.620643",
     "exception": false,
     "start_time": "2022-09-03T00:44:36.573593",
     "status": "completed"
    },
    "tags": []
   },
   "outputs": [],
   "source": [
    "#hide\n",
    "# g.columns = ['date','country','cases']"
   ]
  },
  {
   "cell_type": "code",
   "execution_count": 27,
   "id": "tender-conversion",
   "metadata": {
    "execution": {
     "iopub.execute_input": "2022-09-03T00:44:36.706117Z",
     "iopub.status.busy": "2022-09-03T00:44:36.705361Z",
     "iopub.status.idle": "2022-09-03T00:44:36.708641Z",
     "shell.execute_reply": "2022-09-03T00:44:36.707736Z"
    },
    "papermill": {
     "duration": 0.046946,
     "end_time": "2022-09-03T00:44:36.708780",
     "exception": false,
     "start_time": "2022-09-03T00:44:36.661834",
     "status": "completed"
    },
    "tags": []
   },
   "outputs": [],
   "source": [
    "#hide\n",
    "# g['continent'] = g.country"
   ]
  },
  {
   "cell_type": "code",
   "execution_count": 28,
   "id": "substantial-wilderness",
   "metadata": {
    "execution": {
     "iopub.execute_input": "2022-09-03T00:44:36.792077Z",
     "iopub.status.busy": "2022-09-03T00:44:36.791367Z",
     "iopub.status.idle": "2022-09-03T00:44:36.794519Z",
     "shell.execute_reply": "2022-09-03T00:44:36.793980Z"
    },
    "papermill": {
     "duration": 0.044894,
     "end_time": "2022-09-03T00:44:36.794638",
     "exception": false,
     "start_time": "2022-09-03T00:44:36.749744",
     "status": "completed"
    },
    "tags": []
   },
   "outputs": [],
   "source": [
    "#hide\n",
    "# cols = list(g.columns.values)"
   ]
  },
  {
   "cell_type": "code",
   "execution_count": 29,
   "id": "solved-farming",
   "metadata": {
    "execution": {
     "iopub.execute_input": "2022-09-03T00:44:36.873982Z",
     "iopub.status.busy": "2022-09-03T00:44:36.873283Z",
     "iopub.status.idle": "2022-09-03T00:44:36.875950Z",
     "shell.execute_reply": "2022-09-03T00:44:36.876568Z"
    },
    "papermill": {
     "duration": 0.044712,
     "end_time": "2022-09-03T00:44:36.876718",
     "exception": false,
     "start_time": "2022-09-03T00:44:36.832006",
     "status": "completed"
    },
    "tags": []
   },
   "outputs": [],
   "source": [
    "#hide\n",
    "# cols.insert(0, cols.pop())"
   ]
  },
  {
   "cell_type": "code",
   "execution_count": 30,
   "id": "executed-adoption",
   "metadata": {
    "execution": {
     "iopub.execute_input": "2022-09-03T00:44:36.958504Z",
     "iopub.status.busy": "2022-09-03T00:44:36.957744Z",
     "iopub.status.idle": "2022-09-03T00:44:36.960199Z",
     "shell.execute_reply": "2022-09-03T00:44:36.960942Z"
    },
    "papermill": {
     "duration": 0.04473,
     "end_time": "2022-09-03T00:44:36.961096",
     "exception": false,
     "start_time": "2022-09-03T00:44:36.916366",
     "status": "completed"
    },
    "tags": []
   },
   "outputs": [],
   "source": [
    "#hide\n",
    "# g = g[cols]"
   ]
  },
  {
   "cell_type": "code",
   "execution_count": 31,
   "id": "subject-dublin",
   "metadata": {
    "execution": {
     "iopub.execute_input": "2022-09-03T00:44:37.039444Z",
     "iopub.status.busy": "2022-09-03T00:44:37.038735Z",
     "iopub.status.idle": "2022-09-03T00:44:37.041873Z",
     "shell.execute_reply": "2022-09-03T00:44:37.041310Z"
    },
    "papermill": {
     "duration": 0.043241,
     "end_time": "2022-09-03T00:44:37.042009",
     "exception": false,
     "start_time": "2022-09-03T00:44:36.998768",
     "status": "completed"
    },
    "tags": []
   },
   "outputs": [],
   "source": [
    "#hide\n",
    "# g['continent'] = g['continent'].map(mapping['map.continent'])"
   ]
  },
  {
   "cell_type": "code",
   "execution_count": 32,
   "id": "freelance-scout",
   "metadata": {
    "execution": {
     "iopub.execute_input": "2022-09-03T00:44:37.122636Z",
     "iopub.status.busy": "2022-09-03T00:44:37.121785Z",
     "iopub.status.idle": "2022-09-03T00:44:37.124874Z",
     "shell.execute_reply": "2022-09-03T00:44:37.124299Z"
    },
    "papermill": {
     "duration": 0.04488,
     "end_time": "2022-09-03T00:44:37.125020",
     "exception": false,
     "start_time": "2022-09-03T00:44:37.080140",
     "status": "completed"
    },
    "tags": []
   },
   "outputs": [],
   "source": [
    "#hide\n",
    "# g.head()"
   ]
  },
  {
   "cell_type": "code",
   "execution_count": 33,
   "id": "limited-engine",
   "metadata": {
    "execution": {
     "iopub.execute_input": "2022-09-03T00:44:37.207796Z",
     "iopub.status.busy": "2022-09-03T00:44:37.207094Z",
     "iopub.status.idle": "2022-09-03T00:44:37.210405Z",
     "shell.execute_reply": "2022-09-03T00:44:37.209800Z"
    },
    "papermill": {
     "duration": 0.046638,
     "end_time": "2022-09-03T00:44:37.210528",
     "exception": false,
     "start_time": "2022-09-03T00:44:37.163890",
     "status": "completed"
    },
    "tags": []
   },
   "outputs": [],
   "source": [
    "# hide\n",
    "# g['date'] = g['date'].astype('datetime64[ns]')"
   ]
  },
  {
   "cell_type": "code",
   "execution_count": 34,
   "id": "sophisticated-supervisor",
   "metadata": {
    "execution": {
     "iopub.execute_input": "2022-09-03T00:44:37.294400Z",
     "iopub.status.busy": "2022-09-03T00:44:37.293579Z",
     "iopub.status.idle": "2022-09-03T00:44:37.298516Z",
     "shell.execute_reply": "2022-09-03T00:44:37.297934Z"
    },
    "papermill": {
     "duration": 0.049226,
     "end_time": "2022-09-03T00:44:37.298643",
     "exception": false,
     "start_time": "2022-09-03T00:44:37.249417",
     "status": "completed"
    },
    "tags": []
   },
   "outputs": [],
   "source": [
    "#hide\n",
    "# g['date'] = g.date.dt.dayofyear"
   ]
  },
  {
   "cell_type": "code",
   "execution_count": 35,
   "id": "inside-dubai",
   "metadata": {
    "execution": {
     "iopub.execute_input": "2022-09-03T00:44:37.385005Z",
     "iopub.status.busy": "2022-09-03T00:44:37.384130Z",
     "iopub.status.idle": "2022-09-03T00:44:37.387265Z",
     "shell.execute_reply": "2022-09-03T00:44:37.386517Z"
    },
    "papermill": {
     "duration": 0.047538,
     "end_time": "2022-09-03T00:44:37.387421",
     "exception": false,
     "start_time": "2022-09-03T00:44:37.339883",
     "status": "completed"
    },
    "tags": []
   },
   "outputs": [],
   "source": [
    "#hide\n",
    "# g = g.rename(columns= {'continent':'group','country':'name','cases':'value'})"
   ]
  },
  {
   "cell_type": "code",
   "execution_count": 36,
   "id": "fleet-motorcycle",
   "metadata": {
    "execution": {
     "iopub.execute_input": "2022-09-03T00:44:37.473463Z",
     "iopub.status.busy": "2022-09-03T00:44:37.472722Z",
     "iopub.status.idle": "2022-09-03T00:44:37.475471Z",
     "shell.execute_reply": "2022-09-03T00:44:37.475990Z"
    },
    "papermill": {
     "duration": 0.047917,
     "end_time": "2022-09-03T00:44:37.476148",
     "exception": false,
     "start_time": "2022-09-03T00:44:37.428231",
     "status": "completed"
    },
    "tags": []
   },
   "outputs": [],
   "source": [
    "#hide\n",
    "# cols = ['name','group','day','value']"
   ]
  },
  {
   "cell_type": "code",
   "execution_count": 37,
   "id": "continued-sleeping",
   "metadata": {
    "execution": {
     "iopub.execute_input": "2022-09-03T00:44:37.559268Z",
     "iopub.status.busy": "2022-09-03T00:44:37.558431Z",
     "iopub.status.idle": "2022-09-03T00:44:37.561803Z",
     "shell.execute_reply": "2022-09-03T00:44:37.561186Z"
    },
    "papermill": {
     "duration": 0.047931,
     "end_time": "2022-09-03T00:44:37.561923",
     "exception": false,
     "start_time": "2022-09-03T00:44:37.513992",
     "status": "completed"
    },
    "tags": []
   },
   "outputs": [],
   "source": [
    "#hide\n",
    "# g.rename(columns= {'date':'day'},inplace = True)"
   ]
  },
  {
   "cell_type": "code",
   "execution_count": 38,
   "id": "major-fight",
   "metadata": {
    "execution": {
     "iopub.execute_input": "2022-09-03T00:44:37.645600Z",
     "iopub.status.busy": "2022-09-03T00:44:37.644749Z",
     "iopub.status.idle": "2022-09-03T00:44:37.646894Z",
     "shell.execute_reply": "2022-09-03T00:44:37.647415Z"
    },
    "papermill": {
     "duration": 0.04792,
     "end_time": "2022-09-03T00:44:37.647570",
     "exception": false,
     "start_time": "2022-09-03T00:44:37.599650",
     "status": "completed"
    },
    "tags": []
   },
   "outputs": [],
   "source": [
    "#hide\n",
    "# g = g[cols]"
   ]
  },
  {
   "cell_type": "code",
   "execution_count": 39,
   "id": "structured-mobile",
   "metadata": {
    "execution": {
     "iopub.execute_input": "2022-09-03T00:44:37.729680Z",
     "iopub.status.busy": "2022-09-03T00:44:37.728903Z",
     "iopub.status.idle": "2022-09-03T00:44:37.731992Z",
     "shell.execute_reply": "2022-09-03T00:44:37.731447Z"
    },
    "papermill": {
     "duration": 0.045877,
     "end_time": "2022-09-03T00:44:37.732153",
     "exception": false,
     "start_time": "2022-09-03T00:44:37.686276",
     "status": "completed"
    },
    "tags": []
   },
   "outputs": [],
   "source": [
    "# #hide\n",
    "# g = g[g.group.notna()]"
   ]
  },
  {
   "cell_type": "code",
   "execution_count": 40,
   "id": "determined-closing",
   "metadata": {
    "execution": {
     "iopub.execute_input": "2022-09-03T00:44:37.828784Z",
     "iopub.status.busy": "2022-09-03T00:44:37.827980Z",
     "iopub.status.idle": "2022-09-03T00:44:37.831201Z",
     "shell.execute_reply": "2022-09-03T00:44:37.831774Z"
    },
    "papermill": {
     "duration": 0.052588,
     "end_time": "2022-09-03T00:44:37.831950",
     "exception": false,
     "start_time": "2022-09-03T00:44:37.779362",
     "status": "completed"
    },
    "tags": []
   },
   "outputs": [],
   "source": [
    "# #hide\n",
    "# colors = dict(zip(\n",
    "#     [\"Oceania\", \"Europe\", \"Asia\", \"South America\", \"Middle East\", \"North America\", \"Africa\"],\n",
    "#     [\"#adb0ff\", \"#ffb3ff\", \"#90d595\", \"#e48381\", \"#aafbff\", \"#f7bb5f\", \"#eafb50\"]\n",
    "# ))\n",
    "# group_lk = g.set_index('name')['group'].to_dict()"
   ]
  },
  {
   "cell_type": "code",
   "execution_count": null,
   "id": "gross-drinking",
   "metadata": {
    "papermill": {
     "duration": 0.040192,
     "end_time": "2022-09-03T00:44:37.912488",
     "exception": false,
     "start_time": "2022-09-03T00:44:37.872296",
     "status": "completed"
    },
    "tags": []
   },
   "outputs": [],
   "source": []
  },
  {
   "cell_type": "code",
   "execution_count": 41,
   "id": "subject-macintosh",
   "metadata": {
    "execution": {
     "iopub.execute_input": "2022-09-03T00:44:38.000785Z",
     "iopub.status.busy": "2022-09-03T00:44:37.999889Z",
     "iopub.status.idle": "2022-09-03T00:44:38.003229Z",
     "shell.execute_reply": "2022-09-03T00:44:38.002598Z"
    },
    "papermill": {
     "duration": 0.050143,
     "end_time": "2022-09-03T00:44:38.003369",
     "exception": false,
     "start_time": "2022-09-03T00:44:37.953226",
     "status": "completed"
    },
    "tags": []
   },
   "outputs": [],
   "source": [
    "# #hide\n",
    "# fig, ax = plt.subplots(figsize=(15, 8))\n",
    "\n",
    "# def draw_barchart(current_day):\n",
    "#     dff = g[g['day'].eq(current_day)].sort_values(by='value', ascending=True).tail(10)\n",
    "#     ax.clear()\n",
    "#     ax.barh(dff['name'], dff['value'], color=[colors[group_lk[x]] for x in dff['name']])\n",
    "#     dx = dff['value'].max() / 200\n",
    "    \n",
    "#     for i, (value, name) in enumerate(zip(dff['value'], dff['name'])):\n",
    "#         ax.text(value-dx, i,     name,           size=14, weight=600, ha='right', va='bottom')\n",
    "#         ax.text(value-dx, i-.25, group_lk[name], size=10, color='#444444', ha='right', va='baseline')\n",
    "#         ax.text(value+dx, i,     f'{value:,.0f}',  size=14, ha='left',  va='center')\n",
    "#     ax.text(1, 0.4, current_day, transform=ax.transAxes, color='#777777', size=46, ha='right', weight=800)\n",
    "#     ax.text(0, 1.06, 'Population (thousands)', transform=ax.transAxes, size=12, color='#777777')\n",
    "#     ax.xaxis.set_major_formatter(ticker.StrMethodFormatter('{x:,.0f}'))\n",
    "#     ax.xaxis.set_ticks_position('top')\n",
    "#     ax.tick_params(axis='x', colors='#777777', labelsize=12)\n",
    "#     ax.set_yticks([])\n",
    "#     ax.margins(0, 0.01)\n",
    "#     ax.grid(which='major', axis='x', linestyle='-')\n",
    "#     ax.set_axisbelow(True)\n",
    "    \n",
    "#     ax.text(0, 1.15, 'Coronavirus',\n",
    "#             transform=ax.transAxes, size=24, weight=600, ha='left', va='top')\n",
    "# #     ax.text(1, 0, 'by @pratapvardhan; credit @jburnmurdoch', transform=ax.transAxes, color='#777777', ha='right',\n",
    "# #             bbox=dict(facecolor='white', alpha=0.8, edgecolor='white'))\n",
    "#     plt.box(False)"
   ]
  },
  {
   "cell_type": "code",
   "execution_count": 42,
   "id": "sexual-wages",
   "metadata": {
    "execution": {
     "iopub.execute_input": "2022-09-03T00:44:38.090972Z",
     "iopub.status.busy": "2022-09-03T00:44:38.090216Z",
     "iopub.status.idle": "2022-09-03T00:44:38.093569Z",
     "shell.execute_reply": "2022-09-03T00:44:38.092928Z"
    },
    "papermill": {
     "duration": 0.050233,
     "end_time": "2022-09-03T00:44:38.093706",
     "exception": false,
     "start_time": "2022-09-03T00:44:38.043473",
     "status": "completed"
    },
    "tags": []
   },
   "outputs": [],
   "source": [
    "# #hide_input\n",
    "# fig, ax = plt.subplots(figsize=(15, 8))\n",
    "# animator = animation.FuncAnimation(fig, draw_barchart, frames=range(g.day.values.min(), g.day.values.max()))\n",
    "# HTML(animator.to_jshtml())\n",
    "# # or use animator.to_html5_video() or animator.save() "
   ]
  },
  {
   "cell_type": "code",
   "execution_count": null,
   "id": "australian-container",
   "metadata": {
    "papermill": {
     "duration": 0.03971,
     "end_time": "2022-09-03T00:44:38.173260",
     "exception": false,
     "start_time": "2022-09-03T00:44:38.133550",
     "status": "completed"
    },
    "tags": []
   },
   "outputs": [],
   "source": []
  },
  {
   "cell_type": "code",
   "execution_count": null,
   "id": "mediterranean-pontiac",
   "metadata": {
    "papermill": {
     "duration": 0.040377,
     "end_time": "2022-09-03T00:44:38.254177",
     "exception": false,
     "start_time": "2022-09-03T00:44:38.213800",
     "status": "completed"
    },
    "tags": []
   },
   "outputs": [],
   "source": []
  },
  {
   "cell_type": "code",
   "execution_count": null,
   "id": "aging-legislature",
   "metadata": {
    "papermill": {
     "duration": 0.039753,
     "end_time": "2022-09-03T00:44:38.333684",
     "exception": false,
     "start_time": "2022-09-03T00:44:38.293931",
     "status": "completed"
    },
    "tags": []
   },
   "outputs": [],
   "source": []
  }
 ],
 "metadata": {
  "kernelspec": {
   "display_name": "Python 3",
   "language": "python",
   "name": "python3"
  },
  "language_info": {
   "codemirror_mode": {
    "name": "ipython",
    "version": 3
   },
   "file_extension": ".py",
   "mimetype": "text/x-python",
   "name": "python",
   "nbconvert_exporter": "python",
   "pygments_lexer": "ipython3",
   "version": "3.6.15"
  },
  "papermill": {
   "duration": 7.798905,
   "end_time": "2022-09-03T00:44:38.793357",
   "environment_variables": {},
   "exception": null,
   "input_path": "2020-03-21-covid19exp.ipynb",
   "output_path": "2020-03-21-covid19exp.ipynb",
   "parameters": {},
   "start_time": "2022-09-03T00:44:30.994452",
   "version": "2.0.0"
  }
 },
 "nbformat": 4,
 "nbformat_minor": 5
}