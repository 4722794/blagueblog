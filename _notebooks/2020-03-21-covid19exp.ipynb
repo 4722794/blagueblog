{
 "cells": [
  {
   "cell_type": "markdown",
   "id": "muslim-click",
   "metadata": {
    "papermill": {
     "duration": 0.040337,
     "end_time": "2022-01-11T12:13:09.818842",
     "exception": false,
     "start_time": "2022-01-11T12:13:09.778505",
     "status": "completed"
    },
    "tags": []
   },
   "source": [
    "# COVID-19 Case Race\n",
    "> A race chart to see rising cases around the world\n",
    "\n",
    "- author: Hargun Oberoi\n",
    "- image: images/covid-overview.png\n",
    "- hide: false\n",
    "- badges: false"
   ]
  },
  {
   "cell_type": "code",
   "execution_count": 1,
   "id": "proof-material",
   "metadata": {
    "execution": {
     "iopub.execute_input": "2022-01-11T12:13:09.895086Z",
     "iopub.status.busy": "2022-01-11T12:13:09.894461Z",
     "iopub.status.idle": "2022-01-11T12:13:10.256996Z",
     "shell.execute_reply": "2022-01-11T12:13:10.256397Z"
    },
    "papermill": {
     "duration": 0.405022,
     "end_time": "2022-01-11T12:13:10.257150",
     "exception": false,
     "start_time": "2022-01-11T12:13:09.852128",
     "status": "completed"
    },
    "tags": []
   },
   "outputs": [],
   "source": [
    "#hide\n",
    "import numpy as np\n",
    "import pandas as pd\n",
    "from jinja2 import Template\n",
    "from IPython.display import HTML"
   ]
  },
  {
   "cell_type": "code",
   "execution_count": 2,
   "id": "developed-terminology",
   "metadata": {
    "execution": {
     "iopub.execute_input": "2022-01-11T12:13:10.330324Z",
     "iopub.status.busy": "2022-01-11T12:13:10.329252Z",
     "iopub.status.idle": "2022-01-11T12:13:10.333484Z",
     "shell.execute_reply": "2022-01-11T12:13:10.333913Z"
    },
    "papermill": {
     "duration": 0.044314,
     "end_time": "2022-01-11T12:13:10.334054",
     "exception": false,
     "start_time": "2022-01-11T12:13:10.289740",
     "status": "completed"
    },
    "tags": []
   },
   "outputs": [],
   "source": [
    "#hide\n",
    "\n",
    "# FETCH\n",
    "base_url = 'https://raw.githubusercontent.com/pratapvardhan/notebooks/master/covid19/'\n",
    "paths = {\n",
    "    'mapping': base_url + 'mapping_countries.csv',\n",
    "    'overview': base_url + 'overview.tpl'\n",
    "}"
   ]
  },
  {
   "cell_type": "code",
   "execution_count": 3,
   "id": "dynamic-saver",
   "metadata": {
    "execution": {
     "iopub.execute_input": "2022-01-11T12:13:10.408615Z",
     "iopub.status.busy": "2022-01-11T12:13:10.407974Z",
     "iopub.status.idle": "2022-01-11T12:13:10.410132Z",
     "shell.execute_reply": "2022-01-11T12:13:10.410694Z"
    },
    "papermill": {
     "duration": 0.04443,
     "end_time": "2022-01-11T12:13:10.410826",
     "exception": false,
     "start_time": "2022-01-11T12:13:10.366396",
     "status": "completed"
    },
    "tags": []
   },
   "outputs": [
    {
     "data": {
      "text/plain": [
       "'https://raw.githubusercontent.com/pratapvardhan/notebooks/master/covid19/mapping_countries.csv'"
      ]
     },
     "execution_count": 3,
     "metadata": {},
     "output_type": "execute_result"
    }
   ],
   "source": [
    "#hide\n",
    "paths['mapping']"
   ]
  },
  {
   "cell_type": "code",
   "execution_count": 4,
   "id": "urban-software",
   "metadata": {
    "execution": {
     "iopub.execute_input": "2022-01-11T12:13:10.483642Z",
     "iopub.status.busy": "2022-01-11T12:13:10.482506Z",
     "iopub.status.idle": "2022-01-11T12:13:10.486570Z",
     "shell.execute_reply": "2022-01-11T12:13:10.486055Z"
    },
    "papermill": {
     "duration": 0.043495,
     "end_time": "2022-01-11T12:13:10.486702",
     "exception": false,
     "start_time": "2022-01-11T12:13:10.443207",
     "status": "completed"
    },
    "tags": []
   },
   "outputs": [],
   "source": [
    "#hide\n",
    "def get_mappings(url):\n",
    "    df = pd.read_csv(url)\n",
    "    return {\n",
    "        'df': df,\n",
    "        'replace.country': dict(df.dropna(subset=['Name']).set_index('Country')['Name']),\n",
    "        'map.continent': dict(df.set_index('Name')['Continent'])\n",
    "    }"
   ]
  },
  {
   "cell_type": "code",
   "execution_count": 5,
   "id": "intimate-machinery",
   "metadata": {
    "execution": {
     "iopub.execute_input": "2022-01-11T12:13:10.557867Z",
     "iopub.status.busy": "2022-01-11T12:13:10.557259Z",
     "iopub.status.idle": "2022-01-11T12:13:10.587167Z",
     "shell.execute_reply": "2022-01-11T12:13:10.586627Z"
    },
    "papermill": {
     "duration": 0.068315,
     "end_time": "2022-01-11T12:13:10.587318",
     "exception": false,
     "start_time": "2022-01-11T12:13:10.519003",
     "status": "completed"
    },
    "tags": []
   },
   "outputs": [],
   "source": [
    "#hide\n",
    "mapping = get_mappings(paths['mapping'])"
   ]
  },
  {
   "cell_type": "code",
   "execution_count": 6,
   "id": "certified-tactics",
   "metadata": {
    "execution": {
     "iopub.execute_input": "2022-01-11T12:13:10.657097Z",
     "iopub.status.busy": "2022-01-11T12:13:10.656543Z",
     "iopub.status.idle": "2022-01-11T12:13:10.659798Z",
     "shell.execute_reply": "2022-01-11T12:13:10.659280Z"
    },
    "papermill": {
     "duration": 0.041011,
     "end_time": "2022-01-11T12:13:10.659923",
     "exception": false,
     "start_time": "2022-01-11T12:13:10.618912",
     "status": "completed"
    },
    "tags": []
   },
   "outputs": [],
   "source": [
    "#hide\n",
    "def get_template(path):\n",
    "    from urllib.parse import urlparse\n",
    "    if bool(urlparse(path).netloc):\n",
    "        from urllib.request import urlopen\n",
    "        return urlopen(path).read().decode('utf8')\n",
    "    return open(path).read()"
   ]
  },
  {
   "cell_type": "code",
   "execution_count": 7,
   "id": "realistic-blast",
   "metadata": {
    "execution": {
     "iopub.execute_input": "2022-01-11T12:13:10.727110Z",
     "iopub.status.busy": "2022-01-11T12:13:10.726504Z",
     "iopub.status.idle": "2022-01-11T12:13:10.728901Z",
     "shell.execute_reply": "2022-01-11T12:13:10.729429Z"
    },
    "papermill": {
     "duration": 0.039063,
     "end_time": "2022-01-11T12:13:10.729577",
     "exception": false,
     "start_time": "2022-01-11T12:13:10.690514",
     "status": "completed"
    },
    "tags": []
   },
   "outputs": [],
   "source": [
    "#hide\n",
    "def get_frame(name):\n",
    "    url = (\n",
    "        'https://raw.githubusercontent.com/CSSEGISandData/COVID-19/master/csse_covid_19_data/'\n",
    "        f'csse_covid_19_time_series/time_series_covid19_{name}_global.csv')\n",
    "    df = pd.read_csv(url)\n",
    "    # rename countries\n",
    "    df['Country/Region'] = df['Country/Region'].replace(mapping['replace.country'])\n",
    "    return df"
   ]
  },
  {
   "cell_type": "code",
   "execution_count": 8,
   "id": "affiliated-characterization",
   "metadata": {
    "execution": {
     "iopub.execute_input": "2022-01-11T12:13:10.801788Z",
     "iopub.status.busy": "2022-01-11T12:13:10.801210Z",
     "iopub.status.idle": "2022-01-11T12:13:10.803008Z",
     "shell.execute_reply": "2022-01-11T12:13:10.803457Z"
    },
    "papermill": {
     "duration": 0.043092,
     "end_time": "2022-01-11T12:13:10.803602",
     "exception": false,
     "start_time": "2022-01-11T12:13:10.760510",
     "status": "completed"
    },
    "tags": []
   },
   "outputs": [],
   "source": [
    "#hide\n",
    "def get_dates(df):\n",
    "    dt_cols = df.columns[~df.columns.isin(['Province/State', 'Country/Region', 'Lat', 'Long'])]\n",
    "    LAST_DATE_I = -1\n",
    "    # sometimes last column may be empty, then go backwards\n",
    "    for i in range(-1, -len(dt_cols), -1):\n",
    "        if not df[dt_cols[i]].fillna(0).eq(0).all():\n",
    "            LAST_DATE_I = i\n",
    "            break\n",
    "    return LAST_DATE_I, dt_cols"
   ]
  },
  {
   "cell_type": "code",
   "execution_count": 9,
   "id": "recent-optimization",
   "metadata": {
    "execution": {
     "iopub.execute_input": "2022-01-11T12:13:10.874171Z",
     "iopub.status.busy": "2022-01-11T12:13:10.873539Z",
     "iopub.status.idle": "2022-01-11T12:13:11.215022Z",
     "shell.execute_reply": "2022-01-11T12:13:11.214085Z"
    },
    "papermill": {
     "duration": 0.37893,
     "end_time": "2022-01-11T12:13:11.215272",
     "exception": false,
     "start_time": "2022-01-11T12:13:10.836342",
     "status": "completed"
    },
    "tags": []
   },
   "outputs": [],
   "source": [
    "#hide\n",
    "COL_REGION = 'Country/Region'\n",
    "# Confirmed, Recovered, Deaths\n",
    "df = get_frame('confirmed')\n",
    "# dft_: timeseries, dfc_: today country agg\n",
    "dft_cases = df\n",
    "dft_deaths = get_frame('deaths')\n",
    "dft_recovered = get_frame('recovered')\n",
    "LAST_DATE_I, dt_cols = get_dates(df)"
   ]
  },
  {
   "cell_type": "code",
   "execution_count": 10,
   "id": "absolute-copper",
   "metadata": {
    "execution": {
     "iopub.execute_input": "2022-01-11T12:13:11.287604Z",
     "iopub.status.busy": "2022-01-11T12:13:11.286634Z",
     "iopub.status.idle": "2022-01-11T12:13:11.290307Z",
     "shell.execute_reply": "2022-01-11T12:13:11.289733Z"
    },
    "papermill": {
     "duration": 0.042684,
     "end_time": "2022-01-11T12:13:11.290430",
     "exception": false,
     "start_time": "2022-01-11T12:13:11.247746",
     "status": "completed"
    },
    "tags": []
   },
   "outputs": [],
   "source": [
    "#hide\n",
    "LAST_DATE_I, dt_cols = get_dates(df)\n",
    "dt_today =dt_cols[LAST_DATE_I]\n",
    "# dt_5day = dt_cols[LAST_DATE_I - 5]\n",
    "dt_yday = dt_cols[LAST_DATE_I - 1]"
   ]
  },
  {
   "cell_type": "code",
   "execution_count": 11,
   "id": "restricted-sheriff",
   "metadata": {
    "execution": {
     "iopub.execute_input": "2022-01-11T12:13:11.361669Z",
     "iopub.status.busy": "2022-01-11T12:13:11.361119Z",
     "iopub.status.idle": "2022-01-11T12:13:11.368662Z",
     "shell.execute_reply": "2022-01-11T12:13:11.368173Z"
    },
    "papermill": {
     "duration": 0.046005,
     "end_time": "2022-01-11T12:13:11.368774",
     "exception": false,
     "start_time": "2022-01-11T12:13:11.322769",
     "status": "completed"
    },
    "tags": []
   },
   "outputs": [],
   "source": [
    "#hide\n",
    "dfc_cases = dft_cases.groupby(COL_REGION)[dt_today].sum()\n",
    "dfc_deaths = dft_deaths.groupby(COL_REGION)[dt_today].sum()\n",
    "# dfp_cases = dft_cases.groupby(COL_REGION)[dt_5day].sum()\n",
    "# dfp_deaths = dft_deaths.groupby(COL_REGION)[dt_5day].sum()\n",
    "dfp_cases = dft_cases.groupby(COL_REGION)[dt_yday].sum()\n",
    "dfp_deaths = dft_deaths.groupby(COL_REGION)[dt_yday].sum()"
   ]
  },
  {
   "cell_type": "code",
   "execution_count": 12,
   "id": "deluxe-hepatitis",
   "metadata": {
    "execution": {
     "iopub.execute_input": "2022-01-11T12:13:11.440196Z",
     "iopub.status.busy": "2022-01-11T12:13:11.439597Z",
     "iopub.status.idle": "2022-01-11T12:13:11.444272Z",
     "shell.execute_reply": "2022-01-11T12:13:11.444775Z"
    },
    "papermill": {
     "duration": 0.043504,
     "end_time": "2022-01-11T12:13:11.444892",
     "exception": false,
     "start_time": "2022-01-11T12:13:11.401388",
     "status": "completed"
    },
    "tags": []
   },
   "outputs": [],
   "source": [
    "#hide\n",
    "df_table = (pd.DataFrame(dict(Cases = dfc_cases, Deaths = dfc_deaths, PCases = dfp_cases, PDeaths = dfp_deaths))\n",
    "            .sort_values(by = ['Cases','Deaths'], ascending = [False, False])\n",
    "            .reset_index())"
   ]
  },
  {
   "cell_type": "code",
   "execution_count": 13,
   "id": "educational-chancellor",
   "metadata": {
    "execution": {
     "iopub.execute_input": "2022-01-11T12:13:11.527629Z",
     "iopub.status.busy": "2022-01-11T12:13:11.522858Z",
     "iopub.status.idle": "2022-01-11T12:13:11.535705Z",
     "shell.execute_reply": "2022-01-11T12:13:11.535141Z"
    },
    "papermill": {
     "duration": 0.060451,
     "end_time": "2022-01-11T12:13:11.535830",
     "exception": false,
     "start_time": "2022-01-11T12:13:11.475379",
     "status": "completed"
    },
    "tags": []
   },
   "outputs": [
    {
     "data": {
      "text/html": [
       "<div>\n",
       "<style scoped>\n",
       "    .dataframe tbody tr th:only-of-type {\n",
       "        vertical-align: middle;\n",
       "    }\n",
       "\n",
       "    .dataframe tbody tr th {\n",
       "        vertical-align: top;\n",
       "    }\n",
       "\n",
       "    .dataframe thead th {\n",
       "        text-align: right;\n",
       "    }\n",
       "</style>\n",
       "<table border=\"1\" class=\"dataframe\">\n",
       "  <thead>\n",
       "    <tr style=\"text-align: right;\">\n",
       "      <th></th>\n",
       "      <th>Country/Region</th>\n",
       "      <th>Cases</th>\n",
       "      <th>Deaths</th>\n",
       "      <th>PCases</th>\n",
       "      <th>PDeaths</th>\n",
       "      <th>Cases (+)</th>\n",
       "      <th>Deaths (+)</th>\n",
       "      <th>Fatality Rate</th>\n",
       "      <th>Continent</th>\n",
       "    </tr>\n",
       "  </thead>\n",
       "  <tbody>\n",
       "    <tr>\n",
       "      <th>0</th>\n",
       "      <td>US</td>\n",
       "      <td>61558085</td>\n",
       "      <td>839500</td>\n",
       "      <td>60074429</td>\n",
       "      <td>837594</td>\n",
       "      <td>1483656</td>\n",
       "      <td>1906</td>\n",
       "      <td>1.36</td>\n",
       "      <td>North America</td>\n",
       "    </tr>\n",
       "    <tr>\n",
       "      <th>1</th>\n",
       "      <td>India</td>\n",
       "      <td>35875790</td>\n",
       "      <td>484213</td>\n",
       "      <td>35707727</td>\n",
       "      <td>483936</td>\n",
       "      <td>168063</td>\n",
       "      <td>277</td>\n",
       "      <td>1.35</td>\n",
       "      <td>Asia</td>\n",
       "    </tr>\n",
       "    <tr>\n",
       "      <th>2</th>\n",
       "      <td>Brazil</td>\n",
       "      <td>22563104</td>\n",
       "      <td>620366</td>\n",
       "      <td>22529183</td>\n",
       "      <td>620251</td>\n",
       "      <td>33921</td>\n",
       "      <td>115</td>\n",
       "      <td>2.75</td>\n",
       "      <td>South America</td>\n",
       "    </tr>\n",
       "    <tr>\n",
       "      <th>3</th>\n",
       "      <td>United Kingdom</td>\n",
       "      <td>14708999</td>\n",
       "      <td>150712</td>\n",
       "      <td>14563769</td>\n",
       "      <td>150634</td>\n",
       "      <td>145230</td>\n",
       "      <td>78</td>\n",
       "      <td>1.02</td>\n",
       "      <td>Europe</td>\n",
       "    </tr>\n",
       "    <tr>\n",
       "      <th>4</th>\n",
       "      <td>France</td>\n",
       "      <td>12311963</td>\n",
       "      <td>126707</td>\n",
       "      <td>12218022</td>\n",
       "      <td>126427</td>\n",
       "      <td>93941</td>\n",
       "      <td>280</td>\n",
       "      <td>1.03</td>\n",
       "      <td>Europe</td>\n",
       "    </tr>\n",
       "  </tbody>\n",
       "</table>\n",
       "</div>"
      ],
      "text/plain": [
       "   Country/Region     Cases  Deaths    PCases  PDeaths  Cases (+)  Deaths (+)  \\\n",
       "0              US  61558085  839500  60074429   837594    1483656        1906   \n",
       "1           India  35875790  484213  35707727   483936     168063         277   \n",
       "2          Brazil  22563104  620366  22529183   620251      33921         115   \n",
       "3  United Kingdom  14708999  150712  14563769   150634     145230          78   \n",
       "4          France  12311963  126707  12218022   126427      93941         280   \n",
       "\n",
       "   Fatality Rate      Continent  \n",
       "0           1.36  North America  \n",
       "1           1.35           Asia  \n",
       "2           2.75  South America  \n",
       "3           1.02         Europe  \n",
       "4           1.03         Europe  "
      ]
     },
     "execution_count": 13,
     "metadata": {},
     "output_type": "execute_result"
    }
   ],
   "source": [
    "#hide\n",
    "for c in 'Cases, Deaths'.split(', '):\n",
    "    df_table[f'{c} (+)'] = (df_table[c] - df_table[f'P{c}']).clip(0)\n",
    "    #Clip ça veut dire, les chiffres negatif sont interdit\n",
    "df_table['Fatality Rate'] = (100* df_table['Deaths']/ df_table['Cases']).round(2)\n",
    "df_table['Continent'] = df_table['Country/Region'].map(mapping['map.continent'])\n",
    "df_table.head(5)"
   ]
  },
  {
   "cell_type": "code",
   "execution_count": 14,
   "id": "aboriginal-bulgaria",
   "metadata": {
    "execution": {
     "iopub.execute_input": "2022-01-11T12:13:11.605694Z",
     "iopub.status.busy": "2022-01-11T12:13:11.605108Z",
     "iopub.status.idle": "2022-01-11T12:13:11.607704Z",
     "shell.execute_reply": "2022-01-11T12:13:11.607246Z"
    },
    "papermill": {
     "duration": 0.039925,
     "end_time": "2022-01-11T12:13:11.607820",
     "exception": false,
     "start_time": "2022-01-11T12:13:11.567895",
     "status": "completed"
    },
    "tags": []
   },
   "outputs": [],
   "source": [
    "#hide\n",
    "#delete problematic countries from table\n",
    "df_table = df_table[~df_table['Country/Region'].isin(['Cape Verde', 'Cruise Ship', 'Kosovo'])]"
   ]
  },
  {
   "cell_type": "code",
   "execution_count": 15,
   "id": "fantastic-effect",
   "metadata": {
    "execution": {
     "iopub.execute_input": "2022-01-11T12:13:11.678505Z",
     "iopub.status.busy": "2022-01-11T12:13:11.677917Z",
     "iopub.status.idle": "2022-01-11T12:13:11.696450Z",
     "shell.execute_reply": "2022-01-11T12:13:11.695912Z"
    },
    "papermill": {
     "duration": 0.058027,
     "end_time": "2022-01-11T12:13:11.696577",
     "exception": false,
     "start_time": "2022-01-11T12:13:11.638550",
     "status": "completed"
    },
    "tags": []
   },
   "outputs": [
    {
     "data": {
      "text/html": [
       "<div>\n",
       "<style scoped>\n",
       "    .dataframe tbody tr th:only-of-type {\n",
       "        vertical-align: middle;\n",
       "    }\n",
       "\n",
       "    .dataframe tbody tr th {\n",
       "        vertical-align: top;\n",
       "    }\n",
       "\n",
       "    .dataframe thead th {\n",
       "        text-align: right;\n",
       "    }\n",
       "</style>\n",
       "<table border=\"1\" class=\"dataframe\">\n",
       "  <thead>\n",
       "    <tr style=\"text-align: right;\">\n",
       "      <th></th>\n",
       "      <th>Country/Region</th>\n",
       "      <th>Cases</th>\n",
       "      <th>Deaths</th>\n",
       "      <th>PCases</th>\n",
       "      <th>PDeaths</th>\n",
       "      <th>Cases (+)</th>\n",
       "      <th>Deaths (+)</th>\n",
       "      <th>Fatality Rate</th>\n",
       "      <th>Continent</th>\n",
       "    </tr>\n",
       "  </thead>\n",
       "  <tbody>\n",
       "    <tr>\n",
       "      <th>0</th>\n",
       "      <td>US</td>\n",
       "      <td>61558085</td>\n",
       "      <td>839500</td>\n",
       "      <td>60074429</td>\n",
       "      <td>837594</td>\n",
       "      <td>1483656</td>\n",
       "      <td>1906</td>\n",
       "      <td>1.4</td>\n",
       "      <td>North America</td>\n",
       "    </tr>\n",
       "    <tr>\n",
       "      <th>1</th>\n",
       "      <td>India</td>\n",
       "      <td>35875790</td>\n",
       "      <td>484213</td>\n",
       "      <td>35707727</td>\n",
       "      <td>483936</td>\n",
       "      <td>168063</td>\n",
       "      <td>277</td>\n",
       "      <td>1.3</td>\n",
       "      <td>Asia</td>\n",
       "    </tr>\n",
       "    <tr>\n",
       "      <th>2</th>\n",
       "      <td>Brazil</td>\n",
       "      <td>22563104</td>\n",
       "      <td>620366</td>\n",
       "      <td>22529183</td>\n",
       "      <td>620251</td>\n",
       "      <td>33921</td>\n",
       "      <td>115</td>\n",
       "      <td>2.7</td>\n",
       "      <td>South America</td>\n",
       "    </tr>\n",
       "    <tr>\n",
       "      <th>3</th>\n",
       "      <td>United Kingdom</td>\n",
       "      <td>14708999</td>\n",
       "      <td>150712</td>\n",
       "      <td>14563769</td>\n",
       "      <td>150634</td>\n",
       "      <td>145230</td>\n",
       "      <td>78</td>\n",
       "      <td>1.0</td>\n",
       "      <td>Europe</td>\n",
       "    </tr>\n",
       "    <tr>\n",
       "      <th>4</th>\n",
       "      <td>France</td>\n",
       "      <td>12311963</td>\n",
       "      <td>126707</td>\n",
       "      <td>12218022</td>\n",
       "      <td>126427</td>\n",
       "      <td>93941</td>\n",
       "      <td>280</td>\n",
       "      <td>1.0</td>\n",
       "      <td>Europe</td>\n",
       "    </tr>\n",
       "  </tbody>\n",
       "</table>\n",
       "</div>"
      ],
      "text/plain": [
       "   Country/Region     Cases  Deaths    PCases  PDeaths  Cases (+)  Deaths (+)  \\\n",
       "0              US  61558085  839500  60074429   837594    1483656        1906   \n",
       "1           India  35875790  484213  35707727   483936     168063         277   \n",
       "2          Brazil  22563104  620366  22529183   620251      33921         115   \n",
       "3  United Kingdom  14708999  150712  14563769   150634     145230          78   \n",
       "4          France  12311963  126707  12218022   126427      93941         280   \n",
       "\n",
       "   Fatality Rate      Continent  \n",
       "0            1.4  North America  \n",
       "1            1.3           Asia  \n",
       "2            2.7  South America  \n",
       "3            1.0         Europe  \n",
       "4            1.0         Europe  "
      ]
     },
     "execution_count": 15,
     "metadata": {},
     "output_type": "execute_result"
    }
   ],
   "source": [
    "#hide\n",
    "df_table = (pd.DataFrame(dict(Cases=dfc_cases, Deaths=dfc_deaths, PCases=dfp_cases, PDeaths=dfp_deaths))\n",
    "             .sort_values(by=['Cases', 'Deaths'], ascending=[False, False])\n",
    "             .reset_index())\n",
    "df_table.rename(columns={'index': 'Country/Region'}, inplace=True)\n",
    "for c in 'Cases, Deaths'.split(', '):\n",
    "    df_table[f'{c} (+)'] = (df_table[c] - df_table[f'P{c}']).clip(0)  # DATA BUG\n",
    "df_table['Fatality Rate'] = (100 * df_table['Deaths'] / df_table['Cases']).round(1)\n",
    "df_table['Continent'] = df_table['Country/Region'].map(mapping['map.continent'])\n",
    "df_table.head(5)"
   ]
  },
  {
   "cell_type": "code",
   "execution_count": 16,
   "id": "fewer-occasion",
   "metadata": {
    "execution": {
     "iopub.execute_input": "2022-01-11T12:13:11.768915Z",
     "iopub.status.busy": "2022-01-11T12:13:11.768349Z",
     "iopub.status.idle": "2022-01-11T12:13:11.770530Z",
     "shell.execute_reply": "2022-01-11T12:13:11.771023Z"
    },
    "papermill": {
     "duration": 0.040178,
     "end_time": "2022-01-11T12:13:11.771148",
     "exception": false,
     "start_time": "2022-01-11T12:13:11.730970",
     "status": "completed"
    },
    "tags": []
   },
   "outputs": [],
   "source": [
    "#hide\n",
    "#delete problematic countries from table\n",
    "df_table = df_table[~df_table['Country/Region'].isin(['Cape Verde', 'Cruise Ship', 'Kosovo'])]"
   ]
  },
  {
   "cell_type": "code",
   "execution_count": 17,
   "id": "related-center",
   "metadata": {
    "execution": {
     "iopub.execute_input": "2022-01-11T12:13:11.851987Z",
     "iopub.status.busy": "2022-01-11T12:13:11.851405Z",
     "iopub.status.idle": "2022-01-11T12:13:11.861531Z",
     "shell.execute_reply": "2022-01-11T12:13:11.861073Z"
    },
    "papermill": {
     "duration": 0.057791,
     "end_time": "2022-01-11T12:13:11.861647",
     "exception": false,
     "start_time": "2022-01-11T12:13:11.803856",
     "status": "completed"
    },
    "tags": []
   },
   "outputs": [],
   "source": [
    "#hide\n",
    "metrics = [df_table.columns[index] for index in [1,2,5,6]]\n",
    "# s_china = df_table[df_table['Country/Region'].eq('China')][metrics].sum().add_prefix('China ')\n",
    "s_us = df_table[df_table['Country/Region'].eq('US')][metrics].sum().add_prefix('US ')\n",
    "s_eu = df_table[df_table['Continent'].eq('Europe')][metrics].sum().add_prefix('EU ')\n",
    "s_ind = df_table[df_table['Country/Region'].eq('India')][metrics].sum().add_prefix('India ')\n",
    "summary = {'updated': pd.to_datetime(dt_today), 'since': pd.to_datetime(dt_yday)}\n",
    "summary = {'updated': pd.to_datetime(dt_today), 'since': pd.to_datetime(dt_yday)}\n",
    "summary = {**summary, **df_table[metrics].sum(), **s_ind, **s_us, **s_eu}"
   ]
  },
  {
   "cell_type": "code",
   "execution_count": 18,
   "id": "engaging-syndrome",
   "metadata": {
    "execution": {
     "iopub.execute_input": "2022-01-11T12:13:11.934038Z",
     "iopub.status.busy": "2022-01-11T12:13:11.930440Z",
     "iopub.status.idle": "2022-01-11T12:13:11.947527Z",
     "shell.execute_reply": "2022-01-11T12:13:11.946523Z"
    },
    "papermill": {
     "duration": 0.054874,
     "end_time": "2022-01-11T12:13:11.947648",
     "exception": false,
     "start_time": "2022-01-11T12:13:11.892774",
     "status": "completed"
    },
    "tags": []
   },
   "outputs": [],
   "source": [
    "#hide\n",
    "dft_ct_new_cases = dft_cases.groupby(COL_REGION)[dt_cols].sum().diff(axis=1).fillna(0).astype(int)"
   ]
  },
  {
   "cell_type": "code",
   "execution_count": 19,
   "id": "neutral-assignment",
   "metadata": {
    "execution": {
     "iopub.execute_input": "2022-01-11T12:13:12.019073Z",
     "iopub.status.busy": "2022-01-11T12:13:12.016138Z",
     "iopub.status.idle": "2022-01-11T12:13:12.021850Z",
     "shell.execute_reply": "2022-01-11T12:13:12.021390Z"
    },
    "papermill": {
     "duration": 0.042549,
     "end_time": "2022-01-11T12:13:12.021972",
     "exception": false,
     "start_time": "2022-01-11T12:13:11.979423",
     "status": "completed"
    },
    "tags": []
   },
   "outputs": [],
   "source": [
    "#hide\n",
    "everydaycases = dft_ct_new_cases.cumsum(axis=1)"
   ]
  },
  {
   "cell_type": "code",
   "execution_count": 20,
   "id": "parliamentary-calgary",
   "metadata": {
    "execution": {
     "iopub.execute_input": "2022-01-11T12:13:12.091961Z",
     "iopub.status.busy": "2022-01-11T12:13:12.091385Z",
     "iopub.status.idle": "2022-01-11T12:13:12.749285Z",
     "shell.execute_reply": "2022-01-11T12:13:12.748378Z"
    },
    "papermill": {
     "duration": 0.695146,
     "end_time": "2022-01-11T12:13:12.749510",
     "exception": false,
     "start_time": "2022-01-11T12:13:12.054364",
     "status": "completed"
    },
    "tags": []
   },
   "outputs": [],
   "source": [
    "#hide\n",
    "import pandas as pd\n",
    "import matplotlib.pyplot as plt\n",
    "import matplotlib.ticker as ticker\n",
    "import matplotlib.animation as animation\n",
    "from IPython.display import HTML"
   ]
  },
  {
   "cell_type": "code",
   "execution_count": 21,
   "id": "lasting-extraction",
   "metadata": {
    "execution": {
     "iopub.execute_input": "2022-01-11T12:13:12.824069Z",
     "iopub.status.busy": "2022-01-11T12:13:12.823498Z",
     "iopub.status.idle": "2022-01-11T12:13:12.829886Z",
     "shell.execute_reply": "2022-01-11T12:13:12.829418Z"
    },
    "papermill": {
     "duration": 0.046729,
     "end_time": "2022-01-11T12:13:12.830007",
     "exception": false,
     "start_time": "2022-01-11T12:13:12.783278",
     "status": "completed"
    },
    "tags": []
   },
   "outputs": [],
   "source": [
    "#hide\n",
    "t = everydaycases.stack()"
   ]
  },
  {
   "cell_type": "code",
   "execution_count": 22,
   "id": "premier-sleeve",
   "metadata": {
    "execution": {
     "iopub.execute_input": "2022-01-11T12:13:12.899044Z",
     "iopub.status.busy": "2022-01-11T12:13:12.898457Z",
     "iopub.status.idle": "2022-01-11T12:13:12.911042Z",
     "shell.execute_reply": "2022-01-11T12:13:12.910567Z"
    },
    "papermill": {
     "duration": 0.049471,
     "end_time": "2022-01-11T12:13:12.911158",
     "exception": false,
     "start_time": "2022-01-11T12:13:12.861687",
     "status": "completed"
    },
    "tags": []
   },
   "outputs": [],
   "source": [
    "#hide\n",
    "g = t.reset_index(['Country/Region'])"
   ]
  },
  {
   "cell_type": "code",
   "execution_count": 23,
   "id": "distributed-pittsburgh",
   "metadata": {
    "execution": {
     "iopub.execute_input": "2022-01-11T12:13:12.981160Z",
     "iopub.status.busy": "2022-01-11T12:13:12.980561Z",
     "iopub.status.idle": "2022-01-11T12:13:12.983048Z",
     "shell.execute_reply": "2022-01-11T12:13:12.983518Z"
    },
    "papermill": {
     "duration": 0.039273,
     "end_time": "2022-01-11T12:13:12.983653",
     "exception": false,
     "start_time": "2022-01-11T12:13:12.944380",
     "status": "completed"
    },
    "tags": []
   },
   "outputs": [],
   "source": [
    "#hide\n",
    "g.index.name = 'date'"
   ]
  },
  {
   "cell_type": "code",
   "execution_count": 24,
   "id": "naked-donor",
   "metadata": {
    "execution": {
     "iopub.execute_input": "2022-01-11T12:13:13.052498Z",
     "iopub.status.busy": "2022-01-11T12:13:13.051899Z",
     "iopub.status.idle": "2022-01-11T12:13:13.054363Z",
     "shell.execute_reply": "2022-01-11T12:13:13.054852Z"
    },
    "papermill": {
     "duration": 0.038808,
     "end_time": "2022-01-11T12:13:13.054991",
     "exception": false,
     "start_time": "2022-01-11T12:13:13.016183",
     "status": "completed"
    },
    "tags": []
   },
   "outputs": [],
   "source": [
    "# #hide\n",
    "# g = g.reset_index(['date'])"
   ]
  },
  {
   "cell_type": "code",
   "execution_count": 25,
   "id": "incomplete-mustang",
   "metadata": {
    "execution": {
     "iopub.execute_input": "2022-01-11T12:13:13.125532Z",
     "iopub.status.busy": "2022-01-11T12:13:13.124701Z",
     "iopub.status.idle": "2022-01-11T12:13:13.128896Z",
     "shell.execute_reply": "2022-01-11T12:13:13.128449Z"
    },
    "papermill": {
     "duration": 0.041803,
     "end_time": "2022-01-11T12:13:13.129013",
     "exception": false,
     "start_time": "2022-01-11T12:13:13.087210",
     "status": "completed"
    },
    "tags": []
   },
   "outputs": [],
   "source": [
    "#hide\n",
    "# g.head()"
   ]
  },
  {
   "cell_type": "code",
   "execution_count": 26,
   "id": "specific-kruger",
   "metadata": {
    "execution": {
     "iopub.execute_input": "2022-01-11T12:13:13.197088Z",
     "iopub.status.busy": "2022-01-11T12:13:13.196537Z",
     "iopub.status.idle": "2022-01-11T12:13:13.199172Z",
     "shell.execute_reply": "2022-01-11T12:13:13.199647Z"
    },
    "papermill": {
     "duration": 0.038377,
     "end_time": "2022-01-11T12:13:13.199777",
     "exception": false,
     "start_time": "2022-01-11T12:13:13.161400",
     "status": "completed"
    },
    "tags": []
   },
   "outputs": [],
   "source": [
    "#hide\n",
    "# g.columns = ['date','country','cases']"
   ]
  },
  {
   "cell_type": "code",
   "execution_count": 27,
   "id": "tender-conversion",
   "metadata": {
    "execution": {
     "iopub.execute_input": "2022-01-11T12:13:13.267569Z",
     "iopub.status.busy": "2022-01-11T12:13:13.266975Z",
     "iopub.status.idle": "2022-01-11T12:13:13.269351Z",
     "shell.execute_reply": "2022-01-11T12:13:13.269871Z"
    },
    "papermill": {
     "duration": 0.038364,
     "end_time": "2022-01-11T12:13:13.269988",
     "exception": false,
     "start_time": "2022-01-11T12:13:13.231624",
     "status": "completed"
    },
    "tags": []
   },
   "outputs": [],
   "source": [
    "#hide\n",
    "# g['continent'] = g.country"
   ]
  },
  {
   "cell_type": "code",
   "execution_count": 28,
   "id": "substantial-wilderness",
   "metadata": {
    "execution": {
     "iopub.execute_input": "2022-01-11T12:13:13.339392Z",
     "iopub.status.busy": "2022-01-11T12:13:13.338788Z",
     "iopub.status.idle": "2022-01-11T12:13:13.342424Z",
     "shell.execute_reply": "2022-01-11T12:13:13.341978Z"
    },
    "papermill": {
     "duration": 0.03996,
     "end_time": "2022-01-11T12:13:13.342540",
     "exception": false,
     "start_time": "2022-01-11T12:13:13.302580",
     "status": "completed"
    },
    "tags": []
   },
   "outputs": [],
   "source": [
    "#hide\n",
    "# cols = list(g.columns.values)"
   ]
  },
  {
   "cell_type": "code",
   "execution_count": 29,
   "id": "solved-farming",
   "metadata": {
    "execution": {
     "iopub.execute_input": "2022-01-11T12:13:13.412787Z",
     "iopub.status.busy": "2022-01-11T12:13:13.412121Z",
     "iopub.status.idle": "2022-01-11T12:13:13.416763Z",
     "shell.execute_reply": "2022-01-11T12:13:13.417291Z"
    },
    "papermill": {
     "duration": 0.041354,
     "end_time": "2022-01-11T12:13:13.417429",
     "exception": false,
     "start_time": "2022-01-11T12:13:13.376075",
     "status": "completed"
    },
    "tags": []
   },
   "outputs": [],
   "source": [
    "#hide\n",
    "# cols.insert(0, cols.pop())"
   ]
  },
  {
   "cell_type": "code",
   "execution_count": 30,
   "id": "executed-adoption",
   "metadata": {
    "execution": {
     "iopub.execute_input": "2022-01-11T12:13:13.487070Z",
     "iopub.status.busy": "2022-01-11T12:13:13.486450Z",
     "iopub.status.idle": "2022-01-11T12:13:13.490911Z",
     "shell.execute_reply": "2022-01-11T12:13:13.491401Z"
    },
    "papermill": {
     "duration": 0.041802,
     "end_time": "2022-01-11T12:13:13.491550",
     "exception": false,
     "start_time": "2022-01-11T12:13:13.449748",
     "status": "completed"
    },
    "tags": []
   },
   "outputs": [],
   "source": [
    "#hide\n",
    "# g = g[cols]"
   ]
  },
  {
   "cell_type": "code",
   "execution_count": 31,
   "id": "subject-dublin",
   "metadata": {
    "execution": {
     "iopub.execute_input": "2022-01-11T12:13:13.571507Z",
     "iopub.status.busy": "2022-01-11T12:13:13.570390Z",
     "iopub.status.idle": "2022-01-11T12:13:13.572308Z",
     "shell.execute_reply": "2022-01-11T12:13:13.572759Z"
    },
    "papermill": {
     "duration": 0.039616,
     "end_time": "2022-01-11T12:13:13.572894",
     "exception": false,
     "start_time": "2022-01-11T12:13:13.533278",
     "status": "completed"
    },
    "tags": []
   },
   "outputs": [],
   "source": [
    "#hide\n",
    "# g['continent'] = g['continent'].map(mapping['map.continent'])"
   ]
  },
  {
   "cell_type": "code",
   "execution_count": 32,
   "id": "freelance-scout",
   "metadata": {
    "execution": {
     "iopub.execute_input": "2022-01-11T12:13:13.642000Z",
     "iopub.status.busy": "2022-01-11T12:13:13.641403Z",
     "iopub.status.idle": "2022-01-11T12:13:13.644427Z",
     "shell.execute_reply": "2022-01-11T12:13:13.643940Z"
    },
    "papermill": {
     "duration": 0.039104,
     "end_time": "2022-01-11T12:13:13.644544",
     "exception": false,
     "start_time": "2022-01-11T12:13:13.605440",
     "status": "completed"
    },
    "tags": []
   },
   "outputs": [],
   "source": [
    "#hide\n",
    "# g.head()"
   ]
  },
  {
   "cell_type": "code",
   "execution_count": 33,
   "id": "limited-engine",
   "metadata": {
    "execution": {
     "iopub.execute_input": "2022-01-11T12:13:13.713857Z",
     "iopub.status.busy": "2022-01-11T12:13:13.712941Z",
     "iopub.status.idle": "2022-01-11T12:13:13.716788Z",
     "shell.execute_reply": "2022-01-11T12:13:13.717266Z"
    },
    "papermill": {
     "duration": 0.041354,
     "end_time": "2022-01-11T12:13:13.717394",
     "exception": false,
     "start_time": "2022-01-11T12:13:13.676040",
     "status": "completed"
    },
    "tags": []
   },
   "outputs": [],
   "source": [
    "# hide\n",
    "# g['date'] = g['date'].astype('datetime64[ns]')"
   ]
  },
  {
   "cell_type": "code",
   "execution_count": 34,
   "id": "sophisticated-supervisor",
   "metadata": {
    "execution": {
     "iopub.execute_input": "2022-01-11T12:13:13.785454Z",
     "iopub.status.busy": "2022-01-11T12:13:13.784879Z",
     "iopub.status.idle": "2022-01-11T12:13:13.786037Z",
     "shell.execute_reply": "2022-01-11T12:13:13.786466Z"
    },
    "papermill": {
     "duration": 0.03729,
     "end_time": "2022-01-11T12:13:13.786591",
     "exception": false,
     "start_time": "2022-01-11T12:13:13.749301",
     "status": "completed"
    },
    "tags": []
   },
   "outputs": [],
   "source": [
    "#hide\n",
    "# g['date'] = g.date.dt.dayofyear"
   ]
  },
  {
   "cell_type": "code",
   "execution_count": 35,
   "id": "inside-dubai",
   "metadata": {
    "execution": {
     "iopub.execute_input": "2022-01-11T12:13:13.856660Z",
     "iopub.status.busy": "2022-01-11T12:13:13.856063Z",
     "iopub.status.idle": "2022-01-11T12:13:13.858852Z",
     "shell.execute_reply": "2022-01-11T12:13:13.858347Z"
    },
    "papermill": {
     "duration": 0.039004,
     "end_time": "2022-01-11T12:13:13.858973",
     "exception": false,
     "start_time": "2022-01-11T12:13:13.819969",
     "status": "completed"
    },
    "tags": []
   },
   "outputs": [],
   "source": [
    "#hide\n",
    "# g = g.rename(columns= {'continent':'group','country':'name','cases':'value'})"
   ]
  },
  {
   "cell_type": "code",
   "execution_count": 36,
   "id": "fleet-motorcycle",
   "metadata": {
    "execution": {
     "iopub.execute_input": "2022-01-11T12:13:13.932359Z",
     "iopub.status.busy": "2022-01-11T12:13:13.931302Z",
     "iopub.status.idle": "2022-01-11T12:13:13.935093Z",
     "shell.execute_reply": "2022-01-11T12:13:13.934220Z"
    },
    "papermill": {
     "duration": 0.042178,
     "end_time": "2022-01-11T12:13:13.935345",
     "exception": false,
     "start_time": "2022-01-11T12:13:13.893167",
     "status": "completed"
    },
    "tags": []
   },
   "outputs": [],
   "source": [
    "#hide\n",
    "# cols = ['name','group','day','value']"
   ]
  },
  {
   "cell_type": "code",
   "execution_count": 37,
   "id": "continued-sleeping",
   "metadata": {
    "execution": {
     "iopub.execute_input": "2022-01-11T12:13:14.007504Z",
     "iopub.status.busy": "2022-01-11T12:13:14.006420Z",
     "iopub.status.idle": "2022-01-11T12:13:14.010366Z",
     "shell.execute_reply": "2022-01-11T12:13:14.009827Z"
    },
    "papermill": {
     "duration": 0.041044,
     "end_time": "2022-01-11T12:13:14.010487",
     "exception": false,
     "start_time": "2022-01-11T12:13:13.969443",
     "status": "completed"
    },
    "tags": []
   },
   "outputs": [],
   "source": [
    "#hide\n",
    "# g.rename(columns= {'date':'day'},inplace = True)"
   ]
  },
  {
   "cell_type": "code",
   "execution_count": 38,
   "id": "major-fight",
   "metadata": {
    "execution": {
     "iopub.execute_input": "2022-01-11T12:13:14.082867Z",
     "iopub.status.busy": "2022-01-11T12:13:14.082252Z",
     "iopub.status.idle": "2022-01-11T12:13:14.084031Z",
     "shell.execute_reply": "2022-01-11T12:13:14.084452Z"
    },
    "papermill": {
     "duration": 0.040034,
     "end_time": "2022-01-11T12:13:14.084596",
     "exception": false,
     "start_time": "2022-01-11T12:13:14.044562",
     "status": "completed"
    },
    "tags": []
   },
   "outputs": [],
   "source": [
    "#hide\n",
    "# g = g[cols]"
   ]
  },
  {
   "cell_type": "code",
   "execution_count": 39,
   "id": "structured-mobile",
   "metadata": {
    "execution": {
     "iopub.execute_input": "2022-01-11T12:13:14.157725Z",
     "iopub.status.busy": "2022-01-11T12:13:14.157167Z",
     "iopub.status.idle": "2022-01-11T12:13:14.159636Z",
     "shell.execute_reply": "2022-01-11T12:13:14.160199Z"
    },
    "papermill": {
     "duration": 0.042116,
     "end_time": "2022-01-11T12:13:14.160345",
     "exception": false,
     "start_time": "2022-01-11T12:13:14.118229",
     "status": "completed"
    },
    "tags": []
   },
   "outputs": [],
   "source": [
    "# #hide\n",
    "# g = g[g.group.notna()]"
   ]
  },
  {
   "cell_type": "code",
   "execution_count": 40,
   "id": "determined-closing",
   "metadata": {
    "execution": {
     "iopub.execute_input": "2022-01-11T12:13:14.232458Z",
     "iopub.status.busy": "2022-01-11T12:13:14.231894Z",
     "iopub.status.idle": "2022-01-11T12:13:14.234369Z",
     "shell.execute_reply": "2022-01-11T12:13:14.234789Z"
    },
    "papermill": {
     "duration": 0.041077,
     "end_time": "2022-01-11T12:13:14.234929",
     "exception": false,
     "start_time": "2022-01-11T12:13:14.193852",
     "status": "completed"
    },
    "tags": []
   },
   "outputs": [],
   "source": [
    "# #hide\n",
    "# colors = dict(zip(\n",
    "#     [\"Oceania\", \"Europe\", \"Asia\", \"South America\", \"Middle East\", \"North America\", \"Africa\"],\n",
    "#     [\"#adb0ff\", \"#ffb3ff\", \"#90d595\", \"#e48381\", \"#aafbff\", \"#f7bb5f\", \"#eafb50\"]\n",
    "# ))\n",
    "# group_lk = g.set_index('name')['group'].to_dict()"
   ]
  },
  {
   "cell_type": "code",
   "execution_count": null,
   "id": "gross-drinking",
   "metadata": {
    "papermill": {
     "duration": 0.033364,
     "end_time": "2022-01-11T12:13:14.301569",
     "exception": false,
     "start_time": "2022-01-11T12:13:14.268205",
     "status": "completed"
    },
    "tags": []
   },
   "outputs": [],
   "source": []
  },
  {
   "cell_type": "code",
   "execution_count": 41,
   "id": "subject-macintosh",
   "metadata": {
    "execution": {
     "iopub.execute_input": "2022-01-11T12:13:14.374646Z",
     "iopub.status.busy": "2022-01-11T12:13:14.373710Z",
     "iopub.status.idle": "2022-01-11T12:13:14.377959Z",
     "shell.execute_reply": "2022-01-11T12:13:14.377468Z"
    },
    "papermill": {
     "duration": 0.043214,
     "end_time": "2022-01-11T12:13:14.378089",
     "exception": false,
     "start_time": "2022-01-11T12:13:14.334875",
     "status": "completed"
    },
    "tags": []
   },
   "outputs": [],
   "source": [
    "# #hide\n",
    "# fig, ax = plt.subplots(figsize=(15, 8))\n",
    "\n",
    "# def draw_barchart(current_day):\n",
    "#     dff = g[g['day'].eq(current_day)].sort_values(by='value', ascending=True).tail(10)\n",
    "#     ax.clear()\n",
    "#     ax.barh(dff['name'], dff['value'], color=[colors[group_lk[x]] for x in dff['name']])\n",
    "#     dx = dff['value'].max() / 200\n",
    "    \n",
    "#     for i, (value, name) in enumerate(zip(dff['value'], dff['name'])):\n",
    "#         ax.text(value-dx, i,     name,           size=14, weight=600, ha='right', va='bottom')\n",
    "#         ax.text(value-dx, i-.25, group_lk[name], size=10, color='#444444', ha='right', va='baseline')\n",
    "#         ax.text(value+dx, i,     f'{value:,.0f}',  size=14, ha='left',  va='center')\n",
    "#     ax.text(1, 0.4, current_day, transform=ax.transAxes, color='#777777', size=46, ha='right', weight=800)\n",
    "#     ax.text(0, 1.06, 'Population (thousands)', transform=ax.transAxes, size=12, color='#777777')\n",
    "#     ax.xaxis.set_major_formatter(ticker.StrMethodFormatter('{x:,.0f}'))\n",
    "#     ax.xaxis.set_ticks_position('top')\n",
    "#     ax.tick_params(axis='x', colors='#777777', labelsize=12)\n",
    "#     ax.set_yticks([])\n",
    "#     ax.margins(0, 0.01)\n",
    "#     ax.grid(which='major', axis='x', linestyle='-')\n",
    "#     ax.set_axisbelow(True)\n",
    "    \n",
    "#     ax.text(0, 1.15, 'Coronavirus',\n",
    "#             transform=ax.transAxes, size=24, weight=600, ha='left', va='top')\n",
    "# #     ax.text(1, 0, 'by @pratapvardhan; credit @jburnmurdoch', transform=ax.transAxes, color='#777777', ha='right',\n",
    "# #             bbox=dict(facecolor='white', alpha=0.8, edgecolor='white'))\n",
    "#     plt.box(False)"
   ]
  },
  {
   "cell_type": "code",
   "execution_count": 42,
   "id": "sexual-wages",
   "metadata": {
    "execution": {
     "iopub.execute_input": "2022-01-11T12:13:14.449157Z",
     "iopub.status.busy": "2022-01-11T12:13:14.448540Z",
     "iopub.status.idle": "2022-01-11T12:13:14.451088Z",
     "shell.execute_reply": "2022-01-11T12:13:14.451708Z"
    },
    "papermill": {
     "duration": 0.040008,
     "end_time": "2022-01-11T12:13:14.451854",
     "exception": false,
     "start_time": "2022-01-11T12:13:14.411846",
     "status": "completed"
    },
    "tags": []
   },
   "outputs": [],
   "source": [
    "# #hide_input\n",
    "# fig, ax = plt.subplots(figsize=(15, 8))\n",
    "# animator = animation.FuncAnimation(fig, draw_barchart, frames=range(g.day.values.min(), g.day.values.max()))\n",
    "# HTML(animator.to_jshtml())\n",
    "# # or use animator.to_html5_video() or animator.save() "
   ]
  },
  {
   "cell_type": "code",
   "execution_count": null,
   "id": "australian-container",
   "metadata": {
    "papermill": {
     "duration": 0.032042,
     "end_time": "2022-01-11T12:13:14.516532",
     "exception": false,
     "start_time": "2022-01-11T12:13:14.484490",
     "status": "completed"
    },
    "tags": []
   },
   "outputs": [],
   "source": []
  },
  {
   "cell_type": "code",
   "execution_count": null,
   "id": "mediterranean-pontiac",
   "metadata": {
    "papermill": {
     "duration": 0.032238,
     "end_time": "2022-01-11T12:13:14.581684",
     "exception": false,
     "start_time": "2022-01-11T12:13:14.549446",
     "status": "completed"
    },
    "tags": []
   },
   "outputs": [],
   "source": []
  },
  {
   "cell_type": "code",
   "execution_count": null,
   "id": "aging-legislature",
   "metadata": {
    "papermill": {
     "duration": 0.031497,
     "end_time": "2022-01-11T12:13:14.645578",
     "exception": false,
     "start_time": "2022-01-11T12:13:14.614081",
     "status": "completed"
    },
    "tags": []
   },
   "outputs": [],
   "source": []
  }
 ],
 "metadata": {
  "kernelspec": {
   "display_name": "Python 3",
   "language": "python",
   "name": "python3"
  },
  "language_info": {
   "codemirror_mode": {
    "name": "ipython",
    "version": 3
   },
   "file_extension": ".py",
   "mimetype": "text/x-python",
   "name": "python",
   "nbconvert_exporter": "python",
   "pygments_lexer": "ipython3",
   "version": "3.6.15"
  },
  "papermill": {
   "duration": 6.491874,
   "end_time": "2022-01-11T12:13:14.986095",
   "environment_variables": {},
   "exception": null,
   "input_path": "2020-03-21-covid19exp.ipynb",
   "output_path": "2020-03-21-covid19exp.ipynb",
   "parameters": {},
   "start_time": "2022-01-11T12:13:08.494221",
   "version": "2.0.0"
  }
 },
 "nbformat": 4,
 "nbformat_minor": 5
}