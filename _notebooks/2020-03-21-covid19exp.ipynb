{
 "cells": [
  {
   "cell_type": "markdown",
   "id": "muslim-click",
   "metadata": {
    "papermill": {
     "duration": 0.033903,
     "end_time": "2022-07-16T00:45:47.042923",
     "exception": false,
     "start_time": "2022-07-16T00:45:47.009020",
     "status": "completed"
    },
    "tags": []
   },
   "source": [
    "# COVID-19 Case Race\n",
    "> A race chart to see rising cases around the world\n",
    "\n",
    "- author: Hargun Oberoi\n",
    "- image: images/covid-overview.png\n",
    "- hide: false\n",
    "- badges: false"
   ]
  },
  {
   "cell_type": "code",
   "execution_count": 1,
   "id": "proof-material",
   "metadata": {
    "execution": {
     "iopub.execute_input": "2022-07-16T00:45:47.113303Z",
     "iopub.status.busy": "2022-07-16T00:45:47.112734Z",
     "iopub.status.idle": "2022-07-16T00:45:47.417409Z",
     "shell.execute_reply": "2022-07-16T00:45:47.416912Z"
    },
    "papermill": {
     "duration": 0.343076,
     "end_time": "2022-07-16T00:45:47.417537",
     "exception": false,
     "start_time": "2022-07-16T00:45:47.074461",
     "status": "completed"
    },
    "tags": []
   },
   "outputs": [],
   "source": [
    "#hide\n",
    "import numpy as np\n",
    "import pandas as pd\n",
    "from jinja2 import Template\n",
    "from IPython.display import HTML"
   ]
  },
  {
   "cell_type": "code",
   "execution_count": 2,
   "id": "developed-terminology",
   "metadata": {
    "execution": {
     "iopub.execute_input": "2022-07-16T00:45:47.481977Z",
     "iopub.status.busy": "2022-07-16T00:45:47.481399Z",
     "iopub.status.idle": "2022-07-16T00:45:47.483771Z",
     "shell.execute_reply": "2022-07-16T00:45:47.483228Z"
    },
    "papermill": {
     "duration": 0.036145,
     "end_time": "2022-07-16T00:45:47.483870",
     "exception": false,
     "start_time": "2022-07-16T00:45:47.447725",
     "status": "completed"
    },
    "tags": []
   },
   "outputs": [],
   "source": [
    "#hide\n",
    "\n",
    "# FETCH\n",
    "base_url = 'https://raw.githubusercontent.com/pratapvardhan/notebooks/master/covid19/'\n",
    "paths = {\n",
    "    'mapping': base_url + 'mapping_countries.csv',\n",
    "    'overview': base_url + 'overview.tpl'\n",
    "}"
   ]
  },
  {
   "cell_type": "code",
   "execution_count": 3,
   "id": "dynamic-saver",
   "metadata": {
    "execution": {
     "iopub.execute_input": "2022-07-16T00:45:47.551328Z",
     "iopub.status.busy": "2022-07-16T00:45:47.550261Z",
     "iopub.status.idle": "2022-07-16T00:45:47.554111Z",
     "shell.execute_reply": "2022-07-16T00:45:47.554567Z"
    },
    "papermill": {
     "duration": 0.041168,
     "end_time": "2022-07-16T00:45:47.554678",
     "exception": false,
     "start_time": "2022-07-16T00:45:47.513510",
     "status": "completed"
    },
    "tags": []
   },
   "outputs": [
    {
     "data": {
      "text/plain": [
       "'https://raw.githubusercontent.com/pratapvardhan/notebooks/master/covid19/mapping_countries.csv'"
      ]
     },
     "execution_count": 3,
     "metadata": {},
     "output_type": "execute_result"
    }
   ],
   "source": [
    "#hide\n",
    "paths['mapping']"
   ]
  },
  {
   "cell_type": "code",
   "execution_count": 4,
   "id": "urban-software",
   "metadata": {
    "execution": {
     "iopub.execute_input": "2022-07-16T00:45:47.618754Z",
     "iopub.status.busy": "2022-07-16T00:45:47.618188Z",
     "iopub.status.idle": "2022-07-16T00:45:47.620601Z",
     "shell.execute_reply": "2022-07-16T00:45:47.621116Z"
    },
    "papermill": {
     "duration": 0.03668,
     "end_time": "2022-07-16T00:45:47.621221",
     "exception": false,
     "start_time": "2022-07-16T00:45:47.584541",
     "status": "completed"
    },
    "tags": []
   },
   "outputs": [],
   "source": [
    "#hide\n",
    "def get_mappings(url):\n",
    "    df = pd.read_csv(url)\n",
    "    return {\n",
    "        'df': df,\n",
    "        'replace.country': dict(df.dropna(subset=['Name']).set_index('Country')['Name']),\n",
    "        'map.continent': dict(df.set_index('Name')['Continent'])\n",
    "    }"
   ]
  },
  {
   "cell_type": "code",
   "execution_count": 5,
   "id": "intimate-machinery",
   "metadata": {
    "execution": {
     "iopub.execute_input": "2022-07-16T00:45:47.685522Z",
     "iopub.status.busy": "2022-07-16T00:45:47.684967Z",
     "iopub.status.idle": "2022-07-16T00:45:47.744381Z",
     "shell.execute_reply": "2022-07-16T00:45:47.744829Z"
    },
    "papermill": {
     "duration": 0.093833,
     "end_time": "2022-07-16T00:45:47.744945",
     "exception": false,
     "start_time": "2022-07-16T00:45:47.651112",
     "status": "completed"
    },
    "tags": []
   },
   "outputs": [],
   "source": [
    "#hide\n",
    "mapping = get_mappings(paths['mapping'])"
   ]
  },
  {
   "cell_type": "code",
   "execution_count": 6,
   "id": "certified-tactics",
   "metadata": {
    "execution": {
     "iopub.execute_input": "2022-07-16T00:45:47.809371Z",
     "iopub.status.busy": "2022-07-16T00:45:47.808815Z",
     "iopub.status.idle": "2022-07-16T00:45:47.811460Z",
     "shell.execute_reply": "2022-07-16T00:45:47.810921Z"
    },
    "papermill": {
     "duration": 0.036501,
     "end_time": "2022-07-16T00:45:47.811554",
     "exception": false,
     "start_time": "2022-07-16T00:45:47.775053",
     "status": "completed"
    },
    "tags": []
   },
   "outputs": [],
   "source": [
    "#hide\n",
    "def get_template(path):\n",
    "    from urllib.parse import urlparse\n",
    "    if bool(urlparse(path).netloc):\n",
    "        from urllib.request import urlopen\n",
    "        return urlopen(path).read().decode('utf8')\n",
    "    return open(path).read()"
   ]
  },
  {
   "cell_type": "code",
   "execution_count": 7,
   "id": "realistic-blast",
   "metadata": {
    "execution": {
     "iopub.execute_input": "2022-07-16T00:45:47.876053Z",
     "iopub.status.busy": "2022-07-16T00:45:47.875500Z",
     "iopub.status.idle": "2022-07-16T00:45:47.877801Z",
     "shell.execute_reply": "2022-07-16T00:45:47.878257Z"
    },
    "papermill": {
     "duration": 0.036785,
     "end_time": "2022-07-16T00:45:47.878389",
     "exception": false,
     "start_time": "2022-07-16T00:45:47.841604",
     "status": "completed"
    },
    "tags": []
   },
   "outputs": [],
   "source": [
    "#hide\n",
    "def get_frame(name):\n",
    "    url = (\n",
    "        'https://raw.githubusercontent.com/CSSEGISandData/COVID-19/master/csse_covid_19_data/'\n",
    "        f'csse_covid_19_time_series/time_series_covid19_{name}_global.csv')\n",
    "    df = pd.read_csv(url)\n",
    "    # rename countries\n",
    "    df['Country/Region'] = df['Country/Region'].replace(mapping['replace.country'])\n",
    "    return df"
   ]
  },
  {
   "cell_type": "code",
   "execution_count": 8,
   "id": "affiliated-characterization",
   "metadata": {
    "execution": {
     "iopub.execute_input": "2022-07-16T00:45:47.943773Z",
     "iopub.status.busy": "2022-07-16T00:45:47.943208Z",
     "iopub.status.idle": "2022-07-16T00:45:47.945129Z",
     "shell.execute_reply": "2022-07-16T00:45:47.945555Z"
    },
    "papermill": {
     "duration": 0.037252,
     "end_time": "2022-07-16T00:45:47.945665",
     "exception": false,
     "start_time": "2022-07-16T00:45:47.908413",
     "status": "completed"
    },
    "tags": []
   },
   "outputs": [],
   "source": [
    "#hide\n",
    "def get_dates(df):\n",
    "    dt_cols = df.columns[~df.columns.isin(['Province/State', 'Country/Region', 'Lat', 'Long'])]\n",
    "    LAST_DATE_I = -1\n",
    "    # sometimes last column may be empty, then go backwards\n",
    "    for i in range(-1, -len(dt_cols), -1):\n",
    "        if not df[dt_cols[i]].fillna(0).eq(0).all():\n",
    "            LAST_DATE_I = i\n",
    "            break\n",
    "    return LAST_DATE_I, dt_cols"
   ]
  },
  {
   "cell_type": "code",
   "execution_count": 9,
   "id": "recent-optimization",
   "metadata": {
    "execution": {
     "iopub.execute_input": "2022-07-16T00:45:48.010238Z",
     "iopub.status.busy": "2022-07-16T00:45:48.009681Z",
     "iopub.status.idle": "2022-07-16T00:45:48.651957Z",
     "shell.execute_reply": "2022-07-16T00:45:48.651470Z"
    },
    "papermill": {
     "duration": 0.676476,
     "end_time": "2022-07-16T00:45:48.652080",
     "exception": false,
     "start_time": "2022-07-16T00:45:47.975604",
     "status": "completed"
    },
    "tags": []
   },
   "outputs": [],
   "source": [
    "#hide\n",
    "COL_REGION = 'Country/Region'\n",
    "# Confirmed, Recovered, Deaths\n",
    "df = get_frame('confirmed')\n",
    "# dft_: timeseries, dfc_: today country agg\n",
    "dft_cases = df\n",
    "dft_deaths = get_frame('deaths')\n",
    "dft_recovered = get_frame('recovered')\n",
    "LAST_DATE_I, dt_cols = get_dates(df)"
   ]
  },
  {
   "cell_type": "code",
   "execution_count": 10,
   "id": "absolute-copper",
   "metadata": {
    "execution": {
     "iopub.execute_input": "2022-07-16T00:45:48.717875Z",
     "iopub.status.busy": "2022-07-16T00:45:48.717282Z",
     "iopub.status.idle": "2022-07-16T00:45:48.719369Z",
     "shell.execute_reply": "2022-07-16T00:45:48.719800Z"
    },
    "papermill": {
     "duration": 0.037468,
     "end_time": "2022-07-16T00:45:48.719914",
     "exception": false,
     "start_time": "2022-07-16T00:45:48.682446",
     "status": "completed"
    },
    "tags": []
   },
   "outputs": [],
   "source": [
    "#hide\n",
    "LAST_DATE_I, dt_cols = get_dates(df)\n",
    "dt_today =dt_cols[LAST_DATE_I]\n",
    "# dt_5day = dt_cols[LAST_DATE_I - 5]\n",
    "dt_yday = dt_cols[LAST_DATE_I - 1]"
   ]
  },
  {
   "cell_type": "code",
   "execution_count": 11,
   "id": "restricted-sheriff",
   "metadata": {
    "execution": {
     "iopub.execute_input": "2022-07-16T00:45:48.786127Z",
     "iopub.status.busy": "2022-07-16T00:45:48.785506Z",
     "iopub.status.idle": "2022-07-16T00:45:48.790955Z",
     "shell.execute_reply": "2022-07-16T00:45:48.791378Z"
    },
    "papermill": {
     "duration": 0.041706,
     "end_time": "2022-07-16T00:45:48.791488",
     "exception": false,
     "start_time": "2022-07-16T00:45:48.749782",
     "status": "completed"
    },
    "tags": []
   },
   "outputs": [],
   "source": [
    "#hide\n",
    "dfc_cases = dft_cases.groupby(COL_REGION)[dt_today].sum()\n",
    "dfc_deaths = dft_deaths.groupby(COL_REGION)[dt_today].sum()\n",
    "# dfp_cases = dft_cases.groupby(COL_REGION)[dt_5day].sum()\n",
    "# dfp_deaths = dft_deaths.groupby(COL_REGION)[dt_5day].sum()\n",
    "dfp_cases = dft_cases.groupby(COL_REGION)[dt_yday].sum()\n",
    "dfp_deaths = dft_deaths.groupby(COL_REGION)[dt_yday].sum()"
   ]
  },
  {
   "cell_type": "code",
   "execution_count": 12,
   "id": "deluxe-hepatitis",
   "metadata": {
    "execution": {
     "iopub.execute_input": "2022-07-16T00:45:48.856621Z",
     "iopub.status.busy": "2022-07-16T00:45:48.856000Z",
     "iopub.status.idle": "2022-07-16T00:45:48.860630Z",
     "shell.execute_reply": "2022-07-16T00:45:48.860180Z"
    },
    "papermill": {
     "duration": 0.039281,
     "end_time": "2022-07-16T00:45:48.860724",
     "exception": false,
     "start_time": "2022-07-16T00:45:48.821443",
     "status": "completed"
    },
    "tags": []
   },
   "outputs": [],
   "source": [
    "#hide\n",
    "df_table = (pd.DataFrame(dict(Cases = dfc_cases, Deaths = dfc_deaths, PCases = dfp_cases, PDeaths = dfp_deaths))\n",
    "            .sort_values(by = ['Cases','Deaths'], ascending = [False, False])\n",
    "            .reset_index())"
   ]
  },
  {
   "cell_type": "code",
   "execution_count": 13,
   "id": "educational-chancellor",
   "metadata": {
    "execution": {
     "iopub.execute_input": "2022-07-16T00:45:48.932330Z",
     "iopub.status.busy": "2022-07-16T00:45:48.931769Z",
     "iopub.status.idle": "2022-07-16T00:45:48.943833Z",
     "shell.execute_reply": "2022-07-16T00:45:48.943379Z"
    },
    "papermill": {
     "duration": 0.053186,
     "end_time": "2022-07-16T00:45:48.943927",
     "exception": false,
     "start_time": "2022-07-16T00:45:48.890741",
     "status": "completed"
    },
    "tags": []
   },
   "outputs": [
    {
     "data": {
      "text/html": [
       "<div>\n",
       "<style scoped>\n",
       "    .dataframe tbody tr th:only-of-type {\n",
       "        vertical-align: middle;\n",
       "    }\n",
       "\n",
       "    .dataframe tbody tr th {\n",
       "        vertical-align: top;\n",
       "    }\n",
       "\n",
       "    .dataframe thead th {\n",
       "        text-align: right;\n",
       "    }\n",
       "</style>\n",
       "<table border=\"1\" class=\"dataframe\">\n",
       "  <thead>\n",
       "    <tr style=\"text-align: right;\">\n",
       "      <th></th>\n",
       "      <th>Country/Region</th>\n",
       "      <th>Cases</th>\n",
       "      <th>Deaths</th>\n",
       "      <th>PCases</th>\n",
       "      <th>PDeaths</th>\n",
       "      <th>Cases (+)</th>\n",
       "      <th>Deaths (+)</th>\n",
       "      <th>Fatality Rate</th>\n",
       "      <th>Continent</th>\n",
       "    </tr>\n",
       "  </thead>\n",
       "  <tbody>\n",
       "    <tr>\n",
       "      <th>0</th>\n",
       "      <td>US</td>\n",
       "      <td>89294234</td>\n",
       "      <td>1023256</td>\n",
       "      <td>89149141</td>\n",
       "      <td>1022863</td>\n",
       "      <td>145093</td>\n",
       "      <td>393</td>\n",
       "      <td>1.15</td>\n",
       "      <td>North America</td>\n",
       "    </tr>\n",
       "    <tr>\n",
       "      <th>1</th>\n",
       "      <td>India</td>\n",
       "      <td>43710027</td>\n",
       "      <td>525604</td>\n",
       "      <td>43689989</td>\n",
       "      <td>525557</td>\n",
       "      <td>20038</td>\n",
       "      <td>47</td>\n",
       "      <td>1.20</td>\n",
       "      <td>Asia</td>\n",
       "    </tr>\n",
       "    <tr>\n",
       "      <th>2</th>\n",
       "      <td>Brazil</td>\n",
       "      <td>33142158</td>\n",
       "      <td>674779</td>\n",
       "      <td>33076779</td>\n",
       "      <td>674482</td>\n",
       "      <td>65379</td>\n",
       "      <td>297</td>\n",
       "      <td>2.04</td>\n",
       "      <td>South America</td>\n",
       "    </tr>\n",
       "    <tr>\n",
       "      <th>3</th>\n",
       "      <td>France</td>\n",
       "      <td>32881645</td>\n",
       "      <td>151454</td>\n",
       "      <td>32881645</td>\n",
       "      <td>151454</td>\n",
       "      <td>0</td>\n",
       "      <td>0</td>\n",
       "      <td>0.46</td>\n",
       "      <td>Europe</td>\n",
       "    </tr>\n",
       "    <tr>\n",
       "      <th>4</th>\n",
       "      <td>Germany</td>\n",
       "      <td>29569943</td>\n",
       "      <td>142399</td>\n",
       "      <td>29460249</td>\n",
       "      <td>142284</td>\n",
       "      <td>109694</td>\n",
       "      <td>115</td>\n",
       "      <td>0.48</td>\n",
       "      <td>Europe</td>\n",
       "    </tr>\n",
       "  </tbody>\n",
       "</table>\n",
       "</div>"
      ],
      "text/plain": [
       "  Country/Region     Cases   Deaths    PCases  PDeaths  Cases (+)  Deaths (+)  \\\n",
       "0             US  89294234  1023256  89149141  1022863     145093         393   \n",
       "1          India  43710027   525604  43689989   525557      20038          47   \n",
       "2         Brazil  33142158   674779  33076779   674482      65379         297   \n",
       "3         France  32881645   151454  32881645   151454          0           0   \n",
       "4        Germany  29569943   142399  29460249   142284     109694         115   \n",
       "\n",
       "   Fatality Rate      Continent  \n",
       "0           1.15  North America  \n",
       "1           1.20           Asia  \n",
       "2           2.04  South America  \n",
       "3           0.46         Europe  \n",
       "4           0.48         Europe  "
      ]
     },
     "execution_count": 13,
     "metadata": {},
     "output_type": "execute_result"
    }
   ],
   "source": [
    "#hide\n",
    "for c in 'Cases, Deaths'.split(', '):\n",
    "    df_table[f'{c} (+)'] = (df_table[c] - df_table[f'P{c}']).clip(0)\n",
    "    #Clip ça veut dire, les chiffres negatif sont interdit\n",
    "df_table['Fatality Rate'] = (100* df_table['Deaths']/ df_table['Cases']).round(2)\n",
    "df_table['Continent'] = df_table['Country/Region'].map(mapping['map.continent'])\n",
    "df_table.head(5)"
   ]
  },
  {
   "cell_type": "code",
   "execution_count": 14,
   "id": "aboriginal-bulgaria",
   "metadata": {
    "execution": {
     "iopub.execute_input": "2022-07-16T00:45:49.007676Z",
     "iopub.status.busy": "2022-07-16T00:45:49.007113Z",
     "iopub.status.idle": "2022-07-16T00:45:49.012221Z",
     "shell.execute_reply": "2022-07-16T00:45:49.011768Z"
    },
    "papermill": {
     "duration": 0.037755,
     "end_time": "2022-07-16T00:45:49.012315",
     "exception": false,
     "start_time": "2022-07-16T00:45:48.974560",
     "status": "completed"
    },
    "tags": []
   },
   "outputs": [],
   "source": [
    "#hide\n",
    "#delete problematic countries from table\n",
    "df_table = df_table[~df_table['Country/Region'].isin(['Cape Verde', 'Cruise Ship', 'Kosovo'])]"
   ]
  },
  {
   "cell_type": "code",
   "execution_count": 15,
   "id": "fantastic-effect",
   "metadata": {
    "execution": {
     "iopub.execute_input": "2022-07-16T00:45:49.079510Z",
     "iopub.status.busy": "2022-07-16T00:45:49.078868Z",
     "iopub.status.idle": "2022-07-16T00:45:49.095533Z",
     "shell.execute_reply": "2022-07-16T00:45:49.095996Z"
    },
    "papermill": {
     "duration": 0.053448,
     "end_time": "2022-07-16T00:45:49.096105",
     "exception": false,
     "start_time": "2022-07-16T00:45:49.042657",
     "status": "completed"
    },
    "tags": []
   },
   "outputs": [
    {
     "data": {
      "text/html": [
       "<div>\n",
       "<style scoped>\n",
       "    .dataframe tbody tr th:only-of-type {\n",
       "        vertical-align: middle;\n",
       "    }\n",
       "\n",
       "    .dataframe tbody tr th {\n",
       "        vertical-align: top;\n",
       "    }\n",
       "\n",
       "    .dataframe thead th {\n",
       "        text-align: right;\n",
       "    }\n",
       "</style>\n",
       "<table border=\"1\" class=\"dataframe\">\n",
       "  <thead>\n",
       "    <tr style=\"text-align: right;\">\n",
       "      <th></th>\n",
       "      <th>Country/Region</th>\n",
       "      <th>Cases</th>\n",
       "      <th>Deaths</th>\n",
       "      <th>PCases</th>\n",
       "      <th>PDeaths</th>\n",
       "      <th>Cases (+)</th>\n",
       "      <th>Deaths (+)</th>\n",
       "      <th>Fatality Rate</th>\n",
       "      <th>Continent</th>\n",
       "    </tr>\n",
       "  </thead>\n",
       "  <tbody>\n",
       "    <tr>\n",
       "      <th>0</th>\n",
       "      <td>US</td>\n",
       "      <td>89294234</td>\n",
       "      <td>1023256</td>\n",
       "      <td>89149141</td>\n",
       "      <td>1022863</td>\n",
       "      <td>145093</td>\n",
       "      <td>393</td>\n",
       "      <td>1.1</td>\n",
       "      <td>North America</td>\n",
       "    </tr>\n",
       "    <tr>\n",
       "      <th>1</th>\n",
       "      <td>India</td>\n",
       "      <td>43710027</td>\n",
       "      <td>525604</td>\n",
       "      <td>43689989</td>\n",
       "      <td>525557</td>\n",
       "      <td>20038</td>\n",
       "      <td>47</td>\n",
       "      <td>1.2</td>\n",
       "      <td>Asia</td>\n",
       "    </tr>\n",
       "    <tr>\n",
       "      <th>2</th>\n",
       "      <td>Brazil</td>\n",
       "      <td>33142158</td>\n",
       "      <td>674779</td>\n",
       "      <td>33076779</td>\n",
       "      <td>674482</td>\n",
       "      <td>65379</td>\n",
       "      <td>297</td>\n",
       "      <td>2.0</td>\n",
       "      <td>South America</td>\n",
       "    </tr>\n",
       "    <tr>\n",
       "      <th>3</th>\n",
       "      <td>France</td>\n",
       "      <td>32881645</td>\n",
       "      <td>151454</td>\n",
       "      <td>32881645</td>\n",
       "      <td>151454</td>\n",
       "      <td>0</td>\n",
       "      <td>0</td>\n",
       "      <td>0.5</td>\n",
       "      <td>Europe</td>\n",
       "    </tr>\n",
       "    <tr>\n",
       "      <th>4</th>\n",
       "      <td>Germany</td>\n",
       "      <td>29569943</td>\n",
       "      <td>142399</td>\n",
       "      <td>29460249</td>\n",
       "      <td>142284</td>\n",
       "      <td>109694</td>\n",
       "      <td>115</td>\n",
       "      <td>0.5</td>\n",
       "      <td>Europe</td>\n",
       "    </tr>\n",
       "  </tbody>\n",
       "</table>\n",
       "</div>"
      ],
      "text/plain": [
       "  Country/Region     Cases   Deaths    PCases  PDeaths  Cases (+)  Deaths (+)  \\\n",
       "0             US  89294234  1023256  89149141  1022863     145093         393   \n",
       "1          India  43710027   525604  43689989   525557      20038          47   \n",
       "2         Brazil  33142158   674779  33076779   674482      65379         297   \n",
       "3         France  32881645   151454  32881645   151454          0           0   \n",
       "4        Germany  29569943   142399  29460249   142284     109694         115   \n",
       "\n",
       "   Fatality Rate      Continent  \n",
       "0            1.1  North America  \n",
       "1            1.2           Asia  \n",
       "2            2.0  South America  \n",
       "3            0.5         Europe  \n",
       "4            0.5         Europe  "
      ]
     },
     "execution_count": 15,
     "metadata": {},
     "output_type": "execute_result"
    }
   ],
   "source": [
    "#hide\n",
    "df_table = (pd.DataFrame(dict(Cases=dfc_cases, Deaths=dfc_deaths, PCases=dfp_cases, PDeaths=dfp_deaths))\n",
    "             .sort_values(by=['Cases', 'Deaths'], ascending=[False, False])\n",
    "             .reset_index())\n",
    "df_table.rename(columns={'index': 'Country/Region'}, inplace=True)\n",
    "for c in 'Cases, Deaths'.split(', '):\n",
    "    df_table[f'{c} (+)'] = (df_table[c] - df_table[f'P{c}']).clip(0)  # DATA BUG\n",
    "df_table['Fatality Rate'] = (100 * df_table['Deaths'] / df_table['Cases']).round(1)\n",
    "df_table['Continent'] = df_table['Country/Region'].map(mapping['map.continent'])\n",
    "df_table.head(5)"
   ]
  },
  {
   "cell_type": "code",
   "execution_count": 16,
   "id": "fewer-occasion",
   "metadata": {
    "execution": {
     "iopub.execute_input": "2022-07-16T00:45:49.160523Z",
     "iopub.status.busy": "2022-07-16T00:45:49.159969Z",
     "iopub.status.idle": "2022-07-16T00:45:49.164518Z",
     "shell.execute_reply": "2022-07-16T00:45:49.164971Z"
    },
    "papermill": {
     "duration": 0.03805,
     "end_time": "2022-07-16T00:45:49.165079",
     "exception": false,
     "start_time": "2022-07-16T00:45:49.127029",
     "status": "completed"
    },
    "tags": []
   },
   "outputs": [],
   "source": [
    "#hide\n",
    "#delete problematic countries from table\n",
    "df_table = df_table[~df_table['Country/Region'].isin(['Cape Verde', 'Cruise Ship', 'Kosovo'])]"
   ]
  },
  {
   "cell_type": "code",
   "execution_count": 17,
   "id": "related-center",
   "metadata": {
    "execution": {
     "iopub.execute_input": "2022-07-16T00:45:49.237893Z",
     "iopub.status.busy": "2022-07-16T00:45:49.237316Z",
     "iopub.status.idle": "2022-07-16T00:45:49.245302Z",
     "shell.execute_reply": "2022-07-16T00:45:49.244841Z"
    },
    "papermill": {
     "duration": 0.049519,
     "end_time": "2022-07-16T00:45:49.245397",
     "exception": false,
     "start_time": "2022-07-16T00:45:49.195878",
     "status": "completed"
    },
    "tags": []
   },
   "outputs": [],
   "source": [
    "#hide\n",
    "metrics = [df_table.columns[index] for index in [1,2,5,6]]\n",
    "# s_china = df_table[df_table['Country/Region'].eq('China')][metrics].sum().add_prefix('China ')\n",
    "s_us = df_table[df_table['Country/Region'].eq('US')][metrics].sum().add_prefix('US ')\n",
    "s_eu = df_table[df_table['Continent'].eq('Europe')][metrics].sum().add_prefix('EU ')\n",
    "s_ind = df_table[df_table['Country/Region'].eq('India')][metrics].sum().add_prefix('India ')\n",
    "summary = {'updated': pd.to_datetime(dt_today), 'since': pd.to_datetime(dt_yday)}\n",
    "summary = {'updated': pd.to_datetime(dt_today), 'since': pd.to_datetime(dt_yday)}\n",
    "summary = {**summary, **df_table[metrics].sum(), **s_ind, **s_us, **s_eu}"
   ]
  },
  {
   "cell_type": "code",
   "execution_count": 18,
   "id": "engaging-syndrome",
   "metadata": {
    "execution": {
     "iopub.execute_input": "2022-07-16T00:45:49.311581Z",
     "iopub.status.busy": "2022-07-16T00:45:49.311002Z",
     "iopub.status.idle": "2022-07-16T00:45:49.328439Z",
     "shell.execute_reply": "2022-07-16T00:45:49.327954Z"
    },
    "papermill": {
     "duration": 0.052179,
     "end_time": "2022-07-16T00:45:49.328533",
     "exception": false,
     "start_time": "2022-07-16T00:45:49.276354",
     "status": "completed"
    },
    "tags": []
   },
   "outputs": [],
   "source": [
    "#hide\n",
    "dft_ct_new_cases = dft_cases.groupby(COL_REGION)[dt_cols].sum().diff(axis=1).fillna(0).astype(int)"
   ]
  },
  {
   "cell_type": "code",
   "execution_count": 19,
   "id": "neutral-assignment",
   "metadata": {
    "execution": {
     "iopub.execute_input": "2022-07-16T00:45:49.395743Z",
     "iopub.status.busy": "2022-07-16T00:45:49.395115Z",
     "iopub.status.idle": "2022-07-16T00:45:49.397349Z",
     "shell.execute_reply": "2022-07-16T00:45:49.396827Z"
    },
    "papermill": {
     "duration": 0.038072,
     "end_time": "2022-07-16T00:45:49.397442",
     "exception": false,
     "start_time": "2022-07-16T00:45:49.359370",
     "status": "completed"
    },
    "tags": []
   },
   "outputs": [],
   "source": [
    "#hide\n",
    "everydaycases = dft_ct_new_cases.cumsum(axis=1)"
   ]
  },
  {
   "cell_type": "code",
   "execution_count": 20,
   "id": "parliamentary-calgary",
   "metadata": {
    "execution": {
     "iopub.execute_input": "2022-07-16T00:45:49.461953Z",
     "iopub.status.busy": "2022-07-16T00:45:49.461317Z",
     "iopub.status.idle": "2022-07-16T00:45:49.994136Z",
     "shell.execute_reply": "2022-07-16T00:45:49.993320Z"
    },
    "papermill": {
     "duration": 0.5657,
     "end_time": "2022-07-16T00:45:49.994259",
     "exception": false,
     "start_time": "2022-07-16T00:45:49.428559",
     "status": "completed"
    },
    "tags": []
   },
   "outputs": [],
   "source": [
    "#hide\n",
    "import pandas as pd\n",
    "import matplotlib.pyplot as plt\n",
    "import matplotlib.ticker as ticker\n",
    "import matplotlib.animation as animation\n",
    "from IPython.display import HTML"
   ]
  },
  {
   "cell_type": "code",
   "execution_count": 21,
   "id": "lasting-extraction",
   "metadata": {
    "execution": {
     "iopub.execute_input": "2022-07-16T00:45:50.061721Z",
     "iopub.status.busy": "2022-07-16T00:45:50.061153Z",
     "iopub.status.idle": "2022-07-16T00:45:50.067419Z",
     "shell.execute_reply": "2022-07-16T00:45:50.067851Z"
    },
    "papermill": {
     "duration": 0.042702,
     "end_time": "2022-07-16T00:45:50.067968",
     "exception": false,
     "start_time": "2022-07-16T00:45:50.025266",
     "status": "completed"
    },
    "tags": []
   },
   "outputs": [],
   "source": [
    "#hide\n",
    "t = everydaycases.stack()"
   ]
  },
  {
   "cell_type": "code",
   "execution_count": 22,
   "id": "premier-sleeve",
   "metadata": {
    "execution": {
     "iopub.execute_input": "2022-07-16T00:45:50.133926Z",
     "iopub.status.busy": "2022-07-16T00:45:50.133358Z",
     "iopub.status.idle": "2022-07-16T00:45:50.145804Z",
     "shell.execute_reply": "2022-07-16T00:45:50.146531Z"
    },
    "papermill": {
     "duration": 0.047652,
     "end_time": "2022-07-16T00:45:50.146656",
     "exception": false,
     "start_time": "2022-07-16T00:45:50.099004",
     "status": "completed"
    },
    "tags": []
   },
   "outputs": [],
   "source": [
    "#hide\n",
    "g = t.reset_index(['Country/Region'])"
   ]
  },
  {
   "cell_type": "code",
   "execution_count": 23,
   "id": "distributed-pittsburgh",
   "metadata": {
    "execution": {
     "iopub.execute_input": "2022-07-16T00:45:50.211857Z",
     "iopub.status.busy": "2022-07-16T00:45:50.211290Z",
     "iopub.status.idle": "2022-07-16T00:45:50.215175Z",
     "shell.execute_reply": "2022-07-16T00:45:50.214715Z"
    },
    "papermill": {
     "duration": 0.037817,
     "end_time": "2022-07-16T00:45:50.215271",
     "exception": false,
     "start_time": "2022-07-16T00:45:50.177454",
     "status": "completed"
    },
    "tags": []
   },
   "outputs": [],
   "source": [
    "#hide\n",
    "g.index.name = 'date'"
   ]
  },
  {
   "cell_type": "code",
   "execution_count": 24,
   "id": "naked-donor",
   "metadata": {
    "execution": {
     "iopub.execute_input": "2022-07-16T00:45:50.281147Z",
     "iopub.status.busy": "2022-07-16T00:45:50.279894Z",
     "iopub.status.idle": "2022-07-16T00:45:50.281798Z",
     "shell.execute_reply": "2022-07-16T00:45:50.282212Z"
    },
    "papermill": {
     "duration": 0.036119,
     "end_time": "2022-07-16T00:45:50.282340",
     "exception": false,
     "start_time": "2022-07-16T00:45:50.246221",
     "status": "completed"
    },
    "tags": []
   },
   "outputs": [],
   "source": [
    "# #hide\n",
    "# g = g.reset_index(['date'])"
   ]
  },
  {
   "cell_type": "code",
   "execution_count": 25,
   "id": "incomplete-mustang",
   "metadata": {
    "execution": {
     "iopub.execute_input": "2022-07-16T00:45:50.347350Z",
     "iopub.status.busy": "2022-07-16T00:45:50.346756Z",
     "iopub.status.idle": "2022-07-16T00:45:50.349172Z",
     "shell.execute_reply": "2022-07-16T00:45:50.348734Z"
    },
    "papermill": {
     "duration": 0.036117,
     "end_time": "2022-07-16T00:45:50.349266",
     "exception": false,
     "start_time": "2022-07-16T00:45:50.313149",
     "status": "completed"
    },
    "tags": []
   },
   "outputs": [],
   "source": [
    "#hide\n",
    "# g.head()"
   ]
  },
  {
   "cell_type": "code",
   "execution_count": 26,
   "id": "specific-kruger",
   "metadata": {
    "execution": {
     "iopub.execute_input": "2022-07-16T00:45:50.414680Z",
     "iopub.status.busy": "2022-07-16T00:45:50.414065Z",
     "iopub.status.idle": "2022-07-16T00:45:50.417423Z",
     "shell.execute_reply": "2022-07-16T00:45:50.416874Z"
    },
    "papermill": {
     "duration": 0.037236,
     "end_time": "2022-07-16T00:45:50.417519",
     "exception": false,
     "start_time": "2022-07-16T00:45:50.380283",
     "status": "completed"
    },
    "tags": []
   },
   "outputs": [],
   "source": [
    "#hide\n",
    "# g.columns = ['date','country','cases']"
   ]
  },
  {
   "cell_type": "code",
   "execution_count": 27,
   "id": "tender-conversion",
   "metadata": {
    "execution": {
     "iopub.execute_input": "2022-07-16T00:45:50.482202Z",
     "iopub.status.busy": "2022-07-16T00:45:50.481625Z",
     "iopub.status.idle": "2022-07-16T00:45:50.484980Z",
     "shell.execute_reply": "2022-07-16T00:45:50.485395Z"
    },
    "papermill": {
     "duration": 0.037075,
     "end_time": "2022-07-16T00:45:50.485509",
     "exception": false,
     "start_time": "2022-07-16T00:45:50.448434",
     "status": "completed"
    },
    "tags": []
   },
   "outputs": [],
   "source": [
    "#hide\n",
    "# g['continent'] = g.country"
   ]
  },
  {
   "cell_type": "code",
   "execution_count": 28,
   "id": "substantial-wilderness",
   "metadata": {
    "execution": {
     "iopub.execute_input": "2022-07-16T00:45:50.550639Z",
     "iopub.status.busy": "2022-07-16T00:45:50.550037Z",
     "iopub.status.idle": "2022-07-16T00:45:50.553403Z",
     "shell.execute_reply": "2022-07-16T00:45:50.552945Z"
    },
    "papermill": {
     "duration": 0.037125,
     "end_time": "2022-07-16T00:45:50.553496",
     "exception": false,
     "start_time": "2022-07-16T00:45:50.516371",
     "status": "completed"
    },
    "tags": []
   },
   "outputs": [],
   "source": [
    "#hide\n",
    "# cols = list(g.columns.values)"
   ]
  },
  {
   "cell_type": "code",
   "execution_count": 29,
   "id": "solved-farming",
   "metadata": {
    "execution": {
     "iopub.execute_input": "2022-07-16T00:45:50.618384Z",
     "iopub.status.busy": "2022-07-16T00:45:50.617785Z",
     "iopub.status.idle": "2022-07-16T00:45:50.620468Z",
     "shell.execute_reply": "2022-07-16T00:45:50.620005Z"
    },
    "papermill": {
     "duration": 0.036177,
     "end_time": "2022-07-16T00:45:50.620561",
     "exception": false,
     "start_time": "2022-07-16T00:45:50.584384",
     "status": "completed"
    },
    "tags": []
   },
   "outputs": [],
   "source": [
    "#hide\n",
    "# cols.insert(0, cols.pop())"
   ]
  },
  {
   "cell_type": "code",
   "execution_count": 30,
   "id": "executed-adoption",
   "metadata": {
    "execution": {
     "iopub.execute_input": "2022-07-16T00:45:50.685402Z",
     "iopub.status.busy": "2022-07-16T00:45:50.684838Z",
     "iopub.status.idle": "2022-07-16T00:45:50.687327Z",
     "shell.execute_reply": "2022-07-16T00:45:50.686907Z"
    },
    "papermill": {
     "duration": 0.036007,
     "end_time": "2022-07-16T00:45:50.687422",
     "exception": false,
     "start_time": "2022-07-16T00:45:50.651415",
     "status": "completed"
    },
    "tags": []
   },
   "outputs": [],
   "source": [
    "#hide\n",
    "# g = g[cols]"
   ]
  },
  {
   "cell_type": "code",
   "execution_count": 31,
   "id": "subject-dublin",
   "metadata": {
    "execution": {
     "iopub.execute_input": "2022-07-16T00:45:50.752195Z",
     "iopub.status.busy": "2022-07-16T00:45:50.751629Z",
     "iopub.status.idle": "2022-07-16T00:45:50.754065Z",
     "shell.execute_reply": "2022-07-16T00:45:50.753625Z"
    },
    "papermill": {
     "duration": 0.035961,
     "end_time": "2022-07-16T00:45:50.754157",
     "exception": false,
     "start_time": "2022-07-16T00:45:50.718196",
     "status": "completed"
    },
    "tags": []
   },
   "outputs": [],
   "source": [
    "#hide\n",
    "# g['continent'] = g['continent'].map(mapping['map.continent'])"
   ]
  },
  {
   "cell_type": "code",
   "execution_count": 32,
   "id": "freelance-scout",
   "metadata": {
    "execution": {
     "iopub.execute_input": "2022-07-16T00:45:50.819228Z",
     "iopub.status.busy": "2022-07-16T00:45:50.818653Z",
     "iopub.status.idle": "2022-07-16T00:45:50.821011Z",
     "shell.execute_reply": "2022-07-16T00:45:50.820488Z"
    },
    "papermill": {
     "duration": 0.036071,
     "end_time": "2022-07-16T00:45:50.821104",
     "exception": false,
     "start_time": "2022-07-16T00:45:50.785033",
     "status": "completed"
    },
    "tags": []
   },
   "outputs": [],
   "source": [
    "#hide\n",
    "# g.head()"
   ]
  },
  {
   "cell_type": "code",
   "execution_count": 33,
   "id": "limited-engine",
   "metadata": {
    "execution": {
     "iopub.execute_input": "2022-07-16T00:45:50.885563Z",
     "iopub.status.busy": "2022-07-16T00:45:50.884995Z",
     "iopub.status.idle": "2022-07-16T00:45:50.887420Z",
     "shell.execute_reply": "2022-07-16T00:45:50.886960Z"
    },
    "papermill": {
     "duration": 0.035801,
     "end_time": "2022-07-16T00:45:50.887518",
     "exception": false,
     "start_time": "2022-07-16T00:45:50.851717",
     "status": "completed"
    },
    "tags": []
   },
   "outputs": [],
   "source": [
    "# hide\n",
    "# g['date'] = g['date'].astype('datetime64[ns]')"
   ]
  },
  {
   "cell_type": "code",
   "execution_count": 34,
   "id": "sophisticated-supervisor",
   "metadata": {
    "execution": {
     "iopub.execute_input": "2022-07-16T00:45:50.952294Z",
     "iopub.status.busy": "2022-07-16T00:45:50.951731Z",
     "iopub.status.idle": "2022-07-16T00:45:50.954102Z",
     "shell.execute_reply": "2022-07-16T00:45:50.953577Z"
    },
    "papermill": {
     "duration": 0.035679,
     "end_time": "2022-07-16T00:45:50.954195",
     "exception": false,
     "start_time": "2022-07-16T00:45:50.918516",
     "status": "completed"
    },
    "tags": []
   },
   "outputs": [],
   "source": [
    "#hide\n",
    "# g['date'] = g.date.dt.dayofyear"
   ]
  },
  {
   "cell_type": "code",
   "execution_count": 35,
   "id": "inside-dubai",
   "metadata": {
    "execution": {
     "iopub.execute_input": "2022-07-16T00:45:51.018876Z",
     "iopub.status.busy": "2022-07-16T00:45:51.018286Z",
     "iopub.status.idle": "2022-07-16T00:45:51.020806Z",
     "shell.execute_reply": "2022-07-16T00:45:51.020270Z"
    },
    "papermill": {
     "duration": 0.035971,
     "end_time": "2022-07-16T00:45:51.020899",
     "exception": false,
     "start_time": "2022-07-16T00:45:50.984928",
     "status": "completed"
    },
    "tags": []
   },
   "outputs": [],
   "source": [
    "#hide\n",
    "# g = g.rename(columns= {'continent':'group','country':'name','cases':'value'})"
   ]
  },
  {
   "cell_type": "code",
   "execution_count": 36,
   "id": "fleet-motorcycle",
   "metadata": {
    "execution": {
     "iopub.execute_input": "2022-07-16T00:45:51.085866Z",
     "iopub.status.busy": "2022-07-16T00:45:51.085296Z",
     "iopub.status.idle": "2022-07-16T00:45:51.087797Z",
     "shell.execute_reply": "2022-07-16T00:45:51.087375Z"
    },
    "papermill": {
     "duration": 0.036139,
     "end_time": "2022-07-16T00:45:51.087895",
     "exception": false,
     "start_time": "2022-07-16T00:45:51.051756",
     "status": "completed"
    },
    "tags": []
   },
   "outputs": [],
   "source": [
    "#hide\n",
    "# cols = ['name','group','day','value']"
   ]
  },
  {
   "cell_type": "code",
   "execution_count": 37,
   "id": "continued-sleeping",
   "metadata": {
    "execution": {
     "iopub.execute_input": "2022-07-16T00:45:51.153072Z",
     "iopub.status.busy": "2022-07-16T00:45:51.152503Z",
     "iopub.status.idle": "2022-07-16T00:45:51.154980Z",
     "shell.execute_reply": "2022-07-16T00:45:51.154447Z"
    },
    "papermill": {
     "duration": 0.03628,
     "end_time": "2022-07-16T00:45:51.155077",
     "exception": false,
     "start_time": "2022-07-16T00:45:51.118797",
     "status": "completed"
    },
    "tags": []
   },
   "outputs": [],
   "source": [
    "#hide\n",
    "# g.rename(columns= {'date':'day'},inplace = True)"
   ]
  },
  {
   "cell_type": "code",
   "execution_count": 38,
   "id": "major-fight",
   "metadata": {
    "execution": {
     "iopub.execute_input": "2022-07-16T00:45:51.219980Z",
     "iopub.status.busy": "2022-07-16T00:45:51.219418Z",
     "iopub.status.idle": "2022-07-16T00:45:51.221858Z",
     "shell.execute_reply": "2022-07-16T00:45:51.221336Z"
    },
    "papermill": {
     "duration": 0.035925,
     "end_time": "2022-07-16T00:45:51.221952",
     "exception": false,
     "start_time": "2022-07-16T00:45:51.186027",
     "status": "completed"
    },
    "tags": []
   },
   "outputs": [],
   "source": [
    "#hide\n",
    "# g = g[cols]"
   ]
  },
  {
   "cell_type": "code",
   "execution_count": 39,
   "id": "structured-mobile",
   "metadata": {
    "execution": {
     "iopub.execute_input": "2022-07-16T00:45:51.287036Z",
     "iopub.status.busy": "2022-07-16T00:45:51.286454Z",
     "iopub.status.idle": "2022-07-16T00:45:51.288832Z",
     "shell.execute_reply": "2022-07-16T00:45:51.288364Z"
    },
    "papermill": {
     "duration": 0.035892,
     "end_time": "2022-07-16T00:45:51.288924",
     "exception": false,
     "start_time": "2022-07-16T00:45:51.253032",
     "status": "completed"
    },
    "tags": []
   },
   "outputs": [],
   "source": [
    "# #hide\n",
    "# g = g[g.group.notna()]"
   ]
  },
  {
   "cell_type": "code",
   "execution_count": 40,
   "id": "determined-closing",
   "metadata": {
    "execution": {
     "iopub.execute_input": "2022-07-16T00:45:51.356862Z",
     "iopub.status.busy": "2022-07-16T00:45:51.356281Z",
     "iopub.status.idle": "2022-07-16T00:45:51.358611Z",
     "shell.execute_reply": "2022-07-16T00:45:51.358065Z"
    },
    "papermill": {
     "duration": 0.03586,
     "end_time": "2022-07-16T00:45:51.358705",
     "exception": false,
     "start_time": "2022-07-16T00:45:51.322845",
     "status": "completed"
    },
    "tags": []
   },
   "outputs": [],
   "source": [
    "# #hide\n",
    "# colors = dict(zip(\n",
    "#     [\"Oceania\", \"Europe\", \"Asia\", \"South America\", \"Middle East\", \"North America\", \"Africa\"],\n",
    "#     [\"#adb0ff\", \"#ffb3ff\", \"#90d595\", \"#e48381\", \"#aafbff\", \"#f7bb5f\", \"#eafb50\"]\n",
    "# ))\n",
    "# group_lk = g.set_index('name')['group'].to_dict()"
   ]
  },
  {
   "cell_type": "code",
   "execution_count": null,
   "id": "gross-drinking",
   "metadata": {
    "papermill": {
     "duration": 0.031238,
     "end_time": "2022-07-16T00:45:51.420683",
     "exception": false,
     "start_time": "2022-07-16T00:45:51.389445",
     "status": "completed"
    },
    "tags": []
   },
   "outputs": [],
   "source": []
  },
  {
   "cell_type": "code",
   "execution_count": 41,
   "id": "subject-macintosh",
   "metadata": {
    "execution": {
     "iopub.execute_input": "2022-07-16T00:45:51.485919Z",
     "iopub.status.busy": "2022-07-16T00:45:51.485336Z",
     "iopub.status.idle": "2022-07-16T00:45:51.487389Z",
     "shell.execute_reply": "2022-07-16T00:45:51.487781Z"
    },
    "papermill": {
     "duration": 0.036417,
     "end_time": "2022-07-16T00:45:51.487892",
     "exception": false,
     "start_time": "2022-07-16T00:45:51.451475",
     "status": "completed"
    },
    "tags": []
   },
   "outputs": [],
   "source": [
    "# #hide\n",
    "# fig, ax = plt.subplots(figsize=(15, 8))\n",
    "\n",
    "# def draw_barchart(current_day):\n",
    "#     dff = g[g['day'].eq(current_day)].sort_values(by='value', ascending=True).tail(10)\n",
    "#     ax.clear()\n",
    "#     ax.barh(dff['name'], dff['value'], color=[colors[group_lk[x]] for x in dff['name']])\n",
    "#     dx = dff['value'].max() / 200\n",
    "    \n",
    "#     for i, (value, name) in enumerate(zip(dff['value'], dff['name'])):\n",
    "#         ax.text(value-dx, i,     name,           size=14, weight=600, ha='right', va='bottom')\n",
    "#         ax.text(value-dx, i-.25, group_lk[name], size=10, color='#444444', ha='right', va='baseline')\n",
    "#         ax.text(value+dx, i,     f'{value:,.0f}',  size=14, ha='left',  va='center')\n",
    "#     ax.text(1, 0.4, current_day, transform=ax.transAxes, color='#777777', size=46, ha='right', weight=800)\n",
    "#     ax.text(0, 1.06, 'Population (thousands)', transform=ax.transAxes, size=12, color='#777777')\n",
    "#     ax.xaxis.set_major_formatter(ticker.StrMethodFormatter('{x:,.0f}'))\n",
    "#     ax.xaxis.set_ticks_position('top')\n",
    "#     ax.tick_params(axis='x', colors='#777777', labelsize=12)\n",
    "#     ax.set_yticks([])\n",
    "#     ax.margins(0, 0.01)\n",
    "#     ax.grid(which='major', axis='x', linestyle='-')\n",
    "#     ax.set_axisbelow(True)\n",
    "    \n",
    "#     ax.text(0, 1.15, 'Coronavirus',\n",
    "#             transform=ax.transAxes, size=24, weight=600, ha='left', va='top')\n",
    "# #     ax.text(1, 0, 'by @pratapvardhan; credit @jburnmurdoch', transform=ax.transAxes, color='#777777', ha='right',\n",
    "# #             bbox=dict(facecolor='white', alpha=0.8, edgecolor='white'))\n",
    "#     plt.box(False)"
   ]
  },
  {
   "cell_type": "code",
   "execution_count": 42,
   "id": "sexual-wages",
   "metadata": {
    "execution": {
     "iopub.execute_input": "2022-07-16T00:45:51.552922Z",
     "iopub.status.busy": "2022-07-16T00:45:51.552338Z",
     "iopub.status.idle": "2022-07-16T00:45:51.554764Z",
     "shell.execute_reply": "2022-07-16T00:45:51.554215Z"
    },
    "papermill": {
     "duration": 0.035999,
     "end_time": "2022-07-16T00:45:51.554859",
     "exception": false,
     "start_time": "2022-07-16T00:45:51.518860",
     "status": "completed"
    },
    "tags": []
   },
   "outputs": [],
   "source": [
    "# #hide_input\n",
    "# fig, ax = plt.subplots(figsize=(15, 8))\n",
    "# animator = animation.FuncAnimation(fig, draw_barchart, frames=range(g.day.values.min(), g.day.values.max()))\n",
    "# HTML(animator.to_jshtml())\n",
    "# # or use animator.to_html5_video() or animator.save() "
   ]
  },
  {
   "cell_type": "code",
   "execution_count": null,
   "id": "australian-container",
   "metadata": {
    "papermill": {
     "duration": 0.030695,
     "end_time": "2022-07-16T00:45:51.616527",
     "exception": false,
     "start_time": "2022-07-16T00:45:51.585832",
     "status": "completed"
    },
    "tags": []
   },
   "outputs": [],
   "source": []
  },
  {
   "cell_type": "code",
   "execution_count": null,
   "id": "mediterranean-pontiac",
   "metadata": {
    "papermill": {
     "duration": 0.030692,
     "end_time": "2022-07-16T00:45:51.677970",
     "exception": false,
     "start_time": "2022-07-16T00:45:51.647278",
     "status": "completed"
    },
    "tags": []
   },
   "outputs": [],
   "source": []
  },
  {
   "cell_type": "code",
   "execution_count": null,
   "id": "aging-legislature",
   "metadata": {
    "papermill": {
     "duration": 0.030774,
     "end_time": "2022-07-16T00:45:51.739710",
     "exception": false,
     "start_time": "2022-07-16T00:45:51.708936",
     "status": "completed"
    },
    "tags": []
   },
   "outputs": [],
   "source": []
  }
 ],
 "metadata": {
  "kernelspec": {
   "display_name": "Python 3",
   "language": "python",
   "name": "python3"
  },
  "language_info": {
   "codemirror_mode": {
    "name": "ipython",
    "version": 3
   },
   "file_extension": ".py",
   "mimetype": "text/x-python",
   "name": "python",
   "nbconvert_exporter": "python",
   "pygments_lexer": "ipython3",
   "version": "3.6.15"
  },
  "papermill": {
   "duration": 5.999422,
   "end_time": "2022-07-16T00:45:52.088227",
   "environment_variables": {},
   "exception": null,
   "input_path": "2020-03-21-covid19exp.ipynb",
   "output_path": "2020-03-21-covid19exp.ipynb",
   "parameters": {},
   "start_time": "2022-07-16T00:45:46.088805",
   "version": "2.0.0"
  }
 },
 "nbformat": 4,
 "nbformat_minor": 5
}