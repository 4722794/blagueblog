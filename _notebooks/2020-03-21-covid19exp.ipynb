{
 "cells": [
  {
   "cell_type": "markdown",
   "id": "muslim-click",
   "metadata": {
    "papermill": {
     "duration": 0.035475,
     "end_time": "2022-08-22T12:18:03.022923",
     "exception": false,
     "start_time": "2022-08-22T12:18:02.987448",
     "status": "completed"
    },
    "tags": []
   },
   "source": [
    "# COVID-19 Case Race\n",
    "> A race chart to see rising cases around the world\n",
    "\n",
    "- author: Hargun Oberoi\n",
    "- image: images/covid-overview.png\n",
    "- hide: false\n",
    "- badges: false"
   ]
  },
  {
   "cell_type": "code",
   "execution_count": 1,
   "id": "proof-material",
   "metadata": {
    "execution": {
     "iopub.execute_input": "2022-08-22T12:18:03.092814Z",
     "iopub.status.busy": "2022-08-22T12:18:03.092143Z",
     "iopub.status.idle": "2022-08-22T12:18:03.433471Z",
     "shell.execute_reply": "2022-08-22T12:18:03.432922Z"
    },
    "papermill": {
     "duration": 0.380564,
     "end_time": "2022-08-22T12:18:03.433614",
     "exception": false,
     "start_time": "2022-08-22T12:18:03.053050",
     "status": "completed"
    },
    "tags": []
   },
   "outputs": [],
   "source": [
    "#hide\n",
    "import numpy as np\n",
    "import pandas as pd\n",
    "from jinja2 import Template\n",
    "from IPython.display import HTML"
   ]
  },
  {
   "cell_type": "code",
   "execution_count": 2,
   "id": "developed-terminology",
   "metadata": {
    "execution": {
     "iopub.execute_input": "2022-08-22T12:18:03.498506Z",
     "iopub.status.busy": "2022-08-22T12:18:03.497792Z",
     "iopub.status.idle": "2022-08-22T12:18:03.499554Z",
     "shell.execute_reply": "2022-08-22T12:18:03.500095Z"
    },
    "papermill": {
     "duration": 0.037157,
     "end_time": "2022-08-22T12:18:03.500245",
     "exception": false,
     "start_time": "2022-08-22T12:18:03.463088",
     "status": "completed"
    },
    "tags": []
   },
   "outputs": [],
   "source": [
    "#hide\n",
    "\n",
    "# FETCH\n",
    "base_url = 'https://raw.githubusercontent.com/pratapvardhan/notebooks/master/covid19/'\n",
    "paths = {\n",
    "    'mapping': base_url + 'mapping_countries.csv',\n",
    "    'overview': base_url + 'overview.tpl'\n",
    "}"
   ]
  },
  {
   "cell_type": "code",
   "execution_count": 3,
   "id": "dynamic-saver",
   "metadata": {
    "execution": {
     "iopub.execute_input": "2022-08-22T12:18:03.570155Z",
     "iopub.status.busy": "2022-08-22T12:18:03.569490Z",
     "iopub.status.idle": "2022-08-22T12:18:03.573016Z",
     "shell.execute_reply": "2022-08-22T12:18:03.573510Z"
    },
    "papermill": {
     "duration": 0.043679,
     "end_time": "2022-08-22T12:18:03.573661",
     "exception": false,
     "start_time": "2022-08-22T12:18:03.529982",
     "status": "completed"
    },
    "tags": []
   },
   "outputs": [
    {
     "data": {
      "text/plain": [
       "'https://raw.githubusercontent.com/pratapvardhan/notebooks/master/covid19/mapping_countries.csv'"
      ]
     },
     "execution_count": 3,
     "metadata": {},
     "output_type": "execute_result"
    }
   ],
   "source": [
    "#hide\n",
    "paths['mapping']"
   ]
  },
  {
   "cell_type": "code",
   "execution_count": 4,
   "id": "urban-software",
   "metadata": {
    "execution": {
     "iopub.execute_input": "2022-08-22T12:18:03.639273Z",
     "iopub.status.busy": "2022-08-22T12:18:03.638654Z",
     "iopub.status.idle": "2022-08-22T12:18:03.640867Z",
     "shell.execute_reply": "2022-08-22T12:18:03.641329Z"
    },
    "papermill": {
     "duration": 0.037938,
     "end_time": "2022-08-22T12:18:03.641473",
     "exception": false,
     "start_time": "2022-08-22T12:18:03.603535",
     "status": "completed"
    },
    "tags": []
   },
   "outputs": [],
   "source": [
    "#hide\n",
    "def get_mappings(url):\n",
    "    df = pd.read_csv(url)\n",
    "    return {\n",
    "        'df': df,\n",
    "        'replace.country': dict(df.dropna(subset=['Name']).set_index('Country')['Name']),\n",
    "        'map.continent': dict(df.set_index('Name')['Continent'])\n",
    "    }"
   ]
  },
  {
   "cell_type": "code",
   "execution_count": 5,
   "id": "intimate-machinery",
   "metadata": {
    "execution": {
     "iopub.execute_input": "2022-08-22T12:18:03.706706Z",
     "iopub.status.busy": "2022-08-22T12:18:03.706078Z",
     "iopub.status.idle": "2022-08-22T12:18:03.761353Z",
     "shell.execute_reply": "2022-08-22T12:18:03.761895Z"
    },
    "papermill": {
     "duration": 0.090997,
     "end_time": "2022-08-22T12:18:03.762066",
     "exception": false,
     "start_time": "2022-08-22T12:18:03.671069",
     "status": "completed"
    },
    "tags": []
   },
   "outputs": [],
   "source": [
    "#hide\n",
    "mapping = get_mappings(paths['mapping'])"
   ]
  },
  {
   "cell_type": "code",
   "execution_count": 6,
   "id": "certified-tactics",
   "metadata": {
    "execution": {
     "iopub.execute_input": "2022-08-22T12:18:03.827876Z",
     "iopub.status.busy": "2022-08-22T12:18:03.827259Z",
     "iopub.status.idle": "2022-08-22T12:18:03.829733Z",
     "shell.execute_reply": "2022-08-22T12:18:03.830279Z"
    },
    "papermill": {
     "duration": 0.037875,
     "end_time": "2022-08-22T12:18:03.830420",
     "exception": false,
     "start_time": "2022-08-22T12:18:03.792545",
     "status": "completed"
    },
    "tags": []
   },
   "outputs": [],
   "source": [
    "#hide\n",
    "def get_template(path):\n",
    "    from urllib.parse import urlparse\n",
    "    if bool(urlparse(path).netloc):\n",
    "        from urllib.request import urlopen\n",
    "        return urlopen(path).read().decode('utf8')\n",
    "    return open(path).read()"
   ]
  },
  {
   "cell_type": "code",
   "execution_count": 7,
   "id": "realistic-blast",
   "metadata": {
    "execution": {
     "iopub.execute_input": "2022-08-22T12:18:03.894859Z",
     "iopub.status.busy": "2022-08-22T12:18:03.894250Z",
     "iopub.status.idle": "2022-08-22T12:18:03.896814Z",
     "shell.execute_reply": "2022-08-22T12:18:03.896232Z"
    },
    "papermill": {
     "duration": 0.037055,
     "end_time": "2022-08-22T12:18:03.896933",
     "exception": false,
     "start_time": "2022-08-22T12:18:03.859878",
     "status": "completed"
    },
    "tags": []
   },
   "outputs": [],
   "source": [
    "#hide\n",
    "def get_frame(name):\n",
    "    url = (\n",
    "        'https://raw.githubusercontent.com/CSSEGISandData/COVID-19/master/csse_covid_19_data/'\n",
    "        f'csse_covid_19_time_series/time_series_covid19_{name}_global.csv')\n",
    "    df = pd.read_csv(url)\n",
    "    # rename countries\n",
    "    df['Country/Region'] = df['Country/Region'].replace(mapping['replace.country'])\n",
    "    return df"
   ]
  },
  {
   "cell_type": "code",
   "execution_count": 8,
   "id": "affiliated-characterization",
   "metadata": {
    "execution": {
     "iopub.execute_input": "2022-08-22T12:18:03.962984Z",
     "iopub.status.busy": "2022-08-22T12:18:03.962337Z",
     "iopub.status.idle": "2022-08-22T12:18:03.964800Z",
     "shell.execute_reply": "2022-08-22T12:18:03.964303Z"
    },
    "papermill": {
     "duration": 0.038229,
     "end_time": "2022-08-22T12:18:03.964924",
     "exception": false,
     "start_time": "2022-08-22T12:18:03.926695",
     "status": "completed"
    },
    "tags": []
   },
   "outputs": [],
   "source": [
    "#hide\n",
    "def get_dates(df):\n",
    "    dt_cols = df.columns[~df.columns.isin(['Province/State', 'Country/Region', 'Lat', 'Long'])]\n",
    "    LAST_DATE_I = -1\n",
    "    # sometimes last column may be empty, then go backwards\n",
    "    for i in range(-1, -len(dt_cols), -1):\n",
    "        if not df[dt_cols[i]].fillna(0).eq(0).all():\n",
    "            LAST_DATE_I = i\n",
    "            break\n",
    "    return LAST_DATE_I, dt_cols"
   ]
  },
  {
   "cell_type": "code",
   "execution_count": 9,
   "id": "recent-optimization",
   "metadata": {
    "execution": {
     "iopub.execute_input": "2022-08-22T12:18:04.029810Z",
     "iopub.status.busy": "2022-08-22T12:18:04.029155Z",
     "iopub.status.idle": "2022-08-22T12:18:04.501513Z",
     "shell.execute_reply": "2022-08-22T12:18:04.500908Z"
    },
    "papermill": {
     "duration": 0.506827,
     "end_time": "2022-08-22T12:18:04.501659",
     "exception": false,
     "start_time": "2022-08-22T12:18:03.994832",
     "status": "completed"
    },
    "tags": []
   },
   "outputs": [],
   "source": [
    "#hide\n",
    "COL_REGION = 'Country/Region'\n",
    "# Confirmed, Recovered, Deaths\n",
    "df = get_frame('confirmed')\n",
    "# dft_: timeseries, dfc_: today country agg\n",
    "dft_cases = df\n",
    "dft_deaths = get_frame('deaths')\n",
    "dft_recovered = get_frame('recovered')\n",
    "LAST_DATE_I, dt_cols = get_dates(df)"
   ]
  },
  {
   "cell_type": "code",
   "execution_count": 10,
   "id": "absolute-copper",
   "metadata": {
    "execution": {
     "iopub.execute_input": "2022-08-22T12:18:04.567725Z",
     "iopub.status.busy": "2022-08-22T12:18:04.567082Z",
     "iopub.status.idle": "2022-08-22T12:18:04.569737Z",
     "shell.execute_reply": "2022-08-22T12:18:04.569230Z"
    },
    "papermill": {
     "duration": 0.038081,
     "end_time": "2022-08-22T12:18:04.569855",
     "exception": false,
     "start_time": "2022-08-22T12:18:04.531774",
     "status": "completed"
    },
    "tags": []
   },
   "outputs": [],
   "source": [
    "#hide\n",
    "LAST_DATE_I, dt_cols = get_dates(df)\n",
    "dt_today =dt_cols[LAST_DATE_I]\n",
    "# dt_5day = dt_cols[LAST_DATE_I - 5]\n",
    "dt_yday = dt_cols[LAST_DATE_I - 1]"
   ]
  },
  {
   "cell_type": "code",
   "execution_count": 11,
   "id": "restricted-sheriff",
   "metadata": {
    "execution": {
     "iopub.execute_input": "2022-08-22T12:18:04.635790Z",
     "iopub.status.busy": "2022-08-22T12:18:04.635183Z",
     "iopub.status.idle": "2022-08-22T12:18:04.643255Z",
     "shell.execute_reply": "2022-08-22T12:18:04.642752Z"
    },
    "papermill": {
     "duration": 0.043972,
     "end_time": "2022-08-22T12:18:04.643377",
     "exception": false,
     "start_time": "2022-08-22T12:18:04.599405",
     "status": "completed"
    },
    "tags": []
   },
   "outputs": [],
   "source": [
    "#hide\n",
    "dfc_cases = dft_cases.groupby(COL_REGION)[dt_today].sum()\n",
    "dfc_deaths = dft_deaths.groupby(COL_REGION)[dt_today].sum()\n",
    "# dfp_cases = dft_cases.groupby(COL_REGION)[dt_5day].sum()\n",
    "# dfp_deaths = dft_deaths.groupby(COL_REGION)[dt_5day].sum()\n",
    "dfp_cases = dft_cases.groupby(COL_REGION)[dt_yday].sum()\n",
    "dfp_deaths = dft_deaths.groupby(COL_REGION)[dt_yday].sum()"
   ]
  },
  {
   "cell_type": "code",
   "execution_count": 12,
   "id": "deluxe-hepatitis",
   "metadata": {
    "execution": {
     "iopub.execute_input": "2022-08-22T12:18:04.709495Z",
     "iopub.status.busy": "2022-08-22T12:18:04.708852Z",
     "iopub.status.idle": "2022-08-22T12:18:04.713440Z",
     "shell.execute_reply": "2022-08-22T12:18:04.714019Z"
    },
    "papermill": {
     "duration": 0.041109,
     "end_time": "2022-08-22T12:18:04.714161",
     "exception": false,
     "start_time": "2022-08-22T12:18:04.673052",
     "status": "completed"
    },
    "tags": []
   },
   "outputs": [],
   "source": [
    "#hide\n",
    "df_table = (pd.DataFrame(dict(Cases = dfc_cases, Deaths = dfc_deaths, PCases = dfp_cases, PDeaths = dfp_deaths))\n",
    "            .sort_values(by = ['Cases','Deaths'], ascending = [False, False])\n",
    "            .reset_index())"
   ]
  },
  {
   "cell_type": "code",
   "execution_count": 13,
   "id": "educational-chancellor",
   "metadata": {
    "execution": {
     "iopub.execute_input": "2022-08-22T12:18:04.791466Z",
     "iopub.status.busy": "2022-08-22T12:18:04.790821Z",
     "iopub.status.idle": "2022-08-22T12:18:04.799768Z",
     "shell.execute_reply": "2022-08-22T12:18:04.800252Z"
    },
    "papermill": {
     "duration": 0.056607,
     "end_time": "2022-08-22T12:18:04.800395",
     "exception": false,
     "start_time": "2022-08-22T12:18:04.743788",
     "status": "completed"
    },
    "tags": []
   },
   "outputs": [
    {
     "data": {
      "text/html": [
       "<div>\n",
       "<style scoped>\n",
       "    .dataframe tbody tr th:only-of-type {\n",
       "        vertical-align: middle;\n",
       "    }\n",
       "\n",
       "    .dataframe tbody tr th {\n",
       "        vertical-align: top;\n",
       "    }\n",
       "\n",
       "    .dataframe thead th {\n",
       "        text-align: right;\n",
       "    }\n",
       "</style>\n",
       "<table border=\"1\" class=\"dataframe\">\n",
       "  <thead>\n",
       "    <tr style=\"text-align: right;\">\n",
       "      <th></th>\n",
       "      <th>Country/Region</th>\n",
       "      <th>Cases</th>\n",
       "      <th>Deaths</th>\n",
       "      <th>PCases</th>\n",
       "      <th>PDeaths</th>\n",
       "      <th>Cases (+)</th>\n",
       "      <th>Deaths (+)</th>\n",
       "      <th>Fatality Rate</th>\n",
       "      <th>Continent</th>\n",
       "    </tr>\n",
       "  </thead>\n",
       "  <tbody>\n",
       "    <tr>\n",
       "      <th>0</th>\n",
       "      <td>US</td>\n",
       "      <td>93641944</td>\n",
       "      <td>1041149</td>\n",
       "      <td>93509836</td>\n",
       "      <td>1040379</td>\n",
       "      <td>132108</td>\n",
       "      <td>770</td>\n",
       "      <td>1.11</td>\n",
       "      <td>North America</td>\n",
       "    </tr>\n",
       "    <tr>\n",
       "      <th>1</th>\n",
       "      <td>India</td>\n",
       "      <td>44348960</td>\n",
       "      <td>527368</td>\n",
       "      <td>44339429</td>\n",
       "      <td>527332</td>\n",
       "      <td>9531</td>\n",
       "      <td>36</td>\n",
       "      <td>1.19</td>\n",
       "      <td>Asia</td>\n",
       "    </tr>\n",
       "    <tr>\n",
       "      <th>2</th>\n",
       "      <td>France</td>\n",
       "      <td>34535255</td>\n",
       "      <td>154541</td>\n",
       "      <td>34535255</td>\n",
       "      <td>154541</td>\n",
       "      <td>0</td>\n",
       "      <td>0</td>\n",
       "      <td>0.45</td>\n",
       "      <td>Europe</td>\n",
       "    </tr>\n",
       "    <tr>\n",
       "      <th>3</th>\n",
       "      <td>Brazil</td>\n",
       "      <td>34264237</td>\n",
       "      <td>682358</td>\n",
       "      <td>34264237</td>\n",
       "      <td>682358</td>\n",
       "      <td>0</td>\n",
       "      <td>0</td>\n",
       "      <td>1.99</td>\n",
       "      <td>South America</td>\n",
       "    </tr>\n",
       "    <tr>\n",
       "      <th>4</th>\n",
       "      <td>Germany</td>\n",
       "      <td>31808228</td>\n",
       "      <td>146504</td>\n",
       "      <td>31808179</td>\n",
       "      <td>146504</td>\n",
       "      <td>49</td>\n",
       "      <td>0</td>\n",
       "      <td>0.46</td>\n",
       "      <td>Europe</td>\n",
       "    </tr>\n",
       "  </tbody>\n",
       "</table>\n",
       "</div>"
      ],
      "text/plain": [
       "  Country/Region     Cases   Deaths    PCases  PDeaths  Cases (+)  Deaths (+)  \\\n",
       "0             US  93641944  1041149  93509836  1040379     132108         770   \n",
       "1          India  44348960   527368  44339429   527332       9531          36   \n",
       "2         France  34535255   154541  34535255   154541          0           0   \n",
       "3         Brazil  34264237   682358  34264237   682358          0           0   \n",
       "4        Germany  31808228   146504  31808179   146504         49           0   \n",
       "\n",
       "   Fatality Rate      Continent  \n",
       "0           1.11  North America  \n",
       "1           1.19           Asia  \n",
       "2           0.45         Europe  \n",
       "3           1.99  South America  \n",
       "4           0.46         Europe  "
      ]
     },
     "execution_count": 13,
     "metadata": {},
     "output_type": "execute_result"
    }
   ],
   "source": [
    "#hide\n",
    "for c in 'Cases, Deaths'.split(', '):\n",
    "    df_table[f'{c} (+)'] = (df_table[c] - df_table[f'P{c}']).clip(0)\n",
    "    #Clip ça veut dire, les chiffres negatif sont interdit\n",
    "df_table['Fatality Rate'] = (100* df_table['Deaths']/ df_table['Cases']).round(2)\n",
    "df_table['Continent'] = df_table['Country/Region'].map(mapping['map.continent'])\n",
    "df_table.head(5)"
   ]
  },
  {
   "cell_type": "code",
   "execution_count": 14,
   "id": "aboriginal-bulgaria",
   "metadata": {
    "execution": {
     "iopub.execute_input": "2022-08-22T12:18:04.867132Z",
     "iopub.status.busy": "2022-08-22T12:18:04.866467Z",
     "iopub.status.idle": "2022-08-22T12:18:04.868894Z",
     "shell.execute_reply": "2022-08-22T12:18:04.869505Z"
    },
    "papermill": {
     "duration": 0.038998,
     "end_time": "2022-08-22T12:18:04.869644",
     "exception": false,
     "start_time": "2022-08-22T12:18:04.830646",
     "status": "completed"
    },
    "tags": []
   },
   "outputs": [],
   "source": [
    "#hide\n",
    "#delete problematic countries from table\n",
    "df_table = df_table[~df_table['Country/Region'].isin(['Cape Verde', 'Cruise Ship', 'Kosovo'])]"
   ]
  },
  {
   "cell_type": "code",
   "execution_count": 15,
   "id": "fantastic-effect",
   "metadata": {
    "execution": {
     "iopub.execute_input": "2022-08-22T12:18:04.937979Z",
     "iopub.status.busy": "2022-08-22T12:18:04.937373Z",
     "iopub.status.idle": "2022-08-22T12:18:04.955633Z",
     "shell.execute_reply": "2022-08-22T12:18:04.955089Z"
    },
    "papermill": {
     "duration": 0.056171,
     "end_time": "2022-08-22T12:18:04.955760",
     "exception": false,
     "start_time": "2022-08-22T12:18:04.899589",
     "status": "completed"
    },
    "tags": []
   },
   "outputs": [
    {
     "data": {
      "text/html": [
       "<div>\n",
       "<style scoped>\n",
       "    .dataframe tbody tr th:only-of-type {\n",
       "        vertical-align: middle;\n",
       "    }\n",
       "\n",
       "    .dataframe tbody tr th {\n",
       "        vertical-align: top;\n",
       "    }\n",
       "\n",
       "    .dataframe thead th {\n",
       "        text-align: right;\n",
       "    }\n",
       "</style>\n",
       "<table border=\"1\" class=\"dataframe\">\n",
       "  <thead>\n",
       "    <tr style=\"text-align: right;\">\n",
       "      <th></th>\n",
       "      <th>Country/Region</th>\n",
       "      <th>Cases</th>\n",
       "      <th>Deaths</th>\n",
       "      <th>PCases</th>\n",
       "      <th>PDeaths</th>\n",
       "      <th>Cases (+)</th>\n",
       "      <th>Deaths (+)</th>\n",
       "      <th>Fatality Rate</th>\n",
       "      <th>Continent</th>\n",
       "    </tr>\n",
       "  </thead>\n",
       "  <tbody>\n",
       "    <tr>\n",
       "      <th>0</th>\n",
       "      <td>US</td>\n",
       "      <td>93641944</td>\n",
       "      <td>1041149</td>\n",
       "      <td>93509836</td>\n",
       "      <td>1040379</td>\n",
       "      <td>132108</td>\n",
       "      <td>770</td>\n",
       "      <td>1.1</td>\n",
       "      <td>North America</td>\n",
       "    </tr>\n",
       "    <tr>\n",
       "      <th>1</th>\n",
       "      <td>India</td>\n",
       "      <td>44348960</td>\n",
       "      <td>527368</td>\n",
       "      <td>44339429</td>\n",
       "      <td>527332</td>\n",
       "      <td>9531</td>\n",
       "      <td>36</td>\n",
       "      <td>1.2</td>\n",
       "      <td>Asia</td>\n",
       "    </tr>\n",
       "    <tr>\n",
       "      <th>2</th>\n",
       "      <td>France</td>\n",
       "      <td>34535255</td>\n",
       "      <td>154541</td>\n",
       "      <td>34535255</td>\n",
       "      <td>154541</td>\n",
       "      <td>0</td>\n",
       "      <td>0</td>\n",
       "      <td>0.4</td>\n",
       "      <td>Europe</td>\n",
       "    </tr>\n",
       "    <tr>\n",
       "      <th>3</th>\n",
       "      <td>Brazil</td>\n",
       "      <td>34264237</td>\n",
       "      <td>682358</td>\n",
       "      <td>34264237</td>\n",
       "      <td>682358</td>\n",
       "      <td>0</td>\n",
       "      <td>0</td>\n",
       "      <td>2.0</td>\n",
       "      <td>South America</td>\n",
       "    </tr>\n",
       "    <tr>\n",
       "      <th>4</th>\n",
       "      <td>Germany</td>\n",
       "      <td>31808228</td>\n",
       "      <td>146504</td>\n",
       "      <td>31808179</td>\n",
       "      <td>146504</td>\n",
       "      <td>49</td>\n",
       "      <td>0</td>\n",
       "      <td>0.5</td>\n",
       "      <td>Europe</td>\n",
       "    </tr>\n",
       "  </tbody>\n",
       "</table>\n",
       "</div>"
      ],
      "text/plain": [
       "  Country/Region     Cases   Deaths    PCases  PDeaths  Cases (+)  Deaths (+)  \\\n",
       "0             US  93641944  1041149  93509836  1040379     132108         770   \n",
       "1          India  44348960   527368  44339429   527332       9531          36   \n",
       "2         France  34535255   154541  34535255   154541          0           0   \n",
       "3         Brazil  34264237   682358  34264237   682358          0           0   \n",
       "4        Germany  31808228   146504  31808179   146504         49           0   \n",
       "\n",
       "   Fatality Rate      Continent  \n",
       "0            1.1  North America  \n",
       "1            1.2           Asia  \n",
       "2            0.4         Europe  \n",
       "3            2.0  South America  \n",
       "4            0.5         Europe  "
      ]
     },
     "execution_count": 15,
     "metadata": {},
     "output_type": "execute_result"
    }
   ],
   "source": [
    "#hide\n",
    "df_table = (pd.DataFrame(dict(Cases=dfc_cases, Deaths=dfc_deaths, PCases=dfp_cases, PDeaths=dfp_deaths))\n",
    "             .sort_values(by=['Cases', 'Deaths'], ascending=[False, False])\n",
    "             .reset_index())\n",
    "df_table.rename(columns={'index': 'Country/Region'}, inplace=True)\n",
    "for c in 'Cases, Deaths'.split(', '):\n",
    "    df_table[f'{c} (+)'] = (df_table[c] - df_table[f'P{c}']).clip(0)  # DATA BUG\n",
    "df_table['Fatality Rate'] = (100 * df_table['Deaths'] / df_table['Cases']).round(1)\n",
    "df_table['Continent'] = df_table['Country/Region'].map(mapping['map.continent'])\n",
    "df_table.head(5)"
   ]
  },
  {
   "cell_type": "code",
   "execution_count": 16,
   "id": "fewer-occasion",
   "metadata": {
    "execution": {
     "iopub.execute_input": "2022-08-22T12:18:05.023665Z",
     "iopub.status.busy": "2022-08-22T12:18:05.023068Z",
     "iopub.status.idle": "2022-08-22T12:18:05.025960Z",
     "shell.execute_reply": "2022-08-22T12:18:05.025218Z"
    },
    "papermill": {
     "duration": 0.039066,
     "end_time": "2022-08-22T12:18:05.026083",
     "exception": false,
     "start_time": "2022-08-22T12:18:04.987017",
     "status": "completed"
    },
    "tags": []
   },
   "outputs": [],
   "source": [
    "#hide\n",
    "#delete problematic countries from table\n",
    "df_table = df_table[~df_table['Country/Region'].isin(['Cape Verde', 'Cruise Ship', 'Kosovo'])]"
   ]
  },
  {
   "cell_type": "code",
   "execution_count": 17,
   "id": "related-center",
   "metadata": {
    "execution": {
     "iopub.execute_input": "2022-08-22T12:18:05.106848Z",
     "iopub.status.busy": "2022-08-22T12:18:05.106206Z",
     "iopub.status.idle": "2022-08-22T12:18:05.108340Z",
     "shell.execute_reply": "2022-08-22T12:18:05.108773Z"
    },
    "papermill": {
     "duration": 0.051752,
     "end_time": "2022-08-22T12:18:05.108917",
     "exception": false,
     "start_time": "2022-08-22T12:18:05.057165",
     "status": "completed"
    },
    "tags": []
   },
   "outputs": [],
   "source": [
    "#hide\n",
    "metrics = [df_table.columns[index] for index in [1,2,5,6]]\n",
    "# s_china = df_table[df_table['Country/Region'].eq('China')][metrics].sum().add_prefix('China ')\n",
    "s_us = df_table[df_table['Country/Region'].eq('US')][metrics].sum().add_prefix('US ')\n",
    "s_eu = df_table[df_table['Continent'].eq('Europe')][metrics].sum().add_prefix('EU ')\n",
    "s_ind = df_table[df_table['Country/Region'].eq('India')][metrics].sum().add_prefix('India ')\n",
    "summary = {'updated': pd.to_datetime(dt_today), 'since': pd.to_datetime(dt_yday)}\n",
    "summary = {'updated': pd.to_datetime(dt_today), 'since': pd.to_datetime(dt_yday)}\n",
    "summary = {**summary, **df_table[metrics].sum(), **s_ind, **s_us, **s_eu}"
   ]
  },
  {
   "cell_type": "code",
   "execution_count": 18,
   "id": "engaging-syndrome",
   "metadata": {
    "execution": {
     "iopub.execute_input": "2022-08-22T12:18:05.176359Z",
     "iopub.status.busy": "2022-08-22T12:18:05.175748Z",
     "iopub.status.idle": "2022-08-22T12:18:05.197009Z",
     "shell.execute_reply": "2022-08-22T12:18:05.196530Z"
    },
    "papermill": {
     "duration": 0.05718,
     "end_time": "2022-08-22T12:18:05.197132",
     "exception": false,
     "start_time": "2022-08-22T12:18:05.139952",
     "status": "completed"
    },
    "tags": []
   },
   "outputs": [],
   "source": [
    "#hide\n",
    "dft_ct_new_cases = dft_cases.groupby(COL_REGION)[dt_cols].sum().diff(axis=1).fillna(0).astype(int)"
   ]
  },
  {
   "cell_type": "code",
   "execution_count": 19,
   "id": "neutral-assignment",
   "metadata": {
    "execution": {
     "iopub.execute_input": "2022-08-22T12:18:05.265567Z",
     "iopub.status.busy": "2022-08-22T12:18:05.264918Z",
     "iopub.status.idle": "2022-08-22T12:18:05.267476Z",
     "shell.execute_reply": "2022-08-22T12:18:05.267923Z"
    },
    "papermill": {
     "duration": 0.040174,
     "end_time": "2022-08-22T12:18:05.268058",
     "exception": false,
     "start_time": "2022-08-22T12:18:05.227884",
     "status": "completed"
    },
    "tags": []
   },
   "outputs": [],
   "source": [
    "#hide\n",
    "everydaycases = dft_ct_new_cases.cumsum(axis=1)"
   ]
  },
  {
   "cell_type": "code",
   "execution_count": 20,
   "id": "parliamentary-calgary",
   "metadata": {
    "execution": {
     "iopub.execute_input": "2022-08-22T12:18:05.335934Z",
     "iopub.status.busy": "2022-08-22T12:18:05.335321Z",
     "iopub.status.idle": "2022-08-22T12:18:05.888916Z",
     "shell.execute_reply": "2022-08-22T12:18:05.888336Z"
    },
    "papermill": {
     "duration": 0.590248,
     "end_time": "2022-08-22T12:18:05.889050",
     "exception": false,
     "start_time": "2022-08-22T12:18:05.298802",
     "status": "completed"
    },
    "tags": []
   },
   "outputs": [],
   "source": [
    "#hide\n",
    "import pandas as pd\n",
    "import matplotlib.pyplot as plt\n",
    "import matplotlib.ticker as ticker\n",
    "import matplotlib.animation as animation\n",
    "from IPython.display import HTML"
   ]
  },
  {
   "cell_type": "code",
   "execution_count": 21,
   "id": "lasting-extraction",
   "metadata": {
    "execution": {
     "iopub.execute_input": "2022-08-22T12:18:05.957626Z",
     "iopub.status.busy": "2022-08-22T12:18:05.956990Z",
     "iopub.status.idle": "2022-08-22T12:18:05.964167Z",
     "shell.execute_reply": "2022-08-22T12:18:05.964707Z"
    },
    "papermill": {
     "duration": 0.045197,
     "end_time": "2022-08-22T12:18:05.964841",
     "exception": false,
     "start_time": "2022-08-22T12:18:05.919644",
     "status": "completed"
    },
    "tags": []
   },
   "outputs": [],
   "source": [
    "#hide\n",
    "t = everydaycases.stack()"
   ]
  },
  {
   "cell_type": "code",
   "execution_count": 22,
   "id": "premier-sleeve",
   "metadata": {
    "execution": {
     "iopub.execute_input": "2022-08-22T12:18:06.030988Z",
     "iopub.status.busy": "2022-08-22T12:18:06.030404Z",
     "iopub.status.idle": "2022-08-22T12:18:06.042176Z",
     "shell.execute_reply": "2022-08-22T12:18:06.042650Z"
    },
    "papermill": {
     "duration": 0.047266,
     "end_time": "2022-08-22T12:18:06.042787",
     "exception": false,
     "start_time": "2022-08-22T12:18:05.995521",
     "status": "completed"
    },
    "tags": []
   },
   "outputs": [],
   "source": [
    "#hide\n",
    "g = t.reset_index(['Country/Region'])"
   ]
  },
  {
   "cell_type": "code",
   "execution_count": 23,
   "id": "distributed-pittsburgh",
   "metadata": {
    "execution": {
     "iopub.execute_input": "2022-08-22T12:18:06.108802Z",
     "iopub.status.busy": "2022-08-22T12:18:06.108102Z",
     "iopub.status.idle": "2022-08-22T12:18:06.110747Z",
     "shell.execute_reply": "2022-08-22T12:18:06.110182Z"
    },
    "papermill": {
     "duration": 0.03744,
     "end_time": "2022-08-22T12:18:06.110877",
     "exception": false,
     "start_time": "2022-08-22T12:18:06.073437",
     "status": "completed"
    },
    "tags": []
   },
   "outputs": [],
   "source": [
    "#hide\n",
    "g.index.name = 'date'"
   ]
  },
  {
   "cell_type": "code",
   "execution_count": 24,
   "id": "naked-donor",
   "metadata": {
    "execution": {
     "iopub.execute_input": "2022-08-22T12:18:06.176791Z",
     "iopub.status.busy": "2022-08-22T12:18:06.176183Z",
     "iopub.status.idle": "2022-08-22T12:18:06.178670Z",
     "shell.execute_reply": "2022-08-22T12:18:06.178107Z"
    },
    "papermill": {
     "duration": 0.036795,
     "end_time": "2022-08-22T12:18:06.178784",
     "exception": false,
     "start_time": "2022-08-22T12:18:06.141989",
     "status": "completed"
    },
    "tags": []
   },
   "outputs": [],
   "source": [
    "# #hide\n",
    "# g = g.reset_index(['date'])"
   ]
  },
  {
   "cell_type": "code",
   "execution_count": 25,
   "id": "incomplete-mustang",
   "metadata": {
    "execution": {
     "iopub.execute_input": "2022-08-22T12:18:06.244290Z",
     "iopub.status.busy": "2022-08-22T12:18:06.243599Z",
     "iopub.status.idle": "2022-08-22T12:18:06.246914Z",
     "shell.execute_reply": "2022-08-22T12:18:06.246280Z"
    },
    "papermill": {
     "duration": 0.037682,
     "end_time": "2022-08-22T12:18:06.247048",
     "exception": false,
     "start_time": "2022-08-22T12:18:06.209366",
     "status": "completed"
    },
    "tags": []
   },
   "outputs": [],
   "source": [
    "#hide\n",
    "# g.head()"
   ]
  },
  {
   "cell_type": "code",
   "execution_count": 26,
   "id": "specific-kruger",
   "metadata": {
    "execution": {
     "iopub.execute_input": "2022-08-22T12:18:06.312886Z",
     "iopub.status.busy": "2022-08-22T12:18:06.312207Z",
     "iopub.status.idle": "2022-08-22T12:18:06.314859Z",
     "shell.execute_reply": "2022-08-22T12:18:06.314289Z"
    },
    "papermill": {
     "duration": 0.03735,
     "end_time": "2022-08-22T12:18:06.314986",
     "exception": false,
     "start_time": "2022-08-22T12:18:06.277636",
     "status": "completed"
    },
    "tags": []
   },
   "outputs": [],
   "source": [
    "#hide\n",
    "# g.columns = ['date','country','cases']"
   ]
  },
  {
   "cell_type": "code",
   "execution_count": 27,
   "id": "tender-conversion",
   "metadata": {
    "execution": {
     "iopub.execute_input": "2022-08-22T12:18:06.381084Z",
     "iopub.status.busy": "2022-08-22T12:18:06.380477Z",
     "iopub.status.idle": "2022-08-22T12:18:06.382657Z",
     "shell.execute_reply": "2022-08-22T12:18:06.383077Z"
    },
    "papermill": {
     "duration": 0.037424,
     "end_time": "2022-08-22T12:18:06.383213",
     "exception": false,
     "start_time": "2022-08-22T12:18:06.345789",
     "status": "completed"
    },
    "tags": []
   },
   "outputs": [],
   "source": [
    "#hide\n",
    "# g['continent'] = g.country"
   ]
  },
  {
   "cell_type": "code",
   "execution_count": 28,
   "id": "substantial-wilderness",
   "metadata": {
    "execution": {
     "iopub.execute_input": "2022-08-22T12:18:06.448984Z",
     "iopub.status.busy": "2022-08-22T12:18:06.448270Z",
     "iopub.status.idle": "2022-08-22T12:18:06.452511Z",
     "shell.execute_reply": "2022-08-22T12:18:06.452032Z"
    },
    "papermill": {
     "duration": 0.038792,
     "end_time": "2022-08-22T12:18:06.452627",
     "exception": false,
     "start_time": "2022-08-22T12:18:06.413835",
     "status": "completed"
    },
    "tags": []
   },
   "outputs": [],
   "source": [
    "#hide\n",
    "# cols = list(g.columns.values)"
   ]
  },
  {
   "cell_type": "code",
   "execution_count": 29,
   "id": "solved-farming",
   "metadata": {
    "execution": {
     "iopub.execute_input": "2022-08-22T12:18:06.518272Z",
     "iopub.status.busy": "2022-08-22T12:18:06.517580Z",
     "iopub.status.idle": "2022-08-22T12:18:06.520065Z",
     "shell.execute_reply": "2022-08-22T12:18:06.519413Z"
    },
    "papermill": {
     "duration": 0.036844,
     "end_time": "2022-08-22T12:18:06.520192",
     "exception": false,
     "start_time": "2022-08-22T12:18:06.483348",
     "status": "completed"
    },
    "tags": []
   },
   "outputs": [],
   "source": [
    "#hide\n",
    "# cols.insert(0, cols.pop())"
   ]
  },
  {
   "cell_type": "code",
   "execution_count": 30,
   "id": "executed-adoption",
   "metadata": {
    "execution": {
     "iopub.execute_input": "2022-08-22T12:18:06.585684Z",
     "iopub.status.busy": "2022-08-22T12:18:06.584935Z",
     "iopub.status.idle": "2022-08-22T12:18:06.586736Z",
     "shell.execute_reply": "2022-08-22T12:18:06.587270Z"
    },
    "papermill": {
     "duration": 0.036493,
     "end_time": "2022-08-22T12:18:06.587418",
     "exception": false,
     "start_time": "2022-08-22T12:18:06.550925",
     "status": "completed"
    },
    "tags": []
   },
   "outputs": [],
   "source": [
    "#hide\n",
    "# g = g[cols]"
   ]
  },
  {
   "cell_type": "code",
   "execution_count": 31,
   "id": "subject-dublin",
   "metadata": {
    "execution": {
     "iopub.execute_input": "2022-08-22T12:18:06.653622Z",
     "iopub.status.busy": "2022-08-22T12:18:06.652886Z",
     "iopub.status.idle": "2022-08-22T12:18:06.654503Z",
     "shell.execute_reply": "2022-08-22T12:18:06.655042Z"
    },
    "papermill": {
     "duration": 0.036629,
     "end_time": "2022-08-22T12:18:06.655174",
     "exception": false,
     "start_time": "2022-08-22T12:18:06.618545",
     "status": "completed"
    },
    "tags": []
   },
   "outputs": [],
   "source": [
    "#hide\n",
    "# g['continent'] = g['continent'].map(mapping['map.continent'])"
   ]
  },
  {
   "cell_type": "code",
   "execution_count": 32,
   "id": "freelance-scout",
   "metadata": {
    "execution": {
     "iopub.execute_input": "2022-08-22T12:18:06.720442Z",
     "iopub.status.busy": "2022-08-22T12:18:06.719756Z",
     "iopub.status.idle": "2022-08-22T12:18:06.723889Z",
     "shell.execute_reply": "2022-08-22T12:18:06.723412Z"
    },
    "papermill": {
     "duration": 0.038243,
     "end_time": "2022-08-22T12:18:06.724001",
     "exception": false,
     "start_time": "2022-08-22T12:18:06.685758",
     "status": "completed"
    },
    "tags": []
   },
   "outputs": [],
   "source": [
    "#hide\n",
    "# g.head()"
   ]
  },
  {
   "cell_type": "code",
   "execution_count": 33,
   "id": "limited-engine",
   "metadata": {
    "execution": {
     "iopub.execute_input": "2022-08-22T12:18:06.790308Z",
     "iopub.status.busy": "2022-08-22T12:18:06.789614Z",
     "iopub.status.idle": "2022-08-22T12:18:06.792076Z",
     "shell.execute_reply": "2022-08-22T12:18:06.791425Z"
    },
    "papermill": {
     "duration": 0.037045,
     "end_time": "2022-08-22T12:18:06.792203",
     "exception": false,
     "start_time": "2022-08-22T12:18:06.755158",
     "status": "completed"
    },
    "tags": []
   },
   "outputs": [],
   "source": [
    "# hide\n",
    "# g['date'] = g['date'].astype('datetime64[ns]')"
   ]
  },
  {
   "cell_type": "code",
   "execution_count": 34,
   "id": "sophisticated-supervisor",
   "metadata": {
    "execution": {
     "iopub.execute_input": "2022-08-22T12:18:06.858251Z",
     "iopub.status.busy": "2022-08-22T12:18:06.857633Z",
     "iopub.status.idle": "2022-08-22T12:18:06.859886Z",
     "shell.execute_reply": "2022-08-22T12:18:06.859325Z"
    },
    "papermill": {
     "duration": 0.03673,
     "end_time": "2022-08-22T12:18:06.860000",
     "exception": false,
     "start_time": "2022-08-22T12:18:06.823270",
     "status": "completed"
    },
    "tags": []
   },
   "outputs": [],
   "source": [
    "#hide\n",
    "# g['date'] = g.date.dt.dayofyear"
   ]
  },
  {
   "cell_type": "code",
   "execution_count": 35,
   "id": "inside-dubai",
   "metadata": {
    "execution": {
     "iopub.execute_input": "2022-08-22T12:18:06.925117Z",
     "iopub.status.busy": "2022-08-22T12:18:06.924527Z",
     "iopub.status.idle": "2022-08-22T12:18:06.927428Z",
     "shell.execute_reply": "2022-08-22T12:18:06.926956Z"
    },
    "papermill": {
     "duration": 0.036914,
     "end_time": "2022-08-22T12:18:06.927543",
     "exception": false,
     "start_time": "2022-08-22T12:18:06.890629",
     "status": "completed"
    },
    "tags": []
   },
   "outputs": [],
   "source": [
    "#hide\n",
    "# g = g.rename(columns= {'continent':'group','country':'name','cases':'value'})"
   ]
  },
  {
   "cell_type": "code",
   "execution_count": 36,
   "id": "fleet-motorcycle",
   "metadata": {
    "execution": {
     "iopub.execute_input": "2022-08-22T12:18:06.992869Z",
     "iopub.status.busy": "2022-08-22T12:18:06.992244Z",
     "iopub.status.idle": "2022-08-22T12:18:06.995476Z",
     "shell.execute_reply": "2022-08-22T12:18:06.994898Z"
    },
    "papermill": {
     "duration": 0.037428,
     "end_time": "2022-08-22T12:18:06.995594",
     "exception": false,
     "start_time": "2022-08-22T12:18:06.958166",
     "status": "completed"
    },
    "tags": []
   },
   "outputs": [],
   "source": [
    "#hide\n",
    "# cols = ['name','group','day','value']"
   ]
  },
  {
   "cell_type": "code",
   "execution_count": 37,
   "id": "continued-sleeping",
   "metadata": {
    "execution": {
     "iopub.execute_input": "2022-08-22T12:18:07.061573Z",
     "iopub.status.busy": "2022-08-22T12:18:07.060890Z",
     "iopub.status.idle": "2022-08-22T12:18:07.063406Z",
     "shell.execute_reply": "2022-08-22T12:18:07.062917Z"
    },
    "papermill": {
     "duration": 0.037494,
     "end_time": "2022-08-22T12:18:07.063521",
     "exception": false,
     "start_time": "2022-08-22T12:18:07.026027",
     "status": "completed"
    },
    "tags": []
   },
   "outputs": [],
   "source": [
    "#hide\n",
    "# g.rename(columns= {'date':'day'},inplace = True)"
   ]
  },
  {
   "cell_type": "code",
   "execution_count": 38,
   "id": "major-fight",
   "metadata": {
    "execution": {
     "iopub.execute_input": "2022-08-22T12:18:07.128928Z",
     "iopub.status.busy": "2022-08-22T12:18:07.128225Z",
     "iopub.status.idle": "2022-08-22T12:18:07.130752Z",
     "shell.execute_reply": "2022-08-22T12:18:07.130096Z"
    },
    "papermill": {
     "duration": 0.036696,
     "end_time": "2022-08-22T12:18:07.130878",
     "exception": false,
     "start_time": "2022-08-22T12:18:07.094182",
     "status": "completed"
    },
    "tags": []
   },
   "outputs": [],
   "source": [
    "#hide\n",
    "# g = g[cols]"
   ]
  },
  {
   "cell_type": "code",
   "execution_count": 39,
   "id": "structured-mobile",
   "metadata": {
    "execution": {
     "iopub.execute_input": "2022-08-22T12:18:07.196209Z",
     "iopub.status.busy": "2022-08-22T12:18:07.195496Z",
     "iopub.status.idle": "2022-08-22T12:18:07.198055Z",
     "shell.execute_reply": "2022-08-22T12:18:07.197510Z"
    },
    "papermill": {
     "duration": 0.036633,
     "end_time": "2022-08-22T12:18:07.198187",
     "exception": false,
     "start_time": "2022-08-22T12:18:07.161554",
     "status": "completed"
    },
    "tags": []
   },
   "outputs": [],
   "source": [
    "# #hide\n",
    "# g = g[g.group.notna()]"
   ]
  },
  {
   "cell_type": "code",
   "execution_count": 40,
   "id": "determined-closing",
   "metadata": {
    "execution": {
     "iopub.execute_input": "2022-08-22T12:18:07.264623Z",
     "iopub.status.busy": "2022-08-22T12:18:07.263927Z",
     "iopub.status.idle": "2022-08-22T12:18:07.266266Z",
     "shell.execute_reply": "2022-08-22T12:18:07.265698Z"
    },
    "papermill": {
     "duration": 0.036736,
     "end_time": "2022-08-22T12:18:07.266381",
     "exception": false,
     "start_time": "2022-08-22T12:18:07.229645",
     "status": "completed"
    },
    "tags": []
   },
   "outputs": [],
   "source": [
    "# #hide\n",
    "# colors = dict(zip(\n",
    "#     [\"Oceania\", \"Europe\", \"Asia\", \"South America\", \"Middle East\", \"North America\", \"Africa\"],\n",
    "#     [\"#adb0ff\", \"#ffb3ff\", \"#90d595\", \"#e48381\", \"#aafbff\", \"#f7bb5f\", \"#eafb50\"]\n",
    "# ))\n",
    "# group_lk = g.set_index('name')['group'].to_dict()"
   ]
  },
  {
   "cell_type": "code",
   "execution_count": null,
   "id": "gross-drinking",
   "metadata": {
    "papermill": {
     "duration": 0.030412,
     "end_time": "2022-08-22T12:18:07.327214",
     "exception": false,
     "start_time": "2022-08-22T12:18:07.296802",
     "status": "completed"
    },
    "tags": []
   },
   "outputs": [],
   "source": []
  },
  {
   "cell_type": "code",
   "execution_count": 41,
   "id": "subject-macintosh",
   "metadata": {
    "execution": {
     "iopub.execute_input": "2022-08-22T12:18:07.392813Z",
     "iopub.status.busy": "2022-08-22T12:18:07.392197Z",
     "iopub.status.idle": "2022-08-22T12:18:07.394660Z",
     "shell.execute_reply": "2022-08-22T12:18:07.395223Z"
    },
    "papermill": {
     "duration": 0.037656,
     "end_time": "2022-08-22T12:18:07.395358",
     "exception": false,
     "start_time": "2022-08-22T12:18:07.357702",
     "status": "completed"
    },
    "tags": []
   },
   "outputs": [],
   "source": [
    "# #hide\n",
    "# fig, ax = plt.subplots(figsize=(15, 8))\n",
    "\n",
    "# def draw_barchart(current_day):\n",
    "#     dff = g[g['day'].eq(current_day)].sort_values(by='value', ascending=True).tail(10)\n",
    "#     ax.clear()\n",
    "#     ax.barh(dff['name'], dff['value'], color=[colors[group_lk[x]] for x in dff['name']])\n",
    "#     dx = dff['value'].max() / 200\n",
    "    \n",
    "#     for i, (value, name) in enumerate(zip(dff['value'], dff['name'])):\n",
    "#         ax.text(value-dx, i,     name,           size=14, weight=600, ha='right', va='bottom')\n",
    "#         ax.text(value-dx, i-.25, group_lk[name], size=10, color='#444444', ha='right', va='baseline')\n",
    "#         ax.text(value+dx, i,     f'{value:,.0f}',  size=14, ha='left',  va='center')\n",
    "#     ax.text(1, 0.4, current_day, transform=ax.transAxes, color='#777777', size=46, ha='right', weight=800)\n",
    "#     ax.text(0, 1.06, 'Population (thousands)', transform=ax.transAxes, size=12, color='#777777')\n",
    "#     ax.xaxis.set_major_formatter(ticker.StrMethodFormatter('{x:,.0f}'))\n",
    "#     ax.xaxis.set_ticks_position('top')\n",
    "#     ax.tick_params(axis='x', colors='#777777', labelsize=12)\n",
    "#     ax.set_yticks([])\n",
    "#     ax.margins(0, 0.01)\n",
    "#     ax.grid(which='major', axis='x', linestyle='-')\n",
    "#     ax.set_axisbelow(True)\n",
    "    \n",
    "#     ax.text(0, 1.15, 'Coronavirus',\n",
    "#             transform=ax.transAxes, size=24, weight=600, ha='left', va='top')\n",
    "# #     ax.text(1, 0, 'by @pratapvardhan; credit @jburnmurdoch', transform=ax.transAxes, color='#777777', ha='right',\n",
    "# #             bbox=dict(facecolor='white', alpha=0.8, edgecolor='white'))\n",
    "#     plt.box(False)"
   ]
  },
  {
   "cell_type": "code",
   "execution_count": 42,
   "id": "sexual-wages",
   "metadata": {
    "execution": {
     "iopub.execute_input": "2022-08-22T12:18:07.460831Z",
     "iopub.status.busy": "2022-08-22T12:18:07.460131Z",
     "iopub.status.idle": "2022-08-22T12:18:07.464296Z",
     "shell.execute_reply": "2022-08-22T12:18:07.464791Z"
    },
    "papermill": {
     "duration": 0.03911,
     "end_time": "2022-08-22T12:18:07.464948",
     "exception": false,
     "start_time": "2022-08-22T12:18:07.425838",
     "status": "completed"
    },
    "tags": []
   },
   "outputs": [],
   "source": [
    "# #hide_input\n",
    "# fig, ax = plt.subplots(figsize=(15, 8))\n",
    "# animator = animation.FuncAnimation(fig, draw_barchart, frames=range(g.day.values.min(), g.day.values.max()))\n",
    "# HTML(animator.to_jshtml())\n",
    "# # or use animator.to_html5_video() or animator.save() "
   ]
  },
  {
   "cell_type": "code",
   "execution_count": null,
   "id": "australian-container",
   "metadata": {
    "papermill": {
     "duration": 0.030536,
     "end_time": "2022-08-22T12:18:07.526673",
     "exception": false,
     "start_time": "2022-08-22T12:18:07.496137",
     "status": "completed"
    },
    "tags": []
   },
   "outputs": [],
   "source": []
  },
  {
   "cell_type": "code",
   "execution_count": null,
   "id": "mediterranean-pontiac",
   "metadata": {
    "papermill": {
     "duration": 0.030538,
     "end_time": "2022-08-22T12:18:07.587669",
     "exception": false,
     "start_time": "2022-08-22T12:18:07.557131",
     "status": "completed"
    },
    "tags": []
   },
   "outputs": [],
   "source": []
  },
  {
   "cell_type": "code",
   "execution_count": null,
   "id": "aging-legislature",
   "metadata": {
    "papermill": {
     "duration": 0.030473,
     "end_time": "2022-08-22T12:18:07.648833",
     "exception": false,
     "start_time": "2022-08-22T12:18:07.618360",
     "status": "completed"
    },
    "tags": []
   },
   "outputs": [],
   "source": []
  }
 ],
 "metadata": {
  "kernelspec": {
   "display_name": "Python 3",
   "language": "python",
   "name": "python3"
  },
  "language_info": {
   "codemirror_mode": {
    "name": "ipython",
    "version": 3
   },
   "file_extension": ".py",
   "mimetype": "text/x-python",
   "name": "python",
   "nbconvert_exporter": "python",
   "pygments_lexer": "ipython3",
   "version": "3.6.15"
  },
  "papermill": {
   "duration": 6.371882,
   "end_time": "2022-08-22T12:18:08.098420",
   "environment_variables": {},
   "exception": null,
   "input_path": "2020-03-21-covid19exp.ipynb",
   "output_path": "2020-03-21-covid19exp.ipynb",
   "parameters": {},
   "start_time": "2022-08-22T12:18:01.726538",
   "version": "2.0.0"
  }
 },
 "nbformat": 4,
 "nbformat_minor": 5
}