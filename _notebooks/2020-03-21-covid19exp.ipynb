{
 "cells": [
  {
   "cell_type": "markdown",
   "id": "muslim-click",
   "metadata": {
    "papermill": {
     "duration": 0.036948,
     "end_time": "2022-11-20T12:15:52.417095",
     "exception": false,
     "start_time": "2022-11-20T12:15:52.380147",
     "status": "completed"
    },
    "tags": []
   },
   "source": [
    "# COVID-19 Case Race\n",
    "> A race chart to see rising cases around the world\n",
    "\n",
    "- author: Hargun Oberoi\n",
    "- image: images/covid-overview.png\n",
    "- hide: false\n",
    "- badges: false"
   ]
  },
  {
   "cell_type": "code",
   "execution_count": 1,
   "id": "proof-material",
   "metadata": {
    "execution": {
     "iopub.execute_input": "2022-11-20T12:15:52.493921Z",
     "iopub.status.busy": "2022-11-20T12:15:52.493245Z",
     "iopub.status.idle": "2022-11-20T12:15:52.852725Z",
     "shell.execute_reply": "2022-11-20T12:15:52.852073Z"
    },
    "papermill": {
     "duration": 0.402957,
     "end_time": "2022-11-20T12:15:52.852879",
     "exception": false,
     "start_time": "2022-11-20T12:15:52.449922",
     "status": "completed"
    },
    "tags": []
   },
   "outputs": [],
   "source": [
    "#hide\n",
    "import numpy as np\n",
    "import pandas as pd\n",
    "from jinja2 import Template\n",
    "from IPython.display import HTML"
   ]
  },
  {
   "cell_type": "code",
   "execution_count": 2,
   "id": "developed-terminology",
   "metadata": {
    "execution": {
     "iopub.execute_input": "2022-11-20T12:15:52.935640Z",
     "iopub.status.busy": "2022-11-20T12:15:52.934984Z",
     "iopub.status.idle": "2022-11-20T12:15:52.938771Z",
     "shell.execute_reply": "2022-11-20T12:15:52.939213Z"
    },
    "papermill": {
     "duration": 0.042003,
     "end_time": "2022-11-20T12:15:52.939369",
     "exception": false,
     "start_time": "2022-11-20T12:15:52.897366",
     "status": "completed"
    },
    "tags": []
   },
   "outputs": [],
   "source": [
    "#hide\n",
    "\n",
    "# FETCH\n",
    "base_url = 'https://raw.githubusercontent.com/pratapvardhan/notebooks/master/covid19/'\n",
    "paths = {\n",
    "    'mapping': base_url + 'mapping_countries.csv',\n",
    "    'overview': base_url + 'overview.tpl'\n",
    "}"
   ]
  },
  {
   "cell_type": "code",
   "execution_count": 3,
   "id": "dynamic-saver",
   "metadata": {
    "execution": {
     "iopub.execute_input": "2022-11-20T12:15:53.014548Z",
     "iopub.status.busy": "2022-11-20T12:15:53.013888Z",
     "iopub.status.idle": "2022-11-20T12:15:53.016193Z",
     "shell.execute_reply": "2022-11-20T12:15:53.016674Z"
    },
    "papermill": {
     "duration": 0.046284,
     "end_time": "2022-11-20T12:15:53.016839",
     "exception": false,
     "start_time": "2022-11-20T12:15:52.970555",
     "status": "completed"
    },
    "tags": []
   },
   "outputs": [
    {
     "data": {
      "text/plain": [
       "'https://raw.githubusercontent.com/pratapvardhan/notebooks/master/covid19/mapping_countries.csv'"
      ]
     },
     "execution_count": 3,
     "metadata": {},
     "output_type": "execute_result"
    }
   ],
   "source": [
    "#hide\n",
    "paths['mapping']"
   ]
  },
  {
   "cell_type": "code",
   "execution_count": 4,
   "id": "urban-software",
   "metadata": {
    "execution": {
     "iopub.execute_input": "2022-11-20T12:15:53.087420Z",
     "iopub.status.busy": "2022-11-20T12:15:53.086750Z",
     "iopub.status.idle": "2022-11-20T12:15:53.089979Z",
     "shell.execute_reply": "2022-11-20T12:15:53.089306Z"
    },
    "papermill": {
     "duration": 0.041552,
     "end_time": "2022-11-20T12:15:53.090112",
     "exception": false,
     "start_time": "2022-11-20T12:15:53.048560",
     "status": "completed"
    },
    "tags": []
   },
   "outputs": [],
   "source": [
    "#hide\n",
    "def get_mappings(url):\n",
    "    df = pd.read_csv(url)\n",
    "    return {\n",
    "        'df': df,\n",
    "        'replace.country': dict(df.dropna(subset=['Name']).set_index('Country')['Name']),\n",
    "        'map.continent': dict(df.set_index('Name')['Continent'])\n",
    "    }"
   ]
  },
  {
   "cell_type": "code",
   "execution_count": 5,
   "id": "intimate-machinery",
   "metadata": {
    "execution": {
     "iopub.execute_input": "2022-11-20T12:15:53.157295Z",
     "iopub.status.busy": "2022-11-20T12:15:53.156668Z",
     "iopub.status.idle": "2022-11-20T12:15:53.207193Z",
     "shell.execute_reply": "2022-11-20T12:15:53.206383Z"
    },
    "papermill": {
     "duration": 0.087899,
     "end_time": "2022-11-20T12:15:53.207351",
     "exception": false,
     "start_time": "2022-11-20T12:15:53.119452",
     "status": "completed"
    },
    "tags": []
   },
   "outputs": [],
   "source": [
    "#hide\n",
    "mapping = get_mappings(paths['mapping'])"
   ]
  },
  {
   "cell_type": "code",
   "execution_count": 6,
   "id": "certified-tactics",
   "metadata": {
    "execution": {
     "iopub.execute_input": "2022-11-20T12:15:53.280464Z",
     "iopub.status.busy": "2022-11-20T12:15:53.279598Z",
     "iopub.status.idle": "2022-11-20T12:15:53.282079Z",
     "shell.execute_reply": "2022-11-20T12:15:53.281319Z"
    },
    "papermill": {
     "duration": 0.04125,
     "end_time": "2022-11-20T12:15:53.282232",
     "exception": false,
     "start_time": "2022-11-20T12:15:53.240982",
     "status": "completed"
    },
    "tags": []
   },
   "outputs": [],
   "source": [
    "#hide\n",
    "def get_template(path):\n",
    "    from urllib.parse import urlparse\n",
    "    if bool(urlparse(path).netloc):\n",
    "        from urllib.request import urlopen\n",
    "        return urlopen(path).read().decode('utf8')\n",
    "    return open(path).read()"
   ]
  },
  {
   "cell_type": "code",
   "execution_count": 7,
   "id": "realistic-blast",
   "metadata": {
    "execution": {
     "iopub.execute_input": "2022-11-20T12:15:53.356266Z",
     "iopub.status.busy": "2022-11-20T12:15:53.355387Z",
     "iopub.status.idle": "2022-11-20T12:15:53.358350Z",
     "shell.execute_reply": "2022-11-20T12:15:53.357668Z"
    },
    "papermill": {
     "duration": 0.041637,
     "end_time": "2022-11-20T12:15:53.358477",
     "exception": false,
     "start_time": "2022-11-20T12:15:53.316840",
     "status": "completed"
    },
    "tags": []
   },
   "outputs": [],
   "source": [
    "#hide\n",
    "def get_frame(name):\n",
    "    url = (\n",
    "        'https://raw.githubusercontent.com/CSSEGISandData/COVID-19/master/csse_covid_19_data/'\n",
    "        f'csse_covid_19_time_series/time_series_covid19_{name}_global.csv')\n",
    "    df = pd.read_csv(url)\n",
    "    # rename countries\n",
    "    df['Country/Region'] = df['Country/Region'].replace(mapping['replace.country'])\n",
    "    return df"
   ]
  },
  {
   "cell_type": "code",
   "execution_count": 8,
   "id": "affiliated-characterization",
   "metadata": {
    "execution": {
     "iopub.execute_input": "2022-11-20T12:15:53.437595Z",
     "iopub.status.busy": "2022-11-20T12:15:53.436774Z",
     "iopub.status.idle": "2022-11-20T12:15:53.441027Z",
     "shell.execute_reply": "2022-11-20T12:15:53.441518Z"
    },
    "papermill": {
     "duration": 0.046159,
     "end_time": "2022-11-20T12:15:53.441666",
     "exception": false,
     "start_time": "2022-11-20T12:15:53.395507",
     "status": "completed"
    },
    "tags": []
   },
   "outputs": [],
   "source": [
    "#hide\n",
    "def get_dates(df):\n",
    "    dt_cols = df.columns[~df.columns.isin(['Province/State', 'Country/Region', 'Lat', 'Long'])]\n",
    "    LAST_DATE_I = -1\n",
    "    # sometimes last column may be empty, then go backwards\n",
    "    for i in range(-1, -len(dt_cols), -1):\n",
    "        if not df[dt_cols[i]].fillna(0).eq(0).all():\n",
    "            LAST_DATE_I = i\n",
    "            break\n",
    "    return LAST_DATE_I, dt_cols"
   ]
  },
  {
   "cell_type": "code",
   "execution_count": 9,
   "id": "recent-optimization",
   "metadata": {
    "execution": {
     "iopub.execute_input": "2022-11-20T12:15:53.513583Z",
     "iopub.status.busy": "2022-11-20T12:15:53.512652Z",
     "iopub.status.idle": "2022-11-20T12:15:54.091023Z",
     "shell.execute_reply": "2022-11-20T12:15:54.090098Z"
    },
    "papermill": {
     "duration": 0.616994,
     "end_time": "2022-11-20T12:15:54.091236",
     "exception": false,
     "start_time": "2022-11-20T12:15:53.474242",
     "status": "completed"
    },
    "tags": []
   },
   "outputs": [],
   "source": [
    "#hide\n",
    "COL_REGION = 'Country/Region'\n",
    "# Confirmed, Recovered, Deaths\n",
    "df = get_frame('confirmed')\n",
    "# dft_: timeseries, dfc_: today country agg\n",
    "dft_cases = df\n",
    "dft_deaths = get_frame('deaths')\n",
    "dft_recovered = get_frame('recovered')\n",
    "LAST_DATE_I, dt_cols = get_dates(df)"
   ]
  },
  {
   "cell_type": "code",
   "execution_count": 10,
   "id": "absolute-copper",
   "metadata": {
    "execution": {
     "iopub.execute_input": "2022-11-20T12:15:54.173370Z",
     "iopub.status.busy": "2022-11-20T12:15:54.171821Z",
     "iopub.status.idle": "2022-11-20T12:15:54.174138Z",
     "shell.execute_reply": "2022-11-20T12:15:54.174642Z"
    },
    "papermill": {
     "duration": 0.041636,
     "end_time": "2022-11-20T12:15:54.174787",
     "exception": false,
     "start_time": "2022-11-20T12:15:54.133151",
     "status": "completed"
    },
    "tags": []
   },
   "outputs": [],
   "source": [
    "#hide\n",
    "LAST_DATE_I, dt_cols = get_dates(df)\n",
    "dt_today =dt_cols[LAST_DATE_I]\n",
    "# dt_5day = dt_cols[LAST_DATE_I - 5]\n",
    "dt_yday = dt_cols[LAST_DATE_I - 1]"
   ]
  },
  {
   "cell_type": "code",
   "execution_count": 11,
   "id": "restricted-sheriff",
   "metadata": {
    "execution": {
     "iopub.execute_input": "2022-11-20T12:15:54.245085Z",
     "iopub.status.busy": "2022-11-20T12:15:54.244378Z",
     "iopub.status.idle": "2022-11-20T12:15:54.253117Z",
     "shell.execute_reply": "2022-11-20T12:15:54.252568Z"
    },
    "papermill": {
     "duration": 0.046602,
     "end_time": "2022-11-20T12:15:54.253241",
     "exception": false,
     "start_time": "2022-11-20T12:15:54.206639",
     "status": "completed"
    },
    "tags": []
   },
   "outputs": [],
   "source": [
    "#hide\n",
    "dfc_cases = dft_cases.groupby(COL_REGION)[dt_today].sum()\n",
    "dfc_deaths = dft_deaths.groupby(COL_REGION)[dt_today].sum()\n",
    "# dfp_cases = dft_cases.groupby(COL_REGION)[dt_5day].sum()\n",
    "# dfp_deaths = dft_deaths.groupby(COL_REGION)[dt_5day].sum()\n",
    "dfp_cases = dft_cases.groupby(COL_REGION)[dt_yday].sum()\n",
    "dfp_deaths = dft_deaths.groupby(COL_REGION)[dt_yday].sum()"
   ]
  },
  {
   "cell_type": "code",
   "execution_count": 12,
   "id": "deluxe-hepatitis",
   "metadata": {
    "execution": {
     "iopub.execute_input": "2022-11-20T12:15:54.321893Z",
     "iopub.status.busy": "2022-11-20T12:15:54.321265Z",
     "iopub.status.idle": "2022-11-20T12:15:54.326911Z",
     "shell.execute_reply": "2022-11-20T12:15:54.327513Z"
    },
    "papermill": {
     "duration": 0.043828,
     "end_time": "2022-11-20T12:15:54.327647",
     "exception": false,
     "start_time": "2022-11-20T12:15:54.283819",
     "status": "completed"
    },
    "tags": []
   },
   "outputs": [],
   "source": [
    "#hide\n",
    "df_table = (pd.DataFrame(dict(Cases = dfc_cases, Deaths = dfc_deaths, PCases = dfp_cases, PDeaths = dfp_deaths))\n",
    "            .sort_values(by = ['Cases','Deaths'], ascending = [False, False])\n",
    "            .reset_index())"
   ]
  },
  {
   "cell_type": "code",
   "execution_count": 13,
   "id": "educational-chancellor",
   "metadata": {
    "execution": {
     "iopub.execute_input": "2022-11-20T12:15:54.407339Z",
     "iopub.status.busy": "2022-11-20T12:15:54.406665Z",
     "iopub.status.idle": "2022-11-20T12:15:54.419794Z",
     "shell.execute_reply": "2022-11-20T12:15:54.419222Z"
    },
    "papermill": {
     "duration": 0.0601,
     "end_time": "2022-11-20T12:15:54.419924",
     "exception": false,
     "start_time": "2022-11-20T12:15:54.359824",
     "status": "completed"
    },
    "tags": []
   },
   "outputs": [
    {
     "data": {
      "text/html": [
       "<div>\n",
       "<style scoped>\n",
       "    .dataframe tbody tr th:only-of-type {\n",
       "        vertical-align: middle;\n",
       "    }\n",
       "\n",
       "    .dataframe tbody tr th {\n",
       "        vertical-align: top;\n",
       "    }\n",
       "\n",
       "    .dataframe thead th {\n",
       "        text-align: right;\n",
       "    }\n",
       "</style>\n",
       "<table border=\"1\" class=\"dataframe\">\n",
       "  <thead>\n",
       "    <tr style=\"text-align: right;\">\n",
       "      <th></th>\n",
       "      <th>Country/Region</th>\n",
       "      <th>Cases</th>\n",
       "      <th>Deaths</th>\n",
       "      <th>PCases</th>\n",
       "      <th>PDeaths</th>\n",
       "      <th>Cases (+)</th>\n",
       "      <th>Deaths (+)</th>\n",
       "      <th>Fatality Rate</th>\n",
       "      <th>Continent</th>\n",
       "    </tr>\n",
       "  </thead>\n",
       "  <tbody>\n",
       "    <tr>\n",
       "      <th>0</th>\n",
       "      <td>US</td>\n",
       "      <td>98305722</td>\n",
       "      <td>1077031</td>\n",
       "      <td>98301472</td>\n",
       "      <td>1077020</td>\n",
       "      <td>4250</td>\n",
       "      <td>11</td>\n",
       "      <td>1.10</td>\n",
       "      <td>North America</td>\n",
       "    </tr>\n",
       "    <tr>\n",
       "      <th>1</th>\n",
       "      <td>India</td>\n",
       "      <td>44670240</td>\n",
       "      <td>530574</td>\n",
       "      <td>44669748</td>\n",
       "      <td>530570</td>\n",
       "      <td>492</td>\n",
       "      <td>4</td>\n",
       "      <td>1.19</td>\n",
       "      <td>Asia</td>\n",
       "    </tr>\n",
       "    <tr>\n",
       "      <th>2</th>\n",
       "      <td>France</td>\n",
       "      <td>37508185</td>\n",
       "      <td>159203</td>\n",
       "      <td>37508185</td>\n",
       "      <td>159203</td>\n",
       "      <td>0</td>\n",
       "      <td>0</td>\n",
       "      <td>0.42</td>\n",
       "      <td>Europe</td>\n",
       "    </tr>\n",
       "    <tr>\n",
       "      <th>3</th>\n",
       "      <td>Germany</td>\n",
       "      <td>36205405</td>\n",
       "      <td>156613</td>\n",
       "      <td>36205405</td>\n",
       "      <td>156613</td>\n",
       "      <td>0</td>\n",
       "      <td>0</td>\n",
       "      <td>0.43</td>\n",
       "      <td>Europe</td>\n",
       "    </tr>\n",
       "    <tr>\n",
       "      <th>4</th>\n",
       "      <td>Brazil</td>\n",
       "      <td>34999495</td>\n",
       "      <td>688907</td>\n",
       "      <td>34999495</td>\n",
       "      <td>688907</td>\n",
       "      <td>0</td>\n",
       "      <td>0</td>\n",
       "      <td>1.97</td>\n",
       "      <td>South America</td>\n",
       "    </tr>\n",
       "  </tbody>\n",
       "</table>\n",
       "</div>"
      ],
      "text/plain": [
       "  Country/Region     Cases   Deaths    PCases  PDeaths  Cases (+)  Deaths (+)  \\\n",
       "0             US  98305722  1077031  98301472  1077020       4250          11   \n",
       "1          India  44670240   530574  44669748   530570        492           4   \n",
       "2         France  37508185   159203  37508185   159203          0           0   \n",
       "3        Germany  36205405   156613  36205405   156613          0           0   \n",
       "4         Brazil  34999495   688907  34999495   688907          0           0   \n",
       "\n",
       "   Fatality Rate      Continent  \n",
       "0           1.10  North America  \n",
       "1           1.19           Asia  \n",
       "2           0.42         Europe  \n",
       "3           0.43         Europe  \n",
       "4           1.97  South America  "
      ]
     },
     "execution_count": 13,
     "metadata": {},
     "output_type": "execute_result"
    }
   ],
   "source": [
    "#hide\n",
    "for c in 'Cases, Deaths'.split(', '):\n",
    "    df_table[f'{c} (+)'] = (df_table[c] - df_table[f'P{c}']).clip(0)\n",
    "    #Clip ça veut dire, les chiffres negatif sont interdit\n",
    "df_table['Fatality Rate'] = (100* df_table['Deaths']/ df_table['Cases']).round(2)\n",
    "df_table['Continent'] = df_table['Country/Region'].map(mapping['map.continent'])\n",
    "df_table.head(5)"
   ]
  },
  {
   "cell_type": "code",
   "execution_count": 14,
   "id": "aboriginal-bulgaria",
   "metadata": {
    "execution": {
     "iopub.execute_input": "2022-11-20T12:15:54.492312Z",
     "iopub.status.busy": "2022-11-20T12:15:54.491634Z",
     "iopub.status.idle": "2022-11-20T12:15:54.494322Z",
     "shell.execute_reply": "2022-11-20T12:15:54.494918Z"
    },
    "papermill": {
     "duration": 0.042219,
     "end_time": "2022-11-20T12:15:54.495052",
     "exception": false,
     "start_time": "2022-11-20T12:15:54.452833",
     "status": "completed"
    },
    "tags": []
   },
   "outputs": [],
   "source": [
    "#hide\n",
    "#delete problematic countries from table\n",
    "df_table = df_table[~df_table['Country/Region'].isin(['Cape Verde', 'Cruise Ship', 'Kosovo'])]"
   ]
  },
  {
   "cell_type": "code",
   "execution_count": 15,
   "id": "fantastic-effect",
   "metadata": {
    "execution": {
     "iopub.execute_input": "2022-11-20T12:15:54.567071Z",
     "iopub.status.busy": "2022-11-20T12:15:54.566399Z",
     "iopub.status.idle": "2022-11-20T12:15:54.586883Z",
     "shell.execute_reply": "2022-11-20T12:15:54.586332Z"
    },
    "papermill": {
     "duration": 0.059778,
     "end_time": "2022-11-20T12:15:54.587008",
     "exception": false,
     "start_time": "2022-11-20T12:15:54.527230",
     "status": "completed"
    },
    "tags": []
   },
   "outputs": [
    {
     "data": {
      "text/html": [
       "<div>\n",
       "<style scoped>\n",
       "    .dataframe tbody tr th:only-of-type {\n",
       "        vertical-align: middle;\n",
       "    }\n",
       "\n",
       "    .dataframe tbody tr th {\n",
       "        vertical-align: top;\n",
       "    }\n",
       "\n",
       "    .dataframe thead th {\n",
       "        text-align: right;\n",
       "    }\n",
       "</style>\n",
       "<table border=\"1\" class=\"dataframe\">\n",
       "  <thead>\n",
       "    <tr style=\"text-align: right;\">\n",
       "      <th></th>\n",
       "      <th>Country/Region</th>\n",
       "      <th>Cases</th>\n",
       "      <th>Deaths</th>\n",
       "      <th>PCases</th>\n",
       "      <th>PDeaths</th>\n",
       "      <th>Cases (+)</th>\n",
       "      <th>Deaths (+)</th>\n",
       "      <th>Fatality Rate</th>\n",
       "      <th>Continent</th>\n",
       "    </tr>\n",
       "  </thead>\n",
       "  <tbody>\n",
       "    <tr>\n",
       "      <th>0</th>\n",
       "      <td>US</td>\n",
       "      <td>98305722</td>\n",
       "      <td>1077031</td>\n",
       "      <td>98301472</td>\n",
       "      <td>1077020</td>\n",
       "      <td>4250</td>\n",
       "      <td>11</td>\n",
       "      <td>1.1</td>\n",
       "      <td>North America</td>\n",
       "    </tr>\n",
       "    <tr>\n",
       "      <th>1</th>\n",
       "      <td>India</td>\n",
       "      <td>44670240</td>\n",
       "      <td>530574</td>\n",
       "      <td>44669748</td>\n",
       "      <td>530570</td>\n",
       "      <td>492</td>\n",
       "      <td>4</td>\n",
       "      <td>1.2</td>\n",
       "      <td>Asia</td>\n",
       "    </tr>\n",
       "    <tr>\n",
       "      <th>2</th>\n",
       "      <td>France</td>\n",
       "      <td>37508185</td>\n",
       "      <td>159203</td>\n",
       "      <td>37508185</td>\n",
       "      <td>159203</td>\n",
       "      <td>0</td>\n",
       "      <td>0</td>\n",
       "      <td>0.4</td>\n",
       "      <td>Europe</td>\n",
       "    </tr>\n",
       "    <tr>\n",
       "      <th>3</th>\n",
       "      <td>Germany</td>\n",
       "      <td>36205405</td>\n",
       "      <td>156613</td>\n",
       "      <td>36205405</td>\n",
       "      <td>156613</td>\n",
       "      <td>0</td>\n",
       "      <td>0</td>\n",
       "      <td>0.4</td>\n",
       "      <td>Europe</td>\n",
       "    </tr>\n",
       "    <tr>\n",
       "      <th>4</th>\n",
       "      <td>Brazil</td>\n",
       "      <td>34999495</td>\n",
       "      <td>688907</td>\n",
       "      <td>34999495</td>\n",
       "      <td>688907</td>\n",
       "      <td>0</td>\n",
       "      <td>0</td>\n",
       "      <td>2.0</td>\n",
       "      <td>South America</td>\n",
       "    </tr>\n",
       "  </tbody>\n",
       "</table>\n",
       "</div>"
      ],
      "text/plain": [
       "  Country/Region     Cases   Deaths    PCases  PDeaths  Cases (+)  Deaths (+)  \\\n",
       "0             US  98305722  1077031  98301472  1077020       4250          11   \n",
       "1          India  44670240   530574  44669748   530570        492           4   \n",
       "2         France  37508185   159203  37508185   159203          0           0   \n",
       "3        Germany  36205405   156613  36205405   156613          0           0   \n",
       "4         Brazil  34999495   688907  34999495   688907          0           0   \n",
       "\n",
       "   Fatality Rate      Continent  \n",
       "0            1.1  North America  \n",
       "1            1.2           Asia  \n",
       "2            0.4         Europe  \n",
       "3            0.4         Europe  \n",
       "4            2.0  South America  "
      ]
     },
     "execution_count": 15,
     "metadata": {},
     "output_type": "execute_result"
    }
   ],
   "source": [
    "#hide\n",
    "df_table = (pd.DataFrame(dict(Cases=dfc_cases, Deaths=dfc_deaths, PCases=dfp_cases, PDeaths=dfp_deaths))\n",
    "             .sort_values(by=['Cases', 'Deaths'], ascending=[False, False])\n",
    "             .reset_index())\n",
    "df_table.rename(columns={'index': 'Country/Region'}, inplace=True)\n",
    "for c in 'Cases, Deaths'.split(', '):\n",
    "    df_table[f'{c} (+)'] = (df_table[c] - df_table[f'P{c}']).clip(0)  # DATA BUG\n",
    "df_table['Fatality Rate'] = (100 * df_table['Deaths'] / df_table['Cases']).round(1)\n",
    "df_table['Continent'] = df_table['Country/Region'].map(mapping['map.continent'])\n",
    "df_table.head(5)"
   ]
  },
  {
   "cell_type": "code",
   "execution_count": 16,
   "id": "fewer-occasion",
   "metadata": {
    "execution": {
     "iopub.execute_input": "2022-11-20T12:15:54.660436Z",
     "iopub.status.busy": "2022-11-20T12:15:54.659775Z",
     "iopub.status.idle": "2022-11-20T12:15:54.662110Z",
     "shell.execute_reply": "2022-11-20T12:15:54.662627Z"
    },
    "papermill": {
     "duration": 0.041756,
     "end_time": "2022-11-20T12:15:54.662763",
     "exception": false,
     "start_time": "2022-11-20T12:15:54.621007",
     "status": "completed"
    },
    "tags": []
   },
   "outputs": [],
   "source": [
    "#hide\n",
    "#delete problematic countries from table\n",
    "df_table = df_table[~df_table['Country/Region'].isin(['Cape Verde', 'Cruise Ship', 'Kosovo'])]"
   ]
  },
  {
   "cell_type": "code",
   "execution_count": 17,
   "id": "related-center",
   "metadata": {
    "execution": {
     "iopub.execute_input": "2022-11-20T12:15:54.745612Z",
     "iopub.status.busy": "2022-11-20T12:15:54.744900Z",
     "iopub.status.idle": "2022-11-20T12:15:54.753604Z",
     "shell.execute_reply": "2022-11-20T12:15:54.754081Z"
    },
    "papermill": {
     "duration": 0.058264,
     "end_time": "2022-11-20T12:15:54.754205",
     "exception": false,
     "start_time": "2022-11-20T12:15:54.695941",
     "status": "completed"
    },
    "tags": []
   },
   "outputs": [],
   "source": [
    "#hide\n",
    "metrics = [df_table.columns[index] for index in [1,2,5,6]]\n",
    "# s_china = df_table[df_table['Country/Region'].eq('China')][metrics].sum().add_prefix('China ')\n",
    "s_us = df_table[df_table['Country/Region'].eq('US')][metrics].sum().add_prefix('US ')\n",
    "s_eu = df_table[df_table['Continent'].eq('Europe')][metrics].sum().add_prefix('EU ')\n",
    "s_ind = df_table[df_table['Country/Region'].eq('India')][metrics].sum().add_prefix('India ')\n",
    "summary = {'updated': pd.to_datetime(dt_today), 'since': pd.to_datetime(dt_yday)}\n",
    "summary = {'updated': pd.to_datetime(dt_today), 'since': pd.to_datetime(dt_yday)}\n",
    "summary = {**summary, **df_table[metrics].sum(), **s_ind, **s_us, **s_eu}"
   ]
  },
  {
   "cell_type": "code",
   "execution_count": 18,
   "id": "engaging-syndrome",
   "metadata": {
    "execution": {
     "iopub.execute_input": "2022-11-20T12:15:54.825323Z",
     "iopub.status.busy": "2022-11-20T12:15:54.824487Z",
     "iopub.status.idle": "2022-11-20T12:15:54.852183Z",
     "shell.execute_reply": "2022-11-20T12:15:54.851583Z"
    },
    "papermill": {
     "duration": 0.065174,
     "end_time": "2022-11-20T12:15:54.852335",
     "exception": false,
     "start_time": "2022-11-20T12:15:54.787161",
     "status": "completed"
    },
    "tags": []
   },
   "outputs": [],
   "source": [
    "#hide\n",
    "dft_ct_new_cases = dft_cases.groupby(COL_REGION)[dt_cols].sum().diff(axis=1).fillna(0).astype(int)"
   ]
  },
  {
   "cell_type": "code",
   "execution_count": 19,
   "id": "neutral-assignment",
   "metadata": {
    "execution": {
     "iopub.execute_input": "2022-11-20T12:15:54.928523Z",
     "iopub.status.busy": "2022-11-20T12:15:54.927842Z",
     "iopub.status.idle": "2022-11-20T12:15:54.930464Z",
     "shell.execute_reply": "2022-11-20T12:15:54.931093Z"
    },
    "papermill": {
     "duration": 0.044778,
     "end_time": "2022-11-20T12:15:54.931238",
     "exception": false,
     "start_time": "2022-11-20T12:15:54.886460",
     "status": "completed"
    },
    "tags": []
   },
   "outputs": [],
   "source": [
    "#hide\n",
    "everydaycases = dft_ct_new_cases.cumsum(axis=1)"
   ]
  },
  {
   "cell_type": "code",
   "execution_count": 20,
   "id": "parliamentary-calgary",
   "metadata": {
    "execution": {
     "iopub.execute_input": "2022-11-20T12:15:55.004727Z",
     "iopub.status.busy": "2022-11-20T12:15:55.003895Z",
     "iopub.status.idle": "2022-11-20T12:15:55.583563Z",
     "shell.execute_reply": "2022-11-20T12:15:55.584492Z"
    },
    "papermill": {
     "duration": 0.618948,
     "end_time": "2022-11-20T12:15:55.584653",
     "exception": false,
     "start_time": "2022-11-20T12:15:54.965705",
     "status": "completed"
    },
    "tags": []
   },
   "outputs": [],
   "source": [
    "#hide\n",
    "import pandas as pd\n",
    "import matplotlib.pyplot as plt\n",
    "import matplotlib.ticker as ticker\n",
    "import matplotlib.animation as animation\n",
    "from IPython.display import HTML"
   ]
  },
  {
   "cell_type": "code",
   "execution_count": 21,
   "id": "lasting-extraction",
   "metadata": {
    "execution": {
     "iopub.execute_input": "2022-11-20T12:15:55.660112Z",
     "iopub.status.busy": "2022-11-20T12:15:55.659503Z",
     "iopub.status.idle": "2022-11-20T12:15:55.668108Z",
     "shell.execute_reply": "2022-11-20T12:15:55.667631Z"
    },
    "papermill": {
     "duration": 0.049971,
     "end_time": "2022-11-20T12:15:55.668221",
     "exception": false,
     "start_time": "2022-11-20T12:15:55.618250",
     "status": "completed"
    },
    "tags": []
   },
   "outputs": [],
   "source": [
    "#hide\n",
    "t = everydaycases.stack()"
   ]
  },
  {
   "cell_type": "code",
   "execution_count": 22,
   "id": "premier-sleeve",
   "metadata": {
    "execution": {
     "iopub.execute_input": "2022-11-20T12:15:55.731833Z",
     "iopub.status.busy": "2022-11-20T12:15:55.731302Z",
     "iopub.status.idle": "2022-11-20T12:15:55.745244Z",
     "shell.execute_reply": "2022-11-20T12:15:55.744761Z"
    },
    "papermill": {
     "duration": 0.046573,
     "end_time": "2022-11-20T12:15:55.745377",
     "exception": false,
     "start_time": "2022-11-20T12:15:55.698804",
     "status": "completed"
    },
    "tags": []
   },
   "outputs": [],
   "source": [
    "#hide\n",
    "g = t.reset_index(['Country/Region'])"
   ]
  },
  {
   "cell_type": "code",
   "execution_count": 23,
   "id": "distributed-pittsburgh",
   "metadata": {
    "execution": {
     "iopub.execute_input": "2022-11-20T12:15:55.813150Z",
     "iopub.status.busy": "2022-11-20T12:15:55.812447Z",
     "iopub.status.idle": "2022-11-20T12:15:55.815156Z",
     "shell.execute_reply": "2022-11-20T12:15:55.814606Z"
    },
    "papermill": {
     "duration": 0.04059,
     "end_time": "2022-11-20T12:15:55.815281",
     "exception": false,
     "start_time": "2022-11-20T12:15:55.774691",
     "status": "completed"
    },
    "tags": []
   },
   "outputs": [],
   "source": [
    "#hide\n",
    "g.index.name = 'date'"
   ]
  },
  {
   "cell_type": "code",
   "execution_count": 24,
   "id": "naked-donor",
   "metadata": {
    "execution": {
     "iopub.execute_input": "2022-11-20T12:15:55.889216Z",
     "iopub.status.busy": "2022-11-20T12:15:55.888541Z",
     "iopub.status.idle": "2022-11-20T12:15:55.891155Z",
     "shell.execute_reply": "2022-11-20T12:15:55.891798Z"
    },
    "papermill": {
     "duration": 0.03989,
     "end_time": "2022-11-20T12:15:55.891968",
     "exception": false,
     "start_time": "2022-11-20T12:15:55.852078",
     "status": "completed"
    },
    "tags": []
   },
   "outputs": [],
   "source": [
    "# #hide\n",
    "# g = g.reset_index(['date'])"
   ]
  },
  {
   "cell_type": "code",
   "execution_count": 25,
   "id": "incomplete-mustang",
   "metadata": {
    "execution": {
     "iopub.execute_input": "2022-11-20T12:15:55.961834Z",
     "iopub.status.busy": "2022-11-20T12:15:55.961033Z",
     "iopub.status.idle": "2022-11-20T12:15:55.962669Z",
     "shell.execute_reply": "2022-11-20T12:15:55.963404Z"
    },
    "papermill": {
     "duration": 0.038665,
     "end_time": "2022-11-20T12:15:55.963565",
     "exception": false,
     "start_time": "2022-11-20T12:15:55.924900",
     "status": "completed"
    },
    "tags": []
   },
   "outputs": [],
   "source": [
    "#hide\n",
    "# g.head()"
   ]
  },
  {
   "cell_type": "code",
   "execution_count": 26,
   "id": "specific-kruger",
   "metadata": {
    "execution": {
     "iopub.execute_input": "2022-11-20T12:15:56.030888Z",
     "iopub.status.busy": "2022-11-20T12:15:56.030096Z",
     "iopub.status.idle": "2022-11-20T12:15:56.031865Z",
     "shell.execute_reply": "2022-11-20T12:15:56.032656Z"
    },
    "papermill": {
     "duration": 0.038651,
     "end_time": "2022-11-20T12:15:56.032821",
     "exception": false,
     "start_time": "2022-11-20T12:15:55.994170",
     "status": "completed"
    },
    "tags": []
   },
   "outputs": [],
   "source": [
    "#hide\n",
    "# g.columns = ['date','country','cases']"
   ]
  },
  {
   "cell_type": "code",
   "execution_count": 27,
   "id": "tender-conversion",
   "metadata": {
    "execution": {
     "iopub.execute_input": "2022-11-20T12:15:56.100449Z",
     "iopub.status.busy": "2022-11-20T12:15:56.099626Z",
     "iopub.status.idle": "2022-11-20T12:15:56.103663Z",
     "shell.execute_reply": "2022-11-20T12:15:56.102889Z"
    },
    "papermill": {
     "duration": 0.039888,
     "end_time": "2022-11-20T12:15:56.103805",
     "exception": false,
     "start_time": "2022-11-20T12:15:56.063917",
     "status": "completed"
    },
    "tags": []
   },
   "outputs": [],
   "source": [
    "#hide\n",
    "# g['continent'] = g.country"
   ]
  },
  {
   "cell_type": "code",
   "execution_count": 28,
   "id": "substantial-wilderness",
   "metadata": {
    "execution": {
     "iopub.execute_input": "2022-11-20T12:15:56.171092Z",
     "iopub.status.busy": "2022-11-20T12:15:56.170437Z",
     "iopub.status.idle": "2022-11-20T12:15:56.173033Z",
     "shell.execute_reply": "2022-11-20T12:15:56.173579Z"
    },
    "papermill": {
     "duration": 0.0372,
     "end_time": "2022-11-20T12:15:56.173717",
     "exception": false,
     "start_time": "2022-11-20T12:15:56.136517",
     "status": "completed"
    },
    "tags": []
   },
   "outputs": [],
   "source": [
    "#hide\n",
    "# cols = list(g.columns.values)"
   ]
  },
  {
   "cell_type": "code",
   "execution_count": 29,
   "id": "solved-farming",
   "metadata": {
    "execution": {
     "iopub.execute_input": "2022-11-20T12:15:56.240246Z",
     "iopub.status.busy": "2022-11-20T12:15:56.239550Z",
     "iopub.status.idle": "2022-11-20T12:15:56.243974Z",
     "shell.execute_reply": "2022-11-20T12:15:56.243410Z"
    },
    "papermill": {
     "duration": 0.039177,
     "end_time": "2022-11-20T12:15:56.244095",
     "exception": false,
     "start_time": "2022-11-20T12:15:56.204918",
     "status": "completed"
    },
    "tags": []
   },
   "outputs": [],
   "source": [
    "#hide\n",
    "# cols.insert(0, cols.pop())"
   ]
  },
  {
   "cell_type": "code",
   "execution_count": 30,
   "id": "executed-adoption",
   "metadata": {
    "execution": {
     "iopub.execute_input": "2022-11-20T12:15:56.314110Z",
     "iopub.status.busy": "2022-11-20T12:15:56.313302Z",
     "iopub.status.idle": "2022-11-20T12:15:56.317469Z",
     "shell.execute_reply": "2022-11-20T12:15:56.318081Z"
    },
    "papermill": {
     "duration": 0.041637,
     "end_time": "2022-11-20T12:15:56.318238",
     "exception": false,
     "start_time": "2022-11-20T12:15:56.276601",
     "status": "completed"
    },
    "tags": []
   },
   "outputs": [],
   "source": [
    "#hide\n",
    "# g = g[cols]"
   ]
  },
  {
   "cell_type": "code",
   "execution_count": 31,
   "id": "subject-dublin",
   "metadata": {
    "execution": {
     "iopub.execute_input": "2022-11-20T12:15:56.386504Z",
     "iopub.status.busy": "2022-11-20T12:15:56.385912Z",
     "iopub.status.idle": "2022-11-20T12:15:56.389075Z",
     "shell.execute_reply": "2022-11-20T12:15:56.388530Z"
    },
    "papermill": {
     "duration": 0.038431,
     "end_time": "2022-11-20T12:15:56.389206",
     "exception": false,
     "start_time": "2022-11-20T12:15:56.350775",
     "status": "completed"
    },
    "tags": []
   },
   "outputs": [],
   "source": [
    "#hide\n",
    "# g['continent'] = g['continent'].map(mapping['map.continent'])"
   ]
  },
  {
   "cell_type": "code",
   "execution_count": 32,
   "id": "freelance-scout",
   "metadata": {
    "execution": {
     "iopub.execute_input": "2022-11-20T12:15:56.456648Z",
     "iopub.status.busy": "2022-11-20T12:15:56.455803Z",
     "iopub.status.idle": "2022-11-20T12:15:56.457807Z",
     "shell.execute_reply": "2022-11-20T12:15:56.458418Z"
    },
    "papermill": {
     "duration": 0.038761,
     "end_time": "2022-11-20T12:15:56.458577",
     "exception": false,
     "start_time": "2022-11-20T12:15:56.419816",
     "status": "completed"
    },
    "tags": []
   },
   "outputs": [],
   "source": [
    "#hide\n",
    "# g.head()"
   ]
  },
  {
   "cell_type": "code",
   "execution_count": 33,
   "id": "limited-engine",
   "metadata": {
    "execution": {
     "iopub.execute_input": "2022-11-20T12:15:56.526826Z",
     "iopub.status.busy": "2022-11-20T12:15:56.526044Z",
     "iopub.status.idle": "2022-11-20T12:15:56.528986Z",
     "shell.execute_reply": "2022-11-20T12:15:56.528339Z"
    },
    "papermill": {
     "duration": 0.038354,
     "end_time": "2022-11-20T12:15:56.529135",
     "exception": false,
     "start_time": "2022-11-20T12:15:56.490781",
     "status": "completed"
    },
    "tags": []
   },
   "outputs": [],
   "source": [
    "# hide\n",
    "# g['date'] = g['date'].astype('datetime64[ns]')"
   ]
  },
  {
   "cell_type": "code",
   "execution_count": 34,
   "id": "sophisticated-supervisor",
   "metadata": {
    "execution": {
     "iopub.execute_input": "2022-11-20T12:15:56.600318Z",
     "iopub.status.busy": "2022-11-20T12:15:56.599470Z",
     "iopub.status.idle": "2022-11-20T12:15:56.603873Z",
     "shell.execute_reply": "2022-11-20T12:15:56.603176Z"
    },
    "papermill": {
     "duration": 0.042209,
     "end_time": "2022-11-20T12:15:56.604021",
     "exception": false,
     "start_time": "2022-11-20T12:15:56.561812",
     "status": "completed"
    },
    "tags": []
   },
   "outputs": [],
   "source": [
    "#hide\n",
    "# g['date'] = g.date.dt.dayofyear"
   ]
  },
  {
   "cell_type": "code",
   "execution_count": 35,
   "id": "inside-dubai",
   "metadata": {
    "execution": {
     "iopub.execute_input": "2022-11-20T12:15:56.681239Z",
     "iopub.status.busy": "2022-11-20T12:15:56.680549Z",
     "iopub.status.idle": "2022-11-20T12:15:56.683777Z",
     "shell.execute_reply": "2022-11-20T12:15:56.683238Z"
    },
    "papermill": {
     "duration": 0.041293,
     "end_time": "2022-11-20T12:15:56.683895",
     "exception": false,
     "start_time": "2022-11-20T12:15:56.642602",
     "status": "completed"
    },
    "tags": []
   },
   "outputs": [],
   "source": [
    "#hide\n",
    "# g = g.rename(columns= {'continent':'group','country':'name','cases':'value'})"
   ]
  },
  {
   "cell_type": "code",
   "execution_count": 36,
   "id": "fleet-motorcycle",
   "metadata": {
    "execution": {
     "iopub.execute_input": "2022-11-20T12:15:56.754509Z",
     "iopub.status.busy": "2022-11-20T12:15:56.753843Z",
     "iopub.status.idle": "2022-11-20T12:15:56.758342Z",
     "shell.execute_reply": "2022-11-20T12:15:56.757821Z"
    },
    "papermill": {
     "duration": 0.040309,
     "end_time": "2022-11-20T12:15:56.758472",
     "exception": false,
     "start_time": "2022-11-20T12:15:56.718163",
     "status": "completed"
    },
    "tags": []
   },
   "outputs": [],
   "source": [
    "#hide\n",
    "# cols = ['name','group','day','value']"
   ]
  },
  {
   "cell_type": "code",
   "execution_count": 37,
   "id": "continued-sleeping",
   "metadata": {
    "execution": {
     "iopub.execute_input": "2022-11-20T12:15:56.828731Z",
     "iopub.status.busy": "2022-11-20T12:15:56.827874Z",
     "iopub.status.idle": "2022-11-20T12:15:56.830571Z",
     "shell.execute_reply": "2022-11-20T12:15:56.829811Z"
    },
    "papermill": {
     "duration": 0.038971,
     "end_time": "2022-11-20T12:15:56.830713",
     "exception": false,
     "start_time": "2022-11-20T12:15:56.791742",
     "status": "completed"
    },
    "tags": []
   },
   "outputs": [],
   "source": [
    "#hide\n",
    "# g.rename(columns= {'date':'day'},inplace = True)"
   ]
  },
  {
   "cell_type": "code",
   "execution_count": 38,
   "id": "major-fight",
   "metadata": {
    "execution": {
     "iopub.execute_input": "2022-11-20T12:15:56.905956Z",
     "iopub.status.busy": "2022-11-20T12:15:56.905133Z",
     "iopub.status.idle": "2022-11-20T12:15:56.909258Z",
     "shell.execute_reply": "2022-11-20T12:15:56.909758Z"
    },
    "papermill": {
     "duration": 0.043398,
     "end_time": "2022-11-20T12:15:56.909905",
     "exception": false,
     "start_time": "2022-11-20T12:15:56.866507",
     "status": "completed"
    },
    "tags": []
   },
   "outputs": [],
   "source": [
    "#hide\n",
    "# g = g[cols]"
   ]
  },
  {
   "cell_type": "code",
   "execution_count": 39,
   "id": "structured-mobile",
   "metadata": {
    "execution": {
     "iopub.execute_input": "2022-11-20T12:15:56.979762Z",
     "iopub.status.busy": "2022-11-20T12:15:56.979132Z",
     "iopub.status.idle": "2022-11-20T12:15:56.981281Z",
     "shell.execute_reply": "2022-11-20T12:15:56.980623Z"
    },
    "papermill": {
     "duration": 0.038263,
     "end_time": "2022-11-20T12:15:56.981398",
     "exception": false,
     "start_time": "2022-11-20T12:15:56.943135",
     "status": "completed"
    },
    "tags": []
   },
   "outputs": [],
   "source": [
    "# #hide\n",
    "# g = g[g.group.notna()]"
   ]
  },
  {
   "cell_type": "code",
   "execution_count": 40,
   "id": "determined-closing",
   "metadata": {
    "execution": {
     "iopub.execute_input": "2022-11-20T12:15:57.048687Z",
     "iopub.status.busy": "2022-11-20T12:15:57.047988Z",
     "iopub.status.idle": "2022-11-20T12:15:57.051331Z",
     "shell.execute_reply": "2022-11-20T12:15:57.050680Z"
    },
    "papermill": {
     "duration": 0.038018,
     "end_time": "2022-11-20T12:15:57.051455",
     "exception": false,
     "start_time": "2022-11-20T12:15:57.013437",
     "status": "completed"
    },
    "tags": []
   },
   "outputs": [],
   "source": [
    "# #hide\n",
    "# colors = dict(zip(\n",
    "#     [\"Oceania\", \"Europe\", \"Asia\", \"South America\", \"Middle East\", \"North America\", \"Africa\"],\n",
    "#     [\"#adb0ff\", \"#ffb3ff\", \"#90d595\", \"#e48381\", \"#aafbff\", \"#f7bb5f\", \"#eafb50\"]\n",
    "# ))\n",
    "# group_lk = g.set_index('name')['group'].to_dict()"
   ]
  },
  {
   "cell_type": "code",
   "execution_count": null,
   "id": "gross-drinking",
   "metadata": {
    "papermill": {
     "duration": 0.033951,
     "end_time": "2022-11-20T12:15:57.120160",
     "exception": false,
     "start_time": "2022-11-20T12:15:57.086209",
     "status": "completed"
    },
    "tags": []
   },
   "outputs": [],
   "source": []
  },
  {
   "cell_type": "code",
   "execution_count": 41,
   "id": "subject-macintosh",
   "metadata": {
    "execution": {
     "iopub.execute_input": "2022-11-20T12:15:57.190769Z",
     "iopub.status.busy": "2022-11-20T12:15:57.189963Z",
     "iopub.status.idle": "2022-11-20T12:15:57.193374Z",
     "shell.execute_reply": "2022-11-20T12:15:57.193877Z"
    },
    "papermill": {
     "duration": 0.040703,
     "end_time": "2022-11-20T12:15:57.194027",
     "exception": false,
     "start_time": "2022-11-20T12:15:57.153324",
     "status": "completed"
    },
    "tags": []
   },
   "outputs": [],
   "source": [
    "# #hide\n",
    "# fig, ax = plt.subplots(figsize=(15, 8))\n",
    "\n",
    "# def draw_barchart(current_day):\n",
    "#     dff = g[g['day'].eq(current_day)].sort_values(by='value', ascending=True).tail(10)\n",
    "#     ax.clear()\n",
    "#     ax.barh(dff['name'], dff['value'], color=[colors[group_lk[x]] for x in dff['name']])\n",
    "#     dx = dff['value'].max() / 200\n",
    "    \n",
    "#     for i, (value, name) in enumerate(zip(dff['value'], dff['name'])):\n",
    "#         ax.text(value-dx, i,     name,           size=14, weight=600, ha='right', va='bottom')\n",
    "#         ax.text(value-dx, i-.25, group_lk[name], size=10, color='#444444', ha='right', va='baseline')\n",
    "#         ax.text(value+dx, i,     f'{value:,.0f}',  size=14, ha='left',  va='center')\n",
    "#     ax.text(1, 0.4, current_day, transform=ax.transAxes, color='#777777', size=46, ha='right', weight=800)\n",
    "#     ax.text(0, 1.06, 'Population (thousands)', transform=ax.transAxes, size=12, color='#777777')\n",
    "#     ax.xaxis.set_major_formatter(ticker.StrMethodFormatter('{x:,.0f}'))\n",
    "#     ax.xaxis.set_ticks_position('top')\n",
    "#     ax.tick_params(axis='x', colors='#777777', labelsize=12)\n",
    "#     ax.set_yticks([])\n",
    "#     ax.margins(0, 0.01)\n",
    "#     ax.grid(which='major', axis='x', linestyle='-')\n",
    "#     ax.set_axisbelow(True)\n",
    "    \n",
    "#     ax.text(0, 1.15, 'Coronavirus',\n",
    "#             transform=ax.transAxes, size=24, weight=600, ha='left', va='top')\n",
    "# #     ax.text(1, 0, 'by @pratapvardhan; credit @jburnmurdoch', transform=ax.transAxes, color='#777777', ha='right',\n",
    "# #             bbox=dict(facecolor='white', alpha=0.8, edgecolor='white'))\n",
    "#     plt.box(False)"
   ]
  },
  {
   "cell_type": "code",
   "execution_count": 42,
   "id": "sexual-wages",
   "metadata": {
    "execution": {
     "iopub.execute_input": "2022-11-20T12:15:57.265906Z",
     "iopub.status.busy": "2022-11-20T12:15:57.265103Z",
     "iopub.status.idle": "2022-11-20T12:15:57.267122Z",
     "shell.execute_reply": "2022-11-20T12:15:57.267731Z"
    },
    "papermill": {
     "duration": 0.040242,
     "end_time": "2022-11-20T12:15:57.267898",
     "exception": false,
     "start_time": "2022-11-20T12:15:57.227656",
     "status": "completed"
    },
    "tags": []
   },
   "outputs": [],
   "source": [
    "# #hide_input\n",
    "# fig, ax = plt.subplots(figsize=(15, 8))\n",
    "# animator = animation.FuncAnimation(fig, draw_barchart, frames=range(g.day.values.min(), g.day.values.max()))\n",
    "# HTML(animator.to_jshtml())\n",
    "# # or use animator.to_html5_video() or animator.save() "
   ]
  },
  {
   "cell_type": "code",
   "execution_count": null,
   "id": "australian-container",
   "metadata": {
    "papermill": {
     "duration": 0.032286,
     "end_time": "2022-11-20T12:15:57.334748",
     "exception": false,
     "start_time": "2022-11-20T12:15:57.302462",
     "status": "completed"
    },
    "tags": []
   },
   "outputs": [],
   "source": []
  },
  {
   "cell_type": "code",
   "execution_count": null,
   "id": "mediterranean-pontiac",
   "metadata": {
    "papermill": {
     "duration": 0.032275,
     "end_time": "2022-11-20T12:15:57.398374",
     "exception": false,
     "start_time": "2022-11-20T12:15:57.366099",
     "status": "completed"
    },
    "tags": []
   },
   "outputs": [],
   "source": []
  },
  {
   "cell_type": "code",
   "execution_count": null,
   "id": "aging-legislature",
   "metadata": {
    "papermill": {
     "duration": 0.031059,
     "end_time": "2022-11-20T12:15:57.460988",
     "exception": false,
     "start_time": "2022-11-20T12:15:57.429929",
     "status": "completed"
    },
    "tags": []
   },
   "outputs": [],
   "source": []
  }
 ],
 "metadata": {
  "kernelspec": {
   "display_name": "Python 3",
   "language": "python",
   "name": "python3"
  },
  "language_info": {
   "codemirror_mode": {
    "name": "ipython",
    "version": 3
   },
   "file_extension": ".py",
   "mimetype": "text/x-python",
   "name": "python",
   "nbconvert_exporter": "python",
   "pygments_lexer": "ipython3",
   "version": "3.6.15"
  },
  "papermill": {
   "duration": 6.720486,
   "end_time": "2022-11-20T12:15:57.810849",
   "environment_variables": {},
   "exception": null,
   "input_path": "2020-03-21-covid19exp.ipynb",
   "output_path": "2020-03-21-covid19exp.ipynb",
   "parameters": {},
   "start_time": "2022-11-20T12:15:51.090363",
   "version": "2.0.0"
  }
 },
 "nbformat": 4,
 "nbformat_minor": 5
}