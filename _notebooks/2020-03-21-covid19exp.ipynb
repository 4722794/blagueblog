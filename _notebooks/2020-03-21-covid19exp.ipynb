{
 "cells": [
  {
   "cell_type": "markdown",
   "id": "muslim-click",
   "metadata": {
    "papermill": {
     "duration": 0.035553,
     "end_time": "2022-09-15T00:53:58.726549",
     "exception": false,
     "start_time": "2022-09-15T00:53:58.690996",
     "status": "completed"
    },
    "tags": []
   },
   "source": [
    "# COVID-19 Case Race\n",
    "> A race chart to see rising cases around the world\n",
    "\n",
    "- author: Hargun Oberoi\n",
    "- image: images/covid-overview.png\n",
    "- hide: false\n",
    "- badges: false"
   ]
  },
  {
   "cell_type": "code",
   "execution_count": 1,
   "id": "proof-material",
   "metadata": {
    "execution": {
     "iopub.execute_input": "2022-09-15T00:53:58.796590Z",
     "iopub.status.busy": "2022-09-15T00:53:58.795994Z",
     "iopub.status.idle": "2022-09-15T00:53:59.107192Z",
     "shell.execute_reply": "2022-09-15T00:53:59.106699Z"
    },
    "papermill": {
     "duration": 0.35022,
     "end_time": "2022-09-15T00:53:59.107323",
     "exception": false,
     "start_time": "2022-09-15T00:53:58.757103",
     "status": "completed"
    },
    "tags": []
   },
   "outputs": [],
   "source": [
    "#hide\n",
    "import numpy as np\n",
    "import pandas as pd\n",
    "from jinja2 import Template\n",
    "from IPython.display import HTML"
   ]
  },
  {
   "cell_type": "code",
   "execution_count": 2,
   "id": "developed-terminology",
   "metadata": {
    "execution": {
     "iopub.execute_input": "2022-09-15T00:53:59.177588Z",
     "iopub.status.busy": "2022-09-15T00:53:59.177010Z",
     "iopub.status.idle": "2022-09-15T00:53:59.178921Z",
     "shell.execute_reply": "2022-09-15T00:53:59.179358Z"
    },
    "papermill": {
     "duration": 0.038632,
     "end_time": "2022-09-15T00:53:59.179473",
     "exception": false,
     "start_time": "2022-09-15T00:53:59.140841",
     "status": "completed"
    },
    "tags": []
   },
   "outputs": [],
   "source": [
    "#hide\n",
    "\n",
    "# FETCH\n",
    "base_url = 'https://raw.githubusercontent.com/pratapvardhan/notebooks/master/covid19/'\n",
    "paths = {\n",
    "    'mapping': base_url + 'mapping_countries.csv',\n",
    "    'overview': base_url + 'overview.tpl'\n",
    "}"
   ]
  },
  {
   "cell_type": "code",
   "execution_count": 3,
   "id": "dynamic-saver",
   "metadata": {
    "execution": {
     "iopub.execute_input": "2022-09-15T00:53:59.247741Z",
     "iopub.status.busy": "2022-09-15T00:53:59.246523Z",
     "iopub.status.idle": "2022-09-15T00:53:59.250497Z",
     "shell.execute_reply": "2022-09-15T00:53:59.250942Z"
    },
    "papermill": {
     "duration": 0.041898,
     "end_time": "2022-09-15T00:53:59.251055",
     "exception": false,
     "start_time": "2022-09-15T00:53:59.209157",
     "status": "completed"
    },
    "tags": []
   },
   "outputs": [
    {
     "data": {
      "text/plain": [
       "'https://raw.githubusercontent.com/pratapvardhan/notebooks/master/covid19/mapping_countries.csv'"
      ]
     },
     "execution_count": 3,
     "metadata": {},
     "output_type": "execute_result"
    }
   ],
   "source": [
    "#hide\n",
    "paths['mapping']"
   ]
  },
  {
   "cell_type": "code",
   "execution_count": 4,
   "id": "urban-software",
   "metadata": {
    "execution": {
     "iopub.execute_input": "2022-09-15T00:53:59.316553Z",
     "iopub.status.busy": "2022-09-15T00:53:59.315958Z",
     "iopub.status.idle": "2022-09-15T00:53:59.318028Z",
     "shell.execute_reply": "2022-09-15T00:53:59.318437Z"
    },
    "papermill": {
     "duration": 0.037356,
     "end_time": "2022-09-15T00:53:59.318557",
     "exception": false,
     "start_time": "2022-09-15T00:53:59.281201",
     "status": "completed"
    },
    "tags": []
   },
   "outputs": [],
   "source": [
    "#hide\n",
    "def get_mappings(url):\n",
    "    df = pd.read_csv(url)\n",
    "    return {\n",
    "        'df': df,\n",
    "        'replace.country': dict(df.dropna(subset=['Name']).set_index('Country')['Name']),\n",
    "        'map.continent': dict(df.set_index('Name')['Continent'])\n",
    "    }"
   ]
  },
  {
   "cell_type": "code",
   "execution_count": 5,
   "id": "intimate-machinery",
   "metadata": {
    "execution": {
     "iopub.execute_input": "2022-09-15T00:53:59.384067Z",
     "iopub.status.busy": "2022-09-15T00:53:59.383478Z",
     "iopub.status.idle": "2022-09-15T00:53:59.420761Z",
     "shell.execute_reply": "2022-09-15T00:53:59.420293Z"
    },
    "papermill": {
     "duration": 0.072239,
     "end_time": "2022-09-15T00:53:59.420875",
     "exception": false,
     "start_time": "2022-09-15T00:53:59.348636",
     "status": "completed"
    },
    "tags": []
   },
   "outputs": [],
   "source": [
    "#hide\n",
    "mapping = get_mappings(paths['mapping'])"
   ]
  },
  {
   "cell_type": "code",
   "execution_count": 6,
   "id": "certified-tactics",
   "metadata": {
    "execution": {
     "iopub.execute_input": "2022-09-15T00:53:59.486921Z",
     "iopub.status.busy": "2022-09-15T00:53:59.486363Z",
     "iopub.status.idle": "2022-09-15T00:53:59.488379Z",
     "shell.execute_reply": "2022-09-15T00:53:59.488807Z"
    },
    "papermill": {
     "duration": 0.037862,
     "end_time": "2022-09-15T00:53:59.488923",
     "exception": false,
     "start_time": "2022-09-15T00:53:59.451061",
     "status": "completed"
    },
    "tags": []
   },
   "outputs": [],
   "source": [
    "#hide\n",
    "def get_template(path):\n",
    "    from urllib.parse import urlparse\n",
    "    if bool(urlparse(path).netloc):\n",
    "        from urllib.request import urlopen\n",
    "        return urlopen(path).read().decode('utf8')\n",
    "    return open(path).read()"
   ]
  },
  {
   "cell_type": "code",
   "execution_count": 7,
   "id": "realistic-blast",
   "metadata": {
    "execution": {
     "iopub.execute_input": "2022-09-15T00:53:59.553865Z",
     "iopub.status.busy": "2022-09-15T00:53:59.553283Z",
     "iopub.status.idle": "2022-09-15T00:53:59.555756Z",
     "shell.execute_reply": "2022-09-15T00:53:59.555308Z"
    },
    "papermill": {
     "duration": 0.036837,
     "end_time": "2022-09-15T00:53:59.555857",
     "exception": false,
     "start_time": "2022-09-15T00:53:59.519020",
     "status": "completed"
    },
    "tags": []
   },
   "outputs": [],
   "source": [
    "#hide\n",
    "def get_frame(name):\n",
    "    url = (\n",
    "        'https://raw.githubusercontent.com/CSSEGISandData/COVID-19/master/csse_covid_19_data/'\n",
    "        f'csse_covid_19_time_series/time_series_covid19_{name}_global.csv')\n",
    "    df = pd.read_csv(url)\n",
    "    # rename countries\n",
    "    df['Country/Region'] = df['Country/Region'].replace(mapping['replace.country'])\n",
    "    return df"
   ]
  },
  {
   "cell_type": "code",
   "execution_count": 8,
   "id": "affiliated-characterization",
   "metadata": {
    "execution": {
     "iopub.execute_input": "2022-09-15T00:53:59.621771Z",
     "iopub.status.busy": "2022-09-15T00:53:59.621170Z",
     "iopub.status.idle": "2022-09-15T00:53:59.623583Z",
     "shell.execute_reply": "2022-09-15T00:53:59.623128Z"
    },
    "papermill": {
     "duration": 0.037636,
     "end_time": "2022-09-15T00:53:59.623688",
     "exception": false,
     "start_time": "2022-09-15T00:53:59.586052",
     "status": "completed"
    },
    "tags": []
   },
   "outputs": [],
   "source": [
    "#hide\n",
    "def get_dates(df):\n",
    "    dt_cols = df.columns[~df.columns.isin(['Province/State', 'Country/Region', 'Lat', 'Long'])]\n",
    "    LAST_DATE_I = -1\n",
    "    # sometimes last column may be empty, then go backwards\n",
    "    for i in range(-1, -len(dt_cols), -1):\n",
    "        if not df[dt_cols[i]].fillna(0).eq(0).all():\n",
    "            LAST_DATE_I = i\n",
    "            break\n",
    "    return LAST_DATE_I, dt_cols"
   ]
  },
  {
   "cell_type": "code",
   "execution_count": 9,
   "id": "recent-optimization",
   "metadata": {
    "execution": {
     "iopub.execute_input": "2022-09-15T00:53:59.688451Z",
     "iopub.status.busy": "2022-09-15T00:53:59.687856Z",
     "iopub.status.idle": "2022-09-15T00:54:00.184764Z",
     "shell.execute_reply": "2022-09-15T00:54:00.183663Z"
    },
    "papermill": {
     "duration": 0.531142,
     "end_time": "2022-09-15T00:54:00.184891",
     "exception": false,
     "start_time": "2022-09-15T00:53:59.653749",
     "status": "completed"
    },
    "tags": []
   },
   "outputs": [],
   "source": [
    "#hide\n",
    "COL_REGION = 'Country/Region'\n",
    "# Confirmed, Recovered, Deaths\n",
    "df = get_frame('confirmed')\n",
    "# dft_: timeseries, dfc_: today country agg\n",
    "dft_cases = df\n",
    "dft_deaths = get_frame('deaths')\n",
    "dft_recovered = get_frame('recovered')\n",
    "LAST_DATE_I, dt_cols = get_dates(df)"
   ]
  },
  {
   "cell_type": "code",
   "execution_count": 10,
   "id": "absolute-copper",
   "metadata": {
    "execution": {
     "iopub.execute_input": "2022-09-15T00:54:00.250639Z",
     "iopub.status.busy": "2022-09-15T00:54:00.250073Z",
     "iopub.status.idle": "2022-09-15T00:54:00.252210Z",
     "shell.execute_reply": "2022-09-15T00:54:00.251720Z"
    },
    "papermill": {
     "duration": 0.036893,
     "end_time": "2022-09-15T00:54:00.252314",
     "exception": false,
     "start_time": "2022-09-15T00:54:00.215421",
     "status": "completed"
    },
    "tags": []
   },
   "outputs": [],
   "source": [
    "#hide\n",
    "LAST_DATE_I, dt_cols = get_dates(df)\n",
    "dt_today =dt_cols[LAST_DATE_I]\n",
    "# dt_5day = dt_cols[LAST_DATE_I - 5]\n",
    "dt_yday = dt_cols[LAST_DATE_I - 1]"
   ]
  },
  {
   "cell_type": "code",
   "execution_count": 11,
   "id": "restricted-sheriff",
   "metadata": {
    "execution": {
     "iopub.execute_input": "2022-09-15T00:54:00.317318Z",
     "iopub.status.busy": "2022-09-15T00:54:00.316752Z",
     "iopub.status.idle": "2022-09-15T00:54:00.324368Z",
     "shell.execute_reply": "2022-09-15T00:54:00.323892Z"
    },
    "papermill": {
     "duration": 0.042185,
     "end_time": "2022-09-15T00:54:00.324470",
     "exception": false,
     "start_time": "2022-09-15T00:54:00.282285",
     "status": "completed"
    },
    "tags": []
   },
   "outputs": [],
   "source": [
    "#hide\n",
    "dfc_cases = dft_cases.groupby(COL_REGION)[dt_today].sum()\n",
    "dfc_deaths = dft_deaths.groupby(COL_REGION)[dt_today].sum()\n",
    "# dfp_cases = dft_cases.groupby(COL_REGION)[dt_5day].sum()\n",
    "# dfp_deaths = dft_deaths.groupby(COL_REGION)[dt_5day].sum()\n",
    "dfp_cases = dft_cases.groupby(COL_REGION)[dt_yday].sum()\n",
    "dfp_deaths = dft_deaths.groupby(COL_REGION)[dt_yday].sum()"
   ]
  },
  {
   "cell_type": "code",
   "execution_count": 12,
   "id": "deluxe-hepatitis",
   "metadata": {
    "execution": {
     "iopub.execute_input": "2022-09-15T00:54:00.390760Z",
     "iopub.status.busy": "2022-09-15T00:54:00.390196Z",
     "iopub.status.idle": "2022-09-15T00:54:00.394937Z",
     "shell.execute_reply": "2022-09-15T00:54:00.394490Z"
    },
    "papermill": {
     "duration": 0.040488,
     "end_time": "2022-09-15T00:54:00.395040",
     "exception": false,
     "start_time": "2022-09-15T00:54:00.354552",
     "status": "completed"
    },
    "tags": []
   },
   "outputs": [],
   "source": [
    "#hide\n",
    "df_table = (pd.DataFrame(dict(Cases = dfc_cases, Deaths = dfc_deaths, PCases = dfp_cases, PDeaths = dfp_deaths))\n",
    "            .sort_values(by = ['Cases','Deaths'], ascending = [False, False])\n",
    "            .reset_index())"
   ]
  },
  {
   "cell_type": "code",
   "execution_count": 13,
   "id": "educational-chancellor",
   "metadata": {
    "execution": {
     "iopub.execute_input": "2022-09-15T00:54:00.468178Z",
     "iopub.status.busy": "2022-09-15T00:54:00.467590Z",
     "iopub.status.idle": "2022-09-15T00:54:00.479554Z",
     "shell.execute_reply": "2022-09-15T00:54:00.479093Z"
    },
    "papermill": {
     "duration": 0.054604,
     "end_time": "2022-09-15T00:54:00.479657",
     "exception": false,
     "start_time": "2022-09-15T00:54:00.425053",
     "status": "completed"
    },
    "tags": []
   },
   "outputs": [
    {
     "data": {
      "text/html": [
       "<div>\n",
       "<style scoped>\n",
       "    .dataframe tbody tr th:only-of-type {\n",
       "        vertical-align: middle;\n",
       "    }\n",
       "\n",
       "    .dataframe tbody tr th {\n",
       "        vertical-align: top;\n",
       "    }\n",
       "\n",
       "    .dataframe thead th {\n",
       "        text-align: right;\n",
       "    }\n",
       "</style>\n",
       "<table border=\"1\" class=\"dataframe\">\n",
       "  <thead>\n",
       "    <tr style=\"text-align: right;\">\n",
       "      <th></th>\n",
       "      <th>Country/Region</th>\n",
       "      <th>Cases</th>\n",
       "      <th>Deaths</th>\n",
       "      <th>PCases</th>\n",
       "      <th>PDeaths</th>\n",
       "      <th>Cases (+)</th>\n",
       "      <th>Deaths (+)</th>\n",
       "      <th>Fatality Rate</th>\n",
       "      <th>Continent</th>\n",
       "    </tr>\n",
       "  </thead>\n",
       "  <tbody>\n",
       "    <tr>\n",
       "      <th>0</th>\n",
       "      <td>US</td>\n",
       "      <td>95387022</td>\n",
       "      <td>1051277</td>\n",
       "      <td>95323022</td>\n",
       "      <td>1050768</td>\n",
       "      <td>64000</td>\n",
       "      <td>509</td>\n",
       "      <td>1.10</td>\n",
       "      <td>North America</td>\n",
       "    </tr>\n",
       "    <tr>\n",
       "      <th>1</th>\n",
       "      <td>India</td>\n",
       "      <td>44510057</td>\n",
       "      <td>528216</td>\n",
       "      <td>44502363</td>\n",
       "      <td>528185</td>\n",
       "      <td>7694</td>\n",
       "      <td>31</td>\n",
       "      <td>1.19</td>\n",
       "      <td>Asia</td>\n",
       "    </tr>\n",
       "    <tr>\n",
       "      <th>2</th>\n",
       "      <td>France</td>\n",
       "      <td>34985401</td>\n",
       "      <td>155633</td>\n",
       "      <td>34939449</td>\n",
       "      <td>155569</td>\n",
       "      <td>45952</td>\n",
       "      <td>64</td>\n",
       "      <td>0.44</td>\n",
       "      <td>Europe</td>\n",
       "    </tr>\n",
       "    <tr>\n",
       "      <th>3</th>\n",
       "      <td>Brazil</td>\n",
       "      <td>34544377</td>\n",
       "      <td>685002</td>\n",
       "      <td>34533957</td>\n",
       "      <td>684898</td>\n",
       "      <td>10420</td>\n",
       "      <td>104</td>\n",
       "      <td>1.98</td>\n",
       "      <td>South America</td>\n",
       "    </tr>\n",
       "    <tr>\n",
       "      <th>4</th>\n",
       "      <td>Germany</td>\n",
       "      <td>32558479</td>\n",
       "      <td>148498</td>\n",
       "      <td>32507180</td>\n",
       "      <td>148389</td>\n",
       "      <td>51299</td>\n",
       "      <td>109</td>\n",
       "      <td>0.46</td>\n",
       "      <td>Europe</td>\n",
       "    </tr>\n",
       "  </tbody>\n",
       "</table>\n",
       "</div>"
      ],
      "text/plain": [
       "  Country/Region     Cases   Deaths    PCases  PDeaths  Cases (+)  Deaths (+)  \\\n",
       "0             US  95387022  1051277  95323022  1050768      64000         509   \n",
       "1          India  44510057   528216  44502363   528185       7694          31   \n",
       "2         France  34985401   155633  34939449   155569      45952          64   \n",
       "3         Brazil  34544377   685002  34533957   684898      10420         104   \n",
       "4        Germany  32558479   148498  32507180   148389      51299         109   \n",
       "\n",
       "   Fatality Rate      Continent  \n",
       "0           1.10  North America  \n",
       "1           1.19           Asia  \n",
       "2           0.44         Europe  \n",
       "3           1.98  South America  \n",
       "4           0.46         Europe  "
      ]
     },
     "execution_count": 13,
     "metadata": {},
     "output_type": "execute_result"
    }
   ],
   "source": [
    "#hide\n",
    "for c in 'Cases, Deaths'.split(', '):\n",
    "    df_table[f'{c} (+)'] = (df_table[c] - df_table[f'P{c}']).clip(0)\n",
    "    #Clip ça veut dire, les chiffres negatif sont interdit\n",
    "df_table['Fatality Rate'] = (100* df_table['Deaths']/ df_table['Cases']).round(2)\n",
    "df_table['Continent'] = df_table['Country/Region'].map(mapping['map.continent'])\n",
    "df_table.head(5)"
   ]
  },
  {
   "cell_type": "code",
   "execution_count": 14,
   "id": "aboriginal-bulgaria",
   "metadata": {
    "execution": {
     "iopub.execute_input": "2022-09-15T00:54:00.546020Z",
     "iopub.status.busy": "2022-09-15T00:54:00.545455Z",
     "iopub.status.idle": "2022-09-15T00:54:00.548183Z",
     "shell.execute_reply": "2022-09-15T00:54:00.547717Z"
    },
    "papermill": {
     "duration": 0.037972,
     "end_time": "2022-09-15T00:54:00.548284",
     "exception": false,
     "start_time": "2022-09-15T00:54:00.510312",
     "status": "completed"
    },
    "tags": []
   },
   "outputs": [],
   "source": [
    "#hide\n",
    "#delete problematic countries from table\n",
    "df_table = df_table[~df_table['Country/Region'].isin(['Cape Verde', 'Cruise Ship', 'Kosovo'])]"
   ]
  },
  {
   "cell_type": "code",
   "execution_count": 15,
   "id": "fantastic-effect",
   "metadata": {
    "execution": {
     "iopub.execute_input": "2022-09-15T00:54:00.616772Z",
     "iopub.status.busy": "2022-09-15T00:54:00.616197Z",
     "iopub.status.idle": "2022-09-15T00:54:00.633246Z",
     "shell.execute_reply": "2022-09-15T00:54:00.633656Z"
    },
    "papermill": {
     "duration": 0.055128,
     "end_time": "2022-09-15T00:54:00.633779",
     "exception": false,
     "start_time": "2022-09-15T00:54:00.578651",
     "status": "completed"
    },
    "tags": []
   },
   "outputs": [
    {
     "data": {
      "text/html": [
       "<div>\n",
       "<style scoped>\n",
       "    .dataframe tbody tr th:only-of-type {\n",
       "        vertical-align: middle;\n",
       "    }\n",
       "\n",
       "    .dataframe tbody tr th {\n",
       "        vertical-align: top;\n",
       "    }\n",
       "\n",
       "    .dataframe thead th {\n",
       "        text-align: right;\n",
       "    }\n",
       "</style>\n",
       "<table border=\"1\" class=\"dataframe\">\n",
       "  <thead>\n",
       "    <tr style=\"text-align: right;\">\n",
       "      <th></th>\n",
       "      <th>Country/Region</th>\n",
       "      <th>Cases</th>\n",
       "      <th>Deaths</th>\n",
       "      <th>PCases</th>\n",
       "      <th>PDeaths</th>\n",
       "      <th>Cases (+)</th>\n",
       "      <th>Deaths (+)</th>\n",
       "      <th>Fatality Rate</th>\n",
       "      <th>Continent</th>\n",
       "    </tr>\n",
       "  </thead>\n",
       "  <tbody>\n",
       "    <tr>\n",
       "      <th>0</th>\n",
       "      <td>US</td>\n",
       "      <td>95387022</td>\n",
       "      <td>1051277</td>\n",
       "      <td>95323022</td>\n",
       "      <td>1050768</td>\n",
       "      <td>64000</td>\n",
       "      <td>509</td>\n",
       "      <td>1.1</td>\n",
       "      <td>North America</td>\n",
       "    </tr>\n",
       "    <tr>\n",
       "      <th>1</th>\n",
       "      <td>India</td>\n",
       "      <td>44510057</td>\n",
       "      <td>528216</td>\n",
       "      <td>44502363</td>\n",
       "      <td>528185</td>\n",
       "      <td>7694</td>\n",
       "      <td>31</td>\n",
       "      <td>1.2</td>\n",
       "      <td>Asia</td>\n",
       "    </tr>\n",
       "    <tr>\n",
       "      <th>2</th>\n",
       "      <td>France</td>\n",
       "      <td>34985401</td>\n",
       "      <td>155633</td>\n",
       "      <td>34939449</td>\n",
       "      <td>155569</td>\n",
       "      <td>45952</td>\n",
       "      <td>64</td>\n",
       "      <td>0.4</td>\n",
       "      <td>Europe</td>\n",
       "    </tr>\n",
       "    <tr>\n",
       "      <th>3</th>\n",
       "      <td>Brazil</td>\n",
       "      <td>34544377</td>\n",
       "      <td>685002</td>\n",
       "      <td>34533957</td>\n",
       "      <td>684898</td>\n",
       "      <td>10420</td>\n",
       "      <td>104</td>\n",
       "      <td>2.0</td>\n",
       "      <td>South America</td>\n",
       "    </tr>\n",
       "    <tr>\n",
       "      <th>4</th>\n",
       "      <td>Germany</td>\n",
       "      <td>32558479</td>\n",
       "      <td>148498</td>\n",
       "      <td>32507180</td>\n",
       "      <td>148389</td>\n",
       "      <td>51299</td>\n",
       "      <td>109</td>\n",
       "      <td>0.5</td>\n",
       "      <td>Europe</td>\n",
       "    </tr>\n",
       "  </tbody>\n",
       "</table>\n",
       "</div>"
      ],
      "text/plain": [
       "  Country/Region     Cases   Deaths    PCases  PDeaths  Cases (+)  Deaths (+)  \\\n",
       "0             US  95387022  1051277  95323022  1050768      64000         509   \n",
       "1          India  44510057   528216  44502363   528185       7694          31   \n",
       "2         France  34985401   155633  34939449   155569      45952          64   \n",
       "3         Brazil  34544377   685002  34533957   684898      10420         104   \n",
       "4        Germany  32558479   148498  32507180   148389      51299         109   \n",
       "\n",
       "   Fatality Rate      Continent  \n",
       "0            1.1  North America  \n",
       "1            1.2           Asia  \n",
       "2            0.4         Europe  \n",
       "3            2.0  South America  \n",
       "4            0.5         Europe  "
      ]
     },
     "execution_count": 15,
     "metadata": {},
     "output_type": "execute_result"
    }
   ],
   "source": [
    "#hide\n",
    "df_table = (pd.DataFrame(dict(Cases=dfc_cases, Deaths=dfc_deaths, PCases=dfp_cases, PDeaths=dfp_deaths))\n",
    "             .sort_values(by=['Cases', 'Deaths'], ascending=[False, False])\n",
    "             .reset_index())\n",
    "df_table.rename(columns={'index': 'Country/Region'}, inplace=True)\n",
    "for c in 'Cases, Deaths'.split(', '):\n",
    "    df_table[f'{c} (+)'] = (df_table[c] - df_table[f'P{c}']).clip(0)  # DATA BUG\n",
    "df_table['Fatality Rate'] = (100 * df_table['Deaths'] / df_table['Cases']).round(1)\n",
    "df_table['Continent'] = df_table['Country/Region'].map(mapping['map.continent'])\n",
    "df_table.head(5)"
   ]
  },
  {
   "cell_type": "code",
   "execution_count": 16,
   "id": "fewer-occasion",
   "metadata": {
    "execution": {
     "iopub.execute_input": "2022-09-15T00:54:00.701148Z",
     "iopub.status.busy": "2022-09-15T00:54:00.700595Z",
     "iopub.status.idle": "2022-09-15T00:54:00.702887Z",
     "shell.execute_reply": "2022-09-15T00:54:00.703328Z"
    },
    "papermill": {
     "duration": 0.038459,
     "end_time": "2022-09-15T00:54:00.703445",
     "exception": false,
     "start_time": "2022-09-15T00:54:00.664986",
     "status": "completed"
    },
    "tags": []
   },
   "outputs": [],
   "source": [
    "#hide\n",
    "#delete problematic countries from table\n",
    "df_table = df_table[~df_table['Country/Region'].isin(['Cape Verde', 'Cruise Ship', 'Kosovo'])]"
   ]
  },
  {
   "cell_type": "code",
   "execution_count": 17,
   "id": "related-center",
   "metadata": {
    "execution": {
     "iopub.execute_input": "2022-09-15T00:54:00.783837Z",
     "iopub.status.busy": "2022-09-15T00:54:00.775696Z",
     "iopub.status.idle": "2022-09-15T00:54:00.786013Z",
     "shell.execute_reply": "2022-09-15T00:54:00.786445Z"
    },
    "papermill": {
     "duration": 0.052156,
     "end_time": "2022-09-15T00:54:00.786571",
     "exception": false,
     "start_time": "2022-09-15T00:54:00.734415",
     "status": "completed"
    },
    "tags": []
   },
   "outputs": [],
   "source": [
    "#hide\n",
    "metrics = [df_table.columns[index] for index in [1,2,5,6]]\n",
    "# s_china = df_table[df_table['Country/Region'].eq('China')][metrics].sum().add_prefix('China ')\n",
    "s_us = df_table[df_table['Country/Region'].eq('US')][metrics].sum().add_prefix('US ')\n",
    "s_eu = df_table[df_table['Continent'].eq('Europe')][metrics].sum().add_prefix('EU ')\n",
    "s_ind = df_table[df_table['Country/Region'].eq('India')][metrics].sum().add_prefix('India ')\n",
    "summary = {'updated': pd.to_datetime(dt_today), 'since': pd.to_datetime(dt_yday)}\n",
    "summary = {'updated': pd.to_datetime(dt_today), 'since': pd.to_datetime(dt_yday)}\n",
    "summary = {**summary, **df_table[metrics].sum(), **s_ind, **s_us, **s_eu}"
   ]
  },
  {
   "cell_type": "code",
   "execution_count": 18,
   "id": "engaging-syndrome",
   "metadata": {
    "execution": {
     "iopub.execute_input": "2022-09-15T00:54:00.853878Z",
     "iopub.status.busy": "2022-09-15T00:54:00.853286Z",
     "iopub.status.idle": "2022-09-15T00:54:00.872485Z",
     "shell.execute_reply": "2022-09-15T00:54:00.872921Z"
    },
    "papermill": {
     "duration": 0.055189,
     "end_time": "2022-09-15T00:54:00.873047",
     "exception": false,
     "start_time": "2022-09-15T00:54:00.817858",
     "status": "completed"
    },
    "tags": []
   },
   "outputs": [],
   "source": [
    "#hide\n",
    "dft_ct_new_cases = dft_cases.groupby(COL_REGION)[dt_cols].sum().diff(axis=1).fillna(0).astype(int)"
   ]
  },
  {
   "cell_type": "code",
   "execution_count": 19,
   "id": "neutral-assignment",
   "metadata": {
    "execution": {
     "iopub.execute_input": "2022-09-15T00:54:00.941265Z",
     "iopub.status.busy": "2022-09-15T00:54:00.940674Z",
     "iopub.status.idle": "2022-09-15T00:54:00.943061Z",
     "shell.execute_reply": "2022-09-15T00:54:00.942526Z"
    },
    "papermill": {
     "duration": 0.039047,
     "end_time": "2022-09-15T00:54:00.943162",
     "exception": false,
     "start_time": "2022-09-15T00:54:00.904115",
     "status": "completed"
    },
    "tags": []
   },
   "outputs": [],
   "source": [
    "#hide\n",
    "everydaycases = dft_ct_new_cases.cumsum(axis=1)"
   ]
  },
  {
   "cell_type": "code",
   "execution_count": 20,
   "id": "parliamentary-calgary",
   "metadata": {
    "execution": {
     "iopub.execute_input": "2022-09-15T00:54:01.010193Z",
     "iopub.status.busy": "2022-09-15T00:54:01.009626Z",
     "iopub.status.idle": "2022-09-15T00:54:01.545634Z",
     "shell.execute_reply": "2022-09-15T00:54:01.545155Z"
    },
    "papermill": {
     "duration": 0.571389,
     "end_time": "2022-09-15T00:54:01.545749",
     "exception": false,
     "start_time": "2022-09-15T00:54:00.974360",
     "status": "completed"
    },
    "tags": []
   },
   "outputs": [],
   "source": [
    "#hide\n",
    "import pandas as pd\n",
    "import matplotlib.pyplot as plt\n",
    "import matplotlib.ticker as ticker\n",
    "import matplotlib.animation as animation\n",
    "from IPython.display import HTML"
   ]
  },
  {
   "cell_type": "code",
   "execution_count": 21,
   "id": "lasting-extraction",
   "metadata": {
    "execution": {
     "iopub.execute_input": "2022-09-15T00:54:01.614095Z",
     "iopub.status.busy": "2022-09-15T00:54:01.613512Z",
     "iopub.status.idle": "2022-09-15T00:54:01.620495Z",
     "shell.execute_reply": "2022-09-15T00:54:01.620055Z"
    },
    "papermill": {
     "duration": 0.043796,
     "end_time": "2022-09-15T00:54:01.620604",
     "exception": false,
     "start_time": "2022-09-15T00:54:01.576808",
     "status": "completed"
    },
    "tags": []
   },
   "outputs": [],
   "source": [
    "#hide\n",
    "t = everydaycases.stack()"
   ]
  },
  {
   "cell_type": "code",
   "execution_count": 22,
   "id": "premier-sleeve",
   "metadata": {
    "execution": {
     "iopub.execute_input": "2022-09-15T00:54:01.687132Z",
     "iopub.status.busy": "2022-09-15T00:54:01.686563Z",
     "iopub.status.idle": "2022-09-15T00:54:01.698101Z",
     "shell.execute_reply": "2022-09-15T00:54:01.697568Z"
    },
    "papermill": {
     "duration": 0.046345,
     "end_time": "2022-09-15T00:54:01.698204",
     "exception": false,
     "start_time": "2022-09-15T00:54:01.651859",
     "status": "completed"
    },
    "tags": []
   },
   "outputs": [],
   "source": [
    "#hide\n",
    "g = t.reset_index(['Country/Region'])"
   ]
  },
  {
   "cell_type": "code",
   "execution_count": 23,
   "id": "distributed-pittsburgh",
   "metadata": {
    "execution": {
     "iopub.execute_input": "2022-09-15T00:54:01.764129Z",
     "iopub.status.busy": "2022-09-15T00:54:01.763525Z",
     "iopub.status.idle": "2022-09-15T00:54:01.765997Z",
     "shell.execute_reply": "2022-09-15T00:54:01.765446Z"
    },
    "papermill": {
     "duration": 0.036904,
     "end_time": "2022-09-15T00:54:01.766099",
     "exception": false,
     "start_time": "2022-09-15T00:54:01.729195",
     "status": "completed"
    },
    "tags": []
   },
   "outputs": [],
   "source": [
    "#hide\n",
    "g.index.name = 'date'"
   ]
  },
  {
   "cell_type": "code",
   "execution_count": 24,
   "id": "naked-donor",
   "metadata": {
    "execution": {
     "iopub.execute_input": "2022-09-15T00:54:01.832225Z",
     "iopub.status.busy": "2022-09-15T00:54:01.831615Z",
     "iopub.status.idle": "2022-09-15T00:54:01.834128Z",
     "shell.execute_reply": "2022-09-15T00:54:01.833688Z"
    },
    "papermill": {
     "duration": 0.036994,
     "end_time": "2022-09-15T00:54:01.834227",
     "exception": false,
     "start_time": "2022-09-15T00:54:01.797233",
     "status": "completed"
    },
    "tags": []
   },
   "outputs": [],
   "source": [
    "# #hide\n",
    "# g = g.reset_index(['date'])"
   ]
  },
  {
   "cell_type": "code",
   "execution_count": 25,
   "id": "incomplete-mustang",
   "metadata": {
    "execution": {
     "iopub.execute_input": "2022-09-15T00:54:01.899764Z",
     "iopub.status.busy": "2022-09-15T00:54:01.899190Z",
     "iopub.status.idle": "2022-09-15T00:54:01.901668Z",
     "shell.execute_reply": "2022-09-15T00:54:01.901201Z"
    },
    "papermill": {
     "duration": 0.036412,
     "end_time": "2022-09-15T00:54:01.901767",
     "exception": false,
     "start_time": "2022-09-15T00:54:01.865355",
     "status": "completed"
    },
    "tags": []
   },
   "outputs": [],
   "source": [
    "#hide\n",
    "# g.head()"
   ]
  },
  {
   "cell_type": "code",
   "execution_count": 26,
   "id": "specific-kruger",
   "metadata": {
    "execution": {
     "iopub.execute_input": "2022-09-15T00:54:01.967826Z",
     "iopub.status.busy": "2022-09-15T00:54:01.967240Z",
     "iopub.status.idle": "2022-09-15T00:54:01.969819Z",
     "shell.execute_reply": "2022-09-15T00:54:01.969287Z"
    },
    "papermill": {
     "duration": 0.037051,
     "end_time": "2022-09-15T00:54:01.969923",
     "exception": false,
     "start_time": "2022-09-15T00:54:01.932872",
     "status": "completed"
    },
    "tags": []
   },
   "outputs": [],
   "source": [
    "#hide\n",
    "# g.columns = ['date','country','cases']"
   ]
  },
  {
   "cell_type": "code",
   "execution_count": 27,
   "id": "tender-conversion",
   "metadata": {
    "execution": {
     "iopub.execute_input": "2022-09-15T00:54:02.035577Z",
     "iopub.status.busy": "2022-09-15T00:54:02.034968Z",
     "iopub.status.idle": "2022-09-15T00:54:02.037418Z",
     "shell.execute_reply": "2022-09-15T00:54:02.036979Z"
    },
    "papermill": {
     "duration": 0.036552,
     "end_time": "2022-09-15T00:54:02.037517",
     "exception": false,
     "start_time": "2022-09-15T00:54:02.000965",
     "status": "completed"
    },
    "tags": []
   },
   "outputs": [],
   "source": [
    "#hide\n",
    "# g['continent'] = g.country"
   ]
  },
  {
   "cell_type": "code",
   "execution_count": 28,
   "id": "substantial-wilderness",
   "metadata": {
    "execution": {
     "iopub.execute_input": "2022-09-15T00:54:02.103811Z",
     "iopub.status.busy": "2022-09-15T00:54:02.103245Z",
     "iopub.status.idle": "2022-09-15T00:54:02.105293Z",
     "shell.execute_reply": "2022-09-15T00:54:02.105713Z"
    },
    "papermill": {
     "duration": 0.036735,
     "end_time": "2022-09-15T00:54:02.105826",
     "exception": false,
     "start_time": "2022-09-15T00:54:02.069091",
     "status": "completed"
    },
    "tags": []
   },
   "outputs": [],
   "source": [
    "#hide\n",
    "# cols = list(g.columns.values)"
   ]
  },
  {
   "cell_type": "code",
   "execution_count": 29,
   "id": "solved-farming",
   "metadata": {
    "execution": {
     "iopub.execute_input": "2022-09-15T00:54:02.171280Z",
     "iopub.status.busy": "2022-09-15T00:54:02.170714Z",
     "iopub.status.idle": "2022-09-15T00:54:02.173101Z",
     "shell.execute_reply": "2022-09-15T00:54:02.172574Z"
    },
    "papermill": {
     "duration": 0.036486,
     "end_time": "2022-09-15T00:54:02.173199",
     "exception": false,
     "start_time": "2022-09-15T00:54:02.136713",
     "status": "completed"
    },
    "tags": []
   },
   "outputs": [],
   "source": [
    "#hide\n",
    "# cols.insert(0, cols.pop())"
   ]
  },
  {
   "cell_type": "code",
   "execution_count": 30,
   "id": "executed-adoption",
   "metadata": {
    "execution": {
     "iopub.execute_input": "2022-09-15T00:54:02.239527Z",
     "iopub.status.busy": "2022-09-15T00:54:02.238953Z",
     "iopub.status.idle": "2022-09-15T00:54:02.241462Z",
     "shell.execute_reply": "2022-09-15T00:54:02.241025Z"
    },
    "papermill": {
     "duration": 0.037262,
     "end_time": "2022-09-15T00:54:02.241559",
     "exception": false,
     "start_time": "2022-09-15T00:54:02.204297",
     "status": "completed"
    },
    "tags": []
   },
   "outputs": [],
   "source": [
    "#hide\n",
    "# g = g[cols]"
   ]
  },
  {
   "cell_type": "code",
   "execution_count": 31,
   "id": "subject-dublin",
   "metadata": {
    "execution": {
     "iopub.execute_input": "2022-09-15T00:54:02.307000Z",
     "iopub.status.busy": "2022-09-15T00:54:02.306445Z",
     "iopub.status.idle": "2022-09-15T00:54:02.308705Z",
     "shell.execute_reply": "2022-09-15T00:54:02.308269Z"
    },
    "papermill": {
     "duration": 0.036286,
     "end_time": "2022-09-15T00:54:02.308803",
     "exception": false,
     "start_time": "2022-09-15T00:54:02.272517",
     "status": "completed"
    },
    "tags": []
   },
   "outputs": [],
   "source": [
    "#hide\n",
    "# g['continent'] = g['continent'].map(mapping['map.continent'])"
   ]
  },
  {
   "cell_type": "code",
   "execution_count": 32,
   "id": "freelance-scout",
   "metadata": {
    "execution": {
     "iopub.execute_input": "2022-09-15T00:54:02.374481Z",
     "iopub.status.busy": "2022-09-15T00:54:02.373918Z",
     "iopub.status.idle": "2022-09-15T00:54:02.376139Z",
     "shell.execute_reply": "2022-09-15T00:54:02.375587Z"
    },
    "papermill": {
     "duration": 0.036317,
     "end_time": "2022-09-15T00:54:02.376240",
     "exception": false,
     "start_time": "2022-09-15T00:54:02.339923",
     "status": "completed"
    },
    "tags": []
   },
   "outputs": [],
   "source": [
    "#hide\n",
    "# g.head()"
   ]
  },
  {
   "cell_type": "code",
   "execution_count": 33,
   "id": "limited-engine",
   "metadata": {
    "execution": {
     "iopub.execute_input": "2022-09-15T00:54:02.442052Z",
     "iopub.status.busy": "2022-09-15T00:54:02.441499Z",
     "iopub.status.idle": "2022-09-15T00:54:02.443686Z",
     "shell.execute_reply": "2022-09-15T00:54:02.443148Z"
    },
    "papermill": {
     "duration": 0.036455,
     "end_time": "2022-09-15T00:54:02.443790",
     "exception": false,
     "start_time": "2022-09-15T00:54:02.407335",
     "status": "completed"
    },
    "tags": []
   },
   "outputs": [],
   "source": [
    "# hide\n",
    "# g['date'] = g['date'].astype('datetime64[ns]')"
   ]
  },
  {
   "cell_type": "code",
   "execution_count": 34,
   "id": "sophisticated-supervisor",
   "metadata": {
    "execution": {
     "iopub.execute_input": "2022-09-15T00:54:02.509678Z",
     "iopub.status.busy": "2022-09-15T00:54:02.509111Z",
     "iopub.status.idle": "2022-09-15T00:54:02.511504Z",
     "shell.execute_reply": "2022-09-15T00:54:02.510980Z"
    },
    "papermill": {
     "duration": 0.036626,
     "end_time": "2022-09-15T00:54:02.511604",
     "exception": false,
     "start_time": "2022-09-15T00:54:02.474978",
     "status": "completed"
    },
    "tags": []
   },
   "outputs": [],
   "source": [
    "#hide\n",
    "# g['date'] = g.date.dt.dayofyear"
   ]
  },
  {
   "cell_type": "code",
   "execution_count": 35,
   "id": "inside-dubai",
   "metadata": {
    "execution": {
     "iopub.execute_input": "2022-09-15T00:54:02.576782Z",
     "iopub.status.busy": "2022-09-15T00:54:02.576225Z",
     "iopub.status.idle": "2022-09-15T00:54:02.579731Z",
     "shell.execute_reply": "2022-09-15T00:54:02.580184Z"
    },
    "papermill": {
     "duration": 0.037868,
     "end_time": "2022-09-15T00:54:02.580306",
     "exception": false,
     "start_time": "2022-09-15T00:54:02.542438",
     "status": "completed"
    },
    "tags": []
   },
   "outputs": [],
   "source": [
    "#hide\n",
    "# g = g.rename(columns= {'continent':'group','country':'name','cases':'value'})"
   ]
  },
  {
   "cell_type": "code",
   "execution_count": 36,
   "id": "fleet-motorcycle",
   "metadata": {
    "execution": {
     "iopub.execute_input": "2022-09-15T00:54:02.646169Z",
     "iopub.status.busy": "2022-09-15T00:54:02.645598Z",
     "iopub.status.idle": "2022-09-15T00:54:02.647815Z",
     "shell.execute_reply": "2022-09-15T00:54:02.648241Z"
    },
    "papermill": {
     "duration": 0.036997,
     "end_time": "2022-09-15T00:54:02.648363",
     "exception": false,
     "start_time": "2022-09-15T00:54:02.611366",
     "status": "completed"
    },
    "tags": []
   },
   "outputs": [],
   "source": [
    "#hide\n",
    "# cols = ['name','group','day','value']"
   ]
  },
  {
   "cell_type": "code",
   "execution_count": 37,
   "id": "continued-sleeping",
   "metadata": {
    "execution": {
     "iopub.execute_input": "2022-09-15T00:54:02.713870Z",
     "iopub.status.busy": "2022-09-15T00:54:02.713294Z",
     "iopub.status.idle": "2022-09-15T00:54:02.715207Z",
     "shell.execute_reply": "2022-09-15T00:54:02.714687Z"
    },
    "papermill": {
     "duration": 0.036047,
     "end_time": "2022-09-15T00:54:02.715307",
     "exception": false,
     "start_time": "2022-09-15T00:54:02.679260",
     "status": "completed"
    },
    "tags": []
   },
   "outputs": [],
   "source": [
    "#hide\n",
    "# g.rename(columns= {'date':'day'},inplace = True)"
   ]
  },
  {
   "cell_type": "code",
   "execution_count": 38,
   "id": "major-fight",
   "metadata": {
    "execution": {
     "iopub.execute_input": "2022-09-15T00:54:02.781366Z",
     "iopub.status.busy": "2022-09-15T00:54:02.780790Z",
     "iopub.status.idle": "2022-09-15T00:54:02.783282Z",
     "shell.execute_reply": "2022-09-15T00:54:02.782842Z"
    },
    "papermill": {
     "duration": 0.036604,
     "end_time": "2022-09-15T00:54:02.783379",
     "exception": false,
     "start_time": "2022-09-15T00:54:02.746775",
     "status": "completed"
    },
    "tags": []
   },
   "outputs": [],
   "source": [
    "#hide\n",
    "# g = g[cols]"
   ]
  },
  {
   "cell_type": "code",
   "execution_count": 39,
   "id": "structured-mobile",
   "metadata": {
    "execution": {
     "iopub.execute_input": "2022-09-15T00:54:02.848933Z",
     "iopub.status.busy": "2022-09-15T00:54:02.848350Z",
     "iopub.status.idle": "2022-09-15T00:54:02.850776Z",
     "shell.execute_reply": "2022-09-15T00:54:02.850341Z"
    },
    "papermill": {
     "duration": 0.036615,
     "end_time": "2022-09-15T00:54:02.850877",
     "exception": false,
     "start_time": "2022-09-15T00:54:02.814262",
     "status": "completed"
    },
    "tags": []
   },
   "outputs": [],
   "source": [
    "# #hide\n",
    "# g = g[g.group.notna()]"
   ]
  },
  {
   "cell_type": "code",
   "execution_count": 40,
   "id": "determined-closing",
   "metadata": {
    "execution": {
     "iopub.execute_input": "2022-09-15T00:54:02.916835Z",
     "iopub.status.busy": "2022-09-15T00:54:02.916255Z",
     "iopub.status.idle": "2022-09-15T00:54:02.918560Z",
     "shell.execute_reply": "2022-09-15T00:54:02.918035Z"
    },
    "papermill": {
     "duration": 0.036557,
     "end_time": "2022-09-15T00:54:02.918658",
     "exception": false,
     "start_time": "2022-09-15T00:54:02.882101",
     "status": "completed"
    },
    "tags": []
   },
   "outputs": [],
   "source": [
    "# #hide\n",
    "# colors = dict(zip(\n",
    "#     [\"Oceania\", \"Europe\", \"Asia\", \"South America\", \"Middle East\", \"North America\", \"Africa\"],\n",
    "#     [\"#adb0ff\", \"#ffb3ff\", \"#90d595\", \"#e48381\", \"#aafbff\", \"#f7bb5f\", \"#eafb50\"]\n",
    "# ))\n",
    "# group_lk = g.set_index('name')['group'].to_dict()"
   ]
  },
  {
   "cell_type": "code",
   "execution_count": null,
   "id": "gross-drinking",
   "metadata": {
    "papermill": {
     "duration": 0.030949,
     "end_time": "2022-09-15T00:54:02.980571",
     "exception": false,
     "start_time": "2022-09-15T00:54:02.949622",
     "status": "completed"
    },
    "tags": []
   },
   "outputs": [],
   "source": []
  },
  {
   "cell_type": "code",
   "execution_count": 41,
   "id": "subject-macintosh",
   "metadata": {
    "execution": {
     "iopub.execute_input": "2022-09-15T00:54:03.046604Z",
     "iopub.status.busy": "2022-09-15T00:54:03.046020Z",
     "iopub.status.idle": "2022-09-15T00:54:03.048422Z",
     "shell.execute_reply": "2022-09-15T00:54:03.047973Z"
    },
    "papermill": {
     "duration": 0.037049,
     "end_time": "2022-09-15T00:54:03.048523",
     "exception": false,
     "start_time": "2022-09-15T00:54:03.011474",
     "status": "completed"
    },
    "tags": []
   },
   "outputs": [],
   "source": [
    "# #hide\n",
    "# fig, ax = plt.subplots(figsize=(15, 8))\n",
    "\n",
    "# def draw_barchart(current_day):\n",
    "#     dff = g[g['day'].eq(current_day)].sort_values(by='value', ascending=True).tail(10)\n",
    "#     ax.clear()\n",
    "#     ax.barh(dff['name'], dff['value'], color=[colors[group_lk[x]] for x in dff['name']])\n",
    "#     dx = dff['value'].max() / 200\n",
    "    \n",
    "#     for i, (value, name) in enumerate(zip(dff['value'], dff['name'])):\n",
    "#         ax.text(value-dx, i,     name,           size=14, weight=600, ha='right', va='bottom')\n",
    "#         ax.text(value-dx, i-.25, group_lk[name], size=10, color='#444444', ha='right', va='baseline')\n",
    "#         ax.text(value+dx, i,     f'{value:,.0f}',  size=14, ha='left',  va='center')\n",
    "#     ax.text(1, 0.4, current_day, transform=ax.transAxes, color='#777777', size=46, ha='right', weight=800)\n",
    "#     ax.text(0, 1.06, 'Population (thousands)', transform=ax.transAxes, size=12, color='#777777')\n",
    "#     ax.xaxis.set_major_formatter(ticker.StrMethodFormatter('{x:,.0f}'))\n",
    "#     ax.xaxis.set_ticks_position('top')\n",
    "#     ax.tick_params(axis='x', colors='#777777', labelsize=12)\n",
    "#     ax.set_yticks([])\n",
    "#     ax.margins(0, 0.01)\n",
    "#     ax.grid(which='major', axis='x', linestyle='-')\n",
    "#     ax.set_axisbelow(True)\n",
    "    \n",
    "#     ax.text(0, 1.15, 'Coronavirus',\n",
    "#             transform=ax.transAxes, size=24, weight=600, ha='left', va='top')\n",
    "# #     ax.text(1, 0, 'by @pratapvardhan; credit @jburnmurdoch', transform=ax.transAxes, color='#777777', ha='right',\n",
    "# #             bbox=dict(facecolor='white', alpha=0.8, edgecolor='white'))\n",
    "#     plt.box(False)"
   ]
  },
  {
   "cell_type": "code",
   "execution_count": 42,
   "id": "sexual-wages",
   "metadata": {
    "execution": {
     "iopub.execute_input": "2022-09-15T00:54:03.115274Z",
     "iopub.status.busy": "2022-09-15T00:54:03.114698Z",
     "iopub.status.idle": "2022-09-15T00:54:03.117171Z",
     "shell.execute_reply": "2022-09-15T00:54:03.116733Z"
    },
    "papermill": {
     "duration": 0.036909,
     "end_time": "2022-09-15T00:54:03.117270",
     "exception": false,
     "start_time": "2022-09-15T00:54:03.080361",
     "status": "completed"
    },
    "tags": []
   },
   "outputs": [],
   "source": [
    "# #hide_input\n",
    "# fig, ax = plt.subplots(figsize=(15, 8))\n",
    "# animator = animation.FuncAnimation(fig, draw_barchart, frames=range(g.day.values.min(), g.day.values.max()))\n",
    "# HTML(animator.to_jshtml())\n",
    "# # or use animator.to_html5_video() or animator.save() "
   ]
  },
  {
   "cell_type": "code",
   "execution_count": null,
   "id": "australian-container",
   "metadata": {
    "papermill": {
     "duration": 0.030902,
     "end_time": "2022-09-15T00:54:03.179322",
     "exception": false,
     "start_time": "2022-09-15T00:54:03.148420",
     "status": "completed"
    },
    "tags": []
   },
   "outputs": [],
   "source": []
  },
  {
   "cell_type": "code",
   "execution_count": null,
   "id": "mediterranean-pontiac",
   "metadata": {
    "papermill": {
     "duration": 0.030985,
     "end_time": "2022-09-15T00:54:03.241348",
     "exception": false,
     "start_time": "2022-09-15T00:54:03.210363",
     "status": "completed"
    },
    "tags": []
   },
   "outputs": [],
   "source": []
  },
  {
   "cell_type": "code",
   "execution_count": null,
   "id": "aging-legislature",
   "metadata": {
    "papermill": {
     "duration": 0.030768,
     "end_time": "2022-09-15T00:54:03.303237",
     "exception": false,
     "start_time": "2022-09-15T00:54:03.272469",
     "status": "completed"
    },
    "tags": []
   },
   "outputs": [],
   "source": []
  }
 ],
 "metadata": {
  "kernelspec": {
   "display_name": "Python 3",
   "language": "python",
   "name": "python3"
  },
  "language_info": {
   "codemirror_mode": {
    "name": "ipython",
    "version": 3
   },
   "file_extension": ".py",
   "mimetype": "text/x-python",
   "name": "python",
   "nbconvert_exporter": "python",
   "pygments_lexer": "ipython3",
   "version": "3.6.15"
  },
  "papermill": {
   "duration": 5.893608,
   "end_time": "2022-09-15T00:54:03.651303",
   "environment_variables": {},
   "exception": null,
   "input_path": "2020-03-21-covid19exp.ipynb",
   "output_path": "2020-03-21-covid19exp.ipynb",
   "parameters": {},
   "start_time": "2022-09-15T00:53:57.757695",
   "version": "2.0.0"
  }
 },
 "nbformat": 4,
 "nbformat_minor": 5
}