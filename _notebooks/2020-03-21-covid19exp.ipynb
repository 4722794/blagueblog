{
 "cells": [
  {
   "cell_type": "markdown",
   "id": "muslim-click",
   "metadata": {
    "papermill": {
     "duration": 0.034053,
     "end_time": "2022-02-26T12:12:24.317575",
     "exception": false,
     "start_time": "2022-02-26T12:12:24.283522",
     "status": "completed"
    },
    "tags": []
   },
   "source": [
    "# COVID-19 Case Race\n",
    "> A race chart to see rising cases around the world\n",
    "\n",
    "- author: Hargun Oberoi\n",
    "- image: images/covid-overview.png\n",
    "- hide: false\n",
    "- badges: false"
   ]
  },
  {
   "cell_type": "code",
   "execution_count": 1,
   "id": "proof-material",
   "metadata": {
    "execution": {
     "iopub.execute_input": "2022-02-26T12:12:24.388583Z",
     "iopub.status.busy": "2022-02-26T12:12:24.388058Z",
     "iopub.status.idle": "2022-02-26T12:12:24.690185Z",
     "shell.execute_reply": "2022-02-26T12:12:24.689731Z"
    },
    "papermill": {
     "duration": 0.340761,
     "end_time": "2022-02-26T12:12:24.690314",
     "exception": false,
     "start_time": "2022-02-26T12:12:24.349553",
     "status": "completed"
    },
    "tags": []
   },
   "outputs": [],
   "source": [
    "#hide\n",
    "import numpy as np\n",
    "import pandas as pd\n",
    "from jinja2 import Template\n",
    "from IPython.display import HTML"
   ]
  },
  {
   "cell_type": "code",
   "execution_count": 2,
   "id": "developed-terminology",
   "metadata": {
    "execution": {
     "iopub.execute_input": "2022-02-26T12:12:24.755777Z",
     "iopub.status.busy": "2022-02-26T12:12:24.755278Z",
     "iopub.status.idle": "2022-02-26T12:12:24.757279Z",
     "shell.execute_reply": "2022-02-26T12:12:24.756875Z"
    },
    "papermill": {
     "duration": 0.036371,
     "end_time": "2022-02-26T12:12:24.757374",
     "exception": false,
     "start_time": "2022-02-26T12:12:24.721003",
     "status": "completed"
    },
    "tags": []
   },
   "outputs": [],
   "source": [
    "#hide\n",
    "\n",
    "# FETCH\n",
    "base_url = 'https://raw.githubusercontent.com/pratapvardhan/notebooks/master/covid19/'\n",
    "paths = {\n",
    "    'mapping': base_url + 'mapping_countries.csv',\n",
    "    'overview': base_url + 'overview.tpl'\n",
    "}"
   ]
  },
  {
   "cell_type": "code",
   "execution_count": 3,
   "id": "dynamic-saver",
   "metadata": {
    "execution": {
     "iopub.execute_input": "2022-02-26T12:12:24.826041Z",
     "iopub.status.busy": "2022-02-26T12:12:24.825012Z",
     "iopub.status.idle": "2022-02-26T12:12:24.828752Z",
     "shell.execute_reply": "2022-02-26T12:12:24.828312Z"
    },
    "papermill": {
     "duration": 0.041147,
     "end_time": "2022-02-26T12:12:24.828847",
     "exception": false,
     "start_time": "2022-02-26T12:12:24.787700",
     "status": "completed"
    },
    "tags": []
   },
   "outputs": [
    {
     "data": {
      "text/plain": [
       "'https://raw.githubusercontent.com/pratapvardhan/notebooks/master/covid19/mapping_countries.csv'"
      ]
     },
     "execution_count": 3,
     "metadata": {},
     "output_type": "execute_result"
    }
   ],
   "source": [
    "#hide\n",
    "paths['mapping']"
   ]
  },
  {
   "cell_type": "code",
   "execution_count": 4,
   "id": "urban-software",
   "metadata": {
    "execution": {
     "iopub.execute_input": "2022-02-26T12:12:24.894792Z",
     "iopub.status.busy": "2022-02-26T12:12:24.894292Z",
     "iopub.status.idle": "2022-02-26T12:12:24.896290Z",
     "shell.execute_reply": "2022-02-26T12:12:24.895896Z"
    },
    "papermill": {
     "duration": 0.036615,
     "end_time": "2022-02-26T12:12:24.896385",
     "exception": false,
     "start_time": "2022-02-26T12:12:24.859770",
     "status": "completed"
    },
    "tags": []
   },
   "outputs": [],
   "source": [
    "#hide\n",
    "def get_mappings(url):\n",
    "    df = pd.read_csv(url)\n",
    "    return {\n",
    "        'df': df,\n",
    "        'replace.country': dict(df.dropna(subset=['Name']).set_index('Country')['Name']),\n",
    "        'map.continent': dict(df.set_index('Name')['Continent'])\n",
    "    }"
   ]
  },
  {
   "cell_type": "code",
   "execution_count": 5,
   "id": "intimate-machinery",
   "metadata": {
    "execution": {
     "iopub.execute_input": "2022-02-26T12:12:24.961862Z",
     "iopub.status.busy": "2022-02-26T12:12:24.961361Z",
     "iopub.status.idle": "2022-02-26T12:12:24.986033Z",
     "shell.execute_reply": "2022-02-26T12:12:24.985639Z"
    },
    "papermill": {
     "duration": 0.059162,
     "end_time": "2022-02-26T12:12:24.986133",
     "exception": false,
     "start_time": "2022-02-26T12:12:24.926971",
     "status": "completed"
    },
    "tags": []
   },
   "outputs": [],
   "source": [
    "#hide\n",
    "mapping = get_mappings(paths['mapping'])"
   ]
  },
  {
   "cell_type": "code",
   "execution_count": 6,
   "id": "certified-tactics",
   "metadata": {
    "execution": {
     "iopub.execute_input": "2022-02-26T12:12:25.051522Z",
     "iopub.status.busy": "2022-02-26T12:12:25.051023Z",
     "iopub.status.idle": "2022-02-26T12:12:25.054759Z",
     "shell.execute_reply": "2022-02-26T12:12:25.054355Z"
    },
    "papermill": {
     "duration": 0.037961,
     "end_time": "2022-02-26T12:12:25.054858",
     "exception": false,
     "start_time": "2022-02-26T12:12:25.016897",
     "status": "completed"
    },
    "tags": []
   },
   "outputs": [],
   "source": [
    "#hide\n",
    "def get_template(path):\n",
    "    from urllib.parse import urlparse\n",
    "    if bool(urlparse(path).netloc):\n",
    "        from urllib.request import urlopen\n",
    "        return urlopen(path).read().decode('utf8')\n",
    "    return open(path).read()"
   ]
  },
  {
   "cell_type": "code",
   "execution_count": 7,
   "id": "realistic-blast",
   "metadata": {
    "execution": {
     "iopub.execute_input": "2022-02-26T12:12:25.120213Z",
     "iopub.status.busy": "2022-02-26T12:12:25.119706Z",
     "iopub.status.idle": "2022-02-26T12:12:25.121778Z",
     "shell.execute_reply": "2022-02-26T12:12:25.121366Z"
    },
    "papermill": {
     "duration": 0.036251,
     "end_time": "2022-02-26T12:12:25.121872",
     "exception": false,
     "start_time": "2022-02-26T12:12:25.085621",
     "status": "completed"
    },
    "tags": []
   },
   "outputs": [],
   "source": [
    "#hide\n",
    "def get_frame(name):\n",
    "    url = (\n",
    "        'https://raw.githubusercontent.com/CSSEGISandData/COVID-19/master/csse_covid_19_data/'\n",
    "        f'csse_covid_19_time_series/time_series_covid19_{name}_global.csv')\n",
    "    df = pd.read_csv(url)\n",
    "    # rename countries\n",
    "    df['Country/Region'] = df['Country/Region'].replace(mapping['replace.country'])\n",
    "    return df"
   ]
  },
  {
   "cell_type": "code",
   "execution_count": 8,
   "id": "affiliated-characterization",
   "metadata": {
    "execution": {
     "iopub.execute_input": "2022-02-26T12:12:25.188063Z",
     "iopub.status.busy": "2022-02-26T12:12:25.187541Z",
     "iopub.status.idle": "2022-02-26T12:12:25.189208Z",
     "shell.execute_reply": "2022-02-26T12:12:25.189574Z"
    },
    "papermill": {
     "duration": 0.03702,
     "end_time": "2022-02-26T12:12:25.189682",
     "exception": false,
     "start_time": "2022-02-26T12:12:25.152662",
     "status": "completed"
    },
    "tags": []
   },
   "outputs": [],
   "source": [
    "#hide\n",
    "def get_dates(df):\n",
    "    dt_cols = df.columns[~df.columns.isin(['Province/State', 'Country/Region', 'Lat', 'Long'])]\n",
    "    LAST_DATE_I = -1\n",
    "    # sometimes last column may be empty, then go backwards\n",
    "    for i in range(-1, -len(dt_cols), -1):\n",
    "        if not df[dt_cols[i]].fillna(0).eq(0).all():\n",
    "            LAST_DATE_I = i\n",
    "            break\n",
    "    return LAST_DATE_I, dt_cols"
   ]
  },
  {
   "cell_type": "code",
   "execution_count": 9,
   "id": "recent-optimization",
   "metadata": {
    "execution": {
     "iopub.execute_input": "2022-02-26T12:12:25.254941Z",
     "iopub.status.busy": "2022-02-26T12:12:25.254444Z",
     "iopub.status.idle": "2022-02-26T12:12:25.640418Z",
     "shell.execute_reply": "2022-02-26T12:12:25.639984Z"
    },
    "papermill": {
     "duration": 0.420154,
     "end_time": "2022-02-26T12:12:25.640551",
     "exception": false,
     "start_time": "2022-02-26T12:12:25.220397",
     "status": "completed"
    },
    "tags": []
   },
   "outputs": [],
   "source": [
    "#hide\n",
    "COL_REGION = 'Country/Region'\n",
    "# Confirmed, Recovered, Deaths\n",
    "df = get_frame('confirmed')\n",
    "# dft_: timeseries, dfc_: today country agg\n",
    "dft_cases = df\n",
    "dft_deaths = get_frame('deaths')\n",
    "dft_recovered = get_frame('recovered')\n",
    "LAST_DATE_I, dt_cols = get_dates(df)"
   ]
  },
  {
   "cell_type": "code",
   "execution_count": 10,
   "id": "absolute-copper",
   "metadata": {
    "execution": {
     "iopub.execute_input": "2022-02-26T12:12:25.707064Z",
     "iopub.status.busy": "2022-02-26T12:12:25.706564Z",
     "iopub.status.idle": "2022-02-26T12:12:25.709907Z",
     "shell.execute_reply": "2022-02-26T12:12:25.710294Z"
    },
    "papermill": {
     "duration": 0.038691,
     "end_time": "2022-02-26T12:12:25.710407",
     "exception": false,
     "start_time": "2022-02-26T12:12:25.671716",
     "status": "completed"
    },
    "tags": []
   },
   "outputs": [],
   "source": [
    "#hide\n",
    "LAST_DATE_I, dt_cols = get_dates(df)\n",
    "dt_today =dt_cols[LAST_DATE_I]\n",
    "# dt_5day = dt_cols[LAST_DATE_I - 5]\n",
    "dt_yday = dt_cols[LAST_DATE_I - 1]"
   ]
  },
  {
   "cell_type": "code",
   "execution_count": 11,
   "id": "restricted-sheriff",
   "metadata": {
    "execution": {
     "iopub.execute_input": "2022-02-26T12:12:25.775896Z",
     "iopub.status.busy": "2022-02-26T12:12:25.775406Z",
     "iopub.status.idle": "2022-02-26T12:12:25.782144Z",
     "shell.execute_reply": "2022-02-26T12:12:25.781757Z"
    },
    "papermill": {
     "duration": 0.041169,
     "end_time": "2022-02-26T12:12:25.782237",
     "exception": false,
     "start_time": "2022-02-26T12:12:25.741068",
     "status": "completed"
    },
    "tags": []
   },
   "outputs": [],
   "source": [
    "#hide\n",
    "dfc_cases = dft_cases.groupby(COL_REGION)[dt_today].sum()\n",
    "dfc_deaths = dft_deaths.groupby(COL_REGION)[dt_today].sum()\n",
    "# dfp_cases = dft_cases.groupby(COL_REGION)[dt_5day].sum()\n",
    "# dfp_deaths = dft_deaths.groupby(COL_REGION)[dt_5day].sum()\n",
    "dfp_cases = dft_cases.groupby(COL_REGION)[dt_yday].sum()\n",
    "dfp_deaths = dft_deaths.groupby(COL_REGION)[dt_yday].sum()"
   ]
  },
  {
   "cell_type": "code",
   "execution_count": 12,
   "id": "deluxe-hepatitis",
   "metadata": {
    "execution": {
     "iopub.execute_input": "2022-02-26T12:12:25.848970Z",
     "iopub.status.busy": "2022-02-26T12:12:25.848115Z",
     "iopub.status.idle": "2022-02-26T12:12:25.854278Z",
     "shell.execute_reply": "2022-02-26T12:12:25.853451Z"
    },
    "papermill": {
     "duration": 0.041433,
     "end_time": "2022-02-26T12:12:25.854375",
     "exception": false,
     "start_time": "2022-02-26T12:12:25.812942",
     "status": "completed"
    },
    "tags": []
   },
   "outputs": [],
   "source": [
    "#hide\n",
    "df_table = (pd.DataFrame(dict(Cases = dfc_cases, Deaths = dfc_deaths, PCases = dfp_cases, PDeaths = dfp_deaths))\n",
    "            .sort_values(by = ['Cases','Deaths'], ascending = [False, False])\n",
    "            .reset_index())"
   ]
  },
  {
   "cell_type": "code",
   "execution_count": 13,
   "id": "educational-chancellor",
   "metadata": {
    "execution": {
     "iopub.execute_input": "2022-02-26T12:12:25.930865Z",
     "iopub.status.busy": "2022-02-26T12:12:25.930366Z",
     "iopub.status.idle": "2022-02-26T12:12:25.938034Z",
     "shell.execute_reply": "2022-02-26T12:12:25.937646Z"
    },
    "papermill": {
     "duration": 0.052947,
     "end_time": "2022-02-26T12:12:25.938128",
     "exception": false,
     "start_time": "2022-02-26T12:12:25.885181",
     "status": "completed"
    },
    "tags": []
   },
   "outputs": [
    {
     "data": {
      "text/html": [
       "<div>\n",
       "<style scoped>\n",
       "    .dataframe tbody tr th:only-of-type {\n",
       "        vertical-align: middle;\n",
       "    }\n",
       "\n",
       "    .dataframe tbody tr th {\n",
       "        vertical-align: top;\n",
       "    }\n",
       "\n",
       "    .dataframe thead th {\n",
       "        text-align: right;\n",
       "    }\n",
       "</style>\n",
       "<table border=\"1\" class=\"dataframe\">\n",
       "  <thead>\n",
       "    <tr style=\"text-align: right;\">\n",
       "      <th></th>\n",
       "      <th>Country/Region</th>\n",
       "      <th>Cases</th>\n",
       "      <th>Deaths</th>\n",
       "      <th>PCases</th>\n",
       "      <th>PDeaths</th>\n",
       "      <th>Cases (+)</th>\n",
       "      <th>Deaths (+)</th>\n",
       "      <th>Fatality Rate</th>\n",
       "      <th>Continent</th>\n",
       "    </tr>\n",
       "  </thead>\n",
       "  <tbody>\n",
       "    <tr>\n",
       "      <th>0</th>\n",
       "      <td>US</td>\n",
       "      <td>78883101</td>\n",
       "      <td>947417</td>\n",
       "      <td>78798989</td>\n",
       "      <td>944830</td>\n",
       "      <td>84112</td>\n",
       "      <td>2587</td>\n",
       "      <td>1.20</td>\n",
       "      <td>North America</td>\n",
       "    </tr>\n",
       "    <tr>\n",
       "      <th>1</th>\n",
       "      <td>India</td>\n",
       "      <td>42905844</td>\n",
       "      <td>513481</td>\n",
       "      <td>42894345</td>\n",
       "      <td>513226</td>\n",
       "      <td>11499</td>\n",
       "      <td>255</td>\n",
       "      <td>1.20</td>\n",
       "      <td>Asia</td>\n",
       "    </tr>\n",
       "    <tr>\n",
       "      <th>2</th>\n",
       "      <td>Brazil</td>\n",
       "      <td>28679671</td>\n",
       "      <td>648496</td>\n",
       "      <td>28589235</td>\n",
       "      <td>647703</td>\n",
       "      <td>90436</td>\n",
       "      <td>793</td>\n",
       "      <td>2.26</td>\n",
       "      <td>South America</td>\n",
       "    </tr>\n",
       "    <tr>\n",
       "      <th>3</th>\n",
       "      <td>France</td>\n",
       "      <td>22765934</td>\n",
       "      <td>138972</td>\n",
       "      <td>22707110</td>\n",
       "      <td>138784</td>\n",
       "      <td>58824</td>\n",
       "      <td>188</td>\n",
       "      <td>0.61</td>\n",
       "      <td>Europe</td>\n",
       "    </tr>\n",
       "    <tr>\n",
       "      <th>4</th>\n",
       "      <td>United Kingdom</td>\n",
       "      <td>18938546</td>\n",
       "      <td>161797</td>\n",
       "      <td>18906546</td>\n",
       "      <td>161675</td>\n",
       "      <td>32000</td>\n",
       "      <td>122</td>\n",
       "      <td>0.85</td>\n",
       "      <td>Europe</td>\n",
       "    </tr>\n",
       "  </tbody>\n",
       "</table>\n",
       "</div>"
      ],
      "text/plain": [
       "   Country/Region     Cases  Deaths    PCases  PDeaths  Cases (+)  Deaths (+)  \\\n",
       "0              US  78883101  947417  78798989   944830      84112        2587   \n",
       "1           India  42905844  513481  42894345   513226      11499         255   \n",
       "2          Brazil  28679671  648496  28589235   647703      90436         793   \n",
       "3          France  22765934  138972  22707110   138784      58824         188   \n",
       "4  United Kingdom  18938546  161797  18906546   161675      32000         122   \n",
       "\n",
       "   Fatality Rate      Continent  \n",
       "0           1.20  North America  \n",
       "1           1.20           Asia  \n",
       "2           2.26  South America  \n",
       "3           0.61         Europe  \n",
       "4           0.85         Europe  "
      ]
     },
     "execution_count": 13,
     "metadata": {},
     "output_type": "execute_result"
    }
   ],
   "source": [
    "#hide\n",
    "for c in 'Cases, Deaths'.split(', '):\n",
    "    df_table[f'{c} (+)'] = (df_table[c] - df_table[f'P{c}']).clip(0)\n",
    "    #Clip ça veut dire, les chiffres negatif sont interdit\n",
    "df_table['Fatality Rate'] = (100* df_table['Deaths']/ df_table['Cases']).round(2)\n",
    "df_table['Continent'] = df_table['Country/Region'].map(mapping['map.continent'])\n",
    "df_table.head(5)"
   ]
  },
  {
   "cell_type": "code",
   "execution_count": 14,
   "id": "aboriginal-bulgaria",
   "metadata": {
    "execution": {
     "iopub.execute_input": "2022-02-26T12:12:26.004870Z",
     "iopub.status.busy": "2022-02-26T12:12:26.004331Z",
     "iopub.status.idle": "2022-02-26T12:12:26.005896Z",
     "shell.execute_reply": "2022-02-26T12:12:26.006261Z"
    },
    "papermill": {
     "duration": 0.036956,
     "end_time": "2022-02-26T12:12:26.006368",
     "exception": false,
     "start_time": "2022-02-26T12:12:25.969412",
     "status": "completed"
    },
    "tags": []
   },
   "outputs": [],
   "source": [
    "#hide\n",
    "#delete problematic countries from table\n",
    "df_table = df_table[~df_table['Country/Region'].isin(['Cape Verde', 'Cruise Ship', 'Kosovo'])]"
   ]
  },
  {
   "cell_type": "code",
   "execution_count": 15,
   "id": "fantastic-effect",
   "metadata": {
    "execution": {
     "iopub.execute_input": "2022-02-26T12:12:26.077029Z",
     "iopub.status.busy": "2022-02-26T12:12:26.075874Z",
     "iopub.status.idle": "2022-02-26T12:12:26.091548Z",
     "shell.execute_reply": "2022-02-26T12:12:26.091971Z"
    },
    "papermill": {
     "duration": 0.054596,
     "end_time": "2022-02-26T12:12:26.092085",
     "exception": false,
     "start_time": "2022-02-26T12:12:26.037489",
     "status": "completed"
    },
    "tags": []
   },
   "outputs": [
    {
     "data": {
      "text/html": [
       "<div>\n",
       "<style scoped>\n",
       "    .dataframe tbody tr th:only-of-type {\n",
       "        vertical-align: middle;\n",
       "    }\n",
       "\n",
       "    .dataframe tbody tr th {\n",
       "        vertical-align: top;\n",
       "    }\n",
       "\n",
       "    .dataframe thead th {\n",
       "        text-align: right;\n",
       "    }\n",
       "</style>\n",
       "<table border=\"1\" class=\"dataframe\">\n",
       "  <thead>\n",
       "    <tr style=\"text-align: right;\">\n",
       "      <th></th>\n",
       "      <th>Country/Region</th>\n",
       "      <th>Cases</th>\n",
       "      <th>Deaths</th>\n",
       "      <th>PCases</th>\n",
       "      <th>PDeaths</th>\n",
       "      <th>Cases (+)</th>\n",
       "      <th>Deaths (+)</th>\n",
       "      <th>Fatality Rate</th>\n",
       "      <th>Continent</th>\n",
       "    </tr>\n",
       "  </thead>\n",
       "  <tbody>\n",
       "    <tr>\n",
       "      <th>0</th>\n",
       "      <td>US</td>\n",
       "      <td>78883101</td>\n",
       "      <td>947417</td>\n",
       "      <td>78798989</td>\n",
       "      <td>944830</td>\n",
       "      <td>84112</td>\n",
       "      <td>2587</td>\n",
       "      <td>1.2</td>\n",
       "      <td>North America</td>\n",
       "    </tr>\n",
       "    <tr>\n",
       "      <th>1</th>\n",
       "      <td>India</td>\n",
       "      <td>42905844</td>\n",
       "      <td>513481</td>\n",
       "      <td>42894345</td>\n",
       "      <td>513226</td>\n",
       "      <td>11499</td>\n",
       "      <td>255</td>\n",
       "      <td>1.2</td>\n",
       "      <td>Asia</td>\n",
       "    </tr>\n",
       "    <tr>\n",
       "      <th>2</th>\n",
       "      <td>Brazil</td>\n",
       "      <td>28679671</td>\n",
       "      <td>648496</td>\n",
       "      <td>28589235</td>\n",
       "      <td>647703</td>\n",
       "      <td>90436</td>\n",
       "      <td>793</td>\n",
       "      <td>2.3</td>\n",
       "      <td>South America</td>\n",
       "    </tr>\n",
       "    <tr>\n",
       "      <th>3</th>\n",
       "      <td>France</td>\n",
       "      <td>22765934</td>\n",
       "      <td>138972</td>\n",
       "      <td>22707110</td>\n",
       "      <td>138784</td>\n",
       "      <td>58824</td>\n",
       "      <td>188</td>\n",
       "      <td>0.6</td>\n",
       "      <td>Europe</td>\n",
       "    </tr>\n",
       "    <tr>\n",
       "      <th>4</th>\n",
       "      <td>United Kingdom</td>\n",
       "      <td>18938546</td>\n",
       "      <td>161797</td>\n",
       "      <td>18906546</td>\n",
       "      <td>161675</td>\n",
       "      <td>32000</td>\n",
       "      <td>122</td>\n",
       "      <td>0.9</td>\n",
       "      <td>Europe</td>\n",
       "    </tr>\n",
       "  </tbody>\n",
       "</table>\n",
       "</div>"
      ],
      "text/plain": [
       "   Country/Region     Cases  Deaths    PCases  PDeaths  Cases (+)  Deaths (+)  \\\n",
       "0              US  78883101  947417  78798989   944830      84112        2587   \n",
       "1           India  42905844  513481  42894345   513226      11499         255   \n",
       "2          Brazil  28679671  648496  28589235   647703      90436         793   \n",
       "3          France  22765934  138972  22707110   138784      58824         188   \n",
       "4  United Kingdom  18938546  161797  18906546   161675      32000         122   \n",
       "\n",
       "   Fatality Rate      Continent  \n",
       "0            1.2  North America  \n",
       "1            1.2           Asia  \n",
       "2            2.3  South America  \n",
       "3            0.6         Europe  \n",
       "4            0.9         Europe  "
      ]
     },
     "execution_count": 15,
     "metadata": {},
     "output_type": "execute_result"
    }
   ],
   "source": [
    "#hide\n",
    "df_table = (pd.DataFrame(dict(Cases=dfc_cases, Deaths=dfc_deaths, PCases=dfp_cases, PDeaths=dfp_deaths))\n",
    "             .sort_values(by=['Cases', 'Deaths'], ascending=[False, False])\n",
    "             .reset_index())\n",
    "df_table.rename(columns={'index': 'Country/Region'}, inplace=True)\n",
    "for c in 'Cases, Deaths'.split(', '):\n",
    "    df_table[f'{c} (+)'] = (df_table[c] - df_table[f'P{c}']).clip(0)  # DATA BUG\n",
    "df_table['Fatality Rate'] = (100 * df_table['Deaths'] / df_table['Cases']).round(1)\n",
    "df_table['Continent'] = df_table['Country/Region'].map(mapping['map.continent'])\n",
    "df_table.head(5)"
   ]
  },
  {
   "cell_type": "code",
   "execution_count": 16,
   "id": "fewer-occasion",
   "metadata": {
    "execution": {
     "iopub.execute_input": "2022-02-26T12:12:26.160622Z",
     "iopub.status.busy": "2022-02-26T12:12:26.160111Z",
     "iopub.status.idle": "2022-02-26T12:12:26.161859Z",
     "shell.execute_reply": "2022-02-26T12:12:26.162243Z"
    },
    "papermill": {
     "duration": 0.03824,
     "end_time": "2022-02-26T12:12:26.162349",
     "exception": false,
     "start_time": "2022-02-26T12:12:26.124109",
     "status": "completed"
    },
    "tags": []
   },
   "outputs": [],
   "source": [
    "#hide\n",
    "#delete problematic countries from table\n",
    "df_table = df_table[~df_table['Country/Region'].isin(['Cape Verde', 'Cruise Ship', 'Kosovo'])]"
   ]
  },
  {
   "cell_type": "code",
   "execution_count": 17,
   "id": "related-center",
   "metadata": {
    "execution": {
     "iopub.execute_input": "2022-02-26T12:12:26.234665Z",
     "iopub.status.busy": "2022-02-26T12:12:26.234173Z",
     "iopub.status.idle": "2022-02-26T12:12:26.243205Z",
     "shell.execute_reply": "2022-02-26T12:12:26.243618Z"
    },
    "papermill": {
     "duration": 0.049667,
     "end_time": "2022-02-26T12:12:26.243725",
     "exception": false,
     "start_time": "2022-02-26T12:12:26.194058",
     "status": "completed"
    },
    "tags": []
   },
   "outputs": [],
   "source": [
    "#hide\n",
    "metrics = [df_table.columns[index] for index in [1,2,5,6]]\n",
    "# s_china = df_table[df_table['Country/Region'].eq('China')][metrics].sum().add_prefix('China ')\n",
    "s_us = df_table[df_table['Country/Region'].eq('US')][metrics].sum().add_prefix('US ')\n",
    "s_eu = df_table[df_table['Continent'].eq('Europe')][metrics].sum().add_prefix('EU ')\n",
    "s_ind = df_table[df_table['Country/Region'].eq('India')][metrics].sum().add_prefix('India ')\n",
    "summary = {'updated': pd.to_datetime(dt_today), 'since': pd.to_datetime(dt_yday)}\n",
    "summary = {'updated': pd.to_datetime(dt_today), 'since': pd.to_datetime(dt_yday)}\n",
    "summary = {**summary, **df_table[metrics].sum(), **s_ind, **s_us, **s_eu}"
   ]
  },
  {
   "cell_type": "code",
   "execution_count": 18,
   "id": "engaging-syndrome",
   "metadata": {
    "execution": {
     "iopub.execute_input": "2022-02-26T12:12:26.314139Z",
     "iopub.status.busy": "2022-02-26T12:12:26.313645Z",
     "iopub.status.idle": "2022-02-26T12:12:26.326158Z",
     "shell.execute_reply": "2022-02-26T12:12:26.325764Z"
    },
    "papermill": {
     "duration": 0.047851,
     "end_time": "2022-02-26T12:12:26.326253",
     "exception": false,
     "start_time": "2022-02-26T12:12:26.278402",
     "status": "completed"
    },
    "tags": []
   },
   "outputs": [],
   "source": [
    "#hide\n",
    "dft_ct_new_cases = dft_cases.groupby(COL_REGION)[dt_cols].sum().diff(axis=1).fillna(0).astype(int)"
   ]
  },
  {
   "cell_type": "code",
   "execution_count": 19,
   "id": "neutral-assignment",
   "metadata": {
    "execution": {
     "iopub.execute_input": "2022-02-26T12:12:26.394231Z",
     "iopub.status.busy": "2022-02-26T12:12:26.393739Z",
     "iopub.status.idle": "2022-02-26T12:12:26.395913Z",
     "shell.execute_reply": "2022-02-26T12:12:26.395537Z"
    },
    "papermill": {
     "duration": 0.038013,
     "end_time": "2022-02-26T12:12:26.396008",
     "exception": false,
     "start_time": "2022-02-26T12:12:26.357995",
     "status": "completed"
    },
    "tags": []
   },
   "outputs": [],
   "source": [
    "#hide\n",
    "everydaycases = dft_ct_new_cases.cumsum(axis=1)"
   ]
  },
  {
   "cell_type": "code",
   "execution_count": 20,
   "id": "parliamentary-calgary",
   "metadata": {
    "execution": {
     "iopub.execute_input": "2022-02-26T12:12:26.463200Z",
     "iopub.status.busy": "2022-02-26T12:12:26.462711Z",
     "iopub.status.idle": "2022-02-26T12:12:27.043001Z",
     "shell.execute_reply": "2022-02-26T12:12:27.042560Z"
    },
    "papermill": {
     "duration": 0.615434,
     "end_time": "2022-02-26T12:12:27.043120",
     "exception": false,
     "start_time": "2022-02-26T12:12:26.427686",
     "status": "completed"
    },
    "tags": []
   },
   "outputs": [],
   "source": [
    "#hide\n",
    "import pandas as pd\n",
    "import matplotlib.pyplot as plt\n",
    "import matplotlib.ticker as ticker\n",
    "import matplotlib.animation as animation\n",
    "from IPython.display import HTML"
   ]
  },
  {
   "cell_type": "code",
   "execution_count": 21,
   "id": "lasting-extraction",
   "metadata": {
    "execution": {
     "iopub.execute_input": "2022-02-26T12:12:27.111823Z",
     "iopub.status.busy": "2022-02-26T12:12:27.111331Z",
     "iopub.status.idle": "2022-02-26T12:12:27.116873Z",
     "shell.execute_reply": "2022-02-26T12:12:27.116485Z"
    },
    "papermill": {
     "duration": 0.042002,
     "end_time": "2022-02-26T12:12:27.116972",
     "exception": false,
     "start_time": "2022-02-26T12:12:27.074970",
     "status": "completed"
    },
    "tags": []
   },
   "outputs": [],
   "source": [
    "#hide\n",
    "t = everydaycases.stack()"
   ]
  },
  {
   "cell_type": "code",
   "execution_count": 22,
   "id": "premier-sleeve",
   "metadata": {
    "execution": {
     "iopub.execute_input": "2022-02-26T12:12:27.186554Z",
     "iopub.status.busy": "2022-02-26T12:12:27.186061Z",
     "iopub.status.idle": "2022-02-26T12:12:27.195683Z",
     "shell.execute_reply": "2022-02-26T12:12:27.195248Z"
    },
    "papermill": {
     "duration": 0.046999,
     "end_time": "2022-02-26T12:12:27.195780",
     "exception": false,
     "start_time": "2022-02-26T12:12:27.148781",
     "status": "completed"
    },
    "tags": []
   },
   "outputs": [],
   "source": [
    "#hide\n",
    "g = t.reset_index(['Country/Region'])"
   ]
  },
  {
   "cell_type": "code",
   "execution_count": 23,
   "id": "distributed-pittsburgh",
   "metadata": {
    "execution": {
     "iopub.execute_input": "2022-02-26T12:12:27.262081Z",
     "iopub.status.busy": "2022-02-26T12:12:27.261592Z",
     "iopub.status.idle": "2022-02-26T12:12:27.263317Z",
     "shell.execute_reply": "2022-02-26T12:12:27.263691Z"
    },
    "papermill": {
     "duration": 0.036385,
     "end_time": "2022-02-26T12:12:27.263803",
     "exception": false,
     "start_time": "2022-02-26T12:12:27.227418",
     "status": "completed"
    },
    "tags": []
   },
   "outputs": [],
   "source": [
    "#hide\n",
    "g.index.name = 'date'"
   ]
  },
  {
   "cell_type": "code",
   "execution_count": 24,
   "id": "naked-donor",
   "metadata": {
    "execution": {
     "iopub.execute_input": "2022-02-26T12:12:27.330368Z",
     "iopub.status.busy": "2022-02-26T12:12:27.329864Z",
     "iopub.status.idle": "2022-02-26T12:12:27.331739Z",
     "shell.execute_reply": "2022-02-26T12:12:27.331271Z"
    },
    "papermill": {
     "duration": 0.03633,
     "end_time": "2022-02-26T12:12:27.331831",
     "exception": false,
     "start_time": "2022-02-26T12:12:27.295501",
     "status": "completed"
    },
    "tags": []
   },
   "outputs": [],
   "source": [
    "# #hide\n",
    "# g = g.reset_index(['date'])"
   ]
  },
  {
   "cell_type": "code",
   "execution_count": 25,
   "id": "incomplete-mustang",
   "metadata": {
    "execution": {
     "iopub.execute_input": "2022-02-26T12:12:27.397986Z",
     "iopub.status.busy": "2022-02-26T12:12:27.397474Z",
     "iopub.status.idle": "2022-02-26T12:12:27.399012Z",
     "shell.execute_reply": "2022-02-26T12:12:27.399376Z"
    },
    "papermill": {
     "duration": 0.035885,
     "end_time": "2022-02-26T12:12:27.399481",
     "exception": false,
     "start_time": "2022-02-26T12:12:27.363596",
     "status": "completed"
    },
    "tags": []
   },
   "outputs": [],
   "source": [
    "#hide\n",
    "# g.head()"
   ]
  },
  {
   "cell_type": "code",
   "execution_count": 26,
   "id": "specific-kruger",
   "metadata": {
    "execution": {
     "iopub.execute_input": "2022-02-26T12:12:27.465736Z",
     "iopub.status.busy": "2022-02-26T12:12:27.465242Z",
     "iopub.status.idle": "2022-02-26T12:12:27.467208Z",
     "shell.execute_reply": "2022-02-26T12:12:27.466834Z"
    },
    "papermill": {
     "duration": 0.036069,
     "end_time": "2022-02-26T12:12:27.467301",
     "exception": false,
     "start_time": "2022-02-26T12:12:27.431232",
     "status": "completed"
    },
    "tags": []
   },
   "outputs": [],
   "source": [
    "#hide\n",
    "# g.columns = ['date','country','cases']"
   ]
  },
  {
   "cell_type": "code",
   "execution_count": 27,
   "id": "tender-conversion",
   "metadata": {
    "execution": {
     "iopub.execute_input": "2022-02-26T12:12:27.533434Z",
     "iopub.status.busy": "2022-02-26T12:12:27.532925Z",
     "iopub.status.idle": "2022-02-26T12:12:27.536686Z",
     "shell.execute_reply": "2022-02-26T12:12:27.536256Z"
    },
    "papermill": {
     "duration": 0.037842,
     "end_time": "2022-02-26T12:12:27.536779",
     "exception": false,
     "start_time": "2022-02-26T12:12:27.498937",
     "status": "completed"
    },
    "tags": []
   },
   "outputs": [],
   "source": [
    "#hide\n",
    "# g['continent'] = g.country"
   ]
  },
  {
   "cell_type": "code",
   "execution_count": 28,
   "id": "substantial-wilderness",
   "metadata": {
    "execution": {
     "iopub.execute_input": "2022-02-26T12:12:27.603297Z",
     "iopub.status.busy": "2022-02-26T12:12:27.602785Z",
     "iopub.status.idle": "2022-02-26T12:12:27.604807Z",
     "shell.execute_reply": "2022-02-26T12:12:27.604409Z"
    },
    "papermill": {
     "duration": 0.036315,
     "end_time": "2022-02-26T12:12:27.604901",
     "exception": false,
     "start_time": "2022-02-26T12:12:27.568586",
     "status": "completed"
    },
    "tags": []
   },
   "outputs": [],
   "source": [
    "#hide\n",
    "# cols = list(g.columns.values)"
   ]
  },
  {
   "cell_type": "code",
   "execution_count": 29,
   "id": "solved-farming",
   "metadata": {
    "execution": {
     "iopub.execute_input": "2022-02-26T12:12:27.670945Z",
     "iopub.status.busy": "2022-02-26T12:12:27.670433Z",
     "iopub.status.idle": "2022-02-26T12:12:27.672415Z",
     "shell.execute_reply": "2022-02-26T12:12:27.672015Z"
    },
    "papermill": {
     "duration": 0.036074,
     "end_time": "2022-02-26T12:12:27.672575",
     "exception": false,
     "start_time": "2022-02-26T12:12:27.636501",
     "status": "completed"
    },
    "tags": []
   },
   "outputs": [],
   "source": [
    "#hide\n",
    "# cols.insert(0, cols.pop())"
   ]
  },
  {
   "cell_type": "code",
   "execution_count": 30,
   "id": "executed-adoption",
   "metadata": {
    "execution": {
     "iopub.execute_input": "2022-02-26T12:12:27.739137Z",
     "iopub.status.busy": "2022-02-26T12:12:27.738645Z",
     "iopub.status.idle": "2022-02-26T12:12:27.741575Z",
     "shell.execute_reply": "2022-02-26T12:12:27.741986Z"
    },
    "papermill": {
     "duration": 0.037793,
     "end_time": "2022-02-26T12:12:27.742106",
     "exception": false,
     "start_time": "2022-02-26T12:12:27.704313",
     "status": "completed"
    },
    "tags": []
   },
   "outputs": [],
   "source": [
    "#hide\n",
    "# g = g[cols]"
   ]
  },
  {
   "cell_type": "code",
   "execution_count": 31,
   "id": "subject-dublin",
   "metadata": {
    "execution": {
     "iopub.execute_input": "2022-02-26T12:12:27.809062Z",
     "iopub.status.busy": "2022-02-26T12:12:27.808567Z",
     "iopub.status.idle": "2022-02-26T12:12:27.810756Z",
     "shell.execute_reply": "2022-02-26T12:12:27.810352Z"
    },
    "papermill": {
     "duration": 0.036144,
     "end_time": "2022-02-26T12:12:27.810846",
     "exception": false,
     "start_time": "2022-02-26T12:12:27.774702",
     "status": "completed"
    },
    "tags": []
   },
   "outputs": [],
   "source": [
    "#hide\n",
    "# g['continent'] = g['continent'].map(mapping['map.continent'])"
   ]
  },
  {
   "cell_type": "code",
   "execution_count": 32,
   "id": "freelance-scout",
   "metadata": {
    "execution": {
     "iopub.execute_input": "2022-02-26T12:12:27.877005Z",
     "iopub.status.busy": "2022-02-26T12:12:27.876519Z",
     "iopub.status.idle": "2022-02-26T12:12:27.878152Z",
     "shell.execute_reply": "2022-02-26T12:12:27.878555Z"
    },
    "papermill": {
     "duration": 0.036081,
     "end_time": "2022-02-26T12:12:27.878656",
     "exception": false,
     "start_time": "2022-02-26T12:12:27.842575",
     "status": "completed"
    },
    "tags": []
   },
   "outputs": [],
   "source": [
    "#hide\n",
    "# g.head()"
   ]
  },
  {
   "cell_type": "code",
   "execution_count": 33,
   "id": "limited-engine",
   "metadata": {
    "execution": {
     "iopub.execute_input": "2022-02-26T12:12:27.944604Z",
     "iopub.status.busy": "2022-02-26T12:12:27.944086Z",
     "iopub.status.idle": "2022-02-26T12:12:27.947308Z",
     "shell.execute_reply": "2022-02-26T12:12:27.946908Z"
    },
    "papermill": {
     "duration": 0.037112,
     "end_time": "2022-02-26T12:12:27.947399",
     "exception": false,
     "start_time": "2022-02-26T12:12:27.910287",
     "status": "completed"
    },
    "tags": []
   },
   "outputs": [],
   "source": [
    "# hide\n",
    "# g['date'] = g['date'].astype('datetime64[ns]')"
   ]
  },
  {
   "cell_type": "code",
   "execution_count": 34,
   "id": "sophisticated-supervisor",
   "metadata": {
    "execution": {
     "iopub.execute_input": "2022-02-26T12:12:28.013653Z",
     "iopub.status.busy": "2022-02-26T12:12:28.013155Z",
     "iopub.status.idle": "2022-02-26T12:12:28.015995Z",
     "shell.execute_reply": "2022-02-26T12:12:28.016368Z"
    },
    "papermill": {
     "duration": 0.037172,
     "end_time": "2022-02-26T12:12:28.016493",
     "exception": false,
     "start_time": "2022-02-26T12:12:27.979321",
     "status": "completed"
    },
    "tags": []
   },
   "outputs": [],
   "source": [
    "#hide\n",
    "# g['date'] = g.date.dt.dayofyear"
   ]
  },
  {
   "cell_type": "code",
   "execution_count": 35,
   "id": "inside-dubai",
   "metadata": {
    "execution": {
     "iopub.execute_input": "2022-02-26T12:12:28.084936Z",
     "iopub.status.busy": "2022-02-26T12:12:28.084429Z",
     "iopub.status.idle": "2022-02-26T12:12:28.086686Z",
     "shell.execute_reply": "2022-02-26T12:12:28.086280Z"
    },
    "papermill": {
     "duration": 0.036297,
     "end_time": "2022-02-26T12:12:28.086777",
     "exception": false,
     "start_time": "2022-02-26T12:12:28.050480",
     "status": "completed"
    },
    "tags": []
   },
   "outputs": [],
   "source": [
    "#hide\n",
    "# g = g.rename(columns= {'continent':'group','country':'name','cases':'value'})"
   ]
  },
  {
   "cell_type": "code",
   "execution_count": 36,
   "id": "fleet-motorcycle",
   "metadata": {
    "execution": {
     "iopub.execute_input": "2022-02-26T12:12:28.153090Z",
     "iopub.status.busy": "2022-02-26T12:12:28.152574Z",
     "iopub.status.idle": "2022-02-26T12:12:28.154480Z",
     "shell.execute_reply": "2022-02-26T12:12:28.154096Z"
    },
    "papermill": {
     "duration": 0.03607,
     "end_time": "2022-02-26T12:12:28.154574",
     "exception": false,
     "start_time": "2022-02-26T12:12:28.118504",
     "status": "completed"
    },
    "tags": []
   },
   "outputs": [],
   "source": [
    "#hide\n",
    "# cols = ['name','group','day','value']"
   ]
  },
  {
   "cell_type": "code",
   "execution_count": 37,
   "id": "continued-sleeping",
   "metadata": {
    "execution": {
     "iopub.execute_input": "2022-02-26T12:12:28.220736Z",
     "iopub.status.busy": "2022-02-26T12:12:28.220219Z",
     "iopub.status.idle": "2022-02-26T12:12:28.221867Z",
     "shell.execute_reply": "2022-02-26T12:12:28.222235Z"
    },
    "papermill": {
     "duration": 0.036104,
     "end_time": "2022-02-26T12:12:28.222340",
     "exception": false,
     "start_time": "2022-02-26T12:12:28.186236",
     "status": "completed"
    },
    "tags": []
   },
   "outputs": [],
   "source": [
    "#hide\n",
    "# g.rename(columns= {'date':'day'},inplace = True)"
   ]
  },
  {
   "cell_type": "code",
   "execution_count": 38,
   "id": "major-fight",
   "metadata": {
    "execution": {
     "iopub.execute_input": "2022-02-26T12:12:28.288384Z",
     "iopub.status.busy": "2022-02-26T12:12:28.287882Z",
     "iopub.status.idle": "2022-02-26T12:12:28.291047Z",
     "shell.execute_reply": "2022-02-26T12:12:28.290666Z"
    },
    "papermill": {
     "duration": 0.037131,
     "end_time": "2022-02-26T12:12:28.291139",
     "exception": false,
     "start_time": "2022-02-26T12:12:28.254008",
     "status": "completed"
    },
    "tags": []
   },
   "outputs": [],
   "source": [
    "#hide\n",
    "# g = g[cols]"
   ]
  },
  {
   "cell_type": "code",
   "execution_count": 39,
   "id": "structured-mobile",
   "metadata": {
    "execution": {
     "iopub.execute_input": "2022-02-26T12:12:28.357032Z",
     "iopub.status.busy": "2022-02-26T12:12:28.356518Z",
     "iopub.status.idle": "2022-02-26T12:12:28.358421Z",
     "shell.execute_reply": "2022-02-26T12:12:28.358043Z"
    },
    "papermill": {
     "duration": 0.035799,
     "end_time": "2022-02-26T12:12:28.358514",
     "exception": false,
     "start_time": "2022-02-26T12:12:28.322715",
     "status": "completed"
    },
    "tags": []
   },
   "outputs": [],
   "source": [
    "# #hide\n",
    "# g = g[g.group.notna()]"
   ]
  },
  {
   "cell_type": "code",
   "execution_count": 40,
   "id": "determined-closing",
   "metadata": {
    "execution": {
     "iopub.execute_input": "2022-02-26T12:12:28.424907Z",
     "iopub.status.busy": "2022-02-26T12:12:28.424354Z",
     "iopub.status.idle": "2022-02-26T12:12:28.426239Z",
     "shell.execute_reply": "2022-02-26T12:12:28.425860Z"
    },
    "papermill": {
     "duration": 0.035965,
     "end_time": "2022-02-26T12:12:28.426333",
     "exception": false,
     "start_time": "2022-02-26T12:12:28.390368",
     "status": "completed"
    },
    "tags": []
   },
   "outputs": [],
   "source": [
    "# #hide\n",
    "# colors = dict(zip(\n",
    "#     [\"Oceania\", \"Europe\", \"Asia\", \"South America\", \"Middle East\", \"North America\", \"Africa\"],\n",
    "#     [\"#adb0ff\", \"#ffb3ff\", \"#90d595\", \"#e48381\", \"#aafbff\", \"#f7bb5f\", \"#eafb50\"]\n",
    "# ))\n",
    "# group_lk = g.set_index('name')['group'].to_dict()"
   ]
  },
  {
   "cell_type": "code",
   "execution_count": null,
   "id": "gross-drinking",
   "metadata": {
    "papermill": {
     "duration": 0.032088,
     "end_time": "2022-02-26T12:12:28.492648",
     "exception": false,
     "start_time": "2022-02-26T12:12:28.460560",
     "status": "completed"
    },
    "tags": []
   },
   "outputs": [],
   "source": []
  },
  {
   "cell_type": "code",
   "execution_count": 41,
   "id": "subject-macintosh",
   "metadata": {
    "execution": {
     "iopub.execute_input": "2022-02-26T12:12:28.561475Z",
     "iopub.status.busy": "2022-02-26T12:12:28.560958Z",
     "iopub.status.idle": "2022-02-26T12:12:28.562981Z",
     "shell.execute_reply": "2022-02-26T12:12:28.562579Z"
    },
    "papermill": {
     "duration": 0.036417,
     "end_time": "2022-02-26T12:12:28.563070",
     "exception": false,
     "start_time": "2022-02-26T12:12:28.526653",
     "status": "completed"
    },
    "tags": []
   },
   "outputs": [],
   "source": [
    "# #hide\n",
    "# fig, ax = plt.subplots(figsize=(15, 8))\n",
    "\n",
    "# def draw_barchart(current_day):\n",
    "#     dff = g[g['day'].eq(current_day)].sort_values(by='value', ascending=True).tail(10)\n",
    "#     ax.clear()\n",
    "#     ax.barh(dff['name'], dff['value'], color=[colors[group_lk[x]] for x in dff['name']])\n",
    "#     dx = dff['value'].max() / 200\n",
    "    \n",
    "#     for i, (value, name) in enumerate(zip(dff['value'], dff['name'])):\n",
    "#         ax.text(value-dx, i,     name,           size=14, weight=600, ha='right', va='bottom')\n",
    "#         ax.text(value-dx, i-.25, group_lk[name], size=10, color='#444444', ha='right', va='baseline')\n",
    "#         ax.text(value+dx, i,     f'{value:,.0f}',  size=14, ha='left',  va='center')\n",
    "#     ax.text(1, 0.4, current_day, transform=ax.transAxes, color='#777777', size=46, ha='right', weight=800)\n",
    "#     ax.text(0, 1.06, 'Population (thousands)', transform=ax.transAxes, size=12, color='#777777')\n",
    "#     ax.xaxis.set_major_formatter(ticker.StrMethodFormatter('{x:,.0f}'))\n",
    "#     ax.xaxis.set_ticks_position('top')\n",
    "#     ax.tick_params(axis='x', colors='#777777', labelsize=12)\n",
    "#     ax.set_yticks([])\n",
    "#     ax.margins(0, 0.01)\n",
    "#     ax.grid(which='major', axis='x', linestyle='-')\n",
    "#     ax.set_axisbelow(True)\n",
    "    \n",
    "#     ax.text(0, 1.15, 'Coronavirus',\n",
    "#             transform=ax.transAxes, size=24, weight=600, ha='left', va='top')\n",
    "# #     ax.text(1, 0, 'by @pratapvardhan; credit @jburnmurdoch', transform=ax.transAxes, color='#777777', ha='right',\n",
    "# #             bbox=dict(facecolor='white', alpha=0.8, edgecolor='white'))\n",
    "#     plt.box(False)"
   ]
  },
  {
   "cell_type": "code",
   "execution_count": 42,
   "id": "sexual-wages",
   "metadata": {
    "execution": {
     "iopub.execute_input": "2022-02-26T12:12:28.629199Z",
     "iopub.status.busy": "2022-02-26T12:12:28.628685Z",
     "iopub.status.idle": "2022-02-26T12:12:28.631590Z",
     "shell.execute_reply": "2022-02-26T12:12:28.631970Z"
    },
    "papermill": {
     "duration": 0.037343,
     "end_time": "2022-02-26T12:12:28.632077",
     "exception": false,
     "start_time": "2022-02-26T12:12:28.594734",
     "status": "completed"
    },
    "tags": []
   },
   "outputs": [],
   "source": [
    "# #hide_input\n",
    "# fig, ax = plt.subplots(figsize=(15, 8))\n",
    "# animator = animation.FuncAnimation(fig, draw_barchart, frames=range(g.day.values.min(), g.day.values.max()))\n",
    "# HTML(animator.to_jshtml())\n",
    "# # or use animator.to_html5_video() or animator.save() "
   ]
  },
  {
   "cell_type": "code",
   "execution_count": null,
   "id": "australian-container",
   "metadata": {
    "papermill": {
     "duration": 0.031578,
     "end_time": "2022-02-26T12:12:28.695381",
     "exception": false,
     "start_time": "2022-02-26T12:12:28.663803",
     "status": "completed"
    },
    "tags": []
   },
   "outputs": [],
   "source": []
  },
  {
   "cell_type": "code",
   "execution_count": null,
   "id": "mediterranean-pontiac",
   "metadata": {
    "papermill": {
     "duration": 0.031504,
     "end_time": "2022-02-26T12:12:28.758409",
     "exception": false,
     "start_time": "2022-02-26T12:12:28.726905",
     "status": "completed"
    },
    "tags": []
   },
   "outputs": [],
   "source": []
  },
  {
   "cell_type": "code",
   "execution_count": null,
   "id": "aging-legislature",
   "metadata": {
    "papermill": {
     "duration": 0.031493,
     "end_time": "2022-02-26T12:12:28.821613",
     "exception": false,
     "start_time": "2022-02-26T12:12:28.790120",
     "status": "completed"
    },
    "tags": []
   },
   "outputs": [],
   "source": []
  }
 ],
 "metadata": {
  "kernelspec": {
   "display_name": "Python 3",
   "language": "python",
   "name": "python3"
  },
  "language_info": {
   "codemirror_mode": {
    "name": "ipython",
    "version": 3
   },
   "file_extension": ".py",
   "mimetype": "text/x-python",
   "name": "python",
   "nbconvert_exporter": "python",
   "pygments_lexer": "ipython3",
   "version": "3.6.15"
  },
  "papermill": {
   "duration": 5.99575,
   "end_time": "2022-02-26T12:12:29.170241",
   "environment_variables": {},
   "exception": null,
   "input_path": "2020-03-21-covid19exp.ipynb",
   "output_path": "2020-03-21-covid19exp.ipynb",
   "parameters": {},
   "start_time": "2022-02-26T12:12:23.174491",
   "version": "2.0.0"
  }
 },
 "nbformat": 4,
 "nbformat_minor": 5
}