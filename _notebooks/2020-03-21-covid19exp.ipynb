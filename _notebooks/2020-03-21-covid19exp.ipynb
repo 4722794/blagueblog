{
 "cells": [
  {
   "cell_type": "markdown",
   "id": "muslim-click",
   "metadata": {
    "papermill": {
     "duration": 0.038971,
     "end_time": "2021-06-20T00:22:28.975831",
     "exception": false,
     "start_time": "2021-06-20T00:22:28.936860",
     "status": "completed"
    },
    "tags": []
   },
   "source": [
    "# COVID-19 Case Race\n",
    "> A race chart to see rising cases around the world\n",
    "\n",
    "- author: Hargun Oberoi\n",
    "- image: images/covid-overview.png\n",
    "- hide: false\n",
    "- badges: false"
   ]
  },
  {
   "cell_type": "code",
   "execution_count": 1,
   "id": "proof-material",
   "metadata": {
    "execution": {
     "iopub.execute_input": "2021-06-20T00:22:29.054110Z",
     "iopub.status.busy": "2021-06-20T00:22:29.053509Z",
     "iopub.status.idle": "2021-06-20T00:22:29.424499Z",
     "shell.execute_reply": "2021-06-20T00:22:29.423379Z"
    },
    "papermill": {
     "duration": 0.414898,
     "end_time": "2021-06-20T00:22:29.424676",
     "exception": false,
     "start_time": "2021-06-20T00:22:29.009778",
     "status": "completed"
    },
    "tags": []
   },
   "outputs": [],
   "source": [
    "#hide\n",
    "import numpy as np\n",
    "import pandas as pd\n",
    "from jinja2 import Template\n",
    "from IPython.display import HTML"
   ]
  },
  {
   "cell_type": "code",
   "execution_count": 2,
   "id": "developed-terminology",
   "metadata": {
    "execution": {
     "iopub.execute_input": "2021-06-20T00:22:29.497830Z",
     "iopub.status.busy": "2021-06-20T00:22:29.497225Z",
     "iopub.status.idle": "2021-06-20T00:22:29.498712Z",
     "shell.execute_reply": "2021-06-20T00:22:29.499206Z"
    },
    "papermill": {
     "duration": 0.040663,
     "end_time": "2021-06-20T00:22:29.499344",
     "exception": false,
     "start_time": "2021-06-20T00:22:29.458681",
     "status": "completed"
    },
    "tags": []
   },
   "outputs": [],
   "source": [
    "#hide\n",
    "\n",
    "# FETCH\n",
    "base_url = 'https://raw.githubusercontent.com/pratapvardhan/notebooks/master/covid19/'\n",
    "paths = {\n",
    "    'mapping': base_url + 'mapping_countries.csv',\n",
    "    'overview': base_url + 'overview.tpl'\n",
    "}"
   ]
  },
  {
   "cell_type": "code",
   "execution_count": 3,
   "id": "dynamic-saver",
   "metadata": {
    "execution": {
     "iopub.execute_input": "2021-06-20T00:22:29.576475Z",
     "iopub.status.busy": "2021-06-20T00:22:29.573850Z",
     "iopub.status.idle": "2021-06-20T00:22:29.580758Z",
     "shell.execute_reply": "2021-06-20T00:22:29.580286Z"
    },
    "papermill": {
     "duration": 0.04869,
     "end_time": "2021-06-20T00:22:29.580881",
     "exception": false,
     "start_time": "2021-06-20T00:22:29.532191",
     "status": "completed"
    },
    "tags": []
   },
   "outputs": [
    {
     "data": {
      "text/plain": [
       "'https://raw.githubusercontent.com/pratapvardhan/notebooks/master/covid19/mapping_countries.csv'"
      ]
     },
     "execution_count": 3,
     "metadata": {},
     "output_type": "execute_result"
    }
   ],
   "source": [
    "#hide\n",
    "paths['mapping']"
   ]
  },
  {
   "cell_type": "code",
   "execution_count": 4,
   "id": "urban-software",
   "metadata": {
    "execution": {
     "iopub.execute_input": "2021-06-20T00:22:29.653272Z",
     "iopub.status.busy": "2021-06-20T00:22:29.652687Z",
     "iopub.status.idle": "2021-06-20T00:22:29.654946Z",
     "shell.execute_reply": "2021-06-20T00:22:29.654377Z"
    },
    "papermill": {
     "duration": 0.041177,
     "end_time": "2021-06-20T00:22:29.655062",
     "exception": false,
     "start_time": "2021-06-20T00:22:29.613885",
     "status": "completed"
    },
    "tags": []
   },
   "outputs": [],
   "source": [
    "#hide\n",
    "def get_mappings(url):\n",
    "    df = pd.read_csv(url)\n",
    "    return {\n",
    "        'df': df,\n",
    "        'replace.country': dict(df.dropna(subset=['Name']).set_index('Country')['Name']),\n",
    "        'map.continent': dict(df.set_index('Name')['Continent'])\n",
    "    }"
   ]
  },
  {
   "cell_type": "code",
   "execution_count": 5,
   "id": "intimate-machinery",
   "metadata": {
    "execution": {
     "iopub.execute_input": "2021-06-20T00:22:29.727856Z",
     "iopub.status.busy": "2021-06-20T00:22:29.727233Z",
     "iopub.status.idle": "2021-06-20T00:22:29.759042Z",
     "shell.execute_reply": "2021-06-20T00:22:29.758485Z"
    },
    "papermill": {
     "duration": 0.070736,
     "end_time": "2021-06-20T00:22:29.759184",
     "exception": false,
     "start_time": "2021-06-20T00:22:29.688448",
     "status": "completed"
    },
    "tags": []
   },
   "outputs": [],
   "source": [
    "#hide\n",
    "mapping = get_mappings(paths['mapping'])"
   ]
  },
  {
   "cell_type": "code",
   "execution_count": 6,
   "id": "certified-tactics",
   "metadata": {
    "execution": {
     "iopub.execute_input": "2021-06-20T00:22:29.832560Z",
     "iopub.status.busy": "2021-06-20T00:22:29.831973Z",
     "iopub.status.idle": "2021-06-20T00:22:29.833730Z",
     "shell.execute_reply": "2021-06-20T00:22:29.834219Z"
    },
    "papermill": {
     "duration": 0.04153,
     "end_time": "2021-06-20T00:22:29.834353",
     "exception": false,
     "start_time": "2021-06-20T00:22:29.792823",
     "status": "completed"
    },
    "tags": []
   },
   "outputs": [],
   "source": [
    "#hide\n",
    "def get_template(path):\n",
    "    from urllib.parse import urlparse\n",
    "    if bool(urlparse(path).netloc):\n",
    "        from urllib.request import urlopen\n",
    "        return urlopen(path).read().decode('utf8')\n",
    "    return open(path).read()"
   ]
  },
  {
   "cell_type": "code",
   "execution_count": 7,
   "id": "realistic-blast",
   "metadata": {
    "execution": {
     "iopub.execute_input": "2021-06-20T00:22:29.906391Z",
     "iopub.status.busy": "2021-06-20T00:22:29.905829Z",
     "iopub.status.idle": "2021-06-20T00:22:29.907683Z",
     "shell.execute_reply": "2021-06-20T00:22:29.908187Z"
    },
    "papermill": {
     "duration": 0.040571,
     "end_time": "2021-06-20T00:22:29.908324",
     "exception": false,
     "start_time": "2021-06-20T00:22:29.867753",
     "status": "completed"
    },
    "tags": []
   },
   "outputs": [],
   "source": [
    "#hide\n",
    "def get_frame(name):\n",
    "    url = (\n",
    "        'https://raw.githubusercontent.com/CSSEGISandData/COVID-19/master/csse_covid_19_data/'\n",
    "        f'csse_covid_19_time_series/time_series_covid19_{name}_global.csv')\n",
    "    df = pd.read_csv(url)\n",
    "    # rename countries\n",
    "    df['Country/Region'] = df['Country/Region'].replace(mapping['replace.country'])\n",
    "    return df"
   ]
  },
  {
   "cell_type": "code",
   "execution_count": 8,
   "id": "affiliated-characterization",
   "metadata": {
    "execution": {
     "iopub.execute_input": "2021-06-20T00:22:29.980593Z",
     "iopub.status.busy": "2021-06-20T00:22:29.980005Z",
     "iopub.status.idle": "2021-06-20T00:22:29.981968Z",
     "shell.execute_reply": "2021-06-20T00:22:29.982460Z"
    },
    "papermill": {
     "duration": 0.04147,
     "end_time": "2021-06-20T00:22:29.982594",
     "exception": false,
     "start_time": "2021-06-20T00:22:29.941124",
     "status": "completed"
    },
    "tags": []
   },
   "outputs": [],
   "source": [
    "#hide\n",
    "def get_dates(df):\n",
    "    dt_cols = df.columns[~df.columns.isin(['Province/State', 'Country/Region', 'Lat', 'Long'])]\n",
    "    LAST_DATE_I = -1\n",
    "    # sometimes last column may be empty, then go backwards\n",
    "    for i in range(-1, -len(dt_cols), -1):\n",
    "        if not df[dt_cols[i]].fillna(0).eq(0).all():\n",
    "            LAST_DATE_I = i\n",
    "            break\n",
    "    return LAST_DATE_I, dt_cols"
   ]
  },
  {
   "cell_type": "code",
   "execution_count": 9,
   "id": "recent-optimization",
   "metadata": {
    "execution": {
     "iopub.execute_input": "2021-06-20T00:22:30.053632Z",
     "iopub.status.busy": "2021-06-20T00:22:30.053044Z",
     "iopub.status.idle": "2021-06-20T00:22:30.363518Z",
     "shell.execute_reply": "2021-06-20T00:22:30.362974Z"
    },
    "papermill": {
     "duration": 0.348244,
     "end_time": "2021-06-20T00:22:30.363671",
     "exception": false,
     "start_time": "2021-06-20T00:22:30.015427",
     "status": "completed"
    },
    "tags": []
   },
   "outputs": [],
   "source": [
    "#hide\n",
    "COL_REGION = 'Country/Region'\n",
    "# Confirmed, Recovered, Deaths\n",
    "df = get_frame('confirmed')\n",
    "# dft_: timeseries, dfc_: today country agg\n",
    "dft_cases = df\n",
    "dft_deaths = get_frame('deaths')\n",
    "dft_recovered = get_frame('recovered')\n",
    "LAST_DATE_I, dt_cols = get_dates(df)"
   ]
  },
  {
   "cell_type": "code",
   "execution_count": 10,
   "id": "absolute-copper",
   "metadata": {
    "execution": {
     "iopub.execute_input": "2021-06-20T00:22:30.436683Z",
     "iopub.status.busy": "2021-06-20T00:22:30.436141Z",
     "iopub.status.idle": "2021-06-20T00:22:30.438584Z",
     "shell.execute_reply": "2021-06-20T00:22:30.438087Z"
    },
    "papermill": {
     "duration": 0.041147,
     "end_time": "2021-06-20T00:22:30.438702",
     "exception": false,
     "start_time": "2021-06-20T00:22:30.397555",
     "status": "completed"
    },
    "tags": []
   },
   "outputs": [],
   "source": [
    "#hide\n",
    "LAST_DATE_I, dt_cols = get_dates(df)\n",
    "dt_today =dt_cols[LAST_DATE_I]\n",
    "# dt_5day = dt_cols[LAST_DATE_I - 5]\n",
    "dt_yday = dt_cols[LAST_DATE_I - 1]"
   ]
  },
  {
   "cell_type": "code",
   "execution_count": 11,
   "id": "restricted-sheriff",
   "metadata": {
    "execution": {
     "iopub.execute_input": "2021-06-20T00:22:30.511251Z",
     "iopub.status.busy": "2021-06-20T00:22:30.510676Z",
     "iopub.status.idle": "2021-06-20T00:22:30.518737Z",
     "shell.execute_reply": "2021-06-20T00:22:30.518235Z"
    },
    "papermill": {
     "duration": 0.047504,
     "end_time": "2021-06-20T00:22:30.518870",
     "exception": false,
     "start_time": "2021-06-20T00:22:30.471366",
     "status": "completed"
    },
    "tags": []
   },
   "outputs": [],
   "source": [
    "#hide\n",
    "dfc_cases = dft_cases.groupby(COL_REGION)[dt_today].sum()\n",
    "dfc_deaths = dft_deaths.groupby(COL_REGION)[dt_today].sum()\n",
    "# dfp_cases = dft_cases.groupby(COL_REGION)[dt_5day].sum()\n",
    "# dfp_deaths = dft_deaths.groupby(COL_REGION)[dt_5day].sum()\n",
    "dfp_cases = dft_cases.groupby(COL_REGION)[dt_yday].sum()\n",
    "dfp_deaths = dft_deaths.groupby(COL_REGION)[dt_yday].sum()"
   ]
  },
  {
   "cell_type": "code",
   "execution_count": 12,
   "id": "deluxe-hepatitis",
   "metadata": {
    "execution": {
     "iopub.execute_input": "2021-06-20T00:22:30.592746Z",
     "iopub.status.busy": "2021-06-20T00:22:30.592170Z",
     "iopub.status.idle": "2021-06-20T00:22:30.596962Z",
     "shell.execute_reply": "2021-06-20T00:22:30.596495Z"
    },
    "papermill": {
     "duration": 0.044527,
     "end_time": "2021-06-20T00:22:30.597087",
     "exception": false,
     "start_time": "2021-06-20T00:22:30.552560",
     "status": "completed"
    },
    "tags": []
   },
   "outputs": [],
   "source": [
    "#hide\n",
    "df_table = (pd.DataFrame(dict(Cases = dfc_cases, Deaths = dfc_deaths, PCases = dfp_cases, PDeaths = dfp_deaths))\n",
    "            .sort_values(by = ['Cases','Deaths'], ascending = [False, False])\n",
    "            .reset_index())"
   ]
  },
  {
   "cell_type": "code",
   "execution_count": 13,
   "id": "educational-chancellor",
   "metadata": {
    "execution": {
     "iopub.execute_input": "2021-06-20T00:22:30.683435Z",
     "iopub.status.busy": "2021-06-20T00:22:30.677616Z",
     "iopub.status.idle": "2021-06-20T00:22:30.692544Z",
     "shell.execute_reply": "2021-06-20T00:22:30.692055Z"
    },
    "papermill": {
     "duration": 0.061979,
     "end_time": "2021-06-20T00:22:30.692672",
     "exception": false,
     "start_time": "2021-06-20T00:22:30.630693",
     "status": "completed"
    },
    "tags": []
   },
   "outputs": [
    {
     "data": {
      "text/html": [
       "<div>\n",
       "<style scoped>\n",
       "    .dataframe tbody tr th:only-of-type {\n",
       "        vertical-align: middle;\n",
       "    }\n",
       "\n",
       "    .dataframe tbody tr th {\n",
       "        vertical-align: top;\n",
       "    }\n",
       "\n",
       "    .dataframe thead th {\n",
       "        text-align: right;\n",
       "    }\n",
       "</style>\n",
       "<table border=\"1\" class=\"dataframe\">\n",
       "  <thead>\n",
       "    <tr style=\"text-align: right;\">\n",
       "      <th></th>\n",
       "      <th>Country/Region</th>\n",
       "      <th>Cases</th>\n",
       "      <th>Deaths</th>\n",
       "      <th>PCases</th>\n",
       "      <th>PDeaths</th>\n",
       "      <th>Cases (+)</th>\n",
       "      <th>Deaths (+)</th>\n",
       "      <th>Fatality Rate</th>\n",
       "      <th>Continent</th>\n",
       "    </tr>\n",
       "  </thead>\n",
       "  <tbody>\n",
       "    <tr>\n",
       "      <th>0</th>\n",
       "      <td>US</td>\n",
       "      <td>33516175</td>\n",
       "      <td>601571</td>\n",
       "      <td>33508867</td>\n",
       "      <td>600934</td>\n",
       "      <td>7308</td>\n",
       "      <td>637</td>\n",
       "      <td>1.79</td>\n",
       "      <td>North America</td>\n",
       "    </tr>\n",
       "    <tr>\n",
       "      <th>1</th>\n",
       "      <td>India</td>\n",
       "      <td>29823546</td>\n",
       "      <td>385137</td>\n",
       "      <td>29762793</td>\n",
       "      <td>383490</td>\n",
       "      <td>60753</td>\n",
       "      <td>1647</td>\n",
       "      <td>1.29</td>\n",
       "      <td>Asia</td>\n",
       "    </tr>\n",
       "    <tr>\n",
       "      <th>2</th>\n",
       "      <td>Brazil</td>\n",
       "      <td>17801462</td>\n",
       "      <td>498499</td>\n",
       "      <td>17702630</td>\n",
       "      <td>496004</td>\n",
       "      <td>98832</td>\n",
       "      <td>2495</td>\n",
       "      <td>2.80</td>\n",
       "      <td>South America</td>\n",
       "    </tr>\n",
       "    <tr>\n",
       "      <th>3</th>\n",
       "      <td>France</td>\n",
       "      <td>5814648</td>\n",
       "      <td>110864</td>\n",
       "      <td>5811461</td>\n",
       "      <td>110796</td>\n",
       "      <td>3187</td>\n",
       "      <td>68</td>\n",
       "      <td>1.91</td>\n",
       "      <td>Europe</td>\n",
       "    </tr>\n",
       "    <tr>\n",
       "      <th>4</th>\n",
       "      <td>Turkey</td>\n",
       "      <td>5359728</td>\n",
       "      <td>49071</td>\n",
       "      <td>5354153</td>\n",
       "      <td>49012</td>\n",
       "      <td>5575</td>\n",
       "      <td>59</td>\n",
       "      <td>0.92</td>\n",
       "      <td>Asia</td>\n",
       "    </tr>\n",
       "  </tbody>\n",
       "</table>\n",
       "</div>"
      ],
      "text/plain": [
       "  Country/Region     Cases  Deaths    PCases  PDeaths  Cases (+)  Deaths (+)  \\\n",
       "0             US  33516175  601571  33508867   600934       7308         637   \n",
       "1          India  29823546  385137  29762793   383490      60753        1647   \n",
       "2         Brazil  17801462  498499  17702630   496004      98832        2495   \n",
       "3         France   5814648  110864   5811461   110796       3187          68   \n",
       "4         Turkey   5359728   49071   5354153    49012       5575          59   \n",
       "\n",
       "   Fatality Rate      Continent  \n",
       "0           1.79  North America  \n",
       "1           1.29           Asia  \n",
       "2           2.80  South America  \n",
       "3           1.91         Europe  \n",
       "4           0.92           Asia  "
      ]
     },
     "execution_count": 13,
     "metadata": {},
     "output_type": "execute_result"
    }
   ],
   "source": [
    "#hide\n",
    "for c in 'Cases, Deaths'.split(', '):\n",
    "    df_table[f'{c} (+)'] = (df_table[c] - df_table[f'P{c}']).clip(0)\n",
    "    #Clip ça veut dire, les chiffres negatif sont interdit\n",
    "df_table['Fatality Rate'] = (100* df_table['Deaths']/ df_table['Cases']).round(2)\n",
    "df_table['Continent'] = df_table['Country/Region'].map(mapping['map.continent'])\n",
    "df_table.head(5)"
   ]
  },
  {
   "cell_type": "code",
   "execution_count": 14,
   "id": "aboriginal-bulgaria",
   "metadata": {
    "execution": {
     "iopub.execute_input": "2021-06-20T00:22:30.767057Z",
     "iopub.status.busy": "2021-06-20T00:22:30.766480Z",
     "iopub.status.idle": "2021-06-20T00:22:30.769924Z",
     "shell.execute_reply": "2021-06-20T00:22:30.769337Z"
    },
    "papermill": {
     "duration": 0.042986,
     "end_time": "2021-06-20T00:22:30.770044",
     "exception": false,
     "start_time": "2021-06-20T00:22:30.727058",
     "status": "completed"
    },
    "tags": []
   },
   "outputs": [],
   "source": [
    "#hide\n",
    "#delete problematic countries from table\n",
    "df_table = df_table[~df_table['Country/Region'].isin(['Cape Verde', 'Cruise Ship', 'Kosovo'])]"
   ]
  },
  {
   "cell_type": "code",
   "execution_count": 15,
   "id": "fantastic-effect",
   "metadata": {
    "execution": {
     "iopub.execute_input": "2021-06-20T00:22:30.846459Z",
     "iopub.status.busy": "2021-06-20T00:22:30.845878Z",
     "iopub.status.idle": "2021-06-20T00:22:30.865164Z",
     "shell.execute_reply": "2021-06-20T00:22:30.864476Z"
    },
    "papermill": {
     "duration": 0.06122,
     "end_time": "2021-06-20T00:22:30.865305",
     "exception": false,
     "start_time": "2021-06-20T00:22:30.804085",
     "status": "completed"
    },
    "tags": []
   },
   "outputs": [
    {
     "data": {
      "text/html": [
       "<div>\n",
       "<style scoped>\n",
       "    .dataframe tbody tr th:only-of-type {\n",
       "        vertical-align: middle;\n",
       "    }\n",
       "\n",
       "    .dataframe tbody tr th {\n",
       "        vertical-align: top;\n",
       "    }\n",
       "\n",
       "    .dataframe thead th {\n",
       "        text-align: right;\n",
       "    }\n",
       "</style>\n",
       "<table border=\"1\" class=\"dataframe\">\n",
       "  <thead>\n",
       "    <tr style=\"text-align: right;\">\n",
       "      <th></th>\n",
       "      <th>Country/Region</th>\n",
       "      <th>Cases</th>\n",
       "      <th>Deaths</th>\n",
       "      <th>PCases</th>\n",
       "      <th>PDeaths</th>\n",
       "      <th>Cases (+)</th>\n",
       "      <th>Deaths (+)</th>\n",
       "      <th>Fatality Rate</th>\n",
       "      <th>Continent</th>\n",
       "    </tr>\n",
       "  </thead>\n",
       "  <tbody>\n",
       "    <tr>\n",
       "      <th>0</th>\n",
       "      <td>US</td>\n",
       "      <td>33516175</td>\n",
       "      <td>601571</td>\n",
       "      <td>33508867</td>\n",
       "      <td>600934</td>\n",
       "      <td>7308</td>\n",
       "      <td>637</td>\n",
       "      <td>1.8</td>\n",
       "      <td>North America</td>\n",
       "    </tr>\n",
       "    <tr>\n",
       "      <th>1</th>\n",
       "      <td>India</td>\n",
       "      <td>29823546</td>\n",
       "      <td>385137</td>\n",
       "      <td>29762793</td>\n",
       "      <td>383490</td>\n",
       "      <td>60753</td>\n",
       "      <td>1647</td>\n",
       "      <td>1.3</td>\n",
       "      <td>Asia</td>\n",
       "    </tr>\n",
       "    <tr>\n",
       "      <th>2</th>\n",
       "      <td>Brazil</td>\n",
       "      <td>17801462</td>\n",
       "      <td>498499</td>\n",
       "      <td>17702630</td>\n",
       "      <td>496004</td>\n",
       "      <td>98832</td>\n",
       "      <td>2495</td>\n",
       "      <td>2.8</td>\n",
       "      <td>South America</td>\n",
       "    </tr>\n",
       "    <tr>\n",
       "      <th>3</th>\n",
       "      <td>France</td>\n",
       "      <td>5814648</td>\n",
       "      <td>110864</td>\n",
       "      <td>5811461</td>\n",
       "      <td>110796</td>\n",
       "      <td>3187</td>\n",
       "      <td>68</td>\n",
       "      <td>1.9</td>\n",
       "      <td>Europe</td>\n",
       "    </tr>\n",
       "    <tr>\n",
       "      <th>4</th>\n",
       "      <td>Turkey</td>\n",
       "      <td>5359728</td>\n",
       "      <td>49071</td>\n",
       "      <td>5354153</td>\n",
       "      <td>49012</td>\n",
       "      <td>5575</td>\n",
       "      <td>59</td>\n",
       "      <td>0.9</td>\n",
       "      <td>Asia</td>\n",
       "    </tr>\n",
       "  </tbody>\n",
       "</table>\n",
       "</div>"
      ],
      "text/plain": [
       "  Country/Region     Cases  Deaths    PCases  PDeaths  Cases (+)  Deaths (+)  \\\n",
       "0             US  33516175  601571  33508867   600934       7308         637   \n",
       "1          India  29823546  385137  29762793   383490      60753        1647   \n",
       "2         Brazil  17801462  498499  17702630   496004      98832        2495   \n",
       "3         France   5814648  110864   5811461   110796       3187          68   \n",
       "4         Turkey   5359728   49071   5354153    49012       5575          59   \n",
       "\n",
       "   Fatality Rate      Continent  \n",
       "0            1.8  North America  \n",
       "1            1.3           Asia  \n",
       "2            2.8  South America  \n",
       "3            1.9         Europe  \n",
       "4            0.9           Asia  "
      ]
     },
     "execution_count": 15,
     "metadata": {},
     "output_type": "execute_result"
    }
   ],
   "source": [
    "#hide\n",
    "df_table = (pd.DataFrame(dict(Cases=dfc_cases, Deaths=dfc_deaths, PCases=dfp_cases, PDeaths=dfp_deaths))\n",
    "             .sort_values(by=['Cases', 'Deaths'], ascending=[False, False])\n",
    "             .reset_index())\n",
    "df_table.rename(columns={'index': 'Country/Region'}, inplace=True)\n",
    "for c in 'Cases, Deaths'.split(', '):\n",
    "    df_table[f'{c} (+)'] = (df_table[c] - df_table[f'P{c}']).clip(0)  # DATA BUG\n",
    "df_table['Fatality Rate'] = (100 * df_table['Deaths'] / df_table['Cases']).round(1)\n",
    "df_table['Continent'] = df_table['Country/Region'].map(mapping['map.continent'])\n",
    "df_table.head(5)"
   ]
  },
  {
   "cell_type": "code",
   "execution_count": 16,
   "id": "fewer-occasion",
   "metadata": {
    "execution": {
     "iopub.execute_input": "2021-06-20T00:22:30.942734Z",
     "iopub.status.busy": "2021-06-20T00:22:30.942138Z",
     "iopub.status.idle": "2021-06-20T00:22:30.944309Z",
     "shell.execute_reply": "2021-06-20T00:22:30.944754Z"
    },
    "papermill": {
     "duration": 0.043562,
     "end_time": "2021-06-20T00:22:30.944901",
     "exception": false,
     "start_time": "2021-06-20T00:22:30.901339",
     "status": "completed"
    },
    "tags": []
   },
   "outputs": [],
   "source": [
    "#hide\n",
    "#delete problematic countries from table\n",
    "df_table = df_table[~df_table['Country/Region'].isin(['Cape Verde', 'Cruise Ship', 'Kosovo'])]"
   ]
  },
  {
   "cell_type": "code",
   "execution_count": 17,
   "id": "related-center",
   "metadata": {
    "execution": {
     "iopub.execute_input": "2021-06-20T00:22:31.027763Z",
     "iopub.status.busy": "2021-06-20T00:22:31.027144Z",
     "iopub.status.idle": "2021-06-20T00:22:31.035882Z",
     "shell.execute_reply": "2021-06-20T00:22:31.035354Z"
    },
    "papermill": {
     "duration": 0.056624,
     "end_time": "2021-06-20T00:22:31.036009",
     "exception": false,
     "start_time": "2021-06-20T00:22:30.979385",
     "status": "completed"
    },
    "tags": []
   },
   "outputs": [],
   "source": [
    "#hide\n",
    "metrics = [df_table.columns[index] for index in [1,2,5,6]]\n",
    "# s_china = df_table[df_table['Country/Region'].eq('China')][metrics].sum().add_prefix('China ')\n",
    "s_us = df_table[df_table['Country/Region'].eq('US')][metrics].sum().add_prefix('US ')\n",
    "s_eu = df_table[df_table['Continent'].eq('Europe')][metrics].sum().add_prefix('EU ')\n",
    "s_ind = df_table[df_table['Country/Region'].eq('India')][metrics].sum().add_prefix('India ')\n",
    "summary = {'updated': pd.to_datetime(dt_today), 'since': pd.to_datetime(dt_yday)}\n",
    "summary = {'updated': pd.to_datetime(dt_today), 'since': pd.to_datetime(dt_yday)}\n",
    "summary = {**summary, **df_table[metrics].sum(), **s_ind, **s_us, **s_eu}"
   ]
  },
  {
   "cell_type": "code",
   "execution_count": 18,
   "id": "engaging-syndrome",
   "metadata": {
    "execution": {
     "iopub.execute_input": "2021-06-20T00:22:31.111171Z",
     "iopub.status.busy": "2021-06-20T00:22:31.110582Z",
     "iopub.status.idle": "2021-06-20T00:22:31.124810Z",
     "shell.execute_reply": "2021-06-20T00:22:31.124324Z"
    },
    "papermill": {
     "duration": 0.054254,
     "end_time": "2021-06-20T00:22:31.124937",
     "exception": false,
     "start_time": "2021-06-20T00:22:31.070683",
     "status": "completed"
    },
    "tags": []
   },
   "outputs": [],
   "source": [
    "#hide\n",
    "dft_ct_new_cases = dft_cases.groupby(COL_REGION)[dt_cols].sum().diff(axis=1).fillna(0).astype(int)"
   ]
  },
  {
   "cell_type": "code",
   "execution_count": 19,
   "id": "neutral-assignment",
   "metadata": {
    "execution": {
     "iopub.execute_input": "2021-06-20T00:22:31.201457Z",
     "iopub.status.busy": "2021-06-20T00:22:31.200880Z",
     "iopub.status.idle": "2021-06-20T00:22:31.203125Z",
     "shell.execute_reply": "2021-06-20T00:22:31.202632Z"
    },
    "papermill": {
     "duration": 0.04351,
     "end_time": "2021-06-20T00:22:31.203241",
     "exception": false,
     "start_time": "2021-06-20T00:22:31.159731",
     "status": "completed"
    },
    "tags": []
   },
   "outputs": [],
   "source": [
    "#hide\n",
    "everydaycases = dft_ct_new_cases.cumsum(axis=1)"
   ]
  },
  {
   "cell_type": "code",
   "execution_count": 20,
   "id": "parliamentary-calgary",
   "metadata": {
    "execution": {
     "iopub.execute_input": "2021-06-20T00:22:31.277134Z",
     "iopub.status.busy": "2021-06-20T00:22:31.276552Z",
     "iopub.status.idle": "2021-06-20T00:22:31.977565Z",
     "shell.execute_reply": "2021-06-20T00:22:31.976965Z"
    },
    "papermill": {
     "duration": 0.740105,
     "end_time": "2021-06-20T00:22:31.977716",
     "exception": false,
     "start_time": "2021-06-20T00:22:31.237611",
     "status": "completed"
    },
    "tags": []
   },
   "outputs": [],
   "source": [
    "#hide\n",
    "import pandas as pd\n",
    "import matplotlib.pyplot as plt\n",
    "import matplotlib.ticker as ticker\n",
    "import matplotlib.animation as animation\n",
    "from IPython.display import HTML"
   ]
  },
  {
   "cell_type": "code",
   "execution_count": 21,
   "id": "lasting-extraction",
   "metadata": {
    "execution": {
     "iopub.execute_input": "2021-06-20T00:22:32.053491Z",
     "iopub.status.busy": "2021-06-20T00:22:32.052913Z",
     "iopub.status.idle": "2021-06-20T00:22:32.058831Z",
     "shell.execute_reply": "2021-06-20T00:22:32.058258Z"
    },
    "papermill": {
     "duration": 0.04582,
     "end_time": "2021-06-20T00:22:32.058951",
     "exception": false,
     "start_time": "2021-06-20T00:22:32.013131",
     "status": "completed"
    },
    "tags": []
   },
   "outputs": [],
   "source": [
    "#hide\n",
    "t = everydaycases.stack()"
   ]
  },
  {
   "cell_type": "code",
   "execution_count": 22,
   "id": "premier-sleeve",
   "metadata": {
    "execution": {
     "iopub.execute_input": "2021-06-20T00:22:32.132875Z",
     "iopub.status.busy": "2021-06-20T00:22:32.132199Z",
     "iopub.status.idle": "2021-06-20T00:22:32.142615Z",
     "shell.execute_reply": "2021-06-20T00:22:32.142145Z"
    },
    "papermill": {
     "duration": 0.04913,
     "end_time": "2021-06-20T00:22:32.142737",
     "exception": false,
     "start_time": "2021-06-20T00:22:32.093607",
     "status": "completed"
    },
    "tags": []
   },
   "outputs": [],
   "source": [
    "#hide\n",
    "g = t.reset_index(['Country/Region'])"
   ]
  },
  {
   "cell_type": "code",
   "execution_count": 23,
   "id": "distributed-pittsburgh",
   "metadata": {
    "execution": {
     "iopub.execute_input": "2021-06-20T00:22:32.216812Z",
     "iopub.status.busy": "2021-06-20T00:22:32.216235Z",
     "iopub.status.idle": "2021-06-20T00:22:32.219253Z",
     "shell.execute_reply": "2021-06-20T00:22:32.218782Z"
    },
    "papermill": {
     "duration": 0.042466,
     "end_time": "2021-06-20T00:22:32.219376",
     "exception": false,
     "start_time": "2021-06-20T00:22:32.176910",
     "status": "completed"
    },
    "tags": []
   },
   "outputs": [],
   "source": [
    "#hide\n",
    "g.index.name = 'date'"
   ]
  },
  {
   "cell_type": "code",
   "execution_count": 24,
   "id": "naked-donor",
   "metadata": {
    "execution": {
     "iopub.execute_input": "2021-06-20T00:22:32.292276Z",
     "iopub.status.busy": "2021-06-20T00:22:32.291688Z",
     "iopub.status.idle": "2021-06-20T00:22:32.293688Z",
     "shell.execute_reply": "2021-06-20T00:22:32.294127Z"
    },
    "papermill": {
     "duration": 0.040416,
     "end_time": "2021-06-20T00:22:32.294266",
     "exception": false,
     "start_time": "2021-06-20T00:22:32.253850",
     "status": "completed"
    },
    "tags": []
   },
   "outputs": [],
   "source": [
    "# #hide\n",
    "# g = g.reset_index(['date'])"
   ]
  },
  {
   "cell_type": "code",
   "execution_count": 25,
   "id": "incomplete-mustang",
   "metadata": {
    "execution": {
     "iopub.execute_input": "2021-06-20T00:22:32.367515Z",
     "iopub.status.busy": "2021-06-20T00:22:32.366927Z",
     "iopub.status.idle": "2021-06-20T00:22:32.369252Z",
     "shell.execute_reply": "2021-06-20T00:22:32.368738Z"
    },
    "papermill": {
     "duration": 0.040507,
     "end_time": "2021-06-20T00:22:32.369370",
     "exception": false,
     "start_time": "2021-06-20T00:22:32.328863",
     "status": "completed"
    },
    "tags": []
   },
   "outputs": [],
   "source": [
    "#hide\n",
    "# g.head()"
   ]
  },
  {
   "cell_type": "code",
   "execution_count": 26,
   "id": "specific-kruger",
   "metadata": {
    "execution": {
     "iopub.execute_input": "2021-06-20T00:22:32.441428Z",
     "iopub.status.busy": "2021-06-20T00:22:32.440830Z",
     "iopub.status.idle": "2021-06-20T00:22:32.442575Z",
     "shell.execute_reply": "2021-06-20T00:22:32.443107Z"
    },
    "papermill": {
     "duration": 0.040009,
     "end_time": "2021-06-20T00:22:32.443245",
     "exception": false,
     "start_time": "2021-06-20T00:22:32.403236",
     "status": "completed"
    },
    "tags": []
   },
   "outputs": [],
   "source": [
    "#hide\n",
    "# g.columns = ['date','country','cases']"
   ]
  },
  {
   "cell_type": "code",
   "execution_count": 27,
   "id": "tender-conversion",
   "metadata": {
    "execution": {
     "iopub.execute_input": "2021-06-20T00:22:32.515976Z",
     "iopub.status.busy": "2021-06-20T00:22:32.515369Z",
     "iopub.status.idle": "2021-06-20T00:22:32.518136Z",
     "shell.execute_reply": "2021-06-20T00:22:32.517561Z"
    },
    "papermill": {
     "duration": 0.040957,
     "end_time": "2021-06-20T00:22:32.518254",
     "exception": false,
     "start_time": "2021-06-20T00:22:32.477297",
     "status": "completed"
    },
    "tags": []
   },
   "outputs": [],
   "source": [
    "#hide\n",
    "# g['continent'] = g.country"
   ]
  },
  {
   "cell_type": "code",
   "execution_count": 28,
   "id": "substantial-wilderness",
   "metadata": {
    "execution": {
     "iopub.execute_input": "2021-06-20T00:22:32.590721Z",
     "iopub.status.busy": "2021-06-20T00:22:32.590146Z",
     "iopub.status.idle": "2021-06-20T00:22:32.591959Z",
     "shell.execute_reply": "2021-06-20T00:22:32.592398Z"
    },
    "papermill": {
     "duration": 0.040215,
     "end_time": "2021-06-20T00:22:32.592539",
     "exception": false,
     "start_time": "2021-06-20T00:22:32.552324",
     "status": "completed"
    },
    "tags": []
   },
   "outputs": [],
   "source": [
    "#hide\n",
    "# cols = list(g.columns.values)"
   ]
  },
  {
   "cell_type": "code",
   "execution_count": 29,
   "id": "solved-farming",
   "metadata": {
    "execution": {
     "iopub.execute_input": "2021-06-20T00:22:32.664647Z",
     "iopub.status.busy": "2021-06-20T00:22:32.664110Z",
     "iopub.status.idle": "2021-06-20T00:22:32.665291Z",
     "shell.execute_reply": "2021-06-20T00:22:32.665831Z"
    },
    "papermill": {
     "duration": 0.039943,
     "end_time": "2021-06-20T00:22:32.665966",
     "exception": false,
     "start_time": "2021-06-20T00:22:32.626023",
     "status": "completed"
    },
    "tags": []
   },
   "outputs": [],
   "source": [
    "#hide\n",
    "# cols.insert(0, cols.pop())"
   ]
  },
  {
   "cell_type": "code",
   "execution_count": 30,
   "id": "executed-adoption",
   "metadata": {
    "execution": {
     "iopub.execute_input": "2021-06-20T00:22:32.737707Z",
     "iopub.status.busy": "2021-06-20T00:22:32.737223Z",
     "iopub.status.idle": "2021-06-20T00:22:32.739903Z",
     "shell.execute_reply": "2021-06-20T00:22:32.739408Z"
    },
    "papermill": {
     "duration": 0.040696,
     "end_time": "2021-06-20T00:22:32.740026",
     "exception": false,
     "start_time": "2021-06-20T00:22:32.699330",
     "status": "completed"
    },
    "tags": []
   },
   "outputs": [],
   "source": [
    "#hide\n",
    "# g = g[cols]"
   ]
  },
  {
   "cell_type": "code",
   "execution_count": 31,
   "id": "subject-dublin",
   "metadata": {
    "execution": {
     "iopub.execute_input": "2021-06-20T00:22:32.811772Z",
     "iopub.status.busy": "2021-06-20T00:22:32.811147Z",
     "iopub.status.idle": "2021-06-20T00:22:32.814281Z",
     "shell.execute_reply": "2021-06-20T00:22:32.814749Z"
    },
    "papermill": {
     "duration": 0.041268,
     "end_time": "2021-06-20T00:22:32.814890",
     "exception": false,
     "start_time": "2021-06-20T00:22:32.773622",
     "status": "completed"
    },
    "tags": []
   },
   "outputs": [],
   "source": [
    "#hide\n",
    "# g['continent'] = g['continent'].map(mapping['map.continent'])"
   ]
  },
  {
   "cell_type": "code",
   "execution_count": 32,
   "id": "freelance-scout",
   "metadata": {
    "execution": {
     "iopub.execute_input": "2021-06-20T00:22:32.885892Z",
     "iopub.status.busy": "2021-06-20T00:22:32.885352Z",
     "iopub.status.idle": "2021-06-20T00:22:32.887265Z",
     "shell.execute_reply": "2021-06-20T00:22:32.887748Z"
    },
    "papermill": {
     "duration": 0.038797,
     "end_time": "2021-06-20T00:22:32.887887",
     "exception": false,
     "start_time": "2021-06-20T00:22:32.849090",
     "status": "completed"
    },
    "tags": []
   },
   "outputs": [],
   "source": [
    "#hide\n",
    "# g.head()"
   ]
  },
  {
   "cell_type": "code",
   "execution_count": 33,
   "id": "limited-engine",
   "metadata": {
    "execution": {
     "iopub.execute_input": "2021-06-20T00:22:32.960095Z",
     "iopub.status.busy": "2021-06-20T00:22:32.959447Z",
     "iopub.status.idle": "2021-06-20T00:22:32.961636Z",
     "shell.execute_reply": "2021-06-20T00:22:32.962105Z"
    },
    "papermill": {
     "duration": 0.040249,
     "end_time": "2021-06-20T00:22:32.962232",
     "exception": false,
     "start_time": "2021-06-20T00:22:32.921983",
     "status": "completed"
    },
    "tags": []
   },
   "outputs": [],
   "source": [
    "# hide\n",
    "# g['date'] = g['date'].astype('datetime64[ns]')"
   ]
  },
  {
   "cell_type": "code",
   "execution_count": 34,
   "id": "sophisticated-supervisor",
   "metadata": {
    "execution": {
     "iopub.execute_input": "2021-06-20T00:22:33.035287Z",
     "iopub.status.busy": "2021-06-20T00:22:33.034712Z",
     "iopub.status.idle": "2021-06-20T00:22:33.037080Z",
     "shell.execute_reply": "2021-06-20T00:22:33.036642Z"
    },
    "papermill": {
     "duration": 0.040527,
     "end_time": "2021-06-20T00:22:33.037192",
     "exception": false,
     "start_time": "2021-06-20T00:22:32.996665",
     "status": "completed"
    },
    "tags": []
   },
   "outputs": [],
   "source": [
    "#hide\n",
    "# g['date'] = g.date.dt.dayofyear"
   ]
  },
  {
   "cell_type": "code",
   "execution_count": 35,
   "id": "inside-dubai",
   "metadata": {
    "execution": {
     "iopub.execute_input": "2021-06-20T00:22:33.110098Z",
     "iopub.status.busy": "2021-06-20T00:22:33.109513Z",
     "iopub.status.idle": "2021-06-20T00:22:33.111640Z",
     "shell.execute_reply": "2021-06-20T00:22:33.112135Z"
    },
    "papermill": {
     "duration": 0.040798,
     "end_time": "2021-06-20T00:22:33.112275",
     "exception": false,
     "start_time": "2021-06-20T00:22:33.071477",
     "status": "completed"
    },
    "tags": []
   },
   "outputs": [],
   "source": [
    "#hide\n",
    "# g = g.rename(columns= {'continent':'group','country':'name','cases':'value'})"
   ]
  },
  {
   "cell_type": "code",
   "execution_count": 36,
   "id": "fleet-motorcycle",
   "metadata": {
    "execution": {
     "iopub.execute_input": "2021-06-20T00:22:33.185203Z",
     "iopub.status.busy": "2021-06-20T00:22:33.184618Z",
     "iopub.status.idle": "2021-06-20T00:22:33.186946Z",
     "shell.execute_reply": "2021-06-20T00:22:33.186456Z"
    },
    "papermill": {
     "duration": 0.040126,
     "end_time": "2021-06-20T00:22:33.187064",
     "exception": false,
     "start_time": "2021-06-20T00:22:33.146938",
     "status": "completed"
    },
    "tags": []
   },
   "outputs": [],
   "source": [
    "#hide\n",
    "# cols = ['name','group','day','value']"
   ]
  },
  {
   "cell_type": "code",
   "execution_count": 37,
   "id": "continued-sleeping",
   "metadata": {
    "execution": {
     "iopub.execute_input": "2021-06-20T00:22:33.259174Z",
     "iopub.status.busy": "2021-06-20T00:22:33.258593Z",
     "iopub.status.idle": "2021-06-20T00:22:33.260873Z",
     "shell.execute_reply": "2021-06-20T00:22:33.260374Z"
    },
    "papermill": {
     "duration": 0.040118,
     "end_time": "2021-06-20T00:22:33.260992",
     "exception": false,
     "start_time": "2021-06-20T00:22:33.220874",
     "status": "completed"
    },
    "tags": []
   },
   "outputs": [],
   "source": [
    "#hide\n",
    "# g.rename(columns= {'date':'day'},inplace = True)"
   ]
  },
  {
   "cell_type": "code",
   "execution_count": 38,
   "id": "major-fight",
   "metadata": {
    "execution": {
     "iopub.execute_input": "2021-06-20T00:22:33.333787Z",
     "iopub.status.busy": "2021-06-20T00:22:33.333212Z",
     "iopub.status.idle": "2021-06-20T00:22:33.334975Z",
     "shell.execute_reply": "2021-06-20T00:22:33.335437Z"
    },
    "papermill": {
     "duration": 0.040093,
     "end_time": "2021-06-20T00:22:33.335576",
     "exception": false,
     "start_time": "2021-06-20T00:22:33.295483",
     "status": "completed"
    },
    "tags": []
   },
   "outputs": [],
   "source": [
    "#hide\n",
    "# g = g[cols]"
   ]
  },
  {
   "cell_type": "code",
   "execution_count": 39,
   "id": "structured-mobile",
   "metadata": {
    "execution": {
     "iopub.execute_input": "2021-06-20T00:22:33.408398Z",
     "iopub.status.busy": "2021-06-20T00:22:33.407793Z",
     "iopub.status.idle": "2021-06-20T00:22:33.410253Z",
     "shell.execute_reply": "2021-06-20T00:22:33.409764Z"
    },
    "papermill": {
     "duration": 0.040401,
     "end_time": "2021-06-20T00:22:33.410370",
     "exception": false,
     "start_time": "2021-06-20T00:22:33.369969",
     "status": "completed"
    },
    "tags": []
   },
   "outputs": [],
   "source": [
    "# #hide\n",
    "# g = g[g.group.notna()]"
   ]
  },
  {
   "cell_type": "code",
   "execution_count": 40,
   "id": "determined-closing",
   "metadata": {
    "execution": {
     "iopub.execute_input": "2021-06-20T00:22:33.483499Z",
     "iopub.status.busy": "2021-06-20T00:22:33.482913Z",
     "iopub.status.idle": "2021-06-20T00:22:33.485483Z",
     "shell.execute_reply": "2021-06-20T00:22:33.485010Z"
    },
    "papermill": {
     "duration": 0.040741,
     "end_time": "2021-06-20T00:22:33.485602",
     "exception": false,
     "start_time": "2021-06-20T00:22:33.444861",
     "status": "completed"
    },
    "tags": []
   },
   "outputs": [],
   "source": [
    "# #hide\n",
    "# colors = dict(zip(\n",
    "#     [\"Oceania\", \"Europe\", \"Asia\", \"South America\", \"Middle East\", \"North America\", \"Africa\"],\n",
    "#     [\"#adb0ff\", \"#ffb3ff\", \"#90d595\", \"#e48381\", \"#aafbff\", \"#f7bb5f\", \"#eafb50\"]\n",
    "# ))\n",
    "# group_lk = g.set_index('name')['group'].to_dict()"
   ]
  },
  {
   "cell_type": "code",
   "execution_count": null,
   "id": "gross-drinking",
   "metadata": {
    "papermill": {
     "duration": 0.0337,
     "end_time": "2021-06-20T00:22:33.553458",
     "exception": false,
     "start_time": "2021-06-20T00:22:33.519758",
     "status": "completed"
    },
    "tags": []
   },
   "outputs": [],
   "source": []
  },
  {
   "cell_type": "code",
   "execution_count": 41,
   "id": "subject-macintosh",
   "metadata": {
    "execution": {
     "iopub.execute_input": "2021-06-20T00:22:33.627431Z",
     "iopub.status.busy": "2021-06-20T00:22:33.626827Z",
     "iopub.status.idle": "2021-06-20T00:22:33.629270Z",
     "shell.execute_reply": "2021-06-20T00:22:33.628774Z"
    },
    "papermill": {
     "duration": 0.041388,
     "end_time": "2021-06-20T00:22:33.629389",
     "exception": false,
     "start_time": "2021-06-20T00:22:33.588001",
     "status": "completed"
    },
    "tags": []
   },
   "outputs": [],
   "source": [
    "# #hide\n",
    "# fig, ax = plt.subplots(figsize=(15, 8))\n",
    "\n",
    "# def draw_barchart(current_day):\n",
    "#     dff = g[g['day'].eq(current_day)].sort_values(by='value', ascending=True).tail(10)\n",
    "#     ax.clear()\n",
    "#     ax.barh(dff['name'], dff['value'], color=[colors[group_lk[x]] for x in dff['name']])\n",
    "#     dx = dff['value'].max() / 200\n",
    "    \n",
    "#     for i, (value, name) in enumerate(zip(dff['value'], dff['name'])):\n",
    "#         ax.text(value-dx, i,     name,           size=14, weight=600, ha='right', va='bottom')\n",
    "#         ax.text(value-dx, i-.25, group_lk[name], size=10, color='#444444', ha='right', va='baseline')\n",
    "#         ax.text(value+dx, i,     f'{value:,.0f}',  size=14, ha='left',  va='center')\n",
    "#     ax.text(1, 0.4, current_day, transform=ax.transAxes, color='#777777', size=46, ha='right', weight=800)\n",
    "#     ax.text(0, 1.06, 'Population (thousands)', transform=ax.transAxes, size=12, color='#777777')\n",
    "#     ax.xaxis.set_major_formatter(ticker.StrMethodFormatter('{x:,.0f}'))\n",
    "#     ax.xaxis.set_ticks_position('top')\n",
    "#     ax.tick_params(axis='x', colors='#777777', labelsize=12)\n",
    "#     ax.set_yticks([])\n",
    "#     ax.margins(0, 0.01)\n",
    "#     ax.grid(which='major', axis='x', linestyle='-')\n",
    "#     ax.set_axisbelow(True)\n",
    "    \n",
    "#     ax.text(0, 1.15, 'Coronavirus',\n",
    "#             transform=ax.transAxes, size=24, weight=600, ha='left', va='top')\n",
    "# #     ax.text(1, 0, 'by @pratapvardhan; credit @jburnmurdoch', transform=ax.transAxes, color='#777777', ha='right',\n",
    "# #             bbox=dict(facecolor='white', alpha=0.8, edgecolor='white'))\n",
    "#     plt.box(False)"
   ]
  },
  {
   "cell_type": "code",
   "execution_count": 42,
   "id": "sexual-wages",
   "metadata": {
    "execution": {
     "iopub.execute_input": "2021-06-20T00:22:33.701937Z",
     "iopub.status.busy": "2021-06-20T00:22:33.701361Z",
     "iopub.status.idle": "2021-06-20T00:22:33.703221Z",
     "shell.execute_reply": "2021-06-20T00:22:33.703733Z"
    },
    "papermill": {
     "duration": 0.040156,
     "end_time": "2021-06-20T00:22:33.703869",
     "exception": false,
     "start_time": "2021-06-20T00:22:33.663713",
     "status": "completed"
    },
    "tags": []
   },
   "outputs": [],
   "source": [
    "# #hide_input\n",
    "# fig, ax = plt.subplots(figsize=(15, 8))\n",
    "# animator = animation.FuncAnimation(fig, draw_barchart, frames=range(g.day.values.min(), g.day.values.max()))\n",
    "# HTML(animator.to_jshtml())\n",
    "# # or use animator.to_html5_video() or animator.save() "
   ]
  },
  {
   "cell_type": "code",
   "execution_count": null,
   "id": "australian-container",
   "metadata": {
    "papermill": {
     "duration": 0.034315,
     "end_time": "2021-06-20T00:22:33.772664",
     "exception": false,
     "start_time": "2021-06-20T00:22:33.738349",
     "status": "completed"
    },
    "tags": []
   },
   "outputs": [],
   "source": []
  },
  {
   "cell_type": "code",
   "execution_count": null,
   "id": "mediterranean-pontiac",
   "metadata": {
    "papermill": {
     "duration": 0.034394,
     "end_time": "2021-06-20T00:22:33.841471",
     "exception": false,
     "start_time": "2021-06-20T00:22:33.807077",
     "status": "completed"
    },
    "tags": []
   },
   "outputs": [],
   "source": []
  },
  {
   "cell_type": "code",
   "execution_count": null,
   "id": "aging-legislature",
   "metadata": {
    "papermill": {
     "duration": 0.034361,
     "end_time": "2021-06-20T00:22:33.910558",
     "exception": false,
     "start_time": "2021-06-20T00:22:33.876197",
     "status": "completed"
    },
    "tags": []
   },
   "outputs": [],
   "source": []
  }
 ],
 "metadata": {
  "kernelspec": {
   "display_name": "Python 3",
   "language": "python",
   "name": "python3"
  },
  "language_info": {
   "codemirror_mode": {
    "name": "ipython",
    "version": 3
   },
   "file_extension": ".py",
   "mimetype": "text/x-python",
   "name": "python",
   "nbconvert_exporter": "python",
   "pygments_lexer": "ipython3",
   "version": "3.6.13"
  },
  "papermill": {
   "duration": 7.366043,
   "end_time": "2021-06-20T00:22:35.207698",
   "environment_variables": {},
   "exception": null,
   "input_path": "2020-03-21-covid19exp.ipynb",
   "output_path": "2020-03-21-covid19exp.ipynb",
   "parameters": {},
   "start_time": "2021-06-20T00:22:27.841655",
   "version": "2.0.0"
  }
 },
 "nbformat": 4,
 "nbformat_minor": 5
}