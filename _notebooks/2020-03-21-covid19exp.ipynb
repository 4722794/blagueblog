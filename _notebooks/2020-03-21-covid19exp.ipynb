{
 "cells": [
  {
   "cell_type": "markdown",
   "id": "muslim-click",
   "metadata": {
    "papermill": {
     "duration": 0.037798,
     "end_time": "2021-10-17T00:24:26.522039",
     "exception": false,
     "start_time": "2021-10-17T00:24:26.484241",
     "status": "completed"
    },
    "tags": []
   },
   "source": [
    "# COVID-19 Case Race\n",
    "> A race chart to see rising cases around the world\n",
    "\n",
    "- author: Hargun Oberoi\n",
    "- image: images/covid-overview.png\n",
    "- hide: false\n",
    "- badges: false"
   ]
  },
  {
   "cell_type": "code",
   "execution_count": 1,
   "id": "proof-material",
   "metadata": {
    "execution": {
     "iopub.execute_input": "2021-10-17T00:24:26.601946Z",
     "iopub.status.busy": "2021-10-17T00:24:26.601331Z",
     "iopub.status.idle": "2021-10-17T00:24:26.970768Z",
     "shell.execute_reply": "2021-10-17T00:24:26.970255Z"
    },
    "papermill": {
     "duration": 0.415903,
     "end_time": "2021-10-17T00:24:26.970914",
     "exception": false,
     "start_time": "2021-10-17T00:24:26.555011",
     "status": "completed"
    },
    "tags": []
   },
   "outputs": [],
   "source": [
    "#hide\n",
    "import numpy as np\n",
    "import pandas as pd\n",
    "from jinja2 import Template\n",
    "from IPython.display import HTML"
   ]
  },
  {
   "cell_type": "code",
   "execution_count": 2,
   "id": "developed-terminology",
   "metadata": {
    "execution": {
     "iopub.execute_input": "2021-10-17T00:24:27.046737Z",
     "iopub.status.busy": "2021-10-17T00:24:27.046121Z",
     "iopub.status.idle": "2021-10-17T00:24:27.048508Z",
     "shell.execute_reply": "2021-10-17T00:24:27.049100Z"
    },
    "papermill": {
     "duration": 0.041724,
     "end_time": "2021-10-17T00:24:27.049236",
     "exception": false,
     "start_time": "2021-10-17T00:24:27.007512",
     "status": "completed"
    },
    "tags": []
   },
   "outputs": [],
   "source": [
    "#hide\n",
    "\n",
    "# FETCH\n",
    "base_url = 'https://raw.githubusercontent.com/pratapvardhan/notebooks/master/covid19/'\n",
    "paths = {\n",
    "    'mapping': base_url + 'mapping_countries.csv',\n",
    "    'overview': base_url + 'overview.tpl'\n",
    "}"
   ]
  },
  {
   "cell_type": "code",
   "execution_count": 3,
   "id": "dynamic-saver",
   "metadata": {
    "execution": {
     "iopub.execute_input": "2021-10-17T00:24:27.125138Z",
     "iopub.status.busy": "2021-10-17T00:24:27.124554Z",
     "iopub.status.idle": "2021-10-17T00:24:27.127528Z",
     "shell.execute_reply": "2021-10-17T00:24:27.128076Z"
    },
    "papermill": {
     "duration": 0.046163,
     "end_time": "2021-10-17T00:24:27.128201",
     "exception": false,
     "start_time": "2021-10-17T00:24:27.082038",
     "status": "completed"
    },
    "tags": []
   },
   "outputs": [
    {
     "data": {
      "text/plain": [
       "'https://raw.githubusercontent.com/pratapvardhan/notebooks/master/covid19/mapping_countries.csv'"
      ]
     },
     "execution_count": 3,
     "metadata": {},
     "output_type": "execute_result"
    }
   ],
   "source": [
    "#hide\n",
    "paths['mapping']"
   ]
  },
  {
   "cell_type": "code",
   "execution_count": 4,
   "id": "urban-software",
   "metadata": {
    "execution": {
     "iopub.execute_input": "2021-10-17T00:24:27.198514Z",
     "iopub.status.busy": "2021-10-17T00:24:27.197910Z",
     "iopub.status.idle": "2021-10-17T00:24:27.200567Z",
     "shell.execute_reply": "2021-10-17T00:24:27.201151Z"
    },
    "papermill": {
     "duration": 0.040321,
     "end_time": "2021-10-17T00:24:27.201280",
     "exception": false,
     "start_time": "2021-10-17T00:24:27.160959",
     "status": "completed"
    },
    "tags": []
   },
   "outputs": [],
   "source": [
    "#hide\n",
    "def get_mappings(url):\n",
    "    df = pd.read_csv(url)\n",
    "    return {\n",
    "        'df': df,\n",
    "        'replace.country': dict(df.dropna(subset=['Name']).set_index('Country')['Name']),\n",
    "        'map.continent': dict(df.set_index('Name')['Continent'])\n",
    "    }"
   ]
  },
  {
   "cell_type": "code",
   "execution_count": 5,
   "id": "intimate-machinery",
   "metadata": {
    "execution": {
     "iopub.execute_input": "2021-10-17T00:24:27.272812Z",
     "iopub.status.busy": "2021-10-17T00:24:27.272215Z",
     "iopub.status.idle": "2021-10-17T00:24:27.309856Z",
     "shell.execute_reply": "2021-10-17T00:24:27.309236Z"
    },
    "papermill": {
     "duration": 0.075944,
     "end_time": "2021-10-17T00:24:27.310010",
     "exception": false,
     "start_time": "2021-10-17T00:24:27.234066",
     "status": "completed"
    },
    "tags": []
   },
   "outputs": [],
   "source": [
    "#hide\n",
    "mapping = get_mappings(paths['mapping'])"
   ]
  },
  {
   "cell_type": "code",
   "execution_count": 6,
   "id": "certified-tactics",
   "metadata": {
    "execution": {
     "iopub.execute_input": "2021-10-17T00:24:27.384024Z",
     "iopub.status.busy": "2021-10-17T00:24:27.383411Z",
     "iopub.status.idle": "2021-10-17T00:24:27.385859Z",
     "shell.execute_reply": "2021-10-17T00:24:27.386412Z"
    },
    "papermill": {
     "duration": 0.041611,
     "end_time": "2021-10-17T00:24:27.386549",
     "exception": false,
     "start_time": "2021-10-17T00:24:27.344938",
     "status": "completed"
    },
    "tags": []
   },
   "outputs": [],
   "source": [
    "#hide\n",
    "def get_template(path):\n",
    "    from urllib.parse import urlparse\n",
    "    if bool(urlparse(path).netloc):\n",
    "        from urllib.request import urlopen\n",
    "        return urlopen(path).read().decode('utf8')\n",
    "    return open(path).read()"
   ]
  },
  {
   "cell_type": "code",
   "execution_count": 7,
   "id": "realistic-blast",
   "metadata": {
    "execution": {
     "iopub.execute_input": "2021-10-17T00:24:27.459836Z",
     "iopub.status.busy": "2021-10-17T00:24:27.459241Z",
     "iopub.status.idle": "2021-10-17T00:24:27.461917Z",
     "shell.execute_reply": "2021-10-17T00:24:27.461397Z"
    },
    "papermill": {
     "duration": 0.042054,
     "end_time": "2021-10-17T00:24:27.462039",
     "exception": false,
     "start_time": "2021-10-17T00:24:27.419985",
     "status": "completed"
    },
    "tags": []
   },
   "outputs": [],
   "source": [
    "#hide\n",
    "def get_frame(name):\n",
    "    url = (\n",
    "        'https://raw.githubusercontent.com/CSSEGISandData/COVID-19/master/csse_covid_19_data/'\n",
    "        f'csse_covid_19_time_series/time_series_covid19_{name}_global.csv')\n",
    "    df = pd.read_csv(url)\n",
    "    # rename countries\n",
    "    df['Country/Region'] = df['Country/Region'].replace(mapping['replace.country'])\n",
    "    return df"
   ]
  },
  {
   "cell_type": "code",
   "execution_count": 8,
   "id": "affiliated-characterization",
   "metadata": {
    "execution": {
     "iopub.execute_input": "2021-10-17T00:24:27.534265Z",
     "iopub.status.busy": "2021-10-17T00:24:27.533676Z",
     "iopub.status.idle": "2021-10-17T00:24:27.535858Z",
     "shell.execute_reply": "2021-10-17T00:24:27.536304Z"
    },
    "papermill": {
     "duration": 0.041632,
     "end_time": "2021-10-17T00:24:27.536441",
     "exception": false,
     "start_time": "2021-10-17T00:24:27.494809",
     "status": "completed"
    },
    "tags": []
   },
   "outputs": [],
   "source": [
    "#hide\n",
    "def get_dates(df):\n",
    "    dt_cols = df.columns[~df.columns.isin(['Province/State', 'Country/Region', 'Lat', 'Long'])]\n",
    "    LAST_DATE_I = -1\n",
    "    # sometimes last column may be empty, then go backwards\n",
    "    for i in range(-1, -len(dt_cols), -1):\n",
    "        if not df[dt_cols[i]].fillna(0).eq(0).all():\n",
    "            LAST_DATE_I = i\n",
    "            break\n",
    "    return LAST_DATE_I, dt_cols"
   ]
  },
  {
   "cell_type": "code",
   "execution_count": 9,
   "id": "recent-optimization",
   "metadata": {
    "execution": {
     "iopub.execute_input": "2021-10-17T00:24:27.608412Z",
     "iopub.status.busy": "2021-10-17T00:24:27.607751Z",
     "iopub.status.idle": "2021-10-17T00:24:27.933915Z",
     "shell.execute_reply": "2021-10-17T00:24:27.933244Z"
    },
    "papermill": {
     "duration": 0.364815,
     "end_time": "2021-10-17T00:24:27.934050",
     "exception": false,
     "start_time": "2021-10-17T00:24:27.569235",
     "status": "completed"
    },
    "tags": []
   },
   "outputs": [],
   "source": [
    "#hide\n",
    "COL_REGION = 'Country/Region'\n",
    "# Confirmed, Recovered, Deaths\n",
    "df = get_frame('confirmed')\n",
    "# dft_: timeseries, dfc_: today country agg\n",
    "dft_cases = df\n",
    "dft_deaths = get_frame('deaths')\n",
    "dft_recovered = get_frame('recovered')\n",
    "LAST_DATE_I, dt_cols = get_dates(df)"
   ]
  },
  {
   "cell_type": "code",
   "execution_count": 10,
   "id": "absolute-copper",
   "metadata": {
    "execution": {
     "iopub.execute_input": "2021-10-17T00:24:28.005925Z",
     "iopub.status.busy": "2021-10-17T00:24:28.005323Z",
     "iopub.status.idle": "2021-10-17T00:24:28.008191Z",
     "shell.execute_reply": "2021-10-17T00:24:28.007610Z"
    },
    "papermill": {
     "duration": 0.041065,
     "end_time": "2021-10-17T00:24:28.008311",
     "exception": false,
     "start_time": "2021-10-17T00:24:27.967246",
     "status": "completed"
    },
    "tags": []
   },
   "outputs": [],
   "source": [
    "#hide\n",
    "LAST_DATE_I, dt_cols = get_dates(df)\n",
    "dt_today =dt_cols[LAST_DATE_I]\n",
    "# dt_5day = dt_cols[LAST_DATE_I - 5]\n",
    "dt_yday = dt_cols[LAST_DATE_I - 1]"
   ]
  },
  {
   "cell_type": "code",
   "execution_count": 11,
   "id": "restricted-sheriff",
   "metadata": {
    "execution": {
     "iopub.execute_input": "2021-10-17T00:24:28.084491Z",
     "iopub.status.busy": "2021-10-17T00:24:28.083897Z",
     "iopub.status.idle": "2021-10-17T00:24:28.089180Z",
     "shell.execute_reply": "2021-10-17T00:24:28.088674Z"
    },
    "papermill": {
     "duration": 0.04823,
     "end_time": "2021-10-17T00:24:28.089307",
     "exception": false,
     "start_time": "2021-10-17T00:24:28.041077",
     "status": "completed"
    },
    "tags": []
   },
   "outputs": [],
   "source": [
    "#hide\n",
    "dfc_cases = dft_cases.groupby(COL_REGION)[dt_today].sum()\n",
    "dfc_deaths = dft_deaths.groupby(COL_REGION)[dt_today].sum()\n",
    "# dfp_cases = dft_cases.groupby(COL_REGION)[dt_5day].sum()\n",
    "# dfp_deaths = dft_deaths.groupby(COL_REGION)[dt_5day].sum()\n",
    "dfp_cases = dft_cases.groupby(COL_REGION)[dt_yday].sum()\n",
    "dfp_deaths = dft_deaths.groupby(COL_REGION)[dt_yday].sum()"
   ]
  },
  {
   "cell_type": "code",
   "execution_count": 12,
   "id": "deluxe-hepatitis",
   "metadata": {
    "execution": {
     "iopub.execute_input": "2021-10-17T00:24:28.163540Z",
     "iopub.status.busy": "2021-10-17T00:24:28.162121Z",
     "iopub.status.idle": "2021-10-17T00:24:28.169181Z",
     "shell.execute_reply": "2021-10-17T00:24:28.168101Z"
    },
    "papermill": {
     "duration": 0.046349,
     "end_time": "2021-10-17T00:24:28.169311",
     "exception": false,
     "start_time": "2021-10-17T00:24:28.122962",
     "status": "completed"
    },
    "tags": []
   },
   "outputs": [],
   "source": [
    "#hide\n",
    "df_table = (pd.DataFrame(dict(Cases = dfc_cases, Deaths = dfc_deaths, PCases = dfp_cases, PDeaths = dfp_deaths))\n",
    "            .sort_values(by = ['Cases','Deaths'], ascending = [False, False])\n",
    "            .reset_index())"
   ]
  },
  {
   "cell_type": "code",
   "execution_count": 13,
   "id": "educational-chancellor",
   "metadata": {
    "execution": {
     "iopub.execute_input": "2021-10-17T00:24:28.254957Z",
     "iopub.status.busy": "2021-10-17T00:24:28.254356Z",
     "iopub.status.idle": "2021-10-17T00:24:28.263982Z",
     "shell.execute_reply": "2021-10-17T00:24:28.263503Z"
    },
    "papermill": {
     "duration": 0.061213,
     "end_time": "2021-10-17T00:24:28.264096",
     "exception": false,
     "start_time": "2021-10-17T00:24:28.202883",
     "status": "completed"
    },
    "tags": []
   },
   "outputs": [
    {
     "data": {
      "text/html": [
       "<div>\n",
       "<style scoped>\n",
       "    .dataframe tbody tr th:only-of-type {\n",
       "        vertical-align: middle;\n",
       "    }\n",
       "\n",
       "    .dataframe tbody tr th {\n",
       "        vertical-align: top;\n",
       "    }\n",
       "\n",
       "    .dataframe thead th {\n",
       "        text-align: right;\n",
       "    }\n",
       "</style>\n",
       "<table border=\"1\" class=\"dataframe\">\n",
       "  <thead>\n",
       "    <tr style=\"text-align: right;\">\n",
       "      <th></th>\n",
       "      <th>Country/Region</th>\n",
       "      <th>Cases</th>\n",
       "      <th>Deaths</th>\n",
       "      <th>PCases</th>\n",
       "      <th>PDeaths</th>\n",
       "      <th>Cases (+)</th>\n",
       "      <th>Deaths (+)</th>\n",
       "      <th>Fatality Rate</th>\n",
       "      <th>Continent</th>\n",
       "    </tr>\n",
       "  </thead>\n",
       "  <tbody>\n",
       "    <tr>\n",
       "      <th>0</th>\n",
       "      <td>US</td>\n",
       "      <td>44884868</td>\n",
       "      <td>723754</td>\n",
       "      <td>44767906</td>\n",
       "      <td>721563</td>\n",
       "      <td>116962</td>\n",
       "      <td>2191</td>\n",
       "      <td>1.61</td>\n",
       "      <td>North America</td>\n",
       "    </tr>\n",
       "    <tr>\n",
       "      <th>1</th>\n",
       "      <td>India</td>\n",
       "      <td>34053573</td>\n",
       "      <td>451980</td>\n",
       "      <td>34037592</td>\n",
       "      <td>451814</td>\n",
       "      <td>15981</td>\n",
       "      <td>166</td>\n",
       "      <td>1.33</td>\n",
       "      <td>Asia</td>\n",
       "    </tr>\n",
       "    <tr>\n",
       "      <th>2</th>\n",
       "      <td>Brazil</td>\n",
       "      <td>21627476</td>\n",
       "      <td>602669</td>\n",
       "      <td>21612237</td>\n",
       "      <td>602099</td>\n",
       "      <td>15239</td>\n",
       "      <td>570</td>\n",
       "      <td>2.79</td>\n",
       "      <td>South America</td>\n",
       "    </tr>\n",
       "    <tr>\n",
       "      <th>3</th>\n",
       "      <td>United Kingdom</td>\n",
       "      <td>8400983</td>\n",
       "      <td>138792</td>\n",
       "      <td>8356596</td>\n",
       "      <td>138647</td>\n",
       "      <td>44387</td>\n",
       "      <td>145</td>\n",
       "      <td>1.65</td>\n",
       "      <td>Europe</td>\n",
       "    </tr>\n",
       "    <tr>\n",
       "      <th>4</th>\n",
       "      <td>Russia</td>\n",
       "      <td>7804750</td>\n",
       "      <td>217382</td>\n",
       "      <td>7773388</td>\n",
       "      <td>216403</td>\n",
       "      <td>31362</td>\n",
       "      <td>979</td>\n",
       "      <td>2.79</td>\n",
       "      <td>Europe</td>\n",
       "    </tr>\n",
       "  </tbody>\n",
       "</table>\n",
       "</div>"
      ],
      "text/plain": [
       "   Country/Region     Cases  Deaths    PCases  PDeaths  Cases (+)  Deaths (+)  \\\n",
       "0              US  44884868  723754  44767906   721563     116962        2191   \n",
       "1           India  34053573  451980  34037592   451814      15981         166   \n",
       "2          Brazil  21627476  602669  21612237   602099      15239         570   \n",
       "3  United Kingdom   8400983  138792   8356596   138647      44387         145   \n",
       "4          Russia   7804750  217382   7773388   216403      31362         979   \n",
       "\n",
       "   Fatality Rate      Continent  \n",
       "0           1.61  North America  \n",
       "1           1.33           Asia  \n",
       "2           2.79  South America  \n",
       "3           1.65         Europe  \n",
       "4           2.79         Europe  "
      ]
     },
     "execution_count": 13,
     "metadata": {},
     "output_type": "execute_result"
    }
   ],
   "source": [
    "#hide\n",
    "for c in 'Cases, Deaths'.split(', '):\n",
    "    df_table[f'{c} (+)'] = (df_table[c] - df_table[f'P{c}']).clip(0)\n",
    "    #Clip ça veut dire, les chiffres negatif sont interdit\n",
    "df_table['Fatality Rate'] = (100* df_table['Deaths']/ df_table['Cases']).round(2)\n",
    "df_table['Continent'] = df_table['Country/Region'].map(mapping['map.continent'])\n",
    "df_table.head(5)"
   ]
  },
  {
   "cell_type": "code",
   "execution_count": 14,
   "id": "aboriginal-bulgaria",
   "metadata": {
    "execution": {
     "iopub.execute_input": "2021-10-17T00:24:28.336161Z",
     "iopub.status.busy": "2021-10-17T00:24:28.335573Z",
     "iopub.status.idle": "2021-10-17T00:24:28.339429Z",
     "shell.execute_reply": "2021-10-17T00:24:28.338931Z"
    },
    "papermill": {
     "duration": 0.042171,
     "end_time": "2021-10-17T00:24:28.339545",
     "exception": false,
     "start_time": "2021-10-17T00:24:28.297374",
     "status": "completed"
    },
    "tags": []
   },
   "outputs": [],
   "source": [
    "#hide\n",
    "#delete problematic countries from table\n",
    "df_table = df_table[~df_table['Country/Region'].isin(['Cape Verde', 'Cruise Ship', 'Kosovo'])]"
   ]
  },
  {
   "cell_type": "code",
   "execution_count": 15,
   "id": "fantastic-effect",
   "metadata": {
    "execution": {
     "iopub.execute_input": "2021-10-17T00:24:28.415476Z",
     "iopub.status.busy": "2021-10-17T00:24:28.414848Z",
     "iopub.status.idle": "2021-10-17T00:24:28.434649Z",
     "shell.execute_reply": "2021-10-17T00:24:28.435089Z"
    },
    "papermill": {
     "duration": 0.062478,
     "end_time": "2021-10-17T00:24:28.435220",
     "exception": false,
     "start_time": "2021-10-17T00:24:28.372742",
     "status": "completed"
    },
    "tags": []
   },
   "outputs": [
    {
     "data": {
      "text/html": [
       "<div>\n",
       "<style scoped>\n",
       "    .dataframe tbody tr th:only-of-type {\n",
       "        vertical-align: middle;\n",
       "    }\n",
       "\n",
       "    .dataframe tbody tr th {\n",
       "        vertical-align: top;\n",
       "    }\n",
       "\n",
       "    .dataframe thead th {\n",
       "        text-align: right;\n",
       "    }\n",
       "</style>\n",
       "<table border=\"1\" class=\"dataframe\">\n",
       "  <thead>\n",
       "    <tr style=\"text-align: right;\">\n",
       "      <th></th>\n",
       "      <th>Country/Region</th>\n",
       "      <th>Cases</th>\n",
       "      <th>Deaths</th>\n",
       "      <th>PCases</th>\n",
       "      <th>PDeaths</th>\n",
       "      <th>Cases (+)</th>\n",
       "      <th>Deaths (+)</th>\n",
       "      <th>Fatality Rate</th>\n",
       "      <th>Continent</th>\n",
       "    </tr>\n",
       "  </thead>\n",
       "  <tbody>\n",
       "    <tr>\n",
       "      <th>0</th>\n",
       "      <td>US</td>\n",
       "      <td>44884868</td>\n",
       "      <td>723754</td>\n",
       "      <td>44767906</td>\n",
       "      <td>721563</td>\n",
       "      <td>116962</td>\n",
       "      <td>2191</td>\n",
       "      <td>1.6</td>\n",
       "      <td>North America</td>\n",
       "    </tr>\n",
       "    <tr>\n",
       "      <th>1</th>\n",
       "      <td>India</td>\n",
       "      <td>34053573</td>\n",
       "      <td>451980</td>\n",
       "      <td>34037592</td>\n",
       "      <td>451814</td>\n",
       "      <td>15981</td>\n",
       "      <td>166</td>\n",
       "      <td>1.3</td>\n",
       "      <td>Asia</td>\n",
       "    </tr>\n",
       "    <tr>\n",
       "      <th>2</th>\n",
       "      <td>Brazil</td>\n",
       "      <td>21627476</td>\n",
       "      <td>602669</td>\n",
       "      <td>21612237</td>\n",
       "      <td>602099</td>\n",
       "      <td>15239</td>\n",
       "      <td>570</td>\n",
       "      <td>2.8</td>\n",
       "      <td>South America</td>\n",
       "    </tr>\n",
       "    <tr>\n",
       "      <th>3</th>\n",
       "      <td>United Kingdom</td>\n",
       "      <td>8400983</td>\n",
       "      <td>138792</td>\n",
       "      <td>8356596</td>\n",
       "      <td>138647</td>\n",
       "      <td>44387</td>\n",
       "      <td>145</td>\n",
       "      <td>1.7</td>\n",
       "      <td>Europe</td>\n",
       "    </tr>\n",
       "    <tr>\n",
       "      <th>4</th>\n",
       "      <td>Russia</td>\n",
       "      <td>7804750</td>\n",
       "      <td>217382</td>\n",
       "      <td>7773388</td>\n",
       "      <td>216403</td>\n",
       "      <td>31362</td>\n",
       "      <td>979</td>\n",
       "      <td>2.8</td>\n",
       "      <td>Europe</td>\n",
       "    </tr>\n",
       "  </tbody>\n",
       "</table>\n",
       "</div>"
      ],
      "text/plain": [
       "   Country/Region     Cases  Deaths    PCases  PDeaths  Cases (+)  Deaths (+)  \\\n",
       "0              US  44884868  723754  44767906   721563     116962        2191   \n",
       "1           India  34053573  451980  34037592   451814      15981         166   \n",
       "2          Brazil  21627476  602669  21612237   602099      15239         570   \n",
       "3  United Kingdom   8400983  138792   8356596   138647      44387         145   \n",
       "4          Russia   7804750  217382   7773388   216403      31362         979   \n",
       "\n",
       "   Fatality Rate      Continent  \n",
       "0            1.6  North America  \n",
       "1            1.3           Asia  \n",
       "2            2.8  South America  \n",
       "3            1.7         Europe  \n",
       "4            2.8         Europe  "
      ]
     },
     "execution_count": 15,
     "metadata": {},
     "output_type": "execute_result"
    }
   ],
   "source": [
    "#hide\n",
    "df_table = (pd.DataFrame(dict(Cases=dfc_cases, Deaths=dfc_deaths, PCases=dfp_cases, PDeaths=dfp_deaths))\n",
    "             .sort_values(by=['Cases', 'Deaths'], ascending=[False, False])\n",
    "             .reset_index())\n",
    "df_table.rename(columns={'index': 'Country/Region'}, inplace=True)\n",
    "for c in 'Cases, Deaths'.split(', '):\n",
    "    df_table[f'{c} (+)'] = (df_table[c] - df_table[f'P{c}']).clip(0)  # DATA BUG\n",
    "df_table['Fatality Rate'] = (100 * df_table['Deaths'] / df_table['Cases']).round(1)\n",
    "df_table['Continent'] = df_table['Country/Region'].map(mapping['map.continent'])\n",
    "df_table.head(5)"
   ]
  },
  {
   "cell_type": "code",
   "execution_count": 16,
   "id": "fewer-occasion",
   "metadata": {
    "execution": {
     "iopub.execute_input": "2021-10-17T00:24:28.511964Z",
     "iopub.status.busy": "2021-10-17T00:24:28.511355Z",
     "iopub.status.idle": "2021-10-17T00:24:28.513713Z",
     "shell.execute_reply": "2021-10-17T00:24:28.514233Z"
    },
    "papermill": {
     "duration": 0.04492,
     "end_time": "2021-10-17T00:24:28.514363",
     "exception": false,
     "start_time": "2021-10-17T00:24:28.469443",
     "status": "completed"
    },
    "tags": []
   },
   "outputs": [],
   "source": [
    "#hide\n",
    "#delete problematic countries from table\n",
    "df_table = df_table[~df_table['Country/Region'].isin(['Cape Verde', 'Cruise Ship', 'Kosovo'])]"
   ]
  },
  {
   "cell_type": "code",
   "execution_count": 17,
   "id": "related-center",
   "metadata": {
    "execution": {
     "iopub.execute_input": "2021-10-17T00:24:28.596148Z",
     "iopub.status.busy": "2021-10-17T00:24:28.595533Z",
     "iopub.status.idle": "2021-10-17T00:24:28.607163Z",
     "shell.execute_reply": "2021-10-17T00:24:28.606702Z"
    },
    "papermill": {
     "duration": 0.058974,
     "end_time": "2021-10-17T00:24:28.607288",
     "exception": false,
     "start_time": "2021-10-17T00:24:28.548314",
     "status": "completed"
    },
    "tags": []
   },
   "outputs": [],
   "source": [
    "#hide\n",
    "metrics = [df_table.columns[index] for index in [1,2,5,6]]\n",
    "# s_china = df_table[df_table['Country/Region'].eq('China')][metrics].sum().add_prefix('China ')\n",
    "s_us = df_table[df_table['Country/Region'].eq('US')][metrics].sum().add_prefix('US ')\n",
    "s_eu = df_table[df_table['Continent'].eq('Europe')][metrics].sum().add_prefix('EU ')\n",
    "s_ind = df_table[df_table['Country/Region'].eq('India')][metrics].sum().add_prefix('India ')\n",
    "summary = {'updated': pd.to_datetime(dt_today), 'since': pd.to_datetime(dt_yday)}\n",
    "summary = {'updated': pd.to_datetime(dt_today), 'since': pd.to_datetime(dt_yday)}\n",
    "summary = {**summary, **df_table[metrics].sum(), **s_ind, **s_us, **s_eu}"
   ]
  },
  {
   "cell_type": "code",
   "execution_count": 18,
   "id": "engaging-syndrome",
   "metadata": {
    "execution": {
     "iopub.execute_input": "2021-10-17T00:24:28.680580Z",
     "iopub.status.busy": "2021-10-17T00:24:28.680039Z",
     "iopub.status.idle": "2021-10-17T00:24:28.694985Z",
     "shell.execute_reply": "2021-10-17T00:24:28.694507Z"
    },
    "papermill": {
     "duration": 0.053877,
     "end_time": "2021-10-17T00:24:28.695110",
     "exception": false,
     "start_time": "2021-10-17T00:24:28.641233",
     "status": "completed"
    },
    "tags": []
   },
   "outputs": [],
   "source": [
    "#hide\n",
    "dft_ct_new_cases = dft_cases.groupby(COL_REGION)[dt_cols].sum().diff(axis=1).fillna(0).astype(int)"
   ]
  },
  {
   "cell_type": "code",
   "execution_count": 19,
   "id": "neutral-assignment",
   "metadata": {
    "execution": {
     "iopub.execute_input": "2021-10-17T00:24:28.770542Z",
     "iopub.status.busy": "2021-10-17T00:24:28.769991Z",
     "iopub.status.idle": "2021-10-17T00:24:28.772399Z",
     "shell.execute_reply": "2021-10-17T00:24:28.771901Z"
    },
    "papermill": {
     "duration": 0.042931,
     "end_time": "2021-10-17T00:24:28.772525",
     "exception": false,
     "start_time": "2021-10-17T00:24:28.729594",
     "status": "completed"
    },
    "tags": []
   },
   "outputs": [],
   "source": [
    "#hide\n",
    "everydaycases = dft_ct_new_cases.cumsum(axis=1)"
   ]
  },
  {
   "cell_type": "code",
   "execution_count": 20,
   "id": "parliamentary-calgary",
   "metadata": {
    "execution": {
     "iopub.execute_input": "2021-10-17T00:24:28.845777Z",
     "iopub.status.busy": "2021-10-17T00:24:28.845157Z",
     "iopub.status.idle": "2021-10-17T00:24:29.491554Z",
     "shell.execute_reply": "2021-10-17T00:24:29.490601Z"
    },
    "papermill": {
     "duration": 0.685012,
     "end_time": "2021-10-17T00:24:29.491701",
     "exception": false,
     "start_time": "2021-10-17T00:24:28.806689",
     "status": "completed"
    },
    "tags": []
   },
   "outputs": [],
   "source": [
    "#hide\n",
    "import pandas as pd\n",
    "import matplotlib.pyplot as plt\n",
    "import matplotlib.ticker as ticker\n",
    "import matplotlib.animation as animation\n",
    "from IPython.display import HTML"
   ]
  },
  {
   "cell_type": "code",
   "execution_count": 21,
   "id": "lasting-extraction",
   "metadata": {
    "execution": {
     "iopub.execute_input": "2021-10-17T00:24:29.568594Z",
     "iopub.status.busy": "2021-10-17T00:24:29.567999Z",
     "iopub.status.idle": "2021-10-17T00:24:29.574918Z",
     "shell.execute_reply": "2021-10-17T00:24:29.574442Z"
    },
    "papermill": {
     "duration": 0.048774,
     "end_time": "2021-10-17T00:24:29.575042",
     "exception": false,
     "start_time": "2021-10-17T00:24:29.526268",
     "status": "completed"
    },
    "tags": []
   },
   "outputs": [],
   "source": [
    "#hide\n",
    "t = everydaycases.stack()"
   ]
  },
  {
   "cell_type": "code",
   "execution_count": 22,
   "id": "premier-sleeve",
   "metadata": {
    "execution": {
     "iopub.execute_input": "2021-10-17T00:24:29.649943Z",
     "iopub.status.busy": "2021-10-17T00:24:29.649344Z",
     "iopub.status.idle": "2021-10-17T00:24:29.659480Z",
     "shell.execute_reply": "2021-10-17T00:24:29.659004Z"
    },
    "papermill": {
     "duration": 0.050174,
     "end_time": "2021-10-17T00:24:29.659603",
     "exception": false,
     "start_time": "2021-10-17T00:24:29.609429",
     "status": "completed"
    },
    "tags": []
   },
   "outputs": [],
   "source": [
    "#hide\n",
    "g = t.reset_index(['Country/Region'])"
   ]
  },
  {
   "cell_type": "code",
   "execution_count": 23,
   "id": "distributed-pittsburgh",
   "metadata": {
    "execution": {
     "iopub.execute_input": "2021-10-17T00:24:29.732959Z",
     "iopub.status.busy": "2021-10-17T00:24:29.731658Z",
     "iopub.status.idle": "2021-10-17T00:24:29.733718Z",
     "shell.execute_reply": "2021-10-17T00:24:29.734189Z"
    },
    "papermill": {
     "duration": 0.040868,
     "end_time": "2021-10-17T00:24:29.734326",
     "exception": false,
     "start_time": "2021-10-17T00:24:29.693458",
     "status": "completed"
    },
    "tags": []
   },
   "outputs": [],
   "source": [
    "#hide\n",
    "g.index.name = 'date'"
   ]
  },
  {
   "cell_type": "code",
   "execution_count": 24,
   "id": "naked-donor",
   "metadata": {
    "execution": {
     "iopub.execute_input": "2021-10-17T00:24:29.808118Z",
     "iopub.status.busy": "2021-10-17T00:24:29.807512Z",
     "iopub.status.idle": "2021-10-17T00:24:29.809923Z",
     "shell.execute_reply": "2021-10-17T00:24:29.810451Z"
    },
    "papermill": {
     "duration": 0.041289,
     "end_time": "2021-10-17T00:24:29.810583",
     "exception": false,
     "start_time": "2021-10-17T00:24:29.769294",
     "status": "completed"
    },
    "tags": []
   },
   "outputs": [],
   "source": [
    "# #hide\n",
    "# g = g.reset_index(['date'])"
   ]
  },
  {
   "cell_type": "code",
   "execution_count": 25,
   "id": "incomplete-mustang",
   "metadata": {
    "execution": {
     "iopub.execute_input": "2021-10-17T00:24:29.884011Z",
     "iopub.status.busy": "2021-10-17T00:24:29.883422Z",
     "iopub.status.idle": "2021-10-17T00:24:29.885235Z",
     "shell.execute_reply": "2021-10-17T00:24:29.885801Z"
    },
    "papermill": {
     "duration": 0.041004,
     "end_time": "2021-10-17T00:24:29.885944",
     "exception": false,
     "start_time": "2021-10-17T00:24:29.844940",
     "status": "completed"
    },
    "tags": []
   },
   "outputs": [],
   "source": [
    "#hide\n",
    "# g.head()"
   ]
  },
  {
   "cell_type": "code",
   "execution_count": 26,
   "id": "specific-kruger",
   "metadata": {
    "execution": {
     "iopub.execute_input": "2021-10-17T00:24:29.963210Z",
     "iopub.status.busy": "2021-10-17T00:24:29.962599Z",
     "iopub.status.idle": "2021-10-17T00:24:29.965613Z",
     "shell.execute_reply": "2021-10-17T00:24:29.966064Z"
    },
    "papermill": {
     "duration": 0.045935,
     "end_time": "2021-10-17T00:24:29.966214",
     "exception": false,
     "start_time": "2021-10-17T00:24:29.920279",
     "status": "completed"
    },
    "tags": []
   },
   "outputs": [],
   "source": [
    "#hide\n",
    "# g.columns = ['date','country','cases']"
   ]
  },
  {
   "cell_type": "code",
   "execution_count": 27,
   "id": "tender-conversion",
   "metadata": {
    "execution": {
     "iopub.execute_input": "2021-10-17T00:24:30.040091Z",
     "iopub.status.busy": "2021-10-17T00:24:30.039499Z",
     "iopub.status.idle": "2021-10-17T00:24:30.041811Z",
     "shell.execute_reply": "2021-10-17T00:24:30.042374Z"
    },
    "papermill": {
     "duration": 0.041891,
     "end_time": "2021-10-17T00:24:30.042515",
     "exception": false,
     "start_time": "2021-10-17T00:24:30.000624",
     "status": "completed"
    },
    "tags": []
   },
   "outputs": [],
   "source": [
    "#hide\n",
    "# g['continent'] = g.country"
   ]
  },
  {
   "cell_type": "code",
   "execution_count": 28,
   "id": "substantial-wilderness",
   "metadata": {
    "execution": {
     "iopub.execute_input": "2021-10-17T00:24:30.116392Z",
     "iopub.status.busy": "2021-10-17T00:24:30.115792Z",
     "iopub.status.idle": "2021-10-17T00:24:30.117744Z",
     "shell.execute_reply": "2021-10-17T00:24:30.118254Z"
    },
    "papermill": {
     "duration": 0.04158,
     "end_time": "2021-10-17T00:24:30.118387",
     "exception": false,
     "start_time": "2021-10-17T00:24:30.076807",
     "status": "completed"
    },
    "tags": []
   },
   "outputs": [],
   "source": [
    "#hide\n",
    "# cols = list(g.columns.values)"
   ]
  },
  {
   "cell_type": "code",
   "execution_count": 29,
   "id": "solved-farming",
   "metadata": {
    "execution": {
     "iopub.execute_input": "2021-10-17T00:24:30.190448Z",
     "iopub.status.busy": "2021-10-17T00:24:30.189847Z",
     "iopub.status.idle": "2021-10-17T00:24:30.192278Z",
     "shell.execute_reply": "2021-10-17T00:24:30.191754Z"
    },
    "papermill": {
     "duration": 0.040775,
     "end_time": "2021-10-17T00:24:30.192405",
     "exception": false,
     "start_time": "2021-10-17T00:24:30.151630",
     "status": "completed"
    },
    "tags": []
   },
   "outputs": [],
   "source": [
    "#hide\n",
    "# cols.insert(0, cols.pop())"
   ]
  },
  {
   "cell_type": "code",
   "execution_count": 30,
   "id": "executed-adoption",
   "metadata": {
    "execution": {
     "iopub.execute_input": "2021-10-17T00:24:30.266031Z",
     "iopub.status.busy": "2021-10-17T00:24:30.265437Z",
     "iopub.status.idle": "2021-10-17T00:24:30.267719Z",
     "shell.execute_reply": "2021-10-17T00:24:30.268268Z"
    },
    "papermill": {
     "duration": 0.041396,
     "end_time": "2021-10-17T00:24:30.268408",
     "exception": false,
     "start_time": "2021-10-17T00:24:30.227012",
     "status": "completed"
    },
    "tags": []
   },
   "outputs": [],
   "source": [
    "#hide\n",
    "# g = g[cols]"
   ]
  },
  {
   "cell_type": "code",
   "execution_count": 31,
   "id": "subject-dublin",
   "metadata": {
    "execution": {
     "iopub.execute_input": "2021-10-17T00:24:30.341855Z",
     "iopub.status.busy": "2021-10-17T00:24:30.341245Z",
     "iopub.status.idle": "2021-10-17T00:24:30.343774Z",
     "shell.execute_reply": "2021-10-17T00:24:30.344248Z"
    },
    "papermill": {
     "duration": 0.041528,
     "end_time": "2021-10-17T00:24:30.344389",
     "exception": false,
     "start_time": "2021-10-17T00:24:30.302861",
     "status": "completed"
    },
    "tags": []
   },
   "outputs": [],
   "source": [
    "#hide\n",
    "# g['continent'] = g['continent'].map(mapping['map.continent'])"
   ]
  },
  {
   "cell_type": "code",
   "execution_count": 32,
   "id": "freelance-scout",
   "metadata": {
    "execution": {
     "iopub.execute_input": "2021-10-17T00:24:30.418703Z",
     "iopub.status.busy": "2021-10-17T00:24:30.418109Z",
     "iopub.status.idle": "2021-10-17T00:24:30.420488Z",
     "shell.execute_reply": "2021-10-17T00:24:30.421093Z"
    },
    "papermill": {
     "duration": 0.042365,
     "end_time": "2021-10-17T00:24:30.421240",
     "exception": false,
     "start_time": "2021-10-17T00:24:30.378875",
     "status": "completed"
    },
    "tags": []
   },
   "outputs": [],
   "source": [
    "#hide\n",
    "# g.head()"
   ]
  },
  {
   "cell_type": "code",
   "execution_count": 33,
   "id": "limited-engine",
   "metadata": {
    "execution": {
     "iopub.execute_input": "2021-10-17T00:24:30.494097Z",
     "iopub.status.busy": "2021-10-17T00:24:30.493495Z",
     "iopub.status.idle": "2021-10-17T00:24:30.496389Z",
     "shell.execute_reply": "2021-10-17T00:24:30.495913Z"
    },
    "papermill": {
     "duration": 0.041129,
     "end_time": "2021-10-17T00:24:30.496516",
     "exception": false,
     "start_time": "2021-10-17T00:24:30.455387",
     "status": "completed"
    },
    "tags": []
   },
   "outputs": [],
   "source": [
    "# hide\n",
    "# g['date'] = g['date'].astype('datetime64[ns]')"
   ]
  },
  {
   "cell_type": "code",
   "execution_count": 34,
   "id": "sophisticated-supervisor",
   "metadata": {
    "execution": {
     "iopub.execute_input": "2021-10-17T00:24:30.569339Z",
     "iopub.status.busy": "2021-10-17T00:24:30.568723Z",
     "iopub.status.idle": "2021-10-17T00:24:30.571063Z",
     "shell.execute_reply": "2021-10-17T00:24:30.571611Z"
    },
    "papermill": {
     "duration": 0.040669,
     "end_time": "2021-10-17T00:24:30.571746",
     "exception": false,
     "start_time": "2021-10-17T00:24:30.531077",
     "status": "completed"
    },
    "tags": []
   },
   "outputs": [],
   "source": [
    "#hide\n",
    "# g['date'] = g.date.dt.dayofyear"
   ]
  },
  {
   "cell_type": "code",
   "execution_count": 35,
   "id": "inside-dubai",
   "metadata": {
    "execution": {
     "iopub.execute_input": "2021-10-17T00:24:30.644778Z",
     "iopub.status.busy": "2021-10-17T00:24:30.644165Z",
     "iopub.status.idle": "2021-10-17T00:24:30.646645Z",
     "shell.execute_reply": "2021-10-17T00:24:30.647218Z"
    },
    "papermill": {
     "duration": 0.04158,
     "end_time": "2021-10-17T00:24:30.647358",
     "exception": false,
     "start_time": "2021-10-17T00:24:30.605778",
     "status": "completed"
    },
    "tags": []
   },
   "outputs": [],
   "source": [
    "#hide\n",
    "# g = g.rename(columns= {'continent':'group','country':'name','cases':'value'})"
   ]
  },
  {
   "cell_type": "code",
   "execution_count": 36,
   "id": "fleet-motorcycle",
   "metadata": {
    "execution": {
     "iopub.execute_input": "2021-10-17T00:24:30.721392Z",
     "iopub.status.busy": "2021-10-17T00:24:30.720741Z",
     "iopub.status.idle": "2021-10-17T00:24:30.723260Z",
     "shell.execute_reply": "2021-10-17T00:24:30.723823Z"
    },
    "papermill": {
     "duration": 0.042289,
     "end_time": "2021-10-17T00:24:30.723970",
     "exception": false,
     "start_time": "2021-10-17T00:24:30.681681",
     "status": "completed"
    },
    "tags": []
   },
   "outputs": [],
   "source": [
    "#hide\n",
    "# cols = ['name','group','day','value']"
   ]
  },
  {
   "cell_type": "code",
   "execution_count": 37,
   "id": "continued-sleeping",
   "metadata": {
    "execution": {
     "iopub.execute_input": "2021-10-17T00:24:30.797635Z",
     "iopub.status.busy": "2021-10-17T00:24:30.797022Z",
     "iopub.status.idle": "2021-10-17T00:24:30.799220Z",
     "shell.execute_reply": "2021-10-17T00:24:30.798642Z"
    },
    "papermill": {
     "duration": 0.040831,
     "end_time": "2021-10-17T00:24:30.799344",
     "exception": false,
     "start_time": "2021-10-17T00:24:30.758513",
     "status": "completed"
    },
    "tags": []
   },
   "outputs": [],
   "source": [
    "#hide\n",
    "# g.rename(columns= {'date':'day'},inplace = True)"
   ]
  },
  {
   "cell_type": "code",
   "execution_count": 38,
   "id": "major-fight",
   "metadata": {
    "execution": {
     "iopub.execute_input": "2021-10-17T00:24:30.872890Z",
     "iopub.status.busy": "2021-10-17T00:24:30.872266Z",
     "iopub.status.idle": "2021-10-17T00:24:30.874792Z",
     "shell.execute_reply": "2021-10-17T00:24:30.875366Z"
    },
    "papermill": {
     "duration": 0.041862,
     "end_time": "2021-10-17T00:24:30.875510",
     "exception": false,
     "start_time": "2021-10-17T00:24:30.833648",
     "status": "completed"
    },
    "tags": []
   },
   "outputs": [],
   "source": [
    "#hide\n",
    "# g = g[cols]"
   ]
  },
  {
   "cell_type": "code",
   "execution_count": 39,
   "id": "structured-mobile",
   "metadata": {
    "execution": {
     "iopub.execute_input": "2021-10-17T00:24:30.949695Z",
     "iopub.status.busy": "2021-10-17T00:24:30.949083Z",
     "iopub.status.idle": "2021-10-17T00:24:30.951333Z",
     "shell.execute_reply": "2021-10-17T00:24:30.950832Z"
    },
    "papermill": {
     "duration": 0.041405,
     "end_time": "2021-10-17T00:24:30.951456",
     "exception": false,
     "start_time": "2021-10-17T00:24:30.910051",
     "status": "completed"
    },
    "tags": []
   },
   "outputs": [],
   "source": [
    "# #hide\n",
    "# g = g[g.group.notna()]"
   ]
  },
  {
   "cell_type": "code",
   "execution_count": 40,
   "id": "determined-closing",
   "metadata": {
    "execution": {
     "iopub.execute_input": "2021-10-17T00:24:31.026121Z",
     "iopub.status.busy": "2021-10-17T00:24:31.025515Z",
     "iopub.status.idle": "2021-10-17T00:24:31.028876Z",
     "shell.execute_reply": "2021-10-17T00:24:31.029468Z"
    },
    "papermill": {
     "duration": 0.043237,
     "end_time": "2021-10-17T00:24:31.029616",
     "exception": false,
     "start_time": "2021-10-17T00:24:30.986379",
     "status": "completed"
    },
    "tags": []
   },
   "outputs": [],
   "source": [
    "# #hide\n",
    "# colors = dict(zip(\n",
    "#     [\"Oceania\", \"Europe\", \"Asia\", \"South America\", \"Middle East\", \"North America\", \"Africa\"],\n",
    "#     [\"#adb0ff\", \"#ffb3ff\", \"#90d595\", \"#e48381\", \"#aafbff\", \"#f7bb5f\", \"#eafb50\"]\n",
    "# ))\n",
    "# group_lk = g.set_index('name')['group'].to_dict()"
   ]
  },
  {
   "cell_type": "code",
   "execution_count": null,
   "id": "gross-drinking",
   "metadata": {
    "papermill": {
     "duration": 0.034619,
     "end_time": "2021-10-17T00:24:31.098849",
     "exception": false,
     "start_time": "2021-10-17T00:24:31.064230",
     "status": "completed"
    },
    "tags": []
   },
   "outputs": [],
   "source": []
  },
  {
   "cell_type": "code",
   "execution_count": 41,
   "id": "subject-macintosh",
   "metadata": {
    "execution": {
     "iopub.execute_input": "2021-10-17T00:24:31.173128Z",
     "iopub.status.busy": "2021-10-17T00:24:31.172503Z",
     "iopub.status.idle": "2021-10-17T00:24:31.174705Z",
     "shell.execute_reply": "2021-10-17T00:24:31.174193Z"
    },
    "papermill": {
     "duration": 0.041974,
     "end_time": "2021-10-17T00:24:31.174829",
     "exception": false,
     "start_time": "2021-10-17T00:24:31.132855",
     "status": "completed"
    },
    "tags": []
   },
   "outputs": [],
   "source": [
    "# #hide\n",
    "# fig, ax = plt.subplots(figsize=(15, 8))\n",
    "\n",
    "# def draw_barchart(current_day):\n",
    "#     dff = g[g['day'].eq(current_day)].sort_values(by='value', ascending=True).tail(10)\n",
    "#     ax.clear()\n",
    "#     ax.barh(dff['name'], dff['value'], color=[colors[group_lk[x]] for x in dff['name']])\n",
    "#     dx = dff['value'].max() / 200\n",
    "    \n",
    "#     for i, (value, name) in enumerate(zip(dff['value'], dff['name'])):\n",
    "#         ax.text(value-dx, i,     name,           size=14, weight=600, ha='right', va='bottom')\n",
    "#         ax.text(value-dx, i-.25, group_lk[name], size=10, color='#444444', ha='right', va='baseline')\n",
    "#         ax.text(value+dx, i,     f'{value:,.0f}',  size=14, ha='left',  va='center')\n",
    "#     ax.text(1, 0.4, current_day, transform=ax.transAxes, color='#777777', size=46, ha='right', weight=800)\n",
    "#     ax.text(0, 1.06, 'Population (thousands)', transform=ax.transAxes, size=12, color='#777777')\n",
    "#     ax.xaxis.set_major_formatter(ticker.StrMethodFormatter('{x:,.0f}'))\n",
    "#     ax.xaxis.set_ticks_position('top')\n",
    "#     ax.tick_params(axis='x', colors='#777777', labelsize=12)\n",
    "#     ax.set_yticks([])\n",
    "#     ax.margins(0, 0.01)\n",
    "#     ax.grid(which='major', axis='x', linestyle='-')\n",
    "#     ax.set_axisbelow(True)\n",
    "    \n",
    "#     ax.text(0, 1.15, 'Coronavirus',\n",
    "#             transform=ax.transAxes, size=24, weight=600, ha='left', va='top')\n",
    "# #     ax.text(1, 0, 'by @pratapvardhan; credit @jburnmurdoch', transform=ax.transAxes, color='#777777', ha='right',\n",
    "# #             bbox=dict(facecolor='white', alpha=0.8, edgecolor='white'))\n",
    "#     plt.box(False)"
   ]
  },
  {
   "cell_type": "code",
   "execution_count": 42,
   "id": "sexual-wages",
   "metadata": {
    "execution": {
     "iopub.execute_input": "2021-10-17T00:24:31.249153Z",
     "iopub.status.busy": "2021-10-17T00:24:31.248521Z",
     "iopub.status.idle": "2021-10-17T00:24:31.251076Z",
     "shell.execute_reply": "2021-10-17T00:24:31.251641Z"
    },
    "papermill": {
     "duration": 0.042482,
     "end_time": "2021-10-17T00:24:31.251782",
     "exception": false,
     "start_time": "2021-10-17T00:24:31.209300",
     "status": "completed"
    },
    "tags": []
   },
   "outputs": [],
   "source": [
    "# #hide_input\n",
    "# fig, ax = plt.subplots(figsize=(15, 8))\n",
    "# animator = animation.FuncAnimation(fig, draw_barchart, frames=range(g.day.values.min(), g.day.values.max()))\n",
    "# HTML(animator.to_jshtml())\n",
    "# # or use animator.to_html5_video() or animator.save() "
   ]
  },
  {
   "cell_type": "code",
   "execution_count": null,
   "id": "australian-container",
   "metadata": {
    "papermill": {
     "duration": 0.033958,
     "end_time": "2021-10-17T00:24:31.320198",
     "exception": false,
     "start_time": "2021-10-17T00:24:31.286240",
     "status": "completed"
    },
    "tags": []
   },
   "outputs": [],
   "source": []
  },
  {
   "cell_type": "code",
   "execution_count": null,
   "id": "mediterranean-pontiac",
   "metadata": {
    "papermill": {
     "duration": 0.033743,
     "end_time": "2021-10-17T00:24:31.387487",
     "exception": false,
     "start_time": "2021-10-17T00:24:31.353744",
     "status": "completed"
    },
    "tags": []
   },
   "outputs": [],
   "source": []
  },
  {
   "cell_type": "code",
   "execution_count": null,
   "id": "aging-legislature",
   "metadata": {
    "papermill": {
     "duration": 0.033796,
     "end_time": "2021-10-17T00:24:31.455639",
     "exception": false,
     "start_time": "2021-10-17T00:24:31.421843",
     "status": "completed"
    },
    "tags": []
   },
   "outputs": [],
   "source": []
  }
 ],
 "metadata": {
  "kernelspec": {
   "display_name": "Python 3",
   "language": "python",
   "name": "python3"
  },
  "language_info": {
   "codemirror_mode": {
    "name": "ipython",
    "version": 3
   },
   "file_extension": ".py",
   "mimetype": "text/x-python",
   "name": "python",
   "nbconvert_exporter": "python",
   "pygments_lexer": "ipython3",
   "version": "3.6.15"
  },
  "papermill": {
   "duration": 6.392529,
   "end_time": "2021-10-17T00:24:31.799084",
   "environment_variables": {},
   "exception": null,
   "input_path": "2020-03-21-covid19exp.ipynb",
   "output_path": "2020-03-21-covid19exp.ipynb",
   "parameters": {},
   "start_time": "2021-10-17T00:24:25.406555",
   "version": "2.0.0"
  }
 },
 "nbformat": 4,
 "nbformat_minor": 5
}