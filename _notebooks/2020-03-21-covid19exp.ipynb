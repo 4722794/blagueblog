{
 "cells": [
  {
   "cell_type": "markdown",
   "id": "muslim-click",
   "metadata": {
    "papermill": {
     "duration": 0.042825,
     "end_time": "2021-08-22T00:21:58.244747",
     "exception": false,
     "start_time": "2021-08-22T00:21:58.201922",
     "status": "completed"
    },
    "tags": []
   },
   "source": [
    "# COVID-19 Case Race\n",
    "> A race chart to see rising cases around the world\n",
    "\n",
    "- author: Hargun Oberoi\n",
    "- image: images/covid-overview.png\n",
    "- hide: false\n",
    "- badges: false"
   ]
  },
  {
   "cell_type": "code",
   "execution_count": 1,
   "id": "proof-material",
   "metadata": {
    "execution": {
     "iopub.execute_input": "2021-08-22T00:21:58.333918Z",
     "iopub.status.busy": "2021-08-22T00:21:58.333178Z",
     "iopub.status.idle": "2021-08-22T00:21:58.762721Z",
     "shell.execute_reply": "2021-08-22T00:21:58.762125Z"
    },
    "papermill": {
     "duration": 0.478933,
     "end_time": "2021-08-22T00:21:58.762883",
     "exception": false,
     "start_time": "2021-08-22T00:21:58.283950",
     "status": "completed"
    },
    "tags": []
   },
   "outputs": [],
   "source": [
    "#hide\n",
    "import numpy as np\n",
    "import pandas as pd\n",
    "from jinja2 import Template\n",
    "from IPython.display import HTML"
   ]
  },
  {
   "cell_type": "code",
   "execution_count": 2,
   "id": "developed-terminology",
   "metadata": {
    "execution": {
     "iopub.execute_input": "2021-08-22T00:21:58.846799Z",
     "iopub.status.busy": "2021-08-22T00:21:58.846021Z",
     "iopub.status.idle": "2021-08-22T00:21:58.848409Z",
     "shell.execute_reply": "2021-08-22T00:21:58.849052Z"
    },
    "papermill": {
     "duration": 0.047744,
     "end_time": "2021-08-22T00:21:58.849214",
     "exception": false,
     "start_time": "2021-08-22T00:21:58.801470",
     "status": "completed"
    },
    "tags": []
   },
   "outputs": [],
   "source": [
    "#hide\n",
    "\n",
    "# FETCH\n",
    "base_url = 'https://raw.githubusercontent.com/pratapvardhan/notebooks/master/covid19/'\n",
    "paths = {\n",
    "    'mapping': base_url + 'mapping_countries.csv',\n",
    "    'overview': base_url + 'overview.tpl'\n",
    "}"
   ]
  },
  {
   "cell_type": "code",
   "execution_count": 3,
   "id": "dynamic-saver",
   "metadata": {
    "execution": {
     "iopub.execute_input": "2021-08-22T00:21:58.938179Z",
     "iopub.status.busy": "2021-08-22T00:21:58.937346Z",
     "iopub.status.idle": "2021-08-22T00:21:58.940162Z",
     "shell.execute_reply": "2021-08-22T00:21:58.940800Z"
    },
    "papermill": {
     "duration": 0.053424,
     "end_time": "2021-08-22T00:21:58.940963",
     "exception": false,
     "start_time": "2021-08-22T00:21:58.887539",
     "status": "completed"
    },
    "tags": []
   },
   "outputs": [
    {
     "data": {
      "text/plain": [
       "'https://raw.githubusercontent.com/pratapvardhan/notebooks/master/covid19/mapping_countries.csv'"
      ]
     },
     "execution_count": 3,
     "metadata": {},
     "output_type": "execute_result"
    }
   ],
   "source": [
    "#hide\n",
    "paths['mapping']"
   ]
  },
  {
   "cell_type": "code",
   "execution_count": 4,
   "id": "urban-software",
   "metadata": {
    "execution": {
     "iopub.execute_input": "2021-08-22T00:21:59.023931Z",
     "iopub.status.busy": "2021-08-22T00:21:59.023241Z",
     "iopub.status.idle": "2021-08-22T00:21:59.025752Z",
     "shell.execute_reply": "2021-08-22T00:21:59.025161Z"
    },
    "papermill": {
     "duration": 0.04598,
     "end_time": "2021-08-22T00:21:59.025886",
     "exception": false,
     "start_time": "2021-08-22T00:21:58.979906",
     "status": "completed"
    },
    "tags": []
   },
   "outputs": [],
   "source": [
    "#hide\n",
    "def get_mappings(url):\n",
    "    df = pd.read_csv(url)\n",
    "    return {\n",
    "        'df': df,\n",
    "        'replace.country': dict(df.dropna(subset=['Name']).set_index('Country')['Name']),\n",
    "        'map.continent': dict(df.set_index('Name')['Continent'])\n",
    "    }"
   ]
  },
  {
   "cell_type": "code",
   "execution_count": 5,
   "id": "intimate-machinery",
   "metadata": {
    "execution": {
     "iopub.execute_input": "2021-08-22T00:21:59.108230Z",
     "iopub.status.busy": "2021-08-22T00:21:59.107547Z",
     "iopub.status.idle": "2021-08-22T00:21:59.141098Z",
     "shell.execute_reply": "2021-08-22T00:21:59.140535Z"
    },
    "papermill": {
     "duration": 0.077516,
     "end_time": "2021-08-22T00:21:59.141244",
     "exception": false,
     "start_time": "2021-08-22T00:21:59.063728",
     "status": "completed"
    },
    "tags": []
   },
   "outputs": [],
   "source": [
    "#hide\n",
    "mapping = get_mappings(paths['mapping'])"
   ]
  },
  {
   "cell_type": "code",
   "execution_count": 6,
   "id": "certified-tactics",
   "metadata": {
    "execution": {
     "iopub.execute_input": "2021-08-22T00:21:59.228195Z",
     "iopub.status.busy": "2021-08-22T00:21:59.227505Z",
     "iopub.status.idle": "2021-08-22T00:21:59.229410Z",
     "shell.execute_reply": "2021-08-22T00:21:59.229956Z"
    },
    "papermill": {
     "duration": 0.046759,
     "end_time": "2021-08-22T00:21:59.230118",
     "exception": false,
     "start_time": "2021-08-22T00:21:59.183359",
     "status": "completed"
    },
    "tags": []
   },
   "outputs": [],
   "source": [
    "#hide\n",
    "def get_template(path):\n",
    "    from urllib.parse import urlparse\n",
    "    if bool(urlparse(path).netloc):\n",
    "        from urllib.request import urlopen\n",
    "        return urlopen(path).read().decode('utf8')\n",
    "    return open(path).read()"
   ]
  },
  {
   "cell_type": "code",
   "execution_count": 7,
   "id": "realistic-blast",
   "metadata": {
    "execution": {
     "iopub.execute_input": "2021-08-22T00:21:59.314835Z",
     "iopub.status.busy": "2021-08-22T00:21:59.312277Z",
     "iopub.status.idle": "2021-08-22T00:21:59.317522Z",
     "shell.execute_reply": "2021-08-22T00:21:59.316967Z"
    },
    "papermill": {
     "duration": 0.048052,
     "end_time": "2021-08-22T00:21:59.317670",
     "exception": false,
     "start_time": "2021-08-22T00:21:59.269618",
     "status": "completed"
    },
    "tags": []
   },
   "outputs": [],
   "source": [
    "#hide\n",
    "def get_frame(name):\n",
    "    url = (\n",
    "        'https://raw.githubusercontent.com/CSSEGISandData/COVID-19/master/csse_covid_19_data/'\n",
    "        f'csse_covid_19_time_series/time_series_covid19_{name}_global.csv')\n",
    "    df = pd.read_csv(url)\n",
    "    # rename countries\n",
    "    df['Country/Region'] = df['Country/Region'].replace(mapping['replace.country'])\n",
    "    return df"
   ]
  },
  {
   "cell_type": "code",
   "execution_count": 8,
   "id": "affiliated-characterization",
   "metadata": {
    "execution": {
     "iopub.execute_input": "2021-08-22T00:21:59.402806Z",
     "iopub.status.busy": "2021-08-22T00:21:59.402119Z",
     "iopub.status.idle": "2021-08-22T00:21:59.404782Z",
     "shell.execute_reply": "2021-08-22T00:21:59.403942Z"
    },
    "papermill": {
     "duration": 0.04796,
     "end_time": "2021-08-22T00:21:59.404940",
     "exception": false,
     "start_time": "2021-08-22T00:21:59.356980",
     "status": "completed"
    },
    "tags": []
   },
   "outputs": [],
   "source": [
    "#hide\n",
    "def get_dates(df):\n",
    "    dt_cols = df.columns[~df.columns.isin(['Province/State', 'Country/Region', 'Lat', 'Long'])]\n",
    "    LAST_DATE_I = -1\n",
    "    # sometimes last column may be empty, then go backwards\n",
    "    for i in range(-1, -len(dt_cols), -1):\n",
    "        if not df[dt_cols[i]].fillna(0).eq(0).all():\n",
    "            LAST_DATE_I = i\n",
    "            break\n",
    "    return LAST_DATE_I, dt_cols"
   ]
  },
  {
   "cell_type": "code",
   "execution_count": 9,
   "id": "recent-optimization",
   "metadata": {
    "execution": {
     "iopub.execute_input": "2021-08-22T00:21:59.490871Z",
     "iopub.status.busy": "2021-08-22T00:21:59.489758Z",
     "iopub.status.idle": "2021-08-22T00:21:59.841995Z",
     "shell.execute_reply": "2021-08-22T00:21:59.841398Z"
    },
    "papermill": {
     "duration": 0.397906,
     "end_time": "2021-08-22T00:21:59.842137",
     "exception": false,
     "start_time": "2021-08-22T00:21:59.444231",
     "status": "completed"
    },
    "tags": []
   },
   "outputs": [],
   "source": [
    "#hide\n",
    "COL_REGION = 'Country/Region'\n",
    "# Confirmed, Recovered, Deaths\n",
    "df = get_frame('confirmed')\n",
    "# dft_: timeseries, dfc_: today country agg\n",
    "dft_cases = df\n",
    "dft_deaths = get_frame('deaths')\n",
    "dft_recovered = get_frame('recovered')\n",
    "LAST_DATE_I, dt_cols = get_dates(df)"
   ]
  },
  {
   "cell_type": "code",
   "execution_count": 10,
   "id": "absolute-copper",
   "metadata": {
    "execution": {
     "iopub.execute_input": "2021-08-22T00:21:59.928002Z",
     "iopub.status.busy": "2021-08-22T00:21:59.927215Z",
     "iopub.status.idle": "2021-08-22T00:21:59.930779Z",
     "shell.execute_reply": "2021-08-22T00:21:59.931383Z"
    },
    "papermill": {
     "duration": 0.049524,
     "end_time": "2021-08-22T00:21:59.931591",
     "exception": false,
     "start_time": "2021-08-22T00:21:59.882067",
     "status": "completed"
    },
    "tags": []
   },
   "outputs": [],
   "source": [
    "#hide\n",
    "LAST_DATE_I, dt_cols = get_dates(df)\n",
    "dt_today =dt_cols[LAST_DATE_I]\n",
    "# dt_5day = dt_cols[LAST_DATE_I - 5]\n",
    "dt_yday = dt_cols[LAST_DATE_I - 1]"
   ]
  },
  {
   "cell_type": "code",
   "execution_count": 11,
   "id": "restricted-sheriff",
   "metadata": {
    "execution": {
     "iopub.execute_input": "2021-08-22T00:22:00.022608Z",
     "iopub.status.busy": "2021-08-22T00:22:00.021884Z",
     "iopub.status.idle": "2021-08-22T00:22:00.024485Z",
     "shell.execute_reply": "2021-08-22T00:22:00.023901Z"
    },
    "papermill": {
     "duration": 0.054959,
     "end_time": "2021-08-22T00:22:00.024629",
     "exception": false,
     "start_time": "2021-08-22T00:21:59.969670",
     "status": "completed"
    },
    "tags": []
   },
   "outputs": [],
   "source": [
    "#hide\n",
    "dfc_cases = dft_cases.groupby(COL_REGION)[dt_today].sum()\n",
    "dfc_deaths = dft_deaths.groupby(COL_REGION)[dt_today].sum()\n",
    "# dfp_cases = dft_cases.groupby(COL_REGION)[dt_5day].sum()\n",
    "# dfp_deaths = dft_deaths.groupby(COL_REGION)[dt_5day].sum()\n",
    "dfp_cases = dft_cases.groupby(COL_REGION)[dt_yday].sum()\n",
    "dfp_deaths = dft_deaths.groupby(COL_REGION)[dt_yday].sum()"
   ]
  },
  {
   "cell_type": "code",
   "execution_count": 12,
   "id": "deluxe-hepatitis",
   "metadata": {
    "execution": {
     "iopub.execute_input": "2021-08-22T00:22:00.111062Z",
     "iopub.status.busy": "2021-08-22T00:22:00.110359Z",
     "iopub.status.idle": "2021-08-22T00:22:00.118361Z",
     "shell.execute_reply": "2021-08-22T00:22:00.117133Z"
    },
    "papermill": {
     "duration": 0.054339,
     "end_time": "2021-08-22T00:22:00.118509",
     "exception": false,
     "start_time": "2021-08-22T00:22:00.064170",
     "status": "completed"
    },
    "tags": []
   },
   "outputs": [],
   "source": [
    "#hide\n",
    "df_table = (pd.DataFrame(dict(Cases = dfc_cases, Deaths = dfc_deaths, PCases = dfp_cases, PDeaths = dfp_deaths))\n",
    "            .sort_values(by = ['Cases','Deaths'], ascending = [False, False])\n",
    "            .reset_index())"
   ]
  },
  {
   "cell_type": "code",
   "execution_count": 13,
   "id": "educational-chancellor",
   "metadata": {
    "execution": {
     "iopub.execute_input": "2021-08-22T00:22:00.233437Z",
     "iopub.status.busy": "2021-08-22T00:22:00.232528Z",
     "iopub.status.idle": "2021-08-22T00:22:00.242188Z",
     "shell.execute_reply": "2021-08-22T00:22:00.241589Z"
    },
    "papermill": {
     "duration": 0.078988,
     "end_time": "2021-08-22T00:22:00.242336",
     "exception": false,
     "start_time": "2021-08-22T00:22:00.163348",
     "status": "completed"
    },
    "tags": []
   },
   "outputs": [
    {
     "data": {
      "text/html": [
       "<div>\n",
       "<style scoped>\n",
       "    .dataframe tbody tr th:only-of-type {\n",
       "        vertical-align: middle;\n",
       "    }\n",
       "\n",
       "    .dataframe tbody tr th {\n",
       "        vertical-align: top;\n",
       "    }\n",
       "\n",
       "    .dataframe thead th {\n",
       "        text-align: right;\n",
       "    }\n",
       "</style>\n",
       "<table border=\"1\" class=\"dataframe\">\n",
       "  <thead>\n",
       "    <tr style=\"text-align: right;\">\n",
       "      <th></th>\n",
       "      <th>Country/Region</th>\n",
       "      <th>Cases</th>\n",
       "      <th>Deaths</th>\n",
       "      <th>PCases</th>\n",
       "      <th>PDeaths</th>\n",
       "      <th>Cases (+)</th>\n",
       "      <th>Deaths (+)</th>\n",
       "      <th>Fatality Rate</th>\n",
       "      <th>Continent</th>\n",
       "    </tr>\n",
       "  </thead>\n",
       "  <tbody>\n",
       "    <tr>\n",
       "      <th>0</th>\n",
       "      <td>US</td>\n",
       "      <td>37613597</td>\n",
       "      <td>627843</td>\n",
       "      <td>37294141</td>\n",
       "      <td>625166</td>\n",
       "      <td>319456</td>\n",
       "      <td>2677</td>\n",
       "      <td>1.67</td>\n",
       "      <td>North America</td>\n",
       "    </tr>\n",
       "    <tr>\n",
       "      <th>1</th>\n",
       "      <td>India</td>\n",
       "      <td>32393286</td>\n",
       "      <td>433964</td>\n",
       "      <td>32358829</td>\n",
       "      <td>433589</td>\n",
       "      <td>34457</td>\n",
       "      <td>375</td>\n",
       "      <td>1.34</td>\n",
       "      <td>Asia</td>\n",
       "    </tr>\n",
       "    <tr>\n",
       "      <th>2</th>\n",
       "      <td>Brazil</td>\n",
       "      <td>20528099</td>\n",
       "      <td>573511</td>\n",
       "      <td>20494212</td>\n",
       "      <td>572641</td>\n",
       "      <td>33887</td>\n",
       "      <td>870</td>\n",
       "      <td>2.79</td>\n",
       "      <td>South America</td>\n",
       "    </tr>\n",
       "    <tr>\n",
       "      <th>3</th>\n",
       "      <td>France</td>\n",
       "      <td>6660315</td>\n",
       "      <td>113472</td>\n",
       "      <td>6636833</td>\n",
       "      <td>113376</td>\n",
       "      <td>23482</td>\n",
       "      <td>96</td>\n",
       "      <td>1.70</td>\n",
       "      <td>Europe</td>\n",
       "    </tr>\n",
       "    <tr>\n",
       "      <th>4</th>\n",
       "      <td>Russia</td>\n",
       "      <td>6613107</td>\n",
       "      <td>171480</td>\n",
       "      <td>6592705</td>\n",
       "      <td>170716</td>\n",
       "      <td>20402</td>\n",
       "      <td>764</td>\n",
       "      <td>2.59</td>\n",
       "      <td>Europe</td>\n",
       "    </tr>\n",
       "  </tbody>\n",
       "</table>\n",
       "</div>"
      ],
      "text/plain": [
       "  Country/Region     Cases  Deaths    PCases  PDeaths  Cases (+)  Deaths (+)  \\\n",
       "0             US  37613597  627843  37294141   625166     319456        2677   \n",
       "1          India  32393286  433964  32358829   433589      34457         375   \n",
       "2         Brazil  20528099  573511  20494212   572641      33887         870   \n",
       "3         France   6660315  113472   6636833   113376      23482          96   \n",
       "4         Russia   6613107  171480   6592705   170716      20402         764   \n",
       "\n",
       "   Fatality Rate      Continent  \n",
       "0           1.67  North America  \n",
       "1           1.34           Asia  \n",
       "2           2.79  South America  \n",
       "3           1.70         Europe  \n",
       "4           2.59         Europe  "
      ]
     },
     "execution_count": 13,
     "metadata": {},
     "output_type": "execute_result"
    }
   ],
   "source": [
    "#hide\n",
    "for c in 'Cases, Deaths'.split(', '):\n",
    "    df_table[f'{c} (+)'] = (df_table[c] - df_table[f'P{c}']).clip(0)\n",
    "    #Clip ça veut dire, les chiffres negatif sont interdit\n",
    "df_table['Fatality Rate'] = (100* df_table['Deaths']/ df_table['Cases']).round(2)\n",
    "df_table['Continent'] = df_table['Country/Region'].map(mapping['map.continent'])\n",
    "df_table.head(5)"
   ]
  },
  {
   "cell_type": "code",
   "execution_count": 14,
   "id": "aboriginal-bulgaria",
   "metadata": {
    "execution": {
     "iopub.execute_input": "2021-08-22T00:22:00.329558Z",
     "iopub.status.busy": "2021-08-22T00:22:00.328863Z",
     "iopub.status.idle": "2021-08-22T00:22:00.331468Z",
     "shell.execute_reply": "2021-08-22T00:22:00.330866Z"
    },
    "papermill": {
     "duration": 0.049103,
     "end_time": "2021-08-22T00:22:00.331633",
     "exception": false,
     "start_time": "2021-08-22T00:22:00.282530",
     "status": "completed"
    },
    "tags": []
   },
   "outputs": [],
   "source": [
    "#hide\n",
    "#delete problematic countries from table\n",
    "df_table = df_table[~df_table['Country/Region'].isin(['Cape Verde', 'Cruise Ship', 'Kosovo'])]"
   ]
  },
  {
   "cell_type": "code",
   "execution_count": 15,
   "id": "fantastic-effect",
   "metadata": {
    "execution": {
     "iopub.execute_input": "2021-08-22T00:22:00.420132Z",
     "iopub.status.busy": "2021-08-22T00:22:00.419418Z",
     "iopub.status.idle": "2021-08-22T00:22:00.443189Z",
     "shell.execute_reply": "2021-08-22T00:22:00.443774Z"
    },
    "papermill": {
     "duration": 0.07265,
     "end_time": "2021-08-22T00:22:00.443971",
     "exception": false,
     "start_time": "2021-08-22T00:22:00.371321",
     "status": "completed"
    },
    "tags": []
   },
   "outputs": [
    {
     "data": {
      "text/html": [
       "<div>\n",
       "<style scoped>\n",
       "    .dataframe tbody tr th:only-of-type {\n",
       "        vertical-align: middle;\n",
       "    }\n",
       "\n",
       "    .dataframe tbody tr th {\n",
       "        vertical-align: top;\n",
       "    }\n",
       "\n",
       "    .dataframe thead th {\n",
       "        text-align: right;\n",
       "    }\n",
       "</style>\n",
       "<table border=\"1\" class=\"dataframe\">\n",
       "  <thead>\n",
       "    <tr style=\"text-align: right;\">\n",
       "      <th></th>\n",
       "      <th>Country/Region</th>\n",
       "      <th>Cases</th>\n",
       "      <th>Deaths</th>\n",
       "      <th>PCases</th>\n",
       "      <th>PDeaths</th>\n",
       "      <th>Cases (+)</th>\n",
       "      <th>Deaths (+)</th>\n",
       "      <th>Fatality Rate</th>\n",
       "      <th>Continent</th>\n",
       "    </tr>\n",
       "  </thead>\n",
       "  <tbody>\n",
       "    <tr>\n",
       "      <th>0</th>\n",
       "      <td>US</td>\n",
       "      <td>37613597</td>\n",
       "      <td>627843</td>\n",
       "      <td>37294141</td>\n",
       "      <td>625166</td>\n",
       "      <td>319456</td>\n",
       "      <td>2677</td>\n",
       "      <td>1.7</td>\n",
       "      <td>North America</td>\n",
       "    </tr>\n",
       "    <tr>\n",
       "      <th>1</th>\n",
       "      <td>India</td>\n",
       "      <td>32393286</td>\n",
       "      <td>433964</td>\n",
       "      <td>32358829</td>\n",
       "      <td>433589</td>\n",
       "      <td>34457</td>\n",
       "      <td>375</td>\n",
       "      <td>1.3</td>\n",
       "      <td>Asia</td>\n",
       "    </tr>\n",
       "    <tr>\n",
       "      <th>2</th>\n",
       "      <td>Brazil</td>\n",
       "      <td>20528099</td>\n",
       "      <td>573511</td>\n",
       "      <td>20494212</td>\n",
       "      <td>572641</td>\n",
       "      <td>33887</td>\n",
       "      <td>870</td>\n",
       "      <td>2.8</td>\n",
       "      <td>South America</td>\n",
       "    </tr>\n",
       "    <tr>\n",
       "      <th>3</th>\n",
       "      <td>France</td>\n",
       "      <td>6660315</td>\n",
       "      <td>113472</td>\n",
       "      <td>6636833</td>\n",
       "      <td>113376</td>\n",
       "      <td>23482</td>\n",
       "      <td>96</td>\n",
       "      <td>1.7</td>\n",
       "      <td>Europe</td>\n",
       "    </tr>\n",
       "    <tr>\n",
       "      <th>4</th>\n",
       "      <td>Russia</td>\n",
       "      <td>6613107</td>\n",
       "      <td>171480</td>\n",
       "      <td>6592705</td>\n",
       "      <td>170716</td>\n",
       "      <td>20402</td>\n",
       "      <td>764</td>\n",
       "      <td>2.6</td>\n",
       "      <td>Europe</td>\n",
       "    </tr>\n",
       "  </tbody>\n",
       "</table>\n",
       "</div>"
      ],
      "text/plain": [
       "  Country/Region     Cases  Deaths    PCases  PDeaths  Cases (+)  Deaths (+)  \\\n",
       "0             US  37613597  627843  37294141   625166     319456        2677   \n",
       "1          India  32393286  433964  32358829   433589      34457         375   \n",
       "2         Brazil  20528099  573511  20494212   572641      33887         870   \n",
       "3         France   6660315  113472   6636833   113376      23482          96   \n",
       "4         Russia   6613107  171480   6592705   170716      20402         764   \n",
       "\n",
       "   Fatality Rate      Continent  \n",
       "0            1.7  North America  \n",
       "1            1.3           Asia  \n",
       "2            2.8  South America  \n",
       "3            1.7         Europe  \n",
       "4            2.6         Europe  "
      ]
     },
     "execution_count": 15,
     "metadata": {},
     "output_type": "execute_result"
    }
   ],
   "source": [
    "#hide\n",
    "df_table = (pd.DataFrame(dict(Cases=dfc_cases, Deaths=dfc_deaths, PCases=dfp_cases, PDeaths=dfp_deaths))\n",
    "             .sort_values(by=['Cases', 'Deaths'], ascending=[False, False])\n",
    "             .reset_index())\n",
    "df_table.rename(columns={'index': 'Country/Region'}, inplace=True)\n",
    "for c in 'Cases, Deaths'.split(', '):\n",
    "    df_table[f'{c} (+)'] = (df_table[c] - df_table[f'P{c}']).clip(0)  # DATA BUG\n",
    "df_table['Fatality Rate'] = (100 * df_table['Deaths'] / df_table['Cases']).round(1)\n",
    "df_table['Continent'] = df_table['Country/Region'].map(mapping['map.continent'])\n",
    "df_table.head(5)"
   ]
  },
  {
   "cell_type": "code",
   "execution_count": 16,
   "id": "fewer-occasion",
   "metadata": {
    "execution": {
     "iopub.execute_input": "2021-08-22T00:22:00.531268Z",
     "iopub.status.busy": "2021-08-22T00:22:00.530600Z",
     "iopub.status.idle": "2021-08-22T00:22:00.532295Z",
     "shell.execute_reply": "2021-08-22T00:22:00.532860Z"
    },
    "papermill": {
     "duration": 0.048661,
     "end_time": "2021-08-22T00:22:00.533042",
     "exception": false,
     "start_time": "2021-08-22T00:22:00.484381",
     "status": "completed"
    },
    "tags": []
   },
   "outputs": [],
   "source": [
    "#hide\n",
    "#delete problematic countries from table\n",
    "df_table = df_table[~df_table['Country/Region'].isin(['Cape Verde', 'Cruise Ship', 'Kosovo'])]"
   ]
  },
  {
   "cell_type": "code",
   "execution_count": 17,
   "id": "related-center",
   "metadata": {
    "execution": {
     "iopub.execute_input": "2021-08-22T00:22:00.648412Z",
     "iopub.status.busy": "2021-08-22T00:22:00.647664Z",
     "iopub.status.idle": "2021-08-22T00:22:00.650311Z",
     "shell.execute_reply": "2021-08-22T00:22:00.650835Z"
    },
    "papermill": {
     "duration": 0.074923,
     "end_time": "2021-08-22T00:22:00.651007",
     "exception": false,
     "start_time": "2021-08-22T00:22:00.576084",
     "status": "completed"
    },
    "tags": []
   },
   "outputs": [],
   "source": [
    "#hide\n",
    "metrics = [df_table.columns[index] for index in [1,2,5,6]]\n",
    "# s_china = df_table[df_table['Country/Region'].eq('China')][metrics].sum().add_prefix('China ')\n",
    "s_us = df_table[df_table['Country/Region'].eq('US')][metrics].sum().add_prefix('US ')\n",
    "s_eu = df_table[df_table['Continent'].eq('Europe')][metrics].sum().add_prefix('EU ')\n",
    "s_ind = df_table[df_table['Country/Region'].eq('India')][metrics].sum().add_prefix('India ')\n",
    "summary = {'updated': pd.to_datetime(dt_today), 'since': pd.to_datetime(dt_yday)}\n",
    "summary = {'updated': pd.to_datetime(dt_today), 'since': pd.to_datetime(dt_yday)}\n",
    "summary = {**summary, **df_table[metrics].sum(), **s_ind, **s_us, **s_eu}"
   ]
  },
  {
   "cell_type": "code",
   "execution_count": 18,
   "id": "engaging-syndrome",
   "metadata": {
    "execution": {
     "iopub.execute_input": "2021-08-22T00:22:00.739189Z",
     "iopub.status.busy": "2021-08-22T00:22:00.738498Z",
     "iopub.status.idle": "2021-08-22T00:22:00.754811Z",
     "shell.execute_reply": "2021-08-22T00:22:00.754229Z"
    },
    "papermill": {
     "duration": 0.062468,
     "end_time": "2021-08-22T00:22:00.754957",
     "exception": false,
     "start_time": "2021-08-22T00:22:00.692489",
     "status": "completed"
    },
    "tags": []
   },
   "outputs": [],
   "source": [
    "#hide\n",
    "dft_ct_new_cases = dft_cases.groupby(COL_REGION)[dt_cols].sum().diff(axis=1).fillna(0).astype(int)"
   ]
  },
  {
   "cell_type": "code",
   "execution_count": 19,
   "id": "neutral-assignment",
   "metadata": {
    "execution": {
     "iopub.execute_input": "2021-08-22T00:22:00.844789Z",
     "iopub.status.busy": "2021-08-22T00:22:00.844093Z",
     "iopub.status.idle": "2021-08-22T00:22:00.846013Z",
     "shell.execute_reply": "2021-08-22T00:22:00.846574Z"
    },
    "papermill": {
     "duration": 0.049485,
     "end_time": "2021-08-22T00:22:00.846735",
     "exception": false,
     "start_time": "2021-08-22T00:22:00.797250",
     "status": "completed"
    },
    "tags": []
   },
   "outputs": [],
   "source": [
    "#hide\n",
    "everydaycases = dft_ct_new_cases.cumsum(axis=1)"
   ]
  },
  {
   "cell_type": "code",
   "execution_count": 20,
   "id": "parliamentary-calgary",
   "metadata": {
    "execution": {
     "iopub.execute_input": "2021-08-22T00:22:00.932573Z",
     "iopub.status.busy": "2021-08-22T00:22:00.931892Z",
     "iopub.status.idle": "2021-08-22T00:22:01.619740Z",
     "shell.execute_reply": "2021-08-22T00:22:01.618753Z"
    },
    "papermill": {
     "duration": 0.733079,
     "end_time": "2021-08-22T00:22:01.619888",
     "exception": false,
     "start_time": "2021-08-22T00:22:00.886809",
     "status": "completed"
    },
    "tags": []
   },
   "outputs": [],
   "source": [
    "#hide\n",
    "import pandas as pd\n",
    "import matplotlib.pyplot as plt\n",
    "import matplotlib.ticker as ticker\n",
    "import matplotlib.animation as animation\n",
    "from IPython.display import HTML"
   ]
  },
  {
   "cell_type": "code",
   "execution_count": 21,
   "id": "lasting-extraction",
   "metadata": {
    "execution": {
     "iopub.execute_input": "2021-08-22T00:22:01.706897Z",
     "iopub.status.busy": "2021-08-22T00:22:01.706197Z",
     "iopub.status.idle": "2021-08-22T00:22:01.713779Z",
     "shell.execute_reply": "2021-08-22T00:22:01.713198Z"
    },
    "papermill": {
     "duration": 0.053868,
     "end_time": "2021-08-22T00:22:01.713931",
     "exception": false,
     "start_time": "2021-08-22T00:22:01.660063",
     "status": "completed"
    },
    "tags": []
   },
   "outputs": [],
   "source": [
    "#hide\n",
    "t = everydaycases.stack()"
   ]
  },
  {
   "cell_type": "code",
   "execution_count": 22,
   "id": "premier-sleeve",
   "metadata": {
    "execution": {
     "iopub.execute_input": "2021-08-22T00:22:01.800498Z",
     "iopub.status.busy": "2021-08-22T00:22:01.799781Z",
     "iopub.status.idle": "2021-08-22T00:22:01.809868Z",
     "shell.execute_reply": "2021-08-22T00:22:01.809111Z"
    },
    "papermill": {
     "duration": 0.05532,
     "end_time": "2021-08-22T00:22:01.810025",
     "exception": false,
     "start_time": "2021-08-22T00:22:01.754705",
     "status": "completed"
    },
    "tags": []
   },
   "outputs": [],
   "source": [
    "#hide\n",
    "g = t.reset_index(['Country/Region'])"
   ]
  },
  {
   "cell_type": "code",
   "execution_count": 23,
   "id": "distributed-pittsburgh",
   "metadata": {
    "execution": {
     "iopub.execute_input": "2021-08-22T00:22:01.901657Z",
     "iopub.status.busy": "2021-08-22T00:22:01.900949Z",
     "iopub.status.idle": "2021-08-22T00:22:01.902299Z",
     "shell.execute_reply": "2021-08-22T00:22:01.902942Z"
    },
    "papermill": {
     "duration": 0.05252,
     "end_time": "2021-08-22T00:22:01.903108",
     "exception": false,
     "start_time": "2021-08-22T00:22:01.850588",
     "status": "completed"
    },
    "tags": []
   },
   "outputs": [],
   "source": [
    "#hide\n",
    "g.index.name = 'date'"
   ]
  },
  {
   "cell_type": "code",
   "execution_count": 24,
   "id": "naked-donor",
   "metadata": {
    "execution": {
     "iopub.execute_input": "2021-08-22T00:22:01.993268Z",
     "iopub.status.busy": "2021-08-22T00:22:01.992570Z",
     "iopub.status.idle": "2021-08-22T00:22:01.995142Z",
     "shell.execute_reply": "2021-08-22T00:22:01.994462Z"
    },
    "papermill": {
     "duration": 0.050637,
     "end_time": "2021-08-22T00:22:01.995285",
     "exception": false,
     "start_time": "2021-08-22T00:22:01.944648",
     "status": "completed"
    },
    "tags": []
   },
   "outputs": [],
   "source": [
    "# #hide\n",
    "# g = g.reset_index(['date'])"
   ]
  },
  {
   "cell_type": "code",
   "execution_count": 25,
   "id": "incomplete-mustang",
   "metadata": {
    "execution": {
     "iopub.execute_input": "2021-08-22T00:22:02.087012Z",
     "iopub.status.busy": "2021-08-22T00:22:02.086343Z",
     "iopub.status.idle": "2021-08-22T00:22:02.088920Z",
     "shell.execute_reply": "2021-08-22T00:22:02.088343Z"
    },
    "papermill": {
     "duration": 0.049176,
     "end_time": "2021-08-22T00:22:02.089063",
     "exception": false,
     "start_time": "2021-08-22T00:22:02.039887",
     "status": "completed"
    },
    "tags": []
   },
   "outputs": [],
   "source": [
    "#hide\n",
    "# g.head()"
   ]
  },
  {
   "cell_type": "code",
   "execution_count": 26,
   "id": "specific-kruger",
   "metadata": {
    "execution": {
     "iopub.execute_input": "2021-08-22T00:22:02.175348Z",
     "iopub.status.busy": "2021-08-22T00:22:02.174596Z",
     "iopub.status.idle": "2021-08-22T00:22:02.177543Z",
     "shell.execute_reply": "2021-08-22T00:22:02.177002Z"
    },
    "papermill": {
     "duration": 0.047751,
     "end_time": "2021-08-22T00:22:02.177687",
     "exception": false,
     "start_time": "2021-08-22T00:22:02.129936",
     "status": "completed"
    },
    "tags": []
   },
   "outputs": [],
   "source": [
    "#hide\n",
    "# g.columns = ['date','country','cases']"
   ]
  },
  {
   "cell_type": "code",
   "execution_count": 27,
   "id": "tender-conversion",
   "metadata": {
    "execution": {
     "iopub.execute_input": "2021-08-22T00:22:02.266742Z",
     "iopub.status.busy": "2021-08-22T00:22:02.263719Z",
     "iopub.status.idle": "2021-08-22T00:22:02.267512Z",
     "shell.execute_reply": "2021-08-22T00:22:02.268055Z"
    },
    "papermill": {
     "duration": 0.050067,
     "end_time": "2021-08-22T00:22:02.268216",
     "exception": false,
     "start_time": "2021-08-22T00:22:02.218149",
     "status": "completed"
    },
    "tags": []
   },
   "outputs": [],
   "source": [
    "#hide\n",
    "# g['continent'] = g.country"
   ]
  },
  {
   "cell_type": "code",
   "execution_count": 28,
   "id": "substantial-wilderness",
   "metadata": {
    "execution": {
     "iopub.execute_input": "2021-08-22T00:22:02.366834Z",
     "iopub.status.busy": "2021-08-22T00:22:02.366148Z",
     "iopub.status.idle": "2021-08-22T00:22:02.368021Z",
     "shell.execute_reply": "2021-08-22T00:22:02.368600Z"
    },
    "papermill": {
     "duration": 0.054535,
     "end_time": "2021-08-22T00:22:02.368753",
     "exception": false,
     "start_time": "2021-08-22T00:22:02.314218",
     "status": "completed"
    },
    "tags": []
   },
   "outputs": [],
   "source": [
    "#hide\n",
    "# cols = list(g.columns.values)"
   ]
  },
  {
   "cell_type": "code",
   "execution_count": 29,
   "id": "solved-farming",
   "metadata": {
    "execution": {
     "iopub.execute_input": "2021-08-22T00:22:02.452231Z",
     "iopub.status.busy": "2021-08-22T00:22:02.451563Z",
     "iopub.status.idle": "2021-08-22T00:22:02.453561Z",
     "shell.execute_reply": "2021-08-22T00:22:02.454102Z"
    },
    "papermill": {
     "duration": 0.045915,
     "end_time": "2021-08-22T00:22:02.454253",
     "exception": false,
     "start_time": "2021-08-22T00:22:02.408338",
     "status": "completed"
    },
    "tags": []
   },
   "outputs": [],
   "source": [
    "#hide\n",
    "# cols.insert(0, cols.pop())"
   ]
  },
  {
   "cell_type": "code",
   "execution_count": 30,
   "id": "executed-adoption",
   "metadata": {
    "execution": {
     "iopub.execute_input": "2021-08-22T00:22:02.539867Z",
     "iopub.status.busy": "2021-08-22T00:22:02.539034Z",
     "iopub.status.idle": "2021-08-22T00:22:02.540765Z",
     "shell.execute_reply": "2021-08-22T00:22:02.541388Z"
    },
    "papermill": {
     "duration": 0.048621,
     "end_time": "2021-08-22T00:22:02.541590",
     "exception": false,
     "start_time": "2021-08-22T00:22:02.492969",
     "status": "completed"
    },
    "tags": []
   },
   "outputs": [],
   "source": [
    "#hide\n",
    "# g = g[cols]"
   ]
  },
  {
   "cell_type": "code",
   "execution_count": 31,
   "id": "subject-dublin",
   "metadata": {
    "execution": {
     "iopub.execute_input": "2021-08-22T00:22:02.626406Z",
     "iopub.status.busy": "2021-08-22T00:22:02.625722Z",
     "iopub.status.idle": "2021-08-22T00:22:02.628729Z",
     "shell.execute_reply": "2021-08-22T00:22:02.627523Z"
    },
    "papermill": {
     "duration": 0.047508,
     "end_time": "2021-08-22T00:22:02.628872",
     "exception": false,
     "start_time": "2021-08-22T00:22:02.581364",
     "status": "completed"
    },
    "tags": []
   },
   "outputs": [],
   "source": [
    "#hide\n",
    "# g['continent'] = g['continent'].map(mapping['map.continent'])"
   ]
  },
  {
   "cell_type": "code",
   "execution_count": 32,
   "id": "freelance-scout",
   "metadata": {
    "execution": {
     "iopub.execute_input": "2021-08-22T00:22:02.714282Z",
     "iopub.status.busy": "2021-08-22T00:22:02.713594Z",
     "iopub.status.idle": "2021-08-22T00:22:02.715577Z",
     "shell.execute_reply": "2021-08-22T00:22:02.716127Z"
    },
    "papermill": {
     "duration": 0.047004,
     "end_time": "2021-08-22T00:22:02.716279",
     "exception": false,
     "start_time": "2021-08-22T00:22:02.669275",
     "status": "completed"
    },
    "tags": []
   },
   "outputs": [],
   "source": [
    "#hide\n",
    "# g.head()"
   ]
  },
  {
   "cell_type": "code",
   "execution_count": 33,
   "id": "limited-engine",
   "metadata": {
    "execution": {
     "iopub.execute_input": "2021-08-22T00:22:02.800391Z",
     "iopub.status.busy": "2021-08-22T00:22:02.799702Z",
     "iopub.status.idle": "2021-08-22T00:22:02.802125Z",
     "shell.execute_reply": "2021-08-22T00:22:02.801594Z"
    },
    "papermill": {
     "duration": 0.045919,
     "end_time": "2021-08-22T00:22:02.802252",
     "exception": false,
     "start_time": "2021-08-22T00:22:02.756333",
     "status": "completed"
    },
    "tags": []
   },
   "outputs": [],
   "source": [
    "# hide\n",
    "# g['date'] = g['date'].astype('datetime64[ns]')"
   ]
  },
  {
   "cell_type": "code",
   "execution_count": 34,
   "id": "sophisticated-supervisor",
   "metadata": {
    "execution": {
     "iopub.execute_input": "2021-08-22T00:22:02.885913Z",
     "iopub.status.busy": "2021-08-22T00:22:02.885234Z",
     "iopub.status.idle": "2021-08-22T00:22:02.887181Z",
     "shell.execute_reply": "2021-08-22T00:22:02.887788Z"
    },
    "papermill": {
     "duration": 0.0463,
     "end_time": "2021-08-22T00:22:02.887955",
     "exception": false,
     "start_time": "2021-08-22T00:22:02.841655",
     "status": "completed"
    },
    "tags": []
   },
   "outputs": [],
   "source": [
    "#hide\n",
    "# g['date'] = g.date.dt.dayofyear"
   ]
  },
  {
   "cell_type": "code",
   "execution_count": 35,
   "id": "inside-dubai",
   "metadata": {
    "execution": {
     "iopub.execute_input": "2021-08-22T00:22:02.971087Z",
     "iopub.status.busy": "2021-08-22T00:22:02.970408Z",
     "iopub.status.idle": "2021-08-22T00:22:02.973033Z",
     "shell.execute_reply": "2021-08-22T00:22:02.972501Z"
    },
    "papermill": {
     "duration": 0.045403,
     "end_time": "2021-08-22T00:22:02.973165",
     "exception": false,
     "start_time": "2021-08-22T00:22:02.927762",
     "status": "completed"
    },
    "tags": []
   },
   "outputs": [],
   "source": [
    "#hide\n",
    "# g = g.rename(columns= {'continent':'group','country':'name','cases':'value'})"
   ]
  },
  {
   "cell_type": "code",
   "execution_count": 36,
   "id": "fleet-motorcycle",
   "metadata": {
    "execution": {
     "iopub.execute_input": "2021-08-22T00:22:03.055847Z",
     "iopub.status.busy": "2021-08-22T00:22:03.055147Z",
     "iopub.status.idle": "2021-08-22T00:22:03.057675Z",
     "shell.execute_reply": "2021-08-22T00:22:03.057016Z"
    },
    "papermill": {
     "duration": 0.046106,
     "end_time": "2021-08-22T00:22:03.057816",
     "exception": false,
     "start_time": "2021-08-22T00:22:03.011710",
     "status": "completed"
    },
    "tags": []
   },
   "outputs": [],
   "source": [
    "#hide\n",
    "# cols = ['name','group','day','value']"
   ]
  },
  {
   "cell_type": "code",
   "execution_count": 37,
   "id": "continued-sleeping",
   "metadata": {
    "execution": {
     "iopub.execute_input": "2021-08-22T00:22:03.144401Z",
     "iopub.status.busy": "2021-08-22T00:22:03.143720Z",
     "iopub.status.idle": "2021-08-22T00:22:03.145246Z",
     "shell.execute_reply": "2021-08-22T00:22:03.145867Z"
    },
    "papermill": {
     "duration": 0.047434,
     "end_time": "2021-08-22T00:22:03.146025",
     "exception": false,
     "start_time": "2021-08-22T00:22:03.098591",
     "status": "completed"
    },
    "tags": []
   },
   "outputs": [],
   "source": [
    "#hide\n",
    "# g.rename(columns= {'date':'day'},inplace = True)"
   ]
  },
  {
   "cell_type": "code",
   "execution_count": 38,
   "id": "major-fight",
   "metadata": {
    "execution": {
     "iopub.execute_input": "2021-08-22T00:22:03.234458Z",
     "iopub.status.busy": "2021-08-22T00:22:03.233704Z",
     "iopub.status.idle": "2021-08-22T00:22:03.235758Z",
     "shell.execute_reply": "2021-08-22T00:22:03.236298Z"
    },
    "papermill": {
     "duration": 0.047349,
     "end_time": "2021-08-22T00:22:03.236458",
     "exception": false,
     "start_time": "2021-08-22T00:22:03.189109",
     "status": "completed"
    },
    "tags": []
   },
   "outputs": [],
   "source": [
    "#hide\n",
    "# g = g[cols]"
   ]
  },
  {
   "cell_type": "code",
   "execution_count": 39,
   "id": "structured-mobile",
   "metadata": {
    "execution": {
     "iopub.execute_input": "2021-08-22T00:22:03.321458Z",
     "iopub.status.busy": "2021-08-22T00:22:03.320774Z",
     "iopub.status.idle": "2021-08-22T00:22:03.322822Z",
     "shell.execute_reply": "2021-08-22T00:22:03.323380Z"
    },
    "papermill": {
     "duration": 0.046596,
     "end_time": "2021-08-22T00:22:03.323559",
     "exception": false,
     "start_time": "2021-08-22T00:22:03.276963",
     "status": "completed"
    },
    "tags": []
   },
   "outputs": [],
   "source": [
    "# #hide\n",
    "# g = g[g.group.notna()]"
   ]
  },
  {
   "cell_type": "code",
   "execution_count": 40,
   "id": "determined-closing",
   "metadata": {
    "execution": {
     "iopub.execute_input": "2021-08-22T00:22:03.416700Z",
     "iopub.status.busy": "2021-08-22T00:22:03.415907Z",
     "iopub.status.idle": "2021-08-22T00:22:03.418378Z",
     "shell.execute_reply": "2021-08-22T00:22:03.418904Z"
    },
    "papermill": {
     "duration": 0.055475,
     "end_time": "2021-08-22T00:22:03.419076",
     "exception": false,
     "start_time": "2021-08-22T00:22:03.363601",
     "status": "completed"
    },
    "tags": []
   },
   "outputs": [],
   "source": [
    "# #hide\n",
    "# colors = dict(zip(\n",
    "#     [\"Oceania\", \"Europe\", \"Asia\", \"South America\", \"Middle East\", \"North America\", \"Africa\"],\n",
    "#     [\"#adb0ff\", \"#ffb3ff\", \"#90d595\", \"#e48381\", \"#aafbff\", \"#f7bb5f\", \"#eafb50\"]\n",
    "# ))\n",
    "# group_lk = g.set_index('name')['group'].to_dict()"
   ]
  },
  {
   "cell_type": "code",
   "execution_count": null,
   "id": "gross-drinking",
   "metadata": {
    "papermill": {
     "duration": 0.045785,
     "end_time": "2021-08-22T00:22:03.508716",
     "exception": false,
     "start_time": "2021-08-22T00:22:03.462931",
     "status": "completed"
    },
    "tags": []
   },
   "outputs": [],
   "source": []
  },
  {
   "cell_type": "code",
   "execution_count": 41,
   "id": "subject-macintosh",
   "metadata": {
    "execution": {
     "iopub.execute_input": "2021-08-22T00:22:03.596953Z",
     "iopub.status.busy": "2021-08-22T00:22:03.596243Z",
     "iopub.status.idle": "2021-08-22T00:22:03.598676Z",
     "shell.execute_reply": "2021-08-22T00:22:03.598007Z"
    },
    "papermill": {
     "duration": 0.048753,
     "end_time": "2021-08-22T00:22:03.598898",
     "exception": false,
     "start_time": "2021-08-22T00:22:03.550145",
     "status": "completed"
    },
    "tags": []
   },
   "outputs": [],
   "source": [
    "# #hide\n",
    "# fig, ax = plt.subplots(figsize=(15, 8))\n",
    "\n",
    "# def draw_barchart(current_day):\n",
    "#     dff = g[g['day'].eq(current_day)].sort_values(by='value', ascending=True).tail(10)\n",
    "#     ax.clear()\n",
    "#     ax.barh(dff['name'], dff['value'], color=[colors[group_lk[x]] for x in dff['name']])\n",
    "#     dx = dff['value'].max() / 200\n",
    "    \n",
    "#     for i, (value, name) in enumerate(zip(dff['value'], dff['name'])):\n",
    "#         ax.text(value-dx, i,     name,           size=14, weight=600, ha='right', va='bottom')\n",
    "#         ax.text(value-dx, i-.25, group_lk[name], size=10, color='#444444', ha='right', va='baseline')\n",
    "#         ax.text(value+dx, i,     f'{value:,.0f}',  size=14, ha='left',  va='center')\n",
    "#     ax.text(1, 0.4, current_day, transform=ax.transAxes, color='#777777', size=46, ha='right', weight=800)\n",
    "#     ax.text(0, 1.06, 'Population (thousands)', transform=ax.transAxes, size=12, color='#777777')\n",
    "#     ax.xaxis.set_major_formatter(ticker.StrMethodFormatter('{x:,.0f}'))\n",
    "#     ax.xaxis.set_ticks_position('top')\n",
    "#     ax.tick_params(axis='x', colors='#777777', labelsize=12)\n",
    "#     ax.set_yticks([])\n",
    "#     ax.margins(0, 0.01)\n",
    "#     ax.grid(which='major', axis='x', linestyle='-')\n",
    "#     ax.set_axisbelow(True)\n",
    "    \n",
    "#     ax.text(0, 1.15, 'Coronavirus',\n",
    "#             transform=ax.transAxes, size=24, weight=600, ha='left', va='top')\n",
    "# #     ax.text(1, 0, 'by @pratapvardhan; credit @jburnmurdoch', transform=ax.transAxes, color='#777777', ha='right',\n",
    "# #             bbox=dict(facecolor='white', alpha=0.8, edgecolor='white'))\n",
    "#     plt.box(False)"
   ]
  },
  {
   "cell_type": "code",
   "execution_count": 42,
   "id": "sexual-wages",
   "metadata": {
    "execution": {
     "iopub.execute_input": "2021-08-22T00:22:03.693782Z",
     "iopub.status.busy": "2021-08-22T00:22:03.693080Z",
     "iopub.status.idle": "2021-08-22T00:22:03.694729Z",
     "shell.execute_reply": "2021-08-22T00:22:03.695366Z"
    },
    "papermill": {
     "duration": 0.047604,
     "end_time": "2021-08-22T00:22:03.695557",
     "exception": false,
     "start_time": "2021-08-22T00:22:03.647953",
     "status": "completed"
    },
    "tags": []
   },
   "outputs": [],
   "source": [
    "# #hide_input\n",
    "# fig, ax = plt.subplots(figsize=(15, 8))\n",
    "# animator = animation.FuncAnimation(fig, draw_barchart, frames=range(g.day.values.min(), g.day.values.max()))\n",
    "# HTML(animator.to_jshtml())\n",
    "# # or use animator.to_html5_video() or animator.save() "
   ]
  },
  {
   "cell_type": "code",
   "execution_count": null,
   "id": "australian-container",
   "metadata": {
    "papermill": {
     "duration": 0.041144,
     "end_time": "2021-08-22T00:22:03.777188",
     "exception": false,
     "start_time": "2021-08-22T00:22:03.736044",
     "status": "completed"
    },
    "tags": []
   },
   "outputs": [],
   "source": []
  },
  {
   "cell_type": "code",
   "execution_count": null,
   "id": "mediterranean-pontiac",
   "metadata": {
    "papermill": {
     "duration": 0.04046,
     "end_time": "2021-08-22T00:22:03.858559",
     "exception": false,
     "start_time": "2021-08-22T00:22:03.818099",
     "status": "completed"
    },
    "tags": []
   },
   "outputs": [],
   "source": []
  },
  {
   "cell_type": "code",
   "execution_count": null,
   "id": "aging-legislature",
   "metadata": {
    "papermill": {
     "duration": 0.039682,
     "end_time": "2021-08-22T00:22:03.938674",
     "exception": false,
     "start_time": "2021-08-22T00:22:03.898992",
     "status": "completed"
    },
    "tags": []
   },
   "outputs": [],
   "source": []
  }
 ],
 "metadata": {
  "kernelspec": {
   "display_name": "Python 3",
   "language": "python",
   "name": "python3"
  },
  "language_info": {
   "codemirror_mode": {
    "name": "ipython",
    "version": 3
   },
   "file_extension": ".py",
   "mimetype": "text/x-python",
   "name": "python",
   "nbconvert_exporter": "python",
   "pygments_lexer": "ipython3",
   "version": "3.6.14"
  },
  "papermill": {
   "duration": 7.349384,
   "end_time": "2021-08-22T00:22:04.389061",
   "environment_variables": {},
   "exception": null,
   "input_path": "2020-03-21-covid19exp.ipynb",
   "output_path": "2020-03-21-covid19exp.ipynb",
   "parameters": {},
   "start_time": "2021-08-22T00:21:57.039677",
   "version": "2.0.0"
  }
 },
 "nbformat": 4,
 "nbformat_minor": 5
}