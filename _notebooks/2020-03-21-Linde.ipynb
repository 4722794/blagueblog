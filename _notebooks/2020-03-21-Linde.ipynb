{
 "cells": [
  {
   "cell_type": "markdown",
   "metadata": {
    "papermill": {
     "duration": 0.014129,
     "end_time": "2020-06-08T06:11:32.575247",
     "exception": false,
     "start_time": "2020-06-08T06:11:32.561118",
     "status": "completed"
    },
    "tags": []
   },
   "source": [
    "# COVID-19 India Overview\n",
    "> Tracking coronavirus total cases, deaths and new cases in India\n",
    "\n",
    "- author: Hargun Oberoi\n",
    "- image: images/covid-overview.png\n",
    "- permalink: /covid-overview-linde/\n",
    "- hide: true\n",
    "- badges: false"
   ]
  },
  {
   "cell_type": "code",
   "execution_count": 1,
   "metadata": {
    "execution": {
     "iopub.execute_input": "2020-06-08T06:11:32.602992Z",
     "iopub.status.busy": "2020-06-08T06:11:32.602258Z",
     "iopub.status.idle": "2020-06-08T06:11:32.987565Z",
     "shell.execute_reply": "2020-06-08T06:11:32.987043Z"
    },
    "papermill": {
     "duration": 0.401073,
     "end_time": "2020-06-08T06:11:32.987690",
     "exception": false,
     "start_time": "2020-06-08T06:11:32.586617",
     "status": "completed"
    },
    "tags": []
   },
   "outputs": [],
   "source": [
    "#hide\n",
    "import pandas as pd\n",
    "import numpy as np\n",
    "import requests\n",
    "import datetime as dt\n",
    "from jinja2 import Template\n",
    "from IPython.display import HTML\n",
    "import json\n",
    "import requests"
   ]
  },
  {
   "cell_type": "code",
   "execution_count": 2,
   "metadata": {
    "execution": {
     "iopub.execute_input": "2020-06-08T06:11:33.016858Z",
     "iopub.status.busy": "2020-06-08T06:11:33.016260Z",
     "iopub.status.idle": "2020-06-08T06:11:33.173415Z",
     "shell.execute_reply": "2020-06-08T06:11:33.172729Z"
    },
    "papermill": {
     "duration": 0.173794,
     "end_time": "2020-06-08T06:11:33.173566",
     "exception": false,
     "start_time": "2020-06-08T06:11:32.999772",
     "status": "completed"
    },
    "tags": []
   },
   "outputs": [],
   "source": [
    "#hide\n",
    "url = 'https://raw.githubusercontent.com/hargun3045/dashboards/master/abb_dict.json'\n",
    "r = requests.get(url)\n",
    "abb_dict = r.json()"
   ]
  },
  {
   "cell_type": "code",
   "execution_count": 3,
   "metadata": {
    "execution": {
     "iopub.execute_input": "2020-06-08T06:11:33.201687Z",
     "iopub.status.busy": "2020-06-08T06:11:33.200885Z",
     "iopub.status.idle": "2020-06-08T06:11:33.203213Z",
     "shell.execute_reply": "2020-06-08T06:11:33.202692Z"
    },
    "papermill": {
     "duration": 0.018629,
     "end_time": "2020-06-08T06:11:33.203314",
     "exception": false,
     "start_time": "2020-06-08T06:11:33.184685",
     "status": "completed"
    },
    "tags": []
   },
   "outputs": [],
   "source": [
    "#hide\n",
    "#write a function that checks if all last index values are zero, and also selects the appropriate date columns\n",
    "def get_dates(df):\n",
    "    dt_cols = df.columns[~df.columns.isin(['stateABB','states'])]\n",
    "    valid_i = -1\n",
    "    for i in range(-1,-len(dt_cols),-1):\n",
    "        if not df[dt_cols[i]].fillna(0).eq(0).all():\n",
    "            valid_i = i\n",
    "            break\n",
    "    return valid_i, dt_cols"
   ]
  },
  {
   "cell_type": "code",
   "execution_count": 4,
   "metadata": {
    "execution": {
     "iopub.execute_input": "2020-06-08T06:11:33.234872Z",
     "iopub.status.busy": "2020-06-08T06:11:33.234173Z",
     "iopub.status.idle": "2020-06-08T06:11:33.236607Z",
     "shell.execute_reply": "2020-06-08T06:11:33.236052Z"
    },
    "papermill": {
     "duration": 0.022261,
     "end_time": "2020-06-08T06:11:33.236711",
     "exception": false,
     "start_time": "2020-06-08T06:11:33.214450",
     "status": "completed"
    },
    "tags": []
   },
   "outputs": [],
   "source": [
    "#hide\n",
    "def get_frame(name):\n",
    "#    pdb.set_trace()\n",
    "    url = f'http://api.covid19india.org/states_daily_csv/{name}.csv'\n",
    "    df = pd.read_csv(url)\n",
    "    df.set_index('date',inplace = True)\n",
    "    df = df.T\n",
    "    df = df.iloc[:-1,:]\n",
    "    df.fillna(0,inplace=True)\n",
    "    df = df[df.columns].astype(int)\n",
    "    df = df.rename_axis('stateABB').reset_index()\n",
    "    df['states'] = df['stateABB'].map(abb_dict)\n",
    "    df = df[[df.columns[-1]] + list(df.columns[:-1])]\n",
    "    df =df.iloc[1:,:]\n",
    "    df = df[df.states.notna()]\n",
    "    df.sort_values(by = [df.columns[-1]], ascending = False, inplace = True)\n",
    "    df.drop(['stateABB'],axis = 1)\n",
    "    df = df.groupby('states').sum().cumsum(axis=1)\n",
    "    df.reset_index(inplace = True)\n",
    "    return df"
   ]
  },
  {
   "cell_type": "code",
   "execution_count": 5,
   "metadata": {
    "execution": {
     "iopub.execute_input": "2020-06-08T06:11:33.264772Z",
     "iopub.status.busy": "2020-06-08T06:11:33.264198Z",
     "iopub.status.idle": "2020-06-08T06:11:33.479095Z",
     "shell.execute_reply": "2020-06-08T06:11:33.477902Z"
    },
    "papermill": {
     "duration": 0.231367,
     "end_time": "2020-06-08T06:11:33.479229",
     "exception": false,
     "start_time": "2020-06-08T06:11:33.247862",
     "status": "completed"
    },
    "tags": []
   },
   "outputs": [],
   "source": [
    "#hide\n",
    "dft_cases = get_frame('confirmed')\n",
    "dft_deaths = get_frame('deceased')"
   ]
  },
  {
   "cell_type": "code",
   "execution_count": 6,
   "metadata": {
    "execution": {
     "iopub.execute_input": "2020-06-08T06:11:33.508019Z",
     "iopub.status.busy": "2020-06-08T06:11:33.507154Z",
     "iopub.status.idle": "2020-06-08T06:11:33.510900Z",
     "shell.execute_reply": "2020-06-08T06:11:33.510393Z"
    },
    "papermill": {
     "duration": 0.020547,
     "end_time": "2020-06-08T06:11:33.511045",
     "exception": false,
     "start_time": "2020-06-08T06:11:33.490498",
     "status": "completed"
    },
    "tags": []
   },
   "outputs": [],
   "source": [
    "#hide\n",
    "valid_i, dt_cols = get_dates(dft_cases)\n",
    "dt_today = dt_cols[valid_i]\n",
    "dt_yday = dt_cols[valid_i -1]"
   ]
  },
  {
   "cell_type": "code",
   "execution_count": 7,
   "metadata": {
    "execution": {
     "iopub.execute_input": "2020-06-08T06:11:33.546280Z",
     "iopub.status.busy": "2020-06-08T06:11:33.545679Z",
     "iopub.status.idle": "2020-06-08T06:11:33.547914Z",
     "shell.execute_reply": "2020-06-08T06:11:33.547426Z"
    },
    "papermill": {
     "duration": 0.02561,
     "end_time": "2020-06-08T06:11:33.548023",
     "exception": false,
     "start_time": "2020-06-08T06:11:33.522413",
     "status": "completed"
    },
    "tags": []
   },
   "outputs": [],
   "source": [
    "#hide\n",
    "dfc_cases = dft_cases.groupby('states')[dt_today].sum()\n",
    "dfc_deaths = dft_deaths.groupby('states')[dt_today].sum()\n",
    "dfp_cases = dft_cases.groupby('states')[dt_yday].sum()\n",
    "dfp_deaths = dft_deaths.groupby('states')[dt_yday].sum()"
   ]
  },
  {
   "cell_type": "code",
   "execution_count": 8,
   "metadata": {
    "execution": {
     "iopub.execute_input": "2020-06-08T06:11:33.581794Z",
     "iopub.status.busy": "2020-06-08T06:11:33.580998Z",
     "iopub.status.idle": "2020-06-08T06:11:33.592389Z",
     "shell.execute_reply": "2020-06-08T06:11:33.591893Z"
    },
    "papermill": {
     "duration": 0.033416,
     "end_time": "2020-06-08T06:11:33.592508",
     "exception": false,
     "start_time": "2020-06-08T06:11:33.559092",
     "status": "completed"
    },
    "tags": []
   },
   "outputs": [],
   "source": [
    "#hide\n",
    "# Build the cases table\n",
    "df_table = (pd.DataFrame(dict(Cases = dfc_cases, Deaths = dfc_deaths, PCases = dfp_cases, PDeaths = dfp_deaths))\n",
    "            .sort_values(by = ['Cases','Deaths'], ascending = [False, False])\n",
    "            .reset_index())\n",
    "for c in 'Cases, Deaths'.split(', '):\n",
    "    df_table[f'{c} (+)'] = (df_table[c] - df_table[f'P{c}']).clip(0)\n",
    "    #Clip ça veut dire, les chiffres negatif sont interdit\n",
    "df_table['Fatality Rate'] = (100* df_table['Deaths']/ df_table['Cases']).round(2)"
   ]
  },
  {
   "cell_type": "code",
   "execution_count": 9,
   "metadata": {
    "execution": {
     "iopub.execute_input": "2020-06-08T06:11:33.631126Z",
     "iopub.status.busy": "2020-06-08T06:11:33.630523Z",
     "iopub.status.idle": "2020-06-08T06:11:33.639546Z",
     "shell.execute_reply": "2020-06-08T06:11:33.640029Z"
    },
    "papermill": {
     "duration": 0.0357,
     "end_time": "2020-06-08T06:11:33.640163",
     "exception": false,
     "start_time": "2020-06-08T06:11:33.604463",
     "status": "completed"
    },
    "tags": []
   },
   "outputs": [],
   "source": [
    "#hide\n",
    "#Building the summary tab\n",
    "metrics = [df_table.columns[index] for index in [1,2,5,6]]\n",
    "s_mah = df_table[df_table.states == 'Maharashtra'][metrics].sum().add_prefix('MH ')\n",
    "s_del = df_table[df_table.states =='Delhi'][metrics].sum().add_prefix('DEL ')\n",
    "s_guj = df_table[df_table.states == 'Gujarat'][metrics].sum().add_prefix('GUJ ')\n",
    "summary = {'updated': pd.to_datetime(dt_today), 'since': pd.to_datetime(dt_yday)}\n",
    "summary = {**summary,**df_table[metrics].sum(), **s_mah, **s_del, **s_guj}"
   ]
  },
  {
   "cell_type": "code",
   "execution_count": 10,
   "metadata": {
    "execution": {
     "iopub.execute_input": "2020-06-08T06:11:33.671010Z",
     "iopub.status.busy": "2020-06-08T06:11:33.670404Z",
     "iopub.status.idle": "2020-06-08T06:11:33.674802Z",
     "shell.execute_reply": "2020-06-08T06:11:33.675299Z"
    },
    "papermill": {
     "duration": 0.024055,
     "end_time": "2020-06-08T06:11:33.675421",
     "exception": false,
     "start_time": "2020-06-08T06:11:33.651366",
     "status": "completed"
    },
    "tags": []
   },
   "outputs": [],
   "source": [
    "#hide\n",
    "#Data on new cases\n",
    "dft_ct_new_cases = dft_cases.groupby('states')[dt_cols].sum().diff(axis=1).fillna(0).astype(int)\n",
    "dft_ct_new_cases.sort_values(by = [dft_ct_new_cases.columns[-1]], ascending = False,inplace = True)"
   ]
  },
  {
   "cell_type": "code",
   "execution_count": 11,
   "metadata": {
    "execution": {
     "iopub.execute_input": "2020-06-08T06:11:33.704316Z",
     "iopub.status.busy": "2020-06-08T06:11:33.703598Z",
     "iopub.status.idle": "2020-06-08T06:11:33.706462Z",
     "shell.execute_reply": "2020-06-08T06:11:33.705952Z"
    },
    "papermill": {
     "duration": 0.019887,
     "end_time": "2020-06-08T06:11:33.706582",
     "exception": false,
     "start_time": "2020-06-08T06:11:33.686695",
     "status": "completed"
    },
    "tags": []
   },
   "outputs": [],
   "source": [
    "#hide\n",
    "# Get total number from world data only\n",
    "COL_REGION = 'states'\n",
    "KPI_CASE = 'India'\n",
    "kpis_info = [\n",
    "    {'title': 'Maharashtra', 'prefix': 'MH'},\n",
    "    {'title': 'Delhi', 'prefix': 'DEL'},\n",
    "    {'title': 'Gujarat', 'prefix': 'GUJ'}]"
   ]
  },
  {
   "cell_type": "code",
   "execution_count": 12,
   "metadata": {
    "execution": {
     "iopub.execute_input": "2020-06-08T06:11:33.735044Z",
     "iopub.status.busy": "2020-06-08T06:11:33.734410Z",
     "iopub.status.idle": "2020-06-08T06:11:33.736765Z",
     "shell.execute_reply": "2020-06-08T06:11:33.736267Z"
    },
    "papermill": {
     "duration": 0.019045,
     "end_time": "2020-06-08T06:11:33.736869",
     "exception": false,
     "start_time": "2020-06-08T06:11:33.717824",
     "status": "completed"
    },
    "tags": []
   },
   "outputs": [],
   "source": [
    "#hide\n",
    "def get_template(path):\n",
    "    from urllib.parse import urlparse\n",
    "    if bool(urlparse(path).netloc):\n",
    "        from urllib.request import urlopen\n",
    "        return urlopen(path).read().decode('utf8')\n",
    "    return open(path).read()"
   ]
  },
  {
   "cell_type": "code",
   "execution_count": 13,
   "metadata": {
    "execution": {
     "iopub.execute_input": "2020-06-08T06:11:33.766647Z",
     "iopub.status.busy": "2020-06-08T06:11:33.766035Z",
     "iopub.status.idle": "2020-06-08T06:11:33.891669Z",
     "shell.execute_reply": "2020-06-08T06:11:33.892140Z"
    },
    "papermill": {
     "duration": 0.14329,
     "end_time": "2020-06-08T06:11:33.892270",
     "exception": false,
     "start_time": "2020-06-08T06:11:33.748980",
     "status": "completed"
    },
    "tags": []
   },
   "outputs": [
    {
     "output_type": "execute_result",
     "data": {
      "text/plain": "<IPython.core.display.HTML object>",
      "text/html": "<div>\n\n\n\n\n\n\n\n\n\n\n\n\n\n\n\n\n\n\n\n\n\n\n\n\n\n\n\n<div class=\"overview\">\n  <div class=\"text-center toplinksgithub\">\n  <a href=\"../covid-overview/\">World</a><a href=\"../covid-overview-asia/\">Asia</a><a href=\"../covid-overview-linde/\">India</a>\n</div>\n  <div>\n    <div class=\"kpi-hed text-center\">India</div>\n    <div class=\"d-flex kpi-box\">\n      <div class=\"kpi\">\n    <div class=\"kname\">Confirmed Cases</div>\n    <div class=\"num\">246,325</div>\n    <div class=\"grow \">(<b>+10,259</b>)</div>\n  </div>\n      <div class=\"kpi\">\n    <div class=\"kname\">Deaths</div>\n    <div class=\"num\">7,188</div>\n    <div class=\"grow \">(<b>+259</b>)</div>\n  </div>\n    </div>\n  </div>\n  <p class=\"text-center text-uppercase fs9\">Updated on <b>June 07, 2020</b> ( +change since yesterday)</p>\n  <div class=\"d-flex\" style=\"justify-content:space-between;\">\n    \n    <div class=\"kpi-sm\">\n    <div class=\"kpi-hed\">Maharashtra</div>\n    <div class=\"d-flex kpi-box\">\n      <div class=\"kpi\">\n    <div class=\"kname\">Cases</div>\n    <div class=\"num\">85,975</div>\n    <div class=\"grow \">(<b>+3,007</b>)</div>\n  </div>\n      <div class=\"kpi\">\n    <div class=\"kname\">Deaths</div>\n    <div class=\"num\">3,059</div>\n    <div class=\"grow \">(<b>+91</b>)</div>\n  </div>\n    </div>\n  </div>\n    \n    <div class=\"kpi-sm\">\n    <div class=\"kpi-hed\">Delhi</div>\n    <div class=\"d-flex kpi-box\">\n      <div class=\"kpi\">\n    <div class=\"kname\">Cases</div>\n    <div class=\"num\">28,936</div>\n    <div class=\"grow \">(<b>+1,282</b>)</div>\n  </div>\n      <div class=\"kpi\">\n    <div class=\"kname\">Deaths</div>\n    <div class=\"num\">812</div>\n    <div class=\"grow \">(<b>+51</b>)</div>\n  </div>\n    </div>\n  </div>\n    \n    <div class=\"kpi-sm\">\n    <div class=\"kpi-hed\">Gujarat</div>\n    <div class=\"d-flex kpi-box\">\n      <div class=\"kpi\">\n    <div class=\"kname\">Cases</div>\n    <div class=\"num\">20,097</div>\n    <div class=\"grow \">(<b>+480</b>)</div>\n  </div>\n      <div class=\"kpi\">\n    <div class=\"kname\">Deaths</div>\n    <div class=\"num\">1,249</div>\n    <div class=\"grow \">(<b>+30</b>)</div>\n  </div>\n    </div>\n  </div>\n    \n  </div>\n  <p class=\"text-center\" style=\"font-size: 14px;max-width: 400px;\">\n  In the last <b>24 hours</b>, <b class=\"color-neg\">10,259</b> new Coronavirus cases have been reported in India.\n  Of which <b class=\"color-neg\">3,007</b> (29%) are from <b>Maharashtra</b> State.\n  \n</p>\n  <table class=\"table\" style=\"width:575px;\">\n    <thead>\n      <tr>\n        <th class=\"text-right\" style=\"width:100px;\"></th>\n        <th class=\"text-left\" style=\"width:120px;\"><svg width=\"100\" height=\"20\" viewBox=\"0,0,100,20\" style=\"overflow: visible; display: block;\">\n  <g>\n    \n    <rect x=\"0\"  y=\"8\" width=\"25\" height=\"10\" fill=\"rgba(254, 26, 5, 0.1)\"></rect>\n    \n    <rect x=\"25\"  y=\"8\" width=\"25\" height=\"10\" fill=\"rgba(254, 26, 5, 0.4)\"></rect>\n    \n    <rect x=\"50\"  y=\"8\" width=\"25\" height=\"10\" fill=\"rgba(254, 26, 5, 0.7)\"></rect>\n    \n    <rect x=\"75\"  y=\"8\" width=\"25\" height=\"10\" fill=\"rgba(254, 26, 5, 1)\"></rect>\n    \n  </g>\n  <g style=\"font-size:10px;text-anchor:middle;\">\n    \n    <g transform=\"translate(25, 6)\"><text>10</text></g>\n    \n    <g transform=\"translate(50, 6)\"><text>100</text></g>\n    \n    <g transform=\"translate(75, 6)\"><text>1000</text></g>\n    \n    </g>\n</svg></th>\n        <th colspan=\"7\"></th>\n      </tr>\n      <tr>\n        <th class=\"text-right\" style=\"width:100px;\">Location</th>\n        <th class=\"text-left\" style=\"width:120px;\">New Cases</th>\n        <th class=\"text-left\" colspan=\"2\">Total Cases</th>\n        <th colspan=\"2\">Deaths</th>\n        <th class=\"fs9\" >Fatality</th>\n      </tr>\n    </thead>\n    <tbody>\n      <tr style=\"font-size:9px;\">\n        <td></td>\n        <td style=\"display:flex;justify-content:space-between;\">\n          <div>May. 24</div>\n          <div>Jun. 07</div>\n        </td>\n        <td></td>\n        <td colspan=\"4\" class=\"text-left change\" style=\"font-size: 9px;\">(+NEW) since Jun, 06</td>\n        <td></td>\n        <td></td>\n      </tr>\n    \n      <tr>\n        <td class=\"mw\"><b>Maharashtra</b></td>\n        <td style=\"vertical-align: middle;\"><div class=\"d-flex\" style=\"height:15px;\">\n    \n    \n    <div style=\"width:7px;background:rgba(254, 26, 5, 1);border-right:1px solid rgba(255,255,255,0.5);\"></div>\n    \n    <div style=\"width:7px;background:rgba(254, 26, 5, 1);border-right:1px solid rgba(255,255,255,0.5);\"></div>\n    \n    <div style=\"width:7px;background:rgba(254, 26, 5, 1);border-right:1px solid rgba(255,255,255,0.5);\"></div>\n    \n    <div style=\"width:7px;background:rgba(254, 26, 5, 1);border-right:1px solid rgba(255,255,255,0.5);\"></div>\n    \n    <div style=\"width:7px;background:rgba(254, 26, 5, 1);border-right:1px solid rgba(255,255,255,0.5);\"></div>\n    \n    <div style=\"width:7px;background:rgba(254, 26, 5, 1);border-right:1px solid rgba(255,255,255,0.5);\"></div>\n    \n    <div style=\"width:7px;background:rgba(254, 26, 5, 1);border-right:1px solid rgba(255,255,255,0.5);\"></div>\n    \n    <div style=\"width:7px;background:rgba(254, 26, 5, 1);border-right:1px solid rgba(255,255,255,0.5);\"></div>\n    \n    <div style=\"width:7px;background:rgba(254, 26, 5, 1);border-right:1px solid rgba(255,255,255,0.5);\"></div>\n    \n    <div style=\"width:7px;background:rgba(254, 26, 5, 1);border-right:1px solid rgba(255,255,255,0.5);\"></div>\n    \n    <div style=\"width:7px;background:rgba(254, 26, 5, 1);border-right:1px solid rgba(255,255,255,0.5);\"></div>\n    \n    <div style=\"width:7px;background:rgba(254, 26, 5, 1);border-right:1px solid rgba(255,255,255,0.5);\"></div>\n    \n    <div style=\"width:7px;background:rgba(254, 26, 5, 1);border-right:1px solid rgba(255,255,255,0.5);\"></div>\n    \n    <div style=\"width:7px;background:rgba(254, 26, 5, 1);border-right:1px solid rgba(255,255,255,0.5);\"></div>\n    \n    <div style=\"width:7px;background:rgba(254, 26, 5, 1);border-right:1px solid rgba(255,255,255,0.5);\"></div>\n    \n  </div></td>\n        <td class=\"pl1\"><b>85,975</b></td>\n        <td class=\"change neg\">(<b>+3,007</b>)</td>\n        <td class=\"pl1\">3,059</td>\n        <td class=\"change neg\">(<b>+91</b>)</td>\n        <td class=\"pl1\">3.56%</td>\n      </tr>\n    \n      <tr>\n        <td class=\"mw\"><b>Tamil Nadu</b></td>\n        <td style=\"vertical-align: middle;\"><div class=\"d-flex\" style=\"height:15px;\">\n    \n    \n    <div style=\"width:7px;background:rgba(254, 26, 5, 0.7);border-right:1px solid rgba(255,255,255,0.5);\"></div>\n    \n    <div style=\"width:7px;background:rgba(254, 26, 5, 0.7);border-right:1px solid rgba(255,255,255,0.5);\"></div>\n    \n    <div style=\"width:7px;background:rgba(254, 26, 5, 0.7);border-right:1px solid rgba(255,255,255,0.5);\"></div>\n    \n    <div style=\"width:7px;background:rgba(254, 26, 5, 0.7);border-right:1px solid rgba(255,255,255,0.5);\"></div>\n    \n    <div style=\"width:7px;background:rgba(254, 26, 5, 0.7);border-right:1px solid rgba(255,255,255,0.5);\"></div>\n    \n    <div style=\"width:7px;background:rgba(254, 26, 5, 0.7);border-right:1px solid rgba(255,255,255,0.5);\"></div>\n    \n    <div style=\"width:7px;background:rgba(254, 26, 5, 0.7);border-right:1px solid rgba(255,255,255,0.5);\"></div>\n    \n    <div style=\"width:7px;background:rgba(254, 26, 5, 1);border-right:1px solid rgba(255,255,255,0.5);\"></div>\n    \n    <div style=\"width:7px;background:rgba(254, 26, 5, 1);border-right:1px solid rgba(255,255,255,0.5);\"></div>\n    \n    <div style=\"width:7px;background:rgba(254, 26, 5, 1);border-right:1px solid rgba(255,255,255,0.5);\"></div>\n    \n    <div style=\"width:7px;background:rgba(254, 26, 5, 1);border-right:1px solid rgba(255,255,255,0.5);\"></div>\n    \n    <div style=\"width:7px;background:rgba(254, 26, 5, 1);border-right:1px solid rgba(255,255,255,0.5);\"></div>\n    \n    <div style=\"width:7px;background:rgba(254, 26, 5, 1);border-right:1px solid rgba(255,255,255,0.5);\"></div>\n    \n    <div style=\"width:7px;background:rgba(254, 26, 5, 1);border-right:1px solid rgba(255,255,255,0.5);\"></div>\n    \n    <div style=\"width:7px;background:rgba(254, 26, 5, 1);border-right:1px solid rgba(255,255,255,0.5);\"></div>\n    \n  </div></td>\n        <td class=\"pl1\"><b>31,667</b></td>\n        <td class=\"change neg\">(<b>+1,515</b>)</td>\n        <td class=\"pl1\">272</td>\n        <td class=\"change neg\">(<b>+18</b>)</td>\n        <td class=\"pl1\">0.86%</td>\n      </tr>\n    \n      <tr>\n        <td class=\"mw\"><b>Delhi</b></td>\n        <td style=\"vertical-align: middle;\"><div class=\"d-flex\" style=\"height:15px;\">\n    \n    \n    <div style=\"width:7px;background:rgba(254, 26, 5, 0.7);border-right:1px solid rgba(255,255,255,0.5);\"></div>\n    \n    <div style=\"width:7px;background:rgba(254, 26, 5, 0.7);border-right:1px solid rgba(255,255,255,0.5);\"></div>\n    \n    <div style=\"width:7px;background:rgba(254, 26, 5, 0.7);border-right:1px solid rgba(255,255,255,0.5);\"></div>\n    \n    <div style=\"width:7px;background:rgba(254, 26, 5, 0.7);border-right:1px solid rgba(255,255,255,0.5);\"></div>\n    \n    <div style=\"width:7px;background:rgba(254, 26, 5, 1);border-right:1px solid rgba(255,255,255,0.5);\"></div>\n    \n    <div style=\"width:7px;background:rgba(254, 26, 5, 1);border-right:1px solid rgba(255,255,255,0.5);\"></div>\n    \n    <div style=\"width:7px;background:rgba(254, 26, 5, 1);border-right:1px solid rgba(255,255,255,0.5);\"></div>\n    \n    <div style=\"width:7px;background:rgba(254, 26, 5, 1);border-right:1px solid rgba(255,255,255,0.5);\"></div>\n    \n    <div style=\"width:7px;background:rgba(254, 26, 5, 0.7);border-right:1px solid rgba(255,255,255,0.5);\"></div>\n    \n    <div style=\"width:7px;background:rgba(254, 26, 5, 1);border-right:1px solid rgba(255,255,255,0.5);\"></div>\n    \n    <div style=\"width:7px;background:rgba(254, 26, 5, 1);border-right:1px solid rgba(255,255,255,0.5);\"></div>\n    \n    <div style=\"width:7px;background:rgba(254, 26, 5, 1);border-right:1px solid rgba(255,255,255,0.5);\"></div>\n    \n    <div style=\"width:7px;background:rgba(254, 26, 5, 1);border-right:1px solid rgba(255,255,255,0.5);\"></div>\n    \n    <div style=\"width:7px;background:rgba(254, 26, 5, 1);border-right:1px solid rgba(255,255,255,0.5);\"></div>\n    \n    <div style=\"width:7px;background:rgba(254, 26, 5, 1);border-right:1px solid rgba(255,255,255,0.5);\"></div>\n    \n  </div></td>\n        <td class=\"pl1\"><b>28,936</b></td>\n        <td class=\"change neg\">(<b>+1,282</b>)</td>\n        <td class=\"pl1\">812</td>\n        <td class=\"change neg\">(<b>+51</b>)</td>\n        <td class=\"pl1\">2.81%</td>\n      </tr>\n    \n      <tr>\n        <td class=\"mw\"><b>Gujarat</b></td>\n        <td style=\"vertical-align: middle;\"><div class=\"d-flex\" style=\"height:15px;\">\n    \n    \n    <div style=\"width:7px;background:rgba(254, 26, 5, 0.7);border-right:1px solid rgba(255,255,255,0.5);\"></div>\n    \n    <div style=\"width:7px;background:rgba(254, 26, 5, 0.7);border-right:1px solid rgba(255,255,255,0.5);\"></div>\n    \n    <div style=\"width:7px;background:rgba(254, 26, 5, 0.7);border-right:1px solid rgba(255,255,255,0.5);\"></div>\n    \n    <div style=\"width:7px;background:rgba(254, 26, 5, 0.7);border-right:1px solid rgba(255,255,255,0.5);\"></div>\n    \n    <div style=\"width:7px;background:rgba(254, 26, 5, 0.7);border-right:1px solid rgba(255,255,255,0.5);\"></div>\n    \n    <div style=\"width:7px;background:rgba(254, 26, 5, 0.7);border-right:1px solid rgba(255,255,255,0.5);\"></div>\n    \n    <div style=\"width:7px;background:rgba(254, 26, 5, 0.7);border-right:1px solid rgba(255,255,255,0.5);\"></div>\n    \n    <div style=\"width:7px;background:rgba(254, 26, 5, 0.7);border-right:1px solid rgba(255,255,255,0.5);\"></div>\n    \n    <div style=\"width:7px;background:rgba(254, 26, 5, 0.7);border-right:1px solid rgba(255,255,255,0.5);\"></div>\n    \n    <div style=\"width:7px;background:rgba(254, 26, 5, 0.7);border-right:1px solid rgba(255,255,255,0.5);\"></div>\n    \n    <div style=\"width:7px;background:rgba(254, 26, 5, 0.7);border-right:1px solid rgba(255,255,255,0.5);\"></div>\n    \n    <div style=\"width:7px;background:rgba(254, 26, 5, 0.7);border-right:1px solid rgba(255,255,255,0.5);\"></div>\n    \n    <div style=\"width:7px;background:rgba(254, 26, 5, 0.7);border-right:1px solid rgba(255,255,255,0.5);\"></div>\n    \n    <div style=\"width:7px;background:rgba(254, 26, 5, 0.7);border-right:1px solid rgba(255,255,255,0.5);\"></div>\n    \n    <div style=\"width:7px;background:rgba(254, 26, 5, 0.7);border-right:1px solid rgba(255,255,255,0.5);\"></div>\n    \n  </div></td>\n        <td class=\"pl1\"><b>20,097</b></td>\n        <td class=\"change neg\">(<b>+480</b>)</td>\n        <td class=\"pl1\">1,249</td>\n        <td class=\"change neg\">(<b>+30</b>)</td>\n        <td class=\"pl1\">6.21%</td>\n      </tr>\n    \n      <tr>\n        <td class=\"mw\"><b>Rajasthan</b></td>\n        <td style=\"vertical-align: middle;\"><div class=\"d-flex\" style=\"height:15px;\">\n    \n    \n    <div style=\"width:7px;background:rgba(254, 26, 5, 0.7);border-right:1px solid rgba(255,255,255,0.5);\"></div>\n    \n    <div style=\"width:7px;background:rgba(254, 26, 5, 0.7);border-right:1px solid rgba(255,255,255,0.5);\"></div>\n    \n    <div style=\"width:7px;background:rgba(254, 26, 5, 0.7);border-right:1px solid rgba(255,255,255,0.5);\"></div>\n    \n    <div style=\"width:7px;background:rgba(254, 26, 5, 0.7);border-right:1px solid rgba(255,255,255,0.5);\"></div>\n    \n    <div style=\"width:7px;background:rgba(254, 26, 5, 0.7);border-right:1px solid rgba(255,255,255,0.5);\"></div>\n    \n    <div style=\"width:7px;background:rgba(254, 26, 5, 0.7);border-right:1px solid rgba(255,255,255,0.5);\"></div>\n    \n    <div style=\"width:7px;background:rgba(254, 26, 5, 0.7);border-right:1px solid rgba(255,255,255,0.5);\"></div>\n    \n    <div style=\"width:7px;background:rgba(254, 26, 5, 0.7);border-right:1px solid rgba(255,255,255,0.5);\"></div>\n    \n    <div style=\"width:7px;background:rgba(254, 26, 5, 0.7);border-right:1px solid rgba(255,255,255,0.5);\"></div>\n    \n    <div style=\"width:7px;background:rgba(254, 26, 5, 0.7);border-right:1px solid rgba(255,255,255,0.5);\"></div>\n    \n    <div style=\"width:7px;background:rgba(254, 26, 5, 0.7);border-right:1px solid rgba(255,255,255,0.5);\"></div>\n    \n    <div style=\"width:7px;background:rgba(254, 26, 5, 0.7);border-right:1px solid rgba(255,255,255,0.5);\"></div>\n    \n    <div style=\"width:7px;background:rgba(254, 26, 5, 0.7);border-right:1px solid rgba(255,255,255,0.5);\"></div>\n    \n    <div style=\"width:7px;background:rgba(254, 26, 5, 0.7);border-right:1px solid rgba(255,255,255,0.5);\"></div>\n    \n    <div style=\"width:7px;background:rgba(254, 26, 5, 0.7);border-right:1px solid rgba(255,255,255,0.5);\"></div>\n    \n  </div></td>\n        <td class=\"pl1\"><b>10,599</b></td>\n        <td class=\"change neg\">(<b>+262</b>)</td>\n        <td class=\"pl1\">240</td>\n        <td class=\"change neg\">(<b>+9</b>)</td>\n        <td class=\"pl1\">2.26%</td>\n      </tr>\n    \n      <tr>\n        <td class=\"mw\"><b>Uttar Pradesh</b></td>\n        <td style=\"vertical-align: middle;\"><div class=\"d-flex\" style=\"height:15px;\">\n    \n    \n    <div style=\"width:7px;background:rgba(254, 26, 5, 0.7);border-right:1px solid rgba(255,255,255,0.5);\"></div>\n    \n    <div style=\"width:7px;background:rgba(254, 26, 5, 0.7);border-right:1px solid rgba(255,255,255,0.5);\"></div>\n    \n    <div style=\"width:7px;background:rgba(254, 26, 5, 0.7);border-right:1px solid rgba(255,255,255,0.5);\"></div>\n    \n    <div style=\"width:7px;background:rgba(254, 26, 5, 0.7);border-right:1px solid rgba(255,255,255,0.5);\"></div>\n    \n    <div style=\"width:7px;background:rgba(254, 26, 5, 0.7);border-right:1px solid rgba(255,255,255,0.5);\"></div>\n    \n    <div style=\"width:7px;background:rgba(254, 26, 5, 0.7);border-right:1px solid rgba(255,255,255,0.5);\"></div>\n    \n    <div style=\"width:7px;background:rgba(254, 26, 5, 0.7);border-right:1px solid rgba(255,255,255,0.5);\"></div>\n    \n    <div style=\"width:7px;background:rgba(254, 26, 5, 0.7);border-right:1px solid rgba(255,255,255,0.5);\"></div>\n    \n    <div style=\"width:7px;background:rgba(254, 26, 5, 0.7);border-right:1px solid rgba(255,255,255,0.5);\"></div>\n    \n    <div style=\"width:7px;background:rgba(254, 26, 5, 0.7);border-right:1px solid rgba(255,255,255,0.5);\"></div>\n    \n    <div style=\"width:7px;background:rgba(254, 26, 5, 0.7);border-right:1px solid rgba(255,255,255,0.5);\"></div>\n    \n    <div style=\"width:7px;background:rgba(254, 26, 5, 0.7);border-right:1px solid rgba(255,255,255,0.5);\"></div>\n    \n    <div style=\"width:7px;background:rgba(254, 26, 5, 0.7);border-right:1px solid rgba(255,255,255,0.5);\"></div>\n    \n    <div style=\"width:7px;background:rgba(254, 26, 5, 0.7);border-right:1px solid rgba(255,255,255,0.5);\"></div>\n    \n    <div style=\"width:7px;background:rgba(254, 26, 5, 0.7);border-right:1px solid rgba(255,255,255,0.5);\"></div>\n    \n  </div></td>\n        <td class=\"pl1\"><b>10,536</b></td>\n        <td class=\"change neg\">(<b>+433</b>)</td>\n        <td class=\"pl1\">275</td>\n        <td class=\"change neg\">(<b>+7</b>)</td>\n        <td class=\"pl1\">2.61%</td>\n      </tr>\n    \n      <tr>\n        <td class=\"mw\"><b>Madhya Pradesh</b></td>\n        <td style=\"vertical-align: middle;\"><div class=\"d-flex\" style=\"height:15px;\">\n    \n    \n    <div style=\"width:7px;background:rgba(254, 26, 5, 0.7);border-right:1px solid rgba(255,255,255,0.5);\"></div>\n    \n    <div style=\"width:7px;background:rgba(254, 26, 5, 0.7);border-right:1px solid rgba(255,255,255,0.5);\"></div>\n    \n    <div style=\"width:7px;background:rgba(254, 26, 5, 0.7);border-right:1px solid rgba(255,255,255,0.5);\"></div>\n    \n    <div style=\"width:7px;background:rgba(254, 26, 5, 0.7);border-right:1px solid rgba(255,255,255,0.5);\"></div>\n    \n    <div style=\"width:7px;background:rgba(254, 26, 5, 0.7);border-right:1px solid rgba(255,255,255,0.5);\"></div>\n    \n    <div style=\"width:7px;background:rgba(254, 26, 5, 0.7);border-right:1px solid rgba(255,255,255,0.5);\"></div>\n    \n    <div style=\"width:7px;background:rgba(254, 26, 5, 0.7);border-right:1px solid rgba(255,255,255,0.5);\"></div>\n    \n    <div style=\"width:7px;background:rgba(254, 26, 5, 0.7);border-right:1px solid rgba(255,255,255,0.5);\"></div>\n    \n    <div style=\"width:7px;background:rgba(254, 26, 5, 0.7);border-right:1px solid rgba(255,255,255,0.5);\"></div>\n    \n    <div style=\"width:7px;background:rgba(254, 26, 5, 0.7);border-right:1px solid rgba(255,255,255,0.5);\"></div>\n    \n    <div style=\"width:7px;background:rgba(254, 26, 5, 0.7);border-right:1px solid rgba(255,255,255,0.5);\"></div>\n    \n    <div style=\"width:7px;background:rgba(254, 26, 5, 0.7);border-right:1px solid rgba(255,255,255,0.5);\"></div>\n    \n    <div style=\"width:7px;background:rgba(254, 26, 5, 0.7);border-right:1px solid rgba(255,255,255,0.5);\"></div>\n    \n    <div style=\"width:7px;background:rgba(254, 26, 5, 0.7);border-right:1px solid rgba(255,255,255,0.5);\"></div>\n    \n    <div style=\"width:7px;background:rgba(254, 26, 5, 0.7);border-right:1px solid rgba(255,255,255,0.5);\"></div>\n    \n  </div></td>\n        <td class=\"pl1\"><b>9,401</b></td>\n        <td class=\"change neg\">(<b>+173</b>)</td>\n        <td class=\"pl1\">413</td>\n        <td class=\"change neg\">(<b>+13</b>)</td>\n        <td class=\"pl1\">4.39%</td>\n      </tr>\n    \n      <tr>\n        <td class=\"mw\"><b>West Bengal</b></td>\n        <td style=\"vertical-align: middle;\"><div class=\"d-flex\" style=\"height:15px;\">\n    \n    \n    <div style=\"width:7px;background:rgba(254, 26, 5, 0.7);border-right:1px solid rgba(255,255,255,0.5);\"></div>\n    \n    <div style=\"width:7px;background:rgba(254, 26, 5, 0.7);border-right:1px solid rgba(255,255,255,0.5);\"></div>\n    \n    <div style=\"width:7px;background:rgba(254, 26, 5, 0.7);border-right:1px solid rgba(255,255,255,0.5);\"></div>\n    \n    <div style=\"width:7px;background:rgba(254, 26, 5, 0.7);border-right:1px solid rgba(255,255,255,0.5);\"></div>\n    \n    <div style=\"width:7px;background:rgba(254, 26, 5, 0.7);border-right:1px solid rgba(255,255,255,0.5);\"></div>\n    \n    <div style=\"width:7px;background:rgba(254, 26, 5, 0.7);border-right:1px solid rgba(255,255,255,0.5);\"></div>\n    \n    <div style=\"width:7px;background:rgba(254, 26, 5, 0.7);border-right:1px solid rgba(255,255,255,0.5);\"></div>\n    \n    <div style=\"width:7px;background:rgba(254, 26, 5, 0.7);border-right:1px solid rgba(255,255,255,0.5);\"></div>\n    \n    <div style=\"width:7px;background:rgba(254, 26, 5, 0.7);border-right:1px solid rgba(255,255,255,0.5);\"></div>\n    \n    <div style=\"width:7px;background:rgba(254, 26, 5, 0.7);border-right:1px solid rgba(255,255,255,0.5);\"></div>\n    \n    <div style=\"width:7px;background:rgba(254, 26, 5, 0.7);border-right:1px solid rgba(255,255,255,0.5);\"></div>\n    \n    <div style=\"width:7px;background:rgba(254, 26, 5, 0.7);border-right:1px solid rgba(255,255,255,0.5);\"></div>\n    \n    <div style=\"width:7px;background:rgba(254, 26, 5, 0.7);border-right:1px solid rgba(255,255,255,0.5);\"></div>\n    \n    <div style=\"width:7px;background:rgba(254, 26, 5, 0.7);border-right:1px solid rgba(255,255,255,0.5);\"></div>\n    \n    <div style=\"width:7px;background:rgba(254, 26, 5, 0.7);border-right:1px solid rgba(255,255,255,0.5);\"></div>\n    \n  </div></td>\n        <td class=\"pl1\"><b>8,187</b></td>\n        <td class=\"change neg\">(<b>+449</b>)</td>\n        <td class=\"pl1\">396</td>\n        <td class=\"change neg\">(<b>+13</b>)</td>\n        <td class=\"pl1\">4.84%</td>\n      </tr>\n    \n      <tr>\n        <td class=\"mw\"><b>Karnataka</b></td>\n        <td style=\"vertical-align: middle;\"><div class=\"d-flex\" style=\"height:15px;\">\n    \n    \n    <div style=\"width:7px;background:rgba(254, 26, 5, 0.7);border-right:1px solid rgba(255,255,255,0.5);\"></div>\n    \n    <div style=\"width:7px;background:rgba(254, 26, 5, 0.4);border-right:1px solid rgba(255,255,255,0.5);\"></div>\n    \n    <div style=\"width:7px;background:rgba(254, 26, 5, 0.7);border-right:1px solid rgba(255,255,255,0.5);\"></div>\n    \n    <div style=\"width:7px;background:rgba(254, 26, 5, 0.7);border-right:1px solid rgba(255,255,255,0.5);\"></div>\n    \n    <div style=\"width:7px;background:rgba(254, 26, 5, 0.7);border-right:1px solid rgba(255,255,255,0.5);\"></div>\n    \n    <div style=\"width:7px;background:rgba(254, 26, 5, 0.7);border-right:1px solid rgba(255,255,255,0.5);\"></div>\n    \n    <div style=\"width:7px;background:rgba(254, 26, 5, 0.7);border-right:1px solid rgba(255,255,255,0.5);\"></div>\n    \n    <div style=\"width:7px;background:rgba(254, 26, 5, 0.7);border-right:1px solid rgba(255,255,255,0.5);\"></div>\n    \n    <div style=\"width:7px;background:rgba(254, 26, 5, 0.7);border-right:1px solid rgba(255,255,255,0.5);\"></div>\n    \n    <div style=\"width:7px;background:rgba(254, 26, 5, 0.7);border-right:1px solid rgba(255,255,255,0.5);\"></div>\n    \n    <div style=\"width:7px;background:rgba(254, 26, 5, 0.7);border-right:1px solid rgba(255,255,255,0.5);\"></div>\n    \n    <div style=\"width:7px;background:rgba(254, 26, 5, 0.7);border-right:1px solid rgba(255,255,255,0.5);\"></div>\n    \n    <div style=\"width:7px;background:rgba(254, 26, 5, 0.7);border-right:1px solid rgba(255,255,255,0.5);\"></div>\n    \n    <div style=\"width:7px;background:rgba(254, 26, 5, 0.7);border-right:1px solid rgba(255,255,255,0.5);\"></div>\n    \n    <div style=\"width:7px;background:rgba(254, 26, 5, 0.7);border-right:1px solid rgba(255,255,255,0.5);\"></div>\n    \n  </div></td>\n        <td class=\"pl1\"><b>5,452</b></td>\n        <td class=\"change neg\">(<b>+239</b>)</td>\n        <td class=\"pl1\">61</td>\n        <td class=\"change neg\">(<b>+2</b>)</td>\n        <td class=\"pl1\">1.12%</td>\n      </tr>\n    \n      <tr>\n        <td class=\"mw\"><b>Bihar</b></td>\n        <td style=\"vertical-align: middle;\"><div class=\"d-flex\" style=\"height:15px;\">\n    \n    \n    <div style=\"width:7px;background:rgba(254, 26, 5, 0.7);border-right:1px solid rgba(255,255,255,0.5);\"></div>\n    \n    <div style=\"width:7px;background:rgba(254, 26, 5, 0.7);border-right:1px solid rgba(255,255,255,0.5);\"></div>\n    \n    <div style=\"width:7px;background:rgba(254, 26, 5, 0.7);border-right:1px solid rgba(255,255,255,0.5);\"></div>\n    \n    <div style=\"width:7px;background:rgba(254, 26, 5, 0.4);border-right:1px solid rgba(255,255,255,0.5);\"></div>\n    \n    <div style=\"width:7px;background:rgba(254, 26, 5, 0.7);border-right:1px solid rgba(255,255,255,0.5);\"></div>\n    \n    <div style=\"width:7px;background:rgba(254, 26, 5, 0.7);border-right:1px solid rgba(255,255,255,0.5);\"></div>\n    \n    <div style=\"width:7px;background:rgba(254, 26, 5, 0.7);border-right:1px solid rgba(255,255,255,0.5);\"></div>\n    \n    <div style=\"width:7px;background:rgba(254, 26, 5, 0.7);border-right:1px solid rgba(255,255,255,0.5);\"></div>\n    \n    <div style=\"width:7px;background:rgba(254, 26, 5, 0.7);border-right:1px solid rgba(255,255,255,0.5);\"></div>\n    \n    <div style=\"width:7px;background:rgba(254, 26, 5, 0.7);border-right:1px solid rgba(255,255,255,0.5);\"></div>\n    \n    <div style=\"width:7px;background:rgba(254, 26, 5, 0.7);border-right:1px solid rgba(255,255,255,0.5);\"></div>\n    \n    <div style=\"width:7px;background:rgba(254, 26, 5, 0.7);border-right:1px solid rgba(255,255,255,0.5);\"></div>\n    \n    <div style=\"width:7px;background:rgba(254, 26, 5, 0.7);border-right:1px solid rgba(255,255,255,0.5);\"></div>\n    \n    <div style=\"width:7px;background:rgba(254, 26, 5, 0.7);border-right:1px solid rgba(255,255,255,0.5);\"></div>\n    \n    <div style=\"width:7px;background:rgba(254, 26, 5, 0.7);border-right:1px solid rgba(255,255,255,0.5);\"></div>\n    \n  </div></td>\n        <td class=\"pl1\"><b>5,070</b></td>\n        <td class=\"change neg\">(<b>+239</b>)</td>\n        <td class=\"pl1\">30</td>\n        <td class=\"change neg\">(<b>+1</b>)</td>\n        <td class=\"pl1\">0.59%</td>\n      </tr>\n    \n      <tr>\n        <td class=\"mw\"><b>Andhra Pradesh</b></td>\n        <td style=\"vertical-align: middle;\"><div class=\"d-flex\" style=\"height:15px;\">\n    \n    \n    <div style=\"width:7px;background:rgba(254, 26, 5, 0.4);border-right:1px solid rgba(255,255,255,0.5);\"></div>\n    \n    <div style=\"width:7px;background:rgba(254, 26, 5, 0.7);border-right:1px solid rgba(255,255,255,0.5);\"></div>\n    \n    <div style=\"width:7px;background:rgba(254, 26, 5, 0.4);border-right:1px solid rgba(255,255,255,0.5);\"></div>\n    \n    <div style=\"width:7px;background:rgba(254, 26, 5, 0.7);border-right:1px solid rgba(255,255,255,0.5);\"></div>\n    \n    <div style=\"width:7px;background:rgba(254, 26, 5, 0.7);border-right:1px solid rgba(255,255,255,0.5);\"></div>\n    \n    <div style=\"width:7px;background:rgba(254, 26, 5, 0.4);border-right:1px solid rgba(255,255,255,0.5);\"></div>\n    \n    <div style=\"width:7px;background:rgba(254, 26, 5, 0.7);border-right:1px solid rgba(255,255,255,0.5);\"></div>\n    \n    <div style=\"width:7px;background:rgba(254, 26, 5, 0.7);border-right:1px solid rgba(255,255,255,0.5);\"></div>\n    \n    <div style=\"width:7px;background:rgba(254, 26, 5, 0.7);border-right:1px solid rgba(255,255,255,0.5);\"></div>\n    \n    <div style=\"width:7px;background:rgba(254, 26, 5, 0.7);border-right:1px solid rgba(255,255,255,0.5);\"></div>\n    \n    <div style=\"width:7px;background:rgba(254, 26, 5, 0.7);border-right:1px solid rgba(255,255,255,0.5);\"></div>\n    \n    <div style=\"width:7px;background:rgba(254, 26, 5, 0.7);border-right:1px solid rgba(255,255,255,0.5);\"></div>\n    \n    <div style=\"width:7px;background:rgba(254, 26, 5, 0.7);border-right:1px solid rgba(255,255,255,0.5);\"></div>\n    \n    <div style=\"width:7px;background:rgba(254, 26, 5, 0.7);border-right:1px solid rgba(255,255,255,0.5);\"></div>\n    \n    <div style=\"width:7px;background:rgba(254, 26, 5, 0.7);border-right:1px solid rgba(255,255,255,0.5);\"></div>\n    \n  </div></td>\n        <td class=\"pl1\"><b>4,659</b></td>\n        <td class=\"change neg\">(<b>+199</b>)</td>\n        <td class=\"pl1\">75</td>\n        <td class=\"change neg\">(<b>+2</b>)</td>\n        <td class=\"pl1\">1.61%</td>\n      </tr>\n    \n      <tr>\n        <td class=\"mw\"><b>Haryana</b></td>\n        <td style=\"vertical-align: middle;\"><div class=\"d-flex\" style=\"height:15px;\">\n    \n    \n    <div style=\"width:7px;background:rgba(254, 26, 5, 0.4);border-right:1px solid rgba(255,255,255,0.5);\"></div>\n    \n    <div style=\"width:7px;background:rgba(254, 26, 5, 0.4);border-right:1px solid rgba(255,255,255,0.5);\"></div>\n    \n    <div style=\"width:7px;background:rgba(254, 26, 5, 0.4);border-right:1px solid rgba(255,255,255,0.5);\"></div>\n    \n    <div style=\"width:7px;background:rgba(254, 26, 5, 0.4);border-right:1px solid rgba(255,255,255,0.5);\"></div>\n    \n    <div style=\"width:7px;background:rgba(254, 26, 5, 0.7);border-right:1px solid rgba(255,255,255,0.5);\"></div>\n    \n    <div style=\"width:7px;background:rgba(254, 26, 5, 0.7);border-right:1px solid rgba(255,255,255,0.5);\"></div>\n    \n    <div style=\"width:7px;background:rgba(254, 26, 5, 0.7);border-right:1px solid rgba(255,255,255,0.5);\"></div>\n    \n    <div style=\"width:7px;background:rgba(254, 26, 5, 0.7);border-right:1px solid rgba(255,255,255,0.5);\"></div>\n    \n    <div style=\"width:7px;background:rgba(254, 26, 5, 0.7);border-right:1px solid rgba(255,255,255,0.5);\"></div>\n    \n    <div style=\"width:7px;background:rgba(254, 26, 5, 0.7);border-right:1px solid rgba(255,255,255,0.5);\"></div>\n    \n    <div style=\"width:7px;background:rgba(254, 26, 5, 0.7);border-right:1px solid rgba(255,255,255,0.5);\"></div>\n    \n    <div style=\"width:7px;background:rgba(254, 26, 5, 0.7);border-right:1px solid rgba(255,255,255,0.5);\"></div>\n    \n    <div style=\"width:7px;background:rgba(254, 26, 5, 0.7);border-right:1px solid rgba(255,255,255,0.5);\"></div>\n    \n    <div style=\"width:7px;background:rgba(254, 26, 5, 0.7);border-right:1px solid rgba(255,255,255,0.5);\"></div>\n    \n    <div style=\"width:7px;background:rgba(254, 26, 5, 0.7);border-right:1px solid rgba(255,255,255,0.5);\"></div>\n    \n  </div></td>\n        <td class=\"pl1\"><b>4,448</b></td>\n        <td class=\"change neg\">(<b>+496</b>)</td>\n        <td class=\"pl1\">28</td>\n        <td class=\"change neg\">(<b>+4</b>)</td>\n        <td class=\"pl1\">0.63%</td>\n      </tr>\n    \n      <tr>\n        <td class=\"mw\"><b>Jammu and Kashmir</b></td>\n        <td style=\"vertical-align: middle;\"><div class=\"d-flex\" style=\"height:15px;\">\n    \n    \n    <div style=\"width:7px;background:rgba(254, 26, 5, 0.4);border-right:1px solid rgba(255,255,255,0.5);\"></div>\n    \n    <div style=\"width:7px;background:rgba(254, 26, 5, 0.4);border-right:1px solid rgba(255,255,255,0.5);\"></div>\n    \n    <div style=\"width:7px;background:rgba(254, 26, 5, 0.4);border-right:1px solid rgba(255,255,255,0.5);\"></div>\n    \n    <div style=\"width:7px;background:rgba(254, 26, 5, 0.7);border-right:1px solid rgba(255,255,255,0.5);\"></div>\n    \n    <div style=\"width:7px;background:rgba(254, 26, 5, 0.7);border-right:1px solid rgba(255,255,255,0.5);\"></div>\n    \n    <div style=\"width:7px;background:rgba(254, 26, 5, 0.7);border-right:1px solid rgba(255,255,255,0.5);\"></div>\n    \n    <div style=\"width:7px;background:rgba(254, 26, 5, 0.7);border-right:1px solid rgba(255,255,255,0.5);\"></div>\n    \n    <div style=\"width:7px;background:rgba(254, 26, 5, 0.7);border-right:1px solid rgba(255,255,255,0.5);\"></div>\n    \n    <div style=\"width:7px;background:rgba(254, 26, 5, 0.7);border-right:1px solid rgba(255,255,255,0.5);\"></div>\n    \n    <div style=\"width:7px;background:rgba(254, 26, 5, 0.7);border-right:1px solid rgba(255,255,255,0.5);\"></div>\n    \n    <div style=\"width:7px;background:rgba(254, 26, 5, 0.7);border-right:1px solid rgba(255,255,255,0.5);\"></div>\n    \n    <div style=\"width:7px;background:rgba(254, 26, 5, 0.7);border-right:1px solid rgba(255,255,255,0.5);\"></div>\n    \n    <div style=\"width:7px;background:rgba(254, 26, 5, 0.7);border-right:1px solid rgba(255,255,255,0.5);\"></div>\n    \n    <div style=\"width:7px;background:rgba(254, 26, 5, 0.7);border-right:1px solid rgba(255,255,255,0.5);\"></div>\n    \n    <div style=\"width:7px;background:rgba(254, 26, 5, 0.7);border-right:1px solid rgba(255,255,255,0.5);\"></div>\n    \n  </div></td>\n        <td class=\"pl1\"><b>4,087</b></td>\n        <td class=\"change neg\">(<b>+620</b>)</td>\n        <td class=\"pl1\">41</td>\n        <td class=\"change neg\">(<b>+2</b>)</td>\n        <td class=\"pl1\">1.0%</td>\n      </tr>\n    \n      <tr>\n        <td class=\"mw\"><b>Telangana</b></td>\n        <td style=\"vertical-align: middle;\"><div class=\"d-flex\" style=\"height:15px;\">\n    \n    \n    <div style=\"width:7px;background:rgba(254, 26, 5, 0.4);border-right:1px solid rgba(255,255,255,0.5);\"></div>\n    \n    <div style=\"width:7px;background:rgba(254, 26, 5, 0.4);border-right:1px solid rgba(255,255,255,0.5);\"></div>\n    \n    <div style=\"width:7px;background:rgba(254, 26, 5, 0.7);border-right:1px solid rgba(255,255,255,0.5);\"></div>\n    \n    <div style=\"width:7px;background:rgba(254, 26, 5, 0.7);border-right:1px solid rgba(255,255,255,0.5);\"></div>\n    \n    <div style=\"width:7px;background:rgba(254, 26, 5, 0.7);border-right:1px solid rgba(255,255,255,0.5);\"></div>\n    \n    <div style=\"width:7px;background:rgba(254, 26, 5, 0.7);border-right:1px solid rgba(255,255,255,0.5);\"></div>\n    \n    <div style=\"width:7px;background:rgba(254, 26, 5, 0.4);border-right:1px solid rgba(255,255,255,0.5);\"></div>\n    \n    <div style=\"width:7px;background:rgba(254, 26, 5, 0.7);border-right:1px solid rgba(255,255,255,0.5);\"></div>\n    \n    <div style=\"width:7px;background:rgba(254, 26, 5, 0.4);border-right:1px solid rgba(255,255,255,0.5);\"></div>\n    \n    <div style=\"width:7px;background:rgba(254, 26, 5, 0.4);border-right:1px solid rgba(255,255,255,0.5);\"></div>\n    \n    <div style=\"width:7px;background:rgba(254, 26, 5, 0.7);border-right:1px solid rgba(255,255,255,0.5);\"></div>\n    \n    <div style=\"width:7px;background:rgba(254, 26, 5, 0.7);border-right:1px solid rgba(255,255,255,0.5);\"></div>\n    \n    <div style=\"width:7px;background:rgba(254, 26, 5, 0.7);border-right:1px solid rgba(255,255,255,0.5);\"></div>\n    \n    <div style=\"width:7px;background:rgba(254, 26, 5, 0.7);border-right:1px solid rgba(255,255,255,0.5);\"></div>\n    \n    <div style=\"width:7px;background:rgba(254, 26, 5, 0.7);border-right:1px solid rgba(255,255,255,0.5);\"></div>\n    \n  </div></td>\n        <td class=\"pl1\"><b>3,650</b></td>\n        <td class=\"change neg\">(<b>+154</b>)</td>\n        <td class=\"pl1\">137</td>\n        <td class=\"change neg\">(<b>+14</b>)</td>\n        <td class=\"pl1\">3.75%</td>\n      </tr>\n    \n      <tr>\n        <td class=\"mw\"><b>Orissa</b></td>\n        <td style=\"vertical-align: middle;\"><div class=\"d-flex\" style=\"height:15px;\">\n    \n    \n    <div style=\"width:7px;background:rgba(254, 26, 5, 0.4);border-right:1px solid rgba(255,255,255,0.5);\"></div>\n    \n    <div style=\"width:7px;background:rgba(254, 26, 5, 0.7);border-right:1px solid rgba(255,255,255,0.5);\"></div>\n    \n    <div style=\"width:7px;background:rgba(254, 26, 5, 0.4);border-right:1px solid rgba(255,255,255,0.5);\"></div>\n    \n    <div style=\"width:7px;background:rgba(254, 26, 5, 0.4);border-right:1px solid rgba(255,255,255,0.5);\"></div>\n    \n    <div style=\"width:7px;background:rgba(254, 26, 5, 0.4);border-right:1px solid rgba(255,255,255,0.5);\"></div>\n    \n    <div style=\"width:7px;background:rgba(254, 26, 5, 0.4);border-right:1px solid rgba(255,255,255,0.5);\"></div>\n    \n    <div style=\"width:7px;background:rgba(254, 26, 5, 0.4);border-right:1px solid rgba(255,255,255,0.5);\"></div>\n    \n    <div style=\"width:7px;background:rgba(254, 26, 5, 0.7);border-right:1px solid rgba(255,255,255,0.5);\"></div>\n    \n    <div style=\"width:7px;background:rgba(254, 26, 5, 0.7);border-right:1px solid rgba(255,255,255,0.5);\"></div>\n    \n    <div style=\"width:7px;background:rgba(254, 26, 5, 0.7);border-right:1px solid rgba(255,255,255,0.5);\"></div>\n    \n    <div style=\"width:7px;background:rgba(254, 26, 5, 0.7);border-right:1px solid rgba(255,255,255,0.5);\"></div>\n    \n    <div style=\"width:7px;background:rgba(254, 26, 5, 0.4);border-right:1px solid rgba(255,255,255,0.5);\"></div>\n    \n    <div style=\"width:7px;background:rgba(254, 26, 5, 0.7);border-right:1px solid rgba(255,255,255,0.5);\"></div>\n    \n    <div style=\"width:7px;background:rgba(254, 26, 5, 0.7);border-right:1px solid rgba(255,255,255,0.5);\"></div>\n    \n    <div style=\"width:7px;background:rgba(254, 26, 5, 0.4);border-right:1px solid rgba(255,255,255,0.5);\"></div>\n    \n  </div></td>\n        <td class=\"pl1\"><b>2,856</b></td>\n        <td class=\"change neg\">(<b>+75</b>)</td>\n        <td class=\"pl1\">11</td>\n        <td class=\"change neg\">(<b>+1</b>)</td>\n        <td class=\"pl1\">0.39%</td>\n      </tr>\n    \n      <tr>\n        <td class=\"mw\"><b>Assam</b></td>\n        <td style=\"vertical-align: middle;\"><div class=\"d-flex\" style=\"height:15px;\">\n    \n    \n    <div style=\"width:7px;background:rgba(254, 26, 5, 0.4);border-right:1px solid rgba(255,255,255,0.5);\"></div>\n    \n    <div style=\"width:7px;background:rgba(254, 26, 5, 0.7);border-right:1px solid rgba(255,255,255,0.5);\"></div>\n    \n    <div style=\"width:7px;background:rgba(254, 26, 5, 0.7);border-right:1px solid rgba(255,255,255,0.5);\"></div>\n    \n    <div style=\"width:7px;background:rgba(254, 26, 5, 0.7);border-right:1px solid rgba(255,255,255,0.5);\"></div>\n    \n    <div style=\"width:7px;background:rgba(254, 26, 5, 0.4);border-right:1px solid rgba(255,255,255,0.5);\"></div>\n    \n    <div style=\"width:7px;background:rgba(254, 26, 5, 0.7);border-right:1px solid rgba(255,255,255,0.5);\"></div>\n    \n    <div style=\"width:7px;background:rgba(254, 26, 5, 0.7);border-right:1px solid rgba(255,255,255,0.5);\"></div>\n    \n    <div style=\"width:7px;background:rgba(254, 26, 5, 0.7);border-right:1px solid rgba(255,255,255,0.5);\"></div>\n    \n    <div style=\"width:7px;background:rgba(254, 26, 5, 0.7);border-right:1px solid rgba(255,255,255,0.5);\"></div>\n    \n    <div style=\"width:7px;background:rgba(254, 26, 5, 0.4);border-right:1px solid rgba(255,255,255,0.5);\"></div>\n    \n    <div style=\"width:7px;background:rgba(254, 26, 5, 0.7);border-right:1px solid rgba(255,255,255,0.5);\"></div>\n    \n    <div style=\"width:7px;background:rgba(254, 26, 5, 0.7);border-right:1px solid rgba(255,255,255,0.5);\"></div>\n    \n    <div style=\"width:7px;background:rgba(254, 26, 5, 0.7);border-right:1px solid rgba(255,255,255,0.5);\"></div>\n    \n    <div style=\"width:7px;background:rgba(254, 26, 5, 0.7);border-right:1px solid rgba(255,255,255,0.5);\"></div>\n    \n    <div style=\"width:7px;background:rgba(254, 26, 5, 0.7);border-right:1px solid rgba(255,255,255,0.5);\"></div>\n    \n  </div></td>\n        <td class=\"pl1\"><b>2,682</b></td>\n        <td class=\"change neg\">(<b>+208</b>)</td>\n        <td class=\"pl1\">3</td>\n        <td class=\"change neg\">(<b>+0</b>)</td>\n        <td class=\"pl1\">0.11%</td>\n      </tr>\n    \n      <tr>\n        <td class=\"mw\"><b>Punjab</b></td>\n        <td style=\"vertical-align: middle;\"><div class=\"d-flex\" style=\"height:15px;\">\n    \n    \n    <div style=\"width:7px;background:rgba(254, 26, 5, 0.4);border-right:1px solid rgba(255,255,255,0.5);\"></div>\n    \n    <div style=\"width:7px;background:rgba(254, 26, 5, 0.4);border-right:1px solid rgba(255,255,255,0.5);\"></div>\n    \n    <div style=\"width:7px;background:rgba(254, 26, 5, 0.4);border-right:1px solid rgba(255,255,255,0.5);\"></div>\n    \n    <div style=\"width:7px;background:rgba(254, 26, 5, 0.4);border-right:1px solid rgba(255,255,255,0.5);\"></div>\n    \n    <div style=\"width:7px;background:rgba(254, 26, 5, 0.4);border-right:1px solid rgba(255,255,255,0.5);\"></div>\n    \n    <div style=\"width:7px;background:rgba(254, 26, 5, 0.4);border-right:1px solid rgba(255,255,255,0.5);\"></div>\n    \n    <div style=\"width:7px;background:rgba(254, 26, 5, 0.4);border-right:1px solid rgba(255,255,255,0.5);\"></div>\n    \n    <div style=\"width:7px;background:rgba(254, 26, 5, 0.4);border-right:1px solid rgba(255,255,255,0.5);\"></div>\n    \n    <div style=\"width:7px;background:rgba(254, 26, 5, 0.4);border-right:1px solid rgba(255,255,255,0.5);\"></div>\n    \n    <div style=\"width:7px;background:rgba(254, 26, 5, 0.4);border-right:1px solid rgba(255,255,255,0.5);\"></div>\n    \n    <div style=\"width:7px;background:rgba(254, 26, 5, 0.4);border-right:1px solid rgba(255,255,255,0.5);\"></div>\n    \n    <div style=\"width:7px;background:rgba(254, 26, 5, 0.4);border-right:1px solid rgba(255,255,255,0.5);\"></div>\n    \n    <div style=\"width:7px;background:rgba(254, 26, 5, 0.4);border-right:1px solid rgba(255,255,255,0.5);\"></div>\n    \n    <div style=\"width:7px;background:rgba(254, 26, 5, 0.4);border-right:1px solid rgba(255,255,255,0.5);\"></div>\n    \n    <div style=\"width:7px;background:rgba(254, 26, 5, 0.4);border-right:1px solid rgba(255,255,255,0.5);\"></div>\n    \n  </div></td>\n        <td class=\"pl1\"><b>2,608</b></td>\n        <td class=\"change neg\">(<b>+93</b>)</td>\n        <td class=\"pl1\">51</td>\n        <td class=\"change neg\">(<b>+1</b>)</td>\n        <td class=\"pl1\">1.96%</td>\n      </tr>\n    \n      <tr>\n        <td class=\"mw\"><b>Kerala</b></td>\n        <td style=\"vertical-align: middle;\"><div class=\"d-flex\" style=\"height:15px;\">\n    \n    \n    <div style=\"width:7px;background:rgba(254, 26, 5, 0.4);border-right:1px solid rgba(255,255,255,0.5);\"></div>\n    \n    <div style=\"width:7px;background:rgba(254, 26, 5, 0.4);border-right:1px solid rgba(255,255,255,0.5);\"></div>\n    \n    <div style=\"width:7px;background:rgba(254, 26, 5, 0.4);border-right:1px solid rgba(255,255,255,0.5);\"></div>\n    \n    <div style=\"width:7px;background:rgba(254, 26, 5, 0.4);border-right:1px solid rgba(255,255,255,0.5);\"></div>\n    \n    <div style=\"width:7px;background:rgba(254, 26, 5, 0.4);border-right:1px solid rgba(255,255,255,0.5);\"></div>\n    \n    <div style=\"width:7px;background:rgba(254, 26, 5, 0.4);border-right:1px solid rgba(255,255,255,0.5);\"></div>\n    \n    <div style=\"width:7px;background:rgba(254, 26, 5, 0.4);border-right:1px solid rgba(255,255,255,0.5);\"></div>\n    \n    <div style=\"width:7px;background:rgba(254, 26, 5, 0.4);border-right:1px solid rgba(255,255,255,0.5);\"></div>\n    \n    <div style=\"width:7px;background:rgba(254, 26, 5, 0.4);border-right:1px solid rgba(255,255,255,0.5);\"></div>\n    \n    <div style=\"width:7px;background:rgba(254, 26, 5, 0.4);border-right:1px solid rgba(255,255,255,0.5);\"></div>\n    \n    <div style=\"width:7px;background:rgba(254, 26, 5, 0.4);border-right:1px solid rgba(255,255,255,0.5);\"></div>\n    \n    <div style=\"width:7px;background:rgba(254, 26, 5, 0.4);border-right:1px solid rgba(255,255,255,0.5);\"></div>\n    \n    <div style=\"width:7px;background:rgba(254, 26, 5, 0.7);border-right:1px solid rgba(255,255,255,0.5);\"></div>\n    \n    <div style=\"width:7px;background:rgba(254, 26, 5, 0.7);border-right:1px solid rgba(255,255,255,0.5);\"></div>\n    \n    <div style=\"width:7px;background:rgba(254, 26, 5, 0.7);border-right:1px solid rgba(255,255,255,0.5);\"></div>\n    \n  </div></td>\n        <td class=\"pl1\"><b>1,915</b></td>\n        <td class=\"change neg\">(<b>+107</b>)</td>\n        <td class=\"pl1\">16</td>\n        <td class=\"change neg\">(<b>+0</b>)</td>\n        <td class=\"pl1\">0.84%</td>\n      </tr>\n    \n      <tr>\n        <td class=\"mw\"><b>Jharkhand</b></td>\n        <td style=\"vertical-align: middle;\"><div class=\"d-flex\" style=\"height:15px;\">\n    \n    \n    <div style=\"width:7px;background:rgba(254, 26, 5, 0.4);border-right:1px solid rgba(255,255,255,0.5);\"></div>\n    \n    <div style=\"width:7px;background:rgba(254, 26, 5, 0.4);border-right:1px solid rgba(255,255,255,0.5);\"></div>\n    \n    <div style=\"width:7px;background:rgba(254, 26, 5, 0.4);border-right:1px solid rgba(255,255,255,0.5);\"></div>\n    \n    <div style=\"width:7px;background:rgba(254, 26, 5, 0.1);border-right:1px solid rgba(255,255,255,0.5);\"></div>\n    \n    <div style=\"width:7px;background:rgba(254, 26, 5, 0.1);border-right:1px solid rgba(255,255,255,0.5);\"></div>\n    \n    <div style=\"width:7px;background:rgba(254, 26, 5, 0.4);border-right:1px solid rgba(255,255,255,0.5);\"></div>\n    \n    <div style=\"width:7px;background:rgba(254, 26, 5, 0.4);border-right:1px solid rgba(255,255,255,0.5);\"></div>\n    \n    <div style=\"width:7px;background:rgba(254, 26, 5, 0.4);border-right:1px solid rgba(255,255,255,0.5);\"></div>\n    \n    <div style=\"width:7px;background:rgba(254, 26, 5, 0.4);border-right:1px solid rgba(255,255,255,0.5);\"></div>\n    \n    <div style=\"width:7px;background:rgba(254, 26, 5, 0.4);border-right:1px solid rgba(255,255,255,0.5);\"></div>\n    \n    <div style=\"width:7px;background:rgba(254, 26, 5, 0.4);border-right:1px solid rgba(255,255,255,0.5);\"></div>\n    \n    <div style=\"width:7px;background:rgba(254, 26, 5, 0.4);border-right:1px solid rgba(255,255,255,0.5);\"></div>\n    \n    <div style=\"width:7px;background:rgba(254, 26, 5, 0.4);border-right:1px solid rgba(255,255,255,0.5);\"></div>\n    \n    <div style=\"width:7px;background:rgba(254, 26, 5, 0.7);border-right:1px solid rgba(255,255,255,0.5);\"></div>\n    \n    <div style=\"width:7px;background:rgba(254, 26, 5, 0.4);border-right:1px solid rgba(255,255,255,0.5);\"></div>\n    \n  </div></td>\n        <td class=\"pl1\"><b>1,103</b></td>\n        <td class=\"change neg\">(<b>+75</b>)</td>\n        <td class=\"pl1\">7</td>\n        <td class=\"change neg\">(<b>+0</b>)</td>\n        <td class=\"pl1\">0.63%</td>\n      </tr>\n    \n      <tr>\n        <td class=\"mw\"><b>Tripura</b></td>\n        <td style=\"vertical-align: middle;\"><div class=\"d-flex\" style=\"height:15px;\">\n    \n    \n    <div style=\"width:7px;background:rgba(254, 26, 5, 0.1);border-right:1px solid rgba(255,255,255,0.5);\"></div>\n    \n    <div style=\"width:7px;background:rgba(254, 26, 5, 0.1);border-right:1px solid rgba(255,255,255,0.5);\"></div>\n    \n    <div style=\"width:7px;background:rgba(254, 26, 5, 0.4);border-right:1px solid rgba(255,255,255,0.5);\"></div>\n    \n    <div style=\"width:7px;background:rgba(254, 26, 5, 0.4);border-right:1px solid rgba(255,255,255,0.5);\"></div>\n    \n    <div style=\"width:7px;background:rgba(254, 26, 5, 0.1);border-right:1px solid rgba(255,255,255,0.5);\"></div>\n    \n    <div style=\"width:7px;background:rgba(254, 26, 5, 0.4);border-right:1px solid rgba(255,255,255,0.5);\"></div>\n    \n    <div style=\"width:7px;background:rgba(254, 26, 5, 0.4);border-right:1px solid rgba(255,255,255,0.5);\"></div>\n    \n    <div style=\"width:7px;background:rgba(254, 26, 5, 0.4);border-right:1px solid rgba(255,255,255,0.5);\"></div>\n    \n    <div style=\"width:7px;background:rgba(254, 26, 5, 0.7);border-right:1px solid rgba(255,255,255,0.5);\"></div>\n    \n    <div style=\"width:7px;background:rgba(254, 26, 5, 0.4);border-right:1px solid rgba(255,255,255,0.5);\"></div>\n    \n    <div style=\"width:7px;background:rgba(254, 26, 5, 0.7);border-right:1px solid rgba(255,255,255,0.5);\"></div>\n    \n    <div style=\"width:7px;background:rgba(254, 26, 5, 0.4);border-right:1px solid rgba(255,255,255,0.5);\"></div>\n    \n    <div style=\"width:7px;background:rgba(254, 26, 5, 0.4);border-right:1px solid rgba(255,255,255,0.5);\"></div>\n    \n    <div style=\"width:7px;background:rgba(254, 26, 5, 0.4);border-right:1px solid rgba(255,255,255,0.5);\"></div>\n    \n    <div style=\"width:7px;background:rgba(254, 26, 5, 0.4);border-right:1px solid rgba(255,255,255,0.5);\"></div>\n    \n  </div></td>\n        <td class=\"pl1\"><b>802</b></td>\n        <td class=\"change neg\">(<b>+53</b>)</td>\n        <td class=\"pl1\">0</td>\n        <td class=\"change neg\">(<b>+0</b>)</td>\n        <td class=\"pl1\">0.0%</td>\n      </tr>\n    \n      <tr>\n        <td class=\"mw\"><b>Himachal Pradesh</b></td>\n        <td style=\"vertical-align: middle;\"><div class=\"d-flex\" style=\"height:15px;\">\n    \n    \n    <div style=\"width:7px;background:rgba(254, 26, 5, 0.4);border-right:1px solid rgba(255,255,255,0.5);\"></div>\n    \n    <div style=\"width:7px;background:rgba(254, 26, 5, 0.4);border-right:1px solid rgba(255,255,255,0.5);\"></div>\n    \n    <div style=\"width:7px;background:rgba(254, 26, 5, 0.4);border-right:1px solid rgba(255,255,255,0.5);\"></div>\n    \n    <div style=\"width:7px;background:rgba(254, 26, 5, 0.4);border-right:1px solid rgba(255,255,255,0.5);\"></div>\n    \n    <div style=\"width:7px;background:rgba(254, 26, 5, 0.1);border-right:1px solid rgba(255,255,255,0.5);\"></div>\n    \n    <div style=\"width:7px;background:rgba(254, 26, 5, 0.4);border-right:1px solid rgba(255,255,255,0.5);\"></div>\n    \n    <div style=\"width:7px;background:rgba(254, 26, 5, 0.4);border-right:1px solid rgba(255,255,255,0.5);\"></div>\n    \n    <div style=\"width:7px;background:rgba(254, 26, 5, 0.4);border-right:1px solid rgba(255,255,255,0.5);\"></div>\n    \n    <div style=\"width:7px;background:rgba(254, 26, 5, 0.1);border-right:1px solid rgba(255,255,255,0.5);\"></div>\n    \n    <div style=\"width:7px;background:rgba(254, 26, 5, 0.1);border-right:1px solid rgba(255,255,255,0.5);\"></div>\n    \n    <div style=\"width:7px;background:rgba(254, 26, 5, 0.4);border-right:1px solid rgba(255,255,255,0.5);\"></div>\n    \n    <div style=\"width:7px;background:rgba(254, 26, 5, 0.4);border-right:1px solid rgba(255,255,255,0.5);\"></div>\n    \n    <div style=\"width:7px;background:rgba(254, 26, 5, 0.4);border-right:1px solid rgba(255,255,255,0.5);\"></div>\n    \n    <div style=\"width:7px;background:rgba(254, 26, 5, 0.1);border-right:1px solid rgba(255,255,255,0.5);\"></div>\n    \n    <div style=\"width:7px;background:rgba(254, 26, 5, 0.4);border-right:1px solid rgba(255,255,255,0.5);\"></div>\n    \n  </div></td>\n        <td class=\"pl1\"><b>411</b></td>\n        <td class=\"change neg\">(<b>+11</b>)</td>\n        <td class=\"pl1\">6</td>\n        <td class=\"change neg\">(<b>+0</b>)</td>\n        <td class=\"pl1\">1.46%</td>\n      </tr>\n    \n      <tr>\n        <td class=\"mw\"><b>Chandigarh</b></td>\n        <td style=\"vertical-align: middle;\"><div class=\"d-flex\" style=\"height:15px;\">\n    \n    \n    <div style=\"width:7px;background:rgba(254, 26, 5, 0.4);border-right:1px solid rgba(255,255,255,0.5);\"></div>\n    \n    <div style=\"width:7px;background:rgba(254, 26, 5, 0.1);border-right:1px solid rgba(255,255,255,0.5);\"></div>\n    \n    <div style=\"width:7px;background:rgba(254, 26, 5, 0.4);border-right:1px solid rgba(255,255,255,0.5);\"></div>\n    \n    <div style=\"width:7px;background:rgba(254, 26, 5, 0.1);border-right:1px solid rgba(255,255,255,0.5);\"></div>\n    \n    <div style=\"width:7px;background:rgba(254, 26, 5, 0.4);border-right:1px solid rgba(255,255,255,0.5);\"></div>\n    \n    <div style=\"width:7px;background:#eee;border-right:1px solid rgba(255,255,255,0.5);\"></div>\n    \n    <div style=\"width:7px;background:#eee;border-right:1px solid rgba(255,255,255,0.5);\"></div>\n    \n    <div style=\"width:7px;background:rgba(254, 26, 5, 0.1);border-right:1px solid rgba(255,255,255,0.5);\"></div>\n    \n    <div style=\"width:7px;background:rgba(254, 26, 5, 0.1);border-right:1px solid rgba(255,255,255,0.5);\"></div>\n    \n    <div style=\"width:7px;background:rgba(254, 26, 5, 0.1);border-right:1px solid rgba(255,255,255,0.5);\"></div>\n    \n    <div style=\"width:7px;background:#eee;border-right:1px solid rgba(255,255,255,0.5);\"></div>\n    \n    <div style=\"width:7px;background:rgba(254, 26, 5, 0.1);border-right:1px solid rgba(255,255,255,0.5);\"></div>\n    \n    <div style=\"width:7px;background:rgba(254, 26, 5, 0.1);border-right:1px solid rgba(255,255,255,0.5);\"></div>\n    \n    <div style=\"width:7px;background:rgba(254, 26, 5, 0.1);border-right:1px solid rgba(255,255,255,0.5);\"></div>\n    \n    <div style=\"width:7px;background:rgba(254, 26, 5, 0.1);border-right:1px solid rgba(255,255,255,0.5);\"></div>\n    \n  </div></td>\n        <td class=\"pl1\"><b>314</b></td>\n        <td class=\"change neg\">(<b>+2</b>)</td>\n        <td class=\"pl1\">5</td>\n        <td class=\"change neg\">(<b>+0</b>)</td>\n        <td class=\"pl1\">1.59%</td>\n      </tr>\n    \n      <tr>\n        <td class=\"mw\"><b>Goa</b></td>\n        <td style=\"vertical-align: middle;\"><div class=\"d-flex\" style=\"height:15px;\">\n    \n    \n    <div style=\"width:7px;background:rgba(254, 26, 5, 0.4);border-right:1px solid rgba(255,255,255,0.5);\"></div>\n    \n    <div style=\"width:7px;background:rgba(254, 26, 5, 0.1);border-right:1px solid rgba(255,255,255,0.5);\"></div>\n    \n    <div style=\"width:7px;background:#eee;border-right:1px solid rgba(255,255,255,0.5);\"></div>\n    \n    <div style=\"width:7px;background:rgba(254, 26, 5, 0.1);border-right:1px solid rgba(255,255,255,0.5);\"></div>\n    \n    <div style=\"width:7px;background:rgba(254, 26, 5, 0.1);border-right:1px solid rgba(255,255,255,0.5);\"></div>\n    \n    <div style=\"width:7px;background:#eee;border-right:1px solid rgba(255,255,255,0.5);\"></div>\n    \n    <div style=\"width:7px;background:rgba(254, 26, 5, 0.1);border-right:1px solid rgba(255,255,255,0.5);\"></div>\n    \n    <div style=\"width:7px;background:rgba(254, 26, 5, 0.1);border-right:1px solid rgba(255,255,255,0.5);\"></div>\n    \n    <div style=\"width:7px;background:rgba(254, 26, 5, 0.1);border-right:1px solid rgba(255,255,255,0.5);\"></div>\n    \n    <div style=\"width:7px;background:rgba(254, 26, 5, 0.1);border-right:1px solid rgba(255,255,255,0.5);\"></div>\n    \n    <div style=\"width:7px;background:rgba(254, 26, 5, 0.4);border-right:1px solid rgba(255,255,255,0.5);\"></div>\n    \n    <div style=\"width:7px;background:rgba(254, 26, 5, 0.4);border-right:1px solid rgba(255,255,255,0.5);\"></div>\n    \n    <div style=\"width:7px;background:rgba(254, 26, 5, 0.4);border-right:1px solid rgba(255,255,255,0.5);\"></div>\n    \n    <div style=\"width:7px;background:rgba(254, 26, 5, 0.4);border-right:1px solid rgba(255,255,255,0.5);\"></div>\n    \n    <div style=\"width:7px;background:rgba(254, 26, 5, 0.4);border-right:1px solid rgba(255,255,255,0.5);\"></div>\n    \n  </div></td>\n        <td class=\"pl1\"><b>300</b></td>\n        <td class=\"change neg\">(<b>+33</b>)</td>\n        <td class=\"pl1\">0</td>\n        <td class=\"change neg\">(<b>+0</b>)</td>\n        <td class=\"pl1\">0.0%</td>\n      </tr>\n    \n      <tr>\n        <td class=\"mw\"><b>Manipur</b></td>\n        <td style=\"vertical-align: middle;\"><div class=\"d-flex\" style=\"height:15px;\">\n    \n    \n    <div style=\"width:7px;background:rgba(254, 26, 5, 0.1);border-right:1px solid rgba(255,255,255,0.5);\"></div>\n    \n    <div style=\"width:7px;background:rgba(254, 26, 5, 0.1);border-right:1px solid rgba(255,255,255,0.5);\"></div>\n    \n    <div style=\"width:7px;background:rgba(254, 26, 5, 0.1);border-right:1px solid rgba(255,255,255,0.5);\"></div>\n    \n    <div style=\"width:7px;background:rgba(254, 26, 5, 0.1);border-right:1px solid rgba(255,255,255,0.5);\"></div>\n    \n    <div style=\"width:7px;background:rgba(254, 26, 5, 0.4);border-right:1px solid rgba(255,255,255,0.5);\"></div>\n    \n    <div style=\"width:7px;background:rgba(254, 26, 5, 0.1);border-right:1px solid rgba(255,255,255,0.5);\"></div>\n    \n    <div style=\"width:7px;background:rgba(254, 26, 5, 0.1);border-right:1px solid rgba(255,255,255,0.5);\"></div>\n    \n    <div style=\"width:7px;background:rgba(254, 26, 5, 0.4);border-right:1px solid rgba(255,255,255,0.5);\"></div>\n    \n    <div style=\"width:7px;background:rgba(254, 26, 5, 0.4);border-right:1px solid rgba(255,255,255,0.5);\"></div>\n    \n    <div style=\"width:7px;background:rgba(254, 26, 5, 0.1);border-right:1px solid rgba(255,255,255,0.5);\"></div>\n    \n    <div style=\"width:7px;background:rgba(254, 26, 5, 0.4);border-right:1px solid rgba(255,255,255,0.5);\"></div>\n    \n    <div style=\"width:7px;background:rgba(254, 26, 5, 0.4);border-right:1px solid rgba(255,255,255,0.5);\"></div>\n    \n    <div style=\"width:7px;background:rgba(254, 26, 5, 0.1);border-right:1px solid rgba(255,255,255,0.5);\"></div>\n    \n    <div style=\"width:7px;background:rgba(254, 26, 5, 0.4);border-right:1px solid rgba(255,255,255,0.5);\"></div>\n    \n    <div style=\"width:7px;background:rgba(254, 26, 5, 0.4);border-right:1px solid rgba(255,255,255,0.5);\"></div>\n    \n  </div></td>\n        <td class=\"pl1\"><b>172</b></td>\n        <td class=\"change neg\">(<b>+15</b>)</td>\n        <td class=\"pl1\">0</td>\n        <td class=\"change neg\">(<b>+0</b>)</td>\n        <td class=\"pl1\">0.0%</td>\n      </tr>\n    \n      <tr>\n        <td class=\"mw\"><b>Pondicherry</b></td>\n        <td style=\"vertical-align: middle;\"><div class=\"d-flex\" style=\"height:15px;\">\n    \n    \n    <div style=\"width:7px;background:rgba(254, 26, 5, 0.4);border-right:1px solid rgba(255,255,255,0.5);\"></div>\n    \n    <div style=\"width:7px;background:rgba(254, 26, 5, 0.1);border-right:1px solid rgba(255,255,255,0.5);\"></div>\n    \n    <div style=\"width:7px;background:#eee;border-right:1px solid rgba(255,255,255,0.5);\"></div>\n    \n    <div style=\"width:7px;background:#eee;border-right:1px solid rgba(255,255,255,0.5);\"></div>\n    \n    <div style=\"width:7px;background:rgba(254, 26, 5, 0.1);border-right:1px solid rgba(255,255,255,0.5);\"></div>\n    \n    <div style=\"width:7px;background:rgba(254, 26, 5, 0.1);border-right:1px solid rgba(255,255,255,0.5);\"></div>\n    \n    <div style=\"width:7px;background:#eee;border-right:1px solid rgba(255,255,255,0.5);\"></div>\n    \n    <div style=\"width:7px;background:rgba(254, 26, 5, 0.4);border-right:1px solid rgba(255,255,255,0.5);\"></div>\n    \n    <div style=\"width:7px;background:rgba(254, 26, 5, 0.1);border-right:1px solid rgba(255,255,255,0.5);\"></div>\n    \n    <div style=\"width:7px;background:#eee;border-right:1px solid rgba(255,255,255,0.5);\"></div>\n    \n    <div style=\"width:7px;background:rgba(254, 26, 5, 0.4);border-right:1px solid rgba(255,255,255,0.5);\"></div>\n    \n    <div style=\"width:7px;background:rgba(254, 26, 5, 0.1);border-right:1px solid rgba(255,255,255,0.5);\"></div>\n    \n    <div style=\"width:7px;background:rgba(254, 26, 5, 0.1);border-right:1px solid rgba(255,255,255,0.5);\"></div>\n    \n    <div style=\"width:7px;background:rgba(254, 26, 5, 0.1);border-right:1px solid rgba(255,255,255,0.5);\"></div>\n    \n    <div style=\"width:7px;background:rgba(254, 26, 5, 0.4);border-right:1px solid rgba(255,255,255,0.5);\"></div>\n    \n  </div></td>\n        <td class=\"pl1\"><b>119</b></td>\n        <td class=\"change neg\">(<b>+12</b>)</td>\n        <td class=\"pl1\">0</td>\n        <td class=\"change neg\">(<b>+0</b>)</td>\n        <td class=\"pl1\">0.0%</td>\n      </tr>\n    \n      <tr>\n        <td class=\"mw\"><b>Nagaland</b></td>\n        <td style=\"vertical-align: middle;\"><div class=\"d-flex\" style=\"height:15px;\">\n    \n    \n    <div style=\"width:7px;background:#eee;border-right:1px solid rgba(255,255,255,0.5);\"></div>\n    \n    <div style=\"width:7px;background:rgba(254, 26, 5, 0.1);border-right:1px solid rgba(255,255,255,0.5);\"></div>\n    \n    <div style=\"width:7px;background:rgba(254, 26, 5, 0.1);border-right:1px solid rgba(255,255,255,0.5);\"></div>\n    \n    <div style=\"width:7px;background:rgba(254, 26, 5, 0.1);border-right:1px solid rgba(255,255,255,0.5);\"></div>\n    \n    <div style=\"width:7px;background:rgba(254, 26, 5, 0.1);border-right:1px solid rgba(255,255,255,0.5);\"></div>\n    \n    <div style=\"width:7px;background:rgba(254, 26, 5, 0.1);border-right:1px solid rgba(255,255,255,0.5);\"></div>\n    \n    <div style=\"width:7px;background:rgba(254, 26, 5, 0.4);border-right:1px solid rgba(255,255,255,0.5);\"></div>\n    \n    <div style=\"width:7px;background:rgba(254, 26, 5, 0.1);border-right:1px solid rgba(255,255,255,0.5);\"></div>\n    \n    <div style=\"width:7px;background:#eee;border-right:1px solid rgba(255,255,255,0.5);\"></div>\n    \n    <div style=\"width:7px;background:rgba(254, 26, 5, 0.1);border-right:1px solid rgba(255,255,255,0.5);\"></div>\n    \n    <div style=\"width:7px;background:rgba(254, 26, 5, 0.1);border-right:1px solid rgba(255,255,255,0.5);\"></div>\n    \n    <div style=\"width:7px;background:rgba(254, 26, 5, 0.4);border-right:1px solid rgba(255,255,255,0.5);\"></div>\n    \n    <div style=\"width:7px;background:rgba(254, 26, 5, 0.4);border-right:1px solid rgba(255,255,255,0.5);\"></div>\n    \n    <div style=\"width:7px;background:#eee;border-right:1px solid rgba(255,255,255,0.5);\"></div>\n    \n    <div style=\"width:7px;background:rgba(254, 26, 5, 0.4);border-right:1px solid rgba(255,255,255,0.5);\"></div>\n    \n  </div></td>\n        <td class=\"pl1\"><b>118</b></td>\n        <td class=\"change neg\">(<b>+11</b>)</td>\n        <td class=\"pl1\">0</td>\n        <td class=\"change neg\">(<b>+0</b>)</td>\n        <td class=\"pl1\">0.0%</td>\n      </tr>\n    \n      <tr>\n        <td class=\"mw\"><b>Arunachal Pradesh</b></td>\n        <td style=\"vertical-align: middle;\"><div class=\"d-flex\" style=\"height:15px;\">\n    \n    \n    <div style=\"width:7px;background:rgba(254, 26, 5, 0.1);border-right:1px solid rgba(255,255,255,0.5);\"></div>\n    \n    <div style=\"width:7px;background:#eee;border-right:1px solid rgba(255,255,255,0.5);\"></div>\n    \n    <div style=\"width:7px;background:#eee;border-right:1px solid rgba(255,255,255,0.5);\"></div>\n    \n    <div style=\"width:7px;background:#eee;border-right:1px solid rgba(255,255,255,0.5);\"></div>\n    \n    <div style=\"width:7px;background:rgba(254, 26, 5, 0.1);border-right:1px solid rgba(255,255,255,0.5);\"></div>\n    \n    <div style=\"width:7px;background:#eee;border-right:1px solid rgba(255,255,255,0.5);\"></div>\n    \n    <div style=\"width:7px;background:rgba(254, 26, 5, 0.1);border-right:1px solid rgba(255,255,255,0.5);\"></div>\n    \n    <div style=\"width:7px;background:#eee;border-right:1px solid rgba(255,255,255,0.5);\"></div>\n    \n    <div style=\"width:7px;background:rgba(254, 26, 5, 0.4);border-right:1px solid rgba(255,255,255,0.5);\"></div>\n    \n    <div style=\"width:7px;background:rgba(254, 26, 5, 0.1);border-right:1px solid rgba(255,255,255,0.5);\"></div>\n    \n    <div style=\"width:7px;background:rgba(254, 26, 5, 0.4);border-right:1px solid rgba(255,255,255,0.5);\"></div>\n    \n    <div style=\"width:7px;background:rgba(254, 26, 5, 0.1);border-right:1px solid rgba(255,255,255,0.5);\"></div>\n    \n    <div style=\"width:7px;background:rgba(254, 26, 5, 0.1);border-right:1px solid rgba(255,255,255,0.5);\"></div>\n    \n    <div style=\"width:7px;background:rgba(254, 26, 5, 0.1);border-right:1px solid rgba(255,255,255,0.5);\"></div>\n    \n    <div style=\"width:7px;background:rgba(254, 26, 5, 0.1);border-right:1px solid rgba(255,255,255,0.5);\"></div>\n    \n  </div></td>\n        <td class=\"pl1\"><b>51</b></td>\n        <td class=\"change neg\">(<b>+3</b>)</td>\n        <td class=\"pl1\">0</td>\n        <td class=\"change neg\">(<b>+0</b>)</td>\n        <td class=\"pl1\">0.0%</td>\n      </tr>\n    \n      <tr>\n        <td class=\"mw\"><b>Meghalaya</b></td>\n        <td style=\"vertical-align: middle;\"><div class=\"d-flex\" style=\"height:15px;\">\n    \n    \n    <div style=\"width:7px;background:#eee;border-right:1px solid rgba(255,255,255,0.5);\"></div>\n    \n    <div style=\"width:7px;background:rgba(254, 26, 5, 0.1);border-right:1px solid rgba(255,255,255,0.5);\"></div>\n    \n    <div style=\"width:7px;background:rgba(254, 26, 5, 0.1);border-right:1px solid rgba(255,255,255,0.5);\"></div>\n    \n    <div style=\"width:7px;background:#eee;border-right:1px solid rgba(255,255,255,0.5);\"></div>\n    \n    <div style=\"width:7px;background:rgba(254, 26, 5, 0.1);border-right:1px solid rgba(255,255,255,0.5);\"></div>\n    \n    <div style=\"width:7px;background:rgba(254, 26, 5, 0.1);border-right:1px solid rgba(255,255,255,0.5);\"></div>\n    \n    <div style=\"width:7px;background:#eee;border-right:1px solid rgba(255,255,255,0.5);\"></div>\n    \n    <div style=\"width:7px;background:#eee;border-right:1px solid rgba(255,255,255,0.5);\"></div>\n    \n    <div style=\"width:7px;background:rgba(254, 26, 5, 0.1);border-right:1px solid rgba(255,255,255,0.5);\"></div>\n    \n    <div style=\"width:7px;background:rgba(254, 26, 5, 0.1);border-right:1px solid rgba(255,255,255,0.5);\"></div>\n    \n    <div style=\"width:7px;background:rgba(254, 26, 5, 0.1);border-right:1px solid rgba(255,255,255,0.5);\"></div>\n    \n    <div style=\"width:7px;background:#eee;border-right:1px solid rgba(255,255,255,0.5);\"></div>\n    \n    <div style=\"width:7px;background:#eee;border-right:1px solid rgba(255,255,255,0.5);\"></div>\n    \n    <div style=\"width:7px;background:#eee;border-right:1px solid rgba(255,255,255,0.5);\"></div>\n    \n    <div style=\"width:7px;background:rgba(254, 26, 5, 0.1);border-right:1px solid rgba(255,255,255,0.5);\"></div>\n    \n  </div></td>\n        <td class=\"pl1\"><b>36</b></td>\n        <td class=\"change neg\">(<b>+3</b>)</td>\n        <td class=\"pl1\">1</td>\n        <td class=\"change neg\">(<b>+0</b>)</td>\n        <td class=\"pl1\">2.78%</td>\n      </tr>\n    \n      <tr>\n        <td class=\"mw\"><b>Mizoram</b></td>\n        <td style=\"vertical-align: middle;\"><div class=\"d-flex\" style=\"height:15px;\">\n    \n    \n    <div style=\"width:7px;background:#eee;border-right:1px solid rgba(255,255,255,0.5);\"></div>\n    \n    <div style=\"width:7px;background:#eee;border-right:1px solid rgba(255,255,255,0.5);\"></div>\n    \n    <div style=\"width:7px;background:#eee;border-right:1px solid rgba(255,255,255,0.5);\"></div>\n    \n    <div style=\"width:7px;background:#eee;border-right:1px solid rgba(255,255,255,0.5);\"></div>\n    \n    <div style=\"width:7px;background:#eee;border-right:1px solid rgba(255,255,255,0.5);\"></div>\n    \n    <div style=\"width:7px;background:#eee;border-right:1px solid rgba(255,255,255,0.5);\"></div>\n    \n    <div style=\"width:7px;background:#eee;border-right:1px solid rgba(255,255,255,0.5);\"></div>\n    \n    <div style=\"width:7px;background:#eee;border-right:1px solid rgba(255,255,255,0.5);\"></div>\n    \n    <div style=\"width:7px;background:#eee;border-right:1px solid rgba(255,255,255,0.5);\"></div>\n    \n    <div style=\"width:7px;background:rgba(254, 26, 5, 0.4);border-right:1px solid rgba(255,255,255,0.5);\"></div>\n    \n    <div style=\"width:7px;background:rgba(254, 26, 5, 0.1);border-right:1px solid rgba(255,255,255,0.5);\"></div>\n    \n    <div style=\"width:7px;background:rgba(254, 26, 5, 0.1);border-right:1px solid rgba(255,255,255,0.5);\"></div>\n    \n    <div style=\"width:7px;background:rgba(254, 26, 5, 0.1);border-right:1px solid rgba(255,255,255,0.5);\"></div>\n    \n    <div style=\"width:7px;background:#eee;border-right:1px solid rgba(255,255,255,0.5);\"></div>\n    \n    <div style=\"width:7px;background:rgba(254, 26, 5, 0.4);border-right:1px solid rgba(255,255,255,0.5);\"></div>\n    \n  </div></td>\n        <td class=\"pl1\"><b>34</b></td>\n        <td class=\"change neg\">(<b>+10</b>)</td>\n        <td class=\"pl1\">0</td>\n        <td class=\"change neg\">(<b>+0</b>)</td>\n        <td class=\"pl1\">0.0%</td>\n      </tr>\n    \n      <tr>\n        <td class=\"mw\"><b>Andaman and Nicobar Islands</b></td>\n        <td style=\"vertical-align: middle;\"><div class=\"d-flex\" style=\"height:15px;\">\n    \n    \n    <div style=\"width:7px;background:#eee;border-right:1px solid rgba(255,255,255,0.5);\"></div>\n    \n    <div style=\"width:7px;background:#eee;border-right:1px solid rgba(255,255,255,0.5);\"></div>\n    \n    <div style=\"width:7px;background:#eee;border-right:1px solid rgba(255,255,255,0.5);\"></div>\n    \n    <div style=\"width:7px;background:#eee;border-right:1px solid rgba(255,255,255,0.5);\"></div>\n    \n    <div style=\"width:7px;background:#eee;border-right:1px solid rgba(255,255,255,0.5);\"></div>\n    \n    <div style=\"width:7px;background:#eee;border-right:1px solid rgba(255,255,255,0.5);\"></div>\n    \n    <div style=\"width:7px;background:#eee;border-right:1px solid rgba(255,255,255,0.5);\"></div>\n    \n    <div style=\"width:7px;background:#eee;border-right:1px solid rgba(255,255,255,0.5);\"></div>\n    \n    <div style=\"width:7px;background:#eee;border-right:1px solid rgba(255,255,255,0.5);\"></div>\n    \n    <div style=\"width:7px;background:#eee;border-right:1px solid rgba(255,255,255,0.5);\"></div>\n    \n    <div style=\"width:7px;background:#eee;border-right:1px solid rgba(255,255,255,0.5);\"></div>\n    \n    <div style=\"width:7px;background:#eee;border-right:1px solid rgba(255,255,255,0.5);\"></div>\n    \n    <div style=\"width:7px;background:#eee;border-right:1px solid rgba(255,255,255,0.5);\"></div>\n    \n    <div style=\"width:7px;background:#eee;border-right:1px solid rgba(255,255,255,0.5);\"></div>\n    \n    <div style=\"width:7px;background:#eee;border-right:1px solid rgba(255,255,255,0.5);\"></div>\n    \n  </div></td>\n        <td class=\"pl1\"><b>33</b></td>\n        <td class=\"change neg\">(<b>+0</b>)</td>\n        <td class=\"pl1\">0</td>\n        <td class=\"change neg\">(<b>+0</b>)</td>\n        <td class=\"pl1\">0.0%</td>\n      </tr>\n    \n      <tr>\n        <td class=\"mw\"><b>Sikkim</b></td>\n        <td style=\"vertical-align: middle;\"><div class=\"d-flex\" style=\"height:15px;\">\n    \n    \n    <div style=\"width:7px;background:#eee;border-right:1px solid rgba(255,255,255,0.5);\"></div>\n    \n    <div style=\"width:7px;background:#eee;border-right:1px solid rgba(255,255,255,0.5);\"></div>\n    \n    <div style=\"width:7px;background:#eee;border-right:1px solid rgba(255,255,255,0.5);\"></div>\n    \n    <div style=\"width:7px;background:#eee;border-right:1px solid rgba(255,255,255,0.5);\"></div>\n    \n    <div style=\"width:7px;background:#eee;border-right:1px solid rgba(255,255,255,0.5);\"></div>\n    \n    <div style=\"width:7px;background:#eee;border-right:1px solid rgba(255,255,255,0.5);\"></div>\n    \n    <div style=\"width:7px;background:#eee;border-right:1px solid rgba(255,255,255,0.5);\"></div>\n    \n    <div style=\"width:7px;background:#eee;border-right:1px solid rgba(255,255,255,0.5);\"></div>\n    \n    <div style=\"width:7px;background:#eee;border-right:1px solid rgba(255,255,255,0.5);\"></div>\n    \n    <div style=\"width:7px;background:#eee;border-right:1px solid rgba(255,255,255,0.5);\"></div>\n    \n    <div style=\"width:7px;background:rgba(254, 26, 5, 0.1);border-right:1px solid rgba(255,255,255,0.5);\"></div>\n    \n    <div style=\"width:7px;background:#eee;border-right:1px solid rgba(255,255,255,0.5);\"></div>\n    \n    <div style=\"width:7px;background:rgba(254, 26, 5, 0.1);border-right:1px solid rgba(255,255,255,0.5);\"></div>\n    \n    <div style=\"width:7px;background:rgba(254, 26, 5, 0.1);border-right:1px solid rgba(255,255,255,0.5);\"></div>\n    \n    <div style=\"width:7px;background:#eee;border-right:1px solid rgba(255,255,255,0.5);\"></div>\n    \n  </div></td>\n        <td class=\"pl1\"><b>7</b></td>\n        <td class=\"change neg\">(<b>+0</b>)</td>\n        <td class=\"pl1\">0</td>\n        <td class=\"change neg\">(<b>+0</b>)</td>\n        <td class=\"pl1\">0.0%</td>\n      </tr>\n    \n      <tr>\n        <td class=\"mw\"><b>Daman and Diu</b></td>\n        <td style=\"vertical-align: middle;\"><div class=\"d-flex\" style=\"height:15px;\">\n    \n    \n    <div style=\"width:7px;background:#eee;border-right:1px solid rgba(255,255,255,0.5);\"></div>\n    \n    <div style=\"width:7px;background:#eee;border-right:1px solid rgba(255,255,255,0.5);\"></div>\n    \n    <div style=\"width:7px;background:#eee;border-right:1px solid rgba(255,255,255,0.5);\"></div>\n    \n    <div style=\"width:7px;background:#eee;border-right:1px solid rgba(255,255,255,0.5);\"></div>\n    \n    <div style=\"width:7px;background:#eee;border-right:1px solid rgba(255,255,255,0.5);\"></div>\n    \n    <div style=\"width:7px;background:#eee;border-right:1px solid rgba(255,255,255,0.5);\"></div>\n    \n    <div style=\"width:7px;background:#eee;border-right:1px solid rgba(255,255,255,0.5);\"></div>\n    \n    <div style=\"width:7px;background:#eee;border-right:1px solid rgba(255,255,255,0.5);\"></div>\n    \n    <div style=\"width:7px;background:#eee;border-right:1px solid rgba(255,255,255,0.5);\"></div>\n    \n    <div style=\"width:7px;background:#eee;border-right:1px solid rgba(255,255,255,0.5);\"></div>\n    \n    <div style=\"width:7px;background:#eee;border-right:1px solid rgba(255,255,255,0.5);\"></div>\n    \n    <div style=\"width:7px;background:#eee;border-right:1px solid rgba(255,255,255,0.5);\"></div>\n    \n    <div style=\"width:7px;background:#eee;border-right:1px solid rgba(255,255,255,0.5);\"></div>\n    \n    <div style=\"width:7px;background:#eee;border-right:1px solid rgba(255,255,255,0.5);\"></div>\n    \n    <div style=\"width:7px;background:#eee;border-right:1px solid rgba(255,255,255,0.5);\"></div>\n    \n  </div></td>\n        <td class=\"pl1\"><b>0</b></td>\n        <td class=\"change neg\">(<b>+0</b>)</td>\n        <td class=\"pl1\">0</td>\n        <td class=\"change neg\">(<b>+0</b>)</td>\n        <td class=\"pl1\">nan%</td>\n      </tr>\n    \n      <tr>\n        <td class=\"mw\"><b>Lakshadweep</b></td>\n        <td style=\"vertical-align: middle;\"><div class=\"d-flex\" style=\"height:15px;\">\n    \n    \n    <div style=\"width:7px;background:#eee;border-right:1px solid rgba(255,255,255,0.5);\"></div>\n    \n    <div style=\"width:7px;background:#eee;border-right:1px solid rgba(255,255,255,0.5);\"></div>\n    \n    <div style=\"width:7px;background:#eee;border-right:1px solid rgba(255,255,255,0.5);\"></div>\n    \n    <div style=\"width:7px;background:#eee;border-right:1px solid rgba(255,255,255,0.5);\"></div>\n    \n    <div style=\"width:7px;background:#eee;border-right:1px solid rgba(255,255,255,0.5);\"></div>\n    \n    <div style=\"width:7px;background:#eee;border-right:1px solid rgba(255,255,255,0.5);\"></div>\n    \n    <div style=\"width:7px;background:#eee;border-right:1px solid rgba(255,255,255,0.5);\"></div>\n    \n    <div style=\"width:7px;background:#eee;border-right:1px solid rgba(255,255,255,0.5);\"></div>\n    \n    <div style=\"width:7px;background:#eee;border-right:1px solid rgba(255,255,255,0.5);\"></div>\n    \n    <div style=\"width:7px;background:#eee;border-right:1px solid rgba(255,255,255,0.5);\"></div>\n    \n    <div style=\"width:7px;background:#eee;border-right:1px solid rgba(255,255,255,0.5);\"></div>\n    \n    <div style=\"width:7px;background:#eee;border-right:1px solid rgba(255,255,255,0.5);\"></div>\n    \n    <div style=\"width:7px;background:#eee;border-right:1px solid rgba(255,255,255,0.5);\"></div>\n    \n    <div style=\"width:7px;background:#eee;border-right:1px solid rgba(255,255,255,0.5);\"></div>\n    \n    <div style=\"width:7px;background:#eee;border-right:1px solid rgba(255,255,255,0.5);\"></div>\n    \n  </div></td>\n        <td class=\"pl1\"><b>0</b></td>\n        <td class=\"change neg\">(<b>+0</b>)</td>\n        <td class=\"pl1\">0</td>\n        <td class=\"change neg\">(<b>+0</b>)</td>\n        <td class=\"pl1\">nan%</td>\n      </tr>\n    \n    </tbody>\n  </table>\n</div>\n<style>\n\n\n.overview {\n  min-width: 500px;\n  font-size: 9px;\n  font-family: \"Segoe UI\", SegoeUI, Roboto, \"Segoe WP\", \"Helvetica Neue\", \"Helvetica\", \"Tahoma\", \"Arial\", sans-serif !important;\n}\n.overview .toplinksgithub a {\n  background: #d3d3d3;\n  font-size: 14px;\n  color: #1d87ae;\n  margin: 10px;\n  padding: 2px 10px;\n}\n.overview p {\n  margin: 6px auto !important;\n  padding: 0;\n}\n@media screen and (max-width: 660px) {\n  .overview p { max-width: none !important; }\n}\n.overview b {\n  font-weight: bolder;\n}\n.overview .kpi-hed {\n  font-weight: bold;\n  font-size: 20px;\n}\n.overview .kpi-box {\n  justify-content: space-around;\n  font-size: 15px;\n  background: #f5d906;\n  padding: 10px 0 !important;\n  margin: 5px 0 !important;\n  min-width: 180px;\n}\n.overview .kpi .num {\n  font-size: 40px;\n  line-height: 40px;\n  font-weight: bold;\n}\n.overview .kpi .grow {\n  line-height: 12px;\n  font-size: 12px;\n}\n.overview .table .change.pos , .overview .kpi .grow.pos {\n  color: #118822;\n}\n.overview .table .change.neg, .overview .kpi .grow, .color-neg {\n  color: #fe1a05;\n}\n.overview p .color-neg {\n  background: #ececec;\n  padding: 0 5px;\n}\n.overview .kpi .kname {\n  font-size: 10px;\n}\n.overview .kpi-sm .kpi-hed {\n  font-size: 14px;\n  line-height: 10px;\n  padding-top: 10px !important;\n}\n.overview .kpi-sm .num {\n  font-size: 20px;\n  line-height: 20px;\n}\n.overview .kpi-sm .kname {\n  font-size: 11px;\n  line-height: 9px;\n}\n.overview .table {\n  border-collapse: collapse;\n  margin: auto !important;\n  text-align: right;\n  margin-top: 14px;\n  color: black;\n  font-size: 13px;\n  display: table !important;\n}\n.overview .table .change {\n  color: #999;\n  font-size: 80%;\n  text-align: start;\n  vertical-align: inherit;\n  font-weight: normal;\n  padding-left: 1px !important;\n}\n.overview .table th {\n  font-weight: normal;\n}\n.overview .table tbody tr {\n  border-bottom: 1px solid #eee;\n  background: none;\n}\n.overview .table td, .overview .table th {\n  padding: 1px 1px 1px 10px !important;\n  vertical-align: middle;\n  border: none;\n  background: none;\n}\n.overview .table th {\n  text-align: center;\n  text-transform: uppercase;\n}\n.overview .table thead {\n  border-bottom: 1px solid black;\n}\n.overview .fs9 {\n  font-size: 12px;\n}\n.overview .d-flex {\n  display: flex;\n}\n.overview .text-center { text-align: center !important; }\n.overview .text-left { text-align: left !important; }\n.overview .text-right { text-align: right !important; }\n.overview .text-uppercase { text-transform: uppercase !important; }\n.overview div {\n  margin: 0 !important;\n  padding: 0 !important;\n}\n</style></div>"
     },
     "metadata": {},
     "execution_count": 13
    }
   ],
   "source": [
    "#hide_input\n",
    "template = Template(get_template('https://raw.githubusercontent.com/hargun3045/dashboards/master/overview.tpl'))\n",
    "#Local method\n",
    "#with open('overview.tpl','r') as f:\n",
    "#     temp = f.read()\n",
    "#template = Template(temp)\n",
    "html = template.render(\n",
    "    D=summary, table=df_table,\n",
    "    KPI_CASE = KPI_CASE,COL_REGION = COL_REGION,\n",
    "    KPIS_INFO = kpis_info,# REMOVE .head(20) to see all values\n",
    "    newcases=dft_ct_new_cases.loc[:, dt_cols[valid_i-14]:dt_cols[valid_i]],\n",
    "    np=np, pd=pd, enumerate=enumerate)\n",
    "HTML(f'<div>{html}</div>')"
   ]
  },
  {
   "cell_type": "markdown",
   "metadata": {
    "papermill": {
     "duration": 0.015811,
     "end_time": "2020-06-08T06:11:33.923932",
     "exception": false,
     "start_time": "2020-06-08T06:11:33.908121",
     "status": "completed"
    },
    "tags": []
   },
   "source": [
    "Data source: [covid19India](https://www.covid19india.org/)\n",
    "Thanks to the people running covid19India for sharing their raw data. For more visualisations and essential information please visit their website [www.covid19india.org](https://www.covid19india.org/)"
   ]
  }
 ],
 "metadata": {
  "kernelspec": {
   "display_name": "Python 3.7.6 64-bit ('univai': conda)",
   "language": "python",
   "name": "python37664bitunivaicondac2ef9ed280934475b3c4ee15c34f14c7"
  },
  "language_info": {
   "codemirror_mode": {
    "name": "ipython",
    "version": 3
   },
   "file_extension": ".py",
   "mimetype": "text/x-python",
   "name": "python",
   "nbconvert_exporter": "python",
   "pygments_lexer": "ipython3",
   "version": "3.7.6-final"
  },
  "papermill": {
   "duration": 2.459708,
   "end_time": "2020-06-08T06:11:34.075183",
   "environment_variables": {},
   "exception": null,
   "input_path": "2020-03-21-Linde.ipynb",
   "output_path": "2020-03-21-Linde.ipynb",
   "parameters": {},
   "start_time": "2020-06-08T06:11:31.615475",
   "version": "2.1.0"
  }
 },
 "nbformat": 4,
 "nbformat_minor": 4
}