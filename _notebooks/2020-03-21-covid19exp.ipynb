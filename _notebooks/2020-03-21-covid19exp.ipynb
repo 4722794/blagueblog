{
 "cells": [
  {
   "cell_type": "markdown",
   "id": "muslim-click",
   "metadata": {
    "papermill": {
     "duration": 0.038535,
     "end_time": "2021-02-27T00:11:09.141052",
     "exception": false,
     "start_time": "2021-02-27T00:11:09.102517",
     "status": "completed"
    },
    "tags": []
   },
   "source": [
    "# COVID-19 Case Race\n",
    "> A race chart to see rising cases around the world\n",
    "\n",
    "- author: Hargun Oberoi\n",
    "- image: images/covid-overview.png\n",
    "- hide: false\n",
    "- badges: false"
   ]
  },
  {
   "cell_type": "code",
   "execution_count": 1,
   "id": "proof-material",
   "metadata": {
    "execution": {
     "iopub.execute_input": "2021-02-27T00:11:09.225942Z",
     "iopub.status.busy": "2021-02-27T00:11:09.224897Z",
     "iopub.status.idle": "2021-02-27T00:11:09.563715Z",
     "shell.execute_reply": "2021-02-27T00:11:09.563144Z"
    },
    "papermill": {
     "duration": 0.38611,
     "end_time": "2021-02-27T00:11:09.563863",
     "exception": false,
     "start_time": "2021-02-27T00:11:09.177753",
     "status": "completed"
    },
    "tags": []
   },
   "outputs": [],
   "source": [
    "#hide\n",
    "import numpy as np\n",
    "import pandas as pd\n",
    "from jinja2 import Template\n",
    "from IPython.display import HTML"
   ]
  },
  {
   "cell_type": "code",
   "execution_count": 2,
   "id": "developed-terminology",
   "metadata": {
    "execution": {
     "iopub.execute_input": "2021-02-27T00:11:09.635760Z",
     "iopub.status.busy": "2021-02-27T00:11:09.635094Z",
     "iopub.status.idle": "2021-02-27T00:11:09.638299Z",
     "shell.execute_reply": "2021-02-27T00:11:09.637790Z"
    },
    "papermill": {
     "duration": 0.041343,
     "end_time": "2021-02-27T00:11:09.638425",
     "exception": false,
     "start_time": "2021-02-27T00:11:09.597082",
     "status": "completed"
    },
    "tags": []
   },
   "outputs": [],
   "source": [
    "#hide\n",
    "\n",
    "# FETCH\n",
    "base_url = 'https://raw.githubusercontent.com/pratapvardhan/notebooks/master/covid19/'\n",
    "paths = {\n",
    "    'mapping': base_url + 'mapping_countries.csv',\n",
    "    'overview': base_url + 'overview.tpl'\n",
    "}"
   ]
  },
  {
   "cell_type": "code",
   "execution_count": 3,
   "id": "dynamic-saver",
   "metadata": {
    "execution": {
     "iopub.execute_input": "2021-02-27T00:11:09.715789Z",
     "iopub.status.busy": "2021-02-27T00:11:09.715138Z",
     "iopub.status.idle": "2021-02-27T00:11:09.718601Z",
     "shell.execute_reply": "2021-02-27T00:11:09.719097Z"
    },
    "papermill": {
     "duration": 0.047727,
     "end_time": "2021-02-27T00:11:09.719263",
     "exception": false,
     "start_time": "2021-02-27T00:11:09.671536",
     "status": "completed"
    },
    "tags": []
   },
   "outputs": [
    {
     "data": {
      "text/plain": [
       "'https://raw.githubusercontent.com/pratapvardhan/notebooks/master/covid19/mapping_countries.csv'"
      ]
     },
     "execution_count": 3,
     "metadata": {},
     "output_type": "execute_result"
    }
   ],
   "source": [
    "#hide\n",
    "paths['mapping']"
   ]
  },
  {
   "cell_type": "code",
   "execution_count": 4,
   "id": "urban-software",
   "metadata": {
    "execution": {
     "iopub.execute_input": "2021-02-27T00:11:09.793802Z",
     "iopub.status.busy": "2021-02-27T00:11:09.793210Z",
     "iopub.status.idle": "2021-02-27T00:11:09.795644Z",
     "shell.execute_reply": "2021-02-27T00:11:09.796203Z"
    },
    "papermill": {
     "duration": 0.043722,
     "end_time": "2021-02-27T00:11:09.796344",
     "exception": false,
     "start_time": "2021-02-27T00:11:09.752622",
     "status": "completed"
    },
    "tags": []
   },
   "outputs": [],
   "source": [
    "#hide\n",
    "def get_mappings(url):\n",
    "    df = pd.read_csv(url)\n",
    "    return {\n",
    "        'df': df,\n",
    "        'replace.country': dict(df.dropna(subset=['Name']).set_index('Country')['Name']),\n",
    "        'map.continent': dict(df.set_index('Name')['Continent'])\n",
    "    }"
   ]
  },
  {
   "cell_type": "code",
   "execution_count": 5,
   "id": "intimate-machinery",
   "metadata": {
    "execution": {
     "iopub.execute_input": "2021-02-27T00:11:09.868517Z",
     "iopub.status.busy": "2021-02-27T00:11:09.867921Z",
     "iopub.status.idle": "2021-02-27T00:11:09.912553Z",
     "shell.execute_reply": "2021-02-27T00:11:09.911927Z"
    },
    "papermill": {
     "duration": 0.083384,
     "end_time": "2021-02-27T00:11:09.912682",
     "exception": false,
     "start_time": "2021-02-27T00:11:09.829298",
     "status": "completed"
    },
    "tags": []
   },
   "outputs": [],
   "source": [
    "#hide\n",
    "mapping = get_mappings(paths['mapping'])"
   ]
  },
  {
   "cell_type": "code",
   "execution_count": 6,
   "id": "certified-tactics",
   "metadata": {
    "execution": {
     "iopub.execute_input": "2021-02-27T00:11:09.985327Z",
     "iopub.status.busy": "2021-02-27T00:11:09.984731Z",
     "iopub.status.idle": "2021-02-27T00:11:09.987255Z",
     "shell.execute_reply": "2021-02-27T00:11:09.986758Z"
    },
    "papermill": {
     "duration": 0.041269,
     "end_time": "2021-02-27T00:11:09.987388",
     "exception": false,
     "start_time": "2021-02-27T00:11:09.946119",
     "status": "completed"
    },
    "tags": []
   },
   "outputs": [],
   "source": [
    "#hide\n",
    "def get_template(path):\n",
    "    from urllib.parse import urlparse\n",
    "    if bool(urlparse(path).netloc):\n",
    "        from urllib.request import urlopen\n",
    "        return urlopen(path).read().decode('utf8')\n",
    "    return open(path).read()"
   ]
  },
  {
   "cell_type": "code",
   "execution_count": 7,
   "id": "realistic-blast",
   "metadata": {
    "execution": {
     "iopub.execute_input": "2021-02-27T00:11:10.061373Z",
     "iopub.status.busy": "2021-02-27T00:11:10.060767Z",
     "iopub.status.idle": "2021-02-27T00:11:10.062896Z",
     "shell.execute_reply": "2021-02-27T00:11:10.062395Z"
    },
    "papermill": {
     "duration": 0.042386,
     "end_time": "2021-02-27T00:11:10.063018",
     "exception": false,
     "start_time": "2021-02-27T00:11:10.020632",
     "status": "completed"
    },
    "tags": []
   },
   "outputs": [],
   "source": [
    "#hide\n",
    "def get_frame(name):\n",
    "    url = (\n",
    "        'https://raw.githubusercontent.com/CSSEGISandData/COVID-19/master/csse_covid_19_data/'\n",
    "        f'csse_covid_19_time_series/time_series_covid19_{name}_global.csv')\n",
    "    df = pd.read_csv(url)\n",
    "    # rename countries\n",
    "    df['Country/Region'] = df['Country/Region'].replace(mapping['replace.country'])\n",
    "    return df"
   ]
  },
  {
   "cell_type": "code",
   "execution_count": 8,
   "id": "affiliated-characterization",
   "metadata": {
    "execution": {
     "iopub.execute_input": "2021-02-27T00:11:10.142807Z",
     "iopub.status.busy": "2021-02-27T00:11:10.142204Z",
     "iopub.status.idle": "2021-02-27T00:11:10.144978Z",
     "shell.execute_reply": "2021-02-27T00:11:10.145749Z"
    },
    "papermill": {
     "duration": 0.046731,
     "end_time": "2021-02-27T00:11:10.145906",
     "exception": false,
     "start_time": "2021-02-27T00:11:10.099175",
     "status": "completed"
    },
    "tags": []
   },
   "outputs": [],
   "source": [
    "#hide\n",
    "def get_dates(df):\n",
    "    dt_cols = df.columns[~df.columns.isin(['Province/State', 'Country/Region', 'Lat', 'Long'])]\n",
    "    LAST_DATE_I = -1\n",
    "    # sometimes last column may be empty, then go backwards\n",
    "    for i in range(-1, -len(dt_cols), -1):\n",
    "        if not df[dt_cols[i]].fillna(0).eq(0).all():\n",
    "            LAST_DATE_I = i\n",
    "            break\n",
    "    return LAST_DATE_I, dt_cols"
   ]
  },
  {
   "cell_type": "code",
   "execution_count": 9,
   "id": "recent-optimization",
   "metadata": {
    "execution": {
     "iopub.execute_input": "2021-02-27T00:11:10.220938Z",
     "iopub.status.busy": "2021-02-27T00:11:10.220347Z",
     "iopub.status.idle": "2021-02-27T00:11:10.485547Z",
     "shell.execute_reply": "2021-02-27T00:11:10.484630Z"
    },
    "papermill": {
     "duration": 0.305736,
     "end_time": "2021-02-27T00:11:10.485748",
     "exception": false,
     "start_time": "2021-02-27T00:11:10.180012",
     "status": "completed"
    },
    "tags": []
   },
   "outputs": [],
   "source": [
    "#hide\n",
    "COL_REGION = 'Country/Region'\n",
    "# Confirmed, Recovered, Deaths\n",
    "df = get_frame('confirmed')\n",
    "# dft_: timeseries, dfc_: today country agg\n",
    "dft_cases = df\n",
    "dft_deaths = get_frame('deaths')\n",
    "dft_recovered = get_frame('recovered')\n",
    "LAST_DATE_I, dt_cols = get_dates(df)"
   ]
  },
  {
   "cell_type": "code",
   "execution_count": 10,
   "id": "absolute-copper",
   "metadata": {
    "execution": {
     "iopub.execute_input": "2021-02-27T00:11:10.559128Z",
     "iopub.status.busy": "2021-02-27T00:11:10.558530Z",
     "iopub.status.idle": "2021-02-27T00:11:10.560825Z",
     "shell.execute_reply": "2021-02-27T00:11:10.560326Z"
    },
    "papermill": {
     "duration": 0.04157,
     "end_time": "2021-02-27T00:11:10.560944",
     "exception": false,
     "start_time": "2021-02-27T00:11:10.519374",
     "status": "completed"
    },
    "tags": []
   },
   "outputs": [],
   "source": [
    "#hide\n",
    "LAST_DATE_I, dt_cols = get_dates(df)\n",
    "dt_today =dt_cols[LAST_DATE_I]\n",
    "# dt_5day = dt_cols[LAST_DATE_I - 5]\n",
    "dt_yday = dt_cols[LAST_DATE_I - 1]"
   ]
  },
  {
   "cell_type": "code",
   "execution_count": 11,
   "id": "restricted-sheriff",
   "metadata": {
    "execution": {
     "iopub.execute_input": "2021-02-27T00:11:10.635290Z",
     "iopub.status.busy": "2021-02-27T00:11:10.634675Z",
     "iopub.status.idle": "2021-02-27T00:11:10.644040Z",
     "shell.execute_reply": "2021-02-27T00:11:10.643534Z"
    },
    "papermill": {
     "duration": 0.050188,
     "end_time": "2021-02-27T00:11:10.644159",
     "exception": false,
     "start_time": "2021-02-27T00:11:10.593971",
     "status": "completed"
    },
    "tags": []
   },
   "outputs": [],
   "source": [
    "#hide\n",
    "dfc_cases = dft_cases.groupby(COL_REGION)[dt_today].sum()\n",
    "dfc_deaths = dft_deaths.groupby(COL_REGION)[dt_today].sum()\n",
    "# dfp_cases = dft_cases.groupby(COL_REGION)[dt_5day].sum()\n",
    "# dfp_deaths = dft_deaths.groupby(COL_REGION)[dt_5day].sum()\n",
    "dfp_cases = dft_cases.groupby(COL_REGION)[dt_yday].sum()\n",
    "dfp_deaths = dft_deaths.groupby(COL_REGION)[dt_yday].sum()"
   ]
  },
  {
   "cell_type": "code",
   "execution_count": 12,
   "id": "deluxe-hepatitis",
   "metadata": {
    "execution": {
     "iopub.execute_input": "2021-02-27T00:11:10.716728Z",
     "iopub.status.busy": "2021-02-27T00:11:10.716144Z",
     "iopub.status.idle": "2021-02-27T00:11:10.720643Z",
     "shell.execute_reply": "2021-02-27T00:11:10.721195Z"
    },
    "papermill": {
     "duration": 0.044534,
     "end_time": "2021-02-27T00:11:10.721337",
     "exception": false,
     "start_time": "2021-02-27T00:11:10.676803",
     "status": "completed"
    },
    "tags": []
   },
   "outputs": [],
   "source": [
    "#hide\n",
    "df_table = (pd.DataFrame(dict(Cases = dfc_cases, Deaths = dfc_deaths, PCases = dfp_cases, PDeaths = dfp_deaths))\n",
    "            .sort_values(by = ['Cases','Deaths'], ascending = [False, False])\n",
    "            .reset_index())"
   ]
  },
  {
   "cell_type": "code",
   "execution_count": 13,
   "id": "educational-chancellor",
   "metadata": {
    "execution": {
     "iopub.execute_input": "2021-02-27T00:11:10.806711Z",
     "iopub.status.busy": "2021-02-27T00:11:10.806122Z",
     "iopub.status.idle": "2021-02-27T00:11:10.813658Z",
     "shell.execute_reply": "2021-02-27T00:11:10.813184Z"
    },
    "papermill": {
     "duration": 0.059739,
     "end_time": "2021-02-27T00:11:10.813781",
     "exception": false,
     "start_time": "2021-02-27T00:11:10.754042",
     "status": "completed"
    },
    "tags": []
   },
   "outputs": [
    {
     "data": {
      "text/html": [
       "<div>\n",
       "<style scoped>\n",
       "    .dataframe tbody tr th:only-of-type {\n",
       "        vertical-align: middle;\n",
       "    }\n",
       "\n",
       "    .dataframe tbody tr th {\n",
       "        vertical-align: top;\n",
       "    }\n",
       "\n",
       "    .dataframe thead th {\n",
       "        text-align: right;\n",
       "    }\n",
       "</style>\n",
       "<table border=\"1\" class=\"dataframe\">\n",
       "  <thead>\n",
       "    <tr style=\"text-align: right;\">\n",
       "      <th></th>\n",
       "      <th>Country/Region</th>\n",
       "      <th>Cases</th>\n",
       "      <th>Deaths</th>\n",
       "      <th>PCases</th>\n",
       "      <th>PDeaths</th>\n",
       "      <th>Cases (+)</th>\n",
       "      <th>Deaths (+)</th>\n",
       "      <th>Fatality Rate</th>\n",
       "      <th>Continent</th>\n",
       "    </tr>\n",
       "  </thead>\n",
       "  <tbody>\n",
       "    <tr>\n",
       "      <th>0</th>\n",
       "      <td>US</td>\n",
       "      <td>28413388</td>\n",
       "      <td>508307</td>\n",
       "      <td>28336097</td>\n",
       "      <td>505890</td>\n",
       "      <td>77291</td>\n",
       "      <td>2417</td>\n",
       "      <td>1.79</td>\n",
       "      <td>North America</td>\n",
       "    </tr>\n",
       "    <tr>\n",
       "      <th>1</th>\n",
       "      <td>India</td>\n",
       "      <td>11063491</td>\n",
       "      <td>156825</td>\n",
       "      <td>11046914</td>\n",
       "      <td>156705</td>\n",
       "      <td>16577</td>\n",
       "      <td>120</td>\n",
       "      <td>1.42</td>\n",
       "      <td>Asia</td>\n",
       "    </tr>\n",
       "    <tr>\n",
       "      <th>2</th>\n",
       "      <td>Brazil</td>\n",
       "      <td>10390461</td>\n",
       "      <td>251498</td>\n",
       "      <td>10324463</td>\n",
       "      <td>249957</td>\n",
       "      <td>65998</td>\n",
       "      <td>1541</td>\n",
       "      <td>2.42</td>\n",
       "      <td>South America</td>\n",
       "    </tr>\n",
       "    <tr>\n",
       "      <th>3</th>\n",
       "      <td>United Kingdom</td>\n",
       "      <td>4166727</td>\n",
       "      <td>122303</td>\n",
       "      <td>4156707</td>\n",
       "      <td>121979</td>\n",
       "      <td>10020</td>\n",
       "      <td>324</td>\n",
       "      <td>2.94</td>\n",
       "      <td>Europe</td>\n",
       "    </tr>\n",
       "    <tr>\n",
       "      <th>4</th>\n",
       "      <td>Russia</td>\n",
       "      <td>4164802</td>\n",
       "      <td>83481</td>\n",
       "      <td>4153735</td>\n",
       "      <td>83044</td>\n",
       "      <td>11067</td>\n",
       "      <td>437</td>\n",
       "      <td>2.00</td>\n",
       "      <td>Europe</td>\n",
       "    </tr>\n",
       "  </tbody>\n",
       "</table>\n",
       "</div>"
      ],
      "text/plain": [
       "   Country/Region     Cases  Deaths    PCases  PDeaths  Cases (+)  Deaths (+)  \\\n",
       "0              US  28413388  508307  28336097   505890      77291        2417   \n",
       "1           India  11063491  156825  11046914   156705      16577         120   \n",
       "2          Brazil  10390461  251498  10324463   249957      65998        1541   \n",
       "3  United Kingdom   4166727  122303   4156707   121979      10020         324   \n",
       "4          Russia   4164802   83481   4153735    83044      11067         437   \n",
       "\n",
       "   Fatality Rate      Continent  \n",
       "0           1.79  North America  \n",
       "1           1.42           Asia  \n",
       "2           2.42  South America  \n",
       "3           2.94         Europe  \n",
       "4           2.00         Europe  "
      ]
     },
     "execution_count": 13,
     "metadata": {},
     "output_type": "execute_result"
    }
   ],
   "source": [
    "#hide\n",
    "for c in 'Cases, Deaths'.split(', '):\n",
    "    df_table[f'{c} (+)'] = (df_table[c] - df_table[f'P{c}']).clip(0)\n",
    "    #Clip ça veut dire, les chiffres negatif sont interdit\n",
    "df_table['Fatality Rate'] = (100* df_table['Deaths']/ df_table['Cases']).round(2)\n",
    "df_table['Continent'] = df_table['Country/Region'].map(mapping['map.continent'])\n",
    "df_table.head(5)"
   ]
  },
  {
   "cell_type": "code",
   "execution_count": 14,
   "id": "aboriginal-bulgaria",
   "metadata": {
    "execution": {
     "iopub.execute_input": "2021-02-27T00:11:10.890171Z",
     "iopub.status.busy": "2021-02-27T00:11:10.889146Z",
     "iopub.status.idle": "2021-02-27T00:11:10.891205Z",
     "shell.execute_reply": "2021-02-27T00:11:10.891695Z"
    },
    "papermill": {
     "duration": 0.044436,
     "end_time": "2021-02-27T00:11:10.891830",
     "exception": false,
     "start_time": "2021-02-27T00:11:10.847394",
     "status": "completed"
    },
    "tags": []
   },
   "outputs": [],
   "source": [
    "#hide\n",
    "#delete problematic countries from table\n",
    "df_table = df_table[~df_table['Country/Region'].isin(['Cape Verde', 'Cruise Ship', 'Kosovo'])]"
   ]
  },
  {
   "cell_type": "code",
   "execution_count": 15,
   "id": "fantastic-effect",
   "metadata": {
    "execution": {
     "iopub.execute_input": "2021-02-27T00:11:10.968815Z",
     "iopub.status.busy": "2021-02-27T00:11:10.968233Z",
     "iopub.status.idle": "2021-02-27T00:11:10.986054Z",
     "shell.execute_reply": "2021-02-27T00:11:10.986741Z"
    },
    "papermill": {
     "duration": 0.06144,
     "end_time": "2021-02-27T00:11:10.986924",
     "exception": false,
     "start_time": "2021-02-27T00:11:10.925484",
     "status": "completed"
    },
    "tags": []
   },
   "outputs": [
    {
     "data": {
      "text/html": [
       "<div>\n",
       "<style scoped>\n",
       "    .dataframe tbody tr th:only-of-type {\n",
       "        vertical-align: middle;\n",
       "    }\n",
       "\n",
       "    .dataframe tbody tr th {\n",
       "        vertical-align: top;\n",
       "    }\n",
       "\n",
       "    .dataframe thead th {\n",
       "        text-align: right;\n",
       "    }\n",
       "</style>\n",
       "<table border=\"1\" class=\"dataframe\">\n",
       "  <thead>\n",
       "    <tr style=\"text-align: right;\">\n",
       "      <th></th>\n",
       "      <th>Country/Region</th>\n",
       "      <th>Cases</th>\n",
       "      <th>Deaths</th>\n",
       "      <th>PCases</th>\n",
       "      <th>PDeaths</th>\n",
       "      <th>Cases (+)</th>\n",
       "      <th>Deaths (+)</th>\n",
       "      <th>Fatality Rate</th>\n",
       "      <th>Continent</th>\n",
       "    </tr>\n",
       "  </thead>\n",
       "  <tbody>\n",
       "    <tr>\n",
       "      <th>0</th>\n",
       "      <td>US</td>\n",
       "      <td>28413388</td>\n",
       "      <td>508307</td>\n",
       "      <td>28336097</td>\n",
       "      <td>505890</td>\n",
       "      <td>77291</td>\n",
       "      <td>2417</td>\n",
       "      <td>1.8</td>\n",
       "      <td>North America</td>\n",
       "    </tr>\n",
       "    <tr>\n",
       "      <th>1</th>\n",
       "      <td>India</td>\n",
       "      <td>11063491</td>\n",
       "      <td>156825</td>\n",
       "      <td>11046914</td>\n",
       "      <td>156705</td>\n",
       "      <td>16577</td>\n",
       "      <td>120</td>\n",
       "      <td>1.4</td>\n",
       "      <td>Asia</td>\n",
       "    </tr>\n",
       "    <tr>\n",
       "      <th>2</th>\n",
       "      <td>Brazil</td>\n",
       "      <td>10390461</td>\n",
       "      <td>251498</td>\n",
       "      <td>10324463</td>\n",
       "      <td>249957</td>\n",
       "      <td>65998</td>\n",
       "      <td>1541</td>\n",
       "      <td>2.4</td>\n",
       "      <td>South America</td>\n",
       "    </tr>\n",
       "    <tr>\n",
       "      <th>3</th>\n",
       "      <td>United Kingdom</td>\n",
       "      <td>4166727</td>\n",
       "      <td>122303</td>\n",
       "      <td>4156707</td>\n",
       "      <td>121979</td>\n",
       "      <td>10020</td>\n",
       "      <td>324</td>\n",
       "      <td>2.9</td>\n",
       "      <td>Europe</td>\n",
       "    </tr>\n",
       "    <tr>\n",
       "      <th>4</th>\n",
       "      <td>Russia</td>\n",
       "      <td>4164802</td>\n",
       "      <td>83481</td>\n",
       "      <td>4153735</td>\n",
       "      <td>83044</td>\n",
       "      <td>11067</td>\n",
       "      <td>437</td>\n",
       "      <td>2.0</td>\n",
       "      <td>Europe</td>\n",
       "    </tr>\n",
       "  </tbody>\n",
       "</table>\n",
       "</div>"
      ],
      "text/plain": [
       "   Country/Region     Cases  Deaths    PCases  PDeaths  Cases (+)  Deaths (+)  \\\n",
       "0              US  28413388  508307  28336097   505890      77291        2417   \n",
       "1           India  11063491  156825  11046914   156705      16577         120   \n",
       "2          Brazil  10390461  251498  10324463   249957      65998        1541   \n",
       "3  United Kingdom   4166727  122303   4156707   121979      10020         324   \n",
       "4          Russia   4164802   83481   4153735    83044      11067         437   \n",
       "\n",
       "   Fatality Rate      Continent  \n",
       "0            1.8  North America  \n",
       "1            1.4           Asia  \n",
       "2            2.4  South America  \n",
       "3            2.9         Europe  \n",
       "4            2.0         Europe  "
      ]
     },
     "execution_count": 15,
     "metadata": {},
     "output_type": "execute_result"
    }
   ],
   "source": [
    "#hide\n",
    "df_table = (pd.DataFrame(dict(Cases=dfc_cases, Deaths=dfc_deaths, PCases=dfp_cases, PDeaths=dfp_deaths))\n",
    "             .sort_values(by=['Cases', 'Deaths'], ascending=[False, False])\n",
    "             .reset_index())\n",
    "df_table.rename(columns={'index': 'Country/Region'}, inplace=True)\n",
    "for c in 'Cases, Deaths'.split(', '):\n",
    "    df_table[f'{c} (+)'] = (df_table[c] - df_table[f'P{c}']).clip(0)  # DATA BUG\n",
    "df_table['Fatality Rate'] = (100 * df_table['Deaths'] / df_table['Cases']).round(1)\n",
    "df_table['Continent'] = df_table['Country/Region'].map(mapping['map.continent'])\n",
    "df_table.head(5)"
   ]
  },
  {
   "cell_type": "code",
   "execution_count": 16,
   "id": "fewer-occasion",
   "metadata": {
    "execution": {
     "iopub.execute_input": "2021-02-27T00:11:11.065883Z",
     "iopub.status.busy": "2021-02-27T00:11:11.065292Z",
     "iopub.status.idle": "2021-02-27T00:11:11.067066Z",
     "shell.execute_reply": "2021-02-27T00:11:11.067596Z"
    },
    "papermill": {
     "duration": 0.045063,
     "end_time": "2021-02-27T00:11:11.067737",
     "exception": false,
     "start_time": "2021-02-27T00:11:11.022674",
     "status": "completed"
    },
    "tags": []
   },
   "outputs": [],
   "source": [
    "#hide\n",
    "#delete problematic countries from table\n",
    "df_table = df_table[~df_table['Country/Region'].isin(['Cape Verde', 'Cruise Ship', 'Kosovo'])]"
   ]
  },
  {
   "cell_type": "code",
   "execution_count": 17,
   "id": "related-center",
   "metadata": {
    "execution": {
     "iopub.execute_input": "2021-02-27T00:11:11.146635Z",
     "iopub.status.busy": "2021-02-27T00:11:11.145989Z",
     "iopub.status.idle": "2021-02-27T00:11:11.160568Z",
     "shell.execute_reply": "2021-02-27T00:11:11.160086Z"
    },
    "papermill": {
     "duration": 0.059055,
     "end_time": "2021-02-27T00:11:11.160696",
     "exception": false,
     "start_time": "2021-02-27T00:11:11.101641",
     "status": "completed"
    },
    "tags": []
   },
   "outputs": [],
   "source": [
    "#hide\n",
    "metrics = [df_table.columns[index] for index in [1,2,5,6]]\n",
    "# s_china = df_table[df_table['Country/Region'].eq('China')][metrics].sum().add_prefix('China ')\n",
    "s_us = df_table[df_table['Country/Region'].eq('US')][metrics].sum().add_prefix('US ')\n",
    "s_eu = df_table[df_table['Continent'].eq('Europe')][metrics].sum().add_prefix('EU ')\n",
    "s_ind = df_table[df_table['Country/Region'].eq('India')][metrics].sum().add_prefix('India ')\n",
    "summary = {'updated': pd.to_datetime(dt_today), 'since': pd.to_datetime(dt_yday)}\n",
    "summary = {'updated': pd.to_datetime(dt_today), 'since': pd.to_datetime(dt_yday)}\n",
    "summary = {**summary, **df_table[metrics].sum(), **s_ind, **s_us, **s_eu}"
   ]
  },
  {
   "cell_type": "code",
   "execution_count": 18,
   "id": "engaging-syndrome",
   "metadata": {
    "execution": {
     "iopub.execute_input": "2021-02-27T00:11:11.234602Z",
     "iopub.status.busy": "2021-02-27T00:11:11.234056Z",
     "iopub.status.idle": "2021-02-27T00:11:11.246836Z",
     "shell.execute_reply": "2021-02-27T00:11:11.247322Z"
    },
    "papermill": {
     "duration": 0.052715,
     "end_time": "2021-02-27T00:11:11.247479",
     "exception": false,
     "start_time": "2021-02-27T00:11:11.194764",
     "status": "completed"
    },
    "tags": []
   },
   "outputs": [],
   "source": [
    "#hide\n",
    "dft_ct_new_cases = dft_cases.groupby(COL_REGION)[dt_cols].sum().diff(axis=1).fillna(0).astype(int)"
   ]
  },
  {
   "cell_type": "code",
   "execution_count": 19,
   "id": "neutral-assignment",
   "metadata": {
    "execution": {
     "iopub.execute_input": "2021-02-27T00:11:11.323274Z",
     "iopub.status.busy": "2021-02-27T00:11:11.322671Z",
     "iopub.status.idle": "2021-02-27T00:11:11.324812Z",
     "shell.execute_reply": "2021-02-27T00:11:11.325348Z"
    },
    "papermill": {
     "duration": 0.043761,
     "end_time": "2021-02-27T00:11:11.325486",
     "exception": false,
     "start_time": "2021-02-27T00:11:11.281725",
     "status": "completed"
    },
    "tags": []
   },
   "outputs": [],
   "source": [
    "#hide\n",
    "everydaycases = dft_ct_new_cases.cumsum(axis=1)"
   ]
  },
  {
   "cell_type": "code",
   "execution_count": 20,
   "id": "parliamentary-calgary",
   "metadata": {
    "execution": {
     "iopub.execute_input": "2021-02-27T00:11:11.400596Z",
     "iopub.status.busy": "2021-02-27T00:11:11.400002Z",
     "iopub.status.idle": "2021-02-27T00:11:12.078253Z",
     "shell.execute_reply": "2021-02-27T00:11:12.077616Z"
    },
    "papermill": {
     "duration": 0.718466,
     "end_time": "2021-02-27T00:11:12.078388",
     "exception": false,
     "start_time": "2021-02-27T00:11:11.359922",
     "status": "completed"
    },
    "tags": []
   },
   "outputs": [],
   "source": [
    "#hide\n",
    "import pandas as pd\n",
    "import matplotlib.pyplot as plt\n",
    "import matplotlib.ticker as ticker\n",
    "import matplotlib.animation as animation\n",
    "from IPython.display import HTML"
   ]
  },
  {
   "cell_type": "code",
   "execution_count": 21,
   "id": "lasting-extraction",
   "metadata": {
    "execution": {
     "iopub.execute_input": "2021-02-27T00:11:12.152465Z",
     "iopub.status.busy": "2021-02-27T00:11:12.151922Z",
     "iopub.status.idle": "2021-02-27T00:11:12.156679Z",
     "shell.execute_reply": "2021-02-27T00:11:12.157235Z"
    },
    "papermill": {
     "duration": 0.045024,
     "end_time": "2021-02-27T00:11:12.157372",
     "exception": false,
     "start_time": "2021-02-27T00:11:12.112348",
     "status": "completed"
    },
    "tags": []
   },
   "outputs": [],
   "source": [
    "#hide\n",
    "t = everydaycases.stack()"
   ]
  },
  {
   "cell_type": "code",
   "execution_count": 22,
   "id": "premier-sleeve",
   "metadata": {
    "execution": {
     "iopub.execute_input": "2021-02-27T00:11:12.231529Z",
     "iopub.status.busy": "2021-02-27T00:11:12.230919Z",
     "iopub.status.idle": "2021-02-27T00:11:12.238109Z",
     "shell.execute_reply": "2021-02-27T00:11:12.238606Z"
    },
    "papermill": {
     "duration": 0.04742,
     "end_time": "2021-02-27T00:11:12.238746",
     "exception": false,
     "start_time": "2021-02-27T00:11:12.191326",
     "status": "completed"
    },
    "tags": []
   },
   "outputs": [],
   "source": [
    "#hide\n",
    "g = t.reset_index(['Country/Region'])"
   ]
  },
  {
   "cell_type": "code",
   "execution_count": 23,
   "id": "distributed-pittsburgh",
   "metadata": {
    "execution": {
     "iopub.execute_input": "2021-02-27T00:11:12.312077Z",
     "iopub.status.busy": "2021-02-27T00:11:12.311495Z",
     "iopub.status.idle": "2021-02-27T00:11:12.313823Z",
     "shell.execute_reply": "2021-02-27T00:11:12.313322Z"
    },
    "papermill": {
     "duration": 0.041109,
     "end_time": "2021-02-27T00:11:12.313943",
     "exception": false,
     "start_time": "2021-02-27T00:11:12.272834",
     "status": "completed"
    },
    "tags": []
   },
   "outputs": [],
   "source": [
    "#hide\n",
    "g.index.name = 'date'"
   ]
  },
  {
   "cell_type": "code",
   "execution_count": 24,
   "id": "naked-donor",
   "metadata": {
    "execution": {
     "iopub.execute_input": "2021-02-27T00:11:12.387333Z",
     "iopub.status.busy": "2021-02-27T00:11:12.386729Z",
     "iopub.status.idle": "2021-02-27T00:11:12.389064Z",
     "shell.execute_reply": "2021-02-27T00:11:12.389619Z"
    },
    "papermill": {
     "duration": 0.041501,
     "end_time": "2021-02-27T00:11:12.389761",
     "exception": false,
     "start_time": "2021-02-27T00:11:12.348260",
     "status": "completed"
    },
    "tags": []
   },
   "outputs": [],
   "source": [
    "# #hide\n",
    "# g = g.reset_index(['date'])"
   ]
  },
  {
   "cell_type": "code",
   "execution_count": 25,
   "id": "incomplete-mustang",
   "metadata": {
    "execution": {
     "iopub.execute_input": "2021-02-27T00:11:12.462902Z",
     "iopub.status.busy": "2021-02-27T00:11:12.462321Z",
     "iopub.status.idle": "2021-02-27T00:11:12.464957Z",
     "shell.execute_reply": "2021-02-27T00:11:12.464479Z"
    },
    "papermill": {
     "duration": 0.04124,
     "end_time": "2021-02-27T00:11:12.465079",
     "exception": false,
     "start_time": "2021-02-27T00:11:12.423839",
     "status": "completed"
    },
    "tags": []
   },
   "outputs": [],
   "source": [
    "#hide\n",
    "# g.head()"
   ]
  },
  {
   "cell_type": "code",
   "execution_count": 26,
   "id": "specific-kruger",
   "metadata": {
    "execution": {
     "iopub.execute_input": "2021-02-27T00:11:12.537667Z",
     "iopub.status.busy": "2021-02-27T00:11:12.537081Z",
     "iopub.status.idle": "2021-02-27T00:11:12.539486Z",
     "shell.execute_reply": "2021-02-27T00:11:12.540040Z"
    },
    "papermill": {
     "duration": 0.041001,
     "end_time": "2021-02-27T00:11:12.540176",
     "exception": false,
     "start_time": "2021-02-27T00:11:12.499175",
     "status": "completed"
    },
    "tags": []
   },
   "outputs": [],
   "source": [
    "#hide\n",
    "# g.columns = ['date','country','cases']"
   ]
  },
  {
   "cell_type": "code",
   "execution_count": 27,
   "id": "tender-conversion",
   "metadata": {
    "execution": {
     "iopub.execute_input": "2021-02-27T00:11:12.612851Z",
     "iopub.status.busy": "2021-02-27T00:11:12.612276Z",
     "iopub.status.idle": "2021-02-27T00:11:12.614975Z",
     "shell.execute_reply": "2021-02-27T00:11:12.615555Z"
    },
    "papermill": {
     "duration": 0.041408,
     "end_time": "2021-02-27T00:11:12.615699",
     "exception": false,
     "start_time": "2021-02-27T00:11:12.574291",
     "status": "completed"
    },
    "tags": []
   },
   "outputs": [],
   "source": [
    "#hide\n",
    "# g['continent'] = g.country"
   ]
  },
  {
   "cell_type": "code",
   "execution_count": 28,
   "id": "substantial-wilderness",
   "metadata": {
    "execution": {
     "iopub.execute_input": "2021-02-27T00:11:12.687527Z",
     "iopub.status.busy": "2021-02-27T00:11:12.686960Z",
     "iopub.status.idle": "2021-02-27T00:11:12.689186Z",
     "shell.execute_reply": "2021-02-27T00:11:12.688614Z"
    },
    "papermill": {
     "duration": 0.040096,
     "end_time": "2021-02-27T00:11:12.689305",
     "exception": false,
     "start_time": "2021-02-27T00:11:12.649209",
     "status": "completed"
    },
    "tags": []
   },
   "outputs": [],
   "source": [
    "#hide\n",
    "# cols = list(g.columns.values)"
   ]
  },
  {
   "cell_type": "code",
   "execution_count": 29,
   "id": "solved-farming",
   "metadata": {
    "execution": {
     "iopub.execute_input": "2021-02-27T00:11:12.761539Z",
     "iopub.status.busy": "2021-02-27T00:11:12.760525Z",
     "iopub.status.idle": "2021-02-27T00:11:12.762614Z",
     "shell.execute_reply": "2021-02-27T00:11:12.763482Z"
    },
    "papermill": {
     "duration": 0.04098,
     "end_time": "2021-02-27T00:11:12.763708",
     "exception": false,
     "start_time": "2021-02-27T00:11:12.722728",
     "status": "completed"
    },
    "tags": []
   },
   "outputs": [],
   "source": [
    "#hide\n",
    "# cols.insert(0, cols.pop())"
   ]
  },
  {
   "cell_type": "code",
   "execution_count": 30,
   "id": "executed-adoption",
   "metadata": {
    "execution": {
     "iopub.execute_input": "2021-02-27T00:11:12.837538Z",
     "iopub.status.busy": "2021-02-27T00:11:12.836931Z",
     "iopub.status.idle": "2021-02-27T00:11:12.838925Z",
     "shell.execute_reply": "2021-02-27T00:11:12.839390Z"
    },
    "papermill": {
     "duration": 0.040693,
     "end_time": "2021-02-27T00:11:12.839537",
     "exception": false,
     "start_time": "2021-02-27T00:11:12.798844",
     "status": "completed"
    },
    "tags": []
   },
   "outputs": [],
   "source": [
    "#hide\n",
    "# g = g[cols]"
   ]
  },
  {
   "cell_type": "code",
   "execution_count": 31,
   "id": "subject-dublin",
   "metadata": {
    "execution": {
     "iopub.execute_input": "2021-02-27T00:11:12.912387Z",
     "iopub.status.busy": "2021-02-27T00:11:12.911798Z",
     "iopub.status.idle": "2021-02-27T00:11:12.914261Z",
     "shell.execute_reply": "2021-02-27T00:11:12.914758Z"
    },
    "papermill": {
     "duration": 0.041602,
     "end_time": "2021-02-27T00:11:12.914899",
     "exception": false,
     "start_time": "2021-02-27T00:11:12.873297",
     "status": "completed"
    },
    "tags": []
   },
   "outputs": [],
   "source": [
    "#hide\n",
    "# g['continent'] = g['continent'].map(mapping['map.continent'])"
   ]
  },
  {
   "cell_type": "code",
   "execution_count": 32,
   "id": "freelance-scout",
   "metadata": {
    "execution": {
     "iopub.execute_input": "2021-02-27T00:11:12.987541Z",
     "iopub.status.busy": "2021-02-27T00:11:12.986929Z",
     "iopub.status.idle": "2021-02-27T00:11:12.989486Z",
     "shell.execute_reply": "2021-02-27T00:11:12.989990Z"
    },
    "papermill": {
     "duration": 0.04108,
     "end_time": "2021-02-27T00:11:12.990134",
     "exception": false,
     "start_time": "2021-02-27T00:11:12.949054",
     "status": "completed"
    },
    "tags": []
   },
   "outputs": [],
   "source": [
    "#hide\n",
    "# g.head()"
   ]
  },
  {
   "cell_type": "code",
   "execution_count": 33,
   "id": "limited-engine",
   "metadata": {
    "execution": {
     "iopub.execute_input": "2021-02-27T00:11:13.062385Z",
     "iopub.status.busy": "2021-02-27T00:11:13.061784Z",
     "iopub.status.idle": "2021-02-27T00:11:13.064096Z",
     "shell.execute_reply": "2021-02-27T00:11:13.063617Z"
    },
    "papermill": {
     "duration": 0.040184,
     "end_time": "2021-02-27T00:11:13.064219",
     "exception": false,
     "start_time": "2021-02-27T00:11:13.024035",
     "status": "completed"
    },
    "tags": []
   },
   "outputs": [],
   "source": [
    "# hide\n",
    "# g['date'] = g['date'].astype('datetime64[ns]')"
   ]
  },
  {
   "cell_type": "code",
   "execution_count": 34,
   "id": "sophisticated-supervisor",
   "metadata": {
    "execution": {
     "iopub.execute_input": "2021-02-27T00:11:13.137642Z",
     "iopub.status.busy": "2021-02-27T00:11:13.136625Z",
     "iopub.status.idle": "2021-02-27T00:11:13.138715Z",
     "shell.execute_reply": "2021-02-27T00:11:13.139562Z"
    },
    "papermill": {
     "duration": 0.041793,
     "end_time": "2021-02-27T00:11:13.139791",
     "exception": false,
     "start_time": "2021-02-27T00:11:13.097998",
     "status": "completed"
    },
    "tags": []
   },
   "outputs": [],
   "source": [
    "#hide\n",
    "# g['date'] = g.date.dt.dayofyear"
   ]
  },
  {
   "cell_type": "code",
   "execution_count": 35,
   "id": "inside-dubai",
   "metadata": {
    "execution": {
     "iopub.execute_input": "2021-02-27T00:11:13.212703Z",
     "iopub.status.busy": "2021-02-27T00:11:13.212122Z",
     "iopub.status.idle": "2021-02-27T00:11:13.213515Z",
     "shell.execute_reply": "2021-02-27T00:11:13.214006Z"
    },
    "papermill": {
     "duration": 0.040066,
     "end_time": "2021-02-27T00:11:13.214142",
     "exception": false,
     "start_time": "2021-02-27T00:11:13.174076",
     "status": "completed"
    },
    "tags": []
   },
   "outputs": [],
   "source": [
    "#hide\n",
    "# g = g.rename(columns= {'continent':'group','country':'name','cases':'value'})"
   ]
  },
  {
   "cell_type": "code",
   "execution_count": 36,
   "id": "fleet-motorcycle",
   "metadata": {
    "execution": {
     "iopub.execute_input": "2021-02-27T00:11:13.287049Z",
     "iopub.status.busy": "2021-02-27T00:11:13.286458Z",
     "iopub.status.idle": "2021-02-27T00:11:13.288904Z",
     "shell.execute_reply": "2021-02-27T00:11:13.289399Z"
    },
    "papermill": {
     "duration": 0.041319,
     "end_time": "2021-02-27T00:11:13.289541",
     "exception": false,
     "start_time": "2021-02-27T00:11:13.248222",
     "status": "completed"
    },
    "tags": []
   },
   "outputs": [],
   "source": [
    "#hide\n",
    "# cols = ['name','group','day','value']"
   ]
  },
  {
   "cell_type": "code",
   "execution_count": 37,
   "id": "continued-sleeping",
   "metadata": {
    "execution": {
     "iopub.execute_input": "2021-02-27T00:11:13.362175Z",
     "iopub.status.busy": "2021-02-27T00:11:13.361591Z",
     "iopub.status.idle": "2021-02-27T00:11:13.364380Z",
     "shell.execute_reply": "2021-02-27T00:11:13.364934Z"
    },
    "papermill": {
     "duration": 0.041557,
     "end_time": "2021-02-27T00:11:13.365074",
     "exception": false,
     "start_time": "2021-02-27T00:11:13.323517",
     "status": "completed"
    },
    "tags": []
   },
   "outputs": [],
   "source": [
    "#hide\n",
    "# g.rename(columns= {'date':'day'},inplace = True)"
   ]
  },
  {
   "cell_type": "code",
   "execution_count": 38,
   "id": "major-fight",
   "metadata": {
    "execution": {
     "iopub.execute_input": "2021-02-27T00:11:13.438140Z",
     "iopub.status.busy": "2021-02-27T00:11:13.437564Z",
     "iopub.status.idle": "2021-02-27T00:11:13.439843Z",
     "shell.execute_reply": "2021-02-27T00:11:13.440394Z"
    },
    "papermill": {
     "duration": 0.041145,
     "end_time": "2021-02-27T00:11:13.440531",
     "exception": false,
     "start_time": "2021-02-27T00:11:13.399386",
     "status": "completed"
    },
    "tags": []
   },
   "outputs": [],
   "source": [
    "#hide\n",
    "# g = g[cols]"
   ]
  },
  {
   "cell_type": "code",
   "execution_count": 39,
   "id": "structured-mobile",
   "metadata": {
    "execution": {
     "iopub.execute_input": "2021-02-27T00:11:13.513647Z",
     "iopub.status.busy": "2021-02-27T00:11:13.512616Z",
     "iopub.status.idle": "2021-02-27T00:11:13.514721Z",
     "shell.execute_reply": "2021-02-27T00:11:13.515570Z"
    },
    "papermill": {
     "duration": 0.041769,
     "end_time": "2021-02-27T00:11:13.515762",
     "exception": false,
     "start_time": "2021-02-27T00:11:13.473993",
     "status": "completed"
    },
    "tags": []
   },
   "outputs": [],
   "source": [
    "# #hide\n",
    "# g = g[g.group.notna()]"
   ]
  },
  {
   "cell_type": "code",
   "execution_count": 40,
   "id": "determined-closing",
   "metadata": {
    "execution": {
     "iopub.execute_input": "2021-02-27T00:11:13.588551Z",
     "iopub.status.busy": "2021-02-27T00:11:13.587945Z",
     "iopub.status.idle": "2021-02-27T00:11:13.590260Z",
     "shell.execute_reply": "2021-02-27T00:11:13.589760Z"
    },
    "papermill": {
     "duration": 0.040821,
     "end_time": "2021-02-27T00:11:13.590378",
     "exception": false,
     "start_time": "2021-02-27T00:11:13.549557",
     "status": "completed"
    },
    "tags": []
   },
   "outputs": [],
   "source": [
    "# #hide\n",
    "# colors = dict(zip(\n",
    "#     [\"Oceania\", \"Europe\", \"Asia\", \"South America\", \"Middle East\", \"North America\", \"Africa\"],\n",
    "#     [\"#adb0ff\", \"#ffb3ff\", \"#90d595\", \"#e48381\", \"#aafbff\", \"#f7bb5f\", \"#eafb50\"]\n",
    "# ))\n",
    "# group_lk = g.set_index('name')['group'].to_dict()"
   ]
  },
  {
   "cell_type": "code",
   "execution_count": null,
   "id": "gross-drinking",
   "metadata": {
    "papermill": {
     "duration": 0.033728,
     "end_time": "2021-02-27T00:11:13.657773",
     "exception": false,
     "start_time": "2021-02-27T00:11:13.624045",
     "status": "completed"
    },
    "tags": []
   },
   "outputs": [],
   "source": []
  },
  {
   "cell_type": "code",
   "execution_count": 41,
   "id": "subject-macintosh",
   "metadata": {
    "execution": {
     "iopub.execute_input": "2021-02-27T00:11:13.731811Z",
     "iopub.status.busy": "2021-02-27T00:11:13.731173Z",
     "iopub.status.idle": "2021-02-27T00:11:13.733407Z",
     "shell.execute_reply": "2021-02-27T00:11:13.732906Z"
    },
    "papermill": {
     "duration": 0.04214,
     "end_time": "2021-02-27T00:11:13.733526",
     "exception": false,
     "start_time": "2021-02-27T00:11:13.691386",
     "status": "completed"
    },
    "tags": []
   },
   "outputs": [],
   "source": [
    "# #hide\n",
    "# fig, ax = plt.subplots(figsize=(15, 8))\n",
    "\n",
    "# def draw_barchart(current_day):\n",
    "#     dff = g[g['day'].eq(current_day)].sort_values(by='value', ascending=True).tail(10)\n",
    "#     ax.clear()\n",
    "#     ax.barh(dff['name'], dff['value'], color=[colors[group_lk[x]] for x in dff['name']])\n",
    "#     dx = dff['value'].max() / 200\n",
    "    \n",
    "#     for i, (value, name) in enumerate(zip(dff['value'], dff['name'])):\n",
    "#         ax.text(value-dx, i,     name,           size=14, weight=600, ha='right', va='bottom')\n",
    "#         ax.text(value-dx, i-.25, group_lk[name], size=10, color='#444444', ha='right', va='baseline')\n",
    "#         ax.text(value+dx, i,     f'{value:,.0f}',  size=14, ha='left',  va='center')\n",
    "#     ax.text(1, 0.4, current_day, transform=ax.transAxes, color='#777777', size=46, ha='right', weight=800)\n",
    "#     ax.text(0, 1.06, 'Population (thousands)', transform=ax.transAxes, size=12, color='#777777')\n",
    "#     ax.xaxis.set_major_formatter(ticker.StrMethodFormatter('{x:,.0f}'))\n",
    "#     ax.xaxis.set_ticks_position('top')\n",
    "#     ax.tick_params(axis='x', colors='#777777', labelsize=12)\n",
    "#     ax.set_yticks([])\n",
    "#     ax.margins(0, 0.01)\n",
    "#     ax.grid(which='major', axis='x', linestyle='-')\n",
    "#     ax.set_axisbelow(True)\n",
    "    \n",
    "#     ax.text(0, 1.15, 'Coronavirus',\n",
    "#             transform=ax.transAxes, size=24, weight=600, ha='left', va='top')\n",
    "# #     ax.text(1, 0, 'by @pratapvardhan; credit @jburnmurdoch', transform=ax.transAxes, color='#777777', ha='right',\n",
    "# #             bbox=dict(facecolor='white', alpha=0.8, edgecolor='white'))\n",
    "#     plt.box(False)"
   ]
  },
  {
   "cell_type": "code",
   "execution_count": 42,
   "id": "sexual-wages",
   "metadata": {
    "execution": {
     "iopub.execute_input": "2021-02-27T00:11:13.805680Z",
     "iopub.status.busy": "2021-02-27T00:11:13.805095Z",
     "iopub.status.idle": "2021-02-27T00:11:13.809002Z",
     "shell.execute_reply": "2021-02-27T00:11:13.809565Z"
    },
    "papermill": {
     "duration": 0.042243,
     "end_time": "2021-02-27T00:11:13.809701",
     "exception": false,
     "start_time": "2021-02-27T00:11:13.767458",
     "status": "completed"
    },
    "tags": []
   },
   "outputs": [],
   "source": [
    "# #hide_input\n",
    "# fig, ax = plt.subplots(figsize=(15, 8))\n",
    "# animator = animation.FuncAnimation(fig, draw_barchart, frames=range(g.day.values.min(), g.day.values.max()))\n",
    "# HTML(animator.to_jshtml())\n",
    "# # or use animator.to_html5_video() or animator.save() "
   ]
  },
  {
   "cell_type": "code",
   "execution_count": null,
   "id": "australian-container",
   "metadata": {
    "papermill": {
     "duration": 0.033922,
     "end_time": "2021-02-27T00:11:13.877654",
     "exception": false,
     "start_time": "2021-02-27T00:11:13.843732",
     "status": "completed"
    },
    "tags": []
   },
   "outputs": [],
   "source": []
  },
  {
   "cell_type": "code",
   "execution_count": null,
   "id": "mediterranean-pontiac",
   "metadata": {
    "papermill": {
     "duration": 0.034065,
     "end_time": "2021-02-27T00:11:13.945813",
     "exception": false,
     "start_time": "2021-02-27T00:11:13.911748",
     "status": "completed"
    },
    "tags": []
   },
   "outputs": [],
   "source": []
  },
  {
   "cell_type": "code",
   "execution_count": null,
   "id": "aging-legislature",
   "metadata": {
    "papermill": {
     "duration": 0.034003,
     "end_time": "2021-02-27T00:11:14.014107",
     "exception": false,
     "start_time": "2021-02-27T00:11:13.980104",
     "status": "completed"
    },
    "tags": []
   },
   "outputs": [],
   "source": []
  }
 ],
 "metadata": {
  "kernelspec": {
   "display_name": "Python 3",
   "language": "python",
   "name": "python3"
  },
  "language_info": {
   "codemirror_mode": {
    "name": "ipython",
    "version": 3
   },
   "file_extension": ".py",
   "mimetype": "text/x-python",
   "name": "python",
   "nbconvert_exporter": "python",
   "pygments_lexer": "ipython3",
   "version": "3.6.13"
  },
  "papermill": {
   "duration": 6.662282,
   "end_time": "2021-02-27T00:11:14.456751",
   "environment_variables": {},
   "exception": null,
   "input_path": "2020-03-21-covid19exp.ipynb",
   "output_path": "2020-03-21-covid19exp.ipynb",
   "parameters": {},
   "start_time": "2021-02-27T00:11:07.794469",
   "version": "2.0.0"
  }
 },
 "nbformat": 4,
 "nbformat_minor": 5
}