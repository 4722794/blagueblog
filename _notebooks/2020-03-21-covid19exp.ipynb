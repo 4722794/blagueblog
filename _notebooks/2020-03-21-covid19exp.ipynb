{
 "cells": [
  {
   "cell_type": "markdown",
   "id": "muslim-click",
   "metadata": {
    "papermill": {
     "duration": 0.034658,
     "end_time": "2022-08-09T12:18:05.929656",
     "exception": false,
     "start_time": "2022-08-09T12:18:05.894998",
     "status": "completed"
    },
    "tags": []
   },
   "source": [
    "# COVID-19 Case Race\n",
    "> A race chart to see rising cases around the world\n",
    "\n",
    "- author: Hargun Oberoi\n",
    "- image: images/covid-overview.png\n",
    "- hide: false\n",
    "- badges: false"
   ]
  },
  {
   "cell_type": "code",
   "execution_count": 1,
   "id": "proof-material",
   "metadata": {
    "execution": {
     "iopub.execute_input": "2022-08-09T12:18:05.999106Z",
     "iopub.status.busy": "2022-08-09T12:18:05.998514Z",
     "iopub.status.idle": "2022-08-09T12:18:06.321789Z",
     "shell.execute_reply": "2022-08-09T12:18:06.321191Z"
    },
    "papermill": {
     "duration": 0.362426,
     "end_time": "2022-08-09T12:18:06.321941",
     "exception": false,
     "start_time": "2022-08-09T12:18:05.959515",
     "status": "completed"
    },
    "tags": []
   },
   "outputs": [],
   "source": [
    "#hide\n",
    "import numpy as np\n",
    "import pandas as pd\n",
    "from jinja2 import Template\n",
    "from IPython.display import HTML"
   ]
  },
  {
   "cell_type": "code",
   "execution_count": 2,
   "id": "developed-terminology",
   "metadata": {
    "execution": {
     "iopub.execute_input": "2022-08-09T12:18:06.386181Z",
     "iopub.status.busy": "2022-08-09T12:18:06.385570Z",
     "iopub.status.idle": "2022-08-09T12:18:06.387849Z",
     "shell.execute_reply": "2022-08-09T12:18:06.387273Z"
    },
    "papermill": {
     "duration": 0.036151,
     "end_time": "2022-08-09T12:18:06.387958",
     "exception": false,
     "start_time": "2022-08-09T12:18:06.351807",
     "status": "completed"
    },
    "tags": []
   },
   "outputs": [],
   "source": [
    "#hide\n",
    "\n",
    "# FETCH\n",
    "base_url = 'https://raw.githubusercontent.com/pratapvardhan/notebooks/master/covid19/'\n",
    "paths = {\n",
    "    'mapping': base_url + 'mapping_countries.csv',\n",
    "    'overview': base_url + 'overview.tpl'\n",
    "}"
   ]
  },
  {
   "cell_type": "code",
   "execution_count": 3,
   "id": "dynamic-saver",
   "metadata": {
    "execution": {
     "iopub.execute_input": "2022-08-09T12:18:06.455466Z",
     "iopub.status.busy": "2022-08-09T12:18:06.453203Z",
     "iopub.status.idle": "2022-08-09T12:18:06.458891Z",
     "shell.execute_reply": "2022-08-09T12:18:06.458329Z"
    },
    "papermill": {
     "duration": 0.042074,
     "end_time": "2022-08-09T12:18:06.458998",
     "exception": false,
     "start_time": "2022-08-09T12:18:06.416924",
     "status": "completed"
    },
    "tags": []
   },
   "outputs": [
    {
     "data": {
      "text/plain": [
       "'https://raw.githubusercontent.com/pratapvardhan/notebooks/master/covid19/mapping_countries.csv'"
      ]
     },
     "execution_count": 3,
     "metadata": {},
     "output_type": "execute_result"
    }
   ],
   "source": [
    "#hide\n",
    "paths['mapping']"
   ]
  },
  {
   "cell_type": "code",
   "execution_count": 4,
   "id": "urban-software",
   "metadata": {
    "execution": {
     "iopub.execute_input": "2022-08-09T12:18:06.523242Z",
     "iopub.status.busy": "2022-08-09T12:18:06.522569Z",
     "iopub.status.idle": "2022-08-09T12:18:06.525124Z",
     "shell.execute_reply": "2022-08-09T12:18:06.524455Z"
    },
    "papermill": {
     "duration": 0.036832,
     "end_time": "2022-08-09T12:18:06.525244",
     "exception": false,
     "start_time": "2022-08-09T12:18:06.488412",
     "status": "completed"
    },
    "tags": []
   },
   "outputs": [],
   "source": [
    "#hide\n",
    "def get_mappings(url):\n",
    "    df = pd.read_csv(url)\n",
    "    return {\n",
    "        'df': df,\n",
    "        'replace.country': dict(df.dropna(subset=['Name']).set_index('Country')['Name']),\n",
    "        'map.continent': dict(df.set_index('Name')['Continent'])\n",
    "    }"
   ]
  },
  {
   "cell_type": "code",
   "execution_count": 5,
   "id": "intimate-machinery",
   "metadata": {
    "execution": {
     "iopub.execute_input": "2022-08-09T12:18:06.589519Z",
     "iopub.status.busy": "2022-08-09T12:18:06.588925Z",
     "iopub.status.idle": "2022-08-09T12:18:06.619201Z",
     "shell.execute_reply": "2022-08-09T12:18:06.618660Z"
    },
    "papermill": {
     "duration": 0.064518,
     "end_time": "2022-08-09T12:18:06.619325",
     "exception": false,
     "start_time": "2022-08-09T12:18:06.554807",
     "status": "completed"
    },
    "tags": []
   },
   "outputs": [],
   "source": [
    "#hide\n",
    "mapping = get_mappings(paths['mapping'])"
   ]
  },
  {
   "cell_type": "code",
   "execution_count": 6,
   "id": "certified-tactics",
   "metadata": {
    "execution": {
     "iopub.execute_input": "2022-08-09T12:18:06.682880Z",
     "iopub.status.busy": "2022-08-09T12:18:06.682304Z",
     "iopub.status.idle": "2022-08-09T12:18:06.684513Z",
     "shell.execute_reply": "2022-08-09T12:18:06.685093Z"
    },
    "papermill": {
     "duration": 0.036392,
     "end_time": "2022-08-09T12:18:06.685213",
     "exception": false,
     "start_time": "2022-08-09T12:18:06.648821",
     "status": "completed"
    },
    "tags": []
   },
   "outputs": [],
   "source": [
    "#hide\n",
    "def get_template(path):\n",
    "    from urllib.parse import urlparse\n",
    "    if bool(urlparse(path).netloc):\n",
    "        from urllib.request import urlopen\n",
    "        return urlopen(path).read().decode('utf8')\n",
    "    return open(path).read()"
   ]
  },
  {
   "cell_type": "code",
   "execution_count": 7,
   "id": "realistic-blast",
   "metadata": {
    "execution": {
     "iopub.execute_input": "2022-08-09T12:18:06.748157Z",
     "iopub.status.busy": "2022-08-09T12:18:06.747580Z",
     "iopub.status.idle": "2022-08-09T12:18:06.749600Z",
     "shell.execute_reply": "2022-08-09T12:18:06.750149Z"
    },
    "papermill": {
     "duration": 0.036015,
     "end_time": "2022-08-09T12:18:06.750265",
     "exception": false,
     "start_time": "2022-08-09T12:18:06.714250",
     "status": "completed"
    },
    "tags": []
   },
   "outputs": [],
   "source": [
    "#hide\n",
    "def get_frame(name):\n",
    "    url = (\n",
    "        'https://raw.githubusercontent.com/CSSEGISandData/COVID-19/master/csse_covid_19_data/'\n",
    "        f'csse_covid_19_time_series/time_series_covid19_{name}_global.csv')\n",
    "    df = pd.read_csv(url)\n",
    "    # rename countries\n",
    "    df['Country/Region'] = df['Country/Region'].replace(mapping['replace.country'])\n",
    "    return df"
   ]
  },
  {
   "cell_type": "code",
   "execution_count": 8,
   "id": "affiliated-characterization",
   "metadata": {
    "execution": {
     "iopub.execute_input": "2022-08-09T12:18:06.814544Z",
     "iopub.status.busy": "2022-08-09T12:18:06.813966Z",
     "iopub.status.idle": "2022-08-09T12:18:06.816071Z",
     "shell.execute_reply": "2022-08-09T12:18:06.816518Z"
    },
    "papermill": {
     "duration": 0.037018,
     "end_time": "2022-08-09T12:18:06.816636",
     "exception": false,
     "start_time": "2022-08-09T12:18:06.779618",
     "status": "completed"
    },
    "tags": []
   },
   "outputs": [],
   "source": [
    "#hide\n",
    "def get_dates(df):\n",
    "    dt_cols = df.columns[~df.columns.isin(['Province/State', 'Country/Region', 'Lat', 'Long'])]\n",
    "    LAST_DATE_I = -1\n",
    "    # sometimes last column may be empty, then go backwards\n",
    "    for i in range(-1, -len(dt_cols), -1):\n",
    "        if not df[dt_cols[i]].fillna(0).eq(0).all():\n",
    "            LAST_DATE_I = i\n",
    "            break\n",
    "    return LAST_DATE_I, dt_cols"
   ]
  },
  {
   "cell_type": "code",
   "execution_count": 9,
   "id": "recent-optimization",
   "metadata": {
    "execution": {
     "iopub.execute_input": "2022-08-09T12:18:06.879519Z",
     "iopub.status.busy": "2022-08-09T12:18:06.878924Z",
     "iopub.status.idle": "2022-08-09T12:18:07.272337Z",
     "shell.execute_reply": "2022-08-09T12:18:07.271713Z"
    },
    "papermill": {
     "duration": 0.426593,
     "end_time": "2022-08-09T12:18:07.272459",
     "exception": false,
     "start_time": "2022-08-09T12:18:06.845866",
     "status": "completed"
    },
    "tags": []
   },
   "outputs": [],
   "source": [
    "#hide\n",
    "COL_REGION = 'Country/Region'\n",
    "# Confirmed, Recovered, Deaths\n",
    "df = get_frame('confirmed')\n",
    "# dft_: timeseries, dfc_: today country agg\n",
    "dft_cases = df\n",
    "dft_deaths = get_frame('deaths')\n",
    "dft_recovered = get_frame('recovered')\n",
    "LAST_DATE_I, dt_cols = get_dates(df)"
   ]
  },
  {
   "cell_type": "code",
   "execution_count": 10,
   "id": "absolute-copper",
   "metadata": {
    "execution": {
     "iopub.execute_input": "2022-08-09T12:18:07.337165Z",
     "iopub.status.busy": "2022-08-09T12:18:07.336547Z",
     "iopub.status.idle": "2022-08-09T12:18:07.338875Z",
     "shell.execute_reply": "2022-08-09T12:18:07.339426Z"
    },
    "papermill": {
     "duration": 0.037177,
     "end_time": "2022-08-09T12:18:07.339546",
     "exception": false,
     "start_time": "2022-08-09T12:18:07.302369",
     "status": "completed"
    },
    "tags": []
   },
   "outputs": [],
   "source": [
    "#hide\n",
    "LAST_DATE_I, dt_cols = get_dates(df)\n",
    "dt_today =dt_cols[LAST_DATE_I]\n",
    "# dt_5day = dt_cols[LAST_DATE_I - 5]\n",
    "dt_yday = dt_cols[LAST_DATE_I - 1]"
   ]
  },
  {
   "cell_type": "code",
   "execution_count": 11,
   "id": "restricted-sheriff",
   "metadata": {
    "execution": {
     "iopub.execute_input": "2022-08-09T12:18:07.403263Z",
     "iopub.status.busy": "2022-08-09T12:18:07.402691Z",
     "iopub.status.idle": "2022-08-09T12:18:07.410393Z",
     "shell.execute_reply": "2022-08-09T12:18:07.409930Z"
    },
    "papermill": {
     "duration": 0.041676,
     "end_time": "2022-08-09T12:18:07.410498",
     "exception": false,
     "start_time": "2022-08-09T12:18:07.368822",
     "status": "completed"
    },
    "tags": []
   },
   "outputs": [],
   "source": [
    "#hide\n",
    "dfc_cases = dft_cases.groupby(COL_REGION)[dt_today].sum()\n",
    "dfc_deaths = dft_deaths.groupby(COL_REGION)[dt_today].sum()\n",
    "# dfp_cases = dft_cases.groupby(COL_REGION)[dt_5day].sum()\n",
    "# dfp_deaths = dft_deaths.groupby(COL_REGION)[dt_5day].sum()\n",
    "dfp_cases = dft_cases.groupby(COL_REGION)[dt_yday].sum()\n",
    "dfp_deaths = dft_deaths.groupby(COL_REGION)[dt_yday].sum()"
   ]
  },
  {
   "cell_type": "code",
   "execution_count": 12,
   "id": "deluxe-hepatitis",
   "metadata": {
    "execution": {
     "iopub.execute_input": "2022-08-09T12:18:07.474829Z",
     "iopub.status.busy": "2022-08-09T12:18:07.474262Z",
     "iopub.status.idle": "2022-08-09T12:18:07.478829Z",
     "shell.execute_reply": "2022-08-09T12:18:07.478365Z"
    },
    "papermill": {
     "duration": 0.039208,
     "end_time": "2022-08-09T12:18:07.478930",
     "exception": false,
     "start_time": "2022-08-09T12:18:07.439722",
     "status": "completed"
    },
    "tags": []
   },
   "outputs": [],
   "source": [
    "#hide\n",
    "df_table = (pd.DataFrame(dict(Cases = dfc_cases, Deaths = dfc_deaths, PCases = dfp_cases, PDeaths = dfp_deaths))\n",
    "            .sort_values(by = ['Cases','Deaths'], ascending = [False, False])\n",
    "            .reset_index())"
   ]
  },
  {
   "cell_type": "code",
   "execution_count": 13,
   "id": "educational-chancellor",
   "metadata": {
    "execution": {
     "iopub.execute_input": "2022-08-09T12:18:07.554846Z",
     "iopub.status.busy": "2022-08-09T12:18:07.554253Z",
     "iopub.status.idle": "2022-08-09T12:18:07.563336Z",
     "shell.execute_reply": "2022-08-09T12:18:07.562771Z"
    },
    "papermill": {
     "duration": 0.055446,
     "end_time": "2022-08-09T12:18:07.563444",
     "exception": false,
     "start_time": "2022-08-09T12:18:07.507998",
     "status": "completed"
    },
    "tags": []
   },
   "outputs": [
    {
     "data": {
      "text/html": [
       "<div>\n",
       "<style scoped>\n",
       "    .dataframe tbody tr th:only-of-type {\n",
       "        vertical-align: middle;\n",
       "    }\n",
       "\n",
       "    .dataframe tbody tr th {\n",
       "        vertical-align: top;\n",
       "    }\n",
       "\n",
       "    .dataframe thead th {\n",
       "        text-align: right;\n",
       "    }\n",
       "</style>\n",
       "<table border=\"1\" class=\"dataframe\">\n",
       "  <thead>\n",
       "    <tr style=\"text-align: right;\">\n",
       "      <th></th>\n",
       "      <th>Country/Region</th>\n",
       "      <th>Cases</th>\n",
       "      <th>Deaths</th>\n",
       "      <th>PCases</th>\n",
       "      <th>PDeaths</th>\n",
       "      <th>Cases (+)</th>\n",
       "      <th>Deaths (+)</th>\n",
       "      <th>Fatality Rate</th>\n",
       "      <th>Continent</th>\n",
       "    </tr>\n",
       "  </thead>\n",
       "  <tbody>\n",
       "    <tr>\n",
       "      <th>0</th>\n",
       "      <td>US</td>\n",
       "      <td>92241199</td>\n",
       "      <td>1034020</td>\n",
       "      <td>92112922</td>\n",
       "      <td>1033556</td>\n",
       "      <td>128277</td>\n",
       "      <td>464</td>\n",
       "      <td>1.12</td>\n",
       "      <td>North America</td>\n",
       "    </tr>\n",
       "    <tr>\n",
       "      <th>1</th>\n",
       "      <td>India</td>\n",
       "      <td>44174650</td>\n",
       "      <td>526772</td>\n",
       "      <td>44145709</td>\n",
       "      <td>526689</td>\n",
       "      <td>28941</td>\n",
       "      <td>83</td>\n",
       "      <td>1.19</td>\n",
       "      <td>Asia</td>\n",
       "    </tr>\n",
       "    <tr>\n",
       "      <th>2</th>\n",
       "      <td>France</td>\n",
       "      <td>34292342</td>\n",
       "      <td>153751</td>\n",
       "      <td>34237067</td>\n",
       "      <td>153577</td>\n",
       "      <td>55275</td>\n",
       "      <td>174</td>\n",
       "      <td>0.45</td>\n",
       "      <td>Europe</td>\n",
       "    </tr>\n",
       "    <tr>\n",
       "      <th>3</th>\n",
       "      <td>Brazil</td>\n",
       "      <td>34035780</td>\n",
       "      <td>680166</td>\n",
       "      <td>34018371</td>\n",
       "      <td>679996</td>\n",
       "      <td>17409</td>\n",
       "      <td>170</td>\n",
       "      <td>2.00</td>\n",
       "      <td>South America</td>\n",
       "    </tr>\n",
       "    <tr>\n",
       "      <th>4</th>\n",
       "      <td>Germany</td>\n",
       "      <td>31307020</td>\n",
       "      <td>145028</td>\n",
       "      <td>31228322</td>\n",
       "      <td>144858</td>\n",
       "      <td>78698</td>\n",
       "      <td>170</td>\n",
       "      <td>0.46</td>\n",
       "      <td>Europe</td>\n",
       "    </tr>\n",
       "  </tbody>\n",
       "</table>\n",
       "</div>"
      ],
      "text/plain": [
       "  Country/Region     Cases   Deaths    PCases  PDeaths  Cases (+)  Deaths (+)  \\\n",
       "0             US  92241199  1034020  92112922  1033556     128277         464   \n",
       "1          India  44174650   526772  44145709   526689      28941          83   \n",
       "2         France  34292342   153751  34237067   153577      55275         174   \n",
       "3         Brazil  34035780   680166  34018371   679996      17409         170   \n",
       "4        Germany  31307020   145028  31228322   144858      78698         170   \n",
       "\n",
       "   Fatality Rate      Continent  \n",
       "0           1.12  North America  \n",
       "1           1.19           Asia  \n",
       "2           0.45         Europe  \n",
       "3           2.00  South America  \n",
       "4           0.46         Europe  "
      ]
     },
     "execution_count": 13,
     "metadata": {},
     "output_type": "execute_result"
    }
   ],
   "source": [
    "#hide\n",
    "for c in 'Cases, Deaths'.split(', '):\n",
    "    df_table[f'{c} (+)'] = (df_table[c] - df_table[f'P{c}']).clip(0)\n",
    "    #Clip ça veut dire, les chiffres negatif sont interdit\n",
    "df_table['Fatality Rate'] = (100* df_table['Deaths']/ df_table['Cases']).round(2)\n",
    "df_table['Continent'] = df_table['Country/Region'].map(mapping['map.continent'])\n",
    "df_table.head(5)"
   ]
  },
  {
   "cell_type": "code",
   "execution_count": 14,
   "id": "aboriginal-bulgaria",
   "metadata": {
    "execution": {
     "iopub.execute_input": "2022-08-09T12:18:07.628729Z",
     "iopub.status.busy": "2022-08-09T12:18:07.628139Z",
     "iopub.status.idle": "2022-08-09T12:18:07.630462Z",
     "shell.execute_reply": "2022-08-09T12:18:07.630929Z"
    },
    "papermill": {
     "duration": 0.037762,
     "end_time": "2022-08-09T12:18:07.631045",
     "exception": false,
     "start_time": "2022-08-09T12:18:07.593283",
     "status": "completed"
    },
    "tags": []
   },
   "outputs": [],
   "source": [
    "#hide\n",
    "#delete problematic countries from table\n",
    "df_table = df_table[~df_table['Country/Region'].isin(['Cape Verde', 'Cruise Ship', 'Kosovo'])]"
   ]
  },
  {
   "cell_type": "code",
   "execution_count": 15,
   "id": "fantastic-effect",
   "metadata": {
    "execution": {
     "iopub.execute_input": "2022-08-09T12:18:07.698183Z",
     "iopub.status.busy": "2022-08-09T12:18:07.697609Z",
     "iopub.status.idle": "2022-08-09T12:18:07.714364Z",
     "shell.execute_reply": "2022-08-09T12:18:07.714835Z"
    },
    "papermill": {
     "duration": 0.054342,
     "end_time": "2022-08-09T12:18:07.714951",
     "exception": false,
     "start_time": "2022-08-09T12:18:07.660609",
     "status": "completed"
    },
    "tags": []
   },
   "outputs": [
    {
     "data": {
      "text/html": [
       "<div>\n",
       "<style scoped>\n",
       "    .dataframe tbody tr th:only-of-type {\n",
       "        vertical-align: middle;\n",
       "    }\n",
       "\n",
       "    .dataframe tbody tr th {\n",
       "        vertical-align: top;\n",
       "    }\n",
       "\n",
       "    .dataframe thead th {\n",
       "        text-align: right;\n",
       "    }\n",
       "</style>\n",
       "<table border=\"1\" class=\"dataframe\">\n",
       "  <thead>\n",
       "    <tr style=\"text-align: right;\">\n",
       "      <th></th>\n",
       "      <th>Country/Region</th>\n",
       "      <th>Cases</th>\n",
       "      <th>Deaths</th>\n",
       "      <th>PCases</th>\n",
       "      <th>PDeaths</th>\n",
       "      <th>Cases (+)</th>\n",
       "      <th>Deaths (+)</th>\n",
       "      <th>Fatality Rate</th>\n",
       "      <th>Continent</th>\n",
       "    </tr>\n",
       "  </thead>\n",
       "  <tbody>\n",
       "    <tr>\n",
       "      <th>0</th>\n",
       "      <td>US</td>\n",
       "      <td>92241199</td>\n",
       "      <td>1034020</td>\n",
       "      <td>92112922</td>\n",
       "      <td>1033556</td>\n",
       "      <td>128277</td>\n",
       "      <td>464</td>\n",
       "      <td>1.1</td>\n",
       "      <td>North America</td>\n",
       "    </tr>\n",
       "    <tr>\n",
       "      <th>1</th>\n",
       "      <td>India</td>\n",
       "      <td>44174650</td>\n",
       "      <td>526772</td>\n",
       "      <td>44145709</td>\n",
       "      <td>526689</td>\n",
       "      <td>28941</td>\n",
       "      <td>83</td>\n",
       "      <td>1.2</td>\n",
       "      <td>Asia</td>\n",
       "    </tr>\n",
       "    <tr>\n",
       "      <th>2</th>\n",
       "      <td>France</td>\n",
       "      <td>34292342</td>\n",
       "      <td>153751</td>\n",
       "      <td>34237067</td>\n",
       "      <td>153577</td>\n",
       "      <td>55275</td>\n",
       "      <td>174</td>\n",
       "      <td>0.4</td>\n",
       "      <td>Europe</td>\n",
       "    </tr>\n",
       "    <tr>\n",
       "      <th>3</th>\n",
       "      <td>Brazil</td>\n",
       "      <td>34035780</td>\n",
       "      <td>680166</td>\n",
       "      <td>34018371</td>\n",
       "      <td>679996</td>\n",
       "      <td>17409</td>\n",
       "      <td>170</td>\n",
       "      <td>2.0</td>\n",
       "      <td>South America</td>\n",
       "    </tr>\n",
       "    <tr>\n",
       "      <th>4</th>\n",
       "      <td>Germany</td>\n",
       "      <td>31307020</td>\n",
       "      <td>145028</td>\n",
       "      <td>31228322</td>\n",
       "      <td>144858</td>\n",
       "      <td>78698</td>\n",
       "      <td>170</td>\n",
       "      <td>0.5</td>\n",
       "      <td>Europe</td>\n",
       "    </tr>\n",
       "  </tbody>\n",
       "</table>\n",
       "</div>"
      ],
      "text/plain": [
       "  Country/Region     Cases   Deaths    PCases  PDeaths  Cases (+)  Deaths (+)  \\\n",
       "0             US  92241199  1034020  92112922  1033556     128277         464   \n",
       "1          India  44174650   526772  44145709   526689      28941          83   \n",
       "2         France  34292342   153751  34237067   153577      55275         174   \n",
       "3         Brazil  34035780   680166  34018371   679996      17409         170   \n",
       "4        Germany  31307020   145028  31228322   144858      78698         170   \n",
       "\n",
       "   Fatality Rate      Continent  \n",
       "0            1.1  North America  \n",
       "1            1.2           Asia  \n",
       "2            0.4         Europe  \n",
       "3            2.0  South America  \n",
       "4            0.5         Europe  "
      ]
     },
     "execution_count": 15,
     "metadata": {},
     "output_type": "execute_result"
    }
   ],
   "source": [
    "#hide\n",
    "df_table = (pd.DataFrame(dict(Cases=dfc_cases, Deaths=dfc_deaths, PCases=dfp_cases, PDeaths=dfp_deaths))\n",
    "             .sort_values(by=['Cases', 'Deaths'], ascending=[False, False])\n",
    "             .reset_index())\n",
    "df_table.rename(columns={'index': 'Country/Region'}, inplace=True)\n",
    "for c in 'Cases, Deaths'.split(', '):\n",
    "    df_table[f'{c} (+)'] = (df_table[c] - df_table[f'P{c}']).clip(0)  # DATA BUG\n",
    "df_table['Fatality Rate'] = (100 * df_table['Deaths'] / df_table['Cases']).round(1)\n",
    "df_table['Continent'] = df_table['Country/Region'].map(mapping['map.continent'])\n",
    "df_table.head(5)"
   ]
  },
  {
   "cell_type": "code",
   "execution_count": 16,
   "id": "fewer-occasion",
   "metadata": {
    "execution": {
     "iopub.execute_input": "2022-08-09T12:18:07.781320Z",
     "iopub.status.busy": "2022-08-09T12:18:07.780698Z",
     "iopub.status.idle": "2022-08-09T12:18:07.783265Z",
     "shell.execute_reply": "2022-08-09T12:18:07.782793Z"
    },
    "papermill": {
     "duration": 0.03814,
     "end_time": "2022-08-09T12:18:07.783371",
     "exception": false,
     "start_time": "2022-08-09T12:18:07.745231",
     "status": "completed"
    },
    "tags": []
   },
   "outputs": [],
   "source": [
    "#hide\n",
    "#delete problematic countries from table\n",
    "df_table = df_table[~df_table['Country/Region'].isin(['Cape Verde', 'Cruise Ship', 'Kosovo'])]"
   ]
  },
  {
   "cell_type": "code",
   "execution_count": 17,
   "id": "related-center",
   "metadata": {
    "execution": {
     "iopub.execute_input": "2022-08-09T12:18:07.856822Z",
     "iopub.status.busy": "2022-08-09T12:18:07.856211Z",
     "iopub.status.idle": "2022-08-09T12:18:07.864420Z",
     "shell.execute_reply": "2022-08-09T12:18:07.863859Z"
    },
    "papermill": {
     "duration": 0.05091,
     "end_time": "2022-08-09T12:18:07.864529",
     "exception": false,
     "start_time": "2022-08-09T12:18:07.813619",
     "status": "completed"
    },
    "tags": []
   },
   "outputs": [],
   "source": [
    "#hide\n",
    "metrics = [df_table.columns[index] for index in [1,2,5,6]]\n",
    "# s_china = df_table[df_table['Country/Region'].eq('China')][metrics].sum().add_prefix('China ')\n",
    "s_us = df_table[df_table['Country/Region'].eq('US')][metrics].sum().add_prefix('US ')\n",
    "s_eu = df_table[df_table['Continent'].eq('Europe')][metrics].sum().add_prefix('EU ')\n",
    "s_ind = df_table[df_table['Country/Region'].eq('India')][metrics].sum().add_prefix('India ')\n",
    "summary = {'updated': pd.to_datetime(dt_today), 'since': pd.to_datetime(dt_yday)}\n",
    "summary = {'updated': pd.to_datetime(dt_today), 'since': pd.to_datetime(dt_yday)}\n",
    "summary = {**summary, **df_table[metrics].sum(), **s_ind, **s_us, **s_eu}"
   ]
  },
  {
   "cell_type": "code",
   "execution_count": 18,
   "id": "engaging-syndrome",
   "metadata": {
    "execution": {
     "iopub.execute_input": "2022-08-09T12:18:07.930063Z",
     "iopub.status.busy": "2022-08-09T12:18:07.929499Z",
     "iopub.status.idle": "2022-08-09T12:18:07.948969Z",
     "shell.execute_reply": "2022-08-09T12:18:07.949581Z"
    },
    "papermill": {
     "duration": 0.054894,
     "end_time": "2022-08-09T12:18:07.949715",
     "exception": false,
     "start_time": "2022-08-09T12:18:07.894821",
     "status": "completed"
    },
    "tags": []
   },
   "outputs": [],
   "source": [
    "#hide\n",
    "dft_ct_new_cases = dft_cases.groupby(COL_REGION)[dt_cols].sum().diff(axis=1).fillna(0).astype(int)"
   ]
  },
  {
   "cell_type": "code",
   "execution_count": 19,
   "id": "neutral-assignment",
   "metadata": {
    "execution": {
     "iopub.execute_input": "2022-08-09T12:18:08.015127Z",
     "iopub.status.busy": "2022-08-09T12:18:08.014552Z",
     "iopub.status.idle": "2022-08-09T12:18:08.016886Z",
     "shell.execute_reply": "2022-08-09T12:18:08.017362Z"
    },
    "papermill": {
     "duration": 0.037708,
     "end_time": "2022-08-09T12:18:08.017480",
     "exception": false,
     "start_time": "2022-08-09T12:18:07.979772",
     "status": "completed"
    },
    "tags": []
   },
   "outputs": [],
   "source": [
    "#hide\n",
    "everydaycases = dft_ct_new_cases.cumsum(axis=1)"
   ]
  },
  {
   "cell_type": "code",
   "execution_count": 20,
   "id": "parliamentary-calgary",
   "metadata": {
    "execution": {
     "iopub.execute_input": "2022-08-09T12:18:08.082453Z",
     "iopub.status.busy": "2022-08-09T12:18:08.081880Z",
     "iopub.status.idle": "2022-08-09T12:18:08.618081Z",
     "shell.execute_reply": "2022-08-09T12:18:08.617242Z"
    },
    "papermill": {
     "duration": 0.570522,
     "end_time": "2022-08-09T12:18:08.618219",
     "exception": false,
     "start_time": "2022-08-09T12:18:08.047697",
     "status": "completed"
    },
    "tags": []
   },
   "outputs": [],
   "source": [
    "#hide\n",
    "import pandas as pd\n",
    "import matplotlib.pyplot as plt\n",
    "import matplotlib.ticker as ticker\n",
    "import matplotlib.animation as animation\n",
    "from IPython.display import HTML"
   ]
  },
  {
   "cell_type": "code",
   "execution_count": 21,
   "id": "lasting-extraction",
   "metadata": {
    "execution": {
     "iopub.execute_input": "2022-08-09T12:18:08.686666Z",
     "iopub.status.busy": "2022-08-09T12:18:08.686067Z",
     "iopub.status.idle": "2022-08-09T12:18:08.692562Z",
     "shell.execute_reply": "2022-08-09T12:18:08.693146Z"
    },
    "papermill": {
     "duration": 0.043571,
     "end_time": "2022-08-09T12:18:08.693272",
     "exception": false,
     "start_time": "2022-08-09T12:18:08.649701",
     "status": "completed"
    },
    "tags": []
   },
   "outputs": [],
   "source": [
    "#hide\n",
    "t = everydaycases.stack()"
   ]
  },
  {
   "cell_type": "code",
   "execution_count": 22,
   "id": "premier-sleeve",
   "metadata": {
    "execution": {
     "iopub.execute_input": "2022-08-09T12:18:08.758103Z",
     "iopub.status.busy": "2022-08-09T12:18:08.757528Z",
     "iopub.status.idle": "2022-08-09T12:18:08.770342Z",
     "shell.execute_reply": "2022-08-09T12:18:08.769866Z"
    },
    "papermill": {
     "duration": 0.046866,
     "end_time": "2022-08-09T12:18:08.770450",
     "exception": false,
     "start_time": "2022-08-09T12:18:08.723584",
     "status": "completed"
    },
    "tags": []
   },
   "outputs": [],
   "source": [
    "#hide\n",
    "g = t.reset_index(['Country/Region'])"
   ]
  },
  {
   "cell_type": "code",
   "execution_count": 23,
   "id": "distributed-pittsburgh",
   "metadata": {
    "execution": {
     "iopub.execute_input": "2022-08-09T12:18:08.834608Z",
     "iopub.status.busy": "2022-08-09T12:18:08.833947Z",
     "iopub.status.idle": "2022-08-09T12:18:08.836516Z",
     "shell.execute_reply": "2022-08-09T12:18:08.835986Z"
    },
    "papermill": {
     "duration": 0.036005,
     "end_time": "2022-08-09T12:18:08.836631",
     "exception": false,
     "start_time": "2022-08-09T12:18:08.800626",
     "status": "completed"
    },
    "tags": []
   },
   "outputs": [],
   "source": [
    "#hide\n",
    "g.index.name = 'date'"
   ]
  },
  {
   "cell_type": "code",
   "execution_count": 24,
   "id": "naked-donor",
   "metadata": {
    "execution": {
     "iopub.execute_input": "2022-08-09T12:18:08.900927Z",
     "iopub.status.busy": "2022-08-09T12:18:08.900262Z",
     "iopub.status.idle": "2022-08-09T12:18:08.902871Z",
     "shell.execute_reply": "2022-08-09T12:18:08.902267Z"
    },
    "papermill": {
     "duration": 0.036115,
     "end_time": "2022-08-09T12:18:08.902983",
     "exception": false,
     "start_time": "2022-08-09T12:18:08.866868",
     "status": "completed"
    },
    "tags": []
   },
   "outputs": [],
   "source": [
    "# #hide\n",
    "# g = g.reset_index(['date'])"
   ]
  },
  {
   "cell_type": "code",
   "execution_count": 25,
   "id": "incomplete-mustang",
   "metadata": {
    "execution": {
     "iopub.execute_input": "2022-08-09T12:18:08.967421Z",
     "iopub.status.busy": "2022-08-09T12:18:08.966835Z",
     "iopub.status.idle": "2022-08-09T12:18:08.969506Z",
     "shell.execute_reply": "2022-08-09T12:18:08.969032Z"
    },
    "papermill": {
     "duration": 0.035891,
     "end_time": "2022-08-09T12:18:08.969613",
     "exception": false,
     "start_time": "2022-08-09T12:18:08.933722",
     "status": "completed"
    },
    "tags": []
   },
   "outputs": [],
   "source": [
    "#hide\n",
    "# g.head()"
   ]
  },
  {
   "cell_type": "code",
   "execution_count": 26,
   "id": "specific-kruger",
   "metadata": {
    "execution": {
     "iopub.execute_input": "2022-08-09T12:18:09.034686Z",
     "iopub.status.busy": "2022-08-09T12:18:09.034092Z",
     "iopub.status.idle": "2022-08-09T12:18:09.036272Z",
     "shell.execute_reply": "2022-08-09T12:18:09.036848Z"
    },
    "papermill": {
     "duration": 0.036952,
     "end_time": "2022-08-09T12:18:09.036976",
     "exception": false,
     "start_time": "2022-08-09T12:18:09.000024",
     "status": "completed"
    },
    "tags": []
   },
   "outputs": [],
   "source": [
    "#hide\n",
    "# g.columns = ['date','country','cases']"
   ]
  },
  {
   "cell_type": "code",
   "execution_count": 27,
   "id": "tender-conversion",
   "metadata": {
    "execution": {
     "iopub.execute_input": "2022-08-09T12:18:09.104128Z",
     "iopub.status.busy": "2022-08-09T12:18:09.103520Z",
     "iopub.status.idle": "2022-08-09T12:18:09.107833Z",
     "shell.execute_reply": "2022-08-09T12:18:09.107364Z"
    },
    "papermill": {
     "duration": 0.040908,
     "end_time": "2022-08-09T12:18:09.107939",
     "exception": false,
     "start_time": "2022-08-09T12:18:09.067031",
     "status": "completed"
    },
    "tags": []
   },
   "outputs": [],
   "source": [
    "#hide\n",
    "# g['continent'] = g.country"
   ]
  },
  {
   "cell_type": "code",
   "execution_count": 28,
   "id": "substantial-wilderness",
   "metadata": {
    "execution": {
     "iopub.execute_input": "2022-08-09T12:18:09.172508Z",
     "iopub.status.busy": "2022-08-09T12:18:09.171853Z",
     "iopub.status.idle": "2022-08-09T12:18:09.174486Z",
     "shell.execute_reply": "2022-08-09T12:18:09.173865Z"
    },
    "papermill": {
     "duration": 0.036343,
     "end_time": "2022-08-09T12:18:09.174592",
     "exception": false,
     "start_time": "2022-08-09T12:18:09.138249",
     "status": "completed"
    },
    "tags": []
   },
   "outputs": [],
   "source": [
    "#hide\n",
    "# cols = list(g.columns.values)"
   ]
  },
  {
   "cell_type": "code",
   "execution_count": 29,
   "id": "solved-farming",
   "metadata": {
    "execution": {
     "iopub.execute_input": "2022-08-09T12:18:09.239404Z",
     "iopub.status.busy": "2022-08-09T12:18:09.238722Z",
     "iopub.status.idle": "2022-08-09T12:18:09.241372Z",
     "shell.execute_reply": "2022-08-09T12:18:09.240796Z"
    },
    "papermill": {
     "duration": 0.036672,
     "end_time": "2022-08-09T12:18:09.241498",
     "exception": false,
     "start_time": "2022-08-09T12:18:09.204826",
     "status": "completed"
    },
    "tags": []
   },
   "outputs": [],
   "source": [
    "#hide\n",
    "# cols.insert(0, cols.pop())"
   ]
  },
  {
   "cell_type": "code",
   "execution_count": 30,
   "id": "executed-adoption",
   "metadata": {
    "execution": {
     "iopub.execute_input": "2022-08-09T12:18:09.307072Z",
     "iopub.status.busy": "2022-08-09T12:18:09.306395Z",
     "iopub.status.idle": "2022-08-09T12:18:09.308809Z",
     "shell.execute_reply": "2022-08-09T12:18:09.308217Z"
    },
    "papermill": {
     "duration": 0.036231,
     "end_time": "2022-08-09T12:18:09.308922",
     "exception": false,
     "start_time": "2022-08-09T12:18:09.272691",
     "status": "completed"
    },
    "tags": []
   },
   "outputs": [],
   "source": [
    "#hide\n",
    "# g = g[cols]"
   ]
  },
  {
   "cell_type": "code",
   "execution_count": 31,
   "id": "subject-dublin",
   "metadata": {
    "execution": {
     "iopub.execute_input": "2022-08-09T12:18:09.372719Z",
     "iopub.status.busy": "2022-08-09T12:18:09.372102Z",
     "iopub.status.idle": "2022-08-09T12:18:09.374931Z",
     "shell.execute_reply": "2022-08-09T12:18:09.374465Z"
    },
    "papermill": {
     "duration": 0.035957,
     "end_time": "2022-08-09T12:18:09.375036",
     "exception": false,
     "start_time": "2022-08-09T12:18:09.339079",
     "status": "completed"
    },
    "tags": []
   },
   "outputs": [],
   "source": [
    "#hide\n",
    "# g['continent'] = g['continent'].map(mapping['map.continent'])"
   ]
  },
  {
   "cell_type": "code",
   "execution_count": 32,
   "id": "freelance-scout",
   "metadata": {
    "execution": {
     "iopub.execute_input": "2022-08-09T12:18:09.438981Z",
     "iopub.status.busy": "2022-08-09T12:18:09.438322Z",
     "iopub.status.idle": "2022-08-09T12:18:09.440865Z",
     "shell.execute_reply": "2022-08-09T12:18:09.440267Z"
    },
    "papermill": {
     "duration": 0.035787,
     "end_time": "2022-08-09T12:18:09.440973",
     "exception": false,
     "start_time": "2022-08-09T12:18:09.405186",
     "status": "completed"
    },
    "tags": []
   },
   "outputs": [],
   "source": [
    "#hide\n",
    "# g.head()"
   ]
  },
  {
   "cell_type": "code",
   "execution_count": 33,
   "id": "limited-engine",
   "metadata": {
    "execution": {
     "iopub.execute_input": "2022-08-09T12:18:09.504583Z",
     "iopub.status.busy": "2022-08-09T12:18:09.503932Z",
     "iopub.status.idle": "2022-08-09T12:18:09.506306Z",
     "shell.execute_reply": "2022-08-09T12:18:09.506824Z"
    },
    "papermill": {
     "duration": 0.036002,
     "end_time": "2022-08-09T12:18:09.506956",
     "exception": false,
     "start_time": "2022-08-09T12:18:09.470954",
     "status": "completed"
    },
    "tags": []
   },
   "outputs": [],
   "source": [
    "# hide\n",
    "# g['date'] = g['date'].astype('datetime64[ns]')"
   ]
  },
  {
   "cell_type": "code",
   "execution_count": 34,
   "id": "sophisticated-supervisor",
   "metadata": {
    "execution": {
     "iopub.execute_input": "2022-08-09T12:18:09.572754Z",
     "iopub.status.busy": "2022-08-09T12:18:09.572129Z",
     "iopub.status.idle": "2022-08-09T12:18:09.575108Z",
     "shell.execute_reply": "2022-08-09T12:18:09.575660Z"
    },
    "papermill": {
     "duration": 0.037901,
     "end_time": "2022-08-09T12:18:09.575785",
     "exception": false,
     "start_time": "2022-08-09T12:18:09.537884",
     "status": "completed"
    },
    "tags": []
   },
   "outputs": [],
   "source": [
    "#hide\n",
    "# g['date'] = g.date.dt.dayofyear"
   ]
  },
  {
   "cell_type": "code",
   "execution_count": 35,
   "id": "inside-dubai",
   "metadata": {
    "execution": {
     "iopub.execute_input": "2022-08-09T12:18:09.640425Z",
     "iopub.status.busy": "2022-08-09T12:18:09.639761Z",
     "iopub.status.idle": "2022-08-09T12:18:09.644096Z",
     "shell.execute_reply": "2022-08-09T12:18:09.644519Z"
    },
    "papermill": {
     "duration": 0.038747,
     "end_time": "2022-08-09T12:18:09.644645",
     "exception": false,
     "start_time": "2022-08-09T12:18:09.605898",
     "status": "completed"
    },
    "tags": []
   },
   "outputs": [],
   "source": [
    "#hide\n",
    "# g = g.rename(columns= {'continent':'group','country':'name','cases':'value'})"
   ]
  },
  {
   "cell_type": "code",
   "execution_count": 36,
   "id": "fleet-motorcycle",
   "metadata": {
    "execution": {
     "iopub.execute_input": "2022-08-09T12:18:09.708775Z",
     "iopub.status.busy": "2022-08-09T12:18:09.708171Z",
     "iopub.status.idle": "2022-08-09T12:18:09.710873Z",
     "shell.execute_reply": "2022-08-09T12:18:09.710427Z"
    },
    "papermill": {
     "duration": 0.036122,
     "end_time": "2022-08-09T12:18:09.710980",
     "exception": false,
     "start_time": "2022-08-09T12:18:09.674858",
     "status": "completed"
    },
    "tags": []
   },
   "outputs": [],
   "source": [
    "#hide\n",
    "# cols = ['name','group','day','value']"
   ]
  },
  {
   "cell_type": "code",
   "execution_count": 37,
   "id": "continued-sleeping",
   "metadata": {
    "execution": {
     "iopub.execute_input": "2022-08-09T12:18:09.774586Z",
     "iopub.status.busy": "2022-08-09T12:18:09.774015Z",
     "iopub.status.idle": "2022-08-09T12:18:09.776629Z",
     "shell.execute_reply": "2022-08-09T12:18:09.776165Z"
    },
    "papermill": {
     "duration": 0.035694,
     "end_time": "2022-08-09T12:18:09.776757",
     "exception": false,
     "start_time": "2022-08-09T12:18:09.741063",
     "status": "completed"
    },
    "tags": []
   },
   "outputs": [],
   "source": [
    "#hide\n",
    "# g.rename(columns= {'date':'day'},inplace = True)"
   ]
  },
  {
   "cell_type": "code",
   "execution_count": 38,
   "id": "major-fight",
   "metadata": {
    "execution": {
     "iopub.execute_input": "2022-08-09T12:18:09.840938Z",
     "iopub.status.busy": "2022-08-09T12:18:09.840250Z",
     "iopub.status.idle": "2022-08-09T12:18:09.844009Z",
     "shell.execute_reply": "2022-08-09T12:18:09.843475Z"
    },
    "papermill": {
     "duration": 0.037093,
     "end_time": "2022-08-09T12:18:09.844125",
     "exception": false,
     "start_time": "2022-08-09T12:18:09.807032",
     "status": "completed"
    },
    "tags": []
   },
   "outputs": [],
   "source": [
    "#hide\n",
    "# g = g[cols]"
   ]
  },
  {
   "cell_type": "code",
   "execution_count": 39,
   "id": "structured-mobile",
   "metadata": {
    "execution": {
     "iopub.execute_input": "2022-08-09T12:18:09.908387Z",
     "iopub.status.busy": "2022-08-09T12:18:09.907725Z",
     "iopub.status.idle": "2022-08-09T12:18:09.910199Z",
     "shell.execute_reply": "2022-08-09T12:18:09.909733Z"
    },
    "papermill": {
     "duration": 0.035664,
     "end_time": "2022-08-09T12:18:09.910302",
     "exception": false,
     "start_time": "2022-08-09T12:18:09.874638",
     "status": "completed"
    },
    "tags": []
   },
   "outputs": [],
   "source": [
    "# #hide\n",
    "# g = g[g.group.notna()]"
   ]
  },
  {
   "cell_type": "code",
   "execution_count": 40,
   "id": "determined-closing",
   "metadata": {
    "execution": {
     "iopub.execute_input": "2022-08-09T12:18:09.975407Z",
     "iopub.status.busy": "2022-08-09T12:18:09.974718Z",
     "iopub.status.idle": "2022-08-09T12:18:09.977195Z",
     "shell.execute_reply": "2022-08-09T12:18:09.976519Z"
    },
    "papermill": {
     "duration": 0.036514,
     "end_time": "2022-08-09T12:18:09.977317",
     "exception": false,
     "start_time": "2022-08-09T12:18:09.940803",
     "status": "completed"
    },
    "tags": []
   },
   "outputs": [],
   "source": [
    "# #hide\n",
    "# colors = dict(zip(\n",
    "#     [\"Oceania\", \"Europe\", \"Asia\", \"South America\", \"Middle East\", \"North America\", \"Africa\"],\n",
    "#     [\"#adb0ff\", \"#ffb3ff\", \"#90d595\", \"#e48381\", \"#aafbff\", \"#f7bb5f\", \"#eafb50\"]\n",
    "# ))\n",
    "# group_lk = g.set_index('name')['group'].to_dict()"
   ]
  },
  {
   "cell_type": "code",
   "execution_count": null,
   "id": "gross-drinking",
   "metadata": {
    "papermill": {
     "duration": 0.03047,
     "end_time": "2022-08-09T12:18:10.038799",
     "exception": false,
     "start_time": "2022-08-09T12:18:10.008329",
     "status": "completed"
    },
    "tags": []
   },
   "outputs": [],
   "source": []
  },
  {
   "cell_type": "code",
   "execution_count": 41,
   "id": "subject-macintosh",
   "metadata": {
    "execution": {
     "iopub.execute_input": "2022-08-09T12:18:10.104520Z",
     "iopub.status.busy": "2022-08-09T12:18:10.103893Z",
     "iopub.status.idle": "2022-08-09T12:18:10.106363Z",
     "shell.execute_reply": "2022-08-09T12:18:10.105795Z"
    },
    "papermill": {
     "duration": 0.037174,
     "end_time": "2022-08-09T12:18:10.106471",
     "exception": false,
     "start_time": "2022-08-09T12:18:10.069297",
     "status": "completed"
    },
    "tags": []
   },
   "outputs": [],
   "source": [
    "# #hide\n",
    "# fig, ax = plt.subplots(figsize=(15, 8))\n",
    "\n",
    "# def draw_barchart(current_day):\n",
    "#     dff = g[g['day'].eq(current_day)].sort_values(by='value', ascending=True).tail(10)\n",
    "#     ax.clear()\n",
    "#     ax.barh(dff['name'], dff['value'], color=[colors[group_lk[x]] for x in dff['name']])\n",
    "#     dx = dff['value'].max() / 200\n",
    "    \n",
    "#     for i, (value, name) in enumerate(zip(dff['value'], dff['name'])):\n",
    "#         ax.text(value-dx, i,     name,           size=14, weight=600, ha='right', va='bottom')\n",
    "#         ax.text(value-dx, i-.25, group_lk[name], size=10, color='#444444', ha='right', va='baseline')\n",
    "#         ax.text(value+dx, i,     f'{value:,.0f}',  size=14, ha='left',  va='center')\n",
    "#     ax.text(1, 0.4, current_day, transform=ax.transAxes, color='#777777', size=46, ha='right', weight=800)\n",
    "#     ax.text(0, 1.06, 'Population (thousands)', transform=ax.transAxes, size=12, color='#777777')\n",
    "#     ax.xaxis.set_major_formatter(ticker.StrMethodFormatter('{x:,.0f}'))\n",
    "#     ax.xaxis.set_ticks_position('top')\n",
    "#     ax.tick_params(axis='x', colors='#777777', labelsize=12)\n",
    "#     ax.set_yticks([])\n",
    "#     ax.margins(0, 0.01)\n",
    "#     ax.grid(which='major', axis='x', linestyle='-')\n",
    "#     ax.set_axisbelow(True)\n",
    "    \n",
    "#     ax.text(0, 1.15, 'Coronavirus',\n",
    "#             transform=ax.transAxes, size=24, weight=600, ha='left', va='top')\n",
    "# #     ax.text(1, 0, 'by @pratapvardhan; credit @jburnmurdoch', transform=ax.transAxes, color='#777777', ha='right',\n",
    "# #             bbox=dict(facecolor='white', alpha=0.8, edgecolor='white'))\n",
    "#     plt.box(False)"
   ]
  },
  {
   "cell_type": "code",
   "execution_count": 42,
   "id": "sexual-wages",
   "metadata": {
    "execution": {
     "iopub.execute_input": "2022-08-09T12:18:10.171448Z",
     "iopub.status.busy": "2022-08-09T12:18:10.170760Z",
     "iopub.status.idle": "2022-08-09T12:18:10.174366Z",
     "shell.execute_reply": "2022-08-09T12:18:10.174815Z"
    },
    "papermill": {
     "duration": 0.038015,
     "end_time": "2022-08-09T12:18:10.174944",
     "exception": false,
     "start_time": "2022-08-09T12:18:10.136929",
     "status": "completed"
    },
    "tags": []
   },
   "outputs": [],
   "source": [
    "# #hide_input\n",
    "# fig, ax = plt.subplots(figsize=(15, 8))\n",
    "# animator = animation.FuncAnimation(fig, draw_barchart, frames=range(g.day.values.min(), g.day.values.max()))\n",
    "# HTML(animator.to_jshtml())\n",
    "# # or use animator.to_html5_video() or animator.save() "
   ]
  },
  {
   "cell_type": "code",
   "execution_count": null,
   "id": "australian-container",
   "metadata": {
    "papermill": {
     "duration": 0.030324,
     "end_time": "2022-08-09T12:18:10.235622",
     "exception": false,
     "start_time": "2022-08-09T12:18:10.205298",
     "status": "completed"
    },
    "tags": []
   },
   "outputs": [],
   "source": []
  },
  {
   "cell_type": "code",
   "execution_count": null,
   "id": "mediterranean-pontiac",
   "metadata": {
    "papermill": {
     "duration": 0.030192,
     "end_time": "2022-08-09T12:18:10.296698",
     "exception": false,
     "start_time": "2022-08-09T12:18:10.266506",
     "status": "completed"
    },
    "tags": []
   },
   "outputs": [],
   "source": []
  },
  {
   "cell_type": "code",
   "execution_count": null,
   "id": "aging-legislature",
   "metadata": {
    "papermill": {
     "duration": 0.03037,
     "end_time": "2022-08-09T12:18:10.357621",
     "exception": false,
     "start_time": "2022-08-09T12:18:10.327251",
     "status": "completed"
    },
    "tags": []
   },
   "outputs": [],
   "source": []
  }
 ],
 "metadata": {
  "kernelspec": {
   "display_name": "Python 3",
   "language": "python",
   "name": "python3"
  },
  "language_info": {
   "codemirror_mode": {
    "name": "ipython",
    "version": 3
   },
   "file_extension": ".py",
   "mimetype": "text/x-python",
   "name": "python",
   "nbconvert_exporter": "python",
   "pygments_lexer": "ipython3",
   "version": "3.6.15"
  },
  "papermill": {
   "duration": 5.754842,
   "end_time": "2022-08-09T12:18:10.706778",
   "environment_variables": {},
   "exception": null,
   "input_path": "2020-03-21-covid19exp.ipynb",
   "output_path": "2020-03-21-covid19exp.ipynb",
   "parameters": {},
   "start_time": "2022-08-09T12:18:04.951936",
   "version": "2.0.0"
  }
 },
 "nbformat": 4,
 "nbformat_minor": 5
}