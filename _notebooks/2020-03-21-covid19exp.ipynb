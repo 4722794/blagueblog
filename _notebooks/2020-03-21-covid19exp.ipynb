{
 "cells": [
  {
   "cell_type": "markdown",
   "id": "muslim-click",
   "metadata": {
    "papermill": {
     "duration": 0.035643,
     "end_time": "2022-11-21T00:45:33.134898",
     "exception": false,
     "start_time": "2022-11-21T00:45:33.099255",
     "status": "completed"
    },
    "tags": []
   },
   "source": [
    "# COVID-19 Case Race\n",
    "> A race chart to see rising cases around the world\n",
    "\n",
    "- author: Hargun Oberoi\n",
    "- image: images/covid-overview.png\n",
    "- hide: false\n",
    "- badges: false"
   ]
  },
  {
   "cell_type": "code",
   "execution_count": 1,
   "id": "proof-material",
   "metadata": {
    "execution": {
     "iopub.execute_input": "2022-11-21T00:45:33.206215Z",
     "iopub.status.busy": "2022-11-21T00:45:33.205561Z",
     "iopub.status.idle": "2022-11-21T00:45:33.551445Z",
     "shell.execute_reply": "2022-11-21T00:45:33.550886Z"
    },
    "papermill": {
     "duration": 0.385947,
     "end_time": "2022-11-21T00:45:33.551596",
     "exception": false,
     "start_time": "2022-11-21T00:45:33.165649",
     "status": "completed"
    },
    "tags": []
   },
   "outputs": [],
   "source": [
    "#hide\n",
    "import numpy as np\n",
    "import pandas as pd\n",
    "from jinja2 import Template\n",
    "from IPython.display import HTML"
   ]
  },
  {
   "cell_type": "code",
   "execution_count": 2,
   "id": "developed-terminology",
   "metadata": {
    "execution": {
     "iopub.execute_input": "2022-11-21T00:45:33.617677Z",
     "iopub.status.busy": "2022-11-21T00:45:33.616915Z",
     "iopub.status.idle": "2022-11-21T00:45:33.620903Z",
     "shell.execute_reply": "2022-11-21T00:45:33.620354Z"
    },
    "papermill": {
     "duration": 0.039576,
     "end_time": "2022-11-21T00:45:33.621032",
     "exception": false,
     "start_time": "2022-11-21T00:45:33.581456",
     "status": "completed"
    },
    "tags": []
   },
   "outputs": [],
   "source": [
    "#hide\n",
    "\n",
    "# FETCH\n",
    "base_url = 'https://raw.githubusercontent.com/pratapvardhan/notebooks/master/covid19/'\n",
    "paths = {\n",
    "    'mapping': base_url + 'mapping_countries.csv',\n",
    "    'overview': base_url + 'overview.tpl'\n",
    "}"
   ]
  },
  {
   "cell_type": "code",
   "execution_count": 3,
   "id": "dynamic-saver",
   "metadata": {
    "execution": {
     "iopub.execute_input": "2022-11-21T00:45:33.690868Z",
     "iopub.status.busy": "2022-11-21T00:45:33.690260Z",
     "iopub.status.idle": "2022-11-21T00:45:33.692968Z",
     "shell.execute_reply": "2022-11-21T00:45:33.693538Z"
    },
    "papermill": {
     "duration": 0.043104,
     "end_time": "2022-11-21T00:45:33.693680",
     "exception": false,
     "start_time": "2022-11-21T00:45:33.650576",
     "status": "completed"
    },
    "tags": []
   },
   "outputs": [
    {
     "data": {
      "text/plain": [
       "'https://raw.githubusercontent.com/pratapvardhan/notebooks/master/covid19/mapping_countries.csv'"
      ]
     },
     "execution_count": 3,
     "metadata": {},
     "output_type": "execute_result"
    }
   ],
   "source": [
    "#hide\n",
    "paths['mapping']"
   ]
  },
  {
   "cell_type": "code",
   "execution_count": 4,
   "id": "urban-software",
   "metadata": {
    "execution": {
     "iopub.execute_input": "2022-11-21T00:45:33.759697Z",
     "iopub.status.busy": "2022-11-21T00:45:33.758988Z",
     "iopub.status.idle": "2022-11-21T00:45:33.761641Z",
     "shell.execute_reply": "2022-11-21T00:45:33.761058Z"
    },
    "papermill": {
     "duration": 0.038047,
     "end_time": "2022-11-21T00:45:33.761773",
     "exception": false,
     "start_time": "2022-11-21T00:45:33.723726",
     "status": "completed"
    },
    "tags": []
   },
   "outputs": [],
   "source": [
    "#hide\n",
    "def get_mappings(url):\n",
    "    df = pd.read_csv(url)\n",
    "    return {\n",
    "        'df': df,\n",
    "        'replace.country': dict(df.dropna(subset=['Name']).set_index('Country')['Name']),\n",
    "        'map.continent': dict(df.set_index('Name')['Continent'])\n",
    "    }"
   ]
  },
  {
   "cell_type": "code",
   "execution_count": 5,
   "id": "intimate-machinery",
   "metadata": {
    "execution": {
     "iopub.execute_input": "2022-11-21T00:45:33.828226Z",
     "iopub.status.busy": "2022-11-21T00:45:33.827620Z",
     "iopub.status.idle": "2022-11-21T00:45:33.857066Z",
     "shell.execute_reply": "2022-11-21T00:45:33.856499Z"
    },
    "papermill": {
     "duration": 0.065063,
     "end_time": "2022-11-21T00:45:33.857212",
     "exception": false,
     "start_time": "2022-11-21T00:45:33.792149",
     "status": "completed"
    },
    "tags": []
   },
   "outputs": [],
   "source": [
    "#hide\n",
    "mapping = get_mappings(paths['mapping'])"
   ]
  },
  {
   "cell_type": "code",
   "execution_count": 6,
   "id": "certified-tactics",
   "metadata": {
    "execution": {
     "iopub.execute_input": "2022-11-21T00:45:33.926118Z",
     "iopub.status.busy": "2022-11-21T00:45:33.925364Z",
     "iopub.status.idle": "2022-11-21T00:45:33.927147Z",
     "shell.execute_reply": "2022-11-21T00:45:33.927686Z"
    },
    "papermill": {
     "duration": 0.040574,
     "end_time": "2022-11-21T00:45:33.927831",
     "exception": false,
     "start_time": "2022-11-21T00:45:33.887257",
     "status": "completed"
    },
    "tags": []
   },
   "outputs": [],
   "source": [
    "#hide\n",
    "def get_template(path):\n",
    "    from urllib.parse import urlparse\n",
    "    if bool(urlparse(path).netloc):\n",
    "        from urllib.request import urlopen\n",
    "        return urlopen(path).read().decode('utf8')\n",
    "    return open(path).read()"
   ]
  },
  {
   "cell_type": "code",
   "execution_count": 7,
   "id": "realistic-blast",
   "metadata": {
    "execution": {
     "iopub.execute_input": "2022-11-21T00:45:33.993257Z",
     "iopub.status.busy": "2022-11-21T00:45:33.992630Z",
     "iopub.status.idle": "2022-11-21T00:45:33.995171Z",
     "shell.execute_reply": "2022-11-21T00:45:33.994687Z"
    },
    "papermill": {
     "duration": 0.037543,
     "end_time": "2022-11-21T00:45:33.995287",
     "exception": false,
     "start_time": "2022-11-21T00:45:33.957744",
     "status": "completed"
    },
    "tags": []
   },
   "outputs": [],
   "source": [
    "#hide\n",
    "def get_frame(name):\n",
    "    url = (\n",
    "        'https://raw.githubusercontent.com/CSSEGISandData/COVID-19/master/csse_covid_19_data/'\n",
    "        f'csse_covid_19_time_series/time_series_covid19_{name}_global.csv')\n",
    "    df = pd.read_csv(url)\n",
    "    # rename countries\n",
    "    df['Country/Region'] = df['Country/Region'].replace(mapping['replace.country'])\n",
    "    return df"
   ]
  },
  {
   "cell_type": "code",
   "execution_count": 8,
   "id": "affiliated-characterization",
   "metadata": {
    "execution": {
     "iopub.execute_input": "2022-11-21T00:45:34.062304Z",
     "iopub.status.busy": "2022-11-21T00:45:34.061637Z",
     "iopub.status.idle": "2022-11-21T00:45:34.064020Z",
     "shell.execute_reply": "2022-11-21T00:45:34.063449Z"
    },
    "papermill": {
     "duration": 0.038749,
     "end_time": "2022-11-21T00:45:34.064137",
     "exception": false,
     "start_time": "2022-11-21T00:45:34.025388",
     "status": "completed"
    },
    "tags": []
   },
   "outputs": [],
   "source": [
    "#hide\n",
    "def get_dates(df):\n",
    "    dt_cols = df.columns[~df.columns.isin(['Province/State', 'Country/Region', 'Lat', 'Long'])]\n",
    "    LAST_DATE_I = -1\n",
    "    # sometimes last column may be empty, then go backwards\n",
    "    for i in range(-1, -len(dt_cols), -1):\n",
    "        if not df[dt_cols[i]].fillna(0).eq(0).all():\n",
    "            LAST_DATE_I = i\n",
    "            break\n",
    "    return LAST_DATE_I, dt_cols"
   ]
  },
  {
   "cell_type": "code",
   "execution_count": 9,
   "id": "recent-optimization",
   "metadata": {
    "execution": {
     "iopub.execute_input": "2022-11-21T00:45:34.130219Z",
     "iopub.status.busy": "2022-11-21T00:45:34.129528Z",
     "iopub.status.idle": "2022-11-21T00:45:34.561107Z",
     "shell.execute_reply": "2022-11-21T00:45:34.559847Z"
    },
    "papermill": {
     "duration": 0.467257,
     "end_time": "2022-11-21T00:45:34.561252",
     "exception": false,
     "start_time": "2022-11-21T00:45:34.093995",
     "status": "completed"
    },
    "tags": []
   },
   "outputs": [],
   "source": [
    "#hide\n",
    "COL_REGION = 'Country/Region'\n",
    "# Confirmed, Recovered, Deaths\n",
    "df = get_frame('confirmed')\n",
    "# dft_: timeseries, dfc_: today country agg\n",
    "dft_cases = df\n",
    "dft_deaths = get_frame('deaths')\n",
    "dft_recovered = get_frame('recovered')\n",
    "LAST_DATE_I, dt_cols = get_dates(df)"
   ]
  },
  {
   "cell_type": "code",
   "execution_count": 10,
   "id": "absolute-copper",
   "metadata": {
    "execution": {
     "iopub.execute_input": "2022-11-21T00:45:34.628004Z",
     "iopub.status.busy": "2022-11-21T00:45:34.627275Z",
     "iopub.status.idle": "2022-11-21T00:45:34.629365Z",
     "shell.execute_reply": "2022-11-21T00:45:34.628725Z"
    },
    "papermill": {
     "duration": 0.038174,
     "end_time": "2022-11-21T00:45:34.629538",
     "exception": false,
     "start_time": "2022-11-21T00:45:34.591364",
     "status": "completed"
    },
    "tags": []
   },
   "outputs": [],
   "source": [
    "#hide\n",
    "LAST_DATE_I, dt_cols = get_dates(df)\n",
    "dt_today =dt_cols[LAST_DATE_I]\n",
    "# dt_5day = dt_cols[LAST_DATE_I - 5]\n",
    "dt_yday = dt_cols[LAST_DATE_I - 1]"
   ]
  },
  {
   "cell_type": "code",
   "execution_count": 11,
   "id": "restricted-sheriff",
   "metadata": {
    "execution": {
     "iopub.execute_input": "2022-11-21T00:45:34.697792Z",
     "iopub.status.busy": "2022-11-21T00:45:34.697141Z",
     "iopub.status.idle": "2022-11-21T00:45:34.703609Z",
     "shell.execute_reply": "2022-11-21T00:45:34.703121Z"
    },
    "papermill": {
     "duration": 0.044085,
     "end_time": "2022-11-21T00:45:34.703728",
     "exception": false,
     "start_time": "2022-11-21T00:45:34.659643",
     "status": "completed"
    },
    "tags": []
   },
   "outputs": [],
   "source": [
    "#hide\n",
    "dfc_cases = dft_cases.groupby(COL_REGION)[dt_today].sum()\n",
    "dfc_deaths = dft_deaths.groupby(COL_REGION)[dt_today].sum()\n",
    "# dfp_cases = dft_cases.groupby(COL_REGION)[dt_5day].sum()\n",
    "# dfp_deaths = dft_deaths.groupby(COL_REGION)[dt_5day].sum()\n",
    "dfp_cases = dft_cases.groupby(COL_REGION)[dt_yday].sum()\n",
    "dfp_deaths = dft_deaths.groupby(COL_REGION)[dt_yday].sum()"
   ]
  },
  {
   "cell_type": "code",
   "execution_count": 12,
   "id": "deluxe-hepatitis",
   "metadata": {
    "execution": {
     "iopub.execute_input": "2022-11-21T00:45:34.770776Z",
     "iopub.status.busy": "2022-11-21T00:45:34.770163Z",
     "iopub.status.idle": "2022-11-21T00:45:34.775034Z",
     "shell.execute_reply": "2022-11-21T00:45:34.775572Z"
    },
    "papermill": {
     "duration": 0.041866,
     "end_time": "2022-11-21T00:45:34.775710",
     "exception": false,
     "start_time": "2022-11-21T00:45:34.733844",
     "status": "completed"
    },
    "tags": []
   },
   "outputs": [],
   "source": [
    "#hide\n",
    "df_table = (pd.DataFrame(dict(Cases = dfc_cases, Deaths = dfc_deaths, PCases = dfp_cases, PDeaths = dfp_deaths))\n",
    "            .sort_values(by = ['Cases','Deaths'], ascending = [False, False])\n",
    "            .reset_index())"
   ]
  },
  {
   "cell_type": "code",
   "execution_count": 13,
   "id": "educational-chancellor",
   "metadata": {
    "execution": {
     "iopub.execute_input": "2022-11-21T00:45:34.855188Z",
     "iopub.status.busy": "2022-11-21T00:45:34.854537Z",
     "iopub.status.idle": "2022-11-21T00:45:34.862560Z",
     "shell.execute_reply": "2022-11-21T00:45:34.861975Z"
    },
    "papermill": {
     "duration": 0.056998,
     "end_time": "2022-11-21T00:45:34.862680",
     "exception": false,
     "start_time": "2022-11-21T00:45:34.805682",
     "status": "completed"
    },
    "tags": []
   },
   "outputs": [
    {
     "data": {
      "text/html": [
       "<div>\n",
       "<style scoped>\n",
       "    .dataframe tbody tr th:only-of-type {\n",
       "        vertical-align: middle;\n",
       "    }\n",
       "\n",
       "    .dataframe tbody tr th {\n",
       "        vertical-align: top;\n",
       "    }\n",
       "\n",
       "    .dataframe thead th {\n",
       "        text-align: right;\n",
       "    }\n",
       "</style>\n",
       "<table border=\"1\" class=\"dataframe\">\n",
       "  <thead>\n",
       "    <tr style=\"text-align: right;\">\n",
       "      <th></th>\n",
       "      <th>Country/Region</th>\n",
       "      <th>Cases</th>\n",
       "      <th>Deaths</th>\n",
       "      <th>PCases</th>\n",
       "      <th>PDeaths</th>\n",
       "      <th>Cases (+)</th>\n",
       "      <th>Deaths (+)</th>\n",
       "      <th>Fatality Rate</th>\n",
       "      <th>Continent</th>\n",
       "    </tr>\n",
       "  </thead>\n",
       "  <tbody>\n",
       "    <tr>\n",
       "      <th>0</th>\n",
       "      <td>US</td>\n",
       "      <td>98305722</td>\n",
       "      <td>1077031</td>\n",
       "      <td>98301472</td>\n",
       "      <td>1077020</td>\n",
       "      <td>4250</td>\n",
       "      <td>11</td>\n",
       "      <td>1.10</td>\n",
       "      <td>North America</td>\n",
       "    </tr>\n",
       "    <tr>\n",
       "      <th>1</th>\n",
       "      <td>India</td>\n",
       "      <td>44670240</td>\n",
       "      <td>530574</td>\n",
       "      <td>44669748</td>\n",
       "      <td>530570</td>\n",
       "      <td>492</td>\n",
       "      <td>4</td>\n",
       "      <td>1.19</td>\n",
       "      <td>Asia</td>\n",
       "    </tr>\n",
       "    <tr>\n",
       "      <th>2</th>\n",
       "      <td>France</td>\n",
       "      <td>37508185</td>\n",
       "      <td>159203</td>\n",
       "      <td>37508185</td>\n",
       "      <td>159203</td>\n",
       "      <td>0</td>\n",
       "      <td>0</td>\n",
       "      <td>0.42</td>\n",
       "      <td>Europe</td>\n",
       "    </tr>\n",
       "    <tr>\n",
       "      <th>3</th>\n",
       "      <td>Germany</td>\n",
       "      <td>36205405</td>\n",
       "      <td>156613</td>\n",
       "      <td>36205405</td>\n",
       "      <td>156613</td>\n",
       "      <td>0</td>\n",
       "      <td>0</td>\n",
       "      <td>0.43</td>\n",
       "      <td>Europe</td>\n",
       "    </tr>\n",
       "    <tr>\n",
       "      <th>4</th>\n",
       "      <td>Brazil</td>\n",
       "      <td>34999495</td>\n",
       "      <td>688907</td>\n",
       "      <td>34999495</td>\n",
       "      <td>688907</td>\n",
       "      <td>0</td>\n",
       "      <td>0</td>\n",
       "      <td>1.97</td>\n",
       "      <td>South America</td>\n",
       "    </tr>\n",
       "  </tbody>\n",
       "</table>\n",
       "</div>"
      ],
      "text/plain": [
       "  Country/Region     Cases   Deaths    PCases  PDeaths  Cases (+)  Deaths (+)  \\\n",
       "0             US  98305722  1077031  98301472  1077020       4250          11   \n",
       "1          India  44670240   530574  44669748   530570        492           4   \n",
       "2         France  37508185   159203  37508185   159203          0           0   \n",
       "3        Germany  36205405   156613  36205405   156613          0           0   \n",
       "4         Brazil  34999495   688907  34999495   688907          0           0   \n",
       "\n",
       "   Fatality Rate      Continent  \n",
       "0           1.10  North America  \n",
       "1           1.19           Asia  \n",
       "2           0.42         Europe  \n",
       "3           0.43         Europe  \n",
       "4           1.97  South America  "
      ]
     },
     "execution_count": 13,
     "metadata": {},
     "output_type": "execute_result"
    }
   ],
   "source": [
    "#hide\n",
    "for c in 'Cases, Deaths'.split(', '):\n",
    "    df_table[f'{c} (+)'] = (df_table[c] - df_table[f'P{c}']).clip(0)\n",
    "    #Clip ça veut dire, les chiffres negatif sont interdit\n",
    "df_table['Fatality Rate'] = (100* df_table['Deaths']/ df_table['Cases']).round(2)\n",
    "df_table['Continent'] = df_table['Country/Region'].map(mapping['map.continent'])\n",
    "df_table.head(5)"
   ]
  },
  {
   "cell_type": "code",
   "execution_count": 14,
   "id": "aboriginal-bulgaria",
   "metadata": {
    "execution": {
     "iopub.execute_input": "2022-11-21T00:45:34.929962Z",
     "iopub.status.busy": "2022-11-21T00:45:34.929283Z",
     "iopub.status.idle": "2022-11-21T00:45:34.932698Z",
     "shell.execute_reply": "2022-11-21T00:45:34.933190Z"
    },
    "papermill": {
     "duration": 0.040023,
     "end_time": "2022-11-21T00:45:34.933331",
     "exception": false,
     "start_time": "2022-11-21T00:45:34.893308",
     "status": "completed"
    },
    "tags": []
   },
   "outputs": [],
   "source": [
    "#hide\n",
    "#delete problematic countries from table\n",
    "df_table = df_table[~df_table['Country/Region'].isin(['Cape Verde', 'Cruise Ship', 'Kosovo'])]"
   ]
  },
  {
   "cell_type": "code",
   "execution_count": 15,
   "id": "fantastic-effect",
   "metadata": {
    "execution": {
     "iopub.execute_input": "2022-11-21T00:45:35.002852Z",
     "iopub.status.busy": "2022-11-21T00:45:35.002238Z",
     "iopub.status.idle": "2022-11-21T00:45:35.021298Z",
     "shell.execute_reply": "2022-11-21T00:45:35.020802Z"
    },
    "papermill": {
     "duration": 0.057613,
     "end_time": "2022-11-21T00:45:35.021444",
     "exception": false,
     "start_time": "2022-11-21T00:45:34.963831",
     "status": "completed"
    },
    "tags": []
   },
   "outputs": [
    {
     "data": {
      "text/html": [
       "<div>\n",
       "<style scoped>\n",
       "    .dataframe tbody tr th:only-of-type {\n",
       "        vertical-align: middle;\n",
       "    }\n",
       "\n",
       "    .dataframe tbody tr th {\n",
       "        vertical-align: top;\n",
       "    }\n",
       "\n",
       "    .dataframe thead th {\n",
       "        text-align: right;\n",
       "    }\n",
       "</style>\n",
       "<table border=\"1\" class=\"dataframe\">\n",
       "  <thead>\n",
       "    <tr style=\"text-align: right;\">\n",
       "      <th></th>\n",
       "      <th>Country/Region</th>\n",
       "      <th>Cases</th>\n",
       "      <th>Deaths</th>\n",
       "      <th>PCases</th>\n",
       "      <th>PDeaths</th>\n",
       "      <th>Cases (+)</th>\n",
       "      <th>Deaths (+)</th>\n",
       "      <th>Fatality Rate</th>\n",
       "      <th>Continent</th>\n",
       "    </tr>\n",
       "  </thead>\n",
       "  <tbody>\n",
       "    <tr>\n",
       "      <th>0</th>\n",
       "      <td>US</td>\n",
       "      <td>98305722</td>\n",
       "      <td>1077031</td>\n",
       "      <td>98301472</td>\n",
       "      <td>1077020</td>\n",
       "      <td>4250</td>\n",
       "      <td>11</td>\n",
       "      <td>1.1</td>\n",
       "      <td>North America</td>\n",
       "    </tr>\n",
       "    <tr>\n",
       "      <th>1</th>\n",
       "      <td>India</td>\n",
       "      <td>44670240</td>\n",
       "      <td>530574</td>\n",
       "      <td>44669748</td>\n",
       "      <td>530570</td>\n",
       "      <td>492</td>\n",
       "      <td>4</td>\n",
       "      <td>1.2</td>\n",
       "      <td>Asia</td>\n",
       "    </tr>\n",
       "    <tr>\n",
       "      <th>2</th>\n",
       "      <td>France</td>\n",
       "      <td>37508185</td>\n",
       "      <td>159203</td>\n",
       "      <td>37508185</td>\n",
       "      <td>159203</td>\n",
       "      <td>0</td>\n",
       "      <td>0</td>\n",
       "      <td>0.4</td>\n",
       "      <td>Europe</td>\n",
       "    </tr>\n",
       "    <tr>\n",
       "      <th>3</th>\n",
       "      <td>Germany</td>\n",
       "      <td>36205405</td>\n",
       "      <td>156613</td>\n",
       "      <td>36205405</td>\n",
       "      <td>156613</td>\n",
       "      <td>0</td>\n",
       "      <td>0</td>\n",
       "      <td>0.4</td>\n",
       "      <td>Europe</td>\n",
       "    </tr>\n",
       "    <tr>\n",
       "      <th>4</th>\n",
       "      <td>Brazil</td>\n",
       "      <td>34999495</td>\n",
       "      <td>688907</td>\n",
       "      <td>34999495</td>\n",
       "      <td>688907</td>\n",
       "      <td>0</td>\n",
       "      <td>0</td>\n",
       "      <td>2.0</td>\n",
       "      <td>South America</td>\n",
       "    </tr>\n",
       "  </tbody>\n",
       "</table>\n",
       "</div>"
      ],
      "text/plain": [
       "  Country/Region     Cases   Deaths    PCases  PDeaths  Cases (+)  Deaths (+)  \\\n",
       "0             US  98305722  1077031  98301472  1077020       4250          11   \n",
       "1          India  44670240   530574  44669748   530570        492           4   \n",
       "2         France  37508185   159203  37508185   159203          0           0   \n",
       "3        Germany  36205405   156613  36205405   156613          0           0   \n",
       "4         Brazil  34999495   688907  34999495   688907          0           0   \n",
       "\n",
       "   Fatality Rate      Continent  \n",
       "0            1.1  North America  \n",
       "1            1.2           Asia  \n",
       "2            0.4         Europe  \n",
       "3            0.4         Europe  \n",
       "4            2.0  South America  "
      ]
     },
     "execution_count": 15,
     "metadata": {},
     "output_type": "execute_result"
    }
   ],
   "source": [
    "#hide\n",
    "df_table = (pd.DataFrame(dict(Cases=dfc_cases, Deaths=dfc_deaths, PCases=dfp_cases, PDeaths=dfp_deaths))\n",
    "             .sort_values(by=['Cases', 'Deaths'], ascending=[False, False])\n",
    "             .reset_index())\n",
    "df_table.rename(columns={'index': 'Country/Region'}, inplace=True)\n",
    "for c in 'Cases, Deaths'.split(', '):\n",
    "    df_table[f'{c} (+)'] = (df_table[c] - df_table[f'P{c}']).clip(0)  # DATA BUG\n",
    "df_table['Fatality Rate'] = (100 * df_table['Deaths'] / df_table['Cases']).round(1)\n",
    "df_table['Continent'] = df_table['Country/Region'].map(mapping['map.continent'])\n",
    "df_table.head(5)"
   ]
  },
  {
   "cell_type": "code",
   "execution_count": 16,
   "id": "fewer-occasion",
   "metadata": {
    "execution": {
     "iopub.execute_input": "2022-11-21T00:45:35.089383Z",
     "iopub.status.busy": "2022-11-21T00:45:35.088786Z",
     "iopub.status.idle": "2022-11-21T00:45:35.092340Z",
     "shell.execute_reply": "2022-11-21T00:45:35.092908Z"
    },
    "papermill": {
     "duration": 0.040215,
     "end_time": "2022-11-21T00:45:35.093053",
     "exception": false,
     "start_time": "2022-11-21T00:45:35.052838",
     "status": "completed"
    },
    "tags": []
   },
   "outputs": [],
   "source": [
    "#hide\n",
    "#delete problematic countries from table\n",
    "df_table = df_table[~df_table['Country/Region'].isin(['Cape Verde', 'Cruise Ship', 'Kosovo'])]"
   ]
  },
  {
   "cell_type": "code",
   "execution_count": 17,
   "id": "related-center",
   "metadata": {
    "execution": {
     "iopub.execute_input": "2022-11-21T00:45:35.175282Z",
     "iopub.status.busy": "2022-11-21T00:45:35.174623Z",
     "iopub.status.idle": "2022-11-21T00:45:35.177231Z",
     "shell.execute_reply": "2022-11-21T00:45:35.177724Z"
    },
    "papermill": {
     "duration": 0.054006,
     "end_time": "2022-11-21T00:45:35.177871",
     "exception": false,
     "start_time": "2022-11-21T00:45:35.123865",
     "status": "completed"
    },
    "tags": []
   },
   "outputs": [],
   "source": [
    "#hide\n",
    "metrics = [df_table.columns[index] for index in [1,2,5,6]]\n",
    "# s_china = df_table[df_table['Country/Region'].eq('China')][metrics].sum().add_prefix('China ')\n",
    "s_us = df_table[df_table['Country/Region'].eq('US')][metrics].sum().add_prefix('US ')\n",
    "s_eu = df_table[df_table['Continent'].eq('Europe')][metrics].sum().add_prefix('EU ')\n",
    "s_ind = df_table[df_table['Country/Region'].eq('India')][metrics].sum().add_prefix('India ')\n",
    "summary = {'updated': pd.to_datetime(dt_today), 'since': pd.to_datetime(dt_yday)}\n",
    "summary = {'updated': pd.to_datetime(dt_today), 'since': pd.to_datetime(dt_yday)}\n",
    "summary = {**summary, **df_table[metrics].sum(), **s_ind, **s_us, **s_eu}"
   ]
  },
  {
   "cell_type": "code",
   "execution_count": 18,
   "id": "engaging-syndrome",
   "metadata": {
    "execution": {
     "iopub.execute_input": "2022-11-21T00:45:35.246125Z",
     "iopub.status.busy": "2022-11-21T00:45:35.245492Z",
     "iopub.status.idle": "2022-11-21T00:45:35.270319Z",
     "shell.execute_reply": "2022-11-21T00:45:35.269724Z"
    },
    "papermill": {
     "duration": 0.06145,
     "end_time": "2022-11-21T00:45:35.270464",
     "exception": false,
     "start_time": "2022-11-21T00:45:35.209014",
     "status": "completed"
    },
    "tags": []
   },
   "outputs": [],
   "source": [
    "#hide\n",
    "dft_ct_new_cases = dft_cases.groupby(COL_REGION)[dt_cols].sum().diff(axis=1).fillna(0).astype(int)"
   ]
  },
  {
   "cell_type": "code",
   "execution_count": 19,
   "id": "neutral-assignment",
   "metadata": {
    "execution": {
     "iopub.execute_input": "2022-11-21T00:45:35.338871Z",
     "iopub.status.busy": "2022-11-21T00:45:35.338273Z",
     "iopub.status.idle": "2022-11-21T00:45:35.344006Z",
     "shell.execute_reply": "2022-11-21T00:45:35.344458Z"
    },
    "papermill": {
     "duration": 0.041725,
     "end_time": "2022-11-21T00:45:35.344598",
     "exception": false,
     "start_time": "2022-11-21T00:45:35.302873",
     "status": "completed"
    },
    "tags": []
   },
   "outputs": [],
   "source": [
    "#hide\n",
    "everydaycases = dft_ct_new_cases.cumsum(axis=1)"
   ]
  },
  {
   "cell_type": "code",
   "execution_count": 20,
   "id": "parliamentary-calgary",
   "metadata": {
    "execution": {
     "iopub.execute_input": "2022-11-21T00:45:35.411586Z",
     "iopub.status.busy": "2022-11-21T00:45:35.410956Z",
     "iopub.status.idle": "2022-11-21T00:45:35.980580Z",
     "shell.execute_reply": "2022-11-21T00:45:35.980010Z"
    },
    "papermill": {
     "duration": 0.605091,
     "end_time": "2022-11-21T00:45:35.980710",
     "exception": false,
     "start_time": "2022-11-21T00:45:35.375619",
     "status": "completed"
    },
    "tags": []
   },
   "outputs": [],
   "source": [
    "#hide\n",
    "import pandas as pd\n",
    "import matplotlib.pyplot as plt\n",
    "import matplotlib.ticker as ticker\n",
    "import matplotlib.animation as animation\n",
    "from IPython.display import HTML"
   ]
  },
  {
   "cell_type": "code",
   "execution_count": 21,
   "id": "lasting-extraction",
   "metadata": {
    "execution": {
     "iopub.execute_input": "2022-11-21T00:45:36.050464Z",
     "iopub.status.busy": "2022-11-21T00:45:36.049825Z",
     "iopub.status.idle": "2022-11-21T00:45:36.058250Z",
     "shell.execute_reply": "2022-11-21T00:45:36.057775Z"
    },
    "papermill": {
     "duration": 0.046644,
     "end_time": "2022-11-21T00:45:36.058375",
     "exception": false,
     "start_time": "2022-11-21T00:45:36.011731",
     "status": "completed"
    },
    "tags": []
   },
   "outputs": [],
   "source": [
    "#hide\n",
    "t = everydaycases.stack()"
   ]
  },
  {
   "cell_type": "code",
   "execution_count": 22,
   "id": "premier-sleeve",
   "metadata": {
    "execution": {
     "iopub.execute_input": "2022-11-21T00:45:36.125696Z",
     "iopub.status.busy": "2022-11-21T00:45:36.125056Z",
     "iopub.status.idle": "2022-11-21T00:45:36.138297Z",
     "shell.execute_reply": "2022-11-21T00:45:36.137792Z"
    },
    "papermill": {
     "duration": 0.048864,
     "end_time": "2022-11-21T00:45:36.138415",
     "exception": false,
     "start_time": "2022-11-21T00:45:36.089551",
     "status": "completed"
    },
    "tags": []
   },
   "outputs": [],
   "source": [
    "#hide\n",
    "g = t.reset_index(['Country/Region'])"
   ]
  },
  {
   "cell_type": "code",
   "execution_count": 23,
   "id": "distributed-pittsburgh",
   "metadata": {
    "execution": {
     "iopub.execute_input": "2022-11-21T00:45:36.205758Z",
     "iopub.status.busy": "2022-11-21T00:45:36.204998Z",
     "iopub.status.idle": "2022-11-21T00:45:36.207506Z",
     "shell.execute_reply": "2022-11-21T00:45:36.207046Z"
    },
    "papermill": {
     "duration": 0.037891,
     "end_time": "2022-11-21T00:45:36.207625",
     "exception": false,
     "start_time": "2022-11-21T00:45:36.169734",
     "status": "completed"
    },
    "tags": []
   },
   "outputs": [],
   "source": [
    "#hide\n",
    "g.index.name = 'date'"
   ]
  },
  {
   "cell_type": "code",
   "execution_count": 24,
   "id": "naked-donor",
   "metadata": {
    "execution": {
     "iopub.execute_input": "2022-11-21T00:45:36.274848Z",
     "iopub.status.busy": "2022-11-21T00:45:36.274138Z",
     "iopub.status.idle": "2022-11-21T00:45:36.277605Z",
     "shell.execute_reply": "2022-11-21T00:45:36.278043Z"
    },
    "papermill": {
     "duration": 0.039444,
     "end_time": "2022-11-21T00:45:36.278187",
     "exception": false,
     "start_time": "2022-11-21T00:45:36.238743",
     "status": "completed"
    },
    "tags": []
   },
   "outputs": [],
   "source": [
    "# #hide\n",
    "# g = g.reset_index(['date'])"
   ]
  },
  {
   "cell_type": "code",
   "execution_count": 25,
   "id": "incomplete-mustang",
   "metadata": {
    "execution": {
     "iopub.execute_input": "2022-11-21T00:45:36.344343Z",
     "iopub.status.busy": "2022-11-21T00:45:36.343722Z",
     "iopub.status.idle": "2022-11-21T00:45:36.346054Z",
     "shell.execute_reply": "2022-11-21T00:45:36.346506Z"
    },
    "papermill": {
     "duration": 0.037186,
     "end_time": "2022-11-21T00:45:36.346641",
     "exception": false,
     "start_time": "2022-11-21T00:45:36.309455",
     "status": "completed"
    },
    "tags": []
   },
   "outputs": [],
   "source": [
    "#hide\n",
    "# g.head()"
   ]
  },
  {
   "cell_type": "code",
   "execution_count": 26,
   "id": "specific-kruger",
   "metadata": {
    "execution": {
     "iopub.execute_input": "2022-11-21T00:45:36.412704Z",
     "iopub.status.busy": "2022-11-21T00:45:36.412061Z",
     "iopub.status.idle": "2022-11-21T00:45:36.414570Z",
     "shell.execute_reply": "2022-11-21T00:45:36.413997Z"
    },
    "papermill": {
     "duration": 0.037134,
     "end_time": "2022-11-21T00:45:36.414688",
     "exception": false,
     "start_time": "2022-11-21T00:45:36.377554",
     "status": "completed"
    },
    "tags": []
   },
   "outputs": [],
   "source": [
    "#hide\n",
    "# g.columns = ['date','country','cases']"
   ]
  },
  {
   "cell_type": "code",
   "execution_count": 27,
   "id": "tender-conversion",
   "metadata": {
    "execution": {
     "iopub.execute_input": "2022-11-21T00:45:36.481177Z",
     "iopub.status.busy": "2022-11-21T00:45:36.480448Z",
     "iopub.status.idle": "2022-11-21T00:45:36.482109Z",
     "shell.execute_reply": "2022-11-21T00:45:36.482670Z"
    },
    "papermill": {
     "duration": 0.037183,
     "end_time": "2022-11-21T00:45:36.482808",
     "exception": false,
     "start_time": "2022-11-21T00:45:36.445625",
     "status": "completed"
    },
    "tags": []
   },
   "outputs": [],
   "source": [
    "#hide\n",
    "# g['continent'] = g.country"
   ]
  },
  {
   "cell_type": "code",
   "execution_count": 28,
   "id": "substantial-wilderness",
   "metadata": {
    "execution": {
     "iopub.execute_input": "2022-11-21T00:45:36.549382Z",
     "iopub.status.busy": "2022-11-21T00:45:36.548746Z",
     "iopub.status.idle": "2022-11-21T00:45:36.551331Z",
     "shell.execute_reply": "2022-11-21T00:45:36.550847Z"
    },
    "papermill": {
     "duration": 0.037464,
     "end_time": "2022-11-21T00:45:36.551449",
     "exception": false,
     "start_time": "2022-11-21T00:45:36.513985",
     "status": "completed"
    },
    "tags": []
   },
   "outputs": [],
   "source": [
    "#hide\n",
    "# cols = list(g.columns.values)"
   ]
  },
  {
   "cell_type": "code",
   "execution_count": 29,
   "id": "solved-farming",
   "metadata": {
    "execution": {
     "iopub.execute_input": "2022-11-21T00:45:36.618179Z",
     "iopub.status.busy": "2022-11-21T00:45:36.617336Z",
     "iopub.status.idle": "2022-11-21T00:45:36.620726Z",
     "shell.execute_reply": "2022-11-21T00:45:36.621261Z"
    },
    "papermill": {
     "duration": 0.03918,
     "end_time": "2022-11-21T00:45:36.621458",
     "exception": false,
     "start_time": "2022-11-21T00:45:36.582278",
     "status": "completed"
    },
    "tags": []
   },
   "outputs": [],
   "source": [
    "#hide\n",
    "# cols.insert(0, cols.pop())"
   ]
  },
  {
   "cell_type": "code",
   "execution_count": 30,
   "id": "executed-adoption",
   "metadata": {
    "execution": {
     "iopub.execute_input": "2022-11-21T00:45:36.688493Z",
     "iopub.status.busy": "2022-11-21T00:45:36.687749Z",
     "iopub.status.idle": "2022-11-21T00:45:36.689589Z",
     "shell.execute_reply": "2022-11-21T00:45:36.690148Z"
    },
    "papermill": {
     "duration": 0.037454,
     "end_time": "2022-11-21T00:45:36.690308",
     "exception": false,
     "start_time": "2022-11-21T00:45:36.652854",
     "status": "completed"
    },
    "tags": []
   },
   "outputs": [],
   "source": [
    "#hide\n",
    "# g = g[cols]"
   ]
  },
  {
   "cell_type": "code",
   "execution_count": 31,
   "id": "subject-dublin",
   "metadata": {
    "execution": {
     "iopub.execute_input": "2022-11-21T00:45:36.757532Z",
     "iopub.status.busy": "2022-11-21T00:45:36.756864Z",
     "iopub.status.idle": "2022-11-21T00:45:36.758862Z",
     "shell.execute_reply": "2022-11-21T00:45:36.759292Z"
    },
    "papermill": {
     "duration": 0.037433,
     "end_time": "2022-11-21T00:45:36.759434",
     "exception": false,
     "start_time": "2022-11-21T00:45:36.722001",
     "status": "completed"
    },
    "tags": []
   },
   "outputs": [],
   "source": [
    "#hide\n",
    "# g['continent'] = g['continent'].map(mapping['map.continent'])"
   ]
  },
  {
   "cell_type": "code",
   "execution_count": 32,
   "id": "freelance-scout",
   "metadata": {
    "execution": {
     "iopub.execute_input": "2022-11-21T00:45:36.825994Z",
     "iopub.status.busy": "2022-11-21T00:45:36.825329Z",
     "iopub.status.idle": "2022-11-21T00:45:36.827684Z",
     "shell.execute_reply": "2022-11-21T00:45:36.828165Z"
    },
    "papermill": {
     "duration": 0.037726,
     "end_time": "2022-11-21T00:45:36.828301",
     "exception": false,
     "start_time": "2022-11-21T00:45:36.790575",
     "status": "completed"
    },
    "tags": []
   },
   "outputs": [],
   "source": [
    "#hide\n",
    "# g.head()"
   ]
  },
  {
   "cell_type": "code",
   "execution_count": 33,
   "id": "limited-engine",
   "metadata": {
    "execution": {
     "iopub.execute_input": "2022-11-21T00:45:36.894548Z",
     "iopub.status.busy": "2022-11-21T00:45:36.893838Z",
     "iopub.status.idle": "2022-11-21T00:45:36.895589Z",
     "shell.execute_reply": "2022-11-21T00:45:36.896134Z"
    },
    "papermill": {
     "duration": 0.037211,
     "end_time": "2022-11-21T00:45:36.896284",
     "exception": false,
     "start_time": "2022-11-21T00:45:36.859073",
     "status": "completed"
    },
    "tags": []
   },
   "outputs": [],
   "source": [
    "# hide\n",
    "# g['date'] = g['date'].astype('datetime64[ns]')"
   ]
  },
  {
   "cell_type": "code",
   "execution_count": 34,
   "id": "sophisticated-supervisor",
   "metadata": {
    "execution": {
     "iopub.execute_input": "2022-11-21T00:45:36.963766Z",
     "iopub.status.busy": "2022-11-21T00:45:36.963128Z",
     "iopub.status.idle": "2022-11-21T00:45:36.965625Z",
     "shell.execute_reply": "2022-11-21T00:45:36.965025Z"
    },
    "papermill": {
     "duration": 0.037756,
     "end_time": "2022-11-21T00:45:36.965748",
     "exception": false,
     "start_time": "2022-11-21T00:45:36.927992",
     "status": "completed"
    },
    "tags": []
   },
   "outputs": [],
   "source": [
    "#hide\n",
    "# g['date'] = g.date.dt.dayofyear"
   ]
  },
  {
   "cell_type": "code",
   "execution_count": 35,
   "id": "inside-dubai",
   "metadata": {
    "execution": {
     "iopub.execute_input": "2022-11-21T00:45:37.032328Z",
     "iopub.status.busy": "2022-11-21T00:45:37.031613Z",
     "iopub.status.idle": "2022-11-21T00:45:37.033537Z",
     "shell.execute_reply": "2022-11-21T00:45:37.034060Z"
    },
    "papermill": {
     "duration": 0.037505,
     "end_time": "2022-11-21T00:45:37.034201",
     "exception": false,
     "start_time": "2022-11-21T00:45:36.996696",
     "status": "completed"
    },
    "tags": []
   },
   "outputs": [],
   "source": [
    "#hide\n",
    "# g = g.rename(columns= {'continent':'group','country':'name','cases':'value'})"
   ]
  },
  {
   "cell_type": "code",
   "execution_count": 36,
   "id": "fleet-motorcycle",
   "metadata": {
    "execution": {
     "iopub.execute_input": "2022-11-21T00:45:37.101856Z",
     "iopub.status.busy": "2022-11-21T00:45:37.101200Z",
     "iopub.status.idle": "2022-11-21T00:45:37.103604Z",
     "shell.execute_reply": "2022-11-21T00:45:37.104164Z"
    },
    "papermill": {
     "duration": 0.038494,
     "end_time": "2022-11-21T00:45:37.104308",
     "exception": false,
     "start_time": "2022-11-21T00:45:37.065814",
     "status": "completed"
    },
    "tags": []
   },
   "outputs": [],
   "source": [
    "#hide\n",
    "# cols = ['name','group','day','value']"
   ]
  },
  {
   "cell_type": "code",
   "execution_count": 37,
   "id": "continued-sleeping",
   "metadata": {
    "execution": {
     "iopub.execute_input": "2022-11-21T00:45:37.171252Z",
     "iopub.status.busy": "2022-11-21T00:45:37.170423Z",
     "iopub.status.idle": "2022-11-21T00:45:37.172215Z",
     "shell.execute_reply": "2022-11-21T00:45:37.172874Z"
    },
    "papermill": {
     "duration": 0.03782,
     "end_time": "2022-11-21T00:45:37.173034",
     "exception": false,
     "start_time": "2022-11-21T00:45:37.135214",
     "status": "completed"
    },
    "tags": []
   },
   "outputs": [],
   "source": [
    "#hide\n",
    "# g.rename(columns= {'date':'day'},inplace = True)"
   ]
  },
  {
   "cell_type": "code",
   "execution_count": 38,
   "id": "major-fight",
   "metadata": {
    "execution": {
     "iopub.execute_input": "2022-11-21T00:45:37.240333Z",
     "iopub.status.busy": "2022-11-21T00:45:37.239685Z",
     "iopub.status.idle": "2022-11-21T00:45:37.243369Z",
     "shell.execute_reply": "2022-11-21T00:45:37.243807Z"
    },
    "papermill": {
     "duration": 0.039418,
     "end_time": "2022-11-21T00:45:37.243953",
     "exception": false,
     "start_time": "2022-11-21T00:45:37.204535",
     "status": "completed"
    },
    "tags": []
   },
   "outputs": [],
   "source": [
    "#hide\n",
    "# g = g[cols]"
   ]
  },
  {
   "cell_type": "code",
   "execution_count": 39,
   "id": "structured-mobile",
   "metadata": {
    "execution": {
     "iopub.execute_input": "2022-11-21T00:45:37.310174Z",
     "iopub.status.busy": "2022-11-21T00:45:37.309523Z",
     "iopub.status.idle": "2022-11-21T00:45:37.313355Z",
     "shell.execute_reply": "2022-11-21T00:45:37.313826Z"
    },
    "papermill": {
     "duration": 0.039163,
     "end_time": "2022-11-21T00:45:37.313971",
     "exception": false,
     "start_time": "2022-11-21T00:45:37.274808",
     "status": "completed"
    },
    "tags": []
   },
   "outputs": [],
   "source": [
    "# #hide\n",
    "# g = g[g.group.notna()]"
   ]
  },
  {
   "cell_type": "code",
   "execution_count": 40,
   "id": "determined-closing",
   "metadata": {
    "execution": {
     "iopub.execute_input": "2022-11-21T00:45:37.381107Z",
     "iopub.status.busy": "2022-11-21T00:45:37.380458Z",
     "iopub.status.idle": "2022-11-21T00:45:37.383024Z",
     "shell.execute_reply": "2022-11-21T00:45:37.382535Z"
    },
    "papermill": {
     "duration": 0.038015,
     "end_time": "2022-11-21T00:45:37.383146",
     "exception": false,
     "start_time": "2022-11-21T00:45:37.345131",
     "status": "completed"
    },
    "tags": []
   },
   "outputs": [],
   "source": [
    "# #hide\n",
    "# colors = dict(zip(\n",
    "#     [\"Oceania\", \"Europe\", \"Asia\", \"South America\", \"Middle East\", \"North America\", \"Africa\"],\n",
    "#     [\"#adb0ff\", \"#ffb3ff\", \"#90d595\", \"#e48381\", \"#aafbff\", \"#f7bb5f\", \"#eafb50\"]\n",
    "# ))\n",
    "# group_lk = g.set_index('name')['group'].to_dict()"
   ]
  },
  {
   "cell_type": "code",
   "execution_count": null,
   "id": "gross-drinking",
   "metadata": {
    "papermill": {
     "duration": 0.030955,
     "end_time": "2022-11-21T00:45:37.445289",
     "exception": false,
     "start_time": "2022-11-21T00:45:37.414334",
     "status": "completed"
    },
    "tags": []
   },
   "outputs": [],
   "source": []
  },
  {
   "cell_type": "code",
   "execution_count": 41,
   "id": "subject-macintosh",
   "metadata": {
    "execution": {
     "iopub.execute_input": "2022-11-21T00:45:37.512743Z",
     "iopub.status.busy": "2022-11-21T00:45:37.511995Z",
     "iopub.status.idle": "2022-11-21T00:45:37.513756Z",
     "shell.execute_reply": "2022-11-21T00:45:37.514242Z"
    },
    "papermill": {
     "duration": 0.038047,
     "end_time": "2022-11-21T00:45:37.514385",
     "exception": false,
     "start_time": "2022-11-21T00:45:37.476338",
     "status": "completed"
    },
    "tags": []
   },
   "outputs": [],
   "source": [
    "# #hide\n",
    "# fig, ax = plt.subplots(figsize=(15, 8))\n",
    "\n",
    "# def draw_barchart(current_day):\n",
    "#     dff = g[g['day'].eq(current_day)].sort_values(by='value', ascending=True).tail(10)\n",
    "#     ax.clear()\n",
    "#     ax.barh(dff['name'], dff['value'], color=[colors[group_lk[x]] for x in dff['name']])\n",
    "#     dx = dff['value'].max() / 200\n",
    "    \n",
    "#     for i, (value, name) in enumerate(zip(dff['value'], dff['name'])):\n",
    "#         ax.text(value-dx, i,     name,           size=14, weight=600, ha='right', va='bottom')\n",
    "#         ax.text(value-dx, i-.25, group_lk[name], size=10, color='#444444', ha='right', va='baseline')\n",
    "#         ax.text(value+dx, i,     f'{value:,.0f}',  size=14, ha='left',  va='center')\n",
    "#     ax.text(1, 0.4, current_day, transform=ax.transAxes, color='#777777', size=46, ha='right', weight=800)\n",
    "#     ax.text(0, 1.06, 'Population (thousands)', transform=ax.transAxes, size=12, color='#777777')\n",
    "#     ax.xaxis.set_major_formatter(ticker.StrMethodFormatter('{x:,.0f}'))\n",
    "#     ax.xaxis.set_ticks_position('top')\n",
    "#     ax.tick_params(axis='x', colors='#777777', labelsize=12)\n",
    "#     ax.set_yticks([])\n",
    "#     ax.margins(0, 0.01)\n",
    "#     ax.grid(which='major', axis='x', linestyle='-')\n",
    "#     ax.set_axisbelow(True)\n",
    "    \n",
    "#     ax.text(0, 1.15, 'Coronavirus',\n",
    "#             transform=ax.transAxes, size=24, weight=600, ha='left', va='top')\n",
    "# #     ax.text(1, 0, 'by @pratapvardhan; credit @jburnmurdoch', transform=ax.transAxes, color='#777777', ha='right',\n",
    "# #             bbox=dict(facecolor='white', alpha=0.8, edgecolor='white'))\n",
    "#     plt.box(False)"
   ]
  },
  {
   "cell_type": "code",
   "execution_count": 42,
   "id": "sexual-wages",
   "metadata": {
    "execution": {
     "iopub.execute_input": "2022-11-21T00:45:37.581158Z",
     "iopub.status.busy": "2022-11-21T00:45:37.580425Z",
     "iopub.status.idle": "2022-11-21T00:45:37.582231Z",
     "shell.execute_reply": "2022-11-21T00:45:37.582772Z"
    },
    "papermill": {
     "duration": 0.037521,
     "end_time": "2022-11-21T00:45:37.582922",
     "exception": false,
     "start_time": "2022-11-21T00:45:37.545401",
     "status": "completed"
    },
    "tags": []
   },
   "outputs": [],
   "source": [
    "# #hide_input\n",
    "# fig, ax = plt.subplots(figsize=(15, 8))\n",
    "# animator = animation.FuncAnimation(fig, draw_barchart, frames=range(g.day.values.min(), g.day.values.max()))\n",
    "# HTML(animator.to_jshtml())\n",
    "# # or use animator.to_html5_video() or animator.save() "
   ]
  },
  {
   "cell_type": "code",
   "execution_count": null,
   "id": "australian-container",
   "metadata": {
    "papermill": {
     "duration": 0.030884,
     "end_time": "2022-11-21T00:45:37.645156",
     "exception": false,
     "start_time": "2022-11-21T00:45:37.614272",
     "status": "completed"
    },
    "tags": []
   },
   "outputs": [],
   "source": []
  },
  {
   "cell_type": "code",
   "execution_count": null,
   "id": "mediterranean-pontiac",
   "metadata": {
    "papermill": {
     "duration": 0.03076,
     "end_time": "2022-11-21T00:45:37.707391",
     "exception": false,
     "start_time": "2022-11-21T00:45:37.676631",
     "status": "completed"
    },
    "tags": []
   },
   "outputs": [],
   "source": []
  },
  {
   "cell_type": "code",
   "execution_count": null,
   "id": "aging-legislature",
   "metadata": {
    "papermill": {
     "duration": 0.03079,
     "end_time": "2022-11-21T00:45:37.769390",
     "exception": false,
     "start_time": "2022-11-21T00:45:37.738600",
     "status": "completed"
    },
    "tags": []
   },
   "outputs": [],
   "source": []
  }
 ],
 "metadata": {
  "kernelspec": {
   "display_name": "Python 3",
   "language": "python",
   "name": "python3"
  },
  "language_info": {
   "codemirror_mode": {
    "name": "ipython",
    "version": 3
   },
   "file_extension": ".py",
   "mimetype": "text/x-python",
   "name": "python",
   "nbconvert_exporter": "python",
   "pygments_lexer": "ipython3",
   "version": "3.6.15"
  },
  "papermill": {
   "duration": 6.38382,
   "end_time": "2022-11-21T00:45:38.219071",
   "environment_variables": {},
   "exception": null,
   "input_path": "2020-03-21-covid19exp.ipynb",
   "output_path": "2020-03-21-covid19exp.ipynb",
   "parameters": {},
   "start_time": "2022-11-21T00:45:31.835251",
   "version": "2.0.0"
  }
 },
 "nbformat": 4,
 "nbformat_minor": 5
}