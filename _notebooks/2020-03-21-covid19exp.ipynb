{
 "cells": [
  {
   "cell_type": "markdown",
   "id": "muslim-click",
   "metadata": {
    "papermill": {
     "duration": 0.040354,
     "end_time": "2021-03-30T00:06:16.868513",
     "exception": false,
     "start_time": "2021-03-30T00:06:16.828159",
     "status": "completed"
    },
    "tags": []
   },
   "source": [
    "# COVID-19 Case Race\n",
    "> A race chart to see rising cases around the world\n",
    "\n",
    "- author: Hargun Oberoi\n",
    "- image: images/covid-overview.png\n",
    "- hide: false\n",
    "- badges: false"
   ]
  },
  {
   "cell_type": "code",
   "execution_count": 1,
   "id": "proof-material",
   "metadata": {
    "execution": {
     "iopub.execute_input": "2021-03-30T00:06:16.952981Z",
     "iopub.status.busy": "2021-03-30T00:06:16.952043Z",
     "iopub.status.idle": "2021-03-30T00:06:17.316404Z",
     "shell.execute_reply": "2021-03-30T00:06:17.315524Z"
    },
    "papermill": {
     "duration": 0.412085,
     "end_time": "2021-03-30T00:06:17.316644",
     "exception": false,
     "start_time": "2021-03-30T00:06:16.904559",
     "status": "completed"
    },
    "tags": []
   },
   "outputs": [],
   "source": [
    "#hide\n",
    "import numpy as np\n",
    "import pandas as pd\n",
    "from jinja2 import Template\n",
    "from IPython.display import HTML"
   ]
  },
  {
   "cell_type": "code",
   "execution_count": 2,
   "id": "developed-terminology",
   "metadata": {
    "execution": {
     "iopub.execute_input": "2021-03-30T00:06:17.394110Z",
     "iopub.status.busy": "2021-03-30T00:06:17.393085Z",
     "iopub.status.idle": "2021-03-30T00:06:17.395235Z",
     "shell.execute_reply": "2021-03-30T00:06:17.396052Z"
    },
    "papermill": {
     "duration": 0.0437,
     "end_time": "2021-03-30T00:06:17.396279",
     "exception": false,
     "start_time": "2021-03-30T00:06:17.352579",
     "status": "completed"
    },
    "tags": []
   },
   "outputs": [],
   "source": [
    "#hide\n",
    "\n",
    "# FETCH\n",
    "base_url = 'https://raw.githubusercontent.com/pratapvardhan/notebooks/master/covid19/'\n",
    "paths = {\n",
    "    'mapping': base_url + 'mapping_countries.csv',\n",
    "    'overview': base_url + 'overview.tpl'\n",
    "}"
   ]
  },
  {
   "cell_type": "code",
   "execution_count": 3,
   "id": "dynamic-saver",
   "metadata": {
    "execution": {
     "iopub.execute_input": "2021-03-30T00:06:17.481226Z",
     "iopub.status.busy": "2021-03-30T00:06:17.480520Z",
     "iopub.status.idle": "2021-03-30T00:06:17.483065Z",
     "shell.execute_reply": "2021-03-30T00:06:17.483538Z"
    },
    "papermill": {
     "duration": 0.061453,
     "end_time": "2021-03-30T00:06:17.493827",
     "exception": false,
     "start_time": "2021-03-30T00:06:17.432374",
     "status": "completed"
    },
    "tags": []
   },
   "outputs": [
    {
     "data": {
      "text/plain": [
       "'https://raw.githubusercontent.com/pratapvardhan/notebooks/master/covid19/mapping_countries.csv'"
      ]
     },
     "execution_count": 3,
     "metadata": {},
     "output_type": "execute_result"
    }
   ],
   "source": [
    "#hide\n",
    "paths['mapping']"
   ]
  },
  {
   "cell_type": "code",
   "execution_count": 4,
   "id": "urban-software",
   "metadata": {
    "execution": {
     "iopub.execute_input": "2021-03-30T00:06:17.571011Z",
     "iopub.status.busy": "2021-03-30T00:06:17.570243Z",
     "iopub.status.idle": "2021-03-30T00:06:17.572797Z",
     "shell.execute_reply": "2021-03-30T00:06:17.573349Z"
    },
    "papermill": {
     "duration": 0.043665,
     "end_time": "2021-03-30T00:06:17.573490",
     "exception": false,
     "start_time": "2021-03-30T00:06:17.529825",
     "status": "completed"
    },
    "tags": []
   },
   "outputs": [],
   "source": [
    "#hide\n",
    "def get_mappings(url):\n",
    "    df = pd.read_csv(url)\n",
    "    return {\n",
    "        'df': df,\n",
    "        'replace.country': dict(df.dropna(subset=['Name']).set_index('Country')['Name']),\n",
    "        'map.continent': dict(df.set_index('Name')['Continent'])\n",
    "    }"
   ]
  },
  {
   "cell_type": "code",
   "execution_count": 5,
   "id": "intimate-machinery",
   "metadata": {
    "execution": {
     "iopub.execute_input": "2021-03-30T00:06:17.653884Z",
     "iopub.status.busy": "2021-03-30T00:06:17.653184Z",
     "iopub.status.idle": "2021-03-30T00:06:17.696574Z",
     "shell.execute_reply": "2021-03-30T00:06:17.696061Z"
    },
    "papermill": {
     "duration": 0.087613,
     "end_time": "2021-03-30T00:06:17.696710",
     "exception": false,
     "start_time": "2021-03-30T00:06:17.609097",
     "status": "completed"
    },
    "tags": []
   },
   "outputs": [],
   "source": [
    "#hide\n",
    "mapping = get_mappings(paths['mapping'])"
   ]
  },
  {
   "cell_type": "code",
   "execution_count": 6,
   "id": "certified-tactics",
   "metadata": {
    "execution": {
     "iopub.execute_input": "2021-03-30T00:06:17.776948Z",
     "iopub.status.busy": "2021-03-30T00:06:17.776354Z",
     "iopub.status.idle": "2021-03-30T00:06:17.778730Z",
     "shell.execute_reply": "2021-03-30T00:06:17.779177Z"
    },
    "papermill": {
     "duration": 0.047769,
     "end_time": "2021-03-30T00:06:17.779324",
     "exception": false,
     "start_time": "2021-03-30T00:06:17.731555",
     "status": "completed"
    },
    "tags": []
   },
   "outputs": [],
   "source": [
    "#hide\n",
    "def get_template(path):\n",
    "    from urllib.parse import urlparse\n",
    "    if bool(urlparse(path).netloc):\n",
    "        from urllib.request import urlopen\n",
    "        return urlopen(path).read().decode('utf8')\n",
    "    return open(path).read()"
   ]
  },
  {
   "cell_type": "code",
   "execution_count": 7,
   "id": "realistic-blast",
   "metadata": {
    "execution": {
     "iopub.execute_input": "2021-03-30T00:06:17.860027Z",
     "iopub.status.busy": "2021-03-30T00:06:17.859432Z",
     "iopub.status.idle": "2021-03-30T00:06:17.861606Z",
     "shell.execute_reply": "2021-03-30T00:06:17.861116Z"
    },
    "papermill": {
     "duration": 0.043965,
     "end_time": "2021-03-30T00:06:17.861730",
     "exception": false,
     "start_time": "2021-03-30T00:06:17.817765",
     "status": "completed"
    },
    "tags": []
   },
   "outputs": [],
   "source": [
    "#hide\n",
    "def get_frame(name):\n",
    "    url = (\n",
    "        'https://raw.githubusercontent.com/CSSEGISandData/COVID-19/master/csse_covid_19_data/'\n",
    "        f'csse_covid_19_time_series/time_series_covid19_{name}_global.csv')\n",
    "    df = pd.read_csv(url)\n",
    "    # rename countries\n",
    "    df['Country/Region'] = df['Country/Region'].replace(mapping['replace.country'])\n",
    "    return df"
   ]
  },
  {
   "cell_type": "code",
   "execution_count": 8,
   "id": "affiliated-characterization",
   "metadata": {
    "execution": {
     "iopub.execute_input": "2021-03-30T00:06:17.940881Z",
     "iopub.status.busy": "2021-03-30T00:06:17.940284Z",
     "iopub.status.idle": "2021-03-30T00:06:17.942052Z",
     "shell.execute_reply": "2021-03-30T00:06:17.942581Z"
    },
    "papermill": {
     "duration": 0.046145,
     "end_time": "2021-03-30T00:06:17.942729",
     "exception": false,
     "start_time": "2021-03-30T00:06:17.896584",
     "status": "completed"
    },
    "tags": []
   },
   "outputs": [],
   "source": [
    "#hide\n",
    "def get_dates(df):\n",
    "    dt_cols = df.columns[~df.columns.isin(['Province/State', 'Country/Region', 'Lat', 'Long'])]\n",
    "    LAST_DATE_I = -1\n",
    "    # sometimes last column may be empty, then go backwards\n",
    "    for i in range(-1, -len(dt_cols), -1):\n",
    "        if not df[dt_cols[i]].fillna(0).eq(0).all():\n",
    "            LAST_DATE_I = i\n",
    "            break\n",
    "    return LAST_DATE_I, dt_cols"
   ]
  },
  {
   "cell_type": "code",
   "execution_count": 9,
   "id": "recent-optimization",
   "metadata": {
    "execution": {
     "iopub.execute_input": "2021-03-30T00:06:18.020118Z",
     "iopub.status.busy": "2021-03-30T00:06:18.019510Z",
     "iopub.status.idle": "2021-03-30T00:06:18.366219Z",
     "shell.execute_reply": "2021-03-30T00:06:18.365688Z"
    },
    "papermill": {
     "duration": 0.388855,
     "end_time": "2021-03-30T00:06:18.366353",
     "exception": false,
     "start_time": "2021-03-30T00:06:17.977498",
     "status": "completed"
    },
    "tags": []
   },
   "outputs": [],
   "source": [
    "#hide\n",
    "COL_REGION = 'Country/Region'\n",
    "# Confirmed, Recovered, Deaths\n",
    "df = get_frame('confirmed')\n",
    "# dft_: timeseries, dfc_: today country agg\n",
    "dft_cases = df\n",
    "dft_deaths = get_frame('deaths')\n",
    "dft_recovered = get_frame('recovered')\n",
    "LAST_DATE_I, dt_cols = get_dates(df)"
   ]
  },
  {
   "cell_type": "code",
   "execution_count": 10,
   "id": "absolute-copper",
   "metadata": {
    "execution": {
     "iopub.execute_input": "2021-03-30T00:06:18.444726Z",
     "iopub.status.busy": "2021-03-30T00:06:18.443786Z",
     "iopub.status.idle": "2021-03-30T00:06:18.445348Z",
     "shell.execute_reply": "2021-03-30T00:06:18.445805Z"
    },
    "papermill": {
     "duration": 0.044742,
     "end_time": "2021-03-30T00:06:18.445947",
     "exception": false,
     "start_time": "2021-03-30T00:06:18.401205",
     "status": "completed"
    },
    "tags": []
   },
   "outputs": [],
   "source": [
    "#hide\n",
    "LAST_DATE_I, dt_cols = get_dates(df)\n",
    "dt_today =dt_cols[LAST_DATE_I]\n",
    "# dt_5day = dt_cols[LAST_DATE_I - 5]\n",
    "dt_yday = dt_cols[LAST_DATE_I - 1]"
   ]
  },
  {
   "cell_type": "code",
   "execution_count": 11,
   "id": "restricted-sheriff",
   "metadata": {
    "execution": {
     "iopub.execute_input": "2021-03-30T00:06:18.525169Z",
     "iopub.status.busy": "2021-03-30T00:06:18.524566Z",
     "iopub.status.idle": "2021-03-30T00:06:18.530214Z",
     "shell.execute_reply": "2021-03-30T00:06:18.530843Z"
    },
    "papermill": {
     "duration": 0.049482,
     "end_time": "2021-03-30T00:06:18.531003",
     "exception": false,
     "start_time": "2021-03-30T00:06:18.481521",
     "status": "completed"
    },
    "tags": []
   },
   "outputs": [],
   "source": [
    "#hide\n",
    "dfc_cases = dft_cases.groupby(COL_REGION)[dt_today].sum()\n",
    "dfc_deaths = dft_deaths.groupby(COL_REGION)[dt_today].sum()\n",
    "# dfp_cases = dft_cases.groupby(COL_REGION)[dt_5day].sum()\n",
    "# dfp_deaths = dft_deaths.groupby(COL_REGION)[dt_5day].sum()\n",
    "dfp_cases = dft_cases.groupby(COL_REGION)[dt_yday].sum()\n",
    "dfp_deaths = dft_deaths.groupby(COL_REGION)[dt_yday].sum()"
   ]
  },
  {
   "cell_type": "code",
   "execution_count": 12,
   "id": "deluxe-hepatitis",
   "metadata": {
    "execution": {
     "iopub.execute_input": "2021-03-30T00:06:18.609715Z",
     "iopub.status.busy": "2021-03-30T00:06:18.609109Z",
     "iopub.status.idle": "2021-03-30T00:06:18.613966Z",
     "shell.execute_reply": "2021-03-30T00:06:18.613496Z"
    },
    "papermill": {
     "duration": 0.047797,
     "end_time": "2021-03-30T00:06:18.614093",
     "exception": false,
     "start_time": "2021-03-30T00:06:18.566296",
     "status": "completed"
    },
    "tags": []
   },
   "outputs": [],
   "source": [
    "#hide\n",
    "df_table = (pd.DataFrame(dict(Cases = dfc_cases, Deaths = dfc_deaths, PCases = dfp_cases, PDeaths = dfp_deaths))\n",
    "            .sort_values(by = ['Cases','Deaths'], ascending = [False, False])\n",
    "            .reset_index())"
   ]
  },
  {
   "cell_type": "code",
   "execution_count": 13,
   "id": "educational-chancellor",
   "metadata": {
    "execution": {
     "iopub.execute_input": "2021-03-30T00:06:18.704680Z",
     "iopub.status.busy": "2021-03-30T00:06:18.703932Z",
     "iopub.status.idle": "2021-03-30T00:06:18.726813Z",
     "shell.execute_reply": "2021-03-30T00:06:18.727323Z"
    },
    "papermill": {
     "duration": 0.072614,
     "end_time": "2021-03-30T00:06:18.727477",
     "exception": false,
     "start_time": "2021-03-30T00:06:18.654863",
     "status": "completed"
    },
    "tags": []
   },
   "outputs": [
    {
     "data": {
      "text/html": [
       "<div>\n",
       "<style scoped>\n",
       "    .dataframe tbody tr th:only-of-type {\n",
       "        vertical-align: middle;\n",
       "    }\n",
       "\n",
       "    .dataframe tbody tr th {\n",
       "        vertical-align: top;\n",
       "    }\n",
       "\n",
       "    .dataframe thead th {\n",
       "        text-align: right;\n",
       "    }\n",
       "</style>\n",
       "<table border=\"1\" class=\"dataframe\">\n",
       "  <thead>\n",
       "    <tr style=\"text-align: right;\">\n",
       "      <th></th>\n",
       "      <th>Country/Region</th>\n",
       "      <th>Cases</th>\n",
       "      <th>Deaths</th>\n",
       "      <th>PCases</th>\n",
       "      <th>PDeaths</th>\n",
       "      <th>Cases (+)</th>\n",
       "      <th>Deaths (+)</th>\n",
       "      <th>Fatality Rate</th>\n",
       "      <th>Continent</th>\n",
       "    </tr>\n",
       "  </thead>\n",
       "  <tbody>\n",
       "    <tr>\n",
       "      <th>0</th>\n",
       "      <td>US</td>\n",
       "      <td>30262377</td>\n",
       "      <td>549335</td>\n",
       "      <td>30218683</td>\n",
       "      <td>548829</td>\n",
       "      <td>43694</td>\n",
       "      <td>506</td>\n",
       "      <td>1.82</td>\n",
       "      <td>North America</td>\n",
       "    </tr>\n",
       "    <tr>\n",
       "      <th>1</th>\n",
       "      <td>Brazil</td>\n",
       "      <td>12534688</td>\n",
       "      <td>312206</td>\n",
       "      <td>12490362</td>\n",
       "      <td>310550</td>\n",
       "      <td>44326</td>\n",
       "      <td>1656</td>\n",
       "      <td>2.49</td>\n",
       "      <td>South America</td>\n",
       "    </tr>\n",
       "    <tr>\n",
       "      <th>2</th>\n",
       "      <td>India</td>\n",
       "      <td>12039644</td>\n",
       "      <td>161843</td>\n",
       "      <td>11971624</td>\n",
       "      <td>161552</td>\n",
       "      <td>68020</td>\n",
       "      <td>291</td>\n",
       "      <td>1.34</td>\n",
       "      <td>Asia</td>\n",
       "    </tr>\n",
       "    <tr>\n",
       "      <th>3</th>\n",
       "      <td>France</td>\n",
       "      <td>4606185</td>\n",
       "      <td>94754</td>\n",
       "      <td>4569164</td>\n",
       "      <td>94623</td>\n",
       "      <td>37021</td>\n",
       "      <td>131</td>\n",
       "      <td>2.06</td>\n",
       "      <td>Europe</td>\n",
       "    </tr>\n",
       "    <tr>\n",
       "      <th>4</th>\n",
       "      <td>Russia</td>\n",
       "      <td>4469327</td>\n",
       "      <td>96123</td>\n",
       "      <td>4460348</td>\n",
       "      <td>95792</td>\n",
       "      <td>8979</td>\n",
       "      <td>331</td>\n",
       "      <td>2.15</td>\n",
       "      <td>Europe</td>\n",
       "    </tr>\n",
       "  </tbody>\n",
       "</table>\n",
       "</div>"
      ],
      "text/plain": [
       "  Country/Region     Cases  Deaths    PCases  PDeaths  Cases (+)  Deaths (+)  \\\n",
       "0             US  30262377  549335  30218683   548829      43694         506   \n",
       "1         Brazil  12534688  312206  12490362   310550      44326        1656   \n",
       "2          India  12039644  161843  11971624   161552      68020         291   \n",
       "3         France   4606185   94754   4569164    94623      37021         131   \n",
       "4         Russia   4469327   96123   4460348    95792       8979         331   \n",
       "\n",
       "   Fatality Rate      Continent  \n",
       "0           1.82  North America  \n",
       "1           2.49  South America  \n",
       "2           1.34           Asia  \n",
       "3           2.06         Europe  \n",
       "4           2.15         Europe  "
      ]
     },
     "execution_count": 13,
     "metadata": {},
     "output_type": "execute_result"
    }
   ],
   "source": [
    "#hide\n",
    "for c in 'Cases, Deaths'.split(', '):\n",
    "    df_table[f'{c} (+)'] = (df_table[c] - df_table[f'P{c}']).clip(0)\n",
    "    #Clip ça veut dire, les chiffres negatif sont interdit\n",
    "df_table['Fatality Rate'] = (100* df_table['Deaths']/ df_table['Cases']).round(2)\n",
    "df_table['Continent'] = df_table['Country/Region'].map(mapping['map.continent'])\n",
    "df_table.head(5)"
   ]
  },
  {
   "cell_type": "code",
   "execution_count": 14,
   "id": "aboriginal-bulgaria",
   "metadata": {
    "execution": {
     "iopub.execute_input": "2021-03-30T00:06:18.803566Z",
     "iopub.status.busy": "2021-03-30T00:06:18.802971Z",
     "iopub.status.idle": "2021-03-30T00:06:18.804684Z",
     "shell.execute_reply": "2021-03-30T00:06:18.805177Z"
    },
    "papermill": {
     "duration": 0.042873,
     "end_time": "2021-03-30T00:06:18.805317",
     "exception": false,
     "start_time": "2021-03-30T00:06:18.762444",
     "status": "completed"
    },
    "tags": []
   },
   "outputs": [],
   "source": [
    "#hide\n",
    "#delete problematic countries from table\n",
    "df_table = df_table[~df_table['Country/Region'].isin(['Cape Verde', 'Cruise Ship', 'Kosovo'])]"
   ]
  },
  {
   "cell_type": "code",
   "execution_count": 15,
   "id": "fantastic-effect",
   "metadata": {
    "execution": {
     "iopub.execute_input": "2021-03-30T00:06:18.884336Z",
     "iopub.status.busy": "2021-03-30T00:06:18.883736Z",
     "iopub.status.idle": "2021-03-30T00:06:18.902163Z",
     "shell.execute_reply": "2021-03-30T00:06:18.902860Z"
    },
    "papermill": {
     "duration": 0.06301,
     "end_time": "2021-03-30T00:06:18.903059",
     "exception": false,
     "start_time": "2021-03-30T00:06:18.840049",
     "status": "completed"
    },
    "tags": []
   },
   "outputs": [
    {
     "data": {
      "text/html": [
       "<div>\n",
       "<style scoped>\n",
       "    .dataframe tbody tr th:only-of-type {\n",
       "        vertical-align: middle;\n",
       "    }\n",
       "\n",
       "    .dataframe tbody tr th {\n",
       "        vertical-align: top;\n",
       "    }\n",
       "\n",
       "    .dataframe thead th {\n",
       "        text-align: right;\n",
       "    }\n",
       "</style>\n",
       "<table border=\"1\" class=\"dataframe\">\n",
       "  <thead>\n",
       "    <tr style=\"text-align: right;\">\n",
       "      <th></th>\n",
       "      <th>Country/Region</th>\n",
       "      <th>Cases</th>\n",
       "      <th>Deaths</th>\n",
       "      <th>PCases</th>\n",
       "      <th>PDeaths</th>\n",
       "      <th>Cases (+)</th>\n",
       "      <th>Deaths (+)</th>\n",
       "      <th>Fatality Rate</th>\n",
       "      <th>Continent</th>\n",
       "    </tr>\n",
       "  </thead>\n",
       "  <tbody>\n",
       "    <tr>\n",
       "      <th>0</th>\n",
       "      <td>US</td>\n",
       "      <td>30262377</td>\n",
       "      <td>549335</td>\n",
       "      <td>30218683</td>\n",
       "      <td>548829</td>\n",
       "      <td>43694</td>\n",
       "      <td>506</td>\n",
       "      <td>1.8</td>\n",
       "      <td>North America</td>\n",
       "    </tr>\n",
       "    <tr>\n",
       "      <th>1</th>\n",
       "      <td>Brazil</td>\n",
       "      <td>12534688</td>\n",
       "      <td>312206</td>\n",
       "      <td>12490362</td>\n",
       "      <td>310550</td>\n",
       "      <td>44326</td>\n",
       "      <td>1656</td>\n",
       "      <td>2.5</td>\n",
       "      <td>South America</td>\n",
       "    </tr>\n",
       "    <tr>\n",
       "      <th>2</th>\n",
       "      <td>India</td>\n",
       "      <td>12039644</td>\n",
       "      <td>161843</td>\n",
       "      <td>11971624</td>\n",
       "      <td>161552</td>\n",
       "      <td>68020</td>\n",
       "      <td>291</td>\n",
       "      <td>1.3</td>\n",
       "      <td>Asia</td>\n",
       "    </tr>\n",
       "    <tr>\n",
       "      <th>3</th>\n",
       "      <td>France</td>\n",
       "      <td>4606185</td>\n",
       "      <td>94754</td>\n",
       "      <td>4569164</td>\n",
       "      <td>94623</td>\n",
       "      <td>37021</td>\n",
       "      <td>131</td>\n",
       "      <td>2.1</td>\n",
       "      <td>Europe</td>\n",
       "    </tr>\n",
       "    <tr>\n",
       "      <th>4</th>\n",
       "      <td>Russia</td>\n",
       "      <td>4469327</td>\n",
       "      <td>96123</td>\n",
       "      <td>4460348</td>\n",
       "      <td>95792</td>\n",
       "      <td>8979</td>\n",
       "      <td>331</td>\n",
       "      <td>2.2</td>\n",
       "      <td>Europe</td>\n",
       "    </tr>\n",
       "  </tbody>\n",
       "</table>\n",
       "</div>"
      ],
      "text/plain": [
       "  Country/Region     Cases  Deaths    PCases  PDeaths  Cases (+)  Deaths (+)  \\\n",
       "0             US  30262377  549335  30218683   548829      43694         506   \n",
       "1         Brazil  12534688  312206  12490362   310550      44326        1656   \n",
       "2          India  12039644  161843  11971624   161552      68020         291   \n",
       "3         France   4606185   94754   4569164    94623      37021         131   \n",
       "4         Russia   4469327   96123   4460348    95792       8979         331   \n",
       "\n",
       "   Fatality Rate      Continent  \n",
       "0            1.8  North America  \n",
       "1            2.5  South America  \n",
       "2            1.3           Asia  \n",
       "3            2.1         Europe  \n",
       "4            2.2         Europe  "
      ]
     },
     "execution_count": 15,
     "metadata": {},
     "output_type": "execute_result"
    }
   ],
   "source": [
    "#hide\n",
    "df_table = (pd.DataFrame(dict(Cases=dfc_cases, Deaths=dfc_deaths, PCases=dfp_cases, PDeaths=dfp_deaths))\n",
    "             .sort_values(by=['Cases', 'Deaths'], ascending=[False, False])\n",
    "             .reset_index())\n",
    "df_table.rename(columns={'index': 'Country/Region'}, inplace=True)\n",
    "for c in 'Cases, Deaths'.split(', '):\n",
    "    df_table[f'{c} (+)'] = (df_table[c] - df_table[f'P{c}']).clip(0)  # DATA BUG\n",
    "df_table['Fatality Rate'] = (100 * df_table['Deaths'] / df_table['Cases']).round(1)\n",
    "df_table['Continent'] = df_table['Country/Region'].map(mapping['map.continent'])\n",
    "df_table.head(5)"
   ]
  },
  {
   "cell_type": "code",
   "execution_count": 16,
   "id": "fewer-occasion",
   "metadata": {
    "execution": {
     "iopub.execute_input": "2021-03-30T00:06:18.990767Z",
     "iopub.status.busy": "2021-03-30T00:06:18.990134Z",
     "iopub.status.idle": "2021-03-30T00:06:18.992492Z",
     "shell.execute_reply": "2021-03-30T00:06:18.993056Z"
    },
    "papermill": {
     "duration": 0.046531,
     "end_time": "2021-03-30T00:06:18.993198",
     "exception": false,
     "start_time": "2021-03-30T00:06:18.946667",
     "status": "completed"
    },
    "tags": []
   },
   "outputs": [],
   "source": [
    "#hide\n",
    "#delete problematic countries from table\n",
    "df_table = df_table[~df_table['Country/Region'].isin(['Cape Verde', 'Cruise Ship', 'Kosovo'])]"
   ]
  },
  {
   "cell_type": "code",
   "execution_count": 17,
   "id": "related-center",
   "metadata": {
    "execution": {
     "iopub.execute_input": "2021-03-30T00:06:19.084986Z",
     "iopub.status.busy": "2021-03-30T00:06:19.084372Z",
     "iopub.status.idle": "2021-03-30T00:06:19.087542Z",
     "shell.execute_reply": "2021-03-30T00:06:19.087067Z"
    },
    "papermill": {
     "duration": 0.058739,
     "end_time": "2021-03-30T00:06:19.087672",
     "exception": false,
     "start_time": "2021-03-30T00:06:19.028933",
     "status": "completed"
    },
    "tags": []
   },
   "outputs": [],
   "source": [
    "#hide\n",
    "metrics = [df_table.columns[index] for index in [1,2,5,6]]\n",
    "# s_china = df_table[df_table['Country/Region'].eq('China')][metrics].sum().add_prefix('China ')\n",
    "s_us = df_table[df_table['Country/Region'].eq('US')][metrics].sum().add_prefix('US ')\n",
    "s_eu = df_table[df_table['Continent'].eq('Europe')][metrics].sum().add_prefix('EU ')\n",
    "s_ind = df_table[df_table['Country/Region'].eq('India')][metrics].sum().add_prefix('India ')\n",
    "summary = {'updated': pd.to_datetime(dt_today), 'since': pd.to_datetime(dt_yday)}\n",
    "summary = {'updated': pd.to_datetime(dt_today), 'since': pd.to_datetime(dt_yday)}\n",
    "summary = {**summary, **df_table[metrics].sum(), **s_ind, **s_us, **s_eu}"
   ]
  },
  {
   "cell_type": "code",
   "execution_count": 18,
   "id": "engaging-syndrome",
   "metadata": {
    "execution": {
     "iopub.execute_input": "2021-03-30T00:06:19.167166Z",
     "iopub.status.busy": "2021-03-30T00:06:19.166569Z",
     "iopub.status.idle": "2021-03-30T00:06:19.179150Z",
     "shell.execute_reply": "2021-03-30T00:06:19.179605Z"
    },
    "papermill": {
     "duration": 0.056181,
     "end_time": "2021-03-30T00:06:19.179757",
     "exception": false,
     "start_time": "2021-03-30T00:06:19.123576",
     "status": "completed"
    },
    "tags": []
   },
   "outputs": [],
   "source": [
    "#hide\n",
    "dft_ct_new_cases = dft_cases.groupby(COL_REGION)[dt_cols].sum().diff(axis=1).fillna(0).astype(int)"
   ]
  },
  {
   "cell_type": "code",
   "execution_count": 19,
   "id": "neutral-assignment",
   "metadata": {
    "execution": {
     "iopub.execute_input": "2021-03-30T00:06:19.256487Z",
     "iopub.status.busy": "2021-03-30T00:06:19.255905Z",
     "iopub.status.idle": "2021-03-30T00:06:19.258059Z",
     "shell.execute_reply": "2021-03-30T00:06:19.258575Z"
    },
    "papermill": {
     "duration": 0.043675,
     "end_time": "2021-03-30T00:06:19.258718",
     "exception": false,
     "start_time": "2021-03-30T00:06:19.215043",
     "status": "completed"
    },
    "tags": []
   },
   "outputs": [],
   "source": [
    "#hide\n",
    "everydaycases = dft_ct_new_cases.cumsum(axis=1)"
   ]
  },
  {
   "cell_type": "code",
   "execution_count": 20,
   "id": "parliamentary-calgary",
   "metadata": {
    "execution": {
     "iopub.execute_input": "2021-03-30T00:06:19.336259Z",
     "iopub.status.busy": "2021-03-30T00:06:19.335661Z",
     "iopub.status.idle": "2021-03-30T00:06:21.011153Z",
     "shell.execute_reply": "2021-03-30T00:06:21.010632Z"
    },
    "papermill": {
     "duration": 1.717086,
     "end_time": "2021-03-30T00:06:21.011293",
     "exception": false,
     "start_time": "2021-03-30T00:06:19.294207",
     "status": "completed"
    },
    "tags": []
   },
   "outputs": [],
   "source": [
    "#hide\n",
    "import pandas as pd\n",
    "import matplotlib.pyplot as plt\n",
    "import matplotlib.ticker as ticker\n",
    "import matplotlib.animation as animation\n",
    "from IPython.display import HTML"
   ]
  },
  {
   "cell_type": "code",
   "execution_count": 21,
   "id": "lasting-extraction",
   "metadata": {
    "execution": {
     "iopub.execute_input": "2021-03-30T00:06:21.088662Z",
     "iopub.status.busy": "2021-03-30T00:06:21.087935Z",
     "iopub.status.idle": "2021-03-30T00:06:21.093249Z",
     "shell.execute_reply": "2021-03-30T00:06:21.093819Z"
    },
    "papermill": {
     "duration": 0.047426,
     "end_time": "2021-03-30T00:06:21.093980",
     "exception": false,
     "start_time": "2021-03-30T00:06:21.046554",
     "status": "completed"
    },
    "tags": []
   },
   "outputs": [],
   "source": [
    "#hide\n",
    "t = everydaycases.stack()"
   ]
  },
  {
   "cell_type": "code",
   "execution_count": 22,
   "id": "premier-sleeve",
   "metadata": {
    "execution": {
     "iopub.execute_input": "2021-03-30T00:06:21.180016Z",
     "iopub.status.busy": "2021-03-30T00:06:21.179423Z",
     "iopub.status.idle": "2021-03-30T00:06:21.188090Z",
     "shell.execute_reply": "2021-03-30T00:06:21.186877Z"
    },
    "papermill": {
     "duration": 0.055726,
     "end_time": "2021-03-30T00:06:21.188368",
     "exception": false,
     "start_time": "2021-03-30T00:06:21.132642",
     "status": "completed"
    },
    "tags": []
   },
   "outputs": [],
   "source": [
    "#hide\n",
    "g = t.reset_index(['Country/Region'])"
   ]
  },
  {
   "cell_type": "code",
   "execution_count": 23,
   "id": "distributed-pittsburgh",
   "metadata": {
    "execution": {
     "iopub.execute_input": "2021-03-30T00:06:21.264966Z",
     "iopub.status.busy": "2021-03-30T00:06:21.264386Z",
     "iopub.status.idle": "2021-03-30T00:06:21.266790Z",
     "shell.execute_reply": "2021-03-30T00:06:21.266192Z"
    },
    "papermill": {
     "duration": 0.042357,
     "end_time": "2021-03-30T00:06:21.266915",
     "exception": false,
     "start_time": "2021-03-30T00:06:21.224558",
     "status": "completed"
    },
    "tags": []
   },
   "outputs": [],
   "source": [
    "#hide\n",
    "g.index.name = 'date'"
   ]
  },
  {
   "cell_type": "code",
   "execution_count": 24,
   "id": "naked-donor",
   "metadata": {
    "execution": {
     "iopub.execute_input": "2021-03-30T00:06:21.343391Z",
     "iopub.status.busy": "2021-03-30T00:06:21.342728Z",
     "iopub.status.idle": "2021-03-30T00:06:21.344941Z",
     "shell.execute_reply": "2021-03-30T00:06:21.345478Z"
    },
    "papermill": {
     "duration": 0.04269,
     "end_time": "2021-03-30T00:06:21.345615",
     "exception": false,
     "start_time": "2021-03-30T00:06:21.302925",
     "status": "completed"
    },
    "tags": []
   },
   "outputs": [],
   "source": [
    "# #hide\n",
    "# g = g.reset_index(['date'])"
   ]
  },
  {
   "cell_type": "code",
   "execution_count": 25,
   "id": "incomplete-mustang",
   "metadata": {
    "execution": {
     "iopub.execute_input": "2021-03-30T00:06:21.420672Z",
     "iopub.status.busy": "2021-03-30T00:06:21.420094Z",
     "iopub.status.idle": "2021-03-30T00:06:21.422361Z",
     "shell.execute_reply": "2021-03-30T00:06:21.422855Z"
    },
    "papermill": {
     "duration": 0.042252,
     "end_time": "2021-03-30T00:06:21.422995",
     "exception": false,
     "start_time": "2021-03-30T00:06:21.380743",
     "status": "completed"
    },
    "tags": []
   },
   "outputs": [],
   "source": [
    "#hide\n",
    "# g.head()"
   ]
  },
  {
   "cell_type": "code",
   "execution_count": 26,
   "id": "specific-kruger",
   "metadata": {
    "execution": {
     "iopub.execute_input": "2021-03-30T00:06:21.498025Z",
     "iopub.status.busy": "2021-03-30T00:06:21.497435Z",
     "iopub.status.idle": "2021-03-30T00:06:21.499621Z",
     "shell.execute_reply": "2021-03-30T00:06:21.500192Z"
    },
    "papermill": {
     "duration": 0.041958,
     "end_time": "2021-03-30T00:06:21.500331",
     "exception": false,
     "start_time": "2021-03-30T00:06:21.458373",
     "status": "completed"
    },
    "tags": []
   },
   "outputs": [],
   "source": [
    "#hide\n",
    "# g.columns = ['date','country','cases']"
   ]
  },
  {
   "cell_type": "code",
   "execution_count": 27,
   "id": "tender-conversion",
   "metadata": {
    "execution": {
     "iopub.execute_input": "2021-03-30T00:06:21.575658Z",
     "iopub.status.busy": "2021-03-30T00:06:21.575081Z",
     "iopub.status.idle": "2021-03-30T00:06:21.578061Z",
     "shell.execute_reply": "2021-03-30T00:06:21.577484Z"
    },
    "papermill": {
     "duration": 0.042093,
     "end_time": "2021-03-30T00:06:21.578194",
     "exception": false,
     "start_time": "2021-03-30T00:06:21.536101",
     "status": "completed"
    },
    "tags": []
   },
   "outputs": [],
   "source": [
    "#hide\n",
    "# g['continent'] = g.country"
   ]
  },
  {
   "cell_type": "code",
   "execution_count": 28,
   "id": "substantial-wilderness",
   "metadata": {
    "execution": {
     "iopub.execute_input": "2021-03-30T00:06:21.655146Z",
     "iopub.status.busy": "2021-03-30T00:06:21.654559Z",
     "iopub.status.idle": "2021-03-30T00:06:21.657135Z",
     "shell.execute_reply": "2021-03-30T00:06:21.657629Z"
    },
    "papermill": {
     "duration": 0.044045,
     "end_time": "2021-03-30T00:06:21.657771",
     "exception": false,
     "start_time": "2021-03-30T00:06:21.613726",
     "status": "completed"
    },
    "tags": []
   },
   "outputs": [],
   "source": [
    "#hide\n",
    "# cols = list(g.columns.values)"
   ]
  },
  {
   "cell_type": "code",
   "execution_count": 29,
   "id": "solved-farming",
   "metadata": {
    "execution": {
     "iopub.execute_input": "2021-03-30T00:06:21.734271Z",
     "iopub.status.busy": "2021-03-30T00:06:21.733376Z",
     "iopub.status.idle": "2021-03-30T00:06:21.736786Z",
     "shell.execute_reply": "2021-03-30T00:06:21.737341Z"
    },
    "papermill": {
     "duration": 0.044167,
     "end_time": "2021-03-30T00:06:21.737486",
     "exception": false,
     "start_time": "2021-03-30T00:06:21.693319",
     "status": "completed"
    },
    "tags": []
   },
   "outputs": [],
   "source": [
    "#hide\n",
    "# cols.insert(0, cols.pop())"
   ]
  },
  {
   "cell_type": "code",
   "execution_count": 30,
   "id": "executed-adoption",
   "metadata": {
    "execution": {
     "iopub.execute_input": "2021-03-30T00:06:21.814987Z",
     "iopub.status.busy": "2021-03-30T00:06:21.814370Z",
     "iopub.status.idle": "2021-03-30T00:06:21.816681Z",
     "shell.execute_reply": "2021-03-30T00:06:21.817233Z"
    },
    "papermill": {
     "duration": 0.044155,
     "end_time": "2021-03-30T00:06:21.817373",
     "exception": false,
     "start_time": "2021-03-30T00:06:21.773218",
     "status": "completed"
    },
    "tags": []
   },
   "outputs": [],
   "source": [
    "#hide\n",
    "# g = g[cols]"
   ]
  },
  {
   "cell_type": "code",
   "execution_count": 31,
   "id": "subject-dublin",
   "metadata": {
    "execution": {
     "iopub.execute_input": "2021-03-30T00:06:21.906719Z",
     "iopub.status.busy": "2021-03-30T00:06:21.905416Z",
     "iopub.status.idle": "2021-03-30T00:06:21.907835Z",
     "shell.execute_reply": "2021-03-30T00:06:21.908650Z"
    },
    "papermill": {
     "duration": 0.052403,
     "end_time": "2021-03-30T00:06:21.908879",
     "exception": false,
     "start_time": "2021-03-30T00:06:21.856476",
     "status": "completed"
    },
    "tags": []
   },
   "outputs": [],
   "source": [
    "#hide\n",
    "# g['continent'] = g['continent'].map(mapping['map.continent'])"
   ]
  },
  {
   "cell_type": "code",
   "execution_count": 32,
   "id": "freelance-scout",
   "metadata": {
    "execution": {
     "iopub.execute_input": "2021-03-30T00:06:21.985421Z",
     "iopub.status.busy": "2021-03-30T00:06:21.984829Z",
     "iopub.status.idle": "2021-03-30T00:06:21.987591Z",
     "shell.execute_reply": "2021-03-30T00:06:21.988103Z"
    },
    "papermill": {
     "duration": 0.042997,
     "end_time": "2021-03-30T00:06:21.988258",
     "exception": false,
     "start_time": "2021-03-30T00:06:21.945261",
     "status": "completed"
    },
    "tags": []
   },
   "outputs": [],
   "source": [
    "#hide\n",
    "# g.head()"
   ]
  },
  {
   "cell_type": "code",
   "execution_count": 33,
   "id": "limited-engine",
   "metadata": {
    "execution": {
     "iopub.execute_input": "2021-03-30T00:06:22.074089Z",
     "iopub.status.busy": "2021-03-30T00:06:22.073469Z",
     "iopub.status.idle": "2021-03-30T00:06:22.076023Z",
     "shell.execute_reply": "2021-03-30T00:06:22.075551Z"
    },
    "papermill": {
     "duration": 0.052502,
     "end_time": "2021-03-30T00:06:22.076154",
     "exception": false,
     "start_time": "2021-03-30T00:06:22.023652",
     "status": "completed"
    },
    "tags": []
   },
   "outputs": [],
   "source": [
    "# hide\n",
    "# g['date'] = g['date'].astype('datetime64[ns]')"
   ]
  },
  {
   "cell_type": "code",
   "execution_count": 34,
   "id": "sophisticated-supervisor",
   "metadata": {
    "execution": {
     "iopub.execute_input": "2021-03-30T00:06:22.153015Z",
     "iopub.status.busy": "2021-03-30T00:06:22.152431Z",
     "iopub.status.idle": "2021-03-30T00:06:22.154705Z",
     "shell.execute_reply": "2021-03-30T00:06:22.155264Z"
    },
    "papermill": {
     "duration": 0.042886,
     "end_time": "2021-03-30T00:06:22.155405",
     "exception": false,
     "start_time": "2021-03-30T00:06:22.112519",
     "status": "completed"
    },
    "tags": []
   },
   "outputs": [],
   "source": [
    "#hide\n",
    "# g['date'] = g.date.dt.dayofyear"
   ]
  },
  {
   "cell_type": "code",
   "execution_count": 35,
   "id": "inside-dubai",
   "metadata": {
    "execution": {
     "iopub.execute_input": "2021-03-30T00:06:22.232367Z",
     "iopub.status.busy": "2021-03-30T00:06:22.231554Z",
     "iopub.status.idle": "2021-03-30T00:06:22.233212Z",
     "shell.execute_reply": "2021-03-30T00:06:22.233841Z"
    },
    "papermill": {
     "duration": 0.04291,
     "end_time": "2021-03-30T00:06:22.234119",
     "exception": false,
     "start_time": "2021-03-30T00:06:22.191209",
     "status": "completed"
    },
    "tags": []
   },
   "outputs": [],
   "source": [
    "#hide\n",
    "# g = g.rename(columns= {'continent':'group','country':'name','cases':'value'})"
   ]
  },
  {
   "cell_type": "code",
   "execution_count": 36,
   "id": "fleet-motorcycle",
   "metadata": {
    "execution": {
     "iopub.execute_input": "2021-03-30T00:06:22.317940Z",
     "iopub.status.busy": "2021-03-30T00:06:22.317344Z",
     "iopub.status.idle": "2021-03-30T00:06:22.319519Z",
     "shell.execute_reply": "2021-03-30T00:06:22.318940Z"
    },
    "papermill": {
     "duration": 0.050121,
     "end_time": "2021-03-30T00:06:22.319640",
     "exception": false,
     "start_time": "2021-03-30T00:06:22.269519",
     "status": "completed"
    },
    "tags": []
   },
   "outputs": [],
   "source": [
    "#hide\n",
    "# cols = ['name','group','day','value']"
   ]
  },
  {
   "cell_type": "code",
   "execution_count": 37,
   "id": "continued-sleeping",
   "metadata": {
    "execution": {
     "iopub.execute_input": "2021-03-30T00:06:22.395434Z",
     "iopub.status.busy": "2021-03-30T00:06:22.394844Z",
     "iopub.status.idle": "2021-03-30T00:06:22.397264Z",
     "shell.execute_reply": "2021-03-30T00:06:22.397707Z"
    },
    "papermill": {
     "duration": 0.043085,
     "end_time": "2021-03-30T00:06:22.397852",
     "exception": false,
     "start_time": "2021-03-30T00:06:22.354767",
     "status": "completed"
    },
    "tags": []
   },
   "outputs": [],
   "source": [
    "#hide\n",
    "# g.rename(columns= {'date':'day'},inplace = True)"
   ]
  },
  {
   "cell_type": "code",
   "execution_count": 38,
   "id": "major-fight",
   "metadata": {
    "execution": {
     "iopub.execute_input": "2021-03-30T00:06:22.475208Z",
     "iopub.status.busy": "2021-03-30T00:06:22.474603Z",
     "iopub.status.idle": "2021-03-30T00:06:22.476996Z",
     "shell.execute_reply": "2021-03-30T00:06:22.477547Z"
    },
    "papermill": {
     "duration": 0.043633,
     "end_time": "2021-03-30T00:06:22.477688",
     "exception": false,
     "start_time": "2021-03-30T00:06:22.434055",
     "status": "completed"
    },
    "tags": []
   },
   "outputs": [],
   "source": [
    "#hide\n",
    "# g = g[cols]"
   ]
  },
  {
   "cell_type": "code",
   "execution_count": 39,
   "id": "structured-mobile",
   "metadata": {
    "execution": {
     "iopub.execute_input": "2021-03-30T00:06:22.561531Z",
     "iopub.status.busy": "2021-03-30T00:06:22.560944Z",
     "iopub.status.idle": "2021-03-30T00:06:22.565183Z",
     "shell.execute_reply": "2021-03-30T00:06:22.565652Z"
    },
    "papermill": {
     "duration": 0.051882,
     "end_time": "2021-03-30T00:06:22.565795",
     "exception": false,
     "start_time": "2021-03-30T00:06:22.513913",
     "status": "completed"
    },
    "tags": []
   },
   "outputs": [],
   "source": [
    "# #hide\n",
    "# g = g[g.group.notna()]"
   ]
  },
  {
   "cell_type": "code",
   "execution_count": 40,
   "id": "determined-closing",
   "metadata": {
    "execution": {
     "iopub.execute_input": "2021-03-30T00:06:22.655701Z",
     "iopub.status.busy": "2021-03-30T00:06:22.654971Z",
     "iopub.status.idle": "2021-03-30T00:06:22.656582Z",
     "shell.execute_reply": "2021-03-30T00:06:22.657210Z"
    },
    "papermill": {
     "duration": 0.05123,
     "end_time": "2021-03-30T00:06:22.657359",
     "exception": false,
     "start_time": "2021-03-30T00:06:22.606129",
     "status": "completed"
    },
    "tags": []
   },
   "outputs": [],
   "source": [
    "# #hide\n",
    "# colors = dict(zip(\n",
    "#     [\"Oceania\", \"Europe\", \"Asia\", \"South America\", \"Middle East\", \"North America\", \"Africa\"],\n",
    "#     [\"#adb0ff\", \"#ffb3ff\", \"#90d595\", \"#e48381\", \"#aafbff\", \"#f7bb5f\", \"#eafb50\"]\n",
    "# ))\n",
    "# group_lk = g.set_index('name')['group'].to_dict()"
   ]
  },
  {
   "cell_type": "code",
   "execution_count": null,
   "id": "gross-drinking",
   "metadata": {
    "papermill": {
     "duration": 0.036055,
     "end_time": "2021-03-30T00:06:22.733137",
     "exception": false,
     "start_time": "2021-03-30T00:06:22.697082",
     "status": "completed"
    },
    "tags": []
   },
   "outputs": [],
   "source": []
  },
  {
   "cell_type": "code",
   "execution_count": 41,
   "id": "subject-macintosh",
   "metadata": {
    "execution": {
     "iopub.execute_input": "2021-03-30T00:06:22.809477Z",
     "iopub.status.busy": "2021-03-30T00:06:22.808874Z",
     "iopub.status.idle": "2021-03-30T00:06:22.811778Z",
     "shell.execute_reply": "2021-03-30T00:06:22.812367Z"
    },
    "papermill": {
     "duration": 0.043225,
     "end_time": "2021-03-30T00:06:22.812520",
     "exception": false,
     "start_time": "2021-03-30T00:06:22.769295",
     "status": "completed"
    },
    "tags": []
   },
   "outputs": [],
   "source": [
    "# #hide\n",
    "# fig, ax = plt.subplots(figsize=(15, 8))\n",
    "\n",
    "# def draw_barchart(current_day):\n",
    "#     dff = g[g['day'].eq(current_day)].sort_values(by='value', ascending=True).tail(10)\n",
    "#     ax.clear()\n",
    "#     ax.barh(dff['name'], dff['value'], color=[colors[group_lk[x]] for x in dff['name']])\n",
    "#     dx = dff['value'].max() / 200\n",
    "    \n",
    "#     for i, (value, name) in enumerate(zip(dff['value'], dff['name'])):\n",
    "#         ax.text(value-dx, i,     name,           size=14, weight=600, ha='right', va='bottom')\n",
    "#         ax.text(value-dx, i-.25, group_lk[name], size=10, color='#444444', ha='right', va='baseline')\n",
    "#         ax.text(value+dx, i,     f'{value:,.0f}',  size=14, ha='left',  va='center')\n",
    "#     ax.text(1, 0.4, current_day, transform=ax.transAxes, color='#777777', size=46, ha='right', weight=800)\n",
    "#     ax.text(0, 1.06, 'Population (thousands)', transform=ax.transAxes, size=12, color='#777777')\n",
    "#     ax.xaxis.set_major_formatter(ticker.StrMethodFormatter('{x:,.0f}'))\n",
    "#     ax.xaxis.set_ticks_position('top')\n",
    "#     ax.tick_params(axis='x', colors='#777777', labelsize=12)\n",
    "#     ax.set_yticks([])\n",
    "#     ax.margins(0, 0.01)\n",
    "#     ax.grid(which='major', axis='x', linestyle='-')\n",
    "#     ax.set_axisbelow(True)\n",
    "    \n",
    "#     ax.text(0, 1.15, 'Coronavirus',\n",
    "#             transform=ax.transAxes, size=24, weight=600, ha='left', va='top')\n",
    "# #     ax.text(1, 0, 'by @pratapvardhan; credit @jburnmurdoch', transform=ax.transAxes, color='#777777', ha='right',\n",
    "# #             bbox=dict(facecolor='white', alpha=0.8, edgecolor='white'))\n",
    "#     plt.box(False)"
   ]
  },
  {
   "cell_type": "code",
   "execution_count": 42,
   "id": "sexual-wages",
   "metadata": {
    "execution": {
     "iopub.execute_input": "2021-03-30T00:06:22.887919Z",
     "iopub.status.busy": "2021-03-30T00:06:22.887317Z",
     "iopub.status.idle": "2021-03-30T00:06:22.889730Z",
     "shell.execute_reply": "2021-03-30T00:06:22.890207Z"
    },
    "papermill": {
     "duration": 0.042062,
     "end_time": "2021-03-30T00:06:22.890410",
     "exception": false,
     "start_time": "2021-03-30T00:06:22.848348",
     "status": "completed"
    },
    "tags": []
   },
   "outputs": [],
   "source": [
    "# #hide_input\n",
    "# fig, ax = plt.subplots(figsize=(15, 8))\n",
    "# animator = animation.FuncAnimation(fig, draw_barchart, frames=range(g.day.values.min(), g.day.values.max()))\n",
    "# HTML(animator.to_jshtml())\n",
    "# # or use animator.to_html5_video() or animator.save() "
   ]
  },
  {
   "cell_type": "code",
   "execution_count": null,
   "id": "australian-container",
   "metadata": {
    "papermill": {
     "duration": 0.036313,
     "end_time": "2021-03-30T00:06:22.962134",
     "exception": false,
     "start_time": "2021-03-30T00:06:22.925821",
     "status": "completed"
    },
    "tags": []
   },
   "outputs": [],
   "source": []
  },
  {
   "cell_type": "code",
   "execution_count": null,
   "id": "mediterranean-pontiac",
   "metadata": {
    "papermill": {
     "duration": 0.035277,
     "end_time": "2021-03-30T00:06:23.032609",
     "exception": false,
     "start_time": "2021-03-30T00:06:22.997332",
     "status": "completed"
    },
    "tags": []
   },
   "outputs": [],
   "source": []
  },
  {
   "cell_type": "code",
   "execution_count": null,
   "id": "aging-legislature",
   "metadata": {
    "papermill": {
     "duration": 0.036034,
     "end_time": "2021-03-30T00:06:23.104811",
     "exception": false,
     "start_time": "2021-03-30T00:06:23.068777",
     "status": "completed"
    },
    "tags": []
   },
   "outputs": [],
   "source": []
  }
 ],
 "metadata": {
  "kernelspec": {
   "display_name": "Python 3",
   "language": "python",
   "name": "python3"
  },
  "language_info": {
   "codemirror_mode": {
    "name": "ipython",
    "version": 3
   },
   "file_extension": ".py",
   "mimetype": "text/x-python",
   "name": "python",
   "nbconvert_exporter": "python",
   "pygments_lexer": "ipython3",
   "version": "3.6.13"
  },
  "papermill": {
   "duration": 7.839217,
   "end_time": "2021-03-30T00:06:23.549170",
   "environment_variables": {},
   "exception": null,
   "input_path": "2020-03-21-covid19exp.ipynb",
   "output_path": "2020-03-21-covid19exp.ipynb",
   "parameters": {},
   "start_time": "2021-03-30T00:06:15.709953",
   "version": "2.0.0"
  }
 },
 "nbformat": 4,
 "nbformat_minor": 5
}