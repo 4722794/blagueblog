{
 "cells": [
  {
   "cell_type": "markdown",
   "id": "muslim-click",
   "metadata": {
    "papermill": {
     "duration": 0.042119,
     "end_time": "2022-05-01T00:48:21.962683",
     "exception": false,
     "start_time": "2022-05-01T00:48:21.920564",
     "status": "completed"
    },
    "tags": []
   },
   "source": [
    "# COVID-19 Case Race\n",
    "> A race chart to see rising cases around the world\n",
    "\n",
    "- author: Hargun Oberoi\n",
    "- image: images/covid-overview.png\n",
    "- hide: false\n",
    "- badges: false"
   ]
  },
  {
   "cell_type": "code",
   "execution_count": 1,
   "id": "proof-material",
   "metadata": {
    "execution": {
     "iopub.execute_input": "2022-05-01T00:48:22.051634Z",
     "iopub.status.busy": "2022-05-01T00:48:22.050912Z",
     "iopub.status.idle": "2022-05-01T00:48:22.444345Z",
     "shell.execute_reply": "2022-05-01T00:48:22.443689Z"
    },
    "papermill": {
     "duration": 0.441911,
     "end_time": "2022-05-01T00:48:22.444532",
     "exception": false,
     "start_time": "2022-05-01T00:48:22.002621",
     "status": "completed"
    },
    "tags": []
   },
   "outputs": [],
   "source": [
    "#hide\n",
    "import numpy as np\n",
    "import pandas as pd\n",
    "from jinja2 import Template\n",
    "from IPython.display import HTML"
   ]
  },
  {
   "cell_type": "code",
   "execution_count": 2,
   "id": "developed-terminology",
   "metadata": {
    "execution": {
     "iopub.execute_input": "2022-05-01T00:48:22.526609Z",
     "iopub.status.busy": "2022-05-01T00:48:22.525919Z",
     "iopub.status.idle": "2022-05-01T00:48:22.528020Z",
     "shell.execute_reply": "2022-05-01T00:48:22.528613Z"
    },
    "papermill": {
     "duration": 0.045666,
     "end_time": "2022-05-01T00:48:22.528791",
     "exception": false,
     "start_time": "2022-05-01T00:48:22.483125",
     "status": "completed"
    },
    "tags": []
   },
   "outputs": [],
   "source": [
    "#hide\n",
    "\n",
    "# FETCH\n",
    "base_url = 'https://raw.githubusercontent.com/pratapvardhan/notebooks/master/covid19/'\n",
    "paths = {\n",
    "    'mapping': base_url + 'mapping_countries.csv',\n",
    "    'overview': base_url + 'overview.tpl'\n",
    "}"
   ]
  },
  {
   "cell_type": "code",
   "execution_count": 3,
   "id": "dynamic-saver",
   "metadata": {
    "execution": {
     "iopub.execute_input": "2022-05-01T00:48:22.617703Z",
     "iopub.status.busy": "2022-05-01T00:48:22.616930Z",
     "iopub.status.idle": "2022-05-01T00:48:22.620587Z",
     "shell.execute_reply": "2022-05-01T00:48:22.620024Z"
    },
    "papermill": {
     "duration": 0.053583,
     "end_time": "2022-05-01T00:48:22.620715",
     "exception": false,
     "start_time": "2022-05-01T00:48:22.567132",
     "status": "completed"
    },
    "tags": []
   },
   "outputs": [
    {
     "data": {
      "text/plain": [
       "'https://raw.githubusercontent.com/pratapvardhan/notebooks/master/covid19/mapping_countries.csv'"
      ]
     },
     "execution_count": 3,
     "metadata": {},
     "output_type": "execute_result"
    }
   ],
   "source": [
    "#hide\n",
    "paths['mapping']"
   ]
  },
  {
   "cell_type": "code",
   "execution_count": 4,
   "id": "urban-software",
   "metadata": {
    "execution": {
     "iopub.execute_input": "2022-05-01T00:48:22.711762Z",
     "iopub.status.busy": "2022-05-01T00:48:22.711066Z",
     "iopub.status.idle": "2022-05-01T00:48:22.715101Z",
     "shell.execute_reply": "2022-05-01T00:48:22.715661Z"
    },
    "papermill": {
     "duration": 0.054088,
     "end_time": "2022-05-01T00:48:22.715825",
     "exception": false,
     "start_time": "2022-05-01T00:48:22.661737",
     "status": "completed"
    },
    "tags": []
   },
   "outputs": [],
   "source": [
    "#hide\n",
    "def get_mappings(url):\n",
    "    df = pd.read_csv(url)\n",
    "    return {\n",
    "        'df': df,\n",
    "        'replace.country': dict(df.dropna(subset=['Name']).set_index('Country')['Name']),\n",
    "        'map.continent': dict(df.set_index('Name')['Continent'])\n",
    "    }"
   ]
  },
  {
   "cell_type": "code",
   "execution_count": 5,
   "id": "intimate-machinery",
   "metadata": {
    "execution": {
     "iopub.execute_input": "2022-05-01T00:48:22.801514Z",
     "iopub.status.busy": "2022-05-01T00:48:22.800818Z",
     "iopub.status.idle": "2022-05-01T00:48:22.830863Z",
     "shell.execute_reply": "2022-05-01T00:48:22.830114Z"
    },
    "papermill": {
     "duration": 0.077396,
     "end_time": "2022-05-01T00:48:22.831928",
     "exception": false,
     "start_time": "2022-05-01T00:48:22.754532",
     "status": "completed"
    },
    "tags": []
   },
   "outputs": [],
   "source": [
    "#hide\n",
    "mapping = get_mappings(paths['mapping'])"
   ]
  },
  {
   "cell_type": "code",
   "execution_count": 6,
   "id": "certified-tactics",
   "metadata": {
    "execution": {
     "iopub.execute_input": "2022-05-01T00:48:22.915995Z",
     "iopub.status.busy": "2022-05-01T00:48:22.915094Z",
     "iopub.status.idle": "2022-05-01T00:48:22.917821Z",
     "shell.execute_reply": "2022-05-01T00:48:22.918473Z"
    },
    "papermill": {
     "duration": 0.046502,
     "end_time": "2022-05-01T00:48:22.918608",
     "exception": false,
     "start_time": "2022-05-01T00:48:22.872106",
     "status": "completed"
    },
    "tags": []
   },
   "outputs": [],
   "source": [
    "#hide\n",
    "def get_template(path):\n",
    "    from urllib.parse import urlparse\n",
    "    if bool(urlparse(path).netloc):\n",
    "        from urllib.request import urlopen\n",
    "        return urlopen(path).read().decode('utf8')\n",
    "    return open(path).read()"
   ]
  },
  {
   "cell_type": "code",
   "execution_count": 7,
   "id": "realistic-blast",
   "metadata": {
    "execution": {
     "iopub.execute_input": "2022-05-01T00:48:22.998787Z",
     "iopub.status.busy": "2022-05-01T00:48:22.998046Z",
     "iopub.status.idle": "2022-05-01T00:48:23.001826Z",
     "shell.execute_reply": "2022-05-01T00:48:23.002395Z"
    },
    "papermill": {
     "duration": 0.046961,
     "end_time": "2022-05-01T00:48:23.002568",
     "exception": false,
     "start_time": "2022-05-01T00:48:22.955607",
     "status": "completed"
    },
    "tags": []
   },
   "outputs": [],
   "source": [
    "#hide\n",
    "def get_frame(name):\n",
    "    url = (\n",
    "        'https://raw.githubusercontent.com/CSSEGISandData/COVID-19/master/csse_covid_19_data/'\n",
    "        f'csse_covid_19_time_series/time_series_covid19_{name}_global.csv')\n",
    "    df = pd.read_csv(url)\n",
    "    # rename countries\n",
    "    df['Country/Region'] = df['Country/Region'].replace(mapping['replace.country'])\n",
    "    return df"
   ]
  },
  {
   "cell_type": "code",
   "execution_count": 8,
   "id": "affiliated-characterization",
   "metadata": {
    "execution": {
     "iopub.execute_input": "2022-05-01T00:48:23.086314Z",
     "iopub.status.busy": "2022-05-01T00:48:23.085630Z",
     "iopub.status.idle": "2022-05-01T00:48:23.087738Z",
     "shell.execute_reply": "2022-05-01T00:48:23.088320Z"
    },
    "papermill": {
     "duration": 0.047217,
     "end_time": "2022-05-01T00:48:23.088477",
     "exception": false,
     "start_time": "2022-05-01T00:48:23.041260",
     "status": "completed"
    },
    "tags": []
   },
   "outputs": [],
   "source": [
    "#hide\n",
    "def get_dates(df):\n",
    "    dt_cols = df.columns[~df.columns.isin(['Province/State', 'Country/Region', 'Lat', 'Long'])]\n",
    "    LAST_DATE_I = -1\n",
    "    # sometimes last column may be empty, then go backwards\n",
    "    for i in range(-1, -len(dt_cols), -1):\n",
    "        if not df[dt_cols[i]].fillna(0).eq(0).all():\n",
    "            LAST_DATE_I = i\n",
    "            break\n",
    "    return LAST_DATE_I, dt_cols"
   ]
  },
  {
   "cell_type": "code",
   "execution_count": 9,
   "id": "recent-optimization",
   "metadata": {
    "execution": {
     "iopub.execute_input": "2022-05-01T00:48:23.171039Z",
     "iopub.status.busy": "2022-05-01T00:48:23.170293Z",
     "iopub.status.idle": "2022-05-01T00:48:23.597169Z",
     "shell.execute_reply": "2022-05-01T00:48:23.597764Z"
    },
    "papermill": {
     "duration": 0.471024,
     "end_time": "2022-05-01T00:48:23.597949",
     "exception": false,
     "start_time": "2022-05-01T00:48:23.126925",
     "status": "completed"
    },
    "tags": []
   },
   "outputs": [],
   "source": [
    "#hide\n",
    "COL_REGION = 'Country/Region'\n",
    "# Confirmed, Recovered, Deaths\n",
    "df = get_frame('confirmed')\n",
    "# dft_: timeseries, dfc_: today country agg\n",
    "dft_cases = df\n",
    "dft_deaths = get_frame('deaths')\n",
    "dft_recovered = get_frame('recovered')\n",
    "LAST_DATE_I, dt_cols = get_dates(df)"
   ]
  },
  {
   "cell_type": "code",
   "execution_count": 10,
   "id": "absolute-copper",
   "metadata": {
    "execution": {
     "iopub.execute_input": "2022-05-01T00:48:23.680606Z",
     "iopub.status.busy": "2022-05-01T00:48:23.679865Z",
     "iopub.status.idle": "2022-05-01T00:48:23.683138Z",
     "shell.execute_reply": "2022-05-01T00:48:23.683712Z"
    },
    "papermill": {
     "duration": 0.046678,
     "end_time": "2022-05-01T00:48:23.683842",
     "exception": false,
     "start_time": "2022-05-01T00:48:23.637164",
     "status": "completed"
    },
    "tags": []
   },
   "outputs": [],
   "source": [
    "#hide\n",
    "LAST_DATE_I, dt_cols = get_dates(df)\n",
    "dt_today =dt_cols[LAST_DATE_I]\n",
    "# dt_5day = dt_cols[LAST_DATE_I - 5]\n",
    "dt_yday = dt_cols[LAST_DATE_I - 1]"
   ]
  },
  {
   "cell_type": "code",
   "execution_count": 11,
   "id": "restricted-sheriff",
   "metadata": {
    "execution": {
     "iopub.execute_input": "2022-05-01T00:48:23.767956Z",
     "iopub.status.busy": "2022-05-01T00:48:23.767260Z",
     "iopub.status.idle": "2022-05-01T00:48:23.773691Z",
     "shell.execute_reply": "2022-05-01T00:48:23.774239Z"
    },
    "papermill": {
     "duration": 0.052716,
     "end_time": "2022-05-01T00:48:23.774423",
     "exception": false,
     "start_time": "2022-05-01T00:48:23.721707",
     "status": "completed"
    },
    "tags": []
   },
   "outputs": [],
   "source": [
    "#hide\n",
    "dfc_cases = dft_cases.groupby(COL_REGION)[dt_today].sum()\n",
    "dfc_deaths = dft_deaths.groupby(COL_REGION)[dt_today].sum()\n",
    "# dfp_cases = dft_cases.groupby(COL_REGION)[dt_5day].sum()\n",
    "# dfp_deaths = dft_deaths.groupby(COL_REGION)[dt_5day].sum()\n",
    "dfp_cases = dft_cases.groupby(COL_REGION)[dt_yday].sum()\n",
    "dfp_deaths = dft_deaths.groupby(COL_REGION)[dt_yday].sum()"
   ]
  },
  {
   "cell_type": "code",
   "execution_count": 12,
   "id": "deluxe-hepatitis",
   "metadata": {
    "execution": {
     "iopub.execute_input": "2022-05-01T00:48:23.858542Z",
     "iopub.status.busy": "2022-05-01T00:48:23.857862Z",
     "iopub.status.idle": "2022-05-01T00:48:23.863478Z",
     "shell.execute_reply": "2022-05-01T00:48:23.862861Z"
    },
    "papermill": {
     "duration": 0.051006,
     "end_time": "2022-05-01T00:48:23.863614",
     "exception": false,
     "start_time": "2022-05-01T00:48:23.812608",
     "status": "completed"
    },
    "tags": []
   },
   "outputs": [],
   "source": [
    "#hide\n",
    "df_table = (pd.DataFrame(dict(Cases = dfc_cases, Deaths = dfc_deaths, PCases = dfp_cases, PDeaths = dfp_deaths))\n",
    "            .sort_values(by = ['Cases','Deaths'], ascending = [False, False])\n",
    "            .reset_index())"
   ]
  },
  {
   "cell_type": "code",
   "execution_count": 13,
   "id": "educational-chancellor",
   "metadata": {
    "execution": {
     "iopub.execute_input": "2022-05-01T00:48:23.965723Z",
     "iopub.status.busy": "2022-05-01T00:48:23.960120Z",
     "iopub.status.idle": "2022-05-01T00:48:23.969625Z",
     "shell.execute_reply": "2022-05-01T00:48:23.969099Z"
    },
    "papermill": {
     "duration": 0.067893,
     "end_time": "2022-05-01T00:48:23.969788",
     "exception": false,
     "start_time": "2022-05-01T00:48:23.901895",
     "status": "completed"
    },
    "tags": []
   },
   "outputs": [
    {
     "data": {
      "text/html": [
       "<div>\n",
       "<style scoped>\n",
       "    .dataframe tbody tr th:only-of-type {\n",
       "        vertical-align: middle;\n",
       "    }\n",
       "\n",
       "    .dataframe tbody tr th {\n",
       "        vertical-align: top;\n",
       "    }\n",
       "\n",
       "    .dataframe thead th {\n",
       "        text-align: right;\n",
       "    }\n",
       "</style>\n",
       "<table border=\"1\" class=\"dataframe\">\n",
       "  <thead>\n",
       "    <tr style=\"text-align: right;\">\n",
       "      <th></th>\n",
       "      <th>Country/Region</th>\n",
       "      <th>Cases</th>\n",
       "      <th>Deaths</th>\n",
       "      <th>PCases</th>\n",
       "      <th>PDeaths</th>\n",
       "      <th>Cases (+)</th>\n",
       "      <th>Deaths (+)</th>\n",
       "      <th>Fatality Rate</th>\n",
       "      <th>Continent</th>\n",
       "    </tr>\n",
       "  </thead>\n",
       "  <tbody>\n",
       "    <tr>\n",
       "      <th>0</th>\n",
       "      <td>US</td>\n",
       "      <td>81325716</td>\n",
       "      <td>993588</td>\n",
       "      <td>81251631</td>\n",
       "      <td>993164</td>\n",
       "      <td>74085</td>\n",
       "      <td>424</td>\n",
       "      <td>1.22</td>\n",
       "      <td>North America</td>\n",
       "    </tr>\n",
       "    <tr>\n",
       "      <th>1</th>\n",
       "      <td>India</td>\n",
       "      <td>43075864</td>\n",
       "      <td>523803</td>\n",
       "      <td>43072176</td>\n",
       "      <td>523753</td>\n",
       "      <td>3688</td>\n",
       "      <td>50</td>\n",
       "      <td>1.22</td>\n",
       "      <td>Asia</td>\n",
       "    </tr>\n",
       "    <tr>\n",
       "      <th>2</th>\n",
       "      <td>Brazil</td>\n",
       "      <td>30433042</td>\n",
       "      <td>663649</td>\n",
       "      <td>30418920</td>\n",
       "      <td>663464</td>\n",
       "      <td>14122</td>\n",
       "      <td>185</td>\n",
       "      <td>2.18</td>\n",
       "      <td>South America</td>\n",
       "    </tr>\n",
       "    <tr>\n",
       "      <th>3</th>\n",
       "      <td>France</td>\n",
       "      <td>28786413</td>\n",
       "      <td>146906</td>\n",
       "      <td>28733434</td>\n",
       "      <td>146748</td>\n",
       "      <td>52979</td>\n",
       "      <td>158</td>\n",
       "      <td>0.51</td>\n",
       "      <td>Europe</td>\n",
       "    </tr>\n",
       "    <tr>\n",
       "      <th>4</th>\n",
       "      <td>Germany</td>\n",
       "      <td>24798067</td>\n",
       "      <td>135451</td>\n",
       "      <td>24710769</td>\n",
       "      <td>135292</td>\n",
       "      <td>87298</td>\n",
       "      <td>159</td>\n",
       "      <td>0.55</td>\n",
       "      <td>Europe</td>\n",
       "    </tr>\n",
       "  </tbody>\n",
       "</table>\n",
       "</div>"
      ],
      "text/plain": [
       "  Country/Region     Cases  Deaths    PCases  PDeaths  Cases (+)  Deaths (+)  \\\n",
       "0             US  81325716  993588  81251631   993164      74085         424   \n",
       "1          India  43075864  523803  43072176   523753       3688          50   \n",
       "2         Brazil  30433042  663649  30418920   663464      14122         185   \n",
       "3         France  28786413  146906  28733434   146748      52979         158   \n",
       "4        Germany  24798067  135451  24710769   135292      87298         159   \n",
       "\n",
       "   Fatality Rate      Continent  \n",
       "0           1.22  North America  \n",
       "1           1.22           Asia  \n",
       "2           2.18  South America  \n",
       "3           0.51         Europe  \n",
       "4           0.55         Europe  "
      ]
     },
     "execution_count": 13,
     "metadata": {},
     "output_type": "execute_result"
    }
   ],
   "source": [
    "#hide\n",
    "for c in 'Cases, Deaths'.split(', '):\n",
    "    df_table[f'{c} (+)'] = (df_table[c] - df_table[f'P{c}']).clip(0)\n",
    "    #Clip ça veut dire, les chiffres negatif sont interdit\n",
    "df_table['Fatality Rate'] = (100* df_table['Deaths']/ df_table['Cases']).round(2)\n",
    "df_table['Continent'] = df_table['Country/Region'].map(mapping['map.continent'])\n",
    "df_table.head(5)"
   ]
  },
  {
   "cell_type": "code",
   "execution_count": 14,
   "id": "aboriginal-bulgaria",
   "metadata": {
    "execution": {
     "iopub.execute_input": "2022-05-01T00:48:24.053924Z",
     "iopub.status.busy": "2022-05-01T00:48:24.053189Z",
     "iopub.status.idle": "2022-05-01T00:48:24.055594Z",
     "shell.execute_reply": "2022-05-01T00:48:24.057778Z"
    },
    "papermill": {
     "duration": 0.048095,
     "end_time": "2022-05-01T00:48:24.057933",
     "exception": false,
     "start_time": "2022-05-01T00:48:24.009838",
     "status": "completed"
    },
    "tags": []
   },
   "outputs": [],
   "source": [
    "#hide\n",
    "#delete problematic countries from table\n",
    "df_table = df_table[~df_table['Country/Region'].isin(['Cape Verde', 'Cruise Ship', 'Kosovo'])]"
   ]
  },
  {
   "cell_type": "code",
   "execution_count": 15,
   "id": "fantastic-effect",
   "metadata": {
    "execution": {
     "iopub.execute_input": "2022-05-01T00:48:24.144473Z",
     "iopub.status.busy": "2022-05-01T00:48:24.143478Z",
     "iopub.status.idle": "2022-05-01T00:48:24.165604Z",
     "shell.execute_reply": "2022-05-01T00:48:24.166180Z"
    },
    "papermill": {
     "duration": 0.069295,
     "end_time": "2022-05-01T00:48:24.166337",
     "exception": false,
     "start_time": "2022-05-01T00:48:24.097042",
     "status": "completed"
    },
    "tags": []
   },
   "outputs": [
    {
     "data": {
      "text/html": [
       "<div>\n",
       "<style scoped>\n",
       "    .dataframe tbody tr th:only-of-type {\n",
       "        vertical-align: middle;\n",
       "    }\n",
       "\n",
       "    .dataframe tbody tr th {\n",
       "        vertical-align: top;\n",
       "    }\n",
       "\n",
       "    .dataframe thead th {\n",
       "        text-align: right;\n",
       "    }\n",
       "</style>\n",
       "<table border=\"1\" class=\"dataframe\">\n",
       "  <thead>\n",
       "    <tr style=\"text-align: right;\">\n",
       "      <th></th>\n",
       "      <th>Country/Region</th>\n",
       "      <th>Cases</th>\n",
       "      <th>Deaths</th>\n",
       "      <th>PCases</th>\n",
       "      <th>PDeaths</th>\n",
       "      <th>Cases (+)</th>\n",
       "      <th>Deaths (+)</th>\n",
       "      <th>Fatality Rate</th>\n",
       "      <th>Continent</th>\n",
       "    </tr>\n",
       "  </thead>\n",
       "  <tbody>\n",
       "    <tr>\n",
       "      <th>0</th>\n",
       "      <td>US</td>\n",
       "      <td>81325716</td>\n",
       "      <td>993588</td>\n",
       "      <td>81251631</td>\n",
       "      <td>993164</td>\n",
       "      <td>74085</td>\n",
       "      <td>424</td>\n",
       "      <td>1.2</td>\n",
       "      <td>North America</td>\n",
       "    </tr>\n",
       "    <tr>\n",
       "      <th>1</th>\n",
       "      <td>India</td>\n",
       "      <td>43075864</td>\n",
       "      <td>523803</td>\n",
       "      <td>43072176</td>\n",
       "      <td>523753</td>\n",
       "      <td>3688</td>\n",
       "      <td>50</td>\n",
       "      <td>1.2</td>\n",
       "      <td>Asia</td>\n",
       "    </tr>\n",
       "    <tr>\n",
       "      <th>2</th>\n",
       "      <td>Brazil</td>\n",
       "      <td>30433042</td>\n",
       "      <td>663649</td>\n",
       "      <td>30418920</td>\n",
       "      <td>663464</td>\n",
       "      <td>14122</td>\n",
       "      <td>185</td>\n",
       "      <td>2.2</td>\n",
       "      <td>South America</td>\n",
       "    </tr>\n",
       "    <tr>\n",
       "      <th>3</th>\n",
       "      <td>France</td>\n",
       "      <td>28786413</td>\n",
       "      <td>146906</td>\n",
       "      <td>28733434</td>\n",
       "      <td>146748</td>\n",
       "      <td>52979</td>\n",
       "      <td>158</td>\n",
       "      <td>0.5</td>\n",
       "      <td>Europe</td>\n",
       "    </tr>\n",
       "    <tr>\n",
       "      <th>4</th>\n",
       "      <td>Germany</td>\n",
       "      <td>24798067</td>\n",
       "      <td>135451</td>\n",
       "      <td>24710769</td>\n",
       "      <td>135292</td>\n",
       "      <td>87298</td>\n",
       "      <td>159</td>\n",
       "      <td>0.5</td>\n",
       "      <td>Europe</td>\n",
       "    </tr>\n",
       "  </tbody>\n",
       "</table>\n",
       "</div>"
      ],
      "text/plain": [
       "  Country/Region     Cases  Deaths    PCases  PDeaths  Cases (+)  Deaths (+)  \\\n",
       "0             US  81325716  993588  81251631   993164      74085         424   \n",
       "1          India  43075864  523803  43072176   523753       3688          50   \n",
       "2         Brazil  30433042  663649  30418920   663464      14122         185   \n",
       "3         France  28786413  146906  28733434   146748      52979         158   \n",
       "4        Germany  24798067  135451  24710769   135292      87298         159   \n",
       "\n",
       "   Fatality Rate      Continent  \n",
       "0            1.2  North America  \n",
       "1            1.2           Asia  \n",
       "2            2.2  South America  \n",
       "3            0.5         Europe  \n",
       "4            0.5         Europe  "
      ]
     },
     "execution_count": 15,
     "metadata": {},
     "output_type": "execute_result"
    }
   ],
   "source": [
    "#hide\n",
    "df_table = (pd.DataFrame(dict(Cases=dfc_cases, Deaths=dfc_deaths, PCases=dfp_cases, PDeaths=dfp_deaths))\n",
    "             .sort_values(by=['Cases', 'Deaths'], ascending=[False, False])\n",
    "             .reset_index())\n",
    "df_table.rename(columns={'index': 'Country/Region'}, inplace=True)\n",
    "for c in 'Cases, Deaths'.split(', '):\n",
    "    df_table[f'{c} (+)'] = (df_table[c] - df_table[f'P{c}']).clip(0)  # DATA BUG\n",
    "df_table['Fatality Rate'] = (100 * df_table['Deaths'] / df_table['Cases']).round(1)\n",
    "df_table['Continent'] = df_table['Country/Region'].map(mapping['map.continent'])\n",
    "df_table.head(5)"
   ]
  },
  {
   "cell_type": "code",
   "execution_count": 16,
   "id": "fewer-occasion",
   "metadata": {
    "execution": {
     "iopub.execute_input": "2022-05-01T00:48:24.252613Z",
     "iopub.status.busy": "2022-05-01T00:48:24.251903Z",
     "iopub.status.idle": "2022-05-01T00:48:24.254615Z",
     "shell.execute_reply": "2022-05-01T00:48:24.254037Z"
    },
    "papermill": {
     "duration": 0.048444,
     "end_time": "2022-05-01T00:48:24.254745",
     "exception": false,
     "start_time": "2022-05-01T00:48:24.206301",
     "status": "completed"
    },
    "tags": []
   },
   "outputs": [],
   "source": [
    "#hide\n",
    "#delete problematic countries from table\n",
    "df_table = df_table[~df_table['Country/Region'].isin(['Cape Verde', 'Cruise Ship', 'Kosovo'])]"
   ]
  },
  {
   "cell_type": "code",
   "execution_count": 17,
   "id": "related-center",
   "metadata": {
    "execution": {
     "iopub.execute_input": "2022-05-01T00:48:24.353999Z",
     "iopub.status.busy": "2022-05-01T00:48:24.353343Z",
     "iopub.status.idle": "2022-05-01T00:48:24.355351Z",
     "shell.execute_reply": "2022-05-01T00:48:24.355880Z"
    },
    "papermill": {
     "duration": 0.062199,
     "end_time": "2022-05-01T00:48:24.356053",
     "exception": false,
     "start_time": "2022-05-01T00:48:24.293854",
     "status": "completed"
    },
    "tags": []
   },
   "outputs": [],
   "source": [
    "#hide\n",
    "metrics = [df_table.columns[index] for index in [1,2,5,6]]\n",
    "# s_china = df_table[df_table['Country/Region'].eq('China')][metrics].sum().add_prefix('China ')\n",
    "s_us = df_table[df_table['Country/Region'].eq('US')][metrics].sum().add_prefix('US ')\n",
    "s_eu = df_table[df_table['Continent'].eq('Europe')][metrics].sum().add_prefix('EU ')\n",
    "s_ind = df_table[df_table['Country/Region'].eq('India')][metrics].sum().add_prefix('India ')\n",
    "summary = {'updated': pd.to_datetime(dt_today), 'since': pd.to_datetime(dt_yday)}\n",
    "summary = {'updated': pd.to_datetime(dt_today), 'since': pd.to_datetime(dt_yday)}\n",
    "summary = {**summary, **df_table[metrics].sum(), **s_ind, **s_us, **s_eu}"
   ]
  },
  {
   "cell_type": "code",
   "execution_count": 18,
   "id": "engaging-syndrome",
   "metadata": {
    "execution": {
     "iopub.execute_input": "2022-05-01T00:48:24.445420Z",
     "iopub.status.busy": "2022-05-01T00:48:24.444731Z",
     "iopub.status.idle": "2022-05-01T00:48:24.465476Z",
     "shell.execute_reply": "2022-05-01T00:48:24.464855Z"
    },
    "papermill": {
     "duration": 0.067109,
     "end_time": "2022-05-01T00:48:24.465625",
     "exception": false,
     "start_time": "2022-05-01T00:48:24.398516",
     "status": "completed"
    },
    "tags": []
   },
   "outputs": [],
   "source": [
    "#hide\n",
    "dft_ct_new_cases = dft_cases.groupby(COL_REGION)[dt_cols].sum().diff(axis=1).fillna(0).astype(int)"
   ]
  },
  {
   "cell_type": "code",
   "execution_count": 19,
   "id": "neutral-assignment",
   "metadata": {
    "execution": {
     "iopub.execute_input": "2022-05-01T00:48:24.551963Z",
     "iopub.status.busy": "2022-05-01T00:48:24.551252Z",
     "iopub.status.idle": "2022-05-01T00:48:24.553987Z",
     "shell.execute_reply": "2022-05-01T00:48:24.553399Z"
    },
    "papermill": {
     "duration": 0.048838,
     "end_time": "2022-05-01T00:48:24.554111",
     "exception": false,
     "start_time": "2022-05-01T00:48:24.505273",
     "status": "completed"
    },
    "tags": []
   },
   "outputs": [],
   "source": [
    "#hide\n",
    "everydaycases = dft_ct_new_cases.cumsum(axis=1)"
   ]
  },
  {
   "cell_type": "code",
   "execution_count": 20,
   "id": "parliamentary-calgary",
   "metadata": {
    "execution": {
     "iopub.execute_input": "2022-05-01T00:48:24.642735Z",
     "iopub.status.busy": "2022-05-01T00:48:24.641988Z",
     "iopub.status.idle": "2022-05-01T00:48:25.304692Z",
     "shell.execute_reply": "2022-05-01T00:48:25.304050Z"
    },
    "papermill": {
     "duration": 0.708804,
     "end_time": "2022-05-01T00:48:25.304865",
     "exception": false,
     "start_time": "2022-05-01T00:48:24.596061",
     "status": "completed"
    },
    "tags": []
   },
   "outputs": [],
   "source": [
    "#hide\n",
    "import pandas as pd\n",
    "import matplotlib.pyplot as plt\n",
    "import matplotlib.ticker as ticker\n",
    "import matplotlib.animation as animation\n",
    "from IPython.display import HTML"
   ]
  },
  {
   "cell_type": "code",
   "execution_count": 21,
   "id": "lasting-extraction",
   "metadata": {
    "execution": {
     "iopub.execute_input": "2022-05-01T00:48:25.390172Z",
     "iopub.status.busy": "2022-05-01T00:48:25.389527Z",
     "iopub.status.idle": "2022-05-01T00:48:25.396345Z",
     "shell.execute_reply": "2022-05-01T00:48:25.395859Z"
    },
    "papermill": {
     "duration": 0.050893,
     "end_time": "2022-05-01T00:48:25.396467",
     "exception": false,
     "start_time": "2022-05-01T00:48:25.345574",
     "status": "completed"
    },
    "tags": []
   },
   "outputs": [],
   "source": [
    "#hide\n",
    "t = everydaycases.stack()"
   ]
  },
  {
   "cell_type": "code",
   "execution_count": 22,
   "id": "premier-sleeve",
   "metadata": {
    "execution": {
     "iopub.execute_input": "2022-05-01T00:48:25.477650Z",
     "iopub.status.busy": "2022-05-01T00:48:25.476912Z",
     "iopub.status.idle": "2022-05-01T00:48:25.489636Z",
     "shell.execute_reply": "2022-05-01T00:48:25.488969Z"
    },
    "papermill": {
     "duration": 0.055791,
     "end_time": "2022-05-01T00:48:25.489774",
     "exception": false,
     "start_time": "2022-05-01T00:48:25.433983",
     "status": "completed"
    },
    "tags": []
   },
   "outputs": [],
   "source": [
    "#hide\n",
    "g = t.reset_index(['Country/Region'])"
   ]
  },
  {
   "cell_type": "code",
   "execution_count": 23,
   "id": "distributed-pittsburgh",
   "metadata": {
    "execution": {
     "iopub.execute_input": "2022-05-01T00:48:25.572382Z",
     "iopub.status.busy": "2022-05-01T00:48:25.571698Z",
     "iopub.status.idle": "2022-05-01T00:48:25.575732Z",
     "shell.execute_reply": "2022-05-01T00:48:25.576272Z"
    },
    "papermill": {
     "duration": 0.04729,
     "end_time": "2022-05-01T00:48:25.576415",
     "exception": false,
     "start_time": "2022-05-01T00:48:25.529125",
     "status": "completed"
    },
    "tags": []
   },
   "outputs": [],
   "source": [
    "#hide\n",
    "g.index.name = 'date'"
   ]
  },
  {
   "cell_type": "code",
   "execution_count": 24,
   "id": "naked-donor",
   "metadata": {
    "execution": {
     "iopub.execute_input": "2022-05-01T00:48:25.666871Z",
     "iopub.status.busy": "2022-05-01T00:48:25.666259Z",
     "iopub.status.idle": "2022-05-01T00:48:25.669923Z",
     "shell.execute_reply": "2022-05-01T00:48:25.670571Z"
    },
    "papermill": {
     "duration": 0.055338,
     "end_time": "2022-05-01T00:48:25.670738",
     "exception": false,
     "start_time": "2022-05-01T00:48:25.615400",
     "status": "completed"
    },
    "tags": []
   },
   "outputs": [],
   "source": [
    "# #hide\n",
    "# g = g.reset_index(['date'])"
   ]
  },
  {
   "cell_type": "code",
   "execution_count": 25,
   "id": "incomplete-mustang",
   "metadata": {
    "execution": {
     "iopub.execute_input": "2022-05-01T00:48:25.755205Z",
     "iopub.status.busy": "2022-05-01T00:48:25.754546Z",
     "iopub.status.idle": "2022-05-01T00:48:25.757244Z",
     "shell.execute_reply": "2022-05-01T00:48:25.756661Z"
    },
    "papermill": {
     "duration": 0.045405,
     "end_time": "2022-05-01T00:48:25.757380",
     "exception": false,
     "start_time": "2022-05-01T00:48:25.711975",
     "status": "completed"
    },
    "tags": []
   },
   "outputs": [],
   "source": [
    "#hide\n",
    "# g.head()"
   ]
  },
  {
   "cell_type": "code",
   "execution_count": 26,
   "id": "specific-kruger",
   "metadata": {
    "execution": {
     "iopub.execute_input": "2022-05-01T00:48:25.838837Z",
     "iopub.status.busy": "2022-05-01T00:48:25.837962Z",
     "iopub.status.idle": "2022-05-01T00:48:25.840731Z",
     "shell.execute_reply": "2022-05-01T00:48:25.840182Z"
    },
    "papermill": {
     "duration": 0.044738,
     "end_time": "2022-05-01T00:48:25.840869",
     "exception": false,
     "start_time": "2022-05-01T00:48:25.796131",
     "status": "completed"
    },
    "tags": []
   },
   "outputs": [],
   "source": [
    "#hide\n",
    "# g.columns = ['date','country','cases']"
   ]
  },
  {
   "cell_type": "code",
   "execution_count": 27,
   "id": "tender-conversion",
   "metadata": {
    "execution": {
     "iopub.execute_input": "2022-05-01T00:48:25.923962Z",
     "iopub.status.busy": "2022-05-01T00:48:25.923277Z",
     "iopub.status.idle": "2022-05-01T00:48:25.927294Z",
     "shell.execute_reply": "2022-05-01T00:48:25.927827Z"
    },
    "papermill": {
     "duration": 0.046964,
     "end_time": "2022-05-01T00:48:25.927982",
     "exception": false,
     "start_time": "2022-05-01T00:48:25.881018",
     "status": "completed"
    },
    "tags": []
   },
   "outputs": [],
   "source": [
    "#hide\n",
    "# g['continent'] = g.country"
   ]
  },
  {
   "cell_type": "code",
   "execution_count": 28,
   "id": "substantial-wilderness",
   "metadata": {
    "execution": {
     "iopub.execute_input": "2022-05-01T00:48:26.010013Z",
     "iopub.status.busy": "2022-05-01T00:48:26.009246Z",
     "iopub.status.idle": "2022-05-01T00:48:26.011805Z",
     "shell.execute_reply": "2022-05-01T00:48:26.011245Z"
    },
    "papermill": {
     "duration": 0.045312,
     "end_time": "2022-05-01T00:48:26.011933",
     "exception": false,
     "start_time": "2022-05-01T00:48:25.966621",
     "status": "completed"
    },
    "tags": []
   },
   "outputs": [],
   "source": [
    "#hide\n",
    "# cols = list(g.columns.values)"
   ]
  },
  {
   "cell_type": "code",
   "execution_count": 29,
   "id": "solved-farming",
   "metadata": {
    "execution": {
     "iopub.execute_input": "2022-05-01T00:48:26.093919Z",
     "iopub.status.busy": "2022-05-01T00:48:26.093171Z",
     "iopub.status.idle": "2022-05-01T00:48:26.095485Z",
     "shell.execute_reply": "2022-05-01T00:48:26.096006Z"
    },
    "papermill": {
     "duration": 0.044869,
     "end_time": "2022-05-01T00:48:26.096174",
     "exception": false,
     "start_time": "2022-05-01T00:48:26.051305",
     "status": "completed"
    },
    "tags": []
   },
   "outputs": [],
   "source": [
    "#hide\n",
    "# cols.insert(0, cols.pop())"
   ]
  },
  {
   "cell_type": "code",
   "execution_count": 30,
   "id": "executed-adoption",
   "metadata": {
    "execution": {
     "iopub.execute_input": "2022-05-01T00:48:26.176309Z",
     "iopub.status.busy": "2022-05-01T00:48:26.175575Z",
     "iopub.status.idle": "2022-05-01T00:48:26.178256Z",
     "shell.execute_reply": "2022-05-01T00:48:26.177565Z"
    },
    "papermill": {
     "duration": 0.043715,
     "end_time": "2022-05-01T00:48:26.178410",
     "exception": false,
     "start_time": "2022-05-01T00:48:26.134695",
     "status": "completed"
    },
    "tags": []
   },
   "outputs": [],
   "source": [
    "#hide\n",
    "# g = g[cols]"
   ]
  },
  {
   "cell_type": "code",
   "execution_count": 31,
   "id": "subject-dublin",
   "metadata": {
    "execution": {
     "iopub.execute_input": "2022-05-01T00:48:26.260272Z",
     "iopub.status.busy": "2022-05-01T00:48:26.259591Z",
     "iopub.status.idle": "2022-05-01T00:48:26.263524Z",
     "shell.execute_reply": "2022-05-01T00:48:26.264032Z"
    },
    "papermill": {
     "duration": 0.046439,
     "end_time": "2022-05-01T00:48:26.264230",
     "exception": false,
     "start_time": "2022-05-01T00:48:26.217791",
     "status": "completed"
    },
    "tags": []
   },
   "outputs": [],
   "source": [
    "#hide\n",
    "# g['continent'] = g['continent'].map(mapping['map.continent'])"
   ]
  },
  {
   "cell_type": "code",
   "execution_count": 32,
   "id": "freelance-scout",
   "metadata": {
    "execution": {
     "iopub.execute_input": "2022-05-01T00:48:26.343810Z",
     "iopub.status.busy": "2022-05-01T00:48:26.343152Z",
     "iopub.status.idle": "2022-05-01T00:48:26.345963Z",
     "shell.execute_reply": "2022-05-01T00:48:26.345111Z"
    },
    "papermill": {
     "duration": 0.043803,
     "end_time": "2022-05-01T00:48:26.346143",
     "exception": false,
     "start_time": "2022-05-01T00:48:26.302340",
     "status": "completed"
    },
    "tags": []
   },
   "outputs": [],
   "source": [
    "#hide\n",
    "# g.head()"
   ]
  },
  {
   "cell_type": "code",
   "execution_count": 33,
   "id": "limited-engine",
   "metadata": {
    "execution": {
     "iopub.execute_input": "2022-05-01T00:48:26.426474Z",
     "iopub.status.busy": "2022-05-01T00:48:26.425684Z",
     "iopub.status.idle": "2022-05-01T00:48:26.428861Z",
     "shell.execute_reply": "2022-05-01T00:48:26.428278Z"
    },
    "papermill": {
     "duration": 0.044311,
     "end_time": "2022-05-01T00:48:26.429000",
     "exception": false,
     "start_time": "2022-05-01T00:48:26.384689",
     "status": "completed"
    },
    "tags": []
   },
   "outputs": [],
   "source": [
    "# hide\n",
    "# g['date'] = g['date'].astype('datetime64[ns]')"
   ]
  },
  {
   "cell_type": "code",
   "execution_count": 34,
   "id": "sophisticated-supervisor",
   "metadata": {
    "execution": {
     "iopub.execute_input": "2022-05-01T00:48:26.510791Z",
     "iopub.status.busy": "2022-05-01T00:48:26.510079Z",
     "iopub.status.idle": "2022-05-01T00:48:26.512669Z",
     "shell.execute_reply": "2022-05-01T00:48:26.512069Z"
    },
    "papermill": {
     "duration": 0.044662,
     "end_time": "2022-05-01T00:48:26.512800",
     "exception": false,
     "start_time": "2022-05-01T00:48:26.468138",
     "status": "completed"
    },
    "tags": []
   },
   "outputs": [],
   "source": [
    "#hide\n",
    "# g['date'] = g.date.dt.dayofyear"
   ]
  },
  {
   "cell_type": "code",
   "execution_count": 35,
   "id": "inside-dubai",
   "metadata": {
    "execution": {
     "iopub.execute_input": "2022-05-01T00:48:26.594622Z",
     "iopub.status.busy": "2022-05-01T00:48:26.593928Z",
     "iopub.status.idle": "2022-05-01T00:48:26.596266Z",
     "shell.execute_reply": "2022-05-01T00:48:26.596777Z"
    },
    "papermill": {
     "duration": 0.045044,
     "end_time": "2022-05-01T00:48:26.596916",
     "exception": false,
     "start_time": "2022-05-01T00:48:26.551872",
     "status": "completed"
    },
    "tags": []
   },
   "outputs": [],
   "source": [
    "#hide\n",
    "# g = g.rename(columns= {'continent':'group','country':'name','cases':'value'})"
   ]
  },
  {
   "cell_type": "code",
   "execution_count": 36,
   "id": "fleet-motorcycle",
   "metadata": {
    "execution": {
     "iopub.execute_input": "2022-05-01T00:48:26.678431Z",
     "iopub.status.busy": "2022-05-01T00:48:26.677632Z",
     "iopub.status.idle": "2022-05-01T00:48:26.681003Z",
     "shell.execute_reply": "2022-05-01T00:48:26.680335Z"
    },
    "papermill": {
     "duration": 0.045837,
     "end_time": "2022-05-01T00:48:26.681138",
     "exception": false,
     "start_time": "2022-05-01T00:48:26.635301",
     "status": "completed"
    },
    "tags": []
   },
   "outputs": [],
   "source": [
    "#hide\n",
    "# cols = ['name','group','day','value']"
   ]
  },
  {
   "cell_type": "code",
   "execution_count": 37,
   "id": "continued-sleeping",
   "metadata": {
    "execution": {
     "iopub.execute_input": "2022-05-01T00:48:26.763847Z",
     "iopub.status.busy": "2022-05-01T00:48:26.763128Z",
     "iopub.status.idle": "2022-05-01T00:48:26.766785Z",
     "shell.execute_reply": "2022-05-01T00:48:26.767316Z"
    },
    "papermill": {
     "duration": 0.046398,
     "end_time": "2022-05-01T00:48:26.767479",
     "exception": false,
     "start_time": "2022-05-01T00:48:26.721081",
     "status": "completed"
    },
    "tags": []
   },
   "outputs": [],
   "source": [
    "#hide\n",
    "# g.rename(columns= {'date':'day'},inplace = True)"
   ]
  },
  {
   "cell_type": "code",
   "execution_count": 38,
   "id": "major-fight",
   "metadata": {
    "execution": {
     "iopub.execute_input": "2022-05-01T00:48:26.851017Z",
     "iopub.status.busy": "2022-05-01T00:48:26.850198Z",
     "iopub.status.idle": "2022-05-01T00:48:26.852563Z",
     "shell.execute_reply": "2022-05-01T00:48:26.853048Z"
    },
    "papermill": {
     "duration": 0.046753,
     "end_time": "2022-05-01T00:48:26.853223",
     "exception": false,
     "start_time": "2022-05-01T00:48:26.806470",
     "status": "completed"
    },
    "tags": []
   },
   "outputs": [],
   "source": [
    "#hide\n",
    "# g = g[cols]"
   ]
  },
  {
   "cell_type": "code",
   "execution_count": 39,
   "id": "structured-mobile",
   "metadata": {
    "execution": {
     "iopub.execute_input": "2022-05-01T00:48:26.934764Z",
     "iopub.status.busy": "2022-05-01T00:48:26.934061Z",
     "iopub.status.idle": "2022-05-01T00:48:26.936862Z",
     "shell.execute_reply": "2022-05-01T00:48:26.936298Z"
    },
    "papermill": {
     "duration": 0.044814,
     "end_time": "2022-05-01T00:48:26.936990",
     "exception": false,
     "start_time": "2022-05-01T00:48:26.892176",
     "status": "completed"
    },
    "tags": []
   },
   "outputs": [],
   "source": [
    "# #hide\n",
    "# g = g[g.group.notna()]"
   ]
  },
  {
   "cell_type": "code",
   "execution_count": 40,
   "id": "determined-closing",
   "metadata": {
    "execution": {
     "iopub.execute_input": "2022-05-01T00:48:27.019317Z",
     "iopub.status.busy": "2022-05-01T00:48:27.018595Z",
     "iopub.status.idle": "2022-05-01T00:48:27.023181Z",
     "shell.execute_reply": "2022-05-01T00:48:27.022581Z"
    },
    "papermill": {
     "duration": 0.04725,
     "end_time": "2022-05-01T00:48:27.023352",
     "exception": false,
     "start_time": "2022-05-01T00:48:26.976102",
     "status": "completed"
    },
    "tags": []
   },
   "outputs": [],
   "source": [
    "# #hide\n",
    "# colors = dict(zip(\n",
    "#     [\"Oceania\", \"Europe\", \"Asia\", \"South America\", \"Middle East\", \"North America\", \"Africa\"],\n",
    "#     [\"#adb0ff\", \"#ffb3ff\", \"#90d595\", \"#e48381\", \"#aafbff\", \"#f7bb5f\", \"#eafb50\"]\n",
    "# ))\n",
    "# group_lk = g.set_index('name')['group'].to_dict()"
   ]
  },
  {
   "cell_type": "code",
   "execution_count": null,
   "id": "gross-drinking",
   "metadata": {
    "papermill": {
     "duration": 0.039447,
     "end_time": "2022-05-01T00:48:27.102947",
     "exception": false,
     "start_time": "2022-05-01T00:48:27.063500",
     "status": "completed"
    },
    "tags": []
   },
   "outputs": [],
   "source": []
  },
  {
   "cell_type": "code",
   "execution_count": 41,
   "id": "subject-macintosh",
   "metadata": {
    "execution": {
     "iopub.execute_input": "2022-05-01T00:48:27.188433Z",
     "iopub.status.busy": "2022-05-01T00:48:27.187730Z",
     "iopub.status.idle": "2022-05-01T00:48:27.189819Z",
     "shell.execute_reply": "2022-05-01T00:48:27.190381Z"
    },
    "papermill": {
     "duration": 0.047396,
     "end_time": "2022-05-01T00:48:27.190538",
     "exception": false,
     "start_time": "2022-05-01T00:48:27.143142",
     "status": "completed"
    },
    "tags": []
   },
   "outputs": [],
   "source": [
    "# #hide\n",
    "# fig, ax = plt.subplots(figsize=(15, 8))\n",
    "\n",
    "# def draw_barchart(current_day):\n",
    "#     dff = g[g['day'].eq(current_day)].sort_values(by='value', ascending=True).tail(10)\n",
    "#     ax.clear()\n",
    "#     ax.barh(dff['name'], dff['value'], color=[colors[group_lk[x]] for x in dff['name']])\n",
    "#     dx = dff['value'].max() / 200\n",
    "    \n",
    "#     for i, (value, name) in enumerate(zip(dff['value'], dff['name'])):\n",
    "#         ax.text(value-dx, i,     name,           size=14, weight=600, ha='right', va='bottom')\n",
    "#         ax.text(value-dx, i-.25, group_lk[name], size=10, color='#444444', ha='right', va='baseline')\n",
    "#         ax.text(value+dx, i,     f'{value:,.0f}',  size=14, ha='left',  va='center')\n",
    "#     ax.text(1, 0.4, current_day, transform=ax.transAxes, color='#777777', size=46, ha='right', weight=800)\n",
    "#     ax.text(0, 1.06, 'Population (thousands)', transform=ax.transAxes, size=12, color='#777777')\n",
    "#     ax.xaxis.set_major_formatter(ticker.StrMethodFormatter('{x:,.0f}'))\n",
    "#     ax.xaxis.set_ticks_position('top')\n",
    "#     ax.tick_params(axis='x', colors='#777777', labelsize=12)\n",
    "#     ax.set_yticks([])\n",
    "#     ax.margins(0, 0.01)\n",
    "#     ax.grid(which='major', axis='x', linestyle='-')\n",
    "#     ax.set_axisbelow(True)\n",
    "    \n",
    "#     ax.text(0, 1.15, 'Coronavirus',\n",
    "#             transform=ax.transAxes, size=24, weight=600, ha='left', va='top')\n",
    "# #     ax.text(1, 0, 'by @pratapvardhan; credit @jburnmurdoch', transform=ax.transAxes, color='#777777', ha='right',\n",
    "# #             bbox=dict(facecolor='white', alpha=0.8, edgecolor='white'))\n",
    "#     plt.box(False)"
   ]
  },
  {
   "cell_type": "code",
   "execution_count": 42,
   "id": "sexual-wages",
   "metadata": {
    "execution": {
     "iopub.execute_input": "2022-05-01T00:48:27.274615Z",
     "iopub.status.busy": "2022-05-01T00:48:27.273938Z",
     "iopub.status.idle": "2022-05-01T00:48:27.278561Z",
     "shell.execute_reply": "2022-05-01T00:48:27.278014Z"
    },
    "papermill": {
     "duration": 0.048248,
     "end_time": "2022-05-01T00:48:27.278699",
     "exception": false,
     "start_time": "2022-05-01T00:48:27.230451",
     "status": "completed"
    },
    "tags": []
   },
   "outputs": [],
   "source": [
    "# #hide_input\n",
    "# fig, ax = plt.subplots(figsize=(15, 8))\n",
    "# animator = animation.FuncAnimation(fig, draw_barchart, frames=range(g.day.values.min(), g.day.values.max()))\n",
    "# HTML(animator.to_jshtml())\n",
    "# # or use animator.to_html5_video() or animator.save() "
   ]
  },
  {
   "cell_type": "code",
   "execution_count": null,
   "id": "australian-container",
   "metadata": {
    "papermill": {
     "duration": 0.039678,
     "end_time": "2022-05-01T00:48:27.357964",
     "exception": false,
     "start_time": "2022-05-01T00:48:27.318286",
     "status": "completed"
    },
    "tags": []
   },
   "outputs": [],
   "source": []
  },
  {
   "cell_type": "code",
   "execution_count": null,
   "id": "mediterranean-pontiac",
   "metadata": {
    "papermill": {
     "duration": 0.037957,
     "end_time": "2022-05-01T00:48:27.435718",
     "exception": false,
     "start_time": "2022-05-01T00:48:27.397761",
     "status": "completed"
    },
    "tags": []
   },
   "outputs": [],
   "source": []
  },
  {
   "cell_type": "code",
   "execution_count": null,
   "id": "aging-legislature",
   "metadata": {
    "papermill": {
     "duration": 0.039391,
     "end_time": "2022-05-01T00:48:27.514063",
     "exception": false,
     "start_time": "2022-05-01T00:48:27.474672",
     "status": "completed"
    },
    "tags": []
   },
   "outputs": [],
   "source": []
  }
 ],
 "metadata": {
  "kernelspec": {
   "display_name": "Python 3",
   "language": "python",
   "name": "python3"
  },
  "language_info": {
   "codemirror_mode": {
    "name": "ipython",
    "version": 3
   },
   "file_extension": ".py",
   "mimetype": "text/x-python",
   "name": "python",
   "nbconvert_exporter": "python",
   "pygments_lexer": "ipython3",
   "version": "3.6.15"
  },
  "papermill": {
   "duration": 7.29094,
   "end_time": "2022-05-01T00:48:27.873975",
   "environment_variables": {},
   "exception": null,
   "input_path": "2020-03-21-covid19exp.ipynb",
   "output_path": "2020-03-21-covid19exp.ipynb",
   "parameters": {},
   "start_time": "2022-05-01T00:48:20.583035",
   "version": "2.0.0"
  }
 },
 "nbformat": 4,
 "nbformat_minor": 5
}