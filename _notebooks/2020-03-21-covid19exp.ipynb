{
 "cells": [
  {
   "cell_type": "markdown",
   "id": "muslim-click",
   "metadata": {
    "papermill": {
     "duration": 0.04809,
     "end_time": "2022-01-16T12:12:47.495495",
     "exception": false,
     "start_time": "2022-01-16T12:12:47.447405",
     "status": "completed"
    },
    "tags": []
   },
   "source": [
    "# COVID-19 Case Race\n",
    "> A race chart to see rising cases around the world\n",
    "\n",
    "- author: Hargun Oberoi\n",
    "- image: images/covid-overview.png\n",
    "- hide: false\n",
    "- badges: false"
   ]
  },
  {
   "cell_type": "code",
   "execution_count": 1,
   "id": "proof-material",
   "metadata": {
    "execution": {
     "iopub.execute_input": "2022-01-16T12:12:47.590188Z",
     "iopub.status.busy": "2022-01-16T12:12:47.589497Z",
     "iopub.status.idle": "2022-01-16T12:12:48.026543Z",
     "shell.execute_reply": "2022-01-16T12:12:48.025941Z"
    },
    "papermill": {
     "duration": 0.489685,
     "end_time": "2022-01-16T12:12:48.026714",
     "exception": false,
     "start_time": "2022-01-16T12:12:47.537029",
     "status": "completed"
    },
    "tags": []
   },
   "outputs": [],
   "source": [
    "#hide\n",
    "import numpy as np\n",
    "import pandas as pd\n",
    "from jinja2 import Template\n",
    "from IPython.display import HTML"
   ]
  },
  {
   "cell_type": "code",
   "execution_count": 2,
   "id": "developed-terminology",
   "metadata": {
    "execution": {
     "iopub.execute_input": "2022-01-16T12:12:48.115492Z",
     "iopub.status.busy": "2022-01-16T12:12:48.114760Z",
     "iopub.status.idle": "2022-01-16T12:12:48.117387Z",
     "shell.execute_reply": "2022-01-16T12:12:48.116687Z"
    },
    "papermill": {
     "duration": 0.050308,
     "end_time": "2022-01-16T12:12:48.117521",
     "exception": false,
     "start_time": "2022-01-16T12:12:48.067213",
     "status": "completed"
    },
    "tags": []
   },
   "outputs": [],
   "source": [
    "#hide\n",
    "\n",
    "# FETCH\n",
    "base_url = 'https://raw.githubusercontent.com/pratapvardhan/notebooks/master/covid19/'\n",
    "paths = {\n",
    "    'mapping': base_url + 'mapping_countries.csv',\n",
    "    'overview': base_url + 'overview.tpl'\n",
    "}"
   ]
  },
  {
   "cell_type": "code",
   "execution_count": 3,
   "id": "dynamic-saver",
   "metadata": {
    "execution": {
     "iopub.execute_input": "2022-01-16T12:12:48.213475Z",
     "iopub.status.busy": "2022-01-16T12:12:48.212784Z",
     "iopub.status.idle": "2022-01-16T12:12:48.216494Z",
     "shell.execute_reply": "2022-01-16T12:12:48.215755Z"
    },
    "papermill": {
     "duration": 0.057172,
     "end_time": "2022-01-16T12:12:48.216696",
     "exception": false,
     "start_time": "2022-01-16T12:12:48.159524",
     "status": "completed"
    },
    "tags": []
   },
   "outputs": [
    {
     "data": {
      "text/plain": [
       "'https://raw.githubusercontent.com/pratapvardhan/notebooks/master/covid19/mapping_countries.csv'"
      ]
     },
     "execution_count": 3,
     "metadata": {},
     "output_type": "execute_result"
    }
   ],
   "source": [
    "#hide\n",
    "paths['mapping']"
   ]
  },
  {
   "cell_type": "code",
   "execution_count": 4,
   "id": "urban-software",
   "metadata": {
    "execution": {
     "iopub.execute_input": "2022-01-16T12:12:48.307692Z",
     "iopub.status.busy": "2022-01-16T12:12:48.307091Z",
     "iopub.status.idle": "2022-01-16T12:12:48.311536Z",
     "shell.execute_reply": "2022-01-16T12:12:48.310736Z"
    },
    "papermill": {
     "duration": 0.0534,
     "end_time": "2022-01-16T12:12:48.311730",
     "exception": false,
     "start_time": "2022-01-16T12:12:48.258330",
     "status": "completed"
    },
    "tags": []
   },
   "outputs": [],
   "source": [
    "#hide\n",
    "def get_mappings(url):\n",
    "    df = pd.read_csv(url)\n",
    "    return {\n",
    "        'df': df,\n",
    "        'replace.country': dict(df.dropna(subset=['Name']).set_index('Country')['Name']),\n",
    "        'map.continent': dict(df.set_index('Name')['Continent'])\n",
    "    }"
   ]
  },
  {
   "cell_type": "code",
   "execution_count": 5,
   "id": "intimate-machinery",
   "metadata": {
    "execution": {
     "iopub.execute_input": "2022-01-16T12:12:48.410448Z",
     "iopub.status.busy": "2022-01-16T12:12:48.409719Z",
     "iopub.status.idle": "2022-01-16T12:12:48.451430Z",
     "shell.execute_reply": "2022-01-16T12:12:48.450741Z"
    },
    "papermill": {
     "duration": 0.093023,
     "end_time": "2022-01-16T12:12:48.451574",
     "exception": false,
     "start_time": "2022-01-16T12:12:48.358551",
     "status": "completed"
    },
    "tags": []
   },
   "outputs": [],
   "source": [
    "#hide\n",
    "mapping = get_mappings(paths['mapping'])"
   ]
  },
  {
   "cell_type": "code",
   "execution_count": 6,
   "id": "certified-tactics",
   "metadata": {
    "execution": {
     "iopub.execute_input": "2022-01-16T12:12:48.542861Z",
     "iopub.status.busy": "2022-01-16T12:12:48.542154Z",
     "iopub.status.idle": "2022-01-16T12:12:48.546218Z",
     "shell.execute_reply": "2022-01-16T12:12:48.546862Z"
    },
    "papermill": {
     "duration": 0.052392,
     "end_time": "2022-01-16T12:12:48.547037",
     "exception": false,
     "start_time": "2022-01-16T12:12:48.494645",
     "status": "completed"
    },
    "tags": []
   },
   "outputs": [],
   "source": [
    "#hide\n",
    "def get_template(path):\n",
    "    from urllib.parse import urlparse\n",
    "    if bool(urlparse(path).netloc):\n",
    "        from urllib.request import urlopen\n",
    "        return urlopen(path).read().decode('utf8')\n",
    "    return open(path).read()"
   ]
  },
  {
   "cell_type": "code",
   "execution_count": 7,
   "id": "realistic-blast",
   "metadata": {
    "execution": {
     "iopub.execute_input": "2022-01-16T12:12:48.635414Z",
     "iopub.status.busy": "2022-01-16T12:12:48.634663Z",
     "iopub.status.idle": "2022-01-16T12:12:48.637137Z",
     "shell.execute_reply": "2022-01-16T12:12:48.636421Z"
    },
    "papermill": {
     "duration": 0.049474,
     "end_time": "2022-01-16T12:12:48.637275",
     "exception": false,
     "start_time": "2022-01-16T12:12:48.587801",
     "status": "completed"
    },
    "tags": []
   },
   "outputs": [],
   "source": [
    "#hide\n",
    "def get_frame(name):\n",
    "    url = (\n",
    "        'https://raw.githubusercontent.com/CSSEGISandData/COVID-19/master/csse_covid_19_data/'\n",
    "        f'csse_covid_19_time_series/time_series_covid19_{name}_global.csv')\n",
    "    df = pd.read_csv(url)\n",
    "    # rename countries\n",
    "    df['Country/Region'] = df['Country/Region'].replace(mapping['replace.country'])\n",
    "    return df"
   ]
  },
  {
   "cell_type": "code",
   "execution_count": 8,
   "id": "affiliated-characterization",
   "metadata": {
    "execution": {
     "iopub.execute_input": "2022-01-16T12:12:48.729193Z",
     "iopub.status.busy": "2022-01-16T12:12:48.728420Z",
     "iopub.status.idle": "2022-01-16T12:12:48.733336Z",
     "shell.execute_reply": "2022-01-16T12:12:48.732614Z"
    },
    "papermill": {
     "duration": 0.055734,
     "end_time": "2022-01-16T12:12:48.733552",
     "exception": false,
     "start_time": "2022-01-16T12:12:48.677818",
     "status": "completed"
    },
    "tags": []
   },
   "outputs": [],
   "source": [
    "#hide\n",
    "def get_dates(df):\n",
    "    dt_cols = df.columns[~df.columns.isin(['Province/State', 'Country/Region', 'Lat', 'Long'])]\n",
    "    LAST_DATE_I = -1\n",
    "    # sometimes last column may be empty, then go backwards\n",
    "    for i in range(-1, -len(dt_cols), -1):\n",
    "        if not df[dt_cols[i]].fillna(0).eq(0).all():\n",
    "            LAST_DATE_I = i\n",
    "            break\n",
    "    return LAST_DATE_I, dt_cols"
   ]
  },
  {
   "cell_type": "code",
   "execution_count": 9,
   "id": "recent-optimization",
   "metadata": {
    "execution": {
     "iopub.execute_input": "2022-01-16T12:12:48.822056Z",
     "iopub.status.busy": "2022-01-16T12:12:48.821173Z",
     "iopub.status.idle": "2022-01-16T12:12:49.227821Z",
     "shell.execute_reply": "2022-01-16T12:12:49.227046Z"
    },
    "papermill": {
     "duration": 0.452827,
     "end_time": "2022-01-16T12:12:49.228008",
     "exception": false,
     "start_time": "2022-01-16T12:12:48.775181",
     "status": "completed"
    },
    "tags": []
   },
   "outputs": [],
   "source": [
    "#hide\n",
    "COL_REGION = 'Country/Region'\n",
    "# Confirmed, Recovered, Deaths\n",
    "df = get_frame('confirmed')\n",
    "# dft_: timeseries, dfc_: today country agg\n",
    "dft_cases = df\n",
    "dft_deaths = get_frame('deaths')\n",
    "dft_recovered = get_frame('recovered')\n",
    "LAST_DATE_I, dt_cols = get_dates(df)"
   ]
  },
  {
   "cell_type": "code",
   "execution_count": 10,
   "id": "absolute-copper",
   "metadata": {
    "execution": {
     "iopub.execute_input": "2022-01-16T12:12:49.318020Z",
     "iopub.status.busy": "2022-01-16T12:12:49.317255Z",
     "iopub.status.idle": "2022-01-16T12:12:49.321339Z",
     "shell.execute_reply": "2022-01-16T12:12:49.321839Z"
    },
    "papermill": {
     "duration": 0.05196,
     "end_time": "2022-01-16T12:12:49.322002",
     "exception": false,
     "start_time": "2022-01-16T12:12:49.270042",
     "status": "completed"
    },
    "tags": []
   },
   "outputs": [],
   "source": [
    "#hide\n",
    "LAST_DATE_I, dt_cols = get_dates(df)\n",
    "dt_today =dt_cols[LAST_DATE_I]\n",
    "# dt_5day = dt_cols[LAST_DATE_I - 5]\n",
    "dt_yday = dt_cols[LAST_DATE_I - 1]"
   ]
  },
  {
   "cell_type": "code",
   "execution_count": 11,
   "id": "restricted-sheriff",
   "metadata": {
    "execution": {
     "iopub.execute_input": "2022-01-16T12:12:49.415434Z",
     "iopub.status.busy": "2022-01-16T12:12:49.414777Z",
     "iopub.status.idle": "2022-01-16T12:12:49.422434Z",
     "shell.execute_reply": "2022-01-16T12:12:49.421798Z"
    },
    "papermill": {
     "duration": 0.058667,
     "end_time": "2022-01-16T12:12:49.422593",
     "exception": false,
     "start_time": "2022-01-16T12:12:49.363926",
     "status": "completed"
    },
    "tags": []
   },
   "outputs": [],
   "source": [
    "#hide\n",
    "dfc_cases = dft_cases.groupby(COL_REGION)[dt_today].sum()\n",
    "dfc_deaths = dft_deaths.groupby(COL_REGION)[dt_today].sum()\n",
    "# dfp_cases = dft_cases.groupby(COL_REGION)[dt_5day].sum()\n",
    "# dfp_deaths = dft_deaths.groupby(COL_REGION)[dt_5day].sum()\n",
    "dfp_cases = dft_cases.groupby(COL_REGION)[dt_yday].sum()\n",
    "dfp_deaths = dft_deaths.groupby(COL_REGION)[dt_yday].sum()"
   ]
  },
  {
   "cell_type": "code",
   "execution_count": 12,
   "id": "deluxe-hepatitis",
   "metadata": {
    "execution": {
     "iopub.execute_input": "2022-01-16T12:12:49.514116Z",
     "iopub.status.busy": "2022-01-16T12:12:49.513394Z",
     "iopub.status.idle": "2022-01-16T12:12:49.519430Z",
     "shell.execute_reply": "2022-01-16T12:12:49.520220Z"
    },
    "papermill": {
     "duration": 0.055839,
     "end_time": "2022-01-16T12:12:49.520408",
     "exception": false,
     "start_time": "2022-01-16T12:12:49.464569",
     "status": "completed"
    },
    "tags": []
   },
   "outputs": [],
   "source": [
    "#hide\n",
    "df_table = (pd.DataFrame(dict(Cases = dfc_cases, Deaths = dfc_deaths, PCases = dfp_cases, PDeaths = dfp_deaths))\n",
    "            .sort_values(by = ['Cases','Deaths'], ascending = [False, False])\n",
    "            .reset_index())"
   ]
  },
  {
   "cell_type": "code",
   "execution_count": 13,
   "id": "educational-chancellor",
   "metadata": {
    "execution": {
     "iopub.execute_input": "2022-01-16T12:12:49.639170Z",
     "iopub.status.busy": "2022-01-16T12:12:49.631343Z",
     "iopub.status.idle": "2022-01-16T12:12:49.646096Z",
     "shell.execute_reply": "2022-01-16T12:12:49.645059Z"
    },
    "papermill": {
     "duration": 0.084368,
     "end_time": "2022-01-16T12:12:49.646247",
     "exception": false,
     "start_time": "2022-01-16T12:12:49.561879",
     "status": "completed"
    },
    "tags": []
   },
   "outputs": [
    {
     "data": {
      "text/html": [
       "<div>\n",
       "<style scoped>\n",
       "    .dataframe tbody tr th:only-of-type {\n",
       "        vertical-align: middle;\n",
       "    }\n",
       "\n",
       "    .dataframe tbody tr th {\n",
       "        vertical-align: top;\n",
       "    }\n",
       "\n",
       "    .dataframe thead th {\n",
       "        text-align: right;\n",
       "    }\n",
       "</style>\n",
       "<table border=\"1\" class=\"dataframe\">\n",
       "  <thead>\n",
       "    <tr style=\"text-align: right;\">\n",
       "      <th></th>\n",
       "      <th>Country/Region</th>\n",
       "      <th>Cases</th>\n",
       "      <th>Deaths</th>\n",
       "      <th>PCases</th>\n",
       "      <th>PDeaths</th>\n",
       "      <th>Cases (+)</th>\n",
       "      <th>Deaths (+)</th>\n",
       "      <th>Fatality Rate</th>\n",
       "      <th>Continent</th>\n",
       "    </tr>\n",
       "  </thead>\n",
       "  <tbody>\n",
       "    <tr>\n",
       "      <th>0</th>\n",
       "      <td>US</td>\n",
       "      <td>65445397</td>\n",
       "      <td>850060</td>\n",
       "      <td>64917963</td>\n",
       "      <td>849241</td>\n",
       "      <td>527434</td>\n",
       "      <td>819</td>\n",
       "      <td>1.30</td>\n",
       "      <td>North America</td>\n",
       "    </tr>\n",
       "    <tr>\n",
       "      <th>1</th>\n",
       "      <td>India</td>\n",
       "      <td>37122164</td>\n",
       "      <td>486066</td>\n",
       "      <td>36850962</td>\n",
       "      <td>485752</td>\n",
       "      <td>271202</td>\n",
       "      <td>314</td>\n",
       "      <td>1.31</td>\n",
       "      <td>Asia</td>\n",
       "    </tr>\n",
       "    <tr>\n",
       "      <th>2</th>\n",
       "      <td>Brazil</td>\n",
       "      <td>22981851</td>\n",
       "      <td>621233</td>\n",
       "      <td>22933289</td>\n",
       "      <td>621063</td>\n",
       "      <td>48562</td>\n",
       "      <td>170</td>\n",
       "      <td>2.70</td>\n",
       "      <td>South America</td>\n",
       "    </tr>\n",
       "    <tr>\n",
       "      <th>3</th>\n",
       "      <td>United Kingdom</td>\n",
       "      <td>15246179</td>\n",
       "      <td>152395</td>\n",
       "      <td>15165209</td>\n",
       "      <td>152107</td>\n",
       "      <td>80970</td>\n",
       "      <td>288</td>\n",
       "      <td>1.00</td>\n",
       "      <td>Europe</td>\n",
       "    </tr>\n",
       "    <tr>\n",
       "      <th>4</th>\n",
       "      <td>France</td>\n",
       "      <td>14005385</td>\n",
       "      <td>127859</td>\n",
       "      <td>13680775</td>\n",
       "      <td>127711</td>\n",
       "      <td>324610</td>\n",
       "      <td>148</td>\n",
       "      <td>0.91</td>\n",
       "      <td>Europe</td>\n",
       "    </tr>\n",
       "  </tbody>\n",
       "</table>\n",
       "</div>"
      ],
      "text/plain": [
       "   Country/Region     Cases  Deaths    PCases  PDeaths  Cases (+)  Deaths (+)  \\\n",
       "0              US  65445397  850060  64917963   849241     527434         819   \n",
       "1           India  37122164  486066  36850962   485752     271202         314   \n",
       "2          Brazil  22981851  621233  22933289   621063      48562         170   \n",
       "3  United Kingdom  15246179  152395  15165209   152107      80970         288   \n",
       "4          France  14005385  127859  13680775   127711     324610         148   \n",
       "\n",
       "   Fatality Rate      Continent  \n",
       "0           1.30  North America  \n",
       "1           1.31           Asia  \n",
       "2           2.70  South America  \n",
       "3           1.00         Europe  \n",
       "4           0.91         Europe  "
      ]
     },
     "execution_count": 13,
     "metadata": {},
     "output_type": "execute_result"
    }
   ],
   "source": [
    "#hide\n",
    "for c in 'Cases, Deaths'.split(', '):\n",
    "    df_table[f'{c} (+)'] = (df_table[c] - df_table[f'P{c}']).clip(0)\n",
    "    #Clip ça veut dire, les chiffres negatif sont interdit\n",
    "df_table['Fatality Rate'] = (100* df_table['Deaths']/ df_table['Cases']).round(2)\n",
    "df_table['Continent'] = df_table['Country/Region'].map(mapping['map.continent'])\n",
    "df_table.head(5)"
   ]
  },
  {
   "cell_type": "code",
   "execution_count": 14,
   "id": "aboriginal-bulgaria",
   "metadata": {
    "execution": {
     "iopub.execute_input": "2022-01-16T12:12:49.746149Z",
     "iopub.status.busy": "2022-01-16T12:12:49.745477Z",
     "iopub.status.idle": "2022-01-16T12:12:49.748190Z",
     "shell.execute_reply": "2022-01-16T12:12:49.748707Z"
    },
    "papermill": {
     "duration": 0.053523,
     "end_time": "2022-01-16T12:12:49.748872",
     "exception": false,
     "start_time": "2022-01-16T12:12:49.695349",
     "status": "completed"
    },
    "tags": []
   },
   "outputs": [],
   "source": [
    "#hide\n",
    "#delete problematic countries from table\n",
    "df_table = df_table[~df_table['Country/Region'].isin(['Cape Verde', 'Cruise Ship', 'Kosovo'])]"
   ]
  },
  {
   "cell_type": "code",
   "execution_count": 15,
   "id": "fantastic-effect",
   "metadata": {
    "execution": {
     "iopub.execute_input": "2022-01-16T12:12:49.864930Z",
     "iopub.status.busy": "2022-01-16T12:12:49.844750Z",
     "iopub.status.idle": "2022-01-16T12:12:49.868599Z",
     "shell.execute_reply": "2022-01-16T12:12:49.868031Z"
    },
    "papermill": {
     "duration": 0.079638,
     "end_time": "2022-01-16T12:12:49.868752",
     "exception": false,
     "start_time": "2022-01-16T12:12:49.789114",
     "status": "completed"
    },
    "tags": []
   },
   "outputs": [
    {
     "data": {
      "text/html": [
       "<div>\n",
       "<style scoped>\n",
       "    .dataframe tbody tr th:only-of-type {\n",
       "        vertical-align: middle;\n",
       "    }\n",
       "\n",
       "    .dataframe tbody tr th {\n",
       "        vertical-align: top;\n",
       "    }\n",
       "\n",
       "    .dataframe thead th {\n",
       "        text-align: right;\n",
       "    }\n",
       "</style>\n",
       "<table border=\"1\" class=\"dataframe\">\n",
       "  <thead>\n",
       "    <tr style=\"text-align: right;\">\n",
       "      <th></th>\n",
       "      <th>Country/Region</th>\n",
       "      <th>Cases</th>\n",
       "      <th>Deaths</th>\n",
       "      <th>PCases</th>\n",
       "      <th>PDeaths</th>\n",
       "      <th>Cases (+)</th>\n",
       "      <th>Deaths (+)</th>\n",
       "      <th>Fatality Rate</th>\n",
       "      <th>Continent</th>\n",
       "    </tr>\n",
       "  </thead>\n",
       "  <tbody>\n",
       "    <tr>\n",
       "      <th>0</th>\n",
       "      <td>US</td>\n",
       "      <td>65445397</td>\n",
       "      <td>850060</td>\n",
       "      <td>64917963</td>\n",
       "      <td>849241</td>\n",
       "      <td>527434</td>\n",
       "      <td>819</td>\n",
       "      <td>1.3</td>\n",
       "      <td>North America</td>\n",
       "    </tr>\n",
       "    <tr>\n",
       "      <th>1</th>\n",
       "      <td>India</td>\n",
       "      <td>37122164</td>\n",
       "      <td>486066</td>\n",
       "      <td>36850962</td>\n",
       "      <td>485752</td>\n",
       "      <td>271202</td>\n",
       "      <td>314</td>\n",
       "      <td>1.3</td>\n",
       "      <td>Asia</td>\n",
       "    </tr>\n",
       "    <tr>\n",
       "      <th>2</th>\n",
       "      <td>Brazil</td>\n",
       "      <td>22981851</td>\n",
       "      <td>621233</td>\n",
       "      <td>22933289</td>\n",
       "      <td>621063</td>\n",
       "      <td>48562</td>\n",
       "      <td>170</td>\n",
       "      <td>2.7</td>\n",
       "      <td>South America</td>\n",
       "    </tr>\n",
       "    <tr>\n",
       "      <th>3</th>\n",
       "      <td>United Kingdom</td>\n",
       "      <td>15246179</td>\n",
       "      <td>152395</td>\n",
       "      <td>15165209</td>\n",
       "      <td>152107</td>\n",
       "      <td>80970</td>\n",
       "      <td>288</td>\n",
       "      <td>1.0</td>\n",
       "      <td>Europe</td>\n",
       "    </tr>\n",
       "    <tr>\n",
       "      <th>4</th>\n",
       "      <td>France</td>\n",
       "      <td>14005385</td>\n",
       "      <td>127859</td>\n",
       "      <td>13680775</td>\n",
       "      <td>127711</td>\n",
       "      <td>324610</td>\n",
       "      <td>148</td>\n",
       "      <td>0.9</td>\n",
       "      <td>Europe</td>\n",
       "    </tr>\n",
       "  </tbody>\n",
       "</table>\n",
       "</div>"
      ],
      "text/plain": [
       "   Country/Region     Cases  Deaths    PCases  PDeaths  Cases (+)  Deaths (+)  \\\n",
       "0              US  65445397  850060  64917963   849241     527434         819   \n",
       "1           India  37122164  486066  36850962   485752     271202         314   \n",
       "2          Brazil  22981851  621233  22933289   621063      48562         170   \n",
       "3  United Kingdom  15246179  152395  15165209   152107      80970         288   \n",
       "4          France  14005385  127859  13680775   127711     324610         148   \n",
       "\n",
       "   Fatality Rate      Continent  \n",
       "0            1.3  North America  \n",
       "1            1.3           Asia  \n",
       "2            2.7  South America  \n",
       "3            1.0         Europe  \n",
       "4            0.9         Europe  "
      ]
     },
     "execution_count": 15,
     "metadata": {},
     "output_type": "execute_result"
    }
   ],
   "source": [
    "#hide\n",
    "df_table = (pd.DataFrame(dict(Cases=dfc_cases, Deaths=dfc_deaths, PCases=dfp_cases, PDeaths=dfp_deaths))\n",
    "             .sort_values(by=['Cases', 'Deaths'], ascending=[False, False])\n",
    "             .reset_index())\n",
    "df_table.rename(columns={'index': 'Country/Region'}, inplace=True)\n",
    "for c in 'Cases, Deaths'.split(', '):\n",
    "    df_table[f'{c} (+)'] = (df_table[c] - df_table[f'P{c}']).clip(0)  # DATA BUG\n",
    "df_table['Fatality Rate'] = (100 * df_table['Deaths'] / df_table['Cases']).round(1)\n",
    "df_table['Continent'] = df_table['Country/Region'].map(mapping['map.continent'])\n",
    "df_table.head(5)"
   ]
  },
  {
   "cell_type": "code",
   "execution_count": 16,
   "id": "fewer-occasion",
   "metadata": {
    "execution": {
     "iopub.execute_input": "2022-01-16T12:12:49.959300Z",
     "iopub.status.busy": "2022-01-16T12:12:49.958608Z",
     "iopub.status.idle": "2022-01-16T12:12:49.962682Z",
     "shell.execute_reply": "2022-01-16T12:12:49.963217Z"
    },
    "papermill": {
     "duration": 0.052463,
     "end_time": "2022-01-16T12:12:49.963387",
     "exception": false,
     "start_time": "2022-01-16T12:12:49.910924",
     "status": "completed"
    },
    "tags": []
   },
   "outputs": [],
   "source": [
    "#hide\n",
    "#delete problematic countries from table\n",
    "df_table = df_table[~df_table['Country/Region'].isin(['Cape Verde', 'Cruise Ship', 'Kosovo'])]"
   ]
  },
  {
   "cell_type": "code",
   "execution_count": 17,
   "id": "related-center",
   "metadata": {
    "execution": {
     "iopub.execute_input": "2022-01-16T12:12:50.072755Z",
     "iopub.status.busy": "2022-01-16T12:12:50.071696Z",
     "iopub.status.idle": "2022-01-16T12:12:50.073488Z",
     "shell.execute_reply": "2022-01-16T12:12:50.074138Z"
    },
    "papermill": {
     "duration": 0.068102,
     "end_time": "2022-01-16T12:12:50.074304",
     "exception": false,
     "start_time": "2022-01-16T12:12:50.006202",
     "status": "completed"
    },
    "tags": []
   },
   "outputs": [],
   "source": [
    "#hide\n",
    "metrics = [df_table.columns[index] for index in [1,2,5,6]]\n",
    "# s_china = df_table[df_table['Country/Region'].eq('China')][metrics].sum().add_prefix('China ')\n",
    "s_us = df_table[df_table['Country/Region'].eq('US')][metrics].sum().add_prefix('US ')\n",
    "s_eu = df_table[df_table['Continent'].eq('Europe')][metrics].sum().add_prefix('EU ')\n",
    "s_ind = df_table[df_table['Country/Region'].eq('India')][metrics].sum().add_prefix('India ')\n",
    "summary = {'updated': pd.to_datetime(dt_today), 'since': pd.to_datetime(dt_yday)}\n",
    "summary = {'updated': pd.to_datetime(dt_today), 'since': pd.to_datetime(dt_yday)}\n",
    "summary = {**summary, **df_table[metrics].sum(), **s_ind, **s_us, **s_eu}"
   ]
  },
  {
   "cell_type": "code",
   "execution_count": 18,
   "id": "engaging-syndrome",
   "metadata": {
    "execution": {
     "iopub.execute_input": "2022-01-16T12:12:50.170742Z",
     "iopub.status.busy": "2022-01-16T12:12:50.170036Z",
     "iopub.status.idle": "2022-01-16T12:12:50.188681Z",
     "shell.execute_reply": "2022-01-16T12:12:50.189213Z"
    },
    "papermill": {
     "duration": 0.069541,
     "end_time": "2022-01-16T12:12:50.189400",
     "exception": false,
     "start_time": "2022-01-16T12:12:50.119859",
     "status": "completed"
    },
    "tags": []
   },
   "outputs": [],
   "source": [
    "#hide\n",
    "dft_ct_new_cases = dft_cases.groupby(COL_REGION)[dt_cols].sum().diff(axis=1).fillna(0).astype(int)"
   ]
  },
  {
   "cell_type": "code",
   "execution_count": 19,
   "id": "neutral-assignment",
   "metadata": {
    "execution": {
     "iopub.execute_input": "2022-01-16T12:12:50.284076Z",
     "iopub.status.busy": "2022-01-16T12:12:50.283320Z",
     "iopub.status.idle": "2022-01-16T12:12:50.286128Z",
     "shell.execute_reply": "2022-01-16T12:12:50.285464Z"
    },
    "papermill": {
     "duration": 0.053442,
     "end_time": "2022-01-16T12:12:50.286270",
     "exception": false,
     "start_time": "2022-01-16T12:12:50.232828",
     "status": "completed"
    },
    "tags": []
   },
   "outputs": [],
   "source": [
    "#hide\n",
    "everydaycases = dft_ct_new_cases.cumsum(axis=1)"
   ]
  },
  {
   "cell_type": "code",
   "execution_count": 20,
   "id": "parliamentary-calgary",
   "metadata": {
    "execution": {
     "iopub.execute_input": "2022-01-16T12:12:50.376885Z",
     "iopub.status.busy": "2022-01-16T12:12:50.376144Z",
     "iopub.status.idle": "2022-01-16T12:12:51.362155Z",
     "shell.execute_reply": "2022-01-16T12:12:51.361524Z"
    },
    "papermill": {
     "duration": 1.034046,
     "end_time": "2022-01-16T12:12:51.362319",
     "exception": false,
     "start_time": "2022-01-16T12:12:50.328273",
     "status": "completed"
    },
    "tags": []
   },
   "outputs": [],
   "source": [
    "#hide\n",
    "import pandas as pd\n",
    "import matplotlib.pyplot as plt\n",
    "import matplotlib.ticker as ticker\n",
    "import matplotlib.animation as animation\n",
    "from IPython.display import HTML"
   ]
  },
  {
   "cell_type": "code",
   "execution_count": 21,
   "id": "lasting-extraction",
   "metadata": {
    "execution": {
     "iopub.execute_input": "2022-01-16T12:12:51.452365Z",
     "iopub.status.busy": "2022-01-16T12:12:51.451665Z",
     "iopub.status.idle": "2022-01-16T12:12:51.460578Z",
     "shell.execute_reply": "2022-01-16T12:12:51.461148Z"
    },
    "papermill": {
     "duration": 0.057439,
     "end_time": "2022-01-16T12:12:51.461392",
     "exception": false,
     "start_time": "2022-01-16T12:12:51.403953",
     "status": "completed"
    },
    "tags": []
   },
   "outputs": [],
   "source": [
    "#hide\n",
    "t = everydaycases.stack()"
   ]
  },
  {
   "cell_type": "code",
   "execution_count": 22,
   "id": "premier-sleeve",
   "metadata": {
    "execution": {
     "iopub.execute_input": "2022-01-16T12:12:51.551552Z",
     "iopub.status.busy": "2022-01-16T12:12:51.550866Z",
     "iopub.status.idle": "2022-01-16T12:12:51.562389Z",
     "shell.execute_reply": "2022-01-16T12:12:51.561827Z"
    },
    "papermill": {
     "duration": 0.058342,
     "end_time": "2022-01-16T12:12:51.562569",
     "exception": false,
     "start_time": "2022-01-16T12:12:51.504227",
     "status": "completed"
    },
    "tags": []
   },
   "outputs": [],
   "source": [
    "#hide\n",
    "g = t.reset_index(['Country/Region'])"
   ]
  },
  {
   "cell_type": "code",
   "execution_count": 23,
   "id": "distributed-pittsburgh",
   "metadata": {
    "execution": {
     "iopub.execute_input": "2022-01-16T12:12:51.651900Z",
     "iopub.status.busy": "2022-01-16T12:12:51.651174Z",
     "iopub.status.idle": "2022-01-16T12:12:51.653864Z",
     "shell.execute_reply": "2022-01-16T12:12:51.653176Z"
    },
    "papermill": {
     "duration": 0.049149,
     "end_time": "2022-01-16T12:12:51.653998",
     "exception": false,
     "start_time": "2022-01-16T12:12:51.604849",
     "status": "completed"
    },
    "tags": []
   },
   "outputs": [],
   "source": [
    "#hide\n",
    "g.index.name = 'date'"
   ]
  },
  {
   "cell_type": "code",
   "execution_count": 24,
   "id": "naked-donor",
   "metadata": {
    "execution": {
     "iopub.execute_input": "2022-01-16T12:12:51.741895Z",
     "iopub.status.busy": "2022-01-16T12:12:51.741196Z",
     "iopub.status.idle": "2022-01-16T12:12:51.745946Z",
     "shell.execute_reply": "2022-01-16T12:12:51.745382Z"
    },
    "papermill": {
     "duration": 0.049481,
     "end_time": "2022-01-16T12:12:51.746093",
     "exception": false,
     "start_time": "2022-01-16T12:12:51.696612",
     "status": "completed"
    },
    "tags": []
   },
   "outputs": [],
   "source": [
    "# #hide\n",
    "# g = g.reset_index(['date'])"
   ]
  },
  {
   "cell_type": "code",
   "execution_count": 25,
   "id": "incomplete-mustang",
   "metadata": {
    "execution": {
     "iopub.execute_input": "2022-01-16T12:12:51.836729Z",
     "iopub.status.busy": "2022-01-16T12:12:51.835564Z",
     "iopub.status.idle": "2022-01-16T12:12:51.838076Z",
     "shell.execute_reply": "2022-01-16T12:12:51.837492Z"
    },
    "papermill": {
     "duration": 0.047767,
     "end_time": "2022-01-16T12:12:51.838227",
     "exception": false,
     "start_time": "2022-01-16T12:12:51.790460",
     "status": "completed"
    },
    "tags": []
   },
   "outputs": [],
   "source": [
    "#hide\n",
    "# g.head()"
   ]
  },
  {
   "cell_type": "code",
   "execution_count": 26,
   "id": "specific-kruger",
   "metadata": {
    "execution": {
     "iopub.execute_input": "2022-01-16T12:12:51.925962Z",
     "iopub.status.busy": "2022-01-16T12:12:51.925283Z",
     "iopub.status.idle": "2022-01-16T12:12:51.930548Z",
     "shell.execute_reply": "2022-01-16T12:12:51.929997Z"
    },
    "papermill": {
     "duration": 0.05124,
     "end_time": "2022-01-16T12:12:51.930693",
     "exception": false,
     "start_time": "2022-01-16T12:12:51.879453",
     "status": "completed"
    },
    "tags": []
   },
   "outputs": [],
   "source": [
    "#hide\n",
    "# g.columns = ['date','country','cases']"
   ]
  },
  {
   "cell_type": "code",
   "execution_count": 27,
   "id": "tender-conversion",
   "metadata": {
    "execution": {
     "iopub.execute_input": "2022-01-16T12:12:52.019216Z",
     "iopub.status.busy": "2022-01-16T12:12:52.018534Z",
     "iopub.status.idle": "2022-01-16T12:12:52.020752Z",
     "shell.execute_reply": "2022-01-16T12:12:52.020083Z"
    },
    "papermill": {
     "duration": 0.048409,
     "end_time": "2022-01-16T12:12:52.020900",
     "exception": false,
     "start_time": "2022-01-16T12:12:51.972491",
     "status": "completed"
    },
    "tags": []
   },
   "outputs": [],
   "source": [
    "#hide\n",
    "# g['continent'] = g.country"
   ]
  },
  {
   "cell_type": "code",
   "execution_count": 28,
   "id": "substantial-wilderness",
   "metadata": {
    "execution": {
     "iopub.execute_input": "2022-01-16T12:12:52.111483Z",
     "iopub.status.busy": "2022-01-16T12:12:52.110799Z",
     "iopub.status.idle": "2022-01-16T12:12:52.113325Z",
     "shell.execute_reply": "2022-01-16T12:12:52.112756Z"
    },
    "papermill": {
     "duration": 0.049821,
     "end_time": "2022-01-16T12:12:52.113467",
     "exception": false,
     "start_time": "2022-01-16T12:12:52.063646",
     "status": "completed"
    },
    "tags": []
   },
   "outputs": [],
   "source": [
    "#hide\n",
    "# cols = list(g.columns.values)"
   ]
  },
  {
   "cell_type": "code",
   "execution_count": 29,
   "id": "solved-farming",
   "metadata": {
    "execution": {
     "iopub.execute_input": "2022-01-16T12:12:52.202705Z",
     "iopub.status.busy": "2022-01-16T12:12:52.202007Z",
     "iopub.status.idle": "2022-01-16T12:12:52.206165Z",
     "shell.execute_reply": "2022-01-16T12:12:52.206678Z"
    },
    "papermill": {
     "duration": 0.050582,
     "end_time": "2022-01-16T12:12:52.206854",
     "exception": false,
     "start_time": "2022-01-16T12:12:52.156272",
     "status": "completed"
    },
    "tags": []
   },
   "outputs": [],
   "source": [
    "#hide\n",
    "# cols.insert(0, cols.pop())"
   ]
  },
  {
   "cell_type": "code",
   "execution_count": 30,
   "id": "executed-adoption",
   "metadata": {
    "execution": {
     "iopub.execute_input": "2022-01-16T12:12:52.295481Z",
     "iopub.status.busy": "2022-01-16T12:12:52.294784Z",
     "iopub.status.idle": "2022-01-16T12:12:52.297531Z",
     "shell.execute_reply": "2022-01-16T12:12:52.296922Z"
    },
    "papermill": {
     "duration": 0.048017,
     "end_time": "2022-01-16T12:12:52.297682",
     "exception": false,
     "start_time": "2022-01-16T12:12:52.249665",
     "status": "completed"
    },
    "tags": []
   },
   "outputs": [],
   "source": [
    "#hide\n",
    "# g = g[cols]"
   ]
  },
  {
   "cell_type": "code",
   "execution_count": 31,
   "id": "subject-dublin",
   "metadata": {
    "execution": {
     "iopub.execute_input": "2022-01-16T12:12:52.386496Z",
     "iopub.status.busy": "2022-01-16T12:12:52.385799Z",
     "iopub.status.idle": "2022-01-16T12:12:52.389891Z",
     "shell.execute_reply": "2022-01-16T12:12:52.390550Z"
    },
    "papermill": {
     "duration": 0.05062,
     "end_time": "2022-01-16T12:12:52.390727",
     "exception": false,
     "start_time": "2022-01-16T12:12:52.340107",
     "status": "completed"
    },
    "tags": []
   },
   "outputs": [],
   "source": [
    "#hide\n",
    "# g['continent'] = g['continent'].map(mapping['map.continent'])"
   ]
  },
  {
   "cell_type": "code",
   "execution_count": 32,
   "id": "freelance-scout",
   "metadata": {
    "execution": {
     "iopub.execute_input": "2022-01-16T12:12:52.482142Z",
     "iopub.status.busy": "2022-01-16T12:12:52.481461Z",
     "iopub.status.idle": "2022-01-16T12:12:52.484052Z",
     "shell.execute_reply": "2022-01-16T12:12:52.483198Z"
    },
    "papermill": {
     "duration": 0.052321,
     "end_time": "2022-01-16T12:12:52.484193",
     "exception": false,
     "start_time": "2022-01-16T12:12:52.431872",
     "status": "completed"
    },
    "tags": []
   },
   "outputs": [],
   "source": [
    "#hide\n",
    "# g.head()"
   ]
  },
  {
   "cell_type": "code",
   "execution_count": 33,
   "id": "limited-engine",
   "metadata": {
    "execution": {
     "iopub.execute_input": "2022-01-16T12:12:52.571108Z",
     "iopub.status.busy": "2022-01-16T12:12:52.570347Z",
     "iopub.status.idle": "2022-01-16T12:12:52.574365Z",
     "shell.execute_reply": "2022-01-16T12:12:52.574895Z"
    },
    "papermill": {
     "duration": 0.049761,
     "end_time": "2022-01-16T12:12:52.575066",
     "exception": false,
     "start_time": "2022-01-16T12:12:52.525305",
     "status": "completed"
    },
    "tags": []
   },
   "outputs": [],
   "source": [
    "# hide\n",
    "# g['date'] = g['date'].astype('datetime64[ns]')"
   ]
  },
  {
   "cell_type": "code",
   "execution_count": 34,
   "id": "sophisticated-supervisor",
   "metadata": {
    "execution": {
     "iopub.execute_input": "2022-01-16T12:12:52.665700Z",
     "iopub.status.busy": "2022-01-16T12:12:52.665025Z",
     "iopub.status.idle": "2022-01-16T12:12:52.667075Z",
     "shell.execute_reply": "2022-01-16T12:12:52.667627Z"
    },
    "papermill": {
     "duration": 0.05005,
     "end_time": "2022-01-16T12:12:52.667797",
     "exception": false,
     "start_time": "2022-01-16T12:12:52.617747",
     "status": "completed"
    },
    "tags": []
   },
   "outputs": [],
   "source": [
    "#hide\n",
    "# g['date'] = g.date.dt.dayofyear"
   ]
  },
  {
   "cell_type": "code",
   "execution_count": 35,
   "id": "inside-dubai",
   "metadata": {
    "execution": {
     "iopub.execute_input": "2022-01-16T12:12:52.766423Z",
     "iopub.status.busy": "2022-01-16T12:12:52.765588Z",
     "iopub.status.idle": "2022-01-16T12:12:52.770992Z",
     "shell.execute_reply": "2022-01-16T12:12:52.771594Z"
    },
    "papermill": {
     "duration": 0.052266,
     "end_time": "2022-01-16T12:12:52.771774",
     "exception": false,
     "start_time": "2022-01-16T12:12:52.719508",
     "status": "completed"
    },
    "tags": []
   },
   "outputs": [],
   "source": [
    "#hide\n",
    "# g = g.rename(columns= {'continent':'group','country':'name','cases':'value'})"
   ]
  },
  {
   "cell_type": "code",
   "execution_count": 36,
   "id": "fleet-motorcycle",
   "metadata": {
    "execution": {
     "iopub.execute_input": "2022-01-16T12:12:52.861778Z",
     "iopub.status.busy": "2022-01-16T12:12:52.861069Z",
     "iopub.status.idle": "2022-01-16T12:12:52.865498Z",
     "shell.execute_reply": "2022-01-16T12:12:52.866043Z"
    },
    "papermill": {
     "duration": 0.051612,
     "end_time": "2022-01-16T12:12:52.866220",
     "exception": false,
     "start_time": "2022-01-16T12:12:52.814608",
     "status": "completed"
    },
    "tags": []
   },
   "outputs": [],
   "source": [
    "#hide\n",
    "# cols = ['name','group','day','value']"
   ]
  },
  {
   "cell_type": "code",
   "execution_count": 37,
   "id": "continued-sleeping",
   "metadata": {
    "execution": {
     "iopub.execute_input": "2022-01-16T12:12:52.953761Z",
     "iopub.status.busy": "2022-01-16T12:12:52.953070Z",
     "iopub.status.idle": "2022-01-16T12:12:52.955616Z",
     "shell.execute_reply": "2022-01-16T12:12:52.954700Z"
    },
    "papermill": {
     "duration": 0.048227,
     "end_time": "2022-01-16T12:12:52.955767",
     "exception": false,
     "start_time": "2022-01-16T12:12:52.907540",
     "status": "completed"
    },
    "tags": []
   },
   "outputs": [],
   "source": [
    "#hide\n",
    "# g.rename(columns= {'date':'day'},inplace = True)"
   ]
  },
  {
   "cell_type": "code",
   "execution_count": 38,
   "id": "major-fight",
   "metadata": {
    "execution": {
     "iopub.execute_input": "2022-01-16T12:12:53.047751Z",
     "iopub.status.busy": "2022-01-16T12:12:53.047064Z",
     "iopub.status.idle": "2022-01-16T12:12:53.051163Z",
     "shell.execute_reply": "2022-01-16T12:12:53.051800Z"
    },
    "papermill": {
     "duration": 0.051321,
     "end_time": "2022-01-16T12:12:53.052013",
     "exception": false,
     "start_time": "2022-01-16T12:12:53.000692",
     "status": "completed"
    },
    "tags": []
   },
   "outputs": [],
   "source": [
    "#hide\n",
    "# g = g[cols]"
   ]
  },
  {
   "cell_type": "code",
   "execution_count": 39,
   "id": "structured-mobile",
   "metadata": {
    "execution": {
     "iopub.execute_input": "2022-01-16T12:12:53.142955Z",
     "iopub.status.busy": "2022-01-16T12:12:53.142259Z",
     "iopub.status.idle": "2022-01-16T12:12:53.144474Z",
     "shell.execute_reply": "2022-01-16T12:12:53.143773Z"
    },
    "papermill": {
     "duration": 0.050204,
     "end_time": "2022-01-16T12:12:53.144616",
     "exception": false,
     "start_time": "2022-01-16T12:12:53.094412",
     "status": "completed"
    },
    "tags": []
   },
   "outputs": [],
   "source": [
    "# #hide\n",
    "# g = g[g.group.notna()]"
   ]
  },
  {
   "cell_type": "code",
   "execution_count": 40,
   "id": "determined-closing",
   "metadata": {
    "execution": {
     "iopub.execute_input": "2022-01-16T12:12:53.233694Z",
     "iopub.status.busy": "2022-01-16T12:12:53.232852Z",
     "iopub.status.idle": "2022-01-16T12:12:53.235444Z",
     "shell.execute_reply": "2022-01-16T12:12:53.234909Z"
    },
    "papermill": {
     "duration": 0.049565,
     "end_time": "2022-01-16T12:12:53.235585",
     "exception": false,
     "start_time": "2022-01-16T12:12:53.186020",
     "status": "completed"
    },
    "tags": []
   },
   "outputs": [],
   "source": [
    "# #hide\n",
    "# colors = dict(zip(\n",
    "#     [\"Oceania\", \"Europe\", \"Asia\", \"South America\", \"Middle East\", \"North America\", \"Africa\"],\n",
    "#     [\"#adb0ff\", \"#ffb3ff\", \"#90d595\", \"#e48381\", \"#aafbff\", \"#f7bb5f\", \"#eafb50\"]\n",
    "# ))\n",
    "# group_lk = g.set_index('name')['group'].to_dict()"
   ]
  },
  {
   "cell_type": "code",
   "execution_count": null,
   "id": "gross-drinking",
   "metadata": {
    "papermill": {
     "duration": 0.041283,
     "end_time": "2022-01-16T12:12:53.318187",
     "exception": false,
     "start_time": "2022-01-16T12:12:53.276904",
     "status": "completed"
    },
    "tags": []
   },
   "outputs": [],
   "source": []
  },
  {
   "cell_type": "code",
   "execution_count": 41,
   "id": "subject-macintosh",
   "metadata": {
    "execution": {
     "iopub.execute_input": "2022-01-16T12:12:53.405254Z",
     "iopub.status.busy": "2022-01-16T12:12:53.404542Z",
     "iopub.status.idle": "2022-01-16T12:12:53.407150Z",
     "shell.execute_reply": "2022-01-16T12:12:53.407764Z"
    },
    "papermill": {
     "duration": 0.049056,
     "end_time": "2022-01-16T12:12:53.407931",
     "exception": false,
     "start_time": "2022-01-16T12:12:53.358875",
     "status": "completed"
    },
    "tags": []
   },
   "outputs": [],
   "source": [
    "# #hide\n",
    "# fig, ax = plt.subplots(figsize=(15, 8))\n",
    "\n",
    "# def draw_barchart(current_day):\n",
    "#     dff = g[g['day'].eq(current_day)].sort_values(by='value', ascending=True).tail(10)\n",
    "#     ax.clear()\n",
    "#     ax.barh(dff['name'], dff['value'], color=[colors[group_lk[x]] for x in dff['name']])\n",
    "#     dx = dff['value'].max() / 200\n",
    "    \n",
    "#     for i, (value, name) in enumerate(zip(dff['value'], dff['name'])):\n",
    "#         ax.text(value-dx, i,     name,           size=14, weight=600, ha='right', va='bottom')\n",
    "#         ax.text(value-dx, i-.25, group_lk[name], size=10, color='#444444', ha='right', va='baseline')\n",
    "#         ax.text(value+dx, i,     f'{value:,.0f}',  size=14, ha='left',  va='center')\n",
    "#     ax.text(1, 0.4, current_day, transform=ax.transAxes, color='#777777', size=46, ha='right', weight=800)\n",
    "#     ax.text(0, 1.06, 'Population (thousands)', transform=ax.transAxes, size=12, color='#777777')\n",
    "#     ax.xaxis.set_major_formatter(ticker.StrMethodFormatter('{x:,.0f}'))\n",
    "#     ax.xaxis.set_ticks_position('top')\n",
    "#     ax.tick_params(axis='x', colors='#777777', labelsize=12)\n",
    "#     ax.set_yticks([])\n",
    "#     ax.margins(0, 0.01)\n",
    "#     ax.grid(which='major', axis='x', linestyle='-')\n",
    "#     ax.set_axisbelow(True)\n",
    "    \n",
    "#     ax.text(0, 1.15, 'Coronavirus',\n",
    "#             transform=ax.transAxes, size=24, weight=600, ha='left', va='top')\n",
    "# #     ax.text(1, 0, 'by @pratapvardhan; credit @jburnmurdoch', transform=ax.transAxes, color='#777777', ha='right',\n",
    "# #             bbox=dict(facecolor='white', alpha=0.8, edgecolor='white'))\n",
    "#     plt.box(False)"
   ]
  },
  {
   "cell_type": "code",
   "execution_count": 42,
   "id": "sexual-wages",
   "metadata": {
    "execution": {
     "iopub.execute_input": "2022-01-16T12:12:53.497106Z",
     "iopub.status.busy": "2022-01-16T12:12:53.496437Z",
     "iopub.status.idle": "2022-01-16T12:12:53.500980Z",
     "shell.execute_reply": "2022-01-16T12:12:53.500437Z"
    },
    "papermill": {
     "duration": 0.050543,
     "end_time": "2022-01-16T12:12:53.501120",
     "exception": false,
     "start_time": "2022-01-16T12:12:53.450577",
     "status": "completed"
    },
    "tags": []
   },
   "outputs": [],
   "source": [
    "# #hide_input\n",
    "# fig, ax = plt.subplots(figsize=(15, 8))\n",
    "# animator = animation.FuncAnimation(fig, draw_barchart, frames=range(g.day.values.min(), g.day.values.max()))\n",
    "# HTML(animator.to_jshtml())\n",
    "# # or use animator.to_html5_video() or animator.save() "
   ]
  },
  {
   "cell_type": "code",
   "execution_count": null,
   "id": "australian-container",
   "metadata": {
    "papermill": {
     "duration": 0.046371,
     "end_time": "2022-01-16T12:12:53.589068",
     "exception": false,
     "start_time": "2022-01-16T12:12:53.542697",
     "status": "completed"
    },
    "tags": []
   },
   "outputs": [],
   "source": []
  },
  {
   "cell_type": "code",
   "execution_count": null,
   "id": "mediterranean-pontiac",
   "metadata": {
    "papermill": {
     "duration": 0.044236,
     "end_time": "2022-01-16T12:12:53.677742",
     "exception": false,
     "start_time": "2022-01-16T12:12:53.633506",
     "status": "completed"
    },
    "tags": []
   },
   "outputs": [],
   "source": []
  },
  {
   "cell_type": "code",
   "execution_count": null,
   "id": "aging-legislature",
   "metadata": {
    "papermill": {
     "duration": 0.042656,
     "end_time": "2022-01-16T12:12:53.765483",
     "exception": false,
     "start_time": "2022-01-16T12:12:53.722827",
     "status": "completed"
    },
    "tags": []
   },
   "outputs": [],
   "source": []
  }
 ],
 "metadata": {
  "kernelspec": {
   "display_name": "Python 3",
   "language": "python",
   "name": "python3"
  },
  "language_info": {
   "codemirror_mode": {
    "name": "ipython",
    "version": 3
   },
   "file_extension": ".py",
   "mimetype": "text/x-python",
   "name": "python",
   "nbconvert_exporter": "python",
   "pygments_lexer": "ipython3",
   "version": "3.6.15"
  },
  "papermill": {
   "duration": 8.190612,
   "end_time": "2022-01-16T12:12:54.228292",
   "environment_variables": {},
   "exception": null,
   "input_path": "2020-03-21-covid19exp.ipynb",
   "output_path": "2020-03-21-covid19exp.ipynb",
   "parameters": {},
   "start_time": "2022-01-16T12:12:46.037680",
   "version": "2.0.0"
  }
 },
 "nbformat": 4,
 "nbformat_minor": 5
}