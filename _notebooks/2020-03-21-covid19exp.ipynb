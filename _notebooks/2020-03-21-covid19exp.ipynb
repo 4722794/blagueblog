{
 "cells": [
  {
   "cell_type": "markdown",
   "id": "muslim-click",
   "metadata": {
    "papermill": {
     "duration": 0.040535,
     "end_time": "2021-07-08T00:19:29.209400",
     "exception": false,
     "start_time": "2021-07-08T00:19:29.168865",
     "status": "completed"
    },
    "tags": []
   },
   "source": [
    "# COVID-19 Case Race\n",
    "> A race chart to see rising cases around the world\n",
    "\n",
    "- author: Hargun Oberoi\n",
    "- image: images/covid-overview.png\n",
    "- hide: false\n",
    "- badges: false"
   ]
  },
  {
   "cell_type": "code",
   "execution_count": 1,
   "id": "proof-material",
   "metadata": {
    "execution": {
     "iopub.execute_input": "2021-07-08T00:19:29.281753Z",
     "iopub.status.busy": "2021-07-08T00:19:29.281002Z",
     "iopub.status.idle": "2021-07-08T00:19:29.624589Z",
     "shell.execute_reply": "2021-07-08T00:19:29.623268Z"
    },
    "papermill": {
     "duration": 0.384308,
     "end_time": "2021-07-08T00:19:29.624865",
     "exception": false,
     "start_time": "2021-07-08T00:19:29.240557",
     "status": "completed"
    },
    "tags": []
   },
   "outputs": [],
   "source": [
    "#hide\n",
    "import numpy as np\n",
    "import pandas as pd\n",
    "from jinja2 import Template\n",
    "from IPython.display import HTML"
   ]
  },
  {
   "cell_type": "code",
   "execution_count": 2,
   "id": "developed-terminology",
   "metadata": {
    "execution": {
     "iopub.execute_input": "2021-07-08T00:19:29.705970Z",
     "iopub.status.busy": "2021-07-08T00:19:29.705424Z",
     "iopub.status.idle": "2021-07-08T00:19:29.707587Z",
     "shell.execute_reply": "2021-07-08T00:19:29.708369Z"
    },
    "papermill": {
     "duration": 0.040758,
     "end_time": "2021-07-08T00:19:29.708516",
     "exception": false,
     "start_time": "2021-07-08T00:19:29.667758",
     "status": "completed"
    },
    "tags": []
   },
   "outputs": [],
   "source": [
    "#hide\n",
    "\n",
    "# FETCH\n",
    "base_url = 'https://raw.githubusercontent.com/pratapvardhan/notebooks/master/covid19/'\n",
    "paths = {\n",
    "    'mapping': base_url + 'mapping_countries.csv',\n",
    "    'overview': base_url + 'overview.tpl'\n",
    "}"
   ]
  },
  {
   "cell_type": "code",
   "execution_count": 3,
   "id": "dynamic-saver",
   "metadata": {
    "execution": {
     "iopub.execute_input": "2021-07-08T00:19:29.787413Z",
     "iopub.status.busy": "2021-07-08T00:19:29.786830Z",
     "iopub.status.idle": "2021-07-08T00:19:29.789507Z",
     "shell.execute_reply": "2021-07-08T00:19:29.789939Z"
    },
    "papermill": {
     "duration": 0.050078,
     "end_time": "2021-07-08T00:19:29.790131",
     "exception": false,
     "start_time": "2021-07-08T00:19:29.740053",
     "status": "completed"
    },
    "tags": []
   },
   "outputs": [
    {
     "data": {
      "text/plain": [
       "'https://raw.githubusercontent.com/pratapvardhan/notebooks/master/covid19/mapping_countries.csv'"
      ]
     },
     "execution_count": 3,
     "metadata": {},
     "output_type": "execute_result"
    }
   ],
   "source": [
    "#hide\n",
    "paths['mapping']"
   ]
  },
  {
   "cell_type": "code",
   "execution_count": 4,
   "id": "urban-software",
   "metadata": {
    "execution": {
     "iopub.execute_input": "2021-07-08T00:19:29.866561Z",
     "iopub.status.busy": "2021-07-08T00:19:29.865957Z",
     "iopub.status.idle": "2021-07-08T00:19:29.867347Z",
     "shell.execute_reply": "2021-07-08T00:19:29.867865Z"
    },
    "papermill": {
     "duration": 0.042805,
     "end_time": "2021-07-08T00:19:29.867990",
     "exception": false,
     "start_time": "2021-07-08T00:19:29.825185",
     "status": "completed"
    },
    "tags": []
   },
   "outputs": [],
   "source": [
    "#hide\n",
    "def get_mappings(url):\n",
    "    df = pd.read_csv(url)\n",
    "    return {\n",
    "        'df': df,\n",
    "        'replace.country': dict(df.dropna(subset=['Name']).set_index('Country')['Name']),\n",
    "        'map.continent': dict(df.set_index('Name')['Continent'])\n",
    "    }"
   ]
  },
  {
   "cell_type": "code",
   "execution_count": 5,
   "id": "intimate-machinery",
   "metadata": {
    "execution": {
     "iopub.execute_input": "2021-07-08T00:19:29.939231Z",
     "iopub.status.busy": "2021-07-08T00:19:29.938676Z",
     "iopub.status.idle": "2021-07-08T00:19:29.972578Z",
     "shell.execute_reply": "2021-07-08T00:19:29.971739Z"
    },
    "papermill": {
     "duration": 0.071546,
     "end_time": "2021-07-08T00:19:29.972822",
     "exception": false,
     "start_time": "2021-07-08T00:19:29.901276",
     "status": "completed"
    },
    "tags": []
   },
   "outputs": [],
   "source": [
    "#hide\n",
    "mapping = get_mappings(paths['mapping'])"
   ]
  },
  {
   "cell_type": "code",
   "execution_count": 6,
   "id": "certified-tactics",
   "metadata": {
    "execution": {
     "iopub.execute_input": "2021-07-08T00:19:30.049269Z",
     "iopub.status.busy": "2021-07-08T00:19:30.048237Z",
     "iopub.status.idle": "2021-07-08T00:19:30.050283Z",
     "shell.execute_reply": "2021-07-08T00:19:30.051023Z"
    },
    "papermill": {
     "duration": 0.043056,
     "end_time": "2021-07-08T00:19:30.051247",
     "exception": false,
     "start_time": "2021-07-08T00:19:30.008191",
     "status": "completed"
    },
    "tags": []
   },
   "outputs": [],
   "source": [
    "#hide\n",
    "def get_template(path):\n",
    "    from urllib.parse import urlparse\n",
    "    if bool(urlparse(path).netloc):\n",
    "        from urllib.request import urlopen\n",
    "        return urlopen(path).read().decode('utf8')\n",
    "    return open(path).read()"
   ]
  },
  {
   "cell_type": "code",
   "execution_count": 7,
   "id": "realistic-blast",
   "metadata": {
    "execution": {
     "iopub.execute_input": "2021-07-08T00:19:30.122066Z",
     "iopub.status.busy": "2021-07-08T00:19:30.121445Z",
     "iopub.status.idle": "2021-07-08T00:19:30.124110Z",
     "shell.execute_reply": "2021-07-08T00:19:30.123626Z"
    },
    "papermill": {
     "duration": 0.038785,
     "end_time": "2021-07-08T00:19:30.124224",
     "exception": false,
     "start_time": "2021-07-08T00:19:30.085439",
     "status": "completed"
    },
    "tags": []
   },
   "outputs": [],
   "source": [
    "#hide\n",
    "def get_frame(name):\n",
    "    url = (\n",
    "        'https://raw.githubusercontent.com/CSSEGISandData/COVID-19/master/csse_covid_19_data/'\n",
    "        f'csse_covid_19_time_series/time_series_covid19_{name}_global.csv')\n",
    "    df = pd.read_csv(url)\n",
    "    # rename countries\n",
    "    df['Country/Region'] = df['Country/Region'].replace(mapping['replace.country'])\n",
    "    return df"
   ]
  },
  {
   "cell_type": "code",
   "execution_count": 8,
   "id": "affiliated-characterization",
   "metadata": {
    "execution": {
     "iopub.execute_input": "2021-07-08T00:19:30.197830Z",
     "iopub.status.busy": "2021-07-08T00:19:30.197252Z",
     "iopub.status.idle": "2021-07-08T00:19:30.199794Z",
     "shell.execute_reply": "2021-07-08T00:19:30.199321Z"
    },
    "papermill": {
     "duration": 0.042065,
     "end_time": "2021-07-08T00:19:30.199902",
     "exception": false,
     "start_time": "2021-07-08T00:19:30.157837",
     "status": "completed"
    },
    "tags": []
   },
   "outputs": [],
   "source": [
    "#hide\n",
    "def get_dates(df):\n",
    "    dt_cols = df.columns[~df.columns.isin(['Province/State', 'Country/Region', 'Lat', 'Long'])]\n",
    "    LAST_DATE_I = -1\n",
    "    # sometimes last column may be empty, then go backwards\n",
    "    for i in range(-1, -len(dt_cols), -1):\n",
    "        if not df[dt_cols[i]].fillna(0).eq(0).all():\n",
    "            LAST_DATE_I = i\n",
    "            break\n",
    "    return LAST_DATE_I, dt_cols"
   ]
  },
  {
   "cell_type": "code",
   "execution_count": 9,
   "id": "recent-optimization",
   "metadata": {
    "execution": {
     "iopub.execute_input": "2021-07-08T00:19:30.269927Z",
     "iopub.status.busy": "2021-07-08T00:19:30.269315Z",
     "iopub.status.idle": "2021-07-08T00:19:30.559743Z",
     "shell.execute_reply": "2021-07-08T00:19:30.560209Z"
    },
    "papermill": {
     "duration": 0.32926,
     "end_time": "2021-07-08T00:19:30.560355",
     "exception": false,
     "start_time": "2021-07-08T00:19:30.231095",
     "status": "completed"
    },
    "tags": []
   },
   "outputs": [],
   "source": [
    "#hide\n",
    "COL_REGION = 'Country/Region'\n",
    "# Confirmed, Recovered, Deaths\n",
    "df = get_frame('confirmed')\n",
    "# dft_: timeseries, dfc_: today country agg\n",
    "dft_cases = df\n",
    "dft_deaths = get_frame('deaths')\n",
    "dft_recovered = get_frame('recovered')\n",
    "LAST_DATE_I, dt_cols = get_dates(df)"
   ]
  },
  {
   "cell_type": "code",
   "execution_count": 10,
   "id": "absolute-copper",
   "metadata": {
    "execution": {
     "iopub.execute_input": "2021-07-08T00:19:30.635448Z",
     "iopub.status.busy": "2021-07-08T00:19:30.634867Z",
     "iopub.status.idle": "2021-07-08T00:19:30.637265Z",
     "shell.execute_reply": "2021-07-08T00:19:30.636818Z"
    },
    "papermill": {
     "duration": 0.042541,
     "end_time": "2021-07-08T00:19:30.637407",
     "exception": false,
     "start_time": "2021-07-08T00:19:30.594866",
     "status": "completed"
    },
    "tags": []
   },
   "outputs": [],
   "source": [
    "#hide\n",
    "LAST_DATE_I, dt_cols = get_dates(df)\n",
    "dt_today =dt_cols[LAST_DATE_I]\n",
    "# dt_5day = dt_cols[LAST_DATE_I - 5]\n",
    "dt_yday = dt_cols[LAST_DATE_I - 1]"
   ]
  },
  {
   "cell_type": "code",
   "execution_count": 11,
   "id": "restricted-sheriff",
   "metadata": {
    "execution": {
     "iopub.execute_input": "2021-07-08T00:19:30.719671Z",
     "iopub.status.busy": "2021-07-08T00:19:30.719094Z",
     "iopub.status.idle": "2021-07-08T00:19:30.726574Z",
     "shell.execute_reply": "2021-07-08T00:19:30.726102Z"
    },
    "papermill": {
     "duration": 0.055705,
     "end_time": "2021-07-08T00:19:30.726695",
     "exception": false,
     "start_time": "2021-07-08T00:19:30.670990",
     "status": "completed"
    },
    "tags": []
   },
   "outputs": [],
   "source": [
    "#hide\n",
    "dfc_cases = dft_cases.groupby(COL_REGION)[dt_today].sum()\n",
    "dfc_deaths = dft_deaths.groupby(COL_REGION)[dt_today].sum()\n",
    "# dfp_cases = dft_cases.groupby(COL_REGION)[dt_5day].sum()\n",
    "# dfp_deaths = dft_deaths.groupby(COL_REGION)[dt_5day].sum()\n",
    "dfp_cases = dft_cases.groupby(COL_REGION)[dt_yday].sum()\n",
    "dfp_deaths = dft_deaths.groupby(COL_REGION)[dt_yday].sum()"
   ]
  },
  {
   "cell_type": "code",
   "execution_count": 12,
   "id": "deluxe-hepatitis",
   "metadata": {
    "execution": {
     "iopub.execute_input": "2021-07-08T00:19:30.806943Z",
     "iopub.status.busy": "2021-07-08T00:19:30.806346Z",
     "iopub.status.idle": "2021-07-08T00:19:30.810800Z",
     "shell.execute_reply": "2021-07-08T00:19:30.811235Z"
    },
    "papermill": {
     "duration": 0.048432,
     "end_time": "2021-07-08T00:19:30.811373",
     "exception": false,
     "start_time": "2021-07-08T00:19:30.762941",
     "status": "completed"
    },
    "tags": []
   },
   "outputs": [],
   "source": [
    "#hide\n",
    "df_table = (pd.DataFrame(dict(Cases = dfc_cases, Deaths = dfc_deaths, PCases = dfp_cases, PDeaths = dfp_deaths))\n",
    "            .sort_values(by = ['Cases','Deaths'], ascending = [False, False])\n",
    "            .reset_index())"
   ]
  },
  {
   "cell_type": "code",
   "execution_count": 13,
   "id": "educational-chancellor",
   "metadata": {
    "execution": {
     "iopub.execute_input": "2021-07-08T00:19:30.899665Z",
     "iopub.status.busy": "2021-07-08T00:19:30.888139Z",
     "iopub.status.idle": "2021-07-08T00:19:30.908575Z",
     "shell.execute_reply": "2021-07-08T00:19:30.907681Z"
    },
    "papermill": {
     "duration": 0.064219,
     "end_time": "2021-07-08T00:19:30.908700",
     "exception": false,
     "start_time": "2021-07-08T00:19:30.844481",
     "status": "completed"
    },
    "tags": []
   },
   "outputs": [
    {
     "data": {
      "text/html": [
       "<div>\n",
       "<style scoped>\n",
       "    .dataframe tbody tr th:only-of-type {\n",
       "        vertical-align: middle;\n",
       "    }\n",
       "\n",
       "    .dataframe tbody tr th {\n",
       "        vertical-align: top;\n",
       "    }\n",
       "\n",
       "    .dataframe thead th {\n",
       "        text-align: right;\n",
       "    }\n",
       "</style>\n",
       "<table border=\"1\" class=\"dataframe\">\n",
       "  <thead>\n",
       "    <tr style=\"text-align: right;\">\n",
       "      <th></th>\n",
       "      <th>Country/Region</th>\n",
       "      <th>Cases</th>\n",
       "      <th>Deaths</th>\n",
       "      <th>PCases</th>\n",
       "      <th>PDeaths</th>\n",
       "      <th>Cases (+)</th>\n",
       "      <th>Deaths (+)</th>\n",
       "      <th>Fatality Rate</th>\n",
       "      <th>Continent</th>\n",
       "    </tr>\n",
       "  </thead>\n",
       "  <tbody>\n",
       "    <tr>\n",
       "      <th>0</th>\n",
       "      <td>US</td>\n",
       "      <td>33747513</td>\n",
       "      <td>605906</td>\n",
       "      <td>33723289</td>\n",
       "      <td>605572</td>\n",
       "      <td>24224</td>\n",
       "      <td>334</td>\n",
       "      <td>1.80</td>\n",
       "      <td>North America</td>\n",
       "    </tr>\n",
       "    <tr>\n",
       "      <th>1</th>\n",
       "      <td>India</td>\n",
       "      <td>30663665</td>\n",
       "      <td>404211</td>\n",
       "      <td>30619932</td>\n",
       "      <td>403281</td>\n",
       "      <td>43733</td>\n",
       "      <td>930</td>\n",
       "      <td>1.32</td>\n",
       "      <td>Asia</td>\n",
       "    </tr>\n",
       "    <tr>\n",
       "      <th>2</th>\n",
       "      <td>Brazil</td>\n",
       "      <td>18855015</td>\n",
       "      <td>526892</td>\n",
       "      <td>18792511</td>\n",
       "      <td>525112</td>\n",
       "      <td>62504</td>\n",
       "      <td>1780</td>\n",
       "      <td>2.79</td>\n",
       "      <td>South America</td>\n",
       "    </tr>\n",
       "    <tr>\n",
       "      <th>3</th>\n",
       "      <td>France</td>\n",
       "      <td>5852599</td>\n",
       "      <td>111420</td>\n",
       "      <td>5849011</td>\n",
       "      <td>111385</td>\n",
       "      <td>3588</td>\n",
       "      <td>35</td>\n",
       "      <td>1.90</td>\n",
       "      <td>Europe</td>\n",
       "    </tr>\n",
       "    <tr>\n",
       "      <th>4</th>\n",
       "      <td>Russia</td>\n",
       "      <td>5591030</td>\n",
       "      <td>137005</td>\n",
       "      <td>5568104</td>\n",
       "      <td>136279</td>\n",
       "      <td>22926</td>\n",
       "      <td>726</td>\n",
       "      <td>2.45</td>\n",
       "      <td>Europe</td>\n",
       "    </tr>\n",
       "  </tbody>\n",
       "</table>\n",
       "</div>"
      ],
      "text/plain": [
       "  Country/Region     Cases  Deaths    PCases  PDeaths  Cases (+)  Deaths (+)  \\\n",
       "0             US  33747513  605906  33723289   605572      24224         334   \n",
       "1          India  30663665  404211  30619932   403281      43733         930   \n",
       "2         Brazil  18855015  526892  18792511   525112      62504        1780   \n",
       "3         France   5852599  111420   5849011   111385       3588          35   \n",
       "4         Russia   5591030  137005   5568104   136279      22926         726   \n",
       "\n",
       "   Fatality Rate      Continent  \n",
       "0           1.80  North America  \n",
       "1           1.32           Asia  \n",
       "2           2.79  South America  \n",
       "3           1.90         Europe  \n",
       "4           2.45         Europe  "
      ]
     },
     "execution_count": 13,
     "metadata": {},
     "output_type": "execute_result"
    }
   ],
   "source": [
    "#hide\n",
    "for c in 'Cases, Deaths'.split(', '):\n",
    "    df_table[f'{c} (+)'] = (df_table[c] - df_table[f'P{c}']).clip(0)\n",
    "    #Clip ça veut dire, les chiffres negatif sont interdit\n",
    "df_table['Fatality Rate'] = (100* df_table['Deaths']/ df_table['Cases']).round(2)\n",
    "df_table['Continent'] = df_table['Country/Region'].map(mapping['map.continent'])\n",
    "df_table.head(5)"
   ]
  },
  {
   "cell_type": "code",
   "execution_count": 14,
   "id": "aboriginal-bulgaria",
   "metadata": {
    "execution": {
     "iopub.execute_input": "2021-07-08T00:19:30.984249Z",
     "iopub.status.busy": "2021-07-08T00:19:30.983659Z",
     "iopub.status.idle": "2021-07-08T00:19:30.986066Z",
     "shell.execute_reply": "2021-07-08T00:19:30.985610Z"
    },
    "papermill": {
     "duration": 0.043007,
     "end_time": "2021-07-08T00:19:30.986173",
     "exception": false,
     "start_time": "2021-07-08T00:19:30.943166",
     "status": "completed"
    },
    "tags": []
   },
   "outputs": [],
   "source": [
    "#hide\n",
    "#delete problematic countries from table\n",
    "df_table = df_table[~df_table['Country/Region'].isin(['Cape Verde', 'Cruise Ship', 'Kosovo'])]"
   ]
  },
  {
   "cell_type": "code",
   "execution_count": 15,
   "id": "fantastic-effect",
   "metadata": {
    "execution": {
     "iopub.execute_input": "2021-07-08T00:19:31.065271Z",
     "iopub.status.busy": "2021-07-08T00:19:31.064663Z",
     "iopub.status.idle": "2021-07-08T00:19:31.083777Z",
     "shell.execute_reply": "2021-07-08T00:19:31.083322Z"
    },
    "papermill": {
     "duration": 0.063279,
     "end_time": "2021-07-08T00:19:31.083886",
     "exception": false,
     "start_time": "2021-07-08T00:19:31.020607",
     "status": "completed"
    },
    "tags": []
   },
   "outputs": [
    {
     "data": {
      "text/html": [
       "<div>\n",
       "<style scoped>\n",
       "    .dataframe tbody tr th:only-of-type {\n",
       "        vertical-align: middle;\n",
       "    }\n",
       "\n",
       "    .dataframe tbody tr th {\n",
       "        vertical-align: top;\n",
       "    }\n",
       "\n",
       "    .dataframe thead th {\n",
       "        text-align: right;\n",
       "    }\n",
       "</style>\n",
       "<table border=\"1\" class=\"dataframe\">\n",
       "  <thead>\n",
       "    <tr style=\"text-align: right;\">\n",
       "      <th></th>\n",
       "      <th>Country/Region</th>\n",
       "      <th>Cases</th>\n",
       "      <th>Deaths</th>\n",
       "      <th>PCases</th>\n",
       "      <th>PDeaths</th>\n",
       "      <th>Cases (+)</th>\n",
       "      <th>Deaths (+)</th>\n",
       "      <th>Fatality Rate</th>\n",
       "      <th>Continent</th>\n",
       "    </tr>\n",
       "  </thead>\n",
       "  <tbody>\n",
       "    <tr>\n",
       "      <th>0</th>\n",
       "      <td>US</td>\n",
       "      <td>33747513</td>\n",
       "      <td>605906</td>\n",
       "      <td>33723289</td>\n",
       "      <td>605572</td>\n",
       "      <td>24224</td>\n",
       "      <td>334</td>\n",
       "      <td>1.8</td>\n",
       "      <td>North America</td>\n",
       "    </tr>\n",
       "    <tr>\n",
       "      <th>1</th>\n",
       "      <td>India</td>\n",
       "      <td>30663665</td>\n",
       "      <td>404211</td>\n",
       "      <td>30619932</td>\n",
       "      <td>403281</td>\n",
       "      <td>43733</td>\n",
       "      <td>930</td>\n",
       "      <td>1.3</td>\n",
       "      <td>Asia</td>\n",
       "    </tr>\n",
       "    <tr>\n",
       "      <th>2</th>\n",
       "      <td>Brazil</td>\n",
       "      <td>18855015</td>\n",
       "      <td>526892</td>\n",
       "      <td>18792511</td>\n",
       "      <td>525112</td>\n",
       "      <td>62504</td>\n",
       "      <td>1780</td>\n",
       "      <td>2.8</td>\n",
       "      <td>South America</td>\n",
       "    </tr>\n",
       "    <tr>\n",
       "      <th>3</th>\n",
       "      <td>France</td>\n",
       "      <td>5852599</td>\n",
       "      <td>111420</td>\n",
       "      <td>5849011</td>\n",
       "      <td>111385</td>\n",
       "      <td>3588</td>\n",
       "      <td>35</td>\n",
       "      <td>1.9</td>\n",
       "      <td>Europe</td>\n",
       "    </tr>\n",
       "    <tr>\n",
       "      <th>4</th>\n",
       "      <td>Russia</td>\n",
       "      <td>5591030</td>\n",
       "      <td>137005</td>\n",
       "      <td>5568104</td>\n",
       "      <td>136279</td>\n",
       "      <td>22926</td>\n",
       "      <td>726</td>\n",
       "      <td>2.5</td>\n",
       "      <td>Europe</td>\n",
       "    </tr>\n",
       "  </tbody>\n",
       "</table>\n",
       "</div>"
      ],
      "text/plain": [
       "  Country/Region     Cases  Deaths    PCases  PDeaths  Cases (+)  Deaths (+)  \\\n",
       "0             US  33747513  605906  33723289   605572      24224         334   \n",
       "1          India  30663665  404211  30619932   403281      43733         930   \n",
       "2         Brazil  18855015  526892  18792511   525112      62504        1780   \n",
       "3         France   5852599  111420   5849011   111385       3588          35   \n",
       "4         Russia   5591030  137005   5568104   136279      22926         726   \n",
       "\n",
       "   Fatality Rate      Continent  \n",
       "0            1.8  North America  \n",
       "1            1.3           Asia  \n",
       "2            2.8  South America  \n",
       "3            1.9         Europe  \n",
       "4            2.5         Europe  "
      ]
     },
     "execution_count": 15,
     "metadata": {},
     "output_type": "execute_result"
    }
   ],
   "source": [
    "#hide\n",
    "df_table = (pd.DataFrame(dict(Cases=dfc_cases, Deaths=dfc_deaths, PCases=dfp_cases, PDeaths=dfp_deaths))\n",
    "             .sort_values(by=['Cases', 'Deaths'], ascending=[False, False])\n",
    "             .reset_index())\n",
    "df_table.rename(columns={'index': 'Country/Region'}, inplace=True)\n",
    "for c in 'Cases, Deaths'.split(', '):\n",
    "    df_table[f'{c} (+)'] = (df_table[c] - df_table[f'P{c}']).clip(0)  # DATA BUG\n",
    "df_table['Fatality Rate'] = (100 * df_table['Deaths'] / df_table['Cases']).round(1)\n",
    "df_table['Continent'] = df_table['Country/Region'].map(mapping['map.continent'])\n",
    "df_table.head(5)"
   ]
  },
  {
   "cell_type": "code",
   "execution_count": 16,
   "id": "fewer-occasion",
   "metadata": {
    "execution": {
     "iopub.execute_input": "2021-07-08T00:19:31.155900Z",
     "iopub.status.busy": "2021-07-08T00:19:31.155348Z",
     "iopub.status.idle": "2021-07-08T00:19:31.157110Z",
     "shell.execute_reply": "2021-07-08T00:19:31.157515Z"
    },
    "papermill": {
     "duration": 0.041128,
     "end_time": "2021-07-08T00:19:31.157643",
     "exception": false,
     "start_time": "2021-07-08T00:19:31.116515",
     "status": "completed"
    },
    "tags": []
   },
   "outputs": [],
   "source": [
    "#hide\n",
    "#delete problematic countries from table\n",
    "df_table = df_table[~df_table['Country/Region'].isin(['Cape Verde', 'Cruise Ship', 'Kosovo'])]"
   ]
  },
  {
   "cell_type": "code",
   "execution_count": 17,
   "id": "related-center",
   "metadata": {
    "execution": {
     "iopub.execute_input": "2021-07-08T00:19:31.244161Z",
     "iopub.status.busy": "2021-07-08T00:19:31.243615Z",
     "iopub.status.idle": "2021-07-08T00:19:31.246239Z",
     "shell.execute_reply": "2021-07-08T00:19:31.245815Z"
    },
    "papermill": {
     "duration": 0.055863,
     "end_time": "2021-07-08T00:19:31.246350",
     "exception": false,
     "start_time": "2021-07-08T00:19:31.190487",
     "status": "completed"
    },
    "tags": []
   },
   "outputs": [],
   "source": [
    "#hide\n",
    "metrics = [df_table.columns[index] for index in [1,2,5,6]]\n",
    "# s_china = df_table[df_table['Country/Region'].eq('China')][metrics].sum().add_prefix('China ')\n",
    "s_us = df_table[df_table['Country/Region'].eq('US')][metrics].sum().add_prefix('US ')\n",
    "s_eu = df_table[df_table['Continent'].eq('Europe')][metrics].sum().add_prefix('EU ')\n",
    "s_ind = df_table[df_table['Country/Region'].eq('India')][metrics].sum().add_prefix('India ')\n",
    "summary = {'updated': pd.to_datetime(dt_today), 'since': pd.to_datetime(dt_yday)}\n",
    "summary = {'updated': pd.to_datetime(dt_today), 'since': pd.to_datetime(dt_yday)}\n",
    "summary = {**summary, **df_table[metrics].sum(), **s_ind, **s_us, **s_eu}"
   ]
  },
  {
   "cell_type": "code",
   "execution_count": 18,
   "id": "engaging-syndrome",
   "metadata": {
    "execution": {
     "iopub.execute_input": "2021-07-08T00:19:31.319696Z",
     "iopub.status.busy": "2021-07-08T00:19:31.319159Z",
     "iopub.status.idle": "2021-07-08T00:19:31.332870Z",
     "shell.execute_reply": "2021-07-08T00:19:31.333370Z"
    },
    "papermill": {
     "duration": 0.05346,
     "end_time": "2021-07-08T00:19:31.333508",
     "exception": false,
     "start_time": "2021-07-08T00:19:31.280048",
     "status": "completed"
    },
    "tags": []
   },
   "outputs": [],
   "source": [
    "#hide\n",
    "dft_ct_new_cases = dft_cases.groupby(COL_REGION)[dt_cols].sum().diff(axis=1).fillna(0).astype(int)"
   ]
  },
  {
   "cell_type": "code",
   "execution_count": 19,
   "id": "neutral-assignment",
   "metadata": {
    "execution": {
     "iopub.execute_input": "2021-07-08T00:19:31.409447Z",
     "iopub.status.busy": "2021-07-08T00:19:31.408902Z",
     "iopub.status.idle": "2021-07-08T00:19:31.410933Z",
     "shell.execute_reply": "2021-07-08T00:19:31.410396Z"
    },
    "papermill": {
     "duration": 0.043188,
     "end_time": "2021-07-08T00:19:31.411042",
     "exception": false,
     "start_time": "2021-07-08T00:19:31.367854",
     "status": "completed"
    },
    "tags": []
   },
   "outputs": [],
   "source": [
    "#hide\n",
    "everydaycases = dft_ct_new_cases.cumsum(axis=1)"
   ]
  },
  {
   "cell_type": "code",
   "execution_count": 20,
   "id": "parliamentary-calgary",
   "metadata": {
    "execution": {
     "iopub.execute_input": "2021-07-08T00:19:31.482232Z",
     "iopub.status.busy": "2021-07-08T00:19:31.480808Z",
     "iopub.status.idle": "2021-07-08T00:19:32.168914Z",
     "shell.execute_reply": "2021-07-08T00:19:32.168198Z"
    },
    "papermill": {
     "duration": 0.726242,
     "end_time": "2021-07-08T00:19:32.169090",
     "exception": false,
     "start_time": "2021-07-08T00:19:31.442848",
     "status": "completed"
    },
    "tags": []
   },
   "outputs": [],
   "source": [
    "#hide\n",
    "import pandas as pd\n",
    "import matplotlib.pyplot as plt\n",
    "import matplotlib.ticker as ticker\n",
    "import matplotlib.animation as animation\n",
    "from IPython.display import HTML"
   ]
  },
  {
   "cell_type": "code",
   "execution_count": 21,
   "id": "lasting-extraction",
   "metadata": {
    "execution": {
     "iopub.execute_input": "2021-07-08T00:19:32.246946Z",
     "iopub.status.busy": "2021-07-08T00:19:32.246365Z",
     "iopub.status.idle": "2021-07-08T00:19:32.251939Z",
     "shell.execute_reply": "2021-07-08T00:19:32.251481Z"
    },
    "papermill": {
     "duration": 0.045361,
     "end_time": "2021-07-08T00:19:32.252052",
     "exception": false,
     "start_time": "2021-07-08T00:19:32.206691",
     "status": "completed"
    },
    "tags": []
   },
   "outputs": [],
   "source": [
    "#hide\n",
    "t = everydaycases.stack()"
   ]
  },
  {
   "cell_type": "code",
   "execution_count": 22,
   "id": "premier-sleeve",
   "metadata": {
    "execution": {
     "iopub.execute_input": "2021-07-08T00:19:32.329458Z",
     "iopub.status.busy": "2021-07-08T00:19:32.328857Z",
     "iopub.status.idle": "2021-07-08T00:19:32.337015Z",
     "shell.execute_reply": "2021-07-08T00:19:32.337560Z"
    },
    "papermill": {
     "duration": 0.049482,
     "end_time": "2021-07-08T00:19:32.337696",
     "exception": false,
     "start_time": "2021-07-08T00:19:32.288214",
     "status": "completed"
    },
    "tags": []
   },
   "outputs": [],
   "source": [
    "#hide\n",
    "g = t.reset_index(['Country/Region'])"
   ]
  },
  {
   "cell_type": "code",
   "execution_count": 23,
   "id": "distributed-pittsburgh",
   "metadata": {
    "execution": {
     "iopub.execute_input": "2021-07-08T00:19:32.409276Z",
     "iopub.status.busy": "2021-07-08T00:19:32.408860Z",
     "iopub.status.idle": "2021-07-08T00:19:32.410576Z",
     "shell.execute_reply": "2021-07-08T00:19:32.410957Z"
    },
    "papermill": {
     "duration": 0.039321,
     "end_time": "2021-07-08T00:19:32.411056",
     "exception": false,
     "start_time": "2021-07-08T00:19:32.371735",
     "status": "completed"
    },
    "tags": []
   },
   "outputs": [],
   "source": [
    "#hide\n",
    "g.index.name = 'date'"
   ]
  },
  {
   "cell_type": "code",
   "execution_count": 24,
   "id": "naked-donor",
   "metadata": {
    "execution": {
     "iopub.execute_input": "2021-07-08T00:19:32.484303Z",
     "iopub.status.busy": "2021-07-08T00:19:32.483770Z",
     "iopub.status.idle": "2021-07-08T00:19:32.486337Z",
     "shell.execute_reply": "2021-07-08T00:19:32.486950Z"
    },
    "papermill": {
     "duration": 0.038817,
     "end_time": "2021-07-08T00:19:32.487091",
     "exception": false,
     "start_time": "2021-07-08T00:19:32.448274",
     "status": "completed"
    },
    "tags": []
   },
   "outputs": [],
   "source": [
    "# #hide\n",
    "# g = g.reset_index(['date'])"
   ]
  },
  {
   "cell_type": "code",
   "execution_count": 25,
   "id": "incomplete-mustang",
   "metadata": {
    "execution": {
     "iopub.execute_input": "2021-07-08T00:19:32.559913Z",
     "iopub.status.busy": "2021-07-08T00:19:32.559359Z",
     "iopub.status.idle": "2021-07-08T00:19:32.561589Z",
     "shell.execute_reply": "2021-07-08T00:19:32.562082Z"
    },
    "papermill": {
     "duration": 0.040351,
     "end_time": "2021-07-08T00:19:32.562204",
     "exception": false,
     "start_time": "2021-07-08T00:19:32.521853",
     "status": "completed"
    },
    "tags": []
   },
   "outputs": [],
   "source": [
    "#hide\n",
    "# g.head()"
   ]
  },
  {
   "cell_type": "code",
   "execution_count": 26,
   "id": "specific-kruger",
   "metadata": {
    "execution": {
     "iopub.execute_input": "2021-07-08T00:19:32.630066Z",
     "iopub.status.busy": "2021-07-08T00:19:32.629415Z",
     "iopub.status.idle": "2021-07-08T00:19:32.631703Z",
     "shell.execute_reply": "2021-07-08T00:19:32.632223Z"
    },
    "papermill": {
     "duration": 0.037571,
     "end_time": "2021-07-08T00:19:32.632343",
     "exception": false,
     "start_time": "2021-07-08T00:19:32.594772",
     "status": "completed"
    },
    "tags": []
   },
   "outputs": [],
   "source": [
    "#hide\n",
    "# g.columns = ['date','country','cases']"
   ]
  },
  {
   "cell_type": "code",
   "execution_count": 27,
   "id": "tender-conversion",
   "metadata": {
    "execution": {
     "iopub.execute_input": "2021-07-08T00:19:32.702857Z",
     "iopub.status.busy": "2021-07-08T00:19:32.702285Z",
     "iopub.status.idle": "2021-07-08T00:19:32.704198Z",
     "shell.execute_reply": "2021-07-08T00:19:32.704776Z"
    },
    "papermill": {
     "duration": 0.041121,
     "end_time": "2021-07-08T00:19:32.704907",
     "exception": false,
     "start_time": "2021-07-08T00:19:32.663786",
     "status": "completed"
    },
    "tags": []
   },
   "outputs": [],
   "source": [
    "#hide\n",
    "# g['continent'] = g.country"
   ]
  },
  {
   "cell_type": "code",
   "execution_count": 28,
   "id": "substantial-wilderness",
   "metadata": {
    "execution": {
     "iopub.execute_input": "2021-07-08T00:19:32.780103Z",
     "iopub.status.busy": "2021-07-08T00:19:32.779567Z",
     "iopub.status.idle": "2021-07-08T00:19:32.781909Z",
     "shell.execute_reply": "2021-07-08T00:19:32.782538Z"
    },
    "papermill": {
     "duration": 0.042986,
     "end_time": "2021-07-08T00:19:32.782678",
     "exception": false,
     "start_time": "2021-07-08T00:19:32.739692",
     "status": "completed"
    },
    "tags": []
   },
   "outputs": [],
   "source": [
    "#hide\n",
    "# cols = list(g.columns.values)"
   ]
  },
  {
   "cell_type": "code",
   "execution_count": 29,
   "id": "solved-farming",
   "metadata": {
    "execution": {
     "iopub.execute_input": "2021-07-08T00:19:32.853249Z",
     "iopub.status.busy": "2021-07-08T00:19:32.852618Z",
     "iopub.status.idle": "2021-07-08T00:19:32.854839Z",
     "shell.execute_reply": "2021-07-08T00:19:32.854355Z"
    },
    "papermill": {
     "duration": 0.038684,
     "end_time": "2021-07-08T00:19:32.854949",
     "exception": false,
     "start_time": "2021-07-08T00:19:32.816265",
     "status": "completed"
    },
    "tags": []
   },
   "outputs": [],
   "source": [
    "#hide\n",
    "# cols.insert(0, cols.pop())"
   ]
  },
  {
   "cell_type": "code",
   "execution_count": 30,
   "id": "executed-adoption",
   "metadata": {
    "execution": {
     "iopub.execute_input": "2021-07-08T00:19:32.932659Z",
     "iopub.status.busy": "2021-07-08T00:19:32.932074Z",
     "iopub.status.idle": "2021-07-08T00:19:32.934472Z",
     "shell.execute_reply": "2021-07-08T00:19:32.935020Z"
    },
    "papermill": {
     "duration": 0.042286,
     "end_time": "2021-07-08T00:19:32.935158",
     "exception": false,
     "start_time": "2021-07-08T00:19:32.892872",
     "status": "completed"
    },
    "tags": []
   },
   "outputs": [],
   "source": [
    "#hide\n",
    "# g = g[cols]"
   ]
  },
  {
   "cell_type": "code",
   "execution_count": 31,
   "id": "subject-dublin",
   "metadata": {
    "execution": {
     "iopub.execute_input": "2021-07-08T00:19:33.015392Z",
     "iopub.status.busy": "2021-07-08T00:19:33.014817Z",
     "iopub.status.idle": "2021-07-08T00:19:33.017415Z",
     "shell.execute_reply": "2021-07-08T00:19:33.016929Z"
    },
    "papermill": {
     "duration": 0.045493,
     "end_time": "2021-07-08T00:19:33.017541",
     "exception": false,
     "start_time": "2021-07-08T00:19:32.972048",
     "status": "completed"
    },
    "tags": []
   },
   "outputs": [],
   "source": [
    "#hide\n",
    "# g['continent'] = g['continent'].map(mapping['map.continent'])"
   ]
  },
  {
   "cell_type": "code",
   "execution_count": 32,
   "id": "freelance-scout",
   "metadata": {
    "execution": {
     "iopub.execute_input": "2021-07-08T00:19:33.090474Z",
     "iopub.status.busy": "2021-07-08T00:19:33.089896Z",
     "iopub.status.idle": "2021-07-08T00:19:33.091942Z",
     "shell.execute_reply": "2021-07-08T00:19:33.091544Z"
    },
    "papermill": {
     "duration": 0.041153,
     "end_time": "2021-07-08T00:19:33.092041",
     "exception": false,
     "start_time": "2021-07-08T00:19:33.050888",
     "status": "completed"
    },
    "tags": []
   },
   "outputs": [],
   "source": [
    "#hide\n",
    "# g.head()"
   ]
  },
  {
   "cell_type": "code",
   "execution_count": 33,
   "id": "limited-engine",
   "metadata": {
    "execution": {
     "iopub.execute_input": "2021-07-08T00:19:33.157624Z",
     "iopub.status.busy": "2021-07-08T00:19:33.157089Z",
     "iopub.status.idle": "2021-07-08T00:19:33.159453Z",
     "shell.execute_reply": "2021-07-08T00:19:33.160099Z"
    },
    "papermill": {
     "duration": 0.037839,
     "end_time": "2021-07-08T00:19:33.160233",
     "exception": false,
     "start_time": "2021-07-08T00:19:33.122394",
     "status": "completed"
    },
    "tags": []
   },
   "outputs": [],
   "source": [
    "# hide\n",
    "# g['date'] = g['date'].astype('datetime64[ns]')"
   ]
  },
  {
   "cell_type": "code",
   "execution_count": 34,
   "id": "sophisticated-supervisor",
   "metadata": {
    "execution": {
     "iopub.execute_input": "2021-07-08T00:19:33.232973Z",
     "iopub.status.busy": "2021-07-08T00:19:33.232343Z",
     "iopub.status.idle": "2021-07-08T00:19:33.235428Z",
     "shell.execute_reply": "2021-07-08T00:19:33.235949Z"
    },
    "papermill": {
     "duration": 0.042999,
     "end_time": "2021-07-08T00:19:33.236079",
     "exception": false,
     "start_time": "2021-07-08T00:19:33.193080",
     "status": "completed"
    },
    "tags": []
   },
   "outputs": [],
   "source": [
    "#hide\n",
    "# g['date'] = g.date.dt.dayofyear"
   ]
  },
  {
   "cell_type": "code",
   "execution_count": 35,
   "id": "inside-dubai",
   "metadata": {
    "execution": {
     "iopub.execute_input": "2021-07-08T00:19:33.305286Z",
     "iopub.status.busy": "2021-07-08T00:19:33.304807Z",
     "iopub.status.idle": "2021-07-08T00:19:33.307000Z",
     "shell.execute_reply": "2021-07-08T00:19:33.306603Z"
    },
    "papermill": {
     "duration": 0.039767,
     "end_time": "2021-07-08T00:19:33.307095",
     "exception": false,
     "start_time": "2021-07-08T00:19:33.267328",
     "status": "completed"
    },
    "tags": []
   },
   "outputs": [],
   "source": [
    "#hide\n",
    "# g = g.rename(columns= {'continent':'group','country':'name','cases':'value'})"
   ]
  },
  {
   "cell_type": "code",
   "execution_count": 36,
   "id": "fleet-motorcycle",
   "metadata": {
    "execution": {
     "iopub.execute_input": "2021-07-08T00:19:33.378827Z",
     "iopub.status.busy": "2021-07-08T00:19:33.378293Z",
     "iopub.status.idle": "2021-07-08T00:19:33.380427Z",
     "shell.execute_reply": "2021-07-08T00:19:33.380881Z"
    },
    "papermill": {
     "duration": 0.040316,
     "end_time": "2021-07-08T00:19:33.381005",
     "exception": false,
     "start_time": "2021-07-08T00:19:33.340689",
     "status": "completed"
    },
    "tags": []
   },
   "outputs": [],
   "source": [
    "#hide\n",
    "# cols = ['name','group','day','value']"
   ]
  },
  {
   "cell_type": "code",
   "execution_count": 37,
   "id": "continued-sleeping",
   "metadata": {
    "execution": {
     "iopub.execute_input": "2021-07-08T00:19:33.452148Z",
     "iopub.status.busy": "2021-07-08T00:19:33.451614Z",
     "iopub.status.idle": "2021-07-08T00:19:33.453920Z",
     "shell.execute_reply": "2021-07-08T00:19:33.454321Z"
    },
    "papermill": {
     "duration": 0.038432,
     "end_time": "2021-07-08T00:19:33.454431",
     "exception": false,
     "start_time": "2021-07-08T00:19:33.415999",
     "status": "completed"
    },
    "tags": []
   },
   "outputs": [],
   "source": [
    "#hide\n",
    "# g.rename(columns= {'date':'day'},inplace = True)"
   ]
  },
  {
   "cell_type": "code",
   "execution_count": 38,
   "id": "major-fight",
   "metadata": {
    "execution": {
     "iopub.execute_input": "2021-07-08T00:19:33.527203Z",
     "iopub.status.busy": "2021-07-08T00:19:33.526523Z",
     "iopub.status.idle": "2021-07-08T00:19:33.528346Z",
     "shell.execute_reply": "2021-07-08T00:19:33.528766Z"
    },
    "papermill": {
     "duration": 0.040258,
     "end_time": "2021-07-08T00:19:33.528898",
     "exception": false,
     "start_time": "2021-07-08T00:19:33.488640",
     "status": "completed"
    },
    "tags": []
   },
   "outputs": [],
   "source": [
    "#hide\n",
    "# g = g[cols]"
   ]
  },
  {
   "cell_type": "code",
   "execution_count": 39,
   "id": "structured-mobile",
   "metadata": {
    "execution": {
     "iopub.execute_input": "2021-07-08T00:19:33.599989Z",
     "iopub.status.busy": "2021-07-08T00:19:33.599340Z",
     "iopub.status.idle": "2021-07-08T00:19:33.601728Z",
     "shell.execute_reply": "2021-07-08T00:19:33.602182Z"
    },
    "papermill": {
     "duration": 0.038859,
     "end_time": "2021-07-08T00:19:33.602308",
     "exception": false,
     "start_time": "2021-07-08T00:19:33.563449",
     "status": "completed"
    },
    "tags": []
   },
   "outputs": [],
   "source": [
    "# #hide\n",
    "# g = g[g.group.notna()]"
   ]
  },
  {
   "cell_type": "code",
   "execution_count": 40,
   "id": "determined-closing",
   "metadata": {
    "execution": {
     "iopub.execute_input": "2021-07-08T00:19:33.676875Z",
     "iopub.status.busy": "2021-07-08T00:19:33.676272Z",
     "iopub.status.idle": "2021-07-08T00:19:33.678411Z",
     "shell.execute_reply": "2021-07-08T00:19:33.678874Z"
    },
    "papermill": {
     "duration": 0.040309,
     "end_time": "2021-07-08T00:19:33.678993",
     "exception": false,
     "start_time": "2021-07-08T00:19:33.638684",
     "status": "completed"
    },
    "tags": []
   },
   "outputs": [],
   "source": [
    "# #hide\n",
    "# colors = dict(zip(\n",
    "#     [\"Oceania\", \"Europe\", \"Asia\", \"South America\", \"Middle East\", \"North America\", \"Africa\"],\n",
    "#     [\"#adb0ff\", \"#ffb3ff\", \"#90d595\", \"#e48381\", \"#aafbff\", \"#f7bb5f\", \"#eafb50\"]\n",
    "# ))\n",
    "# group_lk = g.set_index('name')['group'].to_dict()"
   ]
  },
  {
   "cell_type": "code",
   "execution_count": null,
   "id": "gross-drinking",
   "metadata": {
    "papermill": {
     "duration": 0.039322,
     "end_time": "2021-07-08T00:19:33.751930",
     "exception": false,
     "start_time": "2021-07-08T00:19:33.712608",
     "status": "completed"
    },
    "tags": []
   },
   "outputs": [],
   "source": []
  },
  {
   "cell_type": "code",
   "execution_count": 41,
   "id": "subject-macintosh",
   "metadata": {
    "execution": {
     "iopub.execute_input": "2021-07-08T00:19:33.824787Z",
     "iopub.status.busy": "2021-07-08T00:19:33.824211Z",
     "iopub.status.idle": "2021-07-08T00:19:33.826267Z",
     "shell.execute_reply": "2021-07-08T00:19:33.826762Z"
    },
    "papermill": {
     "duration": 0.039141,
     "end_time": "2021-07-08T00:19:33.826884",
     "exception": false,
     "start_time": "2021-07-08T00:19:33.787743",
     "status": "completed"
    },
    "tags": []
   },
   "outputs": [],
   "source": [
    "# #hide\n",
    "# fig, ax = plt.subplots(figsize=(15, 8))\n",
    "\n",
    "# def draw_barchart(current_day):\n",
    "#     dff = g[g['day'].eq(current_day)].sort_values(by='value', ascending=True).tail(10)\n",
    "#     ax.clear()\n",
    "#     ax.barh(dff['name'], dff['value'], color=[colors[group_lk[x]] for x in dff['name']])\n",
    "#     dx = dff['value'].max() / 200\n",
    "    \n",
    "#     for i, (value, name) in enumerate(zip(dff['value'], dff['name'])):\n",
    "#         ax.text(value-dx, i,     name,           size=14, weight=600, ha='right', va='bottom')\n",
    "#         ax.text(value-dx, i-.25, group_lk[name], size=10, color='#444444', ha='right', va='baseline')\n",
    "#         ax.text(value+dx, i,     f'{value:,.0f}',  size=14, ha='left',  va='center')\n",
    "#     ax.text(1, 0.4, current_day, transform=ax.transAxes, color='#777777', size=46, ha='right', weight=800)\n",
    "#     ax.text(0, 1.06, 'Population (thousands)', transform=ax.transAxes, size=12, color='#777777')\n",
    "#     ax.xaxis.set_major_formatter(ticker.StrMethodFormatter('{x:,.0f}'))\n",
    "#     ax.xaxis.set_ticks_position('top')\n",
    "#     ax.tick_params(axis='x', colors='#777777', labelsize=12)\n",
    "#     ax.set_yticks([])\n",
    "#     ax.margins(0, 0.01)\n",
    "#     ax.grid(which='major', axis='x', linestyle='-')\n",
    "#     ax.set_axisbelow(True)\n",
    "    \n",
    "#     ax.text(0, 1.15, 'Coronavirus',\n",
    "#             transform=ax.transAxes, size=24, weight=600, ha='left', va='top')\n",
    "# #     ax.text(1, 0, 'by @pratapvardhan; credit @jburnmurdoch', transform=ax.transAxes, color='#777777', ha='right',\n",
    "# #             bbox=dict(facecolor='white', alpha=0.8, edgecolor='white'))\n",
    "#     plt.box(False)"
   ]
  },
  {
   "cell_type": "code",
   "execution_count": 42,
   "id": "sexual-wages",
   "metadata": {
    "execution": {
     "iopub.execute_input": "2021-07-08T00:19:33.897289Z",
     "iopub.status.busy": "2021-07-08T00:19:33.896708Z",
     "iopub.status.idle": "2021-07-08T00:19:33.898862Z",
     "shell.execute_reply": "2021-07-08T00:19:33.898377Z"
    },
    "papermill": {
     "duration": 0.039794,
     "end_time": "2021-07-08T00:19:33.898978",
     "exception": false,
     "start_time": "2021-07-08T00:19:33.859184",
     "status": "completed"
    },
    "tags": []
   },
   "outputs": [],
   "source": [
    "# #hide_input\n",
    "# fig, ax = plt.subplots(figsize=(15, 8))\n",
    "# animator = animation.FuncAnimation(fig, draw_barchart, frames=range(g.day.values.min(), g.day.values.max()))\n",
    "# HTML(animator.to_jshtml())\n",
    "# # or use animator.to_html5_video() or animator.save() "
   ]
  },
  {
   "cell_type": "code",
   "execution_count": null,
   "id": "australian-container",
   "metadata": {
    "papermill": {
     "duration": 0.039961,
     "end_time": "2021-07-08T00:19:33.973605",
     "exception": false,
     "start_time": "2021-07-08T00:19:33.933644",
     "status": "completed"
    },
    "tags": []
   },
   "outputs": [],
   "source": []
  },
  {
   "cell_type": "code",
   "execution_count": null,
   "id": "mediterranean-pontiac",
   "metadata": {
    "papermill": {
     "duration": 0.034913,
     "end_time": "2021-07-08T00:19:34.043082",
     "exception": false,
     "start_time": "2021-07-08T00:19:34.008169",
     "status": "completed"
    },
    "tags": []
   },
   "outputs": [],
   "source": []
  },
  {
   "cell_type": "code",
   "execution_count": null,
   "id": "aging-legislature",
   "metadata": {
    "papermill": {
     "duration": 0.034951,
     "end_time": "2021-07-08T00:19:34.114019",
     "exception": false,
     "start_time": "2021-07-08T00:19:34.079068",
     "status": "completed"
    },
    "tags": []
   },
   "outputs": [],
   "source": []
  }
 ],
 "metadata": {
  "kernelspec": {
   "display_name": "Python 3",
   "language": "python",
   "name": "python3"
  },
  "language_info": {
   "codemirror_mode": {
    "name": "ipython",
    "version": 3
   },
   "file_extension": ".py",
   "mimetype": "text/x-python",
   "name": "python",
   "nbconvert_exporter": "python",
   "pygments_lexer": "ipython3",
   "version": "3.6.13"
  },
  "papermill": {
   "duration": 7.344063,
   "end_time": "2021-07-08T00:19:35.300044",
   "environment_variables": {},
   "exception": null,
   "input_path": "2020-03-21-covid19exp.ipynb",
   "output_path": "2020-03-21-covid19exp.ipynb",
   "parameters": {},
   "start_time": "2021-07-08T00:19:27.955981",
   "version": "2.0.0"
  }
 },
 "nbformat": 4,
 "nbformat_minor": 5
}