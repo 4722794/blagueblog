{
 "cells": [
  {
   "cell_type": "markdown",
   "id": "muslim-click",
   "metadata": {
    "papermill": {
     "duration": 0.173106,
     "end_time": "2021-09-30T12:16:35.396341",
     "exception": false,
     "start_time": "2021-09-30T12:16:35.223235",
     "status": "completed"
    },
    "tags": []
   },
   "source": [
    "# COVID-19 Case Race\n",
    "> A race chart to see rising cases around the world\n",
    "\n",
    "- author: Hargun Oberoi\n",
    "- image: images/covid-overview.png\n",
    "- hide: false\n",
    "- badges: false"
   ]
  },
  {
   "cell_type": "code",
   "execution_count": 1,
   "id": "proof-material",
   "metadata": {
    "execution": {
     "iopub.execute_input": "2021-09-30T12:16:35.741049Z",
     "iopub.status.busy": "2021-09-30T12:16:35.740281Z",
     "iopub.status.idle": "2021-09-30T12:16:36.155987Z",
     "shell.execute_reply": "2021-09-30T12:16:36.155319Z"
    },
    "papermill": {
     "duration": 0.594159,
     "end_time": "2021-09-30T12:16:36.156222",
     "exception": false,
     "start_time": "2021-09-30T12:16:35.562063",
     "status": "completed"
    },
    "tags": []
   },
   "outputs": [],
   "source": [
    "#hide\n",
    "import numpy as np\n",
    "import pandas as pd\n",
    "from jinja2 import Template\n",
    "from IPython.display import HTML"
   ]
  },
  {
   "cell_type": "code",
   "execution_count": 2,
   "id": "developed-terminology",
   "metadata": {
    "execution": {
     "iopub.execute_input": "2021-09-30T12:16:36.501997Z",
     "iopub.status.busy": "2021-09-30T12:16:36.501279Z",
     "iopub.status.idle": "2021-09-30T12:16:36.503131Z",
     "shell.execute_reply": "2021-09-30T12:16:36.503710Z"
    },
    "papermill": {
     "duration": 0.182911,
     "end_time": "2021-09-30T12:16:36.503882",
     "exception": false,
     "start_time": "2021-09-30T12:16:36.320971",
     "status": "completed"
    },
    "tags": []
   },
   "outputs": [],
   "source": [
    "#hide\n",
    "\n",
    "# FETCH\n",
    "base_url = 'https://raw.githubusercontent.com/pratapvardhan/notebooks/master/covid19/'\n",
    "paths = {\n",
    "    'mapping': base_url + 'mapping_countries.csv',\n",
    "    'overview': base_url + 'overview.tpl'\n",
    "}"
   ]
  },
  {
   "cell_type": "code",
   "execution_count": 3,
   "id": "dynamic-saver",
   "metadata": {
    "execution": {
     "iopub.execute_input": "2021-09-30T12:16:36.851420Z",
     "iopub.status.busy": "2021-09-30T12:16:36.850563Z",
     "iopub.status.idle": "2021-09-30T12:16:36.854131Z",
     "shell.execute_reply": "2021-09-30T12:16:36.854760Z"
    },
    "papermill": {
     "duration": 0.185792,
     "end_time": "2021-09-30T12:16:36.854933",
     "exception": false,
     "start_time": "2021-09-30T12:16:36.669141",
     "status": "completed"
    },
    "tags": []
   },
   "outputs": [
    {
     "data": {
      "text/plain": [
       "'https://raw.githubusercontent.com/pratapvardhan/notebooks/master/covid19/mapping_countries.csv'"
      ]
     },
     "execution_count": 3,
     "metadata": {},
     "output_type": "execute_result"
    }
   ],
   "source": [
    "#hide\n",
    "paths['mapping']"
   ]
  },
  {
   "cell_type": "code",
   "execution_count": 4,
   "id": "urban-software",
   "metadata": {
    "execution": {
     "iopub.execute_input": "2021-09-30T12:16:37.194818Z",
     "iopub.status.busy": "2021-09-30T12:16:37.194073Z",
     "iopub.status.idle": "2021-09-30T12:16:37.197543Z",
     "shell.execute_reply": "2021-09-30T12:16:37.196907Z"
    },
    "papermill": {
     "duration": 0.173541,
     "end_time": "2021-09-30T12:16:37.197686",
     "exception": false,
     "start_time": "2021-09-30T12:16:37.024145",
     "status": "completed"
    },
    "tags": []
   },
   "outputs": [],
   "source": [
    "#hide\n",
    "def get_mappings(url):\n",
    "    df = pd.read_csv(url)\n",
    "    return {\n",
    "        'df': df,\n",
    "        'replace.country': dict(df.dropna(subset=['Name']).set_index('Country')['Name']),\n",
    "        'map.continent': dict(df.set_index('Name')['Continent'])\n",
    "    }"
   ]
  },
  {
   "cell_type": "code",
   "execution_count": 5,
   "id": "intimate-machinery",
   "metadata": {
    "execution": {
     "iopub.execute_input": "2021-09-30T12:16:37.542893Z",
     "iopub.status.busy": "2021-09-30T12:16:37.542088Z",
     "iopub.status.idle": "2021-09-30T12:16:37.582287Z",
     "shell.execute_reply": "2021-09-30T12:16:37.582910Z"
    },
    "papermill": {
     "duration": 0.218517,
     "end_time": "2021-09-30T12:16:37.583085",
     "exception": false,
     "start_time": "2021-09-30T12:16:37.364568",
     "status": "completed"
    },
    "tags": []
   },
   "outputs": [],
   "source": [
    "#hide\n",
    "mapping = get_mappings(paths['mapping'])"
   ]
  },
  {
   "cell_type": "code",
   "execution_count": 6,
   "id": "certified-tactics",
   "metadata": {
    "execution": {
     "iopub.execute_input": "2021-09-30T12:16:37.921707Z",
     "iopub.status.busy": "2021-09-30T12:16:37.920937Z",
     "iopub.status.idle": "2021-09-30T12:16:37.923755Z",
     "shell.execute_reply": "2021-09-30T12:16:37.922918Z"
    },
    "papermill": {
     "duration": 0.172483,
     "end_time": "2021-09-30T12:16:37.923917",
     "exception": false,
     "start_time": "2021-09-30T12:16:37.751434",
     "status": "completed"
    },
    "tags": []
   },
   "outputs": [],
   "source": [
    "#hide\n",
    "def get_template(path):\n",
    "    from urllib.parse import urlparse\n",
    "    if bool(urlparse(path).netloc):\n",
    "        from urllib.request import urlopen\n",
    "        return urlopen(path).read().decode('utf8')\n",
    "    return open(path).read()"
   ]
  },
  {
   "cell_type": "code",
   "execution_count": 7,
   "id": "realistic-blast",
   "metadata": {
    "execution": {
     "iopub.execute_input": "2021-09-30T12:16:38.265890Z",
     "iopub.status.busy": "2021-09-30T12:16:38.265146Z",
     "iopub.status.idle": "2021-09-30T12:16:38.267925Z",
     "shell.execute_reply": "2021-09-30T12:16:38.267133Z"
    },
    "papermill": {
     "duration": 0.175439,
     "end_time": "2021-09-30T12:16:38.268069",
     "exception": false,
     "start_time": "2021-09-30T12:16:38.092630",
     "status": "completed"
    },
    "tags": []
   },
   "outputs": [],
   "source": [
    "#hide\n",
    "def get_frame(name):\n",
    "    url = (\n",
    "        'https://raw.githubusercontent.com/CSSEGISandData/COVID-19/master/csse_covid_19_data/'\n",
    "        f'csse_covid_19_time_series/time_series_covid19_{name}_global.csv')\n",
    "    df = pd.read_csv(url)\n",
    "    # rename countries\n",
    "    df['Country/Region'] = df['Country/Region'].replace(mapping['replace.country'])\n",
    "    return df"
   ]
  },
  {
   "cell_type": "code",
   "execution_count": 8,
   "id": "affiliated-characterization",
   "metadata": {
    "execution": {
     "iopub.execute_input": "2021-09-30T12:16:38.621904Z",
     "iopub.status.busy": "2021-09-30T12:16:38.621172Z",
     "iopub.status.idle": "2021-09-30T12:16:38.629339Z",
     "shell.execute_reply": "2021-09-30T12:16:38.629989Z"
    },
    "papermill": {
     "duration": 0.194791,
     "end_time": "2021-09-30T12:16:38.630144",
     "exception": false,
     "start_time": "2021-09-30T12:16:38.435353",
     "status": "completed"
    },
    "tags": []
   },
   "outputs": [],
   "source": [
    "#hide\n",
    "def get_dates(df):\n",
    "    dt_cols = df.columns[~df.columns.isin(['Province/State', 'Country/Region', 'Lat', 'Long'])]\n",
    "    LAST_DATE_I = -1\n",
    "    # sometimes last column may be empty, then go backwards\n",
    "    for i in range(-1, -len(dt_cols), -1):\n",
    "        if not df[dt_cols[i]].fillna(0).eq(0).all():\n",
    "            LAST_DATE_I = i\n",
    "            break\n",
    "    return LAST_DATE_I, dt_cols"
   ]
  },
  {
   "cell_type": "code",
   "execution_count": 9,
   "id": "recent-optimization",
   "metadata": {
    "execution": {
     "iopub.execute_input": "2021-09-30T12:16:38.968018Z",
     "iopub.status.busy": "2021-09-30T12:16:38.967233Z",
     "iopub.status.idle": "2021-09-30T12:16:39.434612Z",
     "shell.execute_reply": "2021-09-30T12:16:39.433896Z"
    },
    "papermill": {
     "duration": 0.639209,
     "end_time": "2021-09-30T12:16:39.434779",
     "exception": false,
     "start_time": "2021-09-30T12:16:38.795570",
     "status": "completed"
    },
    "tags": []
   },
   "outputs": [],
   "source": [
    "#hide\n",
    "COL_REGION = 'Country/Region'\n",
    "# Confirmed, Recovered, Deaths\n",
    "df = get_frame('confirmed')\n",
    "# dft_: timeseries, dfc_: today country agg\n",
    "dft_cases = df\n",
    "dft_deaths = get_frame('deaths')\n",
    "dft_recovered = get_frame('recovered')\n",
    "LAST_DATE_I, dt_cols = get_dates(df)"
   ]
  },
  {
   "cell_type": "code",
   "execution_count": 10,
   "id": "absolute-copper",
   "metadata": {
    "execution": {
     "iopub.execute_input": "2021-09-30T12:16:39.779519Z",
     "iopub.status.busy": "2021-09-30T12:16:39.778710Z",
     "iopub.status.idle": "2021-09-30T12:16:39.783735Z",
     "shell.execute_reply": "2021-09-30T12:16:39.783044Z"
    },
    "papermill": {
     "duration": 0.180617,
     "end_time": "2021-09-30T12:16:39.783888",
     "exception": false,
     "start_time": "2021-09-30T12:16:39.603271",
     "status": "completed"
    },
    "tags": []
   },
   "outputs": [],
   "source": [
    "#hide\n",
    "LAST_DATE_I, dt_cols = get_dates(df)\n",
    "dt_today =dt_cols[LAST_DATE_I]\n",
    "# dt_5day = dt_cols[LAST_DATE_I - 5]\n",
    "dt_yday = dt_cols[LAST_DATE_I - 1]"
   ]
  },
  {
   "cell_type": "code",
   "execution_count": 11,
   "id": "restricted-sheriff",
   "metadata": {
    "execution": {
     "iopub.execute_input": "2021-09-30T12:16:40.145178Z",
     "iopub.status.busy": "2021-09-30T12:16:40.142442Z",
     "iopub.status.idle": "2021-09-30T12:16:40.153355Z",
     "shell.execute_reply": "2021-09-30T12:16:40.154319Z"
    },
    "papermill": {
     "duration": 0.204347,
     "end_time": "2021-09-30T12:16:40.154776",
     "exception": false,
     "start_time": "2021-09-30T12:16:39.950429",
     "status": "completed"
    },
    "tags": []
   },
   "outputs": [],
   "source": [
    "#hide\n",
    "dfc_cases = dft_cases.groupby(COL_REGION)[dt_today].sum()\n",
    "dfc_deaths = dft_deaths.groupby(COL_REGION)[dt_today].sum()\n",
    "# dfp_cases = dft_cases.groupby(COL_REGION)[dt_5day].sum()\n",
    "# dfp_deaths = dft_deaths.groupby(COL_REGION)[dt_5day].sum()\n",
    "dfp_cases = dft_cases.groupby(COL_REGION)[dt_yday].sum()\n",
    "dfp_deaths = dft_deaths.groupby(COL_REGION)[dt_yday].sum()"
   ]
  },
  {
   "cell_type": "code",
   "execution_count": 12,
   "id": "deluxe-hepatitis",
   "metadata": {
    "execution": {
     "iopub.execute_input": "2021-09-30T12:16:40.603474Z",
     "iopub.status.busy": "2021-09-30T12:16:40.602774Z",
     "iopub.status.idle": "2021-09-30T12:16:40.604772Z",
     "shell.execute_reply": "2021-09-30T12:16:40.605451Z"
    },
    "papermill": {
     "duration": 0.236904,
     "end_time": "2021-09-30T12:16:40.605612",
     "exception": false,
     "start_time": "2021-09-30T12:16:40.368708",
     "status": "completed"
    },
    "tags": []
   },
   "outputs": [],
   "source": [
    "#hide\n",
    "df_table = (pd.DataFrame(dict(Cases = dfc_cases, Deaths = dfc_deaths, PCases = dfp_cases, PDeaths = dfp_deaths))\n",
    "            .sort_values(by = ['Cases','Deaths'], ascending = [False, False])\n",
    "            .reset_index())"
   ]
  },
  {
   "cell_type": "code",
   "execution_count": 13,
   "id": "educational-chancellor",
   "metadata": {
    "execution": {
     "iopub.execute_input": "2021-09-30T12:16:41.032284Z",
     "iopub.status.busy": "2021-09-30T12:16:41.011077Z",
     "iopub.status.idle": "2021-09-30T12:16:41.047345Z",
     "shell.execute_reply": "2021-09-30T12:16:41.047893Z"
    },
    "papermill": {
     "duration": 0.229519,
     "end_time": "2021-09-30T12:16:41.048073",
     "exception": false,
     "start_time": "2021-09-30T12:16:40.818554",
     "status": "completed"
    },
    "tags": []
   },
   "outputs": [
    {
     "data": {
      "text/html": [
       "<div>\n",
       "<style scoped>\n",
       "    .dataframe tbody tr th:only-of-type {\n",
       "        vertical-align: middle;\n",
       "    }\n",
       "\n",
       "    .dataframe tbody tr th {\n",
       "        vertical-align: top;\n",
       "    }\n",
       "\n",
       "    .dataframe thead th {\n",
       "        text-align: right;\n",
       "    }\n",
       "</style>\n",
       "<table border=\"1\" class=\"dataframe\">\n",
       "  <thead>\n",
       "    <tr style=\"text-align: right;\">\n",
       "      <th></th>\n",
       "      <th>Country/Region</th>\n",
       "      <th>Cases</th>\n",
       "      <th>Deaths</th>\n",
       "      <th>PCases</th>\n",
       "      <th>PDeaths</th>\n",
       "      <th>Cases (+)</th>\n",
       "      <th>Deaths (+)</th>\n",
       "      <th>Fatality Rate</th>\n",
       "      <th>Continent</th>\n",
       "    </tr>\n",
       "  </thead>\n",
       "  <tbody>\n",
       "    <tr>\n",
       "      <th>0</th>\n",
       "      <td>US</td>\n",
       "      <td>43349211</td>\n",
       "      <td>695114</td>\n",
       "      <td>43225942</td>\n",
       "      <td>692583</td>\n",
       "      <td>123269</td>\n",
       "      <td>2531</td>\n",
       "      <td>1.60</td>\n",
       "      <td>North America</td>\n",
       "    </tr>\n",
       "    <tr>\n",
       "      <th>1</th>\n",
       "      <td>India</td>\n",
       "      <td>33739980</td>\n",
       "      <td>448062</td>\n",
       "      <td>33716451</td>\n",
       "      <td>447751</td>\n",
       "      <td>23529</td>\n",
       "      <td>311</td>\n",
       "      <td>1.33</td>\n",
       "      <td>Asia</td>\n",
       "    </tr>\n",
       "    <tr>\n",
       "      <th>2</th>\n",
       "      <td>Brazil</td>\n",
       "      <td>21399546</td>\n",
       "      <td>596122</td>\n",
       "      <td>21381790</td>\n",
       "      <td>595446</td>\n",
       "      <td>17756</td>\n",
       "      <td>676</td>\n",
       "      <td>2.79</td>\n",
       "      <td>South America</td>\n",
       "    </tr>\n",
       "    <tr>\n",
       "      <th>3</th>\n",
       "      <td>United Kingdom</td>\n",
       "      <td>7808054</td>\n",
       "      <td>136906</td>\n",
       "      <td>7772788</td>\n",
       "      <td>136746</td>\n",
       "      <td>35266</td>\n",
       "      <td>160</td>\n",
       "      <td>1.75</td>\n",
       "      <td>Europe</td>\n",
       "    </tr>\n",
       "    <tr>\n",
       "      <th>4</th>\n",
       "      <td>Russia</td>\n",
       "      <td>7377774</td>\n",
       "      <td>202700</td>\n",
       "      <td>7355883</td>\n",
       "      <td>201854</td>\n",
       "      <td>21891</td>\n",
       "      <td>846</td>\n",
       "      <td>2.75</td>\n",
       "      <td>Europe</td>\n",
       "    </tr>\n",
       "  </tbody>\n",
       "</table>\n",
       "</div>"
      ],
      "text/plain": [
       "   Country/Region     Cases  Deaths    PCases  PDeaths  Cases (+)  Deaths (+)  \\\n",
       "0              US  43349211  695114  43225942   692583     123269        2531   \n",
       "1           India  33739980  448062  33716451   447751      23529         311   \n",
       "2          Brazil  21399546  596122  21381790   595446      17756         676   \n",
       "3  United Kingdom   7808054  136906   7772788   136746      35266         160   \n",
       "4          Russia   7377774  202700   7355883   201854      21891         846   \n",
       "\n",
       "   Fatality Rate      Continent  \n",
       "0           1.60  North America  \n",
       "1           1.33           Asia  \n",
       "2           2.79  South America  \n",
       "3           1.75         Europe  \n",
       "4           2.75         Europe  "
      ]
     },
     "execution_count": 13,
     "metadata": {},
     "output_type": "execute_result"
    }
   ],
   "source": [
    "#hide\n",
    "for c in 'Cases, Deaths'.split(', '):\n",
    "    df_table[f'{c} (+)'] = (df_table[c] - df_table[f'P{c}']).clip(0)\n",
    "    #Clip ça veut dire, les chiffres negatif sont interdit\n",
    "df_table['Fatality Rate'] = (100* df_table['Deaths']/ df_table['Cases']).round(2)\n",
    "df_table['Continent'] = df_table['Country/Region'].map(mapping['map.continent'])\n",
    "df_table.head(5)"
   ]
  },
  {
   "cell_type": "code",
   "execution_count": 14,
   "id": "aboriginal-bulgaria",
   "metadata": {
    "execution": {
     "iopub.execute_input": "2021-09-30T12:16:41.446938Z",
     "iopub.status.busy": "2021-09-30T12:16:41.446098Z",
     "iopub.status.idle": "2021-09-30T12:16:41.448531Z",
     "shell.execute_reply": "2021-09-30T12:16:41.449350Z"
    },
    "papermill": {
     "duration": 0.180201,
     "end_time": "2021-09-30T12:16:41.449512",
     "exception": false,
     "start_time": "2021-09-30T12:16:41.269311",
     "status": "completed"
    },
    "tags": []
   },
   "outputs": [],
   "source": [
    "#hide\n",
    "#delete problematic countries from table\n",
    "df_table = df_table[~df_table['Country/Region'].isin(['Cape Verde', 'Cruise Ship', 'Kosovo'])]"
   ]
  },
  {
   "cell_type": "code",
   "execution_count": 15,
   "id": "fantastic-effect",
   "metadata": {
    "execution": {
     "iopub.execute_input": "2021-09-30T12:16:41.893542Z",
     "iopub.status.busy": "2021-09-30T12:16:41.892717Z",
     "iopub.status.idle": "2021-09-30T12:16:41.916530Z",
     "shell.execute_reply": "2021-09-30T12:16:41.917084Z"
    },
    "papermill": {
     "duration": 0.228049,
     "end_time": "2021-09-30T12:16:41.917281",
     "exception": false,
     "start_time": "2021-09-30T12:16:41.689232",
     "status": "completed"
    },
    "tags": []
   },
   "outputs": [
    {
     "data": {
      "text/html": [
       "<div>\n",
       "<style scoped>\n",
       "    .dataframe tbody tr th:only-of-type {\n",
       "        vertical-align: middle;\n",
       "    }\n",
       "\n",
       "    .dataframe tbody tr th {\n",
       "        vertical-align: top;\n",
       "    }\n",
       "\n",
       "    .dataframe thead th {\n",
       "        text-align: right;\n",
       "    }\n",
       "</style>\n",
       "<table border=\"1\" class=\"dataframe\">\n",
       "  <thead>\n",
       "    <tr style=\"text-align: right;\">\n",
       "      <th></th>\n",
       "      <th>Country/Region</th>\n",
       "      <th>Cases</th>\n",
       "      <th>Deaths</th>\n",
       "      <th>PCases</th>\n",
       "      <th>PDeaths</th>\n",
       "      <th>Cases (+)</th>\n",
       "      <th>Deaths (+)</th>\n",
       "      <th>Fatality Rate</th>\n",
       "      <th>Continent</th>\n",
       "    </tr>\n",
       "  </thead>\n",
       "  <tbody>\n",
       "    <tr>\n",
       "      <th>0</th>\n",
       "      <td>US</td>\n",
       "      <td>43349211</td>\n",
       "      <td>695114</td>\n",
       "      <td>43225942</td>\n",
       "      <td>692583</td>\n",
       "      <td>123269</td>\n",
       "      <td>2531</td>\n",
       "      <td>1.6</td>\n",
       "      <td>North America</td>\n",
       "    </tr>\n",
       "    <tr>\n",
       "      <th>1</th>\n",
       "      <td>India</td>\n",
       "      <td>33739980</td>\n",
       "      <td>448062</td>\n",
       "      <td>33716451</td>\n",
       "      <td>447751</td>\n",
       "      <td>23529</td>\n",
       "      <td>311</td>\n",
       "      <td>1.3</td>\n",
       "      <td>Asia</td>\n",
       "    </tr>\n",
       "    <tr>\n",
       "      <th>2</th>\n",
       "      <td>Brazil</td>\n",
       "      <td>21399546</td>\n",
       "      <td>596122</td>\n",
       "      <td>21381790</td>\n",
       "      <td>595446</td>\n",
       "      <td>17756</td>\n",
       "      <td>676</td>\n",
       "      <td>2.8</td>\n",
       "      <td>South America</td>\n",
       "    </tr>\n",
       "    <tr>\n",
       "      <th>3</th>\n",
       "      <td>United Kingdom</td>\n",
       "      <td>7808054</td>\n",
       "      <td>136906</td>\n",
       "      <td>7772788</td>\n",
       "      <td>136746</td>\n",
       "      <td>35266</td>\n",
       "      <td>160</td>\n",
       "      <td>1.8</td>\n",
       "      <td>Europe</td>\n",
       "    </tr>\n",
       "    <tr>\n",
       "      <th>4</th>\n",
       "      <td>Russia</td>\n",
       "      <td>7377774</td>\n",
       "      <td>202700</td>\n",
       "      <td>7355883</td>\n",
       "      <td>201854</td>\n",
       "      <td>21891</td>\n",
       "      <td>846</td>\n",
       "      <td>2.7</td>\n",
       "      <td>Europe</td>\n",
       "    </tr>\n",
       "  </tbody>\n",
       "</table>\n",
       "</div>"
      ],
      "text/plain": [
       "   Country/Region     Cases  Deaths    PCases  PDeaths  Cases (+)  Deaths (+)  \\\n",
       "0              US  43349211  695114  43225942   692583     123269        2531   \n",
       "1           India  33739980  448062  33716451   447751      23529         311   \n",
       "2          Brazil  21399546  596122  21381790   595446      17756         676   \n",
       "3  United Kingdom   7808054  136906   7772788   136746      35266         160   \n",
       "4          Russia   7377774  202700   7355883   201854      21891         846   \n",
       "\n",
       "   Fatality Rate      Continent  \n",
       "0            1.6  North America  \n",
       "1            1.3           Asia  \n",
       "2            2.8  South America  \n",
       "3            1.8         Europe  \n",
       "4            2.7         Europe  "
      ]
     },
     "execution_count": 15,
     "metadata": {},
     "output_type": "execute_result"
    }
   ],
   "source": [
    "#hide\n",
    "df_table = (pd.DataFrame(dict(Cases=dfc_cases, Deaths=dfc_deaths, PCases=dfp_cases, PDeaths=dfp_deaths))\n",
    "             .sort_values(by=['Cases', 'Deaths'], ascending=[False, False])\n",
    "             .reset_index())\n",
    "df_table.rename(columns={'index': 'Country/Region'}, inplace=True)\n",
    "for c in 'Cases, Deaths'.split(', '):\n",
    "    df_table[f'{c} (+)'] = (df_table[c] - df_table[f'P{c}']).clip(0)  # DATA BUG\n",
    "df_table['Fatality Rate'] = (100 * df_table['Deaths'] / df_table['Cases']).round(1)\n",
    "df_table['Continent'] = df_table['Country/Region'].map(mapping['map.continent'])\n",
    "df_table.head(5)"
   ]
  },
  {
   "cell_type": "code",
   "execution_count": 16,
   "id": "fewer-occasion",
   "metadata": {
    "execution": {
     "iopub.execute_input": "2021-09-30T12:16:42.339969Z",
     "iopub.status.busy": "2021-09-30T12:16:42.339270Z",
     "iopub.status.idle": "2021-09-30T12:16:42.342140Z",
     "shell.execute_reply": "2021-09-30T12:16:42.341563Z"
    },
    "papermill": {
     "duration": 0.236037,
     "end_time": "2021-09-30T12:16:42.342278",
     "exception": false,
     "start_time": "2021-09-30T12:16:42.106241",
     "status": "completed"
    },
    "tags": []
   },
   "outputs": [],
   "source": [
    "#hide\n",
    "#delete problematic countries from table\n",
    "df_table = df_table[~df_table['Country/Region'].isin(['Cape Verde', 'Cruise Ship', 'Kosovo'])]"
   ]
  },
  {
   "cell_type": "code",
   "execution_count": 17,
   "id": "related-center",
   "metadata": {
    "execution": {
     "iopub.execute_input": "2021-09-30T12:16:42.719295Z",
     "iopub.status.busy": "2021-09-30T12:16:42.717420Z",
     "iopub.status.idle": "2021-09-30T12:16:42.720094Z",
     "shell.execute_reply": "2021-09-30T12:16:42.720658Z"
    },
    "papermill": {
     "duration": 0.207081,
     "end_time": "2021-09-30T12:16:42.720836",
     "exception": false,
     "start_time": "2021-09-30T12:16:42.513755",
     "status": "completed"
    },
    "tags": []
   },
   "outputs": [],
   "source": [
    "#hide\n",
    "metrics = [df_table.columns[index] for index in [1,2,5,6]]\n",
    "# s_china = df_table[df_table['Country/Region'].eq('China')][metrics].sum().add_prefix('China ')\n",
    "s_us = df_table[df_table['Country/Region'].eq('US')][metrics].sum().add_prefix('US ')\n",
    "s_eu = df_table[df_table['Continent'].eq('Europe')][metrics].sum().add_prefix('EU ')\n",
    "s_ind = df_table[df_table['Country/Region'].eq('India')][metrics].sum().add_prefix('India ')\n",
    "summary = {'updated': pd.to_datetime(dt_today), 'since': pd.to_datetime(dt_yday)}\n",
    "summary = {'updated': pd.to_datetime(dt_today), 'since': pd.to_datetime(dt_yday)}\n",
    "summary = {**summary, **df_table[metrics].sum(), **s_ind, **s_us, **s_eu}"
   ]
  },
  {
   "cell_type": "code",
   "execution_count": 18,
   "id": "engaging-syndrome",
   "metadata": {
    "execution": {
     "iopub.execute_input": "2021-09-30T12:16:43.081451Z",
     "iopub.status.busy": "2021-09-30T12:16:43.080722Z",
     "iopub.status.idle": "2021-09-30T12:16:43.098598Z",
     "shell.execute_reply": "2021-09-30T12:16:43.097981Z"
    },
    "papermill": {
     "duration": 0.198365,
     "end_time": "2021-09-30T12:16:43.098753",
     "exception": false,
     "start_time": "2021-09-30T12:16:42.900388",
     "status": "completed"
    },
    "tags": []
   },
   "outputs": [],
   "source": [
    "#hide\n",
    "dft_ct_new_cases = dft_cases.groupby(COL_REGION)[dt_cols].sum().diff(axis=1).fillna(0).astype(int)"
   ]
  },
  {
   "cell_type": "code",
   "execution_count": 19,
   "id": "neutral-assignment",
   "metadata": {
    "execution": {
     "iopub.execute_input": "2021-09-30T12:16:43.462797Z",
     "iopub.status.busy": "2021-09-30T12:16:43.462096Z",
     "iopub.status.idle": "2021-09-30T12:16:43.464708Z",
     "shell.execute_reply": "2021-09-30T12:16:43.465498Z"
    },
    "papermill": {
     "duration": 0.190527,
     "end_time": "2021-09-30T12:16:43.465702",
     "exception": false,
     "start_time": "2021-09-30T12:16:43.275175",
     "status": "completed"
    },
    "tags": []
   },
   "outputs": [],
   "source": [
    "#hide\n",
    "everydaycases = dft_ct_new_cases.cumsum(axis=1)"
   ]
  },
  {
   "cell_type": "code",
   "execution_count": 20,
   "id": "parliamentary-calgary",
   "metadata": {
    "execution": {
     "iopub.execute_input": "2021-09-30T12:16:43.819271Z",
     "iopub.status.busy": "2021-09-30T12:16:43.818503Z",
     "iopub.status.idle": "2021-09-30T12:16:44.920166Z",
     "shell.execute_reply": "2021-09-30T12:16:44.919528Z"
    },
    "papermill": {
     "duration": 1.280868,
     "end_time": "2021-09-30T12:16:44.920423",
     "exception": false,
     "start_time": "2021-09-30T12:16:43.639555",
     "status": "completed"
    },
    "tags": []
   },
   "outputs": [],
   "source": [
    "#hide\n",
    "import pandas as pd\n",
    "import matplotlib.pyplot as plt\n",
    "import matplotlib.ticker as ticker\n",
    "import matplotlib.animation as animation\n",
    "from IPython.display import HTML"
   ]
  },
  {
   "cell_type": "code",
   "execution_count": 21,
   "id": "lasting-extraction",
   "metadata": {
    "execution": {
     "iopub.execute_input": "2021-09-30T12:16:45.280141Z",
     "iopub.status.busy": "2021-09-30T12:16:45.279405Z",
     "iopub.status.idle": "2021-09-30T12:16:45.286377Z",
     "shell.execute_reply": "2021-09-30T12:16:45.285818Z"
    },
    "papermill": {
     "duration": 0.196381,
     "end_time": "2021-09-30T12:16:45.286517",
     "exception": false,
     "start_time": "2021-09-30T12:16:45.090136",
     "status": "completed"
    },
    "tags": []
   },
   "outputs": [],
   "source": [
    "#hide\n",
    "t = everydaycases.stack()"
   ]
  },
  {
   "cell_type": "code",
   "execution_count": 22,
   "id": "premier-sleeve",
   "metadata": {
    "execution": {
     "iopub.execute_input": "2021-09-30T12:16:45.638562Z",
     "iopub.status.busy": "2021-09-30T12:16:45.637896Z",
     "iopub.status.idle": "2021-09-30T12:16:45.648345Z",
     "shell.execute_reply": "2021-09-30T12:16:45.648983Z"
    },
    "papermill": {
     "duration": 0.187774,
     "end_time": "2021-09-30T12:16:45.649190",
     "exception": false,
     "start_time": "2021-09-30T12:16:45.461416",
     "status": "completed"
    },
    "tags": []
   },
   "outputs": [],
   "source": [
    "#hide\n",
    "g = t.reset_index(['Country/Region'])"
   ]
  },
  {
   "cell_type": "code",
   "execution_count": 23,
   "id": "distributed-pittsburgh",
   "metadata": {
    "execution": {
     "iopub.execute_input": "2021-09-30T12:16:45.995845Z",
     "iopub.status.busy": "2021-09-30T12:16:45.995143Z",
     "iopub.status.idle": "2021-09-30T12:16:45.997771Z",
     "shell.execute_reply": "2021-09-30T12:16:45.998474Z"
    },
    "papermill": {
     "duration": 0.176172,
     "end_time": "2021-09-30T12:16:45.998969",
     "exception": false,
     "start_time": "2021-09-30T12:16:45.822797",
     "status": "completed"
    },
    "tags": []
   },
   "outputs": [],
   "source": [
    "#hide\n",
    "g.index.name = 'date'"
   ]
  },
  {
   "cell_type": "code",
   "execution_count": 24,
   "id": "naked-donor",
   "metadata": {
    "execution": {
     "iopub.execute_input": "2021-09-30T12:16:46.343870Z",
     "iopub.status.busy": "2021-09-30T12:16:46.343155Z",
     "iopub.status.idle": "2021-09-30T12:16:46.345247Z",
     "shell.execute_reply": "2021-09-30T12:16:46.346031Z"
    },
    "papermill": {
     "duration": 0.175572,
     "end_time": "2021-09-30T12:16:46.346192",
     "exception": false,
     "start_time": "2021-09-30T12:16:46.170620",
     "status": "completed"
    },
    "tags": []
   },
   "outputs": [],
   "source": [
    "# #hide\n",
    "# g = g.reset_index(['date'])"
   ]
  },
  {
   "cell_type": "code",
   "execution_count": 25,
   "id": "incomplete-mustang",
   "metadata": {
    "execution": {
     "iopub.execute_input": "2021-09-30T12:16:46.698107Z",
     "iopub.status.busy": "2021-09-30T12:16:46.697415Z",
     "iopub.status.idle": "2021-09-30T12:16:46.699895Z",
     "shell.execute_reply": "2021-09-30T12:16:46.699157Z"
    },
    "papermill": {
     "duration": 0.181213,
     "end_time": "2021-09-30T12:16:46.700035",
     "exception": false,
     "start_time": "2021-09-30T12:16:46.518822",
     "status": "completed"
    },
    "tags": []
   },
   "outputs": [],
   "source": [
    "#hide\n",
    "# g.head()"
   ]
  },
  {
   "cell_type": "code",
   "execution_count": 26,
   "id": "specific-kruger",
   "metadata": {
    "execution": {
     "iopub.execute_input": "2021-09-30T12:16:47.043503Z",
     "iopub.status.busy": "2021-09-30T12:16:47.042786Z",
     "iopub.status.idle": "2021-09-30T12:16:47.045592Z",
     "shell.execute_reply": "2021-09-30T12:16:47.044980Z"
    },
    "papermill": {
     "duration": 0.175579,
     "end_time": "2021-09-30T12:16:47.045730",
     "exception": false,
     "start_time": "2021-09-30T12:16:46.870151",
     "status": "completed"
    },
    "tags": []
   },
   "outputs": [],
   "source": [
    "#hide\n",
    "# g.columns = ['date','country','cases']"
   ]
  },
  {
   "cell_type": "code",
   "execution_count": 27,
   "id": "tender-conversion",
   "metadata": {
    "execution": {
     "iopub.execute_input": "2021-09-30T12:16:47.387144Z",
     "iopub.status.busy": "2021-09-30T12:16:47.386446Z",
     "iopub.status.idle": "2021-09-30T12:16:47.388597Z",
     "shell.execute_reply": "2021-09-30T12:16:47.389211Z"
    },
    "papermill": {
     "duration": 0.175003,
     "end_time": "2021-09-30T12:16:47.389359",
     "exception": false,
     "start_time": "2021-09-30T12:16:47.214356",
     "status": "completed"
    },
    "tags": []
   },
   "outputs": [],
   "source": [
    "#hide\n",
    "# g['continent'] = g.country"
   ]
  },
  {
   "cell_type": "code",
   "execution_count": 28,
   "id": "substantial-wilderness",
   "metadata": {
    "execution": {
     "iopub.execute_input": "2021-09-30T12:16:47.738920Z",
     "iopub.status.busy": "2021-09-30T12:16:47.738170Z",
     "iopub.status.idle": "2021-09-30T12:16:47.740342Z",
     "shell.execute_reply": "2021-09-30T12:16:47.741174Z"
    },
    "papermill": {
     "duration": 0.179463,
     "end_time": "2021-09-30T12:16:47.741344",
     "exception": false,
     "start_time": "2021-09-30T12:16:47.561881",
     "status": "completed"
    },
    "tags": []
   },
   "outputs": [],
   "source": [
    "#hide\n",
    "# cols = list(g.columns.values)"
   ]
  },
  {
   "cell_type": "code",
   "execution_count": 29,
   "id": "solved-farming",
   "metadata": {
    "execution": {
     "iopub.execute_input": "2021-09-30T12:16:48.099696Z",
     "iopub.status.busy": "2021-09-30T12:16:48.098997Z",
     "iopub.status.idle": "2021-09-30T12:16:48.101459Z",
     "shell.execute_reply": "2021-09-30T12:16:48.101977Z"
    },
    "papermill": {
     "duration": 0.18543,
     "end_time": "2021-09-30T12:16:48.102140",
     "exception": false,
     "start_time": "2021-09-30T12:16:47.916710",
     "status": "completed"
    },
    "tags": []
   },
   "outputs": [],
   "source": [
    "#hide\n",
    "# cols.insert(0, cols.pop())"
   ]
  },
  {
   "cell_type": "code",
   "execution_count": 30,
   "id": "executed-adoption",
   "metadata": {
    "execution": {
     "iopub.execute_input": "2021-09-30T12:16:48.452242Z",
     "iopub.status.busy": "2021-09-30T12:16:48.451540Z",
     "iopub.status.idle": "2021-09-30T12:16:48.454109Z",
     "shell.execute_reply": "2021-09-30T12:16:48.453410Z"
    },
    "papermill": {
     "duration": 0.177601,
     "end_time": "2021-09-30T12:16:48.454241",
     "exception": false,
     "start_time": "2021-09-30T12:16:48.276640",
     "status": "completed"
    },
    "tags": []
   },
   "outputs": [],
   "source": [
    "#hide\n",
    "# g = g[cols]"
   ]
  },
  {
   "cell_type": "code",
   "execution_count": 31,
   "id": "subject-dublin",
   "metadata": {
    "execution": {
     "iopub.execute_input": "2021-09-30T12:16:48.805010Z",
     "iopub.status.busy": "2021-09-30T12:16:48.804203Z",
     "iopub.status.idle": "2021-09-30T12:16:48.806443Z",
     "shell.execute_reply": "2021-09-30T12:16:48.807089Z"
    },
    "papermill": {
     "duration": 0.180552,
     "end_time": "2021-09-30T12:16:48.807250",
     "exception": false,
     "start_time": "2021-09-30T12:16:48.626698",
     "status": "completed"
    },
    "tags": []
   },
   "outputs": [],
   "source": [
    "#hide\n",
    "# g['continent'] = g['continent'].map(mapping['map.continent'])"
   ]
  },
  {
   "cell_type": "code",
   "execution_count": 32,
   "id": "freelance-scout",
   "metadata": {
    "execution": {
     "iopub.execute_input": "2021-09-30T12:16:49.152466Z",
     "iopub.status.busy": "2021-09-30T12:16:49.151773Z",
     "iopub.status.idle": "2021-09-30T12:16:49.154113Z",
     "shell.execute_reply": "2021-09-30T12:16:49.154661Z"
    },
    "papermill": {
     "duration": 0.177881,
     "end_time": "2021-09-30T12:16:49.154825",
     "exception": false,
     "start_time": "2021-09-30T12:16:48.976944",
     "status": "completed"
    },
    "tags": []
   },
   "outputs": [],
   "source": [
    "#hide\n",
    "# g.head()"
   ]
  },
  {
   "cell_type": "code",
   "execution_count": 33,
   "id": "limited-engine",
   "metadata": {
    "execution": {
     "iopub.execute_input": "2021-09-30T12:16:49.500282Z",
     "iopub.status.busy": "2021-09-30T12:16:49.499581Z",
     "iopub.status.idle": "2021-09-30T12:16:49.503920Z",
     "shell.execute_reply": "2021-09-30T12:16:49.503382Z"
    },
    "papermill": {
     "duration": 0.180807,
     "end_time": "2021-09-30T12:16:49.504096",
     "exception": false,
     "start_time": "2021-09-30T12:16:49.323289",
     "status": "completed"
    },
    "tags": []
   },
   "outputs": [],
   "source": [
    "# hide\n",
    "# g['date'] = g['date'].astype('datetime64[ns]')"
   ]
  },
  {
   "cell_type": "code",
   "execution_count": 34,
   "id": "sophisticated-supervisor",
   "metadata": {
    "execution": {
     "iopub.execute_input": "2021-09-30T12:16:49.847654Z",
     "iopub.status.busy": "2021-09-30T12:16:49.846969Z",
     "iopub.status.idle": "2021-09-30T12:16:49.849072Z",
     "shell.execute_reply": "2021-09-30T12:16:49.849687Z"
    },
    "papermill": {
     "duration": 0.175209,
     "end_time": "2021-09-30T12:16:49.849842",
     "exception": false,
     "start_time": "2021-09-30T12:16:49.674633",
     "status": "completed"
    },
    "tags": []
   },
   "outputs": [],
   "source": [
    "#hide\n",
    "# g['date'] = g.date.dt.dayofyear"
   ]
  },
  {
   "cell_type": "code",
   "execution_count": 35,
   "id": "inside-dubai",
   "metadata": {
    "execution": {
     "iopub.execute_input": "2021-09-30T12:16:50.193555Z",
     "iopub.status.busy": "2021-09-30T12:16:50.192824Z",
     "iopub.status.idle": "2021-09-30T12:16:50.195803Z",
     "shell.execute_reply": "2021-09-30T12:16:50.195073Z"
    },
    "papermill": {
     "duration": 0.177061,
     "end_time": "2021-09-30T12:16:50.195936",
     "exception": false,
     "start_time": "2021-09-30T12:16:50.018875",
     "status": "completed"
    },
    "tags": []
   },
   "outputs": [],
   "source": [
    "#hide\n",
    "# g = g.rename(columns= {'continent':'group','country':'name','cases':'value'})"
   ]
  },
  {
   "cell_type": "code",
   "execution_count": 36,
   "id": "fleet-motorcycle",
   "metadata": {
    "execution": {
     "iopub.execute_input": "2021-09-30T12:16:50.547121Z",
     "iopub.status.busy": "2021-09-30T12:16:50.546444Z",
     "iopub.status.idle": "2021-09-30T12:16:50.556723Z",
     "shell.execute_reply": "2021-09-30T12:16:50.557481Z"
    },
    "papermill": {
     "duration": 0.186891,
     "end_time": "2021-09-30T12:16:50.557655",
     "exception": false,
     "start_time": "2021-09-30T12:16:50.370764",
     "status": "completed"
    },
    "tags": []
   },
   "outputs": [],
   "source": [
    "#hide\n",
    "# cols = ['name','group','day','value']"
   ]
  },
  {
   "cell_type": "code",
   "execution_count": 37,
   "id": "continued-sleeping",
   "metadata": {
    "execution": {
     "iopub.execute_input": "2021-09-30T12:16:50.910235Z",
     "iopub.status.busy": "2021-09-30T12:16:50.909531Z",
     "iopub.status.idle": "2021-09-30T12:16:50.911582Z",
     "shell.execute_reply": "2021-09-30T12:16:50.912209Z"
    },
    "papermill": {
     "duration": 0.183087,
     "end_time": "2021-09-30T12:16:50.912361",
     "exception": false,
     "start_time": "2021-09-30T12:16:50.729274",
     "status": "completed"
    },
    "tags": []
   },
   "outputs": [],
   "source": [
    "#hide\n",
    "# g.rename(columns= {'date':'day'},inplace = True)"
   ]
  },
  {
   "cell_type": "code",
   "execution_count": 38,
   "id": "major-fight",
   "metadata": {
    "execution": {
     "iopub.execute_input": "2021-09-30T12:16:51.268762Z",
     "iopub.status.busy": "2021-09-30T12:16:51.267247Z",
     "iopub.status.idle": "2021-09-30T12:16:51.269508Z",
     "shell.execute_reply": "2021-09-30T12:16:51.270196Z"
    },
    "papermill": {
     "duration": 0.182936,
     "end_time": "2021-09-30T12:16:51.270367",
     "exception": false,
     "start_time": "2021-09-30T12:16:51.087431",
     "status": "completed"
    },
    "tags": []
   },
   "outputs": [],
   "source": [
    "#hide\n",
    "# g = g[cols]"
   ]
  },
  {
   "cell_type": "code",
   "execution_count": 39,
   "id": "structured-mobile",
   "metadata": {
    "execution": {
     "iopub.execute_input": "2021-09-30T12:16:51.613288Z",
     "iopub.status.busy": "2021-09-30T12:16:51.612559Z",
     "iopub.status.idle": "2021-09-30T12:16:51.615370Z",
     "shell.execute_reply": "2021-09-30T12:16:51.614825Z"
    },
    "papermill": {
     "duration": 0.176549,
     "end_time": "2021-09-30T12:16:51.615510",
     "exception": false,
     "start_time": "2021-09-30T12:16:51.438961",
     "status": "completed"
    },
    "tags": []
   },
   "outputs": [],
   "source": [
    "# #hide\n",
    "# g = g[g.group.notna()]"
   ]
  },
  {
   "cell_type": "code",
   "execution_count": 40,
   "id": "determined-closing",
   "metadata": {
    "execution": {
     "iopub.execute_input": "2021-09-30T12:16:51.961328Z",
     "iopub.status.busy": "2021-09-30T12:16:51.960607Z",
     "iopub.status.idle": "2021-09-30T12:16:51.962760Z",
     "shell.execute_reply": "2021-09-30T12:16:51.963309Z"
    },
    "papermill": {
     "duration": 0.175434,
     "end_time": "2021-09-30T12:16:51.963484",
     "exception": false,
     "start_time": "2021-09-30T12:16:51.788050",
     "status": "completed"
    },
    "tags": []
   },
   "outputs": [],
   "source": [
    "# #hide\n",
    "# colors = dict(zip(\n",
    "#     [\"Oceania\", \"Europe\", \"Asia\", \"South America\", \"Middle East\", \"North America\", \"Africa\"],\n",
    "#     [\"#adb0ff\", \"#ffb3ff\", \"#90d595\", \"#e48381\", \"#aafbff\", \"#f7bb5f\", \"#eafb50\"]\n",
    "# ))\n",
    "# group_lk = g.set_index('name')['group'].to_dict()"
   ]
  },
  {
   "cell_type": "code",
   "execution_count": null,
   "id": "gross-drinking",
   "metadata": {
    "papermill": {
     "duration": 0.170037,
     "end_time": "2021-09-30T12:16:52.306329",
     "exception": false,
     "start_time": "2021-09-30T12:16:52.136292",
     "status": "completed"
    },
    "tags": []
   },
   "outputs": [],
   "source": []
  },
  {
   "cell_type": "code",
   "execution_count": 41,
   "id": "subject-macintosh",
   "metadata": {
    "execution": {
     "iopub.execute_input": "2021-09-30T12:16:52.649680Z",
     "iopub.status.busy": "2021-09-30T12:16:52.648924Z",
     "iopub.status.idle": "2021-09-30T12:16:52.651811Z",
     "shell.execute_reply": "2021-09-30T12:16:52.652479Z"
    },
    "papermill": {
     "duration": 0.177986,
     "end_time": "2021-09-30T12:16:52.652638",
     "exception": false,
     "start_time": "2021-09-30T12:16:52.474652",
     "status": "completed"
    },
    "tags": []
   },
   "outputs": [],
   "source": [
    "# #hide\n",
    "# fig, ax = plt.subplots(figsize=(15, 8))\n",
    "\n",
    "# def draw_barchart(current_day):\n",
    "#     dff = g[g['day'].eq(current_day)].sort_values(by='value', ascending=True).tail(10)\n",
    "#     ax.clear()\n",
    "#     ax.barh(dff['name'], dff['value'], color=[colors[group_lk[x]] for x in dff['name']])\n",
    "#     dx = dff['value'].max() / 200\n",
    "    \n",
    "#     for i, (value, name) in enumerate(zip(dff['value'], dff['name'])):\n",
    "#         ax.text(value-dx, i,     name,           size=14, weight=600, ha='right', va='bottom')\n",
    "#         ax.text(value-dx, i-.25, group_lk[name], size=10, color='#444444', ha='right', va='baseline')\n",
    "#         ax.text(value+dx, i,     f'{value:,.0f}',  size=14, ha='left',  va='center')\n",
    "#     ax.text(1, 0.4, current_day, transform=ax.transAxes, color='#777777', size=46, ha='right', weight=800)\n",
    "#     ax.text(0, 1.06, 'Population (thousands)', transform=ax.transAxes, size=12, color='#777777')\n",
    "#     ax.xaxis.set_major_formatter(ticker.StrMethodFormatter('{x:,.0f}'))\n",
    "#     ax.xaxis.set_ticks_position('top')\n",
    "#     ax.tick_params(axis='x', colors='#777777', labelsize=12)\n",
    "#     ax.set_yticks([])\n",
    "#     ax.margins(0, 0.01)\n",
    "#     ax.grid(which='major', axis='x', linestyle='-')\n",
    "#     ax.set_axisbelow(True)\n",
    "    \n",
    "#     ax.text(0, 1.15, 'Coronavirus',\n",
    "#             transform=ax.transAxes, size=24, weight=600, ha='left', va='top')\n",
    "# #     ax.text(1, 0, 'by @pratapvardhan; credit @jburnmurdoch', transform=ax.transAxes, color='#777777', ha='right',\n",
    "# #             bbox=dict(facecolor='white', alpha=0.8, edgecolor='white'))\n",
    "#     plt.box(False)"
   ]
  },
  {
   "cell_type": "code",
   "execution_count": 42,
   "id": "sexual-wages",
   "metadata": {
    "execution": {
     "iopub.execute_input": "2021-09-30T12:16:53.003296Z",
     "iopub.status.busy": "2021-09-30T12:16:53.002483Z",
     "iopub.status.idle": "2021-09-30T12:16:53.005498Z",
     "shell.execute_reply": "2021-09-30T12:16:53.006169Z"
    },
    "papermill": {
     "duration": 0.180642,
     "end_time": "2021-09-30T12:16:53.006319",
     "exception": false,
     "start_time": "2021-09-30T12:16:52.825677",
     "status": "completed"
    },
    "tags": []
   },
   "outputs": [],
   "source": [
    "# #hide_input\n",
    "# fig, ax = plt.subplots(figsize=(15, 8))\n",
    "# animator = animation.FuncAnimation(fig, draw_barchart, frames=range(g.day.values.min(), g.day.values.max()))\n",
    "# HTML(animator.to_jshtml())\n",
    "# # or use animator.to_html5_video() or animator.save() "
   ]
  },
  {
   "cell_type": "code",
   "execution_count": null,
   "id": "australian-container",
   "metadata": {
    "papermill": {
     "duration": 0.170519,
     "end_time": "2021-09-30T12:16:53.347068",
     "exception": false,
     "start_time": "2021-09-30T12:16:53.176549",
     "status": "completed"
    },
    "tags": []
   },
   "outputs": [],
   "source": []
  },
  {
   "cell_type": "code",
   "execution_count": null,
   "id": "mediterranean-pontiac",
   "metadata": {
    "papermill": {
     "duration": 0.170232,
     "end_time": "2021-09-30T12:16:53.687363",
     "exception": false,
     "start_time": "2021-09-30T12:16:53.517131",
     "status": "completed"
    },
    "tags": []
   },
   "outputs": [],
   "source": []
  },
  {
   "cell_type": "code",
   "execution_count": null,
   "id": "aging-legislature",
   "metadata": {
    "papermill": {
     "duration": 0.166383,
     "end_time": "2021-09-30T12:16:54.021401",
     "exception": false,
     "start_time": "2021-09-30T12:16:53.855018",
     "status": "completed"
    },
    "tags": []
   },
   "outputs": [],
   "source": []
  }
 ],
 "metadata": {
  "kernelspec": {
   "display_name": "Python 3",
   "language": "python",
   "name": "python3"
  },
  "language_info": {
   "codemirror_mode": {
    "name": "ipython",
    "version": 3
   },
   "file_extension": ".py",
   "mimetype": "text/x-python",
   "name": "python",
   "nbconvert_exporter": "python",
   "pygments_lexer": "ipython3",
   "version": "3.6.15"
  },
  "papermill": {
   "duration": 20.670613,
   "end_time": "2021-09-30T12:16:54.500270",
   "environment_variables": {},
   "exception": null,
   "input_path": "2020-03-21-covid19exp.ipynb",
   "output_path": "2020-03-21-covid19exp.ipynb",
   "parameters": {},
   "start_time": "2021-09-30T12:16:33.829657",
   "version": "2.0.0"
  }
 },
 "nbformat": 4,
 "nbformat_minor": 5
}