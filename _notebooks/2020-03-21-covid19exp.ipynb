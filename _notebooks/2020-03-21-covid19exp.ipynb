{
 "cells": [
  {
   "cell_type": "markdown",
   "id": "muslim-click",
   "metadata": {
    "papermill": {
     "duration": 0.036699,
     "end_time": "2021-06-30T12:10:10.270923",
     "exception": false,
     "start_time": "2021-06-30T12:10:10.234224",
     "status": "completed"
    },
    "tags": []
   },
   "source": [
    "# COVID-19 Case Race\n",
    "> A race chart to see rising cases around the world\n",
    "\n",
    "- author: Hargun Oberoi\n",
    "- image: images/covid-overview.png\n",
    "- hide: false\n",
    "- badges: false"
   ]
  },
  {
   "cell_type": "code",
   "execution_count": 1,
   "id": "proof-material",
   "metadata": {
    "execution": {
     "iopub.execute_input": "2021-06-30T12:10:10.358479Z",
     "iopub.status.busy": "2021-06-30T12:10:10.357805Z",
     "iopub.status.idle": "2021-06-30T12:10:10.722750Z",
     "shell.execute_reply": "2021-06-30T12:10:10.722034Z"
    },
    "papermill": {
     "duration": 0.415378,
     "end_time": "2021-06-30T12:10:10.722884",
     "exception": false,
     "start_time": "2021-06-30T12:10:10.307506",
     "status": "completed"
    },
    "tags": []
   },
   "outputs": [],
   "source": [
    "#hide\n",
    "import numpy as np\n",
    "import pandas as pd\n",
    "from jinja2 import Template\n",
    "from IPython.display import HTML"
   ]
  },
  {
   "cell_type": "code",
   "execution_count": 2,
   "id": "developed-terminology",
   "metadata": {
    "execution": {
     "iopub.execute_input": "2021-06-30T12:10:10.796592Z",
     "iopub.status.busy": "2021-06-30T12:10:10.796019Z",
     "iopub.status.idle": "2021-06-30T12:10:10.800300Z",
     "shell.execute_reply": "2021-06-30T12:10:10.799841Z"
    },
    "papermill": {
     "duration": 0.041756,
     "end_time": "2021-06-30T12:10:10.800398",
     "exception": false,
     "start_time": "2021-06-30T12:10:10.758642",
     "status": "completed"
    },
    "tags": []
   },
   "outputs": [],
   "source": [
    "#hide\n",
    "\n",
    "# FETCH\n",
    "base_url = 'https://raw.githubusercontent.com/pratapvardhan/notebooks/master/covid19/'\n",
    "paths = {\n",
    "    'mapping': base_url + 'mapping_countries.csv',\n",
    "    'overview': base_url + 'overview.tpl'\n",
    "}"
   ]
  },
  {
   "cell_type": "code",
   "execution_count": 3,
   "id": "dynamic-saver",
   "metadata": {
    "execution": {
     "iopub.execute_input": "2021-06-30T12:10:10.879292Z",
     "iopub.status.busy": "2021-06-30T12:10:10.878438Z",
     "iopub.status.idle": "2021-06-30T12:10:10.880857Z",
     "shell.execute_reply": "2021-06-30T12:10:10.881282Z"
    },
    "papermill": {
     "duration": 0.048618,
     "end_time": "2021-06-30T12:10:10.881404",
     "exception": false,
     "start_time": "2021-06-30T12:10:10.832786",
     "status": "completed"
    },
    "tags": []
   },
   "outputs": [
    {
     "data": {
      "text/plain": [
       "'https://raw.githubusercontent.com/pratapvardhan/notebooks/master/covid19/mapping_countries.csv'"
      ]
     },
     "execution_count": 3,
     "metadata": {},
     "output_type": "execute_result"
    }
   ],
   "source": [
    "#hide\n",
    "paths['mapping']"
   ]
  },
  {
   "cell_type": "code",
   "execution_count": 4,
   "id": "urban-software",
   "metadata": {
    "execution": {
     "iopub.execute_input": "2021-06-30T12:10:10.954325Z",
     "iopub.status.busy": "2021-06-30T12:10:10.953769Z",
     "iopub.status.idle": "2021-06-30T12:10:10.956503Z",
     "shell.execute_reply": "2021-06-30T12:10:10.956098Z"
    },
    "papermill": {
     "duration": 0.041885,
     "end_time": "2021-06-30T12:10:10.956600",
     "exception": false,
     "start_time": "2021-06-30T12:10:10.914715",
     "status": "completed"
    },
    "tags": []
   },
   "outputs": [],
   "source": [
    "#hide\n",
    "def get_mappings(url):\n",
    "    df = pd.read_csv(url)\n",
    "    return {\n",
    "        'df': df,\n",
    "        'replace.country': dict(df.dropna(subset=['Name']).set_index('Country')['Name']),\n",
    "        'map.continent': dict(df.set_index('Name')['Continent'])\n",
    "    }"
   ]
  },
  {
   "cell_type": "code",
   "execution_count": 5,
   "id": "intimate-machinery",
   "metadata": {
    "execution": {
     "iopub.execute_input": "2021-06-30T12:10:11.032061Z",
     "iopub.status.busy": "2021-06-30T12:10:11.031538Z",
     "iopub.status.idle": "2021-06-30T12:10:11.098636Z",
     "shell.execute_reply": "2021-06-30T12:10:11.097994Z"
    },
    "papermill": {
     "duration": 0.108306,
     "end_time": "2021-06-30T12:10:11.098790",
     "exception": false,
     "start_time": "2021-06-30T12:10:10.990484",
     "status": "completed"
    },
    "tags": []
   },
   "outputs": [],
   "source": [
    "#hide\n",
    "mapping = get_mappings(paths['mapping'])"
   ]
  },
  {
   "cell_type": "code",
   "execution_count": 6,
   "id": "certified-tactics",
   "metadata": {
    "execution": {
     "iopub.execute_input": "2021-06-30T12:10:11.173407Z",
     "iopub.status.busy": "2021-06-30T12:10:11.172724Z",
     "iopub.status.idle": "2021-06-30T12:10:11.175152Z",
     "shell.execute_reply": "2021-06-30T12:10:11.174629Z"
    },
    "papermill": {
     "duration": 0.041471,
     "end_time": "2021-06-30T12:10:11.175268",
     "exception": false,
     "start_time": "2021-06-30T12:10:11.133797",
     "status": "completed"
    },
    "tags": []
   },
   "outputs": [],
   "source": [
    "#hide\n",
    "def get_template(path):\n",
    "    from urllib.parse import urlparse\n",
    "    if bool(urlparse(path).netloc):\n",
    "        from urllib.request import urlopen\n",
    "        return urlopen(path).read().decode('utf8')\n",
    "    return open(path).read()"
   ]
  },
  {
   "cell_type": "code",
   "execution_count": 7,
   "id": "realistic-blast",
   "metadata": {
    "execution": {
     "iopub.execute_input": "2021-06-30T12:10:11.249641Z",
     "iopub.status.busy": "2021-06-30T12:10:11.248906Z",
     "iopub.status.idle": "2021-06-30T12:10:11.251656Z",
     "shell.execute_reply": "2021-06-30T12:10:11.252324Z"
    },
    "papermill": {
     "duration": 0.040505,
     "end_time": "2021-06-30T12:10:11.252501",
     "exception": false,
     "start_time": "2021-06-30T12:10:11.211996",
     "status": "completed"
    },
    "tags": []
   },
   "outputs": [],
   "source": [
    "#hide\n",
    "def get_frame(name):\n",
    "    url = (\n",
    "        'https://raw.githubusercontent.com/CSSEGISandData/COVID-19/master/csse_covid_19_data/'\n",
    "        f'csse_covid_19_time_series/time_series_covid19_{name}_global.csv')\n",
    "    df = pd.read_csv(url)\n",
    "    # rename countries\n",
    "    df['Country/Region'] = df['Country/Region'].replace(mapping['replace.country'])\n",
    "    return df"
   ]
  },
  {
   "cell_type": "code",
   "execution_count": 8,
   "id": "affiliated-characterization",
   "metadata": {
    "execution": {
     "iopub.execute_input": "2021-06-30T12:10:11.325595Z",
     "iopub.status.busy": "2021-06-30T12:10:11.325018Z",
     "iopub.status.idle": "2021-06-30T12:10:11.327291Z",
     "shell.execute_reply": "2021-06-30T12:10:11.327777Z"
    },
    "papermill": {
     "duration": 0.042921,
     "end_time": "2021-06-30T12:10:11.327889",
     "exception": false,
     "start_time": "2021-06-30T12:10:11.284968",
     "status": "completed"
    },
    "tags": []
   },
   "outputs": [],
   "source": [
    "#hide\n",
    "def get_dates(df):\n",
    "    dt_cols = df.columns[~df.columns.isin(['Province/State', 'Country/Region', 'Lat', 'Long'])]\n",
    "    LAST_DATE_I = -1\n",
    "    # sometimes last column may be empty, then go backwards\n",
    "    for i in range(-1, -len(dt_cols), -1):\n",
    "        if not df[dt_cols[i]].fillna(0).eq(0).all():\n",
    "            LAST_DATE_I = i\n",
    "            break\n",
    "    return LAST_DATE_I, dt_cols"
   ]
  },
  {
   "cell_type": "code",
   "execution_count": 9,
   "id": "recent-optimization",
   "metadata": {
    "execution": {
     "iopub.execute_input": "2021-06-30T12:10:11.402655Z",
     "iopub.status.busy": "2021-06-30T12:10:11.401700Z",
     "iopub.status.idle": "2021-06-30T12:10:11.977577Z",
     "shell.execute_reply": "2021-06-30T12:10:11.977095Z"
    },
    "papermill": {
     "duration": 0.61369,
     "end_time": "2021-06-30T12:10:11.977717",
     "exception": false,
     "start_time": "2021-06-30T12:10:11.364027",
     "status": "completed"
    },
    "tags": []
   },
   "outputs": [],
   "source": [
    "#hide\n",
    "COL_REGION = 'Country/Region'\n",
    "# Confirmed, Recovered, Deaths\n",
    "df = get_frame('confirmed')\n",
    "# dft_: timeseries, dfc_: today country agg\n",
    "dft_cases = df\n",
    "dft_deaths = get_frame('deaths')\n",
    "dft_recovered = get_frame('recovered')\n",
    "LAST_DATE_I, dt_cols = get_dates(df)"
   ]
  },
  {
   "cell_type": "code",
   "execution_count": 10,
   "id": "absolute-copper",
   "metadata": {
    "execution": {
     "iopub.execute_input": "2021-06-30T12:10:12.051769Z",
     "iopub.status.busy": "2021-06-30T12:10:12.051060Z",
     "iopub.status.idle": "2021-06-30T12:10:12.053924Z",
     "shell.execute_reply": "2021-06-30T12:10:12.053464Z"
    },
    "papermill": {
     "duration": 0.041735,
     "end_time": "2021-06-30T12:10:12.054052",
     "exception": false,
     "start_time": "2021-06-30T12:10:12.012317",
     "status": "completed"
    },
    "tags": []
   },
   "outputs": [],
   "source": [
    "#hide\n",
    "LAST_DATE_I, dt_cols = get_dates(df)\n",
    "dt_today =dt_cols[LAST_DATE_I]\n",
    "# dt_5day = dt_cols[LAST_DATE_I - 5]\n",
    "dt_yday = dt_cols[LAST_DATE_I - 1]"
   ]
  },
  {
   "cell_type": "code",
   "execution_count": 11,
   "id": "restricted-sheriff",
   "metadata": {
    "execution": {
     "iopub.execute_input": "2021-06-30T12:10:12.125687Z",
     "iopub.status.busy": "2021-06-30T12:10:12.125174Z",
     "iopub.status.idle": "2021-06-30T12:10:12.134391Z",
     "shell.execute_reply": "2021-06-30T12:10:12.133964Z"
    },
    "papermill": {
     "duration": 0.047693,
     "end_time": "2021-06-30T12:10:12.134495",
     "exception": false,
     "start_time": "2021-06-30T12:10:12.086802",
     "status": "completed"
    },
    "tags": []
   },
   "outputs": [],
   "source": [
    "#hide\n",
    "dfc_cases = dft_cases.groupby(COL_REGION)[dt_today].sum()\n",
    "dfc_deaths = dft_deaths.groupby(COL_REGION)[dt_today].sum()\n",
    "# dfp_cases = dft_cases.groupby(COL_REGION)[dt_5day].sum()\n",
    "# dfp_deaths = dft_deaths.groupby(COL_REGION)[dt_5day].sum()\n",
    "dfp_cases = dft_cases.groupby(COL_REGION)[dt_yday].sum()\n",
    "dfp_deaths = dft_deaths.groupby(COL_REGION)[dt_yday].sum()"
   ]
  },
  {
   "cell_type": "code",
   "execution_count": 12,
   "id": "deluxe-hepatitis",
   "metadata": {
    "execution": {
     "iopub.execute_input": "2021-06-30T12:10:12.212179Z",
     "iopub.status.busy": "2021-06-30T12:10:12.211427Z",
     "iopub.status.idle": "2021-06-30T12:10:12.216453Z",
     "shell.execute_reply": "2021-06-30T12:10:12.216006Z"
    },
    "papermill": {
     "duration": 0.048012,
     "end_time": "2021-06-30T12:10:12.216549",
     "exception": false,
     "start_time": "2021-06-30T12:10:12.168537",
     "status": "completed"
    },
    "tags": []
   },
   "outputs": [],
   "source": [
    "#hide\n",
    "df_table = (pd.DataFrame(dict(Cases = dfc_cases, Deaths = dfc_deaths, PCases = dfp_cases, PDeaths = dfp_deaths))\n",
    "            .sort_values(by = ['Cases','Deaths'], ascending = [False, False])\n",
    "            .reset_index())"
   ]
  },
  {
   "cell_type": "code",
   "execution_count": 13,
   "id": "educational-chancellor",
   "metadata": {
    "execution": {
     "iopub.execute_input": "2021-06-30T12:10:12.307919Z",
     "iopub.status.busy": "2021-06-30T12:10:12.307272Z",
     "iopub.status.idle": "2021-06-30T12:10:12.315891Z",
     "shell.execute_reply": "2021-06-30T12:10:12.316456Z"
    },
    "papermill": {
     "duration": 0.063596,
     "end_time": "2021-06-30T12:10:12.316596",
     "exception": false,
     "start_time": "2021-06-30T12:10:12.253000",
     "status": "completed"
    },
    "tags": []
   },
   "outputs": [
    {
     "data": {
      "text/html": [
       "<div>\n",
       "<style scoped>\n",
       "    .dataframe tbody tr th:only-of-type {\n",
       "        vertical-align: middle;\n",
       "    }\n",
       "\n",
       "    .dataframe tbody tr th {\n",
       "        vertical-align: top;\n",
       "    }\n",
       "\n",
       "    .dataframe thead th {\n",
       "        text-align: right;\n",
       "    }\n",
       "</style>\n",
       "<table border=\"1\" class=\"dataframe\">\n",
       "  <thead>\n",
       "    <tr style=\"text-align: right;\">\n",
       "      <th></th>\n",
       "      <th>Country/Region</th>\n",
       "      <th>Cases</th>\n",
       "      <th>Deaths</th>\n",
       "      <th>PCases</th>\n",
       "      <th>PDeaths</th>\n",
       "      <th>Cases (+)</th>\n",
       "      <th>Deaths (+)</th>\n",
       "      <th>Fatality Rate</th>\n",
       "      <th>Continent</th>\n",
       "    </tr>\n",
       "  </thead>\n",
       "  <tbody>\n",
       "    <tr>\n",
       "      <th>0</th>\n",
       "      <td>US</td>\n",
       "      <td>33652098</td>\n",
       "      <td>604474</td>\n",
       "      <td>33640502</td>\n",
       "      <td>604115</td>\n",
       "      <td>11596</td>\n",
       "      <td>359</td>\n",
       "      <td>1.80</td>\n",
       "      <td>North America</td>\n",
       "    </tr>\n",
       "    <tr>\n",
       "      <th>1</th>\n",
       "      <td>India</td>\n",
       "      <td>30362848</td>\n",
       "      <td>398454</td>\n",
       "      <td>30316897</td>\n",
       "      <td>397637</td>\n",
       "      <td>45951</td>\n",
       "      <td>817</td>\n",
       "      <td>1.31</td>\n",
       "      <td>Asia</td>\n",
       "    </tr>\n",
       "    <tr>\n",
       "      <th>2</th>\n",
       "      <td>Brazil</td>\n",
       "      <td>18513305</td>\n",
       "      <td>515985</td>\n",
       "      <td>18448402</td>\n",
       "      <td>514092</td>\n",
       "      <td>64903</td>\n",
       "      <td>1893</td>\n",
       "      <td>2.79</td>\n",
       "      <td>South America</td>\n",
       "    </tr>\n",
       "    <tr>\n",
       "      <th>3</th>\n",
       "      <td>France</td>\n",
       "      <td>5835885</td>\n",
       "      <td>111230</td>\n",
       "      <td>5832490</td>\n",
       "      <td>111174</td>\n",
       "      <td>3395</td>\n",
       "      <td>56</td>\n",
       "      <td>1.91</td>\n",
       "      <td>Europe</td>\n",
       "    </tr>\n",
       "    <tr>\n",
       "      <th>4</th>\n",
       "      <td>Russia</td>\n",
       "      <td>5428961</td>\n",
       "      <td>132314</td>\n",
       "      <td>5408744</td>\n",
       "      <td>131671</td>\n",
       "      <td>20217</td>\n",
       "      <td>643</td>\n",
       "      <td>2.44</td>\n",
       "      <td>Europe</td>\n",
       "    </tr>\n",
       "  </tbody>\n",
       "</table>\n",
       "</div>"
      ],
      "text/plain": [
       "  Country/Region     Cases  Deaths    PCases  PDeaths  Cases (+)  Deaths (+)  \\\n",
       "0             US  33652098  604474  33640502   604115      11596         359   \n",
       "1          India  30362848  398454  30316897   397637      45951         817   \n",
       "2         Brazil  18513305  515985  18448402   514092      64903        1893   \n",
       "3         France   5835885  111230   5832490   111174       3395          56   \n",
       "4         Russia   5428961  132314   5408744   131671      20217         643   \n",
       "\n",
       "   Fatality Rate      Continent  \n",
       "0           1.80  North America  \n",
       "1           1.31           Asia  \n",
       "2           2.79  South America  \n",
       "3           1.91         Europe  \n",
       "4           2.44         Europe  "
      ]
     },
     "execution_count": 13,
     "metadata": {},
     "output_type": "execute_result"
    }
   ],
   "source": [
    "#hide\n",
    "for c in 'Cases, Deaths'.split(', '):\n",
    "    df_table[f'{c} (+)'] = (df_table[c] - df_table[f'P{c}']).clip(0)\n",
    "    #Clip ça veut dire, les chiffres negatif sont interdit\n",
    "df_table['Fatality Rate'] = (100* df_table['Deaths']/ df_table['Cases']).round(2)\n",
    "df_table['Continent'] = df_table['Country/Region'].map(mapping['map.continent'])\n",
    "df_table.head(5)"
   ]
  },
  {
   "cell_type": "code",
   "execution_count": 14,
   "id": "aboriginal-bulgaria",
   "metadata": {
    "execution": {
     "iopub.execute_input": "2021-06-30T12:10:12.391548Z",
     "iopub.status.busy": "2021-06-30T12:10:12.391010Z",
     "iopub.status.idle": "2021-06-30T12:10:12.394389Z",
     "shell.execute_reply": "2021-06-30T12:10:12.394827Z"
    },
    "papermill": {
     "duration": 0.041073,
     "end_time": "2021-06-30T12:10:12.394936",
     "exception": false,
     "start_time": "2021-06-30T12:10:12.353863",
     "status": "completed"
    },
    "tags": []
   },
   "outputs": [],
   "source": [
    "#hide\n",
    "#delete problematic countries from table\n",
    "df_table = df_table[~df_table['Country/Region'].isin(['Cape Verde', 'Cruise Ship', 'Kosovo'])]"
   ]
  },
  {
   "cell_type": "code",
   "execution_count": 15,
   "id": "fantastic-effect",
   "metadata": {
    "execution": {
     "iopub.execute_input": "2021-06-30T12:10:12.470405Z",
     "iopub.status.busy": "2021-06-30T12:10:12.469862Z",
     "iopub.status.idle": "2021-06-30T12:10:12.488178Z",
     "shell.execute_reply": "2021-06-30T12:10:12.488593Z"
    },
    "papermill": {
     "duration": 0.058452,
     "end_time": "2021-06-30T12:10:12.488706",
     "exception": false,
     "start_time": "2021-06-30T12:10:12.430254",
     "status": "completed"
    },
    "tags": []
   },
   "outputs": [
    {
     "data": {
      "text/html": [
       "<div>\n",
       "<style scoped>\n",
       "    .dataframe tbody tr th:only-of-type {\n",
       "        vertical-align: middle;\n",
       "    }\n",
       "\n",
       "    .dataframe tbody tr th {\n",
       "        vertical-align: top;\n",
       "    }\n",
       "\n",
       "    .dataframe thead th {\n",
       "        text-align: right;\n",
       "    }\n",
       "</style>\n",
       "<table border=\"1\" class=\"dataframe\">\n",
       "  <thead>\n",
       "    <tr style=\"text-align: right;\">\n",
       "      <th></th>\n",
       "      <th>Country/Region</th>\n",
       "      <th>Cases</th>\n",
       "      <th>Deaths</th>\n",
       "      <th>PCases</th>\n",
       "      <th>PDeaths</th>\n",
       "      <th>Cases (+)</th>\n",
       "      <th>Deaths (+)</th>\n",
       "      <th>Fatality Rate</th>\n",
       "      <th>Continent</th>\n",
       "    </tr>\n",
       "  </thead>\n",
       "  <tbody>\n",
       "    <tr>\n",
       "      <th>0</th>\n",
       "      <td>US</td>\n",
       "      <td>33652098</td>\n",
       "      <td>604474</td>\n",
       "      <td>33640502</td>\n",
       "      <td>604115</td>\n",
       "      <td>11596</td>\n",
       "      <td>359</td>\n",
       "      <td>1.8</td>\n",
       "      <td>North America</td>\n",
       "    </tr>\n",
       "    <tr>\n",
       "      <th>1</th>\n",
       "      <td>India</td>\n",
       "      <td>30362848</td>\n",
       "      <td>398454</td>\n",
       "      <td>30316897</td>\n",
       "      <td>397637</td>\n",
       "      <td>45951</td>\n",
       "      <td>817</td>\n",
       "      <td>1.3</td>\n",
       "      <td>Asia</td>\n",
       "    </tr>\n",
       "    <tr>\n",
       "      <th>2</th>\n",
       "      <td>Brazil</td>\n",
       "      <td>18513305</td>\n",
       "      <td>515985</td>\n",
       "      <td>18448402</td>\n",
       "      <td>514092</td>\n",
       "      <td>64903</td>\n",
       "      <td>1893</td>\n",
       "      <td>2.8</td>\n",
       "      <td>South America</td>\n",
       "    </tr>\n",
       "    <tr>\n",
       "      <th>3</th>\n",
       "      <td>France</td>\n",
       "      <td>5835885</td>\n",
       "      <td>111230</td>\n",
       "      <td>5832490</td>\n",
       "      <td>111174</td>\n",
       "      <td>3395</td>\n",
       "      <td>56</td>\n",
       "      <td>1.9</td>\n",
       "      <td>Europe</td>\n",
       "    </tr>\n",
       "    <tr>\n",
       "      <th>4</th>\n",
       "      <td>Russia</td>\n",
       "      <td>5428961</td>\n",
       "      <td>132314</td>\n",
       "      <td>5408744</td>\n",
       "      <td>131671</td>\n",
       "      <td>20217</td>\n",
       "      <td>643</td>\n",
       "      <td>2.4</td>\n",
       "      <td>Europe</td>\n",
       "    </tr>\n",
       "  </tbody>\n",
       "</table>\n",
       "</div>"
      ],
      "text/plain": [
       "  Country/Region     Cases  Deaths    PCases  PDeaths  Cases (+)  Deaths (+)  \\\n",
       "0             US  33652098  604474  33640502   604115      11596         359   \n",
       "1          India  30362848  398454  30316897   397637      45951         817   \n",
       "2         Brazil  18513305  515985  18448402   514092      64903        1893   \n",
       "3         France   5835885  111230   5832490   111174       3395          56   \n",
       "4         Russia   5428961  132314   5408744   131671      20217         643   \n",
       "\n",
       "   Fatality Rate      Continent  \n",
       "0            1.8  North America  \n",
       "1            1.3           Asia  \n",
       "2            2.8  South America  \n",
       "3            1.9         Europe  \n",
       "4            2.4         Europe  "
      ]
     },
     "execution_count": 15,
     "metadata": {},
     "output_type": "execute_result"
    }
   ],
   "source": [
    "#hide\n",
    "df_table = (pd.DataFrame(dict(Cases=dfc_cases, Deaths=dfc_deaths, PCases=dfp_cases, PDeaths=dfp_deaths))\n",
    "             .sort_values(by=['Cases', 'Deaths'], ascending=[False, False])\n",
    "             .reset_index())\n",
    "df_table.rename(columns={'index': 'Country/Region'}, inplace=True)\n",
    "for c in 'Cases, Deaths'.split(', '):\n",
    "    df_table[f'{c} (+)'] = (df_table[c] - df_table[f'P{c}']).clip(0)  # DATA BUG\n",
    "df_table['Fatality Rate'] = (100 * df_table['Deaths'] / df_table['Cases']).round(1)\n",
    "df_table['Continent'] = df_table['Country/Region'].map(mapping['map.continent'])\n",
    "df_table.head(5)"
   ]
  },
  {
   "cell_type": "code",
   "execution_count": 16,
   "id": "fewer-occasion",
   "metadata": {
    "execution": {
     "iopub.execute_input": "2021-06-30T12:10:12.568659Z",
     "iopub.status.busy": "2021-06-30T12:10:12.567989Z",
     "iopub.status.idle": "2021-06-30T12:10:12.570234Z",
     "shell.execute_reply": "2021-06-30T12:10:12.570704Z"
    },
    "papermill": {
     "duration": 0.043754,
     "end_time": "2021-06-30T12:10:12.570818",
     "exception": false,
     "start_time": "2021-06-30T12:10:12.527064",
     "status": "completed"
    },
    "tags": []
   },
   "outputs": [],
   "source": [
    "#hide\n",
    "#delete problematic countries from table\n",
    "df_table = df_table[~df_table['Country/Region'].isin(['Cape Verde', 'Cruise Ship', 'Kosovo'])]"
   ]
  },
  {
   "cell_type": "code",
   "execution_count": 17,
   "id": "related-center",
   "metadata": {
    "execution": {
     "iopub.execute_input": "2021-06-30T12:10:12.656523Z",
     "iopub.status.busy": "2021-06-30T12:10:12.655625Z",
     "iopub.status.idle": "2021-06-30T12:10:12.667471Z",
     "shell.execute_reply": "2021-06-30T12:10:12.666857Z"
    },
    "papermill": {
     "duration": 0.059577,
     "end_time": "2021-06-30T12:10:12.667593",
     "exception": false,
     "start_time": "2021-06-30T12:10:12.608016",
     "status": "completed"
    },
    "tags": []
   },
   "outputs": [],
   "source": [
    "#hide\n",
    "metrics = [df_table.columns[index] for index in [1,2,5,6]]\n",
    "# s_china = df_table[df_table['Country/Region'].eq('China')][metrics].sum().add_prefix('China ')\n",
    "s_us = df_table[df_table['Country/Region'].eq('US')][metrics].sum().add_prefix('US ')\n",
    "s_eu = df_table[df_table['Continent'].eq('Europe')][metrics].sum().add_prefix('EU ')\n",
    "s_ind = df_table[df_table['Country/Region'].eq('India')][metrics].sum().add_prefix('India ')\n",
    "summary = {'updated': pd.to_datetime(dt_today), 'since': pd.to_datetime(dt_yday)}\n",
    "summary = {'updated': pd.to_datetime(dt_today), 'since': pd.to_datetime(dt_yday)}\n",
    "summary = {**summary, **df_table[metrics].sum(), **s_ind, **s_us, **s_eu}"
   ]
  },
  {
   "cell_type": "code",
   "execution_count": 18,
   "id": "engaging-syndrome",
   "metadata": {
    "execution": {
     "iopub.execute_input": "2021-06-30T12:10:12.748097Z",
     "iopub.status.busy": "2021-06-30T12:10:12.747520Z",
     "iopub.status.idle": "2021-06-30T12:10:12.763488Z",
     "shell.execute_reply": "2021-06-30T12:10:12.763048Z"
    },
    "papermill": {
     "duration": 0.056282,
     "end_time": "2021-06-30T12:10:12.763594",
     "exception": false,
     "start_time": "2021-06-30T12:10:12.707312",
     "status": "completed"
    },
    "tags": []
   },
   "outputs": [],
   "source": [
    "#hide\n",
    "dft_ct_new_cases = dft_cases.groupby(COL_REGION)[dt_cols].sum().diff(axis=1).fillna(0).astype(int)"
   ]
  },
  {
   "cell_type": "code",
   "execution_count": 19,
   "id": "neutral-assignment",
   "metadata": {
    "execution": {
     "iopub.execute_input": "2021-06-30T12:10:12.840641Z",
     "iopub.status.busy": "2021-06-30T12:10:12.839945Z",
     "iopub.status.idle": "2021-06-30T12:10:12.844608Z",
     "shell.execute_reply": "2021-06-30T12:10:12.844090Z"
    },
    "papermill": {
     "duration": 0.045351,
     "end_time": "2021-06-30T12:10:12.844710",
     "exception": false,
     "start_time": "2021-06-30T12:10:12.799359",
     "status": "completed"
    },
    "tags": []
   },
   "outputs": [],
   "source": [
    "#hide\n",
    "everydaycases = dft_ct_new_cases.cumsum(axis=1)"
   ]
  },
  {
   "cell_type": "code",
   "execution_count": 20,
   "id": "parliamentary-calgary",
   "metadata": {
    "execution": {
     "iopub.execute_input": "2021-06-30T12:10:12.919114Z",
     "iopub.status.busy": "2021-06-30T12:10:12.918413Z",
     "iopub.status.idle": "2021-06-30T12:10:13.466889Z",
     "shell.execute_reply": "2021-06-30T12:10:13.466406Z"
    },
    "papermill": {
     "duration": 0.584993,
     "end_time": "2021-06-30T12:10:13.467014",
     "exception": false,
     "start_time": "2021-06-30T12:10:12.882021",
     "status": "completed"
    },
    "tags": []
   },
   "outputs": [],
   "source": [
    "#hide\n",
    "import pandas as pd\n",
    "import matplotlib.pyplot as plt\n",
    "import matplotlib.ticker as ticker\n",
    "import matplotlib.animation as animation\n",
    "from IPython.display import HTML"
   ]
  },
  {
   "cell_type": "code",
   "execution_count": 21,
   "id": "lasting-extraction",
   "metadata": {
    "execution": {
     "iopub.execute_input": "2021-06-30T12:10:13.543612Z",
     "iopub.status.busy": "2021-06-30T12:10:13.543029Z",
     "iopub.status.idle": "2021-06-30T12:10:13.548351Z",
     "shell.execute_reply": "2021-06-30T12:10:13.547836Z"
    },
    "papermill": {
     "duration": 0.047041,
     "end_time": "2021-06-30T12:10:13.548451",
     "exception": false,
     "start_time": "2021-06-30T12:10:13.501410",
     "status": "completed"
    },
    "tags": []
   },
   "outputs": [],
   "source": [
    "#hide\n",
    "t = everydaycases.stack()"
   ]
  },
  {
   "cell_type": "code",
   "execution_count": 22,
   "id": "premier-sleeve",
   "metadata": {
    "execution": {
     "iopub.execute_input": "2021-06-30T12:10:13.620743Z",
     "iopub.status.busy": "2021-06-30T12:10:13.620200Z",
     "iopub.status.idle": "2021-06-30T12:10:13.629217Z",
     "shell.execute_reply": "2021-06-30T12:10:13.628750Z"
    },
    "papermill": {
     "duration": 0.047125,
     "end_time": "2021-06-30T12:10:13.629322",
     "exception": false,
     "start_time": "2021-06-30T12:10:13.582197",
     "status": "completed"
    },
    "tags": []
   },
   "outputs": [],
   "source": [
    "#hide\n",
    "g = t.reset_index(['Country/Region'])"
   ]
  },
  {
   "cell_type": "code",
   "execution_count": 23,
   "id": "distributed-pittsburgh",
   "metadata": {
    "execution": {
     "iopub.execute_input": "2021-06-30T12:10:13.709134Z",
     "iopub.status.busy": "2021-06-30T12:10:13.707821Z",
     "iopub.status.idle": "2021-06-30T12:10:13.710154Z",
     "shell.execute_reply": "2021-06-30T12:10:13.710729Z"
    },
    "papermill": {
     "duration": 0.045421,
     "end_time": "2021-06-30T12:10:13.710851",
     "exception": false,
     "start_time": "2021-06-30T12:10:13.665430",
     "status": "completed"
    },
    "tags": []
   },
   "outputs": [],
   "source": [
    "#hide\n",
    "g.index.name = 'date'"
   ]
  },
  {
   "cell_type": "code",
   "execution_count": 24,
   "id": "naked-donor",
   "metadata": {
    "execution": {
     "iopub.execute_input": "2021-06-30T12:10:13.789292Z",
     "iopub.status.busy": "2021-06-30T12:10:13.788724Z",
     "iopub.status.idle": "2021-06-30T12:10:13.790548Z",
     "shell.execute_reply": "2021-06-30T12:10:13.791052Z"
    },
    "papermill": {
     "duration": 0.045397,
     "end_time": "2021-06-30T12:10:13.791180",
     "exception": false,
     "start_time": "2021-06-30T12:10:13.745783",
     "status": "completed"
    },
    "tags": []
   },
   "outputs": [],
   "source": [
    "# #hide\n",
    "# g = g.reset_index(['date'])"
   ]
  },
  {
   "cell_type": "code",
   "execution_count": 25,
   "id": "incomplete-mustang",
   "metadata": {
    "execution": {
     "iopub.execute_input": "2021-06-30T12:10:13.871225Z",
     "iopub.status.busy": "2021-06-30T12:10:13.870485Z",
     "iopub.status.idle": "2021-06-30T12:10:13.873130Z",
     "shell.execute_reply": "2021-06-30T12:10:13.872627Z"
    },
    "papermill": {
     "duration": 0.044415,
     "end_time": "2021-06-30T12:10:13.873241",
     "exception": false,
     "start_time": "2021-06-30T12:10:13.828826",
     "status": "completed"
    },
    "tags": []
   },
   "outputs": [],
   "source": [
    "#hide\n",
    "# g.head()"
   ]
  },
  {
   "cell_type": "code",
   "execution_count": 26,
   "id": "specific-kruger",
   "metadata": {
    "execution": {
     "iopub.execute_input": "2021-06-30T12:10:13.952505Z",
     "iopub.status.busy": "2021-06-30T12:10:13.951848Z",
     "iopub.status.idle": "2021-06-30T12:10:13.953659Z",
     "shell.execute_reply": "2021-06-30T12:10:13.954244Z"
    },
    "papermill": {
     "duration": 0.045847,
     "end_time": "2021-06-30T12:10:13.954366",
     "exception": false,
     "start_time": "2021-06-30T12:10:13.908519",
     "status": "completed"
    },
    "tags": []
   },
   "outputs": [],
   "source": [
    "#hide\n",
    "# g.columns = ['date','country','cases']"
   ]
  },
  {
   "cell_type": "code",
   "execution_count": 27,
   "id": "tender-conversion",
   "metadata": {
    "execution": {
     "iopub.execute_input": "2021-06-30T12:10:14.031435Z",
     "iopub.status.busy": "2021-06-30T12:10:14.030887Z",
     "iopub.status.idle": "2021-06-30T12:10:14.032708Z",
     "shell.execute_reply": "2021-06-30T12:10:14.033148Z"
    },
    "papermill": {
     "duration": 0.042685,
     "end_time": "2021-06-30T12:10:14.033282",
     "exception": false,
     "start_time": "2021-06-30T12:10:13.990597",
     "status": "completed"
    },
    "tags": []
   },
   "outputs": [],
   "source": [
    "#hide\n",
    "# g['continent'] = g.country"
   ]
  },
  {
   "cell_type": "code",
   "execution_count": 28,
   "id": "substantial-wilderness",
   "metadata": {
    "execution": {
     "iopub.execute_input": "2021-06-30T12:10:14.113256Z",
     "iopub.status.busy": "2021-06-30T12:10:14.112642Z",
     "iopub.status.idle": "2021-06-30T12:10:14.114693Z",
     "shell.execute_reply": "2021-06-30T12:10:14.115178Z"
    },
    "papermill": {
     "duration": 0.041678,
     "end_time": "2021-06-30T12:10:14.115311",
     "exception": false,
     "start_time": "2021-06-30T12:10:14.073633",
     "status": "completed"
    },
    "tags": []
   },
   "outputs": [],
   "source": [
    "#hide\n",
    "# cols = list(g.columns.values)"
   ]
  },
  {
   "cell_type": "code",
   "execution_count": 29,
   "id": "solved-farming",
   "metadata": {
    "execution": {
     "iopub.execute_input": "2021-06-30T12:10:14.196750Z",
     "iopub.status.busy": "2021-06-30T12:10:14.196176Z",
     "iopub.status.idle": "2021-06-30T12:10:14.198185Z",
     "shell.execute_reply": "2021-06-30T12:10:14.198693Z"
    },
    "papermill": {
     "duration": 0.043876,
     "end_time": "2021-06-30T12:10:14.198813",
     "exception": false,
     "start_time": "2021-06-30T12:10:14.154937",
     "status": "completed"
    },
    "tags": []
   },
   "outputs": [],
   "source": [
    "#hide\n",
    "# cols.insert(0, cols.pop())"
   ]
  },
  {
   "cell_type": "code",
   "execution_count": 30,
   "id": "executed-adoption",
   "metadata": {
    "execution": {
     "iopub.execute_input": "2021-06-30T12:10:14.274242Z",
     "iopub.status.busy": "2021-06-30T12:10:14.273594Z",
     "iopub.status.idle": "2021-06-30T12:10:14.275804Z",
     "shell.execute_reply": "2021-06-30T12:10:14.276247Z"
    },
    "papermill": {
     "duration": 0.041853,
     "end_time": "2021-06-30T12:10:14.276356",
     "exception": false,
     "start_time": "2021-06-30T12:10:14.234503",
     "status": "completed"
    },
    "tags": []
   },
   "outputs": [],
   "source": [
    "#hide\n",
    "# g = g[cols]"
   ]
  },
  {
   "cell_type": "code",
   "execution_count": 31,
   "id": "subject-dublin",
   "metadata": {
    "execution": {
     "iopub.execute_input": "2021-06-30T12:10:14.350801Z",
     "iopub.status.busy": "2021-06-30T12:10:14.350235Z",
     "iopub.status.idle": "2021-06-30T12:10:14.353165Z",
     "shell.execute_reply": "2021-06-30T12:10:14.352093Z"
    },
    "papermill": {
     "duration": 0.041257,
     "end_time": "2021-06-30T12:10:14.353331",
     "exception": false,
     "start_time": "2021-06-30T12:10:14.312074",
     "status": "completed"
    },
    "tags": []
   },
   "outputs": [],
   "source": [
    "#hide\n",
    "# g['continent'] = g['continent'].map(mapping['map.continent'])"
   ]
  },
  {
   "cell_type": "code",
   "execution_count": 32,
   "id": "freelance-scout",
   "metadata": {
    "execution": {
     "iopub.execute_input": "2021-06-30T12:10:14.425413Z",
     "iopub.status.busy": "2021-06-30T12:10:14.424905Z",
     "iopub.status.idle": "2021-06-30T12:10:14.426668Z",
     "shell.execute_reply": "2021-06-30T12:10:14.427157Z"
    },
    "papermill": {
     "duration": 0.037915,
     "end_time": "2021-06-30T12:10:14.427263",
     "exception": false,
     "start_time": "2021-06-30T12:10:14.389348",
     "status": "completed"
    },
    "tags": []
   },
   "outputs": [],
   "source": [
    "#hide\n",
    "# g.head()"
   ]
  },
  {
   "cell_type": "code",
   "execution_count": 33,
   "id": "limited-engine",
   "metadata": {
    "execution": {
     "iopub.execute_input": "2021-06-30T12:10:14.498918Z",
     "iopub.status.busy": "2021-06-30T12:10:14.498291Z",
     "iopub.status.idle": "2021-06-30T12:10:14.500264Z",
     "shell.execute_reply": "2021-06-30T12:10:14.500795Z"
    },
    "papermill": {
     "duration": 0.041131,
     "end_time": "2021-06-30T12:10:14.500910",
     "exception": false,
     "start_time": "2021-06-30T12:10:14.459779",
     "status": "completed"
    },
    "tags": []
   },
   "outputs": [],
   "source": [
    "# hide\n",
    "# g['date'] = g['date'].astype('datetime64[ns]')"
   ]
  },
  {
   "cell_type": "code",
   "execution_count": 34,
   "id": "sophisticated-supervisor",
   "metadata": {
    "execution": {
     "iopub.execute_input": "2021-06-30T12:10:14.581447Z",
     "iopub.status.busy": "2021-06-30T12:10:14.580869Z",
     "iopub.status.idle": "2021-06-30T12:10:14.583220Z",
     "shell.execute_reply": "2021-06-30T12:10:14.582740Z"
    },
    "papermill": {
     "duration": 0.045086,
     "end_time": "2021-06-30T12:10:14.583330",
     "exception": false,
     "start_time": "2021-06-30T12:10:14.538244",
     "status": "completed"
    },
    "tags": []
   },
   "outputs": [],
   "source": [
    "#hide\n",
    "# g['date'] = g.date.dt.dayofyear"
   ]
  },
  {
   "cell_type": "code",
   "execution_count": 35,
   "id": "inside-dubai",
   "metadata": {
    "execution": {
     "iopub.execute_input": "2021-06-30T12:10:14.671314Z",
     "iopub.status.busy": "2021-06-30T12:10:14.670662Z",
     "iopub.status.idle": "2021-06-30T12:10:14.673147Z",
     "shell.execute_reply": "2021-06-30T12:10:14.672473Z"
    },
    "papermill": {
     "duration": 0.05179,
     "end_time": "2021-06-30T12:10:14.673276",
     "exception": false,
     "start_time": "2021-06-30T12:10:14.621486",
     "status": "completed"
    },
    "tags": []
   },
   "outputs": [],
   "source": [
    "#hide\n",
    "# g = g.rename(columns= {'continent':'group','country':'name','cases':'value'})"
   ]
  },
  {
   "cell_type": "code",
   "execution_count": 36,
   "id": "fleet-motorcycle",
   "metadata": {
    "execution": {
     "iopub.execute_input": "2021-06-30T12:10:14.756539Z",
     "iopub.status.busy": "2021-06-30T12:10:14.755693Z",
     "iopub.status.idle": "2021-06-30T12:10:14.758570Z",
     "shell.execute_reply": "2021-06-30T12:10:14.758060Z"
    },
    "papermill": {
     "duration": 0.044308,
     "end_time": "2021-06-30T12:10:14.758716",
     "exception": false,
     "start_time": "2021-06-30T12:10:14.714408",
     "status": "completed"
    },
    "tags": []
   },
   "outputs": [],
   "source": [
    "#hide\n",
    "# cols = ['name','group','day','value']"
   ]
  },
  {
   "cell_type": "code",
   "execution_count": 37,
   "id": "continued-sleeping",
   "metadata": {
    "execution": {
     "iopub.execute_input": "2021-06-30T12:10:14.834207Z",
     "iopub.status.busy": "2021-06-30T12:10:14.833479Z",
     "iopub.status.idle": "2021-06-30T12:10:14.835861Z",
     "shell.execute_reply": "2021-06-30T12:10:14.835360Z"
    },
    "papermill": {
     "duration": 0.042652,
     "end_time": "2021-06-30T12:10:14.835962",
     "exception": false,
     "start_time": "2021-06-30T12:10:14.793310",
     "status": "completed"
    },
    "tags": []
   },
   "outputs": [],
   "source": [
    "#hide\n",
    "# g.rename(columns= {'date':'day'},inplace = True)"
   ]
  },
  {
   "cell_type": "code",
   "execution_count": 38,
   "id": "major-fight",
   "metadata": {
    "execution": {
     "iopub.execute_input": "2021-06-30T12:10:14.915256Z",
     "iopub.status.busy": "2021-06-30T12:10:14.914709Z",
     "iopub.status.idle": "2021-06-30T12:10:14.919577Z",
     "shell.execute_reply": "2021-06-30T12:10:14.916689Z"
    },
    "papermill": {
     "duration": 0.045534,
     "end_time": "2021-06-30T12:10:14.919782",
     "exception": false,
     "start_time": "2021-06-30T12:10:14.874248",
     "status": "completed"
    },
    "tags": []
   },
   "outputs": [],
   "source": [
    "#hide\n",
    "# g = g[cols]"
   ]
  },
  {
   "cell_type": "code",
   "execution_count": 39,
   "id": "structured-mobile",
   "metadata": {
    "execution": {
     "iopub.execute_input": "2021-06-30T12:10:14.992509Z",
     "iopub.status.busy": "2021-06-30T12:10:14.991988Z",
     "iopub.status.idle": "2021-06-30T12:10:14.994401Z",
     "shell.execute_reply": "2021-06-30T12:10:14.993844Z"
    },
    "papermill": {
     "duration": 0.041105,
     "end_time": "2021-06-30T12:10:14.994496",
     "exception": false,
     "start_time": "2021-06-30T12:10:14.953391",
     "status": "completed"
    },
    "tags": []
   },
   "outputs": [],
   "source": [
    "# #hide\n",
    "# g = g[g.group.notna()]"
   ]
  },
  {
   "cell_type": "code",
   "execution_count": 40,
   "id": "determined-closing",
   "metadata": {
    "execution": {
     "iopub.execute_input": "2021-06-30T12:10:15.080879Z",
     "iopub.status.busy": "2021-06-30T12:10:15.080311Z",
     "iopub.status.idle": "2021-06-30T12:10:15.082787Z",
     "shell.execute_reply": "2021-06-30T12:10:15.082294Z"
    },
    "papermill": {
     "duration": 0.047335,
     "end_time": "2021-06-30T12:10:15.082896",
     "exception": false,
     "start_time": "2021-06-30T12:10:15.035561",
     "status": "completed"
    },
    "tags": []
   },
   "outputs": [],
   "source": [
    "# #hide\n",
    "# colors = dict(zip(\n",
    "#     [\"Oceania\", \"Europe\", \"Asia\", \"South America\", \"Middle East\", \"North America\", \"Africa\"],\n",
    "#     [\"#adb0ff\", \"#ffb3ff\", \"#90d595\", \"#e48381\", \"#aafbff\", \"#f7bb5f\", \"#eafb50\"]\n",
    "# ))\n",
    "# group_lk = g.set_index('name')['group'].to_dict()"
   ]
  },
  {
   "cell_type": "code",
   "execution_count": null,
   "id": "gross-drinking",
   "metadata": {
    "papermill": {
     "duration": 0.033296,
     "end_time": "2021-06-30T12:10:15.149054",
     "exception": false,
     "start_time": "2021-06-30T12:10:15.115758",
     "status": "completed"
    },
    "tags": []
   },
   "outputs": [],
   "source": []
  },
  {
   "cell_type": "code",
   "execution_count": 41,
   "id": "subject-macintosh",
   "metadata": {
    "execution": {
     "iopub.execute_input": "2021-06-30T12:10:15.223511Z",
     "iopub.status.busy": "2021-06-30T12:10:15.222813Z",
     "iopub.status.idle": "2021-06-30T12:10:15.224828Z",
     "shell.execute_reply": "2021-06-30T12:10:15.225456Z"
    },
    "papermill": {
     "duration": 0.041469,
     "end_time": "2021-06-30T12:10:15.225598",
     "exception": false,
     "start_time": "2021-06-30T12:10:15.184129",
     "status": "completed"
    },
    "tags": []
   },
   "outputs": [],
   "source": [
    "# #hide\n",
    "# fig, ax = plt.subplots(figsize=(15, 8))\n",
    "\n",
    "# def draw_barchart(current_day):\n",
    "#     dff = g[g['day'].eq(current_day)].sort_values(by='value', ascending=True).tail(10)\n",
    "#     ax.clear()\n",
    "#     ax.barh(dff['name'], dff['value'], color=[colors[group_lk[x]] for x in dff['name']])\n",
    "#     dx = dff['value'].max() / 200\n",
    "    \n",
    "#     for i, (value, name) in enumerate(zip(dff['value'], dff['name'])):\n",
    "#         ax.text(value-dx, i,     name,           size=14, weight=600, ha='right', va='bottom')\n",
    "#         ax.text(value-dx, i-.25, group_lk[name], size=10, color='#444444', ha='right', va='baseline')\n",
    "#         ax.text(value+dx, i,     f'{value:,.0f}',  size=14, ha='left',  va='center')\n",
    "#     ax.text(1, 0.4, current_day, transform=ax.transAxes, color='#777777', size=46, ha='right', weight=800)\n",
    "#     ax.text(0, 1.06, 'Population (thousands)', transform=ax.transAxes, size=12, color='#777777')\n",
    "#     ax.xaxis.set_major_formatter(ticker.StrMethodFormatter('{x:,.0f}'))\n",
    "#     ax.xaxis.set_ticks_position('top')\n",
    "#     ax.tick_params(axis='x', colors='#777777', labelsize=12)\n",
    "#     ax.set_yticks([])\n",
    "#     ax.margins(0, 0.01)\n",
    "#     ax.grid(which='major', axis='x', linestyle='-')\n",
    "#     ax.set_axisbelow(True)\n",
    "    \n",
    "#     ax.text(0, 1.15, 'Coronavirus',\n",
    "#             transform=ax.transAxes, size=24, weight=600, ha='left', va='top')\n",
    "# #     ax.text(1, 0, 'by @pratapvardhan; credit @jburnmurdoch', transform=ax.transAxes, color='#777777', ha='right',\n",
    "# #             bbox=dict(facecolor='white', alpha=0.8, edgecolor='white'))\n",
    "#     plt.box(False)"
   ]
  },
  {
   "cell_type": "code",
   "execution_count": 42,
   "id": "sexual-wages",
   "metadata": {
    "execution": {
     "iopub.execute_input": "2021-06-30T12:10:15.298304Z",
     "iopub.status.busy": "2021-06-30T12:10:15.297804Z",
     "iopub.status.idle": "2021-06-30T12:10:15.300068Z",
     "shell.execute_reply": "2021-06-30T12:10:15.299643Z"
    },
    "papermill": {
     "duration": 0.038676,
     "end_time": "2021-06-30T12:10:15.300162",
     "exception": false,
     "start_time": "2021-06-30T12:10:15.261486",
     "status": "completed"
    },
    "tags": []
   },
   "outputs": [],
   "source": [
    "# #hide_input\n",
    "# fig, ax = plt.subplots(figsize=(15, 8))\n",
    "# animator = animation.FuncAnimation(fig, draw_barchart, frames=range(g.day.values.min(), g.day.values.max()))\n",
    "# HTML(animator.to_jshtml())\n",
    "# # or use animator.to_html5_video() or animator.save() "
   ]
  },
  {
   "cell_type": "code",
   "execution_count": null,
   "id": "australian-container",
   "metadata": {
    "papermill": {
     "duration": 0.035471,
     "end_time": "2021-06-30T12:10:15.375810",
     "exception": false,
     "start_time": "2021-06-30T12:10:15.340339",
     "status": "completed"
    },
    "tags": []
   },
   "outputs": [],
   "source": []
  },
  {
   "cell_type": "code",
   "execution_count": null,
   "id": "mediterranean-pontiac",
   "metadata": {
    "papermill": {
     "duration": 0.037721,
     "end_time": "2021-06-30T12:10:15.448738",
     "exception": false,
     "start_time": "2021-06-30T12:10:15.411017",
     "status": "completed"
    },
    "tags": []
   },
   "outputs": [],
   "source": []
  },
  {
   "cell_type": "code",
   "execution_count": null,
   "id": "aging-legislature",
   "metadata": {
    "papermill": {
     "duration": 0.0335,
     "end_time": "2021-06-30T12:10:15.515722",
     "exception": false,
     "start_time": "2021-06-30T12:10:15.482222",
     "status": "completed"
    },
    "tags": []
   },
   "outputs": [],
   "source": []
  }
 ],
 "metadata": {
  "kernelspec": {
   "display_name": "Python 3",
   "language": "python",
   "name": "python3"
  },
  "language_info": {
   "codemirror_mode": {
    "name": "ipython",
    "version": 3
   },
   "file_extension": ".py",
   "mimetype": "text/x-python",
   "name": "python",
   "nbconvert_exporter": "python",
   "pygments_lexer": "ipython3",
   "version": "3.6.13"
  },
  "papermill": {
   "duration": 6.850903,
   "end_time": "2021-06-30T12:10:15.856310",
   "environment_variables": {},
   "exception": null,
   "input_path": "2020-03-21-covid19exp.ipynb",
   "output_path": "2020-03-21-covid19exp.ipynb",
   "parameters": {},
   "start_time": "2021-06-30T12:10:09.005407",
   "version": "2.0.0"
  }
 },
 "nbformat": 4,
 "nbformat_minor": 5
}