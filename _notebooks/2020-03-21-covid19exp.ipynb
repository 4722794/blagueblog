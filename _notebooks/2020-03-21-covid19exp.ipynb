{
 "cells": [
  {
   "cell_type": "markdown",
   "id": "muslim-click",
   "metadata": {
    "papermill": {
     "duration": 0.043753,
     "end_time": "2022-06-13T12:17:20.446911",
     "exception": false,
     "start_time": "2022-06-13T12:17:20.403158",
     "status": "completed"
    },
    "tags": []
   },
   "source": [
    "# COVID-19 Case Race\n",
    "> A race chart to see rising cases around the world\n",
    "\n",
    "- author: Hargun Oberoi\n",
    "- image: images/covid-overview.png\n",
    "- hide: false\n",
    "- badges: false"
   ]
  },
  {
   "cell_type": "code",
   "execution_count": 1,
   "id": "proof-material",
   "metadata": {
    "execution": {
     "iopub.execute_input": "2022-06-13T12:17:20.525703Z",
     "iopub.status.busy": "2022-06-13T12:17:20.524391Z",
     "iopub.status.idle": "2022-06-13T12:17:20.901294Z",
     "shell.execute_reply": "2022-06-13T12:17:20.900156Z"
    },
    "papermill": {
     "duration": 0.420625,
     "end_time": "2022-06-13T12:17:20.901465",
     "exception": false,
     "start_time": "2022-06-13T12:17:20.480840",
     "status": "completed"
    },
    "tags": []
   },
   "outputs": [],
   "source": [
    "#hide\n",
    "import numpy as np\n",
    "import pandas as pd\n",
    "from jinja2 import Template\n",
    "from IPython.display import HTML"
   ]
  },
  {
   "cell_type": "code",
   "execution_count": 2,
   "id": "developed-terminology",
   "metadata": {
    "execution": {
     "iopub.execute_input": "2022-06-13T12:17:20.974761Z",
     "iopub.status.busy": "2022-06-13T12:17:20.974020Z",
     "iopub.status.idle": "2022-06-13T12:17:20.976194Z",
     "shell.execute_reply": "2022-06-13T12:17:20.975554Z"
    },
    "papermill": {
     "duration": 0.041296,
     "end_time": "2022-06-13T12:17:20.976320",
     "exception": false,
     "start_time": "2022-06-13T12:17:20.935024",
     "status": "completed"
    },
    "tags": []
   },
   "outputs": [],
   "source": [
    "#hide\n",
    "\n",
    "# FETCH\n",
    "base_url = 'https://raw.githubusercontent.com/pratapvardhan/notebooks/master/covid19/'\n",
    "paths = {\n",
    "    'mapping': base_url + 'mapping_countries.csv',\n",
    "    'overview': base_url + 'overview.tpl'\n",
    "}"
   ]
  },
  {
   "cell_type": "code",
   "execution_count": 3,
   "id": "dynamic-saver",
   "metadata": {
    "execution": {
     "iopub.execute_input": "2022-06-13T12:17:21.047597Z",
     "iopub.status.busy": "2022-06-13T12:17:21.046906Z",
     "iopub.status.idle": "2022-06-13T12:17:21.061809Z",
     "shell.execute_reply": "2022-06-13T12:17:21.061246Z"
    },
    "papermill": {
     "duration": 0.052327,
     "end_time": "2022-06-13T12:17:21.061942",
     "exception": false,
     "start_time": "2022-06-13T12:17:21.009615",
     "status": "completed"
    },
    "tags": []
   },
   "outputs": [
    {
     "data": {
      "text/plain": [
       "'https://raw.githubusercontent.com/pratapvardhan/notebooks/master/covid19/mapping_countries.csv'"
      ]
     },
     "execution_count": 3,
     "metadata": {},
     "output_type": "execute_result"
    }
   ],
   "source": [
    "#hide\n",
    "paths['mapping']"
   ]
  },
  {
   "cell_type": "code",
   "execution_count": 4,
   "id": "urban-software",
   "metadata": {
    "execution": {
     "iopub.execute_input": "2022-06-13T12:17:21.137642Z",
     "iopub.status.busy": "2022-06-13T12:17:21.136947Z",
     "iopub.status.idle": "2022-06-13T12:17:21.139657Z",
     "shell.execute_reply": "2022-06-13T12:17:21.138992Z"
    },
    "papermill": {
     "duration": 0.044175,
     "end_time": "2022-06-13T12:17:21.139787",
     "exception": false,
     "start_time": "2022-06-13T12:17:21.095612",
     "status": "completed"
    },
    "tags": []
   },
   "outputs": [],
   "source": [
    "#hide\n",
    "def get_mappings(url):\n",
    "    df = pd.read_csv(url)\n",
    "    return {\n",
    "        'df': df,\n",
    "        'replace.country': dict(df.dropna(subset=['Name']).set_index('Country')['Name']),\n",
    "        'map.continent': dict(df.set_index('Name')['Continent'])\n",
    "    }"
   ]
  },
  {
   "cell_type": "code",
   "execution_count": 5,
   "id": "intimate-machinery",
   "metadata": {
    "execution": {
     "iopub.execute_input": "2022-06-13T12:17:21.217559Z",
     "iopub.status.busy": "2022-06-13T12:17:21.216871Z",
     "iopub.status.idle": "2022-06-13T12:17:21.251305Z",
     "shell.execute_reply": "2022-06-13T12:17:21.250529Z"
    },
    "papermill": {
     "duration": 0.075609,
     "end_time": "2022-06-13T12:17:21.251476",
     "exception": false,
     "start_time": "2022-06-13T12:17:21.175867",
     "status": "completed"
    },
    "tags": []
   },
   "outputs": [],
   "source": [
    "#hide\n",
    "mapping = get_mappings(paths['mapping'])"
   ]
  },
  {
   "cell_type": "code",
   "execution_count": 6,
   "id": "certified-tactics",
   "metadata": {
    "execution": {
     "iopub.execute_input": "2022-06-13T12:17:21.327750Z",
     "iopub.status.busy": "2022-06-13T12:17:21.327057Z",
     "iopub.status.idle": "2022-06-13T12:17:21.330273Z",
     "shell.execute_reply": "2022-06-13T12:17:21.330848Z"
    },
    "papermill": {
     "duration": 0.044159,
     "end_time": "2022-06-13T12:17:21.331001",
     "exception": false,
     "start_time": "2022-06-13T12:17:21.286842",
     "status": "completed"
    },
    "tags": []
   },
   "outputs": [],
   "source": [
    "#hide\n",
    "def get_template(path):\n",
    "    from urllib.parse import urlparse\n",
    "    if bool(urlparse(path).netloc):\n",
    "        from urllib.request import urlopen\n",
    "        return urlopen(path).read().decode('utf8')\n",
    "    return open(path).read()"
   ]
  },
  {
   "cell_type": "code",
   "execution_count": 7,
   "id": "realistic-blast",
   "metadata": {
    "execution": {
     "iopub.execute_input": "2022-06-13T12:17:21.403985Z",
     "iopub.status.busy": "2022-06-13T12:17:21.403269Z",
     "iopub.status.idle": "2022-06-13T12:17:21.406067Z",
     "shell.execute_reply": "2022-06-13T12:17:21.405517Z"
    },
    "papermill": {
     "duration": 0.04174,
     "end_time": "2022-06-13T12:17:21.406227",
     "exception": false,
     "start_time": "2022-06-13T12:17:21.364487",
     "status": "completed"
    },
    "tags": []
   },
   "outputs": [],
   "source": [
    "#hide\n",
    "def get_frame(name):\n",
    "    url = (\n",
    "        'https://raw.githubusercontent.com/CSSEGISandData/COVID-19/master/csse_covid_19_data/'\n",
    "        f'csse_covid_19_time_series/time_series_covid19_{name}_global.csv')\n",
    "    df = pd.read_csv(url)\n",
    "    # rename countries\n",
    "    df['Country/Region'] = df['Country/Region'].replace(mapping['replace.country'])\n",
    "    return df"
   ]
  },
  {
   "cell_type": "code",
   "execution_count": 8,
   "id": "affiliated-characterization",
   "metadata": {
    "execution": {
     "iopub.execute_input": "2022-06-13T12:17:21.482810Z",
     "iopub.status.busy": "2022-06-13T12:17:21.482024Z",
     "iopub.status.idle": "2022-06-13T12:17:21.485773Z",
     "shell.execute_reply": "2022-06-13T12:17:21.485217Z"
    },
    "papermill": {
     "duration": 0.046317,
     "end_time": "2022-06-13T12:17:21.485903",
     "exception": false,
     "start_time": "2022-06-13T12:17:21.439586",
     "status": "completed"
    },
    "tags": []
   },
   "outputs": [],
   "source": [
    "#hide\n",
    "def get_dates(df):\n",
    "    dt_cols = df.columns[~df.columns.isin(['Province/State', 'Country/Region', 'Lat', 'Long'])]\n",
    "    LAST_DATE_I = -1\n",
    "    # sometimes last column may be empty, then go backwards\n",
    "    for i in range(-1, -len(dt_cols), -1):\n",
    "        if not df[dt_cols[i]].fillna(0).eq(0).all():\n",
    "            LAST_DATE_I = i\n",
    "            break\n",
    "    return LAST_DATE_I, dt_cols"
   ]
  },
  {
   "cell_type": "code",
   "execution_count": 9,
   "id": "recent-optimization",
   "metadata": {
    "execution": {
     "iopub.execute_input": "2022-06-13T12:17:21.560632Z",
     "iopub.status.busy": "2022-06-13T12:17:21.559907Z",
     "iopub.status.idle": "2022-06-13T12:17:21.991416Z",
     "shell.execute_reply": "2022-06-13T12:17:21.990687Z"
    },
    "papermill": {
     "duration": 0.472215,
     "end_time": "2022-06-13T12:17:21.991555",
     "exception": false,
     "start_time": "2022-06-13T12:17:21.519340",
     "status": "completed"
    },
    "tags": []
   },
   "outputs": [],
   "source": [
    "#hide\n",
    "COL_REGION = 'Country/Region'\n",
    "# Confirmed, Recovered, Deaths\n",
    "df = get_frame('confirmed')\n",
    "# dft_: timeseries, dfc_: today country agg\n",
    "dft_cases = df\n",
    "dft_deaths = get_frame('deaths')\n",
    "dft_recovered = get_frame('recovered')\n",
    "LAST_DATE_I, dt_cols = get_dates(df)"
   ]
  },
  {
   "cell_type": "code",
   "execution_count": 10,
   "id": "absolute-copper",
   "metadata": {
    "execution": {
     "iopub.execute_input": "2022-06-13T12:17:22.066215Z",
     "iopub.status.busy": "2022-06-13T12:17:22.065453Z",
     "iopub.status.idle": "2022-06-13T12:17:22.070096Z",
     "shell.execute_reply": "2022-06-13T12:17:22.070686Z"
    },
    "papermill": {
     "duration": 0.04549,
     "end_time": "2022-06-13T12:17:22.070849",
     "exception": false,
     "start_time": "2022-06-13T12:17:22.025359",
     "status": "completed"
    },
    "tags": []
   },
   "outputs": [],
   "source": [
    "#hide\n",
    "LAST_DATE_I, dt_cols = get_dates(df)\n",
    "dt_today =dt_cols[LAST_DATE_I]\n",
    "# dt_5day = dt_cols[LAST_DATE_I - 5]\n",
    "dt_yday = dt_cols[LAST_DATE_I - 1]"
   ]
  },
  {
   "cell_type": "code",
   "execution_count": 11,
   "id": "restricted-sheriff",
   "metadata": {
    "execution": {
     "iopub.execute_input": "2022-06-13T12:17:22.146546Z",
     "iopub.status.busy": "2022-06-13T12:17:22.145811Z",
     "iopub.status.idle": "2022-06-13T12:17:22.154437Z",
     "shell.execute_reply": "2022-06-13T12:17:22.153857Z"
    },
    "papermill": {
     "duration": 0.050299,
     "end_time": "2022-06-13T12:17:22.154575",
     "exception": false,
     "start_time": "2022-06-13T12:17:22.104276",
     "status": "completed"
    },
    "tags": []
   },
   "outputs": [],
   "source": [
    "#hide\n",
    "dfc_cases = dft_cases.groupby(COL_REGION)[dt_today].sum()\n",
    "dfc_deaths = dft_deaths.groupby(COL_REGION)[dt_today].sum()\n",
    "# dfp_cases = dft_cases.groupby(COL_REGION)[dt_5day].sum()\n",
    "# dfp_deaths = dft_deaths.groupby(COL_REGION)[dt_5day].sum()\n",
    "dfp_cases = dft_cases.groupby(COL_REGION)[dt_yday].sum()\n",
    "dfp_deaths = dft_deaths.groupby(COL_REGION)[dt_yday].sum()"
   ]
  },
  {
   "cell_type": "code",
   "execution_count": 12,
   "id": "deluxe-hepatitis",
   "metadata": {
    "execution": {
     "iopub.execute_input": "2022-06-13T12:17:22.229108Z",
     "iopub.status.busy": "2022-06-13T12:17:22.228432Z",
     "iopub.status.idle": "2022-06-13T12:17:22.233670Z",
     "shell.execute_reply": "2022-06-13T12:17:22.233123Z"
    },
    "papermill": {
     "duration": 0.045507,
     "end_time": "2022-06-13T12:17:22.233797",
     "exception": false,
     "start_time": "2022-06-13T12:17:22.188290",
     "status": "completed"
    },
    "tags": []
   },
   "outputs": [],
   "source": [
    "#hide\n",
    "df_table = (pd.DataFrame(dict(Cases = dfc_cases, Deaths = dfc_deaths, PCases = dfp_cases, PDeaths = dfp_deaths))\n",
    "            .sort_values(by = ['Cases','Deaths'], ascending = [False, False])\n",
    "            .reset_index())"
   ]
  },
  {
   "cell_type": "code",
   "execution_count": 13,
   "id": "educational-chancellor",
   "metadata": {
    "execution": {
     "iopub.execute_input": "2022-06-13T12:17:22.320042Z",
     "iopub.status.busy": "2022-06-13T12:17:22.319353Z",
     "iopub.status.idle": "2022-06-13T12:17:22.329183Z",
     "shell.execute_reply": "2022-06-13T12:17:22.328630Z"
    },
    "papermill": {
     "duration": 0.062157,
     "end_time": "2022-06-13T12:17:22.329315",
     "exception": false,
     "start_time": "2022-06-13T12:17:22.267158",
     "status": "completed"
    },
    "tags": []
   },
   "outputs": [
    {
     "data": {
      "text/html": [
       "<div>\n",
       "<style scoped>\n",
       "    .dataframe tbody tr th:only-of-type {\n",
       "        vertical-align: middle;\n",
       "    }\n",
       "\n",
       "    .dataframe tbody tr th {\n",
       "        vertical-align: top;\n",
       "    }\n",
       "\n",
       "    .dataframe thead th {\n",
       "        text-align: right;\n",
       "    }\n",
       "</style>\n",
       "<table border=\"1\" class=\"dataframe\">\n",
       "  <thead>\n",
       "    <tr style=\"text-align: right;\">\n",
       "      <th></th>\n",
       "      <th>Country/Region</th>\n",
       "      <th>Cases</th>\n",
       "      <th>Deaths</th>\n",
       "      <th>PCases</th>\n",
       "      <th>PDeaths</th>\n",
       "      <th>Cases (+)</th>\n",
       "      <th>Deaths (+)</th>\n",
       "      <th>Fatality Rate</th>\n",
       "      <th>Continent</th>\n",
       "    </tr>\n",
       "  </thead>\n",
       "  <tbody>\n",
       "    <tr>\n",
       "      <th>0</th>\n",
       "      <td>US</td>\n",
       "      <td>85515795</td>\n",
       "      <td>1011275</td>\n",
       "      <td>85500976</td>\n",
       "      <td>1011260</td>\n",
       "      <td>14819</td>\n",
       "      <td>15</td>\n",
       "      <td>1.18</td>\n",
       "      <td>North America</td>\n",
       "    </tr>\n",
       "    <tr>\n",
       "      <th>1</th>\n",
       "      <td>India</td>\n",
       "      <td>43230101</td>\n",
       "      <td>524771</td>\n",
       "      <td>43222017</td>\n",
       "      <td>524761</td>\n",
       "      <td>8084</td>\n",
       "      <td>10</td>\n",
       "      <td>1.21</td>\n",
       "      <td>Asia</td>\n",
       "    </tr>\n",
       "    <tr>\n",
       "      <th>2</th>\n",
       "      <td>Brazil</td>\n",
       "      <td>31456865</td>\n",
       "      <td>668110</td>\n",
       "      <td>31445137</td>\n",
       "      <td>668074</td>\n",
       "      <td>11728</td>\n",
       "      <td>36</td>\n",
       "      <td>2.12</td>\n",
       "      <td>South America</td>\n",
       "    </tr>\n",
       "    <tr>\n",
       "      <th>3</th>\n",
       "      <td>France</td>\n",
       "      <td>29946603</td>\n",
       "      <td>149788</td>\n",
       "      <td>29946603</td>\n",
       "      <td>149788</td>\n",
       "      <td>0</td>\n",
       "      <td>0</td>\n",
       "      <td>0.50</td>\n",
       "      <td>Europe</td>\n",
       "    </tr>\n",
       "    <tr>\n",
       "      <th>4</th>\n",
       "      <td>Germany</td>\n",
       "      <td>26809245</td>\n",
       "      <td>139807</td>\n",
       "      <td>26803867</td>\n",
       "      <td>139806</td>\n",
       "      <td>5378</td>\n",
       "      <td>1</td>\n",
       "      <td>0.52</td>\n",
       "      <td>Europe</td>\n",
       "    </tr>\n",
       "  </tbody>\n",
       "</table>\n",
       "</div>"
      ],
      "text/plain": [
       "  Country/Region     Cases   Deaths    PCases  PDeaths  Cases (+)  Deaths (+)  \\\n",
       "0             US  85515795  1011275  85500976  1011260      14819          15   \n",
       "1          India  43230101   524771  43222017   524761       8084          10   \n",
       "2         Brazil  31456865   668110  31445137   668074      11728          36   \n",
       "3         France  29946603   149788  29946603   149788          0           0   \n",
       "4        Germany  26809245   139807  26803867   139806       5378           1   \n",
       "\n",
       "   Fatality Rate      Continent  \n",
       "0           1.18  North America  \n",
       "1           1.21           Asia  \n",
       "2           2.12  South America  \n",
       "3           0.50         Europe  \n",
       "4           0.52         Europe  "
      ]
     },
     "execution_count": 13,
     "metadata": {},
     "output_type": "execute_result"
    }
   ],
   "source": [
    "#hide\n",
    "for c in 'Cases, Deaths'.split(', '):\n",
    "    df_table[f'{c} (+)'] = (df_table[c] - df_table[f'P{c}']).clip(0)\n",
    "    #Clip ça veut dire, les chiffres negatif sont interdit\n",
    "df_table['Fatality Rate'] = (100* df_table['Deaths']/ df_table['Cases']).round(2)\n",
    "df_table['Continent'] = df_table['Country/Region'].map(mapping['map.continent'])\n",
    "df_table.head(5)"
   ]
  },
  {
   "cell_type": "code",
   "execution_count": 14,
   "id": "aboriginal-bulgaria",
   "metadata": {
    "execution": {
     "iopub.execute_input": "2022-06-13T12:17:22.405436Z",
     "iopub.status.busy": "2022-06-13T12:17:22.404760Z",
     "iopub.status.idle": "2022-06-13T12:17:22.409812Z",
     "shell.execute_reply": "2022-06-13T12:17:22.409157Z"
    },
    "papermill": {
     "duration": 0.046402,
     "end_time": "2022-06-13T12:17:22.409939",
     "exception": false,
     "start_time": "2022-06-13T12:17:22.363537",
     "status": "completed"
    },
    "tags": []
   },
   "outputs": [],
   "source": [
    "#hide\n",
    "#delete problematic countries from table\n",
    "df_table = df_table[~df_table['Country/Region'].isin(['Cape Verde', 'Cruise Ship', 'Kosovo'])]"
   ]
  },
  {
   "cell_type": "code",
   "execution_count": 15,
   "id": "fantastic-effect",
   "metadata": {
    "execution": {
     "iopub.execute_input": "2022-06-13T12:17:22.487747Z",
     "iopub.status.busy": "2022-06-13T12:17:22.487072Z",
     "iopub.status.idle": "2022-06-13T12:17:22.507146Z",
     "shell.execute_reply": "2022-06-13T12:17:22.507868Z"
    },
    "papermill": {
     "duration": 0.064228,
     "end_time": "2022-06-13T12:17:22.508065",
     "exception": false,
     "start_time": "2022-06-13T12:17:22.443837",
     "status": "completed"
    },
    "tags": []
   },
   "outputs": [
    {
     "data": {
      "text/html": [
       "<div>\n",
       "<style scoped>\n",
       "    .dataframe tbody tr th:only-of-type {\n",
       "        vertical-align: middle;\n",
       "    }\n",
       "\n",
       "    .dataframe tbody tr th {\n",
       "        vertical-align: top;\n",
       "    }\n",
       "\n",
       "    .dataframe thead th {\n",
       "        text-align: right;\n",
       "    }\n",
       "</style>\n",
       "<table border=\"1\" class=\"dataframe\">\n",
       "  <thead>\n",
       "    <tr style=\"text-align: right;\">\n",
       "      <th></th>\n",
       "      <th>Country/Region</th>\n",
       "      <th>Cases</th>\n",
       "      <th>Deaths</th>\n",
       "      <th>PCases</th>\n",
       "      <th>PDeaths</th>\n",
       "      <th>Cases (+)</th>\n",
       "      <th>Deaths (+)</th>\n",
       "      <th>Fatality Rate</th>\n",
       "      <th>Continent</th>\n",
       "    </tr>\n",
       "  </thead>\n",
       "  <tbody>\n",
       "    <tr>\n",
       "      <th>0</th>\n",
       "      <td>US</td>\n",
       "      <td>85515795</td>\n",
       "      <td>1011275</td>\n",
       "      <td>85500976</td>\n",
       "      <td>1011260</td>\n",
       "      <td>14819</td>\n",
       "      <td>15</td>\n",
       "      <td>1.2</td>\n",
       "      <td>North America</td>\n",
       "    </tr>\n",
       "    <tr>\n",
       "      <th>1</th>\n",
       "      <td>India</td>\n",
       "      <td>43230101</td>\n",
       "      <td>524771</td>\n",
       "      <td>43222017</td>\n",
       "      <td>524761</td>\n",
       "      <td>8084</td>\n",
       "      <td>10</td>\n",
       "      <td>1.2</td>\n",
       "      <td>Asia</td>\n",
       "    </tr>\n",
       "    <tr>\n",
       "      <th>2</th>\n",
       "      <td>Brazil</td>\n",
       "      <td>31456865</td>\n",
       "      <td>668110</td>\n",
       "      <td>31445137</td>\n",
       "      <td>668074</td>\n",
       "      <td>11728</td>\n",
       "      <td>36</td>\n",
       "      <td>2.1</td>\n",
       "      <td>South America</td>\n",
       "    </tr>\n",
       "    <tr>\n",
       "      <th>3</th>\n",
       "      <td>France</td>\n",
       "      <td>29946603</td>\n",
       "      <td>149788</td>\n",
       "      <td>29946603</td>\n",
       "      <td>149788</td>\n",
       "      <td>0</td>\n",
       "      <td>0</td>\n",
       "      <td>0.5</td>\n",
       "      <td>Europe</td>\n",
       "    </tr>\n",
       "    <tr>\n",
       "      <th>4</th>\n",
       "      <td>Germany</td>\n",
       "      <td>26809245</td>\n",
       "      <td>139807</td>\n",
       "      <td>26803867</td>\n",
       "      <td>139806</td>\n",
       "      <td>5378</td>\n",
       "      <td>1</td>\n",
       "      <td>0.5</td>\n",
       "      <td>Europe</td>\n",
       "    </tr>\n",
       "  </tbody>\n",
       "</table>\n",
       "</div>"
      ],
      "text/plain": [
       "  Country/Region     Cases   Deaths    PCases  PDeaths  Cases (+)  Deaths (+)  \\\n",
       "0             US  85515795  1011275  85500976  1011260      14819          15   \n",
       "1          India  43230101   524771  43222017   524761       8084          10   \n",
       "2         Brazil  31456865   668110  31445137   668074      11728          36   \n",
       "3         France  29946603   149788  29946603   149788          0           0   \n",
       "4        Germany  26809245   139807  26803867   139806       5378           1   \n",
       "\n",
       "   Fatality Rate      Continent  \n",
       "0            1.2  North America  \n",
       "1            1.2           Asia  \n",
       "2            2.1  South America  \n",
       "3            0.5         Europe  \n",
       "4            0.5         Europe  "
      ]
     },
     "execution_count": 15,
     "metadata": {},
     "output_type": "execute_result"
    }
   ],
   "source": [
    "#hide\n",
    "df_table = (pd.DataFrame(dict(Cases=dfc_cases, Deaths=dfc_deaths, PCases=dfp_cases, PDeaths=dfp_deaths))\n",
    "             .sort_values(by=['Cases', 'Deaths'], ascending=[False, False])\n",
    "             .reset_index())\n",
    "df_table.rename(columns={'index': 'Country/Region'}, inplace=True)\n",
    "for c in 'Cases, Deaths'.split(', '):\n",
    "    df_table[f'{c} (+)'] = (df_table[c] - df_table[f'P{c}']).clip(0)  # DATA BUG\n",
    "df_table['Fatality Rate'] = (100 * df_table['Deaths'] / df_table['Cases']).round(1)\n",
    "df_table['Continent'] = df_table['Country/Region'].map(mapping['map.continent'])\n",
    "df_table.head(5)"
   ]
  },
  {
   "cell_type": "code",
   "execution_count": 16,
   "id": "fewer-occasion",
   "metadata": {
    "execution": {
     "iopub.execute_input": "2022-06-13T12:17:22.585363Z",
     "iopub.status.busy": "2022-06-13T12:17:22.584669Z",
     "iopub.status.idle": "2022-06-13T12:17:22.587547Z",
     "shell.execute_reply": "2022-06-13T12:17:22.586821Z"
    },
    "papermill": {
     "duration": 0.044401,
     "end_time": "2022-06-13T12:17:22.587674",
     "exception": false,
     "start_time": "2022-06-13T12:17:22.543273",
     "status": "completed"
    },
    "tags": []
   },
   "outputs": [],
   "source": [
    "#hide\n",
    "#delete problematic countries from table\n",
    "df_table = df_table[~df_table['Country/Region'].isin(['Cape Verde', 'Cruise Ship', 'Kosovo'])]"
   ]
  },
  {
   "cell_type": "code",
   "execution_count": 17,
   "id": "related-center",
   "metadata": {
    "execution": {
     "iopub.execute_input": "2022-06-13T12:17:22.679046Z",
     "iopub.status.busy": "2022-06-13T12:17:22.678293Z",
     "iopub.status.idle": "2022-06-13T12:17:22.681712Z",
     "shell.execute_reply": "2022-06-13T12:17:22.681145Z"
    },
    "papermill": {
     "duration": 0.059512,
     "end_time": "2022-06-13T12:17:22.681847",
     "exception": false,
     "start_time": "2022-06-13T12:17:22.622335",
     "status": "completed"
    },
    "tags": []
   },
   "outputs": [],
   "source": [
    "#hide\n",
    "metrics = [df_table.columns[index] for index in [1,2,5,6]]\n",
    "# s_china = df_table[df_table['Country/Region'].eq('China')][metrics].sum().add_prefix('China ')\n",
    "s_us = df_table[df_table['Country/Region'].eq('US')][metrics].sum().add_prefix('US ')\n",
    "s_eu = df_table[df_table['Continent'].eq('Europe')][metrics].sum().add_prefix('EU ')\n",
    "s_ind = df_table[df_table['Country/Region'].eq('India')][metrics].sum().add_prefix('India ')\n",
    "summary = {'updated': pd.to_datetime(dt_today), 'since': pd.to_datetime(dt_yday)}\n",
    "summary = {'updated': pd.to_datetime(dt_today), 'since': pd.to_datetime(dt_yday)}\n",
    "summary = {**summary, **df_table[metrics].sum(), **s_ind, **s_us, **s_eu}"
   ]
  },
  {
   "cell_type": "code",
   "execution_count": 18,
   "id": "engaging-syndrome",
   "metadata": {
    "execution": {
     "iopub.execute_input": "2022-06-13T12:17:22.758401Z",
     "iopub.status.busy": "2022-06-13T12:17:22.757690Z",
     "iopub.status.idle": "2022-06-13T12:17:22.781815Z",
     "shell.execute_reply": "2022-06-13T12:17:22.781029Z"
    },
    "papermill": {
     "duration": 0.065199,
     "end_time": "2022-06-13T12:17:22.781993",
     "exception": false,
     "start_time": "2022-06-13T12:17:22.716794",
     "status": "completed"
    },
    "tags": []
   },
   "outputs": [],
   "source": [
    "#hide\n",
    "dft_ct_new_cases = dft_cases.groupby(COL_REGION)[dt_cols].sum().diff(axis=1).fillna(0).astype(int)"
   ]
  },
  {
   "cell_type": "code",
   "execution_count": 19,
   "id": "neutral-assignment",
   "metadata": {
    "execution": {
     "iopub.execute_input": "2022-06-13T12:17:22.860115Z",
     "iopub.status.busy": "2022-06-13T12:17:22.859419Z",
     "iopub.status.idle": "2022-06-13T12:17:22.863623Z",
     "shell.execute_reply": "2022-06-13T12:17:22.864123Z"
    },
    "papermill": {
     "duration": 0.04698,
     "end_time": "2022-06-13T12:17:22.864274",
     "exception": false,
     "start_time": "2022-06-13T12:17:22.817294",
     "status": "completed"
    },
    "tags": []
   },
   "outputs": [],
   "source": [
    "#hide\n",
    "everydaycases = dft_ct_new_cases.cumsum(axis=1)"
   ]
  },
  {
   "cell_type": "code",
   "execution_count": 20,
   "id": "parliamentary-calgary",
   "metadata": {
    "execution": {
     "iopub.execute_input": "2022-06-13T12:17:22.943775Z",
     "iopub.status.busy": "2022-06-13T12:17:22.939075Z",
     "iopub.status.idle": "2022-06-13T12:17:23.580754Z",
     "shell.execute_reply": "2022-06-13T12:17:23.580173Z"
    },
    "papermill": {
     "duration": 0.681764,
     "end_time": "2022-06-13T12:17:23.580900",
     "exception": false,
     "start_time": "2022-06-13T12:17:22.899136",
     "status": "completed"
    },
    "tags": []
   },
   "outputs": [],
   "source": [
    "#hide\n",
    "import pandas as pd\n",
    "import matplotlib.pyplot as plt\n",
    "import matplotlib.ticker as ticker\n",
    "import matplotlib.animation as animation\n",
    "from IPython.display import HTML"
   ]
  },
  {
   "cell_type": "code",
   "execution_count": 21,
   "id": "lasting-extraction",
   "metadata": {
    "execution": {
     "iopub.execute_input": "2022-06-13T12:17:23.660689Z",
     "iopub.status.busy": "2022-06-13T12:17:23.660008Z",
     "iopub.status.idle": "2022-06-13T12:17:23.667886Z",
     "shell.execute_reply": "2022-06-13T12:17:23.667229Z"
    },
    "papermill": {
     "duration": 0.052219,
     "end_time": "2022-06-13T12:17:23.668016",
     "exception": false,
     "start_time": "2022-06-13T12:17:23.615797",
     "status": "completed"
    },
    "tags": []
   },
   "outputs": [],
   "source": [
    "#hide\n",
    "t = everydaycases.stack()"
   ]
  },
  {
   "cell_type": "code",
   "execution_count": 22,
   "id": "premier-sleeve",
   "metadata": {
    "execution": {
     "iopub.execute_input": "2022-06-13T12:17:23.743471Z",
     "iopub.status.busy": "2022-06-13T12:17:23.742775Z",
     "iopub.status.idle": "2022-06-13T12:17:23.755260Z",
     "shell.execute_reply": "2022-06-13T12:17:23.754707Z"
    },
    "papermill": {
     "duration": 0.05274,
     "end_time": "2022-06-13T12:17:23.755388",
     "exception": false,
     "start_time": "2022-06-13T12:17:23.702648",
     "status": "completed"
    },
    "tags": []
   },
   "outputs": [],
   "source": [
    "#hide\n",
    "g = t.reset_index(['Country/Region'])"
   ]
  },
  {
   "cell_type": "code",
   "execution_count": 23,
   "id": "distributed-pittsburgh",
   "metadata": {
    "execution": {
     "iopub.execute_input": "2022-06-13T12:17:23.829370Z",
     "iopub.status.busy": "2022-06-13T12:17:23.828438Z",
     "iopub.status.idle": "2022-06-13T12:17:23.830383Z",
     "shell.execute_reply": "2022-06-13T12:17:23.831146Z"
    },
    "papermill": {
     "duration": 0.042122,
     "end_time": "2022-06-13T12:17:23.831334",
     "exception": false,
     "start_time": "2022-06-13T12:17:23.789212",
     "status": "completed"
    },
    "tags": []
   },
   "outputs": [],
   "source": [
    "#hide\n",
    "g.index.name = 'date'"
   ]
  },
  {
   "cell_type": "code",
   "execution_count": 24,
   "id": "naked-donor",
   "metadata": {
    "execution": {
     "iopub.execute_input": "2022-06-13T12:17:23.905529Z",
     "iopub.status.busy": "2022-06-13T12:17:23.904841Z",
     "iopub.status.idle": "2022-06-13T12:17:23.908939Z",
     "shell.execute_reply": "2022-06-13T12:17:23.909436Z"
    },
    "papermill": {
     "duration": 0.043747,
     "end_time": "2022-06-13T12:17:23.909584",
     "exception": false,
     "start_time": "2022-06-13T12:17:23.865837",
     "status": "completed"
    },
    "tags": []
   },
   "outputs": [],
   "source": [
    "# #hide\n",
    "# g = g.reset_index(['date'])"
   ]
  },
  {
   "cell_type": "code",
   "execution_count": 25,
   "id": "incomplete-mustang",
   "metadata": {
    "execution": {
     "iopub.execute_input": "2022-06-13T12:17:23.984872Z",
     "iopub.status.busy": "2022-06-13T12:17:23.983705Z",
     "iopub.status.idle": "2022-06-13T12:17:23.985648Z",
     "shell.execute_reply": "2022-06-13T12:17:23.986155Z"
    },
    "papermill": {
     "duration": 0.042322,
     "end_time": "2022-06-13T12:17:23.986331",
     "exception": false,
     "start_time": "2022-06-13T12:17:23.944009",
     "status": "completed"
    },
    "tags": []
   },
   "outputs": [],
   "source": [
    "#hide\n",
    "# g.head()"
   ]
  },
  {
   "cell_type": "code",
   "execution_count": 26,
   "id": "specific-kruger",
   "metadata": {
    "execution": {
     "iopub.execute_input": "2022-06-13T12:17:24.062051Z",
     "iopub.status.busy": "2022-06-13T12:17:24.060775Z",
     "iopub.status.idle": "2022-06-13T12:17:24.063408Z",
     "shell.execute_reply": "2022-06-13T12:17:24.064303Z"
    },
    "papermill": {
     "duration": 0.043744,
     "end_time": "2022-06-13T12:17:24.064540",
     "exception": false,
     "start_time": "2022-06-13T12:17:24.020796",
     "status": "completed"
    },
    "tags": []
   },
   "outputs": [],
   "source": [
    "#hide\n",
    "# g.columns = ['date','country','cases']"
   ]
  },
  {
   "cell_type": "code",
   "execution_count": 27,
   "id": "tender-conversion",
   "metadata": {
    "execution": {
     "iopub.execute_input": "2022-06-13T12:17:24.139132Z",
     "iopub.status.busy": "2022-06-13T12:17:24.138422Z",
     "iopub.status.idle": "2022-06-13T12:17:24.141159Z",
     "shell.execute_reply": "2022-06-13T12:17:24.140612Z"
    },
    "papermill": {
     "duration": 0.041747,
     "end_time": "2022-06-13T12:17:24.141285",
     "exception": false,
     "start_time": "2022-06-13T12:17:24.099538",
     "status": "completed"
    },
    "tags": []
   },
   "outputs": [],
   "source": [
    "#hide\n",
    "# g['continent'] = g.country"
   ]
  },
  {
   "cell_type": "code",
   "execution_count": 28,
   "id": "substantial-wilderness",
   "metadata": {
    "execution": {
     "iopub.execute_input": "2022-06-13T12:17:24.216618Z",
     "iopub.status.busy": "2022-06-13T12:17:24.215446Z",
     "iopub.status.idle": "2022-06-13T12:17:24.217852Z",
     "shell.execute_reply": "2022-06-13T12:17:24.218386Z"
    },
    "papermill": {
     "duration": 0.042489,
     "end_time": "2022-06-13T12:17:24.218529",
     "exception": false,
     "start_time": "2022-06-13T12:17:24.176040",
     "status": "completed"
    },
    "tags": []
   },
   "outputs": [],
   "source": [
    "#hide\n",
    "# cols = list(g.columns.values)"
   ]
  },
  {
   "cell_type": "code",
   "execution_count": 29,
   "id": "solved-farming",
   "metadata": {
    "execution": {
     "iopub.execute_input": "2022-06-13T12:17:24.292263Z",
     "iopub.status.busy": "2022-06-13T12:17:24.291294Z",
     "iopub.status.idle": "2022-06-13T12:17:24.293338Z",
     "shell.execute_reply": "2022-06-13T12:17:24.294082Z"
    },
    "papermill": {
     "duration": 0.041751,
     "end_time": "2022-06-13T12:17:24.294310",
     "exception": false,
     "start_time": "2022-06-13T12:17:24.252559",
     "status": "completed"
    },
    "tags": []
   },
   "outputs": [],
   "source": [
    "#hide\n",
    "# cols.insert(0, cols.pop())"
   ]
  },
  {
   "cell_type": "code",
   "execution_count": 30,
   "id": "executed-adoption",
   "metadata": {
    "execution": {
     "iopub.execute_input": "2022-06-13T12:17:24.370559Z",
     "iopub.status.busy": "2022-06-13T12:17:24.369395Z",
     "iopub.status.idle": "2022-06-13T12:17:24.371283Z",
     "shell.execute_reply": "2022-06-13T12:17:24.371794Z"
    },
    "papermill": {
     "duration": 0.042015,
     "end_time": "2022-06-13T12:17:24.371933",
     "exception": false,
     "start_time": "2022-06-13T12:17:24.329918",
     "status": "completed"
    },
    "tags": []
   },
   "outputs": [],
   "source": [
    "#hide\n",
    "# g = g[cols]"
   ]
  },
  {
   "cell_type": "code",
   "execution_count": 31,
   "id": "subject-dublin",
   "metadata": {
    "execution": {
     "iopub.execute_input": "2022-06-13T12:17:24.448100Z",
     "iopub.status.busy": "2022-06-13T12:17:24.446903Z",
     "iopub.status.idle": "2022-06-13T12:17:24.449373Z",
     "shell.execute_reply": "2022-06-13T12:17:24.450312Z"
    },
    "papermill": {
     "duration": 0.043975,
     "end_time": "2022-06-13T12:17:24.450552",
     "exception": false,
     "start_time": "2022-06-13T12:17:24.406577",
     "status": "completed"
    },
    "tags": []
   },
   "outputs": [],
   "source": [
    "#hide\n",
    "# g['continent'] = g['continent'].map(mapping['map.continent'])"
   ]
  },
  {
   "cell_type": "code",
   "execution_count": 32,
   "id": "freelance-scout",
   "metadata": {
    "execution": {
     "iopub.execute_input": "2022-06-13T12:17:24.526333Z",
     "iopub.status.busy": "2022-06-13T12:17:24.525598Z",
     "iopub.status.idle": "2022-06-13T12:17:24.529676Z",
     "shell.execute_reply": "2022-06-13T12:17:24.529017Z"
    },
    "papermill": {
     "duration": 0.043267,
     "end_time": "2022-06-13T12:17:24.529801",
     "exception": false,
     "start_time": "2022-06-13T12:17:24.486534",
     "status": "completed"
    },
    "tags": []
   },
   "outputs": [],
   "source": [
    "#hide\n",
    "# g.head()"
   ]
  },
  {
   "cell_type": "code",
   "execution_count": 33,
   "id": "limited-engine",
   "metadata": {
    "execution": {
     "iopub.execute_input": "2022-06-13T12:17:24.605196Z",
     "iopub.status.busy": "2022-06-13T12:17:24.604099Z",
     "iopub.status.idle": "2022-06-13T12:17:24.608906Z",
     "shell.execute_reply": "2022-06-13T12:17:24.608350Z"
    },
    "papermill": {
     "duration": 0.044515,
     "end_time": "2022-06-13T12:17:24.609034",
     "exception": false,
     "start_time": "2022-06-13T12:17:24.564519",
     "status": "completed"
    },
    "tags": []
   },
   "outputs": [],
   "source": [
    "# hide\n",
    "# g['date'] = g['date'].astype('datetime64[ns]')"
   ]
  },
  {
   "cell_type": "code",
   "execution_count": 34,
   "id": "sophisticated-supervisor",
   "metadata": {
    "execution": {
     "iopub.execute_input": "2022-06-13T12:17:24.683256Z",
     "iopub.status.busy": "2022-06-13T12:17:24.682582Z",
     "iopub.status.idle": "2022-06-13T12:17:24.686466Z",
     "shell.execute_reply": "2022-06-13T12:17:24.687027Z"
    },
    "papermill": {
     "duration": 0.043874,
     "end_time": "2022-06-13T12:17:24.687170",
     "exception": false,
     "start_time": "2022-06-13T12:17:24.643296",
     "status": "completed"
    },
    "tags": []
   },
   "outputs": [],
   "source": [
    "#hide\n",
    "# g['date'] = g.date.dt.dayofyear"
   ]
  },
  {
   "cell_type": "code",
   "execution_count": 35,
   "id": "inside-dubai",
   "metadata": {
    "execution": {
     "iopub.execute_input": "2022-06-13T12:17:24.760651Z",
     "iopub.status.busy": "2022-06-13T12:17:24.759971Z",
     "iopub.status.idle": "2022-06-13T12:17:24.763013Z",
     "shell.execute_reply": "2022-06-13T12:17:24.762364Z"
    },
    "papermill": {
     "duration": 0.041625,
     "end_time": "2022-06-13T12:17:24.763152",
     "exception": false,
     "start_time": "2022-06-13T12:17:24.721527",
     "status": "completed"
    },
    "tags": []
   },
   "outputs": [],
   "source": [
    "#hide\n",
    "# g = g.rename(columns= {'continent':'group','country':'name','cases':'value'})"
   ]
  },
  {
   "cell_type": "code",
   "execution_count": 36,
   "id": "fleet-motorcycle",
   "metadata": {
    "execution": {
     "iopub.execute_input": "2022-06-13T12:17:24.838816Z",
     "iopub.status.busy": "2022-06-13T12:17:24.837644Z",
     "iopub.status.idle": "2022-06-13T12:17:24.839563Z",
     "shell.execute_reply": "2022-06-13T12:17:24.840080Z"
    },
    "papermill": {
     "duration": 0.042549,
     "end_time": "2022-06-13T12:17:24.840223",
     "exception": false,
     "start_time": "2022-06-13T12:17:24.797674",
     "status": "completed"
    },
    "tags": []
   },
   "outputs": [],
   "source": [
    "#hide\n",
    "# cols = ['name','group','day','value']"
   ]
  },
  {
   "cell_type": "code",
   "execution_count": 37,
   "id": "continued-sleeping",
   "metadata": {
    "execution": {
     "iopub.execute_input": "2022-06-13T12:17:24.916173Z",
     "iopub.status.busy": "2022-06-13T12:17:24.914979Z",
     "iopub.status.idle": "2022-06-13T12:17:24.917466Z",
     "shell.execute_reply": "2022-06-13T12:17:24.918507Z"
    },
    "papermill": {
     "duration": 0.04396,
     "end_time": "2022-06-13T12:17:24.918756",
     "exception": false,
     "start_time": "2022-06-13T12:17:24.874796",
     "status": "completed"
    },
    "tags": []
   },
   "outputs": [],
   "source": [
    "#hide\n",
    "# g.rename(columns= {'date':'day'},inplace = True)"
   ]
  },
  {
   "cell_type": "code",
   "execution_count": 38,
   "id": "major-fight",
   "metadata": {
    "execution": {
     "iopub.execute_input": "2022-06-13T12:17:24.992793Z",
     "iopub.status.busy": "2022-06-13T12:17:24.992124Z",
     "iopub.status.idle": "2022-06-13T12:17:24.995467Z",
     "shell.execute_reply": "2022-06-13T12:17:24.996019Z"
    },
    "papermill": {
     "duration": 0.042064,
     "end_time": "2022-06-13T12:17:24.996154",
     "exception": false,
     "start_time": "2022-06-13T12:17:24.954090",
     "status": "completed"
    },
    "tags": []
   },
   "outputs": [],
   "source": [
    "#hide\n",
    "# g = g[cols]"
   ]
  },
  {
   "cell_type": "code",
   "execution_count": 39,
   "id": "structured-mobile",
   "metadata": {
    "execution": {
     "iopub.execute_input": "2022-06-13T12:17:25.071917Z",
     "iopub.status.busy": "2022-06-13T12:17:25.071230Z",
     "iopub.status.idle": "2022-06-13T12:17:25.075124Z",
     "shell.execute_reply": "2022-06-13T12:17:25.074568Z"
    },
    "papermill": {
     "duration": 0.044719,
     "end_time": "2022-06-13T12:17:25.075253",
     "exception": false,
     "start_time": "2022-06-13T12:17:25.030534",
     "status": "completed"
    },
    "tags": []
   },
   "outputs": [],
   "source": [
    "# #hide\n",
    "# g = g[g.group.notna()]"
   ]
  },
  {
   "cell_type": "code",
   "execution_count": 40,
   "id": "determined-closing",
   "metadata": {
    "execution": {
     "iopub.execute_input": "2022-06-13T12:17:25.151420Z",
     "iopub.status.busy": "2022-06-13T12:17:25.150146Z",
     "iopub.status.idle": "2022-06-13T12:17:25.154734Z",
     "shell.execute_reply": "2022-06-13T12:17:25.153568Z"
    },
    "papermill": {
     "duration": 0.044702,
     "end_time": "2022-06-13T12:17:25.154923",
     "exception": false,
     "start_time": "2022-06-13T12:17:25.110221",
     "status": "completed"
    },
    "tags": []
   },
   "outputs": [],
   "source": [
    "# #hide\n",
    "# colors = dict(zip(\n",
    "#     [\"Oceania\", \"Europe\", \"Asia\", \"South America\", \"Middle East\", \"North America\", \"Africa\"],\n",
    "#     [\"#adb0ff\", \"#ffb3ff\", \"#90d595\", \"#e48381\", \"#aafbff\", \"#f7bb5f\", \"#eafb50\"]\n",
    "# ))\n",
    "# group_lk = g.set_index('name')['group'].to_dict()"
   ]
  },
  {
   "cell_type": "code",
   "execution_count": null,
   "id": "gross-drinking",
   "metadata": {
    "papermill": {
     "duration": 0.034126,
     "end_time": "2022-06-13T12:17:25.222715",
     "exception": false,
     "start_time": "2022-06-13T12:17:25.188589",
     "status": "completed"
    },
    "tags": []
   },
   "outputs": [],
   "source": []
  },
  {
   "cell_type": "code",
   "execution_count": 41,
   "id": "subject-macintosh",
   "metadata": {
    "execution": {
     "iopub.execute_input": "2022-06-13T12:17:25.296028Z",
     "iopub.status.busy": "2022-06-13T12:17:25.295328Z",
     "iopub.status.idle": "2022-06-13T12:17:25.298211Z",
     "shell.execute_reply": "2022-06-13T12:17:25.297681Z"
    },
    "papermill": {
     "duration": 0.041475,
     "end_time": "2022-06-13T12:17:25.298333",
     "exception": false,
     "start_time": "2022-06-13T12:17:25.256858",
     "status": "completed"
    },
    "tags": []
   },
   "outputs": [],
   "source": [
    "# #hide\n",
    "# fig, ax = plt.subplots(figsize=(15, 8))\n",
    "\n",
    "# def draw_barchart(current_day):\n",
    "#     dff = g[g['day'].eq(current_day)].sort_values(by='value', ascending=True).tail(10)\n",
    "#     ax.clear()\n",
    "#     ax.barh(dff['name'], dff['value'], color=[colors[group_lk[x]] for x in dff['name']])\n",
    "#     dx = dff['value'].max() / 200\n",
    "    \n",
    "#     for i, (value, name) in enumerate(zip(dff['value'], dff['name'])):\n",
    "#         ax.text(value-dx, i,     name,           size=14, weight=600, ha='right', va='bottom')\n",
    "#         ax.text(value-dx, i-.25, group_lk[name], size=10, color='#444444', ha='right', va='baseline')\n",
    "#         ax.text(value+dx, i,     f'{value:,.0f}',  size=14, ha='left',  va='center')\n",
    "#     ax.text(1, 0.4, current_day, transform=ax.transAxes, color='#777777', size=46, ha='right', weight=800)\n",
    "#     ax.text(0, 1.06, 'Population (thousands)', transform=ax.transAxes, size=12, color='#777777')\n",
    "#     ax.xaxis.set_major_formatter(ticker.StrMethodFormatter('{x:,.0f}'))\n",
    "#     ax.xaxis.set_ticks_position('top')\n",
    "#     ax.tick_params(axis='x', colors='#777777', labelsize=12)\n",
    "#     ax.set_yticks([])\n",
    "#     ax.margins(0, 0.01)\n",
    "#     ax.grid(which='major', axis='x', linestyle='-')\n",
    "#     ax.set_axisbelow(True)\n",
    "    \n",
    "#     ax.text(0, 1.15, 'Coronavirus',\n",
    "#             transform=ax.transAxes, size=24, weight=600, ha='left', va='top')\n",
    "# #     ax.text(1, 0, 'by @pratapvardhan; credit @jburnmurdoch', transform=ax.transAxes, color='#777777', ha='right',\n",
    "# #             bbox=dict(facecolor='white', alpha=0.8, edgecolor='white'))\n",
    "#     plt.box(False)"
   ]
  },
  {
   "cell_type": "code",
   "execution_count": 42,
   "id": "sexual-wages",
   "metadata": {
    "execution": {
     "iopub.execute_input": "2022-06-13T12:17:25.373334Z",
     "iopub.status.busy": "2022-06-13T12:17:25.372137Z",
     "iopub.status.idle": "2022-06-13T12:17:25.374655Z",
     "shell.execute_reply": "2022-06-13T12:17:25.375810Z"
    },
    "papermill": {
     "duration": 0.04335,
     "end_time": "2022-06-13T12:17:25.376049",
     "exception": false,
     "start_time": "2022-06-13T12:17:25.332699",
     "status": "completed"
    },
    "tags": []
   },
   "outputs": [],
   "source": [
    "# #hide_input\n",
    "# fig, ax = plt.subplots(figsize=(15, 8))\n",
    "# animator = animation.FuncAnimation(fig, draw_barchart, frames=range(g.day.values.min(), g.day.values.max()))\n",
    "# HTML(animator.to_jshtml())\n",
    "# # or use animator.to_html5_video() or animator.save() "
   ]
  },
  {
   "cell_type": "code",
   "execution_count": null,
   "id": "australian-container",
   "metadata": {
    "papermill": {
     "duration": 0.034359,
     "end_time": "2022-06-13T12:17:25.445503",
     "exception": false,
     "start_time": "2022-06-13T12:17:25.411144",
     "status": "completed"
    },
    "tags": []
   },
   "outputs": [],
   "source": []
  },
  {
   "cell_type": "code",
   "execution_count": null,
   "id": "mediterranean-pontiac",
   "metadata": {
    "papermill": {
     "duration": 0.034738,
     "end_time": "2022-06-13T12:17:25.514032",
     "exception": false,
     "start_time": "2022-06-13T12:17:25.479294",
     "status": "completed"
    },
    "tags": []
   },
   "outputs": [],
   "source": []
  },
  {
   "cell_type": "code",
   "execution_count": null,
   "id": "aging-legislature",
   "metadata": {
    "papermill": {
     "duration": 0.034156,
     "end_time": "2022-06-13T12:17:25.581417",
     "exception": false,
     "start_time": "2022-06-13T12:17:25.547261",
     "status": "completed"
    },
    "tags": []
   },
   "outputs": [],
   "source": []
  }
 ],
 "metadata": {
  "kernelspec": {
   "display_name": "Python 3",
   "language": "python",
   "name": "python3"
  },
  "language_info": {
   "codemirror_mode": {
    "name": "ipython",
    "version": 3
   },
   "file_extension": ".py",
   "mimetype": "text/x-python",
   "name": "python",
   "nbconvert_exporter": "python",
   "pygments_lexer": "ipython3",
   "version": "3.6.15"
  },
  "papermill": {
   "duration": 6.832491,
   "end_time": "2022-06-13T12:17:25.935344",
   "environment_variables": {},
   "exception": null,
   "input_path": "2020-03-21-covid19exp.ipynb",
   "output_path": "2020-03-21-covid19exp.ipynb",
   "parameters": {},
   "start_time": "2022-06-13T12:17:19.102853",
   "version": "2.0.0"
  }
 },
 "nbformat": 4,
 "nbformat_minor": 5
}