{
 "cells": [
  {
   "cell_type": "markdown",
   "metadata": {
    "papermill": {
     "duration": 0.030511,
     "end_time": "2021-01-12T00:30:21.935491",
     "exception": false,
     "start_time": "2021-01-12T00:30:21.904980",
     "status": "completed"
    },
    "tags": []
   },
   "source": [
    "# COVID-19 Case Race\n",
    "> A race chart to see rising cases around the world\n",
    "\n",
    "- author: Hargun Oberoi\n",
    "- image: images/covid-overview.png\n",
    "- hide: false\n",
    "- badges: false"
   ]
  },
  {
   "cell_type": "code",
   "execution_count": 1,
   "metadata": {
    "execution": {
     "iopub.execute_input": "2021-01-12T00:30:21.998003Z",
     "iopub.status.busy": "2021-01-12T00:30:21.997483Z",
     "iopub.status.idle": "2021-01-12T00:30:22.289026Z",
     "shell.execute_reply": "2021-01-12T00:30:22.288499Z"
    },
    "papermill": {
     "duration": 0.326951,
     "end_time": "2021-01-12T00:30:22.289183",
     "exception": false,
     "start_time": "2021-01-12T00:30:21.962232",
     "status": "completed"
    },
    "tags": []
   },
   "outputs": [],
   "source": [
    "#hide\n",
    "import numpy as np\n",
    "import pandas as pd\n",
    "from jinja2 import Template\n",
    "from IPython.display import HTML"
   ]
  },
  {
   "cell_type": "code",
   "execution_count": 2,
   "metadata": {
    "execution": {
     "iopub.execute_input": "2021-01-12T00:30:22.347766Z",
     "iopub.status.busy": "2021-01-12T00:30:22.347185Z",
     "iopub.status.idle": "2021-01-12T00:30:22.349188Z",
     "shell.execute_reply": "2021-01-12T00:30:22.348779Z"
    },
    "papermill": {
     "duration": 0.031847,
     "end_time": "2021-01-12T00:30:22.349301",
     "exception": false,
     "start_time": "2021-01-12T00:30:22.317454",
     "status": "completed"
    },
    "tags": []
   },
   "outputs": [],
   "source": [
    "#hide\n",
    "\n",
    "# FETCH\n",
    "base_url = 'https://raw.githubusercontent.com/pratapvardhan/notebooks/master/covid19/'\n",
    "paths = {\n",
    "    'mapping': base_url + 'mapping_countries.csv',\n",
    "    'overview': base_url + 'overview.tpl'\n",
    "}"
   ]
  },
  {
   "cell_type": "code",
   "execution_count": 3,
   "metadata": {
    "execution": {
     "iopub.execute_input": "2021-01-12T00:30:22.410705Z",
     "iopub.status.busy": "2021-01-12T00:30:22.410172Z",
     "iopub.status.idle": "2021-01-12T00:30:22.412834Z",
     "shell.execute_reply": "2021-01-12T00:30:22.412403Z"
    },
    "papermill": {
     "duration": 0.037531,
     "end_time": "2021-01-12T00:30:22.412946",
     "exception": false,
     "start_time": "2021-01-12T00:30:22.375415",
     "status": "completed"
    },
    "tags": []
   },
   "outputs": [
    {
     "data": {
      "text/plain": [
       "'https://raw.githubusercontent.com/pratapvardhan/notebooks/master/covid19/mapping_countries.csv'"
      ]
     },
     "execution_count": 3,
     "metadata": {},
     "output_type": "execute_result"
    }
   ],
   "source": [
    "#hide\n",
    "paths['mapping']"
   ]
  },
  {
   "cell_type": "code",
   "execution_count": 4,
   "metadata": {
    "execution": {
     "iopub.execute_input": "2021-01-12T00:30:22.471250Z",
     "iopub.status.busy": "2021-01-12T00:30:22.470726Z",
     "iopub.status.idle": "2021-01-12T00:30:22.472958Z",
     "shell.execute_reply": "2021-01-12T00:30:22.472547Z"
    },
    "papermill": {
     "duration": 0.033683,
     "end_time": "2021-01-12T00:30:22.473074",
     "exception": false,
     "start_time": "2021-01-12T00:30:22.439391",
     "status": "completed"
    },
    "tags": []
   },
   "outputs": [],
   "source": [
    "#hide\n",
    "def get_mappings(url):\n",
    "    df = pd.read_csv(url)\n",
    "    return {\n",
    "        'df': df,\n",
    "        'replace.country': dict(df.dropna(subset=['Name']).set_index('Country')['Name']),\n",
    "        'map.continent': dict(df.set_index('Name')['Continent'])\n",
    "    }"
   ]
  },
  {
   "cell_type": "code",
   "execution_count": 5,
   "metadata": {
    "execution": {
     "iopub.execute_input": "2021-01-12T00:30:22.530403Z",
     "iopub.status.busy": "2021-01-12T00:30:22.529905Z",
     "iopub.status.idle": "2021-01-12T00:30:22.612195Z",
     "shell.execute_reply": "2021-01-12T00:30:22.612650Z"
    },
    "papermill": {
     "duration": 0.113343,
     "end_time": "2021-01-12T00:30:22.612808",
     "exception": false,
     "start_time": "2021-01-12T00:30:22.499465",
     "status": "completed"
    },
    "tags": []
   },
   "outputs": [],
   "source": [
    "#hide\n",
    "mapping = get_mappings(paths['mapping'])"
   ]
  },
  {
   "cell_type": "code",
   "execution_count": 6,
   "metadata": {
    "execution": {
     "iopub.execute_input": "2021-01-12T00:30:22.671027Z",
     "iopub.status.busy": "2021-01-12T00:30:22.670525Z",
     "iopub.status.idle": "2021-01-12T00:30:22.672460Z",
     "shell.execute_reply": "2021-01-12T00:30:22.672839Z"
    },
    "papermill": {
     "duration": 0.032882,
     "end_time": "2021-01-12T00:30:22.672971",
     "exception": false,
     "start_time": "2021-01-12T00:30:22.640089",
     "status": "completed"
    },
    "tags": []
   },
   "outputs": [],
   "source": [
    "#hide\n",
    "def get_template(path):\n",
    "    from urllib.parse import urlparse\n",
    "    if bool(urlparse(path).netloc):\n",
    "        from urllib.request import urlopen\n",
    "        return urlopen(path).read().decode('utf8')\n",
    "    return open(path).read()"
   ]
  },
  {
   "cell_type": "code",
   "execution_count": 7,
   "metadata": {
    "execution": {
     "iopub.execute_input": "2021-01-12T00:30:22.730507Z",
     "iopub.status.busy": "2021-01-12T00:30:22.729984Z",
     "iopub.status.idle": "2021-01-12T00:30:22.732079Z",
     "shell.execute_reply": "2021-01-12T00:30:22.731676Z"
    },
    "papermill": {
     "duration": 0.032989,
     "end_time": "2021-01-12T00:30:22.732191",
     "exception": false,
     "start_time": "2021-01-12T00:30:22.699202",
     "status": "completed"
    },
    "tags": []
   },
   "outputs": [],
   "source": [
    "#hide\n",
    "def get_frame(name):\n",
    "    url = (\n",
    "        'https://raw.githubusercontent.com/CSSEGISandData/COVID-19/master/csse_covid_19_data/'\n",
    "        f'csse_covid_19_time_series/time_series_covid19_{name}_global.csv')\n",
    "    df = pd.read_csv(url)\n",
    "    # rename countries\n",
    "    df['Country/Region'] = df['Country/Region'].replace(mapping['replace.country'])\n",
    "    return df"
   ]
  },
  {
   "cell_type": "code",
   "execution_count": 8,
   "metadata": {
    "execution": {
     "iopub.execute_input": "2021-01-12T00:30:22.790250Z",
     "iopub.status.busy": "2021-01-12T00:30:22.789753Z",
     "iopub.status.idle": "2021-01-12T00:30:22.792015Z",
     "shell.execute_reply": "2021-01-12T00:30:22.791592Z"
    },
    "papermill": {
     "duration": 0.033596,
     "end_time": "2021-01-12T00:30:22.792118",
     "exception": false,
     "start_time": "2021-01-12T00:30:22.758522",
     "status": "completed"
    },
    "tags": []
   },
   "outputs": [],
   "source": [
    "#hide\n",
    "def get_dates(df):\n",
    "    dt_cols = df.columns[~df.columns.isin(['Province/State', 'Country/Region', 'Lat', 'Long'])]\n",
    "    LAST_DATE_I = -1\n",
    "    # sometimes last column may be empty, then go backwards\n",
    "    for i in range(-1, -len(dt_cols), -1):\n",
    "        if not df[dt_cols[i]].fillna(0).eq(0).all():\n",
    "            LAST_DATE_I = i\n",
    "            break\n",
    "    return LAST_DATE_I, dt_cols"
   ]
  },
  {
   "cell_type": "code",
   "execution_count": 9,
   "metadata": {
    "execution": {
     "iopub.execute_input": "2021-01-12T00:30:22.849066Z",
     "iopub.status.busy": "2021-01-12T00:30:22.848200Z",
     "iopub.status.idle": "2021-01-12T00:30:23.291510Z",
     "shell.execute_reply": "2021-01-12T00:30:23.290697Z"
    },
    "papermill": {
     "duration": 0.473399,
     "end_time": "2021-01-12T00:30:23.291656",
     "exception": false,
     "start_time": "2021-01-12T00:30:22.818257",
     "status": "completed"
    },
    "tags": []
   },
   "outputs": [],
   "source": [
    "#hide\n",
    "COL_REGION = 'Country/Region'\n",
    "# Confirmed, Recovered, Deaths\n",
    "df = get_frame('confirmed')\n",
    "# dft_: timeseries, dfc_: today country agg\n",
    "dft_cases = df\n",
    "dft_deaths = get_frame('deaths')\n",
    "dft_recovered = get_frame('recovered')\n",
    "LAST_DATE_I, dt_cols = get_dates(df)"
   ]
  },
  {
   "cell_type": "code",
   "execution_count": 10,
   "metadata": {
    "execution": {
     "iopub.execute_input": "2021-01-12T00:30:23.351593Z",
     "iopub.status.busy": "2021-01-12T00:30:23.351083Z",
     "iopub.status.idle": "2021-01-12T00:30:23.353147Z",
     "shell.execute_reply": "2021-01-12T00:30:23.352740Z"
    },
    "papermill": {
     "duration": 0.034004,
     "end_time": "2021-01-12T00:30:23.353266",
     "exception": false,
     "start_time": "2021-01-12T00:30:23.319262",
     "status": "completed"
    },
    "tags": []
   },
   "outputs": [],
   "source": [
    "#hide\n",
    "LAST_DATE_I, dt_cols = get_dates(df)\n",
    "dt_today =dt_cols[LAST_DATE_I]\n",
    "# dt_5day = dt_cols[LAST_DATE_I - 5]\n",
    "dt_yday = dt_cols[LAST_DATE_I - 1]"
   ]
  },
  {
   "cell_type": "code",
   "execution_count": 11,
   "metadata": {
    "execution": {
     "iopub.execute_input": "2021-01-12T00:30:23.418186Z",
     "iopub.status.busy": "2021-01-12T00:30:23.417678Z",
     "iopub.status.idle": "2021-01-12T00:30:23.423004Z",
     "shell.execute_reply": "2021-01-12T00:30:23.423491Z"
    },
    "papermill": {
     "duration": 0.044037,
     "end_time": "2021-01-12T00:30:23.423622",
     "exception": false,
     "start_time": "2021-01-12T00:30:23.379585",
     "status": "completed"
    },
    "tags": []
   },
   "outputs": [],
   "source": [
    "#hide\n",
    "dfc_cases = dft_cases.groupby(COL_REGION)[dt_today].sum()\n",
    "dfc_deaths = dft_deaths.groupby(COL_REGION)[dt_today].sum()\n",
    "# dfp_cases = dft_cases.groupby(COL_REGION)[dt_5day].sum()\n",
    "# dfp_deaths = dft_deaths.groupby(COL_REGION)[dt_5day].sum()\n",
    "dfp_cases = dft_cases.groupby(COL_REGION)[dt_yday].sum()\n",
    "dfp_deaths = dft_deaths.groupby(COL_REGION)[dt_yday].sum()"
   ]
  },
  {
   "cell_type": "code",
   "execution_count": 12,
   "metadata": {
    "execution": {
     "iopub.execute_input": "2021-01-12T00:30:23.482416Z",
     "iopub.status.busy": "2021-01-12T00:30:23.481911Z",
     "iopub.status.idle": "2021-01-12T00:30:23.485195Z",
     "shell.execute_reply": "2021-01-12T00:30:23.485660Z"
    },
    "papermill": {
     "duration": 0.035893,
     "end_time": "2021-01-12T00:30:23.485791",
     "exception": false,
     "start_time": "2021-01-12T00:30:23.449898",
     "status": "completed"
    },
    "tags": []
   },
   "outputs": [],
   "source": [
    "#hide\n",
    "df_table = (pd.DataFrame(dict(Cases = dfc_cases, Deaths = dfc_deaths, PCases = dfp_cases, PDeaths = dfp_deaths))\n",
    "            .sort_values(by = ['Cases','Deaths'], ascending = [False, False])\n",
    "            .reset_index())"
   ]
  },
  {
   "cell_type": "code",
   "execution_count": 13,
   "metadata": {
    "execution": {
     "iopub.execute_input": "2021-01-12T00:30:23.554576Z",
     "iopub.status.busy": "2021-01-12T00:30:23.554047Z",
     "iopub.status.idle": "2021-01-12T00:30:23.560686Z",
     "shell.execute_reply": "2021-01-12T00:30:23.561149Z"
    },
    "papermill": {
     "duration": 0.04935,
     "end_time": "2021-01-12T00:30:23.561274",
     "exception": false,
     "start_time": "2021-01-12T00:30:23.511924",
     "status": "completed"
    },
    "tags": []
   },
   "outputs": [
    {
     "data": {
      "text/html": [
       "<div>\n",
       "<style scoped>\n",
       "    .dataframe tbody tr th:only-of-type {\n",
       "        vertical-align: middle;\n",
       "    }\n",
       "\n",
       "    .dataframe tbody tr th {\n",
       "        vertical-align: top;\n",
       "    }\n",
       "\n",
       "    .dataframe thead th {\n",
       "        text-align: right;\n",
       "    }\n",
       "</style>\n",
       "<table border=\"1\" class=\"dataframe\">\n",
       "  <thead>\n",
       "    <tr style=\"text-align: right;\">\n",
       "      <th></th>\n",
       "      <th>Country/Region</th>\n",
       "      <th>Cases</th>\n",
       "      <th>Deaths</th>\n",
       "      <th>PCases</th>\n",
       "      <th>PDeaths</th>\n",
       "      <th>Cases (+)</th>\n",
       "      <th>Deaths (+)</th>\n",
       "      <th>Fatality Rate</th>\n",
       "      <th>Continent</th>\n",
       "    </tr>\n",
       "  </thead>\n",
       "  <tbody>\n",
       "    <tr>\n",
       "      <th>0</th>\n",
       "      <td>US</td>\n",
       "      <td>22409132</td>\n",
       "      <td>374329</td>\n",
       "      <td>22192842</td>\n",
       "      <td>372508</td>\n",
       "      <td>216290</td>\n",
       "      <td>1821</td>\n",
       "      <td>1.67</td>\n",
       "      <td>North America</td>\n",
       "    </tr>\n",
       "    <tr>\n",
       "      <th>1</th>\n",
       "      <td>India</td>\n",
       "      <td>10466595</td>\n",
       "      <td>151160</td>\n",
       "      <td>10450284</td>\n",
       "      <td>150999</td>\n",
       "      <td>16311</td>\n",
       "      <td>161</td>\n",
       "      <td>1.44</td>\n",
       "      <td>Asia</td>\n",
       "    </tr>\n",
       "    <tr>\n",
       "      <th>2</th>\n",
       "      <td>Brazil</td>\n",
       "      <td>8105790</td>\n",
       "      <td>203100</td>\n",
       "      <td>8075998</td>\n",
       "      <td>202631</td>\n",
       "      <td>29792</td>\n",
       "      <td>469</td>\n",
       "      <td>2.51</td>\n",
       "      <td>South America</td>\n",
       "    </tr>\n",
       "    <tr>\n",
       "      <th>3</th>\n",
       "      <td>Russia</td>\n",
       "      <td>3366715</td>\n",
       "      <td>60963</td>\n",
       "      <td>3344175</td>\n",
       "      <td>60523</td>\n",
       "      <td>22540</td>\n",
       "      <td>440</td>\n",
       "      <td>1.81</td>\n",
       "      <td>Europe</td>\n",
       "    </tr>\n",
       "    <tr>\n",
       "      <th>4</th>\n",
       "      <td>United Kingdom</td>\n",
       "      <td>3081368</td>\n",
       "      <td>81567</td>\n",
       "      <td>3026342</td>\n",
       "      <td>81000</td>\n",
       "      <td>55026</td>\n",
       "      <td>567</td>\n",
       "      <td>2.65</td>\n",
       "      <td>Europe</td>\n",
       "    </tr>\n",
       "  </tbody>\n",
       "</table>\n",
       "</div>"
      ],
      "text/plain": [
       "   Country/Region     Cases  Deaths    PCases  PDeaths  Cases (+)  Deaths (+)  \\\n",
       "0              US  22409132  374329  22192842   372508     216290        1821   \n",
       "1           India  10466595  151160  10450284   150999      16311         161   \n",
       "2          Brazil   8105790  203100   8075998   202631      29792         469   \n",
       "3          Russia   3366715   60963   3344175    60523      22540         440   \n",
       "4  United Kingdom   3081368   81567   3026342    81000      55026         567   \n",
       "\n",
       "   Fatality Rate      Continent  \n",
       "0           1.67  North America  \n",
       "1           1.44           Asia  \n",
       "2           2.51  South America  \n",
       "3           1.81         Europe  \n",
       "4           2.65         Europe  "
      ]
     },
     "execution_count": 13,
     "metadata": {},
     "output_type": "execute_result"
    }
   ],
   "source": [
    "#hide\n",
    "for c in 'Cases, Deaths'.split(', '):\n",
    "    df_table[f'{c} (+)'] = (df_table[c] - df_table[f'P{c}']).clip(0)\n",
    "    #Clip ça veut dire, les chiffres negatif sont interdit\n",
    "df_table['Fatality Rate'] = (100* df_table['Deaths']/ df_table['Cases']).round(2)\n",
    "df_table['Continent'] = df_table['Country/Region'].map(mapping['map.continent'])\n",
    "df_table.head(5)"
   ]
  },
  {
   "cell_type": "code",
   "execution_count": 14,
   "metadata": {
    "execution": {
     "iopub.execute_input": "2021-01-12T00:30:23.620702Z",
     "iopub.status.busy": "2021-01-12T00:30:23.620108Z",
     "iopub.status.idle": "2021-01-12T00:30:23.622258Z",
     "shell.execute_reply": "2021-01-12T00:30:23.621766Z"
    },
    "papermill": {
     "duration": 0.034239,
     "end_time": "2021-01-12T00:30:23.622383",
     "exception": false,
     "start_time": "2021-01-12T00:30:23.588144",
     "status": "completed"
    },
    "tags": []
   },
   "outputs": [],
   "source": [
    "#hide\n",
    "#delete problematic countries from table\n",
    "df_table = df_table[~df_table['Country/Region'].isin(['Cape Verde', 'Cruise Ship', 'Kosovo'])]"
   ]
  },
  {
   "cell_type": "code",
   "execution_count": 15,
   "metadata": {
    "execution": {
     "iopub.execute_input": "2021-01-12T00:30:23.683955Z",
     "iopub.status.busy": "2021-01-12T00:30:23.683446Z",
     "iopub.status.idle": "2021-01-12T00:30:23.699921Z",
     "shell.execute_reply": "2021-01-12T00:30:23.699513Z"
    },
    "papermill": {
     "duration": 0.051012,
     "end_time": "2021-01-12T00:30:23.700037",
     "exception": false,
     "start_time": "2021-01-12T00:30:23.649025",
     "status": "completed"
    },
    "tags": []
   },
   "outputs": [
    {
     "data": {
      "text/html": [
       "<div>\n",
       "<style scoped>\n",
       "    .dataframe tbody tr th:only-of-type {\n",
       "        vertical-align: middle;\n",
       "    }\n",
       "\n",
       "    .dataframe tbody tr th {\n",
       "        vertical-align: top;\n",
       "    }\n",
       "\n",
       "    .dataframe thead th {\n",
       "        text-align: right;\n",
       "    }\n",
       "</style>\n",
       "<table border=\"1\" class=\"dataframe\">\n",
       "  <thead>\n",
       "    <tr style=\"text-align: right;\">\n",
       "      <th></th>\n",
       "      <th>Country/Region</th>\n",
       "      <th>Cases</th>\n",
       "      <th>Deaths</th>\n",
       "      <th>PCases</th>\n",
       "      <th>PDeaths</th>\n",
       "      <th>Cases (+)</th>\n",
       "      <th>Deaths (+)</th>\n",
       "      <th>Fatality Rate</th>\n",
       "      <th>Continent</th>\n",
       "    </tr>\n",
       "  </thead>\n",
       "  <tbody>\n",
       "    <tr>\n",
       "      <th>0</th>\n",
       "      <td>US</td>\n",
       "      <td>22409132</td>\n",
       "      <td>374329</td>\n",
       "      <td>22192842</td>\n",
       "      <td>372508</td>\n",
       "      <td>216290</td>\n",
       "      <td>1821</td>\n",
       "      <td>1.7</td>\n",
       "      <td>North America</td>\n",
       "    </tr>\n",
       "    <tr>\n",
       "      <th>1</th>\n",
       "      <td>India</td>\n",
       "      <td>10466595</td>\n",
       "      <td>151160</td>\n",
       "      <td>10450284</td>\n",
       "      <td>150999</td>\n",
       "      <td>16311</td>\n",
       "      <td>161</td>\n",
       "      <td>1.4</td>\n",
       "      <td>Asia</td>\n",
       "    </tr>\n",
       "    <tr>\n",
       "      <th>2</th>\n",
       "      <td>Brazil</td>\n",
       "      <td>8105790</td>\n",
       "      <td>203100</td>\n",
       "      <td>8075998</td>\n",
       "      <td>202631</td>\n",
       "      <td>29792</td>\n",
       "      <td>469</td>\n",
       "      <td>2.5</td>\n",
       "      <td>South America</td>\n",
       "    </tr>\n",
       "    <tr>\n",
       "      <th>3</th>\n",
       "      <td>Russia</td>\n",
       "      <td>3366715</td>\n",
       "      <td>60963</td>\n",
       "      <td>3344175</td>\n",
       "      <td>60523</td>\n",
       "      <td>22540</td>\n",
       "      <td>440</td>\n",
       "      <td>1.8</td>\n",
       "      <td>Europe</td>\n",
       "    </tr>\n",
       "    <tr>\n",
       "      <th>4</th>\n",
       "      <td>United Kingdom</td>\n",
       "      <td>3081368</td>\n",
       "      <td>81567</td>\n",
       "      <td>3026342</td>\n",
       "      <td>81000</td>\n",
       "      <td>55026</td>\n",
       "      <td>567</td>\n",
       "      <td>2.6</td>\n",
       "      <td>Europe</td>\n",
       "    </tr>\n",
       "  </tbody>\n",
       "</table>\n",
       "</div>"
      ],
      "text/plain": [
       "   Country/Region     Cases  Deaths    PCases  PDeaths  Cases (+)  Deaths (+)  \\\n",
       "0              US  22409132  374329  22192842   372508     216290        1821   \n",
       "1           India  10466595  151160  10450284   150999      16311         161   \n",
       "2          Brazil   8105790  203100   8075998   202631      29792         469   \n",
       "3          Russia   3366715   60963   3344175    60523      22540         440   \n",
       "4  United Kingdom   3081368   81567   3026342    81000      55026         567   \n",
       "\n",
       "   Fatality Rate      Continent  \n",
       "0            1.7  North America  \n",
       "1            1.4           Asia  \n",
       "2            2.5  South America  \n",
       "3            1.8         Europe  \n",
       "4            2.6         Europe  "
      ]
     },
     "execution_count": 15,
     "metadata": {},
     "output_type": "execute_result"
    }
   ],
   "source": [
    "#hide\n",
    "df_table = (pd.DataFrame(dict(Cases=dfc_cases, Deaths=dfc_deaths, PCases=dfp_cases, PDeaths=dfp_deaths))\n",
    "             .sort_values(by=['Cases', 'Deaths'], ascending=[False, False])\n",
    "             .reset_index())\n",
    "df_table.rename(columns={'index': 'Country/Region'}, inplace=True)\n",
    "for c in 'Cases, Deaths'.split(', '):\n",
    "    df_table[f'{c} (+)'] = (df_table[c] - df_table[f'P{c}']).clip(0)  # DATA BUG\n",
    "df_table['Fatality Rate'] = (100 * df_table['Deaths'] / df_table['Cases']).round(1)\n",
    "df_table['Continent'] = df_table['Country/Region'].map(mapping['map.continent'])\n",
    "df_table.head(5)"
   ]
  },
  {
   "cell_type": "code",
   "execution_count": 16,
   "metadata": {
    "execution": {
     "iopub.execute_input": "2021-01-12T00:30:23.759505Z",
     "iopub.status.busy": "2021-01-12T00:30:23.759004Z",
     "iopub.status.idle": "2021-01-12T00:30:23.761085Z",
     "shell.execute_reply": "2021-01-12T00:30:23.761512Z"
    },
    "papermill": {
     "duration": 0.034241,
     "end_time": "2021-01-12T00:30:23.761635",
     "exception": false,
     "start_time": "2021-01-12T00:30:23.727394",
     "status": "completed"
    },
    "tags": []
   },
   "outputs": [],
   "source": [
    "#hide\n",
    "#delete problematic countries from table\n",
    "df_table = df_table[~df_table['Country/Region'].isin(['Cape Verde', 'Cruise Ship', 'Kosovo'])]"
   ]
  },
  {
   "cell_type": "code",
   "execution_count": 17,
   "metadata": {
    "execution": {
     "iopub.execute_input": "2021-01-12T00:30:23.826628Z",
     "iopub.status.busy": "2021-01-12T00:30:23.826091Z",
     "iopub.status.idle": "2021-01-12T00:30:23.835220Z",
     "shell.execute_reply": "2021-01-12T00:30:23.834811Z"
    },
    "papermill": {
     "duration": 0.046688,
     "end_time": "2021-01-12T00:30:23.835335",
     "exception": false,
     "start_time": "2021-01-12T00:30:23.788647",
     "status": "completed"
    },
    "tags": []
   },
   "outputs": [],
   "source": [
    "#hide\n",
    "metrics = [df_table.columns[index] for index in [1,2,5,6]]\n",
    "# s_china = df_table[df_table['Country/Region'].eq('China')][metrics].sum().add_prefix('China ')\n",
    "s_us = df_table[df_table['Country/Region'].eq('US')][metrics].sum().add_prefix('US ')\n",
    "s_eu = df_table[df_table['Continent'].eq('Europe')][metrics].sum().add_prefix('EU ')\n",
    "s_ind = df_table[df_table['Country/Region'].eq('India')][metrics].sum().add_prefix('India ')\n",
    "summary = {'updated': pd.to_datetime(dt_today), 'since': pd.to_datetime(dt_yday)}\n",
    "summary = {'updated': pd.to_datetime(dt_today), 'since': pd.to_datetime(dt_yday)}\n",
    "summary = {**summary, **df_table[metrics].sum(), **s_ind, **s_us, **s_eu}"
   ]
  },
  {
   "cell_type": "code",
   "execution_count": 18,
   "metadata": {
    "execution": {
     "iopub.execute_input": "2021-01-12T00:30:23.894099Z",
     "iopub.status.busy": "2021-01-12T00:30:23.893598Z",
     "iopub.status.idle": "2021-01-12T00:30:23.903478Z",
     "shell.execute_reply": "2021-01-12T00:30:23.903906Z"
    },
    "papermill": {
     "duration": 0.041573,
     "end_time": "2021-01-12T00:30:23.904035",
     "exception": false,
     "start_time": "2021-01-12T00:30:23.862462",
     "status": "completed"
    },
    "tags": []
   },
   "outputs": [],
   "source": [
    "#hide\n",
    "dft_ct_new_cases = dft_cases.groupby(COL_REGION)[dt_cols].sum().diff(axis=1).fillna(0).astype(int)"
   ]
  },
  {
   "cell_type": "code",
   "execution_count": 19,
   "metadata": {
    "execution": {
     "iopub.execute_input": "2021-01-12T00:30:23.963020Z",
     "iopub.status.busy": "2021-01-12T00:30:23.962512Z",
     "iopub.status.idle": "2021-01-12T00:30:23.964320Z",
     "shell.execute_reply": "2021-01-12T00:30:23.964753Z"
    },
    "papermill": {
     "duration": 0.033823,
     "end_time": "2021-01-12T00:30:23.964873",
     "exception": false,
     "start_time": "2021-01-12T00:30:23.931050",
     "status": "completed"
    },
    "tags": []
   },
   "outputs": [],
   "source": [
    "#hide\n",
    "everydaycases = dft_ct_new_cases.cumsum(axis=1)"
   ]
  },
  {
   "cell_type": "code",
   "execution_count": 20,
   "metadata": {
    "execution": {
     "iopub.execute_input": "2021-01-12T00:30:24.023195Z",
     "iopub.status.busy": "2021-01-12T00:30:24.022685Z",
     "iopub.status.idle": "2021-01-12T00:30:24.909126Z",
     "shell.execute_reply": "2021-01-12T00:30:24.908658Z"
    },
    "papermill": {
     "duration": 0.917322,
     "end_time": "2021-01-12T00:30:24.909254",
     "exception": false,
     "start_time": "2021-01-12T00:30:23.991932",
     "status": "completed"
    },
    "tags": []
   },
   "outputs": [],
   "source": [
    "#hide\n",
    "import pandas as pd\n",
    "import matplotlib.pyplot as plt\n",
    "import matplotlib.ticker as ticker\n",
    "import matplotlib.animation as animation\n",
    "from IPython.display import HTML"
   ]
  },
  {
   "cell_type": "code",
   "execution_count": 21,
   "metadata": {
    "execution": {
     "iopub.execute_input": "2021-01-12T00:30:24.968345Z",
     "iopub.status.busy": "2021-01-12T00:30:24.967843Z",
     "iopub.status.idle": "2021-01-12T00:30:24.973126Z",
     "shell.execute_reply": "2021-01-12T00:30:24.973556Z"
    },
    "papermill": {
     "duration": 0.037203,
     "end_time": "2021-01-12T00:30:24.973686",
     "exception": false,
     "start_time": "2021-01-12T00:30:24.936483",
     "status": "completed"
    },
    "tags": []
   },
   "outputs": [],
   "source": [
    "#hide\n",
    "t = everydaycases.stack()"
   ]
  },
  {
   "cell_type": "code",
   "execution_count": 22,
   "metadata": {
    "execution": {
     "iopub.execute_input": "2021-01-12T00:30:25.031916Z",
     "iopub.status.busy": "2021-01-12T00:30:25.031413Z",
     "iopub.status.idle": "2021-01-12T00:30:25.037028Z",
     "shell.execute_reply": "2021-01-12T00:30:25.037506Z"
    },
    "papermill": {
     "duration": 0.036828,
     "end_time": "2021-01-12T00:30:25.037629",
     "exception": false,
     "start_time": "2021-01-12T00:30:25.000801",
     "status": "completed"
    },
    "tags": []
   },
   "outputs": [],
   "source": [
    "#hide\n",
    "g = t.reset_index(['Country/Region'])"
   ]
  },
  {
   "cell_type": "code",
   "execution_count": 23,
   "metadata": {
    "execution": {
     "iopub.execute_input": "2021-01-12T00:30:25.095435Z",
     "iopub.status.busy": "2021-01-12T00:30:25.094834Z",
     "iopub.status.idle": "2021-01-12T00:30:25.097602Z",
     "shell.execute_reply": "2021-01-12T00:30:25.098081Z"
    },
    "papermill": {
     "duration": 0.033581,
     "end_time": "2021-01-12T00:30:25.098210",
     "exception": false,
     "start_time": "2021-01-12T00:30:25.064629",
     "status": "completed"
    },
    "tags": []
   },
   "outputs": [],
   "source": [
    "#hide\n",
    "g.index.name = 'date'"
   ]
  },
  {
   "cell_type": "code",
   "execution_count": 24,
   "metadata": {
    "execution": {
     "iopub.execute_input": "2021-01-12T00:30:25.156159Z",
     "iopub.status.busy": "2021-01-12T00:30:25.155586Z",
     "iopub.status.idle": "2021-01-12T00:30:25.157286Z",
     "shell.execute_reply": "2021-01-12T00:30:25.157719Z"
    },
    "papermill": {
     "duration": 0.032507,
     "end_time": "2021-01-12T00:30:25.157862",
     "exception": false,
     "start_time": "2021-01-12T00:30:25.125355",
     "status": "completed"
    },
    "tags": []
   },
   "outputs": [],
   "source": [
    "# #hide\n",
    "# g = g.reset_index(['date'])"
   ]
  },
  {
   "cell_type": "code",
   "execution_count": 25,
   "metadata": {
    "execution": {
     "iopub.execute_input": "2021-01-12T00:30:25.216545Z",
     "iopub.status.busy": "2021-01-12T00:30:25.215995Z",
     "iopub.status.idle": "2021-01-12T00:30:25.217747Z",
     "shell.execute_reply": "2021-01-12T00:30:25.218154Z"
    },
    "papermill": {
     "duration": 0.032726,
     "end_time": "2021-01-12T00:30:25.218294",
     "exception": false,
     "start_time": "2021-01-12T00:30:25.185568",
     "status": "completed"
    },
    "tags": []
   },
   "outputs": [],
   "source": [
    "#hide\n",
    "# g.head()"
   ]
  },
  {
   "cell_type": "code",
   "execution_count": 26,
   "metadata": {
    "execution": {
     "iopub.execute_input": "2021-01-12T00:30:25.276306Z",
     "iopub.status.busy": "2021-01-12T00:30:25.275789Z",
     "iopub.status.idle": "2021-01-12T00:30:25.277918Z",
     "shell.execute_reply": "2021-01-12T00:30:25.277423Z"
    },
    "papermill": {
     "duration": 0.032168,
     "end_time": "2021-01-12T00:30:25.278028",
     "exception": false,
     "start_time": "2021-01-12T00:30:25.245860",
     "status": "completed"
    },
    "tags": []
   },
   "outputs": [],
   "source": [
    "#hide\n",
    "# g.columns = ['date','country','cases']"
   ]
  },
  {
   "cell_type": "code",
   "execution_count": 27,
   "metadata": {
    "execution": {
     "iopub.execute_input": "2021-01-12T00:30:25.335587Z",
     "iopub.status.busy": "2021-01-12T00:30:25.335004Z",
     "iopub.status.idle": "2021-01-12T00:30:25.337099Z",
     "shell.execute_reply": "2021-01-12T00:30:25.336693Z"
    },
    "papermill": {
     "duration": 0.032346,
     "end_time": "2021-01-12T00:30:25.337211",
     "exception": false,
     "start_time": "2021-01-12T00:30:25.304865",
     "status": "completed"
    },
    "tags": []
   },
   "outputs": [],
   "source": [
    "#hide\n",
    "# g['continent'] = g.country"
   ]
  },
  {
   "cell_type": "code",
   "execution_count": 28,
   "metadata": {
    "execution": {
     "iopub.execute_input": "2021-01-12T00:30:25.394334Z",
     "iopub.status.busy": "2021-01-12T00:30:25.393830Z",
     "iopub.status.idle": "2021-01-12T00:30:25.395669Z",
     "shell.execute_reply": "2021-01-12T00:30:25.396100Z"
    },
    "papermill": {
     "duration": 0.031982,
     "end_time": "2021-01-12T00:30:25.396223",
     "exception": false,
     "start_time": "2021-01-12T00:30:25.364241",
     "status": "completed"
    },
    "tags": []
   },
   "outputs": [],
   "source": [
    "#hide\n",
    "# cols = list(g.columns.values)"
   ]
  },
  {
   "cell_type": "code",
   "execution_count": 29,
   "metadata": {
    "execution": {
     "iopub.execute_input": "2021-01-12T00:30:25.454129Z",
     "iopub.status.busy": "2021-01-12T00:30:25.453623Z",
     "iopub.status.idle": "2021-01-12T00:30:25.455573Z",
     "shell.execute_reply": "2021-01-12T00:30:25.456005Z"
    },
    "papermill": {
     "duration": 0.032809,
     "end_time": "2021-01-12T00:30:25.456134",
     "exception": false,
     "start_time": "2021-01-12T00:30:25.423325",
     "status": "completed"
    },
    "tags": []
   },
   "outputs": [],
   "source": [
    "#hide\n",
    "# cols.insert(0, cols.pop())"
   ]
  },
  {
   "cell_type": "code",
   "execution_count": 30,
   "metadata": {
    "execution": {
     "iopub.execute_input": "2021-01-12T00:30:25.514062Z",
     "iopub.status.busy": "2021-01-12T00:30:25.513502Z",
     "iopub.status.idle": "2021-01-12T00:30:25.515355Z",
     "shell.execute_reply": "2021-01-12T00:30:25.515737Z"
    },
    "papermill": {
     "duration": 0.032445,
     "end_time": "2021-01-12T00:30:25.515869",
     "exception": false,
     "start_time": "2021-01-12T00:30:25.483424",
     "status": "completed"
    },
    "tags": []
   },
   "outputs": [],
   "source": [
    "#hide\n",
    "# g = g[cols]"
   ]
  },
  {
   "cell_type": "code",
   "execution_count": 31,
   "metadata": {
    "execution": {
     "iopub.execute_input": "2021-01-12T00:30:25.573637Z",
     "iopub.status.busy": "2021-01-12T00:30:25.573135Z",
     "iopub.status.idle": "2021-01-12T00:30:25.574938Z",
     "shell.execute_reply": "2021-01-12T00:30:25.575369Z"
    },
    "papermill": {
     "duration": 0.032574,
     "end_time": "2021-01-12T00:30:25.575496",
     "exception": false,
     "start_time": "2021-01-12T00:30:25.542922",
     "status": "completed"
    },
    "tags": []
   },
   "outputs": [],
   "source": [
    "#hide\n",
    "# g['continent'] = g['continent'].map(mapping['map.continent'])"
   ]
  },
  {
   "cell_type": "code",
   "execution_count": 32,
   "metadata": {
    "execution": {
     "iopub.execute_input": "2021-01-12T00:30:25.632941Z",
     "iopub.status.busy": "2021-01-12T00:30:25.632365Z",
     "iopub.status.idle": "2021-01-12T00:30:25.634500Z",
     "shell.execute_reply": "2021-01-12T00:30:25.633998Z"
    },
    "papermill": {
     "duration": 0.032036,
     "end_time": "2021-01-12T00:30:25.634626",
     "exception": false,
     "start_time": "2021-01-12T00:30:25.602590",
     "status": "completed"
    },
    "tags": []
   },
   "outputs": [],
   "source": [
    "#hide\n",
    "# g.head()"
   ]
  },
  {
   "cell_type": "code",
   "execution_count": 33,
   "metadata": {
    "execution": {
     "iopub.execute_input": "2021-01-12T00:30:25.692788Z",
     "iopub.status.busy": "2021-01-12T00:30:25.692293Z",
     "iopub.status.idle": "2021-01-12T00:30:25.694315Z",
     "shell.execute_reply": "2021-01-12T00:30:25.693890Z"
    },
    "papermill": {
     "duration": 0.03213,
     "end_time": "2021-01-12T00:30:25.694423",
     "exception": false,
     "start_time": "2021-01-12T00:30:25.662293",
     "status": "completed"
    },
    "tags": []
   },
   "outputs": [],
   "source": [
    "# hide\n",
    "# g['date'] = g['date'].astype('datetime64[ns]')"
   ]
  },
  {
   "cell_type": "code",
   "execution_count": 34,
   "metadata": {
    "execution": {
     "iopub.execute_input": "2021-01-12T00:30:25.751910Z",
     "iopub.status.busy": "2021-01-12T00:30:25.751361Z",
     "iopub.status.idle": "2021-01-12T00:30:25.753392Z",
     "shell.execute_reply": "2021-01-12T00:30:25.752967Z"
    },
    "papermill": {
     "duration": 0.031976,
     "end_time": "2021-01-12T00:30:25.753502",
     "exception": false,
     "start_time": "2021-01-12T00:30:25.721526",
     "status": "completed"
    },
    "tags": []
   },
   "outputs": [],
   "source": [
    "#hide\n",
    "# g['date'] = g.date.dt.dayofyear"
   ]
  },
  {
   "cell_type": "code",
   "execution_count": 35,
   "metadata": {
    "execution": {
     "iopub.execute_input": "2021-01-12T00:30:25.810796Z",
     "iopub.status.busy": "2021-01-12T00:30:25.810257Z",
     "iopub.status.idle": "2021-01-12T00:30:25.812030Z",
     "shell.execute_reply": "2021-01-12T00:30:25.812462Z"
    },
    "papermill": {
     "duration": 0.032161,
     "end_time": "2021-01-12T00:30:25.812586",
     "exception": false,
     "start_time": "2021-01-12T00:30:25.780425",
     "status": "completed"
    },
    "tags": []
   },
   "outputs": [],
   "source": [
    "#hide\n",
    "# g = g.rename(columns= {'continent':'group','country':'name','cases':'value'})"
   ]
  },
  {
   "cell_type": "code",
   "execution_count": 36,
   "metadata": {
    "execution": {
     "iopub.execute_input": "2021-01-12T00:30:25.871286Z",
     "iopub.status.busy": "2021-01-12T00:30:25.870678Z",
     "iopub.status.idle": "2021-01-12T00:30:25.872128Z",
     "shell.execute_reply": "2021-01-12T00:30:25.872587Z"
    },
    "papermill": {
     "duration": 0.03286,
     "end_time": "2021-01-12T00:30:25.872735",
     "exception": false,
     "start_time": "2021-01-12T00:30:25.839875",
     "status": "completed"
    },
    "tags": []
   },
   "outputs": [],
   "source": [
    "#hide\n",
    "# cols = ['name','group','day','value']"
   ]
  },
  {
   "cell_type": "code",
   "execution_count": 37,
   "metadata": {
    "execution": {
     "iopub.execute_input": "2021-01-12T00:30:25.930986Z",
     "iopub.status.busy": "2021-01-12T00:30:25.930467Z",
     "iopub.status.idle": "2021-01-12T00:30:25.932213Z",
     "shell.execute_reply": "2021-01-12T00:30:25.932637Z"
    },
    "papermill": {
     "duration": 0.032786,
     "end_time": "2021-01-12T00:30:25.932763",
     "exception": false,
     "start_time": "2021-01-12T00:30:25.899977",
     "status": "completed"
    },
    "tags": []
   },
   "outputs": [],
   "source": [
    "#hide\n",
    "# g.rename(columns= {'date':'day'},inplace = True)"
   ]
  },
  {
   "cell_type": "code",
   "execution_count": 38,
   "metadata": {
    "execution": {
     "iopub.execute_input": "2021-01-12T00:30:25.990725Z",
     "iopub.status.busy": "2021-01-12T00:30:25.990198Z",
     "iopub.status.idle": "2021-01-12T00:30:25.992109Z",
     "shell.execute_reply": "2021-01-12T00:30:25.992536Z"
    },
    "papermill": {
     "duration": 0.032747,
     "end_time": "2021-01-12T00:30:25.992664",
     "exception": false,
     "start_time": "2021-01-12T00:30:25.959917",
     "status": "completed"
    },
    "tags": []
   },
   "outputs": [],
   "source": [
    "#hide\n",
    "# g = g[cols]"
   ]
  },
  {
   "cell_type": "code",
   "execution_count": 39,
   "metadata": {
    "execution": {
     "iopub.execute_input": "2021-01-12T00:30:26.049641Z",
     "iopub.status.busy": "2021-01-12T00:30:26.049140Z",
     "iopub.status.idle": "2021-01-12T00:30:26.051404Z",
     "shell.execute_reply": "2021-01-12T00:30:26.051005Z"
    },
    "papermill": {
     "duration": 0.031988,
     "end_time": "2021-01-12T00:30:26.051513",
     "exception": false,
     "start_time": "2021-01-12T00:30:26.019525",
     "status": "completed"
    },
    "tags": []
   },
   "outputs": [],
   "source": [
    "# #hide\n",
    "# g = g[g.group.notna()]"
   ]
  },
  {
   "cell_type": "code",
   "execution_count": 40,
   "metadata": {
    "execution": {
     "iopub.execute_input": "2021-01-12T00:30:26.109232Z",
     "iopub.status.busy": "2021-01-12T00:30:26.108729Z",
     "iopub.status.idle": "2021-01-12T00:30:26.110570Z",
     "shell.execute_reply": "2021-01-12T00:30:26.111001Z"
    },
    "papermill": {
     "duration": 0.032554,
     "end_time": "2021-01-12T00:30:26.111126",
     "exception": false,
     "start_time": "2021-01-12T00:30:26.078572",
     "status": "completed"
    },
    "tags": []
   },
   "outputs": [],
   "source": [
    "# #hide\n",
    "# colors = dict(zip(\n",
    "#     [\"Oceania\", \"Europe\", \"Asia\", \"South America\", \"Middle East\", \"North America\", \"Africa\"],\n",
    "#     [\"#adb0ff\", \"#ffb3ff\", \"#90d595\", \"#e48381\", \"#aafbff\", \"#f7bb5f\", \"#eafb50\"]\n",
    "# ))\n",
    "# group_lk = g.set_index('name')['group'].to_dict()"
   ]
  },
  {
   "cell_type": "code",
   "execution_count": null,
   "metadata": {
    "papermill": {
     "duration": 0.027564,
     "end_time": "2021-01-12T00:30:26.165645",
     "exception": false,
     "start_time": "2021-01-12T00:30:26.138081",
     "status": "completed"
    },
    "tags": []
   },
   "outputs": [],
   "source": []
  },
  {
   "cell_type": "code",
   "execution_count": 41,
   "metadata": {
    "execution": {
     "iopub.execute_input": "2021-01-12T00:30:26.224590Z",
     "iopub.status.busy": "2021-01-12T00:30:26.224041Z",
     "iopub.status.idle": "2021-01-12T00:30:26.225983Z",
     "shell.execute_reply": "2021-01-12T00:30:26.226490Z"
    },
    "papermill": {
     "duration": 0.033675,
     "end_time": "2021-01-12T00:30:26.226627",
     "exception": false,
     "start_time": "2021-01-12T00:30:26.192952",
     "status": "completed"
    },
    "tags": []
   },
   "outputs": [],
   "source": [
    "# #hide\n",
    "# fig, ax = plt.subplots(figsize=(15, 8))\n",
    "\n",
    "# def draw_barchart(current_day):\n",
    "#     dff = g[g['day'].eq(current_day)].sort_values(by='value', ascending=True).tail(10)\n",
    "#     ax.clear()\n",
    "#     ax.barh(dff['name'], dff['value'], color=[colors[group_lk[x]] for x in dff['name']])\n",
    "#     dx = dff['value'].max() / 200\n",
    "    \n",
    "#     for i, (value, name) in enumerate(zip(dff['value'], dff['name'])):\n",
    "#         ax.text(value-dx, i,     name,           size=14, weight=600, ha='right', va='bottom')\n",
    "#         ax.text(value-dx, i-.25, group_lk[name], size=10, color='#444444', ha='right', va='baseline')\n",
    "#         ax.text(value+dx, i,     f'{value:,.0f}',  size=14, ha='left',  va='center')\n",
    "#     ax.text(1, 0.4, current_day, transform=ax.transAxes, color='#777777', size=46, ha='right', weight=800)\n",
    "#     ax.text(0, 1.06, 'Population (thousands)', transform=ax.transAxes, size=12, color='#777777')\n",
    "#     ax.xaxis.set_major_formatter(ticker.StrMethodFormatter('{x:,.0f}'))\n",
    "#     ax.xaxis.set_ticks_position('top')\n",
    "#     ax.tick_params(axis='x', colors='#777777', labelsize=12)\n",
    "#     ax.set_yticks([])\n",
    "#     ax.margins(0, 0.01)\n",
    "#     ax.grid(which='major', axis='x', linestyle='-')\n",
    "#     ax.set_axisbelow(True)\n",
    "    \n",
    "#     ax.text(0, 1.15, 'Coronavirus',\n",
    "#             transform=ax.transAxes, size=24, weight=600, ha='left', va='top')\n",
    "# #     ax.text(1, 0, 'by @pratapvardhan; credit @jburnmurdoch', transform=ax.transAxes, color='#777777', ha='right',\n",
    "# #             bbox=dict(facecolor='white', alpha=0.8, edgecolor='white'))\n",
    "#     plt.box(False)"
   ]
  },
  {
   "cell_type": "code",
   "execution_count": 42,
   "metadata": {
    "execution": {
     "iopub.execute_input": "2021-01-12T00:30:26.284510Z",
     "iopub.status.busy": "2021-01-12T00:30:26.284015Z",
     "iopub.status.idle": "2021-01-12T00:30:26.285924Z",
     "shell.execute_reply": "2021-01-12T00:30:26.286325Z"
    },
    "papermill": {
     "duration": 0.032686,
     "end_time": "2021-01-12T00:30:26.286467",
     "exception": false,
     "start_time": "2021-01-12T00:30:26.253781",
     "status": "completed"
    },
    "tags": []
   },
   "outputs": [],
   "source": [
    "# #hide_input\n",
    "# fig, ax = plt.subplots(figsize=(15, 8))\n",
    "# animator = animation.FuncAnimation(fig, draw_barchart, frames=range(g.day.values.min(), g.day.values.max()))\n",
    "# HTML(animator.to_jshtml())\n",
    "# # or use animator.to_html5_video() or animator.save() "
   ]
  },
  {
   "cell_type": "code",
   "execution_count": null,
   "metadata": {
    "papermill": {
     "duration": 0.027044,
     "end_time": "2021-01-12T00:30:26.340764",
     "exception": false,
     "start_time": "2021-01-12T00:30:26.313720",
     "status": "completed"
    },
    "tags": []
   },
   "outputs": [],
   "source": []
  },
  {
   "cell_type": "code",
   "execution_count": null,
   "metadata": {
    "papermill": {
     "duration": 0.027159,
     "end_time": "2021-01-12T00:30:26.395076",
     "exception": false,
     "start_time": "2021-01-12T00:30:26.367917",
     "status": "completed"
    },
    "tags": []
   },
   "outputs": [],
   "source": []
  },
  {
   "cell_type": "code",
   "execution_count": null,
   "metadata": {
    "papermill": {
     "duration": 0.027022,
     "end_time": "2021-01-12T00:30:26.449601",
     "exception": false,
     "start_time": "2021-01-12T00:30:26.422579",
     "status": "completed"
    },
    "tags": []
   },
   "outputs": [],
   "source": []
  }
 ],
 "metadata": {
  "kernelspec": {
   "display_name": "Python 3",
   "language": "python",
   "name": "python3"
  },
  "language_info": {
   "codemirror_mode": {
    "name": "ipython",
    "version": 3
   },
   "file_extension": ".py",
   "mimetype": "text/x-python",
   "name": "python",
   "nbconvert_exporter": "python",
   "pygments_lexer": "ipython3",
   "version": "3.6.12"
  },
  "papermill": {
   "duration": 5.92924,
   "end_time": "2021-01-12T00:30:26.783785",
   "environment_variables": {},
   "exception": null,
   "input_path": "2020-03-21-covid19exp.ipynb",
   "output_path": "2020-03-21-covid19exp.ipynb",
   "parameters": {},
   "start_time": "2021-01-12T00:30:20.854545",
   "version": "2.0.0"
  }
 },
 "nbformat": 4,
 "nbformat_minor": 4
}