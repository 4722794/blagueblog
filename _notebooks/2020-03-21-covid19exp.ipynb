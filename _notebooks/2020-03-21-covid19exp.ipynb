{
 "cells": [
  {
   "cell_type": "markdown",
   "id": "muslim-click",
   "metadata": {
    "papermill": {
     "duration": 0.041761,
     "end_time": "2021-04-20T12:04:57.285729",
     "exception": false,
     "start_time": "2021-04-20T12:04:57.243968",
     "status": "completed"
    },
    "tags": []
   },
   "source": [
    "# COVID-19 Case Race\n",
    "> A race chart to see rising cases around the world\n",
    "\n",
    "- author: Hargun Oberoi\n",
    "- image: images/covid-overview.png\n",
    "- hide: false\n",
    "- badges: false"
   ]
  },
  {
   "cell_type": "code",
   "execution_count": 1,
   "id": "proof-material",
   "metadata": {
    "execution": {
     "iopub.execute_input": "2021-04-20T12:04:57.375300Z",
     "iopub.status.busy": "2021-04-20T12:04:57.374652Z",
     "iopub.status.idle": "2021-04-20T12:04:57.740511Z",
     "shell.execute_reply": "2021-04-20T12:04:57.740009Z"
    },
    "papermill": {
     "duration": 0.412423,
     "end_time": "2021-04-20T12:04:57.740754",
     "exception": false,
     "start_time": "2021-04-20T12:04:57.328331",
     "status": "completed"
    },
    "tags": []
   },
   "outputs": [],
   "source": [
    "#hide\n",
    "import numpy as np\n",
    "import pandas as pd\n",
    "from jinja2 import Template\n",
    "from IPython.display import HTML"
   ]
  },
  {
   "cell_type": "code",
   "execution_count": 2,
   "id": "developed-terminology",
   "metadata": {
    "execution": {
     "iopub.execute_input": "2021-04-20T12:04:57.819181Z",
     "iopub.status.busy": "2021-04-20T12:04:57.818605Z",
     "iopub.status.idle": "2021-04-20T12:04:57.820630Z",
     "shell.execute_reply": "2021-04-20T12:04:57.821061Z"
    },
    "papermill": {
     "duration": 0.044033,
     "end_time": "2021-04-20T12:04:57.821183",
     "exception": false,
     "start_time": "2021-04-20T12:04:57.777150",
     "status": "completed"
    },
    "tags": []
   },
   "outputs": [],
   "source": [
    "#hide\n",
    "\n",
    "# FETCH\n",
    "base_url = 'https://raw.githubusercontent.com/pratapvardhan/notebooks/master/covid19/'\n",
    "paths = {\n",
    "    'mapping': base_url + 'mapping_countries.csv',\n",
    "    'overview': base_url + 'overview.tpl'\n",
    "}"
   ]
  },
  {
   "cell_type": "code",
   "execution_count": 3,
   "id": "dynamic-saver",
   "metadata": {
    "execution": {
     "iopub.execute_input": "2021-04-20T12:04:57.898368Z",
     "iopub.status.busy": "2021-04-20T12:04:57.897758Z",
     "iopub.status.idle": "2021-04-20T12:04:57.904855Z",
     "shell.execute_reply": "2021-04-20T12:04:57.905393Z"
    },
    "papermill": {
     "duration": 0.048997,
     "end_time": "2021-04-20T12:04:57.905509",
     "exception": false,
     "start_time": "2021-04-20T12:04:57.856512",
     "status": "completed"
    },
    "tags": []
   },
   "outputs": [
    {
     "data": {
      "text/plain": [
       "'https://raw.githubusercontent.com/pratapvardhan/notebooks/master/covid19/mapping_countries.csv'"
      ]
     },
     "execution_count": 3,
     "metadata": {},
     "output_type": "execute_result"
    }
   ],
   "source": [
    "#hide\n",
    "paths['mapping']"
   ]
  },
  {
   "cell_type": "code",
   "execution_count": 4,
   "id": "urban-software",
   "metadata": {
    "execution": {
     "iopub.execute_input": "2021-04-20T12:04:57.983122Z",
     "iopub.status.busy": "2021-04-20T12:04:57.982497Z",
     "iopub.status.idle": "2021-04-20T12:04:57.985912Z",
     "shell.execute_reply": "2021-04-20T12:04:57.985280Z"
    },
    "papermill": {
     "duration": 0.044634,
     "end_time": "2021-04-20T12:04:57.986089",
     "exception": false,
     "start_time": "2021-04-20T12:04:57.941455",
     "status": "completed"
    },
    "tags": []
   },
   "outputs": [],
   "source": [
    "#hide\n",
    "def get_mappings(url):\n",
    "    df = pd.read_csv(url)\n",
    "    return {\n",
    "        'df': df,\n",
    "        'replace.country': dict(df.dropna(subset=['Name']).set_index('Country')['Name']),\n",
    "        'map.continent': dict(df.set_index('Name')['Continent'])\n",
    "    }"
   ]
  },
  {
   "cell_type": "code",
   "execution_count": 5,
   "id": "intimate-machinery",
   "metadata": {
    "execution": {
     "iopub.execute_input": "2021-04-20T12:04:58.065529Z",
     "iopub.status.busy": "2021-04-20T12:04:58.064850Z",
     "iopub.status.idle": "2021-04-20T12:04:58.106244Z",
     "shell.execute_reply": "2021-04-20T12:04:58.105691Z"
    },
    "papermill": {
     "duration": 0.085205,
     "end_time": "2021-04-20T12:04:58.106370",
     "exception": false,
     "start_time": "2021-04-20T12:04:58.021165",
     "status": "completed"
    },
    "tags": []
   },
   "outputs": [],
   "source": [
    "#hide\n",
    "mapping = get_mappings(paths['mapping'])"
   ]
  },
  {
   "cell_type": "code",
   "execution_count": 6,
   "id": "certified-tactics",
   "metadata": {
    "execution": {
     "iopub.execute_input": "2021-04-20T12:04:58.187766Z",
     "iopub.status.busy": "2021-04-20T12:04:58.187159Z",
     "iopub.status.idle": "2021-04-20T12:04:58.189546Z",
     "shell.execute_reply": "2021-04-20T12:04:58.189073Z"
    },
    "papermill": {
     "duration": 0.044693,
     "end_time": "2021-04-20T12:04:58.189677",
     "exception": false,
     "start_time": "2021-04-20T12:04:58.144984",
     "status": "completed"
    },
    "tags": []
   },
   "outputs": [],
   "source": [
    "#hide\n",
    "def get_template(path):\n",
    "    from urllib.parse import urlparse\n",
    "    if bool(urlparse(path).netloc):\n",
    "        from urllib.request import urlopen\n",
    "        return urlopen(path).read().decode('utf8')\n",
    "    return open(path).read()"
   ]
  },
  {
   "cell_type": "code",
   "execution_count": 7,
   "id": "realistic-blast",
   "metadata": {
    "execution": {
     "iopub.execute_input": "2021-04-20T12:04:58.266177Z",
     "iopub.status.busy": "2021-04-20T12:04:58.265410Z",
     "iopub.status.idle": "2021-04-20T12:04:58.268689Z",
     "shell.execute_reply": "2021-04-20T12:04:58.268018Z"
    },
    "papermill": {
     "duration": 0.042702,
     "end_time": "2021-04-20T12:04:58.268840",
     "exception": false,
     "start_time": "2021-04-20T12:04:58.226138",
     "status": "completed"
    },
    "tags": []
   },
   "outputs": [],
   "source": [
    "#hide\n",
    "def get_frame(name):\n",
    "    url = (\n",
    "        'https://raw.githubusercontent.com/CSSEGISandData/COVID-19/master/csse_covid_19_data/'\n",
    "        f'csse_covid_19_time_series/time_series_covid19_{name}_global.csv')\n",
    "    df = pd.read_csv(url)\n",
    "    # rename countries\n",
    "    df['Country/Region'] = df['Country/Region'].replace(mapping['replace.country'])\n",
    "    return df"
   ]
  },
  {
   "cell_type": "code",
   "execution_count": 8,
   "id": "affiliated-characterization",
   "metadata": {
    "execution": {
     "iopub.execute_input": "2021-04-20T12:04:58.347206Z",
     "iopub.status.busy": "2021-04-20T12:04:58.346492Z",
     "iopub.status.idle": "2021-04-20T12:04:58.349665Z",
     "shell.execute_reply": "2021-04-20T12:04:58.349170Z"
    },
    "papermill": {
     "duration": 0.044402,
     "end_time": "2021-04-20T12:04:58.349851",
     "exception": false,
     "start_time": "2021-04-20T12:04:58.305449",
     "status": "completed"
    },
    "tags": []
   },
   "outputs": [],
   "source": [
    "#hide\n",
    "def get_dates(df):\n",
    "    dt_cols = df.columns[~df.columns.isin(['Province/State', 'Country/Region', 'Lat', 'Long'])]\n",
    "    LAST_DATE_I = -1\n",
    "    # sometimes last column may be empty, then go backwards\n",
    "    for i in range(-1, -len(dt_cols), -1):\n",
    "        if not df[dt_cols[i]].fillna(0).eq(0).all():\n",
    "            LAST_DATE_I = i\n",
    "            break\n",
    "    return LAST_DATE_I, dt_cols"
   ]
  },
  {
   "cell_type": "code",
   "execution_count": 9,
   "id": "recent-optimization",
   "metadata": {
    "execution": {
     "iopub.execute_input": "2021-04-20T12:04:58.425300Z",
     "iopub.status.busy": "2021-04-20T12:04:58.424455Z",
     "iopub.status.idle": "2021-04-20T12:04:58.819727Z",
     "shell.execute_reply": "2021-04-20T12:04:58.818717Z"
    },
    "papermill": {
     "duration": 0.434527,
     "end_time": "2021-04-20T12:04:58.819859",
     "exception": false,
     "start_time": "2021-04-20T12:04:58.385332",
     "status": "completed"
    },
    "tags": []
   },
   "outputs": [],
   "source": [
    "#hide\n",
    "COL_REGION = 'Country/Region'\n",
    "# Confirmed, Recovered, Deaths\n",
    "df = get_frame('confirmed')\n",
    "# dft_: timeseries, dfc_: today country agg\n",
    "dft_cases = df\n",
    "dft_deaths = get_frame('deaths')\n",
    "dft_recovered = get_frame('recovered')\n",
    "LAST_DATE_I, dt_cols = get_dates(df)"
   ]
  },
  {
   "cell_type": "code",
   "execution_count": 10,
   "id": "absolute-copper",
   "metadata": {
    "execution": {
     "iopub.execute_input": "2021-04-20T12:04:58.898842Z",
     "iopub.status.busy": "2021-04-20T12:04:58.898260Z",
     "iopub.status.idle": "2021-04-20T12:04:58.900476Z",
     "shell.execute_reply": "2021-04-20T12:04:58.900992Z"
    },
    "papermill": {
     "duration": 0.04568,
     "end_time": "2021-04-20T12:04:58.901109",
     "exception": false,
     "start_time": "2021-04-20T12:04:58.855429",
     "status": "completed"
    },
    "tags": []
   },
   "outputs": [],
   "source": [
    "#hide\n",
    "LAST_DATE_I, dt_cols = get_dates(df)\n",
    "dt_today =dt_cols[LAST_DATE_I]\n",
    "# dt_5day = dt_cols[LAST_DATE_I - 5]\n",
    "dt_yday = dt_cols[LAST_DATE_I - 1]"
   ]
  },
  {
   "cell_type": "code",
   "execution_count": 11,
   "id": "restricted-sheriff",
   "metadata": {
    "execution": {
     "iopub.execute_input": "2021-04-20T12:04:58.983192Z",
     "iopub.status.busy": "2021-04-20T12:04:58.982545Z",
     "iopub.status.idle": "2021-04-20T12:04:58.991856Z",
     "shell.execute_reply": "2021-04-20T12:04:58.992439Z"
    },
    "papermill": {
     "duration": 0.055355,
     "end_time": "2021-04-20T12:04:58.992612",
     "exception": false,
     "start_time": "2021-04-20T12:04:58.937257",
     "status": "completed"
    },
    "tags": []
   },
   "outputs": [],
   "source": [
    "#hide\n",
    "dfc_cases = dft_cases.groupby(COL_REGION)[dt_today].sum()\n",
    "dfc_deaths = dft_deaths.groupby(COL_REGION)[dt_today].sum()\n",
    "# dfp_cases = dft_cases.groupby(COL_REGION)[dt_5day].sum()\n",
    "# dfp_deaths = dft_deaths.groupby(COL_REGION)[dt_5day].sum()\n",
    "dfp_cases = dft_cases.groupby(COL_REGION)[dt_yday].sum()\n",
    "dfp_deaths = dft_deaths.groupby(COL_REGION)[dt_yday].sum()"
   ]
  },
  {
   "cell_type": "code",
   "execution_count": 12,
   "id": "deluxe-hepatitis",
   "metadata": {
    "execution": {
     "iopub.execute_input": "2021-04-20T12:04:59.082183Z",
     "iopub.status.busy": "2021-04-20T12:04:59.081577Z",
     "iopub.status.idle": "2021-04-20T12:04:59.087470Z",
     "shell.execute_reply": "2021-04-20T12:04:59.086928Z"
    },
    "papermill": {
     "duration": 0.052987,
     "end_time": "2021-04-20T12:04:59.087603",
     "exception": false,
     "start_time": "2021-04-20T12:04:59.034616",
     "status": "completed"
    },
    "tags": []
   },
   "outputs": [],
   "source": [
    "#hide\n",
    "df_table = (pd.DataFrame(dict(Cases = dfc_cases, Deaths = dfc_deaths, PCases = dfp_cases, PDeaths = dfp_deaths))\n",
    "            .sort_values(by = ['Cases','Deaths'], ascending = [False, False])\n",
    "            .reset_index())"
   ]
  },
  {
   "cell_type": "code",
   "execution_count": 13,
   "id": "educational-chancellor",
   "metadata": {
    "execution": {
     "iopub.execute_input": "2021-04-20T12:04:59.185092Z",
     "iopub.status.busy": "2021-04-20T12:04:59.184367Z",
     "iopub.status.idle": "2021-04-20T12:04:59.199058Z",
     "shell.execute_reply": "2021-04-20T12:04:59.199513Z"
    },
    "papermill": {
     "duration": 0.073675,
     "end_time": "2021-04-20T12:04:59.199655",
     "exception": false,
     "start_time": "2021-04-20T12:04:59.125980",
     "status": "completed"
    },
    "tags": []
   },
   "outputs": [
    {
     "data": {
      "text/html": [
       "<div>\n",
       "<style scoped>\n",
       "    .dataframe tbody tr th:only-of-type {\n",
       "        vertical-align: middle;\n",
       "    }\n",
       "\n",
       "    .dataframe tbody tr th {\n",
       "        vertical-align: top;\n",
       "    }\n",
       "\n",
       "    .dataframe thead th {\n",
       "        text-align: right;\n",
       "    }\n",
       "</style>\n",
       "<table border=\"1\" class=\"dataframe\">\n",
       "  <thead>\n",
       "    <tr style=\"text-align: right;\">\n",
       "      <th></th>\n",
       "      <th>Country/Region</th>\n",
       "      <th>Cases</th>\n",
       "      <th>Deaths</th>\n",
       "      <th>PCases</th>\n",
       "      <th>PDeaths</th>\n",
       "      <th>Cases (+)</th>\n",
       "      <th>Deaths (+)</th>\n",
       "      <th>Fatality Rate</th>\n",
       "      <th>Continent</th>\n",
       "    </tr>\n",
       "  </thead>\n",
       "  <tbody>\n",
       "    <tr>\n",
       "      <th>0</th>\n",
       "      <td>US</td>\n",
       "      <td>31737964</td>\n",
       "      <td>567694</td>\n",
       "      <td>31670031</td>\n",
       "      <td>567217</td>\n",
       "      <td>67933</td>\n",
       "      <td>477</td>\n",
       "      <td>1.79</td>\n",
       "      <td>North America</td>\n",
       "    </tr>\n",
       "    <tr>\n",
       "      <th>1</th>\n",
       "      <td>India</td>\n",
       "      <td>15320972</td>\n",
       "      <td>180530</td>\n",
       "      <td>15061805</td>\n",
       "      <td>178769</td>\n",
       "      <td>259167</td>\n",
       "      <td>1761</td>\n",
       "      <td>1.18</td>\n",
       "      <td>Asia</td>\n",
       "    </tr>\n",
       "    <tr>\n",
       "      <th>2</th>\n",
       "      <td>Brazil</td>\n",
       "      <td>13973695</td>\n",
       "      <td>374682</td>\n",
       "      <td>13943071</td>\n",
       "      <td>373335</td>\n",
       "      <td>30624</td>\n",
       "      <td>1347</td>\n",
       "      <td>2.68</td>\n",
       "      <td>South America</td>\n",
       "    </tr>\n",
       "    <tr>\n",
       "      <th>3</th>\n",
       "      <td>France</td>\n",
       "      <td>5357229</td>\n",
       "      <td>101339</td>\n",
       "      <td>5350521</td>\n",
       "      <td>100892</td>\n",
       "      <td>6708</td>\n",
       "      <td>447</td>\n",
       "      <td>1.89</td>\n",
       "      <td>Europe</td>\n",
       "    </tr>\n",
       "    <tr>\n",
       "      <th>4</th>\n",
       "      <td>Russia</td>\n",
       "      <td>4657509</td>\n",
       "      <td>104173</td>\n",
       "      <td>4649044</td>\n",
       "      <td>103834</td>\n",
       "      <td>8465</td>\n",
       "      <td>339</td>\n",
       "      <td>2.24</td>\n",
       "      <td>Europe</td>\n",
       "    </tr>\n",
       "  </tbody>\n",
       "</table>\n",
       "</div>"
      ],
      "text/plain": [
       "  Country/Region     Cases  Deaths    PCases  PDeaths  Cases (+)  Deaths (+)  \\\n",
       "0             US  31737964  567694  31670031   567217      67933         477   \n",
       "1          India  15320972  180530  15061805   178769     259167        1761   \n",
       "2         Brazil  13973695  374682  13943071   373335      30624        1347   \n",
       "3         France   5357229  101339   5350521   100892       6708         447   \n",
       "4         Russia   4657509  104173   4649044   103834       8465         339   \n",
       "\n",
       "   Fatality Rate      Continent  \n",
       "0           1.79  North America  \n",
       "1           1.18           Asia  \n",
       "2           2.68  South America  \n",
       "3           1.89         Europe  \n",
       "4           2.24         Europe  "
      ]
     },
     "execution_count": 13,
     "metadata": {},
     "output_type": "execute_result"
    }
   ],
   "source": [
    "#hide\n",
    "for c in 'Cases, Deaths'.split(', '):\n",
    "    df_table[f'{c} (+)'] = (df_table[c] - df_table[f'P{c}']).clip(0)\n",
    "    #Clip ça veut dire, les chiffres negatif sont interdit\n",
    "df_table['Fatality Rate'] = (100* df_table['Deaths']/ df_table['Cases']).round(2)\n",
    "df_table['Continent'] = df_table['Country/Region'].map(mapping['map.continent'])\n",
    "df_table.head(5)"
   ]
  },
  {
   "cell_type": "code",
   "execution_count": 14,
   "id": "aboriginal-bulgaria",
   "metadata": {
    "execution": {
     "iopub.execute_input": "2021-04-20T12:04:59.289674Z",
     "iopub.status.busy": "2021-04-20T12:04:59.288983Z",
     "iopub.status.idle": "2021-04-20T12:04:59.292225Z",
     "shell.execute_reply": "2021-04-20T12:04:59.291693Z"
    },
    "papermill": {
     "duration": 0.053831,
     "end_time": "2021-04-20T12:04:59.292361",
     "exception": false,
     "start_time": "2021-04-20T12:04:59.238530",
     "status": "completed"
    },
    "tags": []
   },
   "outputs": [],
   "source": [
    "#hide\n",
    "#delete problematic countries from table\n",
    "df_table = df_table[~df_table['Country/Region'].isin(['Cape Verde', 'Cruise Ship', 'Kosovo'])]"
   ]
  },
  {
   "cell_type": "code",
   "execution_count": 15,
   "id": "fantastic-effect",
   "metadata": {
    "execution": {
     "iopub.execute_input": "2021-04-20T12:04:59.374028Z",
     "iopub.status.busy": "2021-04-20T12:04:59.373416Z",
     "iopub.status.idle": "2021-04-20T12:04:59.393551Z",
     "shell.execute_reply": "2021-04-20T12:04:59.393989Z"
    },
    "papermill": {
     "duration": 0.063443,
     "end_time": "2021-04-20T12:04:59.394111",
     "exception": false,
     "start_time": "2021-04-20T12:04:59.330668",
     "status": "completed"
    },
    "tags": []
   },
   "outputs": [
    {
     "data": {
      "text/html": [
       "<div>\n",
       "<style scoped>\n",
       "    .dataframe tbody tr th:only-of-type {\n",
       "        vertical-align: middle;\n",
       "    }\n",
       "\n",
       "    .dataframe tbody tr th {\n",
       "        vertical-align: top;\n",
       "    }\n",
       "\n",
       "    .dataframe thead th {\n",
       "        text-align: right;\n",
       "    }\n",
       "</style>\n",
       "<table border=\"1\" class=\"dataframe\">\n",
       "  <thead>\n",
       "    <tr style=\"text-align: right;\">\n",
       "      <th></th>\n",
       "      <th>Country/Region</th>\n",
       "      <th>Cases</th>\n",
       "      <th>Deaths</th>\n",
       "      <th>PCases</th>\n",
       "      <th>PDeaths</th>\n",
       "      <th>Cases (+)</th>\n",
       "      <th>Deaths (+)</th>\n",
       "      <th>Fatality Rate</th>\n",
       "      <th>Continent</th>\n",
       "    </tr>\n",
       "  </thead>\n",
       "  <tbody>\n",
       "    <tr>\n",
       "      <th>0</th>\n",
       "      <td>US</td>\n",
       "      <td>31737964</td>\n",
       "      <td>567694</td>\n",
       "      <td>31670031</td>\n",
       "      <td>567217</td>\n",
       "      <td>67933</td>\n",
       "      <td>477</td>\n",
       "      <td>1.8</td>\n",
       "      <td>North America</td>\n",
       "    </tr>\n",
       "    <tr>\n",
       "      <th>1</th>\n",
       "      <td>India</td>\n",
       "      <td>15320972</td>\n",
       "      <td>180530</td>\n",
       "      <td>15061805</td>\n",
       "      <td>178769</td>\n",
       "      <td>259167</td>\n",
       "      <td>1761</td>\n",
       "      <td>1.2</td>\n",
       "      <td>Asia</td>\n",
       "    </tr>\n",
       "    <tr>\n",
       "      <th>2</th>\n",
       "      <td>Brazil</td>\n",
       "      <td>13973695</td>\n",
       "      <td>374682</td>\n",
       "      <td>13943071</td>\n",
       "      <td>373335</td>\n",
       "      <td>30624</td>\n",
       "      <td>1347</td>\n",
       "      <td>2.7</td>\n",
       "      <td>South America</td>\n",
       "    </tr>\n",
       "    <tr>\n",
       "      <th>3</th>\n",
       "      <td>France</td>\n",
       "      <td>5357229</td>\n",
       "      <td>101339</td>\n",
       "      <td>5350521</td>\n",
       "      <td>100892</td>\n",
       "      <td>6708</td>\n",
       "      <td>447</td>\n",
       "      <td>1.9</td>\n",
       "      <td>Europe</td>\n",
       "    </tr>\n",
       "    <tr>\n",
       "      <th>4</th>\n",
       "      <td>Russia</td>\n",
       "      <td>4657509</td>\n",
       "      <td>104173</td>\n",
       "      <td>4649044</td>\n",
       "      <td>103834</td>\n",
       "      <td>8465</td>\n",
       "      <td>339</td>\n",
       "      <td>2.2</td>\n",
       "      <td>Europe</td>\n",
       "    </tr>\n",
       "  </tbody>\n",
       "</table>\n",
       "</div>"
      ],
      "text/plain": [
       "  Country/Region     Cases  Deaths    PCases  PDeaths  Cases (+)  Deaths (+)  \\\n",
       "0             US  31737964  567694  31670031   567217      67933         477   \n",
       "1          India  15320972  180530  15061805   178769     259167        1761   \n",
       "2         Brazil  13973695  374682  13943071   373335      30624        1347   \n",
       "3         France   5357229  101339   5350521   100892       6708         447   \n",
       "4         Russia   4657509  104173   4649044   103834       8465         339   \n",
       "\n",
       "   Fatality Rate      Continent  \n",
       "0            1.8  North America  \n",
       "1            1.2           Asia  \n",
       "2            2.7  South America  \n",
       "3            1.9         Europe  \n",
       "4            2.2         Europe  "
      ]
     },
     "execution_count": 15,
     "metadata": {},
     "output_type": "execute_result"
    }
   ],
   "source": [
    "#hide\n",
    "df_table = (pd.DataFrame(dict(Cases=dfc_cases, Deaths=dfc_deaths, PCases=dfp_cases, PDeaths=dfp_deaths))\n",
    "             .sort_values(by=['Cases', 'Deaths'], ascending=[False, False])\n",
    "             .reset_index())\n",
    "df_table.rename(columns={'index': 'Country/Region'}, inplace=True)\n",
    "for c in 'Cases, Deaths'.split(', '):\n",
    "    df_table[f'{c} (+)'] = (df_table[c] - df_table[f'P{c}']).clip(0)  # DATA BUG\n",
    "df_table['Fatality Rate'] = (100 * df_table['Deaths'] / df_table['Cases']).round(1)\n",
    "df_table['Continent'] = df_table['Country/Region'].map(mapping['map.continent'])\n",
    "df_table.head(5)"
   ]
  },
  {
   "cell_type": "code",
   "execution_count": 16,
   "id": "fewer-occasion",
   "metadata": {
    "execution": {
     "iopub.execute_input": "2021-04-20T12:04:59.478431Z",
     "iopub.status.busy": "2021-04-20T12:04:59.477703Z",
     "iopub.status.idle": "2021-04-20T12:04:59.481523Z",
     "shell.execute_reply": "2021-04-20T12:04:59.480903Z"
    },
    "papermill": {
     "duration": 0.048411,
     "end_time": "2021-04-20T12:04:59.481634",
     "exception": false,
     "start_time": "2021-04-20T12:04:59.433223",
     "status": "completed"
    },
    "tags": []
   },
   "outputs": [],
   "source": [
    "#hide\n",
    "#delete problematic countries from table\n",
    "df_table = df_table[~df_table['Country/Region'].isin(['Cape Verde', 'Cruise Ship', 'Kosovo'])]"
   ]
  },
  {
   "cell_type": "code",
   "execution_count": 17,
   "id": "related-center",
   "metadata": {
    "execution": {
     "iopub.execute_input": "2021-04-20T12:04:59.578706Z",
     "iopub.status.busy": "2021-04-20T12:04:59.578064Z",
     "iopub.status.idle": "2021-04-20T12:04:59.580421Z",
     "shell.execute_reply": "2021-04-20T12:04:59.579850Z"
    },
    "papermill": {
     "duration": 0.060528,
     "end_time": "2021-04-20T12:04:59.580548",
     "exception": false,
     "start_time": "2021-04-20T12:04:59.520020",
     "status": "completed"
    },
    "tags": []
   },
   "outputs": [],
   "source": [
    "#hide\n",
    "metrics = [df_table.columns[index] for index in [1,2,5,6]]\n",
    "# s_china = df_table[df_table['Country/Region'].eq('China')][metrics].sum().add_prefix('China ')\n",
    "s_us = df_table[df_table['Country/Region'].eq('US')][metrics].sum().add_prefix('US ')\n",
    "s_eu = df_table[df_table['Continent'].eq('Europe')][metrics].sum().add_prefix('EU ')\n",
    "s_ind = df_table[df_table['Country/Region'].eq('India')][metrics].sum().add_prefix('India ')\n",
    "summary = {'updated': pd.to_datetime(dt_today), 'since': pd.to_datetime(dt_yday)}\n",
    "summary = {'updated': pd.to_datetime(dt_today), 'since': pd.to_datetime(dt_yday)}\n",
    "summary = {**summary, **df_table[metrics].sum(), **s_ind, **s_us, **s_eu}"
   ]
  },
  {
   "cell_type": "code",
   "execution_count": 18,
   "id": "engaging-syndrome",
   "metadata": {
    "execution": {
     "iopub.execute_input": "2021-04-20T12:04:59.658837Z",
     "iopub.status.busy": "2021-04-20T12:04:59.658263Z",
     "iopub.status.idle": "2021-04-20T12:04:59.670666Z",
     "shell.execute_reply": "2021-04-20T12:04:59.670045Z"
    },
    "papermill": {
     "duration": 0.053577,
     "end_time": "2021-04-20T12:04:59.670840",
     "exception": false,
     "start_time": "2021-04-20T12:04:59.617263",
     "status": "completed"
    },
    "tags": []
   },
   "outputs": [],
   "source": [
    "#hide\n",
    "dft_ct_new_cases = dft_cases.groupby(COL_REGION)[dt_cols].sum().diff(axis=1).fillna(0).astype(int)"
   ]
  },
  {
   "cell_type": "code",
   "execution_count": 19,
   "id": "neutral-assignment",
   "metadata": {
    "execution": {
     "iopub.execute_input": "2021-04-20T12:04:59.757503Z",
     "iopub.status.busy": "2021-04-20T12:04:59.756873Z",
     "iopub.status.idle": "2021-04-20T12:04:59.758820Z",
     "shell.execute_reply": "2021-04-20T12:04:59.759308Z"
    },
    "papermill": {
     "duration": 0.049271,
     "end_time": "2021-04-20T12:04:59.759439",
     "exception": false,
     "start_time": "2021-04-20T12:04:59.710168",
     "status": "completed"
    },
    "tags": []
   },
   "outputs": [],
   "source": [
    "#hide\n",
    "everydaycases = dft_ct_new_cases.cumsum(axis=1)"
   ]
  },
  {
   "cell_type": "code",
   "execution_count": 20,
   "id": "parliamentary-calgary",
   "metadata": {
    "execution": {
     "iopub.execute_input": "2021-04-20T12:04:59.841189Z",
     "iopub.status.busy": "2021-04-20T12:04:59.840557Z",
     "iopub.status.idle": "2021-04-20T12:05:00.461979Z",
     "shell.execute_reply": "2021-04-20T12:05:00.461195Z"
    },
    "papermill": {
     "duration": 0.664056,
     "end_time": "2021-04-20T12:05:00.462137",
     "exception": false,
     "start_time": "2021-04-20T12:04:59.798081",
     "status": "completed"
    },
    "tags": []
   },
   "outputs": [],
   "source": [
    "#hide\n",
    "import pandas as pd\n",
    "import matplotlib.pyplot as plt\n",
    "import matplotlib.ticker as ticker\n",
    "import matplotlib.animation as animation\n",
    "from IPython.display import HTML"
   ]
  },
  {
   "cell_type": "code",
   "execution_count": 21,
   "id": "lasting-extraction",
   "metadata": {
    "execution": {
     "iopub.execute_input": "2021-04-20T12:05:00.546027Z",
     "iopub.status.busy": "2021-04-20T12:05:00.545369Z",
     "iopub.status.idle": "2021-04-20T12:05:00.550755Z",
     "shell.execute_reply": "2021-04-20T12:05:00.551355Z"
    },
    "papermill": {
     "duration": 0.050825,
     "end_time": "2021-04-20T12:05:00.551564",
     "exception": false,
     "start_time": "2021-04-20T12:05:00.500739",
     "status": "completed"
    },
    "tags": []
   },
   "outputs": [],
   "source": [
    "#hide\n",
    "t = everydaycases.stack()"
   ]
  },
  {
   "cell_type": "code",
   "execution_count": 22,
   "id": "premier-sleeve",
   "metadata": {
    "execution": {
     "iopub.execute_input": "2021-04-20T12:05:00.635390Z",
     "iopub.status.busy": "2021-04-20T12:05:00.634624Z",
     "iopub.status.idle": "2021-04-20T12:05:00.643128Z",
     "shell.execute_reply": "2021-04-20T12:05:00.642369Z"
    },
    "papermill": {
     "duration": 0.050997,
     "end_time": "2021-04-20T12:05:00.643293",
     "exception": false,
     "start_time": "2021-04-20T12:05:00.592296",
     "status": "completed"
    },
    "tags": []
   },
   "outputs": [],
   "source": [
    "#hide\n",
    "g = t.reset_index(['Country/Region'])"
   ]
  },
  {
   "cell_type": "code",
   "execution_count": 23,
   "id": "distributed-pittsburgh",
   "metadata": {
    "execution": {
     "iopub.execute_input": "2021-04-20T12:05:00.726503Z",
     "iopub.status.busy": "2021-04-20T12:05:00.725903Z",
     "iopub.status.idle": "2021-04-20T12:05:00.728214Z",
     "shell.execute_reply": "2021-04-20T12:05:00.727722Z"
    },
    "papermill": {
     "duration": 0.044964,
     "end_time": "2021-04-20T12:05:00.728333",
     "exception": false,
     "start_time": "2021-04-20T12:05:00.683369",
     "status": "completed"
    },
    "tags": []
   },
   "outputs": [],
   "source": [
    "#hide\n",
    "g.index.name = 'date'"
   ]
  },
  {
   "cell_type": "code",
   "execution_count": 24,
   "id": "naked-donor",
   "metadata": {
    "execution": {
     "iopub.execute_input": "2021-04-20T12:05:00.815427Z",
     "iopub.status.busy": "2021-04-20T12:05:00.814824Z",
     "iopub.status.idle": "2021-04-20T12:05:00.816529Z",
     "shell.execute_reply": "2021-04-20T12:05:00.816995Z"
    },
    "papermill": {
     "duration": 0.049206,
     "end_time": "2021-04-20T12:05:00.817144",
     "exception": false,
     "start_time": "2021-04-20T12:05:00.767938",
     "status": "completed"
    },
    "tags": []
   },
   "outputs": [],
   "source": [
    "# #hide\n",
    "# g = g.reset_index(['date'])"
   ]
  },
  {
   "cell_type": "code",
   "execution_count": 25,
   "id": "incomplete-mustang",
   "metadata": {
    "execution": {
     "iopub.execute_input": "2021-04-20T12:05:00.900373Z",
     "iopub.status.busy": "2021-04-20T12:05:00.899745Z",
     "iopub.status.idle": "2021-04-20T12:05:00.902478Z",
     "shell.execute_reply": "2021-04-20T12:05:00.901951Z"
    },
    "papermill": {
     "duration": 0.046921,
     "end_time": "2021-04-20T12:05:00.902632",
     "exception": false,
     "start_time": "2021-04-20T12:05:00.855711",
     "status": "completed"
    },
    "tags": []
   },
   "outputs": [],
   "source": [
    "#hide\n",
    "# g.head()"
   ]
  },
  {
   "cell_type": "code",
   "execution_count": 26,
   "id": "specific-kruger",
   "metadata": {
    "execution": {
     "iopub.execute_input": "2021-04-20T12:05:00.982507Z",
     "iopub.status.busy": "2021-04-20T12:05:00.981865Z",
     "iopub.status.idle": "2021-04-20T12:05:00.984413Z",
     "shell.execute_reply": "2021-04-20T12:05:00.983900Z"
    },
    "papermill": {
     "duration": 0.043024,
     "end_time": "2021-04-20T12:05:00.984544",
     "exception": false,
     "start_time": "2021-04-20T12:05:00.941520",
     "status": "completed"
    },
    "tags": []
   },
   "outputs": [],
   "source": [
    "#hide\n",
    "# g.columns = ['date','country','cases']"
   ]
  },
  {
   "cell_type": "code",
   "execution_count": 27,
   "id": "tender-conversion",
   "metadata": {
    "execution": {
     "iopub.execute_input": "2021-04-20T12:05:01.086193Z",
     "iopub.status.busy": "2021-04-20T12:05:01.085572Z",
     "iopub.status.idle": "2021-04-20T12:05:01.087767Z",
     "shell.execute_reply": "2021-04-20T12:05:01.088480Z"
    },
    "papermill": {
     "duration": 0.064524,
     "end_time": "2021-04-20T12:05:01.088689",
     "exception": false,
     "start_time": "2021-04-20T12:05:01.024165",
     "status": "completed"
    },
    "tags": []
   },
   "outputs": [],
   "source": [
    "#hide\n",
    "# g['continent'] = g.country"
   ]
  },
  {
   "cell_type": "code",
   "execution_count": 28,
   "id": "substantial-wilderness",
   "metadata": {
    "execution": {
     "iopub.execute_input": "2021-04-20T12:05:01.169754Z",
     "iopub.status.busy": "2021-04-20T12:05:01.168956Z",
     "iopub.status.idle": "2021-04-20T12:05:01.171550Z",
     "shell.execute_reply": "2021-04-20T12:05:01.171018Z"
    },
    "papermill": {
     "duration": 0.043451,
     "end_time": "2021-04-20T12:05:01.171664",
     "exception": false,
     "start_time": "2021-04-20T12:05:01.128213",
     "status": "completed"
    },
    "tags": []
   },
   "outputs": [],
   "source": [
    "#hide\n",
    "# cols = list(g.columns.values)"
   ]
  },
  {
   "cell_type": "code",
   "execution_count": 29,
   "id": "solved-farming",
   "metadata": {
    "execution": {
     "iopub.execute_input": "2021-04-20T12:05:01.250784Z",
     "iopub.status.busy": "2021-04-20T12:05:01.250236Z",
     "iopub.status.idle": "2021-04-20T12:05:01.252390Z",
     "shell.execute_reply": "2021-04-20T12:05:01.251848Z"
    },
    "papermill": {
     "duration": 0.044751,
     "end_time": "2021-04-20T12:05:01.252497",
     "exception": false,
     "start_time": "2021-04-20T12:05:01.207746",
     "status": "completed"
    },
    "tags": []
   },
   "outputs": [],
   "source": [
    "#hide\n",
    "# cols.insert(0, cols.pop())"
   ]
  },
  {
   "cell_type": "code",
   "execution_count": 30,
   "id": "executed-adoption",
   "metadata": {
    "execution": {
     "iopub.execute_input": "2021-04-20T12:05:01.330467Z",
     "iopub.status.busy": "2021-04-20T12:05:01.329657Z",
     "iopub.status.idle": "2021-04-20T12:05:01.334298Z",
     "shell.execute_reply": "2021-04-20T12:05:01.333186Z"
    },
    "papermill": {
     "duration": 0.045648,
     "end_time": "2021-04-20T12:05:01.334429",
     "exception": false,
     "start_time": "2021-04-20T12:05:01.288781",
     "status": "completed"
    },
    "tags": []
   },
   "outputs": [],
   "source": [
    "#hide\n",
    "# g = g[cols]"
   ]
  },
  {
   "cell_type": "code",
   "execution_count": 31,
   "id": "subject-dublin",
   "metadata": {
    "execution": {
     "iopub.execute_input": "2021-04-20T12:05:01.416272Z",
     "iopub.status.busy": "2021-04-20T12:05:01.415688Z",
     "iopub.status.idle": "2021-04-20T12:05:01.418295Z",
     "shell.execute_reply": "2021-04-20T12:05:01.417648Z"
    },
    "papermill": {
     "duration": 0.044183,
     "end_time": "2021-04-20T12:05:01.418434",
     "exception": false,
     "start_time": "2021-04-20T12:05:01.374251",
     "status": "completed"
    },
    "tags": []
   },
   "outputs": [],
   "source": [
    "#hide\n",
    "# g['continent'] = g['continent'].map(mapping['map.continent'])"
   ]
  },
  {
   "cell_type": "code",
   "execution_count": 32,
   "id": "freelance-scout",
   "metadata": {
    "execution": {
     "iopub.execute_input": "2021-04-20T12:05:01.498827Z",
     "iopub.status.busy": "2021-04-20T12:05:01.498133Z",
     "iopub.status.idle": "2021-04-20T12:05:01.501211Z",
     "shell.execute_reply": "2021-04-20T12:05:01.500375Z"
    },
    "papermill": {
     "duration": 0.045305,
     "end_time": "2021-04-20T12:05:01.501358",
     "exception": false,
     "start_time": "2021-04-20T12:05:01.456053",
     "status": "completed"
    },
    "tags": []
   },
   "outputs": [],
   "source": [
    "#hide\n",
    "# g.head()"
   ]
  },
  {
   "cell_type": "code",
   "execution_count": 33,
   "id": "limited-engine",
   "metadata": {
    "execution": {
     "iopub.execute_input": "2021-04-20T12:05:01.581388Z",
     "iopub.status.busy": "2021-04-20T12:05:01.580650Z",
     "iopub.status.idle": "2021-04-20T12:05:01.583175Z",
     "shell.execute_reply": "2021-04-20T12:05:01.582452Z"
    },
    "papermill": {
     "duration": 0.044949,
     "end_time": "2021-04-20T12:05:01.583342",
     "exception": false,
     "start_time": "2021-04-20T12:05:01.538393",
     "status": "completed"
    },
    "tags": []
   },
   "outputs": [],
   "source": [
    "# hide\n",
    "# g['date'] = g['date'].astype('datetime64[ns]')"
   ]
  },
  {
   "cell_type": "code",
   "execution_count": 34,
   "id": "sophisticated-supervisor",
   "metadata": {
    "execution": {
     "iopub.execute_input": "2021-04-20T12:05:01.664525Z",
     "iopub.status.busy": "2021-04-20T12:05:01.663757Z",
     "iopub.status.idle": "2021-04-20T12:05:01.666274Z",
     "shell.execute_reply": "2021-04-20T12:05:01.665728Z"
    },
    "papermill": {
     "duration": 0.04476,
     "end_time": "2021-04-20T12:05:01.666394",
     "exception": false,
     "start_time": "2021-04-20T12:05:01.621634",
     "status": "completed"
    },
    "tags": []
   },
   "outputs": [],
   "source": [
    "#hide\n",
    "# g['date'] = g.date.dt.dayofyear"
   ]
  },
  {
   "cell_type": "code",
   "execution_count": 35,
   "id": "inside-dubai",
   "metadata": {
    "execution": {
     "iopub.execute_input": "2021-04-20T12:05:01.747769Z",
     "iopub.status.busy": "2021-04-20T12:05:01.747159Z",
     "iopub.status.idle": "2021-04-20T12:05:01.749658Z",
     "shell.execute_reply": "2021-04-20T12:05:01.749106Z"
    },
    "papermill": {
     "duration": 0.04586,
     "end_time": "2021-04-20T12:05:01.749876",
     "exception": false,
     "start_time": "2021-04-20T12:05:01.704016",
     "status": "completed"
    },
    "tags": []
   },
   "outputs": [],
   "source": [
    "#hide\n",
    "# g = g.rename(columns= {'continent':'group','country':'name','cases':'value'})"
   ]
  },
  {
   "cell_type": "code",
   "execution_count": 36,
   "id": "fleet-motorcycle",
   "metadata": {
    "execution": {
     "iopub.execute_input": "2021-04-20T12:05:01.834398Z",
     "iopub.status.busy": "2021-04-20T12:05:01.833611Z",
     "iopub.status.idle": "2021-04-20T12:05:01.836796Z",
     "shell.execute_reply": "2021-04-20T12:05:01.836311Z"
    },
    "papermill": {
     "duration": 0.046747,
     "end_time": "2021-04-20T12:05:01.836938",
     "exception": false,
     "start_time": "2021-04-20T12:05:01.790191",
     "status": "completed"
    },
    "tags": []
   },
   "outputs": [],
   "source": [
    "#hide\n",
    "# cols = ['name','group','day','value']"
   ]
  },
  {
   "cell_type": "code",
   "execution_count": 37,
   "id": "continued-sleeping",
   "metadata": {
    "execution": {
     "iopub.execute_input": "2021-04-20T12:05:01.929134Z",
     "iopub.status.busy": "2021-04-20T12:05:01.928487Z",
     "iopub.status.idle": "2021-04-20T12:05:01.929792Z",
     "shell.execute_reply": "2021-04-20T12:05:01.930329Z"
    },
    "papermill": {
     "duration": 0.045687,
     "end_time": "2021-04-20T12:05:01.930474",
     "exception": false,
     "start_time": "2021-04-20T12:05:01.884787",
     "status": "completed"
    },
    "tags": []
   },
   "outputs": [],
   "source": [
    "#hide\n",
    "# g.rename(columns= {'date':'day'},inplace = True)"
   ]
  },
  {
   "cell_type": "code",
   "execution_count": 38,
   "id": "major-fight",
   "metadata": {
    "execution": {
     "iopub.execute_input": "2021-04-20T12:05:02.014386Z",
     "iopub.status.busy": "2021-04-20T12:05:02.013655Z",
     "iopub.status.idle": "2021-04-20T12:05:02.015899Z",
     "shell.execute_reply": "2021-04-20T12:05:02.016376Z"
    },
    "papermill": {
     "duration": 0.045732,
     "end_time": "2021-04-20T12:05:02.016513",
     "exception": false,
     "start_time": "2021-04-20T12:05:01.970781",
     "status": "completed"
    },
    "tags": []
   },
   "outputs": [],
   "source": [
    "#hide\n",
    "# g = g[cols]"
   ]
  },
  {
   "cell_type": "code",
   "execution_count": 39,
   "id": "structured-mobile",
   "metadata": {
    "execution": {
     "iopub.execute_input": "2021-04-20T12:05:02.104002Z",
     "iopub.status.busy": "2021-04-20T12:05:02.103273Z",
     "iopub.status.idle": "2021-04-20T12:05:02.105929Z",
     "shell.execute_reply": "2021-04-20T12:05:02.105420Z"
    },
    "papermill": {
     "duration": 0.048517,
     "end_time": "2021-04-20T12:05:02.106045",
     "exception": false,
     "start_time": "2021-04-20T12:05:02.057528",
     "status": "completed"
    },
    "tags": []
   },
   "outputs": [],
   "source": [
    "# #hide\n",
    "# g = g[g.group.notna()]"
   ]
  },
  {
   "cell_type": "code",
   "execution_count": 40,
   "id": "determined-closing",
   "metadata": {
    "execution": {
     "iopub.execute_input": "2021-04-20T12:05:02.194911Z",
     "iopub.status.busy": "2021-04-20T12:05:02.194309Z",
     "iopub.status.idle": "2021-04-20T12:05:02.196619Z",
     "shell.execute_reply": "2021-04-20T12:05:02.196141Z"
    },
    "papermill": {
     "duration": 0.044317,
     "end_time": "2021-04-20T12:05:02.196751",
     "exception": false,
     "start_time": "2021-04-20T12:05:02.152434",
     "status": "completed"
    },
    "tags": []
   },
   "outputs": [],
   "source": [
    "# #hide\n",
    "# colors = dict(zip(\n",
    "#     [\"Oceania\", \"Europe\", \"Asia\", \"South America\", \"Middle East\", \"North America\", \"Africa\"],\n",
    "#     [\"#adb0ff\", \"#ffb3ff\", \"#90d595\", \"#e48381\", \"#aafbff\", \"#f7bb5f\", \"#eafb50\"]\n",
    "# ))\n",
    "# group_lk = g.set_index('name')['group'].to_dict()"
   ]
  },
  {
   "cell_type": "code",
   "execution_count": null,
   "id": "gross-drinking",
   "metadata": {
    "papermill": {
     "duration": 0.037276,
     "end_time": "2021-04-20T12:05:02.270911",
     "exception": false,
     "start_time": "2021-04-20T12:05:02.233635",
     "status": "completed"
    },
    "tags": []
   },
   "outputs": [],
   "source": []
  },
  {
   "cell_type": "code",
   "execution_count": 41,
   "id": "subject-macintosh",
   "metadata": {
    "execution": {
     "iopub.execute_input": "2021-04-20T12:05:02.352721Z",
     "iopub.status.busy": "2021-04-20T12:05:02.352112Z",
     "iopub.status.idle": "2021-04-20T12:05:02.354231Z",
     "shell.execute_reply": "2021-04-20T12:05:02.354674Z"
    },
    "papermill": {
     "duration": 0.046237,
     "end_time": "2021-04-20T12:05:02.354821",
     "exception": false,
     "start_time": "2021-04-20T12:05:02.308584",
     "status": "completed"
    },
    "tags": []
   },
   "outputs": [],
   "source": [
    "# #hide\n",
    "# fig, ax = plt.subplots(figsize=(15, 8))\n",
    "\n",
    "# def draw_barchart(current_day):\n",
    "#     dff = g[g['day'].eq(current_day)].sort_values(by='value', ascending=True).tail(10)\n",
    "#     ax.clear()\n",
    "#     ax.barh(dff['name'], dff['value'], color=[colors[group_lk[x]] for x in dff['name']])\n",
    "#     dx = dff['value'].max() / 200\n",
    "    \n",
    "#     for i, (value, name) in enumerate(zip(dff['value'], dff['name'])):\n",
    "#         ax.text(value-dx, i,     name,           size=14, weight=600, ha='right', va='bottom')\n",
    "#         ax.text(value-dx, i-.25, group_lk[name], size=10, color='#444444', ha='right', va='baseline')\n",
    "#         ax.text(value+dx, i,     f'{value:,.0f}',  size=14, ha='left',  va='center')\n",
    "#     ax.text(1, 0.4, current_day, transform=ax.transAxes, color='#777777', size=46, ha='right', weight=800)\n",
    "#     ax.text(0, 1.06, 'Population (thousands)', transform=ax.transAxes, size=12, color='#777777')\n",
    "#     ax.xaxis.set_major_formatter(ticker.StrMethodFormatter('{x:,.0f}'))\n",
    "#     ax.xaxis.set_ticks_position('top')\n",
    "#     ax.tick_params(axis='x', colors='#777777', labelsize=12)\n",
    "#     ax.set_yticks([])\n",
    "#     ax.margins(0, 0.01)\n",
    "#     ax.grid(which='major', axis='x', linestyle='-')\n",
    "#     ax.set_axisbelow(True)\n",
    "    \n",
    "#     ax.text(0, 1.15, 'Coronavirus',\n",
    "#             transform=ax.transAxes, size=24, weight=600, ha='left', va='top')\n",
    "# #     ax.text(1, 0, 'by @pratapvardhan; credit @jburnmurdoch', transform=ax.transAxes, color='#777777', ha='right',\n",
    "# #             bbox=dict(facecolor='white', alpha=0.8, edgecolor='white'))\n",
    "#     plt.box(False)"
   ]
  },
  {
   "cell_type": "code",
   "execution_count": 42,
   "id": "sexual-wages",
   "metadata": {
    "execution": {
     "iopub.execute_input": "2021-04-20T12:05:02.436581Z",
     "iopub.status.busy": "2021-04-20T12:05:02.435804Z",
     "iopub.status.idle": "2021-04-20T12:05:02.438511Z",
     "shell.execute_reply": "2021-04-20T12:05:02.437956Z"
    },
    "papermill": {
     "duration": 0.044194,
     "end_time": "2021-04-20T12:05:02.438621",
     "exception": false,
     "start_time": "2021-04-20T12:05:02.394427",
     "status": "completed"
    },
    "tags": []
   },
   "outputs": [],
   "source": [
    "# #hide_input\n",
    "# fig, ax = plt.subplots(figsize=(15, 8))\n",
    "# animator = animation.FuncAnimation(fig, draw_barchart, frames=range(g.day.values.min(), g.day.values.max()))\n",
    "# HTML(animator.to_jshtml())\n",
    "# # or use animator.to_html5_video() or animator.save() "
   ]
  },
  {
   "cell_type": "code",
   "execution_count": null,
   "id": "australian-container",
   "metadata": {
    "papermill": {
     "duration": 0.03932,
     "end_time": "2021-04-20T12:05:02.514713",
     "exception": false,
     "start_time": "2021-04-20T12:05:02.475393",
     "status": "completed"
    },
    "tags": []
   },
   "outputs": [],
   "source": []
  },
  {
   "cell_type": "code",
   "execution_count": null,
   "id": "mediterranean-pontiac",
   "metadata": {
    "papermill": {
     "duration": 0.038207,
     "end_time": "2021-04-20T12:05:02.590864",
     "exception": false,
     "start_time": "2021-04-20T12:05:02.552657",
     "status": "completed"
    },
    "tags": []
   },
   "outputs": [],
   "source": []
  },
  {
   "cell_type": "code",
   "execution_count": null,
   "id": "aging-legislature",
   "metadata": {
    "papermill": {
     "duration": 0.037383,
     "end_time": "2021-04-20T12:05:02.667092",
     "exception": false,
     "start_time": "2021-04-20T12:05:02.629709",
     "status": "completed"
    },
    "tags": []
   },
   "outputs": [],
   "source": []
  }
 ],
 "metadata": {
  "kernelspec": {
   "display_name": "Python 3",
   "language": "python",
   "name": "python3"
  },
  "language_info": {
   "codemirror_mode": {
    "name": "ipython",
    "version": 3
   },
   "file_extension": ".py",
   "mimetype": "text/x-python",
   "name": "python",
   "nbconvert_exporter": "python",
   "pygments_lexer": "ipython3",
   "version": "3.6.13"
  },
  "papermill": {
   "duration": 6.871899,
   "end_time": "2021-04-20T12:05:03.013994",
   "environment_variables": {},
   "exception": null,
   "input_path": "2020-03-21-covid19exp.ipynb",
   "output_path": "2020-03-21-covid19exp.ipynb",
   "parameters": {},
   "start_time": "2021-04-20T12:04:56.142095",
   "version": "2.0.0"
  }
 },
 "nbformat": 4,
 "nbformat_minor": 5
}