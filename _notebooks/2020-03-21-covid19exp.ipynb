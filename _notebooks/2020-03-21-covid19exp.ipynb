{
 "cells": [
  {
   "cell_type": "markdown",
   "id": "muslim-click",
   "metadata": {
    "papermill": {
     "duration": 0.043202,
     "end_time": "2021-09-15T00:40:39.097047",
     "exception": false,
     "start_time": "2021-09-15T00:40:39.053845",
     "status": "completed"
    },
    "tags": []
   },
   "source": [
    "# COVID-19 Case Race\n",
    "> A race chart to see rising cases around the world\n",
    "\n",
    "- author: Hargun Oberoi\n",
    "- image: images/covid-overview.png\n",
    "- hide: false\n",
    "- badges: false"
   ]
  },
  {
   "cell_type": "code",
   "execution_count": 1,
   "id": "proof-material",
   "metadata": {
    "execution": {
     "iopub.execute_input": "2021-09-15T00:40:39.178856Z",
     "iopub.status.busy": "2021-09-15T00:40:39.178153Z",
     "iopub.status.idle": "2021-09-15T00:40:39.586227Z",
     "shell.execute_reply": "2021-09-15T00:40:39.585619Z"
    },
    "papermill": {
     "duration": 0.45405,
     "end_time": "2021-09-15T00:40:39.586427",
     "exception": false,
     "start_time": "2021-09-15T00:40:39.132377",
     "status": "completed"
    },
    "tags": []
   },
   "outputs": [],
   "source": [
    "#hide\n",
    "import numpy as np\n",
    "import pandas as pd\n",
    "from jinja2 import Template\n",
    "from IPython.display import HTML"
   ]
  },
  {
   "cell_type": "code",
   "execution_count": 2,
   "id": "developed-terminology",
   "metadata": {
    "execution": {
     "iopub.execute_input": "2021-09-15T00:40:39.666255Z",
     "iopub.status.busy": "2021-09-15T00:40:39.665540Z",
     "iopub.status.idle": "2021-09-15T00:40:39.667107Z",
     "shell.execute_reply": "2021-09-15T00:40:39.667673Z"
    },
    "papermill": {
     "duration": 0.04461,
     "end_time": "2021-09-15T00:40:39.667818",
     "exception": false,
     "start_time": "2021-09-15T00:40:39.623208",
     "status": "completed"
    },
    "tags": []
   },
   "outputs": [],
   "source": [
    "#hide\n",
    "\n",
    "# FETCH\n",
    "base_url = 'https://raw.githubusercontent.com/pratapvardhan/notebooks/master/covid19/'\n",
    "paths = {\n",
    "    'mapping': base_url + 'mapping_countries.csv',\n",
    "    'overview': base_url + 'overview.tpl'\n",
    "}"
   ]
  },
  {
   "cell_type": "code",
   "execution_count": 3,
   "id": "dynamic-saver",
   "metadata": {
    "execution": {
     "iopub.execute_input": "2021-09-15T00:40:39.751499Z",
     "iopub.status.busy": "2021-09-15T00:40:39.750859Z",
     "iopub.status.idle": "2021-09-15T00:40:39.754552Z",
     "shell.execute_reply": "2021-09-15T00:40:39.753879Z"
    },
    "papermill": {
     "duration": 0.049461,
     "end_time": "2021-09-15T00:40:39.754686",
     "exception": false,
     "start_time": "2021-09-15T00:40:39.705225",
     "status": "completed"
    },
    "tags": []
   },
   "outputs": [
    {
     "data": {
      "text/plain": [
       "'https://raw.githubusercontent.com/pratapvardhan/notebooks/master/covid19/mapping_countries.csv'"
      ]
     },
     "execution_count": 3,
     "metadata": {},
     "output_type": "execute_result"
    }
   ],
   "source": [
    "#hide\n",
    "paths['mapping']"
   ]
  },
  {
   "cell_type": "code",
   "execution_count": 4,
   "id": "urban-software",
   "metadata": {
    "execution": {
     "iopub.execute_input": "2021-09-15T00:40:39.831009Z",
     "iopub.status.busy": "2021-09-15T00:40:39.830387Z",
     "iopub.status.idle": "2021-09-15T00:40:39.832529Z",
     "shell.execute_reply": "2021-09-15T00:40:39.831950Z"
    },
    "papermill": {
     "duration": 0.043,
     "end_time": "2021-09-15T00:40:39.832655",
     "exception": false,
     "start_time": "2021-09-15T00:40:39.789655",
     "status": "completed"
    },
    "tags": []
   },
   "outputs": [],
   "source": [
    "#hide\n",
    "def get_mappings(url):\n",
    "    df = pd.read_csv(url)\n",
    "    return {\n",
    "        'df': df,\n",
    "        'replace.country': dict(df.dropna(subset=['Name']).set_index('Country')['Name']),\n",
    "        'map.continent': dict(df.set_index('Name')['Continent'])\n",
    "    }"
   ]
  },
  {
   "cell_type": "code",
   "execution_count": 5,
   "id": "intimate-machinery",
   "metadata": {
    "execution": {
     "iopub.execute_input": "2021-09-15T00:40:39.915143Z",
     "iopub.status.busy": "2021-09-15T00:40:39.914357Z",
     "iopub.status.idle": "2021-09-15T00:40:40.002049Z",
     "shell.execute_reply": "2021-09-15T00:40:40.001378Z"
    },
    "papermill": {
     "duration": 0.134891,
     "end_time": "2021-09-15T00:40:40.002196",
     "exception": false,
     "start_time": "2021-09-15T00:40:39.867305",
     "status": "completed"
    },
    "tags": []
   },
   "outputs": [],
   "source": [
    "#hide\n",
    "mapping = get_mappings(paths['mapping'])"
   ]
  },
  {
   "cell_type": "code",
   "execution_count": 6,
   "id": "certified-tactics",
   "metadata": {
    "execution": {
     "iopub.execute_input": "2021-09-15T00:40:40.080855Z",
     "iopub.status.busy": "2021-09-15T00:40:40.080241Z",
     "iopub.status.idle": "2021-09-15T00:40:40.082182Z",
     "shell.execute_reply": "2021-09-15T00:40:40.082867Z"
    },
    "papermill": {
     "duration": 0.04361,
     "end_time": "2021-09-15T00:40:40.083082",
     "exception": false,
     "start_time": "2021-09-15T00:40:40.039472",
     "status": "completed"
    },
    "tags": []
   },
   "outputs": [],
   "source": [
    "#hide\n",
    "def get_template(path):\n",
    "    from urllib.parse import urlparse\n",
    "    if bool(urlparse(path).netloc):\n",
    "        from urllib.request import urlopen\n",
    "        return urlopen(path).read().decode('utf8')\n",
    "    return open(path).read()"
   ]
  },
  {
   "cell_type": "code",
   "execution_count": 7,
   "id": "realistic-blast",
   "metadata": {
    "execution": {
     "iopub.execute_input": "2021-09-15T00:40:40.159785Z",
     "iopub.status.busy": "2021-09-15T00:40:40.159181Z",
     "iopub.status.idle": "2021-09-15T00:40:40.161911Z",
     "shell.execute_reply": "2021-09-15T00:40:40.161332Z"
    },
    "papermill": {
     "duration": 0.043441,
     "end_time": "2021-09-15T00:40:40.162036",
     "exception": false,
     "start_time": "2021-09-15T00:40:40.118595",
     "status": "completed"
    },
    "tags": []
   },
   "outputs": [],
   "source": [
    "#hide\n",
    "def get_frame(name):\n",
    "    url = (\n",
    "        'https://raw.githubusercontent.com/CSSEGISandData/COVID-19/master/csse_covid_19_data/'\n",
    "        f'csse_covid_19_time_series/time_series_covid19_{name}_global.csv')\n",
    "    df = pd.read_csv(url)\n",
    "    # rename countries\n",
    "    df['Country/Region'] = df['Country/Region'].replace(mapping['replace.country'])\n",
    "    return df"
   ]
  },
  {
   "cell_type": "code",
   "execution_count": 8,
   "id": "affiliated-characterization",
   "metadata": {
    "execution": {
     "iopub.execute_input": "2021-09-15T00:40:40.237425Z",
     "iopub.status.busy": "2021-09-15T00:40:40.236822Z",
     "iopub.status.idle": "2021-09-15T00:40:40.239354Z",
     "shell.execute_reply": "2021-09-15T00:40:40.239803Z"
    },
    "papermill": {
     "duration": 0.043432,
     "end_time": "2021-09-15T00:40:40.239951",
     "exception": false,
     "start_time": "2021-09-15T00:40:40.196519",
     "status": "completed"
    },
    "tags": []
   },
   "outputs": [],
   "source": [
    "#hide\n",
    "def get_dates(df):\n",
    "    dt_cols = df.columns[~df.columns.isin(['Province/State', 'Country/Region', 'Lat', 'Long'])]\n",
    "    LAST_DATE_I = -1\n",
    "    # sometimes last column may be empty, then go backwards\n",
    "    for i in range(-1, -len(dt_cols), -1):\n",
    "        if not df[dt_cols[i]].fillna(0).eq(0).all():\n",
    "            LAST_DATE_I = i\n",
    "            break\n",
    "    return LAST_DATE_I, dt_cols"
   ]
  },
  {
   "cell_type": "code",
   "execution_count": 9,
   "id": "recent-optimization",
   "metadata": {
    "execution": {
     "iopub.execute_input": "2021-09-15T00:40:40.315214Z",
     "iopub.status.busy": "2021-09-15T00:40:40.314580Z",
     "iopub.status.idle": "2021-09-15T00:40:40.932552Z",
     "shell.execute_reply": "2021-09-15T00:40:40.931385Z"
    },
    "papermill": {
     "duration": 0.658457,
     "end_time": "2021-09-15T00:40:40.932693",
     "exception": false,
     "start_time": "2021-09-15T00:40:40.274236",
     "status": "completed"
    },
    "tags": []
   },
   "outputs": [],
   "source": [
    "#hide\n",
    "COL_REGION = 'Country/Region'\n",
    "# Confirmed, Recovered, Deaths\n",
    "df = get_frame('confirmed')\n",
    "# dft_: timeseries, dfc_: today country agg\n",
    "dft_cases = df\n",
    "dft_deaths = get_frame('deaths')\n",
    "dft_recovered = get_frame('recovered')\n",
    "LAST_DATE_I, dt_cols = get_dates(df)"
   ]
  },
  {
   "cell_type": "code",
   "execution_count": 10,
   "id": "absolute-copper",
   "metadata": {
    "execution": {
     "iopub.execute_input": "2021-09-15T00:40:41.008207Z",
     "iopub.status.busy": "2021-09-15T00:40:41.007501Z",
     "iopub.status.idle": "2021-09-15T00:40:41.008925Z",
     "shell.execute_reply": "2021-09-15T00:40:41.009586Z"
    },
    "papermill": {
     "duration": 0.042054,
     "end_time": "2021-09-15T00:40:41.009749",
     "exception": false,
     "start_time": "2021-09-15T00:40:40.967695",
     "status": "completed"
    },
    "tags": []
   },
   "outputs": [],
   "source": [
    "#hide\n",
    "LAST_DATE_I, dt_cols = get_dates(df)\n",
    "dt_today =dt_cols[LAST_DATE_I]\n",
    "# dt_5day = dt_cols[LAST_DATE_I - 5]\n",
    "dt_yday = dt_cols[LAST_DATE_I - 1]"
   ]
  },
  {
   "cell_type": "code",
   "execution_count": 11,
   "id": "restricted-sheriff",
   "metadata": {
    "execution": {
     "iopub.execute_input": "2021-09-15T00:40:41.095648Z",
     "iopub.status.busy": "2021-09-15T00:40:41.092945Z",
     "iopub.status.idle": "2021-09-15T00:40:41.102821Z",
     "shell.execute_reply": "2021-09-15T00:40:41.101674Z"
    },
    "papermill": {
     "duration": 0.05816,
     "end_time": "2021-09-15T00:40:41.102951",
     "exception": false,
     "start_time": "2021-09-15T00:40:41.044791",
     "status": "completed"
    },
    "tags": []
   },
   "outputs": [],
   "source": [
    "#hide\n",
    "dfc_cases = dft_cases.groupby(COL_REGION)[dt_today].sum()\n",
    "dfc_deaths = dft_deaths.groupby(COL_REGION)[dt_today].sum()\n",
    "# dfp_cases = dft_cases.groupby(COL_REGION)[dt_5day].sum()\n",
    "# dfp_deaths = dft_deaths.groupby(COL_REGION)[dt_5day].sum()\n",
    "dfp_cases = dft_cases.groupby(COL_REGION)[dt_yday].sum()\n",
    "dfp_deaths = dft_deaths.groupby(COL_REGION)[dt_yday].sum()"
   ]
  },
  {
   "cell_type": "code",
   "execution_count": 12,
   "id": "deluxe-hepatitis",
   "metadata": {
    "execution": {
     "iopub.execute_input": "2021-09-15T00:40:41.183294Z",
     "iopub.status.busy": "2021-09-15T00:40:41.181698Z",
     "iopub.status.idle": "2021-09-15T00:40:41.185871Z",
     "shell.execute_reply": "2021-09-15T00:40:41.185278Z"
    },
    "papermill": {
     "duration": 0.046713,
     "end_time": "2021-09-15T00:40:41.185996",
     "exception": false,
     "start_time": "2021-09-15T00:40:41.139283",
     "status": "completed"
    },
    "tags": []
   },
   "outputs": [],
   "source": [
    "#hide\n",
    "df_table = (pd.DataFrame(dict(Cases = dfc_cases, Deaths = dfc_deaths, PCases = dfp_cases, PDeaths = dfp_deaths))\n",
    "            .sort_values(by = ['Cases','Deaths'], ascending = [False, False])\n",
    "            .reset_index())"
   ]
  },
  {
   "cell_type": "code",
   "execution_count": 13,
   "id": "educational-chancellor",
   "metadata": {
    "execution": {
     "iopub.execute_input": "2021-09-15T00:40:41.278552Z",
     "iopub.status.busy": "2021-09-15T00:40:41.277901Z",
     "iopub.status.idle": "2021-09-15T00:40:41.288246Z",
     "shell.execute_reply": "2021-09-15T00:40:41.287739Z"
    },
    "papermill": {
     "duration": 0.066317,
     "end_time": "2021-09-15T00:40:41.288370",
     "exception": false,
     "start_time": "2021-09-15T00:40:41.222053",
     "status": "completed"
    },
    "tags": []
   },
   "outputs": [
    {
     "data": {
      "text/html": [
       "<div>\n",
       "<style scoped>\n",
       "    .dataframe tbody tr th:only-of-type {\n",
       "        vertical-align: middle;\n",
       "    }\n",
       "\n",
       "    .dataframe tbody tr th {\n",
       "        vertical-align: top;\n",
       "    }\n",
       "\n",
       "    .dataframe thead th {\n",
       "        text-align: right;\n",
       "    }\n",
       "</style>\n",
       "<table border=\"1\" class=\"dataframe\">\n",
       "  <thead>\n",
       "    <tr style=\"text-align: right;\">\n",
       "      <th></th>\n",
       "      <th>Country/Region</th>\n",
       "      <th>Cases</th>\n",
       "      <th>Deaths</th>\n",
       "      <th>PCases</th>\n",
       "      <th>PDeaths</th>\n",
       "      <th>Cases (+)</th>\n",
       "      <th>Deaths (+)</th>\n",
       "      <th>Fatality Rate</th>\n",
       "      <th>Continent</th>\n",
       "    </tr>\n",
       "  </thead>\n",
       "  <tbody>\n",
       "    <tr>\n",
       "      <th>0</th>\n",
       "      <td>US</td>\n",
       "      <td>41221266</td>\n",
       "      <td>662106</td>\n",
       "      <td>40959217</td>\n",
       "      <td>659970</td>\n",
       "      <td>262049</td>\n",
       "      <td>2136</td>\n",
       "      <td>1.61</td>\n",
       "      <td>North America</td>\n",
       "    </tr>\n",
       "    <tr>\n",
       "      <th>1</th>\n",
       "      <td>India</td>\n",
       "      <td>33289579</td>\n",
       "      <td>443213</td>\n",
       "      <td>33264175</td>\n",
       "      <td>442874</td>\n",
       "      <td>25404</td>\n",
       "      <td>339</td>\n",
       "      <td>1.33</td>\n",
       "      <td>Asia</td>\n",
       "    </tr>\n",
       "    <tr>\n",
       "      <th>2</th>\n",
       "      <td>Brazil</td>\n",
       "      <td>21006424</td>\n",
       "      <td>587066</td>\n",
       "      <td>20999779</td>\n",
       "      <td>586851</td>\n",
       "      <td>6645</td>\n",
       "      <td>215</td>\n",
       "      <td>2.79</td>\n",
       "      <td>South America</td>\n",
       "    </tr>\n",
       "    <tr>\n",
       "      <th>3</th>\n",
       "      <td>United Kingdom</td>\n",
       "      <td>7290168</td>\n",
       "      <td>134587</td>\n",
       "      <td>7259752</td>\n",
       "      <td>134525</td>\n",
       "      <td>30416</td>\n",
       "      <td>62</td>\n",
       "      <td>1.85</td>\n",
       "      <td>Europe</td>\n",
       "    </tr>\n",
       "    <tr>\n",
       "      <th>4</th>\n",
       "      <td>Russia</td>\n",
       "      <td>7055296</td>\n",
       "      <td>190031</td>\n",
       "      <td>7037435</td>\n",
       "      <td>189319</td>\n",
       "      <td>17861</td>\n",
       "      <td>712</td>\n",
       "      <td>2.69</td>\n",
       "      <td>Europe</td>\n",
       "    </tr>\n",
       "  </tbody>\n",
       "</table>\n",
       "</div>"
      ],
      "text/plain": [
       "   Country/Region     Cases  Deaths    PCases  PDeaths  Cases (+)  Deaths (+)  \\\n",
       "0              US  41221266  662106  40959217   659970     262049        2136   \n",
       "1           India  33289579  443213  33264175   442874      25404         339   \n",
       "2          Brazil  21006424  587066  20999779   586851       6645         215   \n",
       "3  United Kingdom   7290168  134587   7259752   134525      30416          62   \n",
       "4          Russia   7055296  190031   7037435   189319      17861         712   \n",
       "\n",
       "   Fatality Rate      Continent  \n",
       "0           1.61  North America  \n",
       "1           1.33           Asia  \n",
       "2           2.79  South America  \n",
       "3           1.85         Europe  \n",
       "4           2.69         Europe  "
      ]
     },
     "execution_count": 13,
     "metadata": {},
     "output_type": "execute_result"
    }
   ],
   "source": [
    "#hide\n",
    "for c in 'Cases, Deaths'.split(', '):\n",
    "    df_table[f'{c} (+)'] = (df_table[c] - df_table[f'P{c}']).clip(0)\n",
    "    #Clip ça veut dire, les chiffres negatif sont interdit\n",
    "df_table['Fatality Rate'] = (100* df_table['Deaths']/ df_table['Cases']).round(2)\n",
    "df_table['Continent'] = df_table['Country/Region'].map(mapping['map.continent'])\n",
    "df_table.head(5)"
   ]
  },
  {
   "cell_type": "code",
   "execution_count": 14,
   "id": "aboriginal-bulgaria",
   "metadata": {
    "execution": {
     "iopub.execute_input": "2021-09-15T00:40:41.366387Z",
     "iopub.status.busy": "2021-09-15T00:40:41.365752Z",
     "iopub.status.idle": "2021-09-15T00:40:41.367691Z",
     "shell.execute_reply": "2021-09-15T00:40:41.368136Z"
    },
    "papermill": {
     "duration": 0.044286,
     "end_time": "2021-09-15T00:40:41.368280",
     "exception": false,
     "start_time": "2021-09-15T00:40:41.323994",
     "status": "completed"
    },
    "tags": []
   },
   "outputs": [],
   "source": [
    "#hide\n",
    "#delete problematic countries from table\n",
    "df_table = df_table[~df_table['Country/Region'].isin(['Cape Verde', 'Cruise Ship', 'Kosovo'])]"
   ]
  },
  {
   "cell_type": "code",
   "execution_count": 15,
   "id": "fantastic-effect",
   "metadata": {
    "execution": {
     "iopub.execute_input": "2021-09-15T00:40:41.447276Z",
     "iopub.status.busy": "2021-09-15T00:40:41.446666Z",
     "iopub.status.idle": "2021-09-15T00:40:41.467232Z",
     "shell.execute_reply": "2021-09-15T00:40:41.467680Z"
    },
    "papermill": {
     "duration": 0.064625,
     "end_time": "2021-09-15T00:40:41.467832",
     "exception": false,
     "start_time": "2021-09-15T00:40:41.403207",
     "status": "completed"
    },
    "tags": []
   },
   "outputs": [
    {
     "data": {
      "text/html": [
       "<div>\n",
       "<style scoped>\n",
       "    .dataframe tbody tr th:only-of-type {\n",
       "        vertical-align: middle;\n",
       "    }\n",
       "\n",
       "    .dataframe tbody tr th {\n",
       "        vertical-align: top;\n",
       "    }\n",
       "\n",
       "    .dataframe thead th {\n",
       "        text-align: right;\n",
       "    }\n",
       "</style>\n",
       "<table border=\"1\" class=\"dataframe\">\n",
       "  <thead>\n",
       "    <tr style=\"text-align: right;\">\n",
       "      <th></th>\n",
       "      <th>Country/Region</th>\n",
       "      <th>Cases</th>\n",
       "      <th>Deaths</th>\n",
       "      <th>PCases</th>\n",
       "      <th>PDeaths</th>\n",
       "      <th>Cases (+)</th>\n",
       "      <th>Deaths (+)</th>\n",
       "      <th>Fatality Rate</th>\n",
       "      <th>Continent</th>\n",
       "    </tr>\n",
       "  </thead>\n",
       "  <tbody>\n",
       "    <tr>\n",
       "      <th>0</th>\n",
       "      <td>US</td>\n",
       "      <td>41221266</td>\n",
       "      <td>662106</td>\n",
       "      <td>40959217</td>\n",
       "      <td>659970</td>\n",
       "      <td>262049</td>\n",
       "      <td>2136</td>\n",
       "      <td>1.6</td>\n",
       "      <td>North America</td>\n",
       "    </tr>\n",
       "    <tr>\n",
       "      <th>1</th>\n",
       "      <td>India</td>\n",
       "      <td>33289579</td>\n",
       "      <td>443213</td>\n",
       "      <td>33264175</td>\n",
       "      <td>442874</td>\n",
       "      <td>25404</td>\n",
       "      <td>339</td>\n",
       "      <td>1.3</td>\n",
       "      <td>Asia</td>\n",
       "    </tr>\n",
       "    <tr>\n",
       "      <th>2</th>\n",
       "      <td>Brazil</td>\n",
       "      <td>21006424</td>\n",
       "      <td>587066</td>\n",
       "      <td>20999779</td>\n",
       "      <td>586851</td>\n",
       "      <td>6645</td>\n",
       "      <td>215</td>\n",
       "      <td>2.8</td>\n",
       "      <td>South America</td>\n",
       "    </tr>\n",
       "    <tr>\n",
       "      <th>3</th>\n",
       "      <td>United Kingdom</td>\n",
       "      <td>7290168</td>\n",
       "      <td>134587</td>\n",
       "      <td>7259752</td>\n",
       "      <td>134525</td>\n",
       "      <td>30416</td>\n",
       "      <td>62</td>\n",
       "      <td>1.8</td>\n",
       "      <td>Europe</td>\n",
       "    </tr>\n",
       "    <tr>\n",
       "      <th>4</th>\n",
       "      <td>Russia</td>\n",
       "      <td>7055296</td>\n",
       "      <td>190031</td>\n",
       "      <td>7037435</td>\n",
       "      <td>189319</td>\n",
       "      <td>17861</td>\n",
       "      <td>712</td>\n",
       "      <td>2.7</td>\n",
       "      <td>Europe</td>\n",
       "    </tr>\n",
       "  </tbody>\n",
       "</table>\n",
       "</div>"
      ],
      "text/plain": [
       "   Country/Region     Cases  Deaths    PCases  PDeaths  Cases (+)  Deaths (+)  \\\n",
       "0              US  41221266  662106  40959217   659970     262049        2136   \n",
       "1           India  33289579  443213  33264175   442874      25404         339   \n",
       "2          Brazil  21006424  587066  20999779   586851       6645         215   \n",
       "3  United Kingdom   7290168  134587   7259752   134525      30416          62   \n",
       "4          Russia   7055296  190031   7037435   189319      17861         712   \n",
       "\n",
       "   Fatality Rate      Continent  \n",
       "0            1.6  North America  \n",
       "1            1.3           Asia  \n",
       "2            2.8  South America  \n",
       "3            1.8         Europe  \n",
       "4            2.7         Europe  "
      ]
     },
     "execution_count": 15,
     "metadata": {},
     "output_type": "execute_result"
    }
   ],
   "source": [
    "#hide\n",
    "df_table = (pd.DataFrame(dict(Cases=dfc_cases, Deaths=dfc_deaths, PCases=dfp_cases, PDeaths=dfp_deaths))\n",
    "             .sort_values(by=['Cases', 'Deaths'], ascending=[False, False])\n",
    "             .reset_index())\n",
    "df_table.rename(columns={'index': 'Country/Region'}, inplace=True)\n",
    "for c in 'Cases, Deaths'.split(', '):\n",
    "    df_table[f'{c} (+)'] = (df_table[c] - df_table[f'P{c}']).clip(0)  # DATA BUG\n",
    "df_table['Fatality Rate'] = (100 * df_table['Deaths'] / df_table['Cases']).round(1)\n",
    "df_table['Continent'] = df_table['Country/Region'].map(mapping['map.continent'])\n",
    "df_table.head(5)"
   ]
  },
  {
   "cell_type": "code",
   "execution_count": 16,
   "id": "fewer-occasion",
   "metadata": {
    "execution": {
     "iopub.execute_input": "2021-09-15T00:40:41.544423Z",
     "iopub.status.busy": "2021-09-15T00:40:41.543765Z",
     "iopub.status.idle": "2021-09-15T00:40:41.546767Z",
     "shell.execute_reply": "2021-09-15T00:40:41.547220Z"
    },
    "papermill": {
     "duration": 0.04353,
     "end_time": "2021-09-15T00:40:41.547370",
     "exception": false,
     "start_time": "2021-09-15T00:40:41.503840",
     "status": "completed"
    },
    "tags": []
   },
   "outputs": [],
   "source": [
    "#hide\n",
    "#delete problematic countries from table\n",
    "df_table = df_table[~df_table['Country/Region'].isin(['Cape Verde', 'Cruise Ship', 'Kosovo'])]"
   ]
  },
  {
   "cell_type": "code",
   "execution_count": 17,
   "id": "related-center",
   "metadata": {
    "execution": {
     "iopub.execute_input": "2021-09-15T00:40:41.639153Z",
     "iopub.status.busy": "2021-09-15T00:40:41.638497Z",
     "iopub.status.idle": "2021-09-15T00:40:41.641075Z",
     "shell.execute_reply": "2021-09-15T00:40:41.640568Z"
    },
    "papermill": {
     "duration": 0.058214,
     "end_time": "2021-09-15T00:40:41.641210",
     "exception": false,
     "start_time": "2021-09-15T00:40:41.582996",
     "status": "completed"
    },
    "tags": []
   },
   "outputs": [],
   "source": [
    "#hide\n",
    "metrics = [df_table.columns[index] for index in [1,2,5,6]]\n",
    "# s_china = df_table[df_table['Country/Region'].eq('China')][metrics].sum().add_prefix('China ')\n",
    "s_us = df_table[df_table['Country/Region'].eq('US')][metrics].sum().add_prefix('US ')\n",
    "s_eu = df_table[df_table['Continent'].eq('Europe')][metrics].sum().add_prefix('EU ')\n",
    "s_ind = df_table[df_table['Country/Region'].eq('India')][metrics].sum().add_prefix('India ')\n",
    "summary = {'updated': pd.to_datetime(dt_today), 'since': pd.to_datetime(dt_yday)}\n",
    "summary = {'updated': pd.to_datetime(dt_today), 'since': pd.to_datetime(dt_yday)}\n",
    "summary = {**summary, **df_table[metrics].sum(), **s_ind, **s_us, **s_eu}"
   ]
  },
  {
   "cell_type": "code",
   "execution_count": 18,
   "id": "engaging-syndrome",
   "metadata": {
    "execution": {
     "iopub.execute_input": "2021-09-15T00:40:41.719202Z",
     "iopub.status.busy": "2021-09-15T00:40:41.718592Z",
     "iopub.status.idle": "2021-09-15T00:40:41.734723Z",
     "shell.execute_reply": "2021-09-15T00:40:41.734196Z"
    },
    "papermill": {
     "duration": 0.057011,
     "end_time": "2021-09-15T00:40:41.734856",
     "exception": false,
     "start_time": "2021-09-15T00:40:41.677845",
     "status": "completed"
    },
    "tags": []
   },
   "outputs": [],
   "source": [
    "#hide\n",
    "dft_ct_new_cases = dft_cases.groupby(COL_REGION)[dt_cols].sum().diff(axis=1).fillna(0).astype(int)"
   ]
  },
  {
   "cell_type": "code",
   "execution_count": 19,
   "id": "neutral-assignment",
   "metadata": {
    "execution": {
     "iopub.execute_input": "2021-09-15T00:40:41.810093Z",
     "iopub.status.busy": "2021-09-15T00:40:41.809496Z",
     "iopub.status.idle": "2021-09-15T00:40:41.813851Z",
     "shell.execute_reply": "2021-09-15T00:40:41.814318Z"
    },
    "papermill": {
     "duration": 0.043787,
     "end_time": "2021-09-15T00:40:41.814470",
     "exception": false,
     "start_time": "2021-09-15T00:40:41.770683",
     "status": "completed"
    },
    "tags": []
   },
   "outputs": [],
   "source": [
    "#hide\n",
    "everydaycases = dft_ct_new_cases.cumsum(axis=1)"
   ]
  },
  {
   "cell_type": "code",
   "execution_count": 20,
   "id": "parliamentary-calgary",
   "metadata": {
    "execution": {
     "iopub.execute_input": "2021-09-15T00:40:41.896237Z",
     "iopub.status.busy": "2021-09-15T00:40:41.895630Z",
     "iopub.status.idle": "2021-09-15T00:40:42.521148Z",
     "shell.execute_reply": "2021-09-15T00:40:42.520602Z"
    },
    "papermill": {
     "duration": 0.671176,
     "end_time": "2021-09-15T00:40:42.521285",
     "exception": false,
     "start_time": "2021-09-15T00:40:41.850109",
     "status": "completed"
    },
    "tags": []
   },
   "outputs": [],
   "source": [
    "#hide\n",
    "import pandas as pd\n",
    "import matplotlib.pyplot as plt\n",
    "import matplotlib.ticker as ticker\n",
    "import matplotlib.animation as animation\n",
    "from IPython.display import HTML"
   ]
  },
  {
   "cell_type": "code",
   "execution_count": 21,
   "id": "lasting-extraction",
   "metadata": {
    "execution": {
     "iopub.execute_input": "2021-09-15T00:40:42.602722Z",
     "iopub.status.busy": "2021-09-15T00:40:42.601954Z",
     "iopub.status.idle": "2021-09-15T00:40:42.608275Z",
     "shell.execute_reply": "2021-09-15T00:40:42.607776Z"
    },
    "papermill": {
     "duration": 0.049373,
     "end_time": "2021-09-15T00:40:42.608400",
     "exception": false,
     "start_time": "2021-09-15T00:40:42.559027",
     "status": "completed"
    },
    "tags": []
   },
   "outputs": [],
   "source": [
    "#hide\n",
    "t = everydaycases.stack()"
   ]
  },
  {
   "cell_type": "code",
   "execution_count": 22,
   "id": "premier-sleeve",
   "metadata": {
    "execution": {
     "iopub.execute_input": "2021-09-15T00:40:42.691745Z",
     "iopub.status.busy": "2021-09-15T00:40:42.691147Z",
     "iopub.status.idle": "2021-09-15T00:40:42.700667Z",
     "shell.execute_reply": "2021-09-15T00:40:42.700173Z"
    },
    "papermill": {
     "duration": 0.051913,
     "end_time": "2021-09-15T00:40:42.700792",
     "exception": false,
     "start_time": "2021-09-15T00:40:42.648879",
     "status": "completed"
    },
    "tags": []
   },
   "outputs": [],
   "source": [
    "#hide\n",
    "g = t.reset_index(['Country/Region'])"
   ]
  },
  {
   "cell_type": "code",
   "execution_count": 23,
   "id": "distributed-pittsburgh",
   "metadata": {
    "execution": {
     "iopub.execute_input": "2021-09-15T00:40:42.776666Z",
     "iopub.status.busy": "2021-09-15T00:40:42.776071Z",
     "iopub.status.idle": "2021-09-15T00:40:42.778562Z",
     "shell.execute_reply": "2021-09-15T00:40:42.778038Z"
    },
    "papermill": {
     "duration": 0.042398,
     "end_time": "2021-09-15T00:40:42.778685",
     "exception": false,
     "start_time": "2021-09-15T00:40:42.736287",
     "status": "completed"
    },
    "tags": []
   },
   "outputs": [],
   "source": [
    "#hide\n",
    "g.index.name = 'date'"
   ]
  },
  {
   "cell_type": "code",
   "execution_count": 24,
   "id": "naked-donor",
   "metadata": {
    "execution": {
     "iopub.execute_input": "2021-09-15T00:40:42.854096Z",
     "iopub.status.busy": "2021-09-15T00:40:42.853444Z",
     "iopub.status.idle": "2021-09-15T00:40:42.856333Z",
     "shell.execute_reply": "2021-09-15T00:40:42.855861Z"
    },
    "papermill": {
     "duration": 0.042105,
     "end_time": "2021-09-15T00:40:42.856456",
     "exception": false,
     "start_time": "2021-09-15T00:40:42.814351",
     "status": "completed"
    },
    "tags": []
   },
   "outputs": [],
   "source": [
    "# #hide\n",
    "# g = g.reset_index(['date'])"
   ]
  },
  {
   "cell_type": "code",
   "execution_count": 25,
   "id": "incomplete-mustang",
   "metadata": {
    "execution": {
     "iopub.execute_input": "2021-09-15T00:40:42.931075Z",
     "iopub.status.busy": "2021-09-15T00:40:42.930468Z",
     "iopub.status.idle": "2021-09-15T00:40:42.932317Z",
     "shell.execute_reply": "2021-09-15T00:40:42.932793Z"
    },
    "papermill": {
     "duration": 0.041339,
     "end_time": "2021-09-15T00:40:42.932933",
     "exception": false,
     "start_time": "2021-09-15T00:40:42.891594",
     "status": "completed"
    },
    "tags": []
   },
   "outputs": [],
   "source": [
    "#hide\n",
    "# g.head()"
   ]
  },
  {
   "cell_type": "code",
   "execution_count": 26,
   "id": "specific-kruger",
   "metadata": {
    "execution": {
     "iopub.execute_input": "2021-09-15T00:40:43.007647Z",
     "iopub.status.busy": "2021-09-15T00:40:43.007049Z",
     "iopub.status.idle": "2021-09-15T00:40:43.008845Z",
     "shell.execute_reply": "2021-09-15T00:40:43.009314Z"
    },
    "papermill": {
     "duration": 0.04119,
     "end_time": "2021-09-15T00:40:43.009453",
     "exception": false,
     "start_time": "2021-09-15T00:40:42.968263",
     "status": "completed"
    },
    "tags": []
   },
   "outputs": [],
   "source": [
    "#hide\n",
    "# g.columns = ['date','country','cases']"
   ]
  },
  {
   "cell_type": "code",
   "execution_count": 27,
   "id": "tender-conversion",
   "metadata": {
    "execution": {
     "iopub.execute_input": "2021-09-15T00:40:43.085091Z",
     "iopub.status.busy": "2021-09-15T00:40:43.084494Z",
     "iopub.status.idle": "2021-09-15T00:40:43.086585Z",
     "shell.execute_reply": "2021-09-15T00:40:43.087072Z"
    },
    "papermill": {
     "duration": 0.042745,
     "end_time": "2021-09-15T00:40:43.087214",
     "exception": false,
     "start_time": "2021-09-15T00:40:43.044469",
     "status": "completed"
    },
    "tags": []
   },
   "outputs": [],
   "source": [
    "#hide\n",
    "# g['continent'] = g.country"
   ]
  },
  {
   "cell_type": "code",
   "execution_count": 28,
   "id": "substantial-wilderness",
   "metadata": {
    "execution": {
     "iopub.execute_input": "2021-09-15T00:40:43.161808Z",
     "iopub.status.busy": "2021-09-15T00:40:43.161222Z",
     "iopub.status.idle": "2021-09-15T00:40:43.163599Z",
     "shell.execute_reply": "2021-09-15T00:40:43.163124Z"
    },
    "papermill": {
     "duration": 0.041144,
     "end_time": "2021-09-15T00:40:43.163725",
     "exception": false,
     "start_time": "2021-09-15T00:40:43.122581",
     "status": "completed"
    },
    "tags": []
   },
   "outputs": [],
   "source": [
    "#hide\n",
    "# cols = list(g.columns.values)"
   ]
  },
  {
   "cell_type": "code",
   "execution_count": 29,
   "id": "solved-farming",
   "metadata": {
    "execution": {
     "iopub.execute_input": "2021-09-15T00:40:43.238732Z",
     "iopub.status.busy": "2021-09-15T00:40:43.238089Z",
     "iopub.status.idle": "2021-09-15T00:40:43.240632Z",
     "shell.execute_reply": "2021-09-15T00:40:43.240155Z"
    },
    "papermill": {
     "duration": 0.041964,
     "end_time": "2021-09-15T00:40:43.240758",
     "exception": false,
     "start_time": "2021-09-15T00:40:43.198794",
     "status": "completed"
    },
    "tags": []
   },
   "outputs": [],
   "source": [
    "#hide\n",
    "# cols.insert(0, cols.pop())"
   ]
  },
  {
   "cell_type": "code",
   "execution_count": 30,
   "id": "executed-adoption",
   "metadata": {
    "execution": {
     "iopub.execute_input": "2021-09-15T00:40:43.316333Z",
     "iopub.status.busy": "2021-09-15T00:40:43.315742Z",
     "iopub.status.idle": "2021-09-15T00:40:43.318238Z",
     "shell.execute_reply": "2021-09-15T00:40:43.317768Z"
    },
    "papermill": {
     "duration": 0.04216,
     "end_time": "2021-09-15T00:40:43.318382",
     "exception": false,
     "start_time": "2021-09-15T00:40:43.276222",
     "status": "completed"
    },
    "tags": []
   },
   "outputs": [],
   "source": [
    "#hide\n",
    "# g = g[cols]"
   ]
  },
  {
   "cell_type": "code",
   "execution_count": 31,
   "id": "subject-dublin",
   "metadata": {
    "execution": {
     "iopub.execute_input": "2021-09-15T00:40:43.393799Z",
     "iopub.status.busy": "2021-09-15T00:40:43.393209Z",
     "iopub.status.idle": "2021-09-15T00:40:43.395082Z",
     "shell.execute_reply": "2021-09-15T00:40:43.395643Z"
    },
    "papermill": {
     "duration": 0.041805,
     "end_time": "2021-09-15T00:40:43.395787",
     "exception": false,
     "start_time": "2021-09-15T00:40:43.353982",
     "status": "completed"
    },
    "tags": []
   },
   "outputs": [],
   "source": [
    "#hide\n",
    "# g['continent'] = g['continent'].map(mapping['map.continent'])"
   ]
  },
  {
   "cell_type": "code",
   "execution_count": 32,
   "id": "freelance-scout",
   "metadata": {
    "execution": {
     "iopub.execute_input": "2021-09-15T00:40:43.471310Z",
     "iopub.status.busy": "2021-09-15T00:40:43.470712Z",
     "iopub.status.idle": "2021-09-15T00:40:43.473093Z",
     "shell.execute_reply": "2021-09-15T00:40:43.472599Z"
    },
    "papermill": {
     "duration": 0.041887,
     "end_time": "2021-09-15T00:40:43.473211",
     "exception": false,
     "start_time": "2021-09-15T00:40:43.431324",
     "status": "completed"
    },
    "tags": []
   },
   "outputs": [],
   "source": [
    "#hide\n",
    "# g.head()"
   ]
  },
  {
   "cell_type": "code",
   "execution_count": 33,
   "id": "limited-engine",
   "metadata": {
    "execution": {
     "iopub.execute_input": "2021-09-15T00:40:43.549920Z",
     "iopub.status.busy": "2021-09-15T00:40:43.548647Z",
     "iopub.status.idle": "2021-09-15T00:40:43.550607Z",
     "shell.execute_reply": "2021-09-15T00:40:43.551085Z"
    },
    "papermill": {
     "duration": 0.042936,
     "end_time": "2021-09-15T00:40:43.551233",
     "exception": false,
     "start_time": "2021-09-15T00:40:43.508297",
     "status": "completed"
    },
    "tags": []
   },
   "outputs": [],
   "source": [
    "# hide\n",
    "# g['date'] = g['date'].astype('datetime64[ns]')"
   ]
  },
  {
   "cell_type": "code",
   "execution_count": 34,
   "id": "sophisticated-supervisor",
   "metadata": {
    "execution": {
     "iopub.execute_input": "2021-09-15T00:40:43.628916Z",
     "iopub.status.busy": "2021-09-15T00:40:43.628318Z",
     "iopub.status.idle": "2021-09-15T00:40:43.630106Z",
     "shell.execute_reply": "2021-09-15T00:40:43.630572Z"
    },
    "papermill": {
     "duration": 0.043834,
     "end_time": "2021-09-15T00:40:43.630717",
     "exception": false,
     "start_time": "2021-09-15T00:40:43.586883",
     "status": "completed"
    },
    "tags": []
   },
   "outputs": [],
   "source": [
    "#hide\n",
    "# g['date'] = g.date.dt.dayofyear"
   ]
  },
  {
   "cell_type": "code",
   "execution_count": 35,
   "id": "inside-dubai",
   "metadata": {
    "execution": {
     "iopub.execute_input": "2021-09-15T00:40:43.706177Z",
     "iopub.status.busy": "2021-09-15T00:40:43.705583Z",
     "iopub.status.idle": "2021-09-15T00:40:43.708213Z",
     "shell.execute_reply": "2021-09-15T00:40:43.707717Z"
    },
    "papermill": {
     "duration": 0.04178,
     "end_time": "2021-09-15T00:40:43.708330",
     "exception": false,
     "start_time": "2021-09-15T00:40:43.666550",
     "status": "completed"
    },
    "tags": []
   },
   "outputs": [],
   "source": [
    "#hide\n",
    "# g = g.rename(columns= {'continent':'group','country':'name','cases':'value'})"
   ]
  },
  {
   "cell_type": "code",
   "execution_count": 36,
   "id": "fleet-motorcycle",
   "metadata": {
    "execution": {
     "iopub.execute_input": "2021-09-15T00:40:43.784066Z",
     "iopub.status.busy": "2021-09-15T00:40:43.783388Z",
     "iopub.status.idle": "2021-09-15T00:40:43.784934Z",
     "shell.execute_reply": "2021-09-15T00:40:43.785500Z"
    },
    "papermill": {
     "duration": 0.04197,
     "end_time": "2021-09-15T00:40:43.785644",
     "exception": false,
     "start_time": "2021-09-15T00:40:43.743674",
     "status": "completed"
    },
    "tags": []
   },
   "outputs": [],
   "source": [
    "#hide\n",
    "# cols = ['name','group','day','value']"
   ]
  },
  {
   "cell_type": "code",
   "execution_count": 37,
   "id": "continued-sleeping",
   "metadata": {
    "execution": {
     "iopub.execute_input": "2021-09-15T00:40:43.861289Z",
     "iopub.status.busy": "2021-09-15T00:40:43.860699Z",
     "iopub.status.idle": "2021-09-15T00:40:43.862439Z",
     "shell.execute_reply": "2021-09-15T00:40:43.862896Z"
    },
    "papermill": {
     "duration": 0.041669,
     "end_time": "2021-09-15T00:40:43.863122",
     "exception": false,
     "start_time": "2021-09-15T00:40:43.821453",
     "status": "completed"
    },
    "tags": []
   },
   "outputs": [],
   "source": [
    "#hide\n",
    "# g.rename(columns= {'date':'day'},inplace = True)"
   ]
  },
  {
   "cell_type": "code",
   "execution_count": 38,
   "id": "major-fight",
   "metadata": {
    "execution": {
     "iopub.execute_input": "2021-09-15T00:40:43.939523Z",
     "iopub.status.busy": "2021-09-15T00:40:43.938928Z",
     "iopub.status.idle": "2021-09-15T00:40:43.941564Z",
     "shell.execute_reply": "2021-09-15T00:40:43.941077Z"
    },
    "papermill": {
     "duration": 0.042675,
     "end_time": "2021-09-15T00:40:43.941691",
     "exception": false,
     "start_time": "2021-09-15T00:40:43.899016",
     "status": "completed"
    },
    "tags": []
   },
   "outputs": [],
   "source": [
    "#hide\n",
    "# g = g[cols]"
   ]
  },
  {
   "cell_type": "code",
   "execution_count": 39,
   "id": "structured-mobile",
   "metadata": {
    "execution": {
     "iopub.execute_input": "2021-09-15T00:40:44.026683Z",
     "iopub.status.busy": "2021-09-15T00:40:44.025849Z",
     "iopub.status.idle": "2021-09-15T00:40:44.028405Z",
     "shell.execute_reply": "2021-09-15T00:40:44.027904Z"
    },
    "papermill": {
     "duration": 0.048839,
     "end_time": "2021-09-15T00:40:44.028528",
     "exception": false,
     "start_time": "2021-09-15T00:40:43.979689",
     "status": "completed"
    },
    "tags": []
   },
   "outputs": [],
   "source": [
    "# #hide\n",
    "# g = g[g.group.notna()]"
   ]
  },
  {
   "cell_type": "code",
   "execution_count": 40,
   "id": "determined-closing",
   "metadata": {
    "execution": {
     "iopub.execute_input": "2021-09-15T00:40:44.106436Z",
     "iopub.status.busy": "2021-09-15T00:40:44.105819Z",
     "iopub.status.idle": "2021-09-15T00:40:44.108039Z",
     "shell.execute_reply": "2021-09-15T00:40:44.107465Z"
    },
    "papermill": {
     "duration": 0.041626,
     "end_time": "2021-09-15T00:40:44.108156",
     "exception": false,
     "start_time": "2021-09-15T00:40:44.066530",
     "status": "completed"
    },
    "tags": []
   },
   "outputs": [],
   "source": [
    "# #hide\n",
    "# colors = dict(zip(\n",
    "#     [\"Oceania\", \"Europe\", \"Asia\", \"South America\", \"Middle East\", \"North America\", \"Africa\"],\n",
    "#     [\"#adb0ff\", \"#ffb3ff\", \"#90d595\", \"#e48381\", \"#aafbff\", \"#f7bb5f\", \"#eafb50\"]\n",
    "# ))\n",
    "# group_lk = g.set_index('name')['group'].to_dict()"
   ]
  },
  {
   "cell_type": "code",
   "execution_count": null,
   "id": "gross-drinking",
   "metadata": {
    "papermill": {
     "duration": 0.035438,
     "end_time": "2021-09-15T00:40:44.178636",
     "exception": false,
     "start_time": "2021-09-15T00:40:44.143198",
     "status": "completed"
    },
    "tags": []
   },
   "outputs": [],
   "source": []
  },
  {
   "cell_type": "code",
   "execution_count": 41,
   "id": "subject-macintosh",
   "metadata": {
    "execution": {
     "iopub.execute_input": "2021-09-15T00:40:44.253372Z",
     "iopub.status.busy": "2021-09-15T00:40:44.252775Z",
     "iopub.status.idle": "2021-09-15T00:40:44.255251Z",
     "shell.execute_reply": "2021-09-15T00:40:44.254781Z"
    },
    "papermill": {
     "duration": 0.041698,
     "end_time": "2021-09-15T00:40:44.255372",
     "exception": false,
     "start_time": "2021-09-15T00:40:44.213674",
     "status": "completed"
    },
    "tags": []
   },
   "outputs": [],
   "source": [
    "# #hide\n",
    "# fig, ax = plt.subplots(figsize=(15, 8))\n",
    "\n",
    "# def draw_barchart(current_day):\n",
    "#     dff = g[g['day'].eq(current_day)].sort_values(by='value', ascending=True).tail(10)\n",
    "#     ax.clear()\n",
    "#     ax.barh(dff['name'], dff['value'], color=[colors[group_lk[x]] for x in dff['name']])\n",
    "#     dx = dff['value'].max() / 200\n",
    "    \n",
    "#     for i, (value, name) in enumerate(zip(dff['value'], dff['name'])):\n",
    "#         ax.text(value-dx, i,     name,           size=14, weight=600, ha='right', va='bottom')\n",
    "#         ax.text(value-dx, i-.25, group_lk[name], size=10, color='#444444', ha='right', va='baseline')\n",
    "#         ax.text(value+dx, i,     f'{value:,.0f}',  size=14, ha='left',  va='center')\n",
    "#     ax.text(1, 0.4, current_day, transform=ax.transAxes, color='#777777', size=46, ha='right', weight=800)\n",
    "#     ax.text(0, 1.06, 'Population (thousands)', transform=ax.transAxes, size=12, color='#777777')\n",
    "#     ax.xaxis.set_major_formatter(ticker.StrMethodFormatter('{x:,.0f}'))\n",
    "#     ax.xaxis.set_ticks_position('top')\n",
    "#     ax.tick_params(axis='x', colors='#777777', labelsize=12)\n",
    "#     ax.set_yticks([])\n",
    "#     ax.margins(0, 0.01)\n",
    "#     ax.grid(which='major', axis='x', linestyle='-')\n",
    "#     ax.set_axisbelow(True)\n",
    "    \n",
    "#     ax.text(0, 1.15, 'Coronavirus',\n",
    "#             transform=ax.transAxes, size=24, weight=600, ha='left', va='top')\n",
    "# #     ax.text(1, 0, 'by @pratapvardhan; credit @jburnmurdoch', transform=ax.transAxes, color='#777777', ha='right',\n",
    "# #             bbox=dict(facecolor='white', alpha=0.8, edgecolor='white'))\n",
    "#     plt.box(False)"
   ]
  },
  {
   "cell_type": "code",
   "execution_count": 42,
   "id": "sexual-wages",
   "metadata": {
    "execution": {
     "iopub.execute_input": "2021-09-15T00:40:44.330757Z",
     "iopub.status.busy": "2021-09-15T00:40:44.330106Z",
     "iopub.status.idle": "2021-09-15T00:40:44.331971Z",
     "shell.execute_reply": "2021-09-15T00:40:44.332511Z"
    },
    "papermill": {
     "duration": 0.04195,
     "end_time": "2021-09-15T00:40:44.332656",
     "exception": false,
     "start_time": "2021-09-15T00:40:44.290706",
     "status": "completed"
    },
    "tags": []
   },
   "outputs": [],
   "source": [
    "# #hide_input\n",
    "# fig, ax = plt.subplots(figsize=(15, 8))\n",
    "# animator = animation.FuncAnimation(fig, draw_barchart, frames=range(g.day.values.min(), g.day.values.max()))\n",
    "# HTML(animator.to_jshtml())\n",
    "# # or use animator.to_html5_video() or animator.save() "
   ]
  },
  {
   "cell_type": "code",
   "execution_count": null,
   "id": "australian-container",
   "metadata": {
    "papermill": {
     "duration": 0.036143,
     "end_time": "2021-09-15T00:40:44.405280",
     "exception": false,
     "start_time": "2021-09-15T00:40:44.369137",
     "status": "completed"
    },
    "tags": []
   },
   "outputs": [],
   "source": []
  },
  {
   "cell_type": "code",
   "execution_count": null,
   "id": "mediterranean-pontiac",
   "metadata": {
    "papermill": {
     "duration": 0.035815,
     "end_time": "2021-09-15T00:40:44.477157",
     "exception": false,
     "start_time": "2021-09-15T00:40:44.441342",
     "status": "completed"
    },
    "tags": []
   },
   "outputs": [],
   "source": []
  },
  {
   "cell_type": "code",
   "execution_count": null,
   "id": "aging-legislature",
   "metadata": {
    "papermill": {
     "duration": 0.040269,
     "end_time": "2021-09-15T00:40:44.553487",
     "exception": false,
     "start_time": "2021-09-15T00:40:44.513218",
     "status": "completed"
    },
    "tags": []
   },
   "outputs": [],
   "source": []
  }
 ],
 "metadata": {
  "kernelspec": {
   "display_name": "Python 3",
   "language": "python",
   "name": "python3"
  },
  "language_info": {
   "codemirror_mode": {
    "name": "ipython",
    "version": 3
   },
   "file_extension": ".py",
   "mimetype": "text/x-python",
   "name": "python",
   "nbconvert_exporter": "python",
   "pygments_lexer": "ipython3",
   "version": "3.6.14"
  },
  "papermill": {
   "duration": 7.04732,
   "end_time": "2021-09-15T00:40:44.997495",
   "environment_variables": {},
   "exception": null,
   "input_path": "2020-03-21-covid19exp.ipynb",
   "output_path": "2020-03-21-covid19exp.ipynb",
   "parameters": {},
   "start_time": "2021-09-15T00:40:37.950175",
   "version": "2.0.0"
  }
 },
 "nbformat": 4,
 "nbformat_minor": 5
}