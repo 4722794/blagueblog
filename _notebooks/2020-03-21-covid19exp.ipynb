{
 "cells": [
  {
   "cell_type": "markdown",
   "id": "muslim-click",
   "metadata": {
    "papermill": {
     "duration": 0.034112,
     "end_time": "2021-06-16T12:10:41.127358",
     "exception": false,
     "start_time": "2021-06-16T12:10:41.093246",
     "status": "completed"
    },
    "tags": []
   },
   "source": [
    "# COVID-19 Case Race\n",
    "> A race chart to see rising cases around the world\n",
    "\n",
    "- author: Hargun Oberoi\n",
    "- image: images/covid-overview.png\n",
    "- hide: false\n",
    "- badges: false"
   ]
  },
  {
   "cell_type": "code",
   "execution_count": 1,
   "id": "proof-material",
   "metadata": {
    "execution": {
     "iopub.execute_input": "2021-06-16T12:10:41.195970Z",
     "iopub.status.busy": "2021-06-16T12:10:41.195465Z",
     "iopub.status.idle": "2021-06-16T12:10:41.479924Z",
     "shell.execute_reply": "2021-06-16T12:10:41.479383Z"
    },
    "papermill": {
     "duration": 0.322645,
     "end_time": "2021-06-16T12:10:41.480073",
     "exception": false,
     "start_time": "2021-06-16T12:10:41.157428",
     "status": "completed"
    },
    "tags": []
   },
   "outputs": [],
   "source": [
    "#hide\n",
    "import numpy as np\n",
    "import pandas as pd\n",
    "from jinja2 import Template\n",
    "from IPython.display import HTML"
   ]
  },
  {
   "cell_type": "code",
   "execution_count": 2,
   "id": "developed-terminology",
   "metadata": {
    "execution": {
     "iopub.execute_input": "2021-06-16T12:10:41.544389Z",
     "iopub.status.busy": "2021-06-16T12:10:41.543802Z",
     "iopub.status.idle": "2021-06-16T12:10:41.545237Z",
     "shell.execute_reply": "2021-06-16T12:10:41.545715Z"
    },
    "papermill": {
     "duration": 0.035621,
     "end_time": "2021-06-16T12:10:41.545850",
     "exception": false,
     "start_time": "2021-06-16T12:10:41.510229",
     "status": "completed"
    },
    "tags": []
   },
   "outputs": [],
   "source": [
    "#hide\n",
    "\n",
    "# FETCH\n",
    "base_url = 'https://raw.githubusercontent.com/pratapvardhan/notebooks/master/covid19/'\n",
    "paths = {\n",
    "    'mapping': base_url + 'mapping_countries.csv',\n",
    "    'overview': base_url + 'overview.tpl'\n",
    "}"
   ]
  },
  {
   "cell_type": "code",
   "execution_count": 3,
   "id": "dynamic-saver",
   "metadata": {
    "execution": {
     "iopub.execute_input": "2021-06-16T12:10:41.607761Z",
     "iopub.status.busy": "2021-06-16T12:10:41.607321Z",
     "iopub.status.idle": "2021-06-16T12:10:41.610084Z",
     "shell.execute_reply": "2021-06-16T12:10:41.609729Z"
    },
    "papermill": {
     "duration": 0.038344,
     "end_time": "2021-06-16T12:10:41.610185",
     "exception": false,
     "start_time": "2021-06-16T12:10:41.571841",
     "status": "completed"
    },
    "tags": []
   },
   "outputs": [
    {
     "data": {
      "text/plain": [
       "'https://raw.githubusercontent.com/pratapvardhan/notebooks/master/covid19/mapping_countries.csv'"
      ]
     },
     "execution_count": 3,
     "metadata": {},
     "output_type": "execute_result"
    }
   ],
   "source": [
    "#hide\n",
    "paths['mapping']"
   ]
  },
  {
   "cell_type": "code",
   "execution_count": 4,
   "id": "urban-software",
   "metadata": {
    "execution": {
     "iopub.execute_input": "2021-06-16T12:10:41.667745Z",
     "iopub.status.busy": "2021-06-16T12:10:41.667304Z",
     "iopub.status.idle": "2021-06-16T12:10:41.669325Z",
     "shell.execute_reply": "2021-06-16T12:10:41.669676Z"
    },
    "papermill": {
     "duration": 0.033428,
     "end_time": "2021-06-16T12:10:41.669783",
     "exception": false,
     "start_time": "2021-06-16T12:10:41.636355",
     "status": "completed"
    },
    "tags": []
   },
   "outputs": [],
   "source": [
    "#hide\n",
    "def get_mappings(url):\n",
    "    df = pd.read_csv(url)\n",
    "    return {\n",
    "        'df': df,\n",
    "        'replace.country': dict(df.dropna(subset=['Name']).set_index('Country')['Name']),\n",
    "        'map.continent': dict(df.set_index('Name')['Continent'])\n",
    "    }"
   ]
  },
  {
   "cell_type": "code",
   "execution_count": 5,
   "id": "intimate-machinery",
   "metadata": {
    "execution": {
     "iopub.execute_input": "2021-06-16T12:10:41.726906Z",
     "iopub.status.busy": "2021-06-16T12:10:41.726453Z",
     "iopub.status.idle": "2021-06-16T12:10:41.754211Z",
     "shell.execute_reply": "2021-06-16T12:10:41.753755Z"
    },
    "papermill": {
     "duration": 0.058505,
     "end_time": "2021-06-16T12:10:41.754330",
     "exception": false,
     "start_time": "2021-06-16T12:10:41.695825",
     "status": "completed"
    },
    "tags": []
   },
   "outputs": [],
   "source": [
    "#hide\n",
    "mapping = get_mappings(paths['mapping'])"
   ]
  },
  {
   "cell_type": "code",
   "execution_count": 6,
   "id": "certified-tactics",
   "metadata": {
    "execution": {
     "iopub.execute_input": "2021-06-16T12:10:41.812582Z",
     "iopub.status.busy": "2021-06-16T12:10:41.812139Z",
     "iopub.status.idle": "2021-06-16T12:10:41.814121Z",
     "shell.execute_reply": "2021-06-16T12:10:41.813752Z"
    },
    "papermill": {
     "duration": 0.032242,
     "end_time": "2021-06-16T12:10:41.814213",
     "exception": false,
     "start_time": "2021-06-16T12:10:41.781971",
     "status": "completed"
    },
    "tags": []
   },
   "outputs": [],
   "source": [
    "#hide\n",
    "def get_template(path):\n",
    "    from urllib.parse import urlparse\n",
    "    if bool(urlparse(path).netloc):\n",
    "        from urllib.request import urlopen\n",
    "        return urlopen(path).read().decode('utf8')\n",
    "    return open(path).read()"
   ]
  },
  {
   "cell_type": "code",
   "execution_count": 7,
   "id": "realistic-blast",
   "metadata": {
    "execution": {
     "iopub.execute_input": "2021-06-16T12:10:41.870141Z",
     "iopub.status.busy": "2021-06-16T12:10:41.869704Z",
     "iopub.status.idle": "2021-06-16T12:10:41.871357Z",
     "shell.execute_reply": "2021-06-16T12:10:41.871705Z"
    },
    "papermill": {
     "duration": 0.031663,
     "end_time": "2021-06-16T12:10:41.871805",
     "exception": false,
     "start_time": "2021-06-16T12:10:41.840142",
     "status": "completed"
    },
    "tags": []
   },
   "outputs": [],
   "source": [
    "#hide\n",
    "def get_frame(name):\n",
    "    url = (\n",
    "        'https://raw.githubusercontent.com/CSSEGISandData/COVID-19/master/csse_covid_19_data/'\n",
    "        f'csse_covid_19_time_series/time_series_covid19_{name}_global.csv')\n",
    "    df = pd.read_csv(url)\n",
    "    # rename countries\n",
    "    df['Country/Region'] = df['Country/Region'].replace(mapping['replace.country'])\n",
    "    return df"
   ]
  },
  {
   "cell_type": "code",
   "execution_count": 8,
   "id": "affiliated-characterization",
   "metadata": {
    "execution": {
     "iopub.execute_input": "2021-06-16T12:10:41.928809Z",
     "iopub.status.busy": "2021-06-16T12:10:41.928369Z",
     "iopub.status.idle": "2021-06-16T12:10:41.930079Z",
     "shell.execute_reply": "2021-06-16T12:10:41.930499Z"
    },
    "papermill": {
     "duration": 0.032739,
     "end_time": "2021-06-16T12:10:41.930601",
     "exception": false,
     "start_time": "2021-06-16T12:10:41.897862",
     "status": "completed"
    },
    "tags": []
   },
   "outputs": [],
   "source": [
    "#hide\n",
    "def get_dates(df):\n",
    "    dt_cols = df.columns[~df.columns.isin(['Province/State', 'Country/Region', 'Lat', 'Long'])]\n",
    "    LAST_DATE_I = -1\n",
    "    # sometimes last column may be empty, then go backwards\n",
    "    for i in range(-1, -len(dt_cols), -1):\n",
    "        if not df[dt_cols[i]].fillna(0).eq(0).all():\n",
    "            LAST_DATE_I = i\n",
    "            break\n",
    "    return LAST_DATE_I, dt_cols"
   ]
  },
  {
   "cell_type": "code",
   "execution_count": 9,
   "id": "recent-optimization",
   "metadata": {
    "execution": {
     "iopub.execute_input": "2021-06-16T12:10:42.197932Z",
     "iopub.status.busy": "2021-06-16T12:10:42.196681Z",
     "iopub.status.idle": "2021-06-16T12:10:42.438504Z",
     "shell.execute_reply": "2021-06-16T12:10:42.439025Z"
    },
    "papermill": {
     "duration": 0.482681,
     "end_time": "2021-06-16T12:10:42.439193",
     "exception": false,
     "start_time": "2021-06-16T12:10:41.956512",
     "status": "completed"
    },
    "tags": []
   },
   "outputs": [],
   "source": [
    "#hide\n",
    "COL_REGION = 'Country/Region'\n",
    "# Confirmed, Recovered, Deaths\n",
    "df = get_frame('confirmed')\n",
    "# dft_: timeseries, dfc_: today country agg\n",
    "dft_cases = df\n",
    "dft_deaths = get_frame('deaths')\n",
    "dft_recovered = get_frame('recovered')\n",
    "LAST_DATE_I, dt_cols = get_dates(df)"
   ]
  },
  {
   "cell_type": "code",
   "execution_count": 10,
   "id": "absolute-copper",
   "metadata": {
    "execution": {
     "iopub.execute_input": "2021-06-16T12:10:42.505071Z",
     "iopub.status.busy": "2021-06-16T12:10:42.504602Z",
     "iopub.status.idle": "2021-06-16T12:10:42.506698Z",
     "shell.execute_reply": "2021-06-16T12:10:42.506256Z"
    },
    "papermill": {
     "duration": 0.037177,
     "end_time": "2021-06-16T12:10:42.506796",
     "exception": false,
     "start_time": "2021-06-16T12:10:42.469619",
     "status": "completed"
    },
    "tags": []
   },
   "outputs": [],
   "source": [
    "#hide\n",
    "LAST_DATE_I, dt_cols = get_dates(df)\n",
    "dt_today =dt_cols[LAST_DATE_I]\n",
    "# dt_5day = dt_cols[LAST_DATE_I - 5]\n",
    "dt_yday = dt_cols[LAST_DATE_I - 1]"
   ]
  },
  {
   "cell_type": "code",
   "execution_count": 11,
   "id": "restricted-sheriff",
   "metadata": {
    "execution": {
     "iopub.execute_input": "2021-06-16T12:10:42.564941Z",
     "iopub.status.busy": "2021-06-16T12:10:42.564502Z",
     "iopub.status.idle": "2021-06-16T12:10:42.571295Z",
     "shell.execute_reply": "2021-06-16T12:10:42.570910Z"
    },
    "papermill": {
     "duration": 0.038351,
     "end_time": "2021-06-16T12:10:42.571390",
     "exception": false,
     "start_time": "2021-06-16T12:10:42.533039",
     "status": "completed"
    },
    "tags": []
   },
   "outputs": [],
   "source": [
    "#hide\n",
    "dfc_cases = dft_cases.groupby(COL_REGION)[dt_today].sum()\n",
    "dfc_deaths = dft_deaths.groupby(COL_REGION)[dt_today].sum()\n",
    "# dfp_cases = dft_cases.groupby(COL_REGION)[dt_5day].sum()\n",
    "# dfp_deaths = dft_deaths.groupby(COL_REGION)[dt_5day].sum()\n",
    "dfp_cases = dft_cases.groupby(COL_REGION)[dt_yday].sum()\n",
    "dfp_deaths = dft_deaths.groupby(COL_REGION)[dt_yday].sum()"
   ]
  },
  {
   "cell_type": "code",
   "execution_count": 12,
   "id": "deluxe-hepatitis",
   "metadata": {
    "execution": {
     "iopub.execute_input": "2021-06-16T12:10:42.629405Z",
     "iopub.status.busy": "2021-06-16T12:10:42.628321Z",
     "iopub.status.idle": "2021-06-16T12:10:42.633624Z",
     "shell.execute_reply": "2021-06-16T12:10:42.632841Z"
    },
    "papermill": {
     "duration": 0.036252,
     "end_time": "2021-06-16T12:10:42.633723",
     "exception": false,
     "start_time": "2021-06-16T12:10:42.597471",
     "status": "completed"
    },
    "tags": []
   },
   "outputs": [],
   "source": [
    "#hide\n",
    "df_table = (pd.DataFrame(dict(Cases = dfc_cases, Deaths = dfc_deaths, PCases = dfp_cases, PDeaths = dfp_deaths))\n",
    "            .sort_values(by = ['Cases','Deaths'], ascending = [False, False])\n",
    "            .reset_index())"
   ]
  },
  {
   "cell_type": "code",
   "execution_count": 13,
   "id": "educational-chancellor",
   "metadata": {
    "execution": {
     "iopub.execute_input": "2021-06-16T12:10:42.703591Z",
     "iopub.status.busy": "2021-06-16T12:10:42.699620Z",
     "iopub.status.idle": "2021-06-16T12:10:42.706217Z",
     "shell.execute_reply": "2021-06-16T12:10:42.705816Z"
    },
    "papermill": {
     "duration": 0.04669,
     "end_time": "2021-06-16T12:10:42.706324",
     "exception": false,
     "start_time": "2021-06-16T12:10:42.659634",
     "status": "completed"
    },
    "tags": []
   },
   "outputs": [
    {
     "data": {
      "text/html": [
       "<div>\n",
       "<style scoped>\n",
       "    .dataframe tbody tr th:only-of-type {\n",
       "        vertical-align: middle;\n",
       "    }\n",
       "\n",
       "    .dataframe tbody tr th {\n",
       "        vertical-align: top;\n",
       "    }\n",
       "\n",
       "    .dataframe thead th {\n",
       "        text-align: right;\n",
       "    }\n",
       "</style>\n",
       "<table border=\"1\" class=\"dataframe\">\n",
       "  <thead>\n",
       "    <tr style=\"text-align: right;\">\n",
       "      <th></th>\n",
       "      <th>Country/Region</th>\n",
       "      <th>Cases</th>\n",
       "      <th>Deaths</th>\n",
       "      <th>PCases</th>\n",
       "      <th>PDeaths</th>\n",
       "      <th>Cases (+)</th>\n",
       "      <th>Deaths (+)</th>\n",
       "      <th>Fatality Rate</th>\n",
       "      <th>Continent</th>\n",
       "    </tr>\n",
       "  </thead>\n",
       "  <tbody>\n",
       "    <tr>\n",
       "      <th>0</th>\n",
       "      <td>US</td>\n",
       "      <td>33486038</td>\n",
       "      <td>600285</td>\n",
       "      <td>33474734</td>\n",
       "      <td>599946</td>\n",
       "      <td>11304</td>\n",
       "      <td>339</td>\n",
       "      <td>1.79</td>\n",
       "      <td>North America</td>\n",
       "    </tr>\n",
       "    <tr>\n",
       "      <th>1</th>\n",
       "      <td>India</td>\n",
       "      <td>29633105</td>\n",
       "      <td>379573</td>\n",
       "      <td>29570881</td>\n",
       "      <td>377031</td>\n",
       "      <td>62224</td>\n",
       "      <td>2542</td>\n",
       "      <td>1.28</td>\n",
       "      <td>Asia</td>\n",
       "    </tr>\n",
       "    <tr>\n",
       "      <th>2</th>\n",
       "      <td>Brazil</td>\n",
       "      <td>17533221</td>\n",
       "      <td>490696</td>\n",
       "      <td>17452612</td>\n",
       "      <td>488228</td>\n",
       "      <td>80609</td>\n",
       "      <td>2468</td>\n",
       "      <td>2.80</td>\n",
       "      <td>South America</td>\n",
       "    </tr>\n",
       "    <tr>\n",
       "      <th>3</th>\n",
       "      <td>France</td>\n",
       "      <td>5806255</td>\n",
       "      <td>110692</td>\n",
       "      <td>5803012</td>\n",
       "      <td>110616</td>\n",
       "      <td>3243</td>\n",
       "      <td>76</td>\n",
       "      <td>1.91</td>\n",
       "      <td>Europe</td>\n",
       "    </tr>\n",
       "    <tr>\n",
       "      <th>4</th>\n",
       "      <td>Turkey</td>\n",
       "      <td>5342028</td>\n",
       "      <td>48879</td>\n",
       "      <td>5336073</td>\n",
       "      <td>48795</td>\n",
       "      <td>5955</td>\n",
       "      <td>84</td>\n",
       "      <td>0.91</td>\n",
       "      <td>Asia</td>\n",
       "    </tr>\n",
       "  </tbody>\n",
       "</table>\n",
       "</div>"
      ],
      "text/plain": [
       "  Country/Region     Cases  Deaths    PCases  PDeaths  Cases (+)  Deaths (+)  \\\n",
       "0             US  33486038  600285  33474734   599946      11304         339   \n",
       "1          India  29633105  379573  29570881   377031      62224        2542   \n",
       "2         Brazil  17533221  490696  17452612   488228      80609        2468   \n",
       "3         France   5806255  110692   5803012   110616       3243          76   \n",
       "4         Turkey   5342028   48879   5336073    48795       5955          84   \n",
       "\n",
       "   Fatality Rate      Continent  \n",
       "0           1.79  North America  \n",
       "1           1.28           Asia  \n",
       "2           2.80  South America  \n",
       "3           1.91         Europe  \n",
       "4           0.91           Asia  "
      ]
     },
     "execution_count": 13,
     "metadata": {},
     "output_type": "execute_result"
    }
   ],
   "source": [
    "#hide\n",
    "for c in 'Cases, Deaths'.split(', '):\n",
    "    df_table[f'{c} (+)'] = (df_table[c] - df_table[f'P{c}']).clip(0)\n",
    "    #Clip ça veut dire, les chiffres negatif sont interdit\n",
    "df_table['Fatality Rate'] = (100* df_table['Deaths']/ df_table['Cases']).round(2)\n",
    "df_table['Continent'] = df_table['Country/Region'].map(mapping['map.continent'])\n",
    "df_table.head(5)"
   ]
  },
  {
   "cell_type": "code",
   "execution_count": 14,
   "id": "aboriginal-bulgaria",
   "metadata": {
    "execution": {
     "iopub.execute_input": "2021-06-16T12:10:42.770974Z",
     "iopub.status.busy": "2021-06-16T12:10:42.770470Z",
     "iopub.status.idle": "2021-06-16T12:10:42.772583Z",
     "shell.execute_reply": "2021-06-16T12:10:42.772981Z"
    },
    "papermill": {
     "duration": 0.036844,
     "end_time": "2021-06-16T12:10:42.773095",
     "exception": false,
     "start_time": "2021-06-16T12:10:42.736251",
     "status": "completed"
    },
    "tags": []
   },
   "outputs": [],
   "source": [
    "#hide\n",
    "#delete problematic countries from table\n",
    "df_table = df_table[~df_table['Country/Region'].isin(['Cape Verde', 'Cruise Ship', 'Kosovo'])]"
   ]
  },
  {
   "cell_type": "code",
   "execution_count": 15,
   "id": "fantastic-effect",
   "metadata": {
    "execution": {
     "iopub.execute_input": "2021-06-16T12:10:42.840343Z",
     "iopub.status.busy": "2021-06-16T12:10:42.839849Z",
     "iopub.status.idle": "2021-06-16T12:10:42.855124Z",
     "shell.execute_reply": "2021-06-16T12:10:42.854679Z"
    },
    "papermill": {
     "duration": 0.052326,
     "end_time": "2021-06-16T12:10:42.855235",
     "exception": false,
     "start_time": "2021-06-16T12:10:42.802909",
     "status": "completed"
    },
    "tags": []
   },
   "outputs": [
    {
     "data": {
      "text/html": [
       "<div>\n",
       "<style scoped>\n",
       "    .dataframe tbody tr th:only-of-type {\n",
       "        vertical-align: middle;\n",
       "    }\n",
       "\n",
       "    .dataframe tbody tr th {\n",
       "        vertical-align: top;\n",
       "    }\n",
       "\n",
       "    .dataframe thead th {\n",
       "        text-align: right;\n",
       "    }\n",
       "</style>\n",
       "<table border=\"1\" class=\"dataframe\">\n",
       "  <thead>\n",
       "    <tr style=\"text-align: right;\">\n",
       "      <th></th>\n",
       "      <th>Country/Region</th>\n",
       "      <th>Cases</th>\n",
       "      <th>Deaths</th>\n",
       "      <th>PCases</th>\n",
       "      <th>PDeaths</th>\n",
       "      <th>Cases (+)</th>\n",
       "      <th>Deaths (+)</th>\n",
       "      <th>Fatality Rate</th>\n",
       "      <th>Continent</th>\n",
       "    </tr>\n",
       "  </thead>\n",
       "  <tbody>\n",
       "    <tr>\n",
       "      <th>0</th>\n",
       "      <td>US</td>\n",
       "      <td>33486038</td>\n",
       "      <td>600285</td>\n",
       "      <td>33474734</td>\n",
       "      <td>599946</td>\n",
       "      <td>11304</td>\n",
       "      <td>339</td>\n",
       "      <td>1.8</td>\n",
       "      <td>North America</td>\n",
       "    </tr>\n",
       "    <tr>\n",
       "      <th>1</th>\n",
       "      <td>India</td>\n",
       "      <td>29633105</td>\n",
       "      <td>379573</td>\n",
       "      <td>29570881</td>\n",
       "      <td>377031</td>\n",
       "      <td>62224</td>\n",
       "      <td>2542</td>\n",
       "      <td>1.3</td>\n",
       "      <td>Asia</td>\n",
       "    </tr>\n",
       "    <tr>\n",
       "      <th>2</th>\n",
       "      <td>Brazil</td>\n",
       "      <td>17533221</td>\n",
       "      <td>490696</td>\n",
       "      <td>17452612</td>\n",
       "      <td>488228</td>\n",
       "      <td>80609</td>\n",
       "      <td>2468</td>\n",
       "      <td>2.8</td>\n",
       "      <td>South America</td>\n",
       "    </tr>\n",
       "    <tr>\n",
       "      <th>3</th>\n",
       "      <td>France</td>\n",
       "      <td>5806255</td>\n",
       "      <td>110692</td>\n",
       "      <td>5803012</td>\n",
       "      <td>110616</td>\n",
       "      <td>3243</td>\n",
       "      <td>76</td>\n",
       "      <td>1.9</td>\n",
       "      <td>Europe</td>\n",
       "    </tr>\n",
       "    <tr>\n",
       "      <th>4</th>\n",
       "      <td>Turkey</td>\n",
       "      <td>5342028</td>\n",
       "      <td>48879</td>\n",
       "      <td>5336073</td>\n",
       "      <td>48795</td>\n",
       "      <td>5955</td>\n",
       "      <td>84</td>\n",
       "      <td>0.9</td>\n",
       "      <td>Asia</td>\n",
       "    </tr>\n",
       "  </tbody>\n",
       "</table>\n",
       "</div>"
      ],
      "text/plain": [
       "  Country/Region     Cases  Deaths    PCases  PDeaths  Cases (+)  Deaths (+)  \\\n",
       "0             US  33486038  600285  33474734   599946      11304         339   \n",
       "1          India  29633105  379573  29570881   377031      62224        2542   \n",
       "2         Brazil  17533221  490696  17452612   488228      80609        2468   \n",
       "3         France   5806255  110692   5803012   110616       3243          76   \n",
       "4         Turkey   5342028   48879   5336073    48795       5955          84   \n",
       "\n",
       "   Fatality Rate      Continent  \n",
       "0            1.8  North America  \n",
       "1            1.3           Asia  \n",
       "2            2.8  South America  \n",
       "3            1.9         Europe  \n",
       "4            0.9           Asia  "
      ]
     },
     "execution_count": 15,
     "metadata": {},
     "output_type": "execute_result"
    }
   ],
   "source": [
    "#hide\n",
    "df_table = (pd.DataFrame(dict(Cases=dfc_cases, Deaths=dfc_deaths, PCases=dfp_cases, PDeaths=dfp_deaths))\n",
    "             .sort_values(by=['Cases', 'Deaths'], ascending=[False, False])\n",
    "             .reset_index())\n",
    "df_table.rename(columns={'index': 'Country/Region'}, inplace=True)\n",
    "for c in 'Cases, Deaths'.split(', '):\n",
    "    df_table[f'{c} (+)'] = (df_table[c] - df_table[f'P{c}']).clip(0)  # DATA BUG\n",
    "df_table['Fatality Rate'] = (100 * df_table['Deaths'] / df_table['Cases']).round(1)\n",
    "df_table['Continent'] = df_table['Country/Region'].map(mapping['map.continent'])\n",
    "df_table.head(5)"
   ]
  },
  {
   "cell_type": "code",
   "execution_count": 16,
   "id": "fewer-occasion",
   "metadata": {
    "execution": {
     "iopub.execute_input": "2021-06-16T12:10:42.920003Z",
     "iopub.status.busy": "2021-06-16T12:10:42.919508Z",
     "iopub.status.idle": "2021-06-16T12:10:42.922146Z",
     "shell.execute_reply": "2021-06-16T12:10:42.921726Z"
    },
    "papermill": {
     "duration": 0.036569,
     "end_time": "2021-06-16T12:10:42.922246",
     "exception": false,
     "start_time": "2021-06-16T12:10:42.885677",
     "status": "completed"
    },
    "tags": []
   },
   "outputs": [],
   "source": [
    "#hide\n",
    "#delete problematic countries from table\n",
    "df_table = df_table[~df_table['Country/Region'].isin(['Cape Verde', 'Cruise Ship', 'Kosovo'])]"
   ]
  },
  {
   "cell_type": "code",
   "execution_count": 17,
   "id": "related-center",
   "metadata": {
    "execution": {
     "iopub.execute_input": "2021-06-16T12:10:42.989282Z",
     "iopub.status.busy": "2021-06-16T12:10:42.988637Z",
     "iopub.status.idle": "2021-06-16T12:10:43.000210Z",
     "shell.execute_reply": "2021-06-16T12:10:42.999798Z"
    },
    "papermill": {
     "duration": 0.047813,
     "end_time": "2021-06-16T12:10:43.000311",
     "exception": false,
     "start_time": "2021-06-16T12:10:42.952498",
     "status": "completed"
    },
    "tags": []
   },
   "outputs": [],
   "source": [
    "#hide\n",
    "metrics = [df_table.columns[index] for index in [1,2,5,6]]\n",
    "# s_china = df_table[df_table['Country/Region'].eq('China')][metrics].sum().add_prefix('China ')\n",
    "s_us = df_table[df_table['Country/Region'].eq('US')][metrics].sum().add_prefix('US ')\n",
    "s_eu = df_table[df_table['Continent'].eq('Europe')][metrics].sum().add_prefix('EU ')\n",
    "s_ind = df_table[df_table['Country/Region'].eq('India')][metrics].sum().add_prefix('India ')\n",
    "summary = {'updated': pd.to_datetime(dt_today), 'since': pd.to_datetime(dt_yday)}\n",
    "summary = {'updated': pd.to_datetime(dt_today), 'since': pd.to_datetime(dt_yday)}\n",
    "summary = {**summary, **df_table[metrics].sum(), **s_ind, **s_us, **s_eu}"
   ]
  },
  {
   "cell_type": "code",
   "execution_count": 18,
   "id": "engaging-syndrome",
   "metadata": {
    "execution": {
     "iopub.execute_input": "2021-06-16T12:10:43.065839Z",
     "iopub.status.busy": "2021-06-16T12:10:43.065345Z",
     "iopub.status.idle": "2021-06-16T12:10:43.076975Z",
     "shell.execute_reply": "2021-06-16T12:10:43.076556Z"
    },
    "papermill": {
     "duration": 0.046398,
     "end_time": "2021-06-16T12:10:43.077078",
     "exception": false,
     "start_time": "2021-06-16T12:10:43.030680",
     "status": "completed"
    },
    "tags": []
   },
   "outputs": [],
   "source": [
    "#hide\n",
    "dft_ct_new_cases = dft_cases.groupby(COL_REGION)[dt_cols].sum().diff(axis=1).fillna(0).astype(int)"
   ]
  },
  {
   "cell_type": "code",
   "execution_count": 19,
   "id": "neutral-assignment",
   "metadata": {
    "execution": {
     "iopub.execute_input": "2021-06-16T12:10:43.142473Z",
     "iopub.status.busy": "2021-06-16T12:10:43.141990Z",
     "iopub.status.idle": "2021-06-16T12:10:43.143951Z",
     "shell.execute_reply": "2021-06-16T12:10:43.144344Z"
    },
    "papermill": {
     "duration": 0.037141,
     "end_time": "2021-06-16T12:10:43.144459",
     "exception": false,
     "start_time": "2021-06-16T12:10:43.107318",
     "status": "completed"
    },
    "tags": []
   },
   "outputs": [],
   "source": [
    "#hide\n",
    "everydaycases = dft_ct_new_cases.cumsum(axis=1)"
   ]
  },
  {
   "cell_type": "code",
   "execution_count": 20,
   "id": "parliamentary-calgary",
   "metadata": {
    "execution": {
     "iopub.execute_input": "2021-06-16T12:10:43.208830Z",
     "iopub.status.busy": "2021-06-16T12:10:43.208342Z",
     "iopub.status.idle": "2021-06-16T12:10:43.728575Z",
     "shell.execute_reply": "2021-06-16T12:10:43.728057Z"
    },
    "papermill": {
     "duration": 0.553996,
     "end_time": "2021-06-16T12:10:43.728710",
     "exception": false,
     "start_time": "2021-06-16T12:10:43.174714",
     "status": "completed"
    },
    "tags": []
   },
   "outputs": [],
   "source": [
    "#hide\n",
    "import pandas as pd\n",
    "import matplotlib.pyplot as plt\n",
    "import matplotlib.ticker as ticker\n",
    "import matplotlib.animation as animation\n",
    "from IPython.display import HTML"
   ]
  },
  {
   "cell_type": "code",
   "execution_count": 21,
   "id": "lasting-extraction",
   "metadata": {
    "execution": {
     "iopub.execute_input": "2021-06-16T12:10:43.795153Z",
     "iopub.status.busy": "2021-06-16T12:10:43.794615Z",
     "iopub.status.idle": "2021-06-16T12:10:43.799751Z",
     "shell.execute_reply": "2021-06-16T12:10:43.800125Z"
    },
    "papermill": {
     "duration": 0.040606,
     "end_time": "2021-06-16T12:10:43.800246",
     "exception": false,
     "start_time": "2021-06-16T12:10:43.759640",
     "status": "completed"
    },
    "tags": []
   },
   "outputs": [],
   "source": [
    "#hide\n",
    "t = everydaycases.stack()"
   ]
  },
  {
   "cell_type": "code",
   "execution_count": 22,
   "id": "premier-sleeve",
   "metadata": {
    "execution": {
     "iopub.execute_input": "2021-06-16T12:10:43.864759Z",
     "iopub.status.busy": "2021-06-16T12:10:43.864262Z",
     "iopub.status.idle": "2021-06-16T12:10:43.871933Z",
     "shell.execute_reply": "2021-06-16T12:10:43.872402Z"
    },
    "papermill": {
     "duration": 0.041865,
     "end_time": "2021-06-16T12:10:43.872519",
     "exception": false,
     "start_time": "2021-06-16T12:10:43.830654",
     "status": "completed"
    },
    "tags": []
   },
   "outputs": [],
   "source": [
    "#hide\n",
    "g = t.reset_index(['Country/Region'])"
   ]
  },
  {
   "cell_type": "code",
   "execution_count": 23,
   "id": "distributed-pittsburgh",
   "metadata": {
    "execution": {
     "iopub.execute_input": "2021-06-16T12:10:43.936337Z",
     "iopub.status.busy": "2021-06-16T12:10:43.935845Z",
     "iopub.status.idle": "2021-06-16T12:10:43.937396Z",
     "shell.execute_reply": "2021-06-16T12:10:43.937854Z"
    },
    "papermill": {
     "duration": 0.035278,
     "end_time": "2021-06-16T12:10:43.937968",
     "exception": false,
     "start_time": "2021-06-16T12:10:43.902690",
     "status": "completed"
    },
    "tags": []
   },
   "outputs": [],
   "source": [
    "#hide\n",
    "g.index.name = 'date'"
   ]
  },
  {
   "cell_type": "code",
   "execution_count": 24,
   "id": "naked-donor",
   "metadata": {
    "execution": {
     "iopub.execute_input": "2021-06-16T12:10:44.001424Z",
     "iopub.status.busy": "2021-06-16T12:10:44.000937Z",
     "iopub.status.idle": "2021-06-16T12:10:44.002830Z",
     "shell.execute_reply": "2021-06-16T12:10:44.003249Z"
    },
    "papermill": {
     "duration": 0.035157,
     "end_time": "2021-06-16T12:10:44.003361",
     "exception": false,
     "start_time": "2021-06-16T12:10:43.968204",
     "status": "completed"
    },
    "tags": []
   },
   "outputs": [],
   "source": [
    "# #hide\n",
    "# g = g.reset_index(['date'])"
   ]
  },
  {
   "cell_type": "code",
   "execution_count": 25,
   "id": "incomplete-mustang",
   "metadata": {
    "execution": {
     "iopub.execute_input": "2021-06-16T12:10:44.066919Z",
     "iopub.status.busy": "2021-06-16T12:10:44.066406Z",
     "iopub.status.idle": "2021-06-16T12:10:44.068000Z",
     "shell.execute_reply": "2021-06-16T12:10:44.068456Z"
    },
    "papermill": {
     "duration": 0.035037,
     "end_time": "2021-06-16T12:10:44.068565",
     "exception": false,
     "start_time": "2021-06-16T12:10:44.033528",
     "status": "completed"
    },
    "tags": []
   },
   "outputs": [],
   "source": [
    "#hide\n",
    "# g.head()"
   ]
  },
  {
   "cell_type": "code",
   "execution_count": 26,
   "id": "specific-kruger",
   "metadata": {
    "execution": {
     "iopub.execute_input": "2021-06-16T12:10:44.132005Z",
     "iopub.status.busy": "2021-06-16T12:10:44.131520Z",
     "iopub.status.idle": "2021-06-16T12:10:44.133311Z",
     "shell.execute_reply": "2021-06-16T12:10:44.133772Z"
    },
    "papermill": {
     "duration": 0.035032,
     "end_time": "2021-06-16T12:10:44.133880",
     "exception": false,
     "start_time": "2021-06-16T12:10:44.098848",
     "status": "completed"
    },
    "tags": []
   },
   "outputs": [],
   "source": [
    "#hide\n",
    "# g.columns = ['date','country','cases']"
   ]
  },
  {
   "cell_type": "code",
   "execution_count": 27,
   "id": "tender-conversion",
   "metadata": {
    "execution": {
     "iopub.execute_input": "2021-06-16T12:10:44.197188Z",
     "iopub.status.busy": "2021-06-16T12:10:44.196701Z",
     "iopub.status.idle": "2021-06-16T12:10:44.198856Z",
     "shell.execute_reply": "2021-06-16T12:10:44.198447Z"
    },
    "papermill": {
     "duration": 0.034984,
     "end_time": "2021-06-16T12:10:44.198967",
     "exception": false,
     "start_time": "2021-06-16T12:10:44.163983",
     "status": "completed"
    },
    "tags": []
   },
   "outputs": [],
   "source": [
    "#hide\n",
    "# g['continent'] = g.country"
   ]
  },
  {
   "cell_type": "code",
   "execution_count": 28,
   "id": "substantial-wilderness",
   "metadata": {
    "execution": {
     "iopub.execute_input": "2021-06-16T12:10:44.263114Z",
     "iopub.status.busy": "2021-06-16T12:10:44.262597Z",
     "iopub.status.idle": "2021-06-16T12:10:44.264216Z",
     "shell.execute_reply": "2021-06-16T12:10:44.264611Z"
    },
    "papermill": {
     "duration": 0.035268,
     "end_time": "2021-06-16T12:10:44.264721",
     "exception": false,
     "start_time": "2021-06-16T12:10:44.229453",
     "status": "completed"
    },
    "tags": []
   },
   "outputs": [],
   "source": [
    "#hide\n",
    "# cols = list(g.columns.values)"
   ]
  },
  {
   "cell_type": "code",
   "execution_count": 29,
   "id": "solved-farming",
   "metadata": {
    "execution": {
     "iopub.execute_input": "2021-06-16T12:10:44.328185Z",
     "iopub.status.busy": "2021-06-16T12:10:44.327699Z",
     "iopub.status.idle": "2021-06-16T12:10:44.329966Z",
     "shell.execute_reply": "2021-06-16T12:10:44.329457Z"
    },
    "papermill": {
     "duration": 0.035176,
     "end_time": "2021-06-16T12:10:44.330091",
     "exception": false,
     "start_time": "2021-06-16T12:10:44.294915",
     "status": "completed"
    },
    "tags": []
   },
   "outputs": [],
   "source": [
    "#hide\n",
    "# cols.insert(0, cols.pop())"
   ]
  },
  {
   "cell_type": "code",
   "execution_count": 30,
   "id": "executed-adoption",
   "metadata": {
    "execution": {
     "iopub.execute_input": "2021-06-16T12:10:44.394563Z",
     "iopub.status.busy": "2021-06-16T12:10:44.394072Z",
     "iopub.status.idle": "2021-06-16T12:10:44.396337Z",
     "shell.execute_reply": "2021-06-16T12:10:44.395942Z"
    },
    "papermill": {
     "duration": 0.035571,
     "end_time": "2021-06-16T12:10:44.396440",
     "exception": false,
     "start_time": "2021-06-16T12:10:44.360869",
     "status": "completed"
    },
    "tags": []
   },
   "outputs": [],
   "source": [
    "#hide\n",
    "# g = g[cols]"
   ]
  },
  {
   "cell_type": "code",
   "execution_count": 31,
   "id": "subject-dublin",
   "metadata": {
    "execution": {
     "iopub.execute_input": "2021-06-16T12:10:44.460154Z",
     "iopub.status.busy": "2021-06-16T12:10:44.459665Z",
     "iopub.status.idle": "2021-06-16T12:10:44.461511Z",
     "shell.execute_reply": "2021-06-16T12:10:44.461931Z"
    },
    "papermill": {
     "duration": 0.035357,
     "end_time": "2021-06-16T12:10:44.462042",
     "exception": false,
     "start_time": "2021-06-16T12:10:44.426685",
     "status": "completed"
    },
    "tags": []
   },
   "outputs": [],
   "source": [
    "#hide\n",
    "# g['continent'] = g['continent'].map(mapping['map.continent'])"
   ]
  },
  {
   "cell_type": "code",
   "execution_count": 32,
   "id": "freelance-scout",
   "metadata": {
    "execution": {
     "iopub.execute_input": "2021-06-16T12:10:44.525974Z",
     "iopub.status.busy": "2021-06-16T12:10:44.525476Z",
     "iopub.status.idle": "2021-06-16T12:10:44.527274Z",
     "shell.execute_reply": "2021-06-16T12:10:44.527731Z"
    },
    "papermill": {
     "duration": 0.035542,
     "end_time": "2021-06-16T12:10:44.527846",
     "exception": false,
     "start_time": "2021-06-16T12:10:44.492304",
     "status": "completed"
    },
    "tags": []
   },
   "outputs": [],
   "source": [
    "#hide\n",
    "# g.head()"
   ]
  },
  {
   "cell_type": "code",
   "execution_count": 33,
   "id": "limited-engine",
   "metadata": {
    "execution": {
     "iopub.execute_input": "2021-06-16T12:10:44.591918Z",
     "iopub.status.busy": "2021-06-16T12:10:44.591424Z",
     "iopub.status.idle": "2021-06-16T12:10:44.593679Z",
     "shell.execute_reply": "2021-06-16T12:10:44.593284Z"
    },
    "papermill": {
     "duration": 0.035731,
     "end_time": "2021-06-16T12:10:44.593782",
     "exception": false,
     "start_time": "2021-06-16T12:10:44.558051",
     "status": "completed"
    },
    "tags": []
   },
   "outputs": [],
   "source": [
    "# hide\n",
    "# g['date'] = g['date'].astype('datetime64[ns]')"
   ]
  },
  {
   "cell_type": "code",
   "execution_count": 34,
   "id": "sophisticated-supervisor",
   "metadata": {
    "execution": {
     "iopub.execute_input": "2021-06-16T12:10:44.657758Z",
     "iopub.status.busy": "2021-06-16T12:10:44.657265Z",
     "iopub.status.idle": "2021-06-16T12:10:44.659540Z",
     "shell.execute_reply": "2021-06-16T12:10:44.659141Z"
    },
    "papermill": {
     "duration": 0.035536,
     "end_time": "2021-06-16T12:10:44.659643",
     "exception": false,
     "start_time": "2021-06-16T12:10:44.624107",
     "status": "completed"
    },
    "tags": []
   },
   "outputs": [],
   "source": [
    "#hide\n",
    "# g['date'] = g.date.dt.dayofyear"
   ]
  },
  {
   "cell_type": "code",
   "execution_count": 35,
   "id": "inside-dubai",
   "metadata": {
    "execution": {
     "iopub.execute_input": "2021-06-16T12:10:44.723148Z",
     "iopub.status.busy": "2021-06-16T12:10:44.722629Z",
     "iopub.status.idle": "2021-06-16T12:10:44.724911Z",
     "shell.execute_reply": "2021-06-16T12:10:44.724521Z"
    },
    "papermill": {
     "duration": 0.035345,
     "end_time": "2021-06-16T12:10:44.725012",
     "exception": false,
     "start_time": "2021-06-16T12:10:44.689667",
     "status": "completed"
    },
    "tags": []
   },
   "outputs": [],
   "source": [
    "#hide\n",
    "# g = g.rename(columns= {'continent':'group','country':'name','cases':'value'})"
   ]
  },
  {
   "cell_type": "code",
   "execution_count": 36,
   "id": "fleet-motorcycle",
   "metadata": {
    "execution": {
     "iopub.execute_input": "2021-06-16T12:10:44.788691Z",
     "iopub.status.busy": "2021-06-16T12:10:44.788199Z",
     "iopub.status.idle": "2021-06-16T12:10:44.790205Z",
     "shell.execute_reply": "2021-06-16T12:10:44.789798Z"
    },
    "papermill": {
     "duration": 0.035053,
     "end_time": "2021-06-16T12:10:44.790304",
     "exception": false,
     "start_time": "2021-06-16T12:10:44.755251",
     "status": "completed"
    },
    "tags": []
   },
   "outputs": [],
   "source": [
    "#hide\n",
    "# cols = ['name','group','day','value']"
   ]
  },
  {
   "cell_type": "code",
   "execution_count": 37,
   "id": "continued-sleeping",
   "metadata": {
    "execution": {
     "iopub.execute_input": "2021-06-16T12:10:44.854093Z",
     "iopub.status.busy": "2021-06-16T12:10:44.853595Z",
     "iopub.status.idle": "2021-06-16T12:10:44.855421Z",
     "shell.execute_reply": "2021-06-16T12:10:44.855876Z"
    },
    "papermill": {
     "duration": 0.035447,
     "end_time": "2021-06-16T12:10:44.855985",
     "exception": false,
     "start_time": "2021-06-16T12:10:44.820538",
     "status": "completed"
    },
    "tags": []
   },
   "outputs": [],
   "source": [
    "#hide\n",
    "# g.rename(columns= {'date':'day'},inplace = True)"
   ]
  },
  {
   "cell_type": "code",
   "execution_count": 38,
   "id": "major-fight",
   "metadata": {
    "execution": {
     "iopub.execute_input": "2021-06-16T12:10:44.919794Z",
     "iopub.status.busy": "2021-06-16T12:10:44.919304Z",
     "iopub.status.idle": "2021-06-16T12:10:44.921050Z",
     "shell.execute_reply": "2021-06-16T12:10:44.921441Z"
    },
    "papermill": {
     "duration": 0.035333,
     "end_time": "2021-06-16T12:10:44.921551",
     "exception": false,
     "start_time": "2021-06-16T12:10:44.886218",
     "status": "completed"
    },
    "tags": []
   },
   "outputs": [],
   "source": [
    "#hide\n",
    "# g = g[cols]"
   ]
  },
  {
   "cell_type": "code",
   "execution_count": 39,
   "id": "structured-mobile",
   "metadata": {
    "execution": {
     "iopub.execute_input": "2021-06-16T12:10:44.985075Z",
     "iopub.status.busy": "2021-06-16T12:10:44.984585Z",
     "iopub.status.idle": "2021-06-16T12:10:44.986407Z",
     "shell.execute_reply": "2021-06-16T12:10:44.986798Z"
    },
    "papermill": {
     "duration": 0.035202,
     "end_time": "2021-06-16T12:10:44.986923",
     "exception": false,
     "start_time": "2021-06-16T12:10:44.951721",
     "status": "completed"
    },
    "tags": []
   },
   "outputs": [],
   "source": [
    "# #hide\n",
    "# g = g[g.group.notna()]"
   ]
  },
  {
   "cell_type": "code",
   "execution_count": 40,
   "id": "determined-closing",
   "metadata": {
    "execution": {
     "iopub.execute_input": "2021-06-16T12:10:45.050784Z",
     "iopub.status.busy": "2021-06-16T12:10:45.050288Z",
     "iopub.status.idle": "2021-06-16T12:10:45.052556Z",
     "shell.execute_reply": "2021-06-16T12:10:45.052163Z"
    },
    "papermill": {
     "duration": 0.035423,
     "end_time": "2021-06-16T12:10:45.052658",
     "exception": false,
     "start_time": "2021-06-16T12:10:45.017235",
     "status": "completed"
    },
    "tags": []
   },
   "outputs": [],
   "source": [
    "# #hide\n",
    "# colors = dict(zip(\n",
    "#     [\"Oceania\", \"Europe\", \"Asia\", \"South America\", \"Middle East\", \"North America\", \"Africa\"],\n",
    "#     [\"#adb0ff\", \"#ffb3ff\", \"#90d595\", \"#e48381\", \"#aafbff\", \"#f7bb5f\", \"#eafb50\"]\n",
    "# ))\n",
    "# group_lk = g.set_index('name')['group'].to_dict()"
   ]
  },
  {
   "cell_type": "code",
   "execution_count": null,
   "id": "gross-drinking",
   "metadata": {
    "papermill": {
     "duration": 0.030475,
     "end_time": "2021-06-16T12:10:45.113544",
     "exception": false,
     "start_time": "2021-06-16T12:10:45.083069",
     "status": "completed"
    },
    "tags": []
   },
   "outputs": [],
   "source": []
  },
  {
   "cell_type": "code",
   "execution_count": 41,
   "id": "subject-macintosh",
   "metadata": {
    "execution": {
     "iopub.execute_input": "2021-06-16T12:10:45.179338Z",
     "iopub.status.busy": "2021-06-16T12:10:45.178797Z",
     "iopub.status.idle": "2021-06-16T12:10:45.180597Z",
     "shell.execute_reply": "2021-06-16T12:10:45.180976Z"
    },
    "papermill": {
     "duration": 0.036811,
     "end_time": "2021-06-16T12:10:45.181106",
     "exception": false,
     "start_time": "2021-06-16T12:10:45.144295",
     "status": "completed"
    },
    "tags": []
   },
   "outputs": [],
   "source": [
    "# #hide\n",
    "# fig, ax = plt.subplots(figsize=(15, 8))\n",
    "\n",
    "# def draw_barchart(current_day):\n",
    "#     dff = g[g['day'].eq(current_day)].sort_values(by='value', ascending=True).tail(10)\n",
    "#     ax.clear()\n",
    "#     ax.barh(dff['name'], dff['value'], color=[colors[group_lk[x]] for x in dff['name']])\n",
    "#     dx = dff['value'].max() / 200\n",
    "    \n",
    "#     for i, (value, name) in enumerate(zip(dff['value'], dff['name'])):\n",
    "#         ax.text(value-dx, i,     name,           size=14, weight=600, ha='right', va='bottom')\n",
    "#         ax.text(value-dx, i-.25, group_lk[name], size=10, color='#444444', ha='right', va='baseline')\n",
    "#         ax.text(value+dx, i,     f'{value:,.0f}',  size=14, ha='left',  va='center')\n",
    "#     ax.text(1, 0.4, current_day, transform=ax.transAxes, color='#777777', size=46, ha='right', weight=800)\n",
    "#     ax.text(0, 1.06, 'Population (thousands)', transform=ax.transAxes, size=12, color='#777777')\n",
    "#     ax.xaxis.set_major_formatter(ticker.StrMethodFormatter('{x:,.0f}'))\n",
    "#     ax.xaxis.set_ticks_position('top')\n",
    "#     ax.tick_params(axis='x', colors='#777777', labelsize=12)\n",
    "#     ax.set_yticks([])\n",
    "#     ax.margins(0, 0.01)\n",
    "#     ax.grid(which='major', axis='x', linestyle='-')\n",
    "#     ax.set_axisbelow(True)\n",
    "    \n",
    "#     ax.text(0, 1.15, 'Coronavirus',\n",
    "#             transform=ax.transAxes, size=24, weight=600, ha='left', va='top')\n",
    "# #     ax.text(1, 0, 'by @pratapvardhan; credit @jburnmurdoch', transform=ax.transAxes, color='#777777', ha='right',\n",
    "# #             bbox=dict(facecolor='white', alpha=0.8, edgecolor='white'))\n",
    "#     plt.box(False)"
   ]
  },
  {
   "cell_type": "code",
   "execution_count": 42,
   "id": "sexual-wages",
   "metadata": {
    "execution": {
     "iopub.execute_input": "2021-06-16T12:10:45.245445Z",
     "iopub.status.busy": "2021-06-16T12:10:45.244948Z",
     "iopub.status.idle": "2021-06-16T12:10:45.246737Z",
     "shell.execute_reply": "2021-06-16T12:10:45.247178Z"
    },
    "papermill": {
     "duration": 0.035791,
     "end_time": "2021-06-16T12:10:45.247300",
     "exception": false,
     "start_time": "2021-06-16T12:10:45.211509",
     "status": "completed"
    },
    "tags": []
   },
   "outputs": [],
   "source": [
    "# #hide_input\n",
    "# fig, ax = plt.subplots(figsize=(15, 8))\n",
    "# animator = animation.FuncAnimation(fig, draw_barchart, frames=range(g.day.values.min(), g.day.values.max()))\n",
    "# HTML(animator.to_jshtml())\n",
    "# # or use animator.to_html5_video() or animator.save() "
   ]
  },
  {
   "cell_type": "code",
   "execution_count": null,
   "id": "australian-container",
   "metadata": {
    "papermill": {
     "duration": 0.030246,
     "end_time": "2021-06-16T12:10:45.307887",
     "exception": false,
     "start_time": "2021-06-16T12:10:45.277641",
     "status": "completed"
    },
    "tags": []
   },
   "outputs": [],
   "source": []
  },
  {
   "cell_type": "code",
   "execution_count": null,
   "id": "mediterranean-pontiac",
   "metadata": {
    "papermill": {
     "duration": 0.030393,
     "end_time": "2021-06-16T12:10:45.368641",
     "exception": false,
     "start_time": "2021-06-16T12:10:45.338248",
     "status": "completed"
    },
    "tags": []
   },
   "outputs": [],
   "source": []
  },
  {
   "cell_type": "code",
   "execution_count": null,
   "id": "aging-legislature",
   "metadata": {
    "papermill": {
     "duration": 0.030256,
     "end_time": "2021-06-16T12:10:45.429305",
     "exception": false,
     "start_time": "2021-06-16T12:10:45.399049",
     "status": "completed"
    },
    "tags": []
   },
   "outputs": [],
   "source": []
  }
 ],
 "metadata": {
  "kernelspec": {
   "display_name": "Python 3",
   "language": "python",
   "name": "python3"
  },
  "language_info": {
   "codemirror_mode": {
    "name": "ipython",
    "version": 3
   },
   "file_extension": ".py",
   "mimetype": "text/x-python",
   "name": "python",
   "nbconvert_exporter": "python",
   "pygments_lexer": "ipython3",
   "version": "3.6.13"
  },
  "papermill": {
   "duration": 5.796635,
   "end_time": "2021-06-16T12:10:45.866835",
   "environment_variables": {},
   "exception": null,
   "input_path": "2020-03-21-covid19exp.ipynb",
   "output_path": "2020-03-21-covid19exp.ipynb",
   "parameters": {},
   "start_time": "2021-06-16T12:10:40.070200",
   "version": "2.0.0"
  }
 },
 "nbformat": 4,
 "nbformat_minor": 5
}