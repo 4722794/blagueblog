{
 "cells": [
  {
   "cell_type": "markdown",
   "metadata": {
    "papermill": {
     "duration": 0.035431,
     "end_time": "2021-01-03T00:22:10.529628",
     "exception": false,
     "start_time": "2021-01-03T00:22:10.494197",
     "status": "completed"
    },
    "tags": []
   },
   "source": [
    "# COVID-19 Case Race\n",
    "> A race chart to see rising cases around the world\n",
    "\n",
    "- author: Hargun Oberoi\n",
    "- image: images/covid-overview.png\n",
    "- hide: false\n",
    "- badges: false"
   ]
  },
  {
   "cell_type": "code",
   "execution_count": 1,
   "metadata": {
    "execution": {
     "iopub.execute_input": "2021-01-03T00:22:10.598537Z",
     "iopub.status.busy": "2021-01-03T00:22:10.597966Z",
     "iopub.status.idle": "2021-01-03T00:22:10.919780Z",
     "shell.execute_reply": "2021-01-03T00:22:10.920211Z"
    },
    "papermill": {
     "duration": 0.364251,
     "end_time": "2021-01-03T00:22:10.920359",
     "exception": false,
     "start_time": "2021-01-03T00:22:10.556108",
     "status": "completed"
    },
    "tags": []
   },
   "outputs": [],
   "source": [
    "#hide\n",
    "import numpy as np\n",
    "import pandas as pd\n",
    "from jinja2 import Template\n",
    "from IPython.display import HTML"
   ]
  },
  {
   "cell_type": "code",
   "execution_count": 2,
   "metadata": {
    "execution": {
     "iopub.execute_input": "2021-01-03T00:22:10.980823Z",
     "iopub.status.busy": "2021-01-03T00:22:10.980217Z",
     "iopub.status.idle": "2021-01-03T00:22:10.982722Z",
     "shell.execute_reply": "2021-01-03T00:22:10.982233Z"
    },
    "papermill": {
     "duration": 0.034914,
     "end_time": "2021-01-03T00:22:10.982854",
     "exception": false,
     "start_time": "2021-01-03T00:22:10.947940",
     "status": "completed"
    },
    "tags": []
   },
   "outputs": [],
   "source": [
    "#hide\n",
    "\n",
    "# FETCH\n",
    "base_url = 'https://raw.githubusercontent.com/pratapvardhan/notebooks/master/covid19/'\n",
    "paths = {\n",
    "    'mapping': base_url + 'mapping_countries.csv',\n",
    "    'overview': base_url + 'overview.tpl'\n",
    "}"
   ]
  },
  {
   "cell_type": "code",
   "execution_count": 3,
   "metadata": {
    "execution": {
     "iopub.execute_input": "2021-01-03T00:22:11.048896Z",
     "iopub.status.busy": "2021-01-03T00:22:11.048295Z",
     "iopub.status.idle": "2021-01-03T00:22:11.051443Z",
     "shell.execute_reply": "2021-01-03T00:22:11.050874Z"
    },
    "papermill": {
     "duration": 0.041442,
     "end_time": "2021-01-03T00:22:11.051563",
     "exception": false,
     "start_time": "2021-01-03T00:22:11.010121",
     "status": "completed"
    },
    "tags": []
   },
   "outputs": [
    {
     "data": {
      "text/plain": [
       "'https://raw.githubusercontent.com/pratapvardhan/notebooks/master/covid19/mapping_countries.csv'"
      ]
     },
     "execution_count": 3,
     "metadata": {},
     "output_type": "execute_result"
    }
   ],
   "source": [
    "#hide\n",
    "paths['mapping']"
   ]
  },
  {
   "cell_type": "code",
   "execution_count": 4,
   "metadata": {
    "execution": {
     "iopub.execute_input": "2021-01-03T00:22:11.114465Z",
     "iopub.status.busy": "2021-01-03T00:22:11.113909Z",
     "iopub.status.idle": "2021-01-03T00:22:11.116002Z",
     "shell.execute_reply": "2021-01-03T00:22:11.115525Z"
    },
    "papermill": {
     "duration": 0.037251,
     "end_time": "2021-01-03T00:22:11.116119",
     "exception": false,
     "start_time": "2021-01-03T00:22:11.078868",
     "status": "completed"
    },
    "tags": []
   },
   "outputs": [],
   "source": [
    "#hide\n",
    "def get_mappings(url):\n",
    "    df = pd.read_csv(url)\n",
    "    return {\n",
    "        'df': df,\n",
    "        'replace.country': dict(df.dropna(subset=['Name']).set_index('Country')['Name']),\n",
    "        'map.continent': dict(df.set_index('Name')['Continent'])\n",
    "    }"
   ]
  },
  {
   "cell_type": "code",
   "execution_count": 5,
   "metadata": {
    "execution": {
     "iopub.execute_input": "2021-01-03T00:22:11.176813Z",
     "iopub.status.busy": "2021-01-03T00:22:11.176247Z",
     "iopub.status.idle": "2021-01-03T00:22:11.248155Z",
     "shell.execute_reply": "2021-01-03T00:22:11.246998Z"
    },
    "papermill": {
     "duration": 0.104166,
     "end_time": "2021-01-03T00:22:11.248295",
     "exception": false,
     "start_time": "2021-01-03T00:22:11.144129",
     "status": "completed"
    },
    "tags": []
   },
   "outputs": [],
   "source": [
    "#hide\n",
    "mapping = get_mappings(paths['mapping'])"
   ]
  },
  {
   "cell_type": "code",
   "execution_count": 6,
   "metadata": {
    "execution": {
     "iopub.execute_input": "2021-01-03T00:22:11.310266Z",
     "iopub.status.busy": "2021-01-03T00:22:11.309694Z",
     "iopub.status.idle": "2021-01-03T00:22:11.312186Z",
     "shell.execute_reply": "2021-01-03T00:22:11.312623Z"
    },
    "papermill": {
     "duration": 0.035671,
     "end_time": "2021-01-03T00:22:11.312746",
     "exception": false,
     "start_time": "2021-01-03T00:22:11.277075",
     "status": "completed"
    },
    "tags": []
   },
   "outputs": [],
   "source": [
    "#hide\n",
    "def get_template(path):\n",
    "    from urllib.parse import urlparse\n",
    "    if bool(urlparse(path).netloc):\n",
    "        from urllib.request import urlopen\n",
    "        return urlopen(path).read().decode('utf8')\n",
    "    return open(path).read()"
   ]
  },
  {
   "cell_type": "code",
   "execution_count": 7,
   "metadata": {
    "execution": {
     "iopub.execute_input": "2021-01-03T00:22:11.375921Z",
     "iopub.status.busy": "2021-01-03T00:22:11.375320Z",
     "iopub.status.idle": "2021-01-03T00:22:11.378051Z",
     "shell.execute_reply": "2021-01-03T00:22:11.377611Z"
    },
    "papermill": {
     "duration": 0.037088,
     "end_time": "2021-01-03T00:22:11.378171",
     "exception": false,
     "start_time": "2021-01-03T00:22:11.341083",
     "status": "completed"
    },
    "tags": []
   },
   "outputs": [],
   "source": [
    "#hide\n",
    "def get_frame(name):\n",
    "    url = (\n",
    "        'https://raw.githubusercontent.com/CSSEGISandData/COVID-19/master/csse_covid_19_data/'\n",
    "        f'csse_covid_19_time_series/time_series_covid19_{name}_global.csv')\n",
    "    df = pd.read_csv(url)\n",
    "    # rename countries\n",
    "    df['Country/Region'] = df['Country/Region'].replace(mapping['replace.country'])\n",
    "    return df"
   ]
  },
  {
   "cell_type": "code",
   "execution_count": 8,
   "metadata": {
    "execution": {
     "iopub.execute_input": "2021-01-03T00:22:11.440361Z",
     "iopub.status.busy": "2021-01-03T00:22:11.439771Z",
     "iopub.status.idle": "2021-01-03T00:22:11.442039Z",
     "shell.execute_reply": "2021-01-03T00:22:11.441543Z"
    },
    "papermill": {
     "duration": 0.036118,
     "end_time": "2021-01-03T00:22:11.442161",
     "exception": false,
     "start_time": "2021-01-03T00:22:11.406043",
     "status": "completed"
    },
    "tags": []
   },
   "outputs": [],
   "source": [
    "#hide\n",
    "def get_dates(df):\n",
    "    dt_cols = df.columns[~df.columns.isin(['Province/State', 'Country/Region', 'Lat', 'Long'])]\n",
    "    LAST_DATE_I = -1\n",
    "    # sometimes last column may be empty, then go backwards\n",
    "    for i in range(-1, -len(dt_cols), -1):\n",
    "        if not df[dt_cols[i]].fillna(0).eq(0).all():\n",
    "            LAST_DATE_I = i\n",
    "            break\n",
    "    return LAST_DATE_I, dt_cols"
   ]
  },
  {
   "cell_type": "code",
   "execution_count": 9,
   "metadata": {
    "execution": {
     "iopub.execute_input": "2021-01-03T00:22:11.503824Z",
     "iopub.status.busy": "2021-01-03T00:22:11.503231Z",
     "iopub.status.idle": "2021-01-03T00:22:11.940447Z",
     "shell.execute_reply": "2021-01-03T00:22:11.939354Z"
    },
    "papermill": {
     "duration": 0.470097,
     "end_time": "2021-01-03T00:22:11.940587",
     "exception": false,
     "start_time": "2021-01-03T00:22:11.470490",
     "status": "completed"
    },
    "tags": []
   },
   "outputs": [],
   "source": [
    "#hide\n",
    "COL_REGION = 'Country/Region'\n",
    "# Confirmed, Recovered, Deaths\n",
    "df = get_frame('confirmed')\n",
    "# dft_: timeseries, dfc_: today country agg\n",
    "dft_cases = df\n",
    "dft_deaths = get_frame('deaths')\n",
    "dft_recovered = get_frame('recovered')\n",
    "LAST_DATE_I, dt_cols = get_dates(df)"
   ]
  },
  {
   "cell_type": "code",
   "execution_count": 10,
   "metadata": {
    "execution": {
     "iopub.execute_input": "2021-01-03T00:22:12.001078Z",
     "iopub.status.busy": "2021-01-03T00:22:12.000396Z",
     "iopub.status.idle": "2021-01-03T00:22:12.002548Z",
     "shell.execute_reply": "2021-01-03T00:22:12.001926Z"
    },
    "papermill": {
     "duration": 0.03498,
     "end_time": "2021-01-03T00:22:12.002680",
     "exception": false,
     "start_time": "2021-01-03T00:22:11.967700",
     "status": "completed"
    },
    "tags": []
   },
   "outputs": [],
   "source": [
    "#hide\n",
    "LAST_DATE_I, dt_cols = get_dates(df)\n",
    "dt_today =dt_cols[LAST_DATE_I]\n",
    "# dt_5day = dt_cols[LAST_DATE_I - 5]\n",
    "dt_yday = dt_cols[LAST_DATE_I - 1]"
   ]
  },
  {
   "cell_type": "code",
   "execution_count": 11,
   "metadata": {
    "execution": {
     "iopub.execute_input": "2021-01-03T00:22:12.063913Z",
     "iopub.status.busy": "2021-01-03T00:22:12.063325Z",
     "iopub.status.idle": "2021-01-03T00:22:12.071492Z",
     "shell.execute_reply": "2021-01-03T00:22:12.071021Z"
    },
    "papermill": {
     "duration": 0.040902,
     "end_time": "2021-01-03T00:22:12.071614",
     "exception": false,
     "start_time": "2021-01-03T00:22:12.030712",
     "status": "completed"
    },
    "tags": []
   },
   "outputs": [],
   "source": [
    "#hide\n",
    "dfc_cases = dft_cases.groupby(COL_REGION)[dt_today].sum()\n",
    "dfc_deaths = dft_deaths.groupby(COL_REGION)[dt_today].sum()\n",
    "# dfp_cases = dft_cases.groupby(COL_REGION)[dt_5day].sum()\n",
    "# dfp_deaths = dft_deaths.groupby(COL_REGION)[dt_5day].sum()\n",
    "dfp_cases = dft_cases.groupby(COL_REGION)[dt_yday].sum()\n",
    "dfp_deaths = dft_deaths.groupby(COL_REGION)[dt_yday].sum()"
   ]
  },
  {
   "cell_type": "code",
   "execution_count": 12,
   "metadata": {
    "execution": {
     "iopub.execute_input": "2021-01-03T00:22:12.140298Z",
     "iopub.status.busy": "2021-01-03T00:22:12.139640Z",
     "iopub.status.idle": "2021-01-03T00:22:12.144471Z",
     "shell.execute_reply": "2021-01-03T00:22:12.143970Z"
    },
    "papermill": {
     "duration": 0.04471,
     "end_time": "2021-01-03T00:22:12.144595",
     "exception": false,
     "start_time": "2021-01-03T00:22:12.099885",
     "status": "completed"
    },
    "tags": []
   },
   "outputs": [],
   "source": [
    "#hide\n",
    "df_table = (pd.DataFrame(dict(Cases = dfc_cases, Deaths = dfc_deaths, PCases = dfp_cases, PDeaths = dfp_deaths))\n",
    "            .sort_values(by = ['Cases','Deaths'], ascending = [False, False])\n",
    "            .reset_index())"
   ]
  },
  {
   "cell_type": "code",
   "execution_count": 13,
   "metadata": {
    "execution": {
     "iopub.execute_input": "2021-01-03T00:22:12.219639Z",
     "iopub.status.busy": "2021-01-03T00:22:12.207078Z",
     "iopub.status.idle": "2021-01-03T00:22:12.226676Z",
     "shell.execute_reply": "2021-01-03T00:22:12.227180Z"
    },
    "papermill": {
     "duration": 0.055292,
     "end_time": "2021-01-03T00:22:12.227302",
     "exception": false,
     "start_time": "2021-01-03T00:22:12.172010",
     "status": "completed"
    },
    "tags": []
   },
   "outputs": [
    {
     "data": {
      "text/html": [
       "<div>\n",
       "<style scoped>\n",
       "    .dataframe tbody tr th:only-of-type {\n",
       "        vertical-align: middle;\n",
       "    }\n",
       "\n",
       "    .dataframe tbody tr th {\n",
       "        vertical-align: top;\n",
       "    }\n",
       "\n",
       "    .dataframe thead th {\n",
       "        text-align: right;\n",
       "    }\n",
       "</style>\n",
       "<table border=\"1\" class=\"dataframe\">\n",
       "  <thead>\n",
       "    <tr style=\"text-align: right;\">\n",
       "      <th></th>\n",
       "      <th>Country/Region</th>\n",
       "      <th>Cases</th>\n",
       "      <th>Deaths</th>\n",
       "      <th>PCases</th>\n",
       "      <th>PDeaths</th>\n",
       "      <th>Cases (+)</th>\n",
       "      <th>Deaths (+)</th>\n",
       "      <th>Fatality Rate</th>\n",
       "      <th>Continent</th>\n",
       "    </tr>\n",
       "  </thead>\n",
       "  <tbody>\n",
       "    <tr>\n",
       "      <th>0</th>\n",
       "      <td>US</td>\n",
       "      <td>20128693</td>\n",
       "      <td>347788</td>\n",
       "      <td>19968087</td>\n",
       "      <td>345737</td>\n",
       "      <td>160606</td>\n",
       "      <td>2051</td>\n",
       "      <td>1.73</td>\n",
       "      <td>North America</td>\n",
       "    </tr>\n",
       "    <tr>\n",
       "      <th>1</th>\n",
       "      <td>India</td>\n",
       "      <td>10286709</td>\n",
       "      <td>148994</td>\n",
       "      <td>10266674</td>\n",
       "      <td>148738</td>\n",
       "      <td>20035</td>\n",
       "      <td>256</td>\n",
       "      <td>1.45</td>\n",
       "      <td>Asia</td>\n",
       "    </tr>\n",
       "    <tr>\n",
       "      <th>2</th>\n",
       "      <td>Brazil</td>\n",
       "      <td>7700578</td>\n",
       "      <td>195411</td>\n",
       "      <td>7675973</td>\n",
       "      <td>194949</td>\n",
       "      <td>24605</td>\n",
       "      <td>462</td>\n",
       "      <td>2.54</td>\n",
       "      <td>South America</td>\n",
       "    </tr>\n",
       "    <tr>\n",
       "      <th>3</th>\n",
       "      <td>Russia</td>\n",
       "      <td>3153960</td>\n",
       "      <td>56798</td>\n",
       "      <td>3127347</td>\n",
       "      <td>56271</td>\n",
       "      <td>26613</td>\n",
       "      <td>527</td>\n",
       "      <td>1.80</td>\n",
       "      <td>Europe</td>\n",
       "    </tr>\n",
       "    <tr>\n",
       "      <th>4</th>\n",
       "      <td>France</td>\n",
       "      <td>2697014</td>\n",
       "      <td>64892</td>\n",
       "      <td>2677666</td>\n",
       "      <td>64759</td>\n",
       "      <td>19348</td>\n",
       "      <td>133</td>\n",
       "      <td>2.41</td>\n",
       "      <td>Europe</td>\n",
       "    </tr>\n",
       "  </tbody>\n",
       "</table>\n",
       "</div>"
      ],
      "text/plain": [
       "  Country/Region     Cases  Deaths    PCases  PDeaths  Cases (+)  Deaths (+)  \\\n",
       "0             US  20128693  347788  19968087   345737     160606        2051   \n",
       "1          India  10286709  148994  10266674   148738      20035         256   \n",
       "2         Brazil   7700578  195411   7675973   194949      24605         462   \n",
       "3         Russia   3153960   56798   3127347    56271      26613         527   \n",
       "4         France   2697014   64892   2677666    64759      19348         133   \n",
       "\n",
       "   Fatality Rate      Continent  \n",
       "0           1.73  North America  \n",
       "1           1.45           Asia  \n",
       "2           2.54  South America  \n",
       "3           1.80         Europe  \n",
       "4           2.41         Europe  "
      ]
     },
     "execution_count": 13,
     "metadata": {},
     "output_type": "execute_result"
    }
   ],
   "source": [
    "#hide\n",
    "for c in 'Cases, Deaths'.split(', '):\n",
    "    df_table[f'{c} (+)'] = (df_table[c] - df_table[f'P{c}']).clip(0)\n",
    "    #Clip ça veut dire, les chiffres negatif sont interdit\n",
    "df_table['Fatality Rate'] = (100* df_table['Deaths']/ df_table['Cases']).round(2)\n",
    "df_table['Continent'] = df_table['Country/Region'].map(mapping['map.continent'])\n",
    "df_table.head(5)"
   ]
  },
  {
   "cell_type": "code",
   "execution_count": 14,
   "metadata": {
    "execution": {
     "iopub.execute_input": "2021-01-03T00:22:12.289814Z",
     "iopub.status.busy": "2021-01-03T00:22:12.289222Z",
     "iopub.status.idle": "2021-01-03T00:22:12.292818Z",
     "shell.execute_reply": "2021-01-03T00:22:12.292399Z"
    },
    "papermill": {
     "duration": 0.037177,
     "end_time": "2021-01-03T00:22:12.292937",
     "exception": false,
     "start_time": "2021-01-03T00:22:12.255760",
     "status": "completed"
    },
    "tags": []
   },
   "outputs": [],
   "source": [
    "#hide\n",
    "#delete problematic countries from table\n",
    "df_table = df_table[~df_table['Country/Region'].isin(['Cape Verde', 'Cruise Ship', 'Kosovo'])]"
   ]
  },
  {
   "cell_type": "code",
   "execution_count": 15,
   "metadata": {
    "execution": {
     "iopub.execute_input": "2021-01-03T00:22:12.356381Z",
     "iopub.status.busy": "2021-01-03T00:22:12.355790Z",
     "iopub.status.idle": "2021-01-03T00:22:12.373571Z",
     "shell.execute_reply": "2021-01-03T00:22:12.373092Z"
    },
    "papermill": {
     "duration": 0.053533,
     "end_time": "2021-01-03T00:22:12.373689",
     "exception": false,
     "start_time": "2021-01-03T00:22:12.320156",
     "status": "completed"
    },
    "tags": []
   },
   "outputs": [
    {
     "data": {
      "text/html": [
       "<div>\n",
       "<style scoped>\n",
       "    .dataframe tbody tr th:only-of-type {\n",
       "        vertical-align: middle;\n",
       "    }\n",
       "\n",
       "    .dataframe tbody tr th {\n",
       "        vertical-align: top;\n",
       "    }\n",
       "\n",
       "    .dataframe thead th {\n",
       "        text-align: right;\n",
       "    }\n",
       "</style>\n",
       "<table border=\"1\" class=\"dataframe\">\n",
       "  <thead>\n",
       "    <tr style=\"text-align: right;\">\n",
       "      <th></th>\n",
       "      <th>Country/Region</th>\n",
       "      <th>Cases</th>\n",
       "      <th>Deaths</th>\n",
       "      <th>PCases</th>\n",
       "      <th>PDeaths</th>\n",
       "      <th>Cases (+)</th>\n",
       "      <th>Deaths (+)</th>\n",
       "      <th>Fatality Rate</th>\n",
       "      <th>Continent</th>\n",
       "    </tr>\n",
       "  </thead>\n",
       "  <tbody>\n",
       "    <tr>\n",
       "      <th>0</th>\n",
       "      <td>US</td>\n",
       "      <td>20128693</td>\n",
       "      <td>347788</td>\n",
       "      <td>19968087</td>\n",
       "      <td>345737</td>\n",
       "      <td>160606</td>\n",
       "      <td>2051</td>\n",
       "      <td>1.7</td>\n",
       "      <td>North America</td>\n",
       "    </tr>\n",
       "    <tr>\n",
       "      <th>1</th>\n",
       "      <td>India</td>\n",
       "      <td>10286709</td>\n",
       "      <td>148994</td>\n",
       "      <td>10266674</td>\n",
       "      <td>148738</td>\n",
       "      <td>20035</td>\n",
       "      <td>256</td>\n",
       "      <td>1.4</td>\n",
       "      <td>Asia</td>\n",
       "    </tr>\n",
       "    <tr>\n",
       "      <th>2</th>\n",
       "      <td>Brazil</td>\n",
       "      <td>7700578</td>\n",
       "      <td>195411</td>\n",
       "      <td>7675973</td>\n",
       "      <td>194949</td>\n",
       "      <td>24605</td>\n",
       "      <td>462</td>\n",
       "      <td>2.5</td>\n",
       "      <td>South America</td>\n",
       "    </tr>\n",
       "    <tr>\n",
       "      <th>3</th>\n",
       "      <td>Russia</td>\n",
       "      <td>3153960</td>\n",
       "      <td>56798</td>\n",
       "      <td>3127347</td>\n",
       "      <td>56271</td>\n",
       "      <td>26613</td>\n",
       "      <td>527</td>\n",
       "      <td>1.8</td>\n",
       "      <td>Europe</td>\n",
       "    </tr>\n",
       "    <tr>\n",
       "      <th>4</th>\n",
       "      <td>France</td>\n",
       "      <td>2697014</td>\n",
       "      <td>64892</td>\n",
       "      <td>2677666</td>\n",
       "      <td>64759</td>\n",
       "      <td>19348</td>\n",
       "      <td>133</td>\n",
       "      <td>2.4</td>\n",
       "      <td>Europe</td>\n",
       "    </tr>\n",
       "  </tbody>\n",
       "</table>\n",
       "</div>"
      ],
      "text/plain": [
       "  Country/Region     Cases  Deaths    PCases  PDeaths  Cases (+)  Deaths (+)  \\\n",
       "0             US  20128693  347788  19968087   345737     160606        2051   \n",
       "1          India  10286709  148994  10266674   148738      20035         256   \n",
       "2         Brazil   7700578  195411   7675973   194949      24605         462   \n",
       "3         Russia   3153960   56798   3127347    56271      26613         527   \n",
       "4         France   2697014   64892   2677666    64759      19348         133   \n",
       "\n",
       "   Fatality Rate      Continent  \n",
       "0            1.7  North America  \n",
       "1            1.4           Asia  \n",
       "2            2.5  South America  \n",
       "3            1.8         Europe  \n",
       "4            2.4         Europe  "
      ]
     },
     "execution_count": 15,
     "metadata": {},
     "output_type": "execute_result"
    }
   ],
   "source": [
    "#hide\n",
    "df_table = (pd.DataFrame(dict(Cases=dfc_cases, Deaths=dfc_deaths, PCases=dfp_cases, PDeaths=dfp_deaths))\n",
    "             .sort_values(by=['Cases', 'Deaths'], ascending=[False, False])\n",
    "             .reset_index())\n",
    "df_table.rename(columns={'index': 'Country/Region'}, inplace=True)\n",
    "for c in 'Cases, Deaths'.split(', '):\n",
    "    df_table[f'{c} (+)'] = (df_table[c] - df_table[f'P{c}']).clip(0)  # DATA BUG\n",
    "df_table['Fatality Rate'] = (100 * df_table['Deaths'] / df_table['Cases']).round(1)\n",
    "df_table['Continent'] = df_table['Country/Region'].map(mapping['map.continent'])\n",
    "df_table.head(5)"
   ]
  },
  {
   "cell_type": "code",
   "execution_count": 16,
   "metadata": {
    "execution": {
     "iopub.execute_input": "2021-01-03T00:22:12.436028Z",
     "iopub.status.busy": "2021-01-03T00:22:12.435447Z",
     "iopub.status.idle": "2021-01-03T00:22:12.437261Z",
     "shell.execute_reply": "2021-01-03T00:22:12.437765Z"
    },
    "papermill": {
     "duration": 0.036107,
     "end_time": "2021-01-03T00:22:12.437905",
     "exception": false,
     "start_time": "2021-01-03T00:22:12.401798",
     "status": "completed"
    },
    "tags": []
   },
   "outputs": [],
   "source": [
    "#hide\n",
    "#delete problematic countries from table\n",
    "df_table = df_table[~df_table['Country/Region'].isin(['Cape Verde', 'Cruise Ship', 'Kosovo'])]"
   ]
  },
  {
   "cell_type": "code",
   "execution_count": 17,
   "metadata": {
    "execution": {
     "iopub.execute_input": "2021-01-03T00:22:12.518171Z",
     "iopub.status.busy": "2021-01-03T00:22:12.517536Z",
     "iopub.status.idle": "2021-01-03T00:22:12.519648Z",
     "shell.execute_reply": "2021-01-03T00:22:12.520102Z"
    },
    "papermill": {
     "duration": 0.053059,
     "end_time": "2021-01-03T00:22:12.520259",
     "exception": false,
     "start_time": "2021-01-03T00:22:12.467200",
     "status": "completed"
    },
    "tags": []
   },
   "outputs": [],
   "source": [
    "#hide\n",
    "metrics = [df_table.columns[index] for index in [1,2,5,6]]\n",
    "# s_china = df_table[df_table['Country/Region'].eq('China')][metrics].sum().add_prefix('China ')\n",
    "s_us = df_table[df_table['Country/Region'].eq('US')][metrics].sum().add_prefix('US ')\n",
    "s_eu = df_table[df_table['Continent'].eq('Europe')][metrics].sum().add_prefix('EU ')\n",
    "s_ind = df_table[df_table['Country/Region'].eq('India')][metrics].sum().add_prefix('India ')\n",
    "summary = {'updated': pd.to_datetime(dt_today), 'since': pd.to_datetime(dt_yday)}\n",
    "summary = {'updated': pd.to_datetime(dt_today), 'since': pd.to_datetime(dt_yday)}\n",
    "summary = {**summary, **df_table[metrics].sum(), **s_ind, **s_us, **s_eu}"
   ]
  },
  {
   "cell_type": "code",
   "execution_count": 18,
   "metadata": {
    "execution": {
     "iopub.execute_input": "2021-01-03T00:22:12.587250Z",
     "iopub.status.busy": "2021-01-03T00:22:12.586708Z",
     "iopub.status.idle": "2021-01-03T00:22:12.595319Z",
     "shell.execute_reply": "2021-01-03T00:22:12.594832Z"
    },
    "papermill": {
     "duration": 0.045096,
     "end_time": "2021-01-03T00:22:12.595452",
     "exception": false,
     "start_time": "2021-01-03T00:22:12.550356",
     "status": "completed"
    },
    "tags": []
   },
   "outputs": [],
   "source": [
    "#hide\n",
    "dft_ct_new_cases = dft_cases.groupby(COL_REGION)[dt_cols].sum().diff(axis=1).fillna(0).astype(int)"
   ]
  },
  {
   "cell_type": "code",
   "execution_count": 19,
   "metadata": {
    "execution": {
     "iopub.execute_input": "2021-01-03T00:22:12.658561Z",
     "iopub.status.busy": "2021-01-03T00:22:12.657973Z",
     "iopub.status.idle": "2021-01-03T00:22:12.660140Z",
     "shell.execute_reply": "2021-01-03T00:22:12.660591Z"
    },
    "papermill": {
     "duration": 0.037559,
     "end_time": "2021-01-03T00:22:12.660739",
     "exception": false,
     "start_time": "2021-01-03T00:22:12.623180",
     "status": "completed"
    },
    "tags": []
   },
   "outputs": [],
   "source": [
    "#hide\n",
    "everydaycases = dft_ct_new_cases.cumsum(axis=1)"
   ]
  },
  {
   "cell_type": "code",
   "execution_count": 20,
   "metadata": {
    "execution": {
     "iopub.execute_input": "2021-01-03T00:22:12.723353Z",
     "iopub.status.busy": "2021-01-03T00:22:12.722846Z",
     "iopub.status.idle": "2021-01-03T00:22:13.688100Z",
     "shell.execute_reply": "2021-01-03T00:22:13.687212Z"
    },
    "papermill": {
     "duration": 0.999686,
     "end_time": "2021-01-03T00:22:13.688328",
     "exception": false,
     "start_time": "2021-01-03T00:22:12.688642",
     "status": "completed"
    },
    "tags": []
   },
   "outputs": [],
   "source": [
    "#hide\n",
    "import pandas as pd\n",
    "import matplotlib.pyplot as plt\n",
    "import matplotlib.ticker as ticker\n",
    "import matplotlib.animation as animation\n",
    "from IPython.display import HTML"
   ]
  },
  {
   "cell_type": "code",
   "execution_count": 21,
   "metadata": {
    "execution": {
     "iopub.execute_input": "2021-01-03T00:22:13.753628Z",
     "iopub.status.busy": "2021-01-03T00:22:13.753018Z",
     "iopub.status.idle": "2021-01-03T00:22:13.757745Z",
     "shell.execute_reply": "2021-01-03T00:22:13.757277Z"
    },
    "papermill": {
     "duration": 0.039452,
     "end_time": "2021-01-03T00:22:13.757864",
     "exception": false,
     "start_time": "2021-01-03T00:22:13.718412",
     "status": "completed"
    },
    "tags": []
   },
   "outputs": [],
   "source": [
    "#hide\n",
    "t = everydaycases.stack()"
   ]
  },
  {
   "cell_type": "code",
   "execution_count": 22,
   "metadata": {
    "execution": {
     "iopub.execute_input": "2021-01-03T00:22:13.821650Z",
     "iopub.status.busy": "2021-01-03T00:22:13.821099Z",
     "iopub.status.idle": "2021-01-03T00:22:13.827532Z",
     "shell.execute_reply": "2021-01-03T00:22:13.827943Z"
    },
    "papermill": {
     "duration": 0.041003,
     "end_time": "2021-01-03T00:22:13.828104",
     "exception": false,
     "start_time": "2021-01-03T00:22:13.787101",
     "status": "completed"
    },
    "tags": []
   },
   "outputs": [],
   "source": [
    "#hide\n",
    "g = t.reset_index(['Country/Region'])"
   ]
  },
  {
   "cell_type": "code",
   "execution_count": 23,
   "metadata": {
    "execution": {
     "iopub.execute_input": "2021-01-03T00:22:13.892782Z",
     "iopub.status.busy": "2021-01-03T00:22:13.892186Z",
     "iopub.status.idle": "2021-01-03T00:22:13.894652Z",
     "shell.execute_reply": "2021-01-03T00:22:13.894143Z"
    },
    "papermill": {
     "duration": 0.037749,
     "end_time": "2021-01-03T00:22:13.894776",
     "exception": false,
     "start_time": "2021-01-03T00:22:13.857027",
     "status": "completed"
    },
    "tags": []
   },
   "outputs": [],
   "source": [
    "#hide\n",
    "g.index.name = 'date'"
   ]
  },
  {
   "cell_type": "code",
   "execution_count": 24,
   "metadata": {
    "execution": {
     "iopub.execute_input": "2021-01-03T00:22:13.958037Z",
     "iopub.status.busy": "2021-01-03T00:22:13.957448Z",
     "iopub.status.idle": "2021-01-03T00:22:13.959840Z",
     "shell.execute_reply": "2021-01-03T00:22:13.960412Z"
    },
    "papermill": {
     "duration": 0.036445,
     "end_time": "2021-01-03T00:22:13.960556",
     "exception": false,
     "start_time": "2021-01-03T00:22:13.924111",
     "status": "completed"
    },
    "tags": []
   },
   "outputs": [],
   "source": [
    "# #hide\n",
    "# g = g.reset_index(['date'])"
   ]
  },
  {
   "cell_type": "code",
   "execution_count": 25,
   "metadata": {
    "execution": {
     "iopub.execute_input": "2021-01-03T00:22:14.023639Z",
     "iopub.status.busy": "2021-01-03T00:22:14.023091Z",
     "iopub.status.idle": "2021-01-03T00:22:14.025131Z",
     "shell.execute_reply": "2021-01-03T00:22:14.025642Z"
    },
    "papermill": {
     "duration": 0.035153,
     "end_time": "2021-01-03T00:22:14.025777",
     "exception": false,
     "start_time": "2021-01-03T00:22:13.990624",
     "status": "completed"
    },
    "tags": []
   },
   "outputs": [],
   "source": [
    "#hide\n",
    "# g.head()"
   ]
  },
  {
   "cell_type": "code",
   "execution_count": 26,
   "metadata": {
    "execution": {
     "iopub.execute_input": "2021-01-03T00:22:14.088117Z",
     "iopub.status.busy": "2021-01-03T00:22:14.087569Z",
     "iopub.status.idle": "2021-01-03T00:22:14.089723Z",
     "shell.execute_reply": "2021-01-03T00:22:14.089260Z"
    },
    "papermill": {
     "duration": 0.034581,
     "end_time": "2021-01-03T00:22:14.089838",
     "exception": false,
     "start_time": "2021-01-03T00:22:14.055257",
     "status": "completed"
    },
    "tags": []
   },
   "outputs": [],
   "source": [
    "#hide\n",
    "# g.columns = ['date','country','cases']"
   ]
  },
  {
   "cell_type": "code",
   "execution_count": 27,
   "metadata": {
    "execution": {
     "iopub.execute_input": "2021-01-03T00:22:14.150053Z",
     "iopub.status.busy": "2021-01-03T00:22:14.149563Z",
     "iopub.status.idle": "2021-01-03T00:22:14.151745Z",
     "shell.execute_reply": "2021-01-03T00:22:14.152140Z"
    },
    "papermill": {
     "duration": 0.033892,
     "end_time": "2021-01-03T00:22:14.152266",
     "exception": false,
     "start_time": "2021-01-03T00:22:14.118374",
     "status": "completed"
    },
    "tags": []
   },
   "outputs": [],
   "source": [
    "#hide\n",
    "# g['continent'] = g.country"
   ]
  },
  {
   "cell_type": "code",
   "execution_count": 28,
   "metadata": {
    "execution": {
     "iopub.execute_input": "2021-01-03T00:22:14.215135Z",
     "iopub.status.busy": "2021-01-03T00:22:14.214549Z",
     "iopub.status.idle": "2021-01-03T00:22:14.216611Z",
     "shell.execute_reply": "2021-01-03T00:22:14.217041Z"
    },
    "papermill": {
     "duration": 0.035338,
     "end_time": "2021-01-03T00:22:14.217182",
     "exception": false,
     "start_time": "2021-01-03T00:22:14.181844",
     "status": "completed"
    },
    "tags": []
   },
   "outputs": [],
   "source": [
    "#hide\n",
    "# cols = list(g.columns.values)"
   ]
  },
  {
   "cell_type": "code",
   "execution_count": 29,
   "metadata": {
    "execution": {
     "iopub.execute_input": "2021-01-03T00:22:14.280263Z",
     "iopub.status.busy": "2021-01-03T00:22:14.279664Z",
     "iopub.status.idle": "2021-01-03T00:22:14.281721Z",
     "shell.execute_reply": "2021-01-03T00:22:14.281309Z"
    },
    "papermill": {
     "duration": 0.03547,
     "end_time": "2021-01-03T00:22:14.281845",
     "exception": false,
     "start_time": "2021-01-03T00:22:14.246375",
     "status": "completed"
    },
    "tags": []
   },
   "outputs": [],
   "source": [
    "#hide\n",
    "# cols.insert(0, cols.pop())"
   ]
  },
  {
   "cell_type": "code",
   "execution_count": 30,
   "metadata": {
    "execution": {
     "iopub.execute_input": "2021-01-03T00:22:14.344605Z",
     "iopub.status.busy": "2021-01-03T00:22:14.344019Z",
     "iopub.status.idle": "2021-01-03T00:22:14.345835Z",
     "shell.execute_reply": "2021-01-03T00:22:14.346302Z"
    },
    "papermill": {
     "duration": 0.035554,
     "end_time": "2021-01-03T00:22:14.346456",
     "exception": false,
     "start_time": "2021-01-03T00:22:14.310902",
     "status": "completed"
    },
    "tags": []
   },
   "outputs": [],
   "source": [
    "#hide\n",
    "# g = g[cols]"
   ]
  },
  {
   "cell_type": "code",
   "execution_count": 31,
   "metadata": {
    "execution": {
     "iopub.execute_input": "2021-01-03T00:22:14.409620Z",
     "iopub.status.busy": "2021-01-03T00:22:14.409028Z",
     "iopub.status.idle": "2021-01-03T00:22:14.411332Z",
     "shell.execute_reply": "2021-01-03T00:22:14.410869Z"
    },
    "papermill": {
     "duration": 0.035637,
     "end_time": "2021-01-03T00:22:14.411446",
     "exception": false,
     "start_time": "2021-01-03T00:22:14.375809",
     "status": "completed"
    },
    "tags": []
   },
   "outputs": [],
   "source": [
    "#hide\n",
    "# g['continent'] = g['continent'].map(mapping['map.continent'])"
   ]
  },
  {
   "cell_type": "code",
   "execution_count": 32,
   "metadata": {
    "execution": {
     "iopub.execute_input": "2021-01-03T00:22:14.472520Z",
     "iopub.status.busy": "2021-01-03T00:22:14.471966Z",
     "iopub.status.idle": "2021-01-03T00:22:14.474027Z",
     "shell.execute_reply": "2021-01-03T00:22:14.473562Z"
    },
    "papermill": {
     "duration": 0.03472,
     "end_time": "2021-01-03T00:22:14.474134",
     "exception": false,
     "start_time": "2021-01-03T00:22:14.439414",
     "status": "completed"
    },
    "tags": []
   },
   "outputs": [],
   "source": [
    "#hide\n",
    "# g.head()"
   ]
  },
  {
   "cell_type": "code",
   "execution_count": 33,
   "metadata": {
    "execution": {
     "iopub.execute_input": "2021-01-03T00:22:14.532656Z",
     "iopub.status.busy": "2021-01-03T00:22:14.532064Z",
     "iopub.status.idle": "2021-01-03T00:22:14.533876Z",
     "shell.execute_reply": "2021-01-03T00:22:14.534285Z"
    },
    "papermill": {
     "duration": 0.033899,
     "end_time": "2021-01-03T00:22:14.534423",
     "exception": false,
     "start_time": "2021-01-03T00:22:14.500524",
     "status": "completed"
    },
    "tags": []
   },
   "outputs": [],
   "source": [
    "# hide\n",
    "# g['date'] = g['date'].astype('datetime64[ns]')"
   ]
  },
  {
   "cell_type": "code",
   "execution_count": 34,
   "metadata": {
    "execution": {
     "iopub.execute_input": "2021-01-03T00:22:14.595211Z",
     "iopub.status.busy": "2021-01-03T00:22:14.594626Z",
     "iopub.status.idle": "2021-01-03T00:22:14.596928Z",
     "shell.execute_reply": "2021-01-03T00:22:14.597479Z"
    },
    "papermill": {
     "duration": 0.03536,
     "end_time": "2021-01-03T00:22:14.597611",
     "exception": false,
     "start_time": "2021-01-03T00:22:14.562251",
     "status": "completed"
    },
    "tags": []
   },
   "outputs": [],
   "source": [
    "#hide\n",
    "# g['date'] = g.date.dt.dayofyear"
   ]
  },
  {
   "cell_type": "code",
   "execution_count": 35,
   "metadata": {
    "execution": {
     "iopub.execute_input": "2021-01-03T00:22:14.657889Z",
     "iopub.status.busy": "2021-01-03T00:22:14.657288Z",
     "iopub.status.idle": "2021-01-03T00:22:14.659708Z",
     "shell.execute_reply": "2021-01-03T00:22:14.660159Z"
    },
    "papermill": {
     "duration": 0.036222,
     "end_time": "2021-01-03T00:22:14.660292",
     "exception": false,
     "start_time": "2021-01-03T00:22:14.624070",
     "status": "completed"
    },
    "tags": []
   },
   "outputs": [],
   "source": [
    "#hide\n",
    "# g = g.rename(columns= {'continent':'group','country':'name','cases':'value'})"
   ]
  },
  {
   "cell_type": "code",
   "execution_count": 36,
   "metadata": {
    "execution": {
     "iopub.execute_input": "2021-01-03T00:22:14.723267Z",
     "iopub.status.busy": "2021-01-03T00:22:14.722675Z",
     "iopub.status.idle": "2021-01-03T00:22:14.724548Z",
     "shell.execute_reply": "2021-01-03T00:22:14.725009Z"
    },
    "papermill": {
     "duration": 0.034638,
     "end_time": "2021-01-03T00:22:14.725147",
     "exception": false,
     "start_time": "2021-01-03T00:22:14.690509",
     "status": "completed"
    },
    "tags": []
   },
   "outputs": [],
   "source": [
    "#hide\n",
    "# cols = ['name','group','day','value']"
   ]
  },
  {
   "cell_type": "code",
   "execution_count": 37,
   "metadata": {
    "execution": {
     "iopub.execute_input": "2021-01-03T00:22:14.787240Z",
     "iopub.status.busy": "2021-01-03T00:22:14.786688Z",
     "iopub.status.idle": "2021-01-03T00:22:14.789028Z",
     "shell.execute_reply": "2021-01-03T00:22:14.789465Z"
    },
    "papermill": {
     "duration": 0.034946,
     "end_time": "2021-01-03T00:22:14.789602",
     "exception": false,
     "start_time": "2021-01-03T00:22:14.754656",
     "status": "completed"
    },
    "tags": []
   },
   "outputs": [],
   "source": [
    "#hide\n",
    "# g.rename(columns= {'date':'day'},inplace = True)"
   ]
  },
  {
   "cell_type": "code",
   "execution_count": 38,
   "metadata": {
    "execution": {
     "iopub.execute_input": "2021-01-03T00:22:14.852156Z",
     "iopub.status.busy": "2021-01-03T00:22:14.851600Z",
     "iopub.status.idle": "2021-01-03T00:22:14.854185Z",
     "shell.execute_reply": "2021-01-03T00:22:14.854757Z"
    },
    "papermill": {
     "duration": 0.036322,
     "end_time": "2021-01-03T00:22:14.854899",
     "exception": false,
     "start_time": "2021-01-03T00:22:14.818577",
     "status": "completed"
    },
    "tags": []
   },
   "outputs": [],
   "source": [
    "#hide\n",
    "# g = g[cols]"
   ]
  },
  {
   "cell_type": "code",
   "execution_count": 39,
   "metadata": {
    "execution": {
     "iopub.execute_input": "2021-01-03T00:22:14.919396Z",
     "iopub.status.busy": "2021-01-03T00:22:14.918575Z",
     "iopub.status.idle": "2021-01-03T00:22:14.920243Z",
     "shell.execute_reply": "2021-01-03T00:22:14.920872Z"
    },
    "papermill": {
     "duration": 0.035839,
     "end_time": "2021-01-03T00:22:14.921088",
     "exception": false,
     "start_time": "2021-01-03T00:22:14.885249",
     "status": "completed"
    },
    "tags": []
   },
   "outputs": [],
   "source": [
    "# #hide\n",
    "# g = g[g.group.notna()]"
   ]
  },
  {
   "cell_type": "code",
   "execution_count": 40,
   "metadata": {
    "execution": {
     "iopub.execute_input": "2021-01-03T00:22:14.985264Z",
     "iopub.status.busy": "2021-01-03T00:22:14.984626Z",
     "iopub.status.idle": "2021-01-03T00:22:14.987115Z",
     "shell.execute_reply": "2021-01-03T00:22:14.987615Z"
    },
    "papermill": {
     "duration": 0.035878,
     "end_time": "2021-01-03T00:22:14.987753",
     "exception": false,
     "start_time": "2021-01-03T00:22:14.951875",
     "status": "completed"
    },
    "tags": []
   },
   "outputs": [],
   "source": [
    "# #hide\n",
    "# colors = dict(zip(\n",
    "#     [\"Oceania\", \"Europe\", \"Asia\", \"South America\", \"Middle East\", \"North America\", \"Africa\"],\n",
    "#     [\"#adb0ff\", \"#ffb3ff\", \"#90d595\", \"#e48381\", \"#aafbff\", \"#f7bb5f\", \"#eafb50\"]\n",
    "# ))\n",
    "# group_lk = g.set_index('name')['group'].to_dict()"
   ]
  },
  {
   "cell_type": "code",
   "execution_count": null,
   "metadata": {
    "papermill": {
     "duration": 0.027341,
     "end_time": "2021-01-03T00:22:15.043567",
     "exception": false,
     "start_time": "2021-01-03T00:22:15.016226",
     "status": "completed"
    },
    "tags": []
   },
   "outputs": [],
   "source": []
  },
  {
   "cell_type": "code",
   "execution_count": 41,
   "metadata": {
    "execution": {
     "iopub.execute_input": "2021-01-03T00:22:15.105529Z",
     "iopub.status.busy": "2021-01-03T00:22:15.104852Z",
     "iopub.status.idle": "2021-01-03T00:22:15.107024Z",
     "shell.execute_reply": "2021-01-03T00:22:15.107479Z"
    },
    "papermill": {
     "duration": 0.035268,
     "end_time": "2021-01-03T00:22:15.107628",
     "exception": false,
     "start_time": "2021-01-03T00:22:15.072360",
     "status": "completed"
    },
    "tags": []
   },
   "outputs": [],
   "source": [
    "# #hide\n",
    "# fig, ax = plt.subplots(figsize=(15, 8))\n",
    "\n",
    "# def draw_barchart(current_day):\n",
    "#     dff = g[g['day'].eq(current_day)].sort_values(by='value', ascending=True).tail(10)\n",
    "#     ax.clear()\n",
    "#     ax.barh(dff['name'], dff['value'], color=[colors[group_lk[x]] for x in dff['name']])\n",
    "#     dx = dff['value'].max() / 200\n",
    "    \n",
    "#     for i, (value, name) in enumerate(zip(dff['value'], dff['name'])):\n",
    "#         ax.text(value-dx, i,     name,           size=14, weight=600, ha='right', va='bottom')\n",
    "#         ax.text(value-dx, i-.25, group_lk[name], size=10, color='#444444', ha='right', va='baseline')\n",
    "#         ax.text(value+dx, i,     f'{value:,.0f}',  size=14, ha='left',  va='center')\n",
    "#     ax.text(1, 0.4, current_day, transform=ax.transAxes, color='#777777', size=46, ha='right', weight=800)\n",
    "#     ax.text(0, 1.06, 'Population (thousands)', transform=ax.transAxes, size=12, color='#777777')\n",
    "#     ax.xaxis.set_major_formatter(ticker.StrMethodFormatter('{x:,.0f}'))\n",
    "#     ax.xaxis.set_ticks_position('top')\n",
    "#     ax.tick_params(axis='x', colors='#777777', labelsize=12)\n",
    "#     ax.set_yticks([])\n",
    "#     ax.margins(0, 0.01)\n",
    "#     ax.grid(which='major', axis='x', linestyle='-')\n",
    "#     ax.set_axisbelow(True)\n",
    "    \n",
    "#     ax.text(0, 1.15, 'Coronavirus',\n",
    "#             transform=ax.transAxes, size=24, weight=600, ha='left', va='top')\n",
    "# #     ax.text(1, 0, 'by @pratapvardhan; credit @jburnmurdoch', transform=ax.transAxes, color='#777777', ha='right',\n",
    "# #             bbox=dict(facecolor='white', alpha=0.8, edgecolor='white'))\n",
    "#     plt.box(False)"
   ]
  },
  {
   "cell_type": "code",
   "execution_count": 42,
   "metadata": {
    "execution": {
     "iopub.execute_input": "2021-01-03T00:22:15.167562Z",
     "iopub.status.busy": "2021-01-03T00:22:15.167074Z",
     "iopub.status.idle": "2021-01-03T00:22:15.169378Z",
     "shell.execute_reply": "2021-01-03T00:22:15.169876Z"
    },
    "papermill": {
     "duration": 0.034949,
     "end_time": "2021-01-03T00:22:15.170009",
     "exception": false,
     "start_time": "2021-01-03T00:22:15.135060",
     "status": "completed"
    },
    "tags": []
   },
   "outputs": [],
   "source": [
    "# #hide_input\n",
    "# fig, ax = plt.subplots(figsize=(15, 8))\n",
    "# animator = animation.FuncAnimation(fig, draw_barchart, frames=range(g.day.values.min(), g.day.values.max()))\n",
    "# HTML(animator.to_jshtml())\n",
    "# # or use animator.to_html5_video() or animator.save() "
   ]
  },
  {
   "cell_type": "code",
   "execution_count": null,
   "metadata": {
    "papermill": {
     "duration": 0.02876,
     "end_time": "2021-01-03T00:22:15.228387",
     "exception": false,
     "start_time": "2021-01-03T00:22:15.199627",
     "status": "completed"
    },
    "tags": []
   },
   "outputs": [],
   "source": []
  },
  {
   "cell_type": "code",
   "execution_count": null,
   "metadata": {
    "papermill": {
     "duration": 0.029072,
     "end_time": "2021-01-03T00:22:15.285511",
     "exception": false,
     "start_time": "2021-01-03T00:22:15.256439",
     "status": "completed"
    },
    "tags": []
   },
   "outputs": [],
   "source": []
  },
  {
   "cell_type": "code",
   "execution_count": null,
   "metadata": {
    "papermill": {
     "duration": 0.029375,
     "end_time": "2021-01-03T00:22:15.344111",
     "exception": false,
     "start_time": "2021-01-03T00:22:15.314736",
     "status": "completed"
    },
    "tags": []
   },
   "outputs": [],
   "source": []
  }
 ],
 "metadata": {
  "kernelspec": {
   "display_name": "Python 3",
   "language": "python",
   "name": "python3"
  },
  "language_info": {
   "codemirror_mode": {
    "name": "ipython",
    "version": 3
   },
   "file_extension": ".py",
   "mimetype": "text/x-python",
   "name": "python",
   "nbconvert_exporter": "python",
   "pygments_lexer": "ipython3",
   "version": "3.6.12"
  },
  "papermill": {
   "duration": 6.264594,
   "end_time": "2021-01-03T00:22:15.682384",
   "environment_variables": {},
   "exception": null,
   "input_path": "2020-03-21-covid19exp.ipynb",
   "output_path": "2020-03-21-covid19exp.ipynb",
   "parameters": {},
   "start_time": "2021-01-03T00:22:09.417790",
   "version": "2.0.0"
  }
 },
 "nbformat": 4,
 "nbformat_minor": 4
}