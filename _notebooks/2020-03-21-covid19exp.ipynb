{
 "cells": [
  {
   "cell_type": "markdown",
   "id": "muslim-click",
   "metadata": {
    "papermill": {
     "duration": 0.045848,
     "end_time": "2022-05-31T00:41:19.542196",
     "exception": false,
     "start_time": "2022-05-31T00:41:19.496348",
     "status": "completed"
    },
    "tags": []
   },
   "source": [
    "# COVID-19 Case Race\n",
    "> A race chart to see rising cases around the world\n",
    "\n",
    "- author: Hargun Oberoi\n",
    "- image: images/covid-overview.png\n",
    "- hide: false\n",
    "- badges: false"
   ]
  },
  {
   "cell_type": "code",
   "execution_count": 1,
   "id": "proof-material",
   "metadata": {
    "execution": {
     "iopub.execute_input": "2022-05-31T00:41:19.628188Z",
     "iopub.status.busy": "2022-05-31T00:41:19.624265Z",
     "iopub.status.idle": "2022-05-31T00:41:20.050992Z",
     "shell.execute_reply": "2022-05-31T00:41:20.050351Z"
    },
    "papermill": {
     "duration": 0.47048,
     "end_time": "2022-05-31T00:41:20.051158",
     "exception": false,
     "start_time": "2022-05-31T00:41:19.580678",
     "status": "completed"
    },
    "tags": []
   },
   "outputs": [],
   "source": [
    "#hide\n",
    "import numpy as np\n",
    "import pandas as pd\n",
    "from jinja2 import Template\n",
    "from IPython.display import HTML"
   ]
  },
  {
   "cell_type": "code",
   "execution_count": 2,
   "id": "developed-terminology",
   "metadata": {
    "execution": {
     "iopub.execute_input": "2022-05-31T00:41:20.137685Z",
     "iopub.status.busy": "2022-05-31T00:41:20.136954Z",
     "iopub.status.idle": "2022-05-31T00:41:20.141415Z",
     "shell.execute_reply": "2022-05-31T00:41:20.141928Z"
    },
    "papermill": {
     "duration": 0.048103,
     "end_time": "2022-05-31T00:41:20.142079",
     "exception": false,
     "start_time": "2022-05-31T00:41:20.093976",
     "status": "completed"
    },
    "tags": []
   },
   "outputs": [],
   "source": [
    "#hide\n",
    "\n",
    "# FETCH\n",
    "base_url = 'https://raw.githubusercontent.com/pratapvardhan/notebooks/master/covid19/'\n",
    "paths = {\n",
    "    'mapping': base_url + 'mapping_countries.csv',\n",
    "    'overview': base_url + 'overview.tpl'\n",
    "}"
   ]
  },
  {
   "cell_type": "code",
   "execution_count": 3,
   "id": "dynamic-saver",
   "metadata": {
    "execution": {
     "iopub.execute_input": "2022-05-31T00:41:20.226387Z",
     "iopub.status.busy": "2022-05-31T00:41:20.225698Z",
     "iopub.status.idle": "2022-05-31T00:41:20.229865Z",
     "shell.execute_reply": "2022-05-31T00:41:20.229294Z"
    },
    "papermill": {
     "duration": 0.051204,
     "end_time": "2022-05-31T00:41:20.229991",
     "exception": false,
     "start_time": "2022-05-31T00:41:20.178787",
     "status": "completed"
    },
    "tags": []
   },
   "outputs": [
    {
     "data": {
      "text/plain": [
       "'https://raw.githubusercontent.com/pratapvardhan/notebooks/master/covid19/mapping_countries.csv'"
      ]
     },
     "execution_count": 3,
     "metadata": {},
     "output_type": "execute_result"
    }
   ],
   "source": [
    "#hide\n",
    "paths['mapping']"
   ]
  },
  {
   "cell_type": "code",
   "execution_count": 4,
   "id": "urban-software",
   "metadata": {
    "execution": {
     "iopub.execute_input": "2022-05-31T00:41:20.320295Z",
     "iopub.status.busy": "2022-05-31T00:41:20.319543Z",
     "iopub.status.idle": "2022-05-31T00:41:20.323148Z",
     "shell.execute_reply": "2022-05-31T00:41:20.322454Z"
    },
    "papermill": {
     "duration": 0.054033,
     "end_time": "2022-05-31T00:41:20.323287",
     "exception": false,
     "start_time": "2022-05-31T00:41:20.269254",
     "status": "completed"
    },
    "tags": []
   },
   "outputs": [],
   "source": [
    "#hide\n",
    "def get_mappings(url):\n",
    "    df = pd.read_csv(url)\n",
    "    return {\n",
    "        'df': df,\n",
    "        'replace.country': dict(df.dropna(subset=['Name']).set_index('Country')['Name']),\n",
    "        'map.continent': dict(df.set_index('Name')['Continent'])\n",
    "    }"
   ]
  },
  {
   "cell_type": "code",
   "execution_count": 5,
   "id": "intimate-machinery",
   "metadata": {
    "execution": {
     "iopub.execute_input": "2022-05-31T00:41:20.402116Z",
     "iopub.status.busy": "2022-05-31T00:41:20.401404Z",
     "iopub.status.idle": "2022-05-31T00:41:20.436878Z",
     "shell.execute_reply": "2022-05-31T00:41:20.436089Z"
    },
    "papermill": {
     "duration": 0.077078,
     "end_time": "2022-05-31T00:41:20.437043",
     "exception": false,
     "start_time": "2022-05-31T00:41:20.359965",
     "status": "completed"
    },
    "tags": []
   },
   "outputs": [],
   "source": [
    "#hide\n",
    "mapping = get_mappings(paths['mapping'])"
   ]
  },
  {
   "cell_type": "code",
   "execution_count": 6,
   "id": "certified-tactics",
   "metadata": {
    "execution": {
     "iopub.execute_input": "2022-05-31T00:41:20.520227Z",
     "iopub.status.busy": "2022-05-31T00:41:20.518709Z",
     "iopub.status.idle": "2022-05-31T00:41:20.521029Z",
     "shell.execute_reply": "2022-05-31T00:41:20.521562Z"
    },
    "papermill": {
     "duration": 0.047713,
     "end_time": "2022-05-31T00:41:20.521709",
     "exception": false,
     "start_time": "2022-05-31T00:41:20.473996",
     "status": "completed"
    },
    "tags": []
   },
   "outputs": [],
   "source": [
    "#hide\n",
    "def get_template(path):\n",
    "    from urllib.parse import urlparse\n",
    "    if bool(urlparse(path).netloc):\n",
    "        from urllib.request import urlopen\n",
    "        return urlopen(path).read().decode('utf8')\n",
    "    return open(path).read()"
   ]
  },
  {
   "cell_type": "code",
   "execution_count": 7,
   "id": "realistic-blast",
   "metadata": {
    "execution": {
     "iopub.execute_input": "2022-05-31T00:41:20.604851Z",
     "iopub.status.busy": "2022-05-31T00:41:20.604112Z",
     "iopub.status.idle": "2022-05-31T00:41:20.606827Z",
     "shell.execute_reply": "2022-05-31T00:41:20.606132Z"
    },
    "papermill": {
     "duration": 0.044876,
     "end_time": "2022-05-31T00:41:20.606956",
     "exception": false,
     "start_time": "2022-05-31T00:41:20.562080",
     "status": "completed"
    },
    "tags": []
   },
   "outputs": [],
   "source": [
    "#hide\n",
    "def get_frame(name):\n",
    "    url = (\n",
    "        'https://raw.githubusercontent.com/CSSEGISandData/COVID-19/master/csse_covid_19_data/'\n",
    "        f'csse_covid_19_time_series/time_series_covid19_{name}_global.csv')\n",
    "    df = pd.read_csv(url)\n",
    "    # rename countries\n",
    "    df['Country/Region'] = df['Country/Region'].replace(mapping['replace.country'])\n",
    "    return df"
   ]
  },
  {
   "cell_type": "code",
   "execution_count": 8,
   "id": "affiliated-characterization",
   "metadata": {
    "execution": {
     "iopub.execute_input": "2022-05-31T00:41:20.689147Z",
     "iopub.status.busy": "2022-05-31T00:41:20.688439Z",
     "iopub.status.idle": "2022-05-31T00:41:20.692887Z",
     "shell.execute_reply": "2022-05-31T00:41:20.692275Z"
    },
    "papermill": {
     "duration": 0.047759,
     "end_time": "2022-05-31T00:41:20.693017",
     "exception": false,
     "start_time": "2022-05-31T00:41:20.645258",
     "status": "completed"
    },
    "tags": []
   },
   "outputs": [],
   "source": [
    "#hide\n",
    "def get_dates(df):\n",
    "    dt_cols = df.columns[~df.columns.isin(['Province/State', 'Country/Region', 'Lat', 'Long'])]\n",
    "    LAST_DATE_I = -1\n",
    "    # sometimes last column may be empty, then go backwards\n",
    "    for i in range(-1, -len(dt_cols), -1):\n",
    "        if not df[dt_cols[i]].fillna(0).eq(0).all():\n",
    "            LAST_DATE_I = i\n",
    "            break\n",
    "    return LAST_DATE_I, dt_cols"
   ]
  },
  {
   "cell_type": "code",
   "execution_count": 9,
   "id": "recent-optimization",
   "metadata": {
    "execution": {
     "iopub.execute_input": "2022-05-31T00:41:20.773869Z",
     "iopub.status.busy": "2022-05-31T00:41:20.773159Z",
     "iopub.status.idle": "2022-05-31T00:41:21.222373Z",
     "shell.execute_reply": "2022-05-31T00:41:21.221734Z"
    },
    "papermill": {
     "duration": 0.493745,
     "end_time": "2022-05-31T00:41:21.222514",
     "exception": false,
     "start_time": "2022-05-31T00:41:20.728769",
     "status": "completed"
    },
    "tags": []
   },
   "outputs": [],
   "source": [
    "#hide\n",
    "COL_REGION = 'Country/Region'\n",
    "# Confirmed, Recovered, Deaths\n",
    "df = get_frame('confirmed')\n",
    "# dft_: timeseries, dfc_: today country agg\n",
    "dft_cases = df\n",
    "dft_deaths = get_frame('deaths')\n",
    "dft_recovered = get_frame('recovered')\n",
    "LAST_DATE_I, dt_cols = get_dates(df)"
   ]
  },
  {
   "cell_type": "code",
   "execution_count": 10,
   "id": "absolute-copper",
   "metadata": {
    "execution": {
     "iopub.execute_input": "2022-05-31T00:41:21.307156Z",
     "iopub.status.busy": "2022-05-31T00:41:21.306447Z",
     "iopub.status.idle": "2022-05-31T00:41:21.311669Z",
     "shell.execute_reply": "2022-05-31T00:41:21.311051Z"
    },
    "papermill": {
     "duration": 0.049043,
     "end_time": "2022-05-31T00:41:21.311805",
     "exception": false,
     "start_time": "2022-05-31T00:41:21.262762",
     "status": "completed"
    },
    "tags": []
   },
   "outputs": [],
   "source": [
    "#hide\n",
    "LAST_DATE_I, dt_cols = get_dates(df)\n",
    "dt_today =dt_cols[LAST_DATE_I]\n",
    "# dt_5day = dt_cols[LAST_DATE_I - 5]\n",
    "dt_yday = dt_cols[LAST_DATE_I - 1]"
   ]
  },
  {
   "cell_type": "code",
   "execution_count": 11,
   "id": "restricted-sheriff",
   "metadata": {
    "execution": {
     "iopub.execute_input": "2022-05-31T00:41:21.394550Z",
     "iopub.status.busy": "2022-05-31T00:41:21.393821Z",
     "iopub.status.idle": "2022-05-31T00:41:21.401278Z",
     "shell.execute_reply": "2022-05-31T00:41:21.400728Z"
    },
    "papermill": {
     "duration": 0.054281,
     "end_time": "2022-05-31T00:41:21.401491",
     "exception": false,
     "start_time": "2022-05-31T00:41:21.347210",
     "status": "completed"
    },
    "tags": []
   },
   "outputs": [],
   "source": [
    "#hide\n",
    "dfc_cases = dft_cases.groupby(COL_REGION)[dt_today].sum()\n",
    "dfc_deaths = dft_deaths.groupby(COL_REGION)[dt_today].sum()\n",
    "# dfp_cases = dft_cases.groupby(COL_REGION)[dt_5day].sum()\n",
    "# dfp_deaths = dft_deaths.groupby(COL_REGION)[dt_5day].sum()\n",
    "dfp_cases = dft_cases.groupby(COL_REGION)[dt_yday].sum()\n",
    "dfp_deaths = dft_deaths.groupby(COL_REGION)[dt_yday].sum()"
   ]
  },
  {
   "cell_type": "code",
   "execution_count": 12,
   "id": "deluxe-hepatitis",
   "metadata": {
    "execution": {
     "iopub.execute_input": "2022-05-31T00:41:21.481789Z",
     "iopub.status.busy": "2022-05-31T00:41:21.481107Z",
     "iopub.status.idle": "2022-05-31T00:41:21.486678Z",
     "shell.execute_reply": "2022-05-31T00:41:21.487330Z"
    },
    "papermill": {
     "duration": 0.050055,
     "end_time": "2022-05-31T00:41:21.487505",
     "exception": false,
     "start_time": "2022-05-31T00:41:21.437450",
     "status": "completed"
    },
    "tags": []
   },
   "outputs": [],
   "source": [
    "#hide\n",
    "df_table = (pd.DataFrame(dict(Cases = dfc_cases, Deaths = dfc_deaths, PCases = dfp_cases, PDeaths = dfp_deaths))\n",
    "            .sort_values(by = ['Cases','Deaths'], ascending = [False, False])\n",
    "            .reset_index())"
   ]
  },
  {
   "cell_type": "code",
   "execution_count": 13,
   "id": "educational-chancellor",
   "metadata": {
    "execution": {
     "iopub.execute_input": "2022-05-31T00:41:21.575583Z",
     "iopub.status.busy": "2022-05-31T00:41:21.567109Z",
     "iopub.status.idle": "2022-05-31T00:41:21.590502Z",
     "shell.execute_reply": "2022-05-31T00:41:21.591042Z"
    },
    "papermill": {
     "duration": 0.068079,
     "end_time": "2022-05-31T00:41:21.591186",
     "exception": false,
     "start_time": "2022-05-31T00:41:21.523107",
     "status": "completed"
    },
    "tags": []
   },
   "outputs": [
    {
     "data": {
      "text/html": [
       "<div>\n",
       "<style scoped>\n",
       "    .dataframe tbody tr th:only-of-type {\n",
       "        vertical-align: middle;\n",
       "    }\n",
       "\n",
       "    .dataframe tbody tr th {\n",
       "        vertical-align: top;\n",
       "    }\n",
       "\n",
       "    .dataframe thead th {\n",
       "        text-align: right;\n",
       "    }\n",
       "</style>\n",
       "<table border=\"1\" class=\"dataframe\">\n",
       "  <thead>\n",
       "    <tr style=\"text-align: right;\">\n",
       "      <th></th>\n",
       "      <th>Country/Region</th>\n",
       "      <th>Cases</th>\n",
       "      <th>Deaths</th>\n",
       "      <th>PCases</th>\n",
       "      <th>PDeaths</th>\n",
       "      <th>Cases (+)</th>\n",
       "      <th>Deaths (+)</th>\n",
       "      <th>Fatality Rate</th>\n",
       "      <th>Continent</th>\n",
       "    </tr>\n",
       "  </thead>\n",
       "  <tbody>\n",
       "    <tr>\n",
       "      <th>0</th>\n",
       "      <td>US</td>\n",
       "      <td>83984644</td>\n",
       "      <td>1004733</td>\n",
       "      <td>83980356</td>\n",
       "      <td>1004726</td>\n",
       "      <td>4288</td>\n",
       "      <td>7</td>\n",
       "      <td>1.20</td>\n",
       "      <td>North America</td>\n",
       "    </tr>\n",
       "    <tr>\n",
       "      <th>1</th>\n",
       "      <td>India</td>\n",
       "      <td>43155749</td>\n",
       "      <td>524611</td>\n",
       "      <td>43153043</td>\n",
       "      <td>524586</td>\n",
       "      <td>2706</td>\n",
       "      <td>25</td>\n",
       "      <td>1.22</td>\n",
       "      <td>Asia</td>\n",
       "    </tr>\n",
       "    <tr>\n",
       "      <th>2</th>\n",
       "      <td>Brazil</td>\n",
       "      <td>30953579</td>\n",
       "      <td>666453</td>\n",
       "      <td>30945384</td>\n",
       "      <td>666391</td>\n",
       "      <td>8195</td>\n",
       "      <td>62</td>\n",
       "      <td>2.15</td>\n",
       "      <td>South America</td>\n",
       "    </tr>\n",
       "    <tr>\n",
       "      <th>3</th>\n",
       "      <td>France</td>\n",
       "      <td>29671838</td>\n",
       "      <td>149169</td>\n",
       "      <td>29655398</td>\n",
       "      <td>149168</td>\n",
       "      <td>16440</td>\n",
       "      <td>1</td>\n",
       "      <td>0.50</td>\n",
       "      <td>Europe</td>\n",
       "    </tr>\n",
       "    <tr>\n",
       "      <th>4</th>\n",
       "      <td>Germany</td>\n",
       "      <td>26244107</td>\n",
       "      <td>138864</td>\n",
       "      <td>26243352</td>\n",
       "      <td>138862</td>\n",
       "      <td>755</td>\n",
       "      <td>2</td>\n",
       "      <td>0.53</td>\n",
       "      <td>Europe</td>\n",
       "    </tr>\n",
       "  </tbody>\n",
       "</table>\n",
       "</div>"
      ],
      "text/plain": [
       "  Country/Region     Cases   Deaths    PCases  PDeaths  Cases (+)  Deaths (+)  \\\n",
       "0             US  83984644  1004733  83980356  1004726       4288           7   \n",
       "1          India  43155749   524611  43153043   524586       2706          25   \n",
       "2         Brazil  30953579   666453  30945384   666391       8195          62   \n",
       "3         France  29671838   149169  29655398   149168      16440           1   \n",
       "4        Germany  26244107   138864  26243352   138862        755           2   \n",
       "\n",
       "   Fatality Rate      Continent  \n",
       "0           1.20  North America  \n",
       "1           1.22           Asia  \n",
       "2           2.15  South America  \n",
       "3           0.50         Europe  \n",
       "4           0.53         Europe  "
      ]
     },
     "execution_count": 13,
     "metadata": {},
     "output_type": "execute_result"
    }
   ],
   "source": [
    "#hide\n",
    "for c in 'Cases, Deaths'.split(', '):\n",
    "    df_table[f'{c} (+)'] = (df_table[c] - df_table[f'P{c}']).clip(0)\n",
    "    #Clip ça veut dire, les chiffres negatif sont interdit\n",
    "df_table['Fatality Rate'] = (100* df_table['Deaths']/ df_table['Cases']).round(2)\n",
    "df_table['Continent'] = df_table['Country/Region'].map(mapping['map.continent'])\n",
    "df_table.head(5)"
   ]
  },
  {
   "cell_type": "code",
   "execution_count": 14,
   "id": "aboriginal-bulgaria",
   "metadata": {
    "execution": {
     "iopub.execute_input": "2022-05-31T00:41:21.679984Z",
     "iopub.status.busy": "2022-05-31T00:41:21.679246Z",
     "iopub.status.idle": "2022-05-31T00:41:21.682440Z",
     "shell.execute_reply": "2022-05-31T00:41:21.681865Z"
    },
    "papermill": {
     "duration": 0.04769,
     "end_time": "2022-05-31T00:41:21.682567",
     "exception": false,
     "start_time": "2022-05-31T00:41:21.634877",
     "status": "completed"
    },
    "tags": []
   },
   "outputs": [],
   "source": [
    "#hide\n",
    "#delete problematic countries from table\n",
    "df_table = df_table[~df_table['Country/Region'].isin(['Cape Verde', 'Cruise Ship', 'Kosovo'])]"
   ]
  },
  {
   "cell_type": "code",
   "execution_count": 15,
   "id": "fantastic-effect",
   "metadata": {
    "execution": {
     "iopub.execute_input": "2022-05-31T00:41:21.769418Z",
     "iopub.status.busy": "2022-05-31T00:41:21.767780Z",
     "iopub.status.idle": "2022-05-31T00:41:21.792647Z",
     "shell.execute_reply": "2022-05-31T00:41:21.793195Z"
    },
    "papermill": {
     "duration": 0.073255,
     "end_time": "2022-05-31T00:41:21.793346",
     "exception": false,
     "start_time": "2022-05-31T00:41:21.720091",
     "status": "completed"
    },
    "tags": []
   },
   "outputs": [
    {
     "data": {
      "text/html": [
       "<div>\n",
       "<style scoped>\n",
       "    .dataframe tbody tr th:only-of-type {\n",
       "        vertical-align: middle;\n",
       "    }\n",
       "\n",
       "    .dataframe tbody tr th {\n",
       "        vertical-align: top;\n",
       "    }\n",
       "\n",
       "    .dataframe thead th {\n",
       "        text-align: right;\n",
       "    }\n",
       "</style>\n",
       "<table border=\"1\" class=\"dataframe\">\n",
       "  <thead>\n",
       "    <tr style=\"text-align: right;\">\n",
       "      <th></th>\n",
       "      <th>Country/Region</th>\n",
       "      <th>Cases</th>\n",
       "      <th>Deaths</th>\n",
       "      <th>PCases</th>\n",
       "      <th>PDeaths</th>\n",
       "      <th>Cases (+)</th>\n",
       "      <th>Deaths (+)</th>\n",
       "      <th>Fatality Rate</th>\n",
       "      <th>Continent</th>\n",
       "    </tr>\n",
       "  </thead>\n",
       "  <tbody>\n",
       "    <tr>\n",
       "      <th>0</th>\n",
       "      <td>US</td>\n",
       "      <td>83984644</td>\n",
       "      <td>1004733</td>\n",
       "      <td>83980356</td>\n",
       "      <td>1004726</td>\n",
       "      <td>4288</td>\n",
       "      <td>7</td>\n",
       "      <td>1.2</td>\n",
       "      <td>North America</td>\n",
       "    </tr>\n",
       "    <tr>\n",
       "      <th>1</th>\n",
       "      <td>India</td>\n",
       "      <td>43155749</td>\n",
       "      <td>524611</td>\n",
       "      <td>43153043</td>\n",
       "      <td>524586</td>\n",
       "      <td>2706</td>\n",
       "      <td>25</td>\n",
       "      <td>1.2</td>\n",
       "      <td>Asia</td>\n",
       "    </tr>\n",
       "    <tr>\n",
       "      <th>2</th>\n",
       "      <td>Brazil</td>\n",
       "      <td>30953579</td>\n",
       "      <td>666453</td>\n",
       "      <td>30945384</td>\n",
       "      <td>666391</td>\n",
       "      <td>8195</td>\n",
       "      <td>62</td>\n",
       "      <td>2.2</td>\n",
       "      <td>South America</td>\n",
       "    </tr>\n",
       "    <tr>\n",
       "      <th>3</th>\n",
       "      <td>France</td>\n",
       "      <td>29671838</td>\n",
       "      <td>149169</td>\n",
       "      <td>29655398</td>\n",
       "      <td>149168</td>\n",
       "      <td>16440</td>\n",
       "      <td>1</td>\n",
       "      <td>0.5</td>\n",
       "      <td>Europe</td>\n",
       "    </tr>\n",
       "    <tr>\n",
       "      <th>4</th>\n",
       "      <td>Germany</td>\n",
       "      <td>26244107</td>\n",
       "      <td>138864</td>\n",
       "      <td>26243352</td>\n",
       "      <td>138862</td>\n",
       "      <td>755</td>\n",
       "      <td>2</td>\n",
       "      <td>0.5</td>\n",
       "      <td>Europe</td>\n",
       "    </tr>\n",
       "  </tbody>\n",
       "</table>\n",
       "</div>"
      ],
      "text/plain": [
       "  Country/Region     Cases   Deaths    PCases  PDeaths  Cases (+)  Deaths (+)  \\\n",
       "0             US  83984644  1004733  83980356  1004726       4288           7   \n",
       "1          India  43155749   524611  43153043   524586       2706          25   \n",
       "2         Brazil  30953579   666453  30945384   666391       8195          62   \n",
       "3         France  29671838   149169  29655398   149168      16440           1   \n",
       "4        Germany  26244107   138864  26243352   138862        755           2   \n",
       "\n",
       "   Fatality Rate      Continent  \n",
       "0            1.2  North America  \n",
       "1            1.2           Asia  \n",
       "2            2.2  South America  \n",
       "3            0.5         Europe  \n",
       "4            0.5         Europe  "
      ]
     },
     "execution_count": 15,
     "metadata": {},
     "output_type": "execute_result"
    }
   ],
   "source": [
    "#hide\n",
    "df_table = (pd.DataFrame(dict(Cases=dfc_cases, Deaths=dfc_deaths, PCases=dfp_cases, PDeaths=dfp_deaths))\n",
    "             .sort_values(by=['Cases', 'Deaths'], ascending=[False, False])\n",
    "             .reset_index())\n",
    "df_table.rename(columns={'index': 'Country/Region'}, inplace=True)\n",
    "for c in 'Cases, Deaths'.split(', '):\n",
    "    df_table[f'{c} (+)'] = (df_table[c] - df_table[f'P{c}']).clip(0)  # DATA BUG\n",
    "df_table['Fatality Rate'] = (100 * df_table['Deaths'] / df_table['Cases']).round(1)\n",
    "df_table['Continent'] = df_table['Country/Region'].map(mapping['map.continent'])\n",
    "df_table.head(5)"
   ]
  },
  {
   "cell_type": "code",
   "execution_count": 16,
   "id": "fewer-occasion",
   "metadata": {
    "execution": {
     "iopub.execute_input": "2022-05-31T00:41:21.876627Z",
     "iopub.status.busy": "2022-05-31T00:41:21.875928Z",
     "iopub.status.idle": "2022-05-31T00:41:21.880684Z",
     "shell.execute_reply": "2022-05-31T00:41:21.879993Z"
    },
    "papermill": {
     "duration": 0.047792,
     "end_time": "2022-05-31T00:41:21.880818",
     "exception": false,
     "start_time": "2022-05-31T00:41:21.833026",
     "status": "completed"
    },
    "tags": []
   },
   "outputs": [],
   "source": [
    "#hide\n",
    "#delete problematic countries from table\n",
    "df_table = df_table[~df_table['Country/Region'].isin(['Cape Verde', 'Cruise Ship', 'Kosovo'])]"
   ]
  },
  {
   "cell_type": "code",
   "execution_count": 17,
   "id": "related-center",
   "metadata": {
    "execution": {
     "iopub.execute_input": "2022-05-31T00:41:21.979418Z",
     "iopub.status.busy": "2022-05-31T00:41:21.973056Z",
     "iopub.status.idle": "2022-05-31T00:41:21.982509Z",
     "shell.execute_reply": "2022-05-31T00:41:21.983057Z"
    },
    "papermill": {
     "duration": 0.062734,
     "end_time": "2022-05-31T00:41:21.983204",
     "exception": false,
     "start_time": "2022-05-31T00:41:21.920470",
     "status": "completed"
    },
    "tags": []
   },
   "outputs": [],
   "source": [
    "#hide\n",
    "metrics = [df_table.columns[index] for index in [1,2,5,6]]\n",
    "# s_china = df_table[df_table['Country/Region'].eq('China')][metrics].sum().add_prefix('China ')\n",
    "s_us = df_table[df_table['Country/Region'].eq('US')][metrics].sum().add_prefix('US ')\n",
    "s_eu = df_table[df_table['Continent'].eq('Europe')][metrics].sum().add_prefix('EU ')\n",
    "s_ind = df_table[df_table['Country/Region'].eq('India')][metrics].sum().add_prefix('India ')\n",
    "summary = {'updated': pd.to_datetime(dt_today), 'since': pd.to_datetime(dt_yday)}\n",
    "summary = {'updated': pd.to_datetime(dt_today), 'since': pd.to_datetime(dt_yday)}\n",
    "summary = {**summary, **df_table[metrics].sum(), **s_ind, **s_us, **s_eu}"
   ]
  },
  {
   "cell_type": "code",
   "execution_count": 18,
   "id": "engaging-syndrome",
   "metadata": {
    "execution": {
     "iopub.execute_input": "2022-05-31T00:41:22.068219Z",
     "iopub.status.busy": "2022-05-31T00:41:22.067469Z",
     "iopub.status.idle": "2022-05-31T00:41:22.092128Z",
     "shell.execute_reply": "2022-05-31T00:41:22.091498Z"
    },
    "papermill": {
     "duration": 0.071968,
     "end_time": "2022-05-31T00:41:22.092265",
     "exception": false,
     "start_time": "2022-05-31T00:41:22.020297",
     "status": "completed"
    },
    "tags": []
   },
   "outputs": [],
   "source": [
    "#hide\n",
    "dft_ct_new_cases = dft_cases.groupby(COL_REGION)[dt_cols].sum().diff(axis=1).fillna(0).astype(int)"
   ]
  },
  {
   "cell_type": "code",
   "execution_count": 19,
   "id": "neutral-assignment",
   "metadata": {
    "execution": {
     "iopub.execute_input": "2022-05-31T00:41:22.176824Z",
     "iopub.status.busy": "2022-05-31T00:41:22.176054Z",
     "iopub.status.idle": "2022-05-31T00:41:22.182130Z",
     "shell.execute_reply": "2022-05-31T00:41:22.181544Z"
    },
    "papermill": {
     "duration": 0.050029,
     "end_time": "2022-05-31T00:41:22.182261",
     "exception": false,
     "start_time": "2022-05-31T00:41:22.132232",
     "status": "completed"
    },
    "tags": []
   },
   "outputs": [],
   "source": [
    "#hide\n",
    "everydaycases = dft_ct_new_cases.cumsum(axis=1)"
   ]
  },
  {
   "cell_type": "code",
   "execution_count": 20,
   "id": "parliamentary-calgary",
   "metadata": {
    "execution": {
     "iopub.execute_input": "2022-05-31T00:41:22.280527Z",
     "iopub.status.busy": "2022-05-31T00:41:22.279760Z",
     "iopub.status.idle": "2022-05-31T00:41:22.969586Z",
     "shell.execute_reply": "2022-05-31T00:41:22.968971Z"
    },
    "papermill": {
     "duration": 0.738137,
     "end_time": "2022-05-31T00:41:22.969734",
     "exception": false,
     "start_time": "2022-05-31T00:41:22.231597",
     "status": "completed"
    },
    "tags": []
   },
   "outputs": [],
   "source": [
    "#hide\n",
    "import pandas as pd\n",
    "import matplotlib.pyplot as plt\n",
    "import matplotlib.ticker as ticker\n",
    "import matplotlib.animation as animation\n",
    "from IPython.display import HTML"
   ]
  },
  {
   "cell_type": "code",
   "execution_count": 21,
   "id": "lasting-extraction",
   "metadata": {
    "execution": {
     "iopub.execute_input": "2022-05-31T00:41:23.058125Z",
     "iopub.status.busy": "2022-05-31T00:41:23.057437Z",
     "iopub.status.idle": "2022-05-31T00:41:23.065802Z",
     "shell.execute_reply": "2022-05-31T00:41:23.066386Z"
    },
    "papermill": {
     "duration": 0.056707,
     "end_time": "2022-05-31T00:41:23.066537",
     "exception": false,
     "start_time": "2022-05-31T00:41:23.009830",
     "status": "completed"
    },
    "tags": []
   },
   "outputs": [],
   "source": [
    "#hide\n",
    "t = everydaycases.stack()"
   ]
  },
  {
   "cell_type": "code",
   "execution_count": 22,
   "id": "premier-sleeve",
   "metadata": {
    "execution": {
     "iopub.execute_input": "2022-05-31T00:41:23.149643Z",
     "iopub.status.busy": "2022-05-31T00:41:23.148943Z",
     "iopub.status.idle": "2022-05-31T00:41:23.161685Z",
     "shell.execute_reply": "2022-05-31T00:41:23.162369Z"
    },
    "papermill": {
     "duration": 0.057196,
     "end_time": "2022-05-31T00:41:23.162523",
     "exception": false,
     "start_time": "2022-05-31T00:41:23.105327",
     "status": "completed"
    },
    "tags": []
   },
   "outputs": [],
   "source": [
    "#hide\n",
    "g = t.reset_index(['Country/Region'])"
   ]
  },
  {
   "cell_type": "code",
   "execution_count": 23,
   "id": "distributed-pittsburgh",
   "metadata": {
    "execution": {
     "iopub.execute_input": "2022-05-31T00:41:23.243011Z",
     "iopub.status.busy": "2022-05-31T00:41:23.242200Z",
     "iopub.status.idle": "2022-05-31T00:41:23.244239Z",
     "shell.execute_reply": "2022-05-31T00:41:23.244782Z"
    },
    "papermill": {
     "duration": 0.045978,
     "end_time": "2022-05-31T00:41:23.244926",
     "exception": false,
     "start_time": "2022-05-31T00:41:23.198948",
     "status": "completed"
    },
    "tags": []
   },
   "outputs": [],
   "source": [
    "#hide\n",
    "g.index.name = 'date'"
   ]
  },
  {
   "cell_type": "code",
   "execution_count": 24,
   "id": "naked-donor",
   "metadata": {
    "execution": {
     "iopub.execute_input": "2022-05-31T00:41:23.328174Z",
     "iopub.status.busy": "2022-05-31T00:41:23.327428Z",
     "iopub.status.idle": "2022-05-31T00:41:23.331446Z",
     "shell.execute_reply": "2022-05-31T00:41:23.330710Z"
    },
    "papermill": {
     "duration": 0.048205,
     "end_time": "2022-05-31T00:41:23.331583",
     "exception": false,
     "start_time": "2022-05-31T00:41:23.283378",
     "status": "completed"
    },
    "tags": []
   },
   "outputs": [],
   "source": [
    "# #hide\n",
    "# g = g.reset_index(['date'])"
   ]
  },
  {
   "cell_type": "code",
   "execution_count": 25,
   "id": "incomplete-mustang",
   "metadata": {
    "execution": {
     "iopub.execute_input": "2022-05-31T00:41:23.413871Z",
     "iopub.status.busy": "2022-05-31T00:41:23.413158Z",
     "iopub.status.idle": "2022-05-31T00:41:23.420329Z",
     "shell.execute_reply": "2022-05-31T00:41:23.419304Z"
    },
    "papermill": {
     "duration": 0.050189,
     "end_time": "2022-05-31T00:41:23.420536",
     "exception": false,
     "start_time": "2022-05-31T00:41:23.370347",
     "status": "completed"
    },
    "tags": []
   },
   "outputs": [],
   "source": [
    "#hide\n",
    "# g.head()"
   ]
  },
  {
   "cell_type": "code",
   "execution_count": 26,
   "id": "specific-kruger",
   "metadata": {
    "execution": {
     "iopub.execute_input": "2022-05-31T00:41:23.503539Z",
     "iopub.status.busy": "2022-05-31T00:41:23.502318Z",
     "iopub.status.idle": "2022-05-31T00:41:23.508003Z",
     "shell.execute_reply": "2022-05-31T00:41:23.506822Z"
    },
    "papermill": {
     "duration": 0.048132,
     "end_time": "2022-05-31T00:41:23.508135",
     "exception": false,
     "start_time": "2022-05-31T00:41:23.460003",
     "status": "completed"
    },
    "tags": []
   },
   "outputs": [],
   "source": [
    "#hide\n",
    "# g.columns = ['date','country','cases']"
   ]
  },
  {
   "cell_type": "code",
   "execution_count": 27,
   "id": "tender-conversion",
   "metadata": {
    "execution": {
     "iopub.execute_input": "2022-05-31T00:41:23.591081Z",
     "iopub.status.busy": "2022-05-31T00:41:23.590092Z",
     "iopub.status.idle": "2022-05-31T00:41:23.594919Z",
     "shell.execute_reply": "2022-05-31T00:41:23.595709Z"
    },
    "papermill": {
     "duration": 0.051042,
     "end_time": "2022-05-31T00:41:23.595866",
     "exception": false,
     "start_time": "2022-05-31T00:41:23.544824",
     "status": "completed"
    },
    "tags": []
   },
   "outputs": [],
   "source": [
    "#hide\n",
    "# g['continent'] = g.country"
   ]
  },
  {
   "cell_type": "code",
   "execution_count": 28,
   "id": "substantial-wilderness",
   "metadata": {
    "execution": {
     "iopub.execute_input": "2022-05-31T00:41:23.672990Z",
     "iopub.status.busy": "2022-05-31T00:41:23.672284Z",
     "iopub.status.idle": "2022-05-31T00:41:23.676968Z",
     "shell.execute_reply": "2022-05-31T00:41:23.676384Z"
    },
    "papermill": {
     "duration": 0.045219,
     "end_time": "2022-05-31T00:41:23.677096",
     "exception": false,
     "start_time": "2022-05-31T00:41:23.631877",
     "status": "completed"
    },
    "tags": []
   },
   "outputs": [],
   "source": [
    "#hide\n",
    "# cols = list(g.columns.values)"
   ]
  },
  {
   "cell_type": "code",
   "execution_count": 29,
   "id": "solved-farming",
   "metadata": {
    "execution": {
     "iopub.execute_input": "2022-05-31T00:41:23.755450Z",
     "iopub.status.busy": "2022-05-31T00:41:23.754226Z",
     "iopub.status.idle": "2022-05-31T00:41:23.756774Z",
     "shell.execute_reply": "2022-05-31T00:41:23.757597Z"
    },
    "papermill": {
     "duration": 0.044588,
     "end_time": "2022-05-31T00:41:23.757741",
     "exception": false,
     "start_time": "2022-05-31T00:41:23.713153",
     "status": "completed"
    },
    "tags": []
   },
   "outputs": [],
   "source": [
    "#hide\n",
    "# cols.insert(0, cols.pop())"
   ]
  },
  {
   "cell_type": "code",
   "execution_count": 30,
   "id": "executed-adoption",
   "metadata": {
    "execution": {
     "iopub.execute_input": "2022-05-31T00:41:23.840386Z",
     "iopub.status.busy": "2022-05-31T00:41:23.839651Z",
     "iopub.status.idle": "2022-05-31T00:41:23.842494Z",
     "shell.execute_reply": "2022-05-31T00:41:23.841922Z"
    },
    "papermill": {
     "duration": 0.04508,
     "end_time": "2022-05-31T00:41:23.842620",
     "exception": false,
     "start_time": "2022-05-31T00:41:23.797540",
     "status": "completed"
    },
    "tags": []
   },
   "outputs": [],
   "source": [
    "#hide\n",
    "# g = g[cols]"
   ]
  },
  {
   "cell_type": "code",
   "execution_count": 31,
   "id": "subject-dublin",
   "metadata": {
    "execution": {
     "iopub.execute_input": "2022-05-31T00:41:23.919714Z",
     "iopub.status.busy": "2022-05-31T00:41:23.918899Z",
     "iopub.status.idle": "2022-05-31T00:41:23.922945Z",
     "shell.execute_reply": "2022-05-31T00:41:23.922345Z"
    },
    "papermill": {
     "duration": 0.044422,
     "end_time": "2022-05-31T00:41:23.923075",
     "exception": false,
     "start_time": "2022-05-31T00:41:23.878653",
     "status": "completed"
    },
    "tags": []
   },
   "outputs": [],
   "source": [
    "#hide\n",
    "# g['continent'] = g['continent'].map(mapping['map.continent'])"
   ]
  },
  {
   "cell_type": "code",
   "execution_count": 32,
   "id": "freelance-scout",
   "metadata": {
    "execution": {
     "iopub.execute_input": "2022-05-31T00:41:24.004825Z",
     "iopub.status.busy": "2022-05-31T00:41:24.003898Z",
     "iopub.status.idle": "2022-05-31T00:41:24.006315Z",
     "shell.execute_reply": "2022-05-31T00:41:24.007189Z"
    },
    "papermill": {
     "duration": 0.046446,
     "end_time": "2022-05-31T00:41:24.007378",
     "exception": false,
     "start_time": "2022-05-31T00:41:23.960932",
     "status": "completed"
    },
    "tags": []
   },
   "outputs": [],
   "source": [
    "#hide\n",
    "# g.head()"
   ]
  },
  {
   "cell_type": "code",
   "execution_count": 33,
   "id": "limited-engine",
   "metadata": {
    "execution": {
     "iopub.execute_input": "2022-05-31T00:41:24.085392Z",
     "iopub.status.busy": "2022-05-31T00:41:24.084654Z",
     "iopub.status.idle": "2022-05-31T00:41:24.088920Z",
     "shell.execute_reply": "2022-05-31T00:41:24.089439Z"
    },
    "papermill": {
     "duration": 0.045074,
     "end_time": "2022-05-31T00:41:24.089592",
     "exception": false,
     "start_time": "2022-05-31T00:41:24.044518",
     "status": "completed"
    },
    "tags": []
   },
   "outputs": [],
   "source": [
    "# hide\n",
    "# g['date'] = g['date'].astype('datetime64[ns]')"
   ]
  },
  {
   "cell_type": "code",
   "execution_count": 34,
   "id": "sophisticated-supervisor",
   "metadata": {
    "execution": {
     "iopub.execute_input": "2022-05-31T00:41:24.176098Z",
     "iopub.status.busy": "2022-05-31T00:41:24.175350Z",
     "iopub.status.idle": "2022-05-31T00:41:24.178174Z",
     "shell.execute_reply": "2022-05-31T00:41:24.177485Z"
    },
    "papermill": {
     "duration": 0.049923,
     "end_time": "2022-05-31T00:41:24.178304",
     "exception": false,
     "start_time": "2022-05-31T00:41:24.128381",
     "status": "completed"
    },
    "tags": []
   },
   "outputs": [],
   "source": [
    "#hide\n",
    "# g['date'] = g.date.dt.dayofyear"
   ]
  },
  {
   "cell_type": "code",
   "execution_count": 35,
   "id": "inside-dubai",
   "metadata": {
    "execution": {
     "iopub.execute_input": "2022-05-31T00:41:24.269038Z",
     "iopub.status.busy": "2022-05-31T00:41:24.268217Z",
     "iopub.status.idle": "2022-05-31T00:41:24.270737Z",
     "shell.execute_reply": "2022-05-31T00:41:24.271433Z"
    },
    "papermill": {
     "duration": 0.049061,
     "end_time": "2022-05-31T00:41:24.271618",
     "exception": false,
     "start_time": "2022-05-31T00:41:24.222557",
     "status": "completed"
    },
    "tags": []
   },
   "outputs": [],
   "source": [
    "#hide\n",
    "# g = g.rename(columns= {'continent':'group','country':'name','cases':'value'})"
   ]
  },
  {
   "cell_type": "code",
   "execution_count": 36,
   "id": "fleet-motorcycle",
   "metadata": {
    "execution": {
     "iopub.execute_input": "2022-05-31T00:41:24.352050Z",
     "iopub.status.busy": "2022-05-31T00:41:24.351291Z",
     "iopub.status.idle": "2022-05-31T00:41:24.355525Z",
     "shell.execute_reply": "2022-05-31T00:41:24.354840Z"
    },
    "papermill": {
     "duration": 0.045314,
     "end_time": "2022-05-31T00:41:24.355694",
     "exception": false,
     "start_time": "2022-05-31T00:41:24.310380",
     "status": "completed"
    },
    "tags": []
   },
   "outputs": [],
   "source": [
    "#hide\n",
    "# cols = ['name','group','day','value']"
   ]
  },
  {
   "cell_type": "code",
   "execution_count": 37,
   "id": "continued-sleeping",
   "metadata": {
    "execution": {
     "iopub.execute_input": "2022-05-31T00:41:24.437569Z",
     "iopub.status.busy": "2022-05-31T00:41:24.436878Z",
     "iopub.status.idle": "2022-05-31T00:41:24.439204Z",
     "shell.execute_reply": "2022-05-31T00:41:24.438525Z"
    },
    "papermill": {
     "duration": 0.044258,
     "end_time": "2022-05-31T00:41:24.439330",
     "exception": false,
     "start_time": "2022-05-31T00:41:24.395072",
     "status": "completed"
    },
    "tags": []
   },
   "outputs": [],
   "source": [
    "#hide\n",
    "# g.rename(columns= {'date':'day'},inplace = True)"
   ]
  },
  {
   "cell_type": "code",
   "execution_count": 38,
   "id": "major-fight",
   "metadata": {
    "execution": {
     "iopub.execute_input": "2022-05-31T00:41:24.528124Z",
     "iopub.status.busy": "2022-05-31T00:41:24.527357Z",
     "iopub.status.idle": "2022-05-31T00:41:24.530203Z",
     "shell.execute_reply": "2022-05-31T00:41:24.529625Z"
    },
    "papermill": {
     "duration": 0.053295,
     "end_time": "2022-05-31T00:41:24.530333",
     "exception": false,
     "start_time": "2022-05-31T00:41:24.477038",
     "status": "completed"
    },
    "tags": []
   },
   "outputs": [],
   "source": [
    "#hide\n",
    "# g = g[cols]"
   ]
  },
  {
   "cell_type": "code",
   "execution_count": 39,
   "id": "structured-mobile",
   "metadata": {
    "execution": {
     "iopub.execute_input": "2022-05-31T00:41:24.610150Z",
     "iopub.status.busy": "2022-05-31T00:41:24.609438Z",
     "iopub.status.idle": "2022-05-31T00:41:24.614857Z",
     "shell.execute_reply": "2022-05-31T00:41:24.613395Z"
    },
    "papermill": {
     "duration": 0.047222,
     "end_time": "2022-05-31T00:41:24.615004",
     "exception": false,
     "start_time": "2022-05-31T00:41:24.567782",
     "status": "completed"
    },
    "tags": []
   },
   "outputs": [],
   "source": [
    "# #hide\n",
    "# g = g[g.group.notna()]"
   ]
  },
  {
   "cell_type": "code",
   "execution_count": 40,
   "id": "determined-closing",
   "metadata": {
    "execution": {
     "iopub.execute_input": "2022-05-31T00:41:24.695001Z",
     "iopub.status.busy": "2022-05-31T00:41:24.693822Z",
     "iopub.status.idle": "2022-05-31T00:41:24.696470Z",
     "shell.execute_reply": "2022-05-31T00:41:24.697407Z"
    },
    "papermill": {
     "duration": 0.045638,
     "end_time": "2022-05-31T00:41:24.697637",
     "exception": false,
     "start_time": "2022-05-31T00:41:24.651999",
     "status": "completed"
    },
    "tags": []
   },
   "outputs": [],
   "source": [
    "# #hide\n",
    "# colors = dict(zip(\n",
    "#     [\"Oceania\", \"Europe\", \"Asia\", \"South America\", \"Middle East\", \"North America\", \"Africa\"],\n",
    "#     [\"#adb0ff\", \"#ffb3ff\", \"#90d595\", \"#e48381\", \"#aafbff\", \"#f7bb5f\", \"#eafb50\"]\n",
    "# ))\n",
    "# group_lk = g.set_index('name')['group'].to_dict()"
   ]
  },
  {
   "cell_type": "code",
   "execution_count": null,
   "id": "gross-drinking",
   "metadata": {
    "papermill": {
     "duration": 0.036692,
     "end_time": "2022-05-31T00:41:24.774476",
     "exception": false,
     "start_time": "2022-05-31T00:41:24.737784",
     "status": "completed"
    },
    "tags": []
   },
   "outputs": [],
   "source": []
  },
  {
   "cell_type": "code",
   "execution_count": 41,
   "id": "subject-macintosh",
   "metadata": {
    "execution": {
     "iopub.execute_input": "2022-05-31T00:41:24.854464Z",
     "iopub.status.busy": "2022-05-31T00:41:24.853749Z",
     "iopub.status.idle": "2022-05-31T00:41:24.856427Z",
     "shell.execute_reply": "2022-05-31T00:41:24.857087Z"
    },
    "papermill": {
     "duration": 0.046247,
     "end_time": "2022-05-31T00:41:24.857234",
     "exception": false,
     "start_time": "2022-05-31T00:41:24.810987",
     "status": "completed"
    },
    "tags": []
   },
   "outputs": [],
   "source": [
    "# #hide\n",
    "# fig, ax = plt.subplots(figsize=(15, 8))\n",
    "\n",
    "# def draw_barchart(current_day):\n",
    "#     dff = g[g['day'].eq(current_day)].sort_values(by='value', ascending=True).tail(10)\n",
    "#     ax.clear()\n",
    "#     ax.barh(dff['name'], dff['value'], color=[colors[group_lk[x]] for x in dff['name']])\n",
    "#     dx = dff['value'].max() / 200\n",
    "    \n",
    "#     for i, (value, name) in enumerate(zip(dff['value'], dff['name'])):\n",
    "#         ax.text(value-dx, i,     name,           size=14, weight=600, ha='right', va='bottom')\n",
    "#         ax.text(value-dx, i-.25, group_lk[name], size=10, color='#444444', ha='right', va='baseline')\n",
    "#         ax.text(value+dx, i,     f'{value:,.0f}',  size=14, ha='left',  va='center')\n",
    "#     ax.text(1, 0.4, current_day, transform=ax.transAxes, color='#777777', size=46, ha='right', weight=800)\n",
    "#     ax.text(0, 1.06, 'Population (thousands)', transform=ax.transAxes, size=12, color='#777777')\n",
    "#     ax.xaxis.set_major_formatter(ticker.StrMethodFormatter('{x:,.0f}'))\n",
    "#     ax.xaxis.set_ticks_position('top')\n",
    "#     ax.tick_params(axis='x', colors='#777777', labelsize=12)\n",
    "#     ax.set_yticks([])\n",
    "#     ax.margins(0, 0.01)\n",
    "#     ax.grid(which='major', axis='x', linestyle='-')\n",
    "#     ax.set_axisbelow(True)\n",
    "    \n",
    "#     ax.text(0, 1.15, 'Coronavirus',\n",
    "#             transform=ax.transAxes, size=24, weight=600, ha='left', va='top')\n",
    "# #     ax.text(1, 0, 'by @pratapvardhan; credit @jburnmurdoch', transform=ax.transAxes, color='#777777', ha='right',\n",
    "# #             bbox=dict(facecolor='white', alpha=0.8, edgecolor='white'))\n",
    "#     plt.box(False)"
   ]
  },
  {
   "cell_type": "code",
   "execution_count": 42,
   "id": "sexual-wages",
   "metadata": {
    "execution": {
     "iopub.execute_input": "2022-05-31T00:41:24.936657Z",
     "iopub.status.busy": "2022-05-31T00:41:24.935850Z",
     "iopub.status.idle": "2022-05-31T00:41:24.940586Z",
     "shell.execute_reply": "2022-05-31T00:41:24.939785Z"
    },
    "papermill": {
     "duration": 0.046329,
     "end_time": "2022-05-31T00:41:24.940718",
     "exception": false,
     "start_time": "2022-05-31T00:41:24.894389",
     "status": "completed"
    },
    "tags": []
   },
   "outputs": [],
   "source": [
    "# #hide_input\n",
    "# fig, ax = plt.subplots(figsize=(15, 8))\n",
    "# animator = animation.FuncAnimation(fig, draw_barchart, frames=range(g.day.values.min(), g.day.values.max()))\n",
    "# HTML(animator.to_jshtml())\n",
    "# # or use animator.to_html5_video() or animator.save() "
   ]
  },
  {
   "cell_type": "code",
   "execution_count": null,
   "id": "australian-container",
   "metadata": {
    "papermill": {
     "duration": 0.036799,
     "end_time": "2022-05-31T00:41:25.015355",
     "exception": false,
     "start_time": "2022-05-31T00:41:24.978556",
     "status": "completed"
    },
    "tags": []
   },
   "outputs": [],
   "source": []
  },
  {
   "cell_type": "code",
   "execution_count": null,
   "id": "mediterranean-pontiac",
   "metadata": {
    "papermill": {
     "duration": 0.039089,
     "end_time": "2022-05-31T00:41:25.092357",
     "exception": false,
     "start_time": "2022-05-31T00:41:25.053268",
     "status": "completed"
    },
    "tags": []
   },
   "outputs": [],
   "source": []
  },
  {
   "cell_type": "code",
   "execution_count": null,
   "id": "aging-legislature",
   "metadata": {
    "papermill": {
     "duration": 0.037659,
     "end_time": "2022-05-31T00:41:25.167390",
     "exception": false,
     "start_time": "2022-05-31T00:41:25.129731",
     "status": "completed"
    },
    "tags": []
   },
   "outputs": [],
   "source": []
  }
 ],
 "metadata": {
  "kernelspec": {
   "display_name": "Python 3",
   "language": "python",
   "name": "python3"
  },
  "language_info": {
   "codemirror_mode": {
    "name": "ipython",
    "version": 3
   },
   "file_extension": ".py",
   "mimetype": "text/x-python",
   "name": "python",
   "nbconvert_exporter": "python",
   "pygments_lexer": "ipython3",
   "version": "3.6.15"
  },
  "papermill": {
   "duration": 7.374155,
   "end_time": "2022-05-31T00:41:25.528758",
   "environment_variables": {},
   "exception": null,
   "input_path": "2020-03-21-covid19exp.ipynb",
   "output_path": "2020-03-21-covid19exp.ipynb",
   "parameters": {},
   "start_time": "2022-05-31T00:41:18.154603",
   "version": "2.0.0"
  }
 },
 "nbformat": 4,
 "nbformat_minor": 5
}