{
 "cells": [
  {
   "cell_type": "markdown",
   "id": "muslim-click",
   "metadata": {
    "papermill": {
     "duration": 0.042084,
     "end_time": "2021-11-04T12:12:27.968880",
     "exception": false,
     "start_time": "2021-11-04T12:12:27.926796",
     "status": "completed"
    },
    "tags": []
   },
   "source": [
    "# COVID-19 Case Race\n",
    "> A race chart to see rising cases around the world\n",
    "\n",
    "- author: Hargun Oberoi\n",
    "- image: images/covid-overview.png\n",
    "- hide: false\n",
    "- badges: false"
   ]
  },
  {
   "cell_type": "code",
   "execution_count": 1,
   "id": "proof-material",
   "metadata": {
    "execution": {
     "iopub.execute_input": "2021-11-04T12:12:28.066851Z",
     "iopub.status.busy": "2021-11-04T12:12:28.066028Z",
     "iopub.status.idle": "2021-11-04T12:12:28.474942Z",
     "shell.execute_reply": "2021-11-04T12:12:28.473820Z"
    },
    "papermill": {
     "duration": 0.467831,
     "end_time": "2021-11-04T12:12:28.475101",
     "exception": false,
     "start_time": "2021-11-04T12:12:28.007270",
     "status": "completed"
    },
    "tags": []
   },
   "outputs": [],
   "source": [
    "#hide\n",
    "import numpy as np\n",
    "import pandas as pd\n",
    "from jinja2 import Template\n",
    "from IPython.display import HTML"
   ]
  },
  {
   "cell_type": "code",
   "execution_count": 2,
   "id": "developed-terminology",
   "metadata": {
    "execution": {
     "iopub.execute_input": "2021-11-04T12:12:28.556663Z",
     "iopub.status.busy": "2021-11-04T12:12:28.555989Z",
     "iopub.status.idle": "2021-11-04T12:12:28.558541Z",
     "shell.execute_reply": "2021-11-04T12:12:28.557953Z"
    },
    "papermill": {
     "duration": 0.044871,
     "end_time": "2021-11-04T12:12:28.558674",
     "exception": false,
     "start_time": "2021-11-04T12:12:28.513803",
     "status": "completed"
    },
    "tags": []
   },
   "outputs": [],
   "source": [
    "#hide\n",
    "\n",
    "# FETCH\n",
    "base_url = 'https://raw.githubusercontent.com/pratapvardhan/notebooks/master/covid19/'\n",
    "paths = {\n",
    "    'mapping': base_url + 'mapping_countries.csv',\n",
    "    'overview': base_url + 'overview.tpl'\n",
    "}"
   ]
  },
  {
   "cell_type": "code",
   "execution_count": 3,
   "id": "dynamic-saver",
   "metadata": {
    "execution": {
     "iopub.execute_input": "2021-11-04T12:12:28.652202Z",
     "iopub.status.busy": "2021-11-04T12:12:28.651457Z",
     "iopub.status.idle": "2021-11-04T12:12:28.655290Z",
     "shell.execute_reply": "2021-11-04T12:12:28.654744Z"
    },
    "papermill": {
     "duration": 0.057363,
     "end_time": "2021-11-04T12:12:28.655558",
     "exception": false,
     "start_time": "2021-11-04T12:12:28.598195",
     "status": "completed"
    },
    "tags": []
   },
   "outputs": [
    {
     "data": {
      "text/plain": [
       "'https://raw.githubusercontent.com/pratapvardhan/notebooks/master/covid19/mapping_countries.csv'"
      ]
     },
     "execution_count": 3,
     "metadata": {},
     "output_type": "execute_result"
    }
   ],
   "source": [
    "#hide\n",
    "paths['mapping']"
   ]
  },
  {
   "cell_type": "code",
   "execution_count": 4,
   "id": "urban-software",
   "metadata": {
    "execution": {
     "iopub.execute_input": "2021-11-04T12:12:28.747889Z",
     "iopub.status.busy": "2021-11-04T12:12:28.747212Z",
     "iopub.status.idle": "2021-11-04T12:12:28.749936Z",
     "shell.execute_reply": "2021-11-04T12:12:28.749384Z"
    },
    "papermill": {
     "duration": 0.051948,
     "end_time": "2021-11-04T12:12:28.750073",
     "exception": false,
     "start_time": "2021-11-04T12:12:28.698125",
     "status": "completed"
    },
    "tags": []
   },
   "outputs": [],
   "source": [
    "#hide\n",
    "def get_mappings(url):\n",
    "    df = pd.read_csv(url)\n",
    "    return {\n",
    "        'df': df,\n",
    "        'replace.country': dict(df.dropna(subset=['Name']).set_index('Country')['Name']),\n",
    "        'map.continent': dict(df.set_index('Name')['Continent'])\n",
    "    }"
   ]
  },
  {
   "cell_type": "code",
   "execution_count": 5,
   "id": "intimate-machinery",
   "metadata": {
    "execution": {
     "iopub.execute_input": "2021-11-04T12:12:28.834476Z",
     "iopub.status.busy": "2021-11-04T12:12:28.833784Z",
     "iopub.status.idle": "2021-11-04T12:12:28.907439Z",
     "shell.execute_reply": "2021-11-04T12:12:28.906638Z"
    },
    "papermill": {
     "duration": 0.118082,
     "end_time": "2021-11-04T12:12:28.907590",
     "exception": false,
     "start_time": "2021-11-04T12:12:28.789508",
     "status": "completed"
    },
    "tags": []
   },
   "outputs": [],
   "source": [
    "#hide\n",
    "mapping = get_mappings(paths['mapping'])"
   ]
  },
  {
   "cell_type": "code",
   "execution_count": 6,
   "id": "certified-tactics",
   "metadata": {
    "execution": {
     "iopub.execute_input": "2021-11-04T12:12:28.993129Z",
     "iopub.status.busy": "2021-11-04T12:12:28.992404Z",
     "iopub.status.idle": "2021-11-04T12:12:28.996431Z",
     "shell.execute_reply": "2021-11-04T12:12:28.996958Z"
    },
    "papermill": {
     "duration": 0.049467,
     "end_time": "2021-11-04T12:12:28.997109",
     "exception": false,
     "start_time": "2021-11-04T12:12:28.947642",
     "status": "completed"
    },
    "tags": []
   },
   "outputs": [],
   "source": [
    "#hide\n",
    "def get_template(path):\n",
    "    from urllib.parse import urlparse\n",
    "    if bool(urlparse(path).netloc):\n",
    "        from urllib.request import urlopen\n",
    "        return urlopen(path).read().decode('utf8')\n",
    "    return open(path).read()"
   ]
  },
  {
   "cell_type": "code",
   "execution_count": 7,
   "id": "realistic-blast",
   "metadata": {
    "execution": {
     "iopub.execute_input": "2021-11-04T12:12:29.091667Z",
     "iopub.status.busy": "2021-11-04T12:12:29.090977Z",
     "iopub.status.idle": "2021-11-04T12:12:29.093606Z",
     "shell.execute_reply": "2021-11-04T12:12:29.093035Z"
    },
    "papermill": {
     "duration": 0.054243,
     "end_time": "2021-11-04T12:12:29.093758",
     "exception": false,
     "start_time": "2021-11-04T12:12:29.039515",
     "status": "completed"
    },
    "tags": []
   },
   "outputs": [],
   "source": [
    "#hide\n",
    "def get_frame(name):\n",
    "    url = (\n",
    "        'https://raw.githubusercontent.com/CSSEGISandData/COVID-19/master/csse_covid_19_data/'\n",
    "        f'csse_covid_19_time_series/time_series_covid19_{name}_global.csv')\n",
    "    df = pd.read_csv(url)\n",
    "    # rename countries\n",
    "    df['Country/Region'] = df['Country/Region'].replace(mapping['replace.country'])\n",
    "    return df"
   ]
  },
  {
   "cell_type": "code",
   "execution_count": 8,
   "id": "affiliated-characterization",
   "metadata": {
    "execution": {
     "iopub.execute_input": "2021-11-04T12:12:29.194909Z",
     "iopub.status.busy": "2021-11-04T12:12:29.194205Z",
     "iopub.status.idle": "2021-11-04T12:12:29.196773Z",
     "shell.execute_reply": "2021-11-04T12:12:29.196214Z"
    },
    "papermill": {
     "duration": 0.053915,
     "end_time": "2021-11-04T12:12:29.196910",
     "exception": false,
     "start_time": "2021-11-04T12:12:29.142995",
     "status": "completed"
    },
    "tags": []
   },
   "outputs": [],
   "source": [
    "#hide\n",
    "def get_dates(df):\n",
    "    dt_cols = df.columns[~df.columns.isin(['Province/State', 'Country/Region', 'Lat', 'Long'])]\n",
    "    LAST_DATE_I = -1\n",
    "    # sometimes last column may be empty, then go backwards\n",
    "    for i in range(-1, -len(dt_cols), -1):\n",
    "        if not df[dt_cols[i]].fillna(0).eq(0).all():\n",
    "            LAST_DATE_I = i\n",
    "            break\n",
    "    return LAST_DATE_I, dt_cols"
   ]
  },
  {
   "cell_type": "code",
   "execution_count": 9,
   "id": "recent-optimization",
   "metadata": {
    "execution": {
     "iopub.execute_input": "2021-11-04T12:12:29.285741Z",
     "iopub.status.busy": "2021-11-04T12:12:29.284856Z",
     "iopub.status.idle": "2021-11-04T12:12:29.936139Z",
     "shell.execute_reply": "2021-11-04T12:12:29.935518Z"
    },
    "papermill": {
     "duration": 0.69824,
     "end_time": "2021-11-04T12:12:29.936313",
     "exception": false,
     "start_time": "2021-11-04T12:12:29.238073",
     "status": "completed"
    },
    "tags": []
   },
   "outputs": [],
   "source": [
    "#hide\n",
    "COL_REGION = 'Country/Region'\n",
    "# Confirmed, Recovered, Deaths\n",
    "df = get_frame('confirmed')\n",
    "# dft_: timeseries, dfc_: today country agg\n",
    "dft_cases = df\n",
    "dft_deaths = get_frame('deaths')\n",
    "dft_recovered = get_frame('recovered')\n",
    "LAST_DATE_I, dt_cols = get_dates(df)"
   ]
  },
  {
   "cell_type": "code",
   "execution_count": 10,
   "id": "absolute-copper",
   "metadata": {
    "execution": {
     "iopub.execute_input": "2021-11-04T12:12:30.018893Z",
     "iopub.status.busy": "2021-11-04T12:12:30.018141Z",
     "iopub.status.idle": "2021-11-04T12:12:30.020408Z",
     "shell.execute_reply": "2021-11-04T12:12:30.020952Z"
    },
    "papermill": {
     "duration": 0.047481,
     "end_time": "2021-11-04T12:12:30.021149",
     "exception": false,
     "start_time": "2021-11-04T12:12:29.973668",
     "status": "completed"
    },
    "tags": []
   },
   "outputs": [],
   "source": [
    "#hide\n",
    "LAST_DATE_I, dt_cols = get_dates(df)\n",
    "dt_today =dt_cols[LAST_DATE_I]\n",
    "# dt_5day = dt_cols[LAST_DATE_I - 5]\n",
    "dt_yday = dt_cols[LAST_DATE_I - 1]"
   ]
  },
  {
   "cell_type": "code",
   "execution_count": 11,
   "id": "restricted-sheriff",
   "metadata": {
    "execution": {
     "iopub.execute_input": "2021-11-04T12:12:30.111534Z",
     "iopub.status.busy": "2021-11-04T12:12:30.110839Z",
     "iopub.status.idle": "2021-11-04T12:12:30.118146Z",
     "shell.execute_reply": "2021-11-04T12:12:30.118791Z"
    },
    "papermill": {
     "duration": 0.058016,
     "end_time": "2021-11-04T12:12:30.118991",
     "exception": false,
     "start_time": "2021-11-04T12:12:30.060975",
     "status": "completed"
    },
    "tags": []
   },
   "outputs": [],
   "source": [
    "#hide\n",
    "dfc_cases = dft_cases.groupby(COL_REGION)[dt_today].sum()\n",
    "dfc_deaths = dft_deaths.groupby(COL_REGION)[dt_today].sum()\n",
    "# dfp_cases = dft_cases.groupby(COL_REGION)[dt_5day].sum()\n",
    "# dfp_deaths = dft_deaths.groupby(COL_REGION)[dt_5day].sum()\n",
    "dfp_cases = dft_cases.groupby(COL_REGION)[dt_yday].sum()\n",
    "dfp_deaths = dft_deaths.groupby(COL_REGION)[dt_yday].sum()"
   ]
  },
  {
   "cell_type": "code",
   "execution_count": 12,
   "id": "deluxe-hepatitis",
   "metadata": {
    "execution": {
     "iopub.execute_input": "2021-11-04T12:12:30.209003Z",
     "iopub.status.busy": "2021-11-04T12:12:30.208312Z",
     "iopub.status.idle": "2021-11-04T12:12:30.215971Z",
     "shell.execute_reply": "2021-11-04T12:12:30.215412Z"
    },
    "papermill": {
     "duration": 0.05803,
     "end_time": "2021-11-04T12:12:30.216137",
     "exception": false,
     "start_time": "2021-11-04T12:12:30.158107",
     "status": "completed"
    },
    "tags": []
   },
   "outputs": [],
   "source": [
    "#hide\n",
    "df_table = (pd.DataFrame(dict(Cases = dfc_cases, Deaths = dfc_deaths, PCases = dfp_cases, PDeaths = dfp_deaths))\n",
    "            .sort_values(by = ['Cases','Deaths'], ascending = [False, False])\n",
    "            .reset_index())"
   ]
  },
  {
   "cell_type": "code",
   "execution_count": 13,
   "id": "educational-chancellor",
   "metadata": {
    "execution": {
     "iopub.execute_input": "2021-11-04T12:12:30.315897Z",
     "iopub.status.busy": "2021-11-04T12:12:30.315242Z",
     "iopub.status.idle": "2021-11-04T12:12:30.324004Z",
     "shell.execute_reply": "2021-11-04T12:12:30.324579Z"
    },
    "papermill": {
     "duration": 0.070684,
     "end_time": "2021-11-04T12:12:30.324726",
     "exception": false,
     "start_time": "2021-11-04T12:12:30.254042",
     "status": "completed"
    },
    "tags": []
   },
   "outputs": [
    {
     "data": {
      "text/html": [
       "<div>\n",
       "<style scoped>\n",
       "    .dataframe tbody tr th:only-of-type {\n",
       "        vertical-align: middle;\n",
       "    }\n",
       "\n",
       "    .dataframe tbody tr th {\n",
       "        vertical-align: top;\n",
       "    }\n",
       "\n",
       "    .dataframe thead th {\n",
       "        text-align: right;\n",
       "    }\n",
       "</style>\n",
       "<table border=\"1\" class=\"dataframe\">\n",
       "  <thead>\n",
       "    <tr style=\"text-align: right;\">\n",
       "      <th></th>\n",
       "      <th>Country/Region</th>\n",
       "      <th>Cases</th>\n",
       "      <th>Deaths</th>\n",
       "      <th>PCases</th>\n",
       "      <th>PDeaths</th>\n",
       "      <th>Cases (+)</th>\n",
       "      <th>Deaths (+)</th>\n",
       "      <th>Fatality Rate</th>\n",
       "      <th>Continent</th>\n",
       "    </tr>\n",
       "  </thead>\n",
       "  <tbody>\n",
       "    <tr>\n",
       "      <th>0</th>\n",
       "      <td>US</td>\n",
       "      <td>46252513</td>\n",
       "      <td>750423</td>\n",
       "      <td>46169012</td>\n",
       "      <td>748518</td>\n",
       "      <td>83501</td>\n",
       "      <td>1905</td>\n",
       "      <td>1.62</td>\n",
       "      <td>North America</td>\n",
       "    </tr>\n",
       "    <tr>\n",
       "      <th>1</th>\n",
       "      <td>India</td>\n",
       "      <td>34321025</td>\n",
       "      <td>459652</td>\n",
       "      <td>34308140</td>\n",
       "      <td>459191</td>\n",
       "      <td>12885</td>\n",
       "      <td>461</td>\n",
       "      <td>1.34</td>\n",
       "      <td>Asia</td>\n",
       "    </tr>\n",
       "    <tr>\n",
       "      <th>2</th>\n",
       "      <td>Brazil</td>\n",
       "      <td>21835785</td>\n",
       "      <td>608235</td>\n",
       "      <td>21821124</td>\n",
       "      <td>608071</td>\n",
       "      <td>14661</td>\n",
       "      <td>164</td>\n",
       "      <td>2.79</td>\n",
       "      <td>South America</td>\n",
       "    </tr>\n",
       "    <tr>\n",
       "      <th>3</th>\n",
       "      <td>United Kingdom</td>\n",
       "      <td>9215683</td>\n",
       "      <td>141607</td>\n",
       "      <td>9174153</td>\n",
       "      <td>141390</td>\n",
       "      <td>41530</td>\n",
       "      <td>217</td>\n",
       "      <td>1.54</td>\n",
       "      <td>Europe</td>\n",
       "    </tr>\n",
       "    <tr>\n",
       "      <th>4</th>\n",
       "      <td>Russia</td>\n",
       "      <td>8494589</td>\n",
       "      <td>237619</td>\n",
       "      <td>8455232</td>\n",
       "      <td>236462</td>\n",
       "      <td>39357</td>\n",
       "      <td>1157</td>\n",
       "      <td>2.80</td>\n",
       "      <td>Europe</td>\n",
       "    </tr>\n",
       "  </tbody>\n",
       "</table>\n",
       "</div>"
      ],
      "text/plain": [
       "   Country/Region     Cases  Deaths    PCases  PDeaths  Cases (+)  Deaths (+)  \\\n",
       "0              US  46252513  750423  46169012   748518      83501        1905   \n",
       "1           India  34321025  459652  34308140   459191      12885         461   \n",
       "2          Brazil  21835785  608235  21821124   608071      14661         164   \n",
       "3  United Kingdom   9215683  141607   9174153   141390      41530         217   \n",
       "4          Russia   8494589  237619   8455232   236462      39357        1157   \n",
       "\n",
       "   Fatality Rate      Continent  \n",
       "0           1.62  North America  \n",
       "1           1.34           Asia  \n",
       "2           2.79  South America  \n",
       "3           1.54         Europe  \n",
       "4           2.80         Europe  "
      ]
     },
     "execution_count": 13,
     "metadata": {},
     "output_type": "execute_result"
    }
   ],
   "source": [
    "#hide\n",
    "for c in 'Cases, Deaths'.split(', '):\n",
    "    df_table[f'{c} (+)'] = (df_table[c] - df_table[f'P{c}']).clip(0)\n",
    "    #Clip ça veut dire, les chiffres negatif sont interdit\n",
    "df_table['Fatality Rate'] = (100* df_table['Deaths']/ df_table['Cases']).round(2)\n",
    "df_table['Continent'] = df_table['Country/Region'].map(mapping['map.continent'])\n",
    "df_table.head(5)"
   ]
  },
  {
   "cell_type": "code",
   "execution_count": 14,
   "id": "aboriginal-bulgaria",
   "metadata": {
    "execution": {
     "iopub.execute_input": "2021-11-04T12:12:30.406093Z",
     "iopub.status.busy": "2021-11-04T12:12:30.405452Z",
     "iopub.status.idle": "2021-11-04T12:12:30.408261Z",
     "shell.execute_reply": "2021-11-04T12:12:30.408838Z"
    },
    "papermill": {
     "duration": 0.046324,
     "end_time": "2021-11-04T12:12:30.408986",
     "exception": false,
     "start_time": "2021-11-04T12:12:30.362662",
     "status": "completed"
    },
    "tags": []
   },
   "outputs": [],
   "source": [
    "#hide\n",
    "#delete problematic countries from table\n",
    "df_table = df_table[~df_table['Country/Region'].isin(['Cape Verde', 'Cruise Ship', 'Kosovo'])]"
   ]
  },
  {
   "cell_type": "code",
   "execution_count": 15,
   "id": "fantastic-effect",
   "metadata": {
    "execution": {
     "iopub.execute_input": "2021-11-04T12:12:30.498777Z",
     "iopub.status.busy": "2021-11-04T12:12:30.498101Z",
     "iopub.status.idle": "2021-11-04T12:12:30.520606Z",
     "shell.execute_reply": "2021-11-04T12:12:30.519948Z"
    },
    "papermill": {
     "duration": 0.068435,
     "end_time": "2021-11-04T12:12:30.520798",
     "exception": false,
     "start_time": "2021-11-04T12:12:30.452363",
     "status": "completed"
    },
    "tags": []
   },
   "outputs": [
    {
     "data": {
      "text/html": [
       "<div>\n",
       "<style scoped>\n",
       "    .dataframe tbody tr th:only-of-type {\n",
       "        vertical-align: middle;\n",
       "    }\n",
       "\n",
       "    .dataframe tbody tr th {\n",
       "        vertical-align: top;\n",
       "    }\n",
       "\n",
       "    .dataframe thead th {\n",
       "        text-align: right;\n",
       "    }\n",
       "</style>\n",
       "<table border=\"1\" class=\"dataframe\">\n",
       "  <thead>\n",
       "    <tr style=\"text-align: right;\">\n",
       "      <th></th>\n",
       "      <th>Country/Region</th>\n",
       "      <th>Cases</th>\n",
       "      <th>Deaths</th>\n",
       "      <th>PCases</th>\n",
       "      <th>PDeaths</th>\n",
       "      <th>Cases (+)</th>\n",
       "      <th>Deaths (+)</th>\n",
       "      <th>Fatality Rate</th>\n",
       "      <th>Continent</th>\n",
       "    </tr>\n",
       "  </thead>\n",
       "  <tbody>\n",
       "    <tr>\n",
       "      <th>0</th>\n",
       "      <td>US</td>\n",
       "      <td>46252513</td>\n",
       "      <td>750423</td>\n",
       "      <td>46169012</td>\n",
       "      <td>748518</td>\n",
       "      <td>83501</td>\n",
       "      <td>1905</td>\n",
       "      <td>1.6</td>\n",
       "      <td>North America</td>\n",
       "    </tr>\n",
       "    <tr>\n",
       "      <th>1</th>\n",
       "      <td>India</td>\n",
       "      <td>34321025</td>\n",
       "      <td>459652</td>\n",
       "      <td>34308140</td>\n",
       "      <td>459191</td>\n",
       "      <td>12885</td>\n",
       "      <td>461</td>\n",
       "      <td>1.3</td>\n",
       "      <td>Asia</td>\n",
       "    </tr>\n",
       "    <tr>\n",
       "      <th>2</th>\n",
       "      <td>Brazil</td>\n",
       "      <td>21835785</td>\n",
       "      <td>608235</td>\n",
       "      <td>21821124</td>\n",
       "      <td>608071</td>\n",
       "      <td>14661</td>\n",
       "      <td>164</td>\n",
       "      <td>2.8</td>\n",
       "      <td>South America</td>\n",
       "    </tr>\n",
       "    <tr>\n",
       "      <th>3</th>\n",
       "      <td>United Kingdom</td>\n",
       "      <td>9215683</td>\n",
       "      <td>141607</td>\n",
       "      <td>9174153</td>\n",
       "      <td>141390</td>\n",
       "      <td>41530</td>\n",
       "      <td>217</td>\n",
       "      <td>1.5</td>\n",
       "      <td>Europe</td>\n",
       "    </tr>\n",
       "    <tr>\n",
       "      <th>4</th>\n",
       "      <td>Russia</td>\n",
       "      <td>8494589</td>\n",
       "      <td>237619</td>\n",
       "      <td>8455232</td>\n",
       "      <td>236462</td>\n",
       "      <td>39357</td>\n",
       "      <td>1157</td>\n",
       "      <td>2.8</td>\n",
       "      <td>Europe</td>\n",
       "    </tr>\n",
       "  </tbody>\n",
       "</table>\n",
       "</div>"
      ],
      "text/plain": [
       "   Country/Region     Cases  Deaths    PCases  PDeaths  Cases (+)  Deaths (+)  \\\n",
       "0              US  46252513  750423  46169012   748518      83501        1905   \n",
       "1           India  34321025  459652  34308140   459191      12885         461   \n",
       "2          Brazil  21835785  608235  21821124   608071      14661         164   \n",
       "3  United Kingdom   9215683  141607   9174153   141390      41530         217   \n",
       "4          Russia   8494589  237619   8455232   236462      39357        1157   \n",
       "\n",
       "   Fatality Rate      Continent  \n",
       "0            1.6  North America  \n",
       "1            1.3           Asia  \n",
       "2            2.8  South America  \n",
       "3            1.5         Europe  \n",
       "4            2.8         Europe  "
      ]
     },
     "execution_count": 15,
     "metadata": {},
     "output_type": "execute_result"
    }
   ],
   "source": [
    "#hide\n",
    "df_table = (pd.DataFrame(dict(Cases=dfc_cases, Deaths=dfc_deaths, PCases=dfp_cases, PDeaths=dfp_deaths))\n",
    "             .sort_values(by=['Cases', 'Deaths'], ascending=[False, False])\n",
    "             .reset_index())\n",
    "df_table.rename(columns={'index': 'Country/Region'}, inplace=True)\n",
    "for c in 'Cases, Deaths'.split(', '):\n",
    "    df_table[f'{c} (+)'] = (df_table[c] - df_table[f'P{c}']).clip(0)  # DATA BUG\n",
    "df_table['Fatality Rate'] = (100 * df_table['Deaths'] / df_table['Cases']).round(1)\n",
    "df_table['Continent'] = df_table['Country/Region'].map(mapping['map.continent'])\n",
    "df_table.head(5)"
   ]
  },
  {
   "cell_type": "code",
   "execution_count": 16,
   "id": "fewer-occasion",
   "metadata": {
    "execution": {
     "iopub.execute_input": "2021-11-04T12:12:30.608581Z",
     "iopub.status.busy": "2021-11-04T12:12:30.607914Z",
     "iopub.status.idle": "2021-11-04T12:12:30.610695Z",
     "shell.execute_reply": "2021-11-04T12:12:30.611182Z"
    },
    "papermill": {
     "duration": 0.047223,
     "end_time": "2021-11-04T12:12:30.611320",
     "exception": false,
     "start_time": "2021-11-04T12:12:30.564097",
     "status": "completed"
    },
    "tags": []
   },
   "outputs": [],
   "source": [
    "#hide\n",
    "#delete problematic countries from table\n",
    "df_table = df_table[~df_table['Country/Region'].isin(['Cape Verde', 'Cruise Ship', 'Kosovo'])]"
   ]
  },
  {
   "cell_type": "code",
   "execution_count": 17,
   "id": "related-center",
   "metadata": {
    "execution": {
     "iopub.execute_input": "2021-11-04T12:12:30.708961Z",
     "iopub.status.busy": "2021-11-04T12:12:30.708251Z",
     "iopub.status.idle": "2021-11-04T12:12:30.712205Z",
     "shell.execute_reply": "2021-11-04T12:12:30.712742Z"
    },
    "papermill": {
     "duration": 0.063703,
     "end_time": "2021-11-04T12:12:30.712908",
     "exception": false,
     "start_time": "2021-11-04T12:12:30.649205",
     "status": "completed"
    },
    "tags": []
   },
   "outputs": [],
   "source": [
    "#hide\n",
    "metrics = [df_table.columns[index] for index in [1,2,5,6]]\n",
    "# s_china = df_table[df_table['Country/Region'].eq('China')][metrics].sum().add_prefix('China ')\n",
    "s_us = df_table[df_table['Country/Region'].eq('US')][metrics].sum().add_prefix('US ')\n",
    "s_eu = df_table[df_table['Continent'].eq('Europe')][metrics].sum().add_prefix('EU ')\n",
    "s_ind = df_table[df_table['Country/Region'].eq('India')][metrics].sum().add_prefix('India ')\n",
    "summary = {'updated': pd.to_datetime(dt_today), 'since': pd.to_datetime(dt_yday)}\n",
    "summary = {'updated': pd.to_datetime(dt_today), 'since': pd.to_datetime(dt_yday)}\n",
    "summary = {**summary, **df_table[metrics].sum(), **s_ind, **s_us, **s_eu}"
   ]
  },
  {
   "cell_type": "code",
   "execution_count": 18,
   "id": "engaging-syndrome",
   "metadata": {
    "execution": {
     "iopub.execute_input": "2021-11-04T12:12:30.801037Z",
     "iopub.status.busy": "2021-11-04T12:12:30.800379Z",
     "iopub.status.idle": "2021-11-04T12:12:30.815143Z",
     "shell.execute_reply": "2021-11-04T12:12:30.815642Z"
    },
    "papermill": {
     "duration": 0.059625,
     "end_time": "2021-11-04T12:12:30.815806",
     "exception": false,
     "start_time": "2021-11-04T12:12:30.756181",
     "status": "completed"
    },
    "tags": []
   },
   "outputs": [],
   "source": [
    "#hide\n",
    "dft_ct_new_cases = dft_cases.groupby(COL_REGION)[dt_cols].sum().diff(axis=1).fillna(0).astype(int)"
   ]
  },
  {
   "cell_type": "code",
   "execution_count": 19,
   "id": "neutral-assignment",
   "metadata": {
    "execution": {
     "iopub.execute_input": "2021-11-04T12:12:30.900267Z",
     "iopub.status.busy": "2021-11-04T12:12:30.899664Z",
     "iopub.status.idle": "2021-11-04T12:12:30.902213Z",
     "shell.execute_reply": "2021-11-04T12:12:30.901570Z"
    },
    "papermill": {
     "duration": 0.047024,
     "end_time": "2021-11-04T12:12:30.902359",
     "exception": false,
     "start_time": "2021-11-04T12:12:30.855335",
     "status": "completed"
    },
    "tags": []
   },
   "outputs": [],
   "source": [
    "#hide\n",
    "everydaycases = dft_ct_new_cases.cumsum(axis=1)"
   ]
  },
  {
   "cell_type": "code",
   "execution_count": 20,
   "id": "parliamentary-calgary",
   "metadata": {
    "execution": {
     "iopub.execute_input": "2021-11-04T12:12:30.988431Z",
     "iopub.status.busy": "2021-11-04T12:12:30.987650Z",
     "iopub.status.idle": "2021-11-04T12:12:31.677684Z",
     "shell.execute_reply": "2021-11-04T12:12:31.676432Z"
    },
    "papermill": {
     "duration": 0.732497,
     "end_time": "2021-11-04T12:12:31.677846",
     "exception": false,
     "start_time": "2021-11-04T12:12:30.945349",
     "status": "completed"
    },
    "tags": []
   },
   "outputs": [],
   "source": [
    "#hide\n",
    "import pandas as pd\n",
    "import matplotlib.pyplot as plt\n",
    "import matplotlib.ticker as ticker\n",
    "import matplotlib.animation as animation\n",
    "from IPython.display import HTML"
   ]
  },
  {
   "cell_type": "code",
   "execution_count": 21,
   "id": "lasting-extraction",
   "metadata": {
    "execution": {
     "iopub.execute_input": "2021-11-04T12:12:31.764607Z",
     "iopub.status.busy": "2021-11-04T12:12:31.763997Z",
     "iopub.status.idle": "2021-11-04T12:12:31.770118Z",
     "shell.execute_reply": "2021-11-04T12:12:31.770808Z"
    },
    "papermill": {
     "duration": 0.054079,
     "end_time": "2021-11-04T12:12:31.770945",
     "exception": false,
     "start_time": "2021-11-04T12:12:31.716866",
     "status": "completed"
    },
    "tags": []
   },
   "outputs": [],
   "source": [
    "#hide\n",
    "t = everydaycases.stack()"
   ]
  },
  {
   "cell_type": "code",
   "execution_count": 22,
   "id": "premier-sleeve",
   "metadata": {
    "execution": {
     "iopub.execute_input": "2021-11-04T12:12:31.851068Z",
     "iopub.status.busy": "2021-11-04T12:12:31.850438Z",
     "iopub.status.idle": "2021-11-04T12:12:31.860594Z",
     "shell.execute_reply": "2021-11-04T12:12:31.860026Z"
    },
    "papermill": {
     "duration": 0.052328,
     "end_time": "2021-11-04T12:12:31.860732",
     "exception": false,
     "start_time": "2021-11-04T12:12:31.808404",
     "status": "completed"
    },
    "tags": []
   },
   "outputs": [],
   "source": [
    "#hide\n",
    "g = t.reset_index(['Country/Region'])"
   ]
  },
  {
   "cell_type": "code",
   "execution_count": 23,
   "id": "distributed-pittsburgh",
   "metadata": {
    "execution": {
     "iopub.execute_input": "2021-11-04T12:12:31.944083Z",
     "iopub.status.busy": "2021-11-04T12:12:31.943362Z",
     "iopub.status.idle": "2021-11-04T12:12:31.947659Z",
     "shell.execute_reply": "2021-11-04T12:12:31.948441Z"
    },
    "papermill": {
     "duration": 0.048887,
     "end_time": "2021-11-04T12:12:31.948603",
     "exception": false,
     "start_time": "2021-11-04T12:12:31.899716",
     "status": "completed"
    },
    "tags": []
   },
   "outputs": [],
   "source": [
    "#hide\n",
    "g.index.name = 'date'"
   ]
  },
  {
   "cell_type": "code",
   "execution_count": 24,
   "id": "naked-donor",
   "metadata": {
    "execution": {
     "iopub.execute_input": "2021-11-04T12:12:32.033804Z",
     "iopub.status.busy": "2021-11-04T12:12:32.033115Z",
     "iopub.status.idle": "2021-11-04T12:12:32.035625Z",
     "shell.execute_reply": "2021-11-04T12:12:32.034797Z"
    },
    "papermill": {
     "duration": 0.045329,
     "end_time": "2021-11-04T12:12:32.035748",
     "exception": false,
     "start_time": "2021-11-04T12:12:31.990419",
     "status": "completed"
    },
    "tags": []
   },
   "outputs": [],
   "source": [
    "# #hide\n",
    "# g = g.reset_index(['date'])"
   ]
  },
  {
   "cell_type": "code",
   "execution_count": 25,
   "id": "incomplete-mustang",
   "metadata": {
    "execution": {
     "iopub.execute_input": "2021-11-04T12:12:32.119067Z",
     "iopub.status.busy": "2021-11-04T12:12:32.118445Z",
     "iopub.status.idle": "2021-11-04T12:12:32.120981Z",
     "shell.execute_reply": "2021-11-04T12:12:32.120478Z"
    },
    "papermill": {
     "duration": 0.043123,
     "end_time": "2021-11-04T12:12:32.121112",
     "exception": false,
     "start_time": "2021-11-04T12:12:32.077989",
     "status": "completed"
    },
    "tags": []
   },
   "outputs": [],
   "source": [
    "#hide\n",
    "# g.head()"
   ]
  },
  {
   "cell_type": "code",
   "execution_count": 26,
   "id": "specific-kruger",
   "metadata": {
    "execution": {
     "iopub.execute_input": "2021-11-04T12:12:32.205202Z",
     "iopub.status.busy": "2021-11-04T12:12:32.204496Z",
     "iopub.status.idle": "2021-11-04T12:12:32.208712Z",
     "shell.execute_reply": "2021-11-04T12:12:32.209241Z"
    },
    "papermill": {
     "duration": 0.050308,
     "end_time": "2021-11-04T12:12:32.209408",
     "exception": false,
     "start_time": "2021-11-04T12:12:32.159100",
     "status": "completed"
    },
    "tags": []
   },
   "outputs": [],
   "source": [
    "#hide\n",
    "# g.columns = ['date','country','cases']"
   ]
  },
  {
   "cell_type": "code",
   "execution_count": 27,
   "id": "tender-conversion",
   "metadata": {
    "execution": {
     "iopub.execute_input": "2021-11-04T12:12:32.306821Z",
     "iopub.status.busy": "2021-11-04T12:12:32.306106Z",
     "iopub.status.idle": "2021-11-04T12:12:32.308290Z",
     "shell.execute_reply": "2021-11-04T12:12:32.307623Z"
    },
    "papermill": {
     "duration": 0.057759,
     "end_time": "2021-11-04T12:12:32.308431",
     "exception": false,
     "start_time": "2021-11-04T12:12:32.250672",
     "status": "completed"
    },
    "tags": []
   },
   "outputs": [],
   "source": [
    "#hide\n",
    "# g['continent'] = g.country"
   ]
  },
  {
   "cell_type": "code",
   "execution_count": 28,
   "id": "substantial-wilderness",
   "metadata": {
    "execution": {
     "iopub.execute_input": "2021-11-04T12:12:32.393310Z",
     "iopub.status.busy": "2021-11-04T12:12:32.392671Z",
     "iopub.status.idle": "2021-11-04T12:12:32.394814Z",
     "shell.execute_reply": "2021-11-04T12:12:32.395337Z"
    },
    "papermill": {
     "duration": 0.045736,
     "end_time": "2021-11-04T12:12:32.395490",
     "exception": false,
     "start_time": "2021-11-04T12:12:32.349754",
     "status": "completed"
    },
    "tags": []
   },
   "outputs": [],
   "source": [
    "#hide\n",
    "# cols = list(g.columns.values)"
   ]
  },
  {
   "cell_type": "code",
   "execution_count": 29,
   "id": "solved-farming",
   "metadata": {
    "execution": {
     "iopub.execute_input": "2021-11-04T12:12:32.480630Z",
     "iopub.status.busy": "2021-11-04T12:12:32.479890Z",
     "iopub.status.idle": "2021-11-04T12:12:32.483855Z",
     "shell.execute_reply": "2021-11-04T12:12:32.484365Z"
    },
    "papermill": {
     "duration": 0.047962,
     "end_time": "2021-11-04T12:12:32.484553",
     "exception": false,
     "start_time": "2021-11-04T12:12:32.436591",
     "status": "completed"
    },
    "tags": []
   },
   "outputs": [],
   "source": [
    "#hide\n",
    "# cols.insert(0, cols.pop())"
   ]
  },
  {
   "cell_type": "code",
   "execution_count": 30,
   "id": "executed-adoption",
   "metadata": {
    "execution": {
     "iopub.execute_input": "2021-11-04T12:12:32.568137Z",
     "iopub.status.busy": "2021-11-04T12:12:32.567497Z",
     "iopub.status.idle": "2021-11-04T12:12:32.571381Z",
     "shell.execute_reply": "2021-11-04T12:12:32.571916Z"
    },
    "papermill": {
     "duration": 0.049708,
     "end_time": "2021-11-04T12:12:32.572066",
     "exception": false,
     "start_time": "2021-11-04T12:12:32.522358",
     "status": "completed"
    },
    "tags": []
   },
   "outputs": [],
   "source": [
    "#hide\n",
    "# g = g[cols]"
   ]
  },
  {
   "cell_type": "code",
   "execution_count": 31,
   "id": "subject-dublin",
   "metadata": {
    "execution": {
     "iopub.execute_input": "2021-11-04T12:12:32.654207Z",
     "iopub.status.busy": "2021-11-04T12:12:32.653538Z",
     "iopub.status.idle": "2021-11-04T12:12:32.656254Z",
     "shell.execute_reply": "2021-11-04T12:12:32.655721Z"
    },
    "papermill": {
     "duration": 0.04471,
     "end_time": "2021-11-04T12:12:32.656407",
     "exception": false,
     "start_time": "2021-11-04T12:12:32.611697",
     "status": "completed"
    },
    "tags": []
   },
   "outputs": [],
   "source": [
    "#hide\n",
    "# g['continent'] = g['continent'].map(mapping['map.continent'])"
   ]
  },
  {
   "cell_type": "code",
   "execution_count": 32,
   "id": "freelance-scout",
   "metadata": {
    "execution": {
     "iopub.execute_input": "2021-11-04T12:12:32.745135Z",
     "iopub.status.busy": "2021-11-04T12:12:32.744442Z",
     "iopub.status.idle": "2021-11-04T12:12:32.747273Z",
     "shell.execute_reply": "2021-11-04T12:12:32.746749Z"
    },
    "papermill": {
     "duration": 0.051959,
     "end_time": "2021-11-04T12:12:32.747429",
     "exception": false,
     "start_time": "2021-11-04T12:12:32.695470",
     "status": "completed"
    },
    "tags": []
   },
   "outputs": [],
   "source": [
    "#hide\n",
    "# g.head()"
   ]
  },
  {
   "cell_type": "code",
   "execution_count": 33,
   "id": "limited-engine",
   "metadata": {
    "execution": {
     "iopub.execute_input": "2021-11-04T12:12:32.832699Z",
     "iopub.status.busy": "2021-11-04T12:12:32.832009Z",
     "iopub.status.idle": "2021-11-04T12:12:32.834740Z",
     "shell.execute_reply": "2021-11-04T12:12:32.834012Z"
    },
    "papermill": {
     "duration": 0.047994,
     "end_time": "2021-11-04T12:12:32.834875",
     "exception": false,
     "start_time": "2021-11-04T12:12:32.786881",
     "status": "completed"
    },
    "tags": []
   },
   "outputs": [],
   "source": [
    "# hide\n",
    "# g['date'] = g['date'].astype('datetime64[ns]')"
   ]
  },
  {
   "cell_type": "code",
   "execution_count": 34,
   "id": "sophisticated-supervisor",
   "metadata": {
    "execution": {
     "iopub.execute_input": "2021-11-04T12:12:32.925295Z",
     "iopub.status.busy": "2021-11-04T12:12:32.924573Z",
     "iopub.status.idle": "2021-11-04T12:12:32.926937Z",
     "shell.execute_reply": "2021-11-04T12:12:32.927533Z"
    },
    "papermill": {
     "duration": 0.048196,
     "end_time": "2021-11-04T12:12:32.927692",
     "exception": false,
     "start_time": "2021-11-04T12:12:32.879496",
     "status": "completed"
    },
    "tags": []
   },
   "outputs": [],
   "source": [
    "#hide\n",
    "# g['date'] = g.date.dt.dayofyear"
   ]
  },
  {
   "cell_type": "code",
   "execution_count": 35,
   "id": "inside-dubai",
   "metadata": {
    "execution": {
     "iopub.execute_input": "2021-11-04T12:12:33.017357Z",
     "iopub.status.busy": "2021-11-04T12:12:33.016642Z",
     "iopub.status.idle": "2021-11-04T12:12:33.019625Z",
     "shell.execute_reply": "2021-11-04T12:12:33.019046Z"
    },
    "papermill": {
     "duration": 0.045454,
     "end_time": "2021-11-04T12:12:33.019744",
     "exception": false,
     "start_time": "2021-11-04T12:12:32.974290",
     "status": "completed"
    },
    "tags": []
   },
   "outputs": [],
   "source": [
    "#hide\n",
    "# g = g.rename(columns= {'continent':'group','country':'name','cases':'value'})"
   ]
  },
  {
   "cell_type": "code",
   "execution_count": 36,
   "id": "fleet-motorcycle",
   "metadata": {
    "execution": {
     "iopub.execute_input": "2021-11-04T12:12:33.103848Z",
     "iopub.status.busy": "2021-11-04T12:12:33.103145Z",
     "iopub.status.idle": "2021-11-04T12:12:33.105757Z",
     "shell.execute_reply": "2021-11-04T12:12:33.105056Z"
    },
    "papermill": {
     "duration": 0.045445,
     "end_time": "2021-11-04T12:12:33.105888",
     "exception": false,
     "start_time": "2021-11-04T12:12:33.060443",
     "status": "completed"
    },
    "tags": []
   },
   "outputs": [],
   "source": [
    "#hide\n",
    "# cols = ['name','group','day','value']"
   ]
  },
  {
   "cell_type": "code",
   "execution_count": 37,
   "id": "continued-sleeping",
   "metadata": {
    "execution": {
     "iopub.execute_input": "2021-11-04T12:12:33.197046Z",
     "iopub.status.busy": "2021-11-04T12:12:33.196327Z",
     "iopub.status.idle": "2021-11-04T12:12:33.200426Z",
     "shell.execute_reply": "2021-11-04T12:12:33.201079Z"
    },
    "papermill": {
     "duration": 0.04892,
     "end_time": "2021-11-04T12:12:33.201240",
     "exception": false,
     "start_time": "2021-11-04T12:12:33.152320",
     "status": "completed"
    },
    "tags": []
   },
   "outputs": [],
   "source": [
    "#hide\n",
    "# g.rename(columns= {'date':'day'},inplace = True)"
   ]
  },
  {
   "cell_type": "code",
   "execution_count": 38,
   "id": "major-fight",
   "metadata": {
    "execution": {
     "iopub.execute_input": "2021-11-04T12:12:33.292530Z",
     "iopub.status.busy": "2021-11-04T12:12:33.291791Z",
     "iopub.status.idle": "2021-11-04T12:12:33.294331Z",
     "shell.execute_reply": "2021-11-04T12:12:33.293619Z"
    },
    "papermill": {
     "duration": 0.05109,
     "end_time": "2021-11-04T12:12:33.294467",
     "exception": false,
     "start_time": "2021-11-04T12:12:33.243377",
     "status": "completed"
    },
    "tags": []
   },
   "outputs": [],
   "source": [
    "#hide\n",
    "# g = g[cols]"
   ]
  },
  {
   "cell_type": "code",
   "execution_count": 39,
   "id": "structured-mobile",
   "metadata": {
    "execution": {
     "iopub.execute_input": "2021-11-04T12:12:33.379613Z",
     "iopub.status.busy": "2021-11-04T12:12:33.378940Z",
     "iopub.status.idle": "2021-11-04T12:12:33.381328Z",
     "shell.execute_reply": "2021-11-04T12:12:33.380672Z"
    },
    "papermill": {
     "duration": 0.045579,
     "end_time": "2021-11-04T12:12:33.381456",
     "exception": false,
     "start_time": "2021-11-04T12:12:33.335877",
     "status": "completed"
    },
    "tags": []
   },
   "outputs": [],
   "source": [
    "# #hide\n",
    "# g = g[g.group.notna()]"
   ]
  },
  {
   "cell_type": "code",
   "execution_count": 40,
   "id": "determined-closing",
   "metadata": {
    "execution": {
     "iopub.execute_input": "2021-11-04T12:12:33.466335Z",
     "iopub.status.busy": "2021-11-04T12:12:33.465689Z",
     "iopub.status.idle": "2021-11-04T12:12:33.467951Z",
     "shell.execute_reply": "2021-11-04T12:12:33.468459Z"
    },
    "papermill": {
     "duration": 0.048443,
     "end_time": "2021-11-04T12:12:33.468658",
     "exception": false,
     "start_time": "2021-11-04T12:12:33.420215",
     "status": "completed"
    },
    "tags": []
   },
   "outputs": [],
   "source": [
    "# #hide\n",
    "# colors = dict(zip(\n",
    "#     [\"Oceania\", \"Europe\", \"Asia\", \"South America\", \"Middle East\", \"North America\", \"Africa\"],\n",
    "#     [\"#adb0ff\", \"#ffb3ff\", \"#90d595\", \"#e48381\", \"#aafbff\", \"#f7bb5f\", \"#eafb50\"]\n",
    "# ))\n",
    "# group_lk = g.set_index('name')['group'].to_dict()"
   ]
  },
  {
   "cell_type": "code",
   "execution_count": null,
   "id": "gross-drinking",
   "metadata": {
    "papermill": {
     "duration": 0.03784,
     "end_time": "2021-11-04T12:12:33.546382",
     "exception": false,
     "start_time": "2021-11-04T12:12:33.508542",
     "status": "completed"
    },
    "tags": []
   },
   "outputs": [],
   "source": []
  },
  {
   "cell_type": "code",
   "execution_count": 41,
   "id": "subject-macintosh",
   "metadata": {
    "execution": {
     "iopub.execute_input": "2021-11-04T12:12:33.628062Z",
     "iopub.status.busy": "2021-11-04T12:12:33.627383Z",
     "iopub.status.idle": "2021-11-04T12:12:33.630960Z",
     "shell.execute_reply": "2021-11-04T12:12:33.631470Z"
    },
    "papermill": {
     "duration": 0.047708,
     "end_time": "2021-11-04T12:12:33.631606",
     "exception": false,
     "start_time": "2021-11-04T12:12:33.583898",
     "status": "completed"
    },
    "tags": []
   },
   "outputs": [],
   "source": [
    "# #hide\n",
    "# fig, ax = plt.subplots(figsize=(15, 8))\n",
    "\n",
    "# def draw_barchart(current_day):\n",
    "#     dff = g[g['day'].eq(current_day)].sort_values(by='value', ascending=True).tail(10)\n",
    "#     ax.clear()\n",
    "#     ax.barh(dff['name'], dff['value'], color=[colors[group_lk[x]] for x in dff['name']])\n",
    "#     dx = dff['value'].max() / 200\n",
    "    \n",
    "#     for i, (value, name) in enumerate(zip(dff['value'], dff['name'])):\n",
    "#         ax.text(value-dx, i,     name,           size=14, weight=600, ha='right', va='bottom')\n",
    "#         ax.text(value-dx, i-.25, group_lk[name], size=10, color='#444444', ha='right', va='baseline')\n",
    "#         ax.text(value+dx, i,     f'{value:,.0f}',  size=14, ha='left',  va='center')\n",
    "#     ax.text(1, 0.4, current_day, transform=ax.transAxes, color='#777777', size=46, ha='right', weight=800)\n",
    "#     ax.text(0, 1.06, 'Population (thousands)', transform=ax.transAxes, size=12, color='#777777')\n",
    "#     ax.xaxis.set_major_formatter(ticker.StrMethodFormatter('{x:,.0f}'))\n",
    "#     ax.xaxis.set_ticks_position('top')\n",
    "#     ax.tick_params(axis='x', colors='#777777', labelsize=12)\n",
    "#     ax.set_yticks([])\n",
    "#     ax.margins(0, 0.01)\n",
    "#     ax.grid(which='major', axis='x', linestyle='-')\n",
    "#     ax.set_axisbelow(True)\n",
    "    \n",
    "#     ax.text(0, 1.15, 'Coronavirus',\n",
    "#             transform=ax.transAxes, size=24, weight=600, ha='left', va='top')\n",
    "# #     ax.text(1, 0, 'by @pratapvardhan; credit @jburnmurdoch', transform=ax.transAxes, color='#777777', ha='right',\n",
    "# #             bbox=dict(facecolor='white', alpha=0.8, edgecolor='white'))\n",
    "#     plt.box(False)"
   ]
  },
  {
   "cell_type": "code",
   "execution_count": 42,
   "id": "sexual-wages",
   "metadata": {
    "execution": {
     "iopub.execute_input": "2021-11-04T12:12:33.717781Z",
     "iopub.status.busy": "2021-11-04T12:12:33.717122Z",
     "iopub.status.idle": "2021-11-04T12:12:33.719689Z",
     "shell.execute_reply": "2021-11-04T12:12:33.719129Z"
    },
    "papermill": {
     "duration": 0.045023,
     "end_time": "2021-11-04T12:12:33.719831",
     "exception": false,
     "start_time": "2021-11-04T12:12:33.674808",
     "status": "completed"
    },
    "tags": []
   },
   "outputs": [],
   "source": [
    "# #hide_input\n",
    "# fig, ax = plt.subplots(figsize=(15, 8))\n",
    "# animator = animation.FuncAnimation(fig, draw_barchart, frames=range(g.day.values.min(), g.day.values.max()))\n",
    "# HTML(animator.to_jshtml())\n",
    "# # or use animator.to_html5_video() or animator.save() "
   ]
  },
  {
   "cell_type": "code",
   "execution_count": null,
   "id": "australian-container",
   "metadata": {
    "papermill": {
     "duration": 0.038708,
     "end_time": "2021-11-04T12:12:33.800367",
     "exception": false,
     "start_time": "2021-11-04T12:12:33.761659",
     "status": "completed"
    },
    "tags": []
   },
   "outputs": [],
   "source": []
  },
  {
   "cell_type": "code",
   "execution_count": null,
   "id": "mediterranean-pontiac",
   "metadata": {
    "papermill": {
     "duration": 0.039387,
     "end_time": "2021-11-04T12:12:33.879331",
     "exception": false,
     "start_time": "2021-11-04T12:12:33.839944",
     "status": "completed"
    },
    "tags": []
   },
   "outputs": [],
   "source": []
  },
  {
   "cell_type": "code",
   "execution_count": null,
   "id": "aging-legislature",
   "metadata": {
    "papermill": {
     "duration": 0.039017,
     "end_time": "2021-11-04T12:12:33.958453",
     "exception": false,
     "start_time": "2021-11-04T12:12:33.919436",
     "status": "completed"
    },
    "tags": []
   },
   "outputs": [],
   "source": []
  }
 ],
 "metadata": {
  "kernelspec": {
   "display_name": "Python 3",
   "language": "python",
   "name": "python3"
  },
  "language_info": {
   "codemirror_mode": {
    "name": "ipython",
    "version": 3
   },
   "file_extension": ".py",
   "mimetype": "text/x-python",
   "name": "python",
   "nbconvert_exporter": "python",
   "pygments_lexer": "ipython3",
   "version": "3.6.15"
  },
  "papermill": {
   "duration": 7.89562,
   "end_time": "2021-11-04T12:12:34.407549",
   "environment_variables": {},
   "exception": null,
   "input_path": "2020-03-21-covid19exp.ipynb",
   "output_path": "2020-03-21-covid19exp.ipynb",
   "parameters": {},
   "start_time": "2021-11-04T12:12:26.511929",
   "version": "2.0.0"
  }
 },
 "nbformat": 4,
 "nbformat_minor": 5
}