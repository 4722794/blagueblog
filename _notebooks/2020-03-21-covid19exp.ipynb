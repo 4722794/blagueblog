{
 "cells": [
  {
   "cell_type": "markdown",
   "metadata": {
    "papermill": {
     "duration": 0.035248,
     "end_time": "2021-01-08T00:27:01.592914",
     "exception": false,
     "start_time": "2021-01-08T00:27:01.557666",
     "status": "completed"
    },
    "tags": []
   },
   "source": [
    "# COVID-19 Case Race\n",
    "> A race chart to see rising cases around the world\n",
    "\n",
    "- author: Hargun Oberoi\n",
    "- image: images/covid-overview.png\n",
    "- hide: false\n",
    "- badges: false"
   ]
  },
  {
   "cell_type": "code",
   "execution_count": 1,
   "metadata": {
    "execution": {
     "iopub.execute_input": "2021-01-08T00:27:01.666656Z",
     "iopub.status.busy": "2021-01-08T00:27:01.666022Z",
     "iopub.status.idle": "2021-01-08T00:27:02.013152Z",
     "shell.execute_reply": "2021-01-08T00:27:02.013987Z"
    },
    "papermill": {
     "duration": 0.390051,
     "end_time": "2021-01-08T00:27:02.014293",
     "exception": false,
     "start_time": "2021-01-08T00:27:01.624242",
     "status": "completed"
    },
    "tags": []
   },
   "outputs": [],
   "source": [
    "#hide\n",
    "import numpy as np\n",
    "import pandas as pd\n",
    "from jinja2 import Template\n",
    "from IPython.display import HTML"
   ]
  },
  {
   "cell_type": "code",
   "execution_count": 2,
   "metadata": {
    "execution": {
     "iopub.execute_input": "2021-01-08T00:27:02.084080Z",
     "iopub.status.busy": "2021-01-08T00:27:02.083022Z",
     "iopub.status.idle": "2021-01-08T00:27:02.085230Z",
     "shell.execute_reply": "2021-01-08T00:27:02.086048Z"
    },
    "papermill": {
     "duration": 0.040778,
     "end_time": "2021-01-08T00:27:02.086286",
     "exception": false,
     "start_time": "2021-01-08T00:27:02.045508",
     "status": "completed"
    },
    "tags": []
   },
   "outputs": [],
   "source": [
    "#hide\n",
    "\n",
    "# FETCH\n",
    "base_url = 'https://raw.githubusercontent.com/pratapvardhan/notebooks/master/covid19/'\n",
    "paths = {\n",
    "    'mapping': base_url + 'mapping_countries.csv',\n",
    "    'overview': base_url + 'overview.tpl'\n",
    "}"
   ]
  },
  {
   "cell_type": "code",
   "execution_count": 3,
   "metadata": {
    "execution": {
     "iopub.execute_input": "2021-01-08T00:27:02.161240Z",
     "iopub.status.busy": "2021-01-08T00:27:02.156100Z",
     "iopub.status.idle": "2021-01-08T00:27:02.164570Z",
     "shell.execute_reply": "2021-01-08T00:27:02.164009Z"
    },
    "papermill": {
     "duration": 0.047615,
     "end_time": "2021-01-08T00:27:02.164708",
     "exception": false,
     "start_time": "2021-01-08T00:27:02.117093",
     "status": "completed"
    },
    "tags": []
   },
   "outputs": [
    {
     "data": {
      "text/plain": [
       "'https://raw.githubusercontent.com/pratapvardhan/notebooks/master/covid19/mapping_countries.csv'"
      ]
     },
     "execution_count": 3,
     "metadata": {},
     "output_type": "execute_result"
    }
   ],
   "source": [
    "#hide\n",
    "paths['mapping']"
   ]
  },
  {
   "cell_type": "code",
   "execution_count": 4,
   "metadata": {
    "execution": {
     "iopub.execute_input": "2021-01-08T00:27:02.233712Z",
     "iopub.status.busy": "2021-01-08T00:27:02.233075Z",
     "iopub.status.idle": "2021-01-08T00:27:02.235591Z",
     "shell.execute_reply": "2021-01-08T00:27:02.236177Z"
    },
    "papermill": {
     "duration": 0.040515,
     "end_time": "2021-01-08T00:27:02.236361",
     "exception": false,
     "start_time": "2021-01-08T00:27:02.195846",
     "status": "completed"
    },
    "tags": []
   },
   "outputs": [],
   "source": [
    "#hide\n",
    "def get_mappings(url):\n",
    "    df = pd.read_csv(url)\n",
    "    return {\n",
    "        'df': df,\n",
    "        'replace.country': dict(df.dropna(subset=['Name']).set_index('Country')['Name']),\n",
    "        'map.continent': dict(df.set_index('Name')['Continent'])\n",
    "    }"
   ]
  },
  {
   "cell_type": "code",
   "execution_count": 5,
   "metadata": {
    "execution": {
     "iopub.execute_input": "2021-01-08T00:27:02.305287Z",
     "iopub.status.busy": "2021-01-08T00:27:02.304651Z",
     "iopub.status.idle": "2021-01-08T00:27:02.357120Z",
     "shell.execute_reply": "2021-01-08T00:27:02.356122Z"
    },
    "papermill": {
     "duration": 0.089913,
     "end_time": "2021-01-08T00:27:02.357344",
     "exception": false,
     "start_time": "2021-01-08T00:27:02.267431",
     "status": "completed"
    },
    "tags": []
   },
   "outputs": [],
   "source": [
    "#hide\n",
    "mapping = get_mappings(paths['mapping'])"
   ]
  },
  {
   "cell_type": "code",
   "execution_count": 6,
   "metadata": {
    "execution": {
     "iopub.execute_input": "2021-01-08T00:27:02.428717Z",
     "iopub.status.busy": "2021-01-08T00:27:02.428051Z",
     "iopub.status.idle": "2021-01-08T00:27:02.430434Z",
     "shell.execute_reply": "2021-01-08T00:27:02.431018Z"
    },
    "papermill": {
     "duration": 0.041211,
     "end_time": "2021-01-08T00:27:02.431172",
     "exception": false,
     "start_time": "2021-01-08T00:27:02.389961",
     "status": "completed"
    },
    "tags": []
   },
   "outputs": [],
   "source": [
    "#hide\n",
    "def get_template(path):\n",
    "    from urllib.parse import urlparse\n",
    "    if bool(urlparse(path).netloc):\n",
    "        from urllib.request import urlopen\n",
    "        return urlopen(path).read().decode('utf8')\n",
    "    return open(path).read()"
   ]
  },
  {
   "cell_type": "code",
   "execution_count": 7,
   "metadata": {
    "execution": {
     "iopub.execute_input": "2021-01-08T00:27:02.500282Z",
     "iopub.status.busy": "2021-01-08T00:27:02.499633Z",
     "iopub.status.idle": "2021-01-08T00:27:02.502055Z",
     "shell.execute_reply": "2021-01-08T00:27:02.502647Z"
    },
    "papermill": {
     "duration": 0.040741,
     "end_time": "2021-01-08T00:27:02.502796",
     "exception": false,
     "start_time": "2021-01-08T00:27:02.462055",
     "status": "completed"
    },
    "tags": []
   },
   "outputs": [],
   "source": [
    "#hide\n",
    "def get_frame(name):\n",
    "    url = (\n",
    "        'https://raw.githubusercontent.com/CSSEGISandData/COVID-19/master/csse_covid_19_data/'\n",
    "        f'csse_covid_19_time_series/time_series_covid19_{name}_global.csv')\n",
    "    df = pd.read_csv(url)\n",
    "    # rename countries\n",
    "    df['Country/Region'] = df['Country/Region'].replace(mapping['replace.country'])\n",
    "    return df"
   ]
  },
  {
   "cell_type": "code",
   "execution_count": 8,
   "metadata": {
    "execution": {
     "iopub.execute_input": "2021-01-08T00:27:02.573044Z",
     "iopub.status.busy": "2021-01-08T00:27:02.572422Z",
     "iopub.status.idle": "2021-01-08T00:27:02.574793Z",
     "shell.execute_reply": "2021-01-08T00:27:02.575375Z"
    },
    "papermill": {
     "duration": 0.041812,
     "end_time": "2021-01-08T00:27:02.575519",
     "exception": false,
     "start_time": "2021-01-08T00:27:02.533707",
     "status": "completed"
    },
    "tags": []
   },
   "outputs": [],
   "source": [
    "#hide\n",
    "def get_dates(df):\n",
    "    dt_cols = df.columns[~df.columns.isin(['Province/State', 'Country/Region', 'Lat', 'Long'])]\n",
    "    LAST_DATE_I = -1\n",
    "    # sometimes last column may be empty, then go backwards\n",
    "    for i in range(-1, -len(dt_cols), -1):\n",
    "        if not df[dt_cols[i]].fillna(0).eq(0).all():\n",
    "            LAST_DATE_I = i\n",
    "            break\n",
    "    return LAST_DATE_I, dt_cols"
   ]
  },
  {
   "cell_type": "code",
   "execution_count": 9,
   "metadata": {
    "execution": {
     "iopub.execute_input": "2021-01-08T00:27:02.643974Z",
     "iopub.status.busy": "2021-01-08T00:27:02.642901Z",
     "iopub.status.idle": "2021-01-08T00:27:03.000024Z",
     "shell.execute_reply": "2021-01-08T00:27:02.999385Z"
    },
    "papermill": {
     "duration": 0.394067,
     "end_time": "2021-01-08T00:27:03.000173",
     "exception": false,
     "start_time": "2021-01-08T00:27:02.606106",
     "status": "completed"
    },
    "tags": []
   },
   "outputs": [],
   "source": [
    "#hide\n",
    "COL_REGION = 'Country/Region'\n",
    "# Confirmed, Recovered, Deaths\n",
    "df = get_frame('confirmed')\n",
    "# dft_: timeseries, dfc_: today country agg\n",
    "dft_cases = df\n",
    "dft_deaths = get_frame('deaths')\n",
    "dft_recovered = get_frame('recovered')\n",
    "LAST_DATE_I, dt_cols = get_dates(df)"
   ]
  },
  {
   "cell_type": "code",
   "execution_count": 10,
   "metadata": {
    "execution": {
     "iopub.execute_input": "2021-01-08T00:27:03.068327Z",
     "iopub.status.busy": "2021-01-08T00:27:03.067669Z",
     "iopub.status.idle": "2021-01-08T00:27:03.070203Z",
     "shell.execute_reply": "2021-01-08T00:27:03.070787Z"
    },
    "papermill": {
     "duration": 0.039647,
     "end_time": "2021-01-08T00:27:03.070940",
     "exception": false,
     "start_time": "2021-01-08T00:27:03.031293",
     "status": "completed"
    },
    "tags": []
   },
   "outputs": [],
   "source": [
    "#hide\n",
    "LAST_DATE_I, dt_cols = get_dates(df)\n",
    "dt_today =dt_cols[LAST_DATE_I]\n",
    "# dt_5day = dt_cols[LAST_DATE_I - 5]\n",
    "dt_yday = dt_cols[LAST_DATE_I - 1]"
   ]
  },
  {
   "cell_type": "code",
   "execution_count": 11,
   "metadata": {
    "execution": {
     "iopub.execute_input": "2021-01-08T00:27:03.140742Z",
     "iopub.status.busy": "2021-01-08T00:27:03.140071Z",
     "iopub.status.idle": "2021-01-08T00:27:03.148494Z",
     "shell.execute_reply": "2021-01-08T00:27:03.148968Z"
    },
    "papermill": {
     "duration": 0.047349,
     "end_time": "2021-01-08T00:27:03.149124",
     "exception": false,
     "start_time": "2021-01-08T00:27:03.101775",
     "status": "completed"
    },
    "tags": []
   },
   "outputs": [],
   "source": [
    "#hide\n",
    "dfc_cases = dft_cases.groupby(COL_REGION)[dt_today].sum()\n",
    "dfc_deaths = dft_deaths.groupby(COL_REGION)[dt_today].sum()\n",
    "# dfp_cases = dft_cases.groupby(COL_REGION)[dt_5day].sum()\n",
    "# dfp_deaths = dft_deaths.groupby(COL_REGION)[dt_5day].sum()\n",
    "dfp_cases = dft_cases.groupby(COL_REGION)[dt_yday].sum()\n",
    "dfp_deaths = dft_deaths.groupby(COL_REGION)[dt_yday].sum()"
   ]
  },
  {
   "cell_type": "code",
   "execution_count": 12,
   "metadata": {
    "execution": {
     "iopub.execute_input": "2021-01-08T00:27:03.213752Z",
     "iopub.status.busy": "2021-01-08T00:27:03.213139Z",
     "iopub.status.idle": "2021-01-08T00:27:03.221481Z",
     "shell.execute_reply": "2021-01-08T00:27:03.220982Z"
    },
    "papermill": {
     "duration": 0.041704,
     "end_time": "2021-01-08T00:27:03.221616",
     "exception": false,
     "start_time": "2021-01-08T00:27:03.179912",
     "status": "completed"
    },
    "tags": []
   },
   "outputs": [],
   "source": [
    "#hide\n",
    "df_table = (pd.DataFrame(dict(Cases = dfc_cases, Deaths = dfc_deaths, PCases = dfp_cases, PDeaths = dfp_deaths))\n",
    "            .sort_values(by = ['Cases','Deaths'], ascending = [False, False])\n",
    "            .reset_index())"
   ]
  },
  {
   "cell_type": "code",
   "execution_count": 13,
   "metadata": {
    "execution": {
     "iopub.execute_input": "2021-01-08T00:27:03.308754Z",
     "iopub.status.busy": "2021-01-08T00:27:03.302984Z",
     "iopub.status.idle": "2021-01-08T00:27:03.313008Z",
     "shell.execute_reply": "2021-01-08T00:27:03.312500Z"
    },
    "papermill": {
     "duration": 0.06065,
     "end_time": "2021-01-08T00:27:03.313149",
     "exception": false,
     "start_time": "2021-01-08T00:27:03.252499",
     "status": "completed"
    },
    "tags": []
   },
   "outputs": [
    {
     "data": {
      "text/html": [
       "<div>\n",
       "<style scoped>\n",
       "    .dataframe tbody tr th:only-of-type {\n",
       "        vertical-align: middle;\n",
       "    }\n",
       "\n",
       "    .dataframe tbody tr th {\n",
       "        vertical-align: top;\n",
       "    }\n",
       "\n",
       "    .dataframe thead th {\n",
       "        text-align: right;\n",
       "    }\n",
       "</style>\n",
       "<table border=\"1\" class=\"dataframe\">\n",
       "  <thead>\n",
       "    <tr style=\"text-align: right;\">\n",
       "      <th></th>\n",
       "      <th>Country/Region</th>\n",
       "      <th>Cases</th>\n",
       "      <th>Deaths</th>\n",
       "      <th>PCases</th>\n",
       "      <th>PDeaths</th>\n",
       "      <th>Cases (+)</th>\n",
       "      <th>Deaths (+)</th>\n",
       "      <th>Fatality Rate</th>\n",
       "      <th>Continent</th>\n",
       "    </tr>\n",
       "  </thead>\n",
       "  <tbody>\n",
       "    <tr>\n",
       "      <th>0</th>\n",
       "      <td>US</td>\n",
       "      <td>21299340</td>\n",
       "      <td>361123</td>\n",
       "      <td>21046195</td>\n",
       "      <td>357258</td>\n",
       "      <td>253145</td>\n",
       "      <td>3865</td>\n",
       "      <td>1.70</td>\n",
       "      <td>North America</td>\n",
       "    </tr>\n",
       "    <tr>\n",
       "      <th>1</th>\n",
       "      <td>India</td>\n",
       "      <td>10395278</td>\n",
       "      <td>150336</td>\n",
       "      <td>10374932</td>\n",
       "      <td>150114</td>\n",
       "      <td>20346</td>\n",
       "      <td>222</td>\n",
       "      <td>1.45</td>\n",
       "      <td>Asia</td>\n",
       "    </tr>\n",
       "    <tr>\n",
       "      <th>2</th>\n",
       "      <td>Brazil</td>\n",
       "      <td>7873830</td>\n",
       "      <td>198974</td>\n",
       "      <td>7810400</td>\n",
       "      <td>197732</td>\n",
       "      <td>63430</td>\n",
       "      <td>1242</td>\n",
       "      <td>2.53</td>\n",
       "      <td>South America</td>\n",
       "    </tr>\n",
       "    <tr>\n",
       "      <th>3</th>\n",
       "      <td>Russia</td>\n",
       "      <td>3274615</td>\n",
       "      <td>59137</td>\n",
       "      <td>3250713</td>\n",
       "      <td>58706</td>\n",
       "      <td>23902</td>\n",
       "      <td>431</td>\n",
       "      <td>1.81</td>\n",
       "      <td>Europe</td>\n",
       "    </tr>\n",
       "    <tr>\n",
       "      <th>4</th>\n",
       "      <td>United Kingdom</td>\n",
       "      <td>2845265</td>\n",
       "      <td>77470</td>\n",
       "      <td>2782709</td>\n",
       "      <td>76428</td>\n",
       "      <td>62556</td>\n",
       "      <td>1042</td>\n",
       "      <td>2.72</td>\n",
       "      <td>Europe</td>\n",
       "    </tr>\n",
       "  </tbody>\n",
       "</table>\n",
       "</div>"
      ],
      "text/plain": [
       "   Country/Region     Cases  Deaths    PCases  PDeaths  Cases (+)  Deaths (+)  \\\n",
       "0              US  21299340  361123  21046195   357258     253145        3865   \n",
       "1           India  10395278  150336  10374932   150114      20346         222   \n",
       "2          Brazil   7873830  198974   7810400   197732      63430        1242   \n",
       "3          Russia   3274615   59137   3250713    58706      23902         431   \n",
       "4  United Kingdom   2845265   77470   2782709    76428      62556        1042   \n",
       "\n",
       "   Fatality Rate      Continent  \n",
       "0           1.70  North America  \n",
       "1           1.45           Asia  \n",
       "2           2.53  South America  \n",
       "3           1.81         Europe  \n",
       "4           2.72         Europe  "
      ]
     },
     "execution_count": 13,
     "metadata": {},
     "output_type": "execute_result"
    }
   ],
   "source": [
    "#hide\n",
    "for c in 'Cases, Deaths'.split(', '):\n",
    "    df_table[f'{c} (+)'] = (df_table[c] - df_table[f'P{c}']).clip(0)\n",
    "    #Clip ça veut dire, les chiffres negatif sont interdit\n",
    "df_table['Fatality Rate'] = (100* df_table['Deaths']/ df_table['Cases']).round(2)\n",
    "df_table['Continent'] = df_table['Country/Region'].map(mapping['map.continent'])\n",
    "df_table.head(5)"
   ]
  },
  {
   "cell_type": "code",
   "execution_count": 14,
   "metadata": {
    "execution": {
     "iopub.execute_input": "2021-01-08T00:27:03.382587Z",
     "iopub.status.busy": "2021-01-08T00:27:03.381961Z",
     "iopub.status.idle": "2021-01-08T00:27:03.384484Z",
     "shell.execute_reply": "2021-01-08T00:27:03.385067Z"
    },
    "papermill": {
     "duration": 0.040489,
     "end_time": "2021-01-08T00:27:03.385220",
     "exception": false,
     "start_time": "2021-01-08T00:27:03.344731",
     "status": "completed"
    },
    "tags": []
   },
   "outputs": [],
   "source": [
    "#hide\n",
    "#delete problematic countries from table\n",
    "df_table = df_table[~df_table['Country/Region'].isin(['Cape Verde', 'Cruise Ship', 'Kosovo'])]"
   ]
  },
  {
   "cell_type": "code",
   "execution_count": 15,
   "metadata": {
    "execution": {
     "iopub.execute_input": "2021-01-08T00:27:03.456876Z",
     "iopub.status.busy": "2021-01-08T00:27:03.456195Z",
     "iopub.status.idle": "2021-01-08T00:27:03.476430Z",
     "shell.execute_reply": "2021-01-08T00:27:03.475868Z"
    },
    "papermill": {
     "duration": 0.060111,
     "end_time": "2021-01-08T00:27:03.476572",
     "exception": false,
     "start_time": "2021-01-08T00:27:03.416461",
     "status": "completed"
    },
    "tags": []
   },
   "outputs": [
    {
     "data": {
      "text/html": [
       "<div>\n",
       "<style scoped>\n",
       "    .dataframe tbody tr th:only-of-type {\n",
       "        vertical-align: middle;\n",
       "    }\n",
       "\n",
       "    .dataframe tbody tr th {\n",
       "        vertical-align: top;\n",
       "    }\n",
       "\n",
       "    .dataframe thead th {\n",
       "        text-align: right;\n",
       "    }\n",
       "</style>\n",
       "<table border=\"1\" class=\"dataframe\">\n",
       "  <thead>\n",
       "    <tr style=\"text-align: right;\">\n",
       "      <th></th>\n",
       "      <th>Country/Region</th>\n",
       "      <th>Cases</th>\n",
       "      <th>Deaths</th>\n",
       "      <th>PCases</th>\n",
       "      <th>PDeaths</th>\n",
       "      <th>Cases (+)</th>\n",
       "      <th>Deaths (+)</th>\n",
       "      <th>Fatality Rate</th>\n",
       "      <th>Continent</th>\n",
       "    </tr>\n",
       "  </thead>\n",
       "  <tbody>\n",
       "    <tr>\n",
       "      <th>0</th>\n",
       "      <td>US</td>\n",
       "      <td>21299340</td>\n",
       "      <td>361123</td>\n",
       "      <td>21046195</td>\n",
       "      <td>357258</td>\n",
       "      <td>253145</td>\n",
       "      <td>3865</td>\n",
       "      <td>1.7</td>\n",
       "      <td>North America</td>\n",
       "    </tr>\n",
       "    <tr>\n",
       "      <th>1</th>\n",
       "      <td>India</td>\n",
       "      <td>10395278</td>\n",
       "      <td>150336</td>\n",
       "      <td>10374932</td>\n",
       "      <td>150114</td>\n",
       "      <td>20346</td>\n",
       "      <td>222</td>\n",
       "      <td>1.4</td>\n",
       "      <td>Asia</td>\n",
       "    </tr>\n",
       "    <tr>\n",
       "      <th>2</th>\n",
       "      <td>Brazil</td>\n",
       "      <td>7873830</td>\n",
       "      <td>198974</td>\n",
       "      <td>7810400</td>\n",
       "      <td>197732</td>\n",
       "      <td>63430</td>\n",
       "      <td>1242</td>\n",
       "      <td>2.5</td>\n",
       "      <td>South America</td>\n",
       "    </tr>\n",
       "    <tr>\n",
       "      <th>3</th>\n",
       "      <td>Russia</td>\n",
       "      <td>3274615</td>\n",
       "      <td>59137</td>\n",
       "      <td>3250713</td>\n",
       "      <td>58706</td>\n",
       "      <td>23902</td>\n",
       "      <td>431</td>\n",
       "      <td>1.8</td>\n",
       "      <td>Europe</td>\n",
       "    </tr>\n",
       "    <tr>\n",
       "      <th>4</th>\n",
       "      <td>United Kingdom</td>\n",
       "      <td>2845265</td>\n",
       "      <td>77470</td>\n",
       "      <td>2782709</td>\n",
       "      <td>76428</td>\n",
       "      <td>62556</td>\n",
       "      <td>1042</td>\n",
       "      <td>2.7</td>\n",
       "      <td>Europe</td>\n",
       "    </tr>\n",
       "  </tbody>\n",
       "</table>\n",
       "</div>"
      ],
      "text/plain": [
       "   Country/Region     Cases  Deaths    PCases  PDeaths  Cases (+)  Deaths (+)  \\\n",
       "0              US  21299340  361123  21046195   357258     253145        3865   \n",
       "1           India  10395278  150336  10374932   150114      20346         222   \n",
       "2          Brazil   7873830  198974   7810400   197732      63430        1242   \n",
       "3          Russia   3274615   59137   3250713    58706      23902         431   \n",
       "4  United Kingdom   2845265   77470   2782709    76428      62556        1042   \n",
       "\n",
       "   Fatality Rate      Continent  \n",
       "0            1.7  North America  \n",
       "1            1.4           Asia  \n",
       "2            2.5  South America  \n",
       "3            1.8         Europe  \n",
       "4            2.7         Europe  "
      ]
     },
     "execution_count": 15,
     "metadata": {},
     "output_type": "execute_result"
    }
   ],
   "source": [
    "#hide\n",
    "df_table = (pd.DataFrame(dict(Cases=dfc_cases, Deaths=dfc_deaths, PCases=dfp_cases, PDeaths=dfp_deaths))\n",
    "             .sort_values(by=['Cases', 'Deaths'], ascending=[False, False])\n",
    "             .reset_index())\n",
    "df_table.rename(columns={'index': 'Country/Region'}, inplace=True)\n",
    "for c in 'Cases, Deaths'.split(', '):\n",
    "    df_table[f'{c} (+)'] = (df_table[c] - df_table[f'P{c}']).clip(0)  # DATA BUG\n",
    "df_table['Fatality Rate'] = (100 * df_table['Deaths'] / df_table['Cases']).round(1)\n",
    "df_table['Continent'] = df_table['Country/Region'].map(mapping['map.continent'])\n",
    "df_table.head(5)"
   ]
  },
  {
   "cell_type": "code",
   "execution_count": 16,
   "metadata": {
    "execution": {
     "iopub.execute_input": "2021-01-08T00:27:03.548646Z",
     "iopub.status.busy": "2021-01-08T00:27:03.547982Z",
     "iopub.status.idle": "2021-01-08T00:27:03.549939Z",
     "shell.execute_reply": "2021-01-08T00:27:03.550400Z"
    },
    "papermill": {
     "duration": 0.041932,
     "end_time": "2021-01-08T00:27:03.550555",
     "exception": false,
     "start_time": "2021-01-08T00:27:03.508623",
     "status": "completed"
    },
    "tags": []
   },
   "outputs": [],
   "source": [
    "#hide\n",
    "#delete problematic countries from table\n",
    "df_table = df_table[~df_table['Country/Region'].isin(['Cape Verde', 'Cruise Ship', 'Kosovo'])]"
   ]
  },
  {
   "cell_type": "code",
   "execution_count": 17,
   "metadata": {
    "execution": {
     "iopub.execute_input": "2021-01-08T00:27:03.627400Z",
     "iopub.status.busy": "2021-01-08T00:27:03.626775Z",
     "iopub.status.idle": "2021-01-08T00:27:03.637553Z",
     "shell.execute_reply": "2021-01-08T00:27:03.637052Z"
    },
    "papermill": {
     "duration": 0.055519,
     "end_time": "2021-01-08T00:27:03.637689",
     "exception": false,
     "start_time": "2021-01-08T00:27:03.582170",
     "status": "completed"
    },
    "tags": []
   },
   "outputs": [],
   "source": [
    "#hide\n",
    "metrics = [df_table.columns[index] for index in [1,2,5,6]]\n",
    "# s_china = df_table[df_table['Country/Region'].eq('China')][metrics].sum().add_prefix('China ')\n",
    "s_us = df_table[df_table['Country/Region'].eq('US')][metrics].sum().add_prefix('US ')\n",
    "s_eu = df_table[df_table['Continent'].eq('Europe')][metrics].sum().add_prefix('EU ')\n",
    "s_ind = df_table[df_table['Country/Region'].eq('India')][metrics].sum().add_prefix('India ')\n",
    "summary = {'updated': pd.to_datetime(dt_today), 'since': pd.to_datetime(dt_yday)}\n",
    "summary = {'updated': pd.to_datetime(dt_today), 'since': pd.to_datetime(dt_yday)}\n",
    "summary = {**summary, **df_table[metrics].sum(), **s_ind, **s_us, **s_eu}"
   ]
  },
  {
   "cell_type": "code",
   "execution_count": 18,
   "metadata": {
    "execution": {
     "iopub.execute_input": "2021-01-08T00:27:03.710315Z",
     "iopub.status.busy": "2021-01-08T00:27:03.709693Z",
     "iopub.status.idle": "2021-01-08T00:27:03.721549Z",
     "shell.execute_reply": "2021-01-08T00:27:03.722140Z"
    },
    "papermill": {
     "duration": 0.052735,
     "end_time": "2021-01-08T00:27:03.722297",
     "exception": false,
     "start_time": "2021-01-08T00:27:03.669562",
     "status": "completed"
    },
    "tags": []
   },
   "outputs": [],
   "source": [
    "#hide\n",
    "dft_ct_new_cases = dft_cases.groupby(COL_REGION)[dt_cols].sum().diff(axis=1).fillna(0).astype(int)"
   ]
  },
  {
   "cell_type": "code",
   "execution_count": 19,
   "metadata": {
    "execution": {
     "iopub.execute_input": "2021-01-08T00:27:03.792299Z",
     "iopub.status.busy": "2021-01-08T00:27:03.791645Z",
     "iopub.status.idle": "2021-01-08T00:27:03.794179Z",
     "shell.execute_reply": "2021-01-08T00:27:03.794925Z"
    },
    "papermill": {
     "duration": 0.041076,
     "end_time": "2021-01-08T00:27:03.795116",
     "exception": false,
     "start_time": "2021-01-08T00:27:03.754040",
     "status": "completed"
    },
    "tags": []
   },
   "outputs": [],
   "source": [
    "#hide\n",
    "everydaycases = dft_ct_new_cases.cumsum(axis=1)"
   ]
  },
  {
   "cell_type": "code",
   "execution_count": 20,
   "metadata": {
    "execution": {
     "iopub.execute_input": "2021-01-08T00:27:03.864377Z",
     "iopub.status.busy": "2021-01-08T00:27:03.863721Z",
     "iopub.status.idle": "2021-01-08T00:27:05.574290Z",
     "shell.execute_reply": "2021-01-08T00:27:05.573584Z"
    },
    "papermill": {
     "duration": 1.747175,
     "end_time": "2021-01-08T00:27:05.574477",
     "exception": false,
     "start_time": "2021-01-08T00:27:03.827302",
     "status": "completed"
    },
    "tags": []
   },
   "outputs": [],
   "source": [
    "#hide\n",
    "import pandas as pd\n",
    "import matplotlib.pyplot as plt\n",
    "import matplotlib.ticker as ticker\n",
    "import matplotlib.animation as animation\n",
    "from IPython.display import HTML"
   ]
  },
  {
   "cell_type": "code",
   "execution_count": 21,
   "metadata": {
    "execution": {
     "iopub.execute_input": "2021-01-08T00:27:05.808385Z",
     "iopub.status.busy": "2021-01-08T00:27:05.807714Z",
     "iopub.status.idle": "2021-01-08T00:27:05.812492Z",
     "shell.execute_reply": "2021-01-08T00:27:05.812972Z"
    },
    "papermill": {
     "duration": 0.205636,
     "end_time": "2021-01-08T00:27:05.813130",
     "exception": false,
     "start_time": "2021-01-08T00:27:05.607494",
     "status": "completed"
    },
    "tags": []
   },
   "outputs": [],
   "source": [
    "#hide\n",
    "t = everydaycases.stack()"
   ]
  },
  {
   "cell_type": "code",
   "execution_count": 22,
   "metadata": {
    "execution": {
     "iopub.execute_input": "2021-01-08T00:27:05.882191Z",
     "iopub.status.busy": "2021-01-08T00:27:05.881580Z",
     "iopub.status.idle": "2021-01-08T00:27:05.888642Z",
     "shell.execute_reply": "2021-01-08T00:27:05.889223Z"
    },
    "papermill": {
     "duration": 0.044344,
     "end_time": "2021-01-08T00:27:05.889372",
     "exception": false,
     "start_time": "2021-01-08T00:27:05.845028",
     "status": "completed"
    },
    "tags": []
   },
   "outputs": [],
   "source": [
    "#hide\n",
    "g = t.reset_index(['Country/Region'])"
   ]
  },
  {
   "cell_type": "code",
   "execution_count": 23,
   "metadata": {
    "execution": {
     "iopub.execute_input": "2021-01-08T00:27:05.957361Z",
     "iopub.status.busy": "2021-01-08T00:27:05.956748Z",
     "iopub.status.idle": "2021-01-08T00:27:05.959356Z",
     "shell.execute_reply": "2021-01-08T00:27:05.958837Z"
    },
    "papermill": {
     "duration": 0.03849,
     "end_time": "2021-01-08T00:27:05.959480",
     "exception": false,
     "start_time": "2021-01-08T00:27:05.920990",
     "status": "completed"
    },
    "tags": []
   },
   "outputs": [],
   "source": [
    "#hide\n",
    "g.index.name = 'date'"
   ]
  },
  {
   "cell_type": "code",
   "execution_count": 24,
   "metadata": {
    "execution": {
     "iopub.execute_input": "2021-01-08T00:27:06.027237Z",
     "iopub.status.busy": "2021-01-08T00:27:06.026602Z",
     "iopub.status.idle": "2021-01-08T00:27:06.028194Z",
     "shell.execute_reply": "2021-01-08T00:27:06.028722Z"
    },
    "papermill": {
     "duration": 0.037656,
     "end_time": "2021-01-08T00:27:06.028871",
     "exception": false,
     "start_time": "2021-01-08T00:27:05.991215",
     "status": "completed"
    },
    "tags": []
   },
   "outputs": [],
   "source": [
    "# #hide\n",
    "# g = g.reset_index(['date'])"
   ]
  },
  {
   "cell_type": "code",
   "execution_count": 25,
   "metadata": {
    "execution": {
     "iopub.execute_input": "2021-01-08T00:27:06.097066Z",
     "iopub.status.busy": "2021-01-08T00:27:06.096453Z",
     "iopub.status.idle": "2021-01-08T00:27:06.099027Z",
     "shell.execute_reply": "2021-01-08T00:27:06.098533Z"
    },
    "papermill": {
     "duration": 0.038554,
     "end_time": "2021-01-08T00:27:06.099160",
     "exception": false,
     "start_time": "2021-01-08T00:27:06.060606",
     "status": "completed"
    },
    "tags": []
   },
   "outputs": [],
   "source": [
    "#hide\n",
    "# g.head()"
   ]
  },
  {
   "cell_type": "code",
   "execution_count": 26,
   "metadata": {
    "execution": {
     "iopub.execute_input": "2021-01-08T00:27:06.167308Z",
     "iopub.status.busy": "2021-01-08T00:27:06.166698Z",
     "iopub.status.idle": "2021-01-08T00:27:06.169058Z",
     "shell.execute_reply": "2021-01-08T00:27:06.169643Z"
    },
    "papermill": {
     "duration": 0.038889,
     "end_time": "2021-01-08T00:27:06.169792",
     "exception": false,
     "start_time": "2021-01-08T00:27:06.130903",
     "status": "completed"
    },
    "tags": []
   },
   "outputs": [],
   "source": [
    "#hide\n",
    "# g.columns = ['date','country','cases']"
   ]
  },
  {
   "cell_type": "code",
   "execution_count": 27,
   "metadata": {
    "execution": {
     "iopub.execute_input": "2021-01-08T00:27:06.239735Z",
     "iopub.status.busy": "2021-01-08T00:27:06.238694Z",
     "iopub.status.idle": "2021-01-08T00:27:06.240530Z",
     "shell.execute_reply": "2021-01-08T00:27:06.241022Z"
    },
    "papermill": {
     "duration": 0.03984,
     "end_time": "2021-01-08T00:27:06.241170",
     "exception": false,
     "start_time": "2021-01-08T00:27:06.201330",
     "status": "completed"
    },
    "tags": []
   },
   "outputs": [],
   "source": [
    "#hide\n",
    "# g['continent'] = g.country"
   ]
  },
  {
   "cell_type": "code",
   "execution_count": 28,
   "metadata": {
    "execution": {
     "iopub.execute_input": "2021-01-08T00:27:06.309250Z",
     "iopub.status.busy": "2021-01-08T00:27:06.308635Z",
     "iopub.status.idle": "2021-01-08T00:27:06.311180Z",
     "shell.execute_reply": "2021-01-08T00:27:06.311758Z"
    },
    "papermill": {
     "duration": 0.039017,
     "end_time": "2021-01-08T00:27:06.311904",
     "exception": false,
     "start_time": "2021-01-08T00:27:06.272887",
     "status": "completed"
    },
    "tags": []
   },
   "outputs": [],
   "source": [
    "#hide\n",
    "# cols = list(g.columns.values)"
   ]
  },
  {
   "cell_type": "code",
   "execution_count": 29,
   "metadata": {
    "execution": {
     "iopub.execute_input": "2021-01-08T00:27:06.382057Z",
     "iopub.status.busy": "2021-01-08T00:27:06.381447Z",
     "iopub.status.idle": "2021-01-08T00:27:06.383768Z",
     "shell.execute_reply": "2021-01-08T00:27:06.383249Z"
    },
    "papermill": {
     "duration": 0.040505,
     "end_time": "2021-01-08T00:27:06.383896",
     "exception": false,
     "start_time": "2021-01-08T00:27:06.343391",
     "status": "completed"
    },
    "tags": []
   },
   "outputs": [],
   "source": [
    "#hide\n",
    "# cols.insert(0, cols.pop())"
   ]
  },
  {
   "cell_type": "code",
   "execution_count": 30,
   "metadata": {
    "execution": {
     "iopub.execute_input": "2021-01-08T00:27:06.452640Z",
     "iopub.status.busy": "2021-01-08T00:27:06.451985Z",
     "iopub.status.idle": "2021-01-08T00:27:06.454545Z",
     "shell.execute_reply": "2021-01-08T00:27:06.454025Z"
    },
    "papermill": {
     "duration": 0.038919,
     "end_time": "2021-01-08T00:27:06.454676",
     "exception": false,
     "start_time": "2021-01-08T00:27:06.415757",
     "status": "completed"
    },
    "tags": []
   },
   "outputs": [],
   "source": [
    "#hide\n",
    "# g = g[cols]"
   ]
  },
  {
   "cell_type": "code",
   "execution_count": 31,
   "metadata": {
    "execution": {
     "iopub.execute_input": "2021-01-08T00:27:06.522898Z",
     "iopub.status.busy": "2021-01-08T00:27:06.522270Z",
     "iopub.status.idle": "2021-01-08T00:27:06.525614Z",
     "shell.execute_reply": "2021-01-08T00:27:06.525093Z"
    },
    "papermill": {
     "duration": 0.039481,
     "end_time": "2021-01-08T00:27:06.525746",
     "exception": false,
     "start_time": "2021-01-08T00:27:06.486265",
     "status": "completed"
    },
    "tags": []
   },
   "outputs": [],
   "source": [
    "#hide\n",
    "# g['continent'] = g['continent'].map(mapping['map.continent'])"
   ]
  },
  {
   "cell_type": "code",
   "execution_count": 32,
   "metadata": {
    "execution": {
     "iopub.execute_input": "2021-01-08T00:27:06.593022Z",
     "iopub.status.busy": "2021-01-08T00:27:06.592400Z",
     "iopub.status.idle": "2021-01-08T00:27:06.594878Z",
     "shell.execute_reply": "2021-01-08T00:27:06.595372Z"
    },
    "papermill": {
     "duration": 0.038095,
     "end_time": "2021-01-08T00:27:06.595516",
     "exception": false,
     "start_time": "2021-01-08T00:27:06.557421",
     "status": "completed"
    },
    "tags": []
   },
   "outputs": [],
   "source": [
    "#hide\n",
    "# g.head()"
   ]
  },
  {
   "cell_type": "code",
   "execution_count": 33,
   "metadata": {
    "execution": {
     "iopub.execute_input": "2021-01-08T00:27:06.663495Z",
     "iopub.status.busy": "2021-01-08T00:27:06.662887Z",
     "iopub.status.idle": "2021-01-08T00:27:06.665653Z",
     "shell.execute_reply": "2021-01-08T00:27:06.665159Z"
    },
    "papermill": {
     "duration": 0.038405,
     "end_time": "2021-01-08T00:27:06.665785",
     "exception": false,
     "start_time": "2021-01-08T00:27:06.627380",
     "status": "completed"
    },
    "tags": []
   },
   "outputs": [],
   "source": [
    "# hide\n",
    "# g['date'] = g['date'].astype('datetime64[ns]')"
   ]
  },
  {
   "cell_type": "code",
   "execution_count": 34,
   "metadata": {
    "execution": {
     "iopub.execute_input": "2021-01-08T00:27:06.734404Z",
     "iopub.status.busy": "2021-01-08T00:27:06.733367Z",
     "iopub.status.idle": "2021-01-08T00:27:06.735495Z",
     "shell.execute_reply": "2021-01-08T00:27:06.736257Z"
    },
    "papermill": {
     "duration": 0.038937,
     "end_time": "2021-01-08T00:27:06.736420",
     "exception": false,
     "start_time": "2021-01-08T00:27:06.697483",
     "status": "completed"
    },
    "tags": []
   },
   "outputs": [],
   "source": [
    "#hide\n",
    "# g['date'] = g.date.dt.dayofyear"
   ]
  },
  {
   "cell_type": "code",
   "execution_count": 35,
   "metadata": {
    "execution": {
     "iopub.execute_input": "2021-01-08T00:27:06.804864Z",
     "iopub.status.busy": "2021-01-08T00:27:06.804194Z",
     "iopub.status.idle": "2021-01-08T00:27:06.806620Z",
     "shell.execute_reply": "2021-01-08T00:27:06.807200Z"
    },
    "papermill": {
     "duration": 0.039341,
     "end_time": "2021-01-08T00:27:06.807348",
     "exception": false,
     "start_time": "2021-01-08T00:27:06.768007",
     "status": "completed"
    },
    "tags": []
   },
   "outputs": [],
   "source": [
    "#hide\n",
    "# g = g.rename(columns= {'continent':'group','country':'name','cases':'value'})"
   ]
  },
  {
   "cell_type": "code",
   "execution_count": 36,
   "metadata": {
    "execution": {
     "iopub.execute_input": "2021-01-08T00:27:06.875780Z",
     "iopub.status.busy": "2021-01-08T00:27:06.875168Z",
     "iopub.status.idle": "2021-01-08T00:27:06.877580Z",
     "shell.execute_reply": "2021-01-08T00:27:06.878161Z"
    },
    "papermill": {
     "duration": 0.039117,
     "end_time": "2021-01-08T00:27:06.878310",
     "exception": false,
     "start_time": "2021-01-08T00:27:06.839193",
     "status": "completed"
    },
    "tags": []
   },
   "outputs": [],
   "source": [
    "#hide\n",
    "# cols = ['name','group','day','value']"
   ]
  },
  {
   "cell_type": "code",
   "execution_count": 37,
   "metadata": {
    "execution": {
     "iopub.execute_input": "2021-01-08T00:27:06.945552Z",
     "iopub.status.busy": "2021-01-08T00:27:06.944941Z",
     "iopub.status.idle": "2021-01-08T00:27:06.946775Z",
     "shell.execute_reply": "2021-01-08T00:27:06.947236Z"
    },
    "papermill": {
     "duration": 0.037465,
     "end_time": "2021-01-08T00:27:06.947386",
     "exception": false,
     "start_time": "2021-01-08T00:27:06.909921",
     "status": "completed"
    },
    "tags": []
   },
   "outputs": [],
   "source": [
    "#hide\n",
    "# g.rename(columns= {'date':'day'},inplace = True)"
   ]
  },
  {
   "cell_type": "code",
   "execution_count": 38,
   "metadata": {
    "execution": {
     "iopub.execute_input": "2021-01-08T00:27:07.015120Z",
     "iopub.status.busy": "2021-01-08T00:27:07.014486Z",
     "iopub.status.idle": "2021-01-08T00:27:07.017132Z",
     "shell.execute_reply": "2021-01-08T00:27:07.016634Z"
    },
    "papermill": {
     "duration": 0.038122,
     "end_time": "2021-01-08T00:27:07.017266",
     "exception": false,
     "start_time": "2021-01-08T00:27:06.979144",
     "status": "completed"
    },
    "tags": []
   },
   "outputs": [],
   "source": [
    "#hide\n",
    "# g = g[cols]"
   ]
  },
  {
   "cell_type": "code",
   "execution_count": 39,
   "metadata": {
    "execution": {
     "iopub.execute_input": "2021-01-08T00:27:07.084935Z",
     "iopub.status.busy": "2021-01-08T00:27:07.084306Z",
     "iopub.status.idle": "2021-01-08T00:27:07.086082Z",
     "shell.execute_reply": "2021-01-08T00:27:07.086604Z"
    },
    "papermill": {
     "duration": 0.037887,
     "end_time": "2021-01-08T00:27:07.086752",
     "exception": false,
     "start_time": "2021-01-08T00:27:07.048865",
     "status": "completed"
    },
    "tags": []
   },
   "outputs": [],
   "source": [
    "# #hide\n",
    "# g = g[g.group.notna()]"
   ]
  },
  {
   "cell_type": "code",
   "execution_count": 40,
   "metadata": {
    "execution": {
     "iopub.execute_input": "2021-01-08T00:27:07.155035Z",
     "iopub.status.busy": "2021-01-08T00:27:07.154403Z",
     "iopub.status.idle": "2021-01-08T00:27:07.156452Z",
     "shell.execute_reply": "2021-01-08T00:27:07.157040Z"
    },
    "papermill": {
     "duration": 0.03867,
     "end_time": "2021-01-08T00:27:07.157191",
     "exception": false,
     "start_time": "2021-01-08T00:27:07.118521",
     "status": "completed"
    },
    "tags": []
   },
   "outputs": [],
   "source": [
    "# #hide\n",
    "# colors = dict(zip(\n",
    "#     [\"Oceania\", \"Europe\", \"Asia\", \"South America\", \"Middle East\", \"North America\", \"Africa\"],\n",
    "#     [\"#adb0ff\", \"#ffb3ff\", \"#90d595\", \"#e48381\", \"#aafbff\", \"#f7bb5f\", \"#eafb50\"]\n",
    "# ))\n",
    "# group_lk = g.set_index('name')['group'].to_dict()"
   ]
  },
  {
   "cell_type": "code",
   "execution_count": null,
   "metadata": {
    "papermill": {
     "duration": 0.031667,
     "end_time": "2021-01-08T00:27:07.220552",
     "exception": false,
     "start_time": "2021-01-08T00:27:07.188885",
     "status": "completed"
    },
    "tags": []
   },
   "outputs": [],
   "source": []
  },
  {
   "cell_type": "code",
   "execution_count": 41,
   "metadata": {
    "execution": {
     "iopub.execute_input": "2021-01-08T00:27:07.289690Z",
     "iopub.status.busy": "2021-01-08T00:27:07.289053Z",
     "iopub.status.idle": "2021-01-08T00:27:07.291159Z",
     "shell.execute_reply": "2021-01-08T00:27:07.291743Z"
    },
    "papermill": {
     "duration": 0.039433,
     "end_time": "2021-01-08T00:27:07.291895",
     "exception": false,
     "start_time": "2021-01-08T00:27:07.252462",
     "status": "completed"
    },
    "tags": []
   },
   "outputs": [],
   "source": [
    "# #hide\n",
    "# fig, ax = plt.subplots(figsize=(15, 8))\n",
    "\n",
    "# def draw_barchart(current_day):\n",
    "#     dff = g[g['day'].eq(current_day)].sort_values(by='value', ascending=True).tail(10)\n",
    "#     ax.clear()\n",
    "#     ax.barh(dff['name'], dff['value'], color=[colors[group_lk[x]] for x in dff['name']])\n",
    "#     dx = dff['value'].max() / 200\n",
    "    \n",
    "#     for i, (value, name) in enumerate(zip(dff['value'], dff['name'])):\n",
    "#         ax.text(value-dx, i,     name,           size=14, weight=600, ha='right', va='bottom')\n",
    "#         ax.text(value-dx, i-.25, group_lk[name], size=10, color='#444444', ha='right', va='baseline')\n",
    "#         ax.text(value+dx, i,     f'{value:,.0f}',  size=14, ha='left',  va='center')\n",
    "#     ax.text(1, 0.4, current_day, transform=ax.transAxes, color='#777777', size=46, ha='right', weight=800)\n",
    "#     ax.text(0, 1.06, 'Population (thousands)', transform=ax.transAxes, size=12, color='#777777')\n",
    "#     ax.xaxis.set_major_formatter(ticker.StrMethodFormatter('{x:,.0f}'))\n",
    "#     ax.xaxis.set_ticks_position('top')\n",
    "#     ax.tick_params(axis='x', colors='#777777', labelsize=12)\n",
    "#     ax.set_yticks([])\n",
    "#     ax.margins(0, 0.01)\n",
    "#     ax.grid(which='major', axis='x', linestyle='-')\n",
    "#     ax.set_axisbelow(True)\n",
    "    \n",
    "#     ax.text(0, 1.15, 'Coronavirus',\n",
    "#             transform=ax.transAxes, size=24, weight=600, ha='left', va='top')\n",
    "# #     ax.text(1, 0, 'by @pratapvardhan; credit @jburnmurdoch', transform=ax.transAxes, color='#777777', ha='right',\n",
    "# #             bbox=dict(facecolor='white', alpha=0.8, edgecolor='white'))\n",
    "#     plt.box(False)"
   ]
  },
  {
   "cell_type": "code",
   "execution_count": 42,
   "metadata": {
    "execution": {
     "iopub.execute_input": "2021-01-08T00:27:07.360898Z",
     "iopub.status.busy": "2021-01-08T00:27:07.360275Z",
     "iopub.status.idle": "2021-01-08T00:27:07.362668Z",
     "shell.execute_reply": "2021-01-08T00:27:07.363254Z"
    },
    "papermill": {
     "duration": 0.0397,
     "end_time": "2021-01-08T00:27:07.363403",
     "exception": false,
     "start_time": "2021-01-08T00:27:07.323703",
     "status": "completed"
    },
    "tags": []
   },
   "outputs": [],
   "source": [
    "# #hide_input\n",
    "# fig, ax = plt.subplots(figsize=(15, 8))\n",
    "# animator = animation.FuncAnimation(fig, draw_barchart, frames=range(g.day.values.min(), g.day.values.max()))\n",
    "# HTML(animator.to_jshtml())\n",
    "# # or use animator.to_html5_video() or animator.save() "
   ]
  },
  {
   "cell_type": "code",
   "execution_count": null,
   "metadata": {
    "papermill": {
     "duration": 0.0316,
     "end_time": "2021-01-08T00:27:07.426830",
     "exception": false,
     "start_time": "2021-01-08T00:27:07.395230",
     "status": "completed"
    },
    "tags": []
   },
   "outputs": [],
   "source": []
  },
  {
   "cell_type": "code",
   "execution_count": null,
   "metadata": {
    "papermill": {
     "duration": 0.031683,
     "end_time": "2021-01-08T00:27:07.490184",
     "exception": false,
     "start_time": "2021-01-08T00:27:07.458501",
     "status": "completed"
    },
    "tags": []
   },
   "outputs": [],
   "source": []
  },
  {
   "cell_type": "code",
   "execution_count": null,
   "metadata": {
    "papermill": {
     "duration": 0.031626,
     "end_time": "2021-01-08T00:27:07.553637",
     "exception": false,
     "start_time": "2021-01-08T00:27:07.522011",
     "status": "completed"
    },
    "tags": []
   },
   "outputs": [],
   "source": []
  }
 ],
 "metadata": {
  "kernelspec": {
   "display_name": "Python 3",
   "language": "python",
   "name": "python3"
  },
  "language_info": {
   "codemirror_mode": {
    "name": "ipython",
    "version": 3
   },
   "file_extension": ".py",
   "mimetype": "text/x-python",
   "name": "python",
   "nbconvert_exporter": "python",
   "pygments_lexer": "ipython3",
   "version": "3.6.12"
  },
  "papermill": {
   "duration": 8.351705,
   "end_time": "2021-01-08T00:27:08.802416",
   "environment_variables": {},
   "exception": null,
   "input_path": "2020-03-21-covid19exp.ipynb",
   "output_path": "2020-03-21-covid19exp.ipynb",
   "parameters": {},
   "start_time": "2021-01-08T00:27:00.450711",
   "version": "2.0.0"
  }
 },
 "nbformat": 4,
 "nbformat_minor": 4
}