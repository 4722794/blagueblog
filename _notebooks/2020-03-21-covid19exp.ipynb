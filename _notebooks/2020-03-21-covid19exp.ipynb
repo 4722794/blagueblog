{
 "cells": [
  {
   "cell_type": "markdown",
   "id": "muslim-click",
   "metadata": {
    "papermill": {
     "duration": 0.050026,
     "end_time": "2021-07-12T00:21:14.219389",
     "exception": false,
     "start_time": "2021-07-12T00:21:14.169363",
     "status": "completed"
    },
    "tags": []
   },
   "source": [
    "# COVID-19 Case Race\n",
    "> A race chart to see rising cases around the world\n",
    "\n",
    "- author: Hargun Oberoi\n",
    "- image: images/covid-overview.png\n",
    "- hide: false\n",
    "- badges: false"
   ]
  },
  {
   "cell_type": "code",
   "execution_count": 1,
   "id": "proof-material",
   "metadata": {
    "execution": {
     "iopub.execute_input": "2021-07-12T00:21:14.309555Z",
     "iopub.status.busy": "2021-07-12T00:21:14.308906Z",
     "iopub.status.idle": "2021-07-12T00:21:14.702106Z",
     "shell.execute_reply": "2021-07-12T00:21:14.701513Z"
    },
    "papermill": {
     "duration": 0.441225,
     "end_time": "2021-07-12T00:21:14.702274",
     "exception": false,
     "start_time": "2021-07-12T00:21:14.261049",
     "status": "completed"
    },
    "tags": []
   },
   "outputs": [],
   "source": [
    "#hide\n",
    "import numpy as np\n",
    "import pandas as pd\n",
    "from jinja2 import Template\n",
    "from IPython.display import HTML"
   ]
  },
  {
   "cell_type": "code",
   "execution_count": 2,
   "id": "developed-terminology",
   "metadata": {
    "execution": {
     "iopub.execute_input": "2021-07-12T00:21:14.782953Z",
     "iopub.status.busy": "2021-07-12T00:21:14.782354Z",
     "iopub.status.idle": "2021-07-12T00:21:14.784236Z",
     "shell.execute_reply": "2021-07-12T00:21:14.784856Z"
    },
    "papermill": {
     "duration": 0.044133,
     "end_time": "2021-07-12T00:21:14.784979",
     "exception": false,
     "start_time": "2021-07-12T00:21:14.740846",
     "status": "completed"
    },
    "tags": []
   },
   "outputs": [],
   "source": [
    "#hide\n",
    "\n",
    "# FETCH\n",
    "base_url = 'https://raw.githubusercontent.com/pratapvardhan/notebooks/master/covid19/'\n",
    "paths = {\n",
    "    'mapping': base_url + 'mapping_countries.csv',\n",
    "    'overview': base_url + 'overview.tpl'\n",
    "}"
   ]
  },
  {
   "cell_type": "code",
   "execution_count": 3,
   "id": "dynamic-saver",
   "metadata": {
    "execution": {
     "iopub.execute_input": "2021-07-12T00:21:14.866694Z",
     "iopub.status.busy": "2021-07-12T00:21:14.866082Z",
     "iopub.status.idle": "2021-07-12T00:21:14.869104Z",
     "shell.execute_reply": "2021-07-12T00:21:14.868533Z"
    },
    "papermill": {
     "duration": 0.048124,
     "end_time": "2021-07-12T00:21:14.869211",
     "exception": false,
     "start_time": "2021-07-12T00:21:14.821087",
     "status": "completed"
    },
    "tags": []
   },
   "outputs": [
    {
     "data": {
      "text/plain": [
       "'https://raw.githubusercontent.com/pratapvardhan/notebooks/master/covid19/mapping_countries.csv'"
      ]
     },
     "execution_count": 3,
     "metadata": {},
     "output_type": "execute_result"
    }
   ],
   "source": [
    "#hide\n",
    "paths['mapping']"
   ]
  },
  {
   "cell_type": "code",
   "execution_count": 4,
   "id": "urban-software",
   "metadata": {
    "execution": {
     "iopub.execute_input": "2021-07-12T00:21:14.947625Z",
     "iopub.status.busy": "2021-07-12T00:21:14.946945Z",
     "iopub.status.idle": "2021-07-12T00:21:14.949840Z",
     "shell.execute_reply": "2021-07-12T00:21:14.949221Z"
    },
    "papermill": {
     "duration": 0.043423,
     "end_time": "2021-07-12T00:21:14.949949",
     "exception": false,
     "start_time": "2021-07-12T00:21:14.906526",
     "status": "completed"
    },
    "tags": []
   },
   "outputs": [],
   "source": [
    "#hide\n",
    "def get_mappings(url):\n",
    "    df = pd.read_csv(url)\n",
    "    return {\n",
    "        'df': df,\n",
    "        'replace.country': dict(df.dropna(subset=['Name']).set_index('Country')['Name']),\n",
    "        'map.continent': dict(df.set_index('Name')['Continent'])\n",
    "    }"
   ]
  },
  {
   "cell_type": "code",
   "execution_count": 5,
   "id": "intimate-machinery",
   "metadata": {
    "execution": {
     "iopub.execute_input": "2021-07-12T00:21:15.030641Z",
     "iopub.status.busy": "2021-07-12T00:21:15.030029Z",
     "iopub.status.idle": "2021-07-12T00:21:15.071415Z",
     "shell.execute_reply": "2021-07-12T00:21:15.070793Z"
    },
    "papermill": {
     "duration": 0.084597,
     "end_time": "2021-07-12T00:21:15.071636",
     "exception": false,
     "start_time": "2021-07-12T00:21:14.987039",
     "status": "completed"
    },
    "tags": []
   },
   "outputs": [],
   "source": [
    "#hide\n",
    "mapping = get_mappings(paths['mapping'])"
   ]
  },
  {
   "cell_type": "code",
   "execution_count": 6,
   "id": "certified-tactics",
   "metadata": {
    "execution": {
     "iopub.execute_input": "2021-07-12T00:21:15.150962Z",
     "iopub.status.busy": "2021-07-12T00:21:15.150277Z",
     "iopub.status.idle": "2021-07-12T00:21:15.152176Z",
     "shell.execute_reply": "2021-07-12T00:21:15.153690Z"
    },
    "papermill": {
     "duration": 0.044622,
     "end_time": "2021-07-12T00:21:15.154058",
     "exception": false,
     "start_time": "2021-07-12T00:21:15.109436",
     "status": "completed"
    },
    "tags": []
   },
   "outputs": [],
   "source": [
    "#hide\n",
    "def get_template(path):\n",
    "    from urllib.parse import urlparse\n",
    "    if bool(urlparse(path).netloc):\n",
    "        from urllib.request import urlopen\n",
    "        return urlopen(path).read().decode('utf8')\n",
    "    return open(path).read()"
   ]
  },
  {
   "cell_type": "code",
   "execution_count": 7,
   "id": "realistic-blast",
   "metadata": {
    "execution": {
     "iopub.execute_input": "2021-07-12T00:21:15.258409Z",
     "iopub.status.busy": "2021-07-12T00:21:15.257738Z",
     "iopub.status.idle": "2021-07-12T00:21:15.259747Z",
     "shell.execute_reply": "2021-07-12T00:21:15.260381Z"
    },
    "papermill": {
     "duration": 0.057779,
     "end_time": "2021-07-12T00:21:15.260531",
     "exception": false,
     "start_time": "2021-07-12T00:21:15.202752",
     "status": "completed"
    },
    "tags": []
   },
   "outputs": [],
   "source": [
    "#hide\n",
    "def get_frame(name):\n",
    "    url = (\n",
    "        'https://raw.githubusercontent.com/CSSEGISandData/COVID-19/master/csse_covid_19_data/'\n",
    "        f'csse_covid_19_time_series/time_series_covid19_{name}_global.csv')\n",
    "    df = pd.read_csv(url)\n",
    "    # rename countries\n",
    "    df['Country/Region'] = df['Country/Region'].replace(mapping['replace.country'])\n",
    "    return df"
   ]
  },
  {
   "cell_type": "code",
   "execution_count": 8,
   "id": "affiliated-characterization",
   "metadata": {
    "execution": {
     "iopub.execute_input": "2021-07-12T00:21:15.357411Z",
     "iopub.status.busy": "2021-07-12T00:21:15.356746Z",
     "iopub.status.idle": "2021-07-12T00:21:15.360382Z",
     "shell.execute_reply": "2021-07-12T00:21:15.359700Z"
    },
    "papermill": {
     "duration": 0.059504,
     "end_time": "2021-07-12T00:21:15.360606",
     "exception": false,
     "start_time": "2021-07-12T00:21:15.301102",
     "status": "completed"
    },
    "tags": []
   },
   "outputs": [],
   "source": [
    "#hide\n",
    "def get_dates(df):\n",
    "    dt_cols = df.columns[~df.columns.isin(['Province/State', 'Country/Region', 'Lat', 'Long'])]\n",
    "    LAST_DATE_I = -1\n",
    "    # sometimes last column may be empty, then go backwards\n",
    "    for i in range(-1, -len(dt_cols), -1):\n",
    "        if not df[dt_cols[i]].fillna(0).eq(0).all():\n",
    "            LAST_DATE_I = i\n",
    "            break\n",
    "    return LAST_DATE_I, dt_cols"
   ]
  },
  {
   "cell_type": "code",
   "execution_count": 9,
   "id": "recent-optimization",
   "metadata": {
    "execution": {
     "iopub.execute_input": "2021-07-12T00:21:15.439393Z",
     "iopub.status.busy": "2021-07-12T00:21:15.438748Z",
     "iopub.status.idle": "2021-07-12T00:21:15.852850Z",
     "shell.execute_reply": "2021-07-12T00:21:15.853924Z"
    },
    "papermill": {
     "duration": 0.456035,
     "end_time": "2021-07-12T00:21:15.854094",
     "exception": false,
     "start_time": "2021-07-12T00:21:15.398059",
     "status": "completed"
    },
    "tags": []
   },
   "outputs": [],
   "source": [
    "#hide\n",
    "COL_REGION = 'Country/Region'\n",
    "# Confirmed, Recovered, Deaths\n",
    "df = get_frame('confirmed')\n",
    "# dft_: timeseries, dfc_: today country agg\n",
    "dft_cases = df\n",
    "dft_deaths = get_frame('deaths')\n",
    "dft_recovered = get_frame('recovered')\n",
    "LAST_DATE_I, dt_cols = get_dates(df)"
   ]
  },
  {
   "cell_type": "code",
   "execution_count": 10,
   "id": "absolute-copper",
   "metadata": {
    "execution": {
     "iopub.execute_input": "2021-07-12T00:21:15.938719Z",
     "iopub.status.busy": "2021-07-12T00:21:15.938059Z",
     "iopub.status.idle": "2021-07-12T00:21:15.940109Z",
     "shell.execute_reply": "2021-07-12T00:21:15.940677Z"
    },
    "papermill": {
     "duration": 0.0475,
     "end_time": "2021-07-12T00:21:15.940832",
     "exception": false,
     "start_time": "2021-07-12T00:21:15.893332",
     "status": "completed"
    },
    "tags": []
   },
   "outputs": [],
   "source": [
    "#hide\n",
    "LAST_DATE_I, dt_cols = get_dates(df)\n",
    "dt_today =dt_cols[LAST_DATE_I]\n",
    "# dt_5day = dt_cols[LAST_DATE_I - 5]\n",
    "dt_yday = dt_cols[LAST_DATE_I - 1]"
   ]
  },
  {
   "cell_type": "code",
   "execution_count": 11,
   "id": "restricted-sheriff",
   "metadata": {
    "execution": {
     "iopub.execute_input": "2021-07-12T00:21:16.029513Z",
     "iopub.status.busy": "2021-07-12T00:21:16.028858Z",
     "iopub.status.idle": "2021-07-12T00:21:16.035088Z",
     "shell.execute_reply": "2021-07-12T00:21:16.035805Z"
    },
    "papermill": {
     "duration": 0.056855,
     "end_time": "2021-07-12T00:21:16.035961",
     "exception": false,
     "start_time": "2021-07-12T00:21:15.979106",
     "status": "completed"
    },
    "tags": []
   },
   "outputs": [],
   "source": [
    "#hide\n",
    "dfc_cases = dft_cases.groupby(COL_REGION)[dt_today].sum()\n",
    "dfc_deaths = dft_deaths.groupby(COL_REGION)[dt_today].sum()\n",
    "# dfp_cases = dft_cases.groupby(COL_REGION)[dt_5day].sum()\n",
    "# dfp_deaths = dft_deaths.groupby(COL_REGION)[dt_5day].sum()\n",
    "dfp_cases = dft_cases.groupby(COL_REGION)[dt_yday].sum()\n",
    "dfp_deaths = dft_deaths.groupby(COL_REGION)[dt_yday].sum()"
   ]
  },
  {
   "cell_type": "code",
   "execution_count": 12,
   "id": "deluxe-hepatitis",
   "metadata": {
    "execution": {
     "iopub.execute_input": "2021-07-12T00:21:16.121355Z",
     "iopub.status.busy": "2021-07-12T00:21:16.120504Z",
     "iopub.status.idle": "2021-07-12T00:21:16.125548Z",
     "shell.execute_reply": "2021-07-12T00:21:16.126244Z"
    },
    "papermill": {
     "duration": 0.049572,
     "end_time": "2021-07-12T00:21:16.126398",
     "exception": false,
     "start_time": "2021-07-12T00:21:16.076826",
     "status": "completed"
    },
    "tags": []
   },
   "outputs": [],
   "source": [
    "#hide\n",
    "df_table = (pd.DataFrame(dict(Cases = dfc_cases, Deaths = dfc_deaths, PCases = dfp_cases, PDeaths = dfp_deaths))\n",
    "            .sort_values(by = ['Cases','Deaths'], ascending = [False, False])\n",
    "            .reset_index())"
   ]
  },
  {
   "cell_type": "code",
   "execution_count": 13,
   "id": "educational-chancellor",
   "metadata": {
    "execution": {
     "iopub.execute_input": "2021-07-12T00:21:16.223413Z",
     "iopub.status.busy": "2021-07-12T00:21:16.222736Z",
     "iopub.status.idle": "2021-07-12T00:21:16.231849Z",
     "shell.execute_reply": "2021-07-12T00:21:16.231246Z"
    },
    "papermill": {
     "duration": 0.068083,
     "end_time": "2021-07-12T00:21:16.231970",
     "exception": false,
     "start_time": "2021-07-12T00:21:16.163887",
     "status": "completed"
    },
    "tags": []
   },
   "outputs": [
    {
     "data": {
      "text/html": [
       "<div>\n",
       "<style scoped>\n",
       "    .dataframe tbody tr th:only-of-type {\n",
       "        vertical-align: middle;\n",
       "    }\n",
       "\n",
       "    .dataframe tbody tr th {\n",
       "        vertical-align: top;\n",
       "    }\n",
       "\n",
       "    .dataframe thead th {\n",
       "        text-align: right;\n",
       "    }\n",
       "</style>\n",
       "<table border=\"1\" class=\"dataframe\">\n",
       "  <thead>\n",
       "    <tr style=\"text-align: right;\">\n",
       "      <th></th>\n",
       "      <th>Country/Region</th>\n",
       "      <th>Cases</th>\n",
       "      <th>Deaths</th>\n",
       "      <th>PCases</th>\n",
       "      <th>PDeaths</th>\n",
       "      <th>Cases (+)</th>\n",
       "      <th>Deaths (+)</th>\n",
       "      <th>Fatality Rate</th>\n",
       "      <th>Continent</th>\n",
       "    </tr>\n",
       "  </thead>\n",
       "  <tbody>\n",
       "    <tr>\n",
       "      <th>0</th>\n",
       "      <td>US</td>\n",
       "      <td>33847784</td>\n",
       "      <td>607132</td>\n",
       "      <td>33838746</td>\n",
       "      <td>606993</td>\n",
       "      <td>9038</td>\n",
       "      <td>139</td>\n",
       "      <td>1.79</td>\n",
       "      <td>North America</td>\n",
       "    </tr>\n",
       "    <tr>\n",
       "      <th>1</th>\n",
       "      <td>India</td>\n",
       "      <td>30837222</td>\n",
       "      <td>408040</td>\n",
       "      <td>30795716</td>\n",
       "      <td>407145</td>\n",
       "      <td>41506</td>\n",
       "      <td>895</td>\n",
       "      <td>1.32</td>\n",
       "      <td>Asia</td>\n",
       "    </tr>\n",
       "    <tr>\n",
       "      <th>2</th>\n",
       "      <td>Brazil</td>\n",
       "      <td>19069003</td>\n",
       "      <td>532893</td>\n",
       "      <td>19020499</td>\n",
       "      <td>531688</td>\n",
       "      <td>48504</td>\n",
       "      <td>1205</td>\n",
       "      <td>2.79</td>\n",
       "      <td>South America</td>\n",
       "    </tr>\n",
       "    <tr>\n",
       "      <th>3</th>\n",
       "      <td>France</td>\n",
       "      <td>5870463</td>\n",
       "      <td>111511</td>\n",
       "      <td>5865767</td>\n",
       "      <td>111492</td>\n",
       "      <td>4696</td>\n",
       "      <td>19</td>\n",
       "      <td>1.90</td>\n",
       "      <td>Europe</td>\n",
       "    </tr>\n",
       "    <tr>\n",
       "      <th>4</th>\n",
       "      <td>Russia</td>\n",
       "      <td>5688807</td>\n",
       "      <td>139896</td>\n",
       "      <td>5664200</td>\n",
       "      <td>139156</td>\n",
       "      <td>24607</td>\n",
       "      <td>740</td>\n",
       "      <td>2.46</td>\n",
       "      <td>Europe</td>\n",
       "    </tr>\n",
       "  </tbody>\n",
       "</table>\n",
       "</div>"
      ],
      "text/plain": [
       "  Country/Region     Cases  Deaths    PCases  PDeaths  Cases (+)  Deaths (+)  \\\n",
       "0             US  33847784  607132  33838746   606993       9038         139   \n",
       "1          India  30837222  408040  30795716   407145      41506         895   \n",
       "2         Brazil  19069003  532893  19020499   531688      48504        1205   \n",
       "3         France   5870463  111511   5865767   111492       4696          19   \n",
       "4         Russia   5688807  139896   5664200   139156      24607         740   \n",
       "\n",
       "   Fatality Rate      Continent  \n",
       "0           1.79  North America  \n",
       "1           1.32           Asia  \n",
       "2           2.79  South America  \n",
       "3           1.90         Europe  \n",
       "4           2.46         Europe  "
      ]
     },
     "execution_count": 13,
     "metadata": {},
     "output_type": "execute_result"
    }
   ],
   "source": [
    "#hide\n",
    "for c in 'Cases, Deaths'.split(', '):\n",
    "    df_table[f'{c} (+)'] = (df_table[c] - df_table[f'P{c}']).clip(0)\n",
    "    #Clip ça veut dire, les chiffres negatif sont interdit\n",
    "df_table['Fatality Rate'] = (100* df_table['Deaths']/ df_table['Cases']).round(2)\n",
    "df_table['Continent'] = df_table['Country/Region'].map(mapping['map.continent'])\n",
    "df_table.head(5)"
   ]
  },
  {
   "cell_type": "code",
   "execution_count": 14,
   "id": "aboriginal-bulgaria",
   "metadata": {
    "execution": {
     "iopub.execute_input": "2021-07-12T00:21:16.322812Z",
     "iopub.status.busy": "2021-07-12T00:21:16.322183Z",
     "iopub.status.idle": "2021-07-12T00:21:16.324321Z",
     "shell.execute_reply": "2021-07-12T00:21:16.324876Z"
    },
    "papermill": {
     "duration": 0.052881,
     "end_time": "2021-07-12T00:21:16.325008",
     "exception": false,
     "start_time": "2021-07-12T00:21:16.272127",
     "status": "completed"
    },
    "tags": []
   },
   "outputs": [],
   "source": [
    "#hide\n",
    "#delete problematic countries from table\n",
    "df_table = df_table[~df_table['Country/Region'].isin(['Cape Verde', 'Cruise Ship', 'Kosovo'])]"
   ]
  },
  {
   "cell_type": "code",
   "execution_count": 15,
   "id": "fantastic-effect",
   "metadata": {
    "execution": {
     "iopub.execute_input": "2021-07-12T00:21:16.407688Z",
     "iopub.status.busy": "2021-07-12T00:21:16.407051Z",
     "iopub.status.idle": "2021-07-12T00:21:16.431197Z",
     "shell.execute_reply": "2021-07-12T00:21:16.431798Z"
    },
    "papermill": {
     "duration": 0.06878,
     "end_time": "2021-07-12T00:21:16.431937",
     "exception": false,
     "start_time": "2021-07-12T00:21:16.363157",
     "status": "completed"
    },
    "tags": []
   },
   "outputs": [
    {
     "data": {
      "text/html": [
       "<div>\n",
       "<style scoped>\n",
       "    .dataframe tbody tr th:only-of-type {\n",
       "        vertical-align: middle;\n",
       "    }\n",
       "\n",
       "    .dataframe tbody tr th {\n",
       "        vertical-align: top;\n",
       "    }\n",
       "\n",
       "    .dataframe thead th {\n",
       "        text-align: right;\n",
       "    }\n",
       "</style>\n",
       "<table border=\"1\" class=\"dataframe\">\n",
       "  <thead>\n",
       "    <tr style=\"text-align: right;\">\n",
       "      <th></th>\n",
       "      <th>Country/Region</th>\n",
       "      <th>Cases</th>\n",
       "      <th>Deaths</th>\n",
       "      <th>PCases</th>\n",
       "      <th>PDeaths</th>\n",
       "      <th>Cases (+)</th>\n",
       "      <th>Deaths (+)</th>\n",
       "      <th>Fatality Rate</th>\n",
       "      <th>Continent</th>\n",
       "    </tr>\n",
       "  </thead>\n",
       "  <tbody>\n",
       "    <tr>\n",
       "      <th>0</th>\n",
       "      <td>US</td>\n",
       "      <td>33847784</td>\n",
       "      <td>607132</td>\n",
       "      <td>33838746</td>\n",
       "      <td>606993</td>\n",
       "      <td>9038</td>\n",
       "      <td>139</td>\n",
       "      <td>1.8</td>\n",
       "      <td>North America</td>\n",
       "    </tr>\n",
       "    <tr>\n",
       "      <th>1</th>\n",
       "      <td>India</td>\n",
       "      <td>30837222</td>\n",
       "      <td>408040</td>\n",
       "      <td>30795716</td>\n",
       "      <td>407145</td>\n",
       "      <td>41506</td>\n",
       "      <td>895</td>\n",
       "      <td>1.3</td>\n",
       "      <td>Asia</td>\n",
       "    </tr>\n",
       "    <tr>\n",
       "      <th>2</th>\n",
       "      <td>Brazil</td>\n",
       "      <td>19069003</td>\n",
       "      <td>532893</td>\n",
       "      <td>19020499</td>\n",
       "      <td>531688</td>\n",
       "      <td>48504</td>\n",
       "      <td>1205</td>\n",
       "      <td>2.8</td>\n",
       "      <td>South America</td>\n",
       "    </tr>\n",
       "    <tr>\n",
       "      <th>3</th>\n",
       "      <td>France</td>\n",
       "      <td>5870463</td>\n",
       "      <td>111511</td>\n",
       "      <td>5865767</td>\n",
       "      <td>111492</td>\n",
       "      <td>4696</td>\n",
       "      <td>19</td>\n",
       "      <td>1.9</td>\n",
       "      <td>Europe</td>\n",
       "    </tr>\n",
       "    <tr>\n",
       "      <th>4</th>\n",
       "      <td>Russia</td>\n",
       "      <td>5688807</td>\n",
       "      <td>139896</td>\n",
       "      <td>5664200</td>\n",
       "      <td>139156</td>\n",
       "      <td>24607</td>\n",
       "      <td>740</td>\n",
       "      <td>2.5</td>\n",
       "      <td>Europe</td>\n",
       "    </tr>\n",
       "  </tbody>\n",
       "</table>\n",
       "</div>"
      ],
      "text/plain": [
       "  Country/Region     Cases  Deaths    PCases  PDeaths  Cases (+)  Deaths (+)  \\\n",
       "0             US  33847784  607132  33838746   606993       9038         139   \n",
       "1          India  30837222  408040  30795716   407145      41506         895   \n",
       "2         Brazil  19069003  532893  19020499   531688      48504        1205   \n",
       "3         France   5870463  111511   5865767   111492       4696          19   \n",
       "4         Russia   5688807  139896   5664200   139156      24607         740   \n",
       "\n",
       "   Fatality Rate      Continent  \n",
       "0            1.8  North America  \n",
       "1            1.3           Asia  \n",
       "2            2.8  South America  \n",
       "3            1.9         Europe  \n",
       "4            2.5         Europe  "
      ]
     },
     "execution_count": 15,
     "metadata": {},
     "output_type": "execute_result"
    }
   ],
   "source": [
    "#hide\n",
    "df_table = (pd.DataFrame(dict(Cases=dfc_cases, Deaths=dfc_deaths, PCases=dfp_cases, PDeaths=dfp_deaths))\n",
    "             .sort_values(by=['Cases', 'Deaths'], ascending=[False, False])\n",
    "             .reset_index())\n",
    "df_table.rename(columns={'index': 'Country/Region'}, inplace=True)\n",
    "for c in 'Cases, Deaths'.split(', '):\n",
    "    df_table[f'{c} (+)'] = (df_table[c] - df_table[f'P{c}']).clip(0)  # DATA BUG\n",
    "df_table['Fatality Rate'] = (100 * df_table['Deaths'] / df_table['Cases']).round(1)\n",
    "df_table['Continent'] = df_table['Country/Region'].map(mapping['map.continent'])\n",
    "df_table.head(5)"
   ]
  },
  {
   "cell_type": "code",
   "execution_count": 16,
   "id": "fewer-occasion",
   "metadata": {
    "execution": {
     "iopub.execute_input": "2021-07-12T00:21:16.521535Z",
     "iopub.status.busy": "2021-07-12T00:21:16.520731Z",
     "iopub.status.idle": "2021-07-12T00:21:16.523391Z",
     "shell.execute_reply": "2021-07-12T00:21:16.522501Z"
    },
    "papermill": {
     "duration": 0.050666,
     "end_time": "2021-07-12T00:21:16.523561",
     "exception": false,
     "start_time": "2021-07-12T00:21:16.472895",
     "status": "completed"
    },
    "tags": []
   },
   "outputs": [],
   "source": [
    "#hide\n",
    "#delete problematic countries from table\n",
    "df_table = df_table[~df_table['Country/Region'].isin(['Cape Verde', 'Cruise Ship', 'Kosovo'])]"
   ]
  },
  {
   "cell_type": "code",
   "execution_count": 17,
   "id": "related-center",
   "metadata": {
    "execution": {
     "iopub.execute_input": "2021-07-12T00:21:16.620452Z",
     "iopub.status.busy": "2021-07-12T00:21:16.619850Z",
     "iopub.status.idle": "2021-07-12T00:21:16.621695Z",
     "shell.execute_reply": "2021-07-12T00:21:16.622161Z"
    },
    "papermill": {
     "duration": 0.059564,
     "end_time": "2021-07-12T00:21:16.622292",
     "exception": false,
     "start_time": "2021-07-12T00:21:16.562728",
     "status": "completed"
    },
    "tags": []
   },
   "outputs": [],
   "source": [
    "#hide\n",
    "metrics = [df_table.columns[index] for index in [1,2,5,6]]\n",
    "# s_china = df_table[df_table['Country/Region'].eq('China')][metrics].sum().add_prefix('China ')\n",
    "s_us = df_table[df_table['Country/Region'].eq('US')][metrics].sum().add_prefix('US ')\n",
    "s_eu = df_table[df_table['Continent'].eq('Europe')][metrics].sum().add_prefix('EU ')\n",
    "s_ind = df_table[df_table['Country/Region'].eq('India')][metrics].sum().add_prefix('India ')\n",
    "summary = {'updated': pd.to_datetime(dt_today), 'since': pd.to_datetime(dt_yday)}\n",
    "summary = {'updated': pd.to_datetime(dt_today), 'since': pd.to_datetime(dt_yday)}\n",
    "summary = {**summary, **df_table[metrics].sum(), **s_ind, **s_us, **s_eu}"
   ]
  },
  {
   "cell_type": "code",
   "execution_count": 18,
   "id": "engaging-syndrome",
   "metadata": {
    "execution": {
     "iopub.execute_input": "2021-07-12T00:21:16.704223Z",
     "iopub.status.busy": "2021-07-12T00:21:16.700718Z",
     "iopub.status.idle": "2021-07-12T00:21:16.714940Z",
     "shell.execute_reply": "2021-07-12T00:21:16.714374Z"
    },
    "papermill": {
     "duration": 0.055126,
     "end_time": "2021-07-12T00:21:16.715090",
     "exception": false,
     "start_time": "2021-07-12T00:21:16.659964",
     "status": "completed"
    },
    "tags": []
   },
   "outputs": [],
   "source": [
    "#hide\n",
    "dft_ct_new_cases = dft_cases.groupby(COL_REGION)[dt_cols].sum().diff(axis=1).fillna(0).astype(int)"
   ]
  },
  {
   "cell_type": "code",
   "execution_count": 19,
   "id": "neutral-assignment",
   "metadata": {
    "execution": {
     "iopub.execute_input": "2021-07-12T00:21:16.797034Z",
     "iopub.status.busy": "2021-07-12T00:21:16.796404Z",
     "iopub.status.idle": "2021-07-12T00:21:16.798794Z",
     "shell.execute_reply": "2021-07-12T00:21:16.798067Z"
    },
    "papermill": {
     "duration": 0.046182,
     "end_time": "2021-07-12T00:21:16.798941",
     "exception": false,
     "start_time": "2021-07-12T00:21:16.752759",
     "status": "completed"
    },
    "tags": []
   },
   "outputs": [],
   "source": [
    "#hide\n",
    "everydaycases = dft_ct_new_cases.cumsum(axis=1)"
   ]
  },
  {
   "cell_type": "code",
   "execution_count": 20,
   "id": "parliamentary-calgary",
   "metadata": {
    "execution": {
     "iopub.execute_input": "2021-07-12T00:21:16.881558Z",
     "iopub.status.busy": "2021-07-12T00:21:16.880933Z",
     "iopub.status.idle": "2021-07-12T00:21:17.565860Z",
     "shell.execute_reply": "2021-07-12T00:21:17.566386Z"
    },
    "papermill": {
     "duration": 0.728506,
     "end_time": "2021-07-12T00:21:17.566543",
     "exception": false,
     "start_time": "2021-07-12T00:21:16.838037",
     "status": "completed"
    },
    "tags": []
   },
   "outputs": [],
   "source": [
    "#hide\n",
    "import pandas as pd\n",
    "import matplotlib.pyplot as plt\n",
    "import matplotlib.ticker as ticker\n",
    "import matplotlib.animation as animation\n",
    "from IPython.display import HTML"
   ]
  },
  {
   "cell_type": "code",
   "execution_count": 21,
   "id": "lasting-extraction",
   "metadata": {
    "execution": {
     "iopub.execute_input": "2021-07-12T00:21:17.644291Z",
     "iopub.status.busy": "2021-07-12T00:21:17.643663Z",
     "iopub.status.idle": "2021-07-12T00:21:17.649344Z",
     "shell.execute_reply": "2021-07-12T00:21:17.649877Z"
    },
    "papermill": {
     "duration": 0.046212,
     "end_time": "2021-07-12T00:21:17.650000",
     "exception": false,
     "start_time": "2021-07-12T00:21:17.603788",
     "status": "completed"
    },
    "tags": []
   },
   "outputs": [],
   "source": [
    "#hide\n",
    "t = everydaycases.stack()"
   ]
  },
  {
   "cell_type": "code",
   "execution_count": 22,
   "id": "premier-sleeve",
   "metadata": {
    "execution": {
     "iopub.execute_input": "2021-07-12T00:21:17.726375Z",
     "iopub.status.busy": "2021-07-12T00:21:17.725751Z",
     "iopub.status.idle": "2021-07-12T00:21:17.733465Z",
     "shell.execute_reply": "2021-07-12T00:21:17.733906Z"
    },
    "papermill": {
     "duration": 0.047304,
     "end_time": "2021-07-12T00:21:17.734029",
     "exception": false,
     "start_time": "2021-07-12T00:21:17.686725",
     "status": "completed"
    },
    "tags": []
   },
   "outputs": [],
   "source": [
    "#hide\n",
    "g = t.reset_index(['Country/Region'])"
   ]
  },
  {
   "cell_type": "code",
   "execution_count": 23,
   "id": "distributed-pittsburgh",
   "metadata": {
    "execution": {
     "iopub.execute_input": "2021-07-12T00:21:17.810671Z",
     "iopub.status.busy": "2021-07-12T00:21:17.810098Z",
     "iopub.status.idle": "2021-07-12T00:21:17.812467Z",
     "shell.execute_reply": "2021-07-12T00:21:17.811903Z"
    },
    "papermill": {
     "duration": 0.042936,
     "end_time": "2021-07-12T00:21:17.812577",
     "exception": false,
     "start_time": "2021-07-12T00:21:17.769641",
     "status": "completed"
    },
    "tags": []
   },
   "outputs": [],
   "source": [
    "#hide\n",
    "g.index.name = 'date'"
   ]
  },
  {
   "cell_type": "code",
   "execution_count": 24,
   "id": "naked-donor",
   "metadata": {
    "execution": {
     "iopub.execute_input": "2021-07-12T00:21:17.887433Z",
     "iopub.status.busy": "2021-07-12T00:21:17.886797Z",
     "iopub.status.idle": "2021-07-12T00:21:17.889469Z",
     "shell.execute_reply": "2021-07-12T00:21:17.888884Z"
    },
    "papermill": {
     "duration": 0.041326,
     "end_time": "2021-07-12T00:21:17.889599",
     "exception": false,
     "start_time": "2021-07-12T00:21:17.848273",
     "status": "completed"
    },
    "tags": []
   },
   "outputs": [],
   "source": [
    "# #hide\n",
    "# g = g.reset_index(['date'])"
   ]
  },
  {
   "cell_type": "code",
   "execution_count": 25,
   "id": "incomplete-mustang",
   "metadata": {
    "execution": {
     "iopub.execute_input": "2021-07-12T00:21:17.972812Z",
     "iopub.status.busy": "2021-07-12T00:21:17.972203Z",
     "iopub.status.idle": "2021-07-12T00:21:17.974059Z",
     "shell.execute_reply": "2021-07-12T00:21:17.974578Z"
    },
    "papermill": {
     "duration": 0.044511,
     "end_time": "2021-07-12T00:21:17.974716",
     "exception": false,
     "start_time": "2021-07-12T00:21:17.930205",
     "status": "completed"
    },
    "tags": []
   },
   "outputs": [],
   "source": [
    "#hide\n",
    "# g.head()"
   ]
  },
  {
   "cell_type": "code",
   "execution_count": 26,
   "id": "specific-kruger",
   "metadata": {
    "execution": {
     "iopub.execute_input": "2021-07-12T00:21:18.056520Z",
     "iopub.status.busy": "2021-07-12T00:21:18.055903Z",
     "iopub.status.idle": "2021-07-12T00:21:18.057751Z",
     "shell.execute_reply": "2021-07-12T00:21:18.058315Z"
    },
    "papermill": {
     "duration": 0.044182,
     "end_time": "2021-07-12T00:21:18.058438",
     "exception": false,
     "start_time": "2021-07-12T00:21:18.014256",
     "status": "completed"
    },
    "tags": []
   },
   "outputs": [],
   "source": [
    "#hide\n",
    "# g.columns = ['date','country','cases']"
   ]
  },
  {
   "cell_type": "code",
   "execution_count": 27,
   "id": "tender-conversion",
   "metadata": {
    "execution": {
     "iopub.execute_input": "2021-07-12T00:21:18.139482Z",
     "iopub.status.busy": "2021-07-12T00:21:18.138823Z",
     "iopub.status.idle": "2021-07-12T00:21:18.140808Z",
     "shell.execute_reply": "2021-07-12T00:21:18.141331Z"
    },
    "papermill": {
     "duration": 0.044054,
     "end_time": "2021-07-12T00:21:18.141458",
     "exception": false,
     "start_time": "2021-07-12T00:21:18.097404",
     "status": "completed"
    },
    "tags": []
   },
   "outputs": [],
   "source": [
    "#hide\n",
    "# g['continent'] = g.country"
   ]
  },
  {
   "cell_type": "code",
   "execution_count": 28,
   "id": "substantial-wilderness",
   "metadata": {
    "execution": {
     "iopub.execute_input": "2021-07-12T00:21:18.220444Z",
     "iopub.status.busy": "2021-07-12T00:21:18.219805Z",
     "iopub.status.idle": "2021-07-12T00:21:18.222268Z",
     "shell.execute_reply": "2021-07-12T00:21:18.221608Z"
    },
    "papermill": {
     "duration": 0.043241,
     "end_time": "2021-07-12T00:21:18.222392",
     "exception": false,
     "start_time": "2021-07-12T00:21:18.179151",
     "status": "completed"
    },
    "tags": []
   },
   "outputs": [],
   "source": [
    "#hide\n",
    "# cols = list(g.columns.values)"
   ]
  },
  {
   "cell_type": "code",
   "execution_count": 29,
   "id": "solved-farming",
   "metadata": {
    "execution": {
     "iopub.execute_input": "2021-07-12T00:21:18.305105Z",
     "iopub.status.busy": "2021-07-12T00:21:18.304500Z",
     "iopub.status.idle": "2021-07-12T00:21:18.306791Z",
     "shell.execute_reply": "2021-07-12T00:21:18.306265Z"
    },
    "papermill": {
     "duration": 0.045034,
     "end_time": "2021-07-12T00:21:18.306904",
     "exception": false,
     "start_time": "2021-07-12T00:21:18.261870",
     "status": "completed"
    },
    "tags": []
   },
   "outputs": [],
   "source": [
    "#hide\n",
    "# cols.insert(0, cols.pop())"
   ]
  },
  {
   "cell_type": "code",
   "execution_count": 30,
   "id": "executed-adoption",
   "metadata": {
    "execution": {
     "iopub.execute_input": "2021-07-12T00:21:18.387373Z",
     "iopub.status.busy": "2021-07-12T00:21:18.386631Z",
     "iopub.status.idle": "2021-07-12T00:21:18.388638Z",
     "shell.execute_reply": "2021-07-12T00:21:18.389185Z"
    },
    "papermill": {
     "duration": 0.044796,
     "end_time": "2021-07-12T00:21:18.389315",
     "exception": false,
     "start_time": "2021-07-12T00:21:18.344519",
     "status": "completed"
    },
    "tags": []
   },
   "outputs": [],
   "source": [
    "#hide\n",
    "# g = g[cols]"
   ]
  },
  {
   "cell_type": "code",
   "execution_count": 31,
   "id": "subject-dublin",
   "metadata": {
    "execution": {
     "iopub.execute_input": "2021-07-12T00:21:18.476427Z",
     "iopub.status.busy": "2021-07-12T00:21:18.475768Z",
     "iopub.status.idle": "2021-07-12T00:21:18.478105Z",
     "shell.execute_reply": "2021-07-12T00:21:18.477498Z"
    },
    "papermill": {
     "duration": 0.042122,
     "end_time": "2021-07-12T00:21:18.478216",
     "exception": false,
     "start_time": "2021-07-12T00:21:18.436094",
     "status": "completed"
    },
    "tags": []
   },
   "outputs": [],
   "source": [
    "#hide\n",
    "# g['continent'] = g['continent'].map(mapping['map.continent'])"
   ]
  },
  {
   "cell_type": "code",
   "execution_count": 32,
   "id": "freelance-scout",
   "metadata": {
    "execution": {
     "iopub.execute_input": "2021-07-12T00:21:18.562096Z",
     "iopub.status.busy": "2021-07-12T00:21:18.561513Z",
     "iopub.status.idle": "2021-07-12T00:21:18.563998Z",
     "shell.execute_reply": "2021-07-12T00:21:18.563370Z"
    },
    "papermill": {
     "duration": 0.046815,
     "end_time": "2021-07-12T00:21:18.564108",
     "exception": false,
     "start_time": "2021-07-12T00:21:18.517293",
     "status": "completed"
    },
    "tags": []
   },
   "outputs": [],
   "source": [
    "#hide\n",
    "# g.head()"
   ]
  },
  {
   "cell_type": "code",
   "execution_count": 33,
   "id": "limited-engine",
   "metadata": {
    "execution": {
     "iopub.execute_input": "2021-07-12T00:21:18.643732Z",
     "iopub.status.busy": "2021-07-12T00:21:18.643046Z",
     "iopub.status.idle": "2021-07-12T00:21:18.644539Z",
     "shell.execute_reply": "2021-07-12T00:21:18.645149Z"
    },
    "papermill": {
     "duration": 0.043918,
     "end_time": "2021-07-12T00:21:18.645277",
     "exception": false,
     "start_time": "2021-07-12T00:21:18.601359",
     "status": "completed"
    },
    "tags": []
   },
   "outputs": [],
   "source": [
    "# hide\n",
    "# g['date'] = g['date'].astype('datetime64[ns]')"
   ]
  },
  {
   "cell_type": "code",
   "execution_count": 34,
   "id": "sophisticated-supervisor",
   "metadata": {
    "execution": {
     "iopub.execute_input": "2021-07-12T00:21:18.725178Z",
     "iopub.status.busy": "2021-07-12T00:21:18.724517Z",
     "iopub.status.idle": "2021-07-12T00:21:18.726426Z",
     "shell.execute_reply": "2021-07-12T00:21:18.727005Z"
    },
    "papermill": {
     "duration": 0.04244,
     "end_time": "2021-07-12T00:21:18.727149",
     "exception": false,
     "start_time": "2021-07-12T00:21:18.684709",
     "status": "completed"
    },
    "tags": []
   },
   "outputs": [],
   "source": [
    "#hide\n",
    "# g['date'] = g.date.dt.dayofyear"
   ]
  },
  {
   "cell_type": "code",
   "execution_count": 35,
   "id": "inside-dubai",
   "metadata": {
    "execution": {
     "iopub.execute_input": "2021-07-12T00:21:18.801876Z",
     "iopub.status.busy": "2021-07-12T00:21:18.801250Z",
     "iopub.status.idle": "2021-07-12T00:21:18.803908Z",
     "shell.execute_reply": "2021-07-12T00:21:18.803396Z"
    },
    "papermill": {
     "duration": 0.041044,
     "end_time": "2021-07-12T00:21:18.804015",
     "exception": false,
     "start_time": "2021-07-12T00:21:18.762971",
     "status": "completed"
    },
    "tags": []
   },
   "outputs": [],
   "source": [
    "#hide\n",
    "# g = g.rename(columns= {'continent':'group','country':'name','cases':'value'})"
   ]
  },
  {
   "cell_type": "code",
   "execution_count": 36,
   "id": "fleet-motorcycle",
   "metadata": {
    "execution": {
     "iopub.execute_input": "2021-07-12T00:21:18.890229Z",
     "iopub.status.busy": "2021-07-12T00:21:18.889568Z",
     "iopub.status.idle": "2021-07-12T00:21:18.892084Z",
     "shell.execute_reply": "2021-07-12T00:21:18.891515Z"
    },
    "papermill": {
     "duration": 0.044374,
     "end_time": "2021-07-12T00:21:18.892212",
     "exception": false,
     "start_time": "2021-07-12T00:21:18.847838",
     "status": "completed"
    },
    "tags": []
   },
   "outputs": [],
   "source": [
    "#hide\n",
    "# cols = ['name','group','day','value']"
   ]
  },
  {
   "cell_type": "code",
   "execution_count": 37,
   "id": "continued-sleeping",
   "metadata": {
    "execution": {
     "iopub.execute_input": "2021-07-12T00:21:18.970510Z",
     "iopub.status.busy": "2021-07-12T00:21:18.969933Z",
     "iopub.status.idle": "2021-07-12T00:21:18.972387Z",
     "shell.execute_reply": "2021-07-12T00:21:18.971891Z"
    },
    "papermill": {
     "duration": 0.040991,
     "end_time": "2021-07-12T00:21:18.972495",
     "exception": false,
     "start_time": "2021-07-12T00:21:18.931504",
     "status": "completed"
    },
    "tags": []
   },
   "outputs": [],
   "source": [
    "#hide\n",
    "# g.rename(columns= {'date':'day'},inplace = True)"
   ]
  },
  {
   "cell_type": "code",
   "execution_count": 38,
   "id": "major-fight",
   "metadata": {
    "execution": {
     "iopub.execute_input": "2021-07-12T00:21:19.051339Z",
     "iopub.status.busy": "2021-07-12T00:21:19.050691Z",
     "iopub.status.idle": "2021-07-12T00:21:19.053191Z",
     "shell.execute_reply": "2021-07-12T00:21:19.052610Z"
    },
    "papermill": {
     "duration": 0.044614,
     "end_time": "2021-07-12T00:21:19.053335",
     "exception": false,
     "start_time": "2021-07-12T00:21:19.008721",
     "status": "completed"
    },
    "tags": []
   },
   "outputs": [],
   "source": [
    "#hide\n",
    "# g = g[cols]"
   ]
  },
  {
   "cell_type": "code",
   "execution_count": 39,
   "id": "structured-mobile",
   "metadata": {
    "execution": {
     "iopub.execute_input": "2021-07-12T00:21:19.138584Z",
     "iopub.status.busy": "2021-07-12T00:21:19.137903Z",
     "iopub.status.idle": "2021-07-12T00:21:19.140517Z",
     "shell.execute_reply": "2021-07-12T00:21:19.139721Z"
    },
    "papermill": {
     "duration": 0.0455,
     "end_time": "2021-07-12T00:21:19.140658",
     "exception": false,
     "start_time": "2021-07-12T00:21:19.095158",
     "status": "completed"
    },
    "tags": []
   },
   "outputs": [],
   "source": [
    "# #hide\n",
    "# g = g[g.group.notna()]"
   ]
  },
  {
   "cell_type": "code",
   "execution_count": 40,
   "id": "determined-closing",
   "metadata": {
    "execution": {
     "iopub.execute_input": "2021-07-12T00:21:19.219134Z",
     "iopub.status.busy": "2021-07-12T00:21:19.218513Z",
     "iopub.status.idle": "2021-07-12T00:21:19.221089Z",
     "shell.execute_reply": "2021-07-12T00:21:19.220392Z"
    },
    "papermill": {
     "duration": 0.041315,
     "end_time": "2021-07-12T00:21:19.221234",
     "exception": false,
     "start_time": "2021-07-12T00:21:19.179919",
     "status": "completed"
    },
    "tags": []
   },
   "outputs": [],
   "source": [
    "# #hide\n",
    "# colors = dict(zip(\n",
    "#     [\"Oceania\", \"Europe\", \"Asia\", \"South America\", \"Middle East\", \"North America\", \"Africa\"],\n",
    "#     [\"#adb0ff\", \"#ffb3ff\", \"#90d595\", \"#e48381\", \"#aafbff\", \"#f7bb5f\", \"#eafb50\"]\n",
    "# ))\n",
    "# group_lk = g.set_index('name')['group'].to_dict()"
   ]
  },
  {
   "cell_type": "code",
   "execution_count": null,
   "id": "gross-drinking",
   "metadata": {
    "papermill": {
     "duration": 0.035502,
     "end_time": "2021-07-12T00:21:19.292543",
     "exception": false,
     "start_time": "2021-07-12T00:21:19.257041",
     "status": "completed"
    },
    "tags": []
   },
   "outputs": [],
   "source": []
  },
  {
   "cell_type": "code",
   "execution_count": 41,
   "id": "subject-macintosh",
   "metadata": {
    "execution": {
     "iopub.execute_input": "2021-07-12T00:21:19.369183Z",
     "iopub.status.busy": "2021-07-12T00:21:19.368559Z",
     "iopub.status.idle": "2021-07-12T00:21:19.370712Z",
     "shell.execute_reply": "2021-07-12T00:21:19.370227Z"
    },
    "papermill": {
     "duration": 0.041423,
     "end_time": "2021-07-12T00:21:19.370820",
     "exception": false,
     "start_time": "2021-07-12T00:21:19.329397",
     "status": "completed"
    },
    "tags": []
   },
   "outputs": [],
   "source": [
    "# #hide\n",
    "# fig, ax = plt.subplots(figsize=(15, 8))\n",
    "\n",
    "# def draw_barchart(current_day):\n",
    "#     dff = g[g['day'].eq(current_day)].sort_values(by='value', ascending=True).tail(10)\n",
    "#     ax.clear()\n",
    "#     ax.barh(dff['name'], dff['value'], color=[colors[group_lk[x]] for x in dff['name']])\n",
    "#     dx = dff['value'].max() / 200\n",
    "    \n",
    "#     for i, (value, name) in enumerate(zip(dff['value'], dff['name'])):\n",
    "#         ax.text(value-dx, i,     name,           size=14, weight=600, ha='right', va='bottom')\n",
    "#         ax.text(value-dx, i-.25, group_lk[name], size=10, color='#444444', ha='right', va='baseline')\n",
    "#         ax.text(value+dx, i,     f'{value:,.0f}',  size=14, ha='left',  va='center')\n",
    "#     ax.text(1, 0.4, current_day, transform=ax.transAxes, color='#777777', size=46, ha='right', weight=800)\n",
    "#     ax.text(0, 1.06, 'Population (thousands)', transform=ax.transAxes, size=12, color='#777777')\n",
    "#     ax.xaxis.set_major_formatter(ticker.StrMethodFormatter('{x:,.0f}'))\n",
    "#     ax.xaxis.set_ticks_position('top')\n",
    "#     ax.tick_params(axis='x', colors='#777777', labelsize=12)\n",
    "#     ax.set_yticks([])\n",
    "#     ax.margins(0, 0.01)\n",
    "#     ax.grid(which='major', axis='x', linestyle='-')\n",
    "#     ax.set_axisbelow(True)\n",
    "    \n",
    "#     ax.text(0, 1.15, 'Coronavirus',\n",
    "#             transform=ax.transAxes, size=24, weight=600, ha='left', va='top')\n",
    "# #     ax.text(1, 0, 'by @pratapvardhan; credit @jburnmurdoch', transform=ax.transAxes, color='#777777', ha='right',\n",
    "# #             bbox=dict(facecolor='white', alpha=0.8, edgecolor='white'))\n",
    "#     plt.box(False)"
   ]
  },
  {
   "cell_type": "code",
   "execution_count": 42,
   "id": "sexual-wages",
   "metadata": {
    "execution": {
     "iopub.execute_input": "2021-07-12T00:21:19.455655Z",
     "iopub.status.busy": "2021-07-12T00:21:19.454980Z",
     "iopub.status.idle": "2021-07-12T00:21:19.457309Z",
     "shell.execute_reply": "2021-07-12T00:21:19.456724Z"
    },
    "papermill": {
     "duration": 0.046714,
     "end_time": "2021-07-12T00:21:19.457423",
     "exception": false,
     "start_time": "2021-07-12T00:21:19.410709",
     "status": "completed"
    },
    "tags": []
   },
   "outputs": [],
   "source": [
    "# #hide_input\n",
    "# fig, ax = plt.subplots(figsize=(15, 8))\n",
    "# animator = animation.FuncAnimation(fig, draw_barchart, frames=range(g.day.values.min(), g.day.values.max()))\n",
    "# HTML(animator.to_jshtml())\n",
    "# # or use animator.to_html5_video() or animator.save() "
   ]
  },
  {
   "cell_type": "code",
   "execution_count": null,
   "id": "australian-container",
   "metadata": {
    "papermill": {
     "duration": 0.037758,
     "end_time": "2021-07-12T00:21:19.533745",
     "exception": false,
     "start_time": "2021-07-12T00:21:19.495987",
     "status": "completed"
    },
    "tags": []
   },
   "outputs": [],
   "source": []
  },
  {
   "cell_type": "code",
   "execution_count": null,
   "id": "mediterranean-pontiac",
   "metadata": {
    "papermill": {
     "duration": 0.039628,
     "end_time": "2021-07-12T00:21:19.612827",
     "exception": false,
     "start_time": "2021-07-12T00:21:19.573199",
     "status": "completed"
    },
    "tags": []
   },
   "outputs": [],
   "source": []
  },
  {
   "cell_type": "code",
   "execution_count": null,
   "id": "aging-legislature",
   "metadata": {
    "papermill": {
     "duration": 0.044174,
     "end_time": "2021-07-12T00:21:19.696820",
     "exception": false,
     "start_time": "2021-07-12T00:21:19.652646",
     "status": "completed"
    },
    "tags": []
   },
   "outputs": [],
   "source": []
  }
 ],
 "metadata": {
  "kernelspec": {
   "display_name": "Python 3",
   "language": "python",
   "name": "python3"
  },
  "language_info": {
   "codemirror_mode": {
    "name": "ipython",
    "version": 3
   },
   "file_extension": ".py",
   "mimetype": "text/x-python",
   "name": "python",
   "nbconvert_exporter": "python",
   "pygments_lexer": "ipython3",
   "version": "3.6.13"
  },
  "papermill": {
   "duration": 7.140115,
   "end_time": "2021-07-12T00:21:20.047591",
   "environment_variables": {},
   "exception": null,
   "input_path": "2020-03-21-covid19exp.ipynb",
   "output_path": "2020-03-21-covid19exp.ipynb",
   "parameters": {},
   "start_time": "2021-07-12T00:21:12.907476",
   "version": "2.0.0"
  }
 },
 "nbformat": 4,
 "nbformat_minor": 5
}