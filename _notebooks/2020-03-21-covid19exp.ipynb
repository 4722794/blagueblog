{
 "cells": [
  {
   "cell_type": "markdown",
   "id": "muslim-click",
   "metadata": {
    "papermill": {
     "duration": 0.043432,
     "end_time": "2021-04-07T12:03:45.682456",
     "exception": false,
     "start_time": "2021-04-07T12:03:45.639024",
     "status": "completed"
    },
    "tags": []
   },
   "source": [
    "# COVID-19 Case Race\n",
    "> A race chart to see rising cases around the world\n",
    "\n",
    "- author: Hargun Oberoi\n",
    "- image: images/covid-overview.png\n",
    "- hide: false\n",
    "- badges: false"
   ]
  },
  {
   "cell_type": "code",
   "execution_count": 1,
   "id": "proof-material",
   "metadata": {
    "execution": {
     "iopub.execute_input": "2021-04-07T12:03:45.763496Z",
     "iopub.status.busy": "2021-04-07T12:03:45.762809Z",
     "iopub.status.idle": "2021-04-07T12:03:46.091878Z",
     "shell.execute_reply": "2021-04-07T12:03:46.090286Z"
    },
    "papermill": {
     "duration": 0.372963,
     "end_time": "2021-04-07T12:03:46.092054",
     "exception": false,
     "start_time": "2021-04-07T12:03:45.719091",
     "status": "completed"
    },
    "tags": []
   },
   "outputs": [],
   "source": [
    "#hide\n",
    "import numpy as np\n",
    "import pandas as pd\n",
    "from jinja2 import Template\n",
    "from IPython.display import HTML"
   ]
  },
  {
   "cell_type": "code",
   "execution_count": 2,
   "id": "developed-terminology",
   "metadata": {
    "execution": {
     "iopub.execute_input": "2021-04-07T12:03:46.170166Z",
     "iopub.status.busy": "2021-04-07T12:03:46.169523Z",
     "iopub.status.idle": "2021-04-07T12:03:46.171946Z",
     "shell.execute_reply": "2021-04-07T12:03:46.171394Z"
    },
    "papermill": {
     "duration": 0.044512,
     "end_time": "2021-04-07T12:03:46.172076",
     "exception": false,
     "start_time": "2021-04-07T12:03:46.127564",
     "status": "completed"
    },
    "tags": []
   },
   "outputs": [],
   "source": [
    "#hide\n",
    "\n",
    "# FETCH\n",
    "base_url = 'https://raw.githubusercontent.com/pratapvardhan/notebooks/master/covid19/'\n",
    "paths = {\n",
    "    'mapping': base_url + 'mapping_countries.csv',\n",
    "    'overview': base_url + 'overview.tpl'\n",
    "}"
   ]
  },
  {
   "cell_type": "code",
   "execution_count": 3,
   "id": "dynamic-saver",
   "metadata": {
    "execution": {
     "iopub.execute_input": "2021-04-07T12:03:46.252999Z",
     "iopub.status.busy": "2021-04-07T12:03:46.249764Z",
     "iopub.status.idle": "2021-04-07T12:03:46.256948Z",
     "shell.execute_reply": "2021-04-07T12:03:46.256328Z"
    },
    "papermill": {
     "duration": 0.047601,
     "end_time": "2021-04-07T12:03:46.257085",
     "exception": false,
     "start_time": "2021-04-07T12:03:46.209484",
     "status": "completed"
    },
    "tags": []
   },
   "outputs": [
    {
     "data": {
      "text/plain": [
       "'https://raw.githubusercontent.com/pratapvardhan/notebooks/master/covid19/mapping_countries.csv'"
      ]
     },
     "execution_count": 3,
     "metadata": {},
     "output_type": "execute_result"
    }
   ],
   "source": [
    "#hide\n",
    "paths['mapping']"
   ]
  },
  {
   "cell_type": "code",
   "execution_count": 4,
   "id": "urban-software",
   "metadata": {
    "execution": {
     "iopub.execute_input": "2021-04-07T12:03:46.333146Z",
     "iopub.status.busy": "2021-04-07T12:03:46.332544Z",
     "iopub.status.idle": "2021-04-07T12:03:46.334887Z",
     "shell.execute_reply": "2021-04-07T12:03:46.334404Z"
    },
    "papermill": {
     "duration": 0.042652,
     "end_time": "2021-04-07T12:03:46.334996",
     "exception": false,
     "start_time": "2021-04-07T12:03:46.292344",
     "status": "completed"
    },
    "tags": []
   },
   "outputs": [],
   "source": [
    "#hide\n",
    "def get_mappings(url):\n",
    "    df = pd.read_csv(url)\n",
    "    return {\n",
    "        'df': df,\n",
    "        'replace.country': dict(df.dropna(subset=['Name']).set_index('Country')['Name']),\n",
    "        'map.continent': dict(df.set_index('Name')['Continent'])\n",
    "    }"
   ]
  },
  {
   "cell_type": "code",
   "execution_count": 5,
   "id": "intimate-machinery",
   "metadata": {
    "execution": {
     "iopub.execute_input": "2021-04-07T12:03:46.407399Z",
     "iopub.status.busy": "2021-04-07T12:03:46.406839Z",
     "iopub.status.idle": "2021-04-07T12:03:46.474024Z",
     "shell.execute_reply": "2021-04-07T12:03:46.473540Z"
    },
    "papermill": {
     "duration": 0.10602,
     "end_time": "2021-04-07T12:03:46.474135",
     "exception": false,
     "start_time": "2021-04-07T12:03:46.368115",
     "status": "completed"
    },
    "tags": []
   },
   "outputs": [],
   "source": [
    "#hide\n",
    "mapping = get_mappings(paths['mapping'])"
   ]
  },
  {
   "cell_type": "code",
   "execution_count": 6,
   "id": "certified-tactics",
   "metadata": {
    "execution": {
     "iopub.execute_input": "2021-04-07T12:03:46.547046Z",
     "iopub.status.busy": "2021-04-07T12:03:46.546484Z",
     "iopub.status.idle": "2021-04-07T12:03:46.548923Z",
     "shell.execute_reply": "2021-04-07T12:03:46.548444Z"
    },
    "papermill": {
     "duration": 0.04166,
     "end_time": "2021-04-07T12:03:46.549028",
     "exception": false,
     "start_time": "2021-04-07T12:03:46.507368",
     "status": "completed"
    },
    "tags": []
   },
   "outputs": [],
   "source": [
    "#hide\n",
    "def get_template(path):\n",
    "    from urllib.parse import urlparse\n",
    "    if bool(urlparse(path).netloc):\n",
    "        from urllib.request import urlopen\n",
    "        return urlopen(path).read().decode('utf8')\n",
    "    return open(path).read()"
   ]
  },
  {
   "cell_type": "code",
   "execution_count": 7,
   "id": "realistic-blast",
   "metadata": {
    "execution": {
     "iopub.execute_input": "2021-04-07T12:03:46.619468Z",
     "iopub.status.busy": "2021-04-07T12:03:46.618897Z",
     "iopub.status.idle": "2021-04-07T12:03:46.621112Z",
     "shell.execute_reply": "2021-04-07T12:03:46.621546Z"
    },
    "papermill": {
     "duration": 0.039601,
     "end_time": "2021-04-07T12:03:46.621663",
     "exception": false,
     "start_time": "2021-04-07T12:03:46.582062",
     "status": "completed"
    },
    "tags": []
   },
   "outputs": [],
   "source": [
    "#hide\n",
    "def get_frame(name):\n",
    "    url = (\n",
    "        'https://raw.githubusercontent.com/CSSEGISandData/COVID-19/master/csse_covid_19_data/'\n",
    "        f'csse_covid_19_time_series/time_series_covid19_{name}_global.csv')\n",
    "    df = pd.read_csv(url)\n",
    "    # rename countries\n",
    "    df['Country/Region'] = df['Country/Region'].replace(mapping['replace.country'])\n",
    "    return df"
   ]
  },
  {
   "cell_type": "code",
   "execution_count": 8,
   "id": "affiliated-characterization",
   "metadata": {
    "execution": {
     "iopub.execute_input": "2021-04-07T12:03:46.692580Z",
     "iopub.status.busy": "2021-04-07T12:03:46.692016Z",
     "iopub.status.idle": "2021-04-07T12:03:46.694131Z",
     "shell.execute_reply": "2021-04-07T12:03:46.694657Z"
    },
    "papermill": {
     "duration": 0.040132,
     "end_time": "2021-04-07T12:03:46.694772",
     "exception": false,
     "start_time": "2021-04-07T12:03:46.654640",
     "status": "completed"
    },
    "tags": []
   },
   "outputs": [],
   "source": [
    "#hide\n",
    "def get_dates(df):\n",
    "    dt_cols = df.columns[~df.columns.isin(['Province/State', 'Country/Region', 'Lat', 'Long'])]\n",
    "    LAST_DATE_I = -1\n",
    "    # sometimes last column may be empty, then go backwards\n",
    "    for i in range(-1, -len(dt_cols), -1):\n",
    "        if not df[dt_cols[i]].fillna(0).eq(0).all():\n",
    "            LAST_DATE_I = i\n",
    "            break\n",
    "    return LAST_DATE_I, dt_cols"
   ]
  },
  {
   "cell_type": "code",
   "execution_count": 9,
   "id": "recent-optimization",
   "metadata": {
    "execution": {
     "iopub.execute_input": "2021-04-07T12:03:46.765352Z",
     "iopub.status.busy": "2021-04-07T12:03:46.764742Z",
     "iopub.status.idle": "2021-04-07T12:03:47.213010Z",
     "shell.execute_reply": "2021-04-07T12:03:47.212502Z"
    },
    "papermill": {
     "duration": 0.485549,
     "end_time": "2021-04-07T12:03:47.213147",
     "exception": false,
     "start_time": "2021-04-07T12:03:46.727598",
     "status": "completed"
    },
    "tags": []
   },
   "outputs": [],
   "source": [
    "#hide\n",
    "COL_REGION = 'Country/Region'\n",
    "# Confirmed, Recovered, Deaths\n",
    "df = get_frame('confirmed')\n",
    "# dft_: timeseries, dfc_: today country agg\n",
    "dft_cases = df\n",
    "dft_deaths = get_frame('deaths')\n",
    "dft_recovered = get_frame('recovered')\n",
    "LAST_DATE_I, dt_cols = get_dates(df)"
   ]
  },
  {
   "cell_type": "code",
   "execution_count": 10,
   "id": "absolute-copper",
   "metadata": {
    "execution": {
     "iopub.execute_input": "2021-04-07T12:03:47.284133Z",
     "iopub.status.busy": "2021-04-07T12:03:47.283525Z",
     "iopub.status.idle": "2021-04-07T12:03:47.285350Z",
     "shell.execute_reply": "2021-04-07T12:03:47.285788Z"
    },
    "papermill": {
     "duration": 0.039573,
     "end_time": "2021-04-07T12:03:47.285907",
     "exception": false,
     "start_time": "2021-04-07T12:03:47.246334",
     "status": "completed"
    },
    "tags": []
   },
   "outputs": [],
   "source": [
    "#hide\n",
    "LAST_DATE_I, dt_cols = get_dates(df)\n",
    "dt_today =dt_cols[LAST_DATE_I]\n",
    "# dt_5day = dt_cols[LAST_DATE_I - 5]\n",
    "dt_yday = dt_cols[LAST_DATE_I - 1]"
   ]
  },
  {
   "cell_type": "code",
   "execution_count": 11,
   "id": "restricted-sheriff",
   "metadata": {
    "execution": {
     "iopub.execute_input": "2021-04-07T12:03:47.364409Z",
     "iopub.status.busy": "2021-04-07T12:03:47.363775Z",
     "iopub.status.idle": "2021-04-07T12:03:47.368773Z",
     "shell.execute_reply": "2021-04-07T12:03:47.369316Z"
    },
    "papermill": {
     "duration": 0.048906,
     "end_time": "2021-04-07T12:03:47.369450",
     "exception": false,
     "start_time": "2021-04-07T12:03:47.320544",
     "status": "completed"
    },
    "tags": []
   },
   "outputs": [],
   "source": [
    "#hide\n",
    "dfc_cases = dft_cases.groupby(COL_REGION)[dt_today].sum()\n",
    "dfc_deaths = dft_deaths.groupby(COL_REGION)[dt_today].sum()\n",
    "# dfp_cases = dft_cases.groupby(COL_REGION)[dt_5day].sum()\n",
    "# dfp_deaths = dft_deaths.groupby(COL_REGION)[dt_5day].sum()\n",
    "dfp_cases = dft_cases.groupby(COL_REGION)[dt_yday].sum()\n",
    "dfp_deaths = dft_deaths.groupby(COL_REGION)[dt_yday].sum()"
   ]
  },
  {
   "cell_type": "code",
   "execution_count": 12,
   "id": "deluxe-hepatitis",
   "metadata": {
    "execution": {
     "iopub.execute_input": "2021-04-07T12:03:47.441387Z",
     "iopub.status.busy": "2021-04-07T12:03:47.440811Z",
     "iopub.status.idle": "2021-04-07T12:03:47.445243Z",
     "shell.execute_reply": "2021-04-07T12:03:47.445783Z"
    },
    "papermill": {
     "duration": 0.043473,
     "end_time": "2021-04-07T12:03:47.445898",
     "exception": false,
     "start_time": "2021-04-07T12:03:47.402425",
     "status": "completed"
    },
    "tags": []
   },
   "outputs": [],
   "source": [
    "#hide\n",
    "df_table = (pd.DataFrame(dict(Cases = dfc_cases, Deaths = dfc_deaths, PCases = dfp_cases, PDeaths = dfp_deaths))\n",
    "            .sort_values(by = ['Cases','Deaths'], ascending = [False, False])\n",
    "            .reset_index())"
   ]
  },
  {
   "cell_type": "code",
   "execution_count": 13,
   "id": "educational-chancellor",
   "metadata": {
    "execution": {
     "iopub.execute_input": "2021-04-07T12:03:47.533066Z",
     "iopub.status.busy": "2021-04-07T12:03:47.532487Z",
     "iopub.status.idle": "2021-04-07T12:03:47.540231Z",
     "shell.execute_reply": "2021-04-07T12:03:47.539689Z"
    },
    "papermill": {
     "duration": 0.060348,
     "end_time": "2021-04-07T12:03:47.540344",
     "exception": false,
     "start_time": "2021-04-07T12:03:47.479996",
     "status": "completed"
    },
    "tags": []
   },
   "outputs": [
    {
     "data": {
      "text/html": [
       "<div>\n",
       "<style scoped>\n",
       "    .dataframe tbody tr th:only-of-type {\n",
       "        vertical-align: middle;\n",
       "    }\n",
       "\n",
       "    .dataframe tbody tr th {\n",
       "        vertical-align: top;\n",
       "    }\n",
       "\n",
       "    .dataframe thead th {\n",
       "        text-align: right;\n",
       "    }\n",
       "</style>\n",
       "<table border=\"1\" class=\"dataframe\">\n",
       "  <thead>\n",
       "    <tr style=\"text-align: right;\">\n",
       "      <th></th>\n",
       "      <th>Country/Region</th>\n",
       "      <th>Cases</th>\n",
       "      <th>Deaths</th>\n",
       "      <th>PCases</th>\n",
       "      <th>PDeaths</th>\n",
       "      <th>Cases (+)</th>\n",
       "      <th>Deaths (+)</th>\n",
       "      <th>Fatality Rate</th>\n",
       "      <th>Continent</th>\n",
       "    </tr>\n",
       "  </thead>\n",
       "  <tbody>\n",
       "    <tr>\n",
       "      <th>0</th>\n",
       "      <td>US</td>\n",
       "      <td>30847165</td>\n",
       "      <td>556528</td>\n",
       "      <td>30785390</td>\n",
       "      <td>555613</td>\n",
       "      <td>61775</td>\n",
       "      <td>915</td>\n",
       "      <td>1.80</td>\n",
       "      <td>North America</td>\n",
       "    </tr>\n",
       "    <tr>\n",
       "      <th>1</th>\n",
       "      <td>Brazil</td>\n",
       "      <td>13100580</td>\n",
       "      <td>336947</td>\n",
       "      <td>13013601</td>\n",
       "      <td>332752</td>\n",
       "      <td>86979</td>\n",
       "      <td>4195</td>\n",
       "      <td>2.57</td>\n",
       "      <td>South America</td>\n",
       "    </tr>\n",
       "    <tr>\n",
       "      <th>2</th>\n",
       "      <td>India</td>\n",
       "      <td>12801785</td>\n",
       "      <td>166177</td>\n",
       "      <td>12686049</td>\n",
       "      <td>165547</td>\n",
       "      <td>115736</td>\n",
       "      <td>630</td>\n",
       "      <td>1.30</td>\n",
       "      <td>Asia</td>\n",
       "    </tr>\n",
       "    <tr>\n",
       "      <th>3</th>\n",
       "      <td>France</td>\n",
       "      <td>4902025</td>\n",
       "      <td>97431</td>\n",
       "      <td>4893971</td>\n",
       "      <td>97005</td>\n",
       "      <td>8054</td>\n",
       "      <td>426</td>\n",
       "      <td>1.99</td>\n",
       "      <td>Europe</td>\n",
       "    </tr>\n",
       "    <tr>\n",
       "      <th>4</th>\n",
       "      <td>Russia</td>\n",
       "      <td>4546307</td>\n",
       "      <td>99431</td>\n",
       "      <td>4538101</td>\n",
       "      <td>99049</td>\n",
       "      <td>8206</td>\n",
       "      <td>382</td>\n",
       "      <td>2.19</td>\n",
       "      <td>Europe</td>\n",
       "    </tr>\n",
       "  </tbody>\n",
       "</table>\n",
       "</div>"
      ],
      "text/plain": [
       "  Country/Region     Cases  Deaths    PCases  PDeaths  Cases (+)  Deaths (+)  \\\n",
       "0             US  30847165  556528  30785390   555613      61775         915   \n",
       "1         Brazil  13100580  336947  13013601   332752      86979        4195   \n",
       "2          India  12801785  166177  12686049   165547     115736         630   \n",
       "3         France   4902025   97431   4893971    97005       8054         426   \n",
       "4         Russia   4546307   99431   4538101    99049       8206         382   \n",
       "\n",
       "   Fatality Rate      Continent  \n",
       "0           1.80  North America  \n",
       "1           2.57  South America  \n",
       "2           1.30           Asia  \n",
       "3           1.99         Europe  \n",
       "4           2.19         Europe  "
      ]
     },
     "execution_count": 13,
     "metadata": {},
     "output_type": "execute_result"
    }
   ],
   "source": [
    "#hide\n",
    "for c in 'Cases, Deaths'.split(', '):\n",
    "    df_table[f'{c} (+)'] = (df_table[c] - df_table[f'P{c}']).clip(0)\n",
    "    #Clip ça veut dire, les chiffres negatif sont interdit\n",
    "df_table['Fatality Rate'] = (100* df_table['Deaths']/ df_table['Cases']).round(2)\n",
    "df_table['Continent'] = df_table['Country/Region'].map(mapping['map.continent'])\n",
    "df_table.head(5)"
   ]
  },
  {
   "cell_type": "code",
   "execution_count": 14,
   "id": "aboriginal-bulgaria",
   "metadata": {
    "execution": {
     "iopub.execute_input": "2021-04-07T12:03:47.614180Z",
     "iopub.status.busy": "2021-04-07T12:03:47.613613Z",
     "iopub.status.idle": "2021-04-07T12:03:47.615736Z",
     "shell.execute_reply": "2021-04-07T12:03:47.616255Z"
    },
    "papermill": {
     "duration": 0.040809,
     "end_time": "2021-04-07T12:03:47.616375",
     "exception": false,
     "start_time": "2021-04-07T12:03:47.575566",
     "status": "completed"
    },
    "tags": []
   },
   "outputs": [],
   "source": [
    "#hide\n",
    "#delete problematic countries from table\n",
    "df_table = df_table[~df_table['Country/Region'].isin(['Cape Verde', 'Cruise Ship', 'Kosovo'])]"
   ]
  },
  {
   "cell_type": "code",
   "execution_count": 15,
   "id": "fantastic-effect",
   "metadata": {
    "execution": {
     "iopub.execute_input": "2021-04-07T12:03:47.693512Z",
     "iopub.status.busy": "2021-04-07T12:03:47.692942Z",
     "iopub.status.idle": "2021-04-07T12:03:47.712872Z",
     "shell.execute_reply": "2021-04-07T12:03:47.712389Z"
    },
    "papermill": {
     "duration": 0.062825,
     "end_time": "2021-04-07T12:03:47.712980",
     "exception": false,
     "start_time": "2021-04-07T12:03:47.650155",
     "status": "completed"
    },
    "tags": []
   },
   "outputs": [
    {
     "data": {
      "text/html": [
       "<div>\n",
       "<style scoped>\n",
       "    .dataframe tbody tr th:only-of-type {\n",
       "        vertical-align: middle;\n",
       "    }\n",
       "\n",
       "    .dataframe tbody tr th {\n",
       "        vertical-align: top;\n",
       "    }\n",
       "\n",
       "    .dataframe thead th {\n",
       "        text-align: right;\n",
       "    }\n",
       "</style>\n",
       "<table border=\"1\" class=\"dataframe\">\n",
       "  <thead>\n",
       "    <tr style=\"text-align: right;\">\n",
       "      <th></th>\n",
       "      <th>Country/Region</th>\n",
       "      <th>Cases</th>\n",
       "      <th>Deaths</th>\n",
       "      <th>PCases</th>\n",
       "      <th>PDeaths</th>\n",
       "      <th>Cases (+)</th>\n",
       "      <th>Deaths (+)</th>\n",
       "      <th>Fatality Rate</th>\n",
       "      <th>Continent</th>\n",
       "    </tr>\n",
       "  </thead>\n",
       "  <tbody>\n",
       "    <tr>\n",
       "      <th>0</th>\n",
       "      <td>US</td>\n",
       "      <td>30847165</td>\n",
       "      <td>556528</td>\n",
       "      <td>30785390</td>\n",
       "      <td>555613</td>\n",
       "      <td>61775</td>\n",
       "      <td>915</td>\n",
       "      <td>1.8</td>\n",
       "      <td>North America</td>\n",
       "    </tr>\n",
       "    <tr>\n",
       "      <th>1</th>\n",
       "      <td>Brazil</td>\n",
       "      <td>13100580</td>\n",
       "      <td>336947</td>\n",
       "      <td>13013601</td>\n",
       "      <td>332752</td>\n",
       "      <td>86979</td>\n",
       "      <td>4195</td>\n",
       "      <td>2.6</td>\n",
       "      <td>South America</td>\n",
       "    </tr>\n",
       "    <tr>\n",
       "      <th>2</th>\n",
       "      <td>India</td>\n",
       "      <td>12801785</td>\n",
       "      <td>166177</td>\n",
       "      <td>12686049</td>\n",
       "      <td>165547</td>\n",
       "      <td>115736</td>\n",
       "      <td>630</td>\n",
       "      <td>1.3</td>\n",
       "      <td>Asia</td>\n",
       "    </tr>\n",
       "    <tr>\n",
       "      <th>3</th>\n",
       "      <td>France</td>\n",
       "      <td>4902025</td>\n",
       "      <td>97431</td>\n",
       "      <td>4893971</td>\n",
       "      <td>97005</td>\n",
       "      <td>8054</td>\n",
       "      <td>426</td>\n",
       "      <td>2.0</td>\n",
       "      <td>Europe</td>\n",
       "    </tr>\n",
       "    <tr>\n",
       "      <th>4</th>\n",
       "      <td>Russia</td>\n",
       "      <td>4546307</td>\n",
       "      <td>99431</td>\n",
       "      <td>4538101</td>\n",
       "      <td>99049</td>\n",
       "      <td>8206</td>\n",
       "      <td>382</td>\n",
       "      <td>2.2</td>\n",
       "      <td>Europe</td>\n",
       "    </tr>\n",
       "  </tbody>\n",
       "</table>\n",
       "</div>"
      ],
      "text/plain": [
       "  Country/Region     Cases  Deaths    PCases  PDeaths  Cases (+)  Deaths (+)  \\\n",
       "0             US  30847165  556528  30785390   555613      61775         915   \n",
       "1         Brazil  13100580  336947  13013601   332752      86979        4195   \n",
       "2          India  12801785  166177  12686049   165547     115736         630   \n",
       "3         France   4902025   97431   4893971    97005       8054         426   \n",
       "4         Russia   4546307   99431   4538101    99049       8206         382   \n",
       "\n",
       "   Fatality Rate      Continent  \n",
       "0            1.8  North America  \n",
       "1            2.6  South America  \n",
       "2            1.3           Asia  \n",
       "3            2.0         Europe  \n",
       "4            2.2         Europe  "
      ]
     },
     "execution_count": 15,
     "metadata": {},
     "output_type": "execute_result"
    }
   ],
   "source": [
    "#hide\n",
    "df_table = (pd.DataFrame(dict(Cases=dfc_cases, Deaths=dfc_deaths, PCases=dfp_cases, PDeaths=dfp_deaths))\n",
    "             .sort_values(by=['Cases', 'Deaths'], ascending=[False, False])\n",
    "             .reset_index())\n",
    "df_table.rename(columns={'index': 'Country/Region'}, inplace=True)\n",
    "for c in 'Cases, Deaths'.split(', '):\n",
    "    df_table[f'{c} (+)'] = (df_table[c] - df_table[f'P{c}']).clip(0)  # DATA BUG\n",
    "df_table['Fatality Rate'] = (100 * df_table['Deaths'] / df_table['Cases']).round(1)\n",
    "df_table['Continent'] = df_table['Country/Region'].map(mapping['map.continent'])\n",
    "df_table.head(5)"
   ]
  },
  {
   "cell_type": "code",
   "execution_count": 16,
   "id": "fewer-occasion",
   "metadata": {
    "execution": {
     "iopub.execute_input": "2021-04-07T12:03:47.787342Z",
     "iopub.status.busy": "2021-04-07T12:03:47.786776Z",
     "iopub.status.idle": "2021-04-07T12:03:47.789647Z",
     "shell.execute_reply": "2021-04-07T12:03:47.790199Z"
    },
    "papermill": {
     "duration": 0.040886,
     "end_time": "2021-04-07T12:03:47.790317",
     "exception": false,
     "start_time": "2021-04-07T12:03:47.749431",
     "status": "completed"
    },
    "tags": []
   },
   "outputs": [],
   "source": [
    "#hide\n",
    "#delete problematic countries from table\n",
    "df_table = df_table[~df_table['Country/Region'].isin(['Cape Verde', 'Cruise Ship', 'Kosovo'])]"
   ]
  },
  {
   "cell_type": "code",
   "execution_count": 17,
   "id": "related-center",
   "metadata": {
    "execution": {
     "iopub.execute_input": "2021-04-07T12:03:47.886022Z",
     "iopub.status.busy": "2021-04-07T12:03:47.885446Z",
     "iopub.status.idle": "2021-04-07T12:03:47.887509Z",
     "shell.execute_reply": "2021-04-07T12:03:47.888898Z"
    },
    "papermill": {
     "duration": 0.056596,
     "end_time": "2021-04-07T12:03:47.889041",
     "exception": false,
     "start_time": "2021-04-07T12:03:47.832445",
     "status": "completed"
    },
    "tags": []
   },
   "outputs": [],
   "source": [
    "#hide\n",
    "metrics = [df_table.columns[index] for index in [1,2,5,6]]\n",
    "# s_china = df_table[df_table['Country/Region'].eq('China')][metrics].sum().add_prefix('China ')\n",
    "s_us = df_table[df_table['Country/Region'].eq('US')][metrics].sum().add_prefix('US ')\n",
    "s_eu = df_table[df_table['Continent'].eq('Europe')][metrics].sum().add_prefix('EU ')\n",
    "s_ind = df_table[df_table['Country/Region'].eq('India')][metrics].sum().add_prefix('India ')\n",
    "summary = {'updated': pd.to_datetime(dt_today), 'since': pd.to_datetime(dt_yday)}\n",
    "summary = {'updated': pd.to_datetime(dt_today), 'since': pd.to_datetime(dt_yday)}\n",
    "summary = {**summary, **df_table[metrics].sum(), **s_ind, **s_us, **s_eu}"
   ]
  },
  {
   "cell_type": "code",
   "execution_count": 18,
   "id": "engaging-syndrome",
   "metadata": {
    "execution": {
     "iopub.execute_input": "2021-04-07T12:03:47.964494Z",
     "iopub.status.busy": "2021-04-07T12:03:47.963897Z",
     "iopub.status.idle": "2021-04-07T12:03:47.975097Z",
     "shell.execute_reply": "2021-04-07T12:03:47.974608Z"
    },
    "papermill": {
     "duration": 0.050558,
     "end_time": "2021-04-07T12:03:47.975206",
     "exception": false,
     "start_time": "2021-04-07T12:03:47.924648",
     "status": "completed"
    },
    "tags": []
   },
   "outputs": [],
   "source": [
    "#hide\n",
    "dft_ct_new_cases = dft_cases.groupby(COL_REGION)[dt_cols].sum().diff(axis=1).fillna(0).astype(int)"
   ]
  },
  {
   "cell_type": "code",
   "execution_count": 19,
   "id": "neutral-assignment",
   "metadata": {
    "execution": {
     "iopub.execute_input": "2021-04-07T12:03:48.053434Z",
     "iopub.status.busy": "2021-04-07T12:03:48.052839Z",
     "iopub.status.idle": "2021-04-07T12:03:48.055329Z",
     "shell.execute_reply": "2021-04-07T12:03:48.054764Z"
    },
    "papermill": {
     "duration": 0.041797,
     "end_time": "2021-04-07T12:03:48.055439",
     "exception": false,
     "start_time": "2021-04-07T12:03:48.013642",
     "status": "completed"
    },
    "tags": []
   },
   "outputs": [],
   "source": [
    "#hide\n",
    "everydaycases = dft_ct_new_cases.cumsum(axis=1)"
   ]
  },
  {
   "cell_type": "code",
   "execution_count": 20,
   "id": "parliamentary-calgary",
   "metadata": {
    "execution": {
     "iopub.execute_input": "2021-04-07T12:03:48.133877Z",
     "iopub.status.busy": "2021-04-07T12:03:48.133280Z",
     "iopub.status.idle": "2021-04-07T12:03:48.772320Z",
     "shell.execute_reply": "2021-04-07T12:03:48.771783Z"
    },
    "papermill": {
     "duration": 0.67832,
     "end_time": "2021-04-07T12:03:48.772458",
     "exception": false,
     "start_time": "2021-04-07T12:03:48.094138",
     "status": "completed"
    },
    "tags": []
   },
   "outputs": [],
   "source": [
    "#hide\n",
    "import pandas as pd\n",
    "import matplotlib.pyplot as plt\n",
    "import matplotlib.ticker as ticker\n",
    "import matplotlib.animation as animation\n",
    "from IPython.display import HTML"
   ]
  },
  {
   "cell_type": "code",
   "execution_count": 21,
   "id": "lasting-extraction",
   "metadata": {
    "execution": {
     "iopub.execute_input": "2021-04-07T12:03:48.848042Z",
     "iopub.status.busy": "2021-04-07T12:03:48.847424Z",
     "iopub.status.idle": "2021-04-07T12:03:48.852334Z",
     "shell.execute_reply": "2021-04-07T12:03:48.852875Z"
    },
    "papermill": {
     "duration": 0.046348,
     "end_time": "2021-04-07T12:03:48.852998",
     "exception": false,
     "start_time": "2021-04-07T12:03:48.806650",
     "status": "completed"
    },
    "tags": []
   },
   "outputs": [],
   "source": [
    "#hide\n",
    "t = everydaycases.stack()"
   ]
  },
  {
   "cell_type": "code",
   "execution_count": 22,
   "id": "premier-sleeve",
   "metadata": {
    "execution": {
     "iopub.execute_input": "2021-04-07T12:03:48.926836Z",
     "iopub.status.busy": "2021-04-07T12:03:48.926280Z",
     "iopub.status.idle": "2021-04-07T12:03:48.933252Z",
     "shell.execute_reply": "2021-04-07T12:03:48.933860Z"
    },
    "papermill": {
     "duration": 0.047121,
     "end_time": "2021-04-07T12:03:48.933977",
     "exception": false,
     "start_time": "2021-04-07T12:03:48.886856",
     "status": "completed"
    },
    "tags": []
   },
   "outputs": [],
   "source": [
    "#hide\n",
    "g = t.reset_index(['Country/Region'])"
   ]
  },
  {
   "cell_type": "code",
   "execution_count": 23,
   "id": "distributed-pittsburgh",
   "metadata": {
    "execution": {
     "iopub.execute_input": "2021-04-07T12:03:49.008334Z",
     "iopub.status.busy": "2021-04-07T12:03:49.007710Z",
     "iopub.status.idle": "2021-04-07T12:03:49.010158Z",
     "shell.execute_reply": "2021-04-07T12:03:49.009679Z"
    },
    "papermill": {
     "duration": 0.042082,
     "end_time": "2021-04-07T12:03:49.010270",
     "exception": false,
     "start_time": "2021-04-07T12:03:48.968188",
     "status": "completed"
    },
    "tags": []
   },
   "outputs": [],
   "source": [
    "#hide\n",
    "g.index.name = 'date'"
   ]
  },
  {
   "cell_type": "code",
   "execution_count": 24,
   "id": "naked-donor",
   "metadata": {
    "execution": {
     "iopub.execute_input": "2021-04-07T12:03:49.085412Z",
     "iopub.status.busy": "2021-04-07T12:03:49.084848Z",
     "iopub.status.idle": "2021-04-07T12:03:49.087387Z",
     "shell.execute_reply": "2021-04-07T12:03:49.086909Z"
    },
    "papermill": {
     "duration": 0.041606,
     "end_time": "2021-04-07T12:03:49.087495",
     "exception": false,
     "start_time": "2021-04-07T12:03:49.045889",
     "status": "completed"
    },
    "tags": []
   },
   "outputs": [],
   "source": [
    "# #hide\n",
    "# g = g.reset_index(['date'])"
   ]
  },
  {
   "cell_type": "code",
   "execution_count": 25,
   "id": "incomplete-mustang",
   "metadata": {
    "execution": {
     "iopub.execute_input": "2021-04-07T12:03:49.158874Z",
     "iopub.status.busy": "2021-04-07T12:03:49.158317Z",
     "iopub.status.idle": "2021-04-07T12:03:49.160265Z",
     "shell.execute_reply": "2021-04-07T12:03:49.160804Z"
    },
    "papermill": {
     "duration": 0.039231,
     "end_time": "2021-04-07T12:03:49.160919",
     "exception": false,
     "start_time": "2021-04-07T12:03:49.121688",
     "status": "completed"
    },
    "tags": []
   },
   "outputs": [],
   "source": [
    "#hide\n",
    "# g.head()"
   ]
  },
  {
   "cell_type": "code",
   "execution_count": 26,
   "id": "specific-kruger",
   "metadata": {
    "execution": {
     "iopub.execute_input": "2021-04-07T12:03:49.235653Z",
     "iopub.status.busy": "2021-04-07T12:03:49.235096Z",
     "iopub.status.idle": "2021-04-07T12:03:49.236987Z",
     "shell.execute_reply": "2021-04-07T12:03:49.237474Z"
    },
    "papermill": {
     "duration": 0.042123,
     "end_time": "2021-04-07T12:03:49.237590",
     "exception": false,
     "start_time": "2021-04-07T12:03:49.195467",
     "status": "completed"
    },
    "tags": []
   },
   "outputs": [],
   "source": [
    "#hide\n",
    "# g.columns = ['date','country','cases']"
   ]
  },
  {
   "cell_type": "code",
   "execution_count": 27,
   "id": "tender-conversion",
   "metadata": {
    "execution": {
     "iopub.execute_input": "2021-04-07T12:03:49.310504Z",
     "iopub.status.busy": "2021-04-07T12:03:49.309849Z",
     "iopub.status.idle": "2021-04-07T12:03:49.312345Z",
     "shell.execute_reply": "2021-04-07T12:03:49.311835Z"
    },
    "papermill": {
     "duration": 0.039579,
     "end_time": "2021-04-07T12:03:49.312454",
     "exception": false,
     "start_time": "2021-04-07T12:03:49.272875",
     "status": "completed"
    },
    "tags": []
   },
   "outputs": [],
   "source": [
    "#hide\n",
    "# g['continent'] = g.country"
   ]
  },
  {
   "cell_type": "code",
   "execution_count": 28,
   "id": "substantial-wilderness",
   "metadata": {
    "execution": {
     "iopub.execute_input": "2021-04-07T12:03:49.390950Z",
     "iopub.status.busy": "2021-04-07T12:03:49.390353Z",
     "iopub.status.idle": "2021-04-07T12:03:49.392648Z",
     "shell.execute_reply": "2021-04-07T12:03:49.392171Z"
    },
    "papermill": {
     "duration": 0.043919,
     "end_time": "2021-04-07T12:03:49.392755",
     "exception": false,
     "start_time": "2021-04-07T12:03:49.348836",
     "status": "completed"
    },
    "tags": []
   },
   "outputs": [],
   "source": [
    "#hide\n",
    "# cols = list(g.columns.values)"
   ]
  },
  {
   "cell_type": "code",
   "execution_count": 29,
   "id": "solved-farming",
   "metadata": {
    "execution": {
     "iopub.execute_input": "2021-04-07T12:03:49.464832Z",
     "iopub.status.busy": "2021-04-07T12:03:49.464267Z",
     "iopub.status.idle": "2021-04-07T12:03:49.466246Z",
     "shell.execute_reply": "2021-04-07T12:03:49.466736Z"
    },
    "papermill": {
     "duration": 0.039567,
     "end_time": "2021-04-07T12:03:49.466851",
     "exception": false,
     "start_time": "2021-04-07T12:03:49.427284",
     "status": "completed"
    },
    "tags": []
   },
   "outputs": [],
   "source": [
    "#hide\n",
    "# cols.insert(0, cols.pop())"
   ]
  },
  {
   "cell_type": "code",
   "execution_count": 30,
   "id": "executed-adoption",
   "metadata": {
    "execution": {
     "iopub.execute_input": "2021-04-07T12:03:49.537938Z",
     "iopub.status.busy": "2021-04-07T12:03:49.537380Z",
     "iopub.status.idle": "2021-04-07T12:03:49.539171Z",
     "shell.execute_reply": "2021-04-07T12:03:49.539706Z"
    },
    "papermill": {
     "duration": 0.039019,
     "end_time": "2021-04-07T12:03:49.539821",
     "exception": false,
     "start_time": "2021-04-07T12:03:49.500802",
     "status": "completed"
    },
    "tags": []
   },
   "outputs": [],
   "source": [
    "#hide\n",
    "# g = g[cols]"
   ]
  },
  {
   "cell_type": "code",
   "execution_count": 31,
   "id": "subject-dublin",
   "metadata": {
    "execution": {
     "iopub.execute_input": "2021-04-07T12:03:49.612035Z",
     "iopub.status.busy": "2021-04-07T12:03:49.611454Z",
     "iopub.status.idle": "2021-04-07T12:03:49.613355Z",
     "shell.execute_reply": "2021-04-07T12:03:49.613840Z"
    },
    "papermill": {
     "duration": 0.039881,
     "end_time": "2021-04-07T12:03:49.613956",
     "exception": false,
     "start_time": "2021-04-07T12:03:49.574075",
     "status": "completed"
    },
    "tags": []
   },
   "outputs": [],
   "source": [
    "#hide\n",
    "# g['continent'] = g['continent'].map(mapping['map.continent'])"
   ]
  },
  {
   "cell_type": "code",
   "execution_count": 32,
   "id": "freelance-scout",
   "metadata": {
    "execution": {
     "iopub.execute_input": "2021-04-07T12:03:49.693931Z",
     "iopub.status.busy": "2021-04-07T12:03:49.693375Z",
     "iopub.status.idle": "2021-04-07T12:03:49.695406Z",
     "shell.execute_reply": "2021-04-07T12:03:49.695894Z"
    },
    "papermill": {
     "duration": 0.046763,
     "end_time": "2021-04-07T12:03:49.696031",
     "exception": false,
     "start_time": "2021-04-07T12:03:49.649268",
     "status": "completed"
    },
    "tags": []
   },
   "outputs": [],
   "source": [
    "#hide\n",
    "# g.head()"
   ]
  },
  {
   "cell_type": "code",
   "execution_count": 33,
   "id": "limited-engine",
   "metadata": {
    "execution": {
     "iopub.execute_input": "2021-04-07T12:03:49.769801Z",
     "iopub.status.busy": "2021-04-07T12:03:49.769229Z",
     "iopub.status.idle": "2021-04-07T12:03:49.771571Z",
     "shell.execute_reply": "2021-04-07T12:03:49.771087Z"
    },
    "papermill": {
     "duration": 0.040462,
     "end_time": "2021-04-07T12:03:49.771683",
     "exception": false,
     "start_time": "2021-04-07T12:03:49.731221",
     "status": "completed"
    },
    "tags": []
   },
   "outputs": [],
   "source": [
    "# hide\n",
    "# g['date'] = g['date'].astype('datetime64[ns]')"
   ]
  },
  {
   "cell_type": "code",
   "execution_count": 34,
   "id": "sophisticated-supervisor",
   "metadata": {
    "execution": {
     "iopub.execute_input": "2021-04-07T12:03:49.856191Z",
     "iopub.status.busy": "2021-04-07T12:03:49.855606Z",
     "iopub.status.idle": "2021-04-07T12:03:49.861845Z",
     "shell.execute_reply": "2021-04-07T12:03:49.866756Z"
    },
    "papermill": {
     "duration": 0.060034,
     "end_time": "2021-04-07T12:03:49.866877",
     "exception": false,
     "start_time": "2021-04-07T12:03:49.806843",
     "status": "completed"
    },
    "tags": []
   },
   "outputs": [],
   "source": [
    "#hide\n",
    "# g['date'] = g.date.dt.dayofyear"
   ]
  },
  {
   "cell_type": "code",
   "execution_count": 35,
   "id": "inside-dubai",
   "metadata": {
    "execution": {
     "iopub.execute_input": "2021-04-07T12:03:49.951716Z",
     "iopub.status.busy": "2021-04-07T12:03:49.951080Z",
     "iopub.status.idle": "2021-04-07T12:03:49.963693Z",
     "shell.execute_reply": "2021-04-07T12:03:49.963151Z"
    },
    "papermill": {
     "duration": 0.061745,
     "end_time": "2021-04-07T12:03:49.963816",
     "exception": false,
     "start_time": "2021-04-07T12:03:49.902071",
     "status": "completed"
    },
    "tags": []
   },
   "outputs": [],
   "source": [
    "#hide\n",
    "# g = g.rename(columns= {'continent':'group','country':'name','cases':'value'})"
   ]
  },
  {
   "cell_type": "code",
   "execution_count": 36,
   "id": "fleet-motorcycle",
   "metadata": {
    "execution": {
     "iopub.execute_input": "2021-04-07T12:03:50.040747Z",
     "iopub.status.busy": "2021-04-07T12:03:50.040070Z",
     "iopub.status.idle": "2021-04-07T12:03:50.042745Z",
     "shell.execute_reply": "2021-04-07T12:03:50.042101Z"
    },
    "papermill": {
     "duration": 0.039738,
     "end_time": "2021-04-07T12:03:50.042892",
     "exception": false,
     "start_time": "2021-04-07T12:03:50.003154",
     "status": "completed"
    },
    "tags": []
   },
   "outputs": [],
   "source": [
    "#hide\n",
    "# cols = ['name','group','day','value']"
   ]
  },
  {
   "cell_type": "code",
   "execution_count": 37,
   "id": "continued-sleeping",
   "metadata": {
    "execution": {
     "iopub.execute_input": "2021-04-07T12:03:50.120539Z",
     "iopub.status.busy": "2021-04-07T12:03:50.119964Z",
     "iopub.status.idle": "2021-04-07T12:03:50.121654Z",
     "shell.execute_reply": "2021-04-07T12:03:50.122372Z"
    },
    "papermill": {
     "duration": 0.04061,
     "end_time": "2021-04-07T12:03:50.122541",
     "exception": false,
     "start_time": "2021-04-07T12:03:50.081931",
     "status": "completed"
    },
    "tags": []
   },
   "outputs": [],
   "source": [
    "#hide\n",
    "# g.rename(columns= {'date':'day'},inplace = True)"
   ]
  },
  {
   "cell_type": "code",
   "execution_count": 38,
   "id": "major-fight",
   "metadata": {
    "execution": {
     "iopub.execute_input": "2021-04-07T12:03:50.193989Z",
     "iopub.status.busy": "2021-04-07T12:03:50.193415Z",
     "iopub.status.idle": "2021-04-07T12:03:50.195279Z",
     "shell.execute_reply": "2021-04-07T12:03:50.195776Z"
    },
    "papermill": {
     "duration": 0.03926,
     "end_time": "2021-04-07T12:03:50.195894",
     "exception": false,
     "start_time": "2021-04-07T12:03:50.156634",
     "status": "completed"
    },
    "tags": []
   },
   "outputs": [],
   "source": [
    "#hide\n",
    "# g = g[cols]"
   ]
  },
  {
   "cell_type": "code",
   "execution_count": 39,
   "id": "structured-mobile",
   "metadata": {
    "execution": {
     "iopub.execute_input": "2021-04-07T12:03:50.272414Z",
     "iopub.status.busy": "2021-04-07T12:03:50.271751Z",
     "iopub.status.idle": "2021-04-07T12:03:50.273659Z",
     "shell.execute_reply": "2021-04-07T12:03:50.274155Z"
    },
    "papermill": {
     "duration": 0.043956,
     "end_time": "2021-04-07T12:03:50.274283",
     "exception": false,
     "start_time": "2021-04-07T12:03:50.230327",
     "status": "completed"
    },
    "tags": []
   },
   "outputs": [],
   "source": [
    "# #hide\n",
    "# g = g[g.group.notna()]"
   ]
  },
  {
   "cell_type": "code",
   "execution_count": 40,
   "id": "determined-closing",
   "metadata": {
    "execution": {
     "iopub.execute_input": "2021-04-07T12:03:50.348636Z",
     "iopub.status.busy": "2021-04-07T12:03:50.348021Z",
     "iopub.status.idle": "2021-04-07T12:03:50.349830Z",
     "shell.execute_reply": "2021-04-07T12:03:50.350277Z"
    },
    "papermill": {
     "duration": 0.039796,
     "end_time": "2021-04-07T12:03:50.350401",
     "exception": false,
     "start_time": "2021-04-07T12:03:50.310605",
     "status": "completed"
    },
    "tags": []
   },
   "outputs": [],
   "source": [
    "# #hide\n",
    "# colors = dict(zip(\n",
    "#     [\"Oceania\", \"Europe\", \"Asia\", \"South America\", \"Middle East\", \"North America\", \"Africa\"],\n",
    "#     [\"#adb0ff\", \"#ffb3ff\", \"#90d595\", \"#e48381\", \"#aafbff\", \"#f7bb5f\", \"#eafb50\"]\n",
    "# ))\n",
    "# group_lk = g.set_index('name')['group'].to_dict()"
   ]
  },
  {
   "cell_type": "code",
   "execution_count": null,
   "id": "gross-drinking",
   "metadata": {
    "papermill": {
     "duration": 0.035375,
     "end_time": "2021-04-07T12:03:50.426627",
     "exception": false,
     "start_time": "2021-04-07T12:03:50.391252",
     "status": "completed"
    },
    "tags": []
   },
   "outputs": [],
   "source": []
  },
  {
   "cell_type": "code",
   "execution_count": 41,
   "id": "subject-macintosh",
   "metadata": {
    "execution": {
     "iopub.execute_input": "2021-04-07T12:03:50.501738Z",
     "iopub.status.busy": "2021-04-07T12:03:50.501109Z",
     "iopub.status.idle": "2021-04-07T12:03:50.502937Z",
     "shell.execute_reply": "2021-04-07T12:03:50.503435Z"
    },
    "papermill": {
     "duration": 0.041108,
     "end_time": "2021-04-07T12:03:50.503565",
     "exception": false,
     "start_time": "2021-04-07T12:03:50.462457",
     "status": "completed"
    },
    "tags": []
   },
   "outputs": [],
   "source": [
    "# #hide\n",
    "# fig, ax = plt.subplots(figsize=(15, 8))\n",
    "\n",
    "# def draw_barchart(current_day):\n",
    "#     dff = g[g['day'].eq(current_day)].sort_values(by='value', ascending=True).tail(10)\n",
    "#     ax.clear()\n",
    "#     ax.barh(dff['name'], dff['value'], color=[colors[group_lk[x]] for x in dff['name']])\n",
    "#     dx = dff['value'].max() / 200\n",
    "    \n",
    "#     for i, (value, name) in enumerate(zip(dff['value'], dff['name'])):\n",
    "#         ax.text(value-dx, i,     name,           size=14, weight=600, ha='right', va='bottom')\n",
    "#         ax.text(value-dx, i-.25, group_lk[name], size=10, color='#444444', ha='right', va='baseline')\n",
    "#         ax.text(value+dx, i,     f'{value:,.0f}',  size=14, ha='left',  va='center')\n",
    "#     ax.text(1, 0.4, current_day, transform=ax.transAxes, color='#777777', size=46, ha='right', weight=800)\n",
    "#     ax.text(0, 1.06, 'Population (thousands)', transform=ax.transAxes, size=12, color='#777777')\n",
    "#     ax.xaxis.set_major_formatter(ticker.StrMethodFormatter('{x:,.0f}'))\n",
    "#     ax.xaxis.set_ticks_position('top')\n",
    "#     ax.tick_params(axis='x', colors='#777777', labelsize=12)\n",
    "#     ax.set_yticks([])\n",
    "#     ax.margins(0, 0.01)\n",
    "#     ax.grid(which='major', axis='x', linestyle='-')\n",
    "#     ax.set_axisbelow(True)\n",
    "    \n",
    "#     ax.text(0, 1.15, 'Coronavirus',\n",
    "#             transform=ax.transAxes, size=24, weight=600, ha='left', va='top')\n",
    "# #     ax.text(1, 0, 'by @pratapvardhan; credit @jburnmurdoch', transform=ax.transAxes, color='#777777', ha='right',\n",
    "# #             bbox=dict(facecolor='white', alpha=0.8, edgecolor='white'))\n",
    "#     plt.box(False)"
   ]
  },
  {
   "cell_type": "code",
   "execution_count": 42,
   "id": "sexual-wages",
   "metadata": {
    "execution": {
     "iopub.execute_input": "2021-04-07T12:03:50.577917Z",
     "iopub.status.busy": "2021-04-07T12:03:50.577347Z",
     "iopub.status.idle": "2021-04-07T12:03:50.579622Z",
     "shell.execute_reply": "2021-04-07T12:03:50.579133Z"
    },
    "papermill": {
     "duration": 0.041197,
     "end_time": "2021-04-07T12:03:50.579732",
     "exception": false,
     "start_time": "2021-04-07T12:03:50.538535",
     "status": "completed"
    },
    "tags": []
   },
   "outputs": [],
   "source": [
    "# #hide_input\n",
    "# fig, ax = plt.subplots(figsize=(15, 8))\n",
    "# animator = animation.FuncAnimation(fig, draw_barchart, frames=range(g.day.values.min(), g.day.values.max()))\n",
    "# HTML(animator.to_jshtml())\n",
    "# # or use animator.to_html5_video() or animator.save() "
   ]
  },
  {
   "cell_type": "code",
   "execution_count": null,
   "id": "australian-container",
   "metadata": {
    "papermill": {
     "duration": 0.034448,
     "end_time": "2021-04-07T12:03:50.648885",
     "exception": false,
     "start_time": "2021-04-07T12:03:50.614437",
     "status": "completed"
    },
    "tags": []
   },
   "outputs": [],
   "source": []
  },
  {
   "cell_type": "code",
   "execution_count": null,
   "id": "mediterranean-pontiac",
   "metadata": {
    "papermill": {
     "duration": 0.034808,
     "end_time": "2021-04-07T12:03:50.717380",
     "exception": false,
     "start_time": "2021-04-07T12:03:50.682572",
     "status": "completed"
    },
    "tags": []
   },
   "outputs": [],
   "source": []
  },
  {
   "cell_type": "code",
   "execution_count": null,
   "id": "aging-legislature",
   "metadata": {
    "papermill": {
     "duration": 0.033834,
     "end_time": "2021-04-07T12:03:50.786053",
     "exception": false,
     "start_time": "2021-04-07T12:03:50.752219",
     "status": "completed"
    },
    "tags": []
   },
   "outputs": [],
   "source": []
  }
 ],
 "metadata": {
  "kernelspec": {
   "display_name": "Python 3",
   "language": "python",
   "name": "python3"
  },
  "language_info": {
   "codemirror_mode": {
    "name": "ipython",
    "version": 3
   },
   "file_extension": ".py",
   "mimetype": "text/x-python",
   "name": "python",
   "nbconvert_exporter": "python",
   "pygments_lexer": "ipython3",
   "version": "3.6.13"
  },
  "papermill": {
   "duration": 6.624784,
   "end_time": "2021-04-07T12:03:51.127443",
   "environment_variables": {},
   "exception": null,
   "input_path": "2020-03-21-covid19exp.ipynb",
   "output_path": "2020-03-21-covid19exp.ipynb",
   "parameters": {},
   "start_time": "2021-04-07T12:03:44.502659",
   "version": "2.0.0"
  }
 },
 "nbformat": 4,
 "nbformat_minor": 5
}