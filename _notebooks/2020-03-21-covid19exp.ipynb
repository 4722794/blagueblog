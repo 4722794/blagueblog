{
 "cells": [
  {
   "cell_type": "markdown",
   "id": "muslim-click",
   "metadata": {
    "papermill": {
     "duration": 0.035733,
     "end_time": "2022-07-21T00:45:48.336191",
     "exception": false,
     "start_time": "2022-07-21T00:45:48.300458",
     "status": "completed"
    },
    "tags": []
   },
   "source": [
    "# COVID-19 Case Race\n",
    "> A race chart to see rising cases around the world\n",
    "\n",
    "- author: Hargun Oberoi\n",
    "- image: images/covid-overview.png\n",
    "- hide: false\n",
    "- badges: false"
   ]
  },
  {
   "cell_type": "code",
   "execution_count": 1,
   "id": "proof-material",
   "metadata": {
    "execution": {
     "iopub.execute_input": "2022-07-21T00:45:48.406101Z",
     "iopub.status.busy": "2022-07-21T00:45:48.405428Z",
     "iopub.status.idle": "2022-07-21T00:45:48.737503Z",
     "shell.execute_reply": "2022-07-21T00:45:48.738023Z"
    },
    "papermill": {
     "duration": 0.371977,
     "end_time": "2022-07-21T00:45:48.738195",
     "exception": false,
     "start_time": "2022-07-21T00:45:48.366218",
     "status": "completed"
    },
    "tags": []
   },
   "outputs": [],
   "source": [
    "#hide\n",
    "import numpy as np\n",
    "import pandas as pd\n",
    "from jinja2 import Template\n",
    "from IPython.display import HTML"
   ]
  },
  {
   "cell_type": "code",
   "execution_count": 2,
   "id": "developed-terminology",
   "metadata": {
    "execution": {
     "iopub.execute_input": "2022-07-21T00:45:48.803587Z",
     "iopub.status.busy": "2022-07-21T00:45:48.802976Z",
     "iopub.status.idle": "2022-07-21T00:45:48.805056Z",
     "shell.execute_reply": "2022-07-21T00:45:48.805623Z"
    },
    "papermill": {
     "duration": 0.037202,
     "end_time": "2022-07-21T00:45:48.805756",
     "exception": false,
     "start_time": "2022-07-21T00:45:48.768554",
     "status": "completed"
    },
    "tags": []
   },
   "outputs": [],
   "source": [
    "#hide\n",
    "\n",
    "# FETCH\n",
    "base_url = 'https://raw.githubusercontent.com/pratapvardhan/notebooks/master/covid19/'\n",
    "paths = {\n",
    "    'mapping': base_url + 'mapping_countries.csv',\n",
    "    'overview': base_url + 'overview.tpl'\n",
    "}"
   ]
  },
  {
   "cell_type": "code",
   "execution_count": 3,
   "id": "dynamic-saver",
   "metadata": {
    "execution": {
     "iopub.execute_input": "2022-07-21T00:45:48.873996Z",
     "iopub.status.busy": "2022-07-21T00:45:48.873348Z",
     "iopub.status.idle": "2022-07-21T00:45:48.877117Z",
     "shell.execute_reply": "2022-07-21T00:45:48.876667Z"
    },
    "papermill": {
     "duration": 0.042436,
     "end_time": "2022-07-21T00:45:48.877233",
     "exception": false,
     "start_time": "2022-07-21T00:45:48.834797",
     "status": "completed"
    },
    "tags": []
   },
   "outputs": [
    {
     "data": {
      "text/plain": [
       "'https://raw.githubusercontent.com/pratapvardhan/notebooks/master/covid19/mapping_countries.csv'"
      ]
     },
     "execution_count": 3,
     "metadata": {},
     "output_type": "execute_result"
    }
   ],
   "source": [
    "#hide\n",
    "paths['mapping']"
   ]
  },
  {
   "cell_type": "code",
   "execution_count": 4,
   "id": "urban-software",
   "metadata": {
    "execution": {
     "iopub.execute_input": "2022-07-21T00:45:48.942293Z",
     "iopub.status.busy": "2022-07-21T00:45:48.941685Z",
     "iopub.status.idle": "2022-07-21T00:45:48.944230Z",
     "shell.execute_reply": "2022-07-21T00:45:48.943741Z"
    },
    "papermill": {
     "duration": 0.037533,
     "end_time": "2022-07-21T00:45:48.944343",
     "exception": false,
     "start_time": "2022-07-21T00:45:48.906810",
     "status": "completed"
    },
    "tags": []
   },
   "outputs": [],
   "source": [
    "#hide\n",
    "def get_mappings(url):\n",
    "    df = pd.read_csv(url)\n",
    "    return {\n",
    "        'df': df,\n",
    "        'replace.country': dict(df.dropna(subset=['Name']).set_index('Country')['Name']),\n",
    "        'map.continent': dict(df.set_index('Name')['Continent'])\n",
    "    }"
   ]
  },
  {
   "cell_type": "code",
   "execution_count": 5,
   "id": "intimate-machinery",
   "metadata": {
    "execution": {
     "iopub.execute_input": "2022-07-21T00:45:49.009322Z",
     "iopub.status.busy": "2022-07-21T00:45:49.008716Z",
     "iopub.status.idle": "2022-07-21T00:45:49.064238Z",
     "shell.execute_reply": "2022-07-21T00:45:49.063634Z"
    },
    "papermill": {
     "duration": 0.090467,
     "end_time": "2022-07-21T00:45:49.064375",
     "exception": false,
     "start_time": "2022-07-21T00:45:48.973908",
     "status": "completed"
    },
    "tags": []
   },
   "outputs": [],
   "source": [
    "#hide\n",
    "mapping = get_mappings(paths['mapping'])"
   ]
  },
  {
   "cell_type": "code",
   "execution_count": 6,
   "id": "certified-tactics",
   "metadata": {
    "execution": {
     "iopub.execute_input": "2022-07-21T00:45:49.130685Z",
     "iopub.status.busy": "2022-07-21T00:45:49.130012Z",
     "iopub.status.idle": "2022-07-21T00:45:49.132546Z",
     "shell.execute_reply": "2022-07-21T00:45:49.132032Z"
    },
    "papermill": {
     "duration": 0.03742,
     "end_time": "2022-07-21T00:45:49.132669",
     "exception": false,
     "start_time": "2022-07-21T00:45:49.095249",
     "status": "completed"
    },
    "tags": []
   },
   "outputs": [],
   "source": [
    "#hide\n",
    "def get_template(path):\n",
    "    from urllib.parse import urlparse\n",
    "    if bool(urlparse(path).netloc):\n",
    "        from urllib.request import urlopen\n",
    "        return urlopen(path).read().decode('utf8')\n",
    "    return open(path).read()"
   ]
  },
  {
   "cell_type": "code",
   "execution_count": 7,
   "id": "realistic-blast",
   "metadata": {
    "execution": {
     "iopub.execute_input": "2022-07-21T00:45:49.197635Z",
     "iopub.status.busy": "2022-07-21T00:45:49.197006Z",
     "iopub.status.idle": "2022-07-21T00:45:49.199747Z",
     "shell.execute_reply": "2022-07-21T00:45:49.199243Z"
    },
    "papermill": {
     "duration": 0.037361,
     "end_time": "2022-07-21T00:45:49.199866",
     "exception": false,
     "start_time": "2022-07-21T00:45:49.162505",
     "status": "completed"
    },
    "tags": []
   },
   "outputs": [],
   "source": [
    "#hide\n",
    "def get_frame(name):\n",
    "    url = (\n",
    "        'https://raw.githubusercontent.com/CSSEGISandData/COVID-19/master/csse_covid_19_data/'\n",
    "        f'csse_covid_19_time_series/time_series_covid19_{name}_global.csv')\n",
    "    df = pd.read_csv(url)\n",
    "    # rename countries\n",
    "    df['Country/Region'] = df['Country/Region'].replace(mapping['replace.country'])\n",
    "    return df"
   ]
  },
  {
   "cell_type": "code",
   "execution_count": 8,
   "id": "affiliated-characterization",
   "metadata": {
    "execution": {
     "iopub.execute_input": "2022-07-21T00:45:49.265526Z",
     "iopub.status.busy": "2022-07-21T00:45:49.264814Z",
     "iopub.status.idle": "2022-07-21T00:45:49.267388Z",
     "shell.execute_reply": "2022-07-21T00:45:49.266911Z"
    },
    "papermill": {
     "duration": 0.038071,
     "end_time": "2022-07-21T00:45:49.267502",
     "exception": false,
     "start_time": "2022-07-21T00:45:49.229431",
     "status": "completed"
    },
    "tags": []
   },
   "outputs": [],
   "source": [
    "#hide\n",
    "def get_dates(df):\n",
    "    dt_cols = df.columns[~df.columns.isin(['Province/State', 'Country/Region', 'Lat', 'Long'])]\n",
    "    LAST_DATE_I = -1\n",
    "    # sometimes last column may be empty, then go backwards\n",
    "    for i in range(-1, -len(dt_cols), -1):\n",
    "        if not df[dt_cols[i]].fillna(0).eq(0).all():\n",
    "            LAST_DATE_I = i\n",
    "            break\n",
    "    return LAST_DATE_I, dt_cols"
   ]
  },
  {
   "cell_type": "code",
   "execution_count": 9,
   "id": "recent-optimization",
   "metadata": {
    "execution": {
     "iopub.execute_input": "2022-07-21T00:45:49.331755Z",
     "iopub.status.busy": "2022-07-21T00:45:49.331112Z",
     "iopub.status.idle": "2022-07-21T00:45:49.856416Z",
     "shell.execute_reply": "2022-07-21T00:45:49.855824Z"
    },
    "papermill": {
     "duration": 0.559478,
     "end_time": "2022-07-21T00:45:49.856548",
     "exception": false,
     "start_time": "2022-07-21T00:45:49.297070",
     "status": "completed"
    },
    "tags": []
   },
   "outputs": [],
   "source": [
    "#hide\n",
    "COL_REGION = 'Country/Region'\n",
    "# Confirmed, Recovered, Deaths\n",
    "df = get_frame('confirmed')\n",
    "# dft_: timeseries, dfc_: today country agg\n",
    "dft_cases = df\n",
    "dft_deaths = get_frame('deaths')\n",
    "dft_recovered = get_frame('recovered')\n",
    "LAST_DATE_I, dt_cols = get_dates(df)"
   ]
  },
  {
   "cell_type": "code",
   "execution_count": 10,
   "id": "absolute-copper",
   "metadata": {
    "execution": {
     "iopub.execute_input": "2022-07-21T00:45:49.922491Z",
     "iopub.status.busy": "2022-07-21T00:45:49.921779Z",
     "iopub.status.idle": "2022-07-21T00:45:49.924418Z",
     "shell.execute_reply": "2022-07-21T00:45:49.923746Z"
    },
    "papermill": {
     "duration": 0.038212,
     "end_time": "2022-07-21T00:45:49.924545",
     "exception": false,
     "start_time": "2022-07-21T00:45:49.886333",
     "status": "completed"
    },
    "tags": []
   },
   "outputs": [],
   "source": [
    "#hide\n",
    "LAST_DATE_I, dt_cols = get_dates(df)\n",
    "dt_today =dt_cols[LAST_DATE_I]\n",
    "# dt_5day = dt_cols[LAST_DATE_I - 5]\n",
    "dt_yday = dt_cols[LAST_DATE_I - 1]"
   ]
  },
  {
   "cell_type": "code",
   "execution_count": 11,
   "id": "restricted-sheriff",
   "metadata": {
    "execution": {
     "iopub.execute_input": "2022-07-21T00:45:49.991893Z",
     "iopub.status.busy": "2022-07-21T00:45:49.991256Z",
     "iopub.status.idle": "2022-07-21T00:45:49.996745Z",
     "shell.execute_reply": "2022-07-21T00:45:49.997319Z"
    },
    "papermill": {
     "duration": 0.043199,
     "end_time": "2022-07-21T00:45:49.997454",
     "exception": false,
     "start_time": "2022-07-21T00:45:49.954255",
     "status": "completed"
    },
    "tags": []
   },
   "outputs": [],
   "source": [
    "#hide\n",
    "dfc_cases = dft_cases.groupby(COL_REGION)[dt_today].sum()\n",
    "dfc_deaths = dft_deaths.groupby(COL_REGION)[dt_today].sum()\n",
    "# dfp_cases = dft_cases.groupby(COL_REGION)[dt_5day].sum()\n",
    "# dfp_deaths = dft_deaths.groupby(COL_REGION)[dt_5day].sum()\n",
    "dfp_cases = dft_cases.groupby(COL_REGION)[dt_yday].sum()\n",
    "dfp_deaths = dft_deaths.groupby(COL_REGION)[dt_yday].sum()"
   ]
  },
  {
   "cell_type": "code",
   "execution_count": 12,
   "id": "deluxe-hepatitis",
   "metadata": {
    "execution": {
     "iopub.execute_input": "2022-07-21T00:45:50.062882Z",
     "iopub.status.busy": "2022-07-21T00:45:50.062279Z",
     "iopub.status.idle": "2022-07-21T00:45:50.067239Z",
     "shell.execute_reply": "2022-07-21T00:45:50.066755Z"
    },
    "papermill": {
     "duration": 0.04046,
     "end_time": "2022-07-21T00:45:50.067353",
     "exception": false,
     "start_time": "2022-07-21T00:45:50.026893",
     "status": "completed"
    },
    "tags": []
   },
   "outputs": [],
   "source": [
    "#hide\n",
    "df_table = (pd.DataFrame(dict(Cases = dfc_cases, Deaths = dfc_deaths, PCases = dfp_cases, PDeaths = dfp_deaths))\n",
    "            .sort_values(by = ['Cases','Deaths'], ascending = [False, False])\n",
    "            .reset_index())"
   ]
  },
  {
   "cell_type": "code",
   "execution_count": 13,
   "id": "educational-chancellor",
   "metadata": {
    "execution": {
     "iopub.execute_input": "2022-07-21T00:45:50.144889Z",
     "iopub.status.busy": "2022-07-21T00:45:50.144272Z",
     "iopub.status.idle": "2022-07-21T00:45:50.152645Z",
     "shell.execute_reply": "2022-07-21T00:45:50.152159Z"
    },
    "papermill": {
     "duration": 0.055885,
     "end_time": "2022-07-21T00:45:50.152764",
     "exception": false,
     "start_time": "2022-07-21T00:45:50.096879",
     "status": "completed"
    },
    "tags": []
   },
   "outputs": [
    {
     "data": {
      "text/html": [
       "<div>\n",
       "<style scoped>\n",
       "    .dataframe tbody tr th:only-of-type {\n",
       "        vertical-align: middle;\n",
       "    }\n",
       "\n",
       "    .dataframe tbody tr th {\n",
       "        vertical-align: top;\n",
       "    }\n",
       "\n",
       "    .dataframe thead th {\n",
       "        text-align: right;\n",
       "    }\n",
       "</style>\n",
       "<table border=\"1\" class=\"dataframe\">\n",
       "  <thead>\n",
       "    <tr style=\"text-align: right;\">\n",
       "      <th></th>\n",
       "      <th>Country/Region</th>\n",
       "      <th>Cases</th>\n",
       "      <th>Deaths</th>\n",
       "      <th>PCases</th>\n",
       "      <th>PDeaths</th>\n",
       "      <th>Cases (+)</th>\n",
       "      <th>Deaths (+)</th>\n",
       "      <th>Fatality Rate</th>\n",
       "      <th>Continent</th>\n",
       "    </tr>\n",
       "  </thead>\n",
       "  <tbody>\n",
       "    <tr>\n",
       "      <th>0</th>\n",
       "      <td>US</td>\n",
       "      <td>89830640</td>\n",
       "      <td>1024858</td>\n",
       "      <td>89677127</td>\n",
       "      <td>1024266</td>\n",
       "      <td>153513</td>\n",
       "      <td>592</td>\n",
       "      <td>1.14</td>\n",
       "      <td>North America</td>\n",
       "    </tr>\n",
       "    <tr>\n",
       "      <th>1</th>\n",
       "      <td>India</td>\n",
       "      <td>43801678</td>\n",
       "      <td>525821</td>\n",
       "      <td>43783062</td>\n",
       "      <td>525785</td>\n",
       "      <td>18616</td>\n",
       "      <td>36</td>\n",
       "      <td>1.20</td>\n",
       "      <td>Asia</td>\n",
       "    </tr>\n",
       "    <tr>\n",
       "      <th>2</th>\n",
       "      <td>Brazil</td>\n",
       "      <td>33397814</td>\n",
       "      <td>675871</td>\n",
       "      <td>33339815</td>\n",
       "      <td>675518</td>\n",
       "      <td>57999</td>\n",
       "      <td>353</td>\n",
       "      <td>2.02</td>\n",
       "      <td>South America</td>\n",
       "    </tr>\n",
       "    <tr>\n",
       "      <th>3</th>\n",
       "      <td>France</td>\n",
       "      <td>33375449</td>\n",
       "      <td>152019</td>\n",
       "      <td>33239622</td>\n",
       "      <td>151875</td>\n",
       "      <td>135827</td>\n",
       "      <td>144</td>\n",
       "      <td>0.46</td>\n",
       "      <td>Europe</td>\n",
       "    </tr>\n",
       "    <tr>\n",
       "      <th>4</th>\n",
       "      <td>Germany</td>\n",
       "      <td>29994679</td>\n",
       "      <td>142771</td>\n",
       "      <td>29853680</td>\n",
       "      <td>142635</td>\n",
       "      <td>140999</td>\n",
       "      <td>136</td>\n",
       "      <td>0.48</td>\n",
       "      <td>Europe</td>\n",
       "    </tr>\n",
       "  </tbody>\n",
       "</table>\n",
       "</div>"
      ],
      "text/plain": [
       "  Country/Region     Cases   Deaths    PCases  PDeaths  Cases (+)  Deaths (+)  \\\n",
       "0             US  89830640  1024858  89677127  1024266     153513         592   \n",
       "1          India  43801678   525821  43783062   525785      18616          36   \n",
       "2         Brazil  33397814   675871  33339815   675518      57999         353   \n",
       "3         France  33375449   152019  33239622   151875     135827         144   \n",
       "4        Germany  29994679   142771  29853680   142635     140999         136   \n",
       "\n",
       "   Fatality Rate      Continent  \n",
       "0           1.14  North America  \n",
       "1           1.20           Asia  \n",
       "2           2.02  South America  \n",
       "3           0.46         Europe  \n",
       "4           0.48         Europe  "
      ]
     },
     "execution_count": 13,
     "metadata": {},
     "output_type": "execute_result"
    }
   ],
   "source": [
    "#hide\n",
    "for c in 'Cases, Deaths'.split(', '):\n",
    "    df_table[f'{c} (+)'] = (df_table[c] - df_table[f'P{c}']).clip(0)\n",
    "    #Clip ça veut dire, les chiffres negatif sont interdit\n",
    "df_table['Fatality Rate'] = (100* df_table['Deaths']/ df_table['Cases']).round(2)\n",
    "df_table['Continent'] = df_table['Country/Region'].map(mapping['map.continent'])\n",
    "df_table.head(5)"
   ]
  },
  {
   "cell_type": "code",
   "execution_count": 14,
   "id": "aboriginal-bulgaria",
   "metadata": {
    "execution": {
     "iopub.execute_input": "2022-07-21T00:45:50.218789Z",
     "iopub.status.busy": "2022-07-21T00:45:50.218190Z",
     "iopub.status.idle": "2022-07-21T00:45:50.221769Z",
     "shell.execute_reply": "2022-07-21T00:45:50.222199Z"
    },
    "papermill": {
     "duration": 0.039445,
     "end_time": "2022-07-21T00:45:50.222339",
     "exception": false,
     "start_time": "2022-07-21T00:45:50.182894",
     "status": "completed"
    },
    "tags": []
   },
   "outputs": [],
   "source": [
    "#hide\n",
    "#delete problematic countries from table\n",
    "df_table = df_table[~df_table['Country/Region'].isin(['Cape Verde', 'Cruise Ship', 'Kosovo'])]"
   ]
  },
  {
   "cell_type": "code",
   "execution_count": 15,
   "id": "fantastic-effect",
   "metadata": {
    "execution": {
     "iopub.execute_input": "2022-07-21T00:45:50.289990Z",
     "iopub.status.busy": "2022-07-21T00:45:50.289389Z",
     "iopub.status.idle": "2022-07-21T00:45:50.306905Z",
     "shell.execute_reply": "2022-07-21T00:45:50.307487Z"
    },
    "papermill": {
     "duration": 0.055454,
     "end_time": "2022-07-21T00:45:50.307647",
     "exception": false,
     "start_time": "2022-07-21T00:45:50.252193",
     "status": "completed"
    },
    "tags": []
   },
   "outputs": [
    {
     "data": {
      "text/html": [
       "<div>\n",
       "<style scoped>\n",
       "    .dataframe tbody tr th:only-of-type {\n",
       "        vertical-align: middle;\n",
       "    }\n",
       "\n",
       "    .dataframe tbody tr th {\n",
       "        vertical-align: top;\n",
       "    }\n",
       "\n",
       "    .dataframe thead th {\n",
       "        text-align: right;\n",
       "    }\n",
       "</style>\n",
       "<table border=\"1\" class=\"dataframe\">\n",
       "  <thead>\n",
       "    <tr style=\"text-align: right;\">\n",
       "      <th></th>\n",
       "      <th>Country/Region</th>\n",
       "      <th>Cases</th>\n",
       "      <th>Deaths</th>\n",
       "      <th>PCases</th>\n",
       "      <th>PDeaths</th>\n",
       "      <th>Cases (+)</th>\n",
       "      <th>Deaths (+)</th>\n",
       "      <th>Fatality Rate</th>\n",
       "      <th>Continent</th>\n",
       "    </tr>\n",
       "  </thead>\n",
       "  <tbody>\n",
       "    <tr>\n",
       "      <th>0</th>\n",
       "      <td>US</td>\n",
       "      <td>89830640</td>\n",
       "      <td>1024858</td>\n",
       "      <td>89677127</td>\n",
       "      <td>1024266</td>\n",
       "      <td>153513</td>\n",
       "      <td>592</td>\n",
       "      <td>1.1</td>\n",
       "      <td>North America</td>\n",
       "    </tr>\n",
       "    <tr>\n",
       "      <th>1</th>\n",
       "      <td>India</td>\n",
       "      <td>43801678</td>\n",
       "      <td>525821</td>\n",
       "      <td>43783062</td>\n",
       "      <td>525785</td>\n",
       "      <td>18616</td>\n",
       "      <td>36</td>\n",
       "      <td>1.2</td>\n",
       "      <td>Asia</td>\n",
       "    </tr>\n",
       "    <tr>\n",
       "      <th>2</th>\n",
       "      <td>Brazil</td>\n",
       "      <td>33397814</td>\n",
       "      <td>675871</td>\n",
       "      <td>33339815</td>\n",
       "      <td>675518</td>\n",
       "      <td>57999</td>\n",
       "      <td>353</td>\n",
       "      <td>2.0</td>\n",
       "      <td>South America</td>\n",
       "    </tr>\n",
       "    <tr>\n",
       "      <th>3</th>\n",
       "      <td>France</td>\n",
       "      <td>33375449</td>\n",
       "      <td>152019</td>\n",
       "      <td>33239622</td>\n",
       "      <td>151875</td>\n",
       "      <td>135827</td>\n",
       "      <td>144</td>\n",
       "      <td>0.5</td>\n",
       "      <td>Europe</td>\n",
       "    </tr>\n",
       "    <tr>\n",
       "      <th>4</th>\n",
       "      <td>Germany</td>\n",
       "      <td>29994679</td>\n",
       "      <td>142771</td>\n",
       "      <td>29853680</td>\n",
       "      <td>142635</td>\n",
       "      <td>140999</td>\n",
       "      <td>136</td>\n",
       "      <td>0.5</td>\n",
       "      <td>Europe</td>\n",
       "    </tr>\n",
       "  </tbody>\n",
       "</table>\n",
       "</div>"
      ],
      "text/plain": [
       "  Country/Region     Cases   Deaths    PCases  PDeaths  Cases (+)  Deaths (+)  \\\n",
       "0             US  89830640  1024858  89677127  1024266     153513         592   \n",
       "1          India  43801678   525821  43783062   525785      18616          36   \n",
       "2         Brazil  33397814   675871  33339815   675518      57999         353   \n",
       "3         France  33375449   152019  33239622   151875     135827         144   \n",
       "4        Germany  29994679   142771  29853680   142635     140999         136   \n",
       "\n",
       "   Fatality Rate      Continent  \n",
       "0            1.1  North America  \n",
       "1            1.2           Asia  \n",
       "2            2.0  South America  \n",
       "3            0.5         Europe  \n",
       "4            0.5         Europe  "
      ]
     },
     "execution_count": 15,
     "metadata": {},
     "output_type": "execute_result"
    }
   ],
   "source": [
    "#hide\n",
    "df_table = (pd.DataFrame(dict(Cases=dfc_cases, Deaths=dfc_deaths, PCases=dfp_cases, PDeaths=dfp_deaths))\n",
    "             .sort_values(by=['Cases', 'Deaths'], ascending=[False, False])\n",
    "             .reset_index())\n",
    "df_table.rename(columns={'index': 'Country/Region'}, inplace=True)\n",
    "for c in 'Cases, Deaths'.split(', '):\n",
    "    df_table[f'{c} (+)'] = (df_table[c] - df_table[f'P{c}']).clip(0)  # DATA BUG\n",
    "df_table['Fatality Rate'] = (100 * df_table['Deaths'] / df_table['Cases']).round(1)\n",
    "df_table['Continent'] = df_table['Country/Region'].map(mapping['map.continent'])\n",
    "df_table.head(5)"
   ]
  },
  {
   "cell_type": "code",
   "execution_count": 16,
   "id": "fewer-occasion",
   "metadata": {
    "execution": {
     "iopub.execute_input": "2022-07-21T00:45:50.374961Z",
     "iopub.status.busy": "2022-07-21T00:45:50.374241Z",
     "iopub.status.idle": "2022-07-21T00:45:50.376718Z",
     "shell.execute_reply": "2022-07-21T00:45:50.376240Z"
    },
    "papermill": {
     "duration": 0.038659,
     "end_time": "2022-07-21T00:45:50.376834",
     "exception": false,
     "start_time": "2022-07-21T00:45:50.338175",
     "status": "completed"
    },
    "tags": []
   },
   "outputs": [],
   "source": [
    "#hide\n",
    "#delete problematic countries from table\n",
    "df_table = df_table[~df_table['Country/Region'].isin(['Cape Verde', 'Cruise Ship', 'Kosovo'])]"
   ]
  },
  {
   "cell_type": "code",
   "execution_count": 17,
   "id": "related-center",
   "metadata": {
    "execution": {
     "iopub.execute_input": "2022-07-21T00:45:50.456319Z",
     "iopub.status.busy": "2022-07-21T00:45:50.455671Z",
     "iopub.status.idle": "2022-07-21T00:45:50.458125Z",
     "shell.execute_reply": "2022-07-21T00:45:50.457651Z"
    },
    "papermill": {
     "duration": 0.051068,
     "end_time": "2022-07-21T00:45:50.458240",
     "exception": false,
     "start_time": "2022-07-21T00:45:50.407172",
     "status": "completed"
    },
    "tags": []
   },
   "outputs": [],
   "source": [
    "#hide\n",
    "metrics = [df_table.columns[index] for index in [1,2,5,6]]\n",
    "# s_china = df_table[df_table['Country/Region'].eq('China')][metrics].sum().add_prefix('China ')\n",
    "s_us = df_table[df_table['Country/Region'].eq('US')][metrics].sum().add_prefix('US ')\n",
    "s_eu = df_table[df_table['Continent'].eq('Europe')][metrics].sum().add_prefix('EU ')\n",
    "s_ind = df_table[df_table['Country/Region'].eq('India')][metrics].sum().add_prefix('India ')\n",
    "summary = {'updated': pd.to_datetime(dt_today), 'since': pd.to_datetime(dt_yday)}\n",
    "summary = {'updated': pd.to_datetime(dt_today), 'since': pd.to_datetime(dt_yday)}\n",
    "summary = {**summary, **df_table[metrics].sum(), **s_ind, **s_us, **s_eu}"
   ]
  },
  {
   "cell_type": "code",
   "execution_count": 18,
   "id": "engaging-syndrome",
   "metadata": {
    "execution": {
     "iopub.execute_input": "2022-07-21T00:45:50.525519Z",
     "iopub.status.busy": "2022-07-21T00:45:50.524913Z",
     "iopub.status.idle": "2022-07-21T00:45:50.544655Z",
     "shell.execute_reply": "2022-07-21T00:45:50.545158Z"
    },
    "papermill": {
     "duration": 0.056116,
     "end_time": "2022-07-21T00:45:50.545322",
     "exception": false,
     "start_time": "2022-07-21T00:45:50.489206",
     "status": "completed"
    },
    "tags": []
   },
   "outputs": [],
   "source": [
    "#hide\n",
    "dft_ct_new_cases = dft_cases.groupby(COL_REGION)[dt_cols].sum().diff(axis=1).fillna(0).astype(int)"
   ]
  },
  {
   "cell_type": "code",
   "execution_count": 19,
   "id": "neutral-assignment",
   "metadata": {
    "execution": {
     "iopub.execute_input": "2022-07-21T00:45:50.613708Z",
     "iopub.status.busy": "2022-07-21T00:45:50.613076Z",
     "iopub.status.idle": "2022-07-21T00:45:50.615830Z",
     "shell.execute_reply": "2022-07-21T00:45:50.615316Z"
    },
    "papermill": {
     "duration": 0.039532,
     "end_time": "2022-07-21T00:45:50.615952",
     "exception": false,
     "start_time": "2022-07-21T00:45:50.576420",
     "status": "completed"
    },
    "tags": []
   },
   "outputs": [],
   "source": [
    "#hide\n",
    "everydaycases = dft_ct_new_cases.cumsum(axis=1)"
   ]
  },
  {
   "cell_type": "code",
   "execution_count": 20,
   "id": "parliamentary-calgary",
   "metadata": {
    "execution": {
     "iopub.execute_input": "2022-07-21T00:45:50.681691Z",
     "iopub.status.busy": "2022-07-21T00:45:50.681091Z",
     "iopub.status.idle": "2022-07-21T00:45:51.236305Z",
     "shell.execute_reply": "2022-07-21T00:45:51.236779Z"
    },
    "papermill": {
     "duration": 0.590427,
     "end_time": "2022-07-21T00:45:51.236941",
     "exception": false,
     "start_time": "2022-07-21T00:45:50.646514",
     "status": "completed"
    },
    "tags": []
   },
   "outputs": [],
   "source": [
    "#hide\n",
    "import pandas as pd\n",
    "import matplotlib.pyplot as plt\n",
    "import matplotlib.ticker as ticker\n",
    "import matplotlib.animation as animation\n",
    "from IPython.display import HTML"
   ]
  },
  {
   "cell_type": "code",
   "execution_count": 21,
   "id": "lasting-extraction",
   "metadata": {
    "execution": {
     "iopub.execute_input": "2022-07-21T00:45:51.305873Z",
     "iopub.status.busy": "2022-07-21T00:45:51.305268Z",
     "iopub.status.idle": "2022-07-21T00:45:51.312208Z",
     "shell.execute_reply": "2022-07-21T00:45:51.312693Z"
    },
    "papermill": {
     "duration": 0.044829,
     "end_time": "2022-07-21T00:45:51.312830",
     "exception": false,
     "start_time": "2022-07-21T00:45:51.268001",
     "status": "completed"
    },
    "tags": []
   },
   "outputs": [],
   "source": [
    "#hide\n",
    "t = everydaycases.stack()"
   ]
  },
  {
   "cell_type": "code",
   "execution_count": 22,
   "id": "premier-sleeve",
   "metadata": {
    "execution": {
     "iopub.execute_input": "2022-07-21T00:45:51.378970Z",
     "iopub.status.busy": "2022-07-21T00:45:51.378352Z",
     "iopub.status.idle": "2022-07-21T00:45:51.390941Z",
     "shell.execute_reply": "2022-07-21T00:45:51.390459Z"
    },
    "papermill": {
     "duration": 0.047537,
     "end_time": "2022-07-21T00:45:51.391061",
     "exception": false,
     "start_time": "2022-07-21T00:45:51.343524",
     "status": "completed"
    },
    "tags": []
   },
   "outputs": [],
   "source": [
    "#hide\n",
    "g = t.reset_index(['Country/Region'])"
   ]
  },
  {
   "cell_type": "code",
   "execution_count": 23,
   "id": "distributed-pittsburgh",
   "metadata": {
    "execution": {
     "iopub.execute_input": "2022-07-21T00:45:51.456864Z",
     "iopub.status.busy": "2022-07-21T00:45:51.456159Z",
     "iopub.status.idle": "2022-07-21T00:45:51.460376Z",
     "shell.execute_reply": "2022-07-21T00:45:51.460805Z"
    },
    "papermill": {
     "duration": 0.039415,
     "end_time": "2022-07-21T00:45:51.460943",
     "exception": false,
     "start_time": "2022-07-21T00:45:51.421528",
     "status": "completed"
    },
    "tags": []
   },
   "outputs": [],
   "source": [
    "#hide\n",
    "g.index.name = 'date'"
   ]
  },
  {
   "cell_type": "code",
   "execution_count": 24,
   "id": "naked-donor",
   "metadata": {
    "execution": {
     "iopub.execute_input": "2022-07-21T00:45:51.526134Z",
     "iopub.status.busy": "2022-07-21T00:45:51.525433Z",
     "iopub.status.idle": "2022-07-21T00:45:51.528339Z",
     "shell.execute_reply": "2022-07-21T00:45:51.527687Z"
    },
    "papermill": {
     "duration": 0.03683,
     "end_time": "2022-07-21T00:45:51.528454",
     "exception": false,
     "start_time": "2022-07-21T00:45:51.491624",
     "status": "completed"
    },
    "tags": []
   },
   "outputs": [],
   "source": [
    "# #hide\n",
    "# g = g.reset_index(['date'])"
   ]
  },
  {
   "cell_type": "code",
   "execution_count": 25,
   "id": "incomplete-mustang",
   "metadata": {
    "execution": {
     "iopub.execute_input": "2022-07-21T00:45:51.594141Z",
     "iopub.status.busy": "2022-07-21T00:45:51.593529Z",
     "iopub.status.idle": "2022-07-21T00:45:51.595881Z",
     "shell.execute_reply": "2022-07-21T00:45:51.596467Z"
    },
    "papermill": {
     "duration": 0.037683,
     "end_time": "2022-07-21T00:45:51.596604",
     "exception": false,
     "start_time": "2022-07-21T00:45:51.558921",
     "status": "completed"
    },
    "tags": []
   },
   "outputs": [],
   "source": [
    "#hide\n",
    "# g.head()"
   ]
  },
  {
   "cell_type": "code",
   "execution_count": 26,
   "id": "specific-kruger",
   "metadata": {
    "execution": {
     "iopub.execute_input": "2022-07-21T00:45:51.661754Z",
     "iopub.status.busy": "2022-07-21T00:45:51.661156Z",
     "iopub.status.idle": "2022-07-21T00:45:51.663277Z",
     "shell.execute_reply": "2022-07-21T00:45:51.663872Z"
    },
    "papermill": {
     "duration": 0.036853,
     "end_time": "2022-07-21T00:45:51.664010",
     "exception": false,
     "start_time": "2022-07-21T00:45:51.627157",
     "status": "completed"
    },
    "tags": []
   },
   "outputs": [],
   "source": [
    "#hide\n",
    "# g.columns = ['date','country','cases']"
   ]
  },
  {
   "cell_type": "code",
   "execution_count": 27,
   "id": "tender-conversion",
   "metadata": {
    "execution": {
     "iopub.execute_input": "2022-07-21T00:45:51.728528Z",
     "iopub.status.busy": "2022-07-21T00:45:51.727825Z",
     "iopub.status.idle": "2022-07-21T00:45:51.730098Z",
     "shell.execute_reply": "2022-07-21T00:45:51.730583Z"
    },
    "papermill": {
     "duration": 0.036451,
     "end_time": "2022-07-21T00:45:51.730728",
     "exception": false,
     "start_time": "2022-07-21T00:45:51.694277",
     "status": "completed"
    },
    "tags": []
   },
   "outputs": [],
   "source": [
    "#hide\n",
    "# g['continent'] = g.country"
   ]
  },
  {
   "cell_type": "code",
   "execution_count": 28,
   "id": "substantial-wilderness",
   "metadata": {
    "execution": {
     "iopub.execute_input": "2022-07-21T00:45:51.795827Z",
     "iopub.status.busy": "2022-07-21T00:45:51.795101Z",
     "iopub.status.idle": "2022-07-21T00:45:51.797816Z",
     "shell.execute_reply": "2022-07-21T00:45:51.797174Z"
    },
    "papermill": {
     "duration": 0.036648,
     "end_time": "2022-07-21T00:45:51.797943",
     "exception": false,
     "start_time": "2022-07-21T00:45:51.761295",
     "status": "completed"
    },
    "tags": []
   },
   "outputs": [],
   "source": [
    "#hide\n",
    "# cols = list(g.columns.values)"
   ]
  },
  {
   "cell_type": "code",
   "execution_count": 29,
   "id": "solved-farming",
   "metadata": {
    "execution": {
     "iopub.execute_input": "2022-07-21T00:45:51.863309Z",
     "iopub.status.busy": "2022-07-21T00:45:51.862604Z",
     "iopub.status.idle": "2022-07-21T00:45:51.865084Z",
     "shell.execute_reply": "2022-07-21T00:45:51.864611Z"
    },
    "papermill": {
     "duration": 0.036495,
     "end_time": "2022-07-21T00:45:51.865199",
     "exception": false,
     "start_time": "2022-07-21T00:45:51.828704",
     "status": "completed"
    },
    "tags": []
   },
   "outputs": [],
   "source": [
    "#hide\n",
    "# cols.insert(0, cols.pop())"
   ]
  },
  {
   "cell_type": "code",
   "execution_count": 30,
   "id": "executed-adoption",
   "metadata": {
    "execution": {
     "iopub.execute_input": "2022-07-21T00:45:51.929604Z",
     "iopub.status.busy": "2022-07-21T00:45:51.929010Z",
     "iopub.status.idle": "2022-07-21T00:45:51.931338Z",
     "shell.execute_reply": "2022-07-21T00:45:51.931921Z"
    },
    "papermill": {
     "duration": 0.03643,
     "end_time": "2022-07-21T00:45:51.932053",
     "exception": false,
     "start_time": "2022-07-21T00:45:51.895623",
     "status": "completed"
    },
    "tags": []
   },
   "outputs": [],
   "source": [
    "#hide\n",
    "# g = g[cols]"
   ]
  },
  {
   "cell_type": "code",
   "execution_count": 31,
   "id": "subject-dublin",
   "metadata": {
    "execution": {
     "iopub.execute_input": "2022-07-21T00:45:51.997123Z",
     "iopub.status.busy": "2022-07-21T00:45:51.996438Z",
     "iopub.status.idle": "2022-07-21T00:45:51.998911Z",
     "shell.execute_reply": "2022-07-21T00:45:51.998431Z"
    },
    "papermill": {
     "duration": 0.0366,
     "end_time": "2022-07-21T00:45:51.999024",
     "exception": false,
     "start_time": "2022-07-21T00:45:51.962424",
     "status": "completed"
    },
    "tags": []
   },
   "outputs": [],
   "source": [
    "#hide\n",
    "# g['continent'] = g['continent'].map(mapping['map.continent'])"
   ]
  },
  {
   "cell_type": "code",
   "execution_count": 32,
   "id": "freelance-scout",
   "metadata": {
    "execution": {
     "iopub.execute_input": "2022-07-21T00:45:52.063894Z",
     "iopub.status.busy": "2022-07-21T00:45:52.063157Z",
     "iopub.status.idle": "2022-07-21T00:45:52.065831Z",
     "shell.execute_reply": "2022-07-21T00:45:52.065279Z"
    },
    "papermill": {
     "duration": 0.036496,
     "end_time": "2022-07-21T00:45:52.065963",
     "exception": false,
     "start_time": "2022-07-21T00:45:52.029467",
     "status": "completed"
    },
    "tags": []
   },
   "outputs": [],
   "source": [
    "#hide\n",
    "# g.head()"
   ]
  },
  {
   "cell_type": "code",
   "execution_count": 33,
   "id": "limited-engine",
   "metadata": {
    "execution": {
     "iopub.execute_input": "2022-07-21T00:45:52.131018Z",
     "iopub.status.busy": "2022-07-21T00:45:52.130415Z",
     "iopub.status.idle": "2022-07-21T00:45:52.134040Z",
     "shell.execute_reply": "2022-07-21T00:45:52.134468Z"
    },
    "papermill": {
     "duration": 0.037931,
     "end_time": "2022-07-21T00:45:52.134597",
     "exception": false,
     "start_time": "2022-07-21T00:45:52.096666",
     "status": "completed"
    },
    "tags": []
   },
   "outputs": [],
   "source": [
    "# hide\n",
    "# g['date'] = g['date'].astype('datetime64[ns]')"
   ]
  },
  {
   "cell_type": "code",
   "execution_count": 34,
   "id": "sophisticated-supervisor",
   "metadata": {
    "execution": {
     "iopub.execute_input": "2022-07-21T00:45:52.199763Z",
     "iopub.status.busy": "2022-07-21T00:45:52.199021Z",
     "iopub.status.idle": "2022-07-21T00:45:52.201933Z",
     "shell.execute_reply": "2022-07-21T00:45:52.201390Z"
    },
    "papermill": {
     "duration": 0.036968,
     "end_time": "2022-07-21T00:45:52.202066",
     "exception": false,
     "start_time": "2022-07-21T00:45:52.165098",
     "status": "completed"
    },
    "tags": []
   },
   "outputs": [],
   "source": [
    "#hide\n",
    "# g['date'] = g.date.dt.dayofyear"
   ]
  },
  {
   "cell_type": "code",
   "execution_count": 35,
   "id": "inside-dubai",
   "metadata": {
    "execution": {
     "iopub.execute_input": "2022-07-21T00:45:52.266862Z",
     "iopub.status.busy": "2022-07-21T00:45:52.266144Z",
     "iopub.status.idle": "2022-07-21T00:45:52.268864Z",
     "shell.execute_reply": "2022-07-21T00:45:52.268347Z"
    },
    "papermill": {
     "duration": 0.03673,
     "end_time": "2022-07-21T00:45:52.268997",
     "exception": false,
     "start_time": "2022-07-21T00:45:52.232267",
     "status": "completed"
    },
    "tags": []
   },
   "outputs": [],
   "source": [
    "#hide\n",
    "# g = g.rename(columns= {'continent':'group','country':'name','cases':'value'})"
   ]
  },
  {
   "cell_type": "code",
   "execution_count": 36,
   "id": "fleet-motorcycle",
   "metadata": {
    "execution": {
     "iopub.execute_input": "2022-07-21T00:45:52.334575Z",
     "iopub.status.busy": "2022-07-21T00:45:52.333953Z",
     "iopub.status.idle": "2022-07-21T00:45:52.336476Z",
     "shell.execute_reply": "2022-07-21T00:45:52.335891Z"
    },
    "papermill": {
     "duration": 0.0367,
     "end_time": "2022-07-21T00:45:52.336589",
     "exception": false,
     "start_time": "2022-07-21T00:45:52.299889",
     "status": "completed"
    },
    "tags": []
   },
   "outputs": [],
   "source": [
    "#hide\n",
    "# cols = ['name','group','day','value']"
   ]
  },
  {
   "cell_type": "code",
   "execution_count": 37,
   "id": "continued-sleeping",
   "metadata": {
    "execution": {
     "iopub.execute_input": "2022-07-21T00:45:52.404358Z",
     "iopub.status.busy": "2022-07-21T00:45:52.403615Z",
     "iopub.status.idle": "2022-07-21T00:45:52.406135Z",
     "shell.execute_reply": "2022-07-21T00:45:52.405630Z"
    },
    "papermill": {
     "duration": 0.036361,
     "end_time": "2022-07-21T00:45:52.406248",
     "exception": false,
     "start_time": "2022-07-21T00:45:52.369887",
     "status": "completed"
    },
    "tags": []
   },
   "outputs": [],
   "source": [
    "#hide\n",
    "# g.rename(columns= {'date':'day'},inplace = True)"
   ]
  },
  {
   "cell_type": "code",
   "execution_count": 38,
   "id": "major-fight",
   "metadata": {
    "execution": {
     "iopub.execute_input": "2022-07-21T00:45:52.470933Z",
     "iopub.status.busy": "2022-07-21T00:45:52.470247Z",
     "iopub.status.idle": "2022-07-21T00:45:52.472467Z",
     "shell.execute_reply": "2022-07-21T00:45:52.472955Z"
    },
    "papermill": {
     "duration": 0.036345,
     "end_time": "2022-07-21T00:45:52.473102",
     "exception": false,
     "start_time": "2022-07-21T00:45:52.436757",
     "status": "completed"
    },
    "tags": []
   },
   "outputs": [],
   "source": [
    "#hide\n",
    "# g = g[cols]"
   ]
  },
  {
   "cell_type": "code",
   "execution_count": 39,
   "id": "structured-mobile",
   "metadata": {
    "execution": {
     "iopub.execute_input": "2022-07-21T00:45:52.538743Z",
     "iopub.status.busy": "2022-07-21T00:45:52.538117Z",
     "iopub.status.idle": "2022-07-21T00:45:52.540814Z",
     "shell.execute_reply": "2022-07-21T00:45:52.540333Z"
    },
    "papermill": {
     "duration": 0.03671,
     "end_time": "2022-07-21T00:45:52.540929",
     "exception": false,
     "start_time": "2022-07-21T00:45:52.504219",
     "status": "completed"
    },
    "tags": []
   },
   "outputs": [],
   "source": [
    "# #hide\n",
    "# g = g[g.group.notna()]"
   ]
  },
  {
   "cell_type": "code",
   "execution_count": 40,
   "id": "determined-closing",
   "metadata": {
    "execution": {
     "iopub.execute_input": "2022-07-21T00:45:52.606102Z",
     "iopub.status.busy": "2022-07-21T00:45:52.605392Z",
     "iopub.status.idle": "2022-07-21T00:45:52.608102Z",
     "shell.execute_reply": "2022-07-21T00:45:52.607396Z"
    },
    "papermill": {
     "duration": 0.036885,
     "end_time": "2022-07-21T00:45:52.608231",
     "exception": false,
     "start_time": "2022-07-21T00:45:52.571346",
     "status": "completed"
    },
    "tags": []
   },
   "outputs": [],
   "source": [
    "# #hide\n",
    "# colors = dict(zip(\n",
    "#     [\"Oceania\", \"Europe\", \"Asia\", \"South America\", \"Middle East\", \"North America\", \"Africa\"],\n",
    "#     [\"#adb0ff\", \"#ffb3ff\", \"#90d595\", \"#e48381\", \"#aafbff\", \"#f7bb5f\", \"#eafb50\"]\n",
    "# ))\n",
    "# group_lk = g.set_index('name')['group'].to_dict()"
   ]
  },
  {
   "cell_type": "code",
   "execution_count": null,
   "id": "gross-drinking",
   "metadata": {
    "papermill": {
     "duration": 0.030344,
     "end_time": "2022-07-21T00:45:52.670444",
     "exception": false,
     "start_time": "2022-07-21T00:45:52.640100",
     "status": "completed"
    },
    "tags": []
   },
   "outputs": [],
   "source": []
  },
  {
   "cell_type": "code",
   "execution_count": 41,
   "id": "subject-macintosh",
   "metadata": {
    "execution": {
     "iopub.execute_input": "2022-07-21T00:45:52.736387Z",
     "iopub.status.busy": "2022-07-21T00:45:52.735631Z",
     "iopub.status.idle": "2022-07-21T00:45:52.737470Z",
     "shell.execute_reply": "2022-07-21T00:45:52.738017Z"
    },
    "papermill": {
     "duration": 0.037226,
     "end_time": "2022-07-21T00:45:52.738169",
     "exception": false,
     "start_time": "2022-07-21T00:45:52.700943",
     "status": "completed"
    },
    "tags": []
   },
   "outputs": [],
   "source": [
    "# #hide\n",
    "# fig, ax = plt.subplots(figsize=(15, 8))\n",
    "\n",
    "# def draw_barchart(current_day):\n",
    "#     dff = g[g['day'].eq(current_day)].sort_values(by='value', ascending=True).tail(10)\n",
    "#     ax.clear()\n",
    "#     ax.barh(dff['name'], dff['value'], color=[colors[group_lk[x]] for x in dff['name']])\n",
    "#     dx = dff['value'].max() / 200\n",
    "    \n",
    "#     for i, (value, name) in enumerate(zip(dff['value'], dff['name'])):\n",
    "#         ax.text(value-dx, i,     name,           size=14, weight=600, ha='right', va='bottom')\n",
    "#         ax.text(value-dx, i-.25, group_lk[name], size=10, color='#444444', ha='right', va='baseline')\n",
    "#         ax.text(value+dx, i,     f'{value:,.0f}',  size=14, ha='left',  va='center')\n",
    "#     ax.text(1, 0.4, current_day, transform=ax.transAxes, color='#777777', size=46, ha='right', weight=800)\n",
    "#     ax.text(0, 1.06, 'Population (thousands)', transform=ax.transAxes, size=12, color='#777777')\n",
    "#     ax.xaxis.set_major_formatter(ticker.StrMethodFormatter('{x:,.0f}'))\n",
    "#     ax.xaxis.set_ticks_position('top')\n",
    "#     ax.tick_params(axis='x', colors='#777777', labelsize=12)\n",
    "#     ax.set_yticks([])\n",
    "#     ax.margins(0, 0.01)\n",
    "#     ax.grid(which='major', axis='x', linestyle='-')\n",
    "#     ax.set_axisbelow(True)\n",
    "    \n",
    "#     ax.text(0, 1.15, 'Coronavirus',\n",
    "#             transform=ax.transAxes, size=24, weight=600, ha='left', va='top')\n",
    "# #     ax.text(1, 0, 'by @pratapvardhan; credit @jburnmurdoch', transform=ax.transAxes, color='#777777', ha='right',\n",
    "# #             bbox=dict(facecolor='white', alpha=0.8, edgecolor='white'))\n",
    "#     plt.box(False)"
   ]
  },
  {
   "cell_type": "code",
   "execution_count": 42,
   "id": "sexual-wages",
   "metadata": {
    "execution": {
     "iopub.execute_input": "2022-07-21T00:45:52.804040Z",
     "iopub.status.busy": "2022-07-21T00:45:52.803352Z",
     "iopub.status.idle": "2022-07-21T00:45:52.805912Z",
     "shell.execute_reply": "2022-07-21T00:45:52.805430Z"
    },
    "papermill": {
     "duration": 0.036746,
     "end_time": "2022-07-21T00:45:52.806027",
     "exception": false,
     "start_time": "2022-07-21T00:45:52.769281",
     "status": "completed"
    },
    "tags": []
   },
   "outputs": [],
   "source": [
    "# #hide_input\n",
    "# fig, ax = plt.subplots(figsize=(15, 8))\n",
    "# animator = animation.FuncAnimation(fig, draw_barchart, frames=range(g.day.values.min(), g.day.values.max()))\n",
    "# HTML(animator.to_jshtml())\n",
    "# # or use animator.to_html5_video() or animator.save() "
   ]
  },
  {
   "cell_type": "code",
   "execution_count": null,
   "id": "australian-container",
   "metadata": {
    "papermill": {
     "duration": 0.030187,
     "end_time": "2022-07-21T00:45:52.866652",
     "exception": false,
     "start_time": "2022-07-21T00:45:52.836465",
     "status": "completed"
    },
    "tags": []
   },
   "outputs": [],
   "source": []
  },
  {
   "cell_type": "code",
   "execution_count": null,
   "id": "mediterranean-pontiac",
   "metadata": {
    "papermill": {
     "duration": 0.030137,
     "end_time": "2022-07-21T00:45:52.927045",
     "exception": false,
     "start_time": "2022-07-21T00:45:52.896908",
     "status": "completed"
    },
    "tags": []
   },
   "outputs": [],
   "source": []
  },
  {
   "cell_type": "code",
   "execution_count": null,
   "id": "aging-legislature",
   "metadata": {
    "papermill": {
     "duration": 0.030221,
     "end_time": "2022-07-21T00:45:52.987731",
     "exception": false,
     "start_time": "2022-07-21T00:45:52.957510",
     "status": "completed"
    },
    "tags": []
   },
   "outputs": [],
   "source": []
  }
 ],
 "metadata": {
  "kernelspec": {
   "display_name": "Python 3",
   "language": "python",
   "name": "python3"
  },
  "language_info": {
   "codemirror_mode": {
    "name": "ipython",
    "version": 3
   },
   "file_extension": ".py",
   "mimetype": "text/x-python",
   "name": "python",
   "nbconvert_exporter": "python",
   "pygments_lexer": "ipython3",
   "version": "3.6.15"
  },
  "papermill": {
   "duration": 6.167347,
   "end_time": "2022-07-21T00:45:53.337119",
   "environment_variables": {},
   "exception": null,
   "input_path": "2020-03-21-covid19exp.ipynb",
   "output_path": "2020-03-21-covid19exp.ipynb",
   "parameters": {},
   "start_time": "2022-07-21T00:45:47.169772",
   "version": "2.0.0"
  }
 },
 "nbformat": 4,
 "nbformat_minor": 5
}