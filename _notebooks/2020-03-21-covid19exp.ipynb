{
 "cells": [
  {
   "cell_type": "markdown",
   "id": "muslim-click",
   "metadata": {
    "papermill": {
     "duration": 0.035008,
     "end_time": "2022-11-16T00:45:57.129669",
     "exception": false,
     "start_time": "2022-11-16T00:45:57.094661",
     "status": "completed"
    },
    "tags": []
   },
   "source": [
    "# COVID-19 Case Race\n",
    "> A race chart to see rising cases around the world\n",
    "\n",
    "- author: Hargun Oberoi\n",
    "- image: images/covid-overview.png\n",
    "- hide: false\n",
    "- badges: false"
   ]
  },
  {
   "cell_type": "code",
   "execution_count": 1,
   "id": "proof-material",
   "metadata": {
    "execution": {
     "iopub.execute_input": "2022-11-16T00:45:57.198160Z",
     "iopub.status.busy": "2022-11-16T00:45:57.197600Z",
     "iopub.status.idle": "2022-11-16T00:45:57.505411Z",
     "shell.execute_reply": "2022-11-16T00:45:57.504493Z"
    },
    "papermill": {
     "duration": 0.345276,
     "end_time": "2022-11-16T00:45:57.505545",
     "exception": false,
     "start_time": "2022-11-16T00:45:57.160269",
     "status": "completed"
    },
    "tags": []
   },
   "outputs": [],
   "source": [
    "#hide\n",
    "import numpy as np\n",
    "import pandas as pd\n",
    "from jinja2 import Template\n",
    "from IPython.display import HTML"
   ]
  },
  {
   "cell_type": "code",
   "execution_count": 2,
   "id": "developed-terminology",
   "metadata": {
    "execution": {
     "iopub.execute_input": "2022-11-16T00:45:57.569960Z",
     "iopub.status.busy": "2022-11-16T00:45:57.569398Z",
     "iopub.status.idle": "2022-11-16T00:45:57.571606Z",
     "shell.execute_reply": "2022-11-16T00:45:57.572060Z"
    },
    "papermill": {
     "duration": 0.036461,
     "end_time": "2022-11-16T00:45:57.572175",
     "exception": false,
     "start_time": "2022-11-16T00:45:57.535714",
     "status": "completed"
    },
    "tags": []
   },
   "outputs": [],
   "source": [
    "#hide\n",
    "\n",
    "# FETCH\n",
    "base_url = 'https://raw.githubusercontent.com/pratapvardhan/notebooks/master/covid19/'\n",
    "paths = {\n",
    "    'mapping': base_url + 'mapping_countries.csv',\n",
    "    'overview': base_url + 'overview.tpl'\n",
    "}"
   ]
  },
  {
   "cell_type": "code",
   "execution_count": 3,
   "id": "dynamic-saver",
   "metadata": {
    "execution": {
     "iopub.execute_input": "2022-11-16T00:45:57.639496Z",
     "iopub.status.busy": "2022-11-16T00:45:57.638688Z",
     "iopub.status.idle": "2022-11-16T00:45:57.642363Z",
     "shell.execute_reply": "2022-11-16T00:45:57.642805Z"
    },
    "papermill": {
     "duration": 0.041099,
     "end_time": "2022-11-16T00:45:57.642912",
     "exception": false,
     "start_time": "2022-11-16T00:45:57.601813",
     "status": "completed"
    },
    "tags": []
   },
   "outputs": [
    {
     "data": {
      "text/plain": [
       "'https://raw.githubusercontent.com/pratapvardhan/notebooks/master/covid19/mapping_countries.csv'"
      ]
     },
     "execution_count": 3,
     "metadata": {},
     "output_type": "execute_result"
    }
   ],
   "source": [
    "#hide\n",
    "paths['mapping']"
   ]
  },
  {
   "cell_type": "code",
   "execution_count": 4,
   "id": "urban-software",
   "metadata": {
    "execution": {
     "iopub.execute_input": "2022-11-16T00:45:57.708411Z",
     "iopub.status.busy": "2022-11-16T00:45:57.707827Z",
     "iopub.status.idle": "2022-11-16T00:45:57.710456Z",
     "shell.execute_reply": "2022-11-16T00:45:57.709999Z"
    },
    "papermill": {
     "duration": 0.037438,
     "end_time": "2022-11-16T00:45:57.710558",
     "exception": false,
     "start_time": "2022-11-16T00:45:57.673120",
     "status": "completed"
    },
    "tags": []
   },
   "outputs": [],
   "source": [
    "#hide\n",
    "def get_mappings(url):\n",
    "    df = pd.read_csv(url)\n",
    "    return {\n",
    "        'df': df,\n",
    "        'replace.country': dict(df.dropna(subset=['Name']).set_index('Country')['Name']),\n",
    "        'map.continent': dict(df.set_index('Name')['Continent'])\n",
    "    }"
   ]
  },
  {
   "cell_type": "code",
   "execution_count": 5,
   "id": "intimate-machinery",
   "metadata": {
    "execution": {
     "iopub.execute_input": "2022-11-16T00:45:57.776259Z",
     "iopub.status.busy": "2022-11-16T00:45:57.775696Z",
     "iopub.status.idle": "2022-11-16T00:45:57.845492Z",
     "shell.execute_reply": "2022-11-16T00:45:57.844995Z"
    },
    "papermill": {
     "duration": 0.104784,
     "end_time": "2022-11-16T00:45:57.845601",
     "exception": false,
     "start_time": "2022-11-16T00:45:57.740817",
     "status": "completed"
    },
    "tags": []
   },
   "outputs": [],
   "source": [
    "#hide\n",
    "mapping = get_mappings(paths['mapping'])"
   ]
  },
  {
   "cell_type": "code",
   "execution_count": 6,
   "id": "certified-tactics",
   "metadata": {
    "execution": {
     "iopub.execute_input": "2022-11-16T00:45:57.911660Z",
     "iopub.status.busy": "2022-11-16T00:45:57.911079Z",
     "iopub.status.idle": "2022-11-16T00:45:57.913523Z",
     "shell.execute_reply": "2022-11-16T00:45:57.912976Z"
    },
    "papermill": {
     "duration": 0.037378,
     "end_time": "2022-11-16T00:45:57.913623",
     "exception": false,
     "start_time": "2022-11-16T00:45:57.876245",
     "status": "completed"
    },
    "tags": []
   },
   "outputs": [],
   "source": [
    "#hide\n",
    "def get_template(path):\n",
    "    from urllib.parse import urlparse\n",
    "    if bool(urlparse(path).netloc):\n",
    "        from urllib.request import urlopen\n",
    "        return urlopen(path).read().decode('utf8')\n",
    "    return open(path).read()"
   ]
  },
  {
   "cell_type": "code",
   "execution_count": 7,
   "id": "realistic-blast",
   "metadata": {
    "execution": {
     "iopub.execute_input": "2022-11-16T00:45:57.978274Z",
     "iopub.status.busy": "2022-11-16T00:45:57.977707Z",
     "iopub.status.idle": "2022-11-16T00:45:57.980182Z",
     "shell.execute_reply": "2022-11-16T00:45:57.979739Z"
    },
    "papermill": {
     "duration": 0.036412,
     "end_time": "2022-11-16T00:45:57.980277",
     "exception": false,
     "start_time": "2022-11-16T00:45:57.943865",
     "status": "completed"
    },
    "tags": []
   },
   "outputs": [],
   "source": [
    "#hide\n",
    "def get_frame(name):\n",
    "    url = (\n",
    "        'https://raw.githubusercontent.com/CSSEGISandData/COVID-19/master/csse_covid_19_data/'\n",
    "        f'csse_covid_19_time_series/time_series_covid19_{name}_global.csv')\n",
    "    df = pd.read_csv(url)\n",
    "    # rename countries\n",
    "    df['Country/Region'] = df['Country/Region'].replace(mapping['replace.country'])\n",
    "    return df"
   ]
  },
  {
   "cell_type": "code",
   "execution_count": 8,
   "id": "affiliated-characterization",
   "metadata": {
    "execution": {
     "iopub.execute_input": "2022-11-16T00:45:58.045439Z",
     "iopub.status.busy": "2022-11-16T00:45:58.044874Z",
     "iopub.status.idle": "2022-11-16T00:45:58.047227Z",
     "shell.execute_reply": "2022-11-16T00:45:58.047667Z"
    },
    "papermill": {
     "duration": 0.037404,
     "end_time": "2022-11-16T00:45:58.047772",
     "exception": false,
     "start_time": "2022-11-16T00:45:58.010368",
     "status": "completed"
    },
    "tags": []
   },
   "outputs": [],
   "source": [
    "#hide\n",
    "def get_dates(df):\n",
    "    dt_cols = df.columns[~df.columns.isin(['Province/State', 'Country/Region', 'Lat', 'Long'])]\n",
    "    LAST_DATE_I = -1\n",
    "    # sometimes last column may be empty, then go backwards\n",
    "    for i in range(-1, -len(dt_cols), -1):\n",
    "        if not df[dt_cols[i]].fillna(0).eq(0).all():\n",
    "            LAST_DATE_I = i\n",
    "            break\n",
    "    return LAST_DATE_I, dt_cols"
   ]
  },
  {
   "cell_type": "code",
   "execution_count": 9,
   "id": "recent-optimization",
   "metadata": {
    "execution": {
     "iopub.execute_input": "2022-11-16T00:45:58.111560Z",
     "iopub.status.busy": "2022-11-16T00:45:58.111002Z",
     "iopub.status.idle": "2022-11-16T00:45:58.588973Z",
     "shell.execute_reply": "2022-11-16T00:45:58.588449Z"
    },
    "papermill": {
     "duration": 0.511395,
     "end_time": "2022-11-16T00:45:58.589092",
     "exception": false,
     "start_time": "2022-11-16T00:45:58.077697",
     "status": "completed"
    },
    "tags": []
   },
   "outputs": [],
   "source": [
    "#hide\n",
    "COL_REGION = 'Country/Region'\n",
    "# Confirmed, Recovered, Deaths\n",
    "df = get_frame('confirmed')\n",
    "# dft_: timeseries, dfc_: today country agg\n",
    "dft_cases = df\n",
    "dft_deaths = get_frame('deaths')\n",
    "dft_recovered = get_frame('recovered')\n",
    "LAST_DATE_I, dt_cols = get_dates(df)"
   ]
  },
  {
   "cell_type": "code",
   "execution_count": 10,
   "id": "absolute-copper",
   "metadata": {
    "execution": {
     "iopub.execute_input": "2022-11-16T00:45:58.654782Z",
     "iopub.status.busy": "2022-11-16T00:45:58.654201Z",
     "iopub.status.idle": "2022-11-16T00:45:58.656664Z",
     "shell.execute_reply": "2022-11-16T00:45:58.656114Z"
    },
    "papermill": {
     "duration": 0.037302,
     "end_time": "2022-11-16T00:45:58.656767",
     "exception": false,
     "start_time": "2022-11-16T00:45:58.619465",
     "status": "completed"
    },
    "tags": []
   },
   "outputs": [],
   "source": [
    "#hide\n",
    "LAST_DATE_I, dt_cols = get_dates(df)\n",
    "dt_today =dt_cols[LAST_DATE_I]\n",
    "# dt_5day = dt_cols[LAST_DATE_I - 5]\n",
    "dt_yday = dt_cols[LAST_DATE_I - 1]"
   ]
  },
  {
   "cell_type": "code",
   "execution_count": 11,
   "id": "restricted-sheriff",
   "metadata": {
    "execution": {
     "iopub.execute_input": "2022-11-16T00:45:58.722007Z",
     "iopub.status.busy": "2022-11-16T00:45:58.721458Z",
     "iopub.status.idle": "2022-11-16T00:45:58.728613Z",
     "shell.execute_reply": "2022-11-16T00:45:58.729045Z"
    },
    "papermill": {
     "duration": 0.042454,
     "end_time": "2022-11-16T00:45:58.729162",
     "exception": false,
     "start_time": "2022-11-16T00:45:58.686708",
     "status": "completed"
    },
    "tags": []
   },
   "outputs": [],
   "source": [
    "#hide\n",
    "dfc_cases = dft_cases.groupby(COL_REGION)[dt_today].sum()\n",
    "dfc_deaths = dft_deaths.groupby(COL_REGION)[dt_today].sum()\n",
    "# dfp_cases = dft_cases.groupby(COL_REGION)[dt_5day].sum()\n",
    "# dfp_deaths = dft_deaths.groupby(COL_REGION)[dt_5day].sum()\n",
    "dfp_cases = dft_cases.groupby(COL_REGION)[dt_yday].sum()\n",
    "dfp_deaths = dft_deaths.groupby(COL_REGION)[dt_yday].sum()"
   ]
  },
  {
   "cell_type": "code",
   "execution_count": 12,
   "id": "deluxe-hepatitis",
   "metadata": {
    "execution": {
     "iopub.execute_input": "2022-11-16T00:45:58.794012Z",
     "iopub.status.busy": "2022-11-16T00:45:58.793450Z",
     "iopub.status.idle": "2022-11-16T00:45:58.798689Z",
     "shell.execute_reply": "2022-11-16T00:45:58.798253Z"
    },
    "papermill": {
     "duration": 0.039427,
     "end_time": "2022-11-16T00:45:58.798786",
     "exception": false,
     "start_time": "2022-11-16T00:45:58.759359",
     "status": "completed"
    },
    "tags": []
   },
   "outputs": [],
   "source": [
    "#hide\n",
    "df_table = (pd.DataFrame(dict(Cases = dfc_cases, Deaths = dfc_deaths, PCases = dfp_cases, PDeaths = dfp_deaths))\n",
    "            .sort_values(by = ['Cases','Deaths'], ascending = [False, False])\n",
    "            .reset_index())"
   ]
  },
  {
   "cell_type": "code",
   "execution_count": 13,
   "id": "educational-chancellor",
   "metadata": {
    "execution": {
     "iopub.execute_input": "2022-11-16T00:45:58.876053Z",
     "iopub.status.busy": "2022-11-16T00:45:58.875492Z",
     "iopub.status.idle": "2022-11-16T00:45:58.882891Z",
     "shell.execute_reply": "2022-11-16T00:45:58.883297Z"
    },
    "papermill": {
     "duration": 0.053477,
     "end_time": "2022-11-16T00:45:58.883412",
     "exception": false,
     "start_time": "2022-11-16T00:45:58.829935",
     "status": "completed"
    },
    "tags": []
   },
   "outputs": [
    {
     "data": {
      "text/html": [
       "<div>\n",
       "<style scoped>\n",
       "    .dataframe tbody tr th:only-of-type {\n",
       "        vertical-align: middle;\n",
       "    }\n",
       "\n",
       "    .dataframe tbody tr th {\n",
       "        vertical-align: top;\n",
       "    }\n",
       "\n",
       "    .dataframe thead th {\n",
       "        text-align: right;\n",
       "    }\n",
       "</style>\n",
       "<table border=\"1\" class=\"dataframe\">\n",
       "  <thead>\n",
       "    <tr style=\"text-align: right;\">\n",
       "      <th></th>\n",
       "      <th>Country/Region</th>\n",
       "      <th>Cases</th>\n",
       "      <th>Deaths</th>\n",
       "      <th>PCases</th>\n",
       "      <th>PDeaths</th>\n",
       "      <th>Cases (+)</th>\n",
       "      <th>Deaths (+)</th>\n",
       "      <th>Fatality Rate</th>\n",
       "      <th>Continent</th>\n",
       "    </tr>\n",
       "  </thead>\n",
       "  <tbody>\n",
       "    <tr>\n",
       "      <th>0</th>\n",
       "      <td>US</td>\n",
       "      <td>98045793</td>\n",
       "      <td>1074701</td>\n",
       "      <td>97997389</td>\n",
       "      <td>1074485</td>\n",
       "      <td>48404</td>\n",
       "      <td>216</td>\n",
       "      <td>1.10</td>\n",
       "      <td>North America</td>\n",
       "    </tr>\n",
       "    <tr>\n",
       "      <th>1</th>\n",
       "      <td>India</td>\n",
       "      <td>44667390</td>\n",
       "      <td>530533</td>\n",
       "      <td>44666924</td>\n",
       "      <td>530532</td>\n",
       "      <td>466</td>\n",
       "      <td>1</td>\n",
       "      <td>1.19</td>\n",
       "      <td>Asia</td>\n",
       "    </tr>\n",
       "    <tr>\n",
       "      <th>2</th>\n",
       "      <td>France</td>\n",
       "      <td>37354169</td>\n",
       "      <td>158861</td>\n",
       "      <td>37288432</td>\n",
       "      <td>158711</td>\n",
       "      <td>65737</td>\n",
       "      <td>150</td>\n",
       "      <td>0.43</td>\n",
       "      <td>Europe</td>\n",
       "    </tr>\n",
       "    <tr>\n",
       "      <th>3</th>\n",
       "      <td>Germany</td>\n",
       "      <td>36080574</td>\n",
       "      <td>155807</td>\n",
       "      <td>36033395</td>\n",
       "      <td>155588</td>\n",
       "      <td>47179</td>\n",
       "      <td>219</td>\n",
       "      <td>0.43</td>\n",
       "      <td>Europe</td>\n",
       "    </tr>\n",
       "    <tr>\n",
       "      <th>4</th>\n",
       "      <td>Brazil</td>\n",
       "      <td>34908198</td>\n",
       "      <td>688656</td>\n",
       "      <td>34908198</td>\n",
       "      <td>688656</td>\n",
       "      <td>0</td>\n",
       "      <td>0</td>\n",
       "      <td>1.97</td>\n",
       "      <td>South America</td>\n",
       "    </tr>\n",
       "  </tbody>\n",
       "</table>\n",
       "</div>"
      ],
      "text/plain": [
       "  Country/Region     Cases   Deaths    PCases  PDeaths  Cases (+)  Deaths (+)  \\\n",
       "0             US  98045793  1074701  97997389  1074485      48404         216   \n",
       "1          India  44667390   530533  44666924   530532        466           1   \n",
       "2         France  37354169   158861  37288432   158711      65737         150   \n",
       "3        Germany  36080574   155807  36033395   155588      47179         219   \n",
       "4         Brazil  34908198   688656  34908198   688656          0           0   \n",
       "\n",
       "   Fatality Rate      Continent  \n",
       "0           1.10  North America  \n",
       "1           1.19           Asia  \n",
       "2           0.43         Europe  \n",
       "3           0.43         Europe  \n",
       "4           1.97  South America  "
      ]
     },
     "execution_count": 13,
     "metadata": {},
     "output_type": "execute_result"
    }
   ],
   "source": [
    "#hide\n",
    "for c in 'Cases, Deaths'.split(', '):\n",
    "    df_table[f'{c} (+)'] = (df_table[c] - df_table[f'P{c}']).clip(0)\n",
    "    #Clip ça veut dire, les chiffres negatif sont interdit\n",
    "df_table['Fatality Rate'] = (100* df_table['Deaths']/ df_table['Cases']).round(2)\n",
    "df_table['Continent'] = df_table['Country/Region'].map(mapping['map.continent'])\n",
    "df_table.head(5)"
   ]
  },
  {
   "cell_type": "code",
   "execution_count": 14,
   "id": "aboriginal-bulgaria",
   "metadata": {
    "execution": {
     "iopub.execute_input": "2022-11-16T00:45:58.949278Z",
     "iopub.status.busy": "2022-11-16T00:45:58.948715Z",
     "iopub.status.idle": "2022-11-16T00:45:58.951406Z",
     "shell.execute_reply": "2022-11-16T00:45:58.950976Z"
    },
    "papermill": {
     "duration": 0.037388,
     "end_time": "2022-11-16T00:45:58.951499",
     "exception": false,
     "start_time": "2022-11-16T00:45:58.914111",
     "status": "completed"
    },
    "tags": []
   },
   "outputs": [],
   "source": [
    "#hide\n",
    "#delete problematic countries from table\n",
    "df_table = df_table[~df_table['Country/Region'].isin(['Cape Verde', 'Cruise Ship', 'Kosovo'])]"
   ]
  },
  {
   "cell_type": "code",
   "execution_count": 15,
   "id": "fantastic-effect",
   "metadata": {
    "execution": {
     "iopub.execute_input": "2022-11-16T00:45:59.055837Z",
     "iopub.status.busy": "2022-11-16T00:45:59.054639Z",
     "iopub.status.idle": "2022-11-16T00:45:59.076255Z",
     "shell.execute_reply": "2022-11-16T00:45:59.076714Z"
    },
    "papermill": {
     "duration": 0.092863,
     "end_time": "2022-11-16T00:45:59.076840",
     "exception": false,
     "start_time": "2022-11-16T00:45:58.983977",
     "status": "completed"
    },
    "tags": []
   },
   "outputs": [
    {
     "data": {
      "text/html": [
       "<div>\n",
       "<style scoped>\n",
       "    .dataframe tbody tr th:only-of-type {\n",
       "        vertical-align: middle;\n",
       "    }\n",
       "\n",
       "    .dataframe tbody tr th {\n",
       "        vertical-align: top;\n",
       "    }\n",
       "\n",
       "    .dataframe thead th {\n",
       "        text-align: right;\n",
       "    }\n",
       "</style>\n",
       "<table border=\"1\" class=\"dataframe\">\n",
       "  <thead>\n",
       "    <tr style=\"text-align: right;\">\n",
       "      <th></th>\n",
       "      <th>Country/Region</th>\n",
       "      <th>Cases</th>\n",
       "      <th>Deaths</th>\n",
       "      <th>PCases</th>\n",
       "      <th>PDeaths</th>\n",
       "      <th>Cases (+)</th>\n",
       "      <th>Deaths (+)</th>\n",
       "      <th>Fatality Rate</th>\n",
       "      <th>Continent</th>\n",
       "    </tr>\n",
       "  </thead>\n",
       "  <tbody>\n",
       "    <tr>\n",
       "      <th>0</th>\n",
       "      <td>US</td>\n",
       "      <td>98045793</td>\n",
       "      <td>1074701</td>\n",
       "      <td>97997389</td>\n",
       "      <td>1074485</td>\n",
       "      <td>48404</td>\n",
       "      <td>216</td>\n",
       "      <td>1.1</td>\n",
       "      <td>North America</td>\n",
       "    </tr>\n",
       "    <tr>\n",
       "      <th>1</th>\n",
       "      <td>India</td>\n",
       "      <td>44667390</td>\n",
       "      <td>530533</td>\n",
       "      <td>44666924</td>\n",
       "      <td>530532</td>\n",
       "      <td>466</td>\n",
       "      <td>1</td>\n",
       "      <td>1.2</td>\n",
       "      <td>Asia</td>\n",
       "    </tr>\n",
       "    <tr>\n",
       "      <th>2</th>\n",
       "      <td>France</td>\n",
       "      <td>37354169</td>\n",
       "      <td>158861</td>\n",
       "      <td>37288432</td>\n",
       "      <td>158711</td>\n",
       "      <td>65737</td>\n",
       "      <td>150</td>\n",
       "      <td>0.4</td>\n",
       "      <td>Europe</td>\n",
       "    </tr>\n",
       "    <tr>\n",
       "      <th>3</th>\n",
       "      <td>Germany</td>\n",
       "      <td>36080574</td>\n",
       "      <td>155807</td>\n",
       "      <td>36033395</td>\n",
       "      <td>155588</td>\n",
       "      <td>47179</td>\n",
       "      <td>219</td>\n",
       "      <td>0.4</td>\n",
       "      <td>Europe</td>\n",
       "    </tr>\n",
       "    <tr>\n",
       "      <th>4</th>\n",
       "      <td>Brazil</td>\n",
       "      <td>34908198</td>\n",
       "      <td>688656</td>\n",
       "      <td>34908198</td>\n",
       "      <td>688656</td>\n",
       "      <td>0</td>\n",
       "      <td>0</td>\n",
       "      <td>2.0</td>\n",
       "      <td>South America</td>\n",
       "    </tr>\n",
       "  </tbody>\n",
       "</table>\n",
       "</div>"
      ],
      "text/plain": [
       "  Country/Region     Cases   Deaths    PCases  PDeaths  Cases (+)  Deaths (+)  \\\n",
       "0             US  98045793  1074701  97997389  1074485      48404         216   \n",
       "1          India  44667390   530533  44666924   530532        466           1   \n",
       "2         France  37354169   158861  37288432   158711      65737         150   \n",
       "3        Germany  36080574   155807  36033395   155588      47179         219   \n",
       "4         Brazil  34908198   688656  34908198   688656          0           0   \n",
       "\n",
       "   Fatality Rate      Continent  \n",
       "0            1.1  North America  \n",
       "1            1.2           Asia  \n",
       "2            0.4         Europe  \n",
       "3            0.4         Europe  \n",
       "4            2.0  South America  "
      ]
     },
     "execution_count": 15,
     "metadata": {},
     "output_type": "execute_result"
    }
   ],
   "source": [
    "#hide\n",
    "df_table = (pd.DataFrame(dict(Cases=dfc_cases, Deaths=dfc_deaths, PCases=dfp_cases, PDeaths=dfp_deaths))\n",
    "             .sort_values(by=['Cases', 'Deaths'], ascending=[False, False])\n",
    "             .reset_index())\n",
    "df_table.rename(columns={'index': 'Country/Region'}, inplace=True)\n",
    "for c in 'Cases, Deaths'.split(', '):\n",
    "    df_table[f'{c} (+)'] = (df_table[c] - df_table[f'P{c}']).clip(0)  # DATA BUG\n",
    "df_table['Fatality Rate'] = (100 * df_table['Deaths'] / df_table['Cases']).round(1)\n",
    "df_table['Continent'] = df_table['Country/Region'].map(mapping['map.continent'])\n",
    "df_table.head(5)"
   ]
  },
  {
   "cell_type": "code",
   "execution_count": 16,
   "id": "fewer-occasion",
   "metadata": {
    "execution": {
     "iopub.execute_input": "2022-11-16T00:45:59.209485Z",
     "iopub.status.busy": "2022-11-16T00:45:59.208914Z",
     "iopub.status.idle": "2022-11-16T00:45:59.210417Z",
     "shell.execute_reply": "2022-11-16T00:45:59.210873Z"
    },
    "papermill": {
     "duration": 0.059485,
     "end_time": "2022-11-16T00:45:59.210990",
     "exception": false,
     "start_time": "2022-11-16T00:45:59.151505",
     "status": "completed"
    },
    "tags": []
   },
   "outputs": [],
   "source": [
    "#hide\n",
    "#delete problematic countries from table\n",
    "df_table = df_table[~df_table['Country/Region'].isin(['Cape Verde', 'Cruise Ship', 'Kosovo'])]"
   ]
  },
  {
   "cell_type": "code",
   "execution_count": 17,
   "id": "related-center",
   "metadata": {
    "execution": {
     "iopub.execute_input": "2022-11-16T00:45:59.320798Z",
     "iopub.status.busy": "2022-11-16T00:45:59.320174Z",
     "iopub.status.idle": "2022-11-16T00:45:59.322721Z",
     "shell.execute_reply": "2022-11-16T00:45:59.322270Z"
    },
    "papermill": {
     "duration": 0.067762,
     "end_time": "2022-11-16T00:45:59.322826",
     "exception": false,
     "start_time": "2022-11-16T00:45:59.255064",
     "status": "completed"
    },
    "tags": []
   },
   "outputs": [],
   "source": [
    "#hide\n",
    "metrics = [df_table.columns[index] for index in [1,2,5,6]]\n",
    "# s_china = df_table[df_table['Country/Region'].eq('China')][metrics].sum().add_prefix('China ')\n",
    "s_us = df_table[df_table['Country/Region'].eq('US')][metrics].sum().add_prefix('US ')\n",
    "s_eu = df_table[df_table['Continent'].eq('Europe')][metrics].sum().add_prefix('EU ')\n",
    "s_ind = df_table[df_table['Country/Region'].eq('India')][metrics].sum().add_prefix('India ')\n",
    "summary = {'updated': pd.to_datetime(dt_today), 'since': pd.to_datetime(dt_yday)}\n",
    "summary = {'updated': pd.to_datetime(dt_today), 'since': pd.to_datetime(dt_yday)}\n",
    "summary = {**summary, **df_table[metrics].sum(), **s_ind, **s_us, **s_eu}"
   ]
  },
  {
   "cell_type": "code",
   "execution_count": 18,
   "id": "engaging-syndrome",
   "metadata": {
    "execution": {
     "iopub.execute_input": "2022-11-16T00:45:59.407029Z",
     "iopub.status.busy": "2022-11-16T00:45:59.405486Z",
     "iopub.status.idle": "2022-11-16T00:45:59.426370Z",
     "shell.execute_reply": "2022-11-16T00:45:59.425829Z"
    },
    "papermill": {
     "duration": 0.071924,
     "end_time": "2022-11-16T00:45:59.426470",
     "exception": false,
     "start_time": "2022-11-16T00:45:59.354546",
     "status": "completed"
    },
    "tags": []
   },
   "outputs": [],
   "source": [
    "#hide\n",
    "dft_ct_new_cases = dft_cases.groupby(COL_REGION)[dt_cols].sum().diff(axis=1).fillna(0).astype(int)"
   ]
  },
  {
   "cell_type": "code",
   "execution_count": 19,
   "id": "neutral-assignment",
   "metadata": {
    "execution": {
     "iopub.execute_input": "2022-11-16T00:45:59.551676Z",
     "iopub.status.busy": "2022-11-16T00:45:59.551099Z",
     "iopub.status.idle": "2022-11-16T00:45:59.553611Z",
     "shell.execute_reply": "2022-11-16T00:45:59.553183Z"
    },
    "papermill": {
     "duration": 0.040689,
     "end_time": "2022-11-16T00:45:59.553714",
     "exception": false,
     "start_time": "2022-11-16T00:45:59.513025",
     "status": "completed"
    },
    "tags": []
   },
   "outputs": [],
   "source": [
    "#hide\n",
    "everydaycases = dft_ct_new_cases.cumsum(axis=1)"
   ]
  },
  {
   "cell_type": "code",
   "execution_count": 20,
   "id": "parliamentary-calgary",
   "metadata": {
    "execution": {
     "iopub.execute_input": "2022-11-16T00:45:59.620325Z",
     "iopub.status.busy": "2022-11-16T00:45:59.619765Z",
     "iopub.status.idle": "2022-11-16T00:46:00.151054Z",
     "shell.execute_reply": "2022-11-16T00:46:00.150107Z"
    },
    "papermill": {
     "duration": 0.565844,
     "end_time": "2022-11-16T00:46:00.151176",
     "exception": false,
     "start_time": "2022-11-16T00:45:59.585332",
     "status": "completed"
    },
    "tags": []
   },
   "outputs": [],
   "source": [
    "#hide\n",
    "import pandas as pd\n",
    "import matplotlib.pyplot as plt\n",
    "import matplotlib.ticker as ticker\n",
    "import matplotlib.animation as animation\n",
    "from IPython.display import HTML"
   ]
  },
  {
   "cell_type": "code",
   "execution_count": 21,
   "id": "lasting-extraction",
   "metadata": {
    "execution": {
     "iopub.execute_input": "2022-11-16T00:46:00.220167Z",
     "iopub.status.busy": "2022-11-16T00:46:00.219608Z",
     "iopub.status.idle": "2022-11-16T00:46:00.226729Z",
     "shell.execute_reply": "2022-11-16T00:46:00.226176Z"
    },
    "papermill": {
     "duration": 0.044099,
     "end_time": "2022-11-16T00:46:00.226832",
     "exception": false,
     "start_time": "2022-11-16T00:46:00.182733",
     "status": "completed"
    },
    "tags": []
   },
   "outputs": [],
   "source": [
    "#hide\n",
    "t = everydaycases.stack()"
   ]
  },
  {
   "cell_type": "code",
   "execution_count": 22,
   "id": "premier-sleeve",
   "metadata": {
    "execution": {
     "iopub.execute_input": "2022-11-16T00:46:00.292880Z",
     "iopub.status.busy": "2022-11-16T00:46:00.292299Z",
     "iopub.status.idle": "2022-11-16T00:46:00.304401Z",
     "shell.execute_reply": "2022-11-16T00:46:00.303939Z"
    },
    "papermill": {
     "duration": 0.046461,
     "end_time": "2022-11-16T00:46:00.304501",
     "exception": false,
     "start_time": "2022-11-16T00:46:00.258040",
     "status": "completed"
    },
    "tags": []
   },
   "outputs": [],
   "source": [
    "#hide\n",
    "g = t.reset_index(['Country/Region'])"
   ]
  },
  {
   "cell_type": "code",
   "execution_count": 23,
   "id": "distributed-pittsburgh",
   "metadata": {
    "execution": {
     "iopub.execute_input": "2022-11-16T00:46:00.370275Z",
     "iopub.status.busy": "2022-11-16T00:46:00.369713Z",
     "iopub.status.idle": "2022-11-16T00:46:00.372315Z",
     "shell.execute_reply": "2022-11-16T00:46:00.371775Z"
    },
    "papermill": {
     "duration": 0.036697,
     "end_time": "2022-11-16T00:46:00.372409",
     "exception": false,
     "start_time": "2022-11-16T00:46:00.335712",
     "status": "completed"
    },
    "tags": []
   },
   "outputs": [],
   "source": [
    "#hide\n",
    "g.index.name = 'date'"
   ]
  },
  {
   "cell_type": "code",
   "execution_count": 24,
   "id": "naked-donor",
   "metadata": {
    "execution": {
     "iopub.execute_input": "2022-11-16T00:46:00.437812Z",
     "iopub.status.busy": "2022-11-16T00:46:00.437238Z",
     "iopub.status.idle": "2022-11-16T00:46:00.439683Z",
     "shell.execute_reply": "2022-11-16T00:46:00.439158Z"
    },
    "papermill": {
     "duration": 0.036098,
     "end_time": "2022-11-16T00:46:00.439776",
     "exception": false,
     "start_time": "2022-11-16T00:46:00.403678",
     "status": "completed"
    },
    "tags": []
   },
   "outputs": [],
   "source": [
    "# #hide\n",
    "# g = g.reset_index(['date'])"
   ]
  },
  {
   "cell_type": "code",
   "execution_count": 25,
   "id": "incomplete-mustang",
   "metadata": {
    "execution": {
     "iopub.execute_input": "2022-11-16T00:46:00.505561Z",
     "iopub.status.busy": "2022-11-16T00:46:00.504996Z",
     "iopub.status.idle": "2022-11-16T00:46:00.507462Z",
     "shell.execute_reply": "2022-11-16T00:46:00.507046Z"
    },
    "papermill": {
     "duration": 0.036236,
     "end_time": "2022-11-16T00:46:00.507559",
     "exception": false,
     "start_time": "2022-11-16T00:46:00.471323",
     "status": "completed"
    },
    "tags": []
   },
   "outputs": [],
   "source": [
    "#hide\n",
    "# g.head()"
   ]
  },
  {
   "cell_type": "code",
   "execution_count": 26,
   "id": "specific-kruger",
   "metadata": {
    "execution": {
     "iopub.execute_input": "2022-11-16T00:46:00.572665Z",
     "iopub.status.busy": "2022-11-16T00:46:00.572090Z",
     "iopub.status.idle": "2022-11-16T00:46:00.574147Z",
     "shell.execute_reply": "2022-11-16T00:46:00.574540Z"
    },
    "papermill": {
     "duration": 0.036052,
     "end_time": "2022-11-16T00:46:00.574649",
     "exception": false,
     "start_time": "2022-11-16T00:46:00.538597",
     "status": "completed"
    },
    "tags": []
   },
   "outputs": [],
   "source": [
    "#hide\n",
    "# g.columns = ['date','country','cases']"
   ]
  },
  {
   "cell_type": "code",
   "execution_count": 27,
   "id": "tender-conversion",
   "metadata": {
    "execution": {
     "iopub.execute_input": "2022-11-16T00:46:00.639705Z",
     "iopub.status.busy": "2022-11-16T00:46:00.639142Z",
     "iopub.status.idle": "2022-11-16T00:46:00.641645Z",
     "shell.execute_reply": "2022-11-16T00:46:00.641214Z"
    },
    "papermill": {
     "duration": 0.035995,
     "end_time": "2022-11-16T00:46:00.641742",
     "exception": false,
     "start_time": "2022-11-16T00:46:00.605747",
     "status": "completed"
    },
    "tags": []
   },
   "outputs": [],
   "source": [
    "#hide\n",
    "# g['continent'] = g.country"
   ]
  },
  {
   "cell_type": "code",
   "execution_count": 28,
   "id": "substantial-wilderness",
   "metadata": {
    "execution": {
     "iopub.execute_input": "2022-11-16T00:46:00.706773Z",
     "iopub.status.busy": "2022-11-16T00:46:00.706207Z",
     "iopub.status.idle": "2022-11-16T00:46:00.708690Z",
     "shell.execute_reply": "2022-11-16T00:46:00.708126Z"
    },
    "papermill": {
     "duration": 0.036085,
     "end_time": "2022-11-16T00:46:00.708786",
     "exception": false,
     "start_time": "2022-11-16T00:46:00.672701",
     "status": "completed"
    },
    "tags": []
   },
   "outputs": [],
   "source": [
    "#hide\n",
    "# cols = list(g.columns.values)"
   ]
  },
  {
   "cell_type": "code",
   "execution_count": 29,
   "id": "solved-farming",
   "metadata": {
    "execution": {
     "iopub.execute_input": "2022-11-16T00:46:00.773873Z",
     "iopub.status.busy": "2022-11-16T00:46:00.773299Z",
     "iopub.status.idle": "2022-11-16T00:46:00.775646Z",
     "shell.execute_reply": "2022-11-16T00:46:00.775124Z"
    },
    "papermill": {
     "duration": 0.035934,
     "end_time": "2022-11-16T00:46:00.775739",
     "exception": false,
     "start_time": "2022-11-16T00:46:00.739805",
     "status": "completed"
    },
    "tags": []
   },
   "outputs": [],
   "source": [
    "#hide\n",
    "# cols.insert(0, cols.pop())"
   ]
  },
  {
   "cell_type": "code",
   "execution_count": 30,
   "id": "executed-adoption",
   "metadata": {
    "execution": {
     "iopub.execute_input": "2022-11-16T00:46:00.840677Z",
     "iopub.status.busy": "2022-11-16T00:46:00.840097Z",
     "iopub.status.idle": "2022-11-16T00:46:00.842512Z",
     "shell.execute_reply": "2022-11-16T00:46:00.841973Z"
    },
    "papermill": {
     "duration": 0.035979,
     "end_time": "2022-11-16T00:46:00.842604",
     "exception": false,
     "start_time": "2022-11-16T00:46:00.806625",
     "status": "completed"
    },
    "tags": []
   },
   "outputs": [],
   "source": [
    "#hide\n",
    "# g = g[cols]"
   ]
  },
  {
   "cell_type": "code",
   "execution_count": 31,
   "id": "subject-dublin",
   "metadata": {
    "execution": {
     "iopub.execute_input": "2022-11-16T00:46:00.907656Z",
     "iopub.status.busy": "2022-11-16T00:46:00.907090Z",
     "iopub.status.idle": "2022-11-16T00:46:00.909516Z",
     "shell.execute_reply": "2022-11-16T00:46:00.909085Z"
    },
    "papermill": {
     "duration": 0.035891,
     "end_time": "2022-11-16T00:46:00.909608",
     "exception": false,
     "start_time": "2022-11-16T00:46:00.873717",
     "status": "completed"
    },
    "tags": []
   },
   "outputs": [],
   "source": [
    "#hide\n",
    "# g['continent'] = g['continent'].map(mapping['map.continent'])"
   ]
  },
  {
   "cell_type": "code",
   "execution_count": 32,
   "id": "freelance-scout",
   "metadata": {
    "execution": {
     "iopub.execute_input": "2022-11-16T00:46:00.974512Z",
     "iopub.status.busy": "2022-11-16T00:46:00.973966Z",
     "iopub.status.idle": "2022-11-16T00:46:00.976326Z",
     "shell.execute_reply": "2022-11-16T00:46:00.975896Z"
    },
    "papermill": {
     "duration": 0.035938,
     "end_time": "2022-11-16T00:46:00.976418",
     "exception": false,
     "start_time": "2022-11-16T00:46:00.940480",
     "status": "completed"
    },
    "tags": []
   },
   "outputs": [],
   "source": [
    "#hide\n",
    "# g.head()"
   ]
  },
  {
   "cell_type": "code",
   "execution_count": 33,
   "id": "limited-engine",
   "metadata": {
    "execution": {
     "iopub.execute_input": "2022-11-16T00:46:01.042394Z",
     "iopub.status.busy": "2022-11-16T00:46:01.041836Z",
     "iopub.status.idle": "2022-11-16T00:46:01.043960Z",
     "shell.execute_reply": "2022-11-16T00:46:01.043443Z"
    },
    "papermill": {
     "duration": 0.036459,
     "end_time": "2022-11-16T00:46:01.044055",
     "exception": false,
     "start_time": "2022-11-16T00:46:01.007596",
     "status": "completed"
    },
    "tags": []
   },
   "outputs": [],
   "source": [
    "# hide\n",
    "# g['date'] = g['date'].astype('datetime64[ns]')"
   ]
  },
  {
   "cell_type": "code",
   "execution_count": 34,
   "id": "sophisticated-supervisor",
   "metadata": {
    "execution": {
     "iopub.execute_input": "2022-11-16T00:46:01.109863Z",
     "iopub.status.busy": "2022-11-16T00:46:01.109295Z",
     "iopub.status.idle": "2022-11-16T00:46:01.111665Z",
     "shell.execute_reply": "2022-11-16T00:46:01.111140Z"
    },
    "papermill": {
     "duration": 0.036629,
     "end_time": "2022-11-16T00:46:01.111761",
     "exception": false,
     "start_time": "2022-11-16T00:46:01.075132",
     "status": "completed"
    },
    "tags": []
   },
   "outputs": [],
   "source": [
    "#hide\n",
    "# g['date'] = g.date.dt.dayofyear"
   ]
  },
  {
   "cell_type": "code",
   "execution_count": 35,
   "id": "inside-dubai",
   "metadata": {
    "execution": {
     "iopub.execute_input": "2022-11-16T00:46:01.177545Z",
     "iopub.status.busy": "2022-11-16T00:46:01.176971Z",
     "iopub.status.idle": "2022-11-16T00:46:01.179293Z",
     "shell.execute_reply": "2022-11-16T00:46:01.178772Z"
    },
    "papermill": {
     "duration": 0.036465,
     "end_time": "2022-11-16T00:46:01.179390",
     "exception": false,
     "start_time": "2022-11-16T00:46:01.142925",
     "status": "completed"
    },
    "tags": []
   },
   "outputs": [],
   "source": [
    "#hide\n",
    "# g = g.rename(columns= {'continent':'group','country':'name','cases':'value'})"
   ]
  },
  {
   "cell_type": "code",
   "execution_count": 36,
   "id": "fleet-motorcycle",
   "metadata": {
    "execution": {
     "iopub.execute_input": "2022-11-16T00:46:01.244664Z",
     "iopub.status.busy": "2022-11-16T00:46:01.244091Z",
     "iopub.status.idle": "2022-11-16T00:46:01.248484Z",
     "shell.execute_reply": "2022-11-16T00:46:01.248018Z"
    },
    "papermill": {
     "duration": 0.03817,
     "end_time": "2022-11-16T00:46:01.248582",
     "exception": false,
     "start_time": "2022-11-16T00:46:01.210412",
     "status": "completed"
    },
    "tags": []
   },
   "outputs": [],
   "source": [
    "#hide\n",
    "# cols = ['name','group','day','value']"
   ]
  },
  {
   "cell_type": "code",
   "execution_count": 37,
   "id": "continued-sleeping",
   "metadata": {
    "execution": {
     "iopub.execute_input": "2022-11-16T00:46:01.314001Z",
     "iopub.status.busy": "2022-11-16T00:46:01.313438Z",
     "iopub.status.idle": "2022-11-16T00:46:01.315877Z",
     "shell.execute_reply": "2022-11-16T00:46:01.315442Z"
    },
    "papermill": {
     "duration": 0.036208,
     "end_time": "2022-11-16T00:46:01.315971",
     "exception": false,
     "start_time": "2022-11-16T00:46:01.279763",
     "status": "completed"
    },
    "tags": []
   },
   "outputs": [],
   "source": [
    "#hide\n",
    "# g.rename(columns= {'date':'day'},inplace = True)"
   ]
  },
  {
   "cell_type": "code",
   "execution_count": 38,
   "id": "major-fight",
   "metadata": {
    "execution": {
     "iopub.execute_input": "2022-11-16T00:46:01.381178Z",
     "iopub.status.busy": "2022-11-16T00:46:01.380577Z",
     "iopub.status.idle": "2022-11-16T00:46:01.382934Z",
     "shell.execute_reply": "2022-11-16T00:46:01.382411Z"
    },
    "papermill": {
     "duration": 0.03605,
     "end_time": "2022-11-16T00:46:01.383027",
     "exception": false,
     "start_time": "2022-11-16T00:46:01.346977",
     "status": "completed"
    },
    "tags": []
   },
   "outputs": [],
   "source": [
    "#hide\n",
    "# g = g[cols]"
   ]
  },
  {
   "cell_type": "code",
   "execution_count": 39,
   "id": "structured-mobile",
   "metadata": {
    "execution": {
     "iopub.execute_input": "2022-11-16T00:46:01.448216Z",
     "iopub.status.busy": "2022-11-16T00:46:01.447655Z",
     "iopub.status.idle": "2022-11-16T00:46:01.450012Z",
     "shell.execute_reply": "2022-11-16T00:46:01.449491Z"
    },
    "papermill": {
     "duration": 0.035966,
     "end_time": "2022-11-16T00:46:01.450106",
     "exception": false,
     "start_time": "2022-11-16T00:46:01.414140",
     "status": "completed"
    },
    "tags": []
   },
   "outputs": [],
   "source": [
    "# #hide\n",
    "# g = g[g.group.notna()]"
   ]
  },
  {
   "cell_type": "code",
   "execution_count": 40,
   "id": "determined-closing",
   "metadata": {
    "execution": {
     "iopub.execute_input": "2022-11-16T00:46:01.515755Z",
     "iopub.status.busy": "2022-11-16T00:46:01.515178Z",
     "iopub.status.idle": "2022-11-16T00:46:01.517632Z",
     "shell.execute_reply": "2022-11-16T00:46:01.517112Z"
    },
    "papermill": {
     "duration": 0.036184,
     "end_time": "2022-11-16T00:46:01.517725",
     "exception": false,
     "start_time": "2022-11-16T00:46:01.481541",
     "status": "completed"
    },
    "tags": []
   },
   "outputs": [],
   "source": [
    "# #hide\n",
    "# colors = dict(zip(\n",
    "#     [\"Oceania\", \"Europe\", \"Asia\", \"South America\", \"Middle East\", \"North America\", \"Africa\"],\n",
    "#     [\"#adb0ff\", \"#ffb3ff\", \"#90d595\", \"#e48381\", \"#aafbff\", \"#f7bb5f\", \"#eafb50\"]\n",
    "# ))\n",
    "# group_lk = g.set_index('name')['group'].to_dict()"
   ]
  },
  {
   "cell_type": "code",
   "execution_count": null,
   "id": "gross-drinking",
   "metadata": {
    "papermill": {
     "duration": 0.031008,
     "end_time": "2022-11-16T00:46:01.579858",
     "exception": false,
     "start_time": "2022-11-16T00:46:01.548850",
     "status": "completed"
    },
    "tags": []
   },
   "outputs": [],
   "source": []
  },
  {
   "cell_type": "code",
   "execution_count": 41,
   "id": "subject-macintosh",
   "metadata": {
    "execution": {
     "iopub.execute_input": "2022-11-16T00:46:01.646217Z",
     "iopub.status.busy": "2022-11-16T00:46:01.645631Z",
     "iopub.status.idle": "2022-11-16T00:46:01.648077Z",
     "shell.execute_reply": "2022-11-16T00:46:01.647638Z"
    },
    "papermill": {
     "duration": 0.037242,
     "end_time": "2022-11-16T00:46:01.648173",
     "exception": false,
     "start_time": "2022-11-16T00:46:01.610931",
     "status": "completed"
    },
    "tags": []
   },
   "outputs": [],
   "source": [
    "# #hide\n",
    "# fig, ax = plt.subplots(figsize=(15, 8))\n",
    "\n",
    "# def draw_barchart(current_day):\n",
    "#     dff = g[g['day'].eq(current_day)].sort_values(by='value', ascending=True).tail(10)\n",
    "#     ax.clear()\n",
    "#     ax.barh(dff['name'], dff['value'], color=[colors[group_lk[x]] for x in dff['name']])\n",
    "#     dx = dff['value'].max() / 200\n",
    "    \n",
    "#     for i, (value, name) in enumerate(zip(dff['value'], dff['name'])):\n",
    "#         ax.text(value-dx, i,     name,           size=14, weight=600, ha='right', va='bottom')\n",
    "#         ax.text(value-dx, i-.25, group_lk[name], size=10, color='#444444', ha='right', va='baseline')\n",
    "#         ax.text(value+dx, i,     f'{value:,.0f}',  size=14, ha='left',  va='center')\n",
    "#     ax.text(1, 0.4, current_day, transform=ax.transAxes, color='#777777', size=46, ha='right', weight=800)\n",
    "#     ax.text(0, 1.06, 'Population (thousands)', transform=ax.transAxes, size=12, color='#777777')\n",
    "#     ax.xaxis.set_major_formatter(ticker.StrMethodFormatter('{x:,.0f}'))\n",
    "#     ax.xaxis.set_ticks_position('top')\n",
    "#     ax.tick_params(axis='x', colors='#777777', labelsize=12)\n",
    "#     ax.set_yticks([])\n",
    "#     ax.margins(0, 0.01)\n",
    "#     ax.grid(which='major', axis='x', linestyle='-')\n",
    "#     ax.set_axisbelow(True)\n",
    "    \n",
    "#     ax.text(0, 1.15, 'Coronavirus',\n",
    "#             transform=ax.transAxes, size=24, weight=600, ha='left', va='top')\n",
    "# #     ax.text(1, 0, 'by @pratapvardhan; credit @jburnmurdoch', transform=ax.transAxes, color='#777777', ha='right',\n",
    "# #             bbox=dict(facecolor='white', alpha=0.8, edgecolor='white'))\n",
    "#     plt.box(False)"
   ]
  },
  {
   "cell_type": "code",
   "execution_count": 42,
   "id": "sexual-wages",
   "metadata": {
    "execution": {
     "iopub.execute_input": "2022-11-16T00:46:01.714058Z",
     "iopub.status.busy": "2022-11-16T00:46:01.713484Z",
     "iopub.status.idle": "2022-11-16T00:46:01.715918Z",
     "shell.execute_reply": "2022-11-16T00:46:01.715476Z"
    },
    "papermill": {
     "duration": 0.036582,
     "end_time": "2022-11-16T00:46:01.716013",
     "exception": false,
     "start_time": "2022-11-16T00:46:01.679431",
     "status": "completed"
    },
    "tags": []
   },
   "outputs": [],
   "source": [
    "# #hide_input\n",
    "# fig, ax = plt.subplots(figsize=(15, 8))\n",
    "# animator = animation.FuncAnimation(fig, draw_barchart, frames=range(g.day.values.min(), g.day.values.max()))\n",
    "# HTML(animator.to_jshtml())\n",
    "# # or use animator.to_html5_video() or animator.save() "
   ]
  },
  {
   "cell_type": "code",
   "execution_count": null,
   "id": "australian-container",
   "metadata": {
    "papermill": {
     "duration": 0.031012,
     "end_time": "2022-11-16T00:46:01.778055",
     "exception": false,
     "start_time": "2022-11-16T00:46:01.747043",
     "status": "completed"
    },
    "tags": []
   },
   "outputs": [],
   "source": []
  },
  {
   "cell_type": "code",
   "execution_count": null,
   "id": "mediterranean-pontiac",
   "metadata": {
    "papermill": {
     "duration": 0.030938,
     "end_time": "2022-11-16T00:46:01.840166",
     "exception": false,
     "start_time": "2022-11-16T00:46:01.809228",
     "status": "completed"
    },
    "tags": []
   },
   "outputs": [],
   "source": []
  },
  {
   "cell_type": "code",
   "execution_count": null,
   "id": "aging-legislature",
   "metadata": {
    "papermill": {
     "duration": 0.031202,
     "end_time": "2022-11-16T00:46:01.904770",
     "exception": false,
     "start_time": "2022-11-16T00:46:01.873568",
     "status": "completed"
    },
    "tags": []
   },
   "outputs": [],
   "source": []
  }
 ],
 "metadata": {
  "kernelspec": {
   "display_name": "Python 3",
   "language": "python",
   "name": "python3"
  },
  "language_info": {
   "codemirror_mode": {
    "name": "ipython",
    "version": 3
   },
   "file_extension": ".py",
   "mimetype": "text/x-python",
   "name": "python",
   "nbconvert_exporter": "python",
   "pygments_lexer": "ipython3",
   "version": "3.6.15"
  },
  "papermill": {
   "duration": 6.084074,
   "end_time": "2022-11-16T00:46:02.253258",
   "environment_variables": {},
   "exception": null,
   "input_path": "2020-03-21-covid19exp.ipynb",
   "output_path": "2020-03-21-covid19exp.ipynb",
   "parameters": {},
   "start_time": "2022-11-16T00:45:56.169184",
   "version": "2.0.0"
  }
 },
 "nbformat": 4,
 "nbformat_minor": 5
}