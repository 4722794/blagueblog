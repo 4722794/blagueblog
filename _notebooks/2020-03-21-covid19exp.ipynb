{
 "cells": [
  {
   "cell_type": "markdown",
   "id": "muslim-click",
   "metadata": {
    "papermill": {
     "duration": 0.047135,
     "end_time": "2022-10-21T12:22:30.369077",
     "exception": false,
     "start_time": "2022-10-21T12:22:30.321942",
     "status": "completed"
    },
    "tags": []
   },
   "source": [
    "# COVID-19 Case Race\n",
    "> A race chart to see rising cases around the world\n",
    "\n",
    "- author: Hargun Oberoi\n",
    "- image: images/covid-overview.png\n",
    "- hide: false\n",
    "- badges: false"
   ]
  },
  {
   "cell_type": "code",
   "execution_count": 1,
   "id": "proof-material",
   "metadata": {
    "execution": {
     "iopub.execute_input": "2022-10-21T12:22:30.464961Z",
     "iopub.status.busy": "2022-10-21T12:22:30.464088Z",
     "iopub.status.idle": "2022-10-21T12:22:30.913934Z",
     "shell.execute_reply": "2022-10-21T12:22:30.913159Z"
    },
    "papermill": {
     "duration": 0.503792,
     "end_time": "2022-10-21T12:22:30.914111",
     "exception": false,
     "start_time": "2022-10-21T12:22:30.410319",
     "status": "completed"
    },
    "tags": []
   },
   "outputs": [],
   "source": [
    "#hide\n",
    "import numpy as np\n",
    "import pandas as pd\n",
    "from jinja2 import Template\n",
    "from IPython.display import HTML"
   ]
  },
  {
   "cell_type": "code",
   "execution_count": 2,
   "id": "developed-terminology",
   "metadata": {
    "execution": {
     "iopub.execute_input": "2022-10-21T12:22:31.006537Z",
     "iopub.status.busy": "2022-10-21T12:22:31.005710Z",
     "iopub.status.idle": "2022-10-21T12:22:31.015952Z",
     "shell.execute_reply": "2022-10-21T12:22:31.015043Z"
    },
    "papermill": {
     "duration": 0.058197,
     "end_time": "2022-10-21T12:22:31.016124",
     "exception": false,
     "start_time": "2022-10-21T12:22:30.957927",
     "status": "completed"
    },
    "tags": []
   },
   "outputs": [],
   "source": [
    "#hide\n",
    "\n",
    "# FETCH\n",
    "base_url = 'https://raw.githubusercontent.com/pratapvardhan/notebooks/master/covid19/'\n",
    "paths = {\n",
    "    'mapping': base_url + 'mapping_countries.csv',\n",
    "    'overview': base_url + 'overview.tpl'\n",
    "}"
   ]
  },
  {
   "cell_type": "code",
   "execution_count": 3,
   "id": "dynamic-saver",
   "metadata": {
    "execution": {
     "iopub.execute_input": "2022-10-21T12:22:31.123099Z",
     "iopub.status.busy": "2022-10-21T12:22:31.122288Z",
     "iopub.status.idle": "2022-10-21T12:22:31.126470Z",
     "shell.execute_reply": "2022-10-21T12:22:31.125819Z"
    },
    "papermill": {
     "duration": 0.064717,
     "end_time": "2022-10-21T12:22:31.126621",
     "exception": false,
     "start_time": "2022-10-21T12:22:31.061904",
     "status": "completed"
    },
    "tags": []
   },
   "outputs": [
    {
     "data": {
      "text/plain": [
       "'https://raw.githubusercontent.com/pratapvardhan/notebooks/master/covid19/mapping_countries.csv'"
      ]
     },
     "execution_count": 3,
     "metadata": {},
     "output_type": "execute_result"
    }
   ],
   "source": [
    "#hide\n",
    "paths['mapping']"
   ]
  },
  {
   "cell_type": "code",
   "execution_count": 4,
   "id": "urban-software",
   "metadata": {
    "execution": {
     "iopub.execute_input": "2022-10-21T12:22:31.217032Z",
     "iopub.status.busy": "2022-10-21T12:22:31.216175Z",
     "iopub.status.idle": "2022-10-21T12:22:31.219342Z",
     "shell.execute_reply": "2022-10-21T12:22:31.218695Z"
    },
    "papermill": {
     "duration": 0.052339,
     "end_time": "2022-10-21T12:22:31.219495",
     "exception": false,
     "start_time": "2022-10-21T12:22:31.167156",
     "status": "completed"
    },
    "tags": []
   },
   "outputs": [],
   "source": [
    "#hide\n",
    "def get_mappings(url):\n",
    "    df = pd.read_csv(url)\n",
    "    return {\n",
    "        'df': df,\n",
    "        'replace.country': dict(df.dropna(subset=['Name']).set_index('Country')['Name']),\n",
    "        'map.continent': dict(df.set_index('Name')['Continent'])\n",
    "    }"
   ]
  },
  {
   "cell_type": "code",
   "execution_count": 5,
   "id": "intimate-machinery",
   "metadata": {
    "execution": {
     "iopub.execute_input": "2022-10-21T12:22:31.306288Z",
     "iopub.status.busy": "2022-10-21T12:22:31.305477Z",
     "iopub.status.idle": "2022-10-21T12:22:31.358073Z",
     "shell.execute_reply": "2022-10-21T12:22:31.357397Z"
    },
    "papermill": {
     "duration": 0.099778,
     "end_time": "2022-10-21T12:22:31.358226",
     "exception": false,
     "start_time": "2022-10-21T12:22:31.258448",
     "status": "completed"
    },
    "tags": []
   },
   "outputs": [],
   "source": [
    "#hide\n",
    "mapping = get_mappings(paths['mapping'])"
   ]
  },
  {
   "cell_type": "code",
   "execution_count": 6,
   "id": "certified-tactics",
   "metadata": {
    "execution": {
     "iopub.execute_input": "2022-10-21T12:22:31.447453Z",
     "iopub.status.busy": "2022-10-21T12:22:31.446596Z",
     "iopub.status.idle": "2022-10-21T12:22:31.449952Z",
     "shell.execute_reply": "2022-10-21T12:22:31.449126Z"
    },
    "papermill": {
     "duration": 0.051865,
     "end_time": "2022-10-21T12:22:31.450120",
     "exception": false,
     "start_time": "2022-10-21T12:22:31.398255",
     "status": "completed"
    },
    "tags": []
   },
   "outputs": [],
   "source": [
    "#hide\n",
    "def get_template(path):\n",
    "    from urllib.parse import urlparse\n",
    "    if bool(urlparse(path).netloc):\n",
    "        from urllib.request import urlopen\n",
    "        return urlopen(path).read().decode('utf8')\n",
    "    return open(path).read()"
   ]
  },
  {
   "cell_type": "code",
   "execution_count": 7,
   "id": "realistic-blast",
   "metadata": {
    "execution": {
     "iopub.execute_input": "2022-10-21T12:22:31.538972Z",
     "iopub.status.busy": "2022-10-21T12:22:31.538128Z",
     "iopub.status.idle": "2022-10-21T12:22:31.541358Z",
     "shell.execute_reply": "2022-10-21T12:22:31.540677Z"
    },
    "papermill": {
     "duration": 0.049247,
     "end_time": "2022-10-21T12:22:31.541525",
     "exception": false,
     "start_time": "2022-10-21T12:22:31.492278",
     "status": "completed"
    },
    "tags": []
   },
   "outputs": [],
   "source": [
    "#hide\n",
    "def get_frame(name):\n",
    "    url = (\n",
    "        'https://raw.githubusercontent.com/CSSEGISandData/COVID-19/master/csse_covid_19_data/'\n",
    "        f'csse_covid_19_time_series/time_series_covid19_{name}_global.csv')\n",
    "    df = pd.read_csv(url)\n",
    "    # rename countries\n",
    "    df['Country/Region'] = df['Country/Region'].replace(mapping['replace.country'])\n",
    "    return df"
   ]
  },
  {
   "cell_type": "code",
   "execution_count": 8,
   "id": "affiliated-characterization",
   "metadata": {
    "execution": {
     "iopub.execute_input": "2022-10-21T12:22:31.635368Z",
     "iopub.status.busy": "2022-10-21T12:22:31.634536Z",
     "iopub.status.idle": "2022-10-21T12:22:31.637623Z",
     "shell.execute_reply": "2022-10-21T12:22:31.636878Z"
    },
    "papermill": {
     "duration": 0.05415,
     "end_time": "2022-10-21T12:22:31.637769",
     "exception": false,
     "start_time": "2022-10-21T12:22:31.583619",
     "status": "completed"
    },
    "tags": []
   },
   "outputs": [],
   "source": [
    "#hide\n",
    "def get_dates(df):\n",
    "    dt_cols = df.columns[~df.columns.isin(['Province/State', 'Country/Region', 'Lat', 'Long'])]\n",
    "    LAST_DATE_I = -1\n",
    "    # sometimes last column may be empty, then go backwards\n",
    "    for i in range(-1, -len(dt_cols), -1):\n",
    "        if not df[dt_cols[i]].fillna(0).eq(0).all():\n",
    "            LAST_DATE_I = i\n",
    "            break\n",
    "    return LAST_DATE_I, dt_cols"
   ]
  },
  {
   "cell_type": "code",
   "execution_count": 9,
   "id": "recent-optimization",
   "metadata": {
    "execution": {
     "iopub.execute_input": "2022-10-21T12:22:31.727481Z",
     "iopub.status.busy": "2022-10-21T12:22:31.726700Z",
     "iopub.status.idle": "2022-10-21T12:22:32.432775Z",
     "shell.execute_reply": "2022-10-21T12:22:32.433339Z"
    },
    "papermill": {
     "duration": 0.754006,
     "end_time": "2022-10-21T12:22:32.433548",
     "exception": false,
     "start_time": "2022-10-21T12:22:31.679542",
     "status": "completed"
    },
    "tags": []
   },
   "outputs": [],
   "source": [
    "#hide\n",
    "COL_REGION = 'Country/Region'\n",
    "# Confirmed, Recovered, Deaths\n",
    "df = get_frame('confirmed')\n",
    "# dft_: timeseries, dfc_: today country agg\n",
    "dft_cases = df\n",
    "dft_deaths = get_frame('deaths')\n",
    "dft_recovered = get_frame('recovered')\n",
    "LAST_DATE_I, dt_cols = get_dates(df)"
   ]
  },
  {
   "cell_type": "code",
   "execution_count": 10,
   "id": "absolute-copper",
   "metadata": {
    "execution": {
     "iopub.execute_input": "2022-10-21T12:22:32.524598Z",
     "iopub.status.busy": "2022-10-21T12:22:32.523791Z",
     "iopub.status.idle": "2022-10-21T12:22:32.527960Z",
     "shell.execute_reply": "2022-10-21T12:22:32.527145Z"
    },
    "papermill": {
     "duration": 0.051373,
     "end_time": "2022-10-21T12:22:32.528108",
     "exception": false,
     "start_time": "2022-10-21T12:22:32.476735",
     "status": "completed"
    },
    "tags": []
   },
   "outputs": [],
   "source": [
    "#hide\n",
    "LAST_DATE_I, dt_cols = get_dates(df)\n",
    "dt_today =dt_cols[LAST_DATE_I]\n",
    "# dt_5day = dt_cols[LAST_DATE_I - 5]\n",
    "dt_yday = dt_cols[LAST_DATE_I - 1]"
   ]
  },
  {
   "cell_type": "code",
   "execution_count": 11,
   "id": "restricted-sheriff",
   "metadata": {
    "execution": {
     "iopub.execute_input": "2022-10-21T12:22:32.621071Z",
     "iopub.status.busy": "2022-10-21T12:22:32.620291Z",
     "iopub.status.idle": "2022-10-21T12:22:32.627030Z",
     "shell.execute_reply": "2022-10-21T12:22:32.626423Z"
    },
    "papermill": {
     "duration": 0.058527,
     "end_time": "2022-10-21T12:22:32.627204",
     "exception": false,
     "start_time": "2022-10-21T12:22:32.568677",
     "status": "completed"
    },
    "tags": []
   },
   "outputs": [],
   "source": [
    "#hide\n",
    "dfc_cases = dft_cases.groupby(COL_REGION)[dt_today].sum()\n",
    "dfc_deaths = dft_deaths.groupby(COL_REGION)[dt_today].sum()\n",
    "# dfp_cases = dft_cases.groupby(COL_REGION)[dt_5day].sum()\n",
    "# dfp_deaths = dft_deaths.groupby(COL_REGION)[dt_5day].sum()\n",
    "dfp_cases = dft_cases.groupby(COL_REGION)[dt_yday].sum()\n",
    "dfp_deaths = dft_deaths.groupby(COL_REGION)[dt_yday].sum()"
   ]
  },
  {
   "cell_type": "code",
   "execution_count": 12,
   "id": "deluxe-hepatitis",
   "metadata": {
    "execution": {
     "iopub.execute_input": "2022-10-21T12:22:32.715950Z",
     "iopub.status.busy": "2022-10-21T12:22:32.715037Z",
     "iopub.status.idle": "2022-10-21T12:22:32.721532Z",
     "shell.execute_reply": "2022-10-21T12:22:32.722309Z"
    },
    "papermill": {
     "duration": 0.056454,
     "end_time": "2022-10-21T12:22:32.722493",
     "exception": false,
     "start_time": "2022-10-21T12:22:32.666039",
     "status": "completed"
    },
    "tags": []
   },
   "outputs": [],
   "source": [
    "#hide\n",
    "df_table = (pd.DataFrame(dict(Cases = dfc_cases, Deaths = dfc_deaths, PCases = dfp_cases, PDeaths = dfp_deaths))\n",
    "            .sort_values(by = ['Cases','Deaths'], ascending = [False, False])\n",
    "            .reset_index())"
   ]
  },
  {
   "cell_type": "code",
   "execution_count": 13,
   "id": "educational-chancellor",
   "metadata": {
    "execution": {
     "iopub.execute_input": "2022-10-21T12:22:32.827954Z",
     "iopub.status.busy": "2022-10-21T12:22:32.811827Z",
     "iopub.status.idle": "2022-10-21T12:22:32.837043Z",
     "shell.execute_reply": "2022-10-21T12:22:32.837643Z"
    },
    "papermill": {
     "duration": 0.074897,
     "end_time": "2022-10-21T12:22:32.837803",
     "exception": false,
     "start_time": "2022-10-21T12:22:32.762906",
     "status": "completed"
    },
    "tags": []
   },
   "outputs": [
    {
     "data": {
      "text/html": [
       "<div>\n",
       "<style scoped>\n",
       "    .dataframe tbody tr th:only-of-type {\n",
       "        vertical-align: middle;\n",
       "    }\n",
       "\n",
       "    .dataframe tbody tr th {\n",
       "        vertical-align: top;\n",
       "    }\n",
       "\n",
       "    .dataframe thead th {\n",
       "        text-align: right;\n",
       "    }\n",
       "</style>\n",
       "<table border=\"1\" class=\"dataframe\">\n",
       "  <thead>\n",
       "    <tr style=\"text-align: right;\">\n",
       "      <th></th>\n",
       "      <th>Country/Region</th>\n",
       "      <th>Cases</th>\n",
       "      <th>Deaths</th>\n",
       "      <th>PCases</th>\n",
       "      <th>PDeaths</th>\n",
       "      <th>Cases (+)</th>\n",
       "      <th>Deaths (+)</th>\n",
       "      <th>Fatality Rate</th>\n",
       "      <th>Continent</th>\n",
       "    </tr>\n",
       "  </thead>\n",
       "  <tbody>\n",
       "    <tr>\n",
       "      <th>0</th>\n",
       "      <td>US</td>\n",
       "      <td>97150292</td>\n",
       "      <td>1067190</td>\n",
       "      <td>97093844</td>\n",
       "      <td>1066658</td>\n",
       "      <td>56448</td>\n",
       "      <td>532</td>\n",
       "      <td>1.10</td>\n",
       "      <td>North America</td>\n",
       "    </tr>\n",
       "    <tr>\n",
       "      <th>1</th>\n",
       "      <td>India</td>\n",
       "      <td>44638636</td>\n",
       "      <td>528953</td>\n",
       "      <td>44636517</td>\n",
       "      <td>528943</td>\n",
       "      <td>2119</td>\n",
       "      <td>10</td>\n",
       "      <td>1.18</td>\n",
       "      <td>Asia</td>\n",
       "    </tr>\n",
       "    <tr>\n",
       "      <th>2</th>\n",
       "      <td>France</td>\n",
       "      <td>36692887</td>\n",
       "      <td>157296</td>\n",
       "      <td>36636069</td>\n",
       "      <td>157227</td>\n",
       "      <td>56818</td>\n",
       "      <td>69</td>\n",
       "      <td>0.43</td>\n",
       "      <td>Europe</td>\n",
       "    </tr>\n",
       "    <tr>\n",
       "      <th>3</th>\n",
       "      <td>Germany</td>\n",
       "      <td>35098062</td>\n",
       "      <td>152278</td>\n",
       "      <td>35005769</td>\n",
       "      <td>152100</td>\n",
       "      <td>92293</td>\n",
       "      <td>178</td>\n",
       "      <td>0.43</td>\n",
       "      <td>Europe</td>\n",
       "    </tr>\n",
       "    <tr>\n",
       "      <th>4</th>\n",
       "      <td>Brazil</td>\n",
       "      <td>34771320</td>\n",
       "      <td>687423</td>\n",
       "      <td>34771320</td>\n",
       "      <td>687423</td>\n",
       "      <td>0</td>\n",
       "      <td>0</td>\n",
       "      <td>1.98</td>\n",
       "      <td>South America</td>\n",
       "    </tr>\n",
       "  </tbody>\n",
       "</table>\n",
       "</div>"
      ],
      "text/plain": [
       "  Country/Region     Cases   Deaths    PCases  PDeaths  Cases (+)  Deaths (+)  \\\n",
       "0             US  97150292  1067190  97093844  1066658      56448         532   \n",
       "1          India  44638636   528953  44636517   528943       2119          10   \n",
       "2         France  36692887   157296  36636069   157227      56818          69   \n",
       "3        Germany  35098062   152278  35005769   152100      92293         178   \n",
       "4         Brazil  34771320   687423  34771320   687423          0           0   \n",
       "\n",
       "   Fatality Rate      Continent  \n",
       "0           1.10  North America  \n",
       "1           1.18           Asia  \n",
       "2           0.43         Europe  \n",
       "3           0.43         Europe  \n",
       "4           1.98  South America  "
      ]
     },
     "execution_count": 13,
     "metadata": {},
     "output_type": "execute_result"
    }
   ],
   "source": [
    "#hide\n",
    "for c in 'Cases, Deaths'.split(', '):\n",
    "    df_table[f'{c} (+)'] = (df_table[c] - df_table[f'P{c}']).clip(0)\n",
    "    #Clip ça veut dire, les chiffres negatif sont interdit\n",
    "df_table['Fatality Rate'] = (100* df_table['Deaths']/ df_table['Cases']).round(2)\n",
    "df_table['Continent'] = df_table['Country/Region'].map(mapping['map.continent'])\n",
    "df_table.head(5)"
   ]
  },
  {
   "cell_type": "code",
   "execution_count": 14,
   "id": "aboriginal-bulgaria",
   "metadata": {
    "execution": {
     "iopub.execute_input": "2022-10-21T12:22:32.926021Z",
     "iopub.status.busy": "2022-10-21T12:22:32.925231Z",
     "iopub.status.idle": "2022-10-21T12:22:32.929027Z",
     "shell.execute_reply": "2022-10-21T12:22:32.929763Z"
    },
    "papermill": {
     "duration": 0.05145,
     "end_time": "2022-10-21T12:22:32.929914",
     "exception": false,
     "start_time": "2022-10-21T12:22:32.878464",
     "status": "completed"
    },
    "tags": []
   },
   "outputs": [],
   "source": [
    "#hide\n",
    "#delete problematic countries from table\n",
    "df_table = df_table[~df_table['Country/Region'].isin(['Cape Verde', 'Cruise Ship', 'Kosovo'])]"
   ]
  },
  {
   "cell_type": "code",
   "execution_count": 15,
   "id": "fantastic-effect",
   "metadata": {
    "execution": {
     "iopub.execute_input": "2022-10-21T12:22:33.023207Z",
     "iopub.status.busy": "2022-10-21T12:22:33.022278Z",
     "iopub.status.idle": "2022-10-21T12:22:33.047799Z",
     "shell.execute_reply": "2022-10-21T12:22:33.047133Z"
    },
    "papermill": {
     "duration": 0.077186,
     "end_time": "2022-10-21T12:22:33.047949",
     "exception": false,
     "start_time": "2022-10-21T12:22:32.970763",
     "status": "completed"
    },
    "tags": []
   },
   "outputs": [
    {
     "data": {
      "text/html": [
       "<div>\n",
       "<style scoped>\n",
       "    .dataframe tbody tr th:only-of-type {\n",
       "        vertical-align: middle;\n",
       "    }\n",
       "\n",
       "    .dataframe tbody tr th {\n",
       "        vertical-align: top;\n",
       "    }\n",
       "\n",
       "    .dataframe thead th {\n",
       "        text-align: right;\n",
       "    }\n",
       "</style>\n",
       "<table border=\"1\" class=\"dataframe\">\n",
       "  <thead>\n",
       "    <tr style=\"text-align: right;\">\n",
       "      <th></th>\n",
       "      <th>Country/Region</th>\n",
       "      <th>Cases</th>\n",
       "      <th>Deaths</th>\n",
       "      <th>PCases</th>\n",
       "      <th>PDeaths</th>\n",
       "      <th>Cases (+)</th>\n",
       "      <th>Deaths (+)</th>\n",
       "      <th>Fatality Rate</th>\n",
       "      <th>Continent</th>\n",
       "    </tr>\n",
       "  </thead>\n",
       "  <tbody>\n",
       "    <tr>\n",
       "      <th>0</th>\n",
       "      <td>US</td>\n",
       "      <td>97150292</td>\n",
       "      <td>1067190</td>\n",
       "      <td>97093844</td>\n",
       "      <td>1066658</td>\n",
       "      <td>56448</td>\n",
       "      <td>532</td>\n",
       "      <td>1.1</td>\n",
       "      <td>North America</td>\n",
       "    </tr>\n",
       "    <tr>\n",
       "      <th>1</th>\n",
       "      <td>India</td>\n",
       "      <td>44638636</td>\n",
       "      <td>528953</td>\n",
       "      <td>44636517</td>\n",
       "      <td>528943</td>\n",
       "      <td>2119</td>\n",
       "      <td>10</td>\n",
       "      <td>1.2</td>\n",
       "      <td>Asia</td>\n",
       "    </tr>\n",
       "    <tr>\n",
       "      <th>2</th>\n",
       "      <td>France</td>\n",
       "      <td>36692887</td>\n",
       "      <td>157296</td>\n",
       "      <td>36636069</td>\n",
       "      <td>157227</td>\n",
       "      <td>56818</td>\n",
       "      <td>69</td>\n",
       "      <td>0.4</td>\n",
       "      <td>Europe</td>\n",
       "    </tr>\n",
       "    <tr>\n",
       "      <th>3</th>\n",
       "      <td>Germany</td>\n",
       "      <td>35098062</td>\n",
       "      <td>152278</td>\n",
       "      <td>35005769</td>\n",
       "      <td>152100</td>\n",
       "      <td>92293</td>\n",
       "      <td>178</td>\n",
       "      <td>0.4</td>\n",
       "      <td>Europe</td>\n",
       "    </tr>\n",
       "    <tr>\n",
       "      <th>4</th>\n",
       "      <td>Brazil</td>\n",
       "      <td>34771320</td>\n",
       "      <td>687423</td>\n",
       "      <td>34771320</td>\n",
       "      <td>687423</td>\n",
       "      <td>0</td>\n",
       "      <td>0</td>\n",
       "      <td>2.0</td>\n",
       "      <td>South America</td>\n",
       "    </tr>\n",
       "  </tbody>\n",
       "</table>\n",
       "</div>"
      ],
      "text/plain": [
       "  Country/Region     Cases   Deaths    PCases  PDeaths  Cases (+)  Deaths (+)  \\\n",
       "0             US  97150292  1067190  97093844  1066658      56448         532   \n",
       "1          India  44638636   528953  44636517   528943       2119          10   \n",
       "2         France  36692887   157296  36636069   157227      56818          69   \n",
       "3        Germany  35098062   152278  35005769   152100      92293         178   \n",
       "4         Brazil  34771320   687423  34771320   687423          0           0   \n",
       "\n",
       "   Fatality Rate      Continent  \n",
       "0            1.1  North America  \n",
       "1            1.2           Asia  \n",
       "2            0.4         Europe  \n",
       "3            0.4         Europe  \n",
       "4            2.0  South America  "
      ]
     },
     "execution_count": 15,
     "metadata": {},
     "output_type": "execute_result"
    }
   ],
   "source": [
    "#hide\n",
    "df_table = (pd.DataFrame(dict(Cases=dfc_cases, Deaths=dfc_deaths, PCases=dfp_cases, PDeaths=dfp_deaths))\n",
    "             .sort_values(by=['Cases', 'Deaths'], ascending=[False, False])\n",
    "             .reset_index())\n",
    "df_table.rename(columns={'index': 'Country/Region'}, inplace=True)\n",
    "for c in 'Cases, Deaths'.split(', '):\n",
    "    df_table[f'{c} (+)'] = (df_table[c] - df_table[f'P{c}']).clip(0)  # DATA BUG\n",
    "df_table['Fatality Rate'] = (100 * df_table['Deaths'] / df_table['Cases']).round(1)\n",
    "df_table['Continent'] = df_table['Country/Region'].map(mapping['map.continent'])\n",
    "df_table.head(5)"
   ]
  },
  {
   "cell_type": "code",
   "execution_count": 16,
   "id": "fewer-occasion",
   "metadata": {
    "execution": {
     "iopub.execute_input": "2022-10-21T12:22:33.146693Z",
     "iopub.status.busy": "2022-10-21T12:22:33.145847Z",
     "iopub.status.idle": "2022-10-21T12:22:33.149953Z",
     "shell.execute_reply": "2022-10-21T12:22:33.149084Z"
    },
    "papermill": {
     "duration": 0.054418,
     "end_time": "2022-10-21T12:22:33.150111",
     "exception": false,
     "start_time": "2022-10-21T12:22:33.095693",
     "status": "completed"
    },
    "tags": []
   },
   "outputs": [],
   "source": [
    "#hide\n",
    "#delete problematic countries from table\n",
    "df_table = df_table[~df_table['Country/Region'].isin(['Cape Verde', 'Cruise Ship', 'Kosovo'])]"
   ]
  },
  {
   "cell_type": "code",
   "execution_count": 17,
   "id": "related-center",
   "metadata": {
    "execution": {
     "iopub.execute_input": "2022-10-21T12:22:33.254127Z",
     "iopub.status.busy": "2022-10-21T12:22:33.253266Z",
     "iopub.status.idle": "2022-10-21T12:22:33.266511Z",
     "shell.execute_reply": "2022-10-21T12:22:33.267124Z"
    },
    "papermill": {
     "duration": 0.072636,
     "end_time": "2022-10-21T12:22:33.267299",
     "exception": false,
     "start_time": "2022-10-21T12:22:33.194663",
     "status": "completed"
    },
    "tags": []
   },
   "outputs": [],
   "source": [
    "#hide\n",
    "metrics = [df_table.columns[index] for index in [1,2,5,6]]\n",
    "# s_china = df_table[df_table['Country/Region'].eq('China')][metrics].sum().add_prefix('China ')\n",
    "s_us = df_table[df_table['Country/Region'].eq('US')][metrics].sum().add_prefix('US ')\n",
    "s_eu = df_table[df_table['Continent'].eq('Europe')][metrics].sum().add_prefix('EU ')\n",
    "s_ind = df_table[df_table['Country/Region'].eq('India')][metrics].sum().add_prefix('India ')\n",
    "summary = {'updated': pd.to_datetime(dt_today), 'since': pd.to_datetime(dt_yday)}\n",
    "summary = {'updated': pd.to_datetime(dt_today), 'since': pd.to_datetime(dt_yday)}\n",
    "summary = {**summary, **df_table[metrics].sum(), **s_ind, **s_us, **s_eu}"
   ]
  },
  {
   "cell_type": "code",
   "execution_count": 18,
   "id": "engaging-syndrome",
   "metadata": {
    "execution": {
     "iopub.execute_input": "2022-10-21T12:22:33.364757Z",
     "iopub.status.busy": "2022-10-21T12:22:33.363926Z",
     "iopub.status.idle": "2022-10-21T12:22:33.389983Z",
     "shell.execute_reply": "2022-10-21T12:22:33.389289Z"
    },
    "papermill": {
     "duration": 0.076754,
     "end_time": "2022-10-21T12:22:33.390161",
     "exception": false,
     "start_time": "2022-10-21T12:22:33.313407",
     "status": "completed"
    },
    "tags": []
   },
   "outputs": [],
   "source": [
    "#hide\n",
    "dft_ct_new_cases = dft_cases.groupby(COL_REGION)[dt_cols].sum().diff(axis=1).fillna(0).astype(int)"
   ]
  },
  {
   "cell_type": "code",
   "execution_count": 19,
   "id": "neutral-assignment",
   "metadata": {
    "execution": {
     "iopub.execute_input": "2022-10-21T12:22:33.486589Z",
     "iopub.status.busy": "2022-10-21T12:22:33.482892Z",
     "iopub.status.idle": "2022-10-21T12:22:33.489556Z",
     "shell.execute_reply": "2022-10-21T12:22:33.490342Z"
    },
    "papermill": {
     "duration": 0.057808,
     "end_time": "2022-10-21T12:22:33.490519",
     "exception": false,
     "start_time": "2022-10-21T12:22:33.432711",
     "status": "completed"
    },
    "tags": []
   },
   "outputs": [],
   "source": [
    "#hide\n",
    "everydaycases = dft_ct_new_cases.cumsum(axis=1)"
   ]
  },
  {
   "cell_type": "code",
   "execution_count": 20,
   "id": "parliamentary-calgary",
   "metadata": {
    "execution": {
     "iopub.execute_input": "2022-10-21T12:22:33.585497Z",
     "iopub.status.busy": "2022-10-21T12:22:33.584573Z",
     "iopub.status.idle": "2022-10-21T12:22:34.335671Z",
     "shell.execute_reply": "2022-10-21T12:22:34.334999Z"
    },
    "papermill": {
     "duration": 0.799463,
     "end_time": "2022-10-21T12:22:34.335901",
     "exception": false,
     "start_time": "2022-10-21T12:22:33.536438",
     "status": "completed"
    },
    "tags": []
   },
   "outputs": [],
   "source": [
    "#hide\n",
    "import pandas as pd\n",
    "import matplotlib.pyplot as plt\n",
    "import matplotlib.ticker as ticker\n",
    "import matplotlib.animation as animation\n",
    "from IPython.display import HTML"
   ]
  },
  {
   "cell_type": "code",
   "execution_count": 21,
   "id": "lasting-extraction",
   "metadata": {
    "execution": {
     "iopub.execute_input": "2022-10-21T12:22:34.429801Z",
     "iopub.status.busy": "2022-10-21T12:22:34.428987Z",
     "iopub.status.idle": "2022-10-21T12:22:34.438928Z",
     "shell.execute_reply": "2022-10-21T12:22:34.438243Z"
    },
    "papermill": {
     "duration": 0.060485,
     "end_time": "2022-10-21T12:22:34.439084",
     "exception": false,
     "start_time": "2022-10-21T12:22:34.378599",
     "status": "completed"
    },
    "tags": []
   },
   "outputs": [],
   "source": [
    "#hide\n",
    "t = everydaycases.stack()"
   ]
  },
  {
   "cell_type": "code",
   "execution_count": 22,
   "id": "premier-sleeve",
   "metadata": {
    "execution": {
     "iopub.execute_input": "2022-10-21T12:22:34.531011Z",
     "iopub.status.busy": "2022-10-21T12:22:34.530260Z",
     "iopub.status.idle": "2022-10-21T12:22:34.546748Z",
     "shell.execute_reply": "2022-10-21T12:22:34.546008Z"
    },
    "papermill": {
     "duration": 0.064442,
     "end_time": "2022-10-21T12:22:34.546907",
     "exception": false,
     "start_time": "2022-10-21T12:22:34.482465",
     "status": "completed"
    },
    "tags": []
   },
   "outputs": [],
   "source": [
    "#hide\n",
    "g = t.reset_index(['Country/Region'])"
   ]
  },
  {
   "cell_type": "code",
   "execution_count": 23,
   "id": "distributed-pittsburgh",
   "metadata": {
    "execution": {
     "iopub.execute_input": "2022-10-21T12:22:34.640317Z",
     "iopub.status.busy": "2022-10-21T12:22:34.639432Z",
     "iopub.status.idle": "2022-10-21T12:22:34.643143Z",
     "shell.execute_reply": "2022-10-21T12:22:34.642484Z"
    },
    "papermill": {
     "duration": 0.052621,
     "end_time": "2022-10-21T12:22:34.643295",
     "exception": false,
     "start_time": "2022-10-21T12:22:34.590674",
     "status": "completed"
    },
    "tags": []
   },
   "outputs": [],
   "source": [
    "#hide\n",
    "g.index.name = 'date'"
   ]
  },
  {
   "cell_type": "code",
   "execution_count": 24,
   "id": "naked-donor",
   "metadata": {
    "execution": {
     "iopub.execute_input": "2022-10-21T12:22:34.734864Z",
     "iopub.status.busy": "2022-10-21T12:22:34.734052Z",
     "iopub.status.idle": "2022-10-21T12:22:34.737208Z",
     "shell.execute_reply": "2022-10-21T12:22:34.736561Z"
    },
    "papermill": {
     "duration": 0.051508,
     "end_time": "2022-10-21T12:22:34.737384",
     "exception": false,
     "start_time": "2022-10-21T12:22:34.685876",
     "status": "completed"
    },
    "tags": []
   },
   "outputs": [],
   "source": [
    "# #hide\n",
    "# g = g.reset_index(['date'])"
   ]
  },
  {
   "cell_type": "code",
   "execution_count": 25,
   "id": "incomplete-mustang",
   "metadata": {
    "execution": {
     "iopub.execute_input": "2022-10-21T12:22:34.825826Z",
     "iopub.status.busy": "2022-10-21T12:22:34.825015Z",
     "iopub.status.idle": "2022-10-21T12:22:34.828252Z",
     "shell.execute_reply": "2022-10-21T12:22:34.827567Z"
    },
    "papermill": {
     "duration": 0.048715,
     "end_time": "2022-10-21T12:22:34.828379",
     "exception": false,
     "start_time": "2022-10-21T12:22:34.779664",
     "status": "completed"
    },
    "tags": []
   },
   "outputs": [],
   "source": [
    "#hide\n",
    "# g.head()"
   ]
  },
  {
   "cell_type": "code",
   "execution_count": 26,
   "id": "specific-kruger",
   "metadata": {
    "execution": {
     "iopub.execute_input": "2022-10-21T12:22:34.919542Z",
     "iopub.status.busy": "2022-10-21T12:22:34.918782Z",
     "iopub.status.idle": "2022-10-21T12:22:34.923630Z",
     "shell.execute_reply": "2022-10-21T12:22:34.924225Z"
    },
    "papermill": {
     "duration": 0.051748,
     "end_time": "2022-10-21T12:22:34.924435",
     "exception": false,
     "start_time": "2022-10-21T12:22:34.872687",
     "status": "completed"
    },
    "tags": []
   },
   "outputs": [],
   "source": [
    "#hide\n",
    "# g.columns = ['date','country','cases']"
   ]
  },
  {
   "cell_type": "code",
   "execution_count": 27,
   "id": "tender-conversion",
   "metadata": {
    "execution": {
     "iopub.execute_input": "2022-10-21T12:22:35.012677Z",
     "iopub.status.busy": "2022-10-21T12:22:35.011886Z",
     "iopub.status.idle": "2022-10-21T12:22:35.014385Z",
     "shell.execute_reply": "2022-10-21T12:22:35.014960Z"
    },
    "papermill": {
     "duration": 0.048656,
     "end_time": "2022-10-21T12:22:35.015112",
     "exception": false,
     "start_time": "2022-10-21T12:22:34.966456",
     "status": "completed"
    },
    "tags": []
   },
   "outputs": [],
   "source": [
    "#hide\n",
    "# g['continent'] = g.country"
   ]
  },
  {
   "cell_type": "code",
   "execution_count": 28,
   "id": "substantial-wilderness",
   "metadata": {
    "execution": {
     "iopub.execute_input": "2022-10-21T12:22:35.105655Z",
     "iopub.status.busy": "2022-10-21T12:22:35.104871Z",
     "iopub.status.idle": "2022-10-21T12:22:35.108136Z",
     "shell.execute_reply": "2022-10-21T12:22:35.107453Z"
    },
    "papermill": {
     "duration": 0.050645,
     "end_time": "2022-10-21T12:22:35.108272",
     "exception": false,
     "start_time": "2022-10-21T12:22:35.057627",
     "status": "completed"
    },
    "tags": []
   },
   "outputs": [],
   "source": [
    "#hide\n",
    "# cols = list(g.columns.values)"
   ]
  },
  {
   "cell_type": "code",
   "execution_count": 29,
   "id": "solved-farming",
   "metadata": {
    "execution": {
     "iopub.execute_input": "2022-10-21T12:22:35.197461Z",
     "iopub.status.busy": "2022-10-21T12:22:35.196547Z",
     "iopub.status.idle": "2022-10-21T12:22:35.201188Z",
     "shell.execute_reply": "2022-10-21T12:22:35.201842Z"
    },
    "papermill": {
     "duration": 0.051448,
     "end_time": "2022-10-21T12:22:35.202029",
     "exception": false,
     "start_time": "2022-10-21T12:22:35.150581",
     "status": "completed"
    },
    "tags": []
   },
   "outputs": [],
   "source": [
    "#hide\n",
    "# cols.insert(0, cols.pop())"
   ]
  },
  {
   "cell_type": "code",
   "execution_count": 30,
   "id": "executed-adoption",
   "metadata": {
    "execution": {
     "iopub.execute_input": "2022-10-21T12:22:35.290370Z",
     "iopub.status.busy": "2022-10-21T12:22:35.289542Z",
     "iopub.status.idle": "2022-10-21T12:22:35.294178Z",
     "shell.execute_reply": "2022-10-21T12:22:35.294804Z"
    },
    "papermill": {
     "duration": 0.050854,
     "end_time": "2022-10-21T12:22:35.295023",
     "exception": false,
     "start_time": "2022-10-21T12:22:35.244169",
     "status": "completed"
    },
    "tags": []
   },
   "outputs": [],
   "source": [
    "#hide\n",
    "# g = g[cols]"
   ]
  },
  {
   "cell_type": "code",
   "execution_count": 31,
   "id": "subject-dublin",
   "metadata": {
    "execution": {
     "iopub.execute_input": "2022-10-21T12:22:35.383716Z",
     "iopub.status.busy": "2022-10-21T12:22:35.382741Z",
     "iopub.status.idle": "2022-10-21T12:22:35.386122Z",
     "shell.execute_reply": "2022-10-21T12:22:35.385394Z"
    },
    "papermill": {
     "duration": 0.048609,
     "end_time": "2022-10-21T12:22:35.386274",
     "exception": false,
     "start_time": "2022-10-21T12:22:35.337665",
     "status": "completed"
    },
    "tags": []
   },
   "outputs": [],
   "source": [
    "#hide\n",
    "# g['continent'] = g['continent'].map(mapping['map.continent'])"
   ]
  },
  {
   "cell_type": "code",
   "execution_count": 32,
   "id": "freelance-scout",
   "metadata": {
    "execution": {
     "iopub.execute_input": "2022-10-21T12:22:35.476145Z",
     "iopub.status.busy": "2022-10-21T12:22:35.475235Z",
     "iopub.status.idle": "2022-10-21T12:22:35.478695Z",
     "shell.execute_reply": "2022-10-21T12:22:35.478095Z"
    },
    "papermill": {
     "duration": 0.051193,
     "end_time": "2022-10-21T12:22:35.478856",
     "exception": false,
     "start_time": "2022-10-21T12:22:35.427663",
     "status": "completed"
    },
    "tags": []
   },
   "outputs": [],
   "source": [
    "#hide\n",
    "# g.head()"
   ]
  },
  {
   "cell_type": "code",
   "execution_count": 33,
   "id": "limited-engine",
   "metadata": {
    "execution": {
     "iopub.execute_input": "2022-10-21T12:22:35.574367Z",
     "iopub.status.busy": "2022-10-21T12:22:35.573543Z",
     "iopub.status.idle": "2022-10-21T12:22:35.576819Z",
     "shell.execute_reply": "2022-10-21T12:22:35.576037Z"
    },
    "papermill": {
     "duration": 0.054512,
     "end_time": "2022-10-21T12:22:35.576969",
     "exception": false,
     "start_time": "2022-10-21T12:22:35.522457",
     "status": "completed"
    },
    "tags": []
   },
   "outputs": [],
   "source": [
    "# hide\n",
    "# g['date'] = g['date'].astype('datetime64[ns]')"
   ]
  },
  {
   "cell_type": "code",
   "execution_count": 34,
   "id": "sophisticated-supervisor",
   "metadata": {
    "execution": {
     "iopub.execute_input": "2022-10-21T12:22:35.666772Z",
     "iopub.status.busy": "2022-10-21T12:22:35.666017Z",
     "iopub.status.idle": "2022-10-21T12:22:35.669170Z",
     "shell.execute_reply": "2022-10-21T12:22:35.668305Z"
    },
    "papermill": {
     "duration": 0.048967,
     "end_time": "2022-10-21T12:22:35.669307",
     "exception": false,
     "start_time": "2022-10-21T12:22:35.620340",
     "status": "completed"
    },
    "tags": []
   },
   "outputs": [],
   "source": [
    "#hide\n",
    "# g['date'] = g.date.dt.dayofyear"
   ]
  },
  {
   "cell_type": "code",
   "execution_count": 35,
   "id": "inside-dubai",
   "metadata": {
    "execution": {
     "iopub.execute_input": "2022-10-21T12:22:35.758212Z",
     "iopub.status.busy": "2022-10-21T12:22:35.757441Z",
     "iopub.status.idle": "2022-10-21T12:22:35.760156Z",
     "shell.execute_reply": "2022-10-21T12:22:35.760933Z"
    },
    "papermill": {
     "duration": 0.050092,
     "end_time": "2022-10-21T12:22:35.761106",
     "exception": false,
     "start_time": "2022-10-21T12:22:35.711014",
     "status": "completed"
    },
    "tags": []
   },
   "outputs": [],
   "source": [
    "#hide\n",
    "# g = g.rename(columns= {'continent':'group','country':'name','cases':'value'})"
   ]
  },
  {
   "cell_type": "code",
   "execution_count": 36,
   "id": "fleet-motorcycle",
   "metadata": {
    "execution": {
     "iopub.execute_input": "2022-10-21T12:22:35.852165Z",
     "iopub.status.busy": "2022-10-21T12:22:35.851294Z",
     "iopub.status.idle": "2022-10-21T12:22:35.856106Z",
     "shell.execute_reply": "2022-10-21T12:22:35.855284Z"
    },
    "papermill": {
     "duration": 0.052241,
     "end_time": "2022-10-21T12:22:35.856257",
     "exception": false,
     "start_time": "2022-10-21T12:22:35.804016",
     "status": "completed"
    },
    "tags": []
   },
   "outputs": [],
   "source": [
    "#hide\n",
    "# cols = ['name','group','day','value']"
   ]
  },
  {
   "cell_type": "code",
   "execution_count": 37,
   "id": "continued-sleeping",
   "metadata": {
    "execution": {
     "iopub.execute_input": "2022-10-21T12:22:35.945230Z",
     "iopub.status.busy": "2022-10-21T12:22:35.944518Z",
     "iopub.status.idle": "2022-10-21T12:22:35.947648Z",
     "shell.execute_reply": "2022-10-21T12:22:35.947024Z"
    },
    "papermill": {
     "duration": 0.048904,
     "end_time": "2022-10-21T12:22:35.947797",
     "exception": false,
     "start_time": "2022-10-21T12:22:35.898893",
     "status": "completed"
    },
    "tags": []
   },
   "outputs": [],
   "source": [
    "#hide\n",
    "# g.rename(columns= {'date':'day'},inplace = True)"
   ]
  },
  {
   "cell_type": "code",
   "execution_count": 38,
   "id": "major-fight",
   "metadata": {
    "execution": {
     "iopub.execute_input": "2022-10-21T12:22:36.034537Z",
     "iopub.status.busy": "2022-10-21T12:22:36.033728Z",
     "iopub.status.idle": "2022-10-21T12:22:36.040518Z",
     "shell.execute_reply": "2022-10-21T12:22:36.041130Z"
    },
    "papermill": {
     "duration": 0.052242,
     "end_time": "2022-10-21T12:22:36.041321",
     "exception": false,
     "start_time": "2022-10-21T12:22:35.989079",
     "status": "completed"
    },
    "tags": []
   },
   "outputs": [],
   "source": [
    "#hide\n",
    "# g = g[cols]"
   ]
  },
  {
   "cell_type": "code",
   "execution_count": 39,
   "id": "structured-mobile",
   "metadata": {
    "execution": {
     "iopub.execute_input": "2022-10-21T12:22:36.133479Z",
     "iopub.status.busy": "2022-10-21T12:22:36.132560Z",
     "iopub.status.idle": "2022-10-21T12:22:36.135186Z",
     "shell.execute_reply": "2022-10-21T12:22:36.134429Z"
    },
    "papermill": {
     "duration": 0.049756,
     "end_time": "2022-10-21T12:22:36.135328",
     "exception": false,
     "start_time": "2022-10-21T12:22:36.085572",
     "status": "completed"
    },
    "tags": []
   },
   "outputs": [],
   "source": [
    "# #hide\n",
    "# g = g[g.group.notna()]"
   ]
  },
  {
   "cell_type": "code",
   "execution_count": 40,
   "id": "determined-closing",
   "metadata": {
    "execution": {
     "iopub.execute_input": "2022-10-21T12:22:36.224755Z",
     "iopub.status.busy": "2022-10-21T12:22:36.223952Z",
     "iopub.status.idle": "2022-10-21T12:22:36.227252Z",
     "shell.execute_reply": "2022-10-21T12:22:36.226574Z"
    },
    "papermill": {
     "duration": 0.049431,
     "end_time": "2022-10-21T12:22:36.227390",
     "exception": false,
     "start_time": "2022-10-21T12:22:36.177959",
     "status": "completed"
    },
    "tags": []
   },
   "outputs": [],
   "source": [
    "# #hide\n",
    "# colors = dict(zip(\n",
    "#     [\"Oceania\", \"Europe\", \"Asia\", \"South America\", \"Middle East\", \"North America\", \"Africa\"],\n",
    "#     [\"#adb0ff\", \"#ffb3ff\", \"#90d595\", \"#e48381\", \"#aafbff\", \"#f7bb5f\", \"#eafb50\"]\n",
    "# ))\n",
    "# group_lk = g.set_index('name')['group'].to_dict()"
   ]
  },
  {
   "cell_type": "code",
   "execution_count": null,
   "id": "gross-drinking",
   "metadata": {
    "papermill": {
     "duration": 0.042189,
     "end_time": "2022-10-21T12:22:36.312994",
     "exception": false,
     "start_time": "2022-10-21T12:22:36.270805",
     "status": "completed"
    },
    "tags": []
   },
   "outputs": [],
   "source": []
  },
  {
   "cell_type": "code",
   "execution_count": 41,
   "id": "subject-macintosh",
   "metadata": {
    "execution": {
     "iopub.execute_input": "2022-10-21T12:22:36.406241Z",
     "iopub.status.busy": "2022-10-21T12:22:36.405316Z",
     "iopub.status.idle": "2022-10-21T12:22:36.408026Z",
     "shell.execute_reply": "2022-10-21T12:22:36.408690Z"
    },
    "papermill": {
     "duration": 0.051093,
     "end_time": "2022-10-21T12:22:36.408864",
     "exception": false,
     "start_time": "2022-10-21T12:22:36.357771",
     "status": "completed"
    },
    "tags": []
   },
   "outputs": [],
   "source": [
    "# #hide\n",
    "# fig, ax = plt.subplots(figsize=(15, 8))\n",
    "\n",
    "# def draw_barchart(current_day):\n",
    "#     dff = g[g['day'].eq(current_day)].sort_values(by='value', ascending=True).tail(10)\n",
    "#     ax.clear()\n",
    "#     ax.barh(dff['name'], dff['value'], color=[colors[group_lk[x]] for x in dff['name']])\n",
    "#     dx = dff['value'].max() / 200\n",
    "    \n",
    "#     for i, (value, name) in enumerate(zip(dff['value'], dff['name'])):\n",
    "#         ax.text(value-dx, i,     name,           size=14, weight=600, ha='right', va='bottom')\n",
    "#         ax.text(value-dx, i-.25, group_lk[name], size=10, color='#444444', ha='right', va='baseline')\n",
    "#         ax.text(value+dx, i,     f'{value:,.0f}',  size=14, ha='left',  va='center')\n",
    "#     ax.text(1, 0.4, current_day, transform=ax.transAxes, color='#777777', size=46, ha='right', weight=800)\n",
    "#     ax.text(0, 1.06, 'Population (thousands)', transform=ax.transAxes, size=12, color='#777777')\n",
    "#     ax.xaxis.set_major_formatter(ticker.StrMethodFormatter('{x:,.0f}'))\n",
    "#     ax.xaxis.set_ticks_position('top')\n",
    "#     ax.tick_params(axis='x', colors='#777777', labelsize=12)\n",
    "#     ax.set_yticks([])\n",
    "#     ax.margins(0, 0.01)\n",
    "#     ax.grid(which='major', axis='x', linestyle='-')\n",
    "#     ax.set_axisbelow(True)\n",
    "    \n",
    "#     ax.text(0, 1.15, 'Coronavirus',\n",
    "#             transform=ax.transAxes, size=24, weight=600, ha='left', va='top')\n",
    "# #     ax.text(1, 0, 'by @pratapvardhan; credit @jburnmurdoch', transform=ax.transAxes, color='#777777', ha='right',\n",
    "# #             bbox=dict(facecolor='white', alpha=0.8, edgecolor='white'))\n",
    "#     plt.box(False)"
   ]
  },
  {
   "cell_type": "code",
   "execution_count": 42,
   "id": "sexual-wages",
   "metadata": {
    "execution": {
     "iopub.execute_input": "2022-10-21T12:22:36.501214Z",
     "iopub.status.busy": "2022-10-21T12:22:36.500404Z",
     "iopub.status.idle": "2022-10-21T12:22:36.503732Z",
     "shell.execute_reply": "2022-10-21T12:22:36.503028Z"
    },
    "papermill": {
     "duration": 0.051897,
     "end_time": "2022-10-21T12:22:36.503895",
     "exception": false,
     "start_time": "2022-10-21T12:22:36.451998",
     "status": "completed"
    },
    "tags": []
   },
   "outputs": [],
   "source": [
    "# #hide_input\n",
    "# fig, ax = plt.subplots(figsize=(15, 8))\n",
    "# animator = animation.FuncAnimation(fig, draw_barchart, frames=range(g.day.values.min(), g.day.values.max()))\n",
    "# HTML(animator.to_jshtml())\n",
    "# # or use animator.to_html5_video() or animator.save() "
   ]
  },
  {
   "cell_type": "code",
   "execution_count": null,
   "id": "australian-container",
   "metadata": {
    "papermill": {
     "duration": 0.046926,
     "end_time": "2022-10-21T12:22:36.592966",
     "exception": false,
     "start_time": "2022-10-21T12:22:36.546040",
     "status": "completed"
    },
    "tags": []
   },
   "outputs": [],
   "source": []
  },
  {
   "cell_type": "code",
   "execution_count": null,
   "id": "mediterranean-pontiac",
   "metadata": {
    "papermill": {
     "duration": 0.041225,
     "end_time": "2022-10-21T12:22:36.677921",
     "exception": false,
     "start_time": "2022-10-21T12:22:36.636696",
     "status": "completed"
    },
    "tags": []
   },
   "outputs": [],
   "source": []
  },
  {
   "cell_type": "code",
   "execution_count": null,
   "id": "aging-legislature",
   "metadata": {
    "papermill": {
     "duration": 0.04238,
     "end_time": "2022-10-21T12:22:36.761079",
     "exception": false,
     "start_time": "2022-10-21T12:22:36.718699",
     "status": "completed"
    },
    "tags": []
   },
   "outputs": [],
   "source": []
  }
 ],
 "metadata": {
  "kernelspec": {
   "display_name": "Python 3",
   "language": "python",
   "name": "python3"
  },
  "language_info": {
   "codemirror_mode": {
    "name": "ipython",
    "version": 3
   },
   "file_extension": ".py",
   "mimetype": "text/x-python",
   "name": "python",
   "nbconvert_exporter": "python",
   "pygments_lexer": "ipython3",
   "version": "3.6.15"
  },
  "papermill": {
   "duration": 8.174171,
   "end_time": "2022-10-21T12:22:37.222943",
   "environment_variables": {},
   "exception": null,
   "input_path": "2020-03-21-covid19exp.ipynb",
   "output_path": "2020-03-21-covid19exp.ipynb",
   "parameters": {},
   "start_time": "2022-10-21T12:22:29.048772",
   "version": "2.0.0"
  }
 },
 "nbformat": 4,
 "nbformat_minor": 5
}