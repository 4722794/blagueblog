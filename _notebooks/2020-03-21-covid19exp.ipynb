{
 "cells": [
  {
   "cell_type": "markdown",
   "id": "muslim-click",
   "metadata": {
    "papermill": {
     "duration": 0.036358,
     "end_time": "2022-06-03T12:16:15.206986",
     "exception": false,
     "start_time": "2022-06-03T12:16:15.170628",
     "status": "completed"
    },
    "tags": []
   },
   "source": [
    "# COVID-19 Case Race\n",
    "> A race chart to see rising cases around the world\n",
    "\n",
    "- author: Hargun Oberoi\n",
    "- image: images/covid-overview.png\n",
    "- hide: false\n",
    "- badges: false"
   ]
  },
  {
   "cell_type": "code",
   "execution_count": 1,
   "id": "proof-material",
   "metadata": {
    "execution": {
     "iopub.execute_input": "2022-06-03T12:16:15.279055Z",
     "iopub.status.busy": "2022-06-03T12:16:15.278347Z",
     "iopub.status.idle": "2022-06-03T12:16:15.617252Z",
     "shell.execute_reply": "2022-06-03T12:16:15.616648Z"
    },
    "papermill": {
     "duration": 0.379836,
     "end_time": "2022-06-03T12:16:15.617410",
     "exception": false,
     "start_time": "2022-06-03T12:16:15.237574",
     "status": "completed"
    },
    "tags": []
   },
   "outputs": [],
   "source": [
    "#hide\n",
    "import numpy as np\n",
    "import pandas as pd\n",
    "from jinja2 import Template\n",
    "from IPython.display import HTML"
   ]
  },
  {
   "cell_type": "code",
   "execution_count": 2,
   "id": "developed-terminology",
   "metadata": {
    "execution": {
     "iopub.execute_input": "2022-06-03T12:16:15.683538Z",
     "iopub.status.busy": "2022-06-03T12:16:15.682802Z",
     "iopub.status.idle": "2022-06-03T12:16:15.684525Z",
     "shell.execute_reply": "2022-06-03T12:16:15.685012Z"
    },
    "papermill": {
     "duration": 0.037247,
     "end_time": "2022-06-03T12:16:15.685147",
     "exception": false,
     "start_time": "2022-06-03T12:16:15.647900",
     "status": "completed"
    },
    "tags": []
   },
   "outputs": [],
   "source": [
    "#hide\n",
    "\n",
    "# FETCH\n",
    "base_url = 'https://raw.githubusercontent.com/pratapvardhan/notebooks/master/covid19/'\n",
    "paths = {\n",
    "    'mapping': base_url + 'mapping_countries.csv',\n",
    "    'overview': base_url + 'overview.tpl'\n",
    "}"
   ]
  },
  {
   "cell_type": "code",
   "execution_count": 3,
   "id": "dynamic-saver",
   "metadata": {
    "execution": {
     "iopub.execute_input": "2022-06-03T12:16:15.753840Z",
     "iopub.status.busy": "2022-06-03T12:16:15.753241Z",
     "iopub.status.idle": "2022-06-03T12:16:15.755891Z",
     "shell.execute_reply": "2022-06-03T12:16:15.756455Z"
    },
    "papermill": {
     "duration": 0.042111,
     "end_time": "2022-06-03T12:16:15.756589",
     "exception": false,
     "start_time": "2022-06-03T12:16:15.714478",
     "status": "completed"
    },
    "tags": []
   },
   "outputs": [
    {
     "data": {
      "text/plain": [
       "'https://raw.githubusercontent.com/pratapvardhan/notebooks/master/covid19/mapping_countries.csv'"
      ]
     },
     "execution_count": 3,
     "metadata": {},
     "output_type": "execute_result"
    }
   ],
   "source": [
    "#hide\n",
    "paths['mapping']"
   ]
  },
  {
   "cell_type": "code",
   "execution_count": 4,
   "id": "urban-software",
   "metadata": {
    "execution": {
     "iopub.execute_input": "2022-06-03T12:16:15.823729Z",
     "iopub.status.busy": "2022-06-03T12:16:15.823090Z",
     "iopub.status.idle": "2022-06-03T12:16:15.825198Z",
     "shell.execute_reply": "2022-06-03T12:16:15.825626Z"
    },
    "papermill": {
     "duration": 0.039232,
     "end_time": "2022-06-03T12:16:15.825773",
     "exception": false,
     "start_time": "2022-06-03T12:16:15.786541",
     "status": "completed"
    },
    "tags": []
   },
   "outputs": [],
   "source": [
    "#hide\n",
    "def get_mappings(url):\n",
    "    df = pd.read_csv(url)\n",
    "    return {\n",
    "        'df': df,\n",
    "        'replace.country': dict(df.dropna(subset=['Name']).set_index('Country')['Name']),\n",
    "        'map.continent': dict(df.set_index('Name')['Continent'])\n",
    "    }"
   ]
  },
  {
   "cell_type": "code",
   "execution_count": 5,
   "id": "intimate-machinery",
   "metadata": {
    "execution": {
     "iopub.execute_input": "2022-06-03T12:16:15.891622Z",
     "iopub.status.busy": "2022-06-03T12:16:15.890997Z",
     "iopub.status.idle": "2022-06-03T12:16:15.916126Z",
     "shell.execute_reply": "2022-06-03T12:16:15.915589Z"
    },
    "papermill": {
     "duration": 0.060699,
     "end_time": "2022-06-03T12:16:15.916266",
     "exception": false,
     "start_time": "2022-06-03T12:16:15.855567",
     "status": "completed"
    },
    "tags": []
   },
   "outputs": [],
   "source": [
    "#hide\n",
    "mapping = get_mappings(paths['mapping'])"
   ]
  },
  {
   "cell_type": "code",
   "execution_count": 6,
   "id": "certified-tactics",
   "metadata": {
    "execution": {
     "iopub.execute_input": "2022-06-03T12:16:15.982648Z",
     "iopub.status.busy": "2022-06-03T12:16:15.981970Z",
     "iopub.status.idle": "2022-06-03T12:16:15.984528Z",
     "shell.execute_reply": "2022-06-03T12:16:15.984042Z"
    },
    "papermill": {
     "duration": 0.038,
     "end_time": "2022-06-03T12:16:15.984643",
     "exception": false,
     "start_time": "2022-06-03T12:16:15.946643",
     "status": "completed"
    },
    "tags": []
   },
   "outputs": [],
   "source": [
    "#hide\n",
    "def get_template(path):\n",
    "    from urllib.parse import urlparse\n",
    "    if bool(urlparse(path).netloc):\n",
    "        from urllib.request import urlopen\n",
    "        return urlopen(path).read().decode('utf8')\n",
    "    return open(path).read()"
   ]
  },
  {
   "cell_type": "code",
   "execution_count": 7,
   "id": "realistic-blast",
   "metadata": {
    "execution": {
     "iopub.execute_input": "2022-06-03T12:16:16.049793Z",
     "iopub.status.busy": "2022-06-03T12:16:16.049185Z",
     "iopub.status.idle": "2022-06-03T12:16:16.051784Z",
     "shell.execute_reply": "2022-06-03T12:16:16.052263Z"
    },
    "papermill": {
     "duration": 0.03784,
     "end_time": "2022-06-03T12:16:16.052398",
     "exception": false,
     "start_time": "2022-06-03T12:16:16.014558",
     "status": "completed"
    },
    "tags": []
   },
   "outputs": [],
   "source": [
    "#hide\n",
    "def get_frame(name):\n",
    "    url = (\n",
    "        'https://raw.githubusercontent.com/CSSEGISandData/COVID-19/master/csse_covid_19_data/'\n",
    "        f'csse_covid_19_time_series/time_series_covid19_{name}_global.csv')\n",
    "    df = pd.read_csv(url)\n",
    "    # rename countries\n",
    "    df['Country/Region'] = df['Country/Region'].replace(mapping['replace.country'])\n",
    "    return df"
   ]
  },
  {
   "cell_type": "code",
   "execution_count": 8,
   "id": "affiliated-characterization",
   "metadata": {
    "execution": {
     "iopub.execute_input": "2022-06-03T12:16:16.119058Z",
     "iopub.status.busy": "2022-06-03T12:16:16.118259Z",
     "iopub.status.idle": "2022-06-03T12:16:16.120057Z",
     "shell.execute_reply": "2022-06-03T12:16:16.120570Z"
    },
    "papermill": {
     "duration": 0.038419,
     "end_time": "2022-06-03T12:16:16.120720",
     "exception": false,
     "start_time": "2022-06-03T12:16:16.082301",
     "status": "completed"
    },
    "tags": []
   },
   "outputs": [],
   "source": [
    "#hide\n",
    "def get_dates(df):\n",
    "    dt_cols = df.columns[~df.columns.isin(['Province/State', 'Country/Region', 'Lat', 'Long'])]\n",
    "    LAST_DATE_I = -1\n",
    "    # sometimes last column may be empty, then go backwards\n",
    "    for i in range(-1, -len(dt_cols), -1):\n",
    "        if not df[dt_cols[i]].fillna(0).eq(0).all():\n",
    "            LAST_DATE_I = i\n",
    "            break\n",
    "    return LAST_DATE_I, dt_cols"
   ]
  },
  {
   "cell_type": "code",
   "execution_count": 9,
   "id": "recent-optimization",
   "metadata": {
    "execution": {
     "iopub.execute_input": "2022-06-03T12:16:16.186196Z",
     "iopub.status.busy": "2022-06-03T12:16:16.185527Z",
     "iopub.status.idle": "2022-06-03T12:16:16.540080Z",
     "shell.execute_reply": "2022-06-03T12:16:16.539482Z"
    },
    "papermill": {
     "duration": 0.389638,
     "end_time": "2022-06-03T12:16:16.540227",
     "exception": false,
     "start_time": "2022-06-03T12:16:16.150589",
     "status": "completed"
    },
    "tags": []
   },
   "outputs": [],
   "source": [
    "#hide\n",
    "COL_REGION = 'Country/Region'\n",
    "# Confirmed, Recovered, Deaths\n",
    "df = get_frame('confirmed')\n",
    "# dft_: timeseries, dfc_: today country agg\n",
    "dft_cases = df\n",
    "dft_deaths = get_frame('deaths')\n",
    "dft_recovered = get_frame('recovered')\n",
    "LAST_DATE_I, dt_cols = get_dates(df)"
   ]
  },
  {
   "cell_type": "code",
   "execution_count": 10,
   "id": "absolute-copper",
   "metadata": {
    "execution": {
     "iopub.execute_input": "2022-06-03T12:16:16.606532Z",
     "iopub.status.busy": "2022-06-03T12:16:16.605872Z",
     "iopub.status.idle": "2022-06-03T12:16:16.608385Z",
     "shell.execute_reply": "2022-06-03T12:16:16.607904Z"
    },
    "papermill": {
     "duration": 0.037906,
     "end_time": "2022-06-03T12:16:16.608502",
     "exception": false,
     "start_time": "2022-06-03T12:16:16.570596",
     "status": "completed"
    },
    "tags": []
   },
   "outputs": [],
   "source": [
    "#hide\n",
    "LAST_DATE_I, dt_cols = get_dates(df)\n",
    "dt_today =dt_cols[LAST_DATE_I]\n",
    "# dt_5day = dt_cols[LAST_DATE_I - 5]\n",
    "dt_yday = dt_cols[LAST_DATE_I - 1]"
   ]
  },
  {
   "cell_type": "code",
   "execution_count": 11,
   "id": "restricted-sheriff",
   "metadata": {
    "execution": {
     "iopub.execute_input": "2022-06-03T12:16:16.676216Z",
     "iopub.status.busy": "2022-06-03T12:16:16.675617Z",
     "iopub.status.idle": "2022-06-03T12:16:16.681522Z",
     "shell.execute_reply": "2022-06-03T12:16:16.682000Z"
    },
    "papermill": {
     "duration": 0.044013,
     "end_time": "2022-06-03T12:16:16.682135",
     "exception": false,
     "start_time": "2022-06-03T12:16:16.638122",
     "status": "completed"
    },
    "tags": []
   },
   "outputs": [],
   "source": [
    "#hide\n",
    "dfc_cases = dft_cases.groupby(COL_REGION)[dt_today].sum()\n",
    "dfc_deaths = dft_deaths.groupby(COL_REGION)[dt_today].sum()\n",
    "# dfp_cases = dft_cases.groupby(COL_REGION)[dt_5day].sum()\n",
    "# dfp_deaths = dft_deaths.groupby(COL_REGION)[dt_5day].sum()\n",
    "dfp_cases = dft_cases.groupby(COL_REGION)[dt_yday].sum()\n",
    "dfp_deaths = dft_deaths.groupby(COL_REGION)[dt_yday].sum()"
   ]
  },
  {
   "cell_type": "code",
   "execution_count": 12,
   "id": "deluxe-hepatitis",
   "metadata": {
    "execution": {
     "iopub.execute_input": "2022-06-03T12:16:16.748635Z",
     "iopub.status.busy": "2022-06-03T12:16:16.748035Z",
     "iopub.status.idle": "2022-06-03T12:16:16.752018Z",
     "shell.execute_reply": "2022-06-03T12:16:16.752574Z"
    },
    "papermill": {
     "duration": 0.040766,
     "end_time": "2022-06-03T12:16:16.752710",
     "exception": false,
     "start_time": "2022-06-03T12:16:16.711944",
     "status": "completed"
    },
    "tags": []
   },
   "outputs": [],
   "source": [
    "#hide\n",
    "df_table = (pd.DataFrame(dict(Cases = dfc_cases, Deaths = dfc_deaths, PCases = dfp_cases, PDeaths = dfp_deaths))\n",
    "            .sort_values(by = ['Cases','Deaths'], ascending = [False, False])\n",
    "            .reset_index())"
   ]
  },
  {
   "cell_type": "code",
   "execution_count": 13,
   "id": "educational-chancellor",
   "metadata": {
    "execution": {
     "iopub.execute_input": "2022-06-03T12:16:16.830634Z",
     "iopub.status.busy": "2022-06-03T12:16:16.829951Z",
     "iopub.status.idle": "2022-06-03T12:16:16.838256Z",
     "shell.execute_reply": "2022-06-03T12:16:16.837662Z"
    },
    "papermill": {
     "duration": 0.055868,
     "end_time": "2022-06-03T12:16:16.838395",
     "exception": false,
     "start_time": "2022-06-03T12:16:16.782527",
     "status": "completed"
    },
    "tags": []
   },
   "outputs": [
    {
     "data": {
      "text/html": [
       "<div>\n",
       "<style scoped>\n",
       "    .dataframe tbody tr th:only-of-type {\n",
       "        vertical-align: middle;\n",
       "    }\n",
       "\n",
       "    .dataframe tbody tr th {\n",
       "        vertical-align: top;\n",
       "    }\n",
       "\n",
       "    .dataframe thead th {\n",
       "        text-align: right;\n",
       "    }\n",
       "</style>\n",
       "<table border=\"1\" class=\"dataframe\">\n",
       "  <thead>\n",
       "    <tr style=\"text-align: right;\">\n",
       "      <th></th>\n",
       "      <th>Country/Region</th>\n",
       "      <th>Cases</th>\n",
       "      <th>Deaths</th>\n",
       "      <th>PCases</th>\n",
       "      <th>PDeaths</th>\n",
       "      <th>Cases (+)</th>\n",
       "      <th>Deaths (+)</th>\n",
       "      <th>Fatality Rate</th>\n",
       "      <th>Continent</th>\n",
       "    </tr>\n",
       "  </thead>\n",
       "  <tbody>\n",
       "    <tr>\n",
       "      <th>0</th>\n",
       "      <td>US</td>\n",
       "      <td>84545475</td>\n",
       "      <td>1008031</td>\n",
       "      <td>84444990</td>\n",
       "      <td>1007685</td>\n",
       "      <td>100485</td>\n",
       "      <td>346</td>\n",
       "      <td>1.19</td>\n",
       "      <td>North America</td>\n",
       "    </tr>\n",
       "    <tr>\n",
       "      <th>1</th>\n",
       "      <td>India</td>\n",
       "      <td>43168585</td>\n",
       "      <td>524651</td>\n",
       "      <td>43164544</td>\n",
       "      <td>524641</td>\n",
       "      <td>4041</td>\n",
       "      <td>10</td>\n",
       "      <td>1.22</td>\n",
       "      <td>Asia</td>\n",
       "    </tr>\n",
       "    <tr>\n",
       "      <th>2</th>\n",
       "      <td>Brazil</td>\n",
       "      <td>31101290</td>\n",
       "      <td>666930</td>\n",
       "      <td>31060017</td>\n",
       "      <td>666801</td>\n",
       "      <td>41273</td>\n",
       "      <td>129</td>\n",
       "      <td>2.14</td>\n",
       "      <td>South America</td>\n",
       "    </tr>\n",
       "    <tr>\n",
       "      <th>3</th>\n",
       "      <td>France</td>\n",
       "      <td>29763546</td>\n",
       "      <td>149465</td>\n",
       "      <td>29738170</td>\n",
       "      <td>149424</td>\n",
       "      <td>25376</td>\n",
       "      <td>41</td>\n",
       "      <td>0.50</td>\n",
       "      <td>Europe</td>\n",
       "    </tr>\n",
       "    <tr>\n",
       "      <th>4</th>\n",
       "      <td>Germany</td>\n",
       "      <td>26452148</td>\n",
       "      <td>139313</td>\n",
       "      <td>26409455</td>\n",
       "      <td>139222</td>\n",
       "      <td>42693</td>\n",
       "      <td>91</td>\n",
       "      <td>0.53</td>\n",
       "      <td>Europe</td>\n",
       "    </tr>\n",
       "  </tbody>\n",
       "</table>\n",
       "</div>"
      ],
      "text/plain": [
       "  Country/Region     Cases   Deaths    PCases  PDeaths  Cases (+)  Deaths (+)  \\\n",
       "0             US  84545475  1008031  84444990  1007685     100485         346   \n",
       "1          India  43168585   524651  43164544   524641       4041          10   \n",
       "2         Brazil  31101290   666930  31060017   666801      41273         129   \n",
       "3         France  29763546   149465  29738170   149424      25376          41   \n",
       "4        Germany  26452148   139313  26409455   139222      42693          91   \n",
       "\n",
       "   Fatality Rate      Continent  \n",
       "0           1.19  North America  \n",
       "1           1.22           Asia  \n",
       "2           2.14  South America  \n",
       "3           0.50         Europe  \n",
       "4           0.53         Europe  "
      ]
     },
     "execution_count": 13,
     "metadata": {},
     "output_type": "execute_result"
    }
   ],
   "source": [
    "#hide\n",
    "for c in 'Cases, Deaths'.split(', '):\n",
    "    df_table[f'{c} (+)'] = (df_table[c] - df_table[f'P{c}']).clip(0)\n",
    "    #Clip ça veut dire, les chiffres negatif sont interdit\n",
    "df_table['Fatality Rate'] = (100* df_table['Deaths']/ df_table['Cases']).round(2)\n",
    "df_table['Continent'] = df_table['Country/Region'].map(mapping['map.continent'])\n",
    "df_table.head(5)"
   ]
  },
  {
   "cell_type": "code",
   "execution_count": 14,
   "id": "aboriginal-bulgaria",
   "metadata": {
    "execution": {
     "iopub.execute_input": "2022-06-03T12:16:16.906662Z",
     "iopub.status.busy": "2022-06-03T12:16:16.905902Z",
     "iopub.status.idle": "2022-06-03T12:16:16.907795Z",
     "shell.execute_reply": "2022-06-03T12:16:16.908310Z"
    },
    "papermill": {
     "duration": 0.039177,
     "end_time": "2022-06-03T12:16:16.908460",
     "exception": false,
     "start_time": "2022-06-03T12:16:16.869283",
     "status": "completed"
    },
    "tags": []
   },
   "outputs": [],
   "source": [
    "#hide\n",
    "#delete problematic countries from table\n",
    "df_table = df_table[~df_table['Country/Region'].isin(['Cape Verde', 'Cruise Ship', 'Kosovo'])]"
   ]
  },
  {
   "cell_type": "code",
   "execution_count": 15,
   "id": "fantastic-effect",
   "metadata": {
    "execution": {
     "iopub.execute_input": "2022-06-03T12:16:16.977512Z",
     "iopub.status.busy": "2022-06-03T12:16:16.976879Z",
     "iopub.status.idle": "2022-06-03T12:16:16.996200Z",
     "shell.execute_reply": "2022-06-03T12:16:16.995651Z"
    },
    "papermill": {
     "duration": 0.057525,
     "end_time": "2022-06-03T12:16:16.996331",
     "exception": false,
     "start_time": "2022-06-03T12:16:16.938806",
     "status": "completed"
    },
    "tags": []
   },
   "outputs": [
    {
     "data": {
      "text/html": [
       "<div>\n",
       "<style scoped>\n",
       "    .dataframe tbody tr th:only-of-type {\n",
       "        vertical-align: middle;\n",
       "    }\n",
       "\n",
       "    .dataframe tbody tr th {\n",
       "        vertical-align: top;\n",
       "    }\n",
       "\n",
       "    .dataframe thead th {\n",
       "        text-align: right;\n",
       "    }\n",
       "</style>\n",
       "<table border=\"1\" class=\"dataframe\">\n",
       "  <thead>\n",
       "    <tr style=\"text-align: right;\">\n",
       "      <th></th>\n",
       "      <th>Country/Region</th>\n",
       "      <th>Cases</th>\n",
       "      <th>Deaths</th>\n",
       "      <th>PCases</th>\n",
       "      <th>PDeaths</th>\n",
       "      <th>Cases (+)</th>\n",
       "      <th>Deaths (+)</th>\n",
       "      <th>Fatality Rate</th>\n",
       "      <th>Continent</th>\n",
       "    </tr>\n",
       "  </thead>\n",
       "  <tbody>\n",
       "    <tr>\n",
       "      <th>0</th>\n",
       "      <td>US</td>\n",
       "      <td>84545475</td>\n",
       "      <td>1008031</td>\n",
       "      <td>84444990</td>\n",
       "      <td>1007685</td>\n",
       "      <td>100485</td>\n",
       "      <td>346</td>\n",
       "      <td>1.2</td>\n",
       "      <td>North America</td>\n",
       "    </tr>\n",
       "    <tr>\n",
       "      <th>1</th>\n",
       "      <td>India</td>\n",
       "      <td>43168585</td>\n",
       "      <td>524651</td>\n",
       "      <td>43164544</td>\n",
       "      <td>524641</td>\n",
       "      <td>4041</td>\n",
       "      <td>10</td>\n",
       "      <td>1.2</td>\n",
       "      <td>Asia</td>\n",
       "    </tr>\n",
       "    <tr>\n",
       "      <th>2</th>\n",
       "      <td>Brazil</td>\n",
       "      <td>31101290</td>\n",
       "      <td>666930</td>\n",
       "      <td>31060017</td>\n",
       "      <td>666801</td>\n",
       "      <td>41273</td>\n",
       "      <td>129</td>\n",
       "      <td>2.1</td>\n",
       "      <td>South America</td>\n",
       "    </tr>\n",
       "    <tr>\n",
       "      <th>3</th>\n",
       "      <td>France</td>\n",
       "      <td>29763546</td>\n",
       "      <td>149465</td>\n",
       "      <td>29738170</td>\n",
       "      <td>149424</td>\n",
       "      <td>25376</td>\n",
       "      <td>41</td>\n",
       "      <td>0.5</td>\n",
       "      <td>Europe</td>\n",
       "    </tr>\n",
       "    <tr>\n",
       "      <th>4</th>\n",
       "      <td>Germany</td>\n",
       "      <td>26452148</td>\n",
       "      <td>139313</td>\n",
       "      <td>26409455</td>\n",
       "      <td>139222</td>\n",
       "      <td>42693</td>\n",
       "      <td>91</td>\n",
       "      <td>0.5</td>\n",
       "      <td>Europe</td>\n",
       "    </tr>\n",
       "  </tbody>\n",
       "</table>\n",
       "</div>"
      ],
      "text/plain": [
       "  Country/Region     Cases   Deaths    PCases  PDeaths  Cases (+)  Deaths (+)  \\\n",
       "0             US  84545475  1008031  84444990  1007685     100485         346   \n",
       "1          India  43168585   524651  43164544   524641       4041          10   \n",
       "2         Brazil  31101290   666930  31060017   666801      41273         129   \n",
       "3         France  29763546   149465  29738170   149424      25376          41   \n",
       "4        Germany  26452148   139313  26409455   139222      42693          91   \n",
       "\n",
       "   Fatality Rate      Continent  \n",
       "0            1.2  North America  \n",
       "1            1.2           Asia  \n",
       "2            2.1  South America  \n",
       "3            0.5         Europe  \n",
       "4            0.5         Europe  "
      ]
     },
     "execution_count": 15,
     "metadata": {},
     "output_type": "execute_result"
    }
   ],
   "source": [
    "#hide\n",
    "df_table = (pd.DataFrame(dict(Cases=dfc_cases, Deaths=dfc_deaths, PCases=dfp_cases, PDeaths=dfp_deaths))\n",
    "             .sort_values(by=['Cases', 'Deaths'], ascending=[False, False])\n",
    "             .reset_index())\n",
    "df_table.rename(columns={'index': 'Country/Region'}, inplace=True)\n",
    "for c in 'Cases, Deaths'.split(', '):\n",
    "    df_table[f'{c} (+)'] = (df_table[c] - df_table[f'P{c}']).clip(0)  # DATA BUG\n",
    "df_table['Fatality Rate'] = (100 * df_table['Deaths'] / df_table['Cases']).round(1)\n",
    "df_table['Continent'] = df_table['Country/Region'].map(mapping['map.continent'])\n",
    "df_table.head(5)"
   ]
  },
  {
   "cell_type": "code",
   "execution_count": 16,
   "id": "fewer-occasion",
   "metadata": {
    "execution": {
     "iopub.execute_input": "2022-06-03T12:16:17.064632Z",
     "iopub.status.busy": "2022-06-03T12:16:17.064011Z",
     "iopub.status.idle": "2022-06-03T12:16:17.066748Z",
     "shell.execute_reply": "2022-06-03T12:16:17.066259Z"
    },
    "papermill": {
     "duration": 0.039126,
     "end_time": "2022-06-03T12:16:17.066868",
     "exception": false,
     "start_time": "2022-06-03T12:16:17.027742",
     "status": "completed"
    },
    "tags": []
   },
   "outputs": [],
   "source": [
    "#hide\n",
    "#delete problematic countries from table\n",
    "df_table = df_table[~df_table['Country/Region'].isin(['Cape Verde', 'Cruise Ship', 'Kosovo'])]"
   ]
  },
  {
   "cell_type": "code",
   "execution_count": 17,
   "id": "related-center",
   "metadata": {
    "execution": {
     "iopub.execute_input": "2022-06-03T12:16:17.147347Z",
     "iopub.status.busy": "2022-06-03T12:16:17.146712Z",
     "iopub.status.idle": "2022-06-03T12:16:17.149517Z",
     "shell.execute_reply": "2022-06-03T12:16:17.148936Z"
    },
    "papermill": {
     "duration": 0.052008,
     "end_time": "2022-06-03T12:16:17.149637",
     "exception": false,
     "start_time": "2022-06-03T12:16:17.097629",
     "status": "completed"
    },
    "tags": []
   },
   "outputs": [],
   "source": [
    "#hide\n",
    "metrics = [df_table.columns[index] for index in [1,2,5,6]]\n",
    "# s_china = df_table[df_table['Country/Region'].eq('China')][metrics].sum().add_prefix('China ')\n",
    "s_us = df_table[df_table['Country/Region'].eq('US')][metrics].sum().add_prefix('US ')\n",
    "s_eu = df_table[df_table['Continent'].eq('Europe')][metrics].sum().add_prefix('EU ')\n",
    "s_ind = df_table[df_table['Country/Region'].eq('India')][metrics].sum().add_prefix('India ')\n",
    "summary = {'updated': pd.to_datetime(dt_today), 'since': pd.to_datetime(dt_yday)}\n",
    "summary = {'updated': pd.to_datetime(dt_today), 'since': pd.to_datetime(dt_yday)}\n",
    "summary = {**summary, **df_table[metrics].sum(), **s_ind, **s_us, **s_eu}"
   ]
  },
  {
   "cell_type": "code",
   "execution_count": 18,
   "id": "engaging-syndrome",
   "metadata": {
    "execution": {
     "iopub.execute_input": "2022-06-03T12:16:17.217891Z",
     "iopub.status.busy": "2022-06-03T12:16:17.217278Z",
     "iopub.status.idle": "2022-06-03T12:16:17.237110Z",
     "shell.execute_reply": "2022-06-03T12:16:17.236599Z"
    },
    "papermill": {
     "duration": 0.05651,
     "end_time": "2022-06-03T12:16:17.237232",
     "exception": false,
     "start_time": "2022-06-03T12:16:17.180722",
     "status": "completed"
    },
    "tags": []
   },
   "outputs": [],
   "source": [
    "#hide\n",
    "dft_ct_new_cases = dft_cases.groupby(COL_REGION)[dt_cols].sum().diff(axis=1).fillna(0).astype(int)"
   ]
  },
  {
   "cell_type": "code",
   "execution_count": 19,
   "id": "neutral-assignment",
   "metadata": {
    "execution": {
     "iopub.execute_input": "2022-06-03T12:16:17.307184Z",
     "iopub.status.busy": "2022-06-03T12:16:17.306554Z",
     "iopub.status.idle": "2022-06-03T12:16:17.308517Z",
     "shell.execute_reply": "2022-06-03T12:16:17.308963Z"
    },
    "papermill": {
     "duration": 0.040827,
     "end_time": "2022-06-03T12:16:17.309101",
     "exception": false,
     "start_time": "2022-06-03T12:16:17.268274",
     "status": "completed"
    },
    "tags": []
   },
   "outputs": [],
   "source": [
    "#hide\n",
    "everydaycases = dft_ct_new_cases.cumsum(axis=1)"
   ]
  },
  {
   "cell_type": "code",
   "execution_count": 20,
   "id": "parliamentary-calgary",
   "metadata": {
    "execution": {
     "iopub.execute_input": "2022-06-03T12:16:17.376129Z",
     "iopub.status.busy": "2022-06-03T12:16:17.375512Z",
     "iopub.status.idle": "2022-06-03T12:16:17.937294Z",
     "shell.execute_reply": "2022-06-03T12:16:17.936717Z"
    },
    "papermill": {
     "duration": 0.597373,
     "end_time": "2022-06-03T12:16:17.937444",
     "exception": false,
     "start_time": "2022-06-03T12:16:17.340071",
     "status": "completed"
    },
    "tags": []
   },
   "outputs": [],
   "source": [
    "#hide\n",
    "import pandas as pd\n",
    "import matplotlib.pyplot as plt\n",
    "import matplotlib.ticker as ticker\n",
    "import matplotlib.animation as animation\n",
    "from IPython.display import HTML"
   ]
  },
  {
   "cell_type": "code",
   "execution_count": 21,
   "id": "lasting-extraction",
   "metadata": {
    "execution": {
     "iopub.execute_input": "2022-06-03T12:16:18.007944Z",
     "iopub.status.busy": "2022-06-03T12:16:18.007308Z",
     "iopub.status.idle": "2022-06-03T12:16:18.014887Z",
     "shell.execute_reply": "2022-06-03T12:16:18.015352Z"
    },
    "papermill": {
     "duration": 0.046297,
     "end_time": "2022-06-03T12:16:18.015504",
     "exception": false,
     "start_time": "2022-06-03T12:16:17.969207",
     "status": "completed"
    },
    "tags": []
   },
   "outputs": [],
   "source": [
    "#hide\n",
    "t = everydaycases.stack()"
   ]
  },
  {
   "cell_type": "code",
   "execution_count": 22,
   "id": "premier-sleeve",
   "metadata": {
    "execution": {
     "iopub.execute_input": "2022-06-03T12:16:18.082626Z",
     "iopub.status.busy": "2022-06-03T12:16:18.081985Z",
     "iopub.status.idle": "2022-06-03T12:16:18.093484Z",
     "shell.execute_reply": "2022-06-03T12:16:18.092999Z"
    },
    "papermill": {
     "duration": 0.047047,
     "end_time": "2022-06-03T12:16:18.093606",
     "exception": false,
     "start_time": "2022-06-03T12:16:18.046559",
     "status": "completed"
    },
    "tags": []
   },
   "outputs": [],
   "source": [
    "#hide\n",
    "g = t.reset_index(['Country/Region'])"
   ]
  },
  {
   "cell_type": "code",
   "execution_count": 23,
   "id": "distributed-pittsburgh",
   "metadata": {
    "execution": {
     "iopub.execute_input": "2022-06-03T12:16:18.159924Z",
     "iopub.status.busy": "2022-06-03T12:16:18.159224Z",
     "iopub.status.idle": "2022-06-03T12:16:18.161683Z",
     "shell.execute_reply": "2022-06-03T12:16:18.161031Z"
    },
    "papermill": {
     "duration": 0.037523,
     "end_time": "2022-06-03T12:16:18.161812",
     "exception": false,
     "start_time": "2022-06-03T12:16:18.124289",
     "status": "completed"
    },
    "tags": []
   },
   "outputs": [],
   "source": [
    "#hide\n",
    "g.index.name = 'date'"
   ]
  },
  {
   "cell_type": "code",
   "execution_count": 24,
   "id": "naked-donor",
   "metadata": {
    "execution": {
     "iopub.execute_input": "2022-06-03T12:16:18.228484Z",
     "iopub.status.busy": "2022-06-03T12:16:18.227869Z",
     "iopub.status.idle": "2022-06-03T12:16:18.230541Z",
     "shell.execute_reply": "2022-06-03T12:16:18.229923Z"
    },
    "papermill": {
     "duration": 0.037814,
     "end_time": "2022-06-03T12:16:18.230658",
     "exception": false,
     "start_time": "2022-06-03T12:16:18.192844",
     "status": "completed"
    },
    "tags": []
   },
   "outputs": [],
   "source": [
    "# #hide\n",
    "# g = g.reset_index(['date'])"
   ]
  },
  {
   "cell_type": "code",
   "execution_count": 25,
   "id": "incomplete-mustang",
   "metadata": {
    "execution": {
     "iopub.execute_input": "2022-06-03T12:16:18.296830Z",
     "iopub.status.busy": "2022-06-03T12:16:18.296210Z",
     "iopub.status.idle": "2022-06-03T12:16:18.298445Z",
     "shell.execute_reply": "2022-06-03T12:16:18.299016Z"
    },
    "papermill": {
     "duration": 0.037723,
     "end_time": "2022-06-03T12:16:18.299154",
     "exception": false,
     "start_time": "2022-06-03T12:16:18.261431",
     "status": "completed"
    },
    "tags": []
   },
   "outputs": [],
   "source": [
    "#hide\n",
    "# g.head()"
   ]
  },
  {
   "cell_type": "code",
   "execution_count": 26,
   "id": "specific-kruger",
   "metadata": {
    "execution": {
     "iopub.execute_input": "2022-06-03T12:16:18.366047Z",
     "iopub.status.busy": "2022-06-03T12:16:18.365335Z",
     "iopub.status.idle": "2022-06-03T12:16:18.367199Z",
     "shell.execute_reply": "2022-06-03T12:16:18.367679Z"
    },
    "papermill": {
     "duration": 0.037629,
     "end_time": "2022-06-03T12:16:18.367814",
     "exception": false,
     "start_time": "2022-06-03T12:16:18.330185",
     "status": "completed"
    },
    "tags": []
   },
   "outputs": [],
   "source": [
    "#hide\n",
    "# g.columns = ['date','country','cases']"
   ]
  },
  {
   "cell_type": "code",
   "execution_count": 27,
   "id": "tender-conversion",
   "metadata": {
    "execution": {
     "iopub.execute_input": "2022-06-03T12:16:18.434294Z",
     "iopub.status.busy": "2022-06-03T12:16:18.433576Z",
     "iopub.status.idle": "2022-06-03T12:16:18.438150Z",
     "shell.execute_reply": "2022-06-03T12:16:18.437452Z"
    },
    "papermill": {
     "duration": 0.039714,
     "end_time": "2022-06-03T12:16:18.438288",
     "exception": false,
     "start_time": "2022-06-03T12:16:18.398574",
     "status": "completed"
    },
    "tags": []
   },
   "outputs": [],
   "source": [
    "#hide\n",
    "# g['continent'] = g.country"
   ]
  },
  {
   "cell_type": "code",
   "execution_count": 28,
   "id": "substantial-wilderness",
   "metadata": {
    "execution": {
     "iopub.execute_input": "2022-06-03T12:16:18.505636Z",
     "iopub.status.busy": "2022-06-03T12:16:18.504620Z",
     "iopub.status.idle": "2022-06-03T12:16:18.508106Z",
     "shell.execute_reply": "2022-06-03T12:16:18.507444Z"
    },
    "papermill": {
     "duration": 0.038496,
     "end_time": "2022-06-03T12:16:18.508238",
     "exception": false,
     "start_time": "2022-06-03T12:16:18.469742",
     "status": "completed"
    },
    "tags": []
   },
   "outputs": [],
   "source": [
    "#hide\n",
    "# cols = list(g.columns.values)"
   ]
  },
  {
   "cell_type": "code",
   "execution_count": 29,
   "id": "solved-farming",
   "metadata": {
    "execution": {
     "iopub.execute_input": "2022-06-03T12:16:18.574561Z",
     "iopub.status.busy": "2022-06-03T12:16:18.573911Z",
     "iopub.status.idle": "2022-06-03T12:16:18.577613Z",
     "shell.execute_reply": "2022-06-03T12:16:18.577129Z"
    },
    "papermill": {
     "duration": 0.038299,
     "end_time": "2022-06-03T12:16:18.577732",
     "exception": false,
     "start_time": "2022-06-03T12:16:18.539433",
     "status": "completed"
    },
    "tags": []
   },
   "outputs": [],
   "source": [
    "#hide\n",
    "# cols.insert(0, cols.pop())"
   ]
  },
  {
   "cell_type": "code",
   "execution_count": 30,
   "id": "executed-adoption",
   "metadata": {
    "execution": {
     "iopub.execute_input": "2022-06-03T12:16:18.644429Z",
     "iopub.status.busy": "2022-06-03T12:16:18.643803Z",
     "iopub.status.idle": "2022-06-03T12:16:18.647458Z",
     "shell.execute_reply": "2022-06-03T12:16:18.647887Z"
    },
    "papermill": {
     "duration": 0.039362,
     "end_time": "2022-06-03T12:16:18.648029",
     "exception": false,
     "start_time": "2022-06-03T12:16:18.608667",
     "status": "completed"
    },
    "tags": []
   },
   "outputs": [],
   "source": [
    "#hide\n",
    "# g = g[cols]"
   ]
  },
  {
   "cell_type": "code",
   "execution_count": 31,
   "id": "subject-dublin",
   "metadata": {
    "execution": {
     "iopub.execute_input": "2022-06-03T12:16:18.714015Z",
     "iopub.status.busy": "2022-06-03T12:16:18.713355Z",
     "iopub.status.idle": "2022-06-03T12:16:18.717256Z",
     "shell.execute_reply": "2022-06-03T12:16:18.716775Z"
    },
    "papermill": {
     "duration": 0.03853,
     "end_time": "2022-06-03T12:16:18.717372",
     "exception": false,
     "start_time": "2022-06-03T12:16:18.678842",
     "status": "completed"
    },
    "tags": []
   },
   "outputs": [],
   "source": [
    "#hide\n",
    "# g['continent'] = g['continent'].map(mapping['map.continent'])"
   ]
  },
  {
   "cell_type": "code",
   "execution_count": 32,
   "id": "freelance-scout",
   "metadata": {
    "execution": {
     "iopub.execute_input": "2022-06-03T12:16:18.784005Z",
     "iopub.status.busy": "2022-06-03T12:16:18.783288Z",
     "iopub.status.idle": "2022-06-03T12:16:18.785618Z",
     "shell.execute_reply": "2022-06-03T12:16:18.784974Z"
    },
    "papermill": {
     "duration": 0.037402,
     "end_time": "2022-06-03T12:16:18.785746",
     "exception": false,
     "start_time": "2022-06-03T12:16:18.748344",
     "status": "completed"
    },
    "tags": []
   },
   "outputs": [],
   "source": [
    "#hide\n",
    "# g.head()"
   ]
  },
  {
   "cell_type": "code",
   "execution_count": 33,
   "id": "limited-engine",
   "metadata": {
    "execution": {
     "iopub.execute_input": "2022-06-03T12:16:18.852147Z",
     "iopub.status.busy": "2022-06-03T12:16:18.851434Z",
     "iopub.status.idle": "2022-06-03T12:16:18.853753Z",
     "shell.execute_reply": "2022-06-03T12:16:18.853100Z"
    },
    "papermill": {
     "duration": 0.037305,
     "end_time": "2022-06-03T12:16:18.853880",
     "exception": false,
     "start_time": "2022-06-03T12:16:18.816575",
     "status": "completed"
    },
    "tags": []
   },
   "outputs": [],
   "source": [
    "# hide\n",
    "# g['date'] = g['date'].astype('datetime64[ns]')"
   ]
  },
  {
   "cell_type": "code",
   "execution_count": 34,
   "id": "sophisticated-supervisor",
   "metadata": {
    "execution": {
     "iopub.execute_input": "2022-06-03T12:16:18.921101Z",
     "iopub.status.busy": "2022-06-03T12:16:18.920502Z",
     "iopub.status.idle": "2022-06-03T12:16:18.922973Z",
     "shell.execute_reply": "2022-06-03T12:16:18.922449Z"
    },
    "papermill": {
     "duration": 0.037603,
     "end_time": "2022-06-03T12:16:18.923090",
     "exception": false,
     "start_time": "2022-06-03T12:16:18.885487",
     "status": "completed"
    },
    "tags": []
   },
   "outputs": [],
   "source": [
    "#hide\n",
    "# g['date'] = g.date.dt.dayofyear"
   ]
  },
  {
   "cell_type": "code",
   "execution_count": 35,
   "id": "inside-dubai",
   "metadata": {
    "execution": {
     "iopub.execute_input": "2022-06-03T12:16:18.989462Z",
     "iopub.status.busy": "2022-06-03T12:16:18.988754Z",
     "iopub.status.idle": "2022-06-03T12:16:18.991157Z",
     "shell.execute_reply": "2022-06-03T12:16:18.990549Z"
    },
    "papermill": {
     "duration": 0.037362,
     "end_time": "2022-06-03T12:16:18.991277",
     "exception": false,
     "start_time": "2022-06-03T12:16:18.953915",
     "status": "completed"
    },
    "tags": []
   },
   "outputs": [],
   "source": [
    "#hide\n",
    "# g = g.rename(columns= {'continent':'group','country':'name','cases':'value'})"
   ]
  },
  {
   "cell_type": "code",
   "execution_count": 36,
   "id": "fleet-motorcycle",
   "metadata": {
    "execution": {
     "iopub.execute_input": "2022-06-03T12:16:19.057668Z",
     "iopub.status.busy": "2022-06-03T12:16:19.056945Z",
     "iopub.status.idle": "2022-06-03T12:16:19.059359Z",
     "shell.execute_reply": "2022-06-03T12:16:19.058703Z"
    },
    "papermill": {
     "duration": 0.037251,
     "end_time": "2022-06-03T12:16:19.059487",
     "exception": false,
     "start_time": "2022-06-03T12:16:19.022236",
     "status": "completed"
    },
    "tags": []
   },
   "outputs": [],
   "source": [
    "#hide\n",
    "# cols = ['name','group','day','value']"
   ]
  },
  {
   "cell_type": "code",
   "execution_count": 37,
   "id": "continued-sleeping",
   "metadata": {
    "execution": {
     "iopub.execute_input": "2022-06-03T12:16:19.126013Z",
     "iopub.status.busy": "2022-06-03T12:16:19.125312Z",
     "iopub.status.idle": "2022-06-03T12:16:19.129010Z",
     "shell.execute_reply": "2022-06-03T12:16:19.129526Z"
    },
    "papermill": {
     "duration": 0.038857,
     "end_time": "2022-06-03T12:16:19.129676",
     "exception": false,
     "start_time": "2022-06-03T12:16:19.090819",
     "status": "completed"
    },
    "tags": []
   },
   "outputs": [],
   "source": [
    "#hide\n",
    "# g.rename(columns= {'date':'day'},inplace = True)"
   ]
  },
  {
   "cell_type": "code",
   "execution_count": 38,
   "id": "major-fight",
   "metadata": {
    "execution": {
     "iopub.execute_input": "2022-06-03T12:16:19.195848Z",
     "iopub.status.busy": "2022-06-03T12:16:19.195132Z",
     "iopub.status.idle": "2022-06-03T12:16:19.198836Z",
     "shell.execute_reply": "2022-06-03T12:16:19.199351Z"
    },
    "papermill": {
     "duration": 0.038883,
     "end_time": "2022-06-03T12:16:19.199497",
     "exception": false,
     "start_time": "2022-06-03T12:16:19.160614",
     "status": "completed"
    },
    "tags": []
   },
   "outputs": [],
   "source": [
    "#hide\n",
    "# g = g[cols]"
   ]
  },
  {
   "cell_type": "code",
   "execution_count": 39,
   "id": "structured-mobile",
   "metadata": {
    "execution": {
     "iopub.execute_input": "2022-06-03T12:16:19.265567Z",
     "iopub.status.busy": "2022-06-03T12:16:19.264947Z",
     "iopub.status.idle": "2022-06-03T12:16:19.268800Z",
     "shell.execute_reply": "2022-06-03T12:16:19.269228Z"
    },
    "papermill": {
     "duration": 0.038666,
     "end_time": "2022-06-03T12:16:19.269361",
     "exception": false,
     "start_time": "2022-06-03T12:16:19.230695",
     "status": "completed"
    },
    "tags": []
   },
   "outputs": [],
   "source": [
    "# #hide\n",
    "# g = g[g.group.notna()]"
   ]
  },
  {
   "cell_type": "code",
   "execution_count": 40,
   "id": "determined-closing",
   "metadata": {
    "execution": {
     "iopub.execute_input": "2022-06-03T12:16:19.335445Z",
     "iopub.status.busy": "2022-06-03T12:16:19.334776Z",
     "iopub.status.idle": "2022-06-03T12:16:19.337297Z",
     "shell.execute_reply": "2022-06-03T12:16:19.337725Z"
    },
    "papermill": {
     "duration": 0.0376,
     "end_time": "2022-06-03T12:16:19.337861",
     "exception": false,
     "start_time": "2022-06-03T12:16:19.300261",
     "status": "completed"
    },
    "tags": []
   },
   "outputs": [],
   "source": [
    "# #hide\n",
    "# colors = dict(zip(\n",
    "#     [\"Oceania\", \"Europe\", \"Asia\", \"South America\", \"Middle East\", \"North America\", \"Africa\"],\n",
    "#     [\"#adb0ff\", \"#ffb3ff\", \"#90d595\", \"#e48381\", \"#aafbff\", \"#f7bb5f\", \"#eafb50\"]\n",
    "# ))\n",
    "# group_lk = g.set_index('name')['group'].to_dict()"
   ]
  },
  {
   "cell_type": "code",
   "execution_count": null,
   "id": "gross-drinking",
   "metadata": {
    "papermill": {
     "duration": 0.030763,
     "end_time": "2022-06-03T12:16:19.399065",
     "exception": false,
     "start_time": "2022-06-03T12:16:19.368302",
     "status": "completed"
    },
    "tags": []
   },
   "outputs": [],
   "source": []
  },
  {
   "cell_type": "code",
   "execution_count": 41,
   "id": "subject-macintosh",
   "metadata": {
    "execution": {
     "iopub.execute_input": "2022-06-03T12:16:19.465708Z",
     "iopub.status.busy": "2022-06-03T12:16:19.464984Z",
     "iopub.status.idle": "2022-06-03T12:16:19.467218Z",
     "shell.execute_reply": "2022-06-03T12:16:19.466643Z"
    },
    "papermill": {
     "duration": 0.037583,
     "end_time": "2022-06-03T12:16:19.467345",
     "exception": false,
     "start_time": "2022-06-03T12:16:19.429762",
     "status": "completed"
    },
    "tags": []
   },
   "outputs": [],
   "source": [
    "# #hide\n",
    "# fig, ax = plt.subplots(figsize=(15, 8))\n",
    "\n",
    "# def draw_barchart(current_day):\n",
    "#     dff = g[g['day'].eq(current_day)].sort_values(by='value', ascending=True).tail(10)\n",
    "#     ax.clear()\n",
    "#     ax.barh(dff['name'], dff['value'], color=[colors[group_lk[x]] for x in dff['name']])\n",
    "#     dx = dff['value'].max() / 200\n",
    "    \n",
    "#     for i, (value, name) in enumerate(zip(dff['value'], dff['name'])):\n",
    "#         ax.text(value-dx, i,     name,           size=14, weight=600, ha='right', va='bottom')\n",
    "#         ax.text(value-dx, i-.25, group_lk[name], size=10, color='#444444', ha='right', va='baseline')\n",
    "#         ax.text(value+dx, i,     f'{value:,.0f}',  size=14, ha='left',  va='center')\n",
    "#     ax.text(1, 0.4, current_day, transform=ax.transAxes, color='#777777', size=46, ha='right', weight=800)\n",
    "#     ax.text(0, 1.06, 'Population (thousands)', transform=ax.transAxes, size=12, color='#777777')\n",
    "#     ax.xaxis.set_major_formatter(ticker.StrMethodFormatter('{x:,.0f}'))\n",
    "#     ax.xaxis.set_ticks_position('top')\n",
    "#     ax.tick_params(axis='x', colors='#777777', labelsize=12)\n",
    "#     ax.set_yticks([])\n",
    "#     ax.margins(0, 0.01)\n",
    "#     ax.grid(which='major', axis='x', linestyle='-')\n",
    "#     ax.set_axisbelow(True)\n",
    "    \n",
    "#     ax.text(0, 1.15, 'Coronavirus',\n",
    "#             transform=ax.transAxes, size=24, weight=600, ha='left', va='top')\n",
    "# #     ax.text(1, 0, 'by @pratapvardhan; credit @jburnmurdoch', transform=ax.transAxes, color='#777777', ha='right',\n",
    "# #             bbox=dict(facecolor='white', alpha=0.8, edgecolor='white'))\n",
    "#     plt.box(False)"
   ]
  },
  {
   "cell_type": "code",
   "execution_count": 42,
   "id": "sexual-wages",
   "metadata": {
    "execution": {
     "iopub.execute_input": "2022-06-03T12:16:19.533314Z",
     "iopub.status.busy": "2022-06-03T12:16:19.532587Z",
     "iopub.status.idle": "2022-06-03T12:16:19.536613Z",
     "shell.execute_reply": "2022-06-03T12:16:19.537111Z"
    },
    "papermill": {
     "duration": 0.039281,
     "end_time": "2022-06-03T12:16:19.537274",
     "exception": false,
     "start_time": "2022-06-03T12:16:19.497993",
     "status": "completed"
    },
    "tags": []
   },
   "outputs": [],
   "source": [
    "# #hide_input\n",
    "# fig, ax = plt.subplots(figsize=(15, 8))\n",
    "# animator = animation.FuncAnimation(fig, draw_barchart, frames=range(g.day.values.min(), g.day.values.max()))\n",
    "# HTML(animator.to_jshtml())\n",
    "# # or use animator.to_html5_video() or animator.save() "
   ]
  },
  {
   "cell_type": "code",
   "execution_count": null,
   "id": "australian-container",
   "metadata": {
    "papermill": {
     "duration": 0.031416,
     "end_time": "2022-06-03T12:16:19.600146",
     "exception": false,
     "start_time": "2022-06-03T12:16:19.568730",
     "status": "completed"
    },
    "tags": []
   },
   "outputs": [],
   "source": []
  },
  {
   "cell_type": "code",
   "execution_count": null,
   "id": "mediterranean-pontiac",
   "metadata": {
    "papermill": {
     "duration": 0.030629,
     "end_time": "2022-06-03T12:16:19.661441",
     "exception": false,
     "start_time": "2022-06-03T12:16:19.630812",
     "status": "completed"
    },
    "tags": []
   },
   "outputs": [],
   "source": []
  },
  {
   "cell_type": "code",
   "execution_count": null,
   "id": "aging-legislature",
   "metadata": {
    "papermill": {
     "duration": 0.030781,
     "end_time": "2022-06-03T12:16:19.723118",
     "exception": false,
     "start_time": "2022-06-03T12:16:19.692337",
     "status": "completed"
    },
    "tags": []
   },
   "outputs": [],
   "source": []
  }
 ],
 "metadata": {
  "kernelspec": {
   "display_name": "Python 3",
   "language": "python",
   "name": "python3"
  },
  "language_info": {
   "codemirror_mode": {
    "name": "ipython",
    "version": 3
   },
   "file_extension": ".py",
   "mimetype": "text/x-python",
   "name": "python",
   "nbconvert_exporter": "python",
   "pygments_lexer": "ipython3",
   "version": "3.6.15"
  },
  "papermill": {
   "duration": 6.264578,
   "end_time": "2022-06-03T12:16:20.173462",
   "environment_variables": {},
   "exception": null,
   "input_path": "2020-03-21-covid19exp.ipynb",
   "output_path": "2020-03-21-covid19exp.ipynb",
   "parameters": {},
   "start_time": "2022-06-03T12:16:13.908884",
   "version": "2.0.0"
  }
 },
 "nbformat": 4,
 "nbformat_minor": 5
}