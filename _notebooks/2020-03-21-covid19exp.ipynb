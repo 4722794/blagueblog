{
 "cells": [
  {
   "cell_type": "markdown",
   "metadata": {
    "papermill": {
     "duration": 0.035881,
     "end_time": "2020-11-27T00:10:58.732285",
     "exception": false,
     "start_time": "2020-11-27T00:10:58.696404",
     "status": "completed"
    },
    "tags": []
   },
   "source": [
    "# COVID-19 Case Race\n",
    "> A race chart to see rising cases around the world\n",
    "\n",
    "- author: Hargun Oberoi\n",
    "- image: images/covid-overview.png\n",
    "- hide: false\n",
    "- badges: false"
   ]
  },
  {
   "cell_type": "code",
   "execution_count": 1,
   "metadata": {
    "execution": {
     "iopub.execute_input": "2020-11-27T00:10:58.800621Z",
     "iopub.status.busy": "2020-11-27T00:10:58.799930Z",
     "iopub.status.idle": "2020-11-27T00:10:59.150318Z",
     "shell.execute_reply": "2020-11-27T00:10:59.149638Z"
    },
    "papermill": {
     "duration": 0.387436,
     "end_time": "2020-11-27T00:10:59.150512",
     "exception": false,
     "start_time": "2020-11-27T00:10:58.763076",
     "status": "completed"
    },
    "tags": []
   },
   "outputs": [],
   "source": [
    "#hide\n",
    "import numpy as np\n",
    "import pandas as pd\n",
    "from jinja2 import Template\n",
    "from IPython.display import HTML"
   ]
  },
  {
   "cell_type": "code",
   "execution_count": 2,
   "metadata": {
    "execution": {
     "iopub.execute_input": "2020-11-27T00:10:59.230682Z",
     "iopub.status.busy": "2020-11-27T00:10:59.230065Z",
     "iopub.status.idle": "2020-11-27T00:10:59.232310Z",
     "shell.execute_reply": "2020-11-27T00:10:59.231831Z"
    },
    "papermill": {
     "duration": 0.047431,
     "end_time": "2020-11-27T00:10:59.232460",
     "exception": false,
     "start_time": "2020-11-27T00:10:59.185029",
     "status": "completed"
    },
    "tags": []
   },
   "outputs": [],
   "source": [
    "#hide\n",
    "\n",
    "# FETCH\n",
    "base_url = 'https://raw.githubusercontent.com/pratapvardhan/notebooks/master/covid19/'\n",
    "paths = {\n",
    "    'mapping': base_url + 'mapping_countries.csv',\n",
    "    'overview': base_url + 'overview.tpl'\n",
    "}"
   ]
  },
  {
   "cell_type": "code",
   "execution_count": 3,
   "metadata": {
    "execution": {
     "iopub.execute_input": "2020-11-27T00:10:59.389430Z",
     "iopub.status.busy": "2020-11-27T00:10:59.388768Z",
     "iopub.status.idle": "2020-11-27T00:10:59.391010Z",
     "shell.execute_reply": "2020-11-27T00:10:59.391478Z"
    },
    "papermill": {
     "duration": 0.04555,
     "end_time": "2020-11-27T00:10:59.391627",
     "exception": false,
     "start_time": "2020-11-27T00:10:59.346077",
     "status": "completed"
    },
    "tags": []
   },
   "outputs": [
    {
     "data": {
      "text/plain": [
       "'https://raw.githubusercontent.com/pratapvardhan/notebooks/master/covid19/mapping_countries.csv'"
      ]
     },
     "execution_count": 3,
     "metadata": {},
     "output_type": "execute_result"
    }
   ],
   "source": [
    "#hide\n",
    "paths['mapping']"
   ]
  },
  {
   "cell_type": "code",
   "execution_count": 4,
   "metadata": {
    "execution": {
     "iopub.execute_input": "2020-11-27T00:10:59.461194Z",
     "iopub.status.busy": "2020-11-27T00:10:59.460588Z",
     "iopub.status.idle": "2020-11-27T00:10:59.462747Z",
     "shell.execute_reply": "2020-11-27T00:10:59.462171Z"
    },
    "papermill": {
     "duration": 0.041171,
     "end_time": "2020-11-27T00:10:59.462875",
     "exception": false,
     "start_time": "2020-11-27T00:10:59.421704",
     "status": "completed"
    },
    "tags": []
   },
   "outputs": [],
   "source": [
    "#hide\n",
    "def get_mappings(url):\n",
    "    df = pd.read_csv(url)\n",
    "    return {\n",
    "        'df': df,\n",
    "        'replace.country': dict(df.dropna(subset=['Name']).set_index('Country')['Name']),\n",
    "        'map.continent': dict(df.set_index('Name')['Continent'])\n",
    "    }"
   ]
  },
  {
   "cell_type": "code",
   "execution_count": 5,
   "metadata": {
    "execution": {
     "iopub.execute_input": "2020-11-27T00:10:59.532961Z",
     "iopub.status.busy": "2020-11-27T00:10:59.532256Z",
     "iopub.status.idle": "2020-11-27T00:10:59.594794Z",
     "shell.execute_reply": "2020-11-27T00:10:59.594121Z"
    },
    "papermill": {
     "duration": 0.101529,
     "end_time": "2020-11-27T00:10:59.594930",
     "exception": false,
     "start_time": "2020-11-27T00:10:59.493401",
     "status": "completed"
    },
    "tags": []
   },
   "outputs": [],
   "source": [
    "#hide\n",
    "mapping = get_mappings(paths['mapping'])"
   ]
  },
  {
   "cell_type": "code",
   "execution_count": 6,
   "metadata": {
    "execution": {
     "iopub.execute_input": "2020-11-27T00:10:59.663492Z",
     "iopub.status.busy": "2020-11-27T00:10:59.662888Z",
     "iopub.status.idle": "2020-11-27T00:10:59.665189Z",
     "shell.execute_reply": "2020-11-27T00:10:59.665747Z"
    },
    "papermill": {
     "duration": 0.040354,
     "end_time": "2020-11-27T00:10:59.665893",
     "exception": false,
     "start_time": "2020-11-27T00:10:59.625539",
     "status": "completed"
    },
    "tags": []
   },
   "outputs": [],
   "source": [
    "#hide\n",
    "def get_template(path):\n",
    "    from urllib.parse import urlparse\n",
    "    if bool(urlparse(path).netloc):\n",
    "        from urllib.request import urlopen\n",
    "        return urlopen(path).read().decode('utf8')\n",
    "    return open(path).read()"
   ]
  },
  {
   "cell_type": "code",
   "execution_count": 7,
   "metadata": {
    "execution": {
     "iopub.execute_input": "2020-11-27T00:10:59.733551Z",
     "iopub.status.busy": "2020-11-27T00:10:59.732947Z",
     "iopub.status.idle": "2020-11-27T00:10:59.735902Z",
     "shell.execute_reply": "2020-11-27T00:10:59.736476Z"
    },
    "papermill": {
     "duration": 0.040503,
     "end_time": "2020-11-27T00:10:59.736629",
     "exception": false,
     "start_time": "2020-11-27T00:10:59.696126",
     "status": "completed"
    },
    "tags": []
   },
   "outputs": [],
   "source": [
    "#hide\n",
    "def get_frame(name):\n",
    "    url = (\n",
    "        'https://raw.githubusercontent.com/CSSEGISandData/COVID-19/master/csse_covid_19_data/'\n",
    "        f'csse_covid_19_time_series/time_series_covid19_{name}_global.csv')\n",
    "    df = pd.read_csv(url)\n",
    "    # rename countries\n",
    "    df['Country/Region'] = df['Country/Region'].replace(mapping['replace.country'])\n",
    "    return df"
   ]
  },
  {
   "cell_type": "code",
   "execution_count": 8,
   "metadata": {
    "execution": {
     "iopub.execute_input": "2020-11-27T00:10:59.805332Z",
     "iopub.status.busy": "2020-11-27T00:10:59.804726Z",
     "iopub.status.idle": "2020-11-27T00:10:59.806805Z",
     "shell.execute_reply": "2020-11-27T00:10:59.807276Z"
    },
    "papermill": {
     "duration": 0.039551,
     "end_time": "2020-11-27T00:10:59.807425",
     "exception": false,
     "start_time": "2020-11-27T00:10:59.767874",
     "status": "completed"
    },
    "tags": []
   },
   "outputs": [],
   "source": [
    "#hide\n",
    "def get_dates(df):\n",
    "    dt_cols = df.columns[~df.columns.isin(['Province/State', 'Country/Region', 'Lat', 'Long'])]\n",
    "    LAST_DATE_I = -1\n",
    "    # sometimes last column may be empty, then go backwards\n",
    "    for i in range(-1, -len(dt_cols), -1):\n",
    "        if not df[dt_cols[i]].fillna(0).eq(0).all():\n",
    "            LAST_DATE_I = i\n",
    "            break\n",
    "    return LAST_DATE_I, dt_cols"
   ]
  },
  {
   "cell_type": "code",
   "execution_count": 9,
   "metadata": {
    "execution": {
     "iopub.execute_input": "2020-11-27T00:10:59.881279Z",
     "iopub.status.busy": "2020-11-27T00:10:59.880646Z",
     "iopub.status.idle": "2020-11-27T00:11:00.232939Z",
     "shell.execute_reply": "2020-11-27T00:11:00.231541Z"
    },
    "papermill": {
     "duration": 0.394409,
     "end_time": "2020-11-27T00:11:00.233174",
     "exception": false,
     "start_time": "2020-11-27T00:10:59.838765",
     "status": "completed"
    },
    "tags": []
   },
   "outputs": [],
   "source": [
    "#hide\n",
    "COL_REGION = 'Country/Region'\n",
    "# Confirmed, Recovered, Deaths\n",
    "df = get_frame('confirmed')\n",
    "# dft_: timeseries, dfc_: today country agg\n",
    "dft_cases = df\n",
    "dft_deaths = get_frame('deaths')\n",
    "dft_recovered = get_frame('recovered')\n",
    "LAST_DATE_I, dt_cols = get_dates(df)"
   ]
  },
  {
   "cell_type": "code",
   "execution_count": 10,
   "metadata": {
    "execution": {
     "iopub.execute_input": "2020-11-27T00:11:00.302874Z",
     "iopub.status.busy": "2020-11-27T00:11:00.302269Z",
     "iopub.status.idle": "2020-11-27T00:11:00.304812Z",
     "shell.execute_reply": "2020-11-27T00:11:00.304303Z"
    },
    "papermill": {
     "duration": 0.040199,
     "end_time": "2020-11-27T00:11:00.304946",
     "exception": false,
     "start_time": "2020-11-27T00:11:00.264747",
     "status": "completed"
    },
    "tags": []
   },
   "outputs": [],
   "source": [
    "#hide\n",
    "LAST_DATE_I, dt_cols = get_dates(df)\n",
    "dt_today =dt_cols[LAST_DATE_I]\n",
    "# dt_5day = dt_cols[LAST_DATE_I - 5]\n",
    "dt_yday = dt_cols[LAST_DATE_I - 1]"
   ]
  },
  {
   "cell_type": "code",
   "execution_count": 11,
   "metadata": {
    "execution": {
     "iopub.execute_input": "2020-11-27T00:11:00.375275Z",
     "iopub.status.busy": "2020-11-27T00:11:00.373879Z",
     "iopub.status.idle": "2020-11-27T00:11:00.382399Z",
     "shell.execute_reply": "2020-11-27T00:11:00.381881Z"
    },
    "papermill": {
     "duration": 0.04651,
     "end_time": "2020-11-27T00:11:00.382532",
     "exception": false,
     "start_time": "2020-11-27T00:11:00.336022",
     "status": "completed"
    },
    "tags": []
   },
   "outputs": [],
   "source": [
    "#hide\n",
    "dfc_cases = dft_cases.groupby(COL_REGION)[dt_today].sum()\n",
    "dfc_deaths = dft_deaths.groupby(COL_REGION)[dt_today].sum()\n",
    "# dfp_cases = dft_cases.groupby(COL_REGION)[dt_5day].sum()\n",
    "# dfp_deaths = dft_deaths.groupby(COL_REGION)[dt_5day].sum()\n",
    "dfp_cases = dft_cases.groupby(COL_REGION)[dt_yday].sum()\n",
    "dfp_deaths = dft_deaths.groupby(COL_REGION)[dt_yday].sum()"
   ]
  },
  {
   "cell_type": "code",
   "execution_count": 12,
   "metadata": {
    "execution": {
     "iopub.execute_input": "2020-11-27T00:11:00.455635Z",
     "iopub.status.busy": "2020-11-27T00:11:00.455000Z",
     "iopub.status.idle": "2020-11-27T00:11:00.459829Z",
     "shell.execute_reply": "2020-11-27T00:11:00.459344Z"
    },
    "papermill": {
     "duration": 0.046603,
     "end_time": "2020-11-27T00:11:00.459966",
     "exception": false,
     "start_time": "2020-11-27T00:11:00.413363",
     "status": "completed"
    },
    "tags": []
   },
   "outputs": [],
   "source": [
    "#hide\n",
    "df_table = (pd.DataFrame(dict(Cases = dfc_cases, Deaths = dfc_deaths, PCases = dfp_cases, PDeaths = dfp_deaths))\n",
    "            .sort_values(by = ['Cases','Deaths'], ascending = [False, False])\n",
    "            .reset_index())"
   ]
  },
  {
   "cell_type": "code",
   "execution_count": 13,
   "metadata": {
    "execution": {
     "iopub.execute_input": "2020-11-27T00:11:00.551233Z",
     "iopub.status.busy": "2020-11-27T00:11:00.550407Z",
     "iopub.status.idle": "2020-11-27T00:11:00.557902Z",
     "shell.execute_reply": "2020-11-27T00:11:00.558381Z"
    },
    "papermill": {
     "duration": 0.068188,
     "end_time": "2020-11-27T00:11:00.558536",
     "exception": false,
     "start_time": "2020-11-27T00:11:00.490348",
     "status": "completed"
    },
    "tags": []
   },
   "outputs": [
    {
     "data": {
      "text/html": [
       "<div>\n",
       "<style scoped>\n",
       "    .dataframe tbody tr th:only-of-type {\n",
       "        vertical-align: middle;\n",
       "    }\n",
       "\n",
       "    .dataframe tbody tr th {\n",
       "        vertical-align: top;\n",
       "    }\n",
       "\n",
       "    .dataframe thead th {\n",
       "        text-align: right;\n",
       "    }\n",
       "</style>\n",
       "<table border=\"1\" class=\"dataframe\">\n",
       "  <thead>\n",
       "    <tr style=\"text-align: right;\">\n",
       "      <th></th>\n",
       "      <th>Country/Region</th>\n",
       "      <th>Cases</th>\n",
       "      <th>Deaths</th>\n",
       "      <th>PCases</th>\n",
       "      <th>PDeaths</th>\n",
       "      <th>Cases (+)</th>\n",
       "      <th>Deaths (+)</th>\n",
       "      <th>Fatality Rate</th>\n",
       "      <th>Continent</th>\n",
       "    </tr>\n",
       "  </thead>\n",
       "  <tbody>\n",
       "    <tr>\n",
       "      <th>0</th>\n",
       "      <td>US</td>\n",
       "      <td>12772653</td>\n",
       "      <td>262222</td>\n",
       "      <td>12591163</td>\n",
       "      <td>259925</td>\n",
       "      <td>181490</td>\n",
       "      <td>2297</td>\n",
       "      <td>2.05</td>\n",
       "      <td>North America</td>\n",
       "    </tr>\n",
       "    <tr>\n",
       "      <th>1</th>\n",
       "      <td>India</td>\n",
       "      <td>9266705</td>\n",
       "      <td>135223</td>\n",
       "      <td>9222216</td>\n",
       "      <td>134699</td>\n",
       "      <td>44489</td>\n",
       "      <td>524</td>\n",
       "      <td>1.46</td>\n",
       "      <td>Asia</td>\n",
       "    </tr>\n",
       "    <tr>\n",
       "      <th>2</th>\n",
       "      <td>Brazil</td>\n",
       "      <td>6166606</td>\n",
       "      <td>170769</td>\n",
       "      <td>6118708</td>\n",
       "      <td>170115</td>\n",
       "      <td>47898</td>\n",
       "      <td>654</td>\n",
       "      <td>2.77</td>\n",
       "      <td>South America</td>\n",
       "    </tr>\n",
       "    <tr>\n",
       "      <th>3</th>\n",
       "      <td>France</td>\n",
       "      <td>2221874</td>\n",
       "      <td>50700</td>\n",
       "      <td>2206126</td>\n",
       "      <td>50324</td>\n",
       "      <td>15748</td>\n",
       "      <td>376</td>\n",
       "      <td>2.28</td>\n",
       "      <td>Europe</td>\n",
       "    </tr>\n",
       "    <tr>\n",
       "      <th>4</th>\n",
       "      <td>Russia</td>\n",
       "      <td>2144229</td>\n",
       "      <td>37173</td>\n",
       "      <td>2120836</td>\n",
       "      <td>36675</td>\n",
       "      <td>23393</td>\n",
       "      <td>498</td>\n",
       "      <td>1.73</td>\n",
       "      <td>Europe</td>\n",
       "    </tr>\n",
       "  </tbody>\n",
       "</table>\n",
       "</div>"
      ],
      "text/plain": [
       "  Country/Region     Cases  Deaths    PCases  PDeaths  Cases (+)  Deaths (+)  \\\n",
       "0             US  12772653  262222  12591163   259925     181490        2297   \n",
       "1          India   9266705  135223   9222216   134699      44489         524   \n",
       "2         Brazil   6166606  170769   6118708   170115      47898         654   \n",
       "3         France   2221874   50700   2206126    50324      15748         376   \n",
       "4         Russia   2144229   37173   2120836    36675      23393         498   \n",
       "\n",
       "   Fatality Rate      Continent  \n",
       "0           2.05  North America  \n",
       "1           1.46           Asia  \n",
       "2           2.77  South America  \n",
       "3           2.28         Europe  \n",
       "4           1.73         Europe  "
      ]
     },
     "execution_count": 13,
     "metadata": {},
     "output_type": "execute_result"
    }
   ],
   "source": [
    "#hide\n",
    "for c in 'Cases, Deaths'.split(', '):\n",
    "    df_table[f'{c} (+)'] = (df_table[c] - df_table[f'P{c}']).clip(0)\n",
    "    #Clip ça veut dire, les chiffres negatif sont interdit\n",
    "df_table['Fatality Rate'] = (100* df_table['Deaths']/ df_table['Cases']).round(2)\n",
    "df_table['Continent'] = df_table['Country/Region'].map(mapping['map.continent'])\n",
    "df_table.head(5)"
   ]
  },
  {
   "cell_type": "code",
   "execution_count": 14,
   "metadata": {
    "execution": {
     "iopub.execute_input": "2020-11-27T00:11:00.631410Z",
     "iopub.status.busy": "2020-11-27T00:11:00.630453Z",
     "iopub.status.idle": "2020-11-27T00:11:00.632036Z",
     "shell.execute_reply": "2020-11-27T00:11:00.632521Z"
    },
    "papermill": {
     "duration": 0.042445,
     "end_time": "2020-11-27T00:11:00.632674",
     "exception": false,
     "start_time": "2020-11-27T00:11:00.590229",
     "status": "completed"
    },
    "tags": []
   },
   "outputs": [],
   "source": [
    "#hide\n",
    "#delete problematic countries from table\n",
    "df_table = df_table[~df_table['Country/Region'].isin(['Cape Verde', 'Cruise Ship', 'Kosovo'])]"
   ]
  },
  {
   "cell_type": "code",
   "execution_count": 15,
   "metadata": {
    "execution": {
     "iopub.execute_input": "2020-11-27T00:11:00.712042Z",
     "iopub.status.busy": "2020-11-27T00:11:00.710405Z",
     "iopub.status.idle": "2020-11-27T00:11:00.732674Z",
     "shell.execute_reply": "2020-11-27T00:11:00.732103Z"
    },
    "papermill": {
     "duration": 0.06772,
     "end_time": "2020-11-27T00:11:00.732810",
     "exception": false,
     "start_time": "2020-11-27T00:11:00.665090",
     "status": "completed"
    },
    "tags": []
   },
   "outputs": [
    {
     "data": {
      "text/html": [
       "<div>\n",
       "<style scoped>\n",
       "    .dataframe tbody tr th:only-of-type {\n",
       "        vertical-align: middle;\n",
       "    }\n",
       "\n",
       "    .dataframe tbody tr th {\n",
       "        vertical-align: top;\n",
       "    }\n",
       "\n",
       "    .dataframe thead th {\n",
       "        text-align: right;\n",
       "    }\n",
       "</style>\n",
       "<table border=\"1\" class=\"dataframe\">\n",
       "  <thead>\n",
       "    <tr style=\"text-align: right;\">\n",
       "      <th></th>\n",
       "      <th>Country/Region</th>\n",
       "      <th>Cases</th>\n",
       "      <th>Deaths</th>\n",
       "      <th>PCases</th>\n",
       "      <th>PDeaths</th>\n",
       "      <th>Cases (+)</th>\n",
       "      <th>Deaths (+)</th>\n",
       "      <th>Fatality Rate</th>\n",
       "      <th>Continent</th>\n",
       "    </tr>\n",
       "  </thead>\n",
       "  <tbody>\n",
       "    <tr>\n",
       "      <th>0</th>\n",
       "      <td>US</td>\n",
       "      <td>12772653</td>\n",
       "      <td>262222</td>\n",
       "      <td>12591163</td>\n",
       "      <td>259925</td>\n",
       "      <td>181490</td>\n",
       "      <td>2297</td>\n",
       "      <td>2.1</td>\n",
       "      <td>North America</td>\n",
       "    </tr>\n",
       "    <tr>\n",
       "      <th>1</th>\n",
       "      <td>India</td>\n",
       "      <td>9266705</td>\n",
       "      <td>135223</td>\n",
       "      <td>9222216</td>\n",
       "      <td>134699</td>\n",
       "      <td>44489</td>\n",
       "      <td>524</td>\n",
       "      <td>1.5</td>\n",
       "      <td>Asia</td>\n",
       "    </tr>\n",
       "    <tr>\n",
       "      <th>2</th>\n",
       "      <td>Brazil</td>\n",
       "      <td>6166606</td>\n",
       "      <td>170769</td>\n",
       "      <td>6118708</td>\n",
       "      <td>170115</td>\n",
       "      <td>47898</td>\n",
       "      <td>654</td>\n",
       "      <td>2.8</td>\n",
       "      <td>South America</td>\n",
       "    </tr>\n",
       "    <tr>\n",
       "      <th>3</th>\n",
       "      <td>France</td>\n",
       "      <td>2221874</td>\n",
       "      <td>50700</td>\n",
       "      <td>2206126</td>\n",
       "      <td>50324</td>\n",
       "      <td>15748</td>\n",
       "      <td>376</td>\n",
       "      <td>2.3</td>\n",
       "      <td>Europe</td>\n",
       "    </tr>\n",
       "    <tr>\n",
       "      <th>4</th>\n",
       "      <td>Russia</td>\n",
       "      <td>2144229</td>\n",
       "      <td>37173</td>\n",
       "      <td>2120836</td>\n",
       "      <td>36675</td>\n",
       "      <td>23393</td>\n",
       "      <td>498</td>\n",
       "      <td>1.7</td>\n",
       "      <td>Europe</td>\n",
       "    </tr>\n",
       "  </tbody>\n",
       "</table>\n",
       "</div>"
      ],
      "text/plain": [
       "  Country/Region     Cases  Deaths    PCases  PDeaths  Cases (+)  Deaths (+)  \\\n",
       "0             US  12772653  262222  12591163   259925     181490        2297   \n",
       "1          India   9266705  135223   9222216   134699      44489         524   \n",
       "2         Brazil   6166606  170769   6118708   170115      47898         654   \n",
       "3         France   2221874   50700   2206126    50324      15748         376   \n",
       "4         Russia   2144229   37173   2120836    36675      23393         498   \n",
       "\n",
       "   Fatality Rate      Continent  \n",
       "0            2.1  North America  \n",
       "1            1.5           Asia  \n",
       "2            2.8  South America  \n",
       "3            2.3         Europe  \n",
       "4            1.7         Europe  "
      ]
     },
     "execution_count": 15,
     "metadata": {},
     "output_type": "execute_result"
    }
   ],
   "source": [
    "#hide\n",
    "df_table = (pd.DataFrame(dict(Cases=dfc_cases, Deaths=dfc_deaths, PCases=dfp_cases, PDeaths=dfp_deaths))\n",
    "             .sort_values(by=['Cases', 'Deaths'], ascending=[False, False])\n",
    "             .reset_index())\n",
    "df_table.rename(columns={'index': 'Country/Region'}, inplace=True)\n",
    "for c in 'Cases, Deaths'.split(', '):\n",
    "    df_table[f'{c} (+)'] = (df_table[c] - df_table[f'P{c}']).clip(0)  # DATA BUG\n",
    "df_table['Fatality Rate'] = (100 * df_table['Deaths'] / df_table['Cases']).round(1)\n",
    "df_table['Continent'] = df_table['Country/Region'].map(mapping['map.continent'])\n",
    "df_table.head(5)"
   ]
  },
  {
   "cell_type": "code",
   "execution_count": 16,
   "metadata": {
    "execution": {
     "iopub.execute_input": "2020-11-27T00:11:00.807606Z",
     "iopub.status.busy": "2020-11-27T00:11:00.807017Z",
     "iopub.status.idle": "2020-11-27T00:11:00.808797Z",
     "shell.execute_reply": "2020-11-27T00:11:00.809272Z"
    },
    "papermill": {
     "duration": 0.041588,
     "end_time": "2020-11-27T00:11:00.809419",
     "exception": false,
     "start_time": "2020-11-27T00:11:00.767831",
     "status": "completed"
    },
    "tags": []
   },
   "outputs": [],
   "source": [
    "#hide\n",
    "#delete problematic countries from table\n",
    "df_table = df_table[~df_table['Country/Region'].isin(['Cape Verde', 'Cruise Ship', 'Kosovo'])]"
   ]
  },
  {
   "cell_type": "code",
   "execution_count": 17,
   "metadata": {
    "execution": {
     "iopub.execute_input": "2020-11-27T00:11:00.892063Z",
     "iopub.status.busy": "2020-11-27T00:11:00.891441Z",
     "iopub.status.idle": "2020-11-27T00:11:00.894058Z",
     "shell.execute_reply": "2020-11-27T00:11:00.893577Z"
    },
    "papermill": {
     "duration": 0.053728,
     "end_time": "2020-11-27T00:11:00.894195",
     "exception": false,
     "start_time": "2020-11-27T00:11:00.840467",
     "status": "completed"
    },
    "tags": []
   },
   "outputs": [],
   "source": [
    "#hide\n",
    "metrics = [df_table.columns[index] for index in [1,2,5,6]]\n",
    "# s_china = df_table[df_table['Country/Region'].eq('China')][metrics].sum().add_prefix('China ')\n",
    "s_us = df_table[df_table['Country/Region'].eq('US')][metrics].sum().add_prefix('US ')\n",
    "s_eu = df_table[df_table['Continent'].eq('Europe')][metrics].sum().add_prefix('EU ')\n",
    "s_ind = df_table[df_table['Country/Region'].eq('India')][metrics].sum().add_prefix('India ')\n",
    "summary = {'updated': pd.to_datetime(dt_today), 'since': pd.to_datetime(dt_yday)}\n",
    "summary = {'updated': pd.to_datetime(dt_today), 'since': pd.to_datetime(dt_yday)}\n",
    "summary = {**summary, **df_table[metrics].sum(), **s_ind, **s_us, **s_eu}"
   ]
  },
  {
   "cell_type": "code",
   "execution_count": 18,
   "metadata": {
    "execution": {
     "iopub.execute_input": "2020-11-27T00:11:00.973196Z",
     "iopub.status.busy": "2020-11-27T00:11:00.972296Z",
     "iopub.status.idle": "2020-11-27T00:11:00.981802Z",
     "shell.execute_reply": "2020-11-27T00:11:00.980994Z"
    },
    "papermill": {
     "duration": 0.05573,
     "end_time": "2020-11-27T00:11:00.981947",
     "exception": false,
     "start_time": "2020-11-27T00:11:00.926217",
     "status": "completed"
    },
    "tags": []
   },
   "outputs": [],
   "source": [
    "#hide\n",
    "dft_ct_new_cases = dft_cases.groupby(COL_REGION)[dt_cols].sum().diff(axis=1).fillna(0).astype(int)"
   ]
  },
  {
   "cell_type": "code",
   "execution_count": 19,
   "metadata": {
    "execution": {
     "iopub.execute_input": "2020-11-27T00:11:01.055099Z",
     "iopub.status.busy": "2020-11-27T00:11:01.054466Z",
     "iopub.status.idle": "2020-11-27T00:11:01.058239Z",
     "shell.execute_reply": "2020-11-27T00:11:01.057639Z"
    },
    "papermill": {
     "duration": 0.044357,
     "end_time": "2020-11-27T00:11:01.058371",
     "exception": false,
     "start_time": "2020-11-27T00:11:01.014014",
     "status": "completed"
    },
    "tags": []
   },
   "outputs": [],
   "source": [
    "#hide\n",
    "everydaycases = dft_ct_new_cases.cumsum(axis=1)"
   ]
  },
  {
   "cell_type": "code",
   "execution_count": 20,
   "metadata": {
    "execution": {
     "iopub.execute_input": "2020-11-27T00:11:01.132192Z",
     "iopub.status.busy": "2020-11-27T00:11:01.131593Z",
     "iopub.status.idle": "2020-11-27T00:11:02.222492Z",
     "shell.execute_reply": "2020-11-27T00:11:02.221617Z"
    },
    "papermill": {
     "duration": 1.12746,
     "end_time": "2020-11-27T00:11:02.222716",
     "exception": false,
     "start_time": "2020-11-27T00:11:01.095256",
     "status": "completed"
    },
    "tags": []
   },
   "outputs": [],
   "source": [
    "#hide\n",
    "import pandas as pd\n",
    "import matplotlib.pyplot as plt\n",
    "import matplotlib.ticker as ticker\n",
    "import matplotlib.animation as animation\n",
    "from IPython.display import HTML"
   ]
  },
  {
   "cell_type": "code",
   "execution_count": 21,
   "metadata": {
    "execution": {
     "iopub.execute_input": "2020-11-27T00:11:02.297658Z",
     "iopub.status.busy": "2020-11-27T00:11:02.297025Z",
     "iopub.status.idle": "2020-11-27T00:11:02.301909Z",
     "shell.execute_reply": "2020-11-27T00:11:02.301428Z"
    },
    "papermill": {
     "duration": 0.04381,
     "end_time": "2020-11-27T00:11:02.302047",
     "exception": false,
     "start_time": "2020-11-27T00:11:02.258237",
     "status": "completed"
    },
    "tags": []
   },
   "outputs": [],
   "source": [
    "#hide\n",
    "t = everydaycases.stack()"
   ]
  },
  {
   "cell_type": "code",
   "execution_count": 22,
   "metadata": {
    "execution": {
     "iopub.execute_input": "2020-11-27T00:11:02.370301Z",
     "iopub.status.busy": "2020-11-27T00:11:02.369702Z",
     "iopub.status.idle": "2020-11-27T00:11:02.376191Z",
     "shell.execute_reply": "2020-11-27T00:11:02.375708Z"
    },
    "papermill": {
     "duration": 0.042916,
     "end_time": "2020-11-27T00:11:02.376328",
     "exception": false,
     "start_time": "2020-11-27T00:11:02.333412",
     "status": "completed"
    },
    "tags": []
   },
   "outputs": [],
   "source": [
    "#hide\n",
    "g = t.reset_index(['Country/Region'])"
   ]
  },
  {
   "cell_type": "code",
   "execution_count": 23,
   "metadata": {
    "execution": {
     "iopub.execute_input": "2020-11-27T00:11:02.447307Z",
     "iopub.status.busy": "2020-11-27T00:11:02.446465Z",
     "iopub.status.idle": "2020-11-27T00:11:02.448161Z",
     "shell.execute_reply": "2020-11-27T00:11:02.448839Z"
    },
    "papermill": {
     "duration": 0.040869,
     "end_time": "2020-11-27T00:11:02.449010",
     "exception": false,
     "start_time": "2020-11-27T00:11:02.408141",
     "status": "completed"
    },
    "tags": []
   },
   "outputs": [],
   "source": [
    "#hide\n",
    "g.index.name = 'date'"
   ]
  },
  {
   "cell_type": "code",
   "execution_count": 24,
   "metadata": {
    "execution": {
     "iopub.execute_input": "2020-11-27T00:11:02.519424Z",
     "iopub.status.busy": "2020-11-27T00:11:02.518585Z",
     "iopub.status.idle": "2020-11-27T00:11:02.520151Z",
     "shell.execute_reply": "2020-11-27T00:11:02.520640Z"
    },
    "papermill": {
     "duration": 0.03953,
     "end_time": "2020-11-27T00:11:02.520795",
     "exception": false,
     "start_time": "2020-11-27T00:11:02.481265",
     "status": "completed"
    },
    "tags": []
   },
   "outputs": [],
   "source": [
    "# #hide\n",
    "# g = g.reset_index(['date'])"
   ]
  },
  {
   "cell_type": "code",
   "execution_count": 25,
   "metadata": {
    "execution": {
     "iopub.execute_input": "2020-11-27T00:11:02.593644Z",
     "iopub.status.busy": "2020-11-27T00:11:02.592707Z",
     "iopub.status.idle": "2020-11-27T00:11:02.594708Z",
     "shell.execute_reply": "2020-11-27T00:11:02.595329Z"
    },
    "papermill": {
     "duration": 0.041162,
     "end_time": "2020-11-27T00:11:02.595540",
     "exception": false,
     "start_time": "2020-11-27T00:11:02.554378",
     "status": "completed"
    },
    "tags": []
   },
   "outputs": [],
   "source": [
    "#hide\n",
    "# g.head()"
   ]
  },
  {
   "cell_type": "code",
   "execution_count": 26,
   "metadata": {
    "execution": {
     "iopub.execute_input": "2020-11-27T00:11:02.665245Z",
     "iopub.status.busy": "2020-11-27T00:11:02.664635Z",
     "iopub.status.idle": "2020-11-27T00:11:02.666969Z",
     "shell.execute_reply": "2020-11-27T00:11:02.666470Z"
    },
    "papermill": {
     "duration": 0.038533,
     "end_time": "2020-11-27T00:11:02.667098",
     "exception": false,
     "start_time": "2020-11-27T00:11:02.628565",
     "status": "completed"
    },
    "tags": []
   },
   "outputs": [],
   "source": [
    "#hide\n",
    "# g.columns = ['date','country','cases']"
   ]
  },
  {
   "cell_type": "code",
   "execution_count": 27,
   "metadata": {
    "execution": {
     "iopub.execute_input": "2020-11-27T00:11:02.739704Z",
     "iopub.status.busy": "2020-11-27T00:11:02.739103Z",
     "iopub.status.idle": "2020-11-27T00:11:02.741438Z",
     "shell.execute_reply": "2020-11-27T00:11:02.742000Z"
    },
    "papermill": {
     "duration": 0.043572,
     "end_time": "2020-11-27T00:11:02.742152",
     "exception": false,
     "start_time": "2020-11-27T00:11:02.698580",
     "status": "completed"
    },
    "tags": []
   },
   "outputs": [],
   "source": [
    "#hide\n",
    "# g['continent'] = g.country"
   ]
  },
  {
   "cell_type": "code",
   "execution_count": 28,
   "metadata": {
    "execution": {
     "iopub.execute_input": "2020-11-27T00:11:02.810957Z",
     "iopub.status.busy": "2020-11-27T00:11:02.809894Z",
     "iopub.status.idle": "2020-11-27T00:11:02.812042Z",
     "shell.execute_reply": "2020-11-27T00:11:02.812928Z"
    },
    "papermill": {
     "duration": 0.039457,
     "end_time": "2020-11-27T00:11:02.813106",
     "exception": false,
     "start_time": "2020-11-27T00:11:02.773649",
     "status": "completed"
    },
    "tags": []
   },
   "outputs": [],
   "source": [
    "#hide\n",
    "# cols = list(g.columns.values)"
   ]
  },
  {
   "cell_type": "code",
   "execution_count": 29,
   "metadata": {
    "execution": {
     "iopub.execute_input": "2020-11-27T00:11:02.882312Z",
     "iopub.status.busy": "2020-11-27T00:11:02.881700Z",
     "iopub.status.idle": "2020-11-27T00:11:02.884295Z",
     "shell.execute_reply": "2020-11-27T00:11:02.884772Z"
    },
    "papermill": {
     "duration": 0.038797,
     "end_time": "2020-11-27T00:11:02.884932",
     "exception": false,
     "start_time": "2020-11-27T00:11:02.846135",
     "status": "completed"
    },
    "tags": []
   },
   "outputs": [],
   "source": [
    "#hide\n",
    "# cols.insert(0, cols.pop())"
   ]
  },
  {
   "cell_type": "code",
   "execution_count": 30,
   "metadata": {
    "execution": {
     "iopub.execute_input": "2020-11-27T00:11:02.954872Z",
     "iopub.status.busy": "2020-11-27T00:11:02.954264Z",
     "iopub.status.idle": "2020-11-27T00:11:02.956839Z",
     "shell.execute_reply": "2020-11-27T00:11:02.956336Z"
    },
    "papermill": {
     "duration": 0.040308,
     "end_time": "2020-11-27T00:11:02.956977",
     "exception": false,
     "start_time": "2020-11-27T00:11:02.916669",
     "status": "completed"
    },
    "tags": []
   },
   "outputs": [],
   "source": [
    "#hide\n",
    "# g = g[cols]"
   ]
  },
  {
   "cell_type": "code",
   "execution_count": 31,
   "metadata": {
    "execution": {
     "iopub.execute_input": "2020-11-27T00:11:03.023460Z",
     "iopub.status.busy": "2020-11-27T00:11:03.022871Z",
     "iopub.status.idle": "2020-11-27T00:11:03.024663Z",
     "shell.execute_reply": "2020-11-27T00:11:03.025137Z"
    },
    "papermill": {
     "duration": 0.037084,
     "end_time": "2020-11-27T00:11:03.025283",
     "exception": false,
     "start_time": "2020-11-27T00:11:02.988199",
     "status": "completed"
    },
    "tags": []
   },
   "outputs": [],
   "source": [
    "#hide\n",
    "# g['continent'] = g['continent'].map(mapping['map.continent'])"
   ]
  },
  {
   "cell_type": "code",
   "execution_count": 32,
   "metadata": {
    "execution": {
     "iopub.execute_input": "2020-11-27T00:11:03.097065Z",
     "iopub.status.busy": "2020-11-27T00:11:03.095966Z",
     "iopub.status.idle": "2020-11-27T00:11:03.100705Z",
     "shell.execute_reply": "2020-11-27T00:11:03.100086Z"
    },
    "papermill": {
     "duration": 0.043421,
     "end_time": "2020-11-27T00:11:03.100839",
     "exception": false,
     "start_time": "2020-11-27T00:11:03.057418",
     "status": "completed"
    },
    "tags": []
   },
   "outputs": [],
   "source": [
    "#hide\n",
    "# g.head()"
   ]
  },
  {
   "cell_type": "code",
   "execution_count": 33,
   "metadata": {
    "execution": {
     "iopub.execute_input": "2020-11-27T00:11:03.174301Z",
     "iopub.status.busy": "2020-11-27T00:11:03.169680Z",
     "iopub.status.idle": "2020-11-27T00:11:03.181746Z",
     "shell.execute_reply": "2020-11-27T00:11:03.180855Z"
    },
    "papermill": {
     "duration": 0.048107,
     "end_time": "2020-11-27T00:11:03.181960",
     "exception": false,
     "start_time": "2020-11-27T00:11:03.133853",
     "status": "completed"
    },
    "tags": []
   },
   "outputs": [],
   "source": [
    "# hide\n",
    "# g['date'] = g['date'].astype('datetime64[ns]')"
   ]
  },
  {
   "cell_type": "code",
   "execution_count": 34,
   "metadata": {
    "execution": {
     "iopub.execute_input": "2020-11-27T00:11:03.254230Z",
     "iopub.status.busy": "2020-11-27T00:11:03.252822Z",
     "iopub.status.idle": "2020-11-27T00:11:03.254889Z",
     "shell.execute_reply": "2020-11-27T00:11:03.255356Z"
    },
    "papermill": {
     "duration": 0.038389,
     "end_time": "2020-11-27T00:11:03.255502",
     "exception": false,
     "start_time": "2020-11-27T00:11:03.217113",
     "status": "completed"
    },
    "tags": []
   },
   "outputs": [],
   "source": [
    "#hide\n",
    "# g['date'] = g.date.dt.dayofyear"
   ]
  },
  {
   "cell_type": "code",
   "execution_count": 35,
   "metadata": {
    "execution": {
     "iopub.execute_input": "2020-11-27T00:11:03.324356Z",
     "iopub.status.busy": "2020-11-27T00:11:03.323710Z",
     "iopub.status.idle": "2020-11-27T00:11:03.326249Z",
     "shell.execute_reply": "2020-11-27T00:11:03.325571Z"
    },
    "papermill": {
     "duration": 0.038111,
     "end_time": "2020-11-27T00:11:03.326399",
     "exception": false,
     "start_time": "2020-11-27T00:11:03.288288",
     "status": "completed"
    },
    "tags": []
   },
   "outputs": [],
   "source": [
    "#hide\n",
    "# g = g.rename(columns= {'continent':'group','country':'name','cases':'value'})"
   ]
  },
  {
   "cell_type": "code",
   "execution_count": 36,
   "metadata": {
    "execution": {
     "iopub.execute_input": "2020-11-27T00:11:03.394679Z",
     "iopub.status.busy": "2020-11-27T00:11:03.394053Z",
     "iopub.status.idle": "2020-11-27T00:11:03.396568Z",
     "shell.execute_reply": "2020-11-27T00:11:03.396047Z"
    },
    "papermill": {
     "duration": 0.038953,
     "end_time": "2020-11-27T00:11:03.396710",
     "exception": false,
     "start_time": "2020-11-27T00:11:03.357757",
     "status": "completed"
    },
    "tags": []
   },
   "outputs": [],
   "source": [
    "#hide\n",
    "# cols = ['name','group','day','value']"
   ]
  },
  {
   "cell_type": "code",
   "execution_count": 37,
   "metadata": {
    "execution": {
     "iopub.execute_input": "2020-11-27T00:11:03.477441Z",
     "iopub.status.busy": "2020-11-27T00:11:03.476829Z",
     "iopub.status.idle": "2020-11-27T00:11:03.478704Z",
     "shell.execute_reply": "2020-11-27T00:11:03.479187Z"
    },
    "papermill": {
     "duration": 0.050446,
     "end_time": "2020-11-27T00:11:03.479337",
     "exception": false,
     "start_time": "2020-11-27T00:11:03.428891",
     "status": "completed"
    },
    "tags": []
   },
   "outputs": [],
   "source": [
    "#hide\n",
    "# g.rename(columns= {'date':'day'},inplace = True)"
   ]
  },
  {
   "cell_type": "code",
   "execution_count": 38,
   "metadata": {
    "execution": {
     "iopub.execute_input": "2020-11-27T00:11:03.555872Z",
     "iopub.status.busy": "2020-11-27T00:11:03.555262Z",
     "iopub.status.idle": "2020-11-27T00:11:03.557455Z",
     "shell.execute_reply": "2020-11-27T00:11:03.556871Z"
    },
    "papermill": {
     "duration": 0.039613,
     "end_time": "2020-11-27T00:11:03.557585",
     "exception": false,
     "start_time": "2020-11-27T00:11:03.517972",
     "status": "completed"
    },
    "tags": []
   },
   "outputs": [],
   "source": [
    "#hide\n",
    "# g = g[cols]"
   ]
  },
  {
   "cell_type": "code",
   "execution_count": 39,
   "metadata": {
    "execution": {
     "iopub.execute_input": "2020-11-27T00:11:03.627309Z",
     "iopub.status.busy": "2020-11-27T00:11:03.626719Z",
     "iopub.status.idle": "2020-11-27T00:11:03.629178Z",
     "shell.execute_reply": "2020-11-27T00:11:03.628581Z"
    },
    "papermill": {
     "duration": 0.040355,
     "end_time": "2020-11-27T00:11:03.629305",
     "exception": false,
     "start_time": "2020-11-27T00:11:03.588950",
     "status": "completed"
    },
    "tags": []
   },
   "outputs": [],
   "source": [
    "# #hide\n",
    "# g = g[g.group.notna()]"
   ]
  },
  {
   "cell_type": "code",
   "execution_count": 40,
   "metadata": {
    "execution": {
     "iopub.execute_input": "2020-11-27T00:11:03.703693Z",
     "iopub.status.busy": "2020-11-27T00:11:03.702707Z",
     "iopub.status.idle": "2020-11-27T00:11:03.704358Z",
     "shell.execute_reply": "2020-11-27T00:11:03.704851Z"
    },
    "papermill": {
     "duration": 0.042766,
     "end_time": "2020-11-27T00:11:03.704996",
     "exception": false,
     "start_time": "2020-11-27T00:11:03.662230",
     "status": "completed"
    },
    "tags": []
   },
   "outputs": [],
   "source": [
    "# #hide\n",
    "# colors = dict(zip(\n",
    "#     [\"Oceania\", \"Europe\", \"Asia\", \"South America\", \"Middle East\", \"North America\", \"Africa\"],\n",
    "#     [\"#adb0ff\", \"#ffb3ff\", \"#90d595\", \"#e48381\", \"#aafbff\", \"#f7bb5f\", \"#eafb50\"]\n",
    "# ))\n",
    "# group_lk = g.set_index('name')['group'].to_dict()"
   ]
  },
  {
   "cell_type": "code",
   "execution_count": null,
   "metadata": {
    "papermill": {
     "duration": 0.031364,
     "end_time": "2020-11-27T00:11:03.769003",
     "exception": false,
     "start_time": "2020-11-27T00:11:03.737639",
     "status": "completed"
    },
    "tags": []
   },
   "outputs": [],
   "source": []
  },
  {
   "cell_type": "code",
   "execution_count": 41,
   "metadata": {
    "execution": {
     "iopub.execute_input": "2020-11-27T00:11:03.841081Z",
     "iopub.status.busy": "2020-11-27T00:11:03.840468Z",
     "iopub.status.idle": "2020-11-27T00:11:03.842326Z",
     "shell.execute_reply": "2020-11-27T00:11:03.842769Z"
    },
    "papermill": {
     "duration": 0.041605,
     "end_time": "2020-11-27T00:11:03.842916",
     "exception": false,
     "start_time": "2020-11-27T00:11:03.801311",
     "status": "completed"
    },
    "tags": []
   },
   "outputs": [],
   "source": [
    "# #hide\n",
    "# fig, ax = plt.subplots(figsize=(15, 8))\n",
    "\n",
    "# def draw_barchart(current_day):\n",
    "#     dff = g[g['day'].eq(current_day)].sort_values(by='value', ascending=True).tail(10)\n",
    "#     ax.clear()\n",
    "#     ax.barh(dff['name'], dff['value'], color=[colors[group_lk[x]] for x in dff['name']])\n",
    "#     dx = dff['value'].max() / 200\n",
    "    \n",
    "#     for i, (value, name) in enumerate(zip(dff['value'], dff['name'])):\n",
    "#         ax.text(value-dx, i,     name,           size=14, weight=600, ha='right', va='bottom')\n",
    "#         ax.text(value-dx, i-.25, group_lk[name], size=10, color='#444444', ha='right', va='baseline')\n",
    "#         ax.text(value+dx, i,     f'{value:,.0f}',  size=14, ha='left',  va='center')\n",
    "#     ax.text(1, 0.4, current_day, transform=ax.transAxes, color='#777777', size=46, ha='right', weight=800)\n",
    "#     ax.text(0, 1.06, 'Population (thousands)', transform=ax.transAxes, size=12, color='#777777')\n",
    "#     ax.xaxis.set_major_formatter(ticker.StrMethodFormatter('{x:,.0f}'))\n",
    "#     ax.xaxis.set_ticks_position('top')\n",
    "#     ax.tick_params(axis='x', colors='#777777', labelsize=12)\n",
    "#     ax.set_yticks([])\n",
    "#     ax.margins(0, 0.01)\n",
    "#     ax.grid(which='major', axis='x', linestyle='-')\n",
    "#     ax.set_axisbelow(True)\n",
    "    \n",
    "#     ax.text(0, 1.15, 'Coronavirus',\n",
    "#             transform=ax.transAxes, size=24, weight=600, ha='left', va='top')\n",
    "# #     ax.text(1, 0, 'by @pratapvardhan; credit @jburnmurdoch', transform=ax.transAxes, color='#777777', ha='right',\n",
    "# #             bbox=dict(facecolor='white', alpha=0.8, edgecolor='white'))\n",
    "#     plt.box(False)"
   ]
  },
  {
   "cell_type": "code",
   "execution_count": 42,
   "metadata": {
    "execution": {
     "iopub.execute_input": "2020-11-27T00:11:03.910145Z",
     "iopub.status.busy": "2020-11-27T00:11:03.909547Z",
     "iopub.status.idle": "2020-11-27T00:11:03.911832Z",
     "shell.execute_reply": "2020-11-27T00:11:03.912390Z"
    },
    "papermill": {
     "duration": 0.03836,
     "end_time": "2020-11-27T00:11:03.912557",
     "exception": false,
     "start_time": "2020-11-27T00:11:03.874197",
     "status": "completed"
    },
    "tags": []
   },
   "outputs": [],
   "source": [
    "# #hide_input\n",
    "# fig, ax = plt.subplots(figsize=(15, 8))\n",
    "# animator = animation.FuncAnimation(fig, draw_barchart, frames=range(g.day.values.min(), g.day.values.max()))\n",
    "# HTML(animator.to_jshtml())\n",
    "# # or use animator.to_html5_video() or animator.save() "
   ]
  },
  {
   "cell_type": "code",
   "execution_count": null,
   "metadata": {
    "papermill": {
     "duration": 0.031459,
     "end_time": "2020-11-27T00:11:03.978199",
     "exception": false,
     "start_time": "2020-11-27T00:11:03.946740",
     "status": "completed"
    },
    "tags": []
   },
   "outputs": [],
   "source": []
  },
  {
   "cell_type": "code",
   "execution_count": null,
   "metadata": {
    "papermill": {
     "duration": 0.031185,
     "end_time": "2020-11-27T00:11:04.043929",
     "exception": false,
     "start_time": "2020-11-27T00:11:04.012744",
     "status": "completed"
    },
    "tags": []
   },
   "outputs": [],
   "source": []
  },
  {
   "cell_type": "code",
   "execution_count": null,
   "metadata": {
    "papermill": {
     "duration": 0.033485,
     "end_time": "2020-11-27T00:11:04.113944",
     "exception": false,
     "start_time": "2020-11-27T00:11:04.080459",
     "status": "completed"
    },
    "tags": []
   },
   "outputs": [],
   "source": []
  }
 ],
 "metadata": {
  "kernelspec": {
   "display_name": "Python 3",
   "language": "python",
   "name": "python3"
  },
  "language_info": {
   "codemirror_mode": {
    "name": "ipython",
    "version": 3
   },
   "file_extension": ".py",
   "mimetype": "text/x-python",
   "name": "python",
   "nbconvert_exporter": "python",
   "pygments_lexer": "ipython3",
   "version": "3.6.12"
  },
  "papermill": {
   "duration": 6.977648,
   "end_time": "2020-11-27T00:11:04.555389",
   "environment_variables": {},
   "exception": null,
   "input_path": "2020-03-21-covid19exp.ipynb",
   "output_path": "2020-03-21-covid19exp.ipynb",
   "parameters": {},
   "start_time": "2020-11-27T00:10:57.577741",
   "version": "2.0.0"
  }
 },
 "nbformat": 4,
 "nbformat_minor": 4
}