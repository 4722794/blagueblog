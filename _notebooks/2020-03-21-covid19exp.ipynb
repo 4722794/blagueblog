{
 "cells": [
  {
   "cell_type": "markdown",
   "metadata": {
    "papermill": {
     "duration": 0.037018,
     "end_time": "2021-01-18T00:38:59.969295",
     "exception": false,
     "start_time": "2021-01-18T00:38:59.932277",
     "status": "completed"
    },
    "tags": []
   },
   "source": [
    "# COVID-19 Case Race\n",
    "> A race chart to see rising cases around the world\n",
    "\n",
    "- author: Hargun Oberoi\n",
    "- image: images/covid-overview.png\n",
    "- hide: false\n",
    "- badges: false"
   ]
  },
  {
   "cell_type": "code",
   "execution_count": 1,
   "metadata": {
    "execution": {
     "iopub.execute_input": "2021-01-18T00:39:00.044384Z",
     "iopub.status.busy": "2021-01-18T00:39:00.043762Z",
     "iopub.status.idle": "2021-01-18T00:39:00.383079Z",
     "shell.execute_reply": "2021-01-18T00:39:00.382337Z"
    },
    "papermill": {
     "duration": 0.382339,
     "end_time": "2021-01-18T00:39:00.383250",
     "exception": false,
     "start_time": "2021-01-18T00:39:00.000911",
     "status": "completed"
    },
    "tags": []
   },
   "outputs": [],
   "source": [
    "#hide\n",
    "import numpy as np\n",
    "import pandas as pd\n",
    "from jinja2 import Template\n",
    "from IPython.display import HTML"
   ]
  },
  {
   "cell_type": "code",
   "execution_count": 2,
   "metadata": {
    "execution": {
     "iopub.execute_input": "2021-01-18T00:39:00.450526Z",
     "iopub.status.busy": "2021-01-18T00:39:00.449918Z",
     "iopub.status.idle": "2021-01-18T00:39:00.452464Z",
     "shell.execute_reply": "2021-01-18T00:39:00.451959Z"
    },
    "papermill": {
     "duration": 0.038087,
     "end_time": "2021-01-18T00:39:00.452592",
     "exception": false,
     "start_time": "2021-01-18T00:39:00.414505",
     "status": "completed"
    },
    "tags": []
   },
   "outputs": [],
   "source": [
    "#hide\n",
    "\n",
    "# FETCH\n",
    "base_url = 'https://raw.githubusercontent.com/pratapvardhan/notebooks/master/covid19/'\n",
    "paths = {\n",
    "    'mapping': base_url + 'mapping_countries.csv',\n",
    "    'overview': base_url + 'overview.tpl'\n",
    "}"
   ]
  },
  {
   "cell_type": "code",
   "execution_count": 3,
   "metadata": {
    "execution": {
     "iopub.execute_input": "2021-01-18T00:39:00.528238Z",
     "iopub.status.busy": "2021-01-18T00:39:00.527637Z",
     "iopub.status.idle": "2021-01-18T00:39:00.531635Z",
     "shell.execute_reply": "2021-01-18T00:39:00.532105Z"
    },
    "papermill": {
     "duration": 0.046996,
     "end_time": "2021-01-18T00:39:00.532250",
     "exception": false,
     "start_time": "2021-01-18T00:39:00.485254",
     "status": "completed"
    },
    "tags": []
   },
   "outputs": [
    {
     "data": {
      "text/plain": [
       "'https://raw.githubusercontent.com/pratapvardhan/notebooks/master/covid19/mapping_countries.csv'"
      ]
     },
     "execution_count": 3,
     "metadata": {},
     "output_type": "execute_result"
    }
   ],
   "source": [
    "#hide\n",
    "paths['mapping']"
   ]
  },
  {
   "cell_type": "code",
   "execution_count": 4,
   "metadata": {
    "execution": {
     "iopub.execute_input": "2021-01-18T00:39:00.597884Z",
     "iopub.status.busy": "2021-01-18T00:39:00.597233Z",
     "iopub.status.idle": "2021-01-18T00:39:00.599495Z",
     "shell.execute_reply": "2021-01-18T00:39:00.598999Z"
    },
    "papermill": {
     "duration": 0.037685,
     "end_time": "2021-01-18T00:39:00.599620",
     "exception": false,
     "start_time": "2021-01-18T00:39:00.561935",
     "status": "completed"
    },
    "tags": []
   },
   "outputs": [],
   "source": [
    "#hide\n",
    "def get_mappings(url):\n",
    "    df = pd.read_csv(url)\n",
    "    return {\n",
    "        'df': df,\n",
    "        'replace.country': dict(df.dropna(subset=['Name']).set_index('Country')['Name']),\n",
    "        'map.continent': dict(df.set_index('Name')['Continent'])\n",
    "    }"
   ]
  },
  {
   "cell_type": "code",
   "execution_count": 5,
   "metadata": {
    "execution": {
     "iopub.execute_input": "2021-01-18T00:39:00.667833Z",
     "iopub.status.busy": "2021-01-18T00:39:00.667172Z",
     "iopub.status.idle": "2021-01-18T00:39:00.758220Z",
     "shell.execute_reply": "2021-01-18T00:39:00.757584Z"
    },
    "papermill": {
     "duration": 0.128086,
     "end_time": "2021-01-18T00:39:00.758384",
     "exception": false,
     "start_time": "2021-01-18T00:39:00.630298",
     "status": "completed"
    },
    "tags": []
   },
   "outputs": [],
   "source": [
    "#hide\n",
    "mapping = get_mappings(paths['mapping'])"
   ]
  },
  {
   "cell_type": "code",
   "execution_count": 6,
   "metadata": {
    "execution": {
     "iopub.execute_input": "2021-01-18T00:39:00.826938Z",
     "iopub.status.busy": "2021-01-18T00:39:00.826347Z",
     "iopub.status.idle": "2021-01-18T00:39:00.828756Z",
     "shell.execute_reply": "2021-01-18T00:39:00.828260Z"
    },
    "papermill": {
     "duration": 0.03761,
     "end_time": "2021-01-18T00:39:00.828881",
     "exception": false,
     "start_time": "2021-01-18T00:39:00.791271",
     "status": "completed"
    },
    "tags": []
   },
   "outputs": [],
   "source": [
    "#hide\n",
    "def get_template(path):\n",
    "    from urllib.parse import urlparse\n",
    "    if bool(urlparse(path).netloc):\n",
    "        from urllib.request import urlopen\n",
    "        return urlopen(path).read().decode('utf8')\n",
    "    return open(path).read()"
   ]
  },
  {
   "cell_type": "code",
   "execution_count": 7,
   "metadata": {
    "execution": {
     "iopub.execute_input": "2021-01-18T00:39:00.899379Z",
     "iopub.status.busy": "2021-01-18T00:39:00.898760Z",
     "iopub.status.idle": "2021-01-18T00:39:00.900479Z",
     "shell.execute_reply": "2021-01-18T00:39:00.900984Z"
    },
    "papermill": {
     "duration": 0.037207,
     "end_time": "2021-01-18T00:39:00.901121",
     "exception": false,
     "start_time": "2021-01-18T00:39:00.863914",
     "status": "completed"
    },
    "tags": []
   },
   "outputs": [],
   "source": [
    "#hide\n",
    "def get_frame(name):\n",
    "    url = (\n",
    "        'https://raw.githubusercontent.com/CSSEGISandData/COVID-19/master/csse_covid_19_data/'\n",
    "        f'csse_covid_19_time_series/time_series_covid19_{name}_global.csv')\n",
    "    df = pd.read_csv(url)\n",
    "    # rename countries\n",
    "    df['Country/Region'] = df['Country/Region'].replace(mapping['replace.country'])\n",
    "    return df"
   ]
  },
  {
   "cell_type": "code",
   "execution_count": 8,
   "metadata": {
    "execution": {
     "iopub.execute_input": "2021-01-18T00:39:00.967987Z",
     "iopub.status.busy": "2021-01-18T00:39:00.967385Z",
     "iopub.status.idle": "2021-01-18T00:39:00.969707Z",
     "shell.execute_reply": "2021-01-18T00:39:00.970277Z"
    },
    "papermill": {
     "duration": 0.040115,
     "end_time": "2021-01-18T00:39:00.970416",
     "exception": false,
     "start_time": "2021-01-18T00:39:00.930301",
     "status": "completed"
    },
    "tags": []
   },
   "outputs": [],
   "source": [
    "#hide\n",
    "def get_dates(df):\n",
    "    dt_cols = df.columns[~df.columns.isin(['Province/State', 'Country/Region', 'Lat', 'Long'])]\n",
    "    LAST_DATE_I = -1\n",
    "    # sometimes last column may be empty, then go backwards\n",
    "    for i in range(-1, -len(dt_cols), -1):\n",
    "        if not df[dt_cols[i]].fillna(0).eq(0).all():\n",
    "            LAST_DATE_I = i\n",
    "            break\n",
    "    return LAST_DATE_I, dt_cols"
   ]
  },
  {
   "cell_type": "code",
   "execution_count": 9,
   "metadata": {
    "execution": {
     "iopub.execute_input": "2021-01-18T00:39:01.034923Z",
     "iopub.status.busy": "2021-01-18T00:39:01.034340Z",
     "iopub.status.idle": "2021-01-18T00:39:01.456892Z",
     "shell.execute_reply": "2021-01-18T00:39:01.456372Z"
    },
    "papermill": {
     "duration": 0.457333,
     "end_time": "2021-01-18T00:39:01.457034",
     "exception": false,
     "start_time": "2021-01-18T00:39:00.999701",
     "status": "completed"
    },
    "tags": []
   },
   "outputs": [],
   "source": [
    "#hide\n",
    "COL_REGION = 'Country/Region'\n",
    "# Confirmed, Recovered, Deaths\n",
    "df = get_frame('confirmed')\n",
    "# dft_: timeseries, dfc_: today country agg\n",
    "dft_cases = df\n",
    "dft_deaths = get_frame('deaths')\n",
    "dft_recovered = get_frame('recovered')\n",
    "LAST_DATE_I, dt_cols = get_dates(df)"
   ]
  },
  {
   "cell_type": "code",
   "execution_count": 10,
   "metadata": {
    "execution": {
     "iopub.execute_input": "2021-01-18T00:39:01.525791Z",
     "iopub.status.busy": "2021-01-18T00:39:01.524955Z",
     "iopub.status.idle": "2021-01-18T00:39:01.526640Z",
     "shell.execute_reply": "2021-01-18T00:39:01.527271Z"
    },
    "papermill": {
     "duration": 0.038599,
     "end_time": "2021-01-18T00:39:01.527454",
     "exception": false,
     "start_time": "2021-01-18T00:39:01.488855",
     "status": "completed"
    },
    "tags": []
   },
   "outputs": [],
   "source": [
    "#hide\n",
    "LAST_DATE_I, dt_cols = get_dates(df)\n",
    "dt_today =dt_cols[LAST_DATE_I]\n",
    "# dt_5day = dt_cols[LAST_DATE_I - 5]\n",
    "dt_yday = dt_cols[LAST_DATE_I - 1]"
   ]
  },
  {
   "cell_type": "code",
   "execution_count": 11,
   "metadata": {
    "execution": {
     "iopub.execute_input": "2021-01-18T00:39:01.592451Z",
     "iopub.status.busy": "2021-01-18T00:39:01.591865Z",
     "iopub.status.idle": "2021-01-18T00:39:01.599497Z",
     "shell.execute_reply": "2021-01-18T00:39:01.599012Z"
    },
    "papermill": {
     "duration": 0.042529,
     "end_time": "2021-01-18T00:39:01.599618",
     "exception": false,
     "start_time": "2021-01-18T00:39:01.557089",
     "status": "completed"
    },
    "tags": []
   },
   "outputs": [],
   "source": [
    "#hide\n",
    "dfc_cases = dft_cases.groupby(COL_REGION)[dt_today].sum()\n",
    "dfc_deaths = dft_deaths.groupby(COL_REGION)[dt_today].sum()\n",
    "# dfp_cases = dft_cases.groupby(COL_REGION)[dt_5day].sum()\n",
    "# dfp_deaths = dft_deaths.groupby(COL_REGION)[dt_5day].sum()\n",
    "dfp_cases = dft_cases.groupby(COL_REGION)[dt_yday].sum()\n",
    "dfp_deaths = dft_deaths.groupby(COL_REGION)[dt_yday].sum()"
   ]
  },
  {
   "cell_type": "code",
   "execution_count": 12,
   "metadata": {
    "execution": {
     "iopub.execute_input": "2021-01-18T00:39:01.670523Z",
     "iopub.status.busy": "2021-01-18T00:39:01.669919Z",
     "iopub.status.idle": "2021-01-18T00:39:01.674593Z",
     "shell.execute_reply": "2021-01-18T00:39:01.675101Z"
    },
    "papermill": {
     "duration": 0.046607,
     "end_time": "2021-01-18T00:39:01.675247",
     "exception": false,
     "start_time": "2021-01-18T00:39:01.628640",
     "status": "completed"
    },
    "tags": []
   },
   "outputs": [],
   "source": [
    "#hide\n",
    "df_table = (pd.DataFrame(dict(Cases = dfc_cases, Deaths = dfc_deaths, PCases = dfp_cases, PDeaths = dfp_deaths))\n",
    "            .sort_values(by = ['Cases','Deaths'], ascending = [False, False])\n",
    "            .reset_index())"
   ]
  },
  {
   "cell_type": "code",
   "execution_count": 13,
   "metadata": {
    "execution": {
     "iopub.execute_input": "2021-01-18T00:39:01.748319Z",
     "iopub.status.busy": "2021-01-18T00:39:01.747710Z",
     "iopub.status.idle": "2021-01-18T00:39:01.773038Z",
     "shell.execute_reply": "2021-01-18T00:39:01.775009Z"
    },
    "papermill": {
     "duration": 0.07097,
     "end_time": "2021-01-18T00:39:01.775179",
     "exception": false,
     "start_time": "2021-01-18T00:39:01.704209",
     "status": "completed"
    },
    "tags": []
   },
   "outputs": [
    {
     "data": {
      "text/html": [
       "<div>\n",
       "<style scoped>\n",
       "    .dataframe tbody tr th:only-of-type {\n",
       "        vertical-align: middle;\n",
       "    }\n",
       "\n",
       "    .dataframe tbody tr th {\n",
       "        vertical-align: top;\n",
       "    }\n",
       "\n",
       "    .dataframe thead th {\n",
       "        text-align: right;\n",
       "    }\n",
       "</style>\n",
       "<table border=\"1\" class=\"dataframe\">\n",
       "  <thead>\n",
       "    <tr style=\"text-align: right;\">\n",
       "      <th></th>\n",
       "      <th>Country/Region</th>\n",
       "      <th>Cases</th>\n",
       "      <th>Deaths</th>\n",
       "      <th>PCases</th>\n",
       "      <th>PDeaths</th>\n",
       "      <th>Cases (+)</th>\n",
       "      <th>Deaths (+)</th>\n",
       "      <th>Fatality Rate</th>\n",
       "      <th>Continent</th>\n",
       "    </tr>\n",
       "  </thead>\n",
       "  <tbody>\n",
       "    <tr>\n",
       "      <th>0</th>\n",
       "      <td>US</td>\n",
       "      <td>23758855</td>\n",
       "      <td>395851</td>\n",
       "      <td>23556097</td>\n",
       "      <td>392499</td>\n",
       "      <td>202758</td>\n",
       "      <td>3352</td>\n",
       "      <td>1.67</td>\n",
       "      <td>North America</td>\n",
       "    </tr>\n",
       "    <tr>\n",
       "      <th>1</th>\n",
       "      <td>India</td>\n",
       "      <td>10557985</td>\n",
       "      <td>152274</td>\n",
       "      <td>10542841</td>\n",
       "      <td>152093</td>\n",
       "      <td>15144</td>\n",
       "      <td>181</td>\n",
       "      <td>1.44</td>\n",
       "      <td>Asia</td>\n",
       "    </tr>\n",
       "    <tr>\n",
       "      <th>2</th>\n",
       "      <td>Brazil</td>\n",
       "      <td>8455059</td>\n",
       "      <td>209296</td>\n",
       "      <td>8393492</td>\n",
       "      <td>208246</td>\n",
       "      <td>61567</td>\n",
       "      <td>1050</td>\n",
       "      <td>2.48</td>\n",
       "      <td>South America</td>\n",
       "    </tr>\n",
       "    <tr>\n",
       "      <th>3</th>\n",
       "      <td>Russia</td>\n",
       "      <td>3507201</td>\n",
       "      <td>64134</td>\n",
       "      <td>3483531</td>\n",
       "      <td>63558</td>\n",
       "      <td>23670</td>\n",
       "      <td>576</td>\n",
       "      <td>1.83</td>\n",
       "      <td>Europe</td>\n",
       "    </tr>\n",
       "    <tr>\n",
       "      <th>4</th>\n",
       "      <td>United Kingdom</td>\n",
       "      <td>3367070</td>\n",
       "      <td>88747</td>\n",
       "      <td>3325642</td>\n",
       "      <td>87448</td>\n",
       "      <td>41428</td>\n",
       "      <td>1299</td>\n",
       "      <td>2.64</td>\n",
       "      <td>Europe</td>\n",
       "    </tr>\n",
       "  </tbody>\n",
       "</table>\n",
       "</div>"
      ],
      "text/plain": [
       "   Country/Region     Cases  Deaths    PCases  PDeaths  Cases (+)  Deaths (+)  \\\n",
       "0              US  23758855  395851  23556097   392499     202758        3352   \n",
       "1           India  10557985  152274  10542841   152093      15144         181   \n",
       "2          Brazil   8455059  209296   8393492   208246      61567        1050   \n",
       "3          Russia   3507201   64134   3483531    63558      23670         576   \n",
       "4  United Kingdom   3367070   88747   3325642    87448      41428        1299   \n",
       "\n",
       "   Fatality Rate      Continent  \n",
       "0           1.67  North America  \n",
       "1           1.44           Asia  \n",
       "2           2.48  South America  \n",
       "3           1.83         Europe  \n",
       "4           2.64         Europe  "
      ]
     },
     "execution_count": 13,
     "metadata": {},
     "output_type": "execute_result"
    }
   ],
   "source": [
    "#hide\n",
    "for c in 'Cases, Deaths'.split(', '):\n",
    "    df_table[f'{c} (+)'] = (df_table[c] - df_table[f'P{c}']).clip(0)\n",
    "    #Clip ça veut dire, les chiffres negatif sont interdit\n",
    "df_table['Fatality Rate'] = (100* df_table['Deaths']/ df_table['Cases']).round(2)\n",
    "df_table['Continent'] = df_table['Country/Region'].map(mapping['map.continent'])\n",
    "df_table.head(5)"
   ]
  },
  {
   "cell_type": "code",
   "execution_count": 14,
   "metadata": {
    "execution": {
     "iopub.execute_input": "2021-01-18T00:39:01.844372Z",
     "iopub.status.busy": "2021-01-18T00:39:01.843635Z",
     "iopub.status.idle": "2021-01-18T00:39:01.845452Z",
     "shell.execute_reply": "2021-01-18T00:39:01.844909Z"
    },
    "papermill": {
     "duration": 0.040914,
     "end_time": "2021-01-18T00:39:01.845578",
     "exception": false,
     "start_time": "2021-01-18T00:39:01.804664",
     "status": "completed"
    },
    "tags": []
   },
   "outputs": [],
   "source": [
    "#hide\n",
    "#delete problematic countries from table\n",
    "df_table = df_table[~df_table['Country/Region'].isin(['Cape Verde', 'Cruise Ship', 'Kosovo'])]"
   ]
  },
  {
   "cell_type": "code",
   "execution_count": 15,
   "metadata": {
    "execution": {
     "iopub.execute_input": "2021-01-18T00:39:01.918700Z",
     "iopub.status.busy": "2021-01-18T00:39:01.918134Z",
     "iopub.status.idle": "2021-01-18T00:39:01.932303Z",
     "shell.execute_reply": "2021-01-18T00:39:01.932780Z"
    },
    "papermill": {
     "duration": 0.057888,
     "end_time": "2021-01-18T00:39:01.932934",
     "exception": false,
     "start_time": "2021-01-18T00:39:01.875046",
     "status": "completed"
    },
    "tags": []
   },
   "outputs": [
    {
     "data": {
      "text/html": [
       "<div>\n",
       "<style scoped>\n",
       "    .dataframe tbody tr th:only-of-type {\n",
       "        vertical-align: middle;\n",
       "    }\n",
       "\n",
       "    .dataframe tbody tr th {\n",
       "        vertical-align: top;\n",
       "    }\n",
       "\n",
       "    .dataframe thead th {\n",
       "        text-align: right;\n",
       "    }\n",
       "</style>\n",
       "<table border=\"1\" class=\"dataframe\">\n",
       "  <thead>\n",
       "    <tr style=\"text-align: right;\">\n",
       "      <th></th>\n",
       "      <th>Country/Region</th>\n",
       "      <th>Cases</th>\n",
       "      <th>Deaths</th>\n",
       "      <th>PCases</th>\n",
       "      <th>PDeaths</th>\n",
       "      <th>Cases (+)</th>\n",
       "      <th>Deaths (+)</th>\n",
       "      <th>Fatality Rate</th>\n",
       "      <th>Continent</th>\n",
       "    </tr>\n",
       "  </thead>\n",
       "  <tbody>\n",
       "    <tr>\n",
       "      <th>0</th>\n",
       "      <td>US</td>\n",
       "      <td>23758855</td>\n",
       "      <td>395851</td>\n",
       "      <td>23556097</td>\n",
       "      <td>392499</td>\n",
       "      <td>202758</td>\n",
       "      <td>3352</td>\n",
       "      <td>1.7</td>\n",
       "      <td>North America</td>\n",
       "    </tr>\n",
       "    <tr>\n",
       "      <th>1</th>\n",
       "      <td>India</td>\n",
       "      <td>10557985</td>\n",
       "      <td>152274</td>\n",
       "      <td>10542841</td>\n",
       "      <td>152093</td>\n",
       "      <td>15144</td>\n",
       "      <td>181</td>\n",
       "      <td>1.4</td>\n",
       "      <td>Asia</td>\n",
       "    </tr>\n",
       "    <tr>\n",
       "      <th>2</th>\n",
       "      <td>Brazil</td>\n",
       "      <td>8455059</td>\n",
       "      <td>209296</td>\n",
       "      <td>8393492</td>\n",
       "      <td>208246</td>\n",
       "      <td>61567</td>\n",
       "      <td>1050</td>\n",
       "      <td>2.5</td>\n",
       "      <td>South America</td>\n",
       "    </tr>\n",
       "    <tr>\n",
       "      <th>3</th>\n",
       "      <td>Russia</td>\n",
       "      <td>3507201</td>\n",
       "      <td>64134</td>\n",
       "      <td>3483531</td>\n",
       "      <td>63558</td>\n",
       "      <td>23670</td>\n",
       "      <td>576</td>\n",
       "      <td>1.8</td>\n",
       "      <td>Europe</td>\n",
       "    </tr>\n",
       "    <tr>\n",
       "      <th>4</th>\n",
       "      <td>United Kingdom</td>\n",
       "      <td>3367070</td>\n",
       "      <td>88747</td>\n",
       "      <td>3325642</td>\n",
       "      <td>87448</td>\n",
       "      <td>41428</td>\n",
       "      <td>1299</td>\n",
       "      <td>2.6</td>\n",
       "      <td>Europe</td>\n",
       "    </tr>\n",
       "  </tbody>\n",
       "</table>\n",
       "</div>"
      ],
      "text/plain": [
       "   Country/Region     Cases  Deaths    PCases  PDeaths  Cases (+)  Deaths (+)  \\\n",
       "0              US  23758855  395851  23556097   392499     202758        3352   \n",
       "1           India  10557985  152274  10542841   152093      15144         181   \n",
       "2          Brazil   8455059  209296   8393492   208246      61567        1050   \n",
       "3          Russia   3507201   64134   3483531    63558      23670         576   \n",
       "4  United Kingdom   3367070   88747   3325642    87448      41428        1299   \n",
       "\n",
       "   Fatality Rate      Continent  \n",
       "0            1.7  North America  \n",
       "1            1.4           Asia  \n",
       "2            2.5  South America  \n",
       "3            1.8         Europe  \n",
       "4            2.6         Europe  "
      ]
     },
     "execution_count": 15,
     "metadata": {},
     "output_type": "execute_result"
    }
   ],
   "source": [
    "#hide\n",
    "df_table = (pd.DataFrame(dict(Cases=dfc_cases, Deaths=dfc_deaths, PCases=dfp_cases, PDeaths=dfp_deaths))\n",
    "             .sort_values(by=['Cases', 'Deaths'], ascending=[False, False])\n",
    "             .reset_index())\n",
    "df_table.rename(columns={'index': 'Country/Region'}, inplace=True)\n",
    "for c in 'Cases, Deaths'.split(', '):\n",
    "    df_table[f'{c} (+)'] = (df_table[c] - df_table[f'P{c}']).clip(0)  # DATA BUG\n",
    "df_table['Fatality Rate'] = (100 * df_table['Deaths'] / df_table['Cases']).round(1)\n",
    "df_table['Continent'] = df_table['Country/Region'].map(mapping['map.continent'])\n",
    "df_table.head(5)"
   ]
  },
  {
   "cell_type": "code",
   "execution_count": 16,
   "metadata": {
    "execution": {
     "iopub.execute_input": "2021-01-18T00:39:02.002671Z",
     "iopub.status.busy": "2021-01-18T00:39:02.001972Z",
     "iopub.status.idle": "2021-01-18T00:39:02.003701Z",
     "shell.execute_reply": "2021-01-18T00:39:02.003211Z"
    },
    "papermill": {
     "duration": 0.039382,
     "end_time": "2021-01-18T00:39:02.003827",
     "exception": false,
     "start_time": "2021-01-18T00:39:01.964445",
     "status": "completed"
    },
    "tags": []
   },
   "outputs": [],
   "source": [
    "#hide\n",
    "#delete problematic countries from table\n",
    "df_table = df_table[~df_table['Country/Region'].isin(['Cape Verde', 'Cruise Ship', 'Kosovo'])]"
   ]
  },
  {
   "cell_type": "code",
   "execution_count": 17,
   "metadata": {
    "execution": {
     "iopub.execute_input": "2021-01-18T00:39:02.078960Z",
     "iopub.status.busy": "2021-01-18T00:39:02.078343Z",
     "iopub.status.idle": "2021-01-18T00:39:02.086619Z",
     "shell.execute_reply": "2021-01-18T00:39:02.087437Z"
    },
    "papermill": {
     "duration": 0.053358,
     "end_time": "2021-01-18T00:39:02.087595",
     "exception": false,
     "start_time": "2021-01-18T00:39:02.034237",
     "status": "completed"
    },
    "tags": []
   },
   "outputs": [],
   "source": [
    "#hide\n",
    "metrics = [df_table.columns[index] for index in [1,2,5,6]]\n",
    "# s_china = df_table[df_table['Country/Region'].eq('China')][metrics].sum().add_prefix('China ')\n",
    "s_us = df_table[df_table['Country/Region'].eq('US')][metrics].sum().add_prefix('US ')\n",
    "s_eu = df_table[df_table['Continent'].eq('Europe')][metrics].sum().add_prefix('EU ')\n",
    "s_ind = df_table[df_table['Country/Region'].eq('India')][metrics].sum().add_prefix('India ')\n",
    "summary = {'updated': pd.to_datetime(dt_today), 'since': pd.to_datetime(dt_yday)}\n",
    "summary = {'updated': pd.to_datetime(dt_today), 'since': pd.to_datetime(dt_yday)}\n",
    "summary = {**summary, **df_table[metrics].sum(), **s_ind, **s_us, **s_eu}"
   ]
  },
  {
   "cell_type": "code",
   "execution_count": 18,
   "metadata": {
    "execution": {
     "iopub.execute_input": "2021-01-18T00:39:02.159226Z",
     "iopub.status.busy": "2021-01-18T00:39:02.158546Z",
     "iopub.status.idle": "2021-01-18T00:39:02.165989Z",
     "shell.execute_reply": "2021-01-18T00:39:02.166781Z"
    },
    "papermill": {
     "duration": 0.047717,
     "end_time": "2021-01-18T00:39:02.166935",
     "exception": false,
     "start_time": "2021-01-18T00:39:02.119218",
     "status": "completed"
    },
    "tags": []
   },
   "outputs": [],
   "source": [
    "#hide\n",
    "dft_ct_new_cases = dft_cases.groupby(COL_REGION)[dt_cols].sum().diff(axis=1).fillna(0).astype(int)"
   ]
  },
  {
   "cell_type": "code",
   "execution_count": 19,
   "metadata": {
    "execution": {
     "iopub.execute_input": "2021-01-18T00:39:02.236701Z",
     "iopub.status.busy": "2021-01-18T00:39:02.235969Z",
     "iopub.status.idle": "2021-01-18T00:39:02.237754Z",
     "shell.execute_reply": "2021-01-18T00:39:02.237246Z"
    },
    "papermill": {
     "duration": 0.039174,
     "end_time": "2021-01-18T00:39:02.237874",
     "exception": false,
     "start_time": "2021-01-18T00:39:02.198700",
     "status": "completed"
    },
    "tags": []
   },
   "outputs": [],
   "source": [
    "#hide\n",
    "everydaycases = dft_ct_new_cases.cumsum(axis=1)"
   ]
  },
  {
   "cell_type": "code",
   "execution_count": 20,
   "metadata": {
    "execution": {
     "iopub.execute_input": "2021-01-18T00:39:02.307435Z",
     "iopub.status.busy": "2021-01-18T00:39:02.306844Z",
     "iopub.status.idle": "2021-01-18T00:39:03.334666Z",
     "shell.execute_reply": "2021-01-18T00:39:03.334039Z"
    },
    "papermill": {
     "duration": 1.066136,
     "end_time": "2021-01-18T00:39:03.334836",
     "exception": false,
     "start_time": "2021-01-18T00:39:02.268700",
     "status": "completed"
    },
    "tags": []
   },
   "outputs": [],
   "source": [
    "#hide\n",
    "import pandas as pd\n",
    "import matplotlib.pyplot as plt\n",
    "import matplotlib.ticker as ticker\n",
    "import matplotlib.animation as animation\n",
    "from IPython.display import HTML"
   ]
  },
  {
   "cell_type": "code",
   "execution_count": 21,
   "metadata": {
    "execution": {
     "iopub.execute_input": "2021-01-18T00:39:03.403406Z",
     "iopub.status.busy": "2021-01-18T00:39:03.402806Z",
     "iopub.status.idle": "2021-01-18T00:39:03.407952Z",
     "shell.execute_reply": "2021-01-18T00:39:03.407311Z"
    },
    "papermill": {
     "duration": 0.041531,
     "end_time": "2021-01-18T00:39:03.408083",
     "exception": false,
     "start_time": "2021-01-18T00:39:03.366552",
     "status": "completed"
    },
    "tags": []
   },
   "outputs": [],
   "source": [
    "#hide\n",
    "t = everydaycases.stack()"
   ]
  },
  {
   "cell_type": "code",
   "execution_count": 22,
   "metadata": {
    "execution": {
     "iopub.execute_input": "2021-01-18T00:39:03.478153Z",
     "iopub.status.busy": "2021-01-18T00:39:03.477303Z",
     "iopub.status.idle": "2021-01-18T00:39:03.484245Z",
     "shell.execute_reply": "2021-01-18T00:39:03.484710Z"
    },
    "papermill": {
     "duration": 0.043512,
     "end_time": "2021-01-18T00:39:03.484860",
     "exception": false,
     "start_time": "2021-01-18T00:39:03.441348",
     "status": "completed"
    },
    "tags": []
   },
   "outputs": [],
   "source": [
    "#hide\n",
    "g = t.reset_index(['Country/Region'])"
   ]
  },
  {
   "cell_type": "code",
   "execution_count": 23,
   "metadata": {
    "execution": {
     "iopub.execute_input": "2021-01-18T00:39:03.548088Z",
     "iopub.status.busy": "2021-01-18T00:39:03.547545Z",
     "iopub.status.idle": "2021-01-18T00:39:03.550492Z",
     "shell.execute_reply": "2021-01-18T00:39:03.550032Z"
    },
    "papermill": {
     "duration": 0.036293,
     "end_time": "2021-01-18T00:39:03.550613",
     "exception": false,
     "start_time": "2021-01-18T00:39:03.514320",
     "status": "completed"
    },
    "tags": []
   },
   "outputs": [],
   "source": [
    "#hide\n",
    "g.index.name = 'date'"
   ]
  },
  {
   "cell_type": "code",
   "execution_count": 24,
   "metadata": {
    "execution": {
     "iopub.execute_input": "2021-01-18T00:39:03.612597Z",
     "iopub.status.busy": "2021-01-18T00:39:03.612049Z",
     "iopub.status.idle": "2021-01-18T00:39:03.614683Z",
     "shell.execute_reply": "2021-01-18T00:39:03.614221Z"
    },
    "papermill": {
     "duration": 0.035921,
     "end_time": "2021-01-18T00:39:03.614821",
     "exception": false,
     "start_time": "2021-01-18T00:39:03.578900",
     "status": "completed"
    },
    "tags": []
   },
   "outputs": [],
   "source": [
    "# #hide\n",
    "# g = g.reset_index(['date'])"
   ]
  },
  {
   "cell_type": "code",
   "execution_count": 25,
   "metadata": {
    "execution": {
     "iopub.execute_input": "2021-01-18T00:39:03.679964Z",
     "iopub.status.busy": "2021-01-18T00:39:03.678650Z",
     "iopub.status.idle": "2021-01-18T00:39:03.681061Z",
     "shell.execute_reply": "2021-01-18T00:39:03.681936Z"
    },
    "papermill": {
     "duration": 0.038015,
     "end_time": "2021-01-18T00:39:03.682172",
     "exception": false,
     "start_time": "2021-01-18T00:39:03.644157",
     "status": "completed"
    },
    "tags": []
   },
   "outputs": [],
   "source": [
    "#hide\n",
    "# g.head()"
   ]
  },
  {
   "cell_type": "code",
   "execution_count": 26,
   "metadata": {
    "execution": {
     "iopub.execute_input": "2021-01-18T00:39:03.747569Z",
     "iopub.status.busy": "2021-01-18T00:39:03.747030Z",
     "iopub.status.idle": "2021-01-18T00:39:03.749376Z",
     "shell.execute_reply": "2021-01-18T00:39:03.748799Z"
    },
    "papermill": {
     "duration": 0.037018,
     "end_time": "2021-01-18T00:39:03.749524",
     "exception": false,
     "start_time": "2021-01-18T00:39:03.712506",
     "status": "completed"
    },
    "tags": []
   },
   "outputs": [],
   "source": [
    "#hide\n",
    "# g.columns = ['date','country','cases']"
   ]
  },
  {
   "cell_type": "code",
   "execution_count": 27,
   "metadata": {
    "execution": {
     "iopub.execute_input": "2021-01-18T00:39:03.815131Z",
     "iopub.status.busy": "2021-01-18T00:39:03.814541Z",
     "iopub.status.idle": "2021-01-18T00:39:03.817463Z",
     "shell.execute_reply": "2021-01-18T00:39:03.816968Z"
    },
    "papermill": {
     "duration": 0.036504,
     "end_time": "2021-01-18T00:39:03.817592",
     "exception": false,
     "start_time": "2021-01-18T00:39:03.781088",
     "status": "completed"
    },
    "tags": []
   },
   "outputs": [],
   "source": [
    "#hide\n",
    "# g['continent'] = g.country"
   ]
  },
  {
   "cell_type": "code",
   "execution_count": 28,
   "metadata": {
    "execution": {
     "iopub.execute_input": "2021-01-18T00:39:03.879337Z",
     "iopub.status.busy": "2021-01-18T00:39:03.878882Z",
     "iopub.status.idle": "2021-01-18T00:39:03.881058Z",
     "shell.execute_reply": "2021-01-18T00:39:03.880656Z"
    },
    "papermill": {
     "duration": 0.033453,
     "end_time": "2021-01-18T00:39:03.881160",
     "exception": false,
     "start_time": "2021-01-18T00:39:03.847707",
     "status": "completed"
    },
    "tags": []
   },
   "outputs": [],
   "source": [
    "#hide\n",
    "# cols = list(g.columns.values)"
   ]
  },
  {
   "cell_type": "code",
   "execution_count": 29,
   "metadata": {
    "execution": {
     "iopub.execute_input": "2021-01-18T00:39:03.943190Z",
     "iopub.status.busy": "2021-01-18T00:39:03.942650Z",
     "iopub.status.idle": "2021-01-18T00:39:03.944813Z",
     "shell.execute_reply": "2021-01-18T00:39:03.945397Z"
    },
    "papermill": {
     "duration": 0.035639,
     "end_time": "2021-01-18T00:39:03.945537",
     "exception": false,
     "start_time": "2021-01-18T00:39:03.909898",
     "status": "completed"
    },
    "tags": []
   },
   "outputs": [],
   "source": [
    "#hide\n",
    "# cols.insert(0, cols.pop())"
   ]
  },
  {
   "cell_type": "code",
   "execution_count": 30,
   "metadata": {
    "execution": {
     "iopub.execute_input": "2021-01-18T00:39:04.011599Z",
     "iopub.status.busy": "2021-01-18T00:39:04.011073Z",
     "iopub.status.idle": "2021-01-18T00:39:04.013370Z",
     "shell.execute_reply": "2021-01-18T00:39:04.012848Z"
    },
    "papermill": {
     "duration": 0.038983,
     "end_time": "2021-01-18T00:39:04.013497",
     "exception": false,
     "start_time": "2021-01-18T00:39:03.974514",
     "status": "completed"
    },
    "tags": []
   },
   "outputs": [],
   "source": [
    "#hide\n",
    "# g = g[cols]"
   ]
  },
  {
   "cell_type": "code",
   "execution_count": 31,
   "metadata": {
    "execution": {
     "iopub.execute_input": "2021-01-18T00:39:04.076910Z",
     "iopub.status.busy": "2021-01-18T00:39:04.076362Z",
     "iopub.status.idle": "2021-01-18T00:39:04.078677Z",
     "shell.execute_reply": "2021-01-18T00:39:04.078241Z"
    },
    "papermill": {
     "duration": 0.035314,
     "end_time": "2021-01-18T00:39:04.078795",
     "exception": false,
     "start_time": "2021-01-18T00:39:04.043481",
     "status": "completed"
    },
    "tags": []
   },
   "outputs": [],
   "source": [
    "#hide\n",
    "# g['continent'] = g['continent'].map(mapping['map.continent'])"
   ]
  },
  {
   "cell_type": "code",
   "execution_count": 32,
   "metadata": {
    "execution": {
     "iopub.execute_input": "2021-01-18T00:39:04.141521Z",
     "iopub.status.busy": "2021-01-18T00:39:04.141012Z",
     "iopub.status.idle": "2021-01-18T00:39:04.143334Z",
     "shell.execute_reply": "2021-01-18T00:39:04.142952Z"
    },
    "papermill": {
     "duration": 0.035676,
     "end_time": "2021-01-18T00:39:04.143459",
     "exception": false,
     "start_time": "2021-01-18T00:39:04.107783",
     "status": "completed"
    },
    "tags": []
   },
   "outputs": [],
   "source": [
    "#hide\n",
    "# g.head()"
   ]
  },
  {
   "cell_type": "code",
   "execution_count": 33,
   "metadata": {
    "execution": {
     "iopub.execute_input": "2021-01-18T00:39:04.206779Z",
     "iopub.status.busy": "2021-01-18T00:39:04.206186Z",
     "iopub.status.idle": "2021-01-18T00:39:04.208459Z",
     "shell.execute_reply": "2021-01-18T00:39:04.207943Z"
    },
    "papermill": {
     "duration": 0.035677,
     "end_time": "2021-01-18T00:39:04.208575",
     "exception": false,
     "start_time": "2021-01-18T00:39:04.172898",
     "status": "completed"
    },
    "tags": []
   },
   "outputs": [],
   "source": [
    "# hide\n",
    "# g['date'] = g['date'].astype('datetime64[ns]')"
   ]
  },
  {
   "cell_type": "code",
   "execution_count": 34,
   "metadata": {
    "execution": {
     "iopub.execute_input": "2021-01-18T00:39:04.278605Z",
     "iopub.status.busy": "2021-01-18T00:39:04.277721Z",
     "iopub.status.idle": "2021-01-18T00:39:04.280454Z",
     "shell.execute_reply": "2021-01-18T00:39:04.279959Z"
    },
    "papermill": {
     "duration": 0.04058,
     "end_time": "2021-01-18T00:39:04.280581",
     "exception": false,
     "start_time": "2021-01-18T00:39:04.240001",
     "status": "completed"
    },
    "tags": []
   },
   "outputs": [],
   "source": [
    "#hide\n",
    "# g['date'] = g.date.dt.dayofyear"
   ]
  },
  {
   "cell_type": "code",
   "execution_count": 35,
   "metadata": {
    "execution": {
     "iopub.execute_input": "2021-01-18T00:39:04.347656Z",
     "iopub.status.busy": "2021-01-18T00:39:04.347055Z",
     "iopub.status.idle": "2021-01-18T00:39:04.350463Z",
     "shell.execute_reply": "2021-01-18T00:39:04.350911Z"
    },
    "papermill": {
     "duration": 0.039364,
     "end_time": "2021-01-18T00:39:04.351062",
     "exception": false,
     "start_time": "2021-01-18T00:39:04.311698",
     "status": "completed"
    },
    "tags": []
   },
   "outputs": [],
   "source": [
    "#hide\n",
    "# g = g.rename(columns= {'continent':'group','country':'name','cases':'value'})"
   ]
  },
  {
   "cell_type": "code",
   "execution_count": 36,
   "metadata": {
    "execution": {
     "iopub.execute_input": "2021-01-18T00:39:04.414883Z",
     "iopub.status.busy": "2021-01-18T00:39:04.414264Z",
     "iopub.status.idle": "2021-01-18T00:39:04.417082Z",
     "shell.execute_reply": "2021-01-18T00:39:04.416620Z"
    },
    "papermill": {
     "duration": 0.036434,
     "end_time": "2021-01-18T00:39:04.417199",
     "exception": false,
     "start_time": "2021-01-18T00:39:04.380765",
     "status": "completed"
    },
    "tags": []
   },
   "outputs": [],
   "source": [
    "#hide\n",
    "# cols = ['name','group','day','value']"
   ]
  },
  {
   "cell_type": "code",
   "execution_count": 37,
   "metadata": {
    "execution": {
     "iopub.execute_input": "2021-01-18T00:39:04.479356Z",
     "iopub.status.busy": "2021-01-18T00:39:04.478778Z",
     "iopub.status.idle": "2021-01-18T00:39:04.482739Z",
     "shell.execute_reply": "2021-01-18T00:39:04.482182Z"
    },
    "papermill": {
     "duration": 0.036565,
     "end_time": "2021-01-18T00:39:04.482857",
     "exception": false,
     "start_time": "2021-01-18T00:39:04.446292",
     "status": "completed"
    },
    "tags": []
   },
   "outputs": [],
   "source": [
    "#hide\n",
    "# g.rename(columns= {'date':'day'},inplace = True)"
   ]
  },
  {
   "cell_type": "code",
   "execution_count": 38,
   "metadata": {
    "execution": {
     "iopub.execute_input": "2021-01-18T00:39:04.546315Z",
     "iopub.status.busy": "2021-01-18T00:39:04.545027Z",
     "iopub.status.idle": "2021-01-18T00:39:04.548244Z",
     "shell.execute_reply": "2021-01-18T00:39:04.547376Z"
    },
    "papermill": {
     "duration": 0.036002,
     "end_time": "2021-01-18T00:39:04.548444",
     "exception": false,
     "start_time": "2021-01-18T00:39:04.512442",
     "status": "completed"
    },
    "tags": []
   },
   "outputs": [],
   "source": [
    "#hide\n",
    "# g = g[cols]"
   ]
  },
  {
   "cell_type": "code",
   "execution_count": 39,
   "metadata": {
    "execution": {
     "iopub.execute_input": "2021-01-18T00:39:04.612862Z",
     "iopub.status.busy": "2021-01-18T00:39:04.612252Z",
     "iopub.status.idle": "2021-01-18T00:39:04.614458Z",
     "shell.execute_reply": "2021-01-18T00:39:04.613886Z"
    },
    "papermill": {
     "duration": 0.036535,
     "end_time": "2021-01-18T00:39:04.614581",
     "exception": false,
     "start_time": "2021-01-18T00:39:04.578046",
     "status": "completed"
    },
    "tags": []
   },
   "outputs": [],
   "source": [
    "# #hide\n",
    "# g = g[g.group.notna()]"
   ]
  },
  {
   "cell_type": "code",
   "execution_count": 40,
   "metadata": {
    "execution": {
     "iopub.execute_input": "2021-01-18T00:39:04.680173Z",
     "iopub.status.busy": "2021-01-18T00:39:04.679585Z",
     "iopub.status.idle": "2021-01-18T00:39:04.682384Z",
     "shell.execute_reply": "2021-01-18T00:39:04.681958Z"
    },
    "papermill": {
     "duration": 0.037232,
     "end_time": "2021-01-18T00:39:04.682520",
     "exception": false,
     "start_time": "2021-01-18T00:39:04.645288",
     "status": "completed"
    },
    "tags": []
   },
   "outputs": [],
   "source": [
    "# #hide\n",
    "# colors = dict(zip(\n",
    "#     [\"Oceania\", \"Europe\", \"Asia\", \"South America\", \"Middle East\", \"North America\", \"Africa\"],\n",
    "#     [\"#adb0ff\", \"#ffb3ff\", \"#90d595\", \"#e48381\", \"#aafbff\", \"#f7bb5f\", \"#eafb50\"]\n",
    "# ))\n",
    "# group_lk = g.set_index('name')['group'].to_dict()"
   ]
  },
  {
   "cell_type": "code",
   "execution_count": null,
   "metadata": {
    "papermill": {
     "duration": 0.029537,
     "end_time": "2021-01-18T00:39:04.741591",
     "exception": false,
     "start_time": "2021-01-18T00:39:04.712054",
     "status": "completed"
    },
    "tags": []
   },
   "outputs": [],
   "source": []
  },
  {
   "cell_type": "code",
   "execution_count": 41,
   "metadata": {
    "execution": {
     "iopub.execute_input": "2021-01-18T00:39:04.805439Z",
     "iopub.status.busy": "2021-01-18T00:39:04.804795Z",
     "iopub.status.idle": "2021-01-18T00:39:04.807063Z",
     "shell.execute_reply": "2021-01-18T00:39:04.806592Z"
    },
    "papermill": {
     "duration": 0.035727,
     "end_time": "2021-01-18T00:39:04.807176",
     "exception": false,
     "start_time": "2021-01-18T00:39:04.771449",
     "status": "completed"
    },
    "tags": []
   },
   "outputs": [],
   "source": [
    "# #hide\n",
    "# fig, ax = plt.subplots(figsize=(15, 8))\n",
    "\n",
    "# def draw_barchart(current_day):\n",
    "#     dff = g[g['day'].eq(current_day)].sort_values(by='value', ascending=True).tail(10)\n",
    "#     ax.clear()\n",
    "#     ax.barh(dff['name'], dff['value'], color=[colors[group_lk[x]] for x in dff['name']])\n",
    "#     dx = dff['value'].max() / 200\n",
    "    \n",
    "#     for i, (value, name) in enumerate(zip(dff['value'], dff['name'])):\n",
    "#         ax.text(value-dx, i,     name,           size=14, weight=600, ha='right', va='bottom')\n",
    "#         ax.text(value-dx, i-.25, group_lk[name], size=10, color='#444444', ha='right', va='baseline')\n",
    "#         ax.text(value+dx, i,     f'{value:,.0f}',  size=14, ha='left',  va='center')\n",
    "#     ax.text(1, 0.4, current_day, transform=ax.transAxes, color='#777777', size=46, ha='right', weight=800)\n",
    "#     ax.text(0, 1.06, 'Population (thousands)', transform=ax.transAxes, size=12, color='#777777')\n",
    "#     ax.xaxis.set_major_formatter(ticker.StrMethodFormatter('{x:,.0f}'))\n",
    "#     ax.xaxis.set_ticks_position('top')\n",
    "#     ax.tick_params(axis='x', colors='#777777', labelsize=12)\n",
    "#     ax.set_yticks([])\n",
    "#     ax.margins(0, 0.01)\n",
    "#     ax.grid(which='major', axis='x', linestyle='-')\n",
    "#     ax.set_axisbelow(True)\n",
    "    \n",
    "#     ax.text(0, 1.15, 'Coronavirus',\n",
    "#             transform=ax.transAxes, size=24, weight=600, ha='left', va='top')\n",
    "# #     ax.text(1, 0, 'by @pratapvardhan; credit @jburnmurdoch', transform=ax.transAxes, color='#777777', ha='right',\n",
    "# #             bbox=dict(facecolor='white', alpha=0.8, edgecolor='white'))\n",
    "#     plt.box(False)"
   ]
  },
  {
   "cell_type": "code",
   "execution_count": 42,
   "metadata": {
    "execution": {
     "iopub.execute_input": "2021-01-18T00:39:04.869094Z",
     "iopub.status.busy": "2021-01-18T00:39:04.868603Z",
     "iopub.status.idle": "2021-01-18T00:39:04.870877Z",
     "shell.execute_reply": "2021-01-18T00:39:04.871422Z"
    },
    "papermill": {
     "duration": 0.036126,
     "end_time": "2021-01-18T00:39:04.871583",
     "exception": false,
     "start_time": "2021-01-18T00:39:04.835457",
     "status": "completed"
    },
    "tags": []
   },
   "outputs": [],
   "source": [
    "# #hide_input\n",
    "# fig, ax = plt.subplots(figsize=(15, 8))\n",
    "# animator = animation.FuncAnimation(fig, draw_barchart, frames=range(g.day.values.min(), g.day.values.max()))\n",
    "# HTML(animator.to_jshtml())\n",
    "# # or use animator.to_html5_video() or animator.save() "
   ]
  },
  {
   "cell_type": "code",
   "execution_count": null,
   "metadata": {
    "papermill": {
     "duration": 0.029045,
     "end_time": "2021-01-18T00:39:04.928435",
     "exception": false,
     "start_time": "2021-01-18T00:39:04.899390",
     "status": "completed"
    },
    "tags": []
   },
   "outputs": [],
   "source": []
  },
  {
   "cell_type": "code",
   "execution_count": null,
   "metadata": {
    "papermill": {
     "duration": 0.029167,
     "end_time": "2021-01-18T00:39:04.985478",
     "exception": false,
     "start_time": "2021-01-18T00:39:04.956311",
     "status": "completed"
    },
    "tags": []
   },
   "outputs": [],
   "source": []
  },
  {
   "cell_type": "code",
   "execution_count": null,
   "metadata": {
    "papermill": {
     "duration": 0.029789,
     "end_time": "2021-01-18T00:39:05.045008",
     "exception": false,
     "start_time": "2021-01-18T00:39:05.015219",
     "status": "completed"
    },
    "tags": []
   },
   "outputs": [],
   "source": []
  }
 ],
 "metadata": {
  "kernelspec": {
   "display_name": "Python 3",
   "language": "python",
   "name": "python3"
  },
  "language_info": {
   "codemirror_mode": {
    "name": "ipython",
    "version": 3
   },
   "file_extension": ".py",
   "mimetype": "text/x-python",
   "name": "python",
   "nbconvert_exporter": "python",
   "pygments_lexer": "ipython3",
   "version": "3.6.12"
  },
  "papermill": {
   "duration": 6.545129,
   "end_time": "2021-01-18T00:39:05.383535",
   "environment_variables": {},
   "exception": null,
   "input_path": "2020-03-21-covid19exp.ipynb",
   "output_path": "2020-03-21-covid19exp.ipynb",
   "parameters": {},
   "start_time": "2021-01-18T00:38:58.838406",
   "version": "2.0.0"
  }
 },
 "nbformat": 4,
 "nbformat_minor": 4
}