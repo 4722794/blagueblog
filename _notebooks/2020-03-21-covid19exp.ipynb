{
 "cells": [
  {
   "cell_type": "markdown",
   "id": "muslim-click",
   "metadata": {
    "papermill": {
     "duration": 0.042675,
     "end_time": "2021-05-17T12:11:31.033294",
     "exception": false,
     "start_time": "2021-05-17T12:11:30.990619",
     "status": "completed"
    },
    "tags": []
   },
   "source": [
    "# COVID-19 Case Race\n",
    "> A race chart to see rising cases around the world\n",
    "\n",
    "- author: Hargun Oberoi\n",
    "- image: images/covid-overview.png\n",
    "- hide: false\n",
    "- badges: false"
   ]
  },
  {
   "cell_type": "code",
   "execution_count": 1,
   "id": "proof-material",
   "metadata": {
    "execution": {
     "iopub.execute_input": "2021-05-17T12:11:31.122080Z",
     "iopub.status.busy": "2021-05-17T12:11:31.121524Z",
     "iopub.status.idle": "2021-05-17T12:11:31.501299Z",
     "shell.execute_reply": "2021-05-17T12:11:31.500378Z"
    },
    "papermill": {
     "duration": 0.428492,
     "end_time": "2021-05-17T12:11:31.501449",
     "exception": false,
     "start_time": "2021-05-17T12:11:31.072957",
     "status": "completed"
    },
    "tags": []
   },
   "outputs": [],
   "source": [
    "#hide\n",
    "import numpy as np\n",
    "import pandas as pd\n",
    "from jinja2 import Template\n",
    "from IPython.display import HTML"
   ]
  },
  {
   "cell_type": "code",
   "execution_count": 2,
   "id": "developed-terminology",
   "metadata": {
    "execution": {
     "iopub.execute_input": "2021-05-17T12:11:31.579278Z",
     "iopub.status.busy": "2021-05-17T12:11:31.578622Z",
     "iopub.status.idle": "2021-05-17T12:11:31.580536Z",
     "shell.execute_reply": "2021-05-17T12:11:31.581060Z"
    },
    "papermill": {
     "duration": 0.041514,
     "end_time": "2021-05-17T12:11:31.581242",
     "exception": false,
     "start_time": "2021-05-17T12:11:31.539728",
     "status": "completed"
    },
    "tags": []
   },
   "outputs": [],
   "source": [
    "#hide\n",
    "\n",
    "# FETCH\n",
    "base_url = 'https://raw.githubusercontent.com/pratapvardhan/notebooks/master/covid19/'\n",
    "paths = {\n",
    "    'mapping': base_url + 'mapping_countries.csv',\n",
    "    'overview': base_url + 'overview.tpl'\n",
    "}"
   ]
  },
  {
   "cell_type": "code",
   "execution_count": 3,
   "id": "dynamic-saver",
   "metadata": {
    "execution": {
     "iopub.execute_input": "2021-05-17T12:11:31.672328Z",
     "iopub.status.busy": "2021-05-17T12:11:31.671580Z",
     "iopub.status.idle": "2021-05-17T12:11:31.675045Z",
     "shell.execute_reply": "2021-05-17T12:11:31.674527Z"
    },
    "papermill": {
     "duration": 0.056516,
     "end_time": "2021-05-17T12:11:31.675190",
     "exception": false,
     "start_time": "2021-05-17T12:11:31.618674",
     "status": "completed"
    },
    "tags": []
   },
   "outputs": [
    {
     "data": {
      "text/plain": [
       "'https://raw.githubusercontent.com/pratapvardhan/notebooks/master/covid19/mapping_countries.csv'"
      ]
     },
     "execution_count": 3,
     "metadata": {},
     "output_type": "execute_result"
    }
   ],
   "source": [
    "#hide\n",
    "paths['mapping']"
   ]
  },
  {
   "cell_type": "code",
   "execution_count": 4,
   "id": "urban-software",
   "metadata": {
    "execution": {
     "iopub.execute_input": "2021-05-17T12:11:31.761103Z",
     "iopub.status.busy": "2021-05-17T12:11:31.760462Z",
     "iopub.status.idle": "2021-05-17T12:11:31.763228Z",
     "shell.execute_reply": "2021-05-17T12:11:31.762627Z"
    },
    "papermill": {
     "duration": 0.04988,
     "end_time": "2021-05-17T12:11:31.763368",
     "exception": false,
     "start_time": "2021-05-17T12:11:31.713488",
     "status": "completed"
    },
    "tags": []
   },
   "outputs": [],
   "source": [
    "#hide\n",
    "def get_mappings(url):\n",
    "    df = pd.read_csv(url)\n",
    "    return {\n",
    "        'df': df,\n",
    "        'replace.country': dict(df.dropna(subset=['Name']).set_index('Country')['Name']),\n",
    "        'map.continent': dict(df.set_index('Name')['Continent'])\n",
    "    }"
   ]
  },
  {
   "cell_type": "code",
   "execution_count": 5,
   "id": "intimate-machinery",
   "metadata": {
    "execution": {
     "iopub.execute_input": "2021-05-17T12:11:31.848172Z",
     "iopub.status.busy": "2021-05-17T12:11:31.847540Z",
     "iopub.status.idle": "2021-05-17T12:11:31.888796Z",
     "shell.execute_reply": "2021-05-17T12:11:31.888302Z"
    },
    "papermill": {
     "duration": 0.085813,
     "end_time": "2021-05-17T12:11:31.888919",
     "exception": false,
     "start_time": "2021-05-17T12:11:31.803106",
     "status": "completed"
    },
    "tags": []
   },
   "outputs": [],
   "source": [
    "#hide\n",
    "mapping = get_mappings(paths['mapping'])"
   ]
  },
  {
   "cell_type": "code",
   "execution_count": 6,
   "id": "certified-tactics",
   "metadata": {
    "execution": {
     "iopub.execute_input": "2021-05-17T12:11:31.969460Z",
     "iopub.status.busy": "2021-05-17T12:11:31.968792Z",
     "iopub.status.idle": "2021-05-17T12:11:31.971303Z",
     "shell.execute_reply": "2021-05-17T12:11:31.970730Z"
    },
    "papermill": {
     "duration": 0.04551,
     "end_time": "2021-05-17T12:11:31.971414",
     "exception": false,
     "start_time": "2021-05-17T12:11:31.925904",
     "status": "completed"
    },
    "tags": []
   },
   "outputs": [],
   "source": [
    "#hide\n",
    "def get_template(path):\n",
    "    from urllib.parse import urlparse\n",
    "    if bool(urlparse(path).netloc):\n",
    "        from urllib.request import urlopen\n",
    "        return urlopen(path).read().decode('utf8')\n",
    "    return open(path).read()"
   ]
  },
  {
   "cell_type": "code",
   "execution_count": 7,
   "id": "realistic-blast",
   "metadata": {
    "execution": {
     "iopub.execute_input": "2021-05-17T12:11:32.048264Z",
     "iopub.status.busy": "2021-05-17T12:11:32.047687Z",
     "iopub.status.idle": "2021-05-17T12:11:32.050163Z",
     "shell.execute_reply": "2021-05-17T12:11:32.049519Z"
    },
    "papermill": {
     "duration": 0.042795,
     "end_time": "2021-05-17T12:11:32.050294",
     "exception": false,
     "start_time": "2021-05-17T12:11:32.007499",
     "status": "completed"
    },
    "tags": []
   },
   "outputs": [],
   "source": [
    "#hide\n",
    "def get_frame(name):\n",
    "    url = (\n",
    "        'https://raw.githubusercontent.com/CSSEGISandData/COVID-19/master/csse_covid_19_data/'\n",
    "        f'csse_covid_19_time_series/time_series_covid19_{name}_global.csv')\n",
    "    df = pd.read_csv(url)\n",
    "    # rename countries\n",
    "    df['Country/Region'] = df['Country/Region'].replace(mapping['replace.country'])\n",
    "    return df"
   ]
  },
  {
   "cell_type": "code",
   "execution_count": 8,
   "id": "affiliated-characterization",
   "metadata": {
    "execution": {
     "iopub.execute_input": "2021-05-17T12:11:32.127795Z",
     "iopub.status.busy": "2021-05-17T12:11:32.127270Z",
     "iopub.status.idle": "2021-05-17T12:11:32.129256Z",
     "shell.execute_reply": "2021-05-17T12:11:32.129737Z"
    },
    "papermill": {
     "duration": 0.044577,
     "end_time": "2021-05-17T12:11:32.129851",
     "exception": false,
     "start_time": "2021-05-17T12:11:32.085274",
     "status": "completed"
    },
    "tags": []
   },
   "outputs": [],
   "source": [
    "#hide\n",
    "def get_dates(df):\n",
    "    dt_cols = df.columns[~df.columns.isin(['Province/State', 'Country/Region', 'Lat', 'Long'])]\n",
    "    LAST_DATE_I = -1\n",
    "    # sometimes last column may be empty, then go backwards\n",
    "    for i in range(-1, -len(dt_cols), -1):\n",
    "        if not df[dt_cols[i]].fillna(0).eq(0).all():\n",
    "            LAST_DATE_I = i\n",
    "            break\n",
    "    return LAST_DATE_I, dt_cols"
   ]
  },
  {
   "cell_type": "code",
   "execution_count": 9,
   "id": "recent-optimization",
   "metadata": {
    "execution": {
     "iopub.execute_input": "2021-05-17T12:11:32.214972Z",
     "iopub.status.busy": "2021-05-17T12:11:32.214272Z",
     "iopub.status.idle": "2021-05-17T12:11:32.568517Z",
     "shell.execute_reply": "2021-05-17T12:11:32.567883Z"
    },
    "papermill": {
     "duration": 0.398632,
     "end_time": "2021-05-17T12:11:32.568677",
     "exception": false,
     "start_time": "2021-05-17T12:11:32.170045",
     "status": "completed"
    },
    "tags": []
   },
   "outputs": [],
   "source": [
    "#hide\n",
    "COL_REGION = 'Country/Region'\n",
    "# Confirmed, Recovered, Deaths\n",
    "df = get_frame('confirmed')\n",
    "# dft_: timeseries, dfc_: today country agg\n",
    "dft_cases = df\n",
    "dft_deaths = get_frame('deaths')\n",
    "dft_recovered = get_frame('recovered')\n",
    "LAST_DATE_I, dt_cols = get_dates(df)"
   ]
  },
  {
   "cell_type": "code",
   "execution_count": 10,
   "id": "absolute-copper",
   "metadata": {
    "execution": {
     "iopub.execute_input": "2021-05-17T12:11:32.647221Z",
     "iopub.status.busy": "2021-05-17T12:11:32.646466Z",
     "iopub.status.idle": "2021-05-17T12:11:32.648788Z",
     "shell.execute_reply": "2021-05-17T12:11:32.648237Z"
    },
    "papermill": {
     "duration": 0.043748,
     "end_time": "2021-05-17T12:11:32.648965",
     "exception": false,
     "start_time": "2021-05-17T12:11:32.605217",
     "status": "completed"
    },
    "tags": []
   },
   "outputs": [],
   "source": [
    "#hide\n",
    "LAST_DATE_I, dt_cols = get_dates(df)\n",
    "dt_today =dt_cols[LAST_DATE_I]\n",
    "# dt_5day = dt_cols[LAST_DATE_I - 5]\n",
    "dt_yday = dt_cols[LAST_DATE_I - 1]"
   ]
  },
  {
   "cell_type": "code",
   "execution_count": 11,
   "id": "restricted-sheriff",
   "metadata": {
    "execution": {
     "iopub.execute_input": "2021-05-17T12:11:32.726330Z",
     "iopub.status.busy": "2021-05-17T12:11:32.725728Z",
     "iopub.status.idle": "2021-05-17T12:11:32.733476Z",
     "shell.execute_reply": "2021-05-17T12:11:32.733054Z"
    },
    "papermill": {
     "duration": 0.048493,
     "end_time": "2021-05-17T12:11:32.733582",
     "exception": false,
     "start_time": "2021-05-17T12:11:32.685089",
     "status": "completed"
    },
    "tags": []
   },
   "outputs": [],
   "source": [
    "#hide\n",
    "dfc_cases = dft_cases.groupby(COL_REGION)[dt_today].sum()\n",
    "dfc_deaths = dft_deaths.groupby(COL_REGION)[dt_today].sum()\n",
    "# dfp_cases = dft_cases.groupby(COL_REGION)[dt_5day].sum()\n",
    "# dfp_deaths = dft_deaths.groupby(COL_REGION)[dt_5day].sum()\n",
    "dfp_cases = dft_cases.groupby(COL_REGION)[dt_yday].sum()\n",
    "dfp_deaths = dft_deaths.groupby(COL_REGION)[dt_yday].sum()"
   ]
  },
  {
   "cell_type": "code",
   "execution_count": 12,
   "id": "deluxe-hepatitis",
   "metadata": {
    "execution": {
     "iopub.execute_input": "2021-05-17T12:11:32.811563Z",
     "iopub.status.busy": "2021-05-17T12:11:32.810812Z",
     "iopub.status.idle": "2021-05-17T12:11:32.815754Z",
     "shell.execute_reply": "2021-05-17T12:11:32.816423Z"
    },
    "papermill": {
     "duration": 0.047351,
     "end_time": "2021-05-17T12:11:32.816544",
     "exception": false,
     "start_time": "2021-05-17T12:11:32.769193",
     "status": "completed"
    },
    "tags": []
   },
   "outputs": [],
   "source": [
    "#hide\n",
    "df_table = (pd.DataFrame(dict(Cases = dfc_cases, Deaths = dfc_deaths, PCases = dfp_cases, PDeaths = dfp_deaths))\n",
    "            .sort_values(by = ['Cases','Deaths'], ascending = [False, False])\n",
    "            .reset_index())"
   ]
  },
  {
   "cell_type": "code",
   "execution_count": 13,
   "id": "educational-chancellor",
   "metadata": {
    "execution": {
     "iopub.execute_input": "2021-05-17T12:11:32.911284Z",
     "iopub.status.busy": "2021-05-17T12:11:32.910608Z",
     "iopub.status.idle": "2021-05-17T12:11:32.919100Z",
     "shell.execute_reply": "2021-05-17T12:11:32.919540Z"
    },
    "papermill": {
     "duration": 0.066751,
     "end_time": "2021-05-17T12:11:32.919671",
     "exception": false,
     "start_time": "2021-05-17T12:11:32.852920",
     "status": "completed"
    },
    "tags": []
   },
   "outputs": [
    {
     "data": {
      "text/html": [
       "<div>\n",
       "<style scoped>\n",
       "    .dataframe tbody tr th:only-of-type {\n",
       "        vertical-align: middle;\n",
       "    }\n",
       "\n",
       "    .dataframe tbody tr th {\n",
       "        vertical-align: top;\n",
       "    }\n",
       "\n",
       "    .dataframe thead th {\n",
       "        text-align: right;\n",
       "    }\n",
       "</style>\n",
       "<table border=\"1\" class=\"dataframe\">\n",
       "  <thead>\n",
       "    <tr style=\"text-align: right;\">\n",
       "      <th></th>\n",
       "      <th>Country/Region</th>\n",
       "      <th>Cases</th>\n",
       "      <th>Deaths</th>\n",
       "      <th>PCases</th>\n",
       "      <th>PDeaths</th>\n",
       "      <th>Cases (+)</th>\n",
       "      <th>Deaths (+)</th>\n",
       "      <th>Fatality Rate</th>\n",
       "      <th>Continent</th>\n",
       "    </tr>\n",
       "  </thead>\n",
       "  <tbody>\n",
       "    <tr>\n",
       "      <th>0</th>\n",
       "      <td>US</td>\n",
       "      <td>32940846</td>\n",
       "      <td>585970</td>\n",
       "      <td>32923982</td>\n",
       "      <td>585708</td>\n",
       "      <td>16864</td>\n",
       "      <td>262</td>\n",
       "      <td>1.78</td>\n",
       "      <td>North America</td>\n",
       "    </tr>\n",
       "    <tr>\n",
       "      <th>1</th>\n",
       "      <td>India</td>\n",
       "      <td>24965463</td>\n",
       "      <td>274390</td>\n",
       "      <td>24684077</td>\n",
       "      <td>270284</td>\n",
       "      <td>281386</td>\n",
       "      <td>4106</td>\n",
       "      <td>1.10</td>\n",
       "      <td>Asia</td>\n",
       "    </tr>\n",
       "    <tr>\n",
       "      <th>2</th>\n",
       "      <td>Brazil</td>\n",
       "      <td>15627243</td>\n",
       "      <td>435751</td>\n",
       "      <td>15586534</td>\n",
       "      <td>434715</td>\n",
       "      <td>40709</td>\n",
       "      <td>1036</td>\n",
       "      <td>2.79</td>\n",
       "      <td>South America</td>\n",
       "    </tr>\n",
       "    <tr>\n",
       "      <th>3</th>\n",
       "      <td>France</td>\n",
       "      <td>5939019</td>\n",
       "      <td>107777</td>\n",
       "      <td>5925071</td>\n",
       "      <td>107696</td>\n",
       "      <td>13948</td>\n",
       "      <td>81</td>\n",
       "      <td>1.81</td>\n",
       "      <td>Europe</td>\n",
       "    </tr>\n",
       "    <tr>\n",
       "      <th>4</th>\n",
       "      <td>Turkey</td>\n",
       "      <td>5117374</td>\n",
       "      <td>44760</td>\n",
       "      <td>5106862</td>\n",
       "      <td>44537</td>\n",
       "      <td>10512</td>\n",
       "      <td>223</td>\n",
       "      <td>0.87</td>\n",
       "      <td>Asia</td>\n",
       "    </tr>\n",
       "  </tbody>\n",
       "</table>\n",
       "</div>"
      ],
      "text/plain": [
       "  Country/Region     Cases  Deaths    PCases  PDeaths  Cases (+)  Deaths (+)  \\\n",
       "0             US  32940846  585970  32923982   585708      16864         262   \n",
       "1          India  24965463  274390  24684077   270284     281386        4106   \n",
       "2         Brazil  15627243  435751  15586534   434715      40709        1036   \n",
       "3         France   5939019  107777   5925071   107696      13948          81   \n",
       "4         Turkey   5117374   44760   5106862    44537      10512         223   \n",
       "\n",
       "   Fatality Rate      Continent  \n",
       "0           1.78  North America  \n",
       "1           1.10           Asia  \n",
       "2           2.79  South America  \n",
       "3           1.81         Europe  \n",
       "4           0.87           Asia  "
      ]
     },
     "execution_count": 13,
     "metadata": {},
     "output_type": "execute_result"
    }
   ],
   "source": [
    "#hide\n",
    "for c in 'Cases, Deaths'.split(', '):\n",
    "    df_table[f'{c} (+)'] = (df_table[c] - df_table[f'P{c}']).clip(0)\n",
    "    #Clip ça veut dire, les chiffres negatif sont interdit\n",
    "df_table['Fatality Rate'] = (100* df_table['Deaths']/ df_table['Cases']).round(2)\n",
    "df_table['Continent'] = df_table['Country/Region'].map(mapping['map.continent'])\n",
    "df_table.head(5)"
   ]
  },
  {
   "cell_type": "code",
   "execution_count": 14,
   "id": "aboriginal-bulgaria",
   "metadata": {
    "execution": {
     "iopub.execute_input": "2021-05-17T12:11:33.005118Z",
     "iopub.status.busy": "2021-05-17T12:11:33.004580Z",
     "iopub.status.idle": "2021-05-17T12:11:33.006908Z",
     "shell.execute_reply": "2021-05-17T12:11:33.007350Z"
    },
    "papermill": {
     "duration": 0.046221,
     "end_time": "2021-05-17T12:11:33.007468",
     "exception": false,
     "start_time": "2021-05-17T12:11:32.961247",
     "status": "completed"
    },
    "tags": []
   },
   "outputs": [],
   "source": [
    "#hide\n",
    "#delete problematic countries from table\n",
    "df_table = df_table[~df_table['Country/Region'].isin(['Cape Verde', 'Cruise Ship', 'Kosovo'])]"
   ]
  },
  {
   "cell_type": "code",
   "execution_count": 15,
   "id": "fantastic-effect",
   "metadata": {
    "execution": {
     "iopub.execute_input": "2021-05-17T12:11:33.089358Z",
     "iopub.status.busy": "2021-05-17T12:11:33.088746Z",
     "iopub.status.idle": "2021-05-17T12:11:33.112089Z",
     "shell.execute_reply": "2021-05-17T12:11:33.112738Z"
    },
    "papermill": {
     "duration": 0.069417,
     "end_time": "2021-05-17T12:11:33.112862",
     "exception": false,
     "start_time": "2021-05-17T12:11:33.043445",
     "status": "completed"
    },
    "tags": []
   },
   "outputs": [
    {
     "data": {
      "text/html": [
       "<div>\n",
       "<style scoped>\n",
       "    .dataframe tbody tr th:only-of-type {\n",
       "        vertical-align: middle;\n",
       "    }\n",
       "\n",
       "    .dataframe tbody tr th {\n",
       "        vertical-align: top;\n",
       "    }\n",
       "\n",
       "    .dataframe thead th {\n",
       "        text-align: right;\n",
       "    }\n",
       "</style>\n",
       "<table border=\"1\" class=\"dataframe\">\n",
       "  <thead>\n",
       "    <tr style=\"text-align: right;\">\n",
       "      <th></th>\n",
       "      <th>Country/Region</th>\n",
       "      <th>Cases</th>\n",
       "      <th>Deaths</th>\n",
       "      <th>PCases</th>\n",
       "      <th>PDeaths</th>\n",
       "      <th>Cases (+)</th>\n",
       "      <th>Deaths (+)</th>\n",
       "      <th>Fatality Rate</th>\n",
       "      <th>Continent</th>\n",
       "    </tr>\n",
       "  </thead>\n",
       "  <tbody>\n",
       "    <tr>\n",
       "      <th>0</th>\n",
       "      <td>US</td>\n",
       "      <td>32940846</td>\n",
       "      <td>585970</td>\n",
       "      <td>32923982</td>\n",
       "      <td>585708</td>\n",
       "      <td>16864</td>\n",
       "      <td>262</td>\n",
       "      <td>1.8</td>\n",
       "      <td>North America</td>\n",
       "    </tr>\n",
       "    <tr>\n",
       "      <th>1</th>\n",
       "      <td>India</td>\n",
       "      <td>24965463</td>\n",
       "      <td>274390</td>\n",
       "      <td>24684077</td>\n",
       "      <td>270284</td>\n",
       "      <td>281386</td>\n",
       "      <td>4106</td>\n",
       "      <td>1.1</td>\n",
       "      <td>Asia</td>\n",
       "    </tr>\n",
       "    <tr>\n",
       "      <th>2</th>\n",
       "      <td>Brazil</td>\n",
       "      <td>15627243</td>\n",
       "      <td>435751</td>\n",
       "      <td>15586534</td>\n",
       "      <td>434715</td>\n",
       "      <td>40709</td>\n",
       "      <td>1036</td>\n",
       "      <td>2.8</td>\n",
       "      <td>South America</td>\n",
       "    </tr>\n",
       "    <tr>\n",
       "      <th>3</th>\n",
       "      <td>France</td>\n",
       "      <td>5939019</td>\n",
       "      <td>107777</td>\n",
       "      <td>5925071</td>\n",
       "      <td>107696</td>\n",
       "      <td>13948</td>\n",
       "      <td>81</td>\n",
       "      <td>1.8</td>\n",
       "      <td>Europe</td>\n",
       "    </tr>\n",
       "    <tr>\n",
       "      <th>4</th>\n",
       "      <td>Turkey</td>\n",
       "      <td>5117374</td>\n",
       "      <td>44760</td>\n",
       "      <td>5106862</td>\n",
       "      <td>44537</td>\n",
       "      <td>10512</td>\n",
       "      <td>223</td>\n",
       "      <td>0.9</td>\n",
       "      <td>Asia</td>\n",
       "    </tr>\n",
       "  </tbody>\n",
       "</table>\n",
       "</div>"
      ],
      "text/plain": [
       "  Country/Region     Cases  Deaths    PCases  PDeaths  Cases (+)  Deaths (+)  \\\n",
       "0             US  32940846  585970  32923982   585708      16864         262   \n",
       "1          India  24965463  274390  24684077   270284     281386        4106   \n",
       "2         Brazil  15627243  435751  15586534   434715      40709        1036   \n",
       "3         France   5939019  107777   5925071   107696      13948          81   \n",
       "4         Turkey   5117374   44760   5106862    44537      10512         223   \n",
       "\n",
       "   Fatality Rate      Continent  \n",
       "0            1.8  North America  \n",
       "1            1.1           Asia  \n",
       "2            2.8  South America  \n",
       "3            1.8         Europe  \n",
       "4            0.9           Asia  "
      ]
     },
     "execution_count": 15,
     "metadata": {},
     "output_type": "execute_result"
    }
   ],
   "source": [
    "#hide\n",
    "df_table = (pd.DataFrame(dict(Cases=dfc_cases, Deaths=dfc_deaths, PCases=dfp_cases, PDeaths=dfp_deaths))\n",
    "             .sort_values(by=['Cases', 'Deaths'], ascending=[False, False])\n",
    "             .reset_index())\n",
    "df_table.rename(columns={'index': 'Country/Region'}, inplace=True)\n",
    "for c in 'Cases, Deaths'.split(', '):\n",
    "    df_table[f'{c} (+)'] = (df_table[c] - df_table[f'P{c}']).clip(0)  # DATA BUG\n",
    "df_table['Fatality Rate'] = (100 * df_table['Deaths'] / df_table['Cases']).round(1)\n",
    "df_table['Continent'] = df_table['Country/Region'].map(mapping['map.continent'])\n",
    "df_table.head(5)"
   ]
  },
  {
   "cell_type": "code",
   "execution_count": 16,
   "id": "fewer-occasion",
   "metadata": {
    "execution": {
     "iopub.execute_input": "2021-05-17T12:11:33.193320Z",
     "iopub.status.busy": "2021-05-17T12:11:33.192745Z",
     "iopub.status.idle": "2021-05-17T12:11:33.196236Z",
     "shell.execute_reply": "2021-05-17T12:11:33.196962Z"
    },
    "papermill": {
     "duration": 0.046932,
     "end_time": "2021-05-17T12:11:33.197101",
     "exception": false,
     "start_time": "2021-05-17T12:11:33.150169",
     "status": "completed"
    },
    "tags": []
   },
   "outputs": [],
   "source": [
    "#hide\n",
    "#delete problematic countries from table\n",
    "df_table = df_table[~df_table['Country/Region'].isin(['Cape Verde', 'Cruise Ship', 'Kosovo'])]"
   ]
  },
  {
   "cell_type": "code",
   "execution_count": 17,
   "id": "related-center",
   "metadata": {
    "execution": {
     "iopub.execute_input": "2021-05-17T12:11:33.292209Z",
     "iopub.status.busy": "2021-05-17T12:11:33.291610Z",
     "iopub.status.idle": "2021-05-17T12:11:33.294296Z",
     "shell.execute_reply": "2021-05-17T12:11:33.293822Z"
    },
    "papermill": {
     "duration": 0.060791,
     "end_time": "2021-05-17T12:11:33.294415",
     "exception": false,
     "start_time": "2021-05-17T12:11:33.233624",
     "status": "completed"
    },
    "tags": []
   },
   "outputs": [],
   "source": [
    "#hide\n",
    "metrics = [df_table.columns[index] for index in [1,2,5,6]]\n",
    "# s_china = df_table[df_table['Country/Region'].eq('China')][metrics].sum().add_prefix('China ')\n",
    "s_us = df_table[df_table['Country/Region'].eq('US')][metrics].sum().add_prefix('US ')\n",
    "s_eu = df_table[df_table['Continent'].eq('Europe')][metrics].sum().add_prefix('EU ')\n",
    "s_ind = df_table[df_table['Country/Region'].eq('India')][metrics].sum().add_prefix('India ')\n",
    "summary = {'updated': pd.to_datetime(dt_today), 'since': pd.to_datetime(dt_yday)}\n",
    "summary = {'updated': pd.to_datetime(dt_today), 'since': pd.to_datetime(dt_yday)}\n",
    "summary = {**summary, **df_table[metrics].sum(), **s_ind, **s_us, **s_eu}"
   ]
  },
  {
   "cell_type": "code",
   "execution_count": 18,
   "id": "engaging-syndrome",
   "metadata": {
    "execution": {
     "iopub.execute_input": "2021-05-17T12:11:33.378200Z",
     "iopub.status.busy": "2021-05-17T12:11:33.377505Z",
     "iopub.status.idle": "2021-05-17T12:11:33.390582Z",
     "shell.execute_reply": "2021-05-17T12:11:33.390019Z"
    },
    "papermill": {
     "duration": 0.057515,
     "end_time": "2021-05-17T12:11:33.390706",
     "exception": false,
     "start_time": "2021-05-17T12:11:33.333191",
     "status": "completed"
    },
    "tags": []
   },
   "outputs": [],
   "source": [
    "#hide\n",
    "dft_ct_new_cases = dft_cases.groupby(COL_REGION)[dt_cols].sum().diff(axis=1).fillna(0).astype(int)"
   ]
  },
  {
   "cell_type": "code",
   "execution_count": 19,
   "id": "neutral-assignment",
   "metadata": {
    "execution": {
     "iopub.execute_input": "2021-05-17T12:11:33.474394Z",
     "iopub.status.busy": "2021-05-17T12:11:33.473797Z",
     "iopub.status.idle": "2021-05-17T12:11:33.476280Z",
     "shell.execute_reply": "2021-05-17T12:11:33.475678Z"
    },
    "papermill": {
     "duration": 0.048701,
     "end_time": "2021-05-17T12:11:33.476454",
     "exception": false,
     "start_time": "2021-05-17T12:11:33.427753",
     "status": "completed"
    },
    "tags": []
   },
   "outputs": [],
   "source": [
    "#hide\n",
    "everydaycases = dft_ct_new_cases.cumsum(axis=1)"
   ]
  },
  {
   "cell_type": "code",
   "execution_count": 20,
   "id": "parliamentary-calgary",
   "metadata": {
    "execution": {
     "iopub.execute_input": "2021-05-17T12:11:33.562246Z",
     "iopub.status.busy": "2021-05-17T12:11:33.561595Z",
     "iopub.status.idle": "2021-05-17T12:11:34.175284Z",
     "shell.execute_reply": "2021-05-17T12:11:34.174602Z"
    },
    "papermill": {
     "duration": 0.659559,
     "end_time": "2021-05-17T12:11:34.175426",
     "exception": false,
     "start_time": "2021-05-17T12:11:33.515867",
     "status": "completed"
    },
    "tags": []
   },
   "outputs": [],
   "source": [
    "#hide\n",
    "import pandas as pd\n",
    "import matplotlib.pyplot as plt\n",
    "import matplotlib.ticker as ticker\n",
    "import matplotlib.animation as animation\n",
    "from IPython.display import HTML"
   ]
  },
  {
   "cell_type": "code",
   "execution_count": 21,
   "id": "lasting-extraction",
   "metadata": {
    "execution": {
     "iopub.execute_input": "2021-05-17T12:11:34.263869Z",
     "iopub.status.busy": "2021-05-17T12:11:34.263254Z",
     "iopub.status.idle": "2021-05-17T12:11:34.268353Z",
     "shell.execute_reply": "2021-05-17T12:11:34.269056Z"
    },
    "papermill": {
     "duration": 0.05376,
     "end_time": "2021-05-17T12:11:34.269212",
     "exception": false,
     "start_time": "2021-05-17T12:11:34.215452",
     "status": "completed"
    },
    "tags": []
   },
   "outputs": [],
   "source": [
    "#hide\n",
    "t = everydaycases.stack()"
   ]
  },
  {
   "cell_type": "code",
   "execution_count": 22,
   "id": "premier-sleeve",
   "metadata": {
    "execution": {
     "iopub.execute_input": "2021-05-17T12:11:34.349874Z",
     "iopub.status.busy": "2021-05-17T12:11:34.349270Z",
     "iopub.status.idle": "2021-05-17T12:11:34.357145Z",
     "shell.execute_reply": "2021-05-17T12:11:34.357695Z"
    },
    "papermill": {
     "duration": 0.049634,
     "end_time": "2021-05-17T12:11:34.357829",
     "exception": false,
     "start_time": "2021-05-17T12:11:34.308195",
     "status": "completed"
    },
    "tags": []
   },
   "outputs": [],
   "source": [
    "#hide\n",
    "g = t.reset_index(['Country/Region'])"
   ]
  },
  {
   "cell_type": "code",
   "execution_count": 23,
   "id": "distributed-pittsburgh",
   "metadata": {
    "execution": {
     "iopub.execute_input": "2021-05-17T12:11:34.437659Z",
     "iopub.status.busy": "2021-05-17T12:11:34.436965Z",
     "iopub.status.idle": "2021-05-17T12:11:34.440157Z",
     "shell.execute_reply": "2021-05-17T12:11:34.439167Z"
    },
    "papermill": {
     "duration": 0.044678,
     "end_time": "2021-05-17T12:11:34.440340",
     "exception": false,
     "start_time": "2021-05-17T12:11:34.395662",
     "status": "completed"
    },
    "tags": []
   },
   "outputs": [],
   "source": [
    "#hide\n",
    "g.index.name = 'date'"
   ]
  },
  {
   "cell_type": "code",
   "execution_count": 24,
   "id": "naked-donor",
   "metadata": {
    "execution": {
     "iopub.execute_input": "2021-05-17T12:11:34.520161Z",
     "iopub.status.busy": "2021-05-17T12:11:34.519448Z",
     "iopub.status.idle": "2021-05-17T12:11:34.521978Z",
     "shell.execute_reply": "2021-05-17T12:11:34.522558Z"
    },
    "papermill": {
     "duration": 0.043411,
     "end_time": "2021-05-17T12:11:34.522716",
     "exception": false,
     "start_time": "2021-05-17T12:11:34.479305",
     "status": "completed"
    },
    "tags": []
   },
   "outputs": [],
   "source": [
    "# #hide\n",
    "# g = g.reset_index(['date'])"
   ]
  },
  {
   "cell_type": "code",
   "execution_count": 25,
   "id": "incomplete-mustang",
   "metadata": {
    "execution": {
     "iopub.execute_input": "2021-05-17T12:11:34.606073Z",
     "iopub.status.busy": "2021-05-17T12:11:34.605394Z",
     "iopub.status.idle": "2021-05-17T12:11:34.607546Z",
     "shell.execute_reply": "2021-05-17T12:11:34.608073Z"
    },
    "papermill": {
     "duration": 0.04954,
     "end_time": "2021-05-17T12:11:34.608220",
     "exception": false,
     "start_time": "2021-05-17T12:11:34.558680",
     "status": "completed"
    },
    "tags": []
   },
   "outputs": [],
   "source": [
    "#hide\n",
    "# g.head()"
   ]
  },
  {
   "cell_type": "code",
   "execution_count": 26,
   "id": "specific-kruger",
   "metadata": {
    "execution": {
     "iopub.execute_input": "2021-05-17T12:11:34.685209Z",
     "iopub.status.busy": "2021-05-17T12:11:34.684532Z",
     "iopub.status.idle": "2021-05-17T12:11:34.687812Z",
     "shell.execute_reply": "2021-05-17T12:11:34.688397Z"
    },
    "papermill": {
     "duration": 0.043746,
     "end_time": "2021-05-17T12:11:34.688528",
     "exception": false,
     "start_time": "2021-05-17T12:11:34.644782",
     "status": "completed"
    },
    "tags": []
   },
   "outputs": [],
   "source": [
    "#hide\n",
    "# g.columns = ['date','country','cases']"
   ]
  },
  {
   "cell_type": "code",
   "execution_count": 27,
   "id": "tender-conversion",
   "metadata": {
    "execution": {
     "iopub.execute_input": "2021-05-17T12:11:34.767861Z",
     "iopub.status.busy": "2021-05-17T12:11:34.767152Z",
     "iopub.status.idle": "2021-05-17T12:11:34.769722Z",
     "shell.execute_reply": "2021-05-17T12:11:34.769182Z"
    },
    "papermill": {
     "duration": 0.044695,
     "end_time": "2021-05-17T12:11:34.769864",
     "exception": false,
     "start_time": "2021-05-17T12:11:34.725169",
     "status": "completed"
    },
    "tags": []
   },
   "outputs": [],
   "source": [
    "#hide\n",
    "# g['continent'] = g.country"
   ]
  },
  {
   "cell_type": "code",
   "execution_count": 28,
   "id": "substantial-wilderness",
   "metadata": {
    "execution": {
     "iopub.execute_input": "2021-05-17T12:11:34.847256Z",
     "iopub.status.busy": "2021-05-17T12:11:34.846677Z",
     "iopub.status.idle": "2021-05-17T12:11:34.849499Z",
     "shell.execute_reply": "2021-05-17T12:11:34.850014Z"
    },
    "papermill": {
     "duration": 0.042427,
     "end_time": "2021-05-17T12:11:34.850151",
     "exception": false,
     "start_time": "2021-05-17T12:11:34.807724",
     "status": "completed"
    },
    "tags": []
   },
   "outputs": [],
   "source": [
    "#hide\n",
    "# cols = list(g.columns.values)"
   ]
  },
  {
   "cell_type": "code",
   "execution_count": 29,
   "id": "solved-farming",
   "metadata": {
    "execution": {
     "iopub.execute_input": "2021-05-17T12:11:34.928448Z",
     "iopub.status.busy": "2021-05-17T12:11:34.927899Z",
     "iopub.status.idle": "2021-05-17T12:11:34.930510Z",
     "shell.execute_reply": "2021-05-17T12:11:34.929974Z"
    },
    "papermill": {
     "duration": 0.041297,
     "end_time": "2021-05-17T12:11:34.930621",
     "exception": false,
     "start_time": "2021-05-17T12:11:34.889324",
     "status": "completed"
    },
    "tags": []
   },
   "outputs": [],
   "source": [
    "#hide\n",
    "# cols.insert(0, cols.pop())"
   ]
  },
  {
   "cell_type": "code",
   "execution_count": 30,
   "id": "executed-adoption",
   "metadata": {
    "execution": {
     "iopub.execute_input": "2021-05-17T12:11:35.007298Z",
     "iopub.status.busy": "2021-05-17T12:11:35.006591Z",
     "iopub.status.idle": "2021-05-17T12:11:35.009316Z",
     "shell.execute_reply": "2021-05-17T12:11:35.008887Z"
    },
    "papermill": {
     "duration": 0.042269,
     "end_time": "2021-05-17T12:11:35.009423",
     "exception": false,
     "start_time": "2021-05-17T12:11:34.967154",
     "status": "completed"
    },
    "tags": []
   },
   "outputs": [],
   "source": [
    "#hide\n",
    "# g = g[cols]"
   ]
  },
  {
   "cell_type": "code",
   "execution_count": 31,
   "id": "subject-dublin",
   "metadata": {
    "execution": {
     "iopub.execute_input": "2021-05-17T12:11:35.086369Z",
     "iopub.status.busy": "2021-05-17T12:11:35.085555Z",
     "iopub.status.idle": "2021-05-17T12:11:35.088603Z",
     "shell.execute_reply": "2021-05-17T12:11:35.088100Z"
    },
    "papermill": {
     "duration": 0.043744,
     "end_time": "2021-05-17T12:11:35.088743",
     "exception": false,
     "start_time": "2021-05-17T12:11:35.044999",
     "status": "completed"
    },
    "tags": []
   },
   "outputs": [],
   "source": [
    "#hide\n",
    "# g['continent'] = g['continent'].map(mapping['map.continent'])"
   ]
  },
  {
   "cell_type": "code",
   "execution_count": 32,
   "id": "freelance-scout",
   "metadata": {
    "execution": {
     "iopub.execute_input": "2021-05-17T12:11:35.162180Z",
     "iopub.status.busy": "2021-05-17T12:11:35.161558Z",
     "iopub.status.idle": "2021-05-17T12:11:35.163724Z",
     "shell.execute_reply": "2021-05-17T12:11:35.164318Z"
    },
    "papermill": {
     "duration": 0.039804,
     "end_time": "2021-05-17T12:11:35.164466",
     "exception": false,
     "start_time": "2021-05-17T12:11:35.124662",
     "status": "completed"
    },
    "tags": []
   },
   "outputs": [],
   "source": [
    "#hide\n",
    "# g.head()"
   ]
  },
  {
   "cell_type": "code",
   "execution_count": 33,
   "id": "limited-engine",
   "metadata": {
    "execution": {
     "iopub.execute_input": "2021-05-17T12:11:35.242168Z",
     "iopub.status.busy": "2021-05-17T12:11:35.241636Z",
     "iopub.status.idle": "2021-05-17T12:11:35.243876Z",
     "shell.execute_reply": "2021-05-17T12:11:35.244458Z"
    },
    "papermill": {
     "duration": 0.043707,
     "end_time": "2021-05-17T12:11:35.244579",
     "exception": false,
     "start_time": "2021-05-17T12:11:35.200872",
     "status": "completed"
    },
    "tags": []
   },
   "outputs": [],
   "source": [
    "# hide\n",
    "# g['date'] = g['date'].astype('datetime64[ns]')"
   ]
  },
  {
   "cell_type": "code",
   "execution_count": 34,
   "id": "sophisticated-supervisor",
   "metadata": {
    "execution": {
     "iopub.execute_input": "2021-05-17T12:11:35.321516Z",
     "iopub.status.busy": "2021-05-17T12:11:35.320855Z",
     "iopub.status.idle": "2021-05-17T12:11:35.323305Z",
     "shell.execute_reply": "2021-05-17T12:11:35.322745Z"
    },
    "papermill": {
     "duration": 0.041733,
     "end_time": "2021-05-17T12:11:35.323436",
     "exception": false,
     "start_time": "2021-05-17T12:11:35.281703",
     "status": "completed"
    },
    "tags": []
   },
   "outputs": [],
   "source": [
    "#hide\n",
    "# g['date'] = g.date.dt.dayofyear"
   ]
  },
  {
   "cell_type": "code",
   "execution_count": 35,
   "id": "inside-dubai",
   "metadata": {
    "execution": {
     "iopub.execute_input": "2021-05-17T12:11:35.402196Z",
     "iopub.status.busy": "2021-05-17T12:11:35.401633Z",
     "iopub.status.idle": "2021-05-17T12:11:35.404573Z",
     "shell.execute_reply": "2021-05-17T12:11:35.403811Z"
    },
    "papermill": {
     "duration": 0.044915,
     "end_time": "2021-05-17T12:11:35.404688",
     "exception": false,
     "start_time": "2021-05-17T12:11:35.359773",
     "status": "completed"
    },
    "tags": []
   },
   "outputs": [],
   "source": [
    "#hide\n",
    "# g = g.rename(columns= {'continent':'group','country':'name','cases':'value'})"
   ]
  },
  {
   "cell_type": "code",
   "execution_count": 36,
   "id": "fleet-motorcycle",
   "metadata": {
    "execution": {
     "iopub.execute_input": "2021-05-17T12:11:35.485293Z",
     "iopub.status.busy": "2021-05-17T12:11:35.484690Z",
     "iopub.status.idle": "2021-05-17T12:11:35.487149Z",
     "shell.execute_reply": "2021-05-17T12:11:35.486627Z"
    },
    "papermill": {
     "duration": 0.045658,
     "end_time": "2021-05-17T12:11:35.487266",
     "exception": false,
     "start_time": "2021-05-17T12:11:35.441608",
     "status": "completed"
    },
    "tags": []
   },
   "outputs": [],
   "source": [
    "#hide\n",
    "# cols = ['name','group','day','value']"
   ]
  },
  {
   "cell_type": "code",
   "execution_count": 37,
   "id": "continued-sleeping",
   "metadata": {
    "execution": {
     "iopub.execute_input": "2021-05-17T12:11:35.567098Z",
     "iopub.status.busy": "2021-05-17T12:11:35.566429Z",
     "iopub.status.idle": "2021-05-17T12:11:35.568876Z",
     "shell.execute_reply": "2021-05-17T12:11:35.568266Z"
    },
    "papermill": {
     "duration": 0.042878,
     "end_time": "2021-05-17T12:11:35.569014",
     "exception": false,
     "start_time": "2021-05-17T12:11:35.526136",
     "status": "completed"
    },
    "tags": []
   },
   "outputs": [],
   "source": [
    "#hide\n",
    "# g.rename(columns= {'date':'day'},inplace = True)"
   ]
  },
  {
   "cell_type": "code",
   "execution_count": 38,
   "id": "major-fight",
   "metadata": {
    "execution": {
     "iopub.execute_input": "2021-05-17T12:11:35.651410Z",
     "iopub.status.busy": "2021-05-17T12:11:35.650831Z",
     "iopub.status.idle": "2021-05-17T12:11:35.652797Z",
     "shell.execute_reply": "2021-05-17T12:11:35.653484Z"
    },
    "papermill": {
     "duration": 0.044355,
     "end_time": "2021-05-17T12:11:35.653616",
     "exception": false,
     "start_time": "2021-05-17T12:11:35.609261",
     "status": "completed"
    },
    "tags": []
   },
   "outputs": [],
   "source": [
    "#hide\n",
    "# g = g[cols]"
   ]
  },
  {
   "cell_type": "code",
   "execution_count": 39,
   "id": "structured-mobile",
   "metadata": {
    "execution": {
     "iopub.execute_input": "2021-05-17T12:11:35.732728Z",
     "iopub.status.busy": "2021-05-17T12:11:35.732140Z",
     "iopub.status.idle": "2021-05-17T12:11:35.734973Z",
     "shell.execute_reply": "2021-05-17T12:11:35.734396Z"
    },
    "papermill": {
     "duration": 0.043142,
     "end_time": "2021-05-17T12:11:35.735090",
     "exception": false,
     "start_time": "2021-05-17T12:11:35.691948",
     "status": "completed"
    },
    "tags": []
   },
   "outputs": [],
   "source": [
    "# #hide\n",
    "# g = g[g.group.notna()]"
   ]
  },
  {
   "cell_type": "code",
   "execution_count": 40,
   "id": "determined-closing",
   "metadata": {
    "execution": {
     "iopub.execute_input": "2021-05-17T12:11:35.812806Z",
     "iopub.status.busy": "2021-05-17T12:11:35.811925Z",
     "iopub.status.idle": "2021-05-17T12:11:35.814642Z",
     "shell.execute_reply": "2021-05-17T12:11:35.815140Z"
    },
    "papermill": {
     "duration": 0.043397,
     "end_time": "2021-05-17T12:11:35.815258",
     "exception": false,
     "start_time": "2021-05-17T12:11:35.771861",
     "status": "completed"
    },
    "tags": []
   },
   "outputs": [],
   "source": [
    "# #hide\n",
    "# colors = dict(zip(\n",
    "#     [\"Oceania\", \"Europe\", \"Asia\", \"South America\", \"Middle East\", \"North America\", \"Africa\"],\n",
    "#     [\"#adb0ff\", \"#ffb3ff\", \"#90d595\", \"#e48381\", \"#aafbff\", \"#f7bb5f\", \"#eafb50\"]\n",
    "# ))\n",
    "# group_lk = g.set_index('name')['group'].to_dict()"
   ]
  },
  {
   "cell_type": "code",
   "execution_count": null,
   "id": "gross-drinking",
   "metadata": {
    "papermill": {
     "duration": 0.041035,
     "end_time": "2021-05-17T12:11:35.892353",
     "exception": false,
     "start_time": "2021-05-17T12:11:35.851318",
     "status": "completed"
    },
    "tags": []
   },
   "outputs": [],
   "source": []
  },
  {
   "cell_type": "code",
   "execution_count": 41,
   "id": "subject-macintosh",
   "metadata": {
    "execution": {
     "iopub.execute_input": "2021-05-17T12:11:35.970370Z",
     "iopub.status.busy": "2021-05-17T12:11:35.969704Z",
     "iopub.status.idle": "2021-05-17T12:11:35.972210Z",
     "shell.execute_reply": "2021-05-17T12:11:35.971699Z"
    },
    "papermill": {
     "duration": 0.043936,
     "end_time": "2021-05-17T12:11:35.972341",
     "exception": false,
     "start_time": "2021-05-17T12:11:35.928405",
     "status": "completed"
    },
    "tags": []
   },
   "outputs": [],
   "source": [
    "# #hide\n",
    "# fig, ax = plt.subplots(figsize=(15, 8))\n",
    "\n",
    "# def draw_barchart(current_day):\n",
    "#     dff = g[g['day'].eq(current_day)].sort_values(by='value', ascending=True).tail(10)\n",
    "#     ax.clear()\n",
    "#     ax.barh(dff['name'], dff['value'], color=[colors[group_lk[x]] for x in dff['name']])\n",
    "#     dx = dff['value'].max() / 200\n",
    "    \n",
    "#     for i, (value, name) in enumerate(zip(dff['value'], dff['name'])):\n",
    "#         ax.text(value-dx, i,     name,           size=14, weight=600, ha='right', va='bottom')\n",
    "#         ax.text(value-dx, i-.25, group_lk[name], size=10, color='#444444', ha='right', va='baseline')\n",
    "#         ax.text(value+dx, i,     f'{value:,.0f}',  size=14, ha='left',  va='center')\n",
    "#     ax.text(1, 0.4, current_day, transform=ax.transAxes, color='#777777', size=46, ha='right', weight=800)\n",
    "#     ax.text(0, 1.06, 'Population (thousands)', transform=ax.transAxes, size=12, color='#777777')\n",
    "#     ax.xaxis.set_major_formatter(ticker.StrMethodFormatter('{x:,.0f}'))\n",
    "#     ax.xaxis.set_ticks_position('top')\n",
    "#     ax.tick_params(axis='x', colors='#777777', labelsize=12)\n",
    "#     ax.set_yticks([])\n",
    "#     ax.margins(0, 0.01)\n",
    "#     ax.grid(which='major', axis='x', linestyle='-')\n",
    "#     ax.set_axisbelow(True)\n",
    "    \n",
    "#     ax.text(0, 1.15, 'Coronavirus',\n",
    "#             transform=ax.transAxes, size=24, weight=600, ha='left', va='top')\n",
    "# #     ax.text(1, 0, 'by @pratapvardhan; credit @jburnmurdoch', transform=ax.transAxes, color='#777777', ha='right',\n",
    "# #             bbox=dict(facecolor='white', alpha=0.8, edgecolor='white'))\n",
    "#     plt.box(False)"
   ]
  },
  {
   "cell_type": "code",
   "execution_count": 42,
   "id": "sexual-wages",
   "metadata": {
    "execution": {
     "iopub.execute_input": "2021-05-17T12:11:36.055866Z",
     "iopub.status.busy": "2021-05-17T12:11:36.055257Z",
     "iopub.status.idle": "2021-05-17T12:11:36.058245Z",
     "shell.execute_reply": "2021-05-17T12:11:36.057717Z"
    },
    "papermill": {
     "duration": 0.047863,
     "end_time": "2021-05-17T12:11:36.058369",
     "exception": false,
     "start_time": "2021-05-17T12:11:36.010506",
     "status": "completed"
    },
    "tags": []
   },
   "outputs": [],
   "source": [
    "# #hide_input\n",
    "# fig, ax = plt.subplots(figsize=(15, 8))\n",
    "# animator = animation.FuncAnimation(fig, draw_barchart, frames=range(g.day.values.min(), g.day.values.max()))\n",
    "# HTML(animator.to_jshtml())\n",
    "# # or use animator.to_html5_video() or animator.save() "
   ]
  },
  {
   "cell_type": "code",
   "execution_count": null,
   "id": "australian-container",
   "metadata": {
    "papermill": {
     "duration": 0.03742,
     "end_time": "2021-05-17T12:11:36.135480",
     "exception": false,
     "start_time": "2021-05-17T12:11:36.098060",
     "status": "completed"
    },
    "tags": []
   },
   "outputs": [],
   "source": []
  },
  {
   "cell_type": "code",
   "execution_count": null,
   "id": "mediterranean-pontiac",
   "metadata": {
    "papermill": {
     "duration": 0.037043,
     "end_time": "2021-05-17T12:11:36.210354",
     "exception": false,
     "start_time": "2021-05-17T12:11:36.173311",
     "status": "completed"
    },
    "tags": []
   },
   "outputs": [],
   "source": []
  },
  {
   "cell_type": "code",
   "execution_count": null,
   "id": "aging-legislature",
   "metadata": {
    "papermill": {
     "duration": 0.038276,
     "end_time": "2021-05-17T12:11:36.286922",
     "exception": false,
     "start_time": "2021-05-17T12:11:36.248646",
     "status": "completed"
    },
    "tags": []
   },
   "outputs": [],
   "source": []
  }
 ],
 "metadata": {
  "kernelspec": {
   "display_name": "Python 3",
   "language": "python",
   "name": "python3"
  },
  "language_info": {
   "codemirror_mode": {
    "name": "ipython",
    "version": 3
   },
   "file_extension": ".py",
   "mimetype": "text/x-python",
   "name": "python",
   "nbconvert_exporter": "python",
   "pygments_lexer": "ipython3",
   "version": "3.6.13"
  },
  "papermill": {
   "duration": 6.764958,
   "end_time": "2021-05-17T12:11:36.632327",
   "environment_variables": {},
   "exception": null,
   "input_path": "2020-03-21-covid19exp.ipynb",
   "output_path": "2020-03-21-covid19exp.ipynb",
   "parameters": {},
   "start_time": "2021-05-17T12:11:29.867369",
   "version": "2.0.0"
  }
 },
 "nbformat": 4,
 "nbformat_minor": 5
}