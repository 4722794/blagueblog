{
 "cells": [
  {
   "cell_type": "markdown",
   "id": "muslim-click",
   "metadata": {
    "papermill": {
     "duration": 0.034715,
     "end_time": "2022-06-08T00:40:51.667633",
     "exception": false,
     "start_time": "2022-06-08T00:40:51.632918",
     "status": "completed"
    },
    "tags": []
   },
   "source": [
    "# COVID-19 Case Race\n",
    "> A race chart to see rising cases around the world\n",
    "\n",
    "- author: Hargun Oberoi\n",
    "- image: images/covid-overview.png\n",
    "- hide: false\n",
    "- badges: false"
   ]
  },
  {
   "cell_type": "code",
   "execution_count": 1,
   "id": "proof-material",
   "metadata": {
    "execution": {
     "iopub.execute_input": "2022-06-08T00:40:51.737555Z",
     "iopub.status.busy": "2022-06-08T00:40:51.736952Z",
     "iopub.status.idle": "2022-06-08T00:40:52.062584Z",
     "shell.execute_reply": "2022-06-08T00:40:52.062015Z"
    },
    "papermill": {
     "duration": 0.365197,
     "end_time": "2022-06-08T00:40:52.062741",
     "exception": false,
     "start_time": "2022-06-08T00:40:51.697544",
     "status": "completed"
    },
    "tags": []
   },
   "outputs": [],
   "source": [
    "#hide\n",
    "import numpy as np\n",
    "import pandas as pd\n",
    "from jinja2 import Template\n",
    "from IPython.display import HTML"
   ]
  },
  {
   "cell_type": "code",
   "execution_count": 2,
   "id": "developed-terminology",
   "metadata": {
    "execution": {
     "iopub.execute_input": "2022-06-08T00:40:52.127762Z",
     "iopub.status.busy": "2022-06-08T00:40:52.127159Z",
     "iopub.status.idle": "2022-06-08T00:40:52.129560Z",
     "shell.execute_reply": "2022-06-08T00:40:52.130100Z"
    },
    "papermill": {
     "duration": 0.037134,
     "end_time": "2022-06-08T00:40:52.130236",
     "exception": false,
     "start_time": "2022-06-08T00:40:52.093102",
     "status": "completed"
    },
    "tags": []
   },
   "outputs": [],
   "source": [
    "#hide\n",
    "\n",
    "# FETCH\n",
    "base_url = 'https://raw.githubusercontent.com/pratapvardhan/notebooks/master/covid19/'\n",
    "paths = {\n",
    "    'mapping': base_url + 'mapping_countries.csv',\n",
    "    'overview': base_url + 'overview.tpl'\n",
    "}"
   ]
  },
  {
   "cell_type": "code",
   "execution_count": 3,
   "id": "dynamic-saver",
   "metadata": {
    "execution": {
     "iopub.execute_input": "2022-06-08T00:40:52.198121Z",
     "iopub.status.busy": "2022-06-08T00:40:52.197540Z",
     "iopub.status.idle": "2022-06-08T00:40:52.200322Z",
     "shell.execute_reply": "2022-06-08T00:40:52.200863Z"
    },
    "papermill": {
     "duration": 0.041729,
     "end_time": "2022-06-08T00:40:52.200992",
     "exception": false,
     "start_time": "2022-06-08T00:40:52.159263",
     "status": "completed"
    },
    "tags": []
   },
   "outputs": [
    {
     "data": {
      "text/plain": [
       "'https://raw.githubusercontent.com/pratapvardhan/notebooks/master/covid19/mapping_countries.csv'"
      ]
     },
     "execution_count": 3,
     "metadata": {},
     "output_type": "execute_result"
    }
   ],
   "source": [
    "#hide\n",
    "paths['mapping']"
   ]
  },
  {
   "cell_type": "code",
   "execution_count": 4,
   "id": "urban-software",
   "metadata": {
    "execution": {
     "iopub.execute_input": "2022-06-08T00:40:52.266202Z",
     "iopub.status.busy": "2022-06-08T00:40:52.265573Z",
     "iopub.status.idle": "2022-06-08T00:40:52.267651Z",
     "shell.execute_reply": "2022-06-08T00:40:52.268087Z"
    },
    "papermill": {
     "duration": 0.037689,
     "end_time": "2022-06-08T00:40:52.268229",
     "exception": false,
     "start_time": "2022-06-08T00:40:52.230540",
     "status": "completed"
    },
    "tags": []
   },
   "outputs": [],
   "source": [
    "#hide\n",
    "def get_mappings(url):\n",
    "    df = pd.read_csv(url)\n",
    "    return {\n",
    "        'df': df,\n",
    "        'replace.country': dict(df.dropna(subset=['Name']).set_index('Country')['Name']),\n",
    "        'map.continent': dict(df.set_index('Name')['Continent'])\n",
    "    }"
   ]
  },
  {
   "cell_type": "code",
   "execution_count": 5,
   "id": "intimate-machinery",
   "metadata": {
    "execution": {
     "iopub.execute_input": "2022-06-08T00:40:52.332630Z",
     "iopub.status.busy": "2022-06-08T00:40:52.332017Z",
     "iopub.status.idle": "2022-06-08T00:40:52.395966Z",
     "shell.execute_reply": "2022-06-08T00:40:52.395255Z"
    },
    "papermill": {
     "duration": 0.09847,
     "end_time": "2022-06-08T00:40:52.396101",
     "exception": false,
     "start_time": "2022-06-08T00:40:52.297631",
     "status": "completed"
    },
    "tags": []
   },
   "outputs": [],
   "source": [
    "#hide\n",
    "mapping = get_mappings(paths['mapping'])"
   ]
  },
  {
   "cell_type": "code",
   "execution_count": 6,
   "id": "certified-tactics",
   "metadata": {
    "execution": {
     "iopub.execute_input": "2022-06-08T00:40:52.460710Z",
     "iopub.status.busy": "2022-06-08T00:40:52.460058Z",
     "iopub.status.idle": "2022-06-08T00:40:52.462606Z",
     "shell.execute_reply": "2022-06-08T00:40:52.462100Z"
    },
    "papermill": {
     "duration": 0.037015,
     "end_time": "2022-06-08T00:40:52.462725",
     "exception": false,
     "start_time": "2022-06-08T00:40:52.425710",
     "status": "completed"
    },
    "tags": []
   },
   "outputs": [],
   "source": [
    "#hide\n",
    "def get_template(path):\n",
    "    from urllib.parse import urlparse\n",
    "    if bool(urlparse(path).netloc):\n",
    "        from urllib.request import urlopen\n",
    "        return urlopen(path).read().decode('utf8')\n",
    "    return open(path).read()"
   ]
  },
  {
   "cell_type": "code",
   "execution_count": 7,
   "id": "realistic-blast",
   "metadata": {
    "execution": {
     "iopub.execute_input": "2022-06-08T00:40:52.526586Z",
     "iopub.status.busy": "2022-06-08T00:40:52.525978Z",
     "iopub.status.idle": "2022-06-08T00:40:52.528163Z",
     "shell.execute_reply": "2022-06-08T00:40:52.528648Z"
    },
    "papermill": {
     "duration": 0.036688,
     "end_time": "2022-06-08T00:40:52.528771",
     "exception": false,
     "start_time": "2022-06-08T00:40:52.492083",
     "status": "completed"
    },
    "tags": []
   },
   "outputs": [],
   "source": [
    "#hide\n",
    "def get_frame(name):\n",
    "    url = (\n",
    "        'https://raw.githubusercontent.com/CSSEGISandData/COVID-19/master/csse_covid_19_data/'\n",
    "        f'csse_covid_19_time_series/time_series_covid19_{name}_global.csv')\n",
    "    df = pd.read_csv(url)\n",
    "    # rename countries\n",
    "    df['Country/Region'] = df['Country/Region'].replace(mapping['replace.country'])\n",
    "    return df"
   ]
  },
  {
   "cell_type": "code",
   "execution_count": 8,
   "id": "affiliated-characterization",
   "metadata": {
    "execution": {
     "iopub.execute_input": "2022-06-08T00:40:52.594306Z",
     "iopub.status.busy": "2022-06-08T00:40:52.593716Z",
     "iopub.status.idle": "2022-06-08T00:40:52.595920Z",
     "shell.execute_reply": "2022-06-08T00:40:52.596473Z"
    },
    "papermill": {
     "duration": 0.038516,
     "end_time": "2022-06-08T00:40:52.596597",
     "exception": false,
     "start_time": "2022-06-08T00:40:52.558081",
     "status": "completed"
    },
    "tags": []
   },
   "outputs": [],
   "source": [
    "#hide\n",
    "def get_dates(df):\n",
    "    dt_cols = df.columns[~df.columns.isin(['Province/State', 'Country/Region', 'Lat', 'Long'])]\n",
    "    LAST_DATE_I = -1\n",
    "    # sometimes last column may be empty, then go backwards\n",
    "    for i in range(-1, -len(dt_cols), -1):\n",
    "        if not df[dt_cols[i]].fillna(0).eq(0).all():\n",
    "            LAST_DATE_I = i\n",
    "            break\n",
    "    return LAST_DATE_I, dt_cols"
   ]
  },
  {
   "cell_type": "code",
   "execution_count": 9,
   "id": "recent-optimization",
   "metadata": {
    "execution": {
     "iopub.execute_input": "2022-06-08T00:40:52.660167Z",
     "iopub.status.busy": "2022-06-08T00:40:52.659554Z",
     "iopub.status.idle": "2022-06-08T00:40:53.274898Z",
     "shell.execute_reply": "2022-06-08T00:40:53.274244Z"
    },
    "papermill": {
     "duration": 0.649253,
     "end_time": "2022-06-08T00:40:53.275051",
     "exception": false,
     "start_time": "2022-06-08T00:40:52.625798",
     "status": "completed"
    },
    "tags": []
   },
   "outputs": [],
   "source": [
    "#hide\n",
    "COL_REGION = 'Country/Region'\n",
    "# Confirmed, Recovered, Deaths\n",
    "df = get_frame('confirmed')\n",
    "# dft_: timeseries, dfc_: today country agg\n",
    "dft_cases = df\n",
    "dft_deaths = get_frame('deaths')\n",
    "dft_recovered = get_frame('recovered')\n",
    "LAST_DATE_I, dt_cols = get_dates(df)"
   ]
  },
  {
   "cell_type": "code",
   "execution_count": 10,
   "id": "absolute-copper",
   "metadata": {
    "execution": {
     "iopub.execute_input": "2022-06-08T00:40:53.341268Z",
     "iopub.status.busy": "2022-06-08T00:40:53.340571Z",
     "iopub.status.idle": "2022-06-08T00:40:53.343168Z",
     "shell.execute_reply": "2022-06-08T00:40:53.342653Z"
    },
    "papermill": {
     "duration": 0.037649,
     "end_time": "2022-06-08T00:40:53.343278",
     "exception": false,
     "start_time": "2022-06-08T00:40:53.305629",
     "status": "completed"
    },
    "tags": []
   },
   "outputs": [],
   "source": [
    "#hide\n",
    "LAST_DATE_I, dt_cols = get_dates(df)\n",
    "dt_today =dt_cols[LAST_DATE_I]\n",
    "# dt_5day = dt_cols[LAST_DATE_I - 5]\n",
    "dt_yday = dt_cols[LAST_DATE_I - 1]"
   ]
  },
  {
   "cell_type": "code",
   "execution_count": 11,
   "id": "restricted-sheriff",
   "metadata": {
    "execution": {
     "iopub.execute_input": "2022-06-08T00:40:53.408390Z",
     "iopub.status.busy": "2022-06-08T00:40:53.407788Z",
     "iopub.status.idle": "2022-06-08T00:40:53.415271Z",
     "shell.execute_reply": "2022-06-08T00:40:53.415722Z"
    },
    "papermill": {
     "duration": 0.042859,
     "end_time": "2022-06-08T00:40:53.415853",
     "exception": false,
     "start_time": "2022-06-08T00:40:53.372994",
     "status": "completed"
    },
    "tags": []
   },
   "outputs": [],
   "source": [
    "#hide\n",
    "dfc_cases = dft_cases.groupby(COL_REGION)[dt_today].sum()\n",
    "dfc_deaths = dft_deaths.groupby(COL_REGION)[dt_today].sum()\n",
    "# dfp_cases = dft_cases.groupby(COL_REGION)[dt_5day].sum()\n",
    "# dfp_deaths = dft_deaths.groupby(COL_REGION)[dt_5day].sum()\n",
    "dfp_cases = dft_cases.groupby(COL_REGION)[dt_yday].sum()\n",
    "dfp_deaths = dft_deaths.groupby(COL_REGION)[dt_yday].sum()"
   ]
  },
  {
   "cell_type": "code",
   "execution_count": 12,
   "id": "deluxe-hepatitis",
   "metadata": {
    "execution": {
     "iopub.execute_input": "2022-06-08T00:40:53.480112Z",
     "iopub.status.busy": "2022-06-08T00:40:53.479535Z",
     "iopub.status.idle": "2022-06-08T00:40:53.484145Z",
     "shell.execute_reply": "2022-06-08T00:40:53.484691Z"
    },
    "papermill": {
     "duration": 0.039677,
     "end_time": "2022-06-08T00:40:53.484815",
     "exception": false,
     "start_time": "2022-06-08T00:40:53.445138",
     "status": "completed"
    },
    "tags": []
   },
   "outputs": [],
   "source": [
    "#hide\n",
    "df_table = (pd.DataFrame(dict(Cases = dfc_cases, Deaths = dfc_deaths, PCases = dfp_cases, PDeaths = dfp_deaths))\n",
    "            .sort_values(by = ['Cases','Deaths'], ascending = [False, False])\n",
    "            .reset_index())"
   ]
  },
  {
   "cell_type": "code",
   "execution_count": 13,
   "id": "educational-chancellor",
   "metadata": {
    "execution": {
     "iopub.execute_input": "2022-06-08T00:40:53.559943Z",
     "iopub.status.busy": "2022-06-08T00:40:53.559348Z",
     "iopub.status.idle": "2022-06-08T00:40:53.567260Z",
     "shell.execute_reply": "2022-06-08T00:40:53.566760Z"
    },
    "papermill": {
     "duration": 0.053463,
     "end_time": "2022-06-08T00:40:53.567370",
     "exception": false,
     "start_time": "2022-06-08T00:40:53.513907",
     "status": "completed"
    },
    "tags": []
   },
   "outputs": [
    {
     "data": {
      "text/html": [
       "<div>\n",
       "<style scoped>\n",
       "    .dataframe tbody tr th:only-of-type {\n",
       "        vertical-align: middle;\n",
       "    }\n",
       "\n",
       "    .dataframe tbody tr th {\n",
       "        vertical-align: top;\n",
       "    }\n",
       "\n",
       "    .dataframe thead th {\n",
       "        text-align: right;\n",
       "    }\n",
       "</style>\n",
       "<table border=\"1\" class=\"dataframe\">\n",
       "  <thead>\n",
       "    <tr style=\"text-align: right;\">\n",
       "      <th></th>\n",
       "      <th>Country/Region</th>\n",
       "      <th>Cases</th>\n",
       "      <th>Deaths</th>\n",
       "      <th>PCases</th>\n",
       "      <th>PDeaths</th>\n",
       "      <th>Cases (+)</th>\n",
       "      <th>Deaths (+)</th>\n",
       "      <th>Fatality Rate</th>\n",
       "      <th>Continent</th>\n",
       "    </tr>\n",
       "  </thead>\n",
       "  <tbody>\n",
       "    <tr>\n",
       "      <th>0</th>\n",
       "      <td>US</td>\n",
       "      <td>84882287</td>\n",
       "      <td>1008857</td>\n",
       "      <td>84762022</td>\n",
       "      <td>1008585</td>\n",
       "      <td>120265</td>\n",
       "      <td>272</td>\n",
       "      <td>1.19</td>\n",
       "      <td>North America</td>\n",
       "    </tr>\n",
       "    <tr>\n",
       "      <th>1</th>\n",
       "      <td>India</td>\n",
       "      <td>43185049</td>\n",
       "      <td>524708</td>\n",
       "      <td>43181335</td>\n",
       "      <td>524701</td>\n",
       "      <td>3714</td>\n",
       "      <td>7</td>\n",
       "      <td>1.22</td>\n",
       "      <td>Asia</td>\n",
       "    </tr>\n",
       "    <tr>\n",
       "      <th>2</th>\n",
       "      <td>Brazil</td>\n",
       "      <td>31195118</td>\n",
       "      <td>667041</td>\n",
       "      <td>31137479</td>\n",
       "      <td>666971</td>\n",
       "      <td>57639</td>\n",
       "      <td>70</td>\n",
       "      <td>2.14</td>\n",
       "      <td>South America</td>\n",
       "    </tr>\n",
       "    <tr>\n",
       "      <th>3</th>\n",
       "      <td>France</td>\n",
       "      <td>29840626</td>\n",
       "      <td>149509</td>\n",
       "      <td>29834390</td>\n",
       "      <td>149509</td>\n",
       "      <td>6236</td>\n",
       "      <td>0</td>\n",
       "      <td>0.50</td>\n",
       "      <td>Europe</td>\n",
       "    </tr>\n",
       "    <tr>\n",
       "      <th>4</th>\n",
       "      <td>Germany</td>\n",
       "      <td>26498361</td>\n",
       "      <td>139388</td>\n",
       "      <td>26496611</td>\n",
       "      <td>139386</td>\n",
       "      <td>1750</td>\n",
       "      <td>2</td>\n",
       "      <td>0.53</td>\n",
       "      <td>Europe</td>\n",
       "    </tr>\n",
       "  </tbody>\n",
       "</table>\n",
       "</div>"
      ],
      "text/plain": [
       "  Country/Region     Cases   Deaths    PCases  PDeaths  Cases (+)  Deaths (+)  \\\n",
       "0             US  84882287  1008857  84762022  1008585     120265         272   \n",
       "1          India  43185049   524708  43181335   524701       3714           7   \n",
       "2         Brazil  31195118   667041  31137479   666971      57639          70   \n",
       "3         France  29840626   149509  29834390   149509       6236           0   \n",
       "4        Germany  26498361   139388  26496611   139386       1750           2   \n",
       "\n",
       "   Fatality Rate      Continent  \n",
       "0           1.19  North America  \n",
       "1           1.22           Asia  \n",
       "2           2.14  South America  \n",
       "3           0.50         Europe  \n",
       "4           0.53         Europe  "
      ]
     },
     "execution_count": 13,
     "metadata": {},
     "output_type": "execute_result"
    }
   ],
   "source": [
    "#hide\n",
    "for c in 'Cases, Deaths'.split(', '):\n",
    "    df_table[f'{c} (+)'] = (df_table[c] - df_table[f'P{c}']).clip(0)\n",
    "    #Clip ça veut dire, les chiffres negatif sont interdit\n",
    "df_table['Fatality Rate'] = (100* df_table['Deaths']/ df_table['Cases']).round(2)\n",
    "df_table['Continent'] = df_table['Country/Region'].map(mapping['map.continent'])\n",
    "df_table.head(5)"
   ]
  },
  {
   "cell_type": "code",
   "execution_count": 14,
   "id": "aboriginal-bulgaria",
   "metadata": {
    "execution": {
     "iopub.execute_input": "2022-06-08T00:40:53.632604Z",
     "iopub.status.busy": "2022-06-08T00:40:53.632034Z",
     "iopub.status.idle": "2022-06-08T00:40:53.635019Z",
     "shell.execute_reply": "2022-06-08T00:40:53.635572Z"
    },
    "papermill": {
     "duration": 0.03792,
     "end_time": "2022-06-08T00:40:53.635693",
     "exception": false,
     "start_time": "2022-06-08T00:40:53.597773",
     "status": "completed"
    },
    "tags": []
   },
   "outputs": [],
   "source": [
    "#hide\n",
    "#delete problematic countries from table\n",
    "df_table = df_table[~df_table['Country/Region'].isin(['Cape Verde', 'Cruise Ship', 'Kosovo'])]"
   ]
  },
  {
   "cell_type": "code",
   "execution_count": 15,
   "id": "fantastic-effect",
   "metadata": {
    "execution": {
     "iopub.execute_input": "2022-06-08T00:40:53.703169Z",
     "iopub.status.busy": "2022-06-08T00:40:53.702572Z",
     "iopub.status.idle": "2022-06-08T00:40:53.719594Z",
     "shell.execute_reply": "2022-06-08T00:40:53.720069Z"
    },
    "papermill": {
     "duration": 0.054418,
     "end_time": "2022-06-08T00:40:53.720189",
     "exception": false,
     "start_time": "2022-06-08T00:40:53.665771",
     "status": "completed"
    },
    "tags": []
   },
   "outputs": [
    {
     "data": {
      "text/html": [
       "<div>\n",
       "<style scoped>\n",
       "    .dataframe tbody tr th:only-of-type {\n",
       "        vertical-align: middle;\n",
       "    }\n",
       "\n",
       "    .dataframe tbody tr th {\n",
       "        vertical-align: top;\n",
       "    }\n",
       "\n",
       "    .dataframe thead th {\n",
       "        text-align: right;\n",
       "    }\n",
       "</style>\n",
       "<table border=\"1\" class=\"dataframe\">\n",
       "  <thead>\n",
       "    <tr style=\"text-align: right;\">\n",
       "      <th></th>\n",
       "      <th>Country/Region</th>\n",
       "      <th>Cases</th>\n",
       "      <th>Deaths</th>\n",
       "      <th>PCases</th>\n",
       "      <th>PDeaths</th>\n",
       "      <th>Cases (+)</th>\n",
       "      <th>Deaths (+)</th>\n",
       "      <th>Fatality Rate</th>\n",
       "      <th>Continent</th>\n",
       "    </tr>\n",
       "  </thead>\n",
       "  <tbody>\n",
       "    <tr>\n",
       "      <th>0</th>\n",
       "      <td>US</td>\n",
       "      <td>84882287</td>\n",
       "      <td>1008857</td>\n",
       "      <td>84762022</td>\n",
       "      <td>1008585</td>\n",
       "      <td>120265</td>\n",
       "      <td>272</td>\n",
       "      <td>1.2</td>\n",
       "      <td>North America</td>\n",
       "    </tr>\n",
       "    <tr>\n",
       "      <th>1</th>\n",
       "      <td>India</td>\n",
       "      <td>43185049</td>\n",
       "      <td>524708</td>\n",
       "      <td>43181335</td>\n",
       "      <td>524701</td>\n",
       "      <td>3714</td>\n",
       "      <td>7</td>\n",
       "      <td>1.2</td>\n",
       "      <td>Asia</td>\n",
       "    </tr>\n",
       "    <tr>\n",
       "      <th>2</th>\n",
       "      <td>Brazil</td>\n",
       "      <td>31195118</td>\n",
       "      <td>667041</td>\n",
       "      <td>31137479</td>\n",
       "      <td>666971</td>\n",
       "      <td>57639</td>\n",
       "      <td>70</td>\n",
       "      <td>2.1</td>\n",
       "      <td>South America</td>\n",
       "    </tr>\n",
       "    <tr>\n",
       "      <th>3</th>\n",
       "      <td>France</td>\n",
       "      <td>29840626</td>\n",
       "      <td>149509</td>\n",
       "      <td>29834390</td>\n",
       "      <td>149509</td>\n",
       "      <td>6236</td>\n",
       "      <td>0</td>\n",
       "      <td>0.5</td>\n",
       "      <td>Europe</td>\n",
       "    </tr>\n",
       "    <tr>\n",
       "      <th>4</th>\n",
       "      <td>Germany</td>\n",
       "      <td>26498361</td>\n",
       "      <td>139388</td>\n",
       "      <td>26496611</td>\n",
       "      <td>139386</td>\n",
       "      <td>1750</td>\n",
       "      <td>2</td>\n",
       "      <td>0.5</td>\n",
       "      <td>Europe</td>\n",
       "    </tr>\n",
       "  </tbody>\n",
       "</table>\n",
       "</div>"
      ],
      "text/plain": [
       "  Country/Region     Cases   Deaths    PCases  PDeaths  Cases (+)  Deaths (+)  \\\n",
       "0             US  84882287  1008857  84762022  1008585     120265         272   \n",
       "1          India  43185049   524708  43181335   524701       3714           7   \n",
       "2         Brazil  31195118   667041  31137479   666971      57639          70   \n",
       "3         France  29840626   149509  29834390   149509       6236           0   \n",
       "4        Germany  26498361   139388  26496611   139386       1750           2   \n",
       "\n",
       "   Fatality Rate      Continent  \n",
       "0            1.2  North America  \n",
       "1            1.2           Asia  \n",
       "2            2.1  South America  \n",
       "3            0.5         Europe  \n",
       "4            0.5         Europe  "
      ]
     },
     "execution_count": 15,
     "metadata": {},
     "output_type": "execute_result"
    }
   ],
   "source": [
    "#hide\n",
    "df_table = (pd.DataFrame(dict(Cases=dfc_cases, Deaths=dfc_deaths, PCases=dfp_cases, PDeaths=dfp_deaths))\n",
    "             .sort_values(by=['Cases', 'Deaths'], ascending=[False, False])\n",
    "             .reset_index())\n",
    "df_table.rename(columns={'index': 'Country/Region'}, inplace=True)\n",
    "for c in 'Cases, Deaths'.split(', '):\n",
    "    df_table[f'{c} (+)'] = (df_table[c] - df_table[f'P{c}']).clip(0)  # DATA BUG\n",
    "df_table['Fatality Rate'] = (100 * df_table['Deaths'] / df_table['Cases']).round(1)\n",
    "df_table['Continent'] = df_table['Country/Region'].map(mapping['map.continent'])\n",
    "df_table.head(5)"
   ]
  },
  {
   "cell_type": "code",
   "execution_count": 16,
   "id": "fewer-occasion",
   "metadata": {
    "execution": {
     "iopub.execute_input": "2022-06-08T00:40:53.786504Z",
     "iopub.status.busy": "2022-06-08T00:40:53.785903Z",
     "iopub.status.idle": "2022-06-08T00:40:53.788297Z",
     "shell.execute_reply": "2022-06-08T00:40:53.788853Z"
    },
    "papermill": {
     "duration": 0.038375,
     "end_time": "2022-06-08T00:40:53.788975",
     "exception": false,
     "start_time": "2022-06-08T00:40:53.750600",
     "status": "completed"
    },
    "tags": []
   },
   "outputs": [],
   "source": [
    "#hide\n",
    "#delete problematic countries from table\n",
    "df_table = df_table[~df_table['Country/Region'].isin(['Cape Verde', 'Cruise Ship', 'Kosovo'])]"
   ]
  },
  {
   "cell_type": "code",
   "execution_count": 17,
   "id": "related-center",
   "metadata": {
    "execution": {
     "iopub.execute_input": "2022-06-08T00:40:53.856362Z",
     "iopub.status.busy": "2022-06-08T00:40:53.855785Z",
     "iopub.status.idle": "2022-06-08T00:40:53.869576Z",
     "shell.execute_reply": "2022-06-08T00:40:53.869108Z"
    },
    "papermill": {
     "duration": 0.050315,
     "end_time": "2022-06-08T00:40:53.869681",
     "exception": false,
     "start_time": "2022-06-08T00:40:53.819366",
     "status": "completed"
    },
    "tags": []
   },
   "outputs": [],
   "source": [
    "#hide\n",
    "metrics = [df_table.columns[index] for index in [1,2,5,6]]\n",
    "# s_china = df_table[df_table['Country/Region'].eq('China')][metrics].sum().add_prefix('China ')\n",
    "s_us = df_table[df_table['Country/Region'].eq('US')][metrics].sum().add_prefix('US ')\n",
    "s_eu = df_table[df_table['Continent'].eq('Europe')][metrics].sum().add_prefix('EU ')\n",
    "s_ind = df_table[df_table['Country/Region'].eq('India')][metrics].sum().add_prefix('India ')\n",
    "summary = {'updated': pd.to_datetime(dt_today), 'since': pd.to_datetime(dt_yday)}\n",
    "summary = {'updated': pd.to_datetime(dt_today), 'since': pd.to_datetime(dt_yday)}\n",
    "summary = {**summary, **df_table[metrics].sum(), **s_ind, **s_us, **s_eu}"
   ]
  },
  {
   "cell_type": "code",
   "execution_count": 18,
   "id": "engaging-syndrome",
   "metadata": {
    "execution": {
     "iopub.execute_input": "2022-06-08T00:40:53.935983Z",
     "iopub.status.busy": "2022-06-08T00:40:53.935410Z",
     "iopub.status.idle": "2022-06-08T00:40:53.955541Z",
     "shell.execute_reply": "2022-06-08T00:40:53.954992Z"
    },
    "papermill": {
     "duration": 0.055523,
     "end_time": "2022-06-08T00:40:53.955670",
     "exception": false,
     "start_time": "2022-06-08T00:40:53.900147",
     "status": "completed"
    },
    "tags": []
   },
   "outputs": [],
   "source": [
    "#hide\n",
    "dft_ct_new_cases = dft_cases.groupby(COL_REGION)[dt_cols].sum().diff(axis=1).fillna(0).astype(int)"
   ]
  },
  {
   "cell_type": "code",
   "execution_count": 19,
   "id": "neutral-assignment",
   "metadata": {
    "execution": {
     "iopub.execute_input": "2022-06-08T00:40:54.023378Z",
     "iopub.status.busy": "2022-06-08T00:40:54.022733Z",
     "iopub.status.idle": "2022-06-08T00:40:54.025638Z",
     "shell.execute_reply": "2022-06-08T00:40:54.026190Z"
    },
    "papermill": {
     "duration": 0.039038,
     "end_time": "2022-06-08T00:40:54.026316",
     "exception": false,
     "start_time": "2022-06-08T00:40:53.987278",
     "status": "completed"
    },
    "tags": []
   },
   "outputs": [],
   "source": [
    "#hide\n",
    "everydaycases = dft_ct_new_cases.cumsum(axis=1)"
   ]
  },
  {
   "cell_type": "code",
   "execution_count": 20,
   "id": "parliamentary-calgary",
   "metadata": {
    "execution": {
     "iopub.execute_input": "2022-06-08T00:40:54.091563Z",
     "iopub.status.busy": "2022-06-08T00:40:54.090976Z",
     "iopub.status.idle": "2022-06-08T00:40:54.645467Z",
     "shell.execute_reply": "2022-06-08T00:40:54.644869Z"
    },
    "papermill": {
     "duration": 0.589025,
     "end_time": "2022-06-08T00:40:54.645615",
     "exception": false,
     "start_time": "2022-06-08T00:40:54.056590",
     "status": "completed"
    },
    "tags": []
   },
   "outputs": [],
   "source": [
    "#hide\n",
    "import pandas as pd\n",
    "import matplotlib.pyplot as plt\n",
    "import matplotlib.ticker as ticker\n",
    "import matplotlib.animation as animation\n",
    "from IPython.display import HTML"
   ]
  },
  {
   "cell_type": "code",
   "execution_count": 21,
   "id": "lasting-extraction",
   "metadata": {
    "execution": {
     "iopub.execute_input": "2022-06-08T00:40:54.714595Z",
     "iopub.status.busy": "2022-06-08T00:40:54.713967Z",
     "iopub.status.idle": "2022-06-08T00:40:54.720793Z",
     "shell.execute_reply": "2022-06-08T00:40:54.721338Z"
    },
    "papermill": {
     "duration": 0.04434,
     "end_time": "2022-06-08T00:40:54.721475",
     "exception": false,
     "start_time": "2022-06-08T00:40:54.677135",
     "status": "completed"
    },
    "tags": []
   },
   "outputs": [],
   "source": [
    "#hide\n",
    "t = everydaycases.stack()"
   ]
  },
  {
   "cell_type": "code",
   "execution_count": 22,
   "id": "premier-sleeve",
   "metadata": {
    "execution": {
     "iopub.execute_input": "2022-06-08T00:40:54.787520Z",
     "iopub.status.busy": "2022-06-08T00:40:54.786919Z",
     "iopub.status.idle": "2022-06-08T00:40:54.798790Z",
     "shell.execute_reply": "2022-06-08T00:40:54.799250Z"
    },
    "papermill": {
     "duration": 0.047308,
     "end_time": "2022-06-08T00:40:54.799385",
     "exception": false,
     "start_time": "2022-06-08T00:40:54.752077",
     "status": "completed"
    },
    "tags": []
   },
   "outputs": [],
   "source": [
    "#hide\n",
    "g = t.reset_index(['Country/Region'])"
   ]
  },
  {
   "cell_type": "code",
   "execution_count": 23,
   "id": "distributed-pittsburgh",
   "metadata": {
    "execution": {
     "iopub.execute_input": "2022-06-08T00:40:54.864065Z",
     "iopub.status.busy": "2022-06-08T00:40:54.863488Z",
     "iopub.status.idle": "2022-06-08T00:40:54.865831Z",
     "shell.execute_reply": "2022-06-08T00:40:54.866386Z"
    },
    "papermill": {
     "duration": 0.03685,
     "end_time": "2022-06-08T00:40:54.866540",
     "exception": false,
     "start_time": "2022-06-08T00:40:54.829690",
     "status": "completed"
    },
    "tags": []
   },
   "outputs": [],
   "source": [
    "#hide\n",
    "g.index.name = 'date'"
   ]
  },
  {
   "cell_type": "code",
   "execution_count": 24,
   "id": "naked-donor",
   "metadata": {
    "execution": {
     "iopub.execute_input": "2022-06-08T00:40:54.931575Z",
     "iopub.status.busy": "2022-06-08T00:40:54.930880Z",
     "iopub.status.idle": "2022-06-08T00:40:54.933303Z",
     "shell.execute_reply": "2022-06-08T00:40:54.932652Z"
    },
    "papermill": {
     "duration": 0.036659,
     "end_time": "2022-06-08T00:40:54.933429",
     "exception": false,
     "start_time": "2022-06-08T00:40:54.896770",
     "status": "completed"
    },
    "tags": []
   },
   "outputs": [],
   "source": [
    "# #hide\n",
    "# g = g.reset_index(['date'])"
   ]
  },
  {
   "cell_type": "code",
   "execution_count": 25,
   "id": "incomplete-mustang",
   "metadata": {
    "execution": {
     "iopub.execute_input": "2022-06-08T00:40:54.999715Z",
     "iopub.status.busy": "2022-06-08T00:40:54.999096Z",
     "iopub.status.idle": "2022-06-08T00:40:55.001569Z",
     "shell.execute_reply": "2022-06-08T00:40:55.000995Z"
    },
    "papermill": {
     "duration": 0.037402,
     "end_time": "2022-06-08T00:40:55.001683",
     "exception": false,
     "start_time": "2022-06-08T00:40:54.964281",
     "status": "completed"
    },
    "tags": []
   },
   "outputs": [],
   "source": [
    "#hide\n",
    "# g.head()"
   ]
  },
  {
   "cell_type": "code",
   "execution_count": 26,
   "id": "specific-kruger",
   "metadata": {
    "execution": {
     "iopub.execute_input": "2022-06-08T00:40:55.067500Z",
     "iopub.status.busy": "2022-06-08T00:40:55.066777Z",
     "iopub.status.idle": "2022-06-08T00:40:55.068963Z",
     "shell.execute_reply": "2022-06-08T00:40:55.069483Z"
    },
    "papermill": {
     "duration": 0.037418,
     "end_time": "2022-06-08T00:40:55.069642",
     "exception": false,
     "start_time": "2022-06-08T00:40:55.032224",
     "status": "completed"
    },
    "tags": []
   },
   "outputs": [],
   "source": [
    "#hide\n",
    "# g.columns = ['date','country','cases']"
   ]
  },
  {
   "cell_type": "code",
   "execution_count": 27,
   "id": "tender-conversion",
   "metadata": {
    "execution": {
     "iopub.execute_input": "2022-06-08T00:40:55.134897Z",
     "iopub.status.busy": "2022-06-08T00:40:55.134163Z",
     "iopub.status.idle": "2022-06-08T00:40:55.138059Z",
     "shell.execute_reply": "2022-06-08T00:40:55.137366Z"
    },
    "papermill": {
     "duration": 0.037999,
     "end_time": "2022-06-08T00:40:55.138199",
     "exception": false,
     "start_time": "2022-06-08T00:40:55.100200",
     "status": "completed"
    },
    "tags": []
   },
   "outputs": [],
   "source": [
    "#hide\n",
    "# g['continent'] = g.country"
   ]
  },
  {
   "cell_type": "code",
   "execution_count": 28,
   "id": "substantial-wilderness",
   "metadata": {
    "execution": {
     "iopub.execute_input": "2022-06-08T00:40:55.204215Z",
     "iopub.status.busy": "2022-06-08T00:40:55.203509Z",
     "iopub.status.idle": "2022-06-08T00:40:55.207338Z",
     "shell.execute_reply": "2022-06-08T00:40:55.207831Z"
    },
    "papermill": {
     "duration": 0.038854,
     "end_time": "2022-06-08T00:40:55.207987",
     "exception": false,
     "start_time": "2022-06-08T00:40:55.169133",
     "status": "completed"
    },
    "tags": []
   },
   "outputs": [],
   "source": [
    "#hide\n",
    "# cols = list(g.columns.values)"
   ]
  },
  {
   "cell_type": "code",
   "execution_count": 29,
   "id": "solved-farming",
   "metadata": {
    "execution": {
     "iopub.execute_input": "2022-06-08T00:40:55.272987Z",
     "iopub.status.busy": "2022-06-08T00:40:55.272379Z",
     "iopub.status.idle": "2022-06-08T00:40:55.274402Z",
     "shell.execute_reply": "2022-06-08T00:40:55.274880Z"
    },
    "papermill": {
     "duration": 0.036226,
     "end_time": "2022-06-08T00:40:55.275017",
     "exception": false,
     "start_time": "2022-06-08T00:40:55.238791",
     "status": "completed"
    },
    "tags": []
   },
   "outputs": [],
   "source": [
    "#hide\n",
    "# cols.insert(0, cols.pop())"
   ]
  },
  {
   "cell_type": "code",
   "execution_count": 30,
   "id": "executed-adoption",
   "metadata": {
    "execution": {
     "iopub.execute_input": "2022-06-08T00:40:55.340046Z",
     "iopub.status.busy": "2022-06-08T00:40:55.339352Z",
     "iopub.status.idle": "2022-06-08T00:40:55.341875Z",
     "shell.execute_reply": "2022-06-08T00:40:55.341223Z"
    },
    "papermill": {
     "duration": 0.036609,
     "end_time": "2022-06-08T00:40:55.342002",
     "exception": false,
     "start_time": "2022-06-08T00:40:55.305393",
     "status": "completed"
    },
    "tags": []
   },
   "outputs": [],
   "source": [
    "#hide\n",
    "# g = g[cols]"
   ]
  },
  {
   "cell_type": "code",
   "execution_count": 31,
   "id": "subject-dublin",
   "metadata": {
    "execution": {
     "iopub.execute_input": "2022-06-08T00:40:55.406991Z",
     "iopub.status.busy": "2022-06-08T00:40:55.406353Z",
     "iopub.status.idle": "2022-06-08T00:40:55.408928Z",
     "shell.execute_reply": "2022-06-08T00:40:55.408451Z"
    },
    "papermill": {
     "duration": 0.036265,
     "end_time": "2022-06-08T00:40:55.409039",
     "exception": false,
     "start_time": "2022-06-08T00:40:55.372774",
     "status": "completed"
    },
    "tags": []
   },
   "outputs": [],
   "source": [
    "#hide\n",
    "# g['continent'] = g['continent'].map(mapping['map.continent'])"
   ]
  },
  {
   "cell_type": "code",
   "execution_count": 32,
   "id": "freelance-scout",
   "metadata": {
    "execution": {
     "iopub.execute_input": "2022-06-08T00:40:55.473163Z",
     "iopub.status.busy": "2022-06-08T00:40:55.472491Z",
     "iopub.status.idle": "2022-06-08T00:40:55.476728Z",
     "shell.execute_reply": "2022-06-08T00:40:55.477200Z"
    },
    "papermill": {
     "duration": 0.03806,
     "end_time": "2022-06-08T00:40:55.477326",
     "exception": false,
     "start_time": "2022-06-08T00:40:55.439266",
     "status": "completed"
    },
    "tags": []
   },
   "outputs": [],
   "source": [
    "#hide\n",
    "# g.head()"
   ]
  },
  {
   "cell_type": "code",
   "execution_count": 33,
   "id": "limited-engine",
   "metadata": {
    "execution": {
     "iopub.execute_input": "2022-06-08T00:40:55.541717Z",
     "iopub.status.busy": "2022-06-08T00:40:55.541033Z",
     "iopub.status.idle": "2022-06-08T00:40:55.544681Z",
     "shell.execute_reply": "2022-06-08T00:40:55.545201Z"
    },
    "papermill": {
     "duration": 0.037925,
     "end_time": "2022-06-08T00:40:55.545346",
     "exception": false,
     "start_time": "2022-06-08T00:40:55.507421",
     "status": "completed"
    },
    "tags": []
   },
   "outputs": [],
   "source": [
    "# hide\n",
    "# g['date'] = g['date'].astype('datetime64[ns]')"
   ]
  },
  {
   "cell_type": "code",
   "execution_count": 34,
   "id": "sophisticated-supervisor",
   "metadata": {
    "execution": {
     "iopub.execute_input": "2022-06-08T00:40:55.610241Z",
     "iopub.status.busy": "2022-06-08T00:40:55.609634Z",
     "iopub.status.idle": "2022-06-08T00:40:55.611800Z",
     "shell.execute_reply": "2022-06-08T00:40:55.612228Z"
    },
    "papermill": {
     "duration": 0.036168,
     "end_time": "2022-06-08T00:40:55.612360",
     "exception": false,
     "start_time": "2022-06-08T00:40:55.576192",
     "status": "completed"
    },
    "tags": []
   },
   "outputs": [],
   "source": [
    "#hide\n",
    "# g['date'] = g.date.dt.dayofyear"
   ]
  },
  {
   "cell_type": "code",
   "execution_count": 35,
   "id": "inside-dubai",
   "metadata": {
    "execution": {
     "iopub.execute_input": "2022-06-08T00:40:55.677368Z",
     "iopub.status.busy": "2022-06-08T00:40:55.676784Z",
     "iopub.status.idle": "2022-06-08T00:40:55.679055Z",
     "shell.execute_reply": "2022-06-08T00:40:55.679598Z"
    },
    "papermill": {
     "duration": 0.03692,
     "end_time": "2022-06-08T00:40:55.679735",
     "exception": false,
     "start_time": "2022-06-08T00:40:55.642815",
     "status": "completed"
    },
    "tags": []
   },
   "outputs": [],
   "source": [
    "#hide\n",
    "# g = g.rename(columns= {'continent':'group','country':'name','cases':'value'})"
   ]
  },
  {
   "cell_type": "code",
   "execution_count": 36,
   "id": "fleet-motorcycle",
   "metadata": {
    "execution": {
     "iopub.execute_input": "2022-06-08T00:40:55.744490Z",
     "iopub.status.busy": "2022-06-08T00:40:55.743798Z",
     "iopub.status.idle": "2022-06-08T00:40:55.747566Z",
     "shell.execute_reply": "2022-06-08T00:40:55.748083Z"
    },
    "papermill": {
     "duration": 0.038189,
     "end_time": "2022-06-08T00:40:55.748235",
     "exception": false,
     "start_time": "2022-06-08T00:40:55.710046",
     "status": "completed"
    },
    "tags": []
   },
   "outputs": [],
   "source": [
    "#hide\n",
    "# cols = ['name','group','day','value']"
   ]
  },
  {
   "cell_type": "code",
   "execution_count": 37,
   "id": "continued-sleeping",
   "metadata": {
    "execution": {
     "iopub.execute_input": "2022-06-08T00:40:55.813946Z",
     "iopub.status.busy": "2022-06-08T00:40:55.813295Z",
     "iopub.status.idle": "2022-06-08T00:40:55.817256Z",
     "shell.execute_reply": "2022-06-08T00:40:55.817685Z"
    },
    "papermill": {
     "duration": 0.038783,
     "end_time": "2022-06-08T00:40:55.817827",
     "exception": false,
     "start_time": "2022-06-08T00:40:55.779044",
     "status": "completed"
    },
    "tags": []
   },
   "outputs": [],
   "source": [
    "#hide\n",
    "# g.rename(columns= {'date':'day'},inplace = True)"
   ]
  },
  {
   "cell_type": "code",
   "execution_count": 38,
   "id": "major-fight",
   "metadata": {
    "execution": {
     "iopub.execute_input": "2022-06-08T00:40:55.882353Z",
     "iopub.status.busy": "2022-06-08T00:40:55.881773Z",
     "iopub.status.idle": "2022-06-08T00:40:55.884442Z",
     "shell.execute_reply": "2022-06-08T00:40:55.884873Z"
    },
    "papermill": {
     "duration": 0.036722,
     "end_time": "2022-06-08T00:40:55.885015",
     "exception": false,
     "start_time": "2022-06-08T00:40:55.848293",
     "status": "completed"
    },
    "tags": []
   },
   "outputs": [],
   "source": [
    "#hide\n",
    "# g = g[cols]"
   ]
  },
  {
   "cell_type": "code",
   "execution_count": 39,
   "id": "structured-mobile",
   "metadata": {
    "execution": {
     "iopub.execute_input": "2022-06-08T00:40:55.949143Z",
     "iopub.status.busy": "2022-06-08T00:40:55.948564Z",
     "iopub.status.idle": "2022-06-08T00:40:55.951267Z",
     "shell.execute_reply": "2022-06-08T00:40:55.950703Z"
    },
    "papermill": {
     "duration": 0.036256,
     "end_time": "2022-06-08T00:40:55.951381",
     "exception": false,
     "start_time": "2022-06-08T00:40:55.915125",
     "status": "completed"
    },
    "tags": []
   },
   "outputs": [],
   "source": [
    "# #hide\n",
    "# g = g[g.group.notna()]"
   ]
  },
  {
   "cell_type": "code",
   "execution_count": 40,
   "id": "determined-closing",
   "metadata": {
    "execution": {
     "iopub.execute_input": "2022-06-08T00:40:56.016392Z",
     "iopub.status.busy": "2022-06-08T00:40:56.015769Z",
     "iopub.status.idle": "2022-06-08T00:40:56.018259Z",
     "shell.execute_reply": "2022-06-08T00:40:56.017685Z"
    },
    "papermill": {
     "duration": 0.036649,
     "end_time": "2022-06-08T00:40:56.018373",
     "exception": false,
     "start_time": "2022-06-08T00:40:55.981724",
     "status": "completed"
    },
    "tags": []
   },
   "outputs": [],
   "source": [
    "# #hide\n",
    "# colors = dict(zip(\n",
    "#     [\"Oceania\", \"Europe\", \"Asia\", \"South America\", \"Middle East\", \"North America\", \"Africa\"],\n",
    "#     [\"#adb0ff\", \"#ffb3ff\", \"#90d595\", \"#e48381\", \"#aafbff\", \"#f7bb5f\", \"#eafb50\"]\n",
    "# ))\n",
    "# group_lk = g.set_index('name')['group'].to_dict()"
   ]
  },
  {
   "cell_type": "code",
   "execution_count": null,
   "id": "gross-drinking",
   "metadata": {
    "papermill": {
     "duration": 0.030841,
     "end_time": "2022-06-08T00:40:56.079345",
     "exception": false,
     "start_time": "2022-06-08T00:40:56.048504",
     "status": "completed"
    },
    "tags": []
   },
   "outputs": [],
   "source": []
  },
  {
   "cell_type": "code",
   "execution_count": 41,
   "id": "subject-macintosh",
   "metadata": {
    "execution": {
     "iopub.execute_input": "2022-06-08T00:40:56.144635Z",
     "iopub.status.busy": "2022-06-08T00:40:56.143928Z",
     "iopub.status.idle": "2022-06-08T00:40:56.146439Z",
     "shell.execute_reply": "2022-06-08T00:40:56.145791Z"
    },
    "papermill": {
     "duration": 0.037055,
     "end_time": "2022-06-08T00:40:56.146590",
     "exception": false,
     "start_time": "2022-06-08T00:40:56.109535",
     "status": "completed"
    },
    "tags": []
   },
   "outputs": [],
   "source": [
    "# #hide\n",
    "# fig, ax = plt.subplots(figsize=(15, 8))\n",
    "\n",
    "# def draw_barchart(current_day):\n",
    "#     dff = g[g['day'].eq(current_day)].sort_values(by='value', ascending=True).tail(10)\n",
    "#     ax.clear()\n",
    "#     ax.barh(dff['name'], dff['value'], color=[colors[group_lk[x]] for x in dff['name']])\n",
    "#     dx = dff['value'].max() / 200\n",
    "    \n",
    "#     for i, (value, name) in enumerate(zip(dff['value'], dff['name'])):\n",
    "#         ax.text(value-dx, i,     name,           size=14, weight=600, ha='right', va='bottom')\n",
    "#         ax.text(value-dx, i-.25, group_lk[name], size=10, color='#444444', ha='right', va='baseline')\n",
    "#         ax.text(value+dx, i,     f'{value:,.0f}',  size=14, ha='left',  va='center')\n",
    "#     ax.text(1, 0.4, current_day, transform=ax.transAxes, color='#777777', size=46, ha='right', weight=800)\n",
    "#     ax.text(0, 1.06, 'Population (thousands)', transform=ax.transAxes, size=12, color='#777777')\n",
    "#     ax.xaxis.set_major_formatter(ticker.StrMethodFormatter('{x:,.0f}'))\n",
    "#     ax.xaxis.set_ticks_position('top')\n",
    "#     ax.tick_params(axis='x', colors='#777777', labelsize=12)\n",
    "#     ax.set_yticks([])\n",
    "#     ax.margins(0, 0.01)\n",
    "#     ax.grid(which='major', axis='x', linestyle='-')\n",
    "#     ax.set_axisbelow(True)\n",
    "    \n",
    "#     ax.text(0, 1.15, 'Coronavirus',\n",
    "#             transform=ax.transAxes, size=24, weight=600, ha='left', va='top')\n",
    "# #     ax.text(1, 0, 'by @pratapvardhan; credit @jburnmurdoch', transform=ax.transAxes, color='#777777', ha='right',\n",
    "# #             bbox=dict(facecolor='white', alpha=0.8, edgecolor='white'))\n",
    "#     plt.box(False)"
   ]
  },
  {
   "cell_type": "code",
   "execution_count": 42,
   "id": "sexual-wages",
   "metadata": {
    "execution": {
     "iopub.execute_input": "2022-06-08T00:40:56.210436Z",
     "iopub.status.busy": "2022-06-08T00:40:56.209855Z",
     "iopub.status.idle": "2022-06-08T00:40:56.212527Z",
     "shell.execute_reply": "2022-06-08T00:40:56.212057Z"
    },
    "papermill": {
     "duration": 0.036057,
     "end_time": "2022-06-08T00:40:56.212634",
     "exception": false,
     "start_time": "2022-06-08T00:40:56.176577",
     "status": "completed"
    },
    "tags": []
   },
   "outputs": [],
   "source": [
    "# #hide_input\n",
    "# fig, ax = plt.subplots(figsize=(15, 8))\n",
    "# animator = animation.FuncAnimation(fig, draw_barchart, frames=range(g.day.values.min(), g.day.values.max()))\n",
    "# HTML(animator.to_jshtml())\n",
    "# # or use animator.to_html5_video() or animator.save() "
   ]
  },
  {
   "cell_type": "code",
   "execution_count": null,
   "id": "australian-container",
   "metadata": {
    "papermill": {
     "duration": 0.030165,
     "end_time": "2022-06-08T00:40:56.273007",
     "exception": false,
     "start_time": "2022-06-08T00:40:56.242842",
     "status": "completed"
    },
    "tags": []
   },
   "outputs": [],
   "source": []
  },
  {
   "cell_type": "code",
   "execution_count": null,
   "id": "mediterranean-pontiac",
   "metadata": {
    "papermill": {
     "duration": 0.030071,
     "end_time": "2022-06-08T00:40:56.333289",
     "exception": false,
     "start_time": "2022-06-08T00:40:56.303218",
     "status": "completed"
    },
    "tags": []
   },
   "outputs": [],
   "source": []
  },
  {
   "cell_type": "code",
   "execution_count": null,
   "id": "aging-legislature",
   "metadata": {
    "papermill": {
     "duration": 0.03016,
     "end_time": "2022-06-08T00:40:56.393849",
     "exception": false,
     "start_time": "2022-06-08T00:40:56.363689",
     "status": "completed"
    },
    "tags": []
   },
   "outputs": [],
   "source": []
  }
 ],
 "metadata": {
  "kernelspec": {
   "display_name": "Python 3",
   "language": "python",
   "name": "python3"
  },
  "language_info": {
   "codemirror_mode": {
    "name": "ipython",
    "version": 3
   },
   "file_extension": ".py",
   "mimetype": "text/x-python",
   "name": "python",
   "nbconvert_exporter": "python",
   "pygments_lexer": "ipython3",
   "version": "3.6.15"
  },
  "papermill": {
   "duration": 6.06635,
   "end_time": "2022-06-08T00:40:56.742919",
   "environment_variables": {},
   "exception": null,
   "input_path": "2020-03-21-covid19exp.ipynb",
   "output_path": "2020-03-21-covid19exp.ipynb",
   "parameters": {},
   "start_time": "2022-06-08T00:40:50.676569",
   "version": "2.0.0"
  }
 },
 "nbformat": 4,
 "nbformat_minor": 5
}