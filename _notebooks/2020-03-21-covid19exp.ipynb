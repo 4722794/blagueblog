{
 "cells": [
  {
   "cell_type": "markdown",
   "id": "muslim-click",
   "metadata": {
    "papermill": {
     "duration": 0.041228,
     "end_time": "2022-01-01T12:12:35.446010",
     "exception": false,
     "start_time": "2022-01-01T12:12:35.404782",
     "status": "completed"
    },
    "tags": []
   },
   "source": [
    "# COVID-19 Case Race\n",
    "> A race chart to see rising cases around the world\n",
    "\n",
    "- author: Hargun Oberoi\n",
    "- image: images/covid-overview.png\n",
    "- hide: false\n",
    "- badges: false"
   ]
  },
  {
   "cell_type": "code",
   "execution_count": 1,
   "id": "proof-material",
   "metadata": {
    "execution": {
     "iopub.execute_input": "2022-01-01T12:12:35.524907Z",
     "iopub.status.busy": "2022-01-01T12:12:35.524294Z",
     "iopub.status.idle": "2022-01-01T12:12:35.892230Z",
     "shell.execute_reply": "2022-01-01T12:12:35.891675Z"
    },
    "papermill": {
     "duration": 0.412766,
     "end_time": "2022-01-01T12:12:35.892391",
     "exception": false,
     "start_time": "2022-01-01T12:12:35.479625",
     "status": "completed"
    },
    "tags": []
   },
   "outputs": [],
   "source": [
    "#hide\n",
    "import numpy as np\n",
    "import pandas as pd\n",
    "from jinja2 import Template\n",
    "from IPython.display import HTML"
   ]
  },
  {
   "cell_type": "code",
   "execution_count": 2,
   "id": "developed-terminology",
   "metadata": {
    "execution": {
     "iopub.execute_input": "2022-01-01T12:12:35.966048Z",
     "iopub.status.busy": "2022-01-01T12:12:35.965405Z",
     "iopub.status.idle": "2022-01-01T12:12:35.969492Z",
     "shell.execute_reply": "2022-01-01T12:12:35.969045Z"
    },
    "papermill": {
     "duration": 0.04455,
     "end_time": "2022-01-01T12:12:35.969612",
     "exception": false,
     "start_time": "2022-01-01T12:12:35.925062",
     "status": "completed"
    },
    "tags": []
   },
   "outputs": [],
   "source": [
    "#hide\n",
    "\n",
    "# FETCH\n",
    "base_url = 'https://raw.githubusercontent.com/pratapvardhan/notebooks/master/covid19/'\n",
    "paths = {\n",
    "    'mapping': base_url + 'mapping_countries.csv',\n",
    "    'overview': base_url + 'overview.tpl'\n",
    "}"
   ]
  },
  {
   "cell_type": "code",
   "execution_count": 3,
   "id": "dynamic-saver",
   "metadata": {
    "execution": {
     "iopub.execute_input": "2022-01-01T12:12:36.049418Z",
     "iopub.status.busy": "2022-01-01T12:12:36.043656Z",
     "iopub.status.idle": "2022-01-01T12:12:36.052355Z",
     "shell.execute_reply": "2022-01-01T12:12:36.052804Z"
    },
    "papermill": {
     "duration": 0.050559,
     "end_time": "2022-01-01T12:12:36.052953",
     "exception": false,
     "start_time": "2022-01-01T12:12:36.002394",
     "status": "completed"
    },
    "tags": []
   },
   "outputs": [
    {
     "data": {
      "text/plain": [
       "'https://raw.githubusercontent.com/pratapvardhan/notebooks/master/covid19/mapping_countries.csv'"
      ]
     },
     "execution_count": 3,
     "metadata": {},
     "output_type": "execute_result"
    }
   ],
   "source": [
    "#hide\n",
    "paths['mapping']"
   ]
  },
  {
   "cell_type": "code",
   "execution_count": 4,
   "id": "urban-software",
   "metadata": {
    "execution": {
     "iopub.execute_input": "2022-01-01T12:12:36.129028Z",
     "iopub.status.busy": "2022-01-01T12:12:36.128395Z",
     "iopub.status.idle": "2022-01-01T12:12:36.132243Z",
     "shell.execute_reply": "2022-01-01T12:12:36.131699Z"
    },
    "papermill": {
     "duration": 0.045664,
     "end_time": "2022-01-01T12:12:36.132370",
     "exception": false,
     "start_time": "2022-01-01T12:12:36.086706",
     "status": "completed"
    },
    "tags": []
   },
   "outputs": [],
   "source": [
    "#hide\n",
    "def get_mappings(url):\n",
    "    df = pd.read_csv(url)\n",
    "    return {\n",
    "        'df': df,\n",
    "        'replace.country': dict(df.dropna(subset=['Name']).set_index('Country')['Name']),\n",
    "        'map.continent': dict(df.set_index('Name')['Continent'])\n",
    "    }"
   ]
  },
  {
   "cell_type": "code",
   "execution_count": 5,
   "id": "intimate-machinery",
   "metadata": {
    "execution": {
     "iopub.execute_input": "2022-01-01T12:12:36.206978Z",
     "iopub.status.busy": "2022-01-01T12:12:36.206343Z",
     "iopub.status.idle": "2022-01-01T12:12:36.236455Z",
     "shell.execute_reply": "2022-01-01T12:12:36.235733Z"
    },
    "papermill": {
     "duration": 0.070632,
     "end_time": "2022-01-01T12:12:36.236627",
     "exception": false,
     "start_time": "2022-01-01T12:12:36.165995",
     "status": "completed"
    },
    "tags": []
   },
   "outputs": [],
   "source": [
    "#hide\n",
    "mapping = get_mappings(paths['mapping'])"
   ]
  },
  {
   "cell_type": "code",
   "execution_count": 6,
   "id": "certified-tactics",
   "metadata": {
    "execution": {
     "iopub.execute_input": "2022-01-01T12:12:36.309683Z",
     "iopub.status.busy": "2022-01-01T12:12:36.309089Z",
     "iopub.status.idle": "2022-01-01T12:12:36.310568Z",
     "shell.execute_reply": "2022-01-01T12:12:36.311164Z"
    },
    "papermill": {
     "duration": 0.040619,
     "end_time": "2022-01-01T12:12:36.311316",
     "exception": false,
     "start_time": "2022-01-01T12:12:36.270697",
     "status": "completed"
    },
    "tags": []
   },
   "outputs": [],
   "source": [
    "#hide\n",
    "def get_template(path):\n",
    "    from urllib.parse import urlparse\n",
    "    if bool(urlparse(path).netloc):\n",
    "        from urllib.request import urlopen\n",
    "        return urlopen(path).read().decode('utf8')\n",
    "    return open(path).read()"
   ]
  },
  {
   "cell_type": "code",
   "execution_count": 7,
   "id": "realistic-blast",
   "metadata": {
    "execution": {
     "iopub.execute_input": "2022-01-01T12:12:36.383432Z",
     "iopub.status.busy": "2022-01-01T12:12:36.382807Z",
     "iopub.status.idle": "2022-01-01T12:12:36.385814Z",
     "shell.execute_reply": "2022-01-01T12:12:36.385280Z"
    },
    "papermill": {
     "duration": 0.041532,
     "end_time": "2022-01-01T12:12:36.385944",
     "exception": false,
     "start_time": "2022-01-01T12:12:36.344412",
     "status": "completed"
    },
    "tags": []
   },
   "outputs": [],
   "source": [
    "#hide\n",
    "def get_frame(name):\n",
    "    url = (\n",
    "        'https://raw.githubusercontent.com/CSSEGISandData/COVID-19/master/csse_covid_19_data/'\n",
    "        f'csse_covid_19_time_series/time_series_covid19_{name}_global.csv')\n",
    "    df = pd.read_csv(url)\n",
    "    # rename countries\n",
    "    df['Country/Region'] = df['Country/Region'].replace(mapping['replace.country'])\n",
    "    return df"
   ]
  },
  {
   "cell_type": "code",
   "execution_count": 8,
   "id": "affiliated-characterization",
   "metadata": {
    "execution": {
     "iopub.execute_input": "2022-01-01T12:12:36.460563Z",
     "iopub.status.busy": "2022-01-01T12:12:36.459934Z",
     "iopub.status.idle": "2022-01-01T12:12:36.463429Z",
     "shell.execute_reply": "2022-01-01T12:12:36.463905Z"
    },
    "papermill": {
     "duration": 0.044932,
     "end_time": "2022-01-01T12:12:36.464056",
     "exception": false,
     "start_time": "2022-01-01T12:12:36.419124",
     "status": "completed"
    },
    "tags": []
   },
   "outputs": [],
   "source": [
    "#hide\n",
    "def get_dates(df):\n",
    "    dt_cols = df.columns[~df.columns.isin(['Province/State', 'Country/Region', 'Lat', 'Long'])]\n",
    "    LAST_DATE_I = -1\n",
    "    # sometimes last column may be empty, then go backwards\n",
    "    for i in range(-1, -len(dt_cols), -1):\n",
    "        if not df[dt_cols[i]].fillna(0).eq(0).all():\n",
    "            LAST_DATE_I = i\n",
    "            break\n",
    "    return LAST_DATE_I, dt_cols"
   ]
  },
  {
   "cell_type": "code",
   "execution_count": 9,
   "id": "recent-optimization",
   "metadata": {
    "execution": {
     "iopub.execute_input": "2022-01-01T12:12:36.538567Z",
     "iopub.status.busy": "2022-01-01T12:12:36.537948Z",
     "iopub.status.idle": "2022-01-01T12:12:36.895871Z",
     "shell.execute_reply": "2022-01-01T12:12:36.895192Z"
    },
    "papermill": {
     "duration": 0.398477,
     "end_time": "2022-01-01T12:12:36.896009",
     "exception": false,
     "start_time": "2022-01-01T12:12:36.497532",
     "status": "completed"
    },
    "tags": []
   },
   "outputs": [],
   "source": [
    "#hide\n",
    "COL_REGION = 'Country/Region'\n",
    "# Confirmed, Recovered, Deaths\n",
    "df = get_frame('confirmed')\n",
    "# dft_: timeseries, dfc_: today country agg\n",
    "dft_cases = df\n",
    "dft_deaths = get_frame('deaths')\n",
    "dft_recovered = get_frame('recovered')\n",
    "LAST_DATE_I, dt_cols = get_dates(df)"
   ]
  },
  {
   "cell_type": "code",
   "execution_count": 10,
   "id": "absolute-copper",
   "metadata": {
    "execution": {
     "iopub.execute_input": "2022-01-01T12:12:36.969866Z",
     "iopub.status.busy": "2022-01-01T12:12:36.969267Z",
     "iopub.status.idle": "2022-01-01T12:12:36.971948Z",
     "shell.execute_reply": "2022-01-01T12:12:36.971496Z"
    },
    "papermill": {
     "duration": 0.042453,
     "end_time": "2022-01-01T12:12:36.972072",
     "exception": false,
     "start_time": "2022-01-01T12:12:36.929619",
     "status": "completed"
    },
    "tags": []
   },
   "outputs": [],
   "source": [
    "#hide\n",
    "LAST_DATE_I, dt_cols = get_dates(df)\n",
    "dt_today =dt_cols[LAST_DATE_I]\n",
    "# dt_5day = dt_cols[LAST_DATE_I - 5]\n",
    "dt_yday = dt_cols[LAST_DATE_I - 1]"
   ]
  },
  {
   "cell_type": "code",
   "execution_count": 11,
   "id": "restricted-sheriff",
   "metadata": {
    "execution": {
     "iopub.execute_input": "2022-01-01T12:12:37.046249Z",
     "iopub.status.busy": "2022-01-01T12:12:37.045663Z",
     "iopub.status.idle": "2022-01-01T12:12:37.051852Z",
     "shell.execute_reply": "2022-01-01T12:12:37.051369Z"
    },
    "papermill": {
     "duration": 0.047111,
     "end_time": "2022-01-01T12:12:37.051984",
     "exception": false,
     "start_time": "2022-01-01T12:12:37.004873",
     "status": "completed"
    },
    "tags": []
   },
   "outputs": [],
   "source": [
    "#hide\n",
    "dfc_cases = dft_cases.groupby(COL_REGION)[dt_today].sum()\n",
    "dfc_deaths = dft_deaths.groupby(COL_REGION)[dt_today].sum()\n",
    "# dfp_cases = dft_cases.groupby(COL_REGION)[dt_5day].sum()\n",
    "# dfp_deaths = dft_deaths.groupby(COL_REGION)[dt_5day].sum()\n",
    "dfp_cases = dft_cases.groupby(COL_REGION)[dt_yday].sum()\n",
    "dfp_deaths = dft_deaths.groupby(COL_REGION)[dt_yday].sum()"
   ]
  },
  {
   "cell_type": "code",
   "execution_count": 12,
   "id": "deluxe-hepatitis",
   "metadata": {
    "execution": {
     "iopub.execute_input": "2022-01-01T12:12:37.126050Z",
     "iopub.status.busy": "2022-01-01T12:12:37.125427Z",
     "iopub.status.idle": "2022-01-01T12:12:37.129556Z",
     "shell.execute_reply": "2022-01-01T12:12:37.130070Z"
    },
    "papermill": {
     "duration": 0.044531,
     "end_time": "2022-01-01T12:12:37.130222",
     "exception": false,
     "start_time": "2022-01-01T12:12:37.085691",
     "status": "completed"
    },
    "tags": []
   },
   "outputs": [],
   "source": [
    "#hide\n",
    "df_table = (pd.DataFrame(dict(Cases = dfc_cases, Deaths = dfc_deaths, PCases = dfp_cases, PDeaths = dfp_deaths))\n",
    "            .sort_values(by = ['Cases','Deaths'], ascending = [False, False])\n",
    "            .reset_index())"
   ]
  },
  {
   "cell_type": "code",
   "execution_count": 13,
   "id": "educational-chancellor",
   "metadata": {
    "execution": {
     "iopub.execute_input": "2022-01-01T12:12:37.217154Z",
     "iopub.status.busy": "2022-01-01T12:12:37.216533Z",
     "iopub.status.idle": "2022-01-01T12:12:37.225721Z",
     "shell.execute_reply": "2022-01-01T12:12:37.225238Z"
    },
    "papermill": {
     "duration": 0.062192,
     "end_time": "2022-01-01T12:12:37.225854",
     "exception": false,
     "start_time": "2022-01-01T12:12:37.163662",
     "status": "completed"
    },
    "tags": []
   },
   "outputs": [
    {
     "data": {
      "text/html": [
       "<div>\n",
       "<style scoped>\n",
       "    .dataframe tbody tr th:only-of-type {\n",
       "        vertical-align: middle;\n",
       "    }\n",
       "\n",
       "    .dataframe tbody tr th {\n",
       "        vertical-align: top;\n",
       "    }\n",
       "\n",
       "    .dataframe thead th {\n",
       "        text-align: right;\n",
       "    }\n",
       "</style>\n",
       "<table border=\"1\" class=\"dataframe\">\n",
       "  <thead>\n",
       "    <tr style=\"text-align: right;\">\n",
       "      <th></th>\n",
       "      <th>Country/Region</th>\n",
       "      <th>Cases</th>\n",
       "      <th>Deaths</th>\n",
       "      <th>PCases</th>\n",
       "      <th>PDeaths</th>\n",
       "      <th>Cases (+)</th>\n",
       "      <th>Deaths (+)</th>\n",
       "      <th>Fatality Rate</th>\n",
       "      <th>Continent</th>\n",
       "    </tr>\n",
       "  </thead>\n",
       "  <tbody>\n",
       "    <tr>\n",
       "      <th>0</th>\n",
       "      <td>US</td>\n",
       "      <td>54743982</td>\n",
       "      <td>825536</td>\n",
       "      <td>54246831</td>\n",
       "      <td>824301</td>\n",
       "      <td>497151</td>\n",
       "      <td>1235</td>\n",
       "      <td>1.51</td>\n",
       "      <td>North America</td>\n",
       "    </tr>\n",
       "    <tr>\n",
       "      <th>1</th>\n",
       "      <td>India</td>\n",
       "      <td>34861579</td>\n",
       "      <td>481486</td>\n",
       "      <td>34838804</td>\n",
       "      <td>481080</td>\n",
       "      <td>22775</td>\n",
       "      <td>406</td>\n",
       "      <td>1.38</td>\n",
       "      <td>Asia</td>\n",
       "    </tr>\n",
       "    <tr>\n",
       "      <th>2</th>\n",
       "      <td>Brazil</td>\n",
       "      <td>22291839</td>\n",
       "      <td>619334</td>\n",
       "      <td>22281649</td>\n",
       "      <td>619249</td>\n",
       "      <td>10190</td>\n",
       "      <td>85</td>\n",
       "      <td>2.78</td>\n",
       "      <td>South America</td>\n",
       "    </tr>\n",
       "    <tr>\n",
       "      <th>3</th>\n",
       "      <td>United Kingdom</td>\n",
       "      <td>13011556</td>\n",
       "      <td>149096</td>\n",
       "      <td>12820359</td>\n",
       "      <td>148893</td>\n",
       "      <td>191197</td>\n",
       "      <td>203</td>\n",
       "      <td>1.15</td>\n",
       "      <td>Europe</td>\n",
       "    </tr>\n",
       "    <tr>\n",
       "      <th>4</th>\n",
       "      <td>Russia</td>\n",
       "      <td>10320405</td>\n",
       "      <td>302671</td>\n",
       "      <td>10299923</td>\n",
       "      <td>301791</td>\n",
       "      <td>20482</td>\n",
       "      <td>880</td>\n",
       "      <td>2.93</td>\n",
       "      <td>Europe</td>\n",
       "    </tr>\n",
       "  </tbody>\n",
       "</table>\n",
       "</div>"
      ],
      "text/plain": [
       "   Country/Region     Cases  Deaths    PCases  PDeaths  Cases (+)  Deaths (+)  \\\n",
       "0              US  54743982  825536  54246831   824301     497151        1235   \n",
       "1           India  34861579  481486  34838804   481080      22775         406   \n",
       "2          Brazil  22291839  619334  22281649   619249      10190          85   \n",
       "3  United Kingdom  13011556  149096  12820359   148893     191197         203   \n",
       "4          Russia  10320405  302671  10299923   301791      20482         880   \n",
       "\n",
       "   Fatality Rate      Continent  \n",
       "0           1.51  North America  \n",
       "1           1.38           Asia  \n",
       "2           2.78  South America  \n",
       "3           1.15         Europe  \n",
       "4           2.93         Europe  "
      ]
     },
     "execution_count": 13,
     "metadata": {},
     "output_type": "execute_result"
    }
   ],
   "source": [
    "#hide\n",
    "for c in 'Cases, Deaths'.split(', '):\n",
    "    df_table[f'{c} (+)'] = (df_table[c] - df_table[f'P{c}']).clip(0)\n",
    "    #Clip ça veut dire, les chiffres negatif sont interdit\n",
    "df_table['Fatality Rate'] = (100* df_table['Deaths']/ df_table['Cases']).round(2)\n",
    "df_table['Continent'] = df_table['Country/Region'].map(mapping['map.continent'])\n",
    "df_table.head(5)"
   ]
  },
  {
   "cell_type": "code",
   "execution_count": 14,
   "id": "aboriginal-bulgaria",
   "metadata": {
    "execution": {
     "iopub.execute_input": "2022-01-01T12:12:37.295916Z",
     "iopub.status.busy": "2022-01-01T12:12:37.295325Z",
     "iopub.status.idle": "2022-01-01T12:12:37.297574Z",
     "shell.execute_reply": "2022-01-01T12:12:37.298025Z"
    },
    "papermill": {
     "duration": 0.040718,
     "end_time": "2022-01-01T12:12:37.298172",
     "exception": false,
     "start_time": "2022-01-01T12:12:37.257454",
     "status": "completed"
    },
    "tags": []
   },
   "outputs": [],
   "source": [
    "#hide\n",
    "#delete problematic countries from table\n",
    "df_table = df_table[~df_table['Country/Region'].isin(['Cape Verde', 'Cruise Ship', 'Kosovo'])]"
   ]
  },
  {
   "cell_type": "code",
   "execution_count": 15,
   "id": "fantastic-effect",
   "metadata": {
    "execution": {
     "iopub.execute_input": "2022-01-01T12:12:37.376136Z",
     "iopub.status.busy": "2022-01-01T12:12:37.374661Z",
     "iopub.status.idle": "2022-01-01T12:12:37.394793Z",
     "shell.execute_reply": "2022-01-01T12:12:37.394247Z"
    },
    "papermill": {
     "duration": 0.063097,
     "end_time": "2022-01-01T12:12:37.394925",
     "exception": false,
     "start_time": "2022-01-01T12:12:37.331828",
     "status": "completed"
    },
    "tags": []
   },
   "outputs": [
    {
     "data": {
      "text/html": [
       "<div>\n",
       "<style scoped>\n",
       "    .dataframe tbody tr th:only-of-type {\n",
       "        vertical-align: middle;\n",
       "    }\n",
       "\n",
       "    .dataframe tbody tr th {\n",
       "        vertical-align: top;\n",
       "    }\n",
       "\n",
       "    .dataframe thead th {\n",
       "        text-align: right;\n",
       "    }\n",
       "</style>\n",
       "<table border=\"1\" class=\"dataframe\">\n",
       "  <thead>\n",
       "    <tr style=\"text-align: right;\">\n",
       "      <th></th>\n",
       "      <th>Country/Region</th>\n",
       "      <th>Cases</th>\n",
       "      <th>Deaths</th>\n",
       "      <th>PCases</th>\n",
       "      <th>PDeaths</th>\n",
       "      <th>Cases (+)</th>\n",
       "      <th>Deaths (+)</th>\n",
       "      <th>Fatality Rate</th>\n",
       "      <th>Continent</th>\n",
       "    </tr>\n",
       "  </thead>\n",
       "  <tbody>\n",
       "    <tr>\n",
       "      <th>0</th>\n",
       "      <td>US</td>\n",
       "      <td>54743982</td>\n",
       "      <td>825536</td>\n",
       "      <td>54246831</td>\n",
       "      <td>824301</td>\n",
       "      <td>497151</td>\n",
       "      <td>1235</td>\n",
       "      <td>1.5</td>\n",
       "      <td>North America</td>\n",
       "    </tr>\n",
       "    <tr>\n",
       "      <th>1</th>\n",
       "      <td>India</td>\n",
       "      <td>34861579</td>\n",
       "      <td>481486</td>\n",
       "      <td>34838804</td>\n",
       "      <td>481080</td>\n",
       "      <td>22775</td>\n",
       "      <td>406</td>\n",
       "      <td>1.4</td>\n",
       "      <td>Asia</td>\n",
       "    </tr>\n",
       "    <tr>\n",
       "      <th>2</th>\n",
       "      <td>Brazil</td>\n",
       "      <td>22291839</td>\n",
       "      <td>619334</td>\n",
       "      <td>22281649</td>\n",
       "      <td>619249</td>\n",
       "      <td>10190</td>\n",
       "      <td>85</td>\n",
       "      <td>2.8</td>\n",
       "      <td>South America</td>\n",
       "    </tr>\n",
       "    <tr>\n",
       "      <th>3</th>\n",
       "      <td>United Kingdom</td>\n",
       "      <td>13011556</td>\n",
       "      <td>149096</td>\n",
       "      <td>12820359</td>\n",
       "      <td>148893</td>\n",
       "      <td>191197</td>\n",
       "      <td>203</td>\n",
       "      <td>1.1</td>\n",
       "      <td>Europe</td>\n",
       "    </tr>\n",
       "    <tr>\n",
       "      <th>4</th>\n",
       "      <td>Russia</td>\n",
       "      <td>10320405</td>\n",
       "      <td>302671</td>\n",
       "      <td>10299923</td>\n",
       "      <td>301791</td>\n",
       "      <td>20482</td>\n",
       "      <td>880</td>\n",
       "      <td>2.9</td>\n",
       "      <td>Europe</td>\n",
       "    </tr>\n",
       "  </tbody>\n",
       "</table>\n",
       "</div>"
      ],
      "text/plain": [
       "   Country/Region     Cases  Deaths    PCases  PDeaths  Cases (+)  Deaths (+)  \\\n",
       "0              US  54743982  825536  54246831   824301     497151        1235   \n",
       "1           India  34861579  481486  34838804   481080      22775         406   \n",
       "2          Brazil  22291839  619334  22281649   619249      10190          85   \n",
       "3  United Kingdom  13011556  149096  12820359   148893     191197         203   \n",
       "4          Russia  10320405  302671  10299923   301791      20482         880   \n",
       "\n",
       "   Fatality Rate      Continent  \n",
       "0            1.5  North America  \n",
       "1            1.4           Asia  \n",
       "2            2.8  South America  \n",
       "3            1.1         Europe  \n",
       "4            2.9         Europe  "
      ]
     },
     "execution_count": 15,
     "metadata": {},
     "output_type": "execute_result"
    }
   ],
   "source": [
    "#hide\n",
    "df_table = (pd.DataFrame(dict(Cases=dfc_cases, Deaths=dfc_deaths, PCases=dfp_cases, PDeaths=dfp_deaths))\n",
    "             .sort_values(by=['Cases', 'Deaths'], ascending=[False, False])\n",
    "             .reset_index())\n",
    "df_table.rename(columns={'index': 'Country/Region'}, inplace=True)\n",
    "for c in 'Cases, Deaths'.split(', '):\n",
    "    df_table[f'{c} (+)'] = (df_table[c] - df_table[f'P{c}']).clip(0)  # DATA BUG\n",
    "df_table['Fatality Rate'] = (100 * df_table['Deaths'] / df_table['Cases']).round(1)\n",
    "df_table['Continent'] = df_table['Country/Region'].map(mapping['map.continent'])\n",
    "df_table.head(5)"
   ]
  },
  {
   "cell_type": "code",
   "execution_count": 16,
   "id": "fewer-occasion",
   "metadata": {
    "execution": {
     "iopub.execute_input": "2022-01-01T12:12:37.469794Z",
     "iopub.status.busy": "2022-01-01T12:12:37.469157Z",
     "iopub.status.idle": "2022-01-01T12:12:37.471428Z",
     "shell.execute_reply": "2022-01-01T12:12:37.470881Z"
    },
    "papermill": {
     "duration": 0.042823,
     "end_time": "2022-01-01T12:12:37.471549",
     "exception": false,
     "start_time": "2022-01-01T12:12:37.428726",
     "status": "completed"
    },
    "tags": []
   },
   "outputs": [],
   "source": [
    "#hide\n",
    "#delete problematic countries from table\n",
    "df_table = df_table[~df_table['Country/Region'].isin(['Cape Verde', 'Cruise Ship', 'Kosovo'])]"
   ]
  },
  {
   "cell_type": "code",
   "execution_count": 17,
   "id": "related-center",
   "metadata": {
    "execution": {
     "iopub.execute_input": "2022-01-01T12:12:37.549157Z",
     "iopub.status.busy": "2022-01-01T12:12:37.548556Z",
     "iopub.status.idle": "2022-01-01T12:12:37.562894Z",
     "shell.execute_reply": "2022-01-01T12:12:37.562373Z"
    },
    "papermill": {
     "duration": 0.057288,
     "end_time": "2022-01-01T12:12:37.563021",
     "exception": false,
     "start_time": "2022-01-01T12:12:37.505733",
     "status": "completed"
    },
    "tags": []
   },
   "outputs": [],
   "source": [
    "#hide\n",
    "metrics = [df_table.columns[index] for index in [1,2,5,6]]\n",
    "# s_china = df_table[df_table['Country/Region'].eq('China')][metrics].sum().add_prefix('China ')\n",
    "s_us = df_table[df_table['Country/Region'].eq('US')][metrics].sum().add_prefix('US ')\n",
    "s_eu = df_table[df_table['Continent'].eq('Europe')][metrics].sum().add_prefix('EU ')\n",
    "s_ind = df_table[df_table['Country/Region'].eq('India')][metrics].sum().add_prefix('India ')\n",
    "summary = {'updated': pd.to_datetime(dt_today), 'since': pd.to_datetime(dt_yday)}\n",
    "summary = {'updated': pd.to_datetime(dt_today), 'since': pd.to_datetime(dt_yday)}\n",
    "summary = {**summary, **df_table[metrics].sum(), **s_ind, **s_us, **s_eu}"
   ]
  },
  {
   "cell_type": "code",
   "execution_count": 18,
   "id": "engaging-syndrome",
   "metadata": {
    "execution": {
     "iopub.execute_input": "2022-01-01T12:12:37.639059Z",
     "iopub.status.busy": "2022-01-01T12:12:37.638443Z",
     "iopub.status.idle": "2022-01-01T12:12:37.653029Z",
     "shell.execute_reply": "2022-01-01T12:12:37.652546Z"
    },
    "papermill": {
     "duration": 0.05586,
     "end_time": "2022-01-01T12:12:37.653164",
     "exception": false,
     "start_time": "2022-01-01T12:12:37.597304",
     "status": "completed"
    },
    "tags": []
   },
   "outputs": [],
   "source": [
    "#hide\n",
    "dft_ct_new_cases = dft_cases.groupby(COL_REGION)[dt_cols].sum().diff(axis=1).fillna(0).astype(int)"
   ]
  },
  {
   "cell_type": "code",
   "execution_count": 19,
   "id": "neutral-assignment",
   "metadata": {
    "execution": {
     "iopub.execute_input": "2022-01-01T12:12:37.727268Z",
     "iopub.status.busy": "2022-01-01T12:12:37.726583Z",
     "iopub.status.idle": "2022-01-01T12:12:37.728540Z",
     "shell.execute_reply": "2022-01-01T12:12:37.729009Z"
    },
    "papermill": {
     "duration": 0.041562,
     "end_time": "2022-01-01T12:12:37.729159",
     "exception": false,
     "start_time": "2022-01-01T12:12:37.687597",
     "status": "completed"
    },
    "tags": []
   },
   "outputs": [],
   "source": [
    "#hide\n",
    "everydaycases = dft_ct_new_cases.cumsum(axis=1)"
   ]
  },
  {
   "cell_type": "code",
   "execution_count": 20,
   "id": "parliamentary-calgary",
   "metadata": {
    "execution": {
     "iopub.execute_input": "2022-01-01T12:12:37.807479Z",
     "iopub.status.busy": "2022-01-01T12:12:37.806869Z",
     "iopub.status.idle": "2022-01-01T12:12:38.531173Z",
     "shell.execute_reply": "2022-01-01T12:12:38.530018Z"
    },
    "papermill": {
     "duration": 0.764692,
     "end_time": "2022-01-01T12:12:38.531334",
     "exception": false,
     "start_time": "2022-01-01T12:12:37.766642",
     "status": "completed"
    },
    "tags": []
   },
   "outputs": [],
   "source": [
    "#hide\n",
    "import pandas as pd\n",
    "import matplotlib.pyplot as plt\n",
    "import matplotlib.ticker as ticker\n",
    "import matplotlib.animation as animation\n",
    "from IPython.display import HTML"
   ]
  },
  {
   "cell_type": "code",
   "execution_count": 21,
   "id": "lasting-extraction",
   "metadata": {
    "execution": {
     "iopub.execute_input": "2022-01-01T12:12:38.606843Z",
     "iopub.status.busy": "2022-01-01T12:12:38.606214Z",
     "iopub.status.idle": "2022-01-01T12:12:38.612492Z",
     "shell.execute_reply": "2022-01-01T12:12:38.613046Z"
    },
    "papermill": {
     "duration": 0.047554,
     "end_time": "2022-01-01T12:12:38.613193",
     "exception": false,
     "start_time": "2022-01-01T12:12:38.565639",
     "status": "completed"
    },
    "tags": []
   },
   "outputs": [],
   "source": [
    "#hide\n",
    "t = everydaycases.stack()"
   ]
  },
  {
   "cell_type": "code",
   "execution_count": 22,
   "id": "premier-sleeve",
   "metadata": {
    "execution": {
     "iopub.execute_input": "2022-01-01T12:12:38.687538Z",
     "iopub.status.busy": "2022-01-01T12:12:38.686924Z",
     "iopub.status.idle": "2022-01-01T12:12:38.698423Z",
     "shell.execute_reply": "2022-01-01T12:12:38.698969Z"
    },
    "papermill": {
     "duration": 0.051947,
     "end_time": "2022-01-01T12:12:38.699129",
     "exception": false,
     "start_time": "2022-01-01T12:12:38.647182",
     "status": "completed"
    },
    "tags": []
   },
   "outputs": [],
   "source": [
    "#hide\n",
    "g = t.reset_index(['Country/Region'])"
   ]
  },
  {
   "cell_type": "code",
   "execution_count": 23,
   "id": "distributed-pittsburgh",
   "metadata": {
    "execution": {
     "iopub.execute_input": "2022-01-01T12:12:38.772631Z",
     "iopub.status.busy": "2022-01-01T12:12:38.772009Z",
     "iopub.status.idle": "2022-01-01T12:12:38.774570Z",
     "shell.execute_reply": "2022-01-01T12:12:38.775177Z"
    },
    "papermill": {
     "duration": 0.04196,
     "end_time": "2022-01-01T12:12:38.775330",
     "exception": false,
     "start_time": "2022-01-01T12:12:38.733370",
     "status": "completed"
    },
    "tags": []
   },
   "outputs": [],
   "source": [
    "#hide\n",
    "g.index.name = 'date'"
   ]
  },
  {
   "cell_type": "code",
   "execution_count": 24,
   "id": "naked-donor",
   "metadata": {
    "execution": {
     "iopub.execute_input": "2022-01-01T12:12:38.848315Z",
     "iopub.status.busy": "2022-01-01T12:12:38.847624Z",
     "iopub.status.idle": "2022-01-01T12:12:38.851390Z",
     "shell.execute_reply": "2022-01-01T12:12:38.850913Z"
    },
    "papermill": {
     "duration": 0.041863,
     "end_time": "2022-01-01T12:12:38.851510",
     "exception": false,
     "start_time": "2022-01-01T12:12:38.809647",
     "status": "completed"
    },
    "tags": []
   },
   "outputs": [],
   "source": [
    "# #hide\n",
    "# g = g.reset_index(['date'])"
   ]
  },
  {
   "cell_type": "code",
   "execution_count": 25,
   "id": "incomplete-mustang",
   "metadata": {
    "execution": {
     "iopub.execute_input": "2022-01-01T12:12:38.924153Z",
     "iopub.status.busy": "2022-01-01T12:12:38.923607Z",
     "iopub.status.idle": "2022-01-01T12:12:38.925946Z",
     "shell.execute_reply": "2022-01-01T12:12:38.926505Z"
    },
    "papermill": {
     "duration": 0.041408,
     "end_time": "2022-01-01T12:12:38.926646",
     "exception": false,
     "start_time": "2022-01-01T12:12:38.885238",
     "status": "completed"
    },
    "tags": []
   },
   "outputs": [],
   "source": [
    "#hide\n",
    "# g.head()"
   ]
  },
  {
   "cell_type": "code",
   "execution_count": 26,
   "id": "specific-kruger",
   "metadata": {
    "execution": {
     "iopub.execute_input": "2022-01-01T12:12:38.999607Z",
     "iopub.status.busy": "2022-01-01T12:12:38.998577Z",
     "iopub.status.idle": "2022-01-01T12:12:39.001537Z",
     "shell.execute_reply": "2022-01-01T12:12:39.001986Z"
    },
    "papermill": {
     "duration": 0.041957,
     "end_time": "2022-01-01T12:12:39.002131",
     "exception": false,
     "start_time": "2022-01-01T12:12:38.960174",
     "status": "completed"
    },
    "tags": []
   },
   "outputs": [],
   "source": [
    "#hide\n",
    "# g.columns = ['date','country','cases']"
   ]
  },
  {
   "cell_type": "code",
   "execution_count": 27,
   "id": "tender-conversion",
   "metadata": {
    "execution": {
     "iopub.execute_input": "2022-01-01T12:12:39.076347Z",
     "iopub.status.busy": "2022-01-01T12:12:39.075371Z",
     "iopub.status.idle": "2022-01-01T12:12:39.076949Z",
     "shell.execute_reply": "2022-01-01T12:12:39.077512Z"
    },
    "papermill": {
     "duration": 0.041319,
     "end_time": "2022-01-01T12:12:39.077661",
     "exception": false,
     "start_time": "2022-01-01T12:12:39.036342",
     "status": "completed"
    },
    "tags": []
   },
   "outputs": [],
   "source": [
    "#hide\n",
    "# g['continent'] = g.country"
   ]
  },
  {
   "cell_type": "code",
   "execution_count": 28,
   "id": "substantial-wilderness",
   "metadata": {
    "execution": {
     "iopub.execute_input": "2022-01-01T12:12:39.159187Z",
     "iopub.status.busy": "2022-01-01T12:12:39.158542Z",
     "iopub.status.idle": "2022-01-01T12:12:39.161510Z",
     "shell.execute_reply": "2022-01-01T12:12:39.161990Z"
    },
    "papermill": {
     "duration": 0.045403,
     "end_time": "2022-01-01T12:12:39.162140",
     "exception": false,
     "start_time": "2022-01-01T12:12:39.116737",
     "status": "completed"
    },
    "tags": []
   },
   "outputs": [],
   "source": [
    "#hide\n",
    "# cols = list(g.columns.values)"
   ]
  },
  {
   "cell_type": "code",
   "execution_count": 29,
   "id": "solved-farming",
   "metadata": {
    "execution": {
     "iopub.execute_input": "2022-01-01T12:12:39.237062Z",
     "iopub.status.busy": "2022-01-01T12:12:39.236210Z",
     "iopub.status.idle": "2022-01-01T12:12:39.237926Z",
     "shell.execute_reply": "2022-01-01T12:12:39.238564Z"
    },
    "papermill": {
     "duration": 0.041466,
     "end_time": "2022-01-01T12:12:39.238786",
     "exception": false,
     "start_time": "2022-01-01T12:12:39.197320",
     "status": "completed"
    },
    "tags": []
   },
   "outputs": [],
   "source": [
    "#hide\n",
    "# cols.insert(0, cols.pop())"
   ]
  },
  {
   "cell_type": "code",
   "execution_count": 30,
   "id": "executed-adoption",
   "metadata": {
    "execution": {
     "iopub.execute_input": "2022-01-01T12:12:39.314153Z",
     "iopub.status.busy": "2022-01-01T12:12:39.313500Z",
     "iopub.status.idle": "2022-01-01T12:12:39.317595Z",
     "shell.execute_reply": "2022-01-01T12:12:39.317112Z"
    },
    "papermill": {
     "duration": 0.042996,
     "end_time": "2022-01-01T12:12:39.317725",
     "exception": false,
     "start_time": "2022-01-01T12:12:39.274729",
     "status": "completed"
    },
    "tags": []
   },
   "outputs": [],
   "source": [
    "#hide\n",
    "# g = g[cols]"
   ]
  },
  {
   "cell_type": "code",
   "execution_count": 31,
   "id": "subject-dublin",
   "metadata": {
    "execution": {
     "iopub.execute_input": "2022-01-01T12:12:39.392992Z",
     "iopub.status.busy": "2022-01-01T12:12:39.391933Z",
     "iopub.status.idle": "2022-01-01T12:12:39.394082Z",
     "shell.execute_reply": "2022-01-01T12:12:39.394647Z"
    },
    "papermill": {
     "duration": 0.042348,
     "end_time": "2022-01-01T12:12:39.394807",
     "exception": false,
     "start_time": "2022-01-01T12:12:39.352459",
     "status": "completed"
    },
    "tags": []
   },
   "outputs": [],
   "source": [
    "#hide\n",
    "# g['continent'] = g['continent'].map(mapping['map.continent'])"
   ]
  },
  {
   "cell_type": "code",
   "execution_count": 32,
   "id": "freelance-scout",
   "metadata": {
    "execution": {
     "iopub.execute_input": "2022-01-01T12:12:39.467831Z",
     "iopub.status.busy": "2022-01-01T12:12:39.467216Z",
     "iopub.status.idle": "2022-01-01T12:12:39.469571Z",
     "shell.execute_reply": "2022-01-01T12:12:39.470021Z"
    },
    "papermill": {
     "duration": 0.040992,
     "end_time": "2022-01-01T12:12:39.470168",
     "exception": false,
     "start_time": "2022-01-01T12:12:39.429176",
     "status": "completed"
    },
    "tags": []
   },
   "outputs": [],
   "source": [
    "#hide\n",
    "# g.head()"
   ]
  },
  {
   "cell_type": "code",
   "execution_count": 33,
   "id": "limited-engine",
   "metadata": {
    "execution": {
     "iopub.execute_input": "2022-01-01T12:12:39.543383Z",
     "iopub.status.busy": "2022-01-01T12:12:39.542788Z",
     "iopub.status.idle": "2022-01-01T12:12:39.545055Z",
     "shell.execute_reply": "2022-01-01T12:12:39.544554Z"
    },
    "papermill": {
     "duration": 0.040531,
     "end_time": "2022-01-01T12:12:39.545179",
     "exception": false,
     "start_time": "2022-01-01T12:12:39.504648",
     "status": "completed"
    },
    "tags": []
   },
   "outputs": [],
   "source": [
    "# hide\n",
    "# g['date'] = g['date'].astype('datetime64[ns]')"
   ]
  },
  {
   "cell_type": "code",
   "execution_count": 34,
   "id": "sophisticated-supervisor",
   "metadata": {
    "execution": {
     "iopub.execute_input": "2022-01-01T12:12:39.618717Z",
     "iopub.status.busy": "2022-01-01T12:12:39.618088Z",
     "iopub.status.idle": "2022-01-01T12:12:39.621548Z",
     "shell.execute_reply": "2022-01-01T12:12:39.622108Z"
    },
    "papermill": {
     "duration": 0.042649,
     "end_time": "2022-01-01T12:12:39.622272",
     "exception": false,
     "start_time": "2022-01-01T12:12:39.579623",
     "status": "completed"
    },
    "tags": []
   },
   "outputs": [],
   "source": [
    "#hide\n",
    "# g['date'] = g.date.dt.dayofyear"
   ]
  },
  {
   "cell_type": "code",
   "execution_count": 35,
   "id": "inside-dubai",
   "metadata": {
    "execution": {
     "iopub.execute_input": "2022-01-01T12:12:39.703072Z",
     "iopub.status.busy": "2022-01-01T12:12:39.702436Z",
     "iopub.status.idle": "2022-01-01T12:12:39.705014Z",
     "shell.execute_reply": "2022-01-01T12:12:39.705493Z"
    },
    "papermill": {
     "duration": 0.046377,
     "end_time": "2022-01-01T12:12:39.705641",
     "exception": false,
     "start_time": "2022-01-01T12:12:39.659264",
     "status": "completed"
    },
    "tags": []
   },
   "outputs": [],
   "source": [
    "#hide\n",
    "# g = g.rename(columns= {'continent':'group','country':'name','cases':'value'})"
   ]
  },
  {
   "cell_type": "code",
   "execution_count": 36,
   "id": "fleet-motorcycle",
   "metadata": {
    "execution": {
     "iopub.execute_input": "2022-01-01T12:12:39.778785Z",
     "iopub.status.busy": "2022-01-01T12:12:39.778138Z",
     "iopub.status.idle": "2022-01-01T12:12:39.781537Z",
     "shell.execute_reply": "2022-01-01T12:12:39.781994Z"
    },
    "papermill": {
     "duration": 0.041494,
     "end_time": "2022-01-01T12:12:39.782145",
     "exception": false,
     "start_time": "2022-01-01T12:12:39.740651",
     "status": "completed"
    },
    "tags": []
   },
   "outputs": [],
   "source": [
    "#hide\n",
    "# cols = ['name','group','day','value']"
   ]
  },
  {
   "cell_type": "code",
   "execution_count": 37,
   "id": "continued-sleeping",
   "metadata": {
    "execution": {
     "iopub.execute_input": "2022-01-01T12:12:39.867370Z",
     "iopub.status.busy": "2022-01-01T12:12:39.866271Z",
     "iopub.status.idle": "2022-01-01T12:12:39.868481Z",
     "shell.execute_reply": "2022-01-01T12:12:39.869300Z"
    },
    "papermill": {
     "duration": 0.045217,
     "end_time": "2022-01-01T12:12:39.869531",
     "exception": false,
     "start_time": "2022-01-01T12:12:39.824314",
     "status": "completed"
    },
    "tags": []
   },
   "outputs": [],
   "source": [
    "#hide\n",
    "# g.rename(columns= {'date':'day'},inplace = True)"
   ]
  },
  {
   "cell_type": "code",
   "execution_count": 38,
   "id": "major-fight",
   "metadata": {
    "execution": {
     "iopub.execute_input": "2022-01-01T12:12:39.942675Z",
     "iopub.status.busy": "2022-01-01T12:12:39.942194Z",
     "iopub.status.idle": "2022-01-01T12:12:39.944607Z",
     "shell.execute_reply": "2022-01-01T12:12:39.945081Z"
    },
    "papermill": {
     "duration": 0.040896,
     "end_time": "2022-01-01T12:12:39.945220",
     "exception": false,
     "start_time": "2022-01-01T12:12:39.904324",
     "status": "completed"
    },
    "tags": []
   },
   "outputs": [],
   "source": [
    "#hide\n",
    "# g = g[cols]"
   ]
  },
  {
   "cell_type": "code",
   "execution_count": 39,
   "id": "structured-mobile",
   "metadata": {
    "execution": {
     "iopub.execute_input": "2022-01-01T12:12:40.018019Z",
     "iopub.status.busy": "2022-01-01T12:12:40.016979Z",
     "iopub.status.idle": "2022-01-01T12:12:40.020994Z",
     "shell.execute_reply": "2022-01-01T12:12:40.021410Z"
    },
    "papermill": {
     "duration": 0.042724,
     "end_time": "2022-01-01T12:12:40.021554",
     "exception": false,
     "start_time": "2022-01-01T12:12:39.978830",
     "status": "completed"
    },
    "tags": []
   },
   "outputs": [],
   "source": [
    "# #hide\n",
    "# g = g[g.group.notna()]"
   ]
  },
  {
   "cell_type": "code",
   "execution_count": 40,
   "id": "determined-closing",
   "metadata": {
    "execution": {
     "iopub.execute_input": "2022-01-01T12:12:40.100598Z",
     "iopub.status.busy": "2022-01-01T12:12:40.099862Z",
     "iopub.status.idle": "2022-01-01T12:12:40.102898Z",
     "shell.execute_reply": "2022-01-01T12:12:40.102264Z"
    },
    "papermill": {
     "duration": 0.046737,
     "end_time": "2022-01-01T12:12:40.103035",
     "exception": false,
     "start_time": "2022-01-01T12:12:40.056298",
     "status": "completed"
    },
    "tags": []
   },
   "outputs": [],
   "source": [
    "# #hide\n",
    "# colors = dict(zip(\n",
    "#     [\"Oceania\", \"Europe\", \"Asia\", \"South America\", \"Middle East\", \"North America\", \"Africa\"],\n",
    "#     [\"#adb0ff\", \"#ffb3ff\", \"#90d595\", \"#e48381\", \"#aafbff\", \"#f7bb5f\", \"#eafb50\"]\n",
    "# ))\n",
    "# group_lk = g.set_index('name')['group'].to_dict()"
   ]
  },
  {
   "cell_type": "code",
   "execution_count": null,
   "id": "gross-drinking",
   "metadata": {
    "papermill": {
     "duration": 0.034176,
     "end_time": "2022-01-01T12:12:40.178585",
     "exception": false,
     "start_time": "2022-01-01T12:12:40.144409",
     "status": "completed"
    },
    "tags": []
   },
   "outputs": [],
   "source": []
  },
  {
   "cell_type": "code",
   "execution_count": 41,
   "id": "subject-macintosh",
   "metadata": {
    "execution": {
     "iopub.execute_input": "2022-01-01T12:12:40.252501Z",
     "iopub.status.busy": "2022-01-01T12:12:40.251840Z",
     "iopub.status.idle": "2022-01-01T12:12:40.254123Z",
     "shell.execute_reply": "2022-01-01T12:12:40.253604Z"
    },
    "papermill": {
     "duration": 0.040901,
     "end_time": "2022-01-01T12:12:40.254249",
     "exception": false,
     "start_time": "2022-01-01T12:12:40.213348",
     "status": "completed"
    },
    "tags": []
   },
   "outputs": [],
   "source": [
    "# #hide\n",
    "# fig, ax = plt.subplots(figsize=(15, 8))\n",
    "\n",
    "# def draw_barchart(current_day):\n",
    "#     dff = g[g['day'].eq(current_day)].sort_values(by='value', ascending=True).tail(10)\n",
    "#     ax.clear()\n",
    "#     ax.barh(dff['name'], dff['value'], color=[colors[group_lk[x]] for x in dff['name']])\n",
    "#     dx = dff['value'].max() / 200\n",
    "    \n",
    "#     for i, (value, name) in enumerate(zip(dff['value'], dff['name'])):\n",
    "#         ax.text(value-dx, i,     name,           size=14, weight=600, ha='right', va='bottom')\n",
    "#         ax.text(value-dx, i-.25, group_lk[name], size=10, color='#444444', ha='right', va='baseline')\n",
    "#         ax.text(value+dx, i,     f'{value:,.0f}',  size=14, ha='left',  va='center')\n",
    "#     ax.text(1, 0.4, current_day, transform=ax.transAxes, color='#777777', size=46, ha='right', weight=800)\n",
    "#     ax.text(0, 1.06, 'Population (thousands)', transform=ax.transAxes, size=12, color='#777777')\n",
    "#     ax.xaxis.set_major_formatter(ticker.StrMethodFormatter('{x:,.0f}'))\n",
    "#     ax.xaxis.set_ticks_position('top')\n",
    "#     ax.tick_params(axis='x', colors='#777777', labelsize=12)\n",
    "#     ax.set_yticks([])\n",
    "#     ax.margins(0, 0.01)\n",
    "#     ax.grid(which='major', axis='x', linestyle='-')\n",
    "#     ax.set_axisbelow(True)\n",
    "    \n",
    "#     ax.text(0, 1.15, 'Coronavirus',\n",
    "#             transform=ax.transAxes, size=24, weight=600, ha='left', va='top')\n",
    "# #     ax.text(1, 0, 'by @pratapvardhan; credit @jburnmurdoch', transform=ax.transAxes, color='#777777', ha='right',\n",
    "# #             bbox=dict(facecolor='white', alpha=0.8, edgecolor='white'))\n",
    "#     plt.box(False)"
   ]
  },
  {
   "cell_type": "code",
   "execution_count": 42,
   "id": "sexual-wages",
   "metadata": {
    "execution": {
     "iopub.execute_input": "2022-01-01T12:12:40.329473Z",
     "iopub.status.busy": "2022-01-01T12:12:40.328533Z",
     "iopub.status.idle": "2022-01-01T12:12:40.333016Z",
     "shell.execute_reply": "2022-01-01T12:12:40.332534Z"
    },
    "papermill": {
     "duration": 0.043996,
     "end_time": "2022-01-01T12:12:40.333146",
     "exception": false,
     "start_time": "2022-01-01T12:12:40.289150",
     "status": "completed"
    },
    "tags": []
   },
   "outputs": [],
   "source": [
    "# #hide_input\n",
    "# fig, ax = plt.subplots(figsize=(15, 8))\n",
    "# animator = animation.FuncAnimation(fig, draw_barchart, frames=range(g.day.values.min(), g.day.values.max()))\n",
    "# HTML(animator.to_jshtml())\n",
    "# # or use animator.to_html5_video() or animator.save() "
   ]
  },
  {
   "cell_type": "code",
   "execution_count": null,
   "id": "australian-container",
   "metadata": {
    "papermill": {
     "duration": 0.034675,
     "end_time": "2022-01-01T12:12:40.402657",
     "exception": false,
     "start_time": "2022-01-01T12:12:40.367982",
     "status": "completed"
    },
    "tags": []
   },
   "outputs": [],
   "source": []
  },
  {
   "cell_type": "code",
   "execution_count": null,
   "id": "mediterranean-pontiac",
   "metadata": {
    "papermill": {
     "duration": 0.0346,
     "end_time": "2022-01-01T12:12:40.471876",
     "exception": false,
     "start_time": "2022-01-01T12:12:40.437276",
     "status": "completed"
    },
    "tags": []
   },
   "outputs": [],
   "source": []
  },
  {
   "cell_type": "code",
   "execution_count": null,
   "id": "aging-legislature",
   "metadata": {
    "papermill": {
     "duration": 0.03346,
     "end_time": "2022-01-01T12:12:40.540144",
     "exception": false,
     "start_time": "2022-01-01T12:12:40.506684",
     "status": "completed"
    },
    "tags": []
   },
   "outputs": [],
   "source": []
  }
 ],
 "metadata": {
  "kernelspec": {
   "display_name": "Python 3",
   "language": "python",
   "name": "python3"
  },
  "language_info": {
   "codemirror_mode": {
    "name": "ipython",
    "version": 3
   },
   "file_extension": ".py",
   "mimetype": "text/x-python",
   "name": "python",
   "nbconvert_exporter": "python",
   "pygments_lexer": "ipython3",
   "version": "3.6.15"
  },
  "papermill": {
   "duration": 6.880053,
   "end_time": "2022-01-01T12:12:40.983381",
   "environment_variables": {},
   "exception": null,
   "input_path": "2020-03-21-covid19exp.ipynb",
   "output_path": "2020-03-21-covid19exp.ipynb",
   "parameters": {},
   "start_time": "2022-01-01T12:12:34.103328",
   "version": "2.0.0"
  }
 },
 "nbformat": 4,
 "nbformat_minor": 5
}