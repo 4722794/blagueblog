{
 "cells": [
  {
   "cell_type": "markdown",
   "id": "muslim-click",
   "metadata": {
    "papermill": {
     "duration": 0.042612,
     "end_time": "2021-05-04T12:07:54.196042",
     "exception": false,
     "start_time": "2021-05-04T12:07:54.153430",
     "status": "completed"
    },
    "tags": []
   },
   "source": [
    "# COVID-19 Case Race\n",
    "> A race chart to see rising cases around the world\n",
    "\n",
    "- author: Hargun Oberoi\n",
    "- image: images/covid-overview.png\n",
    "- hide: false\n",
    "- badges: false"
   ]
  },
  {
   "cell_type": "code",
   "execution_count": 1,
   "id": "proof-material",
   "metadata": {
    "execution": {
     "iopub.execute_input": "2021-05-04T12:07:54.289857Z",
     "iopub.status.busy": "2021-05-04T12:07:54.289144Z",
     "iopub.status.idle": "2021-05-04T12:07:54.662388Z",
     "shell.execute_reply": "2021-05-04T12:07:54.661820Z"
    },
    "papermill": {
     "duration": 0.426108,
     "end_time": "2021-05-04T12:07:54.662540",
     "exception": false,
     "start_time": "2021-05-04T12:07:54.236432",
     "status": "completed"
    },
    "tags": []
   },
   "outputs": [],
   "source": [
    "#hide\n",
    "import numpy as np\n",
    "import pandas as pd\n",
    "from jinja2 import Template\n",
    "from IPython.display import HTML"
   ]
  },
  {
   "cell_type": "code",
   "execution_count": 2,
   "id": "developed-terminology",
   "metadata": {
    "execution": {
     "iopub.execute_input": "2021-05-04T12:07:54.756629Z",
     "iopub.status.busy": "2021-05-04T12:07:54.755560Z",
     "iopub.status.idle": "2021-05-04T12:07:54.759101Z",
     "shell.execute_reply": "2021-05-04T12:07:54.758285Z"
    },
    "papermill": {
     "duration": 0.057625,
     "end_time": "2021-05-04T12:07:54.759251",
     "exception": false,
     "start_time": "2021-05-04T12:07:54.701626",
     "status": "completed"
    },
    "tags": []
   },
   "outputs": [],
   "source": [
    "#hide\n",
    "\n",
    "# FETCH\n",
    "base_url = 'https://raw.githubusercontent.com/pratapvardhan/notebooks/master/covid19/'\n",
    "paths = {\n",
    "    'mapping': base_url + 'mapping_countries.csv',\n",
    "    'overview': base_url + 'overview.tpl'\n",
    "}"
   ]
  },
  {
   "cell_type": "code",
   "execution_count": 3,
   "id": "dynamic-saver",
   "metadata": {
    "execution": {
     "iopub.execute_input": "2021-05-04T12:07:54.852272Z",
     "iopub.status.busy": "2021-05-04T12:07:54.850870Z",
     "iopub.status.idle": "2021-05-04T12:07:54.855909Z",
     "shell.execute_reply": "2021-05-04T12:07:54.856534Z"
    },
    "papermill": {
     "duration": 0.054609,
     "end_time": "2021-05-04T12:07:54.856695",
     "exception": false,
     "start_time": "2021-05-04T12:07:54.802086",
     "status": "completed"
    },
    "tags": []
   },
   "outputs": [
    {
     "data": {
      "text/plain": [
       "'https://raw.githubusercontent.com/pratapvardhan/notebooks/master/covid19/mapping_countries.csv'"
      ]
     },
     "execution_count": 3,
     "metadata": {},
     "output_type": "execute_result"
    }
   ],
   "source": [
    "#hide\n",
    "paths['mapping']"
   ]
  },
  {
   "cell_type": "code",
   "execution_count": 4,
   "id": "urban-software",
   "metadata": {
    "execution": {
     "iopub.execute_input": "2021-05-04T12:07:54.937624Z",
     "iopub.status.busy": "2021-05-04T12:07:54.937018Z",
     "iopub.status.idle": "2021-05-04T12:07:54.939731Z",
     "shell.execute_reply": "2021-05-04T12:07:54.938993Z"
    },
    "papermill": {
     "duration": 0.046331,
     "end_time": "2021-05-04T12:07:54.939855",
     "exception": false,
     "start_time": "2021-05-04T12:07:54.893524",
     "status": "completed"
    },
    "tags": []
   },
   "outputs": [],
   "source": [
    "#hide\n",
    "def get_mappings(url):\n",
    "    df = pd.read_csv(url)\n",
    "    return {\n",
    "        'df': df,\n",
    "        'replace.country': dict(df.dropna(subset=['Name']).set_index('Country')['Name']),\n",
    "        'map.continent': dict(df.set_index('Name')['Continent'])\n",
    "    }"
   ]
  },
  {
   "cell_type": "code",
   "execution_count": 5,
   "id": "intimate-machinery",
   "metadata": {
    "execution": {
     "iopub.execute_input": "2021-05-04T12:07:55.028548Z",
     "iopub.status.busy": "2021-05-04T12:07:55.027965Z",
     "iopub.status.idle": "2021-05-04T12:07:55.075232Z",
     "shell.execute_reply": "2021-05-04T12:07:55.074528Z"
    },
    "papermill": {
     "duration": 0.091017,
     "end_time": "2021-05-04T12:07:55.075436",
     "exception": false,
     "start_time": "2021-05-04T12:07:54.984419",
     "status": "completed"
    },
    "tags": []
   },
   "outputs": [],
   "source": [
    "#hide\n",
    "mapping = get_mappings(paths['mapping'])"
   ]
  },
  {
   "cell_type": "code",
   "execution_count": 6,
   "id": "certified-tactics",
   "metadata": {
    "execution": {
     "iopub.execute_input": "2021-05-04T12:07:55.156256Z",
     "iopub.status.busy": "2021-05-04T12:07:55.155650Z",
     "iopub.status.idle": "2021-05-04T12:07:55.156920Z",
     "shell.execute_reply": "2021-05-04T12:07:55.157404Z"
    },
    "papermill": {
     "duration": 0.045761,
     "end_time": "2021-05-04T12:07:55.157544",
     "exception": false,
     "start_time": "2021-05-04T12:07:55.111783",
     "status": "completed"
    },
    "tags": []
   },
   "outputs": [],
   "source": [
    "#hide\n",
    "def get_template(path):\n",
    "    from urllib.parse import urlparse\n",
    "    if bool(urlparse(path).netloc):\n",
    "        from urllib.request import urlopen\n",
    "        return urlopen(path).read().decode('utf8')\n",
    "    return open(path).read()"
   ]
  },
  {
   "cell_type": "code",
   "execution_count": 7,
   "id": "realistic-blast",
   "metadata": {
    "execution": {
     "iopub.execute_input": "2021-05-04T12:07:55.237293Z",
     "iopub.status.busy": "2021-05-04T12:07:55.236636Z",
     "iopub.status.idle": "2021-05-04T12:07:55.238641Z",
     "shell.execute_reply": "2021-05-04T12:07:55.239188Z"
    },
    "papermill": {
     "duration": 0.044962,
     "end_time": "2021-05-04T12:07:55.239351",
     "exception": false,
     "start_time": "2021-05-04T12:07:55.194389",
     "status": "completed"
    },
    "tags": []
   },
   "outputs": [],
   "source": [
    "#hide\n",
    "def get_frame(name):\n",
    "    url = (\n",
    "        'https://raw.githubusercontent.com/CSSEGISandData/COVID-19/master/csse_covid_19_data/'\n",
    "        f'csse_covid_19_time_series/time_series_covid19_{name}_global.csv')\n",
    "    df = pd.read_csv(url)\n",
    "    # rename countries\n",
    "    df['Country/Region'] = df['Country/Region'].replace(mapping['replace.country'])\n",
    "    return df"
   ]
  },
  {
   "cell_type": "code",
   "execution_count": 8,
   "id": "affiliated-characterization",
   "metadata": {
    "execution": {
     "iopub.execute_input": "2021-05-04T12:07:55.343253Z",
     "iopub.status.busy": "2021-05-04T12:07:55.342603Z",
     "iopub.status.idle": "2021-05-04T12:07:55.345358Z",
     "shell.execute_reply": "2021-05-04T12:07:55.344818Z"
    },
    "papermill": {
     "duration": 0.059295,
     "end_time": "2021-05-04T12:07:55.345535",
     "exception": false,
     "start_time": "2021-05-04T12:07:55.286240",
     "status": "completed"
    },
    "tags": []
   },
   "outputs": [],
   "source": [
    "#hide\n",
    "def get_dates(df):\n",
    "    dt_cols = df.columns[~df.columns.isin(['Province/State', 'Country/Region', 'Lat', 'Long'])]\n",
    "    LAST_DATE_I = -1\n",
    "    # sometimes last column may be empty, then go backwards\n",
    "    for i in range(-1, -len(dt_cols), -1):\n",
    "        if not df[dt_cols[i]].fillna(0).eq(0).all():\n",
    "            LAST_DATE_I = i\n",
    "            break\n",
    "    return LAST_DATE_I, dt_cols"
   ]
  },
  {
   "cell_type": "code",
   "execution_count": 9,
   "id": "recent-optimization",
   "metadata": {
    "execution": {
     "iopub.execute_input": "2021-05-04T12:07:55.425997Z",
     "iopub.status.busy": "2021-05-04T12:07:55.425365Z",
     "iopub.status.idle": "2021-05-04T12:07:55.798639Z",
     "shell.execute_reply": "2021-05-04T12:07:55.797520Z"
    },
    "papermill": {
     "duration": 0.41628,
     "end_time": "2021-05-04T12:07:55.798801",
     "exception": false,
     "start_time": "2021-05-04T12:07:55.382521",
     "status": "completed"
    },
    "tags": []
   },
   "outputs": [],
   "source": [
    "#hide\n",
    "COL_REGION = 'Country/Region'\n",
    "# Confirmed, Recovered, Deaths\n",
    "df = get_frame('confirmed')\n",
    "# dft_: timeseries, dfc_: today country agg\n",
    "dft_cases = df\n",
    "dft_deaths = get_frame('deaths')\n",
    "dft_recovered = get_frame('recovered')\n",
    "LAST_DATE_I, dt_cols = get_dates(df)"
   ]
  },
  {
   "cell_type": "code",
   "execution_count": 10,
   "id": "absolute-copper",
   "metadata": {
    "execution": {
     "iopub.execute_input": "2021-05-04T12:07:55.889009Z",
     "iopub.status.busy": "2021-05-04T12:07:55.888359Z",
     "iopub.status.idle": "2021-05-04T12:07:55.890870Z",
     "shell.execute_reply": "2021-05-04T12:07:55.890319Z"
    },
    "papermill": {
     "duration": 0.047802,
     "end_time": "2021-05-04T12:07:55.890996",
     "exception": false,
     "start_time": "2021-05-04T12:07:55.843194",
     "status": "completed"
    },
    "tags": []
   },
   "outputs": [],
   "source": [
    "#hide\n",
    "LAST_DATE_I, dt_cols = get_dates(df)\n",
    "dt_today =dt_cols[LAST_DATE_I]\n",
    "# dt_5day = dt_cols[LAST_DATE_I - 5]\n",
    "dt_yday = dt_cols[LAST_DATE_I - 1]"
   ]
  },
  {
   "cell_type": "code",
   "execution_count": 11,
   "id": "restricted-sheriff",
   "metadata": {
    "execution": {
     "iopub.execute_input": "2021-05-04T12:07:55.978353Z",
     "iopub.status.busy": "2021-05-04T12:07:55.977629Z",
     "iopub.status.idle": "2021-05-04T12:07:55.985758Z",
     "shell.execute_reply": "2021-05-04T12:07:55.985213Z"
    },
    "papermill": {
     "duration": 0.055935,
     "end_time": "2021-05-04T12:07:55.985892",
     "exception": false,
     "start_time": "2021-05-04T12:07:55.929957",
     "status": "completed"
    },
    "tags": []
   },
   "outputs": [],
   "source": [
    "#hide\n",
    "dfc_cases = dft_cases.groupby(COL_REGION)[dt_today].sum()\n",
    "dfc_deaths = dft_deaths.groupby(COL_REGION)[dt_today].sum()\n",
    "# dfp_cases = dft_cases.groupby(COL_REGION)[dt_5day].sum()\n",
    "# dfp_deaths = dft_deaths.groupby(COL_REGION)[dt_5day].sum()\n",
    "dfp_cases = dft_cases.groupby(COL_REGION)[dt_yday].sum()\n",
    "dfp_deaths = dft_deaths.groupby(COL_REGION)[dt_yday].sum()"
   ]
  },
  {
   "cell_type": "code",
   "execution_count": 12,
   "id": "deluxe-hepatitis",
   "metadata": {
    "execution": {
     "iopub.execute_input": "2021-05-04T12:07:56.071658Z",
     "iopub.status.busy": "2021-05-04T12:07:56.071007Z",
     "iopub.status.idle": "2021-05-04T12:07:56.076194Z",
     "shell.execute_reply": "2021-05-04T12:07:56.075694Z"
    },
    "papermill": {
     "duration": 0.05129,
     "end_time": "2021-05-04T12:07:56.076326",
     "exception": false,
     "start_time": "2021-05-04T12:07:56.025036",
     "status": "completed"
    },
    "tags": []
   },
   "outputs": [],
   "source": [
    "#hide\n",
    "df_table = (pd.DataFrame(dict(Cases = dfc_cases, Deaths = dfc_deaths, PCases = dfp_cases, PDeaths = dfp_deaths))\n",
    "            .sort_values(by = ['Cases','Deaths'], ascending = [False, False])\n",
    "            .reset_index())"
   ]
  },
  {
   "cell_type": "code",
   "execution_count": 13,
   "id": "educational-chancellor",
   "metadata": {
    "execution": {
     "iopub.execute_input": "2021-05-04T12:07:56.179767Z",
     "iopub.status.busy": "2021-05-04T12:07:56.174104Z",
     "iopub.status.idle": "2021-05-04T12:07:56.182786Z",
     "shell.execute_reply": "2021-05-04T12:07:56.183456Z"
    },
    "papermill": {
     "duration": 0.069462,
     "end_time": "2021-05-04T12:07:56.183634",
     "exception": false,
     "start_time": "2021-05-04T12:07:56.114172",
     "status": "completed"
    },
    "tags": []
   },
   "outputs": [
    {
     "data": {
      "text/html": [
       "<div>\n",
       "<style scoped>\n",
       "    .dataframe tbody tr th:only-of-type {\n",
       "        vertical-align: middle;\n",
       "    }\n",
       "\n",
       "    .dataframe tbody tr th {\n",
       "        vertical-align: top;\n",
       "    }\n",
       "\n",
       "    .dataframe thead th {\n",
       "        text-align: right;\n",
       "    }\n",
       "</style>\n",
       "<table border=\"1\" class=\"dataframe\">\n",
       "  <thead>\n",
       "    <tr style=\"text-align: right;\">\n",
       "      <th></th>\n",
       "      <th>Country/Region</th>\n",
       "      <th>Cases</th>\n",
       "      <th>Deaths</th>\n",
       "      <th>PCases</th>\n",
       "      <th>PDeaths</th>\n",
       "      <th>Cases (+)</th>\n",
       "      <th>Deaths (+)</th>\n",
       "      <th>Fatality Rate</th>\n",
       "      <th>Continent</th>\n",
       "    </tr>\n",
       "  </thead>\n",
       "  <tbody>\n",
       "    <tr>\n",
       "      <th>0</th>\n",
       "      <td>US</td>\n",
       "      <td>32471562</td>\n",
       "      <td>577522</td>\n",
       "      <td>32421641</td>\n",
       "      <td>577045</td>\n",
       "      <td>49921</td>\n",
       "      <td>477</td>\n",
       "      <td>1.78</td>\n",
       "      <td>North America</td>\n",
       "    </tr>\n",
       "    <tr>\n",
       "      <th>1</th>\n",
       "      <td>India</td>\n",
       "      <td>20282833</td>\n",
       "      <td>222408</td>\n",
       "      <td>19925517</td>\n",
       "      <td>218959</td>\n",
       "      <td>357316</td>\n",
       "      <td>3449</td>\n",
       "      <td>1.10</td>\n",
       "      <td>Asia</td>\n",
       "    </tr>\n",
       "    <tr>\n",
       "      <th>2</th>\n",
       "      <td>Brazil</td>\n",
       "      <td>14779529</td>\n",
       "      <td>408622</td>\n",
       "      <td>14754910</td>\n",
       "      <td>407639</td>\n",
       "      <td>24619</td>\n",
       "      <td>983</td>\n",
       "      <td>2.76</td>\n",
       "      <td>South America</td>\n",
       "    </tr>\n",
       "    <tr>\n",
       "      <th>3</th>\n",
       "      <td>France</td>\n",
       "      <td>5717160</td>\n",
       "      <td>105291</td>\n",
       "      <td>5713393</td>\n",
       "      <td>104980</td>\n",
       "      <td>3767</td>\n",
       "      <td>311</td>\n",
       "      <td>1.84</td>\n",
       "      <td>Europe</td>\n",
       "    </tr>\n",
       "    <tr>\n",
       "      <th>4</th>\n",
       "      <td>Turkey</td>\n",
       "      <td>4900121</td>\n",
       "      <td>41191</td>\n",
       "      <td>4875388</td>\n",
       "      <td>40844</td>\n",
       "      <td>24733</td>\n",
       "      <td>347</td>\n",
       "      <td>0.84</td>\n",
       "      <td>Asia</td>\n",
       "    </tr>\n",
       "  </tbody>\n",
       "</table>\n",
       "</div>"
      ],
      "text/plain": [
       "  Country/Region     Cases  Deaths    PCases  PDeaths  Cases (+)  Deaths (+)  \\\n",
       "0             US  32471562  577522  32421641   577045      49921         477   \n",
       "1          India  20282833  222408  19925517   218959     357316        3449   \n",
       "2         Brazil  14779529  408622  14754910   407639      24619         983   \n",
       "3         France   5717160  105291   5713393   104980       3767         311   \n",
       "4         Turkey   4900121   41191   4875388    40844      24733         347   \n",
       "\n",
       "   Fatality Rate      Continent  \n",
       "0           1.78  North America  \n",
       "1           1.10           Asia  \n",
       "2           2.76  South America  \n",
       "3           1.84         Europe  \n",
       "4           0.84           Asia  "
      ]
     },
     "execution_count": 13,
     "metadata": {},
     "output_type": "execute_result"
    }
   ],
   "source": [
    "#hide\n",
    "for c in 'Cases, Deaths'.split(', '):\n",
    "    df_table[f'{c} (+)'] = (df_table[c] - df_table[f'P{c}']).clip(0)\n",
    "    #Clip ça veut dire, les chiffres negatif sont interdit\n",
    "df_table['Fatality Rate'] = (100* df_table['Deaths']/ df_table['Cases']).round(2)\n",
    "df_table['Continent'] = df_table['Country/Region'].map(mapping['map.continent'])\n",
    "df_table.head(5)"
   ]
  },
  {
   "cell_type": "code",
   "execution_count": 14,
   "id": "aboriginal-bulgaria",
   "metadata": {
    "execution": {
     "iopub.execute_input": "2021-05-04T12:07:56.267953Z",
     "iopub.status.busy": "2021-05-04T12:07:56.267278Z",
     "iopub.status.idle": "2021-05-04T12:07:56.269297Z",
     "shell.execute_reply": "2021-05-04T12:07:56.269867Z"
    },
    "papermill": {
     "duration": 0.047982,
     "end_time": "2021-05-04T12:07:56.270016",
     "exception": false,
     "start_time": "2021-05-04T12:07:56.222034",
     "status": "completed"
    },
    "tags": []
   },
   "outputs": [],
   "source": [
    "#hide\n",
    "#delete problematic countries from table\n",
    "df_table = df_table[~df_table['Country/Region'].isin(['Cape Verde', 'Cruise Ship', 'Kosovo'])]"
   ]
  },
  {
   "cell_type": "code",
   "execution_count": 15,
   "id": "fantastic-effect",
   "metadata": {
    "execution": {
     "iopub.execute_input": "2021-05-04T12:07:56.366173Z",
     "iopub.status.busy": "2021-05-04T12:07:56.365610Z",
     "iopub.status.idle": "2021-05-04T12:07:56.388259Z",
     "shell.execute_reply": "2021-05-04T12:07:56.387565Z"
    },
    "papermill": {
     "duration": 0.081885,
     "end_time": "2021-05-04T12:07:56.388402",
     "exception": false,
     "start_time": "2021-05-04T12:07:56.306517",
     "status": "completed"
    },
    "tags": []
   },
   "outputs": [
    {
     "data": {
      "text/html": [
       "<div>\n",
       "<style scoped>\n",
       "    .dataframe tbody tr th:only-of-type {\n",
       "        vertical-align: middle;\n",
       "    }\n",
       "\n",
       "    .dataframe tbody tr th {\n",
       "        vertical-align: top;\n",
       "    }\n",
       "\n",
       "    .dataframe thead th {\n",
       "        text-align: right;\n",
       "    }\n",
       "</style>\n",
       "<table border=\"1\" class=\"dataframe\">\n",
       "  <thead>\n",
       "    <tr style=\"text-align: right;\">\n",
       "      <th></th>\n",
       "      <th>Country/Region</th>\n",
       "      <th>Cases</th>\n",
       "      <th>Deaths</th>\n",
       "      <th>PCases</th>\n",
       "      <th>PDeaths</th>\n",
       "      <th>Cases (+)</th>\n",
       "      <th>Deaths (+)</th>\n",
       "      <th>Fatality Rate</th>\n",
       "      <th>Continent</th>\n",
       "    </tr>\n",
       "  </thead>\n",
       "  <tbody>\n",
       "    <tr>\n",
       "      <th>0</th>\n",
       "      <td>US</td>\n",
       "      <td>32471562</td>\n",
       "      <td>577522</td>\n",
       "      <td>32421641</td>\n",
       "      <td>577045</td>\n",
       "      <td>49921</td>\n",
       "      <td>477</td>\n",
       "      <td>1.8</td>\n",
       "      <td>North America</td>\n",
       "    </tr>\n",
       "    <tr>\n",
       "      <th>1</th>\n",
       "      <td>India</td>\n",
       "      <td>20282833</td>\n",
       "      <td>222408</td>\n",
       "      <td>19925517</td>\n",
       "      <td>218959</td>\n",
       "      <td>357316</td>\n",
       "      <td>3449</td>\n",
       "      <td>1.1</td>\n",
       "      <td>Asia</td>\n",
       "    </tr>\n",
       "    <tr>\n",
       "      <th>2</th>\n",
       "      <td>Brazil</td>\n",
       "      <td>14779529</td>\n",
       "      <td>408622</td>\n",
       "      <td>14754910</td>\n",
       "      <td>407639</td>\n",
       "      <td>24619</td>\n",
       "      <td>983</td>\n",
       "      <td>2.8</td>\n",
       "      <td>South America</td>\n",
       "    </tr>\n",
       "    <tr>\n",
       "      <th>3</th>\n",
       "      <td>France</td>\n",
       "      <td>5717160</td>\n",
       "      <td>105291</td>\n",
       "      <td>5713393</td>\n",
       "      <td>104980</td>\n",
       "      <td>3767</td>\n",
       "      <td>311</td>\n",
       "      <td>1.8</td>\n",
       "      <td>Europe</td>\n",
       "    </tr>\n",
       "    <tr>\n",
       "      <th>4</th>\n",
       "      <td>Turkey</td>\n",
       "      <td>4900121</td>\n",
       "      <td>41191</td>\n",
       "      <td>4875388</td>\n",
       "      <td>40844</td>\n",
       "      <td>24733</td>\n",
       "      <td>347</td>\n",
       "      <td>0.8</td>\n",
       "      <td>Asia</td>\n",
       "    </tr>\n",
       "  </tbody>\n",
       "</table>\n",
       "</div>"
      ],
      "text/plain": [
       "  Country/Region     Cases  Deaths    PCases  PDeaths  Cases (+)  Deaths (+)  \\\n",
       "0             US  32471562  577522  32421641   577045      49921         477   \n",
       "1          India  20282833  222408  19925517   218959     357316        3449   \n",
       "2         Brazil  14779529  408622  14754910   407639      24619         983   \n",
       "3         France   5717160  105291   5713393   104980       3767         311   \n",
       "4         Turkey   4900121   41191   4875388    40844      24733         347   \n",
       "\n",
       "   Fatality Rate      Continent  \n",
       "0            1.8  North America  \n",
       "1            1.1           Asia  \n",
       "2            2.8  South America  \n",
       "3            1.8         Europe  \n",
       "4            0.8           Asia  "
      ]
     },
     "execution_count": 15,
     "metadata": {},
     "output_type": "execute_result"
    }
   ],
   "source": [
    "#hide\n",
    "df_table = (pd.DataFrame(dict(Cases=dfc_cases, Deaths=dfc_deaths, PCases=dfp_cases, PDeaths=dfp_deaths))\n",
    "             .sort_values(by=['Cases', 'Deaths'], ascending=[False, False])\n",
    "             .reset_index())\n",
    "df_table.rename(columns={'index': 'Country/Region'}, inplace=True)\n",
    "for c in 'Cases, Deaths'.split(', '):\n",
    "    df_table[f'{c} (+)'] = (df_table[c] - df_table[f'P{c}']).clip(0)  # DATA BUG\n",
    "df_table['Fatality Rate'] = (100 * df_table['Deaths'] / df_table['Cases']).round(1)\n",
    "df_table['Continent'] = df_table['Country/Region'].map(mapping['map.continent'])\n",
    "df_table.head(5)"
   ]
  },
  {
   "cell_type": "code",
   "execution_count": 16,
   "id": "fewer-occasion",
   "metadata": {
    "execution": {
     "iopub.execute_input": "2021-05-04T12:07:56.474623Z",
     "iopub.status.busy": "2021-05-04T12:07:56.473984Z",
     "iopub.status.idle": "2021-05-04T12:07:56.475883Z",
     "shell.execute_reply": "2021-05-04T12:07:56.476501Z"
    },
    "papermill": {
     "duration": 0.048102,
     "end_time": "2021-05-04T12:07:56.476648",
     "exception": false,
     "start_time": "2021-05-04T12:07:56.428546",
     "status": "completed"
    },
    "tags": []
   },
   "outputs": [],
   "source": [
    "#hide\n",
    "#delete problematic countries from table\n",
    "df_table = df_table[~df_table['Country/Region'].isin(['Cape Verde', 'Cruise Ship', 'Kosovo'])]"
   ]
  },
  {
   "cell_type": "code",
   "execution_count": 17,
   "id": "related-center",
   "metadata": {
    "execution": {
     "iopub.execute_input": "2021-05-04T12:07:56.564896Z",
     "iopub.status.busy": "2021-05-04T12:07:56.564262Z",
     "iopub.status.idle": "2021-05-04T12:07:56.582525Z",
     "shell.execute_reply": "2021-05-04T12:07:56.581877Z"
    },
    "papermill": {
     "duration": 0.067232,
     "end_time": "2021-05-04T12:07:56.582684",
     "exception": false,
     "start_time": "2021-05-04T12:07:56.515452",
     "status": "completed"
    },
    "tags": []
   },
   "outputs": [],
   "source": [
    "#hide\n",
    "metrics = [df_table.columns[index] for index in [1,2,5,6]]\n",
    "# s_china = df_table[df_table['Country/Region'].eq('China')][metrics].sum().add_prefix('China ')\n",
    "s_us = df_table[df_table['Country/Region'].eq('US')][metrics].sum().add_prefix('US ')\n",
    "s_eu = df_table[df_table['Continent'].eq('Europe')][metrics].sum().add_prefix('EU ')\n",
    "s_ind = df_table[df_table['Country/Region'].eq('India')][metrics].sum().add_prefix('India ')\n",
    "summary = {'updated': pd.to_datetime(dt_today), 'since': pd.to_datetime(dt_yday)}\n",
    "summary = {'updated': pd.to_datetime(dt_today), 'since': pd.to_datetime(dt_yday)}\n",
    "summary = {**summary, **df_table[metrics].sum(), **s_ind, **s_us, **s_eu}"
   ]
  },
  {
   "cell_type": "code",
   "execution_count": 18,
   "id": "engaging-syndrome",
   "metadata": {
    "execution": {
     "iopub.execute_input": "2021-05-04T12:07:56.668052Z",
     "iopub.status.busy": "2021-05-04T12:07:56.667290Z",
     "iopub.status.idle": "2021-05-04T12:07:56.681422Z",
     "shell.execute_reply": "2021-05-04T12:07:56.680876Z"
    },
    "papermill": {
     "duration": 0.058775,
     "end_time": "2021-05-04T12:07:56.681555",
     "exception": false,
     "start_time": "2021-05-04T12:07:56.622780",
     "status": "completed"
    },
    "tags": []
   },
   "outputs": [],
   "source": [
    "#hide\n",
    "dft_ct_new_cases = dft_cases.groupby(COL_REGION)[dt_cols].sum().diff(axis=1).fillna(0).astype(int)"
   ]
  },
  {
   "cell_type": "code",
   "execution_count": 19,
   "id": "neutral-assignment",
   "metadata": {
    "execution": {
     "iopub.execute_input": "2021-05-04T12:07:56.766102Z",
     "iopub.status.busy": "2021-05-04T12:07:56.765474Z",
     "iopub.status.idle": "2021-05-04T12:07:56.767226Z",
     "shell.execute_reply": "2021-05-04T12:07:56.767833Z"
    },
    "papermill": {
     "duration": 0.04812,
     "end_time": "2021-05-04T12:07:56.767972",
     "exception": false,
     "start_time": "2021-05-04T12:07:56.719852",
     "status": "completed"
    },
    "tags": []
   },
   "outputs": [],
   "source": [
    "#hide\n",
    "everydaycases = dft_ct_new_cases.cumsum(axis=1)"
   ]
  },
  {
   "cell_type": "code",
   "execution_count": 20,
   "id": "parliamentary-calgary",
   "metadata": {
    "execution": {
     "iopub.execute_input": "2021-05-04T12:07:56.861938Z",
     "iopub.status.busy": "2021-05-04T12:07:56.851743Z",
     "iopub.status.idle": "2021-05-04T12:07:57.456635Z",
     "shell.execute_reply": "2021-05-04T12:07:57.456039Z"
    },
    "papermill": {
     "duration": 0.65012,
     "end_time": "2021-05-04T12:07:57.456806",
     "exception": false,
     "start_time": "2021-05-04T12:07:56.806686",
     "status": "completed"
    },
    "tags": []
   },
   "outputs": [],
   "source": [
    "#hide\n",
    "import pandas as pd\n",
    "import matplotlib.pyplot as plt\n",
    "import matplotlib.ticker as ticker\n",
    "import matplotlib.animation as animation\n",
    "from IPython.display import HTML"
   ]
  },
  {
   "cell_type": "code",
   "execution_count": 21,
   "id": "lasting-extraction",
   "metadata": {
    "execution": {
     "iopub.execute_input": "2021-05-04T12:07:57.543132Z",
     "iopub.status.busy": "2021-05-04T12:07:57.542434Z",
     "iopub.status.idle": "2021-05-04T12:07:57.548359Z",
     "shell.execute_reply": "2021-05-04T12:07:57.548883Z"
    },
    "papermill": {
     "duration": 0.052094,
     "end_time": "2021-05-04T12:07:57.549030",
     "exception": false,
     "start_time": "2021-05-04T12:07:57.496936",
     "status": "completed"
    },
    "tags": []
   },
   "outputs": [],
   "source": [
    "#hide\n",
    "t = everydaycases.stack()"
   ]
  },
  {
   "cell_type": "code",
   "execution_count": 22,
   "id": "premier-sleeve",
   "metadata": {
    "execution": {
     "iopub.execute_input": "2021-05-04T12:07:57.634992Z",
     "iopub.status.busy": "2021-05-04T12:07:57.634208Z",
     "iopub.status.idle": "2021-05-04T12:07:57.642582Z",
     "shell.execute_reply": "2021-05-04T12:07:57.643201Z"
    },
    "papermill": {
     "duration": 0.053776,
     "end_time": "2021-05-04T12:07:57.643356",
     "exception": false,
     "start_time": "2021-05-04T12:07:57.589580",
     "status": "completed"
    },
    "tags": []
   },
   "outputs": [],
   "source": [
    "#hide\n",
    "g = t.reset_index(['Country/Region'])"
   ]
  },
  {
   "cell_type": "code",
   "execution_count": 23,
   "id": "distributed-pittsburgh",
   "metadata": {
    "execution": {
     "iopub.execute_input": "2021-05-04T12:07:57.732941Z",
     "iopub.status.busy": "2021-05-04T12:07:57.732145Z",
     "iopub.status.idle": "2021-05-04T12:07:57.733977Z",
     "shell.execute_reply": "2021-05-04T12:07:57.734561Z"
    },
    "papermill": {
     "duration": 0.048941,
     "end_time": "2021-05-04T12:07:57.734744",
     "exception": false,
     "start_time": "2021-05-04T12:07:57.685803",
     "status": "completed"
    },
    "tags": []
   },
   "outputs": [],
   "source": [
    "#hide\n",
    "g.index.name = 'date'"
   ]
  },
  {
   "cell_type": "code",
   "execution_count": 24,
   "id": "naked-donor",
   "metadata": {
    "execution": {
     "iopub.execute_input": "2021-05-04T12:07:57.825139Z",
     "iopub.status.busy": "2021-05-04T12:07:57.824181Z",
     "iopub.status.idle": "2021-05-04T12:07:57.826297Z",
     "shell.execute_reply": "2021-05-04T12:07:57.827154Z"
    },
    "papermill": {
     "duration": 0.049864,
     "end_time": "2021-05-04T12:07:57.827433",
     "exception": false,
     "start_time": "2021-05-04T12:07:57.777569",
     "status": "completed"
    },
    "tags": []
   },
   "outputs": [],
   "source": [
    "# #hide\n",
    "# g = g.reset_index(['date'])"
   ]
  },
  {
   "cell_type": "code",
   "execution_count": 25,
   "id": "incomplete-mustang",
   "metadata": {
    "execution": {
     "iopub.execute_input": "2021-05-04T12:07:57.915073Z",
     "iopub.status.busy": "2021-05-04T12:07:57.913719Z",
     "iopub.status.idle": "2021-05-04T12:07:57.915785Z",
     "shell.execute_reply": "2021-05-04T12:07:57.916251Z"
    },
    "papermill": {
     "duration": 0.045945,
     "end_time": "2021-05-04T12:07:57.916382",
     "exception": false,
     "start_time": "2021-05-04T12:07:57.870437",
     "status": "completed"
    },
    "tags": []
   },
   "outputs": [],
   "source": [
    "#hide\n",
    "# g.head()"
   ]
  },
  {
   "cell_type": "code",
   "execution_count": 26,
   "id": "specific-kruger",
   "metadata": {
    "execution": {
     "iopub.execute_input": "2021-05-04T12:07:57.998043Z",
     "iopub.status.busy": "2021-05-04T12:07:57.997310Z",
     "iopub.status.idle": "2021-05-04T12:07:58.001224Z",
     "shell.execute_reply": "2021-05-04T12:07:58.001731Z"
    },
    "papermill": {
     "duration": 0.045853,
     "end_time": "2021-05-04T12:07:58.001873",
     "exception": false,
     "start_time": "2021-05-04T12:07:57.956020",
     "status": "completed"
    },
    "tags": []
   },
   "outputs": [],
   "source": [
    "#hide\n",
    "# g.columns = ['date','country','cases']"
   ]
  },
  {
   "cell_type": "code",
   "execution_count": 27,
   "id": "tender-conversion",
   "metadata": {
    "execution": {
     "iopub.execute_input": "2021-05-04T12:07:58.089745Z",
     "iopub.status.busy": "2021-05-04T12:07:58.088145Z",
     "iopub.status.idle": "2021-05-04T12:07:58.090569Z",
     "shell.execute_reply": "2021-05-04T12:07:58.091220Z"
    },
    "papermill": {
     "duration": 0.046939,
     "end_time": "2021-05-04T12:07:58.091467",
     "exception": false,
     "start_time": "2021-05-04T12:07:58.044528",
     "status": "completed"
    },
    "tags": []
   },
   "outputs": [],
   "source": [
    "#hide\n",
    "# g['continent'] = g.country"
   ]
  },
  {
   "cell_type": "code",
   "execution_count": 28,
   "id": "substantial-wilderness",
   "metadata": {
    "execution": {
     "iopub.execute_input": "2021-05-04T12:07:58.192466Z",
     "iopub.status.busy": "2021-05-04T12:07:58.191755Z",
     "iopub.status.idle": "2021-05-04T12:07:58.195053Z",
     "shell.execute_reply": "2021-05-04T12:07:58.195614Z"
    },
    "papermill": {
     "duration": 0.063275,
     "end_time": "2021-05-04T12:07:58.195793",
     "exception": false,
     "start_time": "2021-05-04T12:07:58.132518",
     "status": "completed"
    },
    "tags": []
   },
   "outputs": [],
   "source": [
    "#hide\n",
    "# cols = list(g.columns.values)"
   ]
  },
  {
   "cell_type": "code",
   "execution_count": 29,
   "id": "solved-farming",
   "metadata": {
    "execution": {
     "iopub.execute_input": "2021-05-04T12:07:58.284666Z",
     "iopub.status.busy": "2021-05-04T12:07:58.283967Z",
     "iopub.status.idle": "2021-05-04T12:07:58.286743Z",
     "shell.execute_reply": "2021-05-04T12:07:58.286017Z"
    },
    "papermill": {
     "duration": 0.048896,
     "end_time": "2021-05-04T12:07:58.286872",
     "exception": false,
     "start_time": "2021-05-04T12:07:58.237976",
     "status": "completed"
    },
    "tags": []
   },
   "outputs": [],
   "source": [
    "#hide\n",
    "# cols.insert(0, cols.pop())"
   ]
  },
  {
   "cell_type": "code",
   "execution_count": 30,
   "id": "executed-adoption",
   "metadata": {
    "execution": {
     "iopub.execute_input": "2021-05-04T12:07:58.375680Z",
     "iopub.status.busy": "2021-05-04T12:07:58.374950Z",
     "iopub.status.idle": "2021-05-04T12:07:58.378386Z",
     "shell.execute_reply": "2021-05-04T12:07:58.379026Z"
    },
    "papermill": {
     "duration": 0.05006,
     "end_time": "2021-05-04T12:07:58.379171",
     "exception": false,
     "start_time": "2021-05-04T12:07:58.329111",
     "status": "completed"
    },
    "tags": []
   },
   "outputs": [],
   "source": [
    "#hide\n",
    "# g = g[cols]"
   ]
  },
  {
   "cell_type": "code",
   "execution_count": 31,
   "id": "subject-dublin",
   "metadata": {
    "execution": {
     "iopub.execute_input": "2021-05-04T12:07:58.470974Z",
     "iopub.status.busy": "2021-05-04T12:07:58.470357Z",
     "iopub.status.idle": "2021-05-04T12:07:58.473065Z",
     "shell.execute_reply": "2021-05-04T12:07:58.472348Z"
    },
    "papermill": {
     "duration": 0.047993,
     "end_time": "2021-05-04T12:07:58.473350",
     "exception": false,
     "start_time": "2021-05-04T12:07:58.425357",
     "status": "completed"
    },
    "tags": []
   },
   "outputs": [],
   "source": [
    "#hide\n",
    "# g['continent'] = g['continent'].map(mapping['map.continent'])"
   ]
  },
  {
   "cell_type": "code",
   "execution_count": 32,
   "id": "freelance-scout",
   "metadata": {
    "execution": {
     "iopub.execute_input": "2021-05-04T12:07:58.565752Z",
     "iopub.status.busy": "2021-05-04T12:07:58.564854Z",
     "iopub.status.idle": "2021-05-04T12:07:58.567621Z",
     "shell.execute_reply": "2021-05-04T12:07:58.567022Z"
    },
    "papermill": {
     "duration": 0.054156,
     "end_time": "2021-05-04T12:07:58.567787",
     "exception": false,
     "start_time": "2021-05-04T12:07:58.513631",
     "status": "completed"
    },
    "tags": []
   },
   "outputs": [],
   "source": [
    "#hide\n",
    "# g.head()"
   ]
  },
  {
   "cell_type": "code",
   "execution_count": 33,
   "id": "limited-engine",
   "metadata": {
    "execution": {
     "iopub.execute_input": "2021-05-04T12:07:58.653039Z",
     "iopub.status.busy": "2021-05-04T12:07:58.652323Z",
     "iopub.status.idle": "2021-05-04T12:07:58.654371Z",
     "shell.execute_reply": "2021-05-04T12:07:58.654904Z"
    },
    "papermill": {
     "duration": 0.048437,
     "end_time": "2021-05-04T12:07:58.656333",
     "exception": false,
     "start_time": "2021-05-04T12:07:58.607896",
     "status": "completed"
    },
    "tags": []
   },
   "outputs": [],
   "source": [
    "# hide\n",
    "# g['date'] = g['date'].astype('datetime64[ns]')"
   ]
  },
  {
   "cell_type": "code",
   "execution_count": 34,
   "id": "sophisticated-supervisor",
   "metadata": {
    "execution": {
     "iopub.execute_input": "2021-05-04T12:07:58.748595Z",
     "iopub.status.busy": "2021-05-04T12:07:58.747966Z",
     "iopub.status.idle": "2021-05-04T12:07:58.750269Z",
     "shell.execute_reply": "2021-05-04T12:07:58.749666Z"
    },
    "papermill": {
     "duration": 0.051376,
     "end_time": "2021-05-04T12:07:58.750393",
     "exception": false,
     "start_time": "2021-05-04T12:07:58.699017",
     "status": "completed"
    },
    "tags": []
   },
   "outputs": [],
   "source": [
    "#hide\n",
    "# g['date'] = g.date.dt.dayofyear"
   ]
  },
  {
   "cell_type": "code",
   "execution_count": 35,
   "id": "inside-dubai",
   "metadata": {
    "execution": {
     "iopub.execute_input": "2021-05-04T12:07:58.835442Z",
     "iopub.status.busy": "2021-05-04T12:07:58.834737Z",
     "iopub.status.idle": "2021-05-04T12:07:58.836949Z",
     "shell.execute_reply": "2021-05-04T12:07:58.837506Z"
    },
    "papermill": {
     "duration": 0.045505,
     "end_time": "2021-05-04T12:07:58.837708",
     "exception": false,
     "start_time": "2021-05-04T12:07:58.792203",
     "status": "completed"
    },
    "tags": []
   },
   "outputs": [],
   "source": [
    "#hide\n",
    "# g = g.rename(columns= {'continent':'group','country':'name','cases':'value'})"
   ]
  },
  {
   "cell_type": "code",
   "execution_count": 36,
   "id": "fleet-motorcycle",
   "metadata": {
    "execution": {
     "iopub.execute_input": "2021-05-04T12:07:58.924354Z",
     "iopub.status.busy": "2021-05-04T12:07:58.923709Z",
     "iopub.status.idle": "2021-05-04T12:07:58.925145Z",
     "shell.execute_reply": "2021-05-04T12:07:58.925688Z"
    },
    "papermill": {
     "duration": 0.046233,
     "end_time": "2021-05-04T12:07:58.925812",
     "exception": false,
     "start_time": "2021-05-04T12:07:58.879579",
     "status": "completed"
    },
    "tags": []
   },
   "outputs": [],
   "source": [
    "#hide\n",
    "# cols = ['name','group','day','value']"
   ]
  },
  {
   "cell_type": "code",
   "execution_count": 37,
   "id": "continued-sleeping",
   "metadata": {
    "execution": {
     "iopub.execute_input": "2021-05-04T12:07:59.009561Z",
     "iopub.status.busy": "2021-05-04T12:07:59.008758Z",
     "iopub.status.idle": "2021-05-04T12:07:59.011237Z",
     "shell.execute_reply": "2021-05-04T12:07:59.010596Z"
    },
    "papermill": {
     "duration": 0.04553,
     "end_time": "2021-05-04T12:07:59.011402",
     "exception": false,
     "start_time": "2021-05-04T12:07:58.965872",
     "status": "completed"
    },
    "tags": []
   },
   "outputs": [],
   "source": [
    "#hide\n",
    "# g.rename(columns= {'date':'day'},inplace = True)"
   ]
  },
  {
   "cell_type": "code",
   "execution_count": 38,
   "id": "major-fight",
   "metadata": {
    "execution": {
     "iopub.execute_input": "2021-05-04T12:07:59.097602Z",
     "iopub.status.busy": "2021-05-04T12:07:59.096960Z",
     "iopub.status.idle": "2021-05-04T12:07:59.098854Z",
     "shell.execute_reply": "2021-05-04T12:07:59.099467Z"
    },
    "papermill": {
     "duration": 0.04712,
     "end_time": "2021-05-04T12:07:59.099619",
     "exception": false,
     "start_time": "2021-05-04T12:07:59.052499",
     "status": "completed"
    },
    "tags": []
   },
   "outputs": [],
   "source": [
    "#hide\n",
    "# g = g[cols]"
   ]
  },
  {
   "cell_type": "code",
   "execution_count": 39,
   "id": "structured-mobile",
   "metadata": {
    "execution": {
     "iopub.execute_input": "2021-05-04T12:07:59.187522Z",
     "iopub.status.busy": "2021-05-04T12:07:59.186841Z",
     "iopub.status.idle": "2021-05-04T12:07:59.189219Z",
     "shell.execute_reply": "2021-05-04T12:07:59.189689Z"
    },
    "papermill": {
     "duration": 0.049887,
     "end_time": "2021-05-04T12:07:59.189827",
     "exception": false,
     "start_time": "2021-05-04T12:07:59.139940",
     "status": "completed"
    },
    "tags": []
   },
   "outputs": [],
   "source": [
    "# #hide\n",
    "# g = g[g.group.notna()]"
   ]
  },
  {
   "cell_type": "code",
   "execution_count": 40,
   "id": "determined-closing",
   "metadata": {
    "execution": {
     "iopub.execute_input": "2021-05-04T12:07:59.281328Z",
     "iopub.status.busy": "2021-05-04T12:07:59.280687Z",
     "iopub.status.idle": "2021-05-04T12:07:59.283001Z",
     "shell.execute_reply": "2021-05-04T12:07:59.283538Z"
    },
    "papermill": {
     "duration": 0.054485,
     "end_time": "2021-05-04T12:07:59.283681",
     "exception": false,
     "start_time": "2021-05-04T12:07:59.229196",
     "status": "completed"
    },
    "tags": []
   },
   "outputs": [],
   "source": [
    "# #hide\n",
    "# colors = dict(zip(\n",
    "#     [\"Oceania\", \"Europe\", \"Asia\", \"South America\", \"Middle East\", \"North America\", \"Africa\"],\n",
    "#     [\"#adb0ff\", \"#ffb3ff\", \"#90d595\", \"#e48381\", \"#aafbff\", \"#f7bb5f\", \"#eafb50\"]\n",
    "# ))\n",
    "# group_lk = g.set_index('name')['group'].to_dict()"
   ]
  },
  {
   "cell_type": "code",
   "execution_count": null,
   "id": "gross-drinking",
   "metadata": {
    "papermill": {
     "duration": 0.040911,
     "end_time": "2021-05-04T12:07:59.372487",
     "exception": false,
     "start_time": "2021-05-04T12:07:59.331576",
     "status": "completed"
    },
    "tags": []
   },
   "outputs": [],
   "source": []
  },
  {
   "cell_type": "code",
   "execution_count": 41,
   "id": "subject-macintosh",
   "metadata": {
    "execution": {
     "iopub.execute_input": "2021-05-04T12:07:59.461019Z",
     "iopub.status.busy": "2021-05-04T12:07:59.460217Z",
     "iopub.status.idle": "2021-05-04T12:07:59.462768Z",
     "shell.execute_reply": "2021-05-04T12:07:59.463444Z"
    },
    "papermill": {
     "duration": 0.050494,
     "end_time": "2021-05-04T12:07:59.463692",
     "exception": false,
     "start_time": "2021-05-04T12:07:59.413198",
     "status": "completed"
    },
    "tags": []
   },
   "outputs": [],
   "source": [
    "# #hide\n",
    "# fig, ax = plt.subplots(figsize=(15, 8))\n",
    "\n",
    "# def draw_barchart(current_day):\n",
    "#     dff = g[g['day'].eq(current_day)].sort_values(by='value', ascending=True).tail(10)\n",
    "#     ax.clear()\n",
    "#     ax.barh(dff['name'], dff['value'], color=[colors[group_lk[x]] for x in dff['name']])\n",
    "#     dx = dff['value'].max() / 200\n",
    "    \n",
    "#     for i, (value, name) in enumerate(zip(dff['value'], dff['name'])):\n",
    "#         ax.text(value-dx, i,     name,           size=14, weight=600, ha='right', va='bottom')\n",
    "#         ax.text(value-dx, i-.25, group_lk[name], size=10, color='#444444', ha='right', va='baseline')\n",
    "#         ax.text(value+dx, i,     f'{value:,.0f}',  size=14, ha='left',  va='center')\n",
    "#     ax.text(1, 0.4, current_day, transform=ax.transAxes, color='#777777', size=46, ha='right', weight=800)\n",
    "#     ax.text(0, 1.06, 'Population (thousands)', transform=ax.transAxes, size=12, color='#777777')\n",
    "#     ax.xaxis.set_major_formatter(ticker.StrMethodFormatter('{x:,.0f}'))\n",
    "#     ax.xaxis.set_ticks_position('top')\n",
    "#     ax.tick_params(axis='x', colors='#777777', labelsize=12)\n",
    "#     ax.set_yticks([])\n",
    "#     ax.margins(0, 0.01)\n",
    "#     ax.grid(which='major', axis='x', linestyle='-')\n",
    "#     ax.set_axisbelow(True)\n",
    "    \n",
    "#     ax.text(0, 1.15, 'Coronavirus',\n",
    "#             transform=ax.transAxes, size=24, weight=600, ha='left', va='top')\n",
    "# #     ax.text(1, 0, 'by @pratapvardhan; credit @jburnmurdoch', transform=ax.transAxes, color='#777777', ha='right',\n",
    "# #             bbox=dict(facecolor='white', alpha=0.8, edgecolor='white'))\n",
    "#     plt.box(False)"
   ]
  },
  {
   "cell_type": "code",
   "execution_count": 42,
   "id": "sexual-wages",
   "metadata": {
    "execution": {
     "iopub.execute_input": "2021-05-04T12:07:59.549034Z",
     "iopub.status.busy": "2021-05-04T12:07:59.548358Z",
     "iopub.status.idle": "2021-05-04T12:07:59.551071Z",
     "shell.execute_reply": "2021-05-04T12:07:59.550203Z"
    },
    "papermill": {
     "duration": 0.046824,
     "end_time": "2021-05-04T12:07:59.551192",
     "exception": false,
     "start_time": "2021-05-04T12:07:59.504368",
     "status": "completed"
    },
    "tags": []
   },
   "outputs": [],
   "source": [
    "# #hide_input\n",
    "# fig, ax = plt.subplots(figsize=(15, 8))\n",
    "# animator = animation.FuncAnimation(fig, draw_barchart, frames=range(g.day.values.min(), g.day.values.max()))\n",
    "# HTML(animator.to_jshtml())\n",
    "# # or use animator.to_html5_video() or animator.save() "
   ]
  },
  {
   "cell_type": "code",
   "execution_count": null,
   "id": "australian-container",
   "metadata": {
    "papermill": {
     "duration": 0.041395,
     "end_time": "2021-05-04T12:07:59.630879",
     "exception": false,
     "start_time": "2021-05-04T12:07:59.589484",
     "status": "completed"
    },
    "tags": []
   },
   "outputs": [],
   "source": []
  },
  {
   "cell_type": "code",
   "execution_count": null,
   "id": "mediterranean-pontiac",
   "metadata": {
    "papermill": {
     "duration": 0.040135,
     "end_time": "2021-05-04T12:07:59.710533",
     "exception": false,
     "start_time": "2021-05-04T12:07:59.670398",
     "status": "completed"
    },
    "tags": []
   },
   "outputs": [],
   "source": []
  },
  {
   "cell_type": "code",
   "execution_count": null,
   "id": "aging-legislature",
   "metadata": {
    "papermill": {
     "duration": 0.038491,
     "end_time": "2021-05-04T12:07:59.787301",
     "exception": false,
     "start_time": "2021-05-04T12:07:59.748810",
     "status": "completed"
    },
    "tags": []
   },
   "outputs": [],
   "source": []
  }
 ],
 "metadata": {
  "kernelspec": {
   "display_name": "Python 3",
   "language": "python",
   "name": "python3"
  },
  "language_info": {
   "codemirror_mode": {
    "name": "ipython",
    "version": 3
   },
   "file_extension": ".py",
   "mimetype": "text/x-python",
   "name": "python",
   "nbconvert_exporter": "python",
   "pygments_lexer": "ipython3",
   "version": "3.6.13"
  },
  "papermill": {
   "duration": 7.173736,
   "end_time": "2021-05-04T12:08:00.137636",
   "environment_variables": {},
   "exception": null,
   "input_path": "2020-03-21-covid19exp.ipynb",
   "output_path": "2020-03-21-covid19exp.ipynb",
   "parameters": {},
   "start_time": "2021-05-04T12:07:52.963900",
   "version": "2.0.0"
  }
 },
 "nbformat": 4,
 "nbformat_minor": 5
}