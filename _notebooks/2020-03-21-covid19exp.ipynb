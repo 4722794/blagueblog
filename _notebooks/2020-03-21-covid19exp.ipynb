{
 "cells": [
  {
   "cell_type": "markdown",
   "id": "muslim-click",
   "metadata": {
    "papermill": {
     "duration": 0.031114,
     "end_time": "2022-01-31T00:26:03.618532",
     "exception": false,
     "start_time": "2022-01-31T00:26:03.587418",
     "status": "completed"
    },
    "tags": []
   },
   "source": [
    "# COVID-19 Case Race\n",
    "> A race chart to see rising cases around the world\n",
    "\n",
    "- author: Hargun Oberoi\n",
    "- image: images/covid-overview.png\n",
    "- hide: false\n",
    "- badges: false"
   ]
  },
  {
   "cell_type": "code",
   "execution_count": 1,
   "id": "proof-material",
   "metadata": {
    "execution": {
     "iopub.execute_input": "2022-01-31T00:26:03.680671Z",
     "iopub.status.busy": "2022-01-31T00:26:03.680190Z",
     "iopub.status.idle": "2022-01-31T00:26:03.988033Z",
     "shell.execute_reply": "2022-01-31T00:26:03.988539Z"
    },
    "papermill": {
     "duration": 0.344028,
     "end_time": "2022-01-31T00:26:03.988729",
     "exception": false,
     "start_time": "2022-01-31T00:26:03.644701",
     "status": "completed"
    },
    "tags": []
   },
   "outputs": [],
   "source": [
    "#hide\n",
    "import numpy as np\n",
    "import pandas as pd\n",
    "from jinja2 import Template\n",
    "from IPython.display import HTML"
   ]
  },
  {
   "cell_type": "code",
   "execution_count": 2,
   "id": "developed-terminology",
   "metadata": {
    "execution": {
     "iopub.execute_input": "2022-01-31T00:26:04.053490Z",
     "iopub.status.busy": "2022-01-31T00:26:04.052897Z",
     "iopub.status.idle": "2022-01-31T00:26:04.054202Z",
     "shell.execute_reply": "2022-01-31T00:26:04.054589Z"
    },
    "papermill": {
     "duration": 0.035995,
     "end_time": "2022-01-31T00:26:04.054705",
     "exception": false,
     "start_time": "2022-01-31T00:26:04.018710",
     "status": "completed"
    },
    "tags": []
   },
   "outputs": [],
   "source": [
    "#hide\n",
    "\n",
    "# FETCH\n",
    "base_url = 'https://raw.githubusercontent.com/pratapvardhan/notebooks/master/covid19/'\n",
    "paths = {\n",
    "    'mapping': base_url + 'mapping_countries.csv',\n",
    "    'overview': base_url + 'overview.tpl'\n",
    "}"
   ]
  },
  {
   "cell_type": "code",
   "execution_count": 3,
   "id": "dynamic-saver",
   "metadata": {
    "execution": {
     "iopub.execute_input": "2022-01-31T00:26:04.116235Z",
     "iopub.status.busy": "2022-01-31T00:26:04.115745Z",
     "iopub.status.idle": "2022-01-31T00:26:04.118681Z",
     "shell.execute_reply": "2022-01-31T00:26:04.118315Z"
    },
    "papermill": {
     "duration": 0.037941,
     "end_time": "2022-01-31T00:26:04.118778",
     "exception": false,
     "start_time": "2022-01-31T00:26:04.080837",
     "status": "completed"
    },
    "tags": []
   },
   "outputs": [
    {
     "data": {
      "text/plain": [
       "'https://raw.githubusercontent.com/pratapvardhan/notebooks/master/covid19/mapping_countries.csv'"
      ]
     },
     "execution_count": 3,
     "metadata": {},
     "output_type": "execute_result"
    }
   ],
   "source": [
    "#hide\n",
    "paths['mapping']"
   ]
  },
  {
   "cell_type": "code",
   "execution_count": 4,
   "id": "urban-software",
   "metadata": {
    "execution": {
     "iopub.execute_input": "2022-01-31T00:26:04.176687Z",
     "iopub.status.busy": "2022-01-31T00:26:04.176077Z",
     "iopub.status.idle": "2022-01-31T00:26:04.177340Z",
     "shell.execute_reply": "2022-01-31T00:26:04.177831Z"
    },
    "papermill": {
     "duration": 0.032912,
     "end_time": "2022-01-31T00:26:04.177953",
     "exception": false,
     "start_time": "2022-01-31T00:26:04.145041",
     "status": "completed"
    },
    "tags": []
   },
   "outputs": [],
   "source": [
    "#hide\n",
    "def get_mappings(url):\n",
    "    df = pd.read_csv(url)\n",
    "    return {\n",
    "        'df': df,\n",
    "        'replace.country': dict(df.dropna(subset=['Name']).set_index('Country')['Name']),\n",
    "        'map.continent': dict(df.set_index('Name')['Continent'])\n",
    "    }"
   ]
  },
  {
   "cell_type": "code",
   "execution_count": 5,
   "id": "intimate-machinery",
   "metadata": {
    "execution": {
     "iopub.execute_input": "2022-01-31T00:26:04.242278Z",
     "iopub.status.busy": "2022-01-31T00:26:04.241735Z",
     "iopub.status.idle": "2022-01-31T00:26:04.278356Z",
     "shell.execute_reply": "2022-01-31T00:26:04.277876Z"
    },
    "papermill": {
     "duration": 0.071078,
     "end_time": "2022-01-31T00:26:04.278483",
     "exception": false,
     "start_time": "2022-01-31T00:26:04.207405",
     "status": "completed"
    },
    "tags": []
   },
   "outputs": [],
   "source": [
    "#hide\n",
    "mapping = get_mappings(paths['mapping'])"
   ]
  },
  {
   "cell_type": "code",
   "execution_count": 6,
   "id": "certified-tactics",
   "metadata": {
    "execution": {
     "iopub.execute_input": "2022-01-31T00:26:04.342314Z",
     "iopub.status.busy": "2022-01-31T00:26:04.341775Z",
     "iopub.status.idle": "2022-01-31T00:26:04.345332Z",
     "shell.execute_reply": "2022-01-31T00:26:04.345739Z"
    },
    "papermill": {
     "duration": 0.037745,
     "end_time": "2022-01-31T00:26:04.345862",
     "exception": false,
     "start_time": "2022-01-31T00:26:04.308117",
     "status": "completed"
    },
    "tags": []
   },
   "outputs": [],
   "source": [
    "#hide\n",
    "def get_template(path):\n",
    "    from urllib.parse import urlparse\n",
    "    if bool(urlparse(path).netloc):\n",
    "        from urllib.request import urlopen\n",
    "        return urlopen(path).read().decode('utf8')\n",
    "    return open(path).read()"
   ]
  },
  {
   "cell_type": "code",
   "execution_count": 7,
   "id": "realistic-blast",
   "metadata": {
    "execution": {
     "iopub.execute_input": "2022-01-31T00:26:04.409045Z",
     "iopub.status.busy": "2022-01-31T00:26:04.408454Z",
     "iopub.status.idle": "2022-01-31T00:26:04.410617Z",
     "shell.execute_reply": "2022-01-31T00:26:04.410135Z"
    },
    "papermill": {
     "duration": 0.035629,
     "end_time": "2022-01-31T00:26:04.410732",
     "exception": false,
     "start_time": "2022-01-31T00:26:04.375103",
     "status": "completed"
    },
    "tags": []
   },
   "outputs": [],
   "source": [
    "#hide\n",
    "def get_frame(name):\n",
    "    url = (\n",
    "        'https://raw.githubusercontent.com/CSSEGISandData/COVID-19/master/csse_covid_19_data/'\n",
    "        f'csse_covid_19_time_series/time_series_covid19_{name}_global.csv')\n",
    "    df = pd.read_csv(url)\n",
    "    # rename countries\n",
    "    df['Country/Region'] = df['Country/Region'].replace(mapping['replace.country'])\n",
    "    return df"
   ]
  },
  {
   "cell_type": "code",
   "execution_count": 8,
   "id": "affiliated-characterization",
   "metadata": {
    "execution": {
     "iopub.execute_input": "2022-01-31T00:26:04.468234Z",
     "iopub.status.busy": "2022-01-31T00:26:04.467759Z",
     "iopub.status.idle": "2022-01-31T00:26:04.469845Z",
     "shell.execute_reply": "2022-01-31T00:26:04.470265Z"
    },
    "papermill": {
     "duration": 0.033575,
     "end_time": "2022-01-31T00:26:04.470371",
     "exception": false,
     "start_time": "2022-01-31T00:26:04.436796",
     "status": "completed"
    },
    "tags": []
   },
   "outputs": [],
   "source": [
    "#hide\n",
    "def get_dates(df):\n",
    "    dt_cols = df.columns[~df.columns.isin(['Province/State', 'Country/Region', 'Lat', 'Long'])]\n",
    "    LAST_DATE_I = -1\n",
    "    # sometimes last column may be empty, then go backwards\n",
    "    for i in range(-1, -len(dt_cols), -1):\n",
    "        if not df[dt_cols[i]].fillna(0).eq(0).all():\n",
    "            LAST_DATE_I = i\n",
    "            break\n",
    "    return LAST_DATE_I, dt_cols"
   ]
  },
  {
   "cell_type": "code",
   "execution_count": 9,
   "id": "recent-optimization",
   "metadata": {
    "execution": {
     "iopub.execute_input": "2022-01-31T00:26:04.526609Z",
     "iopub.status.busy": "2022-01-31T00:26:04.526145Z",
     "iopub.status.idle": "2022-01-31T00:26:04.906964Z",
     "shell.execute_reply": "2022-01-31T00:26:04.907418Z"
    },
    "papermill": {
     "duration": 0.411363,
     "end_time": "2022-01-31T00:26:04.907561",
     "exception": false,
     "start_time": "2022-01-31T00:26:04.496198",
     "status": "completed"
    },
    "tags": []
   },
   "outputs": [],
   "source": [
    "#hide\n",
    "COL_REGION = 'Country/Region'\n",
    "# Confirmed, Recovered, Deaths\n",
    "df = get_frame('confirmed')\n",
    "# dft_: timeseries, dfc_: today country agg\n",
    "dft_cases = df\n",
    "dft_deaths = get_frame('deaths')\n",
    "dft_recovered = get_frame('recovered')\n",
    "LAST_DATE_I, dt_cols = get_dates(df)"
   ]
  },
  {
   "cell_type": "code",
   "execution_count": 10,
   "id": "absolute-copper",
   "metadata": {
    "execution": {
     "iopub.execute_input": "2022-01-31T00:26:04.972311Z",
     "iopub.status.busy": "2022-01-31T00:26:04.971734Z",
     "iopub.status.idle": "2022-01-31T00:26:04.974763Z",
     "shell.execute_reply": "2022-01-31T00:26:04.974332Z"
    },
    "papermill": {
     "duration": 0.037513,
     "end_time": "2022-01-31T00:26:04.974870",
     "exception": false,
     "start_time": "2022-01-31T00:26:04.937357",
     "status": "completed"
    },
    "tags": []
   },
   "outputs": [],
   "source": [
    "#hide\n",
    "LAST_DATE_I, dt_cols = get_dates(df)\n",
    "dt_today =dt_cols[LAST_DATE_I]\n",
    "# dt_5day = dt_cols[LAST_DATE_I - 5]\n",
    "dt_yday = dt_cols[LAST_DATE_I - 1]"
   ]
  },
  {
   "cell_type": "code",
   "execution_count": 11,
   "id": "restricted-sheriff",
   "metadata": {
    "execution": {
     "iopub.execute_input": "2022-01-31T00:26:05.039571Z",
     "iopub.status.busy": "2022-01-31T00:26:05.039057Z",
     "iopub.status.idle": "2022-01-31T00:26:05.045486Z",
     "shell.execute_reply": "2022-01-31T00:26:05.045920Z"
    },
    "papermill": {
     "duration": 0.041721,
     "end_time": "2022-01-31T00:26:05.046044",
     "exception": false,
     "start_time": "2022-01-31T00:26:05.004323",
     "status": "completed"
    },
    "tags": []
   },
   "outputs": [],
   "source": [
    "#hide\n",
    "dfc_cases = dft_cases.groupby(COL_REGION)[dt_today].sum()\n",
    "dfc_deaths = dft_deaths.groupby(COL_REGION)[dt_today].sum()\n",
    "# dfp_cases = dft_cases.groupby(COL_REGION)[dt_5day].sum()\n",
    "# dfp_deaths = dft_deaths.groupby(COL_REGION)[dt_5day].sum()\n",
    "dfp_cases = dft_cases.groupby(COL_REGION)[dt_yday].sum()\n",
    "dfp_deaths = dft_deaths.groupby(COL_REGION)[dt_yday].sum()"
   ]
  },
  {
   "cell_type": "code",
   "execution_count": 12,
   "id": "deluxe-hepatitis",
   "metadata": {
    "execution": {
     "iopub.execute_input": "2022-01-31T00:26:05.110889Z",
     "iopub.status.busy": "2022-01-31T00:26:05.110381Z",
     "iopub.status.idle": "2022-01-31T00:26:05.114907Z",
     "shell.execute_reply": "2022-01-31T00:26:05.115396Z"
    },
    "papermill": {
     "duration": 0.039836,
     "end_time": "2022-01-31T00:26:05.115522",
     "exception": false,
     "start_time": "2022-01-31T00:26:05.075686",
     "status": "completed"
    },
    "tags": []
   },
   "outputs": [],
   "source": [
    "#hide\n",
    "df_table = (pd.DataFrame(dict(Cases = dfc_cases, Deaths = dfc_deaths, PCases = dfp_cases, PDeaths = dfp_deaths))\n",
    "            .sort_values(by = ['Cases','Deaths'], ascending = [False, False])\n",
    "            .reset_index())"
   ]
  },
  {
   "cell_type": "code",
   "execution_count": 13,
   "id": "educational-chancellor",
   "metadata": {
    "execution": {
     "iopub.execute_input": "2022-01-31T00:26:05.191468Z",
     "iopub.status.busy": "2022-01-31T00:26:05.190951Z",
     "iopub.status.idle": "2022-01-31T00:26:05.198372Z",
     "shell.execute_reply": "2022-01-31T00:26:05.197960Z"
    },
    "papermill": {
     "duration": 0.053634,
     "end_time": "2022-01-31T00:26:05.198481",
     "exception": false,
     "start_time": "2022-01-31T00:26:05.144847",
     "status": "completed"
    },
    "tags": []
   },
   "outputs": [
    {
     "data": {
      "text/html": [
       "<div>\n",
       "<style scoped>\n",
       "    .dataframe tbody tr th:only-of-type {\n",
       "        vertical-align: middle;\n",
       "    }\n",
       "\n",
       "    .dataframe tbody tr th {\n",
       "        vertical-align: top;\n",
       "    }\n",
       "\n",
       "    .dataframe thead th {\n",
       "        text-align: right;\n",
       "    }\n",
       "</style>\n",
       "<table border=\"1\" class=\"dataframe\">\n",
       "  <thead>\n",
       "    <tr style=\"text-align: right;\">\n",
       "      <th></th>\n",
       "      <th>Country/Region</th>\n",
       "      <th>Cases</th>\n",
       "      <th>Deaths</th>\n",
       "      <th>PCases</th>\n",
       "      <th>PDeaths</th>\n",
       "      <th>Cases (+)</th>\n",
       "      <th>Deaths (+)</th>\n",
       "      <th>Fatality Rate</th>\n",
       "      <th>Continent</th>\n",
       "    </tr>\n",
       "  </thead>\n",
       "  <tbody>\n",
       "    <tr>\n",
       "      <th>0</th>\n",
       "      <td>US</td>\n",
       "      <td>74236114</td>\n",
       "      <td>883939</td>\n",
       "      <td>74067112</td>\n",
       "      <td>882881</td>\n",
       "      <td>169002</td>\n",
       "      <td>1058</td>\n",
       "      <td>1.19</td>\n",
       "      <td>North America</td>\n",
       "    </tr>\n",
       "    <tr>\n",
       "      <th>1</th>\n",
       "      <td>India</td>\n",
       "      <td>41092522</td>\n",
       "      <td>494091</td>\n",
       "      <td>40858241</td>\n",
       "      <td>493198</td>\n",
       "      <td>234281</td>\n",
       "      <td>893</td>\n",
       "      <td>1.20</td>\n",
       "      <td>Asia</td>\n",
       "    </tr>\n",
       "    <tr>\n",
       "      <th>2</th>\n",
       "      <td>Brazil</td>\n",
       "      <td>25256198</td>\n",
       "      <td>626870</td>\n",
       "      <td>25050601</td>\n",
       "      <td>626170</td>\n",
       "      <td>205597</td>\n",
       "      <td>700</td>\n",
       "      <td>2.48</td>\n",
       "      <td>South America</td>\n",
       "    </tr>\n",
       "    <tr>\n",
       "      <th>3</th>\n",
       "      <td>France</td>\n",
       "      <td>18928572</td>\n",
       "      <td>131449</td>\n",
       "      <td>18596157</td>\n",
       "      <td>131271</td>\n",
       "      <td>332415</td>\n",
       "      <td>178</td>\n",
       "      <td>0.69</td>\n",
       "      <td>Europe</td>\n",
       "    </tr>\n",
       "    <tr>\n",
       "      <th>4</th>\n",
       "      <td>United Kingdom</td>\n",
       "      <td>16519768</td>\n",
       "      <td>156137</td>\n",
       "      <td>16447363</td>\n",
       "      <td>155841</td>\n",
       "      <td>72405</td>\n",
       "      <td>296</td>\n",
       "      <td>0.95</td>\n",
       "      <td>Europe</td>\n",
       "    </tr>\n",
       "  </tbody>\n",
       "</table>\n",
       "</div>"
      ],
      "text/plain": [
       "   Country/Region     Cases  Deaths    PCases  PDeaths  Cases (+)  Deaths (+)  \\\n",
       "0              US  74236114  883939  74067112   882881     169002        1058   \n",
       "1           India  41092522  494091  40858241   493198     234281         893   \n",
       "2          Brazil  25256198  626870  25050601   626170     205597         700   \n",
       "3          France  18928572  131449  18596157   131271     332415         178   \n",
       "4  United Kingdom  16519768  156137  16447363   155841      72405         296   \n",
       "\n",
       "   Fatality Rate      Continent  \n",
       "0           1.19  North America  \n",
       "1           1.20           Asia  \n",
       "2           2.48  South America  \n",
       "3           0.69         Europe  \n",
       "4           0.95         Europe  "
      ]
     },
     "execution_count": 13,
     "metadata": {},
     "output_type": "execute_result"
    }
   ],
   "source": [
    "#hide\n",
    "for c in 'Cases, Deaths'.split(', '):\n",
    "    df_table[f'{c} (+)'] = (df_table[c] - df_table[f'P{c}']).clip(0)\n",
    "    #Clip ça veut dire, les chiffres negatif sont interdit\n",
    "df_table['Fatality Rate'] = (100* df_table['Deaths']/ df_table['Cases']).round(2)\n",
    "df_table['Continent'] = df_table['Country/Region'].map(mapping['map.continent'])\n",
    "df_table.head(5)"
   ]
  },
  {
   "cell_type": "code",
   "execution_count": 14,
   "id": "aboriginal-bulgaria",
   "metadata": {
    "execution": {
     "iopub.execute_input": "2022-01-31T00:26:05.263742Z",
     "iopub.status.busy": "2022-01-31T00:26:05.263237Z",
     "iopub.status.idle": "2022-01-31T00:26:05.265769Z",
     "shell.execute_reply": "2022-01-31T00:26:05.265362Z"
    },
    "papermill": {
     "duration": 0.037508,
     "end_time": "2022-01-31T00:26:05.265877",
     "exception": false,
     "start_time": "2022-01-31T00:26:05.228369",
     "status": "completed"
    },
    "tags": []
   },
   "outputs": [],
   "source": [
    "#hide\n",
    "#delete problematic countries from table\n",
    "df_table = df_table[~df_table['Country/Region'].isin(['Cape Verde', 'Cruise Ship', 'Kosovo'])]"
   ]
  },
  {
   "cell_type": "code",
   "execution_count": 15,
   "id": "fantastic-effect",
   "metadata": {
    "execution": {
     "iopub.execute_input": "2022-01-31T00:26:05.332591Z",
     "iopub.status.busy": "2022-01-31T00:26:05.332078Z",
     "iopub.status.idle": "2022-01-31T00:26:05.348487Z",
     "shell.execute_reply": "2022-01-31T00:26:05.348899Z"
    },
    "papermill": {
     "duration": 0.053458,
     "end_time": "2022-01-31T00:26:05.349022",
     "exception": false,
     "start_time": "2022-01-31T00:26:05.295564",
     "status": "completed"
    },
    "tags": []
   },
   "outputs": [
    {
     "data": {
      "text/html": [
       "<div>\n",
       "<style scoped>\n",
       "    .dataframe tbody tr th:only-of-type {\n",
       "        vertical-align: middle;\n",
       "    }\n",
       "\n",
       "    .dataframe tbody tr th {\n",
       "        vertical-align: top;\n",
       "    }\n",
       "\n",
       "    .dataframe thead th {\n",
       "        text-align: right;\n",
       "    }\n",
       "</style>\n",
       "<table border=\"1\" class=\"dataframe\">\n",
       "  <thead>\n",
       "    <tr style=\"text-align: right;\">\n",
       "      <th></th>\n",
       "      <th>Country/Region</th>\n",
       "      <th>Cases</th>\n",
       "      <th>Deaths</th>\n",
       "      <th>PCases</th>\n",
       "      <th>PDeaths</th>\n",
       "      <th>Cases (+)</th>\n",
       "      <th>Deaths (+)</th>\n",
       "      <th>Fatality Rate</th>\n",
       "      <th>Continent</th>\n",
       "    </tr>\n",
       "  </thead>\n",
       "  <tbody>\n",
       "    <tr>\n",
       "      <th>0</th>\n",
       "      <td>US</td>\n",
       "      <td>74236114</td>\n",
       "      <td>883939</td>\n",
       "      <td>74067112</td>\n",
       "      <td>882881</td>\n",
       "      <td>169002</td>\n",
       "      <td>1058</td>\n",
       "      <td>1.2</td>\n",
       "      <td>North America</td>\n",
       "    </tr>\n",
       "    <tr>\n",
       "      <th>1</th>\n",
       "      <td>India</td>\n",
       "      <td>41092522</td>\n",
       "      <td>494091</td>\n",
       "      <td>40858241</td>\n",
       "      <td>493198</td>\n",
       "      <td>234281</td>\n",
       "      <td>893</td>\n",
       "      <td>1.2</td>\n",
       "      <td>Asia</td>\n",
       "    </tr>\n",
       "    <tr>\n",
       "      <th>2</th>\n",
       "      <td>Brazil</td>\n",
       "      <td>25256198</td>\n",
       "      <td>626870</td>\n",
       "      <td>25050601</td>\n",
       "      <td>626170</td>\n",
       "      <td>205597</td>\n",
       "      <td>700</td>\n",
       "      <td>2.5</td>\n",
       "      <td>South America</td>\n",
       "    </tr>\n",
       "    <tr>\n",
       "      <th>3</th>\n",
       "      <td>France</td>\n",
       "      <td>18928572</td>\n",
       "      <td>131449</td>\n",
       "      <td>18596157</td>\n",
       "      <td>131271</td>\n",
       "      <td>332415</td>\n",
       "      <td>178</td>\n",
       "      <td>0.7</td>\n",
       "      <td>Europe</td>\n",
       "    </tr>\n",
       "    <tr>\n",
       "      <th>4</th>\n",
       "      <td>United Kingdom</td>\n",
       "      <td>16519768</td>\n",
       "      <td>156137</td>\n",
       "      <td>16447363</td>\n",
       "      <td>155841</td>\n",
       "      <td>72405</td>\n",
       "      <td>296</td>\n",
       "      <td>0.9</td>\n",
       "      <td>Europe</td>\n",
       "    </tr>\n",
       "  </tbody>\n",
       "</table>\n",
       "</div>"
      ],
      "text/plain": [
       "   Country/Region     Cases  Deaths    PCases  PDeaths  Cases (+)  Deaths (+)  \\\n",
       "0              US  74236114  883939  74067112   882881     169002        1058   \n",
       "1           India  41092522  494091  40858241   493198     234281         893   \n",
       "2          Brazil  25256198  626870  25050601   626170     205597         700   \n",
       "3          France  18928572  131449  18596157   131271     332415         178   \n",
       "4  United Kingdom  16519768  156137  16447363   155841      72405         296   \n",
       "\n",
       "   Fatality Rate      Continent  \n",
       "0            1.2  North America  \n",
       "1            1.2           Asia  \n",
       "2            2.5  South America  \n",
       "3            0.7         Europe  \n",
       "4            0.9         Europe  "
      ]
     },
     "execution_count": 15,
     "metadata": {},
     "output_type": "execute_result"
    }
   ],
   "source": [
    "#hide\n",
    "df_table = (pd.DataFrame(dict(Cases=dfc_cases, Deaths=dfc_deaths, PCases=dfp_cases, PDeaths=dfp_deaths))\n",
    "             .sort_values(by=['Cases', 'Deaths'], ascending=[False, False])\n",
    "             .reset_index())\n",
    "df_table.rename(columns={'index': 'Country/Region'}, inplace=True)\n",
    "for c in 'Cases, Deaths'.split(', '):\n",
    "    df_table[f'{c} (+)'] = (df_table[c] - df_table[f'P{c}']).clip(0)  # DATA BUG\n",
    "df_table['Fatality Rate'] = (100 * df_table['Deaths'] / df_table['Cases']).round(1)\n",
    "df_table['Continent'] = df_table['Country/Region'].map(mapping['map.continent'])\n",
    "df_table.head(5)"
   ]
  },
  {
   "cell_type": "code",
   "execution_count": 16,
   "id": "fewer-occasion",
   "metadata": {
    "execution": {
     "iopub.execute_input": "2022-01-31T00:26:05.414631Z",
     "iopub.status.busy": "2022-01-31T00:26:05.414124Z",
     "iopub.status.idle": "2022-01-31T00:26:05.417509Z",
     "shell.execute_reply": "2022-01-31T00:26:05.417100Z"
    },
    "papermill": {
     "duration": 0.038113,
     "end_time": "2022-01-31T00:26:05.417618",
     "exception": false,
     "start_time": "2022-01-31T00:26:05.379505",
     "status": "completed"
    },
    "tags": []
   },
   "outputs": [],
   "source": [
    "#hide\n",
    "#delete problematic countries from table\n",
    "df_table = df_table[~df_table['Country/Region'].isin(['Cape Verde', 'Cruise Ship', 'Kosovo'])]"
   ]
  },
  {
   "cell_type": "code",
   "execution_count": 17,
   "id": "related-center",
   "metadata": {
    "execution": {
     "iopub.execute_input": "2022-01-31T00:26:05.489848Z",
     "iopub.status.busy": "2022-01-31T00:26:05.489333Z",
     "iopub.status.idle": "2022-01-31T00:26:05.497430Z",
     "shell.execute_reply": "2022-01-31T00:26:05.497816Z"
    },
    "papermill": {
     "duration": 0.05025,
     "end_time": "2022-01-31T00:26:05.497944",
     "exception": false,
     "start_time": "2022-01-31T00:26:05.447694",
     "status": "completed"
    },
    "tags": []
   },
   "outputs": [],
   "source": [
    "#hide\n",
    "metrics = [df_table.columns[index] for index in [1,2,5,6]]\n",
    "# s_china = df_table[df_table['Country/Region'].eq('China')][metrics].sum().add_prefix('China ')\n",
    "s_us = df_table[df_table['Country/Region'].eq('US')][metrics].sum().add_prefix('US ')\n",
    "s_eu = df_table[df_table['Continent'].eq('Europe')][metrics].sum().add_prefix('EU ')\n",
    "s_ind = df_table[df_table['Country/Region'].eq('India')][metrics].sum().add_prefix('India ')\n",
    "summary = {'updated': pd.to_datetime(dt_today), 'since': pd.to_datetime(dt_yday)}\n",
    "summary = {'updated': pd.to_datetime(dt_today), 'since': pd.to_datetime(dt_yday)}\n",
    "summary = {**summary, **df_table[metrics].sum(), **s_ind, **s_us, **s_eu}"
   ]
  },
  {
   "cell_type": "code",
   "execution_count": 18,
   "id": "engaging-syndrome",
   "metadata": {
    "execution": {
     "iopub.execute_input": "2022-01-31T00:26:05.563839Z",
     "iopub.status.busy": "2022-01-31T00:26:05.563309Z",
     "iopub.status.idle": "2022-01-31T00:26:05.577533Z",
     "shell.execute_reply": "2022-01-31T00:26:05.577109Z"
    },
    "papermill": {
     "duration": 0.049334,
     "end_time": "2022-01-31T00:26:05.577649",
     "exception": false,
     "start_time": "2022-01-31T00:26:05.528315",
     "status": "completed"
    },
    "tags": []
   },
   "outputs": [],
   "source": [
    "#hide\n",
    "dft_ct_new_cases = dft_cases.groupby(COL_REGION)[dt_cols].sum().diff(axis=1).fillna(0).astype(int)"
   ]
  },
  {
   "cell_type": "code",
   "execution_count": 19,
   "id": "neutral-assignment",
   "metadata": {
    "execution": {
     "iopub.execute_input": "2022-01-31T00:26:05.645118Z",
     "iopub.status.busy": "2022-01-31T00:26:05.644502Z",
     "iopub.status.idle": "2022-01-31T00:26:05.646024Z",
     "shell.execute_reply": "2022-01-31T00:26:05.646461Z"
    },
    "papermill": {
     "duration": 0.038386,
     "end_time": "2022-01-31T00:26:05.646608",
     "exception": false,
     "start_time": "2022-01-31T00:26:05.608222",
     "status": "completed"
    },
    "tags": []
   },
   "outputs": [],
   "source": [
    "#hide\n",
    "everydaycases = dft_ct_new_cases.cumsum(axis=1)"
   ]
  },
  {
   "cell_type": "code",
   "execution_count": 20,
   "id": "parliamentary-calgary",
   "metadata": {
    "execution": {
     "iopub.execute_input": "2022-01-31T00:26:05.713401Z",
     "iopub.status.busy": "2022-01-31T00:26:05.712786Z",
     "iopub.status.idle": "2022-01-31T00:26:06.271631Z",
     "shell.execute_reply": "2022-01-31T00:26:06.271114Z"
    },
    "papermill": {
     "duration": 0.594263,
     "end_time": "2022-01-31T00:26:06.271766",
     "exception": false,
     "start_time": "2022-01-31T00:26:05.677503",
     "status": "completed"
    },
    "tags": []
   },
   "outputs": [],
   "source": [
    "#hide\n",
    "import pandas as pd\n",
    "import matplotlib.pyplot as plt\n",
    "import matplotlib.ticker as ticker\n",
    "import matplotlib.animation as animation\n",
    "from IPython.display import HTML"
   ]
  },
  {
   "cell_type": "code",
   "execution_count": 21,
   "id": "lasting-extraction",
   "metadata": {
    "execution": {
     "iopub.execute_input": "2022-01-31T00:26:06.339229Z",
     "iopub.status.busy": "2022-01-31T00:26:06.338695Z",
     "iopub.status.idle": "2022-01-31T00:26:06.344801Z",
     "shell.execute_reply": "2022-01-31T00:26:06.344308Z"
    },
    "papermill": {
     "duration": 0.041906,
     "end_time": "2022-01-31T00:26:06.344931",
     "exception": false,
     "start_time": "2022-01-31T00:26:06.303025",
     "status": "completed"
    },
    "tags": []
   },
   "outputs": [],
   "source": [
    "#hide\n",
    "t = everydaycases.stack()"
   ]
  },
  {
   "cell_type": "code",
   "execution_count": 22,
   "id": "premier-sleeve",
   "metadata": {
    "execution": {
     "iopub.execute_input": "2022-01-31T00:26:06.404550Z",
     "iopub.status.busy": "2022-01-31T00:26:06.404072Z",
     "iopub.status.idle": "2022-01-31T00:26:06.413813Z",
     "shell.execute_reply": "2022-01-31T00:26:06.414259Z"
    },
    "papermill": {
     "duration": 0.041543,
     "end_time": "2022-01-31T00:26:06.414381",
     "exception": false,
     "start_time": "2022-01-31T00:26:06.372838",
     "status": "completed"
    },
    "tags": []
   },
   "outputs": [],
   "source": [
    "#hide\n",
    "g = t.reset_index(['Country/Region'])"
   ]
  },
  {
   "cell_type": "code",
   "execution_count": 23,
   "id": "distributed-pittsburgh",
   "metadata": {
    "execution": {
     "iopub.execute_input": "2022-01-31T00:26:06.471874Z",
     "iopub.status.busy": "2022-01-31T00:26:06.471410Z",
     "iopub.status.idle": "2022-01-31T00:26:06.473593Z",
     "shell.execute_reply": "2022-01-31T00:26:06.473227Z"
    },
    "papermill": {
     "duration": 0.032466,
     "end_time": "2022-01-31T00:26:06.473692",
     "exception": false,
     "start_time": "2022-01-31T00:26:06.441226",
     "status": "completed"
    },
    "tags": []
   },
   "outputs": [],
   "source": [
    "#hide\n",
    "g.index.name = 'date'"
   ]
  },
  {
   "cell_type": "code",
   "execution_count": 24,
   "id": "naked-donor",
   "metadata": {
    "execution": {
     "iopub.execute_input": "2022-01-31T00:26:06.531503Z",
     "iopub.status.busy": "2022-01-31T00:26:06.530910Z",
     "iopub.status.idle": "2022-01-31T00:26:06.535987Z",
     "shell.execute_reply": "2022-01-31T00:26:06.536389Z"
    },
    "papermill": {
     "duration": 0.035997,
     "end_time": "2022-01-31T00:26:06.536520",
     "exception": false,
     "start_time": "2022-01-31T00:26:06.500523",
     "status": "completed"
    },
    "tags": []
   },
   "outputs": [],
   "source": [
    "# #hide\n",
    "# g = g.reset_index(['date'])"
   ]
  },
  {
   "cell_type": "code",
   "execution_count": 25,
   "id": "incomplete-mustang",
   "metadata": {
    "execution": {
     "iopub.execute_input": "2022-01-31T00:26:06.601412Z",
     "iopub.status.busy": "2022-01-31T00:26:06.600765Z",
     "iopub.status.idle": "2022-01-31T00:26:06.602787Z",
     "shell.execute_reply": "2022-01-31T00:26:06.602198Z"
    },
    "papermill": {
     "duration": 0.036111,
     "end_time": "2022-01-31T00:26:06.602891",
     "exception": false,
     "start_time": "2022-01-31T00:26:06.566780",
     "status": "completed"
    },
    "tags": []
   },
   "outputs": [],
   "source": [
    "#hide\n",
    "# g.head()"
   ]
  },
  {
   "cell_type": "code",
   "execution_count": 26,
   "id": "specific-kruger",
   "metadata": {
    "execution": {
     "iopub.execute_input": "2022-01-31T00:26:06.662102Z",
     "iopub.status.busy": "2022-01-31T00:26:06.661449Z",
     "iopub.status.idle": "2022-01-31T00:26:06.663275Z",
     "shell.execute_reply": "2022-01-31T00:26:06.662756Z"
    },
    "papermill": {
     "duration": 0.033084,
     "end_time": "2022-01-31T00:26:06.663400",
     "exception": false,
     "start_time": "2022-01-31T00:26:06.630316",
     "status": "completed"
    },
    "tags": []
   },
   "outputs": [],
   "source": [
    "#hide\n",
    "# g.columns = ['date','country','cases']"
   ]
  },
  {
   "cell_type": "code",
   "execution_count": 27,
   "id": "tender-conversion",
   "metadata": {
    "execution": {
     "iopub.execute_input": "2022-01-31T00:26:06.729018Z",
     "iopub.status.busy": "2022-01-31T00:26:06.728383Z",
     "iopub.status.idle": "2022-01-31T00:26:06.732007Z",
     "shell.execute_reply": "2022-01-31T00:26:06.732471Z"
    },
    "papermill": {
     "duration": 0.038384,
     "end_time": "2022-01-31T00:26:06.732625",
     "exception": false,
     "start_time": "2022-01-31T00:26:06.694241",
     "status": "completed"
    },
    "tags": []
   },
   "outputs": [],
   "source": [
    "#hide\n",
    "# g['continent'] = g.country"
   ]
  },
  {
   "cell_type": "code",
   "execution_count": 28,
   "id": "substantial-wilderness",
   "metadata": {
    "execution": {
     "iopub.execute_input": "2022-01-31T00:26:06.791883Z",
     "iopub.status.busy": "2022-01-31T00:26:06.791276Z",
     "iopub.status.idle": "2022-01-31T00:26:06.793103Z",
     "shell.execute_reply": "2022-01-31T00:26:06.792541Z"
    },
    "papermill": {
     "duration": 0.032375,
     "end_time": "2022-01-31T00:26:06.793222",
     "exception": false,
     "start_time": "2022-01-31T00:26:06.760847",
     "status": "completed"
    },
    "tags": []
   },
   "outputs": [],
   "source": [
    "#hide\n",
    "# cols = list(g.columns.values)"
   ]
  },
  {
   "cell_type": "code",
   "execution_count": 29,
   "id": "solved-farming",
   "metadata": {
    "execution": {
     "iopub.execute_input": "2022-01-31T00:26:06.858162Z",
     "iopub.status.busy": "2022-01-31T00:26:06.857541Z",
     "iopub.status.idle": "2022-01-31T00:26:06.859389Z",
     "shell.execute_reply": "2022-01-31T00:26:06.858886Z"
    },
    "papermill": {
     "duration": 0.035622,
     "end_time": "2022-01-31T00:26:06.859497",
     "exception": false,
     "start_time": "2022-01-31T00:26:06.823875",
     "status": "completed"
    },
    "tags": []
   },
   "outputs": [],
   "source": [
    "#hide\n",
    "# cols.insert(0, cols.pop())"
   ]
  },
  {
   "cell_type": "code",
   "execution_count": 30,
   "id": "executed-adoption",
   "metadata": {
    "execution": {
     "iopub.execute_input": "2022-01-31T00:26:06.924373Z",
     "iopub.status.busy": "2022-01-31T00:26:06.923707Z",
     "iopub.status.idle": "2022-01-31T00:26:06.925745Z",
     "shell.execute_reply": "2022-01-31T00:26:06.925174Z"
    },
    "papermill": {
     "duration": 0.035817,
     "end_time": "2022-01-31T00:26:06.925867",
     "exception": false,
     "start_time": "2022-01-31T00:26:06.890050",
     "status": "completed"
    },
    "tags": []
   },
   "outputs": [],
   "source": [
    "#hide\n",
    "# g = g[cols]"
   ]
  },
  {
   "cell_type": "code",
   "execution_count": 31,
   "id": "subject-dublin",
   "metadata": {
    "execution": {
     "iopub.execute_input": "2022-01-31T00:26:06.990230Z",
     "iopub.status.busy": "2022-01-31T00:26:06.989639Z",
     "iopub.status.idle": "2022-01-31T00:26:06.993611Z",
     "shell.execute_reply": "2022-01-31T00:26:06.993994Z"
    },
    "papermill": {
     "duration": 0.037491,
     "end_time": "2022-01-31T00:26:06.994120",
     "exception": false,
     "start_time": "2022-01-31T00:26:06.956629",
     "status": "completed"
    },
    "tags": []
   },
   "outputs": [],
   "source": [
    "#hide\n",
    "# g['continent'] = g['continent'].map(mapping['map.continent'])"
   ]
  },
  {
   "cell_type": "code",
   "execution_count": 32,
   "id": "freelance-scout",
   "metadata": {
    "execution": {
     "iopub.execute_input": "2022-01-31T00:26:07.058301Z",
     "iopub.status.busy": "2022-01-31T00:26:07.057710Z",
     "iopub.status.idle": "2022-01-31T00:26:07.059617Z",
     "shell.execute_reply": "2022-01-31T00:26:07.059041Z"
    },
    "papermill": {
     "duration": 0.03533,
     "end_time": "2022-01-31T00:26:07.059732",
     "exception": false,
     "start_time": "2022-01-31T00:26:07.024402",
     "status": "completed"
    },
    "tags": []
   },
   "outputs": [],
   "source": [
    "#hide\n",
    "# g.head()"
   ]
  },
  {
   "cell_type": "code",
   "execution_count": 33,
   "id": "limited-engine",
   "metadata": {
    "execution": {
     "iopub.execute_input": "2022-01-31T00:26:07.123717Z",
     "iopub.status.busy": "2022-01-31T00:26:07.123232Z",
     "iopub.status.idle": "2022-01-31T00:26:07.125047Z",
     "shell.execute_reply": "2022-01-31T00:26:07.124684Z"
    },
    "papermill": {
     "duration": 0.03504,
     "end_time": "2022-01-31T00:26:07.125144",
     "exception": false,
     "start_time": "2022-01-31T00:26:07.090104",
     "status": "completed"
    },
    "tags": []
   },
   "outputs": [],
   "source": [
    "# hide\n",
    "# g['date'] = g['date'].astype('datetime64[ns]')"
   ]
  },
  {
   "cell_type": "code",
   "execution_count": 34,
   "id": "sophisticated-supervisor",
   "metadata": {
    "execution": {
     "iopub.execute_input": "2022-01-31T00:26:07.182056Z",
     "iopub.status.busy": "2022-01-31T00:26:07.181546Z",
     "iopub.status.idle": "2022-01-31T00:26:07.183530Z",
     "shell.execute_reply": "2022-01-31T00:26:07.183101Z"
    },
    "papermill": {
     "duration": 0.031722,
     "end_time": "2022-01-31T00:26:07.183631",
     "exception": false,
     "start_time": "2022-01-31T00:26:07.151909",
     "status": "completed"
    },
    "tags": []
   },
   "outputs": [],
   "source": [
    "#hide\n",
    "# g['date'] = g.date.dt.dayofyear"
   ]
  },
  {
   "cell_type": "code",
   "execution_count": 35,
   "id": "inside-dubai",
   "metadata": {
    "execution": {
     "iopub.execute_input": "2022-01-31T00:26:07.247231Z",
     "iopub.status.busy": "2022-01-31T00:26:07.246636Z",
     "iopub.status.idle": "2022-01-31T00:26:07.250481Z",
     "shell.execute_reply": "2022-01-31T00:26:07.250016Z"
    },
    "papermill": {
     "duration": 0.036895,
     "end_time": "2022-01-31T00:26:07.250598",
     "exception": false,
     "start_time": "2022-01-31T00:26:07.213703",
     "status": "completed"
    },
    "tags": []
   },
   "outputs": [],
   "source": [
    "#hide\n",
    "# g = g.rename(columns= {'continent':'group','country':'name','cases':'value'})"
   ]
  },
  {
   "cell_type": "code",
   "execution_count": 36,
   "id": "fleet-motorcycle",
   "metadata": {
    "execution": {
     "iopub.execute_input": "2022-01-31T00:26:07.308551Z",
     "iopub.status.busy": "2022-01-31T00:26:07.307914Z",
     "iopub.status.idle": "2022-01-31T00:26:07.309720Z",
     "shell.execute_reply": "2022-01-31T00:26:07.309164Z"
    },
    "papermill": {
     "duration": 0.031316,
     "end_time": "2022-01-31T00:26:07.309833",
     "exception": false,
     "start_time": "2022-01-31T00:26:07.278517",
     "status": "completed"
    },
    "tags": []
   },
   "outputs": [],
   "source": [
    "#hide\n",
    "# cols = ['name','group','day','value']"
   ]
  },
  {
   "cell_type": "code",
   "execution_count": 37,
   "id": "continued-sleeping",
   "metadata": {
    "execution": {
     "iopub.execute_input": "2022-01-31T00:26:07.374356Z",
     "iopub.status.busy": "2022-01-31T00:26:07.373760Z",
     "iopub.status.idle": "2022-01-31T00:26:07.375986Z",
     "shell.execute_reply": "2022-01-31T00:26:07.375384Z"
    },
    "papermill": {
     "duration": 0.035201,
     "end_time": "2022-01-31T00:26:07.376107",
     "exception": false,
     "start_time": "2022-01-31T00:26:07.340906",
     "status": "completed"
    },
    "tags": []
   },
   "outputs": [],
   "source": [
    "#hide\n",
    "# g.rename(columns= {'date':'day'},inplace = True)"
   ]
  },
  {
   "cell_type": "code",
   "execution_count": 38,
   "id": "major-fight",
   "metadata": {
    "execution": {
     "iopub.execute_input": "2022-01-31T00:26:07.433567Z",
     "iopub.status.busy": "2022-01-31T00:26:07.432984Z",
     "iopub.status.idle": "2022-01-31T00:26:07.436511Z",
     "shell.execute_reply": "2022-01-31T00:26:07.436949Z"
    },
    "papermill": {
     "duration": 0.033583,
     "end_time": "2022-01-31T00:26:07.437082",
     "exception": false,
     "start_time": "2022-01-31T00:26:07.403499",
     "status": "completed"
    },
    "tags": []
   },
   "outputs": [],
   "source": [
    "#hide\n",
    "# g = g[cols]"
   ]
  },
  {
   "cell_type": "code",
   "execution_count": 39,
   "id": "structured-mobile",
   "metadata": {
    "execution": {
     "iopub.execute_input": "2022-01-31T00:26:07.501482Z",
     "iopub.status.busy": "2022-01-31T00:26:07.500964Z",
     "iopub.status.idle": "2022-01-31T00:26:07.502863Z",
     "shell.execute_reply": "2022-01-31T00:26:07.502496Z"
    },
    "papermill": {
     "duration": 0.035457,
     "end_time": "2022-01-31T00:26:07.502962",
     "exception": false,
     "start_time": "2022-01-31T00:26:07.467505",
     "status": "completed"
    },
    "tags": []
   },
   "outputs": [],
   "source": [
    "# #hide\n",
    "# g = g[g.group.notna()]"
   ]
  },
  {
   "cell_type": "code",
   "execution_count": 40,
   "id": "determined-closing",
   "metadata": {
    "execution": {
     "iopub.execute_input": "2022-01-31T00:26:07.560386Z",
     "iopub.status.busy": "2022-01-31T00:26:07.559724Z",
     "iopub.status.idle": "2022-01-31T00:26:07.561154Z",
     "shell.execute_reply": "2022-01-31T00:26:07.561612Z"
    },
    "papermill": {
     "duration": 0.031864,
     "end_time": "2022-01-31T00:26:07.561748",
     "exception": false,
     "start_time": "2022-01-31T00:26:07.529884",
     "status": "completed"
    },
    "tags": []
   },
   "outputs": [],
   "source": [
    "# #hide\n",
    "# colors = dict(zip(\n",
    "#     [\"Oceania\", \"Europe\", \"Asia\", \"South America\", \"Middle East\", \"North America\", \"Africa\"],\n",
    "#     [\"#adb0ff\", \"#ffb3ff\", \"#90d595\", \"#e48381\", \"#aafbff\", \"#f7bb5f\", \"#eafb50\"]\n",
    "# ))\n",
    "# group_lk = g.set_index('name')['group'].to_dict()"
   ]
  },
  {
   "cell_type": "code",
   "execution_count": null,
   "id": "gross-drinking",
   "metadata": {
    "papermill": {
     "duration": 0.030206,
     "end_time": "2022-01-31T00:26:07.622279",
     "exception": false,
     "start_time": "2022-01-31T00:26:07.592073",
     "status": "completed"
    },
    "tags": []
   },
   "outputs": [],
   "source": []
  },
  {
   "cell_type": "code",
   "execution_count": 41,
   "id": "subject-macintosh",
   "metadata": {
    "execution": {
     "iopub.execute_input": "2022-01-31T00:26:07.687339Z",
     "iopub.status.busy": "2022-01-31T00:26:07.686811Z",
     "iopub.status.idle": "2022-01-31T00:26:07.689235Z",
     "shell.execute_reply": "2022-01-31T00:26:07.688832Z"
    },
    "papermill": {
     "duration": 0.036584,
     "end_time": "2022-01-31T00:26:07.689347",
     "exception": false,
     "start_time": "2022-01-31T00:26:07.652763",
     "status": "completed"
    },
    "tags": []
   },
   "outputs": [],
   "source": [
    "# #hide\n",
    "# fig, ax = plt.subplots(figsize=(15, 8))\n",
    "\n",
    "# def draw_barchart(current_day):\n",
    "#     dff = g[g['day'].eq(current_day)].sort_values(by='value', ascending=True).tail(10)\n",
    "#     ax.clear()\n",
    "#     ax.barh(dff['name'], dff['value'], color=[colors[group_lk[x]] for x in dff['name']])\n",
    "#     dx = dff['value'].max() / 200\n",
    "    \n",
    "#     for i, (value, name) in enumerate(zip(dff['value'], dff['name'])):\n",
    "#         ax.text(value-dx, i,     name,           size=14, weight=600, ha='right', va='bottom')\n",
    "#         ax.text(value-dx, i-.25, group_lk[name], size=10, color='#444444', ha='right', va='baseline')\n",
    "#         ax.text(value+dx, i,     f'{value:,.0f}',  size=14, ha='left',  va='center')\n",
    "#     ax.text(1, 0.4, current_day, transform=ax.transAxes, color='#777777', size=46, ha='right', weight=800)\n",
    "#     ax.text(0, 1.06, 'Population (thousands)', transform=ax.transAxes, size=12, color='#777777')\n",
    "#     ax.xaxis.set_major_formatter(ticker.StrMethodFormatter('{x:,.0f}'))\n",
    "#     ax.xaxis.set_ticks_position('top')\n",
    "#     ax.tick_params(axis='x', colors='#777777', labelsize=12)\n",
    "#     ax.set_yticks([])\n",
    "#     ax.margins(0, 0.01)\n",
    "#     ax.grid(which='major', axis='x', linestyle='-')\n",
    "#     ax.set_axisbelow(True)\n",
    "    \n",
    "#     ax.text(0, 1.15, 'Coronavirus',\n",
    "#             transform=ax.transAxes, size=24, weight=600, ha='left', va='top')\n",
    "# #     ax.text(1, 0, 'by @pratapvardhan; credit @jburnmurdoch', transform=ax.transAxes, color='#777777', ha='right',\n",
    "# #             bbox=dict(facecolor='white', alpha=0.8, edgecolor='white'))\n",
    "#     plt.box(False)"
   ]
  },
  {
   "cell_type": "code",
   "execution_count": 42,
   "id": "sexual-wages",
   "metadata": {
    "execution": {
     "iopub.execute_input": "2022-01-31T00:26:07.748091Z",
     "iopub.status.busy": "2022-01-31T00:26:07.747457Z",
     "iopub.status.idle": "2022-01-31T00:26:07.750887Z",
     "shell.execute_reply": "2022-01-31T00:26:07.750460Z"
    },
    "papermill": {
     "duration": 0.034336,
     "end_time": "2022-01-31T00:26:07.751007",
     "exception": false,
     "start_time": "2022-01-31T00:26:07.716671",
     "status": "completed"
    },
    "tags": []
   },
   "outputs": [],
   "source": [
    "# #hide_input\n",
    "# fig, ax = plt.subplots(figsize=(15, 8))\n",
    "# animator = animation.FuncAnimation(fig, draw_barchart, frames=range(g.day.values.min(), g.day.values.max()))\n",
    "# HTML(animator.to_jshtml())\n",
    "# # or use animator.to_html5_video() or animator.save() "
   ]
  },
  {
   "cell_type": "code",
   "execution_count": null,
   "id": "australian-container",
   "metadata": {
    "papermill": {
     "duration": 0.030597,
     "end_time": "2022-01-31T00:26:07.813414",
     "exception": false,
     "start_time": "2022-01-31T00:26:07.782817",
     "status": "completed"
    },
    "tags": []
   },
   "outputs": [],
   "source": []
  },
  {
   "cell_type": "code",
   "execution_count": null,
   "id": "mediterranean-pontiac",
   "metadata": {
    "papermill": {
     "duration": 0.030344,
     "end_time": "2022-01-31T00:26:07.874202",
     "exception": false,
     "start_time": "2022-01-31T00:26:07.843858",
     "status": "completed"
    },
    "tags": []
   },
   "outputs": [],
   "source": []
  },
  {
   "cell_type": "code",
   "execution_count": null,
   "id": "aging-legislature",
   "metadata": {
    "papermill": {
     "duration": 0.030215,
     "end_time": "2022-01-31T00:26:07.935057",
     "exception": false,
     "start_time": "2022-01-31T00:26:07.904842",
     "status": "completed"
    },
    "tags": []
   },
   "outputs": [],
   "source": []
  }
 ],
 "metadata": {
  "kernelspec": {
   "display_name": "Python 3",
   "language": "python",
   "name": "python3"
  },
  "language_info": {
   "codemirror_mode": {
    "name": "ipython",
    "version": 3
   },
   "file_extension": ".py",
   "mimetype": "text/x-python",
   "name": "python",
   "nbconvert_exporter": "python",
   "pygments_lexer": "ipython3",
   "version": "3.6.15"
  },
  "papermill": {
   "duration": 5.81724,
   "end_time": "2022-01-31T00:26:08.283613",
   "environment_variables": {},
   "exception": null,
   "input_path": "2020-03-21-covid19exp.ipynb",
   "output_path": "2020-03-21-covid19exp.ipynb",
   "parameters": {},
   "start_time": "2022-01-31T00:26:02.466373",
   "version": "2.0.0"
  }
 },
 "nbformat": 4,
 "nbformat_minor": 5
}