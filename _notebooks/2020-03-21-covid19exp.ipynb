{
 "cells": [
  {
   "cell_type": "markdown",
   "id": "muslim-click",
   "metadata": {
    "papermill": {
     "duration": 0.039854,
     "end_time": "2021-02-10T12:07:04.952638",
     "exception": false,
     "start_time": "2021-02-10T12:07:04.912784",
     "status": "completed"
    },
    "tags": []
   },
   "source": [
    "# COVID-19 Case Race\n",
    "> A race chart to see rising cases around the world\n",
    "\n",
    "- author: Hargun Oberoi\n",
    "- image: images/covid-overview.png\n",
    "- hide: false\n",
    "- badges: false"
   ]
  },
  {
   "cell_type": "code",
   "execution_count": 1,
   "id": "proof-material",
   "metadata": {
    "execution": {
     "iopub.execute_input": "2021-02-10T12:07:05.034435Z",
     "iopub.status.busy": "2021-02-10T12:07:05.033754Z",
     "iopub.status.idle": "2021-02-10T12:07:05.378083Z",
     "shell.execute_reply": "2021-02-10T12:07:05.378582Z"
    },
    "papermill": {
     "duration": 0.38941,
     "end_time": "2021-02-10T12:07:05.378771",
     "exception": false,
     "start_time": "2021-02-10T12:07:04.989361",
     "status": "completed"
    },
    "tags": []
   },
   "outputs": [],
   "source": [
    "#hide\n",
    "import numpy as np\n",
    "import pandas as pd\n",
    "from jinja2 import Template\n",
    "from IPython.display import HTML"
   ]
  },
  {
   "cell_type": "code",
   "execution_count": 2,
   "id": "developed-terminology",
   "metadata": {
    "execution": {
     "iopub.execute_input": "2021-02-10T12:07:05.456960Z",
     "iopub.status.busy": "2021-02-10T12:07:05.456268Z",
     "iopub.status.idle": "2021-02-10T12:07:05.458123Z",
     "shell.execute_reply": "2021-02-10T12:07:05.458680Z"
    },
    "papermill": {
     "duration": 0.043874,
     "end_time": "2021-02-10T12:07:05.458879",
     "exception": false,
     "start_time": "2021-02-10T12:07:05.415005",
     "status": "completed"
    },
    "tags": []
   },
   "outputs": [],
   "source": [
    "#hide\n",
    "\n",
    "# FETCH\n",
    "base_url = 'https://raw.githubusercontent.com/pratapvardhan/notebooks/master/covid19/'\n",
    "paths = {\n",
    "    'mapping': base_url + 'mapping_countries.csv',\n",
    "    'overview': base_url + 'overview.tpl'\n",
    "}"
   ]
  },
  {
   "cell_type": "code",
   "execution_count": 3,
   "id": "dynamic-saver",
   "metadata": {
    "execution": {
     "iopub.execute_input": "2021-02-10T12:07:05.564314Z",
     "iopub.status.busy": "2021-02-10T12:07:05.563614Z",
     "iopub.status.idle": "2021-02-10T12:07:05.566922Z",
     "shell.execute_reply": "2021-02-10T12:07:05.566275Z"
    },
    "papermill": {
     "duration": 0.065281,
     "end_time": "2021-02-10T12:07:05.567150",
     "exception": false,
     "start_time": "2021-02-10T12:07:05.501869",
     "status": "completed"
    },
    "tags": []
   },
   "outputs": [
    {
     "data": {
      "text/plain": [
       "'https://raw.githubusercontent.com/pratapvardhan/notebooks/master/covid19/mapping_countries.csv'"
      ]
     },
     "execution_count": 3,
     "metadata": {},
     "output_type": "execute_result"
    }
   ],
   "source": [
    "#hide\n",
    "paths['mapping']"
   ]
  },
  {
   "cell_type": "code",
   "execution_count": 4,
   "id": "urban-software",
   "metadata": {
    "execution": {
     "iopub.execute_input": "2021-02-10T12:07:05.647406Z",
     "iopub.status.busy": "2021-02-10T12:07:05.646639Z",
     "iopub.status.idle": "2021-02-10T12:07:05.649141Z",
     "shell.execute_reply": "2021-02-10T12:07:05.648499Z"
    },
    "papermill": {
     "duration": 0.044581,
     "end_time": "2021-02-10T12:07:05.649268",
     "exception": false,
     "start_time": "2021-02-10T12:07:05.604687",
     "status": "completed"
    },
    "tags": []
   },
   "outputs": [],
   "source": [
    "#hide\n",
    "def get_mappings(url):\n",
    "    df = pd.read_csv(url)\n",
    "    return {\n",
    "        'df': df,\n",
    "        'replace.country': dict(df.dropna(subset=['Name']).set_index('Country')['Name']),\n",
    "        'map.continent': dict(df.set_index('Name')['Continent'])\n",
    "    }"
   ]
  },
  {
   "cell_type": "code",
   "execution_count": 5,
   "id": "intimate-machinery",
   "metadata": {
    "execution": {
     "iopub.execute_input": "2021-02-10T12:07:05.725314Z",
     "iopub.status.busy": "2021-02-10T12:07:05.724663Z",
     "iopub.status.idle": "2021-02-10T12:07:05.766274Z",
     "shell.execute_reply": "2021-02-10T12:07:05.766826Z"
    },
    "papermill": {
     "duration": 0.081689,
     "end_time": "2021-02-10T12:07:05.766976",
     "exception": false,
     "start_time": "2021-02-10T12:07:05.685287",
     "status": "completed"
    },
    "tags": []
   },
   "outputs": [],
   "source": [
    "#hide\n",
    "mapping = get_mappings(paths['mapping'])"
   ]
  },
  {
   "cell_type": "code",
   "execution_count": 6,
   "id": "certified-tactics",
   "metadata": {
    "execution": {
     "iopub.execute_input": "2021-02-10T12:07:05.842108Z",
     "iopub.status.busy": "2021-02-10T12:07:05.841520Z",
     "iopub.status.idle": "2021-02-10T12:07:05.844269Z",
     "shell.execute_reply": "2021-02-10T12:07:05.843650Z"
    },
    "papermill": {
     "duration": 0.041077,
     "end_time": "2021-02-10T12:07:05.844401",
     "exception": false,
     "start_time": "2021-02-10T12:07:05.803324",
     "status": "completed"
    },
    "tags": []
   },
   "outputs": [],
   "source": [
    "#hide\n",
    "def get_template(path):\n",
    "    from urllib.parse import urlparse\n",
    "    if bool(urlparse(path).netloc):\n",
    "        from urllib.request import urlopen\n",
    "        return urlopen(path).read().decode('utf8')\n",
    "    return open(path).read()"
   ]
  },
  {
   "cell_type": "code",
   "execution_count": 7,
   "id": "realistic-blast",
   "metadata": {
    "execution": {
     "iopub.execute_input": "2021-02-10T12:07:05.922440Z",
     "iopub.status.busy": "2021-02-10T12:07:05.921679Z",
     "iopub.status.idle": "2021-02-10T12:07:05.923650Z",
     "shell.execute_reply": "2021-02-10T12:07:05.924162Z"
    },
    "papermill": {
     "duration": 0.043912,
     "end_time": "2021-02-10T12:07:05.924320",
     "exception": false,
     "start_time": "2021-02-10T12:07:05.880408",
     "status": "completed"
    },
    "tags": []
   },
   "outputs": [],
   "source": [
    "#hide\n",
    "def get_frame(name):\n",
    "    url = (\n",
    "        'https://raw.githubusercontent.com/CSSEGISandData/COVID-19/master/csse_covid_19_data/'\n",
    "        f'csse_covid_19_time_series/time_series_covid19_{name}_global.csv')\n",
    "    df = pd.read_csv(url)\n",
    "    # rename countries\n",
    "    df['Country/Region'] = df['Country/Region'].replace(mapping['replace.country'])\n",
    "    return df"
   ]
  },
  {
   "cell_type": "code",
   "execution_count": 8,
   "id": "affiliated-characterization",
   "metadata": {
    "execution": {
     "iopub.execute_input": "2021-02-10T12:07:06.000747Z",
     "iopub.status.busy": "2021-02-10T12:07:06.000024Z",
     "iopub.status.idle": "2021-02-10T12:07:06.001984Z",
     "shell.execute_reply": "2021-02-10T12:07:06.002550Z"
    },
    "papermill": {
     "duration": 0.043576,
     "end_time": "2021-02-10T12:07:06.002701",
     "exception": false,
     "start_time": "2021-02-10T12:07:05.959125",
     "status": "completed"
    },
    "tags": []
   },
   "outputs": [],
   "source": [
    "#hide\n",
    "def get_dates(df):\n",
    "    dt_cols = df.columns[~df.columns.isin(['Province/State', 'Country/Region', 'Lat', 'Long'])]\n",
    "    LAST_DATE_I = -1\n",
    "    # sometimes last column may be empty, then go backwards\n",
    "    for i in range(-1, -len(dt_cols), -1):\n",
    "        if not df[dt_cols[i]].fillna(0).eq(0).all():\n",
    "            LAST_DATE_I = i\n",
    "            break\n",
    "    return LAST_DATE_I, dt_cols"
   ]
  },
  {
   "cell_type": "code",
   "execution_count": 9,
   "id": "recent-optimization",
   "metadata": {
    "execution": {
     "iopub.execute_input": "2021-02-10T12:07:06.086357Z",
     "iopub.status.busy": "2021-02-10T12:07:06.085677Z",
     "iopub.status.idle": "2021-02-10T12:07:06.414310Z",
     "shell.execute_reply": "2021-02-10T12:07:06.413747Z"
    },
    "papermill": {
     "duration": 0.372475,
     "end_time": "2021-02-10T12:07:06.414462",
     "exception": false,
     "start_time": "2021-02-10T12:07:06.041987",
     "status": "completed"
    },
    "tags": []
   },
   "outputs": [],
   "source": [
    "#hide\n",
    "COL_REGION = 'Country/Region'\n",
    "# Confirmed, Recovered, Deaths\n",
    "df = get_frame('confirmed')\n",
    "# dft_: timeseries, dfc_: today country agg\n",
    "dft_cases = df\n",
    "dft_deaths = get_frame('deaths')\n",
    "dft_recovered = get_frame('recovered')\n",
    "LAST_DATE_I, dt_cols = get_dates(df)"
   ]
  },
  {
   "cell_type": "code",
   "execution_count": 10,
   "id": "absolute-copper",
   "metadata": {
    "execution": {
     "iopub.execute_input": "2021-02-10T12:07:06.497385Z",
     "iopub.status.busy": "2021-02-10T12:07:06.496776Z",
     "iopub.status.idle": "2021-02-10T12:07:06.499354Z",
     "shell.execute_reply": "2021-02-10T12:07:06.498784Z"
    },
    "papermill": {
     "duration": 0.045647,
     "end_time": "2021-02-10T12:07:06.499474",
     "exception": false,
     "start_time": "2021-02-10T12:07:06.453827",
     "status": "completed"
    },
    "tags": []
   },
   "outputs": [],
   "source": [
    "#hide\n",
    "LAST_DATE_I, dt_cols = get_dates(df)\n",
    "dt_today =dt_cols[LAST_DATE_I]\n",
    "# dt_5day = dt_cols[LAST_DATE_I - 5]\n",
    "dt_yday = dt_cols[LAST_DATE_I - 1]"
   ]
  },
  {
   "cell_type": "code",
   "execution_count": 11,
   "id": "restricted-sheriff",
   "metadata": {
    "execution": {
     "iopub.execute_input": "2021-02-10T12:07:06.579518Z",
     "iopub.status.busy": "2021-02-10T12:07:06.578825Z",
     "iopub.status.idle": "2021-02-10T12:07:06.588573Z",
     "shell.execute_reply": "2021-02-10T12:07:06.589043Z"
    },
    "papermill": {
     "duration": 0.053123,
     "end_time": "2021-02-10T12:07:06.589201",
     "exception": false,
     "start_time": "2021-02-10T12:07:06.536078",
     "status": "completed"
    },
    "tags": []
   },
   "outputs": [],
   "source": [
    "#hide\n",
    "dfc_cases = dft_cases.groupby(COL_REGION)[dt_today].sum()\n",
    "dfc_deaths = dft_deaths.groupby(COL_REGION)[dt_today].sum()\n",
    "# dfp_cases = dft_cases.groupby(COL_REGION)[dt_5day].sum()\n",
    "# dfp_deaths = dft_deaths.groupby(COL_REGION)[dt_5day].sum()\n",
    "dfp_cases = dft_cases.groupby(COL_REGION)[dt_yday].sum()\n",
    "dfp_deaths = dft_deaths.groupby(COL_REGION)[dt_yday].sum()"
   ]
  },
  {
   "cell_type": "code",
   "execution_count": 12,
   "id": "deluxe-hepatitis",
   "metadata": {
    "execution": {
     "iopub.execute_input": "2021-02-10T12:07:06.671029Z",
     "iopub.status.busy": "2021-02-10T12:07:06.670381Z",
     "iopub.status.idle": "2021-02-10T12:07:06.675266Z",
     "shell.execute_reply": "2021-02-10T12:07:06.676424Z"
    },
    "papermill": {
     "duration": 0.051258,
     "end_time": "2021-02-10T12:07:06.676574",
     "exception": false,
     "start_time": "2021-02-10T12:07:06.625316",
     "status": "completed"
    },
    "tags": []
   },
   "outputs": [],
   "source": [
    "#hide\n",
    "df_table = (pd.DataFrame(dict(Cases = dfc_cases, Deaths = dfc_deaths, PCases = dfp_cases, PDeaths = dfp_deaths))\n",
    "            .sort_values(by = ['Cases','Deaths'], ascending = [False, False])\n",
    "            .reset_index())"
   ]
  },
  {
   "cell_type": "code",
   "execution_count": 13,
   "id": "educational-chancellor",
   "metadata": {
    "execution": {
     "iopub.execute_input": "2021-02-10T12:07:06.771538Z",
     "iopub.status.busy": "2021-02-10T12:07:06.770861Z",
     "iopub.status.idle": "2021-02-10T12:07:06.779920Z",
     "shell.execute_reply": "2021-02-10T12:07:06.780482Z"
    },
    "papermill": {
     "duration": 0.06688,
     "end_time": "2021-02-10T12:07:06.780617",
     "exception": false,
     "start_time": "2021-02-10T12:07:06.713737",
     "status": "completed"
    },
    "tags": []
   },
   "outputs": [
    {
     "data": {
      "text/html": [
       "<div>\n",
       "<style scoped>\n",
       "    .dataframe tbody tr th:only-of-type {\n",
       "        vertical-align: middle;\n",
       "    }\n",
       "\n",
       "    .dataframe tbody tr th {\n",
       "        vertical-align: top;\n",
       "    }\n",
       "\n",
       "    .dataframe thead th {\n",
       "        text-align: right;\n",
       "    }\n",
       "</style>\n",
       "<table border=\"1\" class=\"dataframe\">\n",
       "  <thead>\n",
       "    <tr style=\"text-align: right;\">\n",
       "      <th></th>\n",
       "      <th>Country/Region</th>\n",
       "      <th>Cases</th>\n",
       "      <th>Deaths</th>\n",
       "      <th>PCases</th>\n",
       "      <th>PDeaths</th>\n",
       "      <th>Cases (+)</th>\n",
       "      <th>Deaths (+)</th>\n",
       "      <th>Fatality Rate</th>\n",
       "      <th>Continent</th>\n",
       "    </tr>\n",
       "  </thead>\n",
       "  <tbody>\n",
       "    <tr>\n",
       "      <th>0</th>\n",
       "      <td>US</td>\n",
       "      <td>27192455</td>\n",
       "      <td>468203</td>\n",
       "      <td>27097095</td>\n",
       "      <td>465072</td>\n",
       "      <td>95360</td>\n",
       "      <td>3131</td>\n",
       "      <td>1.72</td>\n",
       "      <td>North America</td>\n",
       "    </tr>\n",
       "    <tr>\n",
       "      <th>1</th>\n",
       "      <td>India</td>\n",
       "      <td>10858371</td>\n",
       "      <td>155252</td>\n",
       "      <td>10847304</td>\n",
       "      <td>155158</td>\n",
       "      <td>11067</td>\n",
       "      <td>94</td>\n",
       "      <td>1.43</td>\n",
       "      <td>Asia</td>\n",
       "    </tr>\n",
       "    <tr>\n",
       "      <th>2</th>\n",
       "      <td>Brazil</td>\n",
       "      <td>9599565</td>\n",
       "      <td>233520</td>\n",
       "      <td>9524640</td>\n",
       "      <td>231534</td>\n",
       "      <td>74925</td>\n",
       "      <td>1986</td>\n",
       "      <td>2.43</td>\n",
       "      <td>South America</td>\n",
       "    </tr>\n",
       "    <tr>\n",
       "      <th>3</th>\n",
       "      <td>United Kingdom</td>\n",
       "      <td>3983756</td>\n",
       "      <td>114066</td>\n",
       "      <td>3971315</td>\n",
       "      <td>113014</td>\n",
       "      <td>12441</td>\n",
       "      <td>1052</td>\n",
       "      <td>2.86</td>\n",
       "      <td>Europe</td>\n",
       "    </tr>\n",
       "    <tr>\n",
       "      <th>4</th>\n",
       "      <td>Russia</td>\n",
       "      <td>3953970</td>\n",
       "      <td>76347</td>\n",
       "      <td>3939162</td>\n",
       "      <td>75828</td>\n",
       "      <td>14808</td>\n",
       "      <td>519</td>\n",
       "      <td>1.93</td>\n",
       "      <td>Europe</td>\n",
       "    </tr>\n",
       "  </tbody>\n",
       "</table>\n",
       "</div>"
      ],
      "text/plain": [
       "   Country/Region     Cases  Deaths    PCases  PDeaths  Cases (+)  Deaths (+)  \\\n",
       "0              US  27192455  468203  27097095   465072      95360        3131   \n",
       "1           India  10858371  155252  10847304   155158      11067          94   \n",
       "2          Brazil   9599565  233520   9524640   231534      74925        1986   \n",
       "3  United Kingdom   3983756  114066   3971315   113014      12441        1052   \n",
       "4          Russia   3953970   76347   3939162    75828      14808         519   \n",
       "\n",
       "   Fatality Rate      Continent  \n",
       "0           1.72  North America  \n",
       "1           1.43           Asia  \n",
       "2           2.43  South America  \n",
       "3           2.86         Europe  \n",
       "4           1.93         Europe  "
      ]
     },
     "execution_count": 13,
     "metadata": {},
     "output_type": "execute_result"
    }
   ],
   "source": [
    "#hide\n",
    "for c in 'Cases, Deaths'.split(', '):\n",
    "    df_table[f'{c} (+)'] = (df_table[c] - df_table[f'P{c}']).clip(0)\n",
    "    #Clip ça veut dire, les chiffres negatif sont interdit\n",
    "df_table['Fatality Rate'] = (100* df_table['Deaths']/ df_table['Cases']).round(2)\n",
    "df_table['Continent'] = df_table['Country/Region'].map(mapping['map.continent'])\n",
    "df_table.head(5)"
   ]
  },
  {
   "cell_type": "code",
   "execution_count": 14,
   "id": "aboriginal-bulgaria",
   "metadata": {
    "execution": {
     "iopub.execute_input": "2021-02-10T12:07:06.862689Z",
     "iopub.status.busy": "2021-02-10T12:07:06.862026Z",
     "iopub.status.idle": "2021-02-10T12:07:06.864753Z",
     "shell.execute_reply": "2021-02-10T12:07:06.865285Z"
    },
    "papermill": {
     "duration": 0.049222,
     "end_time": "2021-02-10T12:07:06.865434",
     "exception": false,
     "start_time": "2021-02-10T12:07:06.816212",
     "status": "completed"
    },
    "tags": []
   },
   "outputs": [],
   "source": [
    "#hide\n",
    "#delete problematic countries from table\n",
    "df_table = df_table[~df_table['Country/Region'].isin(['Cape Verde', 'Cruise Ship', 'Kosovo'])]"
   ]
  },
  {
   "cell_type": "code",
   "execution_count": 15,
   "id": "fantastic-effect",
   "metadata": {
    "execution": {
     "iopub.execute_input": "2021-02-10T12:07:06.950525Z",
     "iopub.status.busy": "2021-02-10T12:07:06.949869Z",
     "iopub.status.idle": "2021-02-10T12:07:06.970795Z",
     "shell.execute_reply": "2021-02-10T12:07:06.970296Z"
    },
    "papermill": {
     "duration": 0.068114,
     "end_time": "2021-02-10T12:07:06.970922",
     "exception": false,
     "start_time": "2021-02-10T12:07:06.902808",
     "status": "completed"
    },
    "tags": []
   },
   "outputs": [
    {
     "data": {
      "text/html": [
       "<div>\n",
       "<style scoped>\n",
       "    .dataframe tbody tr th:only-of-type {\n",
       "        vertical-align: middle;\n",
       "    }\n",
       "\n",
       "    .dataframe tbody tr th {\n",
       "        vertical-align: top;\n",
       "    }\n",
       "\n",
       "    .dataframe thead th {\n",
       "        text-align: right;\n",
       "    }\n",
       "</style>\n",
       "<table border=\"1\" class=\"dataframe\">\n",
       "  <thead>\n",
       "    <tr style=\"text-align: right;\">\n",
       "      <th></th>\n",
       "      <th>Country/Region</th>\n",
       "      <th>Cases</th>\n",
       "      <th>Deaths</th>\n",
       "      <th>PCases</th>\n",
       "      <th>PDeaths</th>\n",
       "      <th>Cases (+)</th>\n",
       "      <th>Deaths (+)</th>\n",
       "      <th>Fatality Rate</th>\n",
       "      <th>Continent</th>\n",
       "    </tr>\n",
       "  </thead>\n",
       "  <tbody>\n",
       "    <tr>\n",
       "      <th>0</th>\n",
       "      <td>US</td>\n",
       "      <td>27192455</td>\n",
       "      <td>468203</td>\n",
       "      <td>27097095</td>\n",
       "      <td>465072</td>\n",
       "      <td>95360</td>\n",
       "      <td>3131</td>\n",
       "      <td>1.7</td>\n",
       "      <td>North America</td>\n",
       "    </tr>\n",
       "    <tr>\n",
       "      <th>1</th>\n",
       "      <td>India</td>\n",
       "      <td>10858371</td>\n",
       "      <td>155252</td>\n",
       "      <td>10847304</td>\n",
       "      <td>155158</td>\n",
       "      <td>11067</td>\n",
       "      <td>94</td>\n",
       "      <td>1.4</td>\n",
       "      <td>Asia</td>\n",
       "    </tr>\n",
       "    <tr>\n",
       "      <th>2</th>\n",
       "      <td>Brazil</td>\n",
       "      <td>9599565</td>\n",
       "      <td>233520</td>\n",
       "      <td>9524640</td>\n",
       "      <td>231534</td>\n",
       "      <td>74925</td>\n",
       "      <td>1986</td>\n",
       "      <td>2.4</td>\n",
       "      <td>South America</td>\n",
       "    </tr>\n",
       "    <tr>\n",
       "      <th>3</th>\n",
       "      <td>United Kingdom</td>\n",
       "      <td>3983756</td>\n",
       "      <td>114066</td>\n",
       "      <td>3971315</td>\n",
       "      <td>113014</td>\n",
       "      <td>12441</td>\n",
       "      <td>1052</td>\n",
       "      <td>2.9</td>\n",
       "      <td>Europe</td>\n",
       "    </tr>\n",
       "    <tr>\n",
       "      <th>4</th>\n",
       "      <td>Russia</td>\n",
       "      <td>3953970</td>\n",
       "      <td>76347</td>\n",
       "      <td>3939162</td>\n",
       "      <td>75828</td>\n",
       "      <td>14808</td>\n",
       "      <td>519</td>\n",
       "      <td>1.9</td>\n",
       "      <td>Europe</td>\n",
       "    </tr>\n",
       "  </tbody>\n",
       "</table>\n",
       "</div>"
      ],
      "text/plain": [
       "   Country/Region     Cases  Deaths    PCases  PDeaths  Cases (+)  Deaths (+)  \\\n",
       "0              US  27192455  468203  27097095   465072      95360        3131   \n",
       "1           India  10858371  155252  10847304   155158      11067          94   \n",
       "2          Brazil   9599565  233520   9524640   231534      74925        1986   \n",
       "3  United Kingdom   3983756  114066   3971315   113014      12441        1052   \n",
       "4          Russia   3953970   76347   3939162    75828      14808         519   \n",
       "\n",
       "   Fatality Rate      Continent  \n",
       "0            1.7  North America  \n",
       "1            1.4           Asia  \n",
       "2            2.4  South America  \n",
       "3            2.9         Europe  \n",
       "4            1.9         Europe  "
      ]
     },
     "execution_count": 15,
     "metadata": {},
     "output_type": "execute_result"
    }
   ],
   "source": [
    "#hide\n",
    "df_table = (pd.DataFrame(dict(Cases=dfc_cases, Deaths=dfc_deaths, PCases=dfp_cases, PDeaths=dfp_deaths))\n",
    "             .sort_values(by=['Cases', 'Deaths'], ascending=[False, False])\n",
    "             .reset_index())\n",
    "df_table.rename(columns={'index': 'Country/Region'}, inplace=True)\n",
    "for c in 'Cases, Deaths'.split(', '):\n",
    "    df_table[f'{c} (+)'] = (df_table[c] - df_table[f'P{c}']).clip(0)  # DATA BUG\n",
    "df_table['Fatality Rate'] = (100 * df_table['Deaths'] / df_table['Cases']).round(1)\n",
    "df_table['Continent'] = df_table['Country/Region'].map(mapping['map.continent'])\n",
    "df_table.head(5)"
   ]
  },
  {
   "cell_type": "code",
   "execution_count": 16,
   "id": "fewer-occasion",
   "metadata": {
    "execution": {
     "iopub.execute_input": "2021-02-10T12:07:07.047682Z",
     "iopub.status.busy": "2021-02-10T12:07:07.047006Z",
     "iopub.status.idle": "2021-02-10T12:07:07.049495Z",
     "shell.execute_reply": "2021-02-10T12:07:07.048850Z"
    },
    "papermill": {
     "duration": 0.043845,
     "end_time": "2021-02-10T12:07:07.049632",
     "exception": false,
     "start_time": "2021-02-10T12:07:07.005787",
     "status": "completed"
    },
    "tags": []
   },
   "outputs": [],
   "source": [
    "#hide\n",
    "#delete problematic countries from table\n",
    "df_table = df_table[~df_table['Country/Region'].isin(['Cape Verde', 'Cruise Ship', 'Kosovo'])]"
   ]
  },
  {
   "cell_type": "code",
   "execution_count": 17,
   "id": "related-center",
   "metadata": {
    "execution": {
     "iopub.execute_input": "2021-02-10T12:07:07.151606Z",
     "iopub.status.busy": "2021-02-10T12:07:07.150915Z",
     "iopub.status.idle": "2021-02-10T12:07:07.155024Z",
     "shell.execute_reply": "2021-02-10T12:07:07.154465Z"
    },
    "papermill": {
     "duration": 0.064328,
     "end_time": "2021-02-10T12:07:07.155189",
     "exception": false,
     "start_time": "2021-02-10T12:07:07.090861",
     "status": "completed"
    },
    "tags": []
   },
   "outputs": [],
   "source": [
    "#hide\n",
    "metrics = [df_table.columns[index] for index in [1,2,5,6]]\n",
    "# s_china = df_table[df_table['Country/Region'].eq('China')][metrics].sum().add_prefix('China ')\n",
    "s_us = df_table[df_table['Country/Region'].eq('US')][metrics].sum().add_prefix('US ')\n",
    "s_eu = df_table[df_table['Continent'].eq('Europe')][metrics].sum().add_prefix('EU ')\n",
    "s_ind = df_table[df_table['Country/Region'].eq('India')][metrics].sum().add_prefix('India ')\n",
    "summary = {'updated': pd.to_datetime(dt_today), 'since': pd.to_datetime(dt_yday)}\n",
    "summary = {'updated': pd.to_datetime(dt_today), 'since': pd.to_datetime(dt_yday)}\n",
    "summary = {**summary, **df_table[metrics].sum(), **s_ind, **s_us, **s_eu}"
   ]
  },
  {
   "cell_type": "code",
   "execution_count": 18,
   "id": "engaging-syndrome",
   "metadata": {
    "execution": {
     "iopub.execute_input": "2021-02-10T12:07:07.238173Z",
     "iopub.status.busy": "2021-02-10T12:07:07.237503Z",
     "iopub.status.idle": "2021-02-10T12:07:07.251094Z",
     "shell.execute_reply": "2021-02-10T12:07:07.250529Z"
    },
    "papermill": {
     "duration": 0.057428,
     "end_time": "2021-02-10T12:07:07.251246",
     "exception": false,
     "start_time": "2021-02-10T12:07:07.193818",
     "status": "completed"
    },
    "tags": []
   },
   "outputs": [],
   "source": [
    "#hide\n",
    "dft_ct_new_cases = dft_cases.groupby(COL_REGION)[dt_cols].sum().diff(axis=1).fillna(0).astype(int)"
   ]
  },
  {
   "cell_type": "code",
   "execution_count": 19,
   "id": "neutral-assignment",
   "metadata": {
    "execution": {
     "iopub.execute_input": "2021-02-10T12:07:07.341724Z",
     "iopub.status.busy": "2021-02-10T12:07:07.341066Z",
     "iopub.status.idle": "2021-02-10T12:07:07.343552Z",
     "shell.execute_reply": "2021-02-10T12:07:07.342998Z"
    },
    "papermill": {
     "duration": 0.052252,
     "end_time": "2021-02-10T12:07:07.343686",
     "exception": false,
     "start_time": "2021-02-10T12:07:07.291434",
     "status": "completed"
    },
    "tags": []
   },
   "outputs": [],
   "source": [
    "#hide\n",
    "everydaycases = dft_ct_new_cases.cumsum(axis=1)"
   ]
  },
  {
   "cell_type": "code",
   "execution_count": 20,
   "id": "parliamentary-calgary",
   "metadata": {
    "execution": {
     "iopub.execute_input": "2021-02-10T12:07:07.422070Z",
     "iopub.status.busy": "2021-02-10T12:07:07.421326Z",
     "iopub.status.idle": "2021-02-10T12:07:09.874970Z",
     "shell.execute_reply": "2021-02-10T12:07:09.874394Z"
    },
    "papermill": {
     "duration": 2.49374,
     "end_time": "2021-02-10T12:07:09.875116",
     "exception": false,
     "start_time": "2021-02-10T12:07:07.381376",
     "status": "completed"
    },
    "tags": []
   },
   "outputs": [],
   "source": [
    "#hide\n",
    "import pandas as pd\n",
    "import matplotlib.pyplot as plt\n",
    "import matplotlib.ticker as ticker\n",
    "import matplotlib.animation as animation\n",
    "from IPython.display import HTML"
   ]
  },
  {
   "cell_type": "code",
   "execution_count": 21,
   "id": "lasting-extraction",
   "metadata": {
    "execution": {
     "iopub.execute_input": "2021-02-10T12:07:09.957957Z",
     "iopub.status.busy": "2021-02-10T12:07:09.957309Z",
     "iopub.status.idle": "2021-02-10T12:07:09.962059Z",
     "shell.execute_reply": "2021-02-10T12:07:09.962657Z"
    },
    "papermill": {
     "duration": 0.049984,
     "end_time": "2021-02-10T12:07:09.962813",
     "exception": false,
     "start_time": "2021-02-10T12:07:09.912829",
     "status": "completed"
    },
    "tags": []
   },
   "outputs": [],
   "source": [
    "#hide\n",
    "t = everydaycases.stack()"
   ]
  },
  {
   "cell_type": "code",
   "execution_count": 22,
   "id": "premier-sleeve",
   "metadata": {
    "execution": {
     "iopub.execute_input": "2021-02-10T12:07:10.044150Z",
     "iopub.status.busy": "2021-02-10T12:07:10.043499Z",
     "iopub.status.idle": "2021-02-10T12:07:10.050191Z",
     "shell.execute_reply": "2021-02-10T12:07:10.051326Z"
    },
    "papermill": {
     "duration": 0.049471,
     "end_time": "2021-02-10T12:07:10.051480",
     "exception": false,
     "start_time": "2021-02-10T12:07:10.002009",
     "status": "completed"
    },
    "tags": []
   },
   "outputs": [],
   "source": [
    "#hide\n",
    "g = t.reset_index(['Country/Region'])"
   ]
  },
  {
   "cell_type": "code",
   "execution_count": 23,
   "id": "distributed-pittsburgh",
   "metadata": {
    "execution": {
     "iopub.execute_input": "2021-02-10T12:07:10.130227Z",
     "iopub.status.busy": "2021-02-10T12:07:10.129573Z",
     "iopub.status.idle": "2021-02-10T12:07:10.132738Z",
     "shell.execute_reply": "2021-02-10T12:07:10.131497Z"
    },
    "papermill": {
     "duration": 0.043127,
     "end_time": "2021-02-10T12:07:10.132892",
     "exception": false,
     "start_time": "2021-02-10T12:07:10.089765",
     "status": "completed"
    },
    "tags": []
   },
   "outputs": [],
   "source": [
    "#hide\n",
    "g.index.name = 'date'"
   ]
  },
  {
   "cell_type": "code",
   "execution_count": 24,
   "id": "naked-donor",
   "metadata": {
    "execution": {
     "iopub.execute_input": "2021-02-10T12:07:10.213254Z",
     "iopub.status.busy": "2021-02-10T12:07:10.212601Z",
     "iopub.status.idle": "2021-02-10T12:07:10.215057Z",
     "shell.execute_reply": "2021-02-10T12:07:10.214499Z"
    },
    "papermill": {
     "duration": 0.045127,
     "end_time": "2021-02-10T12:07:10.215194",
     "exception": false,
     "start_time": "2021-02-10T12:07:10.170067",
     "status": "completed"
    },
    "tags": []
   },
   "outputs": [],
   "source": [
    "# #hide\n",
    "# g = g.reset_index(['date'])"
   ]
  },
  {
   "cell_type": "code",
   "execution_count": 25,
   "id": "incomplete-mustang",
   "metadata": {
    "execution": {
     "iopub.execute_input": "2021-02-10T12:07:10.295654Z",
     "iopub.status.busy": "2021-02-10T12:07:10.295009Z",
     "iopub.status.idle": "2021-02-10T12:07:10.296939Z",
     "shell.execute_reply": "2021-02-10T12:07:10.297442Z"
    },
    "papermill": {
     "duration": 0.044715,
     "end_time": "2021-02-10T12:07:10.297592",
     "exception": false,
     "start_time": "2021-02-10T12:07:10.252877",
     "status": "completed"
    },
    "tags": []
   },
   "outputs": [],
   "source": [
    "#hide\n",
    "# g.head()"
   ]
  },
  {
   "cell_type": "code",
   "execution_count": 26,
   "id": "specific-kruger",
   "metadata": {
    "execution": {
     "iopub.execute_input": "2021-02-10T12:07:10.384877Z",
     "iopub.status.busy": "2021-02-10T12:07:10.383458Z",
     "iopub.status.idle": "2021-02-10T12:07:10.392579Z",
     "shell.execute_reply": "2021-02-10T12:07:10.393137Z"
    },
    "papermill": {
     "duration": 0.057037,
     "end_time": "2021-02-10T12:07:10.393302",
     "exception": false,
     "start_time": "2021-02-10T12:07:10.336265",
     "status": "completed"
    },
    "tags": []
   },
   "outputs": [],
   "source": [
    "#hide\n",
    "# g.columns = ['date','country','cases']"
   ]
  },
  {
   "cell_type": "code",
   "execution_count": 27,
   "id": "tender-conversion",
   "metadata": {
    "execution": {
     "iopub.execute_input": "2021-02-10T12:07:10.483693Z",
     "iopub.status.busy": "2021-02-10T12:07:10.483049Z",
     "iopub.status.idle": "2021-02-10T12:07:10.485651Z",
     "shell.execute_reply": "2021-02-10T12:07:10.485100Z"
    },
    "papermill": {
     "duration": 0.044035,
     "end_time": "2021-02-10T12:07:10.485793",
     "exception": false,
     "start_time": "2021-02-10T12:07:10.441758",
     "status": "completed"
    },
    "tags": []
   },
   "outputs": [],
   "source": [
    "#hide\n",
    "# g['continent'] = g.country"
   ]
  },
  {
   "cell_type": "code",
   "execution_count": 28,
   "id": "substantial-wilderness",
   "metadata": {
    "execution": {
     "iopub.execute_input": "2021-02-10T12:07:10.566984Z",
     "iopub.status.busy": "2021-02-10T12:07:10.566357Z",
     "iopub.status.idle": "2021-02-10T12:07:10.568911Z",
     "shell.execute_reply": "2021-02-10T12:07:10.568362Z"
    },
    "papermill": {
     "duration": 0.045048,
     "end_time": "2021-02-10T12:07:10.569035",
     "exception": false,
     "start_time": "2021-02-10T12:07:10.523987",
     "status": "completed"
    },
    "tags": []
   },
   "outputs": [],
   "source": [
    "#hide\n",
    "# cols = list(g.columns.values)"
   ]
  },
  {
   "cell_type": "code",
   "execution_count": 29,
   "id": "solved-farming",
   "metadata": {
    "execution": {
     "iopub.execute_input": "2021-02-10T12:07:10.647486Z",
     "iopub.status.busy": "2021-02-10T12:07:10.646704Z",
     "iopub.status.idle": "2021-02-10T12:07:10.648782Z",
     "shell.execute_reply": "2021-02-10T12:07:10.649221Z"
    },
    "papermill": {
     "duration": 0.042647,
     "end_time": "2021-02-10T12:07:10.649354",
     "exception": false,
     "start_time": "2021-02-10T12:07:10.606707",
     "status": "completed"
    },
    "tags": []
   },
   "outputs": [],
   "source": [
    "#hide\n",
    "# cols.insert(0, cols.pop())"
   ]
  },
  {
   "cell_type": "code",
   "execution_count": 30,
   "id": "executed-adoption",
   "metadata": {
    "execution": {
     "iopub.execute_input": "2021-02-10T12:07:10.724175Z",
     "iopub.status.busy": "2021-02-10T12:07:10.723502Z",
     "iopub.status.idle": "2021-02-10T12:07:10.726661Z",
     "shell.execute_reply": "2021-02-10T12:07:10.725429Z"
    },
    "papermill": {
     "duration": 0.041201,
     "end_time": "2021-02-10T12:07:10.726781",
     "exception": false,
     "start_time": "2021-02-10T12:07:10.685580",
     "status": "completed"
    },
    "tags": []
   },
   "outputs": [],
   "source": [
    "#hide\n",
    "# g = g[cols]"
   ]
  },
  {
   "cell_type": "code",
   "execution_count": 31,
   "id": "subject-dublin",
   "metadata": {
    "execution": {
     "iopub.execute_input": "2021-02-10T12:07:10.807640Z",
     "iopub.status.busy": "2021-02-10T12:07:10.806989Z",
     "iopub.status.idle": "2021-02-10T12:07:10.808852Z",
     "shell.execute_reply": "2021-02-10T12:07:10.809475Z"
    },
    "papermill": {
     "duration": 0.046075,
     "end_time": "2021-02-10T12:07:10.809628",
     "exception": false,
     "start_time": "2021-02-10T12:07:10.763553",
     "status": "completed"
    },
    "tags": []
   },
   "outputs": [],
   "source": [
    "#hide\n",
    "# g['continent'] = g['continent'].map(mapping['map.continent'])"
   ]
  },
  {
   "cell_type": "code",
   "execution_count": 32,
   "id": "freelance-scout",
   "metadata": {
    "execution": {
     "iopub.execute_input": "2021-02-10T12:07:10.899876Z",
     "iopub.status.busy": "2021-02-10T12:07:10.898472Z",
     "iopub.status.idle": "2021-02-10T12:07:10.900843Z",
     "shell.execute_reply": "2021-02-10T12:07:10.901475Z"
    },
    "papermill": {
     "duration": 0.045636,
     "end_time": "2021-02-10T12:07:10.901631",
     "exception": false,
     "start_time": "2021-02-10T12:07:10.855995",
     "status": "completed"
    },
    "tags": []
   },
   "outputs": [],
   "source": [
    "#hide\n",
    "# g.head()"
   ]
  },
  {
   "cell_type": "code",
   "execution_count": 33,
   "id": "limited-engine",
   "metadata": {
    "execution": {
     "iopub.execute_input": "2021-02-10T12:07:11.296740Z",
     "iopub.status.busy": "2021-02-10T12:07:11.296044Z",
     "iopub.status.idle": "2021-02-10T12:07:11.298478Z",
     "shell.execute_reply": "2021-02-10T12:07:11.297916Z"
    },
    "papermill": {
     "duration": 0.357251,
     "end_time": "2021-02-10T12:07:11.298618",
     "exception": false,
     "start_time": "2021-02-10T12:07:10.941367",
     "status": "completed"
    },
    "tags": []
   },
   "outputs": [],
   "source": [
    "# hide\n",
    "# g['date'] = g['date'].astype('datetime64[ns]')"
   ]
  },
  {
   "cell_type": "code",
   "execution_count": 34,
   "id": "sophisticated-supervisor",
   "metadata": {
    "execution": {
     "iopub.execute_input": "2021-02-10T12:07:11.379548Z",
     "iopub.status.busy": "2021-02-10T12:07:11.378903Z",
     "iopub.status.idle": "2021-02-10T12:07:11.380965Z",
     "shell.execute_reply": "2021-02-10T12:07:11.381588Z"
    },
    "papermill": {
     "duration": 0.043234,
     "end_time": "2021-02-10T12:07:11.381759",
     "exception": false,
     "start_time": "2021-02-10T12:07:11.338525",
     "status": "completed"
    },
    "tags": []
   },
   "outputs": [],
   "source": [
    "#hide\n",
    "# g['date'] = g.date.dt.dayofyear"
   ]
  },
  {
   "cell_type": "code",
   "execution_count": 35,
   "id": "inside-dubai",
   "metadata": {
    "execution": {
     "iopub.execute_input": "2021-02-10T12:07:11.465231Z",
     "iopub.status.busy": "2021-02-10T12:07:11.464576Z",
     "iopub.status.idle": "2021-02-10T12:07:11.467038Z",
     "shell.execute_reply": "2021-02-10T12:07:11.466484Z"
    },
    "papermill": {
     "duration": 0.047392,
     "end_time": "2021-02-10T12:07:11.467173",
     "exception": false,
     "start_time": "2021-02-10T12:07:11.419781",
     "status": "completed"
    },
    "tags": []
   },
   "outputs": [],
   "source": [
    "#hide\n",
    "# g = g.rename(columns= {'continent':'group','country':'name','cases':'value'})"
   ]
  },
  {
   "cell_type": "code",
   "execution_count": 36,
   "id": "fleet-motorcycle",
   "metadata": {
    "execution": {
     "iopub.execute_input": "2021-02-10T12:07:11.549216Z",
     "iopub.status.busy": "2021-02-10T12:07:11.548498Z",
     "iopub.status.idle": "2021-02-10T12:07:11.551440Z",
     "shell.execute_reply": "2021-02-10T12:07:11.550326Z"
    },
    "papermill": {
     "duration": 0.046747,
     "end_time": "2021-02-10T12:07:11.551577",
     "exception": false,
     "start_time": "2021-02-10T12:07:11.504830",
     "status": "completed"
    },
    "tags": []
   },
   "outputs": [],
   "source": [
    "#hide\n",
    "# cols = ['name','group','day','value']"
   ]
  },
  {
   "cell_type": "code",
   "execution_count": 37,
   "id": "continued-sleeping",
   "metadata": {
    "execution": {
     "iopub.execute_input": "2021-02-10T12:07:11.630306Z",
     "iopub.status.busy": "2021-02-10T12:07:11.629646Z",
     "iopub.status.idle": "2021-02-10T12:07:11.632791Z",
     "shell.execute_reply": "2021-02-10T12:07:11.631558Z"
    },
    "papermill": {
     "duration": 0.043053,
     "end_time": "2021-02-10T12:07:11.632933",
     "exception": false,
     "start_time": "2021-02-10T12:07:11.589880",
     "status": "completed"
    },
    "tags": []
   },
   "outputs": [],
   "source": [
    "#hide\n",
    "# g.rename(columns= {'date':'day'},inplace = True)"
   ]
  },
  {
   "cell_type": "code",
   "execution_count": 38,
   "id": "major-fight",
   "metadata": {
    "execution": {
     "iopub.execute_input": "2021-02-10T12:07:11.711292Z",
     "iopub.status.busy": "2021-02-10T12:07:11.710635Z",
     "iopub.status.idle": "2021-02-10T12:07:11.712529Z",
     "shell.execute_reply": "2021-02-10T12:07:11.713046Z"
    },
    "papermill": {
     "duration": 0.044509,
     "end_time": "2021-02-10T12:07:11.713201",
     "exception": false,
     "start_time": "2021-02-10T12:07:11.668692",
     "status": "completed"
    },
    "tags": []
   },
   "outputs": [],
   "source": [
    "#hide\n",
    "# g = g[cols]"
   ]
  },
  {
   "cell_type": "code",
   "execution_count": 39,
   "id": "structured-mobile",
   "metadata": {
    "execution": {
     "iopub.execute_input": "2021-02-10T12:07:11.793064Z",
     "iopub.status.busy": "2021-02-10T12:07:11.792412Z",
     "iopub.status.idle": "2021-02-10T12:07:11.794235Z",
     "shell.execute_reply": "2021-02-10T12:07:11.794763Z"
    },
    "papermill": {
     "duration": 0.044405,
     "end_time": "2021-02-10T12:07:11.794918",
     "exception": false,
     "start_time": "2021-02-10T12:07:11.750513",
     "status": "completed"
    },
    "tags": []
   },
   "outputs": [],
   "source": [
    "# #hide\n",
    "# g = g[g.group.notna()]"
   ]
  },
  {
   "cell_type": "code",
   "execution_count": 40,
   "id": "determined-closing",
   "metadata": {
    "execution": {
     "iopub.execute_input": "2021-02-10T12:07:11.873722Z",
     "iopub.status.busy": "2021-02-10T12:07:11.873065Z",
     "iopub.status.idle": "2021-02-10T12:07:11.875513Z",
     "shell.execute_reply": "2021-02-10T12:07:11.874956Z"
    },
    "papermill": {
     "duration": 0.043505,
     "end_time": "2021-02-10T12:07:11.875645",
     "exception": false,
     "start_time": "2021-02-10T12:07:11.832140",
     "status": "completed"
    },
    "tags": []
   },
   "outputs": [],
   "source": [
    "# #hide\n",
    "# colors = dict(zip(\n",
    "#     [\"Oceania\", \"Europe\", \"Asia\", \"South America\", \"Middle East\", \"North America\", \"Africa\"],\n",
    "#     [\"#adb0ff\", \"#ffb3ff\", \"#90d595\", \"#e48381\", \"#aafbff\", \"#f7bb5f\", \"#eafb50\"]\n",
    "# ))\n",
    "# group_lk = g.set_index('name')['group'].to_dict()"
   ]
  },
  {
   "cell_type": "code",
   "execution_count": null,
   "id": "gross-drinking",
   "metadata": {
    "papermill": {
     "duration": 0.038998,
     "end_time": "2021-02-10T12:07:11.952503",
     "exception": false,
     "start_time": "2021-02-10T12:07:11.913505",
     "status": "completed"
    },
    "tags": []
   },
   "outputs": [],
   "source": []
  },
  {
   "cell_type": "code",
   "execution_count": 41,
   "id": "subject-macintosh",
   "metadata": {
    "execution": {
     "iopub.execute_input": "2021-02-10T12:07:12.031801Z",
     "iopub.status.busy": "2021-02-10T12:07:12.031138Z",
     "iopub.status.idle": "2021-02-10T12:07:12.033109Z",
     "shell.execute_reply": "2021-02-10T12:07:12.033716Z"
    },
    "papermill": {
     "duration": 0.042634,
     "end_time": "2021-02-10T12:07:12.033865",
     "exception": false,
     "start_time": "2021-02-10T12:07:11.991231",
     "status": "completed"
    },
    "tags": []
   },
   "outputs": [],
   "source": [
    "# #hide\n",
    "# fig, ax = plt.subplots(figsize=(15, 8))\n",
    "\n",
    "# def draw_barchart(current_day):\n",
    "#     dff = g[g['day'].eq(current_day)].sort_values(by='value', ascending=True).tail(10)\n",
    "#     ax.clear()\n",
    "#     ax.barh(dff['name'], dff['value'], color=[colors[group_lk[x]] for x in dff['name']])\n",
    "#     dx = dff['value'].max() / 200\n",
    "    \n",
    "#     for i, (value, name) in enumerate(zip(dff['value'], dff['name'])):\n",
    "#         ax.text(value-dx, i,     name,           size=14, weight=600, ha='right', va='bottom')\n",
    "#         ax.text(value-dx, i-.25, group_lk[name], size=10, color='#444444', ha='right', va='baseline')\n",
    "#         ax.text(value+dx, i,     f'{value:,.0f}',  size=14, ha='left',  va='center')\n",
    "#     ax.text(1, 0.4, current_day, transform=ax.transAxes, color='#777777', size=46, ha='right', weight=800)\n",
    "#     ax.text(0, 1.06, 'Population (thousands)', transform=ax.transAxes, size=12, color='#777777')\n",
    "#     ax.xaxis.set_major_formatter(ticker.StrMethodFormatter('{x:,.0f}'))\n",
    "#     ax.xaxis.set_ticks_position('top')\n",
    "#     ax.tick_params(axis='x', colors='#777777', labelsize=12)\n",
    "#     ax.set_yticks([])\n",
    "#     ax.margins(0, 0.01)\n",
    "#     ax.grid(which='major', axis='x', linestyle='-')\n",
    "#     ax.set_axisbelow(True)\n",
    "    \n",
    "#     ax.text(0, 1.15, 'Coronavirus',\n",
    "#             transform=ax.transAxes, size=24, weight=600, ha='left', va='top')\n",
    "# #     ax.text(1, 0, 'by @pratapvardhan; credit @jburnmurdoch', transform=ax.transAxes, color='#777777', ha='right',\n",
    "# #             bbox=dict(facecolor='white', alpha=0.8, edgecolor='white'))\n",
    "#     plt.box(False)"
   ]
  },
  {
   "cell_type": "code",
   "execution_count": 42,
   "id": "sexual-wages",
   "metadata": {
    "execution": {
     "iopub.execute_input": "2021-02-10T12:07:12.115748Z",
     "iopub.status.busy": "2021-02-10T12:07:12.115087Z",
     "iopub.status.idle": "2021-02-10T12:07:12.117205Z",
     "shell.execute_reply": "2021-02-10T12:07:12.117877Z"
    },
    "papermill": {
     "duration": 0.043447,
     "end_time": "2021-02-10T12:07:12.118031",
     "exception": false,
     "start_time": "2021-02-10T12:07:12.074584",
     "status": "completed"
    },
    "tags": []
   },
   "outputs": [],
   "source": [
    "# #hide_input\n",
    "# fig, ax = plt.subplots(figsize=(15, 8))\n",
    "# animator = animation.FuncAnimation(fig, draw_barchart, frames=range(g.day.values.min(), g.day.values.max()))\n",
    "# HTML(animator.to_jshtml())\n",
    "# # or use animator.to_html5_video() or animator.save() "
   ]
  },
  {
   "cell_type": "code",
   "execution_count": null,
   "id": "australian-container",
   "metadata": {
    "papermill": {
     "duration": 0.03863,
     "end_time": "2021-02-10T12:07:12.197068",
     "exception": false,
     "start_time": "2021-02-10T12:07:12.158438",
     "status": "completed"
    },
    "tags": []
   },
   "outputs": [],
   "source": []
  },
  {
   "cell_type": "code",
   "execution_count": null,
   "id": "mediterranean-pontiac",
   "metadata": {
    "papermill": {
     "duration": 0.036672,
     "end_time": "2021-02-10T12:07:12.272100",
     "exception": false,
     "start_time": "2021-02-10T12:07:12.235428",
     "status": "completed"
    },
    "tags": []
   },
   "outputs": [],
   "source": []
  },
  {
   "cell_type": "code",
   "execution_count": null,
   "id": "aging-legislature",
   "metadata": {
    "papermill": {
     "duration": 0.037853,
     "end_time": "2021-02-10T12:07:12.347241",
     "exception": false,
     "start_time": "2021-02-10T12:07:12.309388",
     "status": "completed"
    },
    "tags": []
   },
   "outputs": [],
   "source": []
  }
 ],
 "metadata": {
  "kernelspec": {
   "display_name": "Python 3",
   "language": "python",
   "name": "python3"
  },
  "language_info": {
   "codemirror_mode": {
    "name": "ipython",
    "version": 3
   },
   "file_extension": ".py",
   "mimetype": "text/x-python",
   "name": "python",
   "nbconvert_exporter": "python",
   "pygments_lexer": "ipython3",
   "version": "3.6.12"
  },
  "papermill": {
   "duration": 8.942394,
   "end_time": "2021-02-10T12:07:12.691896",
   "environment_variables": {},
   "exception": null,
   "input_path": "2020-03-21-covid19exp.ipynb",
   "output_path": "2020-03-21-covid19exp.ipynb",
   "parameters": {},
   "start_time": "2021-02-10T12:07:03.749502",
   "version": "2.0.0"
  }
 },
 "nbformat": 4,
 "nbformat_minor": 5
}