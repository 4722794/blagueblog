{
 "cells": [
  {
   "cell_type": "markdown",
   "id": "muslim-click",
   "metadata": {
    "papermill": {
     "duration": 0.033873,
     "end_time": "2022-01-23T00:25:53.993907",
     "exception": false,
     "start_time": "2022-01-23T00:25:53.960034",
     "status": "completed"
    },
    "tags": []
   },
   "source": [
    "# COVID-19 Case Race\n",
    "> A race chart to see rising cases around the world\n",
    "\n",
    "- author: Hargun Oberoi\n",
    "- image: images/covid-overview.png\n",
    "- hide: false\n",
    "- badges: false"
   ]
  },
  {
   "cell_type": "code",
   "execution_count": 1,
   "id": "proof-material",
   "metadata": {
    "execution": {
     "iopub.execute_input": "2022-01-23T00:25:54.065718Z",
     "iopub.status.busy": "2022-01-23T00:25:54.065139Z",
     "iopub.status.idle": "2022-01-23T00:25:54.397757Z",
     "shell.execute_reply": "2022-01-23T00:25:54.397210Z"
    },
    "papermill": {
     "duration": 0.373428,
     "end_time": "2022-01-23T00:25:54.397938",
     "exception": false,
     "start_time": "2022-01-23T00:25:54.024510",
     "status": "completed"
    },
    "tags": []
   },
   "outputs": [],
   "source": [
    "#hide\n",
    "import numpy as np\n",
    "import pandas as pd\n",
    "from jinja2 import Template\n",
    "from IPython.display import HTML"
   ]
  },
  {
   "cell_type": "code",
   "execution_count": 2,
   "id": "developed-terminology",
   "metadata": {
    "execution": {
     "iopub.execute_input": "2022-01-23T00:25:54.464815Z",
     "iopub.status.busy": "2022-01-23T00:25:54.464256Z",
     "iopub.status.idle": "2022-01-23T00:25:54.466371Z",
     "shell.execute_reply": "2022-01-23T00:25:54.465822Z"
    },
    "papermill": {
     "duration": 0.037401,
     "end_time": "2022-01-23T00:25:54.466485",
     "exception": false,
     "start_time": "2022-01-23T00:25:54.429084",
     "status": "completed"
    },
    "tags": []
   },
   "outputs": [],
   "source": [
    "#hide\n",
    "\n",
    "# FETCH\n",
    "base_url = 'https://raw.githubusercontent.com/pratapvardhan/notebooks/master/covid19/'\n",
    "paths = {\n",
    "    'mapping': base_url + 'mapping_countries.csv',\n",
    "    'overview': base_url + 'overview.tpl'\n",
    "}"
   ]
  },
  {
   "cell_type": "code",
   "execution_count": 3,
   "id": "dynamic-saver",
   "metadata": {
    "execution": {
     "iopub.execute_input": "2022-01-23T00:25:54.535958Z",
     "iopub.status.busy": "2022-01-23T00:25:54.535409Z",
     "iopub.status.idle": "2022-01-23T00:25:54.538598Z",
     "shell.execute_reply": "2022-01-23T00:25:54.538140Z"
    },
    "papermill": {
     "duration": 0.042175,
     "end_time": "2022-01-23T00:25:54.538716",
     "exception": false,
     "start_time": "2022-01-23T00:25:54.496541",
     "status": "completed"
    },
    "tags": []
   },
   "outputs": [
    {
     "data": {
      "text/plain": [
       "'https://raw.githubusercontent.com/pratapvardhan/notebooks/master/covid19/mapping_countries.csv'"
      ]
     },
     "execution_count": 3,
     "metadata": {},
     "output_type": "execute_result"
    }
   ],
   "source": [
    "#hide\n",
    "paths['mapping']"
   ]
  },
  {
   "cell_type": "code",
   "execution_count": 4,
   "id": "urban-software",
   "metadata": {
    "execution": {
     "iopub.execute_input": "2022-01-23T00:25:54.604860Z",
     "iopub.status.busy": "2022-01-23T00:25:54.604222Z",
     "iopub.status.idle": "2022-01-23T00:25:54.608453Z",
     "shell.execute_reply": "2022-01-23T00:25:54.607970Z"
    },
    "papermill": {
     "duration": 0.03954,
     "end_time": "2022-01-23T00:25:54.608586",
     "exception": false,
     "start_time": "2022-01-23T00:25:54.569046",
     "status": "completed"
    },
    "tags": []
   },
   "outputs": [],
   "source": [
    "#hide\n",
    "def get_mappings(url):\n",
    "    df = pd.read_csv(url)\n",
    "    return {\n",
    "        'df': df,\n",
    "        'replace.country': dict(df.dropna(subset=['Name']).set_index('Country')['Name']),\n",
    "        'map.continent': dict(df.set_index('Name')['Continent'])\n",
    "    }"
   ]
  },
  {
   "cell_type": "code",
   "execution_count": 5,
   "id": "intimate-machinery",
   "metadata": {
    "execution": {
     "iopub.execute_input": "2022-01-23T00:25:54.676620Z",
     "iopub.status.busy": "2022-01-23T00:25:54.676088Z",
     "iopub.status.idle": "2022-01-23T00:25:54.742223Z",
     "shell.execute_reply": "2022-01-23T00:25:54.741589Z"
    },
    "papermill": {
     "duration": 0.102807,
     "end_time": "2022-01-23T00:25:54.742384",
     "exception": false,
     "start_time": "2022-01-23T00:25:54.639577",
     "status": "completed"
    },
    "tags": []
   },
   "outputs": [],
   "source": [
    "#hide\n",
    "mapping = get_mappings(paths['mapping'])"
   ]
  },
  {
   "cell_type": "code",
   "execution_count": 6,
   "id": "certified-tactics",
   "metadata": {
    "execution": {
     "iopub.execute_input": "2022-01-23T00:25:54.810577Z",
     "iopub.status.busy": "2022-01-23T00:25:54.810019Z",
     "iopub.status.idle": "2022-01-23T00:25:54.811915Z",
     "shell.execute_reply": "2022-01-23T00:25:54.812452Z"
    },
    "papermill": {
     "duration": 0.038511,
     "end_time": "2022-01-23T00:25:54.812610",
     "exception": false,
     "start_time": "2022-01-23T00:25:54.774099",
     "status": "completed"
    },
    "tags": []
   },
   "outputs": [],
   "source": [
    "#hide\n",
    "def get_template(path):\n",
    "    from urllib.parse import urlparse\n",
    "    if bool(urlparse(path).netloc):\n",
    "        from urllib.request import urlopen\n",
    "        return urlopen(path).read().decode('utf8')\n",
    "    return open(path).read()"
   ]
  },
  {
   "cell_type": "code",
   "execution_count": 7,
   "id": "realistic-blast",
   "metadata": {
    "execution": {
     "iopub.execute_input": "2022-01-23T00:25:54.882366Z",
     "iopub.status.busy": "2022-01-23T00:25:54.881558Z",
     "iopub.status.idle": "2022-01-23T00:25:54.884939Z",
     "shell.execute_reply": "2022-01-23T00:25:54.884430Z"
    },
    "papermill": {
     "duration": 0.041012,
     "end_time": "2022-01-23T00:25:54.885071",
     "exception": false,
     "start_time": "2022-01-23T00:25:54.844059",
     "status": "completed"
    },
    "tags": []
   },
   "outputs": [],
   "source": [
    "#hide\n",
    "def get_frame(name):\n",
    "    url = (\n",
    "        'https://raw.githubusercontent.com/CSSEGISandData/COVID-19/master/csse_covid_19_data/'\n",
    "        f'csse_covid_19_time_series/time_series_covid19_{name}_global.csv')\n",
    "    df = pd.read_csv(url)\n",
    "    # rename countries\n",
    "    df['Country/Region'] = df['Country/Region'].replace(mapping['replace.country'])\n",
    "    return df"
   ]
  },
  {
   "cell_type": "code",
   "execution_count": 8,
   "id": "affiliated-characterization",
   "metadata": {
    "execution": {
     "iopub.execute_input": "2022-01-23T00:25:54.954008Z",
     "iopub.status.busy": "2022-01-23T00:25:54.953429Z",
     "iopub.status.idle": "2022-01-23T00:25:54.955375Z",
     "shell.execute_reply": "2022-01-23T00:25:54.955788Z"
    },
    "papermill": {
     "duration": 0.039428,
     "end_time": "2022-01-23T00:25:54.955925",
     "exception": false,
     "start_time": "2022-01-23T00:25:54.916497",
     "status": "completed"
    },
    "tags": []
   },
   "outputs": [],
   "source": [
    "#hide\n",
    "def get_dates(df):\n",
    "    dt_cols = df.columns[~df.columns.isin(['Province/State', 'Country/Region', 'Lat', 'Long'])]\n",
    "    LAST_DATE_I = -1\n",
    "    # sometimes last column may be empty, then go backwards\n",
    "    for i in range(-1, -len(dt_cols), -1):\n",
    "        if not df[dt_cols[i]].fillna(0).eq(0).all():\n",
    "            LAST_DATE_I = i\n",
    "            break\n",
    "    return LAST_DATE_I, dt_cols"
   ]
  },
  {
   "cell_type": "code",
   "execution_count": 9,
   "id": "recent-optimization",
   "metadata": {
    "execution": {
     "iopub.execute_input": "2022-01-23T00:25:55.030000Z",
     "iopub.status.busy": "2022-01-23T00:25:55.029439Z",
     "iopub.status.idle": "2022-01-23T00:25:55.640499Z",
     "shell.execute_reply": "2022-01-23T00:25:55.639430Z"
    },
    "papermill": {
     "duration": 0.653222,
     "end_time": "2022-01-23T00:25:55.640636",
     "exception": false,
     "start_time": "2022-01-23T00:25:54.987414",
     "status": "completed"
    },
    "tags": []
   },
   "outputs": [],
   "source": [
    "#hide\n",
    "COL_REGION = 'Country/Region'\n",
    "# Confirmed, Recovered, Deaths\n",
    "df = get_frame('confirmed')\n",
    "# dft_: timeseries, dfc_: today country agg\n",
    "dft_cases = df\n",
    "dft_deaths = get_frame('deaths')\n",
    "dft_recovered = get_frame('recovered')\n",
    "LAST_DATE_I, dt_cols = get_dates(df)"
   ]
  },
  {
   "cell_type": "code",
   "execution_count": 10,
   "id": "absolute-copper",
   "metadata": {
    "execution": {
     "iopub.execute_input": "2022-01-23T00:25:55.707202Z",
     "iopub.status.busy": "2022-01-23T00:25:55.706627Z",
     "iopub.status.idle": "2022-01-23T00:25:55.708904Z",
     "shell.execute_reply": "2022-01-23T00:25:55.708332Z"
    },
    "papermill": {
     "duration": 0.037929,
     "end_time": "2022-01-23T00:25:55.709023",
     "exception": false,
     "start_time": "2022-01-23T00:25:55.671094",
     "status": "completed"
    },
    "tags": []
   },
   "outputs": [],
   "source": [
    "#hide\n",
    "LAST_DATE_I, dt_cols = get_dates(df)\n",
    "dt_today =dt_cols[LAST_DATE_I]\n",
    "# dt_5day = dt_cols[LAST_DATE_I - 5]\n",
    "dt_yday = dt_cols[LAST_DATE_I - 1]"
   ]
  },
  {
   "cell_type": "code",
   "execution_count": 11,
   "id": "restricted-sheriff",
   "metadata": {
    "execution": {
     "iopub.execute_input": "2022-01-23T00:25:55.775789Z",
     "iopub.status.busy": "2022-01-23T00:25:55.775247Z",
     "iopub.status.idle": "2022-01-23T00:25:55.782718Z",
     "shell.execute_reply": "2022-01-23T00:25:55.782290Z"
    },
    "papermill": {
     "duration": 0.042953,
     "end_time": "2022-01-23T00:25:55.782841",
     "exception": false,
     "start_time": "2022-01-23T00:25:55.739888",
     "status": "completed"
    },
    "tags": []
   },
   "outputs": [],
   "source": [
    "#hide\n",
    "dfc_cases = dft_cases.groupby(COL_REGION)[dt_today].sum()\n",
    "dfc_deaths = dft_deaths.groupby(COL_REGION)[dt_today].sum()\n",
    "# dfp_cases = dft_cases.groupby(COL_REGION)[dt_5day].sum()\n",
    "# dfp_deaths = dft_deaths.groupby(COL_REGION)[dt_5day].sum()\n",
    "dfp_cases = dft_cases.groupby(COL_REGION)[dt_yday].sum()\n",
    "dfp_deaths = dft_deaths.groupby(COL_REGION)[dt_yday].sum()"
   ]
  },
  {
   "cell_type": "code",
   "execution_count": 12,
   "id": "deluxe-hepatitis",
   "metadata": {
    "execution": {
     "iopub.execute_input": "2022-01-23T00:25:55.850137Z",
     "iopub.status.busy": "2022-01-23T00:25:55.849569Z",
     "iopub.status.idle": "2022-01-23T00:25:55.853721Z",
     "shell.execute_reply": "2022-01-23T00:25:55.853296Z"
    },
    "papermill": {
     "duration": 0.040621,
     "end_time": "2022-01-23T00:25:55.853869",
     "exception": false,
     "start_time": "2022-01-23T00:25:55.813248",
     "status": "completed"
    },
    "tags": []
   },
   "outputs": [],
   "source": [
    "#hide\n",
    "df_table = (pd.DataFrame(dict(Cases = dfc_cases, Deaths = dfc_deaths, PCases = dfp_cases, PDeaths = dfp_deaths))\n",
    "            .sort_values(by = ['Cases','Deaths'], ascending = [False, False])\n",
    "            .reset_index())"
   ]
  },
  {
   "cell_type": "code",
   "execution_count": 13,
   "id": "educational-chancellor",
   "metadata": {
    "execution": {
     "iopub.execute_input": "2022-01-23T00:25:55.937800Z",
     "iopub.status.busy": "2022-01-23T00:25:55.933336Z",
     "iopub.status.idle": "2022-01-23T00:25:55.940478Z",
     "shell.execute_reply": "2022-01-23T00:25:55.941088Z"
    },
    "papermill": {
     "duration": 0.057248,
     "end_time": "2022-01-23T00:25:55.941231",
     "exception": false,
     "start_time": "2022-01-23T00:25:55.883983",
     "status": "completed"
    },
    "tags": []
   },
   "outputs": [
    {
     "data": {
      "text/html": [
       "<div>\n",
       "<style scoped>\n",
       "    .dataframe tbody tr th:only-of-type {\n",
       "        vertical-align: middle;\n",
       "    }\n",
       "\n",
       "    .dataframe tbody tr th {\n",
       "        vertical-align: top;\n",
       "    }\n",
       "\n",
       "    .dataframe thead th {\n",
       "        text-align: right;\n",
       "    }\n",
       "</style>\n",
       "<table border=\"1\" class=\"dataframe\">\n",
       "  <thead>\n",
       "    <tr style=\"text-align: right;\">\n",
       "      <th></th>\n",
       "      <th>Country/Region</th>\n",
       "      <th>Cases</th>\n",
       "      <th>Deaths</th>\n",
       "      <th>PCases</th>\n",
       "      <th>PDeaths</th>\n",
       "      <th>Cases (+)</th>\n",
       "      <th>Deaths (+)</th>\n",
       "      <th>Fatality Rate</th>\n",
       "      <th>Continent</th>\n",
       "    </tr>\n",
       "  </thead>\n",
       "  <tbody>\n",
       "    <tr>\n",
       "      <th>0</th>\n",
       "      <td>US</td>\n",
       "      <td>70209840</td>\n",
       "      <td>864556</td>\n",
       "      <td>69329860</td>\n",
       "      <td>860989</td>\n",
       "      <td>879980</td>\n",
       "      <td>3567</td>\n",
       "      <td>1.23</td>\n",
       "      <td>North America</td>\n",
       "    </tr>\n",
       "    <tr>\n",
       "      <th>1</th>\n",
       "      <td>India</td>\n",
       "      <td>38903731</td>\n",
       "      <td>488884</td>\n",
       "      <td>38566027</td>\n",
       "      <td>488396</td>\n",
       "      <td>337704</td>\n",
       "      <td>488</td>\n",
       "      <td>1.26</td>\n",
       "      <td>Asia</td>\n",
       "    </tr>\n",
       "    <tr>\n",
       "      <th>2</th>\n",
       "      <td>Brazil</td>\n",
       "      <td>23766499</td>\n",
       "      <td>622875</td>\n",
       "      <td>23595178</td>\n",
       "      <td>622476</td>\n",
       "      <td>171321</td>\n",
       "      <td>399</td>\n",
       "      <td>2.62</td>\n",
       "      <td>South America</td>\n",
       "    </tr>\n",
       "    <tr>\n",
       "      <th>3</th>\n",
       "      <td>France</td>\n",
       "      <td>16116748</td>\n",
       "      <td>129338</td>\n",
       "      <td>15715329</td>\n",
       "      <td>129105</td>\n",
       "      <td>401419</td>\n",
       "      <td>233</td>\n",
       "      <td>0.80</td>\n",
       "      <td>Europe</td>\n",
       "    </tr>\n",
       "    <tr>\n",
       "      <th>4</th>\n",
       "      <td>United Kingdom</td>\n",
       "      <td>15814617</td>\n",
       "      <td>154001</td>\n",
       "      <td>15718193</td>\n",
       "      <td>153710</td>\n",
       "      <td>96424</td>\n",
       "      <td>291</td>\n",
       "      <td>0.97</td>\n",
       "      <td>Europe</td>\n",
       "    </tr>\n",
       "  </tbody>\n",
       "</table>\n",
       "</div>"
      ],
      "text/plain": [
       "   Country/Region     Cases  Deaths    PCases  PDeaths  Cases (+)  Deaths (+)  \\\n",
       "0              US  70209840  864556  69329860   860989     879980        3567   \n",
       "1           India  38903731  488884  38566027   488396     337704         488   \n",
       "2          Brazil  23766499  622875  23595178   622476     171321         399   \n",
       "3          France  16116748  129338  15715329   129105     401419         233   \n",
       "4  United Kingdom  15814617  154001  15718193   153710      96424         291   \n",
       "\n",
       "   Fatality Rate      Continent  \n",
       "0           1.23  North America  \n",
       "1           1.26           Asia  \n",
       "2           2.62  South America  \n",
       "3           0.80         Europe  \n",
       "4           0.97         Europe  "
      ]
     },
     "execution_count": 13,
     "metadata": {},
     "output_type": "execute_result"
    }
   ],
   "source": [
    "#hide\n",
    "for c in 'Cases, Deaths'.split(', '):\n",
    "    df_table[f'{c} (+)'] = (df_table[c] - df_table[f'P{c}']).clip(0)\n",
    "    #Clip ça veut dire, les chiffres negatif sont interdit\n",
    "df_table['Fatality Rate'] = (100* df_table['Deaths']/ df_table['Cases']).round(2)\n",
    "df_table['Continent'] = df_table['Country/Region'].map(mapping['map.continent'])\n",
    "df_table.head(5)"
   ]
  },
  {
   "cell_type": "code",
   "execution_count": 14,
   "id": "aboriginal-bulgaria",
   "metadata": {
    "execution": {
     "iopub.execute_input": "2022-01-23T00:25:56.008776Z",
     "iopub.status.busy": "2022-01-23T00:25:56.008173Z",
     "iopub.status.idle": "2022-01-23T00:25:56.009644Z",
     "shell.execute_reply": "2022-01-23T00:25:56.010052Z"
    },
    "papermill": {
     "duration": 0.038128,
     "end_time": "2022-01-23T00:25:56.010190",
     "exception": false,
     "start_time": "2022-01-23T00:25:55.972062",
     "status": "completed"
    },
    "tags": []
   },
   "outputs": [],
   "source": [
    "#hide\n",
    "#delete problematic countries from table\n",
    "df_table = df_table[~df_table['Country/Region'].isin(['Cape Verde', 'Cruise Ship', 'Kosovo'])]"
   ]
  },
  {
   "cell_type": "code",
   "execution_count": 15,
   "id": "fantastic-effect",
   "metadata": {
    "execution": {
     "iopub.execute_input": "2022-01-23T00:25:56.079757Z",
     "iopub.status.busy": "2022-01-23T00:25:56.079225Z",
     "iopub.status.idle": "2022-01-23T00:25:56.098960Z",
     "shell.execute_reply": "2022-01-23T00:25:56.098479Z"
    },
    "papermill": {
     "duration": 0.058441,
     "end_time": "2022-01-23T00:25:56.099094",
     "exception": false,
     "start_time": "2022-01-23T00:25:56.040653",
     "status": "completed"
    },
    "tags": []
   },
   "outputs": [
    {
     "data": {
      "text/html": [
       "<div>\n",
       "<style scoped>\n",
       "    .dataframe tbody tr th:only-of-type {\n",
       "        vertical-align: middle;\n",
       "    }\n",
       "\n",
       "    .dataframe tbody tr th {\n",
       "        vertical-align: top;\n",
       "    }\n",
       "\n",
       "    .dataframe thead th {\n",
       "        text-align: right;\n",
       "    }\n",
       "</style>\n",
       "<table border=\"1\" class=\"dataframe\">\n",
       "  <thead>\n",
       "    <tr style=\"text-align: right;\">\n",
       "      <th></th>\n",
       "      <th>Country/Region</th>\n",
       "      <th>Cases</th>\n",
       "      <th>Deaths</th>\n",
       "      <th>PCases</th>\n",
       "      <th>PDeaths</th>\n",
       "      <th>Cases (+)</th>\n",
       "      <th>Deaths (+)</th>\n",
       "      <th>Fatality Rate</th>\n",
       "      <th>Continent</th>\n",
       "    </tr>\n",
       "  </thead>\n",
       "  <tbody>\n",
       "    <tr>\n",
       "      <th>0</th>\n",
       "      <td>US</td>\n",
       "      <td>70209840</td>\n",
       "      <td>864556</td>\n",
       "      <td>69329860</td>\n",
       "      <td>860989</td>\n",
       "      <td>879980</td>\n",
       "      <td>3567</td>\n",
       "      <td>1.2</td>\n",
       "      <td>North America</td>\n",
       "    </tr>\n",
       "    <tr>\n",
       "      <th>1</th>\n",
       "      <td>India</td>\n",
       "      <td>38903731</td>\n",
       "      <td>488884</td>\n",
       "      <td>38566027</td>\n",
       "      <td>488396</td>\n",
       "      <td>337704</td>\n",
       "      <td>488</td>\n",
       "      <td>1.3</td>\n",
       "      <td>Asia</td>\n",
       "    </tr>\n",
       "    <tr>\n",
       "      <th>2</th>\n",
       "      <td>Brazil</td>\n",
       "      <td>23766499</td>\n",
       "      <td>622875</td>\n",
       "      <td>23595178</td>\n",
       "      <td>622476</td>\n",
       "      <td>171321</td>\n",
       "      <td>399</td>\n",
       "      <td>2.6</td>\n",
       "      <td>South America</td>\n",
       "    </tr>\n",
       "    <tr>\n",
       "      <th>3</th>\n",
       "      <td>France</td>\n",
       "      <td>16116748</td>\n",
       "      <td>129338</td>\n",
       "      <td>15715329</td>\n",
       "      <td>129105</td>\n",
       "      <td>401419</td>\n",
       "      <td>233</td>\n",
       "      <td>0.8</td>\n",
       "      <td>Europe</td>\n",
       "    </tr>\n",
       "    <tr>\n",
       "      <th>4</th>\n",
       "      <td>United Kingdom</td>\n",
       "      <td>15814617</td>\n",
       "      <td>154001</td>\n",
       "      <td>15718193</td>\n",
       "      <td>153710</td>\n",
       "      <td>96424</td>\n",
       "      <td>291</td>\n",
       "      <td>1.0</td>\n",
       "      <td>Europe</td>\n",
       "    </tr>\n",
       "  </tbody>\n",
       "</table>\n",
       "</div>"
      ],
      "text/plain": [
       "   Country/Region     Cases  Deaths    PCases  PDeaths  Cases (+)  Deaths (+)  \\\n",
       "0              US  70209840  864556  69329860   860989     879980        3567   \n",
       "1           India  38903731  488884  38566027   488396     337704         488   \n",
       "2          Brazil  23766499  622875  23595178   622476     171321         399   \n",
       "3          France  16116748  129338  15715329   129105     401419         233   \n",
       "4  United Kingdom  15814617  154001  15718193   153710      96424         291   \n",
       "\n",
       "   Fatality Rate      Continent  \n",
       "0            1.2  North America  \n",
       "1            1.3           Asia  \n",
       "2            2.6  South America  \n",
       "3            0.8         Europe  \n",
       "4            1.0         Europe  "
      ]
     },
     "execution_count": 15,
     "metadata": {},
     "output_type": "execute_result"
    }
   ],
   "source": [
    "#hide\n",
    "df_table = (pd.DataFrame(dict(Cases=dfc_cases, Deaths=dfc_deaths, PCases=dfp_cases, PDeaths=dfp_deaths))\n",
    "             .sort_values(by=['Cases', 'Deaths'], ascending=[False, False])\n",
    "             .reset_index())\n",
    "df_table.rename(columns={'index': 'Country/Region'}, inplace=True)\n",
    "for c in 'Cases, Deaths'.split(', '):\n",
    "    df_table[f'{c} (+)'] = (df_table[c] - df_table[f'P{c}']).clip(0)  # DATA BUG\n",
    "df_table['Fatality Rate'] = (100 * df_table['Deaths'] / df_table['Cases']).round(1)\n",
    "df_table['Continent'] = df_table['Country/Region'].map(mapping['map.continent'])\n",
    "df_table.head(5)"
   ]
  },
  {
   "cell_type": "code",
   "execution_count": 16,
   "id": "fewer-occasion",
   "metadata": {
    "execution": {
     "iopub.execute_input": "2022-01-23T00:25:56.167887Z",
     "iopub.status.busy": "2022-01-23T00:25:56.167378Z",
     "iopub.status.idle": "2022-01-23T00:25:56.169515Z",
     "shell.execute_reply": "2022-01-23T00:25:56.169054Z"
    },
    "papermill": {
     "duration": 0.038902,
     "end_time": "2022-01-23T00:25:56.169618",
     "exception": false,
     "start_time": "2022-01-23T00:25:56.130716",
     "status": "completed"
    },
    "tags": []
   },
   "outputs": [],
   "source": [
    "#hide\n",
    "#delete problematic countries from table\n",
    "df_table = df_table[~df_table['Country/Region'].isin(['Cape Verde', 'Cruise Ship', 'Kosovo'])]"
   ]
  },
  {
   "cell_type": "code",
   "execution_count": 17,
   "id": "related-center",
   "metadata": {
    "execution": {
     "iopub.execute_input": "2022-01-23T00:25:56.242158Z",
     "iopub.status.busy": "2022-01-23T00:25:56.241563Z",
     "iopub.status.idle": "2022-01-23T00:25:56.244362Z",
     "shell.execute_reply": "2022-01-23T00:25:56.243931Z"
    },
    "papermill": {
     "duration": 0.047372,
     "end_time": "2022-01-23T00:25:56.244483",
     "exception": false,
     "start_time": "2022-01-23T00:25:56.197111",
     "status": "completed"
    },
    "tags": []
   },
   "outputs": [],
   "source": [
    "#hide\n",
    "metrics = [df_table.columns[index] for index in [1,2,5,6]]\n",
    "# s_china = df_table[df_table['Country/Region'].eq('China')][metrics].sum().add_prefix('China ')\n",
    "s_us = df_table[df_table['Country/Region'].eq('US')][metrics].sum().add_prefix('US ')\n",
    "s_eu = df_table[df_table['Continent'].eq('Europe')][metrics].sum().add_prefix('EU ')\n",
    "s_ind = df_table[df_table['Country/Region'].eq('India')][metrics].sum().add_prefix('India ')\n",
    "summary = {'updated': pd.to_datetime(dt_today), 'since': pd.to_datetime(dt_yday)}\n",
    "summary = {'updated': pd.to_datetime(dt_today), 'since': pd.to_datetime(dt_yday)}\n",
    "summary = {**summary, **df_table[metrics].sum(), **s_ind, **s_us, **s_eu}"
   ]
  },
  {
   "cell_type": "code",
   "execution_count": 18,
   "id": "engaging-syndrome",
   "metadata": {
    "execution": {
     "iopub.execute_input": "2022-01-23T00:25:56.312325Z",
     "iopub.status.busy": "2022-01-23T00:25:56.311806Z",
     "iopub.status.idle": "2022-01-23T00:25:56.327917Z",
     "shell.execute_reply": "2022-01-23T00:25:56.327488Z"
    },
    "papermill": {
     "duration": 0.052218,
     "end_time": "2022-01-23T00:25:56.328038",
     "exception": false,
     "start_time": "2022-01-23T00:25:56.275820",
     "status": "completed"
    },
    "tags": []
   },
   "outputs": [],
   "source": [
    "#hide\n",
    "dft_ct_new_cases = dft_cases.groupby(COL_REGION)[dt_cols].sum().diff(axis=1).fillna(0).astype(int)"
   ]
  },
  {
   "cell_type": "code",
   "execution_count": 19,
   "id": "neutral-assignment",
   "metadata": {
    "execution": {
     "iopub.execute_input": "2022-01-23T00:25:56.397290Z",
     "iopub.status.busy": "2022-01-23T00:25:56.396608Z",
     "iopub.status.idle": "2022-01-23T00:25:56.398212Z",
     "shell.execute_reply": "2022-01-23T00:25:56.398610Z"
    },
    "papermill": {
     "duration": 0.039483,
     "end_time": "2022-01-23T00:25:56.398750",
     "exception": false,
     "start_time": "2022-01-23T00:25:56.359267",
     "status": "completed"
    },
    "tags": []
   },
   "outputs": [],
   "source": [
    "#hide\n",
    "everydaycases = dft_ct_new_cases.cumsum(axis=1)"
   ]
  },
  {
   "cell_type": "code",
   "execution_count": 20,
   "id": "parliamentary-calgary",
   "metadata": {
    "execution": {
     "iopub.execute_input": "2022-01-23T00:25:56.475650Z",
     "iopub.status.busy": "2022-01-23T00:25:56.475102Z",
     "iopub.status.idle": "2022-01-23T00:25:57.094977Z",
     "shell.execute_reply": "2022-01-23T00:25:57.093894Z"
    },
    "papermill": {
     "duration": 0.659144,
     "end_time": "2022-01-23T00:25:57.095108",
     "exception": false,
     "start_time": "2022-01-23T00:25:56.435964",
     "status": "completed"
    },
    "tags": []
   },
   "outputs": [],
   "source": [
    "#hide\n",
    "import pandas as pd\n",
    "import matplotlib.pyplot as plt\n",
    "import matplotlib.ticker as ticker\n",
    "import matplotlib.animation as animation\n",
    "from IPython.display import HTML"
   ]
  },
  {
   "cell_type": "code",
   "execution_count": 21,
   "id": "lasting-extraction",
   "metadata": {
    "execution": {
     "iopub.execute_input": "2022-01-23T00:25:57.163602Z",
     "iopub.status.busy": "2022-01-23T00:25:57.163035Z",
     "iopub.status.idle": "2022-01-23T00:25:57.168851Z",
     "shell.execute_reply": "2022-01-23T00:25:57.168389Z"
    },
    "papermill": {
     "duration": 0.042677,
     "end_time": "2022-01-23T00:25:57.168962",
     "exception": false,
     "start_time": "2022-01-23T00:25:57.126285",
     "status": "completed"
    },
    "tags": []
   },
   "outputs": [],
   "source": [
    "#hide\n",
    "t = everydaycases.stack()"
   ]
  },
  {
   "cell_type": "code",
   "execution_count": 22,
   "id": "premier-sleeve",
   "metadata": {
    "execution": {
     "iopub.execute_input": "2022-01-23T00:25:57.239757Z",
     "iopub.status.busy": "2022-01-23T00:25:57.239214Z",
     "iopub.status.idle": "2022-01-23T00:25:57.250136Z",
     "shell.execute_reply": "2022-01-23T00:25:57.250625Z"
    },
    "papermill": {
     "duration": 0.046907,
     "end_time": "2022-01-23T00:25:57.250766",
     "exception": false,
     "start_time": "2022-01-23T00:25:57.203859",
     "status": "completed"
    },
    "tags": []
   },
   "outputs": [],
   "source": [
    "#hide\n",
    "g = t.reset_index(['Country/Region'])"
   ]
  },
  {
   "cell_type": "code",
   "execution_count": 23,
   "id": "distributed-pittsburgh",
   "metadata": {
    "execution": {
     "iopub.execute_input": "2022-01-23T00:25:57.317160Z",
     "iopub.status.busy": "2022-01-23T00:25:57.316615Z",
     "iopub.status.idle": "2022-01-23T00:25:57.319863Z",
     "shell.execute_reply": "2022-01-23T00:25:57.320252Z"
    },
    "papermill": {
     "duration": 0.038514,
     "end_time": "2022-01-23T00:25:57.320387",
     "exception": false,
     "start_time": "2022-01-23T00:25:57.281873",
     "status": "completed"
    },
    "tags": []
   },
   "outputs": [],
   "source": [
    "#hide\n",
    "g.index.name = 'date'"
   ]
  },
  {
   "cell_type": "code",
   "execution_count": 24,
   "id": "naked-donor",
   "metadata": {
    "execution": {
     "iopub.execute_input": "2022-01-23T00:25:57.379938Z",
     "iopub.status.busy": "2022-01-23T00:25:57.379353Z",
     "iopub.status.idle": "2022-01-23T00:25:57.383456Z",
     "shell.execute_reply": "2022-01-23T00:25:57.383023Z"
    },
    "papermill": {
     "duration": 0.035506,
     "end_time": "2022-01-23T00:25:57.383576",
     "exception": false,
     "start_time": "2022-01-23T00:25:57.348070",
     "status": "completed"
    },
    "tags": []
   },
   "outputs": [],
   "source": [
    "# #hide\n",
    "# g = g.reset_index(['date'])"
   ]
  },
  {
   "cell_type": "code",
   "execution_count": 25,
   "id": "incomplete-mustang",
   "metadata": {
    "execution": {
     "iopub.execute_input": "2022-01-23T00:25:57.449048Z",
     "iopub.status.busy": "2022-01-23T00:25:57.448558Z",
     "iopub.status.idle": "2022-01-23T00:25:57.450457Z",
     "shell.execute_reply": "2022-01-23T00:25:57.450810Z"
    },
    "papermill": {
     "duration": 0.032962,
     "end_time": "2022-01-23T00:25:57.450936",
     "exception": false,
     "start_time": "2022-01-23T00:25:57.417974",
     "status": "completed"
    },
    "tags": []
   },
   "outputs": [],
   "source": [
    "#hide\n",
    "# g.head()"
   ]
  },
  {
   "cell_type": "code",
   "execution_count": 26,
   "id": "specific-kruger",
   "metadata": {
    "execution": {
     "iopub.execute_input": "2022-01-23T00:25:57.522060Z",
     "iopub.status.busy": "2022-01-23T00:25:57.521482Z",
     "iopub.status.idle": "2022-01-23T00:25:57.523780Z",
     "shell.execute_reply": "2022-01-23T00:25:57.523342Z"
    },
    "papermill": {
     "duration": 0.04019,
     "end_time": "2022-01-23T00:25:57.523889",
     "exception": false,
     "start_time": "2022-01-23T00:25:57.483699",
     "status": "completed"
    },
    "tags": []
   },
   "outputs": [],
   "source": [
    "#hide\n",
    "# g.columns = ['date','country','cases']"
   ]
  },
  {
   "cell_type": "code",
   "execution_count": 27,
   "id": "tender-conversion",
   "metadata": {
    "execution": {
     "iopub.execute_input": "2022-01-23T00:25:57.590866Z",
     "iopub.status.busy": "2022-01-23T00:25:57.590229Z",
     "iopub.status.idle": "2022-01-23T00:25:57.593605Z",
     "shell.execute_reply": "2022-01-23T00:25:57.594062Z"
    },
    "papermill": {
     "duration": 0.038938,
     "end_time": "2022-01-23T00:25:57.594205",
     "exception": false,
     "start_time": "2022-01-23T00:25:57.555267",
     "status": "completed"
    },
    "tags": []
   },
   "outputs": [],
   "source": [
    "#hide\n",
    "# g['continent'] = g.country"
   ]
  },
  {
   "cell_type": "code",
   "execution_count": 28,
   "id": "substantial-wilderness",
   "metadata": {
    "execution": {
     "iopub.execute_input": "2022-01-23T00:25:57.663743Z",
     "iopub.status.busy": "2022-01-23T00:25:57.663215Z",
     "iopub.status.idle": "2022-01-23T00:25:57.666515Z",
     "shell.execute_reply": "2022-01-23T00:25:57.667021Z"
    },
    "papermill": {
     "duration": 0.038624,
     "end_time": "2022-01-23T00:25:57.667162",
     "exception": false,
     "start_time": "2022-01-23T00:25:57.628538",
     "status": "completed"
    },
    "tags": []
   },
   "outputs": [],
   "source": [
    "#hide\n",
    "# cols = list(g.columns.values)"
   ]
  },
  {
   "cell_type": "code",
   "execution_count": 29,
   "id": "solved-farming",
   "metadata": {
    "execution": {
     "iopub.execute_input": "2022-01-23T00:25:57.734383Z",
     "iopub.status.busy": "2022-01-23T00:25:57.733215Z",
     "iopub.status.idle": "2022-01-23T00:25:57.735140Z",
     "shell.execute_reply": "2022-01-23T00:25:57.735602Z"
    },
    "papermill": {
     "duration": 0.037507,
     "end_time": "2022-01-23T00:25:57.735739",
     "exception": false,
     "start_time": "2022-01-23T00:25:57.698232",
     "status": "completed"
    },
    "tags": []
   },
   "outputs": [],
   "source": [
    "#hide\n",
    "# cols.insert(0, cols.pop())"
   ]
  },
  {
   "cell_type": "code",
   "execution_count": 30,
   "id": "executed-adoption",
   "metadata": {
    "execution": {
     "iopub.execute_input": "2022-01-23T00:25:57.809141Z",
     "iopub.status.busy": "2022-01-23T00:25:57.808593Z",
     "iopub.status.idle": "2022-01-23T00:25:57.811641Z",
     "shell.execute_reply": "2022-01-23T00:25:57.812058Z"
    },
    "papermill": {
     "duration": 0.038262,
     "end_time": "2022-01-23T00:25:57.812200",
     "exception": false,
     "start_time": "2022-01-23T00:25:57.773938",
     "status": "completed"
    },
    "tags": []
   },
   "outputs": [],
   "source": [
    "#hide\n",
    "# g = g[cols]"
   ]
  },
  {
   "cell_type": "code",
   "execution_count": 31,
   "id": "subject-dublin",
   "metadata": {
    "execution": {
     "iopub.execute_input": "2022-01-23T00:25:57.883044Z",
     "iopub.status.busy": "2022-01-23T00:25:57.882471Z",
     "iopub.status.idle": "2022-01-23T00:25:57.884547Z",
     "shell.execute_reply": "2022-01-23T00:25:57.884043Z"
    },
    "papermill": {
     "duration": 0.037986,
     "end_time": "2022-01-23T00:25:57.884670",
     "exception": false,
     "start_time": "2022-01-23T00:25:57.846684",
     "status": "completed"
    },
    "tags": []
   },
   "outputs": [],
   "source": [
    "#hide\n",
    "# g['continent'] = g['continent'].map(mapping['map.continent'])"
   ]
  },
  {
   "cell_type": "code",
   "execution_count": 32,
   "id": "freelance-scout",
   "metadata": {
    "execution": {
     "iopub.execute_input": "2022-01-23T00:25:57.966096Z",
     "iopub.status.busy": "2022-01-23T00:25:57.965512Z",
     "iopub.status.idle": "2022-01-23T00:25:57.967489Z",
     "shell.execute_reply": "2022-01-23T00:25:57.967910Z"
    },
    "papermill": {
     "duration": 0.037067,
     "end_time": "2022-01-23T00:25:57.968050",
     "exception": false,
     "start_time": "2022-01-23T00:25:57.930983",
     "status": "completed"
    },
    "tags": []
   },
   "outputs": [],
   "source": [
    "#hide\n",
    "# g.head()"
   ]
  },
  {
   "cell_type": "code",
   "execution_count": 33,
   "id": "limited-engine",
   "metadata": {
    "execution": {
     "iopub.execute_input": "2022-01-23T00:25:58.037174Z",
     "iopub.status.busy": "2022-01-23T00:25:58.036622Z",
     "iopub.status.idle": "2022-01-23T00:25:58.040040Z",
     "shell.execute_reply": "2022-01-23T00:25:58.040431Z"
    },
    "papermill": {
     "duration": 0.039488,
     "end_time": "2022-01-23T00:25:58.040567",
     "exception": false,
     "start_time": "2022-01-23T00:25:58.001079",
     "status": "completed"
    },
    "tags": []
   },
   "outputs": [],
   "source": [
    "# hide\n",
    "# g['date'] = g['date'].astype('datetime64[ns]')"
   ]
  },
  {
   "cell_type": "code",
   "execution_count": 34,
   "id": "sophisticated-supervisor",
   "metadata": {
    "execution": {
     "iopub.execute_input": "2022-01-23T00:25:58.108602Z",
     "iopub.status.busy": "2022-01-23T00:25:58.107966Z",
     "iopub.status.idle": "2022-01-23T00:25:58.112072Z",
     "shell.execute_reply": "2022-01-23T00:25:58.111672Z"
    },
    "papermill": {
     "duration": 0.039713,
     "end_time": "2022-01-23T00:25:58.112182",
     "exception": false,
     "start_time": "2022-01-23T00:25:58.072469",
     "status": "completed"
    },
    "tags": []
   },
   "outputs": [],
   "source": [
    "#hide\n",
    "# g['date'] = g.date.dt.dayofyear"
   ]
  },
  {
   "cell_type": "code",
   "execution_count": 35,
   "id": "inside-dubai",
   "metadata": {
    "execution": {
     "iopub.execute_input": "2022-01-23T00:25:58.170954Z",
     "iopub.status.busy": "2022-01-23T00:25:58.170490Z",
     "iopub.status.idle": "2022-01-23T00:25:58.172377Z",
     "shell.execute_reply": "2022-01-23T00:25:58.172738Z"
    },
    "papermill": {
     "duration": 0.032964,
     "end_time": "2022-01-23T00:25:58.172857",
     "exception": false,
     "start_time": "2022-01-23T00:25:58.139893",
     "status": "completed"
    },
    "tags": []
   },
   "outputs": [],
   "source": [
    "#hide\n",
    "# g = g.rename(columns= {'continent':'group','country':'name','cases':'value'})"
   ]
  },
  {
   "cell_type": "code",
   "execution_count": 36,
   "id": "fleet-motorcycle",
   "metadata": {
    "execution": {
     "iopub.execute_input": "2022-01-23T00:25:58.232945Z",
     "iopub.status.busy": "2022-01-23T00:25:58.232327Z",
     "iopub.status.idle": "2022-01-23T00:25:58.235815Z",
     "shell.execute_reply": "2022-01-23T00:25:58.236206Z"
    },
    "papermill": {
     "duration": 0.035903,
     "end_time": "2022-01-23T00:25:58.236454",
     "exception": false,
     "start_time": "2022-01-23T00:25:58.200551",
     "status": "completed"
    },
    "tags": []
   },
   "outputs": [],
   "source": [
    "#hide\n",
    "# cols = ['name','group','day','value']"
   ]
  },
  {
   "cell_type": "code",
   "execution_count": 37,
   "id": "continued-sleeping",
   "metadata": {
    "execution": {
     "iopub.execute_input": "2022-01-23T00:25:58.302905Z",
     "iopub.status.busy": "2022-01-23T00:25:58.302404Z",
     "iopub.status.idle": "2022-01-23T00:25:58.304136Z",
     "shell.execute_reply": "2022-01-23T00:25:58.303679Z"
    },
    "papermill": {
     "duration": 0.035991,
     "end_time": "2022-01-23T00:25:58.304237",
     "exception": false,
     "start_time": "2022-01-23T00:25:58.268246",
     "status": "completed"
    },
    "tags": []
   },
   "outputs": [],
   "source": [
    "#hide\n",
    "# g.rename(columns= {'date':'day'},inplace = True)"
   ]
  },
  {
   "cell_type": "code",
   "execution_count": 38,
   "id": "major-fight",
   "metadata": {
    "execution": {
     "iopub.execute_input": "2022-01-23T00:25:58.364701Z",
     "iopub.status.busy": "2022-01-23T00:25:58.364084Z",
     "iopub.status.idle": "2022-01-23T00:25:58.367858Z",
     "shell.execute_reply": "2022-01-23T00:25:58.367438Z"
    },
    "papermill": {
     "duration": 0.035493,
     "end_time": "2022-01-23T00:25:58.367974",
     "exception": false,
     "start_time": "2022-01-23T00:25:58.332481",
     "status": "completed"
    },
    "tags": []
   },
   "outputs": [],
   "source": [
    "#hide\n",
    "# g = g[cols]"
   ]
  },
  {
   "cell_type": "code",
   "execution_count": 39,
   "id": "structured-mobile",
   "metadata": {
    "execution": {
     "iopub.execute_input": "2022-01-23T00:25:58.434053Z",
     "iopub.status.busy": "2022-01-23T00:25:58.433395Z",
     "iopub.status.idle": "2022-01-23T00:25:58.435355Z",
     "shell.execute_reply": "2022-01-23T00:25:58.434667Z"
    },
    "papermill": {
     "duration": 0.036518,
     "end_time": "2022-01-23T00:25:58.435484",
     "exception": false,
     "start_time": "2022-01-23T00:25:58.398966",
     "status": "completed"
    },
    "tags": []
   },
   "outputs": [],
   "source": [
    "# #hide\n",
    "# g = g[g.group.notna()]"
   ]
  },
  {
   "cell_type": "code",
   "execution_count": 40,
   "id": "determined-closing",
   "metadata": {
    "execution": {
     "iopub.execute_input": "2022-01-23T00:25:58.495067Z",
     "iopub.status.busy": "2022-01-23T00:25:58.494442Z",
     "iopub.status.idle": "2022-01-23T00:25:58.497759Z",
     "shell.execute_reply": "2022-01-23T00:25:58.498172Z"
    },
    "papermill": {
     "duration": 0.034824,
     "end_time": "2022-01-23T00:25:58.498311",
     "exception": false,
     "start_time": "2022-01-23T00:25:58.463487",
     "status": "completed"
    },
    "tags": []
   },
   "outputs": [],
   "source": [
    "# #hide\n",
    "# colors = dict(zip(\n",
    "#     [\"Oceania\", \"Europe\", \"Asia\", \"South America\", \"Middle East\", \"North America\", \"Africa\"],\n",
    "#     [\"#adb0ff\", \"#ffb3ff\", \"#90d595\", \"#e48381\", \"#aafbff\", \"#f7bb5f\", \"#eafb50\"]\n",
    "# ))\n",
    "# group_lk = g.set_index('name')['group'].to_dict()"
   ]
  },
  {
   "cell_type": "code",
   "execution_count": null,
   "id": "gross-drinking",
   "metadata": {
    "papermill": {
     "duration": 0.030852,
     "end_time": "2022-01-23T00:25:58.560150",
     "exception": false,
     "start_time": "2022-01-23T00:25:58.529298",
     "status": "completed"
    },
    "tags": []
   },
   "outputs": [],
   "source": []
  },
  {
   "cell_type": "code",
   "execution_count": 41,
   "id": "subject-macintosh",
   "metadata": {
    "execution": {
     "iopub.execute_input": "2022-01-23T00:25:58.627524Z",
     "iopub.status.busy": "2022-01-23T00:25:58.626877Z",
     "iopub.status.idle": "2022-01-23T00:25:58.628841Z",
     "shell.execute_reply": "2022-01-23T00:25:58.628276Z"
    },
    "papermill": {
     "duration": 0.037403,
     "end_time": "2022-01-23T00:25:58.628966",
     "exception": false,
     "start_time": "2022-01-23T00:25:58.591563",
     "status": "completed"
    },
    "tags": []
   },
   "outputs": [],
   "source": [
    "# #hide\n",
    "# fig, ax = plt.subplots(figsize=(15, 8))\n",
    "\n",
    "# def draw_barchart(current_day):\n",
    "#     dff = g[g['day'].eq(current_day)].sort_values(by='value', ascending=True).tail(10)\n",
    "#     ax.clear()\n",
    "#     ax.barh(dff['name'], dff['value'], color=[colors[group_lk[x]] for x in dff['name']])\n",
    "#     dx = dff['value'].max() / 200\n",
    "    \n",
    "#     for i, (value, name) in enumerate(zip(dff['value'], dff['name'])):\n",
    "#         ax.text(value-dx, i,     name,           size=14, weight=600, ha='right', va='bottom')\n",
    "#         ax.text(value-dx, i-.25, group_lk[name], size=10, color='#444444', ha='right', va='baseline')\n",
    "#         ax.text(value+dx, i,     f'{value:,.0f}',  size=14, ha='left',  va='center')\n",
    "#     ax.text(1, 0.4, current_day, transform=ax.transAxes, color='#777777', size=46, ha='right', weight=800)\n",
    "#     ax.text(0, 1.06, 'Population (thousands)', transform=ax.transAxes, size=12, color='#777777')\n",
    "#     ax.xaxis.set_major_formatter(ticker.StrMethodFormatter('{x:,.0f}'))\n",
    "#     ax.xaxis.set_ticks_position('top')\n",
    "#     ax.tick_params(axis='x', colors='#777777', labelsize=12)\n",
    "#     ax.set_yticks([])\n",
    "#     ax.margins(0, 0.01)\n",
    "#     ax.grid(which='major', axis='x', linestyle='-')\n",
    "#     ax.set_axisbelow(True)\n",
    "    \n",
    "#     ax.text(0, 1.15, 'Coronavirus',\n",
    "#             transform=ax.transAxes, size=24, weight=600, ha='left', va='top')\n",
    "# #     ax.text(1, 0, 'by @pratapvardhan; credit @jburnmurdoch', transform=ax.transAxes, color='#777777', ha='right',\n",
    "# #             bbox=dict(facecolor='white', alpha=0.8, edgecolor='white'))\n",
    "#     plt.box(False)"
   ]
  },
  {
   "cell_type": "code",
   "execution_count": 42,
   "id": "sexual-wages",
   "metadata": {
    "execution": {
     "iopub.execute_input": "2022-01-23T00:25:58.688124Z",
     "iopub.status.busy": "2022-01-23T00:25:58.687493Z",
     "iopub.status.idle": "2022-01-23T00:25:58.690875Z",
     "shell.execute_reply": "2022-01-23T00:25:58.691318Z"
    },
    "papermill": {
     "duration": 0.034763,
     "end_time": "2022-01-23T00:25:58.691469",
     "exception": false,
     "start_time": "2022-01-23T00:25:58.656706",
     "status": "completed"
    },
    "tags": []
   },
   "outputs": [],
   "source": [
    "# #hide_input\n",
    "# fig, ax = plt.subplots(figsize=(15, 8))\n",
    "# animator = animation.FuncAnimation(fig, draw_barchart, frames=range(g.day.values.min(), g.day.values.max()))\n",
    "# HTML(animator.to_jshtml())\n",
    "# # or use animator.to_html5_video() or animator.save() "
   ]
  },
  {
   "cell_type": "code",
   "execution_count": null,
   "id": "australian-container",
   "metadata": {
    "papermill": {
     "duration": 0.030916,
     "end_time": "2022-01-23T00:25:58.753887",
     "exception": false,
     "start_time": "2022-01-23T00:25:58.722971",
     "status": "completed"
    },
    "tags": []
   },
   "outputs": [],
   "source": []
  },
  {
   "cell_type": "code",
   "execution_count": null,
   "id": "mediterranean-pontiac",
   "metadata": {
    "papermill": {
     "duration": 0.030997,
     "end_time": "2022-01-23T00:25:58.815890",
     "exception": false,
     "start_time": "2022-01-23T00:25:58.784893",
     "status": "completed"
    },
    "tags": []
   },
   "outputs": [],
   "source": []
  },
  {
   "cell_type": "code",
   "execution_count": null,
   "id": "aging-legislature",
   "metadata": {
    "papermill": {
     "duration": 0.030979,
     "end_time": "2022-01-23T00:25:58.878113",
     "exception": false,
     "start_time": "2022-01-23T00:25:58.847134",
     "status": "completed"
    },
    "tags": []
   },
   "outputs": [],
   "source": []
  }
 ],
 "metadata": {
  "kernelspec": {
   "display_name": "Python 3",
   "language": "python",
   "name": "python3"
  },
  "language_info": {
   "codemirror_mode": {
    "name": "ipython",
    "version": 3
   },
   "file_extension": ".py",
   "mimetype": "text/x-python",
   "name": "python",
   "nbconvert_exporter": "python",
   "pygments_lexer": "ipython3",
   "version": "3.6.15"
  },
  "papermill": {
   "duration": 6.296837,
   "end_time": "2022-01-23T00:25:59.327305",
   "environment_variables": {},
   "exception": null,
   "input_path": "2020-03-21-covid19exp.ipynb",
   "output_path": "2020-03-21-covid19exp.ipynb",
   "parameters": {},
   "start_time": "2022-01-23T00:25:53.030468",
   "version": "2.0.0"
  }
 },
 "nbformat": 4,
 "nbformat_minor": 5
}