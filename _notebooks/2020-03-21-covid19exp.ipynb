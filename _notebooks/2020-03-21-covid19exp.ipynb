{
 "cells": [
  {
   "cell_type": "markdown",
   "id": "muslim-click",
   "metadata": {
    "papermill": {
     "duration": 0.042738,
     "end_time": "2021-07-16T12:10:22.425504",
     "exception": false,
     "start_time": "2021-07-16T12:10:22.382766",
     "status": "completed"
    },
    "tags": []
   },
   "source": [
    "# COVID-19 Case Race\n",
    "> A race chart to see rising cases around the world\n",
    "\n",
    "- author: Hargun Oberoi\n",
    "- image: images/covid-overview.png\n",
    "- hide: false\n",
    "- badges: false"
   ]
  },
  {
   "cell_type": "code",
   "execution_count": 1,
   "id": "proof-material",
   "metadata": {
    "execution": {
     "iopub.execute_input": "2021-07-16T12:10:22.515531Z",
     "iopub.status.busy": "2021-07-16T12:10:22.514893Z",
     "iopub.status.idle": "2021-07-16T12:10:22.897675Z",
     "shell.execute_reply": "2021-07-16T12:10:22.897124Z"
    },
    "papermill": {
     "duration": 0.432734,
     "end_time": "2021-07-16T12:10:22.897822",
     "exception": false,
     "start_time": "2021-07-16T12:10:22.465088",
     "status": "completed"
    },
    "tags": []
   },
   "outputs": [],
   "source": [
    "#hide\n",
    "import numpy as np\n",
    "import pandas as pd\n",
    "from jinja2 import Template\n",
    "from IPython.display import HTML"
   ]
  },
  {
   "cell_type": "code",
   "execution_count": 2,
   "id": "developed-terminology",
   "metadata": {
    "execution": {
     "iopub.execute_input": "2021-07-16T12:10:22.973978Z",
     "iopub.status.busy": "2021-07-16T12:10:22.973379Z",
     "iopub.status.idle": "2021-07-16T12:10:22.975832Z",
     "shell.execute_reply": "2021-07-16T12:10:22.975339Z"
    },
    "papermill": {
     "duration": 0.042317,
     "end_time": "2021-07-16T12:10:22.976059",
     "exception": false,
     "start_time": "2021-07-16T12:10:22.933742",
     "status": "completed"
    },
    "tags": []
   },
   "outputs": [],
   "source": [
    "#hide\n",
    "\n",
    "# FETCH\n",
    "base_url = 'https://raw.githubusercontent.com/pratapvardhan/notebooks/master/covid19/'\n",
    "paths = {\n",
    "    'mapping': base_url + 'mapping_countries.csv',\n",
    "    'overview': base_url + 'overview.tpl'\n",
    "}"
   ]
  },
  {
   "cell_type": "code",
   "execution_count": 3,
   "id": "dynamic-saver",
   "metadata": {
    "execution": {
     "iopub.execute_input": "2021-07-16T12:10:23.061863Z",
     "iopub.status.busy": "2021-07-16T12:10:23.061119Z",
     "iopub.status.idle": "2021-07-16T12:10:23.063650Z",
     "shell.execute_reply": "2021-07-16T12:10:23.064225Z"
    },
    "papermill": {
     "duration": 0.052223,
     "end_time": "2021-07-16T12:10:23.064371",
     "exception": false,
     "start_time": "2021-07-16T12:10:23.012148",
     "status": "completed"
    },
    "tags": []
   },
   "outputs": [
    {
     "data": {
      "text/plain": [
       "'https://raw.githubusercontent.com/pratapvardhan/notebooks/master/covid19/mapping_countries.csv'"
      ]
     },
     "execution_count": 3,
     "metadata": {},
     "output_type": "execute_result"
    }
   ],
   "source": [
    "#hide\n",
    "paths['mapping']"
   ]
  },
  {
   "cell_type": "code",
   "execution_count": 4,
   "id": "urban-software",
   "metadata": {
    "execution": {
     "iopub.execute_input": "2021-07-16T12:10:23.150330Z",
     "iopub.status.busy": "2021-07-16T12:10:23.149617Z",
     "iopub.status.idle": "2021-07-16T12:10:23.152333Z",
     "shell.execute_reply": "2021-07-16T12:10:23.151829Z"
    },
    "papermill": {
     "duration": 0.047372,
     "end_time": "2021-07-16T12:10:23.152450",
     "exception": false,
     "start_time": "2021-07-16T12:10:23.105078",
     "status": "completed"
    },
    "tags": []
   },
   "outputs": [],
   "source": [
    "#hide\n",
    "def get_mappings(url):\n",
    "    df = pd.read_csv(url)\n",
    "    return {\n",
    "        'df': df,\n",
    "        'replace.country': dict(df.dropna(subset=['Name']).set_index('Country')['Name']),\n",
    "        'map.continent': dict(df.set_index('Name')['Continent'])\n",
    "    }"
   ]
  },
  {
   "cell_type": "code",
   "execution_count": 5,
   "id": "intimate-machinery",
   "metadata": {
    "execution": {
     "iopub.execute_input": "2021-07-16T12:10:23.231795Z",
     "iopub.status.busy": "2021-07-16T12:10:23.231201Z",
     "iopub.status.idle": "2021-07-16T12:10:23.269455Z",
     "shell.execute_reply": "2021-07-16T12:10:23.270128Z"
    },
    "papermill": {
     "duration": 0.084473,
     "end_time": "2021-07-16T12:10:23.270311",
     "exception": false,
     "start_time": "2021-07-16T12:10:23.185838",
     "status": "completed"
    },
    "tags": []
   },
   "outputs": [],
   "source": [
    "#hide\n",
    "mapping = get_mappings(paths['mapping'])"
   ]
  },
  {
   "cell_type": "code",
   "execution_count": 6,
   "id": "certified-tactics",
   "metadata": {
    "execution": {
     "iopub.execute_input": "2021-07-16T12:10:23.349657Z",
     "iopub.status.busy": "2021-07-16T12:10:23.348962Z",
     "iopub.status.idle": "2021-07-16T12:10:23.350668Z",
     "shell.execute_reply": "2021-07-16T12:10:23.351498Z"
    },
    "papermill": {
     "duration": 0.044098,
     "end_time": "2021-07-16T12:10:23.351708",
     "exception": false,
     "start_time": "2021-07-16T12:10:23.307610",
     "status": "completed"
    },
    "tags": []
   },
   "outputs": [],
   "source": [
    "#hide\n",
    "def get_template(path):\n",
    "    from urllib.parse import urlparse\n",
    "    if bool(urlparse(path).netloc):\n",
    "        from urllib.request import urlopen\n",
    "        return urlopen(path).read().decode('utf8')\n",
    "    return open(path).read()"
   ]
  },
  {
   "cell_type": "code",
   "execution_count": 7,
   "id": "realistic-blast",
   "metadata": {
    "execution": {
     "iopub.execute_input": "2021-07-16T12:10:23.434513Z",
     "iopub.status.busy": "2021-07-16T12:10:23.433823Z",
     "iopub.status.idle": "2021-07-16T12:10:23.435790Z",
     "shell.execute_reply": "2021-07-16T12:10:23.436253Z"
    },
    "papermill": {
     "duration": 0.046307,
     "end_time": "2021-07-16T12:10:23.436384",
     "exception": false,
     "start_time": "2021-07-16T12:10:23.390077",
     "status": "completed"
    },
    "tags": []
   },
   "outputs": [],
   "source": [
    "#hide\n",
    "def get_frame(name):\n",
    "    url = (\n",
    "        'https://raw.githubusercontent.com/CSSEGISandData/COVID-19/master/csse_covid_19_data/'\n",
    "        f'csse_covid_19_time_series/time_series_covid19_{name}_global.csv')\n",
    "    df = pd.read_csv(url)\n",
    "    # rename countries\n",
    "    df['Country/Region'] = df['Country/Region'].replace(mapping['replace.country'])\n",
    "    return df"
   ]
  },
  {
   "cell_type": "code",
   "execution_count": 8,
   "id": "affiliated-characterization",
   "metadata": {
    "execution": {
     "iopub.execute_input": "2021-07-16T12:10:23.515032Z",
     "iopub.status.busy": "2021-07-16T12:10:23.514399Z",
     "iopub.status.idle": "2021-07-16T12:10:23.517596Z",
     "shell.execute_reply": "2021-07-16T12:10:23.518454Z"
    },
    "papermill": {
     "duration": 0.04647,
     "end_time": "2021-07-16T12:10:23.518594",
     "exception": false,
     "start_time": "2021-07-16T12:10:23.472124",
     "status": "completed"
    },
    "tags": []
   },
   "outputs": [],
   "source": [
    "#hide\n",
    "def get_dates(df):\n",
    "    dt_cols = df.columns[~df.columns.isin(['Province/State', 'Country/Region', 'Lat', 'Long'])]\n",
    "    LAST_DATE_I = -1\n",
    "    # sometimes last column may be empty, then go backwards\n",
    "    for i in range(-1, -len(dt_cols), -1):\n",
    "        if not df[dt_cols[i]].fillna(0).eq(0).all():\n",
    "            LAST_DATE_I = i\n",
    "            break\n",
    "    return LAST_DATE_I, dt_cols"
   ]
  },
  {
   "cell_type": "code",
   "execution_count": 9,
   "id": "recent-optimization",
   "metadata": {
    "execution": {
     "iopub.execute_input": "2021-07-16T12:10:23.596689Z",
     "iopub.status.busy": "2021-07-16T12:10:23.596117Z",
     "iopub.status.idle": "2021-07-16T12:10:23.984188Z",
     "shell.execute_reply": "2021-07-16T12:10:23.983716Z"
    },
    "papermill": {
     "duration": 0.428834,
     "end_time": "2021-07-16T12:10:23.984312",
     "exception": false,
     "start_time": "2021-07-16T12:10:23.555478",
     "status": "completed"
    },
    "tags": []
   },
   "outputs": [],
   "source": [
    "#hide\n",
    "COL_REGION = 'Country/Region'\n",
    "# Confirmed, Recovered, Deaths\n",
    "df = get_frame('confirmed')\n",
    "# dft_: timeseries, dfc_: today country agg\n",
    "dft_cases = df\n",
    "dft_deaths = get_frame('deaths')\n",
    "dft_recovered = get_frame('recovered')\n",
    "LAST_DATE_I, dt_cols = get_dates(df)"
   ]
  },
  {
   "cell_type": "code",
   "execution_count": 10,
   "id": "absolute-copper",
   "metadata": {
    "execution": {
     "iopub.execute_input": "2021-07-16T12:10:24.065959Z",
     "iopub.status.busy": "2021-07-16T12:10:24.065362Z",
     "iopub.status.idle": "2021-07-16T12:10:24.066971Z",
     "shell.execute_reply": "2021-07-16T12:10:24.067453Z"
    },
    "papermill": {
     "duration": 0.044022,
     "end_time": "2021-07-16T12:10:24.067583",
     "exception": false,
     "start_time": "2021-07-16T12:10:24.023561",
     "status": "completed"
    },
    "tags": []
   },
   "outputs": [],
   "source": [
    "#hide\n",
    "LAST_DATE_I, dt_cols = get_dates(df)\n",
    "dt_today =dt_cols[LAST_DATE_I]\n",
    "# dt_5day = dt_cols[LAST_DATE_I - 5]\n",
    "dt_yday = dt_cols[LAST_DATE_I - 1]"
   ]
  },
  {
   "cell_type": "code",
   "execution_count": 11,
   "id": "restricted-sheriff",
   "metadata": {
    "execution": {
     "iopub.execute_input": "2021-07-16T12:10:24.150046Z",
     "iopub.status.busy": "2021-07-16T12:10:24.149478Z",
     "iopub.status.idle": "2021-07-16T12:10:24.156631Z",
     "shell.execute_reply": "2021-07-16T12:10:24.157132Z"
    },
    "papermill": {
     "duration": 0.05489,
     "end_time": "2021-07-16T12:10:24.157259",
     "exception": false,
     "start_time": "2021-07-16T12:10:24.102369",
     "status": "completed"
    },
    "tags": []
   },
   "outputs": [],
   "source": [
    "#hide\n",
    "dfc_cases = dft_cases.groupby(COL_REGION)[dt_today].sum()\n",
    "dfc_deaths = dft_deaths.groupby(COL_REGION)[dt_today].sum()\n",
    "# dfp_cases = dft_cases.groupby(COL_REGION)[dt_5day].sum()\n",
    "# dfp_deaths = dft_deaths.groupby(COL_REGION)[dt_5day].sum()\n",
    "dfp_cases = dft_cases.groupby(COL_REGION)[dt_yday].sum()\n",
    "dfp_deaths = dft_deaths.groupby(COL_REGION)[dt_yday].sum()"
   ]
  },
  {
   "cell_type": "code",
   "execution_count": 12,
   "id": "deluxe-hepatitis",
   "metadata": {
    "execution": {
     "iopub.execute_input": "2021-07-16T12:10:24.233445Z",
     "iopub.status.busy": "2021-07-16T12:10:24.232760Z",
     "iopub.status.idle": "2021-07-16T12:10:24.237708Z",
     "shell.execute_reply": "2021-07-16T12:10:24.238292Z"
    },
    "papermill": {
     "duration": 0.048173,
     "end_time": "2021-07-16T12:10:24.238429",
     "exception": false,
     "start_time": "2021-07-16T12:10:24.190256",
     "status": "completed"
    },
    "tags": []
   },
   "outputs": [],
   "source": [
    "#hide\n",
    "df_table = (pd.DataFrame(dict(Cases = dfc_cases, Deaths = dfc_deaths, PCases = dfp_cases, PDeaths = dfp_deaths))\n",
    "            .sort_values(by = ['Cases','Deaths'], ascending = [False, False])\n",
    "            .reset_index())"
   ]
  },
  {
   "cell_type": "code",
   "execution_count": 13,
   "id": "educational-chancellor",
   "metadata": {
    "execution": {
     "iopub.execute_input": "2021-07-16T12:10:24.327890Z",
     "iopub.status.busy": "2021-07-16T12:10:24.314697Z",
     "iopub.status.idle": "2021-07-16T12:10:24.336239Z",
     "shell.execute_reply": "2021-07-16T12:10:24.335773Z"
    },
    "papermill": {
     "duration": 0.064382,
     "end_time": "2021-07-16T12:10:24.336352",
     "exception": false,
     "start_time": "2021-07-16T12:10:24.271970",
     "status": "completed"
    },
    "tags": []
   },
   "outputs": [
    {
     "data": {
      "text/html": [
       "<div>\n",
       "<style scoped>\n",
       "    .dataframe tbody tr th:only-of-type {\n",
       "        vertical-align: middle;\n",
       "    }\n",
       "\n",
       "    .dataframe tbody tr th {\n",
       "        vertical-align: top;\n",
       "    }\n",
       "\n",
       "    .dataframe thead th {\n",
       "        text-align: right;\n",
       "    }\n",
       "</style>\n",
       "<table border=\"1\" class=\"dataframe\">\n",
       "  <thead>\n",
       "    <tr style=\"text-align: right;\">\n",
       "      <th></th>\n",
       "      <th>Country/Region</th>\n",
       "      <th>Cases</th>\n",
       "      <th>Deaths</th>\n",
       "      <th>PCases</th>\n",
       "      <th>PDeaths</th>\n",
       "      <th>Cases (+)</th>\n",
       "      <th>Deaths (+)</th>\n",
       "      <th>Fatality Rate</th>\n",
       "      <th>Continent</th>\n",
       "    </tr>\n",
       "  </thead>\n",
       "  <tbody>\n",
       "    <tr>\n",
       "      <th>0</th>\n",
       "      <td>US</td>\n",
       "      <td>33975642</td>\n",
       "      <td>608398</td>\n",
       "      <td>33947230</td>\n",
       "      <td>608115</td>\n",
       "      <td>28412</td>\n",
       "      <td>283</td>\n",
       "      <td>1.79</td>\n",
       "      <td>North America</td>\n",
       "    </tr>\n",
       "    <tr>\n",
       "      <th>1</th>\n",
       "      <td>India</td>\n",
       "      <td>31026829</td>\n",
       "      <td>412531</td>\n",
       "      <td>30987880</td>\n",
       "      <td>411989</td>\n",
       "      <td>38949</td>\n",
       "      <td>542</td>\n",
       "      <td>1.33</td>\n",
       "      <td>Asia</td>\n",
       "    </tr>\n",
       "    <tr>\n",
       "      <th>2</th>\n",
       "      <td>Brazil</td>\n",
       "      <td>19262518</td>\n",
       "      <td>538942</td>\n",
       "      <td>19209729</td>\n",
       "      <td>537394</td>\n",
       "      <td>52789</td>\n",
       "      <td>1548</td>\n",
       "      <td>2.80</td>\n",
       "      <td>South America</td>\n",
       "    </tr>\n",
       "    <tr>\n",
       "      <th>3</th>\n",
       "      <td>France</td>\n",
       "      <td>5895453</td>\n",
       "      <td>111619</td>\n",
       "      <td>5884395</td>\n",
       "      <td>111609</td>\n",
       "      <td>11058</td>\n",
       "      <td>10</td>\n",
       "      <td>1.89</td>\n",
       "      <td>Europe</td>\n",
       "    </tr>\n",
       "    <tr>\n",
       "      <th>4</th>\n",
       "      <td>Russia</td>\n",
       "      <td>5810335</td>\n",
       "      <td>143657</td>\n",
       "      <td>5785542</td>\n",
       "      <td>142877</td>\n",
       "      <td>24793</td>\n",
       "      <td>780</td>\n",
       "      <td>2.47</td>\n",
       "      <td>Europe</td>\n",
       "    </tr>\n",
       "  </tbody>\n",
       "</table>\n",
       "</div>"
      ],
      "text/plain": [
       "  Country/Region     Cases  Deaths    PCases  PDeaths  Cases (+)  Deaths (+)  \\\n",
       "0             US  33975642  608398  33947230   608115      28412         283   \n",
       "1          India  31026829  412531  30987880   411989      38949         542   \n",
       "2         Brazil  19262518  538942  19209729   537394      52789        1548   \n",
       "3         France   5895453  111619   5884395   111609      11058          10   \n",
       "4         Russia   5810335  143657   5785542   142877      24793         780   \n",
       "\n",
       "   Fatality Rate      Continent  \n",
       "0           1.79  North America  \n",
       "1           1.33           Asia  \n",
       "2           2.80  South America  \n",
       "3           1.89         Europe  \n",
       "4           2.47         Europe  "
      ]
     },
     "execution_count": 13,
     "metadata": {},
     "output_type": "execute_result"
    }
   ],
   "source": [
    "#hide\n",
    "for c in 'Cases, Deaths'.split(', '):\n",
    "    df_table[f'{c} (+)'] = (df_table[c] - df_table[f'P{c}']).clip(0)\n",
    "    #Clip ça veut dire, les chiffres negatif sont interdit\n",
    "df_table['Fatality Rate'] = (100* df_table['Deaths']/ df_table['Cases']).round(2)\n",
    "df_table['Continent'] = df_table['Country/Region'].map(mapping['map.continent'])\n",
    "df_table.head(5)"
   ]
  },
  {
   "cell_type": "code",
   "execution_count": 14,
   "id": "aboriginal-bulgaria",
   "metadata": {
    "execution": {
     "iopub.execute_input": "2021-07-16T12:10:24.409765Z",
     "iopub.status.busy": "2021-07-16T12:10:24.409200Z",
     "iopub.status.idle": "2021-07-16T12:10:24.412088Z",
     "shell.execute_reply": "2021-07-16T12:10:24.412641Z"
    },
    "papermill": {
     "duration": 0.04255,
     "end_time": "2021-07-16T12:10:24.412767",
     "exception": false,
     "start_time": "2021-07-16T12:10:24.370217",
     "status": "completed"
    },
    "tags": []
   },
   "outputs": [],
   "source": [
    "#hide\n",
    "#delete problematic countries from table\n",
    "df_table = df_table[~df_table['Country/Region'].isin(['Cape Verde', 'Cruise Ship', 'Kosovo'])]"
   ]
  },
  {
   "cell_type": "code",
   "execution_count": 15,
   "id": "fantastic-effect",
   "metadata": {
    "execution": {
     "iopub.execute_input": "2021-07-16T12:10:24.497385Z",
     "iopub.status.busy": "2021-07-16T12:10:24.496754Z",
     "iopub.status.idle": "2021-07-16T12:10:24.518416Z",
     "shell.execute_reply": "2021-07-16T12:10:24.517945Z"
    },
    "papermill": {
     "duration": 0.067764,
     "end_time": "2021-07-16T12:10:24.518528",
     "exception": false,
     "start_time": "2021-07-16T12:10:24.450764",
     "status": "completed"
    },
    "tags": []
   },
   "outputs": [
    {
     "data": {
      "text/html": [
       "<div>\n",
       "<style scoped>\n",
       "    .dataframe tbody tr th:only-of-type {\n",
       "        vertical-align: middle;\n",
       "    }\n",
       "\n",
       "    .dataframe tbody tr th {\n",
       "        vertical-align: top;\n",
       "    }\n",
       "\n",
       "    .dataframe thead th {\n",
       "        text-align: right;\n",
       "    }\n",
       "</style>\n",
       "<table border=\"1\" class=\"dataframe\">\n",
       "  <thead>\n",
       "    <tr style=\"text-align: right;\">\n",
       "      <th></th>\n",
       "      <th>Country/Region</th>\n",
       "      <th>Cases</th>\n",
       "      <th>Deaths</th>\n",
       "      <th>PCases</th>\n",
       "      <th>PDeaths</th>\n",
       "      <th>Cases (+)</th>\n",
       "      <th>Deaths (+)</th>\n",
       "      <th>Fatality Rate</th>\n",
       "      <th>Continent</th>\n",
       "    </tr>\n",
       "  </thead>\n",
       "  <tbody>\n",
       "    <tr>\n",
       "      <th>0</th>\n",
       "      <td>US</td>\n",
       "      <td>33975642</td>\n",
       "      <td>608398</td>\n",
       "      <td>33947230</td>\n",
       "      <td>608115</td>\n",
       "      <td>28412</td>\n",
       "      <td>283</td>\n",
       "      <td>1.8</td>\n",
       "      <td>North America</td>\n",
       "    </tr>\n",
       "    <tr>\n",
       "      <th>1</th>\n",
       "      <td>India</td>\n",
       "      <td>31026829</td>\n",
       "      <td>412531</td>\n",
       "      <td>30987880</td>\n",
       "      <td>411989</td>\n",
       "      <td>38949</td>\n",
       "      <td>542</td>\n",
       "      <td>1.3</td>\n",
       "      <td>Asia</td>\n",
       "    </tr>\n",
       "    <tr>\n",
       "      <th>2</th>\n",
       "      <td>Brazil</td>\n",
       "      <td>19262518</td>\n",
       "      <td>538942</td>\n",
       "      <td>19209729</td>\n",
       "      <td>537394</td>\n",
       "      <td>52789</td>\n",
       "      <td>1548</td>\n",
       "      <td>2.8</td>\n",
       "      <td>South America</td>\n",
       "    </tr>\n",
       "    <tr>\n",
       "      <th>3</th>\n",
       "      <td>France</td>\n",
       "      <td>5895453</td>\n",
       "      <td>111619</td>\n",
       "      <td>5884395</td>\n",
       "      <td>111609</td>\n",
       "      <td>11058</td>\n",
       "      <td>10</td>\n",
       "      <td>1.9</td>\n",
       "      <td>Europe</td>\n",
       "    </tr>\n",
       "    <tr>\n",
       "      <th>4</th>\n",
       "      <td>Russia</td>\n",
       "      <td>5810335</td>\n",
       "      <td>143657</td>\n",
       "      <td>5785542</td>\n",
       "      <td>142877</td>\n",
       "      <td>24793</td>\n",
       "      <td>780</td>\n",
       "      <td>2.5</td>\n",
       "      <td>Europe</td>\n",
       "    </tr>\n",
       "  </tbody>\n",
       "</table>\n",
       "</div>"
      ],
      "text/plain": [
       "  Country/Region     Cases  Deaths    PCases  PDeaths  Cases (+)  Deaths (+)  \\\n",
       "0             US  33975642  608398  33947230   608115      28412         283   \n",
       "1          India  31026829  412531  30987880   411989      38949         542   \n",
       "2         Brazil  19262518  538942  19209729   537394      52789        1548   \n",
       "3         France   5895453  111619   5884395   111609      11058          10   \n",
       "4         Russia   5810335  143657   5785542   142877      24793         780   \n",
       "\n",
       "   Fatality Rate      Continent  \n",
       "0            1.8  North America  \n",
       "1            1.3           Asia  \n",
       "2            2.8  South America  \n",
       "3            1.9         Europe  \n",
       "4            2.5         Europe  "
      ]
     },
     "execution_count": 15,
     "metadata": {},
     "output_type": "execute_result"
    }
   ],
   "source": [
    "#hide\n",
    "df_table = (pd.DataFrame(dict(Cases=dfc_cases, Deaths=dfc_deaths, PCases=dfp_cases, PDeaths=dfp_deaths))\n",
    "             .sort_values(by=['Cases', 'Deaths'], ascending=[False, False])\n",
    "             .reset_index())\n",
    "df_table.rename(columns={'index': 'Country/Region'}, inplace=True)\n",
    "for c in 'Cases, Deaths'.split(', '):\n",
    "    df_table[f'{c} (+)'] = (df_table[c] - df_table[f'P{c}']).clip(0)  # DATA BUG\n",
    "df_table['Fatality Rate'] = (100 * df_table['Deaths'] / df_table['Cases']).round(1)\n",
    "df_table['Continent'] = df_table['Country/Region'].map(mapping['map.continent'])\n",
    "df_table.head(5)"
   ]
  },
  {
   "cell_type": "code",
   "execution_count": 16,
   "id": "fewer-occasion",
   "metadata": {
    "execution": {
     "iopub.execute_input": "2021-07-16T12:10:24.598319Z",
     "iopub.status.busy": "2021-07-16T12:10:24.597703Z",
     "iopub.status.idle": "2021-07-16T12:10:24.600208Z",
     "shell.execute_reply": "2021-07-16T12:10:24.600805Z"
    },
    "papermill": {
     "duration": 0.045708,
     "end_time": "2021-07-16T12:10:24.600946",
     "exception": false,
     "start_time": "2021-07-16T12:10:24.555238",
     "status": "completed"
    },
    "tags": []
   },
   "outputs": [],
   "source": [
    "#hide\n",
    "#delete problematic countries from table\n",
    "df_table = df_table[~df_table['Country/Region'].isin(['Cape Verde', 'Cruise Ship', 'Kosovo'])]"
   ]
  },
  {
   "cell_type": "code",
   "execution_count": 17,
   "id": "related-center",
   "metadata": {
    "execution": {
     "iopub.execute_input": "2021-07-16T12:10:24.682517Z",
     "iopub.status.busy": "2021-07-16T12:10:24.681962Z",
     "iopub.status.idle": "2021-07-16T12:10:24.691978Z",
     "shell.execute_reply": "2021-07-16T12:10:24.692453Z"
    },
    "papermill": {
     "duration": 0.055701,
     "end_time": "2021-07-16T12:10:24.692587",
     "exception": false,
     "start_time": "2021-07-16T12:10:24.636886",
     "status": "completed"
    },
    "tags": []
   },
   "outputs": [],
   "source": [
    "#hide\n",
    "metrics = [df_table.columns[index] for index in [1,2,5,6]]\n",
    "# s_china = df_table[df_table['Country/Region'].eq('China')][metrics].sum().add_prefix('China ')\n",
    "s_us = df_table[df_table['Country/Region'].eq('US')][metrics].sum().add_prefix('US ')\n",
    "s_eu = df_table[df_table['Continent'].eq('Europe')][metrics].sum().add_prefix('EU ')\n",
    "s_ind = df_table[df_table['Country/Region'].eq('India')][metrics].sum().add_prefix('India ')\n",
    "summary = {'updated': pd.to_datetime(dt_today), 'since': pd.to_datetime(dt_yday)}\n",
    "summary = {'updated': pd.to_datetime(dt_today), 'since': pd.to_datetime(dt_yday)}\n",
    "summary = {**summary, **df_table[metrics].sum(), **s_ind, **s_us, **s_eu}"
   ]
  },
  {
   "cell_type": "code",
   "execution_count": 18,
   "id": "engaging-syndrome",
   "metadata": {
    "execution": {
     "iopub.execute_input": "2021-07-16T12:10:24.765398Z",
     "iopub.status.busy": "2021-07-16T12:10:24.764822Z",
     "iopub.status.idle": "2021-07-16T12:10:24.777503Z",
     "shell.execute_reply": "2021-07-16T12:10:24.776838Z"
    },
    "papermill": {
     "duration": 0.051273,
     "end_time": "2021-07-16T12:10:24.777636",
     "exception": false,
     "start_time": "2021-07-16T12:10:24.726363",
     "status": "completed"
    },
    "tags": []
   },
   "outputs": [],
   "source": [
    "#hide\n",
    "dft_ct_new_cases = dft_cases.groupby(COL_REGION)[dt_cols].sum().diff(axis=1).fillna(0).astype(int)"
   ]
  },
  {
   "cell_type": "code",
   "execution_count": 19,
   "id": "neutral-assignment",
   "metadata": {
    "execution": {
     "iopub.execute_input": "2021-07-16T12:10:24.853598Z",
     "iopub.status.busy": "2021-07-16T12:10:24.852976Z",
     "iopub.status.idle": "2021-07-16T12:10:24.855619Z",
     "shell.execute_reply": "2021-07-16T12:10:24.855009Z"
    },
    "papermill": {
     "duration": 0.043865,
     "end_time": "2021-07-16T12:10:24.855728",
     "exception": false,
     "start_time": "2021-07-16T12:10:24.811863",
     "status": "completed"
    },
    "tags": []
   },
   "outputs": [],
   "source": [
    "#hide\n",
    "everydaycases = dft_ct_new_cases.cumsum(axis=1)"
   ]
  },
  {
   "cell_type": "code",
   "execution_count": 20,
   "id": "parliamentary-calgary",
   "metadata": {
    "execution": {
     "iopub.execute_input": "2021-07-16T12:10:24.933020Z",
     "iopub.status.busy": "2021-07-16T12:10:24.932431Z",
     "iopub.status.idle": "2021-07-16T12:10:25.529854Z",
     "shell.execute_reply": "2021-07-16T12:10:25.529058Z"
    },
    "papermill": {
     "duration": 0.637089,
     "end_time": "2021-07-16T12:10:25.530015",
     "exception": false,
     "start_time": "2021-07-16T12:10:24.892926",
     "status": "completed"
    },
    "tags": []
   },
   "outputs": [],
   "source": [
    "#hide\n",
    "import pandas as pd\n",
    "import matplotlib.pyplot as plt\n",
    "import matplotlib.ticker as ticker\n",
    "import matplotlib.animation as animation\n",
    "from IPython.display import HTML"
   ]
  },
  {
   "cell_type": "code",
   "execution_count": 21,
   "id": "lasting-extraction",
   "metadata": {
    "execution": {
     "iopub.execute_input": "2021-07-16T12:10:25.611368Z",
     "iopub.status.busy": "2021-07-16T12:10:25.610798Z",
     "iopub.status.idle": "2021-07-16T12:10:25.616742Z",
     "shell.execute_reply": "2021-07-16T12:10:25.615926Z"
    },
    "papermill": {
     "duration": 0.05044,
     "end_time": "2021-07-16T12:10:25.616881",
     "exception": false,
     "start_time": "2021-07-16T12:10:25.566441",
     "status": "completed"
    },
    "tags": []
   },
   "outputs": [],
   "source": [
    "#hide\n",
    "t = everydaycases.stack()"
   ]
  },
  {
   "cell_type": "code",
   "execution_count": 22,
   "id": "premier-sleeve",
   "metadata": {
    "execution": {
     "iopub.execute_input": "2021-07-16T12:10:25.693624Z",
     "iopub.status.busy": "2021-07-16T12:10:25.692864Z",
     "iopub.status.idle": "2021-07-16T12:10:25.701870Z",
     "shell.execute_reply": "2021-07-16T12:10:25.701367Z"
    },
    "papermill": {
     "duration": 0.048691,
     "end_time": "2021-07-16T12:10:25.701980",
     "exception": false,
     "start_time": "2021-07-16T12:10:25.653289",
     "status": "completed"
    },
    "tags": []
   },
   "outputs": [],
   "source": [
    "#hide\n",
    "g = t.reset_index(['Country/Region'])"
   ]
  },
  {
   "cell_type": "code",
   "execution_count": 23,
   "id": "distributed-pittsburgh",
   "metadata": {
    "execution": {
     "iopub.execute_input": "2021-07-16T12:10:25.782371Z",
     "iopub.status.busy": "2021-07-16T12:10:25.781719Z",
     "iopub.status.idle": "2021-07-16T12:10:25.784067Z",
     "shell.execute_reply": "2021-07-16T12:10:25.783592Z"
    },
    "papermill": {
     "duration": 0.044608,
     "end_time": "2021-07-16T12:10:25.784179",
     "exception": false,
     "start_time": "2021-07-16T12:10:25.739571",
     "status": "completed"
    },
    "tags": []
   },
   "outputs": [],
   "source": [
    "#hide\n",
    "g.index.name = 'date'"
   ]
  },
  {
   "cell_type": "code",
   "execution_count": 24,
   "id": "naked-donor",
   "metadata": {
    "execution": {
     "iopub.execute_input": "2021-07-16T12:10:25.857977Z",
     "iopub.status.busy": "2021-07-16T12:10:25.857398Z",
     "iopub.status.idle": "2021-07-16T12:10:25.860288Z",
     "shell.execute_reply": "2021-07-16T12:10:25.859243Z"
    },
    "papermill": {
     "duration": 0.04214,
     "end_time": "2021-07-16T12:10:25.860403",
     "exception": false,
     "start_time": "2021-07-16T12:10:25.818263",
     "status": "completed"
    },
    "tags": []
   },
   "outputs": [],
   "source": [
    "# #hide\n",
    "# g = g.reset_index(['date'])"
   ]
  },
  {
   "cell_type": "code",
   "execution_count": 25,
   "id": "incomplete-mustang",
   "metadata": {
    "execution": {
     "iopub.execute_input": "2021-07-16T12:10:25.940613Z",
     "iopub.status.busy": "2021-07-16T12:10:25.939787Z",
     "iopub.status.idle": "2021-07-16T12:10:25.942637Z",
     "shell.execute_reply": "2021-07-16T12:10:25.942051Z"
    },
    "papermill": {
     "duration": 0.041791,
     "end_time": "2021-07-16T12:10:25.942771",
     "exception": false,
     "start_time": "2021-07-16T12:10:25.900980",
     "status": "completed"
    },
    "tags": []
   },
   "outputs": [],
   "source": [
    "#hide\n",
    "# g.head()"
   ]
  },
  {
   "cell_type": "code",
   "execution_count": 26,
   "id": "specific-kruger",
   "metadata": {
    "execution": {
     "iopub.execute_input": "2021-07-16T12:10:26.021909Z",
     "iopub.status.busy": "2021-07-16T12:10:26.020963Z",
     "iopub.status.idle": "2021-07-16T12:10:26.023567Z",
     "shell.execute_reply": "2021-07-16T12:10:26.023089Z"
    },
    "papermill": {
     "duration": 0.044178,
     "end_time": "2021-07-16T12:10:26.023680",
     "exception": false,
     "start_time": "2021-07-16T12:10:25.979502",
     "status": "completed"
    },
    "tags": []
   },
   "outputs": [],
   "source": [
    "#hide\n",
    "# g.columns = ['date','country','cases']"
   ]
  },
  {
   "cell_type": "code",
   "execution_count": 27,
   "id": "tender-conversion",
   "metadata": {
    "execution": {
     "iopub.execute_input": "2021-07-16T12:10:26.106533Z",
     "iopub.status.busy": "2021-07-16T12:10:26.105864Z",
     "iopub.status.idle": "2021-07-16T12:10:26.108694Z",
     "shell.execute_reply": "2021-07-16T12:10:26.108108Z"
    },
    "papermill": {
     "duration": 0.048087,
     "end_time": "2021-07-16T12:10:26.108816",
     "exception": false,
     "start_time": "2021-07-16T12:10:26.060729",
     "status": "completed"
    },
    "tags": []
   },
   "outputs": [],
   "source": [
    "#hide\n",
    "# g['continent'] = g.country"
   ]
  },
  {
   "cell_type": "code",
   "execution_count": 28,
   "id": "substantial-wilderness",
   "metadata": {
    "execution": {
     "iopub.execute_input": "2021-07-16T12:10:26.189319Z",
     "iopub.status.busy": "2021-07-16T12:10:26.188625Z",
     "iopub.status.idle": "2021-07-16T12:10:26.190632Z",
     "shell.execute_reply": "2021-07-16T12:10:26.191270Z"
    },
    "papermill": {
     "duration": 0.04405,
     "end_time": "2021-07-16T12:10:26.191405",
     "exception": false,
     "start_time": "2021-07-16T12:10:26.147355",
     "status": "completed"
    },
    "tags": []
   },
   "outputs": [],
   "source": [
    "#hide\n",
    "# cols = list(g.columns.values)"
   ]
  },
  {
   "cell_type": "code",
   "execution_count": 29,
   "id": "solved-farming",
   "metadata": {
    "execution": {
     "iopub.execute_input": "2021-07-16T12:10:26.269970Z",
     "iopub.status.busy": "2021-07-16T12:10:26.269379Z",
     "iopub.status.idle": "2021-07-16T12:10:26.271907Z",
     "shell.execute_reply": "2021-07-16T12:10:26.271353Z"
    },
    "papermill": {
     "duration": 0.042726,
     "end_time": "2021-07-16T12:10:26.272018",
     "exception": false,
     "start_time": "2021-07-16T12:10:26.229292",
     "status": "completed"
    },
    "tags": []
   },
   "outputs": [],
   "source": [
    "#hide\n",
    "# cols.insert(0, cols.pop())"
   ]
  },
  {
   "cell_type": "code",
   "execution_count": 30,
   "id": "executed-adoption",
   "metadata": {
    "execution": {
     "iopub.execute_input": "2021-07-16T12:10:26.348975Z",
     "iopub.status.busy": "2021-07-16T12:10:26.348359Z",
     "iopub.status.idle": "2021-07-16T12:10:26.350347Z",
     "shell.execute_reply": "2021-07-16T12:10:26.350791Z"
    },
    "papermill": {
     "duration": 0.04247,
     "end_time": "2021-07-16T12:10:26.350922",
     "exception": false,
     "start_time": "2021-07-16T12:10:26.308452",
     "status": "completed"
    },
    "tags": []
   },
   "outputs": [],
   "source": [
    "#hide\n",
    "# g = g[cols]"
   ]
  },
  {
   "cell_type": "code",
   "execution_count": 31,
   "id": "subject-dublin",
   "metadata": {
    "execution": {
     "iopub.execute_input": "2021-07-16T12:10:26.431829Z",
     "iopub.status.busy": "2021-07-16T12:10:26.431124Z",
     "iopub.status.idle": "2021-07-16T12:10:26.432851Z",
     "shell.execute_reply": "2021-07-16T12:10:26.433584Z"
    },
    "papermill": {
     "duration": 0.042805,
     "end_time": "2021-07-16T12:10:26.433779",
     "exception": false,
     "start_time": "2021-07-16T12:10:26.390974",
     "status": "completed"
    },
    "tags": []
   },
   "outputs": [],
   "source": [
    "#hide\n",
    "# g['continent'] = g['continent'].map(mapping['map.continent'])"
   ]
  },
  {
   "cell_type": "code",
   "execution_count": 32,
   "id": "freelance-scout",
   "metadata": {
    "execution": {
     "iopub.execute_input": "2021-07-16T12:10:26.513906Z",
     "iopub.status.busy": "2021-07-16T12:10:26.513015Z",
     "iopub.status.idle": "2021-07-16T12:10:26.516105Z",
     "shell.execute_reply": "2021-07-16T12:10:26.516719Z"
    },
    "papermill": {
     "duration": 0.04588,
     "end_time": "2021-07-16T12:10:26.516875",
     "exception": false,
     "start_time": "2021-07-16T12:10:26.470995",
     "status": "completed"
    },
    "tags": []
   },
   "outputs": [],
   "source": [
    "#hide\n",
    "# g.head()"
   ]
  },
  {
   "cell_type": "code",
   "execution_count": 33,
   "id": "limited-engine",
   "metadata": {
    "execution": {
     "iopub.execute_input": "2021-07-16T12:10:26.596963Z",
     "iopub.status.busy": "2021-07-16T12:10:26.596367Z",
     "iopub.status.idle": "2021-07-16T12:10:26.598480Z",
     "shell.execute_reply": "2021-07-16T12:10:26.598925Z"
    },
    "papermill": {
     "duration": 0.043223,
     "end_time": "2021-07-16T12:10:26.599054",
     "exception": false,
     "start_time": "2021-07-16T12:10:26.555831",
     "status": "completed"
    },
    "tags": []
   },
   "outputs": [],
   "source": [
    "# hide\n",
    "# g['date'] = g['date'].astype('datetime64[ns]')"
   ]
  },
  {
   "cell_type": "code",
   "execution_count": 34,
   "id": "sophisticated-supervisor",
   "metadata": {
    "execution": {
     "iopub.execute_input": "2021-07-16T12:10:26.677048Z",
     "iopub.status.busy": "2021-07-16T12:10:26.676433Z",
     "iopub.status.idle": "2021-07-16T12:10:26.678426Z",
     "shell.execute_reply": "2021-07-16T12:10:26.679098Z"
    },
    "papermill": {
     "duration": 0.042968,
     "end_time": "2021-07-16T12:10:26.679233",
     "exception": false,
     "start_time": "2021-07-16T12:10:26.636265",
     "status": "completed"
    },
    "tags": []
   },
   "outputs": [],
   "source": [
    "#hide\n",
    "# g['date'] = g.date.dt.dayofyear"
   ]
  },
  {
   "cell_type": "code",
   "execution_count": 35,
   "id": "inside-dubai",
   "metadata": {
    "execution": {
     "iopub.execute_input": "2021-07-16T12:10:26.758218Z",
     "iopub.status.busy": "2021-07-16T12:10:26.757330Z",
     "iopub.status.idle": "2021-07-16T12:10:26.760053Z",
     "shell.execute_reply": "2021-07-16T12:10:26.760744Z"
    },
    "papermill": {
     "duration": 0.046205,
     "end_time": "2021-07-16T12:10:26.760923",
     "exception": false,
     "start_time": "2021-07-16T12:10:26.714718",
     "status": "completed"
    },
    "tags": []
   },
   "outputs": [],
   "source": [
    "#hide\n",
    "# g = g.rename(columns= {'continent':'group','country':'name','cases':'value'})"
   ]
  },
  {
   "cell_type": "code",
   "execution_count": 36,
   "id": "fleet-motorcycle",
   "metadata": {
    "execution": {
     "iopub.execute_input": "2021-07-16T12:10:26.847378Z",
     "iopub.status.busy": "2021-07-16T12:10:26.846801Z",
     "iopub.status.idle": "2021-07-16T12:10:26.849046Z",
     "shell.execute_reply": "2021-07-16T12:10:26.848543Z"
    },
    "papermill": {
     "duration": 0.047643,
     "end_time": "2021-07-16T12:10:26.849193",
     "exception": false,
     "start_time": "2021-07-16T12:10:26.801550",
     "status": "completed"
    },
    "tags": []
   },
   "outputs": [],
   "source": [
    "#hide\n",
    "# cols = ['name','group','day','value']"
   ]
  },
  {
   "cell_type": "code",
   "execution_count": 37,
   "id": "continued-sleeping",
   "metadata": {
    "execution": {
     "iopub.execute_input": "2021-07-16T12:10:26.927799Z",
     "iopub.status.busy": "2021-07-16T12:10:26.927112Z",
     "iopub.status.idle": "2021-07-16T12:10:26.929731Z",
     "shell.execute_reply": "2021-07-16T12:10:26.929252Z"
    },
    "papermill": {
     "duration": 0.043066,
     "end_time": "2021-07-16T12:10:26.929851",
     "exception": false,
     "start_time": "2021-07-16T12:10:26.886785",
     "status": "completed"
    },
    "tags": []
   },
   "outputs": [],
   "source": [
    "#hide\n",
    "# g.rename(columns= {'date':'day'},inplace = True)"
   ]
  },
  {
   "cell_type": "code",
   "execution_count": 38,
   "id": "major-fight",
   "metadata": {
    "execution": {
     "iopub.execute_input": "2021-07-16T12:10:27.013364Z",
     "iopub.status.busy": "2021-07-16T12:10:27.012652Z",
     "iopub.status.idle": "2021-07-16T12:10:27.014778Z",
     "shell.execute_reply": "2021-07-16T12:10:27.015285Z"
    },
    "papermill": {
     "duration": 0.046034,
     "end_time": "2021-07-16T12:10:27.015417",
     "exception": false,
     "start_time": "2021-07-16T12:10:26.969383",
     "status": "completed"
    },
    "tags": []
   },
   "outputs": [],
   "source": [
    "#hide\n",
    "# g = g[cols]"
   ]
  },
  {
   "cell_type": "code",
   "execution_count": 39,
   "id": "structured-mobile",
   "metadata": {
    "execution": {
     "iopub.execute_input": "2021-07-16T12:10:27.098549Z",
     "iopub.status.busy": "2021-07-16T12:10:27.097905Z",
     "iopub.status.idle": "2021-07-16T12:10:27.100417Z",
     "shell.execute_reply": "2021-07-16T12:10:27.099845Z"
    },
    "papermill": {
     "duration": 0.048306,
     "end_time": "2021-07-16T12:10:27.100543",
     "exception": false,
     "start_time": "2021-07-16T12:10:27.052237",
     "status": "completed"
    },
    "tags": []
   },
   "outputs": [],
   "source": [
    "# #hide\n",
    "# g = g[g.group.notna()]"
   ]
  },
  {
   "cell_type": "code",
   "execution_count": 40,
   "id": "determined-closing",
   "metadata": {
    "execution": {
     "iopub.execute_input": "2021-07-16T12:10:27.185634Z",
     "iopub.status.busy": "2021-07-16T12:10:27.184578Z",
     "iopub.status.idle": "2021-07-16T12:10:27.189560Z",
     "shell.execute_reply": "2021-07-16T12:10:27.190290Z"
    },
    "papermill": {
     "duration": 0.047368,
     "end_time": "2021-07-16T12:10:27.190456",
     "exception": false,
     "start_time": "2021-07-16T12:10:27.143088",
     "status": "completed"
    },
    "tags": []
   },
   "outputs": [],
   "source": [
    "# #hide\n",
    "# colors = dict(zip(\n",
    "#     [\"Oceania\", \"Europe\", \"Asia\", \"South America\", \"Middle East\", \"North America\", \"Africa\"],\n",
    "#     [\"#adb0ff\", \"#ffb3ff\", \"#90d595\", \"#e48381\", \"#aafbff\", \"#f7bb5f\", \"#eafb50\"]\n",
    "# ))\n",
    "# group_lk = g.set_index('name')['group'].to_dict()"
   ]
  },
  {
   "cell_type": "code",
   "execution_count": null,
   "id": "gross-drinking",
   "metadata": {
    "papermill": {
     "duration": 0.036495,
     "end_time": "2021-07-16T12:10:27.267747",
     "exception": false,
     "start_time": "2021-07-16T12:10:27.231252",
     "status": "completed"
    },
    "tags": []
   },
   "outputs": [],
   "source": []
  },
  {
   "cell_type": "code",
   "execution_count": 41,
   "id": "subject-macintosh",
   "metadata": {
    "execution": {
     "iopub.execute_input": "2021-07-16T12:10:27.349816Z",
     "iopub.status.busy": "2021-07-16T12:10:27.349042Z",
     "iopub.status.idle": "2021-07-16T12:10:27.351603Z",
     "shell.execute_reply": "2021-07-16T12:10:27.351044Z"
    },
    "papermill": {
     "duration": 0.045137,
     "end_time": "2021-07-16T12:10:27.351720",
     "exception": false,
     "start_time": "2021-07-16T12:10:27.306583",
     "status": "completed"
    },
    "tags": []
   },
   "outputs": [],
   "source": [
    "# #hide\n",
    "# fig, ax = plt.subplots(figsize=(15, 8))\n",
    "\n",
    "# def draw_barchart(current_day):\n",
    "#     dff = g[g['day'].eq(current_day)].sort_values(by='value', ascending=True).tail(10)\n",
    "#     ax.clear()\n",
    "#     ax.barh(dff['name'], dff['value'], color=[colors[group_lk[x]] for x in dff['name']])\n",
    "#     dx = dff['value'].max() / 200\n",
    "    \n",
    "#     for i, (value, name) in enumerate(zip(dff['value'], dff['name'])):\n",
    "#         ax.text(value-dx, i,     name,           size=14, weight=600, ha='right', va='bottom')\n",
    "#         ax.text(value-dx, i-.25, group_lk[name], size=10, color='#444444', ha='right', va='baseline')\n",
    "#         ax.text(value+dx, i,     f'{value:,.0f}',  size=14, ha='left',  va='center')\n",
    "#     ax.text(1, 0.4, current_day, transform=ax.transAxes, color='#777777', size=46, ha='right', weight=800)\n",
    "#     ax.text(0, 1.06, 'Population (thousands)', transform=ax.transAxes, size=12, color='#777777')\n",
    "#     ax.xaxis.set_major_formatter(ticker.StrMethodFormatter('{x:,.0f}'))\n",
    "#     ax.xaxis.set_ticks_position('top')\n",
    "#     ax.tick_params(axis='x', colors='#777777', labelsize=12)\n",
    "#     ax.set_yticks([])\n",
    "#     ax.margins(0, 0.01)\n",
    "#     ax.grid(which='major', axis='x', linestyle='-')\n",
    "#     ax.set_axisbelow(True)\n",
    "    \n",
    "#     ax.text(0, 1.15, 'Coronavirus',\n",
    "#             transform=ax.transAxes, size=24, weight=600, ha='left', va='top')\n",
    "# #     ax.text(1, 0, 'by @pratapvardhan; credit @jburnmurdoch', transform=ax.transAxes, color='#777777', ha='right',\n",
    "# #             bbox=dict(facecolor='white', alpha=0.8, edgecolor='white'))\n",
    "#     plt.box(False)"
   ]
  },
  {
   "cell_type": "code",
   "execution_count": 42,
   "id": "sexual-wages",
   "metadata": {
    "execution": {
     "iopub.execute_input": "2021-07-16T12:10:27.432977Z",
     "iopub.status.busy": "2021-07-16T12:10:27.432345Z",
     "iopub.status.idle": "2021-07-16T12:10:27.434882Z",
     "shell.execute_reply": "2021-07-16T12:10:27.434213Z"
    },
    "papermill": {
     "duration": 0.044624,
     "end_time": "2021-07-16T12:10:27.435000",
     "exception": false,
     "start_time": "2021-07-16T12:10:27.390376",
     "status": "completed"
    },
    "tags": []
   },
   "outputs": [],
   "source": [
    "# #hide_input\n",
    "# fig, ax = plt.subplots(figsize=(15, 8))\n",
    "# animator = animation.FuncAnimation(fig, draw_barchart, frames=range(g.day.values.min(), g.day.values.max()))\n",
    "# HTML(animator.to_jshtml())\n",
    "# # or use animator.to_html5_video() or animator.save() "
   ]
  },
  {
   "cell_type": "code",
   "execution_count": null,
   "id": "australian-container",
   "metadata": {
    "papermill": {
     "duration": 0.03749,
     "end_time": "2021-07-16T12:10:27.509853",
     "exception": false,
     "start_time": "2021-07-16T12:10:27.472363",
     "status": "completed"
    },
    "tags": []
   },
   "outputs": [],
   "source": []
  },
  {
   "cell_type": "code",
   "execution_count": null,
   "id": "mediterranean-pontiac",
   "metadata": {
    "papermill": {
     "duration": 0.037144,
     "end_time": "2021-07-16T12:10:27.583414",
     "exception": false,
     "start_time": "2021-07-16T12:10:27.546270",
     "status": "completed"
    },
    "tags": []
   },
   "outputs": [],
   "source": []
  },
  {
   "cell_type": "code",
   "execution_count": null,
   "id": "aging-legislature",
   "metadata": {
    "papermill": {
     "duration": 0.036931,
     "end_time": "2021-07-16T12:10:27.658730",
     "exception": false,
     "start_time": "2021-07-16T12:10:27.621799",
     "status": "completed"
    },
    "tags": []
   },
   "outputs": [],
   "source": []
  }
 ],
 "metadata": {
  "kernelspec": {
   "display_name": "Python 3",
   "language": "python",
   "name": "python3"
  },
  "language_info": {
   "codemirror_mode": {
    "name": "ipython",
    "version": 3
   },
   "file_extension": ".py",
   "mimetype": "text/x-python",
   "name": "python",
   "nbconvert_exporter": "python",
   "pygments_lexer": "ipython3",
   "version": "3.6.14"
  },
  "papermill": {
   "duration": 6.793669,
   "end_time": "2021-07-16T12:10:28.005919",
   "environment_variables": {},
   "exception": null,
   "input_path": "2020-03-21-covid19exp.ipynb",
   "output_path": "2020-03-21-covid19exp.ipynb",
   "parameters": {},
   "start_time": "2021-07-16T12:10:21.212250",
   "version": "2.0.0"
  }
 },
 "nbformat": 4,
 "nbformat_minor": 5
}