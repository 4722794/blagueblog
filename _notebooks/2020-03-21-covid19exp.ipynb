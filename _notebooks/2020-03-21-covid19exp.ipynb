{
 "cells": [
  {
   "cell_type": "markdown",
   "id": "muslim-click",
   "metadata": {
    "papermill": {
     "duration": 0.038463,
     "end_time": "2021-03-11T12:07:21.068430",
     "exception": false,
     "start_time": "2021-03-11T12:07:21.029967",
     "status": "completed"
    },
    "tags": []
   },
   "source": [
    "# COVID-19 Case Race\n",
    "> A race chart to see rising cases around the world\n",
    "\n",
    "- author: Hargun Oberoi\n",
    "- image: images/covid-overview.png\n",
    "- hide: false\n",
    "- badges: false"
   ]
  },
  {
   "cell_type": "code",
   "execution_count": 1,
   "id": "proof-material",
   "metadata": {
    "execution": {
     "iopub.execute_input": "2021-03-11T12:07:21.152041Z",
     "iopub.status.busy": "2021-03-11T12:07:21.150893Z",
     "iopub.status.idle": "2021-03-11T12:07:21.544287Z",
     "shell.execute_reply": "2021-03-11T12:07:21.543690Z"
    },
    "papermill": {
     "duration": 0.441267,
     "end_time": "2021-03-11T12:07:21.544447",
     "exception": false,
     "start_time": "2021-03-11T12:07:21.103180",
     "status": "completed"
    },
    "tags": []
   },
   "outputs": [],
   "source": [
    "#hide\n",
    "import numpy as np\n",
    "import pandas as pd\n",
    "from jinja2 import Template\n",
    "from IPython.display import HTML"
   ]
  },
  {
   "cell_type": "code",
   "execution_count": 2,
   "id": "developed-terminology",
   "metadata": {
    "execution": {
     "iopub.execute_input": "2021-03-11T12:07:21.622177Z",
     "iopub.status.busy": "2021-03-11T12:07:21.621454Z",
     "iopub.status.idle": "2021-03-11T12:07:21.623104Z",
     "shell.execute_reply": "2021-03-11T12:07:21.623707Z"
    },
    "papermill": {
     "duration": 0.042119,
     "end_time": "2021-03-11T12:07:21.623917",
     "exception": false,
     "start_time": "2021-03-11T12:07:21.581798",
     "status": "completed"
    },
    "tags": []
   },
   "outputs": [],
   "source": [
    "#hide\n",
    "\n",
    "# FETCH\n",
    "base_url = 'https://raw.githubusercontent.com/pratapvardhan/notebooks/master/covid19/'\n",
    "paths = {\n",
    "    'mapping': base_url + 'mapping_countries.csv',\n",
    "    'overview': base_url + 'overview.tpl'\n",
    "}"
   ]
  },
  {
   "cell_type": "code",
   "execution_count": 3,
   "id": "dynamic-saver",
   "metadata": {
    "execution": {
     "iopub.execute_input": "2021-03-11T12:07:21.704375Z",
     "iopub.status.busy": "2021-03-11T12:07:21.703512Z",
     "iopub.status.idle": "2021-03-11T12:07:21.709447Z",
     "shell.execute_reply": "2021-03-11T12:07:21.709925Z"
    },
    "papermill": {
     "duration": 0.049128,
     "end_time": "2021-03-11T12:07:21.710071",
     "exception": false,
     "start_time": "2021-03-11T12:07:21.660943",
     "status": "completed"
    },
    "tags": []
   },
   "outputs": [
    {
     "data": {
      "text/plain": [
       "'https://raw.githubusercontent.com/pratapvardhan/notebooks/master/covid19/mapping_countries.csv'"
      ]
     },
     "execution_count": 3,
     "metadata": {},
     "output_type": "execute_result"
    }
   ],
   "source": [
    "#hide\n",
    "paths['mapping']"
   ]
  },
  {
   "cell_type": "code",
   "execution_count": 4,
   "id": "urban-software",
   "metadata": {
    "execution": {
     "iopub.execute_input": "2021-03-11T12:07:21.784664Z",
     "iopub.status.busy": "2021-03-11T12:07:21.784035Z",
     "iopub.status.idle": "2021-03-11T12:07:21.786312Z",
     "shell.execute_reply": "2021-03-11T12:07:21.785802Z"
    },
    "papermill": {
     "duration": 0.042203,
     "end_time": "2021-03-11T12:07:21.786437",
     "exception": false,
     "start_time": "2021-03-11T12:07:21.744234",
     "status": "completed"
    },
    "tags": []
   },
   "outputs": [],
   "source": [
    "#hide\n",
    "def get_mappings(url):\n",
    "    df = pd.read_csv(url)\n",
    "    return {\n",
    "        'df': df,\n",
    "        'replace.country': dict(df.dropna(subset=['Name']).set_index('Country')['Name']),\n",
    "        'map.continent': dict(df.set_index('Name')['Continent'])\n",
    "    }"
   ]
  },
  {
   "cell_type": "code",
   "execution_count": 5,
   "id": "intimate-machinery",
   "metadata": {
    "execution": {
     "iopub.execute_input": "2021-03-11T12:07:21.883949Z",
     "iopub.status.busy": "2021-03-11T12:07:21.883270Z",
     "iopub.status.idle": "2021-03-11T12:07:21.917046Z",
     "shell.execute_reply": "2021-03-11T12:07:21.916252Z"
    },
    "papermill": {
     "duration": 0.0832,
     "end_time": "2021-03-11T12:07:21.917231",
     "exception": false,
     "start_time": "2021-03-11T12:07:21.834031",
     "status": "completed"
    },
    "tags": []
   },
   "outputs": [],
   "source": [
    "#hide\n",
    "mapping = get_mappings(paths['mapping'])"
   ]
  },
  {
   "cell_type": "code",
   "execution_count": 6,
   "id": "certified-tactics",
   "metadata": {
    "execution": {
     "iopub.execute_input": "2021-03-11T12:07:21.999235Z",
     "iopub.status.busy": "2021-03-11T12:07:21.998606Z",
     "iopub.status.idle": "2021-03-11T12:07:22.000148Z",
     "shell.execute_reply": "2021-03-11T12:07:22.000818Z"
    },
    "papermill": {
     "duration": 0.045369,
     "end_time": "2021-03-11T12:07:22.001000",
     "exception": false,
     "start_time": "2021-03-11T12:07:21.955631",
     "status": "completed"
    },
    "tags": []
   },
   "outputs": [],
   "source": [
    "#hide\n",
    "def get_template(path):\n",
    "    from urllib.parse import urlparse\n",
    "    if bool(urlparse(path).netloc):\n",
    "        from urllib.request import urlopen\n",
    "        return urlopen(path).read().decode('utf8')\n",
    "    return open(path).read()"
   ]
  },
  {
   "cell_type": "code",
   "execution_count": 7,
   "id": "realistic-blast",
   "metadata": {
    "execution": {
     "iopub.execute_input": "2021-03-11T12:07:22.082341Z",
     "iopub.status.busy": "2021-03-11T12:07:22.081657Z",
     "iopub.status.idle": "2021-03-11T12:07:22.083071Z",
     "shell.execute_reply": "2021-03-11T12:07:22.083693Z"
    },
    "papermill": {
     "duration": 0.045269,
     "end_time": "2021-03-11T12:07:22.083842",
     "exception": false,
     "start_time": "2021-03-11T12:07:22.038573",
     "status": "completed"
    },
    "tags": []
   },
   "outputs": [],
   "source": [
    "#hide\n",
    "def get_frame(name):\n",
    "    url = (\n",
    "        'https://raw.githubusercontent.com/CSSEGISandData/COVID-19/master/csse_covid_19_data/'\n",
    "        f'csse_covid_19_time_series/time_series_covid19_{name}_global.csv')\n",
    "    df = pd.read_csv(url)\n",
    "    # rename countries\n",
    "    df['Country/Region'] = df['Country/Region'].replace(mapping['replace.country'])\n",
    "    return df"
   ]
  },
  {
   "cell_type": "code",
   "execution_count": 8,
   "id": "affiliated-characterization",
   "metadata": {
    "execution": {
     "iopub.execute_input": "2021-03-11T12:07:22.163248Z",
     "iopub.status.busy": "2021-03-11T12:07:22.162623Z",
     "iopub.status.idle": "2021-03-11T12:07:22.164989Z",
     "shell.execute_reply": "2021-03-11T12:07:22.164392Z"
    },
    "papermill": {
     "duration": 0.045991,
     "end_time": "2021-03-11T12:07:22.165115",
     "exception": false,
     "start_time": "2021-03-11T12:07:22.119124",
     "status": "completed"
    },
    "tags": []
   },
   "outputs": [],
   "source": [
    "#hide\n",
    "def get_dates(df):\n",
    "    dt_cols = df.columns[~df.columns.isin(['Province/State', 'Country/Region', 'Lat', 'Long'])]\n",
    "    LAST_DATE_I = -1\n",
    "    # sometimes last column may be empty, then go backwards\n",
    "    for i in range(-1, -len(dt_cols), -1):\n",
    "        if not df[dt_cols[i]].fillna(0).eq(0).all():\n",
    "            LAST_DATE_I = i\n",
    "            break\n",
    "    return LAST_DATE_I, dt_cols"
   ]
  },
  {
   "cell_type": "code",
   "execution_count": 9,
   "id": "recent-optimization",
   "metadata": {
    "execution": {
     "iopub.execute_input": "2021-03-11T12:07:22.243538Z",
     "iopub.status.busy": "2021-03-11T12:07:22.242909Z",
     "iopub.status.idle": "2021-03-11T12:07:22.529964Z",
     "shell.execute_reply": "2021-03-11T12:07:22.529238Z"
    },
    "papermill": {
     "duration": 0.328702,
     "end_time": "2021-03-11T12:07:22.530139",
     "exception": false,
     "start_time": "2021-03-11T12:07:22.201437",
     "status": "completed"
    },
    "tags": []
   },
   "outputs": [],
   "source": [
    "#hide\n",
    "COL_REGION = 'Country/Region'\n",
    "# Confirmed, Recovered, Deaths\n",
    "df = get_frame('confirmed')\n",
    "# dft_: timeseries, dfc_: today country agg\n",
    "dft_cases = df\n",
    "dft_deaths = get_frame('deaths')\n",
    "dft_recovered = get_frame('recovered')\n",
    "LAST_DATE_I, dt_cols = get_dates(df)"
   ]
  },
  {
   "cell_type": "code",
   "execution_count": 10,
   "id": "absolute-copper",
   "metadata": {
    "execution": {
     "iopub.execute_input": "2021-03-11T12:07:22.617385Z",
     "iopub.status.busy": "2021-03-11T12:07:22.616697Z",
     "iopub.status.idle": "2021-03-11T12:07:22.618093Z",
     "shell.execute_reply": "2021-03-11T12:07:22.618649Z"
    },
    "papermill": {
     "duration": 0.052495,
     "end_time": "2021-03-11T12:07:22.618794",
     "exception": false,
     "start_time": "2021-03-11T12:07:22.566299",
     "status": "completed"
    },
    "tags": []
   },
   "outputs": [],
   "source": [
    "#hide\n",
    "LAST_DATE_I, dt_cols = get_dates(df)\n",
    "dt_today =dt_cols[LAST_DATE_I]\n",
    "# dt_5day = dt_cols[LAST_DATE_I - 5]\n",
    "dt_yday = dt_cols[LAST_DATE_I - 1]"
   ]
  },
  {
   "cell_type": "code",
   "execution_count": 11,
   "id": "restricted-sheriff",
   "metadata": {
    "execution": {
     "iopub.execute_input": "2021-03-11T12:07:22.707046Z",
     "iopub.status.busy": "2021-03-11T12:07:22.703103Z",
     "iopub.status.idle": "2021-03-11T12:07:22.709670Z",
     "shell.execute_reply": "2021-03-11T12:07:22.709175Z"
    },
    "papermill": {
     "duration": 0.055675,
     "end_time": "2021-03-11T12:07:22.709802",
     "exception": false,
     "start_time": "2021-03-11T12:07:22.654127",
     "status": "completed"
    },
    "tags": []
   },
   "outputs": [],
   "source": [
    "#hide\n",
    "dfc_cases = dft_cases.groupby(COL_REGION)[dt_today].sum()\n",
    "dfc_deaths = dft_deaths.groupby(COL_REGION)[dt_today].sum()\n",
    "# dfp_cases = dft_cases.groupby(COL_REGION)[dt_5day].sum()\n",
    "# dfp_deaths = dft_deaths.groupby(COL_REGION)[dt_5day].sum()\n",
    "dfp_cases = dft_cases.groupby(COL_REGION)[dt_yday].sum()\n",
    "dfp_deaths = dft_deaths.groupby(COL_REGION)[dt_yday].sum()"
   ]
  },
  {
   "cell_type": "code",
   "execution_count": 12,
   "id": "deluxe-hepatitis",
   "metadata": {
    "execution": {
     "iopub.execute_input": "2021-03-11T12:07:22.787592Z",
     "iopub.status.busy": "2021-03-11T12:07:22.786961Z",
     "iopub.status.idle": "2021-03-11T12:07:22.792754Z",
     "shell.execute_reply": "2021-03-11T12:07:22.793242Z"
    },
    "papermill": {
     "duration": 0.049137,
     "end_time": "2021-03-11T12:07:22.793393",
     "exception": false,
     "start_time": "2021-03-11T12:07:22.744256",
     "status": "completed"
    },
    "tags": []
   },
   "outputs": [],
   "source": [
    "#hide\n",
    "df_table = (pd.DataFrame(dict(Cases = dfc_cases, Deaths = dfc_deaths, PCases = dfp_cases, PDeaths = dfp_deaths))\n",
    "            .sort_values(by = ['Cases','Deaths'], ascending = [False, False])\n",
    "            .reset_index())"
   ]
  },
  {
   "cell_type": "code",
   "execution_count": 13,
   "id": "educational-chancellor",
   "metadata": {
    "execution": {
     "iopub.execute_input": "2021-03-11T12:07:22.884721Z",
     "iopub.status.busy": "2021-03-11T12:07:22.883801Z",
     "iopub.status.idle": "2021-03-11T12:07:22.892523Z",
     "shell.execute_reply": "2021-03-11T12:07:22.893039Z"
    },
    "papermill": {
     "duration": 0.06606,
     "end_time": "2021-03-11T12:07:22.893194",
     "exception": false,
     "start_time": "2021-03-11T12:07:22.827134",
     "status": "completed"
    },
    "tags": []
   },
   "outputs": [
    {
     "data": {
      "text/html": [
       "<div>\n",
       "<style scoped>\n",
       "    .dataframe tbody tr th:only-of-type {\n",
       "        vertical-align: middle;\n",
       "    }\n",
       "\n",
       "    .dataframe tbody tr th {\n",
       "        vertical-align: top;\n",
       "    }\n",
       "\n",
       "    .dataframe thead th {\n",
       "        text-align: right;\n",
       "    }\n",
       "</style>\n",
       "<table border=\"1\" class=\"dataframe\">\n",
       "  <thead>\n",
       "    <tr style=\"text-align: right;\">\n",
       "      <th></th>\n",
       "      <th>Country/Region</th>\n",
       "      <th>Cases</th>\n",
       "      <th>Deaths</th>\n",
       "      <th>PCases</th>\n",
       "      <th>PDeaths</th>\n",
       "      <th>Cases (+)</th>\n",
       "      <th>Deaths (+)</th>\n",
       "      <th>Fatality Rate</th>\n",
       "      <th>Continent</th>\n",
       "    </tr>\n",
       "  </thead>\n",
       "  <tbody>\n",
       "    <tr>\n",
       "      <th>0</th>\n",
       "      <td>US</td>\n",
       "      <td>29154659</td>\n",
       "      <td>529263</td>\n",
       "      <td>29096048</td>\n",
       "      <td>527699</td>\n",
       "      <td>58611</td>\n",
       "      <td>1564</td>\n",
       "      <td>1.82</td>\n",
       "      <td>North America</td>\n",
       "    </tr>\n",
       "    <tr>\n",
       "      <th>1</th>\n",
       "      <td>India</td>\n",
       "      <td>11285561</td>\n",
       "      <td>158189</td>\n",
       "      <td>11262707</td>\n",
       "      <td>158063</td>\n",
       "      <td>22854</td>\n",
       "      <td>126</td>\n",
       "      <td>1.40</td>\n",
       "      <td>Asia</td>\n",
       "    </tr>\n",
       "    <tr>\n",
       "      <th>2</th>\n",
       "      <td>Brazil</td>\n",
       "      <td>11202305</td>\n",
       "      <td>270656</td>\n",
       "      <td>11122429</td>\n",
       "      <td>268370</td>\n",
       "      <td>79876</td>\n",
       "      <td>2286</td>\n",
       "      <td>2.42</td>\n",
       "      <td>South America</td>\n",
       "    </tr>\n",
       "    <tr>\n",
       "      <th>3</th>\n",
       "      <td>Russia</td>\n",
       "      <td>4302726</td>\n",
       "      <td>88773</td>\n",
       "      <td>4293750</td>\n",
       "      <td>88315</td>\n",
       "      <td>8976</td>\n",
       "      <td>458</td>\n",
       "      <td>2.06</td>\n",
       "      <td>Europe</td>\n",
       "    </tr>\n",
       "    <tr>\n",
       "      <th>4</th>\n",
       "      <td>United Kingdom</td>\n",
       "      <td>4247879</td>\n",
       "      <td>125222</td>\n",
       "      <td>4241858</td>\n",
       "      <td>125032</td>\n",
       "      <td>6021</td>\n",
       "      <td>190</td>\n",
       "      <td>2.95</td>\n",
       "      <td>Europe</td>\n",
       "    </tr>\n",
       "  </tbody>\n",
       "</table>\n",
       "</div>"
      ],
      "text/plain": [
       "   Country/Region     Cases  Deaths    PCases  PDeaths  Cases (+)  Deaths (+)  \\\n",
       "0              US  29154659  529263  29096048   527699      58611        1564   \n",
       "1           India  11285561  158189  11262707   158063      22854         126   \n",
       "2          Brazil  11202305  270656  11122429   268370      79876        2286   \n",
       "3          Russia   4302726   88773   4293750    88315       8976         458   \n",
       "4  United Kingdom   4247879  125222   4241858   125032       6021         190   \n",
       "\n",
       "   Fatality Rate      Continent  \n",
       "0           1.82  North America  \n",
       "1           1.40           Asia  \n",
       "2           2.42  South America  \n",
       "3           2.06         Europe  \n",
       "4           2.95         Europe  "
      ]
     },
     "execution_count": 13,
     "metadata": {},
     "output_type": "execute_result"
    }
   ],
   "source": [
    "#hide\n",
    "for c in 'Cases, Deaths'.split(', '):\n",
    "    df_table[f'{c} (+)'] = (df_table[c] - df_table[f'P{c}']).clip(0)\n",
    "    #Clip ça veut dire, les chiffres negatif sont interdit\n",
    "df_table['Fatality Rate'] = (100* df_table['Deaths']/ df_table['Cases']).round(2)\n",
    "df_table['Continent'] = df_table['Country/Region'].map(mapping['map.continent'])\n",
    "df_table.head(5)"
   ]
  },
  {
   "cell_type": "code",
   "execution_count": 14,
   "id": "aboriginal-bulgaria",
   "metadata": {
    "execution": {
     "iopub.execute_input": "2021-03-11T12:07:22.970917Z",
     "iopub.status.busy": "2021-03-11T12:07:22.970294Z",
     "iopub.status.idle": "2021-03-11T12:07:22.974136Z",
     "shell.execute_reply": "2021-03-11T12:07:22.973658Z"
    },
    "papermill": {
     "duration": 0.044956,
     "end_time": "2021-03-11T12:07:22.974263",
     "exception": false,
     "start_time": "2021-03-11T12:07:22.929307",
     "status": "completed"
    },
    "tags": []
   },
   "outputs": [],
   "source": [
    "#hide\n",
    "#delete problematic countries from table\n",
    "df_table = df_table[~df_table['Country/Region'].isin(['Cape Verde', 'Cruise Ship', 'Kosovo'])]"
   ]
  },
  {
   "cell_type": "code",
   "execution_count": 15,
   "id": "fantastic-effect",
   "metadata": {
    "execution": {
     "iopub.execute_input": "2021-03-11T12:07:23.055936Z",
     "iopub.status.busy": "2021-03-11T12:07:23.054797Z",
     "iopub.status.idle": "2021-03-11T12:07:23.074169Z",
     "shell.execute_reply": "2021-03-11T12:07:23.074662Z"
    },
    "papermill": {
     "duration": 0.065507,
     "end_time": "2021-03-11T12:07:23.074816",
     "exception": false,
     "start_time": "2021-03-11T12:07:23.009309",
     "status": "completed"
    },
    "tags": []
   },
   "outputs": [
    {
     "data": {
      "text/html": [
       "<div>\n",
       "<style scoped>\n",
       "    .dataframe tbody tr th:only-of-type {\n",
       "        vertical-align: middle;\n",
       "    }\n",
       "\n",
       "    .dataframe tbody tr th {\n",
       "        vertical-align: top;\n",
       "    }\n",
       "\n",
       "    .dataframe thead th {\n",
       "        text-align: right;\n",
       "    }\n",
       "</style>\n",
       "<table border=\"1\" class=\"dataframe\">\n",
       "  <thead>\n",
       "    <tr style=\"text-align: right;\">\n",
       "      <th></th>\n",
       "      <th>Country/Region</th>\n",
       "      <th>Cases</th>\n",
       "      <th>Deaths</th>\n",
       "      <th>PCases</th>\n",
       "      <th>PDeaths</th>\n",
       "      <th>Cases (+)</th>\n",
       "      <th>Deaths (+)</th>\n",
       "      <th>Fatality Rate</th>\n",
       "      <th>Continent</th>\n",
       "    </tr>\n",
       "  </thead>\n",
       "  <tbody>\n",
       "    <tr>\n",
       "      <th>0</th>\n",
       "      <td>US</td>\n",
       "      <td>29154659</td>\n",
       "      <td>529263</td>\n",
       "      <td>29096048</td>\n",
       "      <td>527699</td>\n",
       "      <td>58611</td>\n",
       "      <td>1564</td>\n",
       "      <td>1.8</td>\n",
       "      <td>North America</td>\n",
       "    </tr>\n",
       "    <tr>\n",
       "      <th>1</th>\n",
       "      <td>India</td>\n",
       "      <td>11285561</td>\n",
       "      <td>158189</td>\n",
       "      <td>11262707</td>\n",
       "      <td>158063</td>\n",
       "      <td>22854</td>\n",
       "      <td>126</td>\n",
       "      <td>1.4</td>\n",
       "      <td>Asia</td>\n",
       "    </tr>\n",
       "    <tr>\n",
       "      <th>2</th>\n",
       "      <td>Brazil</td>\n",
       "      <td>11202305</td>\n",
       "      <td>270656</td>\n",
       "      <td>11122429</td>\n",
       "      <td>268370</td>\n",
       "      <td>79876</td>\n",
       "      <td>2286</td>\n",
       "      <td>2.4</td>\n",
       "      <td>South America</td>\n",
       "    </tr>\n",
       "    <tr>\n",
       "      <th>3</th>\n",
       "      <td>Russia</td>\n",
       "      <td>4302726</td>\n",
       "      <td>88773</td>\n",
       "      <td>4293750</td>\n",
       "      <td>88315</td>\n",
       "      <td>8976</td>\n",
       "      <td>458</td>\n",
       "      <td>2.1</td>\n",
       "      <td>Europe</td>\n",
       "    </tr>\n",
       "    <tr>\n",
       "      <th>4</th>\n",
       "      <td>United Kingdom</td>\n",
       "      <td>4247879</td>\n",
       "      <td>125222</td>\n",
       "      <td>4241858</td>\n",
       "      <td>125032</td>\n",
       "      <td>6021</td>\n",
       "      <td>190</td>\n",
       "      <td>2.9</td>\n",
       "      <td>Europe</td>\n",
       "    </tr>\n",
       "  </tbody>\n",
       "</table>\n",
       "</div>"
      ],
      "text/plain": [
       "   Country/Region     Cases  Deaths    PCases  PDeaths  Cases (+)  Deaths (+)  \\\n",
       "0              US  29154659  529263  29096048   527699      58611        1564   \n",
       "1           India  11285561  158189  11262707   158063      22854         126   \n",
       "2          Brazil  11202305  270656  11122429   268370      79876        2286   \n",
       "3          Russia   4302726   88773   4293750    88315       8976         458   \n",
       "4  United Kingdom   4247879  125222   4241858   125032       6021         190   \n",
       "\n",
       "   Fatality Rate      Continent  \n",
       "0            1.8  North America  \n",
       "1            1.4           Asia  \n",
       "2            2.4  South America  \n",
       "3            2.1         Europe  \n",
       "4            2.9         Europe  "
      ]
     },
     "execution_count": 15,
     "metadata": {},
     "output_type": "execute_result"
    }
   ],
   "source": [
    "#hide\n",
    "df_table = (pd.DataFrame(dict(Cases=dfc_cases, Deaths=dfc_deaths, PCases=dfp_cases, PDeaths=dfp_deaths))\n",
    "             .sort_values(by=['Cases', 'Deaths'], ascending=[False, False])\n",
    "             .reset_index())\n",
    "df_table.rename(columns={'index': 'Country/Region'}, inplace=True)\n",
    "for c in 'Cases, Deaths'.split(', '):\n",
    "    df_table[f'{c} (+)'] = (df_table[c] - df_table[f'P{c}']).clip(0)  # DATA BUG\n",
    "df_table['Fatality Rate'] = (100 * df_table['Deaths'] / df_table['Cases']).round(1)\n",
    "df_table['Continent'] = df_table['Country/Region'].map(mapping['map.continent'])\n",
    "df_table.head(5)"
   ]
  },
  {
   "cell_type": "code",
   "execution_count": 16,
   "id": "fewer-occasion",
   "metadata": {
    "execution": {
     "iopub.execute_input": "2021-03-11T12:07:23.154525Z",
     "iopub.status.busy": "2021-03-11T12:07:23.153887Z",
     "iopub.status.idle": "2021-03-11T12:07:23.157370Z",
     "shell.execute_reply": "2021-03-11T12:07:23.156703Z"
    },
    "papermill": {
     "duration": 0.046849,
     "end_time": "2021-03-11T12:07:23.157513",
     "exception": false,
     "start_time": "2021-03-11T12:07:23.110664",
     "status": "completed"
    },
    "tags": []
   },
   "outputs": [],
   "source": [
    "#hide\n",
    "#delete problematic countries from table\n",
    "df_table = df_table[~df_table['Country/Region'].isin(['Cape Verde', 'Cruise Ship', 'Kosovo'])]"
   ]
  },
  {
   "cell_type": "code",
   "execution_count": 17,
   "id": "related-center",
   "metadata": {
    "execution": {
     "iopub.execute_input": "2021-03-11T12:07:23.238427Z",
     "iopub.status.busy": "2021-03-11T12:07:23.237764Z",
     "iopub.status.idle": "2021-03-11T12:07:23.253621Z",
     "shell.execute_reply": "2021-03-11T12:07:23.254107Z"
    },
    "papermill": {
     "duration": 0.061465,
     "end_time": "2021-03-11T12:07:23.254256",
     "exception": false,
     "start_time": "2021-03-11T12:07:23.192791",
     "status": "completed"
    },
    "tags": []
   },
   "outputs": [],
   "source": [
    "#hide\n",
    "metrics = [df_table.columns[index] for index in [1,2,5,6]]\n",
    "# s_china = df_table[df_table['Country/Region'].eq('China')][metrics].sum().add_prefix('China ')\n",
    "s_us = df_table[df_table['Country/Region'].eq('US')][metrics].sum().add_prefix('US ')\n",
    "s_eu = df_table[df_table['Continent'].eq('Europe')][metrics].sum().add_prefix('EU ')\n",
    "s_ind = df_table[df_table['Country/Region'].eq('India')][metrics].sum().add_prefix('India ')\n",
    "summary = {'updated': pd.to_datetime(dt_today), 'since': pd.to_datetime(dt_yday)}\n",
    "summary = {'updated': pd.to_datetime(dt_today), 'since': pd.to_datetime(dt_yday)}\n",
    "summary = {**summary, **df_table[metrics].sum(), **s_ind, **s_us, **s_eu}"
   ]
  },
  {
   "cell_type": "code",
   "execution_count": 18,
   "id": "engaging-syndrome",
   "metadata": {
    "execution": {
     "iopub.execute_input": "2021-03-11T12:07:23.334260Z",
     "iopub.status.busy": "2021-03-11T12:07:23.330873Z",
     "iopub.status.idle": "2021-03-11T12:07:23.345417Z",
     "shell.execute_reply": "2021-03-11T12:07:23.345914Z"
    },
    "papermill": {
     "duration": 0.055756,
     "end_time": "2021-03-11T12:07:23.346064",
     "exception": false,
     "start_time": "2021-03-11T12:07:23.290308",
     "status": "completed"
    },
    "tags": []
   },
   "outputs": [],
   "source": [
    "#hide\n",
    "dft_ct_new_cases = dft_cases.groupby(COL_REGION)[dt_cols].sum().diff(axis=1).fillna(0).astype(int)"
   ]
  },
  {
   "cell_type": "code",
   "execution_count": 19,
   "id": "neutral-assignment",
   "metadata": {
    "execution": {
     "iopub.execute_input": "2021-03-11T12:07:23.436961Z",
     "iopub.status.busy": "2021-03-11T12:07:23.436351Z",
     "iopub.status.idle": "2021-03-11T12:07:23.438910Z",
     "shell.execute_reply": "2021-03-11T12:07:23.439500Z"
    },
    "papermill": {
     "duration": 0.047575,
     "end_time": "2021-03-11T12:07:23.439642",
     "exception": false,
     "start_time": "2021-03-11T12:07:23.392067",
     "status": "completed"
    },
    "tags": []
   },
   "outputs": [],
   "source": [
    "#hide\n",
    "everydaycases = dft_ct_new_cases.cumsum(axis=1)"
   ]
  },
  {
   "cell_type": "code",
   "execution_count": 20,
   "id": "parliamentary-calgary",
   "metadata": {
    "execution": {
     "iopub.execute_input": "2021-03-11T12:07:23.515731Z",
     "iopub.status.busy": "2021-03-11T12:07:23.515134Z",
     "iopub.status.idle": "2021-03-11T12:07:24.936610Z",
     "shell.execute_reply": "2021-03-11T12:07:24.936026Z"
    },
    "papermill": {
     "duration": 1.462076,
     "end_time": "2021-03-11T12:07:24.936741",
     "exception": false,
     "start_time": "2021-03-11T12:07:23.474665",
     "status": "completed"
    },
    "tags": []
   },
   "outputs": [],
   "source": [
    "#hide\n",
    "import pandas as pd\n",
    "import matplotlib.pyplot as plt\n",
    "import matplotlib.ticker as ticker\n",
    "import matplotlib.animation as animation\n",
    "from IPython.display import HTML"
   ]
  },
  {
   "cell_type": "code",
   "execution_count": 21,
   "id": "lasting-extraction",
   "metadata": {
    "execution": {
     "iopub.execute_input": "2021-03-11T12:07:25.013253Z",
     "iopub.status.busy": "2021-03-11T12:07:25.012648Z",
     "iopub.status.idle": "2021-03-11T12:07:25.017841Z",
     "shell.execute_reply": "2021-03-11T12:07:25.018347Z"
    },
    "papermill": {
     "duration": 0.047082,
     "end_time": "2021-03-11T12:07:25.018490",
     "exception": false,
     "start_time": "2021-03-11T12:07:24.971408",
     "status": "completed"
    },
    "tags": []
   },
   "outputs": [],
   "source": [
    "#hide\n",
    "t = everydaycases.stack()"
   ]
  },
  {
   "cell_type": "code",
   "execution_count": 22,
   "id": "premier-sleeve",
   "metadata": {
    "execution": {
     "iopub.execute_input": "2021-03-11T12:07:25.094754Z",
     "iopub.status.busy": "2021-03-11T12:07:25.094072Z",
     "iopub.status.idle": "2021-03-11T12:07:25.101719Z",
     "shell.execute_reply": "2021-03-11T12:07:25.101203Z"
    },
    "papermill": {
     "duration": 0.047796,
     "end_time": "2021-03-11T12:07:25.101844",
     "exception": false,
     "start_time": "2021-03-11T12:07:25.054048",
     "status": "completed"
    },
    "tags": []
   },
   "outputs": [],
   "source": [
    "#hide\n",
    "g = t.reset_index(['Country/Region'])"
   ]
  },
  {
   "cell_type": "code",
   "execution_count": 23,
   "id": "distributed-pittsburgh",
   "metadata": {
    "execution": {
     "iopub.execute_input": "2021-03-11T12:07:25.176117Z",
     "iopub.status.busy": "2021-03-11T12:07:25.175490Z",
     "iopub.status.idle": "2021-03-11T12:07:25.177845Z",
     "shell.execute_reply": "2021-03-11T12:07:25.177345Z"
    },
    "papermill": {
     "duration": 0.041099,
     "end_time": "2021-03-11T12:07:25.177966",
     "exception": false,
     "start_time": "2021-03-11T12:07:25.136867",
     "status": "completed"
    },
    "tags": []
   },
   "outputs": [],
   "source": [
    "#hide\n",
    "g.index.name = 'date'"
   ]
  },
  {
   "cell_type": "code",
   "execution_count": 24,
   "id": "naked-donor",
   "metadata": {
    "execution": {
     "iopub.execute_input": "2021-03-11T12:07:25.255133Z",
     "iopub.status.busy": "2021-03-11T12:07:25.254508Z",
     "iopub.status.idle": "2021-03-11T12:07:25.256690Z",
     "shell.execute_reply": "2021-03-11T12:07:25.256174Z"
    },
    "papermill": {
     "duration": 0.044038,
     "end_time": "2021-03-11T12:07:25.256813",
     "exception": false,
     "start_time": "2021-03-11T12:07:25.212775",
     "status": "completed"
    },
    "tags": []
   },
   "outputs": [],
   "source": [
    "# #hide\n",
    "# g = g.reset_index(['date'])"
   ]
  },
  {
   "cell_type": "code",
   "execution_count": 25,
   "id": "incomplete-mustang",
   "metadata": {
    "execution": {
     "iopub.execute_input": "2021-03-11T12:07:25.330752Z",
     "iopub.status.busy": "2021-03-11T12:07:25.330002Z",
     "iopub.status.idle": "2021-03-11T12:07:25.331482Z",
     "shell.execute_reply": "2021-03-11T12:07:25.332060Z"
    },
    "papermill": {
     "duration": 0.040474,
     "end_time": "2021-03-11T12:07:25.332204",
     "exception": false,
     "start_time": "2021-03-11T12:07:25.291730",
     "status": "completed"
    },
    "tags": []
   },
   "outputs": [],
   "source": [
    "#hide\n",
    "# g.head()"
   ]
  },
  {
   "cell_type": "code",
   "execution_count": 26,
   "id": "specific-kruger",
   "metadata": {
    "execution": {
     "iopub.execute_input": "2021-03-11T12:07:25.406865Z",
     "iopub.status.busy": "2021-03-11T12:07:25.406235Z",
     "iopub.status.idle": "2021-03-11T12:07:25.409991Z",
     "shell.execute_reply": "2021-03-11T12:07:25.409400Z"
    },
    "papermill": {
     "duration": 0.043559,
     "end_time": "2021-03-11T12:07:25.410120",
     "exception": false,
     "start_time": "2021-03-11T12:07:25.366561",
     "status": "completed"
    },
    "tags": []
   },
   "outputs": [],
   "source": [
    "#hide\n",
    "# g.columns = ['date','country','cases']"
   ]
  },
  {
   "cell_type": "code",
   "execution_count": 27,
   "id": "tender-conversion",
   "metadata": {
    "execution": {
     "iopub.execute_input": "2021-03-11T12:07:25.492247Z",
     "iopub.status.busy": "2021-03-11T12:07:25.491590Z",
     "iopub.status.idle": "2021-03-11T12:07:25.494272Z",
     "shell.execute_reply": "2021-03-11T12:07:25.494839Z"
    },
    "papermill": {
     "duration": 0.042803,
     "end_time": "2021-03-11T12:07:25.494983",
     "exception": false,
     "start_time": "2021-03-11T12:07:25.452180",
     "status": "completed"
    },
    "tags": []
   },
   "outputs": [],
   "source": [
    "#hide\n",
    "# g['continent'] = g.country"
   ]
  },
  {
   "cell_type": "code",
   "execution_count": 28,
   "id": "substantial-wilderness",
   "metadata": {
    "execution": {
     "iopub.execute_input": "2021-03-11T12:07:26.055948Z",
     "iopub.status.busy": "2021-03-11T12:07:26.055248Z",
     "iopub.status.idle": "2021-03-11T12:07:26.058605Z",
     "shell.execute_reply": "2021-03-11T12:07:26.059066Z"
    },
    "papermill": {
     "duration": 0.526962,
     "end_time": "2021-03-11T12:07:26.059222",
     "exception": false,
     "start_time": "2021-03-11T12:07:25.532260",
     "status": "completed"
    },
    "tags": []
   },
   "outputs": [],
   "source": [
    "#hide\n",
    "# cols = list(g.columns.values)"
   ]
  },
  {
   "cell_type": "code",
   "execution_count": 29,
   "id": "solved-farming",
   "metadata": {
    "execution": {
     "iopub.execute_input": "2021-03-11T12:07:26.407016Z",
     "iopub.status.busy": "2021-03-11T12:07:26.406394Z",
     "iopub.status.idle": "2021-03-11T12:07:26.409410Z",
     "shell.execute_reply": "2021-03-11T12:07:26.409981Z"
    },
    "papermill": {
     "duration": 0.043252,
     "end_time": "2021-03-11T12:07:26.410129",
     "exception": false,
     "start_time": "2021-03-11T12:07:26.366877",
     "status": "completed"
    },
    "tags": []
   },
   "outputs": [],
   "source": [
    "#hide\n",
    "# cols.insert(0, cols.pop())"
   ]
  },
  {
   "cell_type": "code",
   "execution_count": 30,
   "id": "executed-adoption",
   "metadata": {
    "execution": {
     "iopub.execute_input": "2021-03-11T12:07:26.488219Z",
     "iopub.status.busy": "2021-03-11T12:07:26.487583Z",
     "iopub.status.idle": "2021-03-11T12:07:26.489562Z",
     "shell.execute_reply": "2021-03-11T12:07:26.490010Z"
    },
    "papermill": {
     "duration": 0.042511,
     "end_time": "2021-03-11T12:07:26.490160",
     "exception": false,
     "start_time": "2021-03-11T12:07:26.447649",
     "status": "completed"
    },
    "tags": []
   },
   "outputs": [],
   "source": [
    "#hide\n",
    "# g = g[cols]"
   ]
  },
  {
   "cell_type": "code",
   "execution_count": 31,
   "id": "subject-dublin",
   "metadata": {
    "execution": {
     "iopub.execute_input": "2021-03-11T12:07:26.568687Z",
     "iopub.status.busy": "2021-03-11T12:07:26.568028Z",
     "iopub.status.idle": "2021-03-11T12:07:26.569783Z",
     "shell.execute_reply": "2021-03-11T12:07:26.570260Z"
    },
    "papermill": {
     "duration": 0.04511,
     "end_time": "2021-03-11T12:07:26.570408",
     "exception": false,
     "start_time": "2021-03-11T12:07:26.525298",
     "status": "completed"
    },
    "tags": []
   },
   "outputs": [],
   "source": [
    "#hide\n",
    "# g['continent'] = g['continent'].map(mapping['map.continent'])"
   ]
  },
  {
   "cell_type": "code",
   "execution_count": 32,
   "id": "freelance-scout",
   "metadata": {
    "execution": {
     "iopub.execute_input": "2021-03-11T12:07:26.647814Z",
     "iopub.status.busy": "2021-03-11T12:07:26.647196Z",
     "iopub.status.idle": "2021-03-11T12:07:26.649614Z",
     "shell.execute_reply": "2021-03-11T12:07:26.649100Z"
    },
    "papermill": {
     "duration": 0.041971,
     "end_time": "2021-03-11T12:07:26.649741",
     "exception": false,
     "start_time": "2021-03-11T12:07:26.607770",
     "status": "completed"
    },
    "tags": []
   },
   "outputs": [],
   "source": [
    "#hide\n",
    "# g.head()"
   ]
  },
  {
   "cell_type": "code",
   "execution_count": 33,
   "id": "limited-engine",
   "metadata": {
    "execution": {
     "iopub.execute_input": "2021-03-11T12:07:26.724869Z",
     "iopub.status.busy": "2021-03-11T12:07:26.724243Z",
     "iopub.status.idle": "2021-03-11T12:07:26.726260Z",
     "shell.execute_reply": "2021-03-11T12:07:26.726768Z"
    },
    "papermill": {
     "duration": 0.042011,
     "end_time": "2021-03-11T12:07:26.726914",
     "exception": false,
     "start_time": "2021-03-11T12:07:26.684903",
     "status": "completed"
    },
    "tags": []
   },
   "outputs": [],
   "source": [
    "# hide\n",
    "# g['date'] = g['date'].astype('datetime64[ns]')"
   ]
  },
  {
   "cell_type": "code",
   "execution_count": 34,
   "id": "sophisticated-supervisor",
   "metadata": {
    "execution": {
     "iopub.execute_input": "2021-03-11T12:07:26.805085Z",
     "iopub.status.busy": "2021-03-11T12:07:26.804477Z",
     "iopub.status.idle": "2021-03-11T12:07:26.807316Z",
     "shell.execute_reply": "2021-03-11T12:07:26.806834Z"
    },
    "papermill": {
     "duration": 0.043187,
     "end_time": "2021-03-11T12:07:26.807443",
     "exception": false,
     "start_time": "2021-03-11T12:07:26.764256",
     "status": "completed"
    },
    "tags": []
   },
   "outputs": [],
   "source": [
    "#hide\n",
    "# g['date'] = g.date.dt.dayofyear"
   ]
  },
  {
   "cell_type": "code",
   "execution_count": 35,
   "id": "inside-dubai",
   "metadata": {
    "execution": {
     "iopub.execute_input": "2021-03-11T12:07:26.881936Z",
     "iopub.status.busy": "2021-03-11T12:07:26.881334Z",
     "iopub.status.idle": "2021-03-11T12:07:26.883737Z",
     "shell.execute_reply": "2021-03-11T12:07:26.884336Z"
    },
    "papermill": {
     "duration": 0.04265,
     "end_time": "2021-03-11T12:07:26.884484",
     "exception": false,
     "start_time": "2021-03-11T12:07:26.841834",
     "status": "completed"
    },
    "tags": []
   },
   "outputs": [],
   "source": [
    "#hide\n",
    "# g = g.rename(columns= {'continent':'group','country':'name','cases':'value'})"
   ]
  },
  {
   "cell_type": "code",
   "execution_count": 36,
   "id": "fleet-motorcycle",
   "metadata": {
    "execution": {
     "iopub.execute_input": "2021-03-11T12:07:26.957996Z",
     "iopub.status.busy": "2021-03-11T12:07:26.957360Z",
     "iopub.status.idle": "2021-03-11T12:07:26.959217Z",
     "shell.execute_reply": "2021-03-11T12:07:26.959668Z"
    },
    "papermill": {
     "duration": 0.040817,
     "end_time": "2021-03-11T12:07:26.959816",
     "exception": false,
     "start_time": "2021-03-11T12:07:26.918999",
     "status": "completed"
    },
    "tags": []
   },
   "outputs": [],
   "source": [
    "#hide\n",
    "# cols = ['name','group','day','value']"
   ]
  },
  {
   "cell_type": "code",
   "execution_count": 37,
   "id": "continued-sleeping",
   "metadata": {
    "execution": {
     "iopub.execute_input": "2021-03-11T12:07:27.037499Z",
     "iopub.status.busy": "2021-03-11T12:07:27.036887Z",
     "iopub.status.idle": "2021-03-11T12:07:27.039688Z",
     "shell.execute_reply": "2021-03-11T12:07:27.039207Z"
    },
    "papermill": {
     "duration": 0.042414,
     "end_time": "2021-03-11T12:07:27.039812",
     "exception": false,
     "start_time": "2021-03-11T12:07:26.997398",
     "status": "completed"
    },
    "tags": []
   },
   "outputs": [],
   "source": [
    "#hide\n",
    "# g.rename(columns= {'date':'day'},inplace = True)"
   ]
  },
  {
   "cell_type": "code",
   "execution_count": 38,
   "id": "major-fight",
   "metadata": {
    "execution": {
     "iopub.execute_input": "2021-03-11T12:07:27.115423Z",
     "iopub.status.busy": "2021-03-11T12:07:27.114805Z",
     "iopub.status.idle": "2021-03-11T12:07:27.117126Z",
     "shell.execute_reply": "2021-03-11T12:07:27.116612Z"
    },
    "papermill": {
     "duration": 0.040661,
     "end_time": "2021-03-11T12:07:27.117252",
     "exception": false,
     "start_time": "2021-03-11T12:07:27.076591",
     "status": "completed"
    },
    "tags": []
   },
   "outputs": [],
   "source": [
    "#hide\n",
    "# g = g[cols]"
   ]
  },
  {
   "cell_type": "code",
   "execution_count": 39,
   "id": "structured-mobile",
   "metadata": {
    "execution": {
     "iopub.execute_input": "2021-03-11T12:07:27.191211Z",
     "iopub.status.busy": "2021-03-11T12:07:27.190527Z",
     "iopub.status.idle": "2021-03-11T12:07:27.192441Z",
     "shell.execute_reply": "2021-03-11T12:07:27.193012Z"
    },
    "papermill": {
     "duration": 0.041522,
     "end_time": "2021-03-11T12:07:27.193160",
     "exception": false,
     "start_time": "2021-03-11T12:07:27.151638",
     "status": "completed"
    },
    "tags": []
   },
   "outputs": [],
   "source": [
    "# #hide\n",
    "# g = g[g.group.notna()]"
   ]
  },
  {
   "cell_type": "code",
   "execution_count": 40,
   "id": "determined-closing",
   "metadata": {
    "execution": {
     "iopub.execute_input": "2021-03-11T12:07:27.271230Z",
     "iopub.status.busy": "2021-03-11T12:07:27.270605Z",
     "iopub.status.idle": "2021-03-11T12:07:27.273071Z",
     "shell.execute_reply": "2021-03-11T12:07:27.273639Z"
    },
    "papermill": {
     "duration": 0.045951,
     "end_time": "2021-03-11T12:07:27.273793",
     "exception": false,
     "start_time": "2021-03-11T12:07:27.227842",
     "status": "completed"
    },
    "tags": []
   },
   "outputs": [],
   "source": [
    "# #hide\n",
    "# colors = dict(zip(\n",
    "#     [\"Oceania\", \"Europe\", \"Asia\", \"South America\", \"Middle East\", \"North America\", \"Africa\"],\n",
    "#     [\"#adb0ff\", \"#ffb3ff\", \"#90d595\", \"#e48381\", \"#aafbff\", \"#f7bb5f\", \"#eafb50\"]\n",
    "# ))\n",
    "# group_lk = g.set_index('name')['group'].to_dict()"
   ]
  },
  {
   "cell_type": "code",
   "execution_count": null,
   "id": "gross-drinking",
   "metadata": {
    "papermill": {
     "duration": 0.034269,
     "end_time": "2021-03-11T12:07:27.342405",
     "exception": false,
     "start_time": "2021-03-11T12:07:27.308136",
     "status": "completed"
    },
    "tags": []
   },
   "outputs": [],
   "source": []
  },
  {
   "cell_type": "code",
   "execution_count": 41,
   "id": "subject-macintosh",
   "metadata": {
    "execution": {
     "iopub.execute_input": "2021-03-11T12:07:27.415705Z",
     "iopub.status.busy": "2021-03-11T12:07:27.415078Z",
     "iopub.status.idle": "2021-03-11T12:07:27.416832Z",
     "shell.execute_reply": "2021-03-11T12:07:27.417350Z"
    },
    "papermill": {
     "duration": 0.040674,
     "end_time": "2021-03-11T12:07:27.417498",
     "exception": false,
     "start_time": "2021-03-11T12:07:27.376824",
     "status": "completed"
    },
    "tags": []
   },
   "outputs": [],
   "source": [
    "# #hide\n",
    "# fig, ax = plt.subplots(figsize=(15, 8))\n",
    "\n",
    "# def draw_barchart(current_day):\n",
    "#     dff = g[g['day'].eq(current_day)].sort_values(by='value', ascending=True).tail(10)\n",
    "#     ax.clear()\n",
    "#     ax.barh(dff['name'], dff['value'], color=[colors[group_lk[x]] for x in dff['name']])\n",
    "#     dx = dff['value'].max() / 200\n",
    "    \n",
    "#     for i, (value, name) in enumerate(zip(dff['value'], dff['name'])):\n",
    "#         ax.text(value-dx, i,     name,           size=14, weight=600, ha='right', va='bottom')\n",
    "#         ax.text(value-dx, i-.25, group_lk[name], size=10, color='#444444', ha='right', va='baseline')\n",
    "#         ax.text(value+dx, i,     f'{value:,.0f}',  size=14, ha='left',  va='center')\n",
    "#     ax.text(1, 0.4, current_day, transform=ax.transAxes, color='#777777', size=46, ha='right', weight=800)\n",
    "#     ax.text(0, 1.06, 'Population (thousands)', transform=ax.transAxes, size=12, color='#777777')\n",
    "#     ax.xaxis.set_major_formatter(ticker.StrMethodFormatter('{x:,.0f}'))\n",
    "#     ax.xaxis.set_ticks_position('top')\n",
    "#     ax.tick_params(axis='x', colors='#777777', labelsize=12)\n",
    "#     ax.set_yticks([])\n",
    "#     ax.margins(0, 0.01)\n",
    "#     ax.grid(which='major', axis='x', linestyle='-')\n",
    "#     ax.set_axisbelow(True)\n",
    "    \n",
    "#     ax.text(0, 1.15, 'Coronavirus',\n",
    "#             transform=ax.transAxes, size=24, weight=600, ha='left', va='top')\n",
    "# #     ax.text(1, 0, 'by @pratapvardhan; credit @jburnmurdoch', transform=ax.transAxes, color='#777777', ha='right',\n",
    "# #             bbox=dict(facecolor='white', alpha=0.8, edgecolor='white'))\n",
    "#     plt.box(False)"
   ]
  },
  {
   "cell_type": "code",
   "execution_count": 42,
   "id": "sexual-wages",
   "metadata": {
    "execution": {
     "iopub.execute_input": "2021-03-11T12:07:27.490207Z",
     "iopub.status.busy": "2021-03-11T12:07:27.489605Z",
     "iopub.status.idle": "2021-03-11T12:07:27.491924Z",
     "shell.execute_reply": "2021-03-11T12:07:27.491401Z"
    },
    "papermill": {
     "duration": 0.040196,
     "end_time": "2021-03-11T12:07:27.492050",
     "exception": false,
     "start_time": "2021-03-11T12:07:27.451854",
     "status": "completed"
    },
    "tags": []
   },
   "outputs": [],
   "source": [
    "# #hide_input\n",
    "# fig, ax = plt.subplots(figsize=(15, 8))\n",
    "# animator = animation.FuncAnimation(fig, draw_barchart, frames=range(g.day.values.min(), g.day.values.max()))\n",
    "# HTML(animator.to_jshtml())\n",
    "# # or use animator.to_html5_video() or animator.save() "
   ]
  },
  {
   "cell_type": "code",
   "execution_count": null,
   "id": "australian-container",
   "metadata": {
    "papermill": {
     "duration": 0.034315,
     "end_time": "2021-03-11T12:07:27.560720",
     "exception": false,
     "start_time": "2021-03-11T12:07:27.526405",
     "status": "completed"
    },
    "tags": []
   },
   "outputs": [],
   "source": []
  },
  {
   "cell_type": "code",
   "execution_count": null,
   "id": "mediterranean-pontiac",
   "metadata": {
    "papermill": {
     "duration": 0.034561,
     "end_time": "2021-03-11T12:07:27.629764",
     "exception": false,
     "start_time": "2021-03-11T12:07:27.595203",
     "status": "completed"
    },
    "tags": []
   },
   "outputs": [],
   "source": []
  },
  {
   "cell_type": "code",
   "execution_count": null,
   "id": "aging-legislature",
   "metadata": {
    "papermill": {
     "duration": 0.034406,
     "end_time": "2021-03-11T12:07:27.698905",
     "exception": false,
     "start_time": "2021-03-11T12:07:27.664499",
     "status": "completed"
    },
    "tags": []
   },
   "outputs": [],
   "source": []
  }
 ],
 "metadata": {
  "kernelspec": {
   "display_name": "Python 3",
   "language": "python",
   "name": "python3"
  },
  "language_info": {
   "codemirror_mode": {
    "name": "ipython",
    "version": 3
   },
   "file_extension": ".py",
   "mimetype": "text/x-python",
   "name": "python",
   "nbconvert_exporter": "python",
   "pygments_lexer": "ipython3",
   "version": "3.6.13"
  },
  "papermill": {
   "duration": 8.275315,
   "end_time": "2021-03-11T12:07:28.143768",
   "environment_variables": {},
   "exception": null,
   "input_path": "2020-03-21-covid19exp.ipynb",
   "output_path": "2020-03-21-covid19exp.ipynb",
   "parameters": {},
   "start_time": "2021-03-11T12:07:19.868453",
   "version": "2.0.0"
  }
 },
 "nbformat": 4,
 "nbformat_minor": 5
}