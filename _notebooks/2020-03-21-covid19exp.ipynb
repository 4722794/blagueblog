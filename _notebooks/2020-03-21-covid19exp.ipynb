{
 "cells": [
  {
   "cell_type": "markdown",
   "id": "muslim-click",
   "metadata": {
    "papermill": {
     "duration": 0.064265,
     "end_time": "2021-10-30T00:23:17.475243",
     "exception": false,
     "start_time": "2021-10-30T00:23:17.410978",
     "status": "completed"
    },
    "tags": []
   },
   "source": [
    "# COVID-19 Case Race\n",
    "> A race chart to see rising cases around the world\n",
    "\n",
    "- author: Hargun Oberoi\n",
    "- image: images/covid-overview.png\n",
    "- hide: false\n",
    "- badges: false"
   ]
  },
  {
   "cell_type": "code",
   "execution_count": 1,
   "id": "proof-material",
   "metadata": {
    "execution": {
     "iopub.execute_input": "2021-10-30T00:23:17.571170Z",
     "iopub.status.busy": "2021-10-30T00:23:17.570423Z",
     "iopub.status.idle": "2021-10-30T00:23:17.981065Z",
     "shell.execute_reply": "2021-10-30T00:23:17.980457Z"
    },
    "papermill": {
     "duration": 0.46288,
     "end_time": "2021-10-30T00:23:17.981238",
     "exception": false,
     "start_time": "2021-10-30T00:23:17.518358",
     "status": "completed"
    },
    "tags": []
   },
   "outputs": [],
   "source": [
    "#hide\n",
    "import numpy as np\n",
    "import pandas as pd\n",
    "from jinja2 import Template\n",
    "from IPython.display import HTML"
   ]
  },
  {
   "cell_type": "code",
   "execution_count": 2,
   "id": "developed-terminology",
   "metadata": {
    "execution": {
     "iopub.execute_input": "2021-10-30T00:23:18.072294Z",
     "iopub.status.busy": "2021-10-30T00:23:18.070463Z",
     "iopub.status.idle": "2021-10-30T00:23:18.073272Z",
     "shell.execute_reply": "2021-10-30T00:23:18.074165Z"
    },
    "papermill": {
     "duration": 0.049865,
     "end_time": "2021-10-30T00:23:18.074314",
     "exception": false,
     "start_time": "2021-10-30T00:23:18.024449",
     "status": "completed"
    },
    "tags": []
   },
   "outputs": [],
   "source": [
    "#hide\n",
    "\n",
    "# FETCH\n",
    "base_url = 'https://raw.githubusercontent.com/pratapvardhan/notebooks/master/covid19/'\n",
    "paths = {\n",
    "    'mapping': base_url + 'mapping_countries.csv',\n",
    "    'overview': base_url + 'overview.tpl'\n",
    "}"
   ]
  },
  {
   "cell_type": "code",
   "execution_count": 3,
   "id": "dynamic-saver",
   "metadata": {
    "execution": {
     "iopub.execute_input": "2021-10-30T00:23:18.176876Z",
     "iopub.status.busy": "2021-10-30T00:23:18.171713Z",
     "iopub.status.idle": "2021-10-30T00:23:18.183825Z",
     "shell.execute_reply": "2021-10-30T00:23:18.184481Z"
    },
    "papermill": {
     "duration": 0.061457,
     "end_time": "2021-10-30T00:23:18.184636",
     "exception": false,
     "start_time": "2021-10-30T00:23:18.123179",
     "status": "completed"
    },
    "tags": []
   },
   "outputs": [
    {
     "data": {
      "text/plain": [
       "'https://raw.githubusercontent.com/pratapvardhan/notebooks/master/covid19/mapping_countries.csv'"
      ]
     },
     "execution_count": 3,
     "metadata": {},
     "output_type": "execute_result"
    }
   ],
   "source": [
    "#hide\n",
    "paths['mapping']"
   ]
  },
  {
   "cell_type": "code",
   "execution_count": 4,
   "id": "urban-software",
   "metadata": {
    "execution": {
     "iopub.execute_input": "2021-10-30T00:23:18.269738Z",
     "iopub.status.busy": "2021-10-30T00:23:18.269069Z",
     "iopub.status.idle": "2021-10-30T00:23:18.271507Z",
     "shell.execute_reply": "2021-10-30T00:23:18.272230Z"
    },
    "papermill": {
     "duration": 0.048359,
     "end_time": "2021-10-30T00:23:18.272389",
     "exception": false,
     "start_time": "2021-10-30T00:23:18.224030",
     "status": "completed"
    },
    "tags": []
   },
   "outputs": [],
   "source": [
    "#hide\n",
    "def get_mappings(url):\n",
    "    df = pd.read_csv(url)\n",
    "    return {\n",
    "        'df': df,\n",
    "        'replace.country': dict(df.dropna(subset=['Name']).set_index('Country')['Name']),\n",
    "        'map.continent': dict(df.set_index('Name')['Continent'])\n",
    "    }"
   ]
  },
  {
   "cell_type": "code",
   "execution_count": 5,
   "id": "intimate-machinery",
   "metadata": {
    "execution": {
     "iopub.execute_input": "2021-10-30T00:23:18.362990Z",
     "iopub.status.busy": "2021-10-30T00:23:18.362317Z",
     "iopub.status.idle": "2021-10-30T00:23:18.408766Z",
     "shell.execute_reply": "2021-10-30T00:23:18.409454Z"
    },
    "papermill": {
     "duration": 0.091394,
     "end_time": "2021-10-30T00:23:18.409730",
     "exception": false,
     "start_time": "2021-10-30T00:23:18.318336",
     "status": "completed"
    },
    "tags": []
   },
   "outputs": [],
   "source": [
    "#hide\n",
    "mapping = get_mappings(paths['mapping'])"
   ]
  },
  {
   "cell_type": "code",
   "execution_count": 6,
   "id": "certified-tactics",
   "metadata": {
    "execution": {
     "iopub.execute_input": "2021-10-30T00:23:18.502526Z",
     "iopub.status.busy": "2021-10-30T00:23:18.501773Z",
     "iopub.status.idle": "2021-10-30T00:23:18.504418Z",
     "shell.execute_reply": "2021-10-30T00:23:18.505077Z"
    },
    "papermill": {
     "duration": 0.049741,
     "end_time": "2021-10-30T00:23:18.505387",
     "exception": false,
     "start_time": "2021-10-30T00:23:18.455646",
     "status": "completed"
    },
    "tags": []
   },
   "outputs": [],
   "source": [
    "#hide\n",
    "def get_template(path):\n",
    "    from urllib.parse import urlparse\n",
    "    if bool(urlparse(path).netloc):\n",
    "        from urllib.request import urlopen\n",
    "        return urlopen(path).read().decode('utf8')\n",
    "    return open(path).read()"
   ]
  },
  {
   "cell_type": "code",
   "execution_count": 7,
   "id": "realistic-blast",
   "metadata": {
    "execution": {
     "iopub.execute_input": "2021-10-30T00:23:18.610175Z",
     "iopub.status.busy": "2021-10-30T00:23:18.608971Z",
     "iopub.status.idle": "2021-10-30T00:23:18.612372Z",
     "shell.execute_reply": "2021-10-30T00:23:18.613009Z"
    },
    "papermill": {
     "duration": 0.053913,
     "end_time": "2021-10-30T00:23:18.613303",
     "exception": false,
     "start_time": "2021-10-30T00:23:18.559390",
     "status": "completed"
    },
    "tags": []
   },
   "outputs": [],
   "source": [
    "#hide\n",
    "def get_frame(name):\n",
    "    url = (\n",
    "        'https://raw.githubusercontent.com/CSSEGISandData/COVID-19/master/csse_covid_19_data/'\n",
    "        f'csse_covid_19_time_series/time_series_covid19_{name}_global.csv')\n",
    "    df = pd.read_csv(url)\n",
    "    # rename countries\n",
    "    df['Country/Region'] = df['Country/Region'].replace(mapping['replace.country'])\n",
    "    return df"
   ]
  },
  {
   "cell_type": "code",
   "execution_count": 8,
   "id": "affiliated-characterization",
   "metadata": {
    "execution": {
     "iopub.execute_input": "2021-10-30T00:23:18.705386Z",
     "iopub.status.busy": "2021-10-30T00:23:18.704619Z",
     "iopub.status.idle": "2021-10-30T00:23:18.707220Z",
     "shell.execute_reply": "2021-10-30T00:23:18.706489Z"
    },
    "papermill": {
     "duration": 0.04842,
     "end_time": "2021-10-30T00:23:18.707352",
     "exception": false,
     "start_time": "2021-10-30T00:23:18.658932",
     "status": "completed"
    },
    "tags": []
   },
   "outputs": [],
   "source": [
    "#hide\n",
    "def get_dates(df):\n",
    "    dt_cols = df.columns[~df.columns.isin(['Province/State', 'Country/Region', 'Lat', 'Long'])]\n",
    "    LAST_DATE_I = -1\n",
    "    # sometimes last column may be empty, then go backwards\n",
    "    for i in range(-1, -len(dt_cols), -1):\n",
    "        if not df[dt_cols[i]].fillna(0).eq(0).all():\n",
    "            LAST_DATE_I = i\n",
    "            break\n",
    "    return LAST_DATE_I, dt_cols"
   ]
  },
  {
   "cell_type": "code",
   "execution_count": 9,
   "id": "recent-optimization",
   "metadata": {
    "execution": {
     "iopub.execute_input": "2021-10-30T00:23:18.795696Z",
     "iopub.status.busy": "2021-10-30T00:23:18.795008Z",
     "iopub.status.idle": "2021-10-30T00:23:19.208278Z",
     "shell.execute_reply": "2021-10-30T00:23:19.208725Z"
    },
    "papermill": {
     "duration": 0.460108,
     "end_time": "2021-10-30T00:23:19.208875",
     "exception": false,
     "start_time": "2021-10-30T00:23:18.748767",
     "status": "completed"
    },
    "tags": []
   },
   "outputs": [],
   "source": [
    "#hide\n",
    "COL_REGION = 'Country/Region'\n",
    "# Confirmed, Recovered, Deaths\n",
    "df = get_frame('confirmed')\n",
    "# dft_: timeseries, dfc_: today country agg\n",
    "dft_cases = df\n",
    "dft_deaths = get_frame('deaths')\n",
    "dft_recovered = get_frame('recovered')\n",
    "LAST_DATE_I, dt_cols = get_dates(df)"
   ]
  },
  {
   "cell_type": "code",
   "execution_count": 10,
   "id": "absolute-copper",
   "metadata": {
    "execution": {
     "iopub.execute_input": "2021-10-30T00:23:19.273190Z",
     "iopub.status.busy": "2021-10-30T00:23:19.272678Z",
     "iopub.status.idle": "2021-10-30T00:23:19.274568Z",
     "shell.execute_reply": "2021-10-30T00:23:19.275060Z"
    },
    "papermill": {
     "duration": 0.035447,
     "end_time": "2021-10-30T00:23:19.275169",
     "exception": false,
     "start_time": "2021-10-30T00:23:19.239722",
     "status": "completed"
    },
    "tags": []
   },
   "outputs": [],
   "source": [
    "#hide\n",
    "LAST_DATE_I, dt_cols = get_dates(df)\n",
    "dt_today =dt_cols[LAST_DATE_I]\n",
    "# dt_5day = dt_cols[LAST_DATE_I - 5]\n",
    "dt_yday = dt_cols[LAST_DATE_I - 1]"
   ]
  },
  {
   "cell_type": "code",
   "execution_count": 11,
   "id": "restricted-sheriff",
   "metadata": {
    "execution": {
     "iopub.execute_input": "2021-10-30T00:23:19.338145Z",
     "iopub.status.busy": "2021-10-30T00:23:19.337608Z",
     "iopub.status.idle": "2021-10-30T00:23:19.346379Z",
     "shell.execute_reply": "2021-10-30T00:23:19.345921Z"
    },
    "papermill": {
     "duration": 0.04256,
     "end_time": "2021-10-30T00:23:19.346476",
     "exception": false,
     "start_time": "2021-10-30T00:23:19.303916",
     "status": "completed"
    },
    "tags": []
   },
   "outputs": [],
   "source": [
    "#hide\n",
    "dfc_cases = dft_cases.groupby(COL_REGION)[dt_today].sum()\n",
    "dfc_deaths = dft_deaths.groupby(COL_REGION)[dt_today].sum()\n",
    "# dfp_cases = dft_cases.groupby(COL_REGION)[dt_5day].sum()\n",
    "# dfp_deaths = dft_deaths.groupby(COL_REGION)[dt_5day].sum()\n",
    "dfp_cases = dft_cases.groupby(COL_REGION)[dt_yday].sum()\n",
    "dfp_deaths = dft_deaths.groupby(COL_REGION)[dt_yday].sum()"
   ]
  },
  {
   "cell_type": "code",
   "execution_count": 12,
   "id": "deluxe-hepatitis",
   "metadata": {
    "execution": {
     "iopub.execute_input": "2021-10-30T00:23:19.409539Z",
     "iopub.status.busy": "2021-10-30T00:23:19.408824Z",
     "iopub.status.idle": "2021-10-30T00:23:19.414195Z",
     "shell.execute_reply": "2021-10-30T00:23:19.413754Z"
    },
    "papermill": {
     "duration": 0.038712,
     "end_time": "2021-10-30T00:23:19.414295",
     "exception": false,
     "start_time": "2021-10-30T00:23:19.375583",
     "status": "completed"
    },
    "tags": []
   },
   "outputs": [],
   "source": [
    "#hide\n",
    "df_table = (pd.DataFrame(dict(Cases = dfc_cases, Deaths = dfc_deaths, PCases = dfp_cases, PDeaths = dfp_deaths))\n",
    "            .sort_values(by = ['Cases','Deaths'], ascending = [False, False])\n",
    "            .reset_index())"
   ]
  },
  {
   "cell_type": "code",
   "execution_count": 13,
   "id": "educational-chancellor",
   "metadata": {
    "execution": {
     "iopub.execute_input": "2021-10-30T00:23:19.484450Z",
     "iopub.status.busy": "2021-10-30T00:23:19.483936Z",
     "iopub.status.idle": "2021-10-30T00:23:19.495905Z",
     "shell.execute_reply": "2021-10-30T00:23:19.496381Z"
    },
    "papermill": {
     "duration": 0.053044,
     "end_time": "2021-10-30T00:23:19.496491",
     "exception": false,
     "start_time": "2021-10-30T00:23:19.443447",
     "status": "completed"
    },
    "tags": []
   },
   "outputs": [
    {
     "data": {
      "text/html": [
       "<div>\n",
       "<style scoped>\n",
       "    .dataframe tbody tr th:only-of-type {\n",
       "        vertical-align: middle;\n",
       "    }\n",
       "\n",
       "    .dataframe tbody tr th {\n",
       "        vertical-align: top;\n",
       "    }\n",
       "\n",
       "    .dataframe thead th {\n",
       "        text-align: right;\n",
       "    }\n",
       "</style>\n",
       "<table border=\"1\" class=\"dataframe\">\n",
       "  <thead>\n",
       "    <tr style=\"text-align: right;\">\n",
       "      <th></th>\n",
       "      <th>Country/Region</th>\n",
       "      <th>Cases</th>\n",
       "      <th>Deaths</th>\n",
       "      <th>PCases</th>\n",
       "      <th>PDeaths</th>\n",
       "      <th>Cases (+)</th>\n",
       "      <th>Deaths (+)</th>\n",
       "      <th>Fatality Rate</th>\n",
       "      <th>Continent</th>\n",
       "    </tr>\n",
       "  </thead>\n",
       "  <tbody>\n",
       "    <tr>\n",
       "      <th>0</th>\n",
       "      <td>US</td>\n",
       "      <td>45826523</td>\n",
       "      <td>743358</td>\n",
       "      <td>45748395</td>\n",
       "      <td>741582</td>\n",
       "      <td>78128</td>\n",
       "      <td>1776</td>\n",
       "      <td>1.62</td>\n",
       "      <td>North America</td>\n",
       "    </tr>\n",
       "    <tr>\n",
       "      <th>1</th>\n",
       "      <td>India</td>\n",
       "      <td>34246157</td>\n",
       "      <td>457191</td>\n",
       "      <td>34231809</td>\n",
       "      <td>456386</td>\n",
       "      <td>14348</td>\n",
       "      <td>805</td>\n",
       "      <td>1.34</td>\n",
       "      <td>Asia</td>\n",
       "    </tr>\n",
       "    <tr>\n",
       "      <th>2</th>\n",
       "      <td>Brazil</td>\n",
       "      <td>21781436</td>\n",
       "      <td>607068</td>\n",
       "      <td>21766168</td>\n",
       "      <td>606679</td>\n",
       "      <td>15268</td>\n",
       "      <td>389</td>\n",
       "      <td>2.79</td>\n",
       "      <td>South America</td>\n",
       "    </tr>\n",
       "    <tr>\n",
       "      <th>3</th>\n",
       "      <td>United Kingdom</td>\n",
       "      <td>8978443</td>\n",
       "      <td>140628</td>\n",
       "      <td>8938965</td>\n",
       "      <td>140462</td>\n",
       "      <td>39478</td>\n",
       "      <td>166</td>\n",
       "      <td>1.57</td>\n",
       "      <td>Europe</td>\n",
       "    </tr>\n",
       "    <tr>\n",
       "      <th>4</th>\n",
       "      <td>Russia</td>\n",
       "      <td>8260045</td>\n",
       "      <td>230786</td>\n",
       "      <td>8220975</td>\n",
       "      <td>229672</td>\n",
       "      <td>39070</td>\n",
       "      <td>1114</td>\n",
       "      <td>2.79</td>\n",
       "      <td>Europe</td>\n",
       "    </tr>\n",
       "  </tbody>\n",
       "</table>\n",
       "</div>"
      ],
      "text/plain": [
       "   Country/Region     Cases  Deaths    PCases  PDeaths  Cases (+)  Deaths (+)  \\\n",
       "0              US  45826523  743358  45748395   741582      78128        1776   \n",
       "1           India  34246157  457191  34231809   456386      14348         805   \n",
       "2          Brazil  21781436  607068  21766168   606679      15268         389   \n",
       "3  United Kingdom   8978443  140628   8938965   140462      39478         166   \n",
       "4          Russia   8260045  230786   8220975   229672      39070        1114   \n",
       "\n",
       "   Fatality Rate      Continent  \n",
       "0           1.62  North America  \n",
       "1           1.34           Asia  \n",
       "2           2.79  South America  \n",
       "3           1.57         Europe  \n",
       "4           2.79         Europe  "
      ]
     },
     "execution_count": 13,
     "metadata": {},
     "output_type": "execute_result"
    }
   ],
   "source": [
    "#hide\n",
    "for c in 'Cases, Deaths'.split(', '):\n",
    "    df_table[f'{c} (+)'] = (df_table[c] - df_table[f'P{c}']).clip(0)\n",
    "    #Clip ça veut dire, les chiffres negatif sont interdit\n",
    "df_table['Fatality Rate'] = (100* df_table['Deaths']/ df_table['Cases']).round(2)\n",
    "df_table['Continent'] = df_table['Country/Region'].map(mapping['map.continent'])\n",
    "df_table.head(5)"
   ]
  },
  {
   "cell_type": "code",
   "execution_count": 14,
   "id": "aboriginal-bulgaria",
   "metadata": {
    "execution": {
     "iopub.execute_input": "2021-10-30T00:23:19.560545Z",
     "iopub.status.busy": "2021-10-30T00:23:19.559797Z",
     "iopub.status.idle": "2021-10-30T00:23:19.562937Z",
     "shell.execute_reply": "2021-10-30T00:23:19.562506Z"
    },
    "papermill": {
     "duration": 0.037114,
     "end_time": "2021-10-30T00:23:19.563033",
     "exception": false,
     "start_time": "2021-10-30T00:23:19.525919",
     "status": "completed"
    },
    "tags": []
   },
   "outputs": [],
   "source": [
    "#hide\n",
    "#delete problematic countries from table\n",
    "df_table = df_table[~df_table['Country/Region'].isin(['Cape Verde', 'Cruise Ship', 'Kosovo'])]"
   ]
  },
  {
   "cell_type": "code",
   "execution_count": 15,
   "id": "fantastic-effect",
   "metadata": {
    "execution": {
     "iopub.execute_input": "2021-10-30T00:23:19.657784Z",
     "iopub.status.busy": "2021-10-30T00:23:19.657080Z",
     "iopub.status.idle": "2021-10-30T00:23:19.683834Z",
     "shell.execute_reply": "2021-10-30T00:23:19.684344Z"
    },
    "papermill": {
     "duration": 0.082823,
     "end_time": "2021-10-30T00:23:19.684490",
     "exception": false,
     "start_time": "2021-10-30T00:23:19.601667",
     "status": "completed"
    },
    "tags": []
   },
   "outputs": [
    {
     "data": {
      "text/html": [
       "<div>\n",
       "<style scoped>\n",
       "    .dataframe tbody tr th:only-of-type {\n",
       "        vertical-align: middle;\n",
       "    }\n",
       "\n",
       "    .dataframe tbody tr th {\n",
       "        vertical-align: top;\n",
       "    }\n",
       "\n",
       "    .dataframe thead th {\n",
       "        text-align: right;\n",
       "    }\n",
       "</style>\n",
       "<table border=\"1\" class=\"dataframe\">\n",
       "  <thead>\n",
       "    <tr style=\"text-align: right;\">\n",
       "      <th></th>\n",
       "      <th>Country/Region</th>\n",
       "      <th>Cases</th>\n",
       "      <th>Deaths</th>\n",
       "      <th>PCases</th>\n",
       "      <th>PDeaths</th>\n",
       "      <th>Cases (+)</th>\n",
       "      <th>Deaths (+)</th>\n",
       "      <th>Fatality Rate</th>\n",
       "      <th>Continent</th>\n",
       "    </tr>\n",
       "  </thead>\n",
       "  <tbody>\n",
       "    <tr>\n",
       "      <th>0</th>\n",
       "      <td>US</td>\n",
       "      <td>45826523</td>\n",
       "      <td>743358</td>\n",
       "      <td>45748395</td>\n",
       "      <td>741582</td>\n",
       "      <td>78128</td>\n",
       "      <td>1776</td>\n",
       "      <td>1.6</td>\n",
       "      <td>North America</td>\n",
       "    </tr>\n",
       "    <tr>\n",
       "      <th>1</th>\n",
       "      <td>India</td>\n",
       "      <td>34246157</td>\n",
       "      <td>457191</td>\n",
       "      <td>34231809</td>\n",
       "      <td>456386</td>\n",
       "      <td>14348</td>\n",
       "      <td>805</td>\n",
       "      <td>1.3</td>\n",
       "      <td>Asia</td>\n",
       "    </tr>\n",
       "    <tr>\n",
       "      <th>2</th>\n",
       "      <td>Brazil</td>\n",
       "      <td>21781436</td>\n",
       "      <td>607068</td>\n",
       "      <td>21766168</td>\n",
       "      <td>606679</td>\n",
       "      <td>15268</td>\n",
       "      <td>389</td>\n",
       "      <td>2.8</td>\n",
       "      <td>South America</td>\n",
       "    </tr>\n",
       "    <tr>\n",
       "      <th>3</th>\n",
       "      <td>United Kingdom</td>\n",
       "      <td>8978443</td>\n",
       "      <td>140628</td>\n",
       "      <td>8938965</td>\n",
       "      <td>140462</td>\n",
       "      <td>39478</td>\n",
       "      <td>166</td>\n",
       "      <td>1.6</td>\n",
       "      <td>Europe</td>\n",
       "    </tr>\n",
       "    <tr>\n",
       "      <th>4</th>\n",
       "      <td>Russia</td>\n",
       "      <td>8260045</td>\n",
       "      <td>230786</td>\n",
       "      <td>8220975</td>\n",
       "      <td>229672</td>\n",
       "      <td>39070</td>\n",
       "      <td>1114</td>\n",
       "      <td>2.8</td>\n",
       "      <td>Europe</td>\n",
       "    </tr>\n",
       "  </tbody>\n",
       "</table>\n",
       "</div>"
      ],
      "text/plain": [
       "   Country/Region     Cases  Deaths    PCases  PDeaths  Cases (+)  Deaths (+)  \\\n",
       "0              US  45826523  743358  45748395   741582      78128        1776   \n",
       "1           India  34246157  457191  34231809   456386      14348         805   \n",
       "2          Brazil  21781436  607068  21766168   606679      15268         389   \n",
       "3  United Kingdom   8978443  140628   8938965   140462      39478         166   \n",
       "4          Russia   8260045  230786   8220975   229672      39070        1114   \n",
       "\n",
       "   Fatality Rate      Continent  \n",
       "0            1.6  North America  \n",
       "1            1.3           Asia  \n",
       "2            2.8  South America  \n",
       "3            1.6         Europe  \n",
       "4            2.8         Europe  "
      ]
     },
     "execution_count": 15,
     "metadata": {},
     "output_type": "execute_result"
    }
   ],
   "source": [
    "#hide\n",
    "df_table = (pd.DataFrame(dict(Cases=dfc_cases, Deaths=dfc_deaths, PCases=dfp_cases, PDeaths=dfp_deaths))\n",
    "             .sort_values(by=['Cases', 'Deaths'], ascending=[False, False])\n",
    "             .reset_index())\n",
    "df_table.rename(columns={'index': 'Country/Region'}, inplace=True)\n",
    "for c in 'Cases, Deaths'.split(', '):\n",
    "    df_table[f'{c} (+)'] = (df_table[c] - df_table[f'P{c}']).clip(0)  # DATA BUG\n",
    "df_table['Fatality Rate'] = (100 * df_table['Deaths'] / df_table['Cases']).round(1)\n",
    "df_table['Continent'] = df_table['Country/Region'].map(mapping['map.continent'])\n",
    "df_table.head(5)"
   ]
  },
  {
   "cell_type": "code",
   "execution_count": 16,
   "id": "fewer-occasion",
   "metadata": {
    "execution": {
     "iopub.execute_input": "2021-10-30T00:23:19.771331Z",
     "iopub.status.busy": "2021-10-30T00:23:19.770603Z",
     "iopub.status.idle": "2021-10-30T00:23:19.773761Z",
     "shell.execute_reply": "2021-10-30T00:23:19.774473Z"
    },
    "papermill": {
     "duration": 0.050277,
     "end_time": "2021-10-30T00:23:19.774614",
     "exception": false,
     "start_time": "2021-10-30T00:23:19.724337",
     "status": "completed"
    },
    "tags": []
   },
   "outputs": [],
   "source": [
    "#hide\n",
    "#delete problematic countries from table\n",
    "df_table = df_table[~df_table['Country/Region'].isin(['Cape Verde', 'Cruise Ship', 'Kosovo'])]"
   ]
  },
  {
   "cell_type": "code",
   "execution_count": 17,
   "id": "related-center",
   "metadata": {
    "execution": {
     "iopub.execute_input": "2021-10-30T00:23:19.863705Z",
     "iopub.status.busy": "2021-10-30T00:23:19.862999Z",
     "iopub.status.idle": "2021-10-30T00:23:19.889571Z",
     "shell.execute_reply": "2021-10-30T00:23:19.890207Z"
    },
    "papermill": {
     "duration": 0.075665,
     "end_time": "2021-10-30T00:23:19.890462",
     "exception": false,
     "start_time": "2021-10-30T00:23:19.814797",
     "status": "completed"
    },
    "tags": []
   },
   "outputs": [],
   "source": [
    "#hide\n",
    "metrics = [df_table.columns[index] for index in [1,2,5,6]]\n",
    "# s_china = df_table[df_table['Country/Region'].eq('China')][metrics].sum().add_prefix('China ')\n",
    "s_us = df_table[df_table['Country/Region'].eq('US')][metrics].sum().add_prefix('US ')\n",
    "s_eu = df_table[df_table['Continent'].eq('Europe')][metrics].sum().add_prefix('EU ')\n",
    "s_ind = df_table[df_table['Country/Region'].eq('India')][metrics].sum().add_prefix('India ')\n",
    "summary = {'updated': pd.to_datetime(dt_today), 'since': pd.to_datetime(dt_yday)}\n",
    "summary = {'updated': pd.to_datetime(dt_today), 'since': pd.to_datetime(dt_yday)}\n",
    "summary = {**summary, **df_table[metrics].sum(), **s_ind, **s_us, **s_eu}"
   ]
  },
  {
   "cell_type": "code",
   "execution_count": 18,
   "id": "engaging-syndrome",
   "metadata": {
    "execution": {
     "iopub.execute_input": "2021-10-30T00:23:20.034476Z",
     "iopub.status.busy": "2021-10-30T00:23:20.033691Z",
     "iopub.status.idle": "2021-10-30T00:23:20.054449Z",
     "shell.execute_reply": "2021-10-30T00:23:20.053859Z"
    },
    "papermill": {
     "duration": 0.097514,
     "end_time": "2021-10-30T00:23:20.054595",
     "exception": false,
     "start_time": "2021-10-30T00:23:19.957081",
     "status": "completed"
    },
    "tags": []
   },
   "outputs": [],
   "source": [
    "#hide\n",
    "dft_ct_new_cases = dft_cases.groupby(COL_REGION)[dt_cols].sum().diff(axis=1).fillna(0).astype(int)"
   ]
  },
  {
   "cell_type": "code",
   "execution_count": 19,
   "id": "neutral-assignment",
   "metadata": {
    "execution": {
     "iopub.execute_input": "2021-10-30T00:23:20.184507Z",
     "iopub.status.busy": "2021-10-30T00:23:20.183857Z",
     "iopub.status.idle": "2021-10-30T00:23:20.185766Z",
     "shell.execute_reply": "2021-10-30T00:23:20.186336Z"
    },
    "papermill": {
     "duration": 0.056639,
     "end_time": "2021-10-30T00:23:20.186468",
     "exception": false,
     "start_time": "2021-10-30T00:23:20.129829",
     "status": "completed"
    },
    "tags": []
   },
   "outputs": [],
   "source": [
    "#hide\n",
    "everydaycases = dft_ct_new_cases.cumsum(axis=1)"
   ]
  },
  {
   "cell_type": "code",
   "execution_count": 20,
   "id": "parliamentary-calgary",
   "metadata": {
    "execution": {
     "iopub.execute_input": "2021-10-30T00:23:20.260213Z",
     "iopub.status.busy": "2021-10-30T00:23:20.259639Z",
     "iopub.status.idle": "2021-10-30T00:23:20.757929Z",
     "shell.execute_reply": "2021-10-30T00:23:20.757458Z"
    },
    "papermill": {
     "duration": 0.536566,
     "end_time": "2021-10-30T00:23:20.758082",
     "exception": false,
     "start_time": "2021-10-30T00:23:20.221516",
     "status": "completed"
    },
    "tags": []
   },
   "outputs": [],
   "source": [
    "#hide\n",
    "import pandas as pd\n",
    "import matplotlib.pyplot as plt\n",
    "import matplotlib.ticker as ticker\n",
    "import matplotlib.animation as animation\n",
    "from IPython.display import HTML"
   ]
  },
  {
   "cell_type": "code",
   "execution_count": 21,
   "id": "lasting-extraction",
   "metadata": {
    "execution": {
     "iopub.execute_input": "2021-10-30T00:23:20.842687Z",
     "iopub.status.busy": "2021-10-30T00:23:20.842002Z",
     "iopub.status.idle": "2021-10-30T00:23:20.848015Z",
     "shell.execute_reply": "2021-10-30T00:23:20.848650Z"
    },
    "papermill": {
     "duration": 0.052345,
     "end_time": "2021-10-30T00:23:20.848802",
     "exception": false,
     "start_time": "2021-10-30T00:23:20.796457",
     "status": "completed"
    },
    "tags": []
   },
   "outputs": [],
   "source": [
    "#hide\n",
    "t = everydaycases.stack()"
   ]
  },
  {
   "cell_type": "code",
   "execution_count": 22,
   "id": "premier-sleeve",
   "metadata": {
    "execution": {
     "iopub.execute_input": "2021-10-30T00:23:20.936039Z",
     "iopub.status.busy": "2021-10-30T00:23:20.935217Z",
     "iopub.status.idle": "2021-10-30T00:23:20.946532Z",
     "shell.execute_reply": "2021-10-30T00:23:20.945767Z"
    },
    "papermill": {
     "duration": 0.058259,
     "end_time": "2021-10-30T00:23:20.946722",
     "exception": false,
     "start_time": "2021-10-30T00:23:20.888463",
     "status": "completed"
    },
    "tags": []
   },
   "outputs": [],
   "source": [
    "#hide\n",
    "g = t.reset_index(['Country/Region'])"
   ]
  },
  {
   "cell_type": "code",
   "execution_count": 23,
   "id": "distributed-pittsburgh",
   "metadata": {
    "execution": {
     "iopub.execute_input": "2021-10-30T00:23:21.051051Z",
     "iopub.status.busy": "2021-10-30T00:23:21.050384Z",
     "iopub.status.idle": "2021-10-30T00:23:21.054043Z",
     "shell.execute_reply": "2021-10-30T00:23:21.054689Z"
    },
    "papermill": {
     "duration": 0.054143,
     "end_time": "2021-10-30T00:23:21.054839",
     "exception": false,
     "start_time": "2021-10-30T00:23:21.000696",
     "status": "completed"
    },
    "tags": []
   },
   "outputs": [],
   "source": [
    "#hide\n",
    "g.index.name = 'date'"
   ]
  },
  {
   "cell_type": "code",
   "execution_count": 24,
   "id": "naked-donor",
   "metadata": {
    "execution": {
     "iopub.execute_input": "2021-10-30T00:23:21.155715Z",
     "iopub.status.busy": "2021-10-30T00:23:21.154741Z",
     "iopub.status.idle": "2021-10-30T00:23:21.159066Z",
     "shell.execute_reply": "2021-10-30T00:23:21.166019Z"
    },
    "papermill": {
     "duration": 0.061044,
     "end_time": "2021-10-30T00:23:21.167270",
     "exception": false,
     "start_time": "2021-10-30T00:23:21.106226",
     "status": "completed"
    },
    "tags": []
   },
   "outputs": [],
   "source": [
    "# #hide\n",
    "# g = g.reset_index(['date'])"
   ]
  },
  {
   "cell_type": "code",
   "execution_count": 25,
   "id": "incomplete-mustang",
   "metadata": {
    "execution": {
     "iopub.execute_input": "2021-10-30T00:23:21.253677Z",
     "iopub.status.busy": "2021-10-30T00:23:21.253044Z",
     "iopub.status.idle": "2021-10-30T00:23:21.255005Z",
     "shell.execute_reply": "2021-10-30T00:23:21.255609Z"
    },
    "papermill": {
     "duration": 0.044915,
     "end_time": "2021-10-30T00:23:21.255754",
     "exception": false,
     "start_time": "2021-10-30T00:23:21.210839",
     "status": "completed"
    },
    "tags": []
   },
   "outputs": [],
   "source": [
    "#hide\n",
    "# g.head()"
   ]
  },
  {
   "cell_type": "code",
   "execution_count": 26,
   "id": "specific-kruger",
   "metadata": {
    "execution": {
     "iopub.execute_input": "2021-10-30T00:23:21.322393Z",
     "iopub.status.busy": "2021-10-30T00:23:21.321846Z",
     "iopub.status.idle": "2021-10-30T00:23:21.323733Z",
     "shell.execute_reply": "2021-10-30T00:23:21.324175Z"
    },
    "papermill": {
     "duration": 0.034642,
     "end_time": "2021-10-30T00:23:21.324283",
     "exception": false,
     "start_time": "2021-10-30T00:23:21.289641",
     "status": "completed"
    },
    "tags": []
   },
   "outputs": [],
   "source": [
    "#hide\n",
    "# g.columns = ['date','country','cases']"
   ]
  },
  {
   "cell_type": "code",
   "execution_count": 27,
   "id": "tender-conversion",
   "metadata": {
    "execution": {
     "iopub.execute_input": "2021-10-30T00:23:21.390786Z",
     "iopub.status.busy": "2021-10-30T00:23:21.390123Z",
     "iopub.status.idle": "2021-10-30T00:23:21.393482Z",
     "shell.execute_reply": "2021-10-30T00:23:21.392923Z"
    },
    "papermill": {
     "duration": 0.039903,
     "end_time": "2021-10-30T00:23:21.393606",
     "exception": false,
     "start_time": "2021-10-30T00:23:21.353703",
     "status": "completed"
    },
    "tags": []
   },
   "outputs": [],
   "source": [
    "#hide\n",
    "# g['continent'] = g.country"
   ]
  },
  {
   "cell_type": "code",
   "execution_count": 28,
   "id": "substantial-wilderness",
   "metadata": {
    "execution": {
     "iopub.execute_input": "2021-10-30T00:23:21.480847Z",
     "iopub.status.busy": "2021-10-30T00:23:21.479909Z",
     "iopub.status.idle": "2021-10-30T00:23:21.481702Z",
     "shell.execute_reply": "2021-10-30T00:23:21.482473Z"
    },
    "papermill": {
     "duration": 0.04992,
     "end_time": "2021-10-30T00:23:21.482624",
     "exception": false,
     "start_time": "2021-10-30T00:23:21.432704",
     "status": "completed"
    },
    "tags": []
   },
   "outputs": [],
   "source": [
    "#hide\n",
    "# cols = list(g.columns.values)"
   ]
  },
  {
   "cell_type": "code",
   "execution_count": 29,
   "id": "solved-farming",
   "metadata": {
    "execution": {
     "iopub.execute_input": "2021-10-30T00:23:21.595725Z",
     "iopub.status.busy": "2021-10-30T00:23:21.594929Z",
     "iopub.status.idle": "2021-10-30T00:23:21.597306Z",
     "shell.execute_reply": "2021-10-30T00:23:21.598023Z"
    },
    "papermill": {
     "duration": 0.057136,
     "end_time": "2021-10-30T00:23:21.598295",
     "exception": false,
     "start_time": "2021-10-30T00:23:21.541159",
     "status": "completed"
    },
    "tags": []
   },
   "outputs": [],
   "source": [
    "#hide\n",
    "# cols.insert(0, cols.pop())"
   ]
  },
  {
   "cell_type": "code",
   "execution_count": 30,
   "id": "executed-adoption",
   "metadata": {
    "execution": {
     "iopub.execute_input": "2021-10-30T00:23:21.712529Z",
     "iopub.status.busy": "2021-10-30T00:23:21.711606Z",
     "iopub.status.idle": "2021-10-30T00:23:21.717040Z",
     "shell.execute_reply": "2021-10-30T00:23:21.715489Z"
    },
    "papermill": {
     "duration": 0.065029,
     "end_time": "2021-10-30T00:23:21.717453",
     "exception": false,
     "start_time": "2021-10-30T00:23:21.652424",
     "status": "completed"
    },
    "tags": []
   },
   "outputs": [],
   "source": [
    "#hide\n",
    "# g = g[cols]"
   ]
  },
  {
   "cell_type": "code",
   "execution_count": 31,
   "id": "subject-dublin",
   "metadata": {
    "execution": {
     "iopub.execute_input": "2021-10-30T00:23:21.880972Z",
     "iopub.status.busy": "2021-10-30T00:23:21.880364Z",
     "iopub.status.idle": "2021-10-30T00:23:21.882875Z",
     "shell.execute_reply": "2021-10-30T00:23:21.882409Z"
    },
    "papermill": {
     "duration": 0.083044,
     "end_time": "2021-10-30T00:23:21.882994",
     "exception": false,
     "start_time": "2021-10-30T00:23:21.799950",
     "status": "completed"
    },
    "tags": []
   },
   "outputs": [],
   "source": [
    "#hide\n",
    "# g['continent'] = g['continent'].map(mapping['map.continent'])"
   ]
  },
  {
   "cell_type": "code",
   "execution_count": 32,
   "id": "freelance-scout",
   "metadata": {
    "execution": {
     "iopub.execute_input": "2021-10-30T00:23:21.948973Z",
     "iopub.status.busy": "2021-10-30T00:23:21.948451Z",
     "iopub.status.idle": "2021-10-30T00:23:21.950296Z",
     "shell.execute_reply": "2021-10-30T00:23:21.950988Z"
    },
    "papermill": {
     "duration": 0.035601,
     "end_time": "2021-10-30T00:23:21.951102",
     "exception": false,
     "start_time": "2021-10-30T00:23:21.915501",
     "status": "completed"
    },
    "tags": []
   },
   "outputs": [],
   "source": [
    "#hide\n",
    "# g.head()"
   ]
  },
  {
   "cell_type": "code",
   "execution_count": 33,
   "id": "limited-engine",
   "metadata": {
    "execution": {
     "iopub.execute_input": "2021-10-30T00:23:22.069434Z",
     "iopub.status.busy": "2021-10-30T00:23:22.067440Z",
     "iopub.status.idle": "2021-10-30T00:23:22.072972Z",
     "shell.execute_reply": "2021-10-30T00:23:22.071237Z"
    },
    "papermill": {
     "duration": 0.084839,
     "end_time": "2021-10-30T00:23:22.073381",
     "exception": false,
     "start_time": "2021-10-30T00:23:21.988542",
     "status": "completed"
    },
    "tags": []
   },
   "outputs": [],
   "source": [
    "# hide\n",
    "# g['date'] = g['date'].astype('datetime64[ns]')"
   ]
  },
  {
   "cell_type": "code",
   "execution_count": 34,
   "id": "sophisticated-supervisor",
   "metadata": {
    "execution": {
     "iopub.execute_input": "2021-10-30T00:23:22.221007Z",
     "iopub.status.busy": "2021-10-30T00:23:22.220197Z",
     "iopub.status.idle": "2021-10-30T00:23:22.224237Z",
     "shell.execute_reply": "2021-10-30T00:23:22.223600Z"
    },
    "papermill": {
     "duration": 0.048138,
     "end_time": "2021-10-30T00:23:22.224363",
     "exception": false,
     "start_time": "2021-10-30T00:23:22.176225",
     "status": "completed"
    },
    "tags": []
   },
   "outputs": [],
   "source": [
    "#hide\n",
    "# g['date'] = g.date.dt.dayofyear"
   ]
  },
  {
   "cell_type": "code",
   "execution_count": 35,
   "id": "inside-dubai",
   "metadata": {
    "execution": {
     "iopub.execute_input": "2021-10-30T00:23:22.310481Z",
     "iopub.status.busy": "2021-10-30T00:23:22.309650Z",
     "iopub.status.idle": "2021-10-30T00:23:22.312511Z",
     "shell.execute_reply": "2021-10-30T00:23:22.313127Z"
    },
    "papermill": {
     "duration": 0.048017,
     "end_time": "2021-10-30T00:23:22.313274",
     "exception": false,
     "start_time": "2021-10-30T00:23:22.265257",
     "status": "completed"
    },
    "tags": []
   },
   "outputs": [],
   "source": [
    "#hide\n",
    "# g = g.rename(columns= {'continent':'group','country':'name','cases':'value'})"
   ]
  },
  {
   "cell_type": "code",
   "execution_count": 36,
   "id": "fleet-motorcycle",
   "metadata": {
    "execution": {
     "iopub.execute_input": "2021-10-30T00:23:22.404450Z",
     "iopub.status.busy": "2021-10-30T00:23:22.403505Z",
     "iopub.status.idle": "2021-10-30T00:23:22.405435Z",
     "shell.execute_reply": "2021-10-30T00:23:22.406221Z"
    },
    "papermill": {
     "duration": 0.051527,
     "end_time": "2021-10-30T00:23:22.406369",
     "exception": false,
     "start_time": "2021-10-30T00:23:22.354842",
     "status": "completed"
    },
    "tags": []
   },
   "outputs": [],
   "source": [
    "#hide\n",
    "# cols = ['name','group','day','value']"
   ]
  },
  {
   "cell_type": "code",
   "execution_count": 37,
   "id": "continued-sleeping",
   "metadata": {
    "execution": {
     "iopub.execute_input": "2021-10-30T00:23:22.491168Z",
     "iopub.status.busy": "2021-10-30T00:23:22.490508Z",
     "iopub.status.idle": "2021-10-30T00:23:22.493201Z",
     "shell.execute_reply": "2021-10-30T00:23:22.492633Z"
    },
    "papermill": {
     "duration": 0.045619,
     "end_time": "2021-10-30T00:23:22.493328",
     "exception": false,
     "start_time": "2021-10-30T00:23:22.447709",
     "status": "completed"
    },
    "tags": []
   },
   "outputs": [],
   "source": [
    "#hide\n",
    "# g.rename(columns= {'date':'day'},inplace = True)"
   ]
  },
  {
   "cell_type": "code",
   "execution_count": 38,
   "id": "major-fight",
   "metadata": {
    "execution": {
     "iopub.execute_input": "2021-10-30T00:23:22.573870Z",
     "iopub.status.busy": "2021-10-30T00:23:22.573294Z",
     "iopub.status.idle": "2021-10-30T00:23:22.575381Z",
     "shell.execute_reply": "2021-10-30T00:23:22.575824Z"
    },
    "papermill": {
     "duration": 0.043596,
     "end_time": "2021-10-30T00:23:22.575938",
     "exception": false,
     "start_time": "2021-10-30T00:23:22.532342",
     "status": "completed"
    },
    "tags": []
   },
   "outputs": [],
   "source": [
    "#hide\n",
    "# g = g[cols]"
   ]
  },
  {
   "cell_type": "code",
   "execution_count": 39,
   "id": "structured-mobile",
   "metadata": {
    "execution": {
     "iopub.execute_input": "2021-10-30T00:23:22.640141Z",
     "iopub.status.busy": "2021-10-30T00:23:22.639561Z",
     "iopub.status.idle": "2021-10-30T00:23:22.641619Z",
     "shell.execute_reply": "2021-10-30T00:23:22.642084Z"
    },
    "papermill": {
     "duration": 0.035561,
     "end_time": "2021-10-30T00:23:22.642194",
     "exception": false,
     "start_time": "2021-10-30T00:23:22.606633",
     "status": "completed"
    },
    "tags": []
   },
   "outputs": [],
   "source": [
    "# #hide\n",
    "# g = g[g.group.notna()]"
   ]
  },
  {
   "cell_type": "code",
   "execution_count": 40,
   "id": "determined-closing",
   "metadata": {
    "execution": {
     "iopub.execute_input": "2021-10-30T00:23:22.738824Z",
     "iopub.status.busy": "2021-10-30T00:23:22.738205Z",
     "iopub.status.idle": "2021-10-30T00:23:22.740728Z",
     "shell.execute_reply": "2021-10-30T00:23:22.740157Z"
    },
    "papermill": {
     "duration": 0.068862,
     "end_time": "2021-10-30T00:23:22.740828",
     "exception": false,
     "start_time": "2021-10-30T00:23:22.671966",
     "status": "completed"
    },
    "tags": []
   },
   "outputs": [],
   "source": [
    "# #hide\n",
    "# colors = dict(zip(\n",
    "#     [\"Oceania\", \"Europe\", \"Asia\", \"South America\", \"Middle East\", \"North America\", \"Africa\"],\n",
    "#     [\"#adb0ff\", \"#ffb3ff\", \"#90d595\", \"#e48381\", \"#aafbff\", \"#f7bb5f\", \"#eafb50\"]\n",
    "# ))\n",
    "# group_lk = g.set_index('name')['group'].to_dict()"
   ]
  },
  {
   "cell_type": "code",
   "execution_count": null,
   "id": "gross-drinking",
   "metadata": {
    "papermill": {
     "duration": 0.065952,
     "end_time": "2021-10-30T00:23:22.877197",
     "exception": false,
     "start_time": "2021-10-30T00:23:22.811245",
     "status": "completed"
    },
    "tags": []
   },
   "outputs": [],
   "source": []
  },
  {
   "cell_type": "code",
   "execution_count": 41,
   "id": "subject-macintosh",
   "metadata": {
    "execution": {
     "iopub.execute_input": "2021-10-30T00:23:22.971824Z",
     "iopub.status.busy": "2021-10-30T00:23:22.971163Z",
     "iopub.status.idle": "2021-10-30T00:23:22.973694Z",
     "shell.execute_reply": "2021-10-30T00:23:22.973197Z"
    },
    "papermill": {
     "duration": 0.04439,
     "end_time": "2021-10-30T00:23:22.973804",
     "exception": false,
     "start_time": "2021-10-30T00:23:22.929414",
     "status": "completed"
    },
    "tags": []
   },
   "outputs": [],
   "source": [
    "# #hide\n",
    "# fig, ax = plt.subplots(figsize=(15, 8))\n",
    "\n",
    "# def draw_barchart(current_day):\n",
    "#     dff = g[g['day'].eq(current_day)].sort_values(by='value', ascending=True).tail(10)\n",
    "#     ax.clear()\n",
    "#     ax.barh(dff['name'], dff['value'], color=[colors[group_lk[x]] for x in dff['name']])\n",
    "#     dx = dff['value'].max() / 200\n",
    "    \n",
    "#     for i, (value, name) in enumerate(zip(dff['value'], dff['name'])):\n",
    "#         ax.text(value-dx, i,     name,           size=14, weight=600, ha='right', va='bottom')\n",
    "#         ax.text(value-dx, i-.25, group_lk[name], size=10, color='#444444', ha='right', va='baseline')\n",
    "#         ax.text(value+dx, i,     f'{value:,.0f}',  size=14, ha='left',  va='center')\n",
    "#     ax.text(1, 0.4, current_day, transform=ax.transAxes, color='#777777', size=46, ha='right', weight=800)\n",
    "#     ax.text(0, 1.06, 'Population (thousands)', transform=ax.transAxes, size=12, color='#777777')\n",
    "#     ax.xaxis.set_major_formatter(ticker.StrMethodFormatter('{x:,.0f}'))\n",
    "#     ax.xaxis.set_ticks_position('top')\n",
    "#     ax.tick_params(axis='x', colors='#777777', labelsize=12)\n",
    "#     ax.set_yticks([])\n",
    "#     ax.margins(0, 0.01)\n",
    "#     ax.grid(which='major', axis='x', linestyle='-')\n",
    "#     ax.set_axisbelow(True)\n",
    "    \n",
    "#     ax.text(0, 1.15, 'Coronavirus',\n",
    "#             transform=ax.transAxes, size=24, weight=600, ha='left', va='top')\n",
    "# #     ax.text(1, 0, 'by @pratapvardhan; credit @jburnmurdoch', transform=ax.transAxes, color='#777777', ha='right',\n",
    "# #             bbox=dict(facecolor='white', alpha=0.8, edgecolor='white'))\n",
    "#     plt.box(False)"
   ]
  },
  {
   "cell_type": "code",
   "execution_count": 42,
   "id": "sexual-wages",
   "metadata": {
    "execution": {
     "iopub.execute_input": "2021-10-30T00:23:23.063167Z",
     "iopub.status.busy": "2021-10-30T00:23:23.062467Z",
     "iopub.status.idle": "2021-10-30T00:23:23.064587Z",
     "shell.execute_reply": "2021-10-30T00:23:23.065093Z"
    },
    "papermill": {
     "duration": 0.052819,
     "end_time": "2021-10-30T00:23:23.065296",
     "exception": false,
     "start_time": "2021-10-30T00:23:23.012477",
     "status": "completed"
    },
    "tags": []
   },
   "outputs": [],
   "source": [
    "# #hide_input\n",
    "# fig, ax = plt.subplots(figsize=(15, 8))\n",
    "# animator = animation.FuncAnimation(fig, draw_barchart, frames=range(g.day.values.min(), g.day.values.max()))\n",
    "# HTML(animator.to_jshtml())\n",
    "# # or use animator.to_html5_video() or animator.save() "
   ]
  },
  {
   "cell_type": "code",
   "execution_count": null,
   "id": "australian-container",
   "metadata": {
    "papermill": {
     "duration": 0.04028,
     "end_time": "2021-10-30T00:23:23.151808",
     "exception": false,
     "start_time": "2021-10-30T00:23:23.111528",
     "status": "completed"
    },
    "tags": []
   },
   "outputs": [],
   "source": []
  },
  {
   "cell_type": "code",
   "execution_count": null,
   "id": "mediterranean-pontiac",
   "metadata": {
    "papermill": {
     "duration": 0.08072,
     "end_time": "2021-10-30T00:23:23.275937",
     "exception": false,
     "start_time": "2021-10-30T00:23:23.195217",
     "status": "completed"
    },
    "tags": []
   },
   "outputs": [],
   "source": []
  },
  {
   "cell_type": "code",
   "execution_count": null,
   "id": "aging-legislature",
   "metadata": {
    "papermill": {
     "duration": 0.045266,
     "end_time": "2021-10-30T00:23:23.374720",
     "exception": false,
     "start_time": "2021-10-30T00:23:23.329454",
     "status": "completed"
    },
    "tags": []
   },
   "outputs": [],
   "source": []
  }
 ],
 "metadata": {
  "kernelspec": {
   "display_name": "Python 3",
   "language": "python",
   "name": "python3"
  },
  "language_info": {
   "codemirror_mode": {
    "name": "ipython",
    "version": 3
   },
   "file_extension": ".py",
   "mimetype": "text/x-python",
   "name": "python",
   "nbconvert_exporter": "python",
   "pygments_lexer": "ipython3",
   "version": "3.6.15"
  },
  "papermill": {
   "duration": 7.661077,
   "end_time": "2021-10-30T00:23:23.724981",
   "environment_variables": {},
   "exception": null,
   "input_path": "2020-03-21-covid19exp.ipynb",
   "output_path": "2020-03-21-covid19exp.ipynb",
   "parameters": {},
   "start_time": "2021-10-30T00:23:16.063904",
   "version": "2.0.0"
  }
 },
 "nbformat": 4,
 "nbformat_minor": 5
}