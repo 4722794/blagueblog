{
 "cells": [
  {
   "cell_type": "markdown",
   "id": "muslim-click",
   "metadata": {
    "papermill": {
     "duration": 0.031346,
     "end_time": "2021-10-18T00:23:47.864949",
     "exception": false,
     "start_time": "2021-10-18T00:23:47.833603",
     "status": "completed"
    },
    "tags": []
   },
   "source": [
    "# COVID-19 Case Race\n",
    "> A race chart to see rising cases around the world\n",
    "\n",
    "- author: Hargun Oberoi\n",
    "- image: images/covid-overview.png\n",
    "- hide: false\n",
    "- badges: false"
   ]
  },
  {
   "cell_type": "code",
   "execution_count": 1,
   "id": "proof-material",
   "metadata": {
    "execution": {
     "iopub.execute_input": "2021-10-18T00:23:47.929285Z",
     "iopub.status.busy": "2021-10-18T00:23:47.927029Z",
     "iopub.status.idle": "2021-10-18T00:23:48.294600Z",
     "shell.execute_reply": "2021-10-18T00:23:48.294028Z"
    },
    "papermill": {
     "duration": 0.402543,
     "end_time": "2021-10-18T00:23:48.294777",
     "exception": false,
     "start_time": "2021-10-18T00:23:47.892234",
     "status": "completed"
    },
    "tags": []
   },
   "outputs": [],
   "source": [
    "#hide\n",
    "import numpy as np\n",
    "import pandas as pd\n",
    "from jinja2 import Template\n",
    "from IPython.display import HTML"
   ]
  },
  {
   "cell_type": "code",
   "execution_count": 2,
   "id": "developed-terminology",
   "metadata": {
    "execution": {
     "iopub.execute_input": "2021-10-18T00:23:48.356671Z",
     "iopub.status.busy": "2021-10-18T00:23:48.356043Z",
     "iopub.status.idle": "2021-10-18T00:23:48.358775Z",
     "shell.execute_reply": "2021-10-18T00:23:48.358340Z"
    },
    "papermill": {
     "duration": 0.036392,
     "end_time": "2021-10-18T00:23:48.358903",
     "exception": false,
     "start_time": "2021-10-18T00:23:48.322511",
     "status": "completed"
    },
    "tags": []
   },
   "outputs": [],
   "source": [
    "#hide\n",
    "\n",
    "# FETCH\n",
    "base_url = 'https://raw.githubusercontent.com/pratapvardhan/notebooks/master/covid19/'\n",
    "paths = {\n",
    "    'mapping': base_url + 'mapping_countries.csv',\n",
    "    'overview': base_url + 'overview.tpl'\n",
    "}"
   ]
  },
  {
   "cell_type": "code",
   "execution_count": 3,
   "id": "dynamic-saver",
   "metadata": {
    "execution": {
     "iopub.execute_input": "2021-10-18T00:23:48.429891Z",
     "iopub.status.busy": "2021-10-18T00:23:48.427439Z",
     "iopub.status.idle": "2021-10-18T00:23:48.432302Z",
     "shell.execute_reply": "2021-10-18T00:23:48.432721Z"
    },
    "papermill": {
     "duration": 0.043688,
     "end_time": "2021-10-18T00:23:48.432871",
     "exception": false,
     "start_time": "2021-10-18T00:23:48.389183",
     "status": "completed"
    },
    "tags": []
   },
   "outputs": [
    {
     "data": {
      "text/plain": [
       "'https://raw.githubusercontent.com/pratapvardhan/notebooks/master/covid19/mapping_countries.csv'"
      ]
     },
     "execution_count": 3,
     "metadata": {},
     "output_type": "execute_result"
    }
   ],
   "source": [
    "#hide\n",
    "paths['mapping']"
   ]
  },
  {
   "cell_type": "code",
   "execution_count": 4,
   "id": "urban-software",
   "metadata": {
    "execution": {
     "iopub.execute_input": "2021-10-18T00:23:48.500739Z",
     "iopub.status.busy": "2021-10-18T00:23:48.500199Z",
     "iopub.status.idle": "2021-10-18T00:23:48.501786Z",
     "shell.execute_reply": "2021-10-18T00:23:48.502225Z"
    },
    "papermill": {
     "duration": 0.038456,
     "end_time": "2021-10-18T00:23:48.502370",
     "exception": false,
     "start_time": "2021-10-18T00:23:48.463914",
     "status": "completed"
    },
    "tags": []
   },
   "outputs": [],
   "source": [
    "#hide\n",
    "def get_mappings(url):\n",
    "    df = pd.read_csv(url)\n",
    "    return {\n",
    "        'df': df,\n",
    "        'replace.country': dict(df.dropna(subset=['Name']).set_index('Country')['Name']),\n",
    "        'map.continent': dict(df.set_index('Name')['Continent'])\n",
    "    }"
   ]
  },
  {
   "cell_type": "code",
   "execution_count": 5,
   "id": "intimate-machinery",
   "metadata": {
    "execution": {
     "iopub.execute_input": "2021-10-18T00:23:48.569667Z",
     "iopub.status.busy": "2021-10-18T00:23:48.569072Z",
     "iopub.status.idle": "2021-10-18T00:23:48.630521Z",
     "shell.execute_reply": "2021-10-18T00:23:48.630010Z"
    },
    "papermill": {
     "duration": 0.097734,
     "end_time": "2021-10-18T00:23:48.630650",
     "exception": false,
     "start_time": "2021-10-18T00:23:48.532916",
     "status": "completed"
    },
    "tags": []
   },
   "outputs": [],
   "source": [
    "#hide\n",
    "mapping = get_mappings(paths['mapping'])"
   ]
  },
  {
   "cell_type": "code",
   "execution_count": 6,
   "id": "certified-tactics",
   "metadata": {
    "execution": {
     "iopub.execute_input": "2021-10-18T00:23:48.697711Z",
     "iopub.status.busy": "2021-10-18T00:23:48.697155Z",
     "iopub.status.idle": "2021-10-18T00:23:48.699190Z",
     "shell.execute_reply": "2021-10-18T00:23:48.698766Z"
    },
    "papermill": {
     "duration": 0.037968,
     "end_time": "2021-10-18T00:23:48.699317",
     "exception": false,
     "start_time": "2021-10-18T00:23:48.661349",
     "status": "completed"
    },
    "tags": []
   },
   "outputs": [],
   "source": [
    "#hide\n",
    "def get_template(path):\n",
    "    from urllib.parse import urlparse\n",
    "    if bool(urlparse(path).netloc):\n",
    "        from urllib.request import urlopen\n",
    "        return urlopen(path).read().decode('utf8')\n",
    "    return open(path).read()"
   ]
  },
  {
   "cell_type": "code",
   "execution_count": 7,
   "id": "realistic-blast",
   "metadata": {
    "execution": {
     "iopub.execute_input": "2021-10-18T00:23:48.766384Z",
     "iopub.status.busy": "2021-10-18T00:23:48.765845Z",
     "iopub.status.idle": "2021-10-18T00:23:48.767706Z",
     "shell.execute_reply": "2021-10-18T00:23:48.768151Z"
    },
    "papermill": {
     "duration": 0.038179,
     "end_time": "2021-10-18T00:23:48.768302",
     "exception": false,
     "start_time": "2021-10-18T00:23:48.730123",
     "status": "completed"
    },
    "tags": []
   },
   "outputs": [],
   "source": [
    "#hide\n",
    "def get_frame(name):\n",
    "    url = (\n",
    "        'https://raw.githubusercontent.com/CSSEGISandData/COVID-19/master/csse_covid_19_data/'\n",
    "        f'csse_covid_19_time_series/time_series_covid19_{name}_global.csv')\n",
    "    df = pd.read_csv(url)\n",
    "    # rename countries\n",
    "    df['Country/Region'] = df['Country/Region'].replace(mapping['replace.country'])\n",
    "    return df"
   ]
  },
  {
   "cell_type": "code",
   "execution_count": 8,
   "id": "affiliated-characterization",
   "metadata": {
    "execution": {
     "iopub.execute_input": "2021-10-18T00:23:48.836353Z",
     "iopub.status.busy": "2021-10-18T00:23:48.835759Z",
     "iopub.status.idle": "2021-10-18T00:23:48.837549Z",
     "shell.execute_reply": "2021-10-18T00:23:48.837995Z"
    },
    "papermill": {
     "duration": 0.03918,
     "end_time": "2021-10-18T00:23:48.838147",
     "exception": false,
     "start_time": "2021-10-18T00:23:48.798967",
     "status": "completed"
    },
    "tags": []
   },
   "outputs": [],
   "source": [
    "#hide\n",
    "def get_dates(df):\n",
    "    dt_cols = df.columns[~df.columns.isin(['Province/State', 'Country/Region', 'Lat', 'Long'])]\n",
    "    LAST_DATE_I = -1\n",
    "    # sometimes last column may be empty, then go backwards\n",
    "    for i in range(-1, -len(dt_cols), -1):\n",
    "        if not df[dt_cols[i]].fillna(0).eq(0).all():\n",
    "            LAST_DATE_I = i\n",
    "            break\n",
    "    return LAST_DATE_I, dt_cols"
   ]
  },
  {
   "cell_type": "code",
   "execution_count": 9,
   "id": "recent-optimization",
   "metadata": {
    "execution": {
     "iopub.execute_input": "2021-10-18T00:23:48.904629Z",
     "iopub.status.busy": "2021-10-18T00:23:48.904053Z",
     "iopub.status.idle": "2021-10-18T00:23:49.390950Z",
     "shell.execute_reply": "2021-10-18T00:23:49.390425Z"
    },
    "papermill": {
     "duration": 0.522302,
     "end_time": "2021-10-18T00:23:49.391091",
     "exception": false,
     "start_time": "2021-10-18T00:23:48.868789",
     "status": "completed"
    },
    "tags": []
   },
   "outputs": [],
   "source": [
    "#hide\n",
    "COL_REGION = 'Country/Region'\n",
    "# Confirmed, Recovered, Deaths\n",
    "df = get_frame('confirmed')\n",
    "# dft_: timeseries, dfc_: today country agg\n",
    "dft_cases = df\n",
    "dft_deaths = get_frame('deaths')\n",
    "dft_recovered = get_frame('recovered')\n",
    "LAST_DATE_I, dt_cols = get_dates(df)"
   ]
  },
  {
   "cell_type": "code",
   "execution_count": 10,
   "id": "absolute-copper",
   "metadata": {
    "execution": {
     "iopub.execute_input": "2021-10-18T00:23:49.458877Z",
     "iopub.status.busy": "2021-10-18T00:23:49.458309Z",
     "iopub.status.idle": "2021-10-18T00:23:49.460249Z",
     "shell.execute_reply": "2021-10-18T00:23:49.460758Z"
    },
    "papermill": {
     "duration": 0.038884,
     "end_time": "2021-10-18T00:23:49.460917",
     "exception": false,
     "start_time": "2021-10-18T00:23:49.422033",
     "status": "completed"
    },
    "tags": []
   },
   "outputs": [],
   "source": [
    "#hide\n",
    "LAST_DATE_I, dt_cols = get_dates(df)\n",
    "dt_today =dt_cols[LAST_DATE_I]\n",
    "# dt_5day = dt_cols[LAST_DATE_I - 5]\n",
    "dt_yday = dt_cols[LAST_DATE_I - 1]"
   ]
  },
  {
   "cell_type": "code",
   "execution_count": 11,
   "id": "restricted-sheriff",
   "metadata": {
    "execution": {
     "iopub.execute_input": "2021-10-18T00:23:49.528915Z",
     "iopub.status.busy": "2021-10-18T00:23:49.528364Z",
     "iopub.status.idle": "2021-10-18T00:23:49.535814Z",
     "shell.execute_reply": "2021-10-18T00:23:49.535381Z"
    },
    "papermill": {
     "duration": 0.044395,
     "end_time": "2021-10-18T00:23:49.535968",
     "exception": false,
     "start_time": "2021-10-18T00:23:49.491573",
     "status": "completed"
    },
    "tags": []
   },
   "outputs": [],
   "source": [
    "#hide\n",
    "dfc_cases = dft_cases.groupby(COL_REGION)[dt_today].sum()\n",
    "dfc_deaths = dft_deaths.groupby(COL_REGION)[dt_today].sum()\n",
    "# dfp_cases = dft_cases.groupby(COL_REGION)[dt_5day].sum()\n",
    "# dfp_deaths = dft_deaths.groupby(COL_REGION)[dt_5day].sum()\n",
    "dfp_cases = dft_cases.groupby(COL_REGION)[dt_yday].sum()\n",
    "dfp_deaths = dft_deaths.groupby(COL_REGION)[dt_yday].sum()"
   ]
  },
  {
   "cell_type": "code",
   "execution_count": 12,
   "id": "deluxe-hepatitis",
   "metadata": {
    "execution": {
     "iopub.execute_input": "2021-10-18T00:23:49.604310Z",
     "iopub.status.busy": "2021-10-18T00:23:49.603746Z",
     "iopub.status.idle": "2021-10-18T00:23:49.608599Z",
     "shell.execute_reply": "2021-10-18T00:23:49.608164Z"
    },
    "papermill": {
     "duration": 0.041885,
     "end_time": "2021-10-18T00:23:49.608726",
     "exception": false,
     "start_time": "2021-10-18T00:23:49.566841",
     "status": "completed"
    },
    "tags": []
   },
   "outputs": [],
   "source": [
    "#hide\n",
    "df_table = (pd.DataFrame(dict(Cases = dfc_cases, Deaths = dfc_deaths, PCases = dfp_cases, PDeaths = dfp_deaths))\n",
    "            .sort_values(by = ['Cases','Deaths'], ascending = [False, False])\n",
    "            .reset_index())"
   ]
  },
  {
   "cell_type": "code",
   "execution_count": 13,
   "id": "educational-chancellor",
   "metadata": {
    "execution": {
     "iopub.execute_input": "2021-10-18T00:23:49.688977Z",
     "iopub.status.busy": "2021-10-18T00:23:49.688380Z",
     "iopub.status.idle": "2021-10-18T00:23:49.696122Z",
     "shell.execute_reply": "2021-10-18T00:23:49.695655Z"
    },
    "papermill": {
     "duration": 0.057042,
     "end_time": "2021-10-18T00:23:49.696258",
     "exception": false,
     "start_time": "2021-10-18T00:23:49.639216",
     "status": "completed"
    },
    "tags": []
   },
   "outputs": [
    {
     "data": {
      "text/html": [
       "<div>\n",
       "<style scoped>\n",
       "    .dataframe tbody tr th:only-of-type {\n",
       "        vertical-align: middle;\n",
       "    }\n",
       "\n",
       "    .dataframe tbody tr th {\n",
       "        vertical-align: top;\n",
       "    }\n",
       "\n",
       "    .dataframe thead th {\n",
       "        text-align: right;\n",
       "    }\n",
       "</style>\n",
       "<table border=\"1\" class=\"dataframe\">\n",
       "  <thead>\n",
       "    <tr style=\"text-align: right;\">\n",
       "      <th></th>\n",
       "      <th>Country/Region</th>\n",
       "      <th>Cases</th>\n",
       "      <th>Deaths</th>\n",
       "      <th>PCases</th>\n",
       "      <th>PDeaths</th>\n",
       "      <th>Cases (+)</th>\n",
       "      <th>Deaths (+)</th>\n",
       "      <th>Fatality Rate</th>\n",
       "      <th>Continent</th>\n",
       "    </tr>\n",
       "  </thead>\n",
       "  <tbody>\n",
       "    <tr>\n",
       "      <th>0</th>\n",
       "      <td>US</td>\n",
       "      <td>44916423</td>\n",
       "      <td>724153</td>\n",
       "      <td>44884598</td>\n",
       "      <td>723754</td>\n",
       "      <td>31825</td>\n",
       "      <td>399</td>\n",
       "      <td>1.61</td>\n",
       "      <td>North America</td>\n",
       "    </tr>\n",
       "    <tr>\n",
       "      <th>1</th>\n",
       "      <td>India</td>\n",
       "      <td>34067719</td>\n",
       "      <td>452124</td>\n",
       "      <td>34053573</td>\n",
       "      <td>451980</td>\n",
       "      <td>14146</td>\n",
       "      <td>144</td>\n",
       "      <td>1.33</td>\n",
       "      <td>Asia</td>\n",
       "    </tr>\n",
       "    <tr>\n",
       "      <th>2</th>\n",
       "      <td>Brazil</td>\n",
       "      <td>21638726</td>\n",
       "      <td>603152</td>\n",
       "      <td>21627476</td>\n",
       "      <td>602669</td>\n",
       "      <td>11250</td>\n",
       "      <td>483</td>\n",
       "      <td>2.79</td>\n",
       "      <td>South America</td>\n",
       "    </tr>\n",
       "    <tr>\n",
       "      <th>3</th>\n",
       "      <td>United Kingdom</td>\n",
       "      <td>8443882</td>\n",
       "      <td>138940</td>\n",
       "      <td>8400983</td>\n",
       "      <td>138792</td>\n",
       "      <td>42899</td>\n",
       "      <td>148</td>\n",
       "      <td>1.65</td>\n",
       "      <td>Europe</td>\n",
       "    </tr>\n",
       "    <tr>\n",
       "      <th>4</th>\n",
       "      <td>Russia</td>\n",
       "      <td>7837101</td>\n",
       "      <td>218362</td>\n",
       "      <td>7804750</td>\n",
       "      <td>217382</td>\n",
       "      <td>32351</td>\n",
       "      <td>980</td>\n",
       "      <td>2.79</td>\n",
       "      <td>Europe</td>\n",
       "    </tr>\n",
       "  </tbody>\n",
       "</table>\n",
       "</div>"
      ],
      "text/plain": [
       "   Country/Region     Cases  Deaths    PCases  PDeaths  Cases (+)  Deaths (+)  \\\n",
       "0              US  44916423  724153  44884598   723754      31825         399   \n",
       "1           India  34067719  452124  34053573   451980      14146         144   \n",
       "2          Brazil  21638726  603152  21627476   602669      11250         483   \n",
       "3  United Kingdom   8443882  138940   8400983   138792      42899         148   \n",
       "4          Russia   7837101  218362   7804750   217382      32351         980   \n",
       "\n",
       "   Fatality Rate      Continent  \n",
       "0           1.61  North America  \n",
       "1           1.33           Asia  \n",
       "2           2.79  South America  \n",
       "3           1.65         Europe  \n",
       "4           2.79         Europe  "
      ]
     },
     "execution_count": 13,
     "metadata": {},
     "output_type": "execute_result"
    }
   ],
   "source": [
    "#hide\n",
    "for c in 'Cases, Deaths'.split(', '):\n",
    "    df_table[f'{c} (+)'] = (df_table[c] - df_table[f'P{c}']).clip(0)\n",
    "    #Clip ça veut dire, les chiffres negatif sont interdit\n",
    "df_table['Fatality Rate'] = (100* df_table['Deaths']/ df_table['Cases']).round(2)\n",
    "df_table['Continent'] = df_table['Country/Region'].map(mapping['map.continent'])\n",
    "df_table.head(5)"
   ]
  },
  {
   "cell_type": "code",
   "execution_count": 14,
   "id": "aboriginal-bulgaria",
   "metadata": {
    "execution": {
     "iopub.execute_input": "2021-10-18T00:23:49.764357Z",
     "iopub.status.busy": "2021-10-18T00:23:49.763781Z",
     "iopub.status.idle": "2021-10-18T00:23:49.766620Z",
     "shell.execute_reply": "2021-10-18T00:23:49.767011Z"
    },
    "papermill": {
     "duration": 0.039708,
     "end_time": "2021-10-18T00:23:49.767163",
     "exception": false,
     "start_time": "2021-10-18T00:23:49.727455",
     "status": "completed"
    },
    "tags": []
   },
   "outputs": [],
   "source": [
    "#hide\n",
    "#delete problematic countries from table\n",
    "df_table = df_table[~df_table['Country/Region'].isin(['Cape Verde', 'Cruise Ship', 'Kosovo'])]"
   ]
  },
  {
   "cell_type": "code",
   "execution_count": 15,
   "id": "fantastic-effect",
   "metadata": {
    "execution": {
     "iopub.execute_input": "2021-10-18T00:23:49.837064Z",
     "iopub.status.busy": "2021-10-18T00:23:49.836512Z",
     "iopub.status.idle": "2021-10-18T00:23:49.852941Z",
     "shell.execute_reply": "2021-10-18T00:23:49.852517Z"
    },
    "papermill": {
     "duration": 0.054895,
     "end_time": "2021-10-18T00:23:49.853069",
     "exception": false,
     "start_time": "2021-10-18T00:23:49.798174",
     "status": "completed"
    },
    "tags": []
   },
   "outputs": [
    {
     "data": {
      "text/html": [
       "<div>\n",
       "<style scoped>\n",
       "    .dataframe tbody tr th:only-of-type {\n",
       "        vertical-align: middle;\n",
       "    }\n",
       "\n",
       "    .dataframe tbody tr th {\n",
       "        vertical-align: top;\n",
       "    }\n",
       "\n",
       "    .dataframe thead th {\n",
       "        text-align: right;\n",
       "    }\n",
       "</style>\n",
       "<table border=\"1\" class=\"dataframe\">\n",
       "  <thead>\n",
       "    <tr style=\"text-align: right;\">\n",
       "      <th></th>\n",
       "      <th>Country/Region</th>\n",
       "      <th>Cases</th>\n",
       "      <th>Deaths</th>\n",
       "      <th>PCases</th>\n",
       "      <th>PDeaths</th>\n",
       "      <th>Cases (+)</th>\n",
       "      <th>Deaths (+)</th>\n",
       "      <th>Fatality Rate</th>\n",
       "      <th>Continent</th>\n",
       "    </tr>\n",
       "  </thead>\n",
       "  <tbody>\n",
       "    <tr>\n",
       "      <th>0</th>\n",
       "      <td>US</td>\n",
       "      <td>44916423</td>\n",
       "      <td>724153</td>\n",
       "      <td>44884598</td>\n",
       "      <td>723754</td>\n",
       "      <td>31825</td>\n",
       "      <td>399</td>\n",
       "      <td>1.6</td>\n",
       "      <td>North America</td>\n",
       "    </tr>\n",
       "    <tr>\n",
       "      <th>1</th>\n",
       "      <td>India</td>\n",
       "      <td>34067719</td>\n",
       "      <td>452124</td>\n",
       "      <td>34053573</td>\n",
       "      <td>451980</td>\n",
       "      <td>14146</td>\n",
       "      <td>144</td>\n",
       "      <td>1.3</td>\n",
       "      <td>Asia</td>\n",
       "    </tr>\n",
       "    <tr>\n",
       "      <th>2</th>\n",
       "      <td>Brazil</td>\n",
       "      <td>21638726</td>\n",
       "      <td>603152</td>\n",
       "      <td>21627476</td>\n",
       "      <td>602669</td>\n",
       "      <td>11250</td>\n",
       "      <td>483</td>\n",
       "      <td>2.8</td>\n",
       "      <td>South America</td>\n",
       "    </tr>\n",
       "    <tr>\n",
       "      <th>3</th>\n",
       "      <td>United Kingdom</td>\n",
       "      <td>8443882</td>\n",
       "      <td>138940</td>\n",
       "      <td>8400983</td>\n",
       "      <td>138792</td>\n",
       "      <td>42899</td>\n",
       "      <td>148</td>\n",
       "      <td>1.6</td>\n",
       "      <td>Europe</td>\n",
       "    </tr>\n",
       "    <tr>\n",
       "      <th>4</th>\n",
       "      <td>Russia</td>\n",
       "      <td>7837101</td>\n",
       "      <td>218362</td>\n",
       "      <td>7804750</td>\n",
       "      <td>217382</td>\n",
       "      <td>32351</td>\n",
       "      <td>980</td>\n",
       "      <td>2.8</td>\n",
       "      <td>Europe</td>\n",
       "    </tr>\n",
       "  </tbody>\n",
       "</table>\n",
       "</div>"
      ],
      "text/plain": [
       "   Country/Region     Cases  Deaths    PCases  PDeaths  Cases (+)  Deaths (+)  \\\n",
       "0              US  44916423  724153  44884598   723754      31825         399   \n",
       "1           India  34067719  452124  34053573   451980      14146         144   \n",
       "2          Brazil  21638726  603152  21627476   602669      11250         483   \n",
       "3  United Kingdom   8443882  138940   8400983   138792      42899         148   \n",
       "4          Russia   7837101  218362   7804750   217382      32351         980   \n",
       "\n",
       "   Fatality Rate      Continent  \n",
       "0            1.6  North America  \n",
       "1            1.3           Asia  \n",
       "2            2.8  South America  \n",
       "3            1.6         Europe  \n",
       "4            2.8         Europe  "
      ]
     },
     "execution_count": 15,
     "metadata": {},
     "output_type": "execute_result"
    }
   ],
   "source": [
    "#hide\n",
    "df_table = (pd.DataFrame(dict(Cases=dfc_cases, Deaths=dfc_deaths, PCases=dfp_cases, PDeaths=dfp_deaths))\n",
    "             .sort_values(by=['Cases', 'Deaths'], ascending=[False, False])\n",
    "             .reset_index())\n",
    "df_table.rename(columns={'index': 'Country/Region'}, inplace=True)\n",
    "for c in 'Cases, Deaths'.split(', '):\n",
    "    df_table[f'{c} (+)'] = (df_table[c] - df_table[f'P{c}']).clip(0)  # DATA BUG\n",
    "df_table['Fatality Rate'] = (100 * df_table['Deaths'] / df_table['Cases']).round(1)\n",
    "df_table['Continent'] = df_table['Country/Region'].map(mapping['map.continent'])\n",
    "df_table.head(5)"
   ]
  },
  {
   "cell_type": "code",
   "execution_count": 16,
   "id": "fewer-occasion",
   "metadata": {
    "execution": {
     "iopub.execute_input": "2021-10-18T00:23:49.922527Z",
     "iopub.status.busy": "2021-10-18T00:23:49.921982Z",
     "iopub.status.idle": "2021-10-18T00:23:49.923870Z",
     "shell.execute_reply": "2021-10-18T00:23:49.924291Z"
    },
    "papermill": {
     "duration": 0.039702,
     "end_time": "2021-10-18T00:23:49.924439",
     "exception": false,
     "start_time": "2021-10-18T00:23:49.884737",
     "status": "completed"
    },
    "tags": []
   },
   "outputs": [],
   "source": [
    "#hide\n",
    "#delete problematic countries from table\n",
    "df_table = df_table[~df_table['Country/Region'].isin(['Cape Verde', 'Cruise Ship', 'Kosovo'])]"
   ]
  },
  {
   "cell_type": "code",
   "execution_count": 17,
   "id": "related-center",
   "metadata": {
    "execution": {
     "iopub.execute_input": "2021-10-18T00:23:50.006686Z",
     "iopub.status.busy": "2021-10-18T00:23:50.006119Z",
     "iopub.status.idle": "2021-10-18T00:23:50.007818Z",
     "shell.execute_reply": "2021-10-18T00:23:50.008281Z"
    },
    "papermill": {
     "duration": 0.052596,
     "end_time": "2021-10-18T00:23:50.008436",
     "exception": false,
     "start_time": "2021-10-18T00:23:49.955840",
     "status": "completed"
    },
    "tags": []
   },
   "outputs": [],
   "source": [
    "#hide\n",
    "metrics = [df_table.columns[index] for index in [1,2,5,6]]\n",
    "# s_china = df_table[df_table['Country/Region'].eq('China')][metrics].sum().add_prefix('China ')\n",
    "s_us = df_table[df_table['Country/Region'].eq('US')][metrics].sum().add_prefix('US ')\n",
    "s_eu = df_table[df_table['Continent'].eq('Europe')][metrics].sum().add_prefix('EU ')\n",
    "s_ind = df_table[df_table['Country/Region'].eq('India')][metrics].sum().add_prefix('India ')\n",
    "summary = {'updated': pd.to_datetime(dt_today), 'since': pd.to_datetime(dt_yday)}\n",
    "summary = {'updated': pd.to_datetime(dt_today), 'since': pd.to_datetime(dt_yday)}\n",
    "summary = {**summary, **df_table[metrics].sum(), **s_ind, **s_us, **s_eu}"
   ]
  },
  {
   "cell_type": "code",
   "execution_count": 18,
   "id": "engaging-syndrome",
   "metadata": {
    "execution": {
     "iopub.execute_input": "2021-10-18T00:23:50.077612Z",
     "iopub.status.busy": "2021-10-18T00:23:50.077064Z",
     "iopub.status.idle": "2021-10-18T00:23:50.091198Z",
     "shell.execute_reply": "2021-10-18T00:23:50.091608Z"
    },
    "papermill": {
     "duration": 0.051703,
     "end_time": "2021-10-18T00:23:50.091776",
     "exception": false,
     "start_time": "2021-10-18T00:23:50.040073",
     "status": "completed"
    },
    "tags": []
   },
   "outputs": [],
   "source": [
    "#hide\n",
    "dft_ct_new_cases = dft_cases.groupby(COL_REGION)[dt_cols].sum().diff(axis=1).fillna(0).astype(int)"
   ]
  },
  {
   "cell_type": "code",
   "execution_count": 19,
   "id": "neutral-assignment",
   "metadata": {
    "execution": {
     "iopub.execute_input": "2021-10-18T00:23:50.161804Z",
     "iopub.status.busy": "2021-10-18T00:23:50.161254Z",
     "iopub.status.idle": "2021-10-18T00:23:50.162615Z",
     "shell.execute_reply": "2021-10-18T00:23:50.163107Z"
    },
    "papermill": {
     "duration": 0.039941,
     "end_time": "2021-10-18T00:23:50.163256",
     "exception": false,
     "start_time": "2021-10-18T00:23:50.123315",
     "status": "completed"
    },
    "tags": []
   },
   "outputs": [],
   "source": [
    "#hide\n",
    "everydaycases = dft_ct_new_cases.cumsum(axis=1)"
   ]
  },
  {
   "cell_type": "code",
   "execution_count": 20,
   "id": "parliamentary-calgary",
   "metadata": {
    "execution": {
     "iopub.execute_input": "2021-10-18T00:23:50.231566Z",
     "iopub.status.busy": "2021-10-18T00:23:50.231006Z",
     "iopub.status.idle": "2021-10-18T00:23:50.750221Z",
     "shell.execute_reply": "2021-10-18T00:23:50.749689Z"
    },
    "papermill": {
     "duration": 0.5553,
     "end_time": "2021-10-18T00:23:50.750361",
     "exception": false,
     "start_time": "2021-10-18T00:23:50.195061",
     "status": "completed"
    },
    "tags": []
   },
   "outputs": [],
   "source": [
    "#hide\n",
    "import pandas as pd\n",
    "import matplotlib.pyplot as plt\n",
    "import matplotlib.ticker as ticker\n",
    "import matplotlib.animation as animation\n",
    "from IPython.display import HTML"
   ]
  },
  {
   "cell_type": "code",
   "execution_count": 21,
   "id": "lasting-extraction",
   "metadata": {
    "execution": {
     "iopub.execute_input": "2021-10-18T00:23:50.819721Z",
     "iopub.status.busy": "2021-10-18T00:23:50.819183Z",
     "iopub.status.idle": "2021-10-18T00:23:50.824911Z",
     "shell.execute_reply": "2021-10-18T00:23:50.825351Z"
    },
    "papermill": {
     "duration": 0.043653,
     "end_time": "2021-10-18T00:23:50.825494",
     "exception": false,
     "start_time": "2021-10-18T00:23:50.781841",
     "status": "completed"
    },
    "tags": []
   },
   "outputs": [],
   "source": [
    "#hide\n",
    "t = everydaycases.stack()"
   ]
  },
  {
   "cell_type": "code",
   "execution_count": 22,
   "id": "premier-sleeve",
   "metadata": {
    "execution": {
     "iopub.execute_input": "2021-10-18T00:23:50.893408Z",
     "iopub.status.busy": "2021-10-18T00:23:50.892866Z",
     "iopub.status.idle": "2021-10-18T00:23:50.901211Z",
     "shell.execute_reply": "2021-10-18T00:23:50.900756Z"
    },
    "papermill": {
     "duration": 0.044169,
     "end_time": "2021-10-18T00:23:50.901337",
     "exception": false,
     "start_time": "2021-10-18T00:23:50.857168",
     "status": "completed"
    },
    "tags": []
   },
   "outputs": [],
   "source": [
    "#hide\n",
    "g = t.reset_index(['Country/Region'])"
   ]
  },
  {
   "cell_type": "code",
   "execution_count": 23,
   "id": "distributed-pittsburgh",
   "metadata": {
    "execution": {
     "iopub.execute_input": "2021-10-18T00:23:50.969478Z",
     "iopub.status.busy": "2021-10-18T00:23:50.968948Z",
     "iopub.status.idle": "2021-10-18T00:23:50.971212Z",
     "shell.execute_reply": "2021-10-18T00:23:50.970753Z"
    },
    "papermill": {
     "duration": 0.038276,
     "end_time": "2021-10-18T00:23:50.971339",
     "exception": false,
     "start_time": "2021-10-18T00:23:50.933063",
     "status": "completed"
    },
    "tags": []
   },
   "outputs": [],
   "source": [
    "#hide\n",
    "g.index.name = 'date'"
   ]
  },
  {
   "cell_type": "code",
   "execution_count": 24,
   "id": "naked-donor",
   "metadata": {
    "execution": {
     "iopub.execute_input": "2021-10-18T00:23:51.038481Z",
     "iopub.status.busy": "2021-10-18T00:23:51.037937Z",
     "iopub.status.idle": "2021-10-18T00:23:51.040215Z",
     "shell.execute_reply": "2021-10-18T00:23:51.039769Z"
    },
    "papermill": {
     "duration": 0.037457,
     "end_time": "2021-10-18T00:23:51.040346",
     "exception": false,
     "start_time": "2021-10-18T00:23:51.002889",
     "status": "completed"
    },
    "tags": []
   },
   "outputs": [],
   "source": [
    "# #hide\n",
    "# g = g.reset_index(['date'])"
   ]
  },
  {
   "cell_type": "code",
   "execution_count": 25,
   "id": "incomplete-mustang",
   "metadata": {
    "execution": {
     "iopub.execute_input": "2021-10-18T00:23:51.109179Z",
     "iopub.status.busy": "2021-10-18T00:23:51.108655Z",
     "iopub.status.idle": "2021-10-18T00:23:51.110601Z",
     "shell.execute_reply": "2021-10-18T00:23:51.111013Z"
    },
    "papermill": {
     "duration": 0.039283,
     "end_time": "2021-10-18T00:23:51.111151",
     "exception": false,
     "start_time": "2021-10-18T00:23:51.071868",
     "status": "completed"
    },
    "tags": []
   },
   "outputs": [],
   "source": [
    "#hide\n",
    "# g.head()"
   ]
  },
  {
   "cell_type": "code",
   "execution_count": 26,
   "id": "specific-kruger",
   "metadata": {
    "execution": {
     "iopub.execute_input": "2021-10-18T00:23:51.178298Z",
     "iopub.status.busy": "2021-10-18T00:23:51.177743Z",
     "iopub.status.idle": "2021-10-18T00:23:51.179990Z",
     "shell.execute_reply": "2021-10-18T00:23:51.179524Z"
    },
    "papermill": {
     "duration": 0.037548,
     "end_time": "2021-10-18T00:23:51.180113",
     "exception": false,
     "start_time": "2021-10-18T00:23:51.142565",
     "status": "completed"
    },
    "tags": []
   },
   "outputs": [],
   "source": [
    "#hide\n",
    "# g.columns = ['date','country','cases']"
   ]
  },
  {
   "cell_type": "code",
   "execution_count": 27,
   "id": "tender-conversion",
   "metadata": {
    "execution": {
     "iopub.execute_input": "2021-10-18T00:23:51.246755Z",
     "iopub.status.busy": "2021-10-18T00:23:51.246213Z",
     "iopub.status.idle": "2021-10-18T00:23:51.248479Z",
     "shell.execute_reply": "2021-10-18T00:23:51.248021Z"
    },
    "papermill": {
     "duration": 0.037268,
     "end_time": "2021-10-18T00:23:51.248601",
     "exception": false,
     "start_time": "2021-10-18T00:23:51.211333",
     "status": "completed"
    },
    "tags": []
   },
   "outputs": [],
   "source": [
    "#hide\n",
    "# g['continent'] = g.country"
   ]
  },
  {
   "cell_type": "code",
   "execution_count": 28,
   "id": "substantial-wilderness",
   "metadata": {
    "execution": {
     "iopub.execute_input": "2021-10-18T00:23:51.315764Z",
     "iopub.status.busy": "2021-10-18T00:23:51.315231Z",
     "iopub.status.idle": "2021-10-18T00:23:51.317529Z",
     "shell.execute_reply": "2021-10-18T00:23:51.317114Z"
    },
    "papermill": {
     "duration": 0.037525,
     "end_time": "2021-10-18T00:23:51.317647",
     "exception": false,
     "start_time": "2021-10-18T00:23:51.280122",
     "status": "completed"
    },
    "tags": []
   },
   "outputs": [],
   "source": [
    "#hide\n",
    "# cols = list(g.columns.values)"
   ]
  },
  {
   "cell_type": "code",
   "execution_count": 29,
   "id": "solved-farming",
   "metadata": {
    "execution": {
     "iopub.execute_input": "2021-10-18T00:23:51.384987Z",
     "iopub.status.busy": "2021-10-18T00:23:51.384437Z",
     "iopub.status.idle": "2021-10-18T00:23:51.385809Z",
     "shell.execute_reply": "2021-10-18T00:23:51.386245Z"
    },
    "papermill": {
     "duration": 0.037353,
     "end_time": "2021-10-18T00:23:51.386386",
     "exception": false,
     "start_time": "2021-10-18T00:23:51.349033",
     "status": "completed"
    },
    "tags": []
   },
   "outputs": [],
   "source": [
    "#hide\n",
    "# cols.insert(0, cols.pop())"
   ]
  },
  {
   "cell_type": "code",
   "execution_count": 30,
   "id": "executed-adoption",
   "metadata": {
    "execution": {
     "iopub.execute_input": "2021-10-18T00:23:51.453340Z",
     "iopub.status.busy": "2021-10-18T00:23:51.452787Z",
     "iopub.status.idle": "2021-10-18T00:23:51.454799Z",
     "shell.execute_reply": "2021-10-18T00:23:51.455243Z"
    },
    "papermill": {
     "duration": 0.037631,
     "end_time": "2021-10-18T00:23:51.455391",
     "exception": false,
     "start_time": "2021-10-18T00:23:51.417760",
     "status": "completed"
    },
    "tags": []
   },
   "outputs": [],
   "source": [
    "#hide\n",
    "# g = g[cols]"
   ]
  },
  {
   "cell_type": "code",
   "execution_count": 31,
   "id": "subject-dublin",
   "metadata": {
    "execution": {
     "iopub.execute_input": "2021-10-18T00:23:51.522374Z",
     "iopub.status.busy": "2021-10-18T00:23:51.521836Z",
     "iopub.status.idle": "2021-10-18T00:23:51.523782Z",
     "shell.execute_reply": "2021-10-18T00:23:51.524302Z"
    },
    "papermill": {
     "duration": 0.037698,
     "end_time": "2021-10-18T00:23:51.524453",
     "exception": false,
     "start_time": "2021-10-18T00:23:51.486755",
     "status": "completed"
    },
    "tags": []
   },
   "outputs": [],
   "source": [
    "#hide\n",
    "# g['continent'] = g['continent'].map(mapping['map.continent'])"
   ]
  },
  {
   "cell_type": "code",
   "execution_count": 32,
   "id": "freelance-scout",
   "metadata": {
    "execution": {
     "iopub.execute_input": "2021-10-18T00:23:51.591452Z",
     "iopub.status.busy": "2021-10-18T00:23:51.590934Z",
     "iopub.status.idle": "2021-10-18T00:23:51.593290Z",
     "shell.execute_reply": "2021-10-18T00:23:51.592869Z"
    },
    "papermill": {
     "duration": 0.037481,
     "end_time": "2021-10-18T00:23:51.593416",
     "exception": false,
     "start_time": "2021-10-18T00:23:51.555935",
     "status": "completed"
    },
    "tags": []
   },
   "outputs": [],
   "source": [
    "#hide\n",
    "# g.head()"
   ]
  },
  {
   "cell_type": "code",
   "execution_count": 33,
   "id": "limited-engine",
   "metadata": {
    "execution": {
     "iopub.execute_input": "2021-10-18T00:23:51.660393Z",
     "iopub.status.busy": "2021-10-18T00:23:51.659819Z",
     "iopub.status.idle": "2021-10-18T00:23:51.661850Z",
     "shell.execute_reply": "2021-10-18T00:23:51.661329Z"
    },
    "papermill": {
     "duration": 0.037061,
     "end_time": "2021-10-18T00:23:51.661971",
     "exception": false,
     "start_time": "2021-10-18T00:23:51.624910",
     "status": "completed"
    },
    "tags": []
   },
   "outputs": [],
   "source": [
    "# hide\n",
    "# g['date'] = g['date'].astype('datetime64[ns]')"
   ]
  },
  {
   "cell_type": "code",
   "execution_count": 34,
   "id": "sophisticated-supervisor",
   "metadata": {
    "execution": {
     "iopub.execute_input": "2021-10-18T00:23:51.729173Z",
     "iopub.status.busy": "2021-10-18T00:23:51.728629Z",
     "iopub.status.idle": "2021-10-18T00:23:51.730967Z",
     "shell.execute_reply": "2021-10-18T00:23:51.730542Z"
    },
    "papermill": {
     "duration": 0.037432,
     "end_time": "2021-10-18T00:23:51.731096",
     "exception": false,
     "start_time": "2021-10-18T00:23:51.693664",
     "status": "completed"
    },
    "tags": []
   },
   "outputs": [],
   "source": [
    "#hide\n",
    "# g['date'] = g.date.dt.dayofyear"
   ]
  },
  {
   "cell_type": "code",
   "execution_count": 35,
   "id": "inside-dubai",
   "metadata": {
    "execution": {
     "iopub.execute_input": "2021-10-18T00:23:51.798248Z",
     "iopub.status.busy": "2021-10-18T00:23:51.797706Z",
     "iopub.status.idle": "2021-10-18T00:23:51.799538Z",
     "shell.execute_reply": "2021-10-18T00:23:51.799924Z"
    },
    "papermill": {
     "duration": 0.037643,
     "end_time": "2021-10-18T00:23:51.800102",
     "exception": false,
     "start_time": "2021-10-18T00:23:51.762459",
     "status": "completed"
    },
    "tags": []
   },
   "outputs": [],
   "source": [
    "#hide\n",
    "# g = g.rename(columns= {'continent':'group','country':'name','cases':'value'})"
   ]
  },
  {
   "cell_type": "code",
   "execution_count": 36,
   "id": "fleet-motorcycle",
   "metadata": {
    "execution": {
     "iopub.execute_input": "2021-10-18T00:23:51.866871Z",
     "iopub.status.busy": "2021-10-18T00:23:51.866344Z",
     "iopub.status.idle": "2021-10-18T00:23:51.868560Z",
     "shell.execute_reply": "2021-10-18T00:23:51.868106Z"
    },
    "papermill": {
     "duration": 0.037242,
     "end_time": "2021-10-18T00:23:51.868684",
     "exception": false,
     "start_time": "2021-10-18T00:23:51.831442",
     "status": "completed"
    },
    "tags": []
   },
   "outputs": [],
   "source": [
    "#hide\n",
    "# cols = ['name','group','day','value']"
   ]
  },
  {
   "cell_type": "code",
   "execution_count": 37,
   "id": "continued-sleeping",
   "metadata": {
    "execution": {
     "iopub.execute_input": "2021-10-18T00:23:51.935647Z",
     "iopub.status.busy": "2021-10-18T00:23:51.935125Z",
     "iopub.status.idle": "2021-10-18T00:23:51.937061Z",
     "shell.execute_reply": "2021-10-18T00:23:51.936551Z"
    },
    "papermill": {
     "duration": 0.036946,
     "end_time": "2021-10-18T00:23:51.937179",
     "exception": false,
     "start_time": "2021-10-18T00:23:51.900233",
     "status": "completed"
    },
    "tags": []
   },
   "outputs": [],
   "source": [
    "#hide\n",
    "# g.rename(columns= {'date':'day'},inplace = True)"
   ]
  },
  {
   "cell_type": "code",
   "execution_count": 38,
   "id": "major-fight",
   "metadata": {
    "execution": {
     "iopub.execute_input": "2021-10-18T00:23:52.004038Z",
     "iopub.status.busy": "2021-10-18T00:23:52.003484Z",
     "iopub.status.idle": "2021-10-18T00:23:52.005686Z",
     "shell.execute_reply": "2021-10-18T00:23:52.005241Z"
    },
    "papermill": {
     "duration": 0.037141,
     "end_time": "2021-10-18T00:23:52.005807",
     "exception": false,
     "start_time": "2021-10-18T00:23:51.968666",
     "status": "completed"
    },
    "tags": []
   },
   "outputs": [],
   "source": [
    "#hide\n",
    "# g = g[cols]"
   ]
  },
  {
   "cell_type": "code",
   "execution_count": 39,
   "id": "structured-mobile",
   "metadata": {
    "execution": {
     "iopub.execute_input": "2021-10-18T00:23:52.072897Z",
     "iopub.status.busy": "2021-10-18T00:23:52.072338Z",
     "iopub.status.idle": "2021-10-18T00:23:52.074423Z",
     "shell.execute_reply": "2021-10-18T00:23:52.073982Z"
    },
    "papermill": {
     "duration": 0.037486,
     "end_time": "2021-10-18T00:23:52.074550",
     "exception": false,
     "start_time": "2021-10-18T00:23:52.037064",
     "status": "completed"
    },
    "tags": []
   },
   "outputs": [],
   "source": [
    "# #hide\n",
    "# g = g[g.group.notna()]"
   ]
  },
  {
   "cell_type": "code",
   "execution_count": 40,
   "id": "determined-closing",
   "metadata": {
    "execution": {
     "iopub.execute_input": "2021-10-18T00:23:52.142116Z",
     "iopub.status.busy": "2021-10-18T00:23:52.141582Z",
     "iopub.status.idle": "2021-10-18T00:23:52.143595Z",
     "shell.execute_reply": "2021-10-18T00:23:52.143159Z"
    },
    "papermill": {
     "duration": 0.037296,
     "end_time": "2021-10-18T00:23:52.143716",
     "exception": false,
     "start_time": "2021-10-18T00:23:52.106420",
     "status": "completed"
    },
    "tags": []
   },
   "outputs": [],
   "source": [
    "# #hide\n",
    "# colors = dict(zip(\n",
    "#     [\"Oceania\", \"Europe\", \"Asia\", \"South America\", \"Middle East\", \"North America\", \"Africa\"],\n",
    "#     [\"#adb0ff\", \"#ffb3ff\", \"#90d595\", \"#e48381\", \"#aafbff\", \"#f7bb5f\", \"#eafb50\"]\n",
    "# ))\n",
    "# group_lk = g.set_index('name')['group'].to_dict()"
   ]
  },
  {
   "cell_type": "code",
   "execution_count": null,
   "id": "gross-drinking",
   "metadata": {
    "papermill": {
     "duration": 0.03133,
     "end_time": "2021-10-18T00:23:52.206398",
     "exception": false,
     "start_time": "2021-10-18T00:23:52.175068",
     "status": "completed"
    },
    "tags": []
   },
   "outputs": [],
   "source": []
  },
  {
   "cell_type": "code",
   "execution_count": 41,
   "id": "subject-macintosh",
   "metadata": {
    "execution": {
     "iopub.execute_input": "2021-10-18T00:23:52.273717Z",
     "iopub.status.busy": "2021-10-18T00:23:52.273181Z",
     "iopub.status.idle": "2021-10-18T00:23:52.275145Z",
     "shell.execute_reply": "2021-10-18T00:23:52.274704Z"
    },
    "papermill": {
     "duration": 0.037415,
     "end_time": "2021-10-18T00:23:52.275262",
     "exception": false,
     "start_time": "2021-10-18T00:23:52.237847",
     "status": "completed"
    },
    "tags": []
   },
   "outputs": [],
   "source": [
    "# #hide\n",
    "# fig, ax = plt.subplots(figsize=(15, 8))\n",
    "\n",
    "# def draw_barchart(current_day):\n",
    "#     dff = g[g['day'].eq(current_day)].sort_values(by='value', ascending=True).tail(10)\n",
    "#     ax.clear()\n",
    "#     ax.barh(dff['name'], dff['value'], color=[colors[group_lk[x]] for x in dff['name']])\n",
    "#     dx = dff['value'].max() / 200\n",
    "    \n",
    "#     for i, (value, name) in enumerate(zip(dff['value'], dff['name'])):\n",
    "#         ax.text(value-dx, i,     name,           size=14, weight=600, ha='right', va='bottom')\n",
    "#         ax.text(value-dx, i-.25, group_lk[name], size=10, color='#444444', ha='right', va='baseline')\n",
    "#         ax.text(value+dx, i,     f'{value:,.0f}',  size=14, ha='left',  va='center')\n",
    "#     ax.text(1, 0.4, current_day, transform=ax.transAxes, color='#777777', size=46, ha='right', weight=800)\n",
    "#     ax.text(0, 1.06, 'Population (thousands)', transform=ax.transAxes, size=12, color='#777777')\n",
    "#     ax.xaxis.set_major_formatter(ticker.StrMethodFormatter('{x:,.0f}'))\n",
    "#     ax.xaxis.set_ticks_position('top')\n",
    "#     ax.tick_params(axis='x', colors='#777777', labelsize=12)\n",
    "#     ax.set_yticks([])\n",
    "#     ax.margins(0, 0.01)\n",
    "#     ax.grid(which='major', axis='x', linestyle='-')\n",
    "#     ax.set_axisbelow(True)\n",
    "    \n",
    "#     ax.text(0, 1.15, 'Coronavirus',\n",
    "#             transform=ax.transAxes, size=24, weight=600, ha='left', va='top')\n",
    "# #     ax.text(1, 0, 'by @pratapvardhan; credit @jburnmurdoch', transform=ax.transAxes, color='#777777', ha='right',\n",
    "# #             bbox=dict(facecolor='white', alpha=0.8, edgecolor='white'))\n",
    "#     plt.box(False)"
   ]
  },
  {
   "cell_type": "code",
   "execution_count": 42,
   "id": "sexual-wages",
   "metadata": {
    "execution": {
     "iopub.execute_input": "2021-10-18T00:23:52.341599Z",
     "iopub.status.busy": "2021-10-18T00:23:52.341055Z",
     "iopub.status.idle": "2021-10-18T00:23:52.342830Z",
     "shell.execute_reply": "2021-10-18T00:23:52.343267Z"
    },
    "papermill": {
     "duration": 0.037131,
     "end_time": "2021-10-18T00:23:52.343411",
     "exception": false,
     "start_time": "2021-10-18T00:23:52.306280",
     "status": "completed"
    },
    "tags": []
   },
   "outputs": [],
   "source": [
    "# #hide_input\n",
    "# fig, ax = plt.subplots(figsize=(15, 8))\n",
    "# animator = animation.FuncAnimation(fig, draw_barchart, frames=range(g.day.values.min(), g.day.values.max()))\n",
    "# HTML(animator.to_jshtml())\n",
    "# # or use animator.to_html5_video() or animator.save() "
   ]
  },
  {
   "cell_type": "code",
   "execution_count": null,
   "id": "australian-container",
   "metadata": {
    "papermill": {
     "duration": 0.031114,
     "end_time": "2021-10-18T00:23:52.405653",
     "exception": false,
     "start_time": "2021-10-18T00:23:52.374539",
     "status": "completed"
    },
    "tags": []
   },
   "outputs": [],
   "source": []
  },
  {
   "cell_type": "code",
   "execution_count": null,
   "id": "mediterranean-pontiac",
   "metadata": {
    "papermill": {
     "duration": 0.030987,
     "end_time": "2021-10-18T00:23:52.467649",
     "exception": false,
     "start_time": "2021-10-18T00:23:52.436662",
     "status": "completed"
    },
    "tags": []
   },
   "outputs": [],
   "source": []
  },
  {
   "cell_type": "code",
   "execution_count": null,
   "id": "aging-legislature",
   "metadata": {
    "papermill": {
     "duration": 0.031198,
     "end_time": "2021-10-18T00:23:52.530095",
     "exception": false,
     "start_time": "2021-10-18T00:23:52.498897",
     "status": "completed"
    },
    "tags": []
   },
   "outputs": [],
   "source": []
  }
 ],
 "metadata": {
  "kernelspec": {
   "display_name": "Python 3",
   "language": "python",
   "name": "python3"
  },
  "language_info": {
   "codemirror_mode": {
    "name": "ipython",
    "version": 3
   },
   "file_extension": ".py",
   "mimetype": "text/x-python",
   "name": "python",
   "nbconvert_exporter": "python",
   "pygments_lexer": "ipython3",
   "version": "3.6.15"
  },
  "papermill": {
   "duration": 6.203729,
   "end_time": "2021-10-18T00:23:52.969950",
   "environment_variables": {},
   "exception": null,
   "input_path": "2020-03-21-covid19exp.ipynb",
   "output_path": "2020-03-21-covid19exp.ipynb",
   "parameters": {},
   "start_time": "2021-10-18T00:23:46.766221",
   "version": "2.0.0"
  }
 },
 "nbformat": 4,
 "nbformat_minor": 5
}