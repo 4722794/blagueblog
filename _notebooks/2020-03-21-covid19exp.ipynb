{
 "cells": [
  {
   "cell_type": "markdown",
   "id": "muslim-click",
   "metadata": {
    "papermill": {
     "duration": 0.038147,
     "end_time": "2021-05-14T00:25:19.890878",
     "exception": false,
     "start_time": "2021-05-14T00:25:19.852731",
     "status": "completed"
    },
    "tags": []
   },
   "source": [
    "# COVID-19 Case Race\n",
    "> A race chart to see rising cases around the world\n",
    "\n",
    "- author: Hargun Oberoi\n",
    "- image: images/covid-overview.png\n",
    "- hide: false\n",
    "- badges: false"
   ]
  },
  {
   "cell_type": "code",
   "execution_count": 1,
   "id": "proof-material",
   "metadata": {
    "execution": {
     "iopub.execute_input": "2021-05-14T00:25:19.967494Z",
     "iopub.status.busy": "2021-05-14T00:25:19.966816Z",
     "iopub.status.idle": "2021-05-14T00:25:20.301366Z",
     "shell.execute_reply": "2021-05-14T00:25:20.300835Z"
    },
    "papermill": {
     "duration": 0.378118,
     "end_time": "2021-05-14T00:25:20.301508",
     "exception": false,
     "start_time": "2021-05-14T00:25:19.923390",
     "status": "completed"
    },
    "tags": []
   },
   "outputs": [],
   "source": [
    "#hide\n",
    "import numpy as np\n",
    "import pandas as pd\n",
    "from jinja2 import Template\n",
    "from IPython.display import HTML"
   ]
  },
  {
   "cell_type": "code",
   "execution_count": 2,
   "id": "developed-terminology",
   "metadata": {
    "execution": {
     "iopub.execute_input": "2021-05-14T00:25:20.369882Z",
     "iopub.status.busy": "2021-05-14T00:25:20.369207Z",
     "iopub.status.idle": "2021-05-14T00:25:20.371443Z",
     "shell.execute_reply": "2021-05-14T00:25:20.370883Z"
    },
    "papermill": {
     "duration": 0.03927,
     "end_time": "2021-05-14T00:25:20.371555",
     "exception": false,
     "start_time": "2021-05-14T00:25:20.332285",
     "status": "completed"
    },
    "tags": []
   },
   "outputs": [],
   "source": [
    "#hide\n",
    "\n",
    "# FETCH\n",
    "base_url = 'https://raw.githubusercontent.com/pratapvardhan/notebooks/master/covid19/'\n",
    "paths = {\n",
    "    'mapping': base_url + 'mapping_countries.csv',\n",
    "    'overview': base_url + 'overview.tpl'\n",
    "}"
   ]
  },
  {
   "cell_type": "code",
   "execution_count": 3,
   "id": "dynamic-saver",
   "metadata": {
    "execution": {
     "iopub.execute_input": "2021-05-14T00:25:20.442406Z",
     "iopub.status.busy": "2021-05-14T00:25:20.440472Z",
     "iopub.status.idle": "2021-05-14T00:25:20.445881Z",
     "shell.execute_reply": "2021-05-14T00:25:20.445357Z"
    },
    "papermill": {
     "duration": 0.042828,
     "end_time": "2021-05-14T00:25:20.445976",
     "exception": false,
     "start_time": "2021-05-14T00:25:20.403148",
     "status": "completed"
    },
    "tags": []
   },
   "outputs": [
    {
     "data": {
      "text/plain": [
       "'https://raw.githubusercontent.com/pratapvardhan/notebooks/master/covid19/mapping_countries.csv'"
      ]
     },
     "execution_count": 3,
     "metadata": {},
     "output_type": "execute_result"
    }
   ],
   "source": [
    "#hide\n",
    "paths['mapping']"
   ]
  },
  {
   "cell_type": "code",
   "execution_count": 4,
   "id": "urban-software",
   "metadata": {
    "execution": {
     "iopub.execute_input": "2021-05-14T00:25:20.511942Z",
     "iopub.status.busy": "2021-05-14T00:25:20.511394Z",
     "iopub.status.idle": "2021-05-14T00:25:20.513727Z",
     "shell.execute_reply": "2021-05-14T00:25:20.513294Z"
    },
    "papermill": {
     "duration": 0.037533,
     "end_time": "2021-05-14T00:25:20.513820",
     "exception": false,
     "start_time": "2021-05-14T00:25:20.476287",
     "status": "completed"
    },
    "tags": []
   },
   "outputs": [],
   "source": [
    "#hide\n",
    "def get_mappings(url):\n",
    "    df = pd.read_csv(url)\n",
    "    return {\n",
    "        'df': df,\n",
    "        'replace.country': dict(df.dropna(subset=['Name']).set_index('Country')['Name']),\n",
    "        'map.continent': dict(df.set_index('Name')['Continent'])\n",
    "    }"
   ]
  },
  {
   "cell_type": "code",
   "execution_count": 5,
   "id": "intimate-machinery",
   "metadata": {
    "execution": {
     "iopub.execute_input": "2021-05-14T00:25:20.580306Z",
     "iopub.status.busy": "2021-05-14T00:25:20.579687Z",
     "iopub.status.idle": "2021-05-14T00:25:20.621063Z",
     "shell.execute_reply": "2021-05-14T00:25:20.619971Z"
    },
    "papermill": {
     "duration": 0.077541,
     "end_time": "2021-05-14T00:25:20.621231",
     "exception": false,
     "start_time": "2021-05-14T00:25:20.543690",
     "status": "completed"
    },
    "tags": []
   },
   "outputs": [],
   "source": [
    "#hide\n",
    "mapping = get_mappings(paths['mapping'])"
   ]
  },
  {
   "cell_type": "code",
   "execution_count": 6,
   "id": "certified-tactics",
   "metadata": {
    "execution": {
     "iopub.execute_input": "2021-05-14T00:25:20.692785Z",
     "iopub.status.busy": "2021-05-14T00:25:20.692107Z",
     "iopub.status.idle": "2021-05-14T00:25:20.694140Z",
     "shell.execute_reply": "2021-05-14T00:25:20.694554Z"
    },
    "papermill": {
     "duration": 0.039659,
     "end_time": "2021-05-14T00:25:20.694667",
     "exception": false,
     "start_time": "2021-05-14T00:25:20.655008",
     "status": "completed"
    },
    "tags": []
   },
   "outputs": [],
   "source": [
    "#hide\n",
    "def get_template(path):\n",
    "    from urllib.parse import urlparse\n",
    "    if bool(urlparse(path).netloc):\n",
    "        from urllib.request import urlopen\n",
    "        return urlopen(path).read().decode('utf8')\n",
    "    return open(path).read()"
   ]
  },
  {
   "cell_type": "code",
   "execution_count": 7,
   "id": "realistic-blast",
   "metadata": {
    "execution": {
     "iopub.execute_input": "2021-05-14T00:25:20.763226Z",
     "iopub.status.busy": "2021-05-14T00:25:20.762680Z",
     "iopub.status.idle": "2021-05-14T00:25:20.764920Z",
     "shell.execute_reply": "2021-05-14T00:25:20.764396Z"
    },
    "papermill": {
     "duration": 0.037777,
     "end_time": "2021-05-14T00:25:20.765039",
     "exception": false,
     "start_time": "2021-05-14T00:25:20.727262",
     "status": "completed"
    },
    "tags": []
   },
   "outputs": [],
   "source": [
    "#hide\n",
    "def get_frame(name):\n",
    "    url = (\n",
    "        'https://raw.githubusercontent.com/CSSEGISandData/COVID-19/master/csse_covid_19_data/'\n",
    "        f'csse_covid_19_time_series/time_series_covid19_{name}_global.csv')\n",
    "    df = pd.read_csv(url)\n",
    "    # rename countries\n",
    "    df['Country/Region'] = df['Country/Region'].replace(mapping['replace.country'])\n",
    "    return df"
   ]
  },
  {
   "cell_type": "code",
   "execution_count": 8,
   "id": "affiliated-characterization",
   "metadata": {
    "execution": {
     "iopub.execute_input": "2021-05-14T00:25:20.836138Z",
     "iopub.status.busy": "2021-05-14T00:25:20.835583Z",
     "iopub.status.idle": "2021-05-14T00:25:20.837909Z",
     "shell.execute_reply": "2021-05-14T00:25:20.837468Z"
    },
    "papermill": {
     "duration": 0.040923,
     "end_time": "2021-05-14T00:25:20.838006",
     "exception": false,
     "start_time": "2021-05-14T00:25:20.797083",
     "status": "completed"
    },
    "tags": []
   },
   "outputs": [],
   "source": [
    "#hide\n",
    "def get_dates(df):\n",
    "    dt_cols = df.columns[~df.columns.isin(['Province/State', 'Country/Region', 'Lat', 'Long'])]\n",
    "    LAST_DATE_I = -1\n",
    "    # sometimes last column may be empty, then go backwards\n",
    "    for i in range(-1, -len(dt_cols), -1):\n",
    "        if not df[dt_cols[i]].fillna(0).eq(0).all():\n",
    "            LAST_DATE_I = i\n",
    "            break\n",
    "    return LAST_DATE_I, dt_cols"
   ]
  },
  {
   "cell_type": "code",
   "execution_count": 9,
   "id": "recent-optimization",
   "metadata": {
    "execution": {
     "iopub.execute_input": "2021-05-14T00:25:20.907526Z",
     "iopub.status.busy": "2021-05-14T00:25:20.906932Z",
     "iopub.status.idle": "2021-05-14T00:25:21.245162Z",
     "shell.execute_reply": "2021-05-14T00:25:21.244040Z"
    },
    "papermill": {
     "duration": 0.375784,
     "end_time": "2021-05-14T00:25:21.245283",
     "exception": false,
     "start_time": "2021-05-14T00:25:20.869499",
     "status": "completed"
    },
    "tags": []
   },
   "outputs": [],
   "source": [
    "#hide\n",
    "COL_REGION = 'Country/Region'\n",
    "# Confirmed, Recovered, Deaths\n",
    "df = get_frame('confirmed')\n",
    "# dft_: timeseries, dfc_: today country agg\n",
    "dft_cases = df\n",
    "dft_deaths = get_frame('deaths')\n",
    "dft_recovered = get_frame('recovered')\n",
    "LAST_DATE_I, dt_cols = get_dates(df)"
   ]
  },
  {
   "cell_type": "code",
   "execution_count": 10,
   "id": "absolute-copper",
   "metadata": {
    "execution": {
     "iopub.execute_input": "2021-05-14T00:25:21.319592Z",
     "iopub.status.busy": "2021-05-14T00:25:21.318979Z",
     "iopub.status.idle": "2021-05-14T00:25:21.321727Z",
     "shell.execute_reply": "2021-05-14T00:25:21.321166Z"
    },
    "papermill": {
     "duration": 0.04284,
     "end_time": "2021-05-14T00:25:21.321841",
     "exception": false,
     "start_time": "2021-05-14T00:25:21.279001",
     "status": "completed"
    },
    "tags": []
   },
   "outputs": [],
   "source": [
    "#hide\n",
    "LAST_DATE_I, dt_cols = get_dates(df)\n",
    "dt_today =dt_cols[LAST_DATE_I]\n",
    "# dt_5day = dt_cols[LAST_DATE_I - 5]\n",
    "dt_yday = dt_cols[LAST_DATE_I - 1]"
   ]
  },
  {
   "cell_type": "code",
   "execution_count": 11,
   "id": "restricted-sheriff",
   "metadata": {
    "execution": {
     "iopub.execute_input": "2021-05-14T00:25:21.391062Z",
     "iopub.status.busy": "2021-05-14T00:25:21.390494Z",
     "iopub.status.idle": "2021-05-14T00:25:21.399832Z",
     "shell.execute_reply": "2021-05-14T00:25:21.399344Z"
    },
    "papermill": {
     "duration": 0.045766,
     "end_time": "2021-05-14T00:25:21.399946",
     "exception": false,
     "start_time": "2021-05-14T00:25:21.354180",
     "status": "completed"
    },
    "tags": []
   },
   "outputs": [],
   "source": [
    "#hide\n",
    "dfc_cases = dft_cases.groupby(COL_REGION)[dt_today].sum()\n",
    "dfc_deaths = dft_deaths.groupby(COL_REGION)[dt_today].sum()\n",
    "# dfp_cases = dft_cases.groupby(COL_REGION)[dt_5day].sum()\n",
    "# dfp_deaths = dft_deaths.groupby(COL_REGION)[dt_5day].sum()\n",
    "dfp_cases = dft_cases.groupby(COL_REGION)[dt_yday].sum()\n",
    "dfp_deaths = dft_deaths.groupby(COL_REGION)[dt_yday].sum()"
   ]
  },
  {
   "cell_type": "code",
   "execution_count": 12,
   "id": "deluxe-hepatitis",
   "metadata": {
    "execution": {
     "iopub.execute_input": "2021-05-14T00:25:21.467426Z",
     "iopub.status.busy": "2021-05-14T00:25:21.466637Z",
     "iopub.status.idle": "2021-05-14T00:25:21.471881Z",
     "shell.execute_reply": "2021-05-14T00:25:21.471459Z"
    },
    "papermill": {
     "duration": 0.04059,
     "end_time": "2021-05-14T00:25:21.471983",
     "exception": false,
     "start_time": "2021-05-14T00:25:21.431393",
     "status": "completed"
    },
    "tags": []
   },
   "outputs": [],
   "source": [
    "#hide\n",
    "df_table = (pd.DataFrame(dict(Cases = dfc_cases, Deaths = dfc_deaths, PCases = dfp_cases, PDeaths = dfp_deaths))\n",
    "            .sort_values(by = ['Cases','Deaths'], ascending = [False, False])\n",
    "            .reset_index())"
   ]
  },
  {
   "cell_type": "code",
   "execution_count": 13,
   "id": "educational-chancellor",
   "metadata": {
    "execution": {
     "iopub.execute_input": "2021-05-14T00:25:21.553992Z",
     "iopub.status.busy": "2021-05-14T00:25:21.553404Z",
     "iopub.status.idle": "2021-05-14T00:25:21.561187Z",
     "shell.execute_reply": "2021-05-14T00:25:21.561678Z"
    },
    "papermill": {
     "duration": 0.058554,
     "end_time": "2021-05-14T00:25:21.561790",
     "exception": false,
     "start_time": "2021-05-14T00:25:21.503236",
     "status": "completed"
    },
    "tags": []
   },
   "outputs": [
    {
     "data": {
      "text/html": [
       "<div>\n",
       "<style scoped>\n",
       "    .dataframe tbody tr th:only-of-type {\n",
       "        vertical-align: middle;\n",
       "    }\n",
       "\n",
       "    .dataframe tbody tr th {\n",
       "        vertical-align: top;\n",
       "    }\n",
       "\n",
       "    .dataframe thead th {\n",
       "        text-align: right;\n",
       "    }\n",
       "</style>\n",
       "<table border=\"1\" class=\"dataframe\">\n",
       "  <thead>\n",
       "    <tr style=\"text-align: right;\">\n",
       "      <th></th>\n",
       "      <th>Country/Region</th>\n",
       "      <th>Cases</th>\n",
       "      <th>Deaths</th>\n",
       "      <th>PCases</th>\n",
       "      <th>PDeaths</th>\n",
       "      <th>Cases (+)</th>\n",
       "      <th>Deaths (+)</th>\n",
       "      <th>Fatality Rate</th>\n",
       "      <th>Continent</th>\n",
       "    </tr>\n",
       "  </thead>\n",
       "  <tbody>\n",
       "    <tr>\n",
       "      <th>0</th>\n",
       "      <td>US</td>\n",
       "      <td>32814784</td>\n",
       "      <td>583685</td>\n",
       "      <td>32778906</td>\n",
       "      <td>582837</td>\n",
       "      <td>35878</td>\n",
       "      <td>848</td>\n",
       "      <td>1.78</td>\n",
       "      <td>North America</td>\n",
       "    </tr>\n",
       "    <tr>\n",
       "      <th>1</th>\n",
       "      <td>India</td>\n",
       "      <td>23703665</td>\n",
       "      <td>258317</td>\n",
       "      <td>23340938</td>\n",
       "      <td>254197</td>\n",
       "      <td>362727</td>\n",
       "      <td>4120</td>\n",
       "      <td>1.09</td>\n",
       "      <td>Asia</td>\n",
       "    </tr>\n",
       "    <tr>\n",
       "      <th>2</th>\n",
       "      <td>Brazil</td>\n",
       "      <td>15359397</td>\n",
       "      <td>428034</td>\n",
       "      <td>15282705</td>\n",
       "      <td>425540</td>\n",
       "      <td>76692</td>\n",
       "      <td>2494</td>\n",
       "      <td>2.79</td>\n",
       "      <td>South America</td>\n",
       "    </tr>\n",
       "    <tr>\n",
       "      <th>3</th>\n",
       "      <td>France</td>\n",
       "      <td>5882882</td>\n",
       "      <td>107280</td>\n",
       "      <td>5861384</td>\n",
       "      <td>107096</td>\n",
       "      <td>21498</td>\n",
       "      <td>184</td>\n",
       "      <td>1.82</td>\n",
       "      <td>Europe</td>\n",
       "    </tr>\n",
       "    <tr>\n",
       "      <th>4</th>\n",
       "      <td>Turkey</td>\n",
       "      <td>5072462</td>\n",
       "      <td>43821</td>\n",
       "      <td>5059433</td>\n",
       "      <td>43589</td>\n",
       "      <td>13029</td>\n",
       "      <td>232</td>\n",
       "      <td>0.86</td>\n",
       "      <td>Asia</td>\n",
       "    </tr>\n",
       "  </tbody>\n",
       "</table>\n",
       "</div>"
      ],
      "text/plain": [
       "  Country/Region     Cases  Deaths    PCases  PDeaths  Cases (+)  Deaths (+)  \\\n",
       "0             US  32814784  583685  32778906   582837      35878         848   \n",
       "1          India  23703665  258317  23340938   254197     362727        4120   \n",
       "2         Brazil  15359397  428034  15282705   425540      76692        2494   \n",
       "3         France   5882882  107280   5861384   107096      21498         184   \n",
       "4         Turkey   5072462   43821   5059433    43589      13029         232   \n",
       "\n",
       "   Fatality Rate      Continent  \n",
       "0           1.78  North America  \n",
       "1           1.09           Asia  \n",
       "2           2.79  South America  \n",
       "3           1.82         Europe  \n",
       "4           0.86           Asia  "
      ]
     },
     "execution_count": 13,
     "metadata": {},
     "output_type": "execute_result"
    }
   ],
   "source": [
    "#hide\n",
    "for c in 'Cases, Deaths'.split(', '):\n",
    "    df_table[f'{c} (+)'] = (df_table[c] - df_table[f'P{c}']).clip(0)\n",
    "    #Clip ça veut dire, les chiffres negatif sont interdit\n",
    "df_table['Fatality Rate'] = (100* df_table['Deaths']/ df_table['Cases']).round(2)\n",
    "df_table['Continent'] = df_table['Country/Region'].map(mapping['map.continent'])\n",
    "df_table.head(5)"
   ]
  },
  {
   "cell_type": "code",
   "execution_count": 14,
   "id": "aboriginal-bulgaria",
   "metadata": {
    "execution": {
     "iopub.execute_input": "2021-05-14T00:25:21.634180Z",
     "iopub.status.busy": "2021-05-14T00:25:21.633643Z",
     "iopub.status.idle": "2021-05-14T00:25:21.636237Z",
     "shell.execute_reply": "2021-05-14T00:25:21.636688Z"
    },
    "papermill": {
     "duration": 0.040308,
     "end_time": "2021-05-14T00:25:21.636800",
     "exception": false,
     "start_time": "2021-05-14T00:25:21.596492",
     "status": "completed"
    },
    "tags": []
   },
   "outputs": [],
   "source": [
    "#hide\n",
    "#delete problematic countries from table\n",
    "df_table = df_table[~df_table['Country/Region'].isin(['Cape Verde', 'Cruise Ship', 'Kosovo'])]"
   ]
  },
  {
   "cell_type": "code",
   "execution_count": 15,
   "id": "fantastic-effect",
   "metadata": {
    "execution": {
     "iopub.execute_input": "2021-05-14T00:25:21.708014Z",
     "iopub.status.busy": "2021-05-14T00:25:21.707456Z",
     "iopub.status.idle": "2021-05-14T00:25:21.727124Z",
     "shell.execute_reply": "2021-05-14T00:25:21.727809Z"
    },
    "papermill": {
     "duration": 0.058434,
     "end_time": "2021-05-14T00:25:21.728063",
     "exception": false,
     "start_time": "2021-05-14T00:25:21.669629",
     "status": "completed"
    },
    "tags": []
   },
   "outputs": [
    {
     "data": {
      "text/html": [
       "<div>\n",
       "<style scoped>\n",
       "    .dataframe tbody tr th:only-of-type {\n",
       "        vertical-align: middle;\n",
       "    }\n",
       "\n",
       "    .dataframe tbody tr th {\n",
       "        vertical-align: top;\n",
       "    }\n",
       "\n",
       "    .dataframe thead th {\n",
       "        text-align: right;\n",
       "    }\n",
       "</style>\n",
       "<table border=\"1\" class=\"dataframe\">\n",
       "  <thead>\n",
       "    <tr style=\"text-align: right;\">\n",
       "      <th></th>\n",
       "      <th>Country/Region</th>\n",
       "      <th>Cases</th>\n",
       "      <th>Deaths</th>\n",
       "      <th>PCases</th>\n",
       "      <th>PDeaths</th>\n",
       "      <th>Cases (+)</th>\n",
       "      <th>Deaths (+)</th>\n",
       "      <th>Fatality Rate</th>\n",
       "      <th>Continent</th>\n",
       "    </tr>\n",
       "  </thead>\n",
       "  <tbody>\n",
       "    <tr>\n",
       "      <th>0</th>\n",
       "      <td>US</td>\n",
       "      <td>32814784</td>\n",
       "      <td>583685</td>\n",
       "      <td>32778906</td>\n",
       "      <td>582837</td>\n",
       "      <td>35878</td>\n",
       "      <td>848</td>\n",
       "      <td>1.8</td>\n",
       "      <td>North America</td>\n",
       "    </tr>\n",
       "    <tr>\n",
       "      <th>1</th>\n",
       "      <td>India</td>\n",
       "      <td>23703665</td>\n",
       "      <td>258317</td>\n",
       "      <td>23340938</td>\n",
       "      <td>254197</td>\n",
       "      <td>362727</td>\n",
       "      <td>4120</td>\n",
       "      <td>1.1</td>\n",
       "      <td>Asia</td>\n",
       "    </tr>\n",
       "    <tr>\n",
       "      <th>2</th>\n",
       "      <td>Brazil</td>\n",
       "      <td>15359397</td>\n",
       "      <td>428034</td>\n",
       "      <td>15282705</td>\n",
       "      <td>425540</td>\n",
       "      <td>76692</td>\n",
       "      <td>2494</td>\n",
       "      <td>2.8</td>\n",
       "      <td>South America</td>\n",
       "    </tr>\n",
       "    <tr>\n",
       "      <th>3</th>\n",
       "      <td>France</td>\n",
       "      <td>5882882</td>\n",
       "      <td>107280</td>\n",
       "      <td>5861384</td>\n",
       "      <td>107096</td>\n",
       "      <td>21498</td>\n",
       "      <td>184</td>\n",
       "      <td>1.8</td>\n",
       "      <td>Europe</td>\n",
       "    </tr>\n",
       "    <tr>\n",
       "      <th>4</th>\n",
       "      <td>Turkey</td>\n",
       "      <td>5072462</td>\n",
       "      <td>43821</td>\n",
       "      <td>5059433</td>\n",
       "      <td>43589</td>\n",
       "      <td>13029</td>\n",
       "      <td>232</td>\n",
       "      <td>0.9</td>\n",
       "      <td>Asia</td>\n",
       "    </tr>\n",
       "  </tbody>\n",
       "</table>\n",
       "</div>"
      ],
      "text/plain": [
       "  Country/Region     Cases  Deaths    PCases  PDeaths  Cases (+)  Deaths (+)  \\\n",
       "0             US  32814784  583685  32778906   582837      35878         848   \n",
       "1          India  23703665  258317  23340938   254197     362727        4120   \n",
       "2         Brazil  15359397  428034  15282705   425540      76692        2494   \n",
       "3         France   5882882  107280   5861384   107096      21498         184   \n",
       "4         Turkey   5072462   43821   5059433    43589      13029         232   \n",
       "\n",
       "   Fatality Rate      Continent  \n",
       "0            1.8  North America  \n",
       "1            1.1           Asia  \n",
       "2            2.8  South America  \n",
       "3            1.8         Europe  \n",
       "4            0.9           Asia  "
      ]
     },
     "execution_count": 15,
     "metadata": {},
     "output_type": "execute_result"
    }
   ],
   "source": [
    "#hide\n",
    "df_table = (pd.DataFrame(dict(Cases=dfc_cases, Deaths=dfc_deaths, PCases=dfp_cases, PDeaths=dfp_deaths))\n",
    "             .sort_values(by=['Cases', 'Deaths'], ascending=[False, False])\n",
    "             .reset_index())\n",
    "df_table.rename(columns={'index': 'Country/Region'}, inplace=True)\n",
    "for c in 'Cases, Deaths'.split(', '):\n",
    "    df_table[f'{c} (+)'] = (df_table[c] - df_table[f'P{c}']).clip(0)  # DATA BUG\n",
    "df_table['Fatality Rate'] = (100 * df_table['Deaths'] / df_table['Cases']).round(1)\n",
    "df_table['Continent'] = df_table['Country/Region'].map(mapping['map.continent'])\n",
    "df_table.head(5)"
   ]
  },
  {
   "cell_type": "code",
   "execution_count": 16,
   "id": "fewer-occasion",
   "metadata": {
    "execution": {
     "iopub.execute_input": "2021-05-14T00:25:21.803723Z",
     "iopub.status.busy": "2021-05-14T00:25:21.803184Z",
     "iopub.status.idle": "2021-05-14T00:25:21.805390Z",
     "shell.execute_reply": "2021-05-14T00:25:21.805835Z"
    },
    "papermill": {
     "duration": 0.042428,
     "end_time": "2021-05-14T00:25:21.805954",
     "exception": false,
     "start_time": "2021-05-14T00:25:21.763526",
     "status": "completed"
    },
    "tags": []
   },
   "outputs": [],
   "source": [
    "#hide\n",
    "#delete problematic countries from table\n",
    "df_table = df_table[~df_table['Country/Region'].isin(['Cape Verde', 'Cruise Ship', 'Kosovo'])]"
   ]
  },
  {
   "cell_type": "code",
   "execution_count": 17,
   "id": "related-center",
   "metadata": {
    "execution": {
     "iopub.execute_input": "2021-05-14T00:25:21.892747Z",
     "iopub.status.busy": "2021-05-14T00:25:21.892190Z",
     "iopub.status.idle": "2021-05-14T00:25:21.894469Z",
     "shell.execute_reply": "2021-05-14T00:25:21.893969Z"
    },
    "papermill": {
     "duration": 0.055166,
     "end_time": "2021-05-14T00:25:21.894573",
     "exception": false,
     "start_time": "2021-05-14T00:25:21.839407",
     "status": "completed"
    },
    "tags": []
   },
   "outputs": [],
   "source": [
    "#hide\n",
    "metrics = [df_table.columns[index] for index in [1,2,5,6]]\n",
    "# s_china = df_table[df_table['Country/Region'].eq('China')][metrics].sum().add_prefix('China ')\n",
    "s_us = df_table[df_table['Country/Region'].eq('US')][metrics].sum().add_prefix('US ')\n",
    "s_eu = df_table[df_table['Continent'].eq('Europe')][metrics].sum().add_prefix('EU ')\n",
    "s_ind = df_table[df_table['Country/Region'].eq('India')][metrics].sum().add_prefix('India ')\n",
    "summary = {'updated': pd.to_datetime(dt_today), 'since': pd.to_datetime(dt_yday)}\n",
    "summary = {'updated': pd.to_datetime(dt_today), 'since': pd.to_datetime(dt_yday)}\n",
    "summary = {**summary, **df_table[metrics].sum(), **s_ind, **s_us, **s_eu}"
   ]
  },
  {
   "cell_type": "code",
   "execution_count": 18,
   "id": "engaging-syndrome",
   "metadata": {
    "execution": {
     "iopub.execute_input": "2021-05-14T00:25:21.967961Z",
     "iopub.status.busy": "2021-05-14T00:25:21.967446Z",
     "iopub.status.idle": "2021-05-14T00:25:21.981477Z",
     "shell.execute_reply": "2021-05-14T00:25:21.980890Z"
    },
    "papermill": {
     "duration": 0.053074,
     "end_time": "2021-05-14T00:25:21.981589",
     "exception": false,
     "start_time": "2021-05-14T00:25:21.928515",
     "status": "completed"
    },
    "tags": []
   },
   "outputs": [],
   "source": [
    "#hide\n",
    "dft_ct_new_cases = dft_cases.groupby(COL_REGION)[dt_cols].sum().diff(axis=1).fillna(0).astype(int)"
   ]
  },
  {
   "cell_type": "code",
   "execution_count": 19,
   "id": "neutral-assignment",
   "metadata": {
    "execution": {
     "iopub.execute_input": "2021-05-14T00:25:22.062450Z",
     "iopub.status.busy": "2021-05-14T00:25:22.061787Z",
     "iopub.status.idle": "2021-05-14T00:25:22.066857Z",
     "shell.execute_reply": "2021-05-14T00:25:22.066346Z"
    },
    "papermill": {
     "duration": 0.046702,
     "end_time": "2021-05-14T00:25:22.066978",
     "exception": false,
     "start_time": "2021-05-14T00:25:22.020276",
     "status": "completed"
    },
    "tags": []
   },
   "outputs": [],
   "source": [
    "#hide\n",
    "everydaycases = dft_ct_new_cases.cumsum(axis=1)"
   ]
  },
  {
   "cell_type": "code",
   "execution_count": 20,
   "id": "parliamentary-calgary",
   "metadata": {
    "execution": {
     "iopub.execute_input": "2021-05-14T00:25:22.153528Z",
     "iopub.status.busy": "2021-05-14T00:25:22.152894Z",
     "iopub.status.idle": "2021-05-14T00:25:22.690683Z",
     "shell.execute_reply": "2021-05-14T00:25:22.691167Z"
    },
    "papermill": {
     "duration": 0.584969,
     "end_time": "2021-05-14T00:25:22.691311",
     "exception": false,
     "start_time": "2021-05-14T00:25:22.106342",
     "status": "completed"
    },
    "tags": []
   },
   "outputs": [],
   "source": [
    "#hide\n",
    "import pandas as pd\n",
    "import matplotlib.pyplot as plt\n",
    "import matplotlib.ticker as ticker\n",
    "import matplotlib.animation as animation\n",
    "from IPython.display import HTML"
   ]
  },
  {
   "cell_type": "code",
   "execution_count": 21,
   "id": "lasting-extraction",
   "metadata": {
    "execution": {
     "iopub.execute_input": "2021-05-14T00:25:22.761972Z",
     "iopub.status.busy": "2021-05-14T00:25:22.761368Z",
     "iopub.status.idle": "2021-05-14T00:25:22.766343Z",
     "shell.execute_reply": "2021-05-14T00:25:22.766879Z"
    },
    "papermill": {
     "duration": 0.04206,
     "end_time": "2021-05-14T00:25:22.766987",
     "exception": false,
     "start_time": "2021-05-14T00:25:22.724927",
     "status": "completed"
    },
    "tags": []
   },
   "outputs": [],
   "source": [
    "#hide\n",
    "t = everydaycases.stack()"
   ]
  },
  {
   "cell_type": "code",
   "execution_count": 22,
   "id": "premier-sleeve",
   "metadata": {
    "execution": {
     "iopub.execute_input": "2021-05-14T00:25:22.839273Z",
     "iopub.status.busy": "2021-05-14T00:25:22.838671Z",
     "iopub.status.idle": "2021-05-14T00:25:22.846792Z",
     "shell.execute_reply": "2021-05-14T00:25:22.846342Z"
    },
    "papermill": {
     "duration": 0.044591,
     "end_time": "2021-05-14T00:25:22.846897",
     "exception": false,
     "start_time": "2021-05-14T00:25:22.802306",
     "status": "completed"
    },
    "tags": []
   },
   "outputs": [],
   "source": [
    "#hide\n",
    "g = t.reset_index(['Country/Region'])"
   ]
  },
  {
   "cell_type": "code",
   "execution_count": 23,
   "id": "distributed-pittsburgh",
   "metadata": {
    "execution": {
     "iopub.execute_input": "2021-05-14T00:25:22.915862Z",
     "iopub.status.busy": "2021-05-14T00:25:22.915300Z",
     "iopub.status.idle": "2021-05-14T00:25:22.917616Z",
     "shell.execute_reply": "2021-05-14T00:25:22.917133Z"
    },
    "papermill": {
     "duration": 0.038865,
     "end_time": "2021-05-14T00:25:22.917721",
     "exception": false,
     "start_time": "2021-05-14T00:25:22.878856",
     "status": "completed"
    },
    "tags": []
   },
   "outputs": [],
   "source": [
    "#hide\n",
    "g.index.name = 'date'"
   ]
  },
  {
   "cell_type": "code",
   "execution_count": 24,
   "id": "naked-donor",
   "metadata": {
    "execution": {
     "iopub.execute_input": "2021-05-14T00:25:22.984186Z",
     "iopub.status.busy": "2021-05-14T00:25:22.983669Z",
     "iopub.status.idle": "2021-05-14T00:25:22.985614Z",
     "shell.execute_reply": "2021-05-14T00:25:22.986092Z"
    },
    "papermill": {
     "duration": 0.036122,
     "end_time": "2021-05-14T00:25:22.986198",
     "exception": false,
     "start_time": "2021-05-14T00:25:22.950076",
     "status": "completed"
    },
    "tags": []
   },
   "outputs": [],
   "source": [
    "# #hide\n",
    "# g = g.reset_index(['date'])"
   ]
  },
  {
   "cell_type": "code",
   "execution_count": 25,
   "id": "incomplete-mustang",
   "metadata": {
    "execution": {
     "iopub.execute_input": "2021-05-14T00:25:23.051136Z",
     "iopub.status.busy": "2021-05-14T00:25:23.050548Z",
     "iopub.status.idle": "2021-05-14T00:25:23.052846Z",
     "shell.execute_reply": "2021-05-14T00:25:23.052437Z"
    },
    "papermill": {
     "duration": 0.035792,
     "end_time": "2021-05-14T00:25:23.052944",
     "exception": false,
     "start_time": "2021-05-14T00:25:23.017152",
     "status": "completed"
    },
    "tags": []
   },
   "outputs": [],
   "source": [
    "#hide\n",
    "# g.head()"
   ]
  },
  {
   "cell_type": "code",
   "execution_count": 26,
   "id": "specific-kruger",
   "metadata": {
    "execution": {
     "iopub.execute_input": "2021-05-14T00:25:23.119190Z",
     "iopub.status.busy": "2021-05-14T00:25:23.118671Z",
     "iopub.status.idle": "2021-05-14T00:25:23.120890Z",
     "shell.execute_reply": "2021-05-14T00:25:23.120382Z"
    },
    "papermill": {
     "duration": 0.036377,
     "end_time": "2021-05-14T00:25:23.121029",
     "exception": false,
     "start_time": "2021-05-14T00:25:23.084652",
     "status": "completed"
    },
    "tags": []
   },
   "outputs": [],
   "source": [
    "#hide\n",
    "# g.columns = ['date','country','cases']"
   ]
  },
  {
   "cell_type": "code",
   "execution_count": 27,
   "id": "tender-conversion",
   "metadata": {
    "execution": {
     "iopub.execute_input": "2021-05-14T00:25:23.188998Z",
     "iopub.status.busy": "2021-05-14T00:25:23.188499Z",
     "iopub.status.idle": "2021-05-14T00:25:23.190725Z",
     "shell.execute_reply": "2021-05-14T00:25:23.190292Z"
    },
    "papermill": {
     "duration": 0.0372,
     "end_time": "2021-05-14T00:25:23.190821",
     "exception": false,
     "start_time": "2021-05-14T00:25:23.153621",
     "status": "completed"
    },
    "tags": []
   },
   "outputs": [],
   "source": [
    "#hide\n",
    "# g['continent'] = g.country"
   ]
  },
  {
   "cell_type": "code",
   "execution_count": 28,
   "id": "substantial-wilderness",
   "metadata": {
    "execution": {
     "iopub.execute_input": "2021-05-14T00:25:23.260161Z",
     "iopub.status.busy": "2021-05-14T00:25:23.259521Z",
     "iopub.status.idle": "2021-05-14T00:25:23.262127Z",
     "shell.execute_reply": "2021-05-14T00:25:23.261515Z"
    },
    "papermill": {
     "duration": 0.04047,
     "end_time": "2021-05-14T00:25:23.262240",
     "exception": false,
     "start_time": "2021-05-14T00:25:23.221770",
     "status": "completed"
    },
    "tags": []
   },
   "outputs": [],
   "source": [
    "#hide\n",
    "# cols = list(g.columns.values)"
   ]
  },
  {
   "cell_type": "code",
   "execution_count": 29,
   "id": "solved-farming",
   "metadata": {
    "execution": {
     "iopub.execute_input": "2021-05-14T00:25:23.340310Z",
     "iopub.status.busy": "2021-05-14T00:25:23.339663Z",
     "iopub.status.idle": "2021-05-14T00:25:23.342026Z",
     "shell.execute_reply": "2021-05-14T00:25:23.341555Z"
    },
    "papermill": {
     "duration": 0.042528,
     "end_time": "2021-05-14T00:25:23.342132",
     "exception": false,
     "start_time": "2021-05-14T00:25:23.299604",
     "status": "completed"
    },
    "tags": []
   },
   "outputs": [],
   "source": [
    "#hide\n",
    "# cols.insert(0, cols.pop())"
   ]
  },
  {
   "cell_type": "code",
   "execution_count": 30,
   "id": "executed-adoption",
   "metadata": {
    "execution": {
     "iopub.execute_input": "2021-05-14T00:25:23.418629Z",
     "iopub.status.busy": "2021-05-14T00:25:23.417894Z",
     "iopub.status.idle": "2021-05-14T00:25:23.420158Z",
     "shell.execute_reply": "2021-05-14T00:25:23.419712Z"
    },
    "papermill": {
     "duration": 0.040497,
     "end_time": "2021-05-14T00:25:23.420270",
     "exception": false,
     "start_time": "2021-05-14T00:25:23.379773",
     "status": "completed"
    },
    "tags": []
   },
   "outputs": [],
   "source": [
    "#hide\n",
    "# g = g[cols]"
   ]
  },
  {
   "cell_type": "code",
   "execution_count": 31,
   "id": "subject-dublin",
   "metadata": {
    "execution": {
     "iopub.execute_input": "2021-05-14T00:25:23.492413Z",
     "iopub.status.busy": "2021-05-14T00:25:23.491605Z",
     "iopub.status.idle": "2021-05-14T00:25:23.493908Z",
     "shell.execute_reply": "2021-05-14T00:25:23.493444Z"
    },
    "papermill": {
     "duration": 0.040545,
     "end_time": "2021-05-14T00:25:23.494015",
     "exception": false,
     "start_time": "2021-05-14T00:25:23.453470",
     "status": "completed"
    },
    "tags": []
   },
   "outputs": [],
   "source": [
    "#hide\n",
    "# g['continent'] = g['continent'].map(mapping['map.continent'])"
   ]
  },
  {
   "cell_type": "code",
   "execution_count": 32,
   "id": "freelance-scout",
   "metadata": {
    "execution": {
     "iopub.execute_input": "2021-05-14T00:25:23.562721Z",
     "iopub.status.busy": "2021-05-14T00:25:23.562183Z",
     "iopub.status.idle": "2021-05-14T00:25:23.564063Z",
     "shell.execute_reply": "2021-05-14T00:25:23.564511Z"
    },
    "papermill": {
     "duration": 0.038789,
     "end_time": "2021-05-14T00:25:23.564623",
     "exception": false,
     "start_time": "2021-05-14T00:25:23.525834",
     "status": "completed"
    },
    "tags": []
   },
   "outputs": [],
   "source": [
    "#hide\n",
    "# g.head()"
   ]
  },
  {
   "cell_type": "code",
   "execution_count": 33,
   "id": "limited-engine",
   "metadata": {
    "execution": {
     "iopub.execute_input": "2021-05-14T00:25:23.634234Z",
     "iopub.status.busy": "2021-05-14T00:25:23.633710Z",
     "iopub.status.idle": "2021-05-14T00:25:23.635876Z",
     "shell.execute_reply": "2021-05-14T00:25:23.635443Z"
    },
    "papermill": {
     "duration": 0.038076,
     "end_time": "2021-05-14T00:25:23.635974",
     "exception": false,
     "start_time": "2021-05-14T00:25:23.597898",
     "status": "completed"
    },
    "tags": []
   },
   "outputs": [],
   "source": [
    "# hide\n",
    "# g['date'] = g['date'].astype('datetime64[ns]')"
   ]
  },
  {
   "cell_type": "code",
   "execution_count": 34,
   "id": "sophisticated-supervisor",
   "metadata": {
    "execution": {
     "iopub.execute_input": "2021-05-14T00:25:23.704724Z",
     "iopub.status.busy": "2021-05-14T00:25:23.704174Z",
     "iopub.status.idle": "2021-05-14T00:25:23.706163Z",
     "shell.execute_reply": "2021-05-14T00:25:23.706598Z"
    },
    "papermill": {
     "duration": 0.038916,
     "end_time": "2021-05-14T00:25:23.706727",
     "exception": false,
     "start_time": "2021-05-14T00:25:23.667811",
     "status": "completed"
    },
    "tags": []
   },
   "outputs": [],
   "source": [
    "#hide\n",
    "# g['date'] = g.date.dt.dayofyear"
   ]
  },
  {
   "cell_type": "code",
   "execution_count": 35,
   "id": "inside-dubai",
   "metadata": {
    "execution": {
     "iopub.execute_input": "2021-05-14T00:25:23.774164Z",
     "iopub.status.busy": "2021-05-14T00:25:23.773584Z",
     "iopub.status.idle": "2021-05-14T00:25:23.775721Z",
     "shell.execute_reply": "2021-05-14T00:25:23.775275Z"
    },
    "papermill": {
     "duration": 0.037966,
     "end_time": "2021-05-14T00:25:23.775817",
     "exception": false,
     "start_time": "2021-05-14T00:25:23.737851",
     "status": "completed"
    },
    "tags": []
   },
   "outputs": [],
   "source": [
    "#hide\n",
    "# g = g.rename(columns= {'continent':'group','country':'name','cases':'value'})"
   ]
  },
  {
   "cell_type": "code",
   "execution_count": 36,
   "id": "fleet-motorcycle",
   "metadata": {
    "execution": {
     "iopub.execute_input": "2021-05-14T00:25:23.848276Z",
     "iopub.status.busy": "2021-05-14T00:25:23.847689Z",
     "iopub.status.idle": "2021-05-14T00:25:23.850180Z",
     "shell.execute_reply": "2021-05-14T00:25:23.849598Z"
    },
    "papermill": {
     "duration": 0.038783,
     "end_time": "2021-05-14T00:25:23.850282",
     "exception": false,
     "start_time": "2021-05-14T00:25:23.811499",
     "status": "completed"
    },
    "tags": []
   },
   "outputs": [],
   "source": [
    "#hide\n",
    "# cols = ['name','group','day','value']"
   ]
  },
  {
   "cell_type": "code",
   "execution_count": 37,
   "id": "continued-sleeping",
   "metadata": {
    "execution": {
     "iopub.execute_input": "2021-05-14T00:25:23.920497Z",
     "iopub.status.busy": "2021-05-14T00:25:23.919964Z",
     "iopub.status.idle": "2021-05-14T00:25:23.922146Z",
     "shell.execute_reply": "2021-05-14T00:25:23.921630Z"
    },
    "papermill": {
     "duration": 0.037695,
     "end_time": "2021-05-14T00:25:23.922364",
     "exception": false,
     "start_time": "2021-05-14T00:25:23.884669",
     "status": "completed"
    },
    "tags": []
   },
   "outputs": [],
   "source": [
    "#hide\n",
    "# g.rename(columns= {'date':'day'},inplace = True)"
   ]
  },
  {
   "cell_type": "code",
   "execution_count": 38,
   "id": "major-fight",
   "metadata": {
    "execution": {
     "iopub.execute_input": "2021-05-14T00:25:23.994461Z",
     "iopub.status.busy": "2021-05-14T00:25:23.993890Z",
     "iopub.status.idle": "2021-05-14T00:25:23.997369Z",
     "shell.execute_reply": "2021-05-14T00:25:23.996878Z"
    },
    "papermill": {
     "duration": 0.038651,
     "end_time": "2021-05-14T00:25:23.997471",
     "exception": false,
     "start_time": "2021-05-14T00:25:23.958820",
     "status": "completed"
    },
    "tags": []
   },
   "outputs": [],
   "source": [
    "#hide\n",
    "# g = g[cols]"
   ]
  },
  {
   "cell_type": "code",
   "execution_count": 39,
   "id": "structured-mobile",
   "metadata": {
    "execution": {
     "iopub.execute_input": "2021-05-14T00:25:24.064143Z",
     "iopub.status.busy": "2021-05-14T00:25:24.063406Z",
     "iopub.status.idle": "2021-05-14T00:25:24.065727Z",
     "shell.execute_reply": "2021-05-14T00:25:24.065279Z"
    },
    "papermill": {
     "duration": 0.037323,
     "end_time": "2021-05-14T00:25:24.065849",
     "exception": false,
     "start_time": "2021-05-14T00:25:24.028526",
     "status": "completed"
    },
    "tags": []
   },
   "outputs": [],
   "source": [
    "# #hide\n",
    "# g = g[g.group.notna()]"
   ]
  },
  {
   "cell_type": "code",
   "execution_count": 40,
   "id": "determined-closing",
   "metadata": {
    "execution": {
     "iopub.execute_input": "2021-05-14T00:25:24.135150Z",
     "iopub.status.busy": "2021-05-14T00:25:24.134183Z",
     "iopub.status.idle": "2021-05-14T00:25:24.136590Z",
     "shell.execute_reply": "2021-05-14T00:25:24.136152Z"
    },
    "papermill": {
     "duration": 0.038474,
     "end_time": "2021-05-14T00:25:24.136687",
     "exception": false,
     "start_time": "2021-05-14T00:25:24.098213",
     "status": "completed"
    },
    "tags": []
   },
   "outputs": [],
   "source": [
    "# #hide\n",
    "# colors = dict(zip(\n",
    "#     [\"Oceania\", \"Europe\", \"Asia\", \"South America\", \"Middle East\", \"North America\", \"Africa\"],\n",
    "#     [\"#adb0ff\", \"#ffb3ff\", \"#90d595\", \"#e48381\", \"#aafbff\", \"#f7bb5f\", \"#eafb50\"]\n",
    "# ))\n",
    "# group_lk = g.set_index('name')['group'].to_dict()"
   ]
  },
  {
   "cell_type": "code",
   "execution_count": null,
   "id": "gross-drinking",
   "metadata": {
    "papermill": {
     "duration": 0.034207,
     "end_time": "2021-05-14T00:25:24.203724",
     "exception": false,
     "start_time": "2021-05-14T00:25:24.169517",
     "status": "completed"
    },
    "tags": []
   },
   "outputs": [],
   "source": []
  },
  {
   "cell_type": "code",
   "execution_count": 41,
   "id": "subject-macintosh",
   "metadata": {
    "execution": {
     "iopub.execute_input": "2021-05-14T00:25:24.274104Z",
     "iopub.status.busy": "2021-05-14T00:25:24.273476Z",
     "iopub.status.idle": "2021-05-14T00:25:24.276028Z",
     "shell.execute_reply": "2021-05-14T00:25:24.275434Z"
    },
    "papermill": {
     "duration": 0.04097,
     "end_time": "2021-05-14T00:25:24.276160",
     "exception": false,
     "start_time": "2021-05-14T00:25:24.235190",
     "status": "completed"
    },
    "tags": []
   },
   "outputs": [],
   "source": [
    "# #hide\n",
    "# fig, ax = plt.subplots(figsize=(15, 8))\n",
    "\n",
    "# def draw_barchart(current_day):\n",
    "#     dff = g[g['day'].eq(current_day)].sort_values(by='value', ascending=True).tail(10)\n",
    "#     ax.clear()\n",
    "#     ax.barh(dff['name'], dff['value'], color=[colors[group_lk[x]] for x in dff['name']])\n",
    "#     dx = dff['value'].max() / 200\n",
    "    \n",
    "#     for i, (value, name) in enumerate(zip(dff['value'], dff['name'])):\n",
    "#         ax.text(value-dx, i,     name,           size=14, weight=600, ha='right', va='bottom')\n",
    "#         ax.text(value-dx, i-.25, group_lk[name], size=10, color='#444444', ha='right', va='baseline')\n",
    "#         ax.text(value+dx, i,     f'{value:,.0f}',  size=14, ha='left',  va='center')\n",
    "#     ax.text(1, 0.4, current_day, transform=ax.transAxes, color='#777777', size=46, ha='right', weight=800)\n",
    "#     ax.text(0, 1.06, 'Population (thousands)', transform=ax.transAxes, size=12, color='#777777')\n",
    "#     ax.xaxis.set_major_formatter(ticker.StrMethodFormatter('{x:,.0f}'))\n",
    "#     ax.xaxis.set_ticks_position('top')\n",
    "#     ax.tick_params(axis='x', colors='#777777', labelsize=12)\n",
    "#     ax.set_yticks([])\n",
    "#     ax.margins(0, 0.01)\n",
    "#     ax.grid(which='major', axis='x', linestyle='-')\n",
    "#     ax.set_axisbelow(True)\n",
    "    \n",
    "#     ax.text(0, 1.15, 'Coronavirus',\n",
    "#             transform=ax.transAxes, size=24, weight=600, ha='left', va='top')\n",
    "# #     ax.text(1, 0, 'by @pratapvardhan; credit @jburnmurdoch', transform=ax.transAxes, color='#777777', ha='right',\n",
    "# #             bbox=dict(facecolor='white', alpha=0.8, edgecolor='white'))\n",
    "#     plt.box(False)"
   ]
  },
  {
   "cell_type": "code",
   "execution_count": 42,
   "id": "sexual-wages",
   "metadata": {
    "execution": {
     "iopub.execute_input": "2021-05-14T00:25:24.345984Z",
     "iopub.status.busy": "2021-05-14T00:25:24.345245Z",
     "iopub.status.idle": "2021-05-14T00:25:24.347921Z",
     "shell.execute_reply": "2021-05-14T00:25:24.347421Z"
    },
    "papermill": {
     "duration": 0.038781,
     "end_time": "2021-05-14T00:25:24.348072",
     "exception": false,
     "start_time": "2021-05-14T00:25:24.309291",
     "status": "completed"
    },
    "tags": []
   },
   "outputs": [],
   "source": [
    "# #hide_input\n",
    "# fig, ax = plt.subplots(figsize=(15, 8))\n",
    "# animator = animation.FuncAnimation(fig, draw_barchart, frames=range(g.day.values.min(), g.day.values.max()))\n",
    "# HTML(animator.to_jshtml())\n",
    "# # or use animator.to_html5_video() or animator.save() "
   ]
  },
  {
   "cell_type": "code",
   "execution_count": null,
   "id": "australian-container",
   "metadata": {
    "papermill": {
     "duration": 0.035017,
     "end_time": "2021-05-14T00:25:24.419314",
     "exception": false,
     "start_time": "2021-05-14T00:25:24.384297",
     "status": "completed"
    },
    "tags": []
   },
   "outputs": [],
   "source": []
  },
  {
   "cell_type": "code",
   "execution_count": null,
   "id": "mediterranean-pontiac",
   "metadata": {
    "papermill": {
     "duration": 0.034529,
     "end_time": "2021-05-14T00:25:24.484493",
     "exception": false,
     "start_time": "2021-05-14T00:25:24.449964",
     "status": "completed"
    },
    "tags": []
   },
   "outputs": [],
   "source": []
  },
  {
   "cell_type": "code",
   "execution_count": null,
   "id": "aging-legislature",
   "metadata": {
    "papermill": {
     "duration": 0.033872,
     "end_time": "2021-05-14T00:25:24.550291",
     "exception": false,
     "start_time": "2021-05-14T00:25:24.516419",
     "status": "completed"
    },
    "tags": []
   },
   "outputs": [],
   "source": []
  }
 ],
 "metadata": {
  "kernelspec": {
   "display_name": "Python 3",
   "language": "python",
   "name": "python3"
  },
  "language_info": {
   "codemirror_mode": {
    "name": "ipython",
    "version": 3
   },
   "file_extension": ".py",
   "mimetype": "text/x-python",
   "name": "python",
   "nbconvert_exporter": "python",
   "pygments_lexer": "ipython3",
   "version": "3.6.13"
  },
  "papermill": {
   "duration": 6.095891,
   "end_time": "2021-05-14T00:25:24.888772",
   "environment_variables": {},
   "exception": null,
   "input_path": "2020-03-21-covid19exp.ipynb",
   "output_path": "2020-03-21-covid19exp.ipynb",
   "parameters": {},
   "start_time": "2021-05-14T00:25:18.792881",
   "version": "2.0.0"
  }
 },
 "nbformat": 4,
 "nbformat_minor": 5
}