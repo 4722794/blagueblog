{
 "cells": [
  {
   "cell_type": "markdown",
   "metadata": {
    "papermill": {
     "duration": 0.030964,
     "end_time": "2020-12-25T00:18:44.282082",
     "exception": false,
     "start_time": "2020-12-25T00:18:44.251118",
     "status": "completed"
    },
    "tags": []
   },
   "source": [
    "# COVID-19 Case Race\n",
    "> A race chart to see rising cases around the world\n",
    "\n",
    "- author: Hargun Oberoi\n",
    "- image: images/covid-overview.png\n",
    "- hide: false\n",
    "- badges: false"
   ]
  },
  {
   "cell_type": "code",
   "execution_count": 1,
   "metadata": {
    "execution": {
     "iopub.execute_input": "2020-12-25T00:18:44.347499Z",
     "iopub.status.busy": "2020-12-25T00:18:44.346915Z",
     "iopub.status.idle": "2020-12-25T00:18:44.661915Z",
     "shell.execute_reply": "2020-12-25T00:18:44.661003Z"
    },
    "papermill": {
     "duration": 0.351756,
     "end_time": "2020-12-25T00:18:44.662165",
     "exception": false,
     "start_time": "2020-12-25T00:18:44.310409",
     "status": "completed"
    },
    "tags": []
   },
   "outputs": [],
   "source": [
    "#hide\n",
    "import numpy as np\n",
    "import pandas as pd\n",
    "from jinja2 import Template\n",
    "from IPython.display import HTML"
   ]
  },
  {
   "cell_type": "code",
   "execution_count": 2,
   "metadata": {
    "execution": {
     "iopub.execute_input": "2020-12-25T00:18:44.731913Z",
     "iopub.status.busy": "2020-12-25T00:18:44.731042Z",
     "iopub.status.idle": "2020-12-25T00:18:44.732764Z",
     "shell.execute_reply": "2020-12-25T00:18:44.733393Z"
    },
    "papermill": {
     "duration": 0.038183,
     "end_time": "2020-12-25T00:18:44.733578",
     "exception": false,
     "start_time": "2020-12-25T00:18:44.695395",
     "status": "completed"
    },
    "tags": []
   },
   "outputs": [],
   "source": [
    "#hide\n",
    "\n",
    "# FETCH\n",
    "base_url = 'https://raw.githubusercontent.com/pratapvardhan/notebooks/master/covid19/'\n",
    "paths = {\n",
    "    'mapping': base_url + 'mapping_countries.csv',\n",
    "    'overview': base_url + 'overview.tpl'\n",
    "}"
   ]
  },
  {
   "cell_type": "code",
   "execution_count": 3,
   "metadata": {
    "execution": {
     "iopub.execute_input": "2020-12-25T00:18:44.800620Z",
     "iopub.status.busy": "2020-12-25T00:18:44.796643Z",
     "iopub.status.idle": "2020-12-25T00:18:44.803725Z",
     "shell.execute_reply": "2020-12-25T00:18:44.803360Z"
    },
    "papermill": {
     "duration": 0.042396,
     "end_time": "2020-12-25T00:18:44.803816",
     "exception": false,
     "start_time": "2020-12-25T00:18:44.761420",
     "status": "completed"
    },
    "tags": []
   },
   "outputs": [
    {
     "data": {
      "text/plain": [
       "'https://raw.githubusercontent.com/pratapvardhan/notebooks/master/covid19/mapping_countries.csv'"
      ]
     },
     "execution_count": 3,
     "metadata": {},
     "output_type": "execute_result"
    }
   ],
   "source": [
    "#hide\n",
    "paths['mapping']"
   ]
  },
  {
   "cell_type": "code",
   "execution_count": 4,
   "metadata": {
    "execution": {
     "iopub.execute_input": "2020-12-25T00:18:44.867019Z",
     "iopub.status.busy": "2020-12-25T00:18:44.866440Z",
     "iopub.status.idle": "2020-12-25T00:18:44.869313Z",
     "shell.execute_reply": "2020-12-25T00:18:44.869828Z"
    },
    "papermill": {
     "duration": 0.037812,
     "end_time": "2020-12-25T00:18:44.869956",
     "exception": false,
     "start_time": "2020-12-25T00:18:44.832144",
     "status": "completed"
    },
    "tags": []
   },
   "outputs": [],
   "source": [
    "#hide\n",
    "def get_mappings(url):\n",
    "    df = pd.read_csv(url)\n",
    "    return {\n",
    "        'df': df,\n",
    "        'replace.country': dict(df.dropna(subset=['Name']).set_index('Country')['Name']),\n",
    "        'map.continent': dict(df.set_index('Name')['Continent'])\n",
    "    }"
   ]
  },
  {
   "cell_type": "code",
   "execution_count": 5,
   "metadata": {
    "execution": {
     "iopub.execute_input": "2020-12-25T00:18:44.935243Z",
     "iopub.status.busy": "2020-12-25T00:18:44.934641Z",
     "iopub.status.idle": "2020-12-25T00:18:44.964448Z",
     "shell.execute_reply": "2020-12-25T00:18:44.963792Z"
    },
    "papermill": {
     "duration": 0.070756,
     "end_time": "2020-12-25T00:18:44.964617",
     "exception": false,
     "start_time": "2020-12-25T00:18:44.893861",
     "status": "completed"
    },
    "tags": []
   },
   "outputs": [],
   "source": [
    "#hide\n",
    "mapping = get_mappings(paths['mapping'])"
   ]
  },
  {
   "cell_type": "code",
   "execution_count": 6,
   "metadata": {
    "execution": {
     "iopub.execute_input": "2020-12-25T00:18:45.033296Z",
     "iopub.status.busy": "2020-12-25T00:18:45.032750Z",
     "iopub.status.idle": "2020-12-25T00:18:45.034468Z",
     "shell.execute_reply": "2020-12-25T00:18:45.034970Z"
    },
    "papermill": {
     "duration": 0.038057,
     "end_time": "2020-12-25T00:18:45.035100",
     "exception": false,
     "start_time": "2020-12-25T00:18:44.997043",
     "status": "completed"
    },
    "tags": []
   },
   "outputs": [],
   "source": [
    "#hide\n",
    "def get_template(path):\n",
    "    from urllib.parse import urlparse\n",
    "    if bool(urlparse(path).netloc):\n",
    "        from urllib.request import urlopen\n",
    "        return urlopen(path).read().decode('utf8')\n",
    "    return open(path).read()"
   ]
  },
  {
   "cell_type": "code",
   "execution_count": 7,
   "metadata": {
    "execution": {
     "iopub.execute_input": "2020-12-25T00:18:45.103965Z",
     "iopub.status.busy": "2020-12-25T00:18:45.103363Z",
     "iopub.status.idle": "2020-12-25T00:18:45.105144Z",
     "shell.execute_reply": "2020-12-25T00:18:45.105620Z"
    },
    "papermill": {
     "duration": 0.037893,
     "end_time": "2020-12-25T00:18:45.105777",
     "exception": false,
     "start_time": "2020-12-25T00:18:45.067884",
     "status": "completed"
    },
    "tags": []
   },
   "outputs": [],
   "source": [
    "#hide\n",
    "def get_frame(name):\n",
    "    url = (\n",
    "        'https://raw.githubusercontent.com/CSSEGISandData/COVID-19/master/csse_covid_19_data/'\n",
    "        f'csse_covid_19_time_series/time_series_covid19_{name}_global.csv')\n",
    "    df = pd.read_csv(url)\n",
    "    # rename countries\n",
    "    df['Country/Region'] = df['Country/Region'].replace(mapping['replace.country'])\n",
    "    return df"
   ]
  },
  {
   "cell_type": "code",
   "execution_count": 8,
   "metadata": {
    "execution": {
     "iopub.execute_input": "2020-12-25T00:18:45.172489Z",
     "iopub.status.busy": "2020-12-25T00:18:45.171942Z",
     "iopub.status.idle": "2020-12-25T00:18:45.174137Z",
     "shell.execute_reply": "2020-12-25T00:18:45.173640Z"
    },
    "papermill": {
     "duration": 0.03875,
     "end_time": "2020-12-25T00:18:45.174263",
     "exception": false,
     "start_time": "2020-12-25T00:18:45.135513",
     "status": "completed"
    },
    "tags": []
   },
   "outputs": [],
   "source": [
    "#hide\n",
    "def get_dates(df):\n",
    "    dt_cols = df.columns[~df.columns.isin(['Province/State', 'Country/Region', 'Lat', 'Long'])]\n",
    "    LAST_DATE_I = -1\n",
    "    # sometimes last column may be empty, then go backwards\n",
    "    for i in range(-1, -len(dt_cols), -1):\n",
    "        if not df[dt_cols[i]].fillna(0).eq(0).all():\n",
    "            LAST_DATE_I = i\n",
    "            break\n",
    "    return LAST_DATE_I, dt_cols"
   ]
  },
  {
   "cell_type": "code",
   "execution_count": 9,
   "metadata": {
    "execution": {
     "iopub.execute_input": "2020-12-25T00:18:45.236880Z",
     "iopub.status.busy": "2020-12-25T00:18:45.236346Z",
     "iopub.status.idle": "2020-12-25T00:18:45.436740Z",
     "shell.execute_reply": "2020-12-25T00:18:45.436242Z"
    },
    "papermill": {
     "duration": 0.234163,
     "end_time": "2020-12-25T00:18:45.436876",
     "exception": false,
     "start_time": "2020-12-25T00:18:45.202713",
     "status": "completed"
    },
    "tags": []
   },
   "outputs": [],
   "source": [
    "#hide\n",
    "COL_REGION = 'Country/Region'\n",
    "# Confirmed, Recovered, Deaths\n",
    "df = get_frame('confirmed')\n",
    "# dft_: timeseries, dfc_: today country agg\n",
    "dft_cases = df\n",
    "dft_deaths = get_frame('deaths')\n",
    "dft_recovered = get_frame('recovered')\n",
    "LAST_DATE_I, dt_cols = get_dates(df)"
   ]
  },
  {
   "cell_type": "code",
   "execution_count": 10,
   "metadata": {
    "execution": {
     "iopub.execute_input": "2020-12-25T00:18:45.501179Z",
     "iopub.status.busy": "2020-12-25T00:18:45.500633Z",
     "iopub.status.idle": "2020-12-25T00:18:45.503082Z",
     "shell.execute_reply": "2020-12-25T00:18:45.502410Z"
    },
    "papermill": {
     "duration": 0.038352,
     "end_time": "2020-12-25T00:18:45.503286",
     "exception": false,
     "start_time": "2020-12-25T00:18:45.464934",
     "status": "completed"
    },
    "tags": []
   },
   "outputs": [],
   "source": [
    "#hide\n",
    "LAST_DATE_I, dt_cols = get_dates(df)\n",
    "dt_today =dt_cols[LAST_DATE_I]\n",
    "# dt_5day = dt_cols[LAST_DATE_I - 5]\n",
    "dt_yday = dt_cols[LAST_DATE_I - 1]"
   ]
  },
  {
   "cell_type": "code",
   "execution_count": 11,
   "metadata": {
    "execution": {
     "iopub.execute_input": "2020-12-25T00:18:45.566509Z",
     "iopub.status.busy": "2020-12-25T00:18:45.565970Z",
     "iopub.status.idle": "2020-12-25T00:18:45.572353Z",
     "shell.execute_reply": "2020-12-25T00:18:45.572817Z"
    },
    "papermill": {
     "duration": 0.04128,
     "end_time": "2020-12-25T00:18:45.572948",
     "exception": false,
     "start_time": "2020-12-25T00:18:45.531668",
     "status": "completed"
    },
    "tags": []
   },
   "outputs": [],
   "source": [
    "#hide\n",
    "dfc_cases = dft_cases.groupby(COL_REGION)[dt_today].sum()\n",
    "dfc_deaths = dft_deaths.groupby(COL_REGION)[dt_today].sum()\n",
    "# dfp_cases = dft_cases.groupby(COL_REGION)[dt_5day].sum()\n",
    "# dfp_deaths = dft_deaths.groupby(COL_REGION)[dt_5day].sum()\n",
    "dfp_cases = dft_cases.groupby(COL_REGION)[dt_yday].sum()\n",
    "dfp_deaths = dft_deaths.groupby(COL_REGION)[dt_yday].sum()"
   ]
  },
  {
   "cell_type": "code",
   "execution_count": 12,
   "metadata": {
    "execution": {
     "iopub.execute_input": "2020-12-25T00:18:45.641301Z",
     "iopub.status.busy": "2020-12-25T00:18:45.640771Z",
     "iopub.status.idle": "2020-12-25T00:18:45.644802Z",
     "shell.execute_reply": "2020-12-25T00:18:45.644330Z"
    },
    "papermill": {
     "duration": 0.040292,
     "end_time": "2020-12-25T00:18:45.644917",
     "exception": false,
     "start_time": "2020-12-25T00:18:45.604625",
     "status": "completed"
    },
    "tags": []
   },
   "outputs": [],
   "source": [
    "#hide\n",
    "df_table = (pd.DataFrame(dict(Cases = dfc_cases, Deaths = dfc_deaths, PCases = dfp_cases, PDeaths = dfp_deaths))\n",
    "            .sort_values(by = ['Cases','Deaths'], ascending = [False, False])\n",
    "            .reset_index())"
   ]
  },
  {
   "cell_type": "code",
   "execution_count": 13,
   "metadata": {
    "execution": {
     "iopub.execute_input": "2020-12-25T00:18:45.730049Z",
     "iopub.status.busy": "2020-12-25T00:18:45.729456Z",
     "iopub.status.idle": "2020-12-25T00:18:45.737656Z",
     "shell.execute_reply": "2020-12-25T00:18:45.737135Z"
    },
    "papermill": {
     "duration": 0.065885,
     "end_time": "2020-12-25T00:18:45.737802",
     "exception": false,
     "start_time": "2020-12-25T00:18:45.671917",
     "status": "completed"
    },
    "tags": []
   },
   "outputs": [
    {
     "data": {
      "text/html": [
       "<div>\n",
       "<style scoped>\n",
       "    .dataframe tbody tr th:only-of-type {\n",
       "        vertical-align: middle;\n",
       "    }\n",
       "\n",
       "    .dataframe tbody tr th {\n",
       "        vertical-align: top;\n",
       "    }\n",
       "\n",
       "    .dataframe thead th {\n",
       "        text-align: right;\n",
       "    }\n",
       "</style>\n",
       "<table border=\"1\" class=\"dataframe\">\n",
       "  <thead>\n",
       "    <tr style=\"text-align: right;\">\n",
       "      <th></th>\n",
       "      <th>Country/Region</th>\n",
       "      <th>Cases</th>\n",
       "      <th>Deaths</th>\n",
       "      <th>PCases</th>\n",
       "      <th>PDeaths</th>\n",
       "      <th>Cases (+)</th>\n",
       "      <th>Deaths (+)</th>\n",
       "      <th>Fatality Rate</th>\n",
       "      <th>Continent</th>\n",
       "    </tr>\n",
       "  </thead>\n",
       "  <tbody>\n",
       "    <tr>\n",
       "      <th>0</th>\n",
       "      <td>US</td>\n",
       "      <td>18458373</td>\n",
       "      <td>326124</td>\n",
       "      <td>18230242</td>\n",
       "      <td>322765</td>\n",
       "      <td>228131</td>\n",
       "      <td>3359</td>\n",
       "      <td>1.77</td>\n",
       "      <td>North America</td>\n",
       "    </tr>\n",
       "    <tr>\n",
       "      <th>1</th>\n",
       "      <td>India</td>\n",
       "      <td>10123778</td>\n",
       "      <td>146756</td>\n",
       "      <td>10099066</td>\n",
       "      <td>146444</td>\n",
       "      <td>24712</td>\n",
       "      <td>312</td>\n",
       "      <td>1.45</td>\n",
       "      <td>Asia</td>\n",
       "    </tr>\n",
       "    <tr>\n",
       "      <th>2</th>\n",
       "      <td>Brazil</td>\n",
       "      <td>7365517</td>\n",
       "      <td>189220</td>\n",
       "      <td>7318821</td>\n",
       "      <td>188259</td>\n",
       "      <td>46696</td>\n",
       "      <td>961</td>\n",
       "      <td>2.57</td>\n",
       "      <td>South America</td>\n",
       "    </tr>\n",
       "    <tr>\n",
       "      <th>3</th>\n",
       "      <td>Russia</td>\n",
       "      <td>2905196</td>\n",
       "      <td>51810</td>\n",
       "      <td>2878382</td>\n",
       "      <td>51274</td>\n",
       "      <td>26814</td>\n",
       "      <td>536</td>\n",
       "      <td>1.78</td>\n",
       "      <td>Europe</td>\n",
       "    </tr>\n",
       "    <tr>\n",
       "      <th>4</th>\n",
       "      <td>France</td>\n",
       "      <td>2562615</td>\n",
       "      <td>62098</td>\n",
       "      <td>2547577</td>\n",
       "      <td>61821</td>\n",
       "      <td>15038</td>\n",
       "      <td>277</td>\n",
       "      <td>2.42</td>\n",
       "      <td>Europe</td>\n",
       "    </tr>\n",
       "  </tbody>\n",
       "</table>\n",
       "</div>"
      ],
      "text/plain": [
       "  Country/Region     Cases  Deaths    PCases  PDeaths  Cases (+)  Deaths (+)  \\\n",
       "0             US  18458373  326124  18230242   322765     228131        3359   \n",
       "1          India  10123778  146756  10099066   146444      24712         312   \n",
       "2         Brazil   7365517  189220   7318821   188259      46696         961   \n",
       "3         Russia   2905196   51810   2878382    51274      26814         536   \n",
       "4         France   2562615   62098   2547577    61821      15038         277   \n",
       "\n",
       "   Fatality Rate      Continent  \n",
       "0           1.77  North America  \n",
       "1           1.45           Asia  \n",
       "2           2.57  South America  \n",
       "3           1.78         Europe  \n",
       "4           2.42         Europe  "
      ]
     },
     "execution_count": 13,
     "metadata": {},
     "output_type": "execute_result"
    }
   ],
   "source": [
    "#hide\n",
    "for c in 'Cases, Deaths'.split(', '):\n",
    "    df_table[f'{c} (+)'] = (df_table[c] - df_table[f'P{c}']).clip(0)\n",
    "    #Clip ça veut dire, les chiffres negatif sont interdit\n",
    "df_table['Fatality Rate'] = (100* df_table['Deaths']/ df_table['Cases']).round(2)\n",
    "df_table['Continent'] = df_table['Country/Region'].map(mapping['map.continent'])\n",
    "df_table.head(5)"
   ]
  },
  {
   "cell_type": "code",
   "execution_count": 14,
   "metadata": {
    "execution": {
     "iopub.execute_input": "2020-12-25T00:18:45.804889Z",
     "iopub.status.busy": "2020-12-25T00:18:45.804280Z",
     "iopub.status.idle": "2020-12-25T00:18:45.806558Z",
     "shell.execute_reply": "2020-12-25T00:18:45.807112Z"
    },
    "papermill": {
     "duration": 0.040304,
     "end_time": "2020-12-25T00:18:45.807278",
     "exception": false,
     "start_time": "2020-12-25T00:18:45.766974",
     "status": "completed"
    },
    "tags": []
   },
   "outputs": [],
   "source": [
    "#hide\n",
    "#delete problematic countries from table\n",
    "df_table = df_table[~df_table['Country/Region'].isin(['Cape Verde', 'Cruise Ship', 'Kosovo'])]"
   ]
  },
  {
   "cell_type": "code",
   "execution_count": 15,
   "metadata": {
    "execution": {
     "iopub.execute_input": "2020-12-25T00:18:45.875313Z",
     "iopub.status.busy": "2020-12-25T00:18:45.873796Z",
     "iopub.status.idle": "2020-12-25T00:18:45.897118Z",
     "shell.execute_reply": "2020-12-25T00:18:45.896652Z"
    },
    "papermill": {
     "duration": 0.059043,
     "end_time": "2020-12-25T00:18:45.897237",
     "exception": false,
     "start_time": "2020-12-25T00:18:45.838194",
     "status": "completed"
    },
    "tags": []
   },
   "outputs": [
    {
     "data": {
      "text/html": [
       "<div>\n",
       "<style scoped>\n",
       "    .dataframe tbody tr th:only-of-type {\n",
       "        vertical-align: middle;\n",
       "    }\n",
       "\n",
       "    .dataframe tbody tr th {\n",
       "        vertical-align: top;\n",
       "    }\n",
       "\n",
       "    .dataframe thead th {\n",
       "        text-align: right;\n",
       "    }\n",
       "</style>\n",
       "<table border=\"1\" class=\"dataframe\">\n",
       "  <thead>\n",
       "    <tr style=\"text-align: right;\">\n",
       "      <th></th>\n",
       "      <th>Country/Region</th>\n",
       "      <th>Cases</th>\n",
       "      <th>Deaths</th>\n",
       "      <th>PCases</th>\n",
       "      <th>PDeaths</th>\n",
       "      <th>Cases (+)</th>\n",
       "      <th>Deaths (+)</th>\n",
       "      <th>Fatality Rate</th>\n",
       "      <th>Continent</th>\n",
       "    </tr>\n",
       "  </thead>\n",
       "  <tbody>\n",
       "    <tr>\n",
       "      <th>0</th>\n",
       "      <td>US</td>\n",
       "      <td>18458373</td>\n",
       "      <td>326124</td>\n",
       "      <td>18230242</td>\n",
       "      <td>322765</td>\n",
       "      <td>228131</td>\n",
       "      <td>3359</td>\n",
       "      <td>1.8</td>\n",
       "      <td>North America</td>\n",
       "    </tr>\n",
       "    <tr>\n",
       "      <th>1</th>\n",
       "      <td>India</td>\n",
       "      <td>10123778</td>\n",
       "      <td>146756</td>\n",
       "      <td>10099066</td>\n",
       "      <td>146444</td>\n",
       "      <td>24712</td>\n",
       "      <td>312</td>\n",
       "      <td>1.4</td>\n",
       "      <td>Asia</td>\n",
       "    </tr>\n",
       "    <tr>\n",
       "      <th>2</th>\n",
       "      <td>Brazil</td>\n",
       "      <td>7365517</td>\n",
       "      <td>189220</td>\n",
       "      <td>7318821</td>\n",
       "      <td>188259</td>\n",
       "      <td>46696</td>\n",
       "      <td>961</td>\n",
       "      <td>2.6</td>\n",
       "      <td>South America</td>\n",
       "    </tr>\n",
       "    <tr>\n",
       "      <th>3</th>\n",
       "      <td>Russia</td>\n",
       "      <td>2905196</td>\n",
       "      <td>51810</td>\n",
       "      <td>2878382</td>\n",
       "      <td>51274</td>\n",
       "      <td>26814</td>\n",
       "      <td>536</td>\n",
       "      <td>1.8</td>\n",
       "      <td>Europe</td>\n",
       "    </tr>\n",
       "    <tr>\n",
       "      <th>4</th>\n",
       "      <td>France</td>\n",
       "      <td>2562615</td>\n",
       "      <td>62098</td>\n",
       "      <td>2547577</td>\n",
       "      <td>61821</td>\n",
       "      <td>15038</td>\n",
       "      <td>277</td>\n",
       "      <td>2.4</td>\n",
       "      <td>Europe</td>\n",
       "    </tr>\n",
       "  </tbody>\n",
       "</table>\n",
       "</div>"
      ],
      "text/plain": [
       "  Country/Region     Cases  Deaths    PCases  PDeaths  Cases (+)  Deaths (+)  \\\n",
       "0             US  18458373  326124  18230242   322765     228131        3359   \n",
       "1          India  10123778  146756  10099066   146444      24712         312   \n",
       "2         Brazil   7365517  189220   7318821   188259      46696         961   \n",
       "3         Russia   2905196   51810   2878382    51274      26814         536   \n",
       "4         France   2562615   62098   2547577    61821      15038         277   \n",
       "\n",
       "   Fatality Rate      Continent  \n",
       "0            1.8  North America  \n",
       "1            1.4           Asia  \n",
       "2            2.6  South America  \n",
       "3            1.8         Europe  \n",
       "4            2.4         Europe  "
      ]
     },
     "execution_count": 15,
     "metadata": {},
     "output_type": "execute_result"
    }
   ],
   "source": [
    "#hide\n",
    "df_table = (pd.DataFrame(dict(Cases=dfc_cases, Deaths=dfc_deaths, PCases=dfp_cases, PDeaths=dfp_deaths))\n",
    "             .sort_values(by=['Cases', 'Deaths'], ascending=[False, False])\n",
    "             .reset_index())\n",
    "df_table.rename(columns={'index': 'Country/Region'}, inplace=True)\n",
    "for c in 'Cases, Deaths'.split(', '):\n",
    "    df_table[f'{c} (+)'] = (df_table[c] - df_table[f'P{c}']).clip(0)  # DATA BUG\n",
    "df_table['Fatality Rate'] = (100 * df_table['Deaths'] / df_table['Cases']).round(1)\n",
    "df_table['Continent'] = df_table['Country/Region'].map(mapping['map.continent'])\n",
    "df_table.head(5)"
   ]
  },
  {
   "cell_type": "code",
   "execution_count": 16,
   "metadata": {
    "execution": {
     "iopub.execute_input": "2020-12-25T00:18:45.962120Z",
     "iopub.status.busy": "2020-12-25T00:18:45.961091Z",
     "iopub.status.idle": "2020-12-25T00:18:45.963229Z",
     "shell.execute_reply": "2020-12-25T00:18:45.964017Z"
    },
    "papermill": {
     "duration": 0.038717,
     "end_time": "2020-12-25T00:18:45.964172",
     "exception": false,
     "start_time": "2020-12-25T00:18:45.925455",
     "status": "completed"
    },
    "tags": []
   },
   "outputs": [],
   "source": [
    "#hide\n",
    "#delete problematic countries from table\n",
    "df_table = df_table[~df_table['Country/Region'].isin(['Cape Verde', 'Cruise Ship', 'Kosovo'])]"
   ]
  },
  {
   "cell_type": "code",
   "execution_count": 17,
   "metadata": {
    "execution": {
     "iopub.execute_input": "2020-12-25T00:18:46.042346Z",
     "iopub.status.busy": "2020-12-25T00:18:46.041786Z",
     "iopub.status.idle": "2020-12-25T00:18:46.044336Z",
     "shell.execute_reply": "2020-12-25T00:18:46.043892Z"
    },
    "papermill": {
     "duration": 0.052521,
     "end_time": "2020-12-25T00:18:46.044465",
     "exception": false,
     "start_time": "2020-12-25T00:18:45.991944",
     "status": "completed"
    },
    "tags": []
   },
   "outputs": [],
   "source": [
    "#hide\n",
    "metrics = [df_table.columns[index] for index in [1,2,5,6]]\n",
    "# s_china = df_table[df_table['Country/Region'].eq('China')][metrics].sum().add_prefix('China ')\n",
    "s_us = df_table[df_table['Country/Region'].eq('US')][metrics].sum().add_prefix('US ')\n",
    "s_eu = df_table[df_table['Continent'].eq('Europe')][metrics].sum().add_prefix('EU ')\n",
    "s_ind = df_table[df_table['Country/Region'].eq('India')][metrics].sum().add_prefix('India ')\n",
    "summary = {'updated': pd.to_datetime(dt_today), 'since': pd.to_datetime(dt_yday)}\n",
    "summary = {'updated': pd.to_datetime(dt_today), 'since': pd.to_datetime(dt_yday)}\n",
    "summary = {**summary, **df_table[metrics].sum(), **s_ind, **s_us, **s_eu}"
   ]
  },
  {
   "cell_type": "code",
   "execution_count": 18,
   "metadata": {
    "execution": {
     "iopub.execute_input": "2020-12-25T00:18:46.119963Z",
     "iopub.status.busy": "2020-12-25T00:18:46.119469Z",
     "iopub.status.idle": "2020-12-25T00:18:46.128737Z",
     "shell.execute_reply": "2020-12-25T00:18:46.128279Z"
    },
    "papermill": {
     "duration": 0.045376,
     "end_time": "2020-12-25T00:18:46.128846",
     "exception": false,
     "start_time": "2020-12-25T00:18:46.083470",
     "status": "completed"
    },
    "tags": []
   },
   "outputs": [],
   "source": [
    "#hide\n",
    "dft_ct_new_cases = dft_cases.groupby(COL_REGION)[dt_cols].sum().diff(axis=1).fillna(0).astype(int)"
   ]
  },
  {
   "cell_type": "code",
   "execution_count": 19,
   "metadata": {
    "execution": {
     "iopub.execute_input": "2020-12-25T00:18:46.190144Z",
     "iopub.status.busy": "2020-12-25T00:18:46.189671Z",
     "iopub.status.idle": "2020-12-25T00:18:46.191492Z",
     "shell.execute_reply": "2020-12-25T00:18:46.191899Z"
    },
    "papermill": {
     "duration": 0.034846,
     "end_time": "2020-12-25T00:18:46.192022",
     "exception": false,
     "start_time": "2020-12-25T00:18:46.157176",
     "status": "completed"
    },
    "tags": []
   },
   "outputs": [],
   "source": [
    "#hide\n",
    "everydaycases = dft_ct_new_cases.cumsum(axis=1)"
   ]
  },
  {
   "cell_type": "code",
   "execution_count": 20,
   "metadata": {
    "execution": {
     "iopub.execute_input": "2020-12-25T00:18:46.269656Z",
     "iopub.status.busy": "2020-12-25T00:18:46.269163Z",
     "iopub.status.idle": "2020-12-25T00:18:48.156230Z",
     "shell.execute_reply": "2020-12-25T00:18:48.155721Z"
    },
    "papermill": {
     "duration": 1.922258,
     "end_time": "2020-12-25T00:18:48.156386",
     "exception": false,
     "start_time": "2020-12-25T00:18:46.234128",
     "status": "completed"
    },
    "tags": []
   },
   "outputs": [],
   "source": [
    "#hide\n",
    "import pandas as pd\n",
    "import matplotlib.pyplot as plt\n",
    "import matplotlib.ticker as ticker\n",
    "import matplotlib.animation as animation\n",
    "from IPython.display import HTML"
   ]
  },
  {
   "cell_type": "code",
   "execution_count": 21,
   "metadata": {
    "execution": {
     "iopub.execute_input": "2020-12-25T00:18:48.224934Z",
     "iopub.status.busy": "2020-12-25T00:18:48.224341Z",
     "iopub.status.idle": "2020-12-25T00:18:48.229005Z",
     "shell.execute_reply": "2020-12-25T00:18:48.228564Z"
    },
    "papermill": {
     "duration": 0.042299,
     "end_time": "2020-12-25T00:18:48.229128",
     "exception": false,
     "start_time": "2020-12-25T00:18:48.186829",
     "status": "completed"
    },
    "tags": []
   },
   "outputs": [],
   "source": [
    "#hide\n",
    "t = everydaycases.stack()"
   ]
  },
  {
   "cell_type": "code",
   "execution_count": 22,
   "metadata": {
    "execution": {
     "iopub.execute_input": "2020-12-25T00:18:48.290593Z",
     "iopub.status.busy": "2020-12-25T00:18:48.290032Z",
     "iopub.status.idle": "2020-12-25T00:18:48.296543Z",
     "shell.execute_reply": "2020-12-25T00:18:48.296106Z"
    },
    "papermill": {
     "duration": 0.038775,
     "end_time": "2020-12-25T00:18:48.296662",
     "exception": false,
     "start_time": "2020-12-25T00:18:48.257887",
     "status": "completed"
    },
    "tags": []
   },
   "outputs": [],
   "source": [
    "#hide\n",
    "g = t.reset_index(['Country/Region'])"
   ]
  },
  {
   "cell_type": "code",
   "execution_count": 23,
   "metadata": {
    "execution": {
     "iopub.execute_input": "2020-12-25T00:18:48.367138Z",
     "iopub.status.busy": "2020-12-25T00:18:48.366540Z",
     "iopub.status.idle": "2020-12-25T00:18:48.368827Z",
     "shell.execute_reply": "2020-12-25T00:18:48.369351Z"
    },
    "papermill": {
     "duration": 0.041205,
     "end_time": "2020-12-25T00:18:48.369483",
     "exception": false,
     "start_time": "2020-12-25T00:18:48.328278",
     "status": "completed"
    },
    "tags": []
   },
   "outputs": [],
   "source": [
    "#hide\n",
    "g.index.name = 'date'"
   ]
  },
  {
   "cell_type": "code",
   "execution_count": 24,
   "metadata": {
    "execution": {
     "iopub.execute_input": "2020-12-25T00:18:48.440615Z",
     "iopub.status.busy": "2020-12-25T00:18:48.439980Z",
     "iopub.status.idle": "2020-12-25T00:18:48.441798Z",
     "shell.execute_reply": "2020-12-25T00:18:48.442246Z"
    },
    "papermill": {
     "duration": 0.044135,
     "end_time": "2020-12-25T00:18:48.442399",
     "exception": false,
     "start_time": "2020-12-25T00:18:48.398264",
     "status": "completed"
    },
    "tags": []
   },
   "outputs": [],
   "source": [
    "# #hide\n",
    "# g = g.reset_index(['date'])"
   ]
  },
  {
   "cell_type": "code",
   "execution_count": 25,
   "metadata": {
    "execution": {
     "iopub.execute_input": "2020-12-25T00:18:48.505959Z",
     "iopub.status.busy": "2020-12-25T00:18:48.505378Z",
     "iopub.status.idle": "2020-12-25T00:18:48.507745Z",
     "shell.execute_reply": "2020-12-25T00:18:48.508204Z"
    },
    "papermill": {
     "duration": 0.03593,
     "end_time": "2020-12-25T00:18:48.508325",
     "exception": false,
     "start_time": "2020-12-25T00:18:48.472395",
     "status": "completed"
    },
    "tags": []
   },
   "outputs": [],
   "source": [
    "#hide\n",
    "# g.head()"
   ]
  },
  {
   "cell_type": "code",
   "execution_count": 26,
   "metadata": {
    "execution": {
     "iopub.execute_input": "2020-12-25T00:18:48.571142Z",
     "iopub.status.busy": "2020-12-25T00:18:48.570543Z",
     "iopub.status.idle": "2020-12-25T00:18:48.574343Z",
     "shell.execute_reply": "2020-12-25T00:18:48.573867Z"
    },
    "papermill": {
     "duration": 0.037449,
     "end_time": "2020-12-25T00:18:48.574483",
     "exception": false,
     "start_time": "2020-12-25T00:18:48.537034",
     "status": "completed"
    },
    "tags": []
   },
   "outputs": [],
   "source": [
    "#hide\n",
    "# g.columns = ['date','country','cases']"
   ]
  },
  {
   "cell_type": "code",
   "execution_count": 27,
   "metadata": {
    "execution": {
     "iopub.execute_input": "2020-12-25T00:18:48.639483Z",
     "iopub.status.busy": "2020-12-25T00:18:48.638865Z",
     "iopub.status.idle": "2020-12-25T00:18:48.641309Z",
     "shell.execute_reply": "2020-12-25T00:18:48.641876Z"
    },
    "papermill": {
     "duration": 0.038064,
     "end_time": "2020-12-25T00:18:48.642021",
     "exception": false,
     "start_time": "2020-12-25T00:18:48.603957",
     "status": "completed"
    },
    "tags": []
   },
   "outputs": [],
   "source": [
    "#hide\n",
    "# g['continent'] = g.country"
   ]
  },
  {
   "cell_type": "code",
   "execution_count": 28,
   "metadata": {
    "execution": {
     "iopub.execute_input": "2020-12-25T00:18:48.703948Z",
     "iopub.status.busy": "2020-12-25T00:18:48.703403Z",
     "iopub.status.idle": "2020-12-25T00:18:48.705980Z",
     "shell.execute_reply": "2020-12-25T00:18:48.706500Z"
    },
    "papermill": {
     "duration": 0.035404,
     "end_time": "2020-12-25T00:18:48.706641",
     "exception": false,
     "start_time": "2020-12-25T00:18:48.671237",
     "status": "completed"
    },
    "tags": []
   },
   "outputs": [],
   "source": [
    "#hide\n",
    "# cols = list(g.columns.values)"
   ]
  },
  {
   "cell_type": "code",
   "execution_count": 29,
   "metadata": {
    "execution": {
     "iopub.execute_input": "2020-12-25T00:18:48.768362Z",
     "iopub.status.busy": "2020-12-25T00:18:48.767775Z",
     "iopub.status.idle": "2020-12-25T00:18:48.769968Z",
     "shell.execute_reply": "2020-12-25T00:18:48.770453Z"
    },
    "papermill": {
     "duration": 0.035881,
     "end_time": "2020-12-25T00:18:48.770616",
     "exception": false,
     "start_time": "2020-12-25T00:18:48.734735",
     "status": "completed"
    },
    "tags": []
   },
   "outputs": [],
   "source": [
    "#hide\n",
    "# cols.insert(0, cols.pop())"
   ]
  },
  {
   "cell_type": "code",
   "execution_count": 30,
   "metadata": {
    "execution": {
     "iopub.execute_input": "2020-12-25T00:18:48.833484Z",
     "iopub.status.busy": "2020-12-25T00:18:48.832460Z",
     "iopub.status.idle": "2020-12-25T00:18:48.834558Z",
     "shell.execute_reply": "2020-12-25T00:18:48.835421Z"
    },
    "papermill": {
     "duration": 0.036884,
     "end_time": "2020-12-25T00:18:48.835640",
     "exception": false,
     "start_time": "2020-12-25T00:18:48.798756",
     "status": "completed"
    },
    "tags": []
   },
   "outputs": [],
   "source": [
    "#hide\n",
    "# g = g[cols]"
   ]
  },
  {
   "cell_type": "code",
   "execution_count": 31,
   "metadata": {
    "execution": {
     "iopub.execute_input": "2020-12-25T00:18:48.896405Z",
     "iopub.status.busy": "2020-12-25T00:18:48.895822Z",
     "iopub.status.idle": "2020-12-25T00:18:48.898236Z",
     "shell.execute_reply": "2020-12-25T00:18:48.897791Z"
    },
    "papermill": {
     "duration": 0.034986,
     "end_time": "2020-12-25T00:18:48.898354",
     "exception": false,
     "start_time": "2020-12-25T00:18:48.863368",
     "status": "completed"
    },
    "tags": []
   },
   "outputs": [],
   "source": [
    "#hide\n",
    "# g['continent'] = g['continent'].map(mapping['map.continent'])"
   ]
  },
  {
   "cell_type": "code",
   "execution_count": 32,
   "metadata": {
    "execution": {
     "iopub.execute_input": "2020-12-25T00:18:48.957005Z",
     "iopub.status.busy": "2020-12-25T00:18:48.956478Z",
     "iopub.status.idle": "2020-12-25T00:18:48.958769Z",
     "shell.execute_reply": "2020-12-25T00:18:48.958272Z"
    },
    "papermill": {
     "duration": 0.032471,
     "end_time": "2020-12-25T00:18:48.958893",
     "exception": false,
     "start_time": "2020-12-25T00:18:48.926422",
     "status": "completed"
    },
    "tags": []
   },
   "outputs": [],
   "source": [
    "#hide\n",
    "# g.head()"
   ]
  },
  {
   "cell_type": "code",
   "execution_count": 33,
   "metadata": {
    "execution": {
     "iopub.execute_input": "2020-12-25T00:18:49.020692Z",
     "iopub.status.busy": "2020-12-25T00:18:49.020106Z",
     "iopub.status.idle": "2020-12-25T00:18:49.022422Z",
     "shell.execute_reply": "2020-12-25T00:18:49.023030Z"
    },
    "papermill": {
     "duration": 0.035798,
     "end_time": "2020-12-25T00:18:49.023193",
     "exception": false,
     "start_time": "2020-12-25T00:18:48.987395",
     "status": "completed"
    },
    "tags": []
   },
   "outputs": [],
   "source": [
    "# hide\n",
    "# g['date'] = g['date'].astype('datetime64[ns]')"
   ]
  },
  {
   "cell_type": "code",
   "execution_count": 34,
   "metadata": {
    "execution": {
     "iopub.execute_input": "2020-12-25T00:18:49.087373Z",
     "iopub.status.busy": "2020-12-25T00:18:49.086745Z",
     "iopub.status.idle": "2020-12-25T00:18:49.088557Z",
     "shell.execute_reply": "2020-12-25T00:18:49.088969Z"
    },
    "papermill": {
     "duration": 0.035874,
     "end_time": "2020-12-25T00:18:49.089114",
     "exception": false,
     "start_time": "2020-12-25T00:18:49.053240",
     "status": "completed"
    },
    "tags": []
   },
   "outputs": [],
   "source": [
    "#hide\n",
    "# g['date'] = g.date.dt.dayofyear"
   ]
  },
  {
   "cell_type": "code",
   "execution_count": 35,
   "metadata": {
    "execution": {
     "iopub.execute_input": "2020-12-25T00:18:49.148309Z",
     "iopub.status.busy": "2020-12-25T00:18:49.147840Z",
     "iopub.status.idle": "2020-12-25T00:18:49.150613Z",
     "shell.execute_reply": "2020-12-25T00:18:49.150201Z"
    },
    "papermill": {
     "duration": 0.034777,
     "end_time": "2020-12-25T00:18:49.150718",
     "exception": false,
     "start_time": "2020-12-25T00:18:49.115941",
     "status": "completed"
    },
    "tags": []
   },
   "outputs": [],
   "source": [
    "#hide\n",
    "# g = g.rename(columns= {'continent':'group','country':'name','cases':'value'})"
   ]
  },
  {
   "cell_type": "code",
   "execution_count": 36,
   "metadata": {
    "execution": {
     "iopub.execute_input": "2020-12-25T00:18:49.210485Z",
     "iopub.status.busy": "2020-12-25T00:18:49.209901Z",
     "iopub.status.idle": "2020-12-25T00:18:49.211724Z",
     "shell.execute_reply": "2020-12-25T00:18:49.212134Z"
    },
    "papermill": {
     "duration": 0.033406,
     "end_time": "2020-12-25T00:18:49.212253",
     "exception": false,
     "start_time": "2020-12-25T00:18:49.178847",
     "status": "completed"
    },
    "tags": []
   },
   "outputs": [],
   "source": [
    "#hide\n",
    "# cols = ['name','group','day','value']"
   ]
  },
  {
   "cell_type": "code",
   "execution_count": 37,
   "metadata": {
    "execution": {
     "iopub.execute_input": "2020-12-25T00:18:49.268087Z",
     "iopub.status.busy": "2020-12-25T00:18:49.267607Z",
     "iopub.status.idle": "2020-12-25T00:18:49.270028Z",
     "shell.execute_reply": "2020-12-25T00:18:49.270578Z"
    },
    "papermill": {
     "duration": 0.032865,
     "end_time": "2020-12-25T00:18:49.270715",
     "exception": false,
     "start_time": "2020-12-25T00:18:49.237850",
     "status": "completed"
    },
    "tags": []
   },
   "outputs": [],
   "source": [
    "#hide\n",
    "# g.rename(columns= {'date':'day'},inplace = True)"
   ]
  },
  {
   "cell_type": "code",
   "execution_count": 38,
   "metadata": {
    "execution": {
     "iopub.execute_input": "2020-12-25T00:18:49.328960Z",
     "iopub.status.busy": "2020-12-25T00:18:49.328488Z",
     "iopub.status.idle": "2020-12-25T00:18:49.330692Z",
     "shell.execute_reply": "2020-12-25T00:18:49.331197Z"
    },
    "papermill": {
     "duration": 0.034581,
     "end_time": "2020-12-25T00:18:49.331331",
     "exception": false,
     "start_time": "2020-12-25T00:18:49.296750",
     "status": "completed"
    },
    "tags": []
   },
   "outputs": [],
   "source": [
    "#hide\n",
    "# g = g[cols]"
   ]
  },
  {
   "cell_type": "code",
   "execution_count": 39,
   "metadata": {
    "execution": {
     "iopub.execute_input": "2020-12-25T00:18:49.388827Z",
     "iopub.status.busy": "2020-12-25T00:18:49.388290Z",
     "iopub.status.idle": "2020-12-25T00:18:49.390574Z",
     "shell.execute_reply": "2020-12-25T00:18:49.391030Z"
    },
    "papermill": {
     "duration": 0.033401,
     "end_time": "2020-12-25T00:18:49.391142",
     "exception": false,
     "start_time": "2020-12-25T00:18:49.357741",
     "status": "completed"
    },
    "tags": []
   },
   "outputs": [],
   "source": [
    "# #hide\n",
    "# g = g[g.group.notna()]"
   ]
  },
  {
   "cell_type": "code",
   "execution_count": 40,
   "metadata": {
    "execution": {
     "iopub.execute_input": "2020-12-25T00:18:49.448924Z",
     "iopub.status.busy": "2020-12-25T00:18:49.448371Z",
     "iopub.status.idle": "2020-12-25T00:18:49.451019Z",
     "shell.execute_reply": "2020-12-25T00:18:49.450508Z"
    },
    "papermill": {
     "duration": 0.03286,
     "end_time": "2020-12-25T00:18:49.451140",
     "exception": false,
     "start_time": "2020-12-25T00:18:49.418280",
     "status": "completed"
    },
    "tags": []
   },
   "outputs": [],
   "source": [
    "# #hide\n",
    "# colors = dict(zip(\n",
    "#     [\"Oceania\", \"Europe\", \"Asia\", \"South America\", \"Middle East\", \"North America\", \"Africa\"],\n",
    "#     [\"#adb0ff\", \"#ffb3ff\", \"#90d595\", \"#e48381\", \"#aafbff\", \"#f7bb5f\", \"#eafb50\"]\n",
    "# ))\n",
    "# group_lk = g.set_index('name')['group'].to_dict()"
   ]
  },
  {
   "cell_type": "code",
   "execution_count": null,
   "metadata": {
    "papermill": {
     "duration": 0.027249,
     "end_time": "2020-12-25T00:18:49.507036",
     "exception": false,
     "start_time": "2020-12-25T00:18:49.479787",
     "status": "completed"
    },
    "tags": []
   },
   "outputs": [],
   "source": []
  },
  {
   "cell_type": "code",
   "execution_count": 41,
   "metadata": {
    "execution": {
     "iopub.execute_input": "2020-12-25T00:18:49.566716Z",
     "iopub.status.busy": "2020-12-25T00:18:49.566225Z",
     "iopub.status.idle": "2020-12-25T00:18:49.568861Z",
     "shell.execute_reply": "2020-12-25T00:18:49.569434Z"
    },
    "papermill": {
     "duration": 0.034798,
     "end_time": "2020-12-25T00:18:49.569586",
     "exception": false,
     "start_time": "2020-12-25T00:18:49.534788",
     "status": "completed"
    },
    "tags": []
   },
   "outputs": [],
   "source": [
    "# #hide\n",
    "# fig, ax = plt.subplots(figsize=(15, 8))\n",
    "\n",
    "# def draw_barchart(current_day):\n",
    "#     dff = g[g['day'].eq(current_day)].sort_values(by='value', ascending=True).tail(10)\n",
    "#     ax.clear()\n",
    "#     ax.barh(dff['name'], dff['value'], color=[colors[group_lk[x]] for x in dff['name']])\n",
    "#     dx = dff['value'].max() / 200\n",
    "    \n",
    "#     for i, (value, name) in enumerate(zip(dff['value'], dff['name'])):\n",
    "#         ax.text(value-dx, i,     name,           size=14, weight=600, ha='right', va='bottom')\n",
    "#         ax.text(value-dx, i-.25, group_lk[name], size=10, color='#444444', ha='right', va='baseline')\n",
    "#         ax.text(value+dx, i,     f'{value:,.0f}',  size=14, ha='left',  va='center')\n",
    "#     ax.text(1, 0.4, current_day, transform=ax.transAxes, color='#777777', size=46, ha='right', weight=800)\n",
    "#     ax.text(0, 1.06, 'Population (thousands)', transform=ax.transAxes, size=12, color='#777777')\n",
    "#     ax.xaxis.set_major_formatter(ticker.StrMethodFormatter('{x:,.0f}'))\n",
    "#     ax.xaxis.set_ticks_position('top')\n",
    "#     ax.tick_params(axis='x', colors='#777777', labelsize=12)\n",
    "#     ax.set_yticks([])\n",
    "#     ax.margins(0, 0.01)\n",
    "#     ax.grid(which='major', axis='x', linestyle='-')\n",
    "#     ax.set_axisbelow(True)\n",
    "    \n",
    "#     ax.text(0, 1.15, 'Coronavirus',\n",
    "#             transform=ax.transAxes, size=24, weight=600, ha='left', va='top')\n",
    "# #     ax.text(1, 0, 'by @pratapvardhan; credit @jburnmurdoch', transform=ax.transAxes, color='#777777', ha='right',\n",
    "# #             bbox=dict(facecolor='white', alpha=0.8, edgecolor='white'))\n",
    "#     plt.box(False)"
   ]
  },
  {
   "cell_type": "code",
   "execution_count": 42,
   "metadata": {
    "execution": {
     "iopub.execute_input": "2020-12-25T00:18:49.628875Z",
     "iopub.status.busy": "2020-12-25T00:18:49.628323Z",
     "iopub.status.idle": "2020-12-25T00:18:49.631915Z",
     "shell.execute_reply": "2020-12-25T00:18:49.632479Z"
    },
    "papermill": {
     "duration": 0.035195,
     "end_time": "2020-12-25T00:18:49.632617",
     "exception": false,
     "start_time": "2020-12-25T00:18:49.597422",
     "status": "completed"
    },
    "tags": []
   },
   "outputs": [],
   "source": [
    "# #hide_input\n",
    "# fig, ax = plt.subplots(figsize=(15, 8))\n",
    "# animator = animation.FuncAnimation(fig, draw_barchart, frames=range(g.day.values.min(), g.day.values.max()))\n",
    "# HTML(animator.to_jshtml())\n",
    "# # or use animator.to_html5_video() or animator.save() "
   ]
  },
  {
   "cell_type": "code",
   "execution_count": null,
   "metadata": {
    "papermill": {
     "duration": 0.025664,
     "end_time": "2020-12-25T00:18:49.684987",
     "exception": false,
     "start_time": "2020-12-25T00:18:49.659323",
     "status": "completed"
    },
    "tags": []
   },
   "outputs": [],
   "source": []
  },
  {
   "cell_type": "code",
   "execution_count": null,
   "metadata": {
    "papermill": {
     "duration": 0.027758,
     "end_time": "2020-12-25T00:18:49.739232",
     "exception": false,
     "start_time": "2020-12-25T00:18:49.711474",
     "status": "completed"
    },
    "tags": []
   },
   "outputs": [],
   "source": []
  },
  {
   "cell_type": "code",
   "execution_count": null,
   "metadata": {
    "papermill": {
     "duration": 0.027818,
     "end_time": "2020-12-25T00:18:49.793414",
     "exception": false,
     "start_time": "2020-12-25T00:18:49.765596",
     "status": "completed"
    },
    "tags": []
   },
   "outputs": [],
   "source": []
  }
 ],
 "metadata": {
  "kernelspec": {
   "display_name": "Python 3",
   "language": "python",
   "name": "python3"
  },
  "language_info": {
   "codemirror_mode": {
    "name": "ipython",
    "version": 3
   },
   "file_extension": ".py",
   "mimetype": "text/x-python",
   "name": "python",
   "nbconvert_exporter": "python",
   "pygments_lexer": "ipython3",
   "version": "3.6.12"
  },
  "papermill": {
   "duration": 6.939768,
   "end_time": "2020-12-25T00:18:50.128064",
   "environment_variables": {},
   "exception": null,
   "input_path": "2020-03-21-covid19exp.ipynb",
   "output_path": "2020-03-21-covid19exp.ipynb",
   "parameters": {},
   "start_time": "2020-12-25T00:18:43.188296",
   "version": "2.0.0"
  }
 },
 "nbformat": 4,
 "nbformat_minor": 4
}