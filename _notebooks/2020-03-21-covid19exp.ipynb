{
 "cells": [
  {
   "cell_type": "markdown",
   "id": "muslim-click",
   "metadata": {
    "papermill": {
     "duration": 0.038812,
     "end_time": "2021-10-03T12:10:47.331742",
     "exception": false,
     "start_time": "2021-10-03T12:10:47.292930",
     "status": "completed"
    },
    "tags": []
   },
   "source": [
    "# COVID-19 Case Race\n",
    "> A race chart to see rising cases around the world\n",
    "\n",
    "- author: Hargun Oberoi\n",
    "- image: images/covid-overview.png\n",
    "- hide: false\n",
    "- badges: false"
   ]
  },
  {
   "cell_type": "code",
   "execution_count": 1,
   "id": "proof-material",
   "metadata": {
    "execution": {
     "iopub.execute_input": "2021-10-03T12:10:47.414642Z",
     "iopub.status.busy": "2021-10-03T12:10:47.414114Z",
     "iopub.status.idle": "2021-10-03T12:10:47.764654Z",
     "shell.execute_reply": "2021-10-03T12:10:47.764130Z"
    },
    "papermill": {
     "duration": 0.395585,
     "end_time": "2021-10-03T12:10:47.764808",
     "exception": false,
     "start_time": "2021-10-03T12:10:47.369223",
     "status": "completed"
    },
    "tags": []
   },
   "outputs": [],
   "source": [
    "#hide\n",
    "import numpy as np\n",
    "import pandas as pd\n",
    "from jinja2 import Template\n",
    "from IPython.display import HTML"
   ]
  },
  {
   "cell_type": "code",
   "execution_count": 2,
   "id": "developed-terminology",
   "metadata": {
    "execution": {
     "iopub.execute_input": "2021-10-03T12:10:47.841930Z",
     "iopub.status.busy": "2021-10-03T12:10:47.841300Z",
     "iopub.status.idle": "2021-10-03T12:10:47.844478Z",
     "shell.execute_reply": "2021-10-03T12:10:47.845155Z"
    },
    "papermill": {
     "duration": 0.04584,
     "end_time": "2021-10-03T12:10:47.845312",
     "exception": false,
     "start_time": "2021-10-03T12:10:47.799472",
     "status": "completed"
    },
    "tags": []
   },
   "outputs": [],
   "source": [
    "#hide\n",
    "\n",
    "# FETCH\n",
    "base_url = 'https://raw.githubusercontent.com/pratapvardhan/notebooks/master/covid19/'\n",
    "paths = {\n",
    "    'mapping': base_url + 'mapping_countries.csv',\n",
    "    'overview': base_url + 'overview.tpl'\n",
    "}"
   ]
  },
  {
   "cell_type": "code",
   "execution_count": 3,
   "id": "dynamic-saver",
   "metadata": {
    "execution": {
     "iopub.execute_input": "2021-10-03T12:10:47.922030Z",
     "iopub.status.busy": "2021-10-03T12:10:47.921440Z",
     "iopub.status.idle": "2021-10-03T12:10:47.924633Z",
     "shell.execute_reply": "2021-10-03T12:10:47.924198Z"
    },
    "papermill": {
     "duration": 0.046222,
     "end_time": "2021-10-03T12:10:47.924747",
     "exception": false,
     "start_time": "2021-10-03T12:10:47.878525",
     "status": "completed"
    },
    "tags": []
   },
   "outputs": [
    {
     "data": {
      "text/plain": [
       "'https://raw.githubusercontent.com/pratapvardhan/notebooks/master/covid19/mapping_countries.csv'"
      ]
     },
     "execution_count": 3,
     "metadata": {},
     "output_type": "execute_result"
    }
   ],
   "source": [
    "#hide\n",
    "paths['mapping']"
   ]
  },
  {
   "cell_type": "code",
   "execution_count": 4,
   "id": "urban-software",
   "metadata": {
    "execution": {
     "iopub.execute_input": "2021-10-03T12:10:47.998542Z",
     "iopub.status.busy": "2021-10-03T12:10:47.997811Z",
     "iopub.status.idle": "2021-10-03T12:10:47.999388Z",
     "shell.execute_reply": "2021-10-03T12:10:47.999928Z"
    },
    "papermill": {
     "duration": 0.041861,
     "end_time": "2021-10-03T12:10:48.000063",
     "exception": false,
     "start_time": "2021-10-03T12:10:47.958202",
     "status": "completed"
    },
    "tags": []
   },
   "outputs": [],
   "source": [
    "#hide\n",
    "def get_mappings(url):\n",
    "    df = pd.read_csv(url)\n",
    "    return {\n",
    "        'df': df,\n",
    "        'replace.country': dict(df.dropna(subset=['Name']).set_index('Country')['Name']),\n",
    "        'map.continent': dict(df.set_index('Name')['Continent'])\n",
    "    }"
   ]
  },
  {
   "cell_type": "code",
   "execution_count": 5,
   "id": "intimate-machinery",
   "metadata": {
    "execution": {
     "iopub.execute_input": "2021-10-03T12:10:48.070723Z",
     "iopub.status.busy": "2021-10-03T12:10:48.070175Z",
     "iopub.status.idle": "2021-10-03T12:10:48.101225Z",
     "shell.execute_reply": "2021-10-03T12:10:48.100781Z"
    },
    "papermill": {
     "duration": 0.068366,
     "end_time": "2021-10-03T12:10:48.101343",
     "exception": false,
     "start_time": "2021-10-03T12:10:48.032977",
     "status": "completed"
    },
    "tags": []
   },
   "outputs": [],
   "source": [
    "#hide\n",
    "mapping = get_mappings(paths['mapping'])"
   ]
  },
  {
   "cell_type": "code",
   "execution_count": 6,
   "id": "certified-tactics",
   "metadata": {
    "execution": {
     "iopub.execute_input": "2021-10-03T12:10:48.172207Z",
     "iopub.status.busy": "2021-10-03T12:10:48.171480Z",
     "iopub.status.idle": "2021-10-03T12:10:48.172788Z",
     "shell.execute_reply": "2021-10-03T12:10:48.173318Z"
    },
    "papermill": {
     "duration": 0.040166,
     "end_time": "2021-10-03T12:10:48.173446",
     "exception": false,
     "start_time": "2021-10-03T12:10:48.133280",
     "status": "completed"
    },
    "tags": []
   },
   "outputs": [],
   "source": [
    "#hide\n",
    "def get_template(path):\n",
    "    from urllib.parse import urlparse\n",
    "    if bool(urlparse(path).netloc):\n",
    "        from urllib.request import urlopen\n",
    "        return urlopen(path).read().decode('utf8')\n",
    "    return open(path).read()"
   ]
  },
  {
   "cell_type": "code",
   "execution_count": 7,
   "id": "realistic-blast",
   "metadata": {
    "execution": {
     "iopub.execute_input": "2021-10-03T12:10:48.257397Z",
     "iopub.status.busy": "2021-10-03T12:10:48.256786Z",
     "iopub.status.idle": "2021-10-03T12:10:48.258592Z",
     "shell.execute_reply": "2021-10-03T12:10:48.259056Z"
    },
    "papermill": {
     "duration": 0.042786,
     "end_time": "2021-10-03T12:10:48.259186",
     "exception": false,
     "start_time": "2021-10-03T12:10:48.216400",
     "status": "completed"
    },
    "tags": []
   },
   "outputs": [],
   "source": [
    "#hide\n",
    "def get_frame(name):\n",
    "    url = (\n",
    "        'https://raw.githubusercontent.com/CSSEGISandData/COVID-19/master/csse_covid_19_data/'\n",
    "        f'csse_covid_19_time_series/time_series_covid19_{name}_global.csv')\n",
    "    df = pd.read_csv(url)\n",
    "    # rename countries\n",
    "    df['Country/Region'] = df['Country/Region'].replace(mapping['replace.country'])\n",
    "    return df"
   ]
  },
  {
   "cell_type": "code",
   "execution_count": 8,
   "id": "affiliated-characterization",
   "metadata": {
    "execution": {
     "iopub.execute_input": "2021-10-03T12:10:48.333933Z",
     "iopub.status.busy": "2021-10-03T12:10:48.333182Z",
     "iopub.status.idle": "2021-10-03T12:10:48.334909Z",
     "shell.execute_reply": "2021-10-03T12:10:48.335484Z"
    },
    "papermill": {
     "duration": 0.04346,
     "end_time": "2021-10-03T12:10:48.335624",
     "exception": false,
     "start_time": "2021-10-03T12:10:48.292164",
     "status": "completed"
    },
    "tags": []
   },
   "outputs": [],
   "source": [
    "#hide\n",
    "def get_dates(df):\n",
    "    dt_cols = df.columns[~df.columns.isin(['Province/State', 'Country/Region', 'Lat', 'Long'])]\n",
    "    LAST_DATE_I = -1\n",
    "    # sometimes last column may be empty, then go backwards\n",
    "    for i in range(-1, -len(dt_cols), -1):\n",
    "        if not df[dt_cols[i]].fillna(0).eq(0).all():\n",
    "            LAST_DATE_I = i\n",
    "            break\n",
    "    return LAST_DATE_I, dt_cols"
   ]
  },
  {
   "cell_type": "code",
   "execution_count": 9,
   "id": "recent-optimization",
   "metadata": {
    "execution": {
     "iopub.execute_input": "2021-10-03T12:10:48.407289Z",
     "iopub.status.busy": "2021-10-03T12:10:48.406647Z",
     "iopub.status.idle": "2021-10-03T12:10:48.728763Z",
     "shell.execute_reply": "2021-10-03T12:10:48.728196Z"
    },
    "papermill": {
     "duration": 0.360275,
     "end_time": "2021-10-03T12:10:48.728909",
     "exception": false,
     "start_time": "2021-10-03T12:10:48.368634",
     "status": "completed"
    },
    "tags": []
   },
   "outputs": [],
   "source": [
    "#hide\n",
    "COL_REGION = 'Country/Region'\n",
    "# Confirmed, Recovered, Deaths\n",
    "df = get_frame('confirmed')\n",
    "# dft_: timeseries, dfc_: today country agg\n",
    "dft_cases = df\n",
    "dft_deaths = get_frame('deaths')\n",
    "dft_recovered = get_frame('recovered')\n",
    "LAST_DATE_I, dt_cols = get_dates(df)"
   ]
  },
  {
   "cell_type": "code",
   "execution_count": 10,
   "id": "absolute-copper",
   "metadata": {
    "execution": {
     "iopub.execute_input": "2021-10-03T12:10:48.802669Z",
     "iopub.status.busy": "2021-10-03T12:10:48.802063Z",
     "iopub.status.idle": "2021-10-03T12:10:48.804879Z",
     "shell.execute_reply": "2021-10-03T12:10:48.805439Z"
    },
    "papermill": {
     "duration": 0.043878,
     "end_time": "2021-10-03T12:10:48.805575",
     "exception": false,
     "start_time": "2021-10-03T12:10:48.761697",
     "status": "completed"
    },
    "tags": []
   },
   "outputs": [],
   "source": [
    "#hide\n",
    "LAST_DATE_I, dt_cols = get_dates(df)\n",
    "dt_today =dt_cols[LAST_DATE_I]\n",
    "# dt_5day = dt_cols[LAST_DATE_I - 5]\n",
    "dt_yday = dt_cols[LAST_DATE_I - 1]"
   ]
  },
  {
   "cell_type": "code",
   "execution_count": 11,
   "id": "restricted-sheriff",
   "metadata": {
    "execution": {
     "iopub.execute_input": "2021-10-03T12:10:48.882650Z",
     "iopub.status.busy": "2021-10-03T12:10:48.882114Z",
     "iopub.status.idle": "2021-10-03T12:10:48.886831Z",
     "shell.execute_reply": "2021-10-03T12:10:48.886369Z"
    },
    "papermill": {
     "duration": 0.047407,
     "end_time": "2021-10-03T12:10:48.886943",
     "exception": false,
     "start_time": "2021-10-03T12:10:48.839536",
     "status": "completed"
    },
    "tags": []
   },
   "outputs": [],
   "source": [
    "#hide\n",
    "dfc_cases = dft_cases.groupby(COL_REGION)[dt_today].sum()\n",
    "dfc_deaths = dft_deaths.groupby(COL_REGION)[dt_today].sum()\n",
    "# dfp_cases = dft_cases.groupby(COL_REGION)[dt_5day].sum()\n",
    "# dfp_deaths = dft_deaths.groupby(COL_REGION)[dt_5day].sum()\n",
    "dfp_cases = dft_cases.groupby(COL_REGION)[dt_yday].sum()\n",
    "dfp_deaths = dft_deaths.groupby(COL_REGION)[dt_yday].sum()"
   ]
  },
  {
   "cell_type": "code",
   "execution_count": 12,
   "id": "deluxe-hepatitis",
   "metadata": {
    "execution": {
     "iopub.execute_input": "2021-10-03T12:10:48.966542Z",
     "iopub.status.busy": "2021-10-03T12:10:48.965970Z",
     "iopub.status.idle": "2021-10-03T12:10:48.971781Z",
     "shell.execute_reply": "2021-10-03T12:10:48.971138Z"
    },
    "papermill": {
     "duration": 0.050787,
     "end_time": "2021-10-03T12:10:48.971937",
     "exception": false,
     "start_time": "2021-10-03T12:10:48.921150",
     "status": "completed"
    },
    "tags": []
   },
   "outputs": [],
   "source": [
    "#hide\n",
    "df_table = (pd.DataFrame(dict(Cases = dfc_cases, Deaths = dfc_deaths, PCases = dfp_cases, PDeaths = dfp_deaths))\n",
    "            .sort_values(by = ['Cases','Deaths'], ascending = [False, False])\n",
    "            .reset_index())"
   ]
  },
  {
   "cell_type": "code",
   "execution_count": 13,
   "id": "educational-chancellor",
   "metadata": {
    "execution": {
     "iopub.execute_input": "2021-10-03T12:10:49.065784Z",
     "iopub.status.busy": "2021-10-03T12:10:49.065134Z",
     "iopub.status.idle": "2021-10-03T12:10:49.074660Z",
     "shell.execute_reply": "2021-10-03T12:10:49.074150Z"
    },
    "papermill": {
     "duration": 0.067423,
     "end_time": "2021-10-03T12:10:49.074784",
     "exception": false,
     "start_time": "2021-10-03T12:10:49.007361",
     "status": "completed"
    },
    "tags": []
   },
   "outputs": [
    {
     "data": {
      "text/html": [
       "<div>\n",
       "<style scoped>\n",
       "    .dataframe tbody tr th:only-of-type {\n",
       "        vertical-align: middle;\n",
       "    }\n",
       "\n",
       "    .dataframe tbody tr th {\n",
       "        vertical-align: top;\n",
       "    }\n",
       "\n",
       "    .dataframe thead th {\n",
       "        text-align: right;\n",
       "    }\n",
       "</style>\n",
       "<table border=\"1\" class=\"dataframe\">\n",
       "  <thead>\n",
       "    <tr style=\"text-align: right;\">\n",
       "      <th></th>\n",
       "      <th>Country/Region</th>\n",
       "      <th>Cases</th>\n",
       "      <th>Deaths</th>\n",
       "      <th>PCases</th>\n",
       "      <th>PDeaths</th>\n",
       "      <th>Cases (+)</th>\n",
       "      <th>Deaths (+)</th>\n",
       "      <th>Fatality Rate</th>\n",
       "      <th>Continent</th>\n",
       "    </tr>\n",
       "  </thead>\n",
       "  <tbody>\n",
       "    <tr>\n",
       "      <th>0</th>\n",
       "      <td>US</td>\n",
       "      <td>43657833</td>\n",
       "      <td>700932</td>\n",
       "      <td>43618627</td>\n",
       "      <td>700285</td>\n",
       "      <td>39206</td>\n",
       "      <td>647</td>\n",
       "      <td>1.61</td>\n",
       "      <td>North America</td>\n",
       "    </tr>\n",
       "    <tr>\n",
       "      <th>1</th>\n",
       "      <td>India</td>\n",
       "      <td>33813903</td>\n",
       "      <td>448817</td>\n",
       "      <td>33791061</td>\n",
       "      <td>448573</td>\n",
       "      <td>22842</td>\n",
       "      <td>244</td>\n",
       "      <td>1.33</td>\n",
       "      <td>Asia</td>\n",
       "    </tr>\n",
       "    <tr>\n",
       "      <th>2</th>\n",
       "      <td>Brazil</td>\n",
       "      <td>21459117</td>\n",
       "      <td>597723</td>\n",
       "      <td>21445651</td>\n",
       "      <td>597255</td>\n",
       "      <td>13466</td>\n",
       "      <td>468</td>\n",
       "      <td>2.79</td>\n",
       "      <td>South America</td>\n",
       "    </tr>\n",
       "    <tr>\n",
       "      <th>3</th>\n",
       "      <td>United Kingdom</td>\n",
       "      <td>7908091</td>\n",
       "      <td>137295</td>\n",
       "      <td>7878571</td>\n",
       "      <td>137171</td>\n",
       "      <td>29520</td>\n",
       "      <td>124</td>\n",
       "      <td>1.74</td>\n",
       "      <td>Europe</td>\n",
       "    </tr>\n",
       "    <tr>\n",
       "      <th>4</th>\n",
       "      <td>Russia</td>\n",
       "      <td>7449689</td>\n",
       "      <td>205297</td>\n",
       "      <td>7425057</td>\n",
       "      <td>204424</td>\n",
       "      <td>24632</td>\n",
       "      <td>873</td>\n",
       "      <td>2.76</td>\n",
       "      <td>Europe</td>\n",
       "    </tr>\n",
       "  </tbody>\n",
       "</table>\n",
       "</div>"
      ],
      "text/plain": [
       "   Country/Region     Cases  Deaths    PCases  PDeaths  Cases (+)  Deaths (+)  \\\n",
       "0              US  43657833  700932  43618627   700285      39206         647   \n",
       "1           India  33813903  448817  33791061   448573      22842         244   \n",
       "2          Brazil  21459117  597723  21445651   597255      13466         468   \n",
       "3  United Kingdom   7908091  137295   7878571   137171      29520         124   \n",
       "4          Russia   7449689  205297   7425057   204424      24632         873   \n",
       "\n",
       "   Fatality Rate      Continent  \n",
       "0           1.61  North America  \n",
       "1           1.33           Asia  \n",
       "2           2.79  South America  \n",
       "3           1.74         Europe  \n",
       "4           2.76         Europe  "
      ]
     },
     "execution_count": 13,
     "metadata": {},
     "output_type": "execute_result"
    }
   ],
   "source": [
    "#hide\n",
    "for c in 'Cases, Deaths'.split(', '):\n",
    "    df_table[f'{c} (+)'] = (df_table[c] - df_table[f'P{c}']).clip(0)\n",
    "    #Clip ça veut dire, les chiffres negatif sont interdit\n",
    "df_table['Fatality Rate'] = (100* df_table['Deaths']/ df_table['Cases']).round(2)\n",
    "df_table['Continent'] = df_table['Country/Region'].map(mapping['map.continent'])\n",
    "df_table.head(5)"
   ]
  },
  {
   "cell_type": "code",
   "execution_count": 14,
   "id": "aboriginal-bulgaria",
   "metadata": {
    "execution": {
     "iopub.execute_input": "2021-10-03T12:10:49.151156Z",
     "iopub.status.busy": "2021-10-03T12:10:49.150595Z",
     "iopub.status.idle": "2021-10-03T12:10:49.152485Z",
     "shell.execute_reply": "2021-10-03T12:10:49.152985Z"
    },
    "papermill": {
     "duration": 0.043537,
     "end_time": "2021-10-03T12:10:49.153126",
     "exception": false,
     "start_time": "2021-10-03T12:10:49.109589",
     "status": "completed"
    },
    "tags": []
   },
   "outputs": [],
   "source": [
    "#hide\n",
    "#delete problematic countries from table\n",
    "df_table = df_table[~df_table['Country/Region'].isin(['Cape Verde', 'Cruise Ship', 'Kosovo'])]"
   ]
  },
  {
   "cell_type": "code",
   "execution_count": 15,
   "id": "fantastic-effect",
   "metadata": {
    "execution": {
     "iopub.execute_input": "2021-10-03T12:10:49.227214Z",
     "iopub.status.busy": "2021-10-03T12:10:49.226603Z",
     "iopub.status.idle": "2021-10-03T12:10:49.245069Z",
     "shell.execute_reply": "2021-10-03T12:10:49.245792Z"
    },
    "papermill": {
     "duration": 0.059323,
     "end_time": "2021-10-03T12:10:49.245984",
     "exception": false,
     "start_time": "2021-10-03T12:10:49.186661",
     "status": "completed"
    },
    "tags": []
   },
   "outputs": [
    {
     "data": {
      "text/html": [
       "<div>\n",
       "<style scoped>\n",
       "    .dataframe tbody tr th:only-of-type {\n",
       "        vertical-align: middle;\n",
       "    }\n",
       "\n",
       "    .dataframe tbody tr th {\n",
       "        vertical-align: top;\n",
       "    }\n",
       "\n",
       "    .dataframe thead th {\n",
       "        text-align: right;\n",
       "    }\n",
       "</style>\n",
       "<table border=\"1\" class=\"dataframe\">\n",
       "  <thead>\n",
       "    <tr style=\"text-align: right;\">\n",
       "      <th></th>\n",
       "      <th>Country/Region</th>\n",
       "      <th>Cases</th>\n",
       "      <th>Deaths</th>\n",
       "      <th>PCases</th>\n",
       "      <th>PDeaths</th>\n",
       "      <th>Cases (+)</th>\n",
       "      <th>Deaths (+)</th>\n",
       "      <th>Fatality Rate</th>\n",
       "      <th>Continent</th>\n",
       "    </tr>\n",
       "  </thead>\n",
       "  <tbody>\n",
       "    <tr>\n",
       "      <th>0</th>\n",
       "      <td>US</td>\n",
       "      <td>43657833</td>\n",
       "      <td>700932</td>\n",
       "      <td>43618627</td>\n",
       "      <td>700285</td>\n",
       "      <td>39206</td>\n",
       "      <td>647</td>\n",
       "      <td>1.6</td>\n",
       "      <td>North America</td>\n",
       "    </tr>\n",
       "    <tr>\n",
       "      <th>1</th>\n",
       "      <td>India</td>\n",
       "      <td>33813903</td>\n",
       "      <td>448817</td>\n",
       "      <td>33791061</td>\n",
       "      <td>448573</td>\n",
       "      <td>22842</td>\n",
       "      <td>244</td>\n",
       "      <td>1.3</td>\n",
       "      <td>Asia</td>\n",
       "    </tr>\n",
       "    <tr>\n",
       "      <th>2</th>\n",
       "      <td>Brazil</td>\n",
       "      <td>21459117</td>\n",
       "      <td>597723</td>\n",
       "      <td>21445651</td>\n",
       "      <td>597255</td>\n",
       "      <td>13466</td>\n",
       "      <td>468</td>\n",
       "      <td>2.8</td>\n",
       "      <td>South America</td>\n",
       "    </tr>\n",
       "    <tr>\n",
       "      <th>3</th>\n",
       "      <td>United Kingdom</td>\n",
       "      <td>7908091</td>\n",
       "      <td>137295</td>\n",
       "      <td>7878571</td>\n",
       "      <td>137171</td>\n",
       "      <td>29520</td>\n",
       "      <td>124</td>\n",
       "      <td>1.7</td>\n",
       "      <td>Europe</td>\n",
       "    </tr>\n",
       "    <tr>\n",
       "      <th>4</th>\n",
       "      <td>Russia</td>\n",
       "      <td>7449689</td>\n",
       "      <td>205297</td>\n",
       "      <td>7425057</td>\n",
       "      <td>204424</td>\n",
       "      <td>24632</td>\n",
       "      <td>873</td>\n",
       "      <td>2.8</td>\n",
       "      <td>Europe</td>\n",
       "    </tr>\n",
       "  </tbody>\n",
       "</table>\n",
       "</div>"
      ],
      "text/plain": [
       "   Country/Region     Cases  Deaths    PCases  PDeaths  Cases (+)  Deaths (+)  \\\n",
       "0              US  43657833  700932  43618627   700285      39206         647   \n",
       "1           India  33813903  448817  33791061   448573      22842         244   \n",
       "2          Brazil  21459117  597723  21445651   597255      13466         468   \n",
       "3  United Kingdom   7908091  137295   7878571   137171      29520         124   \n",
       "4          Russia   7449689  205297   7425057   204424      24632         873   \n",
       "\n",
       "   Fatality Rate      Continent  \n",
       "0            1.6  North America  \n",
       "1            1.3           Asia  \n",
       "2            2.8  South America  \n",
       "3            1.7         Europe  \n",
       "4            2.8         Europe  "
      ]
     },
     "execution_count": 15,
     "metadata": {},
     "output_type": "execute_result"
    }
   ],
   "source": [
    "#hide\n",
    "df_table = (pd.DataFrame(dict(Cases=dfc_cases, Deaths=dfc_deaths, PCases=dfp_cases, PDeaths=dfp_deaths))\n",
    "             .sort_values(by=['Cases', 'Deaths'], ascending=[False, False])\n",
    "             .reset_index())\n",
    "df_table.rename(columns={'index': 'Country/Region'}, inplace=True)\n",
    "for c in 'Cases, Deaths'.split(', '):\n",
    "    df_table[f'{c} (+)'] = (df_table[c] - df_table[f'P{c}']).clip(0)  # DATA BUG\n",
    "df_table['Fatality Rate'] = (100 * df_table['Deaths'] / df_table['Cases']).round(1)\n",
    "df_table['Continent'] = df_table['Country/Region'].map(mapping['map.continent'])\n",
    "df_table.head(5)"
   ]
  },
  {
   "cell_type": "code",
   "execution_count": 16,
   "id": "fewer-occasion",
   "metadata": {
    "execution": {
     "iopub.execute_input": "2021-10-03T12:10:49.322515Z",
     "iopub.status.busy": "2021-10-03T12:10:49.321915Z",
     "iopub.status.idle": "2021-10-03T12:10:49.324044Z",
     "shell.execute_reply": "2021-10-03T12:10:49.323462Z"
    },
    "papermill": {
     "duration": 0.042715,
     "end_time": "2021-10-03T12:10:49.324166",
     "exception": false,
     "start_time": "2021-10-03T12:10:49.281451",
     "status": "completed"
    },
    "tags": []
   },
   "outputs": [],
   "source": [
    "#hide\n",
    "#delete problematic countries from table\n",
    "df_table = df_table[~df_table['Country/Region'].isin(['Cape Verde', 'Cruise Ship', 'Kosovo'])]"
   ]
  },
  {
   "cell_type": "code",
   "execution_count": 17,
   "id": "related-center",
   "metadata": {
    "execution": {
     "iopub.execute_input": "2021-10-03T12:10:49.418681Z",
     "iopub.status.busy": "2021-10-03T12:10:49.418047Z",
     "iopub.status.idle": "2021-10-03T12:10:49.420707Z",
     "shell.execute_reply": "2021-10-03T12:10:49.420224Z"
    },
    "papermill": {
     "duration": 0.061725,
     "end_time": "2021-10-03T12:10:49.420840",
     "exception": false,
     "start_time": "2021-10-03T12:10:49.359115",
     "status": "completed"
    },
    "tags": []
   },
   "outputs": [],
   "source": [
    "#hide\n",
    "metrics = [df_table.columns[index] for index in [1,2,5,6]]\n",
    "# s_china = df_table[df_table['Country/Region'].eq('China')][metrics].sum().add_prefix('China ')\n",
    "s_us = df_table[df_table['Country/Region'].eq('US')][metrics].sum().add_prefix('US ')\n",
    "s_eu = df_table[df_table['Continent'].eq('Europe')][metrics].sum().add_prefix('EU ')\n",
    "s_ind = df_table[df_table['Country/Region'].eq('India')][metrics].sum().add_prefix('India ')\n",
    "summary = {'updated': pd.to_datetime(dt_today), 'since': pd.to_datetime(dt_yday)}\n",
    "summary = {'updated': pd.to_datetime(dt_today), 'since': pd.to_datetime(dt_yday)}\n",
    "summary = {**summary, **df_table[metrics].sum(), **s_ind, **s_us, **s_eu}"
   ]
  },
  {
   "cell_type": "code",
   "execution_count": 18,
   "id": "engaging-syndrome",
   "metadata": {
    "execution": {
     "iopub.execute_input": "2021-10-03T12:10:49.497551Z",
     "iopub.status.busy": "2021-10-03T12:10:49.496957Z",
     "iopub.status.idle": "2021-10-03T12:10:49.512103Z",
     "shell.execute_reply": "2021-10-03T12:10:49.512557Z"
    },
    "papermill": {
     "duration": 0.056564,
     "end_time": "2021-10-03T12:10:49.512698",
     "exception": false,
     "start_time": "2021-10-03T12:10:49.456134",
     "status": "completed"
    },
    "tags": []
   },
   "outputs": [],
   "source": [
    "#hide\n",
    "dft_ct_new_cases = dft_cases.groupby(COL_REGION)[dt_cols].sum().diff(axis=1).fillna(0).astype(int)"
   ]
  },
  {
   "cell_type": "code",
   "execution_count": 19,
   "id": "neutral-assignment",
   "metadata": {
    "execution": {
     "iopub.execute_input": "2021-10-03T12:10:49.588237Z",
     "iopub.status.busy": "2021-10-03T12:10:49.587689Z",
     "iopub.status.idle": "2021-10-03T12:10:49.589948Z",
     "shell.execute_reply": "2021-10-03T12:10:49.589437Z"
    },
    "papermill": {
     "duration": 0.043071,
     "end_time": "2021-10-03T12:10:49.590069",
     "exception": false,
     "start_time": "2021-10-03T12:10:49.546998",
     "status": "completed"
    },
    "tags": []
   },
   "outputs": [],
   "source": [
    "#hide\n",
    "everydaycases = dft_ct_new_cases.cumsum(axis=1)"
   ]
  },
  {
   "cell_type": "code",
   "execution_count": 20,
   "id": "parliamentary-calgary",
   "metadata": {
    "execution": {
     "iopub.execute_input": "2021-10-03T12:10:49.662814Z",
     "iopub.status.busy": "2021-10-03T12:10:49.662216Z",
     "iopub.status.idle": "2021-10-03T12:10:50.335787Z",
     "shell.execute_reply": "2021-10-03T12:10:50.334601Z"
    },
    "papermill": {
     "duration": 0.712505,
     "end_time": "2021-10-03T12:10:50.335940",
     "exception": false,
     "start_time": "2021-10-03T12:10:49.623435",
     "status": "completed"
    },
    "tags": []
   },
   "outputs": [],
   "source": [
    "#hide\n",
    "import pandas as pd\n",
    "import matplotlib.pyplot as plt\n",
    "import matplotlib.ticker as ticker\n",
    "import matplotlib.animation as animation\n",
    "from IPython.display import HTML"
   ]
  },
  {
   "cell_type": "code",
   "execution_count": 21,
   "id": "lasting-extraction",
   "metadata": {
    "execution": {
     "iopub.execute_input": "2021-10-03T12:10:50.418142Z",
     "iopub.status.busy": "2021-10-03T12:10:50.417193Z",
     "iopub.status.idle": "2021-10-03T12:10:50.423339Z",
     "shell.execute_reply": "2021-10-03T12:10:50.422726Z"
    },
    "papermill": {
     "duration": 0.050307,
     "end_time": "2021-10-03T12:10:50.423467",
     "exception": false,
     "start_time": "2021-10-03T12:10:50.373160",
     "status": "completed"
    },
    "tags": []
   },
   "outputs": [],
   "source": [
    "#hide\n",
    "t = everydaycases.stack()"
   ]
  },
  {
   "cell_type": "code",
   "execution_count": 22,
   "id": "premier-sleeve",
   "metadata": {
    "execution": {
     "iopub.execute_input": "2021-10-03T12:10:50.496530Z",
     "iopub.status.busy": "2021-10-03T12:10:50.495968Z",
     "iopub.status.idle": "2021-10-03T12:10:50.506633Z",
     "shell.execute_reply": "2021-10-03T12:10:50.506036Z"
    },
    "papermill": {
     "duration": 0.048597,
     "end_time": "2021-10-03T12:10:50.506756",
     "exception": false,
     "start_time": "2021-10-03T12:10:50.458159",
     "status": "completed"
    },
    "tags": []
   },
   "outputs": [],
   "source": [
    "#hide\n",
    "g = t.reset_index(['Country/Region'])"
   ]
  },
  {
   "cell_type": "code",
   "execution_count": 23,
   "id": "distributed-pittsburgh",
   "metadata": {
    "execution": {
     "iopub.execute_input": "2021-10-03T12:10:50.580874Z",
     "iopub.status.busy": "2021-10-03T12:10:50.580327Z",
     "iopub.status.idle": "2021-10-03T12:10:50.583446Z",
     "shell.execute_reply": "2021-10-03T12:10:50.582950Z"
    },
    "papermill": {
     "duration": 0.042023,
     "end_time": "2021-10-03T12:10:50.583569",
     "exception": false,
     "start_time": "2021-10-03T12:10:50.541546",
     "status": "completed"
    },
    "tags": []
   },
   "outputs": [],
   "source": [
    "#hide\n",
    "g.index.name = 'date'"
   ]
  },
  {
   "cell_type": "code",
   "execution_count": 24,
   "id": "naked-donor",
   "metadata": {
    "execution": {
     "iopub.execute_input": "2021-10-03T12:10:50.657564Z",
     "iopub.status.busy": "2021-10-03T12:10:50.656974Z",
     "iopub.status.idle": "2021-10-03T12:10:50.659613Z",
     "shell.execute_reply": "2021-10-03T12:10:50.659176Z"
    },
    "papermill": {
     "duration": 0.040991,
     "end_time": "2021-10-03T12:10:50.659730",
     "exception": false,
     "start_time": "2021-10-03T12:10:50.618739",
     "status": "completed"
    },
    "tags": []
   },
   "outputs": [],
   "source": [
    "# #hide\n",
    "# g = g.reset_index(['date'])"
   ]
  },
  {
   "cell_type": "code",
   "execution_count": 25,
   "id": "incomplete-mustang",
   "metadata": {
    "execution": {
     "iopub.execute_input": "2021-10-03T12:10:50.732328Z",
     "iopub.status.busy": "2021-10-03T12:10:50.731746Z",
     "iopub.status.idle": "2021-10-03T12:10:50.734587Z",
     "shell.execute_reply": "2021-10-03T12:10:50.734114Z"
    },
    "papermill": {
     "duration": 0.041498,
     "end_time": "2021-10-03T12:10:50.734710",
     "exception": false,
     "start_time": "2021-10-03T12:10:50.693212",
     "status": "completed"
    },
    "tags": []
   },
   "outputs": [],
   "source": [
    "#hide\n",
    "# g.head()"
   ]
  },
  {
   "cell_type": "code",
   "execution_count": 26,
   "id": "specific-kruger",
   "metadata": {
    "execution": {
     "iopub.execute_input": "2021-10-03T12:10:50.807539Z",
     "iopub.status.busy": "2021-10-03T12:10:50.806945Z",
     "iopub.status.idle": "2021-10-03T12:10:50.809374Z",
     "shell.execute_reply": "2021-10-03T12:10:50.808939Z"
    },
    "papermill": {
     "duration": 0.040936,
     "end_time": "2021-10-03T12:10:50.809489",
     "exception": false,
     "start_time": "2021-10-03T12:10:50.768553",
     "status": "completed"
    },
    "tags": []
   },
   "outputs": [],
   "source": [
    "#hide\n",
    "# g.columns = ['date','country','cases']"
   ]
  },
  {
   "cell_type": "code",
   "execution_count": 27,
   "id": "tender-conversion",
   "metadata": {
    "execution": {
     "iopub.execute_input": "2021-10-03T12:10:50.883348Z",
     "iopub.status.busy": "2021-10-03T12:10:50.882735Z",
     "iopub.status.idle": "2021-10-03T12:10:50.885038Z",
     "shell.execute_reply": "2021-10-03T12:10:50.884567Z"
    },
    "papermill": {
     "duration": 0.040544,
     "end_time": "2021-10-03T12:10:50.885162",
     "exception": false,
     "start_time": "2021-10-03T12:10:50.844618",
     "status": "completed"
    },
    "tags": []
   },
   "outputs": [],
   "source": [
    "#hide\n",
    "# g['continent'] = g.country"
   ]
  },
  {
   "cell_type": "code",
   "execution_count": 28,
   "id": "substantial-wilderness",
   "metadata": {
    "execution": {
     "iopub.execute_input": "2021-10-03T12:10:50.959740Z",
     "iopub.status.busy": "2021-10-03T12:10:50.959147Z",
     "iopub.status.idle": "2021-10-03T12:10:50.961632Z",
     "shell.execute_reply": "2021-10-03T12:10:50.962220Z"
    },
    "papermill": {
     "duration": 0.042612,
     "end_time": "2021-10-03T12:10:50.962364",
     "exception": false,
     "start_time": "2021-10-03T12:10:50.919752",
     "status": "completed"
    },
    "tags": []
   },
   "outputs": [],
   "source": [
    "#hide\n",
    "# cols = list(g.columns.values)"
   ]
  },
  {
   "cell_type": "code",
   "execution_count": 29,
   "id": "solved-farming",
   "metadata": {
    "execution": {
     "iopub.execute_input": "2021-10-03T12:10:51.033333Z",
     "iopub.status.busy": "2021-10-03T12:10:51.032793Z",
     "iopub.status.idle": "2021-10-03T12:10:51.035321Z",
     "shell.execute_reply": "2021-10-03T12:10:51.035843Z"
    },
    "papermill": {
     "duration": 0.039751,
     "end_time": "2021-10-03T12:10:51.035961",
     "exception": false,
     "start_time": "2021-10-03T12:10:50.996210",
     "status": "completed"
    },
    "tags": []
   },
   "outputs": [],
   "source": [
    "#hide\n",
    "# cols.insert(0, cols.pop())"
   ]
  },
  {
   "cell_type": "code",
   "execution_count": 30,
   "id": "executed-adoption",
   "metadata": {
    "execution": {
     "iopub.execute_input": "2021-10-03T12:10:51.106141Z",
     "iopub.status.busy": "2021-10-03T12:10:51.105512Z",
     "iopub.status.idle": "2021-10-03T12:10:51.108677Z",
     "shell.execute_reply": "2021-10-03T12:10:51.108199Z"
    },
    "papermill": {
     "duration": 0.040542,
     "end_time": "2021-10-03T12:10:51.108791",
     "exception": false,
     "start_time": "2021-10-03T12:10:51.068249",
     "status": "completed"
    },
    "tags": []
   },
   "outputs": [],
   "source": [
    "#hide\n",
    "# g = g[cols]"
   ]
  },
  {
   "cell_type": "code",
   "execution_count": 31,
   "id": "subject-dublin",
   "metadata": {
    "execution": {
     "iopub.execute_input": "2021-10-03T12:10:51.179496Z",
     "iopub.status.busy": "2021-10-03T12:10:51.178917Z",
     "iopub.status.idle": "2021-10-03T12:10:51.180859Z",
     "shell.execute_reply": "2021-10-03T12:10:51.181356Z"
    },
    "papermill": {
     "duration": 0.040254,
     "end_time": "2021-10-03T12:10:51.181492",
     "exception": false,
     "start_time": "2021-10-03T12:10:51.141238",
     "status": "completed"
    },
    "tags": []
   },
   "outputs": [],
   "source": [
    "#hide\n",
    "# g['continent'] = g['continent'].map(mapping['map.continent'])"
   ]
  },
  {
   "cell_type": "code",
   "execution_count": 32,
   "id": "freelance-scout",
   "metadata": {
    "execution": {
     "iopub.execute_input": "2021-10-03T12:10:51.251674Z",
     "iopub.status.busy": "2021-10-03T12:10:51.251131Z",
     "iopub.status.idle": "2021-10-03T12:10:51.253559Z",
     "shell.execute_reply": "2021-10-03T12:10:51.253075Z"
    },
    "papermill": {
     "duration": 0.038892,
     "end_time": "2021-10-03T12:10:51.253670",
     "exception": false,
     "start_time": "2021-10-03T12:10:51.214778",
     "status": "completed"
    },
    "tags": []
   },
   "outputs": [],
   "source": [
    "#hide\n",
    "# g.head()"
   ]
  },
  {
   "cell_type": "code",
   "execution_count": 33,
   "id": "limited-engine",
   "metadata": {
    "execution": {
     "iopub.execute_input": "2021-10-03T12:10:51.321019Z",
     "iopub.status.busy": "2021-10-03T12:10:51.320440Z",
     "iopub.status.idle": "2021-10-03T12:10:51.322807Z",
     "shell.execute_reply": "2021-10-03T12:10:51.323325Z"
    },
    "papermill": {
     "duration": 0.038298,
     "end_time": "2021-10-03T12:10:51.323447",
     "exception": false,
     "start_time": "2021-10-03T12:10:51.285149",
     "status": "completed"
    },
    "tags": []
   },
   "outputs": [],
   "source": [
    "# hide\n",
    "# g['date'] = g['date'].astype('datetime64[ns]')"
   ]
  },
  {
   "cell_type": "code",
   "execution_count": 34,
   "id": "sophisticated-supervisor",
   "metadata": {
    "execution": {
     "iopub.execute_input": "2021-10-03T12:10:51.395891Z",
     "iopub.status.busy": "2021-10-03T12:10:51.395397Z",
     "iopub.status.idle": "2021-10-03T12:10:51.397238Z",
     "shell.execute_reply": "2021-10-03T12:10:51.397648Z"
    },
    "papermill": {
     "duration": 0.039821,
     "end_time": "2021-10-03T12:10:51.397788",
     "exception": false,
     "start_time": "2021-10-03T12:10:51.357967",
     "status": "completed"
    },
    "tags": []
   },
   "outputs": [],
   "source": [
    "#hide\n",
    "# g['date'] = g.date.dt.dayofyear"
   ]
  },
  {
   "cell_type": "code",
   "execution_count": 35,
   "id": "inside-dubai",
   "metadata": {
    "execution": {
     "iopub.execute_input": "2021-10-03T12:10:51.466710Z",
     "iopub.status.busy": "2021-10-03T12:10:51.466245Z",
     "iopub.status.idle": "2021-10-03T12:10:51.468608Z",
     "shell.execute_reply": "2021-10-03T12:10:51.468149Z"
    },
    "papermill": {
     "duration": 0.03834,
     "end_time": "2021-10-03T12:10:51.468720",
     "exception": false,
     "start_time": "2021-10-03T12:10:51.430380",
     "status": "completed"
    },
    "tags": []
   },
   "outputs": [],
   "source": [
    "#hide\n",
    "# g = g.rename(columns= {'continent':'group','country':'name','cases':'value'})"
   ]
  },
  {
   "cell_type": "code",
   "execution_count": 36,
   "id": "fleet-motorcycle",
   "metadata": {
    "execution": {
     "iopub.execute_input": "2021-10-03T12:10:51.541270Z",
     "iopub.status.busy": "2021-10-03T12:10:51.540732Z",
     "iopub.status.idle": "2021-10-03T12:10:51.542816Z",
     "shell.execute_reply": "2021-10-03T12:10:51.543347Z"
    },
    "papermill": {
     "duration": 0.04111,
     "end_time": "2021-10-03T12:10:51.543477",
     "exception": false,
     "start_time": "2021-10-03T12:10:51.502367",
     "status": "completed"
    },
    "tags": []
   },
   "outputs": [],
   "source": [
    "#hide\n",
    "# cols = ['name','group','day','value']"
   ]
  },
  {
   "cell_type": "code",
   "execution_count": 37,
   "id": "continued-sleeping",
   "metadata": {
    "execution": {
     "iopub.execute_input": "2021-10-03T12:10:51.614569Z",
     "iopub.status.busy": "2021-10-03T12:10:51.614052Z",
     "iopub.status.idle": "2021-10-03T12:10:51.617018Z",
     "shell.execute_reply": "2021-10-03T12:10:51.616540Z"
    },
    "papermill": {
     "duration": 0.04046,
     "end_time": "2021-10-03T12:10:51.617142",
     "exception": false,
     "start_time": "2021-10-03T12:10:51.576682",
     "status": "completed"
    },
    "tags": []
   },
   "outputs": [],
   "source": [
    "#hide\n",
    "# g.rename(columns= {'date':'day'},inplace = True)"
   ]
  },
  {
   "cell_type": "code",
   "execution_count": 38,
   "id": "major-fight",
   "metadata": {
    "execution": {
     "iopub.execute_input": "2021-10-03T12:10:51.689147Z",
     "iopub.status.busy": "2021-10-03T12:10:51.688541Z",
     "iopub.status.idle": "2021-10-03T12:10:51.690348Z",
     "shell.execute_reply": "2021-10-03T12:10:51.690782Z"
    },
    "papermill": {
     "duration": 0.04017,
     "end_time": "2021-10-03T12:10:51.690929",
     "exception": false,
     "start_time": "2021-10-03T12:10:51.650759",
     "status": "completed"
    },
    "tags": []
   },
   "outputs": [],
   "source": [
    "#hide\n",
    "# g = g[cols]"
   ]
  },
  {
   "cell_type": "code",
   "execution_count": 39,
   "id": "structured-mobile",
   "metadata": {
    "execution": {
     "iopub.execute_input": "2021-10-03T12:10:51.761554Z",
     "iopub.status.busy": "2021-10-03T12:10:51.760964Z",
     "iopub.status.idle": "2021-10-03T12:10:51.763356Z",
     "shell.execute_reply": "2021-10-03T12:10:51.762919Z"
    },
    "papermill": {
     "duration": 0.038886,
     "end_time": "2021-10-03T12:10:51.763470",
     "exception": false,
     "start_time": "2021-10-03T12:10:51.724584",
     "status": "completed"
    },
    "tags": []
   },
   "outputs": [],
   "source": [
    "# #hide\n",
    "# g = g[g.group.notna()]"
   ]
  },
  {
   "cell_type": "code",
   "execution_count": 40,
   "id": "determined-closing",
   "metadata": {
    "execution": {
     "iopub.execute_input": "2021-10-03T12:10:51.834126Z",
     "iopub.status.busy": "2021-10-03T12:10:51.833541Z",
     "iopub.status.idle": "2021-10-03T12:10:51.835599Z",
     "shell.execute_reply": "2021-10-03T12:10:51.836164Z"
    },
    "papermill": {
     "duration": 0.03938,
     "end_time": "2021-10-03T12:10:51.836298",
     "exception": false,
     "start_time": "2021-10-03T12:10:51.796918",
     "status": "completed"
    },
    "tags": []
   },
   "outputs": [],
   "source": [
    "# #hide\n",
    "# colors = dict(zip(\n",
    "#     [\"Oceania\", \"Europe\", \"Asia\", \"South America\", \"Middle East\", \"North America\", \"Africa\"],\n",
    "#     [\"#adb0ff\", \"#ffb3ff\", \"#90d595\", \"#e48381\", \"#aafbff\", \"#f7bb5f\", \"#eafb50\"]\n",
    "# ))\n",
    "# group_lk = g.set_index('name')['group'].to_dict()"
   ]
  },
  {
   "cell_type": "code",
   "execution_count": null,
   "id": "gross-drinking",
   "metadata": {
    "papermill": {
     "duration": 0.033867,
     "end_time": "2021-10-03T12:10:51.901864",
     "exception": false,
     "start_time": "2021-10-03T12:10:51.867997",
     "status": "completed"
    },
    "tags": []
   },
   "outputs": [],
   "source": []
  },
  {
   "cell_type": "code",
   "execution_count": 41,
   "id": "subject-macintosh",
   "metadata": {
    "execution": {
     "iopub.execute_input": "2021-10-03T12:10:51.974953Z",
     "iopub.status.busy": "2021-10-03T12:10:51.974377Z",
     "iopub.status.idle": "2021-10-03T12:10:51.976359Z",
     "shell.execute_reply": "2021-10-03T12:10:51.976824Z"
    },
    "papermill": {
     "duration": 0.041104,
     "end_time": "2021-10-03T12:10:51.976952",
     "exception": false,
     "start_time": "2021-10-03T12:10:51.935848",
     "status": "completed"
    },
    "tags": []
   },
   "outputs": [],
   "source": [
    "# #hide\n",
    "# fig, ax = plt.subplots(figsize=(15, 8))\n",
    "\n",
    "# def draw_barchart(current_day):\n",
    "#     dff = g[g['day'].eq(current_day)].sort_values(by='value', ascending=True).tail(10)\n",
    "#     ax.clear()\n",
    "#     ax.barh(dff['name'], dff['value'], color=[colors[group_lk[x]] for x in dff['name']])\n",
    "#     dx = dff['value'].max() / 200\n",
    "    \n",
    "#     for i, (value, name) in enumerate(zip(dff['value'], dff['name'])):\n",
    "#         ax.text(value-dx, i,     name,           size=14, weight=600, ha='right', va='bottom')\n",
    "#         ax.text(value-dx, i-.25, group_lk[name], size=10, color='#444444', ha='right', va='baseline')\n",
    "#         ax.text(value+dx, i,     f'{value:,.0f}',  size=14, ha='left',  va='center')\n",
    "#     ax.text(1, 0.4, current_day, transform=ax.transAxes, color='#777777', size=46, ha='right', weight=800)\n",
    "#     ax.text(0, 1.06, 'Population (thousands)', transform=ax.transAxes, size=12, color='#777777')\n",
    "#     ax.xaxis.set_major_formatter(ticker.StrMethodFormatter('{x:,.0f}'))\n",
    "#     ax.xaxis.set_ticks_position('top')\n",
    "#     ax.tick_params(axis='x', colors='#777777', labelsize=12)\n",
    "#     ax.set_yticks([])\n",
    "#     ax.margins(0, 0.01)\n",
    "#     ax.grid(which='major', axis='x', linestyle='-')\n",
    "#     ax.set_axisbelow(True)\n",
    "    \n",
    "#     ax.text(0, 1.15, 'Coronavirus',\n",
    "#             transform=ax.transAxes, size=24, weight=600, ha='left', va='top')\n",
    "# #     ax.text(1, 0, 'by @pratapvardhan; credit @jburnmurdoch', transform=ax.transAxes, color='#777777', ha='right',\n",
    "# #             bbox=dict(facecolor='white', alpha=0.8, edgecolor='white'))\n",
    "#     plt.box(False)"
   ]
  },
  {
   "cell_type": "code",
   "execution_count": 42,
   "id": "sexual-wages",
   "metadata": {
    "execution": {
     "iopub.execute_input": "2021-10-03T12:10:52.049084Z",
     "iopub.status.busy": "2021-10-03T12:10:52.048492Z",
     "iopub.status.idle": "2021-10-03T12:10:52.051215Z",
     "shell.execute_reply": "2021-10-03T12:10:52.050743Z"
    },
    "papermill": {
     "duration": 0.040312,
     "end_time": "2021-10-03T12:10:52.051341",
     "exception": false,
     "start_time": "2021-10-03T12:10:52.011029",
     "status": "completed"
    },
    "tags": []
   },
   "outputs": [],
   "source": [
    "# #hide_input\n",
    "# fig, ax = plt.subplots(figsize=(15, 8))\n",
    "# animator = animation.FuncAnimation(fig, draw_barchart, frames=range(g.day.values.min(), g.day.values.max()))\n",
    "# HTML(animator.to_jshtml())\n",
    "# # or use animator.to_html5_video() or animator.save() "
   ]
  },
  {
   "cell_type": "code",
   "execution_count": null,
   "id": "australian-container",
   "metadata": {
    "papermill": {
     "duration": 0.034451,
     "end_time": "2021-10-03T12:10:52.120871",
     "exception": false,
     "start_time": "2021-10-03T12:10:52.086420",
     "status": "completed"
    },
    "tags": []
   },
   "outputs": [],
   "source": []
  },
  {
   "cell_type": "code",
   "execution_count": null,
   "id": "mediterranean-pontiac",
   "metadata": {
    "papermill": {
     "duration": 0.034404,
     "end_time": "2021-10-03T12:10:52.188363",
     "exception": false,
     "start_time": "2021-10-03T12:10:52.153959",
     "status": "completed"
    },
    "tags": []
   },
   "outputs": [],
   "source": []
  },
  {
   "cell_type": "code",
   "execution_count": null,
   "id": "aging-legislature",
   "metadata": {
    "papermill": {
     "duration": 0.035284,
     "end_time": "2021-10-03T12:10:52.258020",
     "exception": false,
     "start_time": "2021-10-03T12:10:52.222736",
     "status": "completed"
    },
    "tags": []
   },
   "outputs": [],
   "source": []
  }
 ],
 "metadata": {
  "kernelspec": {
   "display_name": "Python 3",
   "language": "python",
   "name": "python3"
  },
  "language_info": {
   "codemirror_mode": {
    "name": "ipython",
    "version": 3
   },
   "file_extension": ".py",
   "mimetype": "text/x-python",
   "name": "python",
   "nbconvert_exporter": "python",
   "pygments_lexer": "ipython3",
   "version": "3.6.15"
  },
  "papermill": {
   "duration": 6.533217,
   "end_time": "2021-10-03T12:10:52.601391",
   "environment_variables": {},
   "exception": null,
   "input_path": "2020-03-21-covid19exp.ipynb",
   "output_path": "2020-03-21-covid19exp.ipynb",
   "parameters": {},
   "start_time": "2021-10-03T12:10:46.068174",
   "version": "2.0.0"
  }
 },
 "nbformat": 4,
 "nbformat_minor": 5
}