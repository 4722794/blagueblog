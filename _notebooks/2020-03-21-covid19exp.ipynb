{
 "cells": [
  {
   "cell_type": "markdown",
   "id": "muslim-click",
   "metadata": {
    "papermill": {
     "duration": 0.044024,
     "end_time": "2022-04-16T00:37:25.244503",
     "exception": false,
     "start_time": "2022-04-16T00:37:25.200479",
     "status": "completed"
    },
    "tags": []
   },
   "source": [
    "# COVID-19 Case Race\n",
    "> A race chart to see rising cases around the world\n",
    "\n",
    "- author: Hargun Oberoi\n",
    "- image: images/covid-overview.png\n",
    "- hide: false\n",
    "- badges: false"
   ]
  },
  {
   "cell_type": "code",
   "execution_count": 1,
   "id": "proof-material",
   "metadata": {
    "execution": {
     "iopub.execute_input": "2022-04-16T00:37:25.341604Z",
     "iopub.status.busy": "2022-04-16T00:37:25.340715Z",
     "iopub.status.idle": "2022-04-16T00:37:25.763814Z",
     "shell.execute_reply": "2022-04-16T00:37:25.762972Z"
    },
    "papermill": {
     "duration": 0.475408,
     "end_time": "2022-04-16T00:37:25.763985",
     "exception": false,
     "start_time": "2022-04-16T00:37:25.288577",
     "status": "completed"
    },
    "tags": []
   },
   "outputs": [],
   "source": [
    "#hide\n",
    "import numpy as np\n",
    "import pandas as pd\n",
    "from jinja2 import Template\n",
    "from IPython.display import HTML"
   ]
  },
  {
   "cell_type": "code",
   "execution_count": 2,
   "id": "developed-terminology",
   "metadata": {
    "execution": {
     "iopub.execute_input": "2022-04-16T00:37:25.853540Z",
     "iopub.status.busy": "2022-04-16T00:37:25.852720Z",
     "iopub.status.idle": "2022-04-16T00:37:25.855884Z",
     "shell.execute_reply": "2022-04-16T00:37:25.855191Z"
    },
    "papermill": {
     "duration": 0.051859,
     "end_time": "2022-04-16T00:37:25.856058",
     "exception": false,
     "start_time": "2022-04-16T00:37:25.804199",
     "status": "completed"
    },
    "tags": []
   },
   "outputs": [],
   "source": [
    "#hide\n",
    "\n",
    "# FETCH\n",
    "base_url = 'https://raw.githubusercontent.com/pratapvardhan/notebooks/master/covid19/'\n",
    "paths = {\n",
    "    'mapping': base_url + 'mapping_countries.csv',\n",
    "    'overview': base_url + 'overview.tpl'\n",
    "}"
   ]
  },
  {
   "cell_type": "code",
   "execution_count": 3,
   "id": "dynamic-saver",
   "metadata": {
    "execution": {
     "iopub.execute_input": "2022-04-16T00:37:25.945195Z",
     "iopub.status.busy": "2022-04-16T00:37:25.944404Z",
     "iopub.status.idle": "2022-04-16T00:37:25.951072Z",
     "shell.execute_reply": "2022-04-16T00:37:25.951671Z"
    },
    "papermill": {
     "duration": 0.056431,
     "end_time": "2022-04-16T00:37:25.951829",
     "exception": false,
     "start_time": "2022-04-16T00:37:25.895398",
     "status": "completed"
    },
    "tags": []
   },
   "outputs": [
    {
     "data": {
      "text/plain": [
       "'https://raw.githubusercontent.com/pratapvardhan/notebooks/master/covid19/mapping_countries.csv'"
      ]
     },
     "execution_count": 3,
     "metadata": {},
     "output_type": "execute_result"
    }
   ],
   "source": [
    "#hide\n",
    "paths['mapping']"
   ]
  },
  {
   "cell_type": "code",
   "execution_count": 4,
   "id": "urban-software",
   "metadata": {
    "execution": {
     "iopub.execute_input": "2022-04-16T00:37:26.037588Z",
     "iopub.status.busy": "2022-04-16T00:37:26.036857Z",
     "iopub.status.idle": "2022-04-16T00:37:26.040793Z",
     "shell.execute_reply": "2022-04-16T00:37:26.041306Z"
    },
    "papermill": {
     "duration": 0.049435,
     "end_time": "2022-04-16T00:37:26.041467",
     "exception": false,
     "start_time": "2022-04-16T00:37:25.992032",
     "status": "completed"
    },
    "tags": []
   },
   "outputs": [],
   "source": [
    "#hide\n",
    "def get_mappings(url):\n",
    "    df = pd.read_csv(url)\n",
    "    return {\n",
    "        'df': df,\n",
    "        'replace.country': dict(df.dropna(subset=['Name']).set_index('Country')['Name']),\n",
    "        'map.continent': dict(df.set_index('Name')['Continent'])\n",
    "    }"
   ]
  },
  {
   "cell_type": "code",
   "execution_count": 5,
   "id": "intimate-machinery",
   "metadata": {
    "execution": {
     "iopub.execute_input": "2022-04-16T00:37:26.138733Z",
     "iopub.status.busy": "2022-04-16T00:37:26.136022Z",
     "iopub.status.idle": "2022-04-16T00:37:26.169262Z",
     "shell.execute_reply": "2022-04-16T00:37:26.168619Z"
    },
    "papermill": {
     "duration": 0.082313,
     "end_time": "2022-04-16T00:37:26.169425",
     "exception": false,
     "start_time": "2022-04-16T00:37:26.087112",
     "status": "completed"
    },
    "tags": []
   },
   "outputs": [],
   "source": [
    "#hide\n",
    "mapping = get_mappings(paths['mapping'])"
   ]
  },
  {
   "cell_type": "code",
   "execution_count": 6,
   "id": "certified-tactics",
   "metadata": {
    "execution": {
     "iopub.execute_input": "2022-04-16T00:37:26.259448Z",
     "iopub.status.busy": "2022-04-16T00:37:26.258768Z",
     "iopub.status.idle": "2022-04-16T00:37:26.261291Z",
     "shell.execute_reply": "2022-04-16T00:37:26.260649Z"
    },
    "papermill": {
     "duration": 0.051004,
     "end_time": "2022-04-16T00:37:26.261422",
     "exception": false,
     "start_time": "2022-04-16T00:37:26.210418",
     "status": "completed"
    },
    "tags": []
   },
   "outputs": [],
   "source": [
    "#hide\n",
    "def get_template(path):\n",
    "    from urllib.parse import urlparse\n",
    "    if bool(urlparse(path).netloc):\n",
    "        from urllib.request import urlopen\n",
    "        return urlopen(path).read().decode('utf8')\n",
    "    return open(path).read()"
   ]
  },
  {
   "cell_type": "code",
   "execution_count": 7,
   "id": "realistic-blast",
   "metadata": {
    "execution": {
     "iopub.execute_input": "2022-04-16T00:37:26.351825Z",
     "iopub.status.busy": "2022-04-16T00:37:26.351030Z",
     "iopub.status.idle": "2022-04-16T00:37:26.353212Z",
     "shell.execute_reply": "2022-04-16T00:37:26.353742Z"
    },
    "papermill": {
     "duration": 0.052917,
     "end_time": "2022-04-16T00:37:26.353911",
     "exception": false,
     "start_time": "2022-04-16T00:37:26.300994",
     "status": "completed"
    },
    "tags": []
   },
   "outputs": [],
   "source": [
    "#hide\n",
    "def get_frame(name):\n",
    "    url = (\n",
    "        'https://raw.githubusercontent.com/CSSEGISandData/COVID-19/master/csse_covid_19_data/'\n",
    "        f'csse_covid_19_time_series/time_series_covid19_{name}_global.csv')\n",
    "    df = pd.read_csv(url)\n",
    "    # rename countries\n",
    "    df['Country/Region'] = df['Country/Region'].replace(mapping['replace.country'])\n",
    "    return df"
   ]
  },
  {
   "cell_type": "code",
   "execution_count": 8,
   "id": "affiliated-characterization",
   "metadata": {
    "execution": {
     "iopub.execute_input": "2022-04-16T00:37:26.440777Z",
     "iopub.status.busy": "2022-04-16T00:37:26.439952Z",
     "iopub.status.idle": "2022-04-16T00:37:26.442984Z",
     "shell.execute_reply": "2022-04-16T00:37:26.442449Z"
    },
    "papermill": {
     "duration": 0.048053,
     "end_time": "2022-04-16T00:37:26.443112",
     "exception": false,
     "start_time": "2022-04-16T00:37:26.395059",
     "status": "completed"
    },
    "tags": []
   },
   "outputs": [],
   "source": [
    "#hide\n",
    "def get_dates(df):\n",
    "    dt_cols = df.columns[~df.columns.isin(['Province/State', 'Country/Region', 'Lat', 'Long'])]\n",
    "    LAST_DATE_I = -1\n",
    "    # sometimes last column may be empty, then go backwards\n",
    "    for i in range(-1, -len(dt_cols), -1):\n",
    "        if not df[dt_cols[i]].fillna(0).eq(0).all():\n",
    "            LAST_DATE_I = i\n",
    "            break\n",
    "    return LAST_DATE_I, dt_cols"
   ]
  },
  {
   "cell_type": "code",
   "execution_count": 9,
   "id": "recent-optimization",
   "metadata": {
    "execution": {
     "iopub.execute_input": "2022-04-16T00:37:26.523923Z",
     "iopub.status.busy": "2022-04-16T00:37:26.523184Z",
     "iopub.status.idle": "2022-04-16T00:37:26.951776Z",
     "shell.execute_reply": "2022-04-16T00:37:26.950994Z"
    },
    "papermill": {
     "duration": 0.470116,
     "end_time": "2022-04-16T00:37:26.951971",
     "exception": false,
     "start_time": "2022-04-16T00:37:26.481855",
     "status": "completed"
    },
    "tags": []
   },
   "outputs": [],
   "source": [
    "#hide\n",
    "COL_REGION = 'Country/Region'\n",
    "# Confirmed, Recovered, Deaths\n",
    "df = get_frame('confirmed')\n",
    "# dft_: timeseries, dfc_: today country agg\n",
    "dft_cases = df\n",
    "dft_deaths = get_frame('deaths')\n",
    "dft_recovered = get_frame('recovered')\n",
    "LAST_DATE_I, dt_cols = get_dates(df)"
   ]
  },
  {
   "cell_type": "code",
   "execution_count": 10,
   "id": "absolute-copper",
   "metadata": {
    "execution": {
     "iopub.execute_input": "2022-04-16T00:37:27.035012Z",
     "iopub.status.busy": "2022-04-16T00:37:27.034169Z",
     "iopub.status.idle": "2022-04-16T00:37:27.036085Z",
     "shell.execute_reply": "2022-04-16T00:37:27.036851Z"
    },
    "papermill": {
     "duration": 0.046331,
     "end_time": "2022-04-16T00:37:27.037061",
     "exception": false,
     "start_time": "2022-04-16T00:37:26.990730",
     "status": "completed"
    },
    "tags": []
   },
   "outputs": [],
   "source": [
    "#hide\n",
    "LAST_DATE_I, dt_cols = get_dates(df)\n",
    "dt_today =dt_cols[LAST_DATE_I]\n",
    "# dt_5day = dt_cols[LAST_DATE_I - 5]\n",
    "dt_yday = dt_cols[LAST_DATE_I - 1]"
   ]
  },
  {
   "cell_type": "code",
   "execution_count": 11,
   "id": "restricted-sheriff",
   "metadata": {
    "execution": {
     "iopub.execute_input": "2022-04-16T00:37:27.132999Z",
     "iopub.status.busy": "2022-04-16T00:37:27.132312Z",
     "iopub.status.idle": "2022-04-16T00:37:27.139153Z",
     "shell.execute_reply": "2022-04-16T00:37:27.139861Z"
    },
    "papermill": {
     "duration": 0.054576,
     "end_time": "2022-04-16T00:37:27.140016",
     "exception": false,
     "start_time": "2022-04-16T00:37:27.085440",
     "status": "completed"
    },
    "tags": []
   },
   "outputs": [],
   "source": [
    "#hide\n",
    "dfc_cases = dft_cases.groupby(COL_REGION)[dt_today].sum()\n",
    "dfc_deaths = dft_deaths.groupby(COL_REGION)[dt_today].sum()\n",
    "# dfp_cases = dft_cases.groupby(COL_REGION)[dt_5day].sum()\n",
    "# dfp_deaths = dft_deaths.groupby(COL_REGION)[dt_5day].sum()\n",
    "dfp_cases = dft_cases.groupby(COL_REGION)[dt_yday].sum()\n",
    "dfp_deaths = dft_deaths.groupby(COL_REGION)[dt_yday].sum()"
   ]
  },
  {
   "cell_type": "code",
   "execution_count": 12,
   "id": "deluxe-hepatitis",
   "metadata": {
    "execution": {
     "iopub.execute_input": "2022-04-16T00:37:27.226451Z",
     "iopub.status.busy": "2022-04-16T00:37:27.225757Z",
     "iopub.status.idle": "2022-04-16T00:37:27.230804Z",
     "shell.execute_reply": "2022-04-16T00:37:27.231567Z"
    },
    "papermill": {
     "duration": 0.052022,
     "end_time": "2022-04-16T00:37:27.231750",
     "exception": false,
     "start_time": "2022-04-16T00:37:27.179728",
     "status": "completed"
    },
    "tags": []
   },
   "outputs": [],
   "source": [
    "#hide\n",
    "df_table = (pd.DataFrame(dict(Cases = dfc_cases, Deaths = dfc_deaths, PCases = dfp_cases, PDeaths = dfp_deaths))\n",
    "            .sort_values(by = ['Cases','Deaths'], ascending = [False, False])\n",
    "            .reset_index())"
   ]
  },
  {
   "cell_type": "code",
   "execution_count": 13,
   "id": "educational-chancellor",
   "metadata": {
    "execution": {
     "iopub.execute_input": "2022-04-16T00:37:27.336636Z",
     "iopub.status.busy": "2022-04-16T00:37:27.335913Z",
     "iopub.status.idle": "2022-04-16T00:37:27.345076Z",
     "shell.execute_reply": "2022-04-16T00:37:27.345599Z"
    },
    "papermill": {
     "duration": 0.069186,
     "end_time": "2022-04-16T00:37:27.345745",
     "exception": false,
     "start_time": "2022-04-16T00:37:27.276559",
     "status": "completed"
    },
    "tags": []
   },
   "outputs": [
    {
     "data": {
      "text/html": [
       "<div>\n",
       "<style scoped>\n",
       "    .dataframe tbody tr th:only-of-type {\n",
       "        vertical-align: middle;\n",
       "    }\n",
       "\n",
       "    .dataframe tbody tr th {\n",
       "        vertical-align: top;\n",
       "    }\n",
       "\n",
       "    .dataframe thead th {\n",
       "        text-align: right;\n",
       "    }\n",
       "</style>\n",
       "<table border=\"1\" class=\"dataframe\">\n",
       "  <thead>\n",
       "    <tr style=\"text-align: right;\">\n",
       "      <th></th>\n",
       "      <th>Country/Region</th>\n",
       "      <th>Cases</th>\n",
       "      <th>Deaths</th>\n",
       "      <th>PCases</th>\n",
       "      <th>PDeaths</th>\n",
       "      <th>Cases (+)</th>\n",
       "      <th>Deaths (+)</th>\n",
       "      <th>Fatality Rate</th>\n",
       "      <th>Continent</th>\n",
       "    </tr>\n",
       "  </thead>\n",
       "  <tbody>\n",
       "    <tr>\n",
       "      <th>0</th>\n",
       "      <td>US</td>\n",
       "      <td>80573532</td>\n",
       "      <td>988121</td>\n",
       "      <td>80518989</td>\n",
       "      <td>987343</td>\n",
       "      <td>54543</td>\n",
       "      <td>778</td>\n",
       "      <td>1.23</td>\n",
       "      <td>North America</td>\n",
       "    </tr>\n",
       "    <tr>\n",
       "      <th>1</th>\n",
       "      <td>India</td>\n",
       "      <td>43039972</td>\n",
       "      <td>521743</td>\n",
       "      <td>43039023</td>\n",
       "      <td>521737</td>\n",
       "      <td>949</td>\n",
       "      <td>6</td>\n",
       "      <td>1.21</td>\n",
       "      <td>Asia</td>\n",
       "    </tr>\n",
       "    <tr>\n",
       "      <th>2</th>\n",
       "      <td>Brazil</td>\n",
       "      <td>30234024</td>\n",
       "      <td>662043</td>\n",
       "      <td>30210934</td>\n",
       "      <td>661904</td>\n",
       "      <td>23090</td>\n",
       "      <td>139</td>\n",
       "      <td>2.19</td>\n",
       "      <td>South America</td>\n",
       "    </tr>\n",
       "    <tr>\n",
       "      <th>3</th>\n",
       "      <td>France</td>\n",
       "      <td>27637292</td>\n",
       "      <td>144947</td>\n",
       "      <td>27499728</td>\n",
       "      <td>144814</td>\n",
       "      <td>137564</td>\n",
       "      <td>133</td>\n",
       "      <td>0.52</td>\n",
       "      <td>Europe</td>\n",
       "    </tr>\n",
       "    <tr>\n",
       "      <th>4</th>\n",
       "      <td>Germany</td>\n",
       "      <td>23339311</td>\n",
       "      <td>132900</td>\n",
       "      <td>23182447</td>\n",
       "      <td>132688</td>\n",
       "      <td>156864</td>\n",
       "      <td>212</td>\n",
       "      <td>0.57</td>\n",
       "      <td>Europe</td>\n",
       "    </tr>\n",
       "  </tbody>\n",
       "</table>\n",
       "</div>"
      ],
      "text/plain": [
       "  Country/Region     Cases  Deaths    PCases  PDeaths  Cases (+)  Deaths (+)  \\\n",
       "0             US  80573532  988121  80518989   987343      54543         778   \n",
       "1          India  43039972  521743  43039023   521737        949           6   \n",
       "2         Brazil  30234024  662043  30210934   661904      23090         139   \n",
       "3         France  27637292  144947  27499728   144814     137564         133   \n",
       "4        Germany  23339311  132900  23182447   132688     156864         212   \n",
       "\n",
       "   Fatality Rate      Continent  \n",
       "0           1.23  North America  \n",
       "1           1.21           Asia  \n",
       "2           2.19  South America  \n",
       "3           0.52         Europe  \n",
       "4           0.57         Europe  "
      ]
     },
     "execution_count": 13,
     "metadata": {},
     "output_type": "execute_result"
    }
   ],
   "source": [
    "#hide\n",
    "for c in 'Cases, Deaths'.split(', '):\n",
    "    df_table[f'{c} (+)'] = (df_table[c] - df_table[f'P{c}']).clip(0)\n",
    "    #Clip ça veut dire, les chiffres negatif sont interdit\n",
    "df_table['Fatality Rate'] = (100* df_table['Deaths']/ df_table['Cases']).round(2)\n",
    "df_table['Continent'] = df_table['Country/Region'].map(mapping['map.continent'])\n",
    "df_table.head(5)"
   ]
  },
  {
   "cell_type": "code",
   "execution_count": 14,
   "id": "aboriginal-bulgaria",
   "metadata": {
    "execution": {
     "iopub.execute_input": "2022-04-16T00:37:27.432813Z",
     "iopub.status.busy": "2022-04-16T00:37:27.432159Z",
     "iopub.status.idle": "2022-04-16T00:37:27.434926Z",
     "shell.execute_reply": "2022-04-16T00:37:27.434370Z"
    },
    "papermill": {
     "duration": 0.048898,
     "end_time": "2022-04-16T00:37:27.435056",
     "exception": false,
     "start_time": "2022-04-16T00:37:27.386158",
     "status": "completed"
    },
    "tags": []
   },
   "outputs": [],
   "source": [
    "#hide\n",
    "#delete problematic countries from table\n",
    "df_table = df_table[~df_table['Country/Region'].isin(['Cape Verde', 'Cruise Ship', 'Kosovo'])]"
   ]
  },
  {
   "cell_type": "code",
   "execution_count": 15,
   "id": "fantastic-effect",
   "metadata": {
    "execution": {
     "iopub.execute_input": "2022-04-16T00:37:27.523790Z",
     "iopub.status.busy": "2022-04-16T00:37:27.523017Z",
     "iopub.status.idle": "2022-04-16T00:37:27.544769Z",
     "shell.execute_reply": "2022-04-16T00:37:27.545339Z"
    },
    "papermill": {
     "duration": 0.068735,
     "end_time": "2022-04-16T00:37:27.545487",
     "exception": false,
     "start_time": "2022-04-16T00:37:27.476752",
     "status": "completed"
    },
    "tags": []
   },
   "outputs": [
    {
     "data": {
      "text/html": [
       "<div>\n",
       "<style scoped>\n",
       "    .dataframe tbody tr th:only-of-type {\n",
       "        vertical-align: middle;\n",
       "    }\n",
       "\n",
       "    .dataframe tbody tr th {\n",
       "        vertical-align: top;\n",
       "    }\n",
       "\n",
       "    .dataframe thead th {\n",
       "        text-align: right;\n",
       "    }\n",
       "</style>\n",
       "<table border=\"1\" class=\"dataframe\">\n",
       "  <thead>\n",
       "    <tr style=\"text-align: right;\">\n",
       "      <th></th>\n",
       "      <th>Country/Region</th>\n",
       "      <th>Cases</th>\n",
       "      <th>Deaths</th>\n",
       "      <th>PCases</th>\n",
       "      <th>PDeaths</th>\n",
       "      <th>Cases (+)</th>\n",
       "      <th>Deaths (+)</th>\n",
       "      <th>Fatality Rate</th>\n",
       "      <th>Continent</th>\n",
       "    </tr>\n",
       "  </thead>\n",
       "  <tbody>\n",
       "    <tr>\n",
       "      <th>0</th>\n",
       "      <td>US</td>\n",
       "      <td>80573532</td>\n",
       "      <td>988121</td>\n",
       "      <td>80518989</td>\n",
       "      <td>987343</td>\n",
       "      <td>54543</td>\n",
       "      <td>778</td>\n",
       "      <td>1.2</td>\n",
       "      <td>North America</td>\n",
       "    </tr>\n",
       "    <tr>\n",
       "      <th>1</th>\n",
       "      <td>India</td>\n",
       "      <td>43039972</td>\n",
       "      <td>521743</td>\n",
       "      <td>43039023</td>\n",
       "      <td>521737</td>\n",
       "      <td>949</td>\n",
       "      <td>6</td>\n",
       "      <td>1.2</td>\n",
       "      <td>Asia</td>\n",
       "    </tr>\n",
       "    <tr>\n",
       "      <th>2</th>\n",
       "      <td>Brazil</td>\n",
       "      <td>30234024</td>\n",
       "      <td>662043</td>\n",
       "      <td>30210934</td>\n",
       "      <td>661904</td>\n",
       "      <td>23090</td>\n",
       "      <td>139</td>\n",
       "      <td>2.2</td>\n",
       "      <td>South America</td>\n",
       "    </tr>\n",
       "    <tr>\n",
       "      <th>3</th>\n",
       "      <td>France</td>\n",
       "      <td>27637292</td>\n",
       "      <td>144947</td>\n",
       "      <td>27499728</td>\n",
       "      <td>144814</td>\n",
       "      <td>137564</td>\n",
       "      <td>133</td>\n",
       "      <td>0.5</td>\n",
       "      <td>Europe</td>\n",
       "    </tr>\n",
       "    <tr>\n",
       "      <th>4</th>\n",
       "      <td>Germany</td>\n",
       "      <td>23339311</td>\n",
       "      <td>132900</td>\n",
       "      <td>23182447</td>\n",
       "      <td>132688</td>\n",
       "      <td>156864</td>\n",
       "      <td>212</td>\n",
       "      <td>0.6</td>\n",
       "      <td>Europe</td>\n",
       "    </tr>\n",
       "  </tbody>\n",
       "</table>\n",
       "</div>"
      ],
      "text/plain": [
       "  Country/Region     Cases  Deaths    PCases  PDeaths  Cases (+)  Deaths (+)  \\\n",
       "0             US  80573532  988121  80518989   987343      54543         778   \n",
       "1          India  43039972  521743  43039023   521737        949           6   \n",
       "2         Brazil  30234024  662043  30210934   661904      23090         139   \n",
       "3         France  27637292  144947  27499728   144814     137564         133   \n",
       "4        Germany  23339311  132900  23182447   132688     156864         212   \n",
       "\n",
       "   Fatality Rate      Continent  \n",
       "0            1.2  North America  \n",
       "1            1.2           Asia  \n",
       "2            2.2  South America  \n",
       "3            0.5         Europe  \n",
       "4            0.6         Europe  "
      ]
     },
     "execution_count": 15,
     "metadata": {},
     "output_type": "execute_result"
    }
   ],
   "source": [
    "#hide\n",
    "df_table = (pd.DataFrame(dict(Cases=dfc_cases, Deaths=dfc_deaths, PCases=dfp_cases, PDeaths=dfp_deaths))\n",
    "             .sort_values(by=['Cases', 'Deaths'], ascending=[False, False])\n",
    "             .reset_index())\n",
    "df_table.rename(columns={'index': 'Country/Region'}, inplace=True)\n",
    "for c in 'Cases, Deaths'.split(', '):\n",
    "    df_table[f'{c} (+)'] = (df_table[c] - df_table[f'P{c}']).clip(0)  # DATA BUG\n",
    "df_table['Fatality Rate'] = (100 * df_table['Deaths'] / df_table['Cases']).round(1)\n",
    "df_table['Continent'] = df_table['Country/Region'].map(mapping['map.continent'])\n",
    "df_table.head(5)"
   ]
  },
  {
   "cell_type": "code",
   "execution_count": 16,
   "id": "fewer-occasion",
   "metadata": {
    "execution": {
     "iopub.execute_input": "2022-04-16T00:37:27.631157Z",
     "iopub.status.busy": "2022-04-16T00:37:27.630338Z",
     "iopub.status.idle": "2022-04-16T00:37:27.633501Z",
     "shell.execute_reply": "2022-04-16T00:37:27.634122Z"
    },
    "papermill": {
     "duration": 0.048518,
     "end_time": "2022-04-16T00:37:27.634281",
     "exception": false,
     "start_time": "2022-04-16T00:37:27.585763",
     "status": "completed"
    },
    "tags": []
   },
   "outputs": [],
   "source": [
    "#hide\n",
    "#delete problematic countries from table\n",
    "df_table = df_table[~df_table['Country/Region'].isin(['Cape Verde', 'Cruise Ship', 'Kosovo'])]"
   ]
  },
  {
   "cell_type": "code",
   "execution_count": 17,
   "id": "related-center",
   "metadata": {
    "execution": {
     "iopub.execute_input": "2022-04-16T00:37:27.735309Z",
     "iopub.status.busy": "2022-04-16T00:37:27.734645Z",
     "iopub.status.idle": "2022-04-16T00:37:27.737638Z",
     "shell.execute_reply": "2022-04-16T00:37:27.736944Z"
    },
    "papermill": {
     "duration": 0.062603,
     "end_time": "2022-04-16T00:37:27.737763",
     "exception": false,
     "start_time": "2022-04-16T00:37:27.675160",
     "status": "completed"
    },
    "tags": []
   },
   "outputs": [],
   "source": [
    "#hide\n",
    "metrics = [df_table.columns[index] for index in [1,2,5,6]]\n",
    "# s_china = df_table[df_table['Country/Region'].eq('China')][metrics].sum().add_prefix('China ')\n",
    "s_us = df_table[df_table['Country/Region'].eq('US')][metrics].sum().add_prefix('US ')\n",
    "s_eu = df_table[df_table['Continent'].eq('Europe')][metrics].sum().add_prefix('EU ')\n",
    "s_ind = df_table[df_table['Country/Region'].eq('India')][metrics].sum().add_prefix('India ')\n",
    "summary = {'updated': pd.to_datetime(dt_today), 'since': pd.to_datetime(dt_yday)}\n",
    "summary = {'updated': pd.to_datetime(dt_today), 'since': pd.to_datetime(dt_yday)}\n",
    "summary = {**summary, **df_table[metrics].sum(), **s_ind, **s_us, **s_eu}"
   ]
  },
  {
   "cell_type": "code",
   "execution_count": 18,
   "id": "engaging-syndrome",
   "metadata": {
    "execution": {
     "iopub.execute_input": "2022-04-16T00:37:27.823172Z",
     "iopub.status.busy": "2022-04-16T00:37:27.822456Z",
     "iopub.status.idle": "2022-04-16T00:37:27.843716Z",
     "shell.execute_reply": "2022-04-16T00:37:27.844374Z"
    },
    "papermill": {
     "duration": 0.067167,
     "end_time": "2022-04-16T00:37:27.844563",
     "exception": false,
     "start_time": "2022-04-16T00:37:27.777396",
     "status": "completed"
    },
    "tags": []
   },
   "outputs": [],
   "source": [
    "#hide\n",
    "dft_ct_new_cases = dft_cases.groupby(COL_REGION)[dt_cols].sum().diff(axis=1).fillna(0).astype(int)"
   ]
  },
  {
   "cell_type": "code",
   "execution_count": 19,
   "id": "neutral-assignment",
   "metadata": {
    "execution": {
     "iopub.execute_input": "2022-04-16T00:37:27.932674Z",
     "iopub.status.busy": "2022-04-16T00:37:27.931998Z",
     "iopub.status.idle": "2022-04-16T00:37:27.934401Z",
     "shell.execute_reply": "2022-04-16T00:37:27.935036Z"
    },
    "papermill": {
     "duration": 0.049534,
     "end_time": "2022-04-16T00:37:27.935676",
     "exception": false,
     "start_time": "2022-04-16T00:37:27.886142",
     "status": "completed"
    },
    "tags": []
   },
   "outputs": [],
   "source": [
    "#hide\n",
    "everydaycases = dft_ct_new_cases.cumsum(axis=1)"
   ]
  },
  {
   "cell_type": "code",
   "execution_count": 20,
   "id": "parliamentary-calgary",
   "metadata": {
    "execution": {
     "iopub.execute_input": "2022-04-16T00:37:28.019484Z",
     "iopub.status.busy": "2022-04-16T00:37:28.018846Z",
     "iopub.status.idle": "2022-04-16T00:37:28.722350Z",
     "shell.execute_reply": "2022-04-16T00:37:28.721756Z"
    },
    "papermill": {
     "duration": 0.747498,
     "end_time": "2022-04-16T00:37:28.722525",
     "exception": false,
     "start_time": "2022-04-16T00:37:27.975027",
     "status": "completed"
    },
    "tags": []
   },
   "outputs": [],
   "source": [
    "#hide\n",
    "import pandas as pd\n",
    "import matplotlib.pyplot as plt\n",
    "import matplotlib.ticker as ticker\n",
    "import matplotlib.animation as animation\n",
    "from IPython.display import HTML"
   ]
  },
  {
   "cell_type": "code",
   "execution_count": 21,
   "id": "lasting-extraction",
   "metadata": {
    "execution": {
     "iopub.execute_input": "2022-04-16T00:37:28.812474Z",
     "iopub.status.busy": "2022-04-16T00:37:28.811782Z",
     "iopub.status.idle": "2022-04-16T00:37:28.818516Z",
     "shell.execute_reply": "2022-04-16T00:37:28.819142Z"
    },
    "papermill": {
     "duration": 0.055523,
     "end_time": "2022-04-16T00:37:28.819326",
     "exception": false,
     "start_time": "2022-04-16T00:37:28.763803",
     "status": "completed"
    },
    "tags": []
   },
   "outputs": [],
   "source": [
    "#hide\n",
    "t = everydaycases.stack()"
   ]
  },
  {
   "cell_type": "code",
   "execution_count": 22,
   "id": "premier-sleeve",
   "metadata": {
    "execution": {
     "iopub.execute_input": "2022-04-16T00:37:28.911061Z",
     "iopub.status.busy": "2022-04-16T00:37:28.910308Z",
     "iopub.status.idle": "2022-04-16T00:37:28.923975Z",
     "shell.execute_reply": "2022-04-16T00:37:28.923377Z"
    },
    "papermill": {
     "duration": 0.061931,
     "end_time": "2022-04-16T00:37:28.924116",
     "exception": false,
     "start_time": "2022-04-16T00:37:28.862185",
     "status": "completed"
    },
    "tags": []
   },
   "outputs": [],
   "source": [
    "#hide\n",
    "g = t.reset_index(['Country/Region'])"
   ]
  },
  {
   "cell_type": "code",
   "execution_count": 23,
   "id": "distributed-pittsburgh",
   "metadata": {
    "execution": {
     "iopub.execute_input": "2022-04-16T00:37:29.016208Z",
     "iopub.status.busy": "2022-04-16T00:37:29.015292Z",
     "iopub.status.idle": "2022-04-16T00:37:29.018643Z",
     "shell.execute_reply": "2022-04-16T00:37:29.019271Z"
    },
    "papermill": {
     "duration": 0.054626,
     "end_time": "2022-04-16T00:37:29.019590",
     "exception": false,
     "start_time": "2022-04-16T00:37:28.964964",
     "status": "completed"
    },
    "tags": []
   },
   "outputs": [],
   "source": [
    "#hide\n",
    "g.index.name = 'date'"
   ]
  },
  {
   "cell_type": "code",
   "execution_count": 24,
   "id": "naked-donor",
   "metadata": {
    "execution": {
     "iopub.execute_input": "2022-04-16T00:37:29.108966Z",
     "iopub.status.busy": "2022-04-16T00:37:29.107245Z",
     "iopub.status.idle": "2022-04-16T00:37:29.109722Z",
     "shell.execute_reply": "2022-04-16T00:37:29.110226Z"
    },
    "papermill": {
     "duration": 0.049675,
     "end_time": "2022-04-16T00:37:29.110384",
     "exception": false,
     "start_time": "2022-04-16T00:37:29.060709",
     "status": "completed"
    },
    "tags": []
   },
   "outputs": [],
   "source": [
    "# #hide\n",
    "# g = g.reset_index(['date'])"
   ]
  },
  {
   "cell_type": "code",
   "execution_count": 25,
   "id": "incomplete-mustang",
   "metadata": {
    "execution": {
     "iopub.execute_input": "2022-04-16T00:37:29.195918Z",
     "iopub.status.busy": "2022-04-16T00:37:29.195219Z",
     "iopub.status.idle": "2022-04-16T00:37:29.199426Z",
     "shell.execute_reply": "2022-04-16T00:37:29.198759Z"
    },
    "papermill": {
     "duration": 0.049206,
     "end_time": "2022-04-16T00:37:29.199585",
     "exception": false,
     "start_time": "2022-04-16T00:37:29.150379",
     "status": "completed"
    },
    "tags": []
   },
   "outputs": [],
   "source": [
    "#hide\n",
    "# g.head()"
   ]
  },
  {
   "cell_type": "code",
   "execution_count": 26,
   "id": "specific-kruger",
   "metadata": {
    "execution": {
     "iopub.execute_input": "2022-04-16T00:37:29.284582Z",
     "iopub.status.busy": "2022-04-16T00:37:29.283895Z",
     "iopub.status.idle": "2022-04-16T00:37:29.286606Z",
     "shell.execute_reply": "2022-04-16T00:37:29.287164Z"
    },
    "papermill": {
     "duration": 0.048136,
     "end_time": "2022-04-16T00:37:29.287356",
     "exception": false,
     "start_time": "2022-04-16T00:37:29.239220",
     "status": "completed"
    },
    "tags": []
   },
   "outputs": [],
   "source": [
    "#hide\n",
    "# g.columns = ['date','country','cases']"
   ]
  },
  {
   "cell_type": "code",
   "execution_count": 27,
   "id": "tender-conversion",
   "metadata": {
    "execution": {
     "iopub.execute_input": "2022-04-16T00:37:29.378327Z",
     "iopub.status.busy": "2022-04-16T00:37:29.377502Z",
     "iopub.status.idle": "2022-04-16T00:37:29.379718Z",
     "shell.execute_reply": "2022-04-16T00:37:29.378969Z"
    },
    "papermill": {
     "duration": 0.050165,
     "end_time": "2022-04-16T00:37:29.379862",
     "exception": false,
     "start_time": "2022-04-16T00:37:29.329697",
     "status": "completed"
    },
    "tags": []
   },
   "outputs": [],
   "source": [
    "#hide\n",
    "# g['continent'] = g.country"
   ]
  },
  {
   "cell_type": "code",
   "execution_count": 28,
   "id": "substantial-wilderness",
   "metadata": {
    "execution": {
     "iopub.execute_input": "2022-04-16T00:37:29.465309Z",
     "iopub.status.busy": "2022-04-16T00:37:29.464666Z",
     "iopub.status.idle": "2022-04-16T00:37:29.467153Z",
     "shell.execute_reply": "2022-04-16T00:37:29.466516Z"
    },
    "papermill": {
     "duration": 0.046113,
     "end_time": "2022-04-16T00:37:29.467282",
     "exception": false,
     "start_time": "2022-04-16T00:37:29.421169",
     "status": "completed"
    },
    "tags": []
   },
   "outputs": [],
   "source": [
    "#hide\n",
    "# cols = list(g.columns.values)"
   ]
  },
  {
   "cell_type": "code",
   "execution_count": 29,
   "id": "solved-farming",
   "metadata": {
    "execution": {
     "iopub.execute_input": "2022-04-16T00:37:29.552011Z",
     "iopub.status.busy": "2022-04-16T00:37:29.551382Z",
     "iopub.status.idle": "2022-04-16T00:37:29.554087Z",
     "shell.execute_reply": "2022-04-16T00:37:29.553386Z"
    },
    "papermill": {
     "duration": 0.046545,
     "end_time": "2022-04-16T00:37:29.554245",
     "exception": false,
     "start_time": "2022-04-16T00:37:29.507700",
     "status": "completed"
    },
    "tags": []
   },
   "outputs": [],
   "source": [
    "#hide\n",
    "# cols.insert(0, cols.pop())"
   ]
  },
  {
   "cell_type": "code",
   "execution_count": 30,
   "id": "executed-adoption",
   "metadata": {
    "execution": {
     "iopub.execute_input": "2022-04-16T00:37:29.638106Z",
     "iopub.status.busy": "2022-04-16T00:37:29.637446Z",
     "iopub.status.idle": "2022-04-16T00:37:29.639430Z",
     "shell.execute_reply": "2022-04-16T00:37:29.639999Z"
    },
    "papermill": {
     "duration": 0.046698,
     "end_time": "2022-04-16T00:37:29.640152",
     "exception": false,
     "start_time": "2022-04-16T00:37:29.593454",
     "status": "completed"
    },
    "tags": []
   },
   "outputs": [],
   "source": [
    "#hide\n",
    "# g = g[cols]"
   ]
  },
  {
   "cell_type": "code",
   "execution_count": 31,
   "id": "subject-dublin",
   "metadata": {
    "execution": {
     "iopub.execute_input": "2022-04-16T00:37:29.735463Z",
     "iopub.status.busy": "2022-04-16T00:37:29.734722Z",
     "iopub.status.idle": "2022-04-16T00:37:29.739036Z",
     "shell.execute_reply": "2022-04-16T00:37:29.738470Z"
    },
    "papermill": {
     "duration": 0.055477,
     "end_time": "2022-04-16T00:37:29.739166",
     "exception": false,
     "start_time": "2022-04-16T00:37:29.683689",
     "status": "completed"
    },
    "tags": []
   },
   "outputs": [],
   "source": [
    "#hide\n",
    "# g['continent'] = g['continent'].map(mapping['map.continent'])"
   ]
  },
  {
   "cell_type": "code",
   "execution_count": 32,
   "id": "freelance-scout",
   "metadata": {
    "execution": {
     "iopub.execute_input": "2022-04-16T00:37:29.823640Z",
     "iopub.status.busy": "2022-04-16T00:37:29.822756Z",
     "iopub.status.idle": "2022-04-16T00:37:29.825401Z",
     "shell.execute_reply": "2022-04-16T00:37:29.824755Z"
    },
    "papermill": {
     "duration": 0.046043,
     "end_time": "2022-04-16T00:37:29.825642",
     "exception": false,
     "start_time": "2022-04-16T00:37:29.779599",
     "status": "completed"
    },
    "tags": []
   },
   "outputs": [],
   "source": [
    "#hide\n",
    "# g.head()"
   ]
  },
  {
   "cell_type": "code",
   "execution_count": 33,
   "id": "limited-engine",
   "metadata": {
    "execution": {
     "iopub.execute_input": "2022-04-16T00:37:29.917993Z",
     "iopub.status.busy": "2022-04-16T00:37:29.917247Z",
     "iopub.status.idle": "2022-04-16T00:37:29.919704Z",
     "shell.execute_reply": "2022-04-16T00:37:29.920288Z"
    },
    "papermill": {
     "duration": 0.049475,
     "end_time": "2022-04-16T00:37:29.920450",
     "exception": false,
     "start_time": "2022-04-16T00:37:29.870975",
     "status": "completed"
    },
    "tags": []
   },
   "outputs": [],
   "source": [
    "# hide\n",
    "# g['date'] = g['date'].astype('datetime64[ns]')"
   ]
  },
  {
   "cell_type": "code",
   "execution_count": 34,
   "id": "sophisticated-supervisor",
   "metadata": {
    "execution": {
     "iopub.execute_input": "2022-04-16T00:37:30.008304Z",
     "iopub.status.busy": "2022-04-16T00:37:30.007494Z",
     "iopub.status.idle": "2022-04-16T00:37:30.010063Z",
     "shell.execute_reply": "2022-04-16T00:37:30.009560Z"
    },
    "papermill": {
     "duration": 0.047574,
     "end_time": "2022-04-16T00:37:30.010194",
     "exception": false,
     "start_time": "2022-04-16T00:37:29.962620",
     "status": "completed"
    },
    "tags": []
   },
   "outputs": [],
   "source": [
    "#hide\n",
    "# g['date'] = g.date.dt.dayofyear"
   ]
  },
  {
   "cell_type": "code",
   "execution_count": 35,
   "id": "inside-dubai",
   "metadata": {
    "execution": {
     "iopub.execute_input": "2022-04-16T00:37:30.094257Z",
     "iopub.status.busy": "2022-04-16T00:37:30.093577Z",
     "iopub.status.idle": "2022-04-16T00:37:30.098606Z",
     "shell.execute_reply": "2022-04-16T00:37:30.095661Z"
    },
    "papermill": {
     "duration": 0.048832,
     "end_time": "2022-04-16T00:37:30.098788",
     "exception": false,
     "start_time": "2022-04-16T00:37:30.049956",
     "status": "completed"
    },
    "tags": []
   },
   "outputs": [],
   "source": [
    "#hide\n",
    "# g = g.rename(columns= {'continent':'group','country':'name','cases':'value'})"
   ]
  },
  {
   "cell_type": "code",
   "execution_count": 36,
   "id": "fleet-motorcycle",
   "metadata": {
    "execution": {
     "iopub.execute_input": "2022-04-16T00:37:30.183589Z",
     "iopub.status.busy": "2022-04-16T00:37:30.182932Z",
     "iopub.status.idle": "2022-04-16T00:37:30.185838Z",
     "shell.execute_reply": "2022-04-16T00:37:30.185210Z"
    },
    "papermill": {
     "duration": 0.046544,
     "end_time": "2022-04-16T00:37:30.185964",
     "exception": false,
     "start_time": "2022-04-16T00:37:30.139420",
     "status": "completed"
    },
    "tags": []
   },
   "outputs": [],
   "source": [
    "#hide\n",
    "# cols = ['name','group','day','value']"
   ]
  },
  {
   "cell_type": "code",
   "execution_count": 37,
   "id": "continued-sleeping",
   "metadata": {
    "execution": {
     "iopub.execute_input": "2022-04-16T00:37:30.269964Z",
     "iopub.status.busy": "2022-04-16T00:37:30.269271Z",
     "iopub.status.idle": "2022-04-16T00:37:30.273239Z",
     "shell.execute_reply": "2022-04-16T00:37:30.273780Z"
    },
    "papermill": {
     "duration": 0.046666,
     "end_time": "2022-04-16T00:37:30.273944",
     "exception": false,
     "start_time": "2022-04-16T00:37:30.227278",
     "status": "completed"
    },
    "tags": []
   },
   "outputs": [],
   "source": [
    "#hide\n",
    "# g.rename(columns= {'date':'day'},inplace = True)"
   ]
  },
  {
   "cell_type": "code",
   "execution_count": 38,
   "id": "major-fight",
   "metadata": {
    "execution": {
     "iopub.execute_input": "2022-04-16T00:37:30.357360Z",
     "iopub.status.busy": "2022-04-16T00:37:30.356635Z",
     "iopub.status.idle": "2022-04-16T00:37:30.358515Z",
     "shell.execute_reply": "2022-04-16T00:37:30.359222Z"
    },
    "papermill": {
     "duration": 0.044885,
     "end_time": "2022-04-16T00:37:30.359400",
     "exception": false,
     "start_time": "2022-04-16T00:37:30.314515",
     "status": "completed"
    },
    "tags": []
   },
   "outputs": [],
   "source": [
    "#hide\n",
    "# g = g[cols]"
   ]
  },
  {
   "cell_type": "code",
   "execution_count": 39,
   "id": "structured-mobile",
   "metadata": {
    "execution": {
     "iopub.execute_input": "2022-04-16T00:37:30.439029Z",
     "iopub.status.busy": "2022-04-16T00:37:30.438456Z",
     "iopub.status.idle": "2022-04-16T00:37:30.440923Z",
     "shell.execute_reply": "2022-04-16T00:37:30.441539Z"
    },
    "papermill": {
     "duration": 0.044351,
     "end_time": "2022-04-16T00:37:30.441693",
     "exception": false,
     "start_time": "2022-04-16T00:37:30.397342",
     "status": "completed"
    },
    "tags": []
   },
   "outputs": [],
   "source": [
    "# #hide\n",
    "# g = g[g.group.notna()]"
   ]
  },
  {
   "cell_type": "code",
   "execution_count": 40,
   "id": "determined-closing",
   "metadata": {
    "execution": {
     "iopub.execute_input": "2022-04-16T00:37:30.527176Z",
     "iopub.status.busy": "2022-04-16T00:37:30.526393Z",
     "iopub.status.idle": "2022-04-16T00:37:30.528981Z",
     "shell.execute_reply": "2022-04-16T00:37:30.528330Z"
    },
    "papermill": {
     "duration": 0.047047,
     "end_time": "2022-04-16T00:37:30.529110",
     "exception": false,
     "start_time": "2022-04-16T00:37:30.482063",
     "status": "completed"
    },
    "tags": []
   },
   "outputs": [],
   "source": [
    "# #hide\n",
    "# colors = dict(zip(\n",
    "#     [\"Oceania\", \"Europe\", \"Asia\", \"South America\", \"Middle East\", \"North America\", \"Africa\"],\n",
    "#     [\"#adb0ff\", \"#ffb3ff\", \"#90d595\", \"#e48381\", \"#aafbff\", \"#f7bb5f\", \"#eafb50\"]\n",
    "# ))\n",
    "# group_lk = g.set_index('name')['group'].to_dict()"
   ]
  },
  {
   "cell_type": "code",
   "execution_count": null,
   "id": "gross-drinking",
   "metadata": {
    "papermill": {
     "duration": 0.040959,
     "end_time": "2022-04-16T00:37:30.609940",
     "exception": false,
     "start_time": "2022-04-16T00:37:30.568981",
     "status": "completed"
    },
    "tags": []
   },
   "outputs": [],
   "source": []
  },
  {
   "cell_type": "code",
   "execution_count": 41,
   "id": "subject-macintosh",
   "metadata": {
    "execution": {
     "iopub.execute_input": "2022-04-16T00:37:30.692783Z",
     "iopub.status.busy": "2022-04-16T00:37:30.691965Z",
     "iopub.status.idle": "2022-04-16T00:37:30.694335Z",
     "shell.execute_reply": "2022-04-16T00:37:30.694887Z"
    },
    "papermill": {
     "duration": 0.046125,
     "end_time": "2022-04-16T00:37:30.695028",
     "exception": false,
     "start_time": "2022-04-16T00:37:30.648903",
     "status": "completed"
    },
    "tags": []
   },
   "outputs": [],
   "source": [
    "# #hide\n",
    "# fig, ax = plt.subplots(figsize=(15, 8))\n",
    "\n",
    "# def draw_barchart(current_day):\n",
    "#     dff = g[g['day'].eq(current_day)].sort_values(by='value', ascending=True).tail(10)\n",
    "#     ax.clear()\n",
    "#     ax.barh(dff['name'], dff['value'], color=[colors[group_lk[x]] for x in dff['name']])\n",
    "#     dx = dff['value'].max() / 200\n",
    "    \n",
    "#     for i, (value, name) in enumerate(zip(dff['value'], dff['name'])):\n",
    "#         ax.text(value-dx, i,     name,           size=14, weight=600, ha='right', va='bottom')\n",
    "#         ax.text(value-dx, i-.25, group_lk[name], size=10, color='#444444', ha='right', va='baseline')\n",
    "#         ax.text(value+dx, i,     f'{value:,.0f}',  size=14, ha='left',  va='center')\n",
    "#     ax.text(1, 0.4, current_day, transform=ax.transAxes, color='#777777', size=46, ha='right', weight=800)\n",
    "#     ax.text(0, 1.06, 'Population (thousands)', transform=ax.transAxes, size=12, color='#777777')\n",
    "#     ax.xaxis.set_major_formatter(ticker.StrMethodFormatter('{x:,.0f}'))\n",
    "#     ax.xaxis.set_ticks_position('top')\n",
    "#     ax.tick_params(axis='x', colors='#777777', labelsize=12)\n",
    "#     ax.set_yticks([])\n",
    "#     ax.margins(0, 0.01)\n",
    "#     ax.grid(which='major', axis='x', linestyle='-')\n",
    "#     ax.set_axisbelow(True)\n",
    "    \n",
    "#     ax.text(0, 1.15, 'Coronavirus',\n",
    "#             transform=ax.transAxes, size=24, weight=600, ha='left', va='top')\n",
    "# #     ax.text(1, 0, 'by @pratapvardhan; credit @jburnmurdoch', transform=ax.transAxes, color='#777777', ha='right',\n",
    "# #             bbox=dict(facecolor='white', alpha=0.8, edgecolor='white'))\n",
    "#     plt.box(False)"
   ]
  },
  {
   "cell_type": "code",
   "execution_count": 42,
   "id": "sexual-wages",
   "metadata": {
    "execution": {
     "iopub.execute_input": "2022-04-16T00:37:30.777158Z",
     "iopub.status.busy": "2022-04-16T00:37:30.776466Z",
     "iopub.status.idle": "2022-04-16T00:37:30.780093Z",
     "shell.execute_reply": "2022-04-16T00:37:30.780622Z"
    },
    "papermill": {
     "duration": 0.046659,
     "end_time": "2022-04-16T00:37:30.780780",
     "exception": false,
     "start_time": "2022-04-16T00:37:30.734121",
     "status": "completed"
    },
    "tags": []
   },
   "outputs": [],
   "source": [
    "# #hide_input\n",
    "# fig, ax = plt.subplots(figsize=(15, 8))\n",
    "# animator = animation.FuncAnimation(fig, draw_barchart, frames=range(g.day.values.min(), g.day.values.max()))\n",
    "# HTML(animator.to_jshtml())\n",
    "# # or use animator.to_html5_video() or animator.save() "
   ]
  },
  {
   "cell_type": "code",
   "execution_count": null,
   "id": "australian-container",
   "metadata": {
    "papermill": {
     "duration": 0.03894,
     "end_time": "2022-04-16T00:37:30.859725",
     "exception": false,
     "start_time": "2022-04-16T00:37:30.820785",
     "status": "completed"
    },
    "tags": []
   },
   "outputs": [],
   "source": []
  },
  {
   "cell_type": "code",
   "execution_count": null,
   "id": "mediterranean-pontiac",
   "metadata": {
    "papermill": {
     "duration": 0.038378,
     "end_time": "2022-04-16T00:37:30.936755",
     "exception": false,
     "start_time": "2022-04-16T00:37:30.898377",
     "status": "completed"
    },
    "tags": []
   },
   "outputs": [],
   "source": []
  },
  {
   "cell_type": "code",
   "execution_count": null,
   "id": "aging-legislature",
   "metadata": {
    "papermill": {
     "duration": 0.039232,
     "end_time": "2022-04-16T00:37:31.015832",
     "exception": false,
     "start_time": "2022-04-16T00:37:30.976600",
     "status": "completed"
    },
    "tags": []
   },
   "outputs": [],
   "source": []
  }
 ],
 "metadata": {
  "kernelspec": {
   "display_name": "Python 3",
   "language": "python",
   "name": "python3"
  },
  "language_info": {
   "codemirror_mode": {
    "name": "ipython",
    "version": 3
   },
   "file_extension": ".py",
   "mimetype": "text/x-python",
   "name": "python",
   "nbconvert_exporter": "python",
   "pygments_lexer": "ipython3",
   "version": "3.6.15"
  },
  "papermill": {
   "duration": 7.533193,
   "end_time": "2022-04-16T00:37:31.374095",
   "environment_variables": {},
   "exception": null,
   "input_path": "2020-03-21-covid19exp.ipynb",
   "output_path": "2020-03-21-covid19exp.ipynb",
   "parameters": {},
   "start_time": "2022-04-16T00:37:23.840902",
   "version": "2.0.0"
  }
 },
 "nbformat": 4,
 "nbformat_minor": 5
}