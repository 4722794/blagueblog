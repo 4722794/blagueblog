{
 "cells": [
  {
   "cell_type": "markdown",
   "metadata": {
    "papermill": {
     "duration": 0.036794,
     "end_time": "2020-12-30T12:08:27.119130",
     "exception": false,
     "start_time": "2020-12-30T12:08:27.082336",
     "status": "completed"
    },
    "tags": []
   },
   "source": [
    "# COVID-19 Case Race\n",
    "> A race chart to see rising cases around the world\n",
    "\n",
    "- author: Hargun Oberoi\n",
    "- image: images/covid-overview.png\n",
    "- hide: false\n",
    "- badges: false"
   ]
  },
  {
   "cell_type": "code",
   "execution_count": 1,
   "metadata": {
    "execution": {
     "iopub.execute_input": "2020-12-30T12:08:27.195408Z",
     "iopub.status.busy": "2020-12-30T12:08:27.194807Z",
     "iopub.status.idle": "2020-12-30T12:08:27.563987Z",
     "shell.execute_reply": "2020-12-30T12:08:27.563135Z"
    },
    "papermill": {
     "duration": 0.407377,
     "end_time": "2020-12-30T12:08:27.564184",
     "exception": false,
     "start_time": "2020-12-30T12:08:27.156807",
     "status": "completed"
    },
    "tags": []
   },
   "outputs": [],
   "source": [
    "#hide\n",
    "import numpy as np\n",
    "import pandas as pd\n",
    "from jinja2 import Template\n",
    "from IPython.display import HTML"
   ]
  },
  {
   "cell_type": "code",
   "execution_count": 2,
   "metadata": {
    "execution": {
     "iopub.execute_input": "2020-12-30T12:08:27.641777Z",
     "iopub.status.busy": "2020-12-30T12:08:27.641131Z",
     "iopub.status.idle": "2020-12-30T12:08:27.643904Z",
     "shell.execute_reply": "2020-12-30T12:08:27.643388Z"
    },
    "papermill": {
     "duration": 0.037355,
     "end_time": "2020-12-30T12:08:27.644039",
     "exception": false,
     "start_time": "2020-12-30T12:08:27.606684",
     "status": "completed"
    },
    "tags": []
   },
   "outputs": [],
   "source": [
    "#hide\n",
    "\n",
    "# FETCH\n",
    "base_url = 'https://raw.githubusercontent.com/pratapvardhan/notebooks/master/covid19/'\n",
    "paths = {\n",
    "    'mapping': base_url + 'mapping_countries.csv',\n",
    "    'overview': base_url + 'overview.tpl'\n",
    "}"
   ]
  },
  {
   "cell_type": "code",
   "execution_count": 3,
   "metadata": {
    "execution": {
     "iopub.execute_input": "2020-12-30T12:08:27.716437Z",
     "iopub.status.busy": "2020-12-30T12:08:27.715845Z",
     "iopub.status.idle": "2020-12-30T12:08:27.719202Z",
     "shell.execute_reply": "2020-12-30T12:08:27.719762Z"
    },
    "papermill": {
     "duration": 0.046114,
     "end_time": "2020-12-30T12:08:27.719913",
     "exception": false,
     "start_time": "2020-12-30T12:08:27.673799",
     "status": "completed"
    },
    "tags": []
   },
   "outputs": [
    {
     "data": {
      "text/plain": [
       "'https://raw.githubusercontent.com/pratapvardhan/notebooks/master/covid19/mapping_countries.csv'"
      ]
     },
     "execution_count": 3,
     "metadata": {},
     "output_type": "execute_result"
    }
   ],
   "source": [
    "#hide\n",
    "paths['mapping']"
   ]
  },
  {
   "cell_type": "code",
   "execution_count": 4,
   "metadata": {
    "execution": {
     "iopub.execute_input": "2020-12-30T12:08:27.786661Z",
     "iopub.status.busy": "2020-12-30T12:08:27.786041Z",
     "iopub.status.idle": "2020-12-30T12:08:27.788383Z",
     "shell.execute_reply": "2020-12-30T12:08:27.791955Z"
    },
    "papermill": {
     "duration": 0.042385,
     "end_time": "2020-12-30T12:08:27.792690",
     "exception": false,
     "start_time": "2020-12-30T12:08:27.750305",
     "status": "completed"
    },
    "tags": []
   },
   "outputs": [],
   "source": [
    "#hide\n",
    "def get_mappings(url):\n",
    "    df = pd.read_csv(url)\n",
    "    return {\n",
    "        'df': df,\n",
    "        'replace.country': dict(df.dropna(subset=['Name']).set_index('Country')['Name']),\n",
    "        'map.continent': dict(df.set_index('Name')['Continent'])\n",
    "    }"
   ]
  },
  {
   "cell_type": "code",
   "execution_count": 5,
   "metadata": {
    "execution": {
     "iopub.execute_input": "2020-12-30T12:08:27.861231Z",
     "iopub.status.busy": "2020-12-30T12:08:27.860632Z",
     "iopub.status.idle": "2020-12-30T12:08:27.914395Z",
     "shell.execute_reply": "2020-12-30T12:08:27.913740Z"
    },
    "papermill": {
     "duration": 0.08904,
     "end_time": "2020-12-30T12:08:27.914553",
     "exception": false,
     "start_time": "2020-12-30T12:08:27.825513",
     "status": "completed"
    },
    "tags": []
   },
   "outputs": [],
   "source": [
    "#hide\n",
    "mapping = get_mappings(paths['mapping'])"
   ]
  },
  {
   "cell_type": "code",
   "execution_count": 6,
   "metadata": {
    "execution": {
     "iopub.execute_input": "2020-12-30T12:08:27.981463Z",
     "iopub.status.busy": "2020-12-30T12:08:27.980824Z",
     "iopub.status.idle": "2020-12-30T12:08:27.982857Z",
     "shell.execute_reply": "2020-12-30T12:08:27.983330Z"
    },
    "papermill": {
     "duration": 0.03777,
     "end_time": "2020-12-30T12:08:27.983483",
     "exception": false,
     "start_time": "2020-12-30T12:08:27.945713",
     "status": "completed"
    },
    "tags": []
   },
   "outputs": [],
   "source": [
    "#hide\n",
    "def get_template(path):\n",
    "    from urllib.parse import urlparse\n",
    "    if bool(urlparse(path).netloc):\n",
    "        from urllib.request import urlopen\n",
    "        return urlopen(path).read().decode('utf8')\n",
    "    return open(path).read()"
   ]
  },
  {
   "cell_type": "code",
   "execution_count": 7,
   "metadata": {
    "execution": {
     "iopub.execute_input": "2020-12-30T12:08:28.048801Z",
     "iopub.status.busy": "2020-12-30T12:08:28.048199Z",
     "iopub.status.idle": "2020-12-30T12:08:28.051003Z",
     "shell.execute_reply": "2020-12-30T12:08:28.050525Z"
    },
    "papermill": {
     "duration": 0.037691,
     "end_time": "2020-12-30T12:08:28.051141",
     "exception": false,
     "start_time": "2020-12-30T12:08:28.013450",
     "status": "completed"
    },
    "tags": []
   },
   "outputs": [],
   "source": [
    "#hide\n",
    "def get_frame(name):\n",
    "    url = (\n",
    "        'https://raw.githubusercontent.com/CSSEGISandData/COVID-19/master/csse_covid_19_data/'\n",
    "        f'csse_covid_19_time_series/time_series_covid19_{name}_global.csv')\n",
    "    df = pd.read_csv(url)\n",
    "    # rename countries\n",
    "    df['Country/Region'] = df['Country/Region'].replace(mapping['replace.country'])\n",
    "    return df"
   ]
  },
  {
   "cell_type": "code",
   "execution_count": 8,
   "metadata": {
    "execution": {
     "iopub.execute_input": "2020-12-30T12:08:28.118084Z",
     "iopub.status.busy": "2020-12-30T12:08:28.117399Z",
     "iopub.status.idle": "2020-12-30T12:08:28.118712Z",
     "shell.execute_reply": "2020-12-30T12:08:28.119257Z"
    },
    "papermill": {
     "duration": 0.037998,
     "end_time": "2020-12-30T12:08:28.119406",
     "exception": false,
     "start_time": "2020-12-30T12:08:28.081408",
     "status": "completed"
    },
    "tags": []
   },
   "outputs": [],
   "source": [
    "#hide\n",
    "def get_dates(df):\n",
    "    dt_cols = df.columns[~df.columns.isin(['Province/State', 'Country/Region', 'Lat', 'Long'])]\n",
    "    LAST_DATE_I = -1\n",
    "    # sometimes last column may be empty, then go backwards\n",
    "    for i in range(-1, -len(dt_cols), -1):\n",
    "        if not df[dt_cols[i]].fillna(0).eq(0).all():\n",
    "            LAST_DATE_I = i\n",
    "            break\n",
    "    return LAST_DATE_I, dt_cols"
   ]
  },
  {
   "cell_type": "code",
   "execution_count": 9,
   "metadata": {
    "execution": {
     "iopub.execute_input": "2020-12-30T12:08:28.183956Z",
     "iopub.status.busy": "2020-12-30T12:08:28.183364Z",
     "iopub.status.idle": "2020-12-30T12:08:28.554820Z",
     "shell.execute_reply": "2020-12-30T12:08:28.553860Z"
    },
    "papermill": {
     "duration": 0.40592,
     "end_time": "2020-12-30T12:08:28.554974",
     "exception": false,
     "start_time": "2020-12-30T12:08:28.149054",
     "status": "completed"
    },
    "tags": []
   },
   "outputs": [],
   "source": [
    "#hide\n",
    "COL_REGION = 'Country/Region'\n",
    "# Confirmed, Recovered, Deaths\n",
    "df = get_frame('confirmed')\n",
    "# dft_: timeseries, dfc_: today country agg\n",
    "dft_cases = df\n",
    "dft_deaths = get_frame('deaths')\n",
    "dft_recovered = get_frame('recovered')\n",
    "LAST_DATE_I, dt_cols = get_dates(df)"
   ]
  },
  {
   "cell_type": "code",
   "execution_count": 10,
   "metadata": {
    "execution": {
     "iopub.execute_input": "2020-12-30T12:08:28.620875Z",
     "iopub.status.busy": "2020-12-30T12:08:28.620252Z",
     "iopub.status.idle": "2020-12-30T12:08:28.622490Z",
     "shell.execute_reply": "2020-12-30T12:08:28.621906Z"
    },
    "papermill": {
     "duration": 0.037303,
     "end_time": "2020-12-30T12:08:28.622622",
     "exception": false,
     "start_time": "2020-12-30T12:08:28.585319",
     "status": "completed"
    },
    "tags": []
   },
   "outputs": [],
   "source": [
    "#hide\n",
    "LAST_DATE_I, dt_cols = get_dates(df)\n",
    "dt_today =dt_cols[LAST_DATE_I]\n",
    "# dt_5day = dt_cols[LAST_DATE_I - 5]\n",
    "dt_yday = dt_cols[LAST_DATE_I - 1]"
   ]
  },
  {
   "cell_type": "code",
   "execution_count": 11,
   "metadata": {
    "execution": {
     "iopub.execute_input": "2020-12-30T12:08:28.696425Z",
     "iopub.status.busy": "2020-12-30T12:08:28.695391Z",
     "iopub.status.idle": "2020-12-30T12:08:28.701185Z",
     "shell.execute_reply": "2020-12-30T12:08:28.701735Z"
    },
    "papermill": {
     "duration": 0.046576,
     "end_time": "2020-12-30T12:08:28.701887",
     "exception": false,
     "start_time": "2020-12-30T12:08:28.655311",
     "status": "completed"
    },
    "tags": []
   },
   "outputs": [],
   "source": [
    "#hide\n",
    "dfc_cases = dft_cases.groupby(COL_REGION)[dt_today].sum()\n",
    "dfc_deaths = dft_deaths.groupby(COL_REGION)[dt_today].sum()\n",
    "# dfp_cases = dft_cases.groupby(COL_REGION)[dt_5day].sum()\n",
    "# dfp_deaths = dft_deaths.groupby(COL_REGION)[dt_5day].sum()\n",
    "dfp_cases = dft_cases.groupby(COL_REGION)[dt_yday].sum()\n",
    "dfp_deaths = dft_deaths.groupby(COL_REGION)[dt_yday].sum()"
   ]
  },
  {
   "cell_type": "code",
   "execution_count": 12,
   "metadata": {
    "execution": {
     "iopub.execute_input": "2020-12-30T12:08:28.775995Z",
     "iopub.status.busy": "2020-12-30T12:08:28.775370Z",
     "iopub.status.idle": "2020-12-30T12:08:28.779569Z",
     "shell.execute_reply": "2020-12-30T12:08:28.780050Z"
    },
    "papermill": {
     "duration": 0.045799,
     "end_time": "2020-12-30T12:08:28.780209",
     "exception": false,
     "start_time": "2020-12-30T12:08:28.734410",
     "status": "completed"
    },
    "tags": []
   },
   "outputs": [],
   "source": [
    "#hide\n",
    "df_table = (pd.DataFrame(dict(Cases = dfc_cases, Deaths = dfc_deaths, PCases = dfp_cases, PDeaths = dfp_deaths))\n",
    "            .sort_values(by = ['Cases','Deaths'], ascending = [False, False])\n",
    "            .reset_index())"
   ]
  },
  {
   "cell_type": "code",
   "execution_count": 13,
   "metadata": {
    "execution": {
     "iopub.execute_input": "2020-12-30T12:08:28.863671Z",
     "iopub.status.busy": "2020-12-30T12:08:28.863016Z",
     "iopub.status.idle": "2020-12-30T12:08:28.869772Z",
     "shell.execute_reply": "2020-12-30T12:08:28.870222Z"
    },
    "papermill": {
     "duration": 0.058901,
     "end_time": "2020-12-30T12:08:28.870382",
     "exception": false,
     "start_time": "2020-12-30T12:08:28.811481",
     "status": "completed"
    },
    "tags": []
   },
   "outputs": [
    {
     "data": {
      "text/html": [
       "<div>\n",
       "<style scoped>\n",
       "    .dataframe tbody tr th:only-of-type {\n",
       "        vertical-align: middle;\n",
       "    }\n",
       "\n",
       "    .dataframe tbody tr th {\n",
       "        vertical-align: top;\n",
       "    }\n",
       "\n",
       "    .dataframe thead th {\n",
       "        text-align: right;\n",
       "    }\n",
       "</style>\n",
       "<table border=\"1\" class=\"dataframe\">\n",
       "  <thead>\n",
       "    <tr style=\"text-align: right;\">\n",
       "      <th></th>\n",
       "      <th>Country/Region</th>\n",
       "      <th>Cases</th>\n",
       "      <th>Deaths</th>\n",
       "      <th>PCases</th>\n",
       "      <th>PDeaths</th>\n",
       "      <th>Cases (+)</th>\n",
       "      <th>Deaths (+)</th>\n",
       "      <th>Fatality Rate</th>\n",
       "      <th>Continent</th>\n",
       "    </tr>\n",
       "  </thead>\n",
       "  <tbody>\n",
       "    <tr>\n",
       "      <th>0</th>\n",
       "      <td>US</td>\n",
       "      <td>19510836</td>\n",
       "      <td>338561</td>\n",
       "      <td>19309281</td>\n",
       "      <td>334836</td>\n",
       "      <td>201555</td>\n",
       "      <td>3725</td>\n",
       "      <td>1.74</td>\n",
       "      <td>North America</td>\n",
       "    </tr>\n",
       "    <tr>\n",
       "      <th>1</th>\n",
       "      <td>India</td>\n",
       "      <td>10244852</td>\n",
       "      <td>148439</td>\n",
       "      <td>10224303</td>\n",
       "      <td>148153</td>\n",
       "      <td>20549</td>\n",
       "      <td>286</td>\n",
       "      <td>1.45</td>\n",
       "      <td>Asia</td>\n",
       "    </tr>\n",
       "    <tr>\n",
       "      <th>2</th>\n",
       "      <td>Brazil</td>\n",
       "      <td>7563551</td>\n",
       "      <td>192681</td>\n",
       "      <td>7504833</td>\n",
       "      <td>191570</td>\n",
       "      <td>58718</td>\n",
       "      <td>1111</td>\n",
       "      <td>2.55</td>\n",
       "      <td>South America</td>\n",
       "    </tr>\n",
       "    <tr>\n",
       "      <th>3</th>\n",
       "      <td>Russia</td>\n",
       "      <td>3073923</td>\n",
       "      <td>55107</td>\n",
       "      <td>3047335</td>\n",
       "      <td>54559</td>\n",
       "      <td>26588</td>\n",
       "      <td>548</td>\n",
       "      <td>1.79</td>\n",
       "      <td>Europe</td>\n",
       "    </tr>\n",
       "    <tr>\n",
       "      <th>4</th>\n",
       "      <td>France</td>\n",
       "      <td>2631110</td>\n",
       "      <td>64204</td>\n",
       "      <td>2619616</td>\n",
       "      <td>63235</td>\n",
       "      <td>11494</td>\n",
       "      <td>969</td>\n",
       "      <td>2.44</td>\n",
       "      <td>Europe</td>\n",
       "    </tr>\n",
       "  </tbody>\n",
       "</table>\n",
       "</div>"
      ],
      "text/plain": [
       "  Country/Region     Cases  Deaths    PCases  PDeaths  Cases (+)  Deaths (+)  \\\n",
       "0             US  19510836  338561  19309281   334836     201555        3725   \n",
       "1          India  10244852  148439  10224303   148153      20549         286   \n",
       "2         Brazil   7563551  192681   7504833   191570      58718        1111   \n",
       "3         Russia   3073923   55107   3047335    54559      26588         548   \n",
       "4         France   2631110   64204   2619616    63235      11494         969   \n",
       "\n",
       "   Fatality Rate      Continent  \n",
       "0           1.74  North America  \n",
       "1           1.45           Asia  \n",
       "2           2.55  South America  \n",
       "3           1.79         Europe  \n",
       "4           2.44         Europe  "
      ]
     },
     "execution_count": 13,
     "metadata": {},
     "output_type": "execute_result"
    }
   ],
   "source": [
    "#hide\n",
    "for c in 'Cases, Deaths'.split(', '):\n",
    "    df_table[f'{c} (+)'] = (df_table[c] - df_table[f'P{c}']).clip(0)\n",
    "    #Clip ça veut dire, les chiffres negatif sont interdit\n",
    "df_table['Fatality Rate'] = (100* df_table['Deaths']/ df_table['Cases']).round(2)\n",
    "df_table['Continent'] = df_table['Country/Region'].map(mapping['map.continent'])\n",
    "df_table.head(5)"
   ]
  },
  {
   "cell_type": "code",
   "execution_count": 14,
   "metadata": {
    "execution": {
     "iopub.execute_input": "2020-12-30T12:08:28.944021Z",
     "iopub.status.busy": "2020-12-30T12:08:28.943414Z",
     "iopub.status.idle": "2020-12-30T12:08:28.946495Z",
     "shell.execute_reply": "2020-12-30T12:08:28.946012Z"
    },
    "papermill": {
     "duration": 0.041211,
     "end_time": "2020-12-30T12:08:28.946630",
     "exception": false,
     "start_time": "2020-12-30T12:08:28.905419",
     "status": "completed"
    },
    "tags": []
   },
   "outputs": [],
   "source": [
    "#hide\n",
    "#delete problematic countries from table\n",
    "df_table = df_table[~df_table['Country/Region'].isin(['Cape Verde', 'Cruise Ship', 'Kosovo'])]"
   ]
  },
  {
   "cell_type": "code",
   "execution_count": 15,
   "metadata": {
    "execution": {
     "iopub.execute_input": "2020-12-30T12:08:29.019585Z",
     "iopub.status.busy": "2020-12-30T12:08:29.018554Z",
     "iopub.status.idle": "2020-12-30T12:08:29.038890Z",
     "shell.execute_reply": "2020-12-30T12:08:29.038180Z"
    },
    "papermill": {
     "duration": 0.061733,
     "end_time": "2020-12-30T12:08:29.039038",
     "exception": false,
     "start_time": "2020-12-30T12:08:28.977305",
     "status": "completed"
    },
    "tags": []
   },
   "outputs": [
    {
     "data": {
      "text/html": [
       "<div>\n",
       "<style scoped>\n",
       "    .dataframe tbody tr th:only-of-type {\n",
       "        vertical-align: middle;\n",
       "    }\n",
       "\n",
       "    .dataframe tbody tr th {\n",
       "        vertical-align: top;\n",
       "    }\n",
       "\n",
       "    .dataframe thead th {\n",
       "        text-align: right;\n",
       "    }\n",
       "</style>\n",
       "<table border=\"1\" class=\"dataframe\">\n",
       "  <thead>\n",
       "    <tr style=\"text-align: right;\">\n",
       "      <th></th>\n",
       "      <th>Country/Region</th>\n",
       "      <th>Cases</th>\n",
       "      <th>Deaths</th>\n",
       "      <th>PCases</th>\n",
       "      <th>PDeaths</th>\n",
       "      <th>Cases (+)</th>\n",
       "      <th>Deaths (+)</th>\n",
       "      <th>Fatality Rate</th>\n",
       "      <th>Continent</th>\n",
       "    </tr>\n",
       "  </thead>\n",
       "  <tbody>\n",
       "    <tr>\n",
       "      <th>0</th>\n",
       "      <td>US</td>\n",
       "      <td>19510836</td>\n",
       "      <td>338561</td>\n",
       "      <td>19309281</td>\n",
       "      <td>334836</td>\n",
       "      <td>201555</td>\n",
       "      <td>3725</td>\n",
       "      <td>1.7</td>\n",
       "      <td>North America</td>\n",
       "    </tr>\n",
       "    <tr>\n",
       "      <th>1</th>\n",
       "      <td>India</td>\n",
       "      <td>10244852</td>\n",
       "      <td>148439</td>\n",
       "      <td>10224303</td>\n",
       "      <td>148153</td>\n",
       "      <td>20549</td>\n",
       "      <td>286</td>\n",
       "      <td>1.4</td>\n",
       "      <td>Asia</td>\n",
       "    </tr>\n",
       "    <tr>\n",
       "      <th>2</th>\n",
       "      <td>Brazil</td>\n",
       "      <td>7563551</td>\n",
       "      <td>192681</td>\n",
       "      <td>7504833</td>\n",
       "      <td>191570</td>\n",
       "      <td>58718</td>\n",
       "      <td>1111</td>\n",
       "      <td>2.5</td>\n",
       "      <td>South America</td>\n",
       "    </tr>\n",
       "    <tr>\n",
       "      <th>3</th>\n",
       "      <td>Russia</td>\n",
       "      <td>3073923</td>\n",
       "      <td>55107</td>\n",
       "      <td>3047335</td>\n",
       "      <td>54559</td>\n",
       "      <td>26588</td>\n",
       "      <td>548</td>\n",
       "      <td>1.8</td>\n",
       "      <td>Europe</td>\n",
       "    </tr>\n",
       "    <tr>\n",
       "      <th>4</th>\n",
       "      <td>France</td>\n",
       "      <td>2631110</td>\n",
       "      <td>64204</td>\n",
       "      <td>2619616</td>\n",
       "      <td>63235</td>\n",
       "      <td>11494</td>\n",
       "      <td>969</td>\n",
       "      <td>2.4</td>\n",
       "      <td>Europe</td>\n",
       "    </tr>\n",
       "  </tbody>\n",
       "</table>\n",
       "</div>"
      ],
      "text/plain": [
       "  Country/Region     Cases  Deaths    PCases  PDeaths  Cases (+)  Deaths (+)  \\\n",
       "0             US  19510836  338561  19309281   334836     201555        3725   \n",
       "1          India  10244852  148439  10224303   148153      20549         286   \n",
       "2         Brazil   7563551  192681   7504833   191570      58718        1111   \n",
       "3         Russia   3073923   55107   3047335    54559      26588         548   \n",
       "4         France   2631110   64204   2619616    63235      11494         969   \n",
       "\n",
       "   Fatality Rate      Continent  \n",
       "0            1.7  North America  \n",
       "1            1.4           Asia  \n",
       "2            2.5  South America  \n",
       "3            1.8         Europe  \n",
       "4            2.4         Europe  "
      ]
     },
     "execution_count": 15,
     "metadata": {},
     "output_type": "execute_result"
    }
   ],
   "source": [
    "#hide\n",
    "df_table = (pd.DataFrame(dict(Cases=dfc_cases, Deaths=dfc_deaths, PCases=dfp_cases, PDeaths=dfp_deaths))\n",
    "             .sort_values(by=['Cases', 'Deaths'], ascending=[False, False])\n",
    "             .reset_index())\n",
    "df_table.rename(columns={'index': 'Country/Region'}, inplace=True)\n",
    "for c in 'Cases, Deaths'.split(', '):\n",
    "    df_table[f'{c} (+)'] = (df_table[c] - df_table[f'P{c}']).clip(0)  # DATA BUG\n",
    "df_table['Fatality Rate'] = (100 * df_table['Deaths'] / df_table['Cases']).round(1)\n",
    "df_table['Continent'] = df_table['Country/Region'].map(mapping['map.continent'])\n",
    "df_table.head(5)"
   ]
  },
  {
   "cell_type": "code",
   "execution_count": 16,
   "metadata": {
    "execution": {
     "iopub.execute_input": "2020-12-30T12:08:29.128767Z",
     "iopub.status.busy": "2020-12-30T12:08:29.128142Z",
     "iopub.status.idle": "2020-12-30T12:08:29.130431Z",
     "shell.execute_reply": "2020-12-30T12:08:29.129930Z"
    },
    "papermill": {
     "duration": 0.048442,
     "end_time": "2020-12-30T12:08:29.130563",
     "exception": false,
     "start_time": "2020-12-30T12:08:29.082121",
     "status": "completed"
    },
    "tags": []
   },
   "outputs": [],
   "source": [
    "#hide\n",
    "#delete problematic countries from table\n",
    "df_table = df_table[~df_table['Country/Region'].isin(['Cape Verde', 'Cruise Ship', 'Kosovo'])]"
   ]
  },
  {
   "cell_type": "code",
   "execution_count": 17,
   "metadata": {
    "execution": {
     "iopub.execute_input": "2020-12-30T12:08:29.203964Z",
     "iopub.status.busy": "2020-12-30T12:08:29.203287Z",
     "iopub.status.idle": "2020-12-30T12:08:29.216933Z",
     "shell.execute_reply": "2020-12-30T12:08:29.216433Z"
    },
    "papermill": {
     "duration": 0.055263,
     "end_time": "2020-12-30T12:08:29.217077",
     "exception": false,
     "start_time": "2020-12-30T12:08:29.161814",
     "status": "completed"
    },
    "tags": []
   },
   "outputs": [],
   "source": [
    "#hide\n",
    "metrics = [df_table.columns[index] for index in [1,2,5,6]]\n",
    "# s_china = df_table[df_table['Country/Region'].eq('China')][metrics].sum().add_prefix('China ')\n",
    "s_us = df_table[df_table['Country/Region'].eq('US')][metrics].sum().add_prefix('US ')\n",
    "s_eu = df_table[df_table['Continent'].eq('Europe')][metrics].sum().add_prefix('EU ')\n",
    "s_ind = df_table[df_table['Country/Region'].eq('India')][metrics].sum().add_prefix('India ')\n",
    "summary = {'updated': pd.to_datetime(dt_today), 'since': pd.to_datetime(dt_yday)}\n",
    "summary = {'updated': pd.to_datetime(dt_today), 'since': pd.to_datetime(dt_yday)}\n",
    "summary = {**summary, **df_table[metrics].sum(), **s_ind, **s_us, **s_eu}"
   ]
  },
  {
   "cell_type": "code",
   "execution_count": 18,
   "metadata": {
    "execution": {
     "iopub.execute_input": "2020-12-30T12:08:29.289267Z",
     "iopub.status.busy": "2020-12-30T12:08:29.288597Z",
     "iopub.status.idle": "2020-12-30T12:08:29.299683Z",
     "shell.execute_reply": "2020-12-30T12:08:29.300157Z"
    },
    "papermill": {
     "duration": 0.049083,
     "end_time": "2020-12-30T12:08:29.300309",
     "exception": false,
     "start_time": "2020-12-30T12:08:29.251226",
     "status": "completed"
    },
    "tags": []
   },
   "outputs": [],
   "source": [
    "#hide\n",
    "dft_ct_new_cases = dft_cases.groupby(COL_REGION)[dt_cols].sum().diff(axis=1).fillna(0).astype(int)"
   ]
  },
  {
   "cell_type": "code",
   "execution_count": 19,
   "metadata": {
    "execution": {
     "iopub.execute_input": "2020-12-30T12:08:29.370402Z",
     "iopub.status.busy": "2020-12-30T12:08:29.369801Z",
     "iopub.status.idle": "2020-12-30T12:08:29.372181Z",
     "shell.execute_reply": "2020-12-30T12:08:29.372629Z"
    },
    "papermill": {
     "duration": 0.040398,
     "end_time": "2020-12-30T12:08:29.372783",
     "exception": false,
     "start_time": "2020-12-30T12:08:29.332385",
     "status": "completed"
    },
    "tags": []
   },
   "outputs": [],
   "source": [
    "#hide\n",
    "everydaycases = dft_ct_new_cases.cumsum(axis=1)"
   ]
  },
  {
   "cell_type": "code",
   "execution_count": 20,
   "metadata": {
    "execution": {
     "iopub.execute_input": "2020-12-30T12:08:29.444118Z",
     "iopub.status.busy": "2020-12-30T12:08:29.443517Z",
     "iopub.status.idle": "2020-12-30T12:08:30.862947Z",
     "shell.execute_reply": "2020-12-30T12:08:30.861890Z"
    },
    "papermill": {
     "duration": 1.458967,
     "end_time": "2020-12-30T12:08:30.863104",
     "exception": false,
     "start_time": "2020-12-30T12:08:29.404137",
     "status": "completed"
    },
    "tags": []
   },
   "outputs": [],
   "source": [
    "#hide\n",
    "import pandas as pd\n",
    "import matplotlib.pyplot as plt\n",
    "import matplotlib.ticker as ticker\n",
    "import matplotlib.animation as animation\n",
    "from IPython.display import HTML"
   ]
  },
  {
   "cell_type": "code",
   "execution_count": 21,
   "metadata": {
    "execution": {
     "iopub.execute_input": "2020-12-30T12:08:30.932190Z",
     "iopub.status.busy": "2020-12-30T12:08:30.931163Z",
     "iopub.status.idle": "2020-12-30T12:08:30.935586Z",
     "shell.execute_reply": "2020-12-30T12:08:30.935105Z"
    },
    "papermill": {
     "duration": 0.041153,
     "end_time": "2020-12-30T12:08:30.935721",
     "exception": false,
     "start_time": "2020-12-30T12:08:30.894568",
     "status": "completed"
    },
    "tags": []
   },
   "outputs": [],
   "source": [
    "#hide\n",
    "t = everydaycases.stack()"
   ]
  },
  {
   "cell_type": "code",
   "execution_count": 22,
   "metadata": {
    "execution": {
     "iopub.execute_input": "2020-12-30T12:08:31.002871Z",
     "iopub.status.busy": "2020-12-30T12:08:31.002273Z",
     "iopub.status.idle": "2020-12-30T12:08:31.009117Z",
     "shell.execute_reply": "2020-12-30T12:08:31.008597Z"
    },
    "papermill": {
     "duration": 0.042361,
     "end_time": "2020-12-30T12:08:31.009249",
     "exception": false,
     "start_time": "2020-12-30T12:08:30.966888",
     "status": "completed"
    },
    "tags": []
   },
   "outputs": [],
   "source": [
    "#hide\n",
    "g = t.reset_index(['Country/Region'])"
   ]
  },
  {
   "cell_type": "code",
   "execution_count": 23,
   "metadata": {
    "execution": {
     "iopub.execute_input": "2020-12-30T12:08:31.076306Z",
     "iopub.status.busy": "2020-12-30T12:08:31.075707Z",
     "iopub.status.idle": "2020-12-30T12:08:31.077392Z",
     "shell.execute_reply": "2020-12-30T12:08:31.077952Z"
    },
    "papermill": {
     "duration": 0.038334,
     "end_time": "2020-12-30T12:08:31.078101",
     "exception": false,
     "start_time": "2020-12-30T12:08:31.039767",
     "status": "completed"
    },
    "tags": []
   },
   "outputs": [],
   "source": [
    "#hide\n",
    "g.index.name = 'date'"
   ]
  },
  {
   "cell_type": "code",
   "execution_count": 24,
   "metadata": {
    "execution": {
     "iopub.execute_input": "2020-12-30T12:08:31.144073Z",
     "iopub.status.busy": "2020-12-30T12:08:31.143475Z",
     "iopub.status.idle": "2020-12-30T12:08:31.146189Z",
     "shell.execute_reply": "2020-12-30T12:08:31.146662Z"
    },
    "papermill": {
     "duration": 0.037867,
     "end_time": "2020-12-30T12:08:31.146811",
     "exception": false,
     "start_time": "2020-12-30T12:08:31.108944",
     "status": "completed"
    },
    "tags": []
   },
   "outputs": [],
   "source": [
    "# #hide\n",
    "# g = g.reset_index(['date'])"
   ]
  },
  {
   "cell_type": "code",
   "execution_count": 25,
   "metadata": {
    "execution": {
     "iopub.execute_input": "2020-12-30T12:08:31.213111Z",
     "iopub.status.busy": "2020-12-30T12:08:31.212520Z",
     "iopub.status.idle": "2020-12-30T12:08:31.215128Z",
     "shell.execute_reply": "2020-12-30T12:08:31.215692Z"
    },
    "papermill": {
     "duration": 0.038215,
     "end_time": "2020-12-30T12:08:31.215841",
     "exception": false,
     "start_time": "2020-12-30T12:08:31.177626",
     "status": "completed"
    },
    "tags": []
   },
   "outputs": [],
   "source": [
    "#hide\n",
    "# g.head()"
   ]
  },
  {
   "cell_type": "code",
   "execution_count": 26,
   "metadata": {
    "execution": {
     "iopub.execute_input": "2020-12-30T12:08:31.282614Z",
     "iopub.status.busy": "2020-12-30T12:08:31.282009Z",
     "iopub.status.idle": "2020-12-30T12:08:31.285382Z",
     "shell.execute_reply": "2020-12-30T12:08:31.285953Z"
    },
    "papermill": {
     "duration": 0.039175,
     "end_time": "2020-12-30T12:08:31.286102",
     "exception": false,
     "start_time": "2020-12-30T12:08:31.246927",
     "status": "completed"
    },
    "tags": []
   },
   "outputs": [],
   "source": [
    "#hide\n",
    "# g.columns = ['date','country','cases']"
   ]
  },
  {
   "cell_type": "code",
   "execution_count": 27,
   "metadata": {
    "execution": {
     "iopub.execute_input": "2020-12-30T12:08:31.353331Z",
     "iopub.status.busy": "2020-12-30T12:08:31.352720Z",
     "iopub.status.idle": "2020-12-30T12:08:31.355197Z",
     "shell.execute_reply": "2020-12-30T12:08:31.355754Z"
    },
    "papermill": {
     "duration": 0.038982,
     "end_time": "2020-12-30T12:08:31.355903",
     "exception": false,
     "start_time": "2020-12-30T12:08:31.316921",
     "status": "completed"
    },
    "tags": []
   },
   "outputs": [],
   "source": [
    "#hide\n",
    "# g['continent'] = g.country"
   ]
  },
  {
   "cell_type": "code",
   "execution_count": 28,
   "metadata": {
    "execution": {
     "iopub.execute_input": "2020-12-30T12:08:31.423803Z",
     "iopub.status.busy": "2020-12-30T12:08:31.422623Z",
     "iopub.status.idle": "2020-12-30T12:08:31.424917Z",
     "shell.execute_reply": "2020-12-30T12:08:31.425775Z"
    },
    "papermill": {
     "duration": 0.039175,
     "end_time": "2020-12-30T12:08:31.426187",
     "exception": false,
     "start_time": "2020-12-30T12:08:31.387012",
     "status": "completed"
    },
    "tags": []
   },
   "outputs": [],
   "source": [
    "#hide\n",
    "# cols = list(g.columns.values)"
   ]
  },
  {
   "cell_type": "code",
   "execution_count": 29,
   "metadata": {
    "execution": {
     "iopub.execute_input": "2020-12-30T12:08:31.496682Z",
     "iopub.status.busy": "2020-12-30T12:08:31.496048Z",
     "iopub.status.idle": "2020-12-30T12:08:31.497960Z",
     "shell.execute_reply": "2020-12-30T12:08:31.498413Z"
    },
    "papermill": {
     "duration": 0.040122,
     "end_time": "2020-12-30T12:08:31.498568",
     "exception": false,
     "start_time": "2020-12-30T12:08:31.458446",
     "status": "completed"
    },
    "tags": []
   },
   "outputs": [],
   "source": [
    "#hide\n",
    "# cols.insert(0, cols.pop())"
   ]
  },
  {
   "cell_type": "code",
   "execution_count": 30,
   "metadata": {
    "execution": {
     "iopub.execute_input": "2020-12-30T12:08:31.574934Z",
     "iopub.status.busy": "2020-12-30T12:08:31.574185Z",
     "iopub.status.idle": "2020-12-30T12:08:31.576067Z",
     "shell.execute_reply": "2020-12-30T12:08:31.576671Z"
    },
    "papermill": {
     "duration": 0.046941,
     "end_time": "2020-12-30T12:08:31.576829",
     "exception": false,
     "start_time": "2020-12-30T12:08:31.529888",
     "status": "completed"
    },
    "tags": []
   },
   "outputs": [],
   "source": [
    "#hide\n",
    "# g = g[cols]"
   ]
  },
  {
   "cell_type": "code",
   "execution_count": 31,
   "metadata": {
    "execution": {
     "iopub.execute_input": "2020-12-30T12:08:31.649375Z",
     "iopub.status.busy": "2020-12-30T12:08:31.648759Z",
     "iopub.status.idle": "2020-12-30T12:08:31.651121Z",
     "shell.execute_reply": "2020-12-30T12:08:31.651679Z"
    },
    "papermill": {
     "duration": 0.03858,
     "end_time": "2020-12-30T12:08:31.651826",
     "exception": false,
     "start_time": "2020-12-30T12:08:31.613246",
     "status": "completed"
    },
    "tags": []
   },
   "outputs": [],
   "source": [
    "#hide\n",
    "# g['continent'] = g['continent'].map(mapping['map.continent'])"
   ]
  },
  {
   "cell_type": "code",
   "execution_count": 32,
   "metadata": {
    "execution": {
     "iopub.execute_input": "2020-12-30T12:08:31.724700Z",
     "iopub.status.busy": "2020-12-30T12:08:31.724070Z",
     "iopub.status.idle": "2020-12-30T12:08:31.727644Z",
     "shell.execute_reply": "2020-12-30T12:08:31.728093Z"
    },
    "papermill": {
     "duration": 0.044187,
     "end_time": "2020-12-30T12:08:31.728249",
     "exception": false,
     "start_time": "2020-12-30T12:08:31.684062",
     "status": "completed"
    },
    "tags": []
   },
   "outputs": [],
   "source": [
    "#hide\n",
    "# g.head()"
   ]
  },
  {
   "cell_type": "code",
   "execution_count": 33,
   "metadata": {
    "execution": {
     "iopub.execute_input": "2020-12-30T12:08:31.795265Z",
     "iopub.status.busy": "2020-12-30T12:08:31.794653Z",
     "iopub.status.idle": "2020-12-30T12:08:31.796447Z",
     "shell.execute_reply": "2020-12-30T12:08:31.795877Z"
    },
    "papermill": {
     "duration": 0.037467,
     "end_time": "2020-12-30T12:08:31.796575",
     "exception": false,
     "start_time": "2020-12-30T12:08:31.759108",
     "status": "completed"
    },
    "tags": []
   },
   "outputs": [],
   "source": [
    "# hide\n",
    "# g['date'] = g['date'].astype('datetime64[ns]')"
   ]
  },
  {
   "cell_type": "code",
   "execution_count": 34,
   "metadata": {
    "execution": {
     "iopub.execute_input": "2020-12-30T12:08:31.865648Z",
     "iopub.status.busy": "2020-12-30T12:08:31.864988Z",
     "iopub.status.idle": "2020-12-30T12:08:31.866289Z",
     "shell.execute_reply": "2020-12-30T12:08:31.866750Z"
    },
    "papermill": {
     "duration": 0.039001,
     "end_time": "2020-12-30T12:08:31.866898",
     "exception": false,
     "start_time": "2020-12-30T12:08:31.827897",
     "status": "completed"
    },
    "tags": []
   },
   "outputs": [],
   "source": [
    "#hide\n",
    "# g['date'] = g.date.dt.dayofyear"
   ]
  },
  {
   "cell_type": "code",
   "execution_count": 35,
   "metadata": {
    "execution": {
     "iopub.execute_input": "2020-12-30T12:08:31.933627Z",
     "iopub.status.busy": "2020-12-30T12:08:31.932995Z",
     "iopub.status.idle": "2020-12-30T12:08:31.935463Z",
     "shell.execute_reply": "2020-12-30T12:08:31.936025Z"
    },
    "papermill": {
     "duration": 0.038469,
     "end_time": "2020-12-30T12:08:31.936178",
     "exception": false,
     "start_time": "2020-12-30T12:08:31.897709",
     "status": "completed"
    },
    "tags": []
   },
   "outputs": [],
   "source": [
    "#hide\n",
    "# g = g.rename(columns= {'continent':'group','country':'name','cases':'value'})"
   ]
  },
  {
   "cell_type": "code",
   "execution_count": 36,
   "metadata": {
    "execution": {
     "iopub.execute_input": "2020-12-30T12:08:32.002202Z",
     "iopub.status.busy": "2020-12-30T12:08:32.001581Z",
     "iopub.status.idle": "2020-12-30T12:08:32.003833Z",
     "shell.execute_reply": "2020-12-30T12:08:32.004303Z"
    },
    "papermill": {
     "duration": 0.03727,
     "end_time": "2020-12-30T12:08:32.004458",
     "exception": false,
     "start_time": "2020-12-30T12:08:31.967188",
     "status": "completed"
    },
    "tags": []
   },
   "outputs": [],
   "source": [
    "#hide\n",
    "# cols = ['name','group','day','value']"
   ]
  },
  {
   "cell_type": "code",
   "execution_count": 37,
   "metadata": {
    "execution": {
     "iopub.execute_input": "2020-12-30T12:08:32.075244Z",
     "iopub.status.busy": "2020-12-30T12:08:32.074599Z",
     "iopub.status.idle": "2020-12-30T12:08:32.076244Z",
     "shell.execute_reply": "2020-12-30T12:08:32.076799Z"
    },
    "papermill": {
     "duration": 0.041599,
     "end_time": "2020-12-30T12:08:32.076960",
     "exception": false,
     "start_time": "2020-12-30T12:08:32.035361",
     "status": "completed"
    },
    "tags": []
   },
   "outputs": [],
   "source": [
    "#hide\n",
    "# g.rename(columns= {'date':'day'},inplace = True)"
   ]
  },
  {
   "cell_type": "code",
   "execution_count": 38,
   "metadata": {
    "execution": {
     "iopub.execute_input": "2020-12-30T12:08:32.147946Z",
     "iopub.status.busy": "2020-12-30T12:08:32.147358Z",
     "iopub.status.idle": "2020-12-30T12:08:32.150606Z",
     "shell.execute_reply": "2020-12-30T12:08:32.149967Z"
    },
    "papermill": {
     "duration": 0.038899,
     "end_time": "2020-12-30T12:08:32.150753",
     "exception": false,
     "start_time": "2020-12-30T12:08:32.111854",
     "status": "completed"
    },
    "tags": []
   },
   "outputs": [],
   "source": [
    "#hide\n",
    "# g = g[cols]"
   ]
  },
  {
   "cell_type": "code",
   "execution_count": 39,
   "metadata": {
    "execution": {
     "iopub.execute_input": "2020-12-30T12:08:32.219025Z",
     "iopub.status.busy": "2020-12-30T12:08:32.218052Z",
     "iopub.status.idle": "2020-12-30T12:08:32.220272Z",
     "shell.execute_reply": "2020-12-30T12:08:32.220766Z"
    },
    "papermill": {
     "duration": 0.038381,
     "end_time": "2020-12-30T12:08:32.220916",
     "exception": false,
     "start_time": "2020-12-30T12:08:32.182535",
     "status": "completed"
    },
    "tags": []
   },
   "outputs": [],
   "source": [
    "# #hide\n",
    "# g = g[g.group.notna()]"
   ]
  },
  {
   "cell_type": "code",
   "execution_count": 40,
   "metadata": {
    "execution": {
     "iopub.execute_input": "2020-12-30T12:08:32.290552Z",
     "iopub.status.busy": "2020-12-30T12:08:32.289450Z",
     "iopub.status.idle": "2020-12-30T12:08:32.291328Z",
     "shell.execute_reply": "2020-12-30T12:08:32.291791Z"
    },
    "papermill": {
     "duration": 0.039279,
     "end_time": "2020-12-30T12:08:32.291945",
     "exception": false,
     "start_time": "2020-12-30T12:08:32.252666",
     "status": "completed"
    },
    "tags": []
   },
   "outputs": [],
   "source": [
    "# #hide\n",
    "# colors = dict(zip(\n",
    "#     [\"Oceania\", \"Europe\", \"Asia\", \"South America\", \"Middle East\", \"North America\", \"Africa\"],\n",
    "#     [\"#adb0ff\", \"#ffb3ff\", \"#90d595\", \"#e48381\", \"#aafbff\", \"#f7bb5f\", \"#eafb50\"]\n",
    "# ))\n",
    "# group_lk = g.set_index('name')['group'].to_dict()"
   ]
  },
  {
   "cell_type": "code",
   "execution_count": null,
   "metadata": {
    "papermill": {
     "duration": 0.031554,
     "end_time": "2020-12-30T12:08:32.354326",
     "exception": false,
     "start_time": "2020-12-30T12:08:32.322772",
     "status": "completed"
    },
    "tags": []
   },
   "outputs": [],
   "source": []
  },
  {
   "cell_type": "code",
   "execution_count": 41,
   "metadata": {
    "execution": {
     "iopub.execute_input": "2020-12-30T12:08:32.423129Z",
     "iopub.status.busy": "2020-12-30T12:08:32.422483Z",
     "iopub.status.idle": "2020-12-30T12:08:32.425538Z",
     "shell.execute_reply": "2020-12-30T12:08:32.425000Z"
    },
    "papermill": {
     "duration": 0.040153,
     "end_time": "2020-12-30T12:08:32.425671",
     "exception": false,
     "start_time": "2020-12-30T12:08:32.385518",
     "status": "completed"
    },
    "tags": []
   },
   "outputs": [],
   "source": [
    "# #hide\n",
    "# fig, ax = plt.subplots(figsize=(15, 8))\n",
    "\n",
    "# def draw_barchart(current_day):\n",
    "#     dff = g[g['day'].eq(current_day)].sort_values(by='value', ascending=True).tail(10)\n",
    "#     ax.clear()\n",
    "#     ax.barh(dff['name'], dff['value'], color=[colors[group_lk[x]] for x in dff['name']])\n",
    "#     dx = dff['value'].max() / 200\n",
    "    \n",
    "#     for i, (value, name) in enumerate(zip(dff['value'], dff['name'])):\n",
    "#         ax.text(value-dx, i,     name,           size=14, weight=600, ha='right', va='bottom')\n",
    "#         ax.text(value-dx, i-.25, group_lk[name], size=10, color='#444444', ha='right', va='baseline')\n",
    "#         ax.text(value+dx, i,     f'{value:,.0f}',  size=14, ha='left',  va='center')\n",
    "#     ax.text(1, 0.4, current_day, transform=ax.transAxes, color='#777777', size=46, ha='right', weight=800)\n",
    "#     ax.text(0, 1.06, 'Population (thousands)', transform=ax.transAxes, size=12, color='#777777')\n",
    "#     ax.xaxis.set_major_formatter(ticker.StrMethodFormatter('{x:,.0f}'))\n",
    "#     ax.xaxis.set_ticks_position('top')\n",
    "#     ax.tick_params(axis='x', colors='#777777', labelsize=12)\n",
    "#     ax.set_yticks([])\n",
    "#     ax.margins(0, 0.01)\n",
    "#     ax.grid(which='major', axis='x', linestyle='-')\n",
    "#     ax.set_axisbelow(True)\n",
    "    \n",
    "#     ax.text(0, 1.15, 'Coronavirus',\n",
    "#             transform=ax.transAxes, size=24, weight=600, ha='left', va='top')\n",
    "# #     ax.text(1, 0, 'by @pratapvardhan; credit @jburnmurdoch', transform=ax.transAxes, color='#777777', ha='right',\n",
    "# #             bbox=dict(facecolor='white', alpha=0.8, edgecolor='white'))\n",
    "#     plt.box(False)"
   ]
  },
  {
   "cell_type": "code",
   "execution_count": 42,
   "metadata": {
    "execution": {
     "iopub.execute_input": "2020-12-30T12:08:32.492605Z",
     "iopub.status.busy": "2020-12-30T12:08:32.492010Z",
     "iopub.status.idle": "2020-12-30T12:08:32.494399Z",
     "shell.execute_reply": "2020-12-30T12:08:32.494946Z"
    },
    "papermill": {
     "duration": 0.038521,
     "end_time": "2020-12-30T12:08:32.495094",
     "exception": false,
     "start_time": "2020-12-30T12:08:32.456573",
     "status": "completed"
    },
    "tags": []
   },
   "outputs": [],
   "source": [
    "# #hide_input\n",
    "# fig, ax = plt.subplots(figsize=(15, 8))\n",
    "# animator = animation.FuncAnimation(fig, draw_barchart, frames=range(g.day.values.min(), g.day.values.max()))\n",
    "# HTML(animator.to_jshtml())\n",
    "# # or use animator.to_html5_video() or animator.save() "
   ]
  },
  {
   "cell_type": "code",
   "execution_count": null,
   "metadata": {
    "papermill": {
     "duration": 0.030705,
     "end_time": "2020-12-30T12:08:32.556752",
     "exception": false,
     "start_time": "2020-12-30T12:08:32.526047",
     "status": "completed"
    },
    "tags": []
   },
   "outputs": [],
   "source": []
  },
  {
   "cell_type": "code",
   "execution_count": null,
   "metadata": {
    "papermill": {
     "duration": 0.030882,
     "end_time": "2020-12-30T12:08:32.618460",
     "exception": false,
     "start_time": "2020-12-30T12:08:32.587578",
     "status": "completed"
    },
    "tags": []
   },
   "outputs": [],
   "source": []
  },
  {
   "cell_type": "code",
   "execution_count": null,
   "metadata": {
    "papermill": {
     "duration": 0.030725,
     "end_time": "2020-12-30T12:08:32.680344",
     "exception": false,
     "start_time": "2020-12-30T12:08:32.649619",
     "status": "completed"
    },
    "tags": []
   },
   "outputs": [],
   "source": []
  }
 ],
 "metadata": {
  "kernelspec": {
   "display_name": "Python 3",
   "language": "python",
   "name": "python3"
  },
  "language_info": {
   "codemirror_mode": {
    "name": "ipython",
    "version": 3
   },
   "file_extension": ".py",
   "mimetype": "text/x-python",
   "name": "python",
   "nbconvert_exporter": "python",
   "pygments_lexer": "ipython3",
   "version": "3.6.12"
  },
  "papermill": {
   "duration": 7.14248,
   "end_time": "2020-12-30T12:08:33.122191",
   "environment_variables": {},
   "exception": null,
   "input_path": "2020-03-21-covid19exp.ipynb",
   "output_path": "2020-03-21-covid19exp.ipynb",
   "parameters": {},
   "start_time": "2020-12-30T12:08:25.979711",
   "version": "2.0.0"
  }
 },
 "nbformat": 4,
 "nbformat_minor": 4
}