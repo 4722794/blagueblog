{
 "cells": [
  {
   "cell_type": "markdown",
   "id": "muslim-click",
   "metadata": {
    "papermill": {
     "duration": 0.04221,
     "end_time": "2021-05-22T00:25:26.741653",
     "exception": false,
     "start_time": "2021-05-22T00:25:26.699443",
     "status": "completed"
    },
    "tags": []
   },
   "source": [
    "# COVID-19 Case Race\n",
    "> A race chart to see rising cases around the world\n",
    "\n",
    "- author: Hargun Oberoi\n",
    "- image: images/covid-overview.png\n",
    "- hide: false\n",
    "- badges: false"
   ]
  },
  {
   "cell_type": "code",
   "execution_count": 1,
   "id": "proof-material",
   "metadata": {
    "execution": {
     "iopub.execute_input": "2021-05-22T00:25:26.826846Z",
     "iopub.status.busy": "2021-05-22T00:25:26.826297Z",
     "iopub.status.idle": "2021-05-22T00:25:27.218831Z",
     "shell.execute_reply": "2021-05-22T00:25:27.218311Z"
    },
    "papermill": {
     "duration": 0.439686,
     "end_time": "2021-05-22T00:25:27.218992",
     "exception": false,
     "start_time": "2021-05-22T00:25:26.779306",
     "status": "completed"
    },
    "tags": []
   },
   "outputs": [],
   "source": [
    "#hide\n",
    "import numpy as np\n",
    "import pandas as pd\n",
    "from jinja2 import Template\n",
    "from IPython.display import HTML"
   ]
  },
  {
   "cell_type": "code",
   "execution_count": 2,
   "id": "developed-terminology",
   "metadata": {
    "execution": {
     "iopub.execute_input": "2021-05-22T00:25:27.295503Z",
     "iopub.status.busy": "2021-05-22T00:25:27.294820Z",
     "iopub.status.idle": "2021-05-22T00:25:27.297223Z",
     "shell.execute_reply": "2021-05-22T00:25:27.296574Z"
    },
    "papermill": {
     "duration": 0.041581,
     "end_time": "2021-05-22T00:25:27.297369",
     "exception": false,
     "start_time": "2021-05-22T00:25:27.255788",
     "status": "completed"
    },
    "tags": []
   },
   "outputs": [],
   "source": [
    "#hide\n",
    "\n",
    "# FETCH\n",
    "base_url = 'https://raw.githubusercontent.com/pratapvardhan/notebooks/master/covid19/'\n",
    "paths = {\n",
    "    'mapping': base_url + 'mapping_countries.csv',\n",
    "    'overview': base_url + 'overview.tpl'\n",
    "}"
   ]
  },
  {
   "cell_type": "code",
   "execution_count": 3,
   "id": "dynamic-saver",
   "metadata": {
    "execution": {
     "iopub.execute_input": "2021-05-22T00:25:27.380567Z",
     "iopub.status.busy": "2021-05-22T00:25:27.379877Z",
     "iopub.status.idle": "2021-05-22T00:25:27.383377Z",
     "shell.execute_reply": "2021-05-22T00:25:27.382789Z"
    },
    "papermill": {
     "duration": 0.049888,
     "end_time": "2021-05-22T00:25:27.383481",
     "exception": false,
     "start_time": "2021-05-22T00:25:27.333593",
     "status": "completed"
    },
    "tags": []
   },
   "outputs": [
    {
     "data": {
      "text/plain": [
       "'https://raw.githubusercontent.com/pratapvardhan/notebooks/master/covid19/mapping_countries.csv'"
      ]
     },
     "execution_count": 3,
     "metadata": {},
     "output_type": "execute_result"
    }
   ],
   "source": [
    "#hide\n",
    "paths['mapping']"
   ]
  },
  {
   "cell_type": "code",
   "execution_count": 4,
   "id": "urban-software",
   "metadata": {
    "execution": {
     "iopub.execute_input": "2021-05-22T00:25:27.466496Z",
     "iopub.status.busy": "2021-05-22T00:25:27.465795Z",
     "iopub.status.idle": "2021-05-22T00:25:27.468191Z",
     "shell.execute_reply": "2021-05-22T00:25:27.467615Z"
    },
    "papermill": {
     "duration": 0.046014,
     "end_time": "2021-05-22T00:25:27.468334",
     "exception": false,
     "start_time": "2021-05-22T00:25:27.422320",
     "status": "completed"
    },
    "tags": []
   },
   "outputs": [],
   "source": [
    "#hide\n",
    "def get_mappings(url):\n",
    "    df = pd.read_csv(url)\n",
    "    return {\n",
    "        'df': df,\n",
    "        'replace.country': dict(df.dropna(subset=['Name']).set_index('Country')['Name']),\n",
    "        'map.continent': dict(df.set_index('Name')['Continent'])\n",
    "    }"
   ]
  },
  {
   "cell_type": "code",
   "execution_count": 5,
   "id": "intimate-machinery",
   "metadata": {
    "execution": {
     "iopub.execute_input": "2021-05-22T00:25:27.550425Z",
     "iopub.status.busy": "2021-05-22T00:25:27.549726Z",
     "iopub.status.idle": "2021-05-22T00:25:27.577396Z",
     "shell.execute_reply": "2021-05-22T00:25:27.578021Z"
    },
    "papermill": {
     "duration": 0.071025,
     "end_time": "2021-05-22T00:25:27.578158",
     "exception": false,
     "start_time": "2021-05-22T00:25:27.507133",
     "status": "completed"
    },
    "tags": []
   },
   "outputs": [],
   "source": [
    "#hide\n",
    "mapping = get_mappings(paths['mapping'])"
   ]
  },
  {
   "cell_type": "code",
   "execution_count": 6,
   "id": "certified-tactics",
   "metadata": {
    "execution": {
     "iopub.execute_input": "2021-05-22T00:25:27.657703Z",
     "iopub.status.busy": "2021-05-22T00:25:27.656869Z",
     "iopub.status.idle": "2021-05-22T00:25:27.659460Z",
     "shell.execute_reply": "2021-05-22T00:25:27.658823Z"
    },
    "papermill": {
     "duration": 0.045318,
     "end_time": "2021-05-22T00:25:27.659575",
     "exception": false,
     "start_time": "2021-05-22T00:25:27.614257",
     "status": "completed"
    },
    "tags": []
   },
   "outputs": [],
   "source": [
    "#hide\n",
    "def get_template(path):\n",
    "    from urllib.parse import urlparse\n",
    "    if bool(urlparse(path).netloc):\n",
    "        from urllib.request import urlopen\n",
    "        return urlopen(path).read().decode('utf8')\n",
    "    return open(path).read()"
   ]
  },
  {
   "cell_type": "code",
   "execution_count": 7,
   "id": "realistic-blast",
   "metadata": {
    "execution": {
     "iopub.execute_input": "2021-05-22T00:25:27.737793Z",
     "iopub.status.busy": "2021-05-22T00:25:27.737196Z",
     "iopub.status.idle": "2021-05-22T00:25:27.740234Z",
     "shell.execute_reply": "2021-05-22T00:25:27.739621Z"
    },
    "papermill": {
     "duration": 0.043718,
     "end_time": "2021-05-22T00:25:27.740386",
     "exception": false,
     "start_time": "2021-05-22T00:25:27.696668",
     "status": "completed"
    },
    "tags": []
   },
   "outputs": [],
   "source": [
    "#hide\n",
    "def get_frame(name):\n",
    "    url = (\n",
    "        'https://raw.githubusercontent.com/CSSEGISandData/COVID-19/master/csse_covid_19_data/'\n",
    "        f'csse_covid_19_time_series/time_series_covid19_{name}_global.csv')\n",
    "    df = pd.read_csv(url)\n",
    "    # rename countries\n",
    "    df['Country/Region'] = df['Country/Region'].replace(mapping['replace.country'])\n",
    "    return df"
   ]
  },
  {
   "cell_type": "code",
   "execution_count": 8,
   "id": "affiliated-characterization",
   "metadata": {
    "execution": {
     "iopub.execute_input": "2021-05-22T00:25:27.821862Z",
     "iopub.status.busy": "2021-05-22T00:25:27.821077Z",
     "iopub.status.idle": "2021-05-22T00:25:27.823755Z",
     "shell.execute_reply": "2021-05-22T00:25:27.823207Z"
    },
    "papermill": {
     "duration": 0.04459,
     "end_time": "2021-05-22T00:25:27.823864",
     "exception": false,
     "start_time": "2021-05-22T00:25:27.779274",
     "status": "completed"
    },
    "tags": []
   },
   "outputs": [],
   "source": [
    "#hide\n",
    "def get_dates(df):\n",
    "    dt_cols = df.columns[~df.columns.isin(['Province/State', 'Country/Region', 'Lat', 'Long'])]\n",
    "    LAST_DATE_I = -1\n",
    "    # sometimes last column may be empty, then go backwards\n",
    "    for i in range(-1, -len(dt_cols), -1):\n",
    "        if not df[dt_cols[i]].fillna(0).eq(0).all():\n",
    "            LAST_DATE_I = i\n",
    "            break\n",
    "    return LAST_DATE_I, dt_cols"
   ]
  },
  {
   "cell_type": "code",
   "execution_count": 9,
   "id": "recent-optimization",
   "metadata": {
    "execution": {
     "iopub.execute_input": "2021-05-22T00:25:27.903906Z",
     "iopub.status.busy": "2021-05-22T00:25:27.903263Z",
     "iopub.status.idle": "2021-05-22T00:25:28.195255Z",
     "shell.execute_reply": "2021-05-22T00:25:28.194698Z"
    },
    "papermill": {
     "duration": 0.333266,
     "end_time": "2021-05-22T00:25:28.195429",
     "exception": false,
     "start_time": "2021-05-22T00:25:27.862163",
     "status": "completed"
    },
    "tags": []
   },
   "outputs": [],
   "source": [
    "#hide\n",
    "COL_REGION = 'Country/Region'\n",
    "# Confirmed, Recovered, Deaths\n",
    "df = get_frame('confirmed')\n",
    "# dft_: timeseries, dfc_: today country agg\n",
    "dft_cases = df\n",
    "dft_deaths = get_frame('deaths')\n",
    "dft_recovered = get_frame('recovered')\n",
    "LAST_DATE_I, dt_cols = get_dates(df)"
   ]
  },
  {
   "cell_type": "code",
   "execution_count": 10,
   "id": "absolute-copper",
   "metadata": {
    "execution": {
     "iopub.execute_input": "2021-05-22T00:25:28.276981Z",
     "iopub.status.busy": "2021-05-22T00:25:28.276397Z",
     "iopub.status.idle": "2021-05-22T00:25:28.278658Z",
     "shell.execute_reply": "2021-05-22T00:25:28.279263Z"
    },
    "papermill": {
     "duration": 0.044782,
     "end_time": "2021-05-22T00:25:28.279417",
     "exception": false,
     "start_time": "2021-05-22T00:25:28.234635",
     "status": "completed"
    },
    "tags": []
   },
   "outputs": [],
   "source": [
    "#hide\n",
    "LAST_DATE_I, dt_cols = get_dates(df)\n",
    "dt_today =dt_cols[LAST_DATE_I]\n",
    "# dt_5day = dt_cols[LAST_DATE_I - 5]\n",
    "dt_yday = dt_cols[LAST_DATE_I - 1]"
   ]
  },
  {
   "cell_type": "code",
   "execution_count": 11,
   "id": "restricted-sheriff",
   "metadata": {
    "execution": {
     "iopub.execute_input": "2021-05-22T00:25:28.358453Z",
     "iopub.status.busy": "2021-05-22T00:25:28.357760Z",
     "iopub.status.idle": "2021-05-22T00:25:28.366921Z",
     "shell.execute_reply": "2021-05-22T00:25:28.367436Z"
    },
    "papermill": {
     "duration": 0.051165,
     "end_time": "2021-05-22T00:25:28.367570",
     "exception": false,
     "start_time": "2021-05-22T00:25:28.316405",
     "status": "completed"
    },
    "tags": []
   },
   "outputs": [],
   "source": [
    "#hide\n",
    "dfc_cases = dft_cases.groupby(COL_REGION)[dt_today].sum()\n",
    "dfc_deaths = dft_deaths.groupby(COL_REGION)[dt_today].sum()\n",
    "# dfp_cases = dft_cases.groupby(COL_REGION)[dt_5day].sum()\n",
    "# dfp_deaths = dft_deaths.groupby(COL_REGION)[dt_5day].sum()\n",
    "dfp_cases = dft_cases.groupby(COL_REGION)[dt_yday].sum()\n",
    "dfp_deaths = dft_deaths.groupby(COL_REGION)[dt_yday].sum()"
   ]
  },
  {
   "cell_type": "code",
   "execution_count": 12,
   "id": "deluxe-hepatitis",
   "metadata": {
    "execution": {
     "iopub.execute_input": "2021-05-22T00:25:28.446520Z",
     "iopub.status.busy": "2021-05-22T00:25:28.445772Z",
     "iopub.status.idle": "2021-05-22T00:25:28.450788Z",
     "shell.execute_reply": "2021-05-22T00:25:28.451485Z"
    },
    "papermill": {
     "duration": 0.048105,
     "end_time": "2021-05-22T00:25:28.451601",
     "exception": false,
     "start_time": "2021-05-22T00:25:28.403496",
     "status": "completed"
    },
    "tags": []
   },
   "outputs": [],
   "source": [
    "#hide\n",
    "df_table = (pd.DataFrame(dict(Cases = dfc_cases, Deaths = dfc_deaths, PCases = dfp_cases, PDeaths = dfp_deaths))\n",
    "            .sort_values(by = ['Cases','Deaths'], ascending = [False, False])\n",
    "            .reset_index())"
   ]
  },
  {
   "cell_type": "code",
   "execution_count": 13,
   "id": "educational-chancellor",
   "metadata": {
    "execution": {
     "iopub.execute_input": "2021-05-22T00:25:28.548682Z",
     "iopub.status.busy": "2021-05-22T00:25:28.547217Z",
     "iopub.status.idle": "2021-05-22T00:25:28.556242Z",
     "shell.execute_reply": "2021-05-22T00:25:28.556827Z"
    },
    "papermill": {
     "duration": 0.068067,
     "end_time": "2021-05-22T00:25:28.556956",
     "exception": false,
     "start_time": "2021-05-22T00:25:28.488889",
     "status": "completed"
    },
    "tags": []
   },
   "outputs": [
    {
     "data": {
      "text/html": [
       "<div>\n",
       "<style scoped>\n",
       "    .dataframe tbody tr th:only-of-type {\n",
       "        vertical-align: middle;\n",
       "    }\n",
       "\n",
       "    .dataframe tbody tr th {\n",
       "        vertical-align: top;\n",
       "    }\n",
       "\n",
       "    .dataframe thead th {\n",
       "        text-align: right;\n",
       "    }\n",
       "</style>\n",
       "<table border=\"1\" class=\"dataframe\">\n",
       "  <thead>\n",
       "    <tr style=\"text-align: right;\">\n",
       "      <th></th>\n",
       "      <th>Country/Region</th>\n",
       "      <th>Cases</th>\n",
       "      <th>Deaths</th>\n",
       "      <th>PCases</th>\n",
       "      <th>PDeaths</th>\n",
       "      <th>Cases (+)</th>\n",
       "      <th>Deaths (+)</th>\n",
       "      <th>Fatality Rate</th>\n",
       "      <th>Continent</th>\n",
       "    </tr>\n",
       "  </thead>\n",
       "  <tbody>\n",
       "    <tr>\n",
       "      <th>0</th>\n",
       "      <td>US</td>\n",
       "      <td>33056765</td>\n",
       "      <td>588539</td>\n",
       "      <td>33026624</td>\n",
       "      <td>587874</td>\n",
       "      <td>30141</td>\n",
       "      <td>665</td>\n",
       "      <td>1.78</td>\n",
       "      <td>North America</td>\n",
       "    </tr>\n",
       "    <tr>\n",
       "      <th>1</th>\n",
       "      <td>India</td>\n",
       "      <td>26031991</td>\n",
       "      <td>291331</td>\n",
       "      <td>25772440</td>\n",
       "      <td>287122</td>\n",
       "      <td>259551</td>\n",
       "      <td>4209</td>\n",
       "      <td>1.12</td>\n",
       "      <td>Asia</td>\n",
       "    </tr>\n",
       "    <tr>\n",
       "      <th>2</th>\n",
       "      <td>Brazil</td>\n",
       "      <td>15894094</td>\n",
       "      <td>444094</td>\n",
       "      <td>15812055</td>\n",
       "      <td>441691</td>\n",
       "      <td>82039</td>\n",
       "      <td>2403</td>\n",
       "      <td>2.79</td>\n",
       "      <td>South America</td>\n",
       "    </tr>\n",
       "    <tr>\n",
       "      <th>3</th>\n",
       "      <td>France</td>\n",
       "      <td>5979099</td>\n",
       "      <td>108343</td>\n",
       "      <td>5978650</td>\n",
       "      <td>108342</td>\n",
       "      <td>449</td>\n",
       "      <td>1</td>\n",
       "      <td>1.81</td>\n",
       "      <td>Europe</td>\n",
       "    </tr>\n",
       "    <tr>\n",
       "      <th>4</th>\n",
       "      <td>Turkey</td>\n",
       "      <td>5160423</td>\n",
       "      <td>45626</td>\n",
       "      <td>5151038</td>\n",
       "      <td>45419</td>\n",
       "      <td>9385</td>\n",
       "      <td>207</td>\n",
       "      <td>0.88</td>\n",
       "      <td>Asia</td>\n",
       "    </tr>\n",
       "  </tbody>\n",
       "</table>\n",
       "</div>"
      ],
      "text/plain": [
       "  Country/Region     Cases  Deaths    PCases  PDeaths  Cases (+)  Deaths (+)  \\\n",
       "0             US  33056765  588539  33026624   587874      30141         665   \n",
       "1          India  26031991  291331  25772440   287122     259551        4209   \n",
       "2         Brazil  15894094  444094  15812055   441691      82039        2403   \n",
       "3         France   5979099  108343   5978650   108342        449           1   \n",
       "4         Turkey   5160423   45626   5151038    45419       9385         207   \n",
       "\n",
       "   Fatality Rate      Continent  \n",
       "0           1.78  North America  \n",
       "1           1.12           Asia  \n",
       "2           2.79  South America  \n",
       "3           1.81         Europe  \n",
       "4           0.88           Asia  "
      ]
     },
     "execution_count": 13,
     "metadata": {},
     "output_type": "execute_result"
    }
   ],
   "source": [
    "#hide\n",
    "for c in 'Cases, Deaths'.split(', '):\n",
    "    df_table[f'{c} (+)'] = (df_table[c] - df_table[f'P{c}']).clip(0)\n",
    "    #Clip ça veut dire, les chiffres negatif sont interdit\n",
    "df_table['Fatality Rate'] = (100* df_table['Deaths']/ df_table['Cases']).round(2)\n",
    "df_table['Continent'] = df_table['Country/Region'].map(mapping['map.continent'])\n",
    "df_table.head(5)"
   ]
  },
  {
   "cell_type": "code",
   "execution_count": 14,
   "id": "aboriginal-bulgaria",
   "metadata": {
    "execution": {
     "iopub.execute_input": "2021-05-22T00:25:28.638899Z",
     "iopub.status.busy": "2021-05-22T00:25:28.638202Z",
     "iopub.status.idle": "2021-05-22T00:25:28.641546Z",
     "shell.execute_reply": "2021-05-22T00:25:28.642067Z"
    },
    "papermill": {
     "duration": 0.046621,
     "end_time": "2021-05-22T00:25:28.642229",
     "exception": false,
     "start_time": "2021-05-22T00:25:28.595608",
     "status": "completed"
    },
    "tags": []
   },
   "outputs": [],
   "source": [
    "#hide\n",
    "#delete problematic countries from table\n",
    "df_table = df_table[~df_table['Country/Region'].isin(['Cape Verde', 'Cruise Ship', 'Kosovo'])]"
   ]
  },
  {
   "cell_type": "code",
   "execution_count": 15,
   "id": "fantastic-effect",
   "metadata": {
    "execution": {
     "iopub.execute_input": "2021-05-22T00:25:28.725615Z",
     "iopub.status.busy": "2021-05-22T00:25:28.724987Z",
     "iopub.status.idle": "2021-05-22T00:25:28.747045Z",
     "shell.execute_reply": "2021-05-22T00:25:28.746496Z"
    },
    "papermill": {
     "duration": 0.067777,
     "end_time": "2021-05-22T00:25:28.747173",
     "exception": false,
     "start_time": "2021-05-22T00:25:28.679396",
     "status": "completed"
    },
    "tags": []
   },
   "outputs": [
    {
     "data": {
      "text/html": [
       "<div>\n",
       "<style scoped>\n",
       "    .dataframe tbody tr th:only-of-type {\n",
       "        vertical-align: middle;\n",
       "    }\n",
       "\n",
       "    .dataframe tbody tr th {\n",
       "        vertical-align: top;\n",
       "    }\n",
       "\n",
       "    .dataframe thead th {\n",
       "        text-align: right;\n",
       "    }\n",
       "</style>\n",
       "<table border=\"1\" class=\"dataframe\">\n",
       "  <thead>\n",
       "    <tr style=\"text-align: right;\">\n",
       "      <th></th>\n",
       "      <th>Country/Region</th>\n",
       "      <th>Cases</th>\n",
       "      <th>Deaths</th>\n",
       "      <th>PCases</th>\n",
       "      <th>PDeaths</th>\n",
       "      <th>Cases (+)</th>\n",
       "      <th>Deaths (+)</th>\n",
       "      <th>Fatality Rate</th>\n",
       "      <th>Continent</th>\n",
       "    </tr>\n",
       "  </thead>\n",
       "  <tbody>\n",
       "    <tr>\n",
       "      <th>0</th>\n",
       "      <td>US</td>\n",
       "      <td>33056765</td>\n",
       "      <td>588539</td>\n",
       "      <td>33026624</td>\n",
       "      <td>587874</td>\n",
       "      <td>30141</td>\n",
       "      <td>665</td>\n",
       "      <td>1.8</td>\n",
       "      <td>North America</td>\n",
       "    </tr>\n",
       "    <tr>\n",
       "      <th>1</th>\n",
       "      <td>India</td>\n",
       "      <td>26031991</td>\n",
       "      <td>291331</td>\n",
       "      <td>25772440</td>\n",
       "      <td>287122</td>\n",
       "      <td>259551</td>\n",
       "      <td>4209</td>\n",
       "      <td>1.1</td>\n",
       "      <td>Asia</td>\n",
       "    </tr>\n",
       "    <tr>\n",
       "      <th>2</th>\n",
       "      <td>Brazil</td>\n",
       "      <td>15894094</td>\n",
       "      <td>444094</td>\n",
       "      <td>15812055</td>\n",
       "      <td>441691</td>\n",
       "      <td>82039</td>\n",
       "      <td>2403</td>\n",
       "      <td>2.8</td>\n",
       "      <td>South America</td>\n",
       "    </tr>\n",
       "    <tr>\n",
       "      <th>3</th>\n",
       "      <td>France</td>\n",
       "      <td>5979099</td>\n",
       "      <td>108343</td>\n",
       "      <td>5978650</td>\n",
       "      <td>108342</td>\n",
       "      <td>449</td>\n",
       "      <td>1</td>\n",
       "      <td>1.8</td>\n",
       "      <td>Europe</td>\n",
       "    </tr>\n",
       "    <tr>\n",
       "      <th>4</th>\n",
       "      <td>Turkey</td>\n",
       "      <td>5160423</td>\n",
       "      <td>45626</td>\n",
       "      <td>5151038</td>\n",
       "      <td>45419</td>\n",
       "      <td>9385</td>\n",
       "      <td>207</td>\n",
       "      <td>0.9</td>\n",
       "      <td>Asia</td>\n",
       "    </tr>\n",
       "  </tbody>\n",
       "</table>\n",
       "</div>"
      ],
      "text/plain": [
       "  Country/Region     Cases  Deaths    PCases  PDeaths  Cases (+)  Deaths (+)  \\\n",
       "0             US  33056765  588539  33026624   587874      30141         665   \n",
       "1          India  26031991  291331  25772440   287122     259551        4209   \n",
       "2         Brazil  15894094  444094  15812055   441691      82039        2403   \n",
       "3         France   5979099  108343   5978650   108342        449           1   \n",
       "4         Turkey   5160423   45626   5151038    45419       9385         207   \n",
       "\n",
       "   Fatality Rate      Continent  \n",
       "0            1.8  North America  \n",
       "1            1.1           Asia  \n",
       "2            2.8  South America  \n",
       "3            1.8         Europe  \n",
       "4            0.9           Asia  "
      ]
     },
     "execution_count": 15,
     "metadata": {},
     "output_type": "execute_result"
    }
   ],
   "source": [
    "#hide\n",
    "df_table = (pd.DataFrame(dict(Cases=dfc_cases, Deaths=dfc_deaths, PCases=dfp_cases, PDeaths=dfp_deaths))\n",
    "             .sort_values(by=['Cases', 'Deaths'], ascending=[False, False])\n",
    "             .reset_index())\n",
    "df_table.rename(columns={'index': 'Country/Region'}, inplace=True)\n",
    "for c in 'Cases, Deaths'.split(', '):\n",
    "    df_table[f'{c} (+)'] = (df_table[c] - df_table[f'P{c}']).clip(0)  # DATA BUG\n",
    "df_table['Fatality Rate'] = (100 * df_table['Deaths'] / df_table['Cases']).round(1)\n",
    "df_table['Continent'] = df_table['Country/Region'].map(mapping['map.continent'])\n",
    "df_table.head(5)"
   ]
  },
  {
   "cell_type": "code",
   "execution_count": 16,
   "id": "fewer-occasion",
   "metadata": {
    "execution": {
     "iopub.execute_input": "2021-05-22T00:25:28.833228Z",
     "iopub.status.busy": "2021-05-22T00:25:28.832573Z",
     "iopub.status.idle": "2021-05-22T00:25:28.835131Z",
     "shell.execute_reply": "2021-05-22T00:25:28.834486Z"
    },
    "papermill": {
     "duration": 0.04829,
     "end_time": "2021-05-22T00:25:28.835254",
     "exception": false,
     "start_time": "2021-05-22T00:25:28.786964",
     "status": "completed"
    },
    "tags": []
   },
   "outputs": [],
   "source": [
    "#hide\n",
    "#delete problematic countries from table\n",
    "df_table = df_table[~df_table['Country/Region'].isin(['Cape Verde', 'Cruise Ship', 'Kosovo'])]"
   ]
  },
  {
   "cell_type": "code",
   "execution_count": 17,
   "id": "related-center",
   "metadata": {
    "execution": {
     "iopub.execute_input": "2021-05-22T00:25:28.926494Z",
     "iopub.status.busy": "2021-05-22T00:25:28.925847Z",
     "iopub.status.idle": "2021-05-22T00:25:28.935098Z",
     "shell.execute_reply": "2021-05-22T00:25:28.934597Z"
    },
    "papermill": {
     "duration": 0.061231,
     "end_time": "2021-05-22T00:25:28.935281",
     "exception": false,
     "start_time": "2021-05-22T00:25:28.874050",
     "status": "completed"
    },
    "tags": []
   },
   "outputs": [],
   "source": [
    "#hide\n",
    "metrics = [df_table.columns[index] for index in [1,2,5,6]]\n",
    "# s_china = df_table[df_table['Country/Region'].eq('China')][metrics].sum().add_prefix('China ')\n",
    "s_us = df_table[df_table['Country/Region'].eq('US')][metrics].sum().add_prefix('US ')\n",
    "s_eu = df_table[df_table['Continent'].eq('Europe')][metrics].sum().add_prefix('EU ')\n",
    "s_ind = df_table[df_table['Country/Region'].eq('India')][metrics].sum().add_prefix('India ')\n",
    "summary = {'updated': pd.to_datetime(dt_today), 'since': pd.to_datetime(dt_yday)}\n",
    "summary = {'updated': pd.to_datetime(dt_today), 'since': pd.to_datetime(dt_yday)}\n",
    "summary = {**summary, **df_table[metrics].sum(), **s_ind, **s_us, **s_eu}"
   ]
  },
  {
   "cell_type": "code",
   "execution_count": 18,
   "id": "engaging-syndrome",
   "metadata": {
    "execution": {
     "iopub.execute_input": "2021-05-22T00:25:29.017766Z",
     "iopub.status.busy": "2021-05-22T00:25:29.017104Z",
     "iopub.status.idle": "2021-05-22T00:25:29.029220Z",
     "shell.execute_reply": "2021-05-22T00:25:29.029740Z"
    },
    "papermill": {
     "duration": 0.055833,
     "end_time": "2021-05-22T00:25:29.029864",
     "exception": false,
     "start_time": "2021-05-22T00:25:28.974031",
     "status": "completed"
    },
    "tags": []
   },
   "outputs": [],
   "source": [
    "#hide\n",
    "dft_ct_new_cases = dft_cases.groupby(COL_REGION)[dt_cols].sum().diff(axis=1).fillna(0).astype(int)"
   ]
  },
  {
   "cell_type": "code",
   "execution_count": 19,
   "id": "neutral-assignment",
   "metadata": {
    "execution": {
     "iopub.execute_input": "2021-05-22T00:25:29.117394Z",
     "iopub.status.busy": "2021-05-22T00:25:29.116652Z",
     "iopub.status.idle": "2021-05-22T00:25:29.119244Z",
     "shell.execute_reply": "2021-05-22T00:25:29.118587Z"
    },
    "papermill": {
     "duration": 0.048401,
     "end_time": "2021-05-22T00:25:29.119426",
     "exception": false,
     "start_time": "2021-05-22T00:25:29.071025",
     "status": "completed"
    },
    "tags": []
   },
   "outputs": [],
   "source": [
    "#hide\n",
    "everydaycases = dft_ct_new_cases.cumsum(axis=1)"
   ]
  },
  {
   "cell_type": "code",
   "execution_count": 20,
   "id": "parliamentary-calgary",
   "metadata": {
    "execution": {
     "iopub.execute_input": "2021-05-22T00:25:29.201333Z",
     "iopub.status.busy": "2021-05-22T00:25:29.200636Z",
     "iopub.status.idle": "2021-05-22T00:25:29.783441Z",
     "shell.execute_reply": "2021-05-22T00:25:29.784017Z"
    },
    "papermill": {
     "duration": 0.625972,
     "end_time": "2021-05-22T00:25:29.784217",
     "exception": false,
     "start_time": "2021-05-22T00:25:29.158245",
     "status": "completed"
    },
    "tags": []
   },
   "outputs": [],
   "source": [
    "#hide\n",
    "import pandas as pd\n",
    "import matplotlib.pyplot as plt\n",
    "import matplotlib.ticker as ticker\n",
    "import matplotlib.animation as animation\n",
    "from IPython.display import HTML"
   ]
  },
  {
   "cell_type": "code",
   "execution_count": 21,
   "id": "lasting-extraction",
   "metadata": {
    "execution": {
     "iopub.execute_input": "2021-05-22T00:25:29.870838Z",
     "iopub.status.busy": "2021-05-22T00:25:29.870205Z",
     "iopub.status.idle": "2021-05-22T00:25:29.875342Z",
     "shell.execute_reply": "2021-05-22T00:25:29.875945Z"
    },
    "papermill": {
     "duration": 0.051509,
     "end_time": "2021-05-22T00:25:29.876127",
     "exception": false,
     "start_time": "2021-05-22T00:25:29.824618",
     "status": "completed"
    },
    "tags": []
   },
   "outputs": [],
   "source": [
    "#hide\n",
    "t = everydaycases.stack()"
   ]
  },
  {
   "cell_type": "code",
   "execution_count": 22,
   "id": "premier-sleeve",
   "metadata": {
    "execution": {
     "iopub.execute_input": "2021-05-22T00:25:29.958310Z",
     "iopub.status.busy": "2021-05-22T00:25:29.957670Z",
     "iopub.status.idle": "2021-05-22T00:25:29.965187Z",
     "shell.execute_reply": "2021-05-22T00:25:29.965749Z"
    },
    "papermill": {
     "duration": 0.049723,
     "end_time": "2021-05-22T00:25:29.965869",
     "exception": false,
     "start_time": "2021-05-22T00:25:29.916146",
     "status": "completed"
    },
    "tags": []
   },
   "outputs": [],
   "source": [
    "#hide\n",
    "g = t.reset_index(['Country/Region'])"
   ]
  },
  {
   "cell_type": "code",
   "execution_count": 23,
   "id": "distributed-pittsburgh",
   "metadata": {
    "execution": {
     "iopub.execute_input": "2021-05-22T00:25:30.046709Z",
     "iopub.status.busy": "2021-05-22T00:25:30.046115Z",
     "iopub.status.idle": "2021-05-22T00:25:30.048138Z",
     "shell.execute_reply": "2021-05-22T00:25:30.048657Z"
    },
    "papermill": {
     "duration": 0.043977,
     "end_time": "2021-05-22T00:25:30.048775",
     "exception": false,
     "start_time": "2021-05-22T00:25:30.004798",
     "status": "completed"
    },
    "tags": []
   },
   "outputs": [],
   "source": [
    "#hide\n",
    "g.index.name = 'date'"
   ]
  },
  {
   "cell_type": "code",
   "execution_count": 24,
   "id": "naked-donor",
   "metadata": {
    "execution": {
     "iopub.execute_input": "2021-05-22T00:25:30.130808Z",
     "iopub.status.busy": "2021-05-22T00:25:30.130240Z",
     "iopub.status.idle": "2021-05-22T00:25:30.132097Z",
     "shell.execute_reply": "2021-05-22T00:25:30.132546Z"
    },
    "papermill": {
     "duration": 0.043591,
     "end_time": "2021-05-22T00:25:30.132666",
     "exception": false,
     "start_time": "2021-05-22T00:25:30.089075",
     "status": "completed"
    },
    "tags": []
   },
   "outputs": [],
   "source": [
    "# #hide\n",
    "# g = g.reset_index(['date'])"
   ]
  },
  {
   "cell_type": "code",
   "execution_count": 25,
   "id": "incomplete-mustang",
   "metadata": {
    "execution": {
     "iopub.execute_input": "2021-05-22T00:25:30.207932Z",
     "iopub.status.busy": "2021-05-22T00:25:30.207225Z",
     "iopub.status.idle": "2021-05-22T00:25:30.209810Z",
     "shell.execute_reply": "2021-05-22T00:25:30.209364Z"
    },
    "papermill": {
     "duration": 0.040334,
     "end_time": "2021-05-22T00:25:30.209909",
     "exception": false,
     "start_time": "2021-05-22T00:25:30.169575",
     "status": "completed"
    },
    "tags": []
   },
   "outputs": [],
   "source": [
    "#hide\n",
    "# g.head()"
   ]
  },
  {
   "cell_type": "code",
   "execution_count": 26,
   "id": "specific-kruger",
   "metadata": {
    "execution": {
     "iopub.execute_input": "2021-05-22T00:25:30.292191Z",
     "iopub.status.busy": "2021-05-22T00:25:30.291425Z",
     "iopub.status.idle": "2021-05-22T00:25:30.293403Z",
     "shell.execute_reply": "2021-05-22T00:25:30.293913Z"
    },
    "papermill": {
     "duration": 0.045455,
     "end_time": "2021-05-22T00:25:30.294045",
     "exception": false,
     "start_time": "2021-05-22T00:25:30.248590",
     "status": "completed"
    },
    "tags": []
   },
   "outputs": [],
   "source": [
    "#hide\n",
    "# g.columns = ['date','country','cases']"
   ]
  },
  {
   "cell_type": "code",
   "execution_count": 27,
   "id": "tender-conversion",
   "metadata": {
    "execution": {
     "iopub.execute_input": "2021-05-22T00:25:30.376662Z",
     "iopub.status.busy": "2021-05-22T00:25:30.375975Z",
     "iopub.status.idle": "2021-05-22T00:25:30.378655Z",
     "shell.execute_reply": "2021-05-22T00:25:30.378098Z"
    },
    "papermill": {
     "duration": 0.045103,
     "end_time": "2021-05-22T00:25:30.378777",
     "exception": false,
     "start_time": "2021-05-22T00:25:30.333674",
     "status": "completed"
    },
    "tags": []
   },
   "outputs": [],
   "source": [
    "#hide\n",
    "# g['continent'] = g.country"
   ]
  },
  {
   "cell_type": "code",
   "execution_count": 28,
   "id": "substantial-wilderness",
   "metadata": {
    "execution": {
     "iopub.execute_input": "2021-05-22T00:25:30.463799Z",
     "iopub.status.busy": "2021-05-22T00:25:30.463102Z",
     "iopub.status.idle": "2021-05-22T00:25:30.465541Z",
     "shell.execute_reply": "2021-05-22T00:25:30.464876Z"
    },
    "papermill": {
     "duration": 0.047549,
     "end_time": "2021-05-22T00:25:30.465681",
     "exception": false,
     "start_time": "2021-05-22T00:25:30.418132",
     "status": "completed"
    },
    "tags": []
   },
   "outputs": [],
   "source": [
    "#hide\n",
    "# cols = list(g.columns.values)"
   ]
  },
  {
   "cell_type": "code",
   "execution_count": 29,
   "id": "solved-farming",
   "metadata": {
    "execution": {
     "iopub.execute_input": "2021-05-22T00:25:30.551595Z",
     "iopub.status.busy": "2021-05-22T00:25:30.551046Z",
     "iopub.status.idle": "2021-05-22T00:25:30.553639Z",
     "shell.execute_reply": "2021-05-22T00:25:30.553169Z"
    },
    "papermill": {
     "duration": 0.045839,
     "end_time": "2021-05-22T00:25:30.553763",
     "exception": false,
     "start_time": "2021-05-22T00:25:30.507924",
     "status": "completed"
    },
    "tags": []
   },
   "outputs": [],
   "source": [
    "#hide\n",
    "# cols.insert(0, cols.pop())"
   ]
  },
  {
   "cell_type": "code",
   "execution_count": 30,
   "id": "executed-adoption",
   "metadata": {
    "execution": {
     "iopub.execute_input": "2021-05-22T00:25:30.633397Z",
     "iopub.status.busy": "2021-05-22T00:25:30.632686Z",
     "iopub.status.idle": "2021-05-22T00:25:30.634765Z",
     "shell.execute_reply": "2021-05-22T00:25:30.635360Z"
    },
    "papermill": {
     "duration": 0.041949,
     "end_time": "2021-05-22T00:25:30.635497",
     "exception": false,
     "start_time": "2021-05-22T00:25:30.593548",
     "status": "completed"
    },
    "tags": []
   },
   "outputs": [],
   "source": [
    "#hide\n",
    "# g = g[cols]"
   ]
  },
  {
   "cell_type": "code",
   "execution_count": 31,
   "id": "subject-dublin",
   "metadata": {
    "execution": {
     "iopub.execute_input": "2021-05-22T00:25:30.713192Z",
     "iopub.status.busy": "2021-05-22T00:25:30.712458Z",
     "iopub.status.idle": "2021-05-22T00:25:30.715014Z",
     "shell.execute_reply": "2021-05-22T00:25:30.714455Z"
    },
    "papermill": {
     "duration": 0.042249,
     "end_time": "2021-05-22T00:25:30.715138",
     "exception": false,
     "start_time": "2021-05-22T00:25:30.672889",
     "status": "completed"
    },
    "tags": []
   },
   "outputs": [],
   "source": [
    "#hide\n",
    "# g['continent'] = g['continent'].map(mapping['map.continent'])"
   ]
  },
  {
   "cell_type": "code",
   "execution_count": 32,
   "id": "freelance-scout",
   "metadata": {
    "execution": {
     "iopub.execute_input": "2021-05-22T00:25:30.796017Z",
     "iopub.status.busy": "2021-05-22T00:25:30.795379Z",
     "iopub.status.idle": "2021-05-22T00:25:30.797771Z",
     "shell.execute_reply": "2021-05-22T00:25:30.797289Z"
    },
    "papermill": {
     "duration": 0.044777,
     "end_time": "2021-05-22T00:25:30.797881",
     "exception": false,
     "start_time": "2021-05-22T00:25:30.753104",
     "status": "completed"
    },
    "tags": []
   },
   "outputs": [],
   "source": [
    "#hide\n",
    "# g.head()"
   ]
  },
  {
   "cell_type": "code",
   "execution_count": 33,
   "id": "limited-engine",
   "metadata": {
    "execution": {
     "iopub.execute_input": "2021-05-22T00:25:30.877024Z",
     "iopub.status.busy": "2021-05-22T00:25:30.876311Z",
     "iopub.status.idle": "2021-05-22T00:25:30.878976Z",
     "shell.execute_reply": "2021-05-22T00:25:30.878489Z"
    },
    "papermill": {
     "duration": 0.043171,
     "end_time": "2021-05-22T00:25:30.879094",
     "exception": false,
     "start_time": "2021-05-22T00:25:30.835923",
     "status": "completed"
    },
    "tags": []
   },
   "outputs": [],
   "source": [
    "# hide\n",
    "# g['date'] = g['date'].astype('datetime64[ns]')"
   ]
  },
  {
   "cell_type": "code",
   "execution_count": 34,
   "id": "sophisticated-supervisor",
   "metadata": {
    "execution": {
     "iopub.execute_input": "2021-05-22T00:25:30.960519Z",
     "iopub.status.busy": "2021-05-22T00:25:30.959794Z",
     "iopub.status.idle": "2021-05-22T00:25:30.962354Z",
     "shell.execute_reply": "2021-05-22T00:25:30.961824Z"
    },
    "papermill": {
     "duration": 0.045599,
     "end_time": "2021-05-22T00:25:30.962470",
     "exception": false,
     "start_time": "2021-05-22T00:25:30.916871",
     "status": "completed"
    },
    "tags": []
   },
   "outputs": [],
   "source": [
    "#hide\n",
    "# g['date'] = g.date.dt.dayofyear"
   ]
  },
  {
   "cell_type": "code",
   "execution_count": 35,
   "id": "inside-dubai",
   "metadata": {
    "execution": {
     "iopub.execute_input": "2021-05-22T00:25:31.044131Z",
     "iopub.status.busy": "2021-05-22T00:25:31.043531Z",
     "iopub.status.idle": "2021-05-22T00:25:31.046273Z",
     "shell.execute_reply": "2021-05-22T00:25:31.045766Z"
    },
    "papermill": {
     "duration": 0.044955,
     "end_time": "2021-05-22T00:25:31.046418",
     "exception": false,
     "start_time": "2021-05-22T00:25:31.001463",
     "status": "completed"
    },
    "tags": []
   },
   "outputs": [],
   "source": [
    "#hide\n",
    "# g = g.rename(columns= {'continent':'group','country':'name','cases':'value'})"
   ]
  },
  {
   "cell_type": "code",
   "execution_count": 36,
   "id": "fleet-motorcycle",
   "metadata": {
    "execution": {
     "iopub.execute_input": "2021-05-22T00:25:31.135238Z",
     "iopub.status.busy": "2021-05-22T00:25:31.134601Z",
     "iopub.status.idle": "2021-05-22T00:25:31.137447Z",
     "shell.execute_reply": "2021-05-22T00:25:31.136721Z"
    },
    "papermill": {
     "duration": 0.044832,
     "end_time": "2021-05-22T00:25:31.137602",
     "exception": false,
     "start_time": "2021-05-22T00:25:31.092770",
     "status": "completed"
    },
    "tags": []
   },
   "outputs": [],
   "source": [
    "#hide\n",
    "# cols = ['name','group','day','value']"
   ]
  },
  {
   "cell_type": "code",
   "execution_count": 37,
   "id": "continued-sleeping",
   "metadata": {
    "execution": {
     "iopub.execute_input": "2021-05-22T00:25:31.218503Z",
     "iopub.status.busy": "2021-05-22T00:25:31.217729Z",
     "iopub.status.idle": "2021-05-22T00:25:31.219808Z",
     "shell.execute_reply": "2021-05-22T00:25:31.220443Z"
    },
    "papermill": {
     "duration": 0.043452,
     "end_time": "2021-05-22T00:25:31.220568",
     "exception": false,
     "start_time": "2021-05-22T00:25:31.177116",
     "status": "completed"
    },
    "tags": []
   },
   "outputs": [],
   "source": [
    "#hide\n",
    "# g.rename(columns= {'date':'day'},inplace = True)"
   ]
  },
  {
   "cell_type": "code",
   "execution_count": 38,
   "id": "major-fight",
   "metadata": {
    "execution": {
     "iopub.execute_input": "2021-05-22T00:25:31.299982Z",
     "iopub.status.busy": "2021-05-22T00:25:31.299327Z",
     "iopub.status.idle": "2021-05-22T00:25:31.301804Z",
     "shell.execute_reply": "2021-05-22T00:25:31.301152Z"
    },
    "papermill": {
     "duration": 0.042667,
     "end_time": "2021-05-22T00:25:31.301932",
     "exception": false,
     "start_time": "2021-05-22T00:25:31.259265",
     "status": "completed"
    },
    "tags": []
   },
   "outputs": [],
   "source": [
    "#hide\n",
    "# g = g[cols]"
   ]
  },
  {
   "cell_type": "code",
   "execution_count": 39,
   "id": "structured-mobile",
   "metadata": {
    "execution": {
     "iopub.execute_input": "2021-05-22T00:25:31.384809Z",
     "iopub.status.busy": "2021-05-22T00:25:31.384100Z",
     "iopub.status.idle": "2021-05-22T00:25:31.386518Z",
     "shell.execute_reply": "2021-05-22T00:25:31.386016Z"
    },
    "papermill": {
     "duration": 0.045133,
     "end_time": "2021-05-22T00:25:31.386637",
     "exception": false,
     "start_time": "2021-05-22T00:25:31.341504",
     "status": "completed"
    },
    "tags": []
   },
   "outputs": [],
   "source": [
    "# #hide\n",
    "# g = g[g.group.notna()]"
   ]
  },
  {
   "cell_type": "code",
   "execution_count": 40,
   "id": "determined-closing",
   "metadata": {
    "execution": {
     "iopub.execute_input": "2021-05-22T00:25:31.467722Z",
     "iopub.status.busy": "2021-05-22T00:25:31.467083Z",
     "iopub.status.idle": "2021-05-22T00:25:31.469723Z",
     "shell.execute_reply": "2021-05-22T00:25:31.469256Z"
    },
    "papermill": {
     "duration": 0.044226,
     "end_time": "2021-05-22T00:25:31.469848",
     "exception": false,
     "start_time": "2021-05-22T00:25:31.425622",
     "status": "completed"
    },
    "tags": []
   },
   "outputs": [],
   "source": [
    "# #hide\n",
    "# colors = dict(zip(\n",
    "#     [\"Oceania\", \"Europe\", \"Asia\", \"South America\", \"Middle East\", \"North America\", \"Africa\"],\n",
    "#     [\"#adb0ff\", \"#ffb3ff\", \"#90d595\", \"#e48381\", \"#aafbff\", \"#f7bb5f\", \"#eafb50\"]\n",
    "# ))\n",
    "# group_lk = g.set_index('name')['group'].to_dict()"
   ]
  },
  {
   "cell_type": "code",
   "execution_count": null,
   "id": "gross-drinking",
   "metadata": {
    "papermill": {
     "duration": 0.039924,
     "end_time": "2021-05-22T00:25:31.546165",
     "exception": false,
     "start_time": "2021-05-22T00:25:31.506241",
     "status": "completed"
    },
    "tags": []
   },
   "outputs": [],
   "source": []
  },
  {
   "cell_type": "code",
   "execution_count": 41,
   "id": "subject-macintosh",
   "metadata": {
    "execution": {
     "iopub.execute_input": "2021-05-22T00:25:31.628824Z",
     "iopub.status.busy": "2021-05-22T00:25:31.628144Z",
     "iopub.status.idle": "2021-05-22T00:25:31.630862Z",
     "shell.execute_reply": "2021-05-22T00:25:31.630145Z"
    },
    "papermill": {
     "duration": 0.045967,
     "end_time": "2021-05-22T00:25:31.631073",
     "exception": false,
     "start_time": "2021-05-22T00:25:31.585106",
     "status": "completed"
    },
    "tags": []
   },
   "outputs": [],
   "source": [
    "# #hide\n",
    "# fig, ax = plt.subplots(figsize=(15, 8))\n",
    "\n",
    "# def draw_barchart(current_day):\n",
    "#     dff = g[g['day'].eq(current_day)].sort_values(by='value', ascending=True).tail(10)\n",
    "#     ax.clear()\n",
    "#     ax.barh(dff['name'], dff['value'], color=[colors[group_lk[x]] for x in dff['name']])\n",
    "#     dx = dff['value'].max() / 200\n",
    "    \n",
    "#     for i, (value, name) in enumerate(zip(dff['value'], dff['name'])):\n",
    "#         ax.text(value-dx, i,     name,           size=14, weight=600, ha='right', va='bottom')\n",
    "#         ax.text(value-dx, i-.25, group_lk[name], size=10, color='#444444', ha='right', va='baseline')\n",
    "#         ax.text(value+dx, i,     f'{value:,.0f}',  size=14, ha='left',  va='center')\n",
    "#     ax.text(1, 0.4, current_day, transform=ax.transAxes, color='#777777', size=46, ha='right', weight=800)\n",
    "#     ax.text(0, 1.06, 'Population (thousands)', transform=ax.transAxes, size=12, color='#777777')\n",
    "#     ax.xaxis.set_major_formatter(ticker.StrMethodFormatter('{x:,.0f}'))\n",
    "#     ax.xaxis.set_ticks_position('top')\n",
    "#     ax.tick_params(axis='x', colors='#777777', labelsize=12)\n",
    "#     ax.set_yticks([])\n",
    "#     ax.margins(0, 0.01)\n",
    "#     ax.grid(which='major', axis='x', linestyle='-')\n",
    "#     ax.set_axisbelow(True)\n",
    "    \n",
    "#     ax.text(0, 1.15, 'Coronavirus',\n",
    "#             transform=ax.transAxes, size=24, weight=600, ha='left', va='top')\n",
    "# #     ax.text(1, 0, 'by @pratapvardhan; credit @jburnmurdoch', transform=ax.transAxes, color='#777777', ha='right',\n",
    "# #             bbox=dict(facecolor='white', alpha=0.8, edgecolor='white'))\n",
    "#     plt.box(False)"
   ]
  },
  {
   "cell_type": "code",
   "execution_count": 42,
   "id": "sexual-wages",
   "metadata": {
    "execution": {
     "iopub.execute_input": "2021-05-22T00:25:31.710978Z",
     "iopub.status.busy": "2021-05-22T00:25:31.710377Z",
     "iopub.status.idle": "2021-05-22T00:25:31.712938Z",
     "shell.execute_reply": "2021-05-22T00:25:31.712431Z"
    },
    "papermill": {
     "duration": 0.043599,
     "end_time": "2021-05-22T00:25:31.713062",
     "exception": false,
     "start_time": "2021-05-22T00:25:31.669463",
     "status": "completed"
    },
    "tags": []
   },
   "outputs": [],
   "source": [
    "# #hide_input\n",
    "# fig, ax = plt.subplots(figsize=(15, 8))\n",
    "# animator = animation.FuncAnimation(fig, draw_barchart, frames=range(g.day.values.min(), g.day.values.max()))\n",
    "# HTML(animator.to_jshtml())\n",
    "# # or use animator.to_html5_video() or animator.save() "
   ]
  },
  {
   "cell_type": "code",
   "execution_count": null,
   "id": "australian-container",
   "metadata": {
    "papermill": {
     "duration": 0.036949,
     "end_time": "2021-05-22T00:25:31.786873",
     "exception": false,
     "start_time": "2021-05-22T00:25:31.749924",
     "status": "completed"
    },
    "tags": []
   },
   "outputs": [],
   "source": []
  },
  {
   "cell_type": "code",
   "execution_count": null,
   "id": "mediterranean-pontiac",
   "metadata": {
    "papermill": {
     "duration": 0.038571,
     "end_time": "2021-05-22T00:25:31.863656",
     "exception": false,
     "start_time": "2021-05-22T00:25:31.825085",
     "status": "completed"
    },
    "tags": []
   },
   "outputs": [],
   "source": []
  },
  {
   "cell_type": "code",
   "execution_count": null,
   "id": "aging-legislature",
   "metadata": {
    "papermill": {
     "duration": 0.038156,
     "end_time": "2021-05-22T00:25:31.938835",
     "exception": false,
     "start_time": "2021-05-22T00:25:31.900679",
     "status": "completed"
    },
    "tags": []
   },
   "outputs": [],
   "source": []
  }
 ],
 "metadata": {
  "kernelspec": {
   "display_name": "Python 3",
   "language": "python",
   "name": "python3"
  },
  "language_info": {
   "codemirror_mode": {
    "name": "ipython",
    "version": 3
   },
   "file_extension": ".py",
   "mimetype": "text/x-python",
   "name": "python",
   "nbconvert_exporter": "python",
   "pygments_lexer": "ipython3",
   "version": "3.6.13"
  },
  "papermill": {
   "duration": 6.890261,
   "end_time": "2021-05-22T00:25:32.283885",
   "environment_variables": {},
   "exception": null,
   "input_path": "2020-03-21-covid19exp.ipynb",
   "output_path": "2020-03-21-covid19exp.ipynb",
   "parameters": {},
   "start_time": "2021-05-22T00:25:25.393624",
   "version": "2.0.0"
  }
 },
 "nbformat": 4,
 "nbformat_minor": 5
}