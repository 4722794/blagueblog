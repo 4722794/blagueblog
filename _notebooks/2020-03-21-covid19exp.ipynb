{
 "cells": [
  {
   "cell_type": "markdown",
   "id": "muslim-click",
   "metadata": {
    "papermill": {
     "duration": 0.04508,
     "end_time": "2021-12-03T00:25:22.733314",
     "exception": false,
     "start_time": "2021-12-03T00:25:22.688234",
     "status": "completed"
    },
    "tags": []
   },
   "source": [
    "# COVID-19 Case Race\n",
    "> A race chart to see rising cases around the world\n",
    "\n",
    "- author: Hargun Oberoi\n",
    "- image: images/covid-overview.png\n",
    "- hide: false\n",
    "- badges: false"
   ]
  },
  {
   "cell_type": "code",
   "execution_count": 1,
   "id": "proof-material",
   "metadata": {
    "execution": {
     "iopub.execute_input": "2021-12-03T00:25:22.826335Z",
     "iopub.status.busy": "2021-12-03T00:25:22.825541Z",
     "iopub.status.idle": "2021-12-03T00:25:23.242159Z",
     "shell.execute_reply": "2021-12-03T00:25:23.242637Z"
    },
    "papermill": {
     "duration": 0.466694,
     "end_time": "2021-12-03T00:25:23.242857",
     "exception": false,
     "start_time": "2021-12-03T00:25:22.776163",
     "status": "completed"
    },
    "tags": []
   },
   "outputs": [],
   "source": [
    "#hide\n",
    "import numpy as np\n",
    "import pandas as pd\n",
    "from jinja2 import Template\n",
    "from IPython.display import HTML"
   ]
  },
  {
   "cell_type": "code",
   "execution_count": 2,
   "id": "developed-terminology",
   "metadata": {
    "execution": {
     "iopub.execute_input": "2021-12-03T00:25:23.326462Z",
     "iopub.status.busy": "2021-12-03T00:25:23.325898Z",
     "iopub.status.idle": "2021-12-03T00:25:23.327970Z",
     "shell.execute_reply": "2021-12-03T00:25:23.327339Z"
    },
    "papermill": {
     "duration": 0.045883,
     "end_time": "2021-12-03T00:25:23.328095",
     "exception": false,
     "start_time": "2021-12-03T00:25:23.282212",
     "status": "completed"
    },
    "tags": []
   },
   "outputs": [],
   "source": [
    "#hide\n",
    "\n",
    "# FETCH\n",
    "base_url = 'https://raw.githubusercontent.com/pratapvardhan/notebooks/master/covid19/'\n",
    "paths = {\n",
    "    'mapping': base_url + 'mapping_countries.csv',\n",
    "    'overview': base_url + 'overview.tpl'\n",
    "}"
   ]
  },
  {
   "cell_type": "code",
   "execution_count": 3,
   "id": "dynamic-saver",
   "metadata": {
    "execution": {
     "iopub.execute_input": "2021-12-03T00:25:23.414813Z",
     "iopub.status.busy": "2021-12-03T00:25:23.414206Z",
     "iopub.status.idle": "2021-12-03T00:25:23.416968Z",
     "shell.execute_reply": "2021-12-03T00:25:23.417556Z"
    },
    "papermill": {
     "duration": 0.051805,
     "end_time": "2021-12-03T00:25:23.417732",
     "exception": false,
     "start_time": "2021-12-03T00:25:23.365927",
     "status": "completed"
    },
    "tags": []
   },
   "outputs": [
    {
     "data": {
      "text/plain": [
       "'https://raw.githubusercontent.com/pratapvardhan/notebooks/master/covid19/mapping_countries.csv'"
      ]
     },
     "execution_count": 3,
     "metadata": {},
     "output_type": "execute_result"
    }
   ],
   "source": [
    "#hide\n",
    "paths['mapping']"
   ]
  },
  {
   "cell_type": "code",
   "execution_count": 4,
   "id": "urban-software",
   "metadata": {
    "execution": {
     "iopub.execute_input": "2021-12-03T00:25:23.504029Z",
     "iopub.status.busy": "2021-12-03T00:25:23.503372Z",
     "iopub.status.idle": "2021-12-03T00:25:23.506191Z",
     "shell.execute_reply": "2021-12-03T00:25:23.505620Z"
    },
    "papermill": {
     "duration": 0.046523,
     "end_time": "2021-12-03T00:25:23.506357",
     "exception": false,
     "start_time": "2021-12-03T00:25:23.459834",
     "status": "completed"
    },
    "tags": []
   },
   "outputs": [],
   "source": [
    "#hide\n",
    "def get_mappings(url):\n",
    "    df = pd.read_csv(url)\n",
    "    return {\n",
    "        'df': df,\n",
    "        'replace.country': dict(df.dropna(subset=['Name']).set_index('Country')['Name']),\n",
    "        'map.continent': dict(df.set_index('Name')['Continent'])\n",
    "    }"
   ]
  },
  {
   "cell_type": "code",
   "execution_count": 5,
   "id": "intimate-machinery",
   "metadata": {
    "execution": {
     "iopub.execute_input": "2021-12-03T00:25:23.592614Z",
     "iopub.status.busy": "2021-12-03T00:25:23.591938Z",
     "iopub.status.idle": "2021-12-03T00:25:23.637377Z",
     "shell.execute_reply": "2021-12-03T00:25:23.636826Z"
    },
    "papermill": {
     "duration": 0.092352,
     "end_time": "2021-12-03T00:25:23.637549",
     "exception": false,
     "start_time": "2021-12-03T00:25:23.545197",
     "status": "completed"
    },
    "tags": []
   },
   "outputs": [],
   "source": [
    "#hide\n",
    "mapping = get_mappings(paths['mapping'])"
   ]
  },
  {
   "cell_type": "code",
   "execution_count": 6,
   "id": "certified-tactics",
   "metadata": {
    "execution": {
     "iopub.execute_input": "2021-12-03T00:25:23.739369Z",
     "iopub.status.busy": "2021-12-03T00:25:23.738574Z",
     "iopub.status.idle": "2021-12-03T00:25:23.741319Z",
     "shell.execute_reply": "2021-12-03T00:25:23.745034Z"
    },
    "papermill": {
     "duration": 0.053687,
     "end_time": "2021-12-03T00:25:23.745187",
     "exception": false,
     "start_time": "2021-12-03T00:25:23.691500",
     "status": "completed"
    },
    "tags": []
   },
   "outputs": [],
   "source": [
    "#hide\n",
    "def get_template(path):\n",
    "    from urllib.parse import urlparse\n",
    "    if bool(urlparse(path).netloc):\n",
    "        from urllib.request import urlopen\n",
    "        return urlopen(path).read().decode('utf8')\n",
    "    return open(path).read()"
   ]
  },
  {
   "cell_type": "code",
   "execution_count": 7,
   "id": "realistic-blast",
   "metadata": {
    "execution": {
     "iopub.execute_input": "2021-12-03T00:25:23.830391Z",
     "iopub.status.busy": "2021-12-03T00:25:23.829578Z",
     "iopub.status.idle": "2021-12-03T00:25:23.832345Z",
     "shell.execute_reply": "2021-12-03T00:25:23.831671Z"
    },
    "papermill": {
     "duration": 0.047035,
     "end_time": "2021-12-03T00:25:23.832494",
     "exception": false,
     "start_time": "2021-12-03T00:25:23.785459",
     "status": "completed"
    },
    "tags": []
   },
   "outputs": [],
   "source": [
    "#hide\n",
    "def get_frame(name):\n",
    "    url = (\n",
    "        'https://raw.githubusercontent.com/CSSEGISandData/COVID-19/master/csse_covid_19_data/'\n",
    "        f'csse_covid_19_time_series/time_series_covid19_{name}_global.csv')\n",
    "    df = pd.read_csv(url)\n",
    "    # rename countries\n",
    "    df['Country/Region'] = df['Country/Region'].replace(mapping['replace.country'])\n",
    "    return df"
   ]
  },
  {
   "cell_type": "code",
   "execution_count": 8,
   "id": "affiliated-characterization",
   "metadata": {
    "execution": {
     "iopub.execute_input": "2021-12-03T00:25:23.919189Z",
     "iopub.status.busy": "2021-12-03T00:25:23.918328Z",
     "iopub.status.idle": "2021-12-03T00:25:23.922560Z",
     "shell.execute_reply": "2021-12-03T00:25:23.923093Z"
    },
    "papermill": {
     "duration": 0.05004,
     "end_time": "2021-12-03T00:25:23.923250",
     "exception": false,
     "start_time": "2021-12-03T00:25:23.873210",
     "status": "completed"
    },
    "tags": []
   },
   "outputs": [],
   "source": [
    "#hide\n",
    "def get_dates(df):\n",
    "    dt_cols = df.columns[~df.columns.isin(['Province/State', 'Country/Region', 'Lat', 'Long'])]\n",
    "    LAST_DATE_I = -1\n",
    "    # sometimes last column may be empty, then go backwards\n",
    "    for i in range(-1, -len(dt_cols), -1):\n",
    "        if not df[dt_cols[i]].fillna(0).eq(0).all():\n",
    "            LAST_DATE_I = i\n",
    "            break\n",
    "    return LAST_DATE_I, dt_cols"
   ]
  },
  {
   "cell_type": "code",
   "execution_count": 9,
   "id": "recent-optimization",
   "metadata": {
    "execution": {
     "iopub.execute_input": "2021-12-03T00:25:24.008403Z",
     "iopub.status.busy": "2021-12-03T00:25:24.007593Z",
     "iopub.status.idle": "2021-12-03T00:25:24.481817Z",
     "shell.execute_reply": "2021-12-03T00:25:24.481165Z"
    },
    "papermill": {
     "duration": 0.51832,
     "end_time": "2021-12-03T00:25:24.481955",
     "exception": false,
     "start_time": "2021-12-03T00:25:23.963635",
     "status": "completed"
    },
    "tags": []
   },
   "outputs": [],
   "source": [
    "#hide\n",
    "COL_REGION = 'Country/Region'\n",
    "# Confirmed, Recovered, Deaths\n",
    "df = get_frame('confirmed')\n",
    "# dft_: timeseries, dfc_: today country agg\n",
    "dft_cases = df\n",
    "dft_deaths = get_frame('deaths')\n",
    "dft_recovered = get_frame('recovered')\n",
    "LAST_DATE_I, dt_cols = get_dates(df)"
   ]
  },
  {
   "cell_type": "code",
   "execution_count": 10,
   "id": "absolute-copper",
   "metadata": {
    "execution": {
     "iopub.execute_input": "2021-12-03T00:25:24.571392Z",
     "iopub.status.busy": "2021-12-03T00:25:24.570648Z",
     "iopub.status.idle": "2021-12-03T00:25:24.573210Z",
     "shell.execute_reply": "2021-12-03T00:25:24.572718Z"
    },
    "papermill": {
     "duration": 0.051576,
     "end_time": "2021-12-03T00:25:24.573343",
     "exception": false,
     "start_time": "2021-12-03T00:25:24.521767",
     "status": "completed"
    },
    "tags": []
   },
   "outputs": [],
   "source": [
    "#hide\n",
    "LAST_DATE_I, dt_cols = get_dates(df)\n",
    "dt_today =dt_cols[LAST_DATE_I]\n",
    "# dt_5day = dt_cols[LAST_DATE_I - 5]\n",
    "dt_yday = dt_cols[LAST_DATE_I - 1]"
   ]
  },
  {
   "cell_type": "code",
   "execution_count": 11,
   "id": "restricted-sheriff",
   "metadata": {
    "execution": {
     "iopub.execute_input": "2021-12-03T00:25:24.658979Z",
     "iopub.status.busy": "2021-12-03T00:25:24.658261Z",
     "iopub.status.idle": "2021-12-03T00:25:24.669123Z",
     "shell.execute_reply": "2021-12-03T00:25:24.668409Z"
    },
    "papermill": {
     "duration": 0.058222,
     "end_time": "2021-12-03T00:25:24.669281",
     "exception": false,
     "start_time": "2021-12-03T00:25:24.611059",
     "status": "completed"
    },
    "tags": []
   },
   "outputs": [],
   "source": [
    "#hide\n",
    "dfc_cases = dft_cases.groupby(COL_REGION)[dt_today].sum()\n",
    "dfc_deaths = dft_deaths.groupby(COL_REGION)[dt_today].sum()\n",
    "# dfp_cases = dft_cases.groupby(COL_REGION)[dt_5day].sum()\n",
    "# dfp_deaths = dft_deaths.groupby(COL_REGION)[dt_5day].sum()\n",
    "dfp_cases = dft_cases.groupby(COL_REGION)[dt_yday].sum()\n",
    "dfp_deaths = dft_deaths.groupby(COL_REGION)[dt_yday].sum()"
   ]
  },
  {
   "cell_type": "code",
   "execution_count": 12,
   "id": "deluxe-hepatitis",
   "metadata": {
    "execution": {
     "iopub.execute_input": "2021-12-03T00:25:24.756581Z",
     "iopub.status.busy": "2021-12-03T00:25:24.755891Z",
     "iopub.status.idle": "2021-12-03T00:25:24.762319Z",
     "shell.execute_reply": "2021-12-03T00:25:24.762870Z"
    },
    "papermill": {
     "duration": 0.05381,
     "end_time": "2021-12-03T00:25:24.763020",
     "exception": false,
     "start_time": "2021-12-03T00:25:24.709210",
     "status": "completed"
    },
    "tags": []
   },
   "outputs": [],
   "source": [
    "#hide\n",
    "df_table = (pd.DataFrame(dict(Cases = dfc_cases, Deaths = dfc_deaths, PCases = dfp_cases, PDeaths = dfp_deaths))\n",
    "            .sort_values(by = ['Cases','Deaths'], ascending = [False, False])\n",
    "            .reset_index())"
   ]
  },
  {
   "cell_type": "code",
   "execution_count": 13,
   "id": "educational-chancellor",
   "metadata": {
    "execution": {
     "iopub.execute_input": "2021-12-03T00:25:24.866664Z",
     "iopub.status.busy": "2021-12-03T00:25:24.865958Z",
     "iopub.status.idle": "2021-12-03T00:25:24.876430Z",
     "shell.execute_reply": "2021-12-03T00:25:24.876969Z"
    },
    "papermill": {
     "duration": 0.071703,
     "end_time": "2021-12-03T00:25:24.877141",
     "exception": false,
     "start_time": "2021-12-03T00:25:24.805438",
     "status": "completed"
    },
    "tags": []
   },
   "outputs": [
    {
     "data": {
      "text/html": [
       "<div>\n",
       "<style scoped>\n",
       "    .dataframe tbody tr th:only-of-type {\n",
       "        vertical-align: middle;\n",
       "    }\n",
       "\n",
       "    .dataframe tbody tr th {\n",
       "        vertical-align: top;\n",
       "    }\n",
       "\n",
       "    .dataframe thead th {\n",
       "        text-align: right;\n",
       "    }\n",
       "</style>\n",
       "<table border=\"1\" class=\"dataframe\">\n",
       "  <thead>\n",
       "    <tr style=\"text-align: right;\">\n",
       "      <th></th>\n",
       "      <th>Country/Region</th>\n",
       "      <th>Cases</th>\n",
       "      <th>Deaths</th>\n",
       "      <th>PCases</th>\n",
       "      <th>PDeaths</th>\n",
       "      <th>Cases (+)</th>\n",
       "      <th>Deaths (+)</th>\n",
       "      <th>Fatality Rate</th>\n",
       "      <th>Continent</th>\n",
       "    </tr>\n",
       "  </thead>\n",
       "  <tbody>\n",
       "    <tr>\n",
       "      <th>0</th>\n",
       "      <td>US</td>\n",
       "      <td>48691353</td>\n",
       "      <td>782100</td>\n",
       "      <td>48555974</td>\n",
       "      <td>780140</td>\n",
       "      <td>135379</td>\n",
       "      <td>1960</td>\n",
       "      <td>1.61</td>\n",
       "      <td>North America</td>\n",
       "    </tr>\n",
       "    <tr>\n",
       "      <th>1</th>\n",
       "      <td>India</td>\n",
       "      <td>34606541</td>\n",
       "      <td>469724</td>\n",
       "      <td>34596776</td>\n",
       "      <td>469247</td>\n",
       "      <td>9765</td>\n",
       "      <td>477</td>\n",
       "      <td>1.36</td>\n",
       "      <td>Asia</td>\n",
       "    </tr>\n",
       "    <tr>\n",
       "      <th>2</th>\n",
       "      <td>Brazil</td>\n",
       "      <td>22105872</td>\n",
       "      <td>614964</td>\n",
       "      <td>22094459</td>\n",
       "      <td>614681</td>\n",
       "      <td>11413</td>\n",
       "      <td>283</td>\n",
       "      <td>2.78</td>\n",
       "      <td>South America</td>\n",
       "    </tr>\n",
       "    <tr>\n",
       "      <th>3</th>\n",
       "      <td>United Kingdom</td>\n",
       "      <td>10333672</td>\n",
       "      <td>145586</td>\n",
       "      <td>10285745</td>\n",
       "      <td>145414</td>\n",
       "      <td>47927</td>\n",
       "      <td>172</td>\n",
       "      <td>1.41</td>\n",
       "      <td>Europe</td>\n",
       "    </tr>\n",
       "    <tr>\n",
       "      <th>4</th>\n",
       "      <td>Russia</td>\n",
       "      <td>9500836</td>\n",
       "      <td>271091</td>\n",
       "      <td>9468640</td>\n",
       "      <td>269900</td>\n",
       "      <td>32196</td>\n",
       "      <td>1191</td>\n",
       "      <td>2.85</td>\n",
       "      <td>Europe</td>\n",
       "    </tr>\n",
       "  </tbody>\n",
       "</table>\n",
       "</div>"
      ],
      "text/plain": [
       "   Country/Region     Cases  Deaths    PCases  PDeaths  Cases (+)  Deaths (+)  \\\n",
       "0              US  48691353  782100  48555974   780140     135379        1960   \n",
       "1           India  34606541  469724  34596776   469247       9765         477   \n",
       "2          Brazil  22105872  614964  22094459   614681      11413         283   \n",
       "3  United Kingdom  10333672  145586  10285745   145414      47927         172   \n",
       "4          Russia   9500836  271091   9468640   269900      32196        1191   \n",
       "\n",
       "   Fatality Rate      Continent  \n",
       "0           1.61  North America  \n",
       "1           1.36           Asia  \n",
       "2           2.78  South America  \n",
       "3           1.41         Europe  \n",
       "4           2.85         Europe  "
      ]
     },
     "execution_count": 13,
     "metadata": {},
     "output_type": "execute_result"
    }
   ],
   "source": [
    "#hide\n",
    "for c in 'Cases, Deaths'.split(', '):\n",
    "    df_table[f'{c} (+)'] = (df_table[c] - df_table[f'P{c}']).clip(0)\n",
    "    #Clip ça veut dire, les chiffres negatif sont interdit\n",
    "df_table['Fatality Rate'] = (100* df_table['Deaths']/ df_table['Cases']).round(2)\n",
    "df_table['Continent'] = df_table['Country/Region'].map(mapping['map.continent'])\n",
    "df_table.head(5)"
   ]
  },
  {
   "cell_type": "code",
   "execution_count": 14,
   "id": "aboriginal-bulgaria",
   "metadata": {
    "execution": {
     "iopub.execute_input": "2021-12-03T00:25:24.963240Z",
     "iopub.status.busy": "2021-12-03T00:25:24.962580Z",
     "iopub.status.idle": "2021-12-03T00:25:24.964613Z",
     "shell.execute_reply": "2021-12-03T00:25:24.965111Z"
    },
    "papermill": {
     "duration": 0.048376,
     "end_time": "2021-12-03T00:25:24.965258",
     "exception": false,
     "start_time": "2021-12-03T00:25:24.916882",
     "status": "completed"
    },
    "tags": []
   },
   "outputs": [],
   "source": [
    "#hide\n",
    "#delete problematic countries from table\n",
    "df_table = df_table[~df_table['Country/Region'].isin(['Cape Verde', 'Cruise Ship', 'Kosovo'])]"
   ]
  },
  {
   "cell_type": "code",
   "execution_count": 15,
   "id": "fantastic-effect",
   "metadata": {
    "execution": {
     "iopub.execute_input": "2021-12-03T00:25:25.055352Z",
     "iopub.status.busy": "2021-12-03T00:25:25.054675Z",
     "iopub.status.idle": "2021-12-03T00:25:25.082587Z",
     "shell.execute_reply": "2021-12-03T00:25:25.081912Z"
    },
    "papermill": {
     "duration": 0.076213,
     "end_time": "2021-12-03T00:25:25.082734",
     "exception": false,
     "start_time": "2021-12-03T00:25:25.006521",
     "status": "completed"
    },
    "tags": []
   },
   "outputs": [
    {
     "data": {
      "text/html": [
       "<div>\n",
       "<style scoped>\n",
       "    .dataframe tbody tr th:only-of-type {\n",
       "        vertical-align: middle;\n",
       "    }\n",
       "\n",
       "    .dataframe tbody tr th {\n",
       "        vertical-align: top;\n",
       "    }\n",
       "\n",
       "    .dataframe thead th {\n",
       "        text-align: right;\n",
       "    }\n",
       "</style>\n",
       "<table border=\"1\" class=\"dataframe\">\n",
       "  <thead>\n",
       "    <tr style=\"text-align: right;\">\n",
       "      <th></th>\n",
       "      <th>Country/Region</th>\n",
       "      <th>Cases</th>\n",
       "      <th>Deaths</th>\n",
       "      <th>PCases</th>\n",
       "      <th>PDeaths</th>\n",
       "      <th>Cases (+)</th>\n",
       "      <th>Deaths (+)</th>\n",
       "      <th>Fatality Rate</th>\n",
       "      <th>Continent</th>\n",
       "    </tr>\n",
       "  </thead>\n",
       "  <tbody>\n",
       "    <tr>\n",
       "      <th>0</th>\n",
       "      <td>US</td>\n",
       "      <td>48691353</td>\n",
       "      <td>782100</td>\n",
       "      <td>48555974</td>\n",
       "      <td>780140</td>\n",
       "      <td>135379</td>\n",
       "      <td>1960</td>\n",
       "      <td>1.6</td>\n",
       "      <td>North America</td>\n",
       "    </tr>\n",
       "    <tr>\n",
       "      <th>1</th>\n",
       "      <td>India</td>\n",
       "      <td>34606541</td>\n",
       "      <td>469724</td>\n",
       "      <td>34596776</td>\n",
       "      <td>469247</td>\n",
       "      <td>9765</td>\n",
       "      <td>477</td>\n",
       "      <td>1.4</td>\n",
       "      <td>Asia</td>\n",
       "    </tr>\n",
       "    <tr>\n",
       "      <th>2</th>\n",
       "      <td>Brazil</td>\n",
       "      <td>22105872</td>\n",
       "      <td>614964</td>\n",
       "      <td>22094459</td>\n",
       "      <td>614681</td>\n",
       "      <td>11413</td>\n",
       "      <td>283</td>\n",
       "      <td>2.8</td>\n",
       "      <td>South America</td>\n",
       "    </tr>\n",
       "    <tr>\n",
       "      <th>3</th>\n",
       "      <td>United Kingdom</td>\n",
       "      <td>10333672</td>\n",
       "      <td>145586</td>\n",
       "      <td>10285745</td>\n",
       "      <td>145414</td>\n",
       "      <td>47927</td>\n",
       "      <td>172</td>\n",
       "      <td>1.4</td>\n",
       "      <td>Europe</td>\n",
       "    </tr>\n",
       "    <tr>\n",
       "      <th>4</th>\n",
       "      <td>Russia</td>\n",
       "      <td>9500836</td>\n",
       "      <td>271091</td>\n",
       "      <td>9468640</td>\n",
       "      <td>269900</td>\n",
       "      <td>32196</td>\n",
       "      <td>1191</td>\n",
       "      <td>2.9</td>\n",
       "      <td>Europe</td>\n",
       "    </tr>\n",
       "  </tbody>\n",
       "</table>\n",
       "</div>"
      ],
      "text/plain": [
       "   Country/Region     Cases  Deaths    PCases  PDeaths  Cases (+)  Deaths (+)  \\\n",
       "0              US  48691353  782100  48555974   780140     135379        1960   \n",
       "1           India  34606541  469724  34596776   469247       9765         477   \n",
       "2          Brazil  22105872  614964  22094459   614681      11413         283   \n",
       "3  United Kingdom  10333672  145586  10285745   145414      47927         172   \n",
       "4          Russia   9500836  271091   9468640   269900      32196        1191   \n",
       "\n",
       "   Fatality Rate      Continent  \n",
       "0            1.6  North America  \n",
       "1            1.4           Asia  \n",
       "2            2.8  South America  \n",
       "3            1.4         Europe  \n",
       "4            2.9         Europe  "
      ]
     },
     "execution_count": 15,
     "metadata": {},
     "output_type": "execute_result"
    }
   ],
   "source": [
    "#hide\n",
    "df_table = (pd.DataFrame(dict(Cases=dfc_cases, Deaths=dfc_deaths, PCases=dfp_cases, PDeaths=dfp_deaths))\n",
    "             .sort_values(by=['Cases', 'Deaths'], ascending=[False, False])\n",
    "             .reset_index())\n",
    "df_table.rename(columns={'index': 'Country/Region'}, inplace=True)\n",
    "for c in 'Cases, Deaths'.split(', '):\n",
    "    df_table[f'{c} (+)'] = (df_table[c] - df_table[f'P{c}']).clip(0)  # DATA BUG\n",
    "df_table['Fatality Rate'] = (100 * df_table['Deaths'] / df_table['Cases']).round(1)\n",
    "df_table['Continent'] = df_table['Country/Region'].map(mapping['map.continent'])\n",
    "df_table.head(5)"
   ]
  },
  {
   "cell_type": "code",
   "execution_count": 16,
   "id": "fewer-occasion",
   "metadata": {
    "execution": {
     "iopub.execute_input": "2021-12-03T00:25:25.170436Z",
     "iopub.status.busy": "2021-12-03T00:25:25.169764Z",
     "iopub.status.idle": "2021-12-03T00:25:25.172546Z",
     "shell.execute_reply": "2021-12-03T00:25:25.171970Z"
    },
    "papermill": {
     "duration": 0.049553,
     "end_time": "2021-12-03T00:25:25.172682",
     "exception": false,
     "start_time": "2021-12-03T00:25:25.123129",
     "status": "completed"
    },
    "tags": []
   },
   "outputs": [],
   "source": [
    "#hide\n",
    "#delete problematic countries from table\n",
    "df_table = df_table[~df_table['Country/Region'].isin(['Cape Verde', 'Cruise Ship', 'Kosovo'])]"
   ]
  },
  {
   "cell_type": "code",
   "execution_count": 17,
   "id": "related-center",
   "metadata": {
    "execution": {
     "iopub.execute_input": "2021-12-03T00:25:25.280032Z",
     "iopub.status.busy": "2021-12-03T00:25:25.279266Z",
     "iopub.status.idle": "2021-12-03T00:25:25.282640Z",
     "shell.execute_reply": "2021-12-03T00:25:25.283217Z"
    },
    "papermill": {
     "duration": 0.069422,
     "end_time": "2021-12-03T00:25:25.283379",
     "exception": false,
     "start_time": "2021-12-03T00:25:25.213957",
     "status": "completed"
    },
    "tags": []
   },
   "outputs": [],
   "source": [
    "#hide\n",
    "metrics = [df_table.columns[index] for index in [1,2,5,6]]\n",
    "# s_china = df_table[df_table['Country/Region'].eq('China')][metrics].sum().add_prefix('China ')\n",
    "s_us = df_table[df_table['Country/Region'].eq('US')][metrics].sum().add_prefix('US ')\n",
    "s_eu = df_table[df_table['Continent'].eq('Europe')][metrics].sum().add_prefix('EU ')\n",
    "s_ind = df_table[df_table['Country/Region'].eq('India')][metrics].sum().add_prefix('India ')\n",
    "summary = {'updated': pd.to_datetime(dt_today), 'since': pd.to_datetime(dt_yday)}\n",
    "summary = {'updated': pd.to_datetime(dt_today), 'since': pd.to_datetime(dt_yday)}\n",
    "summary = {**summary, **df_table[metrics].sum(), **s_ind, **s_us, **s_eu}"
   ]
  },
  {
   "cell_type": "code",
   "execution_count": 18,
   "id": "engaging-syndrome",
   "metadata": {
    "execution": {
     "iopub.execute_input": "2021-12-03T00:25:25.372466Z",
     "iopub.status.busy": "2021-12-03T00:25:25.371733Z",
     "iopub.status.idle": "2021-12-03T00:25:25.390457Z",
     "shell.execute_reply": "2021-12-03T00:25:25.389852Z"
    },
    "papermill": {
     "duration": 0.066446,
     "end_time": "2021-12-03T00:25:25.390608",
     "exception": false,
     "start_time": "2021-12-03T00:25:25.324162",
     "status": "completed"
    },
    "tags": []
   },
   "outputs": [],
   "source": [
    "#hide\n",
    "dft_ct_new_cases = dft_cases.groupby(COL_REGION)[dt_cols].sum().diff(axis=1).fillna(0).astype(int)"
   ]
  },
  {
   "cell_type": "code",
   "execution_count": 19,
   "id": "neutral-assignment",
   "metadata": {
    "execution": {
     "iopub.execute_input": "2021-12-03T00:25:25.481766Z",
     "iopub.status.busy": "2021-12-03T00:25:25.480818Z",
     "iopub.status.idle": "2021-12-03T00:25:25.487405Z",
     "shell.execute_reply": "2021-12-03T00:25:25.488090Z"
    },
    "papermill": {
     "duration": 0.054368,
     "end_time": "2021-12-03T00:25:25.488308",
     "exception": false,
     "start_time": "2021-12-03T00:25:25.433940",
     "status": "completed"
    },
    "tags": []
   },
   "outputs": [],
   "source": [
    "#hide\n",
    "everydaycases = dft_ct_new_cases.cumsum(axis=1)"
   ]
  },
  {
   "cell_type": "code",
   "execution_count": 20,
   "id": "parliamentary-calgary",
   "metadata": {
    "execution": {
     "iopub.execute_input": "2021-12-03T00:25:25.581577Z",
     "iopub.status.busy": "2021-12-03T00:25:25.580858Z",
     "iopub.status.idle": "2021-12-03T00:25:26.359315Z",
     "shell.execute_reply": "2021-12-03T00:25:26.358702Z"
    },
    "papermill": {
     "duration": 0.82681,
     "end_time": "2021-12-03T00:25:26.359523",
     "exception": false,
     "start_time": "2021-12-03T00:25:25.532713",
     "status": "completed"
    },
    "tags": []
   },
   "outputs": [],
   "source": [
    "#hide\n",
    "import pandas as pd\n",
    "import matplotlib.pyplot as plt\n",
    "import matplotlib.ticker as ticker\n",
    "import matplotlib.animation as animation\n",
    "from IPython.display import HTML"
   ]
  },
  {
   "cell_type": "code",
   "execution_count": 21,
   "id": "lasting-extraction",
   "metadata": {
    "execution": {
     "iopub.execute_input": "2021-12-03T00:25:26.448174Z",
     "iopub.status.busy": "2021-12-03T00:25:26.447349Z",
     "iopub.status.idle": "2021-12-03T00:25:26.454261Z",
     "shell.execute_reply": "2021-12-03T00:25:26.454870Z"
    },
    "papermill": {
     "duration": 0.055073,
     "end_time": "2021-12-03T00:25:26.455052",
     "exception": false,
     "start_time": "2021-12-03T00:25:26.399979",
     "status": "completed"
    },
    "tags": []
   },
   "outputs": [],
   "source": [
    "#hide\n",
    "t = everydaycases.stack()"
   ]
  },
  {
   "cell_type": "code",
   "execution_count": 22,
   "id": "premier-sleeve",
   "metadata": {
    "execution": {
     "iopub.execute_input": "2021-12-03T00:25:26.542285Z",
     "iopub.status.busy": "2021-12-03T00:25:26.541573Z",
     "iopub.status.idle": "2021-12-03T00:25:26.552420Z",
     "shell.execute_reply": "2021-12-03T00:25:26.553130Z"
    },
    "papermill": {
     "duration": 0.056778,
     "end_time": "2021-12-03T00:25:26.553303",
     "exception": false,
     "start_time": "2021-12-03T00:25:26.496525",
     "status": "completed"
    },
    "tags": []
   },
   "outputs": [],
   "source": [
    "#hide\n",
    "g = t.reset_index(['Country/Region'])"
   ]
  },
  {
   "cell_type": "code",
   "execution_count": 23,
   "id": "distributed-pittsburgh",
   "metadata": {
    "execution": {
     "iopub.execute_input": "2021-12-03T00:25:26.643112Z",
     "iopub.status.busy": "2021-12-03T00:25:26.642430Z",
     "iopub.status.idle": "2021-12-03T00:25:26.644606Z",
     "shell.execute_reply": "2021-12-03T00:25:26.645143Z"
    },
    "papermill": {
     "duration": 0.049128,
     "end_time": "2021-12-03T00:25:26.645309",
     "exception": false,
     "start_time": "2021-12-03T00:25:26.596181",
     "status": "completed"
    },
    "tags": []
   },
   "outputs": [],
   "source": [
    "#hide\n",
    "g.index.name = 'date'"
   ]
  },
  {
   "cell_type": "code",
   "execution_count": 24,
   "id": "naked-donor",
   "metadata": {
    "execution": {
     "iopub.execute_input": "2021-12-03T00:25:26.743989Z",
     "iopub.status.busy": "2021-12-03T00:25:26.743084Z",
     "iopub.status.idle": "2021-12-03T00:25:26.747076Z",
     "shell.execute_reply": "2021-12-03T00:25:26.747710Z"
    },
    "papermill": {
     "duration": 0.060359,
     "end_time": "2021-12-03T00:25:26.747876",
     "exception": false,
     "start_time": "2021-12-03T00:25:26.687517",
     "status": "completed"
    },
    "tags": []
   },
   "outputs": [],
   "source": [
    "# #hide\n",
    "# g = g.reset_index(['date'])"
   ]
  },
  {
   "cell_type": "code",
   "execution_count": 25,
   "id": "incomplete-mustang",
   "metadata": {
    "execution": {
     "iopub.execute_input": "2021-12-03T00:25:26.840329Z",
     "iopub.status.busy": "2021-12-03T00:25:26.839706Z",
     "iopub.status.idle": "2021-12-03T00:25:26.842569Z",
     "shell.execute_reply": "2021-12-03T00:25:26.841751Z"
    },
    "papermill": {
     "duration": 0.051535,
     "end_time": "2021-12-03T00:25:26.842781",
     "exception": false,
     "start_time": "2021-12-03T00:25:26.791246",
     "status": "completed"
    },
    "tags": []
   },
   "outputs": [],
   "source": [
    "#hide\n",
    "# g.head()"
   ]
  },
  {
   "cell_type": "code",
   "execution_count": 26,
   "id": "specific-kruger",
   "metadata": {
    "execution": {
     "iopub.execute_input": "2021-12-03T00:25:26.938821Z",
     "iopub.status.busy": "2021-12-03T00:25:26.937966Z",
     "iopub.status.idle": "2021-12-03T00:25:26.941554Z",
     "shell.execute_reply": "2021-12-03T00:25:26.940579Z"
    },
    "papermill": {
     "duration": 0.055567,
     "end_time": "2021-12-03T00:25:26.941704",
     "exception": false,
     "start_time": "2021-12-03T00:25:26.886137",
     "status": "completed"
    },
    "tags": []
   },
   "outputs": [],
   "source": [
    "#hide\n",
    "# g.columns = ['date','country','cases']"
   ]
  },
  {
   "cell_type": "code",
   "execution_count": 27,
   "id": "tender-conversion",
   "metadata": {
    "execution": {
     "iopub.execute_input": "2021-12-03T00:25:27.035369Z",
     "iopub.status.busy": "2021-12-03T00:25:27.034668Z",
     "iopub.status.idle": "2021-12-03T00:25:27.037313Z",
     "shell.execute_reply": "2021-12-03T00:25:27.036744Z"
    },
    "papermill": {
     "duration": 0.050621,
     "end_time": "2021-12-03T00:25:27.037616",
     "exception": false,
     "start_time": "2021-12-03T00:25:26.986995",
     "status": "completed"
    },
    "tags": []
   },
   "outputs": [],
   "source": [
    "#hide\n",
    "# g['continent'] = g.country"
   ]
  },
  {
   "cell_type": "code",
   "execution_count": 28,
   "id": "substantial-wilderness",
   "metadata": {
    "execution": {
     "iopub.execute_input": "2021-12-03T00:25:27.130708Z",
     "iopub.status.busy": "2021-12-03T00:25:27.129964Z",
     "iopub.status.idle": "2021-12-03T00:25:27.132530Z",
     "shell.execute_reply": "2021-12-03T00:25:27.133049Z"
    },
    "papermill": {
     "duration": 0.05106,
     "end_time": "2021-12-03T00:25:27.133204",
     "exception": false,
     "start_time": "2021-12-03T00:25:27.082144",
     "status": "completed"
    },
    "tags": []
   },
   "outputs": [],
   "source": [
    "#hide\n",
    "# cols = list(g.columns.values)"
   ]
  },
  {
   "cell_type": "code",
   "execution_count": 29,
   "id": "solved-farming",
   "metadata": {
    "execution": {
     "iopub.execute_input": "2021-12-03T00:25:27.218346Z",
     "iopub.status.busy": "2021-12-03T00:25:27.217631Z",
     "iopub.status.idle": "2021-12-03T00:25:27.219641Z",
     "shell.execute_reply": "2021-12-03T00:25:27.220214Z"
    },
    "papermill": {
     "duration": 0.047646,
     "end_time": "2021-12-03T00:25:27.220388",
     "exception": false,
     "start_time": "2021-12-03T00:25:27.172742",
     "status": "completed"
    },
    "tags": []
   },
   "outputs": [],
   "source": [
    "#hide\n",
    "# cols.insert(0, cols.pop())"
   ]
  },
  {
   "cell_type": "code",
   "execution_count": 30,
   "id": "executed-adoption",
   "metadata": {
    "execution": {
     "iopub.execute_input": "2021-12-03T00:25:27.307260Z",
     "iopub.status.busy": "2021-12-03T00:25:27.306528Z",
     "iopub.status.idle": "2021-12-03T00:25:27.310469Z",
     "shell.execute_reply": "2021-12-03T00:25:27.311014Z"
    },
    "papermill": {
     "duration": 0.048882,
     "end_time": "2021-12-03T00:25:27.311161",
     "exception": false,
     "start_time": "2021-12-03T00:25:27.262279",
     "status": "completed"
    },
    "tags": []
   },
   "outputs": [],
   "source": [
    "#hide\n",
    "# g = g[cols]"
   ]
  },
  {
   "cell_type": "code",
   "execution_count": 31,
   "id": "subject-dublin",
   "metadata": {
    "execution": {
     "iopub.execute_input": "2021-12-03T00:25:27.398998Z",
     "iopub.status.busy": "2021-12-03T00:25:27.398225Z",
     "iopub.status.idle": "2021-12-03T00:25:27.401073Z",
     "shell.execute_reply": "2021-12-03T00:25:27.400239Z"
    },
    "papermill": {
     "duration": 0.04794,
     "end_time": "2021-12-03T00:25:27.401228",
     "exception": false,
     "start_time": "2021-12-03T00:25:27.353288",
     "status": "completed"
    },
    "tags": []
   },
   "outputs": [],
   "source": [
    "#hide\n",
    "# g['continent'] = g['continent'].map(mapping['map.continent'])"
   ]
  },
  {
   "cell_type": "code",
   "execution_count": 32,
   "id": "freelance-scout",
   "metadata": {
    "execution": {
     "iopub.execute_input": "2021-12-03T00:25:27.487424Z",
     "iopub.status.busy": "2021-12-03T00:25:27.486766Z",
     "iopub.status.idle": "2021-12-03T00:25:27.490572Z",
     "shell.execute_reply": "2021-12-03T00:25:27.491196Z"
    },
    "papermill": {
     "duration": 0.049745,
     "end_time": "2021-12-03T00:25:27.491352",
     "exception": false,
     "start_time": "2021-12-03T00:25:27.441607",
     "status": "completed"
    },
    "tags": []
   },
   "outputs": [],
   "source": [
    "#hide\n",
    "# g.head()"
   ]
  },
  {
   "cell_type": "code",
   "execution_count": 33,
   "id": "limited-engine",
   "metadata": {
    "execution": {
     "iopub.execute_input": "2021-12-03T00:25:27.579410Z",
     "iopub.status.busy": "2021-12-03T00:25:27.578750Z",
     "iopub.status.idle": "2021-12-03T00:25:27.582887Z",
     "shell.execute_reply": "2021-12-03T00:25:27.582270Z"
    },
    "papermill": {
     "duration": 0.049073,
     "end_time": "2021-12-03T00:25:27.583222",
     "exception": false,
     "start_time": "2021-12-03T00:25:27.534149",
     "status": "completed"
    },
    "tags": []
   },
   "outputs": [],
   "source": [
    "# hide\n",
    "# g['date'] = g['date'].astype('datetime64[ns]')"
   ]
  },
  {
   "cell_type": "code",
   "execution_count": 34,
   "id": "sophisticated-supervisor",
   "metadata": {
    "execution": {
     "iopub.execute_input": "2021-12-03T00:25:27.695843Z",
     "iopub.status.busy": "2021-12-03T00:25:27.695122Z",
     "iopub.status.idle": "2021-12-03T00:25:27.699684Z",
     "shell.execute_reply": "2021-12-03T00:25:27.698941Z"
    },
    "papermill": {
     "duration": 0.055277,
     "end_time": "2021-12-03T00:25:27.699824",
     "exception": false,
     "start_time": "2021-12-03T00:25:27.644547",
     "status": "completed"
    },
    "tags": []
   },
   "outputs": [],
   "source": [
    "#hide\n",
    "# g['date'] = g.date.dt.dayofyear"
   ]
  },
  {
   "cell_type": "code",
   "execution_count": 35,
   "id": "inside-dubai",
   "metadata": {
    "execution": {
     "iopub.execute_input": "2021-12-03T00:25:27.804968Z",
     "iopub.status.busy": "2021-12-03T00:25:27.804286Z",
     "iopub.status.idle": "2021-12-03T00:25:27.811901Z",
     "shell.execute_reply": "2021-12-03T00:25:27.812962Z"
    },
    "papermill": {
     "duration": 0.067033,
     "end_time": "2021-12-03T00:25:27.813145",
     "exception": false,
     "start_time": "2021-12-03T00:25:27.746112",
     "status": "completed"
    },
    "tags": []
   },
   "outputs": [],
   "source": [
    "#hide\n",
    "# g = g.rename(columns= {'continent':'group','country':'name','cases':'value'})"
   ]
  },
  {
   "cell_type": "code",
   "execution_count": 36,
   "id": "fleet-motorcycle",
   "metadata": {
    "execution": {
     "iopub.execute_input": "2021-12-03T00:25:27.912025Z",
     "iopub.status.busy": "2021-12-03T00:25:27.911290Z",
     "iopub.status.idle": "2021-12-03T00:25:27.913637Z",
     "shell.execute_reply": "2021-12-03T00:25:27.914305Z"
    },
    "papermill": {
     "duration": 0.053488,
     "end_time": "2021-12-03T00:25:27.914467",
     "exception": false,
     "start_time": "2021-12-03T00:25:27.860979",
     "status": "completed"
    },
    "tags": []
   },
   "outputs": [],
   "source": [
    "#hide\n",
    "# cols = ['name','group','day','value']"
   ]
  },
  {
   "cell_type": "code",
   "execution_count": 37,
   "id": "continued-sleeping",
   "metadata": {
    "execution": {
     "iopub.execute_input": "2021-12-03T00:25:28.042285Z",
     "iopub.status.busy": "2021-12-03T00:25:28.041629Z",
     "iopub.status.idle": "2021-12-03T00:25:28.045880Z",
     "shell.execute_reply": "2021-12-03T00:25:28.046441Z"
    },
    "papermill": {
     "duration": 0.053421,
     "end_time": "2021-12-03T00:25:28.046589",
     "exception": false,
     "start_time": "2021-12-03T00:25:27.993168",
     "status": "completed"
    },
    "tags": []
   },
   "outputs": [],
   "source": [
    "#hide\n",
    "# g.rename(columns= {'date':'day'},inplace = True)"
   ]
  },
  {
   "cell_type": "code",
   "execution_count": 38,
   "id": "major-fight",
   "metadata": {
    "execution": {
     "iopub.execute_input": "2021-12-03T00:25:28.135354Z",
     "iopub.status.busy": "2021-12-03T00:25:28.134620Z",
     "iopub.status.idle": "2021-12-03T00:25:28.137457Z",
     "shell.execute_reply": "2021-12-03T00:25:28.136759Z"
    },
    "papermill": {
     "duration": 0.048126,
     "end_time": "2021-12-03T00:25:28.137679",
     "exception": false,
     "start_time": "2021-12-03T00:25:28.089553",
     "status": "completed"
    },
    "tags": []
   },
   "outputs": [],
   "source": [
    "#hide\n",
    "# g = g[cols]"
   ]
  },
  {
   "cell_type": "code",
   "execution_count": 39,
   "id": "structured-mobile",
   "metadata": {
    "execution": {
     "iopub.execute_input": "2021-12-03T00:25:28.224745Z",
     "iopub.status.busy": "2021-12-03T00:25:28.224017Z",
     "iopub.status.idle": "2021-12-03T00:25:28.228543Z",
     "shell.execute_reply": "2021-12-03T00:25:28.227866Z"
    },
    "papermill": {
     "duration": 0.0504,
     "end_time": "2021-12-03T00:25:28.228674",
     "exception": false,
     "start_time": "2021-12-03T00:25:28.178274",
     "status": "completed"
    },
    "tags": []
   },
   "outputs": [],
   "source": [
    "# #hide\n",
    "# g = g[g.group.notna()]"
   ]
  },
  {
   "cell_type": "code",
   "execution_count": 40,
   "id": "determined-closing",
   "metadata": {
    "execution": {
     "iopub.execute_input": "2021-12-03T00:25:28.317025Z",
     "iopub.status.busy": "2021-12-03T00:25:28.316274Z",
     "iopub.status.idle": "2021-12-03T00:25:28.319100Z",
     "shell.execute_reply": "2021-12-03T00:25:28.318382Z"
    },
    "papermill": {
     "duration": 0.04812,
     "end_time": "2021-12-03T00:25:28.319256",
     "exception": false,
     "start_time": "2021-12-03T00:25:28.271136",
     "status": "completed"
    },
    "tags": []
   },
   "outputs": [],
   "source": [
    "# #hide\n",
    "# colors = dict(zip(\n",
    "#     [\"Oceania\", \"Europe\", \"Asia\", \"South America\", \"Middle East\", \"North America\", \"Africa\"],\n",
    "#     [\"#adb0ff\", \"#ffb3ff\", \"#90d595\", \"#e48381\", \"#aafbff\", \"#f7bb5f\", \"#eafb50\"]\n",
    "# ))\n",
    "# group_lk = g.set_index('name')['group'].to_dict()"
   ]
  },
  {
   "cell_type": "code",
   "execution_count": null,
   "id": "gross-drinking",
   "metadata": {
    "papermill": {
     "duration": 0.041763,
     "end_time": "2021-12-03T00:25:28.407122",
     "exception": false,
     "start_time": "2021-12-03T00:25:28.365359",
     "status": "completed"
    },
    "tags": []
   },
   "outputs": [],
   "source": []
  },
  {
   "cell_type": "code",
   "execution_count": 41,
   "id": "subject-macintosh",
   "metadata": {
    "execution": {
     "iopub.execute_input": "2021-12-03T00:25:28.493613Z",
     "iopub.status.busy": "2021-12-03T00:25:28.492708Z",
     "iopub.status.idle": "2021-12-03T00:25:28.495466Z",
     "shell.execute_reply": "2021-12-03T00:25:28.494964Z"
    },
    "papermill": {
     "duration": 0.046794,
     "end_time": "2021-12-03T00:25:28.495623",
     "exception": false,
     "start_time": "2021-12-03T00:25:28.448829",
     "status": "completed"
    },
    "tags": []
   },
   "outputs": [],
   "source": [
    "# #hide\n",
    "# fig, ax = plt.subplots(figsize=(15, 8))\n",
    "\n",
    "# def draw_barchart(current_day):\n",
    "#     dff = g[g['day'].eq(current_day)].sort_values(by='value', ascending=True).tail(10)\n",
    "#     ax.clear()\n",
    "#     ax.barh(dff['name'], dff['value'], color=[colors[group_lk[x]] for x in dff['name']])\n",
    "#     dx = dff['value'].max() / 200\n",
    "    \n",
    "#     for i, (value, name) in enumerate(zip(dff['value'], dff['name'])):\n",
    "#         ax.text(value-dx, i,     name,           size=14, weight=600, ha='right', va='bottom')\n",
    "#         ax.text(value-dx, i-.25, group_lk[name], size=10, color='#444444', ha='right', va='baseline')\n",
    "#         ax.text(value+dx, i,     f'{value:,.0f}',  size=14, ha='left',  va='center')\n",
    "#     ax.text(1, 0.4, current_day, transform=ax.transAxes, color='#777777', size=46, ha='right', weight=800)\n",
    "#     ax.text(0, 1.06, 'Population (thousands)', transform=ax.transAxes, size=12, color='#777777')\n",
    "#     ax.xaxis.set_major_formatter(ticker.StrMethodFormatter('{x:,.0f}'))\n",
    "#     ax.xaxis.set_ticks_position('top')\n",
    "#     ax.tick_params(axis='x', colors='#777777', labelsize=12)\n",
    "#     ax.set_yticks([])\n",
    "#     ax.margins(0, 0.01)\n",
    "#     ax.grid(which='major', axis='x', linestyle='-')\n",
    "#     ax.set_axisbelow(True)\n",
    "    \n",
    "#     ax.text(0, 1.15, 'Coronavirus',\n",
    "#             transform=ax.transAxes, size=24, weight=600, ha='left', va='top')\n",
    "# #     ax.text(1, 0, 'by @pratapvardhan; credit @jburnmurdoch', transform=ax.transAxes, color='#777777', ha='right',\n",
    "# #             bbox=dict(facecolor='white', alpha=0.8, edgecolor='white'))\n",
    "#     plt.box(False)"
   ]
  },
  {
   "cell_type": "code",
   "execution_count": 42,
   "id": "sexual-wages",
   "metadata": {
    "execution": {
     "iopub.execute_input": "2021-12-03T00:25:28.581869Z",
     "iopub.status.busy": "2021-12-03T00:25:28.581172Z",
     "iopub.status.idle": "2021-12-03T00:25:28.585909Z",
     "shell.execute_reply": "2021-12-03T00:25:28.585366Z"
    },
    "papermill": {
     "duration": 0.049648,
     "end_time": "2021-12-03T00:25:28.586041",
     "exception": false,
     "start_time": "2021-12-03T00:25:28.536393",
     "status": "completed"
    },
    "tags": []
   },
   "outputs": [],
   "source": [
    "# #hide_input\n",
    "# fig, ax = plt.subplots(figsize=(15, 8))\n",
    "# animator = animation.FuncAnimation(fig, draw_barchart, frames=range(g.day.values.min(), g.day.values.max()))\n",
    "# HTML(animator.to_jshtml())\n",
    "# # or use animator.to_html5_video() or animator.save() "
   ]
  },
  {
   "cell_type": "code",
   "execution_count": null,
   "id": "australian-container",
   "metadata": {
    "papermill": {
     "duration": 0.043675,
     "end_time": "2021-12-03T00:25:28.672238",
     "exception": false,
     "start_time": "2021-12-03T00:25:28.628563",
     "status": "completed"
    },
    "tags": []
   },
   "outputs": [],
   "source": []
  },
  {
   "cell_type": "code",
   "execution_count": null,
   "id": "mediterranean-pontiac",
   "metadata": {
    "papermill": {
     "duration": 0.042867,
     "end_time": "2021-12-03T00:25:28.756543",
     "exception": false,
     "start_time": "2021-12-03T00:25:28.713676",
     "status": "completed"
    },
    "tags": []
   },
   "outputs": [],
   "source": []
  },
  {
   "cell_type": "code",
   "execution_count": null,
   "id": "aging-legislature",
   "metadata": {
    "papermill": {
     "duration": 0.041146,
     "end_time": "2021-12-03T00:25:28.839615",
     "exception": false,
     "start_time": "2021-12-03T00:25:28.798469",
     "status": "completed"
    },
    "tags": []
   },
   "outputs": [],
   "source": []
  }
 ],
 "metadata": {
  "kernelspec": {
   "display_name": "Python 3",
   "language": "python",
   "name": "python3"
  },
  "language_info": {
   "codemirror_mode": {
    "name": "ipython",
    "version": 3
   },
   "file_extension": ".py",
   "mimetype": "text/x-python",
   "name": "python",
   "nbconvert_exporter": "python",
   "pygments_lexer": "ipython3",
   "version": "3.6.15"
  },
  "papermill": {
   "duration": 7.986729,
   "end_time": "2021-12-03T00:25:29.291145",
   "environment_variables": {},
   "exception": null,
   "input_path": "2020-03-21-covid19exp.ipynb",
   "output_path": "2020-03-21-covid19exp.ipynb",
   "parameters": {},
   "start_time": "2021-12-03T00:25:21.304416",
   "version": "2.0.0"
  }
 },
 "nbformat": 4,
 "nbformat_minor": 5
}