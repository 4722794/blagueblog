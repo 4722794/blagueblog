{
 "cells": [
  {
   "cell_type": "markdown",
   "id": "muslim-click",
   "metadata": {
    "papermill": {
     "duration": 0.035461,
     "end_time": "2022-07-27T12:18:21.678629",
     "exception": false,
     "start_time": "2022-07-27T12:18:21.643168",
     "status": "completed"
    },
    "tags": []
   },
   "source": [
    "# COVID-19 Case Race\n",
    "> A race chart to see rising cases around the world\n",
    "\n",
    "- author: Hargun Oberoi\n",
    "- image: images/covid-overview.png\n",
    "- hide: false\n",
    "- badges: false"
   ]
  },
  {
   "cell_type": "code",
   "execution_count": 1,
   "id": "proof-material",
   "metadata": {
    "execution": {
     "iopub.execute_input": "2022-07-27T12:18:21.749505Z",
     "iopub.status.busy": "2022-07-27T12:18:21.748868Z",
     "iopub.status.idle": "2022-07-27T12:18:22.123144Z",
     "shell.execute_reply": "2022-07-27T12:18:22.122145Z"
    },
    "papermill": {
     "duration": 0.414371,
     "end_time": "2022-07-27T12:18:22.123295",
     "exception": false,
     "start_time": "2022-07-27T12:18:21.708924",
     "status": "completed"
    },
    "tags": []
   },
   "outputs": [],
   "source": [
    "#hide\n",
    "import numpy as np\n",
    "import pandas as pd\n",
    "from jinja2 import Template\n",
    "from IPython.display import HTML"
   ]
  },
  {
   "cell_type": "code",
   "execution_count": 2,
   "id": "developed-terminology",
   "metadata": {
    "execution": {
     "iopub.execute_input": "2022-07-27T12:18:22.189869Z",
     "iopub.status.busy": "2022-07-27T12:18:22.188260Z",
     "iopub.status.idle": "2022-07-27T12:18:22.190641Z",
     "shell.execute_reply": "2022-07-27T12:18:22.191150Z"
    },
    "papermill": {
     "duration": 0.038031,
     "end_time": "2022-07-27T12:18:22.191301",
     "exception": false,
     "start_time": "2022-07-27T12:18:22.153270",
     "status": "completed"
    },
    "tags": []
   },
   "outputs": [],
   "source": [
    "#hide\n",
    "\n",
    "# FETCH\n",
    "base_url = 'https://raw.githubusercontent.com/pratapvardhan/notebooks/master/covid19/'\n",
    "paths = {\n",
    "    'mapping': base_url + 'mapping_countries.csv',\n",
    "    'overview': base_url + 'overview.tpl'\n",
    "}"
   ]
  },
  {
   "cell_type": "code",
   "execution_count": 3,
   "id": "dynamic-saver",
   "metadata": {
    "execution": {
     "iopub.execute_input": "2022-07-27T12:18:22.263160Z",
     "iopub.status.busy": "2022-07-27T12:18:22.261983Z",
     "iopub.status.idle": "2022-07-27T12:18:22.265008Z",
     "shell.execute_reply": "2022-07-27T12:18:22.265446Z"
    },
    "papermill": {
     "duration": 0.044047,
     "end_time": "2022-07-27T12:18:22.265581",
     "exception": false,
     "start_time": "2022-07-27T12:18:22.221534",
     "status": "completed"
    },
    "tags": []
   },
   "outputs": [
    {
     "data": {
      "text/plain": [
       "'https://raw.githubusercontent.com/pratapvardhan/notebooks/master/covid19/mapping_countries.csv'"
      ]
     },
     "execution_count": 3,
     "metadata": {},
     "output_type": "execute_result"
    }
   ],
   "source": [
    "#hide\n",
    "paths['mapping']"
   ]
  },
  {
   "cell_type": "code",
   "execution_count": 4,
   "id": "urban-software",
   "metadata": {
    "execution": {
     "iopub.execute_input": "2022-07-27T12:18:22.331561Z",
     "iopub.status.busy": "2022-07-27T12:18:22.330920Z",
     "iopub.status.idle": "2022-07-27T12:18:22.334024Z",
     "shell.execute_reply": "2022-07-27T12:18:22.333438Z"
    },
    "papermill": {
     "duration": 0.038544,
     "end_time": "2022-07-27T12:18:22.334140",
     "exception": false,
     "start_time": "2022-07-27T12:18:22.295596",
     "status": "completed"
    },
    "tags": []
   },
   "outputs": [],
   "source": [
    "#hide\n",
    "def get_mappings(url):\n",
    "    df = pd.read_csv(url)\n",
    "    return {\n",
    "        'df': df,\n",
    "        'replace.country': dict(df.dropna(subset=['Name']).set_index('Country')['Name']),\n",
    "        'map.continent': dict(df.set_index('Name')['Continent'])\n",
    "    }"
   ]
  },
  {
   "cell_type": "code",
   "execution_count": 5,
   "id": "intimate-machinery",
   "metadata": {
    "execution": {
     "iopub.execute_input": "2022-07-27T12:18:22.399916Z",
     "iopub.status.busy": "2022-07-27T12:18:22.399316Z",
     "iopub.status.idle": "2022-07-27T12:18:22.438542Z",
     "shell.execute_reply": "2022-07-27T12:18:22.437854Z"
    },
    "papermill": {
     "duration": 0.074527,
     "end_time": "2022-07-27T12:18:22.438699",
     "exception": false,
     "start_time": "2022-07-27T12:18:22.364172",
     "status": "completed"
    },
    "tags": []
   },
   "outputs": [],
   "source": [
    "#hide\n",
    "mapping = get_mappings(paths['mapping'])"
   ]
  },
  {
   "cell_type": "code",
   "execution_count": 6,
   "id": "certified-tactics",
   "metadata": {
    "execution": {
     "iopub.execute_input": "2022-07-27T12:18:22.504634Z",
     "iopub.status.busy": "2022-07-27T12:18:22.504008Z",
     "iopub.status.idle": "2022-07-27T12:18:22.507767Z",
     "shell.execute_reply": "2022-07-27T12:18:22.508199Z"
    },
    "papermill": {
     "duration": 0.039292,
     "end_time": "2022-07-27T12:18:22.508340",
     "exception": false,
     "start_time": "2022-07-27T12:18:22.469048",
     "status": "completed"
    },
    "tags": []
   },
   "outputs": [],
   "source": [
    "#hide\n",
    "def get_template(path):\n",
    "    from urllib.parse import urlparse\n",
    "    if bool(urlparse(path).netloc):\n",
    "        from urllib.request import urlopen\n",
    "        return urlopen(path).read().decode('utf8')\n",
    "    return open(path).read()"
   ]
  },
  {
   "cell_type": "code",
   "execution_count": 7,
   "id": "realistic-blast",
   "metadata": {
    "execution": {
     "iopub.execute_input": "2022-07-27T12:18:22.573873Z",
     "iopub.status.busy": "2022-07-27T12:18:22.573252Z",
     "iopub.status.idle": "2022-07-27T12:18:22.576905Z",
     "shell.execute_reply": "2022-07-27T12:18:22.577336Z"
    },
    "papermill": {
     "duration": 0.039207,
     "end_time": "2022-07-27T12:18:22.577471",
     "exception": false,
     "start_time": "2022-07-27T12:18:22.538264",
     "status": "completed"
    },
    "tags": []
   },
   "outputs": [],
   "source": [
    "#hide\n",
    "def get_frame(name):\n",
    "    url = (\n",
    "        'https://raw.githubusercontent.com/CSSEGISandData/COVID-19/master/csse_covid_19_data/'\n",
    "        f'csse_covid_19_time_series/time_series_covid19_{name}_global.csv')\n",
    "    df = pd.read_csv(url)\n",
    "    # rename countries\n",
    "    df['Country/Region'] = df['Country/Region'].replace(mapping['replace.country'])\n",
    "    return df"
   ]
  },
  {
   "cell_type": "code",
   "execution_count": 8,
   "id": "affiliated-characterization",
   "metadata": {
    "execution": {
     "iopub.execute_input": "2022-07-27T12:18:22.645763Z",
     "iopub.status.busy": "2022-07-27T12:18:22.644272Z",
     "iopub.status.idle": "2022-07-27T12:18:22.646444Z",
     "shell.execute_reply": "2022-07-27T12:18:22.646926Z"
    },
    "papermill": {
     "duration": 0.03939,
     "end_time": "2022-07-27T12:18:22.647067",
     "exception": false,
     "start_time": "2022-07-27T12:18:22.607677",
     "status": "completed"
    },
    "tags": []
   },
   "outputs": [],
   "source": [
    "#hide\n",
    "def get_dates(df):\n",
    "    dt_cols = df.columns[~df.columns.isin(['Province/State', 'Country/Region', 'Lat', 'Long'])]\n",
    "    LAST_DATE_I = -1\n",
    "    # sometimes last column may be empty, then go backwards\n",
    "    for i in range(-1, -len(dt_cols), -1):\n",
    "        if not df[dt_cols[i]].fillna(0).eq(0).all():\n",
    "            LAST_DATE_I = i\n",
    "            break\n",
    "    return LAST_DATE_I, dt_cols"
   ]
  },
  {
   "cell_type": "code",
   "execution_count": 9,
   "id": "recent-optimization",
   "metadata": {
    "execution": {
     "iopub.execute_input": "2022-07-27T12:18:22.712399Z",
     "iopub.status.busy": "2022-07-27T12:18:22.711758Z",
     "iopub.status.idle": "2022-07-27T12:18:23.178343Z",
     "shell.execute_reply": "2022-07-27T12:18:23.177214Z"
    },
    "papermill": {
     "duration": 0.501461,
     "end_time": "2022-07-27T12:18:23.178475",
     "exception": false,
     "start_time": "2022-07-27T12:18:22.677014",
     "status": "completed"
    },
    "tags": []
   },
   "outputs": [],
   "source": [
    "#hide\n",
    "COL_REGION = 'Country/Region'\n",
    "# Confirmed, Recovered, Deaths\n",
    "df = get_frame('confirmed')\n",
    "# dft_: timeseries, dfc_: today country agg\n",
    "dft_cases = df\n",
    "dft_deaths = get_frame('deaths')\n",
    "dft_recovered = get_frame('recovered')\n",
    "LAST_DATE_I, dt_cols = get_dates(df)"
   ]
  },
  {
   "cell_type": "code",
   "execution_count": 10,
   "id": "absolute-copper",
   "metadata": {
    "execution": {
     "iopub.execute_input": "2022-07-27T12:18:23.245763Z",
     "iopub.status.busy": "2022-07-27T12:18:23.244178Z",
     "iopub.status.idle": "2022-07-27T12:18:23.246462Z",
     "shell.execute_reply": "2022-07-27T12:18:23.246934Z"
    },
    "papermill": {
     "duration": 0.038305,
     "end_time": "2022-07-27T12:18:23.247072",
     "exception": false,
     "start_time": "2022-07-27T12:18:23.208767",
     "status": "completed"
    },
    "tags": []
   },
   "outputs": [],
   "source": [
    "#hide\n",
    "LAST_DATE_I, dt_cols = get_dates(df)\n",
    "dt_today =dt_cols[LAST_DATE_I]\n",
    "# dt_5day = dt_cols[LAST_DATE_I - 5]\n",
    "dt_yday = dt_cols[LAST_DATE_I - 1]"
   ]
  },
  {
   "cell_type": "code",
   "execution_count": 11,
   "id": "restricted-sheriff",
   "metadata": {
    "execution": {
     "iopub.execute_input": "2022-07-27T12:18:23.316099Z",
     "iopub.status.busy": "2022-07-27T12:18:23.314432Z",
     "iopub.status.idle": "2022-07-27T12:18:23.321044Z",
     "shell.execute_reply": "2022-07-27T12:18:23.321508Z"
    },
    "papermill": {
     "duration": 0.044714,
     "end_time": "2022-07-27T12:18:23.321651",
     "exception": false,
     "start_time": "2022-07-27T12:18:23.276937",
     "status": "completed"
    },
    "tags": []
   },
   "outputs": [],
   "source": [
    "#hide\n",
    "dfc_cases = dft_cases.groupby(COL_REGION)[dt_today].sum()\n",
    "dfc_deaths = dft_deaths.groupby(COL_REGION)[dt_today].sum()\n",
    "# dfp_cases = dft_cases.groupby(COL_REGION)[dt_5day].sum()\n",
    "# dfp_deaths = dft_deaths.groupby(COL_REGION)[dt_5day].sum()\n",
    "dfp_cases = dft_cases.groupby(COL_REGION)[dt_yday].sum()\n",
    "dfp_deaths = dft_deaths.groupby(COL_REGION)[dt_yday].sum()"
   ]
  },
  {
   "cell_type": "code",
   "execution_count": 12,
   "id": "deluxe-hepatitis",
   "metadata": {
    "execution": {
     "iopub.execute_input": "2022-07-27T12:18:23.388756Z",
     "iopub.status.busy": "2022-07-27T12:18:23.388155Z",
     "iopub.status.idle": "2022-07-27T12:18:23.392598Z",
     "shell.execute_reply": "2022-07-27T12:18:23.393057Z"
    },
    "papermill": {
     "duration": 0.041332,
     "end_time": "2022-07-27T12:18:23.393205",
     "exception": false,
     "start_time": "2022-07-27T12:18:23.351873",
     "status": "completed"
    },
    "tags": []
   },
   "outputs": [],
   "source": [
    "#hide\n",
    "df_table = (pd.DataFrame(dict(Cases = dfc_cases, Deaths = dfc_deaths, PCases = dfp_cases, PDeaths = dfp_deaths))\n",
    "            .sort_values(by = ['Cases','Deaths'], ascending = [False, False])\n",
    "            .reset_index())"
   ]
  },
  {
   "cell_type": "code",
   "execution_count": 13,
   "id": "educational-chancellor",
   "metadata": {
    "execution": {
     "iopub.execute_input": "2022-07-27T12:18:23.471954Z",
     "iopub.status.busy": "2022-07-27T12:18:23.471326Z",
     "iopub.status.idle": "2022-07-27T12:18:23.479440Z",
     "shell.execute_reply": "2022-07-27T12:18:23.479889Z"
    },
    "papermill": {
     "duration": 0.056788,
     "end_time": "2022-07-27T12:18:23.480026",
     "exception": false,
     "start_time": "2022-07-27T12:18:23.423238",
     "status": "completed"
    },
    "tags": []
   },
   "outputs": [
    {
     "data": {
      "text/html": [
       "<div>\n",
       "<style scoped>\n",
       "    .dataframe tbody tr th:only-of-type {\n",
       "        vertical-align: middle;\n",
       "    }\n",
       "\n",
       "    .dataframe tbody tr th {\n",
       "        vertical-align: top;\n",
       "    }\n",
       "\n",
       "    .dataframe thead th {\n",
       "        text-align: right;\n",
       "    }\n",
       "</style>\n",
       "<table border=\"1\" class=\"dataframe\">\n",
       "  <thead>\n",
       "    <tr style=\"text-align: right;\">\n",
       "      <th></th>\n",
       "      <th>Country/Region</th>\n",
       "      <th>Cases</th>\n",
       "      <th>Deaths</th>\n",
       "      <th>PCases</th>\n",
       "      <th>PDeaths</th>\n",
       "      <th>Cases (+)</th>\n",
       "      <th>Deaths (+)</th>\n",
       "      <th>Fatality Rate</th>\n",
       "      <th>Continent</th>\n",
       "    </tr>\n",
       "  </thead>\n",
       "  <tbody>\n",
       "    <tr>\n",
       "      <th>0</th>\n",
       "      <td>US</td>\n",
       "      <td>90733888</td>\n",
       "      <td>1027886</td>\n",
       "      <td>90567290</td>\n",
       "      <td>1027369</td>\n",
       "      <td>166598</td>\n",
       "      <td>517</td>\n",
       "      <td>1.13</td>\n",
       "      <td>North America</td>\n",
       "    </tr>\n",
       "    <tr>\n",
       "      <th>1</th>\n",
       "      <td>India</td>\n",
       "      <td>43938764</td>\n",
       "      <td>526167</td>\n",
       "      <td>43920451</td>\n",
       "      <td>526110</td>\n",
       "      <td>18313</td>\n",
       "      <td>57</td>\n",
       "      <td>1.20</td>\n",
       "      <td>Asia</td>\n",
       "    </tr>\n",
       "    <tr>\n",
       "      <th>2</th>\n",
       "      <td>France</td>\n",
       "      <td>33840851</td>\n",
       "      <td>152719</td>\n",
       "      <td>33751295</td>\n",
       "      <td>152600</td>\n",
       "      <td>89556</td>\n",
       "      <td>119</td>\n",
       "      <td>0.45</td>\n",
       "      <td>Europe</td>\n",
       "    </tr>\n",
       "    <tr>\n",
       "      <th>3</th>\n",
       "      <td>Brazil</td>\n",
       "      <td>33659879</td>\n",
       "      <td>677494</td>\n",
       "      <td>33621965</td>\n",
       "      <td>677143</td>\n",
       "      <td>37914</td>\n",
       "      <td>351</td>\n",
       "      <td>2.01</td>\n",
       "      <td>South America</td>\n",
       "    </tr>\n",
       "    <tr>\n",
       "      <th>4</th>\n",
       "      <td>Germany</td>\n",
       "      <td>30598385</td>\n",
       "      <td>143545</td>\n",
       "      <td>30476605</td>\n",
       "      <td>143364</td>\n",
       "      <td>121780</td>\n",
       "      <td>181</td>\n",
       "      <td>0.47</td>\n",
       "      <td>Europe</td>\n",
       "    </tr>\n",
       "  </tbody>\n",
       "</table>\n",
       "</div>"
      ],
      "text/plain": [
       "  Country/Region     Cases   Deaths    PCases  PDeaths  Cases (+)  Deaths (+)  \\\n",
       "0             US  90733888  1027886  90567290  1027369     166598         517   \n",
       "1          India  43938764   526167  43920451   526110      18313          57   \n",
       "2         France  33840851   152719  33751295   152600      89556         119   \n",
       "3         Brazil  33659879   677494  33621965   677143      37914         351   \n",
       "4        Germany  30598385   143545  30476605   143364     121780         181   \n",
       "\n",
       "   Fatality Rate      Continent  \n",
       "0           1.13  North America  \n",
       "1           1.20           Asia  \n",
       "2           0.45         Europe  \n",
       "3           2.01  South America  \n",
       "4           0.47         Europe  "
      ]
     },
     "execution_count": 13,
     "metadata": {},
     "output_type": "execute_result"
    }
   ],
   "source": [
    "#hide\n",
    "for c in 'Cases, Deaths'.split(', '):\n",
    "    df_table[f'{c} (+)'] = (df_table[c] - df_table[f'P{c}']).clip(0)\n",
    "    #Clip ça veut dire, les chiffres negatif sont interdit\n",
    "df_table['Fatality Rate'] = (100* df_table['Deaths']/ df_table['Cases']).round(2)\n",
    "df_table['Continent'] = df_table['Country/Region'].map(mapping['map.continent'])\n",
    "df_table.head(5)"
   ]
  },
  {
   "cell_type": "code",
   "execution_count": 14,
   "id": "aboriginal-bulgaria",
   "metadata": {
    "execution": {
     "iopub.execute_input": "2022-07-27T12:18:23.548934Z",
     "iopub.status.busy": "2022-07-27T12:18:23.547537Z",
     "iopub.status.idle": "2022-07-27T12:18:23.549623Z",
     "shell.execute_reply": "2022-07-27T12:18:23.550065Z"
    },
    "papermill": {
     "duration": 0.039367,
     "end_time": "2022-07-27T12:18:23.550198",
     "exception": false,
     "start_time": "2022-07-27T12:18:23.510831",
     "status": "completed"
    },
    "tags": []
   },
   "outputs": [],
   "source": [
    "#hide\n",
    "#delete problematic countries from table\n",
    "df_table = df_table[~df_table['Country/Region'].isin(['Cape Verde', 'Cruise Ship', 'Kosovo'])]"
   ]
  },
  {
   "cell_type": "code",
   "execution_count": 15,
   "id": "fantastic-effect",
   "metadata": {
    "execution": {
     "iopub.execute_input": "2022-07-27T12:18:23.619283Z",
     "iopub.status.busy": "2022-07-27T12:18:23.618641Z",
     "iopub.status.idle": "2022-07-27T12:18:23.637256Z",
     "shell.execute_reply": "2022-07-27T12:18:23.636704Z"
    },
    "papermill": {
     "duration": 0.056776,
     "end_time": "2022-07-27T12:18:23.637389",
     "exception": false,
     "start_time": "2022-07-27T12:18:23.580613",
     "status": "completed"
    },
    "tags": []
   },
   "outputs": [
    {
     "data": {
      "text/html": [
       "<div>\n",
       "<style scoped>\n",
       "    .dataframe tbody tr th:only-of-type {\n",
       "        vertical-align: middle;\n",
       "    }\n",
       "\n",
       "    .dataframe tbody tr th {\n",
       "        vertical-align: top;\n",
       "    }\n",
       "\n",
       "    .dataframe thead th {\n",
       "        text-align: right;\n",
       "    }\n",
       "</style>\n",
       "<table border=\"1\" class=\"dataframe\">\n",
       "  <thead>\n",
       "    <tr style=\"text-align: right;\">\n",
       "      <th></th>\n",
       "      <th>Country/Region</th>\n",
       "      <th>Cases</th>\n",
       "      <th>Deaths</th>\n",
       "      <th>PCases</th>\n",
       "      <th>PDeaths</th>\n",
       "      <th>Cases (+)</th>\n",
       "      <th>Deaths (+)</th>\n",
       "      <th>Fatality Rate</th>\n",
       "      <th>Continent</th>\n",
       "    </tr>\n",
       "  </thead>\n",
       "  <tbody>\n",
       "    <tr>\n",
       "      <th>0</th>\n",
       "      <td>US</td>\n",
       "      <td>90733888</td>\n",
       "      <td>1027886</td>\n",
       "      <td>90567290</td>\n",
       "      <td>1027369</td>\n",
       "      <td>166598</td>\n",
       "      <td>517</td>\n",
       "      <td>1.1</td>\n",
       "      <td>North America</td>\n",
       "    </tr>\n",
       "    <tr>\n",
       "      <th>1</th>\n",
       "      <td>India</td>\n",
       "      <td>43938764</td>\n",
       "      <td>526167</td>\n",
       "      <td>43920451</td>\n",
       "      <td>526110</td>\n",
       "      <td>18313</td>\n",
       "      <td>57</td>\n",
       "      <td>1.2</td>\n",
       "      <td>Asia</td>\n",
       "    </tr>\n",
       "    <tr>\n",
       "      <th>2</th>\n",
       "      <td>France</td>\n",
       "      <td>33840851</td>\n",
       "      <td>152719</td>\n",
       "      <td>33751295</td>\n",
       "      <td>152600</td>\n",
       "      <td>89556</td>\n",
       "      <td>119</td>\n",
       "      <td>0.5</td>\n",
       "      <td>Europe</td>\n",
       "    </tr>\n",
       "    <tr>\n",
       "      <th>3</th>\n",
       "      <td>Brazil</td>\n",
       "      <td>33659879</td>\n",
       "      <td>677494</td>\n",
       "      <td>33621965</td>\n",
       "      <td>677143</td>\n",
       "      <td>37914</td>\n",
       "      <td>351</td>\n",
       "      <td>2.0</td>\n",
       "      <td>South America</td>\n",
       "    </tr>\n",
       "    <tr>\n",
       "      <th>4</th>\n",
       "      <td>Germany</td>\n",
       "      <td>30598385</td>\n",
       "      <td>143545</td>\n",
       "      <td>30476605</td>\n",
       "      <td>143364</td>\n",
       "      <td>121780</td>\n",
       "      <td>181</td>\n",
       "      <td>0.5</td>\n",
       "      <td>Europe</td>\n",
       "    </tr>\n",
       "  </tbody>\n",
       "</table>\n",
       "</div>"
      ],
      "text/plain": [
       "  Country/Region     Cases   Deaths    PCases  PDeaths  Cases (+)  Deaths (+)  \\\n",
       "0             US  90733888  1027886  90567290  1027369     166598         517   \n",
       "1          India  43938764   526167  43920451   526110      18313          57   \n",
       "2         France  33840851   152719  33751295   152600      89556         119   \n",
       "3         Brazil  33659879   677494  33621965   677143      37914         351   \n",
       "4        Germany  30598385   143545  30476605   143364     121780         181   \n",
       "\n",
       "   Fatality Rate      Continent  \n",
       "0            1.1  North America  \n",
       "1            1.2           Asia  \n",
       "2            0.5         Europe  \n",
       "3            2.0  South America  \n",
       "4            0.5         Europe  "
      ]
     },
     "execution_count": 15,
     "metadata": {},
     "output_type": "execute_result"
    }
   ],
   "source": [
    "#hide\n",
    "df_table = (pd.DataFrame(dict(Cases=dfc_cases, Deaths=dfc_deaths, PCases=dfp_cases, PDeaths=dfp_deaths))\n",
    "             .sort_values(by=['Cases', 'Deaths'], ascending=[False, False])\n",
    "             .reset_index())\n",
    "df_table.rename(columns={'index': 'Country/Region'}, inplace=True)\n",
    "for c in 'Cases, Deaths'.split(', '):\n",
    "    df_table[f'{c} (+)'] = (df_table[c] - df_table[f'P{c}']).clip(0)  # DATA BUG\n",
    "df_table['Fatality Rate'] = (100 * df_table['Deaths'] / df_table['Cases']).round(1)\n",
    "df_table['Continent'] = df_table['Country/Region'].map(mapping['map.continent'])\n",
    "df_table.head(5)"
   ]
  },
  {
   "cell_type": "code",
   "execution_count": 16,
   "id": "fewer-occasion",
   "metadata": {
    "execution": {
     "iopub.execute_input": "2022-07-27T12:18:23.705916Z",
     "iopub.status.busy": "2022-07-27T12:18:23.705309Z",
     "iopub.status.idle": "2022-07-27T12:18:23.708261Z",
     "shell.execute_reply": "2022-07-27T12:18:23.708749Z"
    },
    "papermill": {
     "duration": 0.03961,
     "end_time": "2022-07-27T12:18:23.708882",
     "exception": false,
     "start_time": "2022-07-27T12:18:23.669272",
     "status": "completed"
    },
    "tags": []
   },
   "outputs": [],
   "source": [
    "#hide\n",
    "#delete problematic countries from table\n",
    "df_table = df_table[~df_table['Country/Region'].isin(['Cape Verde', 'Cruise Ship', 'Kosovo'])]"
   ]
  },
  {
   "cell_type": "code",
   "execution_count": 17,
   "id": "related-center",
   "metadata": {
    "execution": {
     "iopub.execute_input": "2022-07-27T12:18:23.784385Z",
     "iopub.status.busy": "2022-07-27T12:18:23.783748Z",
     "iopub.status.idle": "2022-07-27T12:18:23.791500Z",
     "shell.execute_reply": "2022-07-27T12:18:23.791964Z"
    },
    "papermill": {
     "duration": 0.052335,
     "end_time": "2022-07-27T12:18:23.792104",
     "exception": false,
     "start_time": "2022-07-27T12:18:23.739769",
     "status": "completed"
    },
    "tags": []
   },
   "outputs": [],
   "source": [
    "#hide\n",
    "metrics = [df_table.columns[index] for index in [1,2,5,6]]\n",
    "# s_china = df_table[df_table['Country/Region'].eq('China')][metrics].sum().add_prefix('China ')\n",
    "s_us = df_table[df_table['Country/Region'].eq('US')][metrics].sum().add_prefix('US ')\n",
    "s_eu = df_table[df_table['Continent'].eq('Europe')][metrics].sum().add_prefix('EU ')\n",
    "s_ind = df_table[df_table['Country/Region'].eq('India')][metrics].sum().add_prefix('India ')\n",
    "summary = {'updated': pd.to_datetime(dt_today), 'since': pd.to_datetime(dt_yday)}\n",
    "summary = {'updated': pd.to_datetime(dt_today), 'since': pd.to_datetime(dt_yday)}\n",
    "summary = {**summary, **df_table[metrics].sum(), **s_ind, **s_us, **s_eu}"
   ]
  },
  {
   "cell_type": "code",
   "execution_count": 18,
   "id": "engaging-syndrome",
   "metadata": {
    "execution": {
     "iopub.execute_input": "2022-07-27T12:18:23.860133Z",
     "iopub.status.busy": "2022-07-27T12:18:23.859522Z",
     "iopub.status.idle": "2022-07-27T12:18:23.879782Z",
     "shell.execute_reply": "2022-07-27T12:18:23.879286Z"
    },
    "papermill": {
     "duration": 0.056603,
     "end_time": "2022-07-27T12:18:23.879901",
     "exception": false,
     "start_time": "2022-07-27T12:18:23.823298",
     "status": "completed"
    },
    "tags": []
   },
   "outputs": [],
   "source": [
    "#hide\n",
    "dft_ct_new_cases = dft_cases.groupby(COL_REGION)[dt_cols].sum().diff(axis=1).fillna(0).astype(int)"
   ]
  },
  {
   "cell_type": "code",
   "execution_count": 19,
   "id": "neutral-assignment",
   "metadata": {
    "execution": {
     "iopub.execute_input": "2022-07-27T12:18:23.949432Z",
     "iopub.status.busy": "2022-07-27T12:18:23.948713Z",
     "iopub.status.idle": "2022-07-27T12:18:23.951279Z",
     "shell.execute_reply": "2022-07-27T12:18:23.950814Z"
    },
    "papermill": {
     "duration": 0.040282,
     "end_time": "2022-07-27T12:18:23.951396",
     "exception": false,
     "start_time": "2022-07-27T12:18:23.911114",
     "status": "completed"
    },
    "tags": []
   },
   "outputs": [],
   "source": [
    "#hide\n",
    "everydaycases = dft_ct_new_cases.cumsum(axis=1)"
   ]
  },
  {
   "cell_type": "code",
   "execution_count": 20,
   "id": "parliamentary-calgary",
   "metadata": {
    "execution": {
     "iopub.execute_input": "2022-07-27T12:18:24.019479Z",
     "iopub.status.busy": "2022-07-27T12:18:24.018748Z",
     "iopub.status.idle": "2022-07-27T12:18:24.564378Z",
     "shell.execute_reply": "2022-07-27T12:18:24.563387Z"
    },
    "papermill": {
     "duration": 0.581566,
     "end_time": "2022-07-27T12:18:24.564520",
     "exception": false,
     "start_time": "2022-07-27T12:18:23.982954",
     "status": "completed"
    },
    "tags": []
   },
   "outputs": [],
   "source": [
    "#hide\n",
    "import pandas as pd\n",
    "import matplotlib.pyplot as plt\n",
    "import matplotlib.ticker as ticker\n",
    "import matplotlib.animation as animation\n",
    "from IPython.display import HTML"
   ]
  },
  {
   "cell_type": "code",
   "execution_count": 21,
   "id": "lasting-extraction",
   "metadata": {
    "execution": {
     "iopub.execute_input": "2022-07-27T12:18:24.634395Z",
     "iopub.status.busy": "2022-07-27T12:18:24.633798Z",
     "iopub.status.idle": "2022-07-27T12:18:24.641050Z",
     "shell.execute_reply": "2022-07-27T12:18:24.640569Z"
    },
    "papermill": {
     "duration": 0.044991,
     "end_time": "2022-07-27T12:18:24.641165",
     "exception": false,
     "start_time": "2022-07-27T12:18:24.596174",
     "status": "completed"
    },
    "tags": []
   },
   "outputs": [],
   "source": [
    "#hide\n",
    "t = everydaycases.stack()"
   ]
  },
  {
   "cell_type": "code",
   "execution_count": 22,
   "id": "premier-sleeve",
   "metadata": {
    "execution": {
     "iopub.execute_input": "2022-07-27T12:18:24.708321Z",
     "iopub.status.busy": "2022-07-27T12:18:24.707706Z",
     "iopub.status.idle": "2022-07-27T12:18:24.720489Z",
     "shell.execute_reply": "2022-07-27T12:18:24.719994Z"
    },
    "papermill": {
     "duration": 0.048232,
     "end_time": "2022-07-27T12:18:24.720609",
     "exception": false,
     "start_time": "2022-07-27T12:18:24.672377",
     "status": "completed"
    },
    "tags": []
   },
   "outputs": [],
   "source": [
    "#hide\n",
    "g = t.reset_index(['Country/Region'])"
   ]
  },
  {
   "cell_type": "code",
   "execution_count": 23,
   "id": "distributed-pittsburgh",
   "metadata": {
    "execution": {
     "iopub.execute_input": "2022-07-27T12:18:24.788609Z",
     "iopub.status.busy": "2022-07-27T12:18:24.787126Z",
     "iopub.status.idle": "2022-07-27T12:18:24.789294Z",
     "shell.execute_reply": "2022-07-27T12:18:24.789739Z"
    },
    "papermill": {
     "duration": 0.038233,
     "end_time": "2022-07-27T12:18:24.789876",
     "exception": false,
     "start_time": "2022-07-27T12:18:24.751643",
     "status": "completed"
    },
    "tags": []
   },
   "outputs": [],
   "source": [
    "#hide\n",
    "g.index.name = 'date'"
   ]
  },
  {
   "cell_type": "code",
   "execution_count": 24,
   "id": "naked-donor",
   "metadata": {
    "execution": {
     "iopub.execute_input": "2022-07-27T12:18:24.856029Z",
     "iopub.status.busy": "2022-07-27T12:18:24.855412Z",
     "iopub.status.idle": "2022-07-27T12:18:24.859255Z",
     "shell.execute_reply": "2022-07-27T12:18:24.859688Z"
    },
    "papermill": {
     "duration": 0.038811,
     "end_time": "2022-07-27T12:18:24.859827",
     "exception": false,
     "start_time": "2022-07-27T12:18:24.821016",
     "status": "completed"
    },
    "tags": []
   },
   "outputs": [],
   "source": [
    "# #hide\n",
    "# g = g.reset_index(['date'])"
   ]
  },
  {
   "cell_type": "code",
   "execution_count": 25,
   "id": "incomplete-mustang",
   "metadata": {
    "execution": {
     "iopub.execute_input": "2022-07-27T12:18:24.926475Z",
     "iopub.status.busy": "2022-07-27T12:18:24.925773Z",
     "iopub.status.idle": "2022-07-27T12:18:24.928233Z",
     "shell.execute_reply": "2022-07-27T12:18:24.927754Z"
    },
    "papermill": {
     "duration": 0.03749,
     "end_time": "2022-07-27T12:18:24.928350",
     "exception": false,
     "start_time": "2022-07-27T12:18:24.890860",
     "status": "completed"
    },
    "tags": []
   },
   "outputs": [],
   "source": [
    "#hide\n",
    "# g.head()"
   ]
  },
  {
   "cell_type": "code",
   "execution_count": 26,
   "id": "specific-kruger",
   "metadata": {
    "execution": {
     "iopub.execute_input": "2022-07-27T12:18:24.995299Z",
     "iopub.status.busy": "2022-07-27T12:18:24.994555Z",
     "iopub.status.idle": "2022-07-27T12:18:24.997187Z",
     "shell.execute_reply": "2022-07-27T12:18:24.996618Z"
    },
    "papermill": {
     "duration": 0.037785,
     "end_time": "2022-07-27T12:18:24.997315",
     "exception": false,
     "start_time": "2022-07-27T12:18:24.959530",
     "status": "completed"
    },
    "tags": []
   },
   "outputs": [],
   "source": [
    "#hide\n",
    "# g.columns = ['date','country','cases']"
   ]
  },
  {
   "cell_type": "code",
   "execution_count": 27,
   "id": "tender-conversion",
   "metadata": {
    "execution": {
     "iopub.execute_input": "2022-07-27T12:18:25.063838Z",
     "iopub.status.busy": "2022-07-27T12:18:25.063139Z",
     "iopub.status.idle": "2022-07-27T12:18:25.065818Z",
     "shell.execute_reply": "2022-07-27T12:18:25.065292Z"
    },
    "papermill": {
     "duration": 0.037412,
     "end_time": "2022-07-27T12:18:25.065955",
     "exception": false,
     "start_time": "2022-07-27T12:18:25.028543",
     "status": "completed"
    },
    "tags": []
   },
   "outputs": [],
   "source": [
    "#hide\n",
    "# g['continent'] = g.country"
   ]
  },
  {
   "cell_type": "code",
   "execution_count": 28,
   "id": "substantial-wilderness",
   "metadata": {
    "execution": {
     "iopub.execute_input": "2022-07-27T12:18:25.132909Z",
     "iopub.status.busy": "2022-07-27T12:18:25.132299Z",
     "iopub.status.idle": "2022-07-27T12:18:25.134545Z",
     "shell.execute_reply": "2022-07-27T12:18:25.135056Z"
    },
    "papermill": {
     "duration": 0.037566,
     "end_time": "2022-07-27T12:18:25.135194",
     "exception": false,
     "start_time": "2022-07-27T12:18:25.097628",
     "status": "completed"
    },
    "tags": []
   },
   "outputs": [],
   "source": [
    "#hide\n",
    "# cols = list(g.columns.values)"
   ]
  },
  {
   "cell_type": "code",
   "execution_count": 29,
   "id": "solved-farming",
   "metadata": {
    "execution": {
     "iopub.execute_input": "2022-07-27T12:18:25.201560Z",
     "iopub.status.busy": "2022-07-27T12:18:25.200853Z",
     "iopub.status.idle": "2022-07-27T12:18:25.203256Z",
     "shell.execute_reply": "2022-07-27T12:18:25.202665Z"
    },
    "papermill": {
     "duration": 0.037256,
     "end_time": "2022-07-27T12:18:25.203377",
     "exception": false,
     "start_time": "2022-07-27T12:18:25.166121",
     "status": "completed"
    },
    "tags": []
   },
   "outputs": [],
   "source": [
    "#hide\n",
    "# cols.insert(0, cols.pop())"
   ]
  },
  {
   "cell_type": "code",
   "execution_count": 30,
   "id": "executed-adoption",
   "metadata": {
    "execution": {
     "iopub.execute_input": "2022-07-27T12:18:25.269871Z",
     "iopub.status.busy": "2022-07-27T12:18:25.269155Z",
     "iopub.status.idle": "2022-07-27T12:18:25.271649Z",
     "shell.execute_reply": "2022-07-27T12:18:25.270977Z"
    },
    "papermill": {
     "duration": 0.037316,
     "end_time": "2022-07-27T12:18:25.271782",
     "exception": false,
     "start_time": "2022-07-27T12:18:25.234466",
     "status": "completed"
    },
    "tags": []
   },
   "outputs": [],
   "source": [
    "#hide\n",
    "# g = g[cols]"
   ]
  },
  {
   "cell_type": "code",
   "execution_count": 31,
   "id": "subject-dublin",
   "metadata": {
    "execution": {
     "iopub.execute_input": "2022-07-27T12:18:25.338661Z",
     "iopub.status.busy": "2022-07-27T12:18:25.337931Z",
     "iopub.status.idle": "2022-07-27T12:18:25.340555Z",
     "shell.execute_reply": "2022-07-27T12:18:25.339983Z"
    },
    "papermill": {
     "duration": 0.037519,
     "end_time": "2022-07-27T12:18:25.340682",
     "exception": false,
     "start_time": "2022-07-27T12:18:25.303163",
     "status": "completed"
    },
    "tags": []
   },
   "outputs": [],
   "source": [
    "#hide\n",
    "# g['continent'] = g['continent'].map(mapping['map.continent'])"
   ]
  },
  {
   "cell_type": "code",
   "execution_count": 32,
   "id": "freelance-scout",
   "metadata": {
    "execution": {
     "iopub.execute_input": "2022-07-27T12:18:25.407621Z",
     "iopub.status.busy": "2022-07-27T12:18:25.407000Z",
     "iopub.status.idle": "2022-07-27T12:18:25.409383Z",
     "shell.execute_reply": "2022-07-27T12:18:25.408908Z"
    },
    "papermill": {
     "duration": 0.037117,
     "end_time": "2022-07-27T12:18:25.409495",
     "exception": false,
     "start_time": "2022-07-27T12:18:25.372378",
     "status": "completed"
    },
    "tags": []
   },
   "outputs": [],
   "source": [
    "#hide\n",
    "# g.head()"
   ]
  },
  {
   "cell_type": "code",
   "execution_count": 33,
   "id": "limited-engine",
   "metadata": {
    "execution": {
     "iopub.execute_input": "2022-07-27T12:18:25.475922Z",
     "iopub.status.busy": "2022-07-27T12:18:25.475217Z",
     "iopub.status.idle": "2022-07-27T12:18:25.477819Z",
     "shell.execute_reply": "2022-07-27T12:18:25.477169Z"
    },
    "papermill": {
     "duration": 0.037482,
     "end_time": "2022-07-27T12:18:25.477933",
     "exception": false,
     "start_time": "2022-07-27T12:18:25.440451",
     "status": "completed"
    },
    "tags": []
   },
   "outputs": [],
   "source": [
    "# hide\n",
    "# g['date'] = g['date'].astype('datetime64[ns]')"
   ]
  },
  {
   "cell_type": "code",
   "execution_count": 34,
   "id": "sophisticated-supervisor",
   "metadata": {
    "execution": {
     "iopub.execute_input": "2022-07-27T12:18:25.544865Z",
     "iopub.status.busy": "2022-07-27T12:18:25.544151Z",
     "iopub.status.idle": "2022-07-27T12:18:25.546683Z",
     "shell.execute_reply": "2022-07-27T12:18:25.546008Z"
    },
    "papermill": {
     "duration": 0.037654,
     "end_time": "2022-07-27T12:18:25.546814",
     "exception": false,
     "start_time": "2022-07-27T12:18:25.509160",
     "status": "completed"
    },
    "tags": []
   },
   "outputs": [],
   "source": [
    "#hide\n",
    "# g['date'] = g.date.dt.dayofyear"
   ]
  },
  {
   "cell_type": "code",
   "execution_count": 35,
   "id": "inside-dubai",
   "metadata": {
    "execution": {
     "iopub.execute_input": "2022-07-27T12:18:25.612811Z",
     "iopub.status.busy": "2022-07-27T12:18:25.612216Z",
     "iopub.status.idle": "2022-07-27T12:18:25.614651Z",
     "shell.execute_reply": "2022-07-27T12:18:25.615145Z"
    },
    "papermill": {
     "duration": 0.037353,
     "end_time": "2022-07-27T12:18:25.615283",
     "exception": false,
     "start_time": "2022-07-27T12:18:25.577930",
     "status": "completed"
    },
    "tags": []
   },
   "outputs": [],
   "source": [
    "#hide\n",
    "# g = g.rename(columns= {'continent':'group','country':'name','cases':'value'})"
   ]
  },
  {
   "cell_type": "code",
   "execution_count": 36,
   "id": "fleet-motorcycle",
   "metadata": {
    "execution": {
     "iopub.execute_input": "2022-07-27T12:18:25.680551Z",
     "iopub.status.busy": "2022-07-27T12:18:25.679963Z",
     "iopub.status.idle": "2022-07-27T12:18:25.683520Z",
     "shell.execute_reply": "2022-07-27T12:18:25.683970Z"
    },
    "papermill": {
     "duration": 0.037719,
     "end_time": "2022-07-27T12:18:25.684104",
     "exception": false,
     "start_time": "2022-07-27T12:18:25.646385",
     "status": "completed"
    },
    "tags": []
   },
   "outputs": [],
   "source": [
    "#hide\n",
    "# cols = ['name','group','day','value']"
   ]
  },
  {
   "cell_type": "code",
   "execution_count": 37,
   "id": "continued-sleeping",
   "metadata": {
    "execution": {
     "iopub.execute_input": "2022-07-27T12:18:25.750161Z",
     "iopub.status.busy": "2022-07-27T12:18:25.749572Z",
     "iopub.status.idle": "2022-07-27T12:18:25.751841Z",
     "shell.execute_reply": "2022-07-27T12:18:25.752402Z"
    },
    "papermill": {
     "duration": 0.037477,
     "end_time": "2022-07-27T12:18:25.752533",
     "exception": false,
     "start_time": "2022-07-27T12:18:25.715056",
     "status": "completed"
    },
    "tags": []
   },
   "outputs": [],
   "source": [
    "#hide\n",
    "# g.rename(columns= {'date':'day'},inplace = True)"
   ]
  },
  {
   "cell_type": "code",
   "execution_count": 38,
   "id": "major-fight",
   "metadata": {
    "execution": {
     "iopub.execute_input": "2022-07-27T12:18:25.818712Z",
     "iopub.status.busy": "2022-07-27T12:18:25.817990Z",
     "iopub.status.idle": "2022-07-27T12:18:25.820697Z",
     "shell.execute_reply": "2022-07-27T12:18:25.820141Z"
    },
    "papermill": {
     "duration": 0.037361,
     "end_time": "2022-07-27T12:18:25.820823",
     "exception": false,
     "start_time": "2022-07-27T12:18:25.783462",
     "status": "completed"
    },
    "tags": []
   },
   "outputs": [],
   "source": [
    "#hide\n",
    "# g = g[cols]"
   ]
  },
  {
   "cell_type": "code",
   "execution_count": 39,
   "id": "structured-mobile",
   "metadata": {
    "execution": {
     "iopub.execute_input": "2022-07-27T12:18:25.887414Z",
     "iopub.status.busy": "2022-07-27T12:18:25.886708Z",
     "iopub.status.idle": "2022-07-27T12:18:25.888455Z",
     "shell.execute_reply": "2022-07-27T12:18:25.888997Z"
    },
    "papermill": {
     "duration": 0.036835,
     "end_time": "2022-07-27T12:18:25.889139",
     "exception": false,
     "start_time": "2022-07-27T12:18:25.852304",
     "status": "completed"
    },
    "tags": []
   },
   "outputs": [],
   "source": [
    "# #hide\n",
    "# g = g[g.group.notna()]"
   ]
  },
  {
   "cell_type": "code",
   "execution_count": 40,
   "id": "determined-closing",
   "metadata": {
    "execution": {
     "iopub.execute_input": "2022-07-27T12:18:25.956755Z",
     "iopub.status.busy": "2022-07-27T12:18:25.956124Z",
     "iopub.status.idle": "2022-07-27T12:18:25.959981Z",
     "shell.execute_reply": "2022-07-27T12:18:25.959501Z"
    },
    "papermill": {
     "duration": 0.038916,
     "end_time": "2022-07-27T12:18:25.960091",
     "exception": false,
     "start_time": "2022-07-27T12:18:25.921175",
     "status": "completed"
    },
    "tags": []
   },
   "outputs": [],
   "source": [
    "# #hide\n",
    "# colors = dict(zip(\n",
    "#     [\"Oceania\", \"Europe\", \"Asia\", \"South America\", \"Middle East\", \"North America\", \"Africa\"],\n",
    "#     [\"#adb0ff\", \"#ffb3ff\", \"#90d595\", \"#e48381\", \"#aafbff\", \"#f7bb5f\", \"#eafb50\"]\n",
    "# ))\n",
    "# group_lk = g.set_index('name')['group'].to_dict()"
   ]
  },
  {
   "cell_type": "code",
   "execution_count": null,
   "id": "gross-drinking",
   "metadata": {
    "papermill": {
     "duration": 0.031011,
     "end_time": "2022-07-27T12:18:26.022189",
     "exception": false,
     "start_time": "2022-07-27T12:18:25.991178",
     "status": "completed"
    },
    "tags": []
   },
   "outputs": [],
   "source": []
  },
  {
   "cell_type": "code",
   "execution_count": 41,
   "id": "subject-macintosh",
   "metadata": {
    "execution": {
     "iopub.execute_input": "2022-07-27T12:18:26.089039Z",
     "iopub.status.busy": "2022-07-27T12:18:26.088430Z",
     "iopub.status.idle": "2022-07-27T12:18:26.090785Z",
     "shell.execute_reply": "2022-07-27T12:18:26.091243Z"
    },
    "papermill": {
     "duration": 0.038181,
     "end_time": "2022-07-27T12:18:26.091374",
     "exception": false,
     "start_time": "2022-07-27T12:18:26.053193",
     "status": "completed"
    },
    "tags": []
   },
   "outputs": [],
   "source": [
    "# #hide\n",
    "# fig, ax = plt.subplots(figsize=(15, 8))\n",
    "\n",
    "# def draw_barchart(current_day):\n",
    "#     dff = g[g['day'].eq(current_day)].sort_values(by='value', ascending=True).tail(10)\n",
    "#     ax.clear()\n",
    "#     ax.barh(dff['name'], dff['value'], color=[colors[group_lk[x]] for x in dff['name']])\n",
    "#     dx = dff['value'].max() / 200\n",
    "    \n",
    "#     for i, (value, name) in enumerate(zip(dff['value'], dff['name'])):\n",
    "#         ax.text(value-dx, i,     name,           size=14, weight=600, ha='right', va='bottom')\n",
    "#         ax.text(value-dx, i-.25, group_lk[name], size=10, color='#444444', ha='right', va='baseline')\n",
    "#         ax.text(value+dx, i,     f'{value:,.0f}',  size=14, ha='left',  va='center')\n",
    "#     ax.text(1, 0.4, current_day, transform=ax.transAxes, color='#777777', size=46, ha='right', weight=800)\n",
    "#     ax.text(0, 1.06, 'Population (thousands)', transform=ax.transAxes, size=12, color='#777777')\n",
    "#     ax.xaxis.set_major_formatter(ticker.StrMethodFormatter('{x:,.0f}'))\n",
    "#     ax.xaxis.set_ticks_position('top')\n",
    "#     ax.tick_params(axis='x', colors='#777777', labelsize=12)\n",
    "#     ax.set_yticks([])\n",
    "#     ax.margins(0, 0.01)\n",
    "#     ax.grid(which='major', axis='x', linestyle='-')\n",
    "#     ax.set_axisbelow(True)\n",
    "    \n",
    "#     ax.text(0, 1.15, 'Coronavirus',\n",
    "#             transform=ax.transAxes, size=24, weight=600, ha='left', va='top')\n",
    "# #     ax.text(1, 0, 'by @pratapvardhan; credit @jburnmurdoch', transform=ax.transAxes, color='#777777', ha='right',\n",
    "# #             bbox=dict(facecolor='white', alpha=0.8, edgecolor='white'))\n",
    "#     plt.box(False)"
   ]
  },
  {
   "cell_type": "code",
   "execution_count": 42,
   "id": "sexual-wages",
   "metadata": {
    "execution": {
     "iopub.execute_input": "2022-07-27T12:18:26.157460Z",
     "iopub.status.busy": "2022-07-27T12:18:26.156764Z",
     "iopub.status.idle": "2022-07-27T12:18:26.159175Z",
     "shell.execute_reply": "2022-07-27T12:18:26.158567Z"
    },
    "papermill": {
     "duration": 0.036956,
     "end_time": "2022-07-27T12:18:26.159284",
     "exception": false,
     "start_time": "2022-07-27T12:18:26.122328",
     "status": "completed"
    },
    "tags": []
   },
   "outputs": [],
   "source": [
    "# #hide_input\n",
    "# fig, ax = plt.subplots(figsize=(15, 8))\n",
    "# animator = animation.FuncAnimation(fig, draw_barchart, frames=range(g.day.values.min(), g.day.values.max()))\n",
    "# HTML(animator.to_jshtml())\n",
    "# # or use animator.to_html5_video() or animator.save() "
   ]
  },
  {
   "cell_type": "code",
   "execution_count": null,
   "id": "australian-container",
   "metadata": {
    "papermill": {
     "duration": 0.03072,
     "end_time": "2022-07-27T12:18:26.221066",
     "exception": false,
     "start_time": "2022-07-27T12:18:26.190346",
     "status": "completed"
    },
    "tags": []
   },
   "outputs": [],
   "source": []
  },
  {
   "cell_type": "code",
   "execution_count": null,
   "id": "mediterranean-pontiac",
   "metadata": {
    "papermill": {
     "duration": 0.030732,
     "end_time": "2022-07-27T12:18:26.282548",
     "exception": false,
     "start_time": "2022-07-27T12:18:26.251816",
     "status": "completed"
    },
    "tags": []
   },
   "outputs": [],
   "source": []
  },
  {
   "cell_type": "code",
   "execution_count": null,
   "id": "aging-legislature",
   "metadata": {
    "papermill": {
     "duration": 0.030764,
     "end_time": "2022-07-27T12:18:26.344447",
     "exception": false,
     "start_time": "2022-07-27T12:18:26.313683",
     "status": "completed"
    },
    "tags": []
   },
   "outputs": [],
   "source": []
  }
 ],
 "metadata": {
  "kernelspec": {
   "display_name": "Python 3",
   "language": "python",
   "name": "python3"
  },
  "language_info": {
   "codemirror_mode": {
    "name": "ipython",
    "version": 3
   },
   "file_extension": ".py",
   "mimetype": "text/x-python",
   "name": "python",
   "nbconvert_exporter": "python",
   "pygments_lexer": "ipython3",
   "version": "3.6.15"
  },
  "papermill": {
   "duration": 6.106301,
   "end_time": "2022-07-27T12:18:26.794690",
   "environment_variables": {},
   "exception": null,
   "input_path": "2020-03-21-covid19exp.ipynb",
   "output_path": "2020-03-21-covid19exp.ipynb",
   "parameters": {},
   "start_time": "2022-07-27T12:18:20.688389",
   "version": "2.0.0"
  }
 },
 "nbformat": 4,
 "nbformat_minor": 5
}