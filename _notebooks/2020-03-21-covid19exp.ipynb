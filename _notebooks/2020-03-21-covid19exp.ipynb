{
 "cells": [
  {
   "cell_type": "markdown",
   "id": "muslim-click",
   "metadata": {
    "papermill": {
     "duration": 0.034525,
     "end_time": "2022-06-03T00:34:54.511932",
     "exception": false,
     "start_time": "2022-06-03T00:34:54.477407",
     "status": "completed"
    },
    "tags": []
   },
   "source": [
    "# COVID-19 Case Race\n",
    "> A race chart to see rising cases around the world\n",
    "\n",
    "- author: Hargun Oberoi\n",
    "- image: images/covid-overview.png\n",
    "- hide: false\n",
    "- badges: false"
   ]
  },
  {
   "cell_type": "code",
   "execution_count": 1,
   "id": "proof-material",
   "metadata": {
    "execution": {
     "iopub.execute_input": "2022-06-03T00:34:54.581764Z",
     "iopub.status.busy": "2022-06-03T00:34:54.581182Z",
     "iopub.status.idle": "2022-06-03T00:34:54.895288Z",
     "shell.execute_reply": "2022-06-03T00:34:54.894305Z"
    },
    "papermill": {
     "duration": 0.353178,
     "end_time": "2022-06-03T00:34:54.895424",
     "exception": false,
     "start_time": "2022-06-03T00:34:54.542246",
     "status": "completed"
    },
    "tags": []
   },
   "outputs": [],
   "source": [
    "#hide\n",
    "import numpy as np\n",
    "import pandas as pd\n",
    "from jinja2 import Template\n",
    "from IPython.display import HTML"
   ]
  },
  {
   "cell_type": "code",
   "execution_count": 2,
   "id": "developed-terminology",
   "metadata": {
    "execution": {
     "iopub.execute_input": "2022-06-03T00:34:54.960098Z",
     "iopub.status.busy": "2022-06-03T00:34:54.959531Z",
     "iopub.status.idle": "2022-06-03T00:34:54.961792Z",
     "shell.execute_reply": "2022-06-03T00:34:54.961351Z"
    },
    "papermill": {
     "duration": 0.036527,
     "end_time": "2022-06-03T00:34:54.961893",
     "exception": false,
     "start_time": "2022-06-03T00:34:54.925366",
     "status": "completed"
    },
    "tags": []
   },
   "outputs": [],
   "source": [
    "#hide\n",
    "\n",
    "# FETCH\n",
    "base_url = 'https://raw.githubusercontent.com/pratapvardhan/notebooks/master/covid19/'\n",
    "paths = {\n",
    "    'mapping': base_url + 'mapping_countries.csv',\n",
    "    'overview': base_url + 'overview.tpl'\n",
    "}"
   ]
  },
  {
   "cell_type": "code",
   "execution_count": 3,
   "id": "dynamic-saver",
   "metadata": {
    "execution": {
     "iopub.execute_input": "2022-06-03T00:34:55.030358Z",
     "iopub.status.busy": "2022-06-03T00:34:55.029797Z",
     "iopub.status.idle": "2022-06-03T00:34:55.032478Z",
     "shell.execute_reply": "2022-06-03T00:34:55.032954Z"
    },
    "papermill": {
     "duration": 0.041591,
     "end_time": "2022-06-03T00:34:55.033073",
     "exception": false,
     "start_time": "2022-06-03T00:34:54.991482",
     "status": "completed"
    },
    "tags": []
   },
   "outputs": [
    {
     "data": {
      "text/plain": [
       "'https://raw.githubusercontent.com/pratapvardhan/notebooks/master/covid19/mapping_countries.csv'"
      ]
     },
     "execution_count": 3,
     "metadata": {},
     "output_type": "execute_result"
    }
   ],
   "source": [
    "#hide\n",
    "paths['mapping']"
   ]
  },
  {
   "cell_type": "code",
   "execution_count": 4,
   "id": "urban-software",
   "metadata": {
    "execution": {
     "iopub.execute_input": "2022-06-03T00:34:55.098445Z",
     "iopub.status.busy": "2022-06-03T00:34:55.097878Z",
     "iopub.status.idle": "2022-06-03T00:34:55.099814Z",
     "shell.execute_reply": "2022-06-03T00:34:55.100242Z"
    },
    "papermill": {
     "duration": 0.03722,
     "end_time": "2022-06-03T00:34:55.100358",
     "exception": false,
     "start_time": "2022-06-03T00:34:55.063138",
     "status": "completed"
    },
    "tags": []
   },
   "outputs": [],
   "source": [
    "#hide\n",
    "def get_mappings(url):\n",
    "    df = pd.read_csv(url)\n",
    "    return {\n",
    "        'df': df,\n",
    "        'replace.country': dict(df.dropna(subset=['Name']).set_index('Country')['Name']),\n",
    "        'map.continent': dict(df.set_index('Name')['Continent'])\n",
    "    }"
   ]
  },
  {
   "cell_type": "code",
   "execution_count": 5,
   "id": "intimate-machinery",
   "metadata": {
    "execution": {
     "iopub.execute_input": "2022-06-03T00:34:55.165362Z",
     "iopub.status.busy": "2022-06-03T00:34:55.164757Z",
     "iopub.status.idle": "2022-06-03T00:34:55.230935Z",
     "shell.execute_reply": "2022-06-03T00:34:55.231377Z"
    },
    "papermill": {
     "duration": 0.101413,
     "end_time": "2022-06-03T00:34:55.231516",
     "exception": false,
     "start_time": "2022-06-03T00:34:55.130103",
     "status": "completed"
    },
    "tags": []
   },
   "outputs": [],
   "source": [
    "#hide\n",
    "mapping = get_mappings(paths['mapping'])"
   ]
  },
  {
   "cell_type": "code",
   "execution_count": 6,
   "id": "certified-tactics",
   "metadata": {
    "execution": {
     "iopub.execute_input": "2022-06-03T00:34:55.297036Z",
     "iopub.status.busy": "2022-06-03T00:34:55.296438Z",
     "iopub.status.idle": "2022-06-03T00:34:55.298855Z",
     "shell.execute_reply": "2022-06-03T00:34:55.298400Z"
    },
    "papermill": {
     "duration": 0.037476,
     "end_time": "2022-06-03T00:34:55.298956",
     "exception": false,
     "start_time": "2022-06-03T00:34:55.261480",
     "status": "completed"
    },
    "tags": []
   },
   "outputs": [],
   "source": [
    "#hide\n",
    "def get_template(path):\n",
    "    from urllib.parse import urlparse\n",
    "    if bool(urlparse(path).netloc):\n",
    "        from urllib.request import urlopen\n",
    "        return urlopen(path).read().decode('utf8')\n",
    "    return open(path).read()"
   ]
  },
  {
   "cell_type": "code",
   "execution_count": 7,
   "id": "realistic-blast",
   "metadata": {
    "execution": {
     "iopub.execute_input": "2022-06-03T00:34:55.363483Z",
     "iopub.status.busy": "2022-06-03T00:34:55.362918Z",
     "iopub.status.idle": "2022-06-03T00:34:55.365196Z",
     "shell.execute_reply": "2022-06-03T00:34:55.365619Z"
    },
    "papermill": {
     "duration": 0.036834,
     "end_time": "2022-06-03T00:34:55.365734",
     "exception": false,
     "start_time": "2022-06-03T00:34:55.328900",
     "status": "completed"
    },
    "tags": []
   },
   "outputs": [],
   "source": [
    "#hide\n",
    "def get_frame(name):\n",
    "    url = (\n",
    "        'https://raw.githubusercontent.com/CSSEGISandData/COVID-19/master/csse_covid_19_data/'\n",
    "        f'csse_covid_19_time_series/time_series_covid19_{name}_global.csv')\n",
    "    df = pd.read_csv(url)\n",
    "    # rename countries\n",
    "    df['Country/Region'] = df['Country/Region'].replace(mapping['replace.country'])\n",
    "    return df"
   ]
  },
  {
   "cell_type": "code",
   "execution_count": 8,
   "id": "affiliated-characterization",
   "metadata": {
    "execution": {
     "iopub.execute_input": "2022-06-03T00:34:55.431313Z",
     "iopub.status.busy": "2022-06-03T00:34:55.430723Z",
     "iopub.status.idle": "2022-06-03T00:34:55.434000Z",
     "shell.execute_reply": "2022-06-03T00:34:55.434433Z"
    },
    "papermill": {
     "duration": 0.038945,
     "end_time": "2022-06-03T00:34:55.434554",
     "exception": false,
     "start_time": "2022-06-03T00:34:55.395609",
     "status": "completed"
    },
    "tags": []
   },
   "outputs": [],
   "source": [
    "#hide\n",
    "def get_dates(df):\n",
    "    dt_cols = df.columns[~df.columns.isin(['Province/State', 'Country/Region', 'Lat', 'Long'])]\n",
    "    LAST_DATE_I = -1\n",
    "    # sometimes last column may be empty, then go backwards\n",
    "    for i in range(-1, -len(dt_cols), -1):\n",
    "        if not df[dt_cols[i]].fillna(0).eq(0).all():\n",
    "            LAST_DATE_I = i\n",
    "            break\n",
    "    return LAST_DATE_I, dt_cols"
   ]
  },
  {
   "cell_type": "code",
   "execution_count": 9,
   "id": "recent-optimization",
   "metadata": {
    "execution": {
     "iopub.execute_input": "2022-06-03T00:34:55.499093Z",
     "iopub.status.busy": "2022-06-03T00:34:55.498494Z",
     "iopub.status.idle": "2022-06-03T00:34:56.302974Z",
     "shell.execute_reply": "2022-06-03T00:34:56.302468Z"
    },
    "papermill": {
     "duration": 0.838833,
     "end_time": "2022-06-03T00:34:56.303083",
     "exception": false,
     "start_time": "2022-06-03T00:34:55.464250",
     "status": "completed"
    },
    "tags": []
   },
   "outputs": [],
   "source": [
    "#hide\n",
    "COL_REGION = 'Country/Region'\n",
    "# Confirmed, Recovered, Deaths\n",
    "df = get_frame('confirmed')\n",
    "# dft_: timeseries, dfc_: today country agg\n",
    "dft_cases = df\n",
    "dft_deaths = get_frame('deaths')\n",
    "dft_recovered = get_frame('recovered')\n",
    "LAST_DATE_I, dt_cols = get_dates(df)"
   ]
  },
  {
   "cell_type": "code",
   "execution_count": 10,
   "id": "absolute-copper",
   "metadata": {
    "execution": {
     "iopub.execute_input": "2022-06-03T00:34:56.368469Z",
     "iopub.status.busy": "2022-06-03T00:34:56.367893Z",
     "iopub.status.idle": "2022-06-03T00:34:56.369833Z",
     "shell.execute_reply": "2022-06-03T00:34:56.370266Z"
    },
    "papermill": {
     "duration": 0.03709,
     "end_time": "2022-06-03T00:34:56.370388",
     "exception": false,
     "start_time": "2022-06-03T00:34:56.333298",
     "status": "completed"
    },
    "tags": []
   },
   "outputs": [],
   "source": [
    "#hide\n",
    "LAST_DATE_I, dt_cols = get_dates(df)\n",
    "dt_today =dt_cols[LAST_DATE_I]\n",
    "# dt_5day = dt_cols[LAST_DATE_I - 5]\n",
    "dt_yday = dt_cols[LAST_DATE_I - 1]"
   ]
  },
  {
   "cell_type": "code",
   "execution_count": 11,
   "id": "restricted-sheriff",
   "metadata": {
    "execution": {
     "iopub.execute_input": "2022-06-03T00:34:56.437857Z",
     "iopub.status.busy": "2022-06-03T00:34:56.435631Z",
     "iopub.status.idle": "2022-06-03T00:34:56.442778Z",
     "shell.execute_reply": "2022-06-03T00:34:56.442318Z"
    },
    "papermill": {
     "duration": 0.042602,
     "end_time": "2022-06-03T00:34:56.442881",
     "exception": false,
     "start_time": "2022-06-03T00:34:56.400279",
     "status": "completed"
    },
    "tags": []
   },
   "outputs": [],
   "source": [
    "#hide\n",
    "dfc_cases = dft_cases.groupby(COL_REGION)[dt_today].sum()\n",
    "dfc_deaths = dft_deaths.groupby(COL_REGION)[dt_today].sum()\n",
    "# dfp_cases = dft_cases.groupby(COL_REGION)[dt_5day].sum()\n",
    "# dfp_deaths = dft_deaths.groupby(COL_REGION)[dt_5day].sum()\n",
    "dfp_cases = dft_cases.groupby(COL_REGION)[dt_yday].sum()\n",
    "dfp_deaths = dft_deaths.groupby(COL_REGION)[dt_yday].sum()"
   ]
  },
  {
   "cell_type": "code",
   "execution_count": 12,
   "id": "deluxe-hepatitis",
   "metadata": {
    "execution": {
     "iopub.execute_input": "2022-06-03T00:34:56.509041Z",
     "iopub.status.busy": "2022-06-03T00:34:56.508444Z",
     "iopub.status.idle": "2022-06-03T00:34:56.512842Z",
     "shell.execute_reply": "2022-06-03T00:34:56.512268Z"
    },
    "papermill": {
     "duration": 0.040071,
     "end_time": "2022-06-03T00:34:56.512947",
     "exception": false,
     "start_time": "2022-06-03T00:34:56.472876",
     "status": "completed"
    },
    "tags": []
   },
   "outputs": [],
   "source": [
    "#hide\n",
    "df_table = (pd.DataFrame(dict(Cases = dfc_cases, Deaths = dfc_deaths, PCases = dfp_cases, PDeaths = dfp_deaths))\n",
    "            .sort_values(by = ['Cases','Deaths'], ascending = [False, False])\n",
    "            .reset_index())"
   ]
  },
  {
   "cell_type": "code",
   "execution_count": 13,
   "id": "educational-chancellor",
   "metadata": {
    "execution": {
     "iopub.execute_input": "2022-06-03T00:34:56.585560Z",
     "iopub.status.busy": "2022-06-03T00:34:56.584811Z",
     "iopub.status.idle": "2022-06-03T00:34:56.596767Z",
     "shell.execute_reply": "2022-06-03T00:34:56.597232Z"
    },
    "papermill": {
     "duration": 0.054664,
     "end_time": "2022-06-03T00:34:56.597365",
     "exception": false,
     "start_time": "2022-06-03T00:34:56.542701",
     "status": "completed"
    },
    "tags": []
   },
   "outputs": [
    {
     "data": {
      "text/html": [
       "<div>\n",
       "<style scoped>\n",
       "    .dataframe tbody tr th:only-of-type {\n",
       "        vertical-align: middle;\n",
       "    }\n",
       "\n",
       "    .dataframe tbody tr th {\n",
       "        vertical-align: top;\n",
       "    }\n",
       "\n",
       "    .dataframe thead th {\n",
       "        text-align: right;\n",
       "    }\n",
       "</style>\n",
       "<table border=\"1\" class=\"dataframe\">\n",
       "  <thead>\n",
       "    <tr style=\"text-align: right;\">\n",
       "      <th></th>\n",
       "      <th>Country/Region</th>\n",
       "      <th>Cases</th>\n",
       "      <th>Deaths</th>\n",
       "      <th>PCases</th>\n",
       "      <th>PDeaths</th>\n",
       "      <th>Cases (+)</th>\n",
       "      <th>Deaths (+)</th>\n",
       "      <th>Fatality Rate</th>\n",
       "      <th>Continent</th>\n",
       "    </tr>\n",
       "  </thead>\n",
       "  <tbody>\n",
       "    <tr>\n",
       "      <th>0</th>\n",
       "      <td>US</td>\n",
       "      <td>84444990</td>\n",
       "      <td>1007685</td>\n",
       "      <td>84210815</td>\n",
       "      <td>1007032</td>\n",
       "      <td>234175</td>\n",
       "      <td>653</td>\n",
       "      <td>1.19</td>\n",
       "      <td>North America</td>\n",
       "    </tr>\n",
       "    <tr>\n",
       "      <th>1</th>\n",
       "      <td>India</td>\n",
       "      <td>43164544</td>\n",
       "      <td>524641</td>\n",
       "      <td>43160832</td>\n",
       "      <td>524636</td>\n",
       "      <td>3712</td>\n",
       "      <td>5</td>\n",
       "      <td>1.22</td>\n",
       "      <td>Asia</td>\n",
       "    </tr>\n",
       "    <tr>\n",
       "      <th>2</th>\n",
       "      <td>Brazil</td>\n",
       "      <td>31060017</td>\n",
       "      <td>666801</td>\n",
       "      <td>31019038</td>\n",
       "      <td>666676</td>\n",
       "      <td>40979</td>\n",
       "      <td>125</td>\n",
       "      <td>2.15</td>\n",
       "      <td>South America</td>\n",
       "    </tr>\n",
       "    <tr>\n",
       "      <th>3</th>\n",
       "      <td>France</td>\n",
       "      <td>29738170</td>\n",
       "      <td>149424</td>\n",
       "      <td>29711870</td>\n",
       "      <td>149366</td>\n",
       "      <td>26300</td>\n",
       "      <td>58</td>\n",
       "      <td>0.50</td>\n",
       "      <td>Europe</td>\n",
       "    </tr>\n",
       "    <tr>\n",
       "      <th>4</th>\n",
       "      <td>Germany</td>\n",
       "      <td>26409455</td>\n",
       "      <td>139222</td>\n",
       "      <td>26360953</td>\n",
       "      <td>139091</td>\n",
       "      <td>48502</td>\n",
       "      <td>131</td>\n",
       "      <td>0.53</td>\n",
       "      <td>Europe</td>\n",
       "    </tr>\n",
       "  </tbody>\n",
       "</table>\n",
       "</div>"
      ],
      "text/plain": [
       "  Country/Region     Cases   Deaths    PCases  PDeaths  Cases (+)  Deaths (+)  \\\n",
       "0             US  84444990  1007685  84210815  1007032     234175         653   \n",
       "1          India  43164544   524641  43160832   524636       3712           5   \n",
       "2         Brazil  31060017   666801  31019038   666676      40979         125   \n",
       "3         France  29738170   149424  29711870   149366      26300          58   \n",
       "4        Germany  26409455   139222  26360953   139091      48502         131   \n",
       "\n",
       "   Fatality Rate      Continent  \n",
       "0           1.19  North America  \n",
       "1           1.22           Asia  \n",
       "2           2.15  South America  \n",
       "3           0.50         Europe  \n",
       "4           0.53         Europe  "
      ]
     },
     "execution_count": 13,
     "metadata": {},
     "output_type": "execute_result"
    }
   ],
   "source": [
    "#hide\n",
    "for c in 'Cases, Deaths'.split(', '):\n",
    "    df_table[f'{c} (+)'] = (df_table[c] - df_table[f'P{c}']).clip(0)\n",
    "    #Clip ça veut dire, les chiffres negatif sont interdit\n",
    "df_table['Fatality Rate'] = (100* df_table['Deaths']/ df_table['Cases']).round(2)\n",
    "df_table['Continent'] = df_table['Country/Region'].map(mapping['map.continent'])\n",
    "df_table.head(5)"
   ]
  },
  {
   "cell_type": "code",
   "execution_count": 14,
   "id": "aboriginal-bulgaria",
   "metadata": {
    "execution": {
     "iopub.execute_input": "2022-06-03T00:34:56.663645Z",
     "iopub.status.busy": "2022-06-03T00:34:56.663084Z",
     "iopub.status.idle": "2022-06-03T00:34:56.665372Z",
     "shell.execute_reply": "2022-06-03T00:34:56.665789Z"
    },
    "papermill": {
     "duration": 0.037983,
     "end_time": "2022-06-03T00:34:56.665908",
     "exception": false,
     "start_time": "2022-06-03T00:34:56.627925",
     "status": "completed"
    },
    "tags": []
   },
   "outputs": [],
   "source": [
    "#hide\n",
    "#delete problematic countries from table\n",
    "df_table = df_table[~df_table['Country/Region'].isin(['Cape Verde', 'Cruise Ship', 'Kosovo'])]"
   ]
  },
  {
   "cell_type": "code",
   "execution_count": 15,
   "id": "fantastic-effect",
   "metadata": {
    "execution": {
     "iopub.execute_input": "2022-06-03T00:34:56.735011Z",
     "iopub.status.busy": "2022-06-03T00:34:56.733668Z",
     "iopub.status.idle": "2022-06-03T00:34:56.752737Z",
     "shell.execute_reply": "2022-06-03T00:34:56.752265Z"
    },
    "papermill": {
     "duration": 0.056675,
     "end_time": "2022-06-03T00:34:56.752867",
     "exception": false,
     "start_time": "2022-06-03T00:34:56.696192",
     "status": "completed"
    },
    "tags": []
   },
   "outputs": [
    {
     "data": {
      "text/html": [
       "<div>\n",
       "<style scoped>\n",
       "    .dataframe tbody tr th:only-of-type {\n",
       "        vertical-align: middle;\n",
       "    }\n",
       "\n",
       "    .dataframe tbody tr th {\n",
       "        vertical-align: top;\n",
       "    }\n",
       "\n",
       "    .dataframe thead th {\n",
       "        text-align: right;\n",
       "    }\n",
       "</style>\n",
       "<table border=\"1\" class=\"dataframe\">\n",
       "  <thead>\n",
       "    <tr style=\"text-align: right;\">\n",
       "      <th></th>\n",
       "      <th>Country/Region</th>\n",
       "      <th>Cases</th>\n",
       "      <th>Deaths</th>\n",
       "      <th>PCases</th>\n",
       "      <th>PDeaths</th>\n",
       "      <th>Cases (+)</th>\n",
       "      <th>Deaths (+)</th>\n",
       "      <th>Fatality Rate</th>\n",
       "      <th>Continent</th>\n",
       "    </tr>\n",
       "  </thead>\n",
       "  <tbody>\n",
       "    <tr>\n",
       "      <th>0</th>\n",
       "      <td>US</td>\n",
       "      <td>84444990</td>\n",
       "      <td>1007685</td>\n",
       "      <td>84210815</td>\n",
       "      <td>1007032</td>\n",
       "      <td>234175</td>\n",
       "      <td>653</td>\n",
       "      <td>1.2</td>\n",
       "      <td>North America</td>\n",
       "    </tr>\n",
       "    <tr>\n",
       "      <th>1</th>\n",
       "      <td>India</td>\n",
       "      <td>43164544</td>\n",
       "      <td>524641</td>\n",
       "      <td>43160832</td>\n",
       "      <td>524636</td>\n",
       "      <td>3712</td>\n",
       "      <td>5</td>\n",
       "      <td>1.2</td>\n",
       "      <td>Asia</td>\n",
       "    </tr>\n",
       "    <tr>\n",
       "      <th>2</th>\n",
       "      <td>Brazil</td>\n",
       "      <td>31060017</td>\n",
       "      <td>666801</td>\n",
       "      <td>31019038</td>\n",
       "      <td>666676</td>\n",
       "      <td>40979</td>\n",
       "      <td>125</td>\n",
       "      <td>2.1</td>\n",
       "      <td>South America</td>\n",
       "    </tr>\n",
       "    <tr>\n",
       "      <th>3</th>\n",
       "      <td>France</td>\n",
       "      <td>29738170</td>\n",
       "      <td>149424</td>\n",
       "      <td>29711870</td>\n",
       "      <td>149366</td>\n",
       "      <td>26300</td>\n",
       "      <td>58</td>\n",
       "      <td>0.5</td>\n",
       "      <td>Europe</td>\n",
       "    </tr>\n",
       "    <tr>\n",
       "      <th>4</th>\n",
       "      <td>Germany</td>\n",
       "      <td>26409455</td>\n",
       "      <td>139222</td>\n",
       "      <td>26360953</td>\n",
       "      <td>139091</td>\n",
       "      <td>48502</td>\n",
       "      <td>131</td>\n",
       "      <td>0.5</td>\n",
       "      <td>Europe</td>\n",
       "    </tr>\n",
       "  </tbody>\n",
       "</table>\n",
       "</div>"
      ],
      "text/plain": [
       "  Country/Region     Cases   Deaths    PCases  PDeaths  Cases (+)  Deaths (+)  \\\n",
       "0             US  84444990  1007685  84210815  1007032     234175         653   \n",
       "1          India  43164544   524641  43160832   524636       3712           5   \n",
       "2         Brazil  31060017   666801  31019038   666676      40979         125   \n",
       "3         France  29738170   149424  29711870   149366      26300          58   \n",
       "4        Germany  26409455   139222  26360953   139091      48502         131   \n",
       "\n",
       "   Fatality Rate      Continent  \n",
       "0            1.2  North America  \n",
       "1            1.2           Asia  \n",
       "2            2.1  South America  \n",
       "3            0.5         Europe  \n",
       "4            0.5         Europe  "
      ]
     },
     "execution_count": 15,
     "metadata": {},
     "output_type": "execute_result"
    }
   ],
   "source": [
    "#hide\n",
    "df_table = (pd.DataFrame(dict(Cases=dfc_cases, Deaths=dfc_deaths, PCases=dfp_cases, PDeaths=dfp_deaths))\n",
    "             .sort_values(by=['Cases', 'Deaths'], ascending=[False, False])\n",
    "             .reset_index())\n",
    "df_table.rename(columns={'index': 'Country/Region'}, inplace=True)\n",
    "for c in 'Cases, Deaths'.split(', '):\n",
    "    df_table[f'{c} (+)'] = (df_table[c] - df_table[f'P{c}']).clip(0)  # DATA BUG\n",
    "df_table['Fatality Rate'] = (100 * df_table['Deaths'] / df_table['Cases']).round(1)\n",
    "df_table['Continent'] = df_table['Country/Region'].map(mapping['map.continent'])\n",
    "df_table.head(5)"
   ]
  },
  {
   "cell_type": "code",
   "execution_count": 16,
   "id": "fewer-occasion",
   "metadata": {
    "execution": {
     "iopub.execute_input": "2022-06-03T00:34:56.820659Z",
     "iopub.status.busy": "2022-06-03T00:34:56.820077Z",
     "iopub.status.idle": "2022-06-03T00:34:56.823725Z",
     "shell.execute_reply": "2022-06-03T00:34:56.824231Z"
    },
    "papermill": {
     "duration": 0.040352,
     "end_time": "2022-06-03T00:34:56.824381",
     "exception": false,
     "start_time": "2022-06-03T00:34:56.784029",
     "status": "completed"
    },
    "tags": []
   },
   "outputs": [],
   "source": [
    "#hide\n",
    "#delete problematic countries from table\n",
    "df_table = df_table[~df_table['Country/Region'].isin(['Cape Verde', 'Cruise Ship', 'Kosovo'])]"
   ]
  },
  {
   "cell_type": "code",
   "execution_count": 17,
   "id": "related-center",
   "metadata": {
    "execution": {
     "iopub.execute_input": "2022-06-03T00:34:56.893033Z",
     "iopub.status.busy": "2022-06-03T00:34:56.892447Z",
     "iopub.status.idle": "2022-06-03T00:34:56.906530Z",
     "shell.execute_reply": "2022-06-03T00:34:56.906069Z"
    },
    "papermill": {
     "duration": 0.051172,
     "end_time": "2022-06-03T00:34:56.906635",
     "exception": false,
     "start_time": "2022-06-03T00:34:56.855463",
     "status": "completed"
    },
    "tags": []
   },
   "outputs": [],
   "source": [
    "#hide\n",
    "metrics = [df_table.columns[index] for index in [1,2,5,6]]\n",
    "# s_china = df_table[df_table['Country/Region'].eq('China')][metrics].sum().add_prefix('China ')\n",
    "s_us = df_table[df_table['Country/Region'].eq('US')][metrics].sum().add_prefix('US ')\n",
    "s_eu = df_table[df_table['Continent'].eq('Europe')][metrics].sum().add_prefix('EU ')\n",
    "s_ind = df_table[df_table['Country/Region'].eq('India')][metrics].sum().add_prefix('India ')\n",
    "summary = {'updated': pd.to_datetime(dt_today), 'since': pd.to_datetime(dt_yday)}\n",
    "summary = {'updated': pd.to_datetime(dt_today), 'since': pd.to_datetime(dt_yday)}\n",
    "summary = {**summary, **df_table[metrics].sum(), **s_ind, **s_us, **s_eu}"
   ]
  },
  {
   "cell_type": "code",
   "execution_count": 18,
   "id": "engaging-syndrome",
   "metadata": {
    "execution": {
     "iopub.execute_input": "2022-06-03T00:34:56.973790Z",
     "iopub.status.busy": "2022-06-03T00:34:56.973235Z",
     "iopub.status.idle": "2022-06-03T00:34:56.991707Z",
     "shell.execute_reply": "2022-06-03T00:34:56.991235Z"
    },
    "papermill": {
     "duration": 0.053988,
     "end_time": "2022-06-03T00:34:56.991817",
     "exception": false,
     "start_time": "2022-06-03T00:34:56.937829",
     "status": "completed"
    },
    "tags": []
   },
   "outputs": [],
   "source": [
    "#hide\n",
    "dft_ct_new_cases = dft_cases.groupby(COL_REGION)[dt_cols].sum().diff(axis=1).fillna(0).astype(int)"
   ]
  },
  {
   "cell_type": "code",
   "execution_count": 19,
   "id": "neutral-assignment",
   "metadata": {
    "execution": {
     "iopub.execute_input": "2022-06-03T00:34:57.059728Z",
     "iopub.status.busy": "2022-06-03T00:34:57.059145Z",
     "iopub.status.idle": "2022-06-03T00:34:57.061668Z",
     "shell.execute_reply": "2022-06-03T00:34:57.061203Z"
    },
    "papermill": {
     "duration": 0.039088,
     "end_time": "2022-06-03T00:34:57.061776",
     "exception": false,
     "start_time": "2022-06-03T00:34:57.022688",
     "status": "completed"
    },
    "tags": []
   },
   "outputs": [],
   "source": [
    "#hide\n",
    "everydaycases = dft_ct_new_cases.cumsum(axis=1)"
   ]
  },
  {
   "cell_type": "code",
   "execution_count": 20,
   "id": "parliamentary-calgary",
   "metadata": {
    "execution": {
     "iopub.execute_input": "2022-06-03T00:34:57.128702Z",
     "iopub.status.busy": "2022-06-03T00:34:57.128142Z",
     "iopub.status.idle": "2022-06-03T00:34:57.672426Z",
     "shell.execute_reply": "2022-06-03T00:34:57.671942Z"
    },
    "papermill": {
     "duration": 0.57944,
     "end_time": "2022-06-03T00:34:57.672543",
     "exception": false,
     "start_time": "2022-06-03T00:34:57.093103",
     "status": "completed"
    },
    "tags": []
   },
   "outputs": [],
   "source": [
    "#hide\n",
    "import pandas as pd\n",
    "import matplotlib.pyplot as plt\n",
    "import matplotlib.ticker as ticker\n",
    "import matplotlib.animation as animation\n",
    "from IPython.display import HTML"
   ]
  },
  {
   "cell_type": "code",
   "execution_count": 21,
   "id": "lasting-extraction",
   "metadata": {
    "execution": {
     "iopub.execute_input": "2022-06-03T00:34:57.740644Z",
     "iopub.status.busy": "2022-06-03T00:34:57.740073Z",
     "iopub.status.idle": "2022-06-03T00:34:57.746241Z",
     "shell.execute_reply": "2022-06-03T00:34:57.746686Z"
    },
    "papermill": {
     "duration": 0.043334,
     "end_time": "2022-06-03T00:34:57.746807",
     "exception": false,
     "start_time": "2022-06-03T00:34:57.703473",
     "status": "completed"
    },
    "tags": []
   },
   "outputs": [],
   "source": [
    "#hide\n",
    "t = everydaycases.stack()"
   ]
  },
  {
   "cell_type": "code",
   "execution_count": 22,
   "id": "premier-sleeve",
   "metadata": {
    "execution": {
     "iopub.execute_input": "2022-06-03T00:34:57.813443Z",
     "iopub.status.busy": "2022-06-03T00:34:57.812864Z",
     "iopub.status.idle": "2022-06-03T00:34:57.823349Z",
     "shell.execute_reply": "2022-06-03T00:34:57.822812Z"
    },
    "papermill": {
     "duration": 0.045393,
     "end_time": "2022-06-03T00:34:57.823452",
     "exception": false,
     "start_time": "2022-06-03T00:34:57.778059",
     "status": "completed"
    },
    "tags": []
   },
   "outputs": [],
   "source": [
    "#hide\n",
    "g = t.reset_index(['Country/Region'])"
   ]
  },
  {
   "cell_type": "code",
   "execution_count": 23,
   "id": "distributed-pittsburgh",
   "metadata": {
    "execution": {
     "iopub.execute_input": "2022-06-03T00:34:57.890368Z",
     "iopub.status.busy": "2022-06-03T00:34:57.889811Z",
     "iopub.status.idle": "2022-06-03T00:34:57.892028Z",
     "shell.execute_reply": "2022-06-03T00:34:57.891590Z"
    },
    "papermill": {
     "duration": 0.037195,
     "end_time": "2022-06-03T00:34:57.892127",
     "exception": false,
     "start_time": "2022-06-03T00:34:57.854932",
     "status": "completed"
    },
    "tags": []
   },
   "outputs": [],
   "source": [
    "#hide\n",
    "g.index.name = 'date'"
   ]
  },
  {
   "cell_type": "code",
   "execution_count": 24,
   "id": "naked-donor",
   "metadata": {
    "execution": {
     "iopub.execute_input": "2022-06-03T00:34:57.957910Z",
     "iopub.status.busy": "2022-06-03T00:34:57.957336Z",
     "iopub.status.idle": "2022-06-03T00:34:57.959682Z",
     "shell.execute_reply": "2022-06-03T00:34:57.959153Z"
    },
    "papermill": {
     "duration": 0.036667,
     "end_time": "2022-06-03T00:34:57.959782",
     "exception": false,
     "start_time": "2022-06-03T00:34:57.923115",
     "status": "completed"
    },
    "tags": []
   },
   "outputs": [],
   "source": [
    "# #hide\n",
    "# g = g.reset_index(['date'])"
   ]
  },
  {
   "cell_type": "code",
   "execution_count": 25,
   "id": "incomplete-mustang",
   "metadata": {
    "execution": {
     "iopub.execute_input": "2022-06-03T00:34:58.025731Z",
     "iopub.status.busy": "2022-06-03T00:34:58.025147Z",
     "iopub.status.idle": "2022-06-03T00:34:58.027590Z",
     "shell.execute_reply": "2022-06-03T00:34:58.027061Z"
    },
    "papermill": {
     "duration": 0.03699,
     "end_time": "2022-06-03T00:34:58.027692",
     "exception": false,
     "start_time": "2022-06-03T00:34:57.990702",
     "status": "completed"
    },
    "tags": []
   },
   "outputs": [],
   "source": [
    "#hide\n",
    "# g.head()"
   ]
  },
  {
   "cell_type": "code",
   "execution_count": 26,
   "id": "specific-kruger",
   "metadata": {
    "execution": {
     "iopub.execute_input": "2022-06-03T00:34:58.093324Z",
     "iopub.status.busy": "2022-06-03T00:34:58.092718Z",
     "iopub.status.idle": "2022-06-03T00:34:58.095142Z",
     "shell.execute_reply": "2022-06-03T00:34:58.094610Z"
    },
    "papermill": {
     "duration": 0.036526,
     "end_time": "2022-06-03T00:34:58.095243",
     "exception": false,
     "start_time": "2022-06-03T00:34:58.058717",
     "status": "completed"
    },
    "tags": []
   },
   "outputs": [],
   "source": [
    "#hide\n",
    "# g.columns = ['date','country','cases']"
   ]
  },
  {
   "cell_type": "code",
   "execution_count": 27,
   "id": "tender-conversion",
   "metadata": {
    "execution": {
     "iopub.execute_input": "2022-06-03T00:34:58.161080Z",
     "iopub.status.busy": "2022-06-03T00:34:58.160481Z",
     "iopub.status.idle": "2022-06-03T00:34:58.162575Z",
     "shell.execute_reply": "2022-06-03T00:34:58.162059Z"
    },
    "papermill": {
     "duration": 0.03636,
     "end_time": "2022-06-03T00:34:58.162674",
     "exception": false,
     "start_time": "2022-06-03T00:34:58.126314",
     "status": "completed"
    },
    "tags": []
   },
   "outputs": [],
   "source": [
    "#hide\n",
    "# g['continent'] = g.country"
   ]
  },
  {
   "cell_type": "code",
   "execution_count": 28,
   "id": "substantial-wilderness",
   "metadata": {
    "execution": {
     "iopub.execute_input": "2022-06-03T00:34:58.228468Z",
     "iopub.status.busy": "2022-06-03T00:34:58.227898Z",
     "iopub.status.idle": "2022-06-03T00:34:58.230343Z",
     "shell.execute_reply": "2022-06-03T00:34:58.229900Z"
    },
    "papermill": {
     "duration": 0.036641,
     "end_time": "2022-06-03T00:34:58.230443",
     "exception": false,
     "start_time": "2022-06-03T00:34:58.193802",
     "status": "completed"
    },
    "tags": []
   },
   "outputs": [],
   "source": [
    "#hide\n",
    "# cols = list(g.columns.values)"
   ]
  },
  {
   "cell_type": "code",
   "execution_count": 29,
   "id": "solved-farming",
   "metadata": {
    "execution": {
     "iopub.execute_input": "2022-06-03T00:34:58.295732Z",
     "iopub.status.busy": "2022-06-03T00:34:58.295163Z",
     "iopub.status.idle": "2022-06-03T00:34:58.297535Z",
     "shell.execute_reply": "2022-06-03T00:34:58.297008Z"
    },
    "papermill": {
     "duration": 0.036433,
     "end_time": "2022-06-03T00:34:58.297636",
     "exception": false,
     "start_time": "2022-06-03T00:34:58.261203",
     "status": "completed"
    },
    "tags": []
   },
   "outputs": [],
   "source": [
    "#hide\n",
    "# cols.insert(0, cols.pop())"
   ]
  },
  {
   "cell_type": "code",
   "execution_count": 30,
   "id": "executed-adoption",
   "metadata": {
    "execution": {
     "iopub.execute_input": "2022-06-03T00:34:58.363241Z",
     "iopub.status.busy": "2022-06-03T00:34:58.362663Z",
     "iopub.status.idle": "2022-06-03T00:34:58.365029Z",
     "shell.execute_reply": "2022-06-03T00:34:58.364474Z"
    },
    "papermill": {
     "duration": 0.036478,
     "end_time": "2022-06-03T00:34:58.365134",
     "exception": false,
     "start_time": "2022-06-03T00:34:58.328656",
     "status": "completed"
    },
    "tags": []
   },
   "outputs": [],
   "source": [
    "#hide\n",
    "# g = g[cols]"
   ]
  },
  {
   "cell_type": "code",
   "execution_count": 31,
   "id": "subject-dublin",
   "metadata": {
    "execution": {
     "iopub.execute_input": "2022-06-03T00:34:58.430578Z",
     "iopub.status.busy": "2022-06-03T00:34:58.430023Z",
     "iopub.status.idle": "2022-06-03T00:34:58.432265Z",
     "shell.execute_reply": "2022-06-03T00:34:58.431827Z"
    },
    "papermill": {
     "duration": 0.036367,
     "end_time": "2022-06-03T00:34:58.432364",
     "exception": false,
     "start_time": "2022-06-03T00:34:58.395997",
     "status": "completed"
    },
    "tags": []
   },
   "outputs": [],
   "source": [
    "#hide\n",
    "# g['continent'] = g['continent'].map(mapping['map.continent'])"
   ]
  },
  {
   "cell_type": "code",
   "execution_count": 32,
   "id": "freelance-scout",
   "metadata": {
    "execution": {
     "iopub.execute_input": "2022-06-03T00:34:58.497728Z",
     "iopub.status.busy": "2022-06-03T00:34:58.497140Z",
     "iopub.status.idle": "2022-06-03T00:34:58.499564Z",
     "shell.execute_reply": "2022-06-03T00:34:58.499111Z"
    },
    "papermill": {
     "duration": 0.036327,
     "end_time": "2022-06-03T00:34:58.499664",
     "exception": false,
     "start_time": "2022-06-03T00:34:58.463337",
     "status": "completed"
    },
    "tags": []
   },
   "outputs": [],
   "source": [
    "#hide\n",
    "# g.head()"
   ]
  },
  {
   "cell_type": "code",
   "execution_count": 33,
   "id": "limited-engine",
   "metadata": {
    "execution": {
     "iopub.execute_input": "2022-06-03T00:34:58.565146Z",
     "iopub.status.busy": "2022-06-03T00:34:58.564533Z",
     "iopub.status.idle": "2022-06-03T00:34:58.566897Z",
     "shell.execute_reply": "2022-06-03T00:34:58.566360Z"
    },
    "papermill": {
     "duration": 0.036534,
     "end_time": "2022-06-03T00:34:58.566997",
     "exception": false,
     "start_time": "2022-06-03T00:34:58.530463",
     "status": "completed"
    },
    "tags": []
   },
   "outputs": [],
   "source": [
    "# hide\n",
    "# g['date'] = g['date'].astype('datetime64[ns]')"
   ]
  },
  {
   "cell_type": "code",
   "execution_count": 34,
   "id": "sophisticated-supervisor",
   "metadata": {
    "execution": {
     "iopub.execute_input": "2022-06-03T00:34:58.632528Z",
     "iopub.status.busy": "2022-06-03T00:34:58.631946Z",
     "iopub.status.idle": "2022-06-03T00:34:58.634414Z",
     "shell.execute_reply": "2022-06-03T00:34:58.633964Z"
    },
    "papermill": {
     "duration": 0.03645,
     "end_time": "2022-06-03T00:34:58.634515",
     "exception": false,
     "start_time": "2022-06-03T00:34:58.598065",
     "status": "completed"
    },
    "tags": []
   },
   "outputs": [],
   "source": [
    "#hide\n",
    "# g['date'] = g.date.dt.dayofyear"
   ]
  },
  {
   "cell_type": "code",
   "execution_count": 35,
   "id": "inside-dubai",
   "metadata": {
    "execution": {
     "iopub.execute_input": "2022-06-03T00:34:58.700043Z",
     "iopub.status.busy": "2022-06-03T00:34:58.699469Z",
     "iopub.status.idle": "2022-06-03T00:34:58.701935Z",
     "shell.execute_reply": "2022-06-03T00:34:58.701409Z"
    },
    "papermill": {
     "duration": 0.036606,
     "end_time": "2022-06-03T00:34:58.702034",
     "exception": false,
     "start_time": "2022-06-03T00:34:58.665428",
     "status": "completed"
    },
    "tags": []
   },
   "outputs": [],
   "source": [
    "#hide\n",
    "# g = g.rename(columns= {'continent':'group','country':'name','cases':'value'})"
   ]
  },
  {
   "cell_type": "code",
   "execution_count": 36,
   "id": "fleet-motorcycle",
   "metadata": {
    "execution": {
     "iopub.execute_input": "2022-06-03T00:34:58.767707Z",
     "iopub.status.busy": "2022-06-03T00:34:58.767128Z",
     "iopub.status.idle": "2022-06-03T00:34:58.769538Z",
     "shell.execute_reply": "2022-06-03T00:34:58.769094Z"
    },
    "papermill": {
     "duration": 0.036478,
     "end_time": "2022-06-03T00:34:58.769636",
     "exception": false,
     "start_time": "2022-06-03T00:34:58.733158",
     "status": "completed"
    },
    "tags": []
   },
   "outputs": [],
   "source": [
    "#hide\n",
    "# cols = ['name','group','day','value']"
   ]
  },
  {
   "cell_type": "code",
   "execution_count": 37,
   "id": "continued-sleeping",
   "metadata": {
    "execution": {
     "iopub.execute_input": "2022-06-03T00:34:58.835071Z",
     "iopub.status.busy": "2022-06-03T00:34:58.834521Z",
     "iopub.status.idle": "2022-06-03T00:34:58.836754Z",
     "shell.execute_reply": "2022-06-03T00:34:58.836319Z"
    },
    "papermill": {
     "duration": 0.036382,
     "end_time": "2022-06-03T00:34:58.836871",
     "exception": false,
     "start_time": "2022-06-03T00:34:58.800489",
     "status": "completed"
    },
    "tags": []
   },
   "outputs": [],
   "source": [
    "#hide\n",
    "# g.rename(columns= {'date':'day'},inplace = True)"
   ]
  },
  {
   "cell_type": "code",
   "execution_count": 38,
   "id": "major-fight",
   "metadata": {
    "execution": {
     "iopub.execute_input": "2022-06-03T00:34:58.902843Z",
     "iopub.status.busy": "2022-06-03T00:34:58.902267Z",
     "iopub.status.idle": "2022-06-03T00:34:58.904647Z",
     "shell.execute_reply": "2022-06-03T00:34:58.904113Z"
    },
    "papermill": {
     "duration": 0.036536,
     "end_time": "2022-06-03T00:34:58.904748",
     "exception": false,
     "start_time": "2022-06-03T00:34:58.868212",
     "status": "completed"
    },
    "tags": []
   },
   "outputs": [],
   "source": [
    "#hide\n",
    "# g = g[cols]"
   ]
  },
  {
   "cell_type": "code",
   "execution_count": 39,
   "id": "structured-mobile",
   "metadata": {
    "execution": {
     "iopub.execute_input": "2022-06-03T00:34:58.970369Z",
     "iopub.status.busy": "2022-06-03T00:34:58.969793Z",
     "iopub.status.idle": "2022-06-03T00:34:58.972290Z",
     "shell.execute_reply": "2022-06-03T00:34:58.971861Z"
    },
    "papermill": {
     "duration": 0.036816,
     "end_time": "2022-06-03T00:34:58.972394",
     "exception": false,
     "start_time": "2022-06-03T00:34:58.935578",
     "status": "completed"
    },
    "tags": []
   },
   "outputs": [],
   "source": [
    "# #hide\n",
    "# g = g[g.group.notna()]"
   ]
  },
  {
   "cell_type": "code",
   "execution_count": 40,
   "id": "determined-closing",
   "metadata": {
    "execution": {
     "iopub.execute_input": "2022-06-03T00:34:59.038288Z",
     "iopub.status.busy": "2022-06-03T00:34:59.037711Z",
     "iopub.status.idle": "2022-06-03T00:34:59.039713Z",
     "shell.execute_reply": "2022-06-03T00:34:59.040126Z"
    },
    "papermill": {
     "duration": 0.036724,
     "end_time": "2022-06-03T00:34:59.040245",
     "exception": false,
     "start_time": "2022-06-03T00:34:59.003521",
     "status": "completed"
    },
    "tags": []
   },
   "outputs": [],
   "source": [
    "# #hide\n",
    "# colors = dict(zip(\n",
    "#     [\"Oceania\", \"Europe\", \"Asia\", \"South America\", \"Middle East\", \"North America\", \"Africa\"],\n",
    "#     [\"#adb0ff\", \"#ffb3ff\", \"#90d595\", \"#e48381\", \"#aafbff\", \"#f7bb5f\", \"#eafb50\"]\n",
    "# ))\n",
    "# group_lk = g.set_index('name')['group'].to_dict()"
   ]
  },
  {
   "cell_type": "code",
   "execution_count": null,
   "id": "gross-drinking",
   "metadata": {
    "papermill": {
     "duration": 0.030775,
     "end_time": "2022-06-03T00:34:59.101813",
     "exception": false,
     "start_time": "2022-06-03T00:34:59.071038",
     "status": "completed"
    },
    "tags": []
   },
   "outputs": [],
   "source": []
  },
  {
   "cell_type": "code",
   "execution_count": 41,
   "id": "subject-macintosh",
   "metadata": {
    "execution": {
     "iopub.execute_input": "2022-06-03T00:34:59.167527Z",
     "iopub.status.busy": "2022-06-03T00:34:59.166926Z",
     "iopub.status.idle": "2022-06-03T00:34:59.169313Z",
     "shell.execute_reply": "2022-06-03T00:34:59.168758Z"
    },
    "papermill": {
     "duration": 0.036838,
     "end_time": "2022-06-03T00:34:59.169415",
     "exception": false,
     "start_time": "2022-06-03T00:34:59.132577",
     "status": "completed"
    },
    "tags": []
   },
   "outputs": [],
   "source": [
    "# #hide\n",
    "# fig, ax = plt.subplots(figsize=(15, 8))\n",
    "\n",
    "# def draw_barchart(current_day):\n",
    "#     dff = g[g['day'].eq(current_day)].sort_values(by='value', ascending=True).tail(10)\n",
    "#     ax.clear()\n",
    "#     ax.barh(dff['name'], dff['value'], color=[colors[group_lk[x]] for x in dff['name']])\n",
    "#     dx = dff['value'].max() / 200\n",
    "    \n",
    "#     for i, (value, name) in enumerate(zip(dff['value'], dff['name'])):\n",
    "#         ax.text(value-dx, i,     name,           size=14, weight=600, ha='right', va='bottom')\n",
    "#         ax.text(value-dx, i-.25, group_lk[name], size=10, color='#444444', ha='right', va='baseline')\n",
    "#         ax.text(value+dx, i,     f'{value:,.0f}',  size=14, ha='left',  va='center')\n",
    "#     ax.text(1, 0.4, current_day, transform=ax.transAxes, color='#777777', size=46, ha='right', weight=800)\n",
    "#     ax.text(0, 1.06, 'Population (thousands)', transform=ax.transAxes, size=12, color='#777777')\n",
    "#     ax.xaxis.set_major_formatter(ticker.StrMethodFormatter('{x:,.0f}'))\n",
    "#     ax.xaxis.set_ticks_position('top')\n",
    "#     ax.tick_params(axis='x', colors='#777777', labelsize=12)\n",
    "#     ax.set_yticks([])\n",
    "#     ax.margins(0, 0.01)\n",
    "#     ax.grid(which='major', axis='x', linestyle='-')\n",
    "#     ax.set_axisbelow(True)\n",
    "    \n",
    "#     ax.text(0, 1.15, 'Coronavirus',\n",
    "#             transform=ax.transAxes, size=24, weight=600, ha='left', va='top')\n",
    "# #     ax.text(1, 0, 'by @pratapvardhan; credit @jburnmurdoch', transform=ax.transAxes, color='#777777', ha='right',\n",
    "# #             bbox=dict(facecolor='white', alpha=0.8, edgecolor='white'))\n",
    "#     plt.box(False)"
   ]
  },
  {
   "cell_type": "code",
   "execution_count": 42,
   "id": "sexual-wages",
   "metadata": {
    "execution": {
     "iopub.execute_input": "2022-06-03T00:34:59.235201Z",
     "iopub.status.busy": "2022-06-03T00:34:59.234621Z",
     "iopub.status.idle": "2022-06-03T00:34:59.237045Z",
     "shell.execute_reply": "2022-06-03T00:34:59.236583Z"
    },
    "papermill": {
     "duration": 0.036759,
     "end_time": "2022-06-03T00:34:59.237145",
     "exception": false,
     "start_time": "2022-06-03T00:34:59.200386",
     "status": "completed"
    },
    "tags": []
   },
   "outputs": [],
   "source": [
    "# #hide_input\n",
    "# fig, ax = plt.subplots(figsize=(15, 8))\n",
    "# animator = animation.FuncAnimation(fig, draw_barchart, frames=range(g.day.values.min(), g.day.values.max()))\n",
    "# HTML(animator.to_jshtml())\n",
    "# # or use animator.to_html5_video() or animator.save() "
   ]
  },
  {
   "cell_type": "code",
   "execution_count": null,
   "id": "australian-container",
   "metadata": {
    "papermill": {
     "duration": 0.030807,
     "end_time": "2022-06-03T00:34:59.299025",
     "exception": false,
     "start_time": "2022-06-03T00:34:59.268218",
     "status": "completed"
    },
    "tags": []
   },
   "outputs": [],
   "source": []
  },
  {
   "cell_type": "code",
   "execution_count": null,
   "id": "mediterranean-pontiac",
   "metadata": {
    "papermill": {
     "duration": 0.030712,
     "end_time": "2022-06-03T00:34:59.360514",
     "exception": false,
     "start_time": "2022-06-03T00:34:59.329802",
     "status": "completed"
    },
    "tags": []
   },
   "outputs": [],
   "source": []
  },
  {
   "cell_type": "code",
   "execution_count": null,
   "id": "aging-legislature",
   "metadata": {
    "papermill": {
     "duration": 0.030814,
     "end_time": "2022-06-03T00:34:59.422464",
     "exception": false,
     "start_time": "2022-06-03T00:34:59.391650",
     "status": "completed"
    },
    "tags": []
   },
   "outputs": [],
   "source": []
  }
 ],
 "metadata": {
  "kernelspec": {
   "display_name": "Python 3",
   "language": "python",
   "name": "python3"
  },
  "language_info": {
   "codemirror_mode": {
    "name": "ipython",
    "version": 3
   },
   "file_extension": ".py",
   "mimetype": "text/x-python",
   "name": "python",
   "nbconvert_exporter": "python",
   "pygments_lexer": "ipython3",
   "version": "3.6.15"
  },
  "papermill": {
   "duration": 6.23008,
   "end_time": "2022-06-03T00:34:59.771116",
   "environment_variables": {},
   "exception": null,
   "input_path": "2020-03-21-covid19exp.ipynb",
   "output_path": "2020-03-21-covid19exp.ipynb",
   "parameters": {},
   "start_time": "2022-06-03T00:34:53.541036",
   "version": "2.0.0"
  }
 },
 "nbformat": 4,
 "nbformat_minor": 5
}