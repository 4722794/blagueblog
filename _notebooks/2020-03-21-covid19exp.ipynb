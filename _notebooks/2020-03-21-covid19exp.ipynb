{
 "cells": [
  {
   "cell_type": "markdown",
   "id": "muslim-click",
   "metadata": {
    "papermill": {
     "duration": 0.042475,
     "end_time": "2021-07-24T12:10:44.739381",
     "exception": false,
     "start_time": "2021-07-24T12:10:44.696906",
     "status": "completed"
    },
    "tags": []
   },
   "source": [
    "# COVID-19 Case Race\n",
    "> A race chart to see rising cases around the world\n",
    "\n",
    "- author: Hargun Oberoi\n",
    "- image: images/covid-overview.png\n",
    "- hide: false\n",
    "- badges: false"
   ]
  },
  {
   "cell_type": "code",
   "execution_count": 1,
   "id": "proof-material",
   "metadata": {
    "execution": {
     "iopub.execute_input": "2021-07-24T12:10:44.844118Z",
     "iopub.status.busy": "2021-07-24T12:10:44.843456Z",
     "iopub.status.idle": "2021-07-24T12:10:45.242555Z",
     "shell.execute_reply": "2021-07-24T12:10:45.243062Z"
    },
    "papermill": {
     "duration": 0.46607,
     "end_time": "2021-07-24T12:10:45.243274",
     "exception": false,
     "start_time": "2021-07-24T12:10:44.777204",
     "status": "completed"
    },
    "tags": []
   },
   "outputs": [],
   "source": [
    "#hide\n",
    "import numpy as np\n",
    "import pandas as pd\n",
    "from jinja2 import Template\n",
    "from IPython.display import HTML"
   ]
  },
  {
   "cell_type": "code",
   "execution_count": 2,
   "id": "developed-terminology",
   "metadata": {
    "execution": {
     "iopub.execute_input": "2021-07-24T12:10:45.323884Z",
     "iopub.status.busy": "2021-07-24T12:10:45.323234Z",
     "iopub.status.idle": "2021-07-24T12:10:45.325839Z",
     "shell.execute_reply": "2021-07-24T12:10:45.325286Z"
    },
    "papermill": {
     "duration": 0.043937,
     "end_time": "2021-07-24T12:10:45.325968",
     "exception": false,
     "start_time": "2021-07-24T12:10:45.282031",
     "status": "completed"
    },
    "tags": []
   },
   "outputs": [],
   "source": [
    "#hide\n",
    "\n",
    "# FETCH\n",
    "base_url = 'https://raw.githubusercontent.com/pratapvardhan/notebooks/master/covid19/'\n",
    "paths = {\n",
    "    'mapping': base_url + 'mapping_countries.csv',\n",
    "    'overview': base_url + 'overview.tpl'\n",
    "}"
   ]
  },
  {
   "cell_type": "code",
   "execution_count": 3,
   "id": "dynamic-saver",
   "metadata": {
    "execution": {
     "iopub.execute_input": "2021-07-24T12:10:45.412185Z",
     "iopub.status.busy": "2021-07-24T12:10:45.411516Z",
     "iopub.status.idle": "2021-07-24T12:10:45.414766Z",
     "shell.execute_reply": "2021-07-24T12:10:45.415380Z"
    },
    "papermill": {
     "duration": 0.053143,
     "end_time": "2021-07-24T12:10:45.415541",
     "exception": false,
     "start_time": "2021-07-24T12:10:45.362398",
     "status": "completed"
    },
    "tags": []
   },
   "outputs": [
    {
     "data": {
      "text/plain": [
       "'https://raw.githubusercontent.com/pratapvardhan/notebooks/master/covid19/mapping_countries.csv'"
      ]
     },
     "execution_count": 3,
     "metadata": {},
     "output_type": "execute_result"
    }
   ],
   "source": [
    "#hide\n",
    "paths['mapping']"
   ]
  },
  {
   "cell_type": "code",
   "execution_count": 4,
   "id": "urban-software",
   "metadata": {
    "execution": {
     "iopub.execute_input": "2021-07-24T12:10:45.497281Z",
     "iopub.status.busy": "2021-07-24T12:10:45.496632Z",
     "iopub.status.idle": "2021-07-24T12:10:45.498920Z",
     "shell.execute_reply": "2021-07-24T12:10:45.498286Z"
    },
    "papermill": {
     "duration": 0.045511,
     "end_time": "2021-07-24T12:10:45.499048",
     "exception": false,
     "start_time": "2021-07-24T12:10:45.453537",
     "status": "completed"
    },
    "tags": []
   },
   "outputs": [],
   "source": [
    "#hide\n",
    "def get_mappings(url):\n",
    "    df = pd.read_csv(url)\n",
    "    return {\n",
    "        'df': df,\n",
    "        'replace.country': dict(df.dropna(subset=['Name']).set_index('Country')['Name']),\n",
    "        'map.continent': dict(df.set_index('Name')['Continent'])\n",
    "    }"
   ]
  },
  {
   "cell_type": "code",
   "execution_count": 5,
   "id": "intimate-machinery",
   "metadata": {
    "execution": {
     "iopub.execute_input": "2021-07-24T12:10:45.580703Z",
     "iopub.status.busy": "2021-07-24T12:10:45.580039Z",
     "iopub.status.idle": "2021-07-24T12:10:45.620308Z",
     "shell.execute_reply": "2021-07-24T12:10:45.619740Z"
    },
    "papermill": {
     "duration": 0.084183,
     "end_time": "2021-07-24T12:10:45.620481",
     "exception": false,
     "start_time": "2021-07-24T12:10:45.536298",
     "status": "completed"
    },
    "tags": []
   },
   "outputs": [],
   "source": [
    "#hide\n",
    "mapping = get_mappings(paths['mapping'])"
   ]
  },
  {
   "cell_type": "code",
   "execution_count": 6,
   "id": "certified-tactics",
   "metadata": {
    "execution": {
     "iopub.execute_input": "2021-07-24T12:10:45.702255Z",
     "iopub.status.busy": "2021-07-24T12:10:45.701600Z",
     "iopub.status.idle": "2021-07-24T12:10:45.703450Z",
     "shell.execute_reply": "2021-07-24T12:10:45.703947Z"
    },
    "papermill": {
     "duration": 0.046339,
     "end_time": "2021-07-24T12:10:45.704098",
     "exception": false,
     "start_time": "2021-07-24T12:10:45.657759",
     "status": "completed"
    },
    "tags": []
   },
   "outputs": [],
   "source": [
    "#hide\n",
    "def get_template(path):\n",
    "    from urllib.parse import urlparse\n",
    "    if bool(urlparse(path).netloc):\n",
    "        from urllib.request import urlopen\n",
    "        return urlopen(path).read().decode('utf8')\n",
    "    return open(path).read()"
   ]
  },
  {
   "cell_type": "code",
   "execution_count": 7,
   "id": "realistic-blast",
   "metadata": {
    "execution": {
     "iopub.execute_input": "2021-07-24T12:10:45.785711Z",
     "iopub.status.busy": "2021-07-24T12:10:45.785057Z",
     "iopub.status.idle": "2021-07-24T12:10:45.789468Z",
     "shell.execute_reply": "2021-07-24T12:10:45.788811Z"
    },
    "papermill": {
     "duration": 0.048002,
     "end_time": "2021-07-24T12:10:45.789604",
     "exception": false,
     "start_time": "2021-07-24T12:10:45.741602",
     "status": "completed"
    },
    "tags": []
   },
   "outputs": [],
   "source": [
    "#hide\n",
    "def get_frame(name):\n",
    "    url = (\n",
    "        'https://raw.githubusercontent.com/CSSEGISandData/COVID-19/master/csse_covid_19_data/'\n",
    "        f'csse_covid_19_time_series/time_series_covid19_{name}_global.csv')\n",
    "    df = pd.read_csv(url)\n",
    "    # rename countries\n",
    "    df['Country/Region'] = df['Country/Region'].replace(mapping['replace.country'])\n",
    "    return df"
   ]
  },
  {
   "cell_type": "code",
   "execution_count": 8,
   "id": "affiliated-characterization",
   "metadata": {
    "execution": {
     "iopub.execute_input": "2021-07-24T12:10:45.871549Z",
     "iopub.status.busy": "2021-07-24T12:10:45.870868Z",
     "iopub.status.idle": "2021-07-24T12:10:45.874519Z",
     "shell.execute_reply": "2021-07-24T12:10:45.873950Z"
    },
    "papermill": {
     "duration": 0.047507,
     "end_time": "2021-07-24T12:10:45.874658",
     "exception": false,
     "start_time": "2021-07-24T12:10:45.827151",
     "status": "completed"
    },
    "tags": []
   },
   "outputs": [],
   "source": [
    "#hide\n",
    "def get_dates(df):\n",
    "    dt_cols = df.columns[~df.columns.isin(['Province/State', 'Country/Region', 'Lat', 'Long'])]\n",
    "    LAST_DATE_I = -1\n",
    "    # sometimes last column may be empty, then go backwards\n",
    "    for i in range(-1, -len(dt_cols), -1):\n",
    "        if not df[dt_cols[i]].fillna(0).eq(0).all():\n",
    "            LAST_DATE_I = i\n",
    "            break\n",
    "    return LAST_DATE_I, dt_cols"
   ]
  },
  {
   "cell_type": "code",
   "execution_count": 9,
   "id": "recent-optimization",
   "metadata": {
    "execution": {
     "iopub.execute_input": "2021-07-24T12:10:45.957006Z",
     "iopub.status.busy": "2021-07-24T12:10:45.956282Z",
     "iopub.status.idle": "2021-07-24T12:10:46.362831Z",
     "shell.execute_reply": "2021-07-24T12:10:46.362269Z"
    },
    "papermill": {
     "duration": 0.450539,
     "end_time": "2021-07-24T12:10:46.362974",
     "exception": false,
     "start_time": "2021-07-24T12:10:45.912435",
     "status": "completed"
    },
    "tags": []
   },
   "outputs": [],
   "source": [
    "#hide\n",
    "COL_REGION = 'Country/Region'\n",
    "# Confirmed, Recovered, Deaths\n",
    "df = get_frame('confirmed')\n",
    "# dft_: timeseries, dfc_: today country agg\n",
    "dft_cases = df\n",
    "dft_deaths = get_frame('deaths')\n",
    "dft_recovered = get_frame('recovered')\n",
    "LAST_DATE_I, dt_cols = get_dates(df)"
   ]
  },
  {
   "cell_type": "code",
   "execution_count": 10,
   "id": "absolute-copper",
   "metadata": {
    "execution": {
     "iopub.execute_input": "2021-07-24T12:10:46.448964Z",
     "iopub.status.busy": "2021-07-24T12:10:46.448203Z",
     "iopub.status.idle": "2021-07-24T12:10:46.451919Z",
     "shell.execute_reply": "2021-07-24T12:10:46.452539Z"
    },
    "papermill": {
     "duration": 0.051694,
     "end_time": "2021-07-24T12:10:46.452748",
     "exception": false,
     "start_time": "2021-07-24T12:10:46.401054",
     "status": "completed"
    },
    "tags": []
   },
   "outputs": [],
   "source": [
    "#hide\n",
    "LAST_DATE_I, dt_cols = get_dates(df)\n",
    "dt_today =dt_cols[LAST_DATE_I]\n",
    "# dt_5day = dt_cols[LAST_DATE_I - 5]\n",
    "dt_yday = dt_cols[LAST_DATE_I - 1]"
   ]
  },
  {
   "cell_type": "code",
   "execution_count": 11,
   "id": "restricted-sheriff",
   "metadata": {
    "execution": {
     "iopub.execute_input": "2021-07-24T12:10:46.542455Z",
     "iopub.status.busy": "2021-07-24T12:10:46.541811Z",
     "iopub.status.idle": "2021-07-24T12:10:46.550219Z",
     "shell.execute_reply": "2021-07-24T12:10:46.549325Z"
    },
    "papermill": {
     "duration": 0.055977,
     "end_time": "2021-07-24T12:10:46.550363",
     "exception": false,
     "start_time": "2021-07-24T12:10:46.494386",
     "status": "completed"
    },
    "tags": []
   },
   "outputs": [],
   "source": [
    "#hide\n",
    "dfc_cases = dft_cases.groupby(COL_REGION)[dt_today].sum()\n",
    "dfc_deaths = dft_deaths.groupby(COL_REGION)[dt_today].sum()\n",
    "# dfp_cases = dft_cases.groupby(COL_REGION)[dt_5day].sum()\n",
    "# dfp_deaths = dft_deaths.groupby(COL_REGION)[dt_5day].sum()\n",
    "dfp_cases = dft_cases.groupby(COL_REGION)[dt_yday].sum()\n",
    "dfp_deaths = dft_deaths.groupby(COL_REGION)[dt_yday].sum()"
   ]
  },
  {
   "cell_type": "code",
   "execution_count": 12,
   "id": "deluxe-hepatitis",
   "metadata": {
    "execution": {
     "iopub.execute_input": "2021-07-24T12:10:46.634420Z",
     "iopub.status.busy": "2021-07-24T12:10:46.633748Z",
     "iopub.status.idle": "2021-07-24T12:10:46.639131Z",
     "shell.execute_reply": "2021-07-24T12:10:46.638570Z"
    },
    "papermill": {
     "duration": 0.049311,
     "end_time": "2021-07-24T12:10:46.639271",
     "exception": false,
     "start_time": "2021-07-24T12:10:46.589960",
     "status": "completed"
    },
    "tags": []
   },
   "outputs": [],
   "source": [
    "#hide\n",
    "df_table = (pd.DataFrame(dict(Cases = dfc_cases, Deaths = dfc_deaths, PCases = dfp_cases, PDeaths = dfp_deaths))\n",
    "            .sort_values(by = ['Cases','Deaths'], ascending = [False, False])\n",
    "            .reset_index())"
   ]
  },
  {
   "cell_type": "code",
   "execution_count": 13,
   "id": "educational-chancellor",
   "metadata": {
    "execution": {
     "iopub.execute_input": "2021-07-24T12:10:46.737002Z",
     "iopub.status.busy": "2021-07-24T12:10:46.736160Z",
     "iopub.status.idle": "2021-07-24T12:10:46.745331Z",
     "shell.execute_reply": "2021-07-24T12:10:46.744771Z"
    },
    "papermill": {
     "duration": 0.067711,
     "end_time": "2021-07-24T12:10:46.745474",
     "exception": false,
     "start_time": "2021-07-24T12:10:46.677763",
     "status": "completed"
    },
    "tags": []
   },
   "outputs": [
    {
     "data": {
      "text/html": [
       "<div>\n",
       "<style scoped>\n",
       "    .dataframe tbody tr th:only-of-type {\n",
       "        vertical-align: middle;\n",
       "    }\n",
       "\n",
       "    .dataframe tbody tr th {\n",
       "        vertical-align: top;\n",
       "    }\n",
       "\n",
       "    .dataframe thead th {\n",
       "        text-align: right;\n",
       "    }\n",
       "</style>\n",
       "<table border=\"1\" class=\"dataframe\">\n",
       "  <thead>\n",
       "    <tr style=\"text-align: right;\">\n",
       "      <th></th>\n",
       "      <th>Country/Region</th>\n",
       "      <th>Cases</th>\n",
       "      <th>Deaths</th>\n",
       "      <th>PCases</th>\n",
       "      <th>PDeaths</th>\n",
       "      <th>Cases (+)</th>\n",
       "      <th>Deaths (+)</th>\n",
       "      <th>Fatality Rate</th>\n",
       "      <th>Continent</th>\n",
       "    </tr>\n",
       "  </thead>\n",
       "  <tbody>\n",
       "    <tr>\n",
       "      <th>0</th>\n",
       "      <td>US</td>\n",
       "      <td>34400655</td>\n",
       "      <td>610720</td>\n",
       "      <td>34281864</td>\n",
       "      <td>610177</td>\n",
       "      <td>118791</td>\n",
       "      <td>543</td>\n",
       "      <td>1.78</td>\n",
       "      <td>North America</td>\n",
       "    </tr>\n",
       "    <tr>\n",
       "      <th>1</th>\n",
       "      <td>India</td>\n",
       "      <td>31293062</td>\n",
       "      <td>419470</td>\n",
       "      <td>31293062</td>\n",
       "      <td>419470</td>\n",
       "      <td>0</td>\n",
       "      <td>0</td>\n",
       "      <td>1.34</td>\n",
       "      <td>Asia</td>\n",
       "    </tr>\n",
       "    <tr>\n",
       "      <th>2</th>\n",
       "      <td>Brazil</td>\n",
       "      <td>19632443</td>\n",
       "      <td>548340</td>\n",
       "      <td>19523711</td>\n",
       "      <td>547016</td>\n",
       "      <td>108732</td>\n",
       "      <td>1324</td>\n",
       "      <td>2.79</td>\n",
       "      <td>South America</td>\n",
       "    </tr>\n",
       "    <tr>\n",
       "      <th>3</th>\n",
       "      <td>France</td>\n",
       "      <td>6015469</td>\n",
       "      <td>111778</td>\n",
       "      <td>5996060</td>\n",
       "      <td>111749</td>\n",
       "      <td>19409</td>\n",
       "      <td>29</td>\n",
       "      <td>1.86</td>\n",
       "      <td>Europe</td>\n",
       "    </tr>\n",
       "    <tr>\n",
       "      <th>4</th>\n",
       "      <td>Russia</td>\n",
       "      <td>6002303</td>\n",
       "      <td>149796</td>\n",
       "      <td>5979027</td>\n",
       "      <td>149012</td>\n",
       "      <td>23276</td>\n",
       "      <td>784</td>\n",
       "      <td>2.50</td>\n",
       "      <td>Europe</td>\n",
       "    </tr>\n",
       "  </tbody>\n",
       "</table>\n",
       "</div>"
      ],
      "text/plain": [
       "  Country/Region     Cases  Deaths    PCases  PDeaths  Cases (+)  Deaths (+)  \\\n",
       "0             US  34400655  610720  34281864   610177     118791         543   \n",
       "1          India  31293062  419470  31293062   419470          0           0   \n",
       "2         Brazil  19632443  548340  19523711   547016     108732        1324   \n",
       "3         France   6015469  111778   5996060   111749      19409          29   \n",
       "4         Russia   6002303  149796   5979027   149012      23276         784   \n",
       "\n",
       "   Fatality Rate      Continent  \n",
       "0           1.78  North America  \n",
       "1           1.34           Asia  \n",
       "2           2.79  South America  \n",
       "3           1.86         Europe  \n",
       "4           2.50         Europe  "
      ]
     },
     "execution_count": 13,
     "metadata": {},
     "output_type": "execute_result"
    }
   ],
   "source": [
    "#hide\n",
    "for c in 'Cases, Deaths'.split(', '):\n",
    "    df_table[f'{c} (+)'] = (df_table[c] - df_table[f'P{c}']).clip(0)\n",
    "    #Clip ça veut dire, les chiffres negatif sont interdit\n",
    "df_table['Fatality Rate'] = (100* df_table['Deaths']/ df_table['Cases']).round(2)\n",
    "df_table['Continent'] = df_table['Country/Region'].map(mapping['map.continent'])\n",
    "df_table.head(5)"
   ]
  },
  {
   "cell_type": "code",
   "execution_count": 14,
   "id": "aboriginal-bulgaria",
   "metadata": {
    "execution": {
     "iopub.execute_input": "2021-07-24T12:10:46.829397Z",
     "iopub.status.busy": "2021-07-24T12:10:46.828752Z",
     "iopub.status.idle": "2021-07-24T12:10:46.830974Z",
     "shell.execute_reply": "2021-07-24T12:10:46.831587Z"
    },
    "papermill": {
     "duration": 0.04714,
     "end_time": "2021-07-24T12:10:46.831739",
     "exception": false,
     "start_time": "2021-07-24T12:10:46.784599",
     "status": "completed"
    },
    "tags": []
   },
   "outputs": [],
   "source": [
    "#hide\n",
    "#delete problematic countries from table\n",
    "df_table = df_table[~df_table['Country/Region'].isin(['Cape Verde', 'Cruise Ship', 'Kosovo'])]"
   ]
  },
  {
   "cell_type": "code",
   "execution_count": 15,
   "id": "fantastic-effect",
   "metadata": {
    "execution": {
     "iopub.execute_input": "2021-07-24T12:10:46.919786Z",
     "iopub.status.busy": "2021-07-24T12:10:46.919139Z",
     "iopub.status.idle": "2021-07-24T12:10:46.940239Z",
     "shell.execute_reply": "2021-07-24T12:10:46.940830Z"
    },
    "papermill": {
     "duration": 0.070725,
     "end_time": "2021-07-24T12:10:46.940995",
     "exception": false,
     "start_time": "2021-07-24T12:10:46.870270",
     "status": "completed"
    },
    "tags": []
   },
   "outputs": [
    {
     "data": {
      "text/html": [
       "<div>\n",
       "<style scoped>\n",
       "    .dataframe tbody tr th:only-of-type {\n",
       "        vertical-align: middle;\n",
       "    }\n",
       "\n",
       "    .dataframe tbody tr th {\n",
       "        vertical-align: top;\n",
       "    }\n",
       "\n",
       "    .dataframe thead th {\n",
       "        text-align: right;\n",
       "    }\n",
       "</style>\n",
       "<table border=\"1\" class=\"dataframe\">\n",
       "  <thead>\n",
       "    <tr style=\"text-align: right;\">\n",
       "      <th></th>\n",
       "      <th>Country/Region</th>\n",
       "      <th>Cases</th>\n",
       "      <th>Deaths</th>\n",
       "      <th>PCases</th>\n",
       "      <th>PDeaths</th>\n",
       "      <th>Cases (+)</th>\n",
       "      <th>Deaths (+)</th>\n",
       "      <th>Fatality Rate</th>\n",
       "      <th>Continent</th>\n",
       "    </tr>\n",
       "  </thead>\n",
       "  <tbody>\n",
       "    <tr>\n",
       "      <th>0</th>\n",
       "      <td>US</td>\n",
       "      <td>34400655</td>\n",
       "      <td>610720</td>\n",
       "      <td>34281864</td>\n",
       "      <td>610177</td>\n",
       "      <td>118791</td>\n",
       "      <td>543</td>\n",
       "      <td>1.8</td>\n",
       "      <td>North America</td>\n",
       "    </tr>\n",
       "    <tr>\n",
       "      <th>1</th>\n",
       "      <td>India</td>\n",
       "      <td>31293062</td>\n",
       "      <td>419470</td>\n",
       "      <td>31293062</td>\n",
       "      <td>419470</td>\n",
       "      <td>0</td>\n",
       "      <td>0</td>\n",
       "      <td>1.3</td>\n",
       "      <td>Asia</td>\n",
       "    </tr>\n",
       "    <tr>\n",
       "      <th>2</th>\n",
       "      <td>Brazil</td>\n",
       "      <td>19632443</td>\n",
       "      <td>548340</td>\n",
       "      <td>19523711</td>\n",
       "      <td>547016</td>\n",
       "      <td>108732</td>\n",
       "      <td>1324</td>\n",
       "      <td>2.8</td>\n",
       "      <td>South America</td>\n",
       "    </tr>\n",
       "    <tr>\n",
       "      <th>3</th>\n",
       "      <td>France</td>\n",
       "      <td>6015469</td>\n",
       "      <td>111778</td>\n",
       "      <td>5996060</td>\n",
       "      <td>111749</td>\n",
       "      <td>19409</td>\n",
       "      <td>29</td>\n",
       "      <td>1.9</td>\n",
       "      <td>Europe</td>\n",
       "    </tr>\n",
       "    <tr>\n",
       "      <th>4</th>\n",
       "      <td>Russia</td>\n",
       "      <td>6002303</td>\n",
       "      <td>149796</td>\n",
       "      <td>5979027</td>\n",
       "      <td>149012</td>\n",
       "      <td>23276</td>\n",
       "      <td>784</td>\n",
       "      <td>2.5</td>\n",
       "      <td>Europe</td>\n",
       "    </tr>\n",
       "  </tbody>\n",
       "</table>\n",
       "</div>"
      ],
      "text/plain": [
       "  Country/Region     Cases  Deaths    PCases  PDeaths  Cases (+)  Deaths (+)  \\\n",
       "0             US  34400655  610720  34281864   610177     118791         543   \n",
       "1          India  31293062  419470  31293062   419470          0           0   \n",
       "2         Brazil  19632443  548340  19523711   547016     108732        1324   \n",
       "3         France   6015469  111778   5996060   111749      19409          29   \n",
       "4         Russia   6002303  149796   5979027   149012      23276         784   \n",
       "\n",
       "   Fatality Rate      Continent  \n",
       "0            1.8  North America  \n",
       "1            1.3           Asia  \n",
       "2            2.8  South America  \n",
       "3            1.9         Europe  \n",
       "4            2.5         Europe  "
      ]
     },
     "execution_count": 15,
     "metadata": {},
     "output_type": "execute_result"
    }
   ],
   "source": [
    "#hide\n",
    "df_table = (pd.DataFrame(dict(Cases=dfc_cases, Deaths=dfc_deaths, PCases=dfp_cases, PDeaths=dfp_deaths))\n",
    "             .sort_values(by=['Cases', 'Deaths'], ascending=[False, False])\n",
    "             .reset_index())\n",
    "df_table.rename(columns={'index': 'Country/Region'}, inplace=True)\n",
    "for c in 'Cases, Deaths'.split(', '):\n",
    "    df_table[f'{c} (+)'] = (df_table[c] - df_table[f'P{c}']).clip(0)  # DATA BUG\n",
    "df_table['Fatality Rate'] = (100 * df_table['Deaths'] / df_table['Cases']).round(1)\n",
    "df_table['Continent'] = df_table['Country/Region'].map(mapping['map.continent'])\n",
    "df_table.head(5)"
   ]
  },
  {
   "cell_type": "code",
   "execution_count": 16,
   "id": "fewer-occasion",
   "metadata": {
    "execution": {
     "iopub.execute_input": "2021-07-24T12:10:47.025635Z",
     "iopub.status.busy": "2021-07-24T12:10:47.024982Z",
     "iopub.status.idle": "2021-07-24T12:10:47.028098Z",
     "shell.execute_reply": "2021-07-24T12:10:47.028741Z"
    },
    "papermill": {
     "duration": 0.048209,
     "end_time": "2021-07-24T12:10:47.028900",
     "exception": false,
     "start_time": "2021-07-24T12:10:46.980691",
     "status": "completed"
    },
    "tags": []
   },
   "outputs": [],
   "source": [
    "#hide\n",
    "#delete problematic countries from table\n",
    "df_table = df_table[~df_table['Country/Region'].isin(['Cape Verde', 'Cruise Ship', 'Kosovo'])]"
   ]
  },
  {
   "cell_type": "code",
   "execution_count": 17,
   "id": "related-center",
   "metadata": {
    "execution": {
     "iopub.execute_input": "2021-07-24T12:10:47.129641Z",
     "iopub.status.busy": "2021-07-24T12:10:47.128973Z",
     "iopub.status.idle": "2021-07-24T12:10:47.131810Z",
     "shell.execute_reply": "2021-07-24T12:10:47.131251Z"
    },
    "papermill": {
     "duration": 0.063198,
     "end_time": "2021-07-24T12:10:47.131949",
     "exception": false,
     "start_time": "2021-07-24T12:10:47.068751",
     "status": "completed"
    },
    "tags": []
   },
   "outputs": [],
   "source": [
    "#hide\n",
    "metrics = [df_table.columns[index] for index in [1,2,5,6]]\n",
    "# s_china = df_table[df_table['Country/Region'].eq('China')][metrics].sum().add_prefix('China ')\n",
    "s_us = df_table[df_table['Country/Region'].eq('US')][metrics].sum().add_prefix('US ')\n",
    "s_eu = df_table[df_table['Continent'].eq('Europe')][metrics].sum().add_prefix('EU ')\n",
    "s_ind = df_table[df_table['Country/Region'].eq('India')][metrics].sum().add_prefix('India ')\n",
    "summary = {'updated': pd.to_datetime(dt_today), 'since': pd.to_datetime(dt_yday)}\n",
    "summary = {'updated': pd.to_datetime(dt_today), 'since': pd.to_datetime(dt_yday)}\n",
    "summary = {**summary, **df_table[metrics].sum(), **s_ind, **s_us, **s_eu}"
   ]
  },
  {
   "cell_type": "code",
   "execution_count": 18,
   "id": "engaging-syndrome",
   "metadata": {
    "execution": {
     "iopub.execute_input": "2021-07-24T12:10:47.222993Z",
     "iopub.status.busy": "2021-07-24T12:10:47.222347Z",
     "iopub.status.idle": "2021-07-24T12:10:47.235648Z",
     "shell.execute_reply": "2021-07-24T12:10:47.236167Z"
    },
    "papermill": {
     "duration": 0.064914,
     "end_time": "2021-07-24T12:10:47.236334",
     "exception": false,
     "start_time": "2021-07-24T12:10:47.171420",
     "status": "completed"
    },
    "tags": []
   },
   "outputs": [],
   "source": [
    "#hide\n",
    "dft_ct_new_cases = dft_cases.groupby(COL_REGION)[dt_cols].sum().diff(axis=1).fillna(0).astype(int)"
   ]
  },
  {
   "cell_type": "code",
   "execution_count": 19,
   "id": "neutral-assignment",
   "metadata": {
    "execution": {
     "iopub.execute_input": "2021-07-24T12:10:47.322650Z",
     "iopub.status.busy": "2021-07-24T12:10:47.322001Z",
     "iopub.status.idle": "2021-07-24T12:10:47.324032Z",
     "shell.execute_reply": "2021-07-24T12:10:47.324622Z"
    },
    "papermill": {
     "duration": 0.049102,
     "end_time": "2021-07-24T12:10:47.324770",
     "exception": false,
     "start_time": "2021-07-24T12:10:47.275668",
     "status": "completed"
    },
    "tags": []
   },
   "outputs": [],
   "source": [
    "#hide\n",
    "everydaycases = dft_ct_new_cases.cumsum(axis=1)"
   ]
  },
  {
   "cell_type": "code",
   "execution_count": 20,
   "id": "parliamentary-calgary",
   "metadata": {
    "execution": {
     "iopub.execute_input": "2021-07-24T12:10:47.408317Z",
     "iopub.status.busy": "2021-07-24T12:10:47.407677Z",
     "iopub.status.idle": "2021-07-24T12:10:48.092150Z",
     "shell.execute_reply": "2021-07-24T12:10:48.091565Z"
    },
    "papermill": {
     "duration": 0.727533,
     "end_time": "2021-07-24T12:10:48.092300",
     "exception": false,
     "start_time": "2021-07-24T12:10:47.364767",
     "status": "completed"
    },
    "tags": []
   },
   "outputs": [],
   "source": [
    "#hide\n",
    "import pandas as pd\n",
    "import matplotlib.pyplot as plt\n",
    "import matplotlib.ticker as ticker\n",
    "import matplotlib.animation as animation\n",
    "from IPython.display import HTML"
   ]
  },
  {
   "cell_type": "code",
   "execution_count": 21,
   "id": "lasting-extraction",
   "metadata": {
    "execution": {
     "iopub.execute_input": "2021-07-24T12:10:48.175891Z",
     "iopub.status.busy": "2021-07-24T12:10:48.175246Z",
     "iopub.status.idle": "2021-07-24T12:10:48.181355Z",
     "shell.execute_reply": "2021-07-24T12:10:48.180821Z"
    },
    "papermill": {
     "duration": 0.049906,
     "end_time": "2021-07-24T12:10:48.181498",
     "exception": false,
     "start_time": "2021-07-24T12:10:48.131592",
     "status": "completed"
    },
    "tags": []
   },
   "outputs": [],
   "source": [
    "#hide\n",
    "t = everydaycases.stack()"
   ]
  },
  {
   "cell_type": "code",
   "execution_count": 22,
   "id": "premier-sleeve",
   "metadata": {
    "execution": {
     "iopub.execute_input": "2021-07-24T12:10:48.266646Z",
     "iopub.status.busy": "2021-07-24T12:10:48.266001Z",
     "iopub.status.idle": "2021-07-24T12:10:48.274131Z",
     "shell.execute_reply": "2021-07-24T12:10:48.274754Z"
    },
    "papermill": {
     "duration": 0.051508,
     "end_time": "2021-07-24T12:10:48.274909",
     "exception": false,
     "start_time": "2021-07-24T12:10:48.223401",
     "status": "completed"
    },
    "tags": []
   },
   "outputs": [],
   "source": [
    "#hide\n",
    "g = t.reset_index(['Country/Region'])"
   ]
  },
  {
   "cell_type": "code",
   "execution_count": 23,
   "id": "distributed-pittsburgh",
   "metadata": {
    "execution": {
     "iopub.execute_input": "2021-07-24T12:10:48.356640Z",
     "iopub.status.busy": "2021-07-24T12:10:48.355961Z",
     "iopub.status.idle": "2021-07-24T12:10:48.357520Z",
     "shell.execute_reply": "2021-07-24T12:10:48.358150Z"
    },
    "papermill": {
     "duration": 0.045091,
     "end_time": "2021-07-24T12:10:48.358308",
     "exception": false,
     "start_time": "2021-07-24T12:10:48.313217",
     "status": "completed"
    },
    "tags": []
   },
   "outputs": [],
   "source": [
    "#hide\n",
    "g.index.name = 'date'"
   ]
  },
  {
   "cell_type": "code",
   "execution_count": 24,
   "id": "naked-donor",
   "metadata": {
    "execution": {
     "iopub.execute_input": "2021-07-24T12:10:48.443121Z",
     "iopub.status.busy": "2021-07-24T12:10:48.441827Z",
     "iopub.status.idle": "2021-07-24T12:10:48.443818Z",
     "shell.execute_reply": "2021-07-24T12:10:48.444336Z"
    },
    "papermill": {
     "duration": 0.046536,
     "end_time": "2021-07-24T12:10:48.444509",
     "exception": false,
     "start_time": "2021-07-24T12:10:48.397973",
     "status": "completed"
    },
    "tags": []
   },
   "outputs": [],
   "source": [
    "# #hide\n",
    "# g = g.reset_index(['date'])"
   ]
  },
  {
   "cell_type": "code",
   "execution_count": 25,
   "id": "incomplete-mustang",
   "metadata": {
    "execution": {
     "iopub.execute_input": "2021-07-24T12:10:48.527394Z",
     "iopub.status.busy": "2021-07-24T12:10:48.526126Z",
     "iopub.status.idle": "2021-07-24T12:10:48.528086Z",
     "shell.execute_reply": "2021-07-24T12:10:48.528634Z"
    },
    "papermill": {
     "duration": 0.044904,
     "end_time": "2021-07-24T12:10:48.528781",
     "exception": false,
     "start_time": "2021-07-24T12:10:48.483877",
     "status": "completed"
    },
    "tags": []
   },
   "outputs": [],
   "source": [
    "#hide\n",
    "# g.head()"
   ]
  },
  {
   "cell_type": "code",
   "execution_count": 26,
   "id": "specific-kruger",
   "metadata": {
    "execution": {
     "iopub.execute_input": "2021-07-24T12:10:48.609606Z",
     "iopub.status.busy": "2021-07-24T12:10:48.608967Z",
     "iopub.status.idle": "2021-07-24T12:10:48.611489Z",
     "shell.execute_reply": "2021-07-24T12:10:48.610849Z"
    },
    "papermill": {
     "duration": 0.044549,
     "end_time": "2021-07-24T12:10:48.611620",
     "exception": false,
     "start_time": "2021-07-24T12:10:48.567071",
     "status": "completed"
    },
    "tags": []
   },
   "outputs": [],
   "source": [
    "#hide\n",
    "# g.columns = ['date','country','cases']"
   ]
  },
  {
   "cell_type": "code",
   "execution_count": 27,
   "id": "tender-conversion",
   "metadata": {
    "execution": {
     "iopub.execute_input": "2021-07-24T12:10:48.692593Z",
     "iopub.status.busy": "2021-07-24T12:10:48.691928Z",
     "iopub.status.idle": "2021-07-24T12:10:48.696842Z",
     "shell.execute_reply": "2021-07-24T12:10:48.695683Z"
    },
    "papermill": {
     "duration": 0.046819,
     "end_time": "2021-07-24T12:10:48.696990",
     "exception": false,
     "start_time": "2021-07-24T12:10:48.650171",
     "status": "completed"
    },
    "tags": []
   },
   "outputs": [],
   "source": [
    "#hide\n",
    "# g['continent'] = g.country"
   ]
  },
  {
   "cell_type": "code",
   "execution_count": 28,
   "id": "substantial-wilderness",
   "metadata": {
    "execution": {
     "iopub.execute_input": "2021-07-24T12:10:48.780094Z",
     "iopub.status.busy": "2021-07-24T12:10:48.779453Z",
     "iopub.status.idle": "2021-07-24T12:10:48.781913Z",
     "shell.execute_reply": "2021-07-24T12:10:48.781277Z"
    },
    "papermill": {
     "duration": 0.044696,
     "end_time": "2021-07-24T12:10:48.782044",
     "exception": false,
     "start_time": "2021-07-24T12:10:48.737348",
     "status": "completed"
    },
    "tags": []
   },
   "outputs": [],
   "source": [
    "#hide\n",
    "# cols = list(g.columns.values)"
   ]
  },
  {
   "cell_type": "code",
   "execution_count": 29,
   "id": "solved-farming",
   "metadata": {
    "execution": {
     "iopub.execute_input": "2021-07-24T12:10:48.864453Z",
     "iopub.status.busy": "2021-07-24T12:10:48.863153Z",
     "iopub.status.idle": "2021-07-24T12:10:48.865235Z",
     "shell.execute_reply": "2021-07-24T12:10:48.865782Z"
    },
    "papermill": {
     "duration": 0.04486,
     "end_time": "2021-07-24T12:10:48.865928",
     "exception": false,
     "start_time": "2021-07-24T12:10:48.821068",
     "status": "completed"
    },
    "tags": []
   },
   "outputs": [],
   "source": [
    "#hide\n",
    "# cols.insert(0, cols.pop())"
   ]
  },
  {
   "cell_type": "code",
   "execution_count": 30,
   "id": "executed-adoption",
   "metadata": {
    "execution": {
     "iopub.execute_input": "2021-07-24T12:10:48.946724Z",
     "iopub.status.busy": "2021-07-24T12:10:48.946067Z",
     "iopub.status.idle": "2021-07-24T12:10:48.947844Z",
     "shell.execute_reply": "2021-07-24T12:10:48.948423Z"
    },
    "papermill": {
     "duration": 0.044424,
     "end_time": "2021-07-24T12:10:48.948577",
     "exception": false,
     "start_time": "2021-07-24T12:10:48.904153",
     "status": "completed"
    },
    "tags": []
   },
   "outputs": [],
   "source": [
    "#hide\n",
    "# g = g[cols]"
   ]
  },
  {
   "cell_type": "code",
   "execution_count": 31,
   "id": "subject-dublin",
   "metadata": {
    "execution": {
     "iopub.execute_input": "2021-07-24T12:10:49.032070Z",
     "iopub.status.busy": "2021-07-24T12:10:49.031410Z",
     "iopub.status.idle": "2021-07-24T12:10:49.033976Z",
     "shell.execute_reply": "2021-07-24T12:10:49.033413Z"
    },
    "papermill": {
     "duration": 0.046646,
     "end_time": "2021-07-24T12:10:49.034114",
     "exception": false,
     "start_time": "2021-07-24T12:10:48.987468",
     "status": "completed"
    },
    "tags": []
   },
   "outputs": [],
   "source": [
    "#hide\n",
    "# g['continent'] = g['continent'].map(mapping['map.continent'])"
   ]
  },
  {
   "cell_type": "code",
   "execution_count": 32,
   "id": "freelance-scout",
   "metadata": {
    "execution": {
     "iopub.execute_input": "2021-07-24T12:10:49.117075Z",
     "iopub.status.busy": "2021-07-24T12:10:49.116423Z",
     "iopub.status.idle": "2021-07-24T12:10:49.118329Z",
     "shell.execute_reply": "2021-07-24T12:10:49.118930Z"
    },
    "papermill": {
     "duration": 0.046442,
     "end_time": "2021-07-24T12:10:49.119086",
     "exception": false,
     "start_time": "2021-07-24T12:10:49.072644",
     "status": "completed"
    },
    "tags": []
   },
   "outputs": [],
   "source": [
    "#hide\n",
    "# g.head()"
   ]
  },
  {
   "cell_type": "code",
   "execution_count": 33,
   "id": "limited-engine",
   "metadata": {
    "execution": {
     "iopub.execute_input": "2021-07-24T12:10:49.204138Z",
     "iopub.status.busy": "2021-07-24T12:10:49.203509Z",
     "iopub.status.idle": "2021-07-24T12:10:49.205873Z",
     "shell.execute_reply": "2021-07-24T12:10:49.205361Z"
    },
    "papermill": {
     "duration": 0.049338,
     "end_time": "2021-07-24T12:10:49.206009",
     "exception": false,
     "start_time": "2021-07-24T12:10:49.156671",
     "status": "completed"
    },
    "tags": []
   },
   "outputs": [],
   "source": [
    "# hide\n",
    "# g['date'] = g['date'].astype('datetime64[ns]')"
   ]
  },
  {
   "cell_type": "code",
   "execution_count": 34,
   "id": "sophisticated-supervisor",
   "metadata": {
    "execution": {
     "iopub.execute_input": "2021-07-24T12:10:49.287842Z",
     "iopub.status.busy": "2021-07-24T12:10:49.287191Z",
     "iopub.status.idle": "2021-07-24T12:10:49.289594Z",
     "shell.execute_reply": "2021-07-24T12:10:49.289085Z"
    },
    "papermill": {
     "duration": 0.044473,
     "end_time": "2021-07-24T12:10:49.289714",
     "exception": false,
     "start_time": "2021-07-24T12:10:49.245241",
     "status": "completed"
    },
    "tags": []
   },
   "outputs": [],
   "source": [
    "#hide\n",
    "# g['date'] = g.date.dt.dayofyear"
   ]
  },
  {
   "cell_type": "code",
   "execution_count": 35,
   "id": "inside-dubai",
   "metadata": {
    "execution": {
     "iopub.execute_input": "2021-07-24T12:10:49.370508Z",
     "iopub.status.busy": "2021-07-24T12:10:49.369876Z",
     "iopub.status.idle": "2021-07-24T12:10:49.372340Z",
     "shell.execute_reply": "2021-07-24T12:10:49.371797Z"
    },
    "papermill": {
     "duration": 0.043896,
     "end_time": "2021-07-24T12:10:49.372489",
     "exception": false,
     "start_time": "2021-07-24T12:10:49.328593",
     "status": "completed"
    },
    "tags": []
   },
   "outputs": [],
   "source": [
    "#hide\n",
    "# g = g.rename(columns= {'continent':'group','country':'name','cases':'value'})"
   ]
  },
  {
   "cell_type": "code",
   "execution_count": 36,
   "id": "fleet-motorcycle",
   "metadata": {
    "execution": {
     "iopub.execute_input": "2021-07-24T12:10:49.455523Z",
     "iopub.status.busy": "2021-07-24T12:10:49.454085Z",
     "iopub.status.idle": "2021-07-24T12:10:49.456219Z",
     "shell.execute_reply": "2021-07-24T12:10:49.456764Z"
    },
    "papermill": {
     "duration": 0.045491,
     "end_time": "2021-07-24T12:10:49.456929",
     "exception": false,
     "start_time": "2021-07-24T12:10:49.411438",
     "status": "completed"
    },
    "tags": []
   },
   "outputs": [],
   "source": [
    "#hide\n",
    "# cols = ['name','group','day','value']"
   ]
  },
  {
   "cell_type": "code",
   "execution_count": 37,
   "id": "continued-sleeping",
   "metadata": {
    "execution": {
     "iopub.execute_input": "2021-07-24T12:10:49.540213Z",
     "iopub.status.busy": "2021-07-24T12:10:49.539569Z",
     "iopub.status.idle": "2021-07-24T12:10:49.540926Z",
     "shell.execute_reply": "2021-07-24T12:10:49.541443Z"
    },
    "papermill": {
     "duration": 0.046245,
     "end_time": "2021-07-24T12:10:49.541595",
     "exception": false,
     "start_time": "2021-07-24T12:10:49.495350",
     "status": "completed"
    },
    "tags": []
   },
   "outputs": [],
   "source": [
    "#hide\n",
    "# g.rename(columns= {'date':'day'},inplace = True)"
   ]
  },
  {
   "cell_type": "code",
   "execution_count": 38,
   "id": "major-fight",
   "metadata": {
    "execution": {
     "iopub.execute_input": "2021-07-24T12:10:49.623292Z",
     "iopub.status.busy": "2021-07-24T12:10:49.621941Z",
     "iopub.status.idle": "2021-07-24T12:10:49.623969Z",
     "shell.execute_reply": "2021-07-24T12:10:49.624520Z"
    },
    "papermill": {
     "duration": 0.045099,
     "end_time": "2021-07-24T12:10:49.624662",
     "exception": false,
     "start_time": "2021-07-24T12:10:49.579563",
     "status": "completed"
    },
    "tags": []
   },
   "outputs": [],
   "source": [
    "#hide\n",
    "# g = g[cols]"
   ]
  },
  {
   "cell_type": "code",
   "execution_count": 39,
   "id": "structured-mobile",
   "metadata": {
    "execution": {
     "iopub.execute_input": "2021-07-24T12:10:49.704435Z",
     "iopub.status.busy": "2021-07-24T12:10:49.703719Z",
     "iopub.status.idle": "2021-07-24T12:10:49.706259Z",
     "shell.execute_reply": "2021-07-24T12:10:49.705692Z"
    },
    "papermill": {
     "duration": 0.044507,
     "end_time": "2021-07-24T12:10:49.706398",
     "exception": false,
     "start_time": "2021-07-24T12:10:49.661891",
     "status": "completed"
    },
    "tags": []
   },
   "outputs": [],
   "source": [
    "# #hide\n",
    "# g = g[g.group.notna()]"
   ]
  },
  {
   "cell_type": "code",
   "execution_count": 40,
   "id": "determined-closing",
   "metadata": {
    "execution": {
     "iopub.execute_input": "2021-07-24T12:10:49.790162Z",
     "iopub.status.busy": "2021-07-24T12:10:49.789476Z",
     "iopub.status.idle": "2021-07-24T12:10:49.791359Z",
     "shell.execute_reply": "2021-07-24T12:10:49.791931Z"
    },
    "papermill": {
     "duration": 0.043797,
     "end_time": "2021-07-24T12:10:49.792081",
     "exception": false,
     "start_time": "2021-07-24T12:10:49.748284",
     "status": "completed"
    },
    "tags": []
   },
   "outputs": [],
   "source": [
    "# #hide\n",
    "# colors = dict(zip(\n",
    "#     [\"Oceania\", \"Europe\", \"Asia\", \"South America\", \"Middle East\", \"North America\", \"Africa\"],\n",
    "#     [\"#adb0ff\", \"#ffb3ff\", \"#90d595\", \"#e48381\", \"#aafbff\", \"#f7bb5f\", \"#eafb50\"]\n",
    "# ))\n",
    "# group_lk = g.set_index('name')['group'].to_dict()"
   ]
  },
  {
   "cell_type": "code",
   "execution_count": null,
   "id": "gross-drinking",
   "metadata": {
    "papermill": {
     "duration": 0.038483,
     "end_time": "2021-07-24T12:10:49.870382",
     "exception": false,
     "start_time": "2021-07-24T12:10:49.831899",
     "status": "completed"
    },
    "tags": []
   },
   "outputs": [],
   "source": []
  },
  {
   "cell_type": "code",
   "execution_count": 41,
   "id": "subject-macintosh",
   "metadata": {
    "execution": {
     "iopub.execute_input": "2021-07-24T12:10:49.952896Z",
     "iopub.status.busy": "2021-07-24T12:10:49.952202Z",
     "iopub.status.idle": "2021-07-24T12:10:49.954108Z",
     "shell.execute_reply": "2021-07-24T12:10:49.954604Z"
    },
    "papermill": {
     "duration": 0.045339,
     "end_time": "2021-07-24T12:10:49.954754",
     "exception": false,
     "start_time": "2021-07-24T12:10:49.909415",
     "status": "completed"
    },
    "tags": []
   },
   "outputs": [],
   "source": [
    "# #hide\n",
    "# fig, ax = plt.subplots(figsize=(15, 8))\n",
    "\n",
    "# def draw_barchart(current_day):\n",
    "#     dff = g[g['day'].eq(current_day)].sort_values(by='value', ascending=True).tail(10)\n",
    "#     ax.clear()\n",
    "#     ax.barh(dff['name'], dff['value'], color=[colors[group_lk[x]] for x in dff['name']])\n",
    "#     dx = dff['value'].max() / 200\n",
    "    \n",
    "#     for i, (value, name) in enumerate(zip(dff['value'], dff['name'])):\n",
    "#         ax.text(value-dx, i,     name,           size=14, weight=600, ha='right', va='bottom')\n",
    "#         ax.text(value-dx, i-.25, group_lk[name], size=10, color='#444444', ha='right', va='baseline')\n",
    "#         ax.text(value+dx, i,     f'{value:,.0f}',  size=14, ha='left',  va='center')\n",
    "#     ax.text(1, 0.4, current_day, transform=ax.transAxes, color='#777777', size=46, ha='right', weight=800)\n",
    "#     ax.text(0, 1.06, 'Population (thousands)', transform=ax.transAxes, size=12, color='#777777')\n",
    "#     ax.xaxis.set_major_formatter(ticker.StrMethodFormatter('{x:,.0f}'))\n",
    "#     ax.xaxis.set_ticks_position('top')\n",
    "#     ax.tick_params(axis='x', colors='#777777', labelsize=12)\n",
    "#     ax.set_yticks([])\n",
    "#     ax.margins(0, 0.01)\n",
    "#     ax.grid(which='major', axis='x', linestyle='-')\n",
    "#     ax.set_axisbelow(True)\n",
    "    \n",
    "#     ax.text(0, 1.15, 'Coronavirus',\n",
    "#             transform=ax.transAxes, size=24, weight=600, ha='left', va='top')\n",
    "# #     ax.text(1, 0, 'by @pratapvardhan; credit @jburnmurdoch', transform=ax.transAxes, color='#777777', ha='right',\n",
    "# #             bbox=dict(facecolor='white', alpha=0.8, edgecolor='white'))\n",
    "#     plt.box(False)"
   ]
  },
  {
   "cell_type": "code",
   "execution_count": 42,
   "id": "sexual-wages",
   "metadata": {
    "execution": {
     "iopub.execute_input": "2021-07-24T12:10:50.037880Z",
     "iopub.status.busy": "2021-07-24T12:10:50.037150Z",
     "iopub.status.idle": "2021-07-24T12:10:50.038822Z",
     "shell.execute_reply": "2021-07-24T12:10:50.039445Z"
    },
    "papermill": {
     "duration": 0.046138,
     "end_time": "2021-07-24T12:10:50.039602",
     "exception": false,
     "start_time": "2021-07-24T12:10:49.993464",
     "status": "completed"
    },
    "tags": []
   },
   "outputs": [],
   "source": [
    "# #hide_input\n",
    "# fig, ax = plt.subplots(figsize=(15, 8))\n",
    "# animator = animation.FuncAnimation(fig, draw_barchart, frames=range(g.day.values.min(), g.day.values.max()))\n",
    "# HTML(animator.to_jshtml())\n",
    "# # or use animator.to_html5_video() or animator.save() "
   ]
  },
  {
   "cell_type": "code",
   "execution_count": null,
   "id": "australian-container",
   "metadata": {
    "papermill": {
     "duration": 0.040448,
     "end_time": "2021-07-24T12:10:50.118906",
     "exception": false,
     "start_time": "2021-07-24T12:10:50.078458",
     "status": "completed"
    },
    "tags": []
   },
   "outputs": [],
   "source": []
  },
  {
   "cell_type": "code",
   "execution_count": null,
   "id": "mediterranean-pontiac",
   "metadata": {
    "papermill": {
     "duration": 0.03696,
     "end_time": "2021-07-24T12:10:50.193630",
     "exception": false,
     "start_time": "2021-07-24T12:10:50.156670",
     "status": "completed"
    },
    "tags": []
   },
   "outputs": [],
   "source": []
  },
  {
   "cell_type": "code",
   "execution_count": null,
   "id": "aging-legislature",
   "metadata": {
    "papermill": {
     "duration": 0.039233,
     "end_time": "2021-07-24T12:10:50.273827",
     "exception": false,
     "start_time": "2021-07-24T12:10:50.234594",
     "status": "completed"
    },
    "tags": []
   },
   "outputs": [],
   "source": []
  }
 ],
 "metadata": {
  "kernelspec": {
   "display_name": "Python 3",
   "language": "python",
   "name": "python3"
  },
  "language_info": {
   "codemirror_mode": {
    "name": "ipython",
    "version": 3
   },
   "file_extension": ".py",
   "mimetype": "text/x-python",
   "name": "python",
   "nbconvert_exporter": "python",
   "pygments_lexer": "ipython3",
   "version": "3.6.14"
  },
  "papermill": {
   "duration": 7.40553,
   "end_time": "2021-07-24T12:10:50.720422",
   "environment_variables": {},
   "exception": null,
   "input_path": "2020-03-21-covid19exp.ipynb",
   "output_path": "2020-03-21-covid19exp.ipynb",
   "parameters": {},
   "start_time": "2021-07-24T12:10:43.314892",
   "version": "2.0.0"
  }
 },
 "nbformat": 4,
 "nbformat_minor": 5
}