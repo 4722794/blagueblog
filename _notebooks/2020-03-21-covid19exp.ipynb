{
 "cells": [
  {
   "cell_type": "markdown",
   "id": "muslim-click",
   "metadata": {
    "papermill": {
     "duration": 0.040482,
     "end_time": "2022-09-17T00:46:21.561640",
     "exception": false,
     "start_time": "2022-09-17T00:46:21.521158",
     "status": "completed"
    },
    "tags": []
   },
   "source": [
    "# COVID-19 Case Race\n",
    "> A race chart to see rising cases around the world\n",
    "\n",
    "- author: Hargun Oberoi\n",
    "- image: images/covid-overview.png\n",
    "- hide: false\n",
    "- badges: false"
   ]
  },
  {
   "cell_type": "code",
   "execution_count": 1,
   "id": "proof-material",
   "metadata": {
    "execution": {
     "iopub.execute_input": "2022-09-17T00:46:21.641915Z",
     "iopub.status.busy": "2022-09-17T00:46:21.640904Z",
     "iopub.status.idle": "2022-09-17T00:46:22.032701Z",
     "shell.execute_reply": "2022-09-17T00:46:22.031577Z"
    },
    "papermill": {
     "duration": 0.436809,
     "end_time": "2022-09-17T00:46:22.032868",
     "exception": false,
     "start_time": "2022-09-17T00:46:21.596059",
     "status": "completed"
    },
    "tags": []
   },
   "outputs": [],
   "source": [
    "#hide\n",
    "import numpy as np\n",
    "import pandas as pd\n",
    "from jinja2 import Template\n",
    "from IPython.display import HTML"
   ]
  },
  {
   "cell_type": "code",
   "execution_count": 2,
   "id": "developed-terminology",
   "metadata": {
    "execution": {
     "iopub.execute_input": "2022-09-17T00:46:22.106401Z",
     "iopub.status.busy": "2022-09-17T00:46:22.105374Z",
     "iopub.status.idle": "2022-09-17T00:46:22.107813Z",
     "shell.execute_reply": "2022-09-17T00:46:22.107225Z"
    },
    "papermill": {
     "duration": 0.041434,
     "end_time": "2022-09-17T00:46:22.107949",
     "exception": false,
     "start_time": "2022-09-17T00:46:22.066515",
     "status": "completed"
    },
    "tags": []
   },
   "outputs": [],
   "source": [
    "#hide\n",
    "\n",
    "# FETCH\n",
    "base_url = 'https://raw.githubusercontent.com/pratapvardhan/notebooks/master/covid19/'\n",
    "paths = {\n",
    "    'mapping': base_url + 'mapping_countries.csv',\n",
    "    'overview': base_url + 'overview.tpl'\n",
    "}"
   ]
  },
  {
   "cell_type": "code",
   "execution_count": 3,
   "id": "dynamic-saver",
   "metadata": {
    "execution": {
     "iopub.execute_input": "2022-09-17T00:46:22.186069Z",
     "iopub.status.busy": "2022-09-17T00:46:22.185318Z",
     "iopub.status.idle": "2022-09-17T00:46:22.189447Z",
     "shell.execute_reply": "2022-09-17T00:46:22.188777Z"
    },
    "papermill": {
     "duration": 0.04806,
     "end_time": "2022-09-17T00:46:22.189576",
     "exception": false,
     "start_time": "2022-09-17T00:46:22.141516",
     "status": "completed"
    },
    "tags": []
   },
   "outputs": [
    {
     "data": {
      "text/plain": [
       "'https://raw.githubusercontent.com/pratapvardhan/notebooks/master/covid19/mapping_countries.csv'"
      ]
     },
     "execution_count": 3,
     "metadata": {},
     "output_type": "execute_result"
    }
   ],
   "source": [
    "#hide\n",
    "paths['mapping']"
   ]
  },
  {
   "cell_type": "code",
   "execution_count": 4,
   "id": "urban-software",
   "metadata": {
    "execution": {
     "iopub.execute_input": "2022-09-17T00:46:22.263609Z",
     "iopub.status.busy": "2022-09-17T00:46:22.262878Z",
     "iopub.status.idle": "2022-09-17T00:46:22.265811Z",
     "shell.execute_reply": "2022-09-17T00:46:22.265202Z"
    },
    "papermill": {
     "duration": 0.042534,
     "end_time": "2022-09-17T00:46:22.265951",
     "exception": false,
     "start_time": "2022-09-17T00:46:22.223417",
     "status": "completed"
    },
    "tags": []
   },
   "outputs": [],
   "source": [
    "#hide\n",
    "def get_mappings(url):\n",
    "    df = pd.read_csv(url)\n",
    "    return {\n",
    "        'df': df,\n",
    "        'replace.country': dict(df.dropna(subset=['Name']).set_index('Country')['Name']),\n",
    "        'map.continent': dict(df.set_index('Name')['Continent'])\n",
    "    }"
   ]
  },
  {
   "cell_type": "code",
   "execution_count": 5,
   "id": "intimate-machinery",
   "metadata": {
    "execution": {
     "iopub.execute_input": "2022-09-17T00:46:22.341066Z",
     "iopub.status.busy": "2022-09-17T00:46:22.340354Z",
     "iopub.status.idle": "2022-09-17T00:46:22.371964Z",
     "shell.execute_reply": "2022-09-17T00:46:22.371343Z"
    },
    "papermill": {
     "duration": 0.072592,
     "end_time": "2022-09-17T00:46:22.372102",
     "exception": false,
     "start_time": "2022-09-17T00:46:22.299510",
     "status": "completed"
    },
    "tags": []
   },
   "outputs": [],
   "source": [
    "#hide\n",
    "mapping = get_mappings(paths['mapping'])"
   ]
  },
  {
   "cell_type": "code",
   "execution_count": 6,
   "id": "certified-tactics",
   "metadata": {
    "execution": {
     "iopub.execute_input": "2022-09-17T00:46:22.446469Z",
     "iopub.status.busy": "2022-09-17T00:46:22.445707Z",
     "iopub.status.idle": "2022-09-17T00:46:22.448541Z",
     "shell.execute_reply": "2022-09-17T00:46:22.447987Z"
    },
    "papermill": {
     "duration": 0.042742,
     "end_time": "2022-09-17T00:46:22.448669",
     "exception": false,
     "start_time": "2022-09-17T00:46:22.405927",
     "status": "completed"
    },
    "tags": []
   },
   "outputs": [],
   "source": [
    "#hide\n",
    "def get_template(path):\n",
    "    from urllib.parse import urlparse\n",
    "    if bool(urlparse(path).netloc):\n",
    "        from urllib.request import urlopen\n",
    "        return urlopen(path).read().decode('utf8')\n",
    "    return open(path).read()"
   ]
  },
  {
   "cell_type": "code",
   "execution_count": 7,
   "id": "realistic-blast",
   "metadata": {
    "execution": {
     "iopub.execute_input": "2022-09-17T00:46:22.524477Z",
     "iopub.status.busy": "2022-09-17T00:46:22.523712Z",
     "iopub.status.idle": "2022-09-17T00:46:22.525235Z",
     "shell.execute_reply": "2022-09-17T00:46:22.525825Z"
    },
    "papermill": {
     "duration": 0.043797,
     "end_time": "2022-09-17T00:46:22.525991",
     "exception": false,
     "start_time": "2022-09-17T00:46:22.482194",
     "status": "completed"
    },
    "tags": []
   },
   "outputs": [],
   "source": [
    "#hide\n",
    "def get_frame(name):\n",
    "    url = (\n",
    "        'https://raw.githubusercontent.com/CSSEGISandData/COVID-19/master/csse_covid_19_data/'\n",
    "        f'csse_covid_19_time_series/time_series_covid19_{name}_global.csv')\n",
    "    df = pd.read_csv(url)\n",
    "    # rename countries\n",
    "    df['Country/Region'] = df['Country/Region'].replace(mapping['replace.country'])\n",
    "    return df"
   ]
  },
  {
   "cell_type": "code",
   "execution_count": 8,
   "id": "affiliated-characterization",
   "metadata": {
    "execution": {
     "iopub.execute_input": "2022-09-17T00:46:22.603901Z",
     "iopub.status.busy": "2022-09-17T00:46:22.603194Z",
     "iopub.status.idle": "2022-09-17T00:46:22.606332Z",
     "shell.execute_reply": "2022-09-17T00:46:22.606827Z"
    },
    "papermill": {
     "duration": 0.047322,
     "end_time": "2022-09-17T00:46:22.606983",
     "exception": false,
     "start_time": "2022-09-17T00:46:22.559661",
     "status": "completed"
    },
    "tags": []
   },
   "outputs": [],
   "source": [
    "#hide\n",
    "def get_dates(df):\n",
    "    dt_cols = df.columns[~df.columns.isin(['Province/State', 'Country/Region', 'Lat', 'Long'])]\n",
    "    LAST_DATE_I = -1\n",
    "    # sometimes last column may be empty, then go backwards\n",
    "    for i in range(-1, -len(dt_cols), -1):\n",
    "        if not df[dt_cols[i]].fillna(0).eq(0).all():\n",
    "            LAST_DATE_I = i\n",
    "            break\n",
    "    return LAST_DATE_I, dt_cols"
   ]
  },
  {
   "cell_type": "code",
   "execution_count": 9,
   "id": "recent-optimization",
   "metadata": {
    "execution": {
     "iopub.execute_input": "2022-09-17T00:46:22.679980Z",
     "iopub.status.busy": "2022-09-17T00:46:22.679271Z",
     "iopub.status.idle": "2022-09-17T00:46:23.112936Z",
     "shell.execute_reply": "2022-09-17T00:46:23.113510Z"
    },
    "papermill": {
     "duration": 0.473161,
     "end_time": "2022-09-17T00:46:23.113692",
     "exception": false,
     "start_time": "2022-09-17T00:46:22.640531",
     "status": "completed"
    },
    "tags": []
   },
   "outputs": [],
   "source": [
    "#hide\n",
    "COL_REGION = 'Country/Region'\n",
    "# Confirmed, Recovered, Deaths\n",
    "df = get_frame('confirmed')\n",
    "# dft_: timeseries, dfc_: today country agg\n",
    "dft_cases = df\n",
    "dft_deaths = get_frame('deaths')\n",
    "dft_recovered = get_frame('recovered')\n",
    "LAST_DATE_I, dt_cols = get_dates(df)"
   ]
  },
  {
   "cell_type": "code",
   "execution_count": 10,
   "id": "absolute-copper",
   "metadata": {
    "execution": {
     "iopub.execute_input": "2022-09-17T00:46:23.188677Z",
     "iopub.status.busy": "2022-09-17T00:46:23.187963Z",
     "iopub.status.idle": "2022-09-17T00:46:23.190749Z",
     "shell.execute_reply": "2022-09-17T00:46:23.190190Z"
    },
    "papermill": {
     "duration": 0.043163,
     "end_time": "2022-09-17T00:46:23.190998",
     "exception": false,
     "start_time": "2022-09-17T00:46:23.147835",
     "status": "completed"
    },
    "tags": []
   },
   "outputs": [],
   "source": [
    "#hide\n",
    "LAST_DATE_I, dt_cols = get_dates(df)\n",
    "dt_today =dt_cols[LAST_DATE_I]\n",
    "# dt_5day = dt_cols[LAST_DATE_I - 5]\n",
    "dt_yday = dt_cols[LAST_DATE_I - 1]"
   ]
  },
  {
   "cell_type": "code",
   "execution_count": 11,
   "id": "restricted-sheriff",
   "metadata": {
    "execution": {
     "iopub.execute_input": "2022-09-17T00:46:23.271232Z",
     "iopub.status.busy": "2022-09-17T00:46:23.270506Z",
     "iopub.status.idle": "2022-09-17T00:46:23.280139Z",
     "shell.execute_reply": "2022-09-17T00:46:23.279540Z"
    },
    "papermill": {
     "duration": 0.049253,
     "end_time": "2022-09-17T00:46:23.280277",
     "exception": false,
     "start_time": "2022-09-17T00:46:23.231024",
     "status": "completed"
    },
    "tags": []
   },
   "outputs": [],
   "source": [
    "#hide\n",
    "dfc_cases = dft_cases.groupby(COL_REGION)[dt_today].sum()\n",
    "dfc_deaths = dft_deaths.groupby(COL_REGION)[dt_today].sum()\n",
    "# dfp_cases = dft_cases.groupby(COL_REGION)[dt_5day].sum()\n",
    "# dfp_deaths = dft_deaths.groupby(COL_REGION)[dt_5day].sum()\n",
    "dfp_cases = dft_cases.groupby(COL_REGION)[dt_yday].sum()\n",
    "dfp_deaths = dft_deaths.groupby(COL_REGION)[dt_yday].sum()"
   ]
  },
  {
   "cell_type": "code",
   "execution_count": 12,
   "id": "deluxe-hepatitis",
   "metadata": {
    "execution": {
     "iopub.execute_input": "2022-09-17T00:46:23.354931Z",
     "iopub.status.busy": "2022-09-17T00:46:23.354221Z",
     "iopub.status.idle": "2022-09-17T00:46:23.359880Z",
     "shell.execute_reply": "2022-09-17T00:46:23.359325Z"
    },
    "papermill": {
     "duration": 0.045976,
     "end_time": "2022-09-17T00:46:23.360008",
     "exception": false,
     "start_time": "2022-09-17T00:46:23.314032",
     "status": "completed"
    },
    "tags": []
   },
   "outputs": [],
   "source": [
    "#hide\n",
    "df_table = (pd.DataFrame(dict(Cases = dfc_cases, Deaths = dfc_deaths, PCases = dfp_cases, PDeaths = dfp_deaths))\n",
    "            .sort_values(by = ['Cases','Deaths'], ascending = [False, False])\n",
    "            .reset_index())"
   ]
  },
  {
   "cell_type": "code",
   "execution_count": 13,
   "id": "educational-chancellor",
   "metadata": {
    "execution": {
     "iopub.execute_input": "2022-09-17T00:46:23.437264Z",
     "iopub.status.busy": "2022-09-17T00:46:23.436566Z",
     "iopub.status.idle": "2022-09-17T00:46:23.457887Z",
     "shell.execute_reply": "2022-09-17T00:46:23.458641Z"
    },
    "papermill": {
     "duration": 0.06505,
     "end_time": "2022-09-17T00:46:23.458801",
     "exception": false,
     "start_time": "2022-09-17T00:46:23.393751",
     "status": "completed"
    },
    "tags": []
   },
   "outputs": [
    {
     "data": {
      "text/html": [
       "<div>\n",
       "<style scoped>\n",
       "    .dataframe tbody tr th:only-of-type {\n",
       "        vertical-align: middle;\n",
       "    }\n",
       "\n",
       "    .dataframe tbody tr th {\n",
       "        vertical-align: top;\n",
       "    }\n",
       "\n",
       "    .dataframe thead th {\n",
       "        text-align: right;\n",
       "    }\n",
       "</style>\n",
       "<table border=\"1\" class=\"dataframe\">\n",
       "  <thead>\n",
       "    <tr style=\"text-align: right;\">\n",
       "      <th></th>\n",
       "      <th>Country/Region</th>\n",
       "      <th>Cases</th>\n",
       "      <th>Deaths</th>\n",
       "      <th>PCases</th>\n",
       "      <th>PDeaths</th>\n",
       "      <th>Cases (+)</th>\n",
       "      <th>Deaths (+)</th>\n",
       "      <th>Fatality Rate</th>\n",
       "      <th>Continent</th>\n",
       "    </tr>\n",
       "  </thead>\n",
       "  <tbody>\n",
       "    <tr>\n",
       "      <th>0</th>\n",
       "      <td>US</td>\n",
       "      <td>95586479</td>\n",
       "      <td>1052939</td>\n",
       "      <td>95456800</td>\n",
       "      <td>1052313</td>\n",
       "      <td>129679</td>\n",
       "      <td>626</td>\n",
       "      <td>1.10</td>\n",
       "      <td>North America</td>\n",
       "    </tr>\n",
       "    <tr>\n",
       "      <th>1</th>\n",
       "      <td>India</td>\n",
       "      <td>44522777</td>\n",
       "      <td>528273</td>\n",
       "      <td>44516479</td>\n",
       "      <td>528250</td>\n",
       "      <td>6298</td>\n",
       "      <td>23</td>\n",
       "      <td>1.19</td>\n",
       "      <td>Asia</td>\n",
       "    </tr>\n",
       "    <tr>\n",
       "      <th>2</th>\n",
       "      <td>France</td>\n",
       "      <td>35048305</td>\n",
       "      <td>155684</td>\n",
       "      <td>35015024</td>\n",
       "      <td>155651</td>\n",
       "      <td>33281</td>\n",
       "      <td>33</td>\n",
       "      <td>0.44</td>\n",
       "      <td>Europe</td>\n",
       "    </tr>\n",
       "    <tr>\n",
       "      <th>3</th>\n",
       "      <td>Brazil</td>\n",
       "      <td>34568833</td>\n",
       "      <td>685203</td>\n",
       "      <td>34558902</td>\n",
       "      <td>685121</td>\n",
       "      <td>9931</td>\n",
       "      <td>82</td>\n",
       "      <td>1.98</td>\n",
       "      <td>South America</td>\n",
       "    </tr>\n",
       "    <tr>\n",
       "      <th>4</th>\n",
       "      <td>Germany</td>\n",
       "      <td>32643742</td>\n",
       "      <td>148845</td>\n",
       "      <td>32604993</td>\n",
       "      <td>148728</td>\n",
       "      <td>38749</td>\n",
       "      <td>117</td>\n",
       "      <td>0.46</td>\n",
       "      <td>Europe</td>\n",
       "    </tr>\n",
       "  </tbody>\n",
       "</table>\n",
       "</div>"
      ],
      "text/plain": [
       "  Country/Region     Cases   Deaths    PCases  PDeaths  Cases (+)  Deaths (+)  \\\n",
       "0             US  95586479  1052939  95456800  1052313     129679         626   \n",
       "1          India  44522777   528273  44516479   528250       6298          23   \n",
       "2         France  35048305   155684  35015024   155651      33281          33   \n",
       "3         Brazil  34568833   685203  34558902   685121       9931          82   \n",
       "4        Germany  32643742   148845  32604993   148728      38749         117   \n",
       "\n",
       "   Fatality Rate      Continent  \n",
       "0           1.10  North America  \n",
       "1           1.19           Asia  \n",
       "2           0.44         Europe  \n",
       "3           1.98  South America  \n",
       "4           0.46         Europe  "
      ]
     },
     "execution_count": 13,
     "metadata": {},
     "output_type": "execute_result"
    }
   ],
   "source": [
    "#hide\n",
    "for c in 'Cases, Deaths'.split(', '):\n",
    "    df_table[f'{c} (+)'] = (df_table[c] - df_table[f'P{c}']).clip(0)\n",
    "    #Clip ça veut dire, les chiffres negatif sont interdit\n",
    "df_table['Fatality Rate'] = (100* df_table['Deaths']/ df_table['Cases']).round(2)\n",
    "df_table['Continent'] = df_table['Country/Region'].map(mapping['map.continent'])\n",
    "df_table.head(5)"
   ]
  },
  {
   "cell_type": "code",
   "execution_count": 14,
   "id": "aboriginal-bulgaria",
   "metadata": {
    "execution": {
     "iopub.execute_input": "2022-09-17T00:46:23.535215Z",
     "iopub.status.busy": "2022-09-17T00:46:23.534511Z",
     "iopub.status.idle": "2022-09-17T00:46:23.537392Z",
     "shell.execute_reply": "2022-09-17T00:46:23.538090Z"
    },
    "papermill": {
     "duration": 0.044991,
     "end_time": "2022-09-17T00:46:23.538250",
     "exception": false,
     "start_time": "2022-09-17T00:46:23.493259",
     "status": "completed"
    },
    "tags": []
   },
   "outputs": [],
   "source": [
    "#hide\n",
    "#delete problematic countries from table\n",
    "df_table = df_table[~df_table['Country/Region'].isin(['Cape Verde', 'Cruise Ship', 'Kosovo'])]"
   ]
  },
  {
   "cell_type": "code",
   "execution_count": 15,
   "id": "fantastic-effect",
   "metadata": {
    "execution": {
     "iopub.execute_input": "2022-09-17T00:46:23.623807Z",
     "iopub.status.busy": "2022-09-17T00:46:23.623068Z",
     "iopub.status.idle": "2022-09-17T00:46:23.643259Z",
     "shell.execute_reply": "2022-09-17T00:46:23.643807Z"
    },
    "papermill": {
     "duration": 0.071457,
     "end_time": "2022-09-17T00:46:23.643966",
     "exception": false,
     "start_time": "2022-09-17T00:46:23.572509",
     "status": "completed"
    },
    "tags": []
   },
   "outputs": [
    {
     "data": {
      "text/html": [
       "<div>\n",
       "<style scoped>\n",
       "    .dataframe tbody tr th:only-of-type {\n",
       "        vertical-align: middle;\n",
       "    }\n",
       "\n",
       "    .dataframe tbody tr th {\n",
       "        vertical-align: top;\n",
       "    }\n",
       "\n",
       "    .dataframe thead th {\n",
       "        text-align: right;\n",
       "    }\n",
       "</style>\n",
       "<table border=\"1\" class=\"dataframe\">\n",
       "  <thead>\n",
       "    <tr style=\"text-align: right;\">\n",
       "      <th></th>\n",
       "      <th>Country/Region</th>\n",
       "      <th>Cases</th>\n",
       "      <th>Deaths</th>\n",
       "      <th>PCases</th>\n",
       "      <th>PDeaths</th>\n",
       "      <th>Cases (+)</th>\n",
       "      <th>Deaths (+)</th>\n",
       "      <th>Fatality Rate</th>\n",
       "      <th>Continent</th>\n",
       "    </tr>\n",
       "  </thead>\n",
       "  <tbody>\n",
       "    <tr>\n",
       "      <th>0</th>\n",
       "      <td>US</td>\n",
       "      <td>95586479</td>\n",
       "      <td>1052939</td>\n",
       "      <td>95456800</td>\n",
       "      <td>1052313</td>\n",
       "      <td>129679</td>\n",
       "      <td>626</td>\n",
       "      <td>1.1</td>\n",
       "      <td>North America</td>\n",
       "    </tr>\n",
       "    <tr>\n",
       "      <th>1</th>\n",
       "      <td>India</td>\n",
       "      <td>44522777</td>\n",
       "      <td>528273</td>\n",
       "      <td>44516479</td>\n",
       "      <td>528250</td>\n",
       "      <td>6298</td>\n",
       "      <td>23</td>\n",
       "      <td>1.2</td>\n",
       "      <td>Asia</td>\n",
       "    </tr>\n",
       "    <tr>\n",
       "      <th>2</th>\n",
       "      <td>France</td>\n",
       "      <td>35048305</td>\n",
       "      <td>155684</td>\n",
       "      <td>35015024</td>\n",
       "      <td>155651</td>\n",
       "      <td>33281</td>\n",
       "      <td>33</td>\n",
       "      <td>0.4</td>\n",
       "      <td>Europe</td>\n",
       "    </tr>\n",
       "    <tr>\n",
       "      <th>3</th>\n",
       "      <td>Brazil</td>\n",
       "      <td>34568833</td>\n",
       "      <td>685203</td>\n",
       "      <td>34558902</td>\n",
       "      <td>685121</td>\n",
       "      <td>9931</td>\n",
       "      <td>82</td>\n",
       "      <td>2.0</td>\n",
       "      <td>South America</td>\n",
       "    </tr>\n",
       "    <tr>\n",
       "      <th>4</th>\n",
       "      <td>Germany</td>\n",
       "      <td>32643742</td>\n",
       "      <td>148845</td>\n",
       "      <td>32604993</td>\n",
       "      <td>148728</td>\n",
       "      <td>38749</td>\n",
       "      <td>117</td>\n",
       "      <td>0.5</td>\n",
       "      <td>Europe</td>\n",
       "    </tr>\n",
       "  </tbody>\n",
       "</table>\n",
       "</div>"
      ],
      "text/plain": [
       "  Country/Region     Cases   Deaths    PCases  PDeaths  Cases (+)  Deaths (+)  \\\n",
       "0             US  95586479  1052939  95456800  1052313     129679         626   \n",
       "1          India  44522777   528273  44516479   528250       6298          23   \n",
       "2         France  35048305   155684  35015024   155651      33281          33   \n",
       "3         Brazil  34568833   685203  34558902   685121       9931          82   \n",
       "4        Germany  32643742   148845  32604993   148728      38749         117   \n",
       "\n",
       "   Fatality Rate      Continent  \n",
       "0            1.1  North America  \n",
       "1            1.2           Asia  \n",
       "2            0.4         Europe  \n",
       "3            2.0  South America  \n",
       "4            0.5         Europe  "
      ]
     },
     "execution_count": 15,
     "metadata": {},
     "output_type": "execute_result"
    }
   ],
   "source": [
    "#hide\n",
    "df_table = (pd.DataFrame(dict(Cases=dfc_cases, Deaths=dfc_deaths, PCases=dfp_cases, PDeaths=dfp_deaths))\n",
    "             .sort_values(by=['Cases', 'Deaths'], ascending=[False, False])\n",
    "             .reset_index())\n",
    "df_table.rename(columns={'index': 'Country/Region'}, inplace=True)\n",
    "for c in 'Cases, Deaths'.split(', '):\n",
    "    df_table[f'{c} (+)'] = (df_table[c] - df_table[f'P{c}']).clip(0)  # DATA BUG\n",
    "df_table['Fatality Rate'] = (100 * df_table['Deaths'] / df_table['Cases']).round(1)\n",
    "df_table['Continent'] = df_table['Country/Region'].map(mapping['map.continent'])\n",
    "df_table.head(5)"
   ]
  },
  {
   "cell_type": "code",
   "execution_count": 16,
   "id": "fewer-occasion",
   "metadata": {
    "execution": {
     "iopub.execute_input": "2022-09-17T00:46:23.720940Z",
     "iopub.status.busy": "2022-09-17T00:46:23.720193Z",
     "iopub.status.idle": "2022-09-17T00:46:23.725038Z",
     "shell.execute_reply": "2022-09-17T00:46:23.724436Z"
    },
    "papermill": {
     "duration": 0.046153,
     "end_time": "2022-09-17T00:46:23.725175",
     "exception": false,
     "start_time": "2022-09-17T00:46:23.679022",
     "status": "completed"
    },
    "tags": []
   },
   "outputs": [],
   "source": [
    "#hide\n",
    "#delete problematic countries from table\n",
    "df_table = df_table[~df_table['Country/Region'].isin(['Cape Verde', 'Cruise Ship', 'Kosovo'])]"
   ]
  },
  {
   "cell_type": "code",
   "execution_count": 17,
   "id": "related-center",
   "metadata": {
    "execution": {
     "iopub.execute_input": "2022-09-17T00:46:23.815704Z",
     "iopub.status.busy": "2022-09-17T00:46:23.814953Z",
     "iopub.status.idle": "2022-09-17T00:46:23.818370Z",
     "shell.execute_reply": "2022-09-17T00:46:23.817777Z"
    },
    "papermill": {
     "duration": 0.058593,
     "end_time": "2022-09-17T00:46:23.818503",
     "exception": false,
     "start_time": "2022-09-17T00:46:23.759910",
     "status": "completed"
    },
    "tags": []
   },
   "outputs": [],
   "source": [
    "#hide\n",
    "metrics = [df_table.columns[index] for index in [1,2,5,6]]\n",
    "# s_china = df_table[df_table['Country/Region'].eq('China')][metrics].sum().add_prefix('China ')\n",
    "s_us = df_table[df_table['Country/Region'].eq('US')][metrics].sum().add_prefix('US ')\n",
    "s_eu = df_table[df_table['Continent'].eq('Europe')][metrics].sum().add_prefix('EU ')\n",
    "s_ind = df_table[df_table['Country/Region'].eq('India')][metrics].sum().add_prefix('India ')\n",
    "summary = {'updated': pd.to_datetime(dt_today), 'since': pd.to_datetime(dt_yday)}\n",
    "summary = {'updated': pd.to_datetime(dt_today), 'since': pd.to_datetime(dt_yday)}\n",
    "summary = {**summary, **df_table[metrics].sum(), **s_ind, **s_us, **s_eu}"
   ]
  },
  {
   "cell_type": "code",
   "execution_count": 18,
   "id": "engaging-syndrome",
   "metadata": {
    "execution": {
     "iopub.execute_input": "2022-09-17T00:46:23.895087Z",
     "iopub.status.busy": "2022-09-17T00:46:23.894401Z",
     "iopub.status.idle": "2022-09-17T00:46:23.917728Z",
     "shell.execute_reply": "2022-09-17T00:46:23.917128Z"
    },
    "papermill": {
     "duration": 0.064498,
     "end_time": "2022-09-17T00:46:23.917870",
     "exception": false,
     "start_time": "2022-09-17T00:46:23.853372",
     "status": "completed"
    },
    "tags": []
   },
   "outputs": [],
   "source": [
    "#hide\n",
    "dft_ct_new_cases = dft_cases.groupby(COL_REGION)[dt_cols].sum().diff(axis=1).fillna(0).astype(int)"
   ]
  },
  {
   "cell_type": "code",
   "execution_count": 19,
   "id": "neutral-assignment",
   "metadata": {
    "execution": {
     "iopub.execute_input": "2022-09-17T00:46:23.995216Z",
     "iopub.status.busy": "2022-09-17T00:46:23.994472Z",
     "iopub.status.idle": "2022-09-17T00:46:23.997288Z",
     "shell.execute_reply": "2022-09-17T00:46:23.996727Z"
    },
    "papermill": {
     "duration": 0.044843,
     "end_time": "2022-09-17T00:46:23.997418",
     "exception": false,
     "start_time": "2022-09-17T00:46:23.952575",
     "status": "completed"
    },
    "tags": []
   },
   "outputs": [],
   "source": [
    "#hide\n",
    "everydaycases = dft_ct_new_cases.cumsum(axis=1)"
   ]
  },
  {
   "cell_type": "code",
   "execution_count": 20,
   "id": "parliamentary-calgary",
   "metadata": {
    "execution": {
     "iopub.execute_input": "2022-09-17T00:46:24.074045Z",
     "iopub.status.busy": "2022-09-17T00:46:24.073260Z",
     "iopub.status.idle": "2022-09-17T00:46:24.720496Z",
     "shell.execute_reply": "2022-09-17T00:46:24.719897Z"
    },
    "papermill": {
     "duration": 0.688116,
     "end_time": "2022-09-17T00:46:24.720647",
     "exception": false,
     "start_time": "2022-09-17T00:46:24.032531",
     "status": "completed"
    },
    "tags": []
   },
   "outputs": [],
   "source": [
    "#hide\n",
    "import pandas as pd\n",
    "import matplotlib.pyplot as plt\n",
    "import matplotlib.ticker as ticker\n",
    "import matplotlib.animation as animation\n",
    "from IPython.display import HTML"
   ]
  },
  {
   "cell_type": "code",
   "execution_count": 21,
   "id": "lasting-extraction",
   "metadata": {
    "execution": {
     "iopub.execute_input": "2022-09-17T00:46:24.801065Z",
     "iopub.status.busy": "2022-09-17T00:46:24.800358Z",
     "iopub.status.idle": "2022-09-17T00:46:24.808801Z",
     "shell.execute_reply": "2022-09-17T00:46:24.809364Z"
    },
    "papermill": {
     "duration": 0.054007,
     "end_time": "2022-09-17T00:46:24.809518",
     "exception": false,
     "start_time": "2022-09-17T00:46:24.755511",
     "status": "completed"
    },
    "tags": []
   },
   "outputs": [],
   "source": [
    "#hide\n",
    "t = everydaycases.stack()"
   ]
  },
  {
   "cell_type": "code",
   "execution_count": 22,
   "id": "premier-sleeve",
   "metadata": {
    "execution": {
     "iopub.execute_input": "2022-09-17T00:46:24.885355Z",
     "iopub.status.busy": "2022-09-17T00:46:24.884649Z",
     "iopub.status.idle": "2022-09-17T00:46:24.899026Z",
     "shell.execute_reply": "2022-09-17T00:46:24.898339Z"
    },
    "papermill": {
     "duration": 0.054819,
     "end_time": "2022-09-17T00:46:24.899161",
     "exception": false,
     "start_time": "2022-09-17T00:46:24.844342",
     "status": "completed"
    },
    "tags": []
   },
   "outputs": [],
   "source": [
    "#hide\n",
    "g = t.reset_index(['Country/Region'])"
   ]
  },
  {
   "cell_type": "code",
   "execution_count": 23,
   "id": "distributed-pittsburgh",
   "metadata": {
    "execution": {
     "iopub.execute_input": "2022-09-17T00:46:24.975300Z",
     "iopub.status.busy": "2022-09-17T00:46:24.974032Z",
     "iopub.status.idle": "2022-09-17T00:46:24.976093Z",
     "shell.execute_reply": "2022-09-17T00:46:24.976621Z"
    },
    "papermill": {
     "duration": 0.04316,
     "end_time": "2022-09-17T00:46:24.976772",
     "exception": false,
     "start_time": "2022-09-17T00:46:24.933612",
     "status": "completed"
    },
    "tags": []
   },
   "outputs": [],
   "source": [
    "#hide\n",
    "g.index.name = 'date'"
   ]
  },
  {
   "cell_type": "code",
   "execution_count": 24,
   "id": "naked-donor",
   "metadata": {
    "execution": {
     "iopub.execute_input": "2022-09-17T00:46:25.053105Z",
     "iopub.status.busy": "2022-09-17T00:46:25.051880Z",
     "iopub.status.idle": "2022-09-17T00:46:25.054451Z",
     "shell.execute_reply": "2022-09-17T00:46:25.055365Z"
    },
    "papermill": {
     "duration": 0.043871,
     "end_time": "2022-09-17T00:46:25.055598",
     "exception": false,
     "start_time": "2022-09-17T00:46:25.011727",
     "status": "completed"
    },
    "tags": []
   },
   "outputs": [],
   "source": [
    "# #hide\n",
    "# g = g.reset_index(['date'])"
   ]
  },
  {
   "cell_type": "code",
   "execution_count": 25,
   "id": "incomplete-mustang",
   "metadata": {
    "execution": {
     "iopub.execute_input": "2022-09-17T00:46:25.130313Z",
     "iopub.status.busy": "2022-09-17T00:46:25.129554Z",
     "iopub.status.idle": "2022-09-17T00:46:25.133322Z",
     "shell.execute_reply": "2022-09-17T00:46:25.132754Z"
    },
    "papermill": {
     "duration": 0.042585,
     "end_time": "2022-09-17T00:46:25.133451",
     "exception": false,
     "start_time": "2022-09-17T00:46:25.090866",
     "status": "completed"
    },
    "tags": []
   },
   "outputs": [],
   "source": [
    "#hide\n",
    "# g.head()"
   ]
  },
  {
   "cell_type": "code",
   "execution_count": 26,
   "id": "specific-kruger",
   "metadata": {
    "execution": {
     "iopub.execute_input": "2022-09-17T00:46:25.208528Z",
     "iopub.status.busy": "2022-09-17T00:46:25.207607Z",
     "iopub.status.idle": "2022-09-17T00:46:25.211796Z",
     "shell.execute_reply": "2022-09-17T00:46:25.212331Z"
    },
    "papermill": {
     "duration": 0.044156,
     "end_time": "2022-09-17T00:46:25.212488",
     "exception": false,
     "start_time": "2022-09-17T00:46:25.168332",
     "status": "completed"
    },
    "tags": []
   },
   "outputs": [],
   "source": [
    "#hide\n",
    "# g.columns = ['date','country','cases']"
   ]
  },
  {
   "cell_type": "code",
   "execution_count": 27,
   "id": "tender-conversion",
   "metadata": {
    "execution": {
     "iopub.execute_input": "2022-09-17T00:46:25.288406Z",
     "iopub.status.busy": "2022-09-17T00:46:25.287187Z",
     "iopub.status.idle": "2022-09-17T00:46:25.289739Z",
     "shell.execute_reply": "2022-09-17T00:46:25.290504Z"
    },
    "papermill": {
     "duration": 0.043406,
     "end_time": "2022-09-17T00:46:25.290650",
     "exception": false,
     "start_time": "2022-09-17T00:46:25.247244",
     "status": "completed"
    },
    "tags": []
   },
   "outputs": [],
   "source": [
    "#hide\n",
    "# g['continent'] = g.country"
   ]
  },
  {
   "cell_type": "code",
   "execution_count": 28,
   "id": "substantial-wilderness",
   "metadata": {
    "execution": {
     "iopub.execute_input": "2022-09-17T00:46:25.365206Z",
     "iopub.status.busy": "2022-09-17T00:46:25.364396Z",
     "iopub.status.idle": "2022-09-17T00:46:25.366458Z",
     "shell.execute_reply": "2022-09-17T00:46:25.367077Z"
    },
    "papermill": {
     "duration": 0.04194,
     "end_time": "2022-09-17T00:46:25.367239",
     "exception": false,
     "start_time": "2022-09-17T00:46:25.325299",
     "status": "completed"
    },
    "tags": []
   },
   "outputs": [],
   "source": [
    "#hide\n",
    "# cols = list(g.columns.values)"
   ]
  },
  {
   "cell_type": "code",
   "execution_count": 29,
   "id": "solved-farming",
   "metadata": {
    "execution": {
     "iopub.execute_input": "2022-09-17T00:46:25.443779Z",
     "iopub.status.busy": "2022-09-17T00:46:25.442790Z",
     "iopub.status.idle": "2022-09-17T00:46:25.444529Z",
     "shell.execute_reply": "2022-09-17T00:46:25.445037Z"
    },
    "papermill": {
     "duration": 0.042744,
     "end_time": "2022-09-17T00:46:25.445185",
     "exception": false,
     "start_time": "2022-09-17T00:46:25.402441",
     "status": "completed"
    },
    "tags": []
   },
   "outputs": [],
   "source": [
    "#hide\n",
    "# cols.insert(0, cols.pop())"
   ]
  },
  {
   "cell_type": "code",
   "execution_count": 30,
   "id": "executed-adoption",
   "metadata": {
    "execution": {
     "iopub.execute_input": "2022-09-17T00:46:25.520995Z",
     "iopub.status.busy": "2022-09-17T00:46:25.519758Z",
     "iopub.status.idle": "2022-09-17T00:46:25.522373Z",
     "shell.execute_reply": "2022-09-17T00:46:25.523279Z"
    },
    "papermill": {
     "duration": 0.043806,
     "end_time": "2022-09-17T00:46:25.523515",
     "exception": false,
     "start_time": "2022-09-17T00:46:25.479709",
     "status": "completed"
    },
    "tags": []
   },
   "outputs": [],
   "source": [
    "#hide\n",
    "# g = g[cols]"
   ]
  },
  {
   "cell_type": "code",
   "execution_count": 31,
   "id": "subject-dublin",
   "metadata": {
    "execution": {
     "iopub.execute_input": "2022-09-17T00:46:25.597842Z",
     "iopub.status.busy": "2022-09-17T00:46:25.597097Z",
     "iopub.status.idle": "2022-09-17T00:46:25.599859Z",
     "shell.execute_reply": "2022-09-17T00:46:25.599197Z"
    },
    "papermill": {
     "duration": 0.041688,
     "end_time": "2022-09-17T00:46:25.599986",
     "exception": false,
     "start_time": "2022-09-17T00:46:25.558298",
     "status": "completed"
    },
    "tags": []
   },
   "outputs": [],
   "source": [
    "#hide\n",
    "# g['continent'] = g['continent'].map(mapping['map.continent'])"
   ]
  },
  {
   "cell_type": "code",
   "execution_count": 32,
   "id": "freelance-scout",
   "metadata": {
    "execution": {
     "iopub.execute_input": "2022-09-17T00:46:25.673965Z",
     "iopub.status.busy": "2022-09-17T00:46:25.673186Z",
     "iopub.status.idle": "2022-09-17T00:46:25.677893Z",
     "shell.execute_reply": "2022-09-17T00:46:25.677291Z"
    },
    "papermill": {
     "duration": 0.042984,
     "end_time": "2022-09-17T00:46:25.678027",
     "exception": false,
     "start_time": "2022-09-17T00:46:25.635043",
     "status": "completed"
    },
    "tags": []
   },
   "outputs": [],
   "source": [
    "#hide\n",
    "# g.head()"
   ]
  },
  {
   "cell_type": "code",
   "execution_count": 33,
   "id": "limited-engine",
   "metadata": {
    "execution": {
     "iopub.execute_input": "2022-09-17T00:46:25.753620Z",
     "iopub.status.busy": "2022-09-17T00:46:25.752398Z",
     "iopub.status.idle": "2022-09-17T00:46:25.754991Z",
     "shell.execute_reply": "2022-09-17T00:46:25.755893Z"
    },
    "papermill": {
     "duration": 0.043645,
     "end_time": "2022-09-17T00:46:25.756123",
     "exception": false,
     "start_time": "2022-09-17T00:46:25.712478",
     "status": "completed"
    },
    "tags": []
   },
   "outputs": [],
   "source": [
    "# hide\n",
    "# g['date'] = g['date'].astype('datetime64[ns]')"
   ]
  },
  {
   "cell_type": "code",
   "execution_count": 34,
   "id": "sophisticated-supervisor",
   "metadata": {
    "execution": {
     "iopub.execute_input": "2022-09-17T00:46:25.831723Z",
     "iopub.status.busy": "2022-09-17T00:46:25.831010Z",
     "iopub.status.idle": "2022-09-17T00:46:25.835118Z",
     "shell.execute_reply": "2022-09-17T00:46:25.835610Z"
    },
    "papermill": {
     "duration": 0.043899,
     "end_time": "2022-09-17T00:46:25.835760",
     "exception": false,
     "start_time": "2022-09-17T00:46:25.791861",
     "status": "completed"
    },
    "tags": []
   },
   "outputs": [],
   "source": [
    "#hide\n",
    "# g['date'] = g.date.dt.dayofyear"
   ]
  },
  {
   "cell_type": "code",
   "execution_count": 35,
   "id": "inside-dubai",
   "metadata": {
    "execution": {
     "iopub.execute_input": "2022-09-17T00:46:25.911048Z",
     "iopub.status.busy": "2022-09-17T00:46:25.910040Z",
     "iopub.status.idle": "2022-09-17T00:46:25.913923Z",
     "shell.execute_reply": "2022-09-17T00:46:25.912753Z"
    },
    "papermill": {
     "duration": 0.043941,
     "end_time": "2022-09-17T00:46:25.914358",
     "exception": false,
     "start_time": "2022-09-17T00:46:25.870417",
     "status": "completed"
    },
    "tags": []
   },
   "outputs": [],
   "source": [
    "#hide\n",
    "# g = g.rename(columns= {'continent':'group','country':'name','cases':'value'})"
   ]
  },
  {
   "cell_type": "code",
   "execution_count": 36,
   "id": "fleet-motorcycle",
   "metadata": {
    "execution": {
     "iopub.execute_input": "2022-09-17T00:46:25.994352Z",
     "iopub.status.busy": "2022-09-17T00:46:25.993594Z",
     "iopub.status.idle": "2022-09-17T00:46:25.996187Z",
     "shell.execute_reply": "2022-09-17T00:46:25.995532Z"
    },
    "papermill": {
     "duration": 0.041675,
     "end_time": "2022-09-17T00:46:25.996312",
     "exception": false,
     "start_time": "2022-09-17T00:46:25.954637",
     "status": "completed"
    },
    "tags": []
   },
   "outputs": [],
   "source": [
    "#hide\n",
    "# cols = ['name','group','day','value']"
   ]
  },
  {
   "cell_type": "code",
   "execution_count": 37,
   "id": "continued-sleeping",
   "metadata": {
    "execution": {
     "iopub.execute_input": "2022-09-17T00:46:26.070676Z",
     "iopub.status.busy": "2022-09-17T00:46:26.069949Z",
     "iopub.status.idle": "2022-09-17T00:46:26.072769Z",
     "shell.execute_reply": "2022-09-17T00:46:26.072207Z"
    },
    "papermill": {
     "duration": 0.041883,
     "end_time": "2022-09-17T00:46:26.072897",
     "exception": false,
     "start_time": "2022-09-17T00:46:26.031014",
     "status": "completed"
    },
    "tags": []
   },
   "outputs": [],
   "source": [
    "#hide\n",
    "# g.rename(columns= {'date':'day'},inplace = True)"
   ]
  },
  {
   "cell_type": "code",
   "execution_count": 38,
   "id": "major-fight",
   "metadata": {
    "execution": {
     "iopub.execute_input": "2022-09-17T00:46:26.147278Z",
     "iopub.status.busy": "2022-09-17T00:46:26.146321Z",
     "iopub.status.idle": "2022-09-17T00:46:26.148581Z",
     "shell.execute_reply": "2022-09-17T00:46:26.149271Z"
    },
    "papermill": {
     "duration": 0.041756,
     "end_time": "2022-09-17T00:46:26.149425",
     "exception": false,
     "start_time": "2022-09-17T00:46:26.107669",
     "status": "completed"
    },
    "tags": []
   },
   "outputs": [],
   "source": [
    "#hide\n",
    "# g = g[cols]"
   ]
  },
  {
   "cell_type": "code",
   "execution_count": 39,
   "id": "structured-mobile",
   "metadata": {
    "execution": {
     "iopub.execute_input": "2022-09-17T00:46:26.223115Z",
     "iopub.status.busy": "2022-09-17T00:46:26.222423Z",
     "iopub.status.idle": "2022-09-17T00:46:26.224930Z",
     "shell.execute_reply": "2022-09-17T00:46:26.225455Z"
    },
    "papermill": {
     "duration": 0.041602,
     "end_time": "2022-09-17T00:46:26.225604",
     "exception": false,
     "start_time": "2022-09-17T00:46:26.184002",
     "status": "completed"
    },
    "tags": []
   },
   "outputs": [],
   "source": [
    "# #hide\n",
    "# g = g[g.group.notna()]"
   ]
  },
  {
   "cell_type": "code",
   "execution_count": 40,
   "id": "determined-closing",
   "metadata": {
    "execution": {
     "iopub.execute_input": "2022-09-17T00:46:26.299652Z",
     "iopub.status.busy": "2022-09-17T00:46:26.298974Z",
     "iopub.status.idle": "2022-09-17T00:46:26.301239Z",
     "shell.execute_reply": "2022-09-17T00:46:26.301791Z"
    },
    "papermill": {
     "duration": 0.041478,
     "end_time": "2022-09-17T00:46:26.301945",
     "exception": false,
     "start_time": "2022-09-17T00:46:26.260467",
     "status": "completed"
    },
    "tags": []
   },
   "outputs": [],
   "source": [
    "# #hide\n",
    "# colors = dict(zip(\n",
    "#     [\"Oceania\", \"Europe\", \"Asia\", \"South America\", \"Middle East\", \"North America\", \"Africa\"],\n",
    "#     [\"#adb0ff\", \"#ffb3ff\", \"#90d595\", \"#e48381\", \"#aafbff\", \"#f7bb5f\", \"#eafb50\"]\n",
    "# ))\n",
    "# group_lk = g.set_index('name')['group'].to_dict()"
   ]
  },
  {
   "cell_type": "code",
   "execution_count": null,
   "id": "gross-drinking",
   "metadata": {
    "papermill": {
     "duration": 0.034417,
     "end_time": "2022-09-17T00:46:26.370776",
     "exception": false,
     "start_time": "2022-09-17T00:46:26.336359",
     "status": "completed"
    },
    "tags": []
   },
   "outputs": [],
   "source": []
  },
  {
   "cell_type": "code",
   "execution_count": 41,
   "id": "subject-macintosh",
   "metadata": {
    "execution": {
     "iopub.execute_input": "2022-09-17T00:46:26.447137Z",
     "iopub.status.busy": "2022-09-17T00:46:26.446354Z",
     "iopub.status.idle": "2022-09-17T00:46:26.451983Z",
     "shell.execute_reply": "2022-09-17T00:46:26.452635Z"
    },
    "papermill": {
     "duration": 0.046565,
     "end_time": "2022-09-17T00:46:26.452788",
     "exception": false,
     "start_time": "2022-09-17T00:46:26.406223",
     "status": "completed"
    },
    "tags": []
   },
   "outputs": [],
   "source": [
    "# #hide\n",
    "# fig, ax = plt.subplots(figsize=(15, 8))\n",
    "\n",
    "# def draw_barchart(current_day):\n",
    "#     dff = g[g['day'].eq(current_day)].sort_values(by='value', ascending=True).tail(10)\n",
    "#     ax.clear()\n",
    "#     ax.barh(dff['name'], dff['value'], color=[colors[group_lk[x]] for x in dff['name']])\n",
    "#     dx = dff['value'].max() / 200\n",
    "    \n",
    "#     for i, (value, name) in enumerate(zip(dff['value'], dff['name'])):\n",
    "#         ax.text(value-dx, i,     name,           size=14, weight=600, ha='right', va='bottom')\n",
    "#         ax.text(value-dx, i-.25, group_lk[name], size=10, color='#444444', ha='right', va='baseline')\n",
    "#         ax.text(value+dx, i,     f'{value:,.0f}',  size=14, ha='left',  va='center')\n",
    "#     ax.text(1, 0.4, current_day, transform=ax.transAxes, color='#777777', size=46, ha='right', weight=800)\n",
    "#     ax.text(0, 1.06, 'Population (thousands)', transform=ax.transAxes, size=12, color='#777777')\n",
    "#     ax.xaxis.set_major_formatter(ticker.StrMethodFormatter('{x:,.0f}'))\n",
    "#     ax.xaxis.set_ticks_position('top')\n",
    "#     ax.tick_params(axis='x', colors='#777777', labelsize=12)\n",
    "#     ax.set_yticks([])\n",
    "#     ax.margins(0, 0.01)\n",
    "#     ax.grid(which='major', axis='x', linestyle='-')\n",
    "#     ax.set_axisbelow(True)\n",
    "    \n",
    "#     ax.text(0, 1.15, 'Coronavirus',\n",
    "#             transform=ax.transAxes, size=24, weight=600, ha='left', va='top')\n",
    "# #     ax.text(1, 0, 'by @pratapvardhan; credit @jburnmurdoch', transform=ax.transAxes, color='#777777', ha='right',\n",
    "# #             bbox=dict(facecolor='white', alpha=0.8, edgecolor='white'))\n",
    "#     plt.box(False)"
   ]
  },
  {
   "cell_type": "code",
   "execution_count": 42,
   "id": "sexual-wages",
   "metadata": {
    "execution": {
     "iopub.execute_input": "2022-09-17T00:46:26.526692Z",
     "iopub.status.busy": "2022-09-17T00:46:26.525967Z",
     "iopub.status.idle": "2022-09-17T00:46:26.528762Z",
     "shell.execute_reply": "2022-09-17T00:46:26.528211Z"
    },
    "papermill": {
     "duration": 0.041392,
     "end_time": "2022-09-17T00:46:26.528886",
     "exception": false,
     "start_time": "2022-09-17T00:46:26.487494",
     "status": "completed"
    },
    "tags": []
   },
   "outputs": [],
   "source": [
    "# #hide_input\n",
    "# fig, ax = plt.subplots(figsize=(15, 8))\n",
    "# animator = animation.FuncAnimation(fig, draw_barchart, frames=range(g.day.values.min(), g.day.values.max()))\n",
    "# HTML(animator.to_jshtml())\n",
    "# # or use animator.to_html5_video() or animator.save() "
   ]
  },
  {
   "cell_type": "code",
   "execution_count": null,
   "id": "australian-container",
   "metadata": {
    "papermill": {
     "duration": 0.043452,
     "end_time": "2022-09-17T00:46:26.607995",
     "exception": false,
     "start_time": "2022-09-17T00:46:26.564543",
     "status": "completed"
    },
    "tags": []
   },
   "outputs": [],
   "source": []
  },
  {
   "cell_type": "code",
   "execution_count": null,
   "id": "mediterranean-pontiac",
   "metadata": {
    "papermill": {
     "duration": 0.03583,
     "end_time": "2022-09-17T00:46:26.679683",
     "exception": false,
     "start_time": "2022-09-17T00:46:26.643853",
     "status": "completed"
    },
    "tags": []
   },
   "outputs": [],
   "source": []
  },
  {
   "cell_type": "code",
   "execution_count": null,
   "id": "aging-legislature",
   "metadata": {
    "papermill": {
     "duration": 0.039144,
     "end_time": "2022-09-17T00:46:26.755102",
     "exception": false,
     "start_time": "2022-09-17T00:46:26.715958",
     "status": "completed"
    },
    "tags": []
   },
   "outputs": [],
   "source": []
  }
 ],
 "metadata": {
  "kernelspec": {
   "display_name": "Python 3",
   "language": "python",
   "name": "python3"
  },
  "language_info": {
   "codemirror_mode": {
    "name": "ipython",
    "version": 3
   },
   "file_extension": ".py",
   "mimetype": "text/x-python",
   "name": "python",
   "nbconvert_exporter": "python",
   "pygments_lexer": "ipython3",
   "version": "3.6.15"
  },
  "papermill": {
   "duration": 7.007252,
   "end_time": "2022-09-17T00:46:27.213924",
   "environment_variables": {},
   "exception": null,
   "input_path": "2020-03-21-covid19exp.ipynb",
   "output_path": "2020-03-21-covid19exp.ipynb",
   "parameters": {},
   "start_time": "2022-09-17T00:46:20.206672",
   "version": "2.0.0"
  }
 },
 "nbformat": 4,
 "nbformat_minor": 5
}