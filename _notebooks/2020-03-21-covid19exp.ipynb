{
 "cells": [
  {
   "cell_type": "markdown",
   "id": "muslim-click",
   "metadata": {
    "papermill": {
     "duration": 0.04067,
     "end_time": "2021-03-12T12:07:26.772270",
     "exception": false,
     "start_time": "2021-03-12T12:07:26.731600",
     "status": "completed"
    },
    "tags": []
   },
   "source": [
    "# COVID-19 Case Race\n",
    "> A race chart to see rising cases around the world\n",
    "\n",
    "- author: Hargun Oberoi\n",
    "- image: images/covid-overview.png\n",
    "- hide: false\n",
    "- badges: false"
   ]
  },
  {
   "cell_type": "code",
   "execution_count": 1,
   "id": "proof-material",
   "metadata": {
    "execution": {
     "iopub.execute_input": "2021-03-12T12:07:26.860124Z",
     "iopub.status.busy": "2021-03-12T12:07:26.859423Z",
     "iopub.status.idle": "2021-03-12T12:07:27.222107Z",
     "shell.execute_reply": "2021-03-12T12:07:27.221387Z"
    },
    "papermill": {
     "duration": 0.411514,
     "end_time": "2021-03-12T12:07:27.222308",
     "exception": false,
     "start_time": "2021-03-12T12:07:26.810794",
     "status": "completed"
    },
    "tags": []
   },
   "outputs": [],
   "source": [
    "#hide\n",
    "import numpy as np\n",
    "import pandas as pd\n",
    "from jinja2 import Template\n",
    "from IPython.display import HTML"
   ]
  },
  {
   "cell_type": "code",
   "execution_count": 2,
   "id": "developed-terminology",
   "metadata": {
    "execution": {
     "iopub.execute_input": "2021-03-12T12:07:27.299663Z",
     "iopub.status.busy": "2021-03-12T12:07:27.299044Z",
     "iopub.status.idle": "2021-03-12T12:07:27.301008Z",
     "shell.execute_reply": "2021-03-12T12:07:27.301544Z"
    },
    "papermill": {
     "duration": 0.043574,
     "end_time": "2021-03-12T12:07:27.301679",
     "exception": false,
     "start_time": "2021-03-12T12:07:27.258105",
     "status": "completed"
    },
    "tags": []
   },
   "outputs": [],
   "source": [
    "#hide\n",
    "\n",
    "# FETCH\n",
    "base_url = 'https://raw.githubusercontent.com/pratapvardhan/notebooks/master/covid19/'\n",
    "paths = {\n",
    "    'mapping': base_url + 'mapping_countries.csv',\n",
    "    'overview': base_url + 'overview.tpl'\n",
    "}"
   ]
  },
  {
   "cell_type": "code",
   "execution_count": 3,
   "id": "dynamic-saver",
   "metadata": {
    "execution": {
     "iopub.execute_input": "2021-03-12T12:07:27.386522Z",
     "iopub.status.busy": "2021-03-12T12:07:27.385846Z",
     "iopub.status.idle": "2021-03-12T12:07:27.388560Z",
     "shell.execute_reply": "2021-03-12T12:07:27.389111Z"
    },
    "papermill": {
     "duration": 0.050935,
     "end_time": "2021-03-12T12:07:27.389256",
     "exception": false,
     "start_time": "2021-03-12T12:07:27.338321",
     "status": "completed"
    },
    "tags": []
   },
   "outputs": [
    {
     "data": {
      "text/plain": [
       "'https://raw.githubusercontent.com/pratapvardhan/notebooks/master/covid19/mapping_countries.csv'"
      ]
     },
     "execution_count": 3,
     "metadata": {},
     "output_type": "execute_result"
    }
   ],
   "source": [
    "#hide\n",
    "paths['mapping']"
   ]
  },
  {
   "cell_type": "code",
   "execution_count": 4,
   "id": "urban-software",
   "metadata": {
    "execution": {
     "iopub.execute_input": "2021-03-12T12:07:27.468558Z",
     "iopub.status.busy": "2021-03-12T12:07:27.467984Z",
     "iopub.status.idle": "2021-03-12T12:07:27.470432Z",
     "shell.execute_reply": "2021-03-12T12:07:27.469864Z"
    },
    "papermill": {
     "duration": 0.045926,
     "end_time": "2021-03-12T12:07:27.470579",
     "exception": false,
     "start_time": "2021-03-12T12:07:27.424653",
     "status": "completed"
    },
    "tags": []
   },
   "outputs": [],
   "source": [
    "#hide\n",
    "def get_mappings(url):\n",
    "    df = pd.read_csv(url)\n",
    "    return {\n",
    "        'df': df,\n",
    "        'replace.country': dict(df.dropna(subset=['Name']).set_index('Country')['Name']),\n",
    "        'map.continent': dict(df.set_index('Name')['Continent'])\n",
    "    }"
   ]
  },
  {
   "cell_type": "code",
   "execution_count": 5,
   "id": "intimate-machinery",
   "metadata": {
    "execution": {
     "iopub.execute_input": "2021-03-12T12:07:27.553854Z",
     "iopub.status.busy": "2021-03-12T12:07:27.553162Z",
     "iopub.status.idle": "2021-03-12T12:07:27.586566Z",
     "shell.execute_reply": "2021-03-12T12:07:27.586066Z"
    },
    "papermill": {
     "duration": 0.078403,
     "end_time": "2021-03-12T12:07:27.586688",
     "exception": false,
     "start_time": "2021-03-12T12:07:27.508285",
     "status": "completed"
    },
    "tags": []
   },
   "outputs": [],
   "source": [
    "#hide\n",
    "mapping = get_mappings(paths['mapping'])"
   ]
  },
  {
   "cell_type": "code",
   "execution_count": 6,
   "id": "certified-tactics",
   "metadata": {
    "execution": {
     "iopub.execute_input": "2021-03-12T12:07:27.666195Z",
     "iopub.status.busy": "2021-03-12T12:07:27.665595Z",
     "iopub.status.idle": "2021-03-12T12:07:27.667551Z",
     "shell.execute_reply": "2021-03-12T12:07:27.668155Z"
    },
    "papermill": {
     "duration": 0.045827,
     "end_time": "2021-03-12T12:07:27.668300",
     "exception": false,
     "start_time": "2021-03-12T12:07:27.622473",
     "status": "completed"
    },
    "tags": []
   },
   "outputs": [],
   "source": [
    "#hide\n",
    "def get_template(path):\n",
    "    from urllib.parse import urlparse\n",
    "    if bool(urlparse(path).netloc):\n",
    "        from urllib.request import urlopen\n",
    "        return urlopen(path).read().decode('utf8')\n",
    "    return open(path).read()"
   ]
  },
  {
   "cell_type": "code",
   "execution_count": 7,
   "id": "realistic-blast",
   "metadata": {
    "execution": {
     "iopub.execute_input": "2021-03-12T12:07:27.744499Z",
     "iopub.status.busy": "2021-03-12T12:07:27.743927Z",
     "iopub.status.idle": "2021-03-12T12:07:27.746266Z",
     "shell.execute_reply": "2021-03-12T12:07:27.745775Z"
    },
    "papermill": {
     "duration": 0.043245,
     "end_time": "2021-03-12T12:07:27.746379",
     "exception": false,
     "start_time": "2021-03-12T12:07:27.703134",
     "status": "completed"
    },
    "tags": []
   },
   "outputs": [],
   "source": [
    "#hide\n",
    "def get_frame(name):\n",
    "    url = (\n",
    "        'https://raw.githubusercontent.com/CSSEGISandData/COVID-19/master/csse_covid_19_data/'\n",
    "        f'csse_covid_19_time_series/time_series_covid19_{name}_global.csv')\n",
    "    df = pd.read_csv(url)\n",
    "    # rename countries\n",
    "    df['Country/Region'] = df['Country/Region'].replace(mapping['replace.country'])\n",
    "    return df"
   ]
  },
  {
   "cell_type": "code",
   "execution_count": 8,
   "id": "affiliated-characterization",
   "metadata": {
    "execution": {
     "iopub.execute_input": "2021-03-12T12:07:27.829317Z",
     "iopub.status.busy": "2021-03-12T12:07:27.828722Z",
     "iopub.status.idle": "2021-03-12T12:07:27.830647Z",
     "shell.execute_reply": "2021-03-12T12:07:27.831240Z"
    },
    "papermill": {
     "duration": 0.046192,
     "end_time": "2021-03-12T12:07:27.831368",
     "exception": false,
     "start_time": "2021-03-12T12:07:27.785176",
     "status": "completed"
    },
    "tags": []
   },
   "outputs": [],
   "source": [
    "#hide\n",
    "def get_dates(df):\n",
    "    dt_cols = df.columns[~df.columns.isin(['Province/State', 'Country/Region', 'Lat', 'Long'])]\n",
    "    LAST_DATE_I = -1\n",
    "    # sometimes last column may be empty, then go backwards\n",
    "    for i in range(-1, -len(dt_cols), -1):\n",
    "        if not df[dt_cols[i]].fillna(0).eq(0).all():\n",
    "            LAST_DATE_I = i\n",
    "            break\n",
    "    return LAST_DATE_I, dt_cols"
   ]
  },
  {
   "cell_type": "code",
   "execution_count": 9,
   "id": "recent-optimization",
   "metadata": {
    "execution": {
     "iopub.execute_input": "2021-03-12T12:07:27.911637Z",
     "iopub.status.busy": "2021-03-12T12:07:27.910452Z",
     "iopub.status.idle": "2021-03-12T12:07:28.213236Z",
     "shell.execute_reply": "2021-03-12T12:07:28.212589Z"
    },
    "papermill": {
     "duration": 0.347782,
     "end_time": "2021-03-12T12:07:28.213421",
     "exception": false,
     "start_time": "2021-03-12T12:07:27.865639",
     "status": "completed"
    },
    "tags": []
   },
   "outputs": [],
   "source": [
    "#hide\n",
    "COL_REGION = 'Country/Region'\n",
    "# Confirmed, Recovered, Deaths\n",
    "df = get_frame('confirmed')\n",
    "# dft_: timeseries, dfc_: today country agg\n",
    "dft_cases = df\n",
    "dft_deaths = get_frame('deaths')\n",
    "dft_recovered = get_frame('recovered')\n",
    "LAST_DATE_I, dt_cols = get_dates(df)"
   ]
  },
  {
   "cell_type": "code",
   "execution_count": 10,
   "id": "absolute-copper",
   "metadata": {
    "execution": {
     "iopub.execute_input": "2021-03-12T12:07:28.290719Z",
     "iopub.status.busy": "2021-03-12T12:07:28.290089Z",
     "iopub.status.idle": "2021-03-12T12:07:28.292168Z",
     "shell.execute_reply": "2021-03-12T12:07:28.292663Z"
    },
    "papermill": {
     "duration": 0.043388,
     "end_time": "2021-03-12T12:07:28.292935",
     "exception": false,
     "start_time": "2021-03-12T12:07:28.249547",
     "status": "completed"
    },
    "tags": []
   },
   "outputs": [],
   "source": [
    "#hide\n",
    "LAST_DATE_I, dt_cols = get_dates(df)\n",
    "dt_today =dt_cols[LAST_DATE_I]\n",
    "# dt_5day = dt_cols[LAST_DATE_I - 5]\n",
    "dt_yday = dt_cols[LAST_DATE_I - 1]"
   ]
  },
  {
   "cell_type": "code",
   "execution_count": 11,
   "id": "restricted-sheriff",
   "metadata": {
    "execution": {
     "iopub.execute_input": "2021-03-12T12:07:28.374965Z",
     "iopub.status.busy": "2021-03-12T12:07:28.374284Z",
     "iopub.status.idle": "2021-03-12T12:07:28.383888Z",
     "shell.execute_reply": "2021-03-12T12:07:28.383316Z"
    },
    "papermill": {
     "duration": 0.052507,
     "end_time": "2021-03-12T12:07:28.384050",
     "exception": false,
     "start_time": "2021-03-12T12:07:28.331543",
     "status": "completed"
    },
    "tags": []
   },
   "outputs": [],
   "source": [
    "#hide\n",
    "dfc_cases = dft_cases.groupby(COL_REGION)[dt_today].sum()\n",
    "dfc_deaths = dft_deaths.groupby(COL_REGION)[dt_today].sum()\n",
    "# dfp_cases = dft_cases.groupby(COL_REGION)[dt_5day].sum()\n",
    "# dfp_deaths = dft_deaths.groupby(COL_REGION)[dt_5day].sum()\n",
    "dfp_cases = dft_cases.groupby(COL_REGION)[dt_yday].sum()\n",
    "dfp_deaths = dft_deaths.groupby(COL_REGION)[dt_yday].sum()"
   ]
  },
  {
   "cell_type": "code",
   "execution_count": 12,
   "id": "deluxe-hepatitis",
   "metadata": {
    "execution": {
     "iopub.execute_input": "2021-03-12T12:07:28.474140Z",
     "iopub.status.busy": "2021-03-12T12:07:28.473354Z",
     "iopub.status.idle": "2021-03-12T12:07:28.479057Z",
     "shell.execute_reply": "2021-03-12T12:07:28.478511Z"
    },
    "papermill": {
     "duration": 0.049953,
     "end_time": "2021-03-12T12:07:28.479177",
     "exception": false,
     "start_time": "2021-03-12T12:07:28.429224",
     "status": "completed"
    },
    "tags": []
   },
   "outputs": [],
   "source": [
    "#hide\n",
    "df_table = (pd.DataFrame(dict(Cases = dfc_cases, Deaths = dfc_deaths, PCases = dfp_cases, PDeaths = dfp_deaths))\n",
    "            .sort_values(by = ['Cases','Deaths'], ascending = [False, False])\n",
    "            .reset_index())"
   ]
  },
  {
   "cell_type": "code",
   "execution_count": 13,
   "id": "educational-chancellor",
   "metadata": {
    "execution": {
     "iopub.execute_input": "2021-03-12T12:07:28.577000Z",
     "iopub.status.busy": "2021-03-12T12:07:28.571469Z",
     "iopub.status.idle": "2021-03-12T12:07:28.585363Z",
     "shell.execute_reply": "2021-03-12T12:07:28.586016Z"
    },
    "papermill": {
     "duration": 0.070257,
     "end_time": "2021-03-12T12:07:28.586151",
     "exception": false,
     "start_time": "2021-03-12T12:07:28.515894",
     "status": "completed"
    },
    "tags": []
   },
   "outputs": [
    {
     "data": {
      "text/html": [
       "<div>\n",
       "<style scoped>\n",
       "    .dataframe tbody tr th:only-of-type {\n",
       "        vertical-align: middle;\n",
       "    }\n",
       "\n",
       "    .dataframe tbody tr th {\n",
       "        vertical-align: top;\n",
       "    }\n",
       "\n",
       "    .dataframe thead th {\n",
       "        text-align: right;\n",
       "    }\n",
       "</style>\n",
       "<table border=\"1\" class=\"dataframe\">\n",
       "  <thead>\n",
       "    <tr style=\"text-align: right;\">\n",
       "      <th></th>\n",
       "      <th>Country/Region</th>\n",
       "      <th>Cases</th>\n",
       "      <th>Deaths</th>\n",
       "      <th>PCases</th>\n",
       "      <th>PDeaths</th>\n",
       "      <th>Cases (+)</th>\n",
       "      <th>Deaths (+)</th>\n",
       "      <th>Fatality Rate</th>\n",
       "      <th>Continent</th>\n",
       "    </tr>\n",
       "  </thead>\n",
       "  <tbody>\n",
       "    <tr>\n",
       "      <th>0</th>\n",
       "      <td>US</td>\n",
       "      <td>29286134</td>\n",
       "      <td>530821</td>\n",
       "      <td>29236778</td>\n",
       "      <td>529264</td>\n",
       "      <td>49356</td>\n",
       "      <td>1557</td>\n",
       "      <td>1.81</td>\n",
       "      <td>North America</td>\n",
       "    </tr>\n",
       "    <tr>\n",
       "      <th>1</th>\n",
       "      <td>India</td>\n",
       "      <td>11308846</td>\n",
       "      <td>158306</td>\n",
       "      <td>11285561</td>\n",
       "      <td>158189</td>\n",
       "      <td>23285</td>\n",
       "      <td>117</td>\n",
       "      <td>1.40</td>\n",
       "      <td>Asia</td>\n",
       "    </tr>\n",
       "    <tr>\n",
       "      <th>2</th>\n",
       "      <td>Brazil</td>\n",
       "      <td>11277717</td>\n",
       "      <td>272889</td>\n",
       "      <td>11202305</td>\n",
       "      <td>270656</td>\n",
       "      <td>75412</td>\n",
       "      <td>2233</td>\n",
       "      <td>2.42</td>\n",
       "      <td>South America</td>\n",
       "    </tr>\n",
       "    <tr>\n",
       "      <th>3</th>\n",
       "      <td>Russia</td>\n",
       "      <td>4311893</td>\n",
       "      <td>89224</td>\n",
       "      <td>4302726</td>\n",
       "      <td>88773</td>\n",
       "      <td>9167</td>\n",
       "      <td>451</td>\n",
       "      <td>2.07</td>\n",
       "      <td>Europe</td>\n",
       "    </tr>\n",
       "    <tr>\n",
       "      <th>4</th>\n",
       "      <td>United Kingdom</td>\n",
       "      <td>4254714</td>\n",
       "      <td>125403</td>\n",
       "      <td>4247879</td>\n",
       "      <td>125222</td>\n",
       "      <td>6835</td>\n",
       "      <td>181</td>\n",
       "      <td>2.95</td>\n",
       "      <td>Europe</td>\n",
       "    </tr>\n",
       "  </tbody>\n",
       "</table>\n",
       "</div>"
      ],
      "text/plain": [
       "   Country/Region     Cases  Deaths    PCases  PDeaths  Cases (+)  Deaths (+)  \\\n",
       "0              US  29286134  530821  29236778   529264      49356        1557   \n",
       "1           India  11308846  158306  11285561   158189      23285         117   \n",
       "2          Brazil  11277717  272889  11202305   270656      75412        2233   \n",
       "3          Russia   4311893   89224   4302726    88773       9167         451   \n",
       "4  United Kingdom   4254714  125403   4247879   125222       6835         181   \n",
       "\n",
       "   Fatality Rate      Continent  \n",
       "0           1.81  North America  \n",
       "1           1.40           Asia  \n",
       "2           2.42  South America  \n",
       "3           2.07         Europe  \n",
       "4           2.95         Europe  "
      ]
     },
     "execution_count": 13,
     "metadata": {},
     "output_type": "execute_result"
    }
   ],
   "source": [
    "#hide\n",
    "for c in 'Cases, Deaths'.split(', '):\n",
    "    df_table[f'{c} (+)'] = (df_table[c] - df_table[f'P{c}']).clip(0)\n",
    "    #Clip ça veut dire, les chiffres negatif sont interdit\n",
    "df_table['Fatality Rate'] = (100* df_table['Deaths']/ df_table['Cases']).round(2)\n",
    "df_table['Continent'] = df_table['Country/Region'].map(mapping['map.continent'])\n",
    "df_table.head(5)"
   ]
  },
  {
   "cell_type": "code",
   "execution_count": 14,
   "id": "aboriginal-bulgaria",
   "metadata": {
    "execution": {
     "iopub.execute_input": "2021-03-12T12:07:28.676023Z",
     "iopub.status.busy": "2021-03-12T12:07:28.675266Z",
     "iopub.status.idle": "2021-03-12T12:07:28.677440Z",
     "shell.execute_reply": "2021-03-12T12:07:28.678020Z"
    },
    "papermill": {
     "duration": 0.051116,
     "end_time": "2021-03-12T12:07:28.678156",
     "exception": false,
     "start_time": "2021-03-12T12:07:28.627040",
     "status": "completed"
    },
    "tags": []
   },
   "outputs": [],
   "source": [
    "#hide\n",
    "#delete problematic countries from table\n",
    "df_table = df_table[~df_table['Country/Region'].isin(['Cape Verde', 'Cruise Ship', 'Kosovo'])]"
   ]
  },
  {
   "cell_type": "code",
   "execution_count": 15,
   "id": "fantastic-effect",
   "metadata": {
    "execution": {
     "iopub.execute_input": "2021-03-12T12:07:28.766893Z",
     "iopub.status.busy": "2021-03-12T12:07:28.766153Z",
     "iopub.status.idle": "2021-03-12T12:07:28.788509Z",
     "shell.execute_reply": "2021-03-12T12:07:28.789080Z"
    },
    "papermill": {
     "duration": 0.072168,
     "end_time": "2021-03-12T12:07:28.789232",
     "exception": false,
     "start_time": "2021-03-12T12:07:28.717064",
     "status": "completed"
    },
    "tags": []
   },
   "outputs": [
    {
     "data": {
      "text/html": [
       "<div>\n",
       "<style scoped>\n",
       "    .dataframe tbody tr th:only-of-type {\n",
       "        vertical-align: middle;\n",
       "    }\n",
       "\n",
       "    .dataframe tbody tr th {\n",
       "        vertical-align: top;\n",
       "    }\n",
       "\n",
       "    .dataframe thead th {\n",
       "        text-align: right;\n",
       "    }\n",
       "</style>\n",
       "<table border=\"1\" class=\"dataframe\">\n",
       "  <thead>\n",
       "    <tr style=\"text-align: right;\">\n",
       "      <th></th>\n",
       "      <th>Country/Region</th>\n",
       "      <th>Cases</th>\n",
       "      <th>Deaths</th>\n",
       "      <th>PCases</th>\n",
       "      <th>PDeaths</th>\n",
       "      <th>Cases (+)</th>\n",
       "      <th>Deaths (+)</th>\n",
       "      <th>Fatality Rate</th>\n",
       "      <th>Continent</th>\n",
       "    </tr>\n",
       "  </thead>\n",
       "  <tbody>\n",
       "    <tr>\n",
       "      <th>0</th>\n",
       "      <td>US</td>\n",
       "      <td>29286134</td>\n",
       "      <td>530821</td>\n",
       "      <td>29236778</td>\n",
       "      <td>529264</td>\n",
       "      <td>49356</td>\n",
       "      <td>1557</td>\n",
       "      <td>1.8</td>\n",
       "      <td>North America</td>\n",
       "    </tr>\n",
       "    <tr>\n",
       "      <th>1</th>\n",
       "      <td>India</td>\n",
       "      <td>11308846</td>\n",
       "      <td>158306</td>\n",
       "      <td>11285561</td>\n",
       "      <td>158189</td>\n",
       "      <td>23285</td>\n",
       "      <td>117</td>\n",
       "      <td>1.4</td>\n",
       "      <td>Asia</td>\n",
       "    </tr>\n",
       "    <tr>\n",
       "      <th>2</th>\n",
       "      <td>Brazil</td>\n",
       "      <td>11277717</td>\n",
       "      <td>272889</td>\n",
       "      <td>11202305</td>\n",
       "      <td>270656</td>\n",
       "      <td>75412</td>\n",
       "      <td>2233</td>\n",
       "      <td>2.4</td>\n",
       "      <td>South America</td>\n",
       "    </tr>\n",
       "    <tr>\n",
       "      <th>3</th>\n",
       "      <td>Russia</td>\n",
       "      <td>4311893</td>\n",
       "      <td>89224</td>\n",
       "      <td>4302726</td>\n",
       "      <td>88773</td>\n",
       "      <td>9167</td>\n",
       "      <td>451</td>\n",
       "      <td>2.1</td>\n",
       "      <td>Europe</td>\n",
       "    </tr>\n",
       "    <tr>\n",
       "      <th>4</th>\n",
       "      <td>United Kingdom</td>\n",
       "      <td>4254714</td>\n",
       "      <td>125403</td>\n",
       "      <td>4247879</td>\n",
       "      <td>125222</td>\n",
       "      <td>6835</td>\n",
       "      <td>181</td>\n",
       "      <td>2.9</td>\n",
       "      <td>Europe</td>\n",
       "    </tr>\n",
       "  </tbody>\n",
       "</table>\n",
       "</div>"
      ],
      "text/plain": [
       "   Country/Region     Cases  Deaths    PCases  PDeaths  Cases (+)  Deaths (+)  \\\n",
       "0              US  29286134  530821  29236778   529264      49356        1557   \n",
       "1           India  11308846  158306  11285561   158189      23285         117   \n",
       "2          Brazil  11277717  272889  11202305   270656      75412        2233   \n",
       "3          Russia   4311893   89224   4302726    88773       9167         451   \n",
       "4  United Kingdom   4254714  125403   4247879   125222       6835         181   \n",
       "\n",
       "   Fatality Rate      Continent  \n",
       "0            1.8  North America  \n",
       "1            1.4           Asia  \n",
       "2            2.4  South America  \n",
       "3            2.1         Europe  \n",
       "4            2.9         Europe  "
      ]
     },
     "execution_count": 15,
     "metadata": {},
     "output_type": "execute_result"
    }
   ],
   "source": [
    "#hide\n",
    "df_table = (pd.DataFrame(dict(Cases=dfc_cases, Deaths=dfc_deaths, PCases=dfp_cases, PDeaths=dfp_deaths))\n",
    "             .sort_values(by=['Cases', 'Deaths'], ascending=[False, False])\n",
    "             .reset_index())\n",
    "df_table.rename(columns={'index': 'Country/Region'}, inplace=True)\n",
    "for c in 'Cases, Deaths'.split(', '):\n",
    "    df_table[f'{c} (+)'] = (df_table[c] - df_table[f'P{c}']).clip(0)  # DATA BUG\n",
    "df_table['Fatality Rate'] = (100 * df_table['Deaths'] / df_table['Cases']).round(1)\n",
    "df_table['Continent'] = df_table['Country/Region'].map(mapping['map.continent'])\n",
    "df_table.head(5)"
   ]
  },
  {
   "cell_type": "code",
   "execution_count": 16,
   "id": "fewer-occasion",
   "metadata": {
    "execution": {
     "iopub.execute_input": "2021-03-12T12:07:28.879562Z",
     "iopub.status.busy": "2021-03-12T12:07:28.878863Z",
     "iopub.status.idle": "2021-03-12T12:07:28.883586Z",
     "shell.execute_reply": "2021-03-12T12:07:28.881279Z"
    },
    "papermill": {
     "duration": 0.052986,
     "end_time": "2021-03-12T12:07:28.883729",
     "exception": false,
     "start_time": "2021-03-12T12:07:28.830743",
     "status": "completed"
    },
    "tags": []
   },
   "outputs": [],
   "source": [
    "#hide\n",
    "#delete problematic countries from table\n",
    "df_table = df_table[~df_table['Country/Region'].isin(['Cape Verde', 'Cruise Ship', 'Kosovo'])]"
   ]
  },
  {
   "cell_type": "code",
   "execution_count": 17,
   "id": "related-center",
   "metadata": {
    "execution": {
     "iopub.execute_input": "2021-03-12T12:07:28.981297Z",
     "iopub.status.busy": "2021-03-12T12:07:28.980595Z",
     "iopub.status.idle": "2021-03-12T12:07:28.990863Z",
     "shell.execute_reply": "2021-03-12T12:07:28.990215Z"
    },
    "papermill": {
     "duration": 0.068223,
     "end_time": "2021-03-12T12:07:28.991002",
     "exception": false,
     "start_time": "2021-03-12T12:07:28.922779",
     "status": "completed"
    },
    "tags": []
   },
   "outputs": [],
   "source": [
    "#hide\n",
    "metrics = [df_table.columns[index] for index in [1,2,5,6]]\n",
    "# s_china = df_table[df_table['Country/Region'].eq('China')][metrics].sum().add_prefix('China ')\n",
    "s_us = df_table[df_table['Country/Region'].eq('US')][metrics].sum().add_prefix('US ')\n",
    "s_eu = df_table[df_table['Continent'].eq('Europe')][metrics].sum().add_prefix('EU ')\n",
    "s_ind = df_table[df_table['Country/Region'].eq('India')][metrics].sum().add_prefix('India ')\n",
    "summary = {'updated': pd.to_datetime(dt_today), 'since': pd.to_datetime(dt_yday)}\n",
    "summary = {'updated': pd.to_datetime(dt_today), 'since': pd.to_datetime(dt_yday)}\n",
    "summary = {**summary, **df_table[metrics].sum(), **s_ind, **s_us, **s_eu}"
   ]
  },
  {
   "cell_type": "code",
   "execution_count": 18,
   "id": "engaging-syndrome",
   "metadata": {
    "execution": {
     "iopub.execute_input": "2021-03-12T12:07:29.082391Z",
     "iopub.status.busy": "2021-03-12T12:07:29.081748Z",
     "iopub.status.idle": "2021-03-12T12:07:29.094680Z",
     "shell.execute_reply": "2021-03-12T12:07:29.094133Z"
    },
    "papermill": {
     "duration": 0.064078,
     "end_time": "2021-03-12T12:07:29.094825",
     "exception": false,
     "start_time": "2021-03-12T12:07:29.030747",
     "status": "completed"
    },
    "tags": []
   },
   "outputs": [],
   "source": [
    "#hide\n",
    "dft_ct_new_cases = dft_cases.groupby(COL_REGION)[dt_cols].sum().diff(axis=1).fillna(0).astype(int)"
   ]
  },
  {
   "cell_type": "code",
   "execution_count": 19,
   "id": "neutral-assignment",
   "metadata": {
    "execution": {
     "iopub.execute_input": "2021-03-12T12:07:29.178445Z",
     "iopub.status.busy": "2021-03-12T12:07:29.177723Z",
     "iopub.status.idle": "2021-03-12T12:07:29.182586Z",
     "shell.execute_reply": "2021-03-12T12:07:29.183837Z"
    },
    "papermill": {
     "duration": 0.04927,
     "end_time": "2021-03-12T12:07:29.184065",
     "exception": false,
     "start_time": "2021-03-12T12:07:29.134795",
     "status": "completed"
    },
    "tags": []
   },
   "outputs": [],
   "source": [
    "#hide\n",
    "everydaycases = dft_ct_new_cases.cumsum(axis=1)"
   ]
  },
  {
   "cell_type": "code",
   "execution_count": 20,
   "id": "parliamentary-calgary",
   "metadata": {
    "execution": {
     "iopub.execute_input": "2021-03-12T12:07:29.267265Z",
     "iopub.status.busy": "2021-03-12T12:07:29.266684Z",
     "iopub.status.idle": "2021-03-12T12:07:31.594898Z",
     "shell.execute_reply": "2021-03-12T12:07:31.595448Z"
    },
    "papermill": {
     "duration": 2.371365,
     "end_time": "2021-03-12T12:07:31.595616",
     "exception": false,
     "start_time": "2021-03-12T12:07:29.224251",
     "status": "completed"
    },
    "tags": []
   },
   "outputs": [],
   "source": [
    "#hide\n",
    "import pandas as pd\n",
    "import matplotlib.pyplot as plt\n",
    "import matplotlib.ticker as ticker\n",
    "import matplotlib.animation as animation\n",
    "from IPython.display import HTML"
   ]
  },
  {
   "cell_type": "code",
   "execution_count": 21,
   "id": "lasting-extraction",
   "metadata": {
    "execution": {
     "iopub.execute_input": "2021-03-12T12:07:31.679625Z",
     "iopub.status.busy": "2021-03-12T12:07:31.678804Z",
     "iopub.status.idle": "2021-03-12T12:07:31.684872Z",
     "shell.execute_reply": "2021-03-12T12:07:31.684204Z"
    },
    "papermill": {
     "duration": 0.049308,
     "end_time": "2021-03-12T12:07:31.684986",
     "exception": false,
     "start_time": "2021-03-12T12:07:31.635678",
     "status": "completed"
    },
    "tags": []
   },
   "outputs": [],
   "source": [
    "#hide\n",
    "t = everydaycases.stack()"
   ]
  },
  {
   "cell_type": "code",
   "execution_count": 22,
   "id": "premier-sleeve",
   "metadata": {
    "execution": {
     "iopub.execute_input": "2021-03-12T12:07:31.767321Z",
     "iopub.status.busy": "2021-03-12T12:07:31.766661Z",
     "iopub.status.idle": "2021-03-12T12:07:31.774990Z",
     "shell.execute_reply": "2021-03-12T12:07:31.774272Z"
    },
    "papermill": {
     "duration": 0.051769,
     "end_time": "2021-03-12T12:07:31.775115",
     "exception": false,
     "start_time": "2021-03-12T12:07:31.723346",
     "status": "completed"
    },
    "tags": []
   },
   "outputs": [],
   "source": [
    "#hide\n",
    "g = t.reset_index(['Country/Region'])"
   ]
  },
  {
   "cell_type": "code",
   "execution_count": 23,
   "id": "distributed-pittsburgh",
   "metadata": {
    "execution": {
     "iopub.execute_input": "2021-03-12T12:07:31.859841Z",
     "iopub.status.busy": "2021-03-12T12:07:31.859201Z",
     "iopub.status.idle": "2021-03-12T12:07:31.861745Z",
     "shell.execute_reply": "2021-03-12T12:07:31.861169Z"
    },
    "papermill": {
     "duration": 0.045461,
     "end_time": "2021-03-12T12:07:31.861865",
     "exception": false,
     "start_time": "2021-03-12T12:07:31.816404",
     "status": "completed"
    },
    "tags": []
   },
   "outputs": [],
   "source": [
    "#hide\n",
    "g.index.name = 'date'"
   ]
  },
  {
   "cell_type": "code",
   "execution_count": 24,
   "id": "naked-donor",
   "metadata": {
    "execution": {
     "iopub.execute_input": "2021-03-12T12:07:31.942656Z",
     "iopub.status.busy": "2021-03-12T12:07:31.941998Z",
     "iopub.status.idle": "2021-03-12T12:07:31.944333Z",
     "shell.execute_reply": "2021-03-12T12:07:31.945083Z"
    },
    "papermill": {
     "duration": 0.046234,
     "end_time": "2021-03-12T12:07:31.945291",
     "exception": false,
     "start_time": "2021-03-12T12:07:31.899057",
     "status": "completed"
    },
    "tags": []
   },
   "outputs": [],
   "source": [
    "# #hide\n",
    "# g = g.reset_index(['date'])"
   ]
  },
  {
   "cell_type": "code",
   "execution_count": 25,
   "id": "incomplete-mustang",
   "metadata": {
    "execution": {
     "iopub.execute_input": "2021-03-12T12:07:32.022316Z",
     "iopub.status.busy": "2021-03-12T12:07:32.021677Z",
     "iopub.status.idle": "2021-03-12T12:07:32.025769Z",
     "shell.execute_reply": "2021-03-12T12:07:32.026301Z"
    },
    "papermill": {
     "duration": 0.044528,
     "end_time": "2021-03-12T12:07:32.026442",
     "exception": false,
     "start_time": "2021-03-12T12:07:31.981914",
     "status": "completed"
    },
    "tags": []
   },
   "outputs": [],
   "source": [
    "#hide\n",
    "# g.head()"
   ]
  },
  {
   "cell_type": "code",
   "execution_count": 26,
   "id": "specific-kruger",
   "metadata": {
    "execution": {
     "iopub.execute_input": "2021-03-12T12:07:32.108533Z",
     "iopub.status.busy": "2021-03-12T12:07:32.107826Z",
     "iopub.status.idle": "2021-03-12T12:07:32.110686Z",
     "shell.execute_reply": "2021-03-12T12:07:32.110186Z"
    },
    "papermill": {
     "duration": 0.043546,
     "end_time": "2021-03-12T12:07:32.110825",
     "exception": false,
     "start_time": "2021-03-12T12:07:32.067279",
     "status": "completed"
    },
    "tags": []
   },
   "outputs": [],
   "source": [
    "#hide\n",
    "# g.columns = ['date','country','cases']"
   ]
  },
  {
   "cell_type": "code",
   "execution_count": 27,
   "id": "tender-conversion",
   "metadata": {
    "execution": {
     "iopub.execute_input": "2021-03-12T12:07:32.193484Z",
     "iopub.status.busy": "2021-03-12T12:07:32.192814Z",
     "iopub.status.idle": "2021-03-12T12:07:32.194787Z",
     "shell.execute_reply": "2021-03-12T12:07:32.195402Z"
    },
    "papermill": {
     "duration": 0.042047,
     "end_time": "2021-03-12T12:07:32.195538",
     "exception": false,
     "start_time": "2021-03-12T12:07:32.153491",
     "status": "completed"
    },
    "tags": []
   },
   "outputs": [],
   "source": [
    "#hide\n",
    "# g['continent'] = g.country"
   ]
  },
  {
   "cell_type": "code",
   "execution_count": 28,
   "id": "substantial-wilderness",
   "metadata": {
    "execution": {
     "iopub.execute_input": "2021-03-12T12:07:32.273690Z",
     "iopub.status.busy": "2021-03-12T12:07:32.272985Z",
     "iopub.status.idle": "2021-03-12T12:07:32.274956Z",
     "shell.execute_reply": "2021-03-12T12:07:32.275592Z"
    },
    "papermill": {
     "duration": 0.04579,
     "end_time": "2021-03-12T12:07:32.275739",
     "exception": false,
     "start_time": "2021-03-12T12:07:32.229949",
     "status": "completed"
    },
    "tags": []
   },
   "outputs": [],
   "source": [
    "#hide\n",
    "# cols = list(g.columns.values)"
   ]
  },
  {
   "cell_type": "code",
   "execution_count": 29,
   "id": "solved-farming",
   "metadata": {
    "execution": {
     "iopub.execute_input": "2021-03-12T12:07:32.355352Z",
     "iopub.status.busy": "2021-03-12T12:07:32.354589Z",
     "iopub.status.idle": "2021-03-12T12:07:32.358524Z",
     "shell.execute_reply": "2021-03-12T12:07:32.358981Z"
    },
    "papermill": {
     "duration": 0.046562,
     "end_time": "2021-03-12T12:07:32.359145",
     "exception": false,
     "start_time": "2021-03-12T12:07:32.312583",
     "status": "completed"
    },
    "tags": []
   },
   "outputs": [],
   "source": [
    "#hide\n",
    "# cols.insert(0, cols.pop())"
   ]
  },
  {
   "cell_type": "code",
   "execution_count": 30,
   "id": "executed-adoption",
   "metadata": {
    "execution": {
     "iopub.execute_input": "2021-03-12T12:07:32.439235Z",
     "iopub.status.busy": "2021-03-12T12:07:32.438668Z",
     "iopub.status.idle": "2021-03-12T12:07:32.440321Z",
     "shell.execute_reply": "2021-03-12T12:07:32.440800Z"
    },
    "papermill": {
     "duration": 0.043331,
     "end_time": "2021-03-12T12:07:32.440935",
     "exception": false,
     "start_time": "2021-03-12T12:07:32.397604",
     "status": "completed"
    },
    "tags": []
   },
   "outputs": [],
   "source": [
    "#hide\n",
    "# g = g[cols]"
   ]
  },
  {
   "cell_type": "code",
   "execution_count": 31,
   "id": "subject-dublin",
   "metadata": {
    "execution": {
     "iopub.execute_input": "2021-03-12T12:07:32.521138Z",
     "iopub.status.busy": "2021-03-12T12:07:32.519589Z",
     "iopub.status.idle": "2021-03-12T12:07:32.525216Z",
     "shell.execute_reply": "2021-03-12T12:07:32.524747Z"
    },
    "papermill": {
     "duration": 0.045653,
     "end_time": "2021-03-12T12:07:32.525352",
     "exception": false,
     "start_time": "2021-03-12T12:07:32.479699",
     "status": "completed"
    },
    "tags": []
   },
   "outputs": [],
   "source": [
    "#hide\n",
    "# g['continent'] = g['continent'].map(mapping['map.continent'])"
   ]
  },
  {
   "cell_type": "code",
   "execution_count": 32,
   "id": "freelance-scout",
   "metadata": {
    "execution": {
     "iopub.execute_input": "2021-03-12T12:07:32.606846Z",
     "iopub.status.busy": "2021-03-12T12:07:32.606155Z",
     "iopub.status.idle": "2021-03-12T12:07:32.610010Z",
     "shell.execute_reply": "2021-03-12T12:07:32.610558Z"
    },
    "papermill": {
     "duration": 0.049218,
     "end_time": "2021-03-12T12:07:32.610706",
     "exception": false,
     "start_time": "2021-03-12T12:07:32.561488",
     "status": "completed"
    },
    "tags": []
   },
   "outputs": [],
   "source": [
    "#hide\n",
    "# g.head()"
   ]
  },
  {
   "cell_type": "code",
   "execution_count": 33,
   "id": "limited-engine",
   "metadata": {
    "execution": {
     "iopub.execute_input": "2021-03-12T12:07:32.692736Z",
     "iopub.status.busy": "2021-03-12T12:07:32.692146Z",
     "iopub.status.idle": "2021-03-12T12:07:32.694332Z",
     "shell.execute_reply": "2021-03-12T12:07:32.693750Z"
    },
    "papermill": {
     "duration": 0.044265,
     "end_time": "2021-03-12T12:07:32.694448",
     "exception": false,
     "start_time": "2021-03-12T12:07:32.650183",
     "status": "completed"
    },
    "tags": []
   },
   "outputs": [],
   "source": [
    "# hide\n",
    "# g['date'] = g['date'].astype('datetime64[ns]')"
   ]
  },
  {
   "cell_type": "code",
   "execution_count": 34,
   "id": "sophisticated-supervisor",
   "metadata": {
    "execution": {
     "iopub.execute_input": "2021-03-12T12:07:32.769970Z",
     "iopub.status.busy": "2021-03-12T12:07:32.769270Z",
     "iopub.status.idle": "2021-03-12T12:07:32.772207Z",
     "shell.execute_reply": "2021-03-12T12:07:32.771329Z"
    },
    "papermill": {
     "duration": 0.04172,
     "end_time": "2021-03-12T12:07:32.772360",
     "exception": false,
     "start_time": "2021-03-12T12:07:32.730640",
     "status": "completed"
    },
    "tags": []
   },
   "outputs": [],
   "source": [
    "#hide\n",
    "# g['date'] = g.date.dt.dayofyear"
   ]
  },
  {
   "cell_type": "code",
   "execution_count": 35,
   "id": "inside-dubai",
   "metadata": {
    "execution": {
     "iopub.execute_input": "2021-03-12T12:07:32.859198Z",
     "iopub.status.busy": "2021-03-12T12:07:32.858537Z",
     "iopub.status.idle": "2021-03-12T12:07:32.860886Z",
     "shell.execute_reply": "2021-03-12T12:07:32.861515Z"
    },
    "papermill": {
     "duration": 0.044114,
     "end_time": "2021-03-12T12:07:32.861656",
     "exception": false,
     "start_time": "2021-03-12T12:07:32.817542",
     "status": "completed"
    },
    "tags": []
   },
   "outputs": [],
   "source": [
    "#hide\n",
    "# g = g.rename(columns= {'continent':'group','country':'name','cases':'value'})"
   ]
  },
  {
   "cell_type": "code",
   "execution_count": 36,
   "id": "fleet-motorcycle",
   "metadata": {
    "execution": {
     "iopub.execute_input": "2021-03-12T12:07:32.949691Z",
     "iopub.status.busy": "2021-03-12T12:07:32.948901Z",
     "iopub.status.idle": "2021-03-12T12:07:32.950835Z",
     "shell.execute_reply": "2021-03-12T12:07:32.950290Z"
    },
    "papermill": {
     "duration": 0.047639,
     "end_time": "2021-03-12T12:07:32.950953",
     "exception": false,
     "start_time": "2021-03-12T12:07:32.903314",
     "status": "completed"
    },
    "tags": []
   },
   "outputs": [],
   "source": [
    "#hide\n",
    "# cols = ['name','group','day','value']"
   ]
  },
  {
   "cell_type": "code",
   "execution_count": 37,
   "id": "continued-sleeping",
   "metadata": {
    "execution": {
     "iopub.execute_input": "2021-03-12T12:07:33.035676Z",
     "iopub.status.busy": "2021-03-12T12:07:33.034920Z",
     "iopub.status.idle": "2021-03-12T12:07:33.037571Z",
     "shell.execute_reply": "2021-03-12T12:07:33.037043Z"
    },
    "papermill": {
     "duration": 0.047776,
     "end_time": "2021-03-12T12:07:33.037690",
     "exception": false,
     "start_time": "2021-03-12T12:07:32.989914",
     "status": "completed"
    },
    "tags": []
   },
   "outputs": [],
   "source": [
    "#hide\n",
    "# g.rename(columns= {'date':'day'},inplace = True)"
   ]
  },
  {
   "cell_type": "code",
   "execution_count": 38,
   "id": "major-fight",
   "metadata": {
    "execution": {
     "iopub.execute_input": "2021-03-12T12:07:33.126358Z",
     "iopub.status.busy": "2021-03-12T12:07:33.125513Z",
     "iopub.status.idle": "2021-03-12T12:07:33.127838Z",
     "shell.execute_reply": "2021-03-12T12:07:33.127274Z"
    },
    "papermill": {
     "duration": 0.045275,
     "end_time": "2021-03-12T12:07:33.127957",
     "exception": false,
     "start_time": "2021-03-12T12:07:33.082682",
     "status": "completed"
    },
    "tags": []
   },
   "outputs": [],
   "source": [
    "#hide\n",
    "# g = g[cols]"
   ]
  },
  {
   "cell_type": "code",
   "execution_count": 39,
   "id": "structured-mobile",
   "metadata": {
    "execution": {
     "iopub.execute_input": "2021-03-12T12:07:33.207054Z",
     "iopub.status.busy": "2021-03-12T12:07:33.206045Z",
     "iopub.status.idle": "2021-03-12T12:07:33.208480Z",
     "shell.execute_reply": "2021-03-12T12:07:33.207807Z"
    },
    "papermill": {
     "duration": 0.04396,
     "end_time": "2021-03-12T12:07:33.208598",
     "exception": false,
     "start_time": "2021-03-12T12:07:33.164638",
     "status": "completed"
    },
    "tags": []
   },
   "outputs": [],
   "source": [
    "# #hide\n",
    "# g = g[g.group.notna()]"
   ]
  },
  {
   "cell_type": "code",
   "execution_count": 40,
   "id": "determined-closing",
   "metadata": {
    "execution": {
     "iopub.execute_input": "2021-03-12T12:07:33.291461Z",
     "iopub.status.busy": "2021-03-12T12:07:33.290811Z",
     "iopub.status.idle": "2021-03-12T12:07:33.294907Z",
     "shell.execute_reply": "2021-03-12T12:07:33.294302Z"
    },
    "papermill": {
     "duration": 0.045082,
     "end_time": "2021-03-12T12:07:33.295101",
     "exception": false,
     "start_time": "2021-03-12T12:07:33.250019",
     "status": "completed"
    },
    "tags": []
   },
   "outputs": [],
   "source": [
    "# #hide\n",
    "# colors = dict(zip(\n",
    "#     [\"Oceania\", \"Europe\", \"Asia\", \"South America\", \"Middle East\", \"North America\", \"Africa\"],\n",
    "#     [\"#adb0ff\", \"#ffb3ff\", \"#90d595\", \"#e48381\", \"#aafbff\", \"#f7bb5f\", \"#eafb50\"]\n",
    "# ))\n",
    "# group_lk = g.set_index('name')['group'].to_dict()"
   ]
  },
  {
   "cell_type": "code",
   "execution_count": null,
   "id": "gross-drinking",
   "metadata": {
    "papermill": {
     "duration": 0.038428,
     "end_time": "2021-03-12T12:07:33.369945",
     "exception": false,
     "start_time": "2021-03-12T12:07:33.331517",
     "status": "completed"
    },
    "tags": []
   },
   "outputs": [],
   "source": []
  },
  {
   "cell_type": "code",
   "execution_count": 41,
   "id": "subject-macintosh",
   "metadata": {
    "execution": {
     "iopub.execute_input": "2021-03-12T12:07:33.450804Z",
     "iopub.status.busy": "2021-03-12T12:07:33.449292Z",
     "iopub.status.idle": "2021-03-12T12:07:33.451578Z",
     "shell.execute_reply": "2021-03-12T12:07:33.452070Z"
    },
    "papermill": {
     "duration": 0.045244,
     "end_time": "2021-03-12T12:07:33.452250",
     "exception": false,
     "start_time": "2021-03-12T12:07:33.407006",
     "status": "completed"
    },
    "tags": []
   },
   "outputs": [],
   "source": [
    "# #hide\n",
    "# fig, ax = plt.subplots(figsize=(15, 8))\n",
    "\n",
    "# def draw_barchart(current_day):\n",
    "#     dff = g[g['day'].eq(current_day)].sort_values(by='value', ascending=True).tail(10)\n",
    "#     ax.clear()\n",
    "#     ax.barh(dff['name'], dff['value'], color=[colors[group_lk[x]] for x in dff['name']])\n",
    "#     dx = dff['value'].max() / 200\n",
    "    \n",
    "#     for i, (value, name) in enumerate(zip(dff['value'], dff['name'])):\n",
    "#         ax.text(value-dx, i,     name,           size=14, weight=600, ha='right', va='bottom')\n",
    "#         ax.text(value-dx, i-.25, group_lk[name], size=10, color='#444444', ha='right', va='baseline')\n",
    "#         ax.text(value+dx, i,     f'{value:,.0f}',  size=14, ha='left',  va='center')\n",
    "#     ax.text(1, 0.4, current_day, transform=ax.transAxes, color='#777777', size=46, ha='right', weight=800)\n",
    "#     ax.text(0, 1.06, 'Population (thousands)', transform=ax.transAxes, size=12, color='#777777')\n",
    "#     ax.xaxis.set_major_formatter(ticker.StrMethodFormatter('{x:,.0f}'))\n",
    "#     ax.xaxis.set_ticks_position('top')\n",
    "#     ax.tick_params(axis='x', colors='#777777', labelsize=12)\n",
    "#     ax.set_yticks([])\n",
    "#     ax.margins(0, 0.01)\n",
    "#     ax.grid(which='major', axis='x', linestyle='-')\n",
    "#     ax.set_axisbelow(True)\n",
    "    \n",
    "#     ax.text(0, 1.15, 'Coronavirus',\n",
    "#             transform=ax.transAxes, size=24, weight=600, ha='left', va='top')\n",
    "# #     ax.text(1, 0, 'by @pratapvardhan; credit @jburnmurdoch', transform=ax.transAxes, color='#777777', ha='right',\n",
    "# #             bbox=dict(facecolor='white', alpha=0.8, edgecolor='white'))\n",
    "#     plt.box(False)"
   ]
  },
  {
   "cell_type": "code",
   "execution_count": 42,
   "id": "sexual-wages",
   "metadata": {
    "execution": {
     "iopub.execute_input": "2021-03-12T12:07:33.531893Z",
     "iopub.status.busy": "2021-03-12T12:07:33.531298Z",
     "iopub.status.idle": "2021-03-12T12:07:33.535288Z",
     "shell.execute_reply": "2021-03-12T12:07:33.534742Z"
    },
    "papermill": {
     "duration": 0.044738,
     "end_time": "2021-03-12T12:07:33.535408",
     "exception": false,
     "start_time": "2021-03-12T12:07:33.490670",
     "status": "completed"
    },
    "tags": []
   },
   "outputs": [],
   "source": [
    "# #hide_input\n",
    "# fig, ax = plt.subplots(figsize=(15, 8))\n",
    "# animator = animation.FuncAnimation(fig, draw_barchart, frames=range(g.day.values.min(), g.day.values.max()))\n",
    "# HTML(animator.to_jshtml())\n",
    "# # or use animator.to_html5_video() or animator.save() "
   ]
  },
  {
   "cell_type": "code",
   "execution_count": null,
   "id": "australian-container",
   "metadata": {
    "papermill": {
     "duration": 0.038011,
     "end_time": "2021-03-12T12:07:33.614009",
     "exception": false,
     "start_time": "2021-03-12T12:07:33.575998",
     "status": "completed"
    },
    "tags": []
   },
   "outputs": [],
   "source": []
  },
  {
   "cell_type": "code",
   "execution_count": null,
   "id": "mediterranean-pontiac",
   "metadata": {
    "papermill": {
     "duration": 0.038569,
     "end_time": "2021-03-12T12:07:33.693443",
     "exception": false,
     "start_time": "2021-03-12T12:07:33.654874",
     "status": "completed"
    },
    "tags": []
   },
   "outputs": [],
   "source": []
  },
  {
   "cell_type": "code",
   "execution_count": null,
   "id": "aging-legislature",
   "metadata": {
    "papermill": {
     "duration": 0.039535,
     "end_time": "2021-03-12T12:07:33.771049",
     "exception": false,
     "start_time": "2021-03-12T12:07:33.731514",
     "status": "completed"
    },
    "tags": []
   },
   "outputs": [],
   "source": []
  }
 ],
 "metadata": {
  "kernelspec": {
   "display_name": "Python 3",
   "language": "python",
   "name": "python3"
  },
  "language_info": {
   "codemirror_mode": {
    "name": "ipython",
    "version": 3
   },
   "file_extension": ".py",
   "mimetype": "text/x-python",
   "name": "python",
   "nbconvert_exporter": "python",
   "pygments_lexer": "ipython3",
   "version": "3.6.13"
  },
  "papermill": {
   "duration": 8.715328,
   "end_time": "2021-03-12T12:07:34.120128",
   "environment_variables": {},
   "exception": null,
   "input_path": "2020-03-21-covid19exp.ipynb",
   "output_path": "2020-03-21-covid19exp.ipynb",
   "parameters": {},
   "start_time": "2021-03-12T12:07:25.404800",
   "version": "2.0.0"
  }
 },
 "nbformat": 4,
 "nbformat_minor": 5
}