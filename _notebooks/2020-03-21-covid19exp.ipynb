{
 "cells": [
  {
   "cell_type": "markdown",
   "metadata": {
    "papermill": {
     "duration": 0.035285,
     "end_time": "2020-11-20T00:10:06.600610",
     "exception": false,
     "start_time": "2020-11-20T00:10:06.565325",
     "status": "completed"
    },
    "tags": []
   },
   "source": [
    "# COVID-19 Case Race\n",
    "> A race chart to see rising cases around the world\n",
    "\n",
    "- author: Hargun Oberoi\n",
    "- image: images/covid-overview.png\n",
    "- hide: false\n",
    "- badges: false"
   ]
  },
  {
   "cell_type": "code",
   "execution_count": 1,
   "metadata": {
    "execution": {
     "iopub.execute_input": "2020-11-20T00:10:06.662624Z",
     "iopub.status.busy": "2020-11-20T00:10:06.662070Z",
     "iopub.status.idle": "2020-11-20T00:10:06.971383Z",
     "shell.execute_reply": "2020-11-20T00:10:06.970442Z"
    },
    "papermill": {
     "duration": 0.343812,
     "end_time": "2020-11-20T00:10:06.971542",
     "exception": false,
     "start_time": "2020-11-20T00:10:06.627730",
     "status": "completed"
    },
    "tags": []
   },
   "outputs": [],
   "source": [
    "#hide\n",
    "import numpy as np\n",
    "import pandas as pd\n",
    "from jinja2 import Template\n",
    "from IPython.display import HTML"
   ]
  },
  {
   "cell_type": "code",
   "execution_count": 2,
   "metadata": {
    "execution": {
     "iopub.execute_input": "2020-11-20T00:10:07.031894Z",
     "iopub.status.busy": "2020-11-20T00:10:07.031325Z",
     "iopub.status.idle": "2020-11-20T00:10:07.033566Z",
     "shell.execute_reply": "2020-11-20T00:10:07.034103Z"
    },
    "papermill": {
     "duration": 0.035815,
     "end_time": "2020-11-20T00:10:07.034234",
     "exception": false,
     "start_time": "2020-11-20T00:10:06.998419",
     "status": "completed"
    },
    "tags": []
   },
   "outputs": [],
   "source": [
    "#hide\n",
    "\n",
    "# FETCH\n",
    "base_url = 'https://raw.githubusercontent.com/pratapvardhan/notebooks/master/covid19/'\n",
    "paths = {\n",
    "    'mapping': base_url + 'mapping_countries.csv',\n",
    "    'overview': base_url + 'overview.tpl'\n",
    "}"
   ]
  },
  {
   "cell_type": "code",
   "execution_count": 3,
   "metadata": {
    "execution": {
     "iopub.execute_input": "2020-11-20T00:10:07.097323Z",
     "iopub.status.busy": "2020-11-20T00:10:07.096778Z",
     "iopub.status.idle": "2020-11-20T00:10:07.100817Z",
     "shell.execute_reply": "2020-11-20T00:10:07.100381Z"
    },
    "papermill": {
     "duration": 0.042145,
     "end_time": "2020-11-20T00:10:07.100937",
     "exception": false,
     "start_time": "2020-11-20T00:10:07.058792",
     "status": "completed"
    },
    "tags": []
   },
   "outputs": [
    {
     "data": {
      "text/plain": [
       "'https://raw.githubusercontent.com/pratapvardhan/notebooks/master/covid19/mapping_countries.csv'"
      ]
     },
     "execution_count": 3,
     "metadata": {},
     "output_type": "execute_result"
    }
   ],
   "source": [
    "#hide\n",
    "paths['mapping']"
   ]
  },
  {
   "cell_type": "code",
   "execution_count": 4,
   "metadata": {
    "execution": {
     "iopub.execute_input": "2020-11-20T00:10:07.162472Z",
     "iopub.status.busy": "2020-11-20T00:10:07.161889Z",
     "iopub.status.idle": "2020-11-20T00:10:07.163892Z",
     "shell.execute_reply": "2020-11-20T00:10:07.164361Z"
    },
    "papermill": {
     "duration": 0.033595,
     "end_time": "2020-11-20T00:10:07.164490",
     "exception": false,
     "start_time": "2020-11-20T00:10:07.130895",
     "status": "completed"
    },
    "tags": []
   },
   "outputs": [],
   "source": [
    "#hide\n",
    "def get_mappings(url):\n",
    "    df = pd.read_csv(url)\n",
    "    return {\n",
    "        'df': df,\n",
    "        'replace.country': dict(df.dropna(subset=['Name']).set_index('Country')['Name']),\n",
    "        'map.continent': dict(df.set_index('Name')['Continent'])\n",
    "    }"
   ]
  },
  {
   "cell_type": "code",
   "execution_count": 5,
   "metadata": {
    "execution": {
     "iopub.execute_input": "2020-11-20T00:10:07.223176Z",
     "iopub.status.busy": "2020-11-20T00:10:07.222635Z",
     "iopub.status.idle": "2020-11-20T00:10:07.267551Z",
     "shell.execute_reply": "2020-11-20T00:10:07.267182Z"
    },
    "papermill": {
     "duration": 0.077916,
     "end_time": "2020-11-20T00:10:07.267646",
     "exception": false,
     "start_time": "2020-11-20T00:10:07.189730",
     "status": "completed"
    },
    "tags": []
   },
   "outputs": [],
   "source": [
    "#hide\n",
    "mapping = get_mappings(paths['mapping'])"
   ]
  },
  {
   "cell_type": "code",
   "execution_count": 6,
   "metadata": {
    "execution": {
     "iopub.execute_input": "2020-11-20T00:10:07.322970Z",
     "iopub.status.busy": "2020-11-20T00:10:07.321921Z",
     "iopub.status.idle": "2020-11-20T00:10:07.324091Z",
     "shell.execute_reply": "2020-11-20T00:10:07.324632Z"
    },
    "papermill": {
     "duration": 0.034416,
     "end_time": "2020-11-20T00:10:07.324752",
     "exception": false,
     "start_time": "2020-11-20T00:10:07.290336",
     "status": "completed"
    },
    "tags": []
   },
   "outputs": [],
   "source": [
    "#hide\n",
    "def get_template(path):\n",
    "    from urllib.parse import urlparse\n",
    "    if bool(urlparse(path).netloc):\n",
    "        from urllib.request import urlopen\n",
    "        return urlopen(path).read().decode('utf8')\n",
    "    return open(path).read()"
   ]
  },
  {
   "cell_type": "code",
   "execution_count": 7,
   "metadata": {
    "execution": {
     "iopub.execute_input": "2020-11-20T00:10:07.379146Z",
     "iopub.status.busy": "2020-11-20T00:10:07.378652Z",
     "iopub.status.idle": "2020-11-20T00:10:07.381413Z",
     "shell.execute_reply": "2020-11-20T00:10:07.381921Z"
    },
    "papermill": {
     "duration": 0.032043,
     "end_time": "2020-11-20T00:10:07.382041",
     "exception": false,
     "start_time": "2020-11-20T00:10:07.349998",
     "status": "completed"
    },
    "tags": []
   },
   "outputs": [],
   "source": [
    "#hide\n",
    "def get_frame(name):\n",
    "    url = (\n",
    "        'https://raw.githubusercontent.com/CSSEGISandData/COVID-19/master/csse_covid_19_data/'\n",
    "        f'csse_covid_19_time_series/time_series_covid19_{name}_global.csv')\n",
    "    df = pd.read_csv(url)\n",
    "    # rename countries\n",
    "    df['Country/Region'] = df['Country/Region'].replace(mapping['replace.country'])\n",
    "    return df"
   ]
  },
  {
   "cell_type": "code",
   "execution_count": 8,
   "metadata": {
    "execution": {
     "iopub.execute_input": "2020-11-20T00:10:07.438882Z",
     "iopub.status.busy": "2020-11-20T00:10:07.438410Z",
     "iopub.status.idle": "2020-11-20T00:10:07.440820Z",
     "shell.execute_reply": "2020-11-20T00:10:07.441246Z"
    },
    "papermill": {
     "duration": 0.034373,
     "end_time": "2020-11-20T00:10:07.441352",
     "exception": false,
     "start_time": "2020-11-20T00:10:07.406979",
     "status": "completed"
    },
    "tags": []
   },
   "outputs": [],
   "source": [
    "#hide\n",
    "def get_dates(df):\n",
    "    dt_cols = df.columns[~df.columns.isin(['Province/State', 'Country/Region', 'Lat', 'Long'])]\n",
    "    LAST_DATE_I = -1\n",
    "    # sometimes last column may be empty, then go backwards\n",
    "    for i in range(-1, -len(dt_cols), -1):\n",
    "        if not df[dt_cols[i]].fillna(0).eq(0).all():\n",
    "            LAST_DATE_I = i\n",
    "            break\n",
    "    return LAST_DATE_I, dt_cols"
   ]
  },
  {
   "cell_type": "code",
   "execution_count": 9,
   "metadata": {
    "execution": {
     "iopub.execute_input": "2020-11-20T00:10:07.497939Z",
     "iopub.status.busy": "2020-11-20T00:10:07.497359Z",
     "iopub.status.idle": "2020-11-20T00:10:07.765348Z",
     "shell.execute_reply": "2020-11-20T00:10:07.763741Z"
    },
    "papermill": {
     "duration": 0.29914,
     "end_time": "2020-11-20T00:10:07.765591",
     "exception": false,
     "start_time": "2020-11-20T00:10:07.466451",
     "status": "completed"
    },
    "tags": []
   },
   "outputs": [],
   "source": [
    "#hide\n",
    "COL_REGION = 'Country/Region'\n",
    "# Confirmed, Recovered, Deaths\n",
    "df = get_frame('confirmed')\n",
    "# dft_: timeseries, dfc_: today country agg\n",
    "dft_cases = df\n",
    "dft_deaths = get_frame('deaths')\n",
    "dft_recovered = get_frame('recovered')\n",
    "LAST_DATE_I, dt_cols = get_dates(df)"
   ]
  },
  {
   "cell_type": "code",
   "execution_count": 10,
   "metadata": {
    "execution": {
     "iopub.execute_input": "2020-11-20T00:10:07.826525Z",
     "iopub.status.busy": "2020-11-20T00:10:07.825969Z",
     "iopub.status.idle": "2020-11-20T00:10:07.828241Z",
     "shell.execute_reply": "2020-11-20T00:10:07.827724Z"
    },
    "papermill": {
     "duration": 0.033067,
     "end_time": "2020-11-20T00:10:07.828359",
     "exception": false,
     "start_time": "2020-11-20T00:10:07.795292",
     "status": "completed"
    },
    "tags": []
   },
   "outputs": [],
   "source": [
    "#hide\n",
    "LAST_DATE_I, dt_cols = get_dates(df)\n",
    "dt_today =dt_cols[LAST_DATE_I]\n",
    "# dt_5day = dt_cols[LAST_DATE_I - 5]\n",
    "dt_yday = dt_cols[LAST_DATE_I - 1]"
   ]
  },
  {
   "cell_type": "code",
   "execution_count": 11,
   "metadata": {
    "execution": {
     "iopub.execute_input": "2020-11-20T00:10:07.890829Z",
     "iopub.status.busy": "2020-11-20T00:10:07.890290Z",
     "iopub.status.idle": "2020-11-20T00:10:07.897698Z",
     "shell.execute_reply": "2020-11-20T00:10:07.898196Z"
    },
    "papermill": {
     "duration": 0.039916,
     "end_time": "2020-11-20T00:10:07.898324",
     "exception": false,
     "start_time": "2020-11-20T00:10:07.858408",
     "status": "completed"
    },
    "tags": []
   },
   "outputs": [],
   "source": [
    "#hide\n",
    "dfc_cases = dft_cases.groupby(COL_REGION)[dt_today].sum()\n",
    "dfc_deaths = dft_deaths.groupby(COL_REGION)[dt_today].sum()\n",
    "# dfp_cases = dft_cases.groupby(COL_REGION)[dt_5day].sum()\n",
    "# dfp_deaths = dft_deaths.groupby(COL_REGION)[dt_5day].sum()\n",
    "dfp_cases = dft_cases.groupby(COL_REGION)[dt_yday].sum()\n",
    "dfp_deaths = dft_deaths.groupby(COL_REGION)[dt_yday].sum()"
   ]
  },
  {
   "cell_type": "code",
   "execution_count": 12,
   "metadata": {
    "execution": {
     "iopub.execute_input": "2020-11-20T00:10:07.953512Z",
     "iopub.status.busy": "2020-11-20T00:10:07.953101Z",
     "iopub.status.idle": "2020-11-20T00:10:07.957761Z",
     "shell.execute_reply": "2020-11-20T00:10:07.957304Z"
    },
    "papermill": {
     "duration": 0.035027,
     "end_time": "2020-11-20T00:10:07.957870",
     "exception": false,
     "start_time": "2020-11-20T00:10:07.922843",
     "status": "completed"
    },
    "tags": []
   },
   "outputs": [],
   "source": [
    "#hide\n",
    "df_table = (pd.DataFrame(dict(Cases = dfc_cases, Deaths = dfc_deaths, PCases = dfp_cases, PDeaths = dfp_deaths))\n",
    "            .sort_values(by = ['Cases','Deaths'], ascending = [False, False])\n",
    "            .reset_index())"
   ]
  },
  {
   "cell_type": "code",
   "execution_count": 13,
   "metadata": {
    "execution": {
     "iopub.execute_input": "2020-11-20T00:10:08.024847Z",
     "iopub.status.busy": "2020-11-20T00:10:08.020610Z",
     "iopub.status.idle": "2020-11-20T00:10:08.030961Z",
     "shell.execute_reply": "2020-11-20T00:10:08.031474Z"
    },
    "papermill": {
     "duration": 0.048174,
     "end_time": "2020-11-20T00:10:08.031619",
     "exception": false,
     "start_time": "2020-11-20T00:10:07.983445",
     "status": "completed"
    },
    "tags": []
   },
   "outputs": [
    {
     "data": {
      "text/html": [
       "<div>\n",
       "<style scoped>\n",
       "    .dataframe tbody tr th:only-of-type {\n",
       "        vertical-align: middle;\n",
       "    }\n",
       "\n",
       "    .dataframe tbody tr th {\n",
       "        vertical-align: top;\n",
       "    }\n",
       "\n",
       "    .dataframe thead th {\n",
       "        text-align: right;\n",
       "    }\n",
       "</style>\n",
       "<table border=\"1\" class=\"dataframe\">\n",
       "  <thead>\n",
       "    <tr style=\"text-align: right;\">\n",
       "      <th></th>\n",
       "      <th>Country/Region</th>\n",
       "      <th>Cases</th>\n",
       "      <th>Deaths</th>\n",
       "      <th>PCases</th>\n",
       "      <th>PDeaths</th>\n",
       "      <th>Cases (+)</th>\n",
       "      <th>Deaths (+)</th>\n",
       "      <th>Fatality Rate</th>\n",
       "      <th>Continent</th>\n",
       "    </tr>\n",
       "  </thead>\n",
       "  <tbody>\n",
       "    <tr>\n",
       "      <th>0</th>\n",
       "      <td>US</td>\n",
       "      <td>11527483</td>\n",
       "      <td>250520</td>\n",
       "      <td>11357322</td>\n",
       "      <td>248672</td>\n",
       "      <td>170161</td>\n",
       "      <td>1848</td>\n",
       "      <td>2.17</td>\n",
       "      <td>North America</td>\n",
       "    </tr>\n",
       "    <tr>\n",
       "      <th>1</th>\n",
       "      <td>India</td>\n",
       "      <td>8958483</td>\n",
       "      <td>131578</td>\n",
       "      <td>8912907</td>\n",
       "      <td>130993</td>\n",
       "      <td>45576</td>\n",
       "      <td>585</td>\n",
       "      <td>1.47</td>\n",
       "      <td>Asia</td>\n",
       "    </tr>\n",
       "    <tr>\n",
       "      <th>2</th>\n",
       "      <td>Brazil</td>\n",
       "      <td>5945849</td>\n",
       "      <td>167455</td>\n",
       "      <td>5911758</td>\n",
       "      <td>166699</td>\n",
       "      <td>34091</td>\n",
       "      <td>756</td>\n",
       "      <td>2.82</td>\n",
       "      <td>South America</td>\n",
       "    </tr>\n",
       "    <tr>\n",
       "      <th>3</th>\n",
       "      <td>France</td>\n",
       "      <td>2115717</td>\n",
       "      <td>46772</td>\n",
       "      <td>2087183</td>\n",
       "      <td>46346</td>\n",
       "      <td>28534</td>\n",
       "      <td>426</td>\n",
       "      <td>2.21</td>\n",
       "      <td>Europe</td>\n",
       "    </tr>\n",
       "    <tr>\n",
       "      <th>4</th>\n",
       "      <td>Russia</td>\n",
       "      <td>1975629</td>\n",
       "      <td>34068</td>\n",
       "      <td>1954912</td>\n",
       "      <td>33619</td>\n",
       "      <td>20717</td>\n",
       "      <td>449</td>\n",
       "      <td>1.72</td>\n",
       "      <td>Europe</td>\n",
       "    </tr>\n",
       "  </tbody>\n",
       "</table>\n",
       "</div>"
      ],
      "text/plain": [
       "  Country/Region     Cases  Deaths    PCases  PDeaths  Cases (+)  Deaths (+)  \\\n",
       "0             US  11527483  250520  11357322   248672     170161        1848   \n",
       "1          India   8958483  131578   8912907   130993      45576         585   \n",
       "2         Brazil   5945849  167455   5911758   166699      34091         756   \n",
       "3         France   2115717   46772   2087183    46346      28534         426   \n",
       "4         Russia   1975629   34068   1954912    33619      20717         449   \n",
       "\n",
       "   Fatality Rate      Continent  \n",
       "0           2.17  North America  \n",
       "1           1.47           Asia  \n",
       "2           2.82  South America  \n",
       "3           2.21         Europe  \n",
       "4           1.72         Europe  "
      ]
     },
     "execution_count": 13,
     "metadata": {},
     "output_type": "execute_result"
    }
   ],
   "source": [
    "#hide\n",
    "for c in 'Cases, Deaths'.split(', '):\n",
    "    df_table[f'{c} (+)'] = (df_table[c] - df_table[f'P{c}']).clip(0)\n",
    "    #Clip ça veut dire, les chiffres negatif sont interdit\n",
    "df_table['Fatality Rate'] = (100* df_table['Deaths']/ df_table['Cases']).round(2)\n",
    "df_table['Continent'] = df_table['Country/Region'].map(mapping['map.continent'])\n",
    "df_table.head(5)"
   ]
  },
  {
   "cell_type": "code",
   "execution_count": 14,
   "metadata": {
    "execution": {
     "iopub.execute_input": "2020-11-20T00:10:08.092798Z",
     "iopub.status.busy": "2020-11-20T00:10:08.092206Z",
     "iopub.status.idle": "2020-11-20T00:10:08.094345Z",
     "shell.execute_reply": "2020-11-20T00:10:08.094828Z"
    },
    "papermill": {
     "duration": 0.036294,
     "end_time": "2020-11-20T00:10:08.094963",
     "exception": false,
     "start_time": "2020-11-20T00:10:08.058669",
     "status": "completed"
    },
    "tags": []
   },
   "outputs": [],
   "source": [
    "#hide\n",
    "#delete problematic countries from table\n",
    "df_table = df_table[~df_table['Country/Region'].isin(['Cape Verde', 'Cruise Ship', 'Kosovo'])]"
   ]
  },
  {
   "cell_type": "code",
   "execution_count": 15,
   "metadata": {
    "execution": {
     "iopub.execute_input": "2020-11-20T00:10:08.154505Z",
     "iopub.status.busy": "2020-11-20T00:10:08.154090Z",
     "iopub.status.idle": "2020-11-20T00:10:08.169860Z",
     "shell.execute_reply": "2020-11-20T00:10:08.169530Z"
    },
    "papermill": {
     "duration": 0.048159,
     "end_time": "2020-11-20T00:10:08.169971",
     "exception": false,
     "start_time": "2020-11-20T00:10:08.121812",
     "status": "completed"
    },
    "tags": []
   },
   "outputs": [
    {
     "data": {
      "text/html": [
       "<div>\n",
       "<style scoped>\n",
       "    .dataframe tbody tr th:only-of-type {\n",
       "        vertical-align: middle;\n",
       "    }\n",
       "\n",
       "    .dataframe tbody tr th {\n",
       "        vertical-align: top;\n",
       "    }\n",
       "\n",
       "    .dataframe thead th {\n",
       "        text-align: right;\n",
       "    }\n",
       "</style>\n",
       "<table border=\"1\" class=\"dataframe\">\n",
       "  <thead>\n",
       "    <tr style=\"text-align: right;\">\n",
       "      <th></th>\n",
       "      <th>Country/Region</th>\n",
       "      <th>Cases</th>\n",
       "      <th>Deaths</th>\n",
       "      <th>PCases</th>\n",
       "      <th>PDeaths</th>\n",
       "      <th>Cases (+)</th>\n",
       "      <th>Deaths (+)</th>\n",
       "      <th>Fatality Rate</th>\n",
       "      <th>Continent</th>\n",
       "    </tr>\n",
       "  </thead>\n",
       "  <tbody>\n",
       "    <tr>\n",
       "      <th>0</th>\n",
       "      <td>US</td>\n",
       "      <td>11527483</td>\n",
       "      <td>250520</td>\n",
       "      <td>11357322</td>\n",
       "      <td>248672</td>\n",
       "      <td>170161</td>\n",
       "      <td>1848</td>\n",
       "      <td>2.2</td>\n",
       "      <td>North America</td>\n",
       "    </tr>\n",
       "    <tr>\n",
       "      <th>1</th>\n",
       "      <td>India</td>\n",
       "      <td>8958483</td>\n",
       "      <td>131578</td>\n",
       "      <td>8912907</td>\n",
       "      <td>130993</td>\n",
       "      <td>45576</td>\n",
       "      <td>585</td>\n",
       "      <td>1.5</td>\n",
       "      <td>Asia</td>\n",
       "    </tr>\n",
       "    <tr>\n",
       "      <th>2</th>\n",
       "      <td>Brazil</td>\n",
       "      <td>5945849</td>\n",
       "      <td>167455</td>\n",
       "      <td>5911758</td>\n",
       "      <td>166699</td>\n",
       "      <td>34091</td>\n",
       "      <td>756</td>\n",
       "      <td>2.8</td>\n",
       "      <td>South America</td>\n",
       "    </tr>\n",
       "    <tr>\n",
       "      <th>3</th>\n",
       "      <td>France</td>\n",
       "      <td>2115717</td>\n",
       "      <td>46772</td>\n",
       "      <td>2087183</td>\n",
       "      <td>46346</td>\n",
       "      <td>28534</td>\n",
       "      <td>426</td>\n",
       "      <td>2.2</td>\n",
       "      <td>Europe</td>\n",
       "    </tr>\n",
       "    <tr>\n",
       "      <th>4</th>\n",
       "      <td>Russia</td>\n",
       "      <td>1975629</td>\n",
       "      <td>34068</td>\n",
       "      <td>1954912</td>\n",
       "      <td>33619</td>\n",
       "      <td>20717</td>\n",
       "      <td>449</td>\n",
       "      <td>1.7</td>\n",
       "      <td>Europe</td>\n",
       "    </tr>\n",
       "  </tbody>\n",
       "</table>\n",
       "</div>"
      ],
      "text/plain": [
       "  Country/Region     Cases  Deaths    PCases  PDeaths  Cases (+)  Deaths (+)  \\\n",
       "0             US  11527483  250520  11357322   248672     170161        1848   \n",
       "1          India   8958483  131578   8912907   130993      45576         585   \n",
       "2         Brazil   5945849  167455   5911758   166699      34091         756   \n",
       "3         France   2115717   46772   2087183    46346      28534         426   \n",
       "4         Russia   1975629   34068   1954912    33619      20717         449   \n",
       "\n",
       "   Fatality Rate      Continent  \n",
       "0            2.2  North America  \n",
       "1            1.5           Asia  \n",
       "2            2.8  South America  \n",
       "3            2.2         Europe  \n",
       "4            1.7         Europe  "
      ]
     },
     "execution_count": 15,
     "metadata": {},
     "output_type": "execute_result"
    }
   ],
   "source": [
    "#hide\n",
    "df_table = (pd.DataFrame(dict(Cases=dfc_cases, Deaths=dfc_deaths, PCases=dfp_cases, PDeaths=dfp_deaths))\n",
    "             .sort_values(by=['Cases', 'Deaths'], ascending=[False, False])\n",
    "             .reset_index())\n",
    "df_table.rename(columns={'index': 'Country/Region'}, inplace=True)\n",
    "for c in 'Cases, Deaths'.split(', '):\n",
    "    df_table[f'{c} (+)'] = (df_table[c] - df_table[f'P{c}']).clip(0)  # DATA BUG\n",
    "df_table['Fatality Rate'] = (100 * df_table['Deaths'] / df_table['Cases']).round(1)\n",
    "df_table['Continent'] = df_table['Country/Region'].map(mapping['map.continent'])\n",
    "df_table.head(5)"
   ]
  },
  {
   "cell_type": "code",
   "execution_count": 16,
   "metadata": {
    "execution": {
     "iopub.execute_input": "2020-11-20T00:10:08.229697Z",
     "iopub.status.busy": "2020-11-20T00:10:08.229229Z",
     "iopub.status.idle": "2020-11-20T00:10:08.231498Z",
     "shell.execute_reply": "2020-11-20T00:10:08.232070Z"
    },
    "papermill": {
     "duration": 0.035101,
     "end_time": "2020-11-20T00:10:08.232196",
     "exception": false,
     "start_time": "2020-11-20T00:10:08.197095",
     "status": "completed"
    },
    "tags": []
   },
   "outputs": [],
   "source": [
    "#hide\n",
    "#delete problematic countries from table\n",
    "df_table = df_table[~df_table['Country/Region'].isin(['Cape Verde', 'Cruise Ship', 'Kosovo'])]"
   ]
  },
  {
   "cell_type": "code",
   "execution_count": 17,
   "metadata": {
    "execution": {
     "iopub.execute_input": "2020-11-20T00:10:08.298683Z",
     "iopub.status.busy": "2020-11-20T00:10:08.298140Z",
     "iopub.status.idle": "2020-11-20T00:10:08.300493Z",
     "shell.execute_reply": "2020-11-20T00:10:08.300005Z"
    },
    "papermill": {
     "duration": 0.044579,
     "end_time": "2020-11-20T00:10:08.300601",
     "exception": false,
     "start_time": "2020-11-20T00:10:08.256022",
     "status": "completed"
    },
    "tags": []
   },
   "outputs": [],
   "source": [
    "#hide\n",
    "metrics = [df_table.columns[index] for index in [1,2,5,6]]\n",
    "# s_china = df_table[df_table['Country/Region'].eq('China')][metrics].sum().add_prefix('China ')\n",
    "s_us = df_table[df_table['Country/Region'].eq('US')][metrics].sum().add_prefix('US ')\n",
    "s_eu = df_table[df_table['Continent'].eq('Europe')][metrics].sum().add_prefix('EU ')\n",
    "s_ind = df_table[df_table['Country/Region'].eq('India')][metrics].sum().add_prefix('India ')\n",
    "summary = {'updated': pd.to_datetime(dt_today), 'since': pd.to_datetime(dt_yday)}\n",
    "summary = {'updated': pd.to_datetime(dt_today), 'since': pd.to_datetime(dt_yday)}\n",
    "summary = {**summary, **df_table[metrics].sum(), **s_ind, **s_us, **s_eu}"
   ]
  },
  {
   "cell_type": "code",
   "execution_count": 18,
   "metadata": {
    "execution": {
     "iopub.execute_input": "2020-11-20T00:10:08.358769Z",
     "iopub.status.busy": "2020-11-20T00:10:08.358358Z",
     "iopub.status.idle": "2020-11-20T00:10:08.365387Z",
     "shell.execute_reply": "2020-11-20T00:10:08.365035Z"
    },
    "papermill": {
     "duration": 0.03924,
     "end_time": "2020-11-20T00:10:08.365471",
     "exception": false,
     "start_time": "2020-11-20T00:10:08.326231",
     "status": "completed"
    },
    "tags": []
   },
   "outputs": [],
   "source": [
    "#hide\n",
    "dft_ct_new_cases = dft_cases.groupby(COL_REGION)[dt_cols].sum().diff(axis=1).fillna(0).astype(int)"
   ]
  },
  {
   "cell_type": "code",
   "execution_count": 19,
   "metadata": {
    "execution": {
     "iopub.execute_input": "2020-11-20T00:10:08.424778Z",
     "iopub.status.busy": "2020-11-20T00:10:08.424301Z",
     "iopub.status.idle": "2020-11-20T00:10:08.426915Z",
     "shell.execute_reply": "2020-11-20T00:10:08.427321Z"
    },
    "papermill": {
     "duration": 0.036223,
     "end_time": "2020-11-20T00:10:08.427455",
     "exception": false,
     "start_time": "2020-11-20T00:10:08.391232",
     "status": "completed"
    },
    "tags": []
   },
   "outputs": [],
   "source": [
    "#hide\n",
    "everydaycases = dft_ct_new_cases.cumsum(axis=1)"
   ]
  },
  {
   "cell_type": "code",
   "execution_count": 20,
   "metadata": {
    "execution": {
     "iopub.execute_input": "2020-11-20T00:10:08.486318Z",
     "iopub.status.busy": "2020-11-20T00:10:08.485909Z",
     "iopub.status.idle": "2020-11-20T00:10:10.355369Z",
     "shell.execute_reply": "2020-11-20T00:10:10.354502Z"
    },
    "papermill": {
     "duration": 1.901392,
     "end_time": "2020-11-20T00:10:10.355592",
     "exception": false,
     "start_time": "2020-11-20T00:10:08.454200",
     "status": "completed"
    },
    "tags": []
   },
   "outputs": [],
   "source": [
    "#hide\n",
    "import pandas as pd\n",
    "import matplotlib.pyplot as plt\n",
    "import matplotlib.ticker as ticker\n",
    "import matplotlib.animation as animation\n",
    "from IPython.display import HTML"
   ]
  },
  {
   "cell_type": "code",
   "execution_count": 21,
   "metadata": {
    "execution": {
     "iopub.execute_input": "2020-11-20T00:10:10.420204Z",
     "iopub.status.busy": "2020-11-20T00:10:10.416246Z",
     "iopub.status.idle": "2020-11-20T00:10:10.425410Z",
     "shell.execute_reply": "2020-11-20T00:10:10.424948Z"
    },
    "papermill": {
     "duration": 0.038836,
     "end_time": "2020-11-20T00:10:10.425528",
     "exception": false,
     "start_time": "2020-11-20T00:10:10.386692",
     "status": "completed"
    },
    "tags": []
   },
   "outputs": [],
   "source": [
    "#hide\n",
    "t = everydaycases.stack()"
   ]
  },
  {
   "cell_type": "code",
   "execution_count": 22,
   "metadata": {
    "execution": {
     "iopub.execute_input": "2020-11-20T00:10:10.488474Z",
     "iopub.status.busy": "2020-11-20T00:10:10.487890Z",
     "iopub.status.idle": "2020-11-20T00:10:10.495395Z",
     "shell.execute_reply": "2020-11-20T00:10:10.494923Z"
    },
    "papermill": {
     "duration": 0.041676,
     "end_time": "2020-11-20T00:10:10.495522",
     "exception": false,
     "start_time": "2020-11-20T00:10:10.453846",
     "status": "completed"
    },
    "tags": []
   },
   "outputs": [],
   "source": [
    "#hide\n",
    "g = t.reset_index(['Country/Region'])"
   ]
  },
  {
   "cell_type": "code",
   "execution_count": 23,
   "metadata": {
    "execution": {
     "iopub.execute_input": "2020-11-20T00:10:10.560048Z",
     "iopub.status.busy": "2020-11-20T00:10:10.559414Z",
     "iopub.status.idle": "2020-11-20T00:10:10.561677Z",
     "shell.execute_reply": "2020-11-20T00:10:10.561181Z"
    },
    "papermill": {
     "duration": 0.036562,
     "end_time": "2020-11-20T00:10:10.561801",
     "exception": false,
     "start_time": "2020-11-20T00:10:10.525239",
     "status": "completed"
    },
    "tags": []
   },
   "outputs": [],
   "source": [
    "#hide\n",
    "g.index.name = 'date'"
   ]
  },
  {
   "cell_type": "code",
   "execution_count": 24,
   "metadata": {
    "execution": {
     "iopub.execute_input": "2020-11-20T00:10:10.627097Z",
     "iopub.status.busy": "2020-11-20T00:10:10.626527Z",
     "iopub.status.idle": "2020-11-20T00:10:10.628929Z",
     "shell.execute_reply": "2020-11-20T00:10:10.629397Z"
    },
    "papermill": {
     "duration": 0.036906,
     "end_time": "2020-11-20T00:10:10.629533",
     "exception": false,
     "start_time": "2020-11-20T00:10:10.592627",
     "status": "completed"
    },
    "tags": []
   },
   "outputs": [],
   "source": [
    "# #hide\n",
    "# g = g.reset_index(['date'])"
   ]
  },
  {
   "cell_type": "code",
   "execution_count": 25,
   "metadata": {
    "execution": {
     "iopub.execute_input": "2020-11-20T00:10:10.704373Z",
     "iopub.status.busy": "2020-11-20T00:10:10.703808Z",
     "iopub.status.idle": "2020-11-20T00:10:10.706198Z",
     "shell.execute_reply": "2020-11-20T00:10:10.705734Z"
    },
    "papermill": {
     "duration": 0.046274,
     "end_time": "2020-11-20T00:10:10.706309",
     "exception": false,
     "start_time": "2020-11-20T00:10:10.660035",
     "status": "completed"
    },
    "tags": []
   },
   "outputs": [],
   "source": [
    "#hide\n",
    "# g.head()"
   ]
  },
  {
   "cell_type": "code",
   "execution_count": 26,
   "metadata": {
    "execution": {
     "iopub.execute_input": "2020-11-20T00:10:10.770859Z",
     "iopub.status.busy": "2020-11-20T00:10:10.770340Z",
     "iopub.status.idle": "2020-11-20T00:10:10.772637Z",
     "shell.execute_reply": "2020-11-20T00:10:10.772165Z"
    },
    "papermill": {
     "duration": 0.035569,
     "end_time": "2020-11-20T00:10:10.772759",
     "exception": false,
     "start_time": "2020-11-20T00:10:10.737190",
     "status": "completed"
    },
    "tags": []
   },
   "outputs": [],
   "source": [
    "#hide\n",
    "# g.columns = ['date','country','cases']"
   ]
  },
  {
   "cell_type": "code",
   "execution_count": 27,
   "metadata": {
    "execution": {
     "iopub.execute_input": "2020-11-20T00:10:10.831996Z",
     "iopub.status.busy": "2020-11-20T00:10:10.831431Z",
     "iopub.status.idle": "2020-11-20T00:10:10.833493Z",
     "shell.execute_reply": "2020-11-20T00:10:10.833094Z"
    },
    "papermill": {
     "duration": 0.033944,
     "end_time": "2020-11-20T00:10:10.833580",
     "exception": false,
     "start_time": "2020-11-20T00:10:10.799636",
     "status": "completed"
    },
    "tags": []
   },
   "outputs": [],
   "source": [
    "#hide\n",
    "# g['continent'] = g.country"
   ]
  },
  {
   "cell_type": "code",
   "execution_count": 28,
   "metadata": {
    "execution": {
     "iopub.execute_input": "2020-11-20T00:10:10.889375Z",
     "iopub.status.busy": "2020-11-20T00:10:10.888845Z",
     "iopub.status.idle": "2020-11-20T00:10:10.890816Z",
     "shell.execute_reply": "2020-11-20T00:10:10.890419Z"
    },
    "papermill": {
     "duration": 0.032048,
     "end_time": "2020-11-20T00:10:10.890912",
     "exception": false,
     "start_time": "2020-11-20T00:10:10.858864",
     "status": "completed"
    },
    "tags": []
   },
   "outputs": [],
   "source": [
    "#hide\n",
    "# cols = list(g.columns.values)"
   ]
  },
  {
   "cell_type": "code",
   "execution_count": 29,
   "metadata": {
    "execution": {
     "iopub.execute_input": "2020-11-20T00:10:10.947478Z",
     "iopub.status.busy": "2020-11-20T00:10:10.946890Z",
     "iopub.status.idle": "2020-11-20T00:10:10.949001Z",
     "shell.execute_reply": "2020-11-20T00:10:10.948501Z"
    },
    "papermill": {
     "duration": 0.031781,
     "end_time": "2020-11-20T00:10:10.949115",
     "exception": false,
     "start_time": "2020-11-20T00:10:10.917334",
     "status": "completed"
    },
    "tags": []
   },
   "outputs": [],
   "source": [
    "#hide\n",
    "# cols.insert(0, cols.pop())"
   ]
  },
  {
   "cell_type": "code",
   "execution_count": 30,
   "metadata": {
    "execution": {
     "iopub.execute_input": "2020-11-20T00:10:11.008351Z",
     "iopub.status.busy": "2020-11-20T00:10:11.007782Z",
     "iopub.status.idle": "2020-11-20T00:10:11.010821Z",
     "shell.execute_reply": "2020-11-20T00:10:11.010378Z"
    },
    "papermill": {
     "duration": 0.036056,
     "end_time": "2020-11-20T00:10:11.010917",
     "exception": false,
     "start_time": "2020-11-20T00:10:10.974861",
     "status": "completed"
    },
    "tags": []
   },
   "outputs": [],
   "source": [
    "#hide\n",
    "# g = g[cols]"
   ]
  },
  {
   "cell_type": "code",
   "execution_count": 31,
   "metadata": {
    "execution": {
     "iopub.execute_input": "2020-11-20T00:10:11.075269Z",
     "iopub.status.busy": "2020-11-20T00:10:11.074738Z",
     "iopub.status.idle": "2020-11-20T00:10:11.077045Z",
     "shell.execute_reply": "2020-11-20T00:10:11.076665Z"
    },
    "papermill": {
     "duration": 0.03947,
     "end_time": "2020-11-20T00:10:11.077153",
     "exception": false,
     "start_time": "2020-11-20T00:10:11.037683",
     "status": "completed"
    },
    "tags": []
   },
   "outputs": [],
   "source": [
    "#hide\n",
    "# g['continent'] = g['continent'].map(mapping['map.continent'])"
   ]
  },
  {
   "cell_type": "code",
   "execution_count": 32,
   "metadata": {
    "execution": {
     "iopub.execute_input": "2020-11-20T00:10:11.137992Z",
     "iopub.status.busy": "2020-11-20T00:10:11.137428Z",
     "iopub.status.idle": "2020-11-20T00:10:11.139581Z",
     "shell.execute_reply": "2020-11-20T00:10:11.139089Z"
    },
    "papermill": {
     "duration": 0.034291,
     "end_time": "2020-11-20T00:10:11.139699",
     "exception": false,
     "start_time": "2020-11-20T00:10:11.105408",
     "status": "completed"
    },
    "tags": []
   },
   "outputs": [],
   "source": [
    "#hide\n",
    "# g.head()"
   ]
  },
  {
   "cell_type": "code",
   "execution_count": 33,
   "metadata": {
    "execution": {
     "iopub.execute_input": "2020-11-20T00:10:11.199428Z",
     "iopub.status.busy": "2020-11-20T00:10:11.198424Z",
     "iopub.status.idle": "2020-11-20T00:10:11.200532Z",
     "shell.execute_reply": "2020-11-20T00:10:11.201348Z"
    },
    "papermill": {
     "duration": 0.033573,
     "end_time": "2020-11-20T00:10:11.201571",
     "exception": false,
     "start_time": "2020-11-20T00:10:11.167998",
     "status": "completed"
    },
    "tags": []
   },
   "outputs": [],
   "source": [
    "# hide\n",
    "# g['date'] = g['date'].astype('datetime64[ns]')"
   ]
  },
  {
   "cell_type": "code",
   "execution_count": 34,
   "metadata": {
    "execution": {
     "iopub.execute_input": "2020-11-20T00:10:11.262763Z",
     "iopub.status.busy": "2020-11-20T00:10:11.262191Z",
     "iopub.status.idle": "2020-11-20T00:10:11.264304Z",
     "shell.execute_reply": "2020-11-20T00:10:11.264712Z"
    },
    "papermill": {
     "duration": 0.035882,
     "end_time": "2020-11-20T00:10:11.264838",
     "exception": false,
     "start_time": "2020-11-20T00:10:11.228956",
     "status": "completed"
    },
    "tags": []
   },
   "outputs": [],
   "source": [
    "#hide\n",
    "# g['date'] = g.date.dt.dayofyear"
   ]
  },
  {
   "cell_type": "code",
   "execution_count": 35,
   "metadata": {
    "execution": {
     "iopub.execute_input": "2020-11-20T00:10:11.321593Z",
     "iopub.status.busy": "2020-11-20T00:10:11.320996Z",
     "iopub.status.idle": "2020-11-20T00:10:11.323277Z",
     "shell.execute_reply": "2020-11-20T00:10:11.323728Z"
    },
    "papermill": {
     "duration": 0.034649,
     "end_time": "2020-11-20T00:10:11.323855",
     "exception": false,
     "start_time": "2020-11-20T00:10:11.289206",
     "status": "completed"
    },
    "tags": []
   },
   "outputs": [],
   "source": [
    "#hide\n",
    "# g = g.rename(columns= {'continent':'group','country':'name','cases':'value'})"
   ]
  },
  {
   "cell_type": "code",
   "execution_count": 36,
   "metadata": {
    "execution": {
     "iopub.execute_input": "2020-11-20T00:10:11.501499Z",
     "iopub.status.busy": "2020-11-20T00:10:11.500480Z",
     "iopub.status.idle": "2020-11-20T00:10:11.502630Z",
     "shell.execute_reply": "2020-11-20T00:10:11.503550Z"
    },
    "papermill": {
     "duration": 0.153542,
     "end_time": "2020-11-20T00:10:11.503772",
     "exception": false,
     "start_time": "2020-11-20T00:10:11.350230",
     "status": "completed"
    },
    "tags": []
   },
   "outputs": [],
   "source": [
    "#hide\n",
    "# cols = ['name','group','day','value']"
   ]
  },
  {
   "cell_type": "code",
   "execution_count": 37,
   "metadata": {
    "execution": {
     "iopub.execute_input": "2020-11-20T00:10:11.560880Z",
     "iopub.status.busy": "2020-11-20T00:10:11.560310Z",
     "iopub.status.idle": "2020-11-20T00:10:11.562848Z",
     "shell.execute_reply": "2020-11-20T00:10:11.563303Z"
    },
    "papermill": {
     "duration": 0.033516,
     "end_time": "2020-11-20T00:10:11.563415",
     "exception": false,
     "start_time": "2020-11-20T00:10:11.529899",
     "status": "completed"
    },
    "tags": []
   },
   "outputs": [],
   "source": [
    "#hide\n",
    "# g.rename(columns= {'date':'day'},inplace = True)"
   ]
  },
  {
   "cell_type": "code",
   "execution_count": 38,
   "metadata": {
    "execution": {
     "iopub.execute_input": "2020-11-20T00:10:11.621738Z",
     "iopub.status.busy": "2020-11-20T00:10:11.621177Z",
     "iopub.status.idle": "2020-11-20T00:10:11.623275Z",
     "shell.execute_reply": "2020-11-20T00:10:11.623856Z"
    },
    "papermill": {
     "duration": 0.032184,
     "end_time": "2020-11-20T00:10:11.623992",
     "exception": false,
     "start_time": "2020-11-20T00:10:11.591808",
     "status": "completed"
    },
    "tags": []
   },
   "outputs": [],
   "source": [
    "#hide\n",
    "# g = g[cols]"
   ]
  },
  {
   "cell_type": "code",
   "execution_count": 39,
   "metadata": {
    "execution": {
     "iopub.execute_input": "2020-11-20T00:10:11.694620Z",
     "iopub.status.busy": "2020-11-20T00:10:11.694117Z",
     "iopub.status.idle": "2020-11-20T00:10:11.696786Z",
     "shell.execute_reply": "2020-11-20T00:10:11.697373Z"
    },
    "papermill": {
     "duration": 0.044602,
     "end_time": "2020-11-20T00:10:11.697507",
     "exception": false,
     "start_time": "2020-11-20T00:10:11.652905",
     "status": "completed"
    },
    "tags": []
   },
   "outputs": [],
   "source": [
    "# #hide\n",
    "# g = g[g.group.notna()]"
   ]
  },
  {
   "cell_type": "code",
   "execution_count": 40,
   "metadata": {
    "execution": {
     "iopub.execute_input": "2020-11-20T00:10:11.760641Z",
     "iopub.status.busy": "2020-11-20T00:10:11.760037Z",
     "iopub.status.idle": "2020-11-20T00:10:11.762571Z",
     "shell.execute_reply": "2020-11-20T00:10:11.762077Z"
    },
    "papermill": {
     "duration": 0.036763,
     "end_time": "2020-11-20T00:10:11.762682",
     "exception": false,
     "start_time": "2020-11-20T00:10:11.725919",
     "status": "completed"
    },
    "tags": []
   },
   "outputs": [],
   "source": [
    "# #hide\n",
    "# colors = dict(zip(\n",
    "#     [\"Oceania\", \"Europe\", \"Asia\", \"South America\", \"Middle East\", \"North America\", \"Africa\"],\n",
    "#     [\"#adb0ff\", \"#ffb3ff\", \"#90d595\", \"#e48381\", \"#aafbff\", \"#f7bb5f\", \"#eafb50\"]\n",
    "# ))\n",
    "# group_lk = g.set_index('name')['group'].to_dict()"
   ]
  },
  {
   "cell_type": "code",
   "execution_count": null,
   "metadata": {
    "papermill": {
     "duration": 0.02937,
     "end_time": "2020-11-20T00:10:11.820658",
     "exception": false,
     "start_time": "2020-11-20T00:10:11.791288",
     "status": "completed"
    },
    "tags": []
   },
   "outputs": [],
   "source": []
  },
  {
   "cell_type": "code",
   "execution_count": 41,
   "metadata": {
    "execution": {
     "iopub.execute_input": "2020-11-20T00:10:11.885489Z",
     "iopub.status.busy": "2020-11-20T00:10:11.884891Z",
     "iopub.status.idle": "2020-11-20T00:10:11.887097Z",
     "shell.execute_reply": "2020-11-20T00:10:11.887623Z"
    },
    "papermill": {
     "duration": 0.036955,
     "end_time": "2020-11-20T00:10:11.887758",
     "exception": false,
     "start_time": "2020-11-20T00:10:11.850803",
     "status": "completed"
    },
    "tags": []
   },
   "outputs": [],
   "source": [
    "# #hide\n",
    "# fig, ax = plt.subplots(figsize=(15, 8))\n",
    "\n",
    "# def draw_barchart(current_day):\n",
    "#     dff = g[g['day'].eq(current_day)].sort_values(by='value', ascending=True).tail(10)\n",
    "#     ax.clear()\n",
    "#     ax.barh(dff['name'], dff['value'], color=[colors[group_lk[x]] for x in dff['name']])\n",
    "#     dx = dff['value'].max() / 200\n",
    "    \n",
    "#     for i, (value, name) in enumerate(zip(dff['value'], dff['name'])):\n",
    "#         ax.text(value-dx, i,     name,           size=14, weight=600, ha='right', va='bottom')\n",
    "#         ax.text(value-dx, i-.25, group_lk[name], size=10, color='#444444', ha='right', va='baseline')\n",
    "#         ax.text(value+dx, i,     f'{value:,.0f}',  size=14, ha='left',  va='center')\n",
    "#     ax.text(1, 0.4, current_day, transform=ax.transAxes, color='#777777', size=46, ha='right', weight=800)\n",
    "#     ax.text(0, 1.06, 'Population (thousands)', transform=ax.transAxes, size=12, color='#777777')\n",
    "#     ax.xaxis.set_major_formatter(ticker.StrMethodFormatter('{x:,.0f}'))\n",
    "#     ax.xaxis.set_ticks_position('top')\n",
    "#     ax.tick_params(axis='x', colors='#777777', labelsize=12)\n",
    "#     ax.set_yticks([])\n",
    "#     ax.margins(0, 0.01)\n",
    "#     ax.grid(which='major', axis='x', linestyle='-')\n",
    "#     ax.set_axisbelow(True)\n",
    "    \n",
    "#     ax.text(0, 1.15, 'Coronavirus',\n",
    "#             transform=ax.transAxes, size=24, weight=600, ha='left', va='top')\n",
    "# #     ax.text(1, 0, 'by @pratapvardhan; credit @jburnmurdoch', transform=ax.transAxes, color='#777777', ha='right',\n",
    "# #             bbox=dict(facecolor='white', alpha=0.8, edgecolor='white'))\n",
    "#     plt.box(False)"
   ]
  },
  {
   "cell_type": "code",
   "execution_count": 42,
   "metadata": {
    "execution": {
     "iopub.execute_input": "2020-11-20T00:10:11.943252Z",
     "iopub.status.busy": "2020-11-20T00:10:11.942693Z",
     "iopub.status.idle": "2020-11-20T00:10:11.944887Z",
     "shell.execute_reply": "2020-11-20T00:10:11.944530Z"
    },
    "papermill": {
     "duration": 0.0318,
     "end_time": "2020-11-20T00:10:11.944978",
     "exception": false,
     "start_time": "2020-11-20T00:10:11.913178",
     "status": "completed"
    },
    "tags": []
   },
   "outputs": [],
   "source": [
    "# #hide_input\n",
    "# fig, ax = plt.subplots(figsize=(15, 8))\n",
    "# animator = animation.FuncAnimation(fig, draw_barchart, frames=range(g.day.values.min(), g.day.values.max()))\n",
    "# HTML(animator.to_jshtml())\n",
    "# # or use animator.to_html5_video() or animator.save() "
   ]
  },
  {
   "cell_type": "code",
   "execution_count": null,
   "metadata": {
    "papermill": {
     "duration": 0.023969,
     "end_time": "2020-11-20T00:10:11.992789",
     "exception": false,
     "start_time": "2020-11-20T00:10:11.968820",
     "status": "completed"
    },
    "tags": []
   },
   "outputs": [],
   "source": []
  },
  {
   "cell_type": "code",
   "execution_count": null,
   "metadata": {
    "papermill": {
     "duration": 0.028094,
     "end_time": "2020-11-20T00:10:12.046346",
     "exception": false,
     "start_time": "2020-11-20T00:10:12.018252",
     "status": "completed"
    },
    "tags": []
   },
   "outputs": [],
   "source": []
  },
  {
   "cell_type": "code",
   "execution_count": null,
   "metadata": {
    "papermill": {
     "duration": 0.028841,
     "end_time": "2020-11-20T00:10:12.103918",
     "exception": false,
     "start_time": "2020-11-20T00:10:12.075077",
     "status": "completed"
    },
    "tags": []
   },
   "outputs": [],
   "source": []
  }
 ],
 "metadata": {
  "kernelspec": {
   "display_name": "Python 3",
   "language": "python",
   "name": "python3"
  },
  "language_info": {
   "codemirror_mode": {
    "name": "ipython",
    "version": 3
   },
   "file_extension": ".py",
   "mimetype": "text/x-python",
   "name": "python",
   "nbconvert_exporter": "python",
   "pygments_lexer": "ipython3",
   "version": "3.6.12"
  },
  "papermill": {
   "duration": 6.937137,
   "end_time": "2020-11-20T00:10:12.441989",
   "environment_variables": {},
   "exception": null,
   "input_path": "2020-03-21-covid19exp.ipynb",
   "output_path": "2020-03-21-covid19exp.ipynb",
   "parameters": {},
   "start_time": "2020-11-20T00:10:05.504852",
   "version": "2.0.0"
  }
 },
 "nbformat": 4,
 "nbformat_minor": 4
}