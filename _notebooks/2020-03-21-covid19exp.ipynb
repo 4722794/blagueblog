{
 "cells": [
  {
   "cell_type": "markdown",
   "id": "muslim-click",
   "metadata": {
    "papermill": {
     "duration": 0.03404,
     "end_time": "2021-09-02T00:22:21.873459",
     "exception": false,
     "start_time": "2021-09-02T00:22:21.839419",
     "status": "completed"
    },
    "tags": []
   },
   "source": [
    "# COVID-19 Case Race\n",
    "> A race chart to see rising cases around the world\n",
    "\n",
    "- author: Hargun Oberoi\n",
    "- image: images/covid-overview.png\n",
    "- hide: false\n",
    "- badges: false"
   ]
  },
  {
   "cell_type": "code",
   "execution_count": 1,
   "id": "proof-material",
   "metadata": {
    "execution": {
     "iopub.execute_input": "2021-09-02T00:22:21.942493Z",
     "iopub.status.busy": "2021-09-02T00:22:21.941951Z",
     "iopub.status.idle": "2021-09-02T00:22:22.258433Z",
     "shell.execute_reply": "2021-09-02T00:22:22.257907Z"
    },
    "papermill": {
     "duration": 0.355347,
     "end_time": "2021-09-02T00:22:22.258579",
     "exception": false,
     "start_time": "2021-09-02T00:22:21.903232",
     "status": "completed"
    },
    "tags": []
   },
   "outputs": [],
   "source": [
    "#hide\n",
    "import numpy as np\n",
    "import pandas as pd\n",
    "from jinja2 import Template\n",
    "from IPython.display import HTML"
   ]
  },
  {
   "cell_type": "code",
   "execution_count": 2,
   "id": "developed-terminology",
   "metadata": {
    "execution": {
     "iopub.execute_input": "2021-09-02T00:22:22.324220Z",
     "iopub.status.busy": "2021-09-02T00:22:22.323603Z",
     "iopub.status.idle": "2021-09-02T00:22:22.325017Z",
     "shell.execute_reply": "2021-09-02T00:22:22.325549Z"
    },
    "papermill": {
     "duration": 0.03684,
     "end_time": "2021-09-02T00:22:22.325696",
     "exception": false,
     "start_time": "2021-09-02T00:22:22.288856",
     "status": "completed"
    },
    "tags": []
   },
   "outputs": [],
   "source": [
    "#hide\n",
    "\n",
    "# FETCH\n",
    "base_url = 'https://raw.githubusercontent.com/pratapvardhan/notebooks/master/covid19/'\n",
    "paths = {\n",
    "    'mapping': base_url + 'mapping_countries.csv',\n",
    "    'overview': base_url + 'overview.tpl'\n",
    "}"
   ]
  },
  {
   "cell_type": "code",
   "execution_count": 3,
   "id": "dynamic-saver",
   "metadata": {
    "execution": {
     "iopub.execute_input": "2021-09-02T00:22:22.394770Z",
     "iopub.status.busy": "2021-09-02T00:22:22.394240Z",
     "iopub.status.idle": "2021-09-02T00:22:22.397413Z",
     "shell.execute_reply": "2021-09-02T00:22:22.396987Z"
    },
    "papermill": {
     "duration": 0.042447,
     "end_time": "2021-09-02T00:22:22.397519",
     "exception": false,
     "start_time": "2021-09-02T00:22:22.355072",
     "status": "completed"
    },
    "tags": []
   },
   "outputs": [
    {
     "data": {
      "text/plain": [
       "'https://raw.githubusercontent.com/pratapvardhan/notebooks/master/covid19/mapping_countries.csv'"
      ]
     },
     "execution_count": 3,
     "metadata": {},
     "output_type": "execute_result"
    }
   ],
   "source": [
    "#hide\n",
    "paths['mapping']"
   ]
  },
  {
   "cell_type": "code",
   "execution_count": 4,
   "id": "urban-software",
   "metadata": {
    "execution": {
     "iopub.execute_input": "2021-09-02T00:22:22.461958Z",
     "iopub.status.busy": "2021-09-02T00:22:22.461445Z",
     "iopub.status.idle": "2021-09-02T00:22:22.463488Z",
     "shell.execute_reply": "2021-09-02T00:22:22.463891Z"
    },
    "papermill": {
     "duration": 0.036821,
     "end_time": "2021-09-02T00:22:22.464012",
     "exception": false,
     "start_time": "2021-09-02T00:22:22.427191",
     "status": "completed"
    },
    "tags": []
   },
   "outputs": [],
   "source": [
    "#hide\n",
    "def get_mappings(url):\n",
    "    df = pd.read_csv(url)\n",
    "    return {\n",
    "        'df': df,\n",
    "        'replace.country': dict(df.dropna(subset=['Name']).set_index('Country')['Name']),\n",
    "        'map.continent': dict(df.set_index('Name')['Continent'])\n",
    "    }"
   ]
  },
  {
   "cell_type": "code",
   "execution_count": 5,
   "id": "intimate-machinery",
   "metadata": {
    "execution": {
     "iopub.execute_input": "2021-09-02T00:22:22.528390Z",
     "iopub.status.busy": "2021-09-02T00:22:22.527847Z",
     "iopub.status.idle": "2021-09-02T00:22:22.556489Z",
     "shell.execute_reply": "2021-09-02T00:22:22.555978Z"
    },
    "papermill": {
     "duration": 0.06309,
     "end_time": "2021-09-02T00:22:22.556621",
     "exception": false,
     "start_time": "2021-09-02T00:22:22.493531",
     "status": "completed"
    },
    "tags": []
   },
   "outputs": [],
   "source": [
    "#hide\n",
    "mapping = get_mappings(paths['mapping'])"
   ]
  },
  {
   "cell_type": "code",
   "execution_count": 6,
   "id": "certified-tactics",
   "metadata": {
    "execution": {
     "iopub.execute_input": "2021-09-02T00:22:22.621760Z",
     "iopub.status.busy": "2021-09-02T00:22:22.621242Z",
     "iopub.status.idle": "2021-09-02T00:22:22.623281Z",
     "shell.execute_reply": "2021-09-02T00:22:22.622881Z"
    },
    "papermill": {
     "duration": 0.036473,
     "end_time": "2021-09-02T00:22:22.623391",
     "exception": false,
     "start_time": "2021-09-02T00:22:22.586918",
     "status": "completed"
    },
    "tags": []
   },
   "outputs": [],
   "source": [
    "#hide\n",
    "def get_template(path):\n",
    "    from urllib.parse import urlparse\n",
    "    if bool(urlparse(path).netloc):\n",
    "        from urllib.request import urlopen\n",
    "        return urlopen(path).read().decode('utf8')\n",
    "    return open(path).read()"
   ]
  },
  {
   "cell_type": "code",
   "execution_count": 7,
   "id": "realistic-blast",
   "metadata": {
    "execution": {
     "iopub.execute_input": "2021-09-02T00:22:22.687519Z",
     "iopub.status.busy": "2021-09-02T00:22:22.687009Z",
     "iopub.status.idle": "2021-09-02T00:22:22.689606Z",
     "shell.execute_reply": "2021-09-02T00:22:22.689187Z"
    },
    "papermill": {
     "duration": 0.036591,
     "end_time": "2021-09-02T00:22:22.689718",
     "exception": false,
     "start_time": "2021-09-02T00:22:22.653127",
     "status": "completed"
    },
    "tags": []
   },
   "outputs": [],
   "source": [
    "#hide\n",
    "def get_frame(name):\n",
    "    url = (\n",
    "        'https://raw.githubusercontent.com/CSSEGISandData/COVID-19/master/csse_covid_19_data/'\n",
    "        f'csse_covid_19_time_series/time_series_covid19_{name}_global.csv')\n",
    "    df = pd.read_csv(url)\n",
    "    # rename countries\n",
    "    df['Country/Region'] = df['Country/Region'].replace(mapping['replace.country'])\n",
    "    return df"
   ]
  },
  {
   "cell_type": "code",
   "execution_count": 8,
   "id": "affiliated-characterization",
   "metadata": {
    "execution": {
     "iopub.execute_input": "2021-09-02T00:22:22.754890Z",
     "iopub.status.busy": "2021-09-02T00:22:22.754375Z",
     "iopub.status.idle": "2021-09-02T00:22:22.756295Z",
     "shell.execute_reply": "2021-09-02T00:22:22.755803Z"
    },
    "papermill": {
     "duration": 0.036969,
     "end_time": "2021-09-02T00:22:22.756423",
     "exception": false,
     "start_time": "2021-09-02T00:22:22.719454",
     "status": "completed"
    },
    "tags": []
   },
   "outputs": [],
   "source": [
    "#hide\n",
    "def get_dates(df):\n",
    "    dt_cols = df.columns[~df.columns.isin(['Province/State', 'Country/Region', 'Lat', 'Long'])]\n",
    "    LAST_DATE_I = -1\n",
    "    # sometimes last column may be empty, then go backwards\n",
    "    for i in range(-1, -len(dt_cols), -1):\n",
    "        if not df[dt_cols[i]].fillna(0).eq(0).all():\n",
    "            LAST_DATE_I = i\n",
    "            break\n",
    "    return LAST_DATE_I, dt_cols"
   ]
  },
  {
   "cell_type": "code",
   "execution_count": 9,
   "id": "recent-optimization",
   "metadata": {
    "execution": {
     "iopub.execute_input": "2021-09-02T00:22:22.820899Z",
     "iopub.status.busy": "2021-09-02T00:22:22.820305Z",
     "iopub.status.idle": "2021-09-02T00:22:23.098225Z",
     "shell.execute_reply": "2021-09-02T00:22:23.098695Z"
    },
    "papermill": {
     "duration": 0.312865,
     "end_time": "2021-09-02T00:22:23.098855",
     "exception": false,
     "start_time": "2021-09-02T00:22:22.785990",
     "status": "completed"
    },
    "tags": []
   },
   "outputs": [],
   "source": [
    "#hide\n",
    "COL_REGION = 'Country/Region'\n",
    "# Confirmed, Recovered, Deaths\n",
    "df = get_frame('confirmed')\n",
    "# dft_: timeseries, dfc_: today country agg\n",
    "dft_cases = df\n",
    "dft_deaths = get_frame('deaths')\n",
    "dft_recovered = get_frame('recovered')\n",
    "LAST_DATE_I, dt_cols = get_dates(df)"
   ]
  },
  {
   "cell_type": "code",
   "execution_count": 10,
   "id": "absolute-copper",
   "metadata": {
    "execution": {
     "iopub.execute_input": "2021-09-02T00:22:23.164105Z",
     "iopub.status.busy": "2021-09-02T00:22:23.163577Z",
     "iopub.status.idle": "2021-09-02T00:22:23.165937Z",
     "shell.execute_reply": "2021-09-02T00:22:23.165510Z"
    },
    "papermill": {
     "duration": 0.036686,
     "end_time": "2021-09-02T00:22:23.166043",
     "exception": false,
     "start_time": "2021-09-02T00:22:23.129357",
     "status": "completed"
    },
    "tags": []
   },
   "outputs": [],
   "source": [
    "#hide\n",
    "LAST_DATE_I, dt_cols = get_dates(df)\n",
    "dt_today =dt_cols[LAST_DATE_I]\n",
    "# dt_5day = dt_cols[LAST_DATE_I - 5]\n",
    "dt_yday = dt_cols[LAST_DATE_I - 1]"
   ]
  },
  {
   "cell_type": "code",
   "execution_count": 11,
   "id": "restricted-sheriff",
   "metadata": {
    "execution": {
     "iopub.execute_input": "2021-09-02T00:22:23.233251Z",
     "iopub.status.busy": "2021-09-02T00:22:23.232723Z",
     "iopub.status.idle": "2021-09-02T00:22:23.238489Z",
     "shell.execute_reply": "2021-09-02T00:22:23.238059Z"
    },
    "papermill": {
     "duration": 0.042777,
     "end_time": "2021-09-02T00:22:23.238596",
     "exception": false,
     "start_time": "2021-09-02T00:22:23.195819",
     "status": "completed"
    },
    "tags": []
   },
   "outputs": [],
   "source": [
    "#hide\n",
    "dfc_cases = dft_cases.groupby(COL_REGION)[dt_today].sum()\n",
    "dfc_deaths = dft_deaths.groupby(COL_REGION)[dt_today].sum()\n",
    "# dfp_cases = dft_cases.groupby(COL_REGION)[dt_5day].sum()\n",
    "# dfp_deaths = dft_deaths.groupby(COL_REGION)[dt_5day].sum()\n",
    "dfp_cases = dft_cases.groupby(COL_REGION)[dt_yday].sum()\n",
    "dfp_deaths = dft_deaths.groupby(COL_REGION)[dt_yday].sum()"
   ]
  },
  {
   "cell_type": "code",
   "execution_count": 12,
   "id": "deluxe-hepatitis",
   "metadata": {
    "execution": {
     "iopub.execute_input": "2021-09-02T00:22:23.303594Z",
     "iopub.status.busy": "2021-09-02T00:22:23.303082Z",
     "iopub.status.idle": "2021-09-02T00:22:23.307569Z",
     "shell.execute_reply": "2021-09-02T00:22:23.307949Z"
    },
    "papermill": {
     "duration": 0.039605,
     "end_time": "2021-09-02T00:22:23.308078",
     "exception": false,
     "start_time": "2021-09-02T00:22:23.268473",
     "status": "completed"
    },
    "tags": []
   },
   "outputs": [],
   "source": [
    "#hide\n",
    "df_table = (pd.DataFrame(dict(Cases = dfc_cases, Deaths = dfc_deaths, PCases = dfp_cases, PDeaths = dfp_deaths))\n",
    "            .sort_values(by = ['Cases','Deaths'], ascending = [False, False])\n",
    "            .reset_index())"
   ]
  },
  {
   "cell_type": "code",
   "execution_count": 13,
   "id": "educational-chancellor",
   "metadata": {
    "execution": {
     "iopub.execute_input": "2021-09-02T00:22:23.386559Z",
     "iopub.status.busy": "2021-09-02T00:22:23.385976Z",
     "iopub.status.idle": "2021-09-02T00:22:23.392741Z",
     "shell.execute_reply": "2021-09-02T00:22:23.393124Z"
    },
    "papermill": {
     "duration": 0.055539,
     "end_time": "2021-09-02T00:22:23.393257",
     "exception": false,
     "start_time": "2021-09-02T00:22:23.337718",
     "status": "completed"
    },
    "tags": []
   },
   "outputs": [
    {
     "data": {
      "text/html": [
       "<div>\n",
       "<style scoped>\n",
       "    .dataframe tbody tr th:only-of-type {\n",
       "        vertical-align: middle;\n",
       "    }\n",
       "\n",
       "    .dataframe tbody tr th {\n",
       "        vertical-align: top;\n",
       "    }\n",
       "\n",
       "    .dataframe thead th {\n",
       "        text-align: right;\n",
       "    }\n",
       "</style>\n",
       "<table border=\"1\" class=\"dataframe\">\n",
       "  <thead>\n",
       "    <tr style=\"text-align: right;\">\n",
       "      <th></th>\n",
       "      <th>Country/Region</th>\n",
       "      <th>Cases</th>\n",
       "      <th>Deaths</th>\n",
       "      <th>PCases</th>\n",
       "      <th>PDeaths</th>\n",
       "      <th>Cases (+)</th>\n",
       "      <th>Deaths (+)</th>\n",
       "      <th>Fatality Rate</th>\n",
       "      <th>Continent</th>\n",
       "    </tr>\n",
       "  </thead>\n",
       "  <tbody>\n",
       "    <tr>\n",
       "      <th>0</th>\n",
       "      <td>US</td>\n",
       "      <td>39198131</td>\n",
       "      <td>640108</td>\n",
       "      <td>39057426</td>\n",
       "      <td>638711</td>\n",
       "      <td>140705</td>\n",
       "      <td>1397</td>\n",
       "      <td>1.63</td>\n",
       "      <td>North America</td>\n",
       "    </tr>\n",
       "    <tr>\n",
       "      <th>1</th>\n",
       "      <td>India</td>\n",
       "      <td>32810845</td>\n",
       "      <td>439020</td>\n",
       "      <td>32768880</td>\n",
       "      <td>438560</td>\n",
       "      <td>41965</td>\n",
       "      <td>460</td>\n",
       "      <td>1.34</td>\n",
       "      <td>Asia</td>\n",
       "    </tr>\n",
       "    <tr>\n",
       "      <th>2</th>\n",
       "      <td>Brazil</td>\n",
       "      <td>20776870</td>\n",
       "      <td>580413</td>\n",
       "      <td>20752281</td>\n",
       "      <td>579574</td>\n",
       "      <td>24589</td>\n",
       "      <td>839</td>\n",
       "      <td>2.79</td>\n",
       "      <td>South America</td>\n",
       "    </tr>\n",
       "    <tr>\n",
       "      <th>3</th>\n",
       "      <td>France</td>\n",
       "      <td>6834930</td>\n",
       "      <td>126227</td>\n",
       "      <td>6834906</td>\n",
       "      <td>126079</td>\n",
       "      <td>24</td>\n",
       "      <td>148</td>\n",
       "      <td>1.85</td>\n",
       "      <td>Europe</td>\n",
       "    </tr>\n",
       "    <tr>\n",
       "      <th>4</th>\n",
       "      <td>United Kingdom</td>\n",
       "      <td>6821356</td>\n",
       "      <td>132859</td>\n",
       "      <td>6789189</td>\n",
       "      <td>132808</td>\n",
       "      <td>32167</td>\n",
       "      <td>51</td>\n",
       "      <td>1.95</td>\n",
       "      <td>Europe</td>\n",
       "    </tr>\n",
       "  </tbody>\n",
       "</table>\n",
       "</div>"
      ],
      "text/plain": [
       "   Country/Region     Cases  Deaths    PCases  PDeaths  Cases (+)  Deaths (+)  \\\n",
       "0              US  39198131  640108  39057426   638711     140705        1397   \n",
       "1           India  32810845  439020  32768880   438560      41965         460   \n",
       "2          Brazil  20776870  580413  20752281   579574      24589         839   \n",
       "3          France   6834930  126227   6834906   126079         24         148   \n",
       "4  United Kingdom   6821356  132859   6789189   132808      32167          51   \n",
       "\n",
       "   Fatality Rate      Continent  \n",
       "0           1.63  North America  \n",
       "1           1.34           Asia  \n",
       "2           2.79  South America  \n",
       "3           1.85         Europe  \n",
       "4           1.95         Europe  "
      ]
     },
     "execution_count": 13,
     "metadata": {},
     "output_type": "execute_result"
    }
   ],
   "source": [
    "#hide\n",
    "for c in 'Cases, Deaths'.split(', '):\n",
    "    df_table[f'{c} (+)'] = (df_table[c] - df_table[f'P{c}']).clip(0)\n",
    "    #Clip ça veut dire, les chiffres negatif sont interdit\n",
    "df_table['Fatality Rate'] = (100* df_table['Deaths']/ df_table['Cases']).round(2)\n",
    "df_table['Continent'] = df_table['Country/Region'].map(mapping['map.continent'])\n",
    "df_table.head(5)"
   ]
  },
  {
   "cell_type": "code",
   "execution_count": 14,
   "id": "aboriginal-bulgaria",
   "metadata": {
    "execution": {
     "iopub.execute_input": "2021-09-02T00:22:23.459088Z",
     "iopub.status.busy": "2021-09-02T00:22:23.458570Z",
     "iopub.status.idle": "2021-09-02T00:22:23.461749Z",
     "shell.execute_reply": "2021-09-02T00:22:23.461345Z"
    },
    "papermill": {
     "duration": 0.038156,
     "end_time": "2021-09-02T00:22:23.461860",
     "exception": false,
     "start_time": "2021-09-02T00:22:23.423704",
     "status": "completed"
    },
    "tags": []
   },
   "outputs": [],
   "source": [
    "#hide\n",
    "#delete problematic countries from table\n",
    "df_table = df_table[~df_table['Country/Region'].isin(['Cape Verde', 'Cruise Ship', 'Kosovo'])]"
   ]
  },
  {
   "cell_type": "code",
   "execution_count": 15,
   "id": "fantastic-effect",
   "metadata": {
    "execution": {
     "iopub.execute_input": "2021-09-02T00:22:23.529376Z",
     "iopub.status.busy": "2021-09-02T00:22:23.528848Z",
     "iopub.status.idle": "2021-09-02T00:22:23.546740Z",
     "shell.execute_reply": "2021-09-02T00:22:23.546328Z"
    },
    "papermill": {
     "duration": 0.054906,
     "end_time": "2021-09-02T00:22:23.546854",
     "exception": false,
     "start_time": "2021-09-02T00:22:23.491948",
     "status": "completed"
    },
    "tags": []
   },
   "outputs": [
    {
     "data": {
      "text/html": [
       "<div>\n",
       "<style scoped>\n",
       "    .dataframe tbody tr th:only-of-type {\n",
       "        vertical-align: middle;\n",
       "    }\n",
       "\n",
       "    .dataframe tbody tr th {\n",
       "        vertical-align: top;\n",
       "    }\n",
       "\n",
       "    .dataframe thead th {\n",
       "        text-align: right;\n",
       "    }\n",
       "</style>\n",
       "<table border=\"1\" class=\"dataframe\">\n",
       "  <thead>\n",
       "    <tr style=\"text-align: right;\">\n",
       "      <th></th>\n",
       "      <th>Country/Region</th>\n",
       "      <th>Cases</th>\n",
       "      <th>Deaths</th>\n",
       "      <th>PCases</th>\n",
       "      <th>PDeaths</th>\n",
       "      <th>Cases (+)</th>\n",
       "      <th>Deaths (+)</th>\n",
       "      <th>Fatality Rate</th>\n",
       "      <th>Continent</th>\n",
       "    </tr>\n",
       "  </thead>\n",
       "  <tbody>\n",
       "    <tr>\n",
       "      <th>0</th>\n",
       "      <td>US</td>\n",
       "      <td>39198131</td>\n",
       "      <td>640108</td>\n",
       "      <td>39057426</td>\n",
       "      <td>638711</td>\n",
       "      <td>140705</td>\n",
       "      <td>1397</td>\n",
       "      <td>1.6</td>\n",
       "      <td>North America</td>\n",
       "    </tr>\n",
       "    <tr>\n",
       "      <th>1</th>\n",
       "      <td>India</td>\n",
       "      <td>32810845</td>\n",
       "      <td>439020</td>\n",
       "      <td>32768880</td>\n",
       "      <td>438560</td>\n",
       "      <td>41965</td>\n",
       "      <td>460</td>\n",
       "      <td>1.3</td>\n",
       "      <td>Asia</td>\n",
       "    </tr>\n",
       "    <tr>\n",
       "      <th>2</th>\n",
       "      <td>Brazil</td>\n",
       "      <td>20776870</td>\n",
       "      <td>580413</td>\n",
       "      <td>20752281</td>\n",
       "      <td>579574</td>\n",
       "      <td>24589</td>\n",
       "      <td>839</td>\n",
       "      <td>2.8</td>\n",
       "      <td>South America</td>\n",
       "    </tr>\n",
       "    <tr>\n",
       "      <th>3</th>\n",
       "      <td>France</td>\n",
       "      <td>6834930</td>\n",
       "      <td>126227</td>\n",
       "      <td>6834906</td>\n",
       "      <td>126079</td>\n",
       "      <td>24</td>\n",
       "      <td>148</td>\n",
       "      <td>1.8</td>\n",
       "      <td>Europe</td>\n",
       "    </tr>\n",
       "    <tr>\n",
       "      <th>4</th>\n",
       "      <td>United Kingdom</td>\n",
       "      <td>6821356</td>\n",
       "      <td>132859</td>\n",
       "      <td>6789189</td>\n",
       "      <td>132808</td>\n",
       "      <td>32167</td>\n",
       "      <td>51</td>\n",
       "      <td>1.9</td>\n",
       "      <td>Europe</td>\n",
       "    </tr>\n",
       "  </tbody>\n",
       "</table>\n",
       "</div>"
      ],
      "text/plain": [
       "   Country/Region     Cases  Deaths    PCases  PDeaths  Cases (+)  Deaths (+)  \\\n",
       "0              US  39198131  640108  39057426   638711     140705        1397   \n",
       "1           India  32810845  439020  32768880   438560      41965         460   \n",
       "2          Brazil  20776870  580413  20752281   579574      24589         839   \n",
       "3          France   6834930  126227   6834906   126079         24         148   \n",
       "4  United Kingdom   6821356  132859   6789189   132808      32167          51   \n",
       "\n",
       "   Fatality Rate      Continent  \n",
       "0            1.6  North America  \n",
       "1            1.3           Asia  \n",
       "2            2.8  South America  \n",
       "3            1.8         Europe  \n",
       "4            1.9         Europe  "
      ]
     },
     "execution_count": 15,
     "metadata": {},
     "output_type": "execute_result"
    }
   ],
   "source": [
    "#hide\n",
    "df_table = (pd.DataFrame(dict(Cases=dfc_cases, Deaths=dfc_deaths, PCases=dfp_cases, PDeaths=dfp_deaths))\n",
    "             .sort_values(by=['Cases', 'Deaths'], ascending=[False, False])\n",
    "             .reset_index())\n",
    "df_table.rename(columns={'index': 'Country/Region'}, inplace=True)\n",
    "for c in 'Cases, Deaths'.split(', '):\n",
    "    df_table[f'{c} (+)'] = (df_table[c] - df_table[f'P{c}']).clip(0)  # DATA BUG\n",
    "df_table['Fatality Rate'] = (100 * df_table['Deaths'] / df_table['Cases']).round(1)\n",
    "df_table['Continent'] = df_table['Country/Region'].map(mapping['map.continent'])\n",
    "df_table.head(5)"
   ]
  },
  {
   "cell_type": "code",
   "execution_count": 16,
   "id": "fewer-occasion",
   "metadata": {
    "execution": {
     "iopub.execute_input": "2021-09-02T00:22:23.613642Z",
     "iopub.status.busy": "2021-09-02T00:22:23.613139Z",
     "iopub.status.idle": "2021-09-02T00:22:23.615532Z",
     "shell.execute_reply": "2021-09-02T00:22:23.615106Z"
    },
    "papermill": {
     "duration": 0.038147,
     "end_time": "2021-09-02T00:22:23.615636",
     "exception": false,
     "start_time": "2021-09-02T00:22:23.577489",
     "status": "completed"
    },
    "tags": []
   },
   "outputs": [],
   "source": [
    "#hide\n",
    "#delete problematic countries from table\n",
    "df_table = df_table[~df_table['Country/Region'].isin(['Cape Verde', 'Cruise Ship', 'Kosovo'])]"
   ]
  },
  {
   "cell_type": "code",
   "execution_count": 17,
   "id": "related-center",
   "metadata": {
    "execution": {
     "iopub.execute_input": "2021-09-02T00:22:23.684490Z",
     "iopub.status.busy": "2021-09-02T00:22:23.683937Z",
     "iopub.status.idle": "2021-09-02T00:22:23.695782Z",
     "shell.execute_reply": "2021-09-02T00:22:23.695366Z"
    },
    "papermill": {
     "duration": 0.049903,
     "end_time": "2021-09-02T00:22:23.695895",
     "exception": false,
     "start_time": "2021-09-02T00:22:23.645992",
     "status": "completed"
    },
    "tags": []
   },
   "outputs": [],
   "source": [
    "#hide\n",
    "metrics = [df_table.columns[index] for index in [1,2,5,6]]\n",
    "# s_china = df_table[df_table['Country/Region'].eq('China')][metrics].sum().add_prefix('China ')\n",
    "s_us = df_table[df_table['Country/Region'].eq('US')][metrics].sum().add_prefix('US ')\n",
    "s_eu = df_table[df_table['Continent'].eq('Europe')][metrics].sum().add_prefix('EU ')\n",
    "s_ind = df_table[df_table['Country/Region'].eq('India')][metrics].sum().add_prefix('India ')\n",
    "summary = {'updated': pd.to_datetime(dt_today), 'since': pd.to_datetime(dt_yday)}\n",
    "summary = {'updated': pd.to_datetime(dt_today), 'since': pd.to_datetime(dt_yday)}\n",
    "summary = {**summary, **df_table[metrics].sum(), **s_ind, **s_us, **s_eu}"
   ]
  },
  {
   "cell_type": "code",
   "execution_count": 18,
   "id": "engaging-syndrome",
   "metadata": {
    "execution": {
     "iopub.execute_input": "2021-09-02T00:22:23.761998Z",
     "iopub.status.busy": "2021-09-02T00:22:23.761470Z",
     "iopub.status.idle": "2021-09-02T00:22:23.774120Z",
     "shell.execute_reply": "2021-09-02T00:22:23.774506Z"
    },
    "papermill": {
     "duration": 0.048067,
     "end_time": "2021-09-02T00:22:23.774638",
     "exception": false,
     "start_time": "2021-09-02T00:22:23.726571",
     "status": "completed"
    },
    "tags": []
   },
   "outputs": [],
   "source": [
    "#hide\n",
    "dft_ct_new_cases = dft_cases.groupby(COL_REGION)[dt_cols].sum().diff(axis=1).fillna(0).astype(int)"
   ]
  },
  {
   "cell_type": "code",
   "execution_count": 19,
   "id": "neutral-assignment",
   "metadata": {
    "execution": {
     "iopub.execute_input": "2021-09-02T00:22:23.841542Z",
     "iopub.status.busy": "2021-09-02T00:22:23.841034Z",
     "iopub.status.idle": "2021-09-02T00:22:23.842773Z",
     "shell.execute_reply": "2021-09-02T00:22:23.843197Z"
    },
    "papermill": {
     "duration": 0.038137,
     "end_time": "2021-09-02T00:22:23.843320",
     "exception": false,
     "start_time": "2021-09-02T00:22:23.805183",
     "status": "completed"
    },
    "tags": []
   },
   "outputs": [],
   "source": [
    "#hide\n",
    "everydaycases = dft_ct_new_cases.cumsum(axis=1)"
   ]
  },
  {
   "cell_type": "code",
   "execution_count": 20,
   "id": "parliamentary-calgary",
   "metadata": {
    "execution": {
     "iopub.execute_input": "2021-09-02T00:22:23.907970Z",
     "iopub.status.busy": "2021-09-02T00:22:23.907460Z",
     "iopub.status.idle": "2021-09-02T00:22:24.501459Z",
     "shell.execute_reply": "2021-09-02T00:22:24.500449Z"
    },
    "papermill": {
     "duration": 0.627851,
     "end_time": "2021-09-02T00:22:24.501585",
     "exception": false,
     "start_time": "2021-09-02T00:22:23.873734",
     "status": "completed"
    },
    "tags": []
   },
   "outputs": [],
   "source": [
    "#hide\n",
    "import pandas as pd\n",
    "import matplotlib.pyplot as plt\n",
    "import matplotlib.ticker as ticker\n",
    "import matplotlib.animation as animation\n",
    "from IPython.display import HTML"
   ]
  },
  {
   "cell_type": "code",
   "execution_count": 21,
   "id": "lasting-extraction",
   "metadata": {
    "execution": {
     "iopub.execute_input": "2021-09-02T00:22:24.568522Z",
     "iopub.status.busy": "2021-09-02T00:22:24.567890Z",
     "iopub.status.idle": "2021-09-02T00:22:24.573256Z",
     "shell.execute_reply": "2021-09-02T00:22:24.572787Z"
    },
    "papermill": {
     "duration": 0.041031,
     "end_time": "2021-09-02T00:22:24.573379",
     "exception": false,
     "start_time": "2021-09-02T00:22:24.532348",
     "status": "completed"
    },
    "tags": []
   },
   "outputs": [],
   "source": [
    "#hide\n",
    "t = everydaycases.stack()"
   ]
  },
  {
   "cell_type": "code",
   "execution_count": 22,
   "id": "premier-sleeve",
   "metadata": {
    "execution": {
     "iopub.execute_input": "2021-09-02T00:22:24.639206Z",
     "iopub.status.busy": "2021-09-02T00:22:24.638684Z",
     "iopub.status.idle": "2021-09-02T00:22:24.647664Z",
     "shell.execute_reply": "2021-09-02T00:22:24.647202Z"
    },
    "papermill": {
     "duration": 0.043424,
     "end_time": "2021-09-02T00:22:24.647772",
     "exception": false,
     "start_time": "2021-09-02T00:22:24.604348",
     "status": "completed"
    },
    "tags": []
   },
   "outputs": [],
   "source": [
    "#hide\n",
    "g = t.reset_index(['Country/Region'])"
   ]
  },
  {
   "cell_type": "code",
   "execution_count": 23,
   "id": "distributed-pittsburgh",
   "metadata": {
    "execution": {
     "iopub.execute_input": "2021-09-02T00:22:24.712811Z",
     "iopub.status.busy": "2021-09-02T00:22:24.712249Z",
     "iopub.status.idle": "2021-09-02T00:22:24.714466Z",
     "shell.execute_reply": "2021-09-02T00:22:24.714064Z"
    },
    "papermill": {
     "duration": 0.036227,
     "end_time": "2021-09-02T00:22:24.714574",
     "exception": false,
     "start_time": "2021-09-02T00:22:24.678347",
     "status": "completed"
    },
    "tags": []
   },
   "outputs": [],
   "source": [
    "#hide\n",
    "g.index.name = 'date'"
   ]
  },
  {
   "cell_type": "code",
   "execution_count": 24,
   "id": "naked-donor",
   "metadata": {
    "execution": {
     "iopub.execute_input": "2021-09-02T00:22:24.779060Z",
     "iopub.status.busy": "2021-09-02T00:22:24.778544Z",
     "iopub.status.idle": "2021-09-02T00:22:24.780710Z",
     "shell.execute_reply": "2021-09-02T00:22:24.780283Z"
    },
    "papermill": {
     "duration": 0.035682,
     "end_time": "2021-09-02T00:22:24.780819",
     "exception": false,
     "start_time": "2021-09-02T00:22:24.745137",
     "status": "completed"
    },
    "tags": []
   },
   "outputs": [],
   "source": [
    "# #hide\n",
    "# g = g.reset_index(['date'])"
   ]
  },
  {
   "cell_type": "code",
   "execution_count": 25,
   "id": "incomplete-mustang",
   "metadata": {
    "execution": {
     "iopub.execute_input": "2021-09-02T00:22:24.845255Z",
     "iopub.status.busy": "2021-09-02T00:22:24.844735Z",
     "iopub.status.idle": "2021-09-02T00:22:24.846896Z",
     "shell.execute_reply": "2021-09-02T00:22:24.846494Z"
    },
    "papermill": {
     "duration": 0.03588,
     "end_time": "2021-09-02T00:22:24.847004",
     "exception": false,
     "start_time": "2021-09-02T00:22:24.811124",
     "status": "completed"
    },
    "tags": []
   },
   "outputs": [],
   "source": [
    "#hide\n",
    "# g.head()"
   ]
  },
  {
   "cell_type": "code",
   "execution_count": 26,
   "id": "specific-kruger",
   "metadata": {
    "execution": {
     "iopub.execute_input": "2021-09-02T00:22:24.911544Z",
     "iopub.status.busy": "2021-09-02T00:22:24.911029Z",
     "iopub.status.idle": "2021-09-02T00:22:24.912760Z",
     "shell.execute_reply": "2021-09-02T00:22:24.913151Z"
    },
    "papermill": {
     "duration": 0.035711,
     "end_time": "2021-09-02T00:22:24.913285",
     "exception": false,
     "start_time": "2021-09-02T00:22:24.877574",
     "status": "completed"
    },
    "tags": []
   },
   "outputs": [],
   "source": [
    "#hide\n",
    "# g.columns = ['date','country','cases']"
   ]
  },
  {
   "cell_type": "code",
   "execution_count": 27,
   "id": "tender-conversion",
   "metadata": {
    "execution": {
     "iopub.execute_input": "2021-09-02T00:22:24.977871Z",
     "iopub.status.busy": "2021-09-02T00:22:24.977348Z",
     "iopub.status.idle": "2021-09-02T00:22:24.979552Z",
     "shell.execute_reply": "2021-09-02T00:22:24.979147Z"
    },
    "papermill": {
     "duration": 0.035979,
     "end_time": "2021-09-02T00:22:24.979661",
     "exception": false,
     "start_time": "2021-09-02T00:22:24.943682",
     "status": "completed"
    },
    "tags": []
   },
   "outputs": [],
   "source": [
    "#hide\n",
    "# g['continent'] = g.country"
   ]
  },
  {
   "cell_type": "code",
   "execution_count": 28,
   "id": "substantial-wilderness",
   "metadata": {
    "execution": {
     "iopub.execute_input": "2021-09-02T00:22:25.044268Z",
     "iopub.status.busy": "2021-09-02T00:22:25.043763Z",
     "iopub.status.idle": "2021-09-02T00:22:25.045871Z",
     "shell.execute_reply": "2021-09-02T00:22:25.045449Z"
    },
    "papermill": {
     "duration": 0.035726,
     "end_time": "2021-09-02T00:22:25.045977",
     "exception": false,
     "start_time": "2021-09-02T00:22:25.010251",
     "status": "completed"
    },
    "tags": []
   },
   "outputs": [],
   "source": [
    "#hide\n",
    "# cols = list(g.columns.values)"
   ]
  },
  {
   "cell_type": "code",
   "execution_count": 29,
   "id": "solved-farming",
   "metadata": {
    "execution": {
     "iopub.execute_input": "2021-09-02T00:22:25.110862Z",
     "iopub.status.busy": "2021-09-02T00:22:25.110351Z",
     "iopub.status.idle": "2021-09-02T00:22:25.112582Z",
     "shell.execute_reply": "2021-09-02T00:22:25.112154Z"
    },
    "papermill": {
     "duration": 0.036345,
     "end_time": "2021-09-02T00:22:25.112696",
     "exception": false,
     "start_time": "2021-09-02T00:22:25.076351",
     "status": "completed"
    },
    "tags": []
   },
   "outputs": [],
   "source": [
    "#hide\n",
    "# cols.insert(0, cols.pop())"
   ]
  },
  {
   "cell_type": "code",
   "execution_count": 30,
   "id": "executed-adoption",
   "metadata": {
    "execution": {
     "iopub.execute_input": "2021-09-02T00:22:25.177379Z",
     "iopub.status.busy": "2021-09-02T00:22:25.176864Z",
     "iopub.status.idle": "2021-09-02T00:22:25.178977Z",
     "shell.execute_reply": "2021-09-02T00:22:25.178545Z"
    },
    "papermill": {
     "duration": 0.035664,
     "end_time": "2021-09-02T00:22:25.179084",
     "exception": false,
     "start_time": "2021-09-02T00:22:25.143420",
     "status": "completed"
    },
    "tags": []
   },
   "outputs": [],
   "source": [
    "#hide\n",
    "# g = g[cols]"
   ]
  },
  {
   "cell_type": "code",
   "execution_count": 31,
   "id": "subject-dublin",
   "metadata": {
    "execution": {
     "iopub.execute_input": "2021-09-02T00:22:25.243840Z",
     "iopub.status.busy": "2021-09-02T00:22:25.243333Z",
     "iopub.status.idle": "2021-09-02T00:22:25.245487Z",
     "shell.execute_reply": "2021-09-02T00:22:25.245059Z"
    },
    "papermill": {
     "duration": 0.035948,
     "end_time": "2021-09-02T00:22:25.245596",
     "exception": false,
     "start_time": "2021-09-02T00:22:25.209648",
     "status": "completed"
    },
    "tags": []
   },
   "outputs": [],
   "source": [
    "#hide\n",
    "# g['continent'] = g['continent'].map(mapping['map.continent'])"
   ]
  },
  {
   "cell_type": "code",
   "execution_count": 32,
   "id": "freelance-scout",
   "metadata": {
    "execution": {
     "iopub.execute_input": "2021-09-02T00:22:25.310479Z",
     "iopub.status.busy": "2021-09-02T00:22:25.309965Z",
     "iopub.status.idle": "2021-09-02T00:22:25.311569Z",
     "shell.execute_reply": "2021-09-02T00:22:25.311951Z"
    },
    "papermill": {
     "duration": 0.035736,
     "end_time": "2021-09-02T00:22:25.312078",
     "exception": false,
     "start_time": "2021-09-02T00:22:25.276342",
     "status": "completed"
    },
    "tags": []
   },
   "outputs": [],
   "source": [
    "#hide\n",
    "# g.head()"
   ]
  },
  {
   "cell_type": "code",
   "execution_count": 33,
   "id": "limited-engine",
   "metadata": {
    "execution": {
     "iopub.execute_input": "2021-09-02T00:22:25.376818Z",
     "iopub.status.busy": "2021-09-02T00:22:25.376273Z",
     "iopub.status.idle": "2021-09-02T00:22:25.378483Z",
     "shell.execute_reply": "2021-09-02T00:22:25.378080Z"
    },
    "papermill": {
     "duration": 0.035755,
     "end_time": "2021-09-02T00:22:25.378590",
     "exception": false,
     "start_time": "2021-09-02T00:22:25.342835",
     "status": "completed"
    },
    "tags": []
   },
   "outputs": [],
   "source": [
    "# hide\n",
    "# g['date'] = g['date'].astype('datetime64[ns]')"
   ]
  },
  {
   "cell_type": "code",
   "execution_count": 34,
   "id": "sophisticated-supervisor",
   "metadata": {
    "execution": {
     "iopub.execute_input": "2021-09-02T00:22:25.444400Z",
     "iopub.status.busy": "2021-09-02T00:22:25.443865Z",
     "iopub.status.idle": "2021-09-02T00:22:25.446054Z",
     "shell.execute_reply": "2021-09-02T00:22:25.445653Z"
    },
    "papermill": {
     "duration": 0.037038,
     "end_time": "2021-09-02T00:22:25.446161",
     "exception": false,
     "start_time": "2021-09-02T00:22:25.409123",
     "status": "completed"
    },
    "tags": []
   },
   "outputs": [],
   "source": [
    "#hide\n",
    "# g['date'] = g.date.dt.dayofyear"
   ]
  },
  {
   "cell_type": "code",
   "execution_count": 35,
   "id": "inside-dubai",
   "metadata": {
    "execution": {
     "iopub.execute_input": "2021-09-02T00:22:25.510486Z",
     "iopub.status.busy": "2021-09-02T00:22:25.509973Z",
     "iopub.status.idle": "2021-09-02T00:22:25.512123Z",
     "shell.execute_reply": "2021-09-02T00:22:25.511700Z"
    },
    "papermill": {
     "duration": 0.035677,
     "end_time": "2021-09-02T00:22:25.512227",
     "exception": false,
     "start_time": "2021-09-02T00:22:25.476550",
     "status": "completed"
    },
    "tags": []
   },
   "outputs": [],
   "source": [
    "#hide\n",
    "# g = g.rename(columns= {'continent':'group','country':'name','cases':'value'})"
   ]
  },
  {
   "cell_type": "code",
   "execution_count": 36,
   "id": "fleet-motorcycle",
   "metadata": {
    "execution": {
     "iopub.execute_input": "2021-09-02T00:22:25.576415Z",
     "iopub.status.busy": "2021-09-02T00:22:25.575880Z",
     "iopub.status.idle": "2021-09-02T00:22:25.577699Z",
     "shell.execute_reply": "2021-09-02T00:22:25.578129Z"
    },
    "papermill": {
     "duration": 0.035545,
     "end_time": "2021-09-02T00:22:25.578248",
     "exception": false,
     "start_time": "2021-09-02T00:22:25.542703",
     "status": "completed"
    },
    "tags": []
   },
   "outputs": [],
   "source": [
    "#hide\n",
    "# cols = ['name','group','day','value']"
   ]
  },
  {
   "cell_type": "code",
   "execution_count": 37,
   "id": "continued-sleeping",
   "metadata": {
    "execution": {
     "iopub.execute_input": "2021-09-02T00:22:25.642521Z",
     "iopub.status.busy": "2021-09-02T00:22:25.642017Z",
     "iopub.status.idle": "2021-09-02T00:22:25.644196Z",
     "shell.execute_reply": "2021-09-02T00:22:25.643791Z"
    },
    "papermill": {
     "duration": 0.035746,
     "end_time": "2021-09-02T00:22:25.644303",
     "exception": false,
     "start_time": "2021-09-02T00:22:25.608557",
     "status": "completed"
    },
    "tags": []
   },
   "outputs": [],
   "source": [
    "#hide\n",
    "# g.rename(columns= {'date':'day'},inplace = True)"
   ]
  },
  {
   "cell_type": "code",
   "execution_count": 38,
   "id": "major-fight",
   "metadata": {
    "execution": {
     "iopub.execute_input": "2021-09-02T00:22:25.708632Z",
     "iopub.status.busy": "2021-09-02T00:22:25.708094Z",
     "iopub.status.idle": "2021-09-02T00:22:25.710319Z",
     "shell.execute_reply": "2021-09-02T00:22:25.709898Z"
    },
    "papermill": {
     "duration": 0.03559,
     "end_time": "2021-09-02T00:22:25.710420",
     "exception": false,
     "start_time": "2021-09-02T00:22:25.674830",
     "status": "completed"
    },
    "tags": []
   },
   "outputs": [],
   "source": [
    "#hide\n",
    "# g = g[cols]"
   ]
  },
  {
   "cell_type": "code",
   "execution_count": 39,
   "id": "structured-mobile",
   "metadata": {
    "execution": {
     "iopub.execute_input": "2021-09-02T00:22:25.774584Z",
     "iopub.status.busy": "2021-09-02T00:22:25.774080Z",
     "iopub.status.idle": "2021-09-02T00:22:25.776304Z",
     "shell.execute_reply": "2021-09-02T00:22:25.775902Z"
    },
    "papermill": {
     "duration": 0.035668,
     "end_time": "2021-09-02T00:22:25.776429",
     "exception": false,
     "start_time": "2021-09-02T00:22:25.740761",
     "status": "completed"
    },
    "tags": []
   },
   "outputs": [],
   "source": [
    "# #hide\n",
    "# g = g[g.group.notna()]"
   ]
  },
  {
   "cell_type": "code",
   "execution_count": 40,
   "id": "determined-closing",
   "metadata": {
    "execution": {
     "iopub.execute_input": "2021-09-02T00:22:25.841136Z",
     "iopub.status.busy": "2021-09-02T00:22:25.840613Z",
     "iopub.status.idle": "2021-09-02T00:22:25.842364Z",
     "shell.execute_reply": "2021-09-02T00:22:25.842765Z"
    },
    "papermill": {
     "duration": 0.035977,
     "end_time": "2021-09-02T00:22:25.842886",
     "exception": false,
     "start_time": "2021-09-02T00:22:25.806909",
     "status": "completed"
    },
    "tags": []
   },
   "outputs": [],
   "source": [
    "# #hide\n",
    "# colors = dict(zip(\n",
    "#     [\"Oceania\", \"Europe\", \"Asia\", \"South America\", \"Middle East\", \"North America\", \"Africa\"],\n",
    "#     [\"#adb0ff\", \"#ffb3ff\", \"#90d595\", \"#e48381\", \"#aafbff\", \"#f7bb5f\", \"#eafb50\"]\n",
    "# ))\n",
    "# group_lk = g.set_index('name')['group'].to_dict()"
   ]
  },
  {
   "cell_type": "code",
   "execution_count": null,
   "id": "gross-drinking",
   "metadata": {
    "papermill": {
     "duration": 0.030238,
     "end_time": "2021-09-02T00:22:25.903348",
     "exception": false,
     "start_time": "2021-09-02T00:22:25.873110",
     "status": "completed"
    },
    "tags": []
   },
   "outputs": [],
   "source": []
  },
  {
   "cell_type": "code",
   "execution_count": 41,
   "id": "subject-macintosh",
   "metadata": {
    "execution": {
     "iopub.execute_input": "2021-09-02T00:22:25.968019Z",
     "iopub.status.busy": "2021-09-02T00:22:25.967494Z",
     "iopub.status.idle": "2021-09-02T00:22:25.969988Z",
     "shell.execute_reply": "2021-09-02T00:22:25.969582Z"
    },
    "papermill": {
     "duration": 0.036326,
     "end_time": "2021-09-02T00:22:25.970095",
     "exception": false,
     "start_time": "2021-09-02T00:22:25.933769",
     "status": "completed"
    },
    "tags": []
   },
   "outputs": [],
   "source": [
    "# #hide\n",
    "# fig, ax = plt.subplots(figsize=(15, 8))\n",
    "\n",
    "# def draw_barchart(current_day):\n",
    "#     dff = g[g['day'].eq(current_day)].sort_values(by='value', ascending=True).tail(10)\n",
    "#     ax.clear()\n",
    "#     ax.barh(dff['name'], dff['value'], color=[colors[group_lk[x]] for x in dff['name']])\n",
    "#     dx = dff['value'].max() / 200\n",
    "    \n",
    "#     for i, (value, name) in enumerate(zip(dff['value'], dff['name'])):\n",
    "#         ax.text(value-dx, i,     name,           size=14, weight=600, ha='right', va='bottom')\n",
    "#         ax.text(value-dx, i-.25, group_lk[name], size=10, color='#444444', ha='right', va='baseline')\n",
    "#         ax.text(value+dx, i,     f'{value:,.0f}',  size=14, ha='left',  va='center')\n",
    "#     ax.text(1, 0.4, current_day, transform=ax.transAxes, color='#777777', size=46, ha='right', weight=800)\n",
    "#     ax.text(0, 1.06, 'Population (thousands)', transform=ax.transAxes, size=12, color='#777777')\n",
    "#     ax.xaxis.set_major_formatter(ticker.StrMethodFormatter('{x:,.0f}'))\n",
    "#     ax.xaxis.set_ticks_position('top')\n",
    "#     ax.tick_params(axis='x', colors='#777777', labelsize=12)\n",
    "#     ax.set_yticks([])\n",
    "#     ax.margins(0, 0.01)\n",
    "#     ax.grid(which='major', axis='x', linestyle='-')\n",
    "#     ax.set_axisbelow(True)\n",
    "    \n",
    "#     ax.text(0, 1.15, 'Coronavirus',\n",
    "#             transform=ax.transAxes, size=24, weight=600, ha='left', va='top')\n",
    "# #     ax.text(1, 0, 'by @pratapvardhan; credit @jburnmurdoch', transform=ax.transAxes, color='#777777', ha='right',\n",
    "# #             bbox=dict(facecolor='white', alpha=0.8, edgecolor='white'))\n",
    "#     plt.box(False)"
   ]
  },
  {
   "cell_type": "code",
   "execution_count": 42,
   "id": "sexual-wages",
   "metadata": {
    "execution": {
     "iopub.execute_input": "2021-09-02T00:22:26.034502Z",
     "iopub.status.busy": "2021-09-02T00:22:26.033994Z",
     "iopub.status.idle": "2021-09-02T00:22:26.036230Z",
     "shell.execute_reply": "2021-09-02T00:22:26.035829Z"
    },
    "papermill": {
     "duration": 0.035794,
     "end_time": "2021-09-02T00:22:26.036353",
     "exception": false,
     "start_time": "2021-09-02T00:22:26.000559",
     "status": "completed"
    },
    "tags": []
   },
   "outputs": [],
   "source": [
    "# #hide_input\n",
    "# fig, ax = plt.subplots(figsize=(15, 8))\n",
    "# animator = animation.FuncAnimation(fig, draw_barchart, frames=range(g.day.values.min(), g.day.values.max()))\n",
    "# HTML(animator.to_jshtml())\n",
    "# # or use animator.to_html5_video() or animator.save() "
   ]
  },
  {
   "cell_type": "code",
   "execution_count": null,
   "id": "australian-container",
   "metadata": {
    "papermill": {
     "duration": 0.030789,
     "end_time": "2021-09-02T00:22:26.097427",
     "exception": false,
     "start_time": "2021-09-02T00:22:26.066638",
     "status": "completed"
    },
    "tags": []
   },
   "outputs": [],
   "source": []
  },
  {
   "cell_type": "code",
   "execution_count": null,
   "id": "mediterranean-pontiac",
   "metadata": {
    "papermill": {
     "duration": 0.03054,
     "end_time": "2021-09-02T00:22:26.158355",
     "exception": false,
     "start_time": "2021-09-02T00:22:26.127815",
     "status": "completed"
    },
    "tags": []
   },
   "outputs": [],
   "source": []
  },
  {
   "cell_type": "code",
   "execution_count": null,
   "id": "aging-legislature",
   "metadata": {
    "papermill": {
     "duration": 0.03035,
     "end_time": "2021-09-02T00:22:26.219320",
     "exception": false,
     "start_time": "2021-09-02T00:22:26.188970",
     "status": "completed"
    },
    "tags": []
   },
   "outputs": [],
   "source": []
  }
 ],
 "metadata": {
  "kernelspec": {
   "display_name": "Python 3",
   "language": "python",
   "name": "python3"
  },
  "language_info": {
   "codemirror_mode": {
    "name": "ipython",
    "version": 3
   },
   "file_extension": ".py",
   "mimetype": "text/x-python",
   "name": "python",
   "nbconvert_exporter": "python",
   "pygments_lexer": "ipython3",
   "version": "3.6.14"
  },
  "papermill": {
   "duration": 5.750849,
   "end_time": "2021-09-02T00:22:26.556529",
   "environment_variables": {},
   "exception": null,
   "input_path": "2020-03-21-covid19exp.ipynb",
   "output_path": "2020-03-21-covid19exp.ipynb",
   "parameters": {},
   "start_time": "2021-09-02T00:22:20.805680",
   "version": "2.0.0"
  }
 },
 "nbformat": 4,
 "nbformat_minor": 5
}