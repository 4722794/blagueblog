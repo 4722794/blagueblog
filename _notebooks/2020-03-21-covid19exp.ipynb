{
 "cells": [
  {
   "cell_type": "markdown",
   "id": "muslim-click",
   "metadata": {
    "papermill": {
     "duration": 0.039376,
     "end_time": "2021-09-05T12:10:42.671596",
     "exception": false,
     "start_time": "2021-09-05T12:10:42.632220",
     "status": "completed"
    },
    "tags": []
   },
   "source": [
    "# COVID-19 Case Race\n",
    "> A race chart to see rising cases around the world\n",
    "\n",
    "- author: Hargun Oberoi\n",
    "- image: images/covid-overview.png\n",
    "- hide: false\n",
    "- badges: false"
   ]
  },
  {
   "cell_type": "code",
   "execution_count": 1,
   "id": "proof-material",
   "metadata": {
    "execution": {
     "iopub.execute_input": "2021-09-05T12:10:42.751443Z",
     "iopub.status.busy": "2021-09-05T12:10:42.750873Z",
     "iopub.status.idle": "2021-09-05T12:10:43.123431Z",
     "shell.execute_reply": "2021-09-05T12:10:43.122864Z"
    },
    "papermill": {
     "duration": 0.416813,
     "end_time": "2021-09-05T12:10:43.123590",
     "exception": false,
     "start_time": "2021-09-05T12:10:42.706777",
     "status": "completed"
    },
    "tags": []
   },
   "outputs": [],
   "source": [
    "#hide\n",
    "import numpy as np\n",
    "import pandas as pd\n",
    "from jinja2 import Template\n",
    "from IPython.display import HTML"
   ]
  },
  {
   "cell_type": "code",
   "execution_count": 2,
   "id": "developed-terminology",
   "metadata": {
    "execution": {
     "iopub.execute_input": "2021-09-05T12:10:43.201869Z",
     "iopub.status.busy": "2021-09-05T12:10:43.201137Z",
     "iopub.status.idle": "2021-09-05T12:10:43.202980Z",
     "shell.execute_reply": "2021-09-05T12:10:43.203598Z"
    },
    "papermill": {
     "duration": 0.043152,
     "end_time": "2021-09-05T12:10:43.203718",
     "exception": false,
     "start_time": "2021-09-05T12:10:43.160566",
     "status": "completed"
    },
    "tags": []
   },
   "outputs": [],
   "source": [
    "#hide\n",
    "\n",
    "# FETCH\n",
    "base_url = 'https://raw.githubusercontent.com/pratapvardhan/notebooks/master/covid19/'\n",
    "paths = {\n",
    "    'mapping': base_url + 'mapping_countries.csv',\n",
    "    'overview': base_url + 'overview.tpl'\n",
    "}"
   ]
  },
  {
   "cell_type": "code",
   "execution_count": 3,
   "id": "dynamic-saver",
   "metadata": {
    "execution": {
     "iopub.execute_input": "2021-09-05T12:10:43.281777Z",
     "iopub.status.busy": "2021-09-05T12:10:43.279707Z",
     "iopub.status.idle": "2021-09-05T12:10:43.285322Z",
     "shell.execute_reply": "2021-09-05T12:10:43.284746Z"
    },
    "papermill": {
     "duration": 0.048185,
     "end_time": "2021-09-05T12:10:43.285438",
     "exception": false,
     "start_time": "2021-09-05T12:10:43.237253",
     "status": "completed"
    },
    "tags": []
   },
   "outputs": [
    {
     "data": {
      "text/plain": [
       "'https://raw.githubusercontent.com/pratapvardhan/notebooks/master/covid19/mapping_countries.csv'"
      ]
     },
     "execution_count": 3,
     "metadata": {},
     "output_type": "execute_result"
    }
   ],
   "source": [
    "#hide\n",
    "paths['mapping']"
   ]
  },
  {
   "cell_type": "code",
   "execution_count": 4,
   "id": "urban-software",
   "metadata": {
    "execution": {
     "iopub.execute_input": "2021-09-05T12:10:43.361598Z",
     "iopub.status.busy": "2021-09-05T12:10:43.360936Z",
     "iopub.status.idle": "2021-09-05T12:10:43.363913Z",
     "shell.execute_reply": "2021-09-05T12:10:43.363370Z"
    },
    "papermill": {
     "duration": 0.041676,
     "end_time": "2021-09-05T12:10:43.364016",
     "exception": false,
     "start_time": "2021-09-05T12:10:43.322340",
     "status": "completed"
    },
    "tags": []
   },
   "outputs": [],
   "source": [
    "#hide\n",
    "def get_mappings(url):\n",
    "    df = pd.read_csv(url)\n",
    "    return {\n",
    "        'df': df,\n",
    "        'replace.country': dict(df.dropna(subset=['Name']).set_index('Country')['Name']),\n",
    "        'map.continent': dict(df.set_index('Name')['Continent'])\n",
    "    }"
   ]
  },
  {
   "cell_type": "code",
   "execution_count": 5,
   "id": "intimate-machinery",
   "metadata": {
    "execution": {
     "iopub.execute_input": "2021-09-05T12:10:43.436126Z",
     "iopub.status.busy": "2021-09-05T12:10:43.435620Z",
     "iopub.status.idle": "2021-09-05T12:10:43.474100Z",
     "shell.execute_reply": "2021-09-05T12:10:43.474607Z"
    },
    "papermill": {
     "duration": 0.07681,
     "end_time": "2021-09-05T12:10:43.474719",
     "exception": false,
     "start_time": "2021-09-05T12:10:43.397909",
     "status": "completed"
    },
    "tags": []
   },
   "outputs": [],
   "source": [
    "#hide\n",
    "mapping = get_mappings(paths['mapping'])"
   ]
  },
  {
   "cell_type": "code",
   "execution_count": 6,
   "id": "certified-tactics",
   "metadata": {
    "execution": {
     "iopub.execute_input": "2021-09-05T12:10:43.547749Z",
     "iopub.status.busy": "2021-09-05T12:10:43.547033Z",
     "iopub.status.idle": "2021-09-05T12:10:43.549576Z",
     "shell.execute_reply": "2021-09-05T12:10:43.548998Z"
    },
    "papermill": {
     "duration": 0.041999,
     "end_time": "2021-09-05T12:10:43.549676",
     "exception": false,
     "start_time": "2021-09-05T12:10:43.507677",
     "status": "completed"
    },
    "tags": []
   },
   "outputs": [],
   "source": [
    "#hide\n",
    "def get_template(path):\n",
    "    from urllib.parse import urlparse\n",
    "    if bool(urlparse(path).netloc):\n",
    "        from urllib.request import urlopen\n",
    "        return urlopen(path).read().decode('utf8')\n",
    "    return open(path).read()"
   ]
  },
  {
   "cell_type": "code",
   "execution_count": 7,
   "id": "realistic-blast",
   "metadata": {
    "execution": {
     "iopub.execute_input": "2021-09-05T12:10:43.624090Z",
     "iopub.status.busy": "2021-09-05T12:10:43.623559Z",
     "iopub.status.idle": "2021-09-05T12:10:43.625928Z",
     "shell.execute_reply": "2021-09-05T12:10:43.625451Z"
    },
    "papermill": {
     "duration": 0.04155,
     "end_time": "2021-09-05T12:10:43.626044",
     "exception": false,
     "start_time": "2021-09-05T12:10:43.584494",
     "status": "completed"
    },
    "tags": []
   },
   "outputs": [],
   "source": [
    "#hide\n",
    "def get_frame(name):\n",
    "    url = (\n",
    "        'https://raw.githubusercontent.com/CSSEGISandData/COVID-19/master/csse_covid_19_data/'\n",
    "        f'csse_covid_19_time_series/time_series_covid19_{name}_global.csv')\n",
    "    df = pd.read_csv(url)\n",
    "    # rename countries\n",
    "    df['Country/Region'] = df['Country/Region'].replace(mapping['replace.country'])\n",
    "    return df"
   ]
  },
  {
   "cell_type": "code",
   "execution_count": 8,
   "id": "affiliated-characterization",
   "metadata": {
    "execution": {
     "iopub.execute_input": "2021-09-05T12:10:43.700117Z",
     "iopub.status.busy": "2021-09-05T12:10:43.699607Z",
     "iopub.status.idle": "2021-09-05T12:10:43.701597Z",
     "shell.execute_reply": "2021-09-05T12:10:43.702036Z"
    },
    "papermill": {
     "duration": 0.042451,
     "end_time": "2021-09-05T12:10:43.702279",
     "exception": false,
     "start_time": "2021-09-05T12:10:43.659828",
     "status": "completed"
    },
    "tags": []
   },
   "outputs": [],
   "source": [
    "#hide\n",
    "def get_dates(df):\n",
    "    dt_cols = df.columns[~df.columns.isin(['Province/State', 'Country/Region', 'Lat', 'Long'])]\n",
    "    LAST_DATE_I = -1\n",
    "    # sometimes last column may be empty, then go backwards\n",
    "    for i in range(-1, -len(dt_cols), -1):\n",
    "        if not df[dt_cols[i]].fillna(0).eq(0).all():\n",
    "            LAST_DATE_I = i\n",
    "            break\n",
    "    return LAST_DATE_I, dt_cols"
   ]
  },
  {
   "cell_type": "code",
   "execution_count": 9,
   "id": "recent-optimization",
   "metadata": {
    "execution": {
     "iopub.execute_input": "2021-09-05T12:10:43.774110Z",
     "iopub.status.busy": "2021-09-05T12:10:43.773567Z",
     "iopub.status.idle": "2021-09-05T12:10:44.156441Z",
     "shell.execute_reply": "2021-09-05T12:10:44.155931Z"
    },
    "papermill": {
     "duration": 0.420965,
     "end_time": "2021-09-05T12:10:44.156661",
     "exception": false,
     "start_time": "2021-09-05T12:10:43.735696",
     "status": "completed"
    },
    "tags": []
   },
   "outputs": [],
   "source": [
    "#hide\n",
    "COL_REGION = 'Country/Region'\n",
    "# Confirmed, Recovered, Deaths\n",
    "df = get_frame('confirmed')\n",
    "# dft_: timeseries, dfc_: today country agg\n",
    "dft_cases = df\n",
    "dft_deaths = get_frame('deaths')\n",
    "dft_recovered = get_frame('recovered')\n",
    "LAST_DATE_I, dt_cols = get_dates(df)"
   ]
  },
  {
   "cell_type": "code",
   "execution_count": 10,
   "id": "absolute-copper",
   "metadata": {
    "execution": {
     "iopub.execute_input": "2021-09-05T12:10:44.229040Z",
     "iopub.status.busy": "2021-09-05T12:10:44.228509Z",
     "iopub.status.idle": "2021-09-05T12:10:44.231040Z",
     "shell.execute_reply": "2021-09-05T12:10:44.230612Z"
    },
    "papermill": {
     "duration": 0.040955,
     "end_time": "2021-09-05T12:10:44.231144",
     "exception": false,
     "start_time": "2021-09-05T12:10:44.190189",
     "status": "completed"
    },
    "tags": []
   },
   "outputs": [],
   "source": [
    "#hide\n",
    "LAST_DATE_I, dt_cols = get_dates(df)\n",
    "dt_today =dt_cols[LAST_DATE_I]\n",
    "# dt_5day = dt_cols[LAST_DATE_I - 5]\n",
    "dt_yday = dt_cols[LAST_DATE_I - 1]"
   ]
  },
  {
   "cell_type": "code",
   "execution_count": 11,
   "id": "restricted-sheriff",
   "metadata": {
    "execution": {
     "iopub.execute_input": "2021-09-05T12:10:44.306372Z",
     "iopub.status.busy": "2021-09-05T12:10:44.305751Z",
     "iopub.status.idle": "2021-09-05T12:10:44.313359Z",
     "shell.execute_reply": "2021-09-05T12:10:44.313893Z"
    },
    "papermill": {
     "duration": 0.049461,
     "end_time": "2021-09-05T12:10:44.314031",
     "exception": false,
     "start_time": "2021-09-05T12:10:44.264570",
     "status": "completed"
    },
    "tags": []
   },
   "outputs": [],
   "source": [
    "#hide\n",
    "dfc_cases = dft_cases.groupby(COL_REGION)[dt_today].sum()\n",
    "dfc_deaths = dft_deaths.groupby(COL_REGION)[dt_today].sum()\n",
    "# dfp_cases = dft_cases.groupby(COL_REGION)[dt_5day].sum()\n",
    "# dfp_deaths = dft_deaths.groupby(COL_REGION)[dt_5day].sum()\n",
    "dfp_cases = dft_cases.groupby(COL_REGION)[dt_yday].sum()\n",
    "dfp_deaths = dft_deaths.groupby(COL_REGION)[dt_yday].sum()"
   ]
  },
  {
   "cell_type": "code",
   "execution_count": 12,
   "id": "deluxe-hepatitis",
   "metadata": {
    "execution": {
     "iopub.execute_input": "2021-09-05T12:10:44.388192Z",
     "iopub.status.busy": "2021-09-05T12:10:44.387593Z",
     "iopub.status.idle": "2021-09-05T12:10:44.392424Z",
     "shell.execute_reply": "2021-09-05T12:10:44.393018Z"
    },
    "papermill": {
     "duration": 0.045201,
     "end_time": "2021-09-05T12:10:44.393157",
     "exception": false,
     "start_time": "2021-09-05T12:10:44.347956",
     "status": "completed"
    },
    "tags": []
   },
   "outputs": [],
   "source": [
    "#hide\n",
    "df_table = (pd.DataFrame(dict(Cases = dfc_cases, Deaths = dfc_deaths, PCases = dfp_cases, PDeaths = dfp_deaths))\n",
    "            .sort_values(by = ['Cases','Deaths'], ascending = [False, False])\n",
    "            .reset_index())"
   ]
  },
  {
   "cell_type": "code",
   "execution_count": 13,
   "id": "educational-chancellor",
   "metadata": {
    "execution": {
     "iopub.execute_input": "2021-09-05T12:10:44.474925Z",
     "iopub.status.busy": "2021-09-05T12:10:44.474246Z",
     "iopub.status.idle": "2021-09-05T12:10:44.487926Z",
     "shell.execute_reply": "2021-09-05T12:10:44.488481Z"
    },
    "papermill": {
     "duration": 0.061573,
     "end_time": "2021-09-05T12:10:44.488670",
     "exception": false,
     "start_time": "2021-09-05T12:10:44.427097",
     "status": "completed"
    },
    "tags": []
   },
   "outputs": [
    {
     "data": {
      "text/html": [
       "<div>\n",
       "<style scoped>\n",
       "    .dataframe tbody tr th:only-of-type {\n",
       "        vertical-align: middle;\n",
       "    }\n",
       "\n",
       "    .dataframe tbody tr th {\n",
       "        vertical-align: top;\n",
       "    }\n",
       "\n",
       "    .dataframe thead th {\n",
       "        text-align: right;\n",
       "    }\n",
       "</style>\n",
       "<table border=\"1\" class=\"dataframe\">\n",
       "  <thead>\n",
       "    <tr style=\"text-align: right;\">\n",
       "      <th></th>\n",
       "      <th>Country/Region</th>\n",
       "      <th>Cases</th>\n",
       "      <th>Deaths</th>\n",
       "      <th>PCases</th>\n",
       "      <th>PDeaths</th>\n",
       "      <th>Cases (+)</th>\n",
       "      <th>Deaths (+)</th>\n",
       "      <th>Fatality Rate</th>\n",
       "      <th>Continent</th>\n",
       "    </tr>\n",
       "  </thead>\n",
       "  <tbody>\n",
       "    <tr>\n",
       "      <th>0</th>\n",
       "      <td>US</td>\n",
       "      <td>39906426</td>\n",
       "      <td>648106</td>\n",
       "      <td>39850256</td>\n",
       "      <td>647579</td>\n",
       "      <td>56170</td>\n",
       "      <td>527</td>\n",
       "      <td>1.62</td>\n",
       "      <td>North America</td>\n",
       "    </tr>\n",
       "    <tr>\n",
       "      <th>1</th>\n",
       "      <td>India</td>\n",
       "      <td>32988673</td>\n",
       "      <td>440533</td>\n",
       "      <td>32945907</td>\n",
       "      <td>440225</td>\n",
       "      <td>42766</td>\n",
       "      <td>308</td>\n",
       "      <td>1.34</td>\n",
       "      <td>Asia</td>\n",
       "    </tr>\n",
       "    <tr>\n",
       "      <th>2</th>\n",
       "      <td>Brazil</td>\n",
       "      <td>20877864</td>\n",
       "      <td>583362</td>\n",
       "      <td>20856060</td>\n",
       "      <td>582670</td>\n",
       "      <td>21804</td>\n",
       "      <td>692</td>\n",
       "      <td>2.79</td>\n",
       "      <td>South America</td>\n",
       "    </tr>\n",
       "    <tr>\n",
       "      <th>3</th>\n",
       "      <td>United Kingdom</td>\n",
       "      <td>6973995</td>\n",
       "      <td>133485</td>\n",
       "      <td>6937270</td>\n",
       "      <td>133365</td>\n",
       "      <td>36725</td>\n",
       "      <td>120</td>\n",
       "      <td>1.91</td>\n",
       "      <td>Europe</td>\n",
       "    </tr>\n",
       "    <tr>\n",
       "      <th>4</th>\n",
       "      <td>France</td>\n",
       "      <td>6910865</td>\n",
       "      <td>115352</td>\n",
       "      <td>6897529</td>\n",
       "      <td>115269</td>\n",
       "      <td>13336</td>\n",
       "      <td>83</td>\n",
       "      <td>1.67</td>\n",
       "      <td>Europe</td>\n",
       "    </tr>\n",
       "  </tbody>\n",
       "</table>\n",
       "</div>"
      ],
      "text/plain": [
       "   Country/Region     Cases  Deaths    PCases  PDeaths  Cases (+)  Deaths (+)  \\\n",
       "0              US  39906426  648106  39850256   647579      56170         527   \n",
       "1           India  32988673  440533  32945907   440225      42766         308   \n",
       "2          Brazil  20877864  583362  20856060   582670      21804         692   \n",
       "3  United Kingdom   6973995  133485   6937270   133365      36725         120   \n",
       "4          France   6910865  115352   6897529   115269      13336          83   \n",
       "\n",
       "   Fatality Rate      Continent  \n",
       "0           1.62  North America  \n",
       "1           1.34           Asia  \n",
       "2           2.79  South America  \n",
       "3           1.91         Europe  \n",
       "4           1.67         Europe  "
      ]
     },
     "execution_count": 13,
     "metadata": {},
     "output_type": "execute_result"
    }
   ],
   "source": [
    "#hide\n",
    "for c in 'Cases, Deaths'.split(', '):\n",
    "    df_table[f'{c} (+)'] = (df_table[c] - df_table[f'P{c}']).clip(0)\n",
    "    #Clip ça veut dire, les chiffres negatif sont interdit\n",
    "df_table['Fatality Rate'] = (100* df_table['Deaths']/ df_table['Cases']).round(2)\n",
    "df_table['Continent'] = df_table['Country/Region'].map(mapping['map.continent'])\n",
    "df_table.head(5)"
   ]
  },
  {
   "cell_type": "code",
   "execution_count": 14,
   "id": "aboriginal-bulgaria",
   "metadata": {
    "execution": {
     "iopub.execute_input": "2021-09-05T12:10:44.564150Z",
     "iopub.status.busy": "2021-09-05T12:10:44.563606Z",
     "iopub.status.idle": "2021-09-05T12:10:44.566528Z",
     "shell.execute_reply": "2021-09-05T12:10:44.567087Z"
    },
    "papermill": {
     "duration": 0.043375,
     "end_time": "2021-09-05T12:10:44.567228",
     "exception": false,
     "start_time": "2021-09-05T12:10:44.523853",
     "status": "completed"
    },
    "tags": []
   },
   "outputs": [],
   "source": [
    "#hide\n",
    "#delete problematic countries from table\n",
    "df_table = df_table[~df_table['Country/Region'].isin(['Cape Verde', 'Cruise Ship', 'Kosovo'])]"
   ]
  },
  {
   "cell_type": "code",
   "execution_count": 15,
   "id": "fantastic-effect",
   "metadata": {
    "execution": {
     "iopub.execute_input": "2021-09-05T12:10:44.645564Z",
     "iopub.status.busy": "2021-09-05T12:10:44.644813Z",
     "iopub.status.idle": "2021-09-05T12:10:44.666946Z",
     "shell.execute_reply": "2021-09-05T12:10:44.666458Z"
    },
    "papermill": {
     "duration": 0.063641,
     "end_time": "2021-09-05T12:10:44.667052",
     "exception": false,
     "start_time": "2021-09-05T12:10:44.603411",
     "status": "completed"
    },
    "tags": []
   },
   "outputs": [
    {
     "data": {
      "text/html": [
       "<div>\n",
       "<style scoped>\n",
       "    .dataframe tbody tr th:only-of-type {\n",
       "        vertical-align: middle;\n",
       "    }\n",
       "\n",
       "    .dataframe tbody tr th {\n",
       "        vertical-align: top;\n",
       "    }\n",
       "\n",
       "    .dataframe thead th {\n",
       "        text-align: right;\n",
       "    }\n",
       "</style>\n",
       "<table border=\"1\" class=\"dataframe\">\n",
       "  <thead>\n",
       "    <tr style=\"text-align: right;\">\n",
       "      <th></th>\n",
       "      <th>Country/Region</th>\n",
       "      <th>Cases</th>\n",
       "      <th>Deaths</th>\n",
       "      <th>PCases</th>\n",
       "      <th>PDeaths</th>\n",
       "      <th>Cases (+)</th>\n",
       "      <th>Deaths (+)</th>\n",
       "      <th>Fatality Rate</th>\n",
       "      <th>Continent</th>\n",
       "    </tr>\n",
       "  </thead>\n",
       "  <tbody>\n",
       "    <tr>\n",
       "      <th>0</th>\n",
       "      <td>US</td>\n",
       "      <td>39906426</td>\n",
       "      <td>648106</td>\n",
       "      <td>39850256</td>\n",
       "      <td>647579</td>\n",
       "      <td>56170</td>\n",
       "      <td>527</td>\n",
       "      <td>1.6</td>\n",
       "      <td>North America</td>\n",
       "    </tr>\n",
       "    <tr>\n",
       "      <th>1</th>\n",
       "      <td>India</td>\n",
       "      <td>32988673</td>\n",
       "      <td>440533</td>\n",
       "      <td>32945907</td>\n",
       "      <td>440225</td>\n",
       "      <td>42766</td>\n",
       "      <td>308</td>\n",
       "      <td>1.3</td>\n",
       "      <td>Asia</td>\n",
       "    </tr>\n",
       "    <tr>\n",
       "      <th>2</th>\n",
       "      <td>Brazil</td>\n",
       "      <td>20877864</td>\n",
       "      <td>583362</td>\n",
       "      <td>20856060</td>\n",
       "      <td>582670</td>\n",
       "      <td>21804</td>\n",
       "      <td>692</td>\n",
       "      <td>2.8</td>\n",
       "      <td>South America</td>\n",
       "    </tr>\n",
       "    <tr>\n",
       "      <th>3</th>\n",
       "      <td>United Kingdom</td>\n",
       "      <td>6973995</td>\n",
       "      <td>133485</td>\n",
       "      <td>6937270</td>\n",
       "      <td>133365</td>\n",
       "      <td>36725</td>\n",
       "      <td>120</td>\n",
       "      <td>1.9</td>\n",
       "      <td>Europe</td>\n",
       "    </tr>\n",
       "    <tr>\n",
       "      <th>4</th>\n",
       "      <td>France</td>\n",
       "      <td>6910865</td>\n",
       "      <td>115352</td>\n",
       "      <td>6897529</td>\n",
       "      <td>115269</td>\n",
       "      <td>13336</td>\n",
       "      <td>83</td>\n",
       "      <td>1.7</td>\n",
       "      <td>Europe</td>\n",
       "    </tr>\n",
       "  </tbody>\n",
       "</table>\n",
       "</div>"
      ],
      "text/plain": [
       "   Country/Region     Cases  Deaths    PCases  PDeaths  Cases (+)  Deaths (+)  \\\n",
       "0              US  39906426  648106  39850256   647579      56170         527   \n",
       "1           India  32988673  440533  32945907   440225      42766         308   \n",
       "2          Brazil  20877864  583362  20856060   582670      21804         692   \n",
       "3  United Kingdom   6973995  133485   6937270   133365      36725         120   \n",
       "4          France   6910865  115352   6897529   115269      13336          83   \n",
       "\n",
       "   Fatality Rate      Continent  \n",
       "0            1.6  North America  \n",
       "1            1.3           Asia  \n",
       "2            2.8  South America  \n",
       "3            1.9         Europe  \n",
       "4            1.7         Europe  "
      ]
     },
     "execution_count": 15,
     "metadata": {},
     "output_type": "execute_result"
    }
   ],
   "source": [
    "#hide\n",
    "df_table = (pd.DataFrame(dict(Cases=dfc_cases, Deaths=dfc_deaths, PCases=dfp_cases, PDeaths=dfp_deaths))\n",
    "             .sort_values(by=['Cases', 'Deaths'], ascending=[False, False])\n",
    "             .reset_index())\n",
    "df_table.rename(columns={'index': 'Country/Region'}, inplace=True)\n",
    "for c in 'Cases, Deaths'.split(', '):\n",
    "    df_table[f'{c} (+)'] = (df_table[c] - df_table[f'P{c}']).clip(0)  # DATA BUG\n",
    "df_table['Fatality Rate'] = (100 * df_table['Deaths'] / df_table['Cases']).round(1)\n",
    "df_table['Continent'] = df_table['Country/Region'].map(mapping['map.continent'])\n",
    "df_table.head(5)"
   ]
  },
  {
   "cell_type": "code",
   "execution_count": 16,
   "id": "fewer-occasion",
   "metadata": {
    "execution": {
     "iopub.execute_input": "2021-09-05T12:10:44.745642Z",
     "iopub.status.busy": "2021-09-05T12:10:44.744931Z",
     "iopub.status.idle": "2021-09-05T12:10:44.747253Z",
     "shell.execute_reply": "2021-09-05T12:10:44.746689Z"
    },
    "papermill": {
     "duration": 0.043575,
     "end_time": "2021-09-05T12:10:44.747359",
     "exception": false,
     "start_time": "2021-09-05T12:10:44.703784",
     "status": "completed"
    },
    "tags": []
   },
   "outputs": [],
   "source": [
    "#hide\n",
    "#delete problematic countries from table\n",
    "df_table = df_table[~df_table['Country/Region'].isin(['Cape Verde', 'Cruise Ship', 'Kosovo'])]"
   ]
  },
  {
   "cell_type": "code",
   "execution_count": 17,
   "id": "related-center",
   "metadata": {
    "execution": {
     "iopub.execute_input": "2021-09-05T12:10:44.837342Z",
     "iopub.status.busy": "2021-09-05T12:10:44.836555Z",
     "iopub.status.idle": "2021-09-05T12:10:44.838864Z",
     "shell.execute_reply": "2021-09-05T12:10:44.839481Z"
    },
    "papermill": {
     "duration": 0.057261,
     "end_time": "2021-09-05T12:10:44.839639",
     "exception": false,
     "start_time": "2021-09-05T12:10:44.782378",
     "status": "completed"
    },
    "tags": []
   },
   "outputs": [],
   "source": [
    "#hide\n",
    "metrics = [df_table.columns[index] for index in [1,2,5,6]]\n",
    "# s_china = df_table[df_table['Country/Region'].eq('China')][metrics].sum().add_prefix('China ')\n",
    "s_us = df_table[df_table['Country/Region'].eq('US')][metrics].sum().add_prefix('US ')\n",
    "s_eu = df_table[df_table['Continent'].eq('Europe')][metrics].sum().add_prefix('EU ')\n",
    "s_ind = df_table[df_table['Country/Region'].eq('India')][metrics].sum().add_prefix('India ')\n",
    "summary = {'updated': pd.to_datetime(dt_today), 'since': pd.to_datetime(dt_yday)}\n",
    "summary = {'updated': pd.to_datetime(dt_today), 'since': pd.to_datetime(dt_yday)}\n",
    "summary = {**summary, **df_table[metrics].sum(), **s_ind, **s_us, **s_eu}"
   ]
  },
  {
   "cell_type": "code",
   "execution_count": 18,
   "id": "engaging-syndrome",
   "metadata": {
    "execution": {
     "iopub.execute_input": "2021-09-05T12:10:44.916118Z",
     "iopub.status.busy": "2021-09-05T12:10:44.915592Z",
     "iopub.status.idle": "2021-09-05T12:10:44.928792Z",
     "shell.execute_reply": "2021-09-05T12:10:44.929301Z"
    },
    "papermill": {
     "duration": 0.053185,
     "end_time": "2021-09-05T12:10:44.929421",
     "exception": false,
     "start_time": "2021-09-05T12:10:44.876236",
     "status": "completed"
    },
    "tags": []
   },
   "outputs": [],
   "source": [
    "#hide\n",
    "dft_ct_new_cases = dft_cases.groupby(COL_REGION)[dt_cols].sum().diff(axis=1).fillna(0).astype(int)"
   ]
  },
  {
   "cell_type": "code",
   "execution_count": 19,
   "id": "neutral-assignment",
   "metadata": {
    "execution": {
     "iopub.execute_input": "2021-09-05T12:10:45.003344Z",
     "iopub.status.busy": "2021-09-05T12:10:45.002669Z",
     "iopub.status.idle": "2021-09-05T12:10:45.004677Z",
     "shell.execute_reply": "2021-09-05T12:10:45.005237Z"
    },
    "papermill": {
     "duration": 0.041512,
     "end_time": "2021-09-05T12:10:45.005354",
     "exception": false,
     "start_time": "2021-09-05T12:10:44.963842",
     "status": "completed"
    },
    "tags": []
   },
   "outputs": [],
   "source": [
    "#hide\n",
    "everydaycases = dft_ct_new_cases.cumsum(axis=1)"
   ]
  },
  {
   "cell_type": "code",
   "execution_count": 20,
   "id": "parliamentary-calgary",
   "metadata": {
    "execution": {
     "iopub.execute_input": "2021-09-05T12:10:45.081488Z",
     "iopub.status.busy": "2021-09-05T12:10:45.080803Z",
     "iopub.status.idle": "2021-09-05T12:10:45.653002Z",
     "shell.execute_reply": "2021-09-05T12:10:45.653457Z"
    },
    "papermill": {
     "duration": 0.612658,
     "end_time": "2021-09-05T12:10:45.653606",
     "exception": false,
     "start_time": "2021-09-05T12:10:45.040948",
     "status": "completed"
    },
    "tags": []
   },
   "outputs": [],
   "source": [
    "#hide\n",
    "import pandas as pd\n",
    "import matplotlib.pyplot as plt\n",
    "import matplotlib.ticker as ticker\n",
    "import matplotlib.animation as animation\n",
    "from IPython.display import HTML"
   ]
  },
  {
   "cell_type": "code",
   "execution_count": 21,
   "id": "lasting-extraction",
   "metadata": {
    "execution": {
     "iopub.execute_input": "2021-09-05T12:10:45.729235Z",
     "iopub.status.busy": "2021-09-05T12:10:45.728666Z",
     "iopub.status.idle": "2021-09-05T12:10:45.733999Z",
     "shell.execute_reply": "2021-09-05T12:10:45.734486Z"
    },
    "papermill": {
     "duration": 0.045786,
     "end_time": "2021-09-05T12:10:45.734675",
     "exception": false,
     "start_time": "2021-09-05T12:10:45.688889",
     "status": "completed"
    },
    "tags": []
   },
   "outputs": [],
   "source": [
    "#hide\n",
    "t = everydaycases.stack()"
   ]
  },
  {
   "cell_type": "code",
   "execution_count": 22,
   "id": "premier-sleeve",
   "metadata": {
    "execution": {
     "iopub.execute_input": "2021-09-05T12:10:45.811574Z",
     "iopub.status.busy": "2021-09-05T12:10:45.810952Z",
     "iopub.status.idle": "2021-09-05T12:10:45.819344Z",
     "shell.execute_reply": "2021-09-05T12:10:45.819895Z"
    },
    "papermill": {
     "duration": 0.04886,
     "end_time": "2021-09-05T12:10:45.820012",
     "exception": false,
     "start_time": "2021-09-05T12:10:45.771152",
     "status": "completed"
    },
    "tags": []
   },
   "outputs": [],
   "source": [
    "#hide\n",
    "g = t.reset_index(['Country/Region'])"
   ]
  },
  {
   "cell_type": "code",
   "execution_count": 23,
   "id": "distributed-pittsburgh",
   "metadata": {
    "execution": {
     "iopub.execute_input": "2021-09-05T12:10:45.902319Z",
     "iopub.status.busy": "2021-09-05T12:10:45.901620Z",
     "iopub.status.idle": "2021-09-05T12:10:45.903275Z",
     "shell.execute_reply": "2021-09-05T12:10:45.903759Z"
    },
    "papermill": {
     "duration": 0.04626,
     "end_time": "2021-09-05T12:10:45.903885",
     "exception": false,
     "start_time": "2021-09-05T12:10:45.857625",
     "status": "completed"
    },
    "tags": []
   },
   "outputs": [],
   "source": [
    "#hide\n",
    "g.index.name = 'date'"
   ]
  },
  {
   "cell_type": "code",
   "execution_count": 24,
   "id": "naked-donor",
   "metadata": {
    "execution": {
     "iopub.execute_input": "2021-09-05T12:10:45.982329Z",
     "iopub.status.busy": "2021-09-05T12:10:45.981563Z",
     "iopub.status.idle": "2021-09-05T12:10:45.983420Z",
     "shell.execute_reply": "2021-09-05T12:10:45.983937Z"
    },
    "papermill": {
     "duration": 0.042113,
     "end_time": "2021-09-05T12:10:45.984048",
     "exception": false,
     "start_time": "2021-09-05T12:10:45.941935",
     "status": "completed"
    },
    "tags": []
   },
   "outputs": [],
   "source": [
    "# #hide\n",
    "# g = g.reset_index(['date'])"
   ]
  },
  {
   "cell_type": "code",
   "execution_count": 25,
   "id": "incomplete-mustang",
   "metadata": {
    "execution": {
     "iopub.execute_input": "2021-09-05T12:10:46.062842Z",
     "iopub.status.busy": "2021-09-05T12:10:46.062210Z",
     "iopub.status.idle": "2021-09-05T12:10:46.064061Z",
     "shell.execute_reply": "2021-09-05T12:10:46.064820Z"
    },
    "papermill": {
     "duration": 0.044921,
     "end_time": "2021-09-05T12:10:46.064985",
     "exception": false,
     "start_time": "2021-09-05T12:10:46.020064",
     "status": "completed"
    },
    "tags": []
   },
   "outputs": [],
   "source": [
    "#hide\n",
    "# g.head()"
   ]
  },
  {
   "cell_type": "code",
   "execution_count": 26,
   "id": "specific-kruger",
   "metadata": {
    "execution": {
     "iopub.execute_input": "2021-09-05T12:10:46.140269Z",
     "iopub.status.busy": "2021-09-05T12:10:46.139659Z",
     "iopub.status.idle": "2021-09-05T12:10:46.141964Z",
     "shell.execute_reply": "2021-09-05T12:10:46.141482Z"
    },
    "papermill": {
     "duration": 0.040398,
     "end_time": "2021-09-05T12:10:46.142065",
     "exception": false,
     "start_time": "2021-09-05T12:10:46.101667",
     "status": "completed"
    },
    "tags": []
   },
   "outputs": [],
   "source": [
    "#hide\n",
    "# g.columns = ['date','country','cases']"
   ]
  },
  {
   "cell_type": "code",
   "execution_count": 27,
   "id": "tender-conversion",
   "metadata": {
    "execution": {
     "iopub.execute_input": "2021-09-05T12:10:46.215401Z",
     "iopub.status.busy": "2021-09-05T12:10:46.214760Z",
     "iopub.status.idle": "2021-09-05T12:10:46.216846Z",
     "shell.execute_reply": "2021-09-05T12:10:46.217318Z"
    },
    "papermill": {
     "duration": 0.041284,
     "end_time": "2021-09-05T12:10:46.217432",
     "exception": false,
     "start_time": "2021-09-05T12:10:46.176148",
     "status": "completed"
    },
    "tags": []
   },
   "outputs": [],
   "source": [
    "#hide\n",
    "# g['continent'] = g.country"
   ]
  },
  {
   "cell_type": "code",
   "execution_count": 28,
   "id": "substantial-wilderness",
   "metadata": {
    "execution": {
     "iopub.execute_input": "2021-09-05T12:10:46.288633Z",
     "iopub.status.busy": "2021-09-05T12:10:46.287996Z",
     "iopub.status.idle": "2021-09-05T12:10:46.290705Z",
     "shell.execute_reply": "2021-09-05T12:10:46.290216Z"
    },
    "papermill": {
     "duration": 0.040051,
     "end_time": "2021-09-05T12:10:46.290806",
     "exception": false,
     "start_time": "2021-09-05T12:10:46.250755",
     "status": "completed"
    },
    "tags": []
   },
   "outputs": [],
   "source": [
    "#hide\n",
    "# cols = list(g.columns.values)"
   ]
  },
  {
   "cell_type": "code",
   "execution_count": 29,
   "id": "solved-farming",
   "metadata": {
    "execution": {
     "iopub.execute_input": "2021-09-05T12:10:46.367752Z",
     "iopub.status.busy": "2021-09-05T12:10:46.367113Z",
     "iopub.status.idle": "2021-09-05T12:10:46.369355Z",
     "shell.execute_reply": "2021-09-05T12:10:46.368869Z"
    },
    "papermill": {
     "duration": 0.044022,
     "end_time": "2021-09-05T12:10:46.369462",
     "exception": false,
     "start_time": "2021-09-05T12:10:46.325440",
     "status": "completed"
    },
    "tags": []
   },
   "outputs": [],
   "source": [
    "#hide\n",
    "# cols.insert(0, cols.pop())"
   ]
  },
  {
   "cell_type": "code",
   "execution_count": 30,
   "id": "executed-adoption",
   "metadata": {
    "execution": {
     "iopub.execute_input": "2021-09-05T12:10:46.446980Z",
     "iopub.status.busy": "2021-09-05T12:10:46.446424Z",
     "iopub.status.idle": "2021-09-05T12:10:46.448649Z",
     "shell.execute_reply": "2021-09-05T12:10:46.448196Z"
    },
    "papermill": {
     "duration": 0.0409,
     "end_time": "2021-09-05T12:10:46.448751",
     "exception": false,
     "start_time": "2021-09-05T12:10:46.407851",
     "status": "completed"
    },
    "tags": []
   },
   "outputs": [],
   "source": [
    "#hide\n",
    "# g = g[cols]"
   ]
  },
  {
   "cell_type": "code",
   "execution_count": 31,
   "id": "subject-dublin",
   "metadata": {
    "execution": {
     "iopub.execute_input": "2021-09-05T12:10:46.521229Z",
     "iopub.status.busy": "2021-09-05T12:10:46.520568Z",
     "iopub.status.idle": "2021-09-05T12:10:46.523053Z",
     "shell.execute_reply": "2021-09-05T12:10:46.522511Z"
    },
    "papermill": {
     "duration": 0.040525,
     "end_time": "2021-09-05T12:10:46.523154",
     "exception": false,
     "start_time": "2021-09-05T12:10:46.482629",
     "status": "completed"
    },
    "tags": []
   },
   "outputs": [],
   "source": [
    "#hide\n",
    "# g['continent'] = g['continent'].map(mapping['map.continent'])"
   ]
  },
  {
   "cell_type": "code",
   "execution_count": 32,
   "id": "freelance-scout",
   "metadata": {
    "execution": {
     "iopub.execute_input": "2021-09-05T12:10:46.594378Z",
     "iopub.status.busy": "2021-09-05T12:10:46.593779Z",
     "iopub.status.idle": "2021-09-05T12:10:46.595777Z",
     "shell.execute_reply": "2021-09-05T12:10:46.596293Z"
    },
    "papermill": {
     "duration": 0.039967,
     "end_time": "2021-09-05T12:10:46.596417",
     "exception": false,
     "start_time": "2021-09-05T12:10:46.556450",
     "status": "completed"
    },
    "tags": []
   },
   "outputs": [],
   "source": [
    "#hide\n",
    "# g.head()"
   ]
  },
  {
   "cell_type": "code",
   "execution_count": 33,
   "id": "limited-engine",
   "metadata": {
    "execution": {
     "iopub.execute_input": "2021-09-05T12:10:46.669771Z",
     "iopub.status.busy": "2021-09-05T12:10:46.669201Z",
     "iopub.status.idle": "2021-09-05T12:10:46.671610Z",
     "shell.execute_reply": "2021-09-05T12:10:46.671123Z"
    },
    "papermill": {
     "duration": 0.040643,
     "end_time": "2021-09-05T12:10:46.671703",
     "exception": false,
     "start_time": "2021-09-05T12:10:46.631060",
     "status": "completed"
    },
    "tags": []
   },
   "outputs": [],
   "source": [
    "# hide\n",
    "# g['date'] = g['date'].astype('datetime64[ns]')"
   ]
  },
  {
   "cell_type": "code",
   "execution_count": 34,
   "id": "sophisticated-supervisor",
   "metadata": {
    "execution": {
     "iopub.execute_input": "2021-09-05T12:10:46.745237Z",
     "iopub.status.busy": "2021-09-05T12:10:46.744712Z",
     "iopub.status.idle": "2021-09-05T12:10:46.746672Z",
     "shell.execute_reply": "2021-09-05T12:10:46.747232Z"
    },
    "papermill": {
     "duration": 0.039817,
     "end_time": "2021-09-05T12:10:46.747350",
     "exception": false,
     "start_time": "2021-09-05T12:10:46.707533",
     "status": "completed"
    },
    "tags": []
   },
   "outputs": [],
   "source": [
    "#hide\n",
    "# g['date'] = g.date.dt.dayofyear"
   ]
  },
  {
   "cell_type": "code",
   "execution_count": 35,
   "id": "inside-dubai",
   "metadata": {
    "execution": {
     "iopub.execute_input": "2021-09-05T12:10:46.819700Z",
     "iopub.status.busy": "2021-09-05T12:10:46.819135Z",
     "iopub.status.idle": "2021-09-05T12:10:46.821438Z",
     "shell.execute_reply": "2021-09-05T12:10:46.820894Z"
    },
    "papermill": {
     "duration": 0.039714,
     "end_time": "2021-09-05T12:10:46.821552",
     "exception": false,
     "start_time": "2021-09-05T12:10:46.781838",
     "status": "completed"
    },
    "tags": []
   },
   "outputs": [],
   "source": [
    "#hide\n",
    "# g = g.rename(columns= {'continent':'group','country':'name','cases':'value'})"
   ]
  },
  {
   "cell_type": "code",
   "execution_count": 36,
   "id": "fleet-motorcycle",
   "metadata": {
    "execution": {
     "iopub.execute_input": "2021-09-05T12:10:46.896665Z",
     "iopub.status.busy": "2021-09-05T12:10:46.895788Z",
     "iopub.status.idle": "2021-09-05T12:10:46.897710Z",
     "shell.execute_reply": "2021-09-05T12:10:46.898359Z"
    },
    "papermill": {
     "duration": 0.043959,
     "end_time": "2021-09-05T12:10:46.898581",
     "exception": false,
     "start_time": "2021-09-05T12:10:46.854622",
     "status": "completed"
    },
    "tags": []
   },
   "outputs": [],
   "source": [
    "#hide\n",
    "# cols = ['name','group','day','value']"
   ]
  },
  {
   "cell_type": "code",
   "execution_count": 37,
   "id": "continued-sleeping",
   "metadata": {
    "execution": {
     "iopub.execute_input": "2021-09-05T12:10:46.980112Z",
     "iopub.status.busy": "2021-09-05T12:10:46.979547Z",
     "iopub.status.idle": "2021-09-05T12:10:46.981812Z",
     "shell.execute_reply": "2021-09-05T12:10:46.981226Z"
    },
    "papermill": {
     "duration": 0.045587,
     "end_time": "2021-09-05T12:10:46.981959",
     "exception": false,
     "start_time": "2021-09-05T12:10:46.936372",
     "status": "completed"
    },
    "tags": []
   },
   "outputs": [],
   "source": [
    "#hide\n",
    "# g.rename(columns= {'date':'day'},inplace = True)"
   ]
  },
  {
   "cell_type": "code",
   "execution_count": 38,
   "id": "major-fight",
   "metadata": {
    "execution": {
     "iopub.execute_input": "2021-09-05T12:10:47.058416Z",
     "iopub.status.busy": "2021-09-05T12:10:47.057544Z",
     "iopub.status.idle": "2021-09-05T12:10:47.061128Z",
     "shell.execute_reply": "2021-09-05T12:10:47.060621Z"
    },
    "papermill": {
     "duration": 0.042497,
     "end_time": "2021-09-05T12:10:47.061266",
     "exception": false,
     "start_time": "2021-09-05T12:10:47.018769",
     "status": "completed"
    },
    "tags": []
   },
   "outputs": [],
   "source": [
    "#hide\n",
    "# g = g[cols]"
   ]
  },
  {
   "cell_type": "code",
   "execution_count": 39,
   "id": "structured-mobile",
   "metadata": {
    "execution": {
     "iopub.execute_input": "2021-09-05T12:10:47.133880Z",
     "iopub.status.busy": "2021-09-05T12:10:47.133315Z",
     "iopub.status.idle": "2021-09-05T12:10:47.135267Z",
     "shell.execute_reply": "2021-09-05T12:10:47.135714Z"
    },
    "papermill": {
     "duration": 0.040144,
     "end_time": "2021-09-05T12:10:47.135820",
     "exception": false,
     "start_time": "2021-09-05T12:10:47.095676",
     "status": "completed"
    },
    "tags": []
   },
   "outputs": [],
   "source": [
    "# #hide\n",
    "# g = g[g.group.notna()]"
   ]
  },
  {
   "cell_type": "code",
   "execution_count": 40,
   "id": "determined-closing",
   "metadata": {
    "execution": {
     "iopub.execute_input": "2021-09-05T12:10:47.208625Z",
     "iopub.status.busy": "2021-09-05T12:10:47.208019Z",
     "iopub.status.idle": "2021-09-05T12:10:47.210123Z",
     "shell.execute_reply": "2021-09-05T12:10:47.210811Z"
    },
    "papermill": {
     "duration": 0.040647,
     "end_time": "2021-09-05T12:10:47.210949",
     "exception": false,
     "start_time": "2021-09-05T12:10:47.170302",
     "status": "completed"
    },
    "tags": []
   },
   "outputs": [],
   "source": [
    "# #hide\n",
    "# colors = dict(zip(\n",
    "#     [\"Oceania\", \"Europe\", \"Asia\", \"South America\", \"Middle East\", \"North America\", \"Africa\"],\n",
    "#     [\"#adb0ff\", \"#ffb3ff\", \"#90d595\", \"#e48381\", \"#aafbff\", \"#f7bb5f\", \"#eafb50\"]\n",
    "# ))\n",
    "# group_lk = g.set_index('name')['group'].to_dict()"
   ]
  },
  {
   "cell_type": "code",
   "execution_count": null,
   "id": "gross-drinking",
   "metadata": {
    "papermill": {
     "duration": 0.036318,
     "end_time": "2021-09-05T12:10:47.283605",
     "exception": false,
     "start_time": "2021-09-05T12:10:47.247287",
     "status": "completed"
    },
    "tags": []
   },
   "outputs": [],
   "source": []
  },
  {
   "cell_type": "code",
   "execution_count": 41,
   "id": "subject-macintosh",
   "metadata": {
    "execution": {
     "iopub.execute_input": "2021-09-05T12:10:47.357663Z",
     "iopub.status.busy": "2021-09-05T12:10:47.357059Z",
     "iopub.status.idle": "2021-09-05T12:10:47.359044Z",
     "shell.execute_reply": "2021-09-05T12:10:47.359532Z"
    },
    "papermill": {
     "duration": 0.040437,
     "end_time": "2021-09-05T12:10:47.359647",
     "exception": false,
     "start_time": "2021-09-05T12:10:47.319210",
     "status": "completed"
    },
    "tags": []
   },
   "outputs": [],
   "source": [
    "# #hide\n",
    "# fig, ax = plt.subplots(figsize=(15, 8))\n",
    "\n",
    "# def draw_barchart(current_day):\n",
    "#     dff = g[g['day'].eq(current_day)].sort_values(by='value', ascending=True).tail(10)\n",
    "#     ax.clear()\n",
    "#     ax.barh(dff['name'], dff['value'], color=[colors[group_lk[x]] for x in dff['name']])\n",
    "#     dx = dff['value'].max() / 200\n",
    "    \n",
    "#     for i, (value, name) in enumerate(zip(dff['value'], dff['name'])):\n",
    "#         ax.text(value-dx, i,     name,           size=14, weight=600, ha='right', va='bottom')\n",
    "#         ax.text(value-dx, i-.25, group_lk[name], size=10, color='#444444', ha='right', va='baseline')\n",
    "#         ax.text(value+dx, i,     f'{value:,.0f}',  size=14, ha='left',  va='center')\n",
    "#     ax.text(1, 0.4, current_day, transform=ax.transAxes, color='#777777', size=46, ha='right', weight=800)\n",
    "#     ax.text(0, 1.06, 'Population (thousands)', transform=ax.transAxes, size=12, color='#777777')\n",
    "#     ax.xaxis.set_major_formatter(ticker.StrMethodFormatter('{x:,.0f}'))\n",
    "#     ax.xaxis.set_ticks_position('top')\n",
    "#     ax.tick_params(axis='x', colors='#777777', labelsize=12)\n",
    "#     ax.set_yticks([])\n",
    "#     ax.margins(0, 0.01)\n",
    "#     ax.grid(which='major', axis='x', linestyle='-')\n",
    "#     ax.set_axisbelow(True)\n",
    "    \n",
    "#     ax.text(0, 1.15, 'Coronavirus',\n",
    "#             transform=ax.transAxes, size=24, weight=600, ha='left', va='top')\n",
    "# #     ax.text(1, 0, 'by @pratapvardhan; credit @jburnmurdoch', transform=ax.transAxes, color='#777777', ha='right',\n",
    "# #             bbox=dict(facecolor='white', alpha=0.8, edgecolor='white'))\n",
    "#     plt.box(False)"
   ]
  },
  {
   "cell_type": "code",
   "execution_count": 42,
   "id": "sexual-wages",
   "metadata": {
    "execution": {
     "iopub.execute_input": "2021-09-05T12:10:47.439425Z",
     "iopub.status.busy": "2021-09-05T12:10:47.438817Z",
     "iopub.status.idle": "2021-09-05T12:10:47.441505Z",
     "shell.execute_reply": "2021-09-05T12:10:47.440914Z"
    },
    "papermill": {
     "duration": 0.043591,
     "end_time": "2021-09-05T12:10:47.441644",
     "exception": false,
     "start_time": "2021-09-05T12:10:47.398053",
     "status": "completed"
    },
    "tags": []
   },
   "outputs": [],
   "source": [
    "# #hide_input\n",
    "# fig, ax = plt.subplots(figsize=(15, 8))\n",
    "# animator = animation.FuncAnimation(fig, draw_barchart, frames=range(g.day.values.min(), g.day.values.max()))\n",
    "# HTML(animator.to_jshtml())\n",
    "# # or use animator.to_html5_video() or animator.save() "
   ]
  },
  {
   "cell_type": "code",
   "execution_count": null,
   "id": "australian-container",
   "metadata": {
    "papermill": {
     "duration": 0.035268,
     "end_time": "2021-09-05T12:10:47.511797",
     "exception": false,
     "start_time": "2021-09-05T12:10:47.476529",
     "status": "completed"
    },
    "tags": []
   },
   "outputs": [],
   "source": []
  },
  {
   "cell_type": "code",
   "execution_count": null,
   "id": "mediterranean-pontiac",
   "metadata": {
    "papermill": {
     "duration": 0.034447,
     "end_time": "2021-09-05T12:10:47.581297",
     "exception": false,
     "start_time": "2021-09-05T12:10:47.546850",
     "status": "completed"
    },
    "tags": []
   },
   "outputs": [],
   "source": []
  },
  {
   "cell_type": "code",
   "execution_count": null,
   "id": "aging-legislature",
   "metadata": {
    "papermill": {
     "duration": 0.033693,
     "end_time": "2021-09-05T12:10:47.649390",
     "exception": false,
     "start_time": "2021-09-05T12:10:47.615697",
     "status": "completed"
    },
    "tags": []
   },
   "outputs": [],
   "source": []
  }
 ],
 "metadata": {
  "kernelspec": {
   "display_name": "Python 3",
   "language": "python",
   "name": "python3"
  },
  "language_info": {
   "codemirror_mode": {
    "name": "ipython",
    "version": 3
   },
   "file_extension": ".py",
   "mimetype": "text/x-python",
   "name": "python",
   "nbconvert_exporter": "python",
   "pygments_lexer": "ipython3",
   "version": "3.6.14"
  },
  "papermill": {
   "duration": 6.463395,
   "end_time": "2021-09-05T12:10:47.991009",
   "environment_variables": {},
   "exception": null,
   "input_path": "2020-03-21-covid19exp.ipynb",
   "output_path": "2020-03-21-covid19exp.ipynb",
   "parameters": {},
   "start_time": "2021-09-05T12:10:41.527614",
   "version": "2.0.0"
  }
 },
 "nbformat": 4,
 "nbformat_minor": 5
}