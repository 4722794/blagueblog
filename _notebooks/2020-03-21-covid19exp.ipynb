{
 "cells": [
  {
   "cell_type": "markdown",
   "id": "muslim-click",
   "metadata": {
    "papermill": {
     "duration": 0.050805,
     "end_time": "2021-02-18T00:11:24.440475",
     "exception": false,
     "start_time": "2021-02-18T00:11:24.389670",
     "status": "completed"
    },
    "tags": []
   },
   "source": [
    "# COVID-19 Case Race\n",
    "> A race chart to see rising cases around the world\n",
    "\n",
    "- author: Hargun Oberoi\n",
    "- image: images/covid-overview.png\n",
    "- hide: false\n",
    "- badges: false"
   ]
  },
  {
   "cell_type": "code",
   "execution_count": 1,
   "id": "proof-material",
   "metadata": {
    "execution": {
     "iopub.execute_input": "2021-02-18T00:11:24.535794Z",
     "iopub.status.busy": "2021-02-18T00:11:24.535030Z",
     "iopub.status.idle": "2021-02-18T00:11:24.925959Z",
     "shell.execute_reply": "2021-02-18T00:11:24.925278Z"
    },
    "papermill": {
     "duration": 0.443606,
     "end_time": "2021-02-18T00:11:24.926225",
     "exception": false,
     "start_time": "2021-02-18T00:11:24.482619",
     "status": "completed"
    },
    "tags": []
   },
   "outputs": [],
   "source": [
    "#hide\n",
    "import numpy as np\n",
    "import pandas as pd\n",
    "from jinja2 import Template\n",
    "from IPython.display import HTML"
   ]
  },
  {
   "cell_type": "code",
   "execution_count": 2,
   "id": "developed-terminology",
   "metadata": {
    "execution": {
     "iopub.execute_input": "2021-02-18T00:11:25.012555Z",
     "iopub.status.busy": "2021-02-18T00:11:25.011617Z",
     "iopub.status.idle": "2021-02-18T00:11:25.013633Z",
     "shell.execute_reply": "2021-02-18T00:11:25.014186Z"
    },
    "papermill": {
     "duration": 0.047801,
     "end_time": "2021-02-18T00:11:25.014338",
     "exception": false,
     "start_time": "2021-02-18T00:11:24.966537",
     "status": "completed"
    },
    "tags": []
   },
   "outputs": [],
   "source": [
    "#hide\n",
    "\n",
    "# FETCH\n",
    "base_url = 'https://raw.githubusercontent.com/pratapvardhan/notebooks/master/covid19/'\n",
    "paths = {\n",
    "    'mapping': base_url + 'mapping_countries.csv',\n",
    "    'overview': base_url + 'overview.tpl'\n",
    "}"
   ]
  },
  {
   "cell_type": "code",
   "execution_count": 3,
   "id": "dynamic-saver",
   "metadata": {
    "execution": {
     "iopub.execute_input": "2021-02-18T00:11:25.114312Z",
     "iopub.status.busy": "2021-02-18T00:11:25.113596Z",
     "iopub.status.idle": "2021-02-18T00:11:25.121646Z",
     "shell.execute_reply": "2021-02-18T00:11:25.121090Z"
    },
    "papermill": {
     "duration": 0.067068,
     "end_time": "2021-02-18T00:11:25.121776",
     "exception": false,
     "start_time": "2021-02-18T00:11:25.054708",
     "status": "completed"
    },
    "tags": []
   },
   "outputs": [
    {
     "data": {
      "text/plain": [
       "'https://raw.githubusercontent.com/pratapvardhan/notebooks/master/covid19/mapping_countries.csv'"
      ]
     },
     "execution_count": 3,
     "metadata": {},
     "output_type": "execute_result"
    }
   ],
   "source": [
    "#hide\n",
    "paths['mapping']"
   ]
  },
  {
   "cell_type": "code",
   "execution_count": 4,
   "id": "urban-software",
   "metadata": {
    "execution": {
     "iopub.execute_input": "2021-02-18T00:11:25.218546Z",
     "iopub.status.busy": "2021-02-18T00:11:25.217851Z",
     "iopub.status.idle": "2021-02-18T00:11:25.220427Z",
     "shell.execute_reply": "2021-02-18T00:11:25.219848Z"
    },
    "papermill": {
     "duration": 0.055025,
     "end_time": "2021-02-18T00:11:25.220554",
     "exception": false,
     "start_time": "2021-02-18T00:11:25.165529",
     "status": "completed"
    },
    "tags": []
   },
   "outputs": [],
   "source": [
    "#hide\n",
    "def get_mappings(url):\n",
    "    df = pd.read_csv(url)\n",
    "    return {\n",
    "        'df': df,\n",
    "        'replace.country': dict(df.dropna(subset=['Name']).set_index('Country')['Name']),\n",
    "        'map.continent': dict(df.set_index('Name')['Continent'])\n",
    "    }"
   ]
  },
  {
   "cell_type": "code",
   "execution_count": 5,
   "id": "intimate-machinery",
   "metadata": {
    "execution": {
     "iopub.execute_input": "2021-02-18T00:11:25.325513Z",
     "iopub.status.busy": "2021-02-18T00:11:25.324776Z",
     "iopub.status.idle": "2021-02-18T00:11:25.363367Z",
     "shell.execute_reply": "2021-02-18T00:11:25.362413Z"
    },
    "papermill": {
     "duration": 0.089028,
     "end_time": "2021-02-18T00:11:25.363520",
     "exception": false,
     "start_time": "2021-02-18T00:11:25.274492",
     "status": "completed"
    },
    "tags": []
   },
   "outputs": [],
   "source": [
    "#hide\n",
    "mapping = get_mappings(paths['mapping'])"
   ]
  },
  {
   "cell_type": "code",
   "execution_count": 6,
   "id": "certified-tactics",
   "metadata": {
    "execution": {
     "iopub.execute_input": "2021-02-18T00:11:25.451546Z",
     "iopub.status.busy": "2021-02-18T00:11:25.450610Z",
     "iopub.status.idle": "2021-02-18T00:11:25.452319Z",
     "shell.execute_reply": "2021-02-18T00:11:25.453091Z"
    },
    "papermill": {
     "duration": 0.0479,
     "end_time": "2021-02-18T00:11:25.453265",
     "exception": false,
     "start_time": "2021-02-18T00:11:25.405365",
     "status": "completed"
    },
    "tags": []
   },
   "outputs": [],
   "source": [
    "#hide\n",
    "def get_template(path):\n",
    "    from urllib.parse import urlparse\n",
    "    if bool(urlparse(path).netloc):\n",
    "        from urllib.request import urlopen\n",
    "        return urlopen(path).read().decode('utf8')\n",
    "    return open(path).read()"
   ]
  },
  {
   "cell_type": "code",
   "execution_count": 7,
   "id": "realistic-blast",
   "metadata": {
    "execution": {
     "iopub.execute_input": "2021-02-18T00:11:25.550443Z",
     "iopub.status.busy": "2021-02-18T00:11:25.549695Z",
     "iopub.status.idle": "2021-02-18T00:11:25.552649Z",
     "shell.execute_reply": "2021-02-18T00:11:25.551930Z"
    },
    "papermill": {
     "duration": 0.055889,
     "end_time": "2021-02-18T00:11:25.552850",
     "exception": false,
     "start_time": "2021-02-18T00:11:25.496961",
     "status": "completed"
    },
    "tags": []
   },
   "outputs": [],
   "source": [
    "#hide\n",
    "def get_frame(name):\n",
    "    url = (\n",
    "        'https://raw.githubusercontent.com/CSSEGISandData/COVID-19/master/csse_covid_19_data/'\n",
    "        f'csse_covid_19_time_series/time_series_covid19_{name}_global.csv')\n",
    "    df = pd.read_csv(url)\n",
    "    # rename countries\n",
    "    df['Country/Region'] = df['Country/Region'].replace(mapping['replace.country'])\n",
    "    return df"
   ]
  },
  {
   "cell_type": "code",
   "execution_count": 8,
   "id": "affiliated-characterization",
   "metadata": {
    "execution": {
     "iopub.execute_input": "2021-02-18T00:11:25.644387Z",
     "iopub.status.busy": "2021-02-18T00:11:25.643591Z",
     "iopub.status.idle": "2021-02-18T00:11:25.645585Z",
     "shell.execute_reply": "2021-02-18T00:11:25.646176Z"
    },
    "papermill": {
     "duration": 0.050202,
     "end_time": "2021-02-18T00:11:25.646371",
     "exception": false,
     "start_time": "2021-02-18T00:11:25.596169",
     "status": "completed"
    },
    "tags": []
   },
   "outputs": [],
   "source": [
    "#hide\n",
    "def get_dates(df):\n",
    "    dt_cols = df.columns[~df.columns.isin(['Province/State', 'Country/Region', 'Lat', 'Long'])]\n",
    "    LAST_DATE_I = -1\n",
    "    # sometimes last column may be empty, then go backwards\n",
    "    for i in range(-1, -len(dt_cols), -1):\n",
    "        if not df[dt_cols[i]].fillna(0).eq(0).all():\n",
    "            LAST_DATE_I = i\n",
    "            break\n",
    "    return LAST_DATE_I, dt_cols"
   ]
  },
  {
   "cell_type": "code",
   "execution_count": 9,
   "id": "recent-optimization",
   "metadata": {
    "execution": {
     "iopub.execute_input": "2021-02-18T00:11:25.733244Z",
     "iopub.status.busy": "2021-02-18T00:11:25.732503Z",
     "iopub.status.idle": "2021-02-18T00:11:26.022679Z",
     "shell.execute_reply": "2021-02-18T00:11:26.022049Z"
    },
    "papermill": {
     "duration": 0.336251,
     "end_time": "2021-02-18T00:11:26.022847",
     "exception": false,
     "start_time": "2021-02-18T00:11:25.686596",
     "status": "completed"
    },
    "tags": []
   },
   "outputs": [],
   "source": [
    "#hide\n",
    "COL_REGION = 'Country/Region'\n",
    "# Confirmed, Recovered, Deaths\n",
    "df = get_frame('confirmed')\n",
    "# dft_: timeseries, dfc_: today country agg\n",
    "dft_cases = df\n",
    "dft_deaths = get_frame('deaths')\n",
    "dft_recovered = get_frame('recovered')\n",
    "LAST_DATE_I, dt_cols = get_dates(df)"
   ]
  },
  {
   "cell_type": "code",
   "execution_count": 10,
   "id": "absolute-copper",
   "metadata": {
    "execution": {
     "iopub.execute_input": "2021-02-18T00:11:26.117960Z",
     "iopub.status.busy": "2021-02-18T00:11:26.117314Z",
     "iopub.status.idle": "2021-02-18T00:11:26.119792Z",
     "shell.execute_reply": "2021-02-18T00:11:26.120470Z"
    },
    "papermill": {
     "duration": 0.057428,
     "end_time": "2021-02-18T00:11:26.120633",
     "exception": false,
     "start_time": "2021-02-18T00:11:26.063205",
     "status": "completed"
    },
    "tags": []
   },
   "outputs": [],
   "source": [
    "#hide\n",
    "LAST_DATE_I, dt_cols = get_dates(df)\n",
    "dt_today =dt_cols[LAST_DATE_I]\n",
    "# dt_5day = dt_cols[LAST_DATE_I - 5]\n",
    "dt_yday = dt_cols[LAST_DATE_I - 1]"
   ]
  },
  {
   "cell_type": "code",
   "execution_count": 11,
   "id": "restricted-sheriff",
   "metadata": {
    "execution": {
     "iopub.execute_input": "2021-02-18T00:11:26.229096Z",
     "iopub.status.busy": "2021-02-18T00:11:26.228382Z",
     "iopub.status.idle": "2021-02-18T00:11:26.238747Z",
     "shell.execute_reply": "2021-02-18T00:11:26.238131Z"
    },
    "papermill": {
     "duration": 0.057813,
     "end_time": "2021-02-18T00:11:26.238902",
     "exception": false,
     "start_time": "2021-02-18T00:11:26.181089",
     "status": "completed"
    },
    "tags": []
   },
   "outputs": [],
   "source": [
    "#hide\n",
    "dfc_cases = dft_cases.groupby(COL_REGION)[dt_today].sum()\n",
    "dfc_deaths = dft_deaths.groupby(COL_REGION)[dt_today].sum()\n",
    "# dfp_cases = dft_cases.groupby(COL_REGION)[dt_5day].sum()\n",
    "# dfp_deaths = dft_deaths.groupby(COL_REGION)[dt_5day].sum()\n",
    "dfp_cases = dft_cases.groupby(COL_REGION)[dt_yday].sum()\n",
    "dfp_deaths = dft_deaths.groupby(COL_REGION)[dt_yday].sum()"
   ]
  },
  {
   "cell_type": "code",
   "execution_count": 12,
   "id": "deluxe-hepatitis",
   "metadata": {
    "execution": {
     "iopub.execute_input": "2021-02-18T00:11:26.328598Z",
     "iopub.status.busy": "2021-02-18T00:11:26.327908Z",
     "iopub.status.idle": "2021-02-18T00:11:26.333800Z",
     "shell.execute_reply": "2021-02-18T00:11:26.334446Z"
    },
    "papermill": {
     "duration": 0.055612,
     "end_time": "2021-02-18T00:11:26.334602",
     "exception": false,
     "start_time": "2021-02-18T00:11:26.278990",
     "status": "completed"
    },
    "tags": []
   },
   "outputs": [],
   "source": [
    "#hide\n",
    "df_table = (pd.DataFrame(dict(Cases = dfc_cases, Deaths = dfc_deaths, PCases = dfp_cases, PDeaths = dfp_deaths))\n",
    "            .sort_values(by = ['Cases','Deaths'], ascending = [False, False])\n",
    "            .reset_index())"
   ]
  },
  {
   "cell_type": "code",
   "execution_count": 13,
   "id": "educational-chancellor",
   "metadata": {
    "execution": {
     "iopub.execute_input": "2021-02-18T00:11:26.423256Z",
     "iopub.status.busy": "2021-02-18T00:11:26.420310Z",
     "iopub.status.idle": "2021-02-18T00:11:26.449698Z",
     "shell.execute_reply": "2021-02-18T00:11:26.450314Z"
    },
    "papermill": {
     "duration": 0.073896,
     "end_time": "2021-02-18T00:11:26.450483",
     "exception": false,
     "start_time": "2021-02-18T00:11:26.376587",
     "status": "completed"
    },
    "tags": []
   },
   "outputs": [
    {
     "data": {
      "text/html": [
       "<div>\n",
       "<style scoped>\n",
       "    .dataframe tbody tr th:only-of-type {\n",
       "        vertical-align: middle;\n",
       "    }\n",
       "\n",
       "    .dataframe tbody tr th {\n",
       "        vertical-align: top;\n",
       "    }\n",
       "\n",
       "    .dataframe thead th {\n",
       "        text-align: right;\n",
       "    }\n",
       "</style>\n",
       "<table border=\"1\" class=\"dataframe\">\n",
       "  <thead>\n",
       "    <tr style=\"text-align: right;\">\n",
       "      <th></th>\n",
       "      <th>Country/Region</th>\n",
       "      <th>Cases</th>\n",
       "      <th>Deaths</th>\n",
       "      <th>PCases</th>\n",
       "      <th>PDeaths</th>\n",
       "      <th>Cases (+)</th>\n",
       "      <th>Deaths (+)</th>\n",
       "      <th>Fatality Rate</th>\n",
       "      <th>Continent</th>\n",
       "    </tr>\n",
       "  </thead>\n",
       "  <tbody>\n",
       "    <tr>\n",
       "      <th>0</th>\n",
       "      <td>US</td>\n",
       "      <td>27756624</td>\n",
       "      <td>488081</td>\n",
       "      <td>27694226</td>\n",
       "      <td>486325</td>\n",
       "      <td>62398</td>\n",
       "      <td>1756</td>\n",
       "      <td>1.76</td>\n",
       "      <td>North America</td>\n",
       "    </tr>\n",
       "    <tr>\n",
       "      <th>1</th>\n",
       "      <td>India</td>\n",
       "      <td>10937320</td>\n",
       "      <td>155913</td>\n",
       "      <td>10925710</td>\n",
       "      <td>155813</td>\n",
       "      <td>11610</td>\n",
       "      <td>100</td>\n",
       "      <td>1.43</td>\n",
       "      <td>Asia</td>\n",
       "    </tr>\n",
       "    <tr>\n",
       "      <th>2</th>\n",
       "      <td>Brazil</td>\n",
       "      <td>9921981</td>\n",
       "      <td>240940</td>\n",
       "      <td>9866710</td>\n",
       "      <td>239773</td>\n",
       "      <td>55271</td>\n",
       "      <td>1167</td>\n",
       "      <td>2.43</td>\n",
       "      <td>South America</td>\n",
       "    </tr>\n",
       "    <tr>\n",
       "      <th>3</th>\n",
       "      <td>United Kingdom</td>\n",
       "      <td>4070332</td>\n",
       "      <td>118421</td>\n",
       "      <td>4059696</td>\n",
       "      <td>117622</td>\n",
       "      <td>10636</td>\n",
       "      <td>799</td>\n",
       "      <td>2.91</td>\n",
       "      <td>Europe</td>\n",
       "    </tr>\n",
       "    <tr>\n",
       "      <th>4</th>\n",
       "      <td>Russia</td>\n",
       "      <td>4053535</td>\n",
       "      <td>79659</td>\n",
       "      <td>4040505</td>\n",
       "      <td>79210</td>\n",
       "      <td>13030</td>\n",
       "      <td>449</td>\n",
       "      <td>1.97</td>\n",
       "      <td>Europe</td>\n",
       "    </tr>\n",
       "  </tbody>\n",
       "</table>\n",
       "</div>"
      ],
      "text/plain": [
       "   Country/Region     Cases  Deaths    PCases  PDeaths  Cases (+)  Deaths (+)  \\\n",
       "0              US  27756624  488081  27694226   486325      62398        1756   \n",
       "1           India  10937320  155913  10925710   155813      11610         100   \n",
       "2          Brazil   9921981  240940   9866710   239773      55271        1167   \n",
       "3  United Kingdom   4070332  118421   4059696   117622      10636         799   \n",
       "4          Russia   4053535   79659   4040505    79210      13030         449   \n",
       "\n",
       "   Fatality Rate      Continent  \n",
       "0           1.76  North America  \n",
       "1           1.43           Asia  \n",
       "2           2.43  South America  \n",
       "3           2.91         Europe  \n",
       "4           1.97         Europe  "
      ]
     },
     "execution_count": 13,
     "metadata": {},
     "output_type": "execute_result"
    }
   ],
   "source": [
    "#hide\n",
    "for c in 'Cases, Deaths'.split(', '):\n",
    "    df_table[f'{c} (+)'] = (df_table[c] - df_table[f'P{c}']).clip(0)\n",
    "    #Clip ça veut dire, les chiffres negatif sont interdit\n",
    "df_table['Fatality Rate'] = (100* df_table['Deaths']/ df_table['Cases']).round(2)\n",
    "df_table['Continent'] = df_table['Country/Region'].map(mapping['map.continent'])\n",
    "df_table.head(5)"
   ]
  },
  {
   "cell_type": "code",
   "execution_count": 14,
   "id": "aboriginal-bulgaria",
   "metadata": {
    "execution": {
     "iopub.execute_input": "2021-02-18T00:11:26.541389Z",
     "iopub.status.busy": "2021-02-18T00:11:26.540654Z",
     "iopub.status.idle": "2021-02-18T00:11:26.543612Z",
     "shell.execute_reply": "2021-02-18T00:11:26.544213Z"
    },
    "papermill": {
     "duration": 0.052157,
     "end_time": "2021-02-18T00:11:26.544362",
     "exception": false,
     "start_time": "2021-02-18T00:11:26.492205",
     "status": "completed"
    },
    "tags": []
   },
   "outputs": [],
   "source": [
    "#hide\n",
    "#delete problematic countries from table\n",
    "df_table = df_table[~df_table['Country/Region'].isin(['Cape Verde', 'Cruise Ship', 'Kosovo'])]"
   ]
  },
  {
   "cell_type": "code",
   "execution_count": 15,
   "id": "fantastic-effect",
   "metadata": {
    "execution": {
     "iopub.execute_input": "2021-02-18T00:11:26.641391Z",
     "iopub.status.busy": "2021-02-18T00:11:26.640575Z",
     "iopub.status.idle": "2021-02-18T00:11:26.664800Z",
     "shell.execute_reply": "2021-02-18T00:11:26.664156Z"
    },
    "papermill": {
     "duration": 0.076901,
     "end_time": "2021-02-18T00:11:26.664939",
     "exception": false,
     "start_time": "2021-02-18T00:11:26.588038",
     "status": "completed"
    },
    "tags": []
   },
   "outputs": [
    {
     "data": {
      "text/html": [
       "<div>\n",
       "<style scoped>\n",
       "    .dataframe tbody tr th:only-of-type {\n",
       "        vertical-align: middle;\n",
       "    }\n",
       "\n",
       "    .dataframe tbody tr th {\n",
       "        vertical-align: top;\n",
       "    }\n",
       "\n",
       "    .dataframe thead th {\n",
       "        text-align: right;\n",
       "    }\n",
       "</style>\n",
       "<table border=\"1\" class=\"dataframe\">\n",
       "  <thead>\n",
       "    <tr style=\"text-align: right;\">\n",
       "      <th></th>\n",
       "      <th>Country/Region</th>\n",
       "      <th>Cases</th>\n",
       "      <th>Deaths</th>\n",
       "      <th>PCases</th>\n",
       "      <th>PDeaths</th>\n",
       "      <th>Cases (+)</th>\n",
       "      <th>Deaths (+)</th>\n",
       "      <th>Fatality Rate</th>\n",
       "      <th>Continent</th>\n",
       "    </tr>\n",
       "  </thead>\n",
       "  <tbody>\n",
       "    <tr>\n",
       "      <th>0</th>\n",
       "      <td>US</td>\n",
       "      <td>27756624</td>\n",
       "      <td>488081</td>\n",
       "      <td>27694226</td>\n",
       "      <td>486325</td>\n",
       "      <td>62398</td>\n",
       "      <td>1756</td>\n",
       "      <td>1.8</td>\n",
       "      <td>North America</td>\n",
       "    </tr>\n",
       "    <tr>\n",
       "      <th>1</th>\n",
       "      <td>India</td>\n",
       "      <td>10937320</td>\n",
       "      <td>155913</td>\n",
       "      <td>10925710</td>\n",
       "      <td>155813</td>\n",
       "      <td>11610</td>\n",
       "      <td>100</td>\n",
       "      <td>1.4</td>\n",
       "      <td>Asia</td>\n",
       "    </tr>\n",
       "    <tr>\n",
       "      <th>2</th>\n",
       "      <td>Brazil</td>\n",
       "      <td>9921981</td>\n",
       "      <td>240940</td>\n",
       "      <td>9866710</td>\n",
       "      <td>239773</td>\n",
       "      <td>55271</td>\n",
       "      <td>1167</td>\n",
       "      <td>2.4</td>\n",
       "      <td>South America</td>\n",
       "    </tr>\n",
       "    <tr>\n",
       "      <th>3</th>\n",
       "      <td>United Kingdom</td>\n",
       "      <td>4070332</td>\n",
       "      <td>118421</td>\n",
       "      <td>4059696</td>\n",
       "      <td>117622</td>\n",
       "      <td>10636</td>\n",
       "      <td>799</td>\n",
       "      <td>2.9</td>\n",
       "      <td>Europe</td>\n",
       "    </tr>\n",
       "    <tr>\n",
       "      <th>4</th>\n",
       "      <td>Russia</td>\n",
       "      <td>4053535</td>\n",
       "      <td>79659</td>\n",
       "      <td>4040505</td>\n",
       "      <td>79210</td>\n",
       "      <td>13030</td>\n",
       "      <td>449</td>\n",
       "      <td>2.0</td>\n",
       "      <td>Europe</td>\n",
       "    </tr>\n",
       "  </tbody>\n",
       "</table>\n",
       "</div>"
      ],
      "text/plain": [
       "   Country/Region     Cases  Deaths    PCases  PDeaths  Cases (+)  Deaths (+)  \\\n",
       "0              US  27756624  488081  27694226   486325      62398        1756   \n",
       "1           India  10937320  155913  10925710   155813      11610         100   \n",
       "2          Brazil   9921981  240940   9866710   239773      55271        1167   \n",
       "3  United Kingdom   4070332  118421   4059696   117622      10636         799   \n",
       "4          Russia   4053535   79659   4040505    79210      13030         449   \n",
       "\n",
       "   Fatality Rate      Continent  \n",
       "0            1.8  North America  \n",
       "1            1.4           Asia  \n",
       "2            2.4  South America  \n",
       "3            2.9         Europe  \n",
       "4            2.0         Europe  "
      ]
     },
     "execution_count": 15,
     "metadata": {},
     "output_type": "execute_result"
    }
   ],
   "source": [
    "#hide\n",
    "df_table = (pd.DataFrame(dict(Cases=dfc_cases, Deaths=dfc_deaths, PCases=dfp_cases, PDeaths=dfp_deaths))\n",
    "             .sort_values(by=['Cases', 'Deaths'], ascending=[False, False])\n",
    "             .reset_index())\n",
    "df_table.rename(columns={'index': 'Country/Region'}, inplace=True)\n",
    "for c in 'Cases, Deaths'.split(', '):\n",
    "    df_table[f'{c} (+)'] = (df_table[c] - df_table[f'P{c}']).clip(0)  # DATA BUG\n",
    "df_table['Fatality Rate'] = (100 * df_table['Deaths'] / df_table['Cases']).round(1)\n",
    "df_table['Continent'] = df_table['Country/Region'].map(mapping['map.continent'])\n",
    "df_table.head(5)"
   ]
  },
  {
   "cell_type": "code",
   "execution_count": 16,
   "id": "fewer-occasion",
   "metadata": {
    "execution": {
     "iopub.execute_input": "2021-02-18T00:11:26.757470Z",
     "iopub.status.busy": "2021-02-18T00:11:26.756723Z",
     "iopub.status.idle": "2021-02-18T00:11:26.759590Z",
     "shell.execute_reply": "2021-02-18T00:11:26.758867Z"
    },
    "papermill": {
     "duration": 0.051897,
     "end_time": "2021-02-18T00:11:26.759743",
     "exception": false,
     "start_time": "2021-02-18T00:11:26.707846",
     "status": "completed"
    },
    "tags": []
   },
   "outputs": [],
   "source": [
    "#hide\n",
    "#delete problematic countries from table\n",
    "df_table = df_table[~df_table['Country/Region'].isin(['Cape Verde', 'Cruise Ship', 'Kosovo'])]"
   ]
  },
  {
   "cell_type": "code",
   "execution_count": 17,
   "id": "related-center",
   "metadata": {
    "execution": {
     "iopub.execute_input": "2021-02-18T00:11:26.873483Z",
     "iopub.status.busy": "2021-02-18T00:11:26.872781Z",
     "iopub.status.idle": "2021-02-18T00:11:26.876158Z",
     "shell.execute_reply": "2021-02-18T00:11:26.875476Z"
    },
    "papermill": {
     "duration": 0.073516,
     "end_time": "2021-02-18T00:11:26.876316",
     "exception": false,
     "start_time": "2021-02-18T00:11:26.802800",
     "status": "completed"
    },
    "tags": []
   },
   "outputs": [],
   "source": [
    "#hide\n",
    "metrics = [df_table.columns[index] for index in [1,2,5,6]]\n",
    "# s_china = df_table[df_table['Country/Region'].eq('China')][metrics].sum().add_prefix('China ')\n",
    "s_us = df_table[df_table['Country/Region'].eq('US')][metrics].sum().add_prefix('US ')\n",
    "s_eu = df_table[df_table['Continent'].eq('Europe')][metrics].sum().add_prefix('EU ')\n",
    "s_ind = df_table[df_table['Country/Region'].eq('India')][metrics].sum().add_prefix('India ')\n",
    "summary = {'updated': pd.to_datetime(dt_today), 'since': pd.to_datetime(dt_yday)}\n",
    "summary = {'updated': pd.to_datetime(dt_today), 'since': pd.to_datetime(dt_yday)}\n",
    "summary = {**summary, **df_table[metrics].sum(), **s_ind, **s_us, **s_eu}"
   ]
  },
  {
   "cell_type": "code",
   "execution_count": 18,
   "id": "engaging-syndrome",
   "metadata": {
    "execution": {
     "iopub.execute_input": "2021-02-18T00:11:26.968436Z",
     "iopub.status.busy": "2021-02-18T00:11:26.967693Z",
     "iopub.status.idle": "2021-02-18T00:11:26.990492Z",
     "shell.execute_reply": "2021-02-18T00:11:26.991170Z"
    },
    "papermill": {
     "duration": 0.072252,
     "end_time": "2021-02-18T00:11:26.991339",
     "exception": false,
     "start_time": "2021-02-18T00:11:26.919087",
     "status": "completed"
    },
    "tags": []
   },
   "outputs": [],
   "source": [
    "#hide\n",
    "dft_ct_new_cases = dft_cases.groupby(COL_REGION)[dt_cols].sum().diff(axis=1).fillna(0).astype(int)"
   ]
  },
  {
   "cell_type": "code",
   "execution_count": 19,
   "id": "neutral-assignment",
   "metadata": {
    "execution": {
     "iopub.execute_input": "2021-02-18T00:11:27.084224Z",
     "iopub.status.busy": "2021-02-18T00:11:27.083506Z",
     "iopub.status.idle": "2021-02-18T00:11:27.085029Z",
     "shell.execute_reply": "2021-02-18T00:11:27.085827Z"
    },
    "papermill": {
     "duration": 0.051773,
     "end_time": "2021-02-18T00:11:27.085990",
     "exception": false,
     "start_time": "2021-02-18T00:11:27.034217",
     "status": "completed"
    },
    "tags": []
   },
   "outputs": [],
   "source": [
    "#hide\n",
    "everydaycases = dft_ct_new_cases.cumsum(axis=1)"
   ]
  },
  {
   "cell_type": "code",
   "execution_count": 20,
   "id": "parliamentary-calgary",
   "metadata": {
    "execution": {
     "iopub.execute_input": "2021-02-18T00:11:27.187205Z",
     "iopub.status.busy": "2021-02-18T00:11:27.186474Z",
     "iopub.status.idle": "2021-02-18T00:11:27.974226Z",
     "shell.execute_reply": "2021-02-18T00:11:27.973471Z"
    },
    "papermill": {
     "duration": 0.839246,
     "end_time": "2021-02-18T00:11:27.974387",
     "exception": false,
     "start_time": "2021-02-18T00:11:27.135141",
     "status": "completed"
    },
    "tags": []
   },
   "outputs": [],
   "source": [
    "#hide\n",
    "import pandas as pd\n",
    "import matplotlib.pyplot as plt\n",
    "import matplotlib.ticker as ticker\n",
    "import matplotlib.animation as animation\n",
    "from IPython.display import HTML"
   ]
  },
  {
   "cell_type": "code",
   "execution_count": 21,
   "id": "lasting-extraction",
   "metadata": {
    "execution": {
     "iopub.execute_input": "2021-02-18T00:11:28.067986Z",
     "iopub.status.busy": "2021-02-18T00:11:28.067290Z",
     "iopub.status.idle": "2021-02-18T00:11:28.072688Z",
     "shell.execute_reply": "2021-02-18T00:11:28.073437Z"
    },
    "papermill": {
     "duration": 0.055855,
     "end_time": "2021-02-18T00:11:28.073605",
     "exception": false,
     "start_time": "2021-02-18T00:11:28.017750",
     "status": "completed"
    },
    "tags": []
   },
   "outputs": [],
   "source": [
    "#hide\n",
    "t = everydaycases.stack()"
   ]
  },
  {
   "cell_type": "code",
   "execution_count": 22,
   "id": "premier-sleeve",
   "metadata": {
    "execution": {
     "iopub.execute_input": "2021-02-18T00:11:28.167163Z",
     "iopub.status.busy": "2021-02-18T00:11:28.166287Z",
     "iopub.status.idle": "2021-02-18T00:11:28.175031Z",
     "shell.execute_reply": "2021-02-18T00:11:28.175728Z"
    },
    "papermill": {
     "duration": 0.059272,
     "end_time": "2021-02-18T00:11:28.175892",
     "exception": false,
     "start_time": "2021-02-18T00:11:28.116620",
     "status": "completed"
    },
    "tags": []
   },
   "outputs": [],
   "source": [
    "#hide\n",
    "g = t.reset_index(['Country/Region'])"
   ]
  },
  {
   "cell_type": "code",
   "execution_count": 23,
   "id": "distributed-pittsburgh",
   "metadata": {
    "execution": {
     "iopub.execute_input": "2021-02-18T00:11:28.267587Z",
     "iopub.status.busy": "2021-02-18T00:11:28.266793Z",
     "iopub.status.idle": "2021-02-18T00:11:28.269178Z",
     "shell.execute_reply": "2021-02-18T00:11:28.269788Z"
    },
    "papermill": {
     "duration": 0.048777,
     "end_time": "2021-02-18T00:11:28.269929",
     "exception": false,
     "start_time": "2021-02-18T00:11:28.221152",
     "status": "completed"
    },
    "tags": []
   },
   "outputs": [],
   "source": [
    "#hide\n",
    "g.index.name = 'date'"
   ]
  },
  {
   "cell_type": "code",
   "execution_count": 24,
   "id": "naked-donor",
   "metadata": {
    "execution": {
     "iopub.execute_input": "2021-02-18T00:11:28.360759Z",
     "iopub.status.busy": "2021-02-18T00:11:28.359689Z",
     "iopub.status.idle": "2021-02-18T00:11:28.364860Z",
     "shell.execute_reply": "2021-02-18T00:11:28.365413Z"
    },
    "papermill": {
     "duration": 0.051351,
     "end_time": "2021-02-18T00:11:28.365592",
     "exception": false,
     "start_time": "2021-02-18T00:11:28.314241",
     "status": "completed"
    },
    "tags": []
   },
   "outputs": [],
   "source": [
    "# #hide\n",
    "# g = g.reset_index(['date'])"
   ]
  },
  {
   "cell_type": "code",
   "execution_count": 25,
   "id": "incomplete-mustang",
   "metadata": {
    "execution": {
     "iopub.execute_input": "2021-02-18T00:11:28.460144Z",
     "iopub.status.busy": "2021-02-18T00:11:28.459241Z",
     "iopub.status.idle": "2021-02-18T00:11:28.461330Z",
     "shell.execute_reply": "2021-02-18T00:11:28.461967Z"
    },
    "papermill": {
     "duration": 0.053365,
     "end_time": "2021-02-18T00:11:28.462298",
     "exception": false,
     "start_time": "2021-02-18T00:11:28.408933",
     "status": "completed"
    },
    "tags": []
   },
   "outputs": [],
   "source": [
    "#hide\n",
    "# g.head()"
   ]
  },
  {
   "cell_type": "code",
   "execution_count": 26,
   "id": "specific-kruger",
   "metadata": {
    "execution": {
     "iopub.execute_input": "2021-02-18T00:11:28.552383Z",
     "iopub.status.busy": "2021-02-18T00:11:28.551515Z",
     "iopub.status.idle": "2021-02-18T00:11:28.553160Z",
     "shell.execute_reply": "2021-02-18T00:11:28.553928Z"
    },
    "papermill": {
     "duration": 0.048566,
     "end_time": "2021-02-18T00:11:28.554089",
     "exception": false,
     "start_time": "2021-02-18T00:11:28.505523",
     "status": "completed"
    },
    "tags": []
   },
   "outputs": [],
   "source": [
    "#hide\n",
    "# g.columns = ['date','country','cases']"
   ]
  },
  {
   "cell_type": "code",
   "execution_count": 27,
   "id": "tender-conversion",
   "metadata": {
    "execution": {
     "iopub.execute_input": "2021-02-18T00:11:28.642968Z",
     "iopub.status.busy": "2021-02-18T00:11:28.642228Z",
     "iopub.status.idle": "2021-02-18T00:11:28.644783Z",
     "shell.execute_reply": "2021-02-18T00:11:28.645861Z"
    },
    "papermill": {
     "duration": 0.05114,
     "end_time": "2021-02-18T00:11:28.646042",
     "exception": false,
     "start_time": "2021-02-18T00:11:28.594902",
     "status": "completed"
    },
    "tags": []
   },
   "outputs": [],
   "source": [
    "#hide\n",
    "# g['continent'] = g.country"
   ]
  },
  {
   "cell_type": "code",
   "execution_count": 28,
   "id": "substantial-wilderness",
   "metadata": {
    "execution": {
     "iopub.execute_input": "2021-02-18T00:11:28.737395Z",
     "iopub.status.busy": "2021-02-18T00:11:28.736583Z",
     "iopub.status.idle": "2021-02-18T00:11:28.738785Z",
     "shell.execute_reply": "2021-02-18T00:11:28.739438Z"
    },
    "papermill": {
     "duration": 0.049501,
     "end_time": "2021-02-18T00:11:28.739607",
     "exception": false,
     "start_time": "2021-02-18T00:11:28.690106",
     "status": "completed"
    },
    "tags": []
   },
   "outputs": [],
   "source": [
    "#hide\n",
    "# cols = list(g.columns.values)"
   ]
  },
  {
   "cell_type": "code",
   "execution_count": 29,
   "id": "solved-farming",
   "metadata": {
    "execution": {
     "iopub.execute_input": "2021-02-18T00:11:28.835638Z",
     "iopub.status.busy": "2021-02-18T00:11:28.834877Z",
     "iopub.status.idle": "2021-02-18T00:11:28.836828Z",
     "shell.execute_reply": "2021-02-18T00:11:28.837562Z"
    },
    "papermill": {
     "duration": 0.053366,
     "end_time": "2021-02-18T00:11:28.837719",
     "exception": false,
     "start_time": "2021-02-18T00:11:28.784353",
     "status": "completed"
    },
    "tags": []
   },
   "outputs": [],
   "source": [
    "#hide\n",
    "# cols.insert(0, cols.pop())"
   ]
  },
  {
   "cell_type": "code",
   "execution_count": 30,
   "id": "executed-adoption",
   "metadata": {
    "execution": {
     "iopub.execute_input": "2021-02-18T00:11:28.927792Z",
     "iopub.status.busy": "2021-02-18T00:11:28.927009Z",
     "iopub.status.idle": "2021-02-18T00:11:28.929190Z",
     "shell.execute_reply": "2021-02-18T00:11:28.929777Z"
    },
    "papermill": {
     "duration": 0.049787,
     "end_time": "2021-02-18T00:11:28.929927",
     "exception": false,
     "start_time": "2021-02-18T00:11:28.880140",
     "status": "completed"
    },
    "tags": []
   },
   "outputs": [],
   "source": [
    "#hide\n",
    "# g = g[cols]"
   ]
  },
  {
   "cell_type": "code",
   "execution_count": 31,
   "id": "subject-dublin",
   "metadata": {
    "execution": {
     "iopub.execute_input": "2021-02-18T00:11:29.021759Z",
     "iopub.status.busy": "2021-02-18T00:11:29.020337Z",
     "iopub.status.idle": "2021-02-18T00:11:29.022468Z",
     "shell.execute_reply": "2021-02-18T00:11:29.023081Z"
    },
    "papermill": {
     "duration": 0.050549,
     "end_time": "2021-02-18T00:11:29.023233",
     "exception": false,
     "start_time": "2021-02-18T00:11:28.972684",
     "status": "completed"
    },
    "tags": []
   },
   "outputs": [],
   "source": [
    "#hide\n",
    "# g['continent'] = g['continent'].map(mapping['map.continent'])"
   ]
  },
  {
   "cell_type": "code",
   "execution_count": 32,
   "id": "freelance-scout",
   "metadata": {
    "execution": {
     "iopub.execute_input": "2021-02-18T00:11:29.114531Z",
     "iopub.status.busy": "2021-02-18T00:11:29.113744Z",
     "iopub.status.idle": "2021-02-18T00:11:29.115943Z",
     "shell.execute_reply": "2021-02-18T00:11:29.116648Z"
    },
    "papermill": {
     "duration": 0.051729,
     "end_time": "2021-02-18T00:11:29.116814",
     "exception": false,
     "start_time": "2021-02-18T00:11:29.065085",
     "status": "completed"
    },
    "tags": []
   },
   "outputs": [],
   "source": [
    "#hide\n",
    "# g.head()"
   ]
  },
  {
   "cell_type": "code",
   "execution_count": 33,
   "id": "limited-engine",
   "metadata": {
    "execution": {
     "iopub.execute_input": "2021-02-18T00:11:29.213648Z",
     "iopub.status.busy": "2021-02-18T00:11:29.212928Z",
     "iopub.status.idle": "2021-02-18T00:11:29.215390Z",
     "shell.execute_reply": "2021-02-18T00:11:29.215965Z"
    },
    "papermill": {
     "duration": 0.052613,
     "end_time": "2021-02-18T00:11:29.216127",
     "exception": false,
     "start_time": "2021-02-18T00:11:29.163514",
     "status": "completed"
    },
    "tags": []
   },
   "outputs": [],
   "source": [
    "# hide\n",
    "# g['date'] = g['date'].astype('datetime64[ns]')"
   ]
  },
  {
   "cell_type": "code",
   "execution_count": 34,
   "id": "sophisticated-supervisor",
   "metadata": {
    "execution": {
     "iopub.execute_input": "2021-02-18T00:11:29.308800Z",
     "iopub.status.busy": "2021-02-18T00:11:29.308102Z",
     "iopub.status.idle": "2021-02-18T00:11:29.310911Z",
     "shell.execute_reply": "2021-02-18T00:11:29.310191Z"
    },
    "papermill": {
     "duration": 0.050396,
     "end_time": "2021-02-18T00:11:29.311061",
     "exception": false,
     "start_time": "2021-02-18T00:11:29.260665",
     "status": "completed"
    },
    "tags": []
   },
   "outputs": [],
   "source": [
    "#hide\n",
    "# g['date'] = g.date.dt.dayofyear"
   ]
  },
  {
   "cell_type": "code",
   "execution_count": 35,
   "id": "inside-dubai",
   "metadata": {
    "execution": {
     "iopub.execute_input": "2021-02-18T00:11:29.400737Z",
     "iopub.status.busy": "2021-02-18T00:11:29.399996Z",
     "iopub.status.idle": "2021-02-18T00:11:29.403054Z",
     "shell.execute_reply": "2021-02-18T00:11:29.401888Z"
    },
    "papermill": {
     "duration": 0.048854,
     "end_time": "2021-02-18T00:11:29.403196",
     "exception": false,
     "start_time": "2021-02-18T00:11:29.354342",
     "status": "completed"
    },
    "tags": []
   },
   "outputs": [],
   "source": [
    "#hide\n",
    "# g = g.rename(columns= {'continent':'group','country':'name','cases':'value'})"
   ]
  },
  {
   "cell_type": "code",
   "execution_count": 36,
   "id": "fleet-motorcycle",
   "metadata": {
    "execution": {
     "iopub.execute_input": "2021-02-18T00:11:29.495615Z",
     "iopub.status.busy": "2021-02-18T00:11:29.494896Z",
     "iopub.status.idle": "2021-02-18T00:11:29.497496Z",
     "shell.execute_reply": "2021-02-18T00:11:29.496939Z"
    },
    "papermill": {
     "duration": 0.050661,
     "end_time": "2021-02-18T00:11:29.497625",
     "exception": false,
     "start_time": "2021-02-18T00:11:29.446964",
     "status": "completed"
    },
    "tags": []
   },
   "outputs": [],
   "source": [
    "#hide\n",
    "# cols = ['name','group','day','value']"
   ]
  },
  {
   "cell_type": "code",
   "execution_count": 37,
   "id": "continued-sleeping",
   "metadata": {
    "execution": {
     "iopub.execute_input": "2021-02-18T00:11:29.598639Z",
     "iopub.status.busy": "2021-02-18T00:11:29.597903Z",
     "iopub.status.idle": "2021-02-18T00:11:29.600163Z",
     "shell.execute_reply": "2021-02-18T00:11:29.600816Z"
    },
    "papermill": {
     "duration": 0.059985,
     "end_time": "2021-02-18T00:11:29.600969",
     "exception": false,
     "start_time": "2021-02-18T00:11:29.540984",
     "status": "completed"
    },
    "tags": []
   },
   "outputs": [],
   "source": [
    "#hide\n",
    "# g.rename(columns= {'date':'day'},inplace = True)"
   ]
  },
  {
   "cell_type": "code",
   "execution_count": 38,
   "id": "major-fight",
   "metadata": {
    "execution": {
     "iopub.execute_input": "2021-02-18T00:11:29.697192Z",
     "iopub.status.busy": "2021-02-18T00:11:29.696506Z",
     "iopub.status.idle": "2021-02-18T00:11:29.698519Z",
     "shell.execute_reply": "2021-02-18T00:11:29.699141Z"
    },
    "papermill": {
     "duration": 0.055398,
     "end_time": "2021-02-18T00:11:29.699321",
     "exception": false,
     "start_time": "2021-02-18T00:11:29.643923",
     "status": "completed"
    },
    "tags": []
   },
   "outputs": [],
   "source": [
    "#hide\n",
    "# g = g[cols]"
   ]
  },
  {
   "cell_type": "code",
   "execution_count": 39,
   "id": "structured-mobile",
   "metadata": {
    "execution": {
     "iopub.execute_input": "2021-02-18T00:11:29.788072Z",
     "iopub.status.busy": "2021-02-18T00:11:29.787322Z",
     "iopub.status.idle": "2021-02-18T00:11:29.789385Z",
     "shell.execute_reply": "2021-02-18T00:11:29.789944Z"
    },
    "papermill": {
     "duration": 0.048703,
     "end_time": "2021-02-18T00:11:29.790089",
     "exception": false,
     "start_time": "2021-02-18T00:11:29.741386",
     "status": "completed"
    },
    "tags": []
   },
   "outputs": [],
   "source": [
    "# #hide\n",
    "# g = g[g.group.notna()]"
   ]
  },
  {
   "cell_type": "code",
   "execution_count": 40,
   "id": "determined-closing",
   "metadata": {
    "execution": {
     "iopub.execute_input": "2021-02-18T00:11:29.880345Z",
     "iopub.status.busy": "2021-02-18T00:11:29.879605Z",
     "iopub.status.idle": "2021-02-18T00:11:29.881471Z",
     "shell.execute_reply": "2021-02-18T00:11:29.882144Z"
    },
    "papermill": {
     "duration": 0.050335,
     "end_time": "2021-02-18T00:11:29.882290",
     "exception": false,
     "start_time": "2021-02-18T00:11:29.831955",
     "status": "completed"
    },
    "tags": []
   },
   "outputs": [],
   "source": [
    "# #hide\n",
    "# colors = dict(zip(\n",
    "#     [\"Oceania\", \"Europe\", \"Asia\", \"South America\", \"Middle East\", \"North America\", \"Africa\"],\n",
    "#     [\"#adb0ff\", \"#ffb3ff\", \"#90d595\", \"#e48381\", \"#aafbff\", \"#f7bb5f\", \"#eafb50\"]\n",
    "# ))\n",
    "# group_lk = g.set_index('name')['group'].to_dict()"
   ]
  },
  {
   "cell_type": "code",
   "execution_count": null,
   "id": "gross-drinking",
   "metadata": {
    "papermill": {
     "duration": 0.041616,
     "end_time": "2021-02-18T00:11:29.963080",
     "exception": false,
     "start_time": "2021-02-18T00:11:29.921464",
     "status": "completed"
    },
    "tags": []
   },
   "outputs": [],
   "source": []
  },
  {
   "cell_type": "code",
   "execution_count": 41,
   "id": "subject-macintosh",
   "metadata": {
    "execution": {
     "iopub.execute_input": "2021-02-18T00:11:30.057013Z",
     "iopub.status.busy": "2021-02-18T00:11:30.056324Z",
     "iopub.status.idle": "2021-02-18T00:11:30.057715Z",
     "shell.execute_reply": "2021-02-18T00:11:30.058225Z"
    },
    "papermill": {
     "duration": 0.052476,
     "end_time": "2021-02-18T00:11:30.058364",
     "exception": false,
     "start_time": "2021-02-18T00:11:30.005888",
     "status": "completed"
    },
    "tags": []
   },
   "outputs": [],
   "source": [
    "# #hide\n",
    "# fig, ax = plt.subplots(figsize=(15, 8))\n",
    "\n",
    "# def draw_barchart(current_day):\n",
    "#     dff = g[g['day'].eq(current_day)].sort_values(by='value', ascending=True).tail(10)\n",
    "#     ax.clear()\n",
    "#     ax.barh(dff['name'], dff['value'], color=[colors[group_lk[x]] for x in dff['name']])\n",
    "#     dx = dff['value'].max() / 200\n",
    "    \n",
    "#     for i, (value, name) in enumerate(zip(dff['value'], dff['name'])):\n",
    "#         ax.text(value-dx, i,     name,           size=14, weight=600, ha='right', va='bottom')\n",
    "#         ax.text(value-dx, i-.25, group_lk[name], size=10, color='#444444', ha='right', va='baseline')\n",
    "#         ax.text(value+dx, i,     f'{value:,.0f}',  size=14, ha='left',  va='center')\n",
    "#     ax.text(1, 0.4, current_day, transform=ax.transAxes, color='#777777', size=46, ha='right', weight=800)\n",
    "#     ax.text(0, 1.06, 'Population (thousands)', transform=ax.transAxes, size=12, color='#777777')\n",
    "#     ax.xaxis.set_major_formatter(ticker.StrMethodFormatter('{x:,.0f}'))\n",
    "#     ax.xaxis.set_ticks_position('top')\n",
    "#     ax.tick_params(axis='x', colors='#777777', labelsize=12)\n",
    "#     ax.set_yticks([])\n",
    "#     ax.margins(0, 0.01)\n",
    "#     ax.grid(which='major', axis='x', linestyle='-')\n",
    "#     ax.set_axisbelow(True)\n",
    "    \n",
    "#     ax.text(0, 1.15, 'Coronavirus',\n",
    "#             transform=ax.transAxes, size=24, weight=600, ha='left', va='top')\n",
    "# #     ax.text(1, 0, 'by @pratapvardhan; credit @jburnmurdoch', transform=ax.transAxes, color='#777777', ha='right',\n",
    "# #             bbox=dict(facecolor='white', alpha=0.8, edgecolor='white'))\n",
    "#     plt.box(False)"
   ]
  },
  {
   "cell_type": "code",
   "execution_count": 42,
   "id": "sexual-wages",
   "metadata": {
    "execution": {
     "iopub.execute_input": "2021-02-18T00:11:30.147228Z",
     "iopub.status.busy": "2021-02-18T00:11:30.146438Z",
     "iopub.status.idle": "2021-02-18T00:11:30.147977Z",
     "shell.execute_reply": "2021-02-18T00:11:30.148667Z"
    },
    "papermill": {
     "duration": 0.045854,
     "end_time": "2021-02-18T00:11:30.148928",
     "exception": false,
     "start_time": "2021-02-18T00:11:30.103074",
     "status": "completed"
    },
    "tags": []
   },
   "outputs": [],
   "source": [
    "# #hide_input\n",
    "# fig, ax = plt.subplots(figsize=(15, 8))\n",
    "# animator = animation.FuncAnimation(fig, draw_barchart, frames=range(g.day.values.min(), g.day.values.max()))\n",
    "# HTML(animator.to_jshtml())\n",
    "# # or use animator.to_html5_video() or animator.save() "
   ]
  },
  {
   "cell_type": "code",
   "execution_count": null,
   "id": "australian-container",
   "metadata": {
    "papermill": {
     "duration": 0.041779,
     "end_time": "2021-02-18T00:11:30.232530",
     "exception": false,
     "start_time": "2021-02-18T00:11:30.190751",
     "status": "completed"
    },
    "tags": []
   },
   "outputs": [],
   "source": []
  },
  {
   "cell_type": "code",
   "execution_count": null,
   "id": "mediterranean-pontiac",
   "metadata": {
    "papermill": {
     "duration": 0.042093,
     "end_time": "2021-02-18T00:11:30.317424",
     "exception": false,
     "start_time": "2021-02-18T00:11:30.275331",
     "status": "completed"
    },
    "tags": []
   },
   "outputs": [],
   "source": []
  },
  {
   "cell_type": "code",
   "execution_count": null,
   "id": "aging-legislature",
   "metadata": {
    "papermill": {
     "duration": 0.040682,
     "end_time": "2021-02-18T00:11:30.399894",
     "exception": false,
     "start_time": "2021-02-18T00:11:30.359212",
     "status": "completed"
    },
    "tags": []
   },
   "outputs": [],
   "source": []
  }
 ],
 "metadata": {
  "kernelspec": {
   "display_name": "Python 3",
   "language": "python",
   "name": "python3"
  },
  "language_info": {
   "codemirror_mode": {
    "name": "ipython",
    "version": 3
   },
   "file_extension": ".py",
   "mimetype": "text/x-python",
   "name": "python",
   "nbconvert_exporter": "python",
   "pygments_lexer": "ipython3",
   "version": "3.6.12"
  },
  "papermill": {
   "duration": 7.846097,
   "end_time": "2021-02-18T00:11:30.749439",
   "environment_variables": {},
   "exception": null,
   "input_path": "2020-03-21-covid19exp.ipynb",
   "output_path": "2020-03-21-covid19exp.ipynb",
   "parameters": {},
   "start_time": "2021-02-18T00:11:22.903342",
   "version": "2.0.0"
  }
 },
 "nbformat": 4,
 "nbformat_minor": 5
}