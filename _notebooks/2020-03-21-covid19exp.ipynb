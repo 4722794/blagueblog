{
 "cells": [
  {
   "cell_type": "markdown",
   "metadata": {
    "papermill": {
     "duration": 0.036141,
     "end_time": "2020-12-22T00:17:11.702364",
     "exception": false,
     "start_time": "2020-12-22T00:17:11.666223",
     "status": "completed"
    },
    "tags": []
   },
   "source": [
    "# COVID-19 Case Race\n",
    "> A race chart to see rising cases around the world\n",
    "\n",
    "- author: Hargun Oberoi\n",
    "- image: images/covid-overview.png\n",
    "- hide: false\n",
    "- badges: false"
   ]
  },
  {
   "cell_type": "code",
   "execution_count": 1,
   "metadata": {
    "execution": {
     "iopub.execute_input": "2020-12-22T00:17:11.766261Z",
     "iopub.status.busy": "2020-12-22T00:17:11.765699Z",
     "iopub.status.idle": "2020-12-22T00:17:12.070092Z",
     "shell.execute_reply": "2020-12-22T00:17:12.070534Z"
    },
    "papermill": {
     "duration": 0.341135,
     "end_time": "2020-12-22T00:17:12.070709",
     "exception": false,
     "start_time": "2020-12-22T00:17:11.729574",
     "status": "completed"
    },
    "tags": []
   },
   "outputs": [],
   "source": [
    "#hide\n",
    "import numpy as np\n",
    "import pandas as pd\n",
    "from jinja2 import Template\n",
    "from IPython.display import HTML"
   ]
  },
  {
   "cell_type": "code",
   "execution_count": 2,
   "metadata": {
    "execution": {
     "iopub.execute_input": "2020-12-22T00:17:12.130696Z",
     "iopub.status.busy": "2020-12-22T00:17:12.130166Z",
     "iopub.status.idle": "2020-12-22T00:17:12.133030Z",
     "shell.execute_reply": "2020-12-22T00:17:12.132546Z"
    },
    "papermill": {
     "duration": 0.034392,
     "end_time": "2020-12-22T00:17:12.133179",
     "exception": false,
     "start_time": "2020-12-22T00:17:12.098787",
     "status": "completed"
    },
    "tags": []
   },
   "outputs": [],
   "source": [
    "#hide\n",
    "\n",
    "# FETCH\n",
    "base_url = 'https://raw.githubusercontent.com/pratapvardhan/notebooks/master/covid19/'\n",
    "paths = {\n",
    "    'mapping': base_url + 'mapping_countries.csv',\n",
    "    'overview': base_url + 'overview.tpl'\n",
    "}"
   ]
  },
  {
   "cell_type": "code",
   "execution_count": 3,
   "metadata": {
    "execution": {
     "iopub.execute_input": "2020-12-22T00:17:12.204848Z",
     "iopub.status.busy": "2020-12-22T00:17:12.203341Z",
     "iopub.status.idle": "2020-12-22T00:17:12.207196Z",
     "shell.execute_reply": "2020-12-22T00:17:12.206741Z"
    },
    "papermill": {
     "duration": 0.046642,
     "end_time": "2020-12-22T00:17:12.207307",
     "exception": false,
     "start_time": "2020-12-22T00:17:12.160665",
     "status": "completed"
    },
    "tags": []
   },
   "outputs": [
    {
     "data": {
      "text/plain": [
       "'https://raw.githubusercontent.com/pratapvardhan/notebooks/master/covid19/mapping_countries.csv'"
      ]
     },
     "execution_count": 3,
     "metadata": {},
     "output_type": "execute_result"
    }
   ],
   "source": [
    "#hide\n",
    "paths['mapping']"
   ]
  },
  {
   "cell_type": "code",
   "execution_count": 4,
   "metadata": {
    "execution": {
     "iopub.execute_input": "2020-12-22T00:17:12.266881Z",
     "iopub.status.busy": "2020-12-22T00:17:12.266362Z",
     "iopub.status.idle": "2020-12-22T00:17:12.268660Z",
     "shell.execute_reply": "2020-12-22T00:17:12.268072Z"
    },
    "papermill": {
     "duration": 0.032656,
     "end_time": "2020-12-22T00:17:12.268804",
     "exception": false,
     "start_time": "2020-12-22T00:17:12.236148",
     "status": "completed"
    },
    "tags": []
   },
   "outputs": [],
   "source": [
    "#hide\n",
    "def get_mappings(url):\n",
    "    df = pd.read_csv(url)\n",
    "    return {\n",
    "        'df': df,\n",
    "        'replace.country': dict(df.dropna(subset=['Name']).set_index('Country')['Name']),\n",
    "        'map.continent': dict(df.set_index('Name')['Continent'])\n",
    "    }"
   ]
  },
  {
   "cell_type": "code",
   "execution_count": 5,
   "metadata": {
    "execution": {
     "iopub.execute_input": "2020-12-22T00:17:12.326358Z",
     "iopub.status.busy": "2020-12-22T00:17:12.325849Z",
     "iopub.status.idle": "2020-12-22T00:17:12.350109Z",
     "shell.execute_reply": "2020-12-22T00:17:12.349451Z"
    },
    "papermill": {
     "duration": 0.054658,
     "end_time": "2020-12-22T00:17:12.350272",
     "exception": false,
     "start_time": "2020-12-22T00:17:12.295614",
     "status": "completed"
    },
    "tags": []
   },
   "outputs": [],
   "source": [
    "#hide\n",
    "mapping = get_mappings(paths['mapping'])"
   ]
  },
  {
   "cell_type": "code",
   "execution_count": 6,
   "metadata": {
    "execution": {
     "iopub.execute_input": "2020-12-22T00:17:12.407059Z",
     "iopub.status.busy": "2020-12-22T00:17:12.406460Z",
     "iopub.status.idle": "2020-12-22T00:17:12.408687Z",
     "shell.execute_reply": "2020-12-22T00:17:12.408257Z"
    },
    "papermill": {
     "duration": 0.032205,
     "end_time": "2020-12-22T00:17:12.408809",
     "exception": false,
     "start_time": "2020-12-22T00:17:12.376604",
     "status": "completed"
    },
    "tags": []
   },
   "outputs": [],
   "source": [
    "#hide\n",
    "def get_template(path):\n",
    "    from urllib.parse import urlparse\n",
    "    if bool(urlparse(path).netloc):\n",
    "        from urllib.request import urlopen\n",
    "        return urlopen(path).read().decode('utf8')\n",
    "    return open(path).read()"
   ]
  },
  {
   "cell_type": "code",
   "execution_count": 7,
   "metadata": {
    "execution": {
     "iopub.execute_input": "2020-12-22T00:17:12.467068Z",
     "iopub.status.busy": "2020-12-22T00:17:12.466556Z",
     "iopub.status.idle": "2020-12-22T00:17:12.468533Z",
     "shell.execute_reply": "2020-12-22T00:17:12.469021Z"
    },
    "papermill": {
     "duration": 0.034557,
     "end_time": "2020-12-22T00:17:12.469140",
     "exception": false,
     "start_time": "2020-12-22T00:17:12.434583",
     "status": "completed"
    },
    "tags": []
   },
   "outputs": [],
   "source": [
    "#hide\n",
    "def get_frame(name):\n",
    "    url = (\n",
    "        'https://raw.githubusercontent.com/CSSEGISandData/COVID-19/master/csse_covid_19_data/'\n",
    "        f'csse_covid_19_time_series/time_series_covid19_{name}_global.csv')\n",
    "    df = pd.read_csv(url)\n",
    "    # rename countries\n",
    "    df['Country/Region'] = df['Country/Region'].replace(mapping['replace.country'])\n",
    "    return df"
   ]
  },
  {
   "cell_type": "code",
   "execution_count": 8,
   "metadata": {
    "execution": {
     "iopub.execute_input": "2020-12-22T00:17:12.526950Z",
     "iopub.status.busy": "2020-12-22T00:17:12.526312Z",
     "iopub.status.idle": "2020-12-22T00:17:12.528668Z",
     "shell.execute_reply": "2020-12-22T00:17:12.528187Z"
    },
    "papermill": {
     "duration": 0.033412,
     "end_time": "2020-12-22T00:17:12.528792",
     "exception": false,
     "start_time": "2020-12-22T00:17:12.495380",
     "status": "completed"
    },
    "tags": []
   },
   "outputs": [],
   "source": [
    "#hide\n",
    "def get_dates(df):\n",
    "    dt_cols = df.columns[~df.columns.isin(['Province/State', 'Country/Region', 'Lat', 'Long'])]\n",
    "    LAST_DATE_I = -1\n",
    "    # sometimes last column may be empty, then go backwards\n",
    "    for i in range(-1, -len(dt_cols), -1):\n",
    "        if not df[dt_cols[i]].fillna(0).eq(0).all():\n",
    "            LAST_DATE_I = i\n",
    "            break\n",
    "    return LAST_DATE_I, dt_cols"
   ]
  },
  {
   "cell_type": "code",
   "execution_count": 9,
   "metadata": {
    "execution": {
     "iopub.execute_input": "2020-12-22T00:17:12.589527Z",
     "iopub.status.busy": "2020-12-22T00:17:12.588921Z",
     "iopub.status.idle": "2020-12-22T00:17:12.783077Z",
     "shell.execute_reply": "2020-12-22T00:17:12.782612Z"
    },
    "papermill": {
     "duration": 0.223758,
     "end_time": "2020-12-22T00:17:12.783195",
     "exception": false,
     "start_time": "2020-12-22T00:17:12.559437",
     "status": "completed"
    },
    "tags": []
   },
   "outputs": [],
   "source": [
    "#hide\n",
    "COL_REGION = 'Country/Region'\n",
    "# Confirmed, Recovered, Deaths\n",
    "df = get_frame('confirmed')\n",
    "# dft_: timeseries, dfc_: today country agg\n",
    "dft_cases = df\n",
    "dft_deaths = get_frame('deaths')\n",
    "dft_recovered = get_frame('recovered')\n",
    "LAST_DATE_I, dt_cols = get_dates(df)"
   ]
  },
  {
   "cell_type": "code",
   "execution_count": 10,
   "metadata": {
    "execution": {
     "iopub.execute_input": "2020-12-22T00:17:12.854709Z",
     "iopub.status.busy": "2020-12-22T00:17:12.854097Z",
     "iopub.status.idle": "2020-12-22T00:17:12.856244Z",
     "shell.execute_reply": "2020-12-22T00:17:12.855790Z"
    },
    "papermill": {
     "duration": 0.04394,
     "end_time": "2020-12-22T00:17:12.856359",
     "exception": false,
     "start_time": "2020-12-22T00:17:12.812419",
     "status": "completed"
    },
    "tags": []
   },
   "outputs": [],
   "source": [
    "#hide\n",
    "LAST_DATE_I, dt_cols = get_dates(df)\n",
    "dt_today =dt_cols[LAST_DATE_I]\n",
    "# dt_5day = dt_cols[LAST_DATE_I - 5]\n",
    "dt_yday = dt_cols[LAST_DATE_I - 1]"
   ]
  },
  {
   "cell_type": "code",
   "execution_count": 11,
   "metadata": {
    "execution": {
     "iopub.execute_input": "2020-12-22T00:17:12.921911Z",
     "iopub.status.busy": "2020-12-22T00:17:12.921310Z",
     "iopub.status.idle": "2020-12-22T00:17:12.930213Z",
     "shell.execute_reply": "2020-12-22T00:17:12.929797Z"
    },
    "papermill": {
     "duration": 0.044694,
     "end_time": "2020-12-22T00:17:12.930323",
     "exception": false,
     "start_time": "2020-12-22T00:17:12.885629",
     "status": "completed"
    },
    "tags": []
   },
   "outputs": [],
   "source": [
    "#hide\n",
    "dfc_cases = dft_cases.groupby(COL_REGION)[dt_today].sum()\n",
    "dfc_deaths = dft_deaths.groupby(COL_REGION)[dt_today].sum()\n",
    "# dfp_cases = dft_cases.groupby(COL_REGION)[dt_5day].sum()\n",
    "# dfp_deaths = dft_deaths.groupby(COL_REGION)[dt_5day].sum()\n",
    "dfp_cases = dft_cases.groupby(COL_REGION)[dt_yday].sum()\n",
    "dfp_deaths = dft_deaths.groupby(COL_REGION)[dt_yday].sum()"
   ]
  },
  {
   "cell_type": "code",
   "execution_count": 12,
   "metadata": {
    "execution": {
     "iopub.execute_input": "2020-12-22T00:17:12.986920Z",
     "iopub.status.busy": "2020-12-22T00:17:12.986413Z",
     "iopub.status.idle": "2020-12-22T00:17:12.992934Z",
     "shell.execute_reply": "2020-12-22T00:17:12.992187Z"
    },
    "papermill": {
     "duration": 0.036926,
     "end_time": "2020-12-22T00:17:12.993075",
     "exception": false,
     "start_time": "2020-12-22T00:17:12.956149",
     "status": "completed"
    },
    "tags": []
   },
   "outputs": [],
   "source": [
    "#hide\n",
    "df_table = (pd.DataFrame(dict(Cases = dfc_cases, Deaths = dfc_deaths, PCases = dfp_cases, PDeaths = dfp_deaths))\n",
    "            .sort_values(by = ['Cases','Deaths'], ascending = [False, False])\n",
    "            .reset_index())"
   ]
  },
  {
   "cell_type": "code",
   "execution_count": 13,
   "metadata": {
    "execution": {
     "iopub.execute_input": "2020-12-22T00:17:13.064438Z",
     "iopub.status.busy": "2020-12-22T00:17:13.063826Z",
     "iopub.status.idle": "2020-12-22T00:17:13.071124Z",
     "shell.execute_reply": "2020-12-22T00:17:13.071610Z"
    },
    "papermill": {
     "duration": 0.051706,
     "end_time": "2020-12-22T00:17:13.071725",
     "exception": false,
     "start_time": "2020-12-22T00:17:13.020019",
     "status": "completed"
    },
    "tags": []
   },
   "outputs": [
    {
     "data": {
      "text/html": [
       "<div>\n",
       "<style scoped>\n",
       "    .dataframe tbody tr th:only-of-type {\n",
       "        vertical-align: middle;\n",
       "    }\n",
       "\n",
       "    .dataframe tbody tr th {\n",
       "        vertical-align: top;\n",
       "    }\n",
       "\n",
       "    .dataframe thead th {\n",
       "        text-align: right;\n",
       "    }\n",
       "</style>\n",
       "<table border=\"1\" class=\"dataframe\">\n",
       "  <thead>\n",
       "    <tr style=\"text-align: right;\">\n",
       "      <th></th>\n",
       "      <th>Country/Region</th>\n",
       "      <th>Cases</th>\n",
       "      <th>Deaths</th>\n",
       "      <th>PCases</th>\n",
       "      <th>PDeaths</th>\n",
       "      <th>Cases (+)</th>\n",
       "      <th>Deaths (+)</th>\n",
       "      <th>Fatality Rate</th>\n",
       "      <th>Continent</th>\n",
       "    </tr>\n",
       "  </thead>\n",
       "  <tbody>\n",
       "    <tr>\n",
       "      <th>0</th>\n",
       "      <td>US</td>\n",
       "      <td>17844690</td>\n",
       "      <td>317668</td>\n",
       "      <td>17655591</td>\n",
       "      <td>316159</td>\n",
       "      <td>189099</td>\n",
       "      <td>1509</td>\n",
       "      <td>1.78</td>\n",
       "      <td>North America</td>\n",
       "    </tr>\n",
       "    <tr>\n",
       "      <th>1</th>\n",
       "      <td>India</td>\n",
       "      <td>10055560</td>\n",
       "      <td>145810</td>\n",
       "      <td>10031223</td>\n",
       "      <td>145477</td>\n",
       "      <td>24337</td>\n",
       "      <td>333</td>\n",
       "      <td>1.45</td>\n",
       "      <td>Asia</td>\n",
       "    </tr>\n",
       "    <tr>\n",
       "      <th>2</th>\n",
       "      <td>Brazil</td>\n",
       "      <td>7238600</td>\n",
       "      <td>186764</td>\n",
       "      <td>7213155</td>\n",
       "      <td>186356</td>\n",
       "      <td>25445</td>\n",
       "      <td>408</td>\n",
       "      <td>2.58</td>\n",
       "      <td>South America</td>\n",
       "    </tr>\n",
       "    <tr>\n",
       "      <th>3</th>\n",
       "      <td>Russia</td>\n",
       "      <td>2821125</td>\n",
       "      <td>50242</td>\n",
       "      <td>2792615</td>\n",
       "      <td>49744</td>\n",
       "      <td>28510</td>\n",
       "      <td>498</td>\n",
       "      <td>1.78</td>\n",
       "      <td>Europe</td>\n",
       "    </tr>\n",
       "    <tr>\n",
       "      <th>4</th>\n",
       "      <td>France</td>\n",
       "      <td>2529756</td>\n",
       "      <td>60665</td>\n",
       "      <td>2516957</td>\n",
       "      <td>60534</td>\n",
       "      <td>12799</td>\n",
       "      <td>131</td>\n",
       "      <td>2.40</td>\n",
       "      <td>Europe</td>\n",
       "    </tr>\n",
       "  </tbody>\n",
       "</table>\n",
       "</div>"
      ],
      "text/plain": [
       "  Country/Region     Cases  Deaths    PCases  PDeaths  Cases (+)  Deaths (+)  \\\n",
       "0             US  17844690  317668  17655591   316159     189099        1509   \n",
       "1          India  10055560  145810  10031223   145477      24337         333   \n",
       "2         Brazil   7238600  186764   7213155   186356      25445         408   \n",
       "3         Russia   2821125   50242   2792615    49744      28510         498   \n",
       "4         France   2529756   60665   2516957    60534      12799         131   \n",
       "\n",
       "   Fatality Rate      Continent  \n",
       "0           1.78  North America  \n",
       "1           1.45           Asia  \n",
       "2           2.58  South America  \n",
       "3           1.78         Europe  \n",
       "4           2.40         Europe  "
      ]
     },
     "execution_count": 13,
     "metadata": {},
     "output_type": "execute_result"
    }
   ],
   "source": [
    "#hide\n",
    "for c in 'Cases, Deaths'.split(', '):\n",
    "    df_table[f'{c} (+)'] = (df_table[c] - df_table[f'P{c}']).clip(0)\n",
    "    #Clip ça veut dire, les chiffres negatif sont interdit\n",
    "df_table['Fatality Rate'] = (100* df_table['Deaths']/ df_table['Cases']).round(2)\n",
    "df_table['Continent'] = df_table['Country/Region'].map(mapping['map.continent'])\n",
    "df_table.head(5)"
   ]
  },
  {
   "cell_type": "code",
   "execution_count": 14,
   "metadata": {
    "execution": {
     "iopub.execute_input": "2020-12-22T00:17:13.129834Z",
     "iopub.status.busy": "2020-12-22T00:17:13.129229Z",
     "iopub.status.idle": "2020-12-22T00:17:13.132178Z",
     "shell.execute_reply": "2020-12-22T00:17:13.132621Z"
    },
    "papermill": {
     "duration": 0.034326,
     "end_time": "2020-12-22T00:17:13.132759",
     "exception": false,
     "start_time": "2020-12-22T00:17:13.098433",
     "status": "completed"
    },
    "tags": []
   },
   "outputs": [],
   "source": [
    "#hide\n",
    "#delete problematic countries from table\n",
    "df_table = df_table[~df_table['Country/Region'].isin(['Cape Verde', 'Cruise Ship', 'Kosovo'])]"
   ]
  },
  {
   "cell_type": "code",
   "execution_count": 15,
   "metadata": {
    "execution": {
     "iopub.execute_input": "2020-12-22T00:17:13.191300Z",
     "iopub.status.busy": "2020-12-22T00:17:13.190788Z",
     "iopub.status.idle": "2020-12-22T00:17:13.211614Z",
     "shell.execute_reply": "2020-12-22T00:17:13.212184Z"
    },
    "papermill": {
     "duration": 0.053737,
     "end_time": "2020-12-22T00:17:13.212316",
     "exception": false,
     "start_time": "2020-12-22T00:17:13.158579",
     "status": "completed"
    },
    "tags": []
   },
   "outputs": [
    {
     "data": {
      "text/html": [
       "<div>\n",
       "<style scoped>\n",
       "    .dataframe tbody tr th:only-of-type {\n",
       "        vertical-align: middle;\n",
       "    }\n",
       "\n",
       "    .dataframe tbody tr th {\n",
       "        vertical-align: top;\n",
       "    }\n",
       "\n",
       "    .dataframe thead th {\n",
       "        text-align: right;\n",
       "    }\n",
       "</style>\n",
       "<table border=\"1\" class=\"dataframe\">\n",
       "  <thead>\n",
       "    <tr style=\"text-align: right;\">\n",
       "      <th></th>\n",
       "      <th>Country/Region</th>\n",
       "      <th>Cases</th>\n",
       "      <th>Deaths</th>\n",
       "      <th>PCases</th>\n",
       "      <th>PDeaths</th>\n",
       "      <th>Cases (+)</th>\n",
       "      <th>Deaths (+)</th>\n",
       "      <th>Fatality Rate</th>\n",
       "      <th>Continent</th>\n",
       "    </tr>\n",
       "  </thead>\n",
       "  <tbody>\n",
       "    <tr>\n",
       "      <th>0</th>\n",
       "      <td>US</td>\n",
       "      <td>17844690</td>\n",
       "      <td>317668</td>\n",
       "      <td>17655591</td>\n",
       "      <td>316159</td>\n",
       "      <td>189099</td>\n",
       "      <td>1509</td>\n",
       "      <td>1.8</td>\n",
       "      <td>North America</td>\n",
       "    </tr>\n",
       "    <tr>\n",
       "      <th>1</th>\n",
       "      <td>India</td>\n",
       "      <td>10055560</td>\n",
       "      <td>145810</td>\n",
       "      <td>10031223</td>\n",
       "      <td>145477</td>\n",
       "      <td>24337</td>\n",
       "      <td>333</td>\n",
       "      <td>1.5</td>\n",
       "      <td>Asia</td>\n",
       "    </tr>\n",
       "    <tr>\n",
       "      <th>2</th>\n",
       "      <td>Brazil</td>\n",
       "      <td>7238600</td>\n",
       "      <td>186764</td>\n",
       "      <td>7213155</td>\n",
       "      <td>186356</td>\n",
       "      <td>25445</td>\n",
       "      <td>408</td>\n",
       "      <td>2.6</td>\n",
       "      <td>South America</td>\n",
       "    </tr>\n",
       "    <tr>\n",
       "      <th>3</th>\n",
       "      <td>Russia</td>\n",
       "      <td>2821125</td>\n",
       "      <td>50242</td>\n",
       "      <td>2792615</td>\n",
       "      <td>49744</td>\n",
       "      <td>28510</td>\n",
       "      <td>498</td>\n",
       "      <td>1.8</td>\n",
       "      <td>Europe</td>\n",
       "    </tr>\n",
       "    <tr>\n",
       "      <th>4</th>\n",
       "      <td>France</td>\n",
       "      <td>2529756</td>\n",
       "      <td>60665</td>\n",
       "      <td>2516957</td>\n",
       "      <td>60534</td>\n",
       "      <td>12799</td>\n",
       "      <td>131</td>\n",
       "      <td>2.4</td>\n",
       "      <td>Europe</td>\n",
       "    </tr>\n",
       "  </tbody>\n",
       "</table>\n",
       "</div>"
      ],
      "text/plain": [
       "  Country/Region     Cases  Deaths    PCases  PDeaths  Cases (+)  Deaths (+)  \\\n",
       "0             US  17844690  317668  17655591   316159     189099        1509   \n",
       "1          India  10055560  145810  10031223   145477      24337         333   \n",
       "2         Brazil   7238600  186764   7213155   186356      25445         408   \n",
       "3         Russia   2821125   50242   2792615    49744      28510         498   \n",
       "4         France   2529756   60665   2516957    60534      12799         131   \n",
       "\n",
       "   Fatality Rate      Continent  \n",
       "0            1.8  North America  \n",
       "1            1.5           Asia  \n",
       "2            2.6  South America  \n",
       "3            1.8         Europe  \n",
       "4            2.4         Europe  "
      ]
     },
     "execution_count": 15,
     "metadata": {},
     "output_type": "execute_result"
    }
   ],
   "source": [
    "#hide\n",
    "df_table = (pd.DataFrame(dict(Cases=dfc_cases, Deaths=dfc_deaths, PCases=dfp_cases, PDeaths=dfp_deaths))\n",
    "             .sort_values(by=['Cases', 'Deaths'], ascending=[False, False])\n",
    "             .reset_index())\n",
    "df_table.rename(columns={'index': 'Country/Region'}, inplace=True)\n",
    "for c in 'Cases, Deaths'.split(', '):\n",
    "    df_table[f'{c} (+)'] = (df_table[c] - df_table[f'P{c}']).clip(0)  # DATA BUG\n",
    "df_table['Fatality Rate'] = (100 * df_table['Deaths'] / df_table['Cases']).round(1)\n",
    "df_table['Continent'] = df_table['Country/Region'].map(mapping['map.continent'])\n",
    "df_table.head(5)"
   ]
  },
  {
   "cell_type": "code",
   "execution_count": 16,
   "metadata": {
    "execution": {
     "iopub.execute_input": "2020-12-22T00:17:13.272634Z",
     "iopub.status.busy": "2020-12-22T00:17:13.271852Z",
     "iopub.status.idle": "2020-12-22T00:17:13.274334Z",
     "shell.execute_reply": "2020-12-22T00:17:13.273905Z"
    },
    "papermill": {
     "duration": 0.03368,
     "end_time": "2020-12-22T00:17:13.274434",
     "exception": false,
     "start_time": "2020-12-22T00:17:13.240754",
     "status": "completed"
    },
    "tags": []
   },
   "outputs": [],
   "source": [
    "#hide\n",
    "#delete problematic countries from table\n",
    "df_table = df_table[~df_table['Country/Region'].isin(['Cape Verde', 'Cruise Ship', 'Kosovo'])]"
   ]
  },
  {
   "cell_type": "code",
   "execution_count": 17,
   "metadata": {
    "execution": {
     "iopub.execute_input": "2020-12-22T00:17:13.346425Z",
     "iopub.status.busy": "2020-12-22T00:17:13.345905Z",
     "iopub.status.idle": "2020-12-22T00:17:13.348330Z",
     "shell.execute_reply": "2020-12-22T00:17:13.347691Z"
    },
    "papermill": {
     "duration": 0.047533,
     "end_time": "2020-12-22T00:17:13.348435",
     "exception": false,
     "start_time": "2020-12-22T00:17:13.300902",
     "status": "completed"
    },
    "tags": []
   },
   "outputs": [],
   "source": [
    "#hide\n",
    "metrics = [df_table.columns[index] for index in [1,2,5,6]]\n",
    "# s_china = df_table[df_table['Country/Region'].eq('China')][metrics].sum().add_prefix('China ')\n",
    "s_us = df_table[df_table['Country/Region'].eq('US')][metrics].sum().add_prefix('US ')\n",
    "s_eu = df_table[df_table['Continent'].eq('Europe')][metrics].sum().add_prefix('EU ')\n",
    "s_ind = df_table[df_table['Country/Region'].eq('India')][metrics].sum().add_prefix('India ')\n",
    "summary = {'updated': pd.to_datetime(dt_today), 'since': pd.to_datetime(dt_yday)}\n",
    "summary = {'updated': pd.to_datetime(dt_today), 'since': pd.to_datetime(dt_yday)}\n",
    "summary = {**summary, **df_table[metrics].sum(), **s_ind, **s_us, **s_eu}"
   ]
  },
  {
   "cell_type": "code",
   "execution_count": 18,
   "metadata": {
    "execution": {
     "iopub.execute_input": "2020-12-22T00:17:13.409254Z",
     "iopub.status.busy": "2020-12-22T00:17:13.408739Z",
     "iopub.status.idle": "2020-12-22T00:17:13.417851Z",
     "shell.execute_reply": "2020-12-22T00:17:13.418384Z"
    },
    "papermill": {
     "duration": 0.040223,
     "end_time": "2020-12-22T00:17:13.418496",
     "exception": false,
     "start_time": "2020-12-22T00:17:13.378273",
     "status": "completed"
    },
    "tags": []
   },
   "outputs": [],
   "source": [
    "#hide\n",
    "dft_ct_new_cases = dft_cases.groupby(COL_REGION)[dt_cols].sum().diff(axis=1).fillna(0).astype(int)"
   ]
  },
  {
   "cell_type": "code",
   "execution_count": 19,
   "metadata": {
    "execution": {
     "iopub.execute_input": "2020-12-22T00:17:13.483693Z",
     "iopub.status.busy": "2020-12-22T00:17:13.483047Z",
     "iopub.status.idle": "2020-12-22T00:17:13.485905Z",
     "shell.execute_reply": "2020-12-22T00:17:13.485063Z"
    },
    "papermill": {
     "duration": 0.039504,
     "end_time": "2020-12-22T00:17:13.486030",
     "exception": false,
     "start_time": "2020-12-22T00:17:13.446526",
     "status": "completed"
    },
    "tags": []
   },
   "outputs": [],
   "source": [
    "#hide\n",
    "everydaycases = dft_ct_new_cases.cumsum(axis=1)"
   ]
  },
  {
   "cell_type": "code",
   "execution_count": 20,
   "metadata": {
    "execution": {
     "iopub.execute_input": "2020-12-22T00:17:13.548337Z",
     "iopub.status.busy": "2020-12-22T00:17:13.547825Z",
     "iopub.status.idle": "2020-12-22T00:17:15.928938Z",
     "shell.execute_reply": "2020-12-22T00:17:15.928357Z"
    },
    "papermill": {
     "duration": 2.411884,
     "end_time": "2020-12-22T00:17:15.929134",
     "exception": false,
     "start_time": "2020-12-22T00:17:13.517250",
     "status": "completed"
    },
    "tags": []
   },
   "outputs": [],
   "source": [
    "#hide\n",
    "import pandas as pd\n",
    "import matplotlib.pyplot as plt\n",
    "import matplotlib.ticker as ticker\n",
    "import matplotlib.animation as animation\n",
    "from IPython.display import HTML"
   ]
  },
  {
   "cell_type": "code",
   "execution_count": 21,
   "metadata": {
    "execution": {
     "iopub.execute_input": "2020-12-22T00:17:15.988261Z",
     "iopub.status.busy": "2020-12-22T00:17:15.987727Z",
     "iopub.status.idle": "2020-12-22T00:17:15.992066Z",
     "shell.execute_reply": "2020-12-22T00:17:15.992568Z"
    },
    "papermill": {
     "duration": 0.036039,
     "end_time": "2020-12-22T00:17:15.992687",
     "exception": false,
     "start_time": "2020-12-22T00:17:15.956648",
     "status": "completed"
    },
    "tags": []
   },
   "outputs": [],
   "source": [
    "#hide\n",
    "t = everydaycases.stack()"
   ]
  },
  {
   "cell_type": "code",
   "execution_count": 22,
   "metadata": {
    "execution": {
     "iopub.execute_input": "2020-12-22T00:17:16.051101Z",
     "iopub.status.busy": "2020-12-22T00:17:16.050600Z",
     "iopub.status.idle": "2020-12-22T00:17:16.057580Z",
     "shell.execute_reply": "2020-12-22T00:17:16.057117Z"
    },
    "papermill": {
     "duration": 0.037775,
     "end_time": "2020-12-22T00:17:16.057689",
     "exception": false,
     "start_time": "2020-12-22T00:17:16.019914",
     "status": "completed"
    },
    "tags": []
   },
   "outputs": [],
   "source": [
    "#hide\n",
    "g = t.reset_index(['Country/Region'])"
   ]
  },
  {
   "cell_type": "code",
   "execution_count": 23,
   "metadata": {
    "execution": {
     "iopub.execute_input": "2020-12-22T00:17:16.114366Z",
     "iopub.status.busy": "2020-12-22T00:17:16.113855Z",
     "iopub.status.idle": "2020-12-22T00:17:16.116225Z",
     "shell.execute_reply": "2020-12-22T00:17:16.116764Z"
    },
    "papermill": {
     "duration": 0.032184,
     "end_time": "2020-12-22T00:17:16.116880",
     "exception": false,
     "start_time": "2020-12-22T00:17:16.084696",
     "status": "completed"
    },
    "tags": []
   },
   "outputs": [],
   "source": [
    "#hide\n",
    "g.index.name = 'date'"
   ]
  },
  {
   "cell_type": "code",
   "execution_count": 24,
   "metadata": {
    "execution": {
     "iopub.execute_input": "2020-12-22T00:17:16.174408Z",
     "iopub.status.busy": "2020-12-22T00:17:16.173807Z",
     "iopub.status.idle": "2020-12-22T00:17:16.176176Z",
     "shell.execute_reply": "2020-12-22T00:17:16.175739Z"
    },
    "papermill": {
     "duration": 0.032615,
     "end_time": "2020-12-22T00:17:16.176280",
     "exception": false,
     "start_time": "2020-12-22T00:17:16.143665",
     "status": "completed"
    },
    "tags": []
   },
   "outputs": [],
   "source": [
    "# #hide\n",
    "# g = g.reset_index(['date'])"
   ]
  },
  {
   "cell_type": "code",
   "execution_count": 25,
   "metadata": {
    "execution": {
     "iopub.execute_input": "2020-12-22T00:17:16.233802Z",
     "iopub.status.busy": "2020-12-22T00:17:16.233272Z",
     "iopub.status.idle": "2020-12-22T00:17:16.235092Z",
     "shell.execute_reply": "2020-12-22T00:17:16.235483Z"
    },
    "papermill": {
     "duration": 0.031553,
     "end_time": "2020-12-22T00:17:16.235599",
     "exception": false,
     "start_time": "2020-12-22T00:17:16.204046",
     "status": "completed"
    },
    "tags": []
   },
   "outputs": [],
   "source": [
    "#hide\n",
    "# g.head()"
   ]
  },
  {
   "cell_type": "code",
   "execution_count": 26,
   "metadata": {
    "execution": {
     "iopub.execute_input": "2020-12-22T00:17:16.299574Z",
     "iopub.status.busy": "2020-12-22T00:17:16.298985Z",
     "iopub.status.idle": "2020-12-22T00:17:16.300981Z",
     "shell.execute_reply": "2020-12-22T00:17:16.301405Z"
    },
    "papermill": {
     "duration": 0.034208,
     "end_time": "2020-12-22T00:17:16.301526",
     "exception": false,
     "start_time": "2020-12-22T00:17:16.267318",
     "status": "completed"
    },
    "tags": []
   },
   "outputs": [],
   "source": [
    "#hide\n",
    "# g.columns = ['date','country','cases']"
   ]
  },
  {
   "cell_type": "code",
   "execution_count": 27,
   "metadata": {
    "execution": {
     "iopub.execute_input": "2020-12-22T00:17:16.359741Z",
     "iopub.status.busy": "2020-12-22T00:17:16.359185Z",
     "iopub.status.idle": "2020-12-22T00:17:16.361751Z",
     "shell.execute_reply": "2020-12-22T00:17:16.361319Z"
    },
    "papermill": {
     "duration": 0.034414,
     "end_time": "2020-12-22T00:17:16.361873",
     "exception": false,
     "start_time": "2020-12-22T00:17:16.327459",
     "status": "completed"
    },
    "tags": []
   },
   "outputs": [],
   "source": [
    "#hide\n",
    "# g['continent'] = g.country"
   ]
  },
  {
   "cell_type": "code",
   "execution_count": 28,
   "metadata": {
    "execution": {
     "iopub.execute_input": "2020-12-22T00:17:16.425630Z",
     "iopub.status.busy": "2020-12-22T00:17:16.425086Z",
     "iopub.status.idle": "2020-12-22T00:17:16.426974Z",
     "shell.execute_reply": "2020-12-22T00:17:16.427511Z"
    },
    "papermill": {
     "duration": 0.036007,
     "end_time": "2020-12-22T00:17:16.427639",
     "exception": false,
     "start_time": "2020-12-22T00:17:16.391632",
     "status": "completed"
    },
    "tags": []
   },
   "outputs": [],
   "source": [
    "#hide\n",
    "# cols = list(g.columns.values)"
   ]
  },
  {
   "cell_type": "code",
   "execution_count": 29,
   "metadata": {
    "execution": {
     "iopub.execute_input": "2020-12-22T00:17:16.494061Z",
     "iopub.status.busy": "2020-12-22T00:17:16.493405Z",
     "iopub.status.idle": "2020-12-22T00:17:16.495931Z",
     "shell.execute_reply": "2020-12-22T00:17:16.495378Z"
    },
    "papermill": {
     "duration": 0.037719,
     "end_time": "2020-12-22T00:17:16.496052",
     "exception": false,
     "start_time": "2020-12-22T00:17:16.458333",
     "status": "completed"
    },
    "tags": []
   },
   "outputs": [],
   "source": [
    "#hide\n",
    "# cols.insert(0, cols.pop())"
   ]
  },
  {
   "cell_type": "code",
   "execution_count": 30,
   "metadata": {
    "execution": {
     "iopub.execute_input": "2020-12-22T00:17:16.559878Z",
     "iopub.status.busy": "2020-12-22T00:17:16.559296Z",
     "iopub.status.idle": "2020-12-22T00:17:16.561052Z",
     "shell.execute_reply": "2020-12-22T00:17:16.561560Z"
    },
    "papermill": {
     "duration": 0.034947,
     "end_time": "2020-12-22T00:17:16.561674",
     "exception": false,
     "start_time": "2020-12-22T00:17:16.526727",
     "status": "completed"
    },
    "tags": []
   },
   "outputs": [],
   "source": [
    "#hide\n",
    "# g = g[cols]"
   ]
  },
  {
   "cell_type": "code",
   "execution_count": 31,
   "metadata": {
    "execution": {
     "iopub.execute_input": "2020-12-22T00:17:16.623098Z",
     "iopub.status.busy": "2020-12-22T00:17:16.622372Z",
     "iopub.status.idle": "2020-12-22T00:17:16.624625Z",
     "shell.execute_reply": "2020-12-22T00:17:16.624073Z"
    },
    "papermill": {
     "duration": 0.036367,
     "end_time": "2020-12-22T00:17:16.624764",
     "exception": false,
     "start_time": "2020-12-22T00:17:16.588397",
     "status": "completed"
    },
    "tags": []
   },
   "outputs": [],
   "source": [
    "#hide\n",
    "# g['continent'] = g['continent'].map(mapping['map.continent'])"
   ]
  },
  {
   "cell_type": "code",
   "execution_count": 32,
   "metadata": {
    "execution": {
     "iopub.execute_input": "2020-12-22T00:17:16.685129Z",
     "iopub.status.busy": "2020-12-22T00:17:16.684523Z",
     "iopub.status.idle": "2020-12-22T00:17:16.686139Z",
     "shell.execute_reply": "2020-12-22T00:17:16.686691Z"
    },
    "papermill": {
     "duration": 0.032917,
     "end_time": "2020-12-22T00:17:16.686811",
     "exception": false,
     "start_time": "2020-12-22T00:17:16.653894",
     "status": "completed"
    },
    "tags": []
   },
   "outputs": [],
   "source": [
    "#hide\n",
    "# g.head()"
   ]
  },
  {
   "cell_type": "code",
   "execution_count": 33,
   "metadata": {
    "execution": {
     "iopub.execute_input": "2020-12-22T00:17:16.745523Z",
     "iopub.status.busy": "2020-12-22T00:17:16.744991Z",
     "iopub.status.idle": "2020-12-22T00:17:16.747157Z",
     "shell.execute_reply": "2020-12-22T00:17:16.746704Z"
    },
    "papermill": {
     "duration": 0.032267,
     "end_time": "2020-12-22T00:17:16.747266",
     "exception": false,
     "start_time": "2020-12-22T00:17:16.714999",
     "status": "completed"
    },
    "tags": []
   },
   "outputs": [],
   "source": [
    "# hide\n",
    "# g['date'] = g['date'].astype('datetime64[ns]')"
   ]
  },
  {
   "cell_type": "code",
   "execution_count": 34,
   "metadata": {
    "execution": {
     "iopub.execute_input": "2020-12-22T00:17:16.811301Z",
     "iopub.status.busy": "2020-12-22T00:17:16.810750Z",
     "iopub.status.idle": "2020-12-22T00:17:16.813011Z",
     "shell.execute_reply": "2020-12-22T00:17:16.812547Z"
    },
    "papermill": {
     "duration": 0.034508,
     "end_time": "2020-12-22T00:17:16.813112",
     "exception": false,
     "start_time": "2020-12-22T00:17:16.778604",
     "status": "completed"
    },
    "tags": []
   },
   "outputs": [],
   "source": [
    "#hide\n",
    "# g['date'] = g.date.dt.dayofyear"
   ]
  },
  {
   "cell_type": "code",
   "execution_count": 35,
   "metadata": {
    "execution": {
     "iopub.execute_input": "2020-12-22T00:17:16.869818Z",
     "iopub.status.busy": "2020-12-22T00:17:16.869303Z",
     "iopub.status.idle": "2020-12-22T00:17:16.871568Z",
     "shell.execute_reply": "2020-12-22T00:17:16.870944Z"
    },
    "papermill": {
     "duration": 0.031973,
     "end_time": "2020-12-22T00:17:16.871758",
     "exception": false,
     "start_time": "2020-12-22T00:17:16.839785",
     "status": "completed"
    },
    "tags": []
   },
   "outputs": [],
   "source": [
    "#hide\n",
    "# g = g.rename(columns= {'continent':'group','country':'name','cases':'value'})"
   ]
  },
  {
   "cell_type": "code",
   "execution_count": 36,
   "metadata": {
    "execution": {
     "iopub.execute_input": "2020-12-22T00:17:16.933834Z",
     "iopub.status.busy": "2020-12-22T00:17:16.933305Z",
     "iopub.status.idle": "2020-12-22T00:17:16.935192Z",
     "shell.execute_reply": "2020-12-22T00:17:16.935604Z"
    },
    "papermill": {
     "duration": 0.036639,
     "end_time": "2020-12-22T00:17:16.935724",
     "exception": false,
     "start_time": "2020-12-22T00:17:16.899085",
     "status": "completed"
    },
    "tags": []
   },
   "outputs": [],
   "source": [
    "#hide\n",
    "# cols = ['name','group','day','value']"
   ]
  },
  {
   "cell_type": "code",
   "execution_count": 37,
   "metadata": {
    "execution": {
     "iopub.execute_input": "2020-12-22T00:17:16.994099Z",
     "iopub.status.busy": "2020-12-22T00:17:16.993568Z",
     "iopub.status.idle": "2020-12-22T00:17:16.995759Z",
     "shell.execute_reply": "2020-12-22T00:17:16.995309Z"
    },
    "papermill": {
     "duration": 0.03302,
     "end_time": "2020-12-22T00:17:16.995867",
     "exception": false,
     "start_time": "2020-12-22T00:17:16.962847",
     "status": "completed"
    },
    "tags": []
   },
   "outputs": [],
   "source": [
    "#hide\n",
    "# g.rename(columns= {'date':'day'},inplace = True)"
   ]
  },
  {
   "cell_type": "code",
   "execution_count": 38,
   "metadata": {
    "execution": {
     "iopub.execute_input": "2020-12-22T00:17:17.064418Z",
     "iopub.status.busy": "2020-12-22T00:17:17.063746Z",
     "iopub.status.idle": "2020-12-22T00:17:17.065722Z",
     "shell.execute_reply": "2020-12-22T00:17:17.066343Z"
    },
    "papermill": {
     "duration": 0.04116,
     "end_time": "2020-12-22T00:17:17.066483",
     "exception": false,
     "start_time": "2020-12-22T00:17:17.025323",
     "status": "completed"
    },
    "tags": []
   },
   "outputs": [],
   "source": [
    "#hide\n",
    "# g = g[cols]"
   ]
  },
  {
   "cell_type": "code",
   "execution_count": 39,
   "metadata": {
    "execution": {
     "iopub.execute_input": "2020-12-22T00:17:17.128447Z",
     "iopub.status.busy": "2020-12-22T00:17:17.127725Z",
     "iopub.status.idle": "2020-12-22T00:17:17.129796Z",
     "shell.execute_reply": "2020-12-22T00:17:17.130311Z"
    },
    "papermill": {
     "duration": 0.035453,
     "end_time": "2020-12-22T00:17:17.130432",
     "exception": false,
     "start_time": "2020-12-22T00:17:17.094979",
     "status": "completed"
    },
    "tags": []
   },
   "outputs": [],
   "source": [
    "# #hide\n",
    "# g = g[g.group.notna()]"
   ]
  },
  {
   "cell_type": "code",
   "execution_count": 40,
   "metadata": {
    "execution": {
     "iopub.execute_input": "2020-12-22T00:17:17.197636Z",
     "iopub.status.busy": "2020-12-22T00:17:17.196936Z",
     "iopub.status.idle": "2020-12-22T00:17:17.200487Z",
     "shell.execute_reply": "2020-12-22T00:17:17.200013Z"
    },
    "papermill": {
     "duration": 0.037296,
     "end_time": "2020-12-22T00:17:17.200603",
     "exception": false,
     "start_time": "2020-12-22T00:17:17.163307",
     "status": "completed"
    },
    "tags": []
   },
   "outputs": [],
   "source": [
    "# #hide\n",
    "# colors = dict(zip(\n",
    "#     [\"Oceania\", \"Europe\", \"Asia\", \"South America\", \"Middle East\", \"North America\", \"Africa\"],\n",
    "#     [\"#adb0ff\", \"#ffb3ff\", \"#90d595\", \"#e48381\", \"#aafbff\", \"#f7bb5f\", \"#eafb50\"]\n",
    "# ))\n",
    "# group_lk = g.set_index('name')['group'].to_dict()"
   ]
  },
  {
   "cell_type": "code",
   "execution_count": null,
   "metadata": {
    "papermill": {
     "duration": 0.02829,
     "end_time": "2020-12-22T00:17:17.258413",
     "exception": false,
     "start_time": "2020-12-22T00:17:17.230123",
     "status": "completed"
    },
    "tags": []
   },
   "outputs": [],
   "source": []
  },
  {
   "cell_type": "code",
   "execution_count": 41,
   "metadata": {
    "execution": {
     "iopub.execute_input": "2020-12-22T00:17:17.321246Z",
     "iopub.status.busy": "2020-12-22T00:17:17.320620Z",
     "iopub.status.idle": "2020-12-22T00:17:17.323134Z",
     "shell.execute_reply": "2020-12-22T00:17:17.322724Z"
    },
    "papermill": {
     "duration": 0.034049,
     "end_time": "2020-12-22T00:17:17.323241",
     "exception": false,
     "start_time": "2020-12-22T00:17:17.289192",
     "status": "completed"
    },
    "tags": []
   },
   "outputs": [],
   "source": [
    "# #hide\n",
    "# fig, ax = plt.subplots(figsize=(15, 8))\n",
    "\n",
    "# def draw_barchart(current_day):\n",
    "#     dff = g[g['day'].eq(current_day)].sort_values(by='value', ascending=True).tail(10)\n",
    "#     ax.clear()\n",
    "#     ax.barh(dff['name'], dff['value'], color=[colors[group_lk[x]] for x in dff['name']])\n",
    "#     dx = dff['value'].max() / 200\n",
    "    \n",
    "#     for i, (value, name) in enumerate(zip(dff['value'], dff['name'])):\n",
    "#         ax.text(value-dx, i,     name,           size=14, weight=600, ha='right', va='bottom')\n",
    "#         ax.text(value-dx, i-.25, group_lk[name], size=10, color='#444444', ha='right', va='baseline')\n",
    "#         ax.text(value+dx, i,     f'{value:,.0f}',  size=14, ha='left',  va='center')\n",
    "#     ax.text(1, 0.4, current_day, transform=ax.transAxes, color='#777777', size=46, ha='right', weight=800)\n",
    "#     ax.text(0, 1.06, 'Population (thousands)', transform=ax.transAxes, size=12, color='#777777')\n",
    "#     ax.xaxis.set_major_formatter(ticker.StrMethodFormatter('{x:,.0f}'))\n",
    "#     ax.xaxis.set_ticks_position('top')\n",
    "#     ax.tick_params(axis='x', colors='#777777', labelsize=12)\n",
    "#     ax.set_yticks([])\n",
    "#     ax.margins(0, 0.01)\n",
    "#     ax.grid(which='major', axis='x', linestyle='-')\n",
    "#     ax.set_axisbelow(True)\n",
    "    \n",
    "#     ax.text(0, 1.15, 'Coronavirus',\n",
    "#             transform=ax.transAxes, size=24, weight=600, ha='left', va='top')\n",
    "# #     ax.text(1, 0, 'by @pratapvardhan; credit @jburnmurdoch', transform=ax.transAxes, color='#777777', ha='right',\n",
    "# #             bbox=dict(facecolor='white', alpha=0.8, edgecolor='white'))\n",
    "#     plt.box(False)"
   ]
  },
  {
   "cell_type": "code",
   "execution_count": 42,
   "metadata": {
    "execution": {
     "iopub.execute_input": "2020-12-22T00:17:17.379707Z",
     "iopub.status.busy": "2020-12-22T00:17:17.379200Z",
     "iopub.status.idle": "2020-12-22T00:17:17.382190Z",
     "shell.execute_reply": "2020-12-22T00:17:17.382697Z"
    },
    "papermill": {
     "duration": 0.032977,
     "end_time": "2020-12-22T00:17:17.382811",
     "exception": false,
     "start_time": "2020-12-22T00:17:17.349834",
     "status": "completed"
    },
    "tags": []
   },
   "outputs": [],
   "source": [
    "# #hide_input\n",
    "# fig, ax = plt.subplots(figsize=(15, 8))\n",
    "# animator = animation.FuncAnimation(fig, draw_barchart, frames=range(g.day.values.min(), g.day.values.max()))\n",
    "# HTML(animator.to_jshtml())\n",
    "# # or use animator.to_html5_video() or animator.save() "
   ]
  },
  {
   "cell_type": "code",
   "execution_count": null,
   "metadata": {
    "papermill": {
     "duration": 0.026791,
     "end_time": "2020-12-22T00:17:17.435729",
     "exception": false,
     "start_time": "2020-12-22T00:17:17.408938",
     "status": "completed"
    },
    "tags": []
   },
   "outputs": [],
   "source": []
  },
  {
   "cell_type": "code",
   "execution_count": null,
   "metadata": {
    "papermill": {
     "duration": 0.028263,
     "end_time": "2020-12-22T00:17:17.490478",
     "exception": false,
     "start_time": "2020-12-22T00:17:17.462215",
     "status": "completed"
    },
    "tags": []
   },
   "outputs": [],
   "source": []
  },
  {
   "cell_type": "code",
   "execution_count": null,
   "metadata": {
    "papermill": {
     "duration": 0.028198,
     "end_time": "2020-12-22T00:17:17.544674",
     "exception": false,
     "start_time": "2020-12-22T00:17:17.516476",
     "status": "completed"
    },
    "tags": []
   },
   "outputs": [],
   "source": []
  }
 ],
 "metadata": {
  "kernelspec": {
   "display_name": "Python 3",
   "language": "python",
   "name": "python3"
  },
  "language_info": {
   "codemirror_mode": {
    "name": "ipython",
    "version": 3
   },
   "file_extension": ".py",
   "mimetype": "text/x-python",
   "name": "python",
   "nbconvert_exporter": "python",
   "pygments_lexer": "ipython3",
   "version": "3.6.12"
  },
  "papermill": {
   "duration": 7.254789,
   "end_time": "2020-12-22T00:17:17.879205",
   "environment_variables": {},
   "exception": null,
   "input_path": "2020-03-21-covid19exp.ipynb",
   "output_path": "2020-03-21-covid19exp.ipynb",
   "parameters": {},
   "start_time": "2020-12-22T00:17:10.624416",
   "version": "2.0.0"
  }
 },
 "nbformat": 4,
 "nbformat_minor": 4
}