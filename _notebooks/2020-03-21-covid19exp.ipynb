{
 "cells": [
  {
   "cell_type": "markdown",
   "id": "muslim-click",
   "metadata": {
    "papermill": {
     "duration": 0.041533,
     "end_time": "2022-10-22T12:19:14.785432",
     "exception": false,
     "start_time": "2022-10-22T12:19:14.743899",
     "status": "completed"
    },
    "tags": []
   },
   "source": [
    "# COVID-19 Case Race\n",
    "> A race chart to see rising cases around the world\n",
    "\n",
    "- author: Hargun Oberoi\n",
    "- image: images/covid-overview.png\n",
    "- hide: false\n",
    "- badges: false"
   ]
  },
  {
   "cell_type": "code",
   "execution_count": 1,
   "id": "proof-material",
   "metadata": {
    "execution": {
     "iopub.execute_input": "2022-10-22T12:19:14.866433Z",
     "iopub.status.busy": "2022-10-22T12:19:14.865674Z",
     "iopub.status.idle": "2022-10-22T12:19:15.287444Z",
     "shell.execute_reply": "2022-10-22T12:19:15.286492Z"
    },
    "papermill": {
     "duration": 0.467326,
     "end_time": "2022-10-22T12:19:15.287604",
     "exception": false,
     "start_time": "2022-10-22T12:19:14.820278",
     "status": "completed"
    },
    "tags": []
   },
   "outputs": [],
   "source": [
    "#hide\n",
    "import numpy as np\n",
    "import pandas as pd\n",
    "from jinja2 import Template\n",
    "from IPython.display import HTML"
   ]
  },
  {
   "cell_type": "code",
   "execution_count": 2,
   "id": "developed-terminology",
   "metadata": {
    "execution": {
     "iopub.execute_input": "2022-10-22T12:19:15.362463Z",
     "iopub.status.busy": "2022-10-22T12:19:15.361698Z",
     "iopub.status.idle": "2022-10-22T12:19:15.365911Z",
     "shell.execute_reply": "2022-10-22T12:19:15.365337Z"
    },
    "papermill": {
     "duration": 0.044217,
     "end_time": "2022-10-22T12:19:15.366047",
     "exception": false,
     "start_time": "2022-10-22T12:19:15.321830",
     "status": "completed"
    },
    "tags": []
   },
   "outputs": [],
   "source": [
    "#hide\n",
    "\n",
    "# FETCH\n",
    "base_url = 'https://raw.githubusercontent.com/pratapvardhan/notebooks/master/covid19/'\n",
    "paths = {\n",
    "    'mapping': base_url + 'mapping_countries.csv',\n",
    "    'overview': base_url + 'overview.tpl'\n",
    "}"
   ]
  },
  {
   "cell_type": "code",
   "execution_count": 3,
   "id": "dynamic-saver",
   "metadata": {
    "execution": {
     "iopub.execute_input": "2022-10-22T12:19:15.446350Z",
     "iopub.status.busy": "2022-10-22T12:19:15.445601Z",
     "iopub.status.idle": "2022-10-22T12:19:15.449744Z",
     "shell.execute_reply": "2022-10-22T12:19:15.449184Z"
    },
    "papermill": {
     "duration": 0.049984,
     "end_time": "2022-10-22T12:19:15.449877",
     "exception": false,
     "start_time": "2022-10-22T12:19:15.399893",
     "status": "completed"
    },
    "tags": []
   },
   "outputs": [
    {
     "data": {
      "text/plain": [
       "'https://raw.githubusercontent.com/pratapvardhan/notebooks/master/covid19/mapping_countries.csv'"
      ]
     },
     "execution_count": 3,
     "metadata": {},
     "output_type": "execute_result"
    }
   ],
   "source": [
    "#hide\n",
    "paths['mapping']"
   ]
  },
  {
   "cell_type": "code",
   "execution_count": 4,
   "id": "urban-software",
   "metadata": {
    "execution": {
     "iopub.execute_input": "2022-10-22T12:19:15.525444Z",
     "iopub.status.busy": "2022-10-22T12:19:15.524741Z",
     "iopub.status.idle": "2022-10-22T12:19:15.527981Z",
     "shell.execute_reply": "2022-10-22T12:19:15.526994Z"
    },
    "papermill": {
     "duration": 0.043751,
     "end_time": "2022-10-22T12:19:15.528124",
     "exception": false,
     "start_time": "2022-10-22T12:19:15.484373",
     "status": "completed"
    },
    "tags": []
   },
   "outputs": [],
   "source": [
    "#hide\n",
    "def get_mappings(url):\n",
    "    df = pd.read_csv(url)\n",
    "    return {\n",
    "        'df': df,\n",
    "        'replace.country': dict(df.dropna(subset=['Name']).set_index('Country')['Name']),\n",
    "        'map.continent': dict(df.set_index('Name')['Continent'])\n",
    "    }"
   ]
  },
  {
   "cell_type": "code",
   "execution_count": 5,
   "id": "intimate-machinery",
   "metadata": {
    "execution": {
     "iopub.execute_input": "2022-10-22T12:19:15.602913Z",
     "iopub.status.busy": "2022-10-22T12:19:15.602102Z",
     "iopub.status.idle": "2022-10-22T12:19:15.648606Z",
     "shell.execute_reply": "2022-10-22T12:19:15.649375Z"
    },
    "papermill": {
     "duration": 0.087216,
     "end_time": "2022-10-22T12:19:15.649575",
     "exception": false,
     "start_time": "2022-10-22T12:19:15.562359",
     "status": "completed"
    },
    "tags": []
   },
   "outputs": [],
   "source": [
    "#hide\n",
    "mapping = get_mappings(paths['mapping'])"
   ]
  },
  {
   "cell_type": "code",
   "execution_count": 6,
   "id": "certified-tactics",
   "metadata": {
    "execution": {
     "iopub.execute_input": "2022-10-22T12:19:15.726425Z",
     "iopub.status.busy": "2022-10-22T12:19:15.725485Z",
     "iopub.status.idle": "2022-10-22T12:19:15.727187Z",
     "shell.execute_reply": "2022-10-22T12:19:15.727831Z"
    },
    "papermill": {
     "duration": 0.042894,
     "end_time": "2022-10-22T12:19:15.727977",
     "exception": false,
     "start_time": "2022-10-22T12:19:15.685083",
     "status": "completed"
    },
    "tags": []
   },
   "outputs": [],
   "source": [
    "#hide\n",
    "def get_template(path):\n",
    "    from urllib.parse import urlparse\n",
    "    if bool(urlparse(path).netloc):\n",
    "        from urllib.request import urlopen\n",
    "        return urlopen(path).read().decode('utf8')\n",
    "    return open(path).read()"
   ]
  },
  {
   "cell_type": "code",
   "execution_count": 7,
   "id": "realistic-blast",
   "metadata": {
    "execution": {
     "iopub.execute_input": "2022-10-22T12:19:15.803716Z",
     "iopub.status.busy": "2022-10-22T12:19:15.803012Z",
     "iopub.status.idle": "2022-10-22T12:19:15.805719Z",
     "shell.execute_reply": "2022-10-22T12:19:15.805064Z"
    },
    "papermill": {
     "duration": 0.043679,
     "end_time": "2022-10-22T12:19:15.805844",
     "exception": false,
     "start_time": "2022-10-22T12:19:15.762165",
     "status": "completed"
    },
    "tags": []
   },
   "outputs": [],
   "source": [
    "#hide\n",
    "def get_frame(name):\n",
    "    url = (\n",
    "        'https://raw.githubusercontent.com/CSSEGISandData/COVID-19/master/csse_covid_19_data/'\n",
    "        f'csse_covid_19_time_series/time_series_covid19_{name}_global.csv')\n",
    "    df = pd.read_csv(url)\n",
    "    # rename countries\n",
    "    df['Country/Region'] = df['Country/Region'].replace(mapping['replace.country'])\n",
    "    return df"
   ]
  },
  {
   "cell_type": "code",
   "execution_count": 8,
   "id": "affiliated-characterization",
   "metadata": {
    "execution": {
     "iopub.execute_input": "2022-10-22T12:19:15.882864Z",
     "iopub.status.busy": "2022-10-22T12:19:15.882063Z",
     "iopub.status.idle": "2022-10-22T12:19:15.884450Z",
     "shell.execute_reply": "2022-10-22T12:19:15.884951Z"
    },
    "papermill": {
     "duration": 0.044566,
     "end_time": "2022-10-22T12:19:15.885109",
     "exception": false,
     "start_time": "2022-10-22T12:19:15.840543",
     "status": "completed"
    },
    "tags": []
   },
   "outputs": [],
   "source": [
    "#hide\n",
    "def get_dates(df):\n",
    "    dt_cols = df.columns[~df.columns.isin(['Province/State', 'Country/Region', 'Lat', 'Long'])]\n",
    "    LAST_DATE_I = -1\n",
    "    # sometimes last column may be empty, then go backwards\n",
    "    for i in range(-1, -len(dt_cols), -1):\n",
    "        if not df[dt_cols[i]].fillna(0).eq(0).all():\n",
    "            LAST_DATE_I = i\n",
    "            break\n",
    "    return LAST_DATE_I, dt_cols"
   ]
  },
  {
   "cell_type": "code",
   "execution_count": 9,
   "id": "recent-optimization",
   "metadata": {
    "execution": {
     "iopub.execute_input": "2022-10-22T12:19:15.961794Z",
     "iopub.status.busy": "2022-10-22T12:19:15.960246Z",
     "iopub.status.idle": "2022-10-22T12:19:16.571931Z",
     "shell.execute_reply": "2022-10-22T12:19:16.571217Z"
    },
    "papermill": {
     "duration": 0.652992,
     "end_time": "2022-10-22T12:19:16.572087",
     "exception": false,
     "start_time": "2022-10-22T12:19:15.919095",
     "status": "completed"
    },
    "tags": []
   },
   "outputs": [],
   "source": [
    "#hide\n",
    "COL_REGION = 'Country/Region'\n",
    "# Confirmed, Recovered, Deaths\n",
    "df = get_frame('confirmed')\n",
    "# dft_: timeseries, dfc_: today country agg\n",
    "dft_cases = df\n",
    "dft_deaths = get_frame('deaths')\n",
    "dft_recovered = get_frame('recovered')\n",
    "LAST_DATE_I, dt_cols = get_dates(df)"
   ]
  },
  {
   "cell_type": "code",
   "execution_count": 10,
   "id": "absolute-copper",
   "metadata": {
    "execution": {
     "iopub.execute_input": "2022-10-22T12:19:16.650437Z",
     "iopub.status.busy": "2022-10-22T12:19:16.649689Z",
     "iopub.status.idle": "2022-10-22T12:19:16.652919Z",
     "shell.execute_reply": "2022-10-22T12:19:16.652253Z"
    },
    "papermill": {
     "duration": 0.045282,
     "end_time": "2022-10-22T12:19:16.653047",
     "exception": false,
     "start_time": "2022-10-22T12:19:16.607765",
     "status": "completed"
    },
    "tags": []
   },
   "outputs": [],
   "source": [
    "#hide\n",
    "LAST_DATE_I, dt_cols = get_dates(df)\n",
    "dt_today =dt_cols[LAST_DATE_I]\n",
    "# dt_5day = dt_cols[LAST_DATE_I - 5]\n",
    "dt_yday = dt_cols[LAST_DATE_I - 1]"
   ]
  },
  {
   "cell_type": "code",
   "execution_count": 11,
   "id": "restricted-sheriff",
   "metadata": {
    "execution": {
     "iopub.execute_input": "2022-10-22T12:19:16.729582Z",
     "iopub.status.busy": "2022-10-22T12:19:16.728883Z",
     "iopub.status.idle": "2022-10-22T12:19:16.738144Z",
     "shell.execute_reply": "2022-10-22T12:19:16.737561Z"
    },
    "papermill": {
     "duration": 0.050548,
     "end_time": "2022-10-22T12:19:16.738307",
     "exception": false,
     "start_time": "2022-10-22T12:19:16.687759",
     "status": "completed"
    },
    "tags": []
   },
   "outputs": [],
   "source": [
    "#hide\n",
    "dfc_cases = dft_cases.groupby(COL_REGION)[dt_today].sum()\n",
    "dfc_deaths = dft_deaths.groupby(COL_REGION)[dt_today].sum()\n",
    "# dfp_cases = dft_cases.groupby(COL_REGION)[dt_5day].sum()\n",
    "# dfp_deaths = dft_deaths.groupby(COL_REGION)[dt_5day].sum()\n",
    "dfp_cases = dft_cases.groupby(COL_REGION)[dt_yday].sum()\n",
    "dfp_deaths = dft_deaths.groupby(COL_REGION)[dt_yday].sum()"
   ]
  },
  {
   "cell_type": "code",
   "execution_count": 12,
   "id": "deluxe-hepatitis",
   "metadata": {
    "execution": {
     "iopub.execute_input": "2022-10-22T12:19:16.815324Z",
     "iopub.status.busy": "2022-10-22T12:19:16.814624Z",
     "iopub.status.idle": "2022-10-22T12:19:16.819475Z",
     "shell.execute_reply": "2022-10-22T12:19:16.820129Z"
    },
    "papermill": {
     "duration": 0.047457,
     "end_time": "2022-10-22T12:19:16.820280",
     "exception": false,
     "start_time": "2022-10-22T12:19:16.772823",
     "status": "completed"
    },
    "tags": []
   },
   "outputs": [],
   "source": [
    "#hide\n",
    "df_table = (pd.DataFrame(dict(Cases = dfc_cases, Deaths = dfc_deaths, PCases = dfp_cases, PDeaths = dfp_deaths))\n",
    "            .sort_values(by = ['Cases','Deaths'], ascending = [False, False])\n",
    "            .reset_index())"
   ]
  },
  {
   "cell_type": "code",
   "execution_count": 13,
   "id": "educational-chancellor",
   "metadata": {
    "execution": {
     "iopub.execute_input": "2022-10-22T12:19:16.910444Z",
     "iopub.status.busy": "2022-10-22T12:19:16.909627Z",
     "iopub.status.idle": "2022-10-22T12:19:16.917758Z",
     "shell.execute_reply": "2022-10-22T12:19:16.918360Z"
    },
    "papermill": {
     "duration": 0.064145,
     "end_time": "2022-10-22T12:19:16.918522",
     "exception": false,
     "start_time": "2022-10-22T12:19:16.854377",
     "status": "completed"
    },
    "tags": []
   },
   "outputs": [
    {
     "data": {
      "text/html": [
       "<div>\n",
       "<style scoped>\n",
       "    .dataframe tbody tr th:only-of-type {\n",
       "        vertical-align: middle;\n",
       "    }\n",
       "\n",
       "    .dataframe tbody tr th {\n",
       "        vertical-align: top;\n",
       "    }\n",
       "\n",
       "    .dataframe thead th {\n",
       "        text-align: right;\n",
       "    }\n",
       "</style>\n",
       "<table border=\"1\" class=\"dataframe\">\n",
       "  <thead>\n",
       "    <tr style=\"text-align: right;\">\n",
       "      <th></th>\n",
       "      <th>Country/Region</th>\n",
       "      <th>Cases</th>\n",
       "      <th>Deaths</th>\n",
       "      <th>PCases</th>\n",
       "      <th>PDeaths</th>\n",
       "      <th>Cases (+)</th>\n",
       "      <th>Deaths (+)</th>\n",
       "      <th>Fatality Rate</th>\n",
       "      <th>Continent</th>\n",
       "    </tr>\n",
       "  </thead>\n",
       "  <tbody>\n",
       "    <tr>\n",
       "      <th>0</th>\n",
       "      <td>US</td>\n",
       "      <td>97185559</td>\n",
       "      <td>1067673</td>\n",
       "      <td>97140151</td>\n",
       "      <td>1067105</td>\n",
       "      <td>45408</td>\n",
       "      <td>568</td>\n",
       "      <td>1.10</td>\n",
       "      <td>North America</td>\n",
       "    </tr>\n",
       "    <tr>\n",
       "      <th>1</th>\n",
       "      <td>India</td>\n",
       "      <td>44640748</td>\n",
       "      <td>528957</td>\n",
       "      <td>44638636</td>\n",
       "      <td>528953</td>\n",
       "      <td>2112</td>\n",
       "      <td>4</td>\n",
       "      <td>1.18</td>\n",
       "      <td>Asia</td>\n",
       "    </tr>\n",
       "    <tr>\n",
       "      <th>2</th>\n",
       "      <td>France</td>\n",
       "      <td>36741974</td>\n",
       "      <td>157377</td>\n",
       "      <td>36692887</td>\n",
       "      <td>157296</td>\n",
       "      <td>49087</td>\n",
       "      <td>81</td>\n",
       "      <td>0.43</td>\n",
       "      <td>Europe</td>\n",
       "    </tr>\n",
       "    <tr>\n",
       "      <th>3</th>\n",
       "      <td>Germany</td>\n",
       "      <td>35172693</td>\n",
       "      <td>152482</td>\n",
       "      <td>35098062</td>\n",
       "      <td>152278</td>\n",
       "      <td>74631</td>\n",
       "      <td>204</td>\n",
       "      <td>0.43</td>\n",
       "      <td>Europe</td>\n",
       "    </tr>\n",
       "    <tr>\n",
       "      <th>4</th>\n",
       "      <td>Brazil</td>\n",
       "      <td>34780462</td>\n",
       "      <td>687527</td>\n",
       "      <td>34771320</td>\n",
       "      <td>687423</td>\n",
       "      <td>9142</td>\n",
       "      <td>104</td>\n",
       "      <td>1.98</td>\n",
       "      <td>South America</td>\n",
       "    </tr>\n",
       "  </tbody>\n",
       "</table>\n",
       "</div>"
      ],
      "text/plain": [
       "  Country/Region     Cases   Deaths    PCases  PDeaths  Cases (+)  Deaths (+)  \\\n",
       "0             US  97185559  1067673  97140151  1067105      45408         568   \n",
       "1          India  44640748   528957  44638636   528953       2112           4   \n",
       "2         France  36741974   157377  36692887   157296      49087          81   \n",
       "3        Germany  35172693   152482  35098062   152278      74631         204   \n",
       "4         Brazil  34780462   687527  34771320   687423       9142         104   \n",
       "\n",
       "   Fatality Rate      Continent  \n",
       "0           1.10  North America  \n",
       "1           1.18           Asia  \n",
       "2           0.43         Europe  \n",
       "3           0.43         Europe  \n",
       "4           1.98  South America  "
      ]
     },
     "execution_count": 13,
     "metadata": {},
     "output_type": "execute_result"
    }
   ],
   "source": [
    "#hide\n",
    "for c in 'Cases, Deaths'.split(', '):\n",
    "    df_table[f'{c} (+)'] = (df_table[c] - df_table[f'P{c}']).clip(0)\n",
    "    #Clip ça veut dire, les chiffres negatif sont interdit\n",
    "df_table['Fatality Rate'] = (100* df_table['Deaths']/ df_table['Cases']).round(2)\n",
    "df_table['Continent'] = df_table['Country/Region'].map(mapping['map.continent'])\n",
    "df_table.head(5)"
   ]
  },
  {
   "cell_type": "code",
   "execution_count": 14,
   "id": "aboriginal-bulgaria",
   "metadata": {
    "execution": {
     "iopub.execute_input": "2022-10-22T12:19:16.996621Z",
     "iopub.status.busy": "2022-10-22T12:19:16.995904Z",
     "iopub.status.idle": "2022-10-22T12:19:16.998770Z",
     "shell.execute_reply": "2022-10-22T12:19:16.998178Z"
    },
    "papermill": {
     "duration": 0.044225,
     "end_time": "2022-10-22T12:19:16.998902",
     "exception": false,
     "start_time": "2022-10-22T12:19:16.954677",
     "status": "completed"
    },
    "tags": []
   },
   "outputs": [],
   "source": [
    "#hide\n",
    "#delete problematic countries from table\n",
    "df_table = df_table[~df_table['Country/Region'].isin(['Cape Verde', 'Cruise Ship', 'Kosovo'])]"
   ]
  },
  {
   "cell_type": "code",
   "execution_count": 15,
   "id": "fantastic-effect",
   "metadata": {
    "execution": {
     "iopub.execute_input": "2022-10-22T12:19:17.081290Z",
     "iopub.status.busy": "2022-10-22T12:19:17.080493Z",
     "iopub.status.idle": "2022-10-22T12:19:17.103407Z",
     "shell.execute_reply": "2022-10-22T12:19:17.103976Z"
    },
    "papermill": {
     "duration": 0.069172,
     "end_time": "2022-10-22T12:19:17.104132",
     "exception": false,
     "start_time": "2022-10-22T12:19:17.034960",
     "status": "completed"
    },
    "tags": []
   },
   "outputs": [
    {
     "data": {
      "text/html": [
       "<div>\n",
       "<style scoped>\n",
       "    .dataframe tbody tr th:only-of-type {\n",
       "        vertical-align: middle;\n",
       "    }\n",
       "\n",
       "    .dataframe tbody tr th {\n",
       "        vertical-align: top;\n",
       "    }\n",
       "\n",
       "    .dataframe thead th {\n",
       "        text-align: right;\n",
       "    }\n",
       "</style>\n",
       "<table border=\"1\" class=\"dataframe\">\n",
       "  <thead>\n",
       "    <tr style=\"text-align: right;\">\n",
       "      <th></th>\n",
       "      <th>Country/Region</th>\n",
       "      <th>Cases</th>\n",
       "      <th>Deaths</th>\n",
       "      <th>PCases</th>\n",
       "      <th>PDeaths</th>\n",
       "      <th>Cases (+)</th>\n",
       "      <th>Deaths (+)</th>\n",
       "      <th>Fatality Rate</th>\n",
       "      <th>Continent</th>\n",
       "    </tr>\n",
       "  </thead>\n",
       "  <tbody>\n",
       "    <tr>\n",
       "      <th>0</th>\n",
       "      <td>US</td>\n",
       "      <td>97185559</td>\n",
       "      <td>1067673</td>\n",
       "      <td>97140151</td>\n",
       "      <td>1067105</td>\n",
       "      <td>45408</td>\n",
       "      <td>568</td>\n",
       "      <td>1.1</td>\n",
       "      <td>North America</td>\n",
       "    </tr>\n",
       "    <tr>\n",
       "      <th>1</th>\n",
       "      <td>India</td>\n",
       "      <td>44640748</td>\n",
       "      <td>528957</td>\n",
       "      <td>44638636</td>\n",
       "      <td>528953</td>\n",
       "      <td>2112</td>\n",
       "      <td>4</td>\n",
       "      <td>1.2</td>\n",
       "      <td>Asia</td>\n",
       "    </tr>\n",
       "    <tr>\n",
       "      <th>2</th>\n",
       "      <td>France</td>\n",
       "      <td>36741974</td>\n",
       "      <td>157377</td>\n",
       "      <td>36692887</td>\n",
       "      <td>157296</td>\n",
       "      <td>49087</td>\n",
       "      <td>81</td>\n",
       "      <td>0.4</td>\n",
       "      <td>Europe</td>\n",
       "    </tr>\n",
       "    <tr>\n",
       "      <th>3</th>\n",
       "      <td>Germany</td>\n",
       "      <td>35172693</td>\n",
       "      <td>152482</td>\n",
       "      <td>35098062</td>\n",
       "      <td>152278</td>\n",
       "      <td>74631</td>\n",
       "      <td>204</td>\n",
       "      <td>0.4</td>\n",
       "      <td>Europe</td>\n",
       "    </tr>\n",
       "    <tr>\n",
       "      <th>4</th>\n",
       "      <td>Brazil</td>\n",
       "      <td>34780462</td>\n",
       "      <td>687527</td>\n",
       "      <td>34771320</td>\n",
       "      <td>687423</td>\n",
       "      <td>9142</td>\n",
       "      <td>104</td>\n",
       "      <td>2.0</td>\n",
       "      <td>South America</td>\n",
       "    </tr>\n",
       "  </tbody>\n",
       "</table>\n",
       "</div>"
      ],
      "text/plain": [
       "  Country/Region     Cases   Deaths    PCases  PDeaths  Cases (+)  Deaths (+)  \\\n",
       "0             US  97185559  1067673  97140151  1067105      45408         568   \n",
       "1          India  44640748   528957  44638636   528953       2112           4   \n",
       "2         France  36741974   157377  36692887   157296      49087          81   \n",
       "3        Germany  35172693   152482  35098062   152278      74631         204   \n",
       "4         Brazil  34780462   687527  34771320   687423       9142         104   \n",
       "\n",
       "   Fatality Rate      Continent  \n",
       "0            1.1  North America  \n",
       "1            1.2           Asia  \n",
       "2            0.4         Europe  \n",
       "3            0.4         Europe  \n",
       "4            2.0  South America  "
      ]
     },
     "execution_count": 15,
     "metadata": {},
     "output_type": "execute_result"
    }
   ],
   "source": [
    "#hide\n",
    "df_table = (pd.DataFrame(dict(Cases=dfc_cases, Deaths=dfc_deaths, PCases=dfp_cases, PDeaths=dfp_deaths))\n",
    "             .sort_values(by=['Cases', 'Deaths'], ascending=[False, False])\n",
    "             .reset_index())\n",
    "df_table.rename(columns={'index': 'Country/Region'}, inplace=True)\n",
    "for c in 'Cases, Deaths'.split(', '):\n",
    "    df_table[f'{c} (+)'] = (df_table[c] - df_table[f'P{c}']).clip(0)  # DATA BUG\n",
    "df_table['Fatality Rate'] = (100 * df_table['Deaths'] / df_table['Cases']).round(1)\n",
    "df_table['Continent'] = df_table['Country/Region'].map(mapping['map.continent'])\n",
    "df_table.head(5)"
   ]
  },
  {
   "cell_type": "code",
   "execution_count": 16,
   "id": "fewer-occasion",
   "metadata": {
    "execution": {
     "iopub.execute_input": "2022-10-22T12:19:17.184652Z",
     "iopub.status.busy": "2022-10-22T12:19:17.183947Z",
     "iopub.status.idle": "2022-10-22T12:19:17.186692Z",
     "shell.execute_reply": "2022-10-22T12:19:17.187352Z"
    },
    "papermill": {
     "duration": 0.046953,
     "end_time": "2022-10-22T12:19:17.187502",
     "exception": false,
     "start_time": "2022-10-22T12:19:17.140549",
     "status": "completed"
    },
    "tags": []
   },
   "outputs": [],
   "source": [
    "#hide\n",
    "#delete problematic countries from table\n",
    "df_table = df_table[~df_table['Country/Region'].isin(['Cape Verde', 'Cruise Ship', 'Kosovo'])]"
   ]
  },
  {
   "cell_type": "code",
   "execution_count": 17,
   "id": "related-center",
   "metadata": {
    "execution": {
     "iopub.execute_input": "2022-10-22T12:19:17.285462Z",
     "iopub.status.busy": "2022-10-22T12:19:17.284654Z",
     "iopub.status.idle": "2022-10-22T12:19:17.286327Z",
     "shell.execute_reply": "2022-10-22T12:19:17.286981Z"
    },
    "papermill": {
     "duration": 0.059534,
     "end_time": "2022-10-22T12:19:17.287135",
     "exception": false,
     "start_time": "2022-10-22T12:19:17.227601",
     "status": "completed"
    },
    "tags": []
   },
   "outputs": [],
   "source": [
    "#hide\n",
    "metrics = [df_table.columns[index] for index in [1,2,5,6]]\n",
    "# s_china = df_table[df_table['Country/Region'].eq('China')][metrics].sum().add_prefix('China ')\n",
    "s_us = df_table[df_table['Country/Region'].eq('US')][metrics].sum().add_prefix('US ')\n",
    "s_eu = df_table[df_table['Continent'].eq('Europe')][metrics].sum().add_prefix('EU ')\n",
    "s_ind = df_table[df_table['Country/Region'].eq('India')][metrics].sum().add_prefix('India ')\n",
    "summary = {'updated': pd.to_datetime(dt_today), 'since': pd.to_datetime(dt_yday)}\n",
    "summary = {'updated': pd.to_datetime(dt_today), 'since': pd.to_datetime(dt_yday)}\n",
    "summary = {**summary, **df_table[metrics].sum(), **s_ind, **s_us, **s_eu}"
   ]
  },
  {
   "cell_type": "code",
   "execution_count": 18,
   "id": "engaging-syndrome",
   "metadata": {
    "execution": {
     "iopub.execute_input": "2022-10-22T12:19:17.367813Z",
     "iopub.status.busy": "2022-10-22T12:19:17.367033Z",
     "iopub.status.idle": "2022-10-22T12:19:17.392705Z",
     "shell.execute_reply": "2022-10-22T12:19:17.392120Z"
    },
    "papermill": {
     "duration": 0.068971,
     "end_time": "2022-10-22T12:19:17.392849",
     "exception": false,
     "start_time": "2022-10-22T12:19:17.323878",
     "status": "completed"
    },
    "tags": []
   },
   "outputs": [],
   "source": [
    "#hide\n",
    "dft_ct_new_cases = dft_cases.groupby(COL_REGION)[dt_cols].sum().diff(axis=1).fillna(0).astype(int)"
   ]
  },
  {
   "cell_type": "code",
   "execution_count": 19,
   "id": "neutral-assignment",
   "metadata": {
    "execution": {
     "iopub.execute_input": "2022-10-22T12:19:17.471848Z",
     "iopub.status.busy": "2022-10-22T12:19:17.471149Z",
     "iopub.status.idle": "2022-10-22T12:19:17.474347Z",
     "shell.execute_reply": "2022-10-22T12:19:17.473731Z"
    },
    "papermill": {
     "duration": 0.046184,
     "end_time": "2022-10-22T12:19:17.474617",
     "exception": false,
     "start_time": "2022-10-22T12:19:17.428433",
     "status": "completed"
    },
    "tags": []
   },
   "outputs": [],
   "source": [
    "#hide\n",
    "everydaycases = dft_ct_new_cases.cumsum(axis=1)"
   ]
  },
  {
   "cell_type": "code",
   "execution_count": 20,
   "id": "parliamentary-calgary",
   "metadata": {
    "execution": {
     "iopub.execute_input": "2022-10-22T12:19:17.551742Z",
     "iopub.status.busy": "2022-10-22T12:19:17.550822Z",
     "iopub.status.idle": "2022-10-22T12:19:18.241057Z",
     "shell.execute_reply": "2022-10-22T12:19:18.240399Z"
    },
    "papermill": {
     "duration": 0.731159,
     "end_time": "2022-10-22T12:19:18.241217",
     "exception": false,
     "start_time": "2022-10-22T12:19:17.510058",
     "status": "completed"
    },
    "tags": []
   },
   "outputs": [],
   "source": [
    "#hide\n",
    "import pandas as pd\n",
    "import matplotlib.pyplot as plt\n",
    "import matplotlib.ticker as ticker\n",
    "import matplotlib.animation as animation\n",
    "from IPython.display import HTML"
   ]
  },
  {
   "cell_type": "code",
   "execution_count": 21,
   "id": "lasting-extraction",
   "metadata": {
    "execution": {
     "iopub.execute_input": "2022-10-22T12:19:18.322626Z",
     "iopub.status.busy": "2022-10-22T12:19:18.321813Z",
     "iopub.status.idle": "2022-10-22T12:19:18.330364Z",
     "shell.execute_reply": "2022-10-22T12:19:18.329762Z"
    },
    "papermill": {
     "duration": 0.051649,
     "end_time": "2022-10-22T12:19:18.330502",
     "exception": false,
     "start_time": "2022-10-22T12:19:18.278853",
     "status": "completed"
    },
    "tags": []
   },
   "outputs": [],
   "source": [
    "#hide\n",
    "t = everydaycases.stack()"
   ]
  },
  {
   "cell_type": "code",
   "execution_count": 22,
   "id": "premier-sleeve",
   "metadata": {
    "execution": {
     "iopub.execute_input": "2022-10-22T12:19:18.406688Z",
     "iopub.status.busy": "2022-10-22T12:19:18.405946Z",
     "iopub.status.idle": "2022-10-22T12:19:18.420360Z",
     "shell.execute_reply": "2022-10-22T12:19:18.420918Z"
    },
    "papermill": {
     "duration": 0.055079,
     "end_time": "2022-10-22T12:19:18.421076",
     "exception": false,
     "start_time": "2022-10-22T12:19:18.365997",
     "status": "completed"
    },
    "tags": []
   },
   "outputs": [],
   "source": [
    "#hide\n",
    "g = t.reset_index(['Country/Region'])"
   ]
  },
  {
   "cell_type": "code",
   "execution_count": 23,
   "id": "distributed-pittsburgh",
   "metadata": {
    "execution": {
     "iopub.execute_input": "2022-10-22T12:19:18.497206Z",
     "iopub.status.busy": "2022-10-22T12:19:18.496358Z",
     "iopub.status.idle": "2022-10-22T12:19:18.498352Z",
     "shell.execute_reply": "2022-10-22T12:19:18.499113Z"
    },
    "papermill": {
     "duration": 0.042934,
     "end_time": "2022-10-22T12:19:18.499283",
     "exception": false,
     "start_time": "2022-10-22T12:19:18.456349",
     "status": "completed"
    },
    "tags": []
   },
   "outputs": [],
   "source": [
    "#hide\n",
    "g.index.name = 'date'"
   ]
  },
  {
   "cell_type": "code",
   "execution_count": 24,
   "id": "naked-donor",
   "metadata": {
    "execution": {
     "iopub.execute_input": "2022-10-22T12:19:18.575342Z",
     "iopub.status.busy": "2022-10-22T12:19:18.574635Z",
     "iopub.status.idle": "2022-10-22T12:19:18.577592Z",
     "shell.execute_reply": "2022-10-22T12:19:18.577050Z"
    },
    "papermill": {
     "duration": 0.042523,
     "end_time": "2022-10-22T12:19:18.577714",
     "exception": false,
     "start_time": "2022-10-22T12:19:18.535191",
     "status": "completed"
    },
    "tags": []
   },
   "outputs": [],
   "source": [
    "# #hide\n",
    "# g = g.reset_index(['date'])"
   ]
  },
  {
   "cell_type": "code",
   "execution_count": 25,
   "id": "incomplete-mustang",
   "metadata": {
    "execution": {
     "iopub.execute_input": "2022-10-22T12:19:18.652070Z",
     "iopub.status.busy": "2022-10-22T12:19:18.651400Z",
     "iopub.status.idle": "2022-10-22T12:19:18.655347Z",
     "shell.execute_reply": "2022-10-22T12:19:18.656010Z"
    },
    "papermill": {
     "duration": 0.042927,
     "end_time": "2022-10-22T12:19:18.656158",
     "exception": false,
     "start_time": "2022-10-22T12:19:18.613231",
     "status": "completed"
    },
    "tags": []
   },
   "outputs": [],
   "source": [
    "#hide\n",
    "# g.head()"
   ]
  },
  {
   "cell_type": "code",
   "execution_count": 26,
   "id": "specific-kruger",
   "metadata": {
    "execution": {
     "iopub.execute_input": "2022-10-22T12:19:18.732313Z",
     "iopub.status.busy": "2022-10-22T12:19:18.731469Z",
     "iopub.status.idle": "2022-10-22T12:19:18.733302Z",
     "shell.execute_reply": "2022-10-22T12:19:18.734040Z"
    },
    "papermill": {
     "duration": 0.042512,
     "end_time": "2022-10-22T12:19:18.734209",
     "exception": false,
     "start_time": "2022-10-22T12:19:18.691697",
     "status": "completed"
    },
    "tags": []
   },
   "outputs": [],
   "source": [
    "#hide\n",
    "# g.columns = ['date','country','cases']"
   ]
  },
  {
   "cell_type": "code",
   "execution_count": 27,
   "id": "tender-conversion",
   "metadata": {
    "execution": {
     "iopub.execute_input": "2022-10-22T12:19:18.811315Z",
     "iopub.status.busy": "2022-10-22T12:19:18.810485Z",
     "iopub.status.idle": "2022-10-22T12:19:18.814207Z",
     "shell.execute_reply": "2022-10-22T12:19:18.813422Z"
    },
    "papermill": {
     "duration": 0.043971,
     "end_time": "2022-10-22T12:19:18.814389",
     "exception": false,
     "start_time": "2022-10-22T12:19:18.770418",
     "status": "completed"
    },
    "tags": []
   },
   "outputs": [],
   "source": [
    "#hide\n",
    "# g['continent'] = g.country"
   ]
  },
  {
   "cell_type": "code",
   "execution_count": 28,
   "id": "substantial-wilderness",
   "metadata": {
    "execution": {
     "iopub.execute_input": "2022-10-22T12:19:18.891743Z",
     "iopub.status.busy": "2022-10-22T12:19:18.891034Z",
     "iopub.status.idle": "2022-10-22T12:19:18.895061Z",
     "shell.execute_reply": "2022-10-22T12:19:18.895569Z"
    },
    "papermill": {
     "duration": 0.045573,
     "end_time": "2022-10-22T12:19:18.895720",
     "exception": false,
     "start_time": "2022-10-22T12:19:18.850147",
     "status": "completed"
    },
    "tags": []
   },
   "outputs": [],
   "source": [
    "#hide\n",
    "# cols = list(g.columns.values)"
   ]
  },
  {
   "cell_type": "code",
   "execution_count": 29,
   "id": "solved-farming",
   "metadata": {
    "execution": {
     "iopub.execute_input": "2022-10-22T12:19:18.971245Z",
     "iopub.status.busy": "2022-10-22T12:19:18.970390Z",
     "iopub.status.idle": "2022-10-22T12:19:18.972297Z",
     "shell.execute_reply": "2022-10-22T12:19:18.972850Z"
    },
    "papermill": {
     "duration": 0.042169,
     "end_time": "2022-10-22T12:19:18.972990",
     "exception": false,
     "start_time": "2022-10-22T12:19:18.930821",
     "status": "completed"
    },
    "tags": []
   },
   "outputs": [],
   "source": [
    "#hide\n",
    "# cols.insert(0, cols.pop())"
   ]
  },
  {
   "cell_type": "code",
   "execution_count": 30,
   "id": "executed-adoption",
   "metadata": {
    "execution": {
     "iopub.execute_input": "2022-10-22T12:19:19.050546Z",
     "iopub.status.busy": "2022-10-22T12:19:19.049546Z",
     "iopub.status.idle": "2022-10-22T12:19:19.054002Z",
     "shell.execute_reply": "2022-10-22T12:19:19.053309Z"
    },
    "papermill": {
     "duration": 0.045571,
     "end_time": "2022-10-22T12:19:19.054144",
     "exception": false,
     "start_time": "2022-10-22T12:19:19.008573",
     "status": "completed"
    },
    "tags": []
   },
   "outputs": [],
   "source": [
    "#hide\n",
    "# g = g[cols]"
   ]
  },
  {
   "cell_type": "code",
   "execution_count": 31,
   "id": "subject-dublin",
   "metadata": {
    "execution": {
     "iopub.execute_input": "2022-10-22T12:19:19.131342Z",
     "iopub.status.busy": "2022-10-22T12:19:19.130626Z",
     "iopub.status.idle": "2022-10-22T12:19:19.133954Z",
     "shell.execute_reply": "2022-10-22T12:19:19.133401Z"
    },
    "papermill": {
     "duration": 0.042909,
     "end_time": "2022-10-22T12:19:19.134080",
     "exception": false,
     "start_time": "2022-10-22T12:19:19.091171",
     "status": "completed"
    },
    "tags": []
   },
   "outputs": [],
   "source": [
    "#hide\n",
    "# g['continent'] = g['continent'].map(mapping['map.continent'])"
   ]
  },
  {
   "cell_type": "code",
   "execution_count": 32,
   "id": "freelance-scout",
   "metadata": {
    "execution": {
     "iopub.execute_input": "2022-10-22T12:19:19.210970Z",
     "iopub.status.busy": "2022-10-22T12:19:19.210259Z",
     "iopub.status.idle": "2022-10-22T12:19:19.213304Z",
     "shell.execute_reply": "2022-10-22T12:19:19.212752Z"
    },
    "papermill": {
     "duration": 0.043419,
     "end_time": "2022-10-22T12:19:19.213431",
     "exception": false,
     "start_time": "2022-10-22T12:19:19.170012",
     "status": "completed"
    },
    "tags": []
   },
   "outputs": [],
   "source": [
    "#hide\n",
    "# g.head()"
   ]
  },
  {
   "cell_type": "code",
   "execution_count": 33,
   "id": "limited-engine",
   "metadata": {
    "execution": {
     "iopub.execute_input": "2022-10-22T12:19:19.289726Z",
     "iopub.status.busy": "2022-10-22T12:19:19.289020Z",
     "iopub.status.idle": "2022-10-22T12:19:19.293213Z",
     "shell.execute_reply": "2022-10-22T12:19:19.293708Z"
    },
    "papermill": {
     "duration": 0.045072,
     "end_time": "2022-10-22T12:19:19.293859",
     "exception": false,
     "start_time": "2022-10-22T12:19:19.248787",
     "status": "completed"
    },
    "tags": []
   },
   "outputs": [],
   "source": [
    "# hide\n",
    "# g['date'] = g['date'].astype('datetime64[ns]')"
   ]
  },
  {
   "cell_type": "code",
   "execution_count": 34,
   "id": "sophisticated-supervisor",
   "metadata": {
    "execution": {
     "iopub.execute_input": "2022-10-22T12:19:19.371492Z",
     "iopub.status.busy": "2022-10-22T12:19:19.370765Z",
     "iopub.status.idle": "2022-10-22T12:19:19.372842Z",
     "shell.execute_reply": "2022-10-22T12:19:19.372217Z"
    },
    "papermill": {
     "duration": 0.042929,
     "end_time": "2022-10-22T12:19:19.372966",
     "exception": false,
     "start_time": "2022-10-22T12:19:19.330037",
     "status": "completed"
    },
    "tags": []
   },
   "outputs": [],
   "source": [
    "#hide\n",
    "# g['date'] = g.date.dt.dayofyear"
   ]
  },
  {
   "cell_type": "code",
   "execution_count": 35,
   "id": "inside-dubai",
   "metadata": {
    "execution": {
     "iopub.execute_input": "2022-10-22T12:19:19.449279Z",
     "iopub.status.busy": "2022-10-22T12:19:19.448327Z",
     "iopub.status.idle": "2022-10-22T12:19:19.450433Z",
     "shell.execute_reply": "2022-10-22T12:19:19.451173Z"
    },
    "papermill": {
     "duration": 0.043013,
     "end_time": "2022-10-22T12:19:19.451364",
     "exception": false,
     "start_time": "2022-10-22T12:19:19.408351",
     "status": "completed"
    },
    "tags": []
   },
   "outputs": [],
   "source": [
    "#hide\n",
    "# g = g.rename(columns= {'continent':'group','country':'name','cases':'value'})"
   ]
  },
  {
   "cell_type": "code",
   "execution_count": 36,
   "id": "fleet-motorcycle",
   "metadata": {
    "execution": {
     "iopub.execute_input": "2022-10-22T12:19:19.539031Z",
     "iopub.status.busy": "2022-10-22T12:19:19.538318Z",
     "iopub.status.idle": "2022-10-22T12:19:19.543015Z",
     "shell.execute_reply": "2022-10-22T12:19:19.542491Z"
    },
    "papermill": {
     "duration": 0.055199,
     "end_time": "2022-10-22T12:19:19.543148",
     "exception": false,
     "start_time": "2022-10-22T12:19:19.487949",
     "status": "completed"
    },
    "tags": []
   },
   "outputs": [],
   "source": [
    "#hide\n",
    "# cols = ['name','group','day','value']"
   ]
  },
  {
   "cell_type": "code",
   "execution_count": 37,
   "id": "continued-sleeping",
   "metadata": {
    "execution": {
     "iopub.execute_input": "2022-10-22T12:19:19.620308Z",
     "iopub.status.busy": "2022-10-22T12:19:19.619623Z",
     "iopub.status.idle": "2022-10-22T12:19:19.624578Z",
     "shell.execute_reply": "2022-10-22T12:19:19.623839Z"
    },
    "papermill": {
     "duration": 0.044881,
     "end_time": "2022-10-22T12:19:19.624725",
     "exception": false,
     "start_time": "2022-10-22T12:19:19.579844",
     "status": "completed"
    },
    "tags": []
   },
   "outputs": [],
   "source": [
    "#hide\n",
    "# g.rename(columns= {'date':'day'},inplace = True)"
   ]
  },
  {
   "cell_type": "code",
   "execution_count": 38,
   "id": "major-fight",
   "metadata": {
    "execution": {
     "iopub.execute_input": "2022-10-22T12:19:19.702163Z",
     "iopub.status.busy": "2022-10-22T12:19:19.701289Z",
     "iopub.status.idle": "2022-10-22T12:19:19.706298Z",
     "shell.execute_reply": "2022-10-22T12:19:19.705647Z"
    },
    "papermill": {
     "duration": 0.044471,
     "end_time": "2022-10-22T12:19:19.706455",
     "exception": false,
     "start_time": "2022-10-22T12:19:19.661984",
     "status": "completed"
    },
    "tags": []
   },
   "outputs": [],
   "source": [
    "#hide\n",
    "# g = g[cols]"
   ]
  },
  {
   "cell_type": "code",
   "execution_count": 39,
   "id": "structured-mobile",
   "metadata": {
    "execution": {
     "iopub.execute_input": "2022-10-22T12:19:19.786122Z",
     "iopub.status.busy": "2022-10-22T12:19:19.785299Z",
     "iopub.status.idle": "2022-10-22T12:19:19.789207Z",
     "shell.execute_reply": "2022-10-22T12:19:19.789760Z"
    },
    "papermill": {
     "duration": 0.043391,
     "end_time": "2022-10-22T12:19:19.789908",
     "exception": false,
     "start_time": "2022-10-22T12:19:19.746517",
     "status": "completed"
    },
    "tags": []
   },
   "outputs": [],
   "source": [
    "# #hide\n",
    "# g = g[g.group.notna()]"
   ]
  },
  {
   "cell_type": "code",
   "execution_count": 40,
   "id": "determined-closing",
   "metadata": {
    "execution": {
     "iopub.execute_input": "2022-10-22T12:19:19.868390Z",
     "iopub.status.busy": "2022-10-22T12:19:19.867430Z",
     "iopub.status.idle": "2022-10-22T12:19:19.869416Z",
     "shell.execute_reply": "2022-10-22T12:19:19.870052Z"
    },
    "papermill": {
     "duration": 0.043329,
     "end_time": "2022-10-22T12:19:19.870199",
     "exception": false,
     "start_time": "2022-10-22T12:19:19.826870",
     "status": "completed"
    },
    "tags": []
   },
   "outputs": [],
   "source": [
    "# #hide\n",
    "# colors = dict(zip(\n",
    "#     [\"Oceania\", \"Europe\", \"Asia\", \"South America\", \"Middle East\", \"North America\", \"Africa\"],\n",
    "#     [\"#adb0ff\", \"#ffb3ff\", \"#90d595\", \"#e48381\", \"#aafbff\", \"#f7bb5f\", \"#eafb50\"]\n",
    "# ))\n",
    "# group_lk = g.set_index('name')['group'].to_dict()"
   ]
  },
  {
   "cell_type": "code",
   "execution_count": null,
   "id": "gross-drinking",
   "metadata": {
    "papermill": {
     "duration": 0.036393,
     "end_time": "2022-10-22T12:19:19.941631",
     "exception": false,
     "start_time": "2022-10-22T12:19:19.905238",
     "status": "completed"
    },
    "tags": []
   },
   "outputs": [],
   "source": []
  },
  {
   "cell_type": "code",
   "execution_count": 41,
   "id": "subject-macintosh",
   "metadata": {
    "execution": {
     "iopub.execute_input": "2022-10-22T12:19:20.018284Z",
     "iopub.status.busy": "2022-10-22T12:19:20.017509Z",
     "iopub.status.idle": "2022-10-22T12:19:20.020434Z",
     "shell.execute_reply": "2022-10-22T12:19:20.019875Z"
    },
    "papermill": {
     "duration": 0.043568,
     "end_time": "2022-10-22T12:19:20.020562",
     "exception": false,
     "start_time": "2022-10-22T12:19:19.976994",
     "status": "completed"
    },
    "tags": []
   },
   "outputs": [],
   "source": [
    "# #hide\n",
    "# fig, ax = plt.subplots(figsize=(15, 8))\n",
    "\n",
    "# def draw_barchart(current_day):\n",
    "#     dff = g[g['day'].eq(current_day)].sort_values(by='value', ascending=True).tail(10)\n",
    "#     ax.clear()\n",
    "#     ax.barh(dff['name'], dff['value'], color=[colors[group_lk[x]] for x in dff['name']])\n",
    "#     dx = dff['value'].max() / 200\n",
    "    \n",
    "#     for i, (value, name) in enumerate(zip(dff['value'], dff['name'])):\n",
    "#         ax.text(value-dx, i,     name,           size=14, weight=600, ha='right', va='bottom')\n",
    "#         ax.text(value-dx, i-.25, group_lk[name], size=10, color='#444444', ha='right', va='baseline')\n",
    "#         ax.text(value+dx, i,     f'{value:,.0f}',  size=14, ha='left',  va='center')\n",
    "#     ax.text(1, 0.4, current_day, transform=ax.transAxes, color='#777777', size=46, ha='right', weight=800)\n",
    "#     ax.text(0, 1.06, 'Population (thousands)', transform=ax.transAxes, size=12, color='#777777')\n",
    "#     ax.xaxis.set_major_formatter(ticker.StrMethodFormatter('{x:,.0f}'))\n",
    "#     ax.xaxis.set_ticks_position('top')\n",
    "#     ax.tick_params(axis='x', colors='#777777', labelsize=12)\n",
    "#     ax.set_yticks([])\n",
    "#     ax.margins(0, 0.01)\n",
    "#     ax.grid(which='major', axis='x', linestyle='-')\n",
    "#     ax.set_axisbelow(True)\n",
    "    \n",
    "#     ax.text(0, 1.15, 'Coronavirus',\n",
    "#             transform=ax.transAxes, size=24, weight=600, ha='left', va='top')\n",
    "# #     ax.text(1, 0, 'by @pratapvardhan; credit @jburnmurdoch', transform=ax.transAxes, color='#777777', ha='right',\n",
    "# #             bbox=dict(facecolor='white', alpha=0.8, edgecolor='white'))\n",
    "#     plt.box(False)"
   ]
  },
  {
   "cell_type": "code",
   "execution_count": 42,
   "id": "sexual-wages",
   "metadata": {
    "execution": {
     "iopub.execute_input": "2022-10-22T12:19:20.099418Z",
     "iopub.status.busy": "2022-10-22T12:19:20.098574Z",
     "iopub.status.idle": "2022-10-22T12:19:20.103423Z",
     "shell.execute_reply": "2022-10-22T12:19:20.102851Z"
    },
    "papermill": {
     "duration": 0.046803,
     "end_time": "2022-10-22T12:19:20.103554",
     "exception": false,
     "start_time": "2022-10-22T12:19:20.056751",
     "status": "completed"
    },
    "tags": []
   },
   "outputs": [],
   "source": [
    "# #hide_input\n",
    "# fig, ax = plt.subplots(figsize=(15, 8))\n",
    "# animator = animation.FuncAnimation(fig, draw_barchart, frames=range(g.day.values.min(), g.day.values.max()))\n",
    "# HTML(animator.to_jshtml())\n",
    "# # or use animator.to_html5_video() or animator.save() "
   ]
  },
  {
   "cell_type": "code",
   "execution_count": null,
   "id": "australian-container",
   "metadata": {
    "papermill": {
     "duration": 0.038644,
     "end_time": "2022-10-22T12:19:20.179411",
     "exception": false,
     "start_time": "2022-10-22T12:19:20.140767",
     "status": "completed"
    },
    "tags": []
   },
   "outputs": [],
   "source": []
  },
  {
   "cell_type": "code",
   "execution_count": null,
   "id": "mediterranean-pontiac",
   "metadata": {
    "papermill": {
     "duration": 0.035141,
     "end_time": "2022-10-22T12:19:20.257915",
     "exception": false,
     "start_time": "2022-10-22T12:19:20.222774",
     "status": "completed"
    },
    "tags": []
   },
   "outputs": [],
   "source": []
  },
  {
   "cell_type": "code",
   "execution_count": null,
   "id": "aging-legislature",
   "metadata": {
    "papermill": {
     "duration": 0.035994,
     "end_time": "2022-10-22T12:19:20.329871",
     "exception": false,
     "start_time": "2022-10-22T12:19:20.293877",
     "status": "completed"
    },
    "tags": []
   },
   "outputs": [],
   "source": []
  }
 ],
 "metadata": {
  "kernelspec": {
   "display_name": "Python 3",
   "language": "python",
   "name": "python3"
  },
  "language_info": {
   "codemirror_mode": {
    "name": "ipython",
    "version": 3
   },
   "file_extension": ".py",
   "mimetype": "text/x-python",
   "name": "python",
   "nbconvert_exporter": "python",
   "pygments_lexer": "ipython3",
   "version": "3.6.15"
  },
  "papermill": {
   "duration": 7.392509,
   "end_time": "2022-10-22T12:19:20.785641",
   "environment_variables": {},
   "exception": null,
   "input_path": "2020-03-21-covid19exp.ipynb",
   "output_path": "2020-03-21-covid19exp.ipynb",
   "parameters": {},
   "start_time": "2022-10-22T12:19:13.393132",
   "version": "2.0.0"
  }
 },
 "nbformat": 4,
 "nbformat_minor": 5
}