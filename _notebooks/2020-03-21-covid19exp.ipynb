{
 "cells": [
  {
   "cell_type": "markdown",
   "id": "muslim-click",
   "metadata": {
    "papermill": {
     "duration": 0.044224,
     "end_time": "2022-06-28T12:18:07.244278",
     "exception": false,
     "start_time": "2022-06-28T12:18:07.200054",
     "status": "completed"
    },
    "tags": []
   },
   "source": [
    "# COVID-19 Case Race\n",
    "> A race chart to see rising cases around the world\n",
    "\n",
    "- author: Hargun Oberoi\n",
    "- image: images/covid-overview.png\n",
    "- hide: false\n",
    "- badges: false"
   ]
  },
  {
   "cell_type": "code",
   "execution_count": 1,
   "id": "proof-material",
   "metadata": {
    "execution": {
     "iopub.execute_input": "2022-06-28T12:18:07.335445Z",
     "iopub.status.busy": "2022-06-28T12:18:07.334641Z",
     "iopub.status.idle": "2022-06-28T12:18:07.748693Z",
     "shell.execute_reply": "2022-06-28T12:18:07.747010Z"
    },
    "papermill": {
     "duration": 0.464076,
     "end_time": "2022-06-28T12:18:07.748892",
     "exception": false,
     "start_time": "2022-06-28T12:18:07.284816",
     "status": "completed"
    },
    "tags": []
   },
   "outputs": [],
   "source": [
    "#hide\n",
    "import numpy as np\n",
    "import pandas as pd\n",
    "from jinja2 import Template\n",
    "from IPython.display import HTML"
   ]
  },
  {
   "cell_type": "code",
   "execution_count": 2,
   "id": "developed-terminology",
   "metadata": {
    "execution": {
     "iopub.execute_input": "2022-06-28T12:18:07.849178Z",
     "iopub.status.busy": "2022-06-28T12:18:07.848399Z",
     "iopub.status.idle": "2022-06-28T12:18:07.850840Z",
     "shell.execute_reply": "2022-06-28T12:18:07.851432Z"
    },
    "papermill": {
     "duration": 0.052086,
     "end_time": "2022-06-28T12:18:07.851601",
     "exception": false,
     "start_time": "2022-06-28T12:18:07.799515",
     "status": "completed"
    },
    "tags": []
   },
   "outputs": [],
   "source": [
    "#hide\n",
    "\n",
    "# FETCH\n",
    "base_url = 'https://raw.githubusercontent.com/pratapvardhan/notebooks/master/covid19/'\n",
    "paths = {\n",
    "    'mapping': base_url + 'mapping_countries.csv',\n",
    "    'overview': base_url + 'overview.tpl'\n",
    "}"
   ]
  },
  {
   "cell_type": "code",
   "execution_count": 3,
   "id": "dynamic-saver",
   "metadata": {
    "execution": {
     "iopub.execute_input": "2022-06-28T12:18:07.941910Z",
     "iopub.status.busy": "2022-06-28T12:18:07.941078Z",
     "iopub.status.idle": "2022-06-28T12:18:07.945072Z",
     "shell.execute_reply": "2022-06-28T12:18:07.945726Z"
    },
    "papermill": {
     "duration": 0.055135,
     "end_time": "2022-06-28T12:18:07.945898",
     "exception": false,
     "start_time": "2022-06-28T12:18:07.890763",
     "status": "completed"
    },
    "tags": []
   },
   "outputs": [
    {
     "data": {
      "text/plain": [
       "'https://raw.githubusercontent.com/pratapvardhan/notebooks/master/covid19/mapping_countries.csv'"
      ]
     },
     "execution_count": 3,
     "metadata": {},
     "output_type": "execute_result"
    }
   ],
   "source": [
    "#hide\n",
    "paths['mapping']"
   ]
  },
  {
   "cell_type": "code",
   "execution_count": 4,
   "id": "urban-software",
   "metadata": {
    "execution": {
     "iopub.execute_input": "2022-06-28T12:18:08.032241Z",
     "iopub.status.busy": "2022-06-28T12:18:08.031472Z",
     "iopub.status.idle": "2022-06-28T12:18:08.033668Z",
     "shell.execute_reply": "2022-06-28T12:18:08.034377Z"
    },
    "papermill": {
     "duration": 0.04902,
     "end_time": "2022-06-28T12:18:08.034536",
     "exception": false,
     "start_time": "2022-06-28T12:18:07.985516",
     "status": "completed"
    },
    "tags": []
   },
   "outputs": [],
   "source": [
    "#hide\n",
    "def get_mappings(url):\n",
    "    df = pd.read_csv(url)\n",
    "    return {\n",
    "        'df': df,\n",
    "        'replace.country': dict(df.dropna(subset=['Name']).set_index('Country')['Name']),\n",
    "        'map.continent': dict(df.set_index('Name')['Continent'])\n",
    "    }"
   ]
  },
  {
   "cell_type": "code",
   "execution_count": 5,
   "id": "intimate-machinery",
   "metadata": {
    "execution": {
     "iopub.execute_input": "2022-06-28T12:18:08.121575Z",
     "iopub.status.busy": "2022-06-28T12:18:08.120766Z",
     "iopub.status.idle": "2022-06-28T12:18:08.152688Z",
     "shell.execute_reply": "2022-06-28T12:18:08.152017Z"
    },
    "papermill": {
     "duration": 0.078283,
     "end_time": "2022-06-28T12:18:08.152844",
     "exception": false,
     "start_time": "2022-06-28T12:18:08.074561",
     "status": "completed"
    },
    "tags": []
   },
   "outputs": [],
   "source": [
    "#hide\n",
    "mapping = get_mappings(paths['mapping'])"
   ]
  },
  {
   "cell_type": "code",
   "execution_count": 6,
   "id": "certified-tactics",
   "metadata": {
    "execution": {
     "iopub.execute_input": "2022-06-28T12:18:08.242718Z",
     "iopub.status.busy": "2022-06-28T12:18:08.241961Z",
     "iopub.status.idle": "2022-06-28T12:18:08.246805Z",
     "shell.execute_reply": "2022-06-28T12:18:08.246198Z"
    },
    "papermill": {
     "duration": 0.051705,
     "end_time": "2022-06-28T12:18:08.246939",
     "exception": false,
     "start_time": "2022-06-28T12:18:08.195234",
     "status": "completed"
    },
    "tags": []
   },
   "outputs": [],
   "source": [
    "#hide\n",
    "def get_template(path):\n",
    "    from urllib.parse import urlparse\n",
    "    if bool(urlparse(path).netloc):\n",
    "        from urllib.request import urlopen\n",
    "        return urlopen(path).read().decode('utf8')\n",
    "    return open(path).read()"
   ]
  },
  {
   "cell_type": "code",
   "execution_count": 7,
   "id": "realistic-blast",
   "metadata": {
    "execution": {
     "iopub.execute_input": "2022-06-28T12:18:08.333662Z",
     "iopub.status.busy": "2022-06-28T12:18:08.332603Z",
     "iopub.status.idle": "2022-06-28T12:18:08.339645Z",
     "shell.execute_reply": "2022-06-28T12:18:08.340570Z"
    },
    "papermill": {
     "duration": 0.054948,
     "end_time": "2022-06-28T12:18:08.340742",
     "exception": false,
     "start_time": "2022-06-28T12:18:08.285794",
     "status": "completed"
    },
    "tags": []
   },
   "outputs": [],
   "source": [
    "#hide\n",
    "def get_frame(name):\n",
    "    url = (\n",
    "        'https://raw.githubusercontent.com/CSSEGISandData/COVID-19/master/csse_covid_19_data/'\n",
    "        f'csse_covid_19_time_series/time_series_covid19_{name}_global.csv')\n",
    "    df = pd.read_csv(url)\n",
    "    # rename countries\n",
    "    df['Country/Region'] = df['Country/Region'].replace(mapping['replace.country'])\n",
    "    return df"
   ]
  },
  {
   "cell_type": "code",
   "execution_count": 8,
   "id": "affiliated-characterization",
   "metadata": {
    "execution": {
     "iopub.execute_input": "2022-06-28T12:18:08.429099Z",
     "iopub.status.busy": "2022-06-28T12:18:08.428321Z",
     "iopub.status.idle": "2022-06-28T12:18:08.431501Z",
     "shell.execute_reply": "2022-06-28T12:18:08.430867Z"
    },
    "papermill": {
     "duration": 0.050492,
     "end_time": "2022-06-28T12:18:08.431645",
     "exception": false,
     "start_time": "2022-06-28T12:18:08.381153",
     "status": "completed"
    },
    "tags": []
   },
   "outputs": [],
   "source": [
    "#hide\n",
    "def get_dates(df):\n",
    "    dt_cols = df.columns[~df.columns.isin(['Province/State', 'Country/Region', 'Lat', 'Long'])]\n",
    "    LAST_DATE_I = -1\n",
    "    # sometimes last column may be empty, then go backwards\n",
    "    for i in range(-1, -len(dt_cols), -1):\n",
    "        if not df[dt_cols[i]].fillna(0).eq(0).all():\n",
    "            LAST_DATE_I = i\n",
    "            break\n",
    "    return LAST_DATE_I, dt_cols"
   ]
  },
  {
   "cell_type": "code",
   "execution_count": 9,
   "id": "recent-optimization",
   "metadata": {
    "execution": {
     "iopub.execute_input": "2022-06-28T12:18:08.519297Z",
     "iopub.status.busy": "2022-06-28T12:18:08.518528Z",
     "iopub.status.idle": "2022-06-28T12:18:08.962688Z",
     "shell.execute_reply": "2022-06-28T12:18:08.962044Z"
    },
    "papermill": {
     "duration": 0.49113,
     "end_time": "2022-06-28T12:18:08.962853",
     "exception": false,
     "start_time": "2022-06-28T12:18:08.471723",
     "status": "completed"
    },
    "tags": []
   },
   "outputs": [],
   "source": [
    "#hide\n",
    "COL_REGION = 'Country/Region'\n",
    "# Confirmed, Recovered, Deaths\n",
    "df = get_frame('confirmed')\n",
    "# dft_: timeseries, dfc_: today country agg\n",
    "dft_cases = df\n",
    "dft_deaths = get_frame('deaths')\n",
    "dft_recovered = get_frame('recovered')\n",
    "LAST_DATE_I, dt_cols = get_dates(df)"
   ]
  },
  {
   "cell_type": "code",
   "execution_count": 10,
   "id": "absolute-copper",
   "metadata": {
    "execution": {
     "iopub.execute_input": "2022-06-28T12:18:09.051449Z",
     "iopub.status.busy": "2022-06-28T12:18:09.050691Z",
     "iopub.status.idle": "2022-06-28T12:18:09.055934Z",
     "shell.execute_reply": "2022-06-28T12:18:09.054962Z"
    },
    "papermill": {
     "duration": 0.052651,
     "end_time": "2022-06-28T12:18:09.056087",
     "exception": false,
     "start_time": "2022-06-28T12:18:09.003436",
     "status": "completed"
    },
    "tags": []
   },
   "outputs": [],
   "source": [
    "#hide\n",
    "LAST_DATE_I, dt_cols = get_dates(df)\n",
    "dt_today =dt_cols[LAST_DATE_I]\n",
    "# dt_5day = dt_cols[LAST_DATE_I - 5]\n",
    "dt_yday = dt_cols[LAST_DATE_I - 1]"
   ]
  },
  {
   "cell_type": "code",
   "execution_count": 11,
   "id": "restricted-sheriff",
   "metadata": {
    "execution": {
     "iopub.execute_input": "2022-06-28T12:18:09.146555Z",
     "iopub.status.busy": "2022-06-28T12:18:09.145020Z",
     "iopub.status.idle": "2022-06-28T12:18:09.155508Z",
     "shell.execute_reply": "2022-06-28T12:18:09.154852Z"
    },
    "papermill": {
     "duration": 0.057897,
     "end_time": "2022-06-28T12:18:09.155662",
     "exception": false,
     "start_time": "2022-06-28T12:18:09.097765",
     "status": "completed"
    },
    "tags": []
   },
   "outputs": [],
   "source": [
    "#hide\n",
    "dfc_cases = dft_cases.groupby(COL_REGION)[dt_today].sum()\n",
    "dfc_deaths = dft_deaths.groupby(COL_REGION)[dt_today].sum()\n",
    "# dfp_cases = dft_cases.groupby(COL_REGION)[dt_5day].sum()\n",
    "# dfp_deaths = dft_deaths.groupby(COL_REGION)[dt_5day].sum()\n",
    "dfp_cases = dft_cases.groupby(COL_REGION)[dt_yday].sum()\n",
    "dfp_deaths = dft_deaths.groupby(COL_REGION)[dt_yday].sum()"
   ]
  },
  {
   "cell_type": "code",
   "execution_count": 12,
   "id": "deluxe-hepatitis",
   "metadata": {
    "execution": {
     "iopub.execute_input": "2022-06-28T12:18:09.244095Z",
     "iopub.status.busy": "2022-06-28T12:18:09.243258Z",
     "iopub.status.idle": "2022-06-28T12:18:09.248854Z",
     "shell.execute_reply": "2022-06-28T12:18:09.249699Z"
    },
    "papermill": {
     "duration": 0.051829,
     "end_time": "2022-06-28T12:18:09.249855",
     "exception": false,
     "start_time": "2022-06-28T12:18:09.198026",
     "status": "completed"
    },
    "tags": []
   },
   "outputs": [],
   "source": [
    "#hide\n",
    "df_table = (pd.DataFrame(dict(Cases = dfc_cases, Deaths = dfc_deaths, PCases = dfp_cases, PDeaths = dfp_deaths))\n",
    "            .sort_values(by = ['Cases','Deaths'], ascending = [False, False])\n",
    "            .reset_index())"
   ]
  },
  {
   "cell_type": "code",
   "execution_count": 13,
   "id": "educational-chancellor",
   "metadata": {
    "execution": {
     "iopub.execute_input": "2022-06-28T12:18:09.355456Z",
     "iopub.status.busy": "2022-06-28T12:18:09.354620Z",
     "iopub.status.idle": "2022-06-28T12:18:09.366394Z",
     "shell.execute_reply": "2022-06-28T12:18:09.367168Z"
    },
    "papermill": {
     "duration": 0.076424,
     "end_time": "2022-06-28T12:18:09.367412",
     "exception": false,
     "start_time": "2022-06-28T12:18:09.290988",
     "status": "completed"
    },
    "tags": []
   },
   "outputs": [
    {
     "data": {
      "text/html": [
       "<div>\n",
       "<style scoped>\n",
       "    .dataframe tbody tr th:only-of-type {\n",
       "        vertical-align: middle;\n",
       "    }\n",
       "\n",
       "    .dataframe tbody tr th {\n",
       "        vertical-align: top;\n",
       "    }\n",
       "\n",
       "    .dataframe thead th {\n",
       "        text-align: right;\n",
       "    }\n",
       "</style>\n",
       "<table border=\"1\" class=\"dataframe\">\n",
       "  <thead>\n",
       "    <tr style=\"text-align: right;\">\n",
       "      <th></th>\n",
       "      <th>Country/Region</th>\n",
       "      <th>Cases</th>\n",
       "      <th>Deaths</th>\n",
       "      <th>PCases</th>\n",
       "      <th>PDeaths</th>\n",
       "      <th>Cases (+)</th>\n",
       "      <th>Deaths (+)</th>\n",
       "      <th>Fatality Rate</th>\n",
       "      <th>Continent</th>\n",
       "    </tr>\n",
       "  </thead>\n",
       "  <tbody>\n",
       "    <tr>\n",
       "      <th>0</th>\n",
       "      <td>US</td>\n",
       "      <td>87092233</td>\n",
       "      <td>1016208</td>\n",
       "      <td>86967399</td>\n",
       "      <td>1015938</td>\n",
       "      <td>124834</td>\n",
       "      <td>270</td>\n",
       "      <td>1.17</td>\n",
       "      <td>North America</td>\n",
       "    </tr>\n",
       "    <tr>\n",
       "      <th>1</th>\n",
       "      <td>India</td>\n",
       "      <td>43418839</td>\n",
       "      <td>525047</td>\n",
       "      <td>43407046</td>\n",
       "      <td>525020</td>\n",
       "      <td>11793</td>\n",
       "      <td>27</td>\n",
       "      <td>1.21</td>\n",
       "      <td>Asia</td>\n",
       "    </tr>\n",
       "    <tr>\n",
       "      <th>2</th>\n",
       "      <td>Brazil</td>\n",
       "      <td>32130316</td>\n",
       "      <td>670532</td>\n",
       "      <td>32023166</td>\n",
       "      <td>670229</td>\n",
       "      <td>107150</td>\n",
       "      <td>303</td>\n",
       "      <td>2.09</td>\n",
       "      <td>South America</td>\n",
       "    </tr>\n",
       "    <tr>\n",
       "      <th>3</th>\n",
       "      <td>France</td>\n",
       "      <td>30879062</td>\n",
       "      <td>150445</td>\n",
       "      <td>30714200</td>\n",
       "      <td>150356</td>\n",
       "      <td>164862</td>\n",
       "      <td>89</td>\n",
       "      <td>0.49</td>\n",
       "      <td>Europe</td>\n",
       "    </tr>\n",
       "    <tr>\n",
       "      <th>4</th>\n",
       "      <td>Germany</td>\n",
       "      <td>27914240</td>\n",
       "      <td>140847</td>\n",
       "      <td>27771911</td>\n",
       "      <td>140734</td>\n",
       "      <td>142329</td>\n",
       "      <td>113</td>\n",
       "      <td>0.50</td>\n",
       "      <td>Europe</td>\n",
       "    </tr>\n",
       "  </tbody>\n",
       "</table>\n",
       "</div>"
      ],
      "text/plain": [
       "  Country/Region     Cases   Deaths    PCases  PDeaths  Cases (+)  Deaths (+)  \\\n",
       "0             US  87092233  1016208  86967399  1015938     124834         270   \n",
       "1          India  43418839   525047  43407046   525020      11793          27   \n",
       "2         Brazil  32130316   670532  32023166   670229     107150         303   \n",
       "3         France  30879062   150445  30714200   150356     164862          89   \n",
       "4        Germany  27914240   140847  27771911   140734     142329         113   \n",
       "\n",
       "   Fatality Rate      Continent  \n",
       "0           1.17  North America  \n",
       "1           1.21           Asia  \n",
       "2           2.09  South America  \n",
       "3           0.49         Europe  \n",
       "4           0.50         Europe  "
      ]
     },
     "execution_count": 13,
     "metadata": {},
     "output_type": "execute_result"
    }
   ],
   "source": [
    "#hide\n",
    "for c in 'Cases, Deaths'.split(', '):\n",
    "    df_table[f'{c} (+)'] = (df_table[c] - df_table[f'P{c}']).clip(0)\n",
    "    #Clip ça veut dire, les chiffres negatif sont interdit\n",
    "df_table['Fatality Rate'] = (100* df_table['Deaths']/ df_table['Cases']).round(2)\n",
    "df_table['Continent'] = df_table['Country/Region'].map(mapping['map.continent'])\n",
    "df_table.head(5)"
   ]
  },
  {
   "cell_type": "code",
   "execution_count": 14,
   "id": "aboriginal-bulgaria",
   "metadata": {
    "execution": {
     "iopub.execute_input": "2022-06-28T12:18:09.459834Z",
     "iopub.status.busy": "2022-06-28T12:18:09.459053Z",
     "iopub.status.idle": "2022-06-28T12:18:09.461574Z",
     "shell.execute_reply": "2022-06-28T12:18:09.462391Z"
    },
    "papermill": {
     "duration": 0.051593,
     "end_time": "2022-06-28T12:18:09.462576",
     "exception": false,
     "start_time": "2022-06-28T12:18:09.410983",
     "status": "completed"
    },
    "tags": []
   },
   "outputs": [],
   "source": [
    "#hide\n",
    "#delete problematic countries from table\n",
    "df_table = df_table[~df_table['Country/Region'].isin(['Cape Verde', 'Cruise Ship', 'Kosovo'])]"
   ]
  },
  {
   "cell_type": "code",
   "execution_count": 15,
   "id": "fantastic-effect",
   "metadata": {
    "execution": {
     "iopub.execute_input": "2022-06-28T12:18:09.557452Z",
     "iopub.status.busy": "2022-06-28T12:18:09.556660Z",
     "iopub.status.idle": "2022-06-28T12:18:09.580583Z",
     "shell.execute_reply": "2022-06-28T12:18:09.579963Z"
    },
    "papermill": {
     "duration": 0.076352,
     "end_time": "2022-06-28T12:18:09.580722",
     "exception": false,
     "start_time": "2022-06-28T12:18:09.504370",
     "status": "completed"
    },
    "tags": []
   },
   "outputs": [
    {
     "data": {
      "text/html": [
       "<div>\n",
       "<style scoped>\n",
       "    .dataframe tbody tr th:only-of-type {\n",
       "        vertical-align: middle;\n",
       "    }\n",
       "\n",
       "    .dataframe tbody tr th {\n",
       "        vertical-align: top;\n",
       "    }\n",
       "\n",
       "    .dataframe thead th {\n",
       "        text-align: right;\n",
       "    }\n",
       "</style>\n",
       "<table border=\"1\" class=\"dataframe\">\n",
       "  <thead>\n",
       "    <tr style=\"text-align: right;\">\n",
       "      <th></th>\n",
       "      <th>Country/Region</th>\n",
       "      <th>Cases</th>\n",
       "      <th>Deaths</th>\n",
       "      <th>PCases</th>\n",
       "      <th>PDeaths</th>\n",
       "      <th>Cases (+)</th>\n",
       "      <th>Deaths (+)</th>\n",
       "      <th>Fatality Rate</th>\n",
       "      <th>Continent</th>\n",
       "    </tr>\n",
       "  </thead>\n",
       "  <tbody>\n",
       "    <tr>\n",
       "      <th>0</th>\n",
       "      <td>US</td>\n",
       "      <td>87092233</td>\n",
       "      <td>1016208</td>\n",
       "      <td>86967399</td>\n",
       "      <td>1015938</td>\n",
       "      <td>124834</td>\n",
       "      <td>270</td>\n",
       "      <td>1.2</td>\n",
       "      <td>North America</td>\n",
       "    </tr>\n",
       "    <tr>\n",
       "      <th>1</th>\n",
       "      <td>India</td>\n",
       "      <td>43418839</td>\n",
       "      <td>525047</td>\n",
       "      <td>43407046</td>\n",
       "      <td>525020</td>\n",
       "      <td>11793</td>\n",
       "      <td>27</td>\n",
       "      <td>1.2</td>\n",
       "      <td>Asia</td>\n",
       "    </tr>\n",
       "    <tr>\n",
       "      <th>2</th>\n",
       "      <td>Brazil</td>\n",
       "      <td>32130316</td>\n",
       "      <td>670532</td>\n",
       "      <td>32023166</td>\n",
       "      <td>670229</td>\n",
       "      <td>107150</td>\n",
       "      <td>303</td>\n",
       "      <td>2.1</td>\n",
       "      <td>South America</td>\n",
       "    </tr>\n",
       "    <tr>\n",
       "      <th>3</th>\n",
       "      <td>France</td>\n",
       "      <td>30879062</td>\n",
       "      <td>150445</td>\n",
       "      <td>30714200</td>\n",
       "      <td>150356</td>\n",
       "      <td>164862</td>\n",
       "      <td>89</td>\n",
       "      <td>0.5</td>\n",
       "      <td>Europe</td>\n",
       "    </tr>\n",
       "    <tr>\n",
       "      <th>4</th>\n",
       "      <td>Germany</td>\n",
       "      <td>27914240</td>\n",
       "      <td>140847</td>\n",
       "      <td>27771911</td>\n",
       "      <td>140734</td>\n",
       "      <td>142329</td>\n",
       "      <td>113</td>\n",
       "      <td>0.5</td>\n",
       "      <td>Europe</td>\n",
       "    </tr>\n",
       "  </tbody>\n",
       "</table>\n",
       "</div>"
      ],
      "text/plain": [
       "  Country/Region     Cases   Deaths    PCases  PDeaths  Cases (+)  Deaths (+)  \\\n",
       "0             US  87092233  1016208  86967399  1015938     124834         270   \n",
       "1          India  43418839   525047  43407046   525020      11793          27   \n",
       "2         Brazil  32130316   670532  32023166   670229     107150         303   \n",
       "3         France  30879062   150445  30714200   150356     164862          89   \n",
       "4        Germany  27914240   140847  27771911   140734     142329         113   \n",
       "\n",
       "   Fatality Rate      Continent  \n",
       "0            1.2  North America  \n",
       "1            1.2           Asia  \n",
       "2            2.1  South America  \n",
       "3            0.5         Europe  \n",
       "4            0.5         Europe  "
      ]
     },
     "execution_count": 15,
     "metadata": {},
     "output_type": "execute_result"
    }
   ],
   "source": [
    "#hide\n",
    "df_table = (pd.DataFrame(dict(Cases=dfc_cases, Deaths=dfc_deaths, PCases=dfp_cases, PDeaths=dfp_deaths))\n",
    "             .sort_values(by=['Cases', 'Deaths'], ascending=[False, False])\n",
    "             .reset_index())\n",
    "df_table.rename(columns={'index': 'Country/Region'}, inplace=True)\n",
    "for c in 'Cases, Deaths'.split(', '):\n",
    "    df_table[f'{c} (+)'] = (df_table[c] - df_table[f'P{c}']).clip(0)  # DATA BUG\n",
    "df_table['Fatality Rate'] = (100 * df_table['Deaths'] / df_table['Cases']).round(1)\n",
    "df_table['Continent'] = df_table['Country/Region'].map(mapping['map.continent'])\n",
    "df_table.head(5)"
   ]
  },
  {
   "cell_type": "code",
   "execution_count": 16,
   "id": "fewer-occasion",
   "metadata": {
    "execution": {
     "iopub.execute_input": "2022-06-28T12:18:09.676783Z",
     "iopub.status.busy": "2022-06-28T12:18:09.675661Z",
     "iopub.status.idle": "2022-06-28T12:18:09.678062Z",
     "shell.execute_reply": "2022-06-28T12:18:09.678970Z"
    },
    "papermill": {
     "duration": 0.055265,
     "end_time": "2022-06-28T12:18:09.679132",
     "exception": false,
     "start_time": "2022-06-28T12:18:09.623867",
     "status": "completed"
    },
    "tags": []
   },
   "outputs": [],
   "source": [
    "#hide\n",
    "#delete problematic countries from table\n",
    "df_table = df_table[~df_table['Country/Region'].isin(['Cape Verde', 'Cruise Ship', 'Kosovo'])]"
   ]
  },
  {
   "cell_type": "code",
   "execution_count": 17,
   "id": "related-center",
   "metadata": {
    "execution": {
     "iopub.execute_input": "2022-06-28T12:18:09.788873Z",
     "iopub.status.busy": "2022-06-28T12:18:09.788049Z",
     "iopub.status.idle": "2022-06-28T12:18:09.791195Z",
     "shell.execute_reply": "2022-06-28T12:18:09.790570Z"
    },
    "papermill": {
     "duration": 0.068864,
     "end_time": "2022-06-28T12:18:09.791339",
     "exception": false,
     "start_time": "2022-06-28T12:18:09.722475",
     "status": "completed"
    },
    "tags": []
   },
   "outputs": [],
   "source": [
    "#hide\n",
    "metrics = [df_table.columns[index] for index in [1,2,5,6]]\n",
    "# s_china = df_table[df_table['Country/Region'].eq('China')][metrics].sum().add_prefix('China ')\n",
    "s_us = df_table[df_table['Country/Region'].eq('US')][metrics].sum().add_prefix('US ')\n",
    "s_eu = df_table[df_table['Continent'].eq('Europe')][metrics].sum().add_prefix('EU ')\n",
    "s_ind = df_table[df_table['Country/Region'].eq('India')][metrics].sum().add_prefix('India ')\n",
    "summary = {'updated': pd.to_datetime(dt_today), 'since': pd.to_datetime(dt_yday)}\n",
    "summary = {'updated': pd.to_datetime(dt_today), 'since': pd.to_datetime(dt_yday)}\n",
    "summary = {**summary, **df_table[metrics].sum(), **s_ind, **s_us, **s_eu}"
   ]
  },
  {
   "cell_type": "code",
   "execution_count": 18,
   "id": "engaging-syndrome",
   "metadata": {
    "execution": {
     "iopub.execute_input": "2022-06-28T12:18:09.883145Z",
     "iopub.status.busy": "2022-06-28T12:18:09.882302Z",
     "iopub.status.idle": "2022-06-28T12:18:09.906399Z",
     "shell.execute_reply": "2022-06-28T12:18:09.905719Z"
    },
    "papermill": {
     "duration": 0.073881,
     "end_time": "2022-06-28T12:18:09.906559",
     "exception": false,
     "start_time": "2022-06-28T12:18:09.832678",
     "status": "completed"
    },
    "tags": []
   },
   "outputs": [],
   "source": [
    "#hide\n",
    "dft_ct_new_cases = dft_cases.groupby(COL_REGION)[dt_cols].sum().diff(axis=1).fillna(0).astype(int)"
   ]
  },
  {
   "cell_type": "code",
   "execution_count": 19,
   "id": "neutral-assignment",
   "metadata": {
    "execution": {
     "iopub.execute_input": "2022-06-28T12:18:09.998042Z",
     "iopub.status.busy": "2022-06-28T12:18:09.997235Z",
     "iopub.status.idle": "2022-06-28T12:18:10.000093Z",
     "shell.execute_reply": "2022-06-28T12:18:09.999359Z"
    },
    "papermill": {
     "duration": 0.052129,
     "end_time": "2022-06-28T12:18:10.000233",
     "exception": false,
     "start_time": "2022-06-28T12:18:09.948104",
     "status": "completed"
    },
    "tags": []
   },
   "outputs": [],
   "source": [
    "#hide\n",
    "everydaycases = dft_ct_new_cases.cumsum(axis=1)"
   ]
  },
  {
   "cell_type": "code",
   "execution_count": 20,
   "id": "parliamentary-calgary",
   "metadata": {
    "execution": {
     "iopub.execute_input": "2022-06-28T12:18:10.089925Z",
     "iopub.status.busy": "2022-06-28T12:18:10.089105Z",
     "iopub.status.idle": "2022-06-28T12:18:10.824395Z",
     "shell.execute_reply": "2022-06-28T12:18:10.824978Z"
    },
    "papermill": {
     "duration": 0.783048,
     "end_time": "2022-06-28T12:18:10.825154",
     "exception": false,
     "start_time": "2022-06-28T12:18:10.042106",
     "status": "completed"
    },
    "tags": []
   },
   "outputs": [],
   "source": [
    "#hide\n",
    "import pandas as pd\n",
    "import matplotlib.pyplot as plt\n",
    "import matplotlib.ticker as ticker\n",
    "import matplotlib.animation as animation\n",
    "from IPython.display import HTML"
   ]
  },
  {
   "cell_type": "code",
   "execution_count": 21,
   "id": "lasting-extraction",
   "metadata": {
    "execution": {
     "iopub.execute_input": "2022-06-28T12:18:10.918948Z",
     "iopub.status.busy": "2022-06-28T12:18:10.918166Z",
     "iopub.status.idle": "2022-06-28T12:18:10.926475Z",
     "shell.execute_reply": "2022-06-28T12:18:10.925723Z"
    },
    "papermill": {
     "duration": 0.058652,
     "end_time": "2022-06-28T12:18:10.926627",
     "exception": false,
     "start_time": "2022-06-28T12:18:10.867975",
     "status": "completed"
    },
    "tags": []
   },
   "outputs": [],
   "source": [
    "#hide\n",
    "t = everydaycases.stack()"
   ]
  },
  {
   "cell_type": "code",
   "execution_count": 22,
   "id": "premier-sleeve",
   "metadata": {
    "execution": {
     "iopub.execute_input": "2022-06-28T12:18:11.017487Z",
     "iopub.status.busy": "2022-06-28T12:18:11.016650Z",
     "iopub.status.idle": "2022-06-28T12:18:11.029386Z",
     "shell.execute_reply": "2022-06-28T12:18:11.029926Z"
    },
    "papermill": {
     "duration": 0.061683,
     "end_time": "2022-06-28T12:18:11.030093",
     "exception": false,
     "start_time": "2022-06-28T12:18:10.968410",
     "status": "completed"
    },
    "tags": []
   },
   "outputs": [],
   "source": [
    "#hide\n",
    "g = t.reset_index(['Country/Region'])"
   ]
  },
  {
   "cell_type": "code",
   "execution_count": 23,
   "id": "distributed-pittsburgh",
   "metadata": {
    "execution": {
     "iopub.execute_input": "2022-06-28T12:18:11.118089Z",
     "iopub.status.busy": "2022-06-28T12:18:11.117286Z",
     "iopub.status.idle": "2022-06-28T12:18:11.121547Z",
     "shell.execute_reply": "2022-06-28T12:18:11.120883Z"
    },
    "papermill": {
     "duration": 0.050458,
     "end_time": "2022-06-28T12:18:11.121692",
     "exception": false,
     "start_time": "2022-06-28T12:18:11.071234",
     "status": "completed"
    },
    "tags": []
   },
   "outputs": [],
   "source": [
    "#hide\n",
    "g.index.name = 'date'"
   ]
  },
  {
   "cell_type": "code",
   "execution_count": 24,
   "id": "naked-donor",
   "metadata": {
    "execution": {
     "iopub.execute_input": "2022-06-28T12:18:11.207249Z",
     "iopub.status.busy": "2022-06-28T12:18:11.206474Z",
     "iopub.status.idle": "2022-06-28T12:18:11.209591Z",
     "shell.execute_reply": "2022-06-28T12:18:11.208806Z"
    },
    "papermill": {
     "duration": 0.04786,
     "end_time": "2022-06-28T12:18:11.209734",
     "exception": false,
     "start_time": "2022-06-28T12:18:11.161874",
     "status": "completed"
    },
    "tags": []
   },
   "outputs": [],
   "source": [
    "# #hide\n",
    "# g = g.reset_index(['date'])"
   ]
  },
  {
   "cell_type": "code",
   "execution_count": 25,
   "id": "incomplete-mustang",
   "metadata": {
    "execution": {
     "iopub.execute_input": "2022-06-28T12:18:11.296939Z",
     "iopub.status.busy": "2022-06-28T12:18:11.296197Z",
     "iopub.status.idle": "2022-06-28T12:18:11.299336Z",
     "shell.execute_reply": "2022-06-28T12:18:11.298624Z"
    },
    "papermill": {
     "duration": 0.048401,
     "end_time": "2022-06-28T12:18:11.299474",
     "exception": false,
     "start_time": "2022-06-28T12:18:11.251073",
     "status": "completed"
    },
    "tags": []
   },
   "outputs": [],
   "source": [
    "#hide\n",
    "# g.head()"
   ]
  },
  {
   "cell_type": "code",
   "execution_count": 26,
   "id": "specific-kruger",
   "metadata": {
    "execution": {
     "iopub.execute_input": "2022-06-28T12:18:11.386464Z",
     "iopub.status.busy": "2022-06-28T12:18:11.385683Z",
     "iopub.status.idle": "2022-06-28T12:18:11.388222Z",
     "shell.execute_reply": "2022-06-28T12:18:11.388773Z"
    },
    "papermill": {
     "duration": 0.047447,
     "end_time": "2022-06-28T12:18:11.388940",
     "exception": false,
     "start_time": "2022-06-28T12:18:11.341493",
     "status": "completed"
    },
    "tags": []
   },
   "outputs": [],
   "source": [
    "#hide\n",
    "# g.columns = ['date','country','cases']"
   ]
  },
  {
   "cell_type": "code",
   "execution_count": 27,
   "id": "tender-conversion",
   "metadata": {
    "execution": {
     "iopub.execute_input": "2022-06-28T12:18:11.474674Z",
     "iopub.status.busy": "2022-06-28T12:18:11.473928Z",
     "iopub.status.idle": "2022-06-28T12:18:11.477317Z",
     "shell.execute_reply": "2022-06-28T12:18:11.476600Z"
    },
    "papermill": {
     "duration": 0.047193,
     "end_time": "2022-06-28T12:18:11.477477",
     "exception": false,
     "start_time": "2022-06-28T12:18:11.430284",
     "status": "completed"
    },
    "tags": []
   },
   "outputs": [],
   "source": [
    "#hide\n",
    "# g['continent'] = g.country"
   ]
  },
  {
   "cell_type": "code",
   "execution_count": 28,
   "id": "substantial-wilderness",
   "metadata": {
    "execution": {
     "iopub.execute_input": "2022-06-28T12:18:11.560248Z",
     "iopub.status.busy": "2022-06-28T12:18:11.559487Z",
     "iopub.status.idle": "2022-06-28T12:18:11.562683Z",
     "shell.execute_reply": "2022-06-28T12:18:11.562057Z"
    },
    "papermill": {
     "duration": 0.046152,
     "end_time": "2022-06-28T12:18:11.562821",
     "exception": false,
     "start_time": "2022-06-28T12:18:11.516669",
     "status": "completed"
    },
    "tags": []
   },
   "outputs": [],
   "source": [
    "#hide\n",
    "# cols = list(g.columns.values)"
   ]
  },
  {
   "cell_type": "code",
   "execution_count": 29,
   "id": "solved-farming",
   "metadata": {
    "execution": {
     "iopub.execute_input": "2022-06-28T12:18:11.651483Z",
     "iopub.status.busy": "2022-06-28T12:18:11.650655Z",
     "iopub.status.idle": "2022-06-28T12:18:11.653892Z",
     "shell.execute_reply": "2022-06-28T12:18:11.653234Z"
    },
    "papermill": {
     "duration": 0.050686,
     "end_time": "2022-06-28T12:18:11.654030",
     "exception": false,
     "start_time": "2022-06-28T12:18:11.603344",
     "status": "completed"
    },
    "tags": []
   },
   "outputs": [],
   "source": [
    "#hide\n",
    "# cols.insert(0, cols.pop())"
   ]
  },
  {
   "cell_type": "code",
   "execution_count": 30,
   "id": "executed-adoption",
   "metadata": {
    "execution": {
     "iopub.execute_input": "2022-06-28T12:18:11.743900Z",
     "iopub.status.busy": "2022-06-28T12:18:11.743180Z",
     "iopub.status.idle": "2022-06-28T12:18:11.746484Z",
     "shell.execute_reply": "2022-06-28T12:18:11.745710Z"
    },
    "papermill": {
     "duration": 0.051747,
     "end_time": "2022-06-28T12:18:11.746616",
     "exception": false,
     "start_time": "2022-06-28T12:18:11.694869",
     "status": "completed"
    },
    "tags": []
   },
   "outputs": [],
   "source": [
    "#hide\n",
    "# g = g[cols]"
   ]
  },
  {
   "cell_type": "code",
   "execution_count": 31,
   "id": "subject-dublin",
   "metadata": {
    "execution": {
     "iopub.execute_input": "2022-06-28T12:18:11.832313Z",
     "iopub.status.busy": "2022-06-28T12:18:11.831533Z",
     "iopub.status.idle": "2022-06-28T12:18:11.834627Z",
     "shell.execute_reply": "2022-06-28T12:18:11.833996Z"
    },
    "papermill": {
     "duration": 0.048325,
     "end_time": "2022-06-28T12:18:11.834770",
     "exception": false,
     "start_time": "2022-06-28T12:18:11.786445",
     "status": "completed"
    },
    "tags": []
   },
   "outputs": [],
   "source": [
    "#hide\n",
    "# g['continent'] = g['continent'].map(mapping['map.continent'])"
   ]
  },
  {
   "cell_type": "code",
   "execution_count": 32,
   "id": "freelance-scout",
   "metadata": {
    "execution": {
     "iopub.execute_input": "2022-06-28T12:18:11.923342Z",
     "iopub.status.busy": "2022-06-28T12:18:11.922556Z",
     "iopub.status.idle": "2022-06-28T12:18:11.926742Z",
     "shell.execute_reply": "2022-06-28T12:18:11.927378Z"
    },
    "papermill": {
     "duration": 0.051602,
     "end_time": "2022-06-28T12:18:11.927543",
     "exception": false,
     "start_time": "2022-06-28T12:18:11.875941",
     "status": "completed"
    },
    "tags": []
   },
   "outputs": [],
   "source": [
    "#hide\n",
    "# g.head()"
   ]
  },
  {
   "cell_type": "code",
   "execution_count": 33,
   "id": "limited-engine",
   "metadata": {
    "execution": {
     "iopub.execute_input": "2022-06-28T12:18:12.014623Z",
     "iopub.status.busy": "2022-06-28T12:18:12.013789Z",
     "iopub.status.idle": "2022-06-28T12:18:12.018146Z",
     "shell.execute_reply": "2022-06-28T12:18:12.017567Z"
    },
    "papermill": {
     "duration": 0.049606,
     "end_time": "2022-06-28T12:18:12.018284",
     "exception": false,
     "start_time": "2022-06-28T12:18:11.968678",
     "status": "completed"
    },
    "tags": []
   },
   "outputs": [],
   "source": [
    "# hide\n",
    "# g['date'] = g['date'].astype('datetime64[ns]')"
   ]
  },
  {
   "cell_type": "code",
   "execution_count": 34,
   "id": "sophisticated-supervisor",
   "metadata": {
    "execution": {
     "iopub.execute_input": "2022-06-28T12:18:12.106917Z",
     "iopub.status.busy": "2022-06-28T12:18:12.106182Z",
     "iopub.status.idle": "2022-06-28T12:18:12.109203Z",
     "shell.execute_reply": "2022-06-28T12:18:12.109903Z"
    },
    "papermill": {
     "duration": 0.04892,
     "end_time": "2022-06-28T12:18:12.110060",
     "exception": false,
     "start_time": "2022-06-28T12:18:12.061140",
     "status": "completed"
    },
    "tags": []
   },
   "outputs": [],
   "source": [
    "#hide\n",
    "# g['date'] = g.date.dt.dayofyear"
   ]
  },
  {
   "cell_type": "code",
   "execution_count": 35,
   "id": "inside-dubai",
   "metadata": {
    "execution": {
     "iopub.execute_input": "2022-06-28T12:18:12.196837Z",
     "iopub.status.busy": "2022-06-28T12:18:12.196093Z",
     "iopub.status.idle": "2022-06-28T12:18:12.199093Z",
     "shell.execute_reply": "2022-06-28T12:18:12.198397Z"
    },
    "papermill": {
     "duration": 0.047225,
     "end_time": "2022-06-28T12:18:12.199255",
     "exception": false,
     "start_time": "2022-06-28T12:18:12.152030",
     "status": "completed"
    },
    "tags": []
   },
   "outputs": [],
   "source": [
    "#hide\n",
    "# g = g.rename(columns= {'continent':'group','country':'name','cases':'value'})"
   ]
  },
  {
   "cell_type": "code",
   "execution_count": 36,
   "id": "fleet-motorcycle",
   "metadata": {
    "execution": {
     "iopub.execute_input": "2022-06-28T12:18:12.284747Z",
     "iopub.status.busy": "2022-06-28T12:18:12.284016Z",
     "iopub.status.idle": "2022-06-28T12:18:12.286823Z",
     "shell.execute_reply": "2022-06-28T12:18:12.287534Z"
    },
    "papermill": {
     "duration": 0.047527,
     "end_time": "2022-06-28T12:18:12.287692",
     "exception": false,
     "start_time": "2022-06-28T12:18:12.240165",
     "status": "completed"
    },
    "tags": []
   },
   "outputs": [],
   "source": [
    "#hide\n",
    "# cols = ['name','group','day','value']"
   ]
  },
  {
   "cell_type": "code",
   "execution_count": 37,
   "id": "continued-sleeping",
   "metadata": {
    "execution": {
     "iopub.execute_input": "2022-06-28T12:18:12.375832Z",
     "iopub.status.busy": "2022-06-28T12:18:12.375052Z",
     "iopub.status.idle": "2022-06-28T12:18:12.378177Z",
     "shell.execute_reply": "2022-06-28T12:18:12.377503Z"
    },
    "papermill": {
     "duration": 0.049307,
     "end_time": "2022-06-28T12:18:12.378320",
     "exception": false,
     "start_time": "2022-06-28T12:18:12.329013",
     "status": "completed"
    },
    "tags": []
   },
   "outputs": [],
   "source": [
    "#hide\n",
    "# g.rename(columns= {'date':'day'},inplace = True)"
   ]
  },
  {
   "cell_type": "code",
   "execution_count": 38,
   "id": "major-fight",
   "metadata": {
    "execution": {
     "iopub.execute_input": "2022-06-28T12:18:12.465963Z",
     "iopub.status.busy": "2022-06-28T12:18:12.465149Z",
     "iopub.status.idle": "2022-06-28T12:18:12.469176Z",
     "shell.execute_reply": "2022-06-28T12:18:12.468605Z"
    },
    "papermill": {
     "duration": 0.050129,
     "end_time": "2022-06-28T12:18:12.469321",
     "exception": false,
     "start_time": "2022-06-28T12:18:12.419192",
     "status": "completed"
    },
    "tags": []
   },
   "outputs": [],
   "source": [
    "#hide\n",
    "# g = g[cols]"
   ]
  },
  {
   "cell_type": "code",
   "execution_count": 39,
   "id": "structured-mobile",
   "metadata": {
    "execution": {
     "iopub.execute_input": "2022-06-28T12:18:12.553630Z",
     "iopub.status.busy": "2022-06-28T12:18:12.552872Z",
     "iopub.status.idle": "2022-06-28T12:18:12.555462Z",
     "shell.execute_reply": "2022-06-28T12:18:12.555996Z"
    },
    "papermill": {
     "duration": 0.047353,
     "end_time": "2022-06-28T12:18:12.556152",
     "exception": false,
     "start_time": "2022-06-28T12:18:12.508799",
     "status": "completed"
    },
    "tags": []
   },
   "outputs": [],
   "source": [
    "# #hide\n",
    "# g = g[g.group.notna()]"
   ]
  },
  {
   "cell_type": "code",
   "execution_count": 40,
   "id": "determined-closing",
   "metadata": {
    "execution": {
     "iopub.execute_input": "2022-06-28T12:18:12.640784Z",
     "iopub.status.busy": "2022-06-28T12:18:12.640035Z",
     "iopub.status.idle": "2022-06-28T12:18:12.643100Z",
     "shell.execute_reply": "2022-06-28T12:18:12.642530Z"
    },
    "papermill": {
     "duration": 0.048086,
     "end_time": "2022-06-28T12:18:12.643229",
     "exception": false,
     "start_time": "2022-06-28T12:18:12.595143",
     "status": "completed"
    },
    "tags": []
   },
   "outputs": [],
   "source": [
    "# #hide\n",
    "# colors = dict(zip(\n",
    "#     [\"Oceania\", \"Europe\", \"Asia\", \"South America\", \"Middle East\", \"North America\", \"Africa\"],\n",
    "#     [\"#adb0ff\", \"#ffb3ff\", \"#90d595\", \"#e48381\", \"#aafbff\", \"#f7bb5f\", \"#eafb50\"]\n",
    "# ))\n",
    "# group_lk = g.set_index('name')['group'].to_dict()"
   ]
  },
  {
   "cell_type": "code",
   "execution_count": null,
   "id": "gross-drinking",
   "metadata": {
    "papermill": {
     "duration": 0.040312,
     "end_time": "2022-06-28T12:18:12.723809",
     "exception": false,
     "start_time": "2022-06-28T12:18:12.683497",
     "status": "completed"
    },
    "tags": []
   },
   "outputs": [],
   "source": []
  },
  {
   "cell_type": "code",
   "execution_count": 41,
   "id": "subject-macintosh",
   "metadata": {
    "execution": {
     "iopub.execute_input": "2022-06-28T12:18:12.811822Z",
     "iopub.status.busy": "2022-06-28T12:18:12.811087Z",
     "iopub.status.idle": "2022-06-28T12:18:12.814258Z",
     "shell.execute_reply": "2022-06-28T12:18:12.813678Z"
    },
    "papermill": {
     "duration": 0.049647,
     "end_time": "2022-06-28T12:18:12.814389",
     "exception": false,
     "start_time": "2022-06-28T12:18:12.764742",
     "status": "completed"
    },
    "tags": []
   },
   "outputs": [],
   "source": [
    "# #hide\n",
    "# fig, ax = plt.subplots(figsize=(15, 8))\n",
    "\n",
    "# def draw_barchart(current_day):\n",
    "#     dff = g[g['day'].eq(current_day)].sort_values(by='value', ascending=True).tail(10)\n",
    "#     ax.clear()\n",
    "#     ax.barh(dff['name'], dff['value'], color=[colors[group_lk[x]] for x in dff['name']])\n",
    "#     dx = dff['value'].max() / 200\n",
    "    \n",
    "#     for i, (value, name) in enumerate(zip(dff['value'], dff['name'])):\n",
    "#         ax.text(value-dx, i,     name,           size=14, weight=600, ha='right', va='bottom')\n",
    "#         ax.text(value-dx, i-.25, group_lk[name], size=10, color='#444444', ha='right', va='baseline')\n",
    "#         ax.text(value+dx, i,     f'{value:,.0f}',  size=14, ha='left',  va='center')\n",
    "#     ax.text(1, 0.4, current_day, transform=ax.transAxes, color='#777777', size=46, ha='right', weight=800)\n",
    "#     ax.text(0, 1.06, 'Population (thousands)', transform=ax.transAxes, size=12, color='#777777')\n",
    "#     ax.xaxis.set_major_formatter(ticker.StrMethodFormatter('{x:,.0f}'))\n",
    "#     ax.xaxis.set_ticks_position('top')\n",
    "#     ax.tick_params(axis='x', colors='#777777', labelsize=12)\n",
    "#     ax.set_yticks([])\n",
    "#     ax.margins(0, 0.01)\n",
    "#     ax.grid(which='major', axis='x', linestyle='-')\n",
    "#     ax.set_axisbelow(True)\n",
    "    \n",
    "#     ax.text(0, 1.15, 'Coronavirus',\n",
    "#             transform=ax.transAxes, size=24, weight=600, ha='left', va='top')\n",
    "# #     ax.text(1, 0, 'by @pratapvardhan; credit @jburnmurdoch', transform=ax.transAxes, color='#777777', ha='right',\n",
    "# #             bbox=dict(facecolor='white', alpha=0.8, edgecolor='white'))\n",
    "#     plt.box(False)"
   ]
  },
  {
   "cell_type": "code",
   "execution_count": 42,
   "id": "sexual-wages",
   "metadata": {
    "execution": {
     "iopub.execute_input": "2022-06-28T12:18:12.900016Z",
     "iopub.status.busy": "2022-06-28T12:18:12.899223Z",
     "iopub.status.idle": "2022-06-28T12:18:12.903425Z",
     "shell.execute_reply": "2022-06-28T12:18:12.904065Z"
    },
    "papermill": {
     "duration": 0.048505,
     "end_time": "2022-06-28T12:18:12.904233",
     "exception": false,
     "start_time": "2022-06-28T12:18:12.855728",
     "status": "completed"
    },
    "tags": []
   },
   "outputs": [],
   "source": [
    "# #hide_input\n",
    "# fig, ax = plt.subplots(figsize=(15, 8))\n",
    "# animator = animation.FuncAnimation(fig, draw_barchart, frames=range(g.day.values.min(), g.day.values.max()))\n",
    "# HTML(animator.to_jshtml())\n",
    "# # or use animator.to_html5_video() or animator.save() "
   ]
  },
  {
   "cell_type": "code",
   "execution_count": null,
   "id": "australian-container",
   "metadata": {
    "papermill": {
     "duration": 0.040296,
     "end_time": "2022-06-28T12:18:12.984653",
     "exception": false,
     "start_time": "2022-06-28T12:18:12.944357",
     "status": "completed"
    },
    "tags": []
   },
   "outputs": [],
   "source": []
  },
  {
   "cell_type": "code",
   "execution_count": null,
   "id": "mediterranean-pontiac",
   "metadata": {
    "papermill": {
     "duration": 0.047993,
     "end_time": "2022-06-28T12:18:13.077934",
     "exception": false,
     "start_time": "2022-06-28T12:18:13.029941",
     "status": "completed"
    },
    "tags": []
   },
   "outputs": [],
   "source": []
  },
  {
   "cell_type": "code",
   "execution_count": null,
   "id": "aging-legislature",
   "metadata": {
    "papermill": {
     "duration": 0.040197,
     "end_time": "2022-06-28T12:18:13.161141",
     "exception": false,
     "start_time": "2022-06-28T12:18:13.120944",
     "status": "completed"
    },
    "tags": []
   },
   "outputs": [],
   "source": []
  }
 ],
 "metadata": {
  "kernelspec": {
   "display_name": "Python 3",
   "language": "python",
   "name": "python3"
  },
  "language_info": {
   "codemirror_mode": {
    "name": "ipython",
    "version": 3
   },
   "file_extension": ".py",
   "mimetype": "text/x-python",
   "name": "python",
   "nbconvert_exporter": "python",
   "pygments_lexer": "ipython3",
   "version": "3.6.15"
  },
  "papermill": {
   "duration": 7.686697,
   "end_time": "2022-06-28T12:18:13.622346",
   "environment_variables": {},
   "exception": null,
   "input_path": "2020-03-21-covid19exp.ipynb",
   "output_path": "2020-03-21-covid19exp.ipynb",
   "parameters": {},
   "start_time": "2022-06-28T12:18:05.935649",
   "version": "2.0.0"
  }
 },
 "nbformat": 4,
 "nbformat_minor": 5
}