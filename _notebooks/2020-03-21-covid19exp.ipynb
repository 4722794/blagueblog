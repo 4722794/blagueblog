{
 "cells": [
  {
   "cell_type": "markdown",
   "id": "muslim-click",
   "metadata": {
    "papermill": {
     "duration": 0.039984,
     "end_time": "2021-03-18T12:07:41.366953",
     "exception": false,
     "start_time": "2021-03-18T12:07:41.326969",
     "status": "completed"
    },
    "tags": []
   },
   "source": [
    "# COVID-19 Case Race\n",
    "> A race chart to see rising cases around the world\n",
    "\n",
    "- author: Hargun Oberoi\n",
    "- image: images/covid-overview.png\n",
    "- hide: false\n",
    "- badges: false"
   ]
  },
  {
   "cell_type": "code",
   "execution_count": 1,
   "id": "proof-material",
   "metadata": {
    "execution": {
     "iopub.execute_input": "2021-03-18T12:07:41.453317Z",
     "iopub.status.busy": "2021-03-18T12:07:41.452652Z",
     "iopub.status.idle": "2021-03-18T12:07:41.825569Z",
     "shell.execute_reply": "2021-03-18T12:07:41.824956Z"
    },
    "papermill": {
     "duration": 0.422995,
     "end_time": "2021-03-18T12:07:41.825725",
     "exception": false,
     "start_time": "2021-03-18T12:07:41.402730",
     "status": "completed"
    },
    "tags": []
   },
   "outputs": [],
   "source": [
    "#hide\n",
    "import numpy as np\n",
    "import pandas as pd\n",
    "from jinja2 import Template\n",
    "from IPython.display import HTML"
   ]
  },
  {
   "cell_type": "code",
   "execution_count": 2,
   "id": "developed-terminology",
   "metadata": {
    "execution": {
     "iopub.execute_input": "2021-03-18T12:07:41.900752Z",
     "iopub.status.busy": "2021-03-18T12:07:41.900119Z",
     "iopub.status.idle": "2021-03-18T12:07:41.903937Z",
     "shell.execute_reply": "2021-03-18T12:07:41.903393Z"
    },
    "papermill": {
     "duration": 0.043345,
     "end_time": "2021-03-18T12:07:41.904071",
     "exception": false,
     "start_time": "2021-03-18T12:07:41.860726",
     "status": "completed"
    },
    "tags": []
   },
   "outputs": [],
   "source": [
    "#hide\n",
    "\n",
    "# FETCH\n",
    "base_url = 'https://raw.githubusercontent.com/pratapvardhan/notebooks/master/covid19/'\n",
    "paths = {\n",
    "    'mapping': base_url + 'mapping_countries.csv',\n",
    "    'overview': base_url + 'overview.tpl'\n",
    "}"
   ]
  },
  {
   "cell_type": "code",
   "execution_count": 3,
   "id": "dynamic-saver",
   "metadata": {
    "execution": {
     "iopub.execute_input": "2021-03-18T12:07:41.984907Z",
     "iopub.status.busy": "2021-03-18T12:07:41.984231Z",
     "iopub.status.idle": "2021-03-18T12:07:41.986824Z",
     "shell.execute_reply": "2021-03-18T12:07:41.987373Z"
    },
    "papermill": {
     "duration": 0.048691,
     "end_time": "2021-03-18T12:07:41.987534",
     "exception": false,
     "start_time": "2021-03-18T12:07:41.938843",
     "status": "completed"
    },
    "tags": []
   },
   "outputs": [
    {
     "data": {
      "text/plain": [
       "'https://raw.githubusercontent.com/pratapvardhan/notebooks/master/covid19/mapping_countries.csv'"
      ]
     },
     "execution_count": 3,
     "metadata": {},
     "output_type": "execute_result"
    }
   ],
   "source": [
    "#hide\n",
    "paths['mapping']"
   ]
  },
  {
   "cell_type": "code",
   "execution_count": 4,
   "id": "urban-software",
   "metadata": {
    "execution": {
     "iopub.execute_input": "2021-03-18T12:07:42.065607Z",
     "iopub.status.busy": "2021-03-18T12:07:42.064954Z",
     "iopub.status.idle": "2021-03-18T12:07:42.066751Z",
     "shell.execute_reply": "2021-03-18T12:07:42.067547Z"
    },
    "papermill": {
     "duration": 0.044787,
     "end_time": "2021-03-18T12:07:42.067715",
     "exception": false,
     "start_time": "2021-03-18T12:07:42.022928",
     "status": "completed"
    },
    "tags": []
   },
   "outputs": [],
   "source": [
    "#hide\n",
    "def get_mappings(url):\n",
    "    df = pd.read_csv(url)\n",
    "    return {\n",
    "        'df': df,\n",
    "        'replace.country': dict(df.dropna(subset=['Name']).set_index('Country')['Name']),\n",
    "        'map.continent': dict(df.set_index('Name')['Continent'])\n",
    "    }"
   ]
  },
  {
   "cell_type": "code",
   "execution_count": 5,
   "id": "intimate-machinery",
   "metadata": {
    "execution": {
     "iopub.execute_input": "2021-03-18T12:07:42.161134Z",
     "iopub.status.busy": "2021-03-18T12:07:42.160385Z",
     "iopub.status.idle": "2021-03-18T12:07:42.194008Z",
     "shell.execute_reply": "2021-03-18T12:07:42.194597Z"
    },
    "papermill": {
     "duration": 0.07939,
     "end_time": "2021-03-18T12:07:42.194775",
     "exception": false,
     "start_time": "2021-03-18T12:07:42.115385",
     "status": "completed"
    },
    "tags": []
   },
   "outputs": [],
   "source": [
    "#hide\n",
    "mapping = get_mappings(paths['mapping'])"
   ]
  },
  {
   "cell_type": "code",
   "execution_count": 6,
   "id": "certified-tactics",
   "metadata": {
    "execution": {
     "iopub.execute_input": "2021-03-18T12:07:42.284761Z",
     "iopub.status.busy": "2021-03-18T12:07:42.283934Z",
     "iopub.status.idle": "2021-03-18T12:07:42.285535Z",
     "shell.execute_reply": "2021-03-18T12:07:42.286097Z"
    },
    "papermill": {
     "duration": 0.048863,
     "end_time": "2021-03-18T12:07:42.286250",
     "exception": false,
     "start_time": "2021-03-18T12:07:42.237387",
     "status": "completed"
    },
    "tags": []
   },
   "outputs": [],
   "source": [
    "#hide\n",
    "def get_template(path):\n",
    "    from urllib.parse import urlparse\n",
    "    if bool(urlparse(path).netloc):\n",
    "        from urllib.request import urlopen\n",
    "        return urlopen(path).read().decode('utf8')\n",
    "    return open(path).read()"
   ]
  },
  {
   "cell_type": "code",
   "execution_count": 7,
   "id": "realistic-blast",
   "metadata": {
    "execution": {
     "iopub.execute_input": "2021-03-18T12:07:42.364041Z",
     "iopub.status.busy": "2021-03-18T12:07:42.363397Z",
     "iopub.status.idle": "2021-03-18T12:07:42.365328Z",
     "shell.execute_reply": "2021-03-18T12:07:42.365786Z"
    },
    "papermill": {
     "duration": 0.042777,
     "end_time": "2021-03-18T12:07:42.365940",
     "exception": false,
     "start_time": "2021-03-18T12:07:42.323163",
     "status": "completed"
    },
    "tags": []
   },
   "outputs": [],
   "source": [
    "#hide\n",
    "def get_frame(name):\n",
    "    url = (\n",
    "        'https://raw.githubusercontent.com/CSSEGISandData/COVID-19/master/csse_covid_19_data/'\n",
    "        f'csse_covid_19_time_series/time_series_covid19_{name}_global.csv')\n",
    "    df = pd.read_csv(url)\n",
    "    # rename countries\n",
    "    df['Country/Region'] = df['Country/Region'].replace(mapping['replace.country'])\n",
    "    return df"
   ]
  },
  {
   "cell_type": "code",
   "execution_count": 8,
   "id": "affiliated-characterization",
   "metadata": {
    "execution": {
     "iopub.execute_input": "2021-03-18T12:07:42.443298Z",
     "iopub.status.busy": "2021-03-18T12:07:42.442612Z",
     "iopub.status.idle": "2021-03-18T12:07:42.444013Z",
     "shell.execute_reply": "2021-03-18T12:07:42.444583Z"
    },
    "papermill": {
     "duration": 0.043631,
     "end_time": "2021-03-18T12:07:42.444733",
     "exception": false,
     "start_time": "2021-03-18T12:07:42.401102",
     "status": "completed"
    },
    "tags": []
   },
   "outputs": [],
   "source": [
    "#hide\n",
    "def get_dates(df):\n",
    "    dt_cols = df.columns[~df.columns.isin(['Province/State', 'Country/Region', 'Lat', 'Long'])]\n",
    "    LAST_DATE_I = -1\n",
    "    # sometimes last column may be empty, then go backwards\n",
    "    for i in range(-1, -len(dt_cols), -1):\n",
    "        if not df[dt_cols[i]].fillna(0).eq(0).all():\n",
    "            LAST_DATE_I = i\n",
    "            break\n",
    "    return LAST_DATE_I, dt_cols"
   ]
  },
  {
   "cell_type": "code",
   "execution_count": 9,
   "id": "recent-optimization",
   "metadata": {
    "execution": {
     "iopub.execute_input": "2021-03-18T12:07:42.532084Z",
     "iopub.status.busy": "2021-03-18T12:07:42.531010Z",
     "iopub.status.idle": "2021-03-18T12:07:42.796428Z",
     "shell.execute_reply": "2021-03-18T12:07:42.796929Z"
    },
    "papermill": {
     "duration": 0.310901,
     "end_time": "2021-03-18T12:07:42.797099",
     "exception": false,
     "start_time": "2021-03-18T12:07:42.486198",
     "status": "completed"
    },
    "tags": []
   },
   "outputs": [],
   "source": [
    "#hide\n",
    "COL_REGION = 'Country/Region'\n",
    "# Confirmed, Recovered, Deaths\n",
    "df = get_frame('confirmed')\n",
    "# dft_: timeseries, dfc_: today country agg\n",
    "dft_cases = df\n",
    "dft_deaths = get_frame('deaths')\n",
    "dft_recovered = get_frame('recovered')\n",
    "LAST_DATE_I, dt_cols = get_dates(df)"
   ]
  },
  {
   "cell_type": "code",
   "execution_count": 10,
   "id": "absolute-copper",
   "metadata": {
    "execution": {
     "iopub.execute_input": "2021-03-18T12:07:42.874531Z",
     "iopub.status.busy": "2021-03-18T12:07:42.873908Z",
     "iopub.status.idle": "2021-03-18T12:07:42.876633Z",
     "shell.execute_reply": "2021-03-18T12:07:42.876141Z"
    },
    "papermill": {
     "duration": 0.043831,
     "end_time": "2021-03-18T12:07:42.876769",
     "exception": false,
     "start_time": "2021-03-18T12:07:42.832938",
     "status": "completed"
    },
    "tags": []
   },
   "outputs": [],
   "source": [
    "#hide\n",
    "LAST_DATE_I, dt_cols = get_dates(df)\n",
    "dt_today =dt_cols[LAST_DATE_I]\n",
    "# dt_5day = dt_cols[LAST_DATE_I - 5]\n",
    "dt_yday = dt_cols[LAST_DATE_I - 1]"
   ]
  },
  {
   "cell_type": "code",
   "execution_count": 11,
   "id": "restricted-sheriff",
   "metadata": {
    "execution": {
     "iopub.execute_input": "2021-03-18T12:07:42.956904Z",
     "iopub.status.busy": "2021-03-18T12:07:42.956048Z",
     "iopub.status.idle": "2021-03-18T12:07:42.961995Z",
     "shell.execute_reply": "2021-03-18T12:07:42.961231Z"
    },
    "papermill": {
     "duration": 0.050329,
     "end_time": "2021-03-18T12:07:42.962142",
     "exception": false,
     "start_time": "2021-03-18T12:07:42.911813",
     "status": "completed"
    },
    "tags": []
   },
   "outputs": [],
   "source": [
    "#hide\n",
    "dfc_cases = dft_cases.groupby(COL_REGION)[dt_today].sum()\n",
    "dfc_deaths = dft_deaths.groupby(COL_REGION)[dt_today].sum()\n",
    "# dfp_cases = dft_cases.groupby(COL_REGION)[dt_5day].sum()\n",
    "# dfp_deaths = dft_deaths.groupby(COL_REGION)[dt_5day].sum()\n",
    "dfp_cases = dft_cases.groupby(COL_REGION)[dt_yday].sum()\n",
    "dfp_deaths = dft_deaths.groupby(COL_REGION)[dt_yday].sum()"
   ]
  },
  {
   "cell_type": "code",
   "execution_count": 12,
   "id": "deluxe-hepatitis",
   "metadata": {
    "execution": {
     "iopub.execute_input": "2021-03-18T12:07:43.048825Z",
     "iopub.status.busy": "2021-03-18T12:07:43.048190Z",
     "iopub.status.idle": "2021-03-18T12:07:43.054020Z",
     "shell.execute_reply": "2021-03-18T12:07:43.055721Z"
    },
    "papermill": {
     "duration": 0.053933,
     "end_time": "2021-03-18T12:07:43.055899",
     "exception": false,
     "start_time": "2021-03-18T12:07:43.001966",
     "status": "completed"
    },
    "tags": []
   },
   "outputs": [],
   "source": [
    "#hide\n",
    "df_table = (pd.DataFrame(dict(Cases = dfc_cases, Deaths = dfc_deaths, PCases = dfp_cases, PDeaths = dfp_deaths))\n",
    "            .sort_values(by = ['Cases','Deaths'], ascending = [False, False])\n",
    "            .reset_index())"
   ]
  },
  {
   "cell_type": "code",
   "execution_count": 13,
   "id": "educational-chancellor",
   "metadata": {
    "execution": {
     "iopub.execute_input": "2021-03-18T12:07:43.160948Z",
     "iopub.status.busy": "2021-03-18T12:07:43.160316Z",
     "iopub.status.idle": "2021-03-18T12:07:43.183506Z",
     "shell.execute_reply": "2021-03-18T12:07:43.182673Z"
    },
    "papermill": {
     "duration": 0.079447,
     "end_time": "2021-03-18T12:07:43.183662",
     "exception": false,
     "start_time": "2021-03-18T12:07:43.104215",
     "status": "completed"
    },
    "tags": []
   },
   "outputs": [
    {
     "data": {
      "text/html": [
       "<div>\n",
       "<style scoped>\n",
       "    .dataframe tbody tr th:only-of-type {\n",
       "        vertical-align: middle;\n",
       "    }\n",
       "\n",
       "    .dataframe tbody tr th {\n",
       "        vertical-align: top;\n",
       "    }\n",
       "\n",
       "    .dataframe thead th {\n",
       "        text-align: right;\n",
       "    }\n",
       "</style>\n",
       "<table border=\"1\" class=\"dataframe\">\n",
       "  <thead>\n",
       "    <tr style=\"text-align: right;\">\n",
       "      <th></th>\n",
       "      <th>Country/Region</th>\n",
       "      <th>Cases</th>\n",
       "      <th>Deaths</th>\n",
       "      <th>PCases</th>\n",
       "      <th>PDeaths</th>\n",
       "      <th>Cases (+)</th>\n",
       "      <th>Deaths (+)</th>\n",
       "      <th>Fatality Rate</th>\n",
       "      <th>Continent</th>\n",
       "    </tr>\n",
       "  </thead>\n",
       "  <tbody>\n",
       "    <tr>\n",
       "      <th>0</th>\n",
       "      <td>US</td>\n",
       "      <td>29607483</td>\n",
       "      <td>538087</td>\n",
       "      <td>29549003</td>\n",
       "      <td>536914</td>\n",
       "      <td>58480</td>\n",
       "      <td>1173</td>\n",
       "      <td>1.82</td>\n",
       "      <td>North America</td>\n",
       "    </tr>\n",
       "    <tr>\n",
       "      <th>1</th>\n",
       "      <td>Brazil</td>\n",
       "      <td>11693838</td>\n",
       "      <td>284775</td>\n",
       "      <td>11603535</td>\n",
       "      <td>282127</td>\n",
       "      <td>90303</td>\n",
       "      <td>2648</td>\n",
       "      <td>2.44</td>\n",
       "      <td>South America</td>\n",
       "    </tr>\n",
       "    <tr>\n",
       "      <th>2</th>\n",
       "      <td>India</td>\n",
       "      <td>11474605</td>\n",
       "      <td>159216</td>\n",
       "      <td>11438734</td>\n",
       "      <td>159044</td>\n",
       "      <td>35871</td>\n",
       "      <td>172</td>\n",
       "      <td>1.39</td>\n",
       "      <td>Asia</td>\n",
       "    </tr>\n",
       "    <tr>\n",
       "      <th>3</th>\n",
       "      <td>Russia</td>\n",
       "      <td>4368943</td>\n",
       "      <td>91815</td>\n",
       "      <td>4360033</td>\n",
       "      <td>91395</td>\n",
       "      <td>8910</td>\n",
       "      <td>420</td>\n",
       "      <td>2.10</td>\n",
       "      <td>Europe</td>\n",
       "    </tr>\n",
       "    <tr>\n",
       "      <th>4</th>\n",
       "      <td>United Kingdom</td>\n",
       "      <td>4287996</td>\n",
       "      <td>126068</td>\n",
       "      <td>4282203</td>\n",
       "      <td>125927</td>\n",
       "      <td>5793</td>\n",
       "      <td>141</td>\n",
       "      <td>2.94</td>\n",
       "      <td>Europe</td>\n",
       "    </tr>\n",
       "  </tbody>\n",
       "</table>\n",
       "</div>"
      ],
      "text/plain": [
       "   Country/Region     Cases  Deaths    PCases  PDeaths  Cases (+)  Deaths (+)  \\\n",
       "0              US  29607483  538087  29549003   536914      58480        1173   \n",
       "1          Brazil  11693838  284775  11603535   282127      90303        2648   \n",
       "2           India  11474605  159216  11438734   159044      35871         172   \n",
       "3          Russia   4368943   91815   4360033    91395       8910         420   \n",
       "4  United Kingdom   4287996  126068   4282203   125927       5793         141   \n",
       "\n",
       "   Fatality Rate      Continent  \n",
       "0           1.82  North America  \n",
       "1           2.44  South America  \n",
       "2           1.39           Asia  \n",
       "3           2.10         Europe  \n",
       "4           2.94         Europe  "
      ]
     },
     "execution_count": 13,
     "metadata": {},
     "output_type": "execute_result"
    }
   ],
   "source": [
    "#hide\n",
    "for c in 'Cases, Deaths'.split(', '):\n",
    "    df_table[f'{c} (+)'] = (df_table[c] - df_table[f'P{c}']).clip(0)\n",
    "    #Clip ça veut dire, les chiffres negatif sont interdit\n",
    "df_table['Fatality Rate'] = (100* df_table['Deaths']/ df_table['Cases']).round(2)\n",
    "df_table['Continent'] = df_table['Country/Region'].map(mapping['map.continent'])\n",
    "df_table.head(5)"
   ]
  },
  {
   "cell_type": "code",
   "execution_count": 14,
   "id": "aboriginal-bulgaria",
   "metadata": {
    "execution": {
     "iopub.execute_input": "2021-03-18T12:07:43.266673Z",
     "iopub.status.busy": "2021-03-18T12:07:43.265724Z",
     "iopub.status.idle": "2021-03-18T12:07:43.267416Z",
     "shell.execute_reply": "2021-03-18T12:07:43.267953Z"
    },
    "papermill": {
     "duration": 0.048074,
     "end_time": "2021-03-18T12:07:43.268102",
     "exception": false,
     "start_time": "2021-03-18T12:07:43.220028",
     "status": "completed"
    },
    "tags": []
   },
   "outputs": [],
   "source": [
    "#hide\n",
    "#delete problematic countries from table\n",
    "df_table = df_table[~df_table['Country/Region'].isin(['Cape Verde', 'Cruise Ship', 'Kosovo'])]"
   ]
  },
  {
   "cell_type": "code",
   "execution_count": 15,
   "id": "fantastic-effect",
   "metadata": {
    "execution": {
     "iopub.execute_input": "2021-03-18T12:07:43.366315Z",
     "iopub.status.busy": "2021-03-18T12:07:43.365646Z",
     "iopub.status.idle": "2021-03-18T12:07:43.387601Z",
     "shell.execute_reply": "2021-03-18T12:07:43.386681Z"
    },
    "papermill": {
     "duration": 0.073555,
     "end_time": "2021-03-18T12:07:43.387755",
     "exception": false,
     "start_time": "2021-03-18T12:07:43.314200",
     "status": "completed"
    },
    "tags": []
   },
   "outputs": [
    {
     "data": {
      "text/html": [
       "<div>\n",
       "<style scoped>\n",
       "    .dataframe tbody tr th:only-of-type {\n",
       "        vertical-align: middle;\n",
       "    }\n",
       "\n",
       "    .dataframe tbody tr th {\n",
       "        vertical-align: top;\n",
       "    }\n",
       "\n",
       "    .dataframe thead th {\n",
       "        text-align: right;\n",
       "    }\n",
       "</style>\n",
       "<table border=\"1\" class=\"dataframe\">\n",
       "  <thead>\n",
       "    <tr style=\"text-align: right;\">\n",
       "      <th></th>\n",
       "      <th>Country/Region</th>\n",
       "      <th>Cases</th>\n",
       "      <th>Deaths</th>\n",
       "      <th>PCases</th>\n",
       "      <th>PDeaths</th>\n",
       "      <th>Cases (+)</th>\n",
       "      <th>Deaths (+)</th>\n",
       "      <th>Fatality Rate</th>\n",
       "      <th>Continent</th>\n",
       "    </tr>\n",
       "  </thead>\n",
       "  <tbody>\n",
       "    <tr>\n",
       "      <th>0</th>\n",
       "      <td>US</td>\n",
       "      <td>29607483</td>\n",
       "      <td>538087</td>\n",
       "      <td>29549003</td>\n",
       "      <td>536914</td>\n",
       "      <td>58480</td>\n",
       "      <td>1173</td>\n",
       "      <td>1.8</td>\n",
       "      <td>North America</td>\n",
       "    </tr>\n",
       "    <tr>\n",
       "      <th>1</th>\n",
       "      <td>Brazil</td>\n",
       "      <td>11693838</td>\n",
       "      <td>284775</td>\n",
       "      <td>11603535</td>\n",
       "      <td>282127</td>\n",
       "      <td>90303</td>\n",
       "      <td>2648</td>\n",
       "      <td>2.4</td>\n",
       "      <td>South America</td>\n",
       "    </tr>\n",
       "    <tr>\n",
       "      <th>2</th>\n",
       "      <td>India</td>\n",
       "      <td>11474605</td>\n",
       "      <td>159216</td>\n",
       "      <td>11438734</td>\n",
       "      <td>159044</td>\n",
       "      <td>35871</td>\n",
       "      <td>172</td>\n",
       "      <td>1.4</td>\n",
       "      <td>Asia</td>\n",
       "    </tr>\n",
       "    <tr>\n",
       "      <th>3</th>\n",
       "      <td>Russia</td>\n",
       "      <td>4368943</td>\n",
       "      <td>91815</td>\n",
       "      <td>4360033</td>\n",
       "      <td>91395</td>\n",
       "      <td>8910</td>\n",
       "      <td>420</td>\n",
       "      <td>2.1</td>\n",
       "      <td>Europe</td>\n",
       "    </tr>\n",
       "    <tr>\n",
       "      <th>4</th>\n",
       "      <td>United Kingdom</td>\n",
       "      <td>4287996</td>\n",
       "      <td>126068</td>\n",
       "      <td>4282203</td>\n",
       "      <td>125927</td>\n",
       "      <td>5793</td>\n",
       "      <td>141</td>\n",
       "      <td>2.9</td>\n",
       "      <td>Europe</td>\n",
       "    </tr>\n",
       "  </tbody>\n",
       "</table>\n",
       "</div>"
      ],
      "text/plain": [
       "   Country/Region     Cases  Deaths    PCases  PDeaths  Cases (+)  Deaths (+)  \\\n",
       "0              US  29607483  538087  29549003   536914      58480        1173   \n",
       "1          Brazil  11693838  284775  11603535   282127      90303        2648   \n",
       "2           India  11474605  159216  11438734   159044      35871         172   \n",
       "3          Russia   4368943   91815   4360033    91395       8910         420   \n",
       "4  United Kingdom   4287996  126068   4282203   125927       5793         141   \n",
       "\n",
       "   Fatality Rate      Continent  \n",
       "0            1.8  North America  \n",
       "1            2.4  South America  \n",
       "2            1.4           Asia  \n",
       "3            2.1         Europe  \n",
       "4            2.9         Europe  "
      ]
     },
     "execution_count": 15,
     "metadata": {},
     "output_type": "execute_result"
    }
   ],
   "source": [
    "#hide\n",
    "df_table = (pd.DataFrame(dict(Cases=dfc_cases, Deaths=dfc_deaths, PCases=dfp_cases, PDeaths=dfp_deaths))\n",
    "             .sort_values(by=['Cases', 'Deaths'], ascending=[False, False])\n",
    "             .reset_index())\n",
    "df_table.rename(columns={'index': 'Country/Region'}, inplace=True)\n",
    "for c in 'Cases, Deaths'.split(', '):\n",
    "    df_table[f'{c} (+)'] = (df_table[c] - df_table[f'P{c}']).clip(0)  # DATA BUG\n",
    "df_table['Fatality Rate'] = (100 * df_table['Deaths'] / df_table['Cases']).round(1)\n",
    "df_table['Continent'] = df_table['Country/Region'].map(mapping['map.continent'])\n",
    "df_table.head(5)"
   ]
  },
  {
   "cell_type": "code",
   "execution_count": 16,
   "id": "fewer-occasion",
   "metadata": {
    "execution": {
     "iopub.execute_input": "2021-03-18T12:07:43.476361Z",
     "iopub.status.busy": "2021-03-18T12:07:43.475698Z",
     "iopub.status.idle": "2021-03-18T12:07:43.477301Z",
     "shell.execute_reply": "2021-03-18T12:07:43.477831Z"
    },
    "papermill": {
     "duration": 0.048467,
     "end_time": "2021-03-18T12:07:43.477981",
     "exception": false,
     "start_time": "2021-03-18T12:07:43.429514",
     "status": "completed"
    },
    "tags": []
   },
   "outputs": [],
   "source": [
    "#hide\n",
    "#delete problematic countries from table\n",
    "df_table = df_table[~df_table['Country/Region'].isin(['Cape Verde', 'Cruise Ship', 'Kosovo'])]"
   ]
  },
  {
   "cell_type": "code",
   "execution_count": 17,
   "id": "related-center",
   "metadata": {
    "execution": {
     "iopub.execute_input": "2021-03-18T12:07:43.582558Z",
     "iopub.status.busy": "2021-03-18T12:07:43.581885Z",
     "iopub.status.idle": "2021-03-18T12:07:43.584266Z",
     "shell.execute_reply": "2021-03-18T12:07:43.584732Z"
    },
    "papermill": {
     "duration": 0.061808,
     "end_time": "2021-03-18T12:07:43.584892",
     "exception": false,
     "start_time": "2021-03-18T12:07:43.523084",
     "status": "completed"
    },
    "tags": []
   },
   "outputs": [],
   "source": [
    "#hide\n",
    "metrics = [df_table.columns[index] for index in [1,2,5,6]]\n",
    "# s_china = df_table[df_table['Country/Region'].eq('China')][metrics].sum().add_prefix('China ')\n",
    "s_us = df_table[df_table['Country/Region'].eq('US')][metrics].sum().add_prefix('US ')\n",
    "s_eu = df_table[df_table['Continent'].eq('Europe')][metrics].sum().add_prefix('EU ')\n",
    "s_ind = df_table[df_table['Country/Region'].eq('India')][metrics].sum().add_prefix('India ')\n",
    "summary = {'updated': pd.to_datetime(dt_today), 'since': pd.to_datetime(dt_yday)}\n",
    "summary = {'updated': pd.to_datetime(dt_today), 'since': pd.to_datetime(dt_yday)}\n",
    "summary = {**summary, **df_table[metrics].sum(), **s_ind, **s_us, **s_eu}"
   ]
  },
  {
   "cell_type": "code",
   "execution_count": 18,
   "id": "engaging-syndrome",
   "metadata": {
    "execution": {
     "iopub.execute_input": "2021-03-18T12:07:43.664104Z",
     "iopub.status.busy": "2021-03-18T12:07:43.663434Z",
     "iopub.status.idle": "2021-03-18T12:07:43.676311Z",
     "shell.execute_reply": "2021-03-18T12:07:43.675803Z"
    },
    "papermill": {
     "duration": 0.055088,
     "end_time": "2021-03-18T12:07:43.676451",
     "exception": false,
     "start_time": "2021-03-18T12:07:43.621363",
     "status": "completed"
    },
    "tags": []
   },
   "outputs": [],
   "source": [
    "#hide\n",
    "dft_ct_new_cases = dft_cases.groupby(COL_REGION)[dt_cols].sum().diff(axis=1).fillna(0).astype(int)"
   ]
  },
  {
   "cell_type": "code",
   "execution_count": 19,
   "id": "neutral-assignment",
   "metadata": {
    "execution": {
     "iopub.execute_input": "2021-03-18T12:07:43.755614Z",
     "iopub.status.busy": "2021-03-18T12:07:43.754956Z",
     "iopub.status.idle": "2021-03-18T12:07:43.757524Z",
     "shell.execute_reply": "2021-03-18T12:07:43.757009Z"
    },
    "papermill": {
     "duration": 0.04497,
     "end_time": "2021-03-18T12:07:43.757654",
     "exception": false,
     "start_time": "2021-03-18T12:07:43.712684",
     "status": "completed"
    },
    "tags": []
   },
   "outputs": [],
   "source": [
    "#hide\n",
    "everydaycases = dft_ct_new_cases.cumsum(axis=1)"
   ]
  },
  {
   "cell_type": "code",
   "execution_count": 20,
   "id": "parliamentary-calgary",
   "metadata": {
    "execution": {
     "iopub.execute_input": "2021-03-18T12:07:43.835028Z",
     "iopub.status.busy": "2021-03-18T12:07:43.834409Z",
     "iopub.status.idle": "2021-03-18T12:07:46.622196Z",
     "shell.execute_reply": "2021-03-18T12:07:46.622717Z"
    },
    "papermill": {
     "duration": 2.82896,
     "end_time": "2021-03-18T12:07:46.622883",
     "exception": false,
     "start_time": "2021-03-18T12:07:43.793923",
     "status": "completed"
    },
    "tags": []
   },
   "outputs": [],
   "source": [
    "#hide\n",
    "import pandas as pd\n",
    "import matplotlib.pyplot as plt\n",
    "import matplotlib.ticker as ticker\n",
    "import matplotlib.animation as animation\n",
    "from IPython.display import HTML"
   ]
  },
  {
   "cell_type": "code",
   "execution_count": 21,
   "id": "lasting-extraction",
   "metadata": {
    "execution": {
     "iopub.execute_input": "2021-03-18T12:07:46.702354Z",
     "iopub.status.busy": "2021-03-18T12:07:46.701722Z",
     "iopub.status.idle": "2021-03-18T12:07:46.709343Z",
     "shell.execute_reply": "2021-03-18T12:07:46.708810Z"
    },
    "papermill": {
     "duration": 0.049838,
     "end_time": "2021-03-18T12:07:46.709474",
     "exception": false,
     "start_time": "2021-03-18T12:07:46.659636",
     "status": "completed"
    },
    "tags": []
   },
   "outputs": [],
   "source": [
    "#hide\n",
    "t = everydaycases.stack()"
   ]
  },
  {
   "cell_type": "code",
   "execution_count": 22,
   "id": "premier-sleeve",
   "metadata": {
    "execution": {
     "iopub.execute_input": "2021-03-18T12:07:46.787405Z",
     "iopub.status.busy": "2021-03-18T12:07:46.786726Z",
     "iopub.status.idle": "2021-03-18T12:07:46.795219Z",
     "shell.execute_reply": "2021-03-18T12:07:46.795796Z"
    },
    "papermill": {
     "duration": 0.050094,
     "end_time": "2021-03-18T12:07:46.795958",
     "exception": false,
     "start_time": "2021-03-18T12:07:46.745864",
     "status": "completed"
    },
    "tags": []
   },
   "outputs": [],
   "source": [
    "#hide\n",
    "g = t.reset_index(['Country/Region'])"
   ]
  },
  {
   "cell_type": "code",
   "execution_count": 23,
   "id": "distributed-pittsburgh",
   "metadata": {
    "execution": {
     "iopub.execute_input": "2021-03-18T12:07:46.873145Z",
     "iopub.status.busy": "2021-03-18T12:07:46.872475Z",
     "iopub.status.idle": "2021-03-18T12:07:46.874238Z",
     "shell.execute_reply": "2021-03-18T12:07:46.874777Z"
    },
    "papermill": {
     "duration": 0.04273,
     "end_time": "2021-03-18T12:07:46.874924",
     "exception": false,
     "start_time": "2021-03-18T12:07:46.832194",
     "status": "completed"
    },
    "tags": []
   },
   "outputs": [],
   "source": [
    "#hide\n",
    "g.index.name = 'date'"
   ]
  },
  {
   "cell_type": "code",
   "execution_count": 24,
   "id": "naked-donor",
   "metadata": {
    "execution": {
     "iopub.execute_input": "2021-03-18T12:07:46.956259Z",
     "iopub.status.busy": "2021-03-18T12:07:46.955602Z",
     "iopub.status.idle": "2021-03-18T12:07:46.958051Z",
     "shell.execute_reply": "2021-03-18T12:07:46.957550Z"
    },
    "papermill": {
     "duration": 0.043064,
     "end_time": "2021-03-18T12:07:46.958189",
     "exception": false,
     "start_time": "2021-03-18T12:07:46.915125",
     "status": "completed"
    },
    "tags": []
   },
   "outputs": [],
   "source": [
    "# #hide\n",
    "# g = g.reset_index(['date'])"
   ]
  },
  {
   "cell_type": "code",
   "execution_count": 25,
   "id": "incomplete-mustang",
   "metadata": {
    "execution": {
     "iopub.execute_input": "2021-03-18T12:07:47.041719Z",
     "iopub.status.busy": "2021-03-18T12:07:47.041097Z",
     "iopub.status.idle": "2021-03-18T12:07:47.043077Z",
     "shell.execute_reply": "2021-03-18T12:07:47.043618Z"
    },
    "papermill": {
     "duration": 0.046834,
     "end_time": "2021-03-18T12:07:47.043770",
     "exception": false,
     "start_time": "2021-03-18T12:07:46.996936",
     "status": "completed"
    },
    "tags": []
   },
   "outputs": [],
   "source": [
    "#hide\n",
    "# g.head()"
   ]
  },
  {
   "cell_type": "code",
   "execution_count": 26,
   "id": "specific-kruger",
   "metadata": {
    "execution": {
     "iopub.execute_input": "2021-03-18T12:07:47.151283Z",
     "iopub.status.busy": "2021-03-18T12:07:47.150375Z",
     "iopub.status.idle": "2021-03-18T12:07:47.152301Z",
     "shell.execute_reply": "2021-03-18T12:07:47.153071Z"
    },
    "papermill": {
     "duration": 0.057759,
     "end_time": "2021-03-18T12:07:47.153288",
     "exception": false,
     "start_time": "2021-03-18T12:07:47.095529",
     "status": "completed"
    },
    "tags": []
   },
   "outputs": [],
   "source": [
    "#hide\n",
    "# g.columns = ['date','country','cases']"
   ]
  },
  {
   "cell_type": "code",
   "execution_count": 27,
   "id": "tender-conversion",
   "metadata": {
    "execution": {
     "iopub.execute_input": "2021-03-18T12:07:47.241629Z",
     "iopub.status.busy": "2021-03-18T12:07:47.240981Z",
     "iopub.status.idle": "2021-03-18T12:07:47.243555Z",
     "shell.execute_reply": "2021-03-18T12:07:47.242918Z"
    },
    "papermill": {
     "duration": 0.04623,
     "end_time": "2021-03-18T12:07:47.243687",
     "exception": false,
     "start_time": "2021-03-18T12:07:47.197457",
     "status": "completed"
    },
    "tags": []
   },
   "outputs": [],
   "source": [
    "#hide\n",
    "# g['continent'] = g.country"
   ]
  },
  {
   "cell_type": "code",
   "execution_count": 28,
   "id": "substantial-wilderness",
   "metadata": {
    "execution": {
     "iopub.execute_input": "2021-03-18T12:07:47.327215Z",
     "iopub.status.busy": "2021-03-18T12:07:47.326357Z",
     "iopub.status.idle": "2021-03-18T12:07:47.328173Z",
     "shell.execute_reply": "2021-03-18T12:07:47.328767Z"
    },
    "papermill": {
     "duration": 0.046024,
     "end_time": "2021-03-18T12:07:47.328918",
     "exception": false,
     "start_time": "2021-03-18T12:07:47.282894",
     "status": "completed"
    },
    "tags": []
   },
   "outputs": [],
   "source": [
    "#hide\n",
    "# cols = list(g.columns.values)"
   ]
  },
  {
   "cell_type": "code",
   "execution_count": 29,
   "id": "solved-farming",
   "metadata": {
    "execution": {
     "iopub.execute_input": "2021-03-18T12:07:47.408275Z",
     "iopub.status.busy": "2021-03-18T12:07:47.407654Z",
     "iopub.status.idle": "2021-03-18T12:07:47.410885Z",
     "shell.execute_reply": "2021-03-18T12:07:47.410398Z"
    },
    "papermill": {
     "duration": 0.043023,
     "end_time": "2021-03-18T12:07:47.411015",
     "exception": false,
     "start_time": "2021-03-18T12:07:47.367992",
     "status": "completed"
    },
    "tags": []
   },
   "outputs": [],
   "source": [
    "#hide\n",
    "# cols.insert(0, cols.pop())"
   ]
  },
  {
   "cell_type": "code",
   "execution_count": 30,
   "id": "executed-adoption",
   "metadata": {
    "execution": {
     "iopub.execute_input": "2021-03-18T12:07:47.488074Z",
     "iopub.status.busy": "2021-03-18T12:07:47.487397Z",
     "iopub.status.idle": "2021-03-18T12:07:47.491129Z",
     "shell.execute_reply": "2021-03-18T12:07:47.490578Z"
    },
    "papermill": {
     "duration": 0.04401,
     "end_time": "2021-03-18T12:07:47.491296",
     "exception": false,
     "start_time": "2021-03-18T12:07:47.447286",
     "status": "completed"
    },
    "tags": []
   },
   "outputs": [],
   "source": [
    "#hide\n",
    "# g = g[cols]"
   ]
  },
  {
   "cell_type": "code",
   "execution_count": 31,
   "id": "subject-dublin",
   "metadata": {
    "execution": {
     "iopub.execute_input": "2021-03-18T12:07:47.569218Z",
     "iopub.status.busy": "2021-03-18T12:07:47.568546Z",
     "iopub.status.idle": "2021-03-18T12:07:47.572259Z",
     "shell.execute_reply": "2021-03-18T12:07:47.572842Z"
    },
    "papermill": {
     "duration": 0.045244,
     "end_time": "2021-03-18T12:07:47.572996",
     "exception": false,
     "start_time": "2021-03-18T12:07:47.527752",
     "status": "completed"
    },
    "tags": []
   },
   "outputs": [],
   "source": [
    "#hide\n",
    "# g['continent'] = g['continent'].map(mapping['map.continent'])"
   ]
  },
  {
   "cell_type": "code",
   "execution_count": 32,
   "id": "freelance-scout",
   "metadata": {
    "execution": {
     "iopub.execute_input": "2021-03-18T12:07:47.649488Z",
     "iopub.status.busy": "2021-03-18T12:07:47.648830Z",
     "iopub.status.idle": "2021-03-18T12:07:47.651286Z",
     "shell.execute_reply": "2021-03-18T12:07:47.650760Z"
    },
    "papermill": {
     "duration": 0.04231,
     "end_time": "2021-03-18T12:07:47.651427",
     "exception": false,
     "start_time": "2021-03-18T12:07:47.609117",
     "status": "completed"
    },
    "tags": []
   },
   "outputs": [],
   "source": [
    "#hide\n",
    "# g.head()"
   ]
  },
  {
   "cell_type": "code",
   "execution_count": 33,
   "id": "limited-engine",
   "metadata": {
    "execution": {
     "iopub.execute_input": "2021-03-18T12:07:47.728219Z",
     "iopub.status.busy": "2021-03-18T12:07:47.727593Z",
     "iopub.status.idle": "2021-03-18T12:07:47.730111Z",
     "shell.execute_reply": "2021-03-18T12:07:47.730633Z"
    },
    "papermill": {
     "duration": 0.042811,
     "end_time": "2021-03-18T12:07:47.730783",
     "exception": false,
     "start_time": "2021-03-18T12:07:47.687972",
     "status": "completed"
    },
    "tags": []
   },
   "outputs": [],
   "source": [
    "# hide\n",
    "# g['date'] = g['date'].astype('datetime64[ns]')"
   ]
  },
  {
   "cell_type": "code",
   "execution_count": 34,
   "id": "sophisticated-supervisor",
   "metadata": {
    "execution": {
     "iopub.execute_input": "2021-03-18T12:07:47.807092Z",
     "iopub.status.busy": "2021-03-18T12:07:47.806480Z",
     "iopub.status.idle": "2021-03-18T12:07:47.809160Z",
     "shell.execute_reply": "2021-03-18T12:07:47.808666Z"
    },
    "papermill": {
     "duration": 0.042457,
     "end_time": "2021-03-18T12:07:47.809291",
     "exception": false,
     "start_time": "2021-03-18T12:07:47.766834",
     "status": "completed"
    },
    "tags": []
   },
   "outputs": [],
   "source": [
    "#hide\n",
    "# g['date'] = g.date.dt.dayofyear"
   ]
  },
  {
   "cell_type": "code",
   "execution_count": 35,
   "id": "inside-dubai",
   "metadata": {
    "execution": {
     "iopub.execute_input": "2021-03-18T12:07:47.885636Z",
     "iopub.status.busy": "2021-03-18T12:07:47.885018Z",
     "iopub.status.idle": "2021-03-18T12:07:47.887153Z",
     "shell.execute_reply": "2021-03-18T12:07:47.887675Z"
    },
    "papermill": {
     "duration": 0.042389,
     "end_time": "2021-03-18T12:07:47.887826",
     "exception": false,
     "start_time": "2021-03-18T12:07:47.845437",
     "status": "completed"
    },
    "tags": []
   },
   "outputs": [],
   "source": [
    "#hide\n",
    "# g = g.rename(columns= {'continent':'group','country':'name','cases':'value'})"
   ]
  },
  {
   "cell_type": "code",
   "execution_count": 36,
   "id": "fleet-motorcycle",
   "metadata": {
    "execution": {
     "iopub.execute_input": "2021-03-18T12:07:47.964305Z",
     "iopub.status.busy": "2021-03-18T12:07:47.963647Z",
     "iopub.status.idle": "2021-03-18T12:07:47.966026Z",
     "shell.execute_reply": "2021-03-18T12:07:47.965531Z"
    },
    "papermill": {
     "duration": 0.042322,
     "end_time": "2021-03-18T12:07:47.966160",
     "exception": false,
     "start_time": "2021-03-18T12:07:47.923838",
     "status": "completed"
    },
    "tags": []
   },
   "outputs": [],
   "source": [
    "#hide\n",
    "# cols = ['name','group','day','value']"
   ]
  },
  {
   "cell_type": "code",
   "execution_count": 37,
   "id": "continued-sleeping",
   "metadata": {
    "execution": {
     "iopub.execute_input": "2021-03-18T12:07:48.043754Z",
     "iopub.status.busy": "2021-03-18T12:07:48.043105Z",
     "iopub.status.idle": "2021-03-18T12:07:48.045933Z",
     "shell.execute_reply": "2021-03-18T12:07:48.045440Z"
    },
    "papermill": {
     "duration": 0.043638,
     "end_time": "2021-03-18T12:07:48.046065",
     "exception": false,
     "start_time": "2021-03-18T12:07:48.002427",
     "status": "completed"
    },
    "tags": []
   },
   "outputs": [],
   "source": [
    "#hide\n",
    "# g.rename(columns= {'date':'day'},inplace = True)"
   ]
  },
  {
   "cell_type": "code",
   "execution_count": 38,
   "id": "major-fight",
   "metadata": {
    "execution": {
     "iopub.execute_input": "2021-03-18T12:07:48.122476Z",
     "iopub.status.busy": "2021-03-18T12:07:48.121860Z",
     "iopub.status.idle": "2021-03-18T12:07:48.124224Z",
     "shell.execute_reply": "2021-03-18T12:07:48.123677Z"
    },
    "papermill": {
     "duration": 0.042031,
     "end_time": "2021-03-18T12:07:48.124353",
     "exception": false,
     "start_time": "2021-03-18T12:07:48.082322",
     "status": "completed"
    },
    "tags": []
   },
   "outputs": [],
   "source": [
    "#hide\n",
    "# g = g[cols]"
   ]
  },
  {
   "cell_type": "code",
   "execution_count": 39,
   "id": "structured-mobile",
   "metadata": {
    "execution": {
     "iopub.execute_input": "2021-03-18T12:07:48.201857Z",
     "iopub.status.busy": "2021-03-18T12:07:48.201182Z",
     "iopub.status.idle": "2021-03-18T12:07:48.202780Z",
     "shell.execute_reply": "2021-03-18T12:07:48.203328Z"
    },
    "papermill": {
     "duration": 0.04275,
     "end_time": "2021-03-18T12:07:48.203480",
     "exception": false,
     "start_time": "2021-03-18T12:07:48.160730",
     "status": "completed"
    },
    "tags": []
   },
   "outputs": [],
   "source": [
    "# #hide\n",
    "# g = g[g.group.notna()]"
   ]
  },
  {
   "cell_type": "code",
   "execution_count": 40,
   "id": "determined-closing",
   "metadata": {
    "execution": {
     "iopub.execute_input": "2021-03-18T12:07:48.294420Z",
     "iopub.status.busy": "2021-03-18T12:07:48.293766Z",
     "iopub.status.idle": "2021-03-18T12:07:48.295666Z",
     "shell.execute_reply": "2021-03-18T12:07:48.296162Z"
    },
    "papermill": {
     "duration": 0.051062,
     "end_time": "2021-03-18T12:07:48.296311",
     "exception": false,
     "start_time": "2021-03-18T12:07:48.245249",
     "status": "completed"
    },
    "tags": []
   },
   "outputs": [],
   "source": [
    "# #hide\n",
    "# colors = dict(zip(\n",
    "#     [\"Oceania\", \"Europe\", \"Asia\", \"South America\", \"Middle East\", \"North America\", \"Africa\"],\n",
    "#     [\"#adb0ff\", \"#ffb3ff\", \"#90d595\", \"#e48381\", \"#aafbff\", \"#f7bb5f\", \"#eafb50\"]\n",
    "# ))\n",
    "# group_lk = g.set_index('name')['group'].to_dict()"
   ]
  },
  {
   "cell_type": "code",
   "execution_count": null,
   "id": "gross-drinking",
   "metadata": {
    "papermill": {
     "duration": 0.038366,
     "end_time": "2021-03-18T12:07:48.375037",
     "exception": false,
     "start_time": "2021-03-18T12:07:48.336671",
     "status": "completed"
    },
    "tags": []
   },
   "outputs": [],
   "source": []
  },
  {
   "cell_type": "code",
   "execution_count": 41,
   "id": "subject-macintosh",
   "metadata": {
    "execution": {
     "iopub.execute_input": "2021-03-18T12:07:48.452278Z",
     "iopub.status.busy": "2021-03-18T12:07:48.451620Z",
     "iopub.status.idle": "2021-03-18T12:07:48.453669Z",
     "shell.execute_reply": "2021-03-18T12:07:48.454133Z"
    },
    "papermill": {
     "duration": 0.043096,
     "end_time": "2021-03-18T12:07:48.454288",
     "exception": false,
     "start_time": "2021-03-18T12:07:48.411192",
     "status": "completed"
    },
    "tags": []
   },
   "outputs": [],
   "source": [
    "# #hide\n",
    "# fig, ax = plt.subplots(figsize=(15, 8))\n",
    "\n",
    "# def draw_barchart(current_day):\n",
    "#     dff = g[g['day'].eq(current_day)].sort_values(by='value', ascending=True).tail(10)\n",
    "#     ax.clear()\n",
    "#     ax.barh(dff['name'], dff['value'], color=[colors[group_lk[x]] for x in dff['name']])\n",
    "#     dx = dff['value'].max() / 200\n",
    "    \n",
    "#     for i, (value, name) in enumerate(zip(dff['value'], dff['name'])):\n",
    "#         ax.text(value-dx, i,     name,           size=14, weight=600, ha='right', va='bottom')\n",
    "#         ax.text(value-dx, i-.25, group_lk[name], size=10, color='#444444', ha='right', va='baseline')\n",
    "#         ax.text(value+dx, i,     f'{value:,.0f}',  size=14, ha='left',  va='center')\n",
    "#     ax.text(1, 0.4, current_day, transform=ax.transAxes, color='#777777', size=46, ha='right', weight=800)\n",
    "#     ax.text(0, 1.06, 'Population (thousands)', transform=ax.transAxes, size=12, color='#777777')\n",
    "#     ax.xaxis.set_major_formatter(ticker.StrMethodFormatter('{x:,.0f}'))\n",
    "#     ax.xaxis.set_ticks_position('top')\n",
    "#     ax.tick_params(axis='x', colors='#777777', labelsize=12)\n",
    "#     ax.set_yticks([])\n",
    "#     ax.margins(0, 0.01)\n",
    "#     ax.grid(which='major', axis='x', linestyle='-')\n",
    "#     ax.set_axisbelow(True)\n",
    "    \n",
    "#     ax.text(0, 1.15, 'Coronavirus',\n",
    "#             transform=ax.transAxes, size=24, weight=600, ha='left', va='top')\n",
    "# #     ax.text(1, 0, 'by @pratapvardhan; credit @jburnmurdoch', transform=ax.transAxes, color='#777777', ha='right',\n",
    "# #             bbox=dict(facecolor='white', alpha=0.8, edgecolor='white'))\n",
    "#     plt.box(False)"
   ]
  },
  {
   "cell_type": "code",
   "execution_count": 42,
   "id": "sexual-wages",
   "metadata": {
    "execution": {
     "iopub.execute_input": "2021-03-18T12:07:48.532014Z",
     "iopub.status.busy": "2021-03-18T12:07:48.530654Z",
     "iopub.status.idle": "2021-03-18T12:07:48.532713Z",
     "shell.execute_reply": "2021-03-18T12:07:48.533197Z"
    },
    "papermill": {
     "duration": 0.042768,
     "end_time": "2021-03-18T12:07:48.533350",
     "exception": false,
     "start_time": "2021-03-18T12:07:48.490582",
     "status": "completed"
    },
    "tags": []
   },
   "outputs": [],
   "source": [
    "# #hide_input\n",
    "# fig, ax = plt.subplots(figsize=(15, 8))\n",
    "# animator = animation.FuncAnimation(fig, draw_barchart, frames=range(g.day.values.min(), g.day.values.max()))\n",
    "# HTML(animator.to_jshtml())\n",
    "# # or use animator.to_html5_video() or animator.save() "
   ]
  },
  {
   "cell_type": "code",
   "execution_count": null,
   "id": "australian-container",
   "metadata": {
    "papermill": {
     "duration": 0.036042,
     "end_time": "2021-03-18T12:07:48.606269",
     "exception": false,
     "start_time": "2021-03-18T12:07:48.570227",
     "status": "completed"
    },
    "tags": []
   },
   "outputs": [],
   "source": []
  },
  {
   "cell_type": "code",
   "execution_count": null,
   "id": "mediterranean-pontiac",
   "metadata": {
    "papermill": {
     "duration": 0.035954,
     "end_time": "2021-03-18T12:07:48.678767",
     "exception": false,
     "start_time": "2021-03-18T12:07:48.642813",
     "status": "completed"
    },
    "tags": []
   },
   "outputs": [],
   "source": []
  },
  {
   "cell_type": "code",
   "execution_count": null,
   "id": "aging-legislature",
   "metadata": {
    "papermill": {
     "duration": 0.036032,
     "end_time": "2021-03-18T12:07:48.750837",
     "exception": false,
     "start_time": "2021-03-18T12:07:48.714805",
     "status": "completed"
    },
    "tags": []
   },
   "outputs": [],
   "source": []
  }
 ],
 "metadata": {
  "kernelspec": {
   "display_name": "Python 3",
   "language": "python",
   "name": "python3"
  },
  "language_info": {
   "codemirror_mode": {
    "name": "ipython",
    "version": 3
   },
   "file_extension": ".py",
   "mimetype": "text/x-python",
   "name": "python",
   "nbconvert_exporter": "python",
   "pygments_lexer": "ipython3",
   "version": "3.6.13"
  },
  "papermill": {
   "duration": 9.070498,
   "end_time": "2021-03-18T12:07:49.197208",
   "environment_variables": {},
   "exception": null,
   "input_path": "2020-03-21-covid19exp.ipynb",
   "output_path": "2020-03-21-covid19exp.ipynb",
   "parameters": {},
   "start_time": "2021-03-18T12:07:40.126710",
   "version": "2.0.0"
  }
 },
 "nbformat": 4,
 "nbformat_minor": 5
}