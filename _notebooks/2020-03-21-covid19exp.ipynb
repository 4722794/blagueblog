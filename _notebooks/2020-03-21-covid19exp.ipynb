{
 "cells": [
  {
   "cell_type": "markdown",
   "id": "muslim-click",
   "metadata": {
    "papermill": {
     "duration": 0.040607,
     "end_time": "2021-09-09T00:23:22.620946",
     "exception": false,
     "start_time": "2021-09-09T00:23:22.580339",
     "status": "completed"
    },
    "tags": []
   },
   "source": [
    "# COVID-19 Case Race\n",
    "> A race chart to see rising cases around the world\n",
    "\n",
    "- author: Hargun Oberoi\n",
    "- image: images/covid-overview.png\n",
    "- hide: false\n",
    "- badges: false"
   ]
  },
  {
   "cell_type": "code",
   "execution_count": 1,
   "id": "proof-material",
   "metadata": {
    "execution": {
     "iopub.execute_input": "2021-09-09T00:23:22.709619Z",
     "iopub.status.busy": "2021-09-09T00:23:22.708910Z",
     "iopub.status.idle": "2021-09-09T00:23:23.103676Z",
     "shell.execute_reply": "2021-09-09T00:23:23.103041Z"
    },
    "papermill": {
     "duration": 0.445697,
     "end_time": "2021-09-09T00:23:23.103850",
     "exception": false,
     "start_time": "2021-09-09T00:23:22.658153",
     "status": "completed"
    },
    "tags": []
   },
   "outputs": [],
   "source": [
    "#hide\n",
    "import numpy as np\n",
    "import pandas as pd\n",
    "from jinja2 import Template\n",
    "from IPython.display import HTML"
   ]
  },
  {
   "cell_type": "code",
   "execution_count": 2,
   "id": "developed-terminology",
   "metadata": {
    "execution": {
     "iopub.execute_input": "2021-09-09T00:23:23.182705Z",
     "iopub.status.busy": "2021-09-09T00:23:23.182055Z",
     "iopub.status.idle": "2021-09-09T00:23:23.183910Z",
     "shell.execute_reply": "2021-09-09T00:23:23.184637Z"
    },
    "papermill": {
     "duration": 0.045265,
     "end_time": "2021-09-09T00:23:23.184792",
     "exception": false,
     "start_time": "2021-09-09T00:23:23.139527",
     "status": "completed"
    },
    "tags": []
   },
   "outputs": [],
   "source": [
    "#hide\n",
    "\n",
    "# FETCH\n",
    "base_url = 'https://raw.githubusercontent.com/pratapvardhan/notebooks/master/covid19/'\n",
    "paths = {\n",
    "    'mapping': base_url + 'mapping_countries.csv',\n",
    "    'overview': base_url + 'overview.tpl'\n",
    "}"
   ]
  },
  {
   "cell_type": "code",
   "execution_count": 3,
   "id": "dynamic-saver",
   "metadata": {
    "execution": {
     "iopub.execute_input": "2021-09-09T00:23:23.269433Z",
     "iopub.status.busy": "2021-09-09T00:23:23.268719Z",
     "iopub.status.idle": "2021-09-09T00:23:23.272035Z",
     "shell.execute_reply": "2021-09-09T00:23:23.271370Z"
    },
    "papermill": {
     "duration": 0.051265,
     "end_time": "2021-09-09T00:23:23.272188",
     "exception": false,
     "start_time": "2021-09-09T00:23:23.220923",
     "status": "completed"
    },
    "tags": []
   },
   "outputs": [
    {
     "data": {
      "text/plain": [
       "'https://raw.githubusercontent.com/pratapvardhan/notebooks/master/covid19/mapping_countries.csv'"
      ]
     },
     "execution_count": 3,
     "metadata": {},
     "output_type": "execute_result"
    }
   ],
   "source": [
    "#hide\n",
    "paths['mapping']"
   ]
  },
  {
   "cell_type": "code",
   "execution_count": 4,
   "id": "urban-software",
   "metadata": {
    "execution": {
     "iopub.execute_input": "2021-09-09T00:23:23.352474Z",
     "iopub.status.busy": "2021-09-09T00:23:23.351808Z",
     "iopub.status.idle": "2021-09-09T00:23:23.354243Z",
     "shell.execute_reply": "2021-09-09T00:23:23.354768Z"
    },
    "papermill": {
     "duration": 0.045464,
     "end_time": "2021-09-09T00:23:23.354923",
     "exception": false,
     "start_time": "2021-09-09T00:23:23.309459",
     "status": "completed"
    },
    "tags": []
   },
   "outputs": [],
   "source": [
    "#hide\n",
    "def get_mappings(url):\n",
    "    df = pd.read_csv(url)\n",
    "    return {\n",
    "        'df': df,\n",
    "        'replace.country': dict(df.dropna(subset=['Name']).set_index('Country')['Name']),\n",
    "        'map.continent': dict(df.set_index('Name')['Continent'])\n",
    "    }"
   ]
  },
  {
   "cell_type": "code",
   "execution_count": 5,
   "id": "intimate-machinery",
   "metadata": {
    "execution": {
     "iopub.execute_input": "2021-09-09T00:23:23.436574Z",
     "iopub.status.busy": "2021-09-09T00:23:23.435898Z",
     "iopub.status.idle": "2021-09-09T00:23:23.493466Z",
     "shell.execute_reply": "2021-09-09T00:23:23.492884Z"
    },
    "papermill": {
     "duration": 0.100802,
     "end_time": "2021-09-09T00:23:23.493633",
     "exception": false,
     "start_time": "2021-09-09T00:23:23.392831",
     "status": "completed"
    },
    "tags": []
   },
   "outputs": [],
   "source": [
    "#hide\n",
    "mapping = get_mappings(paths['mapping'])"
   ]
  },
  {
   "cell_type": "code",
   "execution_count": 6,
   "id": "certified-tactics",
   "metadata": {
    "execution": {
     "iopub.execute_input": "2021-09-09T00:23:23.575426Z",
     "iopub.status.busy": "2021-09-09T00:23:23.574743Z",
     "iopub.status.idle": "2021-09-09T00:23:23.577244Z",
     "shell.execute_reply": "2021-09-09T00:23:23.576582Z"
    },
    "papermill": {
     "duration": 0.045756,
     "end_time": "2021-09-09T00:23:23.577429",
     "exception": false,
     "start_time": "2021-09-09T00:23:23.531673",
     "status": "completed"
    },
    "tags": []
   },
   "outputs": [],
   "source": [
    "#hide\n",
    "def get_template(path):\n",
    "    from urllib.parse import urlparse\n",
    "    if bool(urlparse(path).netloc):\n",
    "        from urllib.request import urlopen\n",
    "        return urlopen(path).read().decode('utf8')\n",
    "    return open(path).read()"
   ]
  },
  {
   "cell_type": "code",
   "execution_count": 7,
   "id": "realistic-blast",
   "metadata": {
    "execution": {
     "iopub.execute_input": "2021-09-09T00:23:23.659799Z",
     "iopub.status.busy": "2021-09-09T00:23:23.659136Z",
     "iopub.status.idle": "2021-09-09T00:23:23.661404Z",
     "shell.execute_reply": "2021-09-09T00:23:23.660764Z"
    },
    "papermill": {
     "duration": 0.045689,
     "end_time": "2021-09-09T00:23:23.661524",
     "exception": false,
     "start_time": "2021-09-09T00:23:23.615835",
     "status": "completed"
    },
    "tags": []
   },
   "outputs": [],
   "source": [
    "#hide\n",
    "def get_frame(name):\n",
    "    url = (\n",
    "        'https://raw.githubusercontent.com/CSSEGISandData/COVID-19/master/csse_covid_19_data/'\n",
    "        f'csse_covid_19_time_series/time_series_covid19_{name}_global.csv')\n",
    "    df = pd.read_csv(url)\n",
    "    # rename countries\n",
    "    df['Country/Region'] = df['Country/Region'].replace(mapping['replace.country'])\n",
    "    return df"
   ]
  },
  {
   "cell_type": "code",
   "execution_count": 8,
   "id": "affiliated-characterization",
   "metadata": {
    "execution": {
     "iopub.execute_input": "2021-09-09T00:23:23.749570Z",
     "iopub.status.busy": "2021-09-09T00:23:23.748874Z",
     "iopub.status.idle": "2021-09-09T00:23:23.750760Z",
     "shell.execute_reply": "2021-09-09T00:23:23.751353Z"
    },
    "papermill": {
     "duration": 0.045778,
     "end_time": "2021-09-09T00:23:23.751486",
     "exception": false,
     "start_time": "2021-09-09T00:23:23.705708",
     "status": "completed"
    },
    "tags": []
   },
   "outputs": [],
   "source": [
    "#hide\n",
    "def get_dates(df):\n",
    "    dt_cols = df.columns[~df.columns.isin(['Province/State', 'Country/Region', 'Lat', 'Long'])]\n",
    "    LAST_DATE_I = -1\n",
    "    # sometimes last column may be empty, then go backwards\n",
    "    for i in range(-1, -len(dt_cols), -1):\n",
    "        if not df[dt_cols[i]].fillna(0).eq(0).all():\n",
    "            LAST_DATE_I = i\n",
    "            break\n",
    "    return LAST_DATE_I, dt_cols"
   ]
  },
  {
   "cell_type": "code",
   "execution_count": 9,
   "id": "recent-optimization",
   "metadata": {
    "execution": {
     "iopub.execute_input": "2021-09-09T00:23:23.832375Z",
     "iopub.status.busy": "2021-09-09T00:23:23.831715Z",
     "iopub.status.idle": "2021-09-09T00:23:24.243348Z",
     "shell.execute_reply": "2021-09-09T00:23:24.242781Z"
    },
    "papermill": {
     "duration": 0.454286,
     "end_time": "2021-09-09T00:23:24.243485",
     "exception": false,
     "start_time": "2021-09-09T00:23:23.789199",
     "status": "completed"
    },
    "tags": []
   },
   "outputs": [],
   "source": [
    "#hide\n",
    "COL_REGION = 'Country/Region'\n",
    "# Confirmed, Recovered, Deaths\n",
    "df = get_frame('confirmed')\n",
    "# dft_: timeseries, dfc_: today country agg\n",
    "dft_cases = df\n",
    "dft_deaths = get_frame('deaths')\n",
    "dft_recovered = get_frame('recovered')\n",
    "LAST_DATE_I, dt_cols = get_dates(df)"
   ]
  },
  {
   "cell_type": "code",
   "execution_count": 10,
   "id": "absolute-copper",
   "metadata": {
    "execution": {
     "iopub.execute_input": "2021-09-09T00:23:24.321028Z",
     "iopub.status.busy": "2021-09-09T00:23:24.320385Z",
     "iopub.status.idle": "2021-09-09T00:23:24.322856Z",
     "shell.execute_reply": "2021-09-09T00:23:24.322303Z"
    },
    "papermill": {
     "duration": 0.043554,
     "end_time": "2021-09-09T00:23:24.322991",
     "exception": false,
     "start_time": "2021-09-09T00:23:24.279437",
     "status": "completed"
    },
    "tags": []
   },
   "outputs": [],
   "source": [
    "#hide\n",
    "LAST_DATE_I, dt_cols = get_dates(df)\n",
    "dt_today =dt_cols[LAST_DATE_I]\n",
    "# dt_5day = dt_cols[LAST_DATE_I - 5]\n",
    "dt_yday = dt_cols[LAST_DATE_I - 1]"
   ]
  },
  {
   "cell_type": "code",
   "execution_count": 11,
   "id": "restricted-sheriff",
   "metadata": {
    "execution": {
     "iopub.execute_input": "2021-09-09T00:23:24.401548Z",
     "iopub.status.busy": "2021-09-09T00:23:24.400859Z",
     "iopub.status.idle": "2021-09-09T00:23:24.410024Z",
     "shell.execute_reply": "2021-09-09T00:23:24.409464Z"
    },
    "papermill": {
     "duration": 0.051515,
     "end_time": "2021-09-09T00:23:24.410146",
     "exception": false,
     "start_time": "2021-09-09T00:23:24.358631",
     "status": "completed"
    },
    "tags": []
   },
   "outputs": [],
   "source": [
    "#hide\n",
    "dfc_cases = dft_cases.groupby(COL_REGION)[dt_today].sum()\n",
    "dfc_deaths = dft_deaths.groupby(COL_REGION)[dt_today].sum()\n",
    "# dfp_cases = dft_cases.groupby(COL_REGION)[dt_5day].sum()\n",
    "# dfp_deaths = dft_deaths.groupby(COL_REGION)[dt_5day].sum()\n",
    "dfp_cases = dft_cases.groupby(COL_REGION)[dt_yday].sum()\n",
    "dfp_deaths = dft_deaths.groupby(COL_REGION)[dt_yday].sum()"
   ]
  },
  {
   "cell_type": "code",
   "execution_count": 12,
   "id": "deluxe-hepatitis",
   "metadata": {
    "execution": {
     "iopub.execute_input": "2021-09-09T00:23:24.491993Z",
     "iopub.status.busy": "2021-09-09T00:23:24.491333Z",
     "iopub.status.idle": "2021-09-09T00:23:24.496649Z",
     "shell.execute_reply": "2021-09-09T00:23:24.496056Z"
    },
    "papermill": {
     "duration": 0.048894,
     "end_time": "2021-09-09T00:23:24.496788",
     "exception": false,
     "start_time": "2021-09-09T00:23:24.447894",
     "status": "completed"
    },
    "tags": []
   },
   "outputs": [],
   "source": [
    "#hide\n",
    "df_table = (pd.DataFrame(dict(Cases = dfc_cases, Deaths = dfc_deaths, PCases = dfp_cases, PDeaths = dfp_deaths))\n",
    "            .sort_values(by = ['Cases','Deaths'], ascending = [False, False])\n",
    "            .reset_index())"
   ]
  },
  {
   "cell_type": "code",
   "execution_count": 13,
   "id": "educational-chancellor",
   "metadata": {
    "execution": {
     "iopub.execute_input": "2021-09-09T00:23:24.598940Z",
     "iopub.status.busy": "2021-09-09T00:23:24.598261Z",
     "iopub.status.idle": "2021-09-09T00:23:24.607151Z",
     "shell.execute_reply": "2021-09-09T00:23:24.606658Z"
    },
    "papermill": {
     "duration": 0.065881,
     "end_time": "2021-09-09T00:23:24.607291",
     "exception": false,
     "start_time": "2021-09-09T00:23:24.541410",
     "status": "completed"
    },
    "tags": []
   },
   "outputs": [
    {
     "data": {
      "text/html": [
       "<div>\n",
       "<style scoped>\n",
       "    .dataframe tbody tr th:only-of-type {\n",
       "        vertical-align: middle;\n",
       "    }\n",
       "\n",
       "    .dataframe tbody tr th {\n",
       "        vertical-align: top;\n",
       "    }\n",
       "\n",
       "    .dataframe thead th {\n",
       "        text-align: right;\n",
       "    }\n",
       "</style>\n",
       "<table border=\"1\" class=\"dataframe\">\n",
       "  <thead>\n",
       "    <tr style=\"text-align: right;\">\n",
       "      <th></th>\n",
       "      <th>Country/Region</th>\n",
       "      <th>Cases</th>\n",
       "      <th>Deaths</th>\n",
       "      <th>PCases</th>\n",
       "      <th>PDeaths</th>\n",
       "      <th>Cases (+)</th>\n",
       "      <th>Deaths (+)</th>\n",
       "      <th>Fatality Rate</th>\n",
       "      <th>Continent</th>\n",
       "    </tr>\n",
       "  </thead>\n",
       "  <tbody>\n",
       "    <tr>\n",
       "      <th>0</th>\n",
       "      <td>US</td>\n",
       "      <td>40280001</td>\n",
       "      <td>650511</td>\n",
       "      <td>40018318</td>\n",
       "      <td>648998</td>\n",
       "      <td>261683</td>\n",
       "      <td>1513</td>\n",
       "      <td>1.61</td>\n",
       "      <td>North America</td>\n",
       "    </tr>\n",
       "    <tr>\n",
       "      <th>1</th>\n",
       "      <td>India</td>\n",
       "      <td>33096718</td>\n",
       "      <td>441411</td>\n",
       "      <td>33058843</td>\n",
       "      <td>441042</td>\n",
       "      <td>37875</td>\n",
       "      <td>369</td>\n",
       "      <td>1.33</td>\n",
       "      <td>Asia</td>\n",
       "    </tr>\n",
       "    <tr>\n",
       "      <th>2</th>\n",
       "      <td>Brazil</td>\n",
       "      <td>20914237</td>\n",
       "      <td>584108</td>\n",
       "      <td>20899933</td>\n",
       "      <td>583810</td>\n",
       "      <td>14304</td>\n",
       "      <td>298</td>\n",
       "      <td>2.79</td>\n",
       "      <td>South America</td>\n",
       "    </tr>\n",
       "    <tr>\n",
       "      <th>3</th>\n",
       "      <td>United Kingdom</td>\n",
       "      <td>7089051</td>\n",
       "      <td>133808</td>\n",
       "      <td>7051516</td>\n",
       "      <td>133598</td>\n",
       "      <td>37535</td>\n",
       "      <td>210</td>\n",
       "      <td>1.89</td>\n",
       "      <td>Europe</td>\n",
       "    </tr>\n",
       "    <tr>\n",
       "      <th>4</th>\n",
       "      <td>Russia</td>\n",
       "      <td>6946922</td>\n",
       "      <td>185447</td>\n",
       "      <td>6929862</td>\n",
       "      <td>184672</td>\n",
       "      <td>17060</td>\n",
       "      <td>775</td>\n",
       "      <td>2.67</td>\n",
       "      <td>Europe</td>\n",
       "    </tr>\n",
       "  </tbody>\n",
       "</table>\n",
       "</div>"
      ],
      "text/plain": [
       "   Country/Region     Cases  Deaths    PCases  PDeaths  Cases (+)  Deaths (+)  \\\n",
       "0              US  40280001  650511  40018318   648998     261683        1513   \n",
       "1           India  33096718  441411  33058843   441042      37875         369   \n",
       "2          Brazil  20914237  584108  20899933   583810      14304         298   \n",
       "3  United Kingdom   7089051  133808   7051516   133598      37535         210   \n",
       "4          Russia   6946922  185447   6929862   184672      17060         775   \n",
       "\n",
       "   Fatality Rate      Continent  \n",
       "0           1.61  North America  \n",
       "1           1.33           Asia  \n",
       "2           2.79  South America  \n",
       "3           1.89         Europe  \n",
       "4           2.67         Europe  "
      ]
     },
     "execution_count": 13,
     "metadata": {},
     "output_type": "execute_result"
    }
   ],
   "source": [
    "#hide\n",
    "for c in 'Cases, Deaths'.split(', '):\n",
    "    df_table[f'{c} (+)'] = (df_table[c] - df_table[f'P{c}']).clip(0)\n",
    "    #Clip ça veut dire, les chiffres negatif sont interdit\n",
    "df_table['Fatality Rate'] = (100* df_table['Deaths']/ df_table['Cases']).round(2)\n",
    "df_table['Continent'] = df_table['Country/Region'].map(mapping['map.continent'])\n",
    "df_table.head(5)"
   ]
  },
  {
   "cell_type": "code",
   "execution_count": 14,
   "id": "aboriginal-bulgaria",
   "metadata": {
    "execution": {
     "iopub.execute_input": "2021-09-09T00:23:24.688324Z",
     "iopub.status.busy": "2021-09-09T00:23:24.687662Z",
     "iopub.status.idle": "2021-09-09T00:23:24.690427Z",
     "shell.execute_reply": "2021-09-09T00:23:24.691120Z"
    },
    "papermill": {
     "duration": 0.046673,
     "end_time": "2021-09-09T00:23:24.691256",
     "exception": false,
     "start_time": "2021-09-09T00:23:24.644583",
     "status": "completed"
    },
    "tags": []
   },
   "outputs": [],
   "source": [
    "#hide\n",
    "#delete problematic countries from table\n",
    "df_table = df_table[~df_table['Country/Region'].isin(['Cape Verde', 'Cruise Ship', 'Kosovo'])]"
   ]
  },
  {
   "cell_type": "code",
   "execution_count": 15,
   "id": "fantastic-effect",
   "metadata": {
    "execution": {
     "iopub.execute_input": "2021-09-09T00:23:24.776313Z",
     "iopub.status.busy": "2021-09-09T00:23:24.775655Z",
     "iopub.status.idle": "2021-09-09T00:23:24.797339Z",
     "shell.execute_reply": "2021-09-09T00:23:24.797916Z"
    },
    "papermill": {
     "duration": 0.067939,
     "end_time": "2021-09-09T00:23:24.798109",
     "exception": false,
     "start_time": "2021-09-09T00:23:24.730170",
     "status": "completed"
    },
    "tags": []
   },
   "outputs": [
    {
     "data": {
      "text/html": [
       "<div>\n",
       "<style scoped>\n",
       "    .dataframe tbody tr th:only-of-type {\n",
       "        vertical-align: middle;\n",
       "    }\n",
       "\n",
       "    .dataframe tbody tr th {\n",
       "        vertical-align: top;\n",
       "    }\n",
       "\n",
       "    .dataframe thead th {\n",
       "        text-align: right;\n",
       "    }\n",
       "</style>\n",
       "<table border=\"1\" class=\"dataframe\">\n",
       "  <thead>\n",
       "    <tr style=\"text-align: right;\">\n",
       "      <th></th>\n",
       "      <th>Country/Region</th>\n",
       "      <th>Cases</th>\n",
       "      <th>Deaths</th>\n",
       "      <th>PCases</th>\n",
       "      <th>PDeaths</th>\n",
       "      <th>Cases (+)</th>\n",
       "      <th>Deaths (+)</th>\n",
       "      <th>Fatality Rate</th>\n",
       "      <th>Continent</th>\n",
       "    </tr>\n",
       "  </thead>\n",
       "  <tbody>\n",
       "    <tr>\n",
       "      <th>0</th>\n",
       "      <td>US</td>\n",
       "      <td>40280001</td>\n",
       "      <td>650511</td>\n",
       "      <td>40018318</td>\n",
       "      <td>648998</td>\n",
       "      <td>261683</td>\n",
       "      <td>1513</td>\n",
       "      <td>1.6</td>\n",
       "      <td>North America</td>\n",
       "    </tr>\n",
       "    <tr>\n",
       "      <th>1</th>\n",
       "      <td>India</td>\n",
       "      <td>33096718</td>\n",
       "      <td>441411</td>\n",
       "      <td>33058843</td>\n",
       "      <td>441042</td>\n",
       "      <td>37875</td>\n",
       "      <td>369</td>\n",
       "      <td>1.3</td>\n",
       "      <td>Asia</td>\n",
       "    </tr>\n",
       "    <tr>\n",
       "      <th>2</th>\n",
       "      <td>Brazil</td>\n",
       "      <td>20914237</td>\n",
       "      <td>584108</td>\n",
       "      <td>20899933</td>\n",
       "      <td>583810</td>\n",
       "      <td>14304</td>\n",
       "      <td>298</td>\n",
       "      <td>2.8</td>\n",
       "      <td>South America</td>\n",
       "    </tr>\n",
       "    <tr>\n",
       "      <th>3</th>\n",
       "      <td>United Kingdom</td>\n",
       "      <td>7089051</td>\n",
       "      <td>133808</td>\n",
       "      <td>7051516</td>\n",
       "      <td>133598</td>\n",
       "      <td>37535</td>\n",
       "      <td>210</td>\n",
       "      <td>1.9</td>\n",
       "      <td>Europe</td>\n",
       "    </tr>\n",
       "    <tr>\n",
       "      <th>4</th>\n",
       "      <td>Russia</td>\n",
       "      <td>6946922</td>\n",
       "      <td>185447</td>\n",
       "      <td>6929862</td>\n",
       "      <td>184672</td>\n",
       "      <td>17060</td>\n",
       "      <td>775</td>\n",
       "      <td>2.7</td>\n",
       "      <td>Europe</td>\n",
       "    </tr>\n",
       "  </tbody>\n",
       "</table>\n",
       "</div>"
      ],
      "text/plain": [
       "   Country/Region     Cases  Deaths    PCases  PDeaths  Cases (+)  Deaths (+)  \\\n",
       "0              US  40280001  650511  40018318   648998     261683        1513   \n",
       "1           India  33096718  441411  33058843   441042      37875         369   \n",
       "2          Brazil  20914237  584108  20899933   583810      14304         298   \n",
       "3  United Kingdom   7089051  133808   7051516   133598      37535         210   \n",
       "4          Russia   6946922  185447   6929862   184672      17060         775   \n",
       "\n",
       "   Fatality Rate      Continent  \n",
       "0            1.6  North America  \n",
       "1            1.3           Asia  \n",
       "2            2.8  South America  \n",
       "3            1.9         Europe  \n",
       "4            2.7         Europe  "
      ]
     },
     "execution_count": 15,
     "metadata": {},
     "output_type": "execute_result"
    }
   ],
   "source": [
    "#hide\n",
    "df_table = (pd.DataFrame(dict(Cases=dfc_cases, Deaths=dfc_deaths, PCases=dfp_cases, PDeaths=dfp_deaths))\n",
    "             .sort_values(by=['Cases', 'Deaths'], ascending=[False, False])\n",
    "             .reset_index())\n",
    "df_table.rename(columns={'index': 'Country/Region'}, inplace=True)\n",
    "for c in 'Cases, Deaths'.split(', '):\n",
    "    df_table[f'{c} (+)'] = (df_table[c] - df_table[f'P{c}']).clip(0)  # DATA BUG\n",
    "df_table['Fatality Rate'] = (100 * df_table['Deaths'] / df_table['Cases']).round(1)\n",
    "df_table['Continent'] = df_table['Country/Region'].map(mapping['map.continent'])\n",
    "df_table.head(5)"
   ]
  },
  {
   "cell_type": "code",
   "execution_count": 16,
   "id": "fewer-occasion",
   "metadata": {
    "execution": {
     "iopub.execute_input": "2021-09-09T00:23:24.882854Z",
     "iopub.status.busy": "2021-09-09T00:23:24.882037Z",
     "iopub.status.idle": "2021-09-09T00:23:24.885024Z",
     "shell.execute_reply": "2021-09-09T00:23:24.884445Z"
    },
    "papermill": {
     "duration": 0.047477,
     "end_time": "2021-09-09T00:23:24.885157",
     "exception": false,
     "start_time": "2021-09-09T00:23:24.837680",
     "status": "completed"
    },
    "tags": []
   },
   "outputs": [],
   "source": [
    "#hide\n",
    "#delete problematic countries from table\n",
    "df_table = df_table[~df_table['Country/Region'].isin(['Cape Verde', 'Cruise Ship', 'Kosovo'])]"
   ]
  },
  {
   "cell_type": "code",
   "execution_count": 17,
   "id": "related-center",
   "metadata": {
    "execution": {
     "iopub.execute_input": "2021-09-09T00:23:24.984925Z",
     "iopub.status.busy": "2021-09-09T00:23:24.984215Z",
     "iopub.status.idle": "2021-09-09T00:23:24.985835Z",
     "shell.execute_reply": "2021-09-09T00:23:24.986485Z"
    },
    "papermill": {
     "duration": 0.062124,
     "end_time": "2021-09-09T00:23:24.986647",
     "exception": false,
     "start_time": "2021-09-09T00:23:24.924523",
     "status": "completed"
    },
    "tags": []
   },
   "outputs": [],
   "source": [
    "#hide\n",
    "metrics = [df_table.columns[index] for index in [1,2,5,6]]\n",
    "# s_china = df_table[df_table['Country/Region'].eq('China')][metrics].sum().add_prefix('China ')\n",
    "s_us = df_table[df_table['Country/Region'].eq('US')][metrics].sum().add_prefix('US ')\n",
    "s_eu = df_table[df_table['Continent'].eq('Europe')][metrics].sum().add_prefix('EU ')\n",
    "s_ind = df_table[df_table['Country/Region'].eq('India')][metrics].sum().add_prefix('India ')\n",
    "summary = {'updated': pd.to_datetime(dt_today), 'since': pd.to_datetime(dt_yday)}\n",
    "summary = {'updated': pd.to_datetime(dt_today), 'since': pd.to_datetime(dt_yday)}\n",
    "summary = {**summary, **df_table[metrics].sum(), **s_ind, **s_us, **s_eu}"
   ]
  },
  {
   "cell_type": "code",
   "execution_count": 18,
   "id": "engaging-syndrome",
   "metadata": {
    "execution": {
     "iopub.execute_input": "2021-09-09T00:23:25.071928Z",
     "iopub.status.busy": "2021-09-09T00:23:25.071265Z",
     "iopub.status.idle": "2021-09-09T00:23:25.085969Z",
     "shell.execute_reply": "2021-09-09T00:23:25.086584Z"
    },
    "papermill": {
     "duration": 0.060111,
     "end_time": "2021-09-09T00:23:25.086741",
     "exception": false,
     "start_time": "2021-09-09T00:23:25.026630",
     "status": "completed"
    },
    "tags": []
   },
   "outputs": [],
   "source": [
    "#hide\n",
    "dft_ct_new_cases = dft_cases.groupby(COL_REGION)[dt_cols].sum().diff(axis=1).fillna(0).astype(int)"
   ]
  },
  {
   "cell_type": "code",
   "execution_count": 19,
   "id": "neutral-assignment",
   "metadata": {
    "execution": {
     "iopub.execute_input": "2021-09-09T00:23:25.167697Z",
     "iopub.status.busy": "2021-09-09T00:23:25.166995Z",
     "iopub.status.idle": "2021-09-09T00:23:25.172393Z",
     "shell.execute_reply": "2021-09-09T00:23:25.171857Z"
    },
    "papermill": {
     "duration": 0.04697,
     "end_time": "2021-09-09T00:23:25.172517",
     "exception": false,
     "start_time": "2021-09-09T00:23:25.125547",
     "status": "completed"
    },
    "tags": []
   },
   "outputs": [],
   "source": [
    "#hide\n",
    "everydaycases = dft_ct_new_cases.cumsum(axis=1)"
   ]
  },
  {
   "cell_type": "code",
   "execution_count": 20,
   "id": "parliamentary-calgary",
   "metadata": {
    "execution": {
     "iopub.execute_input": "2021-09-09T00:23:25.254064Z",
     "iopub.status.busy": "2021-09-09T00:23:25.253392Z",
     "iopub.status.idle": "2021-09-09T00:23:25.865092Z",
     "shell.execute_reply": "2021-09-09T00:23:25.864583Z"
    },
    "papermill": {
     "duration": 0.655589,
     "end_time": "2021-09-09T00:23:25.865227",
     "exception": false,
     "start_time": "2021-09-09T00:23:25.209638",
     "status": "completed"
    },
    "tags": []
   },
   "outputs": [],
   "source": [
    "#hide\n",
    "import pandas as pd\n",
    "import matplotlib.pyplot as plt\n",
    "import matplotlib.ticker as ticker\n",
    "import matplotlib.animation as animation\n",
    "from IPython.display import HTML"
   ]
  },
  {
   "cell_type": "code",
   "execution_count": 21,
   "id": "lasting-extraction",
   "metadata": {
    "execution": {
     "iopub.execute_input": "2021-09-09T00:23:25.947394Z",
     "iopub.status.busy": "2021-09-09T00:23:25.946819Z",
     "iopub.status.idle": "2021-09-09T00:23:25.952343Z",
     "shell.execute_reply": "2021-09-09T00:23:25.952893Z"
    },
    "papermill": {
     "duration": 0.049788,
     "end_time": "2021-09-09T00:23:25.953189",
     "exception": false,
     "start_time": "2021-09-09T00:23:25.903401",
     "status": "completed"
    },
    "tags": []
   },
   "outputs": [],
   "source": [
    "#hide\n",
    "t = everydaycases.stack()"
   ]
  },
  {
   "cell_type": "code",
   "execution_count": 22,
   "id": "premier-sleeve",
   "metadata": {
    "execution": {
     "iopub.execute_input": "2021-09-09T00:23:26.032371Z",
     "iopub.status.busy": "2021-09-09T00:23:26.031715Z",
     "iopub.status.idle": "2021-09-09T00:23:26.040569Z",
     "shell.execute_reply": "2021-09-09T00:23:26.041122Z"
    },
    "papermill": {
     "duration": 0.051421,
     "end_time": "2021-09-09T00:23:26.041278",
     "exception": false,
     "start_time": "2021-09-09T00:23:25.989857",
     "status": "completed"
    },
    "tags": []
   },
   "outputs": [],
   "source": [
    "#hide\n",
    "g = t.reset_index(['Country/Region'])"
   ]
  },
  {
   "cell_type": "code",
   "execution_count": 23,
   "id": "distributed-pittsburgh",
   "metadata": {
    "execution": {
     "iopub.execute_input": "2021-09-09T00:23:26.124025Z",
     "iopub.status.busy": "2021-09-09T00:23:26.123349Z",
     "iopub.status.idle": "2021-09-09T00:23:26.126192Z",
     "shell.execute_reply": "2021-09-09T00:23:26.125512Z"
    },
    "papermill": {
     "duration": 0.044184,
     "end_time": "2021-09-09T00:23:26.126328",
     "exception": false,
     "start_time": "2021-09-09T00:23:26.082144",
     "status": "completed"
    },
    "tags": []
   },
   "outputs": [],
   "source": [
    "#hide\n",
    "g.index.name = 'date'"
   ]
  },
  {
   "cell_type": "code",
   "execution_count": 24,
   "id": "naked-donor",
   "metadata": {
    "execution": {
     "iopub.execute_input": "2021-09-09T00:23:26.210187Z",
     "iopub.status.busy": "2021-09-09T00:23:26.209497Z",
     "iopub.status.idle": "2021-09-09T00:23:26.212017Z",
     "shell.execute_reply": "2021-09-09T00:23:26.211451Z"
    },
    "papermill": {
     "duration": 0.047253,
     "end_time": "2021-09-09T00:23:26.212151",
     "exception": false,
     "start_time": "2021-09-09T00:23:26.164898",
     "status": "completed"
    },
    "tags": []
   },
   "outputs": [],
   "source": [
    "# #hide\n",
    "# g = g.reset_index(['date'])"
   ]
  },
  {
   "cell_type": "code",
   "execution_count": 25,
   "id": "incomplete-mustang",
   "metadata": {
    "execution": {
     "iopub.execute_input": "2021-09-09T00:23:26.290345Z",
     "iopub.status.busy": "2021-09-09T00:23:26.289763Z",
     "iopub.status.idle": "2021-09-09T00:23:26.292205Z",
     "shell.execute_reply": "2021-09-09T00:23:26.291665Z"
    },
    "papermill": {
     "duration": 0.042492,
     "end_time": "2021-09-09T00:23:26.292325",
     "exception": false,
     "start_time": "2021-09-09T00:23:26.249833",
     "status": "completed"
    },
    "tags": []
   },
   "outputs": [],
   "source": [
    "#hide\n",
    "# g.head()"
   ]
  },
  {
   "cell_type": "code",
   "execution_count": 26,
   "id": "specific-kruger",
   "metadata": {
    "execution": {
     "iopub.execute_input": "2021-09-09T00:23:26.372890Z",
     "iopub.status.busy": "2021-09-09T00:23:26.372239Z",
     "iopub.status.idle": "2021-09-09T00:23:26.374140Z",
     "shell.execute_reply": "2021-09-09T00:23:26.374734Z"
    },
    "papermill": {
     "duration": 0.044087,
     "end_time": "2021-09-09T00:23:26.374871",
     "exception": false,
     "start_time": "2021-09-09T00:23:26.330784",
     "status": "completed"
    },
    "tags": []
   },
   "outputs": [],
   "source": [
    "#hide\n",
    "# g.columns = ['date','country','cases']"
   ]
  },
  {
   "cell_type": "code",
   "execution_count": 27,
   "id": "tender-conversion",
   "metadata": {
    "execution": {
     "iopub.execute_input": "2021-09-09T00:23:26.454794Z",
     "iopub.status.busy": "2021-09-09T00:23:26.454213Z",
     "iopub.status.idle": "2021-09-09T00:23:26.456565Z",
     "shell.execute_reply": "2021-09-09T00:23:26.456072Z"
    },
    "papermill": {
     "duration": 0.044219,
     "end_time": "2021-09-09T00:23:26.456680",
     "exception": false,
     "start_time": "2021-09-09T00:23:26.412461",
     "status": "completed"
    },
    "tags": []
   },
   "outputs": [],
   "source": [
    "#hide\n",
    "# g['continent'] = g.country"
   ]
  },
  {
   "cell_type": "code",
   "execution_count": 28,
   "id": "substantial-wilderness",
   "metadata": {
    "execution": {
     "iopub.execute_input": "2021-09-09T00:23:26.539030Z",
     "iopub.status.busy": "2021-09-09T00:23:26.538175Z",
     "iopub.status.idle": "2021-09-09T00:23:26.540054Z",
     "shell.execute_reply": "2021-09-09T00:23:26.540712Z"
    },
    "papermill": {
     "duration": 0.046293,
     "end_time": "2021-09-09T00:23:26.540868",
     "exception": false,
     "start_time": "2021-09-09T00:23:26.494575",
     "status": "completed"
    },
    "tags": []
   },
   "outputs": [],
   "source": [
    "#hide\n",
    "# cols = list(g.columns.values)"
   ]
  },
  {
   "cell_type": "code",
   "execution_count": 29,
   "id": "solved-farming",
   "metadata": {
    "execution": {
     "iopub.execute_input": "2021-09-09T00:23:26.622609Z",
     "iopub.status.busy": "2021-09-09T00:23:26.621978Z",
     "iopub.status.idle": "2021-09-09T00:23:26.623991Z",
     "shell.execute_reply": "2021-09-09T00:23:26.624562Z"
    },
    "papermill": {
     "duration": 0.045217,
     "end_time": "2021-09-09T00:23:26.624729",
     "exception": false,
     "start_time": "2021-09-09T00:23:26.579512",
     "status": "completed"
    },
    "tags": []
   },
   "outputs": [],
   "source": [
    "#hide\n",
    "# cols.insert(0, cols.pop())"
   ]
  },
  {
   "cell_type": "code",
   "execution_count": 30,
   "id": "executed-adoption",
   "metadata": {
    "execution": {
     "iopub.execute_input": "2021-09-09T00:23:26.702220Z",
     "iopub.status.busy": "2021-09-09T00:23:26.701431Z",
     "iopub.status.idle": "2021-09-09T00:23:26.703539Z",
     "shell.execute_reply": "2021-09-09T00:23:26.704043Z"
    },
    "papermill": {
     "duration": 0.042149,
     "end_time": "2021-09-09T00:23:26.704173",
     "exception": false,
     "start_time": "2021-09-09T00:23:26.662024",
     "status": "completed"
    },
    "tags": []
   },
   "outputs": [],
   "source": [
    "#hide\n",
    "# g = g[cols]"
   ]
  },
  {
   "cell_type": "code",
   "execution_count": 31,
   "id": "subject-dublin",
   "metadata": {
    "execution": {
     "iopub.execute_input": "2021-09-09T00:23:26.783106Z",
     "iopub.status.busy": "2021-09-09T00:23:26.782413Z",
     "iopub.status.idle": "2021-09-09T00:23:26.784801Z",
     "shell.execute_reply": "2021-09-09T00:23:26.784157Z"
    },
    "papermill": {
     "duration": 0.043206,
     "end_time": "2021-09-09T00:23:26.784925",
     "exception": false,
     "start_time": "2021-09-09T00:23:26.741719",
     "status": "completed"
    },
    "tags": []
   },
   "outputs": [],
   "source": [
    "#hide\n",
    "# g['continent'] = g['continent'].map(mapping['map.continent'])"
   ]
  },
  {
   "cell_type": "code",
   "execution_count": 32,
   "id": "freelance-scout",
   "metadata": {
    "execution": {
     "iopub.execute_input": "2021-09-09T00:23:26.865671Z",
     "iopub.status.busy": "2021-09-09T00:23:26.865024Z",
     "iopub.status.idle": "2021-09-09T00:23:26.867292Z",
     "shell.execute_reply": "2021-09-09T00:23:26.866797Z"
    },
    "papermill": {
     "duration": 0.04394,
     "end_time": "2021-09-09T00:23:26.867420",
     "exception": false,
     "start_time": "2021-09-09T00:23:26.823480",
     "status": "completed"
    },
    "tags": []
   },
   "outputs": [],
   "source": [
    "#hide\n",
    "# g.head()"
   ]
  },
  {
   "cell_type": "code",
   "execution_count": 33,
   "id": "limited-engine",
   "metadata": {
    "execution": {
     "iopub.execute_input": "2021-09-09T00:23:26.945770Z",
     "iopub.status.busy": "2021-09-09T00:23:26.945108Z",
     "iopub.status.idle": "2021-09-09T00:23:26.946995Z",
     "shell.execute_reply": "2021-09-09T00:23:26.947503Z"
    },
    "papermill": {
     "duration": 0.043911,
     "end_time": "2021-09-09T00:23:26.947631",
     "exception": false,
     "start_time": "2021-09-09T00:23:26.903720",
     "status": "completed"
    },
    "tags": []
   },
   "outputs": [],
   "source": [
    "# hide\n",
    "# g['date'] = g['date'].astype('datetime64[ns]')"
   ]
  },
  {
   "cell_type": "code",
   "execution_count": 34,
   "id": "sophisticated-supervisor",
   "metadata": {
    "execution": {
     "iopub.execute_input": "2021-09-09T00:23:27.027211Z",
     "iopub.status.busy": "2021-09-09T00:23:27.026558Z",
     "iopub.status.idle": "2021-09-09T00:23:27.028937Z",
     "shell.execute_reply": "2021-09-09T00:23:27.028396Z"
    },
    "papermill": {
     "duration": 0.044103,
     "end_time": "2021-09-09T00:23:27.029074",
     "exception": false,
     "start_time": "2021-09-09T00:23:26.984971",
     "status": "completed"
    },
    "tags": []
   },
   "outputs": [],
   "source": [
    "#hide\n",
    "# g['date'] = g.date.dt.dayofyear"
   ]
  },
  {
   "cell_type": "code",
   "execution_count": 35,
   "id": "inside-dubai",
   "metadata": {
    "execution": {
     "iopub.execute_input": "2021-09-09T00:23:27.124574Z",
     "iopub.status.busy": "2021-09-09T00:23:27.123880Z",
     "iopub.status.idle": "2021-09-09T00:23:27.126606Z",
     "shell.execute_reply": "2021-09-09T00:23:27.127336Z"
    },
    "papermill": {
     "duration": 0.055428,
     "end_time": "2021-09-09T00:23:27.127515",
     "exception": false,
     "start_time": "2021-09-09T00:23:27.072087",
     "status": "completed"
    },
    "tags": []
   },
   "outputs": [],
   "source": [
    "#hide\n",
    "# g = g.rename(columns= {'continent':'group','country':'name','cases':'value'})"
   ]
  },
  {
   "cell_type": "code",
   "execution_count": 36,
   "id": "fleet-motorcycle",
   "metadata": {
    "execution": {
     "iopub.execute_input": "2021-09-09T00:23:27.223570Z",
     "iopub.status.busy": "2021-09-09T00:23:27.222719Z",
     "iopub.status.idle": "2021-09-09T00:23:27.225638Z",
     "shell.execute_reply": "2021-09-09T00:23:27.224995Z"
    },
    "papermill": {
     "duration": 0.04829,
     "end_time": "2021-09-09T00:23:27.225780",
     "exception": false,
     "start_time": "2021-09-09T00:23:27.177490",
     "status": "completed"
    },
    "tags": []
   },
   "outputs": [],
   "source": [
    "#hide\n",
    "# cols = ['name','group','day','value']"
   ]
  },
  {
   "cell_type": "code",
   "execution_count": 37,
   "id": "continued-sleeping",
   "metadata": {
    "execution": {
     "iopub.execute_input": "2021-09-09T00:23:27.308921Z",
     "iopub.status.busy": "2021-09-09T00:23:27.308274Z",
     "iopub.status.idle": "2021-09-09T00:23:27.310214Z",
     "shell.execute_reply": "2021-09-09T00:23:27.310759Z"
    },
    "papermill": {
     "duration": 0.045705,
     "end_time": "2021-09-09T00:23:27.310903",
     "exception": false,
     "start_time": "2021-09-09T00:23:27.265198",
     "status": "completed"
    },
    "tags": []
   },
   "outputs": [],
   "source": [
    "#hide\n",
    "# g.rename(columns= {'date':'day'},inplace = True)"
   ]
  },
  {
   "cell_type": "code",
   "execution_count": 38,
   "id": "major-fight",
   "metadata": {
    "execution": {
     "iopub.execute_input": "2021-09-09T00:23:27.394458Z",
     "iopub.status.busy": "2021-09-09T00:23:27.393783Z",
     "iopub.status.idle": "2021-09-09T00:23:27.396389Z",
     "shell.execute_reply": "2021-09-09T00:23:27.395826Z"
    },
    "papermill": {
     "duration": 0.046584,
     "end_time": "2021-09-09T00:23:27.396523",
     "exception": false,
     "start_time": "2021-09-09T00:23:27.349939",
     "status": "completed"
    },
    "tags": []
   },
   "outputs": [],
   "source": [
    "#hide\n",
    "# g = g[cols]"
   ]
  },
  {
   "cell_type": "code",
   "execution_count": 39,
   "id": "structured-mobile",
   "metadata": {
    "execution": {
     "iopub.execute_input": "2021-09-09T00:23:27.487121Z",
     "iopub.status.busy": "2021-09-09T00:23:27.486292Z",
     "iopub.status.idle": "2021-09-09T00:23:27.488118Z",
     "shell.execute_reply": "2021-09-09T00:23:27.489013Z"
    },
    "papermill": {
     "duration": 0.052343,
     "end_time": "2021-09-09T00:23:27.489164",
     "exception": false,
     "start_time": "2021-09-09T00:23:27.436821",
     "status": "completed"
    },
    "tags": []
   },
   "outputs": [],
   "source": [
    "# #hide\n",
    "# g = g[g.group.notna()]"
   ]
  },
  {
   "cell_type": "code",
   "execution_count": 40,
   "id": "determined-closing",
   "metadata": {
    "execution": {
     "iopub.execute_input": "2021-09-09T00:23:27.572876Z",
     "iopub.status.busy": "2021-09-09T00:23:27.572208Z",
     "iopub.status.idle": "2021-09-09T00:23:27.574137Z",
     "shell.execute_reply": "2021-09-09T00:23:27.574633Z"
    },
    "papermill": {
     "duration": 0.04661,
     "end_time": "2021-09-09T00:23:27.574762",
     "exception": false,
     "start_time": "2021-09-09T00:23:27.528152",
     "status": "completed"
    },
    "tags": []
   },
   "outputs": [],
   "source": [
    "# #hide\n",
    "# colors = dict(zip(\n",
    "#     [\"Oceania\", \"Europe\", \"Asia\", \"South America\", \"Middle East\", \"North America\", \"Africa\"],\n",
    "#     [\"#adb0ff\", \"#ffb3ff\", \"#90d595\", \"#e48381\", \"#aafbff\", \"#f7bb5f\", \"#eafb50\"]\n",
    "# ))\n",
    "# group_lk = g.set_index('name')['group'].to_dict()"
   ]
  },
  {
   "cell_type": "code",
   "execution_count": null,
   "id": "gross-drinking",
   "metadata": {
    "papermill": {
     "duration": 0.036276,
     "end_time": "2021-09-09T00:23:27.647857",
     "exception": false,
     "start_time": "2021-09-09T00:23:27.611581",
     "status": "completed"
    },
    "tags": []
   },
   "outputs": [],
   "source": []
  },
  {
   "cell_type": "code",
   "execution_count": 41,
   "id": "subject-macintosh",
   "metadata": {
    "execution": {
     "iopub.execute_input": "2021-09-09T00:23:27.726517Z",
     "iopub.status.busy": "2021-09-09T00:23:27.725865Z",
     "iopub.status.idle": "2021-09-09T00:23:27.728110Z",
     "shell.execute_reply": "2021-09-09T00:23:27.728621Z"
    },
    "papermill": {
     "duration": 0.043802,
     "end_time": "2021-09-09T00:23:27.728773",
     "exception": false,
     "start_time": "2021-09-09T00:23:27.684971",
     "status": "completed"
    },
    "tags": []
   },
   "outputs": [],
   "source": [
    "# #hide\n",
    "# fig, ax = plt.subplots(figsize=(15, 8))\n",
    "\n",
    "# def draw_barchart(current_day):\n",
    "#     dff = g[g['day'].eq(current_day)].sort_values(by='value', ascending=True).tail(10)\n",
    "#     ax.clear()\n",
    "#     ax.barh(dff['name'], dff['value'], color=[colors[group_lk[x]] for x in dff['name']])\n",
    "#     dx = dff['value'].max() / 200\n",
    "    \n",
    "#     for i, (value, name) in enumerate(zip(dff['value'], dff['name'])):\n",
    "#         ax.text(value-dx, i,     name,           size=14, weight=600, ha='right', va='bottom')\n",
    "#         ax.text(value-dx, i-.25, group_lk[name], size=10, color='#444444', ha='right', va='baseline')\n",
    "#         ax.text(value+dx, i,     f'{value:,.0f}',  size=14, ha='left',  va='center')\n",
    "#     ax.text(1, 0.4, current_day, transform=ax.transAxes, color='#777777', size=46, ha='right', weight=800)\n",
    "#     ax.text(0, 1.06, 'Population (thousands)', transform=ax.transAxes, size=12, color='#777777')\n",
    "#     ax.xaxis.set_major_formatter(ticker.StrMethodFormatter('{x:,.0f}'))\n",
    "#     ax.xaxis.set_ticks_position('top')\n",
    "#     ax.tick_params(axis='x', colors='#777777', labelsize=12)\n",
    "#     ax.set_yticks([])\n",
    "#     ax.margins(0, 0.01)\n",
    "#     ax.grid(which='major', axis='x', linestyle='-')\n",
    "#     ax.set_axisbelow(True)\n",
    "    \n",
    "#     ax.text(0, 1.15, 'Coronavirus',\n",
    "#             transform=ax.transAxes, size=24, weight=600, ha='left', va='top')\n",
    "# #     ax.text(1, 0, 'by @pratapvardhan; credit @jburnmurdoch', transform=ax.transAxes, color='#777777', ha='right',\n",
    "# #             bbox=dict(facecolor='white', alpha=0.8, edgecolor='white'))\n",
    "#     plt.box(False)"
   ]
  },
  {
   "cell_type": "code",
   "execution_count": 42,
   "id": "sexual-wages",
   "metadata": {
    "execution": {
     "iopub.execute_input": "2021-09-09T00:23:27.808568Z",
     "iopub.status.busy": "2021-09-09T00:23:27.807938Z",
     "iopub.status.idle": "2021-09-09T00:23:27.809833Z",
     "shell.execute_reply": "2021-09-09T00:23:27.810332Z"
    },
    "papermill": {
     "duration": 0.04389,
     "end_time": "2021-09-09T00:23:27.810462",
     "exception": false,
     "start_time": "2021-09-09T00:23:27.766572",
     "status": "completed"
    },
    "tags": []
   },
   "outputs": [],
   "source": [
    "# #hide_input\n",
    "# fig, ax = plt.subplots(figsize=(15, 8))\n",
    "# animator = animation.FuncAnimation(fig, draw_barchart, frames=range(g.day.values.min(), g.day.values.max()))\n",
    "# HTML(animator.to_jshtml())\n",
    "# # or use animator.to_html5_video() or animator.save() "
   ]
  },
  {
   "cell_type": "code",
   "execution_count": null,
   "id": "australian-container",
   "metadata": {
    "papermill": {
     "duration": 0.039298,
     "end_time": "2021-09-09T00:23:27.886438",
     "exception": false,
     "start_time": "2021-09-09T00:23:27.847140",
     "status": "completed"
    },
    "tags": []
   },
   "outputs": [],
   "source": []
  },
  {
   "cell_type": "code",
   "execution_count": null,
   "id": "mediterranean-pontiac",
   "metadata": {
    "papermill": {
     "duration": 0.039164,
     "end_time": "2021-09-09T00:23:27.966353",
     "exception": false,
     "start_time": "2021-09-09T00:23:27.927189",
     "status": "completed"
    },
    "tags": []
   },
   "outputs": [],
   "source": []
  },
  {
   "cell_type": "code",
   "execution_count": null,
   "id": "aging-legislature",
   "metadata": {
    "papermill": {
     "duration": 0.04281,
     "end_time": "2021-09-09T00:23:28.048535",
     "exception": false,
     "start_time": "2021-09-09T00:23:28.005725",
     "status": "completed"
    },
    "tags": []
   },
   "outputs": [],
   "source": []
  }
 ],
 "metadata": {
  "kernelspec": {
   "display_name": "Python 3",
   "language": "python",
   "name": "python3"
  },
  "language_info": {
   "codemirror_mode": {
    "name": "ipython",
    "version": 3
   },
   "file_extension": ".py",
   "mimetype": "text/x-python",
   "name": "python",
   "nbconvert_exporter": "python",
   "pygments_lexer": "ipython3",
   "version": "3.6.14"
  },
  "papermill": {
   "duration": 7.032071,
   "end_time": "2021-09-09T00:23:28.509415",
   "environment_variables": {},
   "exception": null,
   "input_path": "2020-03-21-covid19exp.ipynb",
   "output_path": "2020-03-21-covid19exp.ipynb",
   "parameters": {},
   "start_time": "2021-09-09T00:23:21.477344",
   "version": "2.0.0"
  }
 },
 "nbformat": 4,
 "nbformat_minor": 5
}