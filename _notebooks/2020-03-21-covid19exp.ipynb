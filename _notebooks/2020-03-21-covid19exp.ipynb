{
 "cells": [
  {
   "cell_type": "markdown",
   "id": "muslim-click",
   "metadata": {
    "papermill": {
     "duration": 0.044427,
     "end_time": "2022-02-05T12:10:10.924753",
     "exception": false,
     "start_time": "2022-02-05T12:10:10.880326",
     "status": "completed"
    },
    "tags": []
   },
   "source": [
    "# COVID-19 Case Race\n",
    "> A race chart to see rising cases around the world\n",
    "\n",
    "- author: Hargun Oberoi\n",
    "- image: images/covid-overview.png\n",
    "- hide: false\n",
    "- badges: false"
   ]
  },
  {
   "cell_type": "code",
   "execution_count": 1,
   "id": "proof-material",
   "metadata": {
    "execution": {
     "iopub.execute_input": "2022-02-05T12:10:11.014750Z",
     "iopub.status.busy": "2022-02-05T12:10:11.014012Z",
     "iopub.status.idle": "2022-02-05T12:10:11.468028Z",
     "shell.execute_reply": "2022-02-05T12:10:11.468570Z"
    },
    "papermill": {
     "duration": 0.506001,
     "end_time": "2022-02-05T12:10:11.468783",
     "exception": false,
     "start_time": "2022-02-05T12:10:10.962782",
     "status": "completed"
    },
    "tags": []
   },
   "outputs": [],
   "source": [
    "#hide\n",
    "import numpy as np\n",
    "import pandas as pd\n",
    "from jinja2 import Template\n",
    "from IPython.display import HTML"
   ]
  },
  {
   "cell_type": "code",
   "execution_count": 2,
   "id": "developed-terminology",
   "metadata": {
    "execution": {
     "iopub.execute_input": "2022-02-05T12:10:11.550546Z",
     "iopub.status.busy": "2022-02-05T12:10:11.549832Z",
     "iopub.status.idle": "2022-02-05T12:10:11.551565Z",
     "shell.execute_reply": "2022-02-05T12:10:11.552147Z"
    },
    "papermill": {
     "duration": 0.045848,
     "end_time": "2022-02-05T12:10:11.552320",
     "exception": false,
     "start_time": "2022-02-05T12:10:11.506472",
     "status": "completed"
    },
    "tags": []
   },
   "outputs": [],
   "source": [
    "#hide\n",
    "\n",
    "# FETCH\n",
    "base_url = 'https://raw.githubusercontent.com/pratapvardhan/notebooks/master/covid19/'\n",
    "paths = {\n",
    "    'mapping': base_url + 'mapping_countries.csv',\n",
    "    'overview': base_url + 'overview.tpl'\n",
    "}"
   ]
  },
  {
   "cell_type": "code",
   "execution_count": 3,
   "id": "dynamic-saver",
   "metadata": {
    "execution": {
     "iopub.execute_input": "2022-02-05T12:10:11.641626Z",
     "iopub.status.busy": "2022-02-05T12:10:11.640934Z",
     "iopub.status.idle": "2022-02-05T12:10:11.644378Z",
     "shell.execute_reply": "2022-02-05T12:10:11.643845Z"
    },
    "papermill": {
     "duration": 0.05339,
     "end_time": "2022-02-05T12:10:11.644526",
     "exception": false,
     "start_time": "2022-02-05T12:10:11.591136",
     "status": "completed"
    },
    "tags": []
   },
   "outputs": [
    {
     "data": {
      "text/plain": [
       "'https://raw.githubusercontent.com/pratapvardhan/notebooks/master/covid19/mapping_countries.csv'"
      ]
     },
     "execution_count": 3,
     "metadata": {},
     "output_type": "execute_result"
    }
   ],
   "source": [
    "#hide\n",
    "paths['mapping']"
   ]
  },
  {
   "cell_type": "code",
   "execution_count": 4,
   "id": "urban-software",
   "metadata": {
    "execution": {
     "iopub.execute_input": "2022-02-05T12:10:11.727102Z",
     "iopub.status.busy": "2022-02-05T12:10:11.726408Z",
     "iopub.status.idle": "2022-02-05T12:10:11.729906Z",
     "shell.execute_reply": "2022-02-05T12:10:11.729337Z"
    },
    "papermill": {
     "duration": 0.04717,
     "end_time": "2022-02-05T12:10:11.730061",
     "exception": false,
     "start_time": "2022-02-05T12:10:11.682891",
     "status": "completed"
    },
    "tags": []
   },
   "outputs": [],
   "source": [
    "#hide\n",
    "def get_mappings(url):\n",
    "    df = pd.read_csv(url)\n",
    "    return {\n",
    "        'df': df,\n",
    "        'replace.country': dict(df.dropna(subset=['Name']).set_index('Country')['Name']),\n",
    "        'map.continent': dict(df.set_index('Name')['Continent'])\n",
    "    }"
   ]
  },
  {
   "cell_type": "code",
   "execution_count": 5,
   "id": "intimate-machinery",
   "metadata": {
    "execution": {
     "iopub.execute_input": "2022-02-05T12:10:11.814503Z",
     "iopub.status.busy": "2022-02-05T12:10:11.813804Z",
     "iopub.status.idle": "2022-02-05T12:10:11.855728Z",
     "shell.execute_reply": "2022-02-05T12:10:11.855078Z"
    },
    "papermill": {
     "duration": 0.086421,
     "end_time": "2022-02-05T12:10:11.855882",
     "exception": false,
     "start_time": "2022-02-05T12:10:11.769461",
     "status": "completed"
    },
    "tags": []
   },
   "outputs": [],
   "source": [
    "#hide\n",
    "mapping = get_mappings(paths['mapping'])"
   ]
  },
  {
   "cell_type": "code",
   "execution_count": 6,
   "id": "certified-tactics",
   "metadata": {
    "execution": {
     "iopub.execute_input": "2022-02-05T12:10:11.940346Z",
     "iopub.status.busy": "2022-02-05T12:10:11.939110Z",
     "iopub.status.idle": "2022-02-05T12:10:11.941015Z",
     "shell.execute_reply": "2022-02-05T12:10:11.941656Z"
    },
    "papermill": {
     "duration": 0.046373,
     "end_time": "2022-02-05T12:10:11.941834",
     "exception": false,
     "start_time": "2022-02-05T12:10:11.895461",
     "status": "completed"
    },
    "tags": []
   },
   "outputs": [],
   "source": [
    "#hide\n",
    "def get_template(path):\n",
    "    from urllib.parse import urlparse\n",
    "    if bool(urlparse(path).netloc):\n",
    "        from urllib.request import urlopen\n",
    "        return urlopen(path).read().decode('utf8')\n",
    "    return open(path).read()"
   ]
  },
  {
   "cell_type": "code",
   "execution_count": 7,
   "id": "realistic-blast",
   "metadata": {
    "execution": {
     "iopub.execute_input": "2022-02-05T12:10:12.028310Z",
     "iopub.status.busy": "2022-02-05T12:10:12.027606Z",
     "iopub.status.idle": "2022-02-05T12:10:12.031617Z",
     "shell.execute_reply": "2022-02-05T12:10:12.030453Z"
    },
    "papermill": {
     "duration": 0.051309,
     "end_time": "2022-02-05T12:10:12.031773",
     "exception": false,
     "start_time": "2022-02-05T12:10:11.980464",
     "status": "completed"
    },
    "tags": []
   },
   "outputs": [],
   "source": [
    "#hide\n",
    "def get_frame(name):\n",
    "    url = (\n",
    "        'https://raw.githubusercontent.com/CSSEGISandData/COVID-19/master/csse_covid_19_data/'\n",
    "        f'csse_covid_19_time_series/time_series_covid19_{name}_global.csv')\n",
    "    df = pd.read_csv(url)\n",
    "    # rename countries\n",
    "    df['Country/Region'] = df['Country/Region'].replace(mapping['replace.country'])\n",
    "    return df"
   ]
  },
  {
   "cell_type": "code",
   "execution_count": 8,
   "id": "affiliated-characterization",
   "metadata": {
    "execution": {
     "iopub.execute_input": "2022-02-05T12:10:12.116710Z",
     "iopub.status.busy": "2022-02-05T12:10:12.115622Z",
     "iopub.status.idle": "2022-02-05T12:10:12.117949Z",
     "shell.execute_reply": "2022-02-05T12:10:12.118532Z"
    },
    "papermill": {
     "duration": 0.048322,
     "end_time": "2022-02-05T12:10:12.118704",
     "exception": false,
     "start_time": "2022-02-05T12:10:12.070382",
     "status": "completed"
    },
    "tags": []
   },
   "outputs": [],
   "source": [
    "#hide\n",
    "def get_dates(df):\n",
    "    dt_cols = df.columns[~df.columns.isin(['Province/State', 'Country/Region', 'Lat', 'Long'])]\n",
    "    LAST_DATE_I = -1\n",
    "    # sometimes last column may be empty, then go backwards\n",
    "    for i in range(-1, -len(dt_cols), -1):\n",
    "        if not df[dt_cols[i]].fillna(0).eq(0).all():\n",
    "            LAST_DATE_I = i\n",
    "            break\n",
    "    return LAST_DATE_I, dt_cols"
   ]
  },
  {
   "cell_type": "code",
   "execution_count": 9,
   "id": "recent-optimization",
   "metadata": {
    "execution": {
     "iopub.execute_input": "2022-02-05T12:10:12.201459Z",
     "iopub.status.busy": "2022-02-05T12:10:12.200751Z",
     "iopub.status.idle": "2022-02-05T12:10:12.674143Z",
     "shell.execute_reply": "2022-02-05T12:10:12.673570Z"
    },
    "papermill": {
     "duration": 0.516395,
     "end_time": "2022-02-05T12:10:12.674297",
     "exception": false,
     "start_time": "2022-02-05T12:10:12.157902",
     "status": "completed"
    },
    "tags": []
   },
   "outputs": [],
   "source": [
    "#hide\n",
    "COL_REGION = 'Country/Region'\n",
    "# Confirmed, Recovered, Deaths\n",
    "df = get_frame('confirmed')\n",
    "# dft_: timeseries, dfc_: today country agg\n",
    "dft_cases = df\n",
    "dft_deaths = get_frame('deaths')\n",
    "dft_recovered = get_frame('recovered')\n",
    "LAST_DATE_I, dt_cols = get_dates(df)"
   ]
  },
  {
   "cell_type": "code",
   "execution_count": 10,
   "id": "absolute-copper",
   "metadata": {
    "execution": {
     "iopub.execute_input": "2022-02-05T12:10:12.759057Z",
     "iopub.status.busy": "2022-02-05T12:10:12.758372Z",
     "iopub.status.idle": "2022-02-05T12:10:12.761681Z",
     "shell.execute_reply": "2022-02-05T12:10:12.760717Z"
    },
    "papermill": {
     "duration": 0.049423,
     "end_time": "2022-02-05T12:10:12.761831",
     "exception": false,
     "start_time": "2022-02-05T12:10:12.712408",
     "status": "completed"
    },
    "tags": []
   },
   "outputs": [],
   "source": [
    "#hide\n",
    "LAST_DATE_I, dt_cols = get_dates(df)\n",
    "dt_today =dt_cols[LAST_DATE_I]\n",
    "# dt_5day = dt_cols[LAST_DATE_I - 5]\n",
    "dt_yday = dt_cols[LAST_DATE_I - 1]"
   ]
  },
  {
   "cell_type": "code",
   "execution_count": 11,
   "id": "restricted-sheriff",
   "metadata": {
    "execution": {
     "iopub.execute_input": "2022-02-05T12:10:12.848688Z",
     "iopub.status.busy": "2022-02-05T12:10:12.847970Z",
     "iopub.status.idle": "2022-02-05T12:10:12.855583Z",
     "shell.execute_reply": "2022-02-05T12:10:12.854946Z"
    },
    "papermill": {
     "duration": 0.056365,
     "end_time": "2022-02-05T12:10:12.855732",
     "exception": false,
     "start_time": "2022-02-05T12:10:12.799367",
     "status": "completed"
    },
    "tags": []
   },
   "outputs": [],
   "source": [
    "#hide\n",
    "dfc_cases = dft_cases.groupby(COL_REGION)[dt_today].sum()\n",
    "dfc_deaths = dft_deaths.groupby(COL_REGION)[dt_today].sum()\n",
    "# dfp_cases = dft_cases.groupby(COL_REGION)[dt_5day].sum()\n",
    "# dfp_deaths = dft_deaths.groupby(COL_REGION)[dt_5day].sum()\n",
    "dfp_cases = dft_cases.groupby(COL_REGION)[dt_yday].sum()\n",
    "dfp_deaths = dft_deaths.groupby(COL_REGION)[dt_yday].sum()"
   ]
  },
  {
   "cell_type": "code",
   "execution_count": 12,
   "id": "deluxe-hepatitis",
   "metadata": {
    "execution": {
     "iopub.execute_input": "2022-02-05T12:10:12.940429Z",
     "iopub.status.busy": "2022-02-05T12:10:12.939740Z",
     "iopub.status.idle": "2022-02-05T12:10:12.946532Z",
     "shell.execute_reply": "2022-02-05T12:10:12.945958Z"
    },
    "papermill": {
     "duration": 0.051611,
     "end_time": "2022-02-05T12:10:12.946685",
     "exception": false,
     "start_time": "2022-02-05T12:10:12.895074",
     "status": "completed"
    },
    "tags": []
   },
   "outputs": [],
   "source": [
    "#hide\n",
    "df_table = (pd.DataFrame(dict(Cases = dfc_cases, Deaths = dfc_deaths, PCases = dfp_cases, PDeaths = dfp_deaths))\n",
    "            .sort_values(by = ['Cases','Deaths'], ascending = [False, False])\n",
    "            .reset_index())"
   ]
  },
  {
   "cell_type": "code",
   "execution_count": 13,
   "id": "educational-chancellor",
   "metadata": {
    "execution": {
     "iopub.execute_input": "2022-02-05T12:10:13.052238Z",
     "iopub.status.busy": "2022-02-05T12:10:13.046467Z",
     "iopub.status.idle": "2022-02-05T12:10:13.056066Z",
     "shell.execute_reply": "2022-02-05T12:10:13.055488Z"
    },
    "papermill": {
     "duration": 0.071673,
     "end_time": "2022-02-05T12:10:13.056211",
     "exception": false,
     "start_time": "2022-02-05T12:10:12.984538",
     "status": "completed"
    },
    "tags": []
   },
   "outputs": [
    {
     "data": {
      "text/html": [
       "<div>\n",
       "<style scoped>\n",
       "    .dataframe tbody tr th:only-of-type {\n",
       "        vertical-align: middle;\n",
       "    }\n",
       "\n",
       "    .dataframe tbody tr th {\n",
       "        vertical-align: top;\n",
       "    }\n",
       "\n",
       "    .dataframe thead th {\n",
       "        text-align: right;\n",
       "    }\n",
       "</style>\n",
       "<table border=\"1\" class=\"dataframe\">\n",
       "  <thead>\n",
       "    <tr style=\"text-align: right;\">\n",
       "      <th></th>\n",
       "      <th>Country/Region</th>\n",
       "      <th>Cases</th>\n",
       "      <th>Deaths</th>\n",
       "      <th>PCases</th>\n",
       "      <th>PDeaths</th>\n",
       "      <th>Cases (+)</th>\n",
       "      <th>Deaths (+)</th>\n",
       "      <th>Fatality Rate</th>\n",
       "      <th>Continent</th>\n",
       "    </tr>\n",
       "  </thead>\n",
       "  <tbody>\n",
       "    <tr>\n",
       "      <th>0</th>\n",
       "      <td>US</td>\n",
       "      <td>76354040</td>\n",
       "      <td>901391</td>\n",
       "      <td>75982593</td>\n",
       "      <td>897237</td>\n",
       "      <td>371447</td>\n",
       "      <td>4154</td>\n",
       "      <td>1.18</td>\n",
       "      <td>North America</td>\n",
       "    </tr>\n",
       "    <tr>\n",
       "      <th>1</th>\n",
       "      <td>India</td>\n",
       "      <td>42080664</td>\n",
       "      <td>501114</td>\n",
       "      <td>41952712</td>\n",
       "      <td>500055</td>\n",
       "      <td>127952</td>\n",
       "      <td>1059</td>\n",
       "      <td>1.19</td>\n",
       "      <td>Asia</td>\n",
       "    </tr>\n",
       "    <tr>\n",
       "      <th>2</th>\n",
       "      <td>Brazil</td>\n",
       "      <td>26326454</td>\n",
       "      <td>631265</td>\n",
       "      <td>26107894</td>\n",
       "      <td>630301</td>\n",
       "      <td>218560</td>\n",
       "      <td>964</td>\n",
       "      <td>2.40</td>\n",
       "      <td>South America</td>\n",
       "    </tr>\n",
       "    <tr>\n",
       "      <th>3</th>\n",
       "      <td>France</td>\n",
       "      <td>20517059</td>\n",
       "      <td>133202</td>\n",
       "      <td>20274710</td>\n",
       "      <td>132847</td>\n",
       "      <td>242349</td>\n",
       "      <td>355</td>\n",
       "      <td>0.65</td>\n",
       "      <td>Europe</td>\n",
       "    </tr>\n",
       "    <tr>\n",
       "      <th>4</th>\n",
       "      <td>United Kingdom</td>\n",
       "      <td>17810151</td>\n",
       "      <td>158521</td>\n",
       "      <td>17727681</td>\n",
       "      <td>158266</td>\n",
       "      <td>82470</td>\n",
       "      <td>255</td>\n",
       "      <td>0.89</td>\n",
       "      <td>Europe</td>\n",
       "    </tr>\n",
       "  </tbody>\n",
       "</table>\n",
       "</div>"
      ],
      "text/plain": [
       "   Country/Region     Cases  Deaths    PCases  PDeaths  Cases (+)  Deaths (+)  \\\n",
       "0              US  76354040  901391  75982593   897237     371447        4154   \n",
       "1           India  42080664  501114  41952712   500055     127952        1059   \n",
       "2          Brazil  26326454  631265  26107894   630301     218560         964   \n",
       "3          France  20517059  133202  20274710   132847     242349         355   \n",
       "4  United Kingdom  17810151  158521  17727681   158266      82470         255   \n",
       "\n",
       "   Fatality Rate      Continent  \n",
       "0           1.18  North America  \n",
       "1           1.19           Asia  \n",
       "2           2.40  South America  \n",
       "3           0.65         Europe  \n",
       "4           0.89         Europe  "
      ]
     },
     "execution_count": 13,
     "metadata": {},
     "output_type": "execute_result"
    }
   ],
   "source": [
    "#hide\n",
    "for c in 'Cases, Deaths'.split(', '):\n",
    "    df_table[f'{c} (+)'] = (df_table[c] - df_table[f'P{c}']).clip(0)\n",
    "    #Clip ça veut dire, les chiffres negatif sont interdit\n",
    "df_table['Fatality Rate'] = (100* df_table['Deaths']/ df_table['Cases']).round(2)\n",
    "df_table['Continent'] = df_table['Country/Region'].map(mapping['map.continent'])\n",
    "df_table.head(5)"
   ]
  },
  {
   "cell_type": "code",
   "execution_count": 14,
   "id": "aboriginal-bulgaria",
   "metadata": {
    "execution": {
     "iopub.execute_input": "2022-02-05T12:10:13.141190Z",
     "iopub.status.busy": "2022-02-05T12:10:13.140509Z",
     "iopub.status.idle": "2022-02-05T12:10:13.142826Z",
     "shell.execute_reply": "2022-02-05T12:10:13.144310Z"
    },
    "papermill": {
     "duration": 0.048643,
     "end_time": "2022-02-05T12:10:13.144495",
     "exception": false,
     "start_time": "2022-02-05T12:10:13.095852",
     "status": "completed"
    },
    "tags": []
   },
   "outputs": [],
   "source": [
    "#hide\n",
    "#delete problematic countries from table\n",
    "df_table = df_table[~df_table['Country/Region'].isin(['Cape Verde', 'Cruise Ship', 'Kosovo'])]"
   ]
  },
  {
   "cell_type": "code",
   "execution_count": 15,
   "id": "fantastic-effect",
   "metadata": {
    "execution": {
     "iopub.execute_input": "2022-02-05T12:10:13.232798Z",
     "iopub.status.busy": "2022-02-05T12:10:13.232076Z",
     "iopub.status.idle": "2022-02-05T12:10:13.253767Z",
     "shell.execute_reply": "2022-02-05T12:10:13.254284Z"
    },
    "papermill": {
     "duration": 0.071747,
     "end_time": "2022-02-05T12:10:13.254465",
     "exception": false,
     "start_time": "2022-02-05T12:10:13.182718",
     "status": "completed"
    },
    "tags": []
   },
   "outputs": [
    {
     "data": {
      "text/html": [
       "<div>\n",
       "<style scoped>\n",
       "    .dataframe tbody tr th:only-of-type {\n",
       "        vertical-align: middle;\n",
       "    }\n",
       "\n",
       "    .dataframe tbody tr th {\n",
       "        vertical-align: top;\n",
       "    }\n",
       "\n",
       "    .dataframe thead th {\n",
       "        text-align: right;\n",
       "    }\n",
       "</style>\n",
       "<table border=\"1\" class=\"dataframe\">\n",
       "  <thead>\n",
       "    <tr style=\"text-align: right;\">\n",
       "      <th></th>\n",
       "      <th>Country/Region</th>\n",
       "      <th>Cases</th>\n",
       "      <th>Deaths</th>\n",
       "      <th>PCases</th>\n",
       "      <th>PDeaths</th>\n",
       "      <th>Cases (+)</th>\n",
       "      <th>Deaths (+)</th>\n",
       "      <th>Fatality Rate</th>\n",
       "      <th>Continent</th>\n",
       "    </tr>\n",
       "  </thead>\n",
       "  <tbody>\n",
       "    <tr>\n",
       "      <th>0</th>\n",
       "      <td>US</td>\n",
       "      <td>76354040</td>\n",
       "      <td>901391</td>\n",
       "      <td>75982593</td>\n",
       "      <td>897237</td>\n",
       "      <td>371447</td>\n",
       "      <td>4154</td>\n",
       "      <td>1.2</td>\n",
       "      <td>North America</td>\n",
       "    </tr>\n",
       "    <tr>\n",
       "      <th>1</th>\n",
       "      <td>India</td>\n",
       "      <td>42080664</td>\n",
       "      <td>501114</td>\n",
       "      <td>41952712</td>\n",
       "      <td>500055</td>\n",
       "      <td>127952</td>\n",
       "      <td>1059</td>\n",
       "      <td>1.2</td>\n",
       "      <td>Asia</td>\n",
       "    </tr>\n",
       "    <tr>\n",
       "      <th>2</th>\n",
       "      <td>Brazil</td>\n",
       "      <td>26326454</td>\n",
       "      <td>631265</td>\n",
       "      <td>26107894</td>\n",
       "      <td>630301</td>\n",
       "      <td>218560</td>\n",
       "      <td>964</td>\n",
       "      <td>2.4</td>\n",
       "      <td>South America</td>\n",
       "    </tr>\n",
       "    <tr>\n",
       "      <th>3</th>\n",
       "      <td>France</td>\n",
       "      <td>20517059</td>\n",
       "      <td>133202</td>\n",
       "      <td>20274710</td>\n",
       "      <td>132847</td>\n",
       "      <td>242349</td>\n",
       "      <td>355</td>\n",
       "      <td>0.6</td>\n",
       "      <td>Europe</td>\n",
       "    </tr>\n",
       "    <tr>\n",
       "      <th>4</th>\n",
       "      <td>United Kingdom</td>\n",
       "      <td>17810151</td>\n",
       "      <td>158521</td>\n",
       "      <td>17727681</td>\n",
       "      <td>158266</td>\n",
       "      <td>82470</td>\n",
       "      <td>255</td>\n",
       "      <td>0.9</td>\n",
       "      <td>Europe</td>\n",
       "    </tr>\n",
       "  </tbody>\n",
       "</table>\n",
       "</div>"
      ],
      "text/plain": [
       "   Country/Region     Cases  Deaths    PCases  PDeaths  Cases (+)  Deaths (+)  \\\n",
       "0              US  76354040  901391  75982593   897237     371447        4154   \n",
       "1           India  42080664  501114  41952712   500055     127952        1059   \n",
       "2          Brazil  26326454  631265  26107894   630301     218560         964   \n",
       "3          France  20517059  133202  20274710   132847     242349         355   \n",
       "4  United Kingdom  17810151  158521  17727681   158266      82470         255   \n",
       "\n",
       "   Fatality Rate      Continent  \n",
       "0            1.2  North America  \n",
       "1            1.2           Asia  \n",
       "2            2.4  South America  \n",
       "3            0.6         Europe  \n",
       "4            0.9         Europe  "
      ]
     },
     "execution_count": 15,
     "metadata": {},
     "output_type": "execute_result"
    }
   ],
   "source": [
    "#hide\n",
    "df_table = (pd.DataFrame(dict(Cases=dfc_cases, Deaths=dfc_deaths, PCases=dfp_cases, PDeaths=dfp_deaths))\n",
    "             .sort_values(by=['Cases', 'Deaths'], ascending=[False, False])\n",
    "             .reset_index())\n",
    "df_table.rename(columns={'index': 'Country/Region'}, inplace=True)\n",
    "for c in 'Cases, Deaths'.split(', '):\n",
    "    df_table[f'{c} (+)'] = (df_table[c] - df_table[f'P{c}']).clip(0)  # DATA BUG\n",
    "df_table['Fatality Rate'] = (100 * df_table['Deaths'] / df_table['Cases']).round(1)\n",
    "df_table['Continent'] = df_table['Country/Region'].map(mapping['map.continent'])\n",
    "df_table.head(5)"
   ]
  },
  {
   "cell_type": "code",
   "execution_count": 16,
   "id": "fewer-occasion",
   "metadata": {
    "execution": {
     "iopub.execute_input": "2022-02-05T12:10:13.341453Z",
     "iopub.status.busy": "2022-02-05T12:10:13.340761Z",
     "iopub.status.idle": "2022-02-05T12:10:13.343274Z",
     "shell.execute_reply": "2022-02-05T12:10:13.342748Z"
    },
    "papermill": {
     "duration": 0.04807,
     "end_time": "2022-02-05T12:10:13.343418",
     "exception": false,
     "start_time": "2022-02-05T12:10:13.295348",
     "status": "completed"
    },
    "tags": []
   },
   "outputs": [],
   "source": [
    "#hide\n",
    "#delete problematic countries from table\n",
    "df_table = df_table[~df_table['Country/Region'].isin(['Cape Verde', 'Cruise Ship', 'Kosovo'])]"
   ]
  },
  {
   "cell_type": "code",
   "execution_count": 17,
   "id": "related-center",
   "metadata": {
    "execution": {
     "iopub.execute_input": "2022-02-05T12:10:13.449371Z",
     "iopub.status.busy": "2022-02-05T12:10:13.448368Z",
     "iopub.status.idle": "2022-02-05T12:10:13.450794Z",
     "shell.execute_reply": "2022-02-05T12:10:13.451305Z"
    },
    "papermill": {
     "duration": 0.066463,
     "end_time": "2022-02-05T12:10:13.451509",
     "exception": false,
     "start_time": "2022-02-05T12:10:13.385046",
     "status": "completed"
    },
    "tags": []
   },
   "outputs": [],
   "source": [
    "#hide\n",
    "metrics = [df_table.columns[index] for index in [1,2,5,6]]\n",
    "# s_china = df_table[df_table['Country/Region'].eq('China')][metrics].sum().add_prefix('China ')\n",
    "s_us = df_table[df_table['Country/Region'].eq('US')][metrics].sum().add_prefix('US ')\n",
    "s_eu = df_table[df_table['Continent'].eq('Europe')][metrics].sum().add_prefix('EU ')\n",
    "s_ind = df_table[df_table['Country/Region'].eq('India')][metrics].sum().add_prefix('India ')\n",
    "summary = {'updated': pd.to_datetime(dt_today), 'since': pd.to_datetime(dt_yday)}\n",
    "summary = {'updated': pd.to_datetime(dt_today), 'since': pd.to_datetime(dt_yday)}\n",
    "summary = {**summary, **df_table[metrics].sum(), **s_ind, **s_us, **s_eu}"
   ]
  },
  {
   "cell_type": "code",
   "execution_count": 18,
   "id": "engaging-syndrome",
   "metadata": {
    "execution": {
     "iopub.execute_input": "2022-02-05T12:10:13.536359Z",
     "iopub.status.busy": "2022-02-05T12:10:13.535660Z",
     "iopub.status.idle": "2022-02-05T12:10:13.555289Z",
     "shell.execute_reply": "2022-02-05T12:10:13.554700Z"
    },
    "papermill": {
     "duration": 0.064622,
     "end_time": "2022-02-05T12:10:13.555465",
     "exception": false,
     "start_time": "2022-02-05T12:10:13.490843",
     "status": "completed"
    },
    "tags": []
   },
   "outputs": [],
   "source": [
    "#hide\n",
    "dft_ct_new_cases = dft_cases.groupby(COL_REGION)[dt_cols].sum().diff(axis=1).fillna(0).astype(int)"
   ]
  },
  {
   "cell_type": "code",
   "execution_count": 19,
   "id": "neutral-assignment",
   "metadata": {
    "execution": {
     "iopub.execute_input": "2022-02-05T12:10:13.641924Z",
     "iopub.status.busy": "2022-02-05T12:10:13.641235Z",
     "iopub.status.idle": "2022-02-05T12:10:13.645864Z",
     "shell.execute_reply": "2022-02-05T12:10:13.645301Z"
    },
    "papermill": {
     "duration": 0.051253,
     "end_time": "2022-02-05T12:10:13.646018",
     "exception": false,
     "start_time": "2022-02-05T12:10:13.594765",
     "status": "completed"
    },
    "tags": []
   },
   "outputs": [],
   "source": [
    "#hide\n",
    "everydaycases = dft_ct_new_cases.cumsum(axis=1)"
   ]
  },
  {
   "cell_type": "code",
   "execution_count": 20,
   "id": "parliamentary-calgary",
   "metadata": {
    "execution": {
     "iopub.execute_input": "2022-02-05T12:10:13.734256Z",
     "iopub.status.busy": "2022-02-05T12:10:13.733420Z",
     "iopub.status.idle": "2022-02-05T12:10:14.545664Z",
     "shell.execute_reply": "2022-02-05T12:10:14.545074Z"
    },
    "papermill": {
     "duration": 0.85931,
     "end_time": "2022-02-05T12:10:14.545820",
     "exception": false,
     "start_time": "2022-02-05T12:10:13.686510",
     "status": "completed"
    },
    "tags": []
   },
   "outputs": [],
   "source": [
    "#hide\n",
    "import pandas as pd\n",
    "import matplotlib.pyplot as plt\n",
    "import matplotlib.ticker as ticker\n",
    "import matplotlib.animation as animation\n",
    "from IPython.display import HTML"
   ]
  },
  {
   "cell_type": "code",
   "execution_count": 21,
   "id": "lasting-extraction",
   "metadata": {
    "execution": {
     "iopub.execute_input": "2022-02-05T12:10:14.643548Z",
     "iopub.status.busy": "2022-02-05T12:10:14.642794Z",
     "iopub.status.idle": "2022-02-05T12:10:14.650256Z",
     "shell.execute_reply": "2022-02-05T12:10:14.650782Z"
    },
    "papermill": {
     "duration": 0.05812,
     "end_time": "2022-02-05T12:10:14.650961",
     "exception": false,
     "start_time": "2022-02-05T12:10:14.592841",
     "status": "completed"
    },
    "tags": []
   },
   "outputs": [],
   "source": [
    "#hide\n",
    "t = everydaycases.stack()"
   ]
  },
  {
   "cell_type": "code",
   "execution_count": 22,
   "id": "premier-sleeve",
   "metadata": {
    "execution": {
     "iopub.execute_input": "2022-02-05T12:10:14.736119Z",
     "iopub.status.busy": "2022-02-05T12:10:14.735391Z",
     "iopub.status.idle": "2022-02-05T12:10:14.747783Z",
     "shell.execute_reply": "2022-02-05T12:10:14.747145Z"
    },
    "papermill": {
     "duration": 0.056384,
     "end_time": "2022-02-05T12:10:14.747934",
     "exception": false,
     "start_time": "2022-02-05T12:10:14.691550",
     "status": "completed"
    },
    "tags": []
   },
   "outputs": [],
   "source": [
    "#hide\n",
    "g = t.reset_index(['Country/Region'])"
   ]
  },
  {
   "cell_type": "code",
   "execution_count": 23,
   "id": "distributed-pittsburgh",
   "metadata": {
    "execution": {
     "iopub.execute_input": "2022-02-05T12:10:14.835125Z",
     "iopub.status.busy": "2022-02-05T12:10:14.834448Z",
     "iopub.status.idle": "2022-02-05T12:10:14.839041Z",
     "shell.execute_reply": "2022-02-05T12:10:14.838496Z"
    },
    "papermill": {
     "duration": 0.049901,
     "end_time": "2022-02-05T12:10:14.839192",
     "exception": false,
     "start_time": "2022-02-05T12:10:14.789291",
     "status": "completed"
    },
    "tags": []
   },
   "outputs": [],
   "source": [
    "#hide\n",
    "g.index.name = 'date'"
   ]
  },
  {
   "cell_type": "code",
   "execution_count": 24,
   "id": "naked-donor",
   "metadata": {
    "execution": {
     "iopub.execute_input": "2022-02-05T12:10:14.923058Z",
     "iopub.status.busy": "2022-02-05T12:10:14.922364Z",
     "iopub.status.idle": "2022-02-05T12:10:14.924668Z",
     "shell.execute_reply": "2022-02-05T12:10:14.924025Z"
    },
    "papermill": {
     "duration": 0.045635,
     "end_time": "2022-02-05T12:10:14.924809",
     "exception": false,
     "start_time": "2022-02-05T12:10:14.879174",
     "status": "completed"
    },
    "tags": []
   },
   "outputs": [],
   "source": [
    "# #hide\n",
    "# g = g.reset_index(['date'])"
   ]
  },
  {
   "cell_type": "code",
   "execution_count": 25,
   "id": "incomplete-mustang",
   "metadata": {
    "execution": {
     "iopub.execute_input": "2022-02-05T12:10:15.007324Z",
     "iopub.status.busy": "2022-02-05T12:10:15.006645Z",
     "iopub.status.idle": "2022-02-05T12:10:15.008638Z",
     "shell.execute_reply": "2022-02-05T12:10:15.009143Z"
    },
    "papermill": {
     "duration": 0.045153,
     "end_time": "2022-02-05T12:10:15.009312",
     "exception": false,
     "start_time": "2022-02-05T12:10:14.964159",
     "status": "completed"
    },
    "tags": []
   },
   "outputs": [],
   "source": [
    "#hide\n",
    "# g.head()"
   ]
  },
  {
   "cell_type": "code",
   "execution_count": 26,
   "id": "specific-kruger",
   "metadata": {
    "execution": {
     "iopub.execute_input": "2022-02-05T12:10:15.097602Z",
     "iopub.status.busy": "2022-02-05T12:10:15.096915Z",
     "iopub.status.idle": "2022-02-05T12:10:15.099491Z",
     "shell.execute_reply": "2022-02-05T12:10:15.100047Z"
    },
    "papermill": {
     "duration": 0.051725,
     "end_time": "2022-02-05T12:10:15.100221",
     "exception": false,
     "start_time": "2022-02-05T12:10:15.048496",
     "status": "completed"
    },
    "tags": []
   },
   "outputs": [],
   "source": [
    "#hide\n",
    "# g.columns = ['date','country','cases']"
   ]
  },
  {
   "cell_type": "code",
   "execution_count": 27,
   "id": "tender-conversion",
   "metadata": {
    "execution": {
     "iopub.execute_input": "2022-02-05T12:10:15.189656Z",
     "iopub.status.busy": "2022-02-05T12:10:15.188979Z",
     "iopub.status.idle": "2022-02-05T12:10:15.191756Z",
     "shell.execute_reply": "2022-02-05T12:10:15.191136Z"
    },
    "papermill": {
     "duration": 0.048766,
     "end_time": "2022-02-05T12:10:15.191903",
     "exception": false,
     "start_time": "2022-02-05T12:10:15.143137",
     "status": "completed"
    },
    "tags": []
   },
   "outputs": [],
   "source": [
    "#hide\n",
    "# g['continent'] = g.country"
   ]
  },
  {
   "cell_type": "code",
   "execution_count": 28,
   "id": "substantial-wilderness",
   "metadata": {
    "execution": {
     "iopub.execute_input": "2022-02-05T12:10:15.279692Z",
     "iopub.status.busy": "2022-02-05T12:10:15.278974Z",
     "iopub.status.idle": "2022-02-05T12:10:15.282953Z",
     "shell.execute_reply": "2022-02-05T12:10:15.282414Z"
    },
    "papermill": {
     "duration": 0.04986,
     "end_time": "2022-02-05T12:10:15.283099",
     "exception": false,
     "start_time": "2022-02-05T12:10:15.233239",
     "status": "completed"
    },
    "tags": []
   },
   "outputs": [],
   "source": [
    "#hide\n",
    "# cols = list(g.columns.values)"
   ]
  },
  {
   "cell_type": "code",
   "execution_count": 29,
   "id": "solved-farming",
   "metadata": {
    "execution": {
     "iopub.execute_input": "2022-02-05T12:10:15.367392Z",
     "iopub.status.busy": "2022-02-05T12:10:15.366720Z",
     "iopub.status.idle": "2022-02-05T12:10:15.370862Z",
     "shell.execute_reply": "2022-02-05T12:10:15.369966Z"
    },
    "papermill": {
     "duration": 0.047083,
     "end_time": "2022-02-05T12:10:15.371011",
     "exception": false,
     "start_time": "2022-02-05T12:10:15.323928",
     "status": "completed"
    },
    "tags": []
   },
   "outputs": [],
   "source": [
    "#hide\n",
    "# cols.insert(0, cols.pop())"
   ]
  },
  {
   "cell_type": "code",
   "execution_count": 30,
   "id": "executed-adoption",
   "metadata": {
    "execution": {
     "iopub.execute_input": "2022-02-05T12:10:15.453464Z",
     "iopub.status.busy": "2022-02-05T12:10:15.452769Z",
     "iopub.status.idle": "2022-02-05T12:10:15.456923Z",
     "shell.execute_reply": "2022-02-05T12:10:15.457440Z"
    },
    "papermill": {
     "duration": 0.047891,
     "end_time": "2022-02-05T12:10:15.457618",
     "exception": false,
     "start_time": "2022-02-05T12:10:15.409727",
     "status": "completed"
    },
    "tags": []
   },
   "outputs": [],
   "source": [
    "#hide\n",
    "# g = g[cols]"
   ]
  },
  {
   "cell_type": "code",
   "execution_count": 31,
   "id": "subject-dublin",
   "metadata": {
    "execution": {
     "iopub.execute_input": "2022-02-05T12:10:15.542305Z",
     "iopub.status.busy": "2022-02-05T12:10:15.541622Z",
     "iopub.status.idle": "2022-02-05T12:10:15.544118Z",
     "shell.execute_reply": "2022-02-05T12:10:15.543430Z"
    },
    "papermill": {
     "duration": 0.045403,
     "end_time": "2022-02-05T12:10:15.544262",
     "exception": false,
     "start_time": "2022-02-05T12:10:15.498859",
     "status": "completed"
    },
    "tags": []
   },
   "outputs": [],
   "source": [
    "#hide\n",
    "# g['continent'] = g['continent'].map(mapping['map.continent'])"
   ]
  },
  {
   "cell_type": "code",
   "execution_count": 32,
   "id": "freelance-scout",
   "metadata": {
    "execution": {
     "iopub.execute_input": "2022-02-05T12:10:15.632264Z",
     "iopub.status.busy": "2022-02-05T12:10:15.631570Z",
     "iopub.status.idle": "2022-02-05T12:10:15.634912Z",
     "shell.execute_reply": "2022-02-05T12:10:15.634370Z"
    },
    "papermill": {
     "duration": 0.048132,
     "end_time": "2022-02-05T12:10:15.635062",
     "exception": false,
     "start_time": "2022-02-05T12:10:15.586930",
     "status": "completed"
    },
    "tags": []
   },
   "outputs": [],
   "source": [
    "#hide\n",
    "# g.head()"
   ]
  },
  {
   "cell_type": "code",
   "execution_count": 33,
   "id": "limited-engine",
   "metadata": {
    "execution": {
     "iopub.execute_input": "2022-02-05T12:10:15.719402Z",
     "iopub.status.busy": "2022-02-05T12:10:15.718672Z",
     "iopub.status.idle": "2022-02-05T12:10:15.722781Z",
     "shell.execute_reply": "2022-02-05T12:10:15.723324Z"
    },
    "papermill": {
     "duration": 0.047872,
     "end_time": "2022-02-05T12:10:15.723537",
     "exception": false,
     "start_time": "2022-02-05T12:10:15.675665",
     "status": "completed"
    },
    "tags": []
   },
   "outputs": [],
   "source": [
    "# hide\n",
    "# g['date'] = g['date'].astype('datetime64[ns]')"
   ]
  },
  {
   "cell_type": "code",
   "execution_count": 34,
   "id": "sophisticated-supervisor",
   "metadata": {
    "execution": {
     "iopub.execute_input": "2022-02-05T12:10:15.810718Z",
     "iopub.status.busy": "2022-02-05T12:10:15.810026Z",
     "iopub.status.idle": "2022-02-05T12:10:15.816092Z",
     "shell.execute_reply": "2022-02-05T12:10:15.815516Z"
    },
    "papermill": {
     "duration": 0.053067,
     "end_time": "2022-02-05T12:10:15.816247",
     "exception": false,
     "start_time": "2022-02-05T12:10:15.763180",
     "status": "completed"
    },
    "tags": []
   },
   "outputs": [],
   "source": [
    "#hide\n",
    "# g['date'] = g.date.dt.dayofyear"
   ]
  },
  {
   "cell_type": "code",
   "execution_count": 35,
   "id": "inside-dubai",
   "metadata": {
    "execution": {
     "iopub.execute_input": "2022-02-05T12:10:15.902168Z",
     "iopub.status.busy": "2022-02-05T12:10:15.901483Z",
     "iopub.status.idle": "2022-02-05T12:10:15.904158Z",
     "shell.execute_reply": "2022-02-05T12:10:15.903611Z"
    },
    "papermill": {
     "duration": 0.047422,
     "end_time": "2022-02-05T12:10:15.904310",
     "exception": false,
     "start_time": "2022-02-05T12:10:15.856888",
     "status": "completed"
    },
    "tags": []
   },
   "outputs": [],
   "source": [
    "#hide\n",
    "# g = g.rename(columns= {'continent':'group','country':'name','cases':'value'})"
   ]
  },
  {
   "cell_type": "code",
   "execution_count": 36,
   "id": "fleet-motorcycle",
   "metadata": {
    "execution": {
     "iopub.execute_input": "2022-02-05T12:10:15.994342Z",
     "iopub.status.busy": "2022-02-05T12:10:15.993672Z",
     "iopub.status.idle": "2022-02-05T12:10:15.995885Z",
     "shell.execute_reply": "2022-02-05T12:10:15.996530Z"
    },
    "papermill": {
     "duration": 0.050796,
     "end_time": "2022-02-05T12:10:15.996712",
     "exception": false,
     "start_time": "2022-02-05T12:10:15.945916",
     "status": "completed"
    },
    "tags": []
   },
   "outputs": [],
   "source": [
    "#hide\n",
    "# cols = ['name','group','day','value']"
   ]
  },
  {
   "cell_type": "code",
   "execution_count": 37,
   "id": "continued-sleeping",
   "metadata": {
    "execution": {
     "iopub.execute_input": "2022-02-05T12:10:16.083010Z",
     "iopub.status.busy": "2022-02-05T12:10:16.082298Z",
     "iopub.status.idle": "2022-02-05T12:10:16.084364Z",
     "shell.execute_reply": "2022-02-05T12:10:16.084939Z"
    },
    "papermill": {
     "duration": 0.049389,
     "end_time": "2022-02-05T12:10:16.085111",
     "exception": false,
     "start_time": "2022-02-05T12:10:16.035722",
     "status": "completed"
    },
    "tags": []
   },
   "outputs": [],
   "source": [
    "#hide\n",
    "# g.rename(columns= {'date':'day'},inplace = True)"
   ]
  },
  {
   "cell_type": "code",
   "execution_count": 38,
   "id": "major-fight",
   "metadata": {
    "execution": {
     "iopub.execute_input": "2022-02-05T12:10:16.168849Z",
     "iopub.status.busy": "2022-02-05T12:10:16.168151Z",
     "iopub.status.idle": "2022-02-05T12:10:16.170685Z",
     "shell.execute_reply": "2022-02-05T12:10:16.171189Z"
    },
    "papermill": {
     "duration": 0.04576,
     "end_time": "2022-02-05T12:10:16.171360",
     "exception": false,
     "start_time": "2022-02-05T12:10:16.125600",
     "status": "completed"
    },
    "tags": []
   },
   "outputs": [],
   "source": [
    "#hide\n",
    "# g = g[cols]"
   ]
  },
  {
   "cell_type": "code",
   "execution_count": 39,
   "id": "structured-mobile",
   "metadata": {
    "execution": {
     "iopub.execute_input": "2022-02-05T12:10:16.263030Z",
     "iopub.status.busy": "2022-02-05T12:10:16.262352Z",
     "iopub.status.idle": "2022-02-05T12:10:16.264629Z",
     "shell.execute_reply": "2022-02-05T12:10:16.265199Z"
    },
    "papermill": {
     "duration": 0.047895,
     "end_time": "2022-02-05T12:10:16.265364",
     "exception": false,
     "start_time": "2022-02-05T12:10:16.217469",
     "status": "completed"
    },
    "tags": []
   },
   "outputs": [],
   "source": [
    "# #hide\n",
    "# g = g[g.group.notna()]"
   ]
  },
  {
   "cell_type": "code",
   "execution_count": 40,
   "id": "determined-closing",
   "metadata": {
    "execution": {
     "iopub.execute_input": "2022-02-05T12:10:16.349650Z",
     "iopub.status.busy": "2022-02-05T12:10:16.348846Z",
     "iopub.status.idle": "2022-02-05T12:10:16.351517Z",
     "shell.execute_reply": "2022-02-05T12:10:16.350825Z"
    },
    "papermill": {
     "duration": 0.046402,
     "end_time": "2022-02-05T12:10:16.351671",
     "exception": false,
     "start_time": "2022-02-05T12:10:16.305269",
     "status": "completed"
    },
    "tags": []
   },
   "outputs": [],
   "source": [
    "# #hide\n",
    "# colors = dict(zip(\n",
    "#     [\"Oceania\", \"Europe\", \"Asia\", \"South America\", \"Middle East\", \"North America\", \"Africa\"],\n",
    "#     [\"#adb0ff\", \"#ffb3ff\", \"#90d595\", \"#e48381\", \"#aafbff\", \"#f7bb5f\", \"#eafb50\"]\n",
    "# ))\n",
    "# group_lk = g.set_index('name')['group'].to_dict()"
   ]
  },
  {
   "cell_type": "code",
   "execution_count": null,
   "id": "gross-drinking",
   "metadata": {
    "papermill": {
     "duration": 0.044792,
     "end_time": "2022-02-05T12:10:16.450848",
     "exception": false,
     "start_time": "2022-02-05T12:10:16.406056",
     "status": "completed"
    },
    "tags": []
   },
   "outputs": [],
   "source": []
  },
  {
   "cell_type": "code",
   "execution_count": 41,
   "id": "subject-macintosh",
   "metadata": {
    "execution": {
     "iopub.execute_input": "2022-02-05T12:10:16.535325Z",
     "iopub.status.busy": "2022-02-05T12:10:16.534651Z",
     "iopub.status.idle": "2022-02-05T12:10:16.539640Z",
     "shell.execute_reply": "2022-02-05T12:10:16.538993Z"
    },
    "papermill": {
     "duration": 0.048935,
     "end_time": "2022-02-05T12:10:16.539787",
     "exception": false,
     "start_time": "2022-02-05T12:10:16.490852",
     "status": "completed"
    },
    "tags": []
   },
   "outputs": [],
   "source": [
    "# #hide\n",
    "# fig, ax = plt.subplots(figsize=(15, 8))\n",
    "\n",
    "# def draw_barchart(current_day):\n",
    "#     dff = g[g['day'].eq(current_day)].sort_values(by='value', ascending=True).tail(10)\n",
    "#     ax.clear()\n",
    "#     ax.barh(dff['name'], dff['value'], color=[colors[group_lk[x]] for x in dff['name']])\n",
    "#     dx = dff['value'].max() / 200\n",
    "    \n",
    "#     for i, (value, name) in enumerate(zip(dff['value'], dff['name'])):\n",
    "#         ax.text(value-dx, i,     name,           size=14, weight=600, ha='right', va='bottom')\n",
    "#         ax.text(value-dx, i-.25, group_lk[name], size=10, color='#444444', ha='right', va='baseline')\n",
    "#         ax.text(value+dx, i,     f'{value:,.0f}',  size=14, ha='left',  va='center')\n",
    "#     ax.text(1, 0.4, current_day, transform=ax.transAxes, color='#777777', size=46, ha='right', weight=800)\n",
    "#     ax.text(0, 1.06, 'Population (thousands)', transform=ax.transAxes, size=12, color='#777777')\n",
    "#     ax.xaxis.set_major_formatter(ticker.StrMethodFormatter('{x:,.0f}'))\n",
    "#     ax.xaxis.set_ticks_position('top')\n",
    "#     ax.tick_params(axis='x', colors='#777777', labelsize=12)\n",
    "#     ax.set_yticks([])\n",
    "#     ax.margins(0, 0.01)\n",
    "#     ax.grid(which='major', axis='x', linestyle='-')\n",
    "#     ax.set_axisbelow(True)\n",
    "    \n",
    "#     ax.text(0, 1.15, 'Coronavirus',\n",
    "#             transform=ax.transAxes, size=24, weight=600, ha='left', va='top')\n",
    "# #     ax.text(1, 0, 'by @pratapvardhan; credit @jburnmurdoch', transform=ax.transAxes, color='#777777', ha='right',\n",
    "# #             bbox=dict(facecolor='white', alpha=0.8, edgecolor='white'))\n",
    "#     plt.box(False)"
   ]
  },
  {
   "cell_type": "code",
   "execution_count": 42,
   "id": "sexual-wages",
   "metadata": {
    "execution": {
     "iopub.execute_input": "2022-02-05T12:10:16.624654Z",
     "iopub.status.busy": "2022-02-05T12:10:16.623947Z",
     "iopub.status.idle": "2022-02-05T12:10:16.626400Z",
     "shell.execute_reply": "2022-02-05T12:10:16.625830Z"
    },
    "papermill": {
     "duration": 0.047246,
     "end_time": "2022-02-05T12:10:16.626544",
     "exception": false,
     "start_time": "2022-02-05T12:10:16.579298",
     "status": "completed"
    },
    "tags": []
   },
   "outputs": [],
   "source": [
    "# #hide_input\n",
    "# fig, ax = plt.subplots(figsize=(15, 8))\n",
    "# animator = animation.FuncAnimation(fig, draw_barchart, frames=range(g.day.values.min(), g.day.values.max()))\n",
    "# HTML(animator.to_jshtml())\n",
    "# # or use animator.to_html5_video() or animator.save() "
   ]
  },
  {
   "cell_type": "code",
   "execution_count": null,
   "id": "australian-container",
   "metadata": {
    "papermill": {
     "duration": 0.039299,
     "end_time": "2022-02-05T12:10:16.709440",
     "exception": false,
     "start_time": "2022-02-05T12:10:16.670141",
     "status": "completed"
    },
    "tags": []
   },
   "outputs": [],
   "source": []
  },
  {
   "cell_type": "code",
   "execution_count": null,
   "id": "mediterranean-pontiac",
   "metadata": {
    "papermill": {
     "duration": 0.04005,
     "end_time": "2022-02-05T12:10:16.793885",
     "exception": false,
     "start_time": "2022-02-05T12:10:16.753835",
     "status": "completed"
    },
    "tags": []
   },
   "outputs": [],
   "source": []
  },
  {
   "cell_type": "code",
   "execution_count": null,
   "id": "aging-legislature",
   "metadata": {
    "papermill": {
     "duration": 0.039605,
     "end_time": "2022-02-05T12:10:16.873865",
     "exception": false,
     "start_time": "2022-02-05T12:10:16.834260",
     "status": "completed"
    },
    "tags": []
   },
   "outputs": [],
   "source": []
  }
 ],
 "metadata": {
  "kernelspec": {
   "display_name": "Python 3",
   "language": "python",
   "name": "python3"
  },
  "language_info": {
   "codemirror_mode": {
    "name": "ipython",
    "version": 3
   },
   "file_extension": ".py",
   "mimetype": "text/x-python",
   "name": "python",
   "nbconvert_exporter": "python",
   "pygments_lexer": "ipython3",
   "version": "3.6.15"
  },
  "papermill": {
   "duration": 7.834529,
   "end_time": "2022-02-05T12:10:17.333257",
   "environment_variables": {},
   "exception": null,
   "input_path": "2020-03-21-covid19exp.ipynb",
   "output_path": "2020-03-21-covid19exp.ipynb",
   "parameters": {},
   "start_time": "2022-02-05T12:10:09.498728",
   "version": "2.0.0"
  }
 },
 "nbformat": 4,
 "nbformat_minor": 5
}