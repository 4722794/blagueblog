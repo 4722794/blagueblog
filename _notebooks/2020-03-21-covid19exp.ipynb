{
 "cells": [
  {
   "cell_type": "markdown",
   "id": "muslim-click",
   "metadata": {
    "papermill": {
     "duration": 0.044392,
     "end_time": "2021-11-05T12:12:16.130903",
     "exception": false,
     "start_time": "2021-11-05T12:12:16.086511",
     "status": "completed"
    },
    "tags": []
   },
   "source": [
    "# COVID-19 Case Race\n",
    "> A race chart to see rising cases around the world\n",
    "\n",
    "- author: Hargun Oberoi\n",
    "- image: images/covid-overview.png\n",
    "- hide: false\n",
    "- badges: false"
   ]
  },
  {
   "cell_type": "code",
   "execution_count": 1,
   "id": "proof-material",
   "metadata": {
    "execution": {
     "iopub.execute_input": "2021-11-05T12:12:16.228756Z",
     "iopub.status.busy": "2021-11-05T12:12:16.220066Z",
     "iopub.status.idle": "2021-11-05T12:12:16.687925Z",
     "shell.execute_reply": "2021-11-05T12:12:16.686823Z"
    },
    "papermill": {
     "duration": 0.517887,
     "end_time": "2021-11-05T12:12:16.688077",
     "exception": false,
     "start_time": "2021-11-05T12:12:16.170190",
     "status": "completed"
    },
    "tags": []
   },
   "outputs": [],
   "source": [
    "#hide\n",
    "import numpy as np\n",
    "import pandas as pd\n",
    "from jinja2 import Template\n",
    "from IPython.display import HTML"
   ]
  },
  {
   "cell_type": "code",
   "execution_count": 2,
   "id": "developed-terminology",
   "metadata": {
    "execution": {
     "iopub.execute_input": "2021-11-05T12:12:16.769336Z",
     "iopub.status.busy": "2021-11-05T12:12:16.768613Z",
     "iopub.status.idle": "2021-11-05T12:12:16.771147Z",
     "shell.execute_reply": "2021-11-05T12:12:16.770551Z"
    },
    "papermill": {
     "duration": 0.04565,
     "end_time": "2021-11-05T12:12:16.771292",
     "exception": false,
     "start_time": "2021-11-05T12:12:16.725642",
     "status": "completed"
    },
    "tags": []
   },
   "outputs": [],
   "source": [
    "#hide\n",
    "\n",
    "# FETCH\n",
    "base_url = 'https://raw.githubusercontent.com/pratapvardhan/notebooks/master/covid19/'\n",
    "paths = {\n",
    "    'mapping': base_url + 'mapping_countries.csv',\n",
    "    'overview': base_url + 'overview.tpl'\n",
    "}"
   ]
  },
  {
   "cell_type": "code",
   "execution_count": 3,
   "id": "dynamic-saver",
   "metadata": {
    "execution": {
     "iopub.execute_input": "2021-11-05T12:12:16.859318Z",
     "iopub.status.busy": "2021-11-05T12:12:16.858669Z",
     "iopub.status.idle": "2021-11-05T12:12:16.861831Z",
     "shell.execute_reply": "2021-11-05T12:12:16.861211Z"
    },
    "papermill": {
     "duration": 0.052549,
     "end_time": "2021-11-05T12:12:16.861993",
     "exception": false,
     "start_time": "2021-11-05T12:12:16.809444",
     "status": "completed"
    },
    "tags": []
   },
   "outputs": [
    {
     "data": {
      "text/plain": [
       "'https://raw.githubusercontent.com/pratapvardhan/notebooks/master/covid19/mapping_countries.csv'"
      ]
     },
     "execution_count": 3,
     "metadata": {},
     "output_type": "execute_result"
    }
   ],
   "source": [
    "#hide\n",
    "paths['mapping']"
   ]
  },
  {
   "cell_type": "code",
   "execution_count": 4,
   "id": "urban-software",
   "metadata": {
    "execution": {
     "iopub.execute_input": "2021-11-05T12:12:16.946575Z",
     "iopub.status.busy": "2021-11-05T12:12:16.945896Z",
     "iopub.status.idle": "2021-11-05T12:12:16.948942Z",
     "shell.execute_reply": "2021-11-05T12:12:16.948350Z"
    },
    "papermill": {
     "duration": 0.047551,
     "end_time": "2021-11-05T12:12:16.949133",
     "exception": false,
     "start_time": "2021-11-05T12:12:16.901582",
     "status": "completed"
    },
    "tags": []
   },
   "outputs": [],
   "source": [
    "#hide\n",
    "def get_mappings(url):\n",
    "    df = pd.read_csv(url)\n",
    "    return {\n",
    "        'df': df,\n",
    "        'replace.country': dict(df.dropna(subset=['Name']).set_index('Country')['Name']),\n",
    "        'map.continent': dict(df.set_index('Name')['Continent'])\n",
    "    }"
   ]
  },
  {
   "cell_type": "code",
   "execution_count": 5,
   "id": "intimate-machinery",
   "metadata": {
    "execution": {
     "iopub.execute_input": "2021-11-05T12:12:17.031006Z",
     "iopub.status.busy": "2021-11-05T12:12:17.030364Z",
     "iopub.status.idle": "2021-11-05T12:12:17.073391Z",
     "shell.execute_reply": "2021-11-05T12:12:17.073886Z"
    },
    "papermill": {
     "duration": 0.08601,
     "end_time": "2021-11-05T12:12:17.074058",
     "exception": false,
     "start_time": "2021-11-05T12:12:16.988048",
     "status": "completed"
    },
    "tags": []
   },
   "outputs": [],
   "source": [
    "#hide\n",
    "mapping = get_mappings(paths['mapping'])"
   ]
  },
  {
   "cell_type": "code",
   "execution_count": 6,
   "id": "certified-tactics",
   "metadata": {
    "execution": {
     "iopub.execute_input": "2021-11-05T12:12:17.156757Z",
     "iopub.status.busy": "2021-11-05T12:12:17.156018Z",
     "iopub.status.idle": "2021-11-05T12:12:17.159811Z",
     "shell.execute_reply": "2021-11-05T12:12:17.160328Z"
    },
    "papermill": {
     "duration": 0.049275,
     "end_time": "2021-11-05T12:12:17.160492",
     "exception": false,
     "start_time": "2021-11-05T12:12:17.111217",
     "status": "completed"
    },
    "tags": []
   },
   "outputs": [],
   "source": [
    "#hide\n",
    "def get_template(path):\n",
    "    from urllib.parse import urlparse\n",
    "    if bool(urlparse(path).netloc):\n",
    "        from urllib.request import urlopen\n",
    "        return urlopen(path).read().decode('utf8')\n",
    "    return open(path).read()"
   ]
  },
  {
   "cell_type": "code",
   "execution_count": 7,
   "id": "realistic-blast",
   "metadata": {
    "execution": {
     "iopub.execute_input": "2021-11-05T12:12:17.249158Z",
     "iopub.status.busy": "2021-11-05T12:12:17.248381Z",
     "iopub.status.idle": "2021-11-05T12:12:17.251614Z",
     "shell.execute_reply": "2021-11-05T12:12:17.251055Z"
    },
    "papermill": {
     "duration": 0.048111,
     "end_time": "2021-11-05T12:12:17.251746",
     "exception": false,
     "start_time": "2021-11-05T12:12:17.203635",
     "status": "completed"
    },
    "tags": []
   },
   "outputs": [],
   "source": [
    "#hide\n",
    "def get_frame(name):\n",
    "    url = (\n",
    "        'https://raw.githubusercontent.com/CSSEGISandData/COVID-19/master/csse_covid_19_data/'\n",
    "        f'csse_covid_19_time_series/time_series_covid19_{name}_global.csv')\n",
    "    df = pd.read_csv(url)\n",
    "    # rename countries\n",
    "    df['Country/Region'] = df['Country/Region'].replace(mapping['replace.country'])\n",
    "    return df"
   ]
  },
  {
   "cell_type": "code",
   "execution_count": 8,
   "id": "affiliated-characterization",
   "metadata": {
    "execution": {
     "iopub.execute_input": "2021-11-05T12:12:17.342818Z",
     "iopub.status.busy": "2021-11-05T12:12:17.342173Z",
     "iopub.status.idle": "2021-11-05T12:12:17.344741Z",
     "shell.execute_reply": "2021-11-05T12:12:17.344048Z"
    },
    "papermill": {
     "duration": 0.050672,
     "end_time": "2021-11-05T12:12:17.344876",
     "exception": false,
     "start_time": "2021-11-05T12:12:17.294204",
     "status": "completed"
    },
    "tags": []
   },
   "outputs": [],
   "source": [
    "#hide\n",
    "def get_dates(df):\n",
    "    dt_cols = df.columns[~df.columns.isin(['Province/State', 'Country/Region', 'Lat', 'Long'])]\n",
    "    LAST_DATE_I = -1\n",
    "    # sometimes last column may be empty, then go backwards\n",
    "    for i in range(-1, -len(dt_cols), -1):\n",
    "        if not df[dt_cols[i]].fillna(0).eq(0).all():\n",
    "            LAST_DATE_I = i\n",
    "            break\n",
    "    return LAST_DATE_I, dt_cols"
   ]
  },
  {
   "cell_type": "code",
   "execution_count": 9,
   "id": "recent-optimization",
   "metadata": {
    "execution": {
     "iopub.execute_input": "2021-11-05T12:12:17.431797Z",
     "iopub.status.busy": "2021-11-05T12:12:17.430682Z",
     "iopub.status.idle": "2021-11-05T12:12:17.865103Z",
     "shell.execute_reply": "2021-11-05T12:12:17.864380Z"
    },
    "papermill": {
     "duration": 0.47992,
     "end_time": "2021-11-05T12:12:17.865240",
     "exception": false,
     "start_time": "2021-11-05T12:12:17.385320",
     "status": "completed"
    },
    "tags": []
   },
   "outputs": [],
   "source": [
    "#hide\n",
    "COL_REGION = 'Country/Region'\n",
    "# Confirmed, Recovered, Deaths\n",
    "df = get_frame('confirmed')\n",
    "# dft_: timeseries, dfc_: today country agg\n",
    "dft_cases = df\n",
    "dft_deaths = get_frame('deaths')\n",
    "dft_recovered = get_frame('recovered')\n",
    "LAST_DATE_I, dt_cols = get_dates(df)"
   ]
  },
  {
   "cell_type": "code",
   "execution_count": 10,
   "id": "absolute-copper",
   "metadata": {
    "execution": {
     "iopub.execute_input": "2021-11-05T12:12:17.952008Z",
     "iopub.status.busy": "2021-11-05T12:12:17.950610Z",
     "iopub.status.idle": "2021-11-05T12:12:17.952783Z",
     "shell.execute_reply": "2021-11-05T12:12:17.953290Z"
    },
    "papermill": {
     "duration": 0.048388,
     "end_time": "2021-11-05T12:12:17.953435",
     "exception": false,
     "start_time": "2021-11-05T12:12:17.905047",
     "status": "completed"
    },
    "tags": []
   },
   "outputs": [],
   "source": [
    "#hide\n",
    "LAST_DATE_I, dt_cols = get_dates(df)\n",
    "dt_today =dt_cols[LAST_DATE_I]\n",
    "# dt_5day = dt_cols[LAST_DATE_I - 5]\n",
    "dt_yday = dt_cols[LAST_DATE_I - 1]"
   ]
  },
  {
   "cell_type": "code",
   "execution_count": 11,
   "id": "restricted-sheriff",
   "metadata": {
    "execution": {
     "iopub.execute_input": "2021-11-05T12:12:18.039985Z",
     "iopub.status.busy": "2021-11-05T12:12:18.037697Z",
     "iopub.status.idle": "2021-11-05T12:12:18.047123Z",
     "shell.execute_reply": "2021-11-05T12:12:18.048043Z"
    },
    "papermill": {
     "duration": 0.056387,
     "end_time": "2021-11-05T12:12:18.048253",
     "exception": false,
     "start_time": "2021-11-05T12:12:17.991866",
     "status": "completed"
    },
    "tags": []
   },
   "outputs": [],
   "source": [
    "#hide\n",
    "dfc_cases = dft_cases.groupby(COL_REGION)[dt_today].sum()\n",
    "dfc_deaths = dft_deaths.groupby(COL_REGION)[dt_today].sum()\n",
    "# dfp_cases = dft_cases.groupby(COL_REGION)[dt_5day].sum()\n",
    "# dfp_deaths = dft_deaths.groupby(COL_REGION)[dt_5day].sum()\n",
    "dfp_cases = dft_cases.groupby(COL_REGION)[dt_yday].sum()\n",
    "dfp_deaths = dft_deaths.groupby(COL_REGION)[dt_yday].sum()"
   ]
  },
  {
   "cell_type": "code",
   "execution_count": 12,
   "id": "deluxe-hepatitis",
   "metadata": {
    "execution": {
     "iopub.execute_input": "2021-11-05T12:12:18.141314Z",
     "iopub.status.busy": "2021-11-05T12:12:18.140512Z",
     "iopub.status.idle": "2021-11-05T12:12:18.146517Z",
     "shell.execute_reply": "2021-11-05T12:12:18.145955Z"
    },
    "papermill": {
     "duration": 0.053839,
     "end_time": "2021-11-05T12:12:18.146658",
     "exception": false,
     "start_time": "2021-11-05T12:12:18.092819",
     "status": "completed"
    },
    "tags": []
   },
   "outputs": [],
   "source": [
    "#hide\n",
    "df_table = (pd.DataFrame(dict(Cases = dfc_cases, Deaths = dfc_deaths, PCases = dfp_cases, PDeaths = dfp_deaths))\n",
    "            .sort_values(by = ['Cases','Deaths'], ascending = [False, False])\n",
    "            .reset_index())"
   ]
  },
  {
   "cell_type": "code",
   "execution_count": 13,
   "id": "educational-chancellor",
   "metadata": {
    "execution": {
     "iopub.execute_input": "2021-11-05T12:12:18.247271Z",
     "iopub.status.busy": "2021-11-05T12:12:18.246583Z",
     "iopub.status.idle": "2021-11-05T12:12:18.255661Z",
     "shell.execute_reply": "2021-11-05T12:12:18.256183Z"
    },
    "papermill": {
     "duration": 0.069332,
     "end_time": "2021-11-05T12:12:18.256338",
     "exception": false,
     "start_time": "2021-11-05T12:12:18.187006",
     "status": "completed"
    },
    "tags": []
   },
   "outputs": [
    {
     "data": {
      "text/html": [
       "<div>\n",
       "<style scoped>\n",
       "    .dataframe tbody tr th:only-of-type {\n",
       "        vertical-align: middle;\n",
       "    }\n",
       "\n",
       "    .dataframe tbody tr th {\n",
       "        vertical-align: top;\n",
       "    }\n",
       "\n",
       "    .dataframe thead th {\n",
       "        text-align: right;\n",
       "    }\n",
       "</style>\n",
       "<table border=\"1\" class=\"dataframe\">\n",
       "  <thead>\n",
       "    <tr style=\"text-align: right;\">\n",
       "      <th></th>\n",
       "      <th>Country/Region</th>\n",
       "      <th>Cases</th>\n",
       "      <th>Deaths</th>\n",
       "      <th>PCases</th>\n",
       "      <th>PDeaths</th>\n",
       "      <th>Cases (+)</th>\n",
       "      <th>Deaths (+)</th>\n",
       "      <th>Fatality Rate</th>\n",
       "      <th>Continent</th>\n",
       "    </tr>\n",
       "  </thead>\n",
       "  <tbody>\n",
       "    <tr>\n",
       "      <th>0</th>\n",
       "      <td>US</td>\n",
       "      <td>46334856</td>\n",
       "      <td>751555</td>\n",
       "      <td>46252795</td>\n",
       "      <td>750424</td>\n",
       "      <td>82061</td>\n",
       "      <td>1131</td>\n",
       "      <td>1.62</td>\n",
       "      <td>North America</td>\n",
       "    </tr>\n",
       "    <tr>\n",
       "      <th>1</th>\n",
       "      <td>India</td>\n",
       "      <td>34333754</td>\n",
       "      <td>459873</td>\n",
       "      <td>34321025</td>\n",
       "      <td>459652</td>\n",
       "      <td>12729</td>\n",
       "      <td>221</td>\n",
       "      <td>1.34</td>\n",
       "      <td>Asia</td>\n",
       "    </tr>\n",
       "    <tr>\n",
       "      <th>2</th>\n",
       "      <td>Brazil</td>\n",
       "      <td>21849137</td>\n",
       "      <td>608671</td>\n",
       "      <td>21835785</td>\n",
       "      <td>608235</td>\n",
       "      <td>13352</td>\n",
       "      <td>436</td>\n",
       "      <td>2.79</td>\n",
       "      <td>South America</td>\n",
       "    </tr>\n",
       "    <tr>\n",
       "      <th>3</th>\n",
       "      <td>United Kingdom</td>\n",
       "      <td>9252646</td>\n",
       "      <td>141826</td>\n",
       "      <td>9215683</td>\n",
       "      <td>141607</td>\n",
       "      <td>36963</td>\n",
       "      <td>219</td>\n",
       "      <td>1.53</td>\n",
       "      <td>Europe</td>\n",
       "    </tr>\n",
       "    <tr>\n",
       "      <th>4</th>\n",
       "      <td>Russia</td>\n",
       "      <td>8533706</td>\n",
       "      <td>238784</td>\n",
       "      <td>8494589</td>\n",
       "      <td>237619</td>\n",
       "      <td>39117</td>\n",
       "      <td>1165</td>\n",
       "      <td>2.80</td>\n",
       "      <td>Europe</td>\n",
       "    </tr>\n",
       "  </tbody>\n",
       "</table>\n",
       "</div>"
      ],
      "text/plain": [
       "   Country/Region     Cases  Deaths    PCases  PDeaths  Cases (+)  Deaths (+)  \\\n",
       "0              US  46334856  751555  46252795   750424      82061        1131   \n",
       "1           India  34333754  459873  34321025   459652      12729         221   \n",
       "2          Brazil  21849137  608671  21835785   608235      13352         436   \n",
       "3  United Kingdom   9252646  141826   9215683   141607      36963         219   \n",
       "4          Russia   8533706  238784   8494589   237619      39117        1165   \n",
       "\n",
       "   Fatality Rate      Continent  \n",
       "0           1.62  North America  \n",
       "1           1.34           Asia  \n",
       "2           2.79  South America  \n",
       "3           1.53         Europe  \n",
       "4           2.80         Europe  "
      ]
     },
     "execution_count": 13,
     "metadata": {},
     "output_type": "execute_result"
    }
   ],
   "source": [
    "#hide\n",
    "for c in 'Cases, Deaths'.split(', '):\n",
    "    df_table[f'{c} (+)'] = (df_table[c] - df_table[f'P{c}']).clip(0)\n",
    "    #Clip ça veut dire, les chiffres negatif sont interdit\n",
    "df_table['Fatality Rate'] = (100* df_table['Deaths']/ df_table['Cases']).round(2)\n",
    "df_table['Continent'] = df_table['Country/Region'].map(mapping['map.continent'])\n",
    "df_table.head(5)"
   ]
  },
  {
   "cell_type": "code",
   "execution_count": 14,
   "id": "aboriginal-bulgaria",
   "metadata": {
    "execution": {
     "iopub.execute_input": "2021-11-05T12:12:18.344964Z",
     "iopub.status.busy": "2021-11-05T12:12:18.344300Z",
     "iopub.status.idle": "2021-11-05T12:12:18.346662Z",
     "shell.execute_reply": "2021-11-05T12:12:18.347148Z"
    },
    "papermill": {
     "duration": 0.049154,
     "end_time": "2021-11-05T12:12:18.347304",
     "exception": false,
     "start_time": "2021-11-05T12:12:18.298150",
     "status": "completed"
    },
    "tags": []
   },
   "outputs": [],
   "source": [
    "#hide\n",
    "#delete problematic countries from table\n",
    "df_table = df_table[~df_table['Country/Region'].isin(['Cape Verde', 'Cruise Ship', 'Kosovo'])]"
   ]
  },
  {
   "cell_type": "code",
   "execution_count": 15,
   "id": "fantastic-effect",
   "metadata": {
    "execution": {
     "iopub.execute_input": "2021-11-05T12:12:18.438930Z",
     "iopub.status.busy": "2021-11-05T12:12:18.438204Z",
     "iopub.status.idle": "2021-11-05T12:12:18.461597Z",
     "shell.execute_reply": "2021-11-05T12:12:18.462111Z"
    },
    "papermill": {
     "duration": 0.075094,
     "end_time": "2021-11-05T12:12:18.462254",
     "exception": false,
     "start_time": "2021-11-05T12:12:18.387160",
     "status": "completed"
    },
    "tags": []
   },
   "outputs": [
    {
     "data": {
      "text/html": [
       "<div>\n",
       "<style scoped>\n",
       "    .dataframe tbody tr th:only-of-type {\n",
       "        vertical-align: middle;\n",
       "    }\n",
       "\n",
       "    .dataframe tbody tr th {\n",
       "        vertical-align: top;\n",
       "    }\n",
       "\n",
       "    .dataframe thead th {\n",
       "        text-align: right;\n",
       "    }\n",
       "</style>\n",
       "<table border=\"1\" class=\"dataframe\">\n",
       "  <thead>\n",
       "    <tr style=\"text-align: right;\">\n",
       "      <th></th>\n",
       "      <th>Country/Region</th>\n",
       "      <th>Cases</th>\n",
       "      <th>Deaths</th>\n",
       "      <th>PCases</th>\n",
       "      <th>PDeaths</th>\n",
       "      <th>Cases (+)</th>\n",
       "      <th>Deaths (+)</th>\n",
       "      <th>Fatality Rate</th>\n",
       "      <th>Continent</th>\n",
       "    </tr>\n",
       "  </thead>\n",
       "  <tbody>\n",
       "    <tr>\n",
       "      <th>0</th>\n",
       "      <td>US</td>\n",
       "      <td>46334856</td>\n",
       "      <td>751555</td>\n",
       "      <td>46252795</td>\n",
       "      <td>750424</td>\n",
       "      <td>82061</td>\n",
       "      <td>1131</td>\n",
       "      <td>1.6</td>\n",
       "      <td>North America</td>\n",
       "    </tr>\n",
       "    <tr>\n",
       "      <th>1</th>\n",
       "      <td>India</td>\n",
       "      <td>34333754</td>\n",
       "      <td>459873</td>\n",
       "      <td>34321025</td>\n",
       "      <td>459652</td>\n",
       "      <td>12729</td>\n",
       "      <td>221</td>\n",
       "      <td>1.3</td>\n",
       "      <td>Asia</td>\n",
       "    </tr>\n",
       "    <tr>\n",
       "      <th>2</th>\n",
       "      <td>Brazil</td>\n",
       "      <td>21849137</td>\n",
       "      <td>608671</td>\n",
       "      <td>21835785</td>\n",
       "      <td>608235</td>\n",
       "      <td>13352</td>\n",
       "      <td>436</td>\n",
       "      <td>2.8</td>\n",
       "      <td>South America</td>\n",
       "    </tr>\n",
       "    <tr>\n",
       "      <th>3</th>\n",
       "      <td>United Kingdom</td>\n",
       "      <td>9252646</td>\n",
       "      <td>141826</td>\n",
       "      <td>9215683</td>\n",
       "      <td>141607</td>\n",
       "      <td>36963</td>\n",
       "      <td>219</td>\n",
       "      <td>1.5</td>\n",
       "      <td>Europe</td>\n",
       "    </tr>\n",
       "    <tr>\n",
       "      <th>4</th>\n",
       "      <td>Russia</td>\n",
       "      <td>8533706</td>\n",
       "      <td>238784</td>\n",
       "      <td>8494589</td>\n",
       "      <td>237619</td>\n",
       "      <td>39117</td>\n",
       "      <td>1165</td>\n",
       "      <td>2.8</td>\n",
       "      <td>Europe</td>\n",
       "    </tr>\n",
       "  </tbody>\n",
       "</table>\n",
       "</div>"
      ],
      "text/plain": [
       "   Country/Region     Cases  Deaths    PCases  PDeaths  Cases (+)  Deaths (+)  \\\n",
       "0              US  46334856  751555  46252795   750424      82061        1131   \n",
       "1           India  34333754  459873  34321025   459652      12729         221   \n",
       "2          Brazil  21849137  608671  21835785   608235      13352         436   \n",
       "3  United Kingdom   9252646  141826   9215683   141607      36963         219   \n",
       "4          Russia   8533706  238784   8494589   237619      39117        1165   \n",
       "\n",
       "   Fatality Rate      Continent  \n",
       "0            1.6  North America  \n",
       "1            1.3           Asia  \n",
       "2            2.8  South America  \n",
       "3            1.5         Europe  \n",
       "4            2.8         Europe  "
      ]
     },
     "execution_count": 15,
     "metadata": {},
     "output_type": "execute_result"
    }
   ],
   "source": [
    "#hide\n",
    "df_table = (pd.DataFrame(dict(Cases=dfc_cases, Deaths=dfc_deaths, PCases=dfp_cases, PDeaths=dfp_deaths))\n",
    "             .sort_values(by=['Cases', 'Deaths'], ascending=[False, False])\n",
    "             .reset_index())\n",
    "df_table.rename(columns={'index': 'Country/Region'}, inplace=True)\n",
    "for c in 'Cases, Deaths'.split(', '):\n",
    "    df_table[f'{c} (+)'] = (df_table[c] - df_table[f'P{c}']).clip(0)  # DATA BUG\n",
    "df_table['Fatality Rate'] = (100 * df_table['Deaths'] / df_table['Cases']).round(1)\n",
    "df_table['Continent'] = df_table['Country/Region'].map(mapping['map.continent'])\n",
    "df_table.head(5)"
   ]
  },
  {
   "cell_type": "code",
   "execution_count": 16,
   "id": "fewer-occasion",
   "metadata": {
    "execution": {
     "iopub.execute_input": "2021-11-05T12:12:18.547139Z",
     "iopub.status.busy": "2021-11-05T12:12:18.546481Z",
     "iopub.status.idle": "2021-11-05T12:12:18.550180Z",
     "shell.execute_reply": "2021-11-05T12:12:18.549693Z"
    },
    "papermill": {
     "duration": 0.04887,
     "end_time": "2021-11-05T12:12:18.550298",
     "exception": false,
     "start_time": "2021-11-05T12:12:18.501428",
     "status": "completed"
    },
    "tags": []
   },
   "outputs": [],
   "source": [
    "#hide\n",
    "#delete problematic countries from table\n",
    "df_table = df_table[~df_table['Country/Region'].isin(['Cape Verde', 'Cruise Ship', 'Kosovo'])]"
   ]
  },
  {
   "cell_type": "code",
   "execution_count": 17,
   "id": "related-center",
   "metadata": {
    "execution": {
     "iopub.execute_input": "2021-11-05T12:12:18.642636Z",
     "iopub.status.busy": "2021-11-05T12:12:18.641990Z",
     "iopub.status.idle": "2021-11-05T12:12:18.654360Z",
     "shell.execute_reply": "2021-11-05T12:12:18.653739Z"
    },
    "papermill": {
     "duration": 0.063589,
     "end_time": "2021-11-05T12:12:18.654515",
     "exception": false,
     "start_time": "2021-11-05T12:12:18.590926",
     "status": "completed"
    },
    "tags": []
   },
   "outputs": [],
   "source": [
    "#hide\n",
    "metrics = [df_table.columns[index] for index in [1,2,5,6]]\n",
    "# s_china = df_table[df_table['Country/Region'].eq('China')][metrics].sum().add_prefix('China ')\n",
    "s_us = df_table[df_table['Country/Region'].eq('US')][metrics].sum().add_prefix('US ')\n",
    "s_eu = df_table[df_table['Continent'].eq('Europe')][metrics].sum().add_prefix('EU ')\n",
    "s_ind = df_table[df_table['Country/Region'].eq('India')][metrics].sum().add_prefix('India ')\n",
    "summary = {'updated': pd.to_datetime(dt_today), 'since': pd.to_datetime(dt_yday)}\n",
    "summary = {'updated': pd.to_datetime(dt_today), 'since': pd.to_datetime(dt_yday)}\n",
    "summary = {**summary, **df_table[metrics].sum(), **s_ind, **s_us, **s_eu}"
   ]
  },
  {
   "cell_type": "code",
   "execution_count": 18,
   "id": "engaging-syndrome",
   "metadata": {
    "execution": {
     "iopub.execute_input": "2021-11-05T12:12:18.743404Z",
     "iopub.status.busy": "2021-11-05T12:12:18.742748Z",
     "iopub.status.idle": "2021-11-05T12:12:18.760914Z",
     "shell.execute_reply": "2021-11-05T12:12:18.761519Z"
    },
    "papermill": {
     "duration": 0.065327,
     "end_time": "2021-11-05T12:12:18.761705",
     "exception": false,
     "start_time": "2021-11-05T12:12:18.696378",
     "status": "completed"
    },
    "tags": []
   },
   "outputs": [],
   "source": [
    "#hide\n",
    "dft_ct_new_cases = dft_cases.groupby(COL_REGION)[dt_cols].sum().diff(axis=1).fillna(0).astype(int)"
   ]
  },
  {
   "cell_type": "code",
   "execution_count": 19,
   "id": "neutral-assignment",
   "metadata": {
    "execution": {
     "iopub.execute_input": "2021-11-05T12:12:18.849828Z",
     "iopub.status.busy": "2021-11-05T12:12:18.849212Z",
     "iopub.status.idle": "2021-11-05T12:12:18.852219Z",
     "shell.execute_reply": "2021-11-05T12:12:18.851316Z"
    },
    "papermill": {
     "duration": 0.049653,
     "end_time": "2021-11-05T12:12:18.852429",
     "exception": false,
     "start_time": "2021-11-05T12:12:18.802776",
     "status": "completed"
    },
    "tags": []
   },
   "outputs": [],
   "source": [
    "#hide\n",
    "everydaycases = dft_ct_new_cases.cumsum(axis=1)"
   ]
  },
  {
   "cell_type": "code",
   "execution_count": 20,
   "id": "parliamentary-calgary",
   "metadata": {
    "execution": {
     "iopub.execute_input": "2021-11-05T12:12:18.943456Z",
     "iopub.status.busy": "2021-11-05T12:12:18.942793Z",
     "iopub.status.idle": "2021-11-05T12:12:19.587125Z",
     "shell.execute_reply": "2021-11-05T12:12:19.585899Z"
    },
    "papermill": {
     "duration": 0.690137,
     "end_time": "2021-11-05T12:12:19.587364",
     "exception": false,
     "start_time": "2021-11-05T12:12:18.897227",
     "status": "completed"
    },
    "tags": []
   },
   "outputs": [],
   "source": [
    "#hide\n",
    "import pandas as pd\n",
    "import matplotlib.pyplot as plt\n",
    "import matplotlib.ticker as ticker\n",
    "import matplotlib.animation as animation\n",
    "from IPython.display import HTML"
   ]
  },
  {
   "cell_type": "code",
   "execution_count": 21,
   "id": "lasting-extraction",
   "metadata": {
    "execution": {
     "iopub.execute_input": "2021-11-05T12:12:19.672475Z",
     "iopub.status.busy": "2021-11-05T12:12:19.671863Z",
     "iopub.status.idle": "2021-11-05T12:12:19.678116Z",
     "shell.execute_reply": "2021-11-05T12:12:19.677444Z"
    },
    "papermill": {
     "duration": 0.052827,
     "end_time": "2021-11-05T12:12:19.678268",
     "exception": false,
     "start_time": "2021-11-05T12:12:19.625441",
     "status": "completed"
    },
    "tags": []
   },
   "outputs": [],
   "source": [
    "#hide\n",
    "t = everydaycases.stack()"
   ]
  },
  {
   "cell_type": "code",
   "execution_count": 22,
   "id": "premier-sleeve",
   "metadata": {
    "execution": {
     "iopub.execute_input": "2021-11-05T12:12:19.763795Z",
     "iopub.status.busy": "2021-11-05T12:12:19.763177Z",
     "iopub.status.idle": "2021-11-05T12:12:19.773726Z",
     "shell.execute_reply": "2021-11-05T12:12:19.773226Z"
    },
    "papermill": {
     "duration": 0.055891,
     "end_time": "2021-11-05T12:12:19.773851",
     "exception": false,
     "start_time": "2021-11-05T12:12:19.717960",
     "status": "completed"
    },
    "tags": []
   },
   "outputs": [],
   "source": [
    "#hide\n",
    "g = t.reset_index(['Country/Region'])"
   ]
  },
  {
   "cell_type": "code",
   "execution_count": 23,
   "id": "distributed-pittsburgh",
   "metadata": {
    "execution": {
     "iopub.execute_input": "2021-11-05T12:12:19.857233Z",
     "iopub.status.busy": "2021-11-05T12:12:19.856479Z",
     "iopub.status.idle": "2021-11-05T12:12:19.859621Z",
     "shell.execute_reply": "2021-11-05T12:12:19.860346Z"
    },
    "papermill": {
     "duration": 0.046327,
     "end_time": "2021-11-05T12:12:19.860532",
     "exception": false,
     "start_time": "2021-11-05T12:12:19.814205",
     "status": "completed"
    },
    "tags": []
   },
   "outputs": [],
   "source": [
    "#hide\n",
    "g.index.name = 'date'"
   ]
  },
  {
   "cell_type": "code",
   "execution_count": 24,
   "id": "naked-donor",
   "metadata": {
    "execution": {
     "iopub.execute_input": "2021-11-05T12:12:19.945453Z",
     "iopub.status.busy": "2021-11-05T12:12:19.944279Z",
     "iopub.status.idle": "2021-11-05T12:12:19.948082Z",
     "shell.execute_reply": "2021-11-05T12:12:19.947588Z"
    },
    "papermill": {
     "duration": 0.050387,
     "end_time": "2021-11-05T12:12:19.948295",
     "exception": false,
     "start_time": "2021-11-05T12:12:19.897908",
     "status": "completed"
    },
    "tags": []
   },
   "outputs": [],
   "source": [
    "# #hide\n",
    "# g = g.reset_index(['date'])"
   ]
  },
  {
   "cell_type": "code",
   "execution_count": 25,
   "id": "incomplete-mustang",
   "metadata": {
    "execution": {
     "iopub.execute_input": "2021-11-05T12:12:20.030912Z",
     "iopub.status.busy": "2021-11-05T12:12:20.030307Z",
     "iopub.status.idle": "2021-11-05T12:12:20.034995Z",
     "shell.execute_reply": "2021-11-05T12:12:20.034210Z"
    },
    "papermill": {
     "duration": 0.047334,
     "end_time": "2021-11-05T12:12:20.035169",
     "exception": false,
     "start_time": "2021-11-05T12:12:19.987835",
     "status": "completed"
    },
    "tags": []
   },
   "outputs": [],
   "source": [
    "#hide\n",
    "# g.head()"
   ]
  },
  {
   "cell_type": "code",
   "execution_count": 26,
   "id": "specific-kruger",
   "metadata": {
    "execution": {
     "iopub.execute_input": "2021-11-05T12:12:20.119454Z",
     "iopub.status.busy": "2021-11-05T12:12:20.118801Z",
     "iopub.status.idle": "2021-11-05T12:12:20.120728Z",
     "shell.execute_reply": "2021-11-05T12:12:20.121249Z"
    },
    "papermill": {
     "duration": 0.048446,
     "end_time": "2021-11-05T12:12:20.121457",
     "exception": false,
     "start_time": "2021-11-05T12:12:20.073011",
     "status": "completed"
    },
    "tags": []
   },
   "outputs": [],
   "source": [
    "#hide\n",
    "# g.columns = ['date','country','cases']"
   ]
  },
  {
   "cell_type": "code",
   "execution_count": 27,
   "id": "tender-conversion",
   "metadata": {
    "execution": {
     "iopub.execute_input": "2021-11-05T12:12:20.209285Z",
     "iopub.status.busy": "2021-11-05T12:12:20.208658Z",
     "iopub.status.idle": "2021-11-05T12:12:20.211386Z",
     "shell.execute_reply": "2021-11-05T12:12:20.210800Z"
    },
    "papermill": {
     "duration": 0.049987,
     "end_time": "2021-11-05T12:12:20.211542",
     "exception": false,
     "start_time": "2021-11-05T12:12:20.161555",
     "status": "completed"
    },
    "tags": []
   },
   "outputs": [],
   "source": [
    "#hide\n",
    "# g['continent'] = g.country"
   ]
  },
  {
   "cell_type": "code",
   "execution_count": 28,
   "id": "substantial-wilderness",
   "metadata": {
    "execution": {
     "iopub.execute_input": "2021-11-05T12:12:20.290040Z",
     "iopub.status.busy": "2021-11-05T12:12:20.289436Z",
     "iopub.status.idle": "2021-11-05T12:12:20.292290Z",
     "shell.execute_reply": "2021-11-05T12:12:20.291688Z"
    },
    "papermill": {
     "duration": 0.04355,
     "end_time": "2021-11-05T12:12:20.292418",
     "exception": false,
     "start_time": "2021-11-05T12:12:20.248868",
     "status": "completed"
    },
    "tags": []
   },
   "outputs": [],
   "source": [
    "#hide\n",
    "# cols = list(g.columns.values)"
   ]
  },
  {
   "cell_type": "code",
   "execution_count": 29,
   "id": "solved-farming",
   "metadata": {
    "execution": {
     "iopub.execute_input": "2021-11-05T12:12:20.377120Z",
     "iopub.status.busy": "2021-11-05T12:12:20.376491Z",
     "iopub.status.idle": "2021-11-05T12:12:20.378855Z",
     "shell.execute_reply": "2021-11-05T12:12:20.378387Z"
    },
    "papermill": {
     "duration": 0.045337,
     "end_time": "2021-11-05T12:12:20.378970",
     "exception": false,
     "start_time": "2021-11-05T12:12:20.333633",
     "status": "completed"
    },
    "tags": []
   },
   "outputs": [],
   "source": [
    "#hide\n",
    "# cols.insert(0, cols.pop())"
   ]
  },
  {
   "cell_type": "code",
   "execution_count": 30,
   "id": "executed-adoption",
   "metadata": {
    "execution": {
     "iopub.execute_input": "2021-11-05T12:12:20.458903Z",
     "iopub.status.busy": "2021-11-05T12:12:20.458254Z",
     "iopub.status.idle": "2021-11-05T12:12:20.462097Z",
     "shell.execute_reply": "2021-11-05T12:12:20.462557Z"
    },
    "papermill": {
     "duration": 0.045584,
     "end_time": "2021-11-05T12:12:20.462752",
     "exception": false,
     "start_time": "2021-11-05T12:12:20.417168",
     "status": "completed"
    },
    "tags": []
   },
   "outputs": [],
   "source": [
    "#hide\n",
    "# g = g[cols]"
   ]
  },
  {
   "cell_type": "code",
   "execution_count": 31,
   "id": "subject-dublin",
   "metadata": {
    "execution": {
     "iopub.execute_input": "2021-11-05T12:12:20.548051Z",
     "iopub.status.busy": "2021-11-05T12:12:20.547310Z",
     "iopub.status.idle": "2021-11-05T12:12:20.550416Z",
     "shell.execute_reply": "2021-11-05T12:12:20.549889Z"
    },
    "papermill": {
     "duration": 0.047108,
     "end_time": "2021-11-05T12:12:20.550537",
     "exception": false,
     "start_time": "2021-11-05T12:12:20.503429",
     "status": "completed"
    },
    "tags": []
   },
   "outputs": [],
   "source": [
    "#hide\n",
    "# g['continent'] = g['continent'].map(mapping['map.continent'])"
   ]
  },
  {
   "cell_type": "code",
   "execution_count": 32,
   "id": "freelance-scout",
   "metadata": {
    "execution": {
     "iopub.execute_input": "2021-11-05T12:12:20.630433Z",
     "iopub.status.busy": "2021-11-05T12:12:20.629751Z",
     "iopub.status.idle": "2021-11-05T12:12:20.633451Z",
     "shell.execute_reply": "2021-11-05T12:12:20.633957Z"
    },
    "papermill": {
     "duration": 0.046518,
     "end_time": "2021-11-05T12:12:20.634117",
     "exception": false,
     "start_time": "2021-11-05T12:12:20.587599",
     "status": "completed"
    },
    "tags": []
   },
   "outputs": [],
   "source": [
    "#hide\n",
    "# g.head()"
   ]
  },
  {
   "cell_type": "code",
   "execution_count": 33,
   "id": "limited-engine",
   "metadata": {
    "execution": {
     "iopub.execute_input": "2021-11-05T12:12:20.717885Z",
     "iopub.status.busy": "2021-11-05T12:12:20.717224Z",
     "iopub.status.idle": "2021-11-05T12:12:20.719607Z",
     "shell.execute_reply": "2021-11-05T12:12:20.720054Z"
    },
    "papermill": {
     "duration": 0.046872,
     "end_time": "2021-11-05T12:12:20.720190",
     "exception": false,
     "start_time": "2021-11-05T12:12:20.673318",
     "status": "completed"
    },
    "tags": []
   },
   "outputs": [],
   "source": [
    "# hide\n",
    "# g['date'] = g['date'].astype('datetime64[ns]')"
   ]
  },
  {
   "cell_type": "code",
   "execution_count": 34,
   "id": "sophisticated-supervisor",
   "metadata": {
    "execution": {
     "iopub.execute_input": "2021-11-05T12:12:20.801383Z",
     "iopub.status.busy": "2021-11-05T12:12:20.800660Z",
     "iopub.status.idle": "2021-11-05T12:12:20.803132Z",
     "shell.execute_reply": "2021-11-05T12:12:20.802647Z"
    },
    "papermill": {
     "duration": 0.043134,
     "end_time": "2021-11-05T12:12:20.803247",
     "exception": false,
     "start_time": "2021-11-05T12:12:20.760113",
     "status": "completed"
    },
    "tags": []
   },
   "outputs": [],
   "source": [
    "#hide\n",
    "# g['date'] = g.date.dt.dayofyear"
   ]
  },
  {
   "cell_type": "code",
   "execution_count": 35,
   "id": "inside-dubai",
   "metadata": {
    "execution": {
     "iopub.execute_input": "2021-11-05T12:12:20.885872Z",
     "iopub.status.busy": "2021-11-05T12:12:20.885152Z",
     "iopub.status.idle": "2021-11-05T12:12:20.889573Z",
     "shell.execute_reply": "2021-11-05T12:12:20.889056Z"
    },
    "papermill": {
     "duration": 0.044902,
     "end_time": "2021-11-05T12:12:20.889708",
     "exception": false,
     "start_time": "2021-11-05T12:12:20.844806",
     "status": "completed"
    },
    "tags": []
   },
   "outputs": [],
   "source": [
    "#hide\n",
    "# g = g.rename(columns= {'continent':'group','country':'name','cases':'value'})"
   ]
  },
  {
   "cell_type": "code",
   "execution_count": 36,
   "id": "fleet-motorcycle",
   "metadata": {
    "execution": {
     "iopub.execute_input": "2021-11-05T12:12:20.972465Z",
     "iopub.status.busy": "2021-11-05T12:12:20.971584Z",
     "iopub.status.idle": "2021-11-05T12:12:20.974075Z",
     "shell.execute_reply": "2021-11-05T12:12:20.974519Z"
    },
    "papermill": {
     "duration": 0.045151,
     "end_time": "2021-11-05T12:12:20.974745",
     "exception": false,
     "start_time": "2021-11-05T12:12:20.929594",
     "status": "completed"
    },
    "tags": []
   },
   "outputs": [],
   "source": [
    "#hide\n",
    "# cols = ['name','group','day','value']"
   ]
  },
  {
   "cell_type": "code",
   "execution_count": 37,
   "id": "continued-sleeping",
   "metadata": {
    "execution": {
     "iopub.execute_input": "2021-11-05T12:12:21.059065Z",
     "iopub.status.busy": "2021-11-05T12:12:21.058410Z",
     "iopub.status.idle": "2021-11-05T12:12:21.059917Z",
     "shell.execute_reply": "2021-11-05T12:12:21.060517Z"
    },
    "papermill": {
     "duration": 0.04878,
     "end_time": "2021-11-05T12:12:21.060786",
     "exception": false,
     "start_time": "2021-11-05T12:12:21.012006",
     "status": "completed"
    },
    "tags": []
   },
   "outputs": [],
   "source": [
    "#hide\n",
    "# g.rename(columns= {'date':'day'},inplace = True)"
   ]
  },
  {
   "cell_type": "code",
   "execution_count": 38,
   "id": "major-fight",
   "metadata": {
    "execution": {
     "iopub.execute_input": "2021-11-05T12:12:21.145615Z",
     "iopub.status.busy": "2021-11-05T12:12:21.144892Z",
     "iopub.status.idle": "2021-11-05T12:12:21.147427Z",
     "shell.execute_reply": "2021-11-05T12:12:21.146868Z"
    },
    "papermill": {
     "duration": 0.044695,
     "end_time": "2021-11-05T12:12:21.147560",
     "exception": false,
     "start_time": "2021-11-05T12:12:21.102865",
     "status": "completed"
    },
    "tags": []
   },
   "outputs": [],
   "source": [
    "#hide\n",
    "# g = g[cols]"
   ]
  },
  {
   "cell_type": "code",
   "execution_count": 39,
   "id": "structured-mobile",
   "metadata": {
    "execution": {
     "iopub.execute_input": "2021-11-05T12:12:21.233966Z",
     "iopub.status.busy": "2021-11-05T12:12:21.233299Z",
     "iopub.status.idle": "2021-11-05T12:12:21.237839Z",
     "shell.execute_reply": "2021-11-05T12:12:21.237318Z"
    },
    "papermill": {
     "duration": 0.051404,
     "end_time": "2021-11-05T12:12:21.237967",
     "exception": false,
     "start_time": "2021-11-05T12:12:21.186563",
     "status": "completed"
    },
    "tags": []
   },
   "outputs": [],
   "source": [
    "# #hide\n",
    "# g = g[g.group.notna()]"
   ]
  },
  {
   "cell_type": "code",
   "execution_count": 40,
   "id": "determined-closing",
   "metadata": {
    "execution": {
     "iopub.execute_input": "2021-11-05T12:12:21.318594Z",
     "iopub.status.busy": "2021-11-05T12:12:21.317515Z",
     "iopub.status.idle": "2021-11-05T12:12:21.319414Z",
     "shell.execute_reply": "2021-11-05T12:12:21.319955Z"
    },
    "papermill": {
     "duration": 0.044422,
     "end_time": "2021-11-05T12:12:21.320249",
     "exception": false,
     "start_time": "2021-11-05T12:12:21.275827",
     "status": "completed"
    },
    "tags": []
   },
   "outputs": [],
   "source": [
    "# #hide\n",
    "# colors = dict(zip(\n",
    "#     [\"Oceania\", \"Europe\", \"Asia\", \"South America\", \"Middle East\", \"North America\", \"Africa\"],\n",
    "#     [\"#adb0ff\", \"#ffb3ff\", \"#90d595\", \"#e48381\", \"#aafbff\", \"#f7bb5f\", \"#eafb50\"]\n",
    "# ))\n",
    "# group_lk = g.set_index('name')['group'].to_dict()"
   ]
  },
  {
   "cell_type": "code",
   "execution_count": null,
   "id": "gross-drinking",
   "metadata": {
    "papermill": {
     "duration": 0.037983,
     "end_time": "2021-11-05T12:12:21.399939",
     "exception": false,
     "start_time": "2021-11-05T12:12:21.361956",
     "status": "completed"
    },
    "tags": []
   },
   "outputs": [],
   "source": []
  },
  {
   "cell_type": "code",
   "execution_count": 41,
   "id": "subject-macintosh",
   "metadata": {
    "execution": {
     "iopub.execute_input": "2021-11-05T12:12:21.483403Z",
     "iopub.status.busy": "2021-11-05T12:12:21.482746Z",
     "iopub.status.idle": "2021-11-05T12:12:21.484865Z",
     "shell.execute_reply": "2021-11-05T12:12:21.485345Z"
    },
    "papermill": {
     "duration": 0.045799,
     "end_time": "2021-11-05T12:12:21.485487",
     "exception": false,
     "start_time": "2021-11-05T12:12:21.439688",
     "status": "completed"
    },
    "tags": []
   },
   "outputs": [],
   "source": [
    "# #hide\n",
    "# fig, ax = plt.subplots(figsize=(15, 8))\n",
    "\n",
    "# def draw_barchart(current_day):\n",
    "#     dff = g[g['day'].eq(current_day)].sort_values(by='value', ascending=True).tail(10)\n",
    "#     ax.clear()\n",
    "#     ax.barh(dff['name'], dff['value'], color=[colors[group_lk[x]] for x in dff['name']])\n",
    "#     dx = dff['value'].max() / 200\n",
    "    \n",
    "#     for i, (value, name) in enumerate(zip(dff['value'], dff['name'])):\n",
    "#         ax.text(value-dx, i,     name,           size=14, weight=600, ha='right', va='bottom')\n",
    "#         ax.text(value-dx, i-.25, group_lk[name], size=10, color='#444444', ha='right', va='baseline')\n",
    "#         ax.text(value+dx, i,     f'{value:,.0f}',  size=14, ha='left',  va='center')\n",
    "#     ax.text(1, 0.4, current_day, transform=ax.transAxes, color='#777777', size=46, ha='right', weight=800)\n",
    "#     ax.text(0, 1.06, 'Population (thousands)', transform=ax.transAxes, size=12, color='#777777')\n",
    "#     ax.xaxis.set_major_formatter(ticker.StrMethodFormatter('{x:,.0f}'))\n",
    "#     ax.xaxis.set_ticks_position('top')\n",
    "#     ax.tick_params(axis='x', colors='#777777', labelsize=12)\n",
    "#     ax.set_yticks([])\n",
    "#     ax.margins(0, 0.01)\n",
    "#     ax.grid(which='major', axis='x', linestyle='-')\n",
    "#     ax.set_axisbelow(True)\n",
    "    \n",
    "#     ax.text(0, 1.15, 'Coronavirus',\n",
    "#             transform=ax.transAxes, size=24, weight=600, ha='left', va='top')\n",
    "# #     ax.text(1, 0, 'by @pratapvardhan; credit @jburnmurdoch', transform=ax.transAxes, color='#777777', ha='right',\n",
    "# #             bbox=dict(facecolor='white', alpha=0.8, edgecolor='white'))\n",
    "#     plt.box(False)"
   ]
  },
  {
   "cell_type": "code",
   "execution_count": 42,
   "id": "sexual-wages",
   "metadata": {
    "execution": {
     "iopub.execute_input": "2021-11-05T12:12:21.567315Z",
     "iopub.status.busy": "2021-11-05T12:12:21.566697Z",
     "iopub.status.idle": "2021-11-05T12:12:21.569619Z",
     "shell.execute_reply": "2021-11-05T12:12:21.568902Z"
    },
    "papermill": {
     "duration": 0.044414,
     "end_time": "2021-11-05T12:12:21.569738",
     "exception": false,
     "start_time": "2021-11-05T12:12:21.525324",
     "status": "completed"
    },
    "tags": []
   },
   "outputs": [],
   "source": [
    "# #hide_input\n",
    "# fig, ax = plt.subplots(figsize=(15, 8))\n",
    "# animator = animation.FuncAnimation(fig, draw_barchart, frames=range(g.day.values.min(), g.day.values.max()))\n",
    "# HTML(animator.to_jshtml())\n",
    "# # or use animator.to_html5_video() or animator.save() "
   ]
  },
  {
   "cell_type": "code",
   "execution_count": null,
   "id": "australian-container",
   "metadata": {
    "papermill": {
     "duration": 0.039433,
     "end_time": "2021-11-05T12:12:21.648162",
     "exception": false,
     "start_time": "2021-11-05T12:12:21.608729",
     "status": "completed"
    },
    "tags": []
   },
   "outputs": [],
   "source": []
  },
  {
   "cell_type": "code",
   "execution_count": null,
   "id": "mediterranean-pontiac",
   "metadata": {
    "papermill": {
     "duration": 0.037941,
     "end_time": "2021-11-05T12:12:21.723839",
     "exception": false,
     "start_time": "2021-11-05T12:12:21.685898",
     "status": "completed"
    },
    "tags": []
   },
   "outputs": [],
   "source": []
  },
  {
   "cell_type": "code",
   "execution_count": null,
   "id": "aging-legislature",
   "metadata": {
    "papermill": {
     "duration": 0.038447,
     "end_time": "2021-11-05T12:12:21.804166",
     "exception": false,
     "start_time": "2021-11-05T12:12:21.765719",
     "status": "completed"
    },
    "tags": []
   },
   "outputs": [],
   "source": []
  }
 ],
 "metadata": {
  "kernelspec": {
   "display_name": "Python 3",
   "language": "python",
   "name": "python3"
  },
  "language_info": {
   "codemirror_mode": {
    "name": "ipython",
    "version": 3
   },
   "file_extension": ".py",
   "mimetype": "text/x-python",
   "name": "python",
   "nbconvert_exporter": "python",
   "pygments_lexer": "ipython3",
   "version": "3.6.15"
  },
  "papermill": {
   "duration": 7.210963,
   "end_time": "2021-11-05T12:12:22.153273",
   "environment_variables": {},
   "exception": null,
   "input_path": "2020-03-21-covid19exp.ipynb",
   "output_path": "2020-03-21-covid19exp.ipynb",
   "parameters": {},
   "start_time": "2021-11-05T12:12:14.942310",
   "version": "2.0.0"
  }
 },
 "nbformat": 4,
 "nbformat_minor": 5
}