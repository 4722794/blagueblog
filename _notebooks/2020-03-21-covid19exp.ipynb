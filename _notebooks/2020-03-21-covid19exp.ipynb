{
 "cells": [
  {
   "cell_type": "markdown",
   "id": "muslim-click",
   "metadata": {
    "papermill": {
     "duration": 0.034635,
     "end_time": "2022-11-06T12:17:00.707488",
     "exception": false,
     "start_time": "2022-11-06T12:17:00.672853",
     "status": "completed"
    },
    "tags": []
   },
   "source": [
    "# COVID-19 Case Race\n",
    "> A race chart to see rising cases around the world\n",
    "\n",
    "- author: Hargun Oberoi\n",
    "- image: images/covid-overview.png\n",
    "- hide: false\n",
    "- badges: false"
   ]
  },
  {
   "cell_type": "code",
   "execution_count": 1,
   "id": "proof-material",
   "metadata": {
    "execution": {
     "iopub.execute_input": "2022-11-06T12:17:00.777318Z",
     "iopub.status.busy": "2022-11-06T12:17:00.776674Z",
     "iopub.status.idle": "2022-11-06T12:17:01.097148Z",
     "shell.execute_reply": "2022-11-06T12:17:01.097705Z"
    },
    "papermill": {
     "duration": 0.3605,
     "end_time": "2022-11-06T12:17:01.097904",
     "exception": false,
     "start_time": "2022-11-06T12:17:00.737404",
     "status": "completed"
    },
    "tags": []
   },
   "outputs": [],
   "source": [
    "#hide\n",
    "import numpy as np\n",
    "import pandas as pd\n",
    "from jinja2 import Template\n",
    "from IPython.display import HTML"
   ]
  },
  {
   "cell_type": "code",
   "execution_count": 2,
   "id": "developed-terminology",
   "metadata": {
    "execution": {
     "iopub.execute_input": "2022-11-06T12:17:01.162671Z",
     "iopub.status.busy": "2022-11-06T12:17:01.162082Z",
     "iopub.status.idle": "2022-11-06T12:17:01.164432Z",
     "shell.execute_reply": "2022-11-06T12:17:01.165014Z"
    },
    "papermill": {
     "duration": 0.037063,
     "end_time": "2022-11-06T12:17:01.165148",
     "exception": false,
     "start_time": "2022-11-06T12:17:01.128085",
     "status": "completed"
    },
    "tags": []
   },
   "outputs": [],
   "source": [
    "#hide\n",
    "\n",
    "# FETCH\n",
    "base_url = 'https://raw.githubusercontent.com/pratapvardhan/notebooks/master/covid19/'\n",
    "paths = {\n",
    "    'mapping': base_url + 'mapping_countries.csv',\n",
    "    'overview': base_url + 'overview.tpl'\n",
    "}"
   ]
  },
  {
   "cell_type": "code",
   "execution_count": 3,
   "id": "dynamic-saver",
   "metadata": {
    "execution": {
     "iopub.execute_input": "2022-11-06T12:17:01.233480Z",
     "iopub.status.busy": "2022-11-06T12:17:01.232884Z",
     "iopub.status.idle": "2022-11-06T12:17:01.235510Z",
     "shell.execute_reply": "2022-11-06T12:17:01.236045Z"
    },
    "papermill": {
     "duration": 0.041775,
     "end_time": "2022-11-06T12:17:01.236168",
     "exception": false,
     "start_time": "2022-11-06T12:17:01.194393",
     "status": "completed"
    },
    "tags": []
   },
   "outputs": [
    {
     "data": {
      "text/plain": [
       "'https://raw.githubusercontent.com/pratapvardhan/notebooks/master/covid19/mapping_countries.csv'"
      ]
     },
     "execution_count": 3,
     "metadata": {},
     "output_type": "execute_result"
    }
   ],
   "source": [
    "#hide\n",
    "paths['mapping']"
   ]
  },
  {
   "cell_type": "code",
   "execution_count": 4,
   "id": "urban-software",
   "metadata": {
    "execution": {
     "iopub.execute_input": "2022-11-06T12:17:01.300503Z",
     "iopub.status.busy": "2022-11-06T12:17:01.299842Z",
     "iopub.status.idle": "2022-11-06T12:17:01.302537Z",
     "shell.execute_reply": "2022-11-06T12:17:01.302005Z"
    },
    "papermill": {
     "duration": 0.037016,
     "end_time": "2022-11-06T12:17:01.302657",
     "exception": false,
     "start_time": "2022-11-06T12:17:01.265641",
     "status": "completed"
    },
    "tags": []
   },
   "outputs": [],
   "source": [
    "#hide\n",
    "def get_mappings(url):\n",
    "    df = pd.read_csv(url)\n",
    "    return {\n",
    "        'df': df,\n",
    "        'replace.country': dict(df.dropna(subset=['Name']).set_index('Country')['Name']),\n",
    "        'map.continent': dict(df.set_index('Name')['Continent'])\n",
    "    }"
   ]
  },
  {
   "cell_type": "code",
   "execution_count": 5,
   "id": "intimate-machinery",
   "metadata": {
    "execution": {
     "iopub.execute_input": "2022-11-06T12:17:01.366980Z",
     "iopub.status.busy": "2022-11-06T12:17:01.366416Z",
     "iopub.status.idle": "2022-11-06T12:17:01.392557Z",
     "shell.execute_reply": "2022-11-06T12:17:01.392030Z"
    },
    "papermill": {
     "duration": 0.060162,
     "end_time": "2022-11-06T12:17:01.392674",
     "exception": false,
     "start_time": "2022-11-06T12:17:01.332512",
     "status": "completed"
    },
    "tags": []
   },
   "outputs": [],
   "source": [
    "#hide\n",
    "mapping = get_mappings(paths['mapping'])"
   ]
  },
  {
   "cell_type": "code",
   "execution_count": 6,
   "id": "certified-tactics",
   "metadata": {
    "execution": {
     "iopub.execute_input": "2022-11-06T12:17:01.457724Z",
     "iopub.status.busy": "2022-11-06T12:17:01.457140Z",
     "iopub.status.idle": "2022-11-06T12:17:01.459566Z",
     "shell.execute_reply": "2022-11-06T12:17:01.460030Z"
    },
    "papermill": {
     "duration": 0.037209,
     "end_time": "2022-11-06T12:17:01.460155",
     "exception": false,
     "start_time": "2022-11-06T12:17:01.422946",
     "status": "completed"
    },
    "tags": []
   },
   "outputs": [],
   "source": [
    "#hide\n",
    "def get_template(path):\n",
    "    from urllib.parse import urlparse\n",
    "    if bool(urlparse(path).netloc):\n",
    "        from urllib.request import urlopen\n",
    "        return urlopen(path).read().decode('utf8')\n",
    "    return open(path).read()"
   ]
  },
  {
   "cell_type": "code",
   "execution_count": 7,
   "id": "realistic-blast",
   "metadata": {
    "execution": {
     "iopub.execute_input": "2022-11-06T12:17:01.524321Z",
     "iopub.status.busy": "2022-11-06T12:17:01.523745Z",
     "iopub.status.idle": "2022-11-06T12:17:01.525893Z",
     "shell.execute_reply": "2022-11-06T12:17:01.526336Z"
    },
    "papermill": {
     "duration": 0.036951,
     "end_time": "2022-11-06T12:17:01.526456",
     "exception": false,
     "start_time": "2022-11-06T12:17:01.489505",
     "status": "completed"
    },
    "tags": []
   },
   "outputs": [],
   "source": [
    "#hide\n",
    "def get_frame(name):\n",
    "    url = (\n",
    "        'https://raw.githubusercontent.com/CSSEGISandData/COVID-19/master/csse_covid_19_data/'\n",
    "        f'csse_covid_19_time_series/time_series_covid19_{name}_global.csv')\n",
    "    df = pd.read_csv(url)\n",
    "    # rename countries\n",
    "    df['Country/Region'] = df['Country/Region'].replace(mapping['replace.country'])\n",
    "    return df"
   ]
  },
  {
   "cell_type": "code",
   "execution_count": 8,
   "id": "affiliated-characterization",
   "metadata": {
    "execution": {
     "iopub.execute_input": "2022-11-06T12:17:01.591328Z",
     "iopub.status.busy": "2022-11-06T12:17:01.590655Z",
     "iopub.status.idle": "2022-11-06T12:17:01.592990Z",
     "shell.execute_reply": "2022-11-06T12:17:01.592408Z"
    },
    "papermill": {
     "duration": 0.037233,
     "end_time": "2022-11-06T12:17:01.593099",
     "exception": false,
     "start_time": "2022-11-06T12:17:01.555866",
     "status": "completed"
    },
    "tags": []
   },
   "outputs": [],
   "source": [
    "#hide\n",
    "def get_dates(df):\n",
    "    dt_cols = df.columns[~df.columns.isin(['Province/State', 'Country/Region', 'Lat', 'Long'])]\n",
    "    LAST_DATE_I = -1\n",
    "    # sometimes last column may be empty, then go backwards\n",
    "    for i in range(-1, -len(dt_cols), -1):\n",
    "        if not df[dt_cols[i]].fillna(0).eq(0).all():\n",
    "            LAST_DATE_I = i\n",
    "            break\n",
    "    return LAST_DATE_I, dt_cols"
   ]
  },
  {
   "cell_type": "code",
   "execution_count": 9,
   "id": "recent-optimization",
   "metadata": {
    "execution": {
     "iopub.execute_input": "2022-11-06T12:17:01.656166Z",
     "iopub.status.busy": "2022-11-06T12:17:01.655519Z",
     "iopub.status.idle": "2022-11-06T12:17:02.093780Z",
     "shell.execute_reply": "2022-11-06T12:17:02.093247Z"
    },
    "papermill": {
     "duration": 0.471618,
     "end_time": "2022-11-06T12:17:02.093915",
     "exception": false,
     "start_time": "2022-11-06T12:17:01.622297",
     "status": "completed"
    },
    "tags": []
   },
   "outputs": [],
   "source": [
    "#hide\n",
    "COL_REGION = 'Country/Region'\n",
    "# Confirmed, Recovered, Deaths\n",
    "df = get_frame('confirmed')\n",
    "# dft_: timeseries, dfc_: today country agg\n",
    "dft_cases = df\n",
    "dft_deaths = get_frame('deaths')\n",
    "dft_recovered = get_frame('recovered')\n",
    "LAST_DATE_I, dt_cols = get_dates(df)"
   ]
  },
  {
   "cell_type": "code",
   "execution_count": 10,
   "id": "absolute-copper",
   "metadata": {
    "execution": {
     "iopub.execute_input": "2022-11-06T12:17:02.159157Z",
     "iopub.status.busy": "2022-11-06T12:17:02.158582Z",
     "iopub.status.idle": "2022-11-06T12:17:02.161016Z",
     "shell.execute_reply": "2022-11-06T12:17:02.161558Z"
    },
    "papermill": {
     "duration": 0.037928,
     "end_time": "2022-11-06T12:17:02.161685",
     "exception": false,
     "start_time": "2022-11-06T12:17:02.123757",
     "status": "completed"
    },
    "tags": []
   },
   "outputs": [],
   "source": [
    "#hide\n",
    "LAST_DATE_I, dt_cols = get_dates(df)\n",
    "dt_today =dt_cols[LAST_DATE_I]\n",
    "# dt_5day = dt_cols[LAST_DATE_I - 5]\n",
    "dt_yday = dt_cols[LAST_DATE_I - 1]"
   ]
  },
  {
   "cell_type": "code",
   "execution_count": 11,
   "id": "restricted-sheriff",
   "metadata": {
    "execution": {
     "iopub.execute_input": "2022-11-06T12:17:02.225684Z",
     "iopub.status.busy": "2022-11-06T12:17:02.225110Z",
     "iopub.status.idle": "2022-11-06T12:17:02.232370Z",
     "shell.execute_reply": "2022-11-06T12:17:02.232932Z"
    },
    "papermill": {
     "duration": 0.04211,
     "end_time": "2022-11-06T12:17:02.233057",
     "exception": false,
     "start_time": "2022-11-06T12:17:02.190947",
     "status": "completed"
    },
    "tags": []
   },
   "outputs": [],
   "source": [
    "#hide\n",
    "dfc_cases = dft_cases.groupby(COL_REGION)[dt_today].sum()\n",
    "dfc_deaths = dft_deaths.groupby(COL_REGION)[dt_today].sum()\n",
    "# dfp_cases = dft_cases.groupby(COL_REGION)[dt_5day].sum()\n",
    "# dfp_deaths = dft_deaths.groupby(COL_REGION)[dt_5day].sum()\n",
    "dfp_cases = dft_cases.groupby(COL_REGION)[dt_yday].sum()\n",
    "dfp_deaths = dft_deaths.groupby(COL_REGION)[dt_yday].sum()"
   ]
  },
  {
   "cell_type": "code",
   "execution_count": 12,
   "id": "deluxe-hepatitis",
   "metadata": {
    "execution": {
     "iopub.execute_input": "2022-11-06T12:17:02.297435Z",
     "iopub.status.busy": "2022-11-06T12:17:02.296857Z",
     "iopub.status.idle": "2022-11-06T12:17:02.301143Z",
     "shell.execute_reply": "2022-11-06T12:17:02.301703Z"
    },
    "papermill": {
     "duration": 0.039368,
     "end_time": "2022-11-06T12:17:02.301824",
     "exception": false,
     "start_time": "2022-11-06T12:17:02.262456",
     "status": "completed"
    },
    "tags": []
   },
   "outputs": [],
   "source": [
    "#hide\n",
    "df_table = (pd.DataFrame(dict(Cases = dfc_cases, Deaths = dfc_deaths, PCases = dfp_cases, PDeaths = dfp_deaths))\n",
    "            .sort_values(by = ['Cases','Deaths'], ascending = [False, False])\n",
    "            .reset_index())"
   ]
  },
  {
   "cell_type": "code",
   "execution_count": 13,
   "id": "educational-chancellor",
   "metadata": {
    "execution": {
     "iopub.execute_input": "2022-11-06T12:17:02.377816Z",
     "iopub.status.busy": "2022-11-06T12:17:02.377236Z",
     "iopub.status.idle": "2022-11-06T12:17:02.385380Z",
     "shell.execute_reply": "2022-11-06T12:17:02.384904Z"
    },
    "papermill": {
     "duration": 0.054409,
     "end_time": "2022-11-06T12:17:02.385486",
     "exception": false,
     "start_time": "2022-11-06T12:17:02.331077",
     "status": "completed"
    },
    "tags": []
   },
   "outputs": [
    {
     "data": {
      "text/html": [
       "<div>\n",
       "<style scoped>\n",
       "    .dataframe tbody tr th:only-of-type {\n",
       "        vertical-align: middle;\n",
       "    }\n",
       "\n",
       "    .dataframe tbody tr th {\n",
       "        vertical-align: top;\n",
       "    }\n",
       "\n",
       "    .dataframe thead th {\n",
       "        text-align: right;\n",
       "    }\n",
       "</style>\n",
       "<table border=\"1\" class=\"dataframe\">\n",
       "  <thead>\n",
       "    <tr style=\"text-align: right;\">\n",
       "      <th></th>\n",
       "      <th>Country/Region</th>\n",
       "      <th>Cases</th>\n",
       "      <th>Deaths</th>\n",
       "      <th>PCases</th>\n",
       "      <th>PDeaths</th>\n",
       "      <th>Cases (+)</th>\n",
       "      <th>Deaths (+)</th>\n",
       "      <th>Fatality Rate</th>\n",
       "      <th>Continent</th>\n",
       "    </tr>\n",
       "  </thead>\n",
       "  <tbody>\n",
       "    <tr>\n",
       "      <th>0</th>\n",
       "      <td>US</td>\n",
       "      <td>97734261</td>\n",
       "      <td>1072582</td>\n",
       "      <td>97729653</td>\n",
       "      <td>1072561</td>\n",
       "      <td>4608</td>\n",
       "      <td>21</td>\n",
       "      <td>1.10</td>\n",
       "      <td>North America</td>\n",
       "    </tr>\n",
       "    <tr>\n",
       "      <th>1</th>\n",
       "      <td>India</td>\n",
       "      <td>44660579</td>\n",
       "      <td>530500</td>\n",
       "      <td>44659447</td>\n",
       "      <td>530486</td>\n",
       "      <td>1132</td>\n",
       "      <td>14</td>\n",
       "      <td>1.19</td>\n",
       "      <td>Asia</td>\n",
       "    </tr>\n",
       "    <tr>\n",
       "      <th>2</th>\n",
       "      <td>France</td>\n",
       "      <td>37140238</td>\n",
       "      <td>158317</td>\n",
       "      <td>37140238</td>\n",
       "      <td>158317</td>\n",
       "      <td>0</td>\n",
       "      <td>0</td>\n",
       "      <td>0.43</td>\n",
       "      <td>Europe</td>\n",
       "    </tr>\n",
       "    <tr>\n",
       "      <th>3</th>\n",
       "      <td>Germany</td>\n",
       "      <td>35823771</td>\n",
       "      <td>154535</td>\n",
       "      <td>35823771</td>\n",
       "      <td>154535</td>\n",
       "      <td>0</td>\n",
       "      <td>0</td>\n",
       "      <td>0.43</td>\n",
       "      <td>Europe</td>\n",
       "    </tr>\n",
       "    <tr>\n",
       "      <th>4</th>\n",
       "      <td>Brazil</td>\n",
       "      <td>34849063</td>\n",
       "      <td>688332</td>\n",
       "      <td>34849063</td>\n",
       "      <td>688332</td>\n",
       "      <td>0</td>\n",
       "      <td>0</td>\n",
       "      <td>1.98</td>\n",
       "      <td>South America</td>\n",
       "    </tr>\n",
       "  </tbody>\n",
       "</table>\n",
       "</div>"
      ],
      "text/plain": [
       "  Country/Region     Cases   Deaths    PCases  PDeaths  Cases (+)  Deaths (+)  \\\n",
       "0             US  97734261  1072582  97729653  1072561       4608          21   \n",
       "1          India  44660579   530500  44659447   530486       1132          14   \n",
       "2         France  37140238   158317  37140238   158317          0           0   \n",
       "3        Germany  35823771   154535  35823771   154535          0           0   \n",
       "4         Brazil  34849063   688332  34849063   688332          0           0   \n",
       "\n",
       "   Fatality Rate      Continent  \n",
       "0           1.10  North America  \n",
       "1           1.19           Asia  \n",
       "2           0.43         Europe  \n",
       "3           0.43         Europe  \n",
       "4           1.98  South America  "
      ]
     },
     "execution_count": 13,
     "metadata": {},
     "output_type": "execute_result"
    }
   ],
   "source": [
    "#hide\n",
    "for c in 'Cases, Deaths'.split(', '):\n",
    "    df_table[f'{c} (+)'] = (df_table[c] - df_table[f'P{c}']).clip(0)\n",
    "    #Clip ça veut dire, les chiffres negatif sont interdit\n",
    "df_table['Fatality Rate'] = (100* df_table['Deaths']/ df_table['Cases']).round(2)\n",
    "df_table['Continent'] = df_table['Country/Region'].map(mapping['map.continent'])\n",
    "df_table.head(5)"
   ]
  },
  {
   "cell_type": "code",
   "execution_count": 14,
   "id": "aboriginal-bulgaria",
   "metadata": {
    "execution": {
     "iopub.execute_input": "2022-11-06T12:17:02.451004Z",
     "iopub.status.busy": "2022-11-06T12:17:02.450428Z",
     "iopub.status.idle": "2022-11-06T12:17:02.453464Z",
     "shell.execute_reply": "2022-11-06T12:17:02.454014Z"
    },
    "papermill": {
     "duration": 0.038688,
     "end_time": "2022-11-06T12:17:02.454141",
     "exception": false,
     "start_time": "2022-11-06T12:17:02.415453",
     "status": "completed"
    },
    "tags": []
   },
   "outputs": [],
   "source": [
    "#hide\n",
    "#delete problematic countries from table\n",
    "df_table = df_table[~df_table['Country/Region'].isin(['Cape Verde', 'Cruise Ship', 'Kosovo'])]"
   ]
  },
  {
   "cell_type": "code",
   "execution_count": 15,
   "id": "fantastic-effect",
   "metadata": {
    "execution": {
     "iopub.execute_input": "2022-11-06T12:17:02.523542Z",
     "iopub.status.busy": "2022-11-06T12:17:02.522934Z",
     "iopub.status.idle": "2022-11-06T12:17:02.540775Z",
     "shell.execute_reply": "2022-11-06T12:17:02.540185Z"
    },
    "papermill": {
     "duration": 0.056649,
     "end_time": "2022-11-06T12:17:02.540896",
     "exception": false,
     "start_time": "2022-11-06T12:17:02.484247",
     "status": "completed"
    },
    "tags": []
   },
   "outputs": [
    {
     "data": {
      "text/html": [
       "<div>\n",
       "<style scoped>\n",
       "    .dataframe tbody tr th:only-of-type {\n",
       "        vertical-align: middle;\n",
       "    }\n",
       "\n",
       "    .dataframe tbody tr th {\n",
       "        vertical-align: top;\n",
       "    }\n",
       "\n",
       "    .dataframe thead th {\n",
       "        text-align: right;\n",
       "    }\n",
       "</style>\n",
       "<table border=\"1\" class=\"dataframe\">\n",
       "  <thead>\n",
       "    <tr style=\"text-align: right;\">\n",
       "      <th></th>\n",
       "      <th>Country/Region</th>\n",
       "      <th>Cases</th>\n",
       "      <th>Deaths</th>\n",
       "      <th>PCases</th>\n",
       "      <th>PDeaths</th>\n",
       "      <th>Cases (+)</th>\n",
       "      <th>Deaths (+)</th>\n",
       "      <th>Fatality Rate</th>\n",
       "      <th>Continent</th>\n",
       "    </tr>\n",
       "  </thead>\n",
       "  <tbody>\n",
       "    <tr>\n",
       "      <th>0</th>\n",
       "      <td>US</td>\n",
       "      <td>97734261</td>\n",
       "      <td>1072582</td>\n",
       "      <td>97729653</td>\n",
       "      <td>1072561</td>\n",
       "      <td>4608</td>\n",
       "      <td>21</td>\n",
       "      <td>1.1</td>\n",
       "      <td>North America</td>\n",
       "    </tr>\n",
       "    <tr>\n",
       "      <th>1</th>\n",
       "      <td>India</td>\n",
       "      <td>44660579</td>\n",
       "      <td>530500</td>\n",
       "      <td>44659447</td>\n",
       "      <td>530486</td>\n",
       "      <td>1132</td>\n",
       "      <td>14</td>\n",
       "      <td>1.2</td>\n",
       "      <td>Asia</td>\n",
       "    </tr>\n",
       "    <tr>\n",
       "      <th>2</th>\n",
       "      <td>France</td>\n",
       "      <td>37140238</td>\n",
       "      <td>158317</td>\n",
       "      <td>37140238</td>\n",
       "      <td>158317</td>\n",
       "      <td>0</td>\n",
       "      <td>0</td>\n",
       "      <td>0.4</td>\n",
       "      <td>Europe</td>\n",
       "    </tr>\n",
       "    <tr>\n",
       "      <th>3</th>\n",
       "      <td>Germany</td>\n",
       "      <td>35823771</td>\n",
       "      <td>154535</td>\n",
       "      <td>35823771</td>\n",
       "      <td>154535</td>\n",
       "      <td>0</td>\n",
       "      <td>0</td>\n",
       "      <td>0.4</td>\n",
       "      <td>Europe</td>\n",
       "    </tr>\n",
       "    <tr>\n",
       "      <th>4</th>\n",
       "      <td>Brazil</td>\n",
       "      <td>34849063</td>\n",
       "      <td>688332</td>\n",
       "      <td>34849063</td>\n",
       "      <td>688332</td>\n",
       "      <td>0</td>\n",
       "      <td>0</td>\n",
       "      <td>2.0</td>\n",
       "      <td>South America</td>\n",
       "    </tr>\n",
       "  </tbody>\n",
       "</table>\n",
       "</div>"
      ],
      "text/plain": [
       "  Country/Region     Cases   Deaths    PCases  PDeaths  Cases (+)  Deaths (+)  \\\n",
       "0             US  97734261  1072582  97729653  1072561       4608          21   \n",
       "1          India  44660579   530500  44659447   530486       1132          14   \n",
       "2         France  37140238   158317  37140238   158317          0           0   \n",
       "3        Germany  35823771   154535  35823771   154535          0           0   \n",
       "4         Brazil  34849063   688332  34849063   688332          0           0   \n",
       "\n",
       "   Fatality Rate      Continent  \n",
       "0            1.1  North America  \n",
       "1            1.2           Asia  \n",
       "2            0.4         Europe  \n",
       "3            0.4         Europe  \n",
       "4            2.0  South America  "
      ]
     },
     "execution_count": 15,
     "metadata": {},
     "output_type": "execute_result"
    }
   ],
   "source": [
    "#hide\n",
    "df_table = (pd.DataFrame(dict(Cases=dfc_cases, Deaths=dfc_deaths, PCases=dfp_cases, PDeaths=dfp_deaths))\n",
    "             .sort_values(by=['Cases', 'Deaths'], ascending=[False, False])\n",
    "             .reset_index())\n",
    "df_table.rename(columns={'index': 'Country/Region'}, inplace=True)\n",
    "for c in 'Cases, Deaths'.split(', '):\n",
    "    df_table[f'{c} (+)'] = (df_table[c] - df_table[f'P{c}']).clip(0)  # DATA BUG\n",
    "df_table['Fatality Rate'] = (100 * df_table['Deaths'] / df_table['Cases']).round(1)\n",
    "df_table['Continent'] = df_table['Country/Region'].map(mapping['map.continent'])\n",
    "df_table.head(5)"
   ]
  },
  {
   "cell_type": "code",
   "execution_count": 16,
   "id": "fewer-occasion",
   "metadata": {
    "execution": {
     "iopub.execute_input": "2022-11-06T12:17:02.607157Z",
     "iopub.status.busy": "2022-11-06T12:17:02.606576Z",
     "iopub.status.idle": "2022-11-06T12:17:02.609779Z",
     "shell.execute_reply": "2022-11-06T12:17:02.610253Z"
    },
    "papermill": {
     "duration": 0.038696,
     "end_time": "2022-11-06T12:17:02.610380",
     "exception": false,
     "start_time": "2022-11-06T12:17:02.571684",
     "status": "completed"
    },
    "tags": []
   },
   "outputs": [],
   "source": [
    "#hide\n",
    "#delete problematic countries from table\n",
    "df_table = df_table[~df_table['Country/Region'].isin(['Cape Verde', 'Cruise Ship', 'Kosovo'])]"
   ]
  },
  {
   "cell_type": "code",
   "execution_count": 17,
   "id": "related-center",
   "metadata": {
    "execution": {
     "iopub.execute_input": "2022-11-06T12:17:02.679364Z",
     "iopub.status.busy": "2022-11-06T12:17:02.678789Z",
     "iopub.status.idle": "2022-11-06T12:17:02.691196Z",
     "shell.execute_reply": "2022-11-06T12:17:02.690637Z"
    },
    "papermill": {
     "duration": 0.050623,
     "end_time": "2022-11-06T12:17:02.691303",
     "exception": false,
     "start_time": "2022-11-06T12:17:02.640680",
     "status": "completed"
    },
    "tags": []
   },
   "outputs": [],
   "source": [
    "#hide\n",
    "metrics = [df_table.columns[index] for index in [1,2,5,6]]\n",
    "# s_china = df_table[df_table['Country/Region'].eq('China')][metrics].sum().add_prefix('China ')\n",
    "s_us = df_table[df_table['Country/Region'].eq('US')][metrics].sum().add_prefix('US ')\n",
    "s_eu = df_table[df_table['Continent'].eq('Europe')][metrics].sum().add_prefix('EU ')\n",
    "s_ind = df_table[df_table['Country/Region'].eq('India')][metrics].sum().add_prefix('India ')\n",
    "summary = {'updated': pd.to_datetime(dt_today), 'since': pd.to_datetime(dt_yday)}\n",
    "summary = {'updated': pd.to_datetime(dt_today), 'since': pd.to_datetime(dt_yday)}\n",
    "summary = {**summary, **df_table[metrics].sum(), **s_ind, **s_us, **s_eu}"
   ]
  },
  {
   "cell_type": "code",
   "execution_count": 18,
   "id": "engaging-syndrome",
   "metadata": {
    "execution": {
     "iopub.execute_input": "2022-11-06T12:17:02.757896Z",
     "iopub.status.busy": "2022-11-06T12:17:02.757297Z",
     "iopub.status.idle": "2022-11-06T12:17:02.778545Z",
     "shell.execute_reply": "2022-11-06T12:17:02.777987Z"
    },
    "papermill": {
     "duration": 0.056885,
     "end_time": "2022-11-06T12:17:02.778678",
     "exception": false,
     "start_time": "2022-11-06T12:17:02.721793",
     "status": "completed"
    },
    "tags": []
   },
   "outputs": [],
   "source": [
    "#hide\n",
    "dft_ct_new_cases = dft_cases.groupby(COL_REGION)[dt_cols].sum().diff(axis=1).fillna(0).astype(int)"
   ]
  },
  {
   "cell_type": "code",
   "execution_count": 19,
   "id": "neutral-assignment",
   "metadata": {
    "execution": {
     "iopub.execute_input": "2022-11-06T12:17:02.847840Z",
     "iopub.status.busy": "2022-11-06T12:17:02.847270Z",
     "iopub.status.idle": "2022-11-06T12:17:02.849679Z",
     "shell.execute_reply": "2022-11-06T12:17:02.850227Z"
    },
    "papermill": {
     "duration": 0.040534,
     "end_time": "2022-11-06T12:17:02.850355",
     "exception": false,
     "start_time": "2022-11-06T12:17:02.809821",
     "status": "completed"
    },
    "tags": []
   },
   "outputs": [],
   "source": [
    "#hide\n",
    "everydaycases = dft_ct_new_cases.cumsum(axis=1)"
   ]
  },
  {
   "cell_type": "code",
   "execution_count": 20,
   "id": "parliamentary-calgary",
   "metadata": {
    "execution": {
     "iopub.execute_input": "2022-11-06T12:17:02.916750Z",
     "iopub.status.busy": "2022-11-06T12:17:02.916128Z",
     "iopub.status.idle": "2022-11-06T12:17:03.463031Z",
     "shell.execute_reply": "2022-11-06T12:17:03.462515Z"
    },
    "papermill": {
     "duration": 0.582207,
     "end_time": "2022-11-06T12:17:03.463161",
     "exception": false,
     "start_time": "2022-11-06T12:17:02.880954",
     "status": "completed"
    },
    "tags": []
   },
   "outputs": [],
   "source": [
    "#hide\n",
    "import pandas as pd\n",
    "import matplotlib.pyplot as plt\n",
    "import matplotlib.ticker as ticker\n",
    "import matplotlib.animation as animation\n",
    "from IPython.display import HTML"
   ]
  },
  {
   "cell_type": "code",
   "execution_count": 21,
   "id": "lasting-extraction",
   "metadata": {
    "execution": {
     "iopub.execute_input": "2022-11-06T12:17:03.531915Z",
     "iopub.status.busy": "2022-11-06T12:17:03.531327Z",
     "iopub.status.idle": "2022-11-06T12:17:03.539321Z",
     "shell.execute_reply": "2022-11-06T12:17:03.538755Z"
    },
    "papermill": {
     "duration": 0.045465,
     "end_time": "2022-11-06T12:17:03.539436",
     "exception": false,
     "start_time": "2022-11-06T12:17:03.493971",
     "status": "completed"
    },
    "tags": []
   },
   "outputs": [],
   "source": [
    "#hide\n",
    "t = everydaycases.stack()"
   ]
  },
  {
   "cell_type": "code",
   "execution_count": 22,
   "id": "premier-sleeve",
   "metadata": {
    "execution": {
     "iopub.execute_input": "2022-11-06T12:17:03.605115Z",
     "iopub.status.busy": "2022-11-06T12:17:03.604502Z",
     "iopub.status.idle": "2022-11-06T12:17:03.616542Z",
     "shell.execute_reply": "2022-11-06T12:17:03.617107Z"
    },
    "papermill": {
     "duration": 0.047105,
     "end_time": "2022-11-06T12:17:03.617232",
     "exception": false,
     "start_time": "2022-11-06T12:17:03.570127",
     "status": "completed"
    },
    "tags": []
   },
   "outputs": [],
   "source": [
    "#hide\n",
    "g = t.reset_index(['Country/Region'])"
   ]
  },
  {
   "cell_type": "code",
   "execution_count": 23,
   "id": "distributed-pittsburgh",
   "metadata": {
    "execution": {
     "iopub.execute_input": "2022-11-06T12:17:03.682611Z",
     "iopub.status.busy": "2022-11-06T12:17:03.682033Z",
     "iopub.status.idle": "2022-11-06T12:17:03.684392Z",
     "shell.execute_reply": "2022-11-06T12:17:03.684972Z"
    },
    "papermill": {
     "duration": 0.037582,
     "end_time": "2022-11-06T12:17:03.685103",
     "exception": false,
     "start_time": "2022-11-06T12:17:03.647521",
     "status": "completed"
    },
    "tags": []
   },
   "outputs": [],
   "source": [
    "#hide\n",
    "g.index.name = 'date'"
   ]
  },
  {
   "cell_type": "code",
   "execution_count": 24,
   "id": "naked-donor",
   "metadata": {
    "execution": {
     "iopub.execute_input": "2022-11-06T12:17:03.750144Z",
     "iopub.status.busy": "2022-11-06T12:17:03.749530Z",
     "iopub.status.idle": "2022-11-06T12:17:03.752190Z",
     "shell.execute_reply": "2022-11-06T12:17:03.751635Z"
    },
    "papermill": {
     "duration": 0.036488,
     "end_time": "2022-11-06T12:17:03.752299",
     "exception": false,
     "start_time": "2022-11-06T12:17:03.715811",
     "status": "completed"
    },
    "tags": []
   },
   "outputs": [],
   "source": [
    "# #hide\n",
    "# g = g.reset_index(['date'])"
   ]
  },
  {
   "cell_type": "code",
   "execution_count": 25,
   "id": "incomplete-mustang",
   "metadata": {
    "execution": {
     "iopub.execute_input": "2022-11-06T12:17:03.817234Z",
     "iopub.status.busy": "2022-11-06T12:17:03.816612Z",
     "iopub.status.idle": "2022-11-06T12:17:03.818827Z",
     "shell.execute_reply": "2022-11-06T12:17:03.819370Z"
    },
    "papermill": {
     "duration": 0.036728,
     "end_time": "2022-11-06T12:17:03.819494",
     "exception": false,
     "start_time": "2022-11-06T12:17:03.782766",
     "status": "completed"
    },
    "tags": []
   },
   "outputs": [],
   "source": [
    "#hide\n",
    "# g.head()"
   ]
  },
  {
   "cell_type": "code",
   "execution_count": 26,
   "id": "specific-kruger",
   "metadata": {
    "execution": {
     "iopub.execute_input": "2022-11-06T12:17:03.884217Z",
     "iopub.status.busy": "2022-11-06T12:17:03.883538Z",
     "iopub.status.idle": "2022-11-06T12:17:03.886083Z",
     "shell.execute_reply": "2022-11-06T12:17:03.885433Z"
    },
    "papermill": {
     "duration": 0.036341,
     "end_time": "2022-11-06T12:17:03.886207",
     "exception": false,
     "start_time": "2022-11-06T12:17:03.849866",
     "status": "completed"
    },
    "tags": []
   },
   "outputs": [],
   "source": [
    "#hide\n",
    "# g.columns = ['date','country','cases']"
   ]
  },
  {
   "cell_type": "code",
   "execution_count": 27,
   "id": "tender-conversion",
   "metadata": {
    "execution": {
     "iopub.execute_input": "2022-11-06T12:17:03.951063Z",
     "iopub.status.busy": "2022-11-06T12:17:03.950414Z",
     "iopub.status.idle": "2022-11-06T12:17:03.952937Z",
     "shell.execute_reply": "2022-11-06T12:17:03.952440Z"
    },
    "papermill": {
     "duration": 0.03587,
     "end_time": "2022-11-06T12:17:03.953040",
     "exception": false,
     "start_time": "2022-11-06T12:17:03.917170",
     "status": "completed"
    },
    "tags": []
   },
   "outputs": [],
   "source": [
    "#hide\n",
    "# g['continent'] = g.country"
   ]
  },
  {
   "cell_type": "code",
   "execution_count": 28,
   "id": "substantial-wilderness",
   "metadata": {
    "execution": {
     "iopub.execute_input": "2022-11-06T12:17:04.017730Z",
     "iopub.status.busy": "2022-11-06T12:17:04.017163Z",
     "iopub.status.idle": "2022-11-06T12:17:04.019363Z",
     "shell.execute_reply": "2022-11-06T12:17:04.019909Z"
    },
    "papermill": {
     "duration": 0.036641,
     "end_time": "2022-11-06T12:17:04.020025",
     "exception": false,
     "start_time": "2022-11-06T12:17:03.983384",
     "status": "completed"
    },
    "tags": []
   },
   "outputs": [],
   "source": [
    "#hide\n",
    "# cols = list(g.columns.values)"
   ]
  },
  {
   "cell_type": "code",
   "execution_count": 29,
   "id": "solved-farming",
   "metadata": {
    "execution": {
     "iopub.execute_input": "2022-11-06T12:17:04.085497Z",
     "iopub.status.busy": "2022-11-06T12:17:04.084859Z",
     "iopub.status.idle": "2022-11-06T12:17:04.088253Z",
     "shell.execute_reply": "2022-11-06T12:17:04.087779Z"
    },
    "papermill": {
     "duration": 0.038024,
     "end_time": "2022-11-06T12:17:04.088366",
     "exception": false,
     "start_time": "2022-11-06T12:17:04.050342",
     "status": "completed"
    },
    "tags": []
   },
   "outputs": [],
   "source": [
    "#hide\n",
    "# cols.insert(0, cols.pop())"
   ]
  },
  {
   "cell_type": "code",
   "execution_count": 30,
   "id": "executed-adoption",
   "metadata": {
    "execution": {
     "iopub.execute_input": "2022-11-06T12:17:04.154584Z",
     "iopub.status.busy": "2022-11-06T12:17:04.153858Z",
     "iopub.status.idle": "2022-11-06T12:17:04.155634Z",
     "shell.execute_reply": "2022-11-06T12:17:04.156132Z"
    },
    "papermill": {
     "duration": 0.036955,
     "end_time": "2022-11-06T12:17:04.156272",
     "exception": false,
     "start_time": "2022-11-06T12:17:04.119317",
     "status": "completed"
    },
    "tags": []
   },
   "outputs": [],
   "source": [
    "#hide\n",
    "# g = g[cols]"
   ]
  },
  {
   "cell_type": "code",
   "execution_count": 31,
   "id": "subject-dublin",
   "metadata": {
    "execution": {
     "iopub.execute_input": "2022-11-06T12:17:04.223924Z",
     "iopub.status.busy": "2022-11-06T12:17:04.223222Z",
     "iopub.status.idle": "2022-11-06T12:17:04.225005Z",
     "shell.execute_reply": "2022-11-06T12:17:04.225548Z"
    },
    "papermill": {
     "duration": 0.037241,
     "end_time": "2022-11-06T12:17:04.225698",
     "exception": false,
     "start_time": "2022-11-06T12:17:04.188457",
     "status": "completed"
    },
    "tags": []
   },
   "outputs": [],
   "source": [
    "#hide\n",
    "# g['continent'] = g['continent'].map(mapping['map.continent'])"
   ]
  },
  {
   "cell_type": "code",
   "execution_count": 32,
   "id": "freelance-scout",
   "metadata": {
    "execution": {
     "iopub.execute_input": "2022-11-06T12:17:04.291266Z",
     "iopub.status.busy": "2022-11-06T12:17:04.290661Z",
     "iopub.status.idle": "2022-11-06T12:17:04.293149Z",
     "shell.execute_reply": "2022-11-06T12:17:04.292654Z"
    },
    "papermill": {
     "duration": 0.036499,
     "end_time": "2022-11-06T12:17:04.293257",
     "exception": false,
     "start_time": "2022-11-06T12:17:04.256758",
     "status": "completed"
    },
    "tags": []
   },
   "outputs": [],
   "source": [
    "#hide\n",
    "# g.head()"
   ]
  },
  {
   "cell_type": "code",
   "execution_count": 33,
   "id": "limited-engine",
   "metadata": {
    "execution": {
     "iopub.execute_input": "2022-11-06T12:17:04.358622Z",
     "iopub.status.busy": "2022-11-06T12:17:04.357922Z",
     "iopub.status.idle": "2022-11-06T12:17:04.361765Z",
     "shell.execute_reply": "2022-11-06T12:17:04.362188Z"
    },
    "papermill": {
     "duration": 0.038619,
     "end_time": "2022-11-06T12:17:04.362319",
     "exception": false,
     "start_time": "2022-11-06T12:17:04.323700",
     "status": "completed"
    },
    "tags": []
   },
   "outputs": [],
   "source": [
    "# hide\n",
    "# g['date'] = g['date'].astype('datetime64[ns]')"
   ]
  },
  {
   "cell_type": "code",
   "execution_count": 34,
   "id": "sophisticated-supervisor",
   "metadata": {
    "execution": {
     "iopub.execute_input": "2022-11-06T12:17:04.427837Z",
     "iopub.status.busy": "2022-11-06T12:17:04.427157Z",
     "iopub.status.idle": "2022-11-06T12:17:04.429653Z",
     "shell.execute_reply": "2022-11-06T12:17:04.429007Z"
    },
    "papermill": {
     "duration": 0.036796,
     "end_time": "2022-11-06T12:17:04.429775",
     "exception": false,
     "start_time": "2022-11-06T12:17:04.392979",
     "status": "completed"
    },
    "tags": []
   },
   "outputs": [],
   "source": [
    "#hide\n",
    "# g['date'] = g.date.dt.dayofyear"
   ]
  },
  {
   "cell_type": "code",
   "execution_count": 35,
   "id": "inside-dubai",
   "metadata": {
    "execution": {
     "iopub.execute_input": "2022-11-06T12:17:04.494722Z",
     "iopub.status.busy": "2022-11-06T12:17:04.494138Z",
     "iopub.status.idle": "2022-11-06T12:17:04.496729Z",
     "shell.execute_reply": "2022-11-06T12:17:04.496144Z"
    },
    "papermill": {
     "duration": 0.036332,
     "end_time": "2022-11-06T12:17:04.496840",
     "exception": false,
     "start_time": "2022-11-06T12:17:04.460508",
     "status": "completed"
    },
    "tags": []
   },
   "outputs": [],
   "source": [
    "#hide\n",
    "# g = g.rename(columns= {'continent':'group','country':'name','cases':'value'})"
   ]
  },
  {
   "cell_type": "code",
   "execution_count": 36,
   "id": "fleet-motorcycle",
   "metadata": {
    "execution": {
     "iopub.execute_input": "2022-11-06T12:17:04.562124Z",
     "iopub.status.busy": "2022-11-06T12:17:04.561444Z",
     "iopub.status.idle": "2022-11-06T12:17:04.563923Z",
     "shell.execute_reply": "2022-11-06T12:17:04.563283Z"
    },
    "papermill": {
     "duration": 0.036697,
     "end_time": "2022-11-06T12:17:04.564046",
     "exception": false,
     "start_time": "2022-11-06T12:17:04.527349",
     "status": "completed"
    },
    "tags": []
   },
   "outputs": [],
   "source": [
    "#hide\n",
    "# cols = ['name','group','day','value']"
   ]
  },
  {
   "cell_type": "code",
   "execution_count": 37,
   "id": "continued-sleeping",
   "metadata": {
    "execution": {
     "iopub.execute_input": "2022-11-06T12:17:04.630580Z",
     "iopub.status.busy": "2022-11-06T12:17:04.629882Z",
     "iopub.status.idle": "2022-11-06T12:17:04.634039Z",
     "shell.execute_reply": "2022-11-06T12:17:04.633567Z"
    },
    "papermill": {
     "duration": 0.03897,
     "end_time": "2022-11-06T12:17:04.634152",
     "exception": false,
     "start_time": "2022-11-06T12:17:04.595182",
     "status": "completed"
    },
    "tags": []
   },
   "outputs": [],
   "source": [
    "#hide\n",
    "# g.rename(columns= {'date':'day'},inplace = True)"
   ]
  },
  {
   "cell_type": "code",
   "execution_count": 38,
   "id": "major-fight",
   "metadata": {
    "execution": {
     "iopub.execute_input": "2022-11-06T12:17:04.699641Z",
     "iopub.status.busy": "2022-11-06T12:17:04.699049Z",
     "iopub.status.idle": "2022-11-06T12:17:04.701297Z",
     "shell.execute_reply": "2022-11-06T12:17:04.701850Z"
    },
    "papermill": {
     "duration": 0.037076,
     "end_time": "2022-11-06T12:17:04.701983",
     "exception": false,
     "start_time": "2022-11-06T12:17:04.664907",
     "status": "completed"
    },
    "tags": []
   },
   "outputs": [],
   "source": [
    "#hide\n",
    "# g = g[cols]"
   ]
  },
  {
   "cell_type": "code",
   "execution_count": 39,
   "id": "structured-mobile",
   "metadata": {
    "execution": {
     "iopub.execute_input": "2022-11-06T12:17:04.766877Z",
     "iopub.status.busy": "2022-11-06T12:17:04.766293Z",
     "iopub.status.idle": "2022-11-06T12:17:04.769330Z",
     "shell.execute_reply": "2022-11-06T12:17:04.769773Z"
    },
    "papermill": {
     "duration": 0.037407,
     "end_time": "2022-11-06T12:17:04.769900",
     "exception": false,
     "start_time": "2022-11-06T12:17:04.732493",
     "status": "completed"
    },
    "tags": []
   },
   "outputs": [],
   "source": [
    "# #hide\n",
    "# g = g[g.group.notna()]"
   ]
  },
  {
   "cell_type": "code",
   "execution_count": 40,
   "id": "determined-closing",
   "metadata": {
    "execution": {
     "iopub.execute_input": "2022-11-06T12:17:04.836294Z",
     "iopub.status.busy": "2022-11-06T12:17:04.835579Z",
     "iopub.status.idle": "2022-11-06T12:17:04.839436Z",
     "shell.execute_reply": "2022-11-06T12:17:04.839858Z"
    },
    "papermill": {
     "duration": 0.039161,
     "end_time": "2022-11-06T12:17:04.840000",
     "exception": false,
     "start_time": "2022-11-06T12:17:04.800839",
     "status": "completed"
    },
    "tags": []
   },
   "outputs": [],
   "source": [
    "# #hide\n",
    "# colors = dict(zip(\n",
    "#     [\"Oceania\", \"Europe\", \"Asia\", \"South America\", \"Middle East\", \"North America\", \"Africa\"],\n",
    "#     [\"#adb0ff\", \"#ffb3ff\", \"#90d595\", \"#e48381\", \"#aafbff\", \"#f7bb5f\", \"#eafb50\"]\n",
    "# ))\n",
    "# group_lk = g.set_index('name')['group'].to_dict()"
   ]
  },
  {
   "cell_type": "code",
   "execution_count": null,
   "id": "gross-drinking",
   "metadata": {
    "papermill": {
     "duration": 0.03065,
     "end_time": "2022-11-06T12:17:04.901227",
     "exception": false,
     "start_time": "2022-11-06T12:17:04.870577",
     "status": "completed"
    },
    "tags": []
   },
   "outputs": [],
   "source": []
  },
  {
   "cell_type": "code",
   "execution_count": 41,
   "id": "subject-macintosh",
   "metadata": {
    "execution": {
     "iopub.execute_input": "2022-11-06T12:17:04.967259Z",
     "iopub.status.busy": "2022-11-06T12:17:04.966647Z",
     "iopub.status.idle": "2022-11-06T12:17:04.969154Z",
     "shell.execute_reply": "2022-11-06T12:17:04.969610Z"
    },
    "papermill": {
     "duration": 0.037856,
     "end_time": "2022-11-06T12:17:04.969744",
     "exception": false,
     "start_time": "2022-11-06T12:17:04.931888",
     "status": "completed"
    },
    "tags": []
   },
   "outputs": [],
   "source": [
    "# #hide\n",
    "# fig, ax = plt.subplots(figsize=(15, 8))\n",
    "\n",
    "# def draw_barchart(current_day):\n",
    "#     dff = g[g['day'].eq(current_day)].sort_values(by='value', ascending=True).tail(10)\n",
    "#     ax.clear()\n",
    "#     ax.barh(dff['name'], dff['value'], color=[colors[group_lk[x]] for x in dff['name']])\n",
    "#     dx = dff['value'].max() / 200\n",
    "    \n",
    "#     for i, (value, name) in enumerate(zip(dff['value'], dff['name'])):\n",
    "#         ax.text(value-dx, i,     name,           size=14, weight=600, ha='right', va='bottom')\n",
    "#         ax.text(value-dx, i-.25, group_lk[name], size=10, color='#444444', ha='right', va='baseline')\n",
    "#         ax.text(value+dx, i,     f'{value:,.0f}',  size=14, ha='left',  va='center')\n",
    "#     ax.text(1, 0.4, current_day, transform=ax.transAxes, color='#777777', size=46, ha='right', weight=800)\n",
    "#     ax.text(0, 1.06, 'Population (thousands)', transform=ax.transAxes, size=12, color='#777777')\n",
    "#     ax.xaxis.set_major_formatter(ticker.StrMethodFormatter('{x:,.0f}'))\n",
    "#     ax.xaxis.set_ticks_position('top')\n",
    "#     ax.tick_params(axis='x', colors='#777777', labelsize=12)\n",
    "#     ax.set_yticks([])\n",
    "#     ax.margins(0, 0.01)\n",
    "#     ax.grid(which='major', axis='x', linestyle='-')\n",
    "#     ax.set_axisbelow(True)\n",
    "    \n",
    "#     ax.text(0, 1.15, 'Coronavirus',\n",
    "#             transform=ax.transAxes, size=24, weight=600, ha='left', va='top')\n",
    "# #     ax.text(1, 0, 'by @pratapvardhan; credit @jburnmurdoch', transform=ax.transAxes, color='#777777', ha='right',\n",
    "# #             bbox=dict(facecolor='white', alpha=0.8, edgecolor='white'))\n",
    "#     plt.box(False)"
   ]
  },
  {
   "cell_type": "code",
   "execution_count": 42,
   "id": "sexual-wages",
   "metadata": {
    "execution": {
     "iopub.execute_input": "2022-11-06T12:17:05.036192Z",
     "iopub.status.busy": "2022-11-06T12:17:05.035507Z",
     "iopub.status.idle": "2022-11-06T12:17:05.038099Z",
     "shell.execute_reply": "2022-11-06T12:17:05.037564Z"
    },
    "papermill": {
     "duration": 0.037789,
     "end_time": "2022-11-06T12:17:05.038227",
     "exception": false,
     "start_time": "2022-11-06T12:17:05.000438",
     "status": "completed"
    },
    "tags": []
   },
   "outputs": [],
   "source": [
    "# #hide_input\n",
    "# fig, ax = plt.subplots(figsize=(15, 8))\n",
    "# animator = animation.FuncAnimation(fig, draw_barchart, frames=range(g.day.values.min(), g.day.values.max()))\n",
    "# HTML(animator.to_jshtml())\n",
    "# # or use animator.to_html5_video() or animator.save() "
   ]
  },
  {
   "cell_type": "code",
   "execution_count": null,
   "id": "australian-container",
   "metadata": {
    "papermill": {
     "duration": 0.030494,
     "end_time": "2022-11-06T12:17:05.099861",
     "exception": false,
     "start_time": "2022-11-06T12:17:05.069367",
     "status": "completed"
    },
    "tags": []
   },
   "outputs": [],
   "source": []
  },
  {
   "cell_type": "code",
   "execution_count": null,
   "id": "mediterranean-pontiac",
   "metadata": {
    "papermill": {
     "duration": 0.030792,
     "end_time": "2022-11-06T12:17:05.161330",
     "exception": false,
     "start_time": "2022-11-06T12:17:05.130538",
     "status": "completed"
    },
    "tags": []
   },
   "outputs": [],
   "source": []
  },
  {
   "cell_type": "code",
   "execution_count": null,
   "id": "aging-legislature",
   "metadata": {
    "papermill": {
     "duration": 0.030504,
     "end_time": "2022-11-06T12:17:05.222747",
     "exception": false,
     "start_time": "2022-11-06T12:17:05.192243",
     "status": "completed"
    },
    "tags": []
   },
   "outputs": [],
   "source": []
  }
 ],
 "metadata": {
  "kernelspec": {
   "display_name": "Python 3",
   "language": "python",
   "name": "python3"
  },
  "language_info": {
   "codemirror_mode": {
    "name": "ipython",
    "version": 3
   },
   "file_extension": ".py",
   "mimetype": "text/x-python",
   "name": "python",
   "nbconvert_exporter": "python",
   "pygments_lexer": "ipython3",
   "version": "3.6.15"
  },
  "papermill": {
   "duration": 5.955641,
   "end_time": "2022-11-06T12:17:05.673031",
   "environment_variables": {},
   "exception": null,
   "input_path": "2020-03-21-covid19exp.ipynb",
   "output_path": "2020-03-21-covid19exp.ipynb",
   "parameters": {},
   "start_time": "2022-11-06T12:16:59.717390",
   "version": "2.0.0"
  }
 },
 "nbformat": 4,
 "nbformat_minor": 5
}