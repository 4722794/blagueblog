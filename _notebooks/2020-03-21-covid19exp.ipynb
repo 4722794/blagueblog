{
 "cells": [
  {
   "cell_type": "markdown",
   "id": "muslim-click",
   "metadata": {
    "papermill": {
     "duration": 0.037667,
     "end_time": "2022-06-12T00:41:37.056959",
     "exception": false,
     "start_time": "2022-06-12T00:41:37.019292",
     "status": "completed"
    },
    "tags": []
   },
   "source": [
    "# COVID-19 Case Race\n",
    "> A race chart to see rising cases around the world\n",
    "\n",
    "- author: Hargun Oberoi\n",
    "- image: images/covid-overview.png\n",
    "- hide: false\n",
    "- badges: false"
   ]
  },
  {
   "cell_type": "code",
   "execution_count": 1,
   "id": "proof-material",
   "metadata": {
    "execution": {
     "iopub.execute_input": "2022-06-12T00:41:37.139371Z",
     "iopub.status.busy": "2022-06-12T00:41:37.138635Z",
     "iopub.status.idle": "2022-06-12T00:41:37.525104Z",
     "shell.execute_reply": "2022-06-12T00:41:37.523117Z"
    },
    "papermill": {
     "duration": 0.434113,
     "end_time": "2022-06-12T00:41:37.525357",
     "exception": false,
     "start_time": "2022-06-12T00:41:37.091244",
     "status": "completed"
    },
    "tags": []
   },
   "outputs": [],
   "source": [
    "#hide\n",
    "import numpy as np\n",
    "import pandas as pd\n",
    "from jinja2 import Template\n",
    "from IPython.display import HTML"
   ]
  },
  {
   "cell_type": "code",
   "execution_count": 2,
   "id": "developed-terminology",
   "metadata": {
    "execution": {
     "iopub.execute_input": "2022-06-12T00:41:37.600565Z",
     "iopub.status.busy": "2022-06-12T00:41:37.599674Z",
     "iopub.status.idle": "2022-06-12T00:41:37.602458Z",
     "shell.execute_reply": "2022-06-12T00:41:37.601785Z"
    },
    "papermill": {
     "duration": 0.043265,
     "end_time": "2022-06-12T00:41:37.602581",
     "exception": false,
     "start_time": "2022-06-12T00:41:37.559316",
     "status": "completed"
    },
    "tags": []
   },
   "outputs": [],
   "source": [
    "#hide\n",
    "\n",
    "# FETCH\n",
    "base_url = 'https://raw.githubusercontent.com/pratapvardhan/notebooks/master/covid19/'\n",
    "paths = {\n",
    "    'mapping': base_url + 'mapping_countries.csv',\n",
    "    'overview': base_url + 'overview.tpl'\n",
    "}"
   ]
  },
  {
   "cell_type": "code",
   "execution_count": 3,
   "id": "dynamic-saver",
   "metadata": {
    "execution": {
     "iopub.execute_input": "2022-06-12T00:41:37.687375Z",
     "iopub.status.busy": "2022-06-12T00:41:37.686659Z",
     "iopub.status.idle": "2022-06-12T00:41:37.691579Z",
     "shell.execute_reply": "2022-06-12T00:41:37.690807Z"
    },
    "papermill": {
     "duration": 0.055685,
     "end_time": "2022-06-12T00:41:37.691712",
     "exception": false,
     "start_time": "2022-06-12T00:41:37.636027",
     "status": "completed"
    },
    "tags": []
   },
   "outputs": [
    {
     "data": {
      "text/plain": [
       "'https://raw.githubusercontent.com/pratapvardhan/notebooks/master/covid19/mapping_countries.csv'"
      ]
     },
     "execution_count": 3,
     "metadata": {},
     "output_type": "execute_result"
    }
   ],
   "source": [
    "#hide\n",
    "paths['mapping']"
   ]
  },
  {
   "cell_type": "code",
   "execution_count": 4,
   "id": "urban-software",
   "metadata": {
    "execution": {
     "iopub.execute_input": "2022-06-12T00:41:37.767671Z",
     "iopub.status.busy": "2022-06-12T00:41:37.767023Z",
     "iopub.status.idle": "2022-06-12T00:41:37.771977Z",
     "shell.execute_reply": "2022-06-12T00:41:37.771470Z"
    },
    "papermill": {
     "duration": 0.046943,
     "end_time": "2022-06-12T00:41:37.772095",
     "exception": false,
     "start_time": "2022-06-12T00:41:37.725152",
     "status": "completed"
    },
    "tags": []
   },
   "outputs": [],
   "source": [
    "#hide\n",
    "def get_mappings(url):\n",
    "    df = pd.read_csv(url)\n",
    "    return {\n",
    "        'df': df,\n",
    "        'replace.country': dict(df.dropna(subset=['Name']).set_index('Country')['Name']),\n",
    "        'map.continent': dict(df.set_index('Name')['Continent'])\n",
    "    }"
   ]
  },
  {
   "cell_type": "code",
   "execution_count": 5,
   "id": "intimate-machinery",
   "metadata": {
    "execution": {
     "iopub.execute_input": "2022-06-12T00:41:37.838994Z",
     "iopub.status.busy": "2022-06-12T00:41:37.838364Z",
     "iopub.status.idle": "2022-06-12T00:41:37.898296Z",
     "shell.execute_reply": "2022-06-12T00:41:37.897259Z"
    },
    "papermill": {
     "duration": 0.095906,
     "end_time": "2022-06-12T00:41:37.898500",
     "exception": false,
     "start_time": "2022-06-12T00:41:37.802594",
     "status": "completed"
    },
    "tags": []
   },
   "outputs": [],
   "source": [
    "#hide\n",
    "mapping = get_mappings(paths['mapping'])"
   ]
  },
  {
   "cell_type": "code",
   "execution_count": 6,
   "id": "certified-tactics",
   "metadata": {
    "execution": {
     "iopub.execute_input": "2022-06-12T00:41:37.973118Z",
     "iopub.status.busy": "2022-06-12T00:41:37.972432Z",
     "iopub.status.idle": "2022-06-12T00:41:37.973862Z",
     "shell.execute_reply": "2022-06-12T00:41:37.974478Z"
    },
    "papermill": {
     "duration": 0.04432,
     "end_time": "2022-06-12T00:41:37.974612",
     "exception": false,
     "start_time": "2022-06-12T00:41:37.930292",
     "status": "completed"
    },
    "tags": []
   },
   "outputs": [],
   "source": [
    "#hide\n",
    "def get_template(path):\n",
    "    from urllib.parse import urlparse\n",
    "    if bool(urlparse(path).netloc):\n",
    "        from urllib.request import urlopen\n",
    "        return urlopen(path).read().decode('utf8')\n",
    "    return open(path).read()"
   ]
  },
  {
   "cell_type": "code",
   "execution_count": 7,
   "id": "realistic-blast",
   "metadata": {
    "execution": {
     "iopub.execute_input": "2022-06-12T00:41:38.045639Z",
     "iopub.status.busy": "2022-06-12T00:41:38.045014Z",
     "iopub.status.idle": "2022-06-12T00:41:38.047509Z",
     "shell.execute_reply": "2022-06-12T00:41:38.048088Z"
    },
    "papermill": {
     "duration": 0.04148,
     "end_time": "2022-06-12T00:41:38.048223",
     "exception": false,
     "start_time": "2022-06-12T00:41:38.006743",
     "status": "completed"
    },
    "tags": []
   },
   "outputs": [],
   "source": [
    "#hide\n",
    "def get_frame(name):\n",
    "    url = (\n",
    "        'https://raw.githubusercontent.com/CSSEGISandData/COVID-19/master/csse_covid_19_data/'\n",
    "        f'csse_covid_19_time_series/time_series_covid19_{name}_global.csv')\n",
    "    df = pd.read_csv(url)\n",
    "    # rename countries\n",
    "    df['Country/Region'] = df['Country/Region'].replace(mapping['replace.country'])\n",
    "    return df"
   ]
  },
  {
   "cell_type": "code",
   "execution_count": 8,
   "id": "affiliated-characterization",
   "metadata": {
    "execution": {
     "iopub.execute_input": "2022-06-12T00:41:38.125110Z",
     "iopub.status.busy": "2022-06-12T00:41:38.124381Z",
     "iopub.status.idle": "2022-06-12T00:41:38.127112Z",
     "shell.execute_reply": "2022-06-12T00:41:38.126547Z"
    },
    "papermill": {
     "duration": 0.045911,
     "end_time": "2022-06-12T00:41:38.127230",
     "exception": false,
     "start_time": "2022-06-12T00:41:38.081319",
     "status": "completed"
    },
    "tags": []
   },
   "outputs": [],
   "source": [
    "#hide\n",
    "def get_dates(df):\n",
    "    dt_cols = df.columns[~df.columns.isin(['Province/State', 'Country/Region', 'Lat', 'Long'])]\n",
    "    LAST_DATE_I = -1\n",
    "    # sometimes last column may be empty, then go backwards\n",
    "    for i in range(-1, -len(dt_cols), -1):\n",
    "        if not df[dt_cols[i]].fillna(0).eq(0).all():\n",
    "            LAST_DATE_I = i\n",
    "            break\n",
    "    return LAST_DATE_I, dt_cols"
   ]
  },
  {
   "cell_type": "code",
   "execution_count": 9,
   "id": "recent-optimization",
   "metadata": {
    "execution": {
     "iopub.execute_input": "2022-06-12T00:41:38.203027Z",
     "iopub.status.busy": "2022-06-12T00:41:38.202005Z",
     "iopub.status.idle": "2022-06-12T00:41:38.740799Z",
     "shell.execute_reply": "2022-06-12T00:41:38.739290Z"
    },
    "papermill": {
     "duration": 0.57961,
     "end_time": "2022-06-12T00:41:38.740943",
     "exception": false,
     "start_time": "2022-06-12T00:41:38.161333",
     "status": "completed"
    },
    "tags": []
   },
   "outputs": [],
   "source": [
    "#hide\n",
    "COL_REGION = 'Country/Region'\n",
    "# Confirmed, Recovered, Deaths\n",
    "df = get_frame('confirmed')\n",
    "# dft_: timeseries, dfc_: today country agg\n",
    "dft_cases = df\n",
    "dft_deaths = get_frame('deaths')\n",
    "dft_recovered = get_frame('recovered')\n",
    "LAST_DATE_I, dt_cols = get_dates(df)"
   ]
  },
  {
   "cell_type": "code",
   "execution_count": 10,
   "id": "absolute-copper",
   "metadata": {
    "execution": {
     "iopub.execute_input": "2022-06-12T00:41:38.813352Z",
     "iopub.status.busy": "2022-06-12T00:41:38.812099Z",
     "iopub.status.idle": "2022-06-12T00:41:38.814378Z",
     "shell.execute_reply": "2022-06-12T00:41:38.814867Z"
    },
    "papermill": {
     "duration": 0.043194,
     "end_time": "2022-06-12T00:41:38.815001",
     "exception": false,
     "start_time": "2022-06-12T00:41:38.771807",
     "status": "completed"
    },
    "tags": []
   },
   "outputs": [],
   "source": [
    "#hide\n",
    "LAST_DATE_I, dt_cols = get_dates(df)\n",
    "dt_today =dt_cols[LAST_DATE_I]\n",
    "# dt_5day = dt_cols[LAST_DATE_I - 5]\n",
    "dt_yday = dt_cols[LAST_DATE_I - 1]"
   ]
  },
  {
   "cell_type": "code",
   "execution_count": 11,
   "id": "restricted-sheriff",
   "metadata": {
    "execution": {
     "iopub.execute_input": "2022-06-12T00:41:38.889605Z",
     "iopub.status.busy": "2022-06-12T00:41:38.888306Z",
     "iopub.status.idle": "2022-06-12T00:41:38.896027Z",
     "shell.execute_reply": "2022-06-12T00:41:38.896588Z"
    },
    "papermill": {
     "duration": 0.0491,
     "end_time": "2022-06-12T00:41:38.896746",
     "exception": false,
     "start_time": "2022-06-12T00:41:38.847646",
     "status": "completed"
    },
    "tags": []
   },
   "outputs": [],
   "source": [
    "#hide\n",
    "dfc_cases = dft_cases.groupby(COL_REGION)[dt_today].sum()\n",
    "dfc_deaths = dft_deaths.groupby(COL_REGION)[dt_today].sum()\n",
    "# dfp_cases = dft_cases.groupby(COL_REGION)[dt_5day].sum()\n",
    "# dfp_deaths = dft_deaths.groupby(COL_REGION)[dt_5day].sum()\n",
    "dfp_cases = dft_cases.groupby(COL_REGION)[dt_yday].sum()\n",
    "dfp_deaths = dft_deaths.groupby(COL_REGION)[dt_yday].sum()"
   ]
  },
  {
   "cell_type": "code",
   "execution_count": 12,
   "id": "deluxe-hepatitis",
   "metadata": {
    "execution": {
     "iopub.execute_input": "2022-06-12T00:41:38.971735Z",
     "iopub.status.busy": "2022-06-12T00:41:38.969135Z",
     "iopub.status.idle": "2022-06-12T00:41:38.974777Z",
     "shell.execute_reply": "2022-06-12T00:41:38.974280Z"
    },
    "papermill": {
     "duration": 0.044614,
     "end_time": "2022-06-12T00:41:38.974888",
     "exception": false,
     "start_time": "2022-06-12T00:41:38.930274",
     "status": "completed"
    },
    "tags": []
   },
   "outputs": [],
   "source": [
    "#hide\n",
    "df_table = (pd.DataFrame(dict(Cases = dfc_cases, Deaths = dfc_deaths, PCases = dfp_cases, PDeaths = dfp_deaths))\n",
    "            .sort_values(by = ['Cases','Deaths'], ascending = [False, False])\n",
    "            .reset_index())"
   ]
  },
  {
   "cell_type": "code",
   "execution_count": 13,
   "id": "educational-chancellor",
   "metadata": {
    "execution": {
     "iopub.execute_input": "2022-06-12T00:41:39.057057Z",
     "iopub.status.busy": "2022-06-12T00:41:39.056341Z",
     "iopub.status.idle": "2022-06-12T00:41:39.069422Z",
     "shell.execute_reply": "2022-06-12T00:41:39.068968Z"
    },
    "papermill": {
     "duration": 0.061697,
     "end_time": "2022-06-12T00:41:39.069526",
     "exception": false,
     "start_time": "2022-06-12T00:41:39.007829",
     "status": "completed"
    },
    "tags": []
   },
   "outputs": [
    {
     "data": {
      "text/html": [
       "<div>\n",
       "<style scoped>\n",
       "    .dataframe tbody tr th:only-of-type {\n",
       "        vertical-align: middle;\n",
       "    }\n",
       "\n",
       "    .dataframe tbody tr th {\n",
       "        vertical-align: top;\n",
       "    }\n",
       "\n",
       "    .dataframe thead th {\n",
       "        text-align: right;\n",
       "    }\n",
       "</style>\n",
       "<table border=\"1\" class=\"dataframe\">\n",
       "  <thead>\n",
       "    <tr style=\"text-align: right;\">\n",
       "      <th></th>\n",
       "      <th>Country/Region</th>\n",
       "      <th>Cases</th>\n",
       "      <th>Deaths</th>\n",
       "      <th>PCases</th>\n",
       "      <th>PDeaths</th>\n",
       "      <th>Cases (+)</th>\n",
       "      <th>Deaths (+)</th>\n",
       "      <th>Fatality Rate</th>\n",
       "      <th>Continent</th>\n",
       "    </tr>\n",
       "  </thead>\n",
       "  <tbody>\n",
       "    <tr>\n",
       "      <th>0</th>\n",
       "      <td>US</td>\n",
       "      <td>85468816</td>\n",
       "      <td>1011164</td>\n",
       "      <td>85329656</td>\n",
       "      <td>1010805</td>\n",
       "      <td>139160</td>\n",
       "      <td>359</td>\n",
       "      <td>1.18</td>\n",
       "      <td>North America</td>\n",
       "    </tr>\n",
       "    <tr>\n",
       "      <th>1</th>\n",
       "      <td>India</td>\n",
       "      <td>43213435</td>\n",
       "      <td>524757</td>\n",
       "      <td>43205106</td>\n",
       "      <td>524747</td>\n",
       "      <td>8329</td>\n",
       "      <td>10</td>\n",
       "      <td>1.21</td>\n",
       "      <td>Asia</td>\n",
       "    </tr>\n",
       "    <tr>\n",
       "      <th>2</th>\n",
       "      <td>Brazil</td>\n",
       "      <td>31417341</td>\n",
       "      <td>667960</td>\n",
       "      <td>31360850</td>\n",
       "      <td>667790</td>\n",
       "      <td>56491</td>\n",
       "      <td>170</td>\n",
       "      <td>2.13</td>\n",
       "      <td>South America</td>\n",
       "    </tr>\n",
       "    <tr>\n",
       "      <th>3</th>\n",
       "      <td>France</td>\n",
       "      <td>29946697</td>\n",
       "      <td>149749</td>\n",
       "      <td>29946603</td>\n",
       "      <td>149749</td>\n",
       "      <td>94</td>\n",
       "      <td>0</td>\n",
       "      <td>0.50</td>\n",
       "      <td>Europe</td>\n",
       "    </tr>\n",
       "    <tr>\n",
       "      <th>4</th>\n",
       "      <td>Germany</td>\n",
       "      <td>26803867</td>\n",
       "      <td>139806</td>\n",
       "      <td>26738530</td>\n",
       "      <td>139729</td>\n",
       "      <td>65337</td>\n",
       "      <td>77</td>\n",
       "      <td>0.52</td>\n",
       "      <td>Europe</td>\n",
       "    </tr>\n",
       "  </tbody>\n",
       "</table>\n",
       "</div>"
      ],
      "text/plain": [
       "  Country/Region     Cases   Deaths    PCases  PDeaths  Cases (+)  Deaths (+)  \\\n",
       "0             US  85468816  1011164  85329656  1010805     139160         359   \n",
       "1          India  43213435   524757  43205106   524747       8329          10   \n",
       "2         Brazil  31417341   667960  31360850   667790      56491         170   \n",
       "3         France  29946697   149749  29946603   149749         94           0   \n",
       "4        Germany  26803867   139806  26738530   139729      65337          77   \n",
       "\n",
       "   Fatality Rate      Continent  \n",
       "0           1.18  North America  \n",
       "1           1.21           Asia  \n",
       "2           2.13  South America  \n",
       "3           0.50         Europe  \n",
       "4           0.52         Europe  "
      ]
     },
     "execution_count": 13,
     "metadata": {},
     "output_type": "execute_result"
    }
   ],
   "source": [
    "#hide\n",
    "for c in 'Cases, Deaths'.split(', '):\n",
    "    df_table[f'{c} (+)'] = (df_table[c] - df_table[f'P{c}']).clip(0)\n",
    "    #Clip ça veut dire, les chiffres negatif sont interdit\n",
    "df_table['Fatality Rate'] = (100* df_table['Deaths']/ df_table['Cases']).round(2)\n",
    "df_table['Continent'] = df_table['Country/Region'].map(mapping['map.continent'])\n",
    "df_table.head(5)"
   ]
  },
  {
   "cell_type": "code",
   "execution_count": 14,
   "id": "aboriginal-bulgaria",
   "metadata": {
    "execution": {
     "iopub.execute_input": "2022-06-12T00:41:39.141347Z",
     "iopub.status.busy": "2022-06-12T00:41:39.140677Z",
     "iopub.status.idle": "2022-06-12T00:41:39.143281Z",
     "shell.execute_reply": "2022-06-12T00:41:39.143826Z"
    },
    "papermill": {
     "duration": 0.042,
     "end_time": "2022-06-12T00:41:39.143959",
     "exception": false,
     "start_time": "2022-06-12T00:41:39.101959",
     "status": "completed"
    },
    "tags": []
   },
   "outputs": [],
   "source": [
    "#hide\n",
    "#delete problematic countries from table\n",
    "df_table = df_table[~df_table['Country/Region'].isin(['Cape Verde', 'Cruise Ship', 'Kosovo'])]"
   ]
  },
  {
   "cell_type": "code",
   "execution_count": 15,
   "id": "fantastic-effect",
   "metadata": {
    "execution": {
     "iopub.execute_input": "2022-06-12T00:41:39.225059Z",
     "iopub.status.busy": "2022-06-12T00:41:39.224318Z",
     "iopub.status.idle": "2022-06-12T00:41:39.246977Z",
     "shell.execute_reply": "2022-06-12T00:41:39.246144Z"
    },
    "papermill": {
     "duration": 0.068281,
     "end_time": "2022-06-12T00:41:39.247145",
     "exception": false,
     "start_time": "2022-06-12T00:41:39.178864",
     "status": "completed"
    },
    "tags": []
   },
   "outputs": [
    {
     "data": {
      "text/html": [
       "<div>\n",
       "<style scoped>\n",
       "    .dataframe tbody tr th:only-of-type {\n",
       "        vertical-align: middle;\n",
       "    }\n",
       "\n",
       "    .dataframe tbody tr th {\n",
       "        vertical-align: top;\n",
       "    }\n",
       "\n",
       "    .dataframe thead th {\n",
       "        text-align: right;\n",
       "    }\n",
       "</style>\n",
       "<table border=\"1\" class=\"dataframe\">\n",
       "  <thead>\n",
       "    <tr style=\"text-align: right;\">\n",
       "      <th></th>\n",
       "      <th>Country/Region</th>\n",
       "      <th>Cases</th>\n",
       "      <th>Deaths</th>\n",
       "      <th>PCases</th>\n",
       "      <th>PDeaths</th>\n",
       "      <th>Cases (+)</th>\n",
       "      <th>Deaths (+)</th>\n",
       "      <th>Fatality Rate</th>\n",
       "      <th>Continent</th>\n",
       "    </tr>\n",
       "  </thead>\n",
       "  <tbody>\n",
       "    <tr>\n",
       "      <th>0</th>\n",
       "      <td>US</td>\n",
       "      <td>85468816</td>\n",
       "      <td>1011164</td>\n",
       "      <td>85329656</td>\n",
       "      <td>1010805</td>\n",
       "      <td>139160</td>\n",
       "      <td>359</td>\n",
       "      <td>1.2</td>\n",
       "      <td>North America</td>\n",
       "    </tr>\n",
       "    <tr>\n",
       "      <th>1</th>\n",
       "      <td>India</td>\n",
       "      <td>43213435</td>\n",
       "      <td>524757</td>\n",
       "      <td>43205106</td>\n",
       "      <td>524747</td>\n",
       "      <td>8329</td>\n",
       "      <td>10</td>\n",
       "      <td>1.2</td>\n",
       "      <td>Asia</td>\n",
       "    </tr>\n",
       "    <tr>\n",
       "      <th>2</th>\n",
       "      <td>Brazil</td>\n",
       "      <td>31417341</td>\n",
       "      <td>667960</td>\n",
       "      <td>31360850</td>\n",
       "      <td>667790</td>\n",
       "      <td>56491</td>\n",
       "      <td>170</td>\n",
       "      <td>2.1</td>\n",
       "      <td>South America</td>\n",
       "    </tr>\n",
       "    <tr>\n",
       "      <th>3</th>\n",
       "      <td>France</td>\n",
       "      <td>29946697</td>\n",
       "      <td>149749</td>\n",
       "      <td>29946603</td>\n",
       "      <td>149749</td>\n",
       "      <td>94</td>\n",
       "      <td>0</td>\n",
       "      <td>0.5</td>\n",
       "      <td>Europe</td>\n",
       "    </tr>\n",
       "    <tr>\n",
       "      <th>4</th>\n",
       "      <td>Germany</td>\n",
       "      <td>26803867</td>\n",
       "      <td>139806</td>\n",
       "      <td>26738530</td>\n",
       "      <td>139729</td>\n",
       "      <td>65337</td>\n",
       "      <td>77</td>\n",
       "      <td>0.5</td>\n",
       "      <td>Europe</td>\n",
       "    </tr>\n",
       "  </tbody>\n",
       "</table>\n",
       "</div>"
      ],
      "text/plain": [
       "  Country/Region     Cases   Deaths    PCases  PDeaths  Cases (+)  Deaths (+)  \\\n",
       "0             US  85468816  1011164  85329656  1010805     139160         359   \n",
       "1          India  43213435   524757  43205106   524747       8329          10   \n",
       "2         Brazil  31417341   667960  31360850   667790      56491         170   \n",
       "3         France  29946697   149749  29946603   149749         94           0   \n",
       "4        Germany  26803867   139806  26738530   139729      65337          77   \n",
       "\n",
       "   Fatality Rate      Continent  \n",
       "0            1.2  North America  \n",
       "1            1.2           Asia  \n",
       "2            2.1  South America  \n",
       "3            0.5         Europe  \n",
       "4            0.5         Europe  "
      ]
     },
     "execution_count": 15,
     "metadata": {},
     "output_type": "execute_result"
    }
   ],
   "source": [
    "#hide\n",
    "df_table = (pd.DataFrame(dict(Cases=dfc_cases, Deaths=dfc_deaths, PCases=dfp_cases, PDeaths=dfp_deaths))\n",
    "             .sort_values(by=['Cases', 'Deaths'], ascending=[False, False])\n",
    "             .reset_index())\n",
    "df_table.rename(columns={'index': 'Country/Region'}, inplace=True)\n",
    "for c in 'Cases, Deaths'.split(', '):\n",
    "    df_table[f'{c} (+)'] = (df_table[c] - df_table[f'P{c}']).clip(0)  # DATA BUG\n",
    "df_table['Fatality Rate'] = (100 * df_table['Deaths'] / df_table['Cases']).round(1)\n",
    "df_table['Continent'] = df_table['Country/Region'].map(mapping['map.continent'])\n",
    "df_table.head(5)"
   ]
  },
  {
   "cell_type": "code",
   "execution_count": 16,
   "id": "fewer-occasion",
   "metadata": {
    "execution": {
     "iopub.execute_input": "2022-06-12T00:41:39.323111Z",
     "iopub.status.busy": "2022-06-12T00:41:39.322448Z",
     "iopub.status.idle": "2022-06-12T00:41:39.324997Z",
     "shell.execute_reply": "2022-06-12T00:41:39.325510Z"
    },
    "papermill": {
     "duration": 0.043697,
     "end_time": "2022-06-12T00:41:39.325635",
     "exception": false,
     "start_time": "2022-06-12T00:41:39.281938",
     "status": "completed"
    },
    "tags": []
   },
   "outputs": [],
   "source": [
    "#hide\n",
    "#delete problematic countries from table\n",
    "df_table = df_table[~df_table['Country/Region'].isin(['Cape Verde', 'Cruise Ship', 'Kosovo'])]"
   ]
  },
  {
   "cell_type": "code",
   "execution_count": 17,
   "id": "related-center",
   "metadata": {
    "execution": {
     "iopub.execute_input": "2022-06-12T00:41:39.403603Z",
     "iopub.status.busy": "2022-06-12T00:41:39.402973Z",
     "iopub.status.idle": "2022-06-12T00:41:39.418544Z",
     "shell.execute_reply": "2022-06-12T00:41:39.417559Z"
    },
    "papermill": {
     "duration": 0.059644,
     "end_time": "2022-06-12T00:41:39.418670",
     "exception": false,
     "start_time": "2022-06-12T00:41:39.359026",
     "status": "completed"
    },
    "tags": []
   },
   "outputs": [],
   "source": [
    "#hide\n",
    "metrics = [df_table.columns[index] for index in [1,2,5,6]]\n",
    "# s_china = df_table[df_table['Country/Region'].eq('China')][metrics].sum().add_prefix('China ')\n",
    "s_us = df_table[df_table['Country/Region'].eq('US')][metrics].sum().add_prefix('US ')\n",
    "s_eu = df_table[df_table['Continent'].eq('Europe')][metrics].sum().add_prefix('EU ')\n",
    "s_ind = df_table[df_table['Country/Region'].eq('India')][metrics].sum().add_prefix('India ')\n",
    "summary = {'updated': pd.to_datetime(dt_today), 'since': pd.to_datetime(dt_yday)}\n",
    "summary = {'updated': pd.to_datetime(dt_today), 'since': pd.to_datetime(dt_yday)}\n",
    "summary = {**summary, **df_table[metrics].sum(), **s_ind, **s_us, **s_eu}"
   ]
  },
  {
   "cell_type": "code",
   "execution_count": 18,
   "id": "engaging-syndrome",
   "metadata": {
    "execution": {
     "iopub.execute_input": "2022-06-12T00:41:39.485057Z",
     "iopub.status.busy": "2022-06-12T00:41:39.484392Z",
     "iopub.status.idle": "2022-06-12T00:41:39.504471Z",
     "shell.execute_reply": "2022-06-12T00:41:39.503891Z"
    },
    "papermill": {
     "duration": 0.056511,
     "end_time": "2022-06-12T00:41:39.504595",
     "exception": false,
     "start_time": "2022-06-12T00:41:39.448084",
     "status": "completed"
    },
    "tags": []
   },
   "outputs": [],
   "source": [
    "#hide\n",
    "dft_ct_new_cases = dft_cases.groupby(COL_REGION)[dt_cols].sum().diff(axis=1).fillna(0).astype(int)"
   ]
  },
  {
   "cell_type": "code",
   "execution_count": 19,
   "id": "neutral-assignment",
   "metadata": {
    "execution": {
     "iopub.execute_input": "2022-06-12T00:41:39.578398Z",
     "iopub.status.busy": "2022-06-12T00:41:39.577757Z",
     "iopub.status.idle": "2022-06-12T00:41:39.579779Z",
     "shell.execute_reply": "2022-06-12T00:41:39.580261Z"
    },
    "papermill": {
     "duration": 0.04371,
     "end_time": "2022-06-12T00:41:39.580392",
     "exception": false,
     "start_time": "2022-06-12T00:41:39.536682",
     "status": "completed"
    },
    "tags": []
   },
   "outputs": [],
   "source": [
    "#hide\n",
    "everydaycases = dft_ct_new_cases.cumsum(axis=1)"
   ]
  },
  {
   "cell_type": "code",
   "execution_count": 20,
   "id": "parliamentary-calgary",
   "metadata": {
    "execution": {
     "iopub.execute_input": "2022-06-12T00:41:39.651098Z",
     "iopub.status.busy": "2022-06-12T00:41:39.650429Z",
     "iopub.status.idle": "2022-06-12T00:41:40.255614Z",
     "shell.execute_reply": "2022-06-12T00:41:40.254987Z"
    },
    "papermill": {
     "duration": 0.643822,
     "end_time": "2022-06-12T00:41:40.255758",
     "exception": false,
     "start_time": "2022-06-12T00:41:39.611936",
     "status": "completed"
    },
    "tags": []
   },
   "outputs": [],
   "source": [
    "#hide\n",
    "import pandas as pd\n",
    "import matplotlib.pyplot as plt\n",
    "import matplotlib.ticker as ticker\n",
    "import matplotlib.animation as animation\n",
    "from IPython.display import HTML"
   ]
  },
  {
   "cell_type": "code",
   "execution_count": 21,
   "id": "lasting-extraction",
   "metadata": {
    "execution": {
     "iopub.execute_input": "2022-06-12T00:41:40.325484Z",
     "iopub.status.busy": "2022-06-12T00:41:40.324837Z",
     "iopub.status.idle": "2022-06-12T00:41:40.331932Z",
     "shell.execute_reply": "2022-06-12T00:41:40.332616Z"
    },
    "papermill": {
     "duration": 0.045969,
     "end_time": "2022-06-12T00:41:40.332774",
     "exception": false,
     "start_time": "2022-06-12T00:41:40.286805",
     "status": "completed"
    },
    "tags": []
   },
   "outputs": [],
   "source": [
    "#hide\n",
    "t = everydaycases.stack()"
   ]
  },
  {
   "cell_type": "code",
   "execution_count": 22,
   "id": "premier-sleeve",
   "metadata": {
    "execution": {
     "iopub.execute_input": "2022-06-12T00:41:40.405276Z",
     "iopub.status.busy": "2022-06-12T00:41:40.404559Z",
     "iopub.status.idle": "2022-06-12T00:41:40.421129Z",
     "shell.execute_reply": "2022-06-12T00:41:40.420272Z"
    },
    "papermill": {
     "duration": 0.056357,
     "end_time": "2022-06-12T00:41:40.421308",
     "exception": false,
     "start_time": "2022-06-12T00:41:40.364951",
     "status": "completed"
    },
    "tags": []
   },
   "outputs": [],
   "source": [
    "#hide\n",
    "g = t.reset_index(['Country/Region'])"
   ]
  },
  {
   "cell_type": "code",
   "execution_count": 23,
   "id": "distributed-pittsburgh",
   "metadata": {
    "execution": {
     "iopub.execute_input": "2022-06-12T00:41:40.496906Z",
     "iopub.status.busy": "2022-06-12T00:41:40.495645Z",
     "iopub.status.idle": "2022-06-12T00:41:40.498307Z",
     "shell.execute_reply": "2022-06-12T00:41:40.498968Z"
    },
    "papermill": {
     "duration": 0.042829,
     "end_time": "2022-06-12T00:41:40.499115",
     "exception": false,
     "start_time": "2022-06-12T00:41:40.456286",
     "status": "completed"
    },
    "tags": []
   },
   "outputs": [],
   "source": [
    "#hide\n",
    "g.index.name = 'date'"
   ]
  },
  {
   "cell_type": "code",
   "execution_count": 24,
   "id": "naked-donor",
   "metadata": {
    "execution": {
     "iopub.execute_input": "2022-06-12T00:41:40.572973Z",
     "iopub.status.busy": "2022-06-12T00:41:40.572304Z",
     "iopub.status.idle": "2022-06-12T00:41:40.574848Z",
     "shell.execute_reply": "2022-06-12T00:41:40.575410Z"
    },
    "papermill": {
     "duration": 0.040937,
     "end_time": "2022-06-12T00:41:40.575544",
     "exception": false,
     "start_time": "2022-06-12T00:41:40.534607",
     "status": "completed"
    },
    "tags": []
   },
   "outputs": [],
   "source": [
    "# #hide\n",
    "# g = g.reset_index(['date'])"
   ]
  },
  {
   "cell_type": "code",
   "execution_count": 25,
   "id": "incomplete-mustang",
   "metadata": {
    "execution": {
     "iopub.execute_input": "2022-06-12T00:41:40.647585Z",
     "iopub.status.busy": "2022-06-12T00:41:40.646424Z",
     "iopub.status.idle": "2022-06-12T00:41:40.648929Z",
     "shell.execute_reply": "2022-06-12T00:41:40.649833Z"
    },
    "papermill": {
     "duration": 0.041055,
     "end_time": "2022-06-12T00:41:40.650030",
     "exception": false,
     "start_time": "2022-06-12T00:41:40.608975",
     "status": "completed"
    },
    "tags": []
   },
   "outputs": [],
   "source": [
    "#hide\n",
    "# g.head()"
   ]
  },
  {
   "cell_type": "code",
   "execution_count": 26,
   "id": "specific-kruger",
   "metadata": {
    "execution": {
     "iopub.execute_input": "2022-06-12T00:41:40.718347Z",
     "iopub.status.busy": "2022-06-12T00:41:40.717175Z",
     "iopub.status.idle": "2022-06-12T00:41:40.722592Z",
     "shell.execute_reply": "2022-06-12T00:41:40.722086Z"
    },
    "papermill": {
     "duration": 0.041245,
     "end_time": "2022-06-12T00:41:40.722710",
     "exception": false,
     "start_time": "2022-06-12T00:41:40.681465",
     "status": "completed"
    },
    "tags": []
   },
   "outputs": [],
   "source": [
    "#hide\n",
    "# g.columns = ['date','country','cases']"
   ]
  },
  {
   "cell_type": "code",
   "execution_count": 27,
   "id": "tender-conversion",
   "metadata": {
    "execution": {
     "iopub.execute_input": "2022-06-12T00:41:40.793778Z",
     "iopub.status.busy": "2022-06-12T00:41:40.793141Z",
     "iopub.status.idle": "2022-06-12T00:41:40.795730Z",
     "shell.execute_reply": "2022-06-12T00:41:40.795240Z"
    },
    "papermill": {
     "duration": 0.041685,
     "end_time": "2022-06-12T00:41:40.795839",
     "exception": false,
     "start_time": "2022-06-12T00:41:40.754154",
     "status": "completed"
    },
    "tags": []
   },
   "outputs": [],
   "source": [
    "#hide\n",
    "# g['continent'] = g.country"
   ]
  },
  {
   "cell_type": "code",
   "execution_count": 28,
   "id": "substantial-wilderness",
   "metadata": {
    "execution": {
     "iopub.execute_input": "2022-06-12T00:41:40.865357Z",
     "iopub.status.busy": "2022-06-12T00:41:40.864678Z",
     "iopub.status.idle": "2022-06-12T00:41:40.868844Z",
     "shell.execute_reply": "2022-06-12T00:41:40.868252Z"
    },
    "papermill": {
     "duration": 0.041255,
     "end_time": "2022-06-12T00:41:40.868961",
     "exception": false,
     "start_time": "2022-06-12T00:41:40.827706",
     "status": "completed"
    },
    "tags": []
   },
   "outputs": [],
   "source": [
    "#hide\n",
    "# cols = list(g.columns.values)"
   ]
  },
  {
   "cell_type": "code",
   "execution_count": 29,
   "id": "solved-farming",
   "metadata": {
    "execution": {
     "iopub.execute_input": "2022-06-12T00:41:40.942070Z",
     "iopub.status.busy": "2022-06-12T00:41:40.941152Z",
     "iopub.status.idle": "2022-06-12T00:41:40.946292Z",
     "shell.execute_reply": "2022-06-12T00:41:40.945751Z"
    },
    "papermill": {
     "duration": 0.043996,
     "end_time": "2022-06-12T00:41:40.946413",
     "exception": false,
     "start_time": "2022-06-12T00:41:40.902417",
     "status": "completed"
    },
    "tags": []
   },
   "outputs": [],
   "source": [
    "#hide\n",
    "# cols.insert(0, cols.pop())"
   ]
  },
  {
   "cell_type": "code",
   "execution_count": 30,
   "id": "executed-adoption",
   "metadata": {
    "execution": {
     "iopub.execute_input": "2022-06-12T00:41:41.016356Z",
     "iopub.status.busy": "2022-06-12T00:41:41.015693Z",
     "iopub.status.idle": "2022-06-12T00:41:41.019602Z",
     "shell.execute_reply": "2022-06-12T00:41:41.019088Z"
    },
    "papermill": {
     "duration": 0.039622,
     "end_time": "2022-06-12T00:41:41.019726",
     "exception": false,
     "start_time": "2022-06-12T00:41:40.980104",
     "status": "completed"
    },
    "tags": []
   },
   "outputs": [],
   "source": [
    "#hide\n",
    "# g = g[cols]"
   ]
  },
  {
   "cell_type": "code",
   "execution_count": 31,
   "id": "subject-dublin",
   "metadata": {
    "execution": {
     "iopub.execute_input": "2022-06-12T00:41:41.088640Z",
     "iopub.status.busy": "2022-06-12T00:41:41.087981Z",
     "iopub.status.idle": "2022-06-12T00:41:41.090207Z",
     "shell.execute_reply": "2022-06-12T00:41:41.090691Z"
    },
    "papermill": {
     "duration": 0.039209,
     "end_time": "2022-06-12T00:41:41.090818",
     "exception": false,
     "start_time": "2022-06-12T00:41:41.051609",
     "status": "completed"
    },
    "tags": []
   },
   "outputs": [],
   "source": [
    "#hide\n",
    "# g['continent'] = g['continent'].map(mapping['map.continent'])"
   ]
  },
  {
   "cell_type": "code",
   "execution_count": 32,
   "id": "freelance-scout",
   "metadata": {
    "execution": {
     "iopub.execute_input": "2022-06-12T00:41:41.164025Z",
     "iopub.status.busy": "2022-06-12T00:41:41.162839Z",
     "iopub.status.idle": "2022-06-12T00:41:41.165371Z",
     "shell.execute_reply": "2022-06-12T00:41:41.166281Z"
    },
    "papermill": {
     "duration": 0.042365,
     "end_time": "2022-06-12T00:41:41.166504",
     "exception": false,
     "start_time": "2022-06-12T00:41:41.124139",
     "status": "completed"
    },
    "tags": []
   },
   "outputs": [],
   "source": [
    "#hide\n",
    "# g.head()"
   ]
  },
  {
   "cell_type": "code",
   "execution_count": 33,
   "id": "limited-engine",
   "metadata": {
    "execution": {
     "iopub.execute_input": "2022-06-12T00:41:41.239573Z",
     "iopub.status.busy": "2022-06-12T00:41:41.238881Z",
     "iopub.status.idle": "2022-06-12T00:41:41.241745Z",
     "shell.execute_reply": "2022-06-12T00:41:41.241214Z"
    },
    "papermill": {
     "duration": 0.041703,
     "end_time": "2022-06-12T00:41:41.241858",
     "exception": false,
     "start_time": "2022-06-12T00:41:41.200155",
     "status": "completed"
    },
    "tags": []
   },
   "outputs": [],
   "source": [
    "# hide\n",
    "# g['date'] = g['date'].astype('datetime64[ns]')"
   ]
  },
  {
   "cell_type": "code",
   "execution_count": 34,
   "id": "sophisticated-supervisor",
   "metadata": {
    "execution": {
     "iopub.execute_input": "2022-06-12T00:41:41.319325Z",
     "iopub.status.busy": "2022-06-12T00:41:41.318221Z",
     "iopub.status.idle": "2022-06-12T00:41:41.323954Z",
     "shell.execute_reply": "2022-06-12T00:41:41.324506Z"
    },
    "papermill": {
     "duration": 0.046002,
     "end_time": "2022-06-12T00:41:41.324657",
     "exception": false,
     "start_time": "2022-06-12T00:41:41.278655",
     "status": "completed"
    },
    "tags": []
   },
   "outputs": [],
   "source": [
    "#hide\n",
    "# g['date'] = g.date.dt.dayofyear"
   ]
  },
  {
   "cell_type": "code",
   "execution_count": 35,
   "id": "inside-dubai",
   "metadata": {
    "execution": {
     "iopub.execute_input": "2022-06-12T00:41:41.398054Z",
     "iopub.status.busy": "2022-06-12T00:41:41.396876Z",
     "iopub.status.idle": "2022-06-12T00:41:41.399334Z",
     "shell.execute_reply": "2022-06-12T00:41:41.400207Z"
    },
    "papermill": {
     "duration": 0.041403,
     "end_time": "2022-06-12T00:41:41.400345",
     "exception": false,
     "start_time": "2022-06-12T00:41:41.358942",
     "status": "completed"
    },
    "tags": []
   },
   "outputs": [],
   "source": [
    "#hide\n",
    "# g = g.rename(columns= {'continent':'group','country':'name','cases':'value'})"
   ]
  },
  {
   "cell_type": "code",
   "execution_count": 36,
   "id": "fleet-motorcycle",
   "metadata": {
    "execution": {
     "iopub.execute_input": "2022-06-12T00:41:41.475109Z",
     "iopub.status.busy": "2022-06-12T00:41:41.474178Z",
     "iopub.status.idle": "2022-06-12T00:41:41.479613Z",
     "shell.execute_reply": "2022-06-12T00:41:41.480323Z"
    },
    "papermill": {
     "duration": 0.044608,
     "end_time": "2022-06-12T00:41:41.480539",
     "exception": false,
     "start_time": "2022-06-12T00:41:41.435931",
     "status": "completed"
    },
    "tags": []
   },
   "outputs": [],
   "source": [
    "#hide\n",
    "# cols = ['name','group','day','value']"
   ]
  },
  {
   "cell_type": "code",
   "execution_count": 37,
   "id": "continued-sleeping",
   "metadata": {
    "execution": {
     "iopub.execute_input": "2022-06-12T00:41:41.548805Z",
     "iopub.status.busy": "2022-06-12T00:41:41.547589Z",
     "iopub.status.idle": "2022-06-12T00:41:41.550099Z",
     "shell.execute_reply": "2022-06-12T00:41:41.550986Z"
    },
    "papermill": {
     "duration": 0.038864,
     "end_time": "2022-06-12T00:41:41.551205",
     "exception": false,
     "start_time": "2022-06-12T00:41:41.512341",
     "status": "completed"
    },
    "tags": []
   },
   "outputs": [],
   "source": [
    "#hide\n",
    "# g.rename(columns= {'date':'day'},inplace = True)"
   ]
  },
  {
   "cell_type": "code",
   "execution_count": 38,
   "id": "major-fight",
   "metadata": {
    "execution": {
     "iopub.execute_input": "2022-06-12T00:41:41.620176Z",
     "iopub.status.busy": "2022-06-12T00:41:41.619018Z",
     "iopub.status.idle": "2022-06-12T00:41:41.621522Z",
     "shell.execute_reply": "2022-06-12T00:41:41.622407Z"
    },
    "papermill": {
     "duration": 0.03908,
     "end_time": "2022-06-12T00:41:41.622624",
     "exception": false,
     "start_time": "2022-06-12T00:41:41.583544",
     "status": "completed"
    },
    "tags": []
   },
   "outputs": [],
   "source": [
    "#hide\n",
    "# g = g[cols]"
   ]
  },
  {
   "cell_type": "code",
   "execution_count": 39,
   "id": "structured-mobile",
   "metadata": {
    "execution": {
     "iopub.execute_input": "2022-06-12T00:41:41.688434Z",
     "iopub.status.busy": "2022-06-12T00:41:41.687791Z",
     "iopub.status.idle": "2022-06-12T00:41:41.691184Z",
     "shell.execute_reply": "2022-06-12T00:41:41.691779Z"
    },
    "papermill": {
     "duration": 0.038743,
     "end_time": "2022-06-12T00:41:41.691887",
     "exception": false,
     "start_time": "2022-06-12T00:41:41.653144",
     "status": "completed"
    },
    "tags": []
   },
   "outputs": [],
   "source": [
    "# #hide\n",
    "# g = g[g.group.notna()]"
   ]
  },
  {
   "cell_type": "code",
   "execution_count": 40,
   "id": "determined-closing",
   "metadata": {
    "execution": {
     "iopub.execute_input": "2022-06-12T00:41:41.761783Z",
     "iopub.status.busy": "2022-06-12T00:41:41.761144Z",
     "iopub.status.idle": "2022-06-12T00:41:41.765282Z",
     "shell.execute_reply": "2022-06-12T00:41:41.764799Z"
    },
    "papermill": {
     "duration": 0.041568,
     "end_time": "2022-06-12T00:41:41.765395",
     "exception": false,
     "start_time": "2022-06-12T00:41:41.723827",
     "status": "completed"
    },
    "tags": []
   },
   "outputs": [],
   "source": [
    "# #hide\n",
    "# colors = dict(zip(\n",
    "#     [\"Oceania\", \"Europe\", \"Asia\", \"South America\", \"Middle East\", \"North America\", \"Africa\"],\n",
    "#     [\"#adb0ff\", \"#ffb3ff\", \"#90d595\", \"#e48381\", \"#aafbff\", \"#f7bb5f\", \"#eafb50\"]\n",
    "# ))\n",
    "# group_lk = g.set_index('name')['group'].to_dict()"
   ]
  },
  {
   "cell_type": "code",
   "execution_count": null,
   "id": "gross-drinking",
   "metadata": {
    "papermill": {
     "duration": 0.031529,
     "end_time": "2022-06-12T00:41:41.829192",
     "exception": false,
     "start_time": "2022-06-12T00:41:41.797663",
     "status": "completed"
    },
    "tags": []
   },
   "outputs": [],
   "source": []
  },
  {
   "cell_type": "code",
   "execution_count": 41,
   "id": "subject-macintosh",
   "metadata": {
    "execution": {
     "iopub.execute_input": "2022-06-12T00:41:41.899162Z",
     "iopub.status.busy": "2022-06-12T00:41:41.898519Z",
     "iopub.status.idle": "2022-06-12T00:41:41.901553Z",
     "shell.execute_reply": "2022-06-12T00:41:41.900904Z"
    },
    "papermill": {
     "duration": 0.03825,
     "end_time": "2022-06-12T00:41:41.901666",
     "exception": false,
     "start_time": "2022-06-12T00:41:41.863416",
     "status": "completed"
    },
    "tags": []
   },
   "outputs": [],
   "source": [
    "# #hide\n",
    "# fig, ax = plt.subplots(figsize=(15, 8))\n",
    "\n",
    "# def draw_barchart(current_day):\n",
    "#     dff = g[g['day'].eq(current_day)].sort_values(by='value', ascending=True).tail(10)\n",
    "#     ax.clear()\n",
    "#     ax.barh(dff['name'], dff['value'], color=[colors[group_lk[x]] for x in dff['name']])\n",
    "#     dx = dff['value'].max() / 200\n",
    "    \n",
    "#     for i, (value, name) in enumerate(zip(dff['value'], dff['name'])):\n",
    "#         ax.text(value-dx, i,     name,           size=14, weight=600, ha='right', va='bottom')\n",
    "#         ax.text(value-dx, i-.25, group_lk[name], size=10, color='#444444', ha='right', va='baseline')\n",
    "#         ax.text(value+dx, i,     f'{value:,.0f}',  size=14, ha='left',  va='center')\n",
    "#     ax.text(1, 0.4, current_day, transform=ax.transAxes, color='#777777', size=46, ha='right', weight=800)\n",
    "#     ax.text(0, 1.06, 'Population (thousands)', transform=ax.transAxes, size=12, color='#777777')\n",
    "#     ax.xaxis.set_major_formatter(ticker.StrMethodFormatter('{x:,.0f}'))\n",
    "#     ax.xaxis.set_ticks_position('top')\n",
    "#     ax.tick_params(axis='x', colors='#777777', labelsize=12)\n",
    "#     ax.set_yticks([])\n",
    "#     ax.margins(0, 0.01)\n",
    "#     ax.grid(which='major', axis='x', linestyle='-')\n",
    "#     ax.set_axisbelow(True)\n",
    "    \n",
    "#     ax.text(0, 1.15, 'Coronavirus',\n",
    "#             transform=ax.transAxes, size=24, weight=600, ha='left', va='top')\n",
    "# #     ax.text(1, 0, 'by @pratapvardhan; credit @jburnmurdoch', transform=ax.transAxes, color='#777777', ha='right',\n",
    "# #             bbox=dict(facecolor='white', alpha=0.8, edgecolor='white'))\n",
    "#     plt.box(False)"
   ]
  },
  {
   "cell_type": "code",
   "execution_count": 42,
   "id": "sexual-wages",
   "metadata": {
    "execution": {
     "iopub.execute_input": "2022-06-12T00:41:41.973347Z",
     "iopub.status.busy": "2022-06-12T00:41:41.972683Z",
     "iopub.status.idle": "2022-06-12T00:41:41.976300Z",
     "shell.execute_reply": "2022-06-12T00:41:41.976942Z"
    },
    "papermill": {
     "duration": 0.042311,
     "end_time": "2022-06-12T00:41:41.977070",
     "exception": false,
     "start_time": "2022-06-12T00:41:41.934759",
     "status": "completed"
    },
    "tags": []
   },
   "outputs": [],
   "source": [
    "# #hide_input\n",
    "# fig, ax = plt.subplots(figsize=(15, 8))\n",
    "# animator = animation.FuncAnimation(fig, draw_barchart, frames=range(g.day.values.min(), g.day.values.max()))\n",
    "# HTML(animator.to_jshtml())\n",
    "# # or use animator.to_html5_video() or animator.save() "
   ]
  },
  {
   "cell_type": "code",
   "execution_count": null,
   "id": "australian-container",
   "metadata": {
    "papermill": {
     "duration": 0.031795,
     "end_time": "2022-06-12T00:41:42.039679",
     "exception": false,
     "start_time": "2022-06-12T00:41:42.007884",
     "status": "completed"
    },
    "tags": []
   },
   "outputs": [],
   "source": []
  },
  {
   "cell_type": "code",
   "execution_count": null,
   "id": "mediterranean-pontiac",
   "metadata": {
    "papermill": {
     "duration": 0.033708,
     "end_time": "2022-06-12T00:41:42.106464",
     "exception": false,
     "start_time": "2022-06-12T00:41:42.072756",
     "status": "completed"
    },
    "tags": []
   },
   "outputs": [],
   "source": []
  },
  {
   "cell_type": "code",
   "execution_count": null,
   "id": "aging-legislature",
   "metadata": {
    "papermill": {
     "duration": 0.033431,
     "end_time": "2022-06-12T00:41:42.174668",
     "exception": false,
     "start_time": "2022-06-12T00:41:42.141237",
     "status": "completed"
    },
    "tags": []
   },
   "outputs": [],
   "source": []
  }
 ],
 "metadata": {
  "kernelspec": {
   "display_name": "Python 3",
   "language": "python",
   "name": "python3"
  },
  "language_info": {
   "codemirror_mode": {
    "name": "ipython",
    "version": 3
   },
   "file_extension": ".py",
   "mimetype": "text/x-python",
   "name": "python",
   "nbconvert_exporter": "python",
   "pygments_lexer": "ipython3",
   "version": "3.6.15"
  },
  "papermill": {
   "duration": 6.6784,
   "end_time": "2022-06-12T00:41:42.527468",
   "environment_variables": {},
   "exception": null,
   "input_path": "2020-03-21-covid19exp.ipynb",
   "output_path": "2020-03-21-covid19exp.ipynb",
   "parameters": {},
   "start_time": "2022-06-12T00:41:35.849068",
   "version": "2.0.0"
  }
 },
 "nbformat": 4,
 "nbformat_minor": 5
}