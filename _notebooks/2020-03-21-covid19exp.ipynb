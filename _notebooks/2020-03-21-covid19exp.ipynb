{
 "cells": [
  {
   "cell_type": "markdown",
   "id": "muslim-click",
   "metadata": {
    "papermill": {
     "duration": 0.034806,
     "end_time": "2022-09-14T12:20:09.367114",
     "exception": false,
     "start_time": "2022-09-14T12:20:09.332308",
     "status": "completed"
    },
    "tags": []
   },
   "source": [
    "# COVID-19 Case Race\n",
    "> A race chart to see rising cases around the world\n",
    "\n",
    "- author: Hargun Oberoi\n",
    "- image: images/covid-overview.png\n",
    "- hide: false\n",
    "- badges: false"
   ]
  },
  {
   "cell_type": "code",
   "execution_count": 1,
   "id": "proof-material",
   "metadata": {
    "execution": {
     "iopub.execute_input": "2022-09-14T12:20:09.437415Z",
     "iopub.status.busy": "2022-09-14T12:20:09.436693Z",
     "iopub.status.idle": "2022-09-14T12:20:09.761565Z",
     "shell.execute_reply": "2022-09-14T12:20:09.760419Z"
    },
    "papermill": {
     "duration": 0.364932,
     "end_time": "2022-09-14T12:20:09.761733",
     "exception": false,
     "start_time": "2022-09-14T12:20:09.396801",
     "status": "completed"
    },
    "tags": []
   },
   "outputs": [],
   "source": [
    "#hide\n",
    "import numpy as np\n",
    "import pandas as pd\n",
    "from jinja2 import Template\n",
    "from IPython.display import HTML"
   ]
  },
  {
   "cell_type": "code",
   "execution_count": 2,
   "id": "developed-terminology",
   "metadata": {
    "execution": {
     "iopub.execute_input": "2022-09-14T12:20:09.824905Z",
     "iopub.status.busy": "2022-09-14T12:20:09.824192Z",
     "iopub.status.idle": "2022-09-14T12:20:09.826478Z",
     "shell.execute_reply": "2022-09-14T12:20:09.825837Z"
    },
    "papermill": {
     "duration": 0.03567,
     "end_time": "2022-09-14T12:20:09.826602",
     "exception": false,
     "start_time": "2022-09-14T12:20:09.790932",
     "status": "completed"
    },
    "tags": []
   },
   "outputs": [],
   "source": [
    "#hide\n",
    "\n",
    "# FETCH\n",
    "base_url = 'https://raw.githubusercontent.com/pratapvardhan/notebooks/master/covid19/'\n",
    "paths = {\n",
    "    'mapping': base_url + 'mapping_countries.csv',\n",
    "    'overview': base_url + 'overview.tpl'\n",
    "}"
   ]
  },
  {
   "cell_type": "code",
   "execution_count": 3,
   "id": "dynamic-saver",
   "metadata": {
    "execution": {
     "iopub.execute_input": "2022-09-14T12:20:09.895303Z",
     "iopub.status.busy": "2022-09-14T12:20:09.894716Z",
     "iopub.status.idle": "2022-09-14T12:20:09.898225Z",
     "shell.execute_reply": "2022-09-14T12:20:09.897758Z"
    },
    "papermill": {
     "duration": 0.041873,
     "end_time": "2022-09-14T12:20:09.898329",
     "exception": false,
     "start_time": "2022-09-14T12:20:09.856456",
     "status": "completed"
    },
    "tags": []
   },
   "outputs": [
    {
     "data": {
      "text/plain": [
       "'https://raw.githubusercontent.com/pratapvardhan/notebooks/master/covid19/mapping_countries.csv'"
      ]
     },
     "execution_count": 3,
     "metadata": {},
     "output_type": "execute_result"
    }
   ],
   "source": [
    "#hide\n",
    "paths['mapping']"
   ]
  },
  {
   "cell_type": "code",
   "execution_count": 4,
   "id": "urban-software",
   "metadata": {
    "execution": {
     "iopub.execute_input": "2022-09-14T12:20:09.962784Z",
     "iopub.status.busy": "2022-09-14T12:20:09.962094Z",
     "iopub.status.idle": "2022-09-14T12:20:09.964554Z",
     "shell.execute_reply": "2022-09-14T12:20:09.963962Z"
    },
    "papermill": {
     "duration": 0.036954,
     "end_time": "2022-09-14T12:20:09.964664",
     "exception": false,
     "start_time": "2022-09-14T12:20:09.927710",
     "status": "completed"
    },
    "tags": []
   },
   "outputs": [],
   "source": [
    "#hide\n",
    "def get_mappings(url):\n",
    "    df = pd.read_csv(url)\n",
    "    return {\n",
    "        'df': df,\n",
    "        'replace.country': dict(df.dropna(subset=['Name']).set_index('Country')['Name']),\n",
    "        'map.continent': dict(df.set_index('Name')['Continent'])\n",
    "    }"
   ]
  },
  {
   "cell_type": "code",
   "execution_count": 5,
   "id": "intimate-machinery",
   "metadata": {
    "execution": {
     "iopub.execute_input": "2022-09-14T12:20:10.028813Z",
     "iopub.status.busy": "2022-09-14T12:20:10.028222Z",
     "iopub.status.idle": "2022-09-14T12:20:10.090150Z",
     "shell.execute_reply": "2022-09-14T12:20:10.089582Z"
    },
    "papermill": {
     "duration": 0.096239,
     "end_time": "2022-09-14T12:20:10.090284",
     "exception": false,
     "start_time": "2022-09-14T12:20:09.994045",
     "status": "completed"
    },
    "tags": []
   },
   "outputs": [],
   "source": [
    "#hide\n",
    "mapping = get_mappings(paths['mapping'])"
   ]
  },
  {
   "cell_type": "code",
   "execution_count": 6,
   "id": "certified-tactics",
   "metadata": {
    "execution": {
     "iopub.execute_input": "2022-09-14T12:20:10.155333Z",
     "iopub.status.busy": "2022-09-14T12:20:10.154648Z",
     "iopub.status.idle": "2022-09-14T12:20:10.157144Z",
     "shell.execute_reply": "2022-09-14T12:20:10.156518Z"
    },
    "papermill": {
     "duration": 0.036675,
     "end_time": "2022-09-14T12:20:10.157254",
     "exception": false,
     "start_time": "2022-09-14T12:20:10.120579",
     "status": "completed"
    },
    "tags": []
   },
   "outputs": [],
   "source": [
    "#hide\n",
    "def get_template(path):\n",
    "    from urllib.parse import urlparse\n",
    "    if bool(urlparse(path).netloc):\n",
    "        from urllib.request import urlopen\n",
    "        return urlopen(path).read().decode('utf8')\n",
    "    return open(path).read()"
   ]
  },
  {
   "cell_type": "code",
   "execution_count": 7,
   "id": "realistic-blast",
   "metadata": {
    "execution": {
     "iopub.execute_input": "2022-09-14T12:20:10.220303Z",
     "iopub.status.busy": "2022-09-14T12:20:10.219725Z",
     "iopub.status.idle": "2022-09-14T12:20:10.222291Z",
     "shell.execute_reply": "2022-09-14T12:20:10.221824Z"
    },
    "papermill": {
     "duration": 0.036018,
     "end_time": "2022-09-14T12:20:10.222397",
     "exception": false,
     "start_time": "2022-09-14T12:20:10.186379",
     "status": "completed"
    },
    "tags": []
   },
   "outputs": [],
   "source": [
    "#hide\n",
    "def get_frame(name):\n",
    "    url = (\n",
    "        'https://raw.githubusercontent.com/CSSEGISandData/COVID-19/master/csse_covid_19_data/'\n",
    "        f'csse_covid_19_time_series/time_series_covid19_{name}_global.csv')\n",
    "    df = pd.read_csv(url)\n",
    "    # rename countries\n",
    "    df['Country/Region'] = df['Country/Region'].replace(mapping['replace.country'])\n",
    "    return df"
   ]
  },
  {
   "cell_type": "code",
   "execution_count": 8,
   "id": "affiliated-characterization",
   "metadata": {
    "execution": {
     "iopub.execute_input": "2022-09-14T12:20:10.286587Z",
     "iopub.status.busy": "2022-09-14T12:20:10.285929Z",
     "iopub.status.idle": "2022-09-14T12:20:10.288448Z",
     "shell.execute_reply": "2022-09-14T12:20:10.287933Z"
    },
    "papermill": {
     "duration": 0.036985,
     "end_time": "2022-09-14T12:20:10.288548",
     "exception": false,
     "start_time": "2022-09-14T12:20:10.251563",
     "status": "completed"
    },
    "tags": []
   },
   "outputs": [],
   "source": [
    "#hide\n",
    "def get_dates(df):\n",
    "    dt_cols = df.columns[~df.columns.isin(['Province/State', 'Country/Region', 'Lat', 'Long'])]\n",
    "    LAST_DATE_I = -1\n",
    "    # sometimes last column may be empty, then go backwards\n",
    "    for i in range(-1, -len(dt_cols), -1):\n",
    "        if not df[dt_cols[i]].fillna(0).eq(0).all():\n",
    "            LAST_DATE_I = i\n",
    "            break\n",
    "    return LAST_DATE_I, dt_cols"
   ]
  },
  {
   "cell_type": "code",
   "execution_count": 9,
   "id": "recent-optimization",
   "metadata": {
    "execution": {
     "iopub.execute_input": "2022-09-14T12:20:10.351572Z",
     "iopub.status.busy": "2022-09-14T12:20:10.350994Z",
     "iopub.status.idle": "2022-09-14T12:20:10.991803Z",
     "shell.execute_reply": "2022-09-14T12:20:10.990596Z"
    },
    "papermill": {
     "duration": 0.674439,
     "end_time": "2022-09-14T12:20:10.991944",
     "exception": false,
     "start_time": "2022-09-14T12:20:10.317505",
     "status": "completed"
    },
    "tags": []
   },
   "outputs": [],
   "source": [
    "#hide\n",
    "COL_REGION = 'Country/Region'\n",
    "# Confirmed, Recovered, Deaths\n",
    "df = get_frame('confirmed')\n",
    "# dft_: timeseries, dfc_: today country agg\n",
    "dft_cases = df\n",
    "dft_deaths = get_frame('deaths')\n",
    "dft_recovered = get_frame('recovered')\n",
    "LAST_DATE_I, dt_cols = get_dates(df)"
   ]
  },
  {
   "cell_type": "code",
   "execution_count": 10,
   "id": "absolute-copper",
   "metadata": {
    "execution": {
     "iopub.execute_input": "2022-09-14T12:20:11.056563Z",
     "iopub.status.busy": "2022-09-14T12:20:11.055885Z",
     "iopub.status.idle": "2022-09-14T12:20:11.058327Z",
     "shell.execute_reply": "2022-09-14T12:20:11.057678Z"
    },
    "papermill": {
     "duration": 0.03684,
     "end_time": "2022-09-14T12:20:11.058449",
     "exception": false,
     "start_time": "2022-09-14T12:20:11.021609",
     "status": "completed"
    },
    "tags": []
   },
   "outputs": [],
   "source": [
    "#hide\n",
    "LAST_DATE_I, dt_cols = get_dates(df)\n",
    "dt_today =dt_cols[LAST_DATE_I]\n",
    "# dt_5day = dt_cols[LAST_DATE_I - 5]\n",
    "dt_yday = dt_cols[LAST_DATE_I - 1]"
   ]
  },
  {
   "cell_type": "code",
   "execution_count": 11,
   "id": "restricted-sheriff",
   "metadata": {
    "execution": {
     "iopub.execute_input": "2022-09-14T12:20:11.122081Z",
     "iopub.status.busy": "2022-09-14T12:20:11.121506Z",
     "iopub.status.idle": "2022-09-14T12:20:11.129560Z",
     "shell.execute_reply": "2022-09-14T12:20:11.129084Z"
    },
    "papermill": {
     "duration": 0.041834,
     "end_time": "2022-09-14T12:20:11.129667",
     "exception": false,
     "start_time": "2022-09-14T12:20:11.087833",
     "status": "completed"
    },
    "tags": []
   },
   "outputs": [],
   "source": [
    "#hide\n",
    "dfc_cases = dft_cases.groupby(COL_REGION)[dt_today].sum()\n",
    "dfc_deaths = dft_deaths.groupby(COL_REGION)[dt_today].sum()\n",
    "# dfp_cases = dft_cases.groupby(COL_REGION)[dt_5day].sum()\n",
    "# dfp_deaths = dft_deaths.groupby(COL_REGION)[dt_5day].sum()\n",
    "dfp_cases = dft_cases.groupby(COL_REGION)[dt_yday].sum()\n",
    "dfp_deaths = dft_deaths.groupby(COL_REGION)[dt_yday].sum()"
   ]
  },
  {
   "cell_type": "code",
   "execution_count": 12,
   "id": "deluxe-hepatitis",
   "metadata": {
    "execution": {
     "iopub.execute_input": "2022-09-14T12:20:11.193849Z",
     "iopub.status.busy": "2022-09-14T12:20:11.193268Z",
     "iopub.status.idle": "2022-09-14T12:20:11.198073Z",
     "shell.execute_reply": "2022-09-14T12:20:11.198623Z"
    },
    "papermill": {
     "duration": 0.039842,
     "end_time": "2022-09-14T12:20:11.198742",
     "exception": false,
     "start_time": "2022-09-14T12:20:11.158900",
     "status": "completed"
    },
    "tags": []
   },
   "outputs": [],
   "source": [
    "#hide\n",
    "df_table = (pd.DataFrame(dict(Cases = dfc_cases, Deaths = dfc_deaths, PCases = dfp_cases, PDeaths = dfp_deaths))\n",
    "            .sort_values(by = ['Cases','Deaths'], ascending = [False, False])\n",
    "            .reset_index())"
   ]
  },
  {
   "cell_type": "code",
   "execution_count": 13,
   "id": "educational-chancellor",
   "metadata": {
    "execution": {
     "iopub.execute_input": "2022-09-14T12:20:11.267101Z",
     "iopub.status.busy": "2022-09-14T12:20:11.266519Z",
     "iopub.status.idle": "2022-09-14T12:20:11.281604Z",
     "shell.execute_reply": "2022-09-14T12:20:11.281137Z"
    },
    "papermill": {
     "duration": 0.053839,
     "end_time": "2022-09-14T12:20:11.281709",
     "exception": false,
     "start_time": "2022-09-14T12:20:11.227870",
     "status": "completed"
    },
    "tags": []
   },
   "outputs": [
    {
     "data": {
      "text/html": [
       "<div>\n",
       "<style scoped>\n",
       "    .dataframe tbody tr th:only-of-type {\n",
       "        vertical-align: middle;\n",
       "    }\n",
       "\n",
       "    .dataframe tbody tr th {\n",
       "        vertical-align: top;\n",
       "    }\n",
       "\n",
       "    .dataframe thead th {\n",
       "        text-align: right;\n",
       "    }\n",
       "</style>\n",
       "<table border=\"1\" class=\"dataframe\">\n",
       "  <thead>\n",
       "    <tr style=\"text-align: right;\">\n",
       "      <th></th>\n",
       "      <th>Country/Region</th>\n",
       "      <th>Cases</th>\n",
       "      <th>Deaths</th>\n",
       "      <th>PCases</th>\n",
       "      <th>PDeaths</th>\n",
       "      <th>Cases (+)</th>\n",
       "      <th>Deaths (+)</th>\n",
       "      <th>Fatality Rate</th>\n",
       "      <th>Continent</th>\n",
       "    </tr>\n",
       "  </thead>\n",
       "  <tbody>\n",
       "    <tr>\n",
       "      <th>0</th>\n",
       "      <td>US</td>\n",
       "      <td>95387377</td>\n",
       "      <td>1051277</td>\n",
       "      <td>95320071</td>\n",
       "      <td>1050767</td>\n",
       "      <td>67306</td>\n",
       "      <td>510</td>\n",
       "      <td>1.10</td>\n",
       "      <td>North America</td>\n",
       "    </tr>\n",
       "    <tr>\n",
       "      <th>1</th>\n",
       "      <td>India</td>\n",
       "      <td>44510057</td>\n",
       "      <td>528216</td>\n",
       "      <td>44502363</td>\n",
       "      <td>528185</td>\n",
       "      <td>7694</td>\n",
       "      <td>31</td>\n",
       "      <td>1.19</td>\n",
       "      <td>Asia</td>\n",
       "    </tr>\n",
       "    <tr>\n",
       "      <th>2</th>\n",
       "      <td>France</td>\n",
       "      <td>34985401</td>\n",
       "      <td>155633</td>\n",
       "      <td>34939449</td>\n",
       "      <td>155569</td>\n",
       "      <td>45952</td>\n",
       "      <td>64</td>\n",
       "      <td>0.44</td>\n",
       "      <td>Europe</td>\n",
       "    </tr>\n",
       "    <tr>\n",
       "      <th>3</th>\n",
       "      <td>Brazil</td>\n",
       "      <td>34544377</td>\n",
       "      <td>685002</td>\n",
       "      <td>34533957</td>\n",
       "      <td>684898</td>\n",
       "      <td>10420</td>\n",
       "      <td>104</td>\n",
       "      <td>1.98</td>\n",
       "      <td>South America</td>\n",
       "    </tr>\n",
       "    <tr>\n",
       "      <th>4</th>\n",
       "      <td>Germany</td>\n",
       "      <td>32558479</td>\n",
       "      <td>148498</td>\n",
       "      <td>32507180</td>\n",
       "      <td>148389</td>\n",
       "      <td>51299</td>\n",
       "      <td>109</td>\n",
       "      <td>0.46</td>\n",
       "      <td>Europe</td>\n",
       "    </tr>\n",
       "  </tbody>\n",
       "</table>\n",
       "</div>"
      ],
      "text/plain": [
       "  Country/Region     Cases   Deaths    PCases  PDeaths  Cases (+)  Deaths (+)  \\\n",
       "0             US  95387377  1051277  95320071  1050767      67306         510   \n",
       "1          India  44510057   528216  44502363   528185       7694          31   \n",
       "2         France  34985401   155633  34939449   155569      45952          64   \n",
       "3         Brazil  34544377   685002  34533957   684898      10420         104   \n",
       "4        Germany  32558479   148498  32507180   148389      51299         109   \n",
       "\n",
       "   Fatality Rate      Continent  \n",
       "0           1.10  North America  \n",
       "1           1.19           Asia  \n",
       "2           0.44         Europe  \n",
       "3           1.98  South America  \n",
       "4           0.46         Europe  "
      ]
     },
     "execution_count": 13,
     "metadata": {},
     "output_type": "execute_result"
    }
   ],
   "source": [
    "#hide\n",
    "for c in 'Cases, Deaths'.split(', '):\n",
    "    df_table[f'{c} (+)'] = (df_table[c] - df_table[f'P{c}']).clip(0)\n",
    "    #Clip ça veut dire, les chiffres negatif sont interdit\n",
    "df_table['Fatality Rate'] = (100* df_table['Deaths']/ df_table['Cases']).round(2)\n",
    "df_table['Continent'] = df_table['Country/Region'].map(mapping['map.continent'])\n",
    "df_table.head(5)"
   ]
  },
  {
   "cell_type": "code",
   "execution_count": 14,
   "id": "aboriginal-bulgaria",
   "metadata": {
    "execution": {
     "iopub.execute_input": "2022-09-14T12:20:11.345555Z",
     "iopub.status.busy": "2022-09-14T12:20:11.344977Z",
     "iopub.status.idle": "2022-09-14T12:20:11.348655Z",
     "shell.execute_reply": "2022-09-14T12:20:11.348196Z"
    },
    "papermill": {
     "duration": 0.037417,
     "end_time": "2022-09-14T12:20:11.348760",
     "exception": false,
     "start_time": "2022-09-14T12:20:11.311343",
     "status": "completed"
    },
    "tags": []
   },
   "outputs": [],
   "source": [
    "#hide\n",
    "#delete problematic countries from table\n",
    "df_table = df_table[~df_table['Country/Region'].isin(['Cape Verde', 'Cruise Ship', 'Kosovo'])]"
   ]
  },
  {
   "cell_type": "code",
   "execution_count": 15,
   "id": "fantastic-effect",
   "metadata": {
    "execution": {
     "iopub.execute_input": "2022-09-14T12:20:11.415456Z",
     "iopub.status.busy": "2022-09-14T12:20:11.414886Z",
     "iopub.status.idle": "2022-09-14T12:20:11.433603Z",
     "shell.execute_reply": "2022-09-14T12:20:11.434153Z"
    },
    "papermill": {
     "duration": 0.056087,
     "end_time": "2022-09-14T12:20:11.434273",
     "exception": false,
     "start_time": "2022-09-14T12:20:11.378186",
     "status": "completed"
    },
    "tags": []
   },
   "outputs": [
    {
     "data": {
      "text/html": [
       "<div>\n",
       "<style scoped>\n",
       "    .dataframe tbody tr th:only-of-type {\n",
       "        vertical-align: middle;\n",
       "    }\n",
       "\n",
       "    .dataframe tbody tr th {\n",
       "        vertical-align: top;\n",
       "    }\n",
       "\n",
       "    .dataframe thead th {\n",
       "        text-align: right;\n",
       "    }\n",
       "</style>\n",
       "<table border=\"1\" class=\"dataframe\">\n",
       "  <thead>\n",
       "    <tr style=\"text-align: right;\">\n",
       "      <th></th>\n",
       "      <th>Country/Region</th>\n",
       "      <th>Cases</th>\n",
       "      <th>Deaths</th>\n",
       "      <th>PCases</th>\n",
       "      <th>PDeaths</th>\n",
       "      <th>Cases (+)</th>\n",
       "      <th>Deaths (+)</th>\n",
       "      <th>Fatality Rate</th>\n",
       "      <th>Continent</th>\n",
       "    </tr>\n",
       "  </thead>\n",
       "  <tbody>\n",
       "    <tr>\n",
       "      <th>0</th>\n",
       "      <td>US</td>\n",
       "      <td>95387377</td>\n",
       "      <td>1051277</td>\n",
       "      <td>95320071</td>\n",
       "      <td>1050767</td>\n",
       "      <td>67306</td>\n",
       "      <td>510</td>\n",
       "      <td>1.1</td>\n",
       "      <td>North America</td>\n",
       "    </tr>\n",
       "    <tr>\n",
       "      <th>1</th>\n",
       "      <td>India</td>\n",
       "      <td>44510057</td>\n",
       "      <td>528216</td>\n",
       "      <td>44502363</td>\n",
       "      <td>528185</td>\n",
       "      <td>7694</td>\n",
       "      <td>31</td>\n",
       "      <td>1.2</td>\n",
       "      <td>Asia</td>\n",
       "    </tr>\n",
       "    <tr>\n",
       "      <th>2</th>\n",
       "      <td>France</td>\n",
       "      <td>34985401</td>\n",
       "      <td>155633</td>\n",
       "      <td>34939449</td>\n",
       "      <td>155569</td>\n",
       "      <td>45952</td>\n",
       "      <td>64</td>\n",
       "      <td>0.4</td>\n",
       "      <td>Europe</td>\n",
       "    </tr>\n",
       "    <tr>\n",
       "      <th>3</th>\n",
       "      <td>Brazil</td>\n",
       "      <td>34544377</td>\n",
       "      <td>685002</td>\n",
       "      <td>34533957</td>\n",
       "      <td>684898</td>\n",
       "      <td>10420</td>\n",
       "      <td>104</td>\n",
       "      <td>2.0</td>\n",
       "      <td>South America</td>\n",
       "    </tr>\n",
       "    <tr>\n",
       "      <th>4</th>\n",
       "      <td>Germany</td>\n",
       "      <td>32558479</td>\n",
       "      <td>148498</td>\n",
       "      <td>32507180</td>\n",
       "      <td>148389</td>\n",
       "      <td>51299</td>\n",
       "      <td>109</td>\n",
       "      <td>0.5</td>\n",
       "      <td>Europe</td>\n",
       "    </tr>\n",
       "  </tbody>\n",
       "</table>\n",
       "</div>"
      ],
      "text/plain": [
       "  Country/Region     Cases   Deaths    PCases  PDeaths  Cases (+)  Deaths (+)  \\\n",
       "0             US  95387377  1051277  95320071  1050767      67306         510   \n",
       "1          India  44510057   528216  44502363   528185       7694          31   \n",
       "2         France  34985401   155633  34939449   155569      45952          64   \n",
       "3         Brazil  34544377   685002  34533957   684898      10420         104   \n",
       "4        Germany  32558479   148498  32507180   148389      51299         109   \n",
       "\n",
       "   Fatality Rate      Continent  \n",
       "0            1.1  North America  \n",
       "1            1.2           Asia  \n",
       "2            0.4         Europe  \n",
       "3            2.0  South America  \n",
       "4            0.5         Europe  "
      ]
     },
     "execution_count": 15,
     "metadata": {},
     "output_type": "execute_result"
    }
   ],
   "source": [
    "#hide\n",
    "df_table = (pd.DataFrame(dict(Cases=dfc_cases, Deaths=dfc_deaths, PCases=dfp_cases, PDeaths=dfp_deaths))\n",
    "             .sort_values(by=['Cases', 'Deaths'], ascending=[False, False])\n",
    "             .reset_index())\n",
    "df_table.rename(columns={'index': 'Country/Region'}, inplace=True)\n",
    "for c in 'Cases, Deaths'.split(', '):\n",
    "    df_table[f'{c} (+)'] = (df_table[c] - df_table[f'P{c}']).clip(0)  # DATA BUG\n",
    "df_table['Fatality Rate'] = (100 * df_table['Deaths'] / df_table['Cases']).round(1)\n",
    "df_table['Continent'] = df_table['Country/Region'].map(mapping['map.continent'])\n",
    "df_table.head(5)"
   ]
  },
  {
   "cell_type": "code",
   "execution_count": 16,
   "id": "fewer-occasion",
   "metadata": {
    "execution": {
     "iopub.execute_input": "2022-09-14T12:20:11.500448Z",
     "iopub.status.busy": "2022-09-14T12:20:11.499858Z",
     "iopub.status.idle": "2022-09-14T12:20:11.502275Z",
     "shell.execute_reply": "2022-09-14T12:20:11.502725Z"
    },
    "papermill": {
     "duration": 0.038217,
     "end_time": "2022-09-14T12:20:11.502843",
     "exception": false,
     "start_time": "2022-09-14T12:20:11.464626",
     "status": "completed"
    },
    "tags": []
   },
   "outputs": [],
   "source": [
    "#hide\n",
    "#delete problematic countries from table\n",
    "df_table = df_table[~df_table['Country/Region'].isin(['Cape Verde', 'Cruise Ship', 'Kosovo'])]"
   ]
  },
  {
   "cell_type": "code",
   "execution_count": 17,
   "id": "related-center",
   "metadata": {
    "execution": {
     "iopub.execute_input": "2022-09-14T12:20:11.573372Z",
     "iopub.status.busy": "2022-09-14T12:20:11.572754Z",
     "iopub.status.idle": "2022-09-14T12:20:11.582623Z",
     "shell.execute_reply": "2022-09-14T12:20:11.582162Z"
    },
    "papermill": {
     "duration": 0.049928,
     "end_time": "2022-09-14T12:20:11.582724",
     "exception": false,
     "start_time": "2022-09-14T12:20:11.532796",
     "status": "completed"
    },
    "tags": []
   },
   "outputs": [],
   "source": [
    "#hide\n",
    "metrics = [df_table.columns[index] for index in [1,2,5,6]]\n",
    "# s_china = df_table[df_table['Country/Region'].eq('China')][metrics].sum().add_prefix('China ')\n",
    "s_us = df_table[df_table['Country/Region'].eq('US')][metrics].sum().add_prefix('US ')\n",
    "s_eu = df_table[df_table['Continent'].eq('Europe')][metrics].sum().add_prefix('EU ')\n",
    "s_ind = df_table[df_table['Country/Region'].eq('India')][metrics].sum().add_prefix('India ')\n",
    "summary = {'updated': pd.to_datetime(dt_today), 'since': pd.to_datetime(dt_yday)}\n",
    "summary = {'updated': pd.to_datetime(dt_today), 'since': pd.to_datetime(dt_yday)}\n",
    "summary = {**summary, **df_table[metrics].sum(), **s_ind, **s_us, **s_eu}"
   ]
  },
  {
   "cell_type": "code",
   "execution_count": 18,
   "id": "engaging-syndrome",
   "metadata": {
    "execution": {
     "iopub.execute_input": "2022-09-14T12:20:11.648912Z",
     "iopub.status.busy": "2022-09-14T12:20:11.648308Z",
     "iopub.status.idle": "2022-09-14T12:20:11.669368Z",
     "shell.execute_reply": "2022-09-14T12:20:11.668894Z"
    },
    "papermill": {
     "duration": 0.056379,
     "end_time": "2022-09-14T12:20:11.669482",
     "exception": false,
     "start_time": "2022-09-14T12:20:11.613103",
     "status": "completed"
    },
    "tags": []
   },
   "outputs": [],
   "source": [
    "#hide\n",
    "dft_ct_new_cases = dft_cases.groupby(COL_REGION)[dt_cols].sum().diff(axis=1).fillna(0).astype(int)"
   ]
  },
  {
   "cell_type": "code",
   "execution_count": 19,
   "id": "neutral-assignment",
   "metadata": {
    "execution": {
     "iopub.execute_input": "2022-09-14T12:20:11.737076Z",
     "iopub.status.busy": "2022-09-14T12:20:11.736474Z",
     "iopub.status.idle": "2022-09-14T12:20:11.738847Z",
     "shell.execute_reply": "2022-09-14T12:20:11.739397Z"
    },
    "papermill": {
     "duration": 0.039302,
     "end_time": "2022-09-14T12:20:11.739522",
     "exception": false,
     "start_time": "2022-09-14T12:20:11.700220",
     "status": "completed"
    },
    "tags": []
   },
   "outputs": [],
   "source": [
    "#hide\n",
    "everydaycases = dft_ct_new_cases.cumsum(axis=1)"
   ]
  },
  {
   "cell_type": "code",
   "execution_count": 20,
   "id": "parliamentary-calgary",
   "metadata": {
    "execution": {
     "iopub.execute_input": "2022-09-14T12:20:11.804268Z",
     "iopub.status.busy": "2022-09-14T12:20:11.803697Z",
     "iopub.status.idle": "2022-09-14T12:20:12.371028Z",
     "shell.execute_reply": "2022-09-14T12:20:12.371528Z"
    },
    "papermill": {
     "duration": 0.601966,
     "end_time": "2022-09-14T12:20:12.371688",
     "exception": false,
     "start_time": "2022-09-14T12:20:11.769722",
     "status": "completed"
    },
    "tags": []
   },
   "outputs": [],
   "source": [
    "#hide\n",
    "import pandas as pd\n",
    "import matplotlib.pyplot as plt\n",
    "import matplotlib.ticker as ticker\n",
    "import matplotlib.animation as animation\n",
    "from IPython.display import HTML"
   ]
  },
  {
   "cell_type": "code",
   "execution_count": 21,
   "id": "lasting-extraction",
   "metadata": {
    "execution": {
     "iopub.execute_input": "2022-09-14T12:20:12.439855Z",
     "iopub.status.busy": "2022-09-14T12:20:12.439267Z",
     "iopub.status.idle": "2022-09-14T12:20:12.446956Z",
     "shell.execute_reply": "2022-09-14T12:20:12.446485Z"
    },
    "papermill": {
     "duration": 0.04438,
     "end_time": "2022-09-14T12:20:12.447069",
     "exception": false,
     "start_time": "2022-09-14T12:20:12.402689",
     "status": "completed"
    },
    "tags": []
   },
   "outputs": [],
   "source": [
    "#hide\n",
    "t = everydaycases.stack()"
   ]
  },
  {
   "cell_type": "code",
   "execution_count": 22,
   "id": "premier-sleeve",
   "metadata": {
    "execution": {
     "iopub.execute_input": "2022-09-14T12:20:12.510286Z",
     "iopub.status.busy": "2022-09-14T12:20:12.509710Z",
     "iopub.status.idle": "2022-09-14T12:20:12.523266Z",
     "shell.execute_reply": "2022-09-14T12:20:12.523804Z"
    },
    "papermill": {
     "duration": 0.04661,
     "end_time": "2022-09-14T12:20:12.523930",
     "exception": false,
     "start_time": "2022-09-14T12:20:12.477320",
     "status": "completed"
    },
    "tags": []
   },
   "outputs": [],
   "source": [
    "#hide\n",
    "g = t.reset_index(['Country/Region'])"
   ]
  },
  {
   "cell_type": "code",
   "execution_count": 23,
   "id": "distributed-pittsburgh",
   "metadata": {
    "execution": {
     "iopub.execute_input": "2022-09-14T12:20:12.588455Z",
     "iopub.status.busy": "2022-09-14T12:20:12.587878Z",
     "iopub.status.idle": "2022-09-14T12:20:12.590344Z",
     "shell.execute_reply": "2022-09-14T12:20:12.590877Z"
    },
    "papermill": {
     "duration": 0.036976,
     "end_time": "2022-09-14T12:20:12.591000",
     "exception": false,
     "start_time": "2022-09-14T12:20:12.554024",
     "status": "completed"
    },
    "tags": []
   },
   "outputs": [],
   "source": [
    "#hide\n",
    "g.index.name = 'date'"
   ]
  },
  {
   "cell_type": "code",
   "execution_count": 24,
   "id": "naked-donor",
   "metadata": {
    "execution": {
     "iopub.execute_input": "2022-09-14T12:20:12.655729Z",
     "iopub.status.busy": "2022-09-14T12:20:12.655162Z",
     "iopub.status.idle": "2022-09-14T12:20:12.657983Z",
     "shell.execute_reply": "2022-09-14T12:20:12.657517Z"
    },
    "papermill": {
     "duration": 0.036293,
     "end_time": "2022-09-14T12:20:12.658087",
     "exception": false,
     "start_time": "2022-09-14T12:20:12.621794",
     "status": "completed"
    },
    "tags": []
   },
   "outputs": [],
   "source": [
    "# #hide\n",
    "# g = g.reset_index(['date'])"
   ]
  },
  {
   "cell_type": "code",
   "execution_count": 25,
   "id": "incomplete-mustang",
   "metadata": {
    "execution": {
     "iopub.execute_input": "2022-09-14T12:20:12.723395Z",
     "iopub.status.busy": "2022-09-14T12:20:12.722703Z",
     "iopub.status.idle": "2022-09-14T12:20:12.725167Z",
     "shell.execute_reply": "2022-09-14T12:20:12.724593Z"
    },
    "papermill": {
     "duration": 0.036702,
     "end_time": "2022-09-14T12:20:12.725279",
     "exception": false,
     "start_time": "2022-09-14T12:20:12.688577",
     "status": "completed"
    },
    "tags": []
   },
   "outputs": [],
   "source": [
    "#hide\n",
    "# g.head()"
   ]
  },
  {
   "cell_type": "code",
   "execution_count": 26,
   "id": "specific-kruger",
   "metadata": {
    "execution": {
     "iopub.execute_input": "2022-09-14T12:20:12.789437Z",
     "iopub.status.busy": "2022-09-14T12:20:12.788793Z",
     "iopub.status.idle": "2022-09-14T12:20:12.791046Z",
     "shell.execute_reply": "2022-09-14T12:20:12.791594Z"
    },
    "papermill": {
     "duration": 0.036212,
     "end_time": "2022-09-14T12:20:12.791719",
     "exception": false,
     "start_time": "2022-09-14T12:20:12.755507",
     "status": "completed"
    },
    "tags": []
   },
   "outputs": [],
   "source": [
    "#hide\n",
    "# g.columns = ['date','country','cases']"
   ]
  },
  {
   "cell_type": "code",
   "execution_count": 27,
   "id": "tender-conversion",
   "metadata": {
    "execution": {
     "iopub.execute_input": "2022-09-14T12:20:12.856288Z",
     "iopub.status.busy": "2022-09-14T12:20:12.855614Z",
     "iopub.status.idle": "2022-09-14T12:20:12.858088Z",
     "shell.execute_reply": "2022-09-14T12:20:12.857517Z"
    },
    "papermill": {
     "duration": 0.03646,
     "end_time": "2022-09-14T12:20:12.858196",
     "exception": false,
     "start_time": "2022-09-14T12:20:12.821736",
     "status": "completed"
    },
    "tags": []
   },
   "outputs": [],
   "source": [
    "#hide\n",
    "# g['continent'] = g.country"
   ]
  },
  {
   "cell_type": "code",
   "execution_count": 28,
   "id": "substantial-wilderness",
   "metadata": {
    "execution": {
     "iopub.execute_input": "2022-09-14T12:20:12.922521Z",
     "iopub.status.busy": "2022-09-14T12:20:12.921936Z",
     "iopub.status.idle": "2022-09-14T12:20:12.924114Z",
     "shell.execute_reply": "2022-09-14T12:20:12.924661Z"
    },
    "papermill": {
     "duration": 0.03633,
     "end_time": "2022-09-14T12:20:12.924789",
     "exception": false,
     "start_time": "2022-09-14T12:20:12.888459",
     "status": "completed"
    },
    "tags": []
   },
   "outputs": [],
   "source": [
    "#hide\n",
    "# cols = list(g.columns.values)"
   ]
  },
  {
   "cell_type": "code",
   "execution_count": 29,
   "id": "solved-farming",
   "metadata": {
    "execution": {
     "iopub.execute_input": "2022-09-14T12:20:12.988825Z",
     "iopub.status.busy": "2022-09-14T12:20:12.988195Z",
     "iopub.status.idle": "2022-09-14T12:20:12.990862Z",
     "shell.execute_reply": "2022-09-14T12:20:12.990397Z"
    },
    "papermill": {
     "duration": 0.036167,
     "end_time": "2022-09-14T12:20:12.990966",
     "exception": false,
     "start_time": "2022-09-14T12:20:12.954799",
     "status": "completed"
    },
    "tags": []
   },
   "outputs": [],
   "source": [
    "#hide\n",
    "# cols.insert(0, cols.pop())"
   ]
  },
  {
   "cell_type": "code",
   "execution_count": 30,
   "id": "executed-adoption",
   "metadata": {
    "execution": {
     "iopub.execute_input": "2022-09-14T12:20:13.056054Z",
     "iopub.status.busy": "2022-09-14T12:20:13.055371Z",
     "iopub.status.idle": "2022-09-14T12:20:13.057985Z",
     "shell.execute_reply": "2022-09-14T12:20:13.057471Z"
    },
    "papermill": {
     "duration": 0.036686,
     "end_time": "2022-09-14T12:20:13.058109",
     "exception": false,
     "start_time": "2022-09-14T12:20:13.021423",
     "status": "completed"
    },
    "tags": []
   },
   "outputs": [],
   "source": [
    "#hide\n",
    "# g = g[cols]"
   ]
  },
  {
   "cell_type": "code",
   "execution_count": 31,
   "id": "subject-dublin",
   "metadata": {
    "execution": {
     "iopub.execute_input": "2022-09-14T12:20:13.122363Z",
     "iopub.status.busy": "2022-09-14T12:20:13.121703Z",
     "iopub.status.idle": "2022-09-14T12:20:13.125271Z",
     "shell.execute_reply": "2022-09-14T12:20:13.125784Z"
    },
    "papermill": {
     "duration": 0.037598,
     "end_time": "2022-09-14T12:20:13.125920",
     "exception": false,
     "start_time": "2022-09-14T12:20:13.088322",
     "status": "completed"
    },
    "tags": []
   },
   "outputs": [],
   "source": [
    "#hide\n",
    "# g['continent'] = g['continent'].map(mapping['map.continent'])"
   ]
  },
  {
   "cell_type": "code",
   "execution_count": 32,
   "id": "freelance-scout",
   "metadata": {
    "execution": {
     "iopub.execute_input": "2022-09-14T12:20:13.191055Z",
     "iopub.status.busy": "2022-09-14T12:20:13.190428Z",
     "iopub.status.idle": "2022-09-14T12:20:13.193993Z",
     "shell.execute_reply": "2022-09-14T12:20:13.194414Z"
    },
    "papermill": {
     "duration": 0.037775,
     "end_time": "2022-09-14T12:20:13.194543",
     "exception": false,
     "start_time": "2022-09-14T12:20:13.156768",
     "status": "completed"
    },
    "tags": []
   },
   "outputs": [],
   "source": [
    "#hide\n",
    "# g.head()"
   ]
  },
  {
   "cell_type": "code",
   "execution_count": 33,
   "id": "limited-engine",
   "metadata": {
    "execution": {
     "iopub.execute_input": "2022-09-14T12:20:13.258224Z",
     "iopub.status.busy": "2022-09-14T12:20:13.257659Z",
     "iopub.status.idle": "2022-09-14T12:20:13.259949Z",
     "shell.execute_reply": "2022-09-14T12:20:13.260392Z"
    },
    "papermill": {
     "duration": 0.035945,
     "end_time": "2022-09-14T12:20:13.260508",
     "exception": false,
     "start_time": "2022-09-14T12:20:13.224563",
     "status": "completed"
    },
    "tags": []
   },
   "outputs": [],
   "source": [
    "# hide\n",
    "# g['date'] = g['date'].astype('datetime64[ns]')"
   ]
  },
  {
   "cell_type": "code",
   "execution_count": 34,
   "id": "sophisticated-supervisor",
   "metadata": {
    "execution": {
     "iopub.execute_input": "2022-09-14T12:20:13.324250Z",
     "iopub.status.busy": "2022-09-14T12:20:13.323679Z",
     "iopub.status.idle": "2022-09-14T12:20:13.326201Z",
     "shell.execute_reply": "2022-09-14T12:20:13.325737Z"
    },
    "papermill": {
     "duration": 0.035724,
     "end_time": "2022-09-14T12:20:13.326307",
     "exception": false,
     "start_time": "2022-09-14T12:20:13.290583",
     "status": "completed"
    },
    "tags": []
   },
   "outputs": [],
   "source": [
    "#hide\n",
    "# g['date'] = g.date.dt.dayofyear"
   ]
  },
  {
   "cell_type": "code",
   "execution_count": 35,
   "id": "inside-dubai",
   "metadata": {
    "execution": {
     "iopub.execute_input": "2022-09-14T12:20:13.390033Z",
     "iopub.status.busy": "2022-09-14T12:20:13.389378Z",
     "iopub.status.idle": "2022-09-14T12:20:13.391863Z",
     "shell.execute_reply": "2022-09-14T12:20:13.391231Z"
    },
    "papermill": {
     "duration": 0.035619,
     "end_time": "2022-09-14T12:20:13.391978",
     "exception": false,
     "start_time": "2022-09-14T12:20:13.356359",
     "status": "completed"
    },
    "tags": []
   },
   "outputs": [],
   "source": [
    "#hide\n",
    "# g = g.rename(columns= {'continent':'group','country':'name','cases':'value'})"
   ]
  },
  {
   "cell_type": "code",
   "execution_count": 36,
   "id": "fleet-motorcycle",
   "metadata": {
    "execution": {
     "iopub.execute_input": "2022-09-14T12:20:13.456255Z",
     "iopub.status.busy": "2022-09-14T12:20:13.455686Z",
     "iopub.status.idle": "2022-09-14T12:20:13.458218Z",
     "shell.execute_reply": "2022-09-14T12:20:13.457759Z"
    },
    "papermill": {
     "duration": 0.035815,
     "end_time": "2022-09-14T12:20:13.458318",
     "exception": false,
     "start_time": "2022-09-14T12:20:13.422503",
     "status": "completed"
    },
    "tags": []
   },
   "outputs": [],
   "source": [
    "#hide\n",
    "# cols = ['name','group','day','value']"
   ]
  },
  {
   "cell_type": "code",
   "execution_count": 37,
   "id": "continued-sleeping",
   "metadata": {
    "execution": {
     "iopub.execute_input": "2022-09-14T12:20:13.521729Z",
     "iopub.status.busy": "2022-09-14T12:20:13.521153Z",
     "iopub.status.idle": "2022-09-14T12:20:13.523329Z",
     "shell.execute_reply": "2022-09-14T12:20:13.523876Z"
    },
    "papermill": {
     "duration": 0.035653,
     "end_time": "2022-09-14T12:20:13.523991",
     "exception": false,
     "start_time": "2022-09-14T12:20:13.488338",
     "status": "completed"
    },
    "tags": []
   },
   "outputs": [],
   "source": [
    "#hide\n",
    "# g.rename(columns= {'date':'day'},inplace = True)"
   ]
  },
  {
   "cell_type": "code",
   "execution_count": 38,
   "id": "major-fight",
   "metadata": {
    "execution": {
     "iopub.execute_input": "2022-09-14T12:20:13.588275Z",
     "iopub.status.busy": "2022-09-14T12:20:13.587701Z",
     "iopub.status.idle": "2022-09-14T12:20:13.590417Z",
     "shell.execute_reply": "2022-09-14T12:20:13.589953Z"
    },
    "papermill": {
     "duration": 0.03629,
     "end_time": "2022-09-14T12:20:13.590520",
     "exception": false,
     "start_time": "2022-09-14T12:20:13.554230",
     "status": "completed"
    },
    "tags": []
   },
   "outputs": [],
   "source": [
    "#hide\n",
    "# g = g[cols]"
   ]
  },
  {
   "cell_type": "code",
   "execution_count": 39,
   "id": "structured-mobile",
   "metadata": {
    "execution": {
     "iopub.execute_input": "2022-09-14T12:20:13.654161Z",
     "iopub.status.busy": "2022-09-14T12:20:13.653503Z",
     "iopub.status.idle": "2022-09-14T12:20:13.655997Z",
     "shell.execute_reply": "2022-09-14T12:20:13.655359Z"
    },
    "papermill": {
     "duration": 0.035602,
     "end_time": "2022-09-14T12:20:13.656111",
     "exception": false,
     "start_time": "2022-09-14T12:20:13.620509",
     "status": "completed"
    },
    "tags": []
   },
   "outputs": [],
   "source": [
    "# #hide\n",
    "# g = g[g.group.notna()]"
   ]
  },
  {
   "cell_type": "code",
   "execution_count": 40,
   "id": "determined-closing",
   "metadata": {
    "execution": {
     "iopub.execute_input": "2022-09-14T12:20:13.720938Z",
     "iopub.status.busy": "2022-09-14T12:20:13.720298Z",
     "iopub.status.idle": "2022-09-14T12:20:13.722857Z",
     "shell.execute_reply": "2022-09-14T12:20:13.722294Z"
    },
    "papermill": {
     "duration": 0.036349,
     "end_time": "2022-09-14T12:20:13.722958",
     "exception": false,
     "start_time": "2022-09-14T12:20:13.686609",
     "status": "completed"
    },
    "tags": []
   },
   "outputs": [],
   "source": [
    "# #hide\n",
    "# colors = dict(zip(\n",
    "#     [\"Oceania\", \"Europe\", \"Asia\", \"South America\", \"Middle East\", \"North America\", \"Africa\"],\n",
    "#     [\"#adb0ff\", \"#ffb3ff\", \"#90d595\", \"#e48381\", \"#aafbff\", \"#f7bb5f\", \"#eafb50\"]\n",
    "# ))\n",
    "# group_lk = g.set_index('name')['group'].to_dict()"
   ]
  },
  {
   "cell_type": "code",
   "execution_count": null,
   "id": "gross-drinking",
   "metadata": {
    "papermill": {
     "duration": 0.030079,
     "end_time": "2022-09-14T12:20:13.783009",
     "exception": false,
     "start_time": "2022-09-14T12:20:13.752930",
     "status": "completed"
    },
    "tags": []
   },
   "outputs": [],
   "source": []
  },
  {
   "cell_type": "code",
   "execution_count": 41,
   "id": "subject-macintosh",
   "metadata": {
    "execution": {
     "iopub.execute_input": "2022-09-14T12:20:13.849005Z",
     "iopub.status.busy": "2022-09-14T12:20:13.848257Z",
     "iopub.status.idle": "2022-09-14T12:20:13.850858Z",
     "shell.execute_reply": "2022-09-14T12:20:13.850323Z"
    },
    "papermill": {
     "duration": 0.03774,
     "end_time": "2022-09-14T12:20:13.850977",
     "exception": false,
     "start_time": "2022-09-14T12:20:13.813237",
     "status": "completed"
    },
    "tags": []
   },
   "outputs": [],
   "source": [
    "# #hide\n",
    "# fig, ax = plt.subplots(figsize=(15, 8))\n",
    "\n",
    "# def draw_barchart(current_day):\n",
    "#     dff = g[g['day'].eq(current_day)].sort_values(by='value', ascending=True).tail(10)\n",
    "#     ax.clear()\n",
    "#     ax.barh(dff['name'], dff['value'], color=[colors[group_lk[x]] for x in dff['name']])\n",
    "#     dx = dff['value'].max() / 200\n",
    "    \n",
    "#     for i, (value, name) in enumerate(zip(dff['value'], dff['name'])):\n",
    "#         ax.text(value-dx, i,     name,           size=14, weight=600, ha='right', va='bottom')\n",
    "#         ax.text(value-dx, i-.25, group_lk[name], size=10, color='#444444', ha='right', va='baseline')\n",
    "#         ax.text(value+dx, i,     f'{value:,.0f}',  size=14, ha='left',  va='center')\n",
    "#     ax.text(1, 0.4, current_day, transform=ax.transAxes, color='#777777', size=46, ha='right', weight=800)\n",
    "#     ax.text(0, 1.06, 'Population (thousands)', transform=ax.transAxes, size=12, color='#777777')\n",
    "#     ax.xaxis.set_major_formatter(ticker.StrMethodFormatter('{x:,.0f}'))\n",
    "#     ax.xaxis.set_ticks_position('top')\n",
    "#     ax.tick_params(axis='x', colors='#777777', labelsize=12)\n",
    "#     ax.set_yticks([])\n",
    "#     ax.margins(0, 0.01)\n",
    "#     ax.grid(which='major', axis='x', linestyle='-')\n",
    "#     ax.set_axisbelow(True)\n",
    "    \n",
    "#     ax.text(0, 1.15, 'Coronavirus',\n",
    "#             transform=ax.transAxes, size=24, weight=600, ha='left', va='top')\n",
    "# #     ax.text(1, 0, 'by @pratapvardhan; credit @jburnmurdoch', transform=ax.transAxes, color='#777777', ha='right',\n",
    "# #             bbox=dict(facecolor='white', alpha=0.8, edgecolor='white'))\n",
    "#     plt.box(False)"
   ]
  },
  {
   "cell_type": "code",
   "execution_count": 42,
   "id": "sexual-wages",
   "metadata": {
    "execution": {
     "iopub.execute_input": "2022-09-14T12:20:13.914906Z",
     "iopub.status.busy": "2022-09-14T12:20:13.914244Z",
     "iopub.status.idle": "2022-09-14T12:20:13.917819Z",
     "shell.execute_reply": "2022-09-14T12:20:13.918329Z"
    },
    "papermill": {
     "duration": 0.037464,
     "end_time": "2022-09-14T12:20:13.918464",
     "exception": false,
     "start_time": "2022-09-14T12:20:13.881000",
     "status": "completed"
    },
    "tags": []
   },
   "outputs": [],
   "source": [
    "# #hide_input\n",
    "# fig, ax = plt.subplots(figsize=(15, 8))\n",
    "# animator = animation.FuncAnimation(fig, draw_barchart, frames=range(g.day.values.min(), g.day.values.max()))\n",
    "# HTML(animator.to_jshtml())\n",
    "# # or use animator.to_html5_video() or animator.save() "
   ]
  },
  {
   "cell_type": "code",
   "execution_count": null,
   "id": "australian-container",
   "metadata": {
    "papermill": {
     "duration": 0.030028,
     "end_time": "2022-09-14T12:20:13.979257",
     "exception": false,
     "start_time": "2022-09-14T12:20:13.949229",
     "status": "completed"
    },
    "tags": []
   },
   "outputs": [],
   "source": []
  },
  {
   "cell_type": "code",
   "execution_count": null,
   "id": "mediterranean-pontiac",
   "metadata": {
    "papermill": {
     "duration": 0.03014,
     "end_time": "2022-09-14T12:20:14.039372",
     "exception": false,
     "start_time": "2022-09-14T12:20:14.009232",
     "status": "completed"
    },
    "tags": []
   },
   "outputs": [],
   "source": []
  },
  {
   "cell_type": "code",
   "execution_count": null,
   "id": "aging-legislature",
   "metadata": {
    "papermill": {
     "duration": 0.029993,
     "end_time": "2022-09-14T12:20:14.099592",
     "exception": false,
     "start_time": "2022-09-14T12:20:14.069599",
     "status": "completed"
    },
    "tags": []
   },
   "outputs": [],
   "source": []
  }
 ],
 "metadata": {
  "kernelspec": {
   "display_name": "Python 3",
   "language": "python",
   "name": "python3"
  },
  "language_info": {
   "codemirror_mode": {
    "name": "ipython",
    "version": 3
   },
   "file_extension": ".py",
   "mimetype": "text/x-python",
   "name": "python",
   "nbconvert_exporter": "python",
   "pygments_lexer": "ipython3",
   "version": "3.6.15"
  },
  "papermill": {
   "duration": 6.06182,
   "end_time": "2022-09-14T12:20:14.447875",
   "environment_variables": {},
   "exception": null,
   "input_path": "2020-03-21-covid19exp.ipynb",
   "output_path": "2020-03-21-covid19exp.ipynb",
   "parameters": {},
   "start_time": "2022-09-14T12:20:08.386055",
   "version": "2.0.0"
  }
 },
 "nbformat": 4,
 "nbformat_minor": 5
}