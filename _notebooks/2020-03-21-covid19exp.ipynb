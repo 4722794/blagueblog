{
 "cells": [
  {
   "cell_type": "markdown",
   "id": "muslim-click",
   "metadata": {
    "papermill": {
     "duration": 0.042701,
     "end_time": "2021-07-07T12:10:15.559266",
     "exception": false,
     "start_time": "2021-07-07T12:10:15.516565",
     "status": "completed"
    },
    "tags": []
   },
   "source": [
    "# COVID-19 Case Race\n",
    "> A race chart to see rising cases around the world\n",
    "\n",
    "- author: Hargun Oberoi\n",
    "- image: images/covid-overview.png\n",
    "- hide: false\n",
    "- badges: false"
   ]
  },
  {
   "cell_type": "code",
   "execution_count": 1,
   "id": "proof-material",
   "metadata": {
    "execution": {
     "iopub.execute_input": "2021-07-07T12:10:15.646827Z",
     "iopub.status.busy": "2021-07-07T12:10:15.645977Z",
     "iopub.status.idle": "2021-07-07T12:10:16.040479Z",
     "shell.execute_reply": "2021-07-07T12:10:16.041144Z"
    },
    "papermill": {
     "duration": 0.445095,
     "end_time": "2021-07-07T12:10:16.041363",
     "exception": false,
     "start_time": "2021-07-07T12:10:15.596268",
     "status": "completed"
    },
    "tags": []
   },
   "outputs": [],
   "source": [
    "#hide\n",
    "import numpy as np\n",
    "import pandas as pd\n",
    "from jinja2 import Template\n",
    "from IPython.display import HTML"
   ]
  },
  {
   "cell_type": "code",
   "execution_count": 2,
   "id": "developed-terminology",
   "metadata": {
    "execution": {
     "iopub.execute_input": "2021-07-07T12:10:16.123167Z",
     "iopub.status.busy": "2021-07-07T12:10:16.122499Z",
     "iopub.status.idle": "2021-07-07T12:10:16.124498Z",
     "shell.execute_reply": "2021-07-07T12:10:16.124991Z"
    },
    "papermill": {
     "duration": 0.044992,
     "end_time": "2021-07-07T12:10:16.125155",
     "exception": false,
     "start_time": "2021-07-07T12:10:16.080163",
     "status": "completed"
    },
    "tags": []
   },
   "outputs": [],
   "source": [
    "#hide\n",
    "\n",
    "# FETCH\n",
    "base_url = 'https://raw.githubusercontent.com/pratapvardhan/notebooks/master/covid19/'\n",
    "paths = {\n",
    "    'mapping': base_url + 'mapping_countries.csv',\n",
    "    'overview': base_url + 'overview.tpl'\n",
    "}"
   ]
  },
  {
   "cell_type": "code",
   "execution_count": 3,
   "id": "dynamic-saver",
   "metadata": {
    "execution": {
     "iopub.execute_input": "2021-07-07T12:10:16.212901Z",
     "iopub.status.busy": "2021-07-07T12:10:16.212294Z",
     "iopub.status.idle": "2021-07-07T12:10:16.215316Z",
     "shell.execute_reply": "2021-07-07T12:10:16.215905Z"
    },
    "papermill": {
     "duration": 0.051124,
     "end_time": "2021-07-07T12:10:16.216031",
     "exception": false,
     "start_time": "2021-07-07T12:10:16.164907",
     "status": "completed"
    },
    "tags": []
   },
   "outputs": [
    {
     "data": {
      "text/plain": [
       "'https://raw.githubusercontent.com/pratapvardhan/notebooks/master/covid19/mapping_countries.csv'"
      ]
     },
     "execution_count": 3,
     "metadata": {},
     "output_type": "execute_result"
    }
   ],
   "source": [
    "#hide\n",
    "paths['mapping']"
   ]
  },
  {
   "cell_type": "code",
   "execution_count": 4,
   "id": "urban-software",
   "metadata": {
    "execution": {
     "iopub.execute_input": "2021-07-07T12:10:16.301660Z",
     "iopub.status.busy": "2021-07-07T12:10:16.300964Z",
     "iopub.status.idle": "2021-07-07T12:10:16.303304Z",
     "shell.execute_reply": "2021-07-07T12:10:16.302688Z"
    },
    "papermill": {
     "duration": 0.047856,
     "end_time": "2021-07-07T12:10:16.303457",
     "exception": false,
     "start_time": "2021-07-07T12:10:16.255601",
     "status": "completed"
    },
    "tags": []
   },
   "outputs": [],
   "source": [
    "#hide\n",
    "def get_mappings(url):\n",
    "    df = pd.read_csv(url)\n",
    "    return {\n",
    "        'df': df,\n",
    "        'replace.country': dict(df.dropna(subset=['Name']).set_index('Country')['Name']),\n",
    "        'map.continent': dict(df.set_index('Name')['Continent'])\n",
    "    }"
   ]
  },
  {
   "cell_type": "code",
   "execution_count": 5,
   "id": "intimate-machinery",
   "metadata": {
    "execution": {
     "iopub.execute_input": "2021-07-07T12:10:16.382769Z",
     "iopub.status.busy": "2021-07-07T12:10:16.382204Z",
     "iopub.status.idle": "2021-07-07T12:10:16.431208Z",
     "shell.execute_reply": "2021-07-07T12:10:16.431681Z"
    },
    "papermill": {
     "duration": 0.090251,
     "end_time": "2021-07-07T12:10:16.431867",
     "exception": false,
     "start_time": "2021-07-07T12:10:16.341616",
     "status": "completed"
    },
    "tags": []
   },
   "outputs": [],
   "source": [
    "#hide\n",
    "mapping = get_mappings(paths['mapping'])"
   ]
  },
  {
   "cell_type": "code",
   "execution_count": 6,
   "id": "certified-tactics",
   "metadata": {
    "execution": {
     "iopub.execute_input": "2021-07-07T12:10:16.515637Z",
     "iopub.status.busy": "2021-07-07T12:10:16.515019Z",
     "iopub.status.idle": "2021-07-07T12:10:16.517024Z",
     "shell.execute_reply": "2021-07-07T12:10:16.517672Z"
    },
    "papermill": {
     "duration": 0.045058,
     "end_time": "2021-07-07T12:10:16.517810",
     "exception": false,
     "start_time": "2021-07-07T12:10:16.472752",
     "status": "completed"
    },
    "tags": []
   },
   "outputs": [],
   "source": [
    "#hide\n",
    "def get_template(path):\n",
    "    from urllib.parse import urlparse\n",
    "    if bool(urlparse(path).netloc):\n",
    "        from urllib.request import urlopen\n",
    "        return urlopen(path).read().decode('utf8')\n",
    "    return open(path).read()"
   ]
  },
  {
   "cell_type": "code",
   "execution_count": 7,
   "id": "realistic-blast",
   "metadata": {
    "execution": {
     "iopub.execute_input": "2021-07-07T12:10:16.602535Z",
     "iopub.status.busy": "2021-07-07T12:10:16.601706Z",
     "iopub.status.idle": "2021-07-07T12:10:16.604739Z",
     "shell.execute_reply": "2021-07-07T12:10:16.604093Z"
    },
    "papermill": {
     "duration": 0.046634,
     "end_time": "2021-07-07T12:10:16.604869",
     "exception": false,
     "start_time": "2021-07-07T12:10:16.558235",
     "status": "completed"
    },
    "tags": []
   },
   "outputs": [],
   "source": [
    "#hide\n",
    "def get_frame(name):\n",
    "    url = (\n",
    "        'https://raw.githubusercontent.com/CSSEGISandData/COVID-19/master/csse_covid_19_data/'\n",
    "        f'csse_covid_19_time_series/time_series_covid19_{name}_global.csv')\n",
    "    df = pd.read_csv(url)\n",
    "    # rename countries\n",
    "    df['Country/Region'] = df['Country/Region'].replace(mapping['replace.country'])\n",
    "    return df"
   ]
  },
  {
   "cell_type": "code",
   "execution_count": 8,
   "id": "affiliated-characterization",
   "metadata": {
    "execution": {
     "iopub.execute_input": "2021-07-07T12:10:16.692065Z",
     "iopub.status.busy": "2021-07-07T12:10:16.691386Z",
     "iopub.status.idle": "2021-07-07T12:10:16.693836Z",
     "shell.execute_reply": "2021-07-07T12:10:16.694423Z"
    },
    "papermill": {
     "duration": 0.048327,
     "end_time": "2021-07-07T12:10:16.694578",
     "exception": false,
     "start_time": "2021-07-07T12:10:16.646251",
     "status": "completed"
    },
    "tags": []
   },
   "outputs": [],
   "source": [
    "#hide\n",
    "def get_dates(df):\n",
    "    dt_cols = df.columns[~df.columns.isin(['Province/State', 'Country/Region', 'Lat', 'Long'])]\n",
    "    LAST_DATE_I = -1\n",
    "    # sometimes last column may be empty, then go backwards\n",
    "    for i in range(-1, -len(dt_cols), -1):\n",
    "        if not df[dt_cols[i]].fillna(0).eq(0).all():\n",
    "            LAST_DATE_I = i\n",
    "            break\n",
    "    return LAST_DATE_I, dt_cols"
   ]
  },
  {
   "cell_type": "code",
   "execution_count": 9,
   "id": "recent-optimization",
   "metadata": {
    "execution": {
     "iopub.execute_input": "2021-07-07T12:10:16.780027Z",
     "iopub.status.busy": "2021-07-07T12:10:16.779297Z",
     "iopub.status.idle": "2021-07-07T12:10:17.184818Z",
     "shell.execute_reply": "2021-07-07T12:10:17.183736Z"
    },
    "papermill": {
     "duration": 0.449913,
     "end_time": "2021-07-07T12:10:17.184954",
     "exception": false,
     "start_time": "2021-07-07T12:10:16.735041",
     "status": "completed"
    },
    "tags": []
   },
   "outputs": [],
   "source": [
    "#hide\n",
    "COL_REGION = 'Country/Region'\n",
    "# Confirmed, Recovered, Deaths\n",
    "df = get_frame('confirmed')\n",
    "# dft_: timeseries, dfc_: today country agg\n",
    "dft_cases = df\n",
    "dft_deaths = get_frame('deaths')\n",
    "dft_recovered = get_frame('recovered')\n",
    "LAST_DATE_I, dt_cols = get_dates(df)"
   ]
  },
  {
   "cell_type": "code",
   "execution_count": 10,
   "id": "absolute-copper",
   "metadata": {
    "execution": {
     "iopub.execute_input": "2021-07-07T12:10:17.268758Z",
     "iopub.status.busy": "2021-07-07T12:10:17.268119Z",
     "iopub.status.idle": "2021-07-07T12:10:17.270528Z",
     "shell.execute_reply": "2021-07-07T12:10:17.269884Z"
    },
    "papermill": {
     "duration": 0.0474,
     "end_time": "2021-07-07T12:10:17.270658",
     "exception": false,
     "start_time": "2021-07-07T12:10:17.223258",
     "status": "completed"
    },
    "tags": []
   },
   "outputs": [],
   "source": [
    "#hide\n",
    "LAST_DATE_I, dt_cols = get_dates(df)\n",
    "dt_today =dt_cols[LAST_DATE_I]\n",
    "# dt_5day = dt_cols[LAST_DATE_I - 5]\n",
    "dt_yday = dt_cols[LAST_DATE_I - 1]"
   ]
  },
  {
   "cell_type": "code",
   "execution_count": 11,
   "id": "restricted-sheriff",
   "metadata": {
    "execution": {
     "iopub.execute_input": "2021-07-07T12:10:17.360425Z",
     "iopub.status.busy": "2021-07-07T12:10:17.359747Z",
     "iopub.status.idle": "2021-07-07T12:10:17.366542Z",
     "shell.execute_reply": "2021-07-07T12:10:17.364391Z"
    },
    "papermill": {
     "duration": 0.057614,
     "end_time": "2021-07-07T12:10:17.366695",
     "exception": false,
     "start_time": "2021-07-07T12:10:17.309081",
     "status": "completed"
    },
    "tags": []
   },
   "outputs": [],
   "source": [
    "#hide\n",
    "dfc_cases = dft_cases.groupby(COL_REGION)[dt_today].sum()\n",
    "dfc_deaths = dft_deaths.groupby(COL_REGION)[dt_today].sum()\n",
    "# dfp_cases = dft_cases.groupby(COL_REGION)[dt_5day].sum()\n",
    "# dfp_deaths = dft_deaths.groupby(COL_REGION)[dt_5day].sum()\n",
    "dfp_cases = dft_cases.groupby(COL_REGION)[dt_yday].sum()\n",
    "dfp_deaths = dft_deaths.groupby(COL_REGION)[dt_yday].sum()"
   ]
  },
  {
   "cell_type": "code",
   "execution_count": 12,
   "id": "deluxe-hepatitis",
   "metadata": {
    "execution": {
     "iopub.execute_input": "2021-07-07T12:10:17.459251Z",
     "iopub.status.busy": "2021-07-07T12:10:17.456859Z",
     "iopub.status.idle": "2021-07-07T12:10:17.461217Z",
     "shell.execute_reply": "2021-07-07T12:10:17.461858Z"
    },
    "papermill": {
     "duration": 0.056657,
     "end_time": "2021-07-07T12:10:17.462019",
     "exception": false,
     "start_time": "2021-07-07T12:10:17.405362",
     "status": "completed"
    },
    "tags": []
   },
   "outputs": [],
   "source": [
    "#hide\n",
    "df_table = (pd.DataFrame(dict(Cases = dfc_cases, Deaths = dfc_deaths, PCases = dfp_cases, PDeaths = dfp_deaths))\n",
    "            .sort_values(by = ['Cases','Deaths'], ascending = [False, False])\n",
    "            .reset_index())"
   ]
  },
  {
   "cell_type": "code",
   "execution_count": 13,
   "id": "educational-chancellor",
   "metadata": {
    "execution": {
     "iopub.execute_input": "2021-07-07T12:10:17.573415Z",
     "iopub.status.busy": "2021-07-07T12:10:17.568006Z",
     "iopub.status.idle": "2021-07-07T12:10:17.576692Z",
     "shell.execute_reply": "2021-07-07T12:10:17.577323Z"
    },
    "papermill": {
     "duration": 0.071336,
     "end_time": "2021-07-07T12:10:17.577457",
     "exception": false,
     "start_time": "2021-07-07T12:10:17.506121",
     "status": "completed"
    },
    "tags": []
   },
   "outputs": [
    {
     "data": {
      "text/html": [
       "<div>\n",
       "<style scoped>\n",
       "    .dataframe tbody tr th:only-of-type {\n",
       "        vertical-align: middle;\n",
       "    }\n",
       "\n",
       "    .dataframe tbody tr th {\n",
       "        vertical-align: top;\n",
       "    }\n",
       "\n",
       "    .dataframe thead th {\n",
       "        text-align: right;\n",
       "    }\n",
       "</style>\n",
       "<table border=\"1\" class=\"dataframe\">\n",
       "  <thead>\n",
       "    <tr style=\"text-align: right;\">\n",
       "      <th></th>\n",
       "      <th>Country/Region</th>\n",
       "      <th>Cases</th>\n",
       "      <th>Deaths</th>\n",
       "      <th>PCases</th>\n",
       "      <th>PDeaths</th>\n",
       "      <th>Cases (+)</th>\n",
       "      <th>Deaths (+)</th>\n",
       "      <th>Fatality Rate</th>\n",
       "      <th>Continent</th>\n",
       "    </tr>\n",
       "  </thead>\n",
       "  <tbody>\n",
       "    <tr>\n",
       "      <th>0</th>\n",
       "      <td>US</td>\n",
       "      <td>33747128</td>\n",
       "      <td>605905</td>\n",
       "      <td>33723289</td>\n",
       "      <td>605567</td>\n",
       "      <td>23839</td>\n",
       "      <td>338</td>\n",
       "      <td>1.80</td>\n",
       "      <td>North America</td>\n",
       "    </tr>\n",
       "    <tr>\n",
       "      <th>1</th>\n",
       "      <td>India</td>\n",
       "      <td>30663665</td>\n",
       "      <td>404211</td>\n",
       "      <td>30619932</td>\n",
       "      <td>403281</td>\n",
       "      <td>43733</td>\n",
       "      <td>930</td>\n",
       "      <td>1.32</td>\n",
       "      <td>Asia</td>\n",
       "    </tr>\n",
       "    <tr>\n",
       "      <th>2</th>\n",
       "      <td>Brazil</td>\n",
       "      <td>18855015</td>\n",
       "      <td>526892</td>\n",
       "      <td>18792511</td>\n",
       "      <td>525112</td>\n",
       "      <td>62504</td>\n",
       "      <td>1780</td>\n",
       "      <td>2.79</td>\n",
       "      <td>South America</td>\n",
       "    </tr>\n",
       "    <tr>\n",
       "      <th>3</th>\n",
       "      <td>France</td>\n",
       "      <td>5852599</td>\n",
       "      <td>111420</td>\n",
       "      <td>5849011</td>\n",
       "      <td>111385</td>\n",
       "      <td>3588</td>\n",
       "      <td>35</td>\n",
       "      <td>1.90</td>\n",
       "      <td>Europe</td>\n",
       "    </tr>\n",
       "    <tr>\n",
       "      <th>4</th>\n",
       "      <td>Russia</td>\n",
       "      <td>5591030</td>\n",
       "      <td>137005</td>\n",
       "      <td>5568104</td>\n",
       "      <td>136279</td>\n",
       "      <td>22926</td>\n",
       "      <td>726</td>\n",
       "      <td>2.45</td>\n",
       "      <td>Europe</td>\n",
       "    </tr>\n",
       "  </tbody>\n",
       "</table>\n",
       "</div>"
      ],
      "text/plain": [
       "  Country/Region     Cases  Deaths    PCases  PDeaths  Cases (+)  Deaths (+)  \\\n",
       "0             US  33747128  605905  33723289   605567      23839         338   \n",
       "1          India  30663665  404211  30619932   403281      43733         930   \n",
       "2         Brazil  18855015  526892  18792511   525112      62504        1780   \n",
       "3         France   5852599  111420   5849011   111385       3588          35   \n",
       "4         Russia   5591030  137005   5568104   136279      22926         726   \n",
       "\n",
       "   Fatality Rate      Continent  \n",
       "0           1.80  North America  \n",
       "1           1.32           Asia  \n",
       "2           2.79  South America  \n",
       "3           1.90         Europe  \n",
       "4           2.45         Europe  "
      ]
     },
     "execution_count": 13,
     "metadata": {},
     "output_type": "execute_result"
    }
   ],
   "source": [
    "#hide\n",
    "for c in 'Cases, Deaths'.split(', '):\n",
    "    df_table[f'{c} (+)'] = (df_table[c] - df_table[f'P{c}']).clip(0)\n",
    "    #Clip ça veut dire, les chiffres negatif sont interdit\n",
    "df_table['Fatality Rate'] = (100* df_table['Deaths']/ df_table['Cases']).round(2)\n",
    "df_table['Continent'] = df_table['Country/Region'].map(mapping['map.continent'])\n",
    "df_table.head(5)"
   ]
  },
  {
   "cell_type": "code",
   "execution_count": 14,
   "id": "aboriginal-bulgaria",
   "metadata": {
    "execution": {
     "iopub.execute_input": "2021-07-07T12:10:17.659487Z",
     "iopub.status.busy": "2021-07-07T12:10:17.658922Z",
     "iopub.status.idle": "2021-07-07T12:10:17.661472Z",
     "shell.execute_reply": "2021-07-07T12:10:17.660879Z"
    },
    "papermill": {
     "duration": 0.046417,
     "end_time": "2021-07-07T12:10:17.661608",
     "exception": false,
     "start_time": "2021-07-07T12:10:17.615191",
     "status": "completed"
    },
    "tags": []
   },
   "outputs": [],
   "source": [
    "#hide\n",
    "#delete problematic countries from table\n",
    "df_table = df_table[~df_table['Country/Region'].isin(['Cape Verde', 'Cruise Ship', 'Kosovo'])]"
   ]
  },
  {
   "cell_type": "code",
   "execution_count": 15,
   "id": "fantastic-effect",
   "metadata": {
    "execution": {
     "iopub.execute_input": "2021-07-07T12:10:17.748575Z",
     "iopub.status.busy": "2021-07-07T12:10:17.747981Z",
     "iopub.status.idle": "2021-07-07T12:10:17.771131Z",
     "shell.execute_reply": "2021-07-07T12:10:17.771644Z"
    },
    "papermill": {
     "duration": 0.07249,
     "end_time": "2021-07-07T12:10:17.771778",
     "exception": false,
     "start_time": "2021-07-07T12:10:17.699288",
     "status": "completed"
    },
    "tags": []
   },
   "outputs": [
    {
     "data": {
      "text/html": [
       "<div>\n",
       "<style scoped>\n",
       "    .dataframe tbody tr th:only-of-type {\n",
       "        vertical-align: middle;\n",
       "    }\n",
       "\n",
       "    .dataframe tbody tr th {\n",
       "        vertical-align: top;\n",
       "    }\n",
       "\n",
       "    .dataframe thead th {\n",
       "        text-align: right;\n",
       "    }\n",
       "</style>\n",
       "<table border=\"1\" class=\"dataframe\">\n",
       "  <thead>\n",
       "    <tr style=\"text-align: right;\">\n",
       "      <th></th>\n",
       "      <th>Country/Region</th>\n",
       "      <th>Cases</th>\n",
       "      <th>Deaths</th>\n",
       "      <th>PCases</th>\n",
       "      <th>PDeaths</th>\n",
       "      <th>Cases (+)</th>\n",
       "      <th>Deaths (+)</th>\n",
       "      <th>Fatality Rate</th>\n",
       "      <th>Continent</th>\n",
       "    </tr>\n",
       "  </thead>\n",
       "  <tbody>\n",
       "    <tr>\n",
       "      <th>0</th>\n",
       "      <td>US</td>\n",
       "      <td>33747128</td>\n",
       "      <td>605905</td>\n",
       "      <td>33723289</td>\n",
       "      <td>605567</td>\n",
       "      <td>23839</td>\n",
       "      <td>338</td>\n",
       "      <td>1.8</td>\n",
       "      <td>North America</td>\n",
       "    </tr>\n",
       "    <tr>\n",
       "      <th>1</th>\n",
       "      <td>India</td>\n",
       "      <td>30663665</td>\n",
       "      <td>404211</td>\n",
       "      <td>30619932</td>\n",
       "      <td>403281</td>\n",
       "      <td>43733</td>\n",
       "      <td>930</td>\n",
       "      <td>1.3</td>\n",
       "      <td>Asia</td>\n",
       "    </tr>\n",
       "    <tr>\n",
       "      <th>2</th>\n",
       "      <td>Brazil</td>\n",
       "      <td>18855015</td>\n",
       "      <td>526892</td>\n",
       "      <td>18792511</td>\n",
       "      <td>525112</td>\n",
       "      <td>62504</td>\n",
       "      <td>1780</td>\n",
       "      <td>2.8</td>\n",
       "      <td>South America</td>\n",
       "    </tr>\n",
       "    <tr>\n",
       "      <th>3</th>\n",
       "      <td>France</td>\n",
       "      <td>5852599</td>\n",
       "      <td>111420</td>\n",
       "      <td>5849011</td>\n",
       "      <td>111385</td>\n",
       "      <td>3588</td>\n",
       "      <td>35</td>\n",
       "      <td>1.9</td>\n",
       "      <td>Europe</td>\n",
       "    </tr>\n",
       "    <tr>\n",
       "      <th>4</th>\n",
       "      <td>Russia</td>\n",
       "      <td>5591030</td>\n",
       "      <td>137005</td>\n",
       "      <td>5568104</td>\n",
       "      <td>136279</td>\n",
       "      <td>22926</td>\n",
       "      <td>726</td>\n",
       "      <td>2.5</td>\n",
       "      <td>Europe</td>\n",
       "    </tr>\n",
       "  </tbody>\n",
       "</table>\n",
       "</div>"
      ],
      "text/plain": [
       "  Country/Region     Cases  Deaths    PCases  PDeaths  Cases (+)  Deaths (+)  \\\n",
       "0             US  33747128  605905  33723289   605567      23839         338   \n",
       "1          India  30663665  404211  30619932   403281      43733         930   \n",
       "2         Brazil  18855015  526892  18792511   525112      62504        1780   \n",
       "3         France   5852599  111420   5849011   111385       3588          35   \n",
       "4         Russia   5591030  137005   5568104   136279      22926         726   \n",
       "\n",
       "   Fatality Rate      Continent  \n",
       "0            1.8  North America  \n",
       "1            1.3           Asia  \n",
       "2            2.8  South America  \n",
       "3            1.9         Europe  \n",
       "4            2.5         Europe  "
      ]
     },
     "execution_count": 15,
     "metadata": {},
     "output_type": "execute_result"
    }
   ],
   "source": [
    "#hide\n",
    "df_table = (pd.DataFrame(dict(Cases=dfc_cases, Deaths=dfc_deaths, PCases=dfp_cases, PDeaths=dfp_deaths))\n",
    "             .sort_values(by=['Cases', 'Deaths'], ascending=[False, False])\n",
    "             .reset_index())\n",
    "df_table.rename(columns={'index': 'Country/Region'}, inplace=True)\n",
    "for c in 'Cases, Deaths'.split(', '):\n",
    "    df_table[f'{c} (+)'] = (df_table[c] - df_table[f'P{c}']).clip(0)  # DATA BUG\n",
    "df_table['Fatality Rate'] = (100 * df_table['Deaths'] / df_table['Cases']).round(1)\n",
    "df_table['Continent'] = df_table['Country/Region'].map(mapping['map.continent'])\n",
    "df_table.head(5)"
   ]
  },
  {
   "cell_type": "code",
   "execution_count": 16,
   "id": "fewer-occasion",
   "metadata": {
    "execution": {
     "iopub.execute_input": "2021-07-07T12:10:17.861905Z",
     "iopub.status.busy": "2021-07-07T12:10:17.861255Z",
     "iopub.status.idle": "2021-07-07T12:10:17.865105Z",
     "shell.execute_reply": "2021-07-07T12:10:17.864403Z"
    },
    "papermill": {
     "duration": 0.050504,
     "end_time": "2021-07-07T12:10:17.865316",
     "exception": false,
     "start_time": "2021-07-07T12:10:17.814812",
     "status": "completed"
    },
    "tags": []
   },
   "outputs": [],
   "source": [
    "#hide\n",
    "#delete problematic countries from table\n",
    "df_table = df_table[~df_table['Country/Region'].isin(['Cape Verde', 'Cruise Ship', 'Kosovo'])]"
   ]
  },
  {
   "cell_type": "code",
   "execution_count": 17,
   "id": "related-center",
   "metadata": {
    "execution": {
     "iopub.execute_input": "2021-07-07T12:10:17.950704Z",
     "iopub.status.busy": "2021-07-07T12:10:17.950057Z",
     "iopub.status.idle": "2021-07-07T12:10:17.965341Z",
     "shell.execute_reply": "2021-07-07T12:10:17.965897Z"
    },
    "papermill": {
     "duration": 0.063039,
     "end_time": "2021-07-07T12:10:17.966036",
     "exception": false,
     "start_time": "2021-07-07T12:10:17.902997",
     "status": "completed"
    },
    "tags": []
   },
   "outputs": [],
   "source": [
    "#hide\n",
    "metrics = [df_table.columns[index] for index in [1,2,5,6]]\n",
    "# s_china = df_table[df_table['Country/Region'].eq('China')][metrics].sum().add_prefix('China ')\n",
    "s_us = df_table[df_table['Country/Region'].eq('US')][metrics].sum().add_prefix('US ')\n",
    "s_eu = df_table[df_table['Continent'].eq('Europe')][metrics].sum().add_prefix('EU ')\n",
    "s_ind = df_table[df_table['Country/Region'].eq('India')][metrics].sum().add_prefix('India ')\n",
    "summary = {'updated': pd.to_datetime(dt_today), 'since': pd.to_datetime(dt_yday)}\n",
    "summary = {'updated': pd.to_datetime(dt_today), 'since': pd.to_datetime(dt_yday)}\n",
    "summary = {**summary, **df_table[metrics].sum(), **s_ind, **s_us, **s_eu}"
   ]
  },
  {
   "cell_type": "code",
   "execution_count": 18,
   "id": "engaging-syndrome",
   "metadata": {
    "execution": {
     "iopub.execute_input": "2021-07-07T12:10:18.053929Z",
     "iopub.status.busy": "2021-07-07T12:10:18.053004Z",
     "iopub.status.idle": "2021-07-07T12:10:18.066208Z",
     "shell.execute_reply": "2021-07-07T12:10:18.066768Z"
    },
    "papermill": {
     "duration": 0.059537,
     "end_time": "2021-07-07T12:10:18.066919",
     "exception": false,
     "start_time": "2021-07-07T12:10:18.007382",
     "status": "completed"
    },
    "tags": []
   },
   "outputs": [],
   "source": [
    "#hide\n",
    "dft_ct_new_cases = dft_cases.groupby(COL_REGION)[dt_cols].sum().diff(axis=1).fillna(0).astype(int)"
   ]
  },
  {
   "cell_type": "code",
   "execution_count": 19,
   "id": "neutral-assignment",
   "metadata": {
    "execution": {
     "iopub.execute_input": "2021-07-07T12:10:18.151095Z",
     "iopub.status.busy": "2021-07-07T12:10:18.150511Z",
     "iopub.status.idle": "2021-07-07T12:10:18.152449Z",
     "shell.execute_reply": "2021-07-07T12:10:18.152936Z"
    },
    "papermill": {
     "duration": 0.048279,
     "end_time": "2021-07-07T12:10:18.153099",
     "exception": false,
     "start_time": "2021-07-07T12:10:18.104820",
     "status": "completed"
    },
    "tags": []
   },
   "outputs": [],
   "source": [
    "#hide\n",
    "everydaycases = dft_ct_new_cases.cumsum(axis=1)"
   ]
  },
  {
   "cell_type": "code",
   "execution_count": 20,
   "id": "parliamentary-calgary",
   "metadata": {
    "execution": {
     "iopub.execute_input": "2021-07-07T12:10:18.232117Z",
     "iopub.status.busy": "2021-07-07T12:10:18.231392Z",
     "iopub.status.idle": "2021-07-07T12:10:18.852205Z",
     "shell.execute_reply": "2021-07-07T12:10:18.851694Z"
    },
    "papermill": {
     "duration": 0.662036,
     "end_time": "2021-07-07T12:10:18.852344",
     "exception": false,
     "start_time": "2021-07-07T12:10:18.190308",
     "status": "completed"
    },
    "tags": []
   },
   "outputs": [],
   "source": [
    "#hide\n",
    "import pandas as pd\n",
    "import matplotlib.pyplot as plt\n",
    "import matplotlib.ticker as ticker\n",
    "import matplotlib.animation as animation\n",
    "from IPython.display import HTML"
   ]
  },
  {
   "cell_type": "code",
   "execution_count": 21,
   "id": "lasting-extraction",
   "metadata": {
    "execution": {
     "iopub.execute_input": "2021-07-07T12:10:18.939555Z",
     "iopub.status.busy": "2021-07-07T12:10:18.938777Z",
     "iopub.status.idle": "2021-07-07T12:10:18.944749Z",
     "shell.execute_reply": "2021-07-07T12:10:18.945529Z"
    },
    "papermill": {
     "duration": 0.053795,
     "end_time": "2021-07-07T12:10:18.945674",
     "exception": false,
     "start_time": "2021-07-07T12:10:18.891879",
     "status": "completed"
    },
    "tags": []
   },
   "outputs": [],
   "source": [
    "#hide\n",
    "t = everydaycases.stack()"
   ]
  },
  {
   "cell_type": "code",
   "execution_count": 22,
   "id": "premier-sleeve",
   "metadata": {
    "execution": {
     "iopub.execute_input": "2021-07-07T12:10:19.037004Z",
     "iopub.status.busy": "2021-07-07T12:10:19.036349Z",
     "iopub.status.idle": "2021-07-07T12:10:19.044639Z",
     "shell.execute_reply": "2021-07-07T12:10:19.045156Z"
    },
    "papermill": {
     "duration": 0.057986,
     "end_time": "2021-07-07T12:10:19.045296",
     "exception": false,
     "start_time": "2021-07-07T12:10:18.987310",
     "status": "completed"
    },
    "tags": []
   },
   "outputs": [],
   "source": [
    "#hide\n",
    "g = t.reset_index(['Country/Region'])"
   ]
  },
  {
   "cell_type": "code",
   "execution_count": 23,
   "id": "distributed-pittsburgh",
   "metadata": {
    "execution": {
     "iopub.execute_input": "2021-07-07T12:10:19.137062Z",
     "iopub.status.busy": "2021-07-07T12:10:19.136462Z",
     "iopub.status.idle": "2021-07-07T12:10:19.138246Z",
     "shell.execute_reply": "2021-07-07T12:10:19.138802Z"
    },
    "papermill": {
     "duration": 0.049323,
     "end_time": "2021-07-07T12:10:19.138932",
     "exception": false,
     "start_time": "2021-07-07T12:10:19.089609",
     "status": "completed"
    },
    "tags": []
   },
   "outputs": [],
   "source": [
    "#hide\n",
    "g.index.name = 'date'"
   ]
  },
  {
   "cell_type": "code",
   "execution_count": 24,
   "id": "naked-donor",
   "metadata": {
    "execution": {
     "iopub.execute_input": "2021-07-07T12:10:19.223690Z",
     "iopub.status.busy": "2021-07-07T12:10:19.222679Z",
     "iopub.status.idle": "2021-07-07T12:10:19.224628Z",
     "shell.execute_reply": "2021-07-07T12:10:19.225327Z"
    },
    "papermill": {
     "duration": 0.046214,
     "end_time": "2021-07-07T12:10:19.225465",
     "exception": false,
     "start_time": "2021-07-07T12:10:19.179251",
     "status": "completed"
    },
    "tags": []
   },
   "outputs": [],
   "source": [
    "# #hide\n",
    "# g = g.reset_index(['date'])"
   ]
  },
  {
   "cell_type": "code",
   "execution_count": 25,
   "id": "incomplete-mustang",
   "metadata": {
    "execution": {
     "iopub.execute_input": "2021-07-07T12:10:19.307668Z",
     "iopub.status.busy": "2021-07-07T12:10:19.306868Z",
     "iopub.status.idle": "2021-07-07T12:10:19.309035Z",
     "shell.execute_reply": "2021-07-07T12:10:19.309789Z"
    },
    "papermill": {
     "duration": 0.045,
     "end_time": "2021-07-07T12:10:19.309969",
     "exception": false,
     "start_time": "2021-07-07T12:10:19.264969",
     "status": "completed"
    },
    "tags": []
   },
   "outputs": [],
   "source": [
    "#hide\n",
    "# g.head()"
   ]
  },
  {
   "cell_type": "code",
   "execution_count": 26,
   "id": "specific-kruger",
   "metadata": {
    "execution": {
     "iopub.execute_input": "2021-07-07T12:10:19.392407Z",
     "iopub.status.busy": "2021-07-07T12:10:19.391844Z",
     "iopub.status.idle": "2021-07-07T12:10:19.393556Z",
     "shell.execute_reply": "2021-07-07T12:10:19.394001Z"
    },
    "papermill": {
     "duration": 0.046049,
     "end_time": "2021-07-07T12:10:19.394129",
     "exception": false,
     "start_time": "2021-07-07T12:10:19.348080",
     "status": "completed"
    },
    "tags": []
   },
   "outputs": [],
   "source": [
    "#hide\n",
    "# g.columns = ['date','country','cases']"
   ]
  },
  {
   "cell_type": "code",
   "execution_count": 27,
   "id": "tender-conversion",
   "metadata": {
    "execution": {
     "iopub.execute_input": "2021-07-07T12:10:19.475659Z",
     "iopub.status.busy": "2021-07-07T12:10:19.474897Z",
     "iopub.status.idle": "2021-07-07T12:10:19.477729Z",
     "shell.execute_reply": "2021-07-07T12:10:19.477239Z"
    },
    "papermill": {
     "duration": 0.047043,
     "end_time": "2021-07-07T12:10:19.477842",
     "exception": false,
     "start_time": "2021-07-07T12:10:19.430799",
     "status": "completed"
    },
    "tags": []
   },
   "outputs": [],
   "source": [
    "#hide\n",
    "# g['continent'] = g.country"
   ]
  },
  {
   "cell_type": "code",
   "execution_count": 28,
   "id": "substantial-wilderness",
   "metadata": {
    "execution": {
     "iopub.execute_input": "2021-07-07T12:10:19.559385Z",
     "iopub.status.busy": "2021-07-07T12:10:19.556498Z",
     "iopub.status.idle": "2021-07-07T12:10:19.560107Z",
     "shell.execute_reply": "2021-07-07T12:10:19.560608Z"
    },
    "papermill": {
     "duration": 0.046713,
     "end_time": "2021-07-07T12:10:19.560758",
     "exception": false,
     "start_time": "2021-07-07T12:10:19.514045",
     "status": "completed"
    },
    "tags": []
   },
   "outputs": [],
   "source": [
    "#hide\n",
    "# cols = list(g.columns.values)"
   ]
  },
  {
   "cell_type": "code",
   "execution_count": 29,
   "id": "solved-farming",
   "metadata": {
    "execution": {
     "iopub.execute_input": "2021-07-07T12:10:19.640303Z",
     "iopub.status.busy": "2021-07-07T12:10:19.639707Z",
     "iopub.status.idle": "2021-07-07T12:10:19.642196Z",
     "shell.execute_reply": "2021-07-07T12:10:19.641702Z"
    },
    "papermill": {
     "duration": 0.043438,
     "end_time": "2021-07-07T12:10:19.642305",
     "exception": false,
     "start_time": "2021-07-07T12:10:19.598867",
     "status": "completed"
    },
    "tags": []
   },
   "outputs": [],
   "source": [
    "#hide\n",
    "# cols.insert(0, cols.pop())"
   ]
  },
  {
   "cell_type": "code",
   "execution_count": 30,
   "id": "executed-adoption",
   "metadata": {
    "execution": {
     "iopub.execute_input": "2021-07-07T12:10:19.734124Z",
     "iopub.status.busy": "2021-07-07T12:10:19.733529Z",
     "iopub.status.idle": "2021-07-07T12:10:19.735916Z",
     "shell.execute_reply": "2021-07-07T12:10:19.735322Z"
    },
    "papermill": {
     "duration": 0.053944,
     "end_time": "2021-07-07T12:10:19.736085",
     "exception": false,
     "start_time": "2021-07-07T12:10:19.682141",
     "status": "completed"
    },
    "tags": []
   },
   "outputs": [],
   "source": [
    "#hide\n",
    "# g = g[cols]"
   ]
  },
  {
   "cell_type": "code",
   "execution_count": 31,
   "id": "subject-dublin",
   "metadata": {
    "execution": {
     "iopub.execute_input": "2021-07-07T12:10:19.822894Z",
     "iopub.status.busy": "2021-07-07T12:10:19.822191Z",
     "iopub.status.idle": "2021-07-07T12:10:19.824925Z",
     "shell.execute_reply": "2021-07-07T12:10:19.824350Z"
    },
    "papermill": {
     "duration": 0.046707,
     "end_time": "2021-07-07T12:10:19.825077",
     "exception": false,
     "start_time": "2021-07-07T12:10:19.778370",
     "status": "completed"
    },
    "tags": []
   },
   "outputs": [],
   "source": [
    "#hide\n",
    "# g['continent'] = g['continent'].map(mapping['map.continent'])"
   ]
  },
  {
   "cell_type": "code",
   "execution_count": 32,
   "id": "freelance-scout",
   "metadata": {
    "execution": {
     "iopub.execute_input": "2021-07-07T12:10:19.914649Z",
     "iopub.status.busy": "2021-07-07T12:10:19.913998Z",
     "iopub.status.idle": "2021-07-07T12:10:19.916152Z",
     "shell.execute_reply": "2021-07-07T12:10:19.916666Z"
    },
    "papermill": {
     "duration": 0.046861,
     "end_time": "2021-07-07T12:10:19.916841",
     "exception": false,
     "start_time": "2021-07-07T12:10:19.869980",
     "status": "completed"
    },
    "tags": []
   },
   "outputs": [],
   "source": [
    "#hide\n",
    "# g.head()"
   ]
  },
  {
   "cell_type": "code",
   "execution_count": 33,
   "id": "limited-engine",
   "metadata": {
    "execution": {
     "iopub.execute_input": "2021-07-07T12:10:20.004050Z",
     "iopub.status.busy": "2021-07-07T12:10:20.003169Z",
     "iopub.status.idle": "2021-07-07T12:10:20.005423Z",
     "shell.execute_reply": "2021-07-07T12:10:20.006013Z"
    },
    "papermill": {
     "duration": 0.04621,
     "end_time": "2021-07-07T12:10:20.006177",
     "exception": false,
     "start_time": "2021-07-07T12:10:19.959967",
     "status": "completed"
    },
    "tags": []
   },
   "outputs": [],
   "source": [
    "# hide\n",
    "# g['date'] = g['date'].astype('datetime64[ns]')"
   ]
  },
  {
   "cell_type": "code",
   "execution_count": 34,
   "id": "sophisticated-supervisor",
   "metadata": {
    "execution": {
     "iopub.execute_input": "2021-07-07T12:10:20.092156Z",
     "iopub.status.busy": "2021-07-07T12:10:20.091544Z",
     "iopub.status.idle": "2021-07-07T12:10:20.093552Z",
     "shell.execute_reply": "2021-07-07T12:10:20.094099Z"
    },
    "papermill": {
     "duration": 0.046351,
     "end_time": "2021-07-07T12:10:20.094234",
     "exception": false,
     "start_time": "2021-07-07T12:10:20.047883",
     "status": "completed"
    },
    "tags": []
   },
   "outputs": [],
   "source": [
    "#hide\n",
    "# g['date'] = g.date.dt.dayofyear"
   ]
  },
  {
   "cell_type": "code",
   "execution_count": 35,
   "id": "inside-dubai",
   "metadata": {
    "execution": {
     "iopub.execute_input": "2021-07-07T12:10:20.182053Z",
     "iopub.status.busy": "2021-07-07T12:10:20.181455Z",
     "iopub.status.idle": "2021-07-07T12:10:20.183399Z",
     "shell.execute_reply": "2021-07-07T12:10:20.183891Z"
    },
    "papermill": {
     "duration": 0.046897,
     "end_time": "2021-07-07T12:10:20.184026",
     "exception": false,
     "start_time": "2021-07-07T12:10:20.137129",
     "status": "completed"
    },
    "tags": []
   },
   "outputs": [],
   "source": [
    "#hide\n",
    "# g = g.rename(columns= {'continent':'group','country':'name','cases':'value'})"
   ]
  },
  {
   "cell_type": "code",
   "execution_count": 36,
   "id": "fleet-motorcycle",
   "metadata": {
    "execution": {
     "iopub.execute_input": "2021-07-07T12:10:20.264639Z",
     "iopub.status.busy": "2021-07-07T12:10:20.263934Z",
     "iopub.status.idle": "2021-07-07T12:10:20.267666Z",
     "shell.execute_reply": "2021-07-07T12:10:20.268149Z"
    },
    "papermill": {
     "duration": 0.046582,
     "end_time": "2021-07-07T12:10:20.268300",
     "exception": false,
     "start_time": "2021-07-07T12:10:20.221718",
     "status": "completed"
    },
    "tags": []
   },
   "outputs": [],
   "source": [
    "#hide\n",
    "# cols = ['name','group','day','value']"
   ]
  },
  {
   "cell_type": "code",
   "execution_count": 37,
   "id": "continued-sleeping",
   "metadata": {
    "execution": {
     "iopub.execute_input": "2021-07-07T12:10:20.350639Z",
     "iopub.status.busy": "2021-07-07T12:10:20.349928Z",
     "iopub.status.idle": "2021-07-07T12:10:20.352457Z",
     "shell.execute_reply": "2021-07-07T12:10:20.351929Z"
    },
    "papermill": {
     "duration": 0.044154,
     "end_time": "2021-07-07T12:10:20.352567",
     "exception": false,
     "start_time": "2021-07-07T12:10:20.308413",
     "status": "completed"
    },
    "tags": []
   },
   "outputs": [],
   "source": [
    "#hide\n",
    "# g.rename(columns= {'date':'day'},inplace = True)"
   ]
  },
  {
   "cell_type": "code",
   "execution_count": 38,
   "id": "major-fight",
   "metadata": {
    "execution": {
     "iopub.execute_input": "2021-07-07T12:10:20.436799Z",
     "iopub.status.busy": "2021-07-07T12:10:20.436205Z",
     "iopub.status.idle": "2021-07-07T12:10:20.439108Z",
     "shell.execute_reply": "2021-07-07T12:10:20.438614Z"
    },
    "papermill": {
     "duration": 0.044523,
     "end_time": "2021-07-07T12:10:20.439225",
     "exception": false,
     "start_time": "2021-07-07T12:10:20.394702",
     "status": "completed"
    },
    "tags": []
   },
   "outputs": [],
   "source": [
    "#hide\n",
    "# g = g[cols]"
   ]
  },
  {
   "cell_type": "code",
   "execution_count": 39,
   "id": "structured-mobile",
   "metadata": {
    "execution": {
     "iopub.execute_input": "2021-07-07T12:10:20.519978Z",
     "iopub.status.busy": "2021-07-07T12:10:20.519315Z",
     "iopub.status.idle": "2021-07-07T12:10:20.521959Z",
     "shell.execute_reply": "2021-07-07T12:10:20.521479Z"
    },
    "papermill": {
     "duration": 0.044861,
     "end_time": "2021-07-07T12:10:20.522108",
     "exception": false,
     "start_time": "2021-07-07T12:10:20.477247",
     "status": "completed"
    },
    "tags": []
   },
   "outputs": [],
   "source": [
    "# #hide\n",
    "# g = g[g.group.notna()]"
   ]
  },
  {
   "cell_type": "code",
   "execution_count": 40,
   "id": "determined-closing",
   "metadata": {
    "execution": {
     "iopub.execute_input": "2021-07-07T12:10:20.618282Z",
     "iopub.status.busy": "2021-07-07T12:10:20.617488Z",
     "iopub.status.idle": "2021-07-07T12:10:20.619132Z",
     "shell.execute_reply": "2021-07-07T12:10:20.619991Z"
    },
    "papermill": {
     "duration": 0.04926,
     "end_time": "2021-07-07T12:10:20.620205",
     "exception": false,
     "start_time": "2021-07-07T12:10:20.570945",
     "status": "completed"
    },
    "tags": []
   },
   "outputs": [],
   "source": [
    "# #hide\n",
    "# colors = dict(zip(\n",
    "#     [\"Oceania\", \"Europe\", \"Asia\", \"South America\", \"Middle East\", \"North America\", \"Africa\"],\n",
    "#     [\"#adb0ff\", \"#ffb3ff\", \"#90d595\", \"#e48381\", \"#aafbff\", \"#f7bb5f\", \"#eafb50\"]\n",
    "# ))\n",
    "# group_lk = g.set_index('name')['group'].to_dict()"
   ]
  },
  {
   "cell_type": "code",
   "execution_count": null,
   "id": "gross-drinking",
   "metadata": {
    "papermill": {
     "duration": 0.040806,
     "end_time": "2021-07-07T12:10:20.701363",
     "exception": false,
     "start_time": "2021-07-07T12:10:20.660557",
     "status": "completed"
    },
    "tags": []
   },
   "outputs": [],
   "source": []
  },
  {
   "cell_type": "code",
   "execution_count": 41,
   "id": "subject-macintosh",
   "metadata": {
    "execution": {
     "iopub.execute_input": "2021-07-07T12:10:20.783064Z",
     "iopub.status.busy": "2021-07-07T12:10:20.782460Z",
     "iopub.status.idle": "2021-07-07T12:10:20.785031Z",
     "shell.execute_reply": "2021-07-07T12:10:20.784456Z"
    },
    "papermill": {
     "duration": 0.045821,
     "end_time": "2021-07-07T12:10:20.785171",
     "exception": false,
     "start_time": "2021-07-07T12:10:20.739350",
     "status": "completed"
    },
    "tags": []
   },
   "outputs": [],
   "source": [
    "# #hide\n",
    "# fig, ax = plt.subplots(figsize=(15, 8))\n",
    "\n",
    "# def draw_barchart(current_day):\n",
    "#     dff = g[g['day'].eq(current_day)].sort_values(by='value', ascending=True).tail(10)\n",
    "#     ax.clear()\n",
    "#     ax.barh(dff['name'], dff['value'], color=[colors[group_lk[x]] for x in dff['name']])\n",
    "#     dx = dff['value'].max() / 200\n",
    "    \n",
    "#     for i, (value, name) in enumerate(zip(dff['value'], dff['name'])):\n",
    "#         ax.text(value-dx, i,     name,           size=14, weight=600, ha='right', va='bottom')\n",
    "#         ax.text(value-dx, i-.25, group_lk[name], size=10, color='#444444', ha='right', va='baseline')\n",
    "#         ax.text(value+dx, i,     f'{value:,.0f}',  size=14, ha='left',  va='center')\n",
    "#     ax.text(1, 0.4, current_day, transform=ax.transAxes, color='#777777', size=46, ha='right', weight=800)\n",
    "#     ax.text(0, 1.06, 'Population (thousands)', transform=ax.transAxes, size=12, color='#777777')\n",
    "#     ax.xaxis.set_major_formatter(ticker.StrMethodFormatter('{x:,.0f}'))\n",
    "#     ax.xaxis.set_ticks_position('top')\n",
    "#     ax.tick_params(axis='x', colors='#777777', labelsize=12)\n",
    "#     ax.set_yticks([])\n",
    "#     ax.margins(0, 0.01)\n",
    "#     ax.grid(which='major', axis='x', linestyle='-')\n",
    "#     ax.set_axisbelow(True)\n",
    "    \n",
    "#     ax.text(0, 1.15, 'Coronavirus',\n",
    "#             transform=ax.transAxes, size=24, weight=600, ha='left', va='top')\n",
    "# #     ax.text(1, 0, 'by @pratapvardhan; credit @jburnmurdoch', transform=ax.transAxes, color='#777777', ha='right',\n",
    "# #             bbox=dict(facecolor='white', alpha=0.8, edgecolor='white'))\n",
    "#     plt.box(False)"
   ]
  },
  {
   "cell_type": "code",
   "execution_count": 42,
   "id": "sexual-wages",
   "metadata": {
    "execution": {
     "iopub.execute_input": "2021-07-07T12:10:20.868429Z",
     "iopub.status.busy": "2021-07-07T12:10:20.867724Z",
     "iopub.status.idle": "2021-07-07T12:10:20.870157Z",
     "shell.execute_reply": "2021-07-07T12:10:20.869536Z"
    },
    "papermill": {
     "duration": 0.045957,
     "end_time": "2021-07-07T12:10:20.870275",
     "exception": false,
     "start_time": "2021-07-07T12:10:20.824318",
     "status": "completed"
    },
    "tags": []
   },
   "outputs": [],
   "source": [
    "# #hide_input\n",
    "# fig, ax = plt.subplots(figsize=(15, 8))\n",
    "# animator = animation.FuncAnimation(fig, draw_barchart, frames=range(g.day.values.min(), g.day.values.max()))\n",
    "# HTML(animator.to_jshtml())\n",
    "# # or use animator.to_html5_video() or animator.save() "
   ]
  },
  {
   "cell_type": "code",
   "execution_count": null,
   "id": "australian-container",
   "metadata": {
    "papermill": {
     "duration": 0.037535,
     "end_time": "2021-07-07T12:10:20.945382",
     "exception": false,
     "start_time": "2021-07-07T12:10:20.907847",
     "status": "completed"
    },
    "tags": []
   },
   "outputs": [],
   "source": []
  },
  {
   "cell_type": "code",
   "execution_count": null,
   "id": "mediterranean-pontiac",
   "metadata": {
    "papermill": {
     "duration": 0.039918,
     "end_time": "2021-07-07T12:10:21.023977",
     "exception": false,
     "start_time": "2021-07-07T12:10:20.984059",
     "status": "completed"
    },
    "tags": []
   },
   "outputs": [],
   "source": []
  },
  {
   "cell_type": "code",
   "execution_count": null,
   "id": "aging-legislature",
   "metadata": {
    "papermill": {
     "duration": 0.042484,
     "end_time": "2021-07-07T12:10:21.106851",
     "exception": false,
     "start_time": "2021-07-07T12:10:21.064367",
     "status": "completed"
    },
    "tags": []
   },
   "outputs": [],
   "source": []
  }
 ],
 "metadata": {
  "kernelspec": {
   "display_name": "Python 3",
   "language": "python",
   "name": "python3"
  },
  "language_info": {
   "codemirror_mode": {
    "name": "ipython",
    "version": 3
   },
   "file_extension": ".py",
   "mimetype": "text/x-python",
   "name": "python",
   "nbconvert_exporter": "python",
   "pygments_lexer": "ipython3",
   "version": "3.6.13"
  },
  "papermill": {
   "duration": 7.075426,
   "end_time": "2021-07-07T12:10:21.464660",
   "environment_variables": {},
   "exception": null,
   "input_path": "2020-03-21-covid19exp.ipynb",
   "output_path": "2020-03-21-covid19exp.ipynb",
   "parameters": {},
   "start_time": "2021-07-07T12:10:14.389234",
   "version": "2.0.0"
  }
 },
 "nbformat": 4,
 "nbformat_minor": 5
}