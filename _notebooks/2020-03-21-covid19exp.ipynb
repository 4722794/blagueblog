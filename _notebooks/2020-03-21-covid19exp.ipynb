{
 "cells": [
  {
   "cell_type": "markdown",
   "id": "muslim-click",
   "metadata": {
    "papermill": {
     "duration": 0.033726,
     "end_time": "2022-02-02T12:12:01.431659",
     "exception": false,
     "start_time": "2022-02-02T12:12:01.397933",
     "status": "completed"
    },
    "tags": []
   },
   "source": [
    "# COVID-19 Case Race\n",
    "> A race chart to see rising cases around the world\n",
    "\n",
    "- author: Hargun Oberoi\n",
    "- image: images/covid-overview.png\n",
    "- hide: false\n",
    "- badges: false"
   ]
  },
  {
   "cell_type": "code",
   "execution_count": 1,
   "id": "proof-material",
   "metadata": {
    "execution": {
     "iopub.execute_input": "2022-02-02T12:12:01.501313Z",
     "iopub.status.busy": "2022-02-02T12:12:01.500794Z",
     "iopub.status.idle": "2022-02-02T12:12:01.813781Z",
     "shell.execute_reply": "2022-02-02T12:12:01.813294Z"
    },
    "papermill": {
     "duration": 0.35266,
     "end_time": "2022-02-02T12:12:01.813923",
     "exception": false,
     "start_time": "2022-02-02T12:12:01.461263",
     "status": "completed"
    },
    "tags": []
   },
   "outputs": [],
   "source": [
    "#hide\n",
    "import numpy as np\n",
    "import pandas as pd\n",
    "from jinja2 import Template\n",
    "from IPython.display import HTML"
   ]
  },
  {
   "cell_type": "code",
   "execution_count": 2,
   "id": "developed-terminology",
   "metadata": {
    "execution": {
     "iopub.execute_input": "2022-02-02T12:12:01.876250Z",
     "iopub.status.busy": "2022-02-02T12:12:01.875715Z",
     "iopub.status.idle": "2022-02-02T12:12:01.877699Z",
     "shell.execute_reply": "2022-02-02T12:12:01.877292Z"
    },
    "papermill": {
     "duration": 0.03471,
     "end_time": "2022-02-02T12:12:01.877805",
     "exception": false,
     "start_time": "2022-02-02T12:12:01.843095",
     "status": "completed"
    },
    "tags": []
   },
   "outputs": [],
   "source": [
    "#hide\n",
    "\n",
    "# FETCH\n",
    "base_url = 'https://raw.githubusercontent.com/pratapvardhan/notebooks/master/covid19/'\n",
    "paths = {\n",
    "    'mapping': base_url + 'mapping_countries.csv',\n",
    "    'overview': base_url + 'overview.tpl'\n",
    "}"
   ]
  },
  {
   "cell_type": "code",
   "execution_count": 3,
   "id": "dynamic-saver",
   "metadata": {
    "execution": {
     "iopub.execute_input": "2022-02-02T12:12:01.945074Z",
     "iopub.status.busy": "2022-02-02T12:12:01.944571Z",
     "iopub.status.idle": "2022-02-02T12:12:01.947127Z",
     "shell.execute_reply": "2022-02-02T12:12:01.947528Z"
    },
    "papermill": {
     "duration": 0.040917,
     "end_time": "2022-02-02T12:12:01.947651",
     "exception": false,
     "start_time": "2022-02-02T12:12:01.906734",
     "status": "completed"
    },
    "tags": []
   },
   "outputs": [
    {
     "data": {
      "text/plain": [
       "'https://raw.githubusercontent.com/pratapvardhan/notebooks/master/covid19/mapping_countries.csv'"
      ]
     },
     "execution_count": 3,
     "metadata": {},
     "output_type": "execute_result"
    }
   ],
   "source": [
    "#hide\n",
    "paths['mapping']"
   ]
  },
  {
   "cell_type": "code",
   "execution_count": 4,
   "id": "urban-software",
   "metadata": {
    "execution": {
     "iopub.execute_input": "2022-02-02T12:12:02.010094Z",
     "iopub.status.busy": "2022-02-02T12:12:02.009587Z",
     "iopub.status.idle": "2022-02-02T12:12:02.011633Z",
     "shell.execute_reply": "2022-02-02T12:12:02.012125Z"
    },
    "papermill": {
     "duration": 0.035546,
     "end_time": "2022-02-02T12:12:02.012238",
     "exception": false,
     "start_time": "2022-02-02T12:12:01.976692",
     "status": "completed"
    },
    "tags": []
   },
   "outputs": [],
   "source": [
    "#hide\n",
    "def get_mappings(url):\n",
    "    df = pd.read_csv(url)\n",
    "    return {\n",
    "        'df': df,\n",
    "        'replace.country': dict(df.dropna(subset=['Name']).set_index('Country')['Name']),\n",
    "        'map.continent': dict(df.set_index('Name')['Continent'])\n",
    "    }"
   ]
  },
  {
   "cell_type": "code",
   "execution_count": 5,
   "id": "intimate-machinery",
   "metadata": {
    "execution": {
     "iopub.execute_input": "2022-02-02T12:12:02.074486Z",
     "iopub.status.busy": "2022-02-02T12:12:02.073978Z",
     "iopub.status.idle": "2022-02-02T12:12:02.135283Z",
     "shell.execute_reply": "2022-02-02T12:12:02.134821Z"
    },
    "papermill": {
     "duration": 0.094287,
     "end_time": "2022-02-02T12:12:02.135402",
     "exception": false,
     "start_time": "2022-02-02T12:12:02.041115",
     "status": "completed"
    },
    "tags": []
   },
   "outputs": [],
   "source": [
    "#hide\n",
    "mapping = get_mappings(paths['mapping'])"
   ]
  },
  {
   "cell_type": "code",
   "execution_count": 6,
   "id": "certified-tactics",
   "metadata": {
    "execution": {
     "iopub.execute_input": "2022-02-02T12:12:02.198071Z",
     "iopub.status.busy": "2022-02-02T12:12:02.197542Z",
     "iopub.status.idle": "2022-02-02T12:12:02.199134Z",
     "shell.execute_reply": "2022-02-02T12:12:02.199554Z"
    },
    "papermill": {
     "duration": 0.035149,
     "end_time": "2022-02-02T12:12:02.199676",
     "exception": false,
     "start_time": "2022-02-02T12:12:02.164527",
     "status": "completed"
    },
    "tags": []
   },
   "outputs": [],
   "source": [
    "#hide\n",
    "def get_template(path):\n",
    "    from urllib.parse import urlparse\n",
    "    if bool(urlparse(path).netloc):\n",
    "        from urllib.request import urlopen\n",
    "        return urlopen(path).read().decode('utf8')\n",
    "    return open(path).read()"
   ]
  },
  {
   "cell_type": "code",
   "execution_count": 7,
   "id": "realistic-blast",
   "metadata": {
    "execution": {
     "iopub.execute_input": "2022-02-02T12:12:02.262375Z",
     "iopub.status.busy": "2022-02-02T12:12:02.261774Z",
     "iopub.status.idle": "2022-02-02T12:12:02.263937Z",
     "shell.execute_reply": "2022-02-02T12:12:02.263417Z"
    },
    "papermill": {
     "duration": 0.035345,
     "end_time": "2022-02-02T12:12:02.264054",
     "exception": false,
     "start_time": "2022-02-02T12:12:02.228709",
     "status": "completed"
    },
    "tags": []
   },
   "outputs": [],
   "source": [
    "#hide\n",
    "def get_frame(name):\n",
    "    url = (\n",
    "        'https://raw.githubusercontent.com/CSSEGISandData/COVID-19/master/csse_covid_19_data/'\n",
    "        f'csse_covid_19_time_series/time_series_covid19_{name}_global.csv')\n",
    "    df = pd.read_csv(url)\n",
    "    # rename countries\n",
    "    df['Country/Region'] = df['Country/Region'].replace(mapping['replace.country'])\n",
    "    return df"
   ]
  },
  {
   "cell_type": "code",
   "execution_count": 8,
   "id": "affiliated-characterization",
   "metadata": {
    "execution": {
     "iopub.execute_input": "2022-02-02T12:12:02.328056Z",
     "iopub.status.busy": "2022-02-02T12:12:02.327427Z",
     "iopub.status.idle": "2022-02-02T12:12:02.328911Z",
     "shell.execute_reply": "2022-02-02T12:12:02.329317Z"
    },
    "papermill": {
     "duration": 0.03583,
     "end_time": "2022-02-02T12:12:02.329431",
     "exception": false,
     "start_time": "2022-02-02T12:12:02.293601",
     "status": "completed"
    },
    "tags": []
   },
   "outputs": [],
   "source": [
    "#hide\n",
    "def get_dates(df):\n",
    "    dt_cols = df.columns[~df.columns.isin(['Province/State', 'Country/Region', 'Lat', 'Long'])]\n",
    "    LAST_DATE_I = -1\n",
    "    # sometimes last column may be empty, then go backwards\n",
    "    for i in range(-1, -len(dt_cols), -1):\n",
    "        if not df[dt_cols[i]].fillna(0).eq(0).all():\n",
    "            LAST_DATE_I = i\n",
    "            break\n",
    "    return LAST_DATE_I, dt_cols"
   ]
  },
  {
   "cell_type": "code",
   "execution_count": 9,
   "id": "recent-optimization",
   "metadata": {
    "execution": {
     "iopub.execute_input": "2022-02-02T12:12:02.391359Z",
     "iopub.status.busy": "2022-02-02T12:12:02.390839Z",
     "iopub.status.idle": "2022-02-02T12:12:02.953632Z",
     "shell.execute_reply": "2022-02-02T12:12:02.952541Z"
    },
    "papermill": {
     "duration": 0.595404,
     "end_time": "2022-02-02T12:12:02.953765",
     "exception": false,
     "start_time": "2022-02-02T12:12:02.358361",
     "status": "completed"
    },
    "tags": []
   },
   "outputs": [],
   "source": [
    "#hide\n",
    "COL_REGION = 'Country/Region'\n",
    "# Confirmed, Recovered, Deaths\n",
    "df = get_frame('confirmed')\n",
    "# dft_: timeseries, dfc_: today country agg\n",
    "dft_cases = df\n",
    "dft_deaths = get_frame('deaths')\n",
    "dft_recovered = get_frame('recovered')\n",
    "LAST_DATE_I, dt_cols = get_dates(df)"
   ]
  },
  {
   "cell_type": "code",
   "execution_count": 10,
   "id": "absolute-copper",
   "metadata": {
    "execution": {
     "iopub.execute_input": "2022-02-02T12:12:03.017397Z",
     "iopub.status.busy": "2022-02-02T12:12:03.016791Z",
     "iopub.status.idle": "2022-02-02T12:12:03.018358Z",
     "shell.execute_reply": "2022-02-02T12:12:03.018807Z"
    },
    "papermill": {
     "duration": 0.035789,
     "end_time": "2022-02-02T12:12:03.018928",
     "exception": false,
     "start_time": "2022-02-02T12:12:02.983139",
     "status": "completed"
    },
    "tags": []
   },
   "outputs": [],
   "source": [
    "#hide\n",
    "LAST_DATE_I, dt_cols = get_dates(df)\n",
    "dt_today =dt_cols[LAST_DATE_I]\n",
    "# dt_5day = dt_cols[LAST_DATE_I - 5]\n",
    "dt_yday = dt_cols[LAST_DATE_I - 1]"
   ]
  },
  {
   "cell_type": "code",
   "execution_count": 11,
   "id": "restricted-sheriff",
   "metadata": {
    "execution": {
     "iopub.execute_input": "2022-02-02T12:12:03.081748Z",
     "iopub.status.busy": "2022-02-02T12:12:03.081234Z",
     "iopub.status.idle": "2022-02-02T12:12:03.088565Z",
     "shell.execute_reply": "2022-02-02T12:12:03.088133Z"
    },
    "papermill": {
     "duration": 0.040724,
     "end_time": "2022-02-02T12:12:03.088669",
     "exception": false,
     "start_time": "2022-02-02T12:12:03.047945",
     "status": "completed"
    },
    "tags": []
   },
   "outputs": [],
   "source": [
    "#hide\n",
    "dfc_cases = dft_cases.groupby(COL_REGION)[dt_today].sum()\n",
    "dfc_deaths = dft_deaths.groupby(COL_REGION)[dt_today].sum()\n",
    "# dfp_cases = dft_cases.groupby(COL_REGION)[dt_5day].sum()\n",
    "# dfp_deaths = dft_deaths.groupby(COL_REGION)[dt_5day].sum()\n",
    "dfp_cases = dft_cases.groupby(COL_REGION)[dt_yday].sum()\n",
    "dfp_deaths = dft_deaths.groupby(COL_REGION)[dt_yday].sum()"
   ]
  },
  {
   "cell_type": "code",
   "execution_count": 12,
   "id": "deluxe-hepatitis",
   "metadata": {
    "execution": {
     "iopub.execute_input": "2022-02-02T12:12:03.152280Z",
     "iopub.status.busy": "2022-02-02T12:12:03.151761Z",
     "iopub.status.idle": "2022-02-02T12:12:03.155629Z",
     "shell.execute_reply": "2022-02-02T12:12:03.156018Z"
    },
    "papermill": {
     "duration": 0.038445,
     "end_time": "2022-02-02T12:12:03.156142",
     "exception": false,
     "start_time": "2022-02-02T12:12:03.117697",
     "status": "completed"
    },
    "tags": []
   },
   "outputs": [],
   "source": [
    "#hide\n",
    "df_table = (pd.DataFrame(dict(Cases = dfc_cases, Deaths = dfc_deaths, PCases = dfp_cases, PDeaths = dfp_deaths))\n",
    "            .sort_values(by = ['Cases','Deaths'], ascending = [False, False])\n",
    "            .reset_index())"
   ]
  },
  {
   "cell_type": "code",
   "execution_count": 13,
   "id": "educational-chancellor",
   "metadata": {
    "execution": {
     "iopub.execute_input": "2022-02-02T12:12:03.231406Z",
     "iopub.status.busy": "2022-02-02T12:12:03.230891Z",
     "iopub.status.idle": "2022-02-02T12:12:03.237754Z",
     "shell.execute_reply": "2022-02-02T12:12:03.238189Z"
    },
    "papermill": {
     "duration": 0.053383,
     "end_time": "2022-02-02T12:12:03.238310",
     "exception": false,
     "start_time": "2022-02-02T12:12:03.184927",
     "status": "completed"
    },
    "tags": []
   },
   "outputs": [
    {
     "data": {
      "text/html": [
       "<div>\n",
       "<style scoped>\n",
       "    .dataframe tbody tr th:only-of-type {\n",
       "        vertical-align: middle;\n",
       "    }\n",
       "\n",
       "    .dataframe tbody tr th {\n",
       "        vertical-align: top;\n",
       "    }\n",
       "\n",
       "    .dataframe thead th {\n",
       "        text-align: right;\n",
       "    }\n",
       "</style>\n",
       "<table border=\"1\" class=\"dataframe\">\n",
       "  <thead>\n",
       "    <tr style=\"text-align: right;\">\n",
       "      <th></th>\n",
       "      <th>Country/Region</th>\n",
       "      <th>Cases</th>\n",
       "      <th>Deaths</th>\n",
       "      <th>PCases</th>\n",
       "      <th>PDeaths</th>\n",
       "      <th>Cases (+)</th>\n",
       "      <th>Deaths (+)</th>\n",
       "      <th>Fatality Rate</th>\n",
       "      <th>Continent</th>\n",
       "    </tr>\n",
       "  </thead>\n",
       "  <tbody>\n",
       "    <tr>\n",
       "      <th>0</th>\n",
       "      <td>US</td>\n",
       "      <td>75350359</td>\n",
       "      <td>890770</td>\n",
       "      <td>74951445</td>\n",
       "      <td>887148</td>\n",
       "      <td>398914</td>\n",
       "      <td>3622</td>\n",
       "      <td>1.18</td>\n",
       "      <td>North America</td>\n",
       "    </tr>\n",
       "    <tr>\n",
       "      <th>1</th>\n",
       "      <td>India</td>\n",
       "      <td>41630885</td>\n",
       "      <td>497975</td>\n",
       "      <td>41469499</td>\n",
       "      <td>496242</td>\n",
       "      <td>161386</td>\n",
       "      <td>1733</td>\n",
       "      <td>1.20</td>\n",
       "      <td>Asia</td>\n",
       "    </tr>\n",
       "    <tr>\n",
       "      <th>2</th>\n",
       "      <td>Brazil</td>\n",
       "      <td>25634781</td>\n",
       "      <td>628356</td>\n",
       "      <td>25463530</td>\n",
       "      <td>627589</td>\n",
       "      <td>171251</td>\n",
       "      <td>767</td>\n",
       "      <td>2.45</td>\n",
       "      <td>South America</td>\n",
       "    </tr>\n",
       "    <tr>\n",
       "      <th>3</th>\n",
       "      <td>France</td>\n",
       "      <td>19681231</td>\n",
       "      <td>132307</td>\n",
       "      <td>19266496</td>\n",
       "      <td>131937</td>\n",
       "      <td>414735</td>\n",
       "      <td>370</td>\n",
       "      <td>0.67</td>\n",
       "      <td>Europe</td>\n",
       "    </tr>\n",
       "    <tr>\n",
       "      <th>4</th>\n",
       "      <td>United Kingdom</td>\n",
       "      <td>17544380</td>\n",
       "      <td>157404</td>\n",
       "      <td>17431225</td>\n",
       "      <td>156281</td>\n",
       "      <td>113155</td>\n",
       "      <td>1123</td>\n",
       "      <td>0.90</td>\n",
       "      <td>Europe</td>\n",
       "    </tr>\n",
       "  </tbody>\n",
       "</table>\n",
       "</div>"
      ],
      "text/plain": [
       "   Country/Region     Cases  Deaths    PCases  PDeaths  Cases (+)  Deaths (+)  \\\n",
       "0              US  75350359  890770  74951445   887148     398914        3622   \n",
       "1           India  41630885  497975  41469499   496242     161386        1733   \n",
       "2          Brazil  25634781  628356  25463530   627589     171251         767   \n",
       "3          France  19681231  132307  19266496   131937     414735         370   \n",
       "4  United Kingdom  17544380  157404  17431225   156281     113155        1123   \n",
       "\n",
       "   Fatality Rate      Continent  \n",
       "0           1.18  North America  \n",
       "1           1.20           Asia  \n",
       "2           2.45  South America  \n",
       "3           0.67         Europe  \n",
       "4           0.90         Europe  "
      ]
     },
     "execution_count": 13,
     "metadata": {},
     "output_type": "execute_result"
    }
   ],
   "source": [
    "#hide\n",
    "for c in 'Cases, Deaths'.split(', '):\n",
    "    df_table[f'{c} (+)'] = (df_table[c] - df_table[f'P{c}']).clip(0)\n",
    "    #Clip ça veut dire, les chiffres negatif sont interdit\n",
    "df_table['Fatality Rate'] = (100* df_table['Deaths']/ df_table['Cases']).round(2)\n",
    "df_table['Continent'] = df_table['Country/Region'].map(mapping['map.continent'])\n",
    "df_table.head(5)"
   ]
  },
  {
   "cell_type": "code",
   "execution_count": 14,
   "id": "aboriginal-bulgaria",
   "metadata": {
    "execution": {
     "iopub.execute_input": "2022-02-02T12:12:03.301439Z",
     "iopub.status.busy": "2022-02-02T12:12:03.300939Z",
     "iopub.status.idle": "2022-02-02T12:12:03.304630Z",
     "shell.execute_reply": "2022-02-02T12:12:03.304232Z"
    },
    "papermill": {
     "duration": 0.037042,
     "end_time": "2022-02-02T12:12:03.304734",
     "exception": false,
     "start_time": "2022-02-02T12:12:03.267692",
     "status": "completed"
    },
    "tags": []
   },
   "outputs": [],
   "source": [
    "#hide\n",
    "#delete problematic countries from table\n",
    "df_table = df_table[~df_table['Country/Region'].isin(['Cape Verde', 'Cruise Ship', 'Kosovo'])]"
   ]
  },
  {
   "cell_type": "code",
   "execution_count": 15,
   "id": "fantastic-effect",
   "metadata": {
    "execution": {
     "iopub.execute_input": "2022-02-02T12:12:03.370026Z",
     "iopub.status.busy": "2022-02-02T12:12:03.369519Z",
     "iopub.status.idle": "2022-02-02T12:12:03.387090Z",
     "shell.execute_reply": "2022-02-02T12:12:03.386608Z"
    },
    "papermill": {
     "duration": 0.05324,
     "end_time": "2022-02-02T12:12:03.387203",
     "exception": false,
     "start_time": "2022-02-02T12:12:03.333963",
     "status": "completed"
    },
    "tags": []
   },
   "outputs": [
    {
     "data": {
      "text/html": [
       "<div>\n",
       "<style scoped>\n",
       "    .dataframe tbody tr th:only-of-type {\n",
       "        vertical-align: middle;\n",
       "    }\n",
       "\n",
       "    .dataframe tbody tr th {\n",
       "        vertical-align: top;\n",
       "    }\n",
       "\n",
       "    .dataframe thead th {\n",
       "        text-align: right;\n",
       "    }\n",
       "</style>\n",
       "<table border=\"1\" class=\"dataframe\">\n",
       "  <thead>\n",
       "    <tr style=\"text-align: right;\">\n",
       "      <th></th>\n",
       "      <th>Country/Region</th>\n",
       "      <th>Cases</th>\n",
       "      <th>Deaths</th>\n",
       "      <th>PCases</th>\n",
       "      <th>PDeaths</th>\n",
       "      <th>Cases (+)</th>\n",
       "      <th>Deaths (+)</th>\n",
       "      <th>Fatality Rate</th>\n",
       "      <th>Continent</th>\n",
       "    </tr>\n",
       "  </thead>\n",
       "  <tbody>\n",
       "    <tr>\n",
       "      <th>0</th>\n",
       "      <td>US</td>\n",
       "      <td>75350359</td>\n",
       "      <td>890770</td>\n",
       "      <td>74951445</td>\n",
       "      <td>887148</td>\n",
       "      <td>398914</td>\n",
       "      <td>3622</td>\n",
       "      <td>1.2</td>\n",
       "      <td>North America</td>\n",
       "    </tr>\n",
       "    <tr>\n",
       "      <th>1</th>\n",
       "      <td>India</td>\n",
       "      <td>41630885</td>\n",
       "      <td>497975</td>\n",
       "      <td>41469499</td>\n",
       "      <td>496242</td>\n",
       "      <td>161386</td>\n",
       "      <td>1733</td>\n",
       "      <td>1.2</td>\n",
       "      <td>Asia</td>\n",
       "    </tr>\n",
       "    <tr>\n",
       "      <th>2</th>\n",
       "      <td>Brazil</td>\n",
       "      <td>25634781</td>\n",
       "      <td>628356</td>\n",
       "      <td>25463530</td>\n",
       "      <td>627589</td>\n",
       "      <td>171251</td>\n",
       "      <td>767</td>\n",
       "      <td>2.5</td>\n",
       "      <td>South America</td>\n",
       "    </tr>\n",
       "    <tr>\n",
       "      <th>3</th>\n",
       "      <td>France</td>\n",
       "      <td>19681231</td>\n",
       "      <td>132307</td>\n",
       "      <td>19266496</td>\n",
       "      <td>131937</td>\n",
       "      <td>414735</td>\n",
       "      <td>370</td>\n",
       "      <td>0.7</td>\n",
       "      <td>Europe</td>\n",
       "    </tr>\n",
       "    <tr>\n",
       "      <th>4</th>\n",
       "      <td>United Kingdom</td>\n",
       "      <td>17544380</td>\n",
       "      <td>157404</td>\n",
       "      <td>17431225</td>\n",
       "      <td>156281</td>\n",
       "      <td>113155</td>\n",
       "      <td>1123</td>\n",
       "      <td>0.9</td>\n",
       "      <td>Europe</td>\n",
       "    </tr>\n",
       "  </tbody>\n",
       "</table>\n",
       "</div>"
      ],
      "text/plain": [
       "   Country/Region     Cases  Deaths    PCases  PDeaths  Cases (+)  Deaths (+)  \\\n",
       "0              US  75350359  890770  74951445   887148     398914        3622   \n",
       "1           India  41630885  497975  41469499   496242     161386        1733   \n",
       "2          Brazil  25634781  628356  25463530   627589     171251         767   \n",
       "3          France  19681231  132307  19266496   131937     414735         370   \n",
       "4  United Kingdom  17544380  157404  17431225   156281     113155        1123   \n",
       "\n",
       "   Fatality Rate      Continent  \n",
       "0            1.2  North America  \n",
       "1            1.2           Asia  \n",
       "2            2.5  South America  \n",
       "3            0.7         Europe  \n",
       "4            0.9         Europe  "
      ]
     },
     "execution_count": 15,
     "metadata": {},
     "output_type": "execute_result"
    }
   ],
   "source": [
    "#hide\n",
    "df_table = (pd.DataFrame(dict(Cases=dfc_cases, Deaths=dfc_deaths, PCases=dfp_cases, PDeaths=dfp_deaths))\n",
    "             .sort_values(by=['Cases', 'Deaths'], ascending=[False, False])\n",
    "             .reset_index())\n",
    "df_table.rename(columns={'index': 'Country/Region'}, inplace=True)\n",
    "for c in 'Cases, Deaths'.split(', '):\n",
    "    df_table[f'{c} (+)'] = (df_table[c] - df_table[f'P{c}']).clip(0)  # DATA BUG\n",
    "df_table['Fatality Rate'] = (100 * df_table['Deaths'] / df_table['Cases']).round(1)\n",
    "df_table['Continent'] = df_table['Country/Region'].map(mapping['map.continent'])\n",
    "df_table.head(5)"
   ]
  },
  {
   "cell_type": "code",
   "execution_count": 16,
   "id": "fewer-occasion",
   "metadata": {
    "execution": {
     "iopub.execute_input": "2022-02-02T12:12:03.452886Z",
     "iopub.status.busy": "2022-02-02T12:12:03.452301Z",
     "iopub.status.idle": "2022-02-02T12:12:03.454452Z",
     "shell.execute_reply": "2022-02-02T12:12:03.453994Z"
    },
    "papermill": {
     "duration": 0.03652,
     "end_time": "2022-02-02T12:12:03.454567",
     "exception": false,
     "start_time": "2022-02-02T12:12:03.418047",
     "status": "completed"
    },
    "tags": []
   },
   "outputs": [],
   "source": [
    "#hide\n",
    "#delete problematic countries from table\n",
    "df_table = df_table[~df_table['Country/Region'].isin(['Cape Verde', 'Cruise Ship', 'Kosovo'])]"
   ]
  },
  {
   "cell_type": "code",
   "execution_count": 17,
   "id": "related-center",
   "metadata": {
    "execution": {
     "iopub.execute_input": "2022-02-02T12:12:03.516729Z",
     "iopub.status.busy": "2022-02-02T12:12:03.516216Z",
     "iopub.status.idle": "2022-02-02T12:12:03.534307Z",
     "shell.execute_reply": "2022-02-02T12:12:03.533897Z"
    },
    "papermill": {
     "duration": 0.049975,
     "end_time": "2022-02-02T12:12:03.534416",
     "exception": false,
     "start_time": "2022-02-02T12:12:03.484441",
     "status": "completed"
    },
    "tags": []
   },
   "outputs": [],
   "source": [
    "#hide\n",
    "metrics = [df_table.columns[index] for index in [1,2,5,6]]\n",
    "# s_china = df_table[df_table['Country/Region'].eq('China')][metrics].sum().add_prefix('China ')\n",
    "s_us = df_table[df_table['Country/Region'].eq('US')][metrics].sum().add_prefix('US ')\n",
    "s_eu = df_table[df_table['Continent'].eq('Europe')][metrics].sum().add_prefix('EU ')\n",
    "s_ind = df_table[df_table['Country/Region'].eq('India')][metrics].sum().add_prefix('India ')\n",
    "summary = {'updated': pd.to_datetime(dt_today), 'since': pd.to_datetime(dt_yday)}\n",
    "summary = {'updated': pd.to_datetime(dt_today), 'since': pd.to_datetime(dt_yday)}\n",
    "summary = {**summary, **df_table[metrics].sum(), **s_ind, **s_us, **s_eu}"
   ]
  },
  {
   "cell_type": "code",
   "execution_count": 18,
   "id": "engaging-syndrome",
   "metadata": {
    "execution": {
     "iopub.execute_input": "2022-02-02T12:12:03.598946Z",
     "iopub.status.busy": "2022-02-02T12:12:03.598433Z",
     "iopub.status.idle": "2022-02-02T12:12:03.613470Z",
     "shell.execute_reply": "2022-02-02T12:12:03.613033Z"
    },
    "papermill": {
     "duration": 0.049133,
     "end_time": "2022-02-02T12:12:03.613576",
     "exception": false,
     "start_time": "2022-02-02T12:12:03.564443",
     "status": "completed"
    },
    "tags": []
   },
   "outputs": [],
   "source": [
    "#hide\n",
    "dft_ct_new_cases = dft_cases.groupby(COL_REGION)[dt_cols].sum().diff(axis=1).fillna(0).astype(int)"
   ]
  },
  {
   "cell_type": "code",
   "execution_count": 19,
   "id": "neutral-assignment",
   "metadata": {
    "execution": {
     "iopub.execute_input": "2022-02-02T12:12:03.678657Z",
     "iopub.status.busy": "2022-02-02T12:12:03.678146Z",
     "iopub.status.idle": "2022-02-02T12:12:03.681778Z",
     "shell.execute_reply": "2022-02-02T12:12:03.681373Z"
    },
    "papermill": {
     "duration": 0.038442,
     "end_time": "2022-02-02T12:12:03.681885",
     "exception": false,
     "start_time": "2022-02-02T12:12:03.643443",
     "status": "completed"
    },
    "tags": []
   },
   "outputs": [],
   "source": [
    "#hide\n",
    "everydaycases = dft_ct_new_cases.cumsum(axis=1)"
   ]
  },
  {
   "cell_type": "code",
   "execution_count": 20,
   "id": "parliamentary-calgary",
   "metadata": {
    "execution": {
     "iopub.execute_input": "2022-02-02T12:12:03.745619Z",
     "iopub.status.busy": "2022-02-02T12:12:03.744619Z",
     "iopub.status.idle": "2022-02-02T12:12:04.317895Z",
     "shell.execute_reply": "2022-02-02T12:12:04.318373Z"
    },
    "papermill": {
     "duration": 0.606744,
     "end_time": "2022-02-02T12:12:04.318538",
     "exception": false,
     "start_time": "2022-02-02T12:12:03.711794",
     "status": "completed"
    },
    "tags": []
   },
   "outputs": [],
   "source": [
    "#hide\n",
    "import pandas as pd\n",
    "import matplotlib.pyplot as plt\n",
    "import matplotlib.ticker as ticker\n",
    "import matplotlib.animation as animation\n",
    "from IPython.display import HTML"
   ]
  },
  {
   "cell_type": "code",
   "execution_count": 21,
   "id": "lasting-extraction",
   "metadata": {
    "execution": {
     "iopub.execute_input": "2022-02-02T12:12:04.385507Z",
     "iopub.status.busy": "2022-02-02T12:12:04.384991Z",
     "iopub.status.idle": "2022-02-02T12:12:04.390982Z",
     "shell.execute_reply": "2022-02-02T12:12:04.391415Z"
    },
    "papermill": {
     "duration": 0.041618,
     "end_time": "2022-02-02T12:12:04.391573",
     "exception": false,
     "start_time": "2022-02-02T12:12:04.349955",
     "status": "completed"
    },
    "tags": []
   },
   "outputs": [],
   "source": [
    "#hide\n",
    "t = everydaycases.stack()"
   ]
  },
  {
   "cell_type": "code",
   "execution_count": 22,
   "id": "premier-sleeve",
   "metadata": {
    "execution": {
     "iopub.execute_input": "2022-02-02T12:12:04.454996Z",
     "iopub.status.busy": "2022-02-02T12:12:04.454479Z",
     "iopub.status.idle": "2022-02-02T12:12:04.464449Z",
     "shell.execute_reply": "2022-02-02T12:12:04.464021Z"
    },
    "papermill": {
     "duration": 0.04306,
     "end_time": "2022-02-02T12:12:04.464551",
     "exception": false,
     "start_time": "2022-02-02T12:12:04.421491",
     "status": "completed"
    },
    "tags": []
   },
   "outputs": [],
   "source": [
    "#hide\n",
    "g = t.reset_index(['Country/Region'])"
   ]
  },
  {
   "cell_type": "code",
   "execution_count": 23,
   "id": "distributed-pittsburgh",
   "metadata": {
    "execution": {
     "iopub.execute_input": "2022-02-02T12:12:04.527620Z",
     "iopub.status.busy": "2022-02-02T12:12:04.527079Z",
     "iopub.status.idle": "2022-02-02T12:12:04.529077Z",
     "shell.execute_reply": "2022-02-02T12:12:04.529482Z"
    },
    "papermill": {
     "duration": 0.035247,
     "end_time": "2022-02-02T12:12:04.529597",
     "exception": false,
     "start_time": "2022-02-02T12:12:04.494350",
     "status": "completed"
    },
    "tags": []
   },
   "outputs": [],
   "source": [
    "#hide\n",
    "g.index.name = 'date'"
   ]
  },
  {
   "cell_type": "code",
   "execution_count": 24,
   "id": "naked-donor",
   "metadata": {
    "execution": {
     "iopub.execute_input": "2022-02-02T12:12:04.592730Z",
     "iopub.status.busy": "2022-02-02T12:12:04.592217Z",
     "iopub.status.idle": "2022-02-02T12:12:04.595712Z",
     "shell.execute_reply": "2022-02-02T12:12:04.595284Z"
    },
    "papermill": {
     "duration": 0.036253,
     "end_time": "2022-02-02T12:12:04.595820",
     "exception": false,
     "start_time": "2022-02-02T12:12:04.559567",
     "status": "completed"
    },
    "tags": []
   },
   "outputs": [],
   "source": [
    "# #hide\n",
    "# g = g.reset_index(['date'])"
   ]
  },
  {
   "cell_type": "code",
   "execution_count": 25,
   "id": "incomplete-mustang",
   "metadata": {
    "execution": {
     "iopub.execute_input": "2022-02-02T12:12:04.658353Z",
     "iopub.status.busy": "2022-02-02T12:12:04.657778Z",
     "iopub.status.idle": "2022-02-02T12:12:04.659447Z",
     "shell.execute_reply": "2022-02-02T12:12:04.659915Z"
    },
    "papermill": {
     "duration": 0.034522,
     "end_time": "2022-02-02T12:12:04.660047",
     "exception": false,
     "start_time": "2022-02-02T12:12:04.625525",
     "status": "completed"
    },
    "tags": []
   },
   "outputs": [],
   "source": [
    "#hide\n",
    "# g.head()"
   ]
  },
  {
   "cell_type": "code",
   "execution_count": 26,
   "id": "specific-kruger",
   "metadata": {
    "execution": {
     "iopub.execute_input": "2022-02-02T12:12:04.723182Z",
     "iopub.status.busy": "2022-02-02T12:12:04.722588Z",
     "iopub.status.idle": "2022-02-02T12:12:04.724231Z",
     "shell.execute_reply": "2022-02-02T12:12:04.724609Z"
    },
    "papermill": {
     "duration": 0.034586,
     "end_time": "2022-02-02T12:12:04.724725",
     "exception": false,
     "start_time": "2022-02-02T12:12:04.690139",
     "status": "completed"
    },
    "tags": []
   },
   "outputs": [],
   "source": [
    "#hide\n",
    "# g.columns = ['date','country','cases']"
   ]
  },
  {
   "cell_type": "code",
   "execution_count": 27,
   "id": "tender-conversion",
   "metadata": {
    "execution": {
     "iopub.execute_input": "2022-02-02T12:12:04.788128Z",
     "iopub.status.busy": "2022-02-02T12:12:04.787516Z",
     "iopub.status.idle": "2022-02-02T12:12:04.788995Z",
     "shell.execute_reply": "2022-02-02T12:12:04.789458Z"
    },
    "papermill": {
     "duration": 0.035166,
     "end_time": "2022-02-02T12:12:04.789590",
     "exception": false,
     "start_time": "2022-02-02T12:12:04.754424",
     "status": "completed"
    },
    "tags": []
   },
   "outputs": [],
   "source": [
    "#hide\n",
    "# g['continent'] = g.country"
   ]
  },
  {
   "cell_type": "code",
   "execution_count": 28,
   "id": "substantial-wilderness",
   "metadata": {
    "execution": {
     "iopub.execute_input": "2022-02-02T12:12:04.853114Z",
     "iopub.status.busy": "2022-02-02T12:12:04.852533Z",
     "iopub.status.idle": "2022-02-02T12:12:04.854156Z",
     "shell.execute_reply": "2022-02-02T12:12:04.854616Z"
    },
    "papermill": {
     "duration": 0.034594,
     "end_time": "2022-02-02T12:12:04.854751",
     "exception": false,
     "start_time": "2022-02-02T12:12:04.820157",
     "status": "completed"
    },
    "tags": []
   },
   "outputs": [],
   "source": [
    "#hide\n",
    "# cols = list(g.columns.values)"
   ]
  },
  {
   "cell_type": "code",
   "execution_count": 29,
   "id": "solved-farming",
   "metadata": {
    "execution": {
     "iopub.execute_input": "2022-02-02T12:12:04.917144Z",
     "iopub.status.busy": "2022-02-02T12:12:04.916632Z",
     "iopub.status.idle": "2022-02-02T12:12:04.918755Z",
     "shell.execute_reply": "2022-02-02T12:12:04.918355Z"
    },
    "papermill": {
     "duration": 0.03438,
     "end_time": "2022-02-02T12:12:04.918861",
     "exception": false,
     "start_time": "2022-02-02T12:12:04.884481",
     "status": "completed"
    },
    "tags": []
   },
   "outputs": [],
   "source": [
    "#hide\n",
    "# cols.insert(0, cols.pop())"
   ]
  },
  {
   "cell_type": "code",
   "execution_count": 30,
   "id": "executed-adoption",
   "metadata": {
    "execution": {
     "iopub.execute_input": "2022-02-02T12:12:04.981978Z",
     "iopub.status.busy": "2022-02-02T12:12:04.981387Z",
     "iopub.status.idle": "2022-02-02T12:12:04.983531Z",
     "shell.execute_reply": "2022-02-02T12:12:04.983014Z"
    },
    "papermill": {
     "duration": 0.034765,
     "end_time": "2022-02-02T12:12:04.983651",
     "exception": false,
     "start_time": "2022-02-02T12:12:04.948886",
     "status": "completed"
    },
    "tags": []
   },
   "outputs": [],
   "source": [
    "#hide\n",
    "# g = g[cols]"
   ]
  },
  {
   "cell_type": "code",
   "execution_count": 31,
   "id": "subject-dublin",
   "metadata": {
    "execution": {
     "iopub.execute_input": "2022-02-02T12:12:05.046863Z",
     "iopub.status.busy": "2022-02-02T12:12:05.046261Z",
     "iopub.status.idle": "2022-02-02T12:12:05.047956Z",
     "shell.execute_reply": "2022-02-02T12:12:05.048377Z"
    },
    "papermill": {
     "duration": 0.034681,
     "end_time": "2022-02-02T12:12:05.048497",
     "exception": false,
     "start_time": "2022-02-02T12:12:05.013816",
     "status": "completed"
    },
    "tags": []
   },
   "outputs": [],
   "source": [
    "#hide\n",
    "# g['continent'] = g['continent'].map(mapping['map.continent'])"
   ]
  },
  {
   "cell_type": "code",
   "execution_count": 32,
   "id": "freelance-scout",
   "metadata": {
    "execution": {
     "iopub.execute_input": "2022-02-02T12:12:05.111511Z",
     "iopub.status.busy": "2022-02-02T12:12:05.110904Z",
     "iopub.status.idle": "2022-02-02T12:12:05.114978Z",
     "shell.execute_reply": "2022-02-02T12:12:05.114489Z"
    },
    "papermill": {
     "duration": 0.036787,
     "end_time": "2022-02-02T12:12:05.115092",
     "exception": false,
     "start_time": "2022-02-02T12:12:05.078305",
     "status": "completed"
    },
    "tags": []
   },
   "outputs": [],
   "source": [
    "#hide\n",
    "# g.head()"
   ]
  },
  {
   "cell_type": "code",
   "execution_count": 33,
   "id": "limited-engine",
   "metadata": {
    "execution": {
     "iopub.execute_input": "2022-02-02T12:12:05.178017Z",
     "iopub.status.busy": "2022-02-02T12:12:05.177436Z",
     "iopub.status.idle": "2022-02-02T12:12:05.181047Z",
     "shell.execute_reply": "2022-02-02T12:12:05.180644Z"
    },
    "papermill": {
     "duration": 0.036006,
     "end_time": "2022-02-02T12:12:05.181157",
     "exception": false,
     "start_time": "2022-02-02T12:12:05.145151",
     "status": "completed"
    },
    "tags": []
   },
   "outputs": [],
   "source": [
    "# hide\n",
    "# g['date'] = g['date'].astype('datetime64[ns]')"
   ]
  },
  {
   "cell_type": "code",
   "execution_count": 34,
   "id": "sophisticated-supervisor",
   "metadata": {
    "execution": {
     "iopub.execute_input": "2022-02-02T12:12:05.244227Z",
     "iopub.status.busy": "2022-02-02T12:12:05.243643Z",
     "iopub.status.idle": "2022-02-02T12:12:05.245317Z",
     "shell.execute_reply": "2022-02-02T12:12:05.245760Z"
    },
    "papermill": {
     "duration": 0.034724,
     "end_time": "2022-02-02T12:12:05.245891",
     "exception": false,
     "start_time": "2022-02-02T12:12:05.211167",
     "status": "completed"
    },
    "tags": []
   },
   "outputs": [],
   "source": [
    "#hide\n",
    "# g['date'] = g.date.dt.dayofyear"
   ]
  },
  {
   "cell_type": "code",
   "execution_count": 35,
   "id": "inside-dubai",
   "metadata": {
    "execution": {
     "iopub.execute_input": "2022-02-02T12:12:05.308912Z",
     "iopub.status.busy": "2022-02-02T12:12:05.308331Z",
     "iopub.status.idle": "2022-02-02T12:12:05.310021Z",
     "shell.execute_reply": "2022-02-02T12:12:05.310459Z"
    },
    "papermill": {
     "duration": 0.034524,
     "end_time": "2022-02-02T12:12:05.310590",
     "exception": false,
     "start_time": "2022-02-02T12:12:05.276066",
     "status": "completed"
    },
    "tags": []
   },
   "outputs": [],
   "source": [
    "#hide\n",
    "# g = g.rename(columns= {'continent':'group','country':'name','cases':'value'})"
   ]
  },
  {
   "cell_type": "code",
   "execution_count": 36,
   "id": "fleet-motorcycle",
   "metadata": {
    "execution": {
     "iopub.execute_input": "2022-02-02T12:12:05.373289Z",
     "iopub.status.busy": "2022-02-02T12:12:05.372713Z",
     "iopub.status.idle": "2022-02-02T12:12:05.374818Z",
     "shell.execute_reply": "2022-02-02T12:12:05.374359Z"
    },
    "papermill": {
     "duration": 0.034538,
     "end_time": "2022-02-02T12:12:05.374933",
     "exception": false,
     "start_time": "2022-02-02T12:12:05.340395",
     "status": "completed"
    },
    "tags": []
   },
   "outputs": [],
   "source": [
    "#hide\n",
    "# cols = ['name','group','day','value']"
   ]
  },
  {
   "cell_type": "code",
   "execution_count": 37,
   "id": "continued-sleeping",
   "metadata": {
    "execution": {
     "iopub.execute_input": "2022-02-02T12:12:05.438588Z",
     "iopub.status.busy": "2022-02-02T12:12:05.438001Z",
     "iopub.status.idle": "2022-02-02T12:12:05.439613Z",
     "shell.execute_reply": "2022-02-02T12:12:05.440084Z"
    },
    "papermill": {
     "duration": 0.034581,
     "end_time": "2022-02-02T12:12:05.440213",
     "exception": false,
     "start_time": "2022-02-02T12:12:05.405632",
     "status": "completed"
    },
    "tags": []
   },
   "outputs": [],
   "source": [
    "#hide\n",
    "# g.rename(columns= {'date':'day'},inplace = True)"
   ]
  },
  {
   "cell_type": "code",
   "execution_count": 38,
   "id": "major-fight",
   "metadata": {
    "execution": {
     "iopub.execute_input": "2022-02-02T12:12:05.503159Z",
     "iopub.status.busy": "2022-02-02T12:12:05.502583Z",
     "iopub.status.idle": "2022-02-02T12:12:05.505971Z",
     "shell.execute_reply": "2022-02-02T12:12:05.506352Z"
    },
    "papermill": {
     "duration": 0.036219,
     "end_time": "2022-02-02T12:12:05.506467",
     "exception": false,
     "start_time": "2022-02-02T12:12:05.470248",
     "status": "completed"
    },
    "tags": []
   },
   "outputs": [],
   "source": [
    "#hide\n",
    "# g = g[cols]"
   ]
  },
  {
   "cell_type": "code",
   "execution_count": 39,
   "id": "structured-mobile",
   "metadata": {
    "execution": {
     "iopub.execute_input": "2022-02-02T12:12:05.569212Z",
     "iopub.status.busy": "2022-02-02T12:12:05.568625Z",
     "iopub.status.idle": "2022-02-02T12:12:05.570231Z",
     "shell.execute_reply": "2022-02-02T12:12:05.570667Z"
    },
    "papermill": {
     "duration": 0.03462,
     "end_time": "2022-02-02T12:12:05.570800",
     "exception": false,
     "start_time": "2022-02-02T12:12:05.536180",
     "status": "completed"
    },
    "tags": []
   },
   "outputs": [],
   "source": [
    "# #hide\n",
    "# g = g[g.group.notna()]"
   ]
  },
  {
   "cell_type": "code",
   "execution_count": 40,
   "id": "determined-closing",
   "metadata": {
    "execution": {
     "iopub.execute_input": "2022-02-02T12:12:05.634111Z",
     "iopub.status.busy": "2022-02-02T12:12:05.633528Z",
     "iopub.status.idle": "2022-02-02T12:12:05.635158Z",
     "shell.execute_reply": "2022-02-02T12:12:05.635558Z"
    },
    "papermill": {
     "duration": 0.034453,
     "end_time": "2022-02-02T12:12:05.635674",
     "exception": false,
     "start_time": "2022-02-02T12:12:05.601221",
     "status": "completed"
    },
    "tags": []
   },
   "outputs": [],
   "source": [
    "# #hide\n",
    "# colors = dict(zip(\n",
    "#     [\"Oceania\", \"Europe\", \"Asia\", \"South America\", \"Middle East\", \"North America\", \"Africa\"],\n",
    "#     [\"#adb0ff\", \"#ffb3ff\", \"#90d595\", \"#e48381\", \"#aafbff\", \"#f7bb5f\", \"#eafb50\"]\n",
    "# ))\n",
    "# group_lk = g.set_index('name')['group'].to_dict()"
   ]
  },
  {
   "cell_type": "code",
   "execution_count": null,
   "id": "gross-drinking",
   "metadata": {
    "papermill": {
     "duration": 0.02963,
     "end_time": "2022-02-02T12:12:05.694904",
     "exception": false,
     "start_time": "2022-02-02T12:12:05.665274",
     "status": "completed"
    },
    "tags": []
   },
   "outputs": [],
   "source": []
  },
  {
   "cell_type": "code",
   "execution_count": 41,
   "id": "subject-macintosh",
   "metadata": {
    "execution": {
     "iopub.execute_input": "2022-02-02T12:12:05.758209Z",
     "iopub.status.busy": "2022-02-02T12:12:05.757679Z",
     "iopub.status.idle": "2022-02-02T12:12:05.759932Z",
     "shell.execute_reply": "2022-02-02T12:12:05.759498Z"
    },
    "papermill": {
     "duration": 0.035323,
     "end_time": "2022-02-02T12:12:05.760030",
     "exception": false,
     "start_time": "2022-02-02T12:12:05.724707",
     "status": "completed"
    },
    "tags": []
   },
   "outputs": [],
   "source": [
    "# #hide\n",
    "# fig, ax = plt.subplots(figsize=(15, 8))\n",
    "\n",
    "# def draw_barchart(current_day):\n",
    "#     dff = g[g['day'].eq(current_day)].sort_values(by='value', ascending=True).tail(10)\n",
    "#     ax.clear()\n",
    "#     ax.barh(dff['name'], dff['value'], color=[colors[group_lk[x]] for x in dff['name']])\n",
    "#     dx = dff['value'].max() / 200\n",
    "    \n",
    "#     for i, (value, name) in enumerate(zip(dff['value'], dff['name'])):\n",
    "#         ax.text(value-dx, i,     name,           size=14, weight=600, ha='right', va='bottom')\n",
    "#         ax.text(value-dx, i-.25, group_lk[name], size=10, color='#444444', ha='right', va='baseline')\n",
    "#         ax.text(value+dx, i,     f'{value:,.0f}',  size=14, ha='left',  va='center')\n",
    "#     ax.text(1, 0.4, current_day, transform=ax.transAxes, color='#777777', size=46, ha='right', weight=800)\n",
    "#     ax.text(0, 1.06, 'Population (thousands)', transform=ax.transAxes, size=12, color='#777777')\n",
    "#     ax.xaxis.set_major_formatter(ticker.StrMethodFormatter('{x:,.0f}'))\n",
    "#     ax.xaxis.set_ticks_position('top')\n",
    "#     ax.tick_params(axis='x', colors='#777777', labelsize=12)\n",
    "#     ax.set_yticks([])\n",
    "#     ax.margins(0, 0.01)\n",
    "#     ax.grid(which='major', axis='x', linestyle='-')\n",
    "#     ax.set_axisbelow(True)\n",
    "    \n",
    "#     ax.text(0, 1.15, 'Coronavirus',\n",
    "#             transform=ax.transAxes, size=24, weight=600, ha='left', va='top')\n",
    "# #     ax.text(1, 0, 'by @pratapvardhan; credit @jburnmurdoch', transform=ax.transAxes, color='#777777', ha='right',\n",
    "# #             bbox=dict(facecolor='white', alpha=0.8, edgecolor='white'))\n",
    "#     plt.box(False)"
   ]
  },
  {
   "cell_type": "code",
   "execution_count": 42,
   "id": "sexual-wages",
   "metadata": {
    "execution": {
     "iopub.execute_input": "2022-02-02T12:12:05.823393Z",
     "iopub.status.busy": "2022-02-02T12:12:05.822803Z",
     "iopub.status.idle": "2022-02-02T12:12:05.826782Z",
     "shell.execute_reply": "2022-02-02T12:12:05.826296Z"
    },
    "papermill": {
     "duration": 0.036621,
     "end_time": "2022-02-02T12:12:05.826896",
     "exception": false,
     "start_time": "2022-02-02T12:12:05.790275",
     "status": "completed"
    },
    "tags": []
   },
   "outputs": [],
   "source": [
    "# #hide_input\n",
    "# fig, ax = plt.subplots(figsize=(15, 8))\n",
    "# animator = animation.FuncAnimation(fig, draw_barchart, frames=range(g.day.values.min(), g.day.values.max()))\n",
    "# HTML(animator.to_jshtml())\n",
    "# # or use animator.to_html5_video() or animator.save() "
   ]
  },
  {
   "cell_type": "code",
   "execution_count": null,
   "id": "australian-container",
   "metadata": {
    "papermill": {
     "duration": 0.029445,
     "end_time": "2022-02-02T12:12:05.886257",
     "exception": false,
     "start_time": "2022-02-02T12:12:05.856812",
     "status": "completed"
    },
    "tags": []
   },
   "outputs": [],
   "source": []
  },
  {
   "cell_type": "code",
   "execution_count": null,
   "id": "mediterranean-pontiac",
   "metadata": {
    "papermill": {
     "duration": 0.029769,
     "end_time": "2022-02-02T12:12:05.945661",
     "exception": false,
     "start_time": "2022-02-02T12:12:05.915892",
     "status": "completed"
    },
    "tags": []
   },
   "outputs": [],
   "source": []
  },
  {
   "cell_type": "code",
   "execution_count": null,
   "id": "aging-legislature",
   "metadata": {
    "papermill": {
     "duration": 0.029618,
     "end_time": "2022-02-02T12:12:06.005241",
     "exception": false,
     "start_time": "2022-02-02T12:12:05.975623",
     "status": "completed"
    },
    "tags": []
   },
   "outputs": [],
   "source": []
  }
 ],
 "metadata": {
  "kernelspec": {
   "display_name": "Python 3",
   "language": "python",
   "name": "python3"
  },
  "language_info": {
   "codemirror_mode": {
    "name": "ipython",
    "version": 3
   },
   "file_extension": ".py",
   "mimetype": "text/x-python",
   "name": "python",
   "nbconvert_exporter": "python",
   "pygments_lexer": "ipython3",
   "version": "3.6.15"
  },
  "papermill": {
   "duration": 5.869528,
   "end_time": "2022-02-02T12:12:06.352527",
   "environment_variables": {},
   "exception": null,
   "input_path": "2020-03-21-covid19exp.ipynb",
   "output_path": "2020-03-21-covid19exp.ipynb",
   "parameters": {},
   "start_time": "2022-02-02T12:12:00.482999",
   "version": "2.0.0"
  }
 },
 "nbformat": 4,
 "nbformat_minor": 5
}