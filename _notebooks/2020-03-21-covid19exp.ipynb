{
 "cells": [
  {
   "cell_type": "markdown",
   "id": "muslim-click",
   "metadata": {
    "papermill": {
     "duration": 0.034898,
     "end_time": "2022-08-05T12:17:13.561789",
     "exception": false,
     "start_time": "2022-08-05T12:17:13.526891",
     "status": "completed"
    },
    "tags": []
   },
   "source": [
    "# COVID-19 Case Race\n",
    "> A race chart to see rising cases around the world\n",
    "\n",
    "- author: Hargun Oberoi\n",
    "- image: images/covid-overview.png\n",
    "- hide: false\n",
    "- badges: false"
   ]
  },
  {
   "cell_type": "code",
   "execution_count": 1,
   "id": "proof-material",
   "metadata": {
    "execution": {
     "iopub.execute_input": "2022-08-05T12:17:13.631913Z",
     "iopub.status.busy": "2022-08-05T12:17:13.631328Z",
     "iopub.status.idle": "2022-08-05T12:17:13.949075Z",
     "shell.execute_reply": "2022-08-05T12:17:13.948583Z"
    },
    "papermill": {
     "duration": 0.356861,
     "end_time": "2022-08-05T12:17:13.949200",
     "exception": false,
     "start_time": "2022-08-05T12:17:13.592339",
     "status": "completed"
    },
    "tags": []
   },
   "outputs": [],
   "source": [
    "#hide\n",
    "import numpy as np\n",
    "import pandas as pd\n",
    "from jinja2 import Template\n",
    "from IPython.display import HTML"
   ]
  },
  {
   "cell_type": "code",
   "execution_count": 2,
   "id": "developed-terminology",
   "metadata": {
    "execution": {
     "iopub.execute_input": "2022-08-05T12:17:14.014143Z",
     "iopub.status.busy": "2022-08-05T12:17:14.013570Z",
     "iopub.status.idle": "2022-08-05T12:17:14.015483Z",
     "shell.execute_reply": "2022-08-05T12:17:14.015921Z"
    },
    "papermill": {
     "duration": 0.036827,
     "end_time": "2022-08-05T12:17:14.016036",
     "exception": false,
     "start_time": "2022-08-05T12:17:13.979209",
     "status": "completed"
    },
    "tags": []
   },
   "outputs": [],
   "source": [
    "#hide\n",
    "\n",
    "# FETCH\n",
    "base_url = 'https://raw.githubusercontent.com/pratapvardhan/notebooks/master/covid19/'\n",
    "paths = {\n",
    "    'mapping': base_url + 'mapping_countries.csv',\n",
    "    'overview': base_url + 'overview.tpl'\n",
    "}"
   ]
  },
  {
   "cell_type": "code",
   "execution_count": 3,
   "id": "dynamic-saver",
   "metadata": {
    "execution": {
     "iopub.execute_input": "2022-08-05T12:17:14.084453Z",
     "iopub.status.busy": "2022-08-05T12:17:14.083058Z",
     "iopub.status.idle": "2022-08-05T12:17:14.087244Z",
     "shell.execute_reply": "2022-08-05T12:17:14.087692Z"
    },
    "papermill": {
     "duration": 0.042045,
     "end_time": "2022-08-05T12:17:14.087809",
     "exception": false,
     "start_time": "2022-08-05T12:17:14.045764",
     "status": "completed"
    },
    "tags": []
   },
   "outputs": [
    {
     "data": {
      "text/plain": [
       "'https://raw.githubusercontent.com/pratapvardhan/notebooks/master/covid19/mapping_countries.csv'"
      ]
     },
     "execution_count": 3,
     "metadata": {},
     "output_type": "execute_result"
    }
   ],
   "source": [
    "#hide\n",
    "paths['mapping']"
   ]
  },
  {
   "cell_type": "code",
   "execution_count": 4,
   "id": "urban-software",
   "metadata": {
    "execution": {
     "iopub.execute_input": "2022-08-05T12:17:14.153201Z",
     "iopub.status.busy": "2022-08-05T12:17:14.152621Z",
     "iopub.status.idle": "2022-08-05T12:17:14.155056Z",
     "shell.execute_reply": "2022-08-05T12:17:14.154583Z"
    },
    "papermill": {
     "duration": 0.037161,
     "end_time": "2022-08-05T12:17:14.155160",
     "exception": false,
     "start_time": "2022-08-05T12:17:14.117999",
     "status": "completed"
    },
    "tags": []
   },
   "outputs": [],
   "source": [
    "#hide\n",
    "def get_mappings(url):\n",
    "    df = pd.read_csv(url)\n",
    "    return {\n",
    "        'df': df,\n",
    "        'replace.country': dict(df.dropna(subset=['Name']).set_index('Country')['Name']),\n",
    "        'map.continent': dict(df.set_index('Name')['Continent'])\n",
    "    }"
   ]
  },
  {
   "cell_type": "code",
   "execution_count": 5,
   "id": "intimate-machinery",
   "metadata": {
    "execution": {
     "iopub.execute_input": "2022-08-05T12:17:14.220745Z",
     "iopub.status.busy": "2022-08-05T12:17:14.220173Z",
     "iopub.status.idle": "2022-08-05T12:17:14.266566Z",
     "shell.execute_reply": "2022-08-05T12:17:14.266062Z"
    },
    "papermill": {
     "duration": 0.081265,
     "end_time": "2022-08-05T12:17:14.266679",
     "exception": false,
     "start_time": "2022-08-05T12:17:14.185414",
     "status": "completed"
    },
    "tags": []
   },
   "outputs": [],
   "source": [
    "#hide\n",
    "mapping = get_mappings(paths['mapping'])"
   ]
  },
  {
   "cell_type": "code",
   "execution_count": 6,
   "id": "certified-tactics",
   "metadata": {
    "execution": {
     "iopub.execute_input": "2022-08-05T12:17:14.332366Z",
     "iopub.status.busy": "2022-08-05T12:17:14.331783Z",
     "iopub.status.idle": "2022-08-05T12:17:14.334569Z",
     "shell.execute_reply": "2022-08-05T12:17:14.334064Z"
    },
    "papermill": {
     "duration": 0.03768,
     "end_time": "2022-08-05T12:17:14.334676",
     "exception": false,
     "start_time": "2022-08-05T12:17:14.296996",
     "status": "completed"
    },
    "tags": []
   },
   "outputs": [],
   "source": [
    "#hide\n",
    "def get_template(path):\n",
    "    from urllib.parse import urlparse\n",
    "    if bool(urlparse(path).netloc):\n",
    "        from urllib.request import urlopen\n",
    "        return urlopen(path).read().decode('utf8')\n",
    "    return open(path).read()"
   ]
  },
  {
   "cell_type": "code",
   "execution_count": 7,
   "id": "realistic-blast",
   "metadata": {
    "execution": {
     "iopub.execute_input": "2022-08-05T12:17:14.399394Z",
     "iopub.status.busy": "2022-08-05T12:17:14.398818Z",
     "iopub.status.idle": "2022-08-05T12:17:14.401466Z",
     "shell.execute_reply": "2022-08-05T12:17:14.401025Z"
    },
    "papermill": {
     "duration": 0.036866,
     "end_time": "2022-08-05T12:17:14.401563",
     "exception": false,
     "start_time": "2022-08-05T12:17:14.364697",
     "status": "completed"
    },
    "tags": []
   },
   "outputs": [],
   "source": [
    "#hide\n",
    "def get_frame(name):\n",
    "    url = (\n",
    "        'https://raw.githubusercontent.com/CSSEGISandData/COVID-19/master/csse_covid_19_data/'\n",
    "        f'csse_covid_19_time_series/time_series_covid19_{name}_global.csv')\n",
    "    df = pd.read_csv(url)\n",
    "    # rename countries\n",
    "    df['Country/Region'] = df['Country/Region'].replace(mapping['replace.country'])\n",
    "    return df"
   ]
  },
  {
   "cell_type": "code",
   "execution_count": 8,
   "id": "affiliated-characterization",
   "metadata": {
    "execution": {
     "iopub.execute_input": "2022-08-05T12:17:14.467590Z",
     "iopub.status.busy": "2022-08-05T12:17:14.467000Z",
     "iopub.status.idle": "2022-08-05T12:17:14.469412Z",
     "shell.execute_reply": "2022-08-05T12:17:14.468871Z"
    },
    "papermill": {
     "duration": 0.037848,
     "end_time": "2022-08-05T12:17:14.469514",
     "exception": false,
     "start_time": "2022-08-05T12:17:14.431666",
     "status": "completed"
    },
    "tags": []
   },
   "outputs": [],
   "source": [
    "#hide\n",
    "def get_dates(df):\n",
    "    dt_cols = df.columns[~df.columns.isin(['Province/State', 'Country/Region', 'Lat', 'Long'])]\n",
    "    LAST_DATE_I = -1\n",
    "    # sometimes last column may be empty, then go backwards\n",
    "    for i in range(-1, -len(dt_cols), -1):\n",
    "        if not df[dt_cols[i]].fillna(0).eq(0).all():\n",
    "            LAST_DATE_I = i\n",
    "            break\n",
    "    return LAST_DATE_I, dt_cols"
   ]
  },
  {
   "cell_type": "code",
   "execution_count": 9,
   "id": "recent-optimization",
   "metadata": {
    "execution": {
     "iopub.execute_input": "2022-08-05T12:17:14.533915Z",
     "iopub.status.busy": "2022-08-05T12:17:14.533350Z",
     "iopub.status.idle": "2022-08-05T12:17:15.046781Z",
     "shell.execute_reply": "2022-08-05T12:17:15.046270Z"
    },
    "papermill": {
     "duration": 0.547361,
     "end_time": "2022-08-05T12:17:15.046902",
     "exception": false,
     "start_time": "2022-08-05T12:17:14.499541",
     "status": "completed"
    },
    "tags": []
   },
   "outputs": [],
   "source": [
    "#hide\n",
    "COL_REGION = 'Country/Region'\n",
    "# Confirmed, Recovered, Deaths\n",
    "df = get_frame('confirmed')\n",
    "# dft_: timeseries, dfc_: today country agg\n",
    "dft_cases = df\n",
    "dft_deaths = get_frame('deaths')\n",
    "dft_recovered = get_frame('recovered')\n",
    "LAST_DATE_I, dt_cols = get_dates(df)"
   ]
  },
  {
   "cell_type": "code",
   "execution_count": 10,
   "id": "absolute-copper",
   "metadata": {
    "execution": {
     "iopub.execute_input": "2022-08-05T12:17:15.112965Z",
     "iopub.status.busy": "2022-08-05T12:17:15.112388Z",
     "iopub.status.idle": "2022-08-05T12:17:15.114205Z",
     "shell.execute_reply": "2022-08-05T12:17:15.114644Z"
    },
    "papermill": {
     "duration": 0.037579,
     "end_time": "2022-08-05T12:17:15.114761",
     "exception": false,
     "start_time": "2022-08-05T12:17:15.077182",
     "status": "completed"
    },
    "tags": []
   },
   "outputs": [],
   "source": [
    "#hide\n",
    "LAST_DATE_I, dt_cols = get_dates(df)\n",
    "dt_today =dt_cols[LAST_DATE_I]\n",
    "# dt_5day = dt_cols[LAST_DATE_I - 5]\n",
    "dt_yday = dt_cols[LAST_DATE_I - 1]"
   ]
  },
  {
   "cell_type": "code",
   "execution_count": 11,
   "id": "restricted-sheriff",
   "metadata": {
    "execution": {
     "iopub.execute_input": "2022-08-05T12:17:15.179777Z",
     "iopub.status.busy": "2022-08-05T12:17:15.179213Z",
     "iopub.status.idle": "2022-08-05T12:17:15.186342Z",
     "shell.execute_reply": "2022-08-05T12:17:15.186811Z"
    },
    "papermill": {
     "duration": 0.042271,
     "end_time": "2022-08-05T12:17:15.186928",
     "exception": false,
     "start_time": "2022-08-05T12:17:15.144657",
     "status": "completed"
    },
    "tags": []
   },
   "outputs": [],
   "source": [
    "#hide\n",
    "dfc_cases = dft_cases.groupby(COL_REGION)[dt_today].sum()\n",
    "dfc_deaths = dft_deaths.groupby(COL_REGION)[dt_today].sum()\n",
    "# dfp_cases = dft_cases.groupby(COL_REGION)[dt_5day].sum()\n",
    "# dfp_deaths = dft_deaths.groupby(COL_REGION)[dt_5day].sum()\n",
    "dfp_cases = dft_cases.groupby(COL_REGION)[dt_yday].sum()\n",
    "dfp_deaths = dft_deaths.groupby(COL_REGION)[dt_yday].sum()"
   ]
  },
  {
   "cell_type": "code",
   "execution_count": 12,
   "id": "deluxe-hepatitis",
   "metadata": {
    "execution": {
     "iopub.execute_input": "2022-08-05T12:17:15.252768Z",
     "iopub.status.busy": "2022-08-05T12:17:15.252206Z",
     "iopub.status.idle": "2022-08-05T12:17:15.256794Z",
     "shell.execute_reply": "2022-08-05T12:17:15.256350Z"
    },
    "papermill": {
     "duration": 0.039829,
     "end_time": "2022-08-05T12:17:15.256896",
     "exception": false,
     "start_time": "2022-08-05T12:17:15.217067",
     "status": "completed"
    },
    "tags": []
   },
   "outputs": [],
   "source": [
    "#hide\n",
    "df_table = (pd.DataFrame(dict(Cases = dfc_cases, Deaths = dfc_deaths, PCases = dfp_cases, PDeaths = dfp_deaths))\n",
    "            .sort_values(by = ['Cases','Deaths'], ascending = [False, False])\n",
    "            .reset_index())"
   ]
  },
  {
   "cell_type": "code",
   "execution_count": 13,
   "id": "educational-chancellor",
   "metadata": {
    "execution": {
     "iopub.execute_input": "2022-08-05T12:17:15.333251Z",
     "iopub.status.busy": "2022-08-05T12:17:15.332681Z",
     "iopub.status.idle": "2022-08-05T12:17:15.341051Z",
     "shell.execute_reply": "2022-08-05T12:17:15.340603Z"
    },
    "papermill": {
     "duration": 0.054318,
     "end_time": "2022-08-05T12:17:15.341153",
     "exception": false,
     "start_time": "2022-08-05T12:17:15.286835",
     "status": "completed"
    },
    "tags": []
   },
   "outputs": [
    {
     "data": {
      "text/html": [
       "<div>\n",
       "<style scoped>\n",
       "    .dataframe tbody tr th:only-of-type {\n",
       "        vertical-align: middle;\n",
       "    }\n",
       "\n",
       "    .dataframe tbody tr th {\n",
       "        vertical-align: top;\n",
       "    }\n",
       "\n",
       "    .dataframe thead th {\n",
       "        text-align: right;\n",
       "    }\n",
       "</style>\n",
       "<table border=\"1\" class=\"dataframe\">\n",
       "  <thead>\n",
       "    <tr style=\"text-align: right;\">\n",
       "      <th></th>\n",
       "      <th>Country/Region</th>\n",
       "      <th>Cases</th>\n",
       "      <th>Deaths</th>\n",
       "      <th>PCases</th>\n",
       "      <th>PDeaths</th>\n",
       "      <th>Cases (+)</th>\n",
       "      <th>Deaths (+)</th>\n",
       "      <th>Fatality Rate</th>\n",
       "      <th>Continent</th>\n",
       "    </tr>\n",
       "  </thead>\n",
       "  <tbody>\n",
       "    <tr>\n",
       "      <th>0</th>\n",
       "      <td>US</td>\n",
       "      <td>91961519</td>\n",
       "      <td>1032820</td>\n",
       "      <td>91794533</td>\n",
       "      <td>1032195</td>\n",
       "      <td>166986</td>\n",
       "      <td>625</td>\n",
       "      <td>1.12</td>\n",
       "      <td>North America</td>\n",
       "    </tr>\n",
       "    <tr>\n",
       "      <th>1</th>\n",
       "      <td>India</td>\n",
       "      <td>44107588</td>\n",
       "      <td>526600</td>\n",
       "      <td>44087037</td>\n",
       "      <td>526530</td>\n",
       "      <td>20551</td>\n",
       "      <td>70</td>\n",
       "      <td>1.19</td>\n",
       "      <td>Asia</td>\n",
       "    </tr>\n",
       "    <tr>\n",
       "      <th>2</th>\n",
       "      <td>France</td>\n",
       "      <td>34206310</td>\n",
       "      <td>153497</td>\n",
       "      <td>34172819</td>\n",
       "      <td>153410</td>\n",
       "      <td>33491</td>\n",
       "      <td>87</td>\n",
       "      <td>0.45</td>\n",
       "      <td>Europe</td>\n",
       "    </tr>\n",
       "    <tr>\n",
       "      <th>3</th>\n",
       "      <td>Brazil</td>\n",
       "      <td>33964494</td>\n",
       "      <td>679536</td>\n",
       "      <td>33924061</td>\n",
       "      <td>679275</td>\n",
       "      <td>40433</td>\n",
       "      <td>261</td>\n",
       "      <td>2.00</td>\n",
       "      <td>South America</td>\n",
       "    </tr>\n",
       "    <tr>\n",
       "      <th>4</th>\n",
       "      <td>Germany</td>\n",
       "      <td>31178705</td>\n",
       "      <td>144717</td>\n",
       "      <td>31119199</td>\n",
       "      <td>144552</td>\n",
       "      <td>59506</td>\n",
       "      <td>165</td>\n",
       "      <td>0.46</td>\n",
       "      <td>Europe</td>\n",
       "    </tr>\n",
       "  </tbody>\n",
       "</table>\n",
       "</div>"
      ],
      "text/plain": [
       "  Country/Region     Cases   Deaths    PCases  PDeaths  Cases (+)  Deaths (+)  \\\n",
       "0             US  91961519  1032820  91794533  1032195     166986         625   \n",
       "1          India  44107588   526600  44087037   526530      20551          70   \n",
       "2         France  34206310   153497  34172819   153410      33491          87   \n",
       "3         Brazil  33964494   679536  33924061   679275      40433         261   \n",
       "4        Germany  31178705   144717  31119199   144552      59506         165   \n",
       "\n",
       "   Fatality Rate      Continent  \n",
       "0           1.12  North America  \n",
       "1           1.19           Asia  \n",
       "2           0.45         Europe  \n",
       "3           2.00  South America  \n",
       "4           0.46         Europe  "
      ]
     },
     "execution_count": 13,
     "metadata": {},
     "output_type": "execute_result"
    }
   ],
   "source": [
    "#hide\n",
    "for c in 'Cases, Deaths'.split(', '):\n",
    "    df_table[f'{c} (+)'] = (df_table[c] - df_table[f'P{c}']).clip(0)\n",
    "    #Clip ça veut dire, les chiffres negatif sont interdit\n",
    "df_table['Fatality Rate'] = (100* df_table['Deaths']/ df_table['Cases']).round(2)\n",
    "df_table['Continent'] = df_table['Country/Region'].map(mapping['map.continent'])\n",
    "df_table.head(5)"
   ]
  },
  {
   "cell_type": "code",
   "execution_count": 14,
   "id": "aboriginal-bulgaria",
   "metadata": {
    "execution": {
     "iopub.execute_input": "2022-08-05T12:17:15.407950Z",
     "iopub.status.busy": "2022-08-05T12:17:15.407366Z",
     "iopub.status.idle": "2022-08-05T12:17:15.409826Z",
     "shell.execute_reply": "2022-08-05T12:17:15.409392Z"
    },
    "papermill": {
     "duration": 0.038262,
     "end_time": "2022-08-05T12:17:15.409931",
     "exception": false,
     "start_time": "2022-08-05T12:17:15.371669",
     "status": "completed"
    },
    "tags": []
   },
   "outputs": [],
   "source": [
    "#hide\n",
    "#delete problematic countries from table\n",
    "df_table = df_table[~df_table['Country/Region'].isin(['Cape Verde', 'Cruise Ship', 'Kosovo'])]"
   ]
  },
  {
   "cell_type": "code",
   "execution_count": 15,
   "id": "fantastic-effect",
   "metadata": {
    "execution": {
     "iopub.execute_input": "2022-08-05T12:17:15.479269Z",
     "iopub.status.busy": "2022-08-05T12:17:15.477976Z",
     "iopub.status.idle": "2022-08-05T12:17:15.496762Z",
     "shell.execute_reply": "2022-08-05T12:17:15.496303Z"
    },
    "papermill": {
     "duration": 0.05641,
     "end_time": "2022-08-05T12:17:15.496868",
     "exception": false,
     "start_time": "2022-08-05T12:17:15.440458",
     "status": "completed"
    },
    "tags": []
   },
   "outputs": [
    {
     "data": {
      "text/html": [
       "<div>\n",
       "<style scoped>\n",
       "    .dataframe tbody tr th:only-of-type {\n",
       "        vertical-align: middle;\n",
       "    }\n",
       "\n",
       "    .dataframe tbody tr th {\n",
       "        vertical-align: top;\n",
       "    }\n",
       "\n",
       "    .dataframe thead th {\n",
       "        text-align: right;\n",
       "    }\n",
       "</style>\n",
       "<table border=\"1\" class=\"dataframe\">\n",
       "  <thead>\n",
       "    <tr style=\"text-align: right;\">\n",
       "      <th></th>\n",
       "      <th>Country/Region</th>\n",
       "      <th>Cases</th>\n",
       "      <th>Deaths</th>\n",
       "      <th>PCases</th>\n",
       "      <th>PDeaths</th>\n",
       "      <th>Cases (+)</th>\n",
       "      <th>Deaths (+)</th>\n",
       "      <th>Fatality Rate</th>\n",
       "      <th>Continent</th>\n",
       "    </tr>\n",
       "  </thead>\n",
       "  <tbody>\n",
       "    <tr>\n",
       "      <th>0</th>\n",
       "      <td>US</td>\n",
       "      <td>91961519</td>\n",
       "      <td>1032820</td>\n",
       "      <td>91794533</td>\n",
       "      <td>1032195</td>\n",
       "      <td>166986</td>\n",
       "      <td>625</td>\n",
       "      <td>1.1</td>\n",
       "      <td>North America</td>\n",
       "    </tr>\n",
       "    <tr>\n",
       "      <th>1</th>\n",
       "      <td>India</td>\n",
       "      <td>44107588</td>\n",
       "      <td>526600</td>\n",
       "      <td>44087037</td>\n",
       "      <td>526530</td>\n",
       "      <td>20551</td>\n",
       "      <td>70</td>\n",
       "      <td>1.2</td>\n",
       "      <td>Asia</td>\n",
       "    </tr>\n",
       "    <tr>\n",
       "      <th>2</th>\n",
       "      <td>France</td>\n",
       "      <td>34206310</td>\n",
       "      <td>153497</td>\n",
       "      <td>34172819</td>\n",
       "      <td>153410</td>\n",
       "      <td>33491</td>\n",
       "      <td>87</td>\n",
       "      <td>0.4</td>\n",
       "      <td>Europe</td>\n",
       "    </tr>\n",
       "    <tr>\n",
       "      <th>3</th>\n",
       "      <td>Brazil</td>\n",
       "      <td>33964494</td>\n",
       "      <td>679536</td>\n",
       "      <td>33924061</td>\n",
       "      <td>679275</td>\n",
       "      <td>40433</td>\n",
       "      <td>261</td>\n",
       "      <td>2.0</td>\n",
       "      <td>South America</td>\n",
       "    </tr>\n",
       "    <tr>\n",
       "      <th>4</th>\n",
       "      <td>Germany</td>\n",
       "      <td>31178705</td>\n",
       "      <td>144717</td>\n",
       "      <td>31119199</td>\n",
       "      <td>144552</td>\n",
       "      <td>59506</td>\n",
       "      <td>165</td>\n",
       "      <td>0.5</td>\n",
       "      <td>Europe</td>\n",
       "    </tr>\n",
       "  </tbody>\n",
       "</table>\n",
       "</div>"
      ],
      "text/plain": [
       "  Country/Region     Cases   Deaths    PCases  PDeaths  Cases (+)  Deaths (+)  \\\n",
       "0             US  91961519  1032820  91794533  1032195     166986         625   \n",
       "1          India  44107588   526600  44087037   526530      20551          70   \n",
       "2         France  34206310   153497  34172819   153410      33491          87   \n",
       "3         Brazil  33964494   679536  33924061   679275      40433         261   \n",
       "4        Germany  31178705   144717  31119199   144552      59506         165   \n",
       "\n",
       "   Fatality Rate      Continent  \n",
       "0            1.1  North America  \n",
       "1            1.2           Asia  \n",
       "2            0.4         Europe  \n",
       "3            2.0  South America  \n",
       "4            0.5         Europe  "
      ]
     },
     "execution_count": 15,
     "metadata": {},
     "output_type": "execute_result"
    }
   ],
   "source": [
    "#hide\n",
    "df_table = (pd.DataFrame(dict(Cases=dfc_cases, Deaths=dfc_deaths, PCases=dfp_cases, PDeaths=dfp_deaths))\n",
    "             .sort_values(by=['Cases', 'Deaths'], ascending=[False, False])\n",
    "             .reset_index())\n",
    "df_table.rename(columns={'index': 'Country/Region'}, inplace=True)\n",
    "for c in 'Cases, Deaths'.split(', '):\n",
    "    df_table[f'{c} (+)'] = (df_table[c] - df_table[f'P{c}']).clip(0)  # DATA BUG\n",
    "df_table['Fatality Rate'] = (100 * df_table['Deaths'] / df_table['Cases']).round(1)\n",
    "df_table['Continent'] = df_table['Country/Region'].map(mapping['map.continent'])\n",
    "df_table.head(5)"
   ]
  },
  {
   "cell_type": "code",
   "execution_count": 16,
   "id": "fewer-occasion",
   "metadata": {
    "execution": {
     "iopub.execute_input": "2022-08-05T12:17:15.564738Z",
     "iopub.status.busy": "2022-08-05T12:17:15.564145Z",
     "iopub.status.idle": "2022-08-05T12:17:15.566516Z",
     "shell.execute_reply": "2022-08-05T12:17:15.566066Z"
    },
    "papermill": {
     "duration": 0.038456,
     "end_time": "2022-08-05T12:17:15.566639",
     "exception": false,
     "start_time": "2022-08-05T12:17:15.528183",
     "status": "completed"
    },
    "tags": []
   },
   "outputs": [],
   "source": [
    "#hide\n",
    "#delete problematic countries from table\n",
    "df_table = df_table[~df_table['Country/Region'].isin(['Cape Verde', 'Cruise Ship', 'Kosovo'])]"
   ]
  },
  {
   "cell_type": "code",
   "execution_count": 17,
   "id": "related-center",
   "metadata": {
    "execution": {
     "iopub.execute_input": "2022-08-05T12:17:15.639104Z",
     "iopub.status.busy": "2022-08-05T12:17:15.638496Z",
     "iopub.status.idle": "2022-08-05T12:17:15.648427Z",
     "shell.execute_reply": "2022-08-05T12:17:15.647938Z"
    },
    "papermill": {
     "duration": 0.051004,
     "end_time": "2022-08-05T12:17:15.648535",
     "exception": false,
     "start_time": "2022-08-05T12:17:15.597531",
     "status": "completed"
    },
    "tags": []
   },
   "outputs": [],
   "source": [
    "#hide\n",
    "metrics = [df_table.columns[index] for index in [1,2,5,6]]\n",
    "# s_china = df_table[df_table['Country/Region'].eq('China')][metrics].sum().add_prefix('China ')\n",
    "s_us = df_table[df_table['Country/Region'].eq('US')][metrics].sum().add_prefix('US ')\n",
    "s_eu = df_table[df_table['Continent'].eq('Europe')][metrics].sum().add_prefix('EU ')\n",
    "s_ind = df_table[df_table['Country/Region'].eq('India')][metrics].sum().add_prefix('India ')\n",
    "summary = {'updated': pd.to_datetime(dt_today), 'since': pd.to_datetime(dt_yday)}\n",
    "summary = {'updated': pd.to_datetime(dt_today), 'since': pd.to_datetime(dt_yday)}\n",
    "summary = {**summary, **df_table[metrics].sum(), **s_ind, **s_us, **s_eu}"
   ]
  },
  {
   "cell_type": "code",
   "execution_count": 18,
   "id": "engaging-syndrome",
   "metadata": {
    "execution": {
     "iopub.execute_input": "2022-08-05T12:17:15.716595Z",
     "iopub.status.busy": "2022-08-05T12:17:15.716017Z",
     "iopub.status.idle": "2022-08-05T12:17:15.736593Z",
     "shell.execute_reply": "2022-08-05T12:17:15.735823Z"
    },
    "papermill": {
     "duration": 0.056595,
     "end_time": "2022-08-05T12:17:15.736710",
     "exception": false,
     "start_time": "2022-08-05T12:17:15.680115",
     "status": "completed"
    },
    "tags": []
   },
   "outputs": [],
   "source": [
    "#hide\n",
    "dft_ct_new_cases = dft_cases.groupby(COL_REGION)[dt_cols].sum().diff(axis=1).fillna(0).astype(int)"
   ]
  },
  {
   "cell_type": "code",
   "execution_count": 19,
   "id": "neutral-assignment",
   "metadata": {
    "execution": {
     "iopub.execute_input": "2022-08-05T12:17:15.804731Z",
     "iopub.status.busy": "2022-08-05T12:17:15.804140Z",
     "iopub.status.idle": "2022-08-05T12:17:15.807023Z",
     "shell.execute_reply": "2022-08-05T12:17:15.806460Z"
    },
    "papermill": {
     "duration": 0.039163,
     "end_time": "2022-08-05T12:17:15.807126",
     "exception": false,
     "start_time": "2022-08-05T12:17:15.767963",
     "status": "completed"
    },
    "tags": []
   },
   "outputs": [],
   "source": [
    "#hide\n",
    "everydaycases = dft_ct_new_cases.cumsum(axis=1)"
   ]
  },
  {
   "cell_type": "code",
   "execution_count": 20,
   "id": "parliamentary-calgary",
   "metadata": {
    "execution": {
     "iopub.execute_input": "2022-08-05T12:17:15.873523Z",
     "iopub.status.busy": "2022-08-05T12:17:15.872954Z",
     "iopub.status.idle": "2022-08-05T12:17:16.417573Z",
     "shell.execute_reply": "2022-08-05T12:17:16.417100Z"
    },
    "papermill": {
     "duration": 0.579499,
     "end_time": "2022-08-05T12:17:16.417690",
     "exception": false,
     "start_time": "2022-08-05T12:17:15.838191",
     "status": "completed"
    },
    "tags": []
   },
   "outputs": [],
   "source": [
    "#hide\n",
    "import pandas as pd\n",
    "import matplotlib.pyplot as plt\n",
    "import matplotlib.ticker as ticker\n",
    "import matplotlib.animation as animation\n",
    "from IPython.display import HTML"
   ]
  },
  {
   "cell_type": "code",
   "execution_count": 21,
   "id": "lasting-extraction",
   "metadata": {
    "execution": {
     "iopub.execute_input": "2022-08-05T12:17:16.486208Z",
     "iopub.status.busy": "2022-08-05T12:17:16.485642Z",
     "iopub.status.idle": "2022-08-05T12:17:16.492254Z",
     "shell.execute_reply": "2022-08-05T12:17:16.492774Z"
    },
    "papermill": {
     "duration": 0.043967,
     "end_time": "2022-08-05T12:17:16.492894",
     "exception": false,
     "start_time": "2022-08-05T12:17:16.448927",
     "status": "completed"
    },
    "tags": []
   },
   "outputs": [],
   "source": [
    "#hide\n",
    "t = everydaycases.stack()"
   ]
  },
  {
   "cell_type": "code",
   "execution_count": 22,
   "id": "premier-sleeve",
   "metadata": {
    "execution": {
     "iopub.execute_input": "2022-08-05T12:17:16.559283Z",
     "iopub.status.busy": "2022-08-05T12:17:16.558705Z",
     "iopub.status.idle": "2022-08-05T12:17:16.569916Z",
     "shell.execute_reply": "2022-08-05T12:17:16.569411Z"
    },
    "papermill": {
     "duration": 0.04594,
     "end_time": "2022-08-05T12:17:16.570023",
     "exception": false,
     "start_time": "2022-08-05T12:17:16.524083",
     "status": "completed"
    },
    "tags": []
   },
   "outputs": [],
   "source": [
    "#hide\n",
    "g = t.reset_index(['Country/Region'])"
   ]
  },
  {
   "cell_type": "code",
   "execution_count": 23,
   "id": "distributed-pittsburgh",
   "metadata": {
    "execution": {
     "iopub.execute_input": "2022-08-05T12:17:16.635845Z",
     "iopub.status.busy": "2022-08-05T12:17:16.635288Z",
     "iopub.status.idle": "2022-08-05T12:17:16.637651Z",
     "shell.execute_reply": "2022-08-05T12:17:16.637122Z"
    },
    "papermill": {
     "duration": 0.036583,
     "end_time": "2022-08-05T12:17:16.637748",
     "exception": false,
     "start_time": "2022-08-05T12:17:16.601165",
     "status": "completed"
    },
    "tags": []
   },
   "outputs": [],
   "source": [
    "#hide\n",
    "g.index.name = 'date'"
   ]
  },
  {
   "cell_type": "code",
   "execution_count": 24,
   "id": "naked-donor",
   "metadata": {
    "execution": {
     "iopub.execute_input": "2022-08-05T12:17:16.703692Z",
     "iopub.status.busy": "2022-08-05T12:17:16.703124Z",
     "iopub.status.idle": "2022-08-05T12:17:16.705622Z",
     "shell.execute_reply": "2022-08-05T12:17:16.705088Z"
    },
    "papermill": {
     "duration": 0.036808,
     "end_time": "2022-08-05T12:17:16.705723",
     "exception": false,
     "start_time": "2022-08-05T12:17:16.668915",
     "status": "completed"
    },
    "tags": []
   },
   "outputs": [],
   "source": [
    "# #hide\n",
    "# g = g.reset_index(['date'])"
   ]
  },
  {
   "cell_type": "code",
   "execution_count": 25,
   "id": "incomplete-mustang",
   "metadata": {
    "execution": {
     "iopub.execute_input": "2022-08-05T12:17:16.771413Z",
     "iopub.status.busy": "2022-08-05T12:17:16.770806Z",
     "iopub.status.idle": "2022-08-05T12:17:16.772815Z",
     "shell.execute_reply": "2022-08-05T12:17:16.773221Z"
    },
    "papermill": {
     "duration": 0.036664,
     "end_time": "2022-08-05T12:17:16.773347",
     "exception": false,
     "start_time": "2022-08-05T12:17:16.736683",
     "status": "completed"
    },
    "tags": []
   },
   "outputs": [],
   "source": [
    "#hide\n",
    "# g.head()"
   ]
  },
  {
   "cell_type": "code",
   "execution_count": 26,
   "id": "specific-kruger",
   "metadata": {
    "execution": {
     "iopub.execute_input": "2022-08-05T12:17:16.839489Z",
     "iopub.status.busy": "2022-08-05T12:17:16.838343Z",
     "iopub.status.idle": "2022-08-05T12:17:16.840119Z",
     "shell.execute_reply": "2022-08-05T12:17:16.840529Z"
    },
    "papermill": {
     "duration": 0.03632,
     "end_time": "2022-08-05T12:17:16.840643",
     "exception": false,
     "start_time": "2022-08-05T12:17:16.804323",
     "status": "completed"
    },
    "tags": []
   },
   "outputs": [],
   "source": [
    "#hide\n",
    "# g.columns = ['date','country','cases']"
   ]
  },
  {
   "cell_type": "code",
   "execution_count": 27,
   "id": "tender-conversion",
   "metadata": {
    "execution": {
     "iopub.execute_input": "2022-08-05T12:17:16.906479Z",
     "iopub.status.busy": "2022-08-05T12:17:16.905880Z",
     "iopub.status.idle": "2022-08-05T12:17:16.908327Z",
     "shell.execute_reply": "2022-08-05T12:17:16.907875Z"
    },
    "papermill": {
     "duration": 0.036524,
     "end_time": "2022-08-05T12:17:16.908428",
     "exception": false,
     "start_time": "2022-08-05T12:17:16.871904",
     "status": "completed"
    },
    "tags": []
   },
   "outputs": [],
   "source": [
    "#hide\n",
    "# g['continent'] = g.country"
   ]
  },
  {
   "cell_type": "code",
   "execution_count": 28,
   "id": "substantial-wilderness",
   "metadata": {
    "execution": {
     "iopub.execute_input": "2022-08-05T12:17:16.974199Z",
     "iopub.status.busy": "2022-08-05T12:17:16.973628Z",
     "iopub.status.idle": "2022-08-05T12:17:16.975569Z",
     "shell.execute_reply": "2022-08-05T12:17:16.975990Z"
    },
    "papermill": {
     "duration": 0.036429,
     "end_time": "2022-08-05T12:17:16.976107",
     "exception": false,
     "start_time": "2022-08-05T12:17:16.939678",
     "status": "completed"
    },
    "tags": []
   },
   "outputs": [],
   "source": [
    "#hide\n",
    "# cols = list(g.columns.values)"
   ]
  },
  {
   "cell_type": "code",
   "execution_count": 29,
   "id": "solved-farming",
   "metadata": {
    "execution": {
     "iopub.execute_input": "2022-08-05T12:17:17.041657Z",
     "iopub.status.busy": "2022-08-05T12:17:17.041100Z",
     "iopub.status.idle": "2022-08-05T12:17:17.043355Z",
     "shell.execute_reply": "2022-08-05T12:17:17.042827Z"
    },
    "papermill": {
     "duration": 0.036298,
     "end_time": "2022-08-05T12:17:17.043456",
     "exception": false,
     "start_time": "2022-08-05T12:17:17.007158",
     "status": "completed"
    },
    "tags": []
   },
   "outputs": [],
   "source": [
    "#hide\n",
    "# cols.insert(0, cols.pop())"
   ]
  },
  {
   "cell_type": "code",
   "execution_count": 30,
   "id": "executed-adoption",
   "metadata": {
    "execution": {
     "iopub.execute_input": "2022-08-05T12:17:17.109010Z",
     "iopub.status.busy": "2022-08-05T12:17:17.108441Z",
     "iopub.status.idle": "2022-08-05T12:17:17.110327Z",
     "shell.execute_reply": "2022-08-05T12:17:17.110791Z"
    },
    "papermill": {
     "duration": 0.036384,
     "end_time": "2022-08-05T12:17:17.110906",
     "exception": false,
     "start_time": "2022-08-05T12:17:17.074522",
     "status": "completed"
    },
    "tags": []
   },
   "outputs": [],
   "source": [
    "#hide\n",
    "# g = g[cols]"
   ]
  },
  {
   "cell_type": "code",
   "execution_count": 31,
   "id": "subject-dublin",
   "metadata": {
    "execution": {
     "iopub.execute_input": "2022-08-05T12:17:17.176365Z",
     "iopub.status.busy": "2022-08-05T12:17:17.175783Z",
     "iopub.status.idle": "2022-08-05T12:17:17.177687Z",
     "shell.execute_reply": "2022-08-05T12:17:17.178107Z"
    },
    "papermill": {
     "duration": 0.036444,
     "end_time": "2022-08-05T12:17:17.178222",
     "exception": false,
     "start_time": "2022-08-05T12:17:17.141778",
     "status": "completed"
    },
    "tags": []
   },
   "outputs": [],
   "source": [
    "#hide\n",
    "# g['continent'] = g['continent'].map(mapping['map.continent'])"
   ]
  },
  {
   "cell_type": "code",
   "execution_count": 32,
   "id": "freelance-scout",
   "metadata": {
    "execution": {
     "iopub.execute_input": "2022-08-05T12:17:17.244325Z",
     "iopub.status.busy": "2022-08-05T12:17:17.243750Z",
     "iopub.status.idle": "2022-08-05T12:17:17.246281Z",
     "shell.execute_reply": "2022-08-05T12:17:17.245804Z"
    },
    "papermill": {
     "duration": 0.037031,
     "end_time": "2022-08-05T12:17:17.246388",
     "exception": false,
     "start_time": "2022-08-05T12:17:17.209357",
     "status": "completed"
    },
    "tags": []
   },
   "outputs": [],
   "source": [
    "#hide\n",
    "# g.head()"
   ]
  },
  {
   "cell_type": "code",
   "execution_count": 33,
   "id": "limited-engine",
   "metadata": {
    "execution": {
     "iopub.execute_input": "2022-08-05T12:17:17.311742Z",
     "iopub.status.busy": "2022-08-05T12:17:17.311171Z",
     "iopub.status.idle": "2022-08-05T12:17:17.313131Z",
     "shell.execute_reply": "2022-08-05T12:17:17.313548Z"
    },
    "papermill": {
     "duration": 0.03638,
     "end_time": "2022-08-05T12:17:17.313667",
     "exception": false,
     "start_time": "2022-08-05T12:17:17.277287",
     "status": "completed"
    },
    "tags": []
   },
   "outputs": [],
   "source": [
    "# hide\n",
    "# g['date'] = g['date'].astype('datetime64[ns]')"
   ]
  },
  {
   "cell_type": "code",
   "execution_count": 34,
   "id": "sophisticated-supervisor",
   "metadata": {
    "execution": {
     "iopub.execute_input": "2022-08-05T12:17:17.379611Z",
     "iopub.status.busy": "2022-08-05T12:17:17.379048Z",
     "iopub.status.idle": "2022-08-05T12:17:17.381367Z",
     "shell.execute_reply": "2022-08-05T12:17:17.380838Z"
    },
    "papermill": {
     "duration": 0.036703,
     "end_time": "2022-08-05T12:17:17.381466",
     "exception": false,
     "start_time": "2022-08-05T12:17:17.344763",
     "status": "completed"
    },
    "tags": []
   },
   "outputs": [],
   "source": [
    "#hide\n",
    "# g['date'] = g.date.dt.dayofyear"
   ]
  },
  {
   "cell_type": "code",
   "execution_count": 35,
   "id": "inside-dubai",
   "metadata": {
    "execution": {
     "iopub.execute_input": "2022-08-05T12:17:17.446841Z",
     "iopub.status.busy": "2022-08-05T12:17:17.446249Z",
     "iopub.status.idle": "2022-08-05T12:17:17.448704Z",
     "shell.execute_reply": "2022-08-05T12:17:17.448181Z"
    },
    "papermill": {
     "duration": 0.036318,
     "end_time": "2022-08-05T12:17:17.448805",
     "exception": false,
     "start_time": "2022-08-05T12:17:17.412487",
     "status": "completed"
    },
    "tags": []
   },
   "outputs": [],
   "source": [
    "#hide\n",
    "# g = g.rename(columns= {'continent':'group','country':'name','cases':'value'})"
   ]
  },
  {
   "cell_type": "code",
   "execution_count": 36,
   "id": "fleet-motorcycle",
   "metadata": {
    "execution": {
     "iopub.execute_input": "2022-08-05T12:17:17.514296Z",
     "iopub.status.busy": "2022-08-05T12:17:17.513725Z",
     "iopub.status.idle": "2022-08-05T12:17:17.516198Z",
     "shell.execute_reply": "2022-08-05T12:17:17.515772Z"
    },
    "papermill": {
     "duration": 0.036453,
     "end_time": "2022-08-05T12:17:17.516300",
     "exception": false,
     "start_time": "2022-08-05T12:17:17.479847",
     "status": "completed"
    },
    "tags": []
   },
   "outputs": [],
   "source": [
    "#hide\n",
    "# cols = ['name','group','day','value']"
   ]
  },
  {
   "cell_type": "code",
   "execution_count": 37,
   "id": "continued-sleeping",
   "metadata": {
    "execution": {
     "iopub.execute_input": "2022-08-05T12:17:17.581789Z",
     "iopub.status.busy": "2022-08-05T12:17:17.581226Z",
     "iopub.status.idle": "2022-08-05T12:17:17.584680Z",
     "shell.execute_reply": "2022-08-05T12:17:17.585085Z"
    },
    "papermill": {
     "duration": 0.037974,
     "end_time": "2022-08-05T12:17:17.585203",
     "exception": false,
     "start_time": "2022-08-05T12:17:17.547229",
     "status": "completed"
    },
    "tags": []
   },
   "outputs": [],
   "source": [
    "#hide\n",
    "# g.rename(columns= {'date':'day'},inplace = True)"
   ]
  },
  {
   "cell_type": "code",
   "execution_count": 38,
   "id": "major-fight",
   "metadata": {
    "execution": {
     "iopub.execute_input": "2022-08-05T12:17:17.650674Z",
     "iopub.status.busy": "2022-08-05T12:17:17.650096Z",
     "iopub.status.idle": "2022-08-05T12:17:17.652331Z",
     "shell.execute_reply": "2022-08-05T12:17:17.651885Z"
    },
    "papermill": {
     "duration": 0.036282,
     "end_time": "2022-08-05T12:17:17.652431",
     "exception": false,
     "start_time": "2022-08-05T12:17:17.616149",
     "status": "completed"
    },
    "tags": []
   },
   "outputs": [],
   "source": [
    "#hide\n",
    "# g = g[cols]"
   ]
  },
  {
   "cell_type": "code",
   "execution_count": 39,
   "id": "structured-mobile",
   "metadata": {
    "execution": {
     "iopub.execute_input": "2022-08-05T12:17:17.718016Z",
     "iopub.status.busy": "2022-08-05T12:17:17.717450Z",
     "iopub.status.idle": "2022-08-05T12:17:17.719899Z",
     "shell.execute_reply": "2022-08-05T12:17:17.719380Z"
    },
    "papermill": {
     "duration": 0.036696,
     "end_time": "2022-08-05T12:17:17.719996",
     "exception": false,
     "start_time": "2022-08-05T12:17:17.683300",
     "status": "completed"
    },
    "tags": []
   },
   "outputs": [],
   "source": [
    "# #hide\n",
    "# g = g[g.group.notna()]"
   ]
  },
  {
   "cell_type": "code",
   "execution_count": 40,
   "id": "determined-closing",
   "metadata": {
    "execution": {
     "iopub.execute_input": "2022-08-05T12:17:17.785857Z",
     "iopub.status.busy": "2022-08-05T12:17:17.785286Z",
     "iopub.status.idle": "2022-08-05T12:17:17.787703Z",
     "shell.execute_reply": "2022-08-05T12:17:17.787239Z"
    },
    "papermill": {
     "duration": 0.036658,
     "end_time": "2022-08-05T12:17:17.787803",
     "exception": false,
     "start_time": "2022-08-05T12:17:17.751145",
     "status": "completed"
    },
    "tags": []
   },
   "outputs": [],
   "source": [
    "# #hide\n",
    "# colors = dict(zip(\n",
    "#     [\"Oceania\", \"Europe\", \"Asia\", \"South America\", \"Middle East\", \"North America\", \"Africa\"],\n",
    "#     [\"#adb0ff\", \"#ffb3ff\", \"#90d595\", \"#e48381\", \"#aafbff\", \"#f7bb5f\", \"#eafb50\"]\n",
    "# ))\n",
    "# group_lk = g.set_index('name')['group'].to_dict()"
   ]
  },
  {
   "cell_type": "code",
   "execution_count": null,
   "id": "gross-drinking",
   "metadata": {
    "papermill": {
     "duration": 0.030744,
     "end_time": "2022-08-05T12:17:17.849789",
     "exception": false,
     "start_time": "2022-08-05T12:17:17.819045",
     "status": "completed"
    },
    "tags": []
   },
   "outputs": [],
   "source": []
  },
  {
   "cell_type": "code",
   "execution_count": 41,
   "id": "subject-macintosh",
   "metadata": {
    "execution": {
     "iopub.execute_input": "2022-08-05T12:17:17.916003Z",
     "iopub.status.busy": "2022-08-05T12:17:17.915413Z",
     "iopub.status.idle": "2022-08-05T12:17:17.917817Z",
     "shell.execute_reply": "2022-08-05T12:17:17.917290Z"
    },
    "papermill": {
     "duration": 0.03711,
     "end_time": "2022-08-05T12:17:17.917917",
     "exception": false,
     "start_time": "2022-08-05T12:17:17.880807",
     "status": "completed"
    },
    "tags": []
   },
   "outputs": [],
   "source": [
    "# #hide\n",
    "# fig, ax = plt.subplots(figsize=(15, 8))\n",
    "\n",
    "# def draw_barchart(current_day):\n",
    "#     dff = g[g['day'].eq(current_day)].sort_values(by='value', ascending=True).tail(10)\n",
    "#     ax.clear()\n",
    "#     ax.barh(dff['name'], dff['value'], color=[colors[group_lk[x]] for x in dff['name']])\n",
    "#     dx = dff['value'].max() / 200\n",
    "    \n",
    "#     for i, (value, name) in enumerate(zip(dff['value'], dff['name'])):\n",
    "#         ax.text(value-dx, i,     name,           size=14, weight=600, ha='right', va='bottom')\n",
    "#         ax.text(value-dx, i-.25, group_lk[name], size=10, color='#444444', ha='right', va='baseline')\n",
    "#         ax.text(value+dx, i,     f'{value:,.0f}',  size=14, ha='left',  va='center')\n",
    "#     ax.text(1, 0.4, current_day, transform=ax.transAxes, color='#777777', size=46, ha='right', weight=800)\n",
    "#     ax.text(0, 1.06, 'Population (thousands)', transform=ax.transAxes, size=12, color='#777777')\n",
    "#     ax.xaxis.set_major_formatter(ticker.StrMethodFormatter('{x:,.0f}'))\n",
    "#     ax.xaxis.set_ticks_position('top')\n",
    "#     ax.tick_params(axis='x', colors='#777777', labelsize=12)\n",
    "#     ax.set_yticks([])\n",
    "#     ax.margins(0, 0.01)\n",
    "#     ax.grid(which='major', axis='x', linestyle='-')\n",
    "#     ax.set_axisbelow(True)\n",
    "    \n",
    "#     ax.text(0, 1.15, 'Coronavirus',\n",
    "#             transform=ax.transAxes, size=24, weight=600, ha='left', va='top')\n",
    "# #     ax.text(1, 0, 'by @pratapvardhan; credit @jburnmurdoch', transform=ax.transAxes, color='#777777', ha='right',\n",
    "# #             bbox=dict(facecolor='white', alpha=0.8, edgecolor='white'))\n",
    "#     plt.box(False)"
   ]
  },
  {
   "cell_type": "code",
   "execution_count": 42,
   "id": "sexual-wages",
   "metadata": {
    "execution": {
     "iopub.execute_input": "2022-08-05T12:17:17.983870Z",
     "iopub.status.busy": "2022-08-05T12:17:17.983311Z",
     "iopub.status.idle": "2022-08-05T12:17:17.985580Z",
     "shell.execute_reply": "2022-08-05T12:17:17.985138Z"
    },
    "papermill": {
     "duration": 0.036731,
     "end_time": "2022-08-05T12:17:17.985680",
     "exception": false,
     "start_time": "2022-08-05T12:17:17.948949",
     "status": "completed"
    },
    "tags": []
   },
   "outputs": [],
   "source": [
    "# #hide_input\n",
    "# fig, ax = plt.subplots(figsize=(15, 8))\n",
    "# animator = animation.FuncAnimation(fig, draw_barchart, frames=range(g.day.values.min(), g.day.values.max()))\n",
    "# HTML(animator.to_jshtml())\n",
    "# # or use animator.to_html5_video() or animator.save() "
   ]
  },
  {
   "cell_type": "code",
   "execution_count": null,
   "id": "australian-container",
   "metadata": {
    "papermill": {
     "duration": 0.030931,
     "end_time": "2022-08-05T12:17:18.047754",
     "exception": false,
     "start_time": "2022-08-05T12:17:18.016823",
     "status": "completed"
    },
    "tags": []
   },
   "outputs": [],
   "source": []
  },
  {
   "cell_type": "code",
   "execution_count": null,
   "id": "mediterranean-pontiac",
   "metadata": {
    "papermill": {
     "duration": 0.030757,
     "end_time": "2022-08-05T12:17:18.109353",
     "exception": false,
     "start_time": "2022-08-05T12:17:18.078596",
     "status": "completed"
    },
    "tags": []
   },
   "outputs": [],
   "source": []
  },
  {
   "cell_type": "code",
   "execution_count": null,
   "id": "aging-legislature",
   "metadata": {
    "papermill": {
     "duration": 0.030821,
     "end_time": "2022-08-05T12:17:18.171289",
     "exception": false,
     "start_time": "2022-08-05T12:17:18.140468",
     "status": "completed"
    },
    "tags": []
   },
   "outputs": [],
   "source": []
  }
 ],
 "metadata": {
  "kernelspec": {
   "display_name": "Python 3",
   "language": "python",
   "name": "python3"
  },
  "language_info": {
   "codemirror_mode": {
    "name": "ipython",
    "version": 3
   },
   "file_extension": ".py",
   "mimetype": "text/x-python",
   "name": "python",
   "nbconvert_exporter": "python",
   "pygments_lexer": "ipython3",
   "version": "3.6.15"
  },
  "papermill": {
   "duration": 6.143424,
   "end_time": "2022-08-05T12:17:18.519488",
   "environment_variables": {},
   "exception": null,
   "input_path": "2020-03-21-covid19exp.ipynb",
   "output_path": "2020-03-21-covid19exp.ipynb",
   "parameters": {},
   "start_time": "2022-08-05T12:17:12.376064",
   "version": "2.0.0"
  }
 },
 "nbformat": 4,
 "nbformat_minor": 5
}