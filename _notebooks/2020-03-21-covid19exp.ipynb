{
 "cells": [
  {
   "cell_type": "markdown",
   "id": "muslim-click",
   "metadata": {
    "papermill": {
     "duration": 0.042964,
     "end_time": "2021-10-03T00:25:10.161050",
     "exception": false,
     "start_time": "2021-10-03T00:25:10.118086",
     "status": "completed"
    },
    "tags": []
   },
   "source": [
    "# COVID-19 Case Race\n",
    "> A race chart to see rising cases around the world\n",
    "\n",
    "- author: Hargun Oberoi\n",
    "- image: images/covid-overview.png\n",
    "- hide: false\n",
    "- badges: false"
   ]
  },
  {
   "cell_type": "code",
   "execution_count": 1,
   "id": "proof-material",
   "metadata": {
    "execution": {
     "iopub.execute_input": "2021-10-03T00:25:10.246904Z",
     "iopub.status.busy": "2021-10-03T00:25:10.246226Z",
     "iopub.status.idle": "2021-10-03T00:25:10.646044Z",
     "shell.execute_reply": "2021-10-03T00:25:10.645463Z"
    },
    "papermill": {
     "duration": 0.448345,
     "end_time": "2021-10-03T00:25:10.646211",
     "exception": false,
     "start_time": "2021-10-03T00:25:10.197866",
     "status": "completed"
    },
    "tags": []
   },
   "outputs": [],
   "source": [
    "#hide\n",
    "import numpy as np\n",
    "import pandas as pd\n",
    "from jinja2 import Template\n",
    "from IPython.display import HTML"
   ]
  },
  {
   "cell_type": "code",
   "execution_count": 2,
   "id": "developed-terminology",
   "metadata": {
    "execution": {
     "iopub.execute_input": "2021-10-03T00:25:10.735431Z",
     "iopub.status.busy": "2021-10-03T00:25:10.734728Z",
     "iopub.status.idle": "2021-10-03T00:25:10.737287Z",
     "shell.execute_reply": "2021-10-03T00:25:10.736626Z"
    },
    "papermill": {
     "duration": 0.050956,
     "end_time": "2021-10-03T00:25:10.737417",
     "exception": false,
     "start_time": "2021-10-03T00:25:10.686461",
     "status": "completed"
    },
    "tags": []
   },
   "outputs": [],
   "source": [
    "#hide\n",
    "\n",
    "# FETCH\n",
    "base_url = 'https://raw.githubusercontent.com/pratapvardhan/notebooks/master/covid19/'\n",
    "paths = {\n",
    "    'mapping': base_url + 'mapping_countries.csv',\n",
    "    'overview': base_url + 'overview.tpl'\n",
    "}"
   ]
  },
  {
   "cell_type": "code",
   "execution_count": 3,
   "id": "dynamic-saver",
   "metadata": {
    "execution": {
     "iopub.execute_input": "2021-10-03T00:25:10.833386Z",
     "iopub.status.busy": "2021-10-03T00:25:10.832718Z",
     "iopub.status.idle": "2021-10-03T00:25:10.840783Z",
     "shell.execute_reply": "2021-10-03T00:25:10.841447Z"
    },
    "papermill": {
     "duration": 0.05894,
     "end_time": "2021-10-03T00:25:10.841588",
     "exception": false,
     "start_time": "2021-10-03T00:25:10.782648",
     "status": "completed"
    },
    "tags": []
   },
   "outputs": [
    {
     "data": {
      "text/plain": [
       "'https://raw.githubusercontent.com/pratapvardhan/notebooks/master/covid19/mapping_countries.csv'"
      ]
     },
     "execution_count": 3,
     "metadata": {},
     "output_type": "execute_result"
    }
   ],
   "source": [
    "#hide\n",
    "paths['mapping']"
   ]
  },
  {
   "cell_type": "code",
   "execution_count": 4,
   "id": "urban-software",
   "metadata": {
    "execution": {
     "iopub.execute_input": "2021-10-03T00:25:10.928026Z",
     "iopub.status.busy": "2021-10-03T00:25:10.927362Z",
     "iopub.status.idle": "2021-10-03T00:25:10.930052Z",
     "shell.execute_reply": "2021-10-03T00:25:10.930609Z"
    },
    "papermill": {
     "duration": 0.049938,
     "end_time": "2021-10-03T00:25:10.930761",
     "exception": false,
     "start_time": "2021-10-03T00:25:10.880823",
     "status": "completed"
    },
    "tags": []
   },
   "outputs": [],
   "source": [
    "#hide\n",
    "def get_mappings(url):\n",
    "    df = pd.read_csv(url)\n",
    "    return {\n",
    "        'df': df,\n",
    "        'replace.country': dict(df.dropna(subset=['Name']).set_index('Country')['Name']),\n",
    "        'map.continent': dict(df.set_index('Name')['Continent'])\n",
    "    }"
   ]
  },
  {
   "cell_type": "code",
   "execution_count": 5,
   "id": "intimate-machinery",
   "metadata": {
    "execution": {
     "iopub.execute_input": "2021-10-03T00:25:11.024743Z",
     "iopub.status.busy": "2021-10-03T00:25:11.024081Z",
     "iopub.status.idle": "2021-10-03T00:25:11.077925Z",
     "shell.execute_reply": "2021-10-03T00:25:11.077344Z"
    },
    "papermill": {
     "duration": 0.107073,
     "end_time": "2021-10-03T00:25:11.078074",
     "exception": false,
     "start_time": "2021-10-03T00:25:10.971001",
     "status": "completed"
    },
    "tags": []
   },
   "outputs": [],
   "source": [
    "#hide\n",
    "mapping = get_mappings(paths['mapping'])"
   ]
  },
  {
   "cell_type": "code",
   "execution_count": 6,
   "id": "certified-tactics",
   "metadata": {
    "execution": {
     "iopub.execute_input": "2021-10-03T00:25:11.197707Z",
     "iopub.status.busy": "2021-10-03T00:25:11.196963Z",
     "iopub.status.idle": "2021-10-03T00:25:11.199901Z",
     "shell.execute_reply": "2021-10-03T00:25:11.200577Z"
    },
    "papermill": {
     "duration": 0.067881,
     "end_time": "2021-10-03T00:25:11.200734",
     "exception": false,
     "start_time": "2021-10-03T00:25:11.132853",
     "status": "completed"
    },
    "tags": []
   },
   "outputs": [],
   "source": [
    "#hide\n",
    "def get_template(path):\n",
    "    from urllib.parse import urlparse\n",
    "    if bool(urlparse(path).netloc):\n",
    "        from urllib.request import urlopen\n",
    "        return urlopen(path).read().decode('utf8')\n",
    "    return open(path).read()"
   ]
  },
  {
   "cell_type": "code",
   "execution_count": 7,
   "id": "realistic-blast",
   "metadata": {
    "execution": {
     "iopub.execute_input": "2021-10-03T00:25:11.298343Z",
     "iopub.status.busy": "2021-10-03T00:25:11.297418Z",
     "iopub.status.idle": "2021-10-03T00:25:11.299314Z",
     "shell.execute_reply": "2021-10-03T00:25:11.300237Z"
    },
    "papermill": {
     "duration": 0.056266,
     "end_time": "2021-10-03T00:25:11.300390",
     "exception": false,
     "start_time": "2021-10-03T00:25:11.244124",
     "status": "completed"
    },
    "tags": []
   },
   "outputs": [],
   "source": [
    "#hide\n",
    "def get_frame(name):\n",
    "    url = (\n",
    "        'https://raw.githubusercontent.com/CSSEGISandData/COVID-19/master/csse_covid_19_data/'\n",
    "        f'csse_covid_19_time_series/time_series_covid19_{name}_global.csv')\n",
    "    df = pd.read_csv(url)\n",
    "    # rename countries\n",
    "    df['Country/Region'] = df['Country/Region'].replace(mapping['replace.country'])\n",
    "    return df"
   ]
  },
  {
   "cell_type": "code",
   "execution_count": 8,
   "id": "affiliated-characterization",
   "metadata": {
    "execution": {
     "iopub.execute_input": "2021-10-03T00:25:11.391231Z",
     "iopub.status.busy": "2021-10-03T00:25:11.390045Z",
     "iopub.status.idle": "2021-10-03T00:25:11.393286Z",
     "shell.execute_reply": "2021-10-03T00:25:11.392732Z"
    },
    "papermill": {
     "duration": 0.050324,
     "end_time": "2021-10-03T00:25:11.393414",
     "exception": false,
     "start_time": "2021-10-03T00:25:11.343090",
     "status": "completed"
    },
    "tags": []
   },
   "outputs": [],
   "source": [
    "#hide\n",
    "def get_dates(df):\n",
    "    dt_cols = df.columns[~df.columns.isin(['Province/State', 'Country/Region', 'Lat', 'Long'])]\n",
    "    LAST_DATE_I = -1\n",
    "    # sometimes last column may be empty, then go backwards\n",
    "    for i in range(-1, -len(dt_cols), -1):\n",
    "        if not df[dt_cols[i]].fillna(0).eq(0).all():\n",
    "            LAST_DATE_I = i\n",
    "            break\n",
    "    return LAST_DATE_I, dt_cols"
   ]
  },
  {
   "cell_type": "code",
   "execution_count": 9,
   "id": "recent-optimization",
   "metadata": {
    "execution": {
     "iopub.execute_input": "2021-10-03T00:25:11.486384Z",
     "iopub.status.busy": "2021-10-03T00:25:11.485727Z",
     "iopub.status.idle": "2021-10-03T00:25:11.982809Z",
     "shell.execute_reply": "2021-10-03T00:25:11.981986Z"
    },
    "papermill": {
     "duration": 0.542841,
     "end_time": "2021-10-03T00:25:11.983155",
     "exception": false,
     "start_time": "2021-10-03T00:25:11.440314",
     "status": "completed"
    },
    "tags": []
   },
   "outputs": [],
   "source": [
    "#hide\n",
    "COL_REGION = 'Country/Region'\n",
    "# Confirmed, Recovered, Deaths\n",
    "df = get_frame('confirmed')\n",
    "# dft_: timeseries, dfc_: today country agg\n",
    "dft_cases = df\n",
    "dft_deaths = get_frame('deaths')\n",
    "dft_recovered = get_frame('recovered')\n",
    "LAST_DATE_I, dt_cols = get_dates(df)"
   ]
  },
  {
   "cell_type": "code",
   "execution_count": 10,
   "id": "absolute-copper",
   "metadata": {
    "execution": {
     "iopub.execute_input": "2021-10-03T00:25:12.075050Z",
     "iopub.status.busy": "2021-10-03T00:25:12.073569Z",
     "iopub.status.idle": "2021-10-03T00:25:12.075809Z",
     "shell.execute_reply": "2021-10-03T00:25:12.076328Z"
    },
    "papermill": {
     "duration": 0.051653,
     "end_time": "2021-10-03T00:25:12.076498",
     "exception": false,
     "start_time": "2021-10-03T00:25:12.024845",
     "status": "completed"
    },
    "tags": []
   },
   "outputs": [],
   "source": [
    "#hide\n",
    "LAST_DATE_I, dt_cols = get_dates(df)\n",
    "dt_today =dt_cols[LAST_DATE_I]\n",
    "# dt_5day = dt_cols[LAST_DATE_I - 5]\n",
    "dt_yday = dt_cols[LAST_DATE_I - 1]"
   ]
  },
  {
   "cell_type": "code",
   "execution_count": 11,
   "id": "restricted-sheriff",
   "metadata": {
    "execution": {
     "iopub.execute_input": "2021-10-03T00:25:12.166572Z",
     "iopub.status.busy": "2021-10-03T00:25:12.164774Z",
     "iopub.status.idle": "2021-10-03T00:25:12.172896Z",
     "shell.execute_reply": "2021-10-03T00:25:12.172257Z"
    },
    "papermill": {
     "duration": 0.056935,
     "end_time": "2021-10-03T00:25:12.173043",
     "exception": false,
     "start_time": "2021-10-03T00:25:12.116108",
     "status": "completed"
    },
    "tags": []
   },
   "outputs": [],
   "source": [
    "#hide\n",
    "dfc_cases = dft_cases.groupby(COL_REGION)[dt_today].sum()\n",
    "dfc_deaths = dft_deaths.groupby(COL_REGION)[dt_today].sum()\n",
    "# dfp_cases = dft_cases.groupby(COL_REGION)[dt_5day].sum()\n",
    "# dfp_deaths = dft_deaths.groupby(COL_REGION)[dt_5day].sum()\n",
    "dfp_cases = dft_cases.groupby(COL_REGION)[dt_yday].sum()\n",
    "dfp_deaths = dft_deaths.groupby(COL_REGION)[dt_yday].sum()"
   ]
  },
  {
   "cell_type": "code",
   "execution_count": 12,
   "id": "deluxe-hepatitis",
   "metadata": {
    "execution": {
     "iopub.execute_input": "2021-10-03T00:25:12.259607Z",
     "iopub.status.busy": "2021-10-03T00:25:12.258706Z",
     "iopub.status.idle": "2021-10-03T00:25:12.263890Z",
     "shell.execute_reply": "2021-10-03T00:25:12.264527Z"
    },
    "papermill": {
     "duration": 0.051552,
     "end_time": "2021-10-03T00:25:12.264671",
     "exception": false,
     "start_time": "2021-10-03T00:25:12.213119",
     "status": "completed"
    },
    "tags": []
   },
   "outputs": [],
   "source": [
    "#hide\n",
    "df_table = (pd.DataFrame(dict(Cases = dfc_cases, Deaths = dfc_deaths, PCases = dfp_cases, PDeaths = dfp_deaths))\n",
    "            .sort_values(by = ['Cases','Deaths'], ascending = [False, False])\n",
    "            .reset_index())"
   ]
  },
  {
   "cell_type": "code",
   "execution_count": 13,
   "id": "educational-chancellor",
   "metadata": {
    "execution": {
     "iopub.execute_input": "2021-10-03T00:25:12.363362Z",
     "iopub.status.busy": "2021-10-03T00:25:12.362727Z",
     "iopub.status.idle": "2021-10-03T00:25:12.372562Z",
     "shell.execute_reply": "2021-10-03T00:25:12.373115Z"
    },
    "papermill": {
     "duration": 0.071004,
     "end_time": "2021-10-03T00:25:12.373263",
     "exception": false,
     "start_time": "2021-10-03T00:25:12.302259",
     "status": "completed"
    },
    "tags": []
   },
   "outputs": [
    {
     "data": {
      "text/html": [
       "<div>\n",
       "<style scoped>\n",
       "    .dataframe tbody tr th:only-of-type {\n",
       "        vertical-align: middle;\n",
       "    }\n",
       "\n",
       "    .dataframe tbody tr th {\n",
       "        vertical-align: top;\n",
       "    }\n",
       "\n",
       "    .dataframe thead th {\n",
       "        text-align: right;\n",
       "    }\n",
       "</style>\n",
       "<table border=\"1\" class=\"dataframe\">\n",
       "  <thead>\n",
       "    <tr style=\"text-align: right;\">\n",
       "      <th></th>\n",
       "      <th>Country/Region</th>\n",
       "      <th>Cases</th>\n",
       "      <th>Deaths</th>\n",
       "      <th>PCases</th>\n",
       "      <th>PDeaths</th>\n",
       "      <th>Cases (+)</th>\n",
       "      <th>Deaths (+)</th>\n",
       "      <th>Fatality Rate</th>\n",
       "      <th>Continent</th>\n",
       "    </tr>\n",
       "  </thead>\n",
       "  <tbody>\n",
       "    <tr>\n",
       "      <th>0</th>\n",
       "      <td>US</td>\n",
       "      <td>43618627</td>\n",
       "      <td>700285</td>\n",
       "      <td>43460343</td>\n",
       "      <td>697851</td>\n",
       "      <td>158284</td>\n",
       "      <td>2434</td>\n",
       "      <td>1.61</td>\n",
       "      <td>North America</td>\n",
       "    </tr>\n",
       "    <tr>\n",
       "      <th>1</th>\n",
       "      <td>India</td>\n",
       "      <td>33791061</td>\n",
       "      <td>448573</td>\n",
       "      <td>33766707</td>\n",
       "      <td>448339</td>\n",
       "      <td>24354</td>\n",
       "      <td>234</td>\n",
       "      <td>1.33</td>\n",
       "      <td>Asia</td>\n",
       "    </tr>\n",
       "    <tr>\n",
       "      <th>2</th>\n",
       "      <td>Brazil</td>\n",
       "      <td>21445651</td>\n",
       "      <td>597255</td>\n",
       "      <td>21427073</td>\n",
       "      <td>596749</td>\n",
       "      <td>18578</td>\n",
       "      <td>506</td>\n",
       "      <td>2.78</td>\n",
       "      <td>South America</td>\n",
       "    </tr>\n",
       "    <tr>\n",
       "      <th>3</th>\n",
       "      <td>United Kingdom</td>\n",
       "      <td>7878571</td>\n",
       "      <td>137171</td>\n",
       "      <td>7843887</td>\n",
       "      <td>137043</td>\n",
       "      <td>34684</td>\n",
       "      <td>128</td>\n",
       "      <td>1.74</td>\n",
       "      <td>Europe</td>\n",
       "    </tr>\n",
       "    <tr>\n",
       "      <th>4</th>\n",
       "      <td>Russia</td>\n",
       "      <td>7425057</td>\n",
       "      <td>204424</td>\n",
       "      <td>7401104</td>\n",
       "      <td>203549</td>\n",
       "      <td>23953</td>\n",
       "      <td>875</td>\n",
       "      <td>2.75</td>\n",
       "      <td>Europe</td>\n",
       "    </tr>\n",
       "  </tbody>\n",
       "</table>\n",
       "</div>"
      ],
      "text/plain": [
       "   Country/Region     Cases  Deaths    PCases  PDeaths  Cases (+)  Deaths (+)  \\\n",
       "0              US  43618627  700285  43460343   697851     158284        2434   \n",
       "1           India  33791061  448573  33766707   448339      24354         234   \n",
       "2          Brazil  21445651  597255  21427073   596749      18578         506   \n",
       "3  United Kingdom   7878571  137171   7843887   137043      34684         128   \n",
       "4          Russia   7425057  204424   7401104   203549      23953         875   \n",
       "\n",
       "   Fatality Rate      Continent  \n",
       "0           1.61  North America  \n",
       "1           1.33           Asia  \n",
       "2           2.78  South America  \n",
       "3           1.74         Europe  \n",
       "4           2.75         Europe  "
      ]
     },
     "execution_count": 13,
     "metadata": {},
     "output_type": "execute_result"
    }
   ],
   "source": [
    "#hide\n",
    "for c in 'Cases, Deaths'.split(', '):\n",
    "    df_table[f'{c} (+)'] = (df_table[c] - df_table[f'P{c}']).clip(0)\n",
    "    #Clip ça veut dire, les chiffres negatif sont interdit\n",
    "df_table['Fatality Rate'] = (100* df_table['Deaths']/ df_table['Cases']).round(2)\n",
    "df_table['Continent'] = df_table['Country/Region'].map(mapping['map.continent'])\n",
    "df_table.head(5)"
   ]
  },
  {
   "cell_type": "code",
   "execution_count": 14,
   "id": "aboriginal-bulgaria",
   "metadata": {
    "execution": {
     "iopub.execute_input": "2021-10-03T00:25:12.458608Z",
     "iopub.status.busy": "2021-10-03T00:25:12.457950Z",
     "iopub.status.idle": "2021-10-03T00:25:12.460428Z",
     "shell.execute_reply": "2021-10-03T00:25:12.460935Z"
    },
    "papermill": {
     "duration": 0.048249,
     "end_time": "2021-10-03T00:25:12.461080",
     "exception": false,
     "start_time": "2021-10-03T00:25:12.412831",
     "status": "completed"
    },
    "tags": []
   },
   "outputs": [],
   "source": [
    "#hide\n",
    "#delete problematic countries from table\n",
    "df_table = df_table[~df_table['Country/Region'].isin(['Cape Verde', 'Cruise Ship', 'Kosovo'])]"
   ]
  },
  {
   "cell_type": "code",
   "execution_count": 15,
   "id": "fantastic-effect",
   "metadata": {
    "execution": {
     "iopub.execute_input": "2021-10-03T00:25:12.551607Z",
     "iopub.status.busy": "2021-10-03T00:25:12.551004Z",
     "iopub.status.idle": "2021-10-03T00:25:12.574266Z",
     "shell.execute_reply": "2021-10-03T00:25:12.574865Z"
    },
    "papermill": {
     "duration": 0.074052,
     "end_time": "2021-10-03T00:25:12.575011",
     "exception": false,
     "start_time": "2021-10-03T00:25:12.500959",
     "status": "completed"
    },
    "tags": []
   },
   "outputs": [
    {
     "data": {
      "text/html": [
       "<div>\n",
       "<style scoped>\n",
       "    .dataframe tbody tr th:only-of-type {\n",
       "        vertical-align: middle;\n",
       "    }\n",
       "\n",
       "    .dataframe tbody tr th {\n",
       "        vertical-align: top;\n",
       "    }\n",
       "\n",
       "    .dataframe thead th {\n",
       "        text-align: right;\n",
       "    }\n",
       "</style>\n",
       "<table border=\"1\" class=\"dataframe\">\n",
       "  <thead>\n",
       "    <tr style=\"text-align: right;\">\n",
       "      <th></th>\n",
       "      <th>Country/Region</th>\n",
       "      <th>Cases</th>\n",
       "      <th>Deaths</th>\n",
       "      <th>PCases</th>\n",
       "      <th>PDeaths</th>\n",
       "      <th>Cases (+)</th>\n",
       "      <th>Deaths (+)</th>\n",
       "      <th>Fatality Rate</th>\n",
       "      <th>Continent</th>\n",
       "    </tr>\n",
       "  </thead>\n",
       "  <tbody>\n",
       "    <tr>\n",
       "      <th>0</th>\n",
       "      <td>US</td>\n",
       "      <td>43618627</td>\n",
       "      <td>700285</td>\n",
       "      <td>43460343</td>\n",
       "      <td>697851</td>\n",
       "      <td>158284</td>\n",
       "      <td>2434</td>\n",
       "      <td>1.6</td>\n",
       "      <td>North America</td>\n",
       "    </tr>\n",
       "    <tr>\n",
       "      <th>1</th>\n",
       "      <td>India</td>\n",
       "      <td>33791061</td>\n",
       "      <td>448573</td>\n",
       "      <td>33766707</td>\n",
       "      <td>448339</td>\n",
       "      <td>24354</td>\n",
       "      <td>234</td>\n",
       "      <td>1.3</td>\n",
       "      <td>Asia</td>\n",
       "    </tr>\n",
       "    <tr>\n",
       "      <th>2</th>\n",
       "      <td>Brazil</td>\n",
       "      <td>21445651</td>\n",
       "      <td>597255</td>\n",
       "      <td>21427073</td>\n",
       "      <td>596749</td>\n",
       "      <td>18578</td>\n",
       "      <td>506</td>\n",
       "      <td>2.8</td>\n",
       "      <td>South America</td>\n",
       "    </tr>\n",
       "    <tr>\n",
       "      <th>3</th>\n",
       "      <td>United Kingdom</td>\n",
       "      <td>7878571</td>\n",
       "      <td>137171</td>\n",
       "      <td>7843887</td>\n",
       "      <td>137043</td>\n",
       "      <td>34684</td>\n",
       "      <td>128</td>\n",
       "      <td>1.7</td>\n",
       "      <td>Europe</td>\n",
       "    </tr>\n",
       "    <tr>\n",
       "      <th>4</th>\n",
       "      <td>Russia</td>\n",
       "      <td>7425057</td>\n",
       "      <td>204424</td>\n",
       "      <td>7401104</td>\n",
       "      <td>203549</td>\n",
       "      <td>23953</td>\n",
       "      <td>875</td>\n",
       "      <td>2.8</td>\n",
       "      <td>Europe</td>\n",
       "    </tr>\n",
       "  </tbody>\n",
       "</table>\n",
       "</div>"
      ],
      "text/plain": [
       "   Country/Region     Cases  Deaths    PCases  PDeaths  Cases (+)  Deaths (+)  \\\n",
       "0              US  43618627  700285  43460343   697851     158284        2434   \n",
       "1           India  33791061  448573  33766707   448339      24354         234   \n",
       "2          Brazil  21445651  597255  21427073   596749      18578         506   \n",
       "3  United Kingdom   7878571  137171   7843887   137043      34684         128   \n",
       "4          Russia   7425057  204424   7401104   203549      23953         875   \n",
       "\n",
       "   Fatality Rate      Continent  \n",
       "0            1.6  North America  \n",
       "1            1.3           Asia  \n",
       "2            2.8  South America  \n",
       "3            1.7         Europe  \n",
       "4            2.8         Europe  "
      ]
     },
     "execution_count": 15,
     "metadata": {},
     "output_type": "execute_result"
    }
   ],
   "source": [
    "#hide\n",
    "df_table = (pd.DataFrame(dict(Cases=dfc_cases, Deaths=dfc_deaths, PCases=dfp_cases, PDeaths=dfp_deaths))\n",
    "             .sort_values(by=['Cases', 'Deaths'], ascending=[False, False])\n",
    "             .reset_index())\n",
    "df_table.rename(columns={'index': 'Country/Region'}, inplace=True)\n",
    "for c in 'Cases, Deaths'.split(', '):\n",
    "    df_table[f'{c} (+)'] = (df_table[c] - df_table[f'P{c}']).clip(0)  # DATA BUG\n",
    "df_table['Fatality Rate'] = (100 * df_table['Deaths'] / df_table['Cases']).round(1)\n",
    "df_table['Continent'] = df_table['Country/Region'].map(mapping['map.continent'])\n",
    "df_table.head(5)"
   ]
  },
  {
   "cell_type": "code",
   "execution_count": 16,
   "id": "fewer-occasion",
   "metadata": {
    "execution": {
     "iopub.execute_input": "2021-10-03T00:25:12.663580Z",
     "iopub.status.busy": "2021-10-03T00:25:12.662909Z",
     "iopub.status.idle": "2021-10-03T00:25:12.664878Z",
     "shell.execute_reply": "2021-10-03T00:25:12.665772Z"
    },
    "papermill": {
     "duration": 0.050067,
     "end_time": "2021-10-03T00:25:12.665997",
     "exception": false,
     "start_time": "2021-10-03T00:25:12.615930",
     "status": "completed"
    },
    "tags": []
   },
   "outputs": [],
   "source": [
    "#hide\n",
    "#delete problematic countries from table\n",
    "df_table = df_table[~df_table['Country/Region'].isin(['Cape Verde', 'Cruise Ship', 'Kosovo'])]"
   ]
  },
  {
   "cell_type": "code",
   "execution_count": 17,
   "id": "related-center",
   "metadata": {
    "execution": {
     "iopub.execute_input": "2021-10-03T00:25:12.769722Z",
     "iopub.status.busy": "2021-10-03T00:25:12.768863Z",
     "iopub.status.idle": "2021-10-03T00:25:12.770660Z",
     "shell.execute_reply": "2021-10-03T00:25:12.771281Z"
    },
    "papermill": {
     "duration": 0.066162,
     "end_time": "2021-10-03T00:25:12.771452",
     "exception": false,
     "start_time": "2021-10-03T00:25:12.705290",
     "status": "completed"
    },
    "tags": []
   },
   "outputs": [],
   "source": [
    "#hide\n",
    "metrics = [df_table.columns[index] for index in [1,2,5,6]]\n",
    "# s_china = df_table[df_table['Country/Region'].eq('China')][metrics].sum().add_prefix('China ')\n",
    "s_us = df_table[df_table['Country/Region'].eq('US')][metrics].sum().add_prefix('US ')\n",
    "s_eu = df_table[df_table['Continent'].eq('Europe')][metrics].sum().add_prefix('EU ')\n",
    "s_ind = df_table[df_table['Country/Region'].eq('India')][metrics].sum().add_prefix('India ')\n",
    "summary = {'updated': pd.to_datetime(dt_today), 'since': pd.to_datetime(dt_yday)}\n",
    "summary = {'updated': pd.to_datetime(dt_today), 'since': pd.to_datetime(dt_yday)}\n",
    "summary = {**summary, **df_table[metrics].sum(), **s_ind, **s_us, **s_eu}"
   ]
  },
  {
   "cell_type": "code",
   "execution_count": 18,
   "id": "engaging-syndrome",
   "metadata": {
    "execution": {
     "iopub.execute_input": "2021-10-03T00:25:12.859464Z",
     "iopub.status.busy": "2021-10-03T00:25:12.856398Z",
     "iopub.status.idle": "2021-10-03T00:25:12.874323Z",
     "shell.execute_reply": "2021-10-03T00:25:12.873789Z"
    },
    "papermill": {
     "duration": 0.063777,
     "end_time": "2021-10-03T00:25:12.874465",
     "exception": false,
     "start_time": "2021-10-03T00:25:12.810688",
     "status": "completed"
    },
    "tags": []
   },
   "outputs": [],
   "source": [
    "#hide\n",
    "dft_ct_new_cases = dft_cases.groupby(COL_REGION)[dt_cols].sum().diff(axis=1).fillna(0).astype(int)"
   ]
  },
  {
   "cell_type": "code",
   "execution_count": 19,
   "id": "neutral-assignment",
   "metadata": {
    "execution": {
     "iopub.execute_input": "2021-10-03T00:25:12.961484Z",
     "iopub.status.busy": "2021-10-03T00:25:12.960846Z",
     "iopub.status.idle": "2021-10-03T00:25:12.963821Z",
     "shell.execute_reply": "2021-10-03T00:25:12.963293Z"
    },
    "papermill": {
     "duration": 0.049445,
     "end_time": "2021-10-03T00:25:12.963941",
     "exception": false,
     "start_time": "2021-10-03T00:25:12.914496",
     "status": "completed"
    },
    "tags": []
   },
   "outputs": [],
   "source": [
    "#hide\n",
    "everydaycases = dft_ct_new_cases.cumsum(axis=1)"
   ]
  },
  {
   "cell_type": "code",
   "execution_count": 20,
   "id": "parliamentary-calgary",
   "metadata": {
    "execution": {
     "iopub.execute_input": "2021-10-03T00:25:13.047971Z",
     "iopub.status.busy": "2021-10-03T00:25:13.047376Z",
     "iopub.status.idle": "2021-10-03T00:25:13.794392Z",
     "shell.execute_reply": "2021-10-03T00:25:13.793790Z"
    },
    "papermill": {
     "duration": 0.791181,
     "end_time": "2021-10-03T00:25:13.794618",
     "exception": false,
     "start_time": "2021-10-03T00:25:13.003437",
     "status": "completed"
    },
    "tags": []
   },
   "outputs": [],
   "source": [
    "#hide\n",
    "import pandas as pd\n",
    "import matplotlib.pyplot as plt\n",
    "import matplotlib.ticker as ticker\n",
    "import matplotlib.animation as animation\n",
    "from IPython.display import HTML"
   ]
  },
  {
   "cell_type": "code",
   "execution_count": 21,
   "id": "lasting-extraction",
   "metadata": {
    "execution": {
     "iopub.execute_input": "2021-10-03T00:25:13.879078Z",
     "iopub.status.busy": "2021-10-03T00:25:13.878453Z",
     "iopub.status.idle": "2021-10-03T00:25:13.885246Z",
     "shell.execute_reply": "2021-10-03T00:25:13.884649Z"
    },
    "papermill": {
     "duration": 0.051487,
     "end_time": "2021-10-03T00:25:13.885463",
     "exception": false,
     "start_time": "2021-10-03T00:25:13.833976",
     "status": "completed"
    },
    "tags": []
   },
   "outputs": [],
   "source": [
    "#hide\n",
    "t = everydaycases.stack()"
   ]
  },
  {
   "cell_type": "code",
   "execution_count": 22,
   "id": "premier-sleeve",
   "metadata": {
    "execution": {
     "iopub.execute_input": "2021-10-03T00:25:13.970994Z",
     "iopub.status.busy": "2021-10-03T00:25:13.970200Z",
     "iopub.status.idle": "2021-10-03T00:25:13.980238Z",
     "shell.execute_reply": "2021-10-03T00:25:13.979721Z"
    },
    "papermill": {
     "duration": 0.054416,
     "end_time": "2021-10-03T00:25:13.980375",
     "exception": false,
     "start_time": "2021-10-03T00:25:13.925959",
     "status": "completed"
    },
    "tags": []
   },
   "outputs": [],
   "source": [
    "#hide\n",
    "g = t.reset_index(['Country/Region'])"
   ]
  },
  {
   "cell_type": "code",
   "execution_count": 23,
   "id": "distributed-pittsburgh",
   "metadata": {
    "execution": {
     "iopub.execute_input": "2021-10-03T00:25:14.066628Z",
     "iopub.status.busy": "2021-10-03T00:25:14.064994Z",
     "iopub.status.idle": "2021-10-03T00:25:14.067480Z",
     "shell.execute_reply": "2021-10-03T00:25:14.067999Z"
    },
    "papermill": {
     "duration": 0.047342,
     "end_time": "2021-10-03T00:25:14.068137",
     "exception": false,
     "start_time": "2021-10-03T00:25:14.020795",
     "status": "completed"
    },
    "tags": []
   },
   "outputs": [],
   "source": [
    "#hide\n",
    "g.index.name = 'date'"
   ]
  },
  {
   "cell_type": "code",
   "execution_count": 24,
   "id": "naked-donor",
   "metadata": {
    "execution": {
     "iopub.execute_input": "2021-10-03T00:25:14.153718Z",
     "iopub.status.busy": "2021-10-03T00:25:14.152028Z",
     "iopub.status.idle": "2021-10-03T00:25:14.154486Z",
     "shell.execute_reply": "2021-10-03T00:25:14.155048Z"
    },
    "papermill": {
     "duration": 0.046386,
     "end_time": "2021-10-03T00:25:14.155196",
     "exception": false,
     "start_time": "2021-10-03T00:25:14.108810",
     "status": "completed"
    },
    "tags": []
   },
   "outputs": [],
   "source": [
    "# #hide\n",
    "# g = g.reset_index(['date'])"
   ]
  },
  {
   "cell_type": "code",
   "execution_count": 25,
   "id": "incomplete-mustang",
   "metadata": {
    "execution": {
     "iopub.execute_input": "2021-10-03T00:25:14.239036Z",
     "iopub.status.busy": "2021-10-03T00:25:14.238364Z",
     "iopub.status.idle": "2021-10-03T00:25:14.241192Z",
     "shell.execute_reply": "2021-10-03T00:25:14.240507Z"
    },
    "papermill": {
     "duration": 0.0478,
     "end_time": "2021-10-03T00:25:14.241369",
     "exception": false,
     "start_time": "2021-10-03T00:25:14.193569",
     "status": "completed"
    },
    "tags": []
   },
   "outputs": [],
   "source": [
    "#hide\n",
    "# g.head()"
   ]
  },
  {
   "cell_type": "code",
   "execution_count": 26,
   "id": "specific-kruger",
   "metadata": {
    "execution": {
     "iopub.execute_input": "2021-10-03T00:25:14.328754Z",
     "iopub.status.busy": "2021-10-03T00:25:14.327944Z",
     "iopub.status.idle": "2021-10-03T00:25:14.330030Z",
     "shell.execute_reply": "2021-10-03T00:25:14.330644Z"
    },
    "papermill": {
     "duration": 0.04822,
     "end_time": "2021-10-03T00:25:14.330801",
     "exception": false,
     "start_time": "2021-10-03T00:25:14.282581",
     "status": "completed"
    },
    "tags": []
   },
   "outputs": [],
   "source": [
    "#hide\n",
    "# g.columns = ['date','country','cases']"
   ]
  },
  {
   "cell_type": "code",
   "execution_count": 27,
   "id": "tender-conversion",
   "metadata": {
    "execution": {
     "iopub.execute_input": "2021-10-03T00:25:14.422720Z",
     "iopub.status.busy": "2021-10-03T00:25:14.421941Z",
     "iopub.status.idle": "2021-10-03T00:25:14.424015Z",
     "shell.execute_reply": "2021-10-03T00:25:14.424703Z"
    },
    "papermill": {
     "duration": 0.052526,
     "end_time": "2021-10-03T00:25:14.424868",
     "exception": false,
     "start_time": "2021-10-03T00:25:14.372342",
     "status": "completed"
    },
    "tags": []
   },
   "outputs": [],
   "source": [
    "#hide\n",
    "# g['continent'] = g.country"
   ]
  },
  {
   "cell_type": "code",
   "execution_count": 28,
   "id": "substantial-wilderness",
   "metadata": {
    "execution": {
     "iopub.execute_input": "2021-10-03T00:25:14.513240Z",
     "iopub.status.busy": "2021-10-03T00:25:14.512584Z",
     "iopub.status.idle": "2021-10-03T00:25:14.514944Z",
     "shell.execute_reply": "2021-10-03T00:25:14.514413Z"
    },
    "papermill": {
     "duration": 0.049357,
     "end_time": "2021-10-03T00:25:14.515069",
     "exception": false,
     "start_time": "2021-10-03T00:25:14.465712",
     "status": "completed"
    },
    "tags": []
   },
   "outputs": [],
   "source": [
    "#hide\n",
    "# cols = list(g.columns.values)"
   ]
  },
  {
   "cell_type": "code",
   "execution_count": 29,
   "id": "solved-farming",
   "metadata": {
    "execution": {
     "iopub.execute_input": "2021-10-03T00:25:14.611748Z",
     "iopub.status.busy": "2021-10-03T00:25:14.611084Z",
     "iopub.status.idle": "2021-10-03T00:25:14.612903Z",
     "shell.execute_reply": "2021-10-03T00:25:14.613458Z"
    },
    "papermill": {
     "duration": 0.052159,
     "end_time": "2021-10-03T00:25:14.613596",
     "exception": false,
     "start_time": "2021-10-03T00:25:14.561437",
     "status": "completed"
    },
    "tags": []
   },
   "outputs": [],
   "source": [
    "#hide\n",
    "# cols.insert(0, cols.pop())"
   ]
  },
  {
   "cell_type": "code",
   "execution_count": 30,
   "id": "executed-adoption",
   "metadata": {
    "execution": {
     "iopub.execute_input": "2021-10-03T00:25:14.717755Z",
     "iopub.status.busy": "2021-10-03T00:25:14.717045Z",
     "iopub.status.idle": "2021-10-03T00:25:14.719758Z",
     "shell.execute_reply": "2021-10-03T00:25:14.719177Z"
    },
    "papermill": {
     "duration": 0.051703,
     "end_time": "2021-10-03T00:25:14.719877",
     "exception": false,
     "start_time": "2021-10-03T00:25:14.668174",
     "status": "completed"
    },
    "tags": []
   },
   "outputs": [],
   "source": [
    "#hide\n",
    "# g = g[cols]"
   ]
  },
  {
   "cell_type": "code",
   "execution_count": 31,
   "id": "subject-dublin",
   "metadata": {
    "execution": {
     "iopub.execute_input": "2021-10-03T00:25:14.804574Z",
     "iopub.status.busy": "2021-10-03T00:25:14.803863Z",
     "iopub.status.idle": "2021-10-03T00:25:14.806412Z",
     "shell.execute_reply": "2021-10-03T00:25:14.805777Z"
    },
    "papermill": {
     "duration": 0.046431,
     "end_time": "2021-10-03T00:25:14.806543",
     "exception": false,
     "start_time": "2021-10-03T00:25:14.760112",
     "status": "completed"
    },
    "tags": []
   },
   "outputs": [],
   "source": [
    "#hide\n",
    "# g['continent'] = g['continent'].map(mapping['map.continent'])"
   ]
  },
  {
   "cell_type": "code",
   "execution_count": 32,
   "id": "freelance-scout",
   "metadata": {
    "execution": {
     "iopub.execute_input": "2021-10-03T00:25:14.891980Z",
     "iopub.status.busy": "2021-10-03T00:25:14.891379Z",
     "iopub.status.idle": "2021-10-03T00:25:14.895409Z",
     "shell.execute_reply": "2021-10-03T00:25:14.895931Z"
    },
    "papermill": {
     "duration": 0.052115,
     "end_time": "2021-10-03T00:25:14.896071",
     "exception": false,
     "start_time": "2021-10-03T00:25:14.843956",
     "status": "completed"
    },
    "tags": []
   },
   "outputs": [],
   "source": [
    "#hide\n",
    "# g.head()"
   ]
  },
  {
   "cell_type": "code",
   "execution_count": 33,
   "id": "limited-engine",
   "metadata": {
    "execution": {
     "iopub.execute_input": "2021-10-03T00:25:14.978364Z",
     "iopub.status.busy": "2021-10-03T00:25:14.977719Z",
     "iopub.status.idle": "2021-10-03T00:25:14.980113Z",
     "shell.execute_reply": "2021-10-03T00:25:14.980630Z"
    },
    "papermill": {
     "duration": 0.045751,
     "end_time": "2021-10-03T00:25:14.980788",
     "exception": false,
     "start_time": "2021-10-03T00:25:14.935037",
     "status": "completed"
    },
    "tags": []
   },
   "outputs": [],
   "source": [
    "# hide\n",
    "# g['date'] = g['date'].astype('datetime64[ns]')"
   ]
  },
  {
   "cell_type": "code",
   "execution_count": 34,
   "id": "sophisticated-supervisor",
   "metadata": {
    "execution": {
     "iopub.execute_input": "2021-10-03T00:25:15.064760Z",
     "iopub.status.busy": "2021-10-03T00:25:15.064079Z",
     "iopub.status.idle": "2021-10-03T00:25:15.066770Z",
     "shell.execute_reply": "2021-10-03T00:25:15.066193Z"
    },
    "papermill": {
     "duration": 0.046974,
     "end_time": "2021-10-03T00:25:15.066899",
     "exception": false,
     "start_time": "2021-10-03T00:25:15.019925",
     "status": "completed"
    },
    "tags": []
   },
   "outputs": [],
   "source": [
    "#hide\n",
    "# g['date'] = g.date.dt.dayofyear"
   ]
  },
  {
   "cell_type": "code",
   "execution_count": 35,
   "id": "inside-dubai",
   "metadata": {
    "execution": {
     "iopub.execute_input": "2021-10-03T00:25:15.156077Z",
     "iopub.status.busy": "2021-10-03T00:25:15.154576Z",
     "iopub.status.idle": "2021-10-03T00:25:15.156795Z",
     "shell.execute_reply": "2021-10-03T00:25:15.157317Z"
    },
    "papermill": {
     "duration": 0.047905,
     "end_time": "2021-10-03T00:25:15.157457",
     "exception": false,
     "start_time": "2021-10-03T00:25:15.109552",
     "status": "completed"
    },
    "tags": []
   },
   "outputs": [],
   "source": [
    "#hide\n",
    "# g = g.rename(columns= {'continent':'group','country':'name','cases':'value'})"
   ]
  },
  {
   "cell_type": "code",
   "execution_count": 36,
   "id": "fleet-motorcycle",
   "metadata": {
    "execution": {
     "iopub.execute_input": "2021-10-03T00:25:15.238591Z",
     "iopub.status.busy": "2021-10-03T00:25:15.237055Z",
     "iopub.status.idle": "2021-10-03T00:25:15.239268Z",
     "shell.execute_reply": "2021-10-03T00:25:15.239789Z"
    },
    "papermill": {
     "duration": 0.045059,
     "end_time": "2021-10-03T00:25:15.239924",
     "exception": false,
     "start_time": "2021-10-03T00:25:15.194865",
     "status": "completed"
    },
    "tags": []
   },
   "outputs": [],
   "source": [
    "#hide\n",
    "# cols = ['name','group','day','value']"
   ]
  },
  {
   "cell_type": "code",
   "execution_count": 37,
   "id": "continued-sleeping",
   "metadata": {
    "execution": {
     "iopub.execute_input": "2021-10-03T00:25:15.321853Z",
     "iopub.status.busy": "2021-10-03T00:25:15.320523Z",
     "iopub.status.idle": "2021-10-03T00:25:15.322844Z",
     "shell.execute_reply": "2021-10-03T00:25:15.323362Z"
    },
    "papermill": {
     "duration": 0.044729,
     "end_time": "2021-10-03T00:25:15.323496",
     "exception": false,
     "start_time": "2021-10-03T00:25:15.278767",
     "status": "completed"
    },
    "tags": []
   },
   "outputs": [],
   "source": [
    "#hide\n",
    "# g.rename(columns= {'date':'day'},inplace = True)"
   ]
  },
  {
   "cell_type": "code",
   "execution_count": 38,
   "id": "major-fight",
   "metadata": {
    "execution": {
     "iopub.execute_input": "2021-10-03T00:25:15.409583Z",
     "iopub.status.busy": "2021-10-03T00:25:15.408933Z",
     "iopub.status.idle": "2021-10-03T00:25:15.411169Z",
     "shell.execute_reply": "2021-10-03T00:25:15.411680Z"
    },
    "papermill": {
     "duration": 0.048738,
     "end_time": "2021-10-03T00:25:15.411816",
     "exception": false,
     "start_time": "2021-10-03T00:25:15.363078",
     "status": "completed"
    },
    "tags": []
   },
   "outputs": [],
   "source": [
    "#hide\n",
    "# g = g[cols]"
   ]
  },
  {
   "cell_type": "code",
   "execution_count": 39,
   "id": "structured-mobile",
   "metadata": {
    "execution": {
     "iopub.execute_input": "2021-10-03T00:25:15.504409Z",
     "iopub.status.busy": "2021-10-03T00:25:15.503763Z",
     "iopub.status.idle": "2021-10-03T00:25:15.505731Z",
     "shell.execute_reply": "2021-10-03T00:25:15.506271Z"
    },
    "papermill": {
     "duration": 0.047104,
     "end_time": "2021-10-03T00:25:15.506416",
     "exception": false,
     "start_time": "2021-10-03T00:25:15.459312",
     "status": "completed"
    },
    "tags": []
   },
   "outputs": [],
   "source": [
    "# #hide\n",
    "# g = g[g.group.notna()]"
   ]
  },
  {
   "cell_type": "code",
   "execution_count": 40,
   "id": "determined-closing",
   "metadata": {
    "execution": {
     "iopub.execute_input": "2021-10-03T00:25:15.590276Z",
     "iopub.status.busy": "2021-10-03T00:25:15.589473Z",
     "iopub.status.idle": "2021-10-03T00:25:15.591916Z",
     "shell.execute_reply": "2021-10-03T00:25:15.591326Z"
    },
    "papermill": {
     "duration": 0.045807,
     "end_time": "2021-10-03T00:25:15.592037",
     "exception": false,
     "start_time": "2021-10-03T00:25:15.546230",
     "status": "completed"
    },
    "tags": []
   },
   "outputs": [],
   "source": [
    "# #hide\n",
    "# colors = dict(zip(\n",
    "#     [\"Oceania\", \"Europe\", \"Asia\", \"South America\", \"Middle East\", \"North America\", \"Africa\"],\n",
    "#     [\"#adb0ff\", \"#ffb3ff\", \"#90d595\", \"#e48381\", \"#aafbff\", \"#f7bb5f\", \"#eafb50\"]\n",
    "# ))\n",
    "# group_lk = g.set_index('name')['group'].to_dict()"
   ]
  },
  {
   "cell_type": "code",
   "execution_count": null,
   "id": "gross-drinking",
   "metadata": {
    "papermill": {
     "duration": 0.040276,
     "end_time": "2021-10-03T00:25:15.672448",
     "exception": false,
     "start_time": "2021-10-03T00:25:15.632172",
     "status": "completed"
    },
    "tags": []
   },
   "outputs": [],
   "source": []
  },
  {
   "cell_type": "code",
   "execution_count": 41,
   "id": "subject-macintosh",
   "metadata": {
    "execution": {
     "iopub.execute_input": "2021-10-03T00:25:15.758765Z",
     "iopub.status.busy": "2021-10-03T00:25:15.758119Z",
     "iopub.status.idle": "2021-10-03T00:25:15.760792Z",
     "shell.execute_reply": "2021-10-03T00:25:15.759908Z"
    },
    "papermill": {
     "duration": 0.047952,
     "end_time": "2021-10-03T00:25:15.760951",
     "exception": false,
     "start_time": "2021-10-03T00:25:15.712999",
     "status": "completed"
    },
    "tags": []
   },
   "outputs": [],
   "source": [
    "# #hide\n",
    "# fig, ax = plt.subplots(figsize=(15, 8))\n",
    "\n",
    "# def draw_barchart(current_day):\n",
    "#     dff = g[g['day'].eq(current_day)].sort_values(by='value', ascending=True).tail(10)\n",
    "#     ax.clear()\n",
    "#     ax.barh(dff['name'], dff['value'], color=[colors[group_lk[x]] for x in dff['name']])\n",
    "#     dx = dff['value'].max() / 200\n",
    "    \n",
    "#     for i, (value, name) in enumerate(zip(dff['value'], dff['name'])):\n",
    "#         ax.text(value-dx, i,     name,           size=14, weight=600, ha='right', va='bottom')\n",
    "#         ax.text(value-dx, i-.25, group_lk[name], size=10, color='#444444', ha='right', va='baseline')\n",
    "#         ax.text(value+dx, i,     f'{value:,.0f}',  size=14, ha='left',  va='center')\n",
    "#     ax.text(1, 0.4, current_day, transform=ax.transAxes, color='#777777', size=46, ha='right', weight=800)\n",
    "#     ax.text(0, 1.06, 'Population (thousands)', transform=ax.transAxes, size=12, color='#777777')\n",
    "#     ax.xaxis.set_major_formatter(ticker.StrMethodFormatter('{x:,.0f}'))\n",
    "#     ax.xaxis.set_ticks_position('top')\n",
    "#     ax.tick_params(axis='x', colors='#777777', labelsize=12)\n",
    "#     ax.set_yticks([])\n",
    "#     ax.margins(0, 0.01)\n",
    "#     ax.grid(which='major', axis='x', linestyle='-')\n",
    "#     ax.set_axisbelow(True)\n",
    "    \n",
    "#     ax.text(0, 1.15, 'Coronavirus',\n",
    "#             transform=ax.transAxes, size=24, weight=600, ha='left', va='top')\n",
    "# #     ax.text(1, 0, 'by @pratapvardhan; credit @jburnmurdoch', transform=ax.transAxes, color='#777777', ha='right',\n",
    "# #             bbox=dict(facecolor='white', alpha=0.8, edgecolor='white'))\n",
    "#     plt.box(False)"
   ]
  },
  {
   "cell_type": "code",
   "execution_count": 42,
   "id": "sexual-wages",
   "metadata": {
    "execution": {
     "iopub.execute_input": "2021-10-03T00:25:15.843057Z",
     "iopub.status.busy": "2021-10-03T00:25:15.842369Z",
     "iopub.status.idle": "2021-10-03T00:25:15.845100Z",
     "shell.execute_reply": "2021-10-03T00:25:15.844594Z"
    },
    "papermill": {
     "duration": 0.045568,
     "end_time": "2021-10-03T00:25:15.845212",
     "exception": false,
     "start_time": "2021-10-03T00:25:15.799644",
     "status": "completed"
    },
    "tags": []
   },
   "outputs": [],
   "source": [
    "# #hide_input\n",
    "# fig, ax = plt.subplots(figsize=(15, 8))\n",
    "# animator = animation.FuncAnimation(fig, draw_barchart, frames=range(g.day.values.min(), g.day.values.max()))\n",
    "# HTML(animator.to_jshtml())\n",
    "# # or use animator.to_html5_video() or animator.save() "
   ]
  },
  {
   "cell_type": "code",
   "execution_count": null,
   "id": "australian-container",
   "metadata": {
    "papermill": {
     "duration": 0.038478,
     "end_time": "2021-10-03T00:25:15.921812",
     "exception": false,
     "start_time": "2021-10-03T00:25:15.883334",
     "status": "completed"
    },
    "tags": []
   },
   "outputs": [],
   "source": []
  },
  {
   "cell_type": "code",
   "execution_count": null,
   "id": "mediterranean-pontiac",
   "metadata": {
    "papermill": {
     "duration": 0.039768,
     "end_time": "2021-10-03T00:25:16.001090",
     "exception": false,
     "start_time": "2021-10-03T00:25:15.961322",
     "status": "completed"
    },
    "tags": []
   },
   "outputs": [],
   "source": []
  },
  {
   "cell_type": "code",
   "execution_count": null,
   "id": "aging-legislature",
   "metadata": {
    "papermill": {
     "duration": 0.046055,
     "end_time": "2021-10-03T00:25:16.086383",
     "exception": false,
     "start_time": "2021-10-03T00:25:16.040328",
     "status": "completed"
    },
    "tags": []
   },
   "outputs": [],
   "source": []
  }
 ],
 "metadata": {
  "kernelspec": {
   "display_name": "Python 3",
   "language": "python",
   "name": "python3"
  },
  "language_info": {
   "codemirror_mode": {
    "name": "ipython",
    "version": 3
   },
   "file_extension": ".py",
   "mimetype": "text/x-python",
   "name": "python",
   "nbconvert_exporter": "python",
   "pygments_lexer": "ipython3",
   "version": "3.6.15"
  },
  "papermill": {
   "duration": 7.468841,
   "end_time": "2021-10-03T00:25:16.440756",
   "environment_variables": {},
   "exception": null,
   "input_path": "2020-03-21-covid19exp.ipynb",
   "output_path": "2020-03-21-covid19exp.ipynb",
   "parameters": {},
   "start_time": "2021-10-03T00:25:08.971915",
   "version": "2.0.0"
  }
 },
 "nbformat": 4,
 "nbformat_minor": 5
}