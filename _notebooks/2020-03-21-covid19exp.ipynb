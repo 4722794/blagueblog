{
 "cells": [
  {
   "cell_type": "markdown",
   "id": "muslim-click",
   "metadata": {
    "papermill": {
     "duration": 0.034254,
     "end_time": "2021-07-23T12:10:43.898256",
     "exception": false,
     "start_time": "2021-07-23T12:10:43.864002",
     "status": "completed"
    },
    "tags": []
   },
   "source": [
    "# COVID-19 Case Race\n",
    "> A race chart to see rising cases around the world\n",
    "\n",
    "- author: Hargun Oberoi\n",
    "- image: images/covid-overview.png\n",
    "- hide: false\n",
    "- badges: false"
   ]
  },
  {
   "cell_type": "code",
   "execution_count": 1,
   "id": "proof-material",
   "metadata": {
    "execution": {
     "iopub.execute_input": "2021-07-23T12:10:43.967792Z",
     "iopub.status.busy": "2021-07-23T12:10:43.967245Z",
     "iopub.status.idle": "2021-07-23T12:10:44.313592Z",
     "shell.execute_reply": "2021-07-23T12:10:44.313020Z"
    },
    "papermill": {
     "duration": 0.385543,
     "end_time": "2021-07-23T12:10:44.313763",
     "exception": false,
     "start_time": "2021-07-23T12:10:43.928220",
     "status": "completed"
    },
    "tags": []
   },
   "outputs": [],
   "source": [
    "#hide\n",
    "import numpy as np\n",
    "import pandas as pd\n",
    "from jinja2 import Template\n",
    "from IPython.display import HTML"
   ]
  },
  {
   "cell_type": "code",
   "execution_count": 2,
   "id": "developed-terminology",
   "metadata": {
    "execution": {
     "iopub.execute_input": "2021-07-23T12:10:44.378118Z",
     "iopub.status.busy": "2021-07-23T12:10:44.377496Z",
     "iopub.status.idle": "2021-07-23T12:10:44.378952Z",
     "shell.execute_reply": "2021-07-23T12:10:44.379375Z"
    },
    "papermill": {
     "duration": 0.036162,
     "end_time": "2021-07-23T12:10:44.379505",
     "exception": false,
     "start_time": "2021-07-23T12:10:44.343343",
     "status": "completed"
    },
    "tags": []
   },
   "outputs": [],
   "source": [
    "#hide\n",
    "\n",
    "# FETCH\n",
    "base_url = 'https://raw.githubusercontent.com/pratapvardhan/notebooks/master/covid19/'\n",
    "paths = {\n",
    "    'mapping': base_url + 'mapping_countries.csv',\n",
    "    'overview': base_url + 'overview.tpl'\n",
    "}"
   ]
  },
  {
   "cell_type": "code",
   "execution_count": 3,
   "id": "dynamic-saver",
   "metadata": {
    "execution": {
     "iopub.execute_input": "2021-07-23T12:10:44.447376Z",
     "iopub.status.busy": "2021-07-23T12:10:44.446861Z",
     "iopub.status.idle": "2021-07-23T12:10:44.450010Z",
     "shell.execute_reply": "2021-07-23T12:10:44.449600Z"
    },
    "papermill": {
     "duration": 0.041448,
     "end_time": "2021-07-23T12:10:44.450128",
     "exception": false,
     "start_time": "2021-07-23T12:10:44.408680",
     "status": "completed"
    },
    "tags": []
   },
   "outputs": [
    {
     "data": {
      "text/plain": [
       "'https://raw.githubusercontent.com/pratapvardhan/notebooks/master/covid19/mapping_countries.csv'"
      ]
     },
     "execution_count": 3,
     "metadata": {},
     "output_type": "execute_result"
    }
   ],
   "source": [
    "#hide\n",
    "paths['mapping']"
   ]
  },
  {
   "cell_type": "code",
   "execution_count": 4,
   "id": "urban-software",
   "metadata": {
    "execution": {
     "iopub.execute_input": "2021-07-23T12:10:44.515098Z",
     "iopub.status.busy": "2021-07-23T12:10:44.514566Z",
     "iopub.status.idle": "2021-07-23T12:10:44.516729Z",
     "shell.execute_reply": "2021-07-23T12:10:44.517114Z"
    },
    "papermill": {
     "duration": 0.037529,
     "end_time": "2021-07-23T12:10:44.517252",
     "exception": false,
     "start_time": "2021-07-23T12:10:44.479723",
     "status": "completed"
    },
    "tags": []
   },
   "outputs": [],
   "source": [
    "#hide\n",
    "def get_mappings(url):\n",
    "    df = pd.read_csv(url)\n",
    "    return {\n",
    "        'df': df,\n",
    "        'replace.country': dict(df.dropna(subset=['Name']).set_index('Country')['Name']),\n",
    "        'map.continent': dict(df.set_index('Name')['Continent'])\n",
    "    }"
   ]
  },
  {
   "cell_type": "code",
   "execution_count": 5,
   "id": "intimate-machinery",
   "metadata": {
    "execution": {
     "iopub.execute_input": "2021-07-23T12:10:44.582542Z",
     "iopub.status.busy": "2021-07-23T12:10:44.581998Z",
     "iopub.status.idle": "2021-07-23T12:10:44.631836Z",
     "shell.execute_reply": "2021-07-23T12:10:44.631315Z"
    },
    "papermill": {
     "duration": 0.08519,
     "end_time": "2021-07-23T12:10:44.631975",
     "exception": false,
     "start_time": "2021-07-23T12:10:44.546785",
     "status": "completed"
    },
    "tags": []
   },
   "outputs": [],
   "source": [
    "#hide\n",
    "mapping = get_mappings(paths['mapping'])"
   ]
  },
  {
   "cell_type": "code",
   "execution_count": 6,
   "id": "certified-tactics",
   "metadata": {
    "execution": {
     "iopub.execute_input": "2021-07-23T12:10:44.696833Z",
     "iopub.status.busy": "2021-07-23T12:10:44.696304Z",
     "iopub.status.idle": "2021-07-23T12:10:44.697869Z",
     "shell.execute_reply": "2021-07-23T12:10:44.698265Z"
    },
    "papermill": {
     "duration": 0.036636,
     "end_time": "2021-07-23T12:10:44.698422",
     "exception": false,
     "start_time": "2021-07-23T12:10:44.661786",
     "status": "completed"
    },
    "tags": []
   },
   "outputs": [],
   "source": [
    "#hide\n",
    "def get_template(path):\n",
    "    from urllib.parse import urlparse\n",
    "    if bool(urlparse(path).netloc):\n",
    "        from urllib.request import urlopen\n",
    "        return urlopen(path).read().decode('utf8')\n",
    "    return open(path).read()"
   ]
  },
  {
   "cell_type": "code",
   "execution_count": 7,
   "id": "realistic-blast",
   "metadata": {
    "execution": {
     "iopub.execute_input": "2021-07-23T12:10:44.762830Z",
     "iopub.status.busy": "2021-07-23T12:10:44.762275Z",
     "iopub.status.idle": "2021-07-23T12:10:44.764001Z",
     "shell.execute_reply": "2021-07-23T12:10:44.764478Z"
    },
    "papermill": {
     "duration": 0.036634,
     "end_time": "2021-07-23T12:10:44.764611",
     "exception": false,
     "start_time": "2021-07-23T12:10:44.727977",
     "status": "completed"
    },
    "tags": []
   },
   "outputs": [],
   "source": [
    "#hide\n",
    "def get_frame(name):\n",
    "    url = (\n",
    "        'https://raw.githubusercontent.com/CSSEGISandData/COVID-19/master/csse_covid_19_data/'\n",
    "        f'csse_covid_19_time_series/time_series_covid19_{name}_global.csv')\n",
    "    df = pd.read_csv(url)\n",
    "    # rename countries\n",
    "    df['Country/Region'] = df['Country/Region'].replace(mapping['replace.country'])\n",
    "    return df"
   ]
  },
  {
   "cell_type": "code",
   "execution_count": 8,
   "id": "affiliated-characterization",
   "metadata": {
    "execution": {
     "iopub.execute_input": "2021-07-23T12:10:44.829917Z",
     "iopub.status.busy": "2021-07-23T12:10:44.829389Z",
     "iopub.status.idle": "2021-07-23T12:10:44.831018Z",
     "shell.execute_reply": "2021-07-23T12:10:44.831413Z"
    },
    "papermill": {
     "duration": 0.037316,
     "end_time": "2021-07-23T12:10:44.831545",
     "exception": false,
     "start_time": "2021-07-23T12:10:44.794229",
     "status": "completed"
    },
    "tags": []
   },
   "outputs": [],
   "source": [
    "#hide\n",
    "def get_dates(df):\n",
    "    dt_cols = df.columns[~df.columns.isin(['Province/State', 'Country/Region', 'Lat', 'Long'])]\n",
    "    LAST_DATE_I = -1\n",
    "    # sometimes last column may be empty, then go backwards\n",
    "    for i in range(-1, -len(dt_cols), -1):\n",
    "        if not df[dt_cols[i]].fillna(0).eq(0).all():\n",
    "            LAST_DATE_I = i\n",
    "            break\n",
    "    return LAST_DATE_I, dt_cols"
   ]
  },
  {
   "cell_type": "code",
   "execution_count": 9,
   "id": "recent-optimization",
   "metadata": {
    "execution": {
     "iopub.execute_input": "2021-07-23T12:10:44.896008Z",
     "iopub.status.busy": "2021-07-23T12:10:44.895488Z",
     "iopub.status.idle": "2021-07-23T12:10:45.394781Z",
     "shell.execute_reply": "2021-07-23T12:10:45.395269Z"
    },
    "papermill": {
     "duration": 0.534231,
     "end_time": "2021-07-23T12:10:45.395442",
     "exception": false,
     "start_time": "2021-07-23T12:10:44.861211",
     "status": "completed"
    },
    "tags": []
   },
   "outputs": [],
   "source": [
    "#hide\n",
    "COL_REGION = 'Country/Region'\n",
    "# Confirmed, Recovered, Deaths\n",
    "df = get_frame('confirmed')\n",
    "# dft_: timeseries, dfc_: today country agg\n",
    "dft_cases = df\n",
    "dft_deaths = get_frame('deaths')\n",
    "dft_recovered = get_frame('recovered')\n",
    "LAST_DATE_I, dt_cols = get_dates(df)"
   ]
  },
  {
   "cell_type": "code",
   "execution_count": 10,
   "id": "absolute-copper",
   "metadata": {
    "execution": {
     "iopub.execute_input": "2021-07-23T12:10:45.460421Z",
     "iopub.status.busy": "2021-07-23T12:10:45.459909Z",
     "iopub.status.idle": "2021-07-23T12:10:45.461719Z",
     "shell.execute_reply": "2021-07-23T12:10:45.462178Z"
    },
    "papermill": {
     "duration": 0.03711,
     "end_time": "2021-07-23T12:10:45.462299",
     "exception": false,
     "start_time": "2021-07-23T12:10:45.425189",
     "status": "completed"
    },
    "tags": []
   },
   "outputs": [],
   "source": [
    "#hide\n",
    "LAST_DATE_I, dt_cols = get_dates(df)\n",
    "dt_today =dt_cols[LAST_DATE_I]\n",
    "# dt_5day = dt_cols[LAST_DATE_I - 5]\n",
    "dt_yday = dt_cols[LAST_DATE_I - 1]"
   ]
  },
  {
   "cell_type": "code",
   "execution_count": 11,
   "id": "restricted-sheriff",
   "metadata": {
    "execution": {
     "iopub.execute_input": "2021-07-23T12:10:45.529044Z",
     "iopub.status.busy": "2021-07-23T12:10:45.526805Z",
     "iopub.status.idle": "2021-07-23T12:10:45.533918Z",
     "shell.execute_reply": "2021-07-23T12:10:45.534316Z"
    },
    "papermill": {
     "duration": 0.043023,
     "end_time": "2021-07-23T12:10:45.534467",
     "exception": false,
     "start_time": "2021-07-23T12:10:45.491444",
     "status": "completed"
    },
    "tags": []
   },
   "outputs": [],
   "source": [
    "#hide\n",
    "dfc_cases = dft_cases.groupby(COL_REGION)[dt_today].sum()\n",
    "dfc_deaths = dft_deaths.groupby(COL_REGION)[dt_today].sum()\n",
    "# dfp_cases = dft_cases.groupby(COL_REGION)[dt_5day].sum()\n",
    "# dfp_deaths = dft_deaths.groupby(COL_REGION)[dt_5day].sum()\n",
    "dfp_cases = dft_cases.groupby(COL_REGION)[dt_yday].sum()\n",
    "dfp_deaths = dft_deaths.groupby(COL_REGION)[dt_yday].sum()"
   ]
  },
  {
   "cell_type": "code",
   "execution_count": 12,
   "id": "deluxe-hepatitis",
   "metadata": {
    "execution": {
     "iopub.execute_input": "2021-07-23T12:10:45.600327Z",
     "iopub.status.busy": "2021-07-23T12:10:45.599794Z",
     "iopub.status.idle": "2021-07-23T12:10:45.603912Z",
     "shell.execute_reply": "2021-07-23T12:10:45.603506Z"
    },
    "papermill": {
     "duration": 0.040247,
     "end_time": "2021-07-23T12:10:45.604027",
     "exception": false,
     "start_time": "2021-07-23T12:10:45.563780",
     "status": "completed"
    },
    "tags": []
   },
   "outputs": [],
   "source": [
    "#hide\n",
    "df_table = (pd.DataFrame(dict(Cases = dfc_cases, Deaths = dfc_deaths, PCases = dfp_cases, PDeaths = dfp_deaths))\n",
    "            .sort_values(by = ['Cases','Deaths'], ascending = [False, False])\n",
    "            .reset_index())"
   ]
  },
  {
   "cell_type": "code",
   "execution_count": 13,
   "id": "educational-chancellor",
   "metadata": {
    "execution": {
     "iopub.execute_input": "2021-07-23T12:10:45.682435Z",
     "iopub.status.busy": "2021-07-23T12:10:45.681877Z",
     "iopub.status.idle": "2021-07-23T12:10:45.689449Z",
     "shell.execute_reply": "2021-07-23T12:10:45.689042Z"
    },
    "papermill": {
     "duration": 0.05625,
     "end_time": "2021-07-23T12:10:45.689567",
     "exception": false,
     "start_time": "2021-07-23T12:10:45.633317",
     "status": "completed"
    },
    "tags": []
   },
   "outputs": [
    {
     "data": {
      "text/html": [
       "<div>\n",
       "<style scoped>\n",
       "    .dataframe tbody tr th:only-of-type {\n",
       "        vertical-align: middle;\n",
       "    }\n",
       "\n",
       "    .dataframe tbody tr th {\n",
       "        vertical-align: top;\n",
       "    }\n",
       "\n",
       "    .dataframe thead th {\n",
       "        text-align: right;\n",
       "    }\n",
       "</style>\n",
       "<table border=\"1\" class=\"dataframe\">\n",
       "  <thead>\n",
       "    <tr style=\"text-align: right;\">\n",
       "      <th></th>\n",
       "      <th>Country/Region</th>\n",
       "      <th>Cases</th>\n",
       "      <th>Deaths</th>\n",
       "      <th>PCases</th>\n",
       "      <th>PDeaths</th>\n",
       "      <th>Cases (+)</th>\n",
       "      <th>Deaths (+)</th>\n",
       "      <th>Fatality Rate</th>\n",
       "      <th>Continent</th>\n",
       "    </tr>\n",
       "  </thead>\n",
       "  <tbody>\n",
       "    <tr>\n",
       "      <th>0</th>\n",
       "      <td>US</td>\n",
       "      <td>34281864</td>\n",
       "      <td>610177</td>\n",
       "      <td>34226806</td>\n",
       "      <td>609862</td>\n",
       "      <td>55058</td>\n",
       "      <td>315</td>\n",
       "      <td>1.78</td>\n",
       "      <td>North America</td>\n",
       "    </tr>\n",
       "    <tr>\n",
       "      <th>1</th>\n",
       "      <td>India</td>\n",
       "      <td>31293062</td>\n",
       "      <td>419470</td>\n",
       "      <td>31257720</td>\n",
       "      <td>418987</td>\n",
       "      <td>35342</td>\n",
       "      <td>483</td>\n",
       "      <td>1.34</td>\n",
       "      <td>Asia</td>\n",
       "    </tr>\n",
       "    <tr>\n",
       "      <th>2</th>\n",
       "      <td>Brazil</td>\n",
       "      <td>19523711</td>\n",
       "      <td>547016</td>\n",
       "      <td>19473954</td>\n",
       "      <td>545604</td>\n",
       "      <td>49757</td>\n",
       "      <td>1412</td>\n",
       "      <td>2.80</td>\n",
       "      <td>South America</td>\n",
       "    </tr>\n",
       "    <tr>\n",
       "      <th>3</th>\n",
       "      <td>France</td>\n",
       "      <td>5996060</td>\n",
       "      <td>111749</td>\n",
       "      <td>5973912</td>\n",
       "      <td>111737</td>\n",
       "      <td>22148</td>\n",
       "      <td>12</td>\n",
       "      <td>1.86</td>\n",
       "      <td>Europe</td>\n",
       "    </tr>\n",
       "    <tr>\n",
       "      <th>4</th>\n",
       "      <td>Russia</td>\n",
       "      <td>5979027</td>\n",
       "      <td>149012</td>\n",
       "      <td>5955089</td>\n",
       "      <td>148229</td>\n",
       "      <td>23938</td>\n",
       "      <td>783</td>\n",
       "      <td>2.49</td>\n",
       "      <td>Europe</td>\n",
       "    </tr>\n",
       "  </tbody>\n",
       "</table>\n",
       "</div>"
      ],
      "text/plain": [
       "  Country/Region     Cases  Deaths    PCases  PDeaths  Cases (+)  Deaths (+)  \\\n",
       "0             US  34281864  610177  34226806   609862      55058         315   \n",
       "1          India  31293062  419470  31257720   418987      35342         483   \n",
       "2         Brazil  19523711  547016  19473954   545604      49757        1412   \n",
       "3         France   5996060  111749   5973912   111737      22148          12   \n",
       "4         Russia   5979027  149012   5955089   148229      23938         783   \n",
       "\n",
       "   Fatality Rate      Continent  \n",
       "0           1.78  North America  \n",
       "1           1.34           Asia  \n",
       "2           2.80  South America  \n",
       "3           1.86         Europe  \n",
       "4           2.49         Europe  "
      ]
     },
     "execution_count": 13,
     "metadata": {},
     "output_type": "execute_result"
    }
   ],
   "source": [
    "#hide\n",
    "for c in 'Cases, Deaths'.split(', '):\n",
    "    df_table[f'{c} (+)'] = (df_table[c] - df_table[f'P{c}']).clip(0)\n",
    "    #Clip ça veut dire, les chiffres negatif sont interdit\n",
    "df_table['Fatality Rate'] = (100* df_table['Deaths']/ df_table['Cases']).round(2)\n",
    "df_table['Continent'] = df_table['Country/Region'].map(mapping['map.continent'])\n",
    "df_table.head(5)"
   ]
  },
  {
   "cell_type": "code",
   "execution_count": 14,
   "id": "aboriginal-bulgaria",
   "metadata": {
    "execution": {
     "iopub.execute_input": "2021-07-23T12:10:45.754312Z",
     "iopub.status.busy": "2021-07-23T12:10:45.753817Z",
     "iopub.status.idle": "2021-07-23T12:10:45.757054Z",
     "shell.execute_reply": "2021-07-23T12:10:45.756654Z"
    },
    "papermill": {
     "duration": 0.037584,
     "end_time": "2021-07-23T12:10:45.757162",
     "exception": false,
     "start_time": "2021-07-23T12:10:45.719578",
     "status": "completed"
    },
    "tags": []
   },
   "outputs": [],
   "source": [
    "#hide\n",
    "#delete problematic countries from table\n",
    "df_table = df_table[~df_table['Country/Region'].isin(['Cape Verde', 'Cruise Ship', 'Kosovo'])]"
   ]
  },
  {
   "cell_type": "code",
   "execution_count": 15,
   "id": "fantastic-effect",
   "metadata": {
    "execution": {
     "iopub.execute_input": "2021-07-23T12:10:45.825280Z",
     "iopub.status.busy": "2021-07-23T12:10:45.824766Z",
     "iopub.status.idle": "2021-07-23T12:10:45.842156Z",
     "shell.execute_reply": "2021-07-23T12:10:45.842620Z"
    },
    "papermill": {
     "duration": 0.055678,
     "end_time": "2021-07-23T12:10:45.842773",
     "exception": false,
     "start_time": "2021-07-23T12:10:45.787095",
     "status": "completed"
    },
    "tags": []
   },
   "outputs": [
    {
     "data": {
      "text/html": [
       "<div>\n",
       "<style scoped>\n",
       "    .dataframe tbody tr th:only-of-type {\n",
       "        vertical-align: middle;\n",
       "    }\n",
       "\n",
       "    .dataframe tbody tr th {\n",
       "        vertical-align: top;\n",
       "    }\n",
       "\n",
       "    .dataframe thead th {\n",
       "        text-align: right;\n",
       "    }\n",
       "</style>\n",
       "<table border=\"1\" class=\"dataframe\">\n",
       "  <thead>\n",
       "    <tr style=\"text-align: right;\">\n",
       "      <th></th>\n",
       "      <th>Country/Region</th>\n",
       "      <th>Cases</th>\n",
       "      <th>Deaths</th>\n",
       "      <th>PCases</th>\n",
       "      <th>PDeaths</th>\n",
       "      <th>Cases (+)</th>\n",
       "      <th>Deaths (+)</th>\n",
       "      <th>Fatality Rate</th>\n",
       "      <th>Continent</th>\n",
       "    </tr>\n",
       "  </thead>\n",
       "  <tbody>\n",
       "    <tr>\n",
       "      <th>0</th>\n",
       "      <td>US</td>\n",
       "      <td>34281864</td>\n",
       "      <td>610177</td>\n",
       "      <td>34226806</td>\n",
       "      <td>609862</td>\n",
       "      <td>55058</td>\n",
       "      <td>315</td>\n",
       "      <td>1.8</td>\n",
       "      <td>North America</td>\n",
       "    </tr>\n",
       "    <tr>\n",
       "      <th>1</th>\n",
       "      <td>India</td>\n",
       "      <td>31293062</td>\n",
       "      <td>419470</td>\n",
       "      <td>31257720</td>\n",
       "      <td>418987</td>\n",
       "      <td>35342</td>\n",
       "      <td>483</td>\n",
       "      <td>1.3</td>\n",
       "      <td>Asia</td>\n",
       "    </tr>\n",
       "    <tr>\n",
       "      <th>2</th>\n",
       "      <td>Brazil</td>\n",
       "      <td>19523711</td>\n",
       "      <td>547016</td>\n",
       "      <td>19473954</td>\n",
       "      <td>545604</td>\n",
       "      <td>49757</td>\n",
       "      <td>1412</td>\n",
       "      <td>2.8</td>\n",
       "      <td>South America</td>\n",
       "    </tr>\n",
       "    <tr>\n",
       "      <th>3</th>\n",
       "      <td>France</td>\n",
       "      <td>5996060</td>\n",
       "      <td>111749</td>\n",
       "      <td>5973912</td>\n",
       "      <td>111737</td>\n",
       "      <td>22148</td>\n",
       "      <td>12</td>\n",
       "      <td>1.9</td>\n",
       "      <td>Europe</td>\n",
       "    </tr>\n",
       "    <tr>\n",
       "      <th>4</th>\n",
       "      <td>Russia</td>\n",
       "      <td>5979027</td>\n",
       "      <td>149012</td>\n",
       "      <td>5955089</td>\n",
       "      <td>148229</td>\n",
       "      <td>23938</td>\n",
       "      <td>783</td>\n",
       "      <td>2.5</td>\n",
       "      <td>Europe</td>\n",
       "    </tr>\n",
       "  </tbody>\n",
       "</table>\n",
       "</div>"
      ],
      "text/plain": [
       "  Country/Region     Cases  Deaths    PCases  PDeaths  Cases (+)  Deaths (+)  \\\n",
       "0             US  34281864  610177  34226806   609862      55058         315   \n",
       "1          India  31293062  419470  31257720   418987      35342         483   \n",
       "2         Brazil  19523711  547016  19473954   545604      49757        1412   \n",
       "3         France   5996060  111749   5973912   111737      22148          12   \n",
       "4         Russia   5979027  149012   5955089   148229      23938         783   \n",
       "\n",
       "   Fatality Rate      Continent  \n",
       "0            1.8  North America  \n",
       "1            1.3           Asia  \n",
       "2            2.8  South America  \n",
       "3            1.9         Europe  \n",
       "4            2.5         Europe  "
      ]
     },
     "execution_count": 15,
     "metadata": {},
     "output_type": "execute_result"
    }
   ],
   "source": [
    "#hide\n",
    "df_table = (pd.DataFrame(dict(Cases=dfc_cases, Deaths=dfc_deaths, PCases=dfp_cases, PDeaths=dfp_deaths))\n",
    "             .sort_values(by=['Cases', 'Deaths'], ascending=[False, False])\n",
    "             .reset_index())\n",
    "df_table.rename(columns={'index': 'Country/Region'}, inplace=True)\n",
    "for c in 'Cases, Deaths'.split(', '):\n",
    "    df_table[f'{c} (+)'] = (df_table[c] - df_table[f'P{c}']).clip(0)  # DATA BUG\n",
    "df_table['Fatality Rate'] = (100 * df_table['Deaths'] / df_table['Cases']).round(1)\n",
    "df_table['Continent'] = df_table['Country/Region'].map(mapping['map.continent'])\n",
    "df_table.head(5)"
   ]
  },
  {
   "cell_type": "code",
   "execution_count": 16,
   "id": "fewer-occasion",
   "metadata": {
    "execution": {
     "iopub.execute_input": "2021-07-23T12:10:45.909939Z",
     "iopub.status.busy": "2021-07-23T12:10:45.909421Z",
     "iopub.status.idle": "2021-07-23T12:10:45.911993Z",
     "shell.execute_reply": "2021-07-23T12:10:45.911584Z"
    },
    "papermill": {
     "duration": 0.038689,
     "end_time": "2021-07-23T12:10:45.912107",
     "exception": false,
     "start_time": "2021-07-23T12:10:45.873418",
     "status": "completed"
    },
    "tags": []
   },
   "outputs": [],
   "source": [
    "#hide\n",
    "#delete problematic countries from table\n",
    "df_table = df_table[~df_table['Country/Region'].isin(['Cape Verde', 'Cruise Ship', 'Kosovo'])]"
   ]
  },
  {
   "cell_type": "code",
   "execution_count": 17,
   "id": "related-center",
   "metadata": {
    "execution": {
     "iopub.execute_input": "2021-07-23T12:10:45.980233Z",
     "iopub.status.busy": "2021-07-23T12:10:45.979709Z",
     "iopub.status.idle": "2021-07-23T12:10:45.993082Z",
     "shell.execute_reply": "2021-07-23T12:10:45.993467Z"
    },
    "papermill": {
     "duration": 0.051159,
     "end_time": "2021-07-23T12:10:45.993613",
     "exception": false,
     "start_time": "2021-07-23T12:10:45.942454",
     "status": "completed"
    },
    "tags": []
   },
   "outputs": [],
   "source": [
    "#hide\n",
    "metrics = [df_table.columns[index] for index in [1,2,5,6]]\n",
    "# s_china = df_table[df_table['Country/Region'].eq('China')][metrics].sum().add_prefix('China ')\n",
    "s_us = df_table[df_table['Country/Region'].eq('US')][metrics].sum().add_prefix('US ')\n",
    "s_eu = df_table[df_table['Continent'].eq('Europe')][metrics].sum().add_prefix('EU ')\n",
    "s_ind = df_table[df_table['Country/Region'].eq('India')][metrics].sum().add_prefix('India ')\n",
    "summary = {'updated': pd.to_datetime(dt_today), 'since': pd.to_datetime(dt_yday)}\n",
    "summary = {'updated': pd.to_datetime(dt_today), 'since': pd.to_datetime(dt_yday)}\n",
    "summary = {**summary, **df_table[metrics].sum(), **s_ind, **s_us, **s_eu}"
   ]
  },
  {
   "cell_type": "code",
   "execution_count": 18,
   "id": "engaging-syndrome",
   "metadata": {
    "execution": {
     "iopub.execute_input": "2021-07-23T12:10:46.060073Z",
     "iopub.status.busy": "2021-07-23T12:10:46.059560Z",
     "iopub.status.idle": "2021-07-23T12:10:46.072728Z",
     "shell.execute_reply": "2021-07-23T12:10:46.072300Z"
    },
    "papermill": {
     "duration": 0.048515,
     "end_time": "2021-07-23T12:10:46.072856",
     "exception": false,
     "start_time": "2021-07-23T12:10:46.024341",
     "status": "completed"
    },
    "tags": []
   },
   "outputs": [],
   "source": [
    "#hide\n",
    "dft_ct_new_cases = dft_cases.groupby(COL_REGION)[dt_cols].sum().diff(axis=1).fillna(0).astype(int)"
   ]
  },
  {
   "cell_type": "code",
   "execution_count": 19,
   "id": "neutral-assignment",
   "metadata": {
    "execution": {
     "iopub.execute_input": "2021-07-23T12:10:46.141063Z",
     "iopub.status.busy": "2021-07-23T12:10:46.140547Z",
     "iopub.status.idle": "2021-07-23T12:10:46.142833Z",
     "shell.execute_reply": "2021-07-23T12:10:46.142416Z"
    },
    "papermill": {
     "duration": 0.039173,
     "end_time": "2021-07-23T12:10:46.142954",
     "exception": false,
     "start_time": "2021-07-23T12:10:46.103781",
     "status": "completed"
    },
    "tags": []
   },
   "outputs": [],
   "source": [
    "#hide\n",
    "everydaycases = dft_ct_new_cases.cumsum(axis=1)"
   ]
  },
  {
   "cell_type": "code",
   "execution_count": 20,
   "id": "parliamentary-calgary",
   "metadata": {
    "execution": {
     "iopub.execute_input": "2021-07-23T12:10:46.208569Z",
     "iopub.status.busy": "2021-07-23T12:10:46.208031Z",
     "iopub.status.idle": "2021-07-23T12:10:46.885530Z",
     "shell.execute_reply": "2021-07-23T12:10:46.885019Z"
    },
    "papermill": {
     "duration": 0.712161,
     "end_time": "2021-07-23T12:10:46.885669",
     "exception": false,
     "start_time": "2021-07-23T12:10:46.173508",
     "status": "completed"
    },
    "tags": []
   },
   "outputs": [],
   "source": [
    "#hide\n",
    "import pandas as pd\n",
    "import matplotlib.pyplot as plt\n",
    "import matplotlib.ticker as ticker\n",
    "import matplotlib.animation as animation\n",
    "from IPython.display import HTML"
   ]
  },
  {
   "cell_type": "code",
   "execution_count": 21,
   "id": "lasting-extraction",
   "metadata": {
    "execution": {
     "iopub.execute_input": "2021-07-23T12:10:46.953922Z",
     "iopub.status.busy": "2021-07-23T12:10:46.953393Z",
     "iopub.status.idle": "2021-07-23T12:10:46.958834Z",
     "shell.execute_reply": "2021-07-23T12:10:46.959268Z"
    },
    "papermill": {
     "duration": 0.042496,
     "end_time": "2021-07-23T12:10:46.959408",
     "exception": false,
     "start_time": "2021-07-23T12:10:46.916912",
     "status": "completed"
    },
    "tags": []
   },
   "outputs": [],
   "source": [
    "#hide\n",
    "t = everydaycases.stack()"
   ]
  },
  {
   "cell_type": "code",
   "execution_count": 22,
   "id": "premier-sleeve",
   "metadata": {
    "execution": {
     "iopub.execute_input": "2021-07-23T12:10:47.025984Z",
     "iopub.status.busy": "2021-07-23T12:10:47.025445Z",
     "iopub.status.idle": "2021-07-23T12:10:47.034812Z",
     "shell.execute_reply": "2021-07-23T12:10:47.034309Z"
    },
    "papermill": {
     "duration": 0.044879,
     "end_time": "2021-07-23T12:10:47.034934",
     "exception": false,
     "start_time": "2021-07-23T12:10:46.990055",
     "status": "completed"
    },
    "tags": []
   },
   "outputs": [],
   "source": [
    "#hide\n",
    "g = t.reset_index(['Country/Region'])"
   ]
  },
  {
   "cell_type": "code",
   "execution_count": 23,
   "id": "distributed-pittsburgh",
   "metadata": {
    "execution": {
     "iopub.execute_input": "2021-07-23T12:10:47.100388Z",
     "iopub.status.busy": "2021-07-23T12:10:47.099864Z",
     "iopub.status.idle": "2021-07-23T12:10:47.101691Z",
     "shell.execute_reply": "2021-07-23T12:10:47.102130Z"
    },
    "papermill": {
     "duration": 0.036889,
     "end_time": "2021-07-23T12:10:47.102268",
     "exception": false,
     "start_time": "2021-07-23T12:10:47.065379",
     "status": "completed"
    },
    "tags": []
   },
   "outputs": [],
   "source": [
    "#hide\n",
    "g.index.name = 'date'"
   ]
  },
  {
   "cell_type": "code",
   "execution_count": 24,
   "id": "naked-donor",
   "metadata": {
    "execution": {
     "iopub.execute_input": "2021-07-23T12:10:47.168494Z",
     "iopub.status.busy": "2021-07-23T12:10:47.167960Z",
     "iopub.status.idle": "2021-07-23T12:10:47.169868Z",
     "shell.execute_reply": "2021-07-23T12:10:47.170277Z"
    },
    "papermill": {
     "duration": 0.03701,
     "end_time": "2021-07-23T12:10:47.170446",
     "exception": false,
     "start_time": "2021-07-23T12:10:47.133436",
     "status": "completed"
    },
    "tags": []
   },
   "outputs": [],
   "source": [
    "# #hide\n",
    "# g = g.reset_index(['date'])"
   ]
  },
  {
   "cell_type": "code",
   "execution_count": 25,
   "id": "incomplete-mustang",
   "metadata": {
    "execution": {
     "iopub.execute_input": "2021-07-23T12:10:47.235529Z",
     "iopub.status.busy": "2021-07-23T12:10:47.235005Z",
     "iopub.status.idle": "2021-07-23T12:10:47.237175Z",
     "shell.execute_reply": "2021-07-23T12:10:47.236742Z"
    },
    "papermill": {
     "duration": 0.036309,
     "end_time": "2021-07-23T12:10:47.237288",
     "exception": false,
     "start_time": "2021-07-23T12:10:47.200979",
     "status": "completed"
    },
    "tags": []
   },
   "outputs": [],
   "source": [
    "#hide\n",
    "# g.head()"
   ]
  },
  {
   "cell_type": "code",
   "execution_count": 26,
   "id": "specific-kruger",
   "metadata": {
    "execution": {
     "iopub.execute_input": "2021-07-23T12:10:47.302457Z",
     "iopub.status.busy": "2021-07-23T12:10:47.301907Z",
     "iopub.status.idle": "2021-07-23T12:10:47.304177Z",
     "shell.execute_reply": "2021-07-23T12:10:47.303761Z"
    },
    "papermill": {
     "duration": 0.036302,
     "end_time": "2021-07-23T12:10:47.304294",
     "exception": false,
     "start_time": "2021-07-23T12:10:47.267992",
     "status": "completed"
    },
    "tags": []
   },
   "outputs": [],
   "source": [
    "#hide\n",
    "# g.columns = ['date','country','cases']"
   ]
  },
  {
   "cell_type": "code",
   "execution_count": 27,
   "id": "tender-conversion",
   "metadata": {
    "execution": {
     "iopub.execute_input": "2021-07-23T12:10:47.369355Z",
     "iopub.status.busy": "2021-07-23T12:10:47.368802Z",
     "iopub.status.idle": "2021-07-23T12:10:47.370997Z",
     "shell.execute_reply": "2021-07-23T12:10:47.370585Z"
    },
    "papermill": {
     "duration": 0.036178,
     "end_time": "2021-07-23T12:10:47.371111",
     "exception": false,
     "start_time": "2021-07-23T12:10:47.334933",
     "status": "completed"
    },
    "tags": []
   },
   "outputs": [],
   "source": [
    "#hide\n",
    "# g['continent'] = g.country"
   ]
  },
  {
   "cell_type": "code",
   "execution_count": 28,
   "id": "substantial-wilderness",
   "metadata": {
    "execution": {
     "iopub.execute_input": "2021-07-23T12:10:47.436145Z",
     "iopub.status.busy": "2021-07-23T12:10:47.435614Z",
     "iopub.status.idle": "2021-07-23T12:10:47.437870Z",
     "shell.execute_reply": "2021-07-23T12:10:47.437459Z"
    },
    "papermill": {
     "duration": 0.036271,
     "end_time": "2021-07-23T12:10:47.437985",
     "exception": false,
     "start_time": "2021-07-23T12:10:47.401714",
     "status": "completed"
    },
    "tags": []
   },
   "outputs": [],
   "source": [
    "#hide\n",
    "# cols = list(g.columns.values)"
   ]
  },
  {
   "cell_type": "code",
   "execution_count": 29,
   "id": "solved-farming",
   "metadata": {
    "execution": {
     "iopub.execute_input": "2021-07-23T12:10:47.502949Z",
     "iopub.status.busy": "2021-07-23T12:10:47.502414Z",
     "iopub.status.idle": "2021-07-23T12:10:47.504186Z",
     "shell.execute_reply": "2021-07-23T12:10:47.504609Z"
    },
    "papermill": {
     "duration": 0.036359,
     "end_time": "2021-07-23T12:10:47.504740",
     "exception": false,
     "start_time": "2021-07-23T12:10:47.468381",
     "status": "completed"
    },
    "tags": []
   },
   "outputs": [],
   "source": [
    "#hide\n",
    "# cols.insert(0, cols.pop())"
   ]
  },
  {
   "cell_type": "code",
   "execution_count": 30,
   "id": "executed-adoption",
   "metadata": {
    "execution": {
     "iopub.execute_input": "2021-07-23T12:10:47.570022Z",
     "iopub.status.busy": "2021-07-23T12:10:47.569509Z",
     "iopub.status.idle": "2021-07-23T12:10:47.571733Z",
     "shell.execute_reply": "2021-07-23T12:10:47.571333Z"
    },
    "papermill": {
     "duration": 0.036294,
     "end_time": "2021-07-23T12:10:47.571846",
     "exception": false,
     "start_time": "2021-07-23T12:10:47.535552",
     "status": "completed"
    },
    "tags": []
   },
   "outputs": [],
   "source": [
    "#hide\n",
    "# g = g[cols]"
   ]
  },
  {
   "cell_type": "code",
   "execution_count": 31,
   "id": "subject-dublin",
   "metadata": {
    "execution": {
     "iopub.execute_input": "2021-07-23T12:10:47.636029Z",
     "iopub.status.busy": "2021-07-23T12:10:47.635528Z",
     "iopub.status.idle": "2021-07-23T12:10:47.637839Z",
     "shell.execute_reply": "2021-07-23T12:10:47.637429Z"
    },
    "papermill": {
     "duration": 0.035786,
     "end_time": "2021-07-23T12:10:47.637950",
     "exception": false,
     "start_time": "2021-07-23T12:10:47.602164",
     "status": "completed"
    },
    "tags": []
   },
   "outputs": [],
   "source": [
    "#hide\n",
    "# g['continent'] = g['continent'].map(mapping['map.continent'])"
   ]
  },
  {
   "cell_type": "code",
   "execution_count": 32,
   "id": "freelance-scout",
   "metadata": {
    "execution": {
     "iopub.execute_input": "2021-07-23T12:10:47.702278Z",
     "iopub.status.busy": "2021-07-23T12:10:47.701762Z",
     "iopub.status.idle": "2021-07-23T12:10:47.703875Z",
     "shell.execute_reply": "2021-07-23T12:10:47.703452Z"
    },
    "papermill": {
     "duration": 0.035744,
     "end_time": "2021-07-23T12:10:47.703982",
     "exception": false,
     "start_time": "2021-07-23T12:10:47.668238",
     "status": "completed"
    },
    "tags": []
   },
   "outputs": [],
   "source": [
    "#hide\n",
    "# g.head()"
   ]
  },
  {
   "cell_type": "code",
   "execution_count": 33,
   "id": "limited-engine",
   "metadata": {
    "execution": {
     "iopub.execute_input": "2021-07-23T12:10:47.767626Z",
     "iopub.status.busy": "2021-07-23T12:10:47.767131Z",
     "iopub.status.idle": "2021-07-23T12:10:47.769005Z",
     "shell.execute_reply": "2021-07-23T12:10:47.769404Z"
    },
    "papermill": {
     "duration": 0.035611,
     "end_time": "2021-07-23T12:10:47.769529",
     "exception": false,
     "start_time": "2021-07-23T12:10:47.733918",
     "status": "completed"
    },
    "tags": []
   },
   "outputs": [],
   "source": [
    "# hide\n",
    "# g['date'] = g['date'].astype('datetime64[ns]')"
   ]
  },
  {
   "cell_type": "code",
   "execution_count": 34,
   "id": "sophisticated-supervisor",
   "metadata": {
    "execution": {
     "iopub.execute_input": "2021-07-23T12:10:47.833124Z",
     "iopub.status.busy": "2021-07-23T12:10:47.832632Z",
     "iopub.status.idle": "2021-07-23T12:10:47.834527Z",
     "shell.execute_reply": "2021-07-23T12:10:47.835007Z"
    },
    "papermill": {
     "duration": 0.035463,
     "end_time": "2021-07-23T12:10:47.835128",
     "exception": false,
     "start_time": "2021-07-23T12:10:47.799665",
     "status": "completed"
    },
    "tags": []
   },
   "outputs": [],
   "source": [
    "#hide\n",
    "# g['date'] = g.date.dt.dayofyear"
   ]
  },
  {
   "cell_type": "code",
   "execution_count": 35,
   "id": "inside-dubai",
   "metadata": {
    "execution": {
     "iopub.execute_input": "2021-07-23T12:10:47.898672Z",
     "iopub.status.busy": "2021-07-23T12:10:47.898143Z",
     "iopub.status.idle": "2021-07-23T12:10:47.899986Z",
     "shell.execute_reply": "2021-07-23T12:10:47.900461Z"
    },
    "papermill": {
     "duration": 0.035526,
     "end_time": "2021-07-23T12:10:47.900591",
     "exception": false,
     "start_time": "2021-07-23T12:10:47.865065",
     "status": "completed"
    },
    "tags": []
   },
   "outputs": [],
   "source": [
    "#hide\n",
    "# g = g.rename(columns= {'continent':'group','country':'name','cases':'value'})"
   ]
  },
  {
   "cell_type": "code",
   "execution_count": 36,
   "id": "fleet-motorcycle",
   "metadata": {
    "execution": {
     "iopub.execute_input": "2021-07-23T12:10:47.964270Z",
     "iopub.status.busy": "2021-07-23T12:10:47.963771Z",
     "iopub.status.idle": "2021-07-23T12:10:47.966064Z",
     "shell.execute_reply": "2021-07-23T12:10:47.965666Z"
    },
    "papermill": {
     "duration": 0.035489,
     "end_time": "2021-07-23T12:10:47.966173",
     "exception": false,
     "start_time": "2021-07-23T12:10:47.930684",
     "status": "completed"
    },
    "tags": []
   },
   "outputs": [],
   "source": [
    "#hide\n",
    "# cols = ['name','group','day','value']"
   ]
  },
  {
   "cell_type": "code",
   "execution_count": 37,
   "id": "continued-sleeping",
   "metadata": {
    "execution": {
     "iopub.execute_input": "2021-07-23T12:10:48.029693Z",
     "iopub.status.busy": "2021-07-23T12:10:48.029193Z",
     "iopub.status.idle": "2021-07-23T12:10:48.031122Z",
     "shell.execute_reply": "2021-07-23T12:10:48.031503Z"
    },
    "papermill": {
     "duration": 0.035479,
     "end_time": "2021-07-23T12:10:48.031627",
     "exception": false,
     "start_time": "2021-07-23T12:10:47.996148",
     "status": "completed"
    },
    "tags": []
   },
   "outputs": [],
   "source": [
    "#hide\n",
    "# g.rename(columns= {'date':'day'},inplace = True)"
   ]
  },
  {
   "cell_type": "code",
   "execution_count": 38,
   "id": "major-fight",
   "metadata": {
    "execution": {
     "iopub.execute_input": "2021-07-23T12:10:48.096564Z",
     "iopub.status.busy": "2021-07-23T12:10:48.096049Z",
     "iopub.status.idle": "2021-07-23T12:10:48.098256Z",
     "shell.execute_reply": "2021-07-23T12:10:48.097848Z"
    },
    "papermill": {
     "duration": 0.036135,
     "end_time": "2021-07-23T12:10:48.098389",
     "exception": false,
     "start_time": "2021-07-23T12:10:48.062254",
     "status": "completed"
    },
    "tags": []
   },
   "outputs": [],
   "source": [
    "#hide\n",
    "# g = g[cols]"
   ]
  },
  {
   "cell_type": "code",
   "execution_count": 39,
   "id": "structured-mobile",
   "metadata": {
    "execution": {
     "iopub.execute_input": "2021-07-23T12:10:48.164535Z",
     "iopub.status.busy": "2021-07-23T12:10:48.164002Z",
     "iopub.status.idle": "2021-07-23T12:10:48.165839Z",
     "shell.execute_reply": "2021-07-23T12:10:48.166274Z"
    },
    "papermill": {
     "duration": 0.036816,
     "end_time": "2021-07-23T12:10:48.166433",
     "exception": false,
     "start_time": "2021-07-23T12:10:48.129617",
     "status": "completed"
    },
    "tags": []
   },
   "outputs": [],
   "source": [
    "# #hide\n",
    "# g = g[g.group.notna()]"
   ]
  },
  {
   "cell_type": "code",
   "execution_count": 40,
   "id": "determined-closing",
   "metadata": {
    "execution": {
     "iopub.execute_input": "2021-07-23T12:10:48.231594Z",
     "iopub.status.busy": "2021-07-23T12:10:48.231066Z",
     "iopub.status.idle": "2021-07-23T12:10:48.233156Z",
     "shell.execute_reply": "2021-07-23T12:10:48.232747Z"
    },
    "papermill": {
     "duration": 0.036315,
     "end_time": "2021-07-23T12:10:48.233273",
     "exception": false,
     "start_time": "2021-07-23T12:10:48.196958",
     "status": "completed"
    },
    "tags": []
   },
   "outputs": [],
   "source": [
    "# #hide\n",
    "# colors = dict(zip(\n",
    "#     [\"Oceania\", \"Europe\", \"Asia\", \"South America\", \"Middle East\", \"North America\", \"Africa\"],\n",
    "#     [\"#adb0ff\", \"#ffb3ff\", \"#90d595\", \"#e48381\", \"#aafbff\", \"#f7bb5f\", \"#eafb50\"]\n",
    "# ))\n",
    "# group_lk = g.set_index('name')['group'].to_dict()"
   ]
  },
  {
   "cell_type": "code",
   "execution_count": null,
   "id": "gross-drinking",
   "metadata": {
    "papermill": {
     "duration": 0.030302,
     "end_time": "2021-07-23T12:10:48.293899",
     "exception": false,
     "start_time": "2021-07-23T12:10:48.263597",
     "status": "completed"
    },
    "tags": []
   },
   "outputs": [],
   "source": []
  },
  {
   "cell_type": "code",
   "execution_count": 41,
   "id": "subject-macintosh",
   "metadata": {
    "execution": {
     "iopub.execute_input": "2021-07-23T12:10:48.359602Z",
     "iopub.status.busy": "2021-07-23T12:10:48.359059Z",
     "iopub.status.idle": "2021-07-23T12:10:48.361384Z",
     "shell.execute_reply": "2021-07-23T12:10:48.360969Z"
    },
    "papermill": {
     "duration": 0.037028,
     "end_time": "2021-07-23T12:10:48.361497",
     "exception": false,
     "start_time": "2021-07-23T12:10:48.324469",
     "status": "completed"
    },
    "tags": []
   },
   "outputs": [],
   "source": [
    "# #hide\n",
    "# fig, ax = plt.subplots(figsize=(15, 8))\n",
    "\n",
    "# def draw_barchart(current_day):\n",
    "#     dff = g[g['day'].eq(current_day)].sort_values(by='value', ascending=True).tail(10)\n",
    "#     ax.clear()\n",
    "#     ax.barh(dff['name'], dff['value'], color=[colors[group_lk[x]] for x in dff['name']])\n",
    "#     dx = dff['value'].max() / 200\n",
    "    \n",
    "#     for i, (value, name) in enumerate(zip(dff['value'], dff['name'])):\n",
    "#         ax.text(value-dx, i,     name,           size=14, weight=600, ha='right', va='bottom')\n",
    "#         ax.text(value-dx, i-.25, group_lk[name], size=10, color='#444444', ha='right', va='baseline')\n",
    "#         ax.text(value+dx, i,     f'{value:,.0f}',  size=14, ha='left',  va='center')\n",
    "#     ax.text(1, 0.4, current_day, transform=ax.transAxes, color='#777777', size=46, ha='right', weight=800)\n",
    "#     ax.text(0, 1.06, 'Population (thousands)', transform=ax.transAxes, size=12, color='#777777')\n",
    "#     ax.xaxis.set_major_formatter(ticker.StrMethodFormatter('{x:,.0f}'))\n",
    "#     ax.xaxis.set_ticks_position('top')\n",
    "#     ax.tick_params(axis='x', colors='#777777', labelsize=12)\n",
    "#     ax.set_yticks([])\n",
    "#     ax.margins(0, 0.01)\n",
    "#     ax.grid(which='major', axis='x', linestyle='-')\n",
    "#     ax.set_axisbelow(True)\n",
    "    \n",
    "#     ax.text(0, 1.15, 'Coronavirus',\n",
    "#             transform=ax.transAxes, size=24, weight=600, ha='left', va='top')\n",
    "# #     ax.text(1, 0, 'by @pratapvardhan; credit @jburnmurdoch', transform=ax.transAxes, color='#777777', ha='right',\n",
    "# #             bbox=dict(facecolor='white', alpha=0.8, edgecolor='white'))\n",
    "#     plt.box(False)"
   ]
  },
  {
   "cell_type": "code",
   "execution_count": 42,
   "id": "sexual-wages",
   "metadata": {
    "execution": {
     "iopub.execute_input": "2021-07-23T12:10:48.426328Z",
     "iopub.status.busy": "2021-07-23T12:10:48.425800Z",
     "iopub.status.idle": "2021-07-23T12:10:48.427551Z",
     "shell.execute_reply": "2021-07-23T12:10:48.427950Z"
    },
    "papermill": {
     "duration": 0.036185,
     "end_time": "2021-07-23T12:10:48.428082",
     "exception": false,
     "start_time": "2021-07-23T12:10:48.391897",
     "status": "completed"
    },
    "tags": []
   },
   "outputs": [],
   "source": [
    "# #hide_input\n",
    "# fig, ax = plt.subplots(figsize=(15, 8))\n",
    "# animator = animation.FuncAnimation(fig, draw_barchart, frames=range(g.day.values.min(), g.day.values.max()))\n",
    "# HTML(animator.to_jshtml())\n",
    "# # or use animator.to_html5_video() or animator.save() "
   ]
  },
  {
   "cell_type": "code",
   "execution_count": null,
   "id": "australian-container",
   "metadata": {
    "papermill": {
     "duration": 0.030399,
     "end_time": "2021-07-23T12:10:48.488977",
     "exception": false,
     "start_time": "2021-07-23T12:10:48.458578",
     "status": "completed"
    },
    "tags": []
   },
   "outputs": [],
   "source": []
  },
  {
   "cell_type": "code",
   "execution_count": null,
   "id": "mediterranean-pontiac",
   "metadata": {
    "papermill": {
     "duration": 0.030214,
     "end_time": "2021-07-23T12:10:48.549429",
     "exception": false,
     "start_time": "2021-07-23T12:10:48.519215",
     "status": "completed"
    },
    "tags": []
   },
   "outputs": [],
   "source": []
  },
  {
   "cell_type": "code",
   "execution_count": null,
   "id": "aging-legislature",
   "metadata": {
    "papermill": {
     "duration": 0.030387,
     "end_time": "2021-07-23T12:10:48.610320",
     "exception": false,
     "start_time": "2021-07-23T12:10:48.579933",
     "status": "completed"
    },
    "tags": []
   },
   "outputs": [],
   "source": []
  }
 ],
 "metadata": {
  "kernelspec": {
   "display_name": "Python 3",
   "language": "python",
   "name": "python3"
  },
  "language_info": {
   "codemirror_mode": {
    "name": "ipython",
    "version": 3
   },
   "file_extension": ".py",
   "mimetype": "text/x-python",
   "name": "python",
   "nbconvert_exporter": "python",
   "pygments_lexer": "ipython3",
   "version": "3.6.14"
  },
  "papermill": {
   "duration": 6.249223,
   "end_time": "2021-07-23T12:10:49.049116",
   "environment_variables": {},
   "exception": null,
   "input_path": "2020-03-21-covid19exp.ipynb",
   "output_path": "2020-03-21-covid19exp.ipynb",
   "parameters": {},
   "start_time": "2021-07-23T12:10:42.799893",
   "version": "2.0.0"
  }
 },
 "nbformat": 4,
 "nbformat_minor": 5
}