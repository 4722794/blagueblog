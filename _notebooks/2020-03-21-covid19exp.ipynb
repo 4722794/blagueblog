{
 "cells": [
  {
   "cell_type": "markdown",
   "id": "muslim-click",
   "metadata": {
    "papermill": {
     "duration": 0.033853,
     "end_time": "2021-07-06T00:20:08.972352",
     "exception": false,
     "start_time": "2021-07-06T00:20:08.938499",
     "status": "completed"
    },
    "tags": []
   },
   "source": [
    "# COVID-19 Case Race\n",
    "> A race chart to see rising cases around the world\n",
    "\n",
    "- author: Hargun Oberoi\n",
    "- image: images/covid-overview.png\n",
    "- hide: false\n",
    "- badges: false"
   ]
  },
  {
   "cell_type": "code",
   "execution_count": 1,
   "id": "proof-material",
   "metadata": {
    "execution": {
     "iopub.execute_input": "2021-07-06T00:20:09.043286Z",
     "iopub.status.busy": "2021-07-06T00:20:09.042761Z",
     "iopub.status.idle": "2021-07-06T00:20:09.359154Z",
     "shell.execute_reply": "2021-07-06T00:20:09.358635Z"
    },
    "papermill": {
     "duration": 0.355361,
     "end_time": "2021-07-06T00:20:09.359300",
     "exception": false,
     "start_time": "2021-07-06T00:20:09.003939",
     "status": "completed"
    },
    "tags": []
   },
   "outputs": [],
   "source": [
    "#hide\n",
    "import numpy as np\n",
    "import pandas as pd\n",
    "from jinja2 import Template\n",
    "from IPython.display import HTML"
   ]
  },
  {
   "cell_type": "code",
   "execution_count": 2,
   "id": "developed-terminology",
   "metadata": {
    "execution": {
     "iopub.execute_input": "2021-07-06T00:20:09.424683Z",
     "iopub.status.busy": "2021-07-06T00:20:09.424148Z",
     "iopub.status.idle": "2021-07-06T00:20:09.426196Z",
     "shell.execute_reply": "2021-07-06T00:20:09.425701Z"
    },
    "papermill": {
     "duration": 0.036486,
     "end_time": "2021-07-06T00:20:09.426302",
     "exception": false,
     "start_time": "2021-07-06T00:20:09.389816",
     "status": "completed"
    },
    "tags": []
   },
   "outputs": [],
   "source": [
    "#hide\n",
    "\n",
    "# FETCH\n",
    "base_url = 'https://raw.githubusercontent.com/pratapvardhan/notebooks/master/covid19/'\n",
    "paths = {\n",
    "    'mapping': base_url + 'mapping_countries.csv',\n",
    "    'overview': base_url + 'overview.tpl'\n",
    "}"
   ]
  },
  {
   "cell_type": "code",
   "execution_count": 3,
   "id": "dynamic-saver",
   "metadata": {
    "execution": {
     "iopub.execute_input": "2021-07-06T00:20:09.496219Z",
     "iopub.status.busy": "2021-07-06T00:20:09.495666Z",
     "iopub.status.idle": "2021-07-06T00:20:09.498745Z",
     "shell.execute_reply": "2021-07-06T00:20:09.498275Z"
    },
    "papermill": {
     "duration": 0.042653,
     "end_time": "2021-07-06T00:20:09.498863",
     "exception": false,
     "start_time": "2021-07-06T00:20:09.456210",
     "status": "completed"
    },
    "tags": []
   },
   "outputs": [
    {
     "data": {
      "text/plain": [
       "'https://raw.githubusercontent.com/pratapvardhan/notebooks/master/covid19/mapping_countries.csv'"
      ]
     },
     "execution_count": 3,
     "metadata": {},
     "output_type": "execute_result"
    }
   ],
   "source": [
    "#hide\n",
    "paths['mapping']"
   ]
  },
  {
   "cell_type": "code",
   "execution_count": 4,
   "id": "urban-software",
   "metadata": {
    "execution": {
     "iopub.execute_input": "2021-07-06T00:20:09.565494Z",
     "iopub.status.busy": "2021-07-06T00:20:09.564982Z",
     "iopub.status.idle": "2021-07-06T00:20:09.567051Z",
     "shell.execute_reply": "2021-07-06T00:20:09.566645Z"
    },
    "papermill": {
     "duration": 0.037934,
     "end_time": "2021-07-06T00:20:09.567156",
     "exception": false,
     "start_time": "2021-07-06T00:20:09.529222",
     "status": "completed"
    },
    "tags": []
   },
   "outputs": [],
   "source": [
    "#hide\n",
    "def get_mappings(url):\n",
    "    df = pd.read_csv(url)\n",
    "    return {\n",
    "        'df': df,\n",
    "        'replace.country': dict(df.dropna(subset=['Name']).set_index('Country')['Name']),\n",
    "        'map.continent': dict(df.set_index('Name')['Continent'])\n",
    "    }"
   ]
  },
  {
   "cell_type": "code",
   "execution_count": 5,
   "id": "intimate-machinery",
   "metadata": {
    "execution": {
     "iopub.execute_input": "2021-07-06T00:20:09.632947Z",
     "iopub.status.busy": "2021-07-06T00:20:09.632442Z",
     "iopub.status.idle": "2021-07-06T00:20:09.663600Z",
     "shell.execute_reply": "2021-07-06T00:20:09.663102Z"
    },
    "papermill": {
     "duration": 0.066453,
     "end_time": "2021-07-06T00:20:09.663728",
     "exception": false,
     "start_time": "2021-07-06T00:20:09.597275",
     "status": "completed"
    },
    "tags": []
   },
   "outputs": [],
   "source": [
    "#hide\n",
    "mapping = get_mappings(paths['mapping'])"
   ]
  },
  {
   "cell_type": "code",
   "execution_count": 6,
   "id": "certified-tactics",
   "metadata": {
    "execution": {
     "iopub.execute_input": "2021-07-06T00:20:09.730248Z",
     "iopub.status.busy": "2021-07-06T00:20:09.729732Z",
     "iopub.status.idle": "2021-07-06T00:20:09.731723Z",
     "shell.execute_reply": "2021-07-06T00:20:09.731300Z"
    },
    "papermill": {
     "duration": 0.037073,
     "end_time": "2021-07-06T00:20:09.731848",
     "exception": false,
     "start_time": "2021-07-06T00:20:09.694775",
     "status": "completed"
    },
    "tags": []
   },
   "outputs": [],
   "source": [
    "#hide\n",
    "def get_template(path):\n",
    "    from urllib.parse import urlparse\n",
    "    if bool(urlparse(path).netloc):\n",
    "        from urllib.request import urlopen\n",
    "        return urlopen(path).read().decode('utf8')\n",
    "    return open(path).read()"
   ]
  },
  {
   "cell_type": "code",
   "execution_count": 7,
   "id": "realistic-blast",
   "metadata": {
    "execution": {
     "iopub.execute_input": "2021-07-06T00:20:09.797615Z",
     "iopub.status.busy": "2021-07-06T00:20:09.797110Z",
     "iopub.status.idle": "2021-07-06T00:20:09.799297Z",
     "shell.execute_reply": "2021-07-06T00:20:09.798894Z"
    },
    "papermill": {
     "duration": 0.037175,
     "end_time": "2021-07-06T00:20:09.799404",
     "exception": false,
     "start_time": "2021-07-06T00:20:09.762229",
     "status": "completed"
    },
    "tags": []
   },
   "outputs": [],
   "source": [
    "#hide\n",
    "def get_frame(name):\n",
    "    url = (\n",
    "        'https://raw.githubusercontent.com/CSSEGISandData/COVID-19/master/csse_covid_19_data/'\n",
    "        f'csse_covid_19_time_series/time_series_covid19_{name}_global.csv')\n",
    "    df = pd.read_csv(url)\n",
    "    # rename countries\n",
    "    df['Country/Region'] = df['Country/Region'].replace(mapping['replace.country'])\n",
    "    return df"
   ]
  },
  {
   "cell_type": "code",
   "execution_count": 8,
   "id": "affiliated-characterization",
   "metadata": {
    "execution": {
     "iopub.execute_input": "2021-07-06T00:20:09.866088Z",
     "iopub.status.busy": "2021-07-06T00:20:09.865570Z",
     "iopub.status.idle": "2021-07-06T00:20:09.868018Z",
     "shell.execute_reply": "2021-07-06T00:20:09.867589Z"
    },
    "papermill": {
     "duration": 0.038329,
     "end_time": "2021-07-06T00:20:09.868133",
     "exception": false,
     "start_time": "2021-07-06T00:20:09.829804",
     "status": "completed"
    },
    "tags": []
   },
   "outputs": [],
   "source": [
    "#hide\n",
    "def get_dates(df):\n",
    "    dt_cols = df.columns[~df.columns.isin(['Province/State', 'Country/Region', 'Lat', 'Long'])]\n",
    "    LAST_DATE_I = -1\n",
    "    # sometimes last column may be empty, then go backwards\n",
    "    for i in range(-1, -len(dt_cols), -1):\n",
    "        if not df[dt_cols[i]].fillna(0).eq(0).all():\n",
    "            LAST_DATE_I = i\n",
    "            break\n",
    "    return LAST_DATE_I, dt_cols"
   ]
  },
  {
   "cell_type": "code",
   "execution_count": 9,
   "id": "recent-optimization",
   "metadata": {
    "execution": {
     "iopub.execute_input": "2021-07-06T00:20:09.933912Z",
     "iopub.status.busy": "2021-07-06T00:20:09.933373Z",
     "iopub.status.idle": "2021-07-06T00:20:10.203142Z",
     "shell.execute_reply": "2021-07-06T00:20:10.202190Z"
    },
    "papermill": {
     "duration": 0.304888,
     "end_time": "2021-07-06T00:20:10.203267",
     "exception": false,
     "start_time": "2021-07-06T00:20:09.898379",
     "status": "completed"
    },
    "tags": []
   },
   "outputs": [],
   "source": [
    "#hide\n",
    "COL_REGION = 'Country/Region'\n",
    "# Confirmed, Recovered, Deaths\n",
    "df = get_frame('confirmed')\n",
    "# dft_: timeseries, dfc_: today country agg\n",
    "dft_cases = df\n",
    "dft_deaths = get_frame('deaths')\n",
    "dft_recovered = get_frame('recovered')\n",
    "LAST_DATE_I, dt_cols = get_dates(df)"
   ]
  },
  {
   "cell_type": "code",
   "execution_count": 10,
   "id": "absolute-copper",
   "metadata": {
    "execution": {
     "iopub.execute_input": "2021-07-06T00:20:10.269504Z",
     "iopub.status.busy": "2021-07-06T00:20:10.268914Z",
     "iopub.status.idle": "2021-07-06T00:20:10.270997Z",
     "shell.execute_reply": "2021-07-06T00:20:10.270429Z"
    },
    "papermill": {
     "duration": 0.0372,
     "end_time": "2021-07-06T00:20:10.271114",
     "exception": false,
     "start_time": "2021-07-06T00:20:10.233914",
     "status": "completed"
    },
    "tags": []
   },
   "outputs": [],
   "source": [
    "#hide\n",
    "LAST_DATE_I, dt_cols = get_dates(df)\n",
    "dt_today =dt_cols[LAST_DATE_I]\n",
    "# dt_5day = dt_cols[LAST_DATE_I - 5]\n",
    "dt_yday = dt_cols[LAST_DATE_I - 1]"
   ]
  },
  {
   "cell_type": "code",
   "execution_count": 11,
   "id": "restricted-sheriff",
   "metadata": {
    "execution": {
     "iopub.execute_input": "2021-07-06T00:20:10.337603Z",
     "iopub.status.busy": "2021-07-06T00:20:10.337103Z",
     "iopub.status.idle": "2021-07-06T00:20:10.343955Z",
     "shell.execute_reply": "2021-07-06T00:20:10.343505Z"
    },
    "papermill": {
     "duration": 0.042297,
     "end_time": "2021-07-06T00:20:10.344065",
     "exception": false,
     "start_time": "2021-07-06T00:20:10.301768",
     "status": "completed"
    },
    "tags": []
   },
   "outputs": [],
   "source": [
    "#hide\n",
    "dfc_cases = dft_cases.groupby(COL_REGION)[dt_today].sum()\n",
    "dfc_deaths = dft_deaths.groupby(COL_REGION)[dt_today].sum()\n",
    "# dfp_cases = dft_cases.groupby(COL_REGION)[dt_5day].sum()\n",
    "# dfp_deaths = dft_deaths.groupby(COL_REGION)[dt_5day].sum()\n",
    "dfp_cases = dft_cases.groupby(COL_REGION)[dt_yday].sum()\n",
    "dfp_deaths = dft_deaths.groupby(COL_REGION)[dt_yday].sum()"
   ]
  },
  {
   "cell_type": "code",
   "execution_count": 12,
   "id": "deluxe-hepatitis",
   "metadata": {
    "execution": {
     "iopub.execute_input": "2021-07-06T00:20:10.410806Z",
     "iopub.status.busy": "2021-07-06T00:20:10.410298Z",
     "iopub.status.idle": "2021-07-06T00:20:10.414170Z",
     "shell.execute_reply": "2021-07-06T00:20:10.413769Z"
    },
    "papermill": {
     "duration": 0.039963,
     "end_time": "2021-07-06T00:20:10.414280",
     "exception": false,
     "start_time": "2021-07-06T00:20:10.374317",
     "status": "completed"
    },
    "tags": []
   },
   "outputs": [],
   "source": [
    "#hide\n",
    "df_table = (pd.DataFrame(dict(Cases = dfc_cases, Deaths = dfc_deaths, PCases = dfp_cases, PDeaths = dfp_deaths))\n",
    "            .sort_values(by = ['Cases','Deaths'], ascending = [False, False])\n",
    "            .reset_index())"
   ]
  },
  {
   "cell_type": "code",
   "execution_count": 13,
   "id": "educational-chancellor",
   "metadata": {
    "execution": {
     "iopub.execute_input": "2021-07-06T00:20:10.491938Z",
     "iopub.status.busy": "2021-07-06T00:20:10.491375Z",
     "iopub.status.idle": "2021-07-06T00:20:10.498460Z",
     "shell.execute_reply": "2021-07-06T00:20:10.498054Z"
    },
    "papermill": {
     "duration": 0.054175,
     "end_time": "2021-07-06T00:20:10.498569",
     "exception": false,
     "start_time": "2021-07-06T00:20:10.444394",
     "status": "completed"
    },
    "tags": []
   },
   "outputs": [
    {
     "data": {
      "text/html": [
       "<div>\n",
       "<style scoped>\n",
       "    .dataframe tbody tr th:only-of-type {\n",
       "        vertical-align: middle;\n",
       "    }\n",
       "\n",
       "    .dataframe tbody tr th {\n",
       "        vertical-align: top;\n",
       "    }\n",
       "\n",
       "    .dataframe thead th {\n",
       "        text-align: right;\n",
       "    }\n",
       "</style>\n",
       "<table border=\"1\" class=\"dataframe\">\n",
       "  <thead>\n",
       "    <tr style=\"text-align: right;\">\n",
       "      <th></th>\n",
       "      <th>Country/Region</th>\n",
       "      <th>Cases</th>\n",
       "      <th>Deaths</th>\n",
       "      <th>PCases</th>\n",
       "      <th>PDeaths</th>\n",
       "      <th>Cases (+)</th>\n",
       "      <th>Deaths (+)</th>\n",
       "      <th>Fatality Rate</th>\n",
       "      <th>Continent</th>\n",
       "    </tr>\n",
       "  </thead>\n",
       "  <tbody>\n",
       "    <tr>\n",
       "      <th>0</th>\n",
       "      <td>US</td>\n",
       "      <td>33717567</td>\n",
       "      <td>605526</td>\n",
       "      <td>33713870</td>\n",
       "      <td>605493</td>\n",
       "      <td>3697</td>\n",
       "      <td>33</td>\n",
       "      <td>1.80</td>\n",
       "      <td>North America</td>\n",
       "    </tr>\n",
       "    <tr>\n",
       "      <th>1</th>\n",
       "      <td>India</td>\n",
       "      <td>30585229</td>\n",
       "      <td>402728</td>\n",
       "      <td>30545433</td>\n",
       "      <td>402005</td>\n",
       "      <td>39796</td>\n",
       "      <td>723</td>\n",
       "      <td>1.32</td>\n",
       "      <td>Asia</td>\n",
       "    </tr>\n",
       "    <tr>\n",
       "      <th>2</th>\n",
       "      <td>Brazil</td>\n",
       "      <td>18769808</td>\n",
       "      <td>524417</td>\n",
       "      <td>18742025</td>\n",
       "      <td>523587</td>\n",
       "      <td>27783</td>\n",
       "      <td>830</td>\n",
       "      <td>2.79</td>\n",
       "      <td>South America</td>\n",
       "    </tr>\n",
       "    <tr>\n",
       "      <th>3</th>\n",
       "      <td>France</td>\n",
       "      <td>5848171</td>\n",
       "      <td>111323</td>\n",
       "      <td>5845622</td>\n",
       "      <td>111314</td>\n",
       "      <td>2549</td>\n",
       "      <td>9</td>\n",
       "      <td>1.90</td>\n",
       "      <td>Europe</td>\n",
       "    </tr>\n",
       "    <tr>\n",
       "      <th>4</th>\n",
       "      <td>Russia</td>\n",
       "      <td>5544209</td>\n",
       "      <td>135637</td>\n",
       "      <td>5519516</td>\n",
       "      <td>134987</td>\n",
       "      <td>24693</td>\n",
       "      <td>650</td>\n",
       "      <td>2.45</td>\n",
       "      <td>Europe</td>\n",
       "    </tr>\n",
       "  </tbody>\n",
       "</table>\n",
       "</div>"
      ],
      "text/plain": [
       "  Country/Region     Cases  Deaths    PCases  PDeaths  Cases (+)  Deaths (+)  \\\n",
       "0             US  33717567  605526  33713870   605493       3697          33   \n",
       "1          India  30585229  402728  30545433   402005      39796         723   \n",
       "2         Brazil  18769808  524417  18742025   523587      27783         830   \n",
       "3         France   5848171  111323   5845622   111314       2549           9   \n",
       "4         Russia   5544209  135637   5519516   134987      24693         650   \n",
       "\n",
       "   Fatality Rate      Continent  \n",
       "0           1.80  North America  \n",
       "1           1.32           Asia  \n",
       "2           2.79  South America  \n",
       "3           1.90         Europe  \n",
       "4           2.45         Europe  "
      ]
     },
     "execution_count": 13,
     "metadata": {},
     "output_type": "execute_result"
    }
   ],
   "source": [
    "#hide\n",
    "for c in 'Cases, Deaths'.split(', '):\n",
    "    df_table[f'{c} (+)'] = (df_table[c] - df_table[f'P{c}']).clip(0)\n",
    "    #Clip ça veut dire, les chiffres negatif sont interdit\n",
    "df_table['Fatality Rate'] = (100* df_table['Deaths']/ df_table['Cases']).round(2)\n",
    "df_table['Continent'] = df_table['Country/Region'].map(mapping['map.continent'])\n",
    "df_table.head(5)"
   ]
  },
  {
   "cell_type": "code",
   "execution_count": 14,
   "id": "aboriginal-bulgaria",
   "metadata": {
    "execution": {
     "iopub.execute_input": "2021-07-06T00:20:10.565585Z",
     "iopub.status.busy": "2021-07-06T00:20:10.565074Z",
     "iopub.status.idle": "2021-07-06T00:20:10.567706Z",
     "shell.execute_reply": "2021-07-06T00:20:10.568226Z"
    },
    "papermill": {
     "duration": 0.038875,
     "end_time": "2021-07-06T00:20:10.568357",
     "exception": false,
     "start_time": "2021-07-06T00:20:10.529482",
     "status": "completed"
    },
    "tags": []
   },
   "outputs": [],
   "source": [
    "#hide\n",
    "#delete problematic countries from table\n",
    "df_table = df_table[~df_table['Country/Region'].isin(['Cape Verde', 'Cruise Ship', 'Kosovo'])]"
   ]
  },
  {
   "cell_type": "code",
   "execution_count": 15,
   "id": "fantastic-effect",
   "metadata": {
    "execution": {
     "iopub.execute_input": "2021-07-06T00:20:10.637643Z",
     "iopub.status.busy": "2021-07-06T00:20:10.637137Z",
     "iopub.status.idle": "2021-07-06T00:20:10.654758Z",
     "shell.execute_reply": "2021-07-06T00:20:10.654271Z"
    },
    "papermill": {
     "duration": 0.055855,
     "end_time": "2021-07-06T00:20:10.654883",
     "exception": false,
     "start_time": "2021-07-06T00:20:10.599028",
     "status": "completed"
    },
    "tags": []
   },
   "outputs": [
    {
     "data": {
      "text/html": [
       "<div>\n",
       "<style scoped>\n",
       "    .dataframe tbody tr th:only-of-type {\n",
       "        vertical-align: middle;\n",
       "    }\n",
       "\n",
       "    .dataframe tbody tr th {\n",
       "        vertical-align: top;\n",
       "    }\n",
       "\n",
       "    .dataframe thead th {\n",
       "        text-align: right;\n",
       "    }\n",
       "</style>\n",
       "<table border=\"1\" class=\"dataframe\">\n",
       "  <thead>\n",
       "    <tr style=\"text-align: right;\">\n",
       "      <th></th>\n",
       "      <th>Country/Region</th>\n",
       "      <th>Cases</th>\n",
       "      <th>Deaths</th>\n",
       "      <th>PCases</th>\n",
       "      <th>PDeaths</th>\n",
       "      <th>Cases (+)</th>\n",
       "      <th>Deaths (+)</th>\n",
       "      <th>Fatality Rate</th>\n",
       "      <th>Continent</th>\n",
       "    </tr>\n",
       "  </thead>\n",
       "  <tbody>\n",
       "    <tr>\n",
       "      <th>0</th>\n",
       "      <td>US</td>\n",
       "      <td>33717567</td>\n",
       "      <td>605526</td>\n",
       "      <td>33713870</td>\n",
       "      <td>605493</td>\n",
       "      <td>3697</td>\n",
       "      <td>33</td>\n",
       "      <td>1.8</td>\n",
       "      <td>North America</td>\n",
       "    </tr>\n",
       "    <tr>\n",
       "      <th>1</th>\n",
       "      <td>India</td>\n",
       "      <td>30585229</td>\n",
       "      <td>402728</td>\n",
       "      <td>30545433</td>\n",
       "      <td>402005</td>\n",
       "      <td>39796</td>\n",
       "      <td>723</td>\n",
       "      <td>1.3</td>\n",
       "      <td>Asia</td>\n",
       "    </tr>\n",
       "    <tr>\n",
       "      <th>2</th>\n",
       "      <td>Brazil</td>\n",
       "      <td>18769808</td>\n",
       "      <td>524417</td>\n",
       "      <td>18742025</td>\n",
       "      <td>523587</td>\n",
       "      <td>27783</td>\n",
       "      <td>830</td>\n",
       "      <td>2.8</td>\n",
       "      <td>South America</td>\n",
       "    </tr>\n",
       "    <tr>\n",
       "      <th>3</th>\n",
       "      <td>France</td>\n",
       "      <td>5848171</td>\n",
       "      <td>111323</td>\n",
       "      <td>5845622</td>\n",
       "      <td>111314</td>\n",
       "      <td>2549</td>\n",
       "      <td>9</td>\n",
       "      <td>1.9</td>\n",
       "      <td>Europe</td>\n",
       "    </tr>\n",
       "    <tr>\n",
       "      <th>4</th>\n",
       "      <td>Russia</td>\n",
       "      <td>5544209</td>\n",
       "      <td>135637</td>\n",
       "      <td>5519516</td>\n",
       "      <td>134987</td>\n",
       "      <td>24693</td>\n",
       "      <td>650</td>\n",
       "      <td>2.4</td>\n",
       "      <td>Europe</td>\n",
       "    </tr>\n",
       "  </tbody>\n",
       "</table>\n",
       "</div>"
      ],
      "text/plain": [
       "  Country/Region     Cases  Deaths    PCases  PDeaths  Cases (+)  Deaths (+)  \\\n",
       "0             US  33717567  605526  33713870   605493       3697          33   \n",
       "1          India  30585229  402728  30545433   402005      39796         723   \n",
       "2         Brazil  18769808  524417  18742025   523587      27783         830   \n",
       "3         France   5848171  111323   5845622   111314       2549           9   \n",
       "4         Russia   5544209  135637   5519516   134987      24693         650   \n",
       "\n",
       "   Fatality Rate      Continent  \n",
       "0            1.8  North America  \n",
       "1            1.3           Asia  \n",
       "2            2.8  South America  \n",
       "3            1.9         Europe  \n",
       "4            2.4         Europe  "
      ]
     },
     "execution_count": 15,
     "metadata": {},
     "output_type": "execute_result"
    }
   ],
   "source": [
    "#hide\n",
    "df_table = (pd.DataFrame(dict(Cases=dfc_cases, Deaths=dfc_deaths, PCases=dfp_cases, PDeaths=dfp_deaths))\n",
    "             .sort_values(by=['Cases', 'Deaths'], ascending=[False, False])\n",
    "             .reset_index())\n",
    "df_table.rename(columns={'index': 'Country/Region'}, inplace=True)\n",
    "for c in 'Cases, Deaths'.split(', '):\n",
    "    df_table[f'{c} (+)'] = (df_table[c] - df_table[f'P{c}']).clip(0)  # DATA BUG\n",
    "df_table['Fatality Rate'] = (100 * df_table['Deaths'] / df_table['Cases']).round(1)\n",
    "df_table['Continent'] = df_table['Country/Region'].map(mapping['map.continent'])\n",
    "df_table.head(5)"
   ]
  },
  {
   "cell_type": "code",
   "execution_count": 16,
   "id": "fewer-occasion",
   "metadata": {
    "execution": {
     "iopub.execute_input": "2021-07-06T00:20:10.723106Z",
     "iopub.status.busy": "2021-07-06T00:20:10.722609Z",
     "iopub.status.idle": "2021-07-06T00:20:10.724549Z",
     "shell.execute_reply": "2021-07-06T00:20:10.724974Z"
    },
    "papermill": {
     "duration": 0.038158,
     "end_time": "2021-07-06T00:20:10.725094",
     "exception": false,
     "start_time": "2021-07-06T00:20:10.686936",
     "status": "completed"
    },
    "tags": []
   },
   "outputs": [],
   "source": [
    "#hide\n",
    "#delete problematic countries from table\n",
    "df_table = df_table[~df_table['Country/Region'].isin(['Cape Verde', 'Cruise Ship', 'Kosovo'])]"
   ]
  },
  {
   "cell_type": "code",
   "execution_count": 17,
   "id": "related-center",
   "metadata": {
    "execution": {
     "iopub.execute_input": "2021-07-06T00:20:10.805270Z",
     "iopub.status.busy": "2021-07-06T00:20:10.804722Z",
     "iopub.status.idle": "2021-07-06T00:20:10.807157Z",
     "shell.execute_reply": "2021-07-06T00:20:10.806734Z"
    },
    "papermill": {
     "duration": 0.051364,
     "end_time": "2021-07-06T00:20:10.807273",
     "exception": false,
     "start_time": "2021-07-06T00:20:10.755909",
     "status": "completed"
    },
    "tags": []
   },
   "outputs": [],
   "source": [
    "#hide\n",
    "metrics = [df_table.columns[index] for index in [1,2,5,6]]\n",
    "# s_china = df_table[df_table['Country/Region'].eq('China')][metrics].sum().add_prefix('China ')\n",
    "s_us = df_table[df_table['Country/Region'].eq('US')][metrics].sum().add_prefix('US ')\n",
    "s_eu = df_table[df_table['Continent'].eq('Europe')][metrics].sum().add_prefix('EU ')\n",
    "s_ind = df_table[df_table['Country/Region'].eq('India')][metrics].sum().add_prefix('India ')\n",
    "summary = {'updated': pd.to_datetime(dt_today), 'since': pd.to_datetime(dt_yday)}\n",
    "summary = {'updated': pd.to_datetime(dt_today), 'since': pd.to_datetime(dt_yday)}\n",
    "summary = {**summary, **df_table[metrics].sum(), **s_ind, **s_us, **s_eu}"
   ]
  },
  {
   "cell_type": "code",
   "execution_count": 18,
   "id": "engaging-syndrome",
   "metadata": {
    "execution": {
     "iopub.execute_input": "2021-07-06T00:20:10.874691Z",
     "iopub.status.busy": "2021-07-06T00:20:10.874166Z",
     "iopub.status.idle": "2021-07-06T00:20:10.886453Z",
     "shell.execute_reply": "2021-07-06T00:20:10.886024Z"
    },
    "papermill": {
     "duration": 0.048108,
     "end_time": "2021-07-06T00:20:10.886569",
     "exception": false,
     "start_time": "2021-07-06T00:20:10.838461",
     "status": "completed"
    },
    "tags": []
   },
   "outputs": [],
   "source": [
    "#hide\n",
    "dft_ct_new_cases = dft_cases.groupby(COL_REGION)[dt_cols].sum().diff(axis=1).fillna(0).astype(int)"
   ]
  },
  {
   "cell_type": "code",
   "execution_count": 19,
   "id": "neutral-assignment",
   "metadata": {
    "execution": {
     "iopub.execute_input": "2021-07-06T00:20:10.954462Z",
     "iopub.status.busy": "2021-07-06T00:20:10.953958Z",
     "iopub.status.idle": "2021-07-06T00:20:10.956156Z",
     "shell.execute_reply": "2021-07-06T00:20:10.955731Z"
    },
    "papermill": {
     "duration": 0.038486,
     "end_time": "2021-07-06T00:20:10.956266",
     "exception": false,
     "start_time": "2021-07-06T00:20:10.917780",
     "status": "completed"
    },
    "tags": []
   },
   "outputs": [],
   "source": [
    "#hide\n",
    "everydaycases = dft_ct_new_cases.cumsum(axis=1)"
   ]
  },
  {
   "cell_type": "code",
   "execution_count": 20,
   "id": "parliamentary-calgary",
   "metadata": {
    "execution": {
     "iopub.execute_input": "2021-07-06T00:20:11.022684Z",
     "iopub.status.busy": "2021-07-06T00:20:11.022184Z",
     "iopub.status.idle": "2021-07-06T00:20:11.625950Z",
     "shell.execute_reply": "2021-07-06T00:20:11.625438Z"
    },
    "papermill": {
     "duration": 0.638377,
     "end_time": "2021-07-06T00:20:11.626079",
     "exception": false,
     "start_time": "2021-07-06T00:20:10.987702",
     "status": "completed"
    },
    "tags": []
   },
   "outputs": [],
   "source": [
    "#hide\n",
    "import pandas as pd\n",
    "import matplotlib.pyplot as plt\n",
    "import matplotlib.ticker as ticker\n",
    "import matplotlib.animation as animation\n",
    "from IPython.display import HTML"
   ]
  },
  {
   "cell_type": "code",
   "execution_count": 21,
   "id": "lasting-extraction",
   "metadata": {
    "execution": {
     "iopub.execute_input": "2021-07-06T00:20:11.695236Z",
     "iopub.status.busy": "2021-07-06T00:20:11.694727Z",
     "iopub.status.idle": "2021-07-06T00:20:11.700205Z",
     "shell.execute_reply": "2021-07-06T00:20:11.699764Z"
    },
    "papermill": {
     "duration": 0.04175,
     "end_time": "2021-07-06T00:20:11.700316",
     "exception": false,
     "start_time": "2021-07-06T00:20:11.658566",
     "status": "completed"
    },
    "tags": []
   },
   "outputs": [],
   "source": [
    "#hide\n",
    "t = everydaycases.stack()"
   ]
  },
  {
   "cell_type": "code",
   "execution_count": 22,
   "id": "premier-sleeve",
   "metadata": {
    "execution": {
     "iopub.execute_input": "2021-07-06T00:20:11.767134Z",
     "iopub.status.busy": "2021-07-06T00:20:11.766621Z",
     "iopub.status.idle": "2021-07-06T00:20:11.774049Z",
     "shell.execute_reply": "2021-07-06T00:20:11.774432Z"
    },
    "papermill": {
     "duration": 0.043011,
     "end_time": "2021-07-06T00:20:11.774565",
     "exception": false,
     "start_time": "2021-07-06T00:20:11.731554",
     "status": "completed"
    },
    "tags": []
   },
   "outputs": [],
   "source": [
    "#hide\n",
    "g = t.reset_index(['Country/Region'])"
   ]
  },
  {
   "cell_type": "code",
   "execution_count": 23,
   "id": "distributed-pittsburgh",
   "metadata": {
    "execution": {
     "iopub.execute_input": "2021-07-06T00:20:11.841217Z",
     "iopub.status.busy": "2021-07-06T00:20:11.840697Z",
     "iopub.status.idle": "2021-07-06T00:20:11.842950Z",
     "shell.execute_reply": "2021-07-06T00:20:11.842532Z"
    },
    "papermill": {
     "duration": 0.037313,
     "end_time": "2021-07-06T00:20:11.843060",
     "exception": false,
     "start_time": "2021-07-06T00:20:11.805747",
     "status": "completed"
    },
    "tags": []
   },
   "outputs": [],
   "source": [
    "#hide\n",
    "g.index.name = 'date'"
   ]
  },
  {
   "cell_type": "code",
   "execution_count": 24,
   "id": "naked-donor",
   "metadata": {
    "execution": {
     "iopub.execute_input": "2021-07-06T00:20:11.909047Z",
     "iopub.status.busy": "2021-07-06T00:20:11.908538Z",
     "iopub.status.idle": "2021-07-06T00:20:11.910765Z",
     "shell.execute_reply": "2021-07-06T00:20:11.910357Z"
    },
    "papermill": {
     "duration": 0.036558,
     "end_time": "2021-07-06T00:20:11.910876",
     "exception": false,
     "start_time": "2021-07-06T00:20:11.874318",
     "status": "completed"
    },
    "tags": []
   },
   "outputs": [],
   "source": [
    "# #hide\n",
    "# g = g.reset_index(['date'])"
   ]
  },
  {
   "cell_type": "code",
   "execution_count": 25,
   "id": "incomplete-mustang",
   "metadata": {
    "execution": {
     "iopub.execute_input": "2021-07-06T00:20:11.977071Z",
     "iopub.status.busy": "2021-07-06T00:20:11.976564Z",
     "iopub.status.idle": "2021-07-06T00:20:11.978710Z",
     "shell.execute_reply": "2021-07-06T00:20:11.978308Z"
    },
    "papermill": {
     "duration": 0.036781,
     "end_time": "2021-07-06T00:20:11.978819",
     "exception": false,
     "start_time": "2021-07-06T00:20:11.942038",
     "status": "completed"
    },
    "tags": []
   },
   "outputs": [],
   "source": [
    "#hide\n",
    "# g.head()"
   ]
  },
  {
   "cell_type": "code",
   "execution_count": 26,
   "id": "specific-kruger",
   "metadata": {
    "execution": {
     "iopub.execute_input": "2021-07-06T00:20:12.045411Z",
     "iopub.status.busy": "2021-07-06T00:20:12.044904Z",
     "iopub.status.idle": "2021-07-06T00:20:12.047065Z",
     "shell.execute_reply": "2021-07-06T00:20:12.046663Z"
    },
    "papermill": {
     "duration": 0.036703,
     "end_time": "2021-07-06T00:20:12.047176",
     "exception": false,
     "start_time": "2021-07-06T00:20:12.010473",
     "status": "completed"
    },
    "tags": []
   },
   "outputs": [],
   "source": [
    "#hide\n",
    "# g.columns = ['date','country','cases']"
   ]
  },
  {
   "cell_type": "code",
   "execution_count": 27,
   "id": "tender-conversion",
   "metadata": {
    "execution": {
     "iopub.execute_input": "2021-07-06T00:20:12.112818Z",
     "iopub.status.busy": "2021-07-06T00:20:12.112317Z",
     "iopub.status.idle": "2021-07-06T00:20:12.114426Z",
     "shell.execute_reply": "2021-07-06T00:20:12.114022Z"
    },
    "papermill": {
     "duration": 0.036464,
     "end_time": "2021-07-06T00:20:12.114534",
     "exception": false,
     "start_time": "2021-07-06T00:20:12.078070",
     "status": "completed"
    },
    "tags": []
   },
   "outputs": [],
   "source": [
    "#hide\n",
    "# g['continent'] = g.country"
   ]
  },
  {
   "cell_type": "code",
   "execution_count": 28,
   "id": "substantial-wilderness",
   "metadata": {
    "execution": {
     "iopub.execute_input": "2021-07-06T00:20:12.180234Z",
     "iopub.status.busy": "2021-07-06T00:20:12.179696Z",
     "iopub.status.idle": "2021-07-06T00:20:12.181825Z",
     "shell.execute_reply": "2021-07-06T00:20:12.181395Z"
    },
    "papermill": {
     "duration": 0.036233,
     "end_time": "2021-07-06T00:20:12.181931",
     "exception": false,
     "start_time": "2021-07-06T00:20:12.145698",
     "status": "completed"
    },
    "tags": []
   },
   "outputs": [],
   "source": [
    "#hide\n",
    "# cols = list(g.columns.values)"
   ]
  },
  {
   "cell_type": "code",
   "execution_count": 29,
   "id": "solved-farming",
   "metadata": {
    "execution": {
     "iopub.execute_input": "2021-07-06T00:20:12.247761Z",
     "iopub.status.busy": "2021-07-06T00:20:12.247257Z",
     "iopub.status.idle": "2021-07-06T00:20:12.249142Z",
     "shell.execute_reply": "2021-07-06T00:20:12.249569Z"
    },
    "papermill": {
     "duration": 0.036706,
     "end_time": "2021-07-06T00:20:12.249692",
     "exception": false,
     "start_time": "2021-07-06T00:20:12.212986",
     "status": "completed"
    },
    "tags": []
   },
   "outputs": [],
   "source": [
    "#hide\n",
    "# cols.insert(0, cols.pop())"
   ]
  },
  {
   "cell_type": "code",
   "execution_count": 30,
   "id": "executed-adoption",
   "metadata": {
    "execution": {
     "iopub.execute_input": "2021-07-06T00:20:12.315406Z",
     "iopub.status.busy": "2021-07-06T00:20:12.314886Z",
     "iopub.status.idle": "2021-07-06T00:20:12.317025Z",
     "shell.execute_reply": "2021-07-06T00:20:12.316618Z"
    },
    "papermill": {
     "duration": 0.036285,
     "end_time": "2021-07-06T00:20:12.317133",
     "exception": false,
     "start_time": "2021-07-06T00:20:12.280848",
     "status": "completed"
    },
    "tags": []
   },
   "outputs": [],
   "source": [
    "#hide\n",
    "# g = g[cols]"
   ]
  },
  {
   "cell_type": "code",
   "execution_count": 31,
   "id": "subject-dublin",
   "metadata": {
    "execution": {
     "iopub.execute_input": "2021-07-06T00:20:12.383375Z",
     "iopub.status.busy": "2021-07-06T00:20:12.382867Z",
     "iopub.status.idle": "2021-07-06T00:20:12.385026Z",
     "shell.execute_reply": "2021-07-06T00:20:12.384600Z"
    },
    "papermill": {
     "duration": 0.036719,
     "end_time": "2021-07-06T00:20:12.385131",
     "exception": false,
     "start_time": "2021-07-06T00:20:12.348412",
     "status": "completed"
    },
    "tags": []
   },
   "outputs": [],
   "source": [
    "#hide\n",
    "# g['continent'] = g['continent'].map(mapping['map.continent'])"
   ]
  },
  {
   "cell_type": "code",
   "execution_count": 32,
   "id": "freelance-scout",
   "metadata": {
    "execution": {
     "iopub.execute_input": "2021-07-06T00:20:12.450710Z",
     "iopub.status.busy": "2021-07-06T00:20:12.450201Z",
     "iopub.status.idle": "2021-07-06T00:20:12.452141Z",
     "shell.execute_reply": "2021-07-06T00:20:12.452546Z"
    },
    "papermill": {
     "duration": 0.036475,
     "end_time": "2021-07-06T00:20:12.452668",
     "exception": false,
     "start_time": "2021-07-06T00:20:12.416193",
     "status": "completed"
    },
    "tags": []
   },
   "outputs": [],
   "source": [
    "#hide\n",
    "# g.head()"
   ]
  },
  {
   "cell_type": "code",
   "execution_count": 33,
   "id": "limited-engine",
   "metadata": {
    "execution": {
     "iopub.execute_input": "2021-07-06T00:20:12.517710Z",
     "iopub.status.busy": "2021-07-06T00:20:12.517217Z",
     "iopub.status.idle": "2021-07-06T00:20:12.519138Z",
     "shell.execute_reply": "2021-07-06T00:20:12.519514Z"
    },
    "papermill": {
     "duration": 0.036157,
     "end_time": "2021-07-06T00:20:12.519636",
     "exception": false,
     "start_time": "2021-07-06T00:20:12.483479",
     "status": "completed"
    },
    "tags": []
   },
   "outputs": [],
   "source": [
    "# hide\n",
    "# g['date'] = g['date'].astype('datetime64[ns]')"
   ]
  },
  {
   "cell_type": "code",
   "execution_count": 34,
   "id": "sophisticated-supervisor",
   "metadata": {
    "execution": {
     "iopub.execute_input": "2021-07-06T00:20:12.584813Z",
     "iopub.status.busy": "2021-07-06T00:20:12.584321Z",
     "iopub.status.idle": "2021-07-06T00:20:12.586242Z",
     "shell.execute_reply": "2021-07-06T00:20:12.586664Z"
    },
    "papermill": {
     "duration": 0.036196,
     "end_time": "2021-07-06T00:20:12.586784",
     "exception": false,
     "start_time": "2021-07-06T00:20:12.550588",
     "status": "completed"
    },
    "tags": []
   },
   "outputs": [],
   "source": [
    "#hide\n",
    "# g['date'] = g.date.dt.dayofyear"
   ]
  },
  {
   "cell_type": "code",
   "execution_count": 35,
   "id": "inside-dubai",
   "metadata": {
    "execution": {
     "iopub.execute_input": "2021-07-06T00:20:12.651509Z",
     "iopub.status.busy": "2021-07-06T00:20:12.651014Z",
     "iopub.status.idle": "2021-07-06T00:20:12.653205Z",
     "shell.execute_reply": "2021-07-06T00:20:12.652784Z"
    },
    "papermill": {
     "duration": 0.035909,
     "end_time": "2021-07-06T00:20:12.653306",
     "exception": false,
     "start_time": "2021-07-06T00:20:12.617397",
     "status": "completed"
    },
    "tags": []
   },
   "outputs": [],
   "source": [
    "#hide\n",
    "# g = g.rename(columns= {'continent':'group','country':'name','cases':'value'})"
   ]
  },
  {
   "cell_type": "code",
   "execution_count": 36,
   "id": "fleet-motorcycle",
   "metadata": {
    "execution": {
     "iopub.execute_input": "2021-07-06T00:20:12.718725Z",
     "iopub.status.busy": "2021-07-06T00:20:12.718221Z",
     "iopub.status.idle": "2021-07-06T00:20:12.720431Z",
     "shell.execute_reply": "2021-07-06T00:20:12.720027Z"
    },
    "papermill": {
     "duration": 0.036309,
     "end_time": "2021-07-06T00:20:12.720540",
     "exception": false,
     "start_time": "2021-07-06T00:20:12.684231",
     "status": "completed"
    },
    "tags": []
   },
   "outputs": [],
   "source": [
    "#hide\n",
    "# cols = ['name','group','day','value']"
   ]
  },
  {
   "cell_type": "code",
   "execution_count": 37,
   "id": "continued-sleeping",
   "metadata": {
    "execution": {
     "iopub.execute_input": "2021-07-06T00:20:12.785680Z",
     "iopub.status.busy": "2021-07-06T00:20:12.785185Z",
     "iopub.status.idle": "2021-07-06T00:20:12.786923Z",
     "shell.execute_reply": "2021-07-06T00:20:12.787401Z"
    },
    "papermill": {
     "duration": 0.036032,
     "end_time": "2021-07-06T00:20:12.787518",
     "exception": false,
     "start_time": "2021-07-06T00:20:12.751486",
     "status": "completed"
    },
    "tags": []
   },
   "outputs": [],
   "source": [
    "#hide\n",
    "# g.rename(columns= {'date':'day'},inplace = True)"
   ]
  },
  {
   "cell_type": "code",
   "execution_count": 38,
   "id": "major-fight",
   "metadata": {
    "execution": {
     "iopub.execute_input": "2021-07-06T00:20:12.852550Z",
     "iopub.status.busy": "2021-07-06T00:20:12.852047Z",
     "iopub.status.idle": "2021-07-06T00:20:12.854118Z",
     "shell.execute_reply": "2021-07-06T00:20:12.853718Z"
    },
    "papermill": {
     "duration": 0.035849,
     "end_time": "2021-07-06T00:20:12.854225",
     "exception": false,
     "start_time": "2021-07-06T00:20:12.818376",
     "status": "completed"
    },
    "tags": []
   },
   "outputs": [],
   "source": [
    "#hide\n",
    "# g = g[cols]"
   ]
  },
  {
   "cell_type": "code",
   "execution_count": 39,
   "id": "structured-mobile",
   "metadata": {
    "execution": {
     "iopub.execute_input": "2021-07-06T00:20:12.919042Z",
     "iopub.status.busy": "2021-07-06T00:20:12.918542Z",
     "iopub.status.idle": "2021-07-06T00:20:12.920627Z",
     "shell.execute_reply": "2021-07-06T00:20:12.920207Z"
    },
    "papermill": {
     "duration": 0.035707,
     "end_time": "2021-07-06T00:20:12.920727",
     "exception": false,
     "start_time": "2021-07-06T00:20:12.885020",
     "status": "completed"
    },
    "tags": []
   },
   "outputs": [],
   "source": [
    "# #hide\n",
    "# g = g[g.group.notna()]"
   ]
  },
  {
   "cell_type": "code",
   "execution_count": 40,
   "id": "determined-closing",
   "metadata": {
    "execution": {
     "iopub.execute_input": "2021-07-06T00:20:12.985680Z",
     "iopub.status.busy": "2021-07-06T00:20:12.985184Z",
     "iopub.status.idle": "2021-07-06T00:20:12.987360Z",
     "shell.execute_reply": "2021-07-06T00:20:12.986941Z"
    },
    "papermill": {
     "duration": 0.035816,
     "end_time": "2021-07-06T00:20:12.987457",
     "exception": false,
     "start_time": "2021-07-06T00:20:12.951641",
     "status": "completed"
    },
    "tags": []
   },
   "outputs": [],
   "source": [
    "# #hide\n",
    "# colors = dict(zip(\n",
    "#     [\"Oceania\", \"Europe\", \"Asia\", \"South America\", \"Middle East\", \"North America\", \"Africa\"],\n",
    "#     [\"#adb0ff\", \"#ffb3ff\", \"#90d595\", \"#e48381\", \"#aafbff\", \"#f7bb5f\", \"#eafb50\"]\n",
    "# ))\n",
    "# group_lk = g.set_index('name')['group'].to_dict()"
   ]
  },
  {
   "cell_type": "code",
   "execution_count": null,
   "id": "gross-drinking",
   "metadata": {
    "papermill": {
     "duration": 0.10439,
     "end_time": "2021-07-06T00:20:13.202017",
     "exception": false,
     "start_time": "2021-07-06T00:20:13.097627",
     "status": "completed"
    },
    "tags": []
   },
   "outputs": [],
   "source": []
  },
  {
   "cell_type": "code",
   "execution_count": 41,
   "id": "subject-macintosh",
   "metadata": {
    "execution": {
     "iopub.execute_input": "2021-07-06T00:20:13.364714Z",
     "iopub.status.busy": "2021-07-06T00:20:13.364107Z",
     "iopub.status.idle": "2021-07-06T00:20:13.368188Z",
     "shell.execute_reply": "2021-07-06T00:20:13.368633Z"
    },
    "papermill": {
     "duration": 0.064235,
     "end_time": "2021-07-06T00:20:13.368773",
     "exception": false,
     "start_time": "2021-07-06T00:20:13.304538",
     "status": "completed"
    },
    "tags": []
   },
   "outputs": [],
   "source": [
    "# #hide\n",
    "# fig, ax = plt.subplots(figsize=(15, 8))\n",
    "\n",
    "# def draw_barchart(current_day):\n",
    "#     dff = g[g['day'].eq(current_day)].sort_values(by='value', ascending=True).tail(10)\n",
    "#     ax.clear()\n",
    "#     ax.barh(dff['name'], dff['value'], color=[colors[group_lk[x]] for x in dff['name']])\n",
    "#     dx = dff['value'].max() / 200\n",
    "    \n",
    "#     for i, (value, name) in enumerate(zip(dff['value'], dff['name'])):\n",
    "#         ax.text(value-dx, i,     name,           size=14, weight=600, ha='right', va='bottom')\n",
    "#         ax.text(value-dx, i-.25, group_lk[name], size=10, color='#444444', ha='right', va='baseline')\n",
    "#         ax.text(value+dx, i,     f'{value:,.0f}',  size=14, ha='left',  va='center')\n",
    "#     ax.text(1, 0.4, current_day, transform=ax.transAxes, color='#777777', size=46, ha='right', weight=800)\n",
    "#     ax.text(0, 1.06, 'Population (thousands)', transform=ax.transAxes, size=12, color='#777777')\n",
    "#     ax.xaxis.set_major_formatter(ticker.StrMethodFormatter('{x:,.0f}'))\n",
    "#     ax.xaxis.set_ticks_position('top')\n",
    "#     ax.tick_params(axis='x', colors='#777777', labelsize=12)\n",
    "#     ax.set_yticks([])\n",
    "#     ax.margins(0, 0.01)\n",
    "#     ax.grid(which='major', axis='x', linestyle='-')\n",
    "#     ax.set_axisbelow(True)\n",
    "    \n",
    "#     ax.text(0, 1.15, 'Coronavirus',\n",
    "#             transform=ax.transAxes, size=24, weight=600, ha='left', va='top')\n",
    "# #     ax.text(1, 0, 'by @pratapvardhan; credit @jburnmurdoch', transform=ax.transAxes, color='#777777', ha='right',\n",
    "# #             bbox=dict(facecolor='white', alpha=0.8, edgecolor='white'))\n",
    "#     plt.box(False)"
   ]
  },
  {
   "cell_type": "code",
   "execution_count": 42,
   "id": "sexual-wages",
   "metadata": {
    "execution": {
     "iopub.execute_input": "2021-07-06T00:20:13.446654Z",
     "iopub.status.busy": "2021-07-06T00:20:13.446048Z",
     "iopub.status.idle": "2021-07-06T00:20:13.448916Z",
     "shell.execute_reply": "2021-07-06T00:20:13.449363Z"
    },
    "papermill": {
     "duration": 0.045068,
     "end_time": "2021-07-06T00:20:13.449515",
     "exception": false,
     "start_time": "2021-07-06T00:20:13.404447",
     "status": "completed"
    },
    "tags": []
   },
   "outputs": [],
   "source": [
    "# #hide_input\n",
    "# fig, ax = plt.subplots(figsize=(15, 8))\n",
    "# animator = animation.FuncAnimation(fig, draw_barchart, frames=range(g.day.values.min(), g.day.values.max()))\n",
    "# HTML(animator.to_jshtml())\n",
    "# # or use animator.to_html5_video() or animator.save() "
   ]
  },
  {
   "cell_type": "code",
   "execution_count": null,
   "id": "australian-container",
   "metadata": {
    "papermill": {
     "duration": 0.033504,
     "end_time": "2021-07-06T00:20:13.537114",
     "exception": false,
     "start_time": "2021-07-06T00:20:13.503610",
     "status": "completed"
    },
    "tags": []
   },
   "outputs": [],
   "source": []
  },
  {
   "cell_type": "code",
   "execution_count": null,
   "id": "mediterranean-pontiac",
   "metadata": {
    "papermill": {
     "duration": 0.030794,
     "end_time": "2021-07-06T00:20:13.598947",
     "exception": false,
     "start_time": "2021-07-06T00:20:13.568153",
     "status": "completed"
    },
    "tags": []
   },
   "outputs": [],
   "source": []
  },
  {
   "cell_type": "code",
   "execution_count": null,
   "id": "aging-legislature",
   "metadata": {
    "papermill": {
     "duration": 0.031049,
     "end_time": "2021-07-06T00:20:13.661186",
     "exception": false,
     "start_time": "2021-07-06T00:20:13.630137",
     "status": "completed"
    },
    "tags": []
   },
   "outputs": [],
   "source": []
  }
 ],
 "metadata": {
  "kernelspec": {
   "display_name": "Python 3",
   "language": "python",
   "name": "python3"
  },
  "language_info": {
   "codemirror_mode": {
    "name": "ipython",
    "version": 3
   },
   "file_extension": ".py",
   "mimetype": "text/x-python",
   "name": "python",
   "nbconvert_exporter": "python",
   "pygments_lexer": "ipython3",
   "version": "3.6.13"
  },
  "papermill": {
   "duration": 7.388798,
   "end_time": "2021-07-06T00:20:15.014606",
   "environment_variables": {},
   "exception": null,
   "input_path": "2020-03-21-covid19exp.ipynb",
   "output_path": "2020-03-21-covid19exp.ipynb",
   "parameters": {},
   "start_time": "2021-07-06T00:20:07.625808",
   "version": "2.0.0"
  }
 },
 "nbformat": 4,
 "nbformat_minor": 5
}