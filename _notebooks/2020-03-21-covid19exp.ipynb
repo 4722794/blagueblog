{
 "cells": [
  {
   "cell_type": "markdown",
   "id": "muslim-click",
   "metadata": {
    "papermill": {
     "duration": 0.038228,
     "end_time": "2021-08-19T00:18:29.880170",
     "exception": false,
     "start_time": "2021-08-19T00:18:29.841942",
     "status": "completed"
    },
    "tags": []
   },
   "source": [
    "# COVID-19 Case Race\n",
    "> A race chart to see rising cases around the world\n",
    "\n",
    "- author: Hargun Oberoi\n",
    "- image: images/covid-overview.png\n",
    "- hide: false\n",
    "- badges: false"
   ]
  },
  {
   "cell_type": "code",
   "execution_count": 1,
   "id": "proof-material",
   "metadata": {
    "execution": {
     "iopub.execute_input": "2021-08-19T00:18:29.956729Z",
     "iopub.status.busy": "2021-08-19T00:18:29.956117Z",
     "iopub.status.idle": "2021-08-19T00:18:30.336871Z",
     "shell.execute_reply": "2021-08-19T00:18:30.335436Z"
    },
    "papermill": {
     "duration": 0.424031,
     "end_time": "2021-08-19T00:18:30.337111",
     "exception": false,
     "start_time": "2021-08-19T00:18:29.913080",
     "status": "completed"
    },
    "tags": []
   },
   "outputs": [],
   "source": [
    "#hide\n",
    "import numpy as np\n",
    "import pandas as pd\n",
    "from jinja2 import Template\n",
    "from IPython.display import HTML"
   ]
  },
  {
   "cell_type": "code",
   "execution_count": 2,
   "id": "developed-terminology",
   "metadata": {
    "execution": {
     "iopub.execute_input": "2021-08-19T00:18:30.411918Z",
     "iopub.status.busy": "2021-08-19T00:18:30.411324Z",
     "iopub.status.idle": "2021-08-19T00:18:30.414544Z",
     "shell.execute_reply": "2021-08-19T00:18:30.414038Z"
    },
    "papermill": {
     "duration": 0.042103,
     "end_time": "2021-08-19T00:18:30.414666",
     "exception": false,
     "start_time": "2021-08-19T00:18:30.372563",
     "status": "completed"
    },
    "tags": []
   },
   "outputs": [],
   "source": [
    "#hide\n",
    "\n",
    "# FETCH\n",
    "base_url = 'https://raw.githubusercontent.com/pratapvardhan/notebooks/master/covid19/'\n",
    "paths = {\n",
    "    'mapping': base_url + 'mapping_countries.csv',\n",
    "    'overview': base_url + 'overview.tpl'\n",
    "}"
   ]
  },
  {
   "cell_type": "code",
   "execution_count": 3,
   "id": "dynamic-saver",
   "metadata": {
    "execution": {
     "iopub.execute_input": "2021-08-19T00:18:30.491918Z",
     "iopub.status.busy": "2021-08-19T00:18:30.488055Z",
     "iopub.status.idle": "2021-08-19T00:18:30.495219Z",
     "shell.execute_reply": "2021-08-19T00:18:30.494715Z"
    },
    "papermill": {
     "duration": 0.047961,
     "end_time": "2021-08-19T00:18:30.495341",
     "exception": false,
     "start_time": "2021-08-19T00:18:30.447380",
     "status": "completed"
    },
    "tags": []
   },
   "outputs": [
    {
     "data": {
      "text/plain": [
       "'https://raw.githubusercontent.com/pratapvardhan/notebooks/master/covid19/mapping_countries.csv'"
      ]
     },
     "execution_count": 3,
     "metadata": {},
     "output_type": "execute_result"
    }
   ],
   "source": [
    "#hide\n",
    "paths['mapping']"
   ]
  },
  {
   "cell_type": "code",
   "execution_count": 4,
   "id": "urban-software",
   "metadata": {
    "execution": {
     "iopub.execute_input": "2021-08-19T00:18:30.567284Z",
     "iopub.status.busy": "2021-08-19T00:18:30.566689Z",
     "iopub.status.idle": "2021-08-19T00:18:30.570583Z",
     "shell.execute_reply": "2021-08-19T00:18:30.570080Z"
    },
    "papermill": {
     "duration": 0.042145,
     "end_time": "2021-08-19T00:18:30.570701",
     "exception": false,
     "start_time": "2021-08-19T00:18:30.528556",
     "status": "completed"
    },
    "tags": []
   },
   "outputs": [],
   "source": [
    "#hide\n",
    "def get_mappings(url):\n",
    "    df = pd.read_csv(url)\n",
    "    return {\n",
    "        'df': df,\n",
    "        'replace.country': dict(df.dropna(subset=['Name']).set_index('Country')['Name']),\n",
    "        'map.continent': dict(df.set_index('Name')['Continent'])\n",
    "    }"
   ]
  },
  {
   "cell_type": "code",
   "execution_count": 5,
   "id": "intimate-machinery",
   "metadata": {
    "execution": {
     "iopub.execute_input": "2021-08-19T00:18:30.642642Z",
     "iopub.status.busy": "2021-08-19T00:18:30.642036Z",
     "iopub.status.idle": "2021-08-19T00:18:30.680462Z",
     "shell.execute_reply": "2021-08-19T00:18:30.679824Z"
    },
    "papermill": {
     "duration": 0.076809,
     "end_time": "2021-08-19T00:18:30.680613",
     "exception": false,
     "start_time": "2021-08-19T00:18:30.603804",
     "status": "completed"
    },
    "tags": []
   },
   "outputs": [],
   "source": [
    "#hide\n",
    "mapping = get_mappings(paths['mapping'])"
   ]
  },
  {
   "cell_type": "code",
   "execution_count": 6,
   "id": "certified-tactics",
   "metadata": {
    "execution": {
     "iopub.execute_input": "2021-08-19T00:18:30.754210Z",
     "iopub.status.busy": "2021-08-19T00:18:30.753569Z",
     "iopub.status.idle": "2021-08-19T00:18:30.756224Z",
     "shell.execute_reply": "2021-08-19T00:18:30.755740Z"
    },
    "papermill": {
     "duration": 0.041513,
     "end_time": "2021-08-19T00:18:30.756352",
     "exception": false,
     "start_time": "2021-08-19T00:18:30.714839",
     "status": "completed"
    },
    "tags": []
   },
   "outputs": [],
   "source": [
    "#hide\n",
    "def get_template(path):\n",
    "    from urllib.parse import urlparse\n",
    "    if bool(urlparse(path).netloc):\n",
    "        from urllib.request import urlopen\n",
    "        return urlopen(path).read().decode('utf8')\n",
    "    return open(path).read()"
   ]
  },
  {
   "cell_type": "code",
   "execution_count": 7,
   "id": "realistic-blast",
   "metadata": {
    "execution": {
     "iopub.execute_input": "2021-08-19T00:18:30.829515Z",
     "iopub.status.busy": "2021-08-19T00:18:30.828930Z",
     "iopub.status.idle": "2021-08-19T00:18:30.831630Z",
     "shell.execute_reply": "2021-08-19T00:18:30.831137Z"
    },
    "papermill": {
     "duration": 0.042164,
     "end_time": "2021-08-19T00:18:30.831750",
     "exception": false,
     "start_time": "2021-08-19T00:18:30.789586",
     "status": "completed"
    },
    "tags": []
   },
   "outputs": [],
   "source": [
    "#hide\n",
    "def get_frame(name):\n",
    "    url = (\n",
    "        'https://raw.githubusercontent.com/CSSEGISandData/COVID-19/master/csse_covid_19_data/'\n",
    "        f'csse_covid_19_time_series/time_series_covid19_{name}_global.csv')\n",
    "    df = pd.read_csv(url)\n",
    "    # rename countries\n",
    "    df['Country/Region'] = df['Country/Region'].replace(mapping['replace.country'])\n",
    "    return df"
   ]
  },
  {
   "cell_type": "code",
   "execution_count": 8,
   "id": "affiliated-characterization",
   "metadata": {
    "execution": {
     "iopub.execute_input": "2021-08-19T00:18:30.904941Z",
     "iopub.status.busy": "2021-08-19T00:18:30.904347Z",
     "iopub.status.idle": "2021-08-19T00:18:30.906584Z",
     "shell.execute_reply": "2021-08-19T00:18:30.907141Z"
    },
    "papermill": {
     "duration": 0.042245,
     "end_time": "2021-08-19T00:18:30.907281",
     "exception": false,
     "start_time": "2021-08-19T00:18:30.865036",
     "status": "completed"
    },
    "tags": []
   },
   "outputs": [],
   "source": [
    "#hide\n",
    "def get_dates(df):\n",
    "    dt_cols = df.columns[~df.columns.isin(['Province/State', 'Country/Region', 'Lat', 'Long'])]\n",
    "    LAST_DATE_I = -1\n",
    "    # sometimes last column may be empty, then go backwards\n",
    "    for i in range(-1, -len(dt_cols), -1):\n",
    "        if not df[dt_cols[i]].fillna(0).eq(0).all():\n",
    "            LAST_DATE_I = i\n",
    "            break\n",
    "    return LAST_DATE_I, dt_cols"
   ]
  },
  {
   "cell_type": "code",
   "execution_count": 9,
   "id": "recent-optimization",
   "metadata": {
    "execution": {
     "iopub.execute_input": "2021-08-19T00:18:30.978748Z",
     "iopub.status.busy": "2021-08-19T00:18:30.978132Z",
     "iopub.status.idle": "2021-08-19T00:18:31.299890Z",
     "shell.execute_reply": "2021-08-19T00:18:31.299373Z"
    },
    "papermill": {
     "duration": 0.359968,
     "end_time": "2021-08-19T00:18:31.300028",
     "exception": false,
     "start_time": "2021-08-19T00:18:30.940060",
     "status": "completed"
    },
    "tags": []
   },
   "outputs": [],
   "source": [
    "#hide\n",
    "COL_REGION = 'Country/Region'\n",
    "# Confirmed, Recovered, Deaths\n",
    "df = get_frame('confirmed')\n",
    "# dft_: timeseries, dfc_: today country agg\n",
    "dft_cases = df\n",
    "dft_deaths = get_frame('deaths')\n",
    "dft_recovered = get_frame('recovered')\n",
    "LAST_DATE_I, dt_cols = get_dates(df)"
   ]
  },
  {
   "cell_type": "code",
   "execution_count": 10,
   "id": "absolute-copper",
   "metadata": {
    "execution": {
     "iopub.execute_input": "2021-08-19T00:18:31.374360Z",
     "iopub.status.busy": "2021-08-19T00:18:31.373727Z",
     "iopub.status.idle": "2021-08-19T00:18:31.376334Z",
     "shell.execute_reply": "2021-08-19T00:18:31.375862Z"
    },
    "papermill": {
     "duration": 0.041519,
     "end_time": "2021-08-19T00:18:31.376458",
     "exception": false,
     "start_time": "2021-08-19T00:18:31.334939",
     "status": "completed"
    },
    "tags": []
   },
   "outputs": [],
   "source": [
    "#hide\n",
    "LAST_DATE_I, dt_cols = get_dates(df)\n",
    "dt_today =dt_cols[LAST_DATE_I]\n",
    "# dt_5day = dt_cols[LAST_DATE_I - 5]\n",
    "dt_yday = dt_cols[LAST_DATE_I - 1]"
   ]
  },
  {
   "cell_type": "code",
   "execution_count": 11,
   "id": "restricted-sheriff",
   "metadata": {
    "execution": {
     "iopub.execute_input": "2021-08-19T00:18:31.449864Z",
     "iopub.status.busy": "2021-08-19T00:18:31.449273Z",
     "iopub.status.idle": "2021-08-19T00:18:31.461709Z",
     "shell.execute_reply": "2021-08-19T00:18:31.462241Z"
    },
    "papermill": {
     "duration": 0.052775,
     "end_time": "2021-08-19T00:18:31.462394",
     "exception": false,
     "start_time": "2021-08-19T00:18:31.409619",
     "status": "completed"
    },
    "tags": []
   },
   "outputs": [],
   "source": [
    "#hide\n",
    "dfc_cases = dft_cases.groupby(COL_REGION)[dt_today].sum()\n",
    "dfc_deaths = dft_deaths.groupby(COL_REGION)[dt_today].sum()\n",
    "# dfp_cases = dft_cases.groupby(COL_REGION)[dt_5day].sum()\n",
    "# dfp_deaths = dft_deaths.groupby(COL_REGION)[dt_5day].sum()\n",
    "dfp_cases = dft_cases.groupby(COL_REGION)[dt_yday].sum()\n",
    "dfp_deaths = dft_deaths.groupby(COL_REGION)[dt_yday].sum()"
   ]
  },
  {
   "cell_type": "code",
   "execution_count": 12,
   "id": "deluxe-hepatitis",
   "metadata": {
    "execution": {
     "iopub.execute_input": "2021-08-19T00:18:31.536852Z",
     "iopub.status.busy": "2021-08-19T00:18:31.536247Z",
     "iopub.status.idle": "2021-08-19T00:18:31.541926Z",
     "shell.execute_reply": "2021-08-19T00:18:31.541465Z"
    },
    "papermill": {
     "duration": 0.046198,
     "end_time": "2021-08-19T00:18:31.542045",
     "exception": false,
     "start_time": "2021-08-19T00:18:31.495847",
     "status": "completed"
    },
    "tags": []
   },
   "outputs": [],
   "source": [
    "#hide\n",
    "df_table = (pd.DataFrame(dict(Cases = dfc_cases, Deaths = dfc_deaths, PCases = dfp_cases, PDeaths = dfp_deaths))\n",
    "            .sort_values(by = ['Cases','Deaths'], ascending = [False, False])\n",
    "            .reset_index())"
   ]
  },
  {
   "cell_type": "code",
   "execution_count": 13,
   "id": "educational-chancellor",
   "metadata": {
    "execution": {
     "iopub.execute_input": "2021-08-19T00:18:31.627377Z",
     "iopub.status.busy": "2021-08-19T00:18:31.626783Z",
     "iopub.status.idle": "2021-08-19T00:18:31.644480Z",
     "shell.execute_reply": "2021-08-19T00:18:31.645140Z"
    },
    "papermill": {
     "duration": 0.071531,
     "end_time": "2021-08-19T00:18:31.645326",
     "exception": false,
     "start_time": "2021-08-19T00:18:31.573795",
     "status": "completed"
    },
    "tags": []
   },
   "outputs": [
    {
     "data": {
      "text/html": [
       "<div>\n",
       "<style scoped>\n",
       "    .dataframe tbody tr th:only-of-type {\n",
       "        vertical-align: middle;\n",
       "    }\n",
       "\n",
       "    .dataframe tbody tr th {\n",
       "        vertical-align: top;\n",
       "    }\n",
       "\n",
       "    .dataframe thead th {\n",
       "        text-align: right;\n",
       "    }\n",
       "</style>\n",
       "<table border=\"1\" class=\"dataframe\">\n",
       "  <thead>\n",
       "    <tr style=\"text-align: right;\">\n",
       "      <th></th>\n",
       "      <th>Country/Region</th>\n",
       "      <th>Cases</th>\n",
       "      <th>Deaths</th>\n",
       "      <th>PCases</th>\n",
       "      <th>PDeaths</th>\n",
       "      <th>Cases (+)</th>\n",
       "      <th>Deaths (+)</th>\n",
       "      <th>Fatality Rate</th>\n",
       "      <th>Continent</th>\n",
       "    </tr>\n",
       "  </thead>\n",
       "  <tbody>\n",
       "    <tr>\n",
       "      <th>0</th>\n",
       "      <td>US</td>\n",
       "      <td>37017854</td>\n",
       "      <td>623322</td>\n",
       "      <td>36888952</td>\n",
       "      <td>622321</td>\n",
       "      <td>128902</td>\n",
       "      <td>1001</td>\n",
       "      <td>1.68</td>\n",
       "      <td>North America</td>\n",
       "    </tr>\n",
       "    <tr>\n",
       "      <th>1</th>\n",
       "      <td>India</td>\n",
       "      <td>32285857</td>\n",
       "      <td>432519</td>\n",
       "      <td>32250679</td>\n",
       "      <td>432079</td>\n",
       "      <td>35178</td>\n",
       "      <td>440</td>\n",
       "      <td>1.34</td>\n",
       "      <td>Asia</td>\n",
       "    </tr>\n",
       "    <tr>\n",
       "      <th>2</th>\n",
       "      <td>Brazil</td>\n",
       "      <td>20416183</td>\n",
       "      <td>570598</td>\n",
       "      <td>20378570</td>\n",
       "      <td>569492</td>\n",
       "      <td>37613</td>\n",
       "      <td>1106</td>\n",
       "      <td>2.79</td>\n",
       "      <td>South America</td>\n",
       "    </tr>\n",
       "    <tr>\n",
       "      <th>3</th>\n",
       "      <td>France</td>\n",
       "      <td>6581417</td>\n",
       "      <td>113116</td>\n",
       "      <td>6556496</td>\n",
       "      <td>112992</td>\n",
       "      <td>24921</td>\n",
       "      <td>124</td>\n",
       "      <td>1.72</td>\n",
       "      <td>Europe</td>\n",
       "    </tr>\n",
       "    <tr>\n",
       "      <th>4</th>\n",
       "      <td>Russia</td>\n",
       "      <td>6551934</td>\n",
       "      <td>169169</td>\n",
       "      <td>6531585</td>\n",
       "      <td>168384</td>\n",
       "      <td>20349</td>\n",
       "      <td>785</td>\n",
       "      <td>2.58</td>\n",
       "      <td>Europe</td>\n",
       "    </tr>\n",
       "  </tbody>\n",
       "</table>\n",
       "</div>"
      ],
      "text/plain": [
       "  Country/Region     Cases  Deaths    PCases  PDeaths  Cases (+)  Deaths (+)  \\\n",
       "0             US  37017854  623322  36888952   622321     128902        1001   \n",
       "1          India  32285857  432519  32250679   432079      35178         440   \n",
       "2         Brazil  20416183  570598  20378570   569492      37613        1106   \n",
       "3         France   6581417  113116   6556496   112992      24921         124   \n",
       "4         Russia   6551934  169169   6531585   168384      20349         785   \n",
       "\n",
       "   Fatality Rate      Continent  \n",
       "0           1.68  North America  \n",
       "1           1.34           Asia  \n",
       "2           2.79  South America  \n",
       "3           1.72         Europe  \n",
       "4           2.58         Europe  "
      ]
     },
     "execution_count": 13,
     "metadata": {},
     "output_type": "execute_result"
    }
   ],
   "source": [
    "#hide\n",
    "for c in 'Cases, Deaths'.split(', '):\n",
    "    df_table[f'{c} (+)'] = (df_table[c] - df_table[f'P{c}']).clip(0)\n",
    "    #Clip ça veut dire, les chiffres negatif sont interdit\n",
    "df_table['Fatality Rate'] = (100* df_table['Deaths']/ df_table['Cases']).round(2)\n",
    "df_table['Continent'] = df_table['Country/Region'].map(mapping['map.continent'])\n",
    "df_table.head(5)"
   ]
  },
  {
   "cell_type": "code",
   "execution_count": 14,
   "id": "aboriginal-bulgaria",
   "metadata": {
    "execution": {
     "iopub.execute_input": "2021-08-19T00:18:31.721259Z",
     "iopub.status.busy": "2021-08-19T00:18:31.720594Z",
     "iopub.status.idle": "2021-08-19T00:18:31.723393Z",
     "shell.execute_reply": "2021-08-19T00:18:31.722922Z"
    },
    "papermill": {
     "duration": 0.043509,
     "end_time": "2021-08-19T00:18:31.723518",
     "exception": false,
     "start_time": "2021-08-19T00:18:31.680009",
     "status": "completed"
    },
    "tags": []
   },
   "outputs": [],
   "source": [
    "#hide\n",
    "#delete problematic countries from table\n",
    "df_table = df_table[~df_table['Country/Region'].isin(['Cape Verde', 'Cruise Ship', 'Kosovo'])]"
   ]
  },
  {
   "cell_type": "code",
   "execution_count": 15,
   "id": "fantastic-effect",
   "metadata": {
    "execution": {
     "iopub.execute_input": "2021-08-19T00:18:31.804898Z",
     "iopub.status.busy": "2021-08-19T00:18:31.804292Z",
     "iopub.status.idle": "2021-08-19T00:18:31.823142Z",
     "shell.execute_reply": "2021-08-19T00:18:31.823611Z"
    },
    "papermill": {
     "duration": 0.066472,
     "end_time": "2021-08-19T00:18:31.823757",
     "exception": false,
     "start_time": "2021-08-19T00:18:31.757285",
     "status": "completed"
    },
    "tags": []
   },
   "outputs": [
    {
     "data": {
      "text/html": [
       "<div>\n",
       "<style scoped>\n",
       "    .dataframe tbody tr th:only-of-type {\n",
       "        vertical-align: middle;\n",
       "    }\n",
       "\n",
       "    .dataframe tbody tr th {\n",
       "        vertical-align: top;\n",
       "    }\n",
       "\n",
       "    .dataframe thead th {\n",
       "        text-align: right;\n",
       "    }\n",
       "</style>\n",
       "<table border=\"1\" class=\"dataframe\">\n",
       "  <thead>\n",
       "    <tr style=\"text-align: right;\">\n",
       "      <th></th>\n",
       "      <th>Country/Region</th>\n",
       "      <th>Cases</th>\n",
       "      <th>Deaths</th>\n",
       "      <th>PCases</th>\n",
       "      <th>PDeaths</th>\n",
       "      <th>Cases (+)</th>\n",
       "      <th>Deaths (+)</th>\n",
       "      <th>Fatality Rate</th>\n",
       "      <th>Continent</th>\n",
       "    </tr>\n",
       "  </thead>\n",
       "  <tbody>\n",
       "    <tr>\n",
       "      <th>0</th>\n",
       "      <td>US</td>\n",
       "      <td>37017854</td>\n",
       "      <td>623322</td>\n",
       "      <td>36888952</td>\n",
       "      <td>622321</td>\n",
       "      <td>128902</td>\n",
       "      <td>1001</td>\n",
       "      <td>1.7</td>\n",
       "      <td>North America</td>\n",
       "    </tr>\n",
       "    <tr>\n",
       "      <th>1</th>\n",
       "      <td>India</td>\n",
       "      <td>32285857</td>\n",
       "      <td>432519</td>\n",
       "      <td>32250679</td>\n",
       "      <td>432079</td>\n",
       "      <td>35178</td>\n",
       "      <td>440</td>\n",
       "      <td>1.3</td>\n",
       "      <td>Asia</td>\n",
       "    </tr>\n",
       "    <tr>\n",
       "      <th>2</th>\n",
       "      <td>Brazil</td>\n",
       "      <td>20416183</td>\n",
       "      <td>570598</td>\n",
       "      <td>20378570</td>\n",
       "      <td>569492</td>\n",
       "      <td>37613</td>\n",
       "      <td>1106</td>\n",
       "      <td>2.8</td>\n",
       "      <td>South America</td>\n",
       "    </tr>\n",
       "    <tr>\n",
       "      <th>3</th>\n",
       "      <td>France</td>\n",
       "      <td>6581417</td>\n",
       "      <td>113116</td>\n",
       "      <td>6556496</td>\n",
       "      <td>112992</td>\n",
       "      <td>24921</td>\n",
       "      <td>124</td>\n",
       "      <td>1.7</td>\n",
       "      <td>Europe</td>\n",
       "    </tr>\n",
       "    <tr>\n",
       "      <th>4</th>\n",
       "      <td>Russia</td>\n",
       "      <td>6551934</td>\n",
       "      <td>169169</td>\n",
       "      <td>6531585</td>\n",
       "      <td>168384</td>\n",
       "      <td>20349</td>\n",
       "      <td>785</td>\n",
       "      <td>2.6</td>\n",
       "      <td>Europe</td>\n",
       "    </tr>\n",
       "  </tbody>\n",
       "</table>\n",
       "</div>"
      ],
      "text/plain": [
       "  Country/Region     Cases  Deaths    PCases  PDeaths  Cases (+)  Deaths (+)  \\\n",
       "0             US  37017854  623322  36888952   622321     128902        1001   \n",
       "1          India  32285857  432519  32250679   432079      35178         440   \n",
       "2         Brazil  20416183  570598  20378570   569492      37613        1106   \n",
       "3         France   6581417  113116   6556496   112992      24921         124   \n",
       "4         Russia   6551934  169169   6531585   168384      20349         785   \n",
       "\n",
       "   Fatality Rate      Continent  \n",
       "0            1.7  North America  \n",
       "1            1.3           Asia  \n",
       "2            2.8  South America  \n",
       "3            1.7         Europe  \n",
       "4            2.6         Europe  "
      ]
     },
     "execution_count": 15,
     "metadata": {},
     "output_type": "execute_result"
    }
   ],
   "source": [
    "#hide\n",
    "df_table = (pd.DataFrame(dict(Cases=dfc_cases, Deaths=dfc_deaths, PCases=dfp_cases, PDeaths=dfp_deaths))\n",
    "             .sort_values(by=['Cases', 'Deaths'], ascending=[False, False])\n",
    "             .reset_index())\n",
    "df_table.rename(columns={'index': 'Country/Region'}, inplace=True)\n",
    "for c in 'Cases, Deaths'.split(', '):\n",
    "    df_table[f'{c} (+)'] = (df_table[c] - df_table[f'P{c}']).clip(0)  # DATA BUG\n",
    "df_table['Fatality Rate'] = (100 * df_table['Deaths'] / df_table['Cases']).round(1)\n",
    "df_table['Continent'] = df_table['Country/Region'].map(mapping['map.continent'])\n",
    "df_table.head(5)"
   ]
  },
  {
   "cell_type": "code",
   "execution_count": 16,
   "id": "fewer-occasion",
   "metadata": {
    "execution": {
     "iopub.execute_input": "2021-08-19T00:18:31.898840Z",
     "iopub.status.busy": "2021-08-19T00:18:31.897553Z",
     "iopub.status.idle": "2021-08-19T00:18:31.899499Z",
     "shell.execute_reply": "2021-08-19T00:18:31.899960Z"
    },
    "papermill": {
     "duration": 0.042628,
     "end_time": "2021-08-19T00:18:31.900104",
     "exception": false,
     "start_time": "2021-08-19T00:18:31.857476",
     "status": "completed"
    },
    "tags": []
   },
   "outputs": [],
   "source": [
    "#hide\n",
    "#delete problematic countries from table\n",
    "df_table = df_table[~df_table['Country/Region'].isin(['Cape Verde', 'Cruise Ship', 'Kosovo'])]"
   ]
  },
  {
   "cell_type": "code",
   "execution_count": 17,
   "id": "related-center",
   "metadata": {
    "execution": {
     "iopub.execute_input": "2021-08-19T00:18:31.981136Z",
     "iopub.status.busy": "2021-08-19T00:18:31.975471Z",
     "iopub.status.idle": "2021-08-19T00:18:31.993000Z",
     "shell.execute_reply": "2021-08-19T00:18:31.992527Z"
    },
    "papermill": {
     "duration": 0.059337,
     "end_time": "2021-08-19T00:18:31.993140",
     "exception": false,
     "start_time": "2021-08-19T00:18:31.933803",
     "status": "completed"
    },
    "tags": []
   },
   "outputs": [],
   "source": [
    "#hide\n",
    "metrics = [df_table.columns[index] for index in [1,2,5,6]]\n",
    "# s_china = df_table[df_table['Country/Region'].eq('China')][metrics].sum().add_prefix('China ')\n",
    "s_us = df_table[df_table['Country/Region'].eq('US')][metrics].sum().add_prefix('US ')\n",
    "s_eu = df_table[df_table['Continent'].eq('Europe')][metrics].sum().add_prefix('EU ')\n",
    "s_ind = df_table[df_table['Country/Region'].eq('India')][metrics].sum().add_prefix('India ')\n",
    "summary = {'updated': pd.to_datetime(dt_today), 'since': pd.to_datetime(dt_yday)}\n",
    "summary = {'updated': pd.to_datetime(dt_today), 'since': pd.to_datetime(dt_yday)}\n",
    "summary = {**summary, **df_table[metrics].sum(), **s_ind, **s_us, **s_eu}"
   ]
  },
  {
   "cell_type": "code",
   "execution_count": 18,
   "id": "engaging-syndrome",
   "metadata": {
    "execution": {
     "iopub.execute_input": "2021-08-19T00:18:32.070004Z",
     "iopub.status.busy": "2021-08-19T00:18:32.067636Z",
     "iopub.status.idle": "2021-08-19T00:18:32.080407Z",
     "shell.execute_reply": "2021-08-19T00:18:32.079936Z"
    },
    "papermill": {
     "duration": 0.053553,
     "end_time": "2021-08-19T00:18:32.080536",
     "exception": false,
     "start_time": "2021-08-19T00:18:32.026983",
     "status": "completed"
    },
    "tags": []
   },
   "outputs": [],
   "source": [
    "#hide\n",
    "dft_ct_new_cases = dft_cases.groupby(COL_REGION)[dt_cols].sum().diff(axis=1).fillna(0).astype(int)"
   ]
  },
  {
   "cell_type": "code",
   "execution_count": 19,
   "id": "neutral-assignment",
   "metadata": {
    "execution": {
     "iopub.execute_input": "2021-08-19T00:18:32.155033Z",
     "iopub.status.busy": "2021-08-19T00:18:32.154435Z",
     "iopub.status.idle": "2021-08-19T00:18:32.158277Z",
     "shell.execute_reply": "2021-08-19T00:18:32.157737Z"
    },
    "papermill": {
     "duration": 0.043561,
     "end_time": "2021-08-19T00:18:32.158406",
     "exception": false,
     "start_time": "2021-08-19T00:18:32.114845",
     "status": "completed"
    },
    "tags": []
   },
   "outputs": [],
   "source": [
    "#hide\n",
    "everydaycases = dft_ct_new_cases.cumsum(axis=1)"
   ]
  },
  {
   "cell_type": "code",
   "execution_count": 20,
   "id": "parliamentary-calgary",
   "metadata": {
    "execution": {
     "iopub.execute_input": "2021-08-19T00:18:32.232258Z",
     "iopub.status.busy": "2021-08-19T00:18:32.231655Z",
     "iopub.status.idle": "2021-08-19T00:18:32.906333Z",
     "shell.execute_reply": "2021-08-19T00:18:32.905595Z"
    },
    "papermill": {
     "duration": 0.714325,
     "end_time": "2021-08-19T00:18:32.906511",
     "exception": false,
     "start_time": "2021-08-19T00:18:32.192186",
     "status": "completed"
    },
    "tags": []
   },
   "outputs": [],
   "source": [
    "#hide\n",
    "import pandas as pd\n",
    "import matplotlib.pyplot as plt\n",
    "import matplotlib.ticker as ticker\n",
    "import matplotlib.animation as animation\n",
    "from IPython.display import HTML"
   ]
  },
  {
   "cell_type": "code",
   "execution_count": 21,
   "id": "lasting-extraction",
   "metadata": {
    "execution": {
     "iopub.execute_input": "2021-08-19T00:18:32.983125Z",
     "iopub.status.busy": "2021-08-19T00:18:32.982520Z",
     "iopub.status.idle": "2021-08-19T00:18:32.988056Z",
     "shell.execute_reply": "2021-08-19T00:18:32.988497Z"
    },
    "papermill": {
     "duration": 0.047589,
     "end_time": "2021-08-19T00:18:32.988644",
     "exception": false,
     "start_time": "2021-08-19T00:18:32.941055",
     "status": "completed"
    },
    "tags": []
   },
   "outputs": [],
   "source": [
    "#hide\n",
    "t = everydaycases.stack()"
   ]
  },
  {
   "cell_type": "code",
   "execution_count": 22,
   "id": "premier-sleeve",
   "metadata": {
    "execution": {
     "iopub.execute_input": "2021-08-19T00:18:33.064692Z",
     "iopub.status.busy": "2021-08-19T00:18:33.063642Z",
     "iopub.status.idle": "2021-08-19T00:18:33.074970Z",
     "shell.execute_reply": "2021-08-19T00:18:33.074498Z"
    },
    "papermill": {
     "duration": 0.051736,
     "end_time": "2021-08-19T00:18:33.075093",
     "exception": false,
     "start_time": "2021-08-19T00:18:33.023357",
     "status": "completed"
    },
    "tags": []
   },
   "outputs": [],
   "source": [
    "#hide\n",
    "g = t.reset_index(['Country/Region'])"
   ]
  },
  {
   "cell_type": "code",
   "execution_count": 23,
   "id": "distributed-pittsburgh",
   "metadata": {
    "execution": {
     "iopub.execute_input": "2021-08-19T00:18:33.153801Z",
     "iopub.status.busy": "2021-08-19T00:18:33.152477Z",
     "iopub.status.idle": "2021-08-19T00:18:33.154475Z",
     "shell.execute_reply": "2021-08-19T00:18:33.154944Z"
    },
    "papermill": {
     "duration": 0.041605,
     "end_time": "2021-08-19T00:18:33.155074",
     "exception": false,
     "start_time": "2021-08-19T00:18:33.113469",
     "status": "completed"
    },
    "tags": []
   },
   "outputs": [],
   "source": [
    "#hide\n",
    "g.index.name = 'date'"
   ]
  },
  {
   "cell_type": "code",
   "execution_count": 24,
   "id": "naked-donor",
   "metadata": {
    "execution": {
     "iopub.execute_input": "2021-08-19T00:18:33.232565Z",
     "iopub.status.busy": "2021-08-19T00:18:33.231315Z",
     "iopub.status.idle": "2021-08-19T00:18:33.233225Z",
     "shell.execute_reply": "2021-08-19T00:18:33.233689Z"
    },
    "papermill": {
     "duration": 0.040644,
     "end_time": "2021-08-19T00:18:33.233831",
     "exception": false,
     "start_time": "2021-08-19T00:18:33.193187",
     "status": "completed"
    },
    "tags": []
   },
   "outputs": [],
   "source": [
    "# #hide\n",
    "# g = g.reset_index(['date'])"
   ]
  },
  {
   "cell_type": "code",
   "execution_count": 25,
   "id": "incomplete-mustang",
   "metadata": {
    "execution": {
     "iopub.execute_input": "2021-08-19T00:18:33.306698Z",
     "iopub.status.busy": "2021-08-19T00:18:33.305415Z",
     "iopub.status.idle": "2021-08-19T00:18:33.307350Z",
     "shell.execute_reply": "2021-08-19T00:18:33.307808Z"
    },
    "papermill": {
     "duration": 0.040176,
     "end_time": "2021-08-19T00:18:33.307947",
     "exception": false,
     "start_time": "2021-08-19T00:18:33.267771",
     "status": "completed"
    },
    "tags": []
   },
   "outputs": [],
   "source": [
    "#hide\n",
    "# g.head()"
   ]
  },
  {
   "cell_type": "code",
   "execution_count": 26,
   "id": "specific-kruger",
   "metadata": {
    "execution": {
     "iopub.execute_input": "2021-08-19T00:18:33.379017Z",
     "iopub.status.busy": "2021-08-19T00:18:33.378475Z",
     "iopub.status.idle": "2021-08-19T00:18:33.380609Z",
     "shell.execute_reply": "2021-08-19T00:18:33.381123Z"
    },
    "papermill": {
     "duration": 0.040086,
     "end_time": "2021-08-19T00:18:33.381251",
     "exception": false,
     "start_time": "2021-08-19T00:18:33.341165",
     "status": "completed"
    },
    "tags": []
   },
   "outputs": [],
   "source": [
    "#hide\n",
    "# g.columns = ['date','country','cases']"
   ]
  },
  {
   "cell_type": "code",
   "execution_count": 27,
   "id": "tender-conversion",
   "metadata": {
    "execution": {
     "iopub.execute_input": "2021-08-19T00:18:33.453251Z",
     "iopub.status.busy": "2021-08-19T00:18:33.452433Z",
     "iopub.status.idle": "2021-08-19T00:18:33.454638Z",
     "shell.execute_reply": "2021-08-19T00:18:33.455191Z"
    },
    "papermill": {
     "duration": 0.041259,
     "end_time": "2021-08-19T00:18:33.455325",
     "exception": false,
     "start_time": "2021-08-19T00:18:33.414066",
     "status": "completed"
    },
    "tags": []
   },
   "outputs": [],
   "source": [
    "#hide\n",
    "# g['continent'] = g.country"
   ]
  },
  {
   "cell_type": "code",
   "execution_count": 28,
   "id": "substantial-wilderness",
   "metadata": {
    "execution": {
     "iopub.execute_input": "2021-08-19T00:18:33.527909Z",
     "iopub.status.busy": "2021-08-19T00:18:33.526654Z",
     "iopub.status.idle": "2021-08-19T00:18:33.528568Z",
     "shell.execute_reply": "2021-08-19T00:18:33.529034Z"
    },
    "papermill": {
     "duration": 0.040508,
     "end_time": "2021-08-19T00:18:33.529170",
     "exception": false,
     "start_time": "2021-08-19T00:18:33.488662",
     "status": "completed"
    },
    "tags": []
   },
   "outputs": [],
   "source": [
    "#hide\n",
    "# cols = list(g.columns.values)"
   ]
  },
  {
   "cell_type": "code",
   "execution_count": 29,
   "id": "solved-farming",
   "metadata": {
    "execution": {
     "iopub.execute_input": "2021-08-19T00:18:33.599843Z",
     "iopub.status.busy": "2021-08-19T00:18:33.599266Z",
     "iopub.status.idle": "2021-08-19T00:18:33.601598Z",
     "shell.execute_reply": "2021-08-19T00:18:33.602064Z"
    },
    "papermill": {
     "duration": 0.040521,
     "end_time": "2021-08-19T00:18:33.602208",
     "exception": false,
     "start_time": "2021-08-19T00:18:33.561687",
     "status": "completed"
    },
    "tags": []
   },
   "outputs": [],
   "source": [
    "#hide\n",
    "# cols.insert(0, cols.pop())"
   ]
  },
  {
   "cell_type": "code",
   "execution_count": 30,
   "id": "executed-adoption",
   "metadata": {
    "execution": {
     "iopub.execute_input": "2021-08-19T00:18:33.674642Z",
     "iopub.status.busy": "2021-08-19T00:18:33.674056Z",
     "iopub.status.idle": "2021-08-19T00:18:33.676305Z",
     "shell.execute_reply": "2021-08-19T00:18:33.676859Z"
    },
    "papermill": {
     "duration": 0.041188,
     "end_time": "2021-08-19T00:18:33.676998",
     "exception": false,
     "start_time": "2021-08-19T00:18:33.635810",
     "status": "completed"
    },
    "tags": []
   },
   "outputs": [],
   "source": [
    "#hide\n",
    "# g = g[cols]"
   ]
  },
  {
   "cell_type": "code",
   "execution_count": 31,
   "id": "subject-dublin",
   "metadata": {
    "execution": {
     "iopub.execute_input": "2021-08-19T00:18:33.748471Z",
     "iopub.status.busy": "2021-08-19T00:18:33.747838Z",
     "iopub.status.idle": "2021-08-19T00:18:33.750924Z",
     "shell.execute_reply": "2021-08-19T00:18:33.750429Z"
    },
    "papermill": {
     "duration": 0.04059,
     "end_time": "2021-08-19T00:18:33.751045",
     "exception": false,
     "start_time": "2021-08-19T00:18:33.710455",
     "status": "completed"
    },
    "tags": []
   },
   "outputs": [],
   "source": [
    "#hide\n",
    "# g['continent'] = g['continent'].map(mapping['map.continent'])"
   ]
  },
  {
   "cell_type": "code",
   "execution_count": 32,
   "id": "freelance-scout",
   "metadata": {
    "execution": {
     "iopub.execute_input": "2021-08-19T00:18:33.823908Z",
     "iopub.status.busy": "2021-08-19T00:18:33.823324Z",
     "iopub.status.idle": "2021-08-19T00:18:33.825745Z",
     "shell.execute_reply": "2021-08-19T00:18:33.826332Z"
    },
    "papermill": {
     "duration": 0.04157,
     "end_time": "2021-08-19T00:18:33.826473",
     "exception": false,
     "start_time": "2021-08-19T00:18:33.784903",
     "status": "completed"
    },
    "tags": []
   },
   "outputs": [],
   "source": [
    "#hide\n",
    "# g.head()"
   ]
  },
  {
   "cell_type": "code",
   "execution_count": 33,
   "id": "limited-engine",
   "metadata": {
    "execution": {
     "iopub.execute_input": "2021-08-19T00:18:33.898892Z",
     "iopub.status.busy": "2021-08-19T00:18:33.898298Z",
     "iopub.status.idle": "2021-08-19T00:18:33.900731Z",
     "shell.execute_reply": "2021-08-19T00:18:33.901250Z"
    },
    "papermill": {
     "duration": 0.041374,
     "end_time": "2021-08-19T00:18:33.901380",
     "exception": false,
     "start_time": "2021-08-19T00:18:33.860006",
     "status": "completed"
    },
    "tags": []
   },
   "outputs": [],
   "source": [
    "# hide\n",
    "# g['date'] = g['date'].astype('datetime64[ns]')"
   ]
  },
  {
   "cell_type": "code",
   "execution_count": 34,
   "id": "sophisticated-supervisor",
   "metadata": {
    "execution": {
     "iopub.execute_input": "2021-08-19T00:18:33.974668Z",
     "iopub.status.busy": "2021-08-19T00:18:33.973399Z",
     "iopub.status.idle": "2021-08-19T00:18:33.975321Z",
     "shell.execute_reply": "2021-08-19T00:18:33.975777Z"
    },
    "papermill": {
     "duration": 0.040545,
     "end_time": "2021-08-19T00:18:33.975911",
     "exception": false,
     "start_time": "2021-08-19T00:18:33.935366",
     "status": "completed"
    },
    "tags": []
   },
   "outputs": [],
   "source": [
    "#hide\n",
    "# g['date'] = g.date.dt.dayofyear"
   ]
  },
  {
   "cell_type": "code",
   "execution_count": 35,
   "id": "inside-dubai",
   "metadata": {
    "execution": {
     "iopub.execute_input": "2021-08-19T00:18:34.048920Z",
     "iopub.status.busy": "2021-08-19T00:18:34.048333Z",
     "iopub.status.idle": "2021-08-19T00:18:34.050739Z",
     "shell.execute_reply": "2021-08-19T00:18:34.051303Z"
    },
    "papermill": {
     "duration": 0.041762,
     "end_time": "2021-08-19T00:18:34.051442",
     "exception": false,
     "start_time": "2021-08-19T00:18:34.009680",
     "status": "completed"
    },
    "tags": []
   },
   "outputs": [],
   "source": [
    "#hide\n",
    "# g = g.rename(columns= {'continent':'group','country':'name','cases':'value'})"
   ]
  },
  {
   "cell_type": "code",
   "execution_count": 36,
   "id": "fleet-motorcycle",
   "metadata": {
    "execution": {
     "iopub.execute_input": "2021-08-19T00:18:34.124946Z",
     "iopub.status.busy": "2021-08-19T00:18:34.124335Z",
     "iopub.status.idle": "2021-08-19T00:18:34.126178Z",
     "shell.execute_reply": "2021-08-19T00:18:34.126678Z"
    },
    "papermill": {
     "duration": 0.041207,
     "end_time": "2021-08-19T00:18:34.126816",
     "exception": false,
     "start_time": "2021-08-19T00:18:34.085609",
     "status": "completed"
    },
    "tags": []
   },
   "outputs": [],
   "source": [
    "#hide\n",
    "# cols = ['name','group','day','value']"
   ]
  },
  {
   "cell_type": "code",
   "execution_count": 37,
   "id": "continued-sleeping",
   "metadata": {
    "execution": {
     "iopub.execute_input": "2021-08-19T00:18:34.199956Z",
     "iopub.status.busy": "2021-08-19T00:18:34.199395Z",
     "iopub.status.idle": "2021-08-19T00:18:34.201935Z",
     "shell.execute_reply": "2021-08-19T00:18:34.202415Z"
    },
    "papermill": {
     "duration": 0.041884,
     "end_time": "2021-08-19T00:18:34.202558",
     "exception": false,
     "start_time": "2021-08-19T00:18:34.160674",
     "status": "completed"
    },
    "tags": []
   },
   "outputs": [],
   "source": [
    "#hide\n",
    "# g.rename(columns= {'date':'day'},inplace = True)"
   ]
  },
  {
   "cell_type": "code",
   "execution_count": 38,
   "id": "major-fight",
   "metadata": {
    "execution": {
     "iopub.execute_input": "2021-08-19T00:18:34.274608Z",
     "iopub.status.busy": "2021-08-19T00:18:34.274022Z",
     "iopub.status.idle": "2021-08-19T00:18:34.276127Z",
     "shell.execute_reply": "2021-08-19T00:18:34.275669Z"
    },
    "papermill": {
     "duration": 0.039366,
     "end_time": "2021-08-19T00:18:34.276238",
     "exception": false,
     "start_time": "2021-08-19T00:18:34.236872",
     "status": "completed"
    },
    "tags": []
   },
   "outputs": [],
   "source": [
    "#hide\n",
    "# g = g[cols]"
   ]
  },
  {
   "cell_type": "code",
   "execution_count": 39,
   "id": "structured-mobile",
   "metadata": {
    "execution": {
     "iopub.execute_input": "2021-08-19T00:18:34.348988Z",
     "iopub.status.busy": "2021-08-19T00:18:34.348405Z",
     "iopub.status.idle": "2021-08-19T00:18:34.350179Z",
     "shell.execute_reply": "2021-08-19T00:18:34.350678Z"
    },
    "papermill": {
     "duration": 0.040406,
     "end_time": "2021-08-19T00:18:34.350814",
     "exception": false,
     "start_time": "2021-08-19T00:18:34.310408",
     "status": "completed"
    },
    "tags": []
   },
   "outputs": [],
   "source": [
    "# #hide\n",
    "# g = g[g.group.notna()]"
   ]
  },
  {
   "cell_type": "code",
   "execution_count": 40,
   "id": "determined-closing",
   "metadata": {
    "execution": {
     "iopub.execute_input": "2021-08-19T00:18:34.423330Z",
     "iopub.status.busy": "2021-08-19T00:18:34.422754Z",
     "iopub.status.idle": "2021-08-19T00:18:34.425220Z",
     "shell.execute_reply": "2021-08-19T00:18:34.425714Z"
    },
    "papermill": {
     "duration": 0.041667,
     "end_time": "2021-08-19T00:18:34.425859",
     "exception": false,
     "start_time": "2021-08-19T00:18:34.384192",
     "status": "completed"
    },
    "tags": []
   },
   "outputs": [],
   "source": [
    "# #hide\n",
    "# colors = dict(zip(\n",
    "#     [\"Oceania\", \"Europe\", \"Asia\", \"South America\", \"Middle East\", \"North America\", \"Africa\"],\n",
    "#     [\"#adb0ff\", \"#ffb3ff\", \"#90d595\", \"#e48381\", \"#aafbff\", \"#f7bb5f\", \"#eafb50\"]\n",
    "# ))\n",
    "# group_lk = g.set_index('name')['group'].to_dict()"
   ]
  },
  {
   "cell_type": "code",
   "execution_count": null,
   "id": "gross-drinking",
   "metadata": {
    "papermill": {
     "duration": 0.033502,
     "end_time": "2021-08-19T00:18:34.492917",
     "exception": false,
     "start_time": "2021-08-19T00:18:34.459415",
     "status": "completed"
    },
    "tags": []
   },
   "outputs": [],
   "source": []
  },
  {
   "cell_type": "code",
   "execution_count": 41,
   "id": "subject-macintosh",
   "metadata": {
    "execution": {
     "iopub.execute_input": "2021-08-19T00:18:34.566359Z",
     "iopub.status.busy": "2021-08-19T00:18:34.565723Z",
     "iopub.status.idle": "2021-08-19T00:18:34.568171Z",
     "shell.execute_reply": "2021-08-19T00:18:34.568727Z"
    },
    "papermill": {
     "duration": 0.042358,
     "end_time": "2021-08-19T00:18:34.568865",
     "exception": false,
     "start_time": "2021-08-19T00:18:34.526507",
     "status": "completed"
    },
    "tags": []
   },
   "outputs": [],
   "source": [
    "# #hide\n",
    "# fig, ax = plt.subplots(figsize=(15, 8))\n",
    "\n",
    "# def draw_barchart(current_day):\n",
    "#     dff = g[g['day'].eq(current_day)].sort_values(by='value', ascending=True).tail(10)\n",
    "#     ax.clear()\n",
    "#     ax.barh(dff['name'], dff['value'], color=[colors[group_lk[x]] for x in dff['name']])\n",
    "#     dx = dff['value'].max() / 200\n",
    "    \n",
    "#     for i, (value, name) in enumerate(zip(dff['value'], dff['name'])):\n",
    "#         ax.text(value-dx, i,     name,           size=14, weight=600, ha='right', va='bottom')\n",
    "#         ax.text(value-dx, i-.25, group_lk[name], size=10, color='#444444', ha='right', va='baseline')\n",
    "#         ax.text(value+dx, i,     f'{value:,.0f}',  size=14, ha='left',  va='center')\n",
    "#     ax.text(1, 0.4, current_day, transform=ax.transAxes, color='#777777', size=46, ha='right', weight=800)\n",
    "#     ax.text(0, 1.06, 'Population (thousands)', transform=ax.transAxes, size=12, color='#777777')\n",
    "#     ax.xaxis.set_major_formatter(ticker.StrMethodFormatter('{x:,.0f}'))\n",
    "#     ax.xaxis.set_ticks_position('top')\n",
    "#     ax.tick_params(axis='x', colors='#777777', labelsize=12)\n",
    "#     ax.set_yticks([])\n",
    "#     ax.margins(0, 0.01)\n",
    "#     ax.grid(which='major', axis='x', linestyle='-')\n",
    "#     ax.set_axisbelow(True)\n",
    "    \n",
    "#     ax.text(0, 1.15, 'Coronavirus',\n",
    "#             transform=ax.transAxes, size=24, weight=600, ha='left', va='top')\n",
    "# #     ax.text(1, 0, 'by @pratapvardhan; credit @jburnmurdoch', transform=ax.transAxes, color='#777777', ha='right',\n",
    "# #             bbox=dict(facecolor='white', alpha=0.8, edgecolor='white'))\n",
    "#     plt.box(False)"
   ]
  },
  {
   "cell_type": "code",
   "execution_count": 42,
   "id": "sexual-wages",
   "metadata": {
    "execution": {
     "iopub.execute_input": "2021-08-19T00:18:34.641255Z",
     "iopub.status.busy": "2021-08-19T00:18:34.640674Z",
     "iopub.status.idle": "2021-08-19T00:18:34.643738Z",
     "shell.execute_reply": "2021-08-19T00:18:34.643272Z"
    },
    "papermill": {
     "duration": 0.041358,
     "end_time": "2021-08-19T00:18:34.643857",
     "exception": false,
     "start_time": "2021-08-19T00:18:34.602499",
     "status": "completed"
    },
    "tags": []
   },
   "outputs": [],
   "source": [
    "# #hide_input\n",
    "# fig, ax = plt.subplots(figsize=(15, 8))\n",
    "# animator = animation.FuncAnimation(fig, draw_barchart, frames=range(g.day.values.min(), g.day.values.max()))\n",
    "# HTML(animator.to_jshtml())\n",
    "# # or use animator.to_html5_video() or animator.save() "
   ]
  },
  {
   "cell_type": "code",
   "execution_count": null,
   "id": "australian-container",
   "metadata": {
    "papermill": {
     "duration": 0.03308,
     "end_time": "2021-08-19T00:18:34.710842",
     "exception": false,
     "start_time": "2021-08-19T00:18:34.677762",
     "status": "completed"
    },
    "tags": []
   },
   "outputs": [],
   "source": []
  },
  {
   "cell_type": "code",
   "execution_count": null,
   "id": "mediterranean-pontiac",
   "metadata": {
    "papermill": {
     "duration": 0.034156,
     "end_time": "2021-08-19T00:18:34.778208",
     "exception": false,
     "start_time": "2021-08-19T00:18:34.744052",
     "status": "completed"
    },
    "tags": []
   },
   "outputs": [],
   "source": []
  },
  {
   "cell_type": "code",
   "execution_count": null,
   "id": "aging-legislature",
   "metadata": {
    "papermill": {
     "duration": 0.034335,
     "end_time": "2021-08-19T00:18:34.846815",
     "exception": false,
     "start_time": "2021-08-19T00:18:34.812480",
     "status": "completed"
    },
    "tags": []
   },
   "outputs": [],
   "source": []
  }
 ],
 "metadata": {
  "kernelspec": {
   "display_name": "Python 3",
   "language": "python",
   "name": "python3"
  },
  "language_info": {
   "codemirror_mode": {
    "name": "ipython",
    "version": 3
   },
   "file_extension": ".py",
   "mimetype": "text/x-python",
   "name": "python",
   "nbconvert_exporter": "python",
   "pygments_lexer": "ipython3",
   "version": "3.6.14"
  },
  "papermill": {
   "duration": 7.358626,
   "end_time": "2021-08-19T00:18:36.113567",
   "environment_variables": {},
   "exception": null,
   "input_path": "2020-03-21-covid19exp.ipynb",
   "output_path": "2020-03-21-covid19exp.ipynb",
   "parameters": {},
   "start_time": "2021-08-19T00:18:28.754941",
   "version": "2.0.0"
  }
 },
 "nbformat": 4,
 "nbformat_minor": 5
}