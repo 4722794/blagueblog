{
 "cells": [
  {
   "cell_type": "markdown",
   "id": "muslim-click",
   "metadata": {
    "papermill": {
     "duration": 0.036878,
     "end_time": "2022-10-19T12:22:15.719931",
     "exception": false,
     "start_time": "2022-10-19T12:22:15.683053",
     "status": "completed"
    },
    "tags": []
   },
   "source": [
    "# COVID-19 Case Race\n",
    "> A race chart to see rising cases around the world\n",
    "\n",
    "- author: Hargun Oberoi\n",
    "- image: images/covid-overview.png\n",
    "- hide: false\n",
    "- badges: false"
   ]
  },
  {
   "cell_type": "code",
   "execution_count": 1,
   "id": "proof-material",
   "metadata": {
    "execution": {
     "iopub.execute_input": "2022-10-19T12:22:15.794347Z",
     "iopub.status.busy": "2022-10-19T12:22:15.793691Z",
     "iopub.status.idle": "2022-10-19T12:22:16.141589Z",
     "shell.execute_reply": "2022-10-19T12:22:16.142071Z"
    },
    "papermill": {
     "duration": 0.391422,
     "end_time": "2022-10-19T12:22:16.142243",
     "exception": false,
     "start_time": "2022-10-19T12:22:15.750821",
     "status": "completed"
    },
    "tags": []
   },
   "outputs": [],
   "source": [
    "#hide\n",
    "import numpy as np\n",
    "import pandas as pd\n",
    "from jinja2 import Template\n",
    "from IPython.display import HTML"
   ]
  },
  {
   "cell_type": "code",
   "execution_count": 2,
   "id": "developed-terminology",
   "metadata": {
    "execution": {
     "iopub.execute_input": "2022-10-19T12:22:16.208340Z",
     "iopub.status.busy": "2022-10-19T12:22:16.206133Z",
     "iopub.status.idle": "2022-10-19T12:22:16.209063Z",
     "shell.execute_reply": "2022-10-19T12:22:16.209505Z"
    },
    "papermill": {
     "duration": 0.037703,
     "end_time": "2022-10-19T12:22:16.209636",
     "exception": false,
     "start_time": "2022-10-19T12:22:16.171933",
     "status": "completed"
    },
    "tags": []
   },
   "outputs": [],
   "source": [
    "#hide\n",
    "\n",
    "# FETCH\n",
    "base_url = 'https://raw.githubusercontent.com/pratapvardhan/notebooks/master/covid19/'\n",
    "paths = {\n",
    "    'mapping': base_url + 'mapping_countries.csv',\n",
    "    'overview': base_url + 'overview.tpl'\n",
    "}"
   ]
  },
  {
   "cell_type": "code",
   "execution_count": 3,
   "id": "dynamic-saver",
   "metadata": {
    "execution": {
     "iopub.execute_input": "2022-10-19T12:22:16.278558Z",
     "iopub.status.busy": "2022-10-19T12:22:16.277942Z",
     "iopub.status.idle": "2022-10-19T12:22:16.281128Z",
     "shell.execute_reply": "2022-10-19T12:22:16.281695Z"
    },
    "papermill": {
     "duration": 0.042698,
     "end_time": "2022-10-19T12:22:16.281829",
     "exception": false,
     "start_time": "2022-10-19T12:22:16.239131",
     "status": "completed"
    },
    "tags": []
   },
   "outputs": [
    {
     "data": {
      "text/plain": [
       "'https://raw.githubusercontent.com/pratapvardhan/notebooks/master/covid19/mapping_countries.csv'"
      ]
     },
     "execution_count": 3,
     "metadata": {},
     "output_type": "execute_result"
    }
   ],
   "source": [
    "#hide\n",
    "paths['mapping']"
   ]
  },
  {
   "cell_type": "code",
   "execution_count": 4,
   "id": "urban-software",
   "metadata": {
    "execution": {
     "iopub.execute_input": "2022-10-19T12:22:16.346939Z",
     "iopub.status.busy": "2022-10-19T12:22:16.346303Z",
     "iopub.status.idle": "2022-10-19T12:22:16.348708Z",
     "shell.execute_reply": "2022-10-19T12:22:16.348123Z"
    },
    "papermill": {
     "duration": 0.037137,
     "end_time": "2022-10-19T12:22:16.348822",
     "exception": false,
     "start_time": "2022-10-19T12:22:16.311685",
     "status": "completed"
    },
    "tags": []
   },
   "outputs": [],
   "source": [
    "#hide\n",
    "def get_mappings(url):\n",
    "    df = pd.read_csv(url)\n",
    "    return {\n",
    "        'df': df,\n",
    "        'replace.country': dict(df.dropna(subset=['Name']).set_index('Country')['Name']),\n",
    "        'map.continent': dict(df.set_index('Name')['Continent'])\n",
    "    }"
   ]
  },
  {
   "cell_type": "code",
   "execution_count": 5,
   "id": "intimate-machinery",
   "metadata": {
    "execution": {
     "iopub.execute_input": "2022-10-19T12:22:16.414288Z",
     "iopub.status.busy": "2022-10-19T12:22:16.413615Z",
     "iopub.status.idle": "2022-10-19T12:22:16.448318Z",
     "shell.execute_reply": "2022-10-19T12:22:16.447314Z"
    },
    "papermill": {
     "duration": 0.069857,
     "end_time": "2022-10-19T12:22:16.448454",
     "exception": false,
     "start_time": "2022-10-19T12:22:16.378597",
     "status": "completed"
    },
    "tags": []
   },
   "outputs": [],
   "source": [
    "#hide\n",
    "mapping = get_mappings(paths['mapping'])"
   ]
  },
  {
   "cell_type": "code",
   "execution_count": 6,
   "id": "certified-tactics",
   "metadata": {
    "execution": {
     "iopub.execute_input": "2022-10-19T12:22:16.521147Z",
     "iopub.status.busy": "2022-10-19T12:22:16.520510Z",
     "iopub.status.idle": "2022-10-19T12:22:16.524928Z",
     "shell.execute_reply": "2022-10-19T12:22:16.524469Z"
    },
    "papermill": {
     "duration": 0.039402,
     "end_time": "2022-10-19T12:22:16.525047",
     "exception": false,
     "start_time": "2022-10-19T12:22:16.485645",
     "status": "completed"
    },
    "tags": []
   },
   "outputs": [],
   "source": [
    "#hide\n",
    "def get_template(path):\n",
    "    from urllib.parse import urlparse\n",
    "    if bool(urlparse(path).netloc):\n",
    "        from urllib.request import urlopen\n",
    "        return urlopen(path).read().decode('utf8')\n",
    "    return open(path).read()"
   ]
  },
  {
   "cell_type": "code",
   "execution_count": 7,
   "id": "realistic-blast",
   "metadata": {
    "execution": {
     "iopub.execute_input": "2022-10-19T12:22:16.590041Z",
     "iopub.status.busy": "2022-10-19T12:22:16.589406Z",
     "iopub.status.idle": "2022-10-19T12:22:16.592691Z",
     "shell.execute_reply": "2022-10-19T12:22:16.592046Z"
    },
    "papermill": {
     "duration": 0.038017,
     "end_time": "2022-10-19T12:22:16.592807",
     "exception": false,
     "start_time": "2022-10-19T12:22:16.554790",
     "status": "completed"
    },
    "tags": []
   },
   "outputs": [],
   "source": [
    "#hide\n",
    "def get_frame(name):\n",
    "    url = (\n",
    "        'https://raw.githubusercontent.com/CSSEGISandData/COVID-19/master/csse_covid_19_data/'\n",
    "        f'csse_covid_19_time_series/time_series_covid19_{name}_global.csv')\n",
    "    df = pd.read_csv(url)\n",
    "    # rename countries\n",
    "    df['Country/Region'] = df['Country/Region'].replace(mapping['replace.country'])\n",
    "    return df"
   ]
  },
  {
   "cell_type": "code",
   "execution_count": 8,
   "id": "affiliated-characterization",
   "metadata": {
    "execution": {
     "iopub.execute_input": "2022-10-19T12:22:16.658588Z",
     "iopub.status.busy": "2022-10-19T12:22:16.657964Z",
     "iopub.status.idle": "2022-10-19T12:22:16.660598Z",
     "shell.execute_reply": "2022-10-19T12:22:16.660113Z"
    },
    "papermill": {
     "duration": 0.038146,
     "end_time": "2022-10-19T12:22:16.660710",
     "exception": false,
     "start_time": "2022-10-19T12:22:16.622564",
     "status": "completed"
    },
    "tags": []
   },
   "outputs": [],
   "source": [
    "#hide\n",
    "def get_dates(df):\n",
    "    dt_cols = df.columns[~df.columns.isin(['Province/State', 'Country/Region', 'Lat', 'Long'])]\n",
    "    LAST_DATE_I = -1\n",
    "    # sometimes last column may be empty, then go backwards\n",
    "    for i in range(-1, -len(dt_cols), -1):\n",
    "        if not df[dt_cols[i]].fillna(0).eq(0).all():\n",
    "            LAST_DATE_I = i\n",
    "            break\n",
    "    return LAST_DATE_I, dt_cols"
   ]
  },
  {
   "cell_type": "code",
   "execution_count": 9,
   "id": "recent-optimization",
   "metadata": {
    "execution": {
     "iopub.execute_input": "2022-10-19T12:22:16.725419Z",
     "iopub.status.busy": "2022-10-19T12:22:16.724719Z",
     "iopub.status.idle": "2022-10-19T12:22:17.115538Z",
     "shell.execute_reply": "2022-10-19T12:22:17.116054Z"
    },
    "papermill": {
     "duration": 0.425975,
     "end_time": "2022-10-19T12:22:17.116247",
     "exception": false,
     "start_time": "2022-10-19T12:22:16.690272",
     "status": "completed"
    },
    "tags": []
   },
   "outputs": [],
   "source": [
    "#hide\n",
    "COL_REGION = 'Country/Region'\n",
    "# Confirmed, Recovered, Deaths\n",
    "df = get_frame('confirmed')\n",
    "# dft_: timeseries, dfc_: today country agg\n",
    "dft_cases = df\n",
    "dft_deaths = get_frame('deaths')\n",
    "dft_recovered = get_frame('recovered')\n",
    "LAST_DATE_I, dt_cols = get_dates(df)"
   ]
  },
  {
   "cell_type": "code",
   "execution_count": 10,
   "id": "absolute-copper",
   "metadata": {
    "execution": {
     "iopub.execute_input": "2022-10-19T12:22:17.182164Z",
     "iopub.status.busy": "2022-10-19T12:22:17.181447Z",
     "iopub.status.idle": "2022-10-19T12:22:17.183122Z",
     "shell.execute_reply": "2022-10-19T12:22:17.183656Z"
    },
    "papermill": {
     "duration": 0.037301,
     "end_time": "2022-10-19T12:22:17.183797",
     "exception": false,
     "start_time": "2022-10-19T12:22:17.146496",
     "status": "completed"
    },
    "tags": []
   },
   "outputs": [],
   "source": [
    "#hide\n",
    "LAST_DATE_I, dt_cols = get_dates(df)\n",
    "dt_today =dt_cols[LAST_DATE_I]\n",
    "# dt_5day = dt_cols[LAST_DATE_I - 5]\n",
    "dt_yday = dt_cols[LAST_DATE_I - 1]"
   ]
  },
  {
   "cell_type": "code",
   "execution_count": 11,
   "id": "restricted-sheriff",
   "metadata": {
    "execution": {
     "iopub.execute_input": "2022-10-19T12:22:17.249453Z",
     "iopub.status.busy": "2022-10-19T12:22:17.248856Z",
     "iopub.status.idle": "2022-10-19T12:22:17.257942Z",
     "shell.execute_reply": "2022-10-19T12:22:17.258433Z"
    },
    "papermill": {
     "duration": 0.044561,
     "end_time": "2022-10-19T12:22:17.258571",
     "exception": false,
     "start_time": "2022-10-19T12:22:17.214010",
     "status": "completed"
    },
    "tags": []
   },
   "outputs": [],
   "source": [
    "#hide\n",
    "dfc_cases = dft_cases.groupby(COL_REGION)[dt_today].sum()\n",
    "dfc_deaths = dft_deaths.groupby(COL_REGION)[dt_today].sum()\n",
    "# dfp_cases = dft_cases.groupby(COL_REGION)[dt_5day].sum()\n",
    "# dfp_deaths = dft_deaths.groupby(COL_REGION)[dt_5day].sum()\n",
    "dfp_cases = dft_cases.groupby(COL_REGION)[dt_yday].sum()\n",
    "dfp_deaths = dft_deaths.groupby(COL_REGION)[dt_yday].sum()"
   ]
  },
  {
   "cell_type": "code",
   "execution_count": 12,
   "id": "deluxe-hepatitis",
   "metadata": {
    "execution": {
     "iopub.execute_input": "2022-10-19T12:22:17.324882Z",
     "iopub.status.busy": "2022-10-19T12:22:17.324265Z",
     "iopub.status.idle": "2022-10-19T12:22:17.329104Z",
     "shell.execute_reply": "2022-10-19T12:22:17.328651Z"
    },
    "papermill": {
     "duration": 0.040746,
     "end_time": "2022-10-19T12:22:17.329220",
     "exception": false,
     "start_time": "2022-10-19T12:22:17.288474",
     "status": "completed"
    },
    "tags": []
   },
   "outputs": [],
   "source": [
    "#hide\n",
    "df_table = (pd.DataFrame(dict(Cases = dfc_cases, Deaths = dfc_deaths, PCases = dfp_cases, PDeaths = dfp_deaths))\n",
    "            .sort_values(by = ['Cases','Deaths'], ascending = [False, False])\n",
    "            .reset_index())"
   ]
  },
  {
   "cell_type": "code",
   "execution_count": 13,
   "id": "educational-chancellor",
   "metadata": {
    "execution": {
     "iopub.execute_input": "2022-10-19T12:22:17.410383Z",
     "iopub.status.busy": "2022-10-19T12:22:17.405828Z",
     "iopub.status.idle": "2022-10-19T12:22:17.413811Z",
     "shell.execute_reply": "2022-10-19T12:22:17.413336Z"
    },
    "papermill": {
     "duration": 0.055154,
     "end_time": "2022-10-19T12:22:17.413923",
     "exception": false,
     "start_time": "2022-10-19T12:22:17.358769",
     "status": "completed"
    },
    "tags": []
   },
   "outputs": [
    {
     "data": {
      "text/html": [
       "<div>\n",
       "<style scoped>\n",
       "    .dataframe tbody tr th:only-of-type {\n",
       "        vertical-align: middle;\n",
       "    }\n",
       "\n",
       "    .dataframe tbody tr th {\n",
       "        vertical-align: top;\n",
       "    }\n",
       "\n",
       "    .dataframe thead th {\n",
       "        text-align: right;\n",
       "    }\n",
       "</style>\n",
       "<table border=\"1\" class=\"dataframe\">\n",
       "  <thead>\n",
       "    <tr style=\"text-align: right;\">\n",
       "      <th></th>\n",
       "      <th>Country/Region</th>\n",
       "      <th>Cases</th>\n",
       "      <th>Deaths</th>\n",
       "      <th>PCases</th>\n",
       "      <th>PDeaths</th>\n",
       "      <th>Cases (+)</th>\n",
       "      <th>Deaths (+)</th>\n",
       "      <th>Fatality Rate</th>\n",
       "      <th>Continent</th>\n",
       "    </tr>\n",
       "  </thead>\n",
       "  <tbody>\n",
       "    <tr>\n",
       "      <th>0</th>\n",
       "      <td>US</td>\n",
       "      <td>97023298</td>\n",
       "      <td>1065841</td>\n",
       "      <td>96990467</td>\n",
       "      <td>1065441</td>\n",
       "      <td>32831</td>\n",
       "      <td>400</td>\n",
       "      <td>1.10</td>\n",
       "      <td>North America</td>\n",
       "    </tr>\n",
       "    <tr>\n",
       "      <th>1</th>\n",
       "      <td>India</td>\n",
       "      <td>44634376</td>\n",
       "      <td>528923</td>\n",
       "      <td>44632430</td>\n",
       "      <td>528913</td>\n",
       "      <td>1946</td>\n",
       "      <td>10</td>\n",
       "      <td>1.19</td>\n",
       "      <td>Asia</td>\n",
       "    </tr>\n",
       "    <tr>\n",
       "      <th>2</th>\n",
       "      <td>France</td>\n",
       "      <td>36573007</td>\n",
       "      <td>157121</td>\n",
       "      <td>36485341</td>\n",
       "      <td>157020</td>\n",
       "      <td>87666</td>\n",
       "      <td>101</td>\n",
       "      <td>0.43</td>\n",
       "      <td>Europe</td>\n",
       "    </tr>\n",
       "    <tr>\n",
       "      <th>3</th>\n",
       "      <td>Germany</td>\n",
       "      <td>34888963</td>\n",
       "      <td>151877</td>\n",
       "      <td>34758889</td>\n",
       "      <td>151629</td>\n",
       "      <td>130074</td>\n",
       "      <td>248</td>\n",
       "      <td>0.44</td>\n",
       "      <td>Europe</td>\n",
       "    </tr>\n",
       "    <tr>\n",
       "      <th>4</th>\n",
       "      <td>Brazil</td>\n",
       "      <td>34746462</td>\n",
       "      <td>687144</td>\n",
       "      <td>34746462</td>\n",
       "      <td>687144</td>\n",
       "      <td>0</td>\n",
       "      <td>0</td>\n",
       "      <td>1.98</td>\n",
       "      <td>South America</td>\n",
       "    </tr>\n",
       "  </tbody>\n",
       "</table>\n",
       "</div>"
      ],
      "text/plain": [
       "  Country/Region     Cases   Deaths    PCases  PDeaths  Cases (+)  Deaths (+)  \\\n",
       "0             US  97023298  1065841  96990467  1065441      32831         400   \n",
       "1          India  44634376   528923  44632430   528913       1946          10   \n",
       "2         France  36573007   157121  36485341   157020      87666         101   \n",
       "3        Germany  34888963   151877  34758889   151629     130074         248   \n",
       "4         Brazil  34746462   687144  34746462   687144          0           0   \n",
       "\n",
       "   Fatality Rate      Continent  \n",
       "0           1.10  North America  \n",
       "1           1.19           Asia  \n",
       "2           0.43         Europe  \n",
       "3           0.44         Europe  \n",
       "4           1.98  South America  "
      ]
     },
     "execution_count": 13,
     "metadata": {},
     "output_type": "execute_result"
    }
   ],
   "source": [
    "#hide\n",
    "for c in 'Cases, Deaths'.split(', '):\n",
    "    df_table[f'{c} (+)'] = (df_table[c] - df_table[f'P{c}']).clip(0)\n",
    "    #Clip ça veut dire, les chiffres negatif sont interdit\n",
    "df_table['Fatality Rate'] = (100* df_table['Deaths']/ df_table['Cases']).round(2)\n",
    "df_table['Continent'] = df_table['Country/Region'].map(mapping['map.continent'])\n",
    "df_table.head(5)"
   ]
  },
  {
   "cell_type": "code",
   "execution_count": 14,
   "id": "aboriginal-bulgaria",
   "metadata": {
    "execution": {
     "iopub.execute_input": "2022-10-19T12:22:17.480428Z",
     "iopub.status.busy": "2022-10-19T12:22:17.479742Z",
     "iopub.status.idle": "2022-10-19T12:22:17.481626Z",
     "shell.execute_reply": "2022-10-19T12:22:17.482091Z"
    },
    "papermill": {
     "duration": 0.038032,
     "end_time": "2022-10-19T12:22:17.482224",
     "exception": false,
     "start_time": "2022-10-19T12:22:17.444192",
     "status": "completed"
    },
    "tags": []
   },
   "outputs": [],
   "source": [
    "#hide\n",
    "#delete problematic countries from table\n",
    "df_table = df_table[~df_table['Country/Region'].isin(['Cape Verde', 'Cruise Ship', 'Kosovo'])]"
   ]
  },
  {
   "cell_type": "code",
   "execution_count": 15,
   "id": "fantastic-effect",
   "metadata": {
    "execution": {
     "iopub.execute_input": "2022-10-19T12:22:17.550607Z",
     "iopub.status.busy": "2022-10-19T12:22:17.549983Z",
     "iopub.status.idle": "2022-10-19T12:22:17.568313Z",
     "shell.execute_reply": "2022-10-19T12:22:17.569035Z"
    },
    "papermill": {
     "duration": 0.056782,
     "end_time": "2022-10-19T12:22:17.569247",
     "exception": false,
     "start_time": "2022-10-19T12:22:17.512465",
     "status": "completed"
    },
    "tags": []
   },
   "outputs": [
    {
     "data": {
      "text/html": [
       "<div>\n",
       "<style scoped>\n",
       "    .dataframe tbody tr th:only-of-type {\n",
       "        vertical-align: middle;\n",
       "    }\n",
       "\n",
       "    .dataframe tbody tr th {\n",
       "        vertical-align: top;\n",
       "    }\n",
       "\n",
       "    .dataframe thead th {\n",
       "        text-align: right;\n",
       "    }\n",
       "</style>\n",
       "<table border=\"1\" class=\"dataframe\">\n",
       "  <thead>\n",
       "    <tr style=\"text-align: right;\">\n",
       "      <th></th>\n",
       "      <th>Country/Region</th>\n",
       "      <th>Cases</th>\n",
       "      <th>Deaths</th>\n",
       "      <th>PCases</th>\n",
       "      <th>PDeaths</th>\n",
       "      <th>Cases (+)</th>\n",
       "      <th>Deaths (+)</th>\n",
       "      <th>Fatality Rate</th>\n",
       "      <th>Continent</th>\n",
       "    </tr>\n",
       "  </thead>\n",
       "  <tbody>\n",
       "    <tr>\n",
       "      <th>0</th>\n",
       "      <td>US</td>\n",
       "      <td>97023298</td>\n",
       "      <td>1065841</td>\n",
       "      <td>96990467</td>\n",
       "      <td>1065441</td>\n",
       "      <td>32831</td>\n",
       "      <td>400</td>\n",
       "      <td>1.1</td>\n",
       "      <td>North America</td>\n",
       "    </tr>\n",
       "    <tr>\n",
       "      <th>1</th>\n",
       "      <td>India</td>\n",
       "      <td>44634376</td>\n",
       "      <td>528923</td>\n",
       "      <td>44632430</td>\n",
       "      <td>528913</td>\n",
       "      <td>1946</td>\n",
       "      <td>10</td>\n",
       "      <td>1.2</td>\n",
       "      <td>Asia</td>\n",
       "    </tr>\n",
       "    <tr>\n",
       "      <th>2</th>\n",
       "      <td>France</td>\n",
       "      <td>36573007</td>\n",
       "      <td>157121</td>\n",
       "      <td>36485341</td>\n",
       "      <td>157020</td>\n",
       "      <td>87666</td>\n",
       "      <td>101</td>\n",
       "      <td>0.4</td>\n",
       "      <td>Europe</td>\n",
       "    </tr>\n",
       "    <tr>\n",
       "      <th>3</th>\n",
       "      <td>Germany</td>\n",
       "      <td>34888963</td>\n",
       "      <td>151877</td>\n",
       "      <td>34758889</td>\n",
       "      <td>151629</td>\n",
       "      <td>130074</td>\n",
       "      <td>248</td>\n",
       "      <td>0.4</td>\n",
       "      <td>Europe</td>\n",
       "    </tr>\n",
       "    <tr>\n",
       "      <th>4</th>\n",
       "      <td>Brazil</td>\n",
       "      <td>34746462</td>\n",
       "      <td>687144</td>\n",
       "      <td>34746462</td>\n",
       "      <td>687144</td>\n",
       "      <td>0</td>\n",
       "      <td>0</td>\n",
       "      <td>2.0</td>\n",
       "      <td>South America</td>\n",
       "    </tr>\n",
       "  </tbody>\n",
       "</table>\n",
       "</div>"
      ],
      "text/plain": [
       "  Country/Region     Cases   Deaths    PCases  PDeaths  Cases (+)  Deaths (+)  \\\n",
       "0             US  97023298  1065841  96990467  1065441      32831         400   \n",
       "1          India  44634376   528923  44632430   528913       1946          10   \n",
       "2         France  36573007   157121  36485341   157020      87666         101   \n",
       "3        Germany  34888963   151877  34758889   151629     130074         248   \n",
       "4         Brazil  34746462   687144  34746462   687144          0           0   \n",
       "\n",
       "   Fatality Rate      Continent  \n",
       "0            1.1  North America  \n",
       "1            1.2           Asia  \n",
       "2            0.4         Europe  \n",
       "3            0.4         Europe  \n",
       "4            2.0  South America  "
      ]
     },
     "execution_count": 15,
     "metadata": {},
     "output_type": "execute_result"
    }
   ],
   "source": [
    "#hide\n",
    "df_table = (pd.DataFrame(dict(Cases=dfc_cases, Deaths=dfc_deaths, PCases=dfp_cases, PDeaths=dfp_deaths))\n",
    "             .sort_values(by=['Cases', 'Deaths'], ascending=[False, False])\n",
    "             .reset_index())\n",
    "df_table.rename(columns={'index': 'Country/Region'}, inplace=True)\n",
    "for c in 'Cases, Deaths'.split(', '):\n",
    "    df_table[f'{c} (+)'] = (df_table[c] - df_table[f'P{c}']).clip(0)  # DATA BUG\n",
    "df_table['Fatality Rate'] = (100 * df_table['Deaths'] / df_table['Cases']).round(1)\n",
    "df_table['Continent'] = df_table['Country/Region'].map(mapping['map.continent'])\n",
    "df_table.head(5)"
   ]
  },
  {
   "cell_type": "code",
   "execution_count": 16,
   "id": "fewer-occasion",
   "metadata": {
    "execution": {
     "iopub.execute_input": "2022-10-19T12:22:17.641504Z",
     "iopub.status.busy": "2022-10-19T12:22:17.640876Z",
     "iopub.status.idle": "2022-10-19T12:22:17.643299Z",
     "shell.execute_reply": "2022-10-19T12:22:17.642725Z"
    },
    "papermill": {
     "duration": 0.038902,
     "end_time": "2022-10-19T12:22:17.643409",
     "exception": false,
     "start_time": "2022-10-19T12:22:17.604507",
     "status": "completed"
    },
    "tags": []
   },
   "outputs": [],
   "source": [
    "#hide\n",
    "#delete problematic countries from table\n",
    "df_table = df_table[~df_table['Country/Region'].isin(['Cape Verde', 'Cruise Ship', 'Kosovo'])]"
   ]
  },
  {
   "cell_type": "code",
   "execution_count": 17,
   "id": "related-center",
   "metadata": {
    "execution": {
     "iopub.execute_input": "2022-10-19T12:22:17.723673Z",
     "iopub.status.busy": "2022-10-19T12:22:17.723011Z",
     "iopub.status.idle": "2022-10-19T12:22:17.725500Z",
     "shell.execute_reply": "2022-10-19T12:22:17.725002Z"
    },
    "papermill": {
     "duration": 0.051573,
     "end_time": "2022-10-19T12:22:17.725617",
     "exception": false,
     "start_time": "2022-10-19T12:22:17.674044",
     "status": "completed"
    },
    "tags": []
   },
   "outputs": [],
   "source": [
    "#hide\n",
    "metrics = [df_table.columns[index] for index in [1,2,5,6]]\n",
    "# s_china = df_table[df_table['Country/Region'].eq('China')][metrics].sum().add_prefix('China ')\n",
    "s_us = df_table[df_table['Country/Region'].eq('US')][metrics].sum().add_prefix('US ')\n",
    "s_eu = df_table[df_table['Continent'].eq('Europe')][metrics].sum().add_prefix('EU ')\n",
    "s_ind = df_table[df_table['Country/Region'].eq('India')][metrics].sum().add_prefix('India ')\n",
    "summary = {'updated': pd.to_datetime(dt_today), 'since': pd.to_datetime(dt_yday)}\n",
    "summary = {'updated': pd.to_datetime(dt_today), 'since': pd.to_datetime(dt_yday)}\n",
    "summary = {**summary, **df_table[metrics].sum(), **s_ind, **s_us, **s_eu}"
   ]
  },
  {
   "cell_type": "code",
   "execution_count": 18,
   "id": "engaging-syndrome",
   "metadata": {
    "execution": {
     "iopub.execute_input": "2022-10-19T12:22:17.793728Z",
     "iopub.status.busy": "2022-10-19T12:22:17.793105Z",
     "iopub.status.idle": "2022-10-19T12:22:17.816011Z",
     "shell.execute_reply": "2022-10-19T12:22:17.815498Z"
    },
    "papermill": {
     "duration": 0.059028,
     "end_time": "2022-10-19T12:22:17.816182",
     "exception": false,
     "start_time": "2022-10-19T12:22:17.757154",
     "status": "completed"
    },
    "tags": []
   },
   "outputs": [],
   "source": [
    "#hide\n",
    "dft_ct_new_cases = dft_cases.groupby(COL_REGION)[dt_cols].sum().diff(axis=1).fillna(0).astype(int)"
   ]
  },
  {
   "cell_type": "code",
   "execution_count": 19,
   "id": "neutral-assignment",
   "metadata": {
    "execution": {
     "iopub.execute_input": "2022-10-19T12:22:17.886203Z",
     "iopub.status.busy": "2022-10-19T12:22:17.885579Z",
     "iopub.status.idle": "2022-10-19T12:22:17.887961Z",
     "shell.execute_reply": "2022-10-19T12:22:17.887375Z"
    },
    "papermill": {
     "duration": 0.040891,
     "end_time": "2022-10-19T12:22:17.888076",
     "exception": false,
     "start_time": "2022-10-19T12:22:17.847185",
     "status": "completed"
    },
    "tags": []
   },
   "outputs": [],
   "source": [
    "#hide\n",
    "everydaycases = dft_ct_new_cases.cumsum(axis=1)"
   ]
  },
  {
   "cell_type": "code",
   "execution_count": 20,
   "id": "parliamentary-calgary",
   "metadata": {
    "execution": {
     "iopub.execute_input": "2022-10-19T12:22:17.956667Z",
     "iopub.status.busy": "2022-10-19T12:22:17.954547Z",
     "iopub.status.idle": "2022-10-19T12:22:18.522162Z",
     "shell.execute_reply": "2022-10-19T12:22:18.520940Z"
    },
    "papermill": {
     "duration": 0.603286,
     "end_time": "2022-10-19T12:22:18.522318",
     "exception": false,
     "start_time": "2022-10-19T12:22:17.919032",
     "status": "completed"
    },
    "tags": []
   },
   "outputs": [],
   "source": [
    "#hide\n",
    "import pandas as pd\n",
    "import matplotlib.pyplot as plt\n",
    "import matplotlib.ticker as ticker\n",
    "import matplotlib.animation as animation\n",
    "from IPython.display import HTML"
   ]
  },
  {
   "cell_type": "code",
   "execution_count": 21,
   "id": "lasting-extraction",
   "metadata": {
    "execution": {
     "iopub.execute_input": "2022-10-19T12:22:18.591357Z",
     "iopub.status.busy": "2022-10-19T12:22:18.590726Z",
     "iopub.status.idle": "2022-10-19T12:22:18.601829Z",
     "shell.execute_reply": "2022-10-19T12:22:18.601335Z"
    },
    "papermill": {
     "duration": 0.048608,
     "end_time": "2022-10-19T12:22:18.601953",
     "exception": false,
     "start_time": "2022-10-19T12:22:18.553345",
     "status": "completed"
    },
    "tags": []
   },
   "outputs": [],
   "source": [
    "#hide\n",
    "t = everydaycases.stack()"
   ]
  },
  {
   "cell_type": "code",
   "execution_count": 22,
   "id": "premier-sleeve",
   "metadata": {
    "execution": {
     "iopub.execute_input": "2022-10-19T12:22:18.677043Z",
     "iopub.status.busy": "2022-10-19T12:22:18.676407Z",
     "iopub.status.idle": "2022-10-19T12:22:18.689554Z",
     "shell.execute_reply": "2022-10-19T12:22:18.688981Z"
    },
    "papermill": {
     "duration": 0.049807,
     "end_time": "2022-10-19T12:22:18.689687",
     "exception": false,
     "start_time": "2022-10-19T12:22:18.639880",
     "status": "completed"
    },
    "tags": []
   },
   "outputs": [],
   "source": [
    "#hide\n",
    "g = t.reset_index(['Country/Region'])"
   ]
  },
  {
   "cell_type": "code",
   "execution_count": 23,
   "id": "distributed-pittsburgh",
   "metadata": {
    "execution": {
     "iopub.execute_input": "2022-10-19T12:22:18.765883Z",
     "iopub.status.busy": "2022-10-19T12:22:18.765265Z",
     "iopub.status.idle": "2022-10-19T12:22:18.768087Z",
     "shell.execute_reply": "2022-10-19T12:22:18.767633Z"
    },
    "papermill": {
     "duration": 0.043937,
     "end_time": "2022-10-19T12:22:18.768231",
     "exception": false,
     "start_time": "2022-10-19T12:22:18.724294",
     "status": "completed"
    },
    "tags": []
   },
   "outputs": [],
   "source": [
    "#hide\n",
    "g.index.name = 'date'"
   ]
  },
  {
   "cell_type": "code",
   "execution_count": 24,
   "id": "naked-donor",
   "metadata": {
    "execution": {
     "iopub.execute_input": "2022-10-19T12:22:18.844625Z",
     "iopub.status.busy": "2022-10-19T12:22:18.843879Z",
     "iopub.status.idle": "2022-10-19T12:22:18.847625Z",
     "shell.execute_reply": "2022-10-19T12:22:18.847085Z"
    },
    "papermill": {
     "duration": 0.044998,
     "end_time": "2022-10-19T12:22:18.847750",
     "exception": false,
     "start_time": "2022-10-19T12:22:18.802752",
     "status": "completed"
    },
    "tags": []
   },
   "outputs": [],
   "source": [
    "# #hide\n",
    "# g = g.reset_index(['date'])"
   ]
  },
  {
   "cell_type": "code",
   "execution_count": 25,
   "id": "incomplete-mustang",
   "metadata": {
    "execution": {
     "iopub.execute_input": "2022-10-19T12:22:18.913573Z",
     "iopub.status.busy": "2022-10-19T12:22:18.912865Z",
     "iopub.status.idle": "2022-10-19T12:22:18.915389Z",
     "shell.execute_reply": "2022-10-19T12:22:18.914809Z"
    },
    "papermill": {
     "duration": 0.036702,
     "end_time": "2022-10-19T12:22:18.915502",
     "exception": false,
     "start_time": "2022-10-19T12:22:18.878800",
     "status": "completed"
    },
    "tags": []
   },
   "outputs": [],
   "source": [
    "#hide\n",
    "# g.head()"
   ]
  },
  {
   "cell_type": "code",
   "execution_count": 26,
   "id": "specific-kruger",
   "metadata": {
    "execution": {
     "iopub.execute_input": "2022-10-19T12:22:18.981290Z",
     "iopub.status.busy": "2022-10-19T12:22:18.980706Z",
     "iopub.status.idle": "2022-10-19T12:22:18.983390Z",
     "shell.execute_reply": "2022-10-19T12:22:18.982923Z"
    },
    "papermill": {
     "duration": 0.037114,
     "end_time": "2022-10-19T12:22:18.983501",
     "exception": false,
     "start_time": "2022-10-19T12:22:18.946387",
     "status": "completed"
    },
    "tags": []
   },
   "outputs": [],
   "source": [
    "#hide\n",
    "# g.columns = ['date','country','cases']"
   ]
  },
  {
   "cell_type": "code",
   "execution_count": 27,
   "id": "tender-conversion",
   "metadata": {
    "execution": {
     "iopub.execute_input": "2022-10-19T12:22:19.048701Z",
     "iopub.status.busy": "2022-10-19T12:22:19.048053Z",
     "iopub.status.idle": "2022-10-19T12:22:19.050653Z",
     "shell.execute_reply": "2022-10-19T12:22:19.051124Z"
    },
    "papermill": {
     "duration": 0.0372,
     "end_time": "2022-10-19T12:22:19.051256",
     "exception": false,
     "start_time": "2022-10-19T12:22:19.014056",
     "status": "completed"
    },
    "tags": []
   },
   "outputs": [],
   "source": [
    "#hide\n",
    "# g['continent'] = g.country"
   ]
  },
  {
   "cell_type": "code",
   "execution_count": 28,
   "id": "substantial-wilderness",
   "metadata": {
    "execution": {
     "iopub.execute_input": "2022-10-19T12:22:19.117162Z",
     "iopub.status.busy": "2022-10-19T12:22:19.116453Z",
     "iopub.status.idle": "2022-10-19T12:22:19.119301Z",
     "shell.execute_reply": "2022-10-19T12:22:19.118826Z"
    },
    "papermill": {
     "duration": 0.037402,
     "end_time": "2022-10-19T12:22:19.119413",
     "exception": false,
     "start_time": "2022-10-19T12:22:19.082011",
     "status": "completed"
    },
    "tags": []
   },
   "outputs": [],
   "source": [
    "#hide\n",
    "# cols = list(g.columns.values)"
   ]
  },
  {
   "cell_type": "code",
   "execution_count": 29,
   "id": "solved-farming",
   "metadata": {
    "execution": {
     "iopub.execute_input": "2022-10-19T12:22:19.184535Z",
     "iopub.status.busy": "2022-10-19T12:22:19.183892Z",
     "iopub.status.idle": "2022-10-19T12:22:19.187153Z",
     "shell.execute_reply": "2022-10-19T12:22:19.186684Z"
    },
    "papermill": {
     "duration": 0.037154,
     "end_time": "2022-10-19T12:22:19.187258",
     "exception": false,
     "start_time": "2022-10-19T12:22:19.150104",
     "status": "completed"
    },
    "tags": []
   },
   "outputs": [],
   "source": [
    "#hide\n",
    "# cols.insert(0, cols.pop())"
   ]
  },
  {
   "cell_type": "code",
   "execution_count": 30,
   "id": "executed-adoption",
   "metadata": {
    "execution": {
     "iopub.execute_input": "2022-10-19T12:22:19.252399Z",
     "iopub.status.busy": "2022-10-19T12:22:19.251756Z",
     "iopub.status.idle": "2022-10-19T12:22:19.256724Z",
     "shell.execute_reply": "2022-10-19T12:22:19.257170Z"
    },
    "papermill": {
     "duration": 0.03954,
     "end_time": "2022-10-19T12:22:19.257301",
     "exception": false,
     "start_time": "2022-10-19T12:22:19.217761",
     "status": "completed"
    },
    "tags": []
   },
   "outputs": [],
   "source": [
    "#hide\n",
    "# g = g[cols]"
   ]
  },
  {
   "cell_type": "code",
   "execution_count": 31,
   "id": "subject-dublin",
   "metadata": {
    "execution": {
     "iopub.execute_input": "2022-10-19T12:22:19.322478Z",
     "iopub.status.busy": "2022-10-19T12:22:19.321779Z",
     "iopub.status.idle": "2022-10-19T12:22:19.325730Z",
     "shell.execute_reply": "2022-10-19T12:22:19.326148Z"
    },
    "papermill": {
     "duration": 0.038439,
     "end_time": "2022-10-19T12:22:19.326279",
     "exception": false,
     "start_time": "2022-10-19T12:22:19.287840",
     "status": "completed"
    },
    "tags": []
   },
   "outputs": [],
   "source": [
    "#hide\n",
    "# g['continent'] = g['continent'].map(mapping['map.continent'])"
   ]
  },
  {
   "cell_type": "code",
   "execution_count": 32,
   "id": "freelance-scout",
   "metadata": {
    "execution": {
     "iopub.execute_input": "2022-10-19T12:22:19.393481Z",
     "iopub.status.busy": "2022-10-19T12:22:19.392793Z",
     "iopub.status.idle": "2022-10-19T12:22:19.395768Z",
     "shell.execute_reply": "2022-10-19T12:22:19.395198Z"
    },
    "papermill": {
     "duration": 0.039047,
     "end_time": "2022-10-19T12:22:19.395878",
     "exception": false,
     "start_time": "2022-10-19T12:22:19.356831",
     "status": "completed"
    },
    "tags": []
   },
   "outputs": [],
   "source": [
    "#hide\n",
    "# g.head()"
   ]
  },
  {
   "cell_type": "code",
   "execution_count": 33,
   "id": "limited-engine",
   "metadata": {
    "execution": {
     "iopub.execute_input": "2022-10-19T12:22:19.461424Z",
     "iopub.status.busy": "2022-10-19T12:22:19.460812Z",
     "iopub.status.idle": "2022-10-19T12:22:19.463436Z",
     "shell.execute_reply": "2022-10-19T12:22:19.462953Z"
    },
    "papermill": {
     "duration": 0.036968,
     "end_time": "2022-10-19T12:22:19.463548",
     "exception": false,
     "start_time": "2022-10-19T12:22:19.426580",
     "status": "completed"
    },
    "tags": []
   },
   "outputs": [],
   "source": [
    "# hide\n",
    "# g['date'] = g['date'].astype('datetime64[ns]')"
   ]
  },
  {
   "cell_type": "code",
   "execution_count": 34,
   "id": "sophisticated-supervisor",
   "metadata": {
    "execution": {
     "iopub.execute_input": "2022-10-19T12:22:19.529174Z",
     "iopub.status.busy": "2022-10-19T12:22:19.528566Z",
     "iopub.status.idle": "2022-10-19T12:22:19.531164Z",
     "shell.execute_reply": "2022-10-19T12:22:19.530602Z"
    },
    "papermill": {
     "duration": 0.036965,
     "end_time": "2022-10-19T12:22:19.531271",
     "exception": false,
     "start_time": "2022-10-19T12:22:19.494306",
     "status": "completed"
    },
    "tags": []
   },
   "outputs": [],
   "source": [
    "#hide\n",
    "# g['date'] = g.date.dt.dayofyear"
   ]
  },
  {
   "cell_type": "code",
   "execution_count": 35,
   "id": "inside-dubai",
   "metadata": {
    "execution": {
     "iopub.execute_input": "2022-10-19T12:22:19.599029Z",
     "iopub.status.busy": "2022-10-19T12:22:19.596811Z",
     "iopub.status.idle": "2022-10-19T12:22:19.600212Z",
     "shell.execute_reply": "2022-10-19T12:22:19.600699Z"
    },
    "papermill": {
     "duration": 0.039315,
     "end_time": "2022-10-19T12:22:19.601052",
     "exception": false,
     "start_time": "2022-10-19T12:22:19.561737",
     "status": "completed"
    },
    "tags": []
   },
   "outputs": [],
   "source": [
    "#hide\n",
    "# g = g.rename(columns= {'continent':'group','country':'name','cases':'value'})"
   ]
  },
  {
   "cell_type": "code",
   "execution_count": 36,
   "id": "fleet-motorcycle",
   "metadata": {
    "execution": {
     "iopub.execute_input": "2022-10-19T12:22:19.667748Z",
     "iopub.status.busy": "2022-10-19T12:22:19.667164Z",
     "iopub.status.idle": "2022-10-19T12:22:19.670036Z",
     "shell.execute_reply": "2022-10-19T12:22:19.669567Z"
    },
    "papermill": {
     "duration": 0.037313,
     "end_time": "2022-10-19T12:22:19.670141",
     "exception": false,
     "start_time": "2022-10-19T12:22:19.632828",
     "status": "completed"
    },
    "tags": []
   },
   "outputs": [],
   "source": [
    "#hide\n",
    "# cols = ['name','group','day','value']"
   ]
  },
  {
   "cell_type": "code",
   "execution_count": 37,
   "id": "continued-sleeping",
   "metadata": {
    "execution": {
     "iopub.execute_input": "2022-10-19T12:22:19.735523Z",
     "iopub.status.busy": "2022-10-19T12:22:19.734792Z",
     "iopub.status.idle": "2022-10-19T12:22:19.736615Z",
     "shell.execute_reply": "2022-10-19T12:22:19.737161Z"
    },
    "papermill": {
     "duration": 0.036767,
     "end_time": "2022-10-19T12:22:19.737304",
     "exception": false,
     "start_time": "2022-10-19T12:22:19.700537",
     "status": "completed"
    },
    "tags": []
   },
   "outputs": [],
   "source": [
    "#hide\n",
    "# g.rename(columns= {'date':'day'},inplace = True)"
   ]
  },
  {
   "cell_type": "code",
   "execution_count": 38,
   "id": "major-fight",
   "metadata": {
    "execution": {
     "iopub.execute_input": "2022-10-19T12:22:19.803240Z",
     "iopub.status.busy": "2022-10-19T12:22:19.802647Z",
     "iopub.status.idle": "2022-10-19T12:22:19.805451Z",
     "shell.execute_reply": "2022-10-19T12:22:19.804977Z"
    },
    "papermill": {
     "duration": 0.036793,
     "end_time": "2022-10-19T12:22:19.805560",
     "exception": false,
     "start_time": "2022-10-19T12:22:19.768767",
     "status": "completed"
    },
    "tags": []
   },
   "outputs": [],
   "source": [
    "#hide\n",
    "# g = g[cols]"
   ]
  },
  {
   "cell_type": "code",
   "execution_count": 39,
   "id": "structured-mobile",
   "metadata": {
    "execution": {
     "iopub.execute_input": "2022-10-19T12:22:19.870697Z",
     "iopub.status.busy": "2022-10-19T12:22:19.870007Z",
     "iopub.status.idle": "2022-10-19T12:22:19.872525Z",
     "shell.execute_reply": "2022-10-19T12:22:19.871849Z"
    },
    "papermill": {
     "duration": 0.036638,
     "end_time": "2022-10-19T12:22:19.872649",
     "exception": false,
     "start_time": "2022-10-19T12:22:19.836011",
     "status": "completed"
    },
    "tags": []
   },
   "outputs": [],
   "source": [
    "# #hide\n",
    "# g = g[g.group.notna()]"
   ]
  },
  {
   "cell_type": "code",
   "execution_count": 40,
   "id": "determined-closing",
   "metadata": {
    "execution": {
     "iopub.execute_input": "2022-10-19T12:22:19.937871Z",
     "iopub.status.busy": "2022-10-19T12:22:19.937250Z",
     "iopub.status.idle": "2022-10-19T12:22:19.939845Z",
     "shell.execute_reply": "2022-10-19T12:22:19.939369Z"
    },
    "papermill": {
     "duration": 0.036548,
     "end_time": "2022-10-19T12:22:19.939953",
     "exception": false,
     "start_time": "2022-10-19T12:22:19.903405",
     "status": "completed"
    },
    "tags": []
   },
   "outputs": [],
   "source": [
    "# #hide\n",
    "# colors = dict(zip(\n",
    "#     [\"Oceania\", \"Europe\", \"Asia\", \"South America\", \"Middle East\", \"North America\", \"Africa\"],\n",
    "#     [\"#adb0ff\", \"#ffb3ff\", \"#90d595\", \"#e48381\", \"#aafbff\", \"#f7bb5f\", \"#eafb50\"]\n",
    "# ))\n",
    "# group_lk = g.set_index('name')['group'].to_dict()"
   ]
  },
  {
   "cell_type": "code",
   "execution_count": null,
   "id": "gross-drinking",
   "metadata": {
    "papermill": {
     "duration": 0.030231,
     "end_time": "2022-10-19T12:22:20.000490",
     "exception": false,
     "start_time": "2022-10-19T12:22:19.970259",
     "status": "completed"
    },
    "tags": []
   },
   "outputs": [],
   "source": []
  },
  {
   "cell_type": "code",
   "execution_count": 41,
   "id": "subject-macintosh",
   "metadata": {
    "execution": {
     "iopub.execute_input": "2022-10-19T12:22:20.066126Z",
     "iopub.status.busy": "2022-10-19T12:22:20.065476Z",
     "iopub.status.idle": "2022-10-19T12:22:20.068214Z",
     "shell.execute_reply": "2022-10-19T12:22:20.067717Z"
    },
    "papermill": {
     "duration": 0.03725,
     "end_time": "2022-10-19T12:22:20.068328",
     "exception": false,
     "start_time": "2022-10-19T12:22:20.031078",
     "status": "completed"
    },
    "tags": []
   },
   "outputs": [],
   "source": [
    "# #hide\n",
    "# fig, ax = plt.subplots(figsize=(15, 8))\n",
    "\n",
    "# def draw_barchart(current_day):\n",
    "#     dff = g[g['day'].eq(current_day)].sort_values(by='value', ascending=True).tail(10)\n",
    "#     ax.clear()\n",
    "#     ax.barh(dff['name'], dff['value'], color=[colors[group_lk[x]] for x in dff['name']])\n",
    "#     dx = dff['value'].max() / 200\n",
    "    \n",
    "#     for i, (value, name) in enumerate(zip(dff['value'], dff['name'])):\n",
    "#         ax.text(value-dx, i,     name,           size=14, weight=600, ha='right', va='bottom')\n",
    "#         ax.text(value-dx, i-.25, group_lk[name], size=10, color='#444444', ha='right', va='baseline')\n",
    "#         ax.text(value+dx, i,     f'{value:,.0f}',  size=14, ha='left',  va='center')\n",
    "#     ax.text(1, 0.4, current_day, transform=ax.transAxes, color='#777777', size=46, ha='right', weight=800)\n",
    "#     ax.text(0, 1.06, 'Population (thousands)', transform=ax.transAxes, size=12, color='#777777')\n",
    "#     ax.xaxis.set_major_formatter(ticker.StrMethodFormatter('{x:,.0f}'))\n",
    "#     ax.xaxis.set_ticks_position('top')\n",
    "#     ax.tick_params(axis='x', colors='#777777', labelsize=12)\n",
    "#     ax.set_yticks([])\n",
    "#     ax.margins(0, 0.01)\n",
    "#     ax.grid(which='major', axis='x', linestyle='-')\n",
    "#     ax.set_axisbelow(True)\n",
    "    \n",
    "#     ax.text(0, 1.15, 'Coronavirus',\n",
    "#             transform=ax.transAxes, size=24, weight=600, ha='left', va='top')\n",
    "# #     ax.text(1, 0, 'by @pratapvardhan; credit @jburnmurdoch', transform=ax.transAxes, color='#777777', ha='right',\n",
    "# #             bbox=dict(facecolor='white', alpha=0.8, edgecolor='white'))\n",
    "#     plt.box(False)"
   ]
  },
  {
   "cell_type": "code",
   "execution_count": 42,
   "id": "sexual-wages",
   "metadata": {
    "execution": {
     "iopub.execute_input": "2022-10-19T12:22:20.133323Z",
     "iopub.status.busy": "2022-10-19T12:22:20.132620Z",
     "iopub.status.idle": "2022-10-19T12:22:20.135189Z",
     "shell.execute_reply": "2022-10-19T12:22:20.134653Z"
    },
    "papermill": {
     "duration": 0.036698,
     "end_time": "2022-10-19T12:22:20.135309",
     "exception": false,
     "start_time": "2022-10-19T12:22:20.098611",
     "status": "completed"
    },
    "tags": []
   },
   "outputs": [],
   "source": [
    "# #hide_input\n",
    "# fig, ax = plt.subplots(figsize=(15, 8))\n",
    "# animator = animation.FuncAnimation(fig, draw_barchart, frames=range(g.day.values.min(), g.day.values.max()))\n",
    "# HTML(animator.to_jshtml())\n",
    "# # or use animator.to_html5_video() or animator.save() "
   ]
  },
  {
   "cell_type": "code",
   "execution_count": null,
   "id": "australian-container",
   "metadata": {
    "papermill": {
     "duration": 0.030405,
     "end_time": "2022-10-19T12:22:20.196593",
     "exception": false,
     "start_time": "2022-10-19T12:22:20.166188",
     "status": "completed"
    },
    "tags": []
   },
   "outputs": [],
   "source": []
  },
  {
   "cell_type": "code",
   "execution_count": null,
   "id": "mediterranean-pontiac",
   "metadata": {
    "papermill": {
     "duration": 0.030488,
     "end_time": "2022-10-19T12:22:20.257576",
     "exception": false,
     "start_time": "2022-10-19T12:22:20.227088",
     "status": "completed"
    },
    "tags": []
   },
   "outputs": [],
   "source": []
  },
  {
   "cell_type": "code",
   "execution_count": null,
   "id": "aging-legislature",
   "metadata": {
    "papermill": {
     "duration": 0.030452,
     "end_time": "2022-10-19T12:22:20.318846",
     "exception": false,
     "start_time": "2022-10-19T12:22:20.288394",
     "status": "completed"
    },
    "tags": []
   },
   "outputs": [],
   "source": []
  }
 ],
 "metadata": {
  "kernelspec": {
   "display_name": "Python 3",
   "language": "python",
   "name": "python3"
  },
  "language_info": {
   "codemirror_mode": {
    "name": "ipython",
    "version": 3
   },
   "file_extension": ".py",
   "mimetype": "text/x-python",
   "name": "python",
   "nbconvert_exporter": "python",
   "pygments_lexer": "ipython3",
   "version": "3.6.15"
  },
  "papermill": {
   "duration": 6.351526,
   "end_time": "2022-10-19T12:22:20.768312",
   "environment_variables": {},
   "exception": null,
   "input_path": "2020-03-21-covid19exp.ipynb",
   "output_path": "2020-03-21-covid19exp.ipynb",
   "parameters": {},
   "start_time": "2022-10-19T12:22:14.416786",
   "version": "2.0.0"
  }
 },
 "nbformat": 4,
 "nbformat_minor": 5
}