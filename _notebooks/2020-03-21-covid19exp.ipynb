{
 "cells": [
  {
   "cell_type": "markdown",
   "id": "muslim-click",
   "metadata": {
    "papermill": {
     "duration": 0.041989,
     "end_time": "2021-04-11T12:04:35.798362",
     "exception": false,
     "start_time": "2021-04-11T12:04:35.756373",
     "status": "completed"
    },
    "tags": []
   },
   "source": [
    "# COVID-19 Case Race\n",
    "> A race chart to see rising cases around the world\n",
    "\n",
    "- author: Hargun Oberoi\n",
    "- image: images/covid-overview.png\n",
    "- hide: false\n",
    "- badges: false"
   ]
  },
  {
   "cell_type": "code",
   "execution_count": 1,
   "id": "proof-material",
   "metadata": {
    "execution": {
     "iopub.execute_input": "2021-04-11T12:04:35.881348Z",
     "iopub.status.busy": "2021-04-11T12:04:35.880677Z",
     "iopub.status.idle": "2021-04-11T12:04:36.229009Z",
     "shell.execute_reply": "2021-04-11T12:04:36.229582Z"
    },
    "papermill": {
     "duration": 0.393881,
     "end_time": "2021-04-11T12:04:36.229783",
     "exception": false,
     "start_time": "2021-04-11T12:04:35.835902",
     "status": "completed"
    },
    "tags": []
   },
   "outputs": [],
   "source": [
    "#hide\n",
    "import numpy as np\n",
    "import pandas as pd\n",
    "from jinja2 import Template\n",
    "from IPython.display import HTML"
   ]
  },
  {
   "cell_type": "code",
   "execution_count": 2,
   "id": "developed-terminology",
   "metadata": {
    "execution": {
     "iopub.execute_input": "2021-04-11T12:04:36.310855Z",
     "iopub.status.busy": "2021-04-11T12:04:36.310195Z",
     "iopub.status.idle": "2021-04-11T12:04:36.313341Z",
     "shell.execute_reply": "2021-04-11T12:04:36.312732Z"
    },
    "papermill": {
     "duration": 0.045024,
     "end_time": "2021-04-11T12:04:36.313560",
     "exception": false,
     "start_time": "2021-04-11T12:04:36.268536",
     "status": "completed"
    },
    "tags": []
   },
   "outputs": [],
   "source": [
    "#hide\n",
    "\n",
    "# FETCH\n",
    "base_url = 'https://raw.githubusercontent.com/pratapvardhan/notebooks/master/covid19/'\n",
    "paths = {\n",
    "    'mapping': base_url + 'mapping_countries.csv',\n",
    "    'overview': base_url + 'overview.tpl'\n",
    "}"
   ]
  },
  {
   "cell_type": "code",
   "execution_count": 3,
   "id": "dynamic-saver",
   "metadata": {
    "execution": {
     "iopub.execute_input": "2021-04-11T12:04:36.396700Z",
     "iopub.status.busy": "2021-04-11T12:04:36.396071Z",
     "iopub.status.idle": "2021-04-11T12:04:36.399566Z",
     "shell.execute_reply": "2021-04-11T12:04:36.399048Z"
    },
    "papermill": {
     "duration": 0.050047,
     "end_time": "2021-04-11T12:04:36.399690",
     "exception": false,
     "start_time": "2021-04-11T12:04:36.349643",
     "status": "completed"
    },
    "tags": []
   },
   "outputs": [
    {
     "data": {
      "text/plain": [
       "'https://raw.githubusercontent.com/pratapvardhan/notebooks/master/covid19/mapping_countries.csv'"
      ]
     },
     "execution_count": 3,
     "metadata": {},
     "output_type": "execute_result"
    }
   ],
   "source": [
    "#hide\n",
    "paths['mapping']"
   ]
  },
  {
   "cell_type": "code",
   "execution_count": 4,
   "id": "urban-software",
   "metadata": {
    "execution": {
     "iopub.execute_input": "2021-04-11T12:04:36.477030Z",
     "iopub.status.busy": "2021-04-11T12:04:36.476394Z",
     "iopub.status.idle": "2021-04-11T12:04:36.479387Z",
     "shell.execute_reply": "2021-04-11T12:04:36.478840Z"
    },
    "papermill": {
     "duration": 0.043694,
     "end_time": "2021-04-11T12:04:36.479513",
     "exception": false,
     "start_time": "2021-04-11T12:04:36.435819",
     "status": "completed"
    },
    "tags": []
   },
   "outputs": [],
   "source": [
    "#hide\n",
    "def get_mappings(url):\n",
    "    df = pd.read_csv(url)\n",
    "    return {\n",
    "        'df': df,\n",
    "        'replace.country': dict(df.dropna(subset=['Name']).set_index('Country')['Name']),\n",
    "        'map.continent': dict(df.set_index('Name')['Continent'])\n",
    "    }"
   ]
  },
  {
   "cell_type": "code",
   "execution_count": 5,
   "id": "intimate-machinery",
   "metadata": {
    "execution": {
     "iopub.execute_input": "2021-04-11T12:04:36.558231Z",
     "iopub.status.busy": "2021-04-11T12:04:36.557601Z",
     "iopub.status.idle": "2021-04-11T12:04:36.620055Z",
     "shell.execute_reply": "2021-04-11T12:04:36.620542Z"
    },
    "papermill": {
     "duration": 0.10496,
     "end_time": "2021-04-11T12:04:36.620707",
     "exception": false,
     "start_time": "2021-04-11T12:04:36.515747",
     "status": "completed"
    },
    "tags": []
   },
   "outputs": [],
   "source": [
    "#hide\n",
    "mapping = get_mappings(paths['mapping'])"
   ]
  },
  {
   "cell_type": "code",
   "execution_count": 6,
   "id": "certified-tactics",
   "metadata": {
    "execution": {
     "iopub.execute_input": "2021-04-11T12:04:36.700993Z",
     "iopub.status.busy": "2021-04-11T12:04:36.700357Z",
     "iopub.status.idle": "2021-04-11T12:04:36.702246Z",
     "shell.execute_reply": "2021-04-11T12:04:36.703150Z"
    },
    "papermill": {
     "duration": 0.044772,
     "end_time": "2021-04-11T12:04:36.703339",
     "exception": false,
     "start_time": "2021-04-11T12:04:36.658567",
     "status": "completed"
    },
    "tags": []
   },
   "outputs": [],
   "source": [
    "#hide\n",
    "def get_template(path):\n",
    "    from urllib.parse import urlparse\n",
    "    if bool(urlparse(path).netloc):\n",
    "        from urllib.request import urlopen\n",
    "        return urlopen(path).read().decode('utf8')\n",
    "    return open(path).read()"
   ]
  },
  {
   "cell_type": "code",
   "execution_count": 7,
   "id": "realistic-blast",
   "metadata": {
    "execution": {
     "iopub.execute_input": "2021-04-11T12:04:36.782926Z",
     "iopub.status.busy": "2021-04-11T12:04:36.782268Z",
     "iopub.status.idle": "2021-04-11T12:04:36.784320Z",
     "shell.execute_reply": "2021-04-11T12:04:36.784833Z"
    },
    "papermill": {
     "duration": 0.045101,
     "end_time": "2021-04-11T12:04:36.784974",
     "exception": false,
     "start_time": "2021-04-11T12:04:36.739873",
     "status": "completed"
    },
    "tags": []
   },
   "outputs": [],
   "source": [
    "#hide\n",
    "def get_frame(name):\n",
    "    url = (\n",
    "        'https://raw.githubusercontent.com/CSSEGISandData/COVID-19/master/csse_covid_19_data/'\n",
    "        f'csse_covid_19_time_series/time_series_covid19_{name}_global.csv')\n",
    "    df = pd.read_csv(url)\n",
    "    # rename countries\n",
    "    df['Country/Region'] = df['Country/Region'].replace(mapping['replace.country'])\n",
    "    return df"
   ]
  },
  {
   "cell_type": "code",
   "execution_count": 8,
   "id": "affiliated-characterization",
   "metadata": {
    "execution": {
     "iopub.execute_input": "2021-04-11T12:04:36.873578Z",
     "iopub.status.busy": "2021-04-11T12:04:36.872889Z",
     "iopub.status.idle": "2021-04-11T12:04:36.875558Z",
     "shell.execute_reply": "2021-04-11T12:04:36.874949Z"
    },
    "papermill": {
     "duration": 0.047583,
     "end_time": "2021-04-11T12:04:36.875703",
     "exception": false,
     "start_time": "2021-04-11T12:04:36.828120",
     "status": "completed"
    },
    "tags": []
   },
   "outputs": [],
   "source": [
    "#hide\n",
    "def get_dates(df):\n",
    "    dt_cols = df.columns[~df.columns.isin(['Province/State', 'Country/Region', 'Lat', 'Long'])]\n",
    "    LAST_DATE_I = -1\n",
    "    # sometimes last column may be empty, then go backwards\n",
    "    for i in range(-1, -len(dt_cols), -1):\n",
    "        if not df[dt_cols[i]].fillna(0).eq(0).all():\n",
    "            LAST_DATE_I = i\n",
    "            break\n",
    "    return LAST_DATE_I, dt_cols"
   ]
  },
  {
   "cell_type": "code",
   "execution_count": 9,
   "id": "recent-optimization",
   "metadata": {
    "execution": {
     "iopub.execute_input": "2021-04-11T12:04:36.958540Z",
     "iopub.status.busy": "2021-04-11T12:04:36.957908Z",
     "iopub.status.idle": "2021-04-11T12:04:37.478963Z",
     "shell.execute_reply": "2021-04-11T12:04:37.479505Z"
    },
    "papermill": {
     "duration": 0.564621,
     "end_time": "2021-04-11T12:04:37.479675",
     "exception": false,
     "start_time": "2021-04-11T12:04:36.915054",
     "status": "completed"
    },
    "tags": []
   },
   "outputs": [],
   "source": [
    "#hide\n",
    "COL_REGION = 'Country/Region'\n",
    "# Confirmed, Recovered, Deaths\n",
    "df = get_frame('confirmed')\n",
    "# dft_: timeseries, dfc_: today country agg\n",
    "dft_cases = df\n",
    "dft_deaths = get_frame('deaths')\n",
    "dft_recovered = get_frame('recovered')\n",
    "LAST_DATE_I, dt_cols = get_dates(df)"
   ]
  },
  {
   "cell_type": "code",
   "execution_count": 10,
   "id": "absolute-copper",
   "metadata": {
    "execution": {
     "iopub.execute_input": "2021-04-11T12:04:37.563418Z",
     "iopub.status.busy": "2021-04-11T12:04:37.562753Z",
     "iopub.status.idle": "2021-04-11T12:04:37.565404Z",
     "shell.execute_reply": "2021-04-11T12:04:37.564863Z"
    },
    "papermill": {
     "duration": 0.04461,
     "end_time": "2021-04-11T12:04:37.565555",
     "exception": false,
     "start_time": "2021-04-11T12:04:37.520945",
     "status": "completed"
    },
    "tags": []
   },
   "outputs": [],
   "source": [
    "#hide\n",
    "LAST_DATE_I, dt_cols = get_dates(df)\n",
    "dt_today =dt_cols[LAST_DATE_I]\n",
    "# dt_5day = dt_cols[LAST_DATE_I - 5]\n",
    "dt_yday = dt_cols[LAST_DATE_I - 1]"
   ]
  },
  {
   "cell_type": "code",
   "execution_count": 11,
   "id": "restricted-sheriff",
   "metadata": {
    "execution": {
     "iopub.execute_input": "2021-04-11T12:04:37.646833Z",
     "iopub.status.busy": "2021-04-11T12:04:37.646177Z",
     "iopub.status.idle": "2021-04-11T12:04:37.652841Z",
     "shell.execute_reply": "2021-04-11T12:04:37.652295Z"
    },
    "papermill": {
     "duration": 0.050716,
     "end_time": "2021-04-11T12:04:37.652975",
     "exception": false,
     "start_time": "2021-04-11T12:04:37.602259",
     "status": "completed"
    },
    "tags": []
   },
   "outputs": [],
   "source": [
    "#hide\n",
    "dfc_cases = dft_cases.groupby(COL_REGION)[dt_today].sum()\n",
    "dfc_deaths = dft_deaths.groupby(COL_REGION)[dt_today].sum()\n",
    "# dfp_cases = dft_cases.groupby(COL_REGION)[dt_5day].sum()\n",
    "# dfp_deaths = dft_deaths.groupby(COL_REGION)[dt_5day].sum()\n",
    "dfp_cases = dft_cases.groupby(COL_REGION)[dt_yday].sum()\n",
    "dfp_deaths = dft_deaths.groupby(COL_REGION)[dt_yday].sum()"
   ]
  },
  {
   "cell_type": "code",
   "execution_count": 12,
   "id": "deluxe-hepatitis",
   "metadata": {
    "execution": {
     "iopub.execute_input": "2021-04-11T12:04:37.734634Z",
     "iopub.status.busy": "2021-04-11T12:04:37.733918Z",
     "iopub.status.idle": "2021-04-11T12:04:37.738848Z",
     "shell.execute_reply": "2021-04-11T12:04:37.738273Z"
    },
    "papermill": {
     "duration": 0.048638,
     "end_time": "2021-04-11T12:04:37.738990",
     "exception": false,
     "start_time": "2021-04-11T12:04:37.690352",
     "status": "completed"
    },
    "tags": []
   },
   "outputs": [],
   "source": [
    "#hide\n",
    "df_table = (pd.DataFrame(dict(Cases = dfc_cases, Deaths = dfc_deaths, PCases = dfp_cases, PDeaths = dfp_deaths))\n",
    "            .sort_values(by = ['Cases','Deaths'], ascending = [False, False])\n",
    "            .reset_index())"
   ]
  },
  {
   "cell_type": "code",
   "execution_count": 13,
   "id": "educational-chancellor",
   "metadata": {
    "execution": {
     "iopub.execute_input": "2021-04-11T12:04:37.838429Z",
     "iopub.status.busy": "2021-04-11T12:04:37.837743Z",
     "iopub.status.idle": "2021-04-11T12:04:37.846822Z",
     "shell.execute_reply": "2021-04-11T12:04:37.847442Z"
    },
    "papermill": {
     "duration": 0.068054,
     "end_time": "2021-04-11T12:04:37.847602",
     "exception": false,
     "start_time": "2021-04-11T12:04:37.779548",
     "status": "completed"
    },
    "tags": []
   },
   "outputs": [
    {
     "data": {
      "text/html": [
       "<div>\n",
       "<style scoped>\n",
       "    .dataframe tbody tr th:only-of-type {\n",
       "        vertical-align: middle;\n",
       "    }\n",
       "\n",
       "    .dataframe tbody tr th {\n",
       "        vertical-align: top;\n",
       "    }\n",
       "\n",
       "    .dataframe thead th {\n",
       "        text-align: right;\n",
       "    }\n",
       "</style>\n",
       "<table border=\"1\" class=\"dataframe\">\n",
       "  <thead>\n",
       "    <tr style=\"text-align: right;\">\n",
       "      <th></th>\n",
       "      <th>Country/Region</th>\n",
       "      <th>Cases</th>\n",
       "      <th>Deaths</th>\n",
       "      <th>PCases</th>\n",
       "      <th>PDeaths</th>\n",
       "      <th>Cases (+)</th>\n",
       "      <th>Deaths (+)</th>\n",
       "      <th>Fatality Rate</th>\n",
       "      <th>Continent</th>\n",
       "    </tr>\n",
       "  </thead>\n",
       "  <tbody>\n",
       "    <tr>\n",
       "      <th>0</th>\n",
       "      <td>US</td>\n",
       "      <td>31151495</td>\n",
       "      <td>561783</td>\n",
       "      <td>31084962</td>\n",
       "      <td>561074</td>\n",
       "      <td>66533</td>\n",
       "      <td>709</td>\n",
       "      <td>1.80</td>\n",
       "      <td>North America</td>\n",
       "    </tr>\n",
       "    <tr>\n",
       "      <th>1</th>\n",
       "      <td>Brazil</td>\n",
       "      <td>13445006</td>\n",
       "      <td>351334</td>\n",
       "      <td>13373174</td>\n",
       "      <td>348718</td>\n",
       "      <td>71832</td>\n",
       "      <td>2616</td>\n",
       "      <td>2.61</td>\n",
       "      <td>South America</td>\n",
       "    </tr>\n",
       "    <tr>\n",
       "      <th>2</th>\n",
       "      <td>India</td>\n",
       "      <td>13358805</td>\n",
       "      <td>169275</td>\n",
       "      <td>13205926</td>\n",
       "      <td>168436</td>\n",
       "      <td>152879</td>\n",
       "      <td>839</td>\n",
       "      <td>1.27</td>\n",
       "      <td>Asia</td>\n",
       "    </tr>\n",
       "    <tr>\n",
       "      <th>3</th>\n",
       "      <td>France</td>\n",
       "      <td>5001685</td>\n",
       "      <td>98213</td>\n",
       "      <td>5000314</td>\n",
       "      <td>98202</td>\n",
       "      <td>1371</td>\n",
       "      <td>11</td>\n",
       "      <td>1.96</td>\n",
       "      <td>Europe</td>\n",
       "    </tr>\n",
       "    <tr>\n",
       "      <th>4</th>\n",
       "      <td>Russia</td>\n",
       "      <td>4580633</td>\n",
       "      <td>100949</td>\n",
       "      <td>4572053</td>\n",
       "      <td>100554</td>\n",
       "      <td>8580</td>\n",
       "      <td>395</td>\n",
       "      <td>2.20</td>\n",
       "      <td>Europe</td>\n",
       "    </tr>\n",
       "  </tbody>\n",
       "</table>\n",
       "</div>"
      ],
      "text/plain": [
       "  Country/Region     Cases  Deaths    PCases  PDeaths  Cases (+)  Deaths (+)  \\\n",
       "0             US  31151495  561783  31084962   561074      66533         709   \n",
       "1         Brazil  13445006  351334  13373174   348718      71832        2616   \n",
       "2          India  13358805  169275  13205926   168436     152879         839   \n",
       "3         France   5001685   98213   5000314    98202       1371          11   \n",
       "4         Russia   4580633  100949   4572053   100554       8580         395   \n",
       "\n",
       "   Fatality Rate      Continent  \n",
       "0           1.80  North America  \n",
       "1           2.61  South America  \n",
       "2           1.27           Asia  \n",
       "3           1.96         Europe  \n",
       "4           2.20         Europe  "
      ]
     },
     "execution_count": 13,
     "metadata": {},
     "output_type": "execute_result"
    }
   ],
   "source": [
    "#hide\n",
    "for c in 'Cases, Deaths'.split(', '):\n",
    "    df_table[f'{c} (+)'] = (df_table[c] - df_table[f'P{c}']).clip(0)\n",
    "    #Clip ça veut dire, les chiffres negatif sont interdit\n",
    "df_table['Fatality Rate'] = (100* df_table['Deaths']/ df_table['Cases']).round(2)\n",
    "df_table['Continent'] = df_table['Country/Region'].map(mapping['map.continent'])\n",
    "df_table.head(5)"
   ]
  },
  {
   "cell_type": "code",
   "execution_count": 14,
   "id": "aboriginal-bulgaria",
   "metadata": {
    "execution": {
     "iopub.execute_input": "2021-04-11T12:04:37.931293Z",
     "iopub.status.busy": "2021-04-11T12:04:37.930634Z",
     "iopub.status.idle": "2021-04-11T12:04:37.933563Z",
     "shell.execute_reply": "2021-04-11T12:04:37.932981Z"
    },
    "papermill": {
     "duration": 0.047537,
     "end_time": "2021-04-11T12:04:37.933699",
     "exception": false,
     "start_time": "2021-04-11T12:04:37.886162",
     "status": "completed"
    },
    "tags": []
   },
   "outputs": [],
   "source": [
    "#hide\n",
    "#delete problematic countries from table\n",
    "df_table = df_table[~df_table['Country/Region'].isin(['Cape Verde', 'Cruise Ship', 'Kosovo'])]"
   ]
  },
  {
   "cell_type": "code",
   "execution_count": 15,
   "id": "fantastic-effect",
   "metadata": {
    "execution": {
     "iopub.execute_input": "2021-04-11T12:04:38.025309Z",
     "iopub.status.busy": "2021-04-11T12:04:38.024662Z",
     "iopub.status.idle": "2021-04-11T12:04:38.047701Z",
     "shell.execute_reply": "2021-04-11T12:04:38.047010Z"
    },
    "papermill": {
     "duration": 0.07143,
     "end_time": "2021-04-11T12:04:38.047834",
     "exception": false,
     "start_time": "2021-04-11T12:04:37.976404",
     "status": "completed"
    },
    "tags": []
   },
   "outputs": [
    {
     "data": {
      "text/html": [
       "<div>\n",
       "<style scoped>\n",
       "    .dataframe tbody tr th:only-of-type {\n",
       "        vertical-align: middle;\n",
       "    }\n",
       "\n",
       "    .dataframe tbody tr th {\n",
       "        vertical-align: top;\n",
       "    }\n",
       "\n",
       "    .dataframe thead th {\n",
       "        text-align: right;\n",
       "    }\n",
       "</style>\n",
       "<table border=\"1\" class=\"dataframe\">\n",
       "  <thead>\n",
       "    <tr style=\"text-align: right;\">\n",
       "      <th></th>\n",
       "      <th>Country/Region</th>\n",
       "      <th>Cases</th>\n",
       "      <th>Deaths</th>\n",
       "      <th>PCases</th>\n",
       "      <th>PDeaths</th>\n",
       "      <th>Cases (+)</th>\n",
       "      <th>Deaths (+)</th>\n",
       "      <th>Fatality Rate</th>\n",
       "      <th>Continent</th>\n",
       "    </tr>\n",
       "  </thead>\n",
       "  <tbody>\n",
       "    <tr>\n",
       "      <th>0</th>\n",
       "      <td>US</td>\n",
       "      <td>31151495</td>\n",
       "      <td>561783</td>\n",
       "      <td>31084962</td>\n",
       "      <td>561074</td>\n",
       "      <td>66533</td>\n",
       "      <td>709</td>\n",
       "      <td>1.8</td>\n",
       "      <td>North America</td>\n",
       "    </tr>\n",
       "    <tr>\n",
       "      <th>1</th>\n",
       "      <td>Brazil</td>\n",
       "      <td>13445006</td>\n",
       "      <td>351334</td>\n",
       "      <td>13373174</td>\n",
       "      <td>348718</td>\n",
       "      <td>71832</td>\n",
       "      <td>2616</td>\n",
       "      <td>2.6</td>\n",
       "      <td>South America</td>\n",
       "    </tr>\n",
       "    <tr>\n",
       "      <th>2</th>\n",
       "      <td>India</td>\n",
       "      <td>13358805</td>\n",
       "      <td>169275</td>\n",
       "      <td>13205926</td>\n",
       "      <td>168436</td>\n",
       "      <td>152879</td>\n",
       "      <td>839</td>\n",
       "      <td>1.3</td>\n",
       "      <td>Asia</td>\n",
       "    </tr>\n",
       "    <tr>\n",
       "      <th>3</th>\n",
       "      <td>France</td>\n",
       "      <td>5001685</td>\n",
       "      <td>98213</td>\n",
       "      <td>5000314</td>\n",
       "      <td>98202</td>\n",
       "      <td>1371</td>\n",
       "      <td>11</td>\n",
       "      <td>2.0</td>\n",
       "      <td>Europe</td>\n",
       "    </tr>\n",
       "    <tr>\n",
       "      <th>4</th>\n",
       "      <td>Russia</td>\n",
       "      <td>4580633</td>\n",
       "      <td>100949</td>\n",
       "      <td>4572053</td>\n",
       "      <td>100554</td>\n",
       "      <td>8580</td>\n",
       "      <td>395</td>\n",
       "      <td>2.2</td>\n",
       "      <td>Europe</td>\n",
       "    </tr>\n",
       "  </tbody>\n",
       "</table>\n",
       "</div>"
      ],
      "text/plain": [
       "  Country/Region     Cases  Deaths    PCases  PDeaths  Cases (+)  Deaths (+)  \\\n",
       "0             US  31151495  561783  31084962   561074      66533         709   \n",
       "1         Brazil  13445006  351334  13373174   348718      71832        2616   \n",
       "2          India  13358805  169275  13205926   168436     152879         839   \n",
       "3         France   5001685   98213   5000314    98202       1371          11   \n",
       "4         Russia   4580633  100949   4572053   100554       8580         395   \n",
       "\n",
       "   Fatality Rate      Continent  \n",
       "0            1.8  North America  \n",
       "1            2.6  South America  \n",
       "2            1.3           Asia  \n",
       "3            2.0         Europe  \n",
       "4            2.2         Europe  "
      ]
     },
     "execution_count": 15,
     "metadata": {},
     "output_type": "execute_result"
    }
   ],
   "source": [
    "#hide\n",
    "df_table = (pd.DataFrame(dict(Cases=dfc_cases, Deaths=dfc_deaths, PCases=dfp_cases, PDeaths=dfp_deaths))\n",
    "             .sort_values(by=['Cases', 'Deaths'], ascending=[False, False])\n",
    "             .reset_index())\n",
    "df_table.rename(columns={'index': 'Country/Region'}, inplace=True)\n",
    "for c in 'Cases, Deaths'.split(', '):\n",
    "    df_table[f'{c} (+)'] = (df_table[c] - df_table[f'P{c}']).clip(0)  # DATA BUG\n",
    "df_table['Fatality Rate'] = (100 * df_table['Deaths'] / df_table['Cases']).round(1)\n",
    "df_table['Continent'] = df_table['Country/Region'].map(mapping['map.continent'])\n",
    "df_table.head(5)"
   ]
  },
  {
   "cell_type": "code",
   "execution_count": 16,
   "id": "fewer-occasion",
   "metadata": {
    "execution": {
     "iopub.execute_input": "2021-04-11T12:04:38.129081Z",
     "iopub.status.busy": "2021-04-11T12:04:38.128415Z",
     "iopub.status.idle": "2021-04-11T12:04:38.130955Z",
     "shell.execute_reply": "2021-04-11T12:04:38.130406Z"
    },
    "papermill": {
     "duration": 0.046199,
     "end_time": "2021-04-11T12:04:38.131082",
     "exception": false,
     "start_time": "2021-04-11T12:04:38.084883",
     "status": "completed"
    },
    "tags": []
   },
   "outputs": [],
   "source": [
    "#hide\n",
    "#delete problematic countries from table\n",
    "df_table = df_table[~df_table['Country/Region'].isin(['Cape Verde', 'Cruise Ship', 'Kosovo'])]"
   ]
  },
  {
   "cell_type": "code",
   "execution_count": 17,
   "id": "related-center",
   "metadata": {
    "execution": {
     "iopub.execute_input": "2021-04-11T12:04:38.213879Z",
     "iopub.status.busy": "2021-04-11T12:04:38.213231Z",
     "iopub.status.idle": "2021-04-11T12:04:38.227304Z",
     "shell.execute_reply": "2021-04-11T12:04:38.226786Z"
    },
    "papermill": {
     "duration": 0.058829,
     "end_time": "2021-04-11T12:04:38.227430",
     "exception": false,
     "start_time": "2021-04-11T12:04:38.168601",
     "status": "completed"
    },
    "tags": []
   },
   "outputs": [],
   "source": [
    "#hide\n",
    "metrics = [df_table.columns[index] for index in [1,2,5,6]]\n",
    "# s_china = df_table[df_table['Country/Region'].eq('China')][metrics].sum().add_prefix('China ')\n",
    "s_us = df_table[df_table['Country/Region'].eq('US')][metrics].sum().add_prefix('US ')\n",
    "s_eu = df_table[df_table['Continent'].eq('Europe')][metrics].sum().add_prefix('EU ')\n",
    "s_ind = df_table[df_table['Country/Region'].eq('India')][metrics].sum().add_prefix('India ')\n",
    "summary = {'updated': pd.to_datetime(dt_today), 'since': pd.to_datetime(dt_yday)}\n",
    "summary = {'updated': pd.to_datetime(dt_today), 'since': pd.to_datetime(dt_yday)}\n",
    "summary = {**summary, **df_table[metrics].sum(), **s_ind, **s_us, **s_eu}"
   ]
  },
  {
   "cell_type": "code",
   "execution_count": 18,
   "id": "engaging-syndrome",
   "metadata": {
    "execution": {
     "iopub.execute_input": "2021-04-11T12:04:38.309547Z",
     "iopub.status.busy": "2021-04-11T12:04:38.308895Z",
     "iopub.status.idle": "2021-04-11T12:04:38.321839Z",
     "shell.execute_reply": "2021-04-11T12:04:38.321271Z"
    },
    "papermill": {
     "duration": 0.056727,
     "end_time": "2021-04-11T12:04:38.321967",
     "exception": false,
     "start_time": "2021-04-11T12:04:38.265240",
     "status": "completed"
    },
    "tags": []
   },
   "outputs": [],
   "source": [
    "#hide\n",
    "dft_ct_new_cases = dft_cases.groupby(COL_REGION)[dt_cols].sum().diff(axis=1).fillna(0).astype(int)"
   ]
  },
  {
   "cell_type": "code",
   "execution_count": 19,
   "id": "neutral-assignment",
   "metadata": {
    "execution": {
     "iopub.execute_input": "2021-04-11T12:04:38.405470Z",
     "iopub.status.busy": "2021-04-11T12:04:38.404814Z",
     "iopub.status.idle": "2021-04-11T12:04:38.406889Z",
     "shell.execute_reply": "2021-04-11T12:04:38.407384Z"
    },
    "papermill": {
     "duration": 0.047929,
     "end_time": "2021-04-11T12:04:38.407526",
     "exception": false,
     "start_time": "2021-04-11T12:04:38.359597",
     "status": "completed"
    },
    "tags": []
   },
   "outputs": [],
   "source": [
    "#hide\n",
    "everydaycases = dft_ct_new_cases.cumsum(axis=1)"
   ]
  },
  {
   "cell_type": "code",
   "execution_count": 20,
   "id": "parliamentary-calgary",
   "metadata": {
    "execution": {
     "iopub.execute_input": "2021-04-11T12:04:38.491380Z",
     "iopub.status.busy": "2021-04-11T12:04:38.490731Z",
     "iopub.status.idle": "2021-04-11T12:04:39.088889Z",
     "shell.execute_reply": "2021-04-11T12:04:39.087966Z"
    },
    "papermill": {
     "duration": 0.641943,
     "end_time": "2021-04-11T12:04:39.089043",
     "exception": false,
     "start_time": "2021-04-11T12:04:38.447100",
     "status": "completed"
    },
    "tags": []
   },
   "outputs": [],
   "source": [
    "#hide\n",
    "import pandas as pd\n",
    "import matplotlib.pyplot as plt\n",
    "import matplotlib.ticker as ticker\n",
    "import matplotlib.animation as animation\n",
    "from IPython.display import HTML"
   ]
  },
  {
   "cell_type": "code",
   "execution_count": 21,
   "id": "lasting-extraction",
   "metadata": {
    "execution": {
     "iopub.execute_input": "2021-04-11T12:04:39.170233Z",
     "iopub.status.busy": "2021-04-11T12:04:39.169588Z",
     "iopub.status.idle": "2021-04-11T12:04:39.175246Z",
     "shell.execute_reply": "2021-04-11T12:04:39.174621Z"
    },
    "papermill": {
     "duration": 0.047881,
     "end_time": "2021-04-11T12:04:39.175381",
     "exception": false,
     "start_time": "2021-04-11T12:04:39.127500",
     "status": "completed"
    },
    "tags": []
   },
   "outputs": [],
   "source": [
    "#hide\n",
    "t = everydaycases.stack()"
   ]
  },
  {
   "cell_type": "code",
   "execution_count": 22,
   "id": "premier-sleeve",
   "metadata": {
    "execution": {
     "iopub.execute_input": "2021-04-11T12:04:39.259084Z",
     "iopub.status.busy": "2021-04-11T12:04:39.258456Z",
     "iopub.status.idle": "2021-04-11T12:04:39.266463Z",
     "shell.execute_reply": "2021-04-11T12:04:39.265897Z"
    },
    "papermill": {
     "duration": 0.051159,
     "end_time": "2021-04-11T12:04:39.266596",
     "exception": false,
     "start_time": "2021-04-11T12:04:39.215437",
     "status": "completed"
    },
    "tags": []
   },
   "outputs": [],
   "source": [
    "#hide\n",
    "g = t.reset_index(['Country/Region'])"
   ]
  },
  {
   "cell_type": "code",
   "execution_count": 23,
   "id": "distributed-pittsburgh",
   "metadata": {
    "execution": {
     "iopub.execute_input": "2021-04-11T12:04:39.343005Z",
     "iopub.status.busy": "2021-04-11T12:04:39.342376Z",
     "iopub.status.idle": "2021-04-11T12:04:39.344783Z",
     "shell.execute_reply": "2021-04-11T12:04:39.345397Z"
    },
    "papermill": {
     "duration": 0.042454,
     "end_time": "2021-04-11T12:04:39.345556",
     "exception": false,
     "start_time": "2021-04-11T12:04:39.303102",
     "status": "completed"
    },
    "tags": []
   },
   "outputs": [],
   "source": [
    "#hide\n",
    "g.index.name = 'date'"
   ]
  },
  {
   "cell_type": "code",
   "execution_count": 24,
   "id": "naked-donor",
   "metadata": {
    "execution": {
     "iopub.execute_input": "2021-04-11T12:04:39.422651Z",
     "iopub.status.busy": "2021-04-11T12:04:39.421994Z",
     "iopub.status.idle": "2021-04-11T12:04:39.424393Z",
     "shell.execute_reply": "2021-04-11T12:04:39.423860Z"
    },
    "papermill": {
     "duration": 0.042043,
     "end_time": "2021-04-11T12:04:39.424516",
     "exception": false,
     "start_time": "2021-04-11T12:04:39.382473",
     "status": "completed"
    },
    "tags": []
   },
   "outputs": [],
   "source": [
    "# #hide\n",
    "# g = g.reset_index(['date'])"
   ]
  },
  {
   "cell_type": "code",
   "execution_count": 25,
   "id": "incomplete-mustang",
   "metadata": {
    "execution": {
     "iopub.execute_input": "2021-04-11T12:04:39.505376Z",
     "iopub.status.busy": "2021-04-11T12:04:39.504673Z",
     "iopub.status.idle": "2021-04-11T12:04:39.506575Z",
     "shell.execute_reply": "2021-04-11T12:04:39.507132Z"
    },
    "papermill": {
     "duration": 0.044919,
     "end_time": "2021-04-11T12:04:39.507271",
     "exception": false,
     "start_time": "2021-04-11T12:04:39.462352",
     "status": "completed"
    },
    "tags": []
   },
   "outputs": [],
   "source": [
    "#hide\n",
    "# g.head()"
   ]
  },
  {
   "cell_type": "code",
   "execution_count": 26,
   "id": "specific-kruger",
   "metadata": {
    "execution": {
     "iopub.execute_input": "2021-04-11T12:04:39.586613Z",
     "iopub.status.busy": "2021-04-11T12:04:39.585988Z",
     "iopub.status.idle": "2021-04-11T12:04:39.587954Z",
     "shell.execute_reply": "2021-04-11T12:04:39.588419Z"
    },
    "papermill": {
     "duration": 0.04286,
     "end_time": "2021-04-11T12:04:39.588552",
     "exception": false,
     "start_time": "2021-04-11T12:04:39.545692",
     "status": "completed"
    },
    "tags": []
   },
   "outputs": [],
   "source": [
    "#hide\n",
    "# g.columns = ['date','country','cases']"
   ]
  },
  {
   "cell_type": "code",
   "execution_count": 27,
   "id": "tender-conversion",
   "metadata": {
    "execution": {
     "iopub.execute_input": "2021-04-11T12:04:39.668611Z",
     "iopub.status.busy": "2021-04-11T12:04:39.667957Z",
     "iopub.status.idle": "2021-04-11T12:04:39.669927Z",
     "shell.execute_reply": "2021-04-11T12:04:39.670466Z"
    },
    "papermill": {
     "duration": 0.043703,
     "end_time": "2021-04-11T12:04:39.670608",
     "exception": false,
     "start_time": "2021-04-11T12:04:39.626905",
     "status": "completed"
    },
    "tags": []
   },
   "outputs": [],
   "source": [
    "#hide\n",
    "# g['continent'] = g.country"
   ]
  },
  {
   "cell_type": "code",
   "execution_count": 28,
   "id": "substantial-wilderness",
   "metadata": {
    "execution": {
     "iopub.execute_input": "2021-04-11T12:04:39.749013Z",
     "iopub.status.busy": "2021-04-11T12:04:39.748384Z",
     "iopub.status.idle": "2021-04-11T12:04:39.750672Z",
     "shell.execute_reply": "2021-04-11T12:04:39.751201Z"
    },
    "papermill": {
     "duration": 0.043444,
     "end_time": "2021-04-11T12:04:39.751349",
     "exception": false,
     "start_time": "2021-04-11T12:04:39.707905",
     "status": "completed"
    },
    "tags": []
   },
   "outputs": [],
   "source": [
    "#hide\n",
    "# cols = list(g.columns.values)"
   ]
  },
  {
   "cell_type": "code",
   "execution_count": 29,
   "id": "solved-farming",
   "metadata": {
    "execution": {
     "iopub.execute_input": "2021-04-11T12:04:39.832443Z",
     "iopub.status.busy": "2021-04-11T12:04:39.831795Z",
     "iopub.status.idle": "2021-04-11T12:04:39.834321Z",
     "shell.execute_reply": "2021-04-11T12:04:39.833792Z"
    },
    "papermill": {
     "duration": 0.045463,
     "end_time": "2021-04-11T12:04:39.834461",
     "exception": false,
     "start_time": "2021-04-11T12:04:39.788998",
     "status": "completed"
    },
    "tags": []
   },
   "outputs": [],
   "source": [
    "#hide\n",
    "# cols.insert(0, cols.pop())"
   ]
  },
  {
   "cell_type": "code",
   "execution_count": 30,
   "id": "executed-adoption",
   "metadata": {
    "execution": {
     "iopub.execute_input": "2021-04-11T12:04:39.913158Z",
     "iopub.status.busy": "2021-04-11T12:04:39.912518Z",
     "iopub.status.idle": "2021-04-11T12:04:39.914986Z",
     "shell.execute_reply": "2021-04-11T12:04:39.914437Z"
    },
    "papermill": {
     "duration": 0.043028,
     "end_time": "2021-04-11T12:04:39.915121",
     "exception": false,
     "start_time": "2021-04-11T12:04:39.872093",
     "status": "completed"
    },
    "tags": []
   },
   "outputs": [],
   "source": [
    "#hide\n",
    "# g = g[cols]"
   ]
  },
  {
   "cell_type": "code",
   "execution_count": 31,
   "id": "subject-dublin",
   "metadata": {
    "execution": {
     "iopub.execute_input": "2021-04-11T12:04:39.996247Z",
     "iopub.status.busy": "2021-04-11T12:04:39.995606Z",
     "iopub.status.idle": "2021-04-11T12:04:39.998017Z",
     "shell.execute_reply": "2021-04-11T12:04:39.997502Z"
    },
    "papermill": {
     "duration": 0.045264,
     "end_time": "2021-04-11T12:04:39.998141",
     "exception": false,
     "start_time": "2021-04-11T12:04:39.952877",
     "status": "completed"
    },
    "tags": []
   },
   "outputs": [],
   "source": [
    "#hide\n",
    "# g['continent'] = g['continent'].map(mapping['map.continent'])"
   ]
  },
  {
   "cell_type": "code",
   "execution_count": 32,
   "id": "freelance-scout",
   "metadata": {
    "execution": {
     "iopub.execute_input": "2021-04-11T12:04:40.079580Z",
     "iopub.status.busy": "2021-04-11T12:04:40.078937Z",
     "iopub.status.idle": "2021-04-11T12:04:40.081257Z",
     "shell.execute_reply": "2021-04-11T12:04:40.080633Z"
    },
    "papermill": {
     "duration": 0.044723,
     "end_time": "2021-04-11T12:04:40.081390",
     "exception": false,
     "start_time": "2021-04-11T12:04:40.036667",
     "status": "completed"
    },
    "tags": []
   },
   "outputs": [],
   "source": [
    "#hide\n",
    "# g.head()"
   ]
  },
  {
   "cell_type": "code",
   "execution_count": 33,
   "id": "limited-engine",
   "metadata": {
    "execution": {
     "iopub.execute_input": "2021-04-11T12:04:40.163279Z",
     "iopub.status.busy": "2021-04-11T12:04:40.162647Z",
     "iopub.status.idle": "2021-04-11T12:04:40.164574Z",
     "shell.execute_reply": "2021-04-11T12:04:40.165078Z"
    },
    "papermill": {
     "duration": 0.044521,
     "end_time": "2021-04-11T12:04:40.165218",
     "exception": false,
     "start_time": "2021-04-11T12:04:40.120697",
     "status": "completed"
    },
    "tags": []
   },
   "outputs": [],
   "source": [
    "# hide\n",
    "# g['date'] = g['date'].astype('datetime64[ns]')"
   ]
  },
  {
   "cell_type": "code",
   "execution_count": 34,
   "id": "sophisticated-supervisor",
   "metadata": {
    "execution": {
     "iopub.execute_input": "2021-04-11T12:04:40.246299Z",
     "iopub.status.busy": "2021-04-11T12:04:40.245667Z",
     "iopub.status.idle": "2021-04-11T12:04:40.248050Z",
     "shell.execute_reply": "2021-04-11T12:04:40.247545Z"
    },
    "papermill": {
     "duration": 0.044555,
     "end_time": "2021-04-11T12:04:40.248171",
     "exception": false,
     "start_time": "2021-04-11T12:04:40.203616",
     "status": "completed"
    },
    "tags": []
   },
   "outputs": [],
   "source": [
    "#hide\n",
    "# g['date'] = g.date.dt.dayofyear"
   ]
  },
  {
   "cell_type": "code",
   "execution_count": 35,
   "id": "inside-dubai",
   "metadata": {
    "execution": {
     "iopub.execute_input": "2021-04-11T12:04:40.325984Z",
     "iopub.status.busy": "2021-04-11T12:04:40.325332Z",
     "iopub.status.idle": "2021-04-11T12:04:40.327194Z",
     "shell.execute_reply": "2021-04-11T12:04:40.327773Z"
    },
    "papermill": {
     "duration": 0.043219,
     "end_time": "2021-04-11T12:04:40.327909",
     "exception": false,
     "start_time": "2021-04-11T12:04:40.284690",
     "status": "completed"
    },
    "tags": []
   },
   "outputs": [],
   "source": [
    "#hide\n",
    "# g = g.rename(columns= {'continent':'group','country':'name','cases':'value'})"
   ]
  },
  {
   "cell_type": "code",
   "execution_count": 36,
   "id": "fleet-motorcycle",
   "metadata": {
    "execution": {
     "iopub.execute_input": "2021-04-11T12:04:40.406372Z",
     "iopub.status.busy": "2021-04-11T12:04:40.405599Z",
     "iopub.status.idle": "2021-04-11T12:04:40.407553Z",
     "shell.execute_reply": "2021-04-11T12:04:40.408072Z"
    },
    "papermill": {
     "duration": 0.043149,
     "end_time": "2021-04-11T12:04:40.408216",
     "exception": false,
     "start_time": "2021-04-11T12:04:40.365067",
     "status": "completed"
    },
    "tags": []
   },
   "outputs": [],
   "source": [
    "#hide\n",
    "# cols = ['name','group','day','value']"
   ]
  },
  {
   "cell_type": "code",
   "execution_count": 37,
   "id": "continued-sleeping",
   "metadata": {
    "execution": {
     "iopub.execute_input": "2021-04-11T12:04:40.484181Z",
     "iopub.status.busy": "2021-04-11T12:04:40.483550Z",
     "iopub.status.idle": "2021-04-11T12:04:40.485661Z",
     "shell.execute_reply": "2021-04-11T12:04:40.486260Z"
    },
    "papermill": {
     "duration": 0.040889,
     "end_time": "2021-04-11T12:04:40.486385",
     "exception": false,
     "start_time": "2021-04-11T12:04:40.445496",
     "status": "completed"
    },
    "tags": []
   },
   "outputs": [],
   "source": [
    "#hide\n",
    "# g.rename(columns= {'date':'day'},inplace = True)"
   ]
  },
  {
   "cell_type": "code",
   "execution_count": 38,
   "id": "major-fight",
   "metadata": {
    "execution": {
     "iopub.execute_input": "2021-04-11T12:04:40.567103Z",
     "iopub.status.busy": "2021-04-11T12:04:40.566406Z",
     "iopub.status.idle": "2021-04-11T12:04:40.568856Z",
     "shell.execute_reply": "2021-04-11T12:04:40.568300Z"
    },
    "papermill": {
     "duration": 0.044622,
     "end_time": "2021-04-11T12:04:40.568996",
     "exception": false,
     "start_time": "2021-04-11T12:04:40.524374",
     "status": "completed"
    },
    "tags": []
   },
   "outputs": [],
   "source": [
    "#hide\n",
    "# g = g[cols]"
   ]
  },
  {
   "cell_type": "code",
   "execution_count": 39,
   "id": "structured-mobile",
   "metadata": {
    "execution": {
     "iopub.execute_input": "2021-04-11T12:04:40.651132Z",
     "iopub.status.busy": "2021-04-11T12:04:40.650543Z",
     "iopub.status.idle": "2021-04-11T12:04:40.652975Z",
     "shell.execute_reply": "2021-04-11T12:04:40.652463Z"
    },
    "papermill": {
     "duration": 0.043139,
     "end_time": "2021-04-11T12:04:40.653118",
     "exception": false,
     "start_time": "2021-04-11T12:04:40.609979",
     "status": "completed"
    },
    "tags": []
   },
   "outputs": [],
   "source": [
    "# #hide\n",
    "# g = g[g.group.notna()]"
   ]
  },
  {
   "cell_type": "code",
   "execution_count": 40,
   "id": "determined-closing",
   "metadata": {
    "execution": {
     "iopub.execute_input": "2021-04-11T12:04:40.731232Z",
     "iopub.status.busy": "2021-04-11T12:04:40.730577Z",
     "iopub.status.idle": "2021-04-11T12:04:40.733192Z",
     "shell.execute_reply": "2021-04-11T12:04:40.732657Z"
    },
    "papermill": {
     "duration": 0.042637,
     "end_time": "2021-04-11T12:04:40.733308",
     "exception": false,
     "start_time": "2021-04-11T12:04:40.690671",
     "status": "completed"
    },
    "tags": []
   },
   "outputs": [],
   "source": [
    "# #hide\n",
    "# colors = dict(zip(\n",
    "#     [\"Oceania\", \"Europe\", \"Asia\", \"South America\", \"Middle East\", \"North America\", \"Africa\"],\n",
    "#     [\"#adb0ff\", \"#ffb3ff\", \"#90d595\", \"#e48381\", \"#aafbff\", \"#f7bb5f\", \"#eafb50\"]\n",
    "# ))\n",
    "# group_lk = g.set_index('name')['group'].to_dict()"
   ]
  },
  {
   "cell_type": "code",
   "execution_count": null,
   "id": "gross-drinking",
   "metadata": {
    "papermill": {
     "duration": 0.036077,
     "end_time": "2021-04-11T12:04:40.807782",
     "exception": false,
     "start_time": "2021-04-11T12:04:40.771705",
     "status": "completed"
    },
    "tags": []
   },
   "outputs": [],
   "source": []
  },
  {
   "cell_type": "code",
   "execution_count": 41,
   "id": "subject-macintosh",
   "metadata": {
    "execution": {
     "iopub.execute_input": "2021-04-11T12:04:40.887747Z",
     "iopub.status.busy": "2021-04-11T12:04:40.887068Z",
     "iopub.status.idle": "2021-04-11T12:04:40.889285Z",
     "shell.execute_reply": "2021-04-11T12:04:40.890071Z"
    },
    "papermill": {
     "duration": 0.044033,
     "end_time": "2021-04-11T12:04:40.890206",
     "exception": false,
     "start_time": "2021-04-11T12:04:40.846173",
     "status": "completed"
    },
    "tags": []
   },
   "outputs": [],
   "source": [
    "# #hide\n",
    "# fig, ax = plt.subplots(figsize=(15, 8))\n",
    "\n",
    "# def draw_barchart(current_day):\n",
    "#     dff = g[g['day'].eq(current_day)].sort_values(by='value', ascending=True).tail(10)\n",
    "#     ax.clear()\n",
    "#     ax.barh(dff['name'], dff['value'], color=[colors[group_lk[x]] for x in dff['name']])\n",
    "#     dx = dff['value'].max() / 200\n",
    "    \n",
    "#     for i, (value, name) in enumerate(zip(dff['value'], dff['name'])):\n",
    "#         ax.text(value-dx, i,     name,           size=14, weight=600, ha='right', va='bottom')\n",
    "#         ax.text(value-dx, i-.25, group_lk[name], size=10, color='#444444', ha='right', va='baseline')\n",
    "#         ax.text(value+dx, i,     f'{value:,.0f}',  size=14, ha='left',  va='center')\n",
    "#     ax.text(1, 0.4, current_day, transform=ax.transAxes, color='#777777', size=46, ha='right', weight=800)\n",
    "#     ax.text(0, 1.06, 'Population (thousands)', transform=ax.transAxes, size=12, color='#777777')\n",
    "#     ax.xaxis.set_major_formatter(ticker.StrMethodFormatter('{x:,.0f}'))\n",
    "#     ax.xaxis.set_ticks_position('top')\n",
    "#     ax.tick_params(axis='x', colors='#777777', labelsize=12)\n",
    "#     ax.set_yticks([])\n",
    "#     ax.margins(0, 0.01)\n",
    "#     ax.grid(which='major', axis='x', linestyle='-')\n",
    "#     ax.set_axisbelow(True)\n",
    "    \n",
    "#     ax.text(0, 1.15, 'Coronavirus',\n",
    "#             transform=ax.transAxes, size=24, weight=600, ha='left', va='top')\n",
    "# #     ax.text(1, 0, 'by @pratapvardhan; credit @jburnmurdoch', transform=ax.transAxes, color='#777777', ha='right',\n",
    "# #             bbox=dict(facecolor='white', alpha=0.8, edgecolor='white'))\n",
    "#     plt.box(False)"
   ]
  },
  {
   "cell_type": "code",
   "execution_count": 42,
   "id": "sexual-wages",
   "metadata": {
    "execution": {
     "iopub.execute_input": "2021-04-11T12:04:40.968531Z",
     "iopub.status.busy": "2021-04-11T12:04:40.967959Z",
     "iopub.status.idle": "2021-04-11T12:04:40.969965Z",
     "shell.execute_reply": "2021-04-11T12:04:40.970461Z"
    },
    "papermill": {
     "duration": 0.043864,
     "end_time": "2021-04-11T12:04:40.970592",
     "exception": false,
     "start_time": "2021-04-11T12:04:40.926728",
     "status": "completed"
    },
    "tags": []
   },
   "outputs": [],
   "source": [
    "# #hide_input\n",
    "# fig, ax = plt.subplots(figsize=(15, 8))\n",
    "# animator = animation.FuncAnimation(fig, draw_barchart, frames=range(g.day.values.min(), g.day.values.max()))\n",
    "# HTML(animator.to_jshtml())\n",
    "# # or use animator.to_html5_video() or animator.save() "
   ]
  },
  {
   "cell_type": "code",
   "execution_count": null,
   "id": "australian-container",
   "metadata": {
    "papermill": {
     "duration": 0.036779,
     "end_time": "2021-04-11T12:04:41.043232",
     "exception": false,
     "start_time": "2021-04-11T12:04:41.006453",
     "status": "completed"
    },
    "tags": []
   },
   "outputs": [],
   "source": []
  },
  {
   "cell_type": "code",
   "execution_count": null,
   "id": "mediterranean-pontiac",
   "metadata": {
    "papermill": {
     "duration": 0.035661,
     "end_time": "2021-04-11T12:04:41.116914",
     "exception": false,
     "start_time": "2021-04-11T12:04:41.081253",
     "status": "completed"
    },
    "tags": []
   },
   "outputs": [],
   "source": []
  },
  {
   "cell_type": "code",
   "execution_count": null,
   "id": "aging-legislature",
   "metadata": {
    "papermill": {
     "duration": 0.036159,
     "end_time": "2021-04-11T12:04:41.190387",
     "exception": false,
     "start_time": "2021-04-11T12:04:41.154228",
     "status": "completed"
    },
    "tags": []
   },
   "outputs": [],
   "source": []
  }
 ],
 "metadata": {
  "kernelspec": {
   "display_name": "Python 3",
   "language": "python",
   "name": "python3"
  },
  "language_info": {
   "codemirror_mode": {
    "name": "ipython",
    "version": 3
   },
   "file_extension": ".py",
   "mimetype": "text/x-python",
   "name": "python",
   "nbconvert_exporter": "python",
   "pygments_lexer": "ipython3",
   "version": "3.6.13"
  },
  "papermill": {
   "duration": 6.876756,
   "end_time": "2021-04-11T12:04:41.535107",
   "environment_variables": {},
   "exception": null,
   "input_path": "2020-03-21-covid19exp.ipynb",
   "output_path": "2020-03-21-covid19exp.ipynb",
   "parameters": {},
   "start_time": "2021-04-11T12:04:34.658351",
   "version": "2.0.0"
  }
 },
 "nbformat": 4,
 "nbformat_minor": 5
}