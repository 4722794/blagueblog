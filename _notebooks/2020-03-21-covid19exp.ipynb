{
 "cells": [
  {
   "cell_type": "markdown",
   "id": "muslim-click",
   "metadata": {
    "papermill": {
     "duration": 0.034934,
     "end_time": "2022-04-27T12:16:11.337913",
     "exception": false,
     "start_time": "2022-04-27T12:16:11.302979",
     "status": "completed"
    },
    "tags": []
   },
   "source": [
    "# COVID-19 Case Race\n",
    "> A race chart to see rising cases around the world\n",
    "\n",
    "- author: Hargun Oberoi\n",
    "- image: images/covid-overview.png\n",
    "- hide: false\n",
    "- badges: false"
   ]
  },
  {
   "cell_type": "code",
   "execution_count": 1,
   "id": "proof-material",
   "metadata": {
    "execution": {
     "iopub.execute_input": "2022-04-27T12:16:11.418805Z",
     "iopub.status.busy": "2022-04-27T12:16:11.417995Z",
     "iopub.status.idle": "2022-04-27T12:16:11.913322Z",
     "shell.execute_reply": "2022-04-27T12:16:11.913994Z"
    },
    "papermill": {
     "duration": 0.540011,
     "end_time": "2022-04-27T12:16:11.914501",
     "exception": false,
     "start_time": "2022-04-27T12:16:11.374490",
     "status": "completed"
    },
    "tags": []
   },
   "outputs": [],
   "source": [
    "#hide\n",
    "import numpy as np\n",
    "import pandas as pd\n",
    "from jinja2 import Template\n",
    "from IPython.display import HTML"
   ]
  },
  {
   "cell_type": "code",
   "execution_count": 2,
   "id": "developed-terminology",
   "metadata": {
    "execution": {
     "iopub.execute_input": "2022-04-27T12:16:11.994760Z",
     "iopub.status.busy": "2022-04-27T12:16:11.994006Z",
     "iopub.status.idle": "2022-04-27T12:16:12.001414Z",
     "shell.execute_reply": "2022-04-27T12:16:12.002142Z"
    },
    "papermill": {
     "duration": 0.053486,
     "end_time": "2022-04-27T12:16:12.002435",
     "exception": false,
     "start_time": "2022-04-27T12:16:11.948949",
     "status": "completed"
    },
    "tags": []
   },
   "outputs": [],
   "source": [
    "#hide\n",
    "\n",
    "# FETCH\n",
    "base_url = 'https://raw.githubusercontent.com/pratapvardhan/notebooks/master/covid19/'\n",
    "paths = {\n",
    "    'mapping': base_url + 'mapping_countries.csv',\n",
    "    'overview': base_url + 'overview.tpl'\n",
    "}"
   ]
  },
  {
   "cell_type": "code",
   "execution_count": 3,
   "id": "dynamic-saver",
   "metadata": {
    "execution": {
     "iopub.execute_input": "2022-04-27T12:16:12.088429Z",
     "iopub.status.busy": "2022-04-27T12:16:12.087027Z",
     "iopub.status.idle": "2022-04-27T12:16:12.091018Z",
     "shell.execute_reply": "2022-04-27T12:16:12.091547Z"
    },
    "papermill": {
     "duration": 0.054286,
     "end_time": "2022-04-27T12:16:12.091759",
     "exception": false,
     "start_time": "2022-04-27T12:16:12.037473",
     "status": "completed"
    },
    "tags": []
   },
   "outputs": [
    {
     "data": {
      "text/plain": [
       "'https://raw.githubusercontent.com/pratapvardhan/notebooks/master/covid19/mapping_countries.csv'"
      ]
     },
     "execution_count": 3,
     "metadata": {},
     "output_type": "execute_result"
    }
   ],
   "source": [
    "#hide\n",
    "paths['mapping']"
   ]
  },
  {
   "cell_type": "code",
   "execution_count": 4,
   "id": "urban-software",
   "metadata": {
    "execution": {
     "iopub.execute_input": "2022-04-27T12:16:12.169082Z",
     "iopub.status.busy": "2022-04-27T12:16:12.167870Z",
     "iopub.status.idle": "2022-04-27T12:16:12.173969Z",
     "shell.execute_reply": "2022-04-27T12:16:12.174548Z"
    },
    "papermill": {
     "duration": 0.050436,
     "end_time": "2022-04-27T12:16:12.174997",
     "exception": false,
     "start_time": "2022-04-27T12:16:12.124561",
     "status": "completed"
    },
    "tags": []
   },
   "outputs": [],
   "source": [
    "#hide\n",
    "def get_mappings(url):\n",
    "    df = pd.read_csv(url)\n",
    "    return {\n",
    "        'df': df,\n",
    "        'replace.country': dict(df.dropna(subset=['Name']).set_index('Country')['Name']),\n",
    "        'map.continent': dict(df.set_index('Name')['Continent'])\n",
    "    }"
   ]
  },
  {
   "cell_type": "code",
   "execution_count": 5,
   "id": "intimate-machinery",
   "metadata": {
    "execution": {
     "iopub.execute_input": "2022-04-27T12:16:12.253273Z",
     "iopub.status.busy": "2022-04-27T12:16:12.252553Z",
     "iopub.status.idle": "2022-04-27T12:16:12.321101Z",
     "shell.execute_reply": "2022-04-27T12:16:12.320470Z"
    },
    "papermill": {
     "duration": 0.114283,
     "end_time": "2022-04-27T12:16:12.321272",
     "exception": false,
     "start_time": "2022-04-27T12:16:12.206989",
     "status": "completed"
    },
    "tags": []
   },
   "outputs": [],
   "source": [
    "#hide\n",
    "mapping = get_mappings(paths['mapping'])"
   ]
  },
  {
   "cell_type": "code",
   "execution_count": 6,
   "id": "certified-tactics",
   "metadata": {
    "execution": {
     "iopub.execute_input": "2022-04-27T12:16:12.388864Z",
     "iopub.status.busy": "2022-04-27T12:16:12.388369Z",
     "iopub.status.idle": "2022-04-27T12:16:12.390445Z",
     "shell.execute_reply": "2022-04-27T12:16:12.390078Z"
    },
    "papermill": {
     "duration": 0.037707,
     "end_time": "2022-04-27T12:16:12.390551",
     "exception": false,
     "start_time": "2022-04-27T12:16:12.352844",
     "status": "completed"
    },
    "tags": []
   },
   "outputs": [],
   "source": [
    "#hide\n",
    "def get_template(path):\n",
    "    from urllib.parse import urlparse\n",
    "    if bool(urlparse(path).netloc):\n",
    "        from urllib.request import urlopen\n",
    "        return urlopen(path).read().decode('utf8')\n",
    "    return open(path).read()"
   ]
  },
  {
   "cell_type": "code",
   "execution_count": 7,
   "id": "realistic-blast",
   "metadata": {
    "execution": {
     "iopub.execute_input": "2022-04-27T12:16:12.451110Z",
     "iopub.status.busy": "2022-04-27T12:16:12.450478Z",
     "iopub.status.idle": "2022-04-27T12:16:12.452724Z",
     "shell.execute_reply": "2022-04-27T12:16:12.453168Z"
    },
    "papermill": {
     "duration": 0.036738,
     "end_time": "2022-04-27T12:16:12.453373",
     "exception": false,
     "start_time": "2022-04-27T12:16:12.416635",
     "status": "completed"
    },
    "tags": []
   },
   "outputs": [],
   "source": [
    "#hide\n",
    "def get_frame(name):\n",
    "    url = (\n",
    "        'https://raw.githubusercontent.com/CSSEGISandData/COVID-19/master/csse_covid_19_data/'\n",
    "        f'csse_covid_19_time_series/time_series_covid19_{name}_global.csv')\n",
    "    df = pd.read_csv(url)\n",
    "    # rename countries\n",
    "    df['Country/Region'] = df['Country/Region'].replace(mapping['replace.country'])\n",
    "    return df"
   ]
  },
  {
   "cell_type": "code",
   "execution_count": 8,
   "id": "affiliated-characterization",
   "metadata": {
    "execution": {
     "iopub.execute_input": "2022-04-27T12:16:12.516536Z",
     "iopub.status.busy": "2022-04-27T12:16:12.515910Z",
     "iopub.status.idle": "2022-04-27T12:16:12.518562Z",
     "shell.execute_reply": "2022-04-27T12:16:12.518138Z"
    },
    "papermill": {
     "duration": 0.037861,
     "end_time": "2022-04-27T12:16:12.518719",
     "exception": false,
     "start_time": "2022-04-27T12:16:12.480858",
     "status": "completed"
    },
    "tags": []
   },
   "outputs": [],
   "source": [
    "#hide\n",
    "def get_dates(df):\n",
    "    dt_cols = df.columns[~df.columns.isin(['Province/State', 'Country/Region', 'Lat', 'Long'])]\n",
    "    LAST_DATE_I = -1\n",
    "    # sometimes last column may be empty, then go backwards\n",
    "    for i in range(-1, -len(dt_cols), -1):\n",
    "        if not df[dt_cols[i]].fillna(0).eq(0).all():\n",
    "            LAST_DATE_I = i\n",
    "            break\n",
    "    return LAST_DATE_I, dt_cols"
   ]
  },
  {
   "cell_type": "code",
   "execution_count": 9,
   "id": "recent-optimization",
   "metadata": {
    "execution": {
     "iopub.execute_input": "2022-04-27T12:16:12.584451Z",
     "iopub.status.busy": "2022-04-27T12:16:12.583736Z",
     "iopub.status.idle": "2022-04-27T12:16:13.221522Z",
     "shell.execute_reply": "2022-04-27T12:16:13.221015Z"
    },
    "papermill": {
     "duration": 0.674475,
     "end_time": "2022-04-27T12:16:13.221715",
     "exception": false,
     "start_time": "2022-04-27T12:16:12.547240",
     "status": "completed"
    },
    "tags": []
   },
   "outputs": [],
   "source": [
    "#hide\n",
    "COL_REGION = 'Country/Region'\n",
    "# Confirmed, Recovered, Deaths\n",
    "df = get_frame('confirmed')\n",
    "# dft_: timeseries, dfc_: today country agg\n",
    "dft_cases = df\n",
    "dft_deaths = get_frame('deaths')\n",
    "dft_recovered = get_frame('recovered')\n",
    "LAST_DATE_I, dt_cols = get_dates(df)"
   ]
  },
  {
   "cell_type": "code",
   "execution_count": 10,
   "id": "absolute-copper",
   "metadata": {
    "execution": {
     "iopub.execute_input": "2022-04-27T12:16:13.291818Z",
     "iopub.status.busy": "2022-04-27T12:16:13.286011Z",
     "iopub.status.idle": "2022-04-27T12:16:13.297160Z",
     "shell.execute_reply": "2022-04-27T12:16:13.296564Z"
    },
    "papermill": {
     "duration": 0.04457,
     "end_time": "2022-04-27T12:16:13.297366",
     "exception": false,
     "start_time": "2022-04-27T12:16:13.252796",
     "status": "completed"
    },
    "tags": []
   },
   "outputs": [],
   "source": [
    "#hide\n",
    "LAST_DATE_I, dt_cols = get_dates(df)\n",
    "dt_today =dt_cols[LAST_DATE_I]\n",
    "# dt_5day = dt_cols[LAST_DATE_I - 5]\n",
    "dt_yday = dt_cols[LAST_DATE_I - 1]"
   ]
  },
  {
   "cell_type": "code",
   "execution_count": 11,
   "id": "restricted-sheriff",
   "metadata": {
    "execution": {
     "iopub.execute_input": "2022-04-27T12:16:13.363755Z",
     "iopub.status.busy": "2022-04-27T12:16:13.361417Z",
     "iopub.status.idle": "2022-04-27T12:16:13.372995Z",
     "shell.execute_reply": "2022-04-27T12:16:13.373464Z"
    },
    "papermill": {
     "duration": 0.048581,
     "end_time": "2022-04-27T12:16:13.373682",
     "exception": false,
     "start_time": "2022-04-27T12:16:13.325101",
     "status": "completed"
    },
    "tags": []
   },
   "outputs": [],
   "source": [
    "#hide\n",
    "dfc_cases = dft_cases.groupby(COL_REGION)[dt_today].sum()\n",
    "dfc_deaths = dft_deaths.groupby(COL_REGION)[dt_today].sum()\n",
    "# dfp_cases = dft_cases.groupby(COL_REGION)[dt_5day].sum()\n",
    "# dfp_deaths = dft_deaths.groupby(COL_REGION)[dt_5day].sum()\n",
    "dfp_cases = dft_cases.groupby(COL_REGION)[dt_yday].sum()\n",
    "dfp_deaths = dft_deaths.groupby(COL_REGION)[dt_yday].sum()"
   ]
  },
  {
   "cell_type": "code",
   "execution_count": 12,
   "id": "deluxe-hepatitis",
   "metadata": {
    "execution": {
     "iopub.execute_input": "2022-04-27T12:16:13.438811Z",
     "iopub.status.busy": "2022-04-27T12:16:13.438241Z",
     "iopub.status.idle": "2022-04-27T12:16:13.444530Z",
     "shell.execute_reply": "2022-04-27T12:16:13.443921Z"
    },
    "papermill": {
     "duration": 0.042987,
     "end_time": "2022-04-27T12:16:13.444767",
     "exception": false,
     "start_time": "2022-04-27T12:16:13.401780",
     "status": "completed"
    },
    "tags": []
   },
   "outputs": [],
   "source": [
    "#hide\n",
    "df_table = (pd.DataFrame(dict(Cases = dfc_cases, Deaths = dfc_deaths, PCases = dfp_cases, PDeaths = dfp_deaths))\n",
    "            .sort_values(by = ['Cases','Deaths'], ascending = [False, False])\n",
    "            .reset_index())"
   ]
  },
  {
   "cell_type": "code",
   "execution_count": 13,
   "id": "educational-chancellor",
   "metadata": {
    "execution": {
     "iopub.execute_input": "2022-04-27T12:16:13.534390Z",
     "iopub.status.busy": "2022-04-27T12:16:13.518972Z",
     "iopub.status.idle": "2022-04-27T12:16:13.551304Z",
     "shell.execute_reply": "2022-04-27T12:16:13.551957Z"
    },
    "papermill": {
     "duration": 0.079508,
     "end_time": "2022-04-27T12:16:13.552363",
     "exception": false,
     "start_time": "2022-04-27T12:16:13.472855",
     "status": "completed"
    },
    "tags": []
   },
   "outputs": [
    {
     "data": {
      "text/html": [
       "<div>\n",
       "<style scoped>\n",
       "    .dataframe tbody tr th:only-of-type {\n",
       "        vertical-align: middle;\n",
       "    }\n",
       "\n",
       "    .dataframe tbody tr th {\n",
       "        vertical-align: top;\n",
       "    }\n",
       "\n",
       "    .dataframe thead th {\n",
       "        text-align: right;\n",
       "    }\n",
       "</style>\n",
       "<table border=\"1\" class=\"dataframe\">\n",
       "  <thead>\n",
       "    <tr style=\"text-align: right;\">\n",
       "      <th></th>\n",
       "      <th>Country/Region</th>\n",
       "      <th>Cases</th>\n",
       "      <th>Deaths</th>\n",
       "      <th>PCases</th>\n",
       "      <th>PDeaths</th>\n",
       "      <th>Cases (+)</th>\n",
       "      <th>Deaths (+)</th>\n",
       "      <th>Fatality Rate</th>\n",
       "      <th>Continent</th>\n",
       "    </tr>\n",
       "  </thead>\n",
       "  <tbody>\n",
       "    <tr>\n",
       "      <th>0</th>\n",
       "      <td>US</td>\n",
       "      <td>81100599</td>\n",
       "      <td>991940</td>\n",
       "      <td>81043315</td>\n",
       "      <td>991609</td>\n",
       "      <td>57284</td>\n",
       "      <td>331</td>\n",
       "      <td>1.22</td>\n",
       "      <td>North America</td>\n",
       "    </tr>\n",
       "    <tr>\n",
       "      <th>1</th>\n",
       "      <td>India</td>\n",
       "      <td>43065496</td>\n",
       "      <td>523654</td>\n",
       "      <td>43060097</td>\n",
       "      <td>522223</td>\n",
       "      <td>5399</td>\n",
       "      <td>1431</td>\n",
       "      <td>1.22</td>\n",
       "      <td>Asia</td>\n",
       "    </tr>\n",
       "    <tr>\n",
       "      <th>2</th>\n",
       "      <td>Brazil</td>\n",
       "      <td>30378061</td>\n",
       "      <td>663108</td>\n",
       "      <td>30355919</td>\n",
       "      <td>662964</td>\n",
       "      <td>22142</td>\n",
       "      <td>144</td>\n",
       "      <td>2.18</td>\n",
       "      <td>South America</td>\n",
       "    </tr>\n",
       "    <tr>\n",
       "      <th>3</th>\n",
       "      <td>France</td>\n",
       "      <td>28605614</td>\n",
       "      <td>146464</td>\n",
       "      <td>28508116</td>\n",
       "      <td>146294</td>\n",
       "      <td>97498</td>\n",
       "      <td>170</td>\n",
       "      <td>0.51</td>\n",
       "      <td>Europe</td>\n",
       "    </tr>\n",
       "    <tr>\n",
       "      <th>4</th>\n",
       "      <td>Germany</td>\n",
       "      <td>24337394</td>\n",
       "      <td>134489</td>\n",
       "      <td>24337394</td>\n",
       "      <td>134489</td>\n",
       "      <td>0</td>\n",
       "      <td>0</td>\n",
       "      <td>0.55</td>\n",
       "      <td>Europe</td>\n",
       "    </tr>\n",
       "  </tbody>\n",
       "</table>\n",
       "</div>"
      ],
      "text/plain": [
       "  Country/Region     Cases  Deaths    PCases  PDeaths  Cases (+)  Deaths (+)  \\\n",
       "0             US  81100599  991940  81043315   991609      57284         331   \n",
       "1          India  43065496  523654  43060097   522223       5399        1431   \n",
       "2         Brazil  30378061  663108  30355919   662964      22142         144   \n",
       "3         France  28605614  146464  28508116   146294      97498         170   \n",
       "4        Germany  24337394  134489  24337394   134489          0           0   \n",
       "\n",
       "   Fatality Rate      Continent  \n",
       "0           1.22  North America  \n",
       "1           1.22           Asia  \n",
       "2           2.18  South America  \n",
       "3           0.51         Europe  \n",
       "4           0.55         Europe  "
      ]
     },
     "execution_count": 13,
     "metadata": {},
     "output_type": "execute_result"
    }
   ],
   "source": [
    "#hide\n",
    "for c in 'Cases, Deaths'.split(', '):\n",
    "    df_table[f'{c} (+)'] = (df_table[c] - df_table[f'P{c}']).clip(0)\n",
    "    #Clip ça veut dire, les chiffres negatif sont interdit\n",
    "df_table['Fatality Rate'] = (100* df_table['Deaths']/ df_table['Cases']).round(2)\n",
    "df_table['Continent'] = df_table['Country/Region'].map(mapping['map.continent'])\n",
    "df_table.head(5)"
   ]
  },
  {
   "cell_type": "code",
   "execution_count": 14,
   "id": "aboriginal-bulgaria",
   "metadata": {
    "execution": {
     "iopub.execute_input": "2022-04-27T12:16:13.618782Z",
     "iopub.status.busy": "2022-04-27T12:16:13.618084Z",
     "iopub.status.idle": "2022-04-27T12:16:13.621558Z",
     "shell.execute_reply": "2022-04-27T12:16:13.622038Z"
    },
    "papermill": {
     "duration": 0.040662,
     "end_time": "2022-04-27T12:16:13.622261",
     "exception": false,
     "start_time": "2022-04-27T12:16:13.581599",
     "status": "completed"
    },
    "tags": []
   },
   "outputs": [],
   "source": [
    "#hide\n",
    "#delete problematic countries from table\n",
    "df_table = df_table[~df_table['Country/Region'].isin(['Cape Verde', 'Cruise Ship', 'Kosovo'])]"
   ]
  },
  {
   "cell_type": "code",
   "execution_count": 15,
   "id": "fantastic-effect",
   "metadata": {
    "execution": {
     "iopub.execute_input": "2022-04-27T12:16:13.708365Z",
     "iopub.status.busy": "2022-04-27T12:16:13.688823Z",
     "iopub.status.idle": "2022-04-27T12:16:13.714416Z",
     "shell.execute_reply": "2022-04-27T12:16:13.713654Z"
    },
    "papermill": {
     "duration": 0.064198,
     "end_time": "2022-04-27T12:16:13.714666",
     "exception": false,
     "start_time": "2022-04-27T12:16:13.650468",
     "status": "completed"
    },
    "tags": []
   },
   "outputs": [
    {
     "data": {
      "text/html": [
       "<div>\n",
       "<style scoped>\n",
       "    .dataframe tbody tr th:only-of-type {\n",
       "        vertical-align: middle;\n",
       "    }\n",
       "\n",
       "    .dataframe tbody tr th {\n",
       "        vertical-align: top;\n",
       "    }\n",
       "\n",
       "    .dataframe thead th {\n",
       "        text-align: right;\n",
       "    }\n",
       "</style>\n",
       "<table border=\"1\" class=\"dataframe\">\n",
       "  <thead>\n",
       "    <tr style=\"text-align: right;\">\n",
       "      <th></th>\n",
       "      <th>Country/Region</th>\n",
       "      <th>Cases</th>\n",
       "      <th>Deaths</th>\n",
       "      <th>PCases</th>\n",
       "      <th>PDeaths</th>\n",
       "      <th>Cases (+)</th>\n",
       "      <th>Deaths (+)</th>\n",
       "      <th>Fatality Rate</th>\n",
       "      <th>Continent</th>\n",
       "    </tr>\n",
       "  </thead>\n",
       "  <tbody>\n",
       "    <tr>\n",
       "      <th>0</th>\n",
       "      <td>US</td>\n",
       "      <td>81100599</td>\n",
       "      <td>991940</td>\n",
       "      <td>81043315</td>\n",
       "      <td>991609</td>\n",
       "      <td>57284</td>\n",
       "      <td>331</td>\n",
       "      <td>1.2</td>\n",
       "      <td>North America</td>\n",
       "    </tr>\n",
       "    <tr>\n",
       "      <th>1</th>\n",
       "      <td>India</td>\n",
       "      <td>43065496</td>\n",
       "      <td>523654</td>\n",
       "      <td>43060097</td>\n",
       "      <td>522223</td>\n",
       "      <td>5399</td>\n",
       "      <td>1431</td>\n",
       "      <td>1.2</td>\n",
       "      <td>Asia</td>\n",
       "    </tr>\n",
       "    <tr>\n",
       "      <th>2</th>\n",
       "      <td>Brazil</td>\n",
       "      <td>30378061</td>\n",
       "      <td>663108</td>\n",
       "      <td>30355919</td>\n",
       "      <td>662964</td>\n",
       "      <td>22142</td>\n",
       "      <td>144</td>\n",
       "      <td>2.2</td>\n",
       "      <td>South America</td>\n",
       "    </tr>\n",
       "    <tr>\n",
       "      <th>3</th>\n",
       "      <td>France</td>\n",
       "      <td>28605614</td>\n",
       "      <td>146464</td>\n",
       "      <td>28508116</td>\n",
       "      <td>146294</td>\n",
       "      <td>97498</td>\n",
       "      <td>170</td>\n",
       "      <td>0.5</td>\n",
       "      <td>Europe</td>\n",
       "    </tr>\n",
       "    <tr>\n",
       "      <th>4</th>\n",
       "      <td>Germany</td>\n",
       "      <td>24337394</td>\n",
       "      <td>134489</td>\n",
       "      <td>24337394</td>\n",
       "      <td>134489</td>\n",
       "      <td>0</td>\n",
       "      <td>0</td>\n",
       "      <td>0.6</td>\n",
       "      <td>Europe</td>\n",
       "    </tr>\n",
       "  </tbody>\n",
       "</table>\n",
       "</div>"
      ],
      "text/plain": [
       "  Country/Region     Cases  Deaths    PCases  PDeaths  Cases (+)  Deaths (+)  \\\n",
       "0             US  81100599  991940  81043315   991609      57284         331   \n",
       "1          India  43065496  523654  43060097   522223       5399        1431   \n",
       "2         Brazil  30378061  663108  30355919   662964      22142         144   \n",
       "3         France  28605614  146464  28508116   146294      97498         170   \n",
       "4        Germany  24337394  134489  24337394   134489          0           0   \n",
       "\n",
       "   Fatality Rate      Continent  \n",
       "0            1.2  North America  \n",
       "1            1.2           Asia  \n",
       "2            2.2  South America  \n",
       "3            0.5         Europe  \n",
       "4            0.6         Europe  "
      ]
     },
     "execution_count": 15,
     "metadata": {},
     "output_type": "execute_result"
    }
   ],
   "source": [
    "#hide\n",
    "df_table = (pd.DataFrame(dict(Cases=dfc_cases, Deaths=dfc_deaths, PCases=dfp_cases, PDeaths=dfp_deaths))\n",
    "             .sort_values(by=['Cases', 'Deaths'], ascending=[False, False])\n",
    "             .reset_index())\n",
    "df_table.rename(columns={'index': 'Country/Region'}, inplace=True)\n",
    "for c in 'Cases, Deaths'.split(', '):\n",
    "    df_table[f'{c} (+)'] = (df_table[c] - df_table[f'P{c}']).clip(0)  # DATA BUG\n",
    "df_table['Fatality Rate'] = (100 * df_table['Deaths'] / df_table['Cases']).round(1)\n",
    "df_table['Continent'] = df_table['Country/Region'].map(mapping['map.continent'])\n",
    "df_table.head(5)"
   ]
  },
  {
   "cell_type": "code",
   "execution_count": 16,
   "id": "fewer-occasion",
   "metadata": {
    "execution": {
     "iopub.execute_input": "2022-04-27T12:16:13.791253Z",
     "iopub.status.busy": "2022-04-27T12:16:13.789942Z",
     "iopub.status.idle": "2022-04-27T12:16:13.797931Z",
     "shell.execute_reply": "2022-04-27T12:16:13.798621Z"
    },
    "papermill": {
     "duration": 0.053541,
     "end_time": "2022-04-27T12:16:13.798903",
     "exception": false,
     "start_time": "2022-04-27T12:16:13.745362",
     "status": "completed"
    },
    "tags": []
   },
   "outputs": [],
   "source": [
    "#hide\n",
    "#delete problematic countries from table\n",
    "df_table = df_table[~df_table['Country/Region'].isin(['Cape Verde', 'Cruise Ship', 'Kosovo'])]"
   ]
  },
  {
   "cell_type": "code",
   "execution_count": 17,
   "id": "related-center",
   "metadata": {
    "execution": {
     "iopub.execute_input": "2022-04-27T12:16:13.884496Z",
     "iopub.status.busy": "2022-04-27T12:16:13.883599Z",
     "iopub.status.idle": "2022-04-27T12:16:13.886235Z",
     "shell.execute_reply": "2022-04-27T12:16:13.886691Z"
    },
    "papermill": {
     "duration": 0.058609,
     "end_time": "2022-04-27T12:16:13.886902",
     "exception": false,
     "start_time": "2022-04-27T12:16:13.828293",
     "status": "completed"
    },
    "tags": []
   },
   "outputs": [],
   "source": [
    "#hide\n",
    "metrics = [df_table.columns[index] for index in [1,2,5,6]]\n",
    "# s_china = df_table[df_table['Country/Region'].eq('China')][metrics].sum().add_prefix('China ')\n",
    "s_us = df_table[df_table['Country/Region'].eq('US')][metrics].sum().add_prefix('US ')\n",
    "s_eu = df_table[df_table['Continent'].eq('Europe')][metrics].sum().add_prefix('EU ')\n",
    "s_ind = df_table[df_table['Country/Region'].eq('India')][metrics].sum().add_prefix('India ')\n",
    "summary = {'updated': pd.to_datetime(dt_today), 'since': pd.to_datetime(dt_yday)}\n",
    "summary = {'updated': pd.to_datetime(dt_today), 'since': pd.to_datetime(dt_yday)}\n",
    "summary = {**summary, **df_table[metrics].sum(), **s_ind, **s_us, **s_eu}"
   ]
  },
  {
   "cell_type": "code",
   "execution_count": 18,
   "id": "engaging-syndrome",
   "metadata": {
    "execution": {
     "iopub.execute_input": "2022-04-27T12:16:13.952518Z",
     "iopub.status.busy": "2022-04-27T12:16:13.951638Z",
     "iopub.status.idle": "2022-04-27T12:16:13.997521Z",
     "shell.execute_reply": "2022-04-27T12:16:13.996688Z"
    },
    "papermill": {
     "duration": 0.082033,
     "end_time": "2022-04-27T12:16:13.997736",
     "exception": false,
     "start_time": "2022-04-27T12:16:13.915703",
     "status": "completed"
    },
    "tags": []
   },
   "outputs": [],
   "source": [
    "#hide\n",
    "dft_ct_new_cases = dft_cases.groupby(COL_REGION)[dt_cols].sum().diff(axis=1).fillna(0).astype(int)"
   ]
  },
  {
   "cell_type": "code",
   "execution_count": 19,
   "id": "neutral-assignment",
   "metadata": {
    "execution": {
     "iopub.execute_input": "2022-04-27T12:16:14.087936Z",
     "iopub.status.busy": "2022-04-27T12:16:14.087197Z",
     "iopub.status.idle": "2022-04-27T12:16:14.089332Z",
     "shell.execute_reply": "2022-04-27T12:16:14.089783Z"
    },
    "papermill": {
     "duration": 0.056328,
     "end_time": "2022-04-27T12:16:14.090003",
     "exception": false,
     "start_time": "2022-04-27T12:16:14.033675",
     "status": "completed"
    },
    "tags": []
   },
   "outputs": [],
   "source": [
    "#hide\n",
    "everydaycases = dft_ct_new_cases.cumsum(axis=1)"
   ]
  },
  {
   "cell_type": "code",
   "execution_count": 20,
   "id": "parliamentary-calgary",
   "metadata": {
    "execution": {
     "iopub.execute_input": "2022-04-27T12:16:14.155420Z",
     "iopub.status.busy": "2022-04-27T12:16:14.154739Z",
     "iopub.status.idle": "2022-04-27T12:16:14.807812Z",
     "shell.execute_reply": "2022-04-27T12:16:14.808276Z"
    },
    "papermill": {
     "duration": 0.68915,
     "end_time": "2022-04-27T12:16:14.808430",
     "exception": false,
     "start_time": "2022-04-27T12:16:14.119280",
     "status": "completed"
    },
    "tags": []
   },
   "outputs": [],
   "source": [
    "#hide\n",
    "import pandas as pd\n",
    "import matplotlib.pyplot as plt\n",
    "import matplotlib.ticker as ticker\n",
    "import matplotlib.animation as animation\n",
    "from IPython.display import HTML"
   ]
  },
  {
   "cell_type": "code",
   "execution_count": 21,
   "id": "lasting-extraction",
   "metadata": {
    "execution": {
     "iopub.execute_input": "2022-04-27T12:16:14.873211Z",
     "iopub.status.busy": "2022-04-27T12:16:14.872512Z",
     "iopub.status.idle": "2022-04-27T12:16:14.886451Z",
     "shell.execute_reply": "2022-04-27T12:16:14.885903Z"
    },
    "papermill": {
     "duration": 0.051054,
     "end_time": "2022-04-27T12:16:14.886634",
     "exception": false,
     "start_time": "2022-04-27T12:16:14.835580",
     "status": "completed"
    },
    "tags": []
   },
   "outputs": [],
   "source": [
    "#hide\n",
    "t = everydaycases.stack()"
   ]
  },
  {
   "cell_type": "code",
   "execution_count": 22,
   "id": "premier-sleeve",
   "metadata": {
    "execution": {
     "iopub.execute_input": "2022-04-27T12:16:14.950763Z",
     "iopub.status.busy": "2022-04-27T12:16:14.950110Z",
     "iopub.status.idle": "2022-04-27T12:16:14.972592Z",
     "shell.execute_reply": "2022-04-27T12:16:14.972026Z"
    },
    "papermill": {
     "duration": 0.057194,
     "end_time": "2022-04-27T12:16:14.972741",
     "exception": false,
     "start_time": "2022-04-27T12:16:14.915547",
     "status": "completed"
    },
    "tags": []
   },
   "outputs": [],
   "source": [
    "#hide\n",
    "g = t.reset_index(['Country/Region'])"
   ]
  },
  {
   "cell_type": "code",
   "execution_count": 23,
   "id": "distributed-pittsburgh",
   "metadata": {
    "execution": {
     "iopub.execute_input": "2022-04-27T12:16:15.037207Z",
     "iopub.status.busy": "2022-04-27T12:16:15.036470Z",
     "iopub.status.idle": "2022-04-27T12:16:15.038448Z",
     "shell.execute_reply": "2022-04-27T12:16:15.039018Z"
    },
    "papermill": {
     "duration": 0.037578,
     "end_time": "2022-04-27T12:16:15.039167",
     "exception": false,
     "start_time": "2022-04-27T12:16:15.001589",
     "status": "completed"
    },
    "tags": []
   },
   "outputs": [],
   "source": [
    "#hide\n",
    "g.index.name = 'date'"
   ]
  },
  {
   "cell_type": "code",
   "execution_count": 24,
   "id": "naked-donor",
   "metadata": {
    "execution": {
     "iopub.execute_input": "2022-04-27T12:16:15.103020Z",
     "iopub.status.busy": "2022-04-27T12:16:15.102353Z",
     "iopub.status.idle": "2022-04-27T12:16:15.105718Z",
     "shell.execute_reply": "2022-04-27T12:16:15.106263Z"
    },
    "papermill": {
     "duration": 0.03873,
     "end_time": "2022-04-27T12:16:15.106454",
     "exception": false,
     "start_time": "2022-04-27T12:16:15.067724",
     "status": "completed"
    },
    "tags": []
   },
   "outputs": [],
   "source": [
    "# #hide\n",
    "# g = g.reset_index(['date'])"
   ]
  },
  {
   "cell_type": "code",
   "execution_count": 25,
   "id": "incomplete-mustang",
   "metadata": {
    "execution": {
     "iopub.execute_input": "2022-04-27T12:16:15.170314Z",
     "iopub.status.busy": "2022-04-27T12:16:15.169578Z",
     "iopub.status.idle": "2022-04-27T12:16:15.174138Z",
     "shell.execute_reply": "2022-04-27T12:16:15.174591Z"
    },
    "papermill": {
     "duration": 0.040028,
     "end_time": "2022-04-27T12:16:15.174853",
     "exception": false,
     "start_time": "2022-04-27T12:16:15.134825",
     "status": "completed"
    },
    "tags": []
   },
   "outputs": [],
   "source": [
    "#hide\n",
    "# g.head()"
   ]
  },
  {
   "cell_type": "code",
   "execution_count": 26,
   "id": "specific-kruger",
   "metadata": {
    "execution": {
     "iopub.execute_input": "2022-04-27T12:16:15.249373Z",
     "iopub.status.busy": "2022-04-27T12:16:15.248608Z",
     "iopub.status.idle": "2022-04-27T12:16:15.251812Z",
     "shell.execute_reply": "2022-04-27T12:16:15.252454Z"
    },
    "papermill": {
     "duration": 0.044649,
     "end_time": "2022-04-27T12:16:15.252673",
     "exception": false,
     "start_time": "2022-04-27T12:16:15.208024",
     "status": "completed"
    },
    "tags": []
   },
   "outputs": [],
   "source": [
    "#hide\n",
    "# g.columns = ['date','country','cases']"
   ]
  },
  {
   "cell_type": "code",
   "execution_count": 27,
   "id": "tender-conversion",
   "metadata": {
    "execution": {
     "iopub.execute_input": "2022-04-27T12:16:15.318758Z",
     "iopub.status.busy": "2022-04-27T12:16:15.317908Z",
     "iopub.status.idle": "2022-04-27T12:16:15.323133Z",
     "shell.execute_reply": "2022-04-27T12:16:15.323660Z"
    },
    "papermill": {
     "duration": 0.042616,
     "end_time": "2022-04-27T12:16:15.323959",
     "exception": false,
     "start_time": "2022-04-27T12:16:15.281343",
     "status": "completed"
    },
    "tags": []
   },
   "outputs": [],
   "source": [
    "#hide\n",
    "# g['continent'] = g.country"
   ]
  },
  {
   "cell_type": "code",
   "execution_count": 28,
   "id": "substantial-wilderness",
   "metadata": {
    "execution": {
     "iopub.execute_input": "2022-04-27T12:16:15.400758Z",
     "iopub.status.busy": "2022-04-27T12:16:15.399805Z",
     "iopub.status.idle": "2022-04-27T12:16:15.402151Z",
     "shell.execute_reply": "2022-04-27T12:16:15.401496Z"
    },
    "papermill": {
     "duration": 0.042885,
     "end_time": "2022-04-27T12:16:15.402304",
     "exception": false,
     "start_time": "2022-04-27T12:16:15.359419",
     "status": "completed"
    },
    "tags": []
   },
   "outputs": [],
   "source": [
    "#hide\n",
    "# cols = list(g.columns.values)"
   ]
  },
  {
   "cell_type": "code",
   "execution_count": 29,
   "id": "solved-farming",
   "metadata": {
    "execution": {
     "iopub.execute_input": "2022-04-27T12:16:15.487117Z",
     "iopub.status.busy": "2022-04-27T12:16:15.486030Z",
     "iopub.status.idle": "2022-04-27T12:16:15.488934Z",
     "shell.execute_reply": "2022-04-27T12:16:15.488230Z"
    },
    "papermill": {
     "duration": 0.047635,
     "end_time": "2022-04-27T12:16:15.489108",
     "exception": false,
     "start_time": "2022-04-27T12:16:15.441473",
     "status": "completed"
    },
    "tags": []
   },
   "outputs": [],
   "source": [
    "#hide\n",
    "# cols.insert(0, cols.pop())"
   ]
  },
  {
   "cell_type": "code",
   "execution_count": 30,
   "id": "executed-adoption",
   "metadata": {
    "execution": {
     "iopub.execute_input": "2022-04-27T12:16:15.556936Z",
     "iopub.status.busy": "2022-04-27T12:16:15.555249Z",
     "iopub.status.idle": "2022-04-27T12:16:15.560316Z",
     "shell.execute_reply": "2022-04-27T12:16:15.559615Z"
    },
    "papermill": {
     "duration": 0.042385,
     "end_time": "2022-04-27T12:16:15.560489",
     "exception": false,
     "start_time": "2022-04-27T12:16:15.518104",
     "status": "completed"
    },
    "tags": []
   },
   "outputs": [],
   "source": [
    "#hide\n",
    "# g = g[cols]"
   ]
  },
  {
   "cell_type": "code",
   "execution_count": 31,
   "id": "subject-dublin",
   "metadata": {
    "execution": {
     "iopub.execute_input": "2022-04-27T12:16:15.647825Z",
     "iopub.status.busy": "2022-04-27T12:16:15.646976Z",
     "iopub.status.idle": "2022-04-27T12:16:15.648512Z",
     "shell.execute_reply": "2022-04-27T12:16:15.649179Z"
    },
    "papermill": {
     "duration": 0.046041,
     "end_time": "2022-04-27T12:16:15.649373",
     "exception": false,
     "start_time": "2022-04-27T12:16:15.603332",
     "status": "completed"
    },
    "tags": []
   },
   "outputs": [],
   "source": [
    "#hide\n",
    "# g['continent'] = g['continent'].map(mapping['map.continent'])"
   ]
  },
  {
   "cell_type": "code",
   "execution_count": 32,
   "id": "freelance-scout",
   "metadata": {
    "execution": {
     "iopub.execute_input": "2022-04-27T12:16:15.723516Z",
     "iopub.status.busy": "2022-04-27T12:16:15.722917Z",
     "iopub.status.idle": "2022-04-27T12:16:15.725242Z",
     "shell.execute_reply": "2022-04-27T12:16:15.724793Z"
    },
    "papermill": {
     "duration": 0.040152,
     "end_time": "2022-04-27T12:16:15.725409",
     "exception": false,
     "start_time": "2022-04-27T12:16:15.685257",
     "status": "completed"
    },
    "tags": []
   },
   "outputs": [],
   "source": [
    "#hide\n",
    "# g.head()"
   ]
  },
  {
   "cell_type": "code",
   "execution_count": 33,
   "id": "limited-engine",
   "metadata": {
    "execution": {
     "iopub.execute_input": "2022-04-27T12:16:15.784563Z",
     "iopub.status.busy": "2022-04-27T12:16:15.783887Z",
     "iopub.status.idle": "2022-04-27T12:16:15.786733Z",
     "shell.execute_reply": "2022-04-27T12:16:15.786359Z"
    },
    "papermill": {
     "duration": 0.0334,
     "end_time": "2022-04-27T12:16:15.786841",
     "exception": false,
     "start_time": "2022-04-27T12:16:15.753441",
     "status": "completed"
    },
    "tags": []
   },
   "outputs": [],
   "source": [
    "# hide\n",
    "# g['date'] = g['date'].astype('datetime64[ns]')"
   ]
  },
  {
   "cell_type": "code",
   "execution_count": 34,
   "id": "sophisticated-supervisor",
   "metadata": {
    "execution": {
     "iopub.execute_input": "2022-04-27T12:16:15.849454Z",
     "iopub.status.busy": "2022-04-27T12:16:15.848805Z",
     "iopub.status.idle": "2022-04-27T12:16:15.851552Z",
     "shell.execute_reply": "2022-04-27T12:16:15.851061Z"
    },
    "papermill": {
     "duration": 0.037024,
     "end_time": "2022-04-27T12:16:15.851744",
     "exception": false,
     "start_time": "2022-04-27T12:16:15.814720",
     "status": "completed"
    },
    "tags": []
   },
   "outputs": [],
   "source": [
    "#hide\n",
    "# g['date'] = g.date.dt.dayofyear"
   ]
  },
  {
   "cell_type": "code",
   "execution_count": 35,
   "id": "inside-dubai",
   "metadata": {
    "execution": {
     "iopub.execute_input": "2022-04-27T12:16:15.915665Z",
     "iopub.status.busy": "2022-04-27T12:16:15.914983Z",
     "iopub.status.idle": "2022-04-27T12:16:15.916324Z",
     "shell.execute_reply": "2022-04-27T12:16:15.917082Z"
    },
    "papermill": {
     "duration": 0.036639,
     "end_time": "2022-04-27T12:16:15.917262",
     "exception": false,
     "start_time": "2022-04-27T12:16:15.880623",
     "status": "completed"
    },
    "tags": []
   },
   "outputs": [],
   "source": [
    "#hide\n",
    "# g = g.rename(columns= {'continent':'group','country':'name','cases':'value'})"
   ]
  },
  {
   "cell_type": "code",
   "execution_count": 36,
   "id": "fleet-motorcycle",
   "metadata": {
    "execution": {
     "iopub.execute_input": "2022-04-27T12:16:15.977719Z",
     "iopub.status.busy": "2022-04-27T12:16:15.977016Z",
     "iopub.status.idle": "2022-04-27T12:16:15.981729Z",
     "shell.execute_reply": "2022-04-27T12:16:15.981321Z"
    },
    "papermill": {
     "duration": 0.035746,
     "end_time": "2022-04-27T12:16:15.981850",
     "exception": false,
     "start_time": "2022-04-27T12:16:15.946104",
     "status": "completed"
    },
    "tags": []
   },
   "outputs": [],
   "source": [
    "#hide\n",
    "# cols = ['name','group','day','value']"
   ]
  },
  {
   "cell_type": "code",
   "execution_count": 37,
   "id": "continued-sleeping",
   "metadata": {
    "execution": {
     "iopub.execute_input": "2022-04-27T12:16:16.045107Z",
     "iopub.status.busy": "2022-04-27T12:16:16.044359Z",
     "iopub.status.idle": "2022-04-27T12:16:16.047708Z",
     "shell.execute_reply": "2022-04-27T12:16:16.048373Z"
    },
    "papermill": {
     "duration": 0.039616,
     "end_time": "2022-04-27T12:16:16.048780",
     "exception": false,
     "start_time": "2022-04-27T12:16:16.009164",
     "status": "completed"
    },
    "tags": []
   },
   "outputs": [],
   "source": [
    "#hide\n",
    "# g.rename(columns= {'date':'day'},inplace = True)"
   ]
  },
  {
   "cell_type": "code",
   "execution_count": 38,
   "id": "major-fight",
   "metadata": {
    "execution": {
     "iopub.execute_input": "2022-04-27T12:16:16.116856Z",
     "iopub.status.busy": "2022-04-27T12:16:16.116027Z",
     "iopub.status.idle": "2022-04-27T12:16:16.119309Z",
     "shell.execute_reply": "2022-04-27T12:16:16.118775Z"
    },
    "papermill": {
     "duration": 0.040018,
     "end_time": "2022-04-27T12:16:16.119485",
     "exception": false,
     "start_time": "2022-04-27T12:16:16.079467",
     "status": "completed"
    },
    "tags": []
   },
   "outputs": [],
   "source": [
    "#hide\n",
    "# g = g[cols]"
   ]
  },
  {
   "cell_type": "code",
   "execution_count": 39,
   "id": "structured-mobile",
   "metadata": {
    "execution": {
     "iopub.execute_input": "2022-04-27T12:16:16.184688Z",
     "iopub.status.busy": "2022-04-27T12:16:16.183818Z",
     "iopub.status.idle": "2022-04-27T12:16:16.185518Z",
     "shell.execute_reply": "2022-04-27T12:16:16.186109Z"
    },
    "papermill": {
     "duration": 0.038077,
     "end_time": "2022-04-27T12:16:16.186361",
     "exception": false,
     "start_time": "2022-04-27T12:16:16.148284",
     "status": "completed"
    },
    "tags": []
   },
   "outputs": [],
   "source": [
    "# #hide\n",
    "# g = g[g.group.notna()]"
   ]
  },
  {
   "cell_type": "code",
   "execution_count": 40,
   "id": "determined-closing",
   "metadata": {
    "execution": {
     "iopub.execute_input": "2022-04-27T12:16:16.247496Z",
     "iopub.status.busy": "2022-04-27T12:16:16.246841Z",
     "iopub.status.idle": "2022-04-27T12:16:16.249384Z",
     "shell.execute_reply": "2022-04-27T12:16:16.249804Z"
    },
    "papermill": {
     "duration": 0.035378,
     "end_time": "2022-04-27T12:16:16.249979",
     "exception": false,
     "start_time": "2022-04-27T12:16:16.214601",
     "status": "completed"
    },
    "tags": []
   },
   "outputs": [],
   "source": [
    "# #hide\n",
    "# colors = dict(zip(\n",
    "#     [\"Oceania\", \"Europe\", \"Asia\", \"South America\", \"Middle East\", \"North America\", \"Africa\"],\n",
    "#     [\"#adb0ff\", \"#ffb3ff\", \"#90d595\", \"#e48381\", \"#aafbff\", \"#f7bb5f\", \"#eafb50\"]\n",
    "# ))\n",
    "# group_lk = g.set_index('name')['group'].to_dict()"
   ]
  },
  {
   "cell_type": "code",
   "execution_count": null,
   "id": "gross-drinking",
   "metadata": {
    "papermill": {
     "duration": 0.026591,
     "end_time": "2022-04-27T12:16:16.304301",
     "exception": false,
     "start_time": "2022-04-27T12:16:16.277710",
     "status": "completed"
    },
    "tags": []
   },
   "outputs": [],
   "source": []
  },
  {
   "cell_type": "code",
   "execution_count": 41,
   "id": "subject-macintosh",
   "metadata": {
    "execution": {
     "iopub.execute_input": "2022-04-27T12:16:16.362010Z",
     "iopub.status.busy": "2022-04-27T12:16:16.361385Z",
     "iopub.status.idle": "2022-04-27T12:16:16.362827Z",
     "shell.execute_reply": "2022-04-27T12:16:16.363291Z"
    },
    "papermill": {
     "duration": 0.032338,
     "end_time": "2022-04-27T12:16:16.363430",
     "exception": false,
     "start_time": "2022-04-27T12:16:16.331092",
     "status": "completed"
    },
    "tags": []
   },
   "outputs": [],
   "source": [
    "# #hide\n",
    "# fig, ax = plt.subplots(figsize=(15, 8))\n",
    "\n",
    "# def draw_barchart(current_day):\n",
    "#     dff = g[g['day'].eq(current_day)].sort_values(by='value', ascending=True).tail(10)\n",
    "#     ax.clear()\n",
    "#     ax.barh(dff['name'], dff['value'], color=[colors[group_lk[x]] for x in dff['name']])\n",
    "#     dx = dff['value'].max() / 200\n",
    "    \n",
    "#     for i, (value, name) in enumerate(zip(dff['value'], dff['name'])):\n",
    "#         ax.text(value-dx, i,     name,           size=14, weight=600, ha='right', va='bottom')\n",
    "#         ax.text(value-dx, i-.25, group_lk[name], size=10, color='#444444', ha='right', va='baseline')\n",
    "#         ax.text(value+dx, i,     f'{value:,.0f}',  size=14, ha='left',  va='center')\n",
    "#     ax.text(1, 0.4, current_day, transform=ax.transAxes, color='#777777', size=46, ha='right', weight=800)\n",
    "#     ax.text(0, 1.06, 'Population (thousands)', transform=ax.transAxes, size=12, color='#777777')\n",
    "#     ax.xaxis.set_major_formatter(ticker.StrMethodFormatter('{x:,.0f}'))\n",
    "#     ax.xaxis.set_ticks_position('top')\n",
    "#     ax.tick_params(axis='x', colors='#777777', labelsize=12)\n",
    "#     ax.set_yticks([])\n",
    "#     ax.margins(0, 0.01)\n",
    "#     ax.grid(which='major', axis='x', linestyle='-')\n",
    "#     ax.set_axisbelow(True)\n",
    "    \n",
    "#     ax.text(0, 1.15, 'Coronavirus',\n",
    "#             transform=ax.transAxes, size=24, weight=600, ha='left', va='top')\n",
    "# #     ax.text(1, 0, 'by @pratapvardhan; credit @jburnmurdoch', transform=ax.transAxes, color='#777777', ha='right',\n",
    "# #             bbox=dict(facecolor='white', alpha=0.8, edgecolor='white'))\n",
    "#     plt.box(False)"
   ]
  },
  {
   "cell_type": "code",
   "execution_count": 42,
   "id": "sexual-wages",
   "metadata": {
    "execution": {
     "iopub.execute_input": "2022-04-27T12:16:16.420168Z",
     "iopub.status.busy": "2022-04-27T12:16:16.419679Z",
     "iopub.status.idle": "2022-04-27T12:16:16.421560Z",
     "shell.execute_reply": "2022-04-27T12:16:16.421984Z"
    },
    "papermill": {
     "duration": 0.03178,
     "end_time": "2022-04-27T12:16:16.422094",
     "exception": false,
     "start_time": "2022-04-27T12:16:16.390314",
     "status": "completed"
    },
    "tags": []
   },
   "outputs": [],
   "source": [
    "# #hide_input\n",
    "# fig, ax = plt.subplots(figsize=(15, 8))\n",
    "# animator = animation.FuncAnimation(fig, draw_barchart, frames=range(g.day.values.min(), g.day.values.max()))\n",
    "# HTML(animator.to_jshtml())\n",
    "# # or use animator.to_html5_video() or animator.save() "
   ]
  },
  {
   "cell_type": "code",
   "execution_count": null,
   "id": "australian-container",
   "metadata": {
    "papermill": {
     "duration": 0.026839,
     "end_time": "2022-04-27T12:16:16.475567",
     "exception": false,
     "start_time": "2022-04-27T12:16:16.448728",
     "status": "completed"
    },
    "tags": []
   },
   "outputs": [],
   "source": []
  },
  {
   "cell_type": "code",
   "execution_count": null,
   "id": "mediterranean-pontiac",
   "metadata": {
    "papermill": {
     "duration": 0.028677,
     "end_time": "2022-04-27T12:16:16.532703",
     "exception": false,
     "start_time": "2022-04-27T12:16:16.504026",
     "status": "completed"
    },
    "tags": []
   },
   "outputs": [],
   "source": []
  },
  {
   "cell_type": "code",
   "execution_count": null,
   "id": "aging-legislature",
   "metadata": {
    "papermill": {
     "duration": 0.02895,
     "end_time": "2022-04-27T12:16:16.591008",
     "exception": false,
     "start_time": "2022-04-27T12:16:16.562058",
     "status": "completed"
    },
    "tags": []
   },
   "outputs": [],
   "source": []
  }
 ],
 "metadata": {
  "kernelspec": {
   "display_name": "Python 3",
   "language": "python",
   "name": "python3"
  },
  "language_info": {
   "codemirror_mode": {
    "name": "ipython",
    "version": 3
   },
   "file_extension": ".py",
   "mimetype": "text/x-python",
   "name": "python",
   "nbconvert_exporter": "python",
   "pygments_lexer": "ipython3",
   "version": "3.6.15"
  },
  "papermill": {
   "duration": 7.260488,
   "end_time": "2022-04-27T12:16:17.043781",
   "environment_variables": {},
   "exception": null,
   "input_path": "2020-03-21-covid19exp.ipynb",
   "output_path": "2020-03-21-covid19exp.ipynb",
   "parameters": {},
   "start_time": "2022-04-27T12:16:09.783293",
   "version": "2.0.0"
  }
 },
 "nbformat": 4,
 "nbformat_minor": 5
}