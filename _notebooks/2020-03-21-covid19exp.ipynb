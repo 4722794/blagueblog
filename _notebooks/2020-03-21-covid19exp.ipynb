{
 "cells": [
  {
   "cell_type": "markdown",
   "id": "muslim-click",
   "metadata": {
    "papermill": {
     "duration": 0.031001,
     "end_time": "2021-06-01T12:45:16.056598",
     "exception": false,
     "start_time": "2021-06-01T12:45:16.025597",
     "status": "completed"
    },
    "tags": []
   },
   "source": [
    "# COVID-19 Case Race\n",
    "> A race chart to see rising cases around the world\n",
    "\n",
    "- author: Hargun Oberoi\n",
    "- image: images/covid-overview.png\n",
    "- hide: false\n",
    "- badges: false"
   ]
  },
  {
   "cell_type": "code",
   "execution_count": 1,
   "id": "proof-material",
   "metadata": {
    "execution": {
     "iopub.execute_input": "2021-06-01T12:45:16.121128Z",
     "iopub.status.busy": "2021-06-01T12:45:16.120630Z",
     "iopub.status.idle": "2021-06-01T12:45:16.417391Z",
     "shell.execute_reply": "2021-06-01T12:45:16.416961Z"
    },
    "papermill": {
     "duration": 0.3336,
     "end_time": "2021-06-01T12:45:16.417518",
     "exception": false,
     "start_time": "2021-06-01T12:45:16.083918",
     "status": "completed"
    },
    "tags": []
   },
   "outputs": [],
   "source": [
    "#hide\n",
    "import numpy as np\n",
    "import pandas as pd\n",
    "from jinja2 import Template\n",
    "from IPython.display import HTML"
   ]
  },
  {
   "cell_type": "code",
   "execution_count": 2,
   "id": "developed-terminology",
   "metadata": {
    "execution": {
     "iopub.execute_input": "2021-06-01T12:45:16.475961Z",
     "iopub.status.busy": "2021-06-01T12:45:16.475336Z",
     "iopub.status.idle": "2021-06-01T12:45:16.476556Z",
     "shell.execute_reply": "2021-06-01T12:45:16.477099Z"
    },
    "papermill": {
     "duration": 0.032846,
     "end_time": "2021-06-01T12:45:16.477246",
     "exception": false,
     "start_time": "2021-06-01T12:45:16.444400",
     "status": "completed"
    },
    "tags": []
   },
   "outputs": [],
   "source": [
    "#hide\n",
    "\n",
    "# FETCH\n",
    "base_url = 'https://raw.githubusercontent.com/pratapvardhan/notebooks/master/covid19/'\n",
    "paths = {\n",
    "    'mapping': base_url + 'mapping_countries.csv',\n",
    "    'overview': base_url + 'overview.tpl'\n",
    "}"
   ]
  },
  {
   "cell_type": "code",
   "execution_count": 3,
   "id": "dynamic-saver",
   "metadata": {
    "execution": {
     "iopub.execute_input": "2021-06-01T12:45:16.540952Z",
     "iopub.status.busy": "2021-06-01T12:45:16.540499Z",
     "iopub.status.idle": "2021-06-01T12:45:16.542948Z",
     "shell.execute_reply": "2021-06-01T12:45:16.542571Z"
    },
    "papermill": {
     "duration": 0.038901,
     "end_time": "2021-06-01T12:45:16.543049",
     "exception": false,
     "start_time": "2021-06-01T12:45:16.504148",
     "status": "completed"
    },
    "tags": []
   },
   "outputs": [
    {
     "data": {
      "text/plain": [
       "'https://raw.githubusercontent.com/pratapvardhan/notebooks/master/covid19/mapping_countries.csv'"
      ]
     },
     "execution_count": 3,
     "metadata": {},
     "output_type": "execute_result"
    }
   ],
   "source": [
    "#hide\n",
    "paths['mapping']"
   ]
  },
  {
   "cell_type": "code",
   "execution_count": 4,
   "id": "urban-software",
   "metadata": {
    "execution": {
     "iopub.execute_input": "2021-06-01T12:45:16.602614Z",
     "iopub.status.busy": "2021-06-01T12:45:16.602148Z",
     "iopub.status.idle": "2021-06-01T12:45:16.604167Z",
     "shell.execute_reply": "2021-06-01T12:45:16.603797Z"
    },
    "papermill": {
     "duration": 0.034182,
     "end_time": "2021-06-01T12:45:16.604275",
     "exception": false,
     "start_time": "2021-06-01T12:45:16.570093",
     "status": "completed"
    },
    "tags": []
   },
   "outputs": [],
   "source": [
    "#hide\n",
    "def get_mappings(url):\n",
    "    df = pd.read_csv(url)\n",
    "    return {\n",
    "        'df': df,\n",
    "        'replace.country': dict(df.dropna(subset=['Name']).set_index('Country')['Name']),\n",
    "        'map.continent': dict(df.set_index('Name')['Continent'])\n",
    "    }"
   ]
  },
  {
   "cell_type": "code",
   "execution_count": 5,
   "id": "intimate-machinery",
   "metadata": {
    "execution": {
     "iopub.execute_input": "2021-06-01T12:45:16.663618Z",
     "iopub.status.busy": "2021-06-01T12:45:16.663148Z",
     "iopub.status.idle": "2021-06-01T12:45:16.721449Z",
     "shell.execute_reply": "2021-06-01T12:45:16.720933Z"
    },
    "papermill": {
     "duration": 0.090388,
     "end_time": "2021-06-01T12:45:16.721591",
     "exception": false,
     "start_time": "2021-06-01T12:45:16.631203",
     "status": "completed"
    },
    "tags": []
   },
   "outputs": [],
   "source": [
    "#hide\n",
    "mapping = get_mappings(paths['mapping'])"
   ]
  },
  {
   "cell_type": "code",
   "execution_count": 6,
   "id": "certified-tactics",
   "metadata": {
    "execution": {
     "iopub.execute_input": "2021-06-01T12:45:16.780869Z",
     "iopub.status.busy": "2021-06-01T12:45:16.780407Z",
     "iopub.status.idle": "2021-06-01T12:45:16.782375Z",
     "shell.execute_reply": "2021-06-01T12:45:16.782795Z"
    },
    "papermill": {
     "duration": 0.033998,
     "end_time": "2021-06-01T12:45:16.782914",
     "exception": false,
     "start_time": "2021-06-01T12:45:16.748916",
     "status": "completed"
    },
    "tags": []
   },
   "outputs": [],
   "source": [
    "#hide\n",
    "def get_template(path):\n",
    "    from urllib.parse import urlparse\n",
    "    if bool(urlparse(path).netloc):\n",
    "        from urllib.request import urlopen\n",
    "        return urlopen(path).read().decode('utf8')\n",
    "    return open(path).read()"
   ]
  },
  {
   "cell_type": "code",
   "execution_count": 7,
   "id": "realistic-blast",
   "metadata": {
    "execution": {
     "iopub.execute_input": "2021-06-01T12:45:16.841401Z",
     "iopub.status.busy": "2021-06-01T12:45:16.840947Z",
     "iopub.status.idle": "2021-06-01T12:45:16.842692Z",
     "shell.execute_reply": "2021-06-01T12:45:16.843044Z"
    },
    "papermill": {
     "duration": 0.033528,
     "end_time": "2021-06-01T12:45:16.843188",
     "exception": false,
     "start_time": "2021-06-01T12:45:16.809660",
     "status": "completed"
    },
    "tags": []
   },
   "outputs": [],
   "source": [
    "#hide\n",
    "def get_frame(name):\n",
    "    url = (\n",
    "        'https://raw.githubusercontent.com/CSSEGISandData/COVID-19/master/csse_covid_19_data/'\n",
    "        f'csse_covid_19_time_series/time_series_covid19_{name}_global.csv')\n",
    "    df = pd.read_csv(url)\n",
    "    # rename countries\n",
    "    df['Country/Region'] = df['Country/Region'].replace(mapping['replace.country'])\n",
    "    return df"
   ]
  },
  {
   "cell_type": "code",
   "execution_count": 8,
   "id": "affiliated-characterization",
   "metadata": {
    "execution": {
     "iopub.execute_input": "2021-06-01T12:45:16.901981Z",
     "iopub.status.busy": "2021-06-01T12:45:16.901519Z",
     "iopub.status.idle": "2021-06-01T12:45:16.903267Z",
     "shell.execute_reply": "2021-06-01T12:45:16.903679Z"
    },
    "papermill": {
     "duration": 0.033792,
     "end_time": "2021-06-01T12:45:16.903794",
     "exception": false,
     "start_time": "2021-06-01T12:45:16.870002",
     "status": "completed"
    },
    "tags": []
   },
   "outputs": [],
   "source": [
    "#hide\n",
    "def get_dates(df):\n",
    "    dt_cols = df.columns[~df.columns.isin(['Province/State', 'Country/Region', 'Lat', 'Long'])]\n",
    "    LAST_DATE_I = -1\n",
    "    # sometimes last column may be empty, then go backwards\n",
    "    for i in range(-1, -len(dt_cols), -1):\n",
    "        if not df[dt_cols[i]].fillna(0).eq(0).all():\n",
    "            LAST_DATE_I = i\n",
    "            break\n",
    "    return LAST_DATE_I, dt_cols"
   ]
  },
  {
   "cell_type": "code",
   "execution_count": 9,
   "id": "recent-optimization",
   "metadata": {
    "execution": {
     "iopub.execute_input": "2021-06-01T12:45:16.962277Z",
     "iopub.status.busy": "2021-06-01T12:45:16.961824Z",
     "iopub.status.idle": "2021-06-01T12:45:17.420361Z",
     "shell.execute_reply": "2021-06-01T12:45:17.419922Z"
    },
    "papermill": {
     "duration": 0.490172,
     "end_time": "2021-06-01T12:45:17.420477",
     "exception": false,
     "start_time": "2021-06-01T12:45:16.930305",
     "status": "completed"
    },
    "tags": []
   },
   "outputs": [],
   "source": [
    "#hide\n",
    "COL_REGION = 'Country/Region'\n",
    "# Confirmed, Recovered, Deaths\n",
    "df = get_frame('confirmed')\n",
    "# dft_: timeseries, dfc_: today country agg\n",
    "dft_cases = df\n",
    "dft_deaths = get_frame('deaths')\n",
    "dft_recovered = get_frame('recovered')\n",
    "LAST_DATE_I, dt_cols = get_dates(df)"
   ]
  },
  {
   "cell_type": "code",
   "execution_count": 10,
   "id": "absolute-copper",
   "metadata": {
    "execution": {
     "iopub.execute_input": "2021-06-01T12:45:17.479511Z",
     "iopub.status.busy": "2021-06-01T12:45:17.478935Z",
     "iopub.status.idle": "2021-06-01T12:45:17.480915Z",
     "shell.execute_reply": "2021-06-01T12:45:17.480430Z"
    },
    "papermill": {
     "duration": 0.033624,
     "end_time": "2021-06-01T12:45:17.481026",
     "exception": false,
     "start_time": "2021-06-01T12:45:17.447402",
     "status": "completed"
    },
    "tags": []
   },
   "outputs": [],
   "source": [
    "#hide\n",
    "LAST_DATE_I, dt_cols = get_dates(df)\n",
    "dt_today =dt_cols[LAST_DATE_I]\n",
    "# dt_5day = dt_cols[LAST_DATE_I - 5]\n",
    "dt_yday = dt_cols[LAST_DATE_I - 1]"
   ]
  },
  {
   "cell_type": "code",
   "execution_count": 11,
   "id": "restricted-sheriff",
   "metadata": {
    "execution": {
     "iopub.execute_input": "2021-06-01T12:45:17.547483Z",
     "iopub.status.busy": "2021-06-01T12:45:17.546952Z",
     "iopub.status.idle": "2021-06-01T12:45:17.553597Z",
     "shell.execute_reply": "2021-06-01T12:45:17.553162Z"
    },
    "papermill": {
     "duration": 0.042545,
     "end_time": "2021-06-01T12:45:17.553707",
     "exception": false,
     "start_time": "2021-06-01T12:45:17.511162",
     "status": "completed"
    },
    "tags": []
   },
   "outputs": [],
   "source": [
    "#hide\n",
    "dfc_cases = dft_cases.groupby(COL_REGION)[dt_today].sum()\n",
    "dfc_deaths = dft_deaths.groupby(COL_REGION)[dt_today].sum()\n",
    "# dfp_cases = dft_cases.groupby(COL_REGION)[dt_5day].sum()\n",
    "# dfp_deaths = dft_deaths.groupby(COL_REGION)[dt_5day].sum()\n",
    "dfp_cases = dft_cases.groupby(COL_REGION)[dt_yday].sum()\n",
    "dfp_deaths = dft_deaths.groupby(COL_REGION)[dt_yday].sum()"
   ]
  },
  {
   "cell_type": "code",
   "execution_count": 12,
   "id": "deluxe-hepatitis",
   "metadata": {
    "execution": {
     "iopub.execute_input": "2021-06-01T12:45:17.620530Z",
     "iopub.status.busy": "2021-06-01T12:45:17.620016Z",
     "iopub.status.idle": "2021-06-01T12:45:17.624217Z",
     "shell.execute_reply": "2021-06-01T12:45:17.623809Z"
    },
    "papermill": {
     "duration": 0.040241,
     "end_time": "2021-06-01T12:45:17.624333",
     "exception": false,
     "start_time": "2021-06-01T12:45:17.584092",
     "status": "completed"
    },
    "tags": []
   },
   "outputs": [],
   "source": [
    "#hide\n",
    "df_table = (pd.DataFrame(dict(Cases = dfc_cases, Deaths = dfc_deaths, PCases = dfp_cases, PDeaths = dfp_deaths))\n",
    "            .sort_values(by = ['Cases','Deaths'], ascending = [False, False])\n",
    "            .reset_index())"
   ]
  },
  {
   "cell_type": "code",
   "execution_count": 13,
   "id": "educational-chancellor",
   "metadata": {
    "execution": {
     "iopub.execute_input": "2021-06-01T12:45:17.701568Z",
     "iopub.status.busy": "2021-06-01T12:45:17.701041Z",
     "iopub.status.idle": "2021-06-01T12:45:17.707749Z",
     "shell.execute_reply": "2021-06-01T12:45:17.707315Z"
    },
    "papermill": {
     "duration": 0.053402,
     "end_time": "2021-06-01T12:45:17.707861",
     "exception": false,
     "start_time": "2021-06-01T12:45:17.654459",
     "status": "completed"
    },
    "tags": []
   },
   "outputs": [
    {
     "data": {
      "text/html": [
       "<div>\n",
       "<style scoped>\n",
       "    .dataframe tbody tr th:only-of-type {\n",
       "        vertical-align: middle;\n",
       "    }\n",
       "\n",
       "    .dataframe tbody tr th {\n",
       "        vertical-align: top;\n",
       "    }\n",
       "\n",
       "    .dataframe thead th {\n",
       "        text-align: right;\n",
       "    }\n",
       "</style>\n",
       "<table border=\"1\" class=\"dataframe\">\n",
       "  <thead>\n",
       "    <tr style=\"text-align: right;\">\n",
       "      <th></th>\n",
       "      <th>Country/Region</th>\n",
       "      <th>Cases</th>\n",
       "      <th>Deaths</th>\n",
       "      <th>PCases</th>\n",
       "      <th>PDeaths</th>\n",
       "      <th>Cases (+)</th>\n",
       "      <th>Deaths (+)</th>\n",
       "      <th>Fatality Rate</th>\n",
       "      <th>Continent</th>\n",
       "    </tr>\n",
       "  </thead>\n",
       "  <tbody>\n",
       "    <tr>\n",
       "      <th>0</th>\n",
       "      <td>US</td>\n",
       "      <td>33264399</td>\n",
       "      <td>594568</td>\n",
       "      <td>33258664</td>\n",
       "      <td>594430</td>\n",
       "      <td>5735</td>\n",
       "      <td>138</td>\n",
       "      <td>1.79</td>\n",
       "      <td>North America</td>\n",
       "    </tr>\n",
       "    <tr>\n",
       "      <th>1</th>\n",
       "      <td>India</td>\n",
       "      <td>28175044</td>\n",
       "      <td>331895</td>\n",
       "      <td>28047534</td>\n",
       "      <td>329100</td>\n",
       "      <td>127510</td>\n",
       "      <td>2795</td>\n",
       "      <td>1.18</td>\n",
       "      <td>Asia</td>\n",
       "    </tr>\n",
       "    <tr>\n",
       "      <th>2</th>\n",
       "      <td>Brazil</td>\n",
       "      <td>16545554</td>\n",
       "      <td>462791</td>\n",
       "      <td>16515120</td>\n",
       "      <td>461931</td>\n",
       "      <td>30434</td>\n",
       "      <td>860</td>\n",
       "      <td>2.80</td>\n",
       "      <td>South America</td>\n",
       "    </tr>\n",
       "    <tr>\n",
       "      <th>3</th>\n",
       "      <td>France</td>\n",
       "      <td>5728788</td>\n",
       "      <td>109690</td>\n",
       "      <td>5728418</td>\n",
       "      <td>109562</td>\n",
       "      <td>370</td>\n",
       "      <td>128</td>\n",
       "      <td>1.91</td>\n",
       "      <td>Europe</td>\n",
       "    </tr>\n",
       "    <tr>\n",
       "      <th>4</th>\n",
       "      <td>Turkey</td>\n",
       "      <td>5249404</td>\n",
       "      <td>47527</td>\n",
       "      <td>5242911</td>\n",
       "      <td>47405</td>\n",
       "      <td>6493</td>\n",
       "      <td>122</td>\n",
       "      <td>0.91</td>\n",
       "      <td>Asia</td>\n",
       "    </tr>\n",
       "  </tbody>\n",
       "</table>\n",
       "</div>"
      ],
      "text/plain": [
       "  Country/Region     Cases  Deaths    PCases  PDeaths  Cases (+)  Deaths (+)  \\\n",
       "0             US  33264399  594568  33258664   594430       5735         138   \n",
       "1          India  28175044  331895  28047534   329100     127510        2795   \n",
       "2         Brazil  16545554  462791  16515120   461931      30434         860   \n",
       "3         France   5728788  109690   5728418   109562        370         128   \n",
       "4         Turkey   5249404   47527   5242911    47405       6493         122   \n",
       "\n",
       "   Fatality Rate      Continent  \n",
       "0           1.79  North America  \n",
       "1           1.18           Asia  \n",
       "2           2.80  South America  \n",
       "3           1.91         Europe  \n",
       "4           0.91           Asia  "
      ]
     },
     "execution_count": 13,
     "metadata": {},
     "output_type": "execute_result"
    }
   ],
   "source": [
    "#hide\n",
    "for c in 'Cases, Deaths'.split(', '):\n",
    "    df_table[f'{c} (+)'] = (df_table[c] - df_table[f'P{c}']).clip(0)\n",
    "    #Clip ça veut dire, les chiffres negatif sont interdit\n",
    "df_table['Fatality Rate'] = (100* df_table['Deaths']/ df_table['Cases']).round(2)\n",
    "df_table['Continent'] = df_table['Country/Region'].map(mapping['map.continent'])\n",
    "df_table.head(5)"
   ]
  },
  {
   "cell_type": "code",
   "execution_count": 14,
   "id": "aboriginal-bulgaria",
   "metadata": {
    "execution": {
     "iopub.execute_input": "2021-06-01T12:45:17.774850Z",
     "iopub.status.busy": "2021-06-01T12:45:17.774348Z",
     "iopub.status.idle": "2021-06-01T12:45:17.776218Z",
     "shell.execute_reply": "2021-06-01T12:45:17.776621Z"
    },
    "papermill": {
     "duration": 0.038192,
     "end_time": "2021-06-01T12:45:17.776750",
     "exception": false,
     "start_time": "2021-06-01T12:45:17.738558",
     "status": "completed"
    },
    "tags": []
   },
   "outputs": [],
   "source": [
    "#hide\n",
    "#delete problematic countries from table\n",
    "df_table = df_table[~df_table['Country/Region'].isin(['Cape Verde', 'Cruise Ship', 'Kosovo'])]"
   ]
  },
  {
   "cell_type": "code",
   "execution_count": 15,
   "id": "fantastic-effect",
   "metadata": {
    "execution": {
     "iopub.execute_input": "2021-06-01T12:45:17.846626Z",
     "iopub.status.busy": "2021-06-01T12:45:17.846116Z",
     "iopub.status.idle": "2021-06-01T12:45:17.865704Z",
     "shell.execute_reply": "2021-06-01T12:45:17.865258Z"
    },
    "papermill": {
     "duration": 0.058481,
     "end_time": "2021-06-01T12:45:17.865820",
     "exception": false,
     "start_time": "2021-06-01T12:45:17.807339",
     "status": "completed"
    },
    "tags": []
   },
   "outputs": [
    {
     "data": {
      "text/html": [
       "<div>\n",
       "<style scoped>\n",
       "    .dataframe tbody tr th:only-of-type {\n",
       "        vertical-align: middle;\n",
       "    }\n",
       "\n",
       "    .dataframe tbody tr th {\n",
       "        vertical-align: top;\n",
       "    }\n",
       "\n",
       "    .dataframe thead th {\n",
       "        text-align: right;\n",
       "    }\n",
       "</style>\n",
       "<table border=\"1\" class=\"dataframe\">\n",
       "  <thead>\n",
       "    <tr style=\"text-align: right;\">\n",
       "      <th></th>\n",
       "      <th>Country/Region</th>\n",
       "      <th>Cases</th>\n",
       "      <th>Deaths</th>\n",
       "      <th>PCases</th>\n",
       "      <th>PDeaths</th>\n",
       "      <th>Cases (+)</th>\n",
       "      <th>Deaths (+)</th>\n",
       "      <th>Fatality Rate</th>\n",
       "      <th>Continent</th>\n",
       "    </tr>\n",
       "  </thead>\n",
       "  <tbody>\n",
       "    <tr>\n",
       "      <th>0</th>\n",
       "      <td>US</td>\n",
       "      <td>33264399</td>\n",
       "      <td>594568</td>\n",
       "      <td>33258664</td>\n",
       "      <td>594430</td>\n",
       "      <td>5735</td>\n",
       "      <td>138</td>\n",
       "      <td>1.8</td>\n",
       "      <td>North America</td>\n",
       "    </tr>\n",
       "    <tr>\n",
       "      <th>1</th>\n",
       "      <td>India</td>\n",
       "      <td>28175044</td>\n",
       "      <td>331895</td>\n",
       "      <td>28047534</td>\n",
       "      <td>329100</td>\n",
       "      <td>127510</td>\n",
       "      <td>2795</td>\n",
       "      <td>1.2</td>\n",
       "      <td>Asia</td>\n",
       "    </tr>\n",
       "    <tr>\n",
       "      <th>2</th>\n",
       "      <td>Brazil</td>\n",
       "      <td>16545554</td>\n",
       "      <td>462791</td>\n",
       "      <td>16515120</td>\n",
       "      <td>461931</td>\n",
       "      <td>30434</td>\n",
       "      <td>860</td>\n",
       "      <td>2.8</td>\n",
       "      <td>South America</td>\n",
       "    </tr>\n",
       "    <tr>\n",
       "      <th>3</th>\n",
       "      <td>France</td>\n",
       "      <td>5728788</td>\n",
       "      <td>109690</td>\n",
       "      <td>5728418</td>\n",
       "      <td>109562</td>\n",
       "      <td>370</td>\n",
       "      <td>128</td>\n",
       "      <td>1.9</td>\n",
       "      <td>Europe</td>\n",
       "    </tr>\n",
       "    <tr>\n",
       "      <th>4</th>\n",
       "      <td>Turkey</td>\n",
       "      <td>5249404</td>\n",
       "      <td>47527</td>\n",
       "      <td>5242911</td>\n",
       "      <td>47405</td>\n",
       "      <td>6493</td>\n",
       "      <td>122</td>\n",
       "      <td>0.9</td>\n",
       "      <td>Asia</td>\n",
       "    </tr>\n",
       "  </tbody>\n",
       "</table>\n",
       "</div>"
      ],
      "text/plain": [
       "  Country/Region     Cases  Deaths    PCases  PDeaths  Cases (+)  Deaths (+)  \\\n",
       "0             US  33264399  594568  33258664   594430       5735         138   \n",
       "1          India  28175044  331895  28047534   329100     127510        2795   \n",
       "2         Brazil  16545554  462791  16515120   461931      30434         860   \n",
       "3         France   5728788  109690   5728418   109562        370         128   \n",
       "4         Turkey   5249404   47527   5242911    47405       6493         122   \n",
       "\n",
       "   Fatality Rate      Continent  \n",
       "0            1.8  North America  \n",
       "1            1.2           Asia  \n",
       "2            2.8  South America  \n",
       "3            1.9         Europe  \n",
       "4            0.9           Asia  "
      ]
     },
     "execution_count": 15,
     "metadata": {},
     "output_type": "execute_result"
    }
   ],
   "source": [
    "#hide\n",
    "df_table = (pd.DataFrame(dict(Cases=dfc_cases, Deaths=dfc_deaths, PCases=dfp_cases, PDeaths=dfp_deaths))\n",
    "             .sort_values(by=['Cases', 'Deaths'], ascending=[False, False])\n",
    "             .reset_index())\n",
    "df_table.rename(columns={'index': 'Country/Region'}, inplace=True)\n",
    "for c in 'Cases, Deaths'.split(', '):\n",
    "    df_table[f'{c} (+)'] = (df_table[c] - df_table[f'P{c}']).clip(0)  # DATA BUG\n",
    "df_table['Fatality Rate'] = (100 * df_table['Deaths'] / df_table['Cases']).round(1)\n",
    "df_table['Continent'] = df_table['Country/Region'].map(mapping['map.continent'])\n",
    "df_table.head(5)"
   ]
  },
  {
   "cell_type": "code",
   "execution_count": 16,
   "id": "fewer-occasion",
   "metadata": {
    "execution": {
     "iopub.execute_input": "2021-06-01T12:45:17.934051Z",
     "iopub.status.busy": "2021-06-01T12:45:17.933549Z",
     "iopub.status.idle": "2021-06-01T12:45:17.935815Z",
     "shell.execute_reply": "2021-06-01T12:45:17.935405Z"
    },
    "papermill": {
     "duration": 0.038816,
     "end_time": "2021-06-01T12:45:17.935927",
     "exception": false,
     "start_time": "2021-06-01T12:45:17.897111",
     "status": "completed"
    },
    "tags": []
   },
   "outputs": [],
   "source": [
    "#hide\n",
    "#delete problematic countries from table\n",
    "df_table = df_table[~df_table['Country/Region'].isin(['Cape Verde', 'Cruise Ship', 'Kosovo'])]"
   ]
  },
  {
   "cell_type": "code",
   "execution_count": 17,
   "id": "related-center",
   "metadata": {
    "execution": {
     "iopub.execute_input": "2021-06-01T12:45:18.009345Z",
     "iopub.status.busy": "2021-06-01T12:45:18.008779Z",
     "iopub.status.idle": "2021-06-01T12:45:18.017562Z",
     "shell.execute_reply": "2021-06-01T12:45:18.017145Z"
    },
    "papermill": {
     "duration": 0.050646,
     "end_time": "2021-06-01T12:45:18.017677",
     "exception": false,
     "start_time": "2021-06-01T12:45:17.967031",
     "status": "completed"
    },
    "tags": []
   },
   "outputs": [],
   "source": [
    "#hide\n",
    "metrics = [df_table.columns[index] for index in [1,2,5,6]]\n",
    "# s_china = df_table[df_table['Country/Region'].eq('China')][metrics].sum().add_prefix('China ')\n",
    "s_us = df_table[df_table['Country/Region'].eq('US')][metrics].sum().add_prefix('US ')\n",
    "s_eu = df_table[df_table['Continent'].eq('Europe')][metrics].sum().add_prefix('EU ')\n",
    "s_ind = df_table[df_table['Country/Region'].eq('India')][metrics].sum().add_prefix('India ')\n",
    "summary = {'updated': pd.to_datetime(dt_today), 'since': pd.to_datetime(dt_yday)}\n",
    "summary = {'updated': pd.to_datetime(dt_today), 'since': pd.to_datetime(dt_yday)}\n",
    "summary = {**summary, **df_table[metrics].sum(), **s_ind, **s_us, **s_eu}"
   ]
  },
  {
   "cell_type": "code",
   "execution_count": 18,
   "id": "engaging-syndrome",
   "metadata": {
    "execution": {
     "iopub.execute_input": "2021-06-01T12:45:18.085751Z",
     "iopub.status.busy": "2021-06-01T12:45:18.085243Z",
     "iopub.status.idle": "2021-06-01T12:45:18.097483Z",
     "shell.execute_reply": "2021-06-01T12:45:18.097062Z"
    },
    "papermill": {
     "duration": 0.048433,
     "end_time": "2021-06-01T12:45:18.097601",
     "exception": false,
     "start_time": "2021-06-01T12:45:18.049168",
     "status": "completed"
    },
    "tags": []
   },
   "outputs": [],
   "source": [
    "#hide\n",
    "dft_ct_new_cases = dft_cases.groupby(COL_REGION)[dt_cols].sum().diff(axis=1).fillna(0).astype(int)"
   ]
  },
  {
   "cell_type": "code",
   "execution_count": 19,
   "id": "neutral-assignment",
   "metadata": {
    "execution": {
     "iopub.execute_input": "2021-06-01T12:45:18.166157Z",
     "iopub.status.busy": "2021-06-01T12:45:18.165587Z",
     "iopub.status.idle": "2021-06-01T12:45:18.167902Z",
     "shell.execute_reply": "2021-06-01T12:45:18.167369Z"
    },
    "papermill": {
     "duration": 0.039189,
     "end_time": "2021-06-01T12:45:18.168021",
     "exception": false,
     "start_time": "2021-06-01T12:45:18.128832",
     "status": "completed"
    },
    "tags": []
   },
   "outputs": [],
   "source": [
    "#hide\n",
    "everydaycases = dft_ct_new_cases.cumsum(axis=1)"
   ]
  },
  {
   "cell_type": "code",
   "execution_count": 20,
   "id": "parliamentary-calgary",
   "metadata": {
    "execution": {
     "iopub.execute_input": "2021-06-01T12:45:18.234970Z",
     "iopub.status.busy": "2021-06-01T12:45:18.234456Z",
     "iopub.status.idle": "2021-06-01T12:45:18.710386Z",
     "shell.execute_reply": "2021-06-01T12:45:18.709865Z"
    },
    "papermill": {
     "duration": 0.511063,
     "end_time": "2021-06-01T12:45:18.710527",
     "exception": false,
     "start_time": "2021-06-01T12:45:18.199464",
     "status": "completed"
    },
    "tags": []
   },
   "outputs": [],
   "source": [
    "#hide\n",
    "import pandas as pd\n",
    "import matplotlib.pyplot as plt\n",
    "import matplotlib.ticker as ticker\n",
    "import matplotlib.animation as animation\n",
    "from IPython.display import HTML"
   ]
  },
  {
   "cell_type": "code",
   "execution_count": 21,
   "id": "lasting-extraction",
   "metadata": {
    "execution": {
     "iopub.execute_input": "2021-06-01T12:45:18.771111Z",
     "iopub.status.busy": "2021-06-01T12:45:18.770618Z",
     "iopub.status.idle": "2021-06-01T12:45:18.776449Z",
     "shell.execute_reply": "2021-06-01T12:45:18.776829Z"
    },
    "papermill": {
     "duration": 0.038704,
     "end_time": "2021-06-01T12:45:18.776957",
     "exception": false,
     "start_time": "2021-06-01T12:45:18.738253",
     "status": "completed"
    },
    "tags": []
   },
   "outputs": [],
   "source": [
    "#hide\n",
    "t = everydaycases.stack()"
   ]
  },
  {
   "cell_type": "code",
   "execution_count": 22,
   "id": "premier-sleeve",
   "metadata": {
    "execution": {
     "iopub.execute_input": "2021-06-01T12:45:18.836791Z",
     "iopub.status.busy": "2021-06-01T12:45:18.836330Z",
     "iopub.status.idle": "2021-06-01T12:45:18.845255Z",
     "shell.execute_reply": "2021-06-01T12:45:18.844890Z"
    },
    "papermill": {
     "duration": 0.040626,
     "end_time": "2021-06-01T12:45:18.845360",
     "exception": false,
     "start_time": "2021-06-01T12:45:18.804734",
     "status": "completed"
    },
    "tags": []
   },
   "outputs": [],
   "source": [
    "#hide\n",
    "g = t.reset_index(['Country/Region'])"
   ]
  },
  {
   "cell_type": "code",
   "execution_count": 23,
   "id": "distributed-pittsburgh",
   "metadata": {
    "execution": {
     "iopub.execute_input": "2021-06-01T12:45:18.904719Z",
     "iopub.status.busy": "2021-06-01T12:45:18.904237Z",
     "iopub.status.idle": "2021-06-01T12:45:18.907086Z",
     "shell.execute_reply": "2021-06-01T12:45:18.907433Z"
    },
    "papermill": {
     "duration": 0.034669,
     "end_time": "2021-06-01T12:45:18.907561",
     "exception": false,
     "start_time": "2021-06-01T12:45:18.872892",
     "status": "completed"
    },
    "tags": []
   },
   "outputs": [],
   "source": [
    "#hide\n",
    "g.index.name = 'date'"
   ]
  },
  {
   "cell_type": "code",
   "execution_count": 24,
   "id": "naked-donor",
   "metadata": {
    "execution": {
     "iopub.execute_input": "2021-06-01T12:45:18.966179Z",
     "iopub.status.busy": "2021-06-01T12:45:18.965678Z",
     "iopub.status.idle": "2021-06-01T12:45:18.969124Z",
     "shell.execute_reply": "2021-06-01T12:45:18.968732Z"
    },
    "papermill": {
     "duration": 0.034063,
     "end_time": "2021-06-01T12:45:18.969234",
     "exception": false,
     "start_time": "2021-06-01T12:45:18.935171",
     "status": "completed"
    },
    "tags": []
   },
   "outputs": [],
   "source": [
    "# #hide\n",
    "# g = g.reset_index(['date'])"
   ]
  },
  {
   "cell_type": "code",
   "execution_count": 25,
   "id": "incomplete-mustang",
   "metadata": {
    "execution": {
     "iopub.execute_input": "2021-06-01T12:45:19.028916Z",
     "iopub.status.busy": "2021-06-01T12:45:19.027882Z",
     "iopub.status.idle": "2021-06-01T12:45:19.029433Z",
     "shell.execute_reply": "2021-06-01T12:45:19.029780Z"
    },
    "papermill": {
     "duration": 0.03266,
     "end_time": "2021-06-01T12:45:19.029895",
     "exception": false,
     "start_time": "2021-06-01T12:45:18.997235",
     "status": "completed"
    },
    "tags": []
   },
   "outputs": [],
   "source": [
    "#hide\n",
    "# g.head()"
   ]
  },
  {
   "cell_type": "code",
   "execution_count": 26,
   "id": "specific-kruger",
   "metadata": {
    "execution": {
     "iopub.execute_input": "2021-06-01T12:45:19.088595Z",
     "iopub.status.busy": "2021-06-01T12:45:19.088002Z",
     "iopub.status.idle": "2021-06-01T12:45:19.089320Z",
     "shell.execute_reply": "2021-06-01T12:45:19.089839Z"
    },
    "papermill": {
     "duration": 0.032676,
     "end_time": "2021-06-01T12:45:19.089990",
     "exception": false,
     "start_time": "2021-06-01T12:45:19.057314",
     "status": "completed"
    },
    "tags": []
   },
   "outputs": [],
   "source": [
    "#hide\n",
    "# g.columns = ['date','country','cases']"
   ]
  },
  {
   "cell_type": "code",
   "execution_count": 27,
   "id": "tender-conversion",
   "metadata": {
    "execution": {
     "iopub.execute_input": "2021-06-01T12:45:19.149616Z",
     "iopub.status.busy": "2021-06-01T12:45:19.149028Z",
     "iopub.status.idle": "2021-06-01T12:45:19.150327Z",
     "shell.execute_reply": "2021-06-01T12:45:19.150853Z"
    },
    "papermill": {
     "duration": 0.032493,
     "end_time": "2021-06-01T12:45:19.150996",
     "exception": false,
     "start_time": "2021-06-01T12:45:19.118503",
     "status": "completed"
    },
    "tags": []
   },
   "outputs": [],
   "source": [
    "#hide\n",
    "# g['continent'] = g.country"
   ]
  },
  {
   "cell_type": "code",
   "execution_count": 28,
   "id": "substantial-wilderness",
   "metadata": {
    "execution": {
     "iopub.execute_input": "2021-06-01T12:45:19.211163Z",
     "iopub.status.busy": "2021-06-01T12:45:19.210675Z",
     "iopub.status.idle": "2021-06-01T12:45:19.212443Z",
     "shell.execute_reply": "2021-06-01T12:45:19.212855Z"
    },
    "papermill": {
     "duration": 0.033002,
     "end_time": "2021-06-01T12:45:19.212969",
     "exception": false,
     "start_time": "2021-06-01T12:45:19.179967",
     "status": "completed"
    },
    "tags": []
   },
   "outputs": [],
   "source": [
    "#hide\n",
    "# cols = list(g.columns.values)"
   ]
  },
  {
   "cell_type": "code",
   "execution_count": 29,
   "id": "solved-farming",
   "metadata": {
    "execution": {
     "iopub.execute_input": "2021-06-01T12:45:19.271564Z",
     "iopub.status.busy": "2021-06-01T12:45:19.271100Z",
     "iopub.status.idle": "2021-06-01T12:45:19.272900Z",
     "shell.execute_reply": "2021-06-01T12:45:19.273277Z"
    },
    "papermill": {
     "duration": 0.033019,
     "end_time": "2021-06-01T12:45:19.273392",
     "exception": false,
     "start_time": "2021-06-01T12:45:19.240373",
     "status": "completed"
    },
    "tags": []
   },
   "outputs": [],
   "source": [
    "#hide\n",
    "# cols.insert(0, cols.pop())"
   ]
  },
  {
   "cell_type": "code",
   "execution_count": 30,
   "id": "executed-adoption",
   "metadata": {
    "execution": {
     "iopub.execute_input": "2021-06-01T12:45:19.331831Z",
     "iopub.status.busy": "2021-06-01T12:45:19.331366Z",
     "iopub.status.idle": "2021-06-01T12:45:19.333148Z",
     "shell.execute_reply": "2021-06-01T12:45:19.333481Z"
    },
    "papermill": {
     "duration": 0.032798,
     "end_time": "2021-06-01T12:45:19.333598",
     "exception": false,
     "start_time": "2021-06-01T12:45:19.300800",
     "status": "completed"
    },
    "tags": []
   },
   "outputs": [],
   "source": [
    "#hide\n",
    "# g = g[cols]"
   ]
  },
  {
   "cell_type": "code",
   "execution_count": 31,
   "id": "subject-dublin",
   "metadata": {
    "execution": {
     "iopub.execute_input": "2021-06-01T12:45:19.392640Z",
     "iopub.status.busy": "2021-06-01T12:45:19.392191Z",
     "iopub.status.idle": "2021-06-01T12:45:19.394055Z",
     "shell.execute_reply": "2021-06-01T12:45:19.393675Z"
    },
    "papermill": {
     "duration": 0.03299,
     "end_time": "2021-06-01T12:45:19.394152",
     "exception": false,
     "start_time": "2021-06-01T12:45:19.361162",
     "status": "completed"
    },
    "tags": []
   },
   "outputs": [],
   "source": [
    "#hide\n",
    "# g['continent'] = g['continent'].map(mapping['map.continent'])"
   ]
  },
  {
   "cell_type": "code",
   "execution_count": 32,
   "id": "freelance-scout",
   "metadata": {
    "execution": {
     "iopub.execute_input": "2021-06-01T12:45:19.452575Z",
     "iopub.status.busy": "2021-06-01T12:45:19.452120Z",
     "iopub.status.idle": "2021-06-01T12:45:19.454253Z",
     "shell.execute_reply": "2021-06-01T12:45:19.453871Z"
    },
    "papermill": {
     "duration": 0.032611,
     "end_time": "2021-06-01T12:45:19.454349",
     "exception": false,
     "start_time": "2021-06-01T12:45:19.421738",
     "status": "completed"
    },
    "tags": []
   },
   "outputs": [],
   "source": [
    "#hide\n",
    "# g.head()"
   ]
  },
  {
   "cell_type": "code",
   "execution_count": 33,
   "id": "limited-engine",
   "metadata": {
    "execution": {
     "iopub.execute_input": "2021-06-01T12:45:19.513133Z",
     "iopub.status.busy": "2021-06-01T12:45:19.512538Z",
     "iopub.status.idle": "2021-06-01T12:45:19.513913Z",
     "shell.execute_reply": "2021-06-01T12:45:19.514325Z"
    },
    "papermill": {
     "duration": 0.032758,
     "end_time": "2021-06-01T12:45:19.514440",
     "exception": false,
     "start_time": "2021-06-01T12:45:19.481682",
     "status": "completed"
    },
    "tags": []
   },
   "outputs": [],
   "source": [
    "# hide\n",
    "# g['date'] = g['date'].astype('datetime64[ns]')"
   ]
  },
  {
   "cell_type": "code",
   "execution_count": 34,
   "id": "sophisticated-supervisor",
   "metadata": {
    "execution": {
     "iopub.execute_input": "2021-06-01T12:45:19.573052Z",
     "iopub.status.busy": "2021-06-01T12:45:19.572612Z",
     "iopub.status.idle": "2021-06-01T12:45:19.574334Z",
     "shell.execute_reply": "2021-06-01T12:45:19.574752Z"
    },
    "papermill": {
     "duration": 0.032882,
     "end_time": "2021-06-01T12:45:19.574871",
     "exception": false,
     "start_time": "2021-06-01T12:45:19.541989",
     "status": "completed"
    },
    "tags": []
   },
   "outputs": [],
   "source": [
    "#hide\n",
    "# g['date'] = g.date.dt.dayofyear"
   ]
  },
  {
   "cell_type": "code",
   "execution_count": 35,
   "id": "inside-dubai",
   "metadata": {
    "execution": {
     "iopub.execute_input": "2021-06-01T12:45:19.632862Z",
     "iopub.status.busy": "2021-06-01T12:45:19.632419Z",
     "iopub.status.idle": "2021-06-01T12:45:19.634150Z",
     "shell.execute_reply": "2021-06-01T12:45:19.634563Z"
    },
    "papermill": {
     "duration": 0.032552,
     "end_time": "2021-06-01T12:45:19.634675",
     "exception": false,
     "start_time": "2021-06-01T12:45:19.602123",
     "status": "completed"
    },
    "tags": []
   },
   "outputs": [],
   "source": [
    "#hide\n",
    "# g = g.rename(columns= {'continent':'group','country':'name','cases':'value'})"
   ]
  },
  {
   "cell_type": "code",
   "execution_count": 36,
   "id": "fleet-motorcycle",
   "metadata": {
    "execution": {
     "iopub.execute_input": "2021-06-01T12:45:19.693699Z",
     "iopub.status.busy": "2021-06-01T12:45:19.693090Z",
     "iopub.status.idle": "2021-06-01T12:45:19.694307Z",
     "shell.execute_reply": "2021-06-01T12:45:19.694834Z"
    },
    "papermill": {
     "duration": 0.032914,
     "end_time": "2021-06-01T12:45:19.694972",
     "exception": false,
     "start_time": "2021-06-01T12:45:19.662058",
     "status": "completed"
    },
    "tags": []
   },
   "outputs": [],
   "source": [
    "#hide\n",
    "# cols = ['name','group','day','value']"
   ]
  },
  {
   "cell_type": "code",
   "execution_count": 37,
   "id": "continued-sleeping",
   "metadata": {
    "execution": {
     "iopub.execute_input": "2021-06-01T12:45:19.753482Z",
     "iopub.status.busy": "2021-06-01T12:45:19.753037Z",
     "iopub.status.idle": "2021-06-01T12:45:19.754791Z",
     "shell.execute_reply": "2021-06-01T12:45:19.755184Z"
    },
    "papermill": {
     "duration": 0.032328,
     "end_time": "2021-06-01T12:45:19.755297",
     "exception": false,
     "start_time": "2021-06-01T12:45:19.722969",
     "status": "completed"
    },
    "tags": []
   },
   "outputs": [],
   "source": [
    "#hide\n",
    "# g.rename(columns= {'date':'day'},inplace = True)"
   ]
  },
  {
   "cell_type": "code",
   "execution_count": 38,
   "id": "major-fight",
   "metadata": {
    "execution": {
     "iopub.execute_input": "2021-06-01T12:45:19.813568Z",
     "iopub.status.busy": "2021-06-01T12:45:19.813119Z",
     "iopub.status.idle": "2021-06-01T12:45:19.814889Z",
     "shell.execute_reply": "2021-06-01T12:45:19.815289Z"
    },
    "papermill": {
     "duration": 0.032888,
     "end_time": "2021-06-01T12:45:19.815404",
     "exception": false,
     "start_time": "2021-06-01T12:45:19.782516",
     "status": "completed"
    },
    "tags": []
   },
   "outputs": [],
   "source": [
    "#hide\n",
    "# g = g[cols]"
   ]
  },
  {
   "cell_type": "code",
   "execution_count": 39,
   "id": "structured-mobile",
   "metadata": {
    "execution": {
     "iopub.execute_input": "2021-06-01T12:45:20.076068Z",
     "iopub.status.busy": "2021-06-01T12:45:20.075449Z",
     "iopub.status.idle": "2021-06-01T12:45:20.078825Z",
     "shell.execute_reply": "2021-06-01T12:45:20.079311Z"
    },
    "papermill": {
     "duration": 0.236832,
     "end_time": "2021-06-01T12:45:20.079463",
     "exception": false,
     "start_time": "2021-06-01T12:45:19.842631",
     "status": "completed"
    },
    "tags": []
   },
   "outputs": [],
   "source": [
    "# #hide\n",
    "# g = g[g.group.notna()]"
   ]
  },
  {
   "cell_type": "code",
   "execution_count": 40,
   "id": "determined-closing",
   "metadata": {
    "execution": {
     "iopub.execute_input": "2021-06-01T12:45:20.221511Z",
     "iopub.status.busy": "2021-06-01T12:45:20.220901Z",
     "iopub.status.idle": "2021-06-01T12:45:20.223111Z",
     "shell.execute_reply": "2021-06-01T12:45:20.222526Z"
    },
    "papermill": {
     "duration": 0.10948,
     "end_time": "2021-06-01T12:45:20.223239",
     "exception": false,
     "start_time": "2021-06-01T12:45:20.113759",
     "status": "completed"
    },
    "tags": []
   },
   "outputs": [],
   "source": [
    "# #hide\n",
    "# colors = dict(zip(\n",
    "#     [\"Oceania\", \"Europe\", \"Asia\", \"South America\", \"Middle East\", \"North America\", \"Africa\"],\n",
    "#     [\"#adb0ff\", \"#ffb3ff\", \"#90d595\", \"#e48381\", \"#aafbff\", \"#f7bb5f\", \"#eafb50\"]\n",
    "# ))\n",
    "# group_lk = g.set_index('name')['group'].to_dict()"
   ]
  },
  {
   "cell_type": "code",
   "execution_count": null,
   "id": "gross-drinking",
   "metadata": {
    "papermill": {
     "duration": 0.03306,
     "end_time": "2021-06-01T12:45:20.287919",
     "exception": false,
     "start_time": "2021-06-01T12:45:20.254859",
     "status": "completed"
    },
    "tags": []
   },
   "outputs": [],
   "source": []
  },
  {
   "cell_type": "code",
   "execution_count": 41,
   "id": "subject-macintosh",
   "metadata": {
    "execution": {
     "iopub.execute_input": "2021-06-01T12:45:20.354675Z",
     "iopub.status.busy": "2021-06-01T12:45:20.354153Z",
     "iopub.status.idle": "2021-06-01T12:45:20.355915Z",
     "shell.execute_reply": "2021-06-01T12:45:20.356378Z"
    },
    "papermill": {
     "duration": 0.03729,
     "end_time": "2021-06-01T12:45:20.356506",
     "exception": false,
     "start_time": "2021-06-01T12:45:20.319216",
     "status": "completed"
    },
    "tags": []
   },
   "outputs": [],
   "source": [
    "# #hide\n",
    "# fig, ax = plt.subplots(figsize=(15, 8))\n",
    "\n",
    "# def draw_barchart(current_day):\n",
    "#     dff = g[g['day'].eq(current_day)].sort_values(by='value', ascending=True).tail(10)\n",
    "#     ax.clear()\n",
    "#     ax.barh(dff['name'], dff['value'], color=[colors[group_lk[x]] for x in dff['name']])\n",
    "#     dx = dff['value'].max() / 200\n",
    "    \n",
    "#     for i, (value, name) in enumerate(zip(dff['value'], dff['name'])):\n",
    "#         ax.text(value-dx, i,     name,           size=14, weight=600, ha='right', va='bottom')\n",
    "#         ax.text(value-dx, i-.25, group_lk[name], size=10, color='#444444', ha='right', va='baseline')\n",
    "#         ax.text(value+dx, i,     f'{value:,.0f}',  size=14, ha='left',  va='center')\n",
    "#     ax.text(1, 0.4, current_day, transform=ax.transAxes, color='#777777', size=46, ha='right', weight=800)\n",
    "#     ax.text(0, 1.06, 'Population (thousands)', transform=ax.transAxes, size=12, color='#777777')\n",
    "#     ax.xaxis.set_major_formatter(ticker.StrMethodFormatter('{x:,.0f}'))\n",
    "#     ax.xaxis.set_ticks_position('top')\n",
    "#     ax.tick_params(axis='x', colors='#777777', labelsize=12)\n",
    "#     ax.set_yticks([])\n",
    "#     ax.margins(0, 0.01)\n",
    "#     ax.grid(which='major', axis='x', linestyle='-')\n",
    "#     ax.set_axisbelow(True)\n",
    "    \n",
    "#     ax.text(0, 1.15, 'Coronavirus',\n",
    "#             transform=ax.transAxes, size=24, weight=600, ha='left', va='top')\n",
    "# #     ax.text(1, 0, 'by @pratapvardhan; credit @jburnmurdoch', transform=ax.transAxes, color='#777777', ha='right',\n",
    "# #             bbox=dict(facecolor='white', alpha=0.8, edgecolor='white'))\n",
    "#     plt.box(False)"
   ]
  },
  {
   "cell_type": "code",
   "execution_count": 42,
   "id": "sexual-wages",
   "metadata": {
    "execution": {
     "iopub.execute_input": "2021-06-01T12:45:20.422266Z",
     "iopub.status.busy": "2021-06-01T12:45:20.421758Z",
     "iopub.status.idle": "2021-06-01T12:45:20.423528Z",
     "shell.execute_reply": "2021-06-01T12:45:20.423991Z"
    },
    "papermill": {
     "duration": 0.036683,
     "end_time": "2021-06-01T12:45:20.424120",
     "exception": false,
     "start_time": "2021-06-01T12:45:20.387437",
     "status": "completed"
    },
    "tags": []
   },
   "outputs": [],
   "source": [
    "# #hide_input\n",
    "# fig, ax = plt.subplots(figsize=(15, 8))\n",
    "# animator = animation.FuncAnimation(fig, draw_barchart, frames=range(g.day.values.min(), g.day.values.max()))\n",
    "# HTML(animator.to_jshtml())\n",
    "# # or use animator.to_html5_video() or animator.save() "
   ]
  },
  {
   "cell_type": "code",
   "execution_count": null,
   "id": "australian-container",
   "metadata": {
    "papermill": {
     "duration": 0.030852,
     "end_time": "2021-06-01T12:45:20.486098",
     "exception": false,
     "start_time": "2021-06-01T12:45:20.455246",
     "status": "completed"
    },
    "tags": []
   },
   "outputs": [],
   "source": []
  },
  {
   "cell_type": "code",
   "execution_count": null,
   "id": "mediterranean-pontiac",
   "metadata": {
    "papermill": {
     "duration": 0.030977,
     "end_time": "2021-06-01T12:45:20.548036",
     "exception": false,
     "start_time": "2021-06-01T12:45:20.517059",
     "status": "completed"
    },
    "tags": []
   },
   "outputs": [],
   "source": []
  },
  {
   "cell_type": "code",
   "execution_count": null,
   "id": "aging-legislature",
   "metadata": {
    "papermill": {
     "duration": 0.030885,
     "end_time": "2021-06-01T12:45:20.613390",
     "exception": false,
     "start_time": "2021-06-01T12:45:20.582505",
     "status": "completed"
    },
    "tags": []
   },
   "outputs": [],
   "source": []
  }
 ],
 "metadata": {
  "kernelspec": {
   "display_name": "Python 3",
   "language": "python",
   "name": "python3"
  },
  "language_info": {
   "codemirror_mode": {
    "name": "ipython",
    "version": 3
   },
   "file_extension": ".py",
   "mimetype": "text/x-python",
   "name": "python",
   "nbconvert_exporter": "python",
   "pygments_lexer": "ipython3",
   "version": "3.6.13"
  },
  "papermill": {
   "duration": 6.05649,
   "end_time": "2021-06-01T12:45:21.053472",
   "environment_variables": {},
   "exception": null,
   "input_path": "2020-03-21-covid19exp.ipynb",
   "output_path": "2020-03-21-covid19exp.ipynb",
   "parameters": {},
   "start_time": "2021-06-01T12:45:14.996982",
   "version": "2.0.0"
  }
 },
 "nbformat": 4,
 "nbformat_minor": 5
}