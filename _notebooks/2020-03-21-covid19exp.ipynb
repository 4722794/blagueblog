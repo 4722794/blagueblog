{
 "cells": [
  {
   "cell_type": "markdown",
   "id": "muslim-click",
   "metadata": {
    "papermill": {
     "duration": 0.034572,
     "end_time": "2022-02-04T00:25:30.340722",
     "exception": false,
     "start_time": "2022-02-04T00:25:30.306150",
     "status": "completed"
    },
    "tags": []
   },
   "source": [
    "# COVID-19 Case Race\n",
    "> A race chart to see rising cases around the world\n",
    "\n",
    "- author: Hargun Oberoi\n",
    "- image: images/covid-overview.png\n",
    "- hide: false\n",
    "- badges: false"
   ]
  },
  {
   "cell_type": "code",
   "execution_count": 1,
   "id": "proof-material",
   "metadata": {
    "execution": {
     "iopub.execute_input": "2022-02-04T00:25:30.414314Z",
     "iopub.status.busy": "2022-02-04T00:25:30.413731Z",
     "iopub.status.idle": "2022-02-04T00:25:30.773822Z",
     "shell.execute_reply": "2022-02-04T00:25:30.773203Z"
    },
    "papermill": {
     "duration": 0.40259,
     "end_time": "2022-02-04T00:25:30.774006",
     "exception": false,
     "start_time": "2022-02-04T00:25:30.371416",
     "status": "completed"
    },
    "tags": []
   },
   "outputs": [],
   "source": [
    "#hide\n",
    "import numpy as np\n",
    "import pandas as pd\n",
    "from jinja2 import Template\n",
    "from IPython.display import HTML"
   ]
  },
  {
   "cell_type": "code",
   "execution_count": 2,
   "id": "developed-terminology",
   "metadata": {
    "execution": {
     "iopub.execute_input": "2022-02-04T00:25:30.840700Z",
     "iopub.status.busy": "2022-02-04T00:25:30.840122Z",
     "iopub.status.idle": "2022-02-04T00:25:30.843373Z",
     "shell.execute_reply": "2022-02-04T00:25:30.843763Z"
    },
    "papermill": {
     "duration": 0.039452,
     "end_time": "2022-02-04T00:25:30.843916",
     "exception": false,
     "start_time": "2022-02-04T00:25:30.804464",
     "status": "completed"
    },
    "tags": []
   },
   "outputs": [],
   "source": [
    "#hide\n",
    "\n",
    "# FETCH\n",
    "base_url = 'https://raw.githubusercontent.com/pratapvardhan/notebooks/master/covid19/'\n",
    "paths = {\n",
    "    'mapping': base_url + 'mapping_countries.csv',\n",
    "    'overview': base_url + 'overview.tpl'\n",
    "}"
   ]
  },
  {
   "cell_type": "code",
   "execution_count": 3,
   "id": "dynamic-saver",
   "metadata": {
    "execution": {
     "iopub.execute_input": "2022-02-04T00:25:30.913861Z",
     "iopub.status.busy": "2022-02-04T00:25:30.913264Z",
     "iopub.status.idle": "2022-02-04T00:25:30.915268Z",
     "shell.execute_reply": "2022-02-04T00:25:30.915752Z"
    },
    "papermill": {
     "duration": 0.042454,
     "end_time": "2022-02-04T00:25:30.915893",
     "exception": false,
     "start_time": "2022-02-04T00:25:30.873439",
     "status": "completed"
    },
    "tags": []
   },
   "outputs": [
    {
     "data": {
      "text/plain": [
       "'https://raw.githubusercontent.com/pratapvardhan/notebooks/master/covid19/mapping_countries.csv'"
      ]
     },
     "execution_count": 3,
     "metadata": {},
     "output_type": "execute_result"
    }
   ],
   "source": [
    "#hide\n",
    "paths['mapping']"
   ]
  },
  {
   "cell_type": "code",
   "execution_count": 4,
   "id": "urban-software",
   "metadata": {
    "execution": {
     "iopub.execute_input": "2022-02-04T00:25:30.981996Z",
     "iopub.status.busy": "2022-02-04T00:25:30.981313Z",
     "iopub.status.idle": "2022-02-04T00:25:30.984465Z",
     "shell.execute_reply": "2022-02-04T00:25:30.984038Z"
    },
    "papermill": {
     "duration": 0.038869,
     "end_time": "2022-02-04T00:25:30.984589",
     "exception": false,
     "start_time": "2022-02-04T00:25:30.945720",
     "status": "completed"
    },
    "tags": []
   },
   "outputs": [],
   "source": [
    "#hide\n",
    "def get_mappings(url):\n",
    "    df = pd.read_csv(url)\n",
    "    return {\n",
    "        'df': df,\n",
    "        'replace.country': dict(df.dropna(subset=['Name']).set_index('Country')['Name']),\n",
    "        'map.continent': dict(df.set_index('Name')['Continent'])\n",
    "    }"
   ]
  },
  {
   "cell_type": "code",
   "execution_count": 5,
   "id": "intimate-machinery",
   "metadata": {
    "execution": {
     "iopub.execute_input": "2022-02-04T00:25:31.050411Z",
     "iopub.status.busy": "2022-02-04T00:25:31.049851Z",
     "iopub.status.idle": "2022-02-04T00:25:31.078444Z",
     "shell.execute_reply": "2022-02-04T00:25:31.078926Z"
    },
    "papermill": {
     "duration": 0.064637,
     "end_time": "2022-02-04T00:25:31.079113",
     "exception": false,
     "start_time": "2022-02-04T00:25:31.014476",
     "status": "completed"
    },
    "tags": []
   },
   "outputs": [],
   "source": [
    "#hide\n",
    "mapping = get_mappings(paths['mapping'])"
   ]
  },
  {
   "cell_type": "code",
   "execution_count": 6,
   "id": "certified-tactics",
   "metadata": {
    "execution": {
     "iopub.execute_input": "2022-02-04T00:25:31.146566Z",
     "iopub.status.busy": "2022-02-04T00:25:31.145986Z",
     "iopub.status.idle": "2022-02-04T00:25:31.149359Z",
     "shell.execute_reply": "2022-02-04T00:25:31.149784Z"
    },
    "papermill": {
     "duration": 0.039963,
     "end_time": "2022-02-04T00:25:31.149941",
     "exception": false,
     "start_time": "2022-02-04T00:25:31.109978",
     "status": "completed"
    },
    "tags": []
   },
   "outputs": [],
   "source": [
    "#hide\n",
    "def get_template(path):\n",
    "    from urllib.parse import urlparse\n",
    "    if bool(urlparse(path).netloc):\n",
    "        from urllib.request import urlopen\n",
    "        return urlopen(path).read().decode('utf8')\n",
    "    return open(path).read()"
   ]
  },
  {
   "cell_type": "code",
   "execution_count": 7,
   "id": "realistic-blast",
   "metadata": {
    "execution": {
     "iopub.execute_input": "2022-02-04T00:25:31.215828Z",
     "iopub.status.busy": "2022-02-04T00:25:31.215195Z",
     "iopub.status.idle": "2022-02-04T00:25:31.216446Z",
     "shell.execute_reply": "2022-02-04T00:25:31.217001Z"
    },
    "papermill": {
     "duration": 0.037402,
     "end_time": "2022-02-04T00:25:31.217159",
     "exception": false,
     "start_time": "2022-02-04T00:25:31.179757",
     "status": "completed"
    },
    "tags": []
   },
   "outputs": [],
   "source": [
    "#hide\n",
    "def get_frame(name):\n",
    "    url = (\n",
    "        'https://raw.githubusercontent.com/CSSEGISandData/COVID-19/master/csse_covid_19_data/'\n",
    "        f'csse_covid_19_time_series/time_series_covid19_{name}_global.csv')\n",
    "    df = pd.read_csv(url)\n",
    "    # rename countries\n",
    "    df['Country/Region'] = df['Country/Region'].replace(mapping['replace.country'])\n",
    "    return df"
   ]
  },
  {
   "cell_type": "code",
   "execution_count": 8,
   "id": "affiliated-characterization",
   "metadata": {
    "execution": {
     "iopub.execute_input": "2022-02-04T00:25:31.283660Z",
     "iopub.status.busy": "2022-02-04T00:25:31.283117Z",
     "iopub.status.idle": "2022-02-04T00:25:31.284930Z",
     "shell.execute_reply": "2022-02-04T00:25:31.285408Z"
    },
    "papermill": {
     "duration": 0.038527,
     "end_time": "2022-02-04T00:25:31.285590",
     "exception": false,
     "start_time": "2022-02-04T00:25:31.247063",
     "status": "completed"
    },
    "tags": []
   },
   "outputs": [],
   "source": [
    "#hide\n",
    "def get_dates(df):\n",
    "    dt_cols = df.columns[~df.columns.isin(['Province/State', 'Country/Region', 'Lat', 'Long'])]\n",
    "    LAST_DATE_I = -1\n",
    "    # sometimes last column may be empty, then go backwards\n",
    "    for i in range(-1, -len(dt_cols), -1):\n",
    "        if not df[dt_cols[i]].fillna(0).eq(0).all():\n",
    "            LAST_DATE_I = i\n",
    "            break\n",
    "    return LAST_DATE_I, dt_cols"
   ]
  },
  {
   "cell_type": "code",
   "execution_count": 9,
   "id": "recent-optimization",
   "metadata": {
    "execution": {
     "iopub.execute_input": "2022-02-04T00:25:31.350483Z",
     "iopub.status.busy": "2022-02-04T00:25:31.349927Z",
     "iopub.status.idle": "2022-02-04T00:25:31.693519Z",
     "shell.execute_reply": "2022-02-04T00:25:31.692927Z"
    },
    "papermill": {
     "duration": 0.378468,
     "end_time": "2022-02-04T00:25:31.693690",
     "exception": false,
     "start_time": "2022-02-04T00:25:31.315222",
     "status": "completed"
    },
    "tags": []
   },
   "outputs": [],
   "source": [
    "#hide\n",
    "COL_REGION = 'Country/Region'\n",
    "# Confirmed, Recovered, Deaths\n",
    "df = get_frame('confirmed')\n",
    "# dft_: timeseries, dfc_: today country agg\n",
    "dft_cases = df\n",
    "dft_deaths = get_frame('deaths')\n",
    "dft_recovered = get_frame('recovered')\n",
    "LAST_DATE_I, dt_cols = get_dates(df)"
   ]
  },
  {
   "cell_type": "code",
   "execution_count": 10,
   "id": "absolute-copper",
   "metadata": {
    "execution": {
     "iopub.execute_input": "2022-02-04T00:25:31.760817Z",
     "iopub.status.busy": "2022-02-04T00:25:31.760244Z",
     "iopub.status.idle": "2022-02-04T00:25:31.761662Z",
     "shell.execute_reply": "2022-02-04T00:25:31.762099Z"
    },
    "papermill": {
     "duration": 0.038041,
     "end_time": "2022-02-04T00:25:31.762247",
     "exception": false,
     "start_time": "2022-02-04T00:25:31.724206",
     "status": "completed"
    },
    "tags": []
   },
   "outputs": [],
   "source": [
    "#hide\n",
    "LAST_DATE_I, dt_cols = get_dates(df)\n",
    "dt_today =dt_cols[LAST_DATE_I]\n",
    "# dt_5day = dt_cols[LAST_DATE_I - 5]\n",
    "dt_yday = dt_cols[LAST_DATE_I - 1]"
   ]
  },
  {
   "cell_type": "code",
   "execution_count": 11,
   "id": "restricted-sheriff",
   "metadata": {
    "execution": {
     "iopub.execute_input": "2022-02-04T00:25:31.824792Z",
     "iopub.status.busy": "2022-02-04T00:25:31.824261Z",
     "iopub.status.idle": "2022-02-04T00:25:31.835373Z",
     "shell.execute_reply": "2022-02-04T00:25:31.834935Z"
    },
    "papermill": {
     "duration": 0.043657,
     "end_time": "2022-02-04T00:25:31.835502",
     "exception": false,
     "start_time": "2022-02-04T00:25:31.791845",
     "status": "completed"
    },
    "tags": []
   },
   "outputs": [],
   "source": [
    "#hide\n",
    "dfc_cases = dft_cases.groupby(COL_REGION)[dt_today].sum()\n",
    "dfc_deaths = dft_deaths.groupby(COL_REGION)[dt_today].sum()\n",
    "# dfp_cases = dft_cases.groupby(COL_REGION)[dt_5day].sum()\n",
    "# dfp_deaths = dft_deaths.groupby(COL_REGION)[dt_5day].sum()\n",
    "dfp_cases = dft_cases.groupby(COL_REGION)[dt_yday].sum()\n",
    "dfp_deaths = dft_deaths.groupby(COL_REGION)[dt_yday].sum()"
   ]
  },
  {
   "cell_type": "code",
   "execution_count": 12,
   "id": "deluxe-hepatitis",
   "metadata": {
    "execution": {
     "iopub.execute_input": "2022-02-04T00:25:31.903167Z",
     "iopub.status.busy": "2022-02-04T00:25:31.902626Z",
     "iopub.status.idle": "2022-02-04T00:25:31.907895Z",
     "shell.execute_reply": "2022-02-04T00:25:31.907461Z"
    },
    "papermill": {
     "duration": 0.042528,
     "end_time": "2022-02-04T00:25:31.908023",
     "exception": false,
     "start_time": "2022-02-04T00:25:31.865495",
     "status": "completed"
    },
    "tags": []
   },
   "outputs": [],
   "source": [
    "#hide\n",
    "df_table = (pd.DataFrame(dict(Cases = dfc_cases, Deaths = dfc_deaths, PCases = dfp_cases, PDeaths = dfp_deaths))\n",
    "            .sort_values(by = ['Cases','Deaths'], ascending = [False, False])\n",
    "            .reset_index())"
   ]
  },
  {
   "cell_type": "code",
   "execution_count": 13,
   "id": "educational-chancellor",
   "metadata": {
    "execution": {
     "iopub.execute_input": "2022-02-04T00:25:31.988291Z",
     "iopub.status.busy": "2022-02-04T00:25:31.987703Z",
     "iopub.status.idle": "2022-02-04T00:25:31.995420Z",
     "shell.execute_reply": "2022-02-04T00:25:31.994965Z"
    },
    "papermill": {
     "duration": 0.057769,
     "end_time": "2022-02-04T00:25:31.995547",
     "exception": false,
     "start_time": "2022-02-04T00:25:31.937778",
     "status": "completed"
    },
    "tags": []
   },
   "outputs": [
    {
     "data": {
      "text/html": [
       "<div>\n",
       "<style scoped>\n",
       "    .dataframe tbody tr th:only-of-type {\n",
       "        vertical-align: middle;\n",
       "    }\n",
       "\n",
       "    .dataframe tbody tr th {\n",
       "        vertical-align: top;\n",
       "    }\n",
       "\n",
       "    .dataframe thead th {\n",
       "        text-align: right;\n",
       "    }\n",
       "</style>\n",
       "<table border=\"1\" class=\"dataframe\">\n",
       "  <thead>\n",
       "    <tr style=\"text-align: right;\">\n",
       "      <th></th>\n",
       "      <th>Country/Region</th>\n",
       "      <th>Cases</th>\n",
       "      <th>Deaths</th>\n",
       "      <th>PCases</th>\n",
       "      <th>PDeaths</th>\n",
       "      <th>Cases (+)</th>\n",
       "      <th>Deaths (+)</th>\n",
       "      <th>Fatality Rate</th>\n",
       "      <th>Continent</th>\n",
       "    </tr>\n",
       "  </thead>\n",
       "  <tbody>\n",
       "    <tr>\n",
       "      <th>0</th>\n",
       "      <td>US</td>\n",
       "      <td>75680487</td>\n",
       "      <td>894316</td>\n",
       "      <td>75350359</td>\n",
       "      <td>890770</td>\n",
       "      <td>330128</td>\n",
       "      <td>3546</td>\n",
       "      <td>1.18</td>\n",
       "      <td>North America</td>\n",
       "    </tr>\n",
       "    <tr>\n",
       "      <th>1</th>\n",
       "      <td>India</td>\n",
       "      <td>41803318</td>\n",
       "      <td>498983</td>\n",
       "      <td>41630885</td>\n",
       "      <td>497975</td>\n",
       "      <td>172433</td>\n",
       "      <td>1008</td>\n",
       "      <td>1.19</td>\n",
       "      <td>Asia</td>\n",
       "    </tr>\n",
       "    <tr>\n",
       "      <th>2</th>\n",
       "      <td>Brazil</td>\n",
       "      <td>25820745</td>\n",
       "      <td>629301</td>\n",
       "      <td>25634781</td>\n",
       "      <td>628356</td>\n",
       "      <td>185964</td>\n",
       "      <td>945</td>\n",
       "      <td>2.44</td>\n",
       "      <td>South America</td>\n",
       "    </tr>\n",
       "    <tr>\n",
       "      <th>3</th>\n",
       "      <td>France</td>\n",
       "      <td>19998301</td>\n",
       "      <td>132583</td>\n",
       "      <td>19681231</td>\n",
       "      <td>132307</td>\n",
       "      <td>317070</td>\n",
       "      <td>276</td>\n",
       "      <td>0.66</td>\n",
       "      <td>Europe</td>\n",
       "    </tr>\n",
       "    <tr>\n",
       "      <th>4</th>\n",
       "      <td>United Kingdom</td>\n",
       "      <td>17632062</td>\n",
       "      <td>157938</td>\n",
       "      <td>17544380</td>\n",
       "      <td>157404</td>\n",
       "      <td>87682</td>\n",
       "      <td>534</td>\n",
       "      <td>0.90</td>\n",
       "      <td>Europe</td>\n",
       "    </tr>\n",
       "  </tbody>\n",
       "</table>\n",
       "</div>"
      ],
      "text/plain": [
       "   Country/Region     Cases  Deaths    PCases  PDeaths  Cases (+)  Deaths (+)  \\\n",
       "0              US  75680487  894316  75350359   890770     330128        3546   \n",
       "1           India  41803318  498983  41630885   497975     172433        1008   \n",
       "2          Brazil  25820745  629301  25634781   628356     185964         945   \n",
       "3          France  19998301  132583  19681231   132307     317070         276   \n",
       "4  United Kingdom  17632062  157938  17544380   157404      87682         534   \n",
       "\n",
       "   Fatality Rate      Continent  \n",
       "0           1.18  North America  \n",
       "1           1.19           Asia  \n",
       "2           2.44  South America  \n",
       "3           0.66         Europe  \n",
       "4           0.90         Europe  "
      ]
     },
     "execution_count": 13,
     "metadata": {},
     "output_type": "execute_result"
    }
   ],
   "source": [
    "#hide\n",
    "for c in 'Cases, Deaths'.split(', '):\n",
    "    df_table[f'{c} (+)'] = (df_table[c] - df_table[f'P{c}']).clip(0)\n",
    "    #Clip ça veut dire, les chiffres negatif sont interdit\n",
    "df_table['Fatality Rate'] = (100* df_table['Deaths']/ df_table['Cases']).round(2)\n",
    "df_table['Continent'] = df_table['Country/Region'].map(mapping['map.continent'])\n",
    "df_table.head(5)"
   ]
  },
  {
   "cell_type": "code",
   "execution_count": 14,
   "id": "aboriginal-bulgaria",
   "metadata": {
    "execution": {
     "iopub.execute_input": "2022-02-04T00:25:32.063470Z",
     "iopub.status.busy": "2022-02-04T00:25:32.062934Z",
     "iopub.status.idle": "2022-02-04T00:25:32.065045Z",
     "shell.execute_reply": "2022-02-04T00:25:32.065511Z"
    },
    "papermill": {
     "duration": 0.039555,
     "end_time": "2022-02-04T00:25:32.065666",
     "exception": false,
     "start_time": "2022-02-04T00:25:32.026111",
     "status": "completed"
    },
    "tags": []
   },
   "outputs": [],
   "source": [
    "#hide\n",
    "#delete problematic countries from table\n",
    "df_table = df_table[~df_table['Country/Region'].isin(['Cape Verde', 'Cruise Ship', 'Kosovo'])]"
   ]
  },
  {
   "cell_type": "code",
   "execution_count": 15,
   "id": "fantastic-effect",
   "metadata": {
    "execution": {
     "iopub.execute_input": "2022-02-04T00:25:32.135474Z",
     "iopub.status.busy": "2022-02-04T00:25:32.134935Z",
     "iopub.status.idle": "2022-02-04T00:25:32.153144Z",
     "shell.execute_reply": "2022-02-04T00:25:32.152712Z"
    },
    "papermill": {
     "duration": 0.057425,
     "end_time": "2022-02-04T00:25:32.153278",
     "exception": false,
     "start_time": "2022-02-04T00:25:32.095853",
     "status": "completed"
    },
    "tags": []
   },
   "outputs": [
    {
     "data": {
      "text/html": [
       "<div>\n",
       "<style scoped>\n",
       "    .dataframe tbody tr th:only-of-type {\n",
       "        vertical-align: middle;\n",
       "    }\n",
       "\n",
       "    .dataframe tbody tr th {\n",
       "        vertical-align: top;\n",
       "    }\n",
       "\n",
       "    .dataframe thead th {\n",
       "        text-align: right;\n",
       "    }\n",
       "</style>\n",
       "<table border=\"1\" class=\"dataframe\">\n",
       "  <thead>\n",
       "    <tr style=\"text-align: right;\">\n",
       "      <th></th>\n",
       "      <th>Country/Region</th>\n",
       "      <th>Cases</th>\n",
       "      <th>Deaths</th>\n",
       "      <th>PCases</th>\n",
       "      <th>PDeaths</th>\n",
       "      <th>Cases (+)</th>\n",
       "      <th>Deaths (+)</th>\n",
       "      <th>Fatality Rate</th>\n",
       "      <th>Continent</th>\n",
       "    </tr>\n",
       "  </thead>\n",
       "  <tbody>\n",
       "    <tr>\n",
       "      <th>0</th>\n",
       "      <td>US</td>\n",
       "      <td>75680487</td>\n",
       "      <td>894316</td>\n",
       "      <td>75350359</td>\n",
       "      <td>890770</td>\n",
       "      <td>330128</td>\n",
       "      <td>3546</td>\n",
       "      <td>1.2</td>\n",
       "      <td>North America</td>\n",
       "    </tr>\n",
       "    <tr>\n",
       "      <th>1</th>\n",
       "      <td>India</td>\n",
       "      <td>41803318</td>\n",
       "      <td>498983</td>\n",
       "      <td>41630885</td>\n",
       "      <td>497975</td>\n",
       "      <td>172433</td>\n",
       "      <td>1008</td>\n",
       "      <td>1.2</td>\n",
       "      <td>Asia</td>\n",
       "    </tr>\n",
       "    <tr>\n",
       "      <th>2</th>\n",
       "      <td>Brazil</td>\n",
       "      <td>25820745</td>\n",
       "      <td>629301</td>\n",
       "      <td>25634781</td>\n",
       "      <td>628356</td>\n",
       "      <td>185964</td>\n",
       "      <td>945</td>\n",
       "      <td>2.4</td>\n",
       "      <td>South America</td>\n",
       "    </tr>\n",
       "    <tr>\n",
       "      <th>3</th>\n",
       "      <td>France</td>\n",
       "      <td>19998301</td>\n",
       "      <td>132583</td>\n",
       "      <td>19681231</td>\n",
       "      <td>132307</td>\n",
       "      <td>317070</td>\n",
       "      <td>276</td>\n",
       "      <td>0.7</td>\n",
       "      <td>Europe</td>\n",
       "    </tr>\n",
       "    <tr>\n",
       "      <th>4</th>\n",
       "      <td>United Kingdom</td>\n",
       "      <td>17632062</td>\n",
       "      <td>157938</td>\n",
       "      <td>17544380</td>\n",
       "      <td>157404</td>\n",
       "      <td>87682</td>\n",
       "      <td>534</td>\n",
       "      <td>0.9</td>\n",
       "      <td>Europe</td>\n",
       "    </tr>\n",
       "  </tbody>\n",
       "</table>\n",
       "</div>"
      ],
      "text/plain": [
       "   Country/Region     Cases  Deaths    PCases  PDeaths  Cases (+)  Deaths (+)  \\\n",
       "0              US  75680487  894316  75350359   890770     330128        3546   \n",
       "1           India  41803318  498983  41630885   497975     172433        1008   \n",
       "2          Brazil  25820745  629301  25634781   628356     185964         945   \n",
       "3          France  19998301  132583  19681231   132307     317070         276   \n",
       "4  United Kingdom  17632062  157938  17544380   157404      87682         534   \n",
       "\n",
       "   Fatality Rate      Continent  \n",
       "0            1.2  North America  \n",
       "1            1.2           Asia  \n",
       "2            2.4  South America  \n",
       "3            0.7         Europe  \n",
       "4            0.9         Europe  "
      ]
     },
     "execution_count": 15,
     "metadata": {},
     "output_type": "execute_result"
    }
   ],
   "source": [
    "#hide\n",
    "df_table = (pd.DataFrame(dict(Cases=dfc_cases, Deaths=dfc_deaths, PCases=dfp_cases, PDeaths=dfp_deaths))\n",
    "             .sort_values(by=['Cases', 'Deaths'], ascending=[False, False])\n",
    "             .reset_index())\n",
    "df_table.rename(columns={'index': 'Country/Region'}, inplace=True)\n",
    "for c in 'Cases, Deaths'.split(', '):\n",
    "    df_table[f'{c} (+)'] = (df_table[c] - df_table[f'P{c}']).clip(0)  # DATA BUG\n",
    "df_table['Fatality Rate'] = (100 * df_table['Deaths'] / df_table['Cases']).round(1)\n",
    "df_table['Continent'] = df_table['Country/Region'].map(mapping['map.continent'])\n",
    "df_table.head(5)"
   ]
  },
  {
   "cell_type": "code",
   "execution_count": 16,
   "id": "fewer-occasion",
   "metadata": {
    "execution": {
     "iopub.execute_input": "2022-02-04T00:25:32.221027Z",
     "iopub.status.busy": "2022-02-04T00:25:32.220488Z",
     "iopub.status.idle": "2022-02-04T00:25:32.223366Z",
     "shell.execute_reply": "2022-02-04T00:25:32.223858Z"
    },
    "papermill": {
     "duration": 0.03974,
     "end_time": "2022-02-04T00:25:32.224007",
     "exception": false,
     "start_time": "2022-02-04T00:25:32.184267",
     "status": "completed"
    },
    "tags": []
   },
   "outputs": [],
   "source": [
    "#hide\n",
    "#delete problematic countries from table\n",
    "df_table = df_table[~df_table['Country/Region'].isin(['Cape Verde', 'Cruise Ship', 'Kosovo'])]"
   ]
  },
  {
   "cell_type": "code",
   "execution_count": 17,
   "id": "related-center",
   "metadata": {
    "execution": {
     "iopub.execute_input": "2022-02-04T00:25:32.306190Z",
     "iopub.status.busy": "2022-02-04T00:25:32.305491Z",
     "iopub.status.idle": "2022-02-04T00:25:32.307683Z",
     "shell.execute_reply": "2022-02-04T00:25:32.307237Z"
    },
    "papermill": {
     "duration": 0.053187,
     "end_time": "2022-02-04T00:25:32.307807",
     "exception": false,
     "start_time": "2022-02-04T00:25:32.254620",
     "status": "completed"
    },
    "tags": []
   },
   "outputs": [],
   "source": [
    "#hide\n",
    "metrics = [df_table.columns[index] for index in [1,2,5,6]]\n",
    "# s_china = df_table[df_table['Country/Region'].eq('China')][metrics].sum().add_prefix('China ')\n",
    "s_us = df_table[df_table['Country/Region'].eq('US')][metrics].sum().add_prefix('US ')\n",
    "s_eu = df_table[df_table['Continent'].eq('Europe')][metrics].sum().add_prefix('EU ')\n",
    "s_ind = df_table[df_table['Country/Region'].eq('India')][metrics].sum().add_prefix('India ')\n",
    "summary = {'updated': pd.to_datetime(dt_today), 'since': pd.to_datetime(dt_yday)}\n",
    "summary = {'updated': pd.to_datetime(dt_today), 'since': pd.to_datetime(dt_yday)}\n",
    "summary = {**summary, **df_table[metrics].sum(), **s_ind, **s_us, **s_eu}"
   ]
  },
  {
   "cell_type": "code",
   "execution_count": 18,
   "id": "engaging-syndrome",
   "metadata": {
    "execution": {
     "iopub.execute_input": "2022-02-04T00:25:32.376315Z",
     "iopub.status.busy": "2022-02-04T00:25:32.375787Z",
     "iopub.status.idle": "2022-02-04T00:25:32.392136Z",
     "shell.execute_reply": "2022-02-04T00:25:32.392539Z"
    },
    "papermill": {
     "duration": 0.053951,
     "end_time": "2022-02-04T00:25:32.392708",
     "exception": false,
     "start_time": "2022-02-04T00:25:32.338757",
     "status": "completed"
    },
    "tags": []
   },
   "outputs": [],
   "source": [
    "#hide\n",
    "dft_ct_new_cases = dft_cases.groupby(COL_REGION)[dt_cols].sum().diff(axis=1).fillna(0).astype(int)"
   ]
  },
  {
   "cell_type": "code",
   "execution_count": 19,
   "id": "neutral-assignment",
   "metadata": {
    "execution": {
     "iopub.execute_input": "2022-02-04T00:25:32.462378Z",
     "iopub.status.busy": "2022-02-04T00:25:32.461798Z",
     "iopub.status.idle": "2022-02-04T00:25:32.463220Z",
     "shell.execute_reply": "2022-02-04T00:25:32.463652Z"
    },
    "papermill": {
     "duration": 0.040079,
     "end_time": "2022-02-04T00:25:32.463803",
     "exception": false,
     "start_time": "2022-02-04T00:25:32.423724",
     "status": "completed"
    },
    "tags": []
   },
   "outputs": [],
   "source": [
    "#hide\n",
    "everydaycases = dft_ct_new_cases.cumsum(axis=1)"
   ]
  },
  {
   "cell_type": "code",
   "execution_count": 20,
   "id": "parliamentary-calgary",
   "metadata": {
    "execution": {
     "iopub.execute_input": "2022-02-04T00:25:32.530634Z",
     "iopub.status.busy": "2022-02-04T00:25:32.530096Z",
     "iopub.status.idle": "2022-02-04T00:25:33.153728Z",
     "shell.execute_reply": "2022-02-04T00:25:33.153136Z"
    },
    "papermill": {
     "duration": 0.659289,
     "end_time": "2022-02-04T00:25:33.153890",
     "exception": false,
     "start_time": "2022-02-04T00:25:32.494601",
     "status": "completed"
    },
    "tags": []
   },
   "outputs": [],
   "source": [
    "#hide\n",
    "import pandas as pd\n",
    "import matplotlib.pyplot as plt\n",
    "import matplotlib.ticker as ticker\n",
    "import matplotlib.animation as animation\n",
    "from IPython.display import HTML"
   ]
  },
  {
   "cell_type": "code",
   "execution_count": 21,
   "id": "lasting-extraction",
   "metadata": {
    "execution": {
     "iopub.execute_input": "2022-02-04T00:25:33.223984Z",
     "iopub.status.busy": "2022-02-04T00:25:33.223432Z",
     "iopub.status.idle": "2022-02-04T00:25:33.230001Z",
     "shell.execute_reply": "2022-02-04T00:25:33.230437Z"
    },
    "papermill": {
     "duration": 0.044968,
     "end_time": "2022-02-04T00:25:33.230588",
     "exception": false,
     "start_time": "2022-02-04T00:25:33.185620",
     "status": "completed"
    },
    "tags": []
   },
   "outputs": [],
   "source": [
    "#hide\n",
    "t = everydaycases.stack()"
   ]
  },
  {
   "cell_type": "code",
   "execution_count": 22,
   "id": "premier-sleeve",
   "metadata": {
    "execution": {
     "iopub.execute_input": "2022-02-04T00:25:33.297519Z",
     "iopub.status.busy": "2022-02-04T00:25:33.296924Z",
     "iopub.status.idle": "2022-02-04T00:25:33.309632Z",
     "shell.execute_reply": "2022-02-04T00:25:33.309142Z"
    },
    "papermill": {
     "duration": 0.048287,
     "end_time": "2022-02-04T00:25:33.309766",
     "exception": false,
     "start_time": "2022-02-04T00:25:33.261479",
     "status": "completed"
    },
    "tags": []
   },
   "outputs": [],
   "source": [
    "#hide\n",
    "g = t.reset_index(['Country/Region'])"
   ]
  },
  {
   "cell_type": "code",
   "execution_count": 23,
   "id": "distributed-pittsburgh",
   "metadata": {
    "execution": {
     "iopub.execute_input": "2022-02-04T00:25:33.376243Z",
     "iopub.status.busy": "2022-02-04T00:25:33.375697Z",
     "iopub.status.idle": "2022-02-04T00:25:33.377327Z",
     "shell.execute_reply": "2022-02-04T00:25:33.377760Z"
    },
    "papermill": {
     "duration": 0.037305,
     "end_time": "2022-02-04T00:25:33.377907",
     "exception": false,
     "start_time": "2022-02-04T00:25:33.340602",
     "status": "completed"
    },
    "tags": []
   },
   "outputs": [],
   "source": [
    "#hide\n",
    "g.index.name = 'date'"
   ]
  },
  {
   "cell_type": "code",
   "execution_count": 24,
   "id": "naked-donor",
   "metadata": {
    "execution": {
     "iopub.execute_input": "2022-02-04T00:25:33.443347Z",
     "iopub.status.busy": "2022-02-04T00:25:33.442717Z",
     "iopub.status.idle": "2022-02-04T00:25:33.446084Z",
     "shell.execute_reply": "2022-02-04T00:25:33.446468Z"
    },
    "papermill": {
     "duration": 0.038169,
     "end_time": "2022-02-04T00:25:33.446611",
     "exception": false,
     "start_time": "2022-02-04T00:25:33.408442",
     "status": "completed"
    },
    "tags": []
   },
   "outputs": [],
   "source": [
    "# #hide\n",
    "# g = g.reset_index(['date'])"
   ]
  },
  {
   "cell_type": "code",
   "execution_count": 25,
   "id": "incomplete-mustang",
   "metadata": {
    "execution": {
     "iopub.execute_input": "2022-02-04T00:25:33.512578Z",
     "iopub.status.busy": "2022-02-04T00:25:33.511946Z",
     "iopub.status.idle": "2022-02-04T00:25:33.515499Z",
     "shell.execute_reply": "2022-02-04T00:25:33.515938Z"
    },
    "papermill": {
     "duration": 0.038968,
     "end_time": "2022-02-04T00:25:33.516104",
     "exception": false,
     "start_time": "2022-02-04T00:25:33.477136",
     "status": "completed"
    },
    "tags": []
   },
   "outputs": [],
   "source": [
    "#hide\n",
    "# g.head()"
   ]
  },
  {
   "cell_type": "code",
   "execution_count": 26,
   "id": "specific-kruger",
   "metadata": {
    "execution": {
     "iopub.execute_input": "2022-02-04T00:25:33.581955Z",
     "iopub.status.busy": "2022-02-04T00:25:33.581309Z",
     "iopub.status.idle": "2022-02-04T00:25:33.583351Z",
     "shell.execute_reply": "2022-02-04T00:25:33.582778Z"
    },
    "papermill": {
     "duration": 0.03667,
     "end_time": "2022-02-04T00:25:33.583480",
     "exception": false,
     "start_time": "2022-02-04T00:25:33.546810",
     "status": "completed"
    },
    "tags": []
   },
   "outputs": [],
   "source": [
    "#hide\n",
    "# g.columns = ['date','country','cases']"
   ]
  },
  {
   "cell_type": "code",
   "execution_count": 27,
   "id": "tender-conversion",
   "metadata": {
    "execution": {
     "iopub.execute_input": "2022-02-04T00:25:33.649124Z",
     "iopub.status.busy": "2022-02-04T00:25:33.648548Z",
     "iopub.status.idle": "2022-02-04T00:25:33.652268Z",
     "shell.execute_reply": "2022-02-04T00:25:33.651853Z"
    },
    "papermill": {
     "duration": 0.037868,
     "end_time": "2022-02-04T00:25:33.652388",
     "exception": false,
     "start_time": "2022-02-04T00:25:33.614520",
     "status": "completed"
    },
    "tags": []
   },
   "outputs": [],
   "source": [
    "#hide\n",
    "# g['continent'] = g.country"
   ]
  },
  {
   "cell_type": "code",
   "execution_count": 28,
   "id": "substantial-wilderness",
   "metadata": {
    "execution": {
     "iopub.execute_input": "2022-02-04T00:25:33.718504Z",
     "iopub.status.busy": "2022-02-04T00:25:33.717874Z",
     "iopub.status.idle": "2022-02-04T00:25:33.719702Z",
     "shell.execute_reply": "2022-02-04T00:25:33.719138Z"
    },
    "papermill": {
     "duration": 0.036504,
     "end_time": "2022-02-04T00:25:33.719834",
     "exception": false,
     "start_time": "2022-02-04T00:25:33.683330",
     "status": "completed"
    },
    "tags": []
   },
   "outputs": [],
   "source": [
    "#hide\n",
    "# cols = list(g.columns.values)"
   ]
  },
  {
   "cell_type": "code",
   "execution_count": 29,
   "id": "solved-farming",
   "metadata": {
    "execution": {
     "iopub.execute_input": "2022-02-04T00:25:33.785787Z",
     "iopub.status.busy": "2022-02-04T00:25:33.785137Z",
     "iopub.status.idle": "2022-02-04T00:25:33.786599Z",
     "shell.execute_reply": "2022-02-04T00:25:33.787283Z"
    },
    "papermill": {
     "duration": 0.036751,
     "end_time": "2022-02-04T00:25:33.787453",
     "exception": false,
     "start_time": "2022-02-04T00:25:33.750702",
     "status": "completed"
    },
    "tags": []
   },
   "outputs": [],
   "source": [
    "#hide\n",
    "# cols.insert(0, cols.pop())"
   ]
  },
  {
   "cell_type": "code",
   "execution_count": 30,
   "id": "executed-adoption",
   "metadata": {
    "execution": {
     "iopub.execute_input": "2022-02-04T00:25:33.852978Z",
     "iopub.status.busy": "2022-02-04T00:25:33.852415Z",
     "iopub.status.idle": "2022-02-04T00:25:33.855722Z",
     "shell.execute_reply": "2022-02-04T00:25:33.856107Z"
    },
    "papermill": {
     "duration": 0.037835,
     "end_time": "2022-02-04T00:25:33.856253",
     "exception": false,
     "start_time": "2022-02-04T00:25:33.818418",
     "status": "completed"
    },
    "tags": []
   },
   "outputs": [],
   "source": [
    "#hide\n",
    "# g = g[cols]"
   ]
  },
  {
   "cell_type": "code",
   "execution_count": 31,
   "id": "subject-dublin",
   "metadata": {
    "execution": {
     "iopub.execute_input": "2022-02-04T00:25:33.922319Z",
     "iopub.status.busy": "2022-02-04T00:25:33.921783Z",
     "iopub.status.idle": "2022-02-04T00:25:33.924030Z",
     "shell.execute_reply": "2022-02-04T00:25:33.923590Z"
    },
    "papermill": {
     "duration": 0.036857,
     "end_time": "2022-02-04T00:25:33.924150",
     "exception": false,
     "start_time": "2022-02-04T00:25:33.887293",
     "status": "completed"
    },
    "tags": []
   },
   "outputs": [],
   "source": [
    "#hide\n",
    "# g['continent'] = g['continent'].map(mapping['map.continent'])"
   ]
  },
  {
   "cell_type": "code",
   "execution_count": 32,
   "id": "freelance-scout",
   "metadata": {
    "execution": {
     "iopub.execute_input": "2022-02-04T00:25:33.989622Z",
     "iopub.status.busy": "2022-02-04T00:25:33.989036Z",
     "iopub.status.idle": "2022-02-04T00:25:33.992510Z",
     "shell.execute_reply": "2022-02-04T00:25:33.992087Z"
    },
    "papermill": {
     "duration": 0.037764,
     "end_time": "2022-02-04T00:25:33.992635",
     "exception": false,
     "start_time": "2022-02-04T00:25:33.954871",
     "status": "completed"
    },
    "tags": []
   },
   "outputs": [],
   "source": [
    "#hide\n",
    "# g.head()"
   ]
  },
  {
   "cell_type": "code",
   "execution_count": 33,
   "id": "limited-engine",
   "metadata": {
    "execution": {
     "iopub.execute_input": "2022-02-04T00:25:34.058660Z",
     "iopub.status.busy": "2022-02-04T00:25:34.058024Z",
     "iopub.status.idle": "2022-02-04T00:25:34.062290Z",
     "shell.execute_reply": "2022-02-04T00:25:34.061792Z"
    },
    "papermill": {
     "duration": 0.039082,
     "end_time": "2022-02-04T00:25:34.062432",
     "exception": false,
     "start_time": "2022-02-04T00:25:34.023350",
     "status": "completed"
    },
    "tags": []
   },
   "outputs": [],
   "source": [
    "# hide\n",
    "# g['date'] = g['date'].astype('datetime64[ns]')"
   ]
  },
  {
   "cell_type": "code",
   "execution_count": 34,
   "id": "sophisticated-supervisor",
   "metadata": {
    "execution": {
     "iopub.execute_input": "2022-02-04T00:25:34.129312Z",
     "iopub.status.busy": "2022-02-04T00:25:34.128750Z",
     "iopub.status.idle": "2022-02-04T00:25:34.130905Z",
     "shell.execute_reply": "2022-02-04T00:25:34.130474Z"
    },
    "papermill": {
     "duration": 0.036989,
     "end_time": "2022-02-04T00:25:34.131034",
     "exception": false,
     "start_time": "2022-02-04T00:25:34.094045",
     "status": "completed"
    },
    "tags": []
   },
   "outputs": [],
   "source": [
    "#hide\n",
    "# g['date'] = g.date.dt.dayofyear"
   ]
  },
  {
   "cell_type": "code",
   "execution_count": 35,
   "id": "inside-dubai",
   "metadata": {
    "execution": {
     "iopub.execute_input": "2022-02-04T00:25:34.196631Z",
     "iopub.status.busy": "2022-02-04T00:25:34.196016Z",
     "iopub.status.idle": "2022-02-04T00:25:34.199258Z",
     "shell.execute_reply": "2022-02-04T00:25:34.199638Z"
    },
    "papermill": {
     "duration": 0.038076,
     "end_time": "2022-02-04T00:25:34.199784",
     "exception": false,
     "start_time": "2022-02-04T00:25:34.161708",
     "status": "completed"
    },
    "tags": []
   },
   "outputs": [],
   "source": [
    "#hide\n",
    "# g = g.rename(columns= {'continent':'group','country':'name','cases':'value'})"
   ]
  },
  {
   "cell_type": "code",
   "execution_count": 36,
   "id": "fleet-motorcycle",
   "metadata": {
    "execution": {
     "iopub.execute_input": "2022-02-04T00:25:34.265834Z",
     "iopub.status.busy": "2022-02-04T00:25:34.265173Z",
     "iopub.status.idle": "2022-02-04T00:25:34.268736Z",
     "shell.execute_reply": "2022-02-04T00:25:34.269177Z"
    },
    "papermill": {
     "duration": 0.038711,
     "end_time": "2022-02-04T00:25:34.269338",
     "exception": false,
     "start_time": "2022-02-04T00:25:34.230627",
     "status": "completed"
    },
    "tags": []
   },
   "outputs": [],
   "source": [
    "#hide\n",
    "# cols = ['name','group','day','value']"
   ]
  },
  {
   "cell_type": "code",
   "execution_count": 37,
   "id": "continued-sleeping",
   "metadata": {
    "execution": {
     "iopub.execute_input": "2022-02-04T00:25:34.335217Z",
     "iopub.status.busy": "2022-02-04T00:25:34.334585Z",
     "iopub.status.idle": "2022-02-04T00:25:34.336506Z",
     "shell.execute_reply": "2022-02-04T00:25:34.335980Z"
    },
    "papermill": {
     "duration": 0.036636,
     "end_time": "2022-02-04T00:25:34.336639",
     "exception": false,
     "start_time": "2022-02-04T00:25:34.300003",
     "status": "completed"
    },
    "tags": []
   },
   "outputs": [],
   "source": [
    "#hide\n",
    "# g.rename(columns= {'date':'day'},inplace = True)"
   ]
  },
  {
   "cell_type": "code",
   "execution_count": 38,
   "id": "major-fight",
   "metadata": {
    "execution": {
     "iopub.execute_input": "2022-02-04T00:25:34.404067Z",
     "iopub.status.busy": "2022-02-04T00:25:34.403503Z",
     "iopub.status.idle": "2022-02-04T00:25:34.404654Z",
     "shell.execute_reply": "2022-02-04T00:25:34.405132Z"
    },
    "papermill": {
     "duration": 0.037203,
     "end_time": "2022-02-04T00:25:34.405279",
     "exception": false,
     "start_time": "2022-02-04T00:25:34.368076",
     "status": "completed"
    },
    "tags": []
   },
   "outputs": [],
   "source": [
    "#hide\n",
    "# g = g[cols]"
   ]
  },
  {
   "cell_type": "code",
   "execution_count": 39,
   "id": "structured-mobile",
   "metadata": {
    "execution": {
     "iopub.execute_input": "2022-02-04T00:25:34.471029Z",
     "iopub.status.busy": "2022-02-04T00:25:34.470409Z",
     "iopub.status.idle": "2022-02-04T00:25:34.471572Z",
     "shell.execute_reply": "2022-02-04T00:25:34.472126Z"
    },
    "papermill": {
     "duration": 0.036351,
     "end_time": "2022-02-04T00:25:34.472284",
     "exception": false,
     "start_time": "2022-02-04T00:25:34.435933",
     "status": "completed"
    },
    "tags": []
   },
   "outputs": [],
   "source": [
    "# #hide\n",
    "# g = g[g.group.notna()]"
   ]
  },
  {
   "cell_type": "code",
   "execution_count": 40,
   "id": "determined-closing",
   "metadata": {
    "execution": {
     "iopub.execute_input": "2022-02-04T00:25:34.539779Z",
     "iopub.status.busy": "2022-02-04T00:25:34.539115Z",
     "iopub.status.idle": "2022-02-04T00:25:34.540583Z",
     "shell.execute_reply": "2022-02-04T00:25:34.541086Z"
    },
    "papermill": {
     "duration": 0.037483,
     "end_time": "2022-02-04T00:25:34.541248",
     "exception": false,
     "start_time": "2022-02-04T00:25:34.503765",
     "status": "completed"
    },
    "tags": []
   },
   "outputs": [],
   "source": [
    "# #hide\n",
    "# colors = dict(zip(\n",
    "#     [\"Oceania\", \"Europe\", \"Asia\", \"South America\", \"Middle East\", \"North America\", \"Africa\"],\n",
    "#     [\"#adb0ff\", \"#ffb3ff\", \"#90d595\", \"#e48381\", \"#aafbff\", \"#f7bb5f\", \"#eafb50\"]\n",
    "# ))\n",
    "# group_lk = g.set_index('name')['group'].to_dict()"
   ]
  },
  {
   "cell_type": "code",
   "execution_count": null,
   "id": "gross-drinking",
   "metadata": {
    "papermill": {
     "duration": 0.03047,
     "end_time": "2022-02-04T00:25:34.602933",
     "exception": false,
     "start_time": "2022-02-04T00:25:34.572463",
     "status": "completed"
    },
    "tags": []
   },
   "outputs": [],
   "source": []
  },
  {
   "cell_type": "code",
   "execution_count": 41,
   "id": "subject-macintosh",
   "metadata": {
    "execution": {
     "iopub.execute_input": "2022-02-04T00:25:34.669610Z",
     "iopub.status.busy": "2022-02-04T00:25:34.668994Z",
     "iopub.status.idle": "2022-02-04T00:25:34.672094Z",
     "shell.execute_reply": "2022-02-04T00:25:34.672482Z"
    },
    "papermill": {
     "duration": 0.039303,
     "end_time": "2022-02-04T00:25:34.672707",
     "exception": false,
     "start_time": "2022-02-04T00:25:34.633404",
     "status": "completed"
    },
    "tags": []
   },
   "outputs": [],
   "source": [
    "# #hide\n",
    "# fig, ax = plt.subplots(figsize=(15, 8))\n",
    "\n",
    "# def draw_barchart(current_day):\n",
    "#     dff = g[g['day'].eq(current_day)].sort_values(by='value', ascending=True).tail(10)\n",
    "#     ax.clear()\n",
    "#     ax.barh(dff['name'], dff['value'], color=[colors[group_lk[x]] for x in dff['name']])\n",
    "#     dx = dff['value'].max() / 200\n",
    "    \n",
    "#     for i, (value, name) in enumerate(zip(dff['value'], dff['name'])):\n",
    "#         ax.text(value-dx, i,     name,           size=14, weight=600, ha='right', va='bottom')\n",
    "#         ax.text(value-dx, i-.25, group_lk[name], size=10, color='#444444', ha='right', va='baseline')\n",
    "#         ax.text(value+dx, i,     f'{value:,.0f}',  size=14, ha='left',  va='center')\n",
    "#     ax.text(1, 0.4, current_day, transform=ax.transAxes, color='#777777', size=46, ha='right', weight=800)\n",
    "#     ax.text(0, 1.06, 'Population (thousands)', transform=ax.transAxes, size=12, color='#777777')\n",
    "#     ax.xaxis.set_major_formatter(ticker.StrMethodFormatter('{x:,.0f}'))\n",
    "#     ax.xaxis.set_ticks_position('top')\n",
    "#     ax.tick_params(axis='x', colors='#777777', labelsize=12)\n",
    "#     ax.set_yticks([])\n",
    "#     ax.margins(0, 0.01)\n",
    "#     ax.grid(which='major', axis='x', linestyle='-')\n",
    "#     ax.set_axisbelow(True)\n",
    "    \n",
    "#     ax.text(0, 1.15, 'Coronavirus',\n",
    "#             transform=ax.transAxes, size=24, weight=600, ha='left', va='top')\n",
    "# #     ax.text(1, 0, 'by @pratapvardhan; credit @jburnmurdoch', transform=ax.transAxes, color='#777777', ha='right',\n",
    "# #             bbox=dict(facecolor='white', alpha=0.8, edgecolor='white'))\n",
    "#     plt.box(False)"
   ]
  },
  {
   "cell_type": "code",
   "execution_count": 42,
   "id": "sexual-wages",
   "metadata": {
    "execution": {
     "iopub.execute_input": "2022-02-04T00:25:34.739239Z",
     "iopub.status.busy": "2022-02-04T00:25:34.738583Z",
     "iopub.status.idle": "2022-02-04T00:25:34.741797Z",
     "shell.execute_reply": "2022-02-04T00:25:34.742185Z"
    },
    "papermill": {
     "duration": 0.038963,
     "end_time": "2022-02-04T00:25:34.742333",
     "exception": false,
     "start_time": "2022-02-04T00:25:34.703370",
     "status": "completed"
    },
    "tags": []
   },
   "outputs": [],
   "source": [
    "# #hide_input\n",
    "# fig, ax = plt.subplots(figsize=(15, 8))\n",
    "# animator = animation.FuncAnimation(fig, draw_barchart, frames=range(g.day.values.min(), g.day.values.max()))\n",
    "# HTML(animator.to_jshtml())\n",
    "# # or use animator.to_html5_video() or animator.save() "
   ]
  },
  {
   "cell_type": "code",
   "execution_count": null,
   "id": "australian-container",
   "metadata": {
    "papermill": {
     "duration": 0.031039,
     "end_time": "2022-02-04T00:25:34.804040",
     "exception": false,
     "start_time": "2022-02-04T00:25:34.773001",
     "status": "completed"
    },
    "tags": []
   },
   "outputs": [],
   "source": []
  },
  {
   "cell_type": "code",
   "execution_count": null,
   "id": "mediterranean-pontiac",
   "metadata": {
    "papermill": {
     "duration": 0.030558,
     "end_time": "2022-02-04T00:25:34.865124",
     "exception": false,
     "start_time": "2022-02-04T00:25:34.834566",
     "status": "completed"
    },
    "tags": []
   },
   "outputs": [],
   "source": []
  },
  {
   "cell_type": "code",
   "execution_count": null,
   "id": "aging-legislature",
   "metadata": {
    "papermill": {
     "duration": 0.030823,
     "end_time": "2022-02-04T00:25:34.926813",
     "exception": false,
     "start_time": "2022-02-04T00:25:34.895990",
     "status": "completed"
    },
    "tags": []
   },
   "outputs": [],
   "source": []
  }
 ],
 "metadata": {
  "kernelspec": {
   "display_name": "Python 3",
   "language": "python",
   "name": "python3"
  },
  "language_info": {
   "codemirror_mode": {
    "name": "ipython",
    "version": 3
   },
   "file_extension": ".py",
   "mimetype": "text/x-python",
   "name": "python",
   "nbconvert_exporter": "python",
   "pygments_lexer": "ipython3",
   "version": "3.6.15"
  },
  "papermill": {
   "duration": 6.344224,
   "end_time": "2022-02-04T00:25:35.377719",
   "environment_variables": {},
   "exception": null,
   "input_path": "2020-03-21-covid19exp.ipynb",
   "output_path": "2020-03-21-covid19exp.ipynb",
   "parameters": {},
   "start_time": "2022-02-04T00:25:29.033495",
   "version": "2.0.0"
  }
 },
 "nbformat": 4,
 "nbformat_minor": 5
}