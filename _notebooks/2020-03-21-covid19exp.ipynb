{
 "cells": [
  {
   "cell_type": "markdown",
   "id": "muslim-click",
   "metadata": {
    "papermill": {
     "duration": 0.047165,
     "end_time": "2021-10-25T12:13:12.691660",
     "exception": false,
     "start_time": "2021-10-25T12:13:12.644495",
     "status": "completed"
    },
    "tags": []
   },
   "source": [
    "# COVID-19 Case Race\n",
    "> A race chart to see rising cases around the world\n",
    "\n",
    "- author: Hargun Oberoi\n",
    "- image: images/covid-overview.png\n",
    "- hide: false\n",
    "- badges: false"
   ]
  },
  {
   "cell_type": "code",
   "execution_count": 1,
   "id": "proof-material",
   "metadata": {
    "execution": {
     "iopub.execute_input": "2021-10-25T12:13:12.788505Z",
     "iopub.status.busy": "2021-10-25T12:13:12.787790Z",
     "iopub.status.idle": "2021-10-25T12:13:13.224833Z",
     "shell.execute_reply": "2021-10-25T12:13:13.225408Z"
    },
    "papermill": {
     "duration": 0.492477,
     "end_time": "2021-10-25T12:13:13.225621",
     "exception": false,
     "start_time": "2021-10-25T12:13:12.733144",
     "status": "completed"
    },
    "tags": []
   },
   "outputs": [],
   "source": [
    "#hide\n",
    "import numpy as np\n",
    "import pandas as pd\n",
    "from jinja2 import Template\n",
    "from IPython.display import HTML"
   ]
  },
  {
   "cell_type": "code",
   "execution_count": 2,
   "id": "developed-terminology",
   "metadata": {
    "execution": {
     "iopub.execute_input": "2021-10-25T12:13:13.317412Z",
     "iopub.status.busy": "2021-10-25T12:13:13.316694Z",
     "iopub.status.idle": "2021-10-25T12:13:13.319375Z",
     "shell.execute_reply": "2021-10-25T12:13:13.318704Z"
    },
    "papermill": {
     "duration": 0.051853,
     "end_time": "2021-10-25T12:13:13.319517",
     "exception": false,
     "start_time": "2021-10-25T12:13:13.267664",
     "status": "completed"
    },
    "tags": []
   },
   "outputs": [],
   "source": [
    "#hide\n",
    "\n",
    "# FETCH\n",
    "base_url = 'https://raw.githubusercontent.com/pratapvardhan/notebooks/master/covid19/'\n",
    "paths = {\n",
    "    'mapping': base_url + 'mapping_countries.csv',\n",
    "    'overview': base_url + 'overview.tpl'\n",
    "}"
   ]
  },
  {
   "cell_type": "code",
   "execution_count": 3,
   "id": "dynamic-saver",
   "metadata": {
    "execution": {
     "iopub.execute_input": "2021-10-25T12:13:13.414161Z",
     "iopub.status.busy": "2021-10-25T12:13:13.413477Z",
     "iopub.status.idle": "2021-10-25T12:13:13.417434Z",
     "shell.execute_reply": "2021-10-25T12:13:13.416853Z"
    },
    "papermill": {
     "duration": 0.057874,
     "end_time": "2021-10-25T12:13:13.417584",
     "exception": false,
     "start_time": "2021-10-25T12:13:13.359710",
     "status": "completed"
    },
    "tags": []
   },
   "outputs": [
    {
     "data": {
      "text/plain": [
       "'https://raw.githubusercontent.com/pratapvardhan/notebooks/master/covid19/mapping_countries.csv'"
      ]
     },
     "execution_count": 3,
     "metadata": {},
     "output_type": "execute_result"
    }
   ],
   "source": [
    "#hide\n",
    "paths['mapping']"
   ]
  },
  {
   "cell_type": "code",
   "execution_count": 4,
   "id": "urban-software",
   "metadata": {
    "execution": {
     "iopub.execute_input": "2021-10-25T12:13:13.512269Z",
     "iopub.status.busy": "2021-10-25T12:13:13.511543Z",
     "iopub.status.idle": "2021-10-25T12:13:13.514281Z",
     "shell.execute_reply": "2021-10-25T12:13:13.513424Z"
    },
    "papermill": {
     "duration": 0.053824,
     "end_time": "2021-10-25T12:13:13.514565",
     "exception": false,
     "start_time": "2021-10-25T12:13:13.460741",
     "status": "completed"
    },
    "tags": []
   },
   "outputs": [],
   "source": [
    "#hide\n",
    "def get_mappings(url):\n",
    "    df = pd.read_csv(url)\n",
    "    return {\n",
    "        'df': df,\n",
    "        'replace.country': dict(df.dropna(subset=['Name']).set_index('Country')['Name']),\n",
    "        'map.continent': dict(df.set_index('Name')['Continent'])\n",
    "    }"
   ]
  },
  {
   "cell_type": "code",
   "execution_count": 5,
   "id": "intimate-machinery",
   "metadata": {
    "execution": {
     "iopub.execute_input": "2021-10-25T12:13:13.610365Z",
     "iopub.status.busy": "2021-10-25T12:13:13.609600Z",
     "iopub.status.idle": "2021-10-25T12:13:13.653666Z",
     "shell.execute_reply": "2021-10-25T12:13:13.653019Z"
    },
    "papermill": {
     "duration": 0.093788,
     "end_time": "2021-10-25T12:13:13.653816",
     "exception": false,
     "start_time": "2021-10-25T12:13:13.560028",
     "status": "completed"
    },
    "tags": []
   },
   "outputs": [],
   "source": [
    "#hide\n",
    "mapping = get_mappings(paths['mapping'])"
   ]
  },
  {
   "cell_type": "code",
   "execution_count": 6,
   "id": "certified-tactics",
   "metadata": {
    "execution": {
     "iopub.execute_input": "2021-10-25T12:13:13.750708Z",
     "iopub.status.busy": "2021-10-25T12:13:13.749888Z",
     "iopub.status.idle": "2021-10-25T12:13:13.753055Z",
     "shell.execute_reply": "2021-10-25T12:13:13.752480Z"
    },
    "papermill": {
     "duration": 0.056504,
     "end_time": "2021-10-25T12:13:13.753198",
     "exception": false,
     "start_time": "2021-10-25T12:13:13.696694",
     "status": "completed"
    },
    "tags": []
   },
   "outputs": [],
   "source": [
    "#hide\n",
    "def get_template(path):\n",
    "    from urllib.parse import urlparse\n",
    "    if bool(urlparse(path).netloc):\n",
    "        from urllib.request import urlopen\n",
    "        return urlopen(path).read().decode('utf8')\n",
    "    return open(path).read()"
   ]
  },
  {
   "cell_type": "code",
   "execution_count": 7,
   "id": "realistic-blast",
   "metadata": {
    "execution": {
     "iopub.execute_input": "2021-10-25T12:13:13.844385Z",
     "iopub.status.busy": "2021-10-25T12:13:13.843677Z",
     "iopub.status.idle": "2021-10-25T12:13:13.845856Z",
     "shell.execute_reply": "2021-10-25T12:13:13.846469Z"
    },
    "papermill": {
     "duration": 0.051045,
     "end_time": "2021-10-25T12:13:13.846628",
     "exception": false,
     "start_time": "2021-10-25T12:13:13.795583",
     "status": "completed"
    },
    "tags": []
   },
   "outputs": [],
   "source": [
    "#hide\n",
    "def get_frame(name):\n",
    "    url = (\n",
    "        'https://raw.githubusercontent.com/CSSEGISandData/COVID-19/master/csse_covid_19_data/'\n",
    "        f'csse_covid_19_time_series/time_series_covid19_{name}_global.csv')\n",
    "    df = pd.read_csv(url)\n",
    "    # rename countries\n",
    "    df['Country/Region'] = df['Country/Region'].replace(mapping['replace.country'])\n",
    "    return df"
   ]
  },
  {
   "cell_type": "code",
   "execution_count": 8,
   "id": "affiliated-characterization",
   "metadata": {
    "execution": {
     "iopub.execute_input": "2021-10-25T12:13:13.937372Z",
     "iopub.status.busy": "2021-10-25T12:13:13.936659Z",
     "iopub.status.idle": "2021-10-25T12:13:13.939172Z",
     "shell.execute_reply": "2021-10-25T12:13:13.938597Z"
    },
    "papermill": {
     "duration": 0.051427,
     "end_time": "2021-10-25T12:13:13.939305",
     "exception": false,
     "start_time": "2021-10-25T12:13:13.887878",
     "status": "completed"
    },
    "tags": []
   },
   "outputs": [],
   "source": [
    "#hide\n",
    "def get_dates(df):\n",
    "    dt_cols = df.columns[~df.columns.isin(['Province/State', 'Country/Region', 'Lat', 'Long'])]\n",
    "    LAST_DATE_I = -1\n",
    "    # sometimes last column may be empty, then go backwards\n",
    "    for i in range(-1, -len(dt_cols), -1):\n",
    "        if not df[dt_cols[i]].fillna(0).eq(0).all():\n",
    "            LAST_DATE_I = i\n",
    "            break\n",
    "    return LAST_DATE_I, dt_cols"
   ]
  },
  {
   "cell_type": "code",
   "execution_count": 9,
   "id": "recent-optimization",
   "metadata": {
    "execution": {
     "iopub.execute_input": "2021-10-25T12:13:14.028428Z",
     "iopub.status.busy": "2021-10-25T12:13:14.027583Z",
     "iopub.status.idle": "2021-10-25T12:13:14.504928Z",
     "shell.execute_reply": "2021-10-25T12:13:14.505455Z"
    },
    "papermill": {
     "duration": 0.525841,
     "end_time": "2021-10-25T12:13:14.505624",
     "exception": false,
     "start_time": "2021-10-25T12:13:13.979783",
     "status": "completed"
    },
    "tags": []
   },
   "outputs": [],
   "source": [
    "#hide\n",
    "COL_REGION = 'Country/Region'\n",
    "# Confirmed, Recovered, Deaths\n",
    "df = get_frame('confirmed')\n",
    "# dft_: timeseries, dfc_: today country agg\n",
    "dft_cases = df\n",
    "dft_deaths = get_frame('deaths')\n",
    "dft_recovered = get_frame('recovered')\n",
    "LAST_DATE_I, dt_cols = get_dates(df)"
   ]
  },
  {
   "cell_type": "code",
   "execution_count": 10,
   "id": "absolute-copper",
   "metadata": {
    "execution": {
     "iopub.execute_input": "2021-10-25T12:13:14.595009Z",
     "iopub.status.busy": "2021-10-25T12:13:14.594212Z",
     "iopub.status.idle": "2021-10-25T12:13:14.596205Z",
     "shell.execute_reply": "2021-10-25T12:13:14.596909Z"
    },
    "papermill": {
     "duration": 0.048769,
     "end_time": "2021-10-25T12:13:14.597090",
     "exception": false,
     "start_time": "2021-10-25T12:13:14.548321",
     "status": "completed"
    },
    "tags": []
   },
   "outputs": [],
   "source": [
    "#hide\n",
    "LAST_DATE_I, dt_cols = get_dates(df)\n",
    "dt_today =dt_cols[LAST_DATE_I]\n",
    "# dt_5day = dt_cols[LAST_DATE_I - 5]\n",
    "dt_yday = dt_cols[LAST_DATE_I - 1]"
   ]
  },
  {
   "cell_type": "code",
   "execution_count": 11,
   "id": "restricted-sheriff",
   "metadata": {
    "execution": {
     "iopub.execute_input": "2021-10-25T12:13:14.687511Z",
     "iopub.status.busy": "2021-10-25T12:13:14.686783Z",
     "iopub.status.idle": "2021-10-25T12:13:14.695217Z",
     "shell.execute_reply": "2021-10-25T12:13:14.694522Z"
    },
    "papermill": {
     "duration": 0.056834,
     "end_time": "2021-10-25T12:13:14.695364",
     "exception": false,
     "start_time": "2021-10-25T12:13:14.638530",
     "status": "completed"
    },
    "tags": []
   },
   "outputs": [],
   "source": [
    "#hide\n",
    "dfc_cases = dft_cases.groupby(COL_REGION)[dt_today].sum()\n",
    "dfc_deaths = dft_deaths.groupby(COL_REGION)[dt_today].sum()\n",
    "# dfp_cases = dft_cases.groupby(COL_REGION)[dt_5day].sum()\n",
    "# dfp_deaths = dft_deaths.groupby(COL_REGION)[dt_5day].sum()\n",
    "dfp_cases = dft_cases.groupby(COL_REGION)[dt_yday].sum()\n",
    "dfp_deaths = dft_deaths.groupby(COL_REGION)[dt_yday].sum()"
   ]
  },
  {
   "cell_type": "code",
   "execution_count": 12,
   "id": "deluxe-hepatitis",
   "metadata": {
    "execution": {
     "iopub.execute_input": "2021-10-25T12:13:14.786594Z",
     "iopub.status.busy": "2021-10-25T12:13:14.785832Z",
     "iopub.status.idle": "2021-10-25T12:13:14.791303Z",
     "shell.execute_reply": "2021-10-25T12:13:14.790719Z"
    },
    "papermill": {
     "duration": 0.054002,
     "end_time": "2021-10-25T12:13:14.791435",
     "exception": false,
     "start_time": "2021-10-25T12:13:14.737433",
     "status": "completed"
    },
    "tags": []
   },
   "outputs": [],
   "source": [
    "#hide\n",
    "df_table = (pd.DataFrame(dict(Cases = dfc_cases, Deaths = dfc_deaths, PCases = dfp_cases, PDeaths = dfp_deaths))\n",
    "            .sort_values(by = ['Cases','Deaths'], ascending = [False, False])\n",
    "            .reset_index())"
   ]
  },
  {
   "cell_type": "code",
   "execution_count": 13,
   "id": "educational-chancellor",
   "metadata": {
    "execution": {
     "iopub.execute_input": "2021-10-25T12:13:14.887172Z",
     "iopub.status.busy": "2021-10-25T12:13:14.883567Z",
     "iopub.status.idle": "2021-10-25T12:13:14.907361Z",
     "shell.execute_reply": "2021-10-25T12:13:14.906837Z"
    },
    "papermill": {
     "duration": 0.075524,
     "end_time": "2021-10-25T12:13:14.907500",
     "exception": false,
     "start_time": "2021-10-25T12:13:14.831976",
     "status": "completed"
    },
    "tags": []
   },
   "outputs": [
    {
     "data": {
      "text/html": [
       "<div>\n",
       "<style scoped>\n",
       "    .dataframe tbody tr th:only-of-type {\n",
       "        vertical-align: middle;\n",
       "    }\n",
       "\n",
       "    .dataframe tbody tr th {\n",
       "        vertical-align: top;\n",
       "    }\n",
       "\n",
       "    .dataframe thead th {\n",
       "        text-align: right;\n",
       "    }\n",
       "</style>\n",
       "<table border=\"1\" class=\"dataframe\">\n",
       "  <thead>\n",
       "    <tr style=\"text-align: right;\">\n",
       "      <th></th>\n",
       "      <th>Country/Region</th>\n",
       "      <th>Cases</th>\n",
       "      <th>Deaths</th>\n",
       "      <th>PCases</th>\n",
       "      <th>PDeaths</th>\n",
       "      <th>Cases (+)</th>\n",
       "      <th>Deaths (+)</th>\n",
       "      <th>Fatality Rate</th>\n",
       "      <th>Continent</th>\n",
       "    </tr>\n",
       "  </thead>\n",
       "  <tbody>\n",
       "    <tr>\n",
       "      <th>0</th>\n",
       "      <td>US</td>\n",
       "      <td>45444260</td>\n",
       "      <td>735941</td>\n",
       "      <td>45427464</td>\n",
       "      <td>735800</td>\n",
       "      <td>16796</td>\n",
       "      <td>141</td>\n",
       "      <td>1.62</td>\n",
       "      <td>North America</td>\n",
       "    </tr>\n",
       "    <tr>\n",
       "      <th>1</th>\n",
       "      <td>India</td>\n",
       "      <td>34189774</td>\n",
       "      <td>454712</td>\n",
       "      <td>34175468</td>\n",
       "      <td>454269</td>\n",
       "      <td>14306</td>\n",
       "      <td>443</td>\n",
       "      <td>1.33</td>\n",
       "      <td>Asia</td>\n",
       "    </tr>\n",
       "    <tr>\n",
       "      <th>2</th>\n",
       "      <td>Brazil</td>\n",
       "      <td>21729763</td>\n",
       "      <td>605644</td>\n",
       "      <td>21723559</td>\n",
       "      <td>605457</td>\n",
       "      <td>6204</td>\n",
       "      <td>187</td>\n",
       "      <td>2.79</td>\n",
       "      <td>South America</td>\n",
       "    </tr>\n",
       "    <tr>\n",
       "      <th>3</th>\n",
       "      <td>United Kingdom</td>\n",
       "      <td>8814735</td>\n",
       "      <td>139950</td>\n",
       "      <td>8775889</td>\n",
       "      <td>139878</td>\n",
       "      <td>38846</td>\n",
       "      <td>72</td>\n",
       "      <td>1.59</td>\n",
       "      <td>Europe</td>\n",
       "    </tr>\n",
       "    <tr>\n",
       "      <th>4</th>\n",
       "      <td>Russia</td>\n",
       "      <td>8112999</td>\n",
       "      <td>226464</td>\n",
       "      <td>8078309</td>\n",
       "      <td>225417</td>\n",
       "      <td>34690</td>\n",
       "      <td>1047</td>\n",
       "      <td>2.79</td>\n",
       "      <td>Europe</td>\n",
       "    </tr>\n",
       "  </tbody>\n",
       "</table>\n",
       "</div>"
      ],
      "text/plain": [
       "   Country/Region     Cases  Deaths    PCases  PDeaths  Cases (+)  Deaths (+)  \\\n",
       "0              US  45444260  735941  45427464   735800      16796         141   \n",
       "1           India  34189774  454712  34175468   454269      14306         443   \n",
       "2          Brazil  21729763  605644  21723559   605457       6204         187   \n",
       "3  United Kingdom   8814735  139950   8775889   139878      38846          72   \n",
       "4          Russia   8112999  226464   8078309   225417      34690        1047   \n",
       "\n",
       "   Fatality Rate      Continent  \n",
       "0           1.62  North America  \n",
       "1           1.33           Asia  \n",
       "2           2.79  South America  \n",
       "3           1.59         Europe  \n",
       "4           2.79         Europe  "
      ]
     },
     "execution_count": 13,
     "metadata": {},
     "output_type": "execute_result"
    }
   ],
   "source": [
    "#hide\n",
    "for c in 'Cases, Deaths'.split(', '):\n",
    "    df_table[f'{c} (+)'] = (df_table[c] - df_table[f'P{c}']).clip(0)\n",
    "    #Clip ça veut dire, les chiffres negatif sont interdit\n",
    "df_table['Fatality Rate'] = (100* df_table['Deaths']/ df_table['Cases']).round(2)\n",
    "df_table['Continent'] = df_table['Country/Region'].map(mapping['map.continent'])\n",
    "df_table.head(5)"
   ]
  },
  {
   "cell_type": "code",
   "execution_count": 14,
   "id": "aboriginal-bulgaria",
   "metadata": {
    "execution": {
     "iopub.execute_input": "2021-10-25T12:13:15.009913Z",
     "iopub.status.busy": "2021-10-25T12:13:15.009218Z",
     "iopub.status.idle": "2021-10-25T12:13:15.013065Z",
     "shell.execute_reply": "2021-10-25T12:13:15.012503Z"
    },
    "papermill": {
     "duration": 0.05098,
     "end_time": "2021-10-25T12:13:15.013198",
     "exception": false,
     "start_time": "2021-10-25T12:13:14.962218",
     "status": "completed"
    },
    "tags": []
   },
   "outputs": [],
   "source": [
    "#hide\n",
    "#delete problematic countries from table\n",
    "df_table = df_table[~df_table['Country/Region'].isin(['Cape Verde', 'Cruise Ship', 'Kosovo'])]"
   ]
  },
  {
   "cell_type": "code",
   "execution_count": 15,
   "id": "fantastic-effect",
   "metadata": {
    "execution": {
     "iopub.execute_input": "2021-10-25T12:13:15.104047Z",
     "iopub.status.busy": "2021-10-25T12:13:15.103361Z",
     "iopub.status.idle": "2021-10-25T12:13:15.130336Z",
     "shell.execute_reply": "2021-10-25T12:13:15.129731Z"
    },
    "papermill": {
     "duration": 0.076377,
     "end_time": "2021-10-25T12:13:15.130486",
     "exception": false,
     "start_time": "2021-10-25T12:13:15.054109",
     "status": "completed"
    },
    "tags": []
   },
   "outputs": [
    {
     "data": {
      "text/html": [
       "<div>\n",
       "<style scoped>\n",
       "    .dataframe tbody tr th:only-of-type {\n",
       "        vertical-align: middle;\n",
       "    }\n",
       "\n",
       "    .dataframe tbody tr th {\n",
       "        vertical-align: top;\n",
       "    }\n",
       "\n",
       "    .dataframe thead th {\n",
       "        text-align: right;\n",
       "    }\n",
       "</style>\n",
       "<table border=\"1\" class=\"dataframe\">\n",
       "  <thead>\n",
       "    <tr style=\"text-align: right;\">\n",
       "      <th></th>\n",
       "      <th>Country/Region</th>\n",
       "      <th>Cases</th>\n",
       "      <th>Deaths</th>\n",
       "      <th>PCases</th>\n",
       "      <th>PDeaths</th>\n",
       "      <th>Cases (+)</th>\n",
       "      <th>Deaths (+)</th>\n",
       "      <th>Fatality Rate</th>\n",
       "      <th>Continent</th>\n",
       "    </tr>\n",
       "  </thead>\n",
       "  <tbody>\n",
       "    <tr>\n",
       "      <th>0</th>\n",
       "      <td>US</td>\n",
       "      <td>45444260</td>\n",
       "      <td>735941</td>\n",
       "      <td>45427464</td>\n",
       "      <td>735800</td>\n",
       "      <td>16796</td>\n",
       "      <td>141</td>\n",
       "      <td>1.6</td>\n",
       "      <td>North America</td>\n",
       "    </tr>\n",
       "    <tr>\n",
       "      <th>1</th>\n",
       "      <td>India</td>\n",
       "      <td>34189774</td>\n",
       "      <td>454712</td>\n",
       "      <td>34175468</td>\n",
       "      <td>454269</td>\n",
       "      <td>14306</td>\n",
       "      <td>443</td>\n",
       "      <td>1.3</td>\n",
       "      <td>Asia</td>\n",
       "    </tr>\n",
       "    <tr>\n",
       "      <th>2</th>\n",
       "      <td>Brazil</td>\n",
       "      <td>21729763</td>\n",
       "      <td>605644</td>\n",
       "      <td>21723559</td>\n",
       "      <td>605457</td>\n",
       "      <td>6204</td>\n",
       "      <td>187</td>\n",
       "      <td>2.8</td>\n",
       "      <td>South America</td>\n",
       "    </tr>\n",
       "    <tr>\n",
       "      <th>3</th>\n",
       "      <td>United Kingdom</td>\n",
       "      <td>8814735</td>\n",
       "      <td>139950</td>\n",
       "      <td>8775889</td>\n",
       "      <td>139878</td>\n",
       "      <td>38846</td>\n",
       "      <td>72</td>\n",
       "      <td>1.6</td>\n",
       "      <td>Europe</td>\n",
       "    </tr>\n",
       "    <tr>\n",
       "      <th>4</th>\n",
       "      <td>Russia</td>\n",
       "      <td>8112999</td>\n",
       "      <td>226464</td>\n",
       "      <td>8078309</td>\n",
       "      <td>225417</td>\n",
       "      <td>34690</td>\n",
       "      <td>1047</td>\n",
       "      <td>2.8</td>\n",
       "      <td>Europe</td>\n",
       "    </tr>\n",
       "  </tbody>\n",
       "</table>\n",
       "</div>"
      ],
      "text/plain": [
       "   Country/Region     Cases  Deaths    PCases  PDeaths  Cases (+)  Deaths (+)  \\\n",
       "0              US  45444260  735941  45427464   735800      16796         141   \n",
       "1           India  34189774  454712  34175468   454269      14306         443   \n",
       "2          Brazil  21729763  605644  21723559   605457       6204         187   \n",
       "3  United Kingdom   8814735  139950   8775889   139878      38846          72   \n",
       "4          Russia   8112999  226464   8078309   225417      34690        1047   \n",
       "\n",
       "   Fatality Rate      Continent  \n",
       "0            1.6  North America  \n",
       "1            1.3           Asia  \n",
       "2            2.8  South America  \n",
       "3            1.6         Europe  \n",
       "4            2.8         Europe  "
      ]
     },
     "execution_count": 15,
     "metadata": {},
     "output_type": "execute_result"
    }
   ],
   "source": [
    "#hide\n",
    "df_table = (pd.DataFrame(dict(Cases=dfc_cases, Deaths=dfc_deaths, PCases=dfp_cases, PDeaths=dfp_deaths))\n",
    "             .sort_values(by=['Cases', 'Deaths'], ascending=[False, False])\n",
    "             .reset_index())\n",
    "df_table.rename(columns={'index': 'Country/Region'}, inplace=True)\n",
    "for c in 'Cases, Deaths'.split(', '):\n",
    "    df_table[f'{c} (+)'] = (df_table[c] - df_table[f'P{c}']).clip(0)  # DATA BUG\n",
    "df_table['Fatality Rate'] = (100 * df_table['Deaths'] / df_table['Cases']).round(1)\n",
    "df_table['Continent'] = df_table['Country/Region'].map(mapping['map.continent'])\n",
    "df_table.head(5)"
   ]
  },
  {
   "cell_type": "code",
   "execution_count": 16,
   "id": "fewer-occasion",
   "metadata": {
    "execution": {
     "iopub.execute_input": "2021-10-25T12:13:15.219842Z",
     "iopub.status.busy": "2021-10-25T12:13:15.219107Z",
     "iopub.status.idle": "2021-10-25T12:13:15.221803Z",
     "shell.execute_reply": "2021-10-25T12:13:15.222404Z"
    },
    "papermill": {
     "duration": 0.050486,
     "end_time": "2021-10-25T12:13:15.222559",
     "exception": false,
     "start_time": "2021-10-25T12:13:15.172073",
     "status": "completed"
    },
    "tags": []
   },
   "outputs": [],
   "source": [
    "#hide\n",
    "#delete problematic countries from table\n",
    "df_table = df_table[~df_table['Country/Region'].isin(['Cape Verde', 'Cruise Ship', 'Kosovo'])]"
   ]
  },
  {
   "cell_type": "code",
   "execution_count": 17,
   "id": "related-center",
   "metadata": {
    "execution": {
     "iopub.execute_input": "2021-10-25T12:13:15.315855Z",
     "iopub.status.busy": "2021-10-25T12:13:15.315202Z",
     "iopub.status.idle": "2021-10-25T12:13:15.333448Z",
     "shell.execute_reply": "2021-10-25T12:13:15.332813Z"
    },
    "papermill": {
     "duration": 0.069944,
     "end_time": "2021-10-25T12:13:15.333605",
     "exception": false,
     "start_time": "2021-10-25T12:13:15.263661",
     "status": "completed"
    },
    "tags": []
   },
   "outputs": [],
   "source": [
    "#hide\n",
    "metrics = [df_table.columns[index] for index in [1,2,5,6]]\n",
    "# s_china = df_table[df_table['Country/Region'].eq('China')][metrics].sum().add_prefix('China ')\n",
    "s_us = df_table[df_table['Country/Region'].eq('US')][metrics].sum().add_prefix('US ')\n",
    "s_eu = df_table[df_table['Continent'].eq('Europe')][metrics].sum().add_prefix('EU ')\n",
    "s_ind = df_table[df_table['Country/Region'].eq('India')][metrics].sum().add_prefix('India ')\n",
    "summary = {'updated': pd.to_datetime(dt_today), 'since': pd.to_datetime(dt_yday)}\n",
    "summary = {'updated': pd.to_datetime(dt_today), 'since': pd.to_datetime(dt_yday)}\n",
    "summary = {**summary, **df_table[metrics].sum(), **s_ind, **s_us, **s_eu}"
   ]
  },
  {
   "cell_type": "code",
   "execution_count": 18,
   "id": "engaging-syndrome",
   "metadata": {
    "execution": {
     "iopub.execute_input": "2021-10-25T12:13:15.425779Z",
     "iopub.status.busy": "2021-10-25T12:13:15.425085Z",
     "iopub.status.idle": "2021-10-25T12:13:15.442896Z",
     "shell.execute_reply": "2021-10-25T12:13:15.443425Z"
    },
    "papermill": {
     "duration": 0.067577,
     "end_time": "2021-10-25T12:13:15.443609",
     "exception": false,
     "start_time": "2021-10-25T12:13:15.376032",
     "status": "completed"
    },
    "tags": []
   },
   "outputs": [],
   "source": [
    "#hide\n",
    "dft_ct_new_cases = dft_cases.groupby(COL_REGION)[dt_cols].sum().diff(axis=1).fillna(0).astype(int)"
   ]
  },
  {
   "cell_type": "code",
   "execution_count": 19,
   "id": "neutral-assignment",
   "metadata": {
    "execution": {
     "iopub.execute_input": "2021-10-25T12:13:15.537143Z",
     "iopub.status.busy": "2021-10-25T12:13:15.536421Z",
     "iopub.status.idle": "2021-10-25T12:13:15.538056Z",
     "shell.execute_reply": "2021-10-25T12:13:15.538730Z"
    },
    "papermill": {
     "duration": 0.054111,
     "end_time": "2021-10-25T12:13:15.538896",
     "exception": false,
     "start_time": "2021-10-25T12:13:15.484785",
     "status": "completed"
    },
    "tags": []
   },
   "outputs": [],
   "source": [
    "#hide\n",
    "everydaycases = dft_ct_new_cases.cumsum(axis=1)"
   ]
  },
  {
   "cell_type": "code",
   "execution_count": 20,
   "id": "parliamentary-calgary",
   "metadata": {
    "execution": {
     "iopub.execute_input": "2021-10-25T12:13:15.627674Z",
     "iopub.status.busy": "2021-10-25T12:13:15.626915Z",
     "iopub.status.idle": "2021-10-25T12:13:16.452772Z",
     "shell.execute_reply": "2021-10-25T12:13:16.452147Z"
    },
    "papermill": {
     "duration": 0.873571,
     "end_time": "2021-10-25T12:13:16.452919",
     "exception": false,
     "start_time": "2021-10-25T12:13:15.579348",
     "status": "completed"
    },
    "tags": []
   },
   "outputs": [],
   "source": [
    "#hide\n",
    "import pandas as pd\n",
    "import matplotlib.pyplot as plt\n",
    "import matplotlib.ticker as ticker\n",
    "import matplotlib.animation as animation\n",
    "from IPython.display import HTML"
   ]
  },
  {
   "cell_type": "code",
   "execution_count": 21,
   "id": "lasting-extraction",
   "metadata": {
    "execution": {
     "iopub.execute_input": "2021-10-25T12:13:16.545212Z",
     "iopub.status.busy": "2021-10-25T12:13:16.544521Z",
     "iopub.status.idle": "2021-10-25T12:13:16.551533Z",
     "shell.execute_reply": "2021-10-25T12:13:16.552246Z"
    },
    "papermill": {
     "duration": 0.057418,
     "end_time": "2021-10-25T12:13:16.552406",
     "exception": false,
     "start_time": "2021-10-25T12:13:16.494988",
     "status": "completed"
    },
    "tags": []
   },
   "outputs": [],
   "source": [
    "#hide\n",
    "t = everydaycases.stack()"
   ]
  },
  {
   "cell_type": "code",
   "execution_count": 22,
   "id": "premier-sleeve",
   "metadata": {
    "execution": {
     "iopub.execute_input": "2021-10-25T12:13:16.647690Z",
     "iopub.status.busy": "2021-10-25T12:13:16.646958Z",
     "iopub.status.idle": "2021-10-25T12:13:16.655845Z",
     "shell.execute_reply": "2021-10-25T12:13:16.655208Z"
    },
    "papermill": {
     "duration": 0.06155,
     "end_time": "2021-10-25T12:13:16.655984",
     "exception": false,
     "start_time": "2021-10-25T12:13:16.594434",
     "status": "completed"
    },
    "tags": []
   },
   "outputs": [],
   "source": [
    "#hide\n",
    "g = t.reset_index(['Country/Region'])"
   ]
  },
  {
   "cell_type": "code",
   "execution_count": 23,
   "id": "distributed-pittsburgh",
   "metadata": {
    "execution": {
     "iopub.execute_input": "2021-10-25T12:13:16.747134Z",
     "iopub.status.busy": "2021-10-25T12:13:16.746420Z",
     "iopub.status.idle": "2021-10-25T12:13:16.748968Z",
     "shell.execute_reply": "2021-10-25T12:13:16.748249Z"
    },
    "papermill": {
     "duration": 0.050304,
     "end_time": "2021-10-25T12:13:16.749144",
     "exception": false,
     "start_time": "2021-10-25T12:13:16.698840",
     "status": "completed"
    },
    "tags": []
   },
   "outputs": [],
   "source": [
    "#hide\n",
    "g.index.name = 'date'"
   ]
  },
  {
   "cell_type": "code",
   "execution_count": 24,
   "id": "naked-donor",
   "metadata": {
    "execution": {
     "iopub.execute_input": "2021-10-25T12:13:16.835606Z",
     "iopub.status.busy": "2021-10-25T12:13:16.834933Z",
     "iopub.status.idle": "2021-10-25T12:13:16.837563Z",
     "shell.execute_reply": "2021-10-25T12:13:16.836971Z"
    },
    "papermill": {
     "duration": 0.048148,
     "end_time": "2021-10-25T12:13:16.837754",
     "exception": false,
     "start_time": "2021-10-25T12:13:16.789606",
     "status": "completed"
    },
    "tags": []
   },
   "outputs": [],
   "source": [
    "# #hide\n",
    "# g = g.reset_index(['date'])"
   ]
  },
  {
   "cell_type": "code",
   "execution_count": 25,
   "id": "incomplete-mustang",
   "metadata": {
    "execution": {
     "iopub.execute_input": "2021-10-25T12:13:16.934252Z",
     "iopub.status.busy": "2021-10-25T12:13:16.933444Z",
     "iopub.status.idle": "2021-10-25T12:13:16.937113Z",
     "shell.execute_reply": "2021-10-25T12:13:16.936004Z"
    },
    "papermill": {
     "duration": 0.055389,
     "end_time": "2021-10-25T12:13:16.937253",
     "exception": false,
     "start_time": "2021-10-25T12:13:16.881864",
     "status": "completed"
    },
    "tags": []
   },
   "outputs": [],
   "source": [
    "#hide\n",
    "# g.head()"
   ]
  },
  {
   "cell_type": "code",
   "execution_count": 26,
   "id": "specific-kruger",
   "metadata": {
    "execution": {
     "iopub.execute_input": "2021-10-25T12:13:17.026726Z",
     "iopub.status.busy": "2021-10-25T12:13:17.025952Z",
     "iopub.status.idle": "2021-10-25T12:13:17.027617Z",
     "shell.execute_reply": "2021-10-25T12:13:17.028394Z"
    },
    "papermill": {
     "duration": 0.049477,
     "end_time": "2021-10-25T12:13:17.028550",
     "exception": false,
     "start_time": "2021-10-25T12:13:16.979073",
     "status": "completed"
    },
    "tags": []
   },
   "outputs": [],
   "source": [
    "#hide\n",
    "# g.columns = ['date','country','cases']"
   ]
  },
  {
   "cell_type": "code",
   "execution_count": 27,
   "id": "tender-conversion",
   "metadata": {
    "execution": {
     "iopub.execute_input": "2021-10-25T12:13:17.134868Z",
     "iopub.status.busy": "2021-10-25T12:13:17.134144Z",
     "iopub.status.idle": "2021-10-25T12:13:17.137276Z",
     "shell.execute_reply": "2021-10-25T12:13:17.136752Z"
    },
    "papermill": {
     "duration": 0.049592,
     "end_time": "2021-10-25T12:13:17.137407",
     "exception": false,
     "start_time": "2021-10-25T12:13:17.087815",
     "status": "completed"
    },
    "tags": []
   },
   "outputs": [],
   "source": [
    "#hide\n",
    "# g['continent'] = g.country"
   ]
  },
  {
   "cell_type": "code",
   "execution_count": 28,
   "id": "substantial-wilderness",
   "metadata": {
    "execution": {
     "iopub.execute_input": "2021-10-25T12:13:17.228788Z",
     "iopub.status.busy": "2021-10-25T12:13:17.228098Z",
     "iopub.status.idle": "2021-10-25T12:13:17.230181Z",
     "shell.execute_reply": "2021-10-25T12:13:17.230792Z"
    },
    "papermill": {
     "duration": 0.048337,
     "end_time": "2021-10-25T12:13:17.230969",
     "exception": false,
     "start_time": "2021-10-25T12:13:17.182632",
     "status": "completed"
    },
    "tags": []
   },
   "outputs": [],
   "source": [
    "#hide\n",
    "# cols = list(g.columns.values)"
   ]
  },
  {
   "cell_type": "code",
   "execution_count": 29,
   "id": "solved-farming",
   "metadata": {
    "execution": {
     "iopub.execute_input": "2021-10-25T12:13:17.325101Z",
     "iopub.status.busy": "2021-10-25T12:13:17.324411Z",
     "iopub.status.idle": "2021-10-25T12:13:17.326717Z",
     "shell.execute_reply": "2021-10-25T12:13:17.327193Z"
    },
    "papermill": {
     "duration": 0.054108,
     "end_time": "2021-10-25T12:13:17.327376",
     "exception": false,
     "start_time": "2021-10-25T12:13:17.273268",
     "status": "completed"
    },
    "tags": []
   },
   "outputs": [],
   "source": [
    "#hide\n",
    "# cols.insert(0, cols.pop())"
   ]
  },
  {
   "cell_type": "code",
   "execution_count": 30,
   "id": "executed-adoption",
   "metadata": {
    "execution": {
     "iopub.execute_input": "2021-10-25T12:13:17.419552Z",
     "iopub.status.busy": "2021-10-25T12:13:17.418835Z",
     "iopub.status.idle": "2021-10-25T12:13:17.421596Z",
     "shell.execute_reply": "2021-10-25T12:13:17.421010Z"
    },
    "papermill": {
     "duration": 0.047968,
     "end_time": "2021-10-25T12:13:17.421722",
     "exception": false,
     "start_time": "2021-10-25T12:13:17.373754",
     "status": "completed"
    },
    "tags": []
   },
   "outputs": [],
   "source": [
    "#hide\n",
    "# g = g[cols]"
   ]
  },
  {
   "cell_type": "code",
   "execution_count": 31,
   "id": "subject-dublin",
   "metadata": {
    "execution": {
     "iopub.execute_input": "2021-10-25T12:13:17.518164Z",
     "iopub.status.busy": "2021-10-25T12:13:17.517455Z",
     "iopub.status.idle": "2021-10-25T12:13:17.525974Z",
     "shell.execute_reply": "2021-10-25T12:13:17.526514Z"
    },
    "papermill": {
     "duration": 0.062628,
     "end_time": "2021-10-25T12:13:17.526705",
     "exception": false,
     "start_time": "2021-10-25T12:13:17.464077",
     "status": "completed"
    },
    "tags": []
   },
   "outputs": [],
   "source": [
    "#hide\n",
    "# g['continent'] = g['continent'].map(mapping['map.continent'])"
   ]
  },
  {
   "cell_type": "code",
   "execution_count": 32,
   "id": "freelance-scout",
   "metadata": {
    "execution": {
     "iopub.execute_input": "2021-10-25T12:13:17.648565Z",
     "iopub.status.busy": "2021-10-25T12:13:17.647883Z",
     "iopub.status.idle": "2021-10-25T12:13:17.651410Z",
     "shell.execute_reply": "2021-10-25T12:13:17.651962Z"
    },
    "papermill": {
     "duration": 0.055345,
     "end_time": "2021-10-25T12:13:17.652124",
     "exception": false,
     "start_time": "2021-10-25T12:13:17.596779",
     "status": "completed"
    },
    "tags": []
   },
   "outputs": [],
   "source": [
    "#hide\n",
    "# g.head()"
   ]
  },
  {
   "cell_type": "code",
   "execution_count": 33,
   "id": "limited-engine",
   "metadata": {
    "execution": {
     "iopub.execute_input": "2021-10-25T12:13:17.783587Z",
     "iopub.status.busy": "2021-10-25T12:13:17.782771Z",
     "iopub.status.idle": "2021-10-25T12:13:17.785726Z",
     "shell.execute_reply": "2021-10-25T12:13:17.785034Z"
    },
    "papermill": {
     "duration": 0.081407,
     "end_time": "2021-10-25T12:13:17.785934",
     "exception": false,
     "start_time": "2021-10-25T12:13:17.704527",
     "status": "completed"
    },
    "tags": []
   },
   "outputs": [],
   "source": [
    "# hide\n",
    "# g['date'] = g['date'].astype('datetime64[ns]')"
   ]
  },
  {
   "cell_type": "code",
   "execution_count": 34,
   "id": "sophisticated-supervisor",
   "metadata": {
    "execution": {
     "iopub.execute_input": "2021-10-25T12:13:17.878866Z",
     "iopub.status.busy": "2021-10-25T12:13:17.878093Z",
     "iopub.status.idle": "2021-10-25T12:13:17.881545Z",
     "shell.execute_reply": "2021-10-25T12:13:17.880954Z"
    },
    "papermill": {
     "duration": 0.052323,
     "end_time": "2021-10-25T12:13:17.881678",
     "exception": false,
     "start_time": "2021-10-25T12:13:17.829355",
     "status": "completed"
    },
    "tags": []
   },
   "outputs": [],
   "source": [
    "#hide\n",
    "# g['date'] = g.date.dt.dayofyear"
   ]
  },
  {
   "cell_type": "code",
   "execution_count": 35,
   "id": "inside-dubai",
   "metadata": {
    "execution": {
     "iopub.execute_input": "2021-10-25T12:13:17.971504Z",
     "iopub.status.busy": "2021-10-25T12:13:17.970809Z",
     "iopub.status.idle": "2021-10-25T12:13:17.973754Z",
     "shell.execute_reply": "2021-10-25T12:13:17.973128Z"
    },
    "papermill": {
     "duration": 0.050514,
     "end_time": "2021-10-25T12:13:17.973887",
     "exception": false,
     "start_time": "2021-10-25T12:13:17.923373",
     "status": "completed"
    },
    "tags": []
   },
   "outputs": [],
   "source": [
    "#hide\n",
    "# g = g.rename(columns= {'continent':'group','country':'name','cases':'value'})"
   ]
  },
  {
   "cell_type": "code",
   "execution_count": 36,
   "id": "fleet-motorcycle",
   "metadata": {
    "execution": {
     "iopub.execute_input": "2021-10-25T12:13:18.065391Z",
     "iopub.status.busy": "2021-10-25T12:13:18.064610Z",
     "iopub.status.idle": "2021-10-25T12:13:18.067223Z",
     "shell.execute_reply": "2021-10-25T12:13:18.066524Z"
    },
    "papermill": {
     "duration": 0.050767,
     "end_time": "2021-10-25T12:13:18.067376",
     "exception": false,
     "start_time": "2021-10-25T12:13:18.016609",
     "status": "completed"
    },
    "tags": []
   },
   "outputs": [],
   "source": [
    "#hide\n",
    "# cols = ['name','group','day','value']"
   ]
  },
  {
   "cell_type": "code",
   "execution_count": 37,
   "id": "continued-sleeping",
   "metadata": {
    "execution": {
     "iopub.execute_input": "2021-10-25T12:13:18.157884Z",
     "iopub.status.busy": "2021-10-25T12:13:18.157137Z",
     "iopub.status.idle": "2021-10-25T12:13:18.160125Z",
     "shell.execute_reply": "2021-10-25T12:13:18.159276Z"
    },
    "papermill": {
     "duration": 0.049248,
     "end_time": "2021-10-25T12:13:18.160260",
     "exception": false,
     "start_time": "2021-10-25T12:13:18.111012",
     "status": "completed"
    },
    "tags": []
   },
   "outputs": [],
   "source": [
    "#hide\n",
    "# g.rename(columns= {'date':'day'},inplace = True)"
   ]
  },
  {
   "cell_type": "code",
   "execution_count": 38,
   "id": "major-fight",
   "metadata": {
    "execution": {
     "iopub.execute_input": "2021-10-25T12:13:18.247821Z",
     "iopub.status.busy": "2021-10-25T12:13:18.247114Z",
     "iopub.status.idle": "2021-10-25T12:13:18.249474Z",
     "shell.execute_reply": "2021-10-25T12:13:18.250628Z"
    },
    "papermill": {
     "duration": 0.048497,
     "end_time": "2021-10-25T12:13:18.250802",
     "exception": false,
     "start_time": "2021-10-25T12:13:18.202305",
     "status": "completed"
    },
    "tags": []
   },
   "outputs": [],
   "source": [
    "#hide\n",
    "# g = g[cols]"
   ]
  },
  {
   "cell_type": "code",
   "execution_count": 39,
   "id": "structured-mobile",
   "metadata": {
    "execution": {
     "iopub.execute_input": "2021-10-25T12:13:18.340785Z",
     "iopub.status.busy": "2021-10-25T12:13:18.340079Z",
     "iopub.status.idle": "2021-10-25T12:13:18.342370Z",
     "shell.execute_reply": "2021-10-25T12:13:18.342952Z"
    },
    "papermill": {
     "duration": 0.048653,
     "end_time": "2021-10-25T12:13:18.343099",
     "exception": false,
     "start_time": "2021-10-25T12:13:18.294446",
     "status": "completed"
    },
    "tags": []
   },
   "outputs": [],
   "source": [
    "# #hide\n",
    "# g = g[g.group.notna()]"
   ]
  },
  {
   "cell_type": "code",
   "execution_count": 40,
   "id": "determined-closing",
   "metadata": {
    "execution": {
     "iopub.execute_input": "2021-10-25T12:13:18.430782Z",
     "iopub.status.busy": "2021-10-25T12:13:18.430045Z",
     "iopub.status.idle": "2021-10-25T12:13:18.432813Z",
     "shell.execute_reply": "2021-10-25T12:13:18.431921Z"
    },
    "papermill": {
     "duration": 0.047515,
     "end_time": "2021-10-25T12:13:18.432967",
     "exception": false,
     "start_time": "2021-10-25T12:13:18.385452",
     "status": "completed"
    },
    "tags": []
   },
   "outputs": [],
   "source": [
    "# #hide\n",
    "# colors = dict(zip(\n",
    "#     [\"Oceania\", \"Europe\", \"Asia\", \"South America\", \"Middle East\", \"North America\", \"Africa\"],\n",
    "#     [\"#adb0ff\", \"#ffb3ff\", \"#90d595\", \"#e48381\", \"#aafbff\", \"#f7bb5f\", \"#eafb50\"]\n",
    "# ))\n",
    "# group_lk = g.set_index('name')['group'].to_dict()"
   ]
  },
  {
   "cell_type": "code",
   "execution_count": null,
   "id": "gross-drinking",
   "metadata": {
    "papermill": {
     "duration": 0.043715,
     "end_time": "2021-10-25T12:13:18.517514",
     "exception": false,
     "start_time": "2021-10-25T12:13:18.473799",
     "status": "completed"
    },
    "tags": []
   },
   "outputs": [],
   "source": []
  },
  {
   "cell_type": "code",
   "execution_count": 41,
   "id": "subject-macintosh",
   "metadata": {
    "execution": {
     "iopub.execute_input": "2021-10-25T12:13:18.614839Z",
     "iopub.status.busy": "2021-10-25T12:13:18.614121Z",
     "iopub.status.idle": "2021-10-25T12:13:18.616741Z",
     "shell.execute_reply": "2021-10-25T12:13:18.616146Z"
    },
    "papermill": {
     "duration": 0.056427,
     "end_time": "2021-10-25T12:13:18.616875",
     "exception": false,
     "start_time": "2021-10-25T12:13:18.560448",
     "status": "completed"
    },
    "tags": []
   },
   "outputs": [],
   "source": [
    "# #hide\n",
    "# fig, ax = plt.subplots(figsize=(15, 8))\n",
    "\n",
    "# def draw_barchart(current_day):\n",
    "#     dff = g[g['day'].eq(current_day)].sort_values(by='value', ascending=True).tail(10)\n",
    "#     ax.clear()\n",
    "#     ax.barh(dff['name'], dff['value'], color=[colors[group_lk[x]] for x in dff['name']])\n",
    "#     dx = dff['value'].max() / 200\n",
    "    \n",
    "#     for i, (value, name) in enumerate(zip(dff['value'], dff['name'])):\n",
    "#         ax.text(value-dx, i,     name,           size=14, weight=600, ha='right', va='bottom')\n",
    "#         ax.text(value-dx, i-.25, group_lk[name], size=10, color='#444444', ha='right', va='baseline')\n",
    "#         ax.text(value+dx, i,     f'{value:,.0f}',  size=14, ha='left',  va='center')\n",
    "#     ax.text(1, 0.4, current_day, transform=ax.transAxes, color='#777777', size=46, ha='right', weight=800)\n",
    "#     ax.text(0, 1.06, 'Population (thousands)', transform=ax.transAxes, size=12, color='#777777')\n",
    "#     ax.xaxis.set_major_formatter(ticker.StrMethodFormatter('{x:,.0f}'))\n",
    "#     ax.xaxis.set_ticks_position('top')\n",
    "#     ax.tick_params(axis='x', colors='#777777', labelsize=12)\n",
    "#     ax.set_yticks([])\n",
    "#     ax.margins(0, 0.01)\n",
    "#     ax.grid(which='major', axis='x', linestyle='-')\n",
    "#     ax.set_axisbelow(True)\n",
    "    \n",
    "#     ax.text(0, 1.15, 'Coronavirus',\n",
    "#             transform=ax.transAxes, size=24, weight=600, ha='left', va='top')\n",
    "# #     ax.text(1, 0, 'by @pratapvardhan; credit @jburnmurdoch', transform=ax.transAxes, color='#777777', ha='right',\n",
    "# #             bbox=dict(facecolor='white', alpha=0.8, edgecolor='white'))\n",
    "#     plt.box(False)"
   ]
  },
  {
   "cell_type": "code",
   "execution_count": 42,
   "id": "sexual-wages",
   "metadata": {
    "execution": {
     "iopub.execute_input": "2021-10-25T12:13:18.705136Z",
     "iopub.status.busy": "2021-10-25T12:13:18.704472Z",
     "iopub.status.idle": "2021-10-25T12:13:18.707020Z",
     "shell.execute_reply": "2021-10-25T12:13:18.706474Z"
    },
    "papermill": {
     "duration": 0.048464,
     "end_time": "2021-10-25T12:13:18.707148",
     "exception": false,
     "start_time": "2021-10-25T12:13:18.658684",
     "status": "completed"
    },
    "tags": []
   },
   "outputs": [],
   "source": [
    "# #hide_input\n",
    "# fig, ax = plt.subplots(figsize=(15, 8))\n",
    "# animator = animation.FuncAnimation(fig, draw_barchart, frames=range(g.day.values.min(), g.day.values.max()))\n",
    "# HTML(animator.to_jshtml())\n",
    "# # or use animator.to_html5_video() or animator.save() "
   ]
  },
  {
   "cell_type": "code",
   "execution_count": null,
   "id": "australian-container",
   "metadata": {
    "papermill": {
     "duration": 0.043463,
     "end_time": "2021-10-25T12:13:18.792304",
     "exception": false,
     "start_time": "2021-10-25T12:13:18.748841",
     "status": "completed"
    },
    "tags": []
   },
   "outputs": [],
   "source": []
  },
  {
   "cell_type": "code",
   "execution_count": null,
   "id": "mediterranean-pontiac",
   "metadata": {
    "papermill": {
     "duration": 0.042564,
     "end_time": "2021-10-25T12:13:18.879390",
     "exception": false,
     "start_time": "2021-10-25T12:13:18.836826",
     "status": "completed"
    },
    "tags": []
   },
   "outputs": [],
   "source": []
  },
  {
   "cell_type": "code",
   "execution_count": null,
   "id": "aging-legislature",
   "metadata": {
    "papermill": {
     "duration": 0.0415,
     "end_time": "2021-10-25T12:13:18.963374",
     "exception": false,
     "start_time": "2021-10-25T12:13:18.921874",
     "status": "completed"
    },
    "tags": []
   },
   "outputs": [],
   "source": []
  }
 ],
 "metadata": {
  "kernelspec": {
   "display_name": "Python 3",
   "language": "python",
   "name": "python3"
  },
  "language_info": {
   "codemirror_mode": {
    "name": "ipython",
    "version": 3
   },
   "file_extension": ".py",
   "mimetype": "text/x-python",
   "name": "python",
   "nbconvert_exporter": "python",
   "pygments_lexer": "ipython3",
   "version": "3.6.15"
  },
  "papermill": {
   "duration": 8.123289,
   "end_time": "2021-10-25T12:13:19.422632",
   "environment_variables": {},
   "exception": null,
   "input_path": "2020-03-21-covid19exp.ipynb",
   "output_path": "2020-03-21-covid19exp.ipynb",
   "parameters": {},
   "start_time": "2021-10-25T12:13:11.299343",
   "version": "2.0.0"
  }
 },
 "nbformat": 4,
 "nbformat_minor": 5
}