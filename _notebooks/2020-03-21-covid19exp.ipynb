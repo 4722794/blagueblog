{
 "cells": [
  {
   "cell_type": "markdown",
   "id": "muslim-click",
   "metadata": {
    "papermill": {
     "duration": 0.035858,
     "end_time": "2022-08-19T12:16:53.699659",
     "exception": false,
     "start_time": "2022-08-19T12:16:53.663801",
     "status": "completed"
    },
    "tags": []
   },
   "source": [
    "# COVID-19 Case Race\n",
    "> A race chart to see rising cases around the world\n",
    "\n",
    "- author: Hargun Oberoi\n",
    "- image: images/covid-overview.png\n",
    "- hide: false\n",
    "- badges: false"
   ]
  },
  {
   "cell_type": "code",
   "execution_count": 1,
   "id": "proof-material",
   "metadata": {
    "execution": {
     "iopub.execute_input": "2022-08-19T12:16:53.771694Z",
     "iopub.status.busy": "2022-08-19T12:16:53.771030Z",
     "iopub.status.idle": "2022-08-19T12:16:54.117682Z",
     "shell.execute_reply": "2022-08-19T12:16:54.118557Z"
    },
    "papermill": {
     "duration": 0.387894,
     "end_time": "2022-08-19T12:16:54.118739",
     "exception": false,
     "start_time": "2022-08-19T12:16:53.730845",
     "status": "completed"
    },
    "tags": []
   },
   "outputs": [],
   "source": [
    "#hide\n",
    "import numpy as np\n",
    "import pandas as pd\n",
    "from jinja2 import Template\n",
    "from IPython.display import HTML"
   ]
  },
  {
   "cell_type": "code",
   "execution_count": 2,
   "id": "developed-terminology",
   "metadata": {
    "execution": {
     "iopub.execute_input": "2022-08-19T12:16:54.184850Z",
     "iopub.status.busy": "2022-08-19T12:16:54.184102Z",
     "iopub.status.idle": "2022-08-19T12:16:54.186502Z",
     "shell.execute_reply": "2022-08-19T12:16:54.185843Z"
    },
    "papermill": {
     "duration": 0.037408,
     "end_time": "2022-08-19T12:16:54.186628",
     "exception": false,
     "start_time": "2022-08-19T12:16:54.149220",
     "status": "completed"
    },
    "tags": []
   },
   "outputs": [],
   "source": [
    "#hide\n",
    "\n",
    "# FETCH\n",
    "base_url = 'https://raw.githubusercontent.com/pratapvardhan/notebooks/master/covid19/'\n",
    "paths = {\n",
    "    'mapping': base_url + 'mapping_countries.csv',\n",
    "    'overview': base_url + 'overview.tpl'\n",
    "}"
   ]
  },
  {
   "cell_type": "code",
   "execution_count": 3,
   "id": "dynamic-saver",
   "metadata": {
    "execution": {
     "iopub.execute_input": "2022-08-19T12:16:54.260758Z",
     "iopub.status.busy": "2022-08-19T12:16:54.260097Z",
     "iopub.status.idle": "2022-08-19T12:16:54.263589Z",
     "shell.execute_reply": "2022-08-19T12:16:54.263081Z"
    },
    "papermill": {
     "duration": 0.046212,
     "end_time": "2022-08-19T12:16:54.263709",
     "exception": false,
     "start_time": "2022-08-19T12:16:54.217497",
     "status": "completed"
    },
    "tags": []
   },
   "outputs": [
    {
     "data": {
      "text/plain": [
       "'https://raw.githubusercontent.com/pratapvardhan/notebooks/master/covid19/mapping_countries.csv'"
      ]
     },
     "execution_count": 3,
     "metadata": {},
     "output_type": "execute_result"
    }
   ],
   "source": [
    "#hide\n",
    "paths['mapping']"
   ]
  },
  {
   "cell_type": "code",
   "execution_count": 4,
   "id": "urban-software",
   "metadata": {
    "execution": {
     "iopub.execute_input": "2022-08-19T12:16:54.334087Z",
     "iopub.status.busy": "2022-08-19T12:16:54.333499Z",
     "iopub.status.idle": "2022-08-19T12:16:54.336252Z",
     "shell.execute_reply": "2022-08-19T12:16:54.335758Z"
    },
    "papermill": {
     "duration": 0.041807,
     "end_time": "2022-08-19T12:16:54.336365",
     "exception": false,
     "start_time": "2022-08-19T12:16:54.294558",
     "status": "completed"
    },
    "tags": []
   },
   "outputs": [],
   "source": [
    "#hide\n",
    "def get_mappings(url):\n",
    "    df = pd.read_csv(url)\n",
    "    return {\n",
    "        'df': df,\n",
    "        'replace.country': dict(df.dropna(subset=['Name']).set_index('Country')['Name']),\n",
    "        'map.continent': dict(df.set_index('Name')['Continent'])\n",
    "    }"
   ]
  },
  {
   "cell_type": "code",
   "execution_count": 5,
   "id": "intimate-machinery",
   "metadata": {
    "execution": {
     "iopub.execute_input": "2022-08-19T12:16:54.402931Z",
     "iopub.status.busy": "2022-08-19T12:16:54.402320Z",
     "iopub.status.idle": "2022-08-19T12:16:54.492060Z",
     "shell.execute_reply": "2022-08-19T12:16:54.491433Z"
    },
    "papermill": {
     "duration": 0.125644,
     "end_time": "2022-08-19T12:16:54.492200",
     "exception": false,
     "start_time": "2022-08-19T12:16:54.366556",
     "status": "completed"
    },
    "tags": []
   },
   "outputs": [],
   "source": [
    "#hide\n",
    "mapping = get_mappings(paths['mapping'])"
   ]
  },
  {
   "cell_type": "code",
   "execution_count": 6,
   "id": "certified-tactics",
   "metadata": {
    "execution": {
     "iopub.execute_input": "2022-08-19T12:16:54.559070Z",
     "iopub.status.busy": "2022-08-19T12:16:54.558410Z",
     "iopub.status.idle": "2022-08-19T12:16:54.561110Z",
     "shell.execute_reply": "2022-08-19T12:16:54.560605Z"
    },
    "papermill": {
     "duration": 0.038274,
     "end_time": "2022-08-19T12:16:54.561225",
     "exception": false,
     "start_time": "2022-08-19T12:16:54.522951",
     "status": "completed"
    },
    "tags": []
   },
   "outputs": [],
   "source": [
    "#hide\n",
    "def get_template(path):\n",
    "    from urllib.parse import urlparse\n",
    "    if bool(urlparse(path).netloc):\n",
    "        from urllib.request import urlopen\n",
    "        return urlopen(path).read().decode('utf8')\n",
    "    return open(path).read()"
   ]
  },
  {
   "cell_type": "code",
   "execution_count": 7,
   "id": "realistic-blast",
   "metadata": {
    "execution": {
     "iopub.execute_input": "2022-08-19T12:16:54.628558Z",
     "iopub.status.busy": "2022-08-19T12:16:54.627950Z",
     "iopub.status.idle": "2022-08-19T12:16:54.630900Z",
     "shell.execute_reply": "2022-08-19T12:16:54.630418Z"
    },
    "papermill": {
     "duration": 0.039529,
     "end_time": "2022-08-19T12:16:54.631013",
     "exception": false,
     "start_time": "2022-08-19T12:16:54.591484",
     "status": "completed"
    },
    "tags": []
   },
   "outputs": [],
   "source": [
    "#hide\n",
    "def get_frame(name):\n",
    "    url = (\n",
    "        'https://raw.githubusercontent.com/CSSEGISandData/COVID-19/master/csse_covid_19_data/'\n",
    "        f'csse_covid_19_time_series/time_series_covid19_{name}_global.csv')\n",
    "    df = pd.read_csv(url)\n",
    "    # rename countries\n",
    "    df['Country/Region'] = df['Country/Region'].replace(mapping['replace.country'])\n",
    "    return df"
   ]
  },
  {
   "cell_type": "code",
   "execution_count": 8,
   "id": "affiliated-characterization",
   "metadata": {
    "execution": {
     "iopub.execute_input": "2022-08-19T12:16:54.698799Z",
     "iopub.status.busy": "2022-08-19T12:16:54.698081Z",
     "iopub.status.idle": "2022-08-19T12:16:54.700536Z",
     "shell.execute_reply": "2022-08-19T12:16:54.700051Z"
    },
    "papermill": {
     "duration": 0.038951,
     "end_time": "2022-08-19T12:16:54.700650",
     "exception": false,
     "start_time": "2022-08-19T12:16:54.661699",
     "status": "completed"
    },
    "tags": []
   },
   "outputs": [],
   "source": [
    "#hide\n",
    "def get_dates(df):\n",
    "    dt_cols = df.columns[~df.columns.isin(['Province/State', 'Country/Region', 'Lat', 'Long'])]\n",
    "    LAST_DATE_I = -1\n",
    "    # sometimes last column may be empty, then go backwards\n",
    "    for i in range(-1, -len(dt_cols), -1):\n",
    "        if not df[dt_cols[i]].fillna(0).eq(0).all():\n",
    "            LAST_DATE_I = i\n",
    "            break\n",
    "    return LAST_DATE_I, dt_cols"
   ]
  },
  {
   "cell_type": "code",
   "execution_count": 9,
   "id": "recent-optimization",
   "metadata": {
    "execution": {
     "iopub.execute_input": "2022-08-19T12:16:54.767262Z",
     "iopub.status.busy": "2022-08-19T12:16:54.766655Z",
     "iopub.status.idle": "2022-08-19T12:16:55.468024Z",
     "shell.execute_reply": "2022-08-19T12:16:55.467397Z"
    },
    "papermill": {
     "duration": 0.736542,
     "end_time": "2022-08-19T12:16:55.468163",
     "exception": false,
     "start_time": "2022-08-19T12:16:54.731621",
     "status": "completed"
    },
    "tags": []
   },
   "outputs": [],
   "source": [
    "#hide\n",
    "COL_REGION = 'Country/Region'\n",
    "# Confirmed, Recovered, Deaths\n",
    "df = get_frame('confirmed')\n",
    "# dft_: timeseries, dfc_: today country agg\n",
    "dft_cases = df\n",
    "dft_deaths = get_frame('deaths')\n",
    "dft_recovered = get_frame('recovered')\n",
    "LAST_DATE_I, dt_cols = get_dates(df)"
   ]
  },
  {
   "cell_type": "code",
   "execution_count": 10,
   "id": "absolute-copper",
   "metadata": {
    "execution": {
     "iopub.execute_input": "2022-08-19T12:16:55.535688Z",
     "iopub.status.busy": "2022-08-19T12:16:55.535072Z",
     "iopub.status.idle": "2022-08-19T12:16:55.537586Z",
     "shell.execute_reply": "2022-08-19T12:16:55.538014Z"
    },
    "papermill": {
     "duration": 0.038574,
     "end_time": "2022-08-19T12:16:55.538149",
     "exception": false,
     "start_time": "2022-08-19T12:16:55.499575",
     "status": "completed"
    },
    "tags": []
   },
   "outputs": [],
   "source": [
    "#hide\n",
    "LAST_DATE_I, dt_cols = get_dates(df)\n",
    "dt_today =dt_cols[LAST_DATE_I]\n",
    "# dt_5day = dt_cols[LAST_DATE_I - 5]\n",
    "dt_yday = dt_cols[LAST_DATE_I - 1]"
   ]
  },
  {
   "cell_type": "code",
   "execution_count": 11,
   "id": "restricted-sheriff",
   "metadata": {
    "execution": {
     "iopub.execute_input": "2022-08-19T12:16:55.604764Z",
     "iopub.status.busy": "2022-08-19T12:16:55.604120Z",
     "iopub.status.idle": "2022-08-19T12:16:55.612511Z",
     "shell.execute_reply": "2022-08-19T12:16:55.613010Z"
    },
    "papermill": {
     "duration": 0.044814,
     "end_time": "2022-08-19T12:16:55.613149",
     "exception": false,
     "start_time": "2022-08-19T12:16:55.568335",
     "status": "completed"
    },
    "tags": []
   },
   "outputs": [],
   "source": [
    "#hide\n",
    "dfc_cases = dft_cases.groupby(COL_REGION)[dt_today].sum()\n",
    "dfc_deaths = dft_deaths.groupby(COL_REGION)[dt_today].sum()\n",
    "# dfp_cases = dft_cases.groupby(COL_REGION)[dt_5day].sum()\n",
    "# dfp_deaths = dft_deaths.groupby(COL_REGION)[dt_5day].sum()\n",
    "dfp_cases = dft_cases.groupby(COL_REGION)[dt_yday].sum()\n",
    "dfp_deaths = dft_deaths.groupby(COL_REGION)[dt_yday].sum()"
   ]
  },
  {
   "cell_type": "code",
   "execution_count": 12,
   "id": "deluxe-hepatitis",
   "metadata": {
    "execution": {
     "iopub.execute_input": "2022-08-19T12:16:55.680347Z",
     "iopub.status.busy": "2022-08-19T12:16:55.679701Z",
     "iopub.status.idle": "2022-08-19T12:16:55.684717Z",
     "shell.execute_reply": "2022-08-19T12:16:55.685209Z"
    },
    "papermill": {
     "duration": 0.041786,
     "end_time": "2022-08-19T12:16:55.685352",
     "exception": false,
     "start_time": "2022-08-19T12:16:55.643566",
     "status": "completed"
    },
    "tags": []
   },
   "outputs": [],
   "source": [
    "#hide\n",
    "df_table = (pd.DataFrame(dict(Cases = dfc_cases, Deaths = dfc_deaths, PCases = dfp_cases, PDeaths = dfp_deaths))\n",
    "            .sort_values(by = ['Cases','Deaths'], ascending = [False, False])\n",
    "            .reset_index())"
   ]
  },
  {
   "cell_type": "code",
   "execution_count": 13,
   "id": "educational-chancellor",
   "metadata": {
    "execution": {
     "iopub.execute_input": "2022-08-19T12:16:55.768741Z",
     "iopub.status.busy": "2022-08-19T12:16:55.768094Z",
     "iopub.status.idle": "2022-08-19T12:16:55.776330Z",
     "shell.execute_reply": "2022-08-19T12:16:55.776812Z"
    },
    "papermill": {
     "duration": 0.061212,
     "end_time": "2022-08-19T12:16:55.776951",
     "exception": false,
     "start_time": "2022-08-19T12:16:55.715739",
     "status": "completed"
    },
    "tags": []
   },
   "outputs": [
    {
     "data": {
      "text/html": [
       "<div>\n",
       "<style scoped>\n",
       "    .dataframe tbody tr th:only-of-type {\n",
       "        vertical-align: middle;\n",
       "    }\n",
       "\n",
       "    .dataframe tbody tr th {\n",
       "        vertical-align: top;\n",
       "    }\n",
       "\n",
       "    .dataframe thead th {\n",
       "        text-align: right;\n",
       "    }\n",
       "</style>\n",
       "<table border=\"1\" class=\"dataframe\">\n",
       "  <thead>\n",
       "    <tr style=\"text-align: right;\">\n",
       "      <th></th>\n",
       "      <th>Country/Region</th>\n",
       "      <th>Cases</th>\n",
       "      <th>Deaths</th>\n",
       "      <th>PCases</th>\n",
       "      <th>PDeaths</th>\n",
       "      <th>Cases (+)</th>\n",
       "      <th>Deaths (+)</th>\n",
       "      <th>Fatality Rate</th>\n",
       "      <th>Continent</th>\n",
       "    </tr>\n",
       "  </thead>\n",
       "  <tbody>\n",
       "    <tr>\n",
       "      <th>0</th>\n",
       "      <td>US</td>\n",
       "      <td>93403142</td>\n",
       "      <td>1039746</td>\n",
       "      <td>93277721</td>\n",
       "      <td>1039116</td>\n",
       "      <td>125421</td>\n",
       "      <td>630</td>\n",
       "      <td>1.11</td>\n",
       "      <td>North America</td>\n",
       "    </tr>\n",
       "    <tr>\n",
       "      <th>1</th>\n",
       "      <td>India</td>\n",
       "      <td>44314618</td>\n",
       "      <td>527253</td>\n",
       "      <td>44298864</td>\n",
       "      <td>527206</td>\n",
       "      <td>15754</td>\n",
       "      <td>47</td>\n",
       "      <td>1.19</td>\n",
       "      <td>Asia</td>\n",
       "    </tr>\n",
       "    <tr>\n",
       "      <th>2</th>\n",
       "      <td>France</td>\n",
       "      <td>34514986</td>\n",
       "      <td>154467</td>\n",
       "      <td>34491381</td>\n",
       "      <td>154375</td>\n",
       "      <td>23605</td>\n",
       "      <td>92</td>\n",
       "      <td>0.45</td>\n",
       "      <td>Europe</td>\n",
       "    </tr>\n",
       "    <tr>\n",
       "      <th>3</th>\n",
       "      <td>Brazil</td>\n",
       "      <td>34245374</td>\n",
       "      <td>682216</td>\n",
       "      <td>34223207</td>\n",
       "      <td>682010</td>\n",
       "      <td>22167</td>\n",
       "      <td>206</td>\n",
       "      <td>1.99</td>\n",
       "      <td>South America</td>\n",
       "    </tr>\n",
       "    <tr>\n",
       "      <th>4</th>\n",
       "      <td>Germany</td>\n",
       "      <td>31771884</td>\n",
       "      <td>146383</td>\n",
       "      <td>31725160</td>\n",
       "      <td>146214</td>\n",
       "      <td>46724</td>\n",
       "      <td>169</td>\n",
       "      <td>0.46</td>\n",
       "      <td>Europe</td>\n",
       "    </tr>\n",
       "  </tbody>\n",
       "</table>\n",
       "</div>"
      ],
      "text/plain": [
       "  Country/Region     Cases   Deaths    PCases  PDeaths  Cases (+)  Deaths (+)  \\\n",
       "0             US  93403142  1039746  93277721  1039116     125421         630   \n",
       "1          India  44314618   527253  44298864   527206      15754          47   \n",
       "2         France  34514986   154467  34491381   154375      23605          92   \n",
       "3         Brazil  34245374   682216  34223207   682010      22167         206   \n",
       "4        Germany  31771884   146383  31725160   146214      46724         169   \n",
       "\n",
       "   Fatality Rate      Continent  \n",
       "0           1.11  North America  \n",
       "1           1.19           Asia  \n",
       "2           0.45         Europe  \n",
       "3           1.99  South America  \n",
       "4           0.46         Europe  "
      ]
     },
     "execution_count": 13,
     "metadata": {},
     "output_type": "execute_result"
    }
   ],
   "source": [
    "#hide\n",
    "for c in 'Cases, Deaths'.split(', '):\n",
    "    df_table[f'{c} (+)'] = (df_table[c] - df_table[f'P{c}']).clip(0)\n",
    "    #Clip ça veut dire, les chiffres negatif sont interdit\n",
    "df_table['Fatality Rate'] = (100* df_table['Deaths']/ df_table['Cases']).round(2)\n",
    "df_table['Continent'] = df_table['Country/Region'].map(mapping['map.continent'])\n",
    "df_table.head(5)"
   ]
  },
  {
   "cell_type": "code",
   "execution_count": 14,
   "id": "aboriginal-bulgaria",
   "metadata": {
    "execution": {
     "iopub.execute_input": "2022-08-19T12:16:55.845186Z",
     "iopub.status.busy": "2022-08-19T12:16:55.844583Z",
     "iopub.status.idle": "2022-08-19T12:16:55.847033Z",
     "shell.execute_reply": "2022-08-19T12:16:55.846560Z"
    },
    "papermill": {
     "duration": 0.038845,
     "end_time": "2022-08-19T12:16:55.847144",
     "exception": false,
     "start_time": "2022-08-19T12:16:55.808299",
     "status": "completed"
    },
    "tags": []
   },
   "outputs": [],
   "source": [
    "#hide\n",
    "#delete problematic countries from table\n",
    "df_table = df_table[~df_table['Country/Region'].isin(['Cape Verde', 'Cruise Ship', 'Kosovo'])]"
   ]
  },
  {
   "cell_type": "code",
   "execution_count": 15,
   "id": "fantastic-effect",
   "metadata": {
    "execution": {
     "iopub.execute_input": "2022-08-19T12:16:55.916931Z",
     "iopub.status.busy": "2022-08-19T12:16:55.916318Z",
     "iopub.status.idle": "2022-08-19T12:16:55.934443Z",
     "shell.execute_reply": "2022-08-19T12:16:55.934899Z"
    },
    "papermill": {
     "duration": 0.057315,
     "end_time": "2022-08-19T12:16:55.935033",
     "exception": false,
     "start_time": "2022-08-19T12:16:55.877718",
     "status": "completed"
    },
    "tags": []
   },
   "outputs": [
    {
     "data": {
      "text/html": [
       "<div>\n",
       "<style scoped>\n",
       "    .dataframe tbody tr th:only-of-type {\n",
       "        vertical-align: middle;\n",
       "    }\n",
       "\n",
       "    .dataframe tbody tr th {\n",
       "        vertical-align: top;\n",
       "    }\n",
       "\n",
       "    .dataframe thead th {\n",
       "        text-align: right;\n",
       "    }\n",
       "</style>\n",
       "<table border=\"1\" class=\"dataframe\">\n",
       "  <thead>\n",
       "    <tr style=\"text-align: right;\">\n",
       "      <th></th>\n",
       "      <th>Country/Region</th>\n",
       "      <th>Cases</th>\n",
       "      <th>Deaths</th>\n",
       "      <th>PCases</th>\n",
       "      <th>PDeaths</th>\n",
       "      <th>Cases (+)</th>\n",
       "      <th>Deaths (+)</th>\n",
       "      <th>Fatality Rate</th>\n",
       "      <th>Continent</th>\n",
       "    </tr>\n",
       "  </thead>\n",
       "  <tbody>\n",
       "    <tr>\n",
       "      <th>0</th>\n",
       "      <td>US</td>\n",
       "      <td>93403142</td>\n",
       "      <td>1039746</td>\n",
       "      <td>93277721</td>\n",
       "      <td>1039116</td>\n",
       "      <td>125421</td>\n",
       "      <td>630</td>\n",
       "      <td>1.1</td>\n",
       "      <td>North America</td>\n",
       "    </tr>\n",
       "    <tr>\n",
       "      <th>1</th>\n",
       "      <td>India</td>\n",
       "      <td>44314618</td>\n",
       "      <td>527253</td>\n",
       "      <td>44298864</td>\n",
       "      <td>527206</td>\n",
       "      <td>15754</td>\n",
       "      <td>47</td>\n",
       "      <td>1.2</td>\n",
       "      <td>Asia</td>\n",
       "    </tr>\n",
       "    <tr>\n",
       "      <th>2</th>\n",
       "      <td>France</td>\n",
       "      <td>34514986</td>\n",
       "      <td>154467</td>\n",
       "      <td>34491381</td>\n",
       "      <td>154375</td>\n",
       "      <td>23605</td>\n",
       "      <td>92</td>\n",
       "      <td>0.4</td>\n",
       "      <td>Europe</td>\n",
       "    </tr>\n",
       "    <tr>\n",
       "      <th>3</th>\n",
       "      <td>Brazil</td>\n",
       "      <td>34245374</td>\n",
       "      <td>682216</td>\n",
       "      <td>34223207</td>\n",
       "      <td>682010</td>\n",
       "      <td>22167</td>\n",
       "      <td>206</td>\n",
       "      <td>2.0</td>\n",
       "      <td>South America</td>\n",
       "    </tr>\n",
       "    <tr>\n",
       "      <th>4</th>\n",
       "      <td>Germany</td>\n",
       "      <td>31771884</td>\n",
       "      <td>146383</td>\n",
       "      <td>31725160</td>\n",
       "      <td>146214</td>\n",
       "      <td>46724</td>\n",
       "      <td>169</td>\n",
       "      <td>0.5</td>\n",
       "      <td>Europe</td>\n",
       "    </tr>\n",
       "  </tbody>\n",
       "</table>\n",
       "</div>"
      ],
      "text/plain": [
       "  Country/Region     Cases   Deaths    PCases  PDeaths  Cases (+)  Deaths (+)  \\\n",
       "0             US  93403142  1039746  93277721  1039116     125421         630   \n",
       "1          India  44314618   527253  44298864   527206      15754          47   \n",
       "2         France  34514986   154467  34491381   154375      23605          92   \n",
       "3         Brazil  34245374   682216  34223207   682010      22167         206   \n",
       "4        Germany  31771884   146383  31725160   146214      46724         169   \n",
       "\n",
       "   Fatality Rate      Continent  \n",
       "0            1.1  North America  \n",
       "1            1.2           Asia  \n",
       "2            0.4         Europe  \n",
       "3            2.0  South America  \n",
       "4            0.5         Europe  "
      ]
     },
     "execution_count": 15,
     "metadata": {},
     "output_type": "execute_result"
    }
   ],
   "source": [
    "#hide\n",
    "df_table = (pd.DataFrame(dict(Cases=dfc_cases, Deaths=dfc_deaths, PCases=dfp_cases, PDeaths=dfp_deaths))\n",
    "             .sort_values(by=['Cases', 'Deaths'], ascending=[False, False])\n",
    "             .reset_index())\n",
    "df_table.rename(columns={'index': 'Country/Region'}, inplace=True)\n",
    "for c in 'Cases, Deaths'.split(', '):\n",
    "    df_table[f'{c} (+)'] = (df_table[c] - df_table[f'P{c}']).clip(0)  # DATA BUG\n",
    "df_table['Fatality Rate'] = (100 * df_table['Deaths'] / df_table['Cases']).round(1)\n",
    "df_table['Continent'] = df_table['Country/Region'].map(mapping['map.continent'])\n",
    "df_table.head(5)"
   ]
  },
  {
   "cell_type": "code",
   "execution_count": 16,
   "id": "fewer-occasion",
   "metadata": {
    "execution": {
     "iopub.execute_input": "2022-08-19T12:16:56.003811Z",
     "iopub.status.busy": "2022-08-19T12:16:56.003174Z",
     "iopub.status.idle": "2022-08-19T12:16:56.005733Z",
     "shell.execute_reply": "2022-08-19T12:16:56.006211Z"
    },
    "papermill": {
     "duration": 0.040046,
     "end_time": "2022-08-19T12:16:56.006342",
     "exception": false,
     "start_time": "2022-08-19T12:16:55.966296",
     "status": "completed"
    },
    "tags": []
   },
   "outputs": [],
   "source": [
    "#hide\n",
    "#delete problematic countries from table\n",
    "df_table = df_table[~df_table['Country/Region'].isin(['Cape Verde', 'Cruise Ship', 'Kosovo'])]"
   ]
  },
  {
   "cell_type": "code",
   "execution_count": 17,
   "id": "related-center",
   "metadata": {
    "execution": {
     "iopub.execute_input": "2022-08-19T12:16:56.087801Z",
     "iopub.status.busy": "2022-08-19T12:16:56.087121Z",
     "iopub.status.idle": "2022-08-19T12:16:56.089710Z",
     "shell.execute_reply": "2022-08-19T12:16:56.089221Z"
    },
    "papermill": {
     "duration": 0.052227,
     "end_time": "2022-08-19T12:16:56.089825",
     "exception": false,
     "start_time": "2022-08-19T12:16:56.037598",
     "status": "completed"
    },
    "tags": []
   },
   "outputs": [],
   "source": [
    "#hide\n",
    "metrics = [df_table.columns[index] for index in [1,2,5,6]]\n",
    "# s_china = df_table[df_table['Country/Region'].eq('China')][metrics].sum().add_prefix('China ')\n",
    "s_us = df_table[df_table['Country/Region'].eq('US')][metrics].sum().add_prefix('US ')\n",
    "s_eu = df_table[df_table['Continent'].eq('Europe')][metrics].sum().add_prefix('EU ')\n",
    "s_ind = df_table[df_table['Country/Region'].eq('India')][metrics].sum().add_prefix('India ')\n",
    "summary = {'updated': pd.to_datetime(dt_today), 'since': pd.to_datetime(dt_yday)}\n",
    "summary = {'updated': pd.to_datetime(dt_today), 'since': pd.to_datetime(dt_yday)}\n",
    "summary = {**summary, **df_table[metrics].sum(), **s_ind, **s_us, **s_eu}"
   ]
  },
  {
   "cell_type": "code",
   "execution_count": 18,
   "id": "engaging-syndrome",
   "metadata": {
    "execution": {
     "iopub.execute_input": "2022-08-19T12:16:56.159792Z",
     "iopub.status.busy": "2022-08-19T12:16:56.159156Z",
     "iopub.status.idle": "2022-08-19T12:16:56.180065Z",
     "shell.execute_reply": "2022-08-19T12:16:56.179555Z"
    },
    "papermill": {
     "duration": 0.059023,
     "end_time": "2022-08-19T12:16:56.180190",
     "exception": false,
     "start_time": "2022-08-19T12:16:56.121167",
     "status": "completed"
    },
    "tags": []
   },
   "outputs": [],
   "source": [
    "#hide\n",
    "dft_ct_new_cases = dft_cases.groupby(COL_REGION)[dt_cols].sum().diff(axis=1).fillna(0).astype(int)"
   ]
  },
  {
   "cell_type": "code",
   "execution_count": 19,
   "id": "neutral-assignment",
   "metadata": {
    "execution": {
     "iopub.execute_input": "2022-08-19T12:16:56.249860Z",
     "iopub.status.busy": "2022-08-19T12:16:56.249258Z",
     "iopub.status.idle": "2022-08-19T12:16:56.252067Z",
     "shell.execute_reply": "2022-08-19T12:16:56.251585Z"
    },
    "papermill": {
     "duration": 0.04031,
     "end_time": "2022-08-19T12:16:56.252178",
     "exception": false,
     "start_time": "2022-08-19T12:16:56.211868",
     "status": "completed"
    },
    "tags": []
   },
   "outputs": [],
   "source": [
    "#hide\n",
    "everydaycases = dft_ct_new_cases.cumsum(axis=1)"
   ]
  },
  {
   "cell_type": "code",
   "execution_count": 20,
   "id": "parliamentary-calgary",
   "metadata": {
    "execution": {
     "iopub.execute_input": "2022-08-19T12:16:56.322338Z",
     "iopub.status.busy": "2022-08-19T12:16:56.321707Z",
     "iopub.status.idle": "2022-08-19T12:16:56.866150Z",
     "shell.execute_reply": "2022-08-19T12:16:56.866652Z"
    },
    "papermill": {
     "duration": 0.58262,
     "end_time": "2022-08-19T12:16:56.866800",
     "exception": false,
     "start_time": "2022-08-19T12:16:56.284180",
     "status": "completed"
    },
    "tags": []
   },
   "outputs": [],
   "source": [
    "#hide\n",
    "import pandas as pd\n",
    "import matplotlib.pyplot as plt\n",
    "import matplotlib.ticker as ticker\n",
    "import matplotlib.animation as animation\n",
    "from IPython.display import HTML"
   ]
  },
  {
   "cell_type": "code",
   "execution_count": 21,
   "id": "lasting-extraction",
   "metadata": {
    "execution": {
     "iopub.execute_input": "2022-08-19T12:16:56.936062Z",
     "iopub.status.busy": "2022-08-19T12:16:56.935394Z",
     "iopub.status.idle": "2022-08-19T12:16:56.943022Z",
     "shell.execute_reply": "2022-08-19T12:16:56.942529Z"
    },
    "papermill": {
     "duration": 0.045291,
     "end_time": "2022-08-19T12:16:56.943139",
     "exception": false,
     "start_time": "2022-08-19T12:16:56.897848",
     "status": "completed"
    },
    "tags": []
   },
   "outputs": [],
   "source": [
    "#hide\n",
    "t = everydaycases.stack()"
   ]
  },
  {
   "cell_type": "code",
   "execution_count": 22,
   "id": "premier-sleeve",
   "metadata": {
    "execution": {
     "iopub.execute_input": "2022-08-19T12:16:57.010506Z",
     "iopub.status.busy": "2022-08-19T12:16:57.009902Z",
     "iopub.status.idle": "2022-08-19T12:16:57.022393Z",
     "shell.execute_reply": "2022-08-19T12:16:57.021898Z"
    },
    "papermill": {
     "duration": 0.048045,
     "end_time": "2022-08-19T12:16:57.022509",
     "exception": false,
     "start_time": "2022-08-19T12:16:56.974464",
     "status": "completed"
    },
    "tags": []
   },
   "outputs": [],
   "source": [
    "#hide\n",
    "g = t.reset_index(['Country/Region'])"
   ]
  },
  {
   "cell_type": "code",
   "execution_count": 23,
   "id": "distributed-pittsburgh",
   "metadata": {
    "execution": {
     "iopub.execute_input": "2022-08-19T12:16:57.089706Z",
     "iopub.status.busy": "2022-08-19T12:16:57.088943Z",
     "iopub.status.idle": "2022-08-19T12:16:57.091632Z",
     "shell.execute_reply": "2022-08-19T12:16:57.091085Z"
    },
    "papermill": {
     "duration": 0.038133,
     "end_time": "2022-08-19T12:16:57.091763",
     "exception": false,
     "start_time": "2022-08-19T12:16:57.053630",
     "status": "completed"
    },
    "tags": []
   },
   "outputs": [],
   "source": [
    "#hide\n",
    "g.index.name = 'date'"
   ]
  },
  {
   "cell_type": "code",
   "execution_count": 24,
   "id": "naked-donor",
   "metadata": {
    "execution": {
     "iopub.execute_input": "2022-08-19T12:16:57.158778Z",
     "iopub.status.busy": "2022-08-19T12:16:57.158173Z",
     "iopub.status.idle": "2022-08-19T12:16:57.160535Z",
     "shell.execute_reply": "2022-08-19T12:16:57.161097Z"
    },
    "papermill": {
     "duration": 0.037941,
     "end_time": "2022-08-19T12:16:57.161232",
     "exception": false,
     "start_time": "2022-08-19T12:16:57.123291",
     "status": "completed"
    },
    "tags": []
   },
   "outputs": [],
   "source": [
    "# #hide\n",
    "# g = g.reset_index(['date'])"
   ]
  },
  {
   "cell_type": "code",
   "execution_count": 25,
   "id": "incomplete-mustang",
   "metadata": {
    "execution": {
     "iopub.execute_input": "2022-08-19T12:16:57.228038Z",
     "iopub.status.busy": "2022-08-19T12:16:57.227385Z",
     "iopub.status.idle": "2022-08-19T12:16:57.230706Z",
     "shell.execute_reply": "2022-08-19T12:16:57.230233Z"
    },
    "papermill": {
     "duration": 0.03817,
     "end_time": "2022-08-19T12:16:57.230818",
     "exception": false,
     "start_time": "2022-08-19T12:16:57.192648",
     "status": "completed"
    },
    "tags": []
   },
   "outputs": [],
   "source": [
    "#hide\n",
    "# g.head()"
   ]
  },
  {
   "cell_type": "code",
   "execution_count": 26,
   "id": "specific-kruger",
   "metadata": {
    "execution": {
     "iopub.execute_input": "2022-08-19T12:16:57.299230Z",
     "iopub.status.busy": "2022-08-19T12:16:57.298624Z",
     "iopub.status.idle": "2022-08-19T12:16:57.300747Z",
     "shell.execute_reply": "2022-08-19T12:16:57.301195Z"
    },
    "papermill": {
     "duration": 0.039166,
     "end_time": "2022-08-19T12:16:57.301327",
     "exception": false,
     "start_time": "2022-08-19T12:16:57.262161",
     "status": "completed"
    },
    "tags": []
   },
   "outputs": [],
   "source": [
    "#hide\n",
    "# g.columns = ['date','country','cases']"
   ]
  },
  {
   "cell_type": "code",
   "execution_count": 27,
   "id": "tender-conversion",
   "metadata": {
    "execution": {
     "iopub.execute_input": "2022-08-19T12:16:57.368284Z",
     "iopub.status.busy": "2022-08-19T12:16:57.367597Z",
     "iopub.status.idle": "2022-08-19T12:16:57.370769Z",
     "shell.execute_reply": "2022-08-19T12:16:57.370302Z"
    },
    "papermill": {
     "duration": 0.038153,
     "end_time": "2022-08-19T12:16:57.370887",
     "exception": false,
     "start_time": "2022-08-19T12:16:57.332734",
     "status": "completed"
    },
    "tags": []
   },
   "outputs": [],
   "source": [
    "#hide\n",
    "# g['continent'] = g.country"
   ]
  },
  {
   "cell_type": "code",
   "execution_count": 28,
   "id": "substantial-wilderness",
   "metadata": {
    "execution": {
     "iopub.execute_input": "2022-08-19T12:16:57.438038Z",
     "iopub.status.busy": "2022-08-19T12:16:57.437333Z",
     "iopub.status.idle": "2022-08-19T12:16:57.441187Z",
     "shell.execute_reply": "2022-08-19T12:16:57.441621Z"
    },
    "papermill": {
     "duration": 0.039536,
     "end_time": "2022-08-19T12:16:57.441763",
     "exception": false,
     "start_time": "2022-08-19T12:16:57.402227",
     "status": "completed"
    },
    "tags": []
   },
   "outputs": [],
   "source": [
    "#hide\n",
    "# cols = list(g.columns.values)"
   ]
  },
  {
   "cell_type": "code",
   "execution_count": 29,
   "id": "solved-farming",
   "metadata": {
    "execution": {
     "iopub.execute_input": "2022-08-19T12:16:57.508583Z",
     "iopub.status.busy": "2022-08-19T12:16:57.507877Z",
     "iopub.status.idle": "2022-08-19T12:16:57.510429Z",
     "shell.execute_reply": "2022-08-19T12:16:57.509887Z"
    },
    "papermill": {
     "duration": 0.037697,
     "end_time": "2022-08-19T12:16:57.510554",
     "exception": false,
     "start_time": "2022-08-19T12:16:57.472857",
     "status": "completed"
    },
    "tags": []
   },
   "outputs": [],
   "source": [
    "#hide\n",
    "# cols.insert(0, cols.pop())"
   ]
  },
  {
   "cell_type": "code",
   "execution_count": 30,
   "id": "executed-adoption",
   "metadata": {
    "execution": {
     "iopub.execute_input": "2022-08-19T12:16:57.577816Z",
     "iopub.status.busy": "2022-08-19T12:16:57.577093Z",
     "iopub.status.idle": "2022-08-19T12:16:57.579811Z",
     "shell.execute_reply": "2022-08-19T12:16:57.579107Z"
    },
    "papermill": {
     "duration": 0.038053,
     "end_time": "2022-08-19T12:16:57.579943",
     "exception": false,
     "start_time": "2022-08-19T12:16:57.541890",
     "status": "completed"
    },
    "tags": []
   },
   "outputs": [],
   "source": [
    "#hide\n",
    "# g = g[cols]"
   ]
  },
  {
   "cell_type": "code",
   "execution_count": 31,
   "id": "subject-dublin",
   "metadata": {
    "execution": {
     "iopub.execute_input": "2022-08-19T12:16:57.648729Z",
     "iopub.status.busy": "2022-08-19T12:16:57.647989Z",
     "iopub.status.idle": "2022-08-19T12:16:57.649850Z",
     "shell.execute_reply": "2022-08-19T12:16:57.650413Z"
    },
    "papermill": {
     "duration": 0.037561,
     "end_time": "2022-08-19T12:16:57.650571",
     "exception": false,
     "start_time": "2022-08-19T12:16:57.613010",
     "status": "completed"
    },
    "tags": []
   },
   "outputs": [],
   "source": [
    "#hide\n",
    "# g['continent'] = g['continent'].map(mapping['map.continent'])"
   ]
  },
  {
   "cell_type": "code",
   "execution_count": 32,
   "id": "freelance-scout",
   "metadata": {
    "execution": {
     "iopub.execute_input": "2022-08-19T12:16:57.720013Z",
     "iopub.status.busy": "2022-08-19T12:16:57.719331Z",
     "iopub.status.idle": "2022-08-19T12:16:57.722465Z",
     "shell.execute_reply": "2022-08-19T12:16:57.722914Z"
    },
    "papermill": {
     "duration": 0.038817,
     "end_time": "2022-08-19T12:16:57.723056",
     "exception": false,
     "start_time": "2022-08-19T12:16:57.684239",
     "status": "completed"
    },
    "tags": []
   },
   "outputs": [],
   "source": [
    "#hide\n",
    "# g.head()"
   ]
  },
  {
   "cell_type": "code",
   "execution_count": 33,
   "id": "limited-engine",
   "metadata": {
    "execution": {
     "iopub.execute_input": "2022-08-19T12:16:57.790842Z",
     "iopub.status.busy": "2022-08-19T12:16:57.790116Z",
     "iopub.status.idle": "2022-08-19T12:16:57.793219Z",
     "shell.execute_reply": "2022-08-19T12:16:57.792259Z"
    },
    "papermill": {
     "duration": 0.038446,
     "end_time": "2022-08-19T12:16:57.793362",
     "exception": false,
     "start_time": "2022-08-19T12:16:57.754916",
     "status": "completed"
    },
    "tags": []
   },
   "outputs": [],
   "source": [
    "# hide\n",
    "# g['date'] = g['date'].astype('datetime64[ns]')"
   ]
  },
  {
   "cell_type": "code",
   "execution_count": 34,
   "id": "sophisticated-supervisor",
   "metadata": {
    "execution": {
     "iopub.execute_input": "2022-08-19T12:16:57.860597Z",
     "iopub.status.busy": "2022-08-19T12:16:57.859974Z",
     "iopub.status.idle": "2022-08-19T12:16:57.862516Z",
     "shell.execute_reply": "2022-08-19T12:16:57.862029Z"
    },
    "papermill": {
     "duration": 0.037467,
     "end_time": "2022-08-19T12:16:57.862633",
     "exception": false,
     "start_time": "2022-08-19T12:16:57.825166",
     "status": "completed"
    },
    "tags": []
   },
   "outputs": [],
   "source": [
    "#hide\n",
    "# g['date'] = g.date.dt.dayofyear"
   ]
  },
  {
   "cell_type": "code",
   "execution_count": 35,
   "id": "inside-dubai",
   "metadata": {
    "execution": {
     "iopub.execute_input": "2022-08-19T12:16:57.929123Z",
     "iopub.status.busy": "2022-08-19T12:16:57.928534Z",
     "iopub.status.idle": "2022-08-19T12:16:57.930927Z",
     "shell.execute_reply": "2022-08-19T12:16:57.931377Z"
    },
    "papermill": {
     "duration": 0.037754,
     "end_time": "2022-08-19T12:16:57.931532",
     "exception": false,
     "start_time": "2022-08-19T12:16:57.893778",
     "status": "completed"
    },
    "tags": []
   },
   "outputs": [],
   "source": [
    "#hide\n",
    "# g = g.rename(columns= {'continent':'group','country':'name','cases':'value'})"
   ]
  },
  {
   "cell_type": "code",
   "execution_count": 36,
   "id": "fleet-motorcycle",
   "metadata": {
    "execution": {
     "iopub.execute_input": "2022-08-19T12:16:58.000359Z",
     "iopub.status.busy": "2022-08-19T12:16:57.999667Z",
     "iopub.status.idle": "2022-08-19T12:16:58.002086Z",
     "shell.execute_reply": "2022-08-19T12:16:58.001631Z"
    },
    "papermill": {
     "duration": 0.039465,
     "end_time": "2022-08-19T12:16:58.002202",
     "exception": false,
     "start_time": "2022-08-19T12:16:57.962737",
     "status": "completed"
    },
    "tags": []
   },
   "outputs": [],
   "source": [
    "#hide\n",
    "# cols = ['name','group','day','value']"
   ]
  },
  {
   "cell_type": "code",
   "execution_count": 37,
   "id": "continued-sleeping",
   "metadata": {
    "execution": {
     "iopub.execute_input": "2022-08-19T12:16:58.069256Z",
     "iopub.status.busy": "2022-08-19T12:16:58.068544Z",
     "iopub.status.idle": "2022-08-19T12:16:58.071211Z",
     "shell.execute_reply": "2022-08-19T12:16:58.070553Z"
    },
    "papermill": {
     "duration": 0.037913,
     "end_time": "2022-08-19T12:16:58.071342",
     "exception": false,
     "start_time": "2022-08-19T12:16:58.033429",
     "status": "completed"
    },
    "tags": []
   },
   "outputs": [],
   "source": [
    "#hide\n",
    "# g.rename(columns= {'date':'day'},inplace = True)"
   ]
  },
  {
   "cell_type": "code",
   "execution_count": 38,
   "id": "major-fight",
   "metadata": {
    "execution": {
     "iopub.execute_input": "2022-08-19T12:16:58.138348Z",
     "iopub.status.busy": "2022-08-19T12:16:58.137749Z",
     "iopub.status.idle": "2022-08-19T12:16:58.140646Z",
     "shell.execute_reply": "2022-08-19T12:16:58.140158Z"
    },
    "papermill": {
     "duration": 0.037952,
     "end_time": "2022-08-19T12:16:58.140760",
     "exception": false,
     "start_time": "2022-08-19T12:16:58.102808",
     "status": "completed"
    },
    "tags": []
   },
   "outputs": [],
   "source": [
    "#hide\n",
    "# g = g[cols]"
   ]
  },
  {
   "cell_type": "code",
   "execution_count": 39,
   "id": "structured-mobile",
   "metadata": {
    "execution": {
     "iopub.execute_input": "2022-08-19T12:16:58.207678Z",
     "iopub.status.busy": "2022-08-19T12:16:58.207007Z",
     "iopub.status.idle": "2022-08-19T12:16:58.210414Z",
     "shell.execute_reply": "2022-08-19T12:16:58.210849Z"
    },
    "papermill": {
     "duration": 0.039165,
     "end_time": "2022-08-19T12:16:58.210989",
     "exception": false,
     "start_time": "2022-08-19T12:16:58.171824",
     "status": "completed"
    },
    "tags": []
   },
   "outputs": [],
   "source": [
    "# #hide\n",
    "# g = g[g.group.notna()]"
   ]
  },
  {
   "cell_type": "code",
   "execution_count": 40,
   "id": "determined-closing",
   "metadata": {
    "execution": {
     "iopub.execute_input": "2022-08-19T12:16:58.278423Z",
     "iopub.status.busy": "2022-08-19T12:16:58.277803Z",
     "iopub.status.idle": "2022-08-19T12:16:58.280226Z",
     "shell.execute_reply": "2022-08-19T12:16:58.279746Z"
    },
    "papermill": {
     "duration": 0.037947,
     "end_time": "2022-08-19T12:16:58.280335",
     "exception": false,
     "start_time": "2022-08-19T12:16:58.242388",
     "status": "completed"
    },
    "tags": []
   },
   "outputs": [],
   "source": [
    "# #hide\n",
    "# colors = dict(zip(\n",
    "#     [\"Oceania\", \"Europe\", \"Asia\", \"South America\", \"Middle East\", \"North America\", \"Africa\"],\n",
    "#     [\"#adb0ff\", \"#ffb3ff\", \"#90d595\", \"#e48381\", \"#aafbff\", \"#f7bb5f\", \"#eafb50\"]\n",
    "# ))\n",
    "# group_lk = g.set_index('name')['group'].to_dict()"
   ]
  },
  {
   "cell_type": "code",
   "execution_count": null,
   "id": "gross-drinking",
   "metadata": {
    "papermill": {
     "duration": 0.031247,
     "end_time": "2022-08-19T12:16:58.343489",
     "exception": false,
     "start_time": "2022-08-19T12:16:58.312242",
     "status": "completed"
    },
    "tags": []
   },
   "outputs": [],
   "source": []
  },
  {
   "cell_type": "code",
   "execution_count": 41,
   "id": "subject-macintosh",
   "metadata": {
    "execution": {
     "iopub.execute_input": "2022-08-19T12:16:58.410751Z",
     "iopub.status.busy": "2022-08-19T12:16:58.410119Z",
     "iopub.status.idle": "2022-08-19T12:16:58.412623Z",
     "shell.execute_reply": "2022-08-19T12:16:58.413102Z"
    },
    "papermill": {
     "duration": 0.038634,
     "end_time": "2022-08-19T12:16:58.413238",
     "exception": false,
     "start_time": "2022-08-19T12:16:58.374604",
     "status": "completed"
    },
    "tags": []
   },
   "outputs": [],
   "source": [
    "# #hide\n",
    "# fig, ax = plt.subplots(figsize=(15, 8))\n",
    "\n",
    "# def draw_barchart(current_day):\n",
    "#     dff = g[g['day'].eq(current_day)].sort_values(by='value', ascending=True).tail(10)\n",
    "#     ax.clear()\n",
    "#     ax.barh(dff['name'], dff['value'], color=[colors[group_lk[x]] for x in dff['name']])\n",
    "#     dx = dff['value'].max() / 200\n",
    "    \n",
    "#     for i, (value, name) in enumerate(zip(dff['value'], dff['name'])):\n",
    "#         ax.text(value-dx, i,     name,           size=14, weight=600, ha='right', va='bottom')\n",
    "#         ax.text(value-dx, i-.25, group_lk[name], size=10, color='#444444', ha='right', va='baseline')\n",
    "#         ax.text(value+dx, i,     f'{value:,.0f}',  size=14, ha='left',  va='center')\n",
    "#     ax.text(1, 0.4, current_day, transform=ax.transAxes, color='#777777', size=46, ha='right', weight=800)\n",
    "#     ax.text(0, 1.06, 'Population (thousands)', transform=ax.transAxes, size=12, color='#777777')\n",
    "#     ax.xaxis.set_major_formatter(ticker.StrMethodFormatter('{x:,.0f}'))\n",
    "#     ax.xaxis.set_ticks_position('top')\n",
    "#     ax.tick_params(axis='x', colors='#777777', labelsize=12)\n",
    "#     ax.set_yticks([])\n",
    "#     ax.margins(0, 0.01)\n",
    "#     ax.grid(which='major', axis='x', linestyle='-')\n",
    "#     ax.set_axisbelow(True)\n",
    "    \n",
    "#     ax.text(0, 1.15, 'Coronavirus',\n",
    "#             transform=ax.transAxes, size=24, weight=600, ha='left', va='top')\n",
    "# #     ax.text(1, 0, 'by @pratapvardhan; credit @jburnmurdoch', transform=ax.transAxes, color='#777777', ha='right',\n",
    "# #             bbox=dict(facecolor='white', alpha=0.8, edgecolor='white'))\n",
    "#     plt.box(False)"
   ]
  },
  {
   "cell_type": "code",
   "execution_count": 42,
   "id": "sexual-wages",
   "metadata": {
    "execution": {
     "iopub.execute_input": "2022-08-19T12:16:58.480258Z",
     "iopub.status.busy": "2022-08-19T12:16:58.479559Z",
     "iopub.status.idle": "2022-08-19T12:16:58.481302Z",
     "shell.execute_reply": "2022-08-19T12:16:58.481837Z"
    },
    "papermill": {
     "duration": 0.037417,
     "end_time": "2022-08-19T12:16:58.481967",
     "exception": false,
     "start_time": "2022-08-19T12:16:58.444550",
     "status": "completed"
    },
    "tags": []
   },
   "outputs": [],
   "source": [
    "# #hide_input\n",
    "# fig, ax = plt.subplots(figsize=(15, 8))\n",
    "# animator = animation.FuncAnimation(fig, draw_barchart, frames=range(g.day.values.min(), g.day.values.max()))\n",
    "# HTML(animator.to_jshtml())\n",
    "# # or use animator.to_html5_video() or animator.save() "
   ]
  },
  {
   "cell_type": "code",
   "execution_count": null,
   "id": "australian-container",
   "metadata": {
    "papermill": {
     "duration": 0.031823,
     "end_time": "2022-08-19T12:16:58.545315",
     "exception": false,
     "start_time": "2022-08-19T12:16:58.513492",
     "status": "completed"
    },
    "tags": []
   },
   "outputs": [],
   "source": []
  },
  {
   "cell_type": "code",
   "execution_count": null,
   "id": "mediterranean-pontiac",
   "metadata": {
    "papermill": {
     "duration": 0.031258,
     "end_time": "2022-08-19T12:16:58.608006",
     "exception": false,
     "start_time": "2022-08-19T12:16:58.576748",
     "status": "completed"
    },
    "tags": []
   },
   "outputs": [],
   "source": []
  },
  {
   "cell_type": "code",
   "execution_count": null,
   "id": "aging-legislature",
   "metadata": {
    "papermill": {
     "duration": 0.031654,
     "end_time": "2022-08-19T12:16:58.671662",
     "exception": false,
     "start_time": "2022-08-19T12:16:58.640008",
     "status": "completed"
    },
    "tags": []
   },
   "outputs": [],
   "source": []
  }
 ],
 "metadata": {
  "kernelspec": {
   "display_name": "Python 3",
   "language": "python",
   "name": "python3"
  },
  "language_info": {
   "codemirror_mode": {
    "name": "ipython",
    "version": 3
   },
   "file_extension": ".py",
   "mimetype": "text/x-python",
   "name": "python",
   "nbconvert_exporter": "python",
   "pygments_lexer": "ipython3",
   "version": "3.6.15"
  },
  "papermill": {
   "duration": 6.727094,
   "end_time": "2022-08-19T12:16:59.123517",
   "environment_variables": {},
   "exception": null,
   "input_path": "2020-03-21-covid19exp.ipynb",
   "output_path": "2020-03-21-covid19exp.ipynb",
   "parameters": {},
   "start_time": "2022-08-19T12:16:52.396423",
   "version": "2.0.0"
  }
 },
 "nbformat": 4,
 "nbformat_minor": 5
}