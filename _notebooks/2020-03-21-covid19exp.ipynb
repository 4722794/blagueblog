{
 "cells": [
  {
   "cell_type": "markdown",
   "id": "muslim-click",
   "metadata": {
    "papermill": {
     "duration": 0.033712,
     "end_time": "2021-09-10T00:24:59.157508",
     "exception": false,
     "start_time": "2021-09-10T00:24:59.123796",
     "status": "completed"
    },
    "tags": []
   },
   "source": [
    "# COVID-19 Case Race\n",
    "> A race chart to see rising cases around the world\n",
    "\n",
    "- author: Hargun Oberoi\n",
    "- image: images/covid-overview.png\n",
    "- hide: false\n",
    "- badges: false"
   ]
  },
  {
   "cell_type": "code",
   "execution_count": 1,
   "id": "proof-material",
   "metadata": {
    "execution": {
     "iopub.execute_input": "2021-09-10T00:24:59.226477Z",
     "iopub.status.busy": "2021-09-10T00:24:59.225933Z",
     "iopub.status.idle": "2021-09-10T00:24:59.552776Z",
     "shell.execute_reply": "2021-09-10T00:24:59.552238Z"
    },
    "papermill": {
     "duration": 0.365464,
     "end_time": "2021-09-10T00:24:59.552930",
     "exception": false,
     "start_time": "2021-09-10T00:24:59.187466",
     "status": "completed"
    },
    "tags": []
   },
   "outputs": [],
   "source": [
    "#hide\n",
    "import numpy as np\n",
    "import pandas as pd\n",
    "from jinja2 import Template\n",
    "from IPython.display import HTML"
   ]
  },
  {
   "cell_type": "code",
   "execution_count": 2,
   "id": "developed-terminology",
   "metadata": {
    "execution": {
     "iopub.execute_input": "2021-09-10T00:24:59.618809Z",
     "iopub.status.busy": "2021-09-10T00:24:59.618262Z",
     "iopub.status.idle": "2021-09-10T00:24:59.621321Z",
     "shell.execute_reply": "2021-09-10T00:24:59.621721Z"
    },
    "papermill": {
     "duration": 0.039101,
     "end_time": "2021-09-10T00:24:59.621857",
     "exception": false,
     "start_time": "2021-09-10T00:24:59.582756",
     "status": "completed"
    },
    "tags": []
   },
   "outputs": [],
   "source": [
    "#hide\n",
    "\n",
    "# FETCH\n",
    "base_url = 'https://raw.githubusercontent.com/pratapvardhan/notebooks/master/covid19/'\n",
    "paths = {\n",
    "    'mapping': base_url + 'mapping_countries.csv',\n",
    "    'overview': base_url + 'overview.tpl'\n",
    "}"
   ]
  },
  {
   "cell_type": "code",
   "execution_count": 3,
   "id": "dynamic-saver",
   "metadata": {
    "execution": {
     "iopub.execute_input": "2021-09-10T00:24:59.690934Z",
     "iopub.status.busy": "2021-09-10T00:24:59.690419Z",
     "iopub.status.idle": "2021-09-10T00:24:59.693145Z",
     "shell.execute_reply": "2021-09-10T00:24:59.692712Z"
    },
    "papermill": {
     "duration": 0.041944,
     "end_time": "2021-09-10T00:24:59.693278",
     "exception": false,
     "start_time": "2021-09-10T00:24:59.651334",
     "status": "completed"
    },
    "tags": []
   },
   "outputs": [
    {
     "data": {
      "text/plain": [
       "'https://raw.githubusercontent.com/pratapvardhan/notebooks/master/covid19/mapping_countries.csv'"
      ]
     },
     "execution_count": 3,
     "metadata": {},
     "output_type": "execute_result"
    }
   ],
   "source": [
    "#hide\n",
    "paths['mapping']"
   ]
  },
  {
   "cell_type": "code",
   "execution_count": 4,
   "id": "urban-software",
   "metadata": {
    "execution": {
     "iopub.execute_input": "2021-09-10T00:24:59.759520Z",
     "iopub.status.busy": "2021-09-10T00:24:59.759008Z",
     "iopub.status.idle": "2021-09-10T00:24:59.761125Z",
     "shell.execute_reply": "2021-09-10T00:24:59.760719Z"
    },
    "papermill": {
     "duration": 0.037998,
     "end_time": "2021-09-10T00:24:59.761239",
     "exception": false,
     "start_time": "2021-09-10T00:24:59.723241",
     "status": "completed"
    },
    "tags": []
   },
   "outputs": [],
   "source": [
    "#hide\n",
    "def get_mappings(url):\n",
    "    df = pd.read_csv(url)\n",
    "    return {\n",
    "        'df': df,\n",
    "        'replace.country': dict(df.dropna(subset=['Name']).set_index('Country')['Name']),\n",
    "        'map.continent': dict(df.set_index('Name')['Continent'])\n",
    "    }"
   ]
  },
  {
   "cell_type": "code",
   "execution_count": 5,
   "id": "intimate-machinery",
   "metadata": {
    "execution": {
     "iopub.execute_input": "2021-09-10T00:24:59.825479Z",
     "iopub.status.busy": "2021-09-10T00:24:59.824942Z",
     "iopub.status.idle": "2021-09-10T00:24:59.873175Z",
     "shell.execute_reply": "2021-09-10T00:24:59.872693Z"
    },
    "papermill": {
     "duration": 0.082489,
     "end_time": "2021-09-10T00:24:59.873334",
     "exception": false,
     "start_time": "2021-09-10T00:24:59.790845",
     "status": "completed"
    },
    "tags": []
   },
   "outputs": [],
   "source": [
    "#hide\n",
    "mapping = get_mappings(paths['mapping'])"
   ]
  },
  {
   "cell_type": "code",
   "execution_count": 6,
   "id": "certified-tactics",
   "metadata": {
    "execution": {
     "iopub.execute_input": "2021-09-10T00:24:59.938820Z",
     "iopub.status.busy": "2021-09-10T00:24:59.938314Z",
     "iopub.status.idle": "2021-09-10T00:24:59.940555Z",
     "shell.execute_reply": "2021-09-10T00:24:59.940129Z"
    },
    "papermill": {
     "duration": 0.036667,
     "end_time": "2021-09-10T00:24:59.940663",
     "exception": false,
     "start_time": "2021-09-10T00:24:59.903996",
     "status": "completed"
    },
    "tags": []
   },
   "outputs": [],
   "source": [
    "#hide\n",
    "def get_template(path):\n",
    "    from urllib.parse import urlparse\n",
    "    if bool(urlparse(path).netloc):\n",
    "        from urllib.request import urlopen\n",
    "        return urlopen(path).read().decode('utf8')\n",
    "    return open(path).read()"
   ]
  },
  {
   "cell_type": "code",
   "execution_count": 7,
   "id": "realistic-blast",
   "metadata": {
    "execution": {
     "iopub.execute_input": "2021-09-10T00:25:00.005101Z",
     "iopub.status.busy": "2021-09-10T00:25:00.004582Z",
     "iopub.status.idle": "2021-09-10T00:25:00.006263Z",
     "shell.execute_reply": "2021-09-10T00:25:00.006695Z"
    },
    "papermill": {
     "duration": 0.036419,
     "end_time": "2021-09-10T00:25:00.006823",
     "exception": false,
     "start_time": "2021-09-10T00:24:59.970404",
     "status": "completed"
    },
    "tags": []
   },
   "outputs": [],
   "source": [
    "#hide\n",
    "def get_frame(name):\n",
    "    url = (\n",
    "        'https://raw.githubusercontent.com/CSSEGISandData/COVID-19/master/csse_covid_19_data/'\n",
    "        f'csse_covid_19_time_series/time_series_covid19_{name}_global.csv')\n",
    "    df = pd.read_csv(url)\n",
    "    # rename countries\n",
    "    df['Country/Region'] = df['Country/Region'].replace(mapping['replace.country'])\n",
    "    return df"
   ]
  },
  {
   "cell_type": "code",
   "execution_count": 8,
   "id": "affiliated-characterization",
   "metadata": {
    "execution": {
     "iopub.execute_input": "2021-09-10T00:25:00.072512Z",
     "iopub.status.busy": "2021-09-10T00:25:00.071995Z",
     "iopub.status.idle": "2021-09-10T00:25:00.074221Z",
     "shell.execute_reply": "2021-09-10T00:25:00.073804Z"
    },
    "papermill": {
     "duration": 0.037727,
     "end_time": "2021-09-10T00:25:00.074337",
     "exception": false,
     "start_time": "2021-09-10T00:25:00.036610",
     "status": "completed"
    },
    "tags": []
   },
   "outputs": [],
   "source": [
    "#hide\n",
    "def get_dates(df):\n",
    "    dt_cols = df.columns[~df.columns.isin(['Province/State', 'Country/Region', 'Lat', 'Long'])]\n",
    "    LAST_DATE_I = -1\n",
    "    # sometimes last column may be empty, then go backwards\n",
    "    for i in range(-1, -len(dt_cols), -1):\n",
    "        if not df[dt_cols[i]].fillna(0).eq(0).all():\n",
    "            LAST_DATE_I = i\n",
    "            break\n",
    "    return LAST_DATE_I, dt_cols"
   ]
  },
  {
   "cell_type": "code",
   "execution_count": 9,
   "id": "recent-optimization",
   "metadata": {
    "execution": {
     "iopub.execute_input": "2021-09-10T00:25:00.138230Z",
     "iopub.status.busy": "2021-09-10T00:25:00.137683Z",
     "iopub.status.idle": "2021-09-10T00:25:00.718302Z",
     "shell.execute_reply": "2021-09-10T00:25:00.717801Z"
    },
    "papermill": {
     "duration": 0.614474,
     "end_time": "2021-09-10T00:25:00.718425",
     "exception": false,
     "start_time": "2021-09-10T00:25:00.103951",
     "status": "completed"
    },
    "tags": []
   },
   "outputs": [],
   "source": [
    "#hide\n",
    "COL_REGION = 'Country/Region'\n",
    "# Confirmed, Recovered, Deaths\n",
    "df = get_frame('confirmed')\n",
    "# dft_: timeseries, dfc_: today country agg\n",
    "dft_cases = df\n",
    "dft_deaths = get_frame('deaths')\n",
    "dft_recovered = get_frame('recovered')\n",
    "LAST_DATE_I, dt_cols = get_dates(df)"
   ]
  },
  {
   "cell_type": "code",
   "execution_count": 10,
   "id": "absolute-copper",
   "metadata": {
    "execution": {
     "iopub.execute_input": "2021-09-10T00:25:00.783845Z",
     "iopub.status.busy": "2021-09-10T00:25:00.783329Z",
     "iopub.status.idle": "2021-09-10T00:25:00.785858Z",
     "shell.execute_reply": "2021-09-10T00:25:00.785445Z"
    },
    "papermill": {
     "duration": 0.03756,
     "end_time": "2021-09-10T00:25:00.785973",
     "exception": false,
     "start_time": "2021-09-10T00:25:00.748413",
     "status": "completed"
    },
    "tags": []
   },
   "outputs": [],
   "source": [
    "#hide\n",
    "LAST_DATE_I, dt_cols = get_dates(df)\n",
    "dt_today =dt_cols[LAST_DATE_I]\n",
    "# dt_5day = dt_cols[LAST_DATE_I - 5]\n",
    "dt_yday = dt_cols[LAST_DATE_I - 1]"
   ]
  },
  {
   "cell_type": "code",
   "execution_count": 11,
   "id": "restricted-sheriff",
   "metadata": {
    "execution": {
     "iopub.execute_input": "2021-09-10T00:25:00.854375Z",
     "iopub.status.busy": "2021-09-10T00:25:00.852288Z",
     "iopub.status.idle": "2021-09-10T00:25:00.860768Z",
     "shell.execute_reply": "2021-09-10T00:25:00.860088Z"
    },
    "papermill": {
     "duration": 0.045387,
     "end_time": "2021-09-10T00:25:00.860881",
     "exception": false,
     "start_time": "2021-09-10T00:25:00.815494",
     "status": "completed"
    },
    "tags": []
   },
   "outputs": [],
   "source": [
    "#hide\n",
    "dfc_cases = dft_cases.groupby(COL_REGION)[dt_today].sum()\n",
    "dfc_deaths = dft_deaths.groupby(COL_REGION)[dt_today].sum()\n",
    "# dfp_cases = dft_cases.groupby(COL_REGION)[dt_5day].sum()\n",
    "# dfp_deaths = dft_deaths.groupby(COL_REGION)[dt_5day].sum()\n",
    "dfp_cases = dft_cases.groupby(COL_REGION)[dt_yday].sum()\n",
    "dfp_deaths = dft_deaths.groupby(COL_REGION)[dt_yday].sum()"
   ]
  },
  {
   "cell_type": "code",
   "execution_count": 12,
   "id": "deluxe-hepatitis",
   "metadata": {
    "execution": {
     "iopub.execute_input": "2021-09-10T00:25:00.925989Z",
     "iopub.status.busy": "2021-09-10T00:25:00.925469Z",
     "iopub.status.idle": "2021-09-10T00:25:00.930882Z",
     "shell.execute_reply": "2021-09-10T00:25:00.930470Z"
    },
    "papermill": {
     "duration": 0.040334,
     "end_time": "2021-09-10T00:25:00.930995",
     "exception": false,
     "start_time": "2021-09-10T00:25:00.890661",
     "status": "completed"
    },
    "tags": []
   },
   "outputs": [],
   "source": [
    "#hide\n",
    "df_table = (pd.DataFrame(dict(Cases = dfc_cases, Deaths = dfc_deaths, PCases = dfp_cases, PDeaths = dfp_deaths))\n",
    "            .sort_values(by = ['Cases','Deaths'], ascending = [False, False])\n",
    "            .reset_index())"
   ]
  },
  {
   "cell_type": "code",
   "execution_count": 13,
   "id": "educational-chancellor",
   "metadata": {
    "execution": {
     "iopub.execute_input": "2021-09-10T00:25:01.007929Z",
     "iopub.status.busy": "2021-09-10T00:25:01.007410Z",
     "iopub.status.idle": "2021-09-10T00:25:01.014857Z",
     "shell.execute_reply": "2021-09-10T00:25:01.014448Z"
    },
    "papermill": {
     "duration": 0.054374,
     "end_time": "2021-09-10T00:25:01.014972",
     "exception": false,
     "start_time": "2021-09-10T00:25:00.960598",
     "status": "completed"
    },
    "tags": []
   },
   "outputs": [
    {
     "data": {
      "text/html": [
       "<div>\n",
       "<style scoped>\n",
       "    .dataframe tbody tr th:only-of-type {\n",
       "        vertical-align: middle;\n",
       "    }\n",
       "\n",
       "    .dataframe tbody tr th {\n",
       "        vertical-align: top;\n",
       "    }\n",
       "\n",
       "    .dataframe thead th {\n",
       "        text-align: right;\n",
       "    }\n",
       "</style>\n",
       "<table border=\"1\" class=\"dataframe\">\n",
       "  <thead>\n",
       "    <tr style=\"text-align: right;\">\n",
       "      <th></th>\n",
       "      <th>Country/Region</th>\n",
       "      <th>Cases</th>\n",
       "      <th>Deaths</th>\n",
       "      <th>PCases</th>\n",
       "      <th>PDeaths</th>\n",
       "      <th>Cases (+)</th>\n",
       "      <th>Deaths (+)</th>\n",
       "      <th>Fatality Rate</th>\n",
       "      <th>Continent</th>\n",
       "    </tr>\n",
       "  </thead>\n",
       "  <tbody>\n",
       "    <tr>\n",
       "      <th>0</th>\n",
       "      <td>US</td>\n",
       "      <td>40456711</td>\n",
       "      <td>652657</td>\n",
       "      <td>40280001</td>\n",
       "      <td>650511</td>\n",
       "      <td>176710</td>\n",
       "      <td>2146</td>\n",
       "      <td>1.61</td>\n",
       "      <td>North America</td>\n",
       "    </tr>\n",
       "    <tr>\n",
       "      <th>1</th>\n",
       "      <td>India</td>\n",
       "      <td>33139981</td>\n",
       "      <td>441749</td>\n",
       "      <td>33096718</td>\n",
       "      <td>441411</td>\n",
       "      <td>43263</td>\n",
       "      <td>338</td>\n",
       "      <td>1.33</td>\n",
       "      <td>Asia</td>\n",
       "    </tr>\n",
       "    <tr>\n",
       "      <th>2</th>\n",
       "      <td>Brazil</td>\n",
       "      <td>20928008</td>\n",
       "      <td>584421</td>\n",
       "      <td>20914237</td>\n",
       "      <td>584108</td>\n",
       "      <td>13771</td>\n",
       "      <td>313</td>\n",
       "      <td>2.79</td>\n",
       "      <td>South America</td>\n",
       "    </tr>\n",
       "    <tr>\n",
       "      <th>3</th>\n",
       "      <td>United Kingdom</td>\n",
       "      <td>7127630</td>\n",
       "      <td>133999</td>\n",
       "      <td>7089051</td>\n",
       "      <td>133808</td>\n",
       "      <td>38579</td>\n",
       "      <td>191</td>\n",
       "      <td>1.88</td>\n",
       "      <td>Europe</td>\n",
       "    </tr>\n",
       "    <tr>\n",
       "      <th>4</th>\n",
       "      <td>Russia</td>\n",
       "      <td>6964595</td>\n",
       "      <td>186224</td>\n",
       "      <td>6946922</td>\n",
       "      <td>185447</td>\n",
       "      <td>17673</td>\n",
       "      <td>777</td>\n",
       "      <td>2.67</td>\n",
       "      <td>Europe</td>\n",
       "    </tr>\n",
       "  </tbody>\n",
       "</table>\n",
       "</div>"
      ],
      "text/plain": [
       "   Country/Region     Cases  Deaths    PCases  PDeaths  Cases (+)  Deaths (+)  \\\n",
       "0              US  40456711  652657  40280001   650511     176710        2146   \n",
       "1           India  33139981  441749  33096718   441411      43263         338   \n",
       "2          Brazil  20928008  584421  20914237   584108      13771         313   \n",
       "3  United Kingdom   7127630  133999   7089051   133808      38579         191   \n",
       "4          Russia   6964595  186224   6946922   185447      17673         777   \n",
       "\n",
       "   Fatality Rate      Continent  \n",
       "0           1.61  North America  \n",
       "1           1.33           Asia  \n",
       "2           2.79  South America  \n",
       "3           1.88         Europe  \n",
       "4           2.67         Europe  "
      ]
     },
     "execution_count": 13,
     "metadata": {},
     "output_type": "execute_result"
    }
   ],
   "source": [
    "#hide\n",
    "for c in 'Cases, Deaths'.split(', '):\n",
    "    df_table[f'{c} (+)'] = (df_table[c] - df_table[f'P{c}']).clip(0)\n",
    "    #Clip ça veut dire, les chiffres negatif sont interdit\n",
    "df_table['Fatality Rate'] = (100* df_table['Deaths']/ df_table['Cases']).round(2)\n",
    "df_table['Continent'] = df_table['Country/Region'].map(mapping['map.continent'])\n",
    "df_table.head(5)"
   ]
  },
  {
   "cell_type": "code",
   "execution_count": 14,
   "id": "aboriginal-bulgaria",
   "metadata": {
    "execution": {
     "iopub.execute_input": "2021-09-10T00:25:01.080605Z",
     "iopub.status.busy": "2021-09-10T00:25:01.080101Z",
     "iopub.status.idle": "2021-09-10T00:25:01.083249Z",
     "shell.execute_reply": "2021-09-10T00:25:01.082843Z"
    },
    "papermill": {
     "duration": 0.038143,
     "end_time": "2021-09-10T00:25:01.083364",
     "exception": false,
     "start_time": "2021-09-10T00:25:01.045221",
     "status": "completed"
    },
    "tags": []
   },
   "outputs": [],
   "source": [
    "#hide\n",
    "#delete problematic countries from table\n",
    "df_table = df_table[~df_table['Country/Region'].isin(['Cape Verde', 'Cruise Ship', 'Kosovo'])]"
   ]
  },
  {
   "cell_type": "code",
   "execution_count": 15,
   "id": "fantastic-effect",
   "metadata": {
    "execution": {
     "iopub.execute_input": "2021-09-10T00:25:01.150778Z",
     "iopub.status.busy": "2021-09-10T00:25:01.150269Z",
     "iopub.status.idle": "2021-09-10T00:25:01.168321Z",
     "shell.execute_reply": "2021-09-10T00:25:01.167823Z"
    },
    "papermill": {
     "duration": 0.055035,
     "end_time": "2021-09-10T00:25:01.168447",
     "exception": false,
     "start_time": "2021-09-10T00:25:01.113412",
     "status": "completed"
    },
    "tags": []
   },
   "outputs": [
    {
     "data": {
      "text/html": [
       "<div>\n",
       "<style scoped>\n",
       "    .dataframe tbody tr th:only-of-type {\n",
       "        vertical-align: middle;\n",
       "    }\n",
       "\n",
       "    .dataframe tbody tr th {\n",
       "        vertical-align: top;\n",
       "    }\n",
       "\n",
       "    .dataframe thead th {\n",
       "        text-align: right;\n",
       "    }\n",
       "</style>\n",
       "<table border=\"1\" class=\"dataframe\">\n",
       "  <thead>\n",
       "    <tr style=\"text-align: right;\">\n",
       "      <th></th>\n",
       "      <th>Country/Region</th>\n",
       "      <th>Cases</th>\n",
       "      <th>Deaths</th>\n",
       "      <th>PCases</th>\n",
       "      <th>PDeaths</th>\n",
       "      <th>Cases (+)</th>\n",
       "      <th>Deaths (+)</th>\n",
       "      <th>Fatality Rate</th>\n",
       "      <th>Continent</th>\n",
       "    </tr>\n",
       "  </thead>\n",
       "  <tbody>\n",
       "    <tr>\n",
       "      <th>0</th>\n",
       "      <td>US</td>\n",
       "      <td>40456711</td>\n",
       "      <td>652657</td>\n",
       "      <td>40280001</td>\n",
       "      <td>650511</td>\n",
       "      <td>176710</td>\n",
       "      <td>2146</td>\n",
       "      <td>1.6</td>\n",
       "      <td>North America</td>\n",
       "    </tr>\n",
       "    <tr>\n",
       "      <th>1</th>\n",
       "      <td>India</td>\n",
       "      <td>33139981</td>\n",
       "      <td>441749</td>\n",
       "      <td>33096718</td>\n",
       "      <td>441411</td>\n",
       "      <td>43263</td>\n",
       "      <td>338</td>\n",
       "      <td>1.3</td>\n",
       "      <td>Asia</td>\n",
       "    </tr>\n",
       "    <tr>\n",
       "      <th>2</th>\n",
       "      <td>Brazil</td>\n",
       "      <td>20928008</td>\n",
       "      <td>584421</td>\n",
       "      <td>20914237</td>\n",
       "      <td>584108</td>\n",
       "      <td>13771</td>\n",
       "      <td>313</td>\n",
       "      <td>2.8</td>\n",
       "      <td>South America</td>\n",
       "    </tr>\n",
       "    <tr>\n",
       "      <th>3</th>\n",
       "      <td>United Kingdom</td>\n",
       "      <td>7127630</td>\n",
       "      <td>133999</td>\n",
       "      <td>7089051</td>\n",
       "      <td>133808</td>\n",
       "      <td>38579</td>\n",
       "      <td>191</td>\n",
       "      <td>1.9</td>\n",
       "      <td>Europe</td>\n",
       "    </tr>\n",
       "    <tr>\n",
       "      <th>4</th>\n",
       "      <td>Russia</td>\n",
       "      <td>6964595</td>\n",
       "      <td>186224</td>\n",
       "      <td>6946922</td>\n",
       "      <td>185447</td>\n",
       "      <td>17673</td>\n",
       "      <td>777</td>\n",
       "      <td>2.7</td>\n",
       "      <td>Europe</td>\n",
       "    </tr>\n",
       "  </tbody>\n",
       "</table>\n",
       "</div>"
      ],
      "text/plain": [
       "   Country/Region     Cases  Deaths    PCases  PDeaths  Cases (+)  Deaths (+)  \\\n",
       "0              US  40456711  652657  40280001   650511     176710        2146   \n",
       "1           India  33139981  441749  33096718   441411      43263         338   \n",
       "2          Brazil  20928008  584421  20914237   584108      13771         313   \n",
       "3  United Kingdom   7127630  133999   7089051   133808      38579         191   \n",
       "4          Russia   6964595  186224   6946922   185447      17673         777   \n",
       "\n",
       "   Fatality Rate      Continent  \n",
       "0            1.6  North America  \n",
       "1            1.3           Asia  \n",
       "2            2.8  South America  \n",
       "3            1.9         Europe  \n",
       "4            2.7         Europe  "
      ]
     },
     "execution_count": 15,
     "metadata": {},
     "output_type": "execute_result"
    }
   ],
   "source": [
    "#hide\n",
    "df_table = (pd.DataFrame(dict(Cases=dfc_cases, Deaths=dfc_deaths, PCases=dfp_cases, PDeaths=dfp_deaths))\n",
    "             .sort_values(by=['Cases', 'Deaths'], ascending=[False, False])\n",
    "             .reset_index())\n",
    "df_table.rename(columns={'index': 'Country/Region'}, inplace=True)\n",
    "for c in 'Cases, Deaths'.split(', '):\n",
    "    df_table[f'{c} (+)'] = (df_table[c] - df_table[f'P{c}']).clip(0)  # DATA BUG\n",
    "df_table['Fatality Rate'] = (100 * df_table['Deaths'] / df_table['Cases']).round(1)\n",
    "df_table['Continent'] = df_table['Country/Region'].map(mapping['map.continent'])\n",
    "df_table.head(5)"
   ]
  },
  {
   "cell_type": "code",
   "execution_count": 16,
   "id": "fewer-occasion",
   "metadata": {
    "execution": {
     "iopub.execute_input": "2021-09-10T00:25:01.236444Z",
     "iopub.status.busy": "2021-09-10T00:25:01.235929Z",
     "iopub.status.idle": "2021-09-10T00:25:01.238156Z",
     "shell.execute_reply": "2021-09-10T00:25:01.237749Z"
    },
    "papermill": {
     "duration": 0.038262,
     "end_time": "2021-09-10T00:25:01.238273",
     "exception": false,
     "start_time": "2021-09-10T00:25:01.200011",
     "status": "completed"
    },
    "tags": []
   },
   "outputs": [],
   "source": [
    "#hide\n",
    "#delete problematic countries from table\n",
    "df_table = df_table[~df_table['Country/Region'].isin(['Cape Verde', 'Cruise Ship', 'Kosovo'])]"
   ]
  },
  {
   "cell_type": "code",
   "execution_count": 17,
   "id": "related-center",
   "metadata": {
    "execution": {
     "iopub.execute_input": "2021-09-10T00:25:01.317086Z",
     "iopub.status.busy": "2021-09-10T00:25:01.316557Z",
     "iopub.status.idle": "2021-09-10T00:25:01.318271Z",
     "shell.execute_reply": "2021-09-10T00:25:01.318750Z"
    },
    "papermill": {
     "duration": 0.050072,
     "end_time": "2021-09-10T00:25:01.318874",
     "exception": false,
     "start_time": "2021-09-10T00:25:01.268802",
     "status": "completed"
    },
    "tags": []
   },
   "outputs": [],
   "source": [
    "#hide\n",
    "metrics = [df_table.columns[index] for index in [1,2,5,6]]\n",
    "# s_china = df_table[df_table['Country/Region'].eq('China')][metrics].sum().add_prefix('China ')\n",
    "s_us = df_table[df_table['Country/Region'].eq('US')][metrics].sum().add_prefix('US ')\n",
    "s_eu = df_table[df_table['Continent'].eq('Europe')][metrics].sum().add_prefix('EU ')\n",
    "s_ind = df_table[df_table['Country/Region'].eq('India')][metrics].sum().add_prefix('India ')\n",
    "summary = {'updated': pd.to_datetime(dt_today), 'since': pd.to_datetime(dt_yday)}\n",
    "summary = {'updated': pd.to_datetime(dt_today), 'since': pd.to_datetime(dt_yday)}\n",
    "summary = {**summary, **df_table[metrics].sum(), **s_ind, **s_us, **s_eu}"
   ]
  },
  {
   "cell_type": "code",
   "execution_count": 18,
   "id": "engaging-syndrome",
   "metadata": {
    "execution": {
     "iopub.execute_input": "2021-09-10T00:25:01.385933Z",
     "iopub.status.busy": "2021-09-10T00:25:01.385408Z",
     "iopub.status.idle": "2021-09-10T00:25:01.399282Z",
     "shell.execute_reply": "2021-09-10T00:25:01.399695Z"
    },
    "papermill": {
     "duration": 0.050281,
     "end_time": "2021-09-10T00:25:01.399835",
     "exception": false,
     "start_time": "2021-09-10T00:25:01.349554",
     "status": "completed"
    },
    "tags": []
   },
   "outputs": [],
   "source": [
    "#hide\n",
    "dft_ct_new_cases = dft_cases.groupby(COL_REGION)[dt_cols].sum().diff(axis=1).fillna(0).astype(int)"
   ]
  },
  {
   "cell_type": "code",
   "execution_count": 19,
   "id": "neutral-assignment",
   "metadata": {
    "execution": {
     "iopub.execute_input": "2021-09-10T00:25:01.467699Z",
     "iopub.status.busy": "2021-09-10T00:25:01.467187Z",
     "iopub.status.idle": "2021-09-10T00:25:01.468998Z",
     "shell.execute_reply": "2021-09-10T00:25:01.469463Z"
    },
    "papermill": {
     "duration": 0.039117,
     "end_time": "2021-09-10T00:25:01.469599",
     "exception": false,
     "start_time": "2021-09-10T00:25:01.430482",
     "status": "completed"
    },
    "tags": []
   },
   "outputs": [],
   "source": [
    "#hide\n",
    "everydaycases = dft_ct_new_cases.cumsum(axis=1)"
   ]
  },
  {
   "cell_type": "code",
   "execution_count": 20,
   "id": "parliamentary-calgary",
   "metadata": {
    "execution": {
     "iopub.execute_input": "2021-09-10T00:25:01.535297Z",
     "iopub.status.busy": "2021-09-10T00:25:01.534782Z",
     "iopub.status.idle": "2021-09-10T00:25:02.139939Z",
     "shell.execute_reply": "2021-09-10T00:25:02.140402Z"
    },
    "papermill": {
     "duration": 0.640222,
     "end_time": "2021-09-10T00:25:02.140552",
     "exception": false,
     "start_time": "2021-09-10T00:25:01.500330",
     "status": "completed"
    },
    "tags": []
   },
   "outputs": [],
   "source": [
    "#hide\n",
    "import pandas as pd\n",
    "import matplotlib.pyplot as plt\n",
    "import matplotlib.ticker as ticker\n",
    "import matplotlib.animation as animation\n",
    "from IPython.display import HTML"
   ]
  },
  {
   "cell_type": "code",
   "execution_count": 21,
   "id": "lasting-extraction",
   "metadata": {
    "execution": {
     "iopub.execute_input": "2021-09-10T00:25:02.207980Z",
     "iopub.status.busy": "2021-09-10T00:25:02.207473Z",
     "iopub.status.idle": "2021-09-10T00:25:02.213382Z",
     "shell.execute_reply": "2021-09-10T00:25:02.212942Z"
    },
    "papermill": {
     "duration": 0.04222,
     "end_time": "2021-09-10T00:25:02.213507",
     "exception": false,
     "start_time": "2021-09-10T00:25:02.171287",
     "status": "completed"
    },
    "tags": []
   },
   "outputs": [],
   "source": [
    "#hide\n",
    "t = everydaycases.stack()"
   ]
  },
  {
   "cell_type": "code",
   "execution_count": 22,
   "id": "premier-sleeve",
   "metadata": {
    "execution": {
     "iopub.execute_input": "2021-09-10T00:25:02.279585Z",
     "iopub.status.busy": "2021-09-10T00:25:02.279069Z",
     "iopub.status.idle": "2021-09-10T00:25:02.287139Z",
     "shell.execute_reply": "2021-09-10T00:25:02.287571Z"
    },
    "papermill": {
     "duration": 0.043233,
     "end_time": "2021-09-10T00:25:02.287714",
     "exception": false,
     "start_time": "2021-09-10T00:25:02.244481",
     "status": "completed"
    },
    "tags": []
   },
   "outputs": [],
   "source": [
    "#hide\n",
    "g = t.reset_index(['Country/Region'])"
   ]
  },
  {
   "cell_type": "code",
   "execution_count": 23,
   "id": "distributed-pittsburgh",
   "metadata": {
    "execution": {
     "iopub.execute_input": "2021-09-10T00:25:02.353395Z",
     "iopub.status.busy": "2021-09-10T00:25:02.352837Z",
     "iopub.status.idle": "2021-09-10T00:25:02.354574Z",
     "shell.execute_reply": "2021-09-10T00:25:02.355056Z"
    },
    "papermill": {
     "duration": 0.036831,
     "end_time": "2021-09-10T00:25:02.355186",
     "exception": false,
     "start_time": "2021-09-10T00:25:02.318355",
     "status": "completed"
    },
    "tags": []
   },
   "outputs": [],
   "source": [
    "#hide\n",
    "g.index.name = 'date'"
   ]
  },
  {
   "cell_type": "code",
   "execution_count": 24,
   "id": "naked-donor",
   "metadata": {
    "execution": {
     "iopub.execute_input": "2021-09-10T00:25:02.420333Z",
     "iopub.status.busy": "2021-09-10T00:25:02.419825Z",
     "iopub.status.idle": "2021-09-10T00:25:02.421616Z",
     "shell.execute_reply": "2021-09-10T00:25:02.422089Z"
    },
    "papermill": {
     "duration": 0.036071,
     "end_time": "2021-09-10T00:25:02.422211",
     "exception": false,
     "start_time": "2021-09-10T00:25:02.386140",
     "status": "completed"
    },
    "tags": []
   },
   "outputs": [],
   "source": [
    "# #hide\n",
    "# g = g.reset_index(['date'])"
   ]
  },
  {
   "cell_type": "code",
   "execution_count": 25,
   "id": "incomplete-mustang",
   "metadata": {
    "execution": {
     "iopub.execute_input": "2021-09-10T00:25:02.486832Z",
     "iopub.status.busy": "2021-09-10T00:25:02.486326Z",
     "iopub.status.idle": "2021-09-10T00:25:02.488511Z",
     "shell.execute_reply": "2021-09-10T00:25:02.488087Z"
    },
    "papermill": {
     "duration": 0.03595,
     "end_time": "2021-09-10T00:25:02.488621",
     "exception": false,
     "start_time": "2021-09-10T00:25:02.452671",
     "status": "completed"
    },
    "tags": []
   },
   "outputs": [],
   "source": [
    "#hide\n",
    "# g.head()"
   ]
  },
  {
   "cell_type": "code",
   "execution_count": 26,
   "id": "specific-kruger",
   "metadata": {
    "execution": {
     "iopub.execute_input": "2021-09-10T00:25:02.552895Z",
     "iopub.status.busy": "2021-09-10T00:25:02.552388Z",
     "iopub.status.idle": "2021-09-10T00:25:02.554654Z",
     "shell.execute_reply": "2021-09-10T00:25:02.554253Z"
    },
    "papermill": {
     "duration": 0.035597,
     "end_time": "2021-09-10T00:25:02.554762",
     "exception": false,
     "start_time": "2021-09-10T00:25:02.519165",
     "status": "completed"
    },
    "tags": []
   },
   "outputs": [],
   "source": [
    "#hide\n",
    "# g.columns = ['date','country','cases']"
   ]
  },
  {
   "cell_type": "code",
   "execution_count": 27,
   "id": "tender-conversion",
   "metadata": {
    "execution": {
     "iopub.execute_input": "2021-09-10T00:25:02.618762Z",
     "iopub.status.busy": "2021-09-10T00:25:02.618250Z",
     "iopub.status.idle": "2021-09-10T00:25:02.620527Z",
     "shell.execute_reply": "2021-09-10T00:25:02.620123Z"
    },
    "papermill": {
     "duration": 0.035721,
     "end_time": "2021-09-10T00:25:02.620637",
     "exception": false,
     "start_time": "2021-09-10T00:25:02.584916",
     "status": "completed"
    },
    "tags": []
   },
   "outputs": [],
   "source": [
    "#hide\n",
    "# g['continent'] = g.country"
   ]
  },
  {
   "cell_type": "code",
   "execution_count": 28,
   "id": "substantial-wilderness",
   "metadata": {
    "execution": {
     "iopub.execute_input": "2021-09-10T00:25:02.685663Z",
     "iopub.status.busy": "2021-09-10T00:25:02.685121Z",
     "iopub.status.idle": "2021-09-10T00:25:02.686833Z",
     "shell.execute_reply": "2021-09-10T00:25:02.687237Z"
    },
    "papermill": {
     "duration": 0.036041,
     "end_time": "2021-09-10T00:25:02.687366",
     "exception": false,
     "start_time": "2021-09-10T00:25:02.651325",
     "status": "completed"
    },
    "tags": []
   },
   "outputs": [],
   "source": [
    "#hide\n",
    "# cols = list(g.columns.values)"
   ]
  },
  {
   "cell_type": "code",
   "execution_count": 29,
   "id": "solved-farming",
   "metadata": {
    "execution": {
     "iopub.execute_input": "2021-09-10T00:25:02.751577Z",
     "iopub.status.busy": "2021-09-10T00:25:02.751062Z",
     "iopub.status.idle": "2021-09-10T00:25:02.752908Z",
     "shell.execute_reply": "2021-09-10T00:25:02.753338Z"
    },
    "papermill": {
     "duration": 0.035816,
     "end_time": "2021-09-10T00:25:02.753468",
     "exception": false,
     "start_time": "2021-09-10T00:25:02.717652",
     "status": "completed"
    },
    "tags": []
   },
   "outputs": [],
   "source": [
    "#hide\n",
    "# cols.insert(0, cols.pop())"
   ]
  },
  {
   "cell_type": "code",
   "execution_count": 30,
   "id": "executed-adoption",
   "metadata": {
    "execution": {
     "iopub.execute_input": "2021-09-10T00:25:02.817603Z",
     "iopub.status.busy": "2021-09-10T00:25:02.817064Z",
     "iopub.status.idle": "2021-09-10T00:25:02.818753Z",
     "shell.execute_reply": "2021-09-10T00:25:02.819231Z"
    },
    "papermill": {
     "duration": 0.035524,
     "end_time": "2021-09-10T00:25:02.819354",
     "exception": false,
     "start_time": "2021-09-10T00:25:02.783830",
     "status": "completed"
    },
    "tags": []
   },
   "outputs": [],
   "source": [
    "#hide\n",
    "# g = g[cols]"
   ]
  },
  {
   "cell_type": "code",
   "execution_count": 31,
   "id": "subject-dublin",
   "metadata": {
    "execution": {
     "iopub.execute_input": "2021-09-10T00:25:02.883596Z",
     "iopub.status.busy": "2021-09-10T00:25:02.883090Z",
     "iopub.status.idle": "2021-09-10T00:25:02.884857Z",
     "shell.execute_reply": "2021-09-10T00:25:02.885356Z"
    },
    "papermill": {
     "duration": 0.035899,
     "end_time": "2021-09-10T00:25:02.885479",
     "exception": false,
     "start_time": "2021-09-10T00:25:02.849580",
     "status": "completed"
    },
    "tags": []
   },
   "outputs": [],
   "source": [
    "#hide\n",
    "# g['continent'] = g['continent'].map(mapping['map.continent'])"
   ]
  },
  {
   "cell_type": "code",
   "execution_count": 32,
   "id": "freelance-scout",
   "metadata": {
    "execution": {
     "iopub.execute_input": "2021-09-10T00:25:02.950320Z",
     "iopub.status.busy": "2021-09-10T00:25:02.949810Z",
     "iopub.status.idle": "2021-09-10T00:25:02.951516Z",
     "shell.execute_reply": "2021-09-10T00:25:02.951948Z"
    },
    "papermill": {
     "duration": 0.036164,
     "end_time": "2021-09-10T00:25:02.952076",
     "exception": false,
     "start_time": "2021-09-10T00:25:02.915912",
     "status": "completed"
    },
    "tags": []
   },
   "outputs": [],
   "source": [
    "#hide\n",
    "# g.head()"
   ]
  },
  {
   "cell_type": "code",
   "execution_count": 33,
   "id": "limited-engine",
   "metadata": {
    "execution": {
     "iopub.execute_input": "2021-09-10T00:25:03.016310Z",
     "iopub.status.busy": "2021-09-10T00:25:03.015808Z",
     "iopub.status.idle": "2021-09-10T00:25:03.018037Z",
     "shell.execute_reply": "2021-09-10T00:25:03.017634Z"
    },
    "papermill": {
     "duration": 0.035774,
     "end_time": "2021-09-10T00:25:03.018148",
     "exception": false,
     "start_time": "2021-09-10T00:25:02.982374",
     "status": "completed"
    },
    "tags": []
   },
   "outputs": [],
   "source": [
    "# hide\n",
    "# g['date'] = g['date'].astype('datetime64[ns]')"
   ]
  },
  {
   "cell_type": "code",
   "execution_count": 34,
   "id": "sophisticated-supervisor",
   "metadata": {
    "execution": {
     "iopub.execute_input": "2021-09-10T00:25:03.082227Z",
     "iopub.status.busy": "2021-09-10T00:25:03.081723Z",
     "iopub.status.idle": "2021-09-10T00:25:03.083991Z",
     "shell.execute_reply": "2021-09-10T00:25:03.083566Z"
    },
    "papermill": {
     "duration": 0.035595,
     "end_time": "2021-09-10T00:25:03.084098",
     "exception": false,
     "start_time": "2021-09-10T00:25:03.048503",
     "status": "completed"
    },
    "tags": []
   },
   "outputs": [],
   "source": [
    "#hide\n",
    "# g['date'] = g.date.dt.dayofyear"
   ]
  },
  {
   "cell_type": "code",
   "execution_count": 35,
   "id": "inside-dubai",
   "metadata": {
    "execution": {
     "iopub.execute_input": "2021-09-10T00:25:03.148151Z",
     "iopub.status.busy": "2021-09-10T00:25:03.147643Z",
     "iopub.status.idle": "2021-09-10T00:25:03.149472Z",
     "shell.execute_reply": "2021-09-10T00:25:03.149907Z"
    },
    "papermill": {
     "duration": 0.035764,
     "end_time": "2021-09-10T00:25:03.150029",
     "exception": false,
     "start_time": "2021-09-10T00:25:03.114265",
     "status": "completed"
    },
    "tags": []
   },
   "outputs": [],
   "source": [
    "#hide\n",
    "# g = g.rename(columns= {'continent':'group','country':'name','cases':'value'})"
   ]
  },
  {
   "cell_type": "code",
   "execution_count": 36,
   "id": "fleet-motorcycle",
   "metadata": {
    "execution": {
     "iopub.execute_input": "2021-09-10T00:25:03.214800Z",
     "iopub.status.busy": "2021-09-10T00:25:03.214290Z",
     "iopub.status.idle": "2021-09-10T00:25:03.216435Z",
     "shell.execute_reply": "2021-09-10T00:25:03.216002Z"
    },
    "papermill": {
     "duration": 0.03605,
     "end_time": "2021-09-10T00:25:03.216545",
     "exception": false,
     "start_time": "2021-09-10T00:25:03.180495",
     "status": "completed"
    },
    "tags": []
   },
   "outputs": [],
   "source": [
    "#hide\n",
    "# cols = ['name','group','day','value']"
   ]
  },
  {
   "cell_type": "code",
   "execution_count": 37,
   "id": "continued-sleeping",
   "metadata": {
    "execution": {
     "iopub.execute_input": "2021-09-10T00:25:03.281160Z",
     "iopub.status.busy": "2021-09-10T00:25:03.280649Z",
     "iopub.status.idle": "2021-09-10T00:25:03.282498Z",
     "shell.execute_reply": "2021-09-10T00:25:03.282927Z"
    },
    "papermill": {
     "duration": 0.036115,
     "end_time": "2021-09-10T00:25:03.283050",
     "exception": false,
     "start_time": "2021-09-10T00:25:03.246935",
     "status": "completed"
    },
    "tags": []
   },
   "outputs": [],
   "source": [
    "#hide\n",
    "# g.rename(columns= {'date':'day'},inplace = True)"
   ]
  },
  {
   "cell_type": "code",
   "execution_count": 38,
   "id": "major-fight",
   "metadata": {
    "execution": {
     "iopub.execute_input": "2021-09-10T00:25:03.346537Z",
     "iopub.status.busy": "2021-09-10T00:25:03.346038Z",
     "iopub.status.idle": "2021-09-10T00:25:03.349481Z",
     "shell.execute_reply": "2021-09-10T00:25:03.349000Z"
    },
    "papermill": {
     "duration": 0.036092,
     "end_time": "2021-09-10T00:25:03.349599",
     "exception": false,
     "start_time": "2021-09-10T00:25:03.313507",
     "status": "completed"
    },
    "tags": []
   },
   "outputs": [],
   "source": [
    "#hide\n",
    "# g = g[cols]"
   ]
  },
  {
   "cell_type": "code",
   "execution_count": 39,
   "id": "structured-mobile",
   "metadata": {
    "execution": {
     "iopub.execute_input": "2021-09-10T00:25:03.414437Z",
     "iopub.status.busy": "2021-09-10T00:25:03.413930Z",
     "iopub.status.idle": "2021-09-10T00:25:03.415723Z",
     "shell.execute_reply": "2021-09-10T00:25:03.416152Z"
    },
    "papermill": {
     "duration": 0.036362,
     "end_time": "2021-09-10T00:25:03.416279",
     "exception": false,
     "start_time": "2021-09-10T00:25:03.379917",
     "status": "completed"
    },
    "tags": []
   },
   "outputs": [],
   "source": [
    "# #hide\n",
    "# g = g[g.group.notna()]"
   ]
  },
  {
   "cell_type": "code",
   "execution_count": 40,
   "id": "determined-closing",
   "metadata": {
    "execution": {
     "iopub.execute_input": "2021-09-10T00:25:03.480782Z",
     "iopub.status.busy": "2021-09-10T00:25:03.480271Z",
     "iopub.status.idle": "2021-09-10T00:25:03.482132Z",
     "shell.execute_reply": "2021-09-10T00:25:03.482563Z"
    },
    "papermill": {
     "duration": 0.036053,
     "end_time": "2021-09-10T00:25:03.482689",
     "exception": false,
     "start_time": "2021-09-10T00:25:03.446636",
     "status": "completed"
    },
    "tags": []
   },
   "outputs": [],
   "source": [
    "# #hide\n",
    "# colors = dict(zip(\n",
    "#     [\"Oceania\", \"Europe\", \"Asia\", \"South America\", \"Middle East\", \"North America\", \"Africa\"],\n",
    "#     [\"#adb0ff\", \"#ffb3ff\", \"#90d595\", \"#e48381\", \"#aafbff\", \"#f7bb5f\", \"#eafb50\"]\n",
    "# ))\n",
    "# group_lk = g.set_index('name')['group'].to_dict()"
   ]
  },
  {
   "cell_type": "code",
   "execution_count": null,
   "id": "gross-drinking",
   "metadata": {
    "papermill": {
     "duration": 0.03065,
     "end_time": "2021-09-10T00:25:03.543748",
     "exception": false,
     "start_time": "2021-09-10T00:25:03.513098",
     "status": "completed"
    },
    "tags": []
   },
   "outputs": [],
   "source": []
  },
  {
   "cell_type": "code",
   "execution_count": 41,
   "id": "subject-macintosh",
   "metadata": {
    "execution": {
     "iopub.execute_input": "2021-09-10T00:25:03.609151Z",
     "iopub.status.busy": "2021-09-10T00:25:03.608625Z",
     "iopub.status.idle": "2021-09-10T00:25:03.610743Z",
     "shell.execute_reply": "2021-09-10T00:25:03.611146Z"
    },
    "papermill": {
     "duration": 0.036903,
     "end_time": "2021-09-10T00:25:03.611275",
     "exception": false,
     "start_time": "2021-09-10T00:25:03.574372",
     "status": "completed"
    },
    "tags": []
   },
   "outputs": [],
   "source": [
    "# #hide\n",
    "# fig, ax = plt.subplots(figsize=(15, 8))\n",
    "\n",
    "# def draw_barchart(current_day):\n",
    "#     dff = g[g['day'].eq(current_day)].sort_values(by='value', ascending=True).tail(10)\n",
    "#     ax.clear()\n",
    "#     ax.barh(dff['name'], dff['value'], color=[colors[group_lk[x]] for x in dff['name']])\n",
    "#     dx = dff['value'].max() / 200\n",
    "    \n",
    "#     for i, (value, name) in enumerate(zip(dff['value'], dff['name'])):\n",
    "#         ax.text(value-dx, i,     name,           size=14, weight=600, ha='right', va='bottom')\n",
    "#         ax.text(value-dx, i-.25, group_lk[name], size=10, color='#444444', ha='right', va='baseline')\n",
    "#         ax.text(value+dx, i,     f'{value:,.0f}',  size=14, ha='left',  va='center')\n",
    "#     ax.text(1, 0.4, current_day, transform=ax.transAxes, color='#777777', size=46, ha='right', weight=800)\n",
    "#     ax.text(0, 1.06, 'Population (thousands)', transform=ax.transAxes, size=12, color='#777777')\n",
    "#     ax.xaxis.set_major_formatter(ticker.StrMethodFormatter('{x:,.0f}'))\n",
    "#     ax.xaxis.set_ticks_position('top')\n",
    "#     ax.tick_params(axis='x', colors='#777777', labelsize=12)\n",
    "#     ax.set_yticks([])\n",
    "#     ax.margins(0, 0.01)\n",
    "#     ax.grid(which='major', axis='x', linestyle='-')\n",
    "#     ax.set_axisbelow(True)\n",
    "    \n",
    "#     ax.text(0, 1.15, 'Coronavirus',\n",
    "#             transform=ax.transAxes, size=24, weight=600, ha='left', va='top')\n",
    "# #     ax.text(1, 0, 'by @pratapvardhan; credit @jburnmurdoch', transform=ax.transAxes, color='#777777', ha='right',\n",
    "# #             bbox=dict(facecolor='white', alpha=0.8, edgecolor='white'))\n",
    "#     plt.box(False)"
   ]
  },
  {
   "cell_type": "code",
   "execution_count": 42,
   "id": "sexual-wages",
   "metadata": {
    "execution": {
     "iopub.execute_input": "2021-09-10T00:25:03.675704Z",
     "iopub.status.busy": "2021-09-10T00:25:03.675184Z",
     "iopub.status.idle": "2021-09-10T00:25:03.677133Z",
     "shell.execute_reply": "2021-09-10T00:25:03.677588Z"
    },
    "papermill": {
     "duration": 0.036081,
     "end_time": "2021-09-10T00:25:03.677717",
     "exception": false,
     "start_time": "2021-09-10T00:25:03.641636",
     "status": "completed"
    },
    "tags": []
   },
   "outputs": [],
   "source": [
    "# #hide_input\n",
    "# fig, ax = plt.subplots(figsize=(15, 8))\n",
    "# animator = animation.FuncAnimation(fig, draw_barchart, frames=range(g.day.values.min(), g.day.values.max()))\n",
    "# HTML(animator.to_jshtml())\n",
    "# # or use animator.to_html5_video() or animator.save() "
   ]
  },
  {
   "cell_type": "code",
   "execution_count": null,
   "id": "australian-container",
   "metadata": {
    "papermill": {
     "duration": 0.030345,
     "end_time": "2021-09-10T00:25:03.738544",
     "exception": false,
     "start_time": "2021-09-10T00:25:03.708199",
     "status": "completed"
    },
    "tags": []
   },
   "outputs": [],
   "source": []
  },
  {
   "cell_type": "code",
   "execution_count": null,
   "id": "mediterranean-pontiac",
   "metadata": {
    "papermill": {
     "duration": 0.030209,
     "end_time": "2021-09-10T00:25:03.798879",
     "exception": false,
     "start_time": "2021-09-10T00:25:03.768670",
     "status": "completed"
    },
    "tags": []
   },
   "outputs": [],
   "source": []
  },
  {
   "cell_type": "code",
   "execution_count": null,
   "id": "aging-legislature",
   "metadata": {
    "papermill": {
     "duration": 0.030306,
     "end_time": "2021-09-10T00:25:03.859793",
     "exception": false,
     "start_time": "2021-09-10T00:25:03.829487",
     "status": "completed"
    },
    "tags": []
   },
   "outputs": [],
   "source": []
  }
 ],
 "metadata": {
  "kernelspec": {
   "display_name": "Python 3",
   "language": "python",
   "name": "python3"
  },
  "language_info": {
   "codemirror_mode": {
    "name": "ipython",
    "version": 3
   },
   "file_extension": ".py",
   "mimetype": "text/x-python",
   "name": "python",
   "nbconvert_exporter": "python",
   "pygments_lexer": "ipython3",
   "version": "3.6.14"
  },
  "papermill": {
   "duration": 6.111902,
   "end_time": "2021-09-10T00:25:04.197415",
   "environment_variables": {},
   "exception": null,
   "input_path": "2020-03-21-covid19exp.ipynb",
   "output_path": "2020-03-21-covid19exp.ipynb",
   "parameters": {},
   "start_time": "2021-09-10T00:24:58.085513",
   "version": "2.0.0"
  }
 },
 "nbformat": 4,
 "nbformat_minor": 5
}