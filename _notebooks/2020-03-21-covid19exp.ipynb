{
 "cells": [
  {
   "cell_type": "markdown",
   "id": "muslim-click",
   "metadata": {
    "papermill": {
     "duration": 0.036618,
     "end_time": "2021-08-21T00:19:50.396446",
     "exception": false,
     "start_time": "2021-08-21T00:19:50.359828",
     "status": "completed"
    },
    "tags": []
   },
   "source": [
    "# COVID-19 Case Race\n",
    "> A race chart to see rising cases around the world\n",
    "\n",
    "- author: Hargun Oberoi\n",
    "- image: images/covid-overview.png\n",
    "- hide: false\n",
    "- badges: false"
   ]
  },
  {
   "cell_type": "code",
   "execution_count": 1,
   "id": "proof-material",
   "metadata": {
    "execution": {
     "iopub.execute_input": "2021-08-21T00:19:50.471064Z",
     "iopub.status.busy": "2021-08-21T00:19:50.470543Z",
     "iopub.status.idle": "2021-08-21T00:19:50.797124Z",
     "shell.execute_reply": "2021-08-21T00:19:50.796136Z"
    },
    "papermill": {
     "duration": 0.366759,
     "end_time": "2021-08-21T00:19:50.797253",
     "exception": false,
     "start_time": "2021-08-21T00:19:50.430494",
     "status": "completed"
    },
    "tags": []
   },
   "outputs": [],
   "source": [
    "#hide\n",
    "import numpy as np\n",
    "import pandas as pd\n",
    "from jinja2 import Template\n",
    "from IPython.display import HTML"
   ]
  },
  {
   "cell_type": "code",
   "execution_count": 2,
   "id": "developed-terminology",
   "metadata": {
    "execution": {
     "iopub.execute_input": "2021-08-21T00:19:50.866509Z",
     "iopub.status.busy": "2021-08-21T00:19:50.865996Z",
     "iopub.status.idle": "2021-08-21T00:19:50.868296Z",
     "shell.execute_reply": "2021-08-21T00:19:50.867858Z"
    },
    "papermill": {
     "duration": 0.038968,
     "end_time": "2021-08-21T00:19:50.868390",
     "exception": false,
     "start_time": "2021-08-21T00:19:50.829422",
     "status": "completed"
    },
    "tags": []
   },
   "outputs": [],
   "source": [
    "#hide\n",
    "\n",
    "# FETCH\n",
    "base_url = 'https://raw.githubusercontent.com/pratapvardhan/notebooks/master/covid19/'\n",
    "paths = {\n",
    "    'mapping': base_url + 'mapping_countries.csv',\n",
    "    'overview': base_url + 'overview.tpl'\n",
    "}"
   ]
  },
  {
   "cell_type": "code",
   "execution_count": 3,
   "id": "dynamic-saver",
   "metadata": {
    "execution": {
     "iopub.execute_input": "2021-08-21T00:19:50.940200Z",
     "iopub.status.busy": "2021-08-21T00:19:50.937840Z",
     "iopub.status.idle": "2021-08-21T00:19:50.943045Z",
     "shell.execute_reply": "2021-08-21T00:19:50.943738Z"
    },
    "papermill": {
     "duration": 0.045519,
     "end_time": "2021-08-21T00:19:50.943891",
     "exception": false,
     "start_time": "2021-08-21T00:19:50.898372",
     "status": "completed"
    },
    "tags": []
   },
   "outputs": [
    {
     "data": {
      "text/plain": [
       "'https://raw.githubusercontent.com/pratapvardhan/notebooks/master/covid19/mapping_countries.csv'"
      ]
     },
     "execution_count": 3,
     "metadata": {},
     "output_type": "execute_result"
    }
   ],
   "source": [
    "#hide\n",
    "paths['mapping']"
   ]
  },
  {
   "cell_type": "code",
   "execution_count": 4,
   "id": "urban-software",
   "metadata": {
    "execution": {
     "iopub.execute_input": "2021-08-21T00:19:51.010763Z",
     "iopub.status.busy": "2021-08-21T00:19:51.010253Z",
     "iopub.status.idle": "2021-08-21T00:19:51.012488Z",
     "shell.execute_reply": "2021-08-21T00:19:51.012923Z"
    },
    "papermill": {
     "duration": 0.036216,
     "end_time": "2021-08-21T00:19:51.013028",
     "exception": false,
     "start_time": "2021-08-21T00:19:50.976812",
     "status": "completed"
    },
    "tags": []
   },
   "outputs": [],
   "source": [
    "#hide\n",
    "def get_mappings(url):\n",
    "    df = pd.read_csv(url)\n",
    "    return {\n",
    "        'df': df,\n",
    "        'replace.country': dict(df.dropna(subset=['Name']).set_index('Country')['Name']),\n",
    "        'map.continent': dict(df.set_index('Name')['Continent'])\n",
    "    }"
   ]
  },
  {
   "cell_type": "code",
   "execution_count": 5,
   "id": "intimate-machinery",
   "metadata": {
    "execution": {
     "iopub.execute_input": "2021-08-21T00:19:51.079913Z",
     "iopub.status.busy": "2021-08-21T00:19:51.079228Z",
     "iopub.status.idle": "2021-08-21T00:19:51.106199Z",
     "shell.execute_reply": "2021-08-21T00:19:51.105680Z"
    },
    "papermill": {
     "duration": 0.062855,
     "end_time": "2021-08-21T00:19:51.106293",
     "exception": false,
     "start_time": "2021-08-21T00:19:51.043438",
     "status": "completed"
    },
    "tags": []
   },
   "outputs": [],
   "source": [
    "#hide\n",
    "mapping = get_mappings(paths['mapping'])"
   ]
  },
  {
   "cell_type": "code",
   "execution_count": 6,
   "id": "certified-tactics",
   "metadata": {
    "execution": {
     "iopub.execute_input": "2021-08-21T00:19:51.170577Z",
     "iopub.status.busy": "2021-08-21T00:19:51.170066Z",
     "iopub.status.idle": "2021-08-21T00:19:51.172388Z",
     "shell.execute_reply": "2021-08-21T00:19:51.171958Z"
    },
    "papermill": {
     "duration": 0.037013,
     "end_time": "2021-08-21T00:19:51.172480",
     "exception": false,
     "start_time": "2021-08-21T00:19:51.135467",
     "status": "completed"
    },
    "tags": []
   },
   "outputs": [],
   "source": [
    "#hide\n",
    "def get_template(path):\n",
    "    from urllib.parse import urlparse\n",
    "    if bool(urlparse(path).netloc):\n",
    "        from urllib.request import urlopen\n",
    "        return urlopen(path).read().decode('utf8')\n",
    "    return open(path).read()"
   ]
  },
  {
   "cell_type": "code",
   "execution_count": 7,
   "id": "realistic-blast",
   "metadata": {
    "execution": {
     "iopub.execute_input": "2021-08-21T00:19:51.237409Z",
     "iopub.status.busy": "2021-08-21T00:19:51.235596Z",
     "iopub.status.idle": "2021-08-21T00:19:51.240138Z",
     "shell.execute_reply": "2021-08-21T00:19:51.240590Z"
    },
    "papermill": {
     "duration": 0.038428,
     "end_time": "2021-08-21T00:19:51.240718",
     "exception": false,
     "start_time": "2021-08-21T00:19:51.202290",
     "status": "completed"
    },
    "tags": []
   },
   "outputs": [],
   "source": [
    "#hide\n",
    "def get_frame(name):\n",
    "    url = (\n",
    "        'https://raw.githubusercontent.com/CSSEGISandData/COVID-19/master/csse_covid_19_data/'\n",
    "        f'csse_covid_19_time_series/time_series_covid19_{name}_global.csv')\n",
    "    df = pd.read_csv(url)\n",
    "    # rename countries\n",
    "    df['Country/Region'] = df['Country/Region'].replace(mapping['replace.country'])\n",
    "    return df"
   ]
  },
  {
   "cell_type": "code",
   "execution_count": 8,
   "id": "affiliated-characterization",
   "metadata": {
    "execution": {
     "iopub.execute_input": "2021-08-21T00:19:51.306912Z",
     "iopub.status.busy": "2021-08-21T00:19:51.306369Z",
     "iopub.status.idle": "2021-08-21T00:19:51.308682Z",
     "shell.execute_reply": "2021-08-21T00:19:51.308174Z"
    },
    "papermill": {
     "duration": 0.037719,
     "end_time": "2021-08-21T00:19:51.308785",
     "exception": false,
     "start_time": "2021-08-21T00:19:51.271066",
     "status": "completed"
    },
    "tags": []
   },
   "outputs": [],
   "source": [
    "#hide\n",
    "def get_dates(df):\n",
    "    dt_cols = df.columns[~df.columns.isin(['Province/State', 'Country/Region', 'Lat', 'Long'])]\n",
    "    LAST_DATE_I = -1\n",
    "    # sometimes last column may be empty, then go backwards\n",
    "    for i in range(-1, -len(dt_cols), -1):\n",
    "        if not df[dt_cols[i]].fillna(0).eq(0).all():\n",
    "            LAST_DATE_I = i\n",
    "            break\n",
    "    return LAST_DATE_I, dt_cols"
   ]
  },
  {
   "cell_type": "code",
   "execution_count": 9,
   "id": "recent-optimization",
   "metadata": {
    "execution": {
     "iopub.execute_input": "2021-08-21T00:19:51.374310Z",
     "iopub.status.busy": "2021-08-21T00:19:51.373286Z",
     "iopub.status.idle": "2021-08-21T00:19:51.666108Z",
     "shell.execute_reply": "2021-08-21T00:19:51.665627Z"
    },
    "papermill": {
     "duration": 0.327318,
     "end_time": "2021-08-21T00:19:51.666227",
     "exception": false,
     "start_time": "2021-08-21T00:19:51.338909",
     "status": "completed"
    },
    "tags": []
   },
   "outputs": [],
   "source": [
    "#hide\n",
    "COL_REGION = 'Country/Region'\n",
    "# Confirmed, Recovered, Deaths\n",
    "df = get_frame('confirmed')\n",
    "# dft_: timeseries, dfc_: today country agg\n",
    "dft_cases = df\n",
    "dft_deaths = get_frame('deaths')\n",
    "dft_recovered = get_frame('recovered')\n",
    "LAST_DATE_I, dt_cols = get_dates(df)"
   ]
  },
  {
   "cell_type": "code",
   "execution_count": 10,
   "id": "absolute-copper",
   "metadata": {
    "execution": {
     "iopub.execute_input": "2021-08-21T00:19:51.737242Z",
     "iopub.status.busy": "2021-08-21T00:19:51.736681Z",
     "iopub.status.idle": "2021-08-21T00:19:51.739567Z",
     "shell.execute_reply": "2021-08-21T00:19:51.739125Z"
    },
    "papermill": {
     "duration": 0.041336,
     "end_time": "2021-08-21T00:19:51.739664",
     "exception": false,
     "start_time": "2021-08-21T00:19:51.698328",
     "status": "completed"
    },
    "tags": []
   },
   "outputs": [],
   "source": [
    "#hide\n",
    "LAST_DATE_I, dt_cols = get_dates(df)\n",
    "dt_today =dt_cols[LAST_DATE_I]\n",
    "# dt_5day = dt_cols[LAST_DATE_I - 5]\n",
    "dt_yday = dt_cols[LAST_DATE_I - 1]"
   ]
  },
  {
   "cell_type": "code",
   "execution_count": 11,
   "id": "restricted-sheriff",
   "metadata": {
    "execution": {
     "iopub.execute_input": "2021-08-21T00:19:51.810748Z",
     "iopub.status.busy": "2021-08-21T00:19:51.810223Z",
     "iopub.status.idle": "2021-08-21T00:19:51.816708Z",
     "shell.execute_reply": "2021-08-21T00:19:51.817156Z"
    },
    "papermill": {
     "duration": 0.04674,
     "end_time": "2021-08-21T00:19:51.817265",
     "exception": false,
     "start_time": "2021-08-21T00:19:51.770525",
     "status": "completed"
    },
    "tags": []
   },
   "outputs": [],
   "source": [
    "#hide\n",
    "dfc_cases = dft_cases.groupby(COL_REGION)[dt_today].sum()\n",
    "dfc_deaths = dft_deaths.groupby(COL_REGION)[dt_today].sum()\n",
    "# dfp_cases = dft_cases.groupby(COL_REGION)[dt_5day].sum()\n",
    "# dfp_deaths = dft_deaths.groupby(COL_REGION)[dt_5day].sum()\n",
    "dfp_cases = dft_cases.groupby(COL_REGION)[dt_yday].sum()\n",
    "dfp_deaths = dft_deaths.groupby(COL_REGION)[dt_yday].sum()"
   ]
  },
  {
   "cell_type": "code",
   "execution_count": 12,
   "id": "deluxe-hepatitis",
   "metadata": {
    "execution": {
     "iopub.execute_input": "2021-08-21T00:19:51.883501Z",
     "iopub.status.busy": "2021-08-21T00:19:51.882976Z",
     "iopub.status.idle": "2021-08-21T00:19:51.887865Z",
     "shell.execute_reply": "2021-08-21T00:19:51.887421Z"
    },
    "papermill": {
     "duration": 0.039966,
     "end_time": "2021-08-21T00:19:51.887961",
     "exception": false,
     "start_time": "2021-08-21T00:19:51.847995",
     "status": "completed"
    },
    "tags": []
   },
   "outputs": [],
   "source": [
    "#hide\n",
    "df_table = (pd.DataFrame(dict(Cases = dfc_cases, Deaths = dfc_deaths, PCases = dfp_cases, PDeaths = dfp_deaths))\n",
    "            .sort_values(by = ['Cases','Deaths'], ascending = [False, False])\n",
    "            .reset_index())"
   ]
  },
  {
   "cell_type": "code",
   "execution_count": 13,
   "id": "educational-chancellor",
   "metadata": {
    "execution": {
     "iopub.execute_input": "2021-08-21T00:19:51.960802Z",
     "iopub.status.busy": "2021-08-21T00:19:51.960277Z",
     "iopub.status.idle": "2021-08-21T00:19:51.973000Z",
     "shell.execute_reply": "2021-08-21T00:19:51.973485Z"
    },
    "papermill": {
     "duration": 0.054203,
     "end_time": "2021-08-21T00:19:51.973594",
     "exception": false,
     "start_time": "2021-08-21T00:19:51.919391",
     "status": "completed"
    },
    "tags": []
   },
   "outputs": [
    {
     "data": {
      "text/html": [
       "<div>\n",
       "<style scoped>\n",
       "    .dataframe tbody tr th:only-of-type {\n",
       "        vertical-align: middle;\n",
       "    }\n",
       "\n",
       "    .dataframe tbody tr th {\n",
       "        vertical-align: top;\n",
       "    }\n",
       "\n",
       "    .dataframe thead th {\n",
       "        text-align: right;\n",
       "    }\n",
       "</style>\n",
       "<table border=\"1\" class=\"dataframe\">\n",
       "  <thead>\n",
       "    <tr style=\"text-align: right;\">\n",
       "      <th></th>\n",
       "      <th>Country/Region</th>\n",
       "      <th>Cases</th>\n",
       "      <th>Deaths</th>\n",
       "      <th>PCases</th>\n",
       "      <th>PDeaths</th>\n",
       "      <th>Cases (+)</th>\n",
       "      <th>Deaths (+)</th>\n",
       "      <th>Fatality Rate</th>\n",
       "      <th>Continent</th>\n",
       "    </tr>\n",
       "  </thead>\n",
       "  <tbody>\n",
       "    <tr>\n",
       "      <th>0</th>\n",
       "      <td>US</td>\n",
       "      <td>37294141</td>\n",
       "      <td>625166</td>\n",
       "      <td>37155669</td>\n",
       "      <td>624258</td>\n",
       "      <td>138472</td>\n",
       "      <td>908</td>\n",
       "      <td>1.68</td>\n",
       "      <td>North America</td>\n",
       "    </tr>\n",
       "    <tr>\n",
       "      <th>1</th>\n",
       "      <td>India</td>\n",
       "      <td>32358829</td>\n",
       "      <td>433589</td>\n",
       "      <td>32322258</td>\n",
       "      <td>433049</td>\n",
       "      <td>36571</td>\n",
       "      <td>540</td>\n",
       "      <td>1.34</td>\n",
       "      <td>Asia</td>\n",
       "    </tr>\n",
       "    <tr>\n",
       "      <th>2</th>\n",
       "      <td>Brazil</td>\n",
       "      <td>20494212</td>\n",
       "      <td>572641</td>\n",
       "      <td>20457897</td>\n",
       "      <td>571662</td>\n",
       "      <td>36315</td>\n",
       "      <td>979</td>\n",
       "      <td>2.79</td>\n",
       "      <td>South America</td>\n",
       "    </tr>\n",
       "    <tr>\n",
       "      <th>3</th>\n",
       "      <td>France</td>\n",
       "      <td>6636833</td>\n",
       "      <td>113376</td>\n",
       "      <td>6611444</td>\n",
       "      <td>113239</td>\n",
       "      <td>25389</td>\n",
       "      <td>137</td>\n",
       "      <td>1.71</td>\n",
       "      <td>Europe</td>\n",
       "    </tr>\n",
       "    <tr>\n",
       "      <th>4</th>\n",
       "      <td>Russia</td>\n",
       "      <td>6592705</td>\n",
       "      <td>170716</td>\n",
       "      <td>6572246</td>\n",
       "      <td>169948</td>\n",
       "      <td>20459</td>\n",
       "      <td>768</td>\n",
       "      <td>2.59</td>\n",
       "      <td>Europe</td>\n",
       "    </tr>\n",
       "  </tbody>\n",
       "</table>\n",
       "</div>"
      ],
      "text/plain": [
       "  Country/Region     Cases  Deaths    PCases  PDeaths  Cases (+)  Deaths (+)  \\\n",
       "0             US  37294141  625166  37155669   624258     138472         908   \n",
       "1          India  32358829  433589  32322258   433049      36571         540   \n",
       "2         Brazil  20494212  572641  20457897   571662      36315         979   \n",
       "3         France   6636833  113376   6611444   113239      25389         137   \n",
       "4         Russia   6592705  170716   6572246   169948      20459         768   \n",
       "\n",
       "   Fatality Rate      Continent  \n",
       "0           1.68  North America  \n",
       "1           1.34           Asia  \n",
       "2           2.79  South America  \n",
       "3           1.71         Europe  \n",
       "4           2.59         Europe  "
      ]
     },
     "execution_count": 13,
     "metadata": {},
     "output_type": "execute_result"
    }
   ],
   "source": [
    "#hide\n",
    "for c in 'Cases, Deaths'.split(', '):\n",
    "    df_table[f'{c} (+)'] = (df_table[c] - df_table[f'P{c}']).clip(0)\n",
    "    #Clip ça veut dire, les chiffres negatif sont interdit\n",
    "df_table['Fatality Rate'] = (100* df_table['Deaths']/ df_table['Cases']).round(2)\n",
    "df_table['Continent'] = df_table['Country/Region'].map(mapping['map.continent'])\n",
    "df_table.head(5)"
   ]
  },
  {
   "cell_type": "code",
   "execution_count": 14,
   "id": "aboriginal-bulgaria",
   "metadata": {
    "execution": {
     "iopub.execute_input": "2021-08-21T00:19:52.039268Z",
     "iopub.status.busy": "2021-08-21T00:19:52.038720Z",
     "iopub.status.idle": "2021-08-21T00:19:52.041320Z",
     "shell.execute_reply": "2021-08-21T00:19:52.040877Z"
    },
    "papermill": {
     "duration": 0.037314,
     "end_time": "2021-08-21T00:19:52.041416",
     "exception": false,
     "start_time": "2021-08-21T00:19:52.004102",
     "status": "completed"
    },
    "tags": []
   },
   "outputs": [],
   "source": [
    "#hide\n",
    "#delete problematic countries from table\n",
    "df_table = df_table[~df_table['Country/Region'].isin(['Cape Verde', 'Cruise Ship', 'Kosovo'])]"
   ]
  },
  {
   "cell_type": "code",
   "execution_count": 15,
   "id": "fantastic-effect",
   "metadata": {
    "execution": {
     "iopub.execute_input": "2021-08-21T00:19:52.110481Z",
     "iopub.status.busy": "2021-08-21T00:19:52.109954Z",
     "iopub.status.idle": "2021-08-21T00:19:52.128087Z",
     "shell.execute_reply": "2021-08-21T00:19:52.128534Z"
    },
    "papermill": {
     "duration": 0.054969,
     "end_time": "2021-08-21T00:19:52.128668",
     "exception": false,
     "start_time": "2021-08-21T00:19:52.073699",
     "status": "completed"
    },
    "tags": []
   },
   "outputs": [
    {
     "data": {
      "text/html": [
       "<div>\n",
       "<style scoped>\n",
       "    .dataframe tbody tr th:only-of-type {\n",
       "        vertical-align: middle;\n",
       "    }\n",
       "\n",
       "    .dataframe tbody tr th {\n",
       "        vertical-align: top;\n",
       "    }\n",
       "\n",
       "    .dataframe thead th {\n",
       "        text-align: right;\n",
       "    }\n",
       "</style>\n",
       "<table border=\"1\" class=\"dataframe\">\n",
       "  <thead>\n",
       "    <tr style=\"text-align: right;\">\n",
       "      <th></th>\n",
       "      <th>Country/Region</th>\n",
       "      <th>Cases</th>\n",
       "      <th>Deaths</th>\n",
       "      <th>PCases</th>\n",
       "      <th>PDeaths</th>\n",
       "      <th>Cases (+)</th>\n",
       "      <th>Deaths (+)</th>\n",
       "      <th>Fatality Rate</th>\n",
       "      <th>Continent</th>\n",
       "    </tr>\n",
       "  </thead>\n",
       "  <tbody>\n",
       "    <tr>\n",
       "      <th>0</th>\n",
       "      <td>US</td>\n",
       "      <td>37294141</td>\n",
       "      <td>625166</td>\n",
       "      <td>37155669</td>\n",
       "      <td>624258</td>\n",
       "      <td>138472</td>\n",
       "      <td>908</td>\n",
       "      <td>1.7</td>\n",
       "      <td>North America</td>\n",
       "    </tr>\n",
       "    <tr>\n",
       "      <th>1</th>\n",
       "      <td>India</td>\n",
       "      <td>32358829</td>\n",
       "      <td>433589</td>\n",
       "      <td>32322258</td>\n",
       "      <td>433049</td>\n",
       "      <td>36571</td>\n",
       "      <td>540</td>\n",
       "      <td>1.3</td>\n",
       "      <td>Asia</td>\n",
       "    </tr>\n",
       "    <tr>\n",
       "      <th>2</th>\n",
       "      <td>Brazil</td>\n",
       "      <td>20494212</td>\n",
       "      <td>572641</td>\n",
       "      <td>20457897</td>\n",
       "      <td>571662</td>\n",
       "      <td>36315</td>\n",
       "      <td>979</td>\n",
       "      <td>2.8</td>\n",
       "      <td>South America</td>\n",
       "    </tr>\n",
       "    <tr>\n",
       "      <th>3</th>\n",
       "      <td>France</td>\n",
       "      <td>6636833</td>\n",
       "      <td>113376</td>\n",
       "      <td>6611444</td>\n",
       "      <td>113239</td>\n",
       "      <td>25389</td>\n",
       "      <td>137</td>\n",
       "      <td>1.7</td>\n",
       "      <td>Europe</td>\n",
       "    </tr>\n",
       "    <tr>\n",
       "      <th>4</th>\n",
       "      <td>Russia</td>\n",
       "      <td>6592705</td>\n",
       "      <td>170716</td>\n",
       "      <td>6572246</td>\n",
       "      <td>169948</td>\n",
       "      <td>20459</td>\n",
       "      <td>768</td>\n",
       "      <td>2.6</td>\n",
       "      <td>Europe</td>\n",
       "    </tr>\n",
       "  </tbody>\n",
       "</table>\n",
       "</div>"
      ],
      "text/plain": [
       "  Country/Region     Cases  Deaths    PCases  PDeaths  Cases (+)  Deaths (+)  \\\n",
       "0             US  37294141  625166  37155669   624258     138472         908   \n",
       "1          India  32358829  433589  32322258   433049      36571         540   \n",
       "2         Brazil  20494212  572641  20457897   571662      36315         979   \n",
       "3         France   6636833  113376   6611444   113239      25389         137   \n",
       "4         Russia   6592705  170716   6572246   169948      20459         768   \n",
       "\n",
       "   Fatality Rate      Continent  \n",
       "0            1.7  North America  \n",
       "1            1.3           Asia  \n",
       "2            2.8  South America  \n",
       "3            1.7         Europe  \n",
       "4            2.6         Europe  "
      ]
     },
     "execution_count": 15,
     "metadata": {},
     "output_type": "execute_result"
    }
   ],
   "source": [
    "#hide\n",
    "df_table = (pd.DataFrame(dict(Cases=dfc_cases, Deaths=dfc_deaths, PCases=dfp_cases, PDeaths=dfp_deaths))\n",
    "             .sort_values(by=['Cases', 'Deaths'], ascending=[False, False])\n",
    "             .reset_index())\n",
    "df_table.rename(columns={'index': 'Country/Region'}, inplace=True)\n",
    "for c in 'Cases, Deaths'.split(', '):\n",
    "    df_table[f'{c} (+)'] = (df_table[c] - df_table[f'P{c}']).clip(0)  # DATA BUG\n",
    "df_table['Fatality Rate'] = (100 * df_table['Deaths'] / df_table['Cases']).round(1)\n",
    "df_table['Continent'] = df_table['Country/Region'].map(mapping['map.continent'])\n",
    "df_table.head(5)"
   ]
  },
  {
   "cell_type": "code",
   "execution_count": 16,
   "id": "fewer-occasion",
   "metadata": {
    "execution": {
     "iopub.execute_input": "2021-08-21T00:19:52.195315Z",
     "iopub.status.busy": "2021-08-21T00:19:52.194794Z",
     "iopub.status.idle": "2021-08-21T00:19:52.197484Z",
     "shell.execute_reply": "2021-08-21T00:19:52.198042Z"
    },
    "papermill": {
     "duration": 0.037674,
     "end_time": "2021-08-21T00:19:52.198215",
     "exception": false,
     "start_time": "2021-08-21T00:19:52.160541",
     "status": "completed"
    },
    "tags": []
   },
   "outputs": [],
   "source": [
    "#hide\n",
    "#delete problematic countries from table\n",
    "df_table = df_table[~df_table['Country/Region'].isin(['Cape Verde', 'Cruise Ship', 'Kosovo'])]"
   ]
  },
  {
   "cell_type": "code",
   "execution_count": 17,
   "id": "related-center",
   "metadata": {
    "execution": {
     "iopub.execute_input": "2021-08-21T00:19:52.276051Z",
     "iopub.status.busy": "2021-08-21T00:19:52.275495Z",
     "iopub.status.idle": "2021-08-21T00:19:52.283434Z",
     "shell.execute_reply": "2021-08-21T00:19:52.283914Z"
    },
    "papermill": {
     "duration": 0.054563,
     "end_time": "2021-08-21T00:19:52.284092",
     "exception": false,
     "start_time": "2021-08-21T00:19:52.229529",
     "status": "completed"
    },
    "tags": []
   },
   "outputs": [],
   "source": [
    "#hide\n",
    "metrics = [df_table.columns[index] for index in [1,2,5,6]]\n",
    "# s_china = df_table[df_table['Country/Region'].eq('China')][metrics].sum().add_prefix('China ')\n",
    "s_us = df_table[df_table['Country/Region'].eq('US')][metrics].sum().add_prefix('US ')\n",
    "s_eu = df_table[df_table['Continent'].eq('Europe')][metrics].sum().add_prefix('EU ')\n",
    "s_ind = df_table[df_table['Country/Region'].eq('India')][metrics].sum().add_prefix('India ')\n",
    "summary = {'updated': pd.to_datetime(dt_today), 'since': pd.to_datetime(dt_yday)}\n",
    "summary = {'updated': pd.to_datetime(dt_today), 'since': pd.to_datetime(dt_yday)}\n",
    "summary = {**summary, **df_table[metrics].sum(), **s_ind, **s_us, **s_eu}"
   ]
  },
  {
   "cell_type": "code",
   "execution_count": 18,
   "id": "engaging-syndrome",
   "metadata": {
    "execution": {
     "iopub.execute_input": "2021-08-21T00:19:52.354749Z",
     "iopub.status.busy": "2021-08-21T00:19:52.354183Z",
     "iopub.status.idle": "2021-08-21T00:19:52.366284Z",
     "shell.execute_reply": "2021-08-21T00:19:52.365819Z"
    },
    "papermill": {
     "duration": 0.04936,
     "end_time": "2021-08-21T00:19:52.366381",
     "exception": false,
     "start_time": "2021-08-21T00:19:52.317021",
     "status": "completed"
    },
    "tags": []
   },
   "outputs": [],
   "source": [
    "#hide\n",
    "dft_ct_new_cases = dft_cases.groupby(COL_REGION)[dt_cols].sum().diff(axis=1).fillna(0).astype(int)"
   ]
  },
  {
   "cell_type": "code",
   "execution_count": 19,
   "id": "neutral-assignment",
   "metadata": {
    "execution": {
     "iopub.execute_input": "2021-08-21T00:19:52.433460Z",
     "iopub.status.busy": "2021-08-21T00:19:52.432938Z",
     "iopub.status.idle": "2021-08-21T00:19:52.436657Z",
     "shell.execute_reply": "2021-08-21T00:19:52.437138Z"
    },
    "papermill": {
     "duration": 0.039606,
     "end_time": "2021-08-21T00:19:52.437243",
     "exception": false,
     "start_time": "2021-08-21T00:19:52.397637",
     "status": "completed"
    },
    "tags": []
   },
   "outputs": [],
   "source": [
    "#hide\n",
    "everydaycases = dft_ct_new_cases.cumsum(axis=1)"
   ]
  },
  {
   "cell_type": "code",
   "execution_count": 20,
   "id": "parliamentary-calgary",
   "metadata": {
    "execution": {
     "iopub.execute_input": "2021-08-21T00:19:52.502994Z",
     "iopub.status.busy": "2021-08-21T00:19:52.502485Z",
     "iopub.status.idle": "2021-08-21T00:19:53.036398Z",
     "shell.execute_reply": "2021-08-21T00:19:53.036824Z"
    },
    "papermill": {
     "duration": 0.567987,
     "end_time": "2021-08-21T00:19:53.036973",
     "exception": false,
     "start_time": "2021-08-21T00:19:52.468986",
     "status": "completed"
    },
    "tags": []
   },
   "outputs": [],
   "source": [
    "#hide\n",
    "import pandas as pd\n",
    "import matplotlib.pyplot as plt\n",
    "import matplotlib.ticker as ticker\n",
    "import matplotlib.animation as animation\n",
    "from IPython.display import HTML"
   ]
  },
  {
   "cell_type": "code",
   "execution_count": 21,
   "id": "lasting-extraction",
   "metadata": {
    "execution": {
     "iopub.execute_input": "2021-08-21T00:19:53.103635Z",
     "iopub.status.busy": "2021-08-21T00:19:53.103126Z",
     "iopub.status.idle": "2021-08-21T00:19:53.107774Z",
     "shell.execute_reply": "2021-08-21T00:19:53.108259Z"
    },
    "papermill": {
     "duration": 0.039862,
     "end_time": "2021-08-21T00:19:53.108367",
     "exception": false,
     "start_time": "2021-08-21T00:19:53.068505",
     "status": "completed"
    },
    "tags": []
   },
   "outputs": [],
   "source": [
    "#hide\n",
    "t = everydaycases.stack()"
   ]
  },
  {
   "cell_type": "code",
   "execution_count": 22,
   "id": "premier-sleeve",
   "metadata": {
    "execution": {
     "iopub.execute_input": "2021-08-21T00:19:53.172587Z",
     "iopub.status.busy": "2021-08-21T00:19:53.172065Z",
     "iopub.status.idle": "2021-08-21T00:19:53.179987Z",
     "shell.execute_reply": "2021-08-21T00:19:53.179401Z"
    },
    "papermill": {
     "duration": 0.041737,
     "end_time": "2021-08-21T00:19:53.180080",
     "exception": false,
     "start_time": "2021-08-21T00:19:53.138343",
     "status": "completed"
    },
    "tags": []
   },
   "outputs": [],
   "source": [
    "#hide\n",
    "g = t.reset_index(['Country/Region'])"
   ]
  },
  {
   "cell_type": "code",
   "execution_count": 23,
   "id": "distributed-pittsburgh",
   "metadata": {
    "execution": {
     "iopub.execute_input": "2021-08-21T00:19:53.244060Z",
     "iopub.status.busy": "2021-08-21T00:19:53.243554Z",
     "iopub.status.idle": "2021-08-21T00:19:53.245813Z",
     "shell.execute_reply": "2021-08-21T00:19:53.245386Z"
    },
    "papermill": {
     "duration": 0.036033,
     "end_time": "2021-08-21T00:19:53.245910",
     "exception": false,
     "start_time": "2021-08-21T00:19:53.209877",
     "status": "completed"
    },
    "tags": []
   },
   "outputs": [],
   "source": [
    "#hide\n",
    "g.index.name = 'date'"
   ]
  },
  {
   "cell_type": "code",
   "execution_count": 24,
   "id": "naked-donor",
   "metadata": {
    "execution": {
     "iopub.execute_input": "2021-08-21T00:19:53.311838Z",
     "iopub.status.busy": "2021-08-21T00:19:53.311331Z",
     "iopub.status.idle": "2021-08-21T00:19:53.313181Z",
     "shell.execute_reply": "2021-08-21T00:19:53.313592Z"
    },
    "papermill": {
     "duration": 0.037083,
     "end_time": "2021-08-21T00:19:53.313697",
     "exception": false,
     "start_time": "2021-08-21T00:19:53.276614",
     "status": "completed"
    },
    "tags": []
   },
   "outputs": [],
   "source": [
    "# #hide\n",
    "# g = g.reset_index(['date'])"
   ]
  },
  {
   "cell_type": "code",
   "execution_count": 25,
   "id": "incomplete-mustang",
   "metadata": {
    "execution": {
     "iopub.execute_input": "2021-08-21T00:19:53.377987Z",
     "iopub.status.busy": "2021-08-21T00:19:53.377453Z",
     "iopub.status.idle": "2021-08-21T00:19:53.379808Z",
     "shell.execute_reply": "2021-08-21T00:19:53.380275Z"
    },
    "papermill": {
     "duration": 0.036673,
     "end_time": "2021-08-21T00:19:53.380379",
     "exception": false,
     "start_time": "2021-08-21T00:19:53.343706",
     "status": "completed"
    },
    "tags": []
   },
   "outputs": [],
   "source": [
    "#hide\n",
    "# g.head()"
   ]
  },
  {
   "cell_type": "code",
   "execution_count": 26,
   "id": "specific-kruger",
   "metadata": {
    "execution": {
     "iopub.execute_input": "2021-08-21T00:19:53.443915Z",
     "iopub.status.busy": "2021-08-21T00:19:53.443409Z",
     "iopub.status.idle": "2021-08-21T00:19:53.445248Z",
     "shell.execute_reply": "2021-08-21T00:19:53.445660Z"
    },
    "papermill": {
     "duration": 0.035682,
     "end_time": "2021-08-21T00:19:53.445783",
     "exception": false,
     "start_time": "2021-08-21T00:19:53.410101",
     "status": "completed"
    },
    "tags": []
   },
   "outputs": [],
   "source": [
    "#hide\n",
    "# g.columns = ['date','country','cases']"
   ]
  },
  {
   "cell_type": "code",
   "execution_count": 27,
   "id": "tender-conversion",
   "metadata": {
    "execution": {
     "iopub.execute_input": "2021-08-21T00:19:53.516136Z",
     "iopub.status.busy": "2021-08-21T00:19:53.515422Z",
     "iopub.status.idle": "2021-08-21T00:19:53.518158Z",
     "shell.execute_reply": "2021-08-21T00:19:53.517698Z"
    },
    "papermill": {
     "duration": 0.041823,
     "end_time": "2021-08-21T00:19:53.518256",
     "exception": false,
     "start_time": "2021-08-21T00:19:53.476433",
     "status": "completed"
    },
    "tags": []
   },
   "outputs": [],
   "source": [
    "#hide\n",
    "# g['continent'] = g.country"
   ]
  },
  {
   "cell_type": "code",
   "execution_count": 28,
   "id": "substantial-wilderness",
   "metadata": {
    "execution": {
     "iopub.execute_input": "2021-08-21T00:19:53.582548Z",
     "iopub.status.busy": "2021-08-21T00:19:53.582048Z",
     "iopub.status.idle": "2021-08-21T00:19:53.584271Z",
     "shell.execute_reply": "2021-08-21T00:19:53.583846Z"
    },
    "papermill": {
     "duration": 0.034836,
     "end_time": "2021-08-21T00:19:53.584370",
     "exception": false,
     "start_time": "2021-08-21T00:19:53.549534",
     "status": "completed"
    },
    "tags": []
   },
   "outputs": [],
   "source": [
    "#hide\n",
    "# cols = list(g.columns.values)"
   ]
  },
  {
   "cell_type": "code",
   "execution_count": 29,
   "id": "solved-farming",
   "metadata": {
    "execution": {
     "iopub.execute_input": "2021-08-21T00:19:53.649834Z",
     "iopub.status.busy": "2021-08-21T00:19:53.649305Z",
     "iopub.status.idle": "2021-08-21T00:19:53.651652Z",
     "shell.execute_reply": "2021-08-21T00:19:53.651222Z"
    },
    "papermill": {
     "duration": 0.03613,
     "end_time": "2021-08-21T00:19:53.651746",
     "exception": false,
     "start_time": "2021-08-21T00:19:53.615616",
     "status": "completed"
    },
    "tags": []
   },
   "outputs": [],
   "source": [
    "#hide\n",
    "# cols.insert(0, cols.pop())"
   ]
  },
  {
   "cell_type": "code",
   "execution_count": 30,
   "id": "executed-adoption",
   "metadata": {
    "execution": {
     "iopub.execute_input": "2021-08-21T00:19:53.716601Z",
     "iopub.status.busy": "2021-08-21T00:19:53.716094Z",
     "iopub.status.idle": "2021-08-21T00:19:53.717982Z",
     "shell.execute_reply": "2021-08-21T00:19:53.718373Z"
    },
    "papermill": {
     "duration": 0.035713,
     "end_time": "2021-08-21T00:19:53.718481",
     "exception": false,
     "start_time": "2021-08-21T00:19:53.682768",
     "status": "completed"
    },
    "tags": []
   },
   "outputs": [],
   "source": [
    "#hide\n",
    "# g = g[cols]"
   ]
  },
  {
   "cell_type": "code",
   "execution_count": 31,
   "id": "subject-dublin",
   "metadata": {
    "execution": {
     "iopub.execute_input": "2021-08-21T00:19:53.784875Z",
     "iopub.status.busy": "2021-08-21T00:19:53.784250Z",
     "iopub.status.idle": "2021-08-21T00:19:53.786531Z",
     "shell.execute_reply": "2021-08-21T00:19:53.787181Z"
    },
    "papermill": {
     "duration": 0.038071,
     "end_time": "2021-08-21T00:19:53.787328",
     "exception": false,
     "start_time": "2021-08-21T00:19:53.749257",
     "status": "completed"
    },
    "tags": []
   },
   "outputs": [],
   "source": [
    "#hide\n",
    "# g['continent'] = g['continent'].map(mapping['map.continent'])"
   ]
  },
  {
   "cell_type": "code",
   "execution_count": 32,
   "id": "freelance-scout",
   "metadata": {
    "execution": {
     "iopub.execute_input": "2021-08-21T00:19:53.854689Z",
     "iopub.status.busy": "2021-08-21T00:19:53.854184Z",
     "iopub.status.idle": "2021-08-21T00:19:53.856852Z",
     "shell.execute_reply": "2021-08-21T00:19:53.856378Z"
    },
    "papermill": {
     "duration": 0.035717,
     "end_time": "2021-08-21T00:19:53.856945",
     "exception": false,
     "start_time": "2021-08-21T00:19:53.821228",
     "status": "completed"
    },
    "tags": []
   },
   "outputs": [],
   "source": [
    "#hide\n",
    "# g.head()"
   ]
  },
  {
   "cell_type": "code",
   "execution_count": 33,
   "id": "limited-engine",
   "metadata": {
    "execution": {
     "iopub.execute_input": "2021-08-21T00:19:53.925340Z",
     "iopub.status.busy": "2021-08-21T00:19:53.924647Z",
     "iopub.status.idle": "2021-08-21T00:19:53.927152Z",
     "shell.execute_reply": "2021-08-21T00:19:53.926748Z"
    },
    "papermill": {
     "duration": 0.037859,
     "end_time": "2021-08-21T00:19:53.927246",
     "exception": false,
     "start_time": "2021-08-21T00:19:53.889387",
     "status": "completed"
    },
    "tags": []
   },
   "outputs": [],
   "source": [
    "# hide\n",
    "# g['date'] = g['date'].astype('datetime64[ns]')"
   ]
  },
  {
   "cell_type": "code",
   "execution_count": 34,
   "id": "sophisticated-supervisor",
   "metadata": {
    "execution": {
     "iopub.execute_input": "2021-08-21T00:19:53.992671Z",
     "iopub.status.busy": "2021-08-21T00:19:53.992168Z",
     "iopub.status.idle": "2021-08-21T00:19:53.994795Z",
     "shell.execute_reply": "2021-08-21T00:19:53.994247Z"
    },
    "papermill": {
     "duration": 0.035911,
     "end_time": "2021-08-21T00:19:53.994907",
     "exception": false,
     "start_time": "2021-08-21T00:19:53.958996",
     "status": "completed"
    },
    "tags": []
   },
   "outputs": [],
   "source": [
    "#hide\n",
    "# g['date'] = g.date.dt.dayofyear"
   ]
  },
  {
   "cell_type": "code",
   "execution_count": 35,
   "id": "inside-dubai",
   "metadata": {
    "execution": {
     "iopub.execute_input": "2021-08-21T00:19:54.059227Z",
     "iopub.status.busy": "2021-08-21T00:19:54.058587Z",
     "iopub.status.idle": "2021-08-21T00:19:54.060900Z",
     "shell.execute_reply": "2021-08-21T00:19:54.060472Z"
    },
    "papermill": {
     "duration": 0.036318,
     "end_time": "2021-08-21T00:19:54.060993",
     "exception": false,
     "start_time": "2021-08-21T00:19:54.024675",
     "status": "completed"
    },
    "tags": []
   },
   "outputs": [],
   "source": [
    "#hide\n",
    "# g = g.rename(columns= {'continent':'group','country':'name','cases':'value'})"
   ]
  },
  {
   "cell_type": "code",
   "execution_count": 36,
   "id": "fleet-motorcycle",
   "metadata": {
    "execution": {
     "iopub.execute_input": "2021-08-21T00:19:54.123727Z",
     "iopub.status.busy": "2021-08-21T00:19:54.123227Z",
     "iopub.status.idle": "2021-08-21T00:19:54.125847Z",
     "shell.execute_reply": "2021-08-21T00:19:54.125397Z"
    },
    "papermill": {
     "duration": 0.03482,
     "end_time": "2021-08-21T00:19:54.125942",
     "exception": false,
     "start_time": "2021-08-21T00:19:54.091122",
     "status": "completed"
    },
    "tags": []
   },
   "outputs": [],
   "source": [
    "#hide\n",
    "# cols = ['name','group','day','value']"
   ]
  },
  {
   "cell_type": "code",
   "execution_count": 37,
   "id": "continued-sleeping",
   "metadata": {
    "execution": {
     "iopub.execute_input": "2021-08-21T00:19:54.198362Z",
     "iopub.status.busy": "2021-08-21T00:19:54.197705Z",
     "iopub.status.idle": "2021-08-21T00:19:54.200176Z",
     "shell.execute_reply": "2021-08-21T00:19:54.199574Z"
    },
    "papermill": {
     "duration": 0.040244,
     "end_time": "2021-08-21T00:19:54.200272",
     "exception": false,
     "start_time": "2021-08-21T00:19:54.160028",
     "status": "completed"
    },
    "tags": []
   },
   "outputs": [],
   "source": [
    "#hide\n",
    "# g.rename(columns= {'date':'day'},inplace = True)"
   ]
  },
  {
   "cell_type": "code",
   "execution_count": 38,
   "id": "major-fight",
   "metadata": {
    "execution": {
     "iopub.execute_input": "2021-08-21T00:19:54.265508Z",
     "iopub.status.busy": "2021-08-21T00:19:54.264964Z",
     "iopub.status.idle": "2021-08-21T00:19:54.267573Z",
     "shell.execute_reply": "2021-08-21T00:19:54.267143Z"
    },
    "papermill": {
     "duration": 0.035449,
     "end_time": "2021-08-21T00:19:54.267667",
     "exception": false,
     "start_time": "2021-08-21T00:19:54.232218",
     "status": "completed"
    },
    "tags": []
   },
   "outputs": [],
   "source": [
    "#hide\n",
    "# g = g[cols]"
   ]
  },
  {
   "cell_type": "code",
   "execution_count": 39,
   "id": "structured-mobile",
   "metadata": {
    "execution": {
     "iopub.execute_input": "2021-08-21T00:19:54.332883Z",
     "iopub.status.busy": "2021-08-21T00:19:54.332369Z",
     "iopub.status.idle": "2021-08-21T00:19:54.334281Z",
     "shell.execute_reply": "2021-08-21T00:19:54.334712Z"
    },
    "papermill": {
     "duration": 0.037118,
     "end_time": "2021-08-21T00:19:54.334817",
     "exception": false,
     "start_time": "2021-08-21T00:19:54.297699",
     "status": "completed"
    },
    "tags": []
   },
   "outputs": [],
   "source": [
    "# #hide\n",
    "# g = g[g.group.notna()]"
   ]
  },
  {
   "cell_type": "code",
   "execution_count": 40,
   "id": "determined-closing",
   "metadata": {
    "execution": {
     "iopub.execute_input": "2021-08-21T00:19:54.400007Z",
     "iopub.status.busy": "2021-08-21T00:19:54.399499Z",
     "iopub.status.idle": "2021-08-21T00:19:54.401795Z",
     "shell.execute_reply": "2021-08-21T00:19:54.401371Z"
    },
    "papermill": {
     "duration": 0.035955,
     "end_time": "2021-08-21T00:19:54.401891",
     "exception": false,
     "start_time": "2021-08-21T00:19:54.365936",
     "status": "completed"
    },
    "tags": []
   },
   "outputs": [],
   "source": [
    "# #hide\n",
    "# colors = dict(zip(\n",
    "#     [\"Oceania\", \"Europe\", \"Asia\", \"South America\", \"Middle East\", \"North America\", \"Africa\"],\n",
    "#     [\"#adb0ff\", \"#ffb3ff\", \"#90d595\", \"#e48381\", \"#aafbff\", \"#f7bb5f\", \"#eafb50\"]\n",
    "# ))\n",
    "# group_lk = g.set_index('name')['group'].to_dict()"
   ]
  },
  {
   "cell_type": "code",
   "execution_count": null,
   "id": "gross-drinking",
   "metadata": {
    "papermill": {
     "duration": 0.030284,
     "end_time": "2021-08-21T00:19:54.463277",
     "exception": false,
     "start_time": "2021-08-21T00:19:54.432993",
     "status": "completed"
    },
    "tags": []
   },
   "outputs": [],
   "source": []
  },
  {
   "cell_type": "code",
   "execution_count": 41,
   "id": "subject-macintosh",
   "metadata": {
    "execution": {
     "iopub.execute_input": "2021-08-21T00:19:54.530520Z",
     "iopub.status.busy": "2021-08-21T00:19:54.529706Z",
     "iopub.status.idle": "2021-08-21T00:19:54.532268Z",
     "shell.execute_reply": "2021-08-21T00:19:54.531845Z"
    },
    "papermill": {
     "duration": 0.038338,
     "end_time": "2021-08-21T00:19:54.532366",
     "exception": false,
     "start_time": "2021-08-21T00:19:54.494028",
     "status": "completed"
    },
    "tags": []
   },
   "outputs": [],
   "source": [
    "# #hide\n",
    "# fig, ax = plt.subplots(figsize=(15, 8))\n",
    "\n",
    "# def draw_barchart(current_day):\n",
    "#     dff = g[g['day'].eq(current_day)].sort_values(by='value', ascending=True).tail(10)\n",
    "#     ax.clear()\n",
    "#     ax.barh(dff['name'], dff['value'], color=[colors[group_lk[x]] for x in dff['name']])\n",
    "#     dx = dff['value'].max() / 200\n",
    "    \n",
    "#     for i, (value, name) in enumerate(zip(dff['value'], dff['name'])):\n",
    "#         ax.text(value-dx, i,     name,           size=14, weight=600, ha='right', va='bottom')\n",
    "#         ax.text(value-dx, i-.25, group_lk[name], size=10, color='#444444', ha='right', va='baseline')\n",
    "#         ax.text(value+dx, i,     f'{value:,.0f}',  size=14, ha='left',  va='center')\n",
    "#     ax.text(1, 0.4, current_day, transform=ax.transAxes, color='#777777', size=46, ha='right', weight=800)\n",
    "#     ax.text(0, 1.06, 'Population (thousands)', transform=ax.transAxes, size=12, color='#777777')\n",
    "#     ax.xaxis.set_major_formatter(ticker.StrMethodFormatter('{x:,.0f}'))\n",
    "#     ax.xaxis.set_ticks_position('top')\n",
    "#     ax.tick_params(axis='x', colors='#777777', labelsize=12)\n",
    "#     ax.set_yticks([])\n",
    "#     ax.margins(0, 0.01)\n",
    "#     ax.grid(which='major', axis='x', linestyle='-')\n",
    "#     ax.set_axisbelow(True)\n",
    "    \n",
    "#     ax.text(0, 1.15, 'Coronavirus',\n",
    "#             transform=ax.transAxes, size=24, weight=600, ha='left', va='top')\n",
    "# #     ax.text(1, 0, 'by @pratapvardhan; credit @jburnmurdoch', transform=ax.transAxes, color='#777777', ha='right',\n",
    "# #             bbox=dict(facecolor='white', alpha=0.8, edgecolor='white'))\n",
    "#     plt.box(False)"
   ]
  },
  {
   "cell_type": "code",
   "execution_count": 42,
   "id": "sexual-wages",
   "metadata": {
    "execution": {
     "iopub.execute_input": "2021-08-21T00:19:54.601097Z",
     "iopub.status.busy": "2021-08-21T00:19:54.600531Z",
     "iopub.status.idle": "2021-08-21T00:19:54.602860Z",
     "shell.execute_reply": "2021-08-21T00:19:54.602430Z"
    },
    "papermill": {
     "duration": 0.037421,
     "end_time": "2021-08-21T00:19:54.602953",
     "exception": false,
     "start_time": "2021-08-21T00:19:54.565532",
     "status": "completed"
    },
    "tags": []
   },
   "outputs": [],
   "source": [
    "# #hide_input\n",
    "# fig, ax = plt.subplots(figsize=(15, 8))\n",
    "# animator = animation.FuncAnimation(fig, draw_barchart, frames=range(g.day.values.min(), g.day.values.max()))\n",
    "# HTML(animator.to_jshtml())\n",
    "# # or use animator.to_html5_video() or animator.save() "
   ]
  },
  {
   "cell_type": "code",
   "execution_count": null,
   "id": "australian-container",
   "metadata": {
    "papermill": {
     "duration": 0.031066,
     "end_time": "2021-08-21T00:19:54.668424",
     "exception": false,
     "start_time": "2021-08-21T00:19:54.637358",
     "status": "completed"
    },
    "tags": []
   },
   "outputs": [],
   "source": []
  },
  {
   "cell_type": "code",
   "execution_count": null,
   "id": "mediterranean-pontiac",
   "metadata": {
    "papermill": {
     "duration": 0.032777,
     "end_time": "2021-08-21T00:19:54.732791",
     "exception": false,
     "start_time": "2021-08-21T00:19:54.700014",
     "status": "completed"
    },
    "tags": []
   },
   "outputs": [],
   "source": []
  },
  {
   "cell_type": "code",
   "execution_count": null,
   "id": "aging-legislature",
   "metadata": {
    "papermill": {
     "duration": 0.031983,
     "end_time": "2021-08-21T00:19:54.796691",
     "exception": false,
     "start_time": "2021-08-21T00:19:54.764708",
     "status": "completed"
    },
    "tags": []
   },
   "outputs": [],
   "source": []
  }
 ],
 "metadata": {
  "kernelspec": {
   "display_name": "Python 3",
   "language": "python",
   "name": "python3"
  },
  "language_info": {
   "codemirror_mode": {
    "name": "ipython",
    "version": 3
   },
   "file_extension": ".py",
   "mimetype": "text/x-python",
   "name": "python",
   "nbconvert_exporter": "python",
   "pygments_lexer": "ipython3",
   "version": "3.6.14"
  },
  "papermill": {
   "duration": 5.817247,
   "end_time": "2021-08-21T00:19:55.140048",
   "environment_variables": {},
   "exception": null,
   "input_path": "2020-03-21-covid19exp.ipynb",
   "output_path": "2020-03-21-covid19exp.ipynb",
   "parameters": {},
   "start_time": "2021-08-21T00:19:49.322801",
   "version": "2.0.0"
  }
 },
 "nbformat": 4,
 "nbformat_minor": 5
}