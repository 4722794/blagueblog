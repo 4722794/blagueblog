{
 "cells": [
  {
   "cell_type": "markdown",
   "id": "muslim-click",
   "metadata": {
    "papermill": {
     "duration": 0.040137,
     "end_time": "2021-07-30T12:11:17.210149",
     "exception": false,
     "start_time": "2021-07-30T12:11:17.170012",
     "status": "completed"
    },
    "tags": []
   },
   "source": [
    "# COVID-19 Case Race\n",
    "> A race chart to see rising cases around the world\n",
    "\n",
    "- author: Hargun Oberoi\n",
    "- image: images/covid-overview.png\n",
    "- hide: false\n",
    "- badges: false"
   ]
  },
  {
   "cell_type": "code",
   "execution_count": 1,
   "id": "proof-material",
   "metadata": {
    "execution": {
     "iopub.execute_input": "2021-07-30T12:11:17.292041Z",
     "iopub.status.busy": "2021-07-30T12:11:17.291432Z",
     "iopub.status.idle": "2021-07-30T12:11:17.663319Z",
     "shell.execute_reply": "2021-07-30T12:11:17.662795Z"
    },
    "papermill": {
     "duration": 0.418145,
     "end_time": "2021-07-30T12:11:17.663467",
     "exception": false,
     "start_time": "2021-07-30T12:11:17.245322",
     "status": "completed"
    },
    "tags": []
   },
   "outputs": [],
   "source": [
    "#hide\n",
    "import numpy as np\n",
    "import pandas as pd\n",
    "from jinja2 import Template\n",
    "from IPython.display import HTML"
   ]
  },
  {
   "cell_type": "code",
   "execution_count": 2,
   "id": "developed-terminology",
   "metadata": {
    "execution": {
     "iopub.execute_input": "2021-07-30T12:11:17.737750Z",
     "iopub.status.busy": "2021-07-30T12:11:17.736662Z",
     "iopub.status.idle": "2021-07-30T12:11:17.741683Z",
     "shell.execute_reply": "2021-07-30T12:11:17.741050Z"
    },
    "papermill": {
     "duration": 0.044866,
     "end_time": "2021-07-30T12:11:17.741828",
     "exception": false,
     "start_time": "2021-07-30T12:11:17.696962",
     "status": "completed"
    },
    "tags": []
   },
   "outputs": [],
   "source": [
    "#hide\n",
    "\n",
    "# FETCH\n",
    "base_url = 'https://raw.githubusercontent.com/pratapvardhan/notebooks/master/covid19/'\n",
    "paths = {\n",
    "    'mapping': base_url + 'mapping_countries.csv',\n",
    "    'overview': base_url + 'overview.tpl'\n",
    "}"
   ]
  },
  {
   "cell_type": "code",
   "execution_count": 3,
   "id": "dynamic-saver",
   "metadata": {
    "execution": {
     "iopub.execute_input": "2021-07-30T12:11:17.828190Z",
     "iopub.status.busy": "2021-07-30T12:11:17.827583Z",
     "iopub.status.idle": "2021-07-30T12:11:17.829933Z",
     "shell.execute_reply": "2021-07-30T12:11:17.830432Z"
    },
    "papermill": {
     "duration": 0.052954,
     "end_time": "2021-07-30T12:11:17.830575",
     "exception": false,
     "start_time": "2021-07-30T12:11:17.777621",
     "status": "completed"
    },
    "tags": []
   },
   "outputs": [
    {
     "data": {
      "text/plain": [
       "'https://raw.githubusercontent.com/pratapvardhan/notebooks/master/covid19/mapping_countries.csv'"
      ]
     },
     "execution_count": 3,
     "metadata": {},
     "output_type": "execute_result"
    }
   ],
   "source": [
    "#hide\n",
    "paths['mapping']"
   ]
  },
  {
   "cell_type": "code",
   "execution_count": 4,
   "id": "urban-software",
   "metadata": {
    "execution": {
     "iopub.execute_input": "2021-07-30T12:11:17.914230Z",
     "iopub.status.busy": "2021-07-30T12:11:17.913590Z",
     "iopub.status.idle": "2021-07-30T12:11:17.916000Z",
     "shell.execute_reply": "2021-07-30T12:11:17.916442Z"
    },
    "papermill": {
     "duration": 0.047777,
     "end_time": "2021-07-30T12:11:17.916584",
     "exception": false,
     "start_time": "2021-07-30T12:11:17.868807",
     "status": "completed"
    },
    "tags": []
   },
   "outputs": [],
   "source": [
    "#hide\n",
    "def get_mappings(url):\n",
    "    df = pd.read_csv(url)\n",
    "    return {\n",
    "        'df': df,\n",
    "        'replace.country': dict(df.dropna(subset=['Name']).set_index('Country')['Name']),\n",
    "        'map.continent': dict(df.set_index('Name')['Continent'])\n",
    "    }"
   ]
  },
  {
   "cell_type": "code",
   "execution_count": 5,
   "id": "intimate-machinery",
   "metadata": {
    "execution": {
     "iopub.execute_input": "2021-07-30T12:11:17.990516Z",
     "iopub.status.busy": "2021-07-30T12:11:17.989922Z",
     "iopub.status.idle": "2021-07-30T12:11:18.032808Z",
     "shell.execute_reply": "2021-07-30T12:11:18.031888Z"
    },
    "papermill": {
     "duration": 0.082817,
     "end_time": "2021-07-30T12:11:18.033143",
     "exception": false,
     "start_time": "2021-07-30T12:11:17.950326",
     "status": "completed"
    },
    "tags": []
   },
   "outputs": [],
   "source": [
    "#hide\n",
    "mapping = get_mappings(paths['mapping'])"
   ]
  },
  {
   "cell_type": "code",
   "execution_count": 6,
   "id": "certified-tactics",
   "metadata": {
    "execution": {
     "iopub.execute_input": "2021-07-30T12:11:18.109683Z",
     "iopub.status.busy": "2021-07-30T12:11:18.109093Z",
     "iopub.status.idle": "2021-07-30T12:11:18.111325Z",
     "shell.execute_reply": "2021-07-30T12:11:18.110834Z"
    },
    "papermill": {
     "duration": 0.042511,
     "end_time": "2021-07-30T12:11:18.111452",
     "exception": false,
     "start_time": "2021-07-30T12:11:18.068941",
     "status": "completed"
    },
    "tags": []
   },
   "outputs": [],
   "source": [
    "#hide\n",
    "def get_template(path):\n",
    "    from urllib.parse import urlparse\n",
    "    if bool(urlparse(path).netloc):\n",
    "        from urllib.request import urlopen\n",
    "        return urlopen(path).read().decode('utf8')\n",
    "    return open(path).read()"
   ]
  },
  {
   "cell_type": "code",
   "execution_count": 7,
   "id": "realistic-blast",
   "metadata": {
    "execution": {
     "iopub.execute_input": "2021-07-30T12:11:18.185253Z",
     "iopub.status.busy": "2021-07-30T12:11:18.184579Z",
     "iopub.status.idle": "2021-07-30T12:11:18.186125Z",
     "shell.execute_reply": "2021-07-30T12:11:18.186665Z"
    },
    "papermill": {
     "duration": 0.041615,
     "end_time": "2021-07-30T12:11:18.186805",
     "exception": false,
     "start_time": "2021-07-30T12:11:18.145190",
     "status": "completed"
    },
    "tags": []
   },
   "outputs": [],
   "source": [
    "#hide\n",
    "def get_frame(name):\n",
    "    url = (\n",
    "        'https://raw.githubusercontent.com/CSSEGISandData/COVID-19/master/csse_covid_19_data/'\n",
    "        f'csse_covid_19_time_series/time_series_covid19_{name}_global.csv')\n",
    "    df = pd.read_csv(url)\n",
    "    # rename countries\n",
    "    df['Country/Region'] = df['Country/Region'].replace(mapping['replace.country'])\n",
    "    return df"
   ]
  },
  {
   "cell_type": "code",
   "execution_count": 8,
   "id": "affiliated-characterization",
   "metadata": {
    "execution": {
     "iopub.execute_input": "2021-07-30T12:11:18.263675Z",
     "iopub.status.busy": "2021-07-30T12:11:18.263085Z",
     "iopub.status.idle": "2021-07-30T12:11:18.265314Z",
     "shell.execute_reply": "2021-07-30T12:11:18.264823Z"
    },
    "papermill": {
     "duration": 0.043699,
     "end_time": "2021-07-30T12:11:18.265436",
     "exception": false,
     "start_time": "2021-07-30T12:11:18.221737",
     "status": "completed"
    },
    "tags": []
   },
   "outputs": [],
   "source": [
    "#hide\n",
    "def get_dates(df):\n",
    "    dt_cols = df.columns[~df.columns.isin(['Province/State', 'Country/Region', 'Lat', 'Long'])]\n",
    "    LAST_DATE_I = -1\n",
    "    # sometimes last column may be empty, then go backwards\n",
    "    for i in range(-1, -len(dt_cols), -1):\n",
    "        if not df[dt_cols[i]].fillna(0).eq(0).all():\n",
    "            LAST_DATE_I = i\n",
    "            break\n",
    "    return LAST_DATE_I, dt_cols"
   ]
  },
  {
   "cell_type": "code",
   "execution_count": 9,
   "id": "recent-optimization",
   "metadata": {
    "execution": {
     "iopub.execute_input": "2021-07-30T12:11:18.341929Z",
     "iopub.status.busy": "2021-07-30T12:11:18.341313Z",
     "iopub.status.idle": "2021-07-30T12:11:18.717126Z",
     "shell.execute_reply": "2021-07-30T12:11:18.716029Z"
    },
    "papermill": {
     "duration": 0.416265,
     "end_time": "2021-07-30T12:11:18.717271",
     "exception": false,
     "start_time": "2021-07-30T12:11:18.301006",
     "status": "completed"
    },
    "tags": []
   },
   "outputs": [],
   "source": [
    "#hide\n",
    "COL_REGION = 'Country/Region'\n",
    "# Confirmed, Recovered, Deaths\n",
    "df = get_frame('confirmed')\n",
    "# dft_: timeseries, dfc_: today country agg\n",
    "dft_cases = df\n",
    "dft_deaths = get_frame('deaths')\n",
    "dft_recovered = get_frame('recovered')\n",
    "LAST_DATE_I, dt_cols = get_dates(df)"
   ]
  },
  {
   "cell_type": "code",
   "execution_count": 10,
   "id": "absolute-copper",
   "metadata": {
    "execution": {
     "iopub.execute_input": "2021-07-30T12:11:18.791682Z",
     "iopub.status.busy": "2021-07-30T12:11:18.791099Z",
     "iopub.status.idle": "2021-07-30T12:11:18.793538Z",
     "shell.execute_reply": "2021-07-30T12:11:18.794000Z"
    },
    "papermill": {
     "duration": 0.042603,
     "end_time": "2021-07-30T12:11:18.794147",
     "exception": false,
     "start_time": "2021-07-30T12:11:18.751544",
     "status": "completed"
    },
    "tags": []
   },
   "outputs": [],
   "source": [
    "#hide\n",
    "LAST_DATE_I, dt_cols = get_dates(df)\n",
    "dt_today =dt_cols[LAST_DATE_I]\n",
    "# dt_5day = dt_cols[LAST_DATE_I - 5]\n",
    "dt_yday = dt_cols[LAST_DATE_I - 1]"
   ]
  },
  {
   "cell_type": "code",
   "execution_count": 11,
   "id": "restricted-sheriff",
   "metadata": {
    "execution": {
     "iopub.execute_input": "2021-07-30T12:11:18.869550Z",
     "iopub.status.busy": "2021-07-30T12:11:18.868930Z",
     "iopub.status.idle": "2021-07-30T12:11:18.876519Z",
     "shell.execute_reply": "2021-07-30T12:11:18.877023Z"
    },
    "papermill": {
     "duration": 0.049596,
     "end_time": "2021-07-30T12:11:18.877160",
     "exception": false,
     "start_time": "2021-07-30T12:11:18.827564",
     "status": "completed"
    },
    "tags": []
   },
   "outputs": [],
   "source": [
    "#hide\n",
    "dfc_cases = dft_cases.groupby(COL_REGION)[dt_today].sum()\n",
    "dfc_deaths = dft_deaths.groupby(COL_REGION)[dt_today].sum()\n",
    "# dfp_cases = dft_cases.groupby(COL_REGION)[dt_5day].sum()\n",
    "# dfp_deaths = dft_deaths.groupby(COL_REGION)[dt_5day].sum()\n",
    "dfp_cases = dft_cases.groupby(COL_REGION)[dt_yday].sum()\n",
    "dfp_deaths = dft_deaths.groupby(COL_REGION)[dt_yday].sum()"
   ]
  },
  {
   "cell_type": "code",
   "execution_count": 12,
   "id": "deluxe-hepatitis",
   "metadata": {
    "execution": {
     "iopub.execute_input": "2021-07-30T12:11:18.952827Z",
     "iopub.status.busy": "2021-07-30T12:11:18.952249Z",
     "iopub.status.idle": "2021-07-30T12:11:18.956187Z",
     "shell.execute_reply": "2021-07-30T12:11:18.956624Z"
    },
    "papermill": {
     "duration": 0.045935,
     "end_time": "2021-07-30T12:11:18.956762",
     "exception": false,
     "start_time": "2021-07-30T12:11:18.910827",
     "status": "completed"
    },
    "tags": []
   },
   "outputs": [],
   "source": [
    "#hide\n",
    "df_table = (pd.DataFrame(dict(Cases = dfc_cases, Deaths = dfc_deaths, PCases = dfp_cases, PDeaths = dfp_deaths))\n",
    "            .sort_values(by = ['Cases','Deaths'], ascending = [False, False])\n",
    "            .reset_index())"
   ]
  },
  {
   "cell_type": "code",
   "execution_count": 13,
   "id": "educational-chancellor",
   "metadata": {
    "execution": {
     "iopub.execute_input": "2021-07-30T12:11:19.039156Z",
     "iopub.status.busy": "2021-07-30T12:11:19.038546Z",
     "iopub.status.idle": "2021-07-30T12:11:19.057110Z",
     "shell.execute_reply": "2021-07-30T12:11:19.058184Z"
    },
    "papermill": {
     "duration": 0.068313,
     "end_time": "2021-07-30T12:11:19.058438",
     "exception": false,
     "start_time": "2021-07-30T12:11:18.990125",
     "status": "completed"
    },
    "tags": []
   },
   "outputs": [
    {
     "data": {
      "text/html": [
       "<div>\n",
       "<style scoped>\n",
       "    .dataframe tbody tr th:only-of-type {\n",
       "        vertical-align: middle;\n",
       "    }\n",
       "\n",
       "    .dataframe tbody tr th {\n",
       "        vertical-align: top;\n",
       "    }\n",
       "\n",
       "    .dataframe thead th {\n",
       "        text-align: right;\n",
       "    }\n",
       "</style>\n",
       "<table border=\"1\" class=\"dataframe\">\n",
       "  <thead>\n",
       "    <tr style=\"text-align: right;\">\n",
       "      <th></th>\n",
       "      <th>Country/Region</th>\n",
       "      <th>Cases</th>\n",
       "      <th>Deaths</th>\n",
       "      <th>PCases</th>\n",
       "      <th>PDeaths</th>\n",
       "      <th>Cases (+)</th>\n",
       "      <th>Deaths (+)</th>\n",
       "      <th>Fatality Rate</th>\n",
       "      <th>Continent</th>\n",
       "    </tr>\n",
       "  </thead>\n",
       "  <tbody>\n",
       "    <tr>\n",
       "      <th>0</th>\n",
       "      <td>US</td>\n",
       "      <td>34750860</td>\n",
       "      <td>612122</td>\n",
       "      <td>34672690</td>\n",
       "      <td>611801</td>\n",
       "      <td>78170</td>\n",
       "      <td>321</td>\n",
       "      <td>1.76</td>\n",
       "      <td>North America</td>\n",
       "    </tr>\n",
       "    <tr>\n",
       "      <th>1</th>\n",
       "      <td>India</td>\n",
       "      <td>31572344</td>\n",
       "      <td>423217</td>\n",
       "      <td>31528114</td>\n",
       "      <td>422662</td>\n",
       "      <td>44230</td>\n",
       "      <td>555</td>\n",
       "      <td>1.34</td>\n",
       "      <td>Asia</td>\n",
       "    </tr>\n",
       "    <tr>\n",
       "      <th>2</th>\n",
       "      <td>Brazil</td>\n",
       "      <td>19839369</td>\n",
       "      <td>554497</td>\n",
       "      <td>19797086</td>\n",
       "      <td>553179</td>\n",
       "      <td>42283</td>\n",
       "      <td>1318</td>\n",
       "      <td>2.79</td>\n",
       "      <td>South America</td>\n",
       "    </tr>\n",
       "    <tr>\n",
       "      <th>3</th>\n",
       "      <td>France</td>\n",
       "      <td>6142282</td>\n",
       "      <td>111951</td>\n",
       "      <td>6116853</td>\n",
       "      <td>111923</td>\n",
       "      <td>25429</td>\n",
       "      <td>28</td>\n",
       "      <td>1.82</td>\n",
       "      <td>Europe</td>\n",
       "    </tr>\n",
       "    <tr>\n",
       "      <th>4</th>\n",
       "      <td>Russia</td>\n",
       "      <td>6138969</td>\n",
       "      <td>154404</td>\n",
       "      <td>6116249</td>\n",
       "      <td>153620</td>\n",
       "      <td>22720</td>\n",
       "      <td>784</td>\n",
       "      <td>2.52</td>\n",
       "      <td>Europe</td>\n",
       "    </tr>\n",
       "  </tbody>\n",
       "</table>\n",
       "</div>"
      ],
      "text/plain": [
       "  Country/Region     Cases  Deaths    PCases  PDeaths  Cases (+)  Deaths (+)  \\\n",
       "0             US  34750860  612122  34672690   611801      78170         321   \n",
       "1          India  31572344  423217  31528114   422662      44230         555   \n",
       "2         Brazil  19839369  554497  19797086   553179      42283        1318   \n",
       "3         France   6142282  111951   6116853   111923      25429          28   \n",
       "4         Russia   6138969  154404   6116249   153620      22720         784   \n",
       "\n",
       "   Fatality Rate      Continent  \n",
       "0           1.76  North America  \n",
       "1           1.34           Asia  \n",
       "2           2.79  South America  \n",
       "3           1.82         Europe  \n",
       "4           2.52         Europe  "
      ]
     },
     "execution_count": 13,
     "metadata": {},
     "output_type": "execute_result"
    }
   ],
   "source": [
    "#hide\n",
    "for c in 'Cases, Deaths'.split(', '):\n",
    "    df_table[f'{c} (+)'] = (df_table[c] - df_table[f'P{c}']).clip(0)\n",
    "    #Clip ça veut dire, les chiffres negatif sont interdit\n",
    "df_table['Fatality Rate'] = (100* df_table['Deaths']/ df_table['Cases']).round(2)\n",
    "df_table['Continent'] = df_table['Country/Region'].map(mapping['map.continent'])\n",
    "df_table.head(5)"
   ]
  },
  {
   "cell_type": "code",
   "execution_count": 14,
   "id": "aboriginal-bulgaria",
   "metadata": {
    "execution": {
     "iopub.execute_input": "2021-07-30T12:11:19.140193Z",
     "iopub.status.busy": "2021-07-30T12:11:19.139597Z",
     "iopub.status.idle": "2021-07-30T12:11:19.142104Z",
     "shell.execute_reply": "2021-07-30T12:11:19.142611Z"
    },
    "papermill": {
     "duration": 0.045373,
     "end_time": "2021-07-30T12:11:19.142754",
     "exception": false,
     "start_time": "2021-07-30T12:11:19.097381",
     "status": "completed"
    },
    "tags": []
   },
   "outputs": [],
   "source": [
    "#hide\n",
    "#delete problematic countries from table\n",
    "df_table = df_table[~df_table['Country/Region'].isin(['Cape Verde', 'Cruise Ship', 'Kosovo'])]"
   ]
  },
  {
   "cell_type": "code",
   "execution_count": 15,
   "id": "fantastic-effect",
   "metadata": {
    "execution": {
     "iopub.execute_input": "2021-07-30T12:11:19.223946Z",
     "iopub.status.busy": "2021-07-30T12:11:19.223333Z",
     "iopub.status.idle": "2021-07-30T12:11:19.242588Z",
     "shell.execute_reply": "2021-07-30T12:11:19.243028Z"
    },
    "papermill": {
     "duration": 0.066246,
     "end_time": "2021-07-30T12:11:19.243180",
     "exception": false,
     "start_time": "2021-07-30T12:11:19.176934",
     "status": "completed"
    },
    "tags": []
   },
   "outputs": [
    {
     "data": {
      "text/html": [
       "<div>\n",
       "<style scoped>\n",
       "    .dataframe tbody tr th:only-of-type {\n",
       "        vertical-align: middle;\n",
       "    }\n",
       "\n",
       "    .dataframe tbody tr th {\n",
       "        vertical-align: top;\n",
       "    }\n",
       "\n",
       "    .dataframe thead th {\n",
       "        text-align: right;\n",
       "    }\n",
       "</style>\n",
       "<table border=\"1\" class=\"dataframe\">\n",
       "  <thead>\n",
       "    <tr style=\"text-align: right;\">\n",
       "      <th></th>\n",
       "      <th>Country/Region</th>\n",
       "      <th>Cases</th>\n",
       "      <th>Deaths</th>\n",
       "      <th>PCases</th>\n",
       "      <th>PDeaths</th>\n",
       "      <th>Cases (+)</th>\n",
       "      <th>Deaths (+)</th>\n",
       "      <th>Fatality Rate</th>\n",
       "      <th>Continent</th>\n",
       "    </tr>\n",
       "  </thead>\n",
       "  <tbody>\n",
       "    <tr>\n",
       "      <th>0</th>\n",
       "      <td>US</td>\n",
       "      <td>34750860</td>\n",
       "      <td>612122</td>\n",
       "      <td>34672690</td>\n",
       "      <td>611801</td>\n",
       "      <td>78170</td>\n",
       "      <td>321</td>\n",
       "      <td>1.8</td>\n",
       "      <td>North America</td>\n",
       "    </tr>\n",
       "    <tr>\n",
       "      <th>1</th>\n",
       "      <td>India</td>\n",
       "      <td>31572344</td>\n",
       "      <td>423217</td>\n",
       "      <td>31528114</td>\n",
       "      <td>422662</td>\n",
       "      <td>44230</td>\n",
       "      <td>555</td>\n",
       "      <td>1.3</td>\n",
       "      <td>Asia</td>\n",
       "    </tr>\n",
       "    <tr>\n",
       "      <th>2</th>\n",
       "      <td>Brazil</td>\n",
       "      <td>19839369</td>\n",
       "      <td>554497</td>\n",
       "      <td>19797086</td>\n",
       "      <td>553179</td>\n",
       "      <td>42283</td>\n",
       "      <td>1318</td>\n",
       "      <td>2.8</td>\n",
       "      <td>South America</td>\n",
       "    </tr>\n",
       "    <tr>\n",
       "      <th>3</th>\n",
       "      <td>France</td>\n",
       "      <td>6142282</td>\n",
       "      <td>111951</td>\n",
       "      <td>6116853</td>\n",
       "      <td>111923</td>\n",
       "      <td>25429</td>\n",
       "      <td>28</td>\n",
       "      <td>1.8</td>\n",
       "      <td>Europe</td>\n",
       "    </tr>\n",
       "    <tr>\n",
       "      <th>4</th>\n",
       "      <td>Russia</td>\n",
       "      <td>6138969</td>\n",
       "      <td>154404</td>\n",
       "      <td>6116249</td>\n",
       "      <td>153620</td>\n",
       "      <td>22720</td>\n",
       "      <td>784</td>\n",
       "      <td>2.5</td>\n",
       "      <td>Europe</td>\n",
       "    </tr>\n",
       "  </tbody>\n",
       "</table>\n",
       "</div>"
      ],
      "text/plain": [
       "  Country/Region     Cases  Deaths    PCases  PDeaths  Cases (+)  Deaths (+)  \\\n",
       "0             US  34750860  612122  34672690   611801      78170         321   \n",
       "1          India  31572344  423217  31528114   422662      44230         555   \n",
       "2         Brazil  19839369  554497  19797086   553179      42283        1318   \n",
       "3         France   6142282  111951   6116853   111923      25429          28   \n",
       "4         Russia   6138969  154404   6116249   153620      22720         784   \n",
       "\n",
       "   Fatality Rate      Continent  \n",
       "0            1.8  North America  \n",
       "1            1.3           Asia  \n",
       "2            2.8  South America  \n",
       "3            1.8         Europe  \n",
       "4            2.5         Europe  "
      ]
     },
     "execution_count": 15,
     "metadata": {},
     "output_type": "execute_result"
    }
   ],
   "source": [
    "#hide\n",
    "df_table = (pd.DataFrame(dict(Cases=dfc_cases, Deaths=dfc_deaths, PCases=dfp_cases, PDeaths=dfp_deaths))\n",
    "             .sort_values(by=['Cases', 'Deaths'], ascending=[False, False])\n",
    "             .reset_index())\n",
    "df_table.rename(columns={'index': 'Country/Region'}, inplace=True)\n",
    "for c in 'Cases, Deaths'.split(', '):\n",
    "    df_table[f'{c} (+)'] = (df_table[c] - df_table[f'P{c}']).clip(0)  # DATA BUG\n",
    "df_table['Fatality Rate'] = (100 * df_table['Deaths'] / df_table['Cases']).round(1)\n",
    "df_table['Continent'] = df_table['Country/Region'].map(mapping['map.continent'])\n",
    "df_table.head(5)"
   ]
  },
  {
   "cell_type": "code",
   "execution_count": 16,
   "id": "fewer-occasion",
   "metadata": {
    "execution": {
     "iopub.execute_input": "2021-07-30T12:11:19.322081Z",
     "iopub.status.busy": "2021-07-30T12:11:19.321455Z",
     "iopub.status.idle": "2021-07-30T12:11:19.323737Z",
     "shell.execute_reply": "2021-07-30T12:11:19.324289Z"
    },
    "papermill": {
     "duration": 0.04572,
     "end_time": "2021-07-30T12:11:19.324431",
     "exception": false,
     "start_time": "2021-07-30T12:11:19.278711",
     "status": "completed"
    },
    "tags": []
   },
   "outputs": [],
   "source": [
    "#hide\n",
    "#delete problematic countries from table\n",
    "df_table = df_table[~df_table['Country/Region'].isin(['Cape Verde', 'Cruise Ship', 'Kosovo'])]"
   ]
  },
  {
   "cell_type": "code",
   "execution_count": 17,
   "id": "related-center",
   "metadata": {
    "execution": {
     "iopub.execute_input": "2021-07-30T12:11:19.417526Z",
     "iopub.status.busy": "2021-07-30T12:11:19.416687Z",
     "iopub.status.idle": "2021-07-30T12:11:19.418439Z",
     "shell.execute_reply": "2021-07-30T12:11:19.419077Z"
    },
    "papermill": {
     "duration": 0.06027,
     "end_time": "2021-07-30T12:11:19.419269",
     "exception": false,
     "start_time": "2021-07-30T12:11:19.358999",
     "status": "completed"
    },
    "tags": []
   },
   "outputs": [],
   "source": [
    "#hide\n",
    "metrics = [df_table.columns[index] for index in [1,2,5,6]]\n",
    "# s_china = df_table[df_table['Country/Region'].eq('China')][metrics].sum().add_prefix('China ')\n",
    "s_us = df_table[df_table['Country/Region'].eq('US')][metrics].sum().add_prefix('US ')\n",
    "s_eu = df_table[df_table['Continent'].eq('Europe')][metrics].sum().add_prefix('EU ')\n",
    "s_ind = df_table[df_table['Country/Region'].eq('India')][metrics].sum().add_prefix('India ')\n",
    "summary = {'updated': pd.to_datetime(dt_today), 'since': pd.to_datetime(dt_yday)}\n",
    "summary = {'updated': pd.to_datetime(dt_today), 'since': pd.to_datetime(dt_yday)}\n",
    "summary = {**summary, **df_table[metrics].sum(), **s_ind, **s_us, **s_eu}"
   ]
  },
  {
   "cell_type": "code",
   "execution_count": 18,
   "id": "engaging-syndrome",
   "metadata": {
    "execution": {
     "iopub.execute_input": "2021-07-30T12:11:19.496814Z",
     "iopub.status.busy": "2021-07-30T12:11:19.496228Z",
     "iopub.status.idle": "2021-07-30T12:11:19.511734Z",
     "shell.execute_reply": "2021-07-30T12:11:19.511255Z"
    },
    "papermill": {
     "duration": 0.055983,
     "end_time": "2021-07-30T12:11:19.511865",
     "exception": false,
     "start_time": "2021-07-30T12:11:19.455882",
     "status": "completed"
    },
    "tags": []
   },
   "outputs": [],
   "source": [
    "#hide\n",
    "dft_ct_new_cases = dft_cases.groupby(COL_REGION)[dt_cols].sum().diff(axis=1).fillna(0).astype(int)"
   ]
  },
  {
   "cell_type": "code",
   "execution_count": 19,
   "id": "neutral-assignment",
   "metadata": {
    "execution": {
     "iopub.execute_input": "2021-07-30T12:11:19.589635Z",
     "iopub.status.busy": "2021-07-30T12:11:19.589047Z",
     "iopub.status.idle": "2021-07-30T12:11:19.591541Z",
     "shell.execute_reply": "2021-07-30T12:11:19.591050Z"
    },
    "papermill": {
     "duration": 0.045066,
     "end_time": "2021-07-30T12:11:19.591665",
     "exception": false,
     "start_time": "2021-07-30T12:11:19.546599",
     "status": "completed"
    },
    "tags": []
   },
   "outputs": [],
   "source": [
    "#hide\n",
    "everydaycases = dft_ct_new_cases.cumsum(axis=1)"
   ]
  },
  {
   "cell_type": "code",
   "execution_count": 20,
   "id": "parliamentary-calgary",
   "metadata": {
    "execution": {
     "iopub.execute_input": "2021-07-30T12:11:19.667247Z",
     "iopub.status.busy": "2021-07-30T12:11:19.666662Z",
     "iopub.status.idle": "2021-07-30T12:11:20.449773Z",
     "shell.execute_reply": "2021-07-30T12:11:20.448741Z"
    },
    "papermill": {
     "duration": 0.823637,
     "end_time": "2021-07-30T12:11:20.450005",
     "exception": false,
     "start_time": "2021-07-30T12:11:19.626368",
     "status": "completed"
    },
    "tags": []
   },
   "outputs": [],
   "source": [
    "#hide\n",
    "import pandas as pd\n",
    "import matplotlib.pyplot as plt\n",
    "import matplotlib.ticker as ticker\n",
    "import matplotlib.animation as animation\n",
    "from IPython.display import HTML"
   ]
  },
  {
   "cell_type": "code",
   "execution_count": 21,
   "id": "lasting-extraction",
   "metadata": {
    "execution": {
     "iopub.execute_input": "2021-07-30T12:11:20.534964Z",
     "iopub.status.busy": "2021-07-30T12:11:20.534376Z",
     "iopub.status.idle": "2021-07-30T12:11:20.540145Z",
     "shell.execute_reply": "2021-07-30T12:11:20.539705Z"
    },
    "papermill": {
     "duration": 0.050526,
     "end_time": "2021-07-30T12:11:20.540267",
     "exception": false,
     "start_time": "2021-07-30T12:11:20.489741",
     "status": "completed"
    },
    "tags": []
   },
   "outputs": [],
   "source": [
    "#hide\n",
    "t = everydaycases.stack()"
   ]
  },
  {
   "cell_type": "code",
   "execution_count": 22,
   "id": "premier-sleeve",
   "metadata": {
    "execution": {
     "iopub.execute_input": "2021-07-30T12:11:20.624344Z",
     "iopub.status.busy": "2021-07-30T12:11:20.623763Z",
     "iopub.status.idle": "2021-07-30T12:11:20.632493Z",
     "shell.execute_reply": "2021-07-30T12:11:20.632021Z"
    },
    "papermill": {
     "duration": 0.056966,
     "end_time": "2021-07-30T12:11:20.632617",
     "exception": false,
     "start_time": "2021-07-30T12:11:20.575651",
     "status": "completed"
    },
    "tags": []
   },
   "outputs": [],
   "source": [
    "#hide\n",
    "g = t.reset_index(['Country/Region'])"
   ]
  },
  {
   "cell_type": "code",
   "execution_count": 23,
   "id": "distributed-pittsburgh",
   "metadata": {
    "execution": {
     "iopub.execute_input": "2021-07-30T12:11:20.706257Z",
     "iopub.status.busy": "2021-07-30T12:11:20.705626Z",
     "iopub.status.idle": "2021-07-30T12:11:20.708760Z",
     "shell.execute_reply": "2021-07-30T12:11:20.709310Z"
    },
    "papermill": {
     "duration": 0.042482,
     "end_time": "2021-07-30T12:11:20.709449",
     "exception": false,
     "start_time": "2021-07-30T12:11:20.666967",
     "status": "completed"
    },
    "tags": []
   },
   "outputs": [],
   "source": [
    "#hide\n",
    "g.index.name = 'date'"
   ]
  },
  {
   "cell_type": "code",
   "execution_count": 24,
   "id": "naked-donor",
   "metadata": {
    "execution": {
     "iopub.execute_input": "2021-07-30T12:11:20.782223Z",
     "iopub.status.busy": "2021-07-30T12:11:20.781607Z",
     "iopub.status.idle": "2021-07-30T12:11:20.783876Z",
     "shell.execute_reply": "2021-07-30T12:11:20.783415Z"
    },
    "papermill": {
     "duration": 0.040111,
     "end_time": "2021-07-30T12:11:20.783997",
     "exception": false,
     "start_time": "2021-07-30T12:11:20.743886",
     "status": "completed"
    },
    "tags": []
   },
   "outputs": [],
   "source": [
    "# #hide\n",
    "# g = g.reset_index(['date'])"
   ]
  },
  {
   "cell_type": "code",
   "execution_count": 25,
   "id": "incomplete-mustang",
   "metadata": {
    "execution": {
     "iopub.execute_input": "2021-07-30T12:11:20.857943Z",
     "iopub.status.busy": "2021-07-30T12:11:20.857337Z",
     "iopub.status.idle": "2021-07-30T12:11:20.859505Z",
     "shell.execute_reply": "2021-07-30T12:11:20.858941Z"
    },
    "papermill": {
     "duration": 0.040845,
     "end_time": "2021-07-30T12:11:20.859623",
     "exception": false,
     "start_time": "2021-07-30T12:11:20.818778",
     "status": "completed"
    },
    "tags": []
   },
   "outputs": [],
   "source": [
    "#hide\n",
    "# g.head()"
   ]
  },
  {
   "cell_type": "code",
   "execution_count": 26,
   "id": "specific-kruger",
   "metadata": {
    "execution": {
     "iopub.execute_input": "2021-07-30T12:11:20.932822Z",
     "iopub.status.busy": "2021-07-30T12:11:20.932240Z",
     "iopub.status.idle": "2021-07-30T12:11:20.934494Z",
     "shell.execute_reply": "2021-07-30T12:11:20.934029Z"
    },
    "papermill": {
     "duration": 0.040273,
     "end_time": "2021-07-30T12:11:20.934621",
     "exception": false,
     "start_time": "2021-07-30T12:11:20.894348",
     "status": "completed"
    },
    "tags": []
   },
   "outputs": [],
   "source": [
    "#hide\n",
    "# g.columns = ['date','country','cases']"
   ]
  },
  {
   "cell_type": "code",
   "execution_count": 27,
   "id": "tender-conversion",
   "metadata": {
    "execution": {
     "iopub.execute_input": "2021-07-30T12:11:21.007300Z",
     "iopub.status.busy": "2021-07-30T12:11:21.006722Z",
     "iopub.status.idle": "2021-07-30T12:11:21.010520Z",
     "shell.execute_reply": "2021-07-30T12:11:21.011011Z"
    },
    "papermill": {
     "duration": 0.042101,
     "end_time": "2021-07-30T12:11:21.011148",
     "exception": false,
     "start_time": "2021-07-30T12:11:20.969047",
     "status": "completed"
    },
    "tags": []
   },
   "outputs": [],
   "source": [
    "#hide\n",
    "# g['continent'] = g.country"
   ]
  },
  {
   "cell_type": "code",
   "execution_count": 28,
   "id": "substantial-wilderness",
   "metadata": {
    "execution": {
     "iopub.execute_input": "2021-07-30T12:11:21.084990Z",
     "iopub.status.busy": "2021-07-30T12:11:21.084415Z",
     "iopub.status.idle": "2021-07-30T12:11:21.086754Z",
     "shell.execute_reply": "2021-07-30T12:11:21.087301Z"
    },
    "papermill": {
     "duration": 0.041623,
     "end_time": "2021-07-30T12:11:21.087437",
     "exception": false,
     "start_time": "2021-07-30T12:11:21.045814",
     "status": "completed"
    },
    "tags": []
   },
   "outputs": [],
   "source": [
    "#hide\n",
    "# cols = list(g.columns.values)"
   ]
  },
  {
   "cell_type": "code",
   "execution_count": 29,
   "id": "solved-farming",
   "metadata": {
    "execution": {
     "iopub.execute_input": "2021-07-30T12:11:21.160983Z",
     "iopub.status.busy": "2021-07-30T12:11:21.160389Z",
     "iopub.status.idle": "2021-07-30T12:11:21.162800Z",
     "shell.execute_reply": "2021-07-30T12:11:21.162318Z"
    },
    "papermill": {
     "duration": 0.041244,
     "end_time": "2021-07-30T12:11:21.162915",
     "exception": false,
     "start_time": "2021-07-30T12:11:21.121671",
     "status": "completed"
    },
    "tags": []
   },
   "outputs": [],
   "source": [
    "#hide\n",
    "# cols.insert(0, cols.pop())"
   ]
  },
  {
   "cell_type": "code",
   "execution_count": 30,
   "id": "executed-adoption",
   "metadata": {
    "execution": {
     "iopub.execute_input": "2021-07-30T12:11:21.236887Z",
     "iopub.status.busy": "2021-07-30T12:11:21.236302Z",
     "iopub.status.idle": "2021-07-30T12:11:21.238767Z",
     "shell.execute_reply": "2021-07-30T12:11:21.239319Z"
    },
    "papermill": {
     "duration": 0.042108,
     "end_time": "2021-07-30T12:11:21.239457",
     "exception": false,
     "start_time": "2021-07-30T12:11:21.197349",
     "status": "completed"
    },
    "tags": []
   },
   "outputs": [],
   "source": [
    "#hide\n",
    "# g = g[cols]"
   ]
  },
  {
   "cell_type": "code",
   "execution_count": 31,
   "id": "subject-dublin",
   "metadata": {
    "execution": {
     "iopub.execute_input": "2021-07-30T12:11:21.313814Z",
     "iopub.status.busy": "2021-07-30T12:11:21.313198Z",
     "iopub.status.idle": "2021-07-30T12:11:21.316211Z",
     "shell.execute_reply": "2021-07-30T12:11:21.315741Z"
    },
    "papermill": {
     "duration": 0.042008,
     "end_time": "2021-07-30T12:11:21.316326",
     "exception": false,
     "start_time": "2021-07-30T12:11:21.274318",
     "status": "completed"
    },
    "tags": []
   },
   "outputs": [],
   "source": [
    "#hide\n",
    "# g['continent'] = g['continent'].map(mapping['map.continent'])"
   ]
  },
  {
   "cell_type": "code",
   "execution_count": 32,
   "id": "freelance-scout",
   "metadata": {
    "execution": {
     "iopub.execute_input": "2021-07-30T12:11:21.389492Z",
     "iopub.status.busy": "2021-07-30T12:11:21.388902Z",
     "iopub.status.idle": "2021-07-30T12:11:21.391205Z",
     "shell.execute_reply": "2021-07-30T12:11:21.391756Z"
    },
    "papermill": {
     "duration": 0.041544,
     "end_time": "2021-07-30T12:11:21.391895",
     "exception": false,
     "start_time": "2021-07-30T12:11:21.350351",
     "status": "completed"
    },
    "tags": []
   },
   "outputs": [],
   "source": [
    "#hide\n",
    "# g.head()"
   ]
  },
  {
   "cell_type": "code",
   "execution_count": 33,
   "id": "limited-engine",
   "metadata": {
    "execution": {
     "iopub.execute_input": "2021-07-30T12:11:21.465440Z",
     "iopub.status.busy": "2021-07-30T12:11:21.464863Z",
     "iopub.status.idle": "2021-07-30T12:11:21.467479Z",
     "shell.execute_reply": "2021-07-30T12:11:21.467014Z"
    },
    "papermill": {
     "duration": 0.041223,
     "end_time": "2021-07-30T12:11:21.467601",
     "exception": false,
     "start_time": "2021-07-30T12:11:21.426378",
     "status": "completed"
    },
    "tags": []
   },
   "outputs": [],
   "source": [
    "# hide\n",
    "# g['date'] = g['date'].astype('datetime64[ns]')"
   ]
  },
  {
   "cell_type": "code",
   "execution_count": 34,
   "id": "sophisticated-supervisor",
   "metadata": {
    "execution": {
     "iopub.execute_input": "2021-07-30T12:11:21.541309Z",
     "iopub.status.busy": "2021-07-30T12:11:21.540733Z",
     "iopub.status.idle": "2021-07-30T12:11:21.543014Z",
     "shell.execute_reply": "2021-07-30T12:11:21.543514Z"
    },
    "papermill": {
     "duration": 0.041401,
     "end_time": "2021-07-30T12:11:21.543653",
     "exception": false,
     "start_time": "2021-07-30T12:11:21.502252",
     "status": "completed"
    },
    "tags": []
   },
   "outputs": [],
   "source": [
    "#hide\n",
    "# g['date'] = g.date.dt.dayofyear"
   ]
  },
  {
   "cell_type": "code",
   "execution_count": 35,
   "id": "inside-dubai",
   "metadata": {
    "execution": {
     "iopub.execute_input": "2021-07-30T12:11:21.616203Z",
     "iopub.status.busy": "2021-07-30T12:11:21.615628Z",
     "iopub.status.idle": "2021-07-30T12:11:21.617861Z",
     "shell.execute_reply": "2021-07-30T12:11:21.617353Z"
    },
    "papermill": {
     "duration": 0.040017,
     "end_time": "2021-07-30T12:11:21.617981",
     "exception": false,
     "start_time": "2021-07-30T12:11:21.577964",
     "status": "completed"
    },
    "tags": []
   },
   "outputs": [],
   "source": [
    "#hide\n",
    "# g = g.rename(columns= {'continent':'group','country':'name','cases':'value'})"
   ]
  },
  {
   "cell_type": "code",
   "execution_count": 36,
   "id": "fleet-motorcycle",
   "metadata": {
    "execution": {
     "iopub.execute_input": "2021-07-30T12:11:21.691769Z",
     "iopub.status.busy": "2021-07-30T12:11:21.691180Z",
     "iopub.status.idle": "2021-07-30T12:11:21.694081Z",
     "shell.execute_reply": "2021-07-30T12:11:21.694635Z"
    },
    "papermill": {
     "duration": 0.042447,
     "end_time": "2021-07-30T12:11:21.694773",
     "exception": false,
     "start_time": "2021-07-30T12:11:21.652326",
     "status": "completed"
    },
    "tags": []
   },
   "outputs": [],
   "source": [
    "#hide\n",
    "# cols = ['name','group','day','value']"
   ]
  },
  {
   "cell_type": "code",
   "execution_count": 37,
   "id": "continued-sleeping",
   "metadata": {
    "execution": {
     "iopub.execute_input": "2021-07-30T12:11:21.769020Z",
     "iopub.status.busy": "2021-07-30T12:11:21.768420Z",
     "iopub.status.idle": "2021-07-30T12:11:21.771170Z",
     "shell.execute_reply": "2021-07-30T12:11:21.770682Z"
    },
    "papermill": {
     "duration": 0.041829,
     "end_time": "2021-07-30T12:11:21.771288",
     "exception": false,
     "start_time": "2021-07-30T12:11:21.729459",
     "status": "completed"
    },
    "tags": []
   },
   "outputs": [],
   "source": [
    "#hide\n",
    "# g.rename(columns= {'date':'day'},inplace = True)"
   ]
  },
  {
   "cell_type": "code",
   "execution_count": 38,
   "id": "major-fight",
   "metadata": {
    "execution": {
     "iopub.execute_input": "2021-07-30T12:11:21.844996Z",
     "iopub.status.busy": "2021-07-30T12:11:21.844421Z",
     "iopub.status.idle": "2021-07-30T12:11:21.846800Z",
     "shell.execute_reply": "2021-07-30T12:11:21.847343Z"
    },
    "papermill": {
     "duration": 0.041827,
     "end_time": "2021-07-30T12:11:21.847478",
     "exception": false,
     "start_time": "2021-07-30T12:11:21.805651",
     "status": "completed"
    },
    "tags": []
   },
   "outputs": [],
   "source": [
    "#hide\n",
    "# g = g[cols]"
   ]
  },
  {
   "cell_type": "code",
   "execution_count": 39,
   "id": "structured-mobile",
   "metadata": {
    "execution": {
     "iopub.execute_input": "2021-07-30T12:11:21.920395Z",
     "iopub.status.busy": "2021-07-30T12:11:21.919820Z",
     "iopub.status.idle": "2021-07-30T12:11:21.922191Z",
     "shell.execute_reply": "2021-07-30T12:11:21.922740Z"
    },
    "papermill": {
     "duration": 0.041412,
     "end_time": "2021-07-30T12:11:21.922875",
     "exception": false,
     "start_time": "2021-07-30T12:11:21.881463",
     "status": "completed"
    },
    "tags": []
   },
   "outputs": [],
   "source": [
    "# #hide\n",
    "# g = g[g.group.notna()]"
   ]
  },
  {
   "cell_type": "code",
   "execution_count": 40,
   "id": "determined-closing",
   "metadata": {
    "execution": {
     "iopub.execute_input": "2021-07-30T12:11:21.996570Z",
     "iopub.status.busy": "2021-07-30T12:11:21.995985Z",
     "iopub.status.idle": "2021-07-30T12:11:21.999691Z",
     "shell.execute_reply": "2021-07-30T12:11:21.999132Z"
    },
    "papermill": {
     "duration": 0.042969,
     "end_time": "2021-07-30T12:11:21.999818",
     "exception": false,
     "start_time": "2021-07-30T12:11:21.956849",
     "status": "completed"
    },
    "tags": []
   },
   "outputs": [],
   "source": [
    "# #hide\n",
    "# colors = dict(zip(\n",
    "#     [\"Oceania\", \"Europe\", \"Asia\", \"South America\", \"Middle East\", \"North America\", \"Africa\"],\n",
    "#     [\"#adb0ff\", \"#ffb3ff\", \"#90d595\", \"#e48381\", \"#aafbff\", \"#f7bb5f\", \"#eafb50\"]\n",
    "# ))\n",
    "# group_lk = g.set_index('name')['group'].to_dict()"
   ]
  },
  {
   "cell_type": "code",
   "execution_count": null,
   "id": "gross-drinking",
   "metadata": {
    "papermill": {
     "duration": 0.034426,
     "end_time": "2021-07-30T12:11:22.068996",
     "exception": false,
     "start_time": "2021-07-30T12:11:22.034570",
     "status": "completed"
    },
    "tags": []
   },
   "outputs": [],
   "source": []
  },
  {
   "cell_type": "code",
   "execution_count": 41,
   "id": "subject-macintosh",
   "metadata": {
    "execution": {
     "iopub.execute_input": "2021-07-30T12:11:22.143383Z",
     "iopub.status.busy": "2021-07-30T12:11:22.142783Z",
     "iopub.status.idle": "2021-07-30T12:11:22.145376Z",
     "shell.execute_reply": "2021-07-30T12:11:22.144912Z"
    },
    "papermill": {
     "duration": 0.04201,
     "end_time": "2021-07-30T12:11:22.145499",
     "exception": false,
     "start_time": "2021-07-30T12:11:22.103489",
     "status": "completed"
    },
    "tags": []
   },
   "outputs": [],
   "source": [
    "# #hide\n",
    "# fig, ax = plt.subplots(figsize=(15, 8))\n",
    "\n",
    "# def draw_barchart(current_day):\n",
    "#     dff = g[g['day'].eq(current_day)].sort_values(by='value', ascending=True).tail(10)\n",
    "#     ax.clear()\n",
    "#     ax.barh(dff['name'], dff['value'], color=[colors[group_lk[x]] for x in dff['name']])\n",
    "#     dx = dff['value'].max() / 200\n",
    "    \n",
    "#     for i, (value, name) in enumerate(zip(dff['value'], dff['name'])):\n",
    "#         ax.text(value-dx, i,     name,           size=14, weight=600, ha='right', va='bottom')\n",
    "#         ax.text(value-dx, i-.25, group_lk[name], size=10, color='#444444', ha='right', va='baseline')\n",
    "#         ax.text(value+dx, i,     f'{value:,.0f}',  size=14, ha='left',  va='center')\n",
    "#     ax.text(1, 0.4, current_day, transform=ax.transAxes, color='#777777', size=46, ha='right', weight=800)\n",
    "#     ax.text(0, 1.06, 'Population (thousands)', transform=ax.transAxes, size=12, color='#777777')\n",
    "#     ax.xaxis.set_major_formatter(ticker.StrMethodFormatter('{x:,.0f}'))\n",
    "#     ax.xaxis.set_ticks_position('top')\n",
    "#     ax.tick_params(axis='x', colors='#777777', labelsize=12)\n",
    "#     ax.set_yticks([])\n",
    "#     ax.margins(0, 0.01)\n",
    "#     ax.grid(which='major', axis='x', linestyle='-')\n",
    "#     ax.set_axisbelow(True)\n",
    "    \n",
    "#     ax.text(0, 1.15, 'Coronavirus',\n",
    "#             transform=ax.transAxes, size=24, weight=600, ha='left', va='top')\n",
    "# #     ax.text(1, 0, 'by @pratapvardhan; credit @jburnmurdoch', transform=ax.transAxes, color='#777777', ha='right',\n",
    "# #             bbox=dict(facecolor='white', alpha=0.8, edgecolor='white'))\n",
    "#     plt.box(False)"
   ]
  },
  {
   "cell_type": "code",
   "execution_count": 42,
   "id": "sexual-wages",
   "metadata": {
    "execution": {
     "iopub.execute_input": "2021-07-30T12:11:22.218644Z",
     "iopub.status.busy": "2021-07-30T12:11:22.218056Z",
     "iopub.status.idle": "2021-07-30T12:11:22.221216Z",
     "shell.execute_reply": "2021-07-30T12:11:22.221787Z"
    },
    "papermill": {
     "duration": 0.042052,
     "end_time": "2021-07-30T12:11:22.221929",
     "exception": false,
     "start_time": "2021-07-30T12:11:22.179877",
     "status": "completed"
    },
    "tags": []
   },
   "outputs": [],
   "source": [
    "# #hide_input\n",
    "# fig, ax = plt.subplots(figsize=(15, 8))\n",
    "# animator = animation.FuncAnimation(fig, draw_barchart, frames=range(g.day.values.min(), g.day.values.max()))\n",
    "# HTML(animator.to_jshtml())\n",
    "# # or use animator.to_html5_video() or animator.save() "
   ]
  },
  {
   "cell_type": "code",
   "execution_count": null,
   "id": "australian-container",
   "metadata": {
    "papermill": {
     "duration": 0.034874,
     "end_time": "2021-07-30T12:11:22.291241",
     "exception": false,
     "start_time": "2021-07-30T12:11:22.256367",
     "status": "completed"
    },
    "tags": []
   },
   "outputs": [],
   "source": []
  },
  {
   "cell_type": "code",
   "execution_count": null,
   "id": "mediterranean-pontiac",
   "metadata": {
    "papermill": {
     "duration": 0.034,
     "end_time": "2021-07-30T12:11:22.359438",
     "exception": false,
     "start_time": "2021-07-30T12:11:22.325438",
     "status": "completed"
    },
    "tags": []
   },
   "outputs": [],
   "source": []
  },
  {
   "cell_type": "code",
   "execution_count": null,
   "id": "aging-legislature",
   "metadata": {
    "papermill": {
     "duration": 0.03411,
     "end_time": "2021-07-30T12:11:22.427995",
     "exception": false,
     "start_time": "2021-07-30T12:11:22.393885",
     "status": "completed"
    },
    "tags": []
   },
   "outputs": [],
   "source": []
  }
 ],
 "metadata": {
  "kernelspec": {
   "display_name": "Python 3",
   "language": "python",
   "name": "python3"
  },
  "language_info": {
   "codemirror_mode": {
    "name": "ipython",
    "version": 3
   },
   "file_extension": ".py",
   "mimetype": "text/x-python",
   "name": "python",
   "nbconvert_exporter": "python",
   "pygments_lexer": "ipython3",
   "version": "3.6.14"
  },
  "papermill": {
   "duration": 6.874677,
   "end_time": "2021-07-30T12:11:22.771627",
   "environment_variables": {},
   "exception": null,
   "input_path": "2020-03-21-covid19exp.ipynb",
   "output_path": "2020-03-21-covid19exp.ipynb",
   "parameters": {},
   "start_time": "2021-07-30T12:11:15.896950",
   "version": "2.0.0"
  }
 },
 "nbformat": 4,
 "nbformat_minor": 5
}