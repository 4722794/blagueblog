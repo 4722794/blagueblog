{
 "cells": [
  {
   "cell_type": "markdown",
   "id": "muslim-click",
   "metadata": {
    "papermill": {
     "duration": 0.034099,
     "end_time": "2022-01-03T00:26:36.399753",
     "exception": false,
     "start_time": "2022-01-03T00:26:36.365654",
     "status": "completed"
    },
    "tags": []
   },
   "source": [
    "# COVID-19 Case Race\n",
    "> A race chart to see rising cases around the world\n",
    "\n",
    "- author: Hargun Oberoi\n",
    "- image: images/covid-overview.png\n",
    "- hide: false\n",
    "- badges: false"
   ]
  },
  {
   "cell_type": "code",
   "execution_count": 1,
   "id": "proof-material",
   "metadata": {
    "execution": {
     "iopub.execute_input": "2022-01-03T00:26:36.483975Z",
     "iopub.status.busy": "2022-01-03T00:26:36.483377Z",
     "iopub.status.idle": "2022-01-03T00:26:36.809861Z",
     "shell.execute_reply": "2022-01-03T00:26:36.809357Z"
    },
    "papermill": {
     "duration": 0.369433,
     "end_time": "2022-01-03T00:26:36.810007",
     "exception": false,
     "start_time": "2022-01-03T00:26:36.440574",
     "status": "completed"
    },
    "tags": []
   },
   "outputs": [],
   "source": [
    "#hide\n",
    "import numpy as np\n",
    "import pandas as pd\n",
    "from jinja2 import Template\n",
    "from IPython.display import HTML"
   ]
  },
  {
   "cell_type": "code",
   "execution_count": 2,
   "id": "developed-terminology",
   "metadata": {
    "execution": {
     "iopub.execute_input": "2022-01-03T00:26:36.880606Z",
     "iopub.status.busy": "2022-01-03T00:26:36.880038Z",
     "iopub.status.idle": "2022-01-03T00:26:36.882418Z",
     "shell.execute_reply": "2022-01-03T00:26:36.881916Z"
    },
    "papermill": {
     "duration": 0.036859,
     "end_time": "2022-01-03T00:26:36.882531",
     "exception": false,
     "start_time": "2022-01-03T00:26:36.845672",
     "status": "completed"
    },
    "tags": []
   },
   "outputs": [],
   "source": [
    "#hide\n",
    "\n",
    "# FETCH\n",
    "base_url = 'https://raw.githubusercontent.com/pratapvardhan/notebooks/master/covid19/'\n",
    "paths = {\n",
    "    'mapping': base_url + 'mapping_countries.csv',\n",
    "    'overview': base_url + 'overview.tpl'\n",
    "}"
   ]
  },
  {
   "cell_type": "code",
   "execution_count": 3,
   "id": "dynamic-saver",
   "metadata": {
    "execution": {
     "iopub.execute_input": "2022-01-03T00:26:36.952694Z",
     "iopub.status.busy": "2022-01-03T00:26:36.950505Z",
     "iopub.status.idle": "2022-01-03T00:26:36.955960Z",
     "shell.execute_reply": "2022-01-03T00:26:36.955509Z"
    },
    "papermill": {
     "duration": 0.043208,
     "end_time": "2022-01-03T00:26:36.956077",
     "exception": false,
     "start_time": "2022-01-03T00:26:36.912869",
     "status": "completed"
    },
    "tags": []
   },
   "outputs": [
    {
     "data": {
      "text/plain": [
       "'https://raw.githubusercontent.com/pratapvardhan/notebooks/master/covid19/mapping_countries.csv'"
      ]
     },
     "execution_count": 3,
     "metadata": {},
     "output_type": "execute_result"
    }
   ],
   "source": [
    "#hide\n",
    "paths['mapping']"
   ]
  },
  {
   "cell_type": "code",
   "execution_count": 4,
   "id": "urban-software",
   "metadata": {
    "execution": {
     "iopub.execute_input": "2022-01-03T00:26:37.022015Z",
     "iopub.status.busy": "2022-01-03T00:26:37.021459Z",
     "iopub.status.idle": "2022-01-03T00:26:37.023839Z",
     "shell.execute_reply": "2022-01-03T00:26:37.023346Z"
    },
    "papermill": {
     "duration": 0.036473,
     "end_time": "2022-01-03T00:26:37.023965",
     "exception": false,
     "start_time": "2022-01-03T00:26:36.987492",
     "status": "completed"
    },
    "tags": []
   },
   "outputs": [],
   "source": [
    "#hide\n",
    "def get_mappings(url):\n",
    "    df = pd.read_csv(url)\n",
    "    return {\n",
    "        'df': df,\n",
    "        'replace.country': dict(df.dropna(subset=['Name']).set_index('Country')['Name']),\n",
    "        'map.continent': dict(df.set_index('Name')['Continent'])\n",
    "    }"
   ]
  },
  {
   "cell_type": "code",
   "execution_count": 5,
   "id": "intimate-machinery",
   "metadata": {
    "execution": {
     "iopub.execute_input": "2022-01-03T00:26:37.094304Z",
     "iopub.status.busy": "2022-01-03T00:26:37.093765Z",
     "iopub.status.idle": "2022-01-03T00:26:37.121468Z",
     "shell.execute_reply": "2022-01-03T00:26:37.121912Z"
    },
    "papermill": {
     "duration": 0.067864,
     "end_time": "2022-01-03T00:26:37.122036",
     "exception": false,
     "start_time": "2022-01-03T00:26:37.054172",
     "status": "completed"
    },
    "tags": []
   },
   "outputs": [],
   "source": [
    "#hide\n",
    "mapping = get_mappings(paths['mapping'])"
   ]
  },
  {
   "cell_type": "code",
   "execution_count": 6,
   "id": "certified-tactics",
   "metadata": {
    "execution": {
     "iopub.execute_input": "2022-01-03T00:26:37.190669Z",
     "iopub.status.busy": "2022-01-03T00:26:37.190098Z",
     "iopub.status.idle": "2022-01-03T00:26:37.192754Z",
     "shell.execute_reply": "2022-01-03T00:26:37.192203Z"
    },
    "papermill": {
     "duration": 0.039292,
     "end_time": "2022-01-03T00:26:37.192870",
     "exception": false,
     "start_time": "2022-01-03T00:26:37.153578",
     "status": "completed"
    },
    "tags": []
   },
   "outputs": [],
   "source": [
    "#hide\n",
    "def get_template(path):\n",
    "    from urllib.parse import urlparse\n",
    "    if bool(urlparse(path).netloc):\n",
    "        from urllib.request import urlopen\n",
    "        return urlopen(path).read().decode('utf8')\n",
    "    return open(path).read()"
   ]
  },
  {
   "cell_type": "code",
   "execution_count": 7,
   "id": "realistic-blast",
   "metadata": {
    "execution": {
     "iopub.execute_input": "2022-01-03T00:26:37.262352Z",
     "iopub.status.busy": "2022-01-03T00:26:37.261626Z",
     "iopub.status.idle": "2022-01-03T00:26:37.264439Z",
     "shell.execute_reply": "2022-01-03T00:26:37.263756Z"
    },
    "papermill": {
     "duration": 0.03921,
     "end_time": "2022-01-03T00:26:37.264580",
     "exception": false,
     "start_time": "2022-01-03T00:26:37.225370",
     "status": "completed"
    },
    "tags": []
   },
   "outputs": [],
   "source": [
    "#hide\n",
    "def get_frame(name):\n",
    "    url = (\n",
    "        'https://raw.githubusercontent.com/CSSEGISandData/COVID-19/master/csse_covid_19_data/'\n",
    "        f'csse_covid_19_time_series/time_series_covid19_{name}_global.csv')\n",
    "    df = pd.read_csv(url)\n",
    "    # rename countries\n",
    "    df['Country/Region'] = df['Country/Region'].replace(mapping['replace.country'])\n",
    "    return df"
   ]
  },
  {
   "cell_type": "code",
   "execution_count": 8,
   "id": "affiliated-characterization",
   "metadata": {
    "execution": {
     "iopub.execute_input": "2022-01-03T00:26:37.336434Z",
     "iopub.status.busy": "2022-01-03T00:26:37.335845Z",
     "iopub.status.idle": "2022-01-03T00:26:37.338223Z",
     "shell.execute_reply": "2022-01-03T00:26:37.337736Z"
    },
    "papermill": {
     "duration": 0.039688,
     "end_time": "2022-01-03T00:26:37.338359",
     "exception": false,
     "start_time": "2022-01-03T00:26:37.298671",
     "status": "completed"
    },
    "tags": []
   },
   "outputs": [],
   "source": [
    "#hide\n",
    "def get_dates(df):\n",
    "    dt_cols = df.columns[~df.columns.isin(['Province/State', 'Country/Region', 'Lat', 'Long'])]\n",
    "    LAST_DATE_I = -1\n",
    "    # sometimes last column may be empty, then go backwards\n",
    "    for i in range(-1, -len(dt_cols), -1):\n",
    "        if not df[dt_cols[i]].fillna(0).eq(0).all():\n",
    "            LAST_DATE_I = i\n",
    "            break\n",
    "    return LAST_DATE_I, dt_cols"
   ]
  },
  {
   "cell_type": "code",
   "execution_count": 9,
   "id": "recent-optimization",
   "metadata": {
    "execution": {
     "iopub.execute_input": "2022-01-03T00:26:37.408105Z",
     "iopub.status.busy": "2022-01-03T00:26:37.407512Z",
     "iopub.status.idle": "2022-01-03T00:26:37.740361Z",
     "shell.execute_reply": "2022-01-03T00:26:37.739889Z"
    },
    "papermill": {
     "duration": 0.37047,
     "end_time": "2022-01-03T00:26:37.740488",
     "exception": false,
     "start_time": "2022-01-03T00:26:37.370018",
     "status": "completed"
    },
    "tags": []
   },
   "outputs": [],
   "source": [
    "#hide\n",
    "COL_REGION = 'Country/Region'\n",
    "# Confirmed, Recovered, Deaths\n",
    "df = get_frame('confirmed')\n",
    "# dft_: timeseries, dfc_: today country agg\n",
    "dft_cases = df\n",
    "dft_deaths = get_frame('deaths')\n",
    "dft_recovered = get_frame('recovered')\n",
    "LAST_DATE_I, dt_cols = get_dates(df)"
   ]
  },
  {
   "cell_type": "code",
   "execution_count": 10,
   "id": "absolute-copper",
   "metadata": {
    "execution": {
     "iopub.execute_input": "2022-01-03T00:26:37.810575Z",
     "iopub.status.busy": "2022-01-03T00:26:37.810036Z",
     "iopub.status.idle": "2022-01-03T00:26:37.811909Z",
     "shell.execute_reply": "2022-01-03T00:26:37.812322Z"
    },
    "papermill": {
     "duration": 0.037435,
     "end_time": "2022-01-03T00:26:37.812448",
     "exception": false,
     "start_time": "2022-01-03T00:26:37.775013",
     "status": "completed"
    },
    "tags": []
   },
   "outputs": [],
   "source": [
    "#hide\n",
    "LAST_DATE_I, dt_cols = get_dates(df)\n",
    "dt_today =dt_cols[LAST_DATE_I]\n",
    "# dt_5day = dt_cols[LAST_DATE_I - 5]\n",
    "dt_yday = dt_cols[LAST_DATE_I - 1]"
   ]
  },
  {
   "cell_type": "code",
   "execution_count": 11,
   "id": "restricted-sheriff",
   "metadata": {
    "execution": {
     "iopub.execute_input": "2022-01-03T00:26:37.877688Z",
     "iopub.status.busy": "2022-01-03T00:26:37.877089Z",
     "iopub.status.idle": "2022-01-03T00:26:37.887516Z",
     "shell.execute_reply": "2022-01-03T00:26:37.886932Z"
    },
    "papermill": {
     "duration": 0.045506,
     "end_time": "2022-01-03T00:26:37.887625",
     "exception": false,
     "start_time": "2022-01-03T00:26:37.842119",
     "status": "completed"
    },
    "tags": []
   },
   "outputs": [],
   "source": [
    "#hide\n",
    "dfc_cases = dft_cases.groupby(COL_REGION)[dt_today].sum()\n",
    "dfc_deaths = dft_deaths.groupby(COL_REGION)[dt_today].sum()\n",
    "# dfp_cases = dft_cases.groupby(COL_REGION)[dt_5day].sum()\n",
    "# dfp_deaths = dft_deaths.groupby(COL_REGION)[dt_5day].sum()\n",
    "dfp_cases = dft_cases.groupby(COL_REGION)[dt_yday].sum()\n",
    "dfp_deaths = dft_deaths.groupby(COL_REGION)[dt_yday].sum()"
   ]
  },
  {
   "cell_type": "code",
   "execution_count": 12,
   "id": "deluxe-hepatitis",
   "metadata": {
    "execution": {
     "iopub.execute_input": "2022-01-03T00:26:37.953883Z",
     "iopub.status.busy": "2022-01-03T00:26:37.953343Z",
     "iopub.status.idle": "2022-01-03T00:26:37.957771Z",
     "shell.execute_reply": "2022-01-03T00:26:37.958237Z"
    },
    "papermill": {
     "duration": 0.040121,
     "end_time": "2022-01-03T00:26:37.958353",
     "exception": false,
     "start_time": "2022-01-03T00:26:37.918232",
     "status": "completed"
    },
    "tags": []
   },
   "outputs": [],
   "source": [
    "#hide\n",
    "df_table = (pd.DataFrame(dict(Cases = dfc_cases, Deaths = dfc_deaths, PCases = dfp_cases, PDeaths = dfp_deaths))\n",
    "            .sort_values(by = ['Cases','Deaths'], ascending = [False, False])\n",
    "            .reset_index())"
   ]
  },
  {
   "cell_type": "code",
   "execution_count": 13,
   "id": "educational-chancellor",
   "metadata": {
    "execution": {
     "iopub.execute_input": "2022-01-03T00:26:38.042357Z",
     "iopub.status.busy": "2022-01-03T00:26:38.041786Z",
     "iopub.status.idle": "2022-01-03T00:26:38.050491Z",
     "shell.execute_reply": "2022-01-03T00:26:38.050032Z"
    },
    "papermill": {
     "duration": 0.060206,
     "end_time": "2022-01-03T00:26:38.050600",
     "exception": false,
     "start_time": "2022-01-03T00:26:37.990394",
     "status": "completed"
    },
    "tags": []
   },
   "outputs": [
    {
     "data": {
      "text/html": [
       "<div>\n",
       "<style scoped>\n",
       "    .dataframe tbody tr th:only-of-type {\n",
       "        vertical-align: middle;\n",
       "    }\n",
       "\n",
       "    .dataframe tbody tr th {\n",
       "        vertical-align: top;\n",
       "    }\n",
       "\n",
       "    .dataframe thead th {\n",
       "        text-align: right;\n",
       "    }\n",
       "</style>\n",
       "<table border=\"1\" class=\"dataframe\">\n",
       "  <thead>\n",
       "    <tr style=\"text-align: right;\">\n",
       "      <th></th>\n",
       "      <th>Country/Region</th>\n",
       "      <th>Cases</th>\n",
       "      <th>Deaths</th>\n",
       "      <th>PCases</th>\n",
       "      <th>PDeaths</th>\n",
       "      <th>Cases (+)</th>\n",
       "      <th>Deaths (+)</th>\n",
       "      <th>Fatality Rate</th>\n",
       "      <th>Continent</th>\n",
       "    </tr>\n",
       "  </thead>\n",
       "  <tbody>\n",
       "    <tr>\n",
       "      <th>0</th>\n",
       "      <td>US</td>\n",
       "      <td>54859966</td>\n",
       "      <td>825816</td>\n",
       "      <td>54743982</td>\n",
       "      <td>825536</td>\n",
       "      <td>115984</td>\n",
       "      <td>280</td>\n",
       "      <td>1.51</td>\n",
       "      <td>North America</td>\n",
       "    </tr>\n",
       "    <tr>\n",
       "      <th>1</th>\n",
       "      <td>India</td>\n",
       "      <td>34889132</td>\n",
       "      <td>481770</td>\n",
       "      <td>34861579</td>\n",
       "      <td>481486</td>\n",
       "      <td>27553</td>\n",
       "      <td>284</td>\n",
       "      <td>1.38</td>\n",
       "      <td>Asia</td>\n",
       "    </tr>\n",
       "    <tr>\n",
       "      <th>2</th>\n",
       "      <td>Brazil</td>\n",
       "      <td>22295621</td>\n",
       "      <td>619367</td>\n",
       "      <td>22291839</td>\n",
       "      <td>619334</td>\n",
       "      <td>3782</td>\n",
       "      <td>33</td>\n",
       "      <td>2.78</td>\n",
       "      <td>South America</td>\n",
       "    </tr>\n",
       "    <tr>\n",
       "      <th>3</th>\n",
       "      <td>United Kingdom</td>\n",
       "      <td>13174528</td>\n",
       "      <td>149251</td>\n",
       "      <td>13011556</td>\n",
       "      <td>149096</td>\n",
       "      <td>162972</td>\n",
       "      <td>155</td>\n",
       "      <td>1.13</td>\n",
       "      <td>Europe</td>\n",
       "    </tr>\n",
       "    <tr>\n",
       "      <th>4</th>\n",
       "      <td>Russia</td>\n",
       "      <td>10340011</td>\n",
       "      <td>303496</td>\n",
       "      <td>10320405</td>\n",
       "      <td>302671</td>\n",
       "      <td>19606</td>\n",
       "      <td>825</td>\n",
       "      <td>2.94</td>\n",
       "      <td>Europe</td>\n",
       "    </tr>\n",
       "  </tbody>\n",
       "</table>\n",
       "</div>"
      ],
      "text/plain": [
       "   Country/Region     Cases  Deaths    PCases  PDeaths  Cases (+)  Deaths (+)  \\\n",
       "0              US  54859966  825816  54743982   825536     115984         280   \n",
       "1           India  34889132  481770  34861579   481486      27553         284   \n",
       "2          Brazil  22295621  619367  22291839   619334       3782          33   \n",
       "3  United Kingdom  13174528  149251  13011556   149096     162972         155   \n",
       "4          Russia  10340011  303496  10320405   302671      19606         825   \n",
       "\n",
       "   Fatality Rate      Continent  \n",
       "0           1.51  North America  \n",
       "1           1.38           Asia  \n",
       "2           2.78  South America  \n",
       "3           1.13         Europe  \n",
       "4           2.94         Europe  "
      ]
     },
     "execution_count": 13,
     "metadata": {},
     "output_type": "execute_result"
    }
   ],
   "source": [
    "#hide\n",
    "for c in 'Cases, Deaths'.split(', '):\n",
    "    df_table[f'{c} (+)'] = (df_table[c] - df_table[f'P{c}']).clip(0)\n",
    "    #Clip ça veut dire, les chiffres negatif sont interdit\n",
    "df_table['Fatality Rate'] = (100* df_table['Deaths']/ df_table['Cases']).round(2)\n",
    "df_table['Continent'] = df_table['Country/Region'].map(mapping['map.continent'])\n",
    "df_table.head(5)"
   ]
  },
  {
   "cell_type": "code",
   "execution_count": 14,
   "id": "aboriginal-bulgaria",
   "metadata": {
    "execution": {
     "iopub.execute_input": "2022-01-03T00:26:38.123379Z",
     "iopub.status.busy": "2022-01-03T00:26:38.122825Z",
     "iopub.status.idle": "2022-01-03T00:26:38.125255Z",
     "shell.execute_reply": "2022-01-03T00:26:38.124742Z"
    },
    "papermill": {
     "duration": 0.042333,
     "end_time": "2022-01-03T00:26:38.125367",
     "exception": false,
     "start_time": "2022-01-03T00:26:38.083034",
     "status": "completed"
    },
    "tags": []
   },
   "outputs": [],
   "source": [
    "#hide\n",
    "#delete problematic countries from table\n",
    "df_table = df_table[~df_table['Country/Region'].isin(['Cape Verde', 'Cruise Ship', 'Kosovo'])]"
   ]
  },
  {
   "cell_type": "code",
   "execution_count": 15,
   "id": "fantastic-effect",
   "metadata": {
    "execution": {
     "iopub.execute_input": "2022-01-03T00:26:38.197039Z",
     "iopub.status.busy": "2022-01-03T00:26:38.196417Z",
     "iopub.status.idle": "2022-01-03T00:26:38.215723Z",
     "shell.execute_reply": "2022-01-03T00:26:38.215266Z"
    },
    "papermill": {
     "duration": 0.058124,
     "end_time": "2022-01-03T00:26:38.215827",
     "exception": false,
     "start_time": "2022-01-03T00:26:38.157703",
     "status": "completed"
    },
    "tags": []
   },
   "outputs": [
    {
     "data": {
      "text/html": [
       "<div>\n",
       "<style scoped>\n",
       "    .dataframe tbody tr th:only-of-type {\n",
       "        vertical-align: middle;\n",
       "    }\n",
       "\n",
       "    .dataframe tbody tr th {\n",
       "        vertical-align: top;\n",
       "    }\n",
       "\n",
       "    .dataframe thead th {\n",
       "        text-align: right;\n",
       "    }\n",
       "</style>\n",
       "<table border=\"1\" class=\"dataframe\">\n",
       "  <thead>\n",
       "    <tr style=\"text-align: right;\">\n",
       "      <th></th>\n",
       "      <th>Country/Region</th>\n",
       "      <th>Cases</th>\n",
       "      <th>Deaths</th>\n",
       "      <th>PCases</th>\n",
       "      <th>PDeaths</th>\n",
       "      <th>Cases (+)</th>\n",
       "      <th>Deaths (+)</th>\n",
       "      <th>Fatality Rate</th>\n",
       "      <th>Continent</th>\n",
       "    </tr>\n",
       "  </thead>\n",
       "  <tbody>\n",
       "    <tr>\n",
       "      <th>0</th>\n",
       "      <td>US</td>\n",
       "      <td>54859966</td>\n",
       "      <td>825816</td>\n",
       "      <td>54743982</td>\n",
       "      <td>825536</td>\n",
       "      <td>115984</td>\n",
       "      <td>280</td>\n",
       "      <td>1.5</td>\n",
       "      <td>North America</td>\n",
       "    </tr>\n",
       "    <tr>\n",
       "      <th>1</th>\n",
       "      <td>India</td>\n",
       "      <td>34889132</td>\n",
       "      <td>481770</td>\n",
       "      <td>34861579</td>\n",
       "      <td>481486</td>\n",
       "      <td>27553</td>\n",
       "      <td>284</td>\n",
       "      <td>1.4</td>\n",
       "      <td>Asia</td>\n",
       "    </tr>\n",
       "    <tr>\n",
       "      <th>2</th>\n",
       "      <td>Brazil</td>\n",
       "      <td>22295621</td>\n",
       "      <td>619367</td>\n",
       "      <td>22291839</td>\n",
       "      <td>619334</td>\n",
       "      <td>3782</td>\n",
       "      <td>33</td>\n",
       "      <td>2.8</td>\n",
       "      <td>South America</td>\n",
       "    </tr>\n",
       "    <tr>\n",
       "      <th>3</th>\n",
       "      <td>United Kingdom</td>\n",
       "      <td>13174528</td>\n",
       "      <td>149251</td>\n",
       "      <td>13011556</td>\n",
       "      <td>149096</td>\n",
       "      <td>162972</td>\n",
       "      <td>155</td>\n",
       "      <td>1.1</td>\n",
       "      <td>Europe</td>\n",
       "    </tr>\n",
       "    <tr>\n",
       "      <th>4</th>\n",
       "      <td>Russia</td>\n",
       "      <td>10340011</td>\n",
       "      <td>303496</td>\n",
       "      <td>10320405</td>\n",
       "      <td>302671</td>\n",
       "      <td>19606</td>\n",
       "      <td>825</td>\n",
       "      <td>2.9</td>\n",
       "      <td>Europe</td>\n",
       "    </tr>\n",
       "  </tbody>\n",
       "</table>\n",
       "</div>"
      ],
      "text/plain": [
       "   Country/Region     Cases  Deaths    PCases  PDeaths  Cases (+)  Deaths (+)  \\\n",
       "0              US  54859966  825816  54743982   825536     115984         280   \n",
       "1           India  34889132  481770  34861579   481486      27553         284   \n",
       "2          Brazil  22295621  619367  22291839   619334       3782          33   \n",
       "3  United Kingdom  13174528  149251  13011556   149096     162972         155   \n",
       "4          Russia  10340011  303496  10320405   302671      19606         825   \n",
       "\n",
       "   Fatality Rate      Continent  \n",
       "0            1.5  North America  \n",
       "1            1.4           Asia  \n",
       "2            2.8  South America  \n",
       "3            1.1         Europe  \n",
       "4            2.9         Europe  "
      ]
     },
     "execution_count": 15,
     "metadata": {},
     "output_type": "execute_result"
    }
   ],
   "source": [
    "#hide\n",
    "df_table = (pd.DataFrame(dict(Cases=dfc_cases, Deaths=dfc_deaths, PCases=dfp_cases, PDeaths=dfp_deaths))\n",
    "             .sort_values(by=['Cases', 'Deaths'], ascending=[False, False])\n",
    "             .reset_index())\n",
    "df_table.rename(columns={'index': 'Country/Region'}, inplace=True)\n",
    "for c in 'Cases, Deaths'.split(', '):\n",
    "    df_table[f'{c} (+)'] = (df_table[c] - df_table[f'P{c}']).clip(0)  # DATA BUG\n",
    "df_table['Fatality Rate'] = (100 * df_table['Deaths'] / df_table['Cases']).round(1)\n",
    "df_table['Continent'] = df_table['Country/Region'].map(mapping['map.continent'])\n",
    "df_table.head(5)"
   ]
  },
  {
   "cell_type": "code",
   "execution_count": 16,
   "id": "fewer-occasion",
   "metadata": {
    "execution": {
     "iopub.execute_input": "2022-01-03T00:26:38.301273Z",
     "iopub.status.busy": "2022-01-03T00:26:38.300727Z",
     "iopub.status.idle": "2022-01-03T00:26:38.303892Z",
     "shell.execute_reply": "2022-01-03T00:26:38.304312Z"
    },
    "papermill": {
     "duration": 0.039803,
     "end_time": "2022-01-03T00:26:38.304430",
     "exception": false,
     "start_time": "2022-01-03T00:26:38.264627",
     "status": "completed"
    },
    "tags": []
   },
   "outputs": [],
   "source": [
    "#hide\n",
    "#delete problematic countries from table\n",
    "df_table = df_table[~df_table['Country/Region'].isin(['Cape Verde', 'Cruise Ship', 'Kosovo'])]"
   ]
  },
  {
   "cell_type": "code",
   "execution_count": 17,
   "id": "related-center",
   "metadata": {
    "execution": {
     "iopub.execute_input": "2022-01-03T00:26:38.389963Z",
     "iopub.status.busy": "2022-01-03T00:26:38.389378Z",
     "iopub.status.idle": "2022-01-03T00:26:38.392257Z",
     "shell.execute_reply": "2022-01-03T00:26:38.391693Z"
    },
    "papermill": {
     "duration": 0.054038,
     "end_time": "2022-01-03T00:26:38.392370",
     "exception": false,
     "start_time": "2022-01-03T00:26:38.338332",
     "status": "completed"
    },
    "tags": []
   },
   "outputs": [],
   "source": [
    "#hide\n",
    "metrics = [df_table.columns[index] for index in [1,2,5,6]]\n",
    "# s_china = df_table[df_table['Country/Region'].eq('China')][metrics].sum().add_prefix('China ')\n",
    "s_us = df_table[df_table['Country/Region'].eq('US')][metrics].sum().add_prefix('US ')\n",
    "s_eu = df_table[df_table['Continent'].eq('Europe')][metrics].sum().add_prefix('EU ')\n",
    "s_ind = df_table[df_table['Country/Region'].eq('India')][metrics].sum().add_prefix('India ')\n",
    "summary = {'updated': pd.to_datetime(dt_today), 'since': pd.to_datetime(dt_yday)}\n",
    "summary = {'updated': pd.to_datetime(dt_today), 'since': pd.to_datetime(dt_yday)}\n",
    "summary = {**summary, **df_table[metrics].sum(), **s_ind, **s_us, **s_eu}"
   ]
  },
  {
   "cell_type": "code",
   "execution_count": 18,
   "id": "engaging-syndrome",
   "metadata": {
    "execution": {
     "iopub.execute_input": "2022-01-03T00:26:38.465508Z",
     "iopub.status.busy": "2022-01-03T00:26:38.462960Z",
     "iopub.status.idle": "2022-01-03T00:26:38.476519Z",
     "shell.execute_reply": "2022-01-03T00:26:38.477021Z"
    },
    "papermill": {
     "duration": 0.053475,
     "end_time": "2022-01-03T00:26:38.477144",
     "exception": false,
     "start_time": "2022-01-03T00:26:38.423669",
     "status": "completed"
    },
    "tags": []
   },
   "outputs": [],
   "source": [
    "#hide\n",
    "dft_ct_new_cases = dft_cases.groupby(COL_REGION)[dt_cols].sum().diff(axis=1).fillna(0).astype(int)"
   ]
  },
  {
   "cell_type": "code",
   "execution_count": 19,
   "id": "neutral-assignment",
   "metadata": {
    "execution": {
     "iopub.execute_input": "2022-01-03T00:26:38.544816Z",
     "iopub.status.busy": "2022-01-03T00:26:38.544211Z",
     "iopub.status.idle": "2022-01-03T00:26:38.547941Z",
     "shell.execute_reply": "2022-01-03T00:26:38.547373Z"
    },
    "papermill": {
     "duration": 0.039347,
     "end_time": "2022-01-03T00:26:38.548050",
     "exception": false,
     "start_time": "2022-01-03T00:26:38.508703",
     "status": "completed"
    },
    "tags": []
   },
   "outputs": [],
   "source": [
    "#hide\n",
    "everydaycases = dft_ct_new_cases.cumsum(axis=1)"
   ]
  },
  {
   "cell_type": "code",
   "execution_count": 20,
   "id": "parliamentary-calgary",
   "metadata": {
    "execution": {
     "iopub.execute_input": "2022-01-03T00:26:38.616922Z",
     "iopub.status.busy": "2022-01-03T00:26:38.616324Z",
     "iopub.status.idle": "2022-01-03T00:26:39.207891Z",
     "shell.execute_reply": "2022-01-03T00:26:39.207382Z"
    },
    "papermill": {
     "duration": 0.627152,
     "end_time": "2022-01-03T00:26:39.208015",
     "exception": false,
     "start_time": "2022-01-03T00:26:38.580863",
     "status": "completed"
    },
    "tags": []
   },
   "outputs": [],
   "source": [
    "#hide\n",
    "import pandas as pd\n",
    "import matplotlib.pyplot as plt\n",
    "import matplotlib.ticker as ticker\n",
    "import matplotlib.animation as animation\n",
    "from IPython.display import HTML"
   ]
  },
  {
   "cell_type": "code",
   "execution_count": 21,
   "id": "lasting-extraction",
   "metadata": {
    "execution": {
     "iopub.execute_input": "2022-01-03T00:26:39.279043Z",
     "iopub.status.busy": "2022-01-03T00:26:39.278496Z",
     "iopub.status.idle": "2022-01-03T00:26:39.284311Z",
     "shell.execute_reply": "2022-01-03T00:26:39.283853Z"
    },
    "papermill": {
     "duration": 0.043803,
     "end_time": "2022-01-03T00:26:39.284418",
     "exception": false,
     "start_time": "2022-01-03T00:26:39.240615",
     "status": "completed"
    },
    "tags": []
   },
   "outputs": [],
   "source": [
    "#hide\n",
    "t = everydaycases.stack()"
   ]
  },
  {
   "cell_type": "code",
   "execution_count": 22,
   "id": "premier-sleeve",
   "metadata": {
    "execution": {
     "iopub.execute_input": "2022-01-03T00:26:39.349503Z",
     "iopub.status.busy": "2022-01-03T00:26:39.348964Z",
     "iopub.status.idle": "2022-01-03T00:26:39.357424Z",
     "shell.execute_reply": "2022-01-03T00:26:39.357937Z"
    },
    "papermill": {
     "duration": 0.042834,
     "end_time": "2022-01-03T00:26:39.358053",
     "exception": false,
     "start_time": "2022-01-03T00:26:39.315219",
     "status": "completed"
    },
    "tags": []
   },
   "outputs": [],
   "source": [
    "#hide\n",
    "g = t.reset_index(['Country/Region'])"
   ]
  },
  {
   "cell_type": "code",
   "execution_count": 23,
   "id": "distributed-pittsburgh",
   "metadata": {
    "execution": {
     "iopub.execute_input": "2022-01-03T00:26:39.431442Z",
     "iopub.status.busy": "2022-01-03T00:26:39.430662Z",
     "iopub.status.idle": "2022-01-03T00:26:39.432779Z",
     "shell.execute_reply": "2022-01-03T00:26:39.433218Z"
    },
    "papermill": {
     "duration": 0.043399,
     "end_time": "2022-01-03T00:26:39.433339",
     "exception": false,
     "start_time": "2022-01-03T00:26:39.389940",
     "status": "completed"
    },
    "tags": []
   },
   "outputs": [],
   "source": [
    "#hide\n",
    "g.index.name = 'date'"
   ]
  },
  {
   "cell_type": "code",
   "execution_count": 24,
   "id": "naked-donor",
   "metadata": {
    "execution": {
     "iopub.execute_input": "2022-01-03T00:26:39.501127Z",
     "iopub.status.busy": "2022-01-03T00:26:39.500434Z",
     "iopub.status.idle": "2022-01-03T00:26:39.502496Z",
     "shell.execute_reply": "2022-01-03T00:26:39.502955Z"
    },
    "papermill": {
     "duration": 0.039423,
     "end_time": "2022-01-03T00:26:39.503086",
     "exception": false,
     "start_time": "2022-01-03T00:26:39.463663",
     "status": "completed"
    },
    "tags": []
   },
   "outputs": [],
   "source": [
    "# #hide\n",
    "# g = g.reset_index(['date'])"
   ]
  },
  {
   "cell_type": "code",
   "execution_count": 25,
   "id": "incomplete-mustang",
   "metadata": {
    "execution": {
     "iopub.execute_input": "2022-01-03T00:26:39.574704Z",
     "iopub.status.busy": "2022-01-03T00:26:39.574118Z",
     "iopub.status.idle": "2022-01-03T00:26:39.577630Z",
     "shell.execute_reply": "2022-01-03T00:26:39.578062Z"
    },
    "papermill": {
     "duration": 0.039811,
     "end_time": "2022-01-03T00:26:39.578191",
     "exception": false,
     "start_time": "2022-01-03T00:26:39.538380",
     "status": "completed"
    },
    "tags": []
   },
   "outputs": [],
   "source": [
    "#hide\n",
    "# g.head()"
   ]
  },
  {
   "cell_type": "code",
   "execution_count": 26,
   "id": "specific-kruger",
   "metadata": {
    "execution": {
     "iopub.execute_input": "2022-01-03T00:26:39.651132Z",
     "iopub.status.busy": "2022-01-03T00:26:39.650567Z",
     "iopub.status.idle": "2022-01-03T00:26:39.652605Z",
     "shell.execute_reply": "2022-01-03T00:26:39.653065Z"
    },
    "papermill": {
     "duration": 0.040832,
     "end_time": "2022-01-03T00:26:39.653342",
     "exception": false,
     "start_time": "2022-01-03T00:26:39.612510",
     "status": "completed"
    },
    "tags": []
   },
   "outputs": [],
   "source": [
    "#hide\n",
    "# g.columns = ['date','country','cases']"
   ]
  },
  {
   "cell_type": "code",
   "execution_count": 27,
   "id": "tender-conversion",
   "metadata": {
    "execution": {
     "iopub.execute_input": "2022-01-03T00:26:39.725804Z",
     "iopub.status.busy": "2022-01-03T00:26:39.725211Z",
     "iopub.status.idle": "2022-01-03T00:26:39.727540Z",
     "shell.execute_reply": "2022-01-03T00:26:39.727052Z"
    },
    "papermill": {
     "duration": 0.041535,
     "end_time": "2022-01-03T00:26:39.727656",
     "exception": false,
     "start_time": "2022-01-03T00:26:39.686121",
     "status": "completed"
    },
    "tags": []
   },
   "outputs": [],
   "source": [
    "#hide\n",
    "# g['continent'] = g.country"
   ]
  },
  {
   "cell_type": "code",
   "execution_count": 28,
   "id": "substantial-wilderness",
   "metadata": {
    "execution": {
     "iopub.execute_input": "2022-01-03T00:26:39.801086Z",
     "iopub.status.busy": "2022-01-03T00:26:39.800328Z",
     "iopub.status.idle": "2022-01-03T00:26:39.802970Z",
     "shell.execute_reply": "2022-01-03T00:26:39.802425Z"
    },
    "papermill": {
     "duration": 0.040149,
     "end_time": "2022-01-03T00:26:39.803096",
     "exception": false,
     "start_time": "2022-01-03T00:26:39.762947",
     "status": "completed"
    },
    "tags": []
   },
   "outputs": [],
   "source": [
    "#hide\n",
    "# cols = list(g.columns.values)"
   ]
  },
  {
   "cell_type": "code",
   "execution_count": 29,
   "id": "solved-farming",
   "metadata": {
    "execution": {
     "iopub.execute_input": "2022-01-03T00:26:39.874777Z",
     "iopub.status.busy": "2022-01-03T00:26:39.874211Z",
     "iopub.status.idle": "2022-01-03T00:26:39.876903Z",
     "shell.execute_reply": "2022-01-03T00:26:39.876392Z"
    },
    "papermill": {
     "duration": 0.037735,
     "end_time": "2022-01-03T00:26:39.877018",
     "exception": false,
     "start_time": "2022-01-03T00:26:39.839283",
     "status": "completed"
    },
    "tags": []
   },
   "outputs": [],
   "source": [
    "#hide\n",
    "# cols.insert(0, cols.pop())"
   ]
  },
  {
   "cell_type": "code",
   "execution_count": 30,
   "id": "executed-adoption",
   "metadata": {
    "execution": {
     "iopub.execute_input": "2022-01-03T00:26:39.946744Z",
     "iopub.status.busy": "2022-01-03T00:26:39.946142Z",
     "iopub.status.idle": "2022-01-03T00:26:39.947882Z",
     "shell.execute_reply": "2022-01-03T00:26:39.948294Z"
    },
    "papermill": {
     "duration": 0.039351,
     "end_time": "2022-01-03T00:26:39.948421",
     "exception": false,
     "start_time": "2022-01-03T00:26:39.909070",
     "status": "completed"
    },
    "tags": []
   },
   "outputs": [],
   "source": [
    "#hide\n",
    "# g = g[cols]"
   ]
  },
  {
   "cell_type": "code",
   "execution_count": 31,
   "id": "subject-dublin",
   "metadata": {
    "execution": {
     "iopub.execute_input": "2022-01-03T00:26:40.014814Z",
     "iopub.status.busy": "2022-01-03T00:26:40.014198Z",
     "iopub.status.idle": "2022-01-03T00:26:40.016793Z",
     "shell.execute_reply": "2022-01-03T00:26:40.016076Z"
    },
    "papermill": {
     "duration": 0.037888,
     "end_time": "2022-01-03T00:26:40.016978",
     "exception": false,
     "start_time": "2022-01-03T00:26:39.979090",
     "status": "completed"
    },
    "tags": []
   },
   "outputs": [],
   "source": [
    "#hide\n",
    "# g['continent'] = g['continent'].map(mapping['map.continent'])"
   ]
  },
  {
   "cell_type": "code",
   "execution_count": 32,
   "id": "freelance-scout",
   "metadata": {
    "execution": {
     "iopub.execute_input": "2022-01-03T00:26:40.090444Z",
     "iopub.status.busy": "2022-01-03T00:26:40.089858Z",
     "iopub.status.idle": "2022-01-03T00:26:40.092106Z",
     "shell.execute_reply": "2022-01-03T00:26:40.091639Z"
    },
    "papermill": {
     "duration": 0.039646,
     "end_time": "2022-01-03T00:26:40.092225",
     "exception": false,
     "start_time": "2022-01-03T00:26:40.052579",
     "status": "completed"
    },
    "tags": []
   },
   "outputs": [],
   "source": [
    "#hide\n",
    "# g.head()"
   ]
  },
  {
   "cell_type": "code",
   "execution_count": 33,
   "id": "limited-engine",
   "metadata": {
    "execution": {
     "iopub.execute_input": "2022-01-03T00:26:40.165423Z",
     "iopub.status.busy": "2022-01-03T00:26:40.164816Z",
     "iopub.status.idle": "2022-01-03T00:26:40.167163Z",
     "shell.execute_reply": "2022-01-03T00:26:40.166742Z"
    },
    "papermill": {
     "duration": 0.041687,
     "end_time": "2022-01-03T00:26:40.167271",
     "exception": false,
     "start_time": "2022-01-03T00:26:40.125584",
     "status": "completed"
    },
    "tags": []
   },
   "outputs": [],
   "source": [
    "# hide\n",
    "# g['date'] = g['date'].astype('datetime64[ns]')"
   ]
  },
  {
   "cell_type": "code",
   "execution_count": 34,
   "id": "sophisticated-supervisor",
   "metadata": {
    "execution": {
     "iopub.execute_input": "2022-01-03T00:26:40.231948Z",
     "iopub.status.busy": "2022-01-03T00:26:40.231170Z",
     "iopub.status.idle": "2022-01-03T00:26:40.235293Z",
     "shell.execute_reply": "2022-01-03T00:26:40.234854Z"
    },
    "papermill": {
     "duration": 0.037254,
     "end_time": "2022-01-03T00:26:40.235401",
     "exception": false,
     "start_time": "2022-01-03T00:26:40.198147",
     "status": "completed"
    },
    "tags": []
   },
   "outputs": [],
   "source": [
    "#hide\n",
    "# g['date'] = g.date.dt.dayofyear"
   ]
  },
  {
   "cell_type": "code",
   "execution_count": 35,
   "id": "inside-dubai",
   "metadata": {
    "execution": {
     "iopub.execute_input": "2022-01-03T00:26:40.302417Z",
     "iopub.status.busy": "2022-01-03T00:26:40.301674Z",
     "iopub.status.idle": "2022-01-03T00:26:40.305205Z",
     "shell.execute_reply": "2022-01-03T00:26:40.304754Z"
    },
    "papermill": {
     "duration": 0.037555,
     "end_time": "2022-01-03T00:26:40.305310",
     "exception": false,
     "start_time": "2022-01-03T00:26:40.267755",
     "status": "completed"
    },
    "tags": []
   },
   "outputs": [],
   "source": [
    "#hide\n",
    "# g = g.rename(columns= {'continent':'group','country':'name','cases':'value'})"
   ]
  },
  {
   "cell_type": "code",
   "execution_count": 36,
   "id": "fleet-motorcycle",
   "metadata": {
    "execution": {
     "iopub.execute_input": "2022-01-03T00:26:40.372155Z",
     "iopub.status.busy": "2022-01-03T00:26:40.371586Z",
     "iopub.status.idle": "2022-01-03T00:26:40.375044Z",
     "shell.execute_reply": "2022-01-03T00:26:40.375478Z"
    },
    "papermill": {
     "duration": 0.039495,
     "end_time": "2022-01-03T00:26:40.375612",
     "exception": false,
     "start_time": "2022-01-03T00:26:40.336117",
     "status": "completed"
    },
    "tags": []
   },
   "outputs": [],
   "source": [
    "#hide\n",
    "# cols = ['name','group','day','value']"
   ]
  },
  {
   "cell_type": "code",
   "execution_count": 37,
   "id": "continued-sleeping",
   "metadata": {
    "execution": {
     "iopub.execute_input": "2022-01-03T00:26:40.442398Z",
     "iopub.status.busy": "2022-01-03T00:26:40.441836Z",
     "iopub.status.idle": "2022-01-03T00:26:40.444431Z",
     "shell.execute_reply": "2022-01-03T00:26:40.443912Z"
    },
    "papermill": {
     "duration": 0.036672,
     "end_time": "2022-01-03T00:26:40.444538",
     "exception": false,
     "start_time": "2022-01-03T00:26:40.407866",
     "status": "completed"
    },
    "tags": []
   },
   "outputs": [],
   "source": [
    "#hide\n",
    "# g.rename(columns= {'date':'day'},inplace = True)"
   ]
  },
  {
   "cell_type": "code",
   "execution_count": 38,
   "id": "major-fight",
   "metadata": {
    "execution": {
     "iopub.execute_input": "2022-01-03T00:26:40.514003Z",
     "iopub.status.busy": "2022-01-03T00:26:40.513407Z",
     "iopub.status.idle": "2022-01-03T00:26:40.515921Z",
     "shell.execute_reply": "2022-01-03T00:26:40.515463Z"
    },
    "papermill": {
     "duration": 0.040274,
     "end_time": "2022-01-03T00:26:40.516027",
     "exception": false,
     "start_time": "2022-01-03T00:26:40.475753",
     "status": "completed"
    },
    "tags": []
   },
   "outputs": [],
   "source": [
    "#hide\n",
    "# g = g[cols]"
   ]
  },
  {
   "cell_type": "code",
   "execution_count": 39,
   "id": "structured-mobile",
   "metadata": {
    "execution": {
     "iopub.execute_input": "2022-01-03T00:26:40.581812Z",
     "iopub.status.busy": "2022-01-03T00:26:40.581281Z",
     "iopub.status.idle": "2022-01-03T00:26:40.584668Z",
     "shell.execute_reply": "2022-01-03T00:26:40.585325Z"
    },
    "papermill": {
     "duration": 0.03824,
     "end_time": "2022-01-03T00:26:40.585449",
     "exception": false,
     "start_time": "2022-01-03T00:26:40.547209",
     "status": "completed"
    },
    "tags": []
   },
   "outputs": [],
   "source": [
    "# #hide\n",
    "# g = g[g.group.notna()]"
   ]
  },
  {
   "cell_type": "code",
   "execution_count": 40,
   "id": "determined-closing",
   "metadata": {
    "execution": {
     "iopub.execute_input": "2022-01-03T00:26:40.652885Z",
     "iopub.status.busy": "2022-01-03T00:26:40.652127Z",
     "iopub.status.idle": "2022-01-03T00:26:40.654360Z",
     "shell.execute_reply": "2022-01-03T00:26:40.653821Z"
    },
    "papermill": {
     "duration": 0.037119,
     "end_time": "2022-01-03T00:26:40.654464",
     "exception": false,
     "start_time": "2022-01-03T00:26:40.617345",
     "status": "completed"
    },
    "tags": []
   },
   "outputs": [],
   "source": [
    "# #hide\n",
    "# colors = dict(zip(\n",
    "#     [\"Oceania\", \"Europe\", \"Asia\", \"South America\", \"Middle East\", \"North America\", \"Africa\"],\n",
    "#     [\"#adb0ff\", \"#ffb3ff\", \"#90d595\", \"#e48381\", \"#aafbff\", \"#f7bb5f\", \"#eafb50\"]\n",
    "# ))\n",
    "# group_lk = g.set_index('name')['group'].to_dict()"
   ]
  },
  {
   "cell_type": "code",
   "execution_count": null,
   "id": "gross-drinking",
   "metadata": {
    "papermill": {
     "duration": 0.031261,
     "end_time": "2022-01-03T00:26:40.720056",
     "exception": false,
     "start_time": "2022-01-03T00:26:40.688795",
     "status": "completed"
    },
    "tags": []
   },
   "outputs": [],
   "source": []
  },
  {
   "cell_type": "code",
   "execution_count": 41,
   "id": "subject-macintosh",
   "metadata": {
    "execution": {
     "iopub.execute_input": "2022-01-03T00:26:40.788519Z",
     "iopub.status.busy": "2022-01-03T00:26:40.787883Z",
     "iopub.status.idle": "2022-01-03T00:26:40.790112Z",
     "shell.execute_reply": "2022-01-03T00:26:40.789651Z"
    },
    "papermill": {
     "duration": 0.037623,
     "end_time": "2022-01-03T00:26:40.790220",
     "exception": false,
     "start_time": "2022-01-03T00:26:40.752597",
     "status": "completed"
    },
    "tags": []
   },
   "outputs": [],
   "source": [
    "# #hide\n",
    "# fig, ax = plt.subplots(figsize=(15, 8))\n",
    "\n",
    "# def draw_barchart(current_day):\n",
    "#     dff = g[g['day'].eq(current_day)].sort_values(by='value', ascending=True).tail(10)\n",
    "#     ax.clear()\n",
    "#     ax.barh(dff['name'], dff['value'], color=[colors[group_lk[x]] for x in dff['name']])\n",
    "#     dx = dff['value'].max() / 200\n",
    "    \n",
    "#     for i, (value, name) in enumerate(zip(dff['value'], dff['name'])):\n",
    "#         ax.text(value-dx, i,     name,           size=14, weight=600, ha='right', va='bottom')\n",
    "#         ax.text(value-dx, i-.25, group_lk[name], size=10, color='#444444', ha='right', va='baseline')\n",
    "#         ax.text(value+dx, i,     f'{value:,.0f}',  size=14, ha='left',  va='center')\n",
    "#     ax.text(1, 0.4, current_day, transform=ax.transAxes, color='#777777', size=46, ha='right', weight=800)\n",
    "#     ax.text(0, 1.06, 'Population (thousands)', transform=ax.transAxes, size=12, color='#777777')\n",
    "#     ax.xaxis.set_major_formatter(ticker.StrMethodFormatter('{x:,.0f}'))\n",
    "#     ax.xaxis.set_ticks_position('top')\n",
    "#     ax.tick_params(axis='x', colors='#777777', labelsize=12)\n",
    "#     ax.set_yticks([])\n",
    "#     ax.margins(0, 0.01)\n",
    "#     ax.grid(which='major', axis='x', linestyle='-')\n",
    "#     ax.set_axisbelow(True)\n",
    "    \n",
    "#     ax.text(0, 1.15, 'Coronavirus',\n",
    "#             transform=ax.transAxes, size=24, weight=600, ha='left', va='top')\n",
    "# #     ax.text(1, 0, 'by @pratapvardhan; credit @jburnmurdoch', transform=ax.transAxes, color='#777777', ha='right',\n",
    "# #             bbox=dict(facecolor='white', alpha=0.8, edgecolor='white'))\n",
    "#     plt.box(False)"
   ]
  },
  {
   "cell_type": "code",
   "execution_count": 42,
   "id": "sexual-wages",
   "metadata": {
    "execution": {
     "iopub.execute_input": "2022-01-03T00:26:40.857849Z",
     "iopub.status.busy": "2022-01-03T00:26:40.857224Z",
     "iopub.status.idle": "2022-01-03T00:26:40.859992Z",
     "shell.execute_reply": "2022-01-03T00:26:40.859376Z"
    },
    "papermill": {
     "duration": 0.039021,
     "end_time": "2022-01-03T00:26:40.860154",
     "exception": false,
     "start_time": "2022-01-03T00:26:40.821133",
     "status": "completed"
    },
    "tags": []
   },
   "outputs": [],
   "source": [
    "# #hide_input\n",
    "# fig, ax = plt.subplots(figsize=(15, 8))\n",
    "# animator = animation.FuncAnimation(fig, draw_barchart, frames=range(g.day.values.min(), g.day.values.max()))\n",
    "# HTML(animator.to_jshtml())\n",
    "# # or use animator.to_html5_video() or animator.save() "
   ]
  },
  {
   "cell_type": "code",
   "execution_count": null,
   "id": "australian-container",
   "metadata": {
    "papermill": {
     "duration": 0.030992,
     "end_time": "2022-01-03T00:26:40.922448",
     "exception": false,
     "start_time": "2022-01-03T00:26:40.891456",
     "status": "completed"
    },
    "tags": []
   },
   "outputs": [],
   "source": []
  },
  {
   "cell_type": "code",
   "execution_count": null,
   "id": "mediterranean-pontiac",
   "metadata": {
    "papermill": {
     "duration": 0.031791,
     "end_time": "2022-01-03T00:26:40.984981",
     "exception": false,
     "start_time": "2022-01-03T00:26:40.953190",
     "status": "completed"
    },
    "tags": []
   },
   "outputs": [],
   "source": []
  },
  {
   "cell_type": "code",
   "execution_count": null,
   "id": "aging-legislature",
   "metadata": {
    "papermill": {
     "duration": 0.030924,
     "end_time": "2022-01-03T00:26:41.047345",
     "exception": false,
     "start_time": "2022-01-03T00:26:41.016421",
     "status": "completed"
    },
    "tags": []
   },
   "outputs": [],
   "source": []
  }
 ],
 "metadata": {
  "kernelspec": {
   "display_name": "Python 3",
   "language": "python",
   "name": "python3"
  },
  "language_info": {
   "codemirror_mode": {
    "name": "ipython",
    "version": 3
   },
   "file_extension": ".py",
   "mimetype": "text/x-python",
   "name": "python",
   "nbconvert_exporter": "python",
   "pygments_lexer": "ipython3",
   "version": "3.6.15"
  },
  "papermill": {
   "duration": 6.091299,
   "end_time": "2022-01-03T00:26:41.389333",
   "environment_variables": {},
   "exception": null,
   "input_path": "2020-03-21-covid19exp.ipynb",
   "output_path": "2020-03-21-covid19exp.ipynb",
   "parameters": {},
   "start_time": "2022-01-03T00:26:35.298034",
   "version": "2.0.0"
  }
 },
 "nbformat": 4,
 "nbformat_minor": 5
}