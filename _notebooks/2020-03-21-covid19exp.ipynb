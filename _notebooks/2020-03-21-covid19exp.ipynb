{
 "cells": [
  {
   "cell_type": "markdown",
   "metadata": {
    "papermill": {
     "duration": 0.03296,
     "end_time": "2020-12-01T00:11:26.100041",
     "exception": false,
     "start_time": "2020-12-01T00:11:26.067081",
     "status": "completed"
    },
    "tags": []
   },
   "source": [
    "# COVID-19 Case Race\n",
    "> A race chart to see rising cases around the world\n",
    "\n",
    "- author: Hargun Oberoi\n",
    "- image: images/covid-overview.png\n",
    "- hide: false\n",
    "- badges: false"
   ]
  },
  {
   "cell_type": "code",
   "execution_count": 1,
   "metadata": {
    "execution": {
     "iopub.execute_input": "2020-12-01T00:11:26.165666Z",
     "iopub.status.busy": "2020-12-01T00:11:26.165057Z",
     "iopub.status.idle": "2020-12-01T00:11:26.499331Z",
     "shell.execute_reply": "2020-12-01T00:11:26.498437Z"
    },
    "papermill": {
     "duration": 0.369852,
     "end_time": "2020-12-01T00:11:26.499581",
     "exception": false,
     "start_time": "2020-12-01T00:11:26.129729",
     "status": "completed"
    },
    "tags": []
   },
   "outputs": [],
   "source": [
    "#hide\n",
    "import numpy as np\n",
    "import pandas as pd\n",
    "from jinja2 import Template\n",
    "from IPython.display import HTML"
   ]
  },
  {
   "cell_type": "code",
   "execution_count": 2,
   "metadata": {
    "execution": {
     "iopub.execute_input": "2020-12-01T00:11:26.566463Z",
     "iopub.status.busy": "2020-12-01T00:11:26.565856Z",
     "iopub.status.idle": "2020-12-01T00:11:26.567639Z",
     "shell.execute_reply": "2020-12-01T00:11:26.568142Z"
    },
    "papermill": {
     "duration": 0.037332,
     "end_time": "2020-12-01T00:11:26.568287",
     "exception": false,
     "start_time": "2020-12-01T00:11:26.530955",
     "status": "completed"
    },
    "tags": []
   },
   "outputs": [],
   "source": [
    "#hide\n",
    "\n",
    "# FETCH\n",
    "base_url = 'https://raw.githubusercontent.com/pratapvardhan/notebooks/master/covid19/'\n",
    "paths = {\n",
    "    'mapping': base_url + 'mapping_countries.csv',\n",
    "    'overview': base_url + 'overview.tpl'\n",
    "}"
   ]
  },
  {
   "cell_type": "code",
   "execution_count": 3,
   "metadata": {
    "execution": {
     "iopub.execute_input": "2020-12-01T00:11:26.638855Z",
     "iopub.status.busy": "2020-12-01T00:11:26.638259Z",
     "iopub.status.idle": "2020-12-01T00:11:26.641320Z",
     "shell.execute_reply": "2020-12-01T00:11:26.640796Z"
    },
    "papermill": {
     "duration": 0.044074,
     "end_time": "2020-12-01T00:11:26.641446",
     "exception": false,
     "start_time": "2020-12-01T00:11:26.597372",
     "status": "completed"
    },
    "tags": []
   },
   "outputs": [
    {
     "data": {
      "text/plain": [
       "'https://raw.githubusercontent.com/pratapvardhan/notebooks/master/covid19/mapping_countries.csv'"
      ]
     },
     "execution_count": 3,
     "metadata": {},
     "output_type": "execute_result"
    }
   ],
   "source": [
    "#hide\n",
    "paths['mapping']"
   ]
  },
  {
   "cell_type": "code",
   "execution_count": 4,
   "metadata": {
    "execution": {
     "iopub.execute_input": "2020-12-01T00:11:26.708935Z",
     "iopub.status.busy": "2020-12-01T00:11:26.708358Z",
     "iopub.status.idle": "2020-12-01T00:11:26.710885Z",
     "shell.execute_reply": "2020-12-01T00:11:26.710422Z"
    },
    "papermill": {
     "duration": 0.039368,
     "end_time": "2020-12-01T00:11:26.711004",
     "exception": false,
     "start_time": "2020-12-01T00:11:26.671636",
     "status": "completed"
    },
    "tags": []
   },
   "outputs": [],
   "source": [
    "#hide\n",
    "def get_mappings(url):\n",
    "    df = pd.read_csv(url)\n",
    "    return {\n",
    "        'df': df,\n",
    "        'replace.country': dict(df.dropna(subset=['Name']).set_index('Country')['Name']),\n",
    "        'map.continent': dict(df.set_index('Name')['Continent'])\n",
    "    }"
   ]
  },
  {
   "cell_type": "code",
   "execution_count": 5,
   "metadata": {
    "execution": {
     "iopub.execute_input": "2020-12-01T00:11:26.775814Z",
     "iopub.status.busy": "2020-12-01T00:11:26.775221Z",
     "iopub.status.idle": "2020-12-01T00:11:26.884683Z",
     "shell.execute_reply": "2020-12-01T00:11:26.883846Z"
    },
    "papermill": {
     "duration": 0.144806,
     "end_time": "2020-12-01T00:11:26.884896",
     "exception": false,
     "start_time": "2020-12-01T00:11:26.740090",
     "status": "completed"
    },
    "tags": []
   },
   "outputs": [],
   "source": [
    "#hide\n",
    "mapping = get_mappings(paths['mapping'])"
   ]
  },
  {
   "cell_type": "code",
   "execution_count": 6,
   "metadata": {
    "execution": {
     "iopub.execute_input": "2020-12-01T00:11:26.950187Z",
     "iopub.status.busy": "2020-12-01T00:11:26.949598Z",
     "iopub.status.idle": "2020-12-01T00:11:26.951749Z",
     "shell.execute_reply": "2020-12-01T00:11:26.951172Z"
    },
    "papermill": {
     "duration": 0.035679,
     "end_time": "2020-12-01T00:11:26.951867",
     "exception": false,
     "start_time": "2020-12-01T00:11:26.916188",
     "status": "completed"
    },
    "tags": []
   },
   "outputs": [],
   "source": [
    "#hide\n",
    "def get_template(path):\n",
    "    from urllib.parse import urlparse\n",
    "    if bool(urlparse(path).netloc):\n",
    "        from urllib.request import urlopen\n",
    "        return urlopen(path).read().decode('utf8')\n",
    "    return open(path).read()"
   ]
  },
  {
   "cell_type": "code",
   "execution_count": 7,
   "metadata": {
    "execution": {
     "iopub.execute_input": "2020-12-01T00:11:27.015838Z",
     "iopub.status.busy": "2020-12-01T00:11:27.015252Z",
     "iopub.status.idle": "2020-12-01T00:11:27.017053Z",
     "shell.execute_reply": "2020-12-01T00:11:27.017527Z"
    },
    "papermill": {
     "duration": 0.036635,
     "end_time": "2020-12-01T00:11:27.017659",
     "exception": false,
     "start_time": "2020-12-01T00:11:26.981024",
     "status": "completed"
    },
    "tags": []
   },
   "outputs": [],
   "source": [
    "#hide\n",
    "def get_frame(name):\n",
    "    url = (\n",
    "        'https://raw.githubusercontent.com/CSSEGISandData/COVID-19/master/csse_covid_19_data/'\n",
    "        f'csse_covid_19_time_series/time_series_covid19_{name}_global.csv')\n",
    "    df = pd.read_csv(url)\n",
    "    # rename countries\n",
    "    df['Country/Region'] = df['Country/Region'].replace(mapping['replace.country'])\n",
    "    return df"
   ]
  },
  {
   "cell_type": "code",
   "execution_count": 8,
   "metadata": {
    "execution": {
     "iopub.execute_input": "2020-12-01T00:11:27.081996Z",
     "iopub.status.busy": "2020-12-01T00:11:27.081406Z",
     "iopub.status.idle": "2020-12-01T00:11:27.085981Z",
     "shell.execute_reply": "2020-12-01T00:11:27.085492Z"
    },
    "papermill": {
     "duration": 0.039226,
     "end_time": "2020-12-01T00:11:27.086122",
     "exception": false,
     "start_time": "2020-12-01T00:11:27.046896",
     "status": "completed"
    },
    "tags": []
   },
   "outputs": [],
   "source": [
    "#hide\n",
    "def get_dates(df):\n",
    "    dt_cols = df.columns[~df.columns.isin(['Province/State', 'Country/Region', 'Lat', 'Long'])]\n",
    "    LAST_DATE_I = -1\n",
    "    # sometimes last column may be empty, then go backwards\n",
    "    for i in range(-1, -len(dt_cols), -1):\n",
    "        if not df[dt_cols[i]].fillna(0).eq(0).all():\n",
    "            LAST_DATE_I = i\n",
    "            break\n",
    "    return LAST_DATE_I, dt_cols"
   ]
  },
  {
   "cell_type": "code",
   "execution_count": 9,
   "metadata": {
    "execution": {
     "iopub.execute_input": "2020-12-01T00:11:27.148773Z",
     "iopub.status.busy": "2020-12-01T00:11:27.148177Z",
     "iopub.status.idle": "2020-12-01T00:11:27.618198Z",
     "shell.execute_reply": "2020-12-01T00:11:27.617621Z"
    },
    "papermill": {
     "duration": 0.503222,
     "end_time": "2020-12-01T00:11:27.618338",
     "exception": false,
     "start_time": "2020-12-01T00:11:27.115116",
     "status": "completed"
    },
    "tags": []
   },
   "outputs": [],
   "source": [
    "#hide\n",
    "COL_REGION = 'Country/Region'\n",
    "# Confirmed, Recovered, Deaths\n",
    "df = get_frame('confirmed')\n",
    "# dft_: timeseries, dfc_: today country agg\n",
    "dft_cases = df\n",
    "dft_deaths = get_frame('deaths')\n",
    "dft_recovered = get_frame('recovered')\n",
    "LAST_DATE_I, dt_cols = get_dates(df)"
   ]
  },
  {
   "cell_type": "code",
   "execution_count": 10,
   "metadata": {
    "execution": {
     "iopub.execute_input": "2020-12-01T00:11:27.681827Z",
     "iopub.status.busy": "2020-12-01T00:11:27.681236Z",
     "iopub.status.idle": "2020-12-01T00:11:27.683734Z",
     "shell.execute_reply": "2020-12-01T00:11:27.684190Z"
    },
    "papermill": {
     "duration": 0.036554,
     "end_time": "2020-12-01T00:11:27.684335",
     "exception": false,
     "start_time": "2020-12-01T00:11:27.647781",
     "status": "completed"
    },
    "tags": []
   },
   "outputs": [],
   "source": [
    "#hide\n",
    "LAST_DATE_I, dt_cols = get_dates(df)\n",
    "dt_today =dt_cols[LAST_DATE_I]\n",
    "# dt_5day = dt_cols[LAST_DATE_I - 5]\n",
    "dt_yday = dt_cols[LAST_DATE_I - 1]"
   ]
  },
  {
   "cell_type": "code",
   "execution_count": 11,
   "metadata": {
    "execution": {
     "iopub.execute_input": "2020-12-01T00:11:27.748840Z",
     "iopub.status.busy": "2020-12-01T00:11:27.748254Z",
     "iopub.status.idle": "2020-12-01T00:11:27.755834Z",
     "shell.execute_reply": "2020-12-01T00:11:27.756341Z"
    },
    "papermill": {
     "duration": 0.042887,
     "end_time": "2020-12-01T00:11:27.756479",
     "exception": false,
     "start_time": "2020-12-01T00:11:27.713592",
     "status": "completed"
    },
    "tags": []
   },
   "outputs": [],
   "source": [
    "#hide\n",
    "dfc_cases = dft_cases.groupby(COL_REGION)[dt_today].sum()\n",
    "dfc_deaths = dft_deaths.groupby(COL_REGION)[dt_today].sum()\n",
    "# dfp_cases = dft_cases.groupby(COL_REGION)[dt_5day].sum()\n",
    "# dfp_deaths = dft_deaths.groupby(COL_REGION)[dt_5day].sum()\n",
    "dfp_cases = dft_cases.groupby(COL_REGION)[dt_yday].sum()\n",
    "dfp_deaths = dft_deaths.groupby(COL_REGION)[dt_yday].sum()"
   ]
  },
  {
   "cell_type": "code",
   "execution_count": 12,
   "metadata": {
    "execution": {
     "iopub.execute_input": "2020-12-01T00:11:27.822170Z",
     "iopub.status.busy": "2020-12-01T00:11:27.821581Z",
     "iopub.status.idle": "2020-12-01T00:11:27.826765Z",
     "shell.execute_reply": "2020-12-01T00:11:27.826266Z"
    },
    "papermill": {
     "duration": 0.041025,
     "end_time": "2020-12-01T00:11:27.826887",
     "exception": false,
     "start_time": "2020-12-01T00:11:27.785862",
     "status": "completed"
    },
    "tags": []
   },
   "outputs": [],
   "source": [
    "#hide\n",
    "df_table = (pd.DataFrame(dict(Cases = dfc_cases, Deaths = dfc_deaths, PCases = dfp_cases, PDeaths = dfp_deaths))\n",
    "            .sort_values(by = ['Cases','Deaths'], ascending = [False, False])\n",
    "            .reset_index())"
   ]
  },
  {
   "cell_type": "code",
   "execution_count": 13,
   "metadata": {
    "execution": {
     "iopub.execute_input": "2020-12-01T00:11:27.903112Z",
     "iopub.status.busy": "2020-12-01T00:11:27.902524Z",
     "iopub.status.idle": "2020-12-01T00:11:27.909822Z",
     "shell.execute_reply": "2020-12-01T00:11:27.910267Z"
    },
    "papermill": {
     "duration": 0.054335,
     "end_time": "2020-12-01T00:11:27.910405",
     "exception": false,
     "start_time": "2020-12-01T00:11:27.856070",
     "status": "completed"
    },
    "tags": []
   },
   "outputs": [
    {
     "data": {
      "text/html": [
       "<div>\n",
       "<style scoped>\n",
       "    .dataframe tbody tr th:only-of-type {\n",
       "        vertical-align: middle;\n",
       "    }\n",
       "\n",
       "    .dataframe tbody tr th {\n",
       "        vertical-align: top;\n",
       "    }\n",
       "\n",
       "    .dataframe thead th {\n",
       "        text-align: right;\n",
       "    }\n",
       "</style>\n",
       "<table border=\"1\" class=\"dataframe\">\n",
       "  <thead>\n",
       "    <tr style=\"text-align: right;\">\n",
       "      <th></th>\n",
       "      <th>Country/Region</th>\n",
       "      <th>Cases</th>\n",
       "      <th>Deaths</th>\n",
       "      <th>PCases</th>\n",
       "      <th>PDeaths</th>\n",
       "      <th>Cases (+)</th>\n",
       "      <th>Deaths (+)</th>\n",
       "      <th>Fatality Rate</th>\n",
       "      <th>Continent</th>\n",
       "    </tr>\n",
       "  </thead>\n",
       "  <tbody>\n",
       "    <tr>\n",
       "      <th>0</th>\n",
       "      <td>US</td>\n",
       "      <td>13383320</td>\n",
       "      <td>266873</td>\n",
       "      <td>13244417</td>\n",
       "      <td>266047</td>\n",
       "      <td>138903</td>\n",
       "      <td>826</td>\n",
       "      <td>1.99</td>\n",
       "      <td>North America</td>\n",
       "    </tr>\n",
       "    <tr>\n",
       "      <th>1</th>\n",
       "      <td>India</td>\n",
       "      <td>9431691</td>\n",
       "      <td>137139</td>\n",
       "      <td>9392919</td>\n",
       "      <td>136696</td>\n",
       "      <td>38772</td>\n",
       "      <td>443</td>\n",
       "      <td>1.45</td>\n",
       "      <td>Asia</td>\n",
       "    </tr>\n",
       "    <tr>\n",
       "      <th>2</th>\n",
       "      <td>Brazil</td>\n",
       "      <td>6314740</td>\n",
       "      <td>172833</td>\n",
       "      <td>6290272</td>\n",
       "      <td>172561</td>\n",
       "      <td>24468</td>\n",
       "      <td>272</td>\n",
       "      <td>2.74</td>\n",
       "      <td>South America</td>\n",
       "    </tr>\n",
       "    <tr>\n",
       "      <th>3</th>\n",
       "      <td>France</td>\n",
       "      <td>2270573</td>\n",
       "      <td>52410</td>\n",
       "      <td>2260789</td>\n",
       "      <td>52212</td>\n",
       "      <td>9784</td>\n",
       "      <td>198</td>\n",
       "      <td>2.31</td>\n",
       "      <td>Europe</td>\n",
       "    </tr>\n",
       "    <tr>\n",
       "      <th>4</th>\n",
       "      <td>Russia</td>\n",
       "      <td>2249890</td>\n",
       "      <td>39127</td>\n",
       "      <td>2223500</td>\n",
       "      <td>38676</td>\n",
       "      <td>26390</td>\n",
       "      <td>451</td>\n",
       "      <td>1.74</td>\n",
       "      <td>Europe</td>\n",
       "    </tr>\n",
       "  </tbody>\n",
       "</table>\n",
       "</div>"
      ],
      "text/plain": [
       "  Country/Region     Cases  Deaths    PCases  PDeaths  Cases (+)  Deaths (+)  \\\n",
       "0             US  13383320  266873  13244417   266047     138903         826   \n",
       "1          India   9431691  137139   9392919   136696      38772         443   \n",
       "2         Brazil   6314740  172833   6290272   172561      24468         272   \n",
       "3         France   2270573   52410   2260789    52212       9784         198   \n",
       "4         Russia   2249890   39127   2223500    38676      26390         451   \n",
       "\n",
       "   Fatality Rate      Continent  \n",
       "0           1.99  North America  \n",
       "1           1.45           Asia  \n",
       "2           2.74  South America  \n",
       "3           2.31         Europe  \n",
       "4           1.74         Europe  "
      ]
     },
     "execution_count": 13,
     "metadata": {},
     "output_type": "execute_result"
    }
   ],
   "source": [
    "#hide\n",
    "for c in 'Cases, Deaths'.split(', '):\n",
    "    df_table[f'{c} (+)'] = (df_table[c] - df_table[f'P{c}']).clip(0)\n",
    "    #Clip ça veut dire, les chiffres negatif sont interdit\n",
    "df_table['Fatality Rate'] = (100* df_table['Deaths']/ df_table['Cases']).round(2)\n",
    "df_table['Continent'] = df_table['Country/Region'].map(mapping['map.continent'])\n",
    "df_table.head(5)"
   ]
  },
  {
   "cell_type": "code",
   "execution_count": 14,
   "metadata": {
    "execution": {
     "iopub.execute_input": "2020-12-01T00:11:27.978339Z",
     "iopub.status.busy": "2020-12-01T00:11:27.977304Z",
     "iopub.status.idle": "2020-12-01T00:11:27.979040Z",
     "shell.execute_reply": "2020-12-01T00:11:27.979498Z"
    },
    "papermill": {
     "duration": 0.039654,
     "end_time": "2020-12-01T00:11:27.979647",
     "exception": false,
     "start_time": "2020-12-01T00:11:27.939993",
     "status": "completed"
    },
    "tags": []
   },
   "outputs": [],
   "source": [
    "#hide\n",
    "#delete problematic countries from table\n",
    "df_table = df_table[~df_table['Country/Region'].isin(['Cape Verde', 'Cruise Ship', 'Kosovo'])]"
   ]
  },
  {
   "cell_type": "code",
   "execution_count": 15,
   "metadata": {
    "execution": {
     "iopub.execute_input": "2020-12-01T00:11:28.047966Z",
     "iopub.status.busy": "2020-12-01T00:11:28.047381Z",
     "iopub.status.idle": "2020-12-01T00:11:28.067334Z",
     "shell.execute_reply": "2020-12-01T00:11:28.067826Z"
    },
    "papermill": {
     "duration": 0.058051,
     "end_time": "2020-12-01T00:11:28.067961",
     "exception": false,
     "start_time": "2020-12-01T00:11:28.009910",
     "status": "completed"
    },
    "tags": []
   },
   "outputs": [
    {
     "data": {
      "text/html": [
       "<div>\n",
       "<style scoped>\n",
       "    .dataframe tbody tr th:only-of-type {\n",
       "        vertical-align: middle;\n",
       "    }\n",
       "\n",
       "    .dataframe tbody tr th {\n",
       "        vertical-align: top;\n",
       "    }\n",
       "\n",
       "    .dataframe thead th {\n",
       "        text-align: right;\n",
       "    }\n",
       "</style>\n",
       "<table border=\"1\" class=\"dataframe\">\n",
       "  <thead>\n",
       "    <tr style=\"text-align: right;\">\n",
       "      <th></th>\n",
       "      <th>Country/Region</th>\n",
       "      <th>Cases</th>\n",
       "      <th>Deaths</th>\n",
       "      <th>PCases</th>\n",
       "      <th>PDeaths</th>\n",
       "      <th>Cases (+)</th>\n",
       "      <th>Deaths (+)</th>\n",
       "      <th>Fatality Rate</th>\n",
       "      <th>Continent</th>\n",
       "    </tr>\n",
       "  </thead>\n",
       "  <tbody>\n",
       "    <tr>\n",
       "      <th>0</th>\n",
       "      <td>US</td>\n",
       "      <td>13383320</td>\n",
       "      <td>266873</td>\n",
       "      <td>13244417</td>\n",
       "      <td>266047</td>\n",
       "      <td>138903</td>\n",
       "      <td>826</td>\n",
       "      <td>2.0</td>\n",
       "      <td>North America</td>\n",
       "    </tr>\n",
       "    <tr>\n",
       "      <th>1</th>\n",
       "      <td>India</td>\n",
       "      <td>9431691</td>\n",
       "      <td>137139</td>\n",
       "      <td>9392919</td>\n",
       "      <td>136696</td>\n",
       "      <td>38772</td>\n",
       "      <td>443</td>\n",
       "      <td>1.5</td>\n",
       "      <td>Asia</td>\n",
       "    </tr>\n",
       "    <tr>\n",
       "      <th>2</th>\n",
       "      <td>Brazil</td>\n",
       "      <td>6314740</td>\n",
       "      <td>172833</td>\n",
       "      <td>6290272</td>\n",
       "      <td>172561</td>\n",
       "      <td>24468</td>\n",
       "      <td>272</td>\n",
       "      <td>2.7</td>\n",
       "      <td>South America</td>\n",
       "    </tr>\n",
       "    <tr>\n",
       "      <th>3</th>\n",
       "      <td>France</td>\n",
       "      <td>2270573</td>\n",
       "      <td>52410</td>\n",
       "      <td>2260789</td>\n",
       "      <td>52212</td>\n",
       "      <td>9784</td>\n",
       "      <td>198</td>\n",
       "      <td>2.3</td>\n",
       "      <td>Europe</td>\n",
       "    </tr>\n",
       "    <tr>\n",
       "      <th>4</th>\n",
       "      <td>Russia</td>\n",
       "      <td>2249890</td>\n",
       "      <td>39127</td>\n",
       "      <td>2223500</td>\n",
       "      <td>38676</td>\n",
       "      <td>26390</td>\n",
       "      <td>451</td>\n",
       "      <td>1.7</td>\n",
       "      <td>Europe</td>\n",
       "    </tr>\n",
       "  </tbody>\n",
       "</table>\n",
       "</div>"
      ],
      "text/plain": [
       "  Country/Region     Cases  Deaths    PCases  PDeaths  Cases (+)  Deaths (+)  \\\n",
       "0             US  13383320  266873  13244417   266047     138903         826   \n",
       "1          India   9431691  137139   9392919   136696      38772         443   \n",
       "2         Brazil   6314740  172833   6290272   172561      24468         272   \n",
       "3         France   2270573   52410   2260789    52212       9784         198   \n",
       "4         Russia   2249890   39127   2223500    38676      26390         451   \n",
       "\n",
       "   Fatality Rate      Continent  \n",
       "0            2.0  North America  \n",
       "1            1.5           Asia  \n",
       "2            2.7  South America  \n",
       "3            2.3         Europe  \n",
       "4            1.7         Europe  "
      ]
     },
     "execution_count": 15,
     "metadata": {},
     "output_type": "execute_result"
    }
   ],
   "source": [
    "#hide\n",
    "df_table = (pd.DataFrame(dict(Cases=dfc_cases, Deaths=dfc_deaths, PCases=dfp_cases, PDeaths=dfp_deaths))\n",
    "             .sort_values(by=['Cases', 'Deaths'], ascending=[False, False])\n",
    "             .reset_index())\n",
    "df_table.rename(columns={'index': 'Country/Region'}, inplace=True)\n",
    "for c in 'Cases, Deaths'.split(', '):\n",
    "    df_table[f'{c} (+)'] = (df_table[c] - df_table[f'P{c}']).clip(0)  # DATA BUG\n",
    "df_table['Fatality Rate'] = (100 * df_table['Deaths'] / df_table['Cases']).round(1)\n",
    "df_table['Continent'] = df_table['Country/Region'].map(mapping['map.continent'])\n",
    "df_table.head(5)"
   ]
  },
  {
   "cell_type": "code",
   "execution_count": 16,
   "metadata": {
    "execution": {
     "iopub.execute_input": "2020-12-01T00:11:28.137550Z",
     "iopub.status.busy": "2020-12-01T00:11:28.136929Z",
     "iopub.status.idle": "2020-12-01T00:11:28.139247Z",
     "shell.execute_reply": "2020-12-01T00:11:28.139803Z"
    },
    "papermill": {
     "duration": 0.040778,
     "end_time": "2020-12-01T00:11:28.139937",
     "exception": false,
     "start_time": "2020-12-01T00:11:28.099159",
     "status": "completed"
    },
    "tags": []
   },
   "outputs": [],
   "source": [
    "#hide\n",
    "#delete problematic countries from table\n",
    "df_table = df_table[~df_table['Country/Region'].isin(['Cape Verde', 'Cruise Ship', 'Kosovo'])]"
   ]
  },
  {
   "cell_type": "code",
   "execution_count": 17,
   "metadata": {
    "execution": {
     "iopub.execute_input": "2020-12-01T00:11:28.210217Z",
     "iopub.status.busy": "2020-12-01T00:11:28.209634Z",
     "iopub.status.idle": "2020-12-01T00:11:28.223840Z",
     "shell.execute_reply": "2020-12-01T00:11:28.224306Z"
    },
    "papermill": {
     "duration": 0.054195,
     "end_time": "2020-12-01T00:11:28.224444",
     "exception": false,
     "start_time": "2020-12-01T00:11:28.170249",
     "status": "completed"
    },
    "tags": []
   },
   "outputs": [],
   "source": [
    "#hide\n",
    "metrics = [df_table.columns[index] for index in [1,2,5,6]]\n",
    "# s_china = df_table[df_table['Country/Region'].eq('China')][metrics].sum().add_prefix('China ')\n",
    "s_us = df_table[df_table['Country/Region'].eq('US')][metrics].sum().add_prefix('US ')\n",
    "s_eu = df_table[df_table['Continent'].eq('Europe')][metrics].sum().add_prefix('EU ')\n",
    "s_ind = df_table[df_table['Country/Region'].eq('India')][metrics].sum().add_prefix('India ')\n",
    "summary = {'updated': pd.to_datetime(dt_today), 'since': pd.to_datetime(dt_yday)}\n",
    "summary = {'updated': pd.to_datetime(dt_today), 'since': pd.to_datetime(dt_yday)}\n",
    "summary = {**summary, **df_table[metrics].sum(), **s_ind, **s_us, **s_eu}"
   ]
  },
  {
   "cell_type": "code",
   "execution_count": 18,
   "metadata": {
    "execution": {
     "iopub.execute_input": "2020-12-01T00:11:28.292928Z",
     "iopub.status.busy": "2020-12-01T00:11:28.291436Z",
     "iopub.status.idle": "2020-12-01T00:11:28.301438Z",
     "shell.execute_reply": "2020-12-01T00:11:28.300909Z"
    },
    "papermill": {
     "duration": 0.046236,
     "end_time": "2020-12-01T00:11:28.301559",
     "exception": false,
     "start_time": "2020-12-01T00:11:28.255323",
     "status": "completed"
    },
    "tags": []
   },
   "outputs": [],
   "source": [
    "#hide\n",
    "dft_ct_new_cases = dft_cases.groupby(COL_REGION)[dt_cols].sum().diff(axis=1).fillna(0).astype(int)"
   ]
  },
  {
   "cell_type": "code",
   "execution_count": 19,
   "metadata": {
    "execution": {
     "iopub.execute_input": "2020-12-01T00:11:28.367132Z",
     "iopub.status.busy": "2020-12-01T00:11:28.366549Z",
     "iopub.status.idle": "2020-12-01T00:11:28.368889Z",
     "shell.execute_reply": "2020-12-01T00:11:28.369451Z"
    },
    "papermill": {
     "duration": 0.037502,
     "end_time": "2020-12-01T00:11:28.369584",
     "exception": false,
     "start_time": "2020-12-01T00:11:28.332082",
     "status": "completed"
    },
    "tags": []
   },
   "outputs": [],
   "source": [
    "#hide\n",
    "everydaycases = dft_ct_new_cases.cumsum(axis=1)"
   ]
  },
  {
   "cell_type": "code",
   "execution_count": 20,
   "metadata": {
    "execution": {
     "iopub.execute_input": "2020-12-01T00:11:28.434363Z",
     "iopub.status.busy": "2020-12-01T00:11:28.433780Z",
     "iopub.status.idle": "2020-12-01T00:11:29.450612Z",
     "shell.execute_reply": "2020-12-01T00:11:29.449741Z"
    },
    "papermill": {
     "duration": 1.051472,
     "end_time": "2020-12-01T00:11:29.450833",
     "exception": false,
     "start_time": "2020-12-01T00:11:28.399361",
     "status": "completed"
    },
    "tags": []
   },
   "outputs": [],
   "source": [
    "#hide\n",
    "import pandas as pd\n",
    "import matplotlib.pyplot as plt\n",
    "import matplotlib.ticker as ticker\n",
    "import matplotlib.animation as animation\n",
    "from IPython.display import HTML"
   ]
  },
  {
   "cell_type": "code",
   "execution_count": 21,
   "metadata": {
    "execution": {
     "iopub.execute_input": "2020-12-01T00:11:29.519192Z",
     "iopub.status.busy": "2020-12-01T00:11:29.518611Z",
     "iopub.status.idle": "2020-12-01T00:11:29.525297Z",
     "shell.execute_reply": "2020-12-01T00:11:29.524801Z"
    },
    "papermill": {
     "duration": 0.043398,
     "end_time": "2020-12-01T00:11:29.525427",
     "exception": false,
     "start_time": "2020-12-01T00:11:29.482029",
     "status": "completed"
    },
    "tags": []
   },
   "outputs": [],
   "source": [
    "#hide\n",
    "t = everydaycases.stack()"
   ]
  },
  {
   "cell_type": "code",
   "execution_count": 22,
   "metadata": {
    "execution": {
     "iopub.execute_input": "2020-12-01T00:11:29.590699Z",
     "iopub.status.busy": "2020-12-01T00:11:29.590109Z",
     "iopub.status.idle": "2020-12-01T00:11:29.597953Z",
     "shell.execute_reply": "2020-12-01T00:11:29.598454Z"
    },
    "papermill": {
     "duration": 0.042834,
     "end_time": "2020-12-01T00:11:29.598591",
     "exception": false,
     "start_time": "2020-12-01T00:11:29.555757",
     "status": "completed"
    },
    "tags": []
   },
   "outputs": [],
   "source": [
    "#hide\n",
    "g = t.reset_index(['Country/Region'])"
   ]
  },
  {
   "cell_type": "code",
   "execution_count": 23,
   "metadata": {
    "execution": {
     "iopub.execute_input": "2020-12-01T00:11:29.663088Z",
     "iopub.status.busy": "2020-12-01T00:11:29.662543Z",
     "iopub.status.idle": "2020-12-01T00:11:29.664904Z",
     "shell.execute_reply": "2020-12-01T00:11:29.665486Z"
    },
    "papermill": {
     "duration": 0.03743,
     "end_time": "2020-12-01T00:11:29.665618",
     "exception": false,
     "start_time": "2020-12-01T00:11:29.628188",
     "status": "completed"
    },
    "tags": []
   },
   "outputs": [],
   "source": [
    "#hide\n",
    "g.index.name = 'date'"
   ]
  },
  {
   "cell_type": "code",
   "execution_count": 24,
   "metadata": {
    "execution": {
     "iopub.execute_input": "2020-12-01T00:11:29.731230Z",
     "iopub.status.busy": "2020-12-01T00:11:29.730218Z",
     "iopub.status.idle": "2020-12-01T00:11:29.732306Z",
     "shell.execute_reply": "2020-12-01T00:11:29.733154Z"
    },
    "papermill": {
     "duration": 0.037537,
     "end_time": "2020-12-01T00:11:29.733377",
     "exception": false,
     "start_time": "2020-12-01T00:11:29.695840",
     "status": "completed"
    },
    "tags": []
   },
   "outputs": [],
   "source": [
    "# #hide\n",
    "# g = g.reset_index(['date'])"
   ]
  },
  {
   "cell_type": "code",
   "execution_count": 25,
   "metadata": {
    "execution": {
     "iopub.execute_input": "2020-12-01T00:11:29.799128Z",
     "iopub.status.busy": "2020-12-01T00:11:29.798549Z",
     "iopub.status.idle": "2020-12-01T00:11:29.800290Z",
     "shell.execute_reply": "2020-12-01T00:11:29.800764Z"
    },
    "papermill": {
     "duration": 0.035824,
     "end_time": "2020-12-01T00:11:29.800894",
     "exception": false,
     "start_time": "2020-12-01T00:11:29.765070",
     "status": "completed"
    },
    "tags": []
   },
   "outputs": [],
   "source": [
    "#hide\n",
    "# g.head()"
   ]
  },
  {
   "cell_type": "code",
   "execution_count": 26,
   "metadata": {
    "execution": {
     "iopub.execute_input": "2020-12-01T00:11:29.867387Z",
     "iopub.status.busy": "2020-12-01T00:11:29.866373Z",
     "iopub.status.idle": "2020-12-01T00:11:29.868389Z",
     "shell.execute_reply": "2020-12-01T00:11:29.868856Z"
    },
    "papermill": {
     "duration": 0.037537,
     "end_time": "2020-12-01T00:11:29.869004",
     "exception": false,
     "start_time": "2020-12-01T00:11:29.831467",
     "status": "completed"
    },
    "tags": []
   },
   "outputs": [],
   "source": [
    "#hide\n",
    "# g.columns = ['date','country','cases']"
   ]
  },
  {
   "cell_type": "code",
   "execution_count": 27,
   "metadata": {
    "execution": {
     "iopub.execute_input": "2020-12-01T00:11:29.934016Z",
     "iopub.status.busy": "2020-12-01T00:11:29.933425Z",
     "iopub.status.idle": "2020-12-01T00:11:29.935774Z",
     "shell.execute_reply": "2020-12-01T00:11:29.936330Z"
    },
    "papermill": {
     "duration": 0.037165,
     "end_time": "2020-12-01T00:11:29.936461",
     "exception": false,
     "start_time": "2020-12-01T00:11:29.899296",
     "status": "completed"
    },
    "tags": []
   },
   "outputs": [],
   "source": [
    "#hide\n",
    "# g['continent'] = g.country"
   ]
  },
  {
   "cell_type": "code",
   "execution_count": 28,
   "metadata": {
    "execution": {
     "iopub.execute_input": "2020-12-01T00:11:30.000993Z",
     "iopub.status.busy": "2020-12-01T00:11:30.000392Z",
     "iopub.status.idle": "2020-12-01T00:11:30.002455Z",
     "shell.execute_reply": "2020-12-01T00:11:30.002956Z"
    },
    "papermill": {
     "duration": 0.036642,
     "end_time": "2020-12-01T00:11:30.003088",
     "exception": false,
     "start_time": "2020-12-01T00:11:29.966446",
     "status": "completed"
    },
    "tags": []
   },
   "outputs": [],
   "source": [
    "#hide\n",
    "# cols = list(g.columns.values)"
   ]
  },
  {
   "cell_type": "code",
   "execution_count": 29,
   "metadata": {
    "execution": {
     "iopub.execute_input": "2020-12-01T00:11:30.066842Z",
     "iopub.status.busy": "2020-12-01T00:11:30.066254Z",
     "iopub.status.idle": "2020-12-01T00:11:30.068736Z",
     "shell.execute_reply": "2020-12-01T00:11:30.069230Z"
    },
    "papermill": {
     "duration": 0.036357,
     "end_time": "2020-12-01T00:11:30.069364",
     "exception": false,
     "start_time": "2020-12-01T00:11:30.033007",
     "status": "completed"
    },
    "tags": []
   },
   "outputs": [],
   "source": [
    "#hide\n",
    "# cols.insert(0, cols.pop())"
   ]
  },
  {
   "cell_type": "code",
   "execution_count": 30,
   "metadata": {
    "execution": {
     "iopub.execute_input": "2020-12-01T00:11:30.134897Z",
     "iopub.status.busy": "2020-12-01T00:11:30.134303Z",
     "iopub.status.idle": "2020-12-01T00:11:30.136105Z",
     "shell.execute_reply": "2020-12-01T00:11:30.136549Z"
    },
    "papermill": {
     "duration": 0.037137,
     "end_time": "2020-12-01T00:11:30.136695",
     "exception": false,
     "start_time": "2020-12-01T00:11:30.099558",
     "status": "completed"
    },
    "tags": []
   },
   "outputs": [],
   "source": [
    "#hide\n",
    "# g = g[cols]"
   ]
  },
  {
   "cell_type": "code",
   "execution_count": 31,
   "metadata": {
    "execution": {
     "iopub.execute_input": "2020-12-01T00:11:30.203603Z",
     "iopub.status.busy": "2020-12-01T00:11:30.202584Z",
     "iopub.status.idle": "2020-12-01T00:11:30.204270Z",
     "shell.execute_reply": "2020-12-01T00:11:30.204732Z"
    },
    "papermill": {
     "duration": 0.037332,
     "end_time": "2020-12-01T00:11:30.204861",
     "exception": false,
     "start_time": "2020-12-01T00:11:30.167529",
     "status": "completed"
    },
    "tags": []
   },
   "outputs": [],
   "source": [
    "#hide\n",
    "# g['continent'] = g['continent'].map(mapping['map.continent'])"
   ]
  },
  {
   "cell_type": "code",
   "execution_count": 32,
   "metadata": {
    "execution": {
     "iopub.execute_input": "2020-12-01T00:11:30.269568Z",
     "iopub.status.busy": "2020-12-01T00:11:30.268976Z",
     "iopub.status.idle": "2020-12-01T00:11:30.271509Z",
     "shell.execute_reply": "2020-12-01T00:11:30.272066Z"
    },
    "papermill": {
     "duration": 0.037072,
     "end_time": "2020-12-01T00:11:30.272199",
     "exception": false,
     "start_time": "2020-12-01T00:11:30.235127",
     "status": "completed"
    },
    "tags": []
   },
   "outputs": [],
   "source": [
    "#hide\n",
    "# g.head()"
   ]
  },
  {
   "cell_type": "code",
   "execution_count": 33,
   "metadata": {
    "execution": {
     "iopub.execute_input": "2020-12-01T00:11:30.336900Z",
     "iopub.status.busy": "2020-12-01T00:11:30.336316Z",
     "iopub.status.idle": "2020-12-01T00:11:30.338152Z",
     "shell.execute_reply": "2020-12-01T00:11:30.338633Z"
    },
    "papermill": {
     "duration": 0.036892,
     "end_time": "2020-12-01T00:11:30.338770",
     "exception": false,
     "start_time": "2020-12-01T00:11:30.301878",
     "status": "completed"
    },
    "tags": []
   },
   "outputs": [],
   "source": [
    "# hide\n",
    "# g['date'] = g['date'].astype('datetime64[ns]')"
   ]
  },
  {
   "cell_type": "code",
   "execution_count": 34,
   "metadata": {
    "execution": {
     "iopub.execute_input": "2020-12-01T00:11:30.406570Z",
     "iopub.status.busy": "2020-12-01T00:11:30.405930Z",
     "iopub.status.idle": "2020-12-01T00:11:30.407129Z",
     "shell.execute_reply": "2020-12-01T00:11:30.407660Z"
    },
    "papermill": {
     "duration": 0.037151,
     "end_time": "2020-12-01T00:11:30.407789",
     "exception": false,
     "start_time": "2020-12-01T00:11:30.370638",
     "status": "completed"
    },
    "tags": []
   },
   "outputs": [],
   "source": [
    "#hide\n",
    "# g['date'] = g.date.dt.dayofyear"
   ]
  },
  {
   "cell_type": "code",
   "execution_count": 35,
   "metadata": {
    "execution": {
     "iopub.execute_input": "2020-12-01T00:11:30.701932Z",
     "iopub.status.busy": "2020-12-01T00:11:30.701286Z",
     "iopub.status.idle": "2020-12-01T00:11:30.703050Z",
     "shell.execute_reply": "2020-12-01T00:11:30.703501Z"
    },
    "papermill": {
     "duration": 0.264823,
     "end_time": "2020-12-01T00:11:30.703663",
     "exception": false,
     "start_time": "2020-12-01T00:11:30.438840",
     "status": "completed"
    },
    "tags": []
   },
   "outputs": [],
   "source": [
    "#hide\n",
    "# g = g.rename(columns= {'continent':'group','country':'name','cases':'value'})"
   ]
  },
  {
   "cell_type": "code",
   "execution_count": 36,
   "metadata": {
    "execution": {
     "iopub.execute_input": "2020-12-01T00:11:30.782466Z",
     "iopub.status.busy": "2020-12-01T00:11:30.781873Z",
     "iopub.status.idle": "2020-12-01T00:11:30.784270Z",
     "shell.execute_reply": "2020-12-01T00:11:30.783770Z"
    },
    "papermill": {
     "duration": 0.043889,
     "end_time": "2020-12-01T00:11:30.784393",
     "exception": false,
     "start_time": "2020-12-01T00:11:30.740504",
     "status": "completed"
    },
    "tags": []
   },
   "outputs": [],
   "source": [
    "#hide\n",
    "# cols = ['name','group','day','value']"
   ]
  },
  {
   "cell_type": "code",
   "execution_count": 37,
   "metadata": {
    "execution": {
     "iopub.execute_input": "2020-12-01T00:11:30.848298Z",
     "iopub.status.busy": "2020-12-01T00:11:30.847720Z",
     "iopub.status.idle": "2020-12-01T00:11:30.850404Z",
     "shell.execute_reply": "2020-12-01T00:11:30.850874Z"
    },
    "papermill": {
     "duration": 0.036533,
     "end_time": "2020-12-01T00:11:30.851009",
     "exception": false,
     "start_time": "2020-12-01T00:11:30.814476",
     "status": "completed"
    },
    "tags": []
   },
   "outputs": [],
   "source": [
    "#hide\n",
    "# g.rename(columns= {'date':'day'},inplace = True)"
   ]
  },
  {
   "cell_type": "code",
   "execution_count": 38,
   "metadata": {
    "execution": {
     "iopub.execute_input": "2020-12-01T00:11:30.915139Z",
     "iopub.status.busy": "2020-12-01T00:11:30.914563Z",
     "iopub.status.idle": "2020-12-01T00:11:30.916874Z",
     "shell.execute_reply": "2020-12-01T00:11:30.916443Z"
    },
    "papermill": {
     "duration": 0.035404,
     "end_time": "2020-12-01T00:11:30.917008",
     "exception": false,
     "start_time": "2020-12-01T00:11:30.881604",
     "status": "completed"
    },
    "tags": []
   },
   "outputs": [],
   "source": [
    "#hide\n",
    "# g = g[cols]"
   ]
  },
  {
   "cell_type": "code",
   "execution_count": 39,
   "metadata": {
    "execution": {
     "iopub.execute_input": "2020-12-01T00:11:30.980637Z",
     "iopub.status.busy": "2020-12-01T00:11:30.980051Z",
     "iopub.status.idle": "2020-12-01T00:11:30.982964Z",
     "shell.execute_reply": "2020-12-01T00:11:30.982503Z"
    },
    "papermill": {
     "duration": 0.03646,
     "end_time": "2020-12-01T00:11:30.983082",
     "exception": false,
     "start_time": "2020-12-01T00:11:30.946622",
     "status": "completed"
    },
    "tags": []
   },
   "outputs": [],
   "source": [
    "# #hide\n",
    "# g = g[g.group.notna()]"
   ]
  },
  {
   "cell_type": "code",
   "execution_count": 40,
   "metadata": {
    "execution": {
     "iopub.execute_input": "2020-12-01T00:11:31.048132Z",
     "iopub.status.busy": "2020-12-01T00:11:31.047534Z",
     "iopub.status.idle": "2020-12-01T00:11:31.050443Z",
     "shell.execute_reply": "2020-12-01T00:11:31.049951Z"
    },
    "papermill": {
     "duration": 0.037312,
     "end_time": "2020-12-01T00:11:31.050560",
     "exception": false,
     "start_time": "2020-12-01T00:11:31.013248",
     "status": "completed"
    },
    "tags": []
   },
   "outputs": [],
   "source": [
    "# #hide\n",
    "# colors = dict(zip(\n",
    "#     [\"Oceania\", \"Europe\", \"Asia\", \"South America\", \"Middle East\", \"North America\", \"Africa\"],\n",
    "#     [\"#adb0ff\", \"#ffb3ff\", \"#90d595\", \"#e48381\", \"#aafbff\", \"#f7bb5f\", \"#eafb50\"]\n",
    "# ))\n",
    "# group_lk = g.set_index('name')['group'].to_dict()"
   ]
  },
  {
   "cell_type": "code",
   "execution_count": null,
   "metadata": {
    "papermill": {
     "duration": 0.030141,
     "end_time": "2020-12-01T00:11:31.110580",
     "exception": false,
     "start_time": "2020-12-01T00:11:31.080439",
     "status": "completed"
    },
    "tags": []
   },
   "outputs": [],
   "source": []
  },
  {
   "cell_type": "code",
   "execution_count": 41,
   "metadata": {
    "execution": {
     "iopub.execute_input": "2020-12-01T00:11:31.176584Z",
     "iopub.status.busy": "2020-12-01T00:11:31.175991Z",
     "iopub.status.idle": "2020-12-01T00:11:31.178118Z",
     "shell.execute_reply": "2020-12-01T00:11:31.178563Z"
    },
    "papermill": {
     "duration": 0.038001,
     "end_time": "2020-12-01T00:11:31.178699",
     "exception": false,
     "start_time": "2020-12-01T00:11:31.140698",
     "status": "completed"
    },
    "tags": []
   },
   "outputs": [],
   "source": [
    "# #hide\n",
    "# fig, ax = plt.subplots(figsize=(15, 8))\n",
    "\n",
    "# def draw_barchart(current_day):\n",
    "#     dff = g[g['day'].eq(current_day)].sort_values(by='value', ascending=True).tail(10)\n",
    "#     ax.clear()\n",
    "#     ax.barh(dff['name'], dff['value'], color=[colors[group_lk[x]] for x in dff['name']])\n",
    "#     dx = dff['value'].max() / 200\n",
    "    \n",
    "#     for i, (value, name) in enumerate(zip(dff['value'], dff['name'])):\n",
    "#         ax.text(value-dx, i,     name,           size=14, weight=600, ha='right', va='bottom')\n",
    "#         ax.text(value-dx, i-.25, group_lk[name], size=10, color='#444444', ha='right', va='baseline')\n",
    "#         ax.text(value+dx, i,     f'{value:,.0f}',  size=14, ha='left',  va='center')\n",
    "#     ax.text(1, 0.4, current_day, transform=ax.transAxes, color='#777777', size=46, ha='right', weight=800)\n",
    "#     ax.text(0, 1.06, 'Population (thousands)', transform=ax.transAxes, size=12, color='#777777')\n",
    "#     ax.xaxis.set_major_formatter(ticker.StrMethodFormatter('{x:,.0f}'))\n",
    "#     ax.xaxis.set_ticks_position('top')\n",
    "#     ax.tick_params(axis='x', colors='#777777', labelsize=12)\n",
    "#     ax.set_yticks([])\n",
    "#     ax.margins(0, 0.01)\n",
    "#     ax.grid(which='major', axis='x', linestyle='-')\n",
    "#     ax.set_axisbelow(True)\n",
    "    \n",
    "#     ax.text(0, 1.15, 'Coronavirus',\n",
    "#             transform=ax.transAxes, size=24, weight=600, ha='left', va='top')\n",
    "# #     ax.text(1, 0, 'by @pratapvardhan; credit @jburnmurdoch', transform=ax.transAxes, color='#777777', ha='right',\n",
    "# #             bbox=dict(facecolor='white', alpha=0.8, edgecolor='white'))\n",
    "#     plt.box(False)"
   ]
  },
  {
   "cell_type": "code",
   "execution_count": 42,
   "metadata": {
    "execution": {
     "iopub.execute_input": "2020-12-01T00:11:31.243009Z",
     "iopub.status.busy": "2020-12-01T00:11:31.242462Z",
     "iopub.status.idle": "2020-12-01T00:11:31.245287Z",
     "shell.execute_reply": "2020-12-01T00:11:31.245846Z"
    },
    "papermill": {
     "duration": 0.037307,
     "end_time": "2020-12-01T00:11:31.246002",
     "exception": false,
     "start_time": "2020-12-01T00:11:31.208695",
     "status": "completed"
    },
    "tags": []
   },
   "outputs": [],
   "source": [
    "# #hide_input\n",
    "# fig, ax = plt.subplots(figsize=(15, 8))\n",
    "# animator = animation.FuncAnimation(fig, draw_barchart, frames=range(g.day.values.min(), g.day.values.max()))\n",
    "# HTML(animator.to_jshtml())\n",
    "# # or use animator.to_html5_video() or animator.save() "
   ]
  },
  {
   "cell_type": "code",
   "execution_count": null,
   "metadata": {
    "papermill": {
     "duration": 0.028807,
     "end_time": "2020-12-01T00:11:31.304669",
     "exception": false,
     "start_time": "2020-12-01T00:11:31.275862",
     "status": "completed"
    },
    "tags": []
   },
   "outputs": [],
   "source": []
  },
  {
   "cell_type": "code",
   "execution_count": null,
   "metadata": {
    "papermill": {
     "duration": 0.029942,
     "end_time": "2020-12-01T00:11:31.364378",
     "exception": false,
     "start_time": "2020-12-01T00:11:31.334436",
     "status": "completed"
    },
    "tags": []
   },
   "outputs": [],
   "source": []
  },
  {
   "cell_type": "code",
   "execution_count": null,
   "metadata": {
    "papermill": {
     "duration": 0.029915,
     "end_time": "2020-12-01T00:11:31.424035",
     "exception": false,
     "start_time": "2020-12-01T00:11:31.394120",
     "status": "completed"
    },
    "tags": []
   },
   "outputs": [],
   "source": []
  }
 ],
 "metadata": {
  "kernelspec": {
   "display_name": "Python 3",
   "language": "python",
   "name": "python3"
  },
  "language_info": {
   "codemirror_mode": {
    "name": "ipython",
    "version": 3
   },
   "file_extension": ".py",
   "mimetype": "text/x-python",
   "name": "python",
   "nbconvert_exporter": "python",
   "pygments_lexer": "ipython3",
   "version": "3.6.12"
  },
  "papermill": {
   "duration": 6.779386,
   "end_time": "2020-12-01T00:11:31.760854",
   "environment_variables": {},
   "exception": null,
   "input_path": "2020-03-21-covid19exp.ipynb",
   "output_path": "2020-03-21-covid19exp.ipynb",
   "parameters": {},
   "start_time": "2020-12-01T00:11:24.981468",
   "version": "2.0.0"
  }
 },
 "nbformat": 4,
 "nbformat_minor": 4
}