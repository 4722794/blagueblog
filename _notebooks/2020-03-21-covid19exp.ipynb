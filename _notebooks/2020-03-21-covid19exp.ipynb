{
 "cells": [
  {
   "cell_type": "markdown",
   "id": "muslim-click",
   "metadata": {
    "papermill": {
     "duration": 0.039687,
     "end_time": "2021-08-26T12:11:48.217651",
     "exception": false,
     "start_time": "2021-08-26T12:11:48.177964",
     "status": "completed"
    },
    "tags": []
   },
   "source": [
    "# COVID-19 Case Race\n",
    "> A race chart to see rising cases around the world\n",
    "\n",
    "- author: Hargun Oberoi\n",
    "- image: images/covid-overview.png\n",
    "- hide: false\n",
    "- badges: false"
   ]
  },
  {
   "cell_type": "code",
   "execution_count": 1,
   "id": "proof-material",
   "metadata": {
    "execution": {
     "iopub.execute_input": "2021-08-26T12:11:48.296343Z",
     "iopub.status.busy": "2021-08-26T12:11:48.295732Z",
     "iopub.status.idle": "2021-08-26T12:11:48.667792Z",
     "shell.execute_reply": "2021-08-26T12:11:48.666836Z"
    },
    "papermill": {
     "duration": 0.417836,
     "end_time": "2021-08-26T12:11:48.668034",
     "exception": false,
     "start_time": "2021-08-26T12:11:48.250198",
     "status": "completed"
    },
    "tags": []
   },
   "outputs": [],
   "source": [
    "#hide\n",
    "import numpy as np\n",
    "import pandas as pd\n",
    "from jinja2 import Template\n",
    "from IPython.display import HTML"
   ]
  },
  {
   "cell_type": "code",
   "execution_count": 2,
   "id": "developed-terminology",
   "metadata": {
    "execution": {
     "iopub.execute_input": "2021-08-26T12:11:48.745801Z",
     "iopub.status.busy": "2021-08-26T12:11:48.745076Z",
     "iopub.status.idle": "2021-08-26T12:11:48.749198Z",
     "shell.execute_reply": "2021-08-26T12:11:48.748743Z"
    },
    "papermill": {
     "duration": 0.047077,
     "end_time": "2021-08-26T12:11:48.749312",
     "exception": false,
     "start_time": "2021-08-26T12:11:48.702235",
     "status": "completed"
    },
    "tags": []
   },
   "outputs": [],
   "source": [
    "#hide\n",
    "\n",
    "# FETCH\n",
    "base_url = 'https://raw.githubusercontent.com/pratapvardhan/notebooks/master/covid19/'\n",
    "paths = {\n",
    "    'mapping': base_url + 'mapping_countries.csv',\n",
    "    'overview': base_url + 'overview.tpl'\n",
    "}"
   ]
  },
  {
   "cell_type": "code",
   "execution_count": 3,
   "id": "dynamic-saver",
   "metadata": {
    "execution": {
     "iopub.execute_input": "2021-08-26T12:11:48.826573Z",
     "iopub.status.busy": "2021-08-26T12:11:48.825960Z",
     "iopub.status.idle": "2021-08-26T12:11:48.828336Z",
     "shell.execute_reply": "2021-08-26T12:11:48.828771Z"
    },
    "papermill": {
     "duration": 0.046005,
     "end_time": "2021-08-26T12:11:48.828900",
     "exception": false,
     "start_time": "2021-08-26T12:11:48.782895",
     "status": "completed"
    },
    "tags": []
   },
   "outputs": [
    {
     "data": {
      "text/plain": [
       "'https://raw.githubusercontent.com/pratapvardhan/notebooks/master/covid19/mapping_countries.csv'"
      ]
     },
     "execution_count": 3,
     "metadata": {},
     "output_type": "execute_result"
    }
   ],
   "source": [
    "#hide\n",
    "paths['mapping']"
   ]
  },
  {
   "cell_type": "code",
   "execution_count": 4,
   "id": "urban-software",
   "metadata": {
    "execution": {
     "iopub.execute_input": "2021-08-26T12:11:48.902229Z",
     "iopub.status.busy": "2021-08-26T12:11:48.901647Z",
     "iopub.status.idle": "2021-08-26T12:11:48.904309Z",
     "shell.execute_reply": "2021-08-26T12:11:48.904755Z"
    },
    "papermill": {
     "duration": 0.042186,
     "end_time": "2021-08-26T12:11:48.904892",
     "exception": false,
     "start_time": "2021-08-26T12:11:48.862706",
     "status": "completed"
    },
    "tags": []
   },
   "outputs": [],
   "source": [
    "#hide\n",
    "def get_mappings(url):\n",
    "    df = pd.read_csv(url)\n",
    "    return {\n",
    "        'df': df,\n",
    "        'replace.country': dict(df.dropna(subset=['Name']).set_index('Country')['Name']),\n",
    "        'map.continent': dict(df.set_index('Name')['Continent'])\n",
    "    }"
   ]
  },
  {
   "cell_type": "code",
   "execution_count": 5,
   "id": "intimate-machinery",
   "metadata": {
    "execution": {
     "iopub.execute_input": "2021-08-26T12:11:48.978331Z",
     "iopub.status.busy": "2021-08-26T12:11:48.977754Z",
     "iopub.status.idle": "2021-08-26T12:11:49.010078Z",
     "shell.execute_reply": "2021-08-26T12:11:49.009527Z"
    },
    "papermill": {
     "duration": 0.071509,
     "end_time": "2021-08-26T12:11:49.010232",
     "exception": false,
     "start_time": "2021-08-26T12:11:48.938723",
     "status": "completed"
    },
    "tags": []
   },
   "outputs": [],
   "source": [
    "#hide\n",
    "mapping = get_mappings(paths['mapping'])"
   ]
  },
  {
   "cell_type": "code",
   "execution_count": 6,
   "id": "certified-tactics",
   "metadata": {
    "execution": {
     "iopub.execute_input": "2021-08-26T12:11:49.088827Z",
     "iopub.status.busy": "2021-08-26T12:11:49.088240Z",
     "iopub.status.idle": "2021-08-26T12:11:49.090427Z",
     "shell.execute_reply": "2021-08-26T12:11:49.089970Z"
    },
    "papermill": {
     "duration": 0.043535,
     "end_time": "2021-08-26T12:11:49.090536",
     "exception": false,
     "start_time": "2021-08-26T12:11:49.047001",
     "status": "completed"
    },
    "tags": []
   },
   "outputs": [],
   "source": [
    "#hide\n",
    "def get_template(path):\n",
    "    from urllib.parse import urlparse\n",
    "    if bool(urlparse(path).netloc):\n",
    "        from urllib.request import urlopen\n",
    "        return urlopen(path).read().decode('utf8')\n",
    "    return open(path).read()"
   ]
  },
  {
   "cell_type": "code",
   "execution_count": 7,
   "id": "realistic-blast",
   "metadata": {
    "execution": {
     "iopub.execute_input": "2021-08-26T12:11:49.165579Z",
     "iopub.status.busy": "2021-08-26T12:11:49.165008Z",
     "iopub.status.idle": "2021-08-26T12:11:49.167324Z",
     "shell.execute_reply": "2021-08-26T12:11:49.167924Z"
    },
    "papermill": {
     "duration": 0.04387,
     "end_time": "2021-08-26T12:11:49.168059",
     "exception": false,
     "start_time": "2021-08-26T12:11:49.124189",
     "status": "completed"
    },
    "tags": []
   },
   "outputs": [],
   "source": [
    "#hide\n",
    "def get_frame(name):\n",
    "    url = (\n",
    "        'https://raw.githubusercontent.com/CSSEGISandData/COVID-19/master/csse_covid_19_data/'\n",
    "        f'csse_covid_19_time_series/time_series_covid19_{name}_global.csv')\n",
    "    df = pd.read_csv(url)\n",
    "    # rename countries\n",
    "    df['Country/Region'] = df['Country/Region'].replace(mapping['replace.country'])\n",
    "    return df"
   ]
  },
  {
   "cell_type": "code",
   "execution_count": 8,
   "id": "affiliated-characterization",
   "metadata": {
    "execution": {
     "iopub.execute_input": "2021-08-26T12:11:49.241609Z",
     "iopub.status.busy": "2021-08-26T12:11:49.241031Z",
     "iopub.status.idle": "2021-08-26T12:11:49.243366Z",
     "shell.execute_reply": "2021-08-26T12:11:49.242910Z"
    },
    "papermill": {
     "duration": 0.044939,
     "end_time": "2021-08-26T12:11:49.243505",
     "exception": false,
     "start_time": "2021-08-26T12:11:49.198566",
     "status": "completed"
    },
    "tags": []
   },
   "outputs": [],
   "source": [
    "#hide\n",
    "def get_dates(df):\n",
    "    dt_cols = df.columns[~df.columns.isin(['Province/State', 'Country/Region', 'Lat', 'Long'])]\n",
    "    LAST_DATE_I = -1\n",
    "    # sometimes last column may be empty, then go backwards\n",
    "    for i in range(-1, -len(dt_cols), -1):\n",
    "        if not df[dt_cols[i]].fillna(0).eq(0).all():\n",
    "            LAST_DATE_I = i\n",
    "            break\n",
    "    return LAST_DATE_I, dt_cols"
   ]
  },
  {
   "cell_type": "code",
   "execution_count": 9,
   "id": "recent-optimization",
   "metadata": {
    "execution": {
     "iopub.execute_input": "2021-08-26T12:11:49.312889Z",
     "iopub.status.busy": "2021-08-26T12:11:49.312332Z",
     "iopub.status.idle": "2021-08-26T12:11:49.625883Z",
     "shell.execute_reply": "2021-08-26T12:11:49.626329Z"
    },
    "papermill": {
     "duration": 0.350778,
     "end_time": "2021-08-26T12:11:49.626480",
     "exception": false,
     "start_time": "2021-08-26T12:11:49.275702",
     "status": "completed"
    },
    "tags": []
   },
   "outputs": [],
   "source": [
    "#hide\n",
    "COL_REGION = 'Country/Region'\n",
    "# Confirmed, Recovered, Deaths\n",
    "df = get_frame('confirmed')\n",
    "# dft_: timeseries, dfc_: today country agg\n",
    "dft_cases = df\n",
    "dft_deaths = get_frame('deaths')\n",
    "dft_recovered = get_frame('recovered')\n",
    "LAST_DATE_I, dt_cols = get_dates(df)"
   ]
  },
  {
   "cell_type": "code",
   "execution_count": 10,
   "id": "absolute-copper",
   "metadata": {
    "execution": {
     "iopub.execute_input": "2021-08-26T12:11:49.697199Z",
     "iopub.status.busy": "2021-08-26T12:11:49.696647Z",
     "iopub.status.idle": "2021-08-26T12:11:49.699174Z",
     "shell.execute_reply": "2021-08-26T12:11:49.698643Z"
    },
    "papermill": {
     "duration": 0.039698,
     "end_time": "2021-08-26T12:11:49.699284",
     "exception": false,
     "start_time": "2021-08-26T12:11:49.659586",
     "status": "completed"
    },
    "tags": []
   },
   "outputs": [],
   "source": [
    "#hide\n",
    "LAST_DATE_I, dt_cols = get_dates(df)\n",
    "dt_today =dt_cols[LAST_DATE_I]\n",
    "# dt_5day = dt_cols[LAST_DATE_I - 5]\n",
    "dt_yday = dt_cols[LAST_DATE_I - 1]"
   ]
  },
  {
   "cell_type": "code",
   "execution_count": 11,
   "id": "restricted-sheriff",
   "metadata": {
    "execution": {
     "iopub.execute_input": "2021-08-26T12:11:49.777033Z",
     "iopub.status.busy": "2021-08-26T12:11:49.774728Z",
     "iopub.status.idle": "2021-08-26T12:11:49.781602Z",
     "shell.execute_reply": "2021-08-26T12:11:49.781089Z"
    },
    "papermill": {
     "duration": 0.047394,
     "end_time": "2021-08-26T12:11:49.781709",
     "exception": false,
     "start_time": "2021-08-26T12:11:49.734315",
     "status": "completed"
    },
    "tags": []
   },
   "outputs": [],
   "source": [
    "#hide\n",
    "dfc_cases = dft_cases.groupby(COL_REGION)[dt_today].sum()\n",
    "dfc_deaths = dft_deaths.groupby(COL_REGION)[dt_today].sum()\n",
    "# dfp_cases = dft_cases.groupby(COL_REGION)[dt_5day].sum()\n",
    "# dfp_deaths = dft_deaths.groupby(COL_REGION)[dt_5day].sum()\n",
    "dfp_cases = dft_cases.groupby(COL_REGION)[dt_yday].sum()\n",
    "dfp_deaths = dft_deaths.groupby(COL_REGION)[dt_yday].sum()"
   ]
  },
  {
   "cell_type": "code",
   "execution_count": 12,
   "id": "deluxe-hepatitis",
   "metadata": {
    "execution": {
     "iopub.execute_input": "2021-08-26T12:11:49.861515Z",
     "iopub.status.busy": "2021-08-26T12:11:49.860852Z",
     "iopub.status.idle": "2021-08-26T12:11:49.863754Z",
     "shell.execute_reply": "2021-08-26T12:11:49.863053Z"
    },
    "papermill": {
     "duration": 0.049848,
     "end_time": "2021-08-26T12:11:49.863876",
     "exception": false,
     "start_time": "2021-08-26T12:11:49.814028",
     "status": "completed"
    },
    "tags": []
   },
   "outputs": [],
   "source": [
    "#hide\n",
    "df_table = (pd.DataFrame(dict(Cases = dfc_cases, Deaths = dfc_deaths, PCases = dfp_cases, PDeaths = dfp_deaths))\n",
    "            .sort_values(by = ['Cases','Deaths'], ascending = [False, False])\n",
    "            .reset_index())"
   ]
  },
  {
   "cell_type": "code",
   "execution_count": 13,
   "id": "educational-chancellor",
   "metadata": {
    "execution": {
     "iopub.execute_input": "2021-08-26T12:11:49.952687Z",
     "iopub.status.busy": "2021-08-26T12:11:49.951509Z",
     "iopub.status.idle": "2021-08-26T12:11:49.959489Z",
     "shell.execute_reply": "2021-08-26T12:11:49.960009Z"
    },
    "papermill": {
     "duration": 0.062232,
     "end_time": "2021-08-26T12:11:49.960144",
     "exception": false,
     "start_time": "2021-08-26T12:11:49.897912",
     "status": "completed"
    },
    "tags": []
   },
   "outputs": [
    {
     "data": {
      "text/html": [
       "<div>\n",
       "<style scoped>\n",
       "    .dataframe tbody tr th:only-of-type {\n",
       "        vertical-align: middle;\n",
       "    }\n",
       "\n",
       "    .dataframe tbody tr th {\n",
       "        vertical-align: top;\n",
       "    }\n",
       "\n",
       "    .dataframe thead th {\n",
       "        text-align: right;\n",
       "    }\n",
       "</style>\n",
       "<table border=\"1\" class=\"dataframe\">\n",
       "  <thead>\n",
       "    <tr style=\"text-align: right;\">\n",
       "      <th></th>\n",
       "      <th>Country/Region</th>\n",
       "      <th>Cases</th>\n",
       "      <th>Deaths</th>\n",
       "      <th>PCases</th>\n",
       "      <th>PDeaths</th>\n",
       "      <th>Cases (+)</th>\n",
       "      <th>Deaths (+)</th>\n",
       "      <th>Fatality Rate</th>\n",
       "      <th>Continent</th>\n",
       "    </tr>\n",
       "  </thead>\n",
       "  <tbody>\n",
       "    <tr>\n",
       "      <th>0</th>\n",
       "      <td>US</td>\n",
       "      <td>38223029</td>\n",
       "      <td>632272</td>\n",
       "      <td>38074886</td>\n",
       "      <td>630816</td>\n",
       "      <td>148143</td>\n",
       "      <td>1456</td>\n",
       "      <td>1.65</td>\n",
       "      <td>North America</td>\n",
       "    </tr>\n",
       "    <tr>\n",
       "      <th>1</th>\n",
       "      <td>India</td>\n",
       "      <td>32558530</td>\n",
       "      <td>436365</td>\n",
       "      <td>32512366</td>\n",
       "      <td>435758</td>\n",
       "      <td>46164</td>\n",
       "      <td>607</td>\n",
       "      <td>1.34</td>\n",
       "      <td>Asia</td>\n",
       "    </tr>\n",
       "    <tr>\n",
       "      <th>2</th>\n",
       "      <td>Brazil</td>\n",
       "      <td>20645537</td>\n",
       "      <td>576645</td>\n",
       "      <td>20614866</td>\n",
       "      <td>575742</td>\n",
       "      <td>30671</td>\n",
       "      <td>903</td>\n",
       "      <td>2.79</td>\n",
       "      <td>South America</td>\n",
       "    </tr>\n",
       "    <tr>\n",
       "      <th>3</th>\n",
       "      <td>France</td>\n",
       "      <td>6757783</td>\n",
       "      <td>114144</td>\n",
       "      <td>6734077</td>\n",
       "      <td>114026</td>\n",
       "      <td>23706</td>\n",
       "      <td>118</td>\n",
       "      <td>1.69</td>\n",
       "      <td>Europe</td>\n",
       "    </tr>\n",
       "    <tr>\n",
       "      <th>4</th>\n",
       "      <td>Russia</td>\n",
       "      <td>6709605</td>\n",
       "      <td>175328</td>\n",
       "      <td>6690633</td>\n",
       "      <td>174542</td>\n",
       "      <td>18972</td>\n",
       "      <td>786</td>\n",
       "      <td>2.61</td>\n",
       "      <td>Europe</td>\n",
       "    </tr>\n",
       "  </tbody>\n",
       "</table>\n",
       "</div>"
      ],
      "text/plain": [
       "  Country/Region     Cases  Deaths    PCases  PDeaths  Cases (+)  Deaths (+)  \\\n",
       "0             US  38223029  632272  38074886   630816     148143        1456   \n",
       "1          India  32558530  436365  32512366   435758      46164         607   \n",
       "2         Brazil  20645537  576645  20614866   575742      30671         903   \n",
       "3         France   6757783  114144   6734077   114026      23706         118   \n",
       "4         Russia   6709605  175328   6690633   174542      18972         786   \n",
       "\n",
       "   Fatality Rate      Continent  \n",
       "0           1.65  North America  \n",
       "1           1.34           Asia  \n",
       "2           2.79  South America  \n",
       "3           1.69         Europe  \n",
       "4           2.61         Europe  "
      ]
     },
     "execution_count": 13,
     "metadata": {},
     "output_type": "execute_result"
    }
   ],
   "source": [
    "#hide\n",
    "for c in 'Cases, Deaths'.split(', '):\n",
    "    df_table[f'{c} (+)'] = (df_table[c] - df_table[f'P{c}']).clip(0)\n",
    "    #Clip ça veut dire, les chiffres negatif sont interdit\n",
    "df_table['Fatality Rate'] = (100* df_table['Deaths']/ df_table['Cases']).round(2)\n",
    "df_table['Continent'] = df_table['Country/Region'].map(mapping['map.continent'])\n",
    "df_table.head(5)"
   ]
  },
  {
   "cell_type": "code",
   "execution_count": 14,
   "id": "aboriginal-bulgaria",
   "metadata": {
    "execution": {
     "iopub.execute_input": "2021-08-26T12:11:50.034840Z",
     "iopub.status.busy": "2021-08-26T12:11:50.034249Z",
     "iopub.status.idle": "2021-08-26T12:11:50.036540Z",
     "shell.execute_reply": "2021-08-26T12:11:50.036039Z"
    },
    "papermill": {
     "duration": 0.041937,
     "end_time": "2021-08-26T12:11:50.036659",
     "exception": false,
     "start_time": "2021-08-26T12:11:49.994722",
     "status": "completed"
    },
    "tags": []
   },
   "outputs": [],
   "source": [
    "#hide\n",
    "#delete problematic countries from table\n",
    "df_table = df_table[~df_table['Country/Region'].isin(['Cape Verde', 'Cruise Ship', 'Kosovo'])]"
   ]
  },
  {
   "cell_type": "code",
   "execution_count": 15,
   "id": "fantastic-effect",
   "metadata": {
    "execution": {
     "iopub.execute_input": "2021-08-26T12:11:50.112158Z",
     "iopub.status.busy": "2021-08-26T12:11:50.111515Z",
     "iopub.status.idle": "2021-08-26T12:11:50.131180Z",
     "shell.execute_reply": "2021-08-26T12:11:50.131707Z"
    },
    "papermill": {
     "duration": 0.062028,
     "end_time": "2021-08-26T12:11:50.131851",
     "exception": false,
     "start_time": "2021-08-26T12:11:50.069823",
     "status": "completed"
    },
    "tags": []
   },
   "outputs": [
    {
     "data": {
      "text/html": [
       "<div>\n",
       "<style scoped>\n",
       "    .dataframe tbody tr th:only-of-type {\n",
       "        vertical-align: middle;\n",
       "    }\n",
       "\n",
       "    .dataframe tbody tr th {\n",
       "        vertical-align: top;\n",
       "    }\n",
       "\n",
       "    .dataframe thead th {\n",
       "        text-align: right;\n",
       "    }\n",
       "</style>\n",
       "<table border=\"1\" class=\"dataframe\">\n",
       "  <thead>\n",
       "    <tr style=\"text-align: right;\">\n",
       "      <th></th>\n",
       "      <th>Country/Region</th>\n",
       "      <th>Cases</th>\n",
       "      <th>Deaths</th>\n",
       "      <th>PCases</th>\n",
       "      <th>PDeaths</th>\n",
       "      <th>Cases (+)</th>\n",
       "      <th>Deaths (+)</th>\n",
       "      <th>Fatality Rate</th>\n",
       "      <th>Continent</th>\n",
       "    </tr>\n",
       "  </thead>\n",
       "  <tbody>\n",
       "    <tr>\n",
       "      <th>0</th>\n",
       "      <td>US</td>\n",
       "      <td>38223029</td>\n",
       "      <td>632272</td>\n",
       "      <td>38074886</td>\n",
       "      <td>630816</td>\n",
       "      <td>148143</td>\n",
       "      <td>1456</td>\n",
       "      <td>1.7</td>\n",
       "      <td>North America</td>\n",
       "    </tr>\n",
       "    <tr>\n",
       "      <th>1</th>\n",
       "      <td>India</td>\n",
       "      <td>32558530</td>\n",
       "      <td>436365</td>\n",
       "      <td>32512366</td>\n",
       "      <td>435758</td>\n",
       "      <td>46164</td>\n",
       "      <td>607</td>\n",
       "      <td>1.3</td>\n",
       "      <td>Asia</td>\n",
       "    </tr>\n",
       "    <tr>\n",
       "      <th>2</th>\n",
       "      <td>Brazil</td>\n",
       "      <td>20645537</td>\n",
       "      <td>576645</td>\n",
       "      <td>20614866</td>\n",
       "      <td>575742</td>\n",
       "      <td>30671</td>\n",
       "      <td>903</td>\n",
       "      <td>2.8</td>\n",
       "      <td>South America</td>\n",
       "    </tr>\n",
       "    <tr>\n",
       "      <th>3</th>\n",
       "      <td>France</td>\n",
       "      <td>6757783</td>\n",
       "      <td>114144</td>\n",
       "      <td>6734077</td>\n",
       "      <td>114026</td>\n",
       "      <td>23706</td>\n",
       "      <td>118</td>\n",
       "      <td>1.7</td>\n",
       "      <td>Europe</td>\n",
       "    </tr>\n",
       "    <tr>\n",
       "      <th>4</th>\n",
       "      <td>Russia</td>\n",
       "      <td>6709605</td>\n",
       "      <td>175328</td>\n",
       "      <td>6690633</td>\n",
       "      <td>174542</td>\n",
       "      <td>18972</td>\n",
       "      <td>786</td>\n",
       "      <td>2.6</td>\n",
       "      <td>Europe</td>\n",
       "    </tr>\n",
       "  </tbody>\n",
       "</table>\n",
       "</div>"
      ],
      "text/plain": [
       "  Country/Region     Cases  Deaths    PCases  PDeaths  Cases (+)  Deaths (+)  \\\n",
       "0             US  38223029  632272  38074886   630816     148143        1456   \n",
       "1          India  32558530  436365  32512366   435758      46164         607   \n",
       "2         Brazil  20645537  576645  20614866   575742      30671         903   \n",
       "3         France   6757783  114144   6734077   114026      23706         118   \n",
       "4         Russia   6709605  175328   6690633   174542      18972         786   \n",
       "\n",
       "   Fatality Rate      Continent  \n",
       "0            1.7  North America  \n",
       "1            1.3           Asia  \n",
       "2            2.8  South America  \n",
       "3            1.7         Europe  \n",
       "4            2.6         Europe  "
      ]
     },
     "execution_count": 15,
     "metadata": {},
     "output_type": "execute_result"
    }
   ],
   "source": [
    "#hide\n",
    "df_table = (pd.DataFrame(dict(Cases=dfc_cases, Deaths=dfc_deaths, PCases=dfp_cases, PDeaths=dfp_deaths))\n",
    "             .sort_values(by=['Cases', 'Deaths'], ascending=[False, False])\n",
    "             .reset_index())\n",
    "df_table.rename(columns={'index': 'Country/Region'}, inplace=True)\n",
    "for c in 'Cases, Deaths'.split(', '):\n",
    "    df_table[f'{c} (+)'] = (df_table[c] - df_table[f'P{c}']).clip(0)  # DATA BUG\n",
    "df_table['Fatality Rate'] = (100 * df_table['Deaths'] / df_table['Cases']).round(1)\n",
    "df_table['Continent'] = df_table['Country/Region'].map(mapping['map.continent'])\n",
    "df_table.head(5)"
   ]
  },
  {
   "cell_type": "code",
   "execution_count": 16,
   "id": "fewer-occasion",
   "metadata": {
    "execution": {
     "iopub.execute_input": "2021-08-26T12:11:50.207432Z",
     "iopub.status.busy": "2021-08-26T12:11:50.206854Z",
     "iopub.status.idle": "2021-08-26T12:11:50.208628Z",
     "shell.execute_reply": "2021-08-26T12:11:50.209124Z"
    },
    "papermill": {
     "duration": 0.043475,
     "end_time": "2021-08-26T12:11:50.209259",
     "exception": false,
     "start_time": "2021-08-26T12:11:50.165784",
     "status": "completed"
    },
    "tags": []
   },
   "outputs": [],
   "source": [
    "#hide\n",
    "#delete problematic countries from table\n",
    "df_table = df_table[~df_table['Country/Region'].isin(['Cape Verde', 'Cruise Ship', 'Kosovo'])]"
   ]
  },
  {
   "cell_type": "code",
   "execution_count": 17,
   "id": "related-center",
   "metadata": {
    "execution": {
     "iopub.execute_input": "2021-08-26T12:11:50.297353Z",
     "iopub.status.busy": "2021-08-26T12:11:50.296738Z",
     "iopub.status.idle": "2021-08-26T12:11:50.299071Z",
     "shell.execute_reply": "2021-08-26T12:11:50.298572Z"
    },
    "papermill": {
     "duration": 0.055776,
     "end_time": "2021-08-26T12:11:50.299182",
     "exception": false,
     "start_time": "2021-08-26T12:11:50.243406",
     "status": "completed"
    },
    "tags": []
   },
   "outputs": [],
   "source": [
    "#hide\n",
    "metrics = [df_table.columns[index] for index in [1,2,5,6]]\n",
    "# s_china = df_table[df_table['Country/Region'].eq('China')][metrics].sum().add_prefix('China ')\n",
    "s_us = df_table[df_table['Country/Region'].eq('US')][metrics].sum().add_prefix('US ')\n",
    "s_eu = df_table[df_table['Continent'].eq('Europe')][metrics].sum().add_prefix('EU ')\n",
    "s_ind = df_table[df_table['Country/Region'].eq('India')][metrics].sum().add_prefix('India ')\n",
    "summary = {'updated': pd.to_datetime(dt_today), 'since': pd.to_datetime(dt_yday)}\n",
    "summary = {'updated': pd.to_datetime(dt_today), 'since': pd.to_datetime(dt_yday)}\n",
    "summary = {**summary, **df_table[metrics].sum(), **s_ind, **s_us, **s_eu}"
   ]
  },
  {
   "cell_type": "code",
   "execution_count": 18,
   "id": "engaging-syndrome",
   "metadata": {
    "execution": {
     "iopub.execute_input": "2021-08-26T12:11:50.374485Z",
     "iopub.status.busy": "2021-08-26T12:11:50.373897Z",
     "iopub.status.idle": "2021-08-26T12:11:50.390241Z",
     "shell.execute_reply": "2021-08-26T12:11:50.389797Z"
    },
    "papermill": {
     "duration": 0.056855,
     "end_time": "2021-08-26T12:11:50.390358",
     "exception": false,
     "start_time": "2021-08-26T12:11:50.333503",
     "status": "completed"
    },
    "tags": []
   },
   "outputs": [],
   "source": [
    "#hide\n",
    "dft_ct_new_cases = dft_cases.groupby(COL_REGION)[dt_cols].sum().diff(axis=1).fillna(0).astype(int)"
   ]
  },
  {
   "cell_type": "code",
   "execution_count": 19,
   "id": "neutral-assignment",
   "metadata": {
    "execution": {
     "iopub.execute_input": "2021-08-26T12:11:50.465779Z",
     "iopub.status.busy": "2021-08-26T12:11:50.465174Z",
     "iopub.status.idle": "2021-08-26T12:11:50.467812Z",
     "shell.execute_reply": "2021-08-26T12:11:50.467318Z"
    },
    "papermill": {
     "duration": 0.04264,
     "end_time": "2021-08-26T12:11:50.467937",
     "exception": false,
     "start_time": "2021-08-26T12:11:50.425297",
     "status": "completed"
    },
    "tags": []
   },
   "outputs": [],
   "source": [
    "#hide\n",
    "everydaycases = dft_ct_new_cases.cumsum(axis=1)"
   ]
  },
  {
   "cell_type": "code",
   "execution_count": 20,
   "id": "parliamentary-calgary",
   "metadata": {
    "execution": {
     "iopub.execute_input": "2021-08-26T12:11:50.542074Z",
     "iopub.status.busy": "2021-08-26T12:11:50.541476Z",
     "iopub.status.idle": "2021-08-26T12:11:51.149733Z",
     "shell.execute_reply": "2021-08-26T12:11:51.149178Z"
    },
    "papermill": {
     "duration": 0.647558,
     "end_time": "2021-08-26T12:11:51.149863",
     "exception": false,
     "start_time": "2021-08-26T12:11:50.502305",
     "status": "completed"
    },
    "tags": []
   },
   "outputs": [],
   "source": [
    "#hide\n",
    "import pandas as pd\n",
    "import matplotlib.pyplot as plt\n",
    "import matplotlib.ticker as ticker\n",
    "import matplotlib.animation as animation\n",
    "from IPython.display import HTML"
   ]
  },
  {
   "cell_type": "code",
   "execution_count": 21,
   "id": "lasting-extraction",
   "metadata": {
    "execution": {
     "iopub.execute_input": "2021-08-26T12:11:51.224198Z",
     "iopub.status.busy": "2021-08-26T12:11:51.223534Z",
     "iopub.status.idle": "2021-08-26T12:11:51.230878Z",
     "shell.execute_reply": "2021-08-26T12:11:51.230404Z"
    },
    "papermill": {
     "duration": 0.048531,
     "end_time": "2021-08-26T12:11:51.231005",
     "exception": false,
     "start_time": "2021-08-26T12:11:51.182474",
     "status": "completed"
    },
    "tags": []
   },
   "outputs": [],
   "source": [
    "#hide\n",
    "t = everydaycases.stack()"
   ]
  },
  {
   "cell_type": "code",
   "execution_count": 22,
   "id": "premier-sleeve",
   "metadata": {
    "execution": {
     "iopub.execute_input": "2021-08-26T12:11:51.304868Z",
     "iopub.status.busy": "2021-08-26T12:11:51.304282Z",
     "iopub.status.idle": "2021-08-26T12:11:51.314780Z",
     "shell.execute_reply": "2021-08-26T12:11:51.314328Z"
    },
    "papermill": {
     "duration": 0.050035,
     "end_time": "2021-08-26T12:11:51.314894",
     "exception": false,
     "start_time": "2021-08-26T12:11:51.264859",
     "status": "completed"
    },
    "tags": []
   },
   "outputs": [],
   "source": [
    "#hide\n",
    "g = t.reset_index(['Country/Region'])"
   ]
  },
  {
   "cell_type": "code",
   "execution_count": 23,
   "id": "distributed-pittsburgh",
   "metadata": {
    "execution": {
     "iopub.execute_input": "2021-08-26T12:11:51.382688Z",
     "iopub.status.busy": "2021-08-26T12:11:51.382142Z",
     "iopub.status.idle": "2021-08-26T12:11:51.386071Z",
     "shell.execute_reply": "2021-08-26T12:11:51.385635Z"
    },
    "papermill": {
     "duration": 0.038484,
     "end_time": "2021-08-26T12:11:51.386182",
     "exception": false,
     "start_time": "2021-08-26T12:11:51.347698",
     "status": "completed"
    },
    "tags": []
   },
   "outputs": [],
   "source": [
    "#hide\n",
    "g.index.name = 'date'"
   ]
  },
  {
   "cell_type": "code",
   "execution_count": 24,
   "id": "naked-donor",
   "metadata": {
    "execution": {
     "iopub.execute_input": "2021-08-26T12:11:51.455377Z",
     "iopub.status.busy": "2021-08-26T12:11:51.454351Z",
     "iopub.status.idle": "2021-08-26T12:11:51.456509Z",
     "shell.execute_reply": "2021-08-26T12:11:51.457333Z"
    },
    "papermill": {
     "duration": 0.039581,
     "end_time": "2021-08-26T12:11:51.457545",
     "exception": false,
     "start_time": "2021-08-26T12:11:51.417964",
     "status": "completed"
    },
    "tags": []
   },
   "outputs": [],
   "source": [
    "# #hide\n",
    "# g = g.reset_index(['date'])"
   ]
  },
  {
   "cell_type": "code",
   "execution_count": 25,
   "id": "incomplete-mustang",
   "metadata": {
    "execution": {
     "iopub.execute_input": "2021-08-26T12:11:51.528503Z",
     "iopub.status.busy": "2021-08-26T12:11:51.527956Z",
     "iopub.status.idle": "2021-08-26T12:11:51.530445Z",
     "shell.execute_reply": "2021-08-26T12:11:51.530962Z"
    },
    "papermill": {
     "duration": 0.03972,
     "end_time": "2021-08-26T12:11:51.531087",
     "exception": false,
     "start_time": "2021-08-26T12:11:51.491367",
     "status": "completed"
    },
    "tags": []
   },
   "outputs": [],
   "source": [
    "#hide\n",
    "# g.head()"
   ]
  },
  {
   "cell_type": "code",
   "execution_count": 26,
   "id": "specific-kruger",
   "metadata": {
    "execution": {
     "iopub.execute_input": "2021-08-26T12:11:51.601903Z",
     "iopub.status.busy": "2021-08-26T12:11:51.601320Z",
     "iopub.status.idle": "2021-08-26T12:11:51.603958Z",
     "shell.execute_reply": "2021-08-26T12:11:51.603462Z"
    },
    "papermill": {
     "duration": 0.040274,
     "end_time": "2021-08-26T12:11:51.604085",
     "exception": false,
     "start_time": "2021-08-26T12:11:51.563811",
     "status": "completed"
    },
    "tags": []
   },
   "outputs": [],
   "source": [
    "#hide\n",
    "# g.columns = ['date','country','cases']"
   ]
  },
  {
   "cell_type": "code",
   "execution_count": 27,
   "id": "tender-conversion",
   "metadata": {
    "execution": {
     "iopub.execute_input": "2021-08-26T12:11:51.674632Z",
     "iopub.status.busy": "2021-08-26T12:11:51.674049Z",
     "iopub.status.idle": "2021-08-26T12:11:51.676276Z",
     "shell.execute_reply": "2021-08-26T12:11:51.675814Z"
    },
    "papermill": {
     "duration": 0.039614,
     "end_time": "2021-08-26T12:11:51.676382",
     "exception": false,
     "start_time": "2021-08-26T12:11:51.636768",
     "status": "completed"
    },
    "tags": []
   },
   "outputs": [],
   "source": [
    "#hide\n",
    "# g['continent'] = g.country"
   ]
  },
  {
   "cell_type": "code",
   "execution_count": 28,
   "id": "substantial-wilderness",
   "metadata": {
    "execution": {
     "iopub.execute_input": "2021-08-26T12:11:51.748977Z",
     "iopub.status.busy": "2021-08-26T12:11:51.748435Z",
     "iopub.status.idle": "2021-08-26T12:11:51.751400Z",
     "shell.execute_reply": "2021-08-26T12:11:51.750933Z"
    },
    "papermill": {
     "duration": 0.04139,
     "end_time": "2021-08-26T12:11:51.751520",
     "exception": false,
     "start_time": "2021-08-26T12:11:51.710130",
     "status": "completed"
    },
    "tags": []
   },
   "outputs": [],
   "source": [
    "#hide\n",
    "# cols = list(g.columns.values)"
   ]
  },
  {
   "cell_type": "code",
   "execution_count": 29,
   "id": "solved-farming",
   "metadata": {
    "execution": {
     "iopub.execute_input": "2021-08-26T12:11:51.821868Z",
     "iopub.status.busy": "2021-08-26T12:11:51.821266Z",
     "iopub.status.idle": "2021-08-26T12:11:51.823691Z",
     "shell.execute_reply": "2021-08-26T12:11:51.824252Z"
    },
    "papermill": {
     "duration": 0.040294,
     "end_time": "2021-08-26T12:11:51.824386",
     "exception": false,
     "start_time": "2021-08-26T12:11:51.784092",
     "status": "completed"
    },
    "tags": []
   },
   "outputs": [],
   "source": [
    "#hide\n",
    "# cols.insert(0, cols.pop())"
   ]
  },
  {
   "cell_type": "code",
   "execution_count": 30,
   "id": "executed-adoption",
   "metadata": {
    "execution": {
     "iopub.execute_input": "2021-08-26T12:11:51.892741Z",
     "iopub.status.busy": "2021-08-26T12:11:51.892256Z",
     "iopub.status.idle": "2021-08-26T12:11:51.894716Z",
     "shell.execute_reply": "2021-08-26T12:11:51.894236Z"
    },
    "papermill": {
     "duration": 0.038284,
     "end_time": "2021-08-26T12:11:51.894835",
     "exception": false,
     "start_time": "2021-08-26T12:11:51.856551",
     "status": "completed"
    },
    "tags": []
   },
   "outputs": [],
   "source": [
    "#hide\n",
    "# g = g[cols]"
   ]
  },
  {
   "cell_type": "code",
   "execution_count": 31,
   "id": "subject-dublin",
   "metadata": {
    "execution": {
     "iopub.execute_input": "2021-08-26T12:11:51.964561Z",
     "iopub.status.busy": "2021-08-26T12:11:51.964019Z",
     "iopub.status.idle": "2021-08-26T12:11:51.966371Z",
     "shell.execute_reply": "2021-08-26T12:11:51.966928Z"
    },
    "papermill": {
     "duration": 0.039992,
     "end_time": "2021-08-26T12:11:51.967050",
     "exception": false,
     "start_time": "2021-08-26T12:11:51.927058",
     "status": "completed"
    },
    "tags": []
   },
   "outputs": [],
   "source": [
    "#hide\n",
    "# g['continent'] = g['continent'].map(mapping['map.continent'])"
   ]
  },
  {
   "cell_type": "code",
   "execution_count": 32,
   "id": "freelance-scout",
   "metadata": {
    "execution": {
     "iopub.execute_input": "2021-08-26T12:11:52.037026Z",
     "iopub.status.busy": "2021-08-26T12:11:52.036447Z",
     "iopub.status.idle": "2021-08-26T12:11:52.039550Z",
     "shell.execute_reply": "2021-08-26T12:11:52.040075Z"
    },
    "papermill": {
     "duration": 0.040789,
     "end_time": "2021-08-26T12:11:52.040207",
     "exception": false,
     "start_time": "2021-08-26T12:11:51.999418",
     "status": "completed"
    },
    "tags": []
   },
   "outputs": [],
   "source": [
    "#hide\n",
    "# g.head()"
   ]
  },
  {
   "cell_type": "code",
   "execution_count": 33,
   "id": "limited-engine",
   "metadata": {
    "execution": {
     "iopub.execute_input": "2021-08-26T12:11:52.105636Z",
     "iopub.status.busy": "2021-08-26T12:11:52.105101Z",
     "iopub.status.idle": "2021-08-26T12:11:52.106869Z",
     "shell.execute_reply": "2021-08-26T12:11:52.107276Z"
    },
    "papermill": {
     "duration": 0.035555,
     "end_time": "2021-08-26T12:11:52.107400",
     "exception": false,
     "start_time": "2021-08-26T12:11:52.071845",
     "status": "completed"
    },
    "tags": []
   },
   "outputs": [],
   "source": [
    "# hide\n",
    "# g['date'] = g['date'].astype('datetime64[ns]')"
   ]
  },
  {
   "cell_type": "code",
   "execution_count": 34,
   "id": "sophisticated-supervisor",
   "metadata": {
    "execution": {
     "iopub.execute_input": "2021-08-26T12:11:52.174169Z",
     "iopub.status.busy": "2021-08-26T12:11:52.173760Z",
     "iopub.status.idle": "2021-08-26T12:11:52.175861Z",
     "shell.execute_reply": "2021-08-26T12:11:52.176356Z"
    },
    "papermill": {
     "duration": 0.037471,
     "end_time": "2021-08-26T12:11:52.176464",
     "exception": false,
     "start_time": "2021-08-26T12:11:52.138993",
     "status": "completed"
    },
    "tags": []
   },
   "outputs": [],
   "source": [
    "#hide\n",
    "# g['date'] = g.date.dt.dayofyear"
   ]
  },
  {
   "cell_type": "code",
   "execution_count": 35,
   "id": "inside-dubai",
   "metadata": {
    "execution": {
     "iopub.execute_input": "2021-08-26T12:11:52.244197Z",
     "iopub.status.busy": "2021-08-26T12:11:52.243694Z",
     "iopub.status.idle": "2021-08-26T12:11:52.245867Z",
     "shell.execute_reply": "2021-08-26T12:11:52.245382Z"
    },
    "papermill": {
     "duration": 0.038848,
     "end_time": "2021-08-26T12:11:52.245987",
     "exception": false,
     "start_time": "2021-08-26T12:11:52.207139",
     "status": "completed"
    },
    "tags": []
   },
   "outputs": [],
   "source": [
    "#hide\n",
    "# g = g.rename(columns= {'continent':'group','country':'name','cases':'value'})"
   ]
  },
  {
   "cell_type": "code",
   "execution_count": 36,
   "id": "fleet-motorcycle",
   "metadata": {
    "execution": {
     "iopub.execute_input": "2021-08-26T12:11:52.316865Z",
     "iopub.status.busy": "2021-08-26T12:11:52.316318Z",
     "iopub.status.idle": "2021-08-26T12:11:52.318670Z",
     "shell.execute_reply": "2021-08-26T12:11:52.319074Z"
    },
    "papermill": {
     "duration": 0.040248,
     "end_time": "2021-08-26T12:11:52.319189",
     "exception": false,
     "start_time": "2021-08-26T12:11:52.278941",
     "status": "completed"
    },
    "tags": []
   },
   "outputs": [],
   "source": [
    "#hide\n",
    "# cols = ['name','group','day','value']"
   ]
  },
  {
   "cell_type": "code",
   "execution_count": 37,
   "id": "continued-sleeping",
   "metadata": {
    "execution": {
     "iopub.execute_input": "2021-08-26T12:11:52.390351Z",
     "iopub.status.busy": "2021-08-26T12:11:52.389809Z",
     "iopub.status.idle": "2021-08-26T12:11:52.391535Z",
     "shell.execute_reply": "2021-08-26T12:11:52.392032Z"
    },
    "papermill": {
     "duration": 0.039473,
     "end_time": "2021-08-26T12:11:52.392169",
     "exception": false,
     "start_time": "2021-08-26T12:11:52.352696",
     "status": "completed"
    },
    "tags": []
   },
   "outputs": [],
   "source": [
    "#hide\n",
    "# g.rename(columns= {'date':'day'},inplace = True)"
   ]
  },
  {
   "cell_type": "code",
   "execution_count": 38,
   "id": "major-fight",
   "metadata": {
    "execution": {
     "iopub.execute_input": "2021-08-26T12:11:52.462322Z",
     "iopub.status.busy": "2021-08-26T12:11:52.461747Z",
     "iopub.status.idle": "2021-08-26T12:11:52.463797Z",
     "shell.execute_reply": "2021-08-26T12:11:52.464273Z"
    },
    "papermill": {
     "duration": 0.03894,
     "end_time": "2021-08-26T12:11:52.464394",
     "exception": false,
     "start_time": "2021-08-26T12:11:52.425454",
     "status": "completed"
    },
    "tags": []
   },
   "outputs": [],
   "source": [
    "#hide\n",
    "# g = g[cols]"
   ]
  },
  {
   "cell_type": "code",
   "execution_count": 39,
   "id": "structured-mobile",
   "metadata": {
    "execution": {
     "iopub.execute_input": "2021-08-26T12:11:52.533685Z",
     "iopub.status.busy": "2021-08-26T12:11:52.533111Z",
     "iopub.status.idle": "2021-08-26T12:11:52.535469Z",
     "shell.execute_reply": "2021-08-26T12:11:52.536043Z"
    },
    "papermill": {
     "duration": 0.039076,
     "end_time": "2021-08-26T12:11:52.536166",
     "exception": false,
     "start_time": "2021-08-26T12:11:52.497090",
     "status": "completed"
    },
    "tags": []
   },
   "outputs": [],
   "source": [
    "# #hide\n",
    "# g = g[g.group.notna()]"
   ]
  },
  {
   "cell_type": "code",
   "execution_count": 40,
   "id": "determined-closing",
   "metadata": {
    "execution": {
     "iopub.execute_input": "2021-08-26T12:11:52.603632Z",
     "iopub.status.busy": "2021-08-26T12:11:52.603044Z",
     "iopub.status.idle": "2021-08-26T12:11:52.605490Z",
     "shell.execute_reply": "2021-08-26T12:11:52.605010Z"
    },
    "papermill": {
     "duration": 0.036507,
     "end_time": "2021-08-26T12:11:52.605594",
     "exception": false,
     "start_time": "2021-08-26T12:11:52.569087",
     "status": "completed"
    },
    "tags": []
   },
   "outputs": [],
   "source": [
    "# #hide\n",
    "# colors = dict(zip(\n",
    "#     [\"Oceania\", \"Europe\", \"Asia\", \"South America\", \"Middle East\", \"North America\", \"Africa\"],\n",
    "#     [\"#adb0ff\", \"#ffb3ff\", \"#90d595\", \"#e48381\", \"#aafbff\", \"#f7bb5f\", \"#eafb50\"]\n",
    "# ))\n",
    "# group_lk = g.set_index('name')['group'].to_dict()"
   ]
  },
  {
   "cell_type": "code",
   "execution_count": null,
   "id": "gross-drinking",
   "metadata": {
    "papermill": {
     "duration": 0.030663,
     "end_time": "2021-08-26T12:11:52.668024",
     "exception": false,
     "start_time": "2021-08-26T12:11:52.637361",
     "status": "completed"
    },
    "tags": []
   },
   "outputs": [],
   "source": []
  },
  {
   "cell_type": "code",
   "execution_count": 41,
   "id": "subject-macintosh",
   "metadata": {
    "execution": {
     "iopub.execute_input": "2021-08-26T12:11:52.736938Z",
     "iopub.status.busy": "2021-08-26T12:11:52.736345Z",
     "iopub.status.idle": "2021-08-26T12:11:52.739204Z",
     "shell.execute_reply": "2021-08-26T12:11:52.738705Z"
    },
    "papermill": {
     "duration": 0.038714,
     "end_time": "2021-08-26T12:11:52.739314",
     "exception": false,
     "start_time": "2021-08-26T12:11:52.700600",
     "status": "completed"
    },
    "tags": []
   },
   "outputs": [],
   "source": [
    "# #hide\n",
    "# fig, ax = plt.subplots(figsize=(15, 8))\n",
    "\n",
    "# def draw_barchart(current_day):\n",
    "#     dff = g[g['day'].eq(current_day)].sort_values(by='value', ascending=True).tail(10)\n",
    "#     ax.clear()\n",
    "#     ax.barh(dff['name'], dff['value'], color=[colors[group_lk[x]] for x in dff['name']])\n",
    "#     dx = dff['value'].max() / 200\n",
    "    \n",
    "#     for i, (value, name) in enumerate(zip(dff['value'], dff['name'])):\n",
    "#         ax.text(value-dx, i,     name,           size=14, weight=600, ha='right', va='bottom')\n",
    "#         ax.text(value-dx, i-.25, group_lk[name], size=10, color='#444444', ha='right', va='baseline')\n",
    "#         ax.text(value+dx, i,     f'{value:,.0f}',  size=14, ha='left',  va='center')\n",
    "#     ax.text(1, 0.4, current_day, transform=ax.transAxes, color='#777777', size=46, ha='right', weight=800)\n",
    "#     ax.text(0, 1.06, 'Population (thousands)', transform=ax.transAxes, size=12, color='#777777')\n",
    "#     ax.xaxis.set_major_formatter(ticker.StrMethodFormatter('{x:,.0f}'))\n",
    "#     ax.xaxis.set_ticks_position('top')\n",
    "#     ax.tick_params(axis='x', colors='#777777', labelsize=12)\n",
    "#     ax.set_yticks([])\n",
    "#     ax.margins(0, 0.01)\n",
    "#     ax.grid(which='major', axis='x', linestyle='-')\n",
    "#     ax.set_axisbelow(True)\n",
    "    \n",
    "#     ax.text(0, 1.15, 'Coronavirus',\n",
    "#             transform=ax.transAxes, size=24, weight=600, ha='left', va='top')\n",
    "# #     ax.text(1, 0, 'by @pratapvardhan; credit @jburnmurdoch', transform=ax.transAxes, color='#777777', ha='right',\n",
    "# #             bbox=dict(facecolor='white', alpha=0.8, edgecolor='white'))\n",
    "#     plt.box(False)"
   ]
  },
  {
   "cell_type": "code",
   "execution_count": 42,
   "id": "sexual-wages",
   "metadata": {
    "execution": {
     "iopub.execute_input": "2021-08-26T12:11:52.808737Z",
     "iopub.status.busy": "2021-08-26T12:11:52.808150Z",
     "iopub.status.idle": "2021-08-26T12:11:52.810608Z",
     "shell.execute_reply": "2021-08-26T12:11:52.811043Z"
    },
    "papermill": {
     "duration": 0.038924,
     "end_time": "2021-08-26T12:11:52.811165",
     "exception": false,
     "start_time": "2021-08-26T12:11:52.772241",
     "status": "completed"
    },
    "tags": []
   },
   "outputs": [],
   "source": [
    "# #hide_input\n",
    "# fig, ax = plt.subplots(figsize=(15, 8))\n",
    "# animator = animation.FuncAnimation(fig, draw_barchart, frames=range(g.day.values.min(), g.day.values.max()))\n",
    "# HTML(animator.to_jshtml())\n",
    "# # or use animator.to_html5_video() or animator.save() "
   ]
  },
  {
   "cell_type": "code",
   "execution_count": null,
   "id": "australian-container",
   "metadata": {
    "papermill": {
     "duration": 0.031945,
     "end_time": "2021-08-26T12:11:52.875989",
     "exception": false,
     "start_time": "2021-08-26T12:11:52.844044",
     "status": "completed"
    },
    "tags": []
   },
   "outputs": [],
   "source": []
  },
  {
   "cell_type": "code",
   "execution_count": null,
   "id": "mediterranean-pontiac",
   "metadata": {
    "papermill": {
     "duration": 0.030503,
     "end_time": "2021-08-26T12:11:52.938135",
     "exception": false,
     "start_time": "2021-08-26T12:11:52.907632",
     "status": "completed"
    },
    "tags": []
   },
   "outputs": [],
   "source": []
  },
  {
   "cell_type": "code",
   "execution_count": null,
   "id": "aging-legislature",
   "metadata": {
    "papermill": {
     "duration": 0.031354,
     "end_time": "2021-08-26T12:11:52.999566",
     "exception": false,
     "start_time": "2021-08-26T12:11:52.968212",
     "status": "completed"
    },
    "tags": []
   },
   "outputs": [],
   "source": []
  }
 ],
 "metadata": {
  "kernelspec": {
   "display_name": "Python 3",
   "language": "python",
   "name": "python3"
  },
  "language_info": {
   "codemirror_mode": {
    "name": "ipython",
    "version": 3
   },
   "file_extension": ".py",
   "mimetype": "text/x-python",
   "name": "python",
   "nbconvert_exporter": "python",
   "pygments_lexer": "ipython3",
   "version": "3.6.14"
  },
  "papermill": {
   "duration": 6.235735,
   "end_time": "2021-08-26T12:11:53.341200",
   "environment_variables": {},
   "exception": null,
   "input_path": "2020-03-21-covid19exp.ipynb",
   "output_path": "2020-03-21-covid19exp.ipynb",
   "parameters": {},
   "start_time": "2021-08-26T12:11:47.105465",
   "version": "2.0.0"
  }
 },
 "nbformat": 4,
 "nbformat_minor": 5
}