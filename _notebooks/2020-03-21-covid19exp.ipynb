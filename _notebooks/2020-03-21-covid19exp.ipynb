{
 "cells": [
  {
   "cell_type": "markdown",
   "id": "muslim-click",
   "metadata": {
    "papermill": {
     "duration": 0.038894,
     "end_time": "2021-02-27T12:07:21.804428",
     "exception": false,
     "start_time": "2021-02-27T12:07:21.765534",
     "status": "completed"
    },
    "tags": []
   },
   "source": [
    "# COVID-19 Case Race\n",
    "> A race chart to see rising cases around the world\n",
    "\n",
    "- author: Hargun Oberoi\n",
    "- image: images/covid-overview.png\n",
    "- hide: false\n",
    "- badges: false"
   ]
  },
  {
   "cell_type": "code",
   "execution_count": 1,
   "id": "proof-material",
   "metadata": {
    "execution": {
     "iopub.execute_input": "2021-02-27T12:07:21.890072Z",
     "iopub.status.busy": "2021-02-27T12:07:21.889418Z",
     "iopub.status.idle": "2021-02-27T12:07:22.253325Z",
     "shell.execute_reply": "2021-02-27T12:07:22.252723Z"
    },
    "papermill": {
     "duration": 0.413144,
     "end_time": "2021-02-27T12:07:22.253484",
     "exception": false,
     "start_time": "2021-02-27T12:07:21.840340",
     "status": "completed"
    },
    "tags": []
   },
   "outputs": [],
   "source": [
    "#hide\n",
    "import numpy as np\n",
    "import pandas as pd\n",
    "from jinja2 import Template\n",
    "from IPython.display import HTML"
   ]
  },
  {
   "cell_type": "code",
   "execution_count": 2,
   "id": "developed-terminology",
   "metadata": {
    "execution": {
     "iopub.execute_input": "2021-02-27T12:07:22.331111Z",
     "iopub.status.busy": "2021-02-27T12:07:22.330501Z",
     "iopub.status.idle": "2021-02-27T12:07:22.332729Z",
     "shell.execute_reply": "2021-02-27T12:07:22.333624Z"
    },
    "papermill": {
     "duration": 0.044135,
     "end_time": "2021-02-27T12:07:22.333795",
     "exception": false,
     "start_time": "2021-02-27T12:07:22.289660",
     "status": "completed"
    },
    "tags": []
   },
   "outputs": [],
   "source": [
    "#hide\n",
    "\n",
    "# FETCH\n",
    "base_url = 'https://raw.githubusercontent.com/pratapvardhan/notebooks/master/covid19/'\n",
    "paths = {\n",
    "    'mapping': base_url + 'mapping_countries.csv',\n",
    "    'overview': base_url + 'overview.tpl'\n",
    "}"
   ]
  },
  {
   "cell_type": "code",
   "execution_count": 3,
   "id": "dynamic-saver",
   "metadata": {
    "execution": {
     "iopub.execute_input": "2021-02-27T12:07:22.414833Z",
     "iopub.status.busy": "2021-02-27T12:07:22.414211Z",
     "iopub.status.idle": "2021-02-27T12:07:22.418507Z",
     "shell.execute_reply": "2021-02-27T12:07:22.418006Z"
    },
    "papermill": {
     "duration": 0.051509,
     "end_time": "2021-02-27T12:07:22.418640",
     "exception": false,
     "start_time": "2021-02-27T12:07:22.367131",
     "status": "completed"
    },
    "tags": []
   },
   "outputs": [
    {
     "data": {
      "text/plain": [
       "'https://raw.githubusercontent.com/pratapvardhan/notebooks/master/covid19/mapping_countries.csv'"
      ]
     },
     "execution_count": 3,
     "metadata": {},
     "output_type": "execute_result"
    }
   ],
   "source": [
    "#hide\n",
    "paths['mapping']"
   ]
  },
  {
   "cell_type": "code",
   "execution_count": 4,
   "id": "urban-software",
   "metadata": {
    "execution": {
     "iopub.execute_input": "2021-02-27T12:07:22.497385Z",
     "iopub.status.busy": "2021-02-27T12:07:22.496741Z",
     "iopub.status.idle": "2021-02-27T12:07:22.499052Z",
     "shell.execute_reply": "2021-02-27T12:07:22.498536Z"
    },
    "papermill": {
     "duration": 0.042614,
     "end_time": "2021-02-27T12:07:22.499178",
     "exception": false,
     "start_time": "2021-02-27T12:07:22.456564",
     "status": "completed"
    },
    "tags": []
   },
   "outputs": [],
   "source": [
    "#hide\n",
    "def get_mappings(url):\n",
    "    df = pd.read_csv(url)\n",
    "    return {\n",
    "        'df': df,\n",
    "        'replace.country': dict(df.dropna(subset=['Name']).set_index('Country')['Name']),\n",
    "        'map.continent': dict(df.set_index('Name')['Continent'])\n",
    "    }"
   ]
  },
  {
   "cell_type": "code",
   "execution_count": 5,
   "id": "intimate-machinery",
   "metadata": {
    "execution": {
     "iopub.execute_input": "2021-02-27T12:07:22.577152Z",
     "iopub.status.busy": "2021-02-27T12:07:22.576516Z",
     "iopub.status.idle": "2021-02-27T12:07:22.611146Z",
     "shell.execute_reply": "2021-02-27T12:07:22.610356Z"
    },
    "papermill": {
     "duration": 0.07827,
     "end_time": "2021-02-27T12:07:22.611343",
     "exception": false,
     "start_time": "2021-02-27T12:07:22.533073",
     "status": "completed"
    },
    "tags": []
   },
   "outputs": [],
   "source": [
    "#hide\n",
    "mapping = get_mappings(paths['mapping'])"
   ]
  },
  {
   "cell_type": "code",
   "execution_count": 6,
   "id": "certified-tactics",
   "metadata": {
    "execution": {
     "iopub.execute_input": "2021-02-27T12:07:22.688823Z",
     "iopub.status.busy": "2021-02-27T12:07:22.688203Z",
     "iopub.status.idle": "2021-02-27T12:07:22.690662Z",
     "shell.execute_reply": "2021-02-27T12:07:22.691231Z"
    },
    "papermill": {
     "duration": 0.042641,
     "end_time": "2021-02-27T12:07:22.691381",
     "exception": false,
     "start_time": "2021-02-27T12:07:22.648740",
     "status": "completed"
    },
    "tags": []
   },
   "outputs": [],
   "source": [
    "#hide\n",
    "def get_template(path):\n",
    "    from urllib.parse import urlparse\n",
    "    if bool(urlparse(path).netloc):\n",
    "        from urllib.request import urlopen\n",
    "        return urlopen(path).read().decode('utf8')\n",
    "    return open(path).read()"
   ]
  },
  {
   "cell_type": "code",
   "execution_count": 7,
   "id": "realistic-blast",
   "metadata": {
    "execution": {
     "iopub.execute_input": "2021-02-27T12:07:22.771947Z",
     "iopub.status.busy": "2021-02-27T12:07:22.771338Z",
     "iopub.status.idle": "2021-02-27T12:07:22.773401Z",
     "shell.execute_reply": "2021-02-27T12:07:22.773974Z"
    },
    "papermill": {
     "duration": 0.041436,
     "end_time": "2021-02-27T12:07:22.774122",
     "exception": false,
     "start_time": "2021-02-27T12:07:22.732686",
     "status": "completed"
    },
    "tags": []
   },
   "outputs": [],
   "source": [
    "#hide\n",
    "def get_frame(name):\n",
    "    url = (\n",
    "        'https://raw.githubusercontent.com/CSSEGISandData/COVID-19/master/csse_covid_19_data/'\n",
    "        f'csse_covid_19_time_series/time_series_covid19_{name}_global.csv')\n",
    "    df = pd.read_csv(url)\n",
    "    # rename countries\n",
    "    df['Country/Region'] = df['Country/Region'].replace(mapping['replace.country'])\n",
    "    return df"
   ]
  },
  {
   "cell_type": "code",
   "execution_count": 8,
   "id": "affiliated-characterization",
   "metadata": {
    "execution": {
     "iopub.execute_input": "2021-02-27T12:07:22.854026Z",
     "iopub.status.busy": "2021-02-27T12:07:22.853403Z",
     "iopub.status.idle": "2021-02-27T12:07:22.856986Z",
     "shell.execute_reply": "2021-02-27T12:07:22.857513Z"
    },
    "papermill": {
     "duration": 0.049677,
     "end_time": "2021-02-27T12:07:22.857661",
     "exception": false,
     "start_time": "2021-02-27T12:07:22.807984",
     "status": "completed"
    },
    "tags": []
   },
   "outputs": [],
   "source": [
    "#hide\n",
    "def get_dates(df):\n",
    "    dt_cols = df.columns[~df.columns.isin(['Province/State', 'Country/Region', 'Lat', 'Long'])]\n",
    "    LAST_DATE_I = -1\n",
    "    # sometimes last column may be empty, then go backwards\n",
    "    for i in range(-1, -len(dt_cols), -1):\n",
    "        if not df[dt_cols[i]].fillna(0).eq(0).all():\n",
    "            LAST_DATE_I = i\n",
    "            break\n",
    "    return LAST_DATE_I, dt_cols"
   ]
  },
  {
   "cell_type": "code",
   "execution_count": 9,
   "id": "recent-optimization",
   "metadata": {
    "execution": {
     "iopub.execute_input": "2021-02-27T12:07:22.930210Z",
     "iopub.status.busy": "2021-02-27T12:07:22.929600Z",
     "iopub.status.idle": "2021-02-27T12:07:23.211775Z",
     "shell.execute_reply": "2021-02-27T12:07:23.211192Z"
    },
    "papermill": {
     "duration": 0.320898,
     "end_time": "2021-02-27T12:07:23.211909",
     "exception": false,
     "start_time": "2021-02-27T12:07:22.891011",
     "status": "completed"
    },
    "tags": []
   },
   "outputs": [],
   "source": [
    "#hide\n",
    "COL_REGION = 'Country/Region'\n",
    "# Confirmed, Recovered, Deaths\n",
    "df = get_frame('confirmed')\n",
    "# dft_: timeseries, dfc_: today country agg\n",
    "dft_cases = df\n",
    "dft_deaths = get_frame('deaths')\n",
    "dft_recovered = get_frame('recovered')\n",
    "LAST_DATE_I, dt_cols = get_dates(df)"
   ]
  },
  {
   "cell_type": "code",
   "execution_count": 10,
   "id": "absolute-copper",
   "metadata": {
    "execution": {
     "iopub.execute_input": "2021-02-27T12:07:23.287549Z",
     "iopub.status.busy": "2021-02-27T12:07:23.286482Z",
     "iopub.status.idle": "2021-02-27T12:07:23.288365Z",
     "shell.execute_reply": "2021-02-27T12:07:23.288951Z"
    },
    "papermill": {
     "duration": 0.043309,
     "end_time": "2021-02-27T12:07:23.289120",
     "exception": false,
     "start_time": "2021-02-27T12:07:23.245811",
     "status": "completed"
    },
    "tags": []
   },
   "outputs": [],
   "source": [
    "#hide\n",
    "LAST_DATE_I, dt_cols = get_dates(df)\n",
    "dt_today =dt_cols[LAST_DATE_I]\n",
    "# dt_5day = dt_cols[LAST_DATE_I - 5]\n",
    "dt_yday = dt_cols[LAST_DATE_I - 1]"
   ]
  },
  {
   "cell_type": "code",
   "execution_count": 11,
   "id": "restricted-sheriff",
   "metadata": {
    "execution": {
     "iopub.execute_input": "2021-02-27T12:07:23.371135Z",
     "iopub.status.busy": "2021-02-27T12:07:23.370344Z",
     "iopub.status.idle": "2021-02-27T12:07:23.378404Z",
     "shell.execute_reply": "2021-02-27T12:07:23.379024Z"
    },
    "papermill": {
     "duration": 0.053849,
     "end_time": "2021-02-27T12:07:23.379192",
     "exception": false,
     "start_time": "2021-02-27T12:07:23.325343",
     "status": "completed"
    },
    "tags": []
   },
   "outputs": [],
   "source": [
    "#hide\n",
    "dfc_cases = dft_cases.groupby(COL_REGION)[dt_today].sum()\n",
    "dfc_deaths = dft_deaths.groupby(COL_REGION)[dt_today].sum()\n",
    "# dfp_cases = dft_cases.groupby(COL_REGION)[dt_5day].sum()\n",
    "# dfp_deaths = dft_deaths.groupby(COL_REGION)[dt_5day].sum()\n",
    "dfp_cases = dft_cases.groupby(COL_REGION)[dt_yday].sum()\n",
    "dfp_deaths = dft_deaths.groupby(COL_REGION)[dt_yday].sum()"
   ]
  },
  {
   "cell_type": "code",
   "execution_count": 12,
   "id": "deluxe-hepatitis",
   "metadata": {
    "execution": {
     "iopub.execute_input": "2021-02-27T12:07:23.468336Z",
     "iopub.status.busy": "2021-02-27T12:07:23.467709Z",
     "iopub.status.idle": "2021-02-27T12:07:23.472325Z",
     "shell.execute_reply": "2021-02-27T12:07:23.472783Z"
    },
    "papermill": {
     "duration": 0.049993,
     "end_time": "2021-02-27T12:07:23.472966",
     "exception": false,
     "start_time": "2021-02-27T12:07:23.422973",
     "status": "completed"
    },
    "tags": []
   },
   "outputs": [],
   "source": [
    "#hide\n",
    "df_table = (pd.DataFrame(dict(Cases = dfc_cases, Deaths = dfc_deaths, PCases = dfp_cases, PDeaths = dfp_deaths))\n",
    "            .sort_values(by = ['Cases','Deaths'], ascending = [False, False])\n",
    "            .reset_index())"
   ]
  },
  {
   "cell_type": "code",
   "execution_count": 13,
   "id": "educational-chancellor",
   "metadata": {
    "execution": {
     "iopub.execute_input": "2021-02-27T12:07:23.569436Z",
     "iopub.status.busy": "2021-02-27T12:07:23.568365Z",
     "iopub.status.idle": "2021-02-27T12:07:23.575856Z",
     "shell.execute_reply": "2021-02-27T12:07:23.576590Z"
    },
    "papermill": {
     "duration": 0.068036,
     "end_time": "2021-02-27T12:07:23.576792",
     "exception": false,
     "start_time": "2021-02-27T12:07:23.508756",
     "status": "completed"
    },
    "tags": []
   },
   "outputs": [
    {
     "data": {
      "text/html": [
       "<div>\n",
       "<style scoped>\n",
       "    .dataframe tbody tr th:only-of-type {\n",
       "        vertical-align: middle;\n",
       "    }\n",
       "\n",
       "    .dataframe tbody tr th {\n",
       "        vertical-align: top;\n",
       "    }\n",
       "\n",
       "    .dataframe thead th {\n",
       "        text-align: right;\n",
       "    }\n",
       "</style>\n",
       "<table border=\"1\" class=\"dataframe\">\n",
       "  <thead>\n",
       "    <tr style=\"text-align: right;\">\n",
       "      <th></th>\n",
       "      <th>Country/Region</th>\n",
       "      <th>Cases</th>\n",
       "      <th>Deaths</th>\n",
       "      <th>PCases</th>\n",
       "      <th>PDeaths</th>\n",
       "      <th>Cases (+)</th>\n",
       "      <th>Deaths (+)</th>\n",
       "      <th>Fatality Rate</th>\n",
       "      <th>Continent</th>\n",
       "    </tr>\n",
       "  </thead>\n",
       "  <tbody>\n",
       "    <tr>\n",
       "      <th>0</th>\n",
       "      <td>US</td>\n",
       "      <td>28486394</td>\n",
       "      <td>510458</td>\n",
       "      <td>28413388</td>\n",
       "      <td>508307</td>\n",
       "      <td>73006</td>\n",
       "      <td>2151</td>\n",
       "      <td>1.79</td>\n",
       "      <td>North America</td>\n",
       "    </tr>\n",
       "    <tr>\n",
       "      <th>1</th>\n",
       "      <td>India</td>\n",
       "      <td>11079979</td>\n",
       "      <td>156938</td>\n",
       "      <td>11063491</td>\n",
       "      <td>156825</td>\n",
       "      <td>16488</td>\n",
       "      <td>113</td>\n",
       "      <td>1.42</td>\n",
       "      <td>Asia</td>\n",
       "    </tr>\n",
       "    <tr>\n",
       "      <th>2</th>\n",
       "      <td>Brazil</td>\n",
       "      <td>10455630</td>\n",
       "      <td>252835</td>\n",
       "      <td>10390461</td>\n",
       "      <td>251498</td>\n",
       "      <td>65169</td>\n",
       "      <td>1337</td>\n",
       "      <td>2.42</td>\n",
       "      <td>South America</td>\n",
       "    </tr>\n",
       "    <tr>\n",
       "      <th>3</th>\n",
       "      <td>Russia</td>\n",
       "      <td>4175757</td>\n",
       "      <td>83900</td>\n",
       "      <td>4164802</td>\n",
       "      <td>83481</td>\n",
       "      <td>10955</td>\n",
       "      <td>419</td>\n",
       "      <td>2.01</td>\n",
       "      <td>Europe</td>\n",
       "    </tr>\n",
       "    <tr>\n",
       "      <th>4</th>\n",
       "      <td>United Kingdom</td>\n",
       "      <td>4175315</td>\n",
       "      <td>122648</td>\n",
       "      <td>4166727</td>\n",
       "      <td>122303</td>\n",
       "      <td>8588</td>\n",
       "      <td>345</td>\n",
       "      <td>2.94</td>\n",
       "      <td>Europe</td>\n",
       "    </tr>\n",
       "  </tbody>\n",
       "</table>\n",
       "</div>"
      ],
      "text/plain": [
       "   Country/Region     Cases  Deaths    PCases  PDeaths  Cases (+)  Deaths (+)  \\\n",
       "0              US  28486394  510458  28413388   508307      73006        2151   \n",
       "1           India  11079979  156938  11063491   156825      16488         113   \n",
       "2          Brazil  10455630  252835  10390461   251498      65169        1337   \n",
       "3          Russia   4175757   83900   4164802    83481      10955         419   \n",
       "4  United Kingdom   4175315  122648   4166727   122303       8588         345   \n",
       "\n",
       "   Fatality Rate      Continent  \n",
       "0           1.79  North America  \n",
       "1           1.42           Asia  \n",
       "2           2.42  South America  \n",
       "3           2.01         Europe  \n",
       "4           2.94         Europe  "
      ]
     },
     "execution_count": 13,
     "metadata": {},
     "output_type": "execute_result"
    }
   ],
   "source": [
    "#hide\n",
    "for c in 'Cases, Deaths'.split(', '):\n",
    "    df_table[f'{c} (+)'] = (df_table[c] - df_table[f'P{c}']).clip(0)\n",
    "    #Clip ça veut dire, les chiffres negatif sont interdit\n",
    "df_table['Fatality Rate'] = (100* df_table['Deaths']/ df_table['Cases']).round(2)\n",
    "df_table['Continent'] = df_table['Country/Region'].map(mapping['map.continent'])\n",
    "df_table.head(5)"
   ]
  },
  {
   "cell_type": "code",
   "execution_count": 14,
   "id": "aboriginal-bulgaria",
   "metadata": {
    "execution": {
     "iopub.execute_input": "2021-02-27T12:07:23.662150Z",
     "iopub.status.busy": "2021-02-27T12:07:23.661544Z",
     "iopub.status.idle": "2021-02-27T12:07:23.664043Z",
     "shell.execute_reply": "2021-02-27T12:07:23.663524Z"
    },
    "papermill": {
     "duration": 0.04426,
     "end_time": "2021-02-27T12:07:23.664170",
     "exception": false,
     "start_time": "2021-02-27T12:07:23.619910",
     "status": "completed"
    },
    "tags": []
   },
   "outputs": [],
   "source": [
    "#hide\n",
    "#delete problematic countries from table\n",
    "df_table = df_table[~df_table['Country/Region'].isin(['Cape Verde', 'Cruise Ship', 'Kosovo'])]"
   ]
  },
  {
   "cell_type": "code",
   "execution_count": 15,
   "id": "fantastic-effect",
   "metadata": {
    "execution": {
     "iopub.execute_input": "2021-02-27T12:07:23.747459Z",
     "iopub.status.busy": "2021-02-27T12:07:23.740760Z",
     "iopub.status.idle": "2021-02-27T12:07:23.766829Z",
     "shell.execute_reply": "2021-02-27T12:07:23.767499Z"
    },
    "papermill": {
     "duration": 0.06967,
     "end_time": "2021-02-27T12:07:23.767700",
     "exception": false,
     "start_time": "2021-02-27T12:07:23.698030",
     "status": "completed"
    },
    "tags": []
   },
   "outputs": [
    {
     "data": {
      "text/html": [
       "<div>\n",
       "<style scoped>\n",
       "    .dataframe tbody tr th:only-of-type {\n",
       "        vertical-align: middle;\n",
       "    }\n",
       "\n",
       "    .dataframe tbody tr th {\n",
       "        vertical-align: top;\n",
       "    }\n",
       "\n",
       "    .dataframe thead th {\n",
       "        text-align: right;\n",
       "    }\n",
       "</style>\n",
       "<table border=\"1\" class=\"dataframe\">\n",
       "  <thead>\n",
       "    <tr style=\"text-align: right;\">\n",
       "      <th></th>\n",
       "      <th>Country/Region</th>\n",
       "      <th>Cases</th>\n",
       "      <th>Deaths</th>\n",
       "      <th>PCases</th>\n",
       "      <th>PDeaths</th>\n",
       "      <th>Cases (+)</th>\n",
       "      <th>Deaths (+)</th>\n",
       "      <th>Fatality Rate</th>\n",
       "      <th>Continent</th>\n",
       "    </tr>\n",
       "  </thead>\n",
       "  <tbody>\n",
       "    <tr>\n",
       "      <th>0</th>\n",
       "      <td>US</td>\n",
       "      <td>28486394</td>\n",
       "      <td>510458</td>\n",
       "      <td>28413388</td>\n",
       "      <td>508307</td>\n",
       "      <td>73006</td>\n",
       "      <td>2151</td>\n",
       "      <td>1.8</td>\n",
       "      <td>North America</td>\n",
       "    </tr>\n",
       "    <tr>\n",
       "      <th>1</th>\n",
       "      <td>India</td>\n",
       "      <td>11079979</td>\n",
       "      <td>156938</td>\n",
       "      <td>11063491</td>\n",
       "      <td>156825</td>\n",
       "      <td>16488</td>\n",
       "      <td>113</td>\n",
       "      <td>1.4</td>\n",
       "      <td>Asia</td>\n",
       "    </tr>\n",
       "    <tr>\n",
       "      <th>2</th>\n",
       "      <td>Brazil</td>\n",
       "      <td>10455630</td>\n",
       "      <td>252835</td>\n",
       "      <td>10390461</td>\n",
       "      <td>251498</td>\n",
       "      <td>65169</td>\n",
       "      <td>1337</td>\n",
       "      <td>2.4</td>\n",
       "      <td>South America</td>\n",
       "    </tr>\n",
       "    <tr>\n",
       "      <th>3</th>\n",
       "      <td>Russia</td>\n",
       "      <td>4175757</td>\n",
       "      <td>83900</td>\n",
       "      <td>4164802</td>\n",
       "      <td>83481</td>\n",
       "      <td>10955</td>\n",
       "      <td>419</td>\n",
       "      <td>2.0</td>\n",
       "      <td>Europe</td>\n",
       "    </tr>\n",
       "    <tr>\n",
       "      <th>4</th>\n",
       "      <td>United Kingdom</td>\n",
       "      <td>4175315</td>\n",
       "      <td>122648</td>\n",
       "      <td>4166727</td>\n",
       "      <td>122303</td>\n",
       "      <td>8588</td>\n",
       "      <td>345</td>\n",
       "      <td>2.9</td>\n",
       "      <td>Europe</td>\n",
       "    </tr>\n",
       "  </tbody>\n",
       "</table>\n",
       "</div>"
      ],
      "text/plain": [
       "   Country/Region     Cases  Deaths    PCases  PDeaths  Cases (+)  Deaths (+)  \\\n",
       "0              US  28486394  510458  28413388   508307      73006        2151   \n",
       "1           India  11079979  156938  11063491   156825      16488         113   \n",
       "2          Brazil  10455630  252835  10390461   251498      65169        1337   \n",
       "3          Russia   4175757   83900   4164802    83481      10955         419   \n",
       "4  United Kingdom   4175315  122648   4166727   122303       8588         345   \n",
       "\n",
       "   Fatality Rate      Continent  \n",
       "0            1.8  North America  \n",
       "1            1.4           Asia  \n",
       "2            2.4  South America  \n",
       "3            2.0         Europe  \n",
       "4            2.9         Europe  "
      ]
     },
     "execution_count": 15,
     "metadata": {},
     "output_type": "execute_result"
    }
   ],
   "source": [
    "#hide\n",
    "df_table = (pd.DataFrame(dict(Cases=dfc_cases, Deaths=dfc_deaths, PCases=dfp_cases, PDeaths=dfp_deaths))\n",
    "             .sort_values(by=['Cases', 'Deaths'], ascending=[False, False])\n",
    "             .reset_index())\n",
    "df_table.rename(columns={'index': 'Country/Region'}, inplace=True)\n",
    "for c in 'Cases, Deaths'.split(', '):\n",
    "    df_table[f'{c} (+)'] = (df_table[c] - df_table[f'P{c}']).clip(0)  # DATA BUG\n",
    "df_table['Fatality Rate'] = (100 * df_table['Deaths'] / df_table['Cases']).round(1)\n",
    "df_table['Continent'] = df_table['Country/Region'].map(mapping['map.continent'])\n",
    "df_table.head(5)"
   ]
  },
  {
   "cell_type": "code",
   "execution_count": 16,
   "id": "fewer-occasion",
   "metadata": {
    "execution": {
     "iopub.execute_input": "2021-02-27T12:07:23.845414Z",
     "iopub.status.busy": "2021-02-27T12:07:23.844761Z",
     "iopub.status.idle": "2021-02-27T12:07:23.847363Z",
     "shell.execute_reply": "2021-02-27T12:07:23.846880Z"
    },
    "papermill": {
     "duration": 0.04379,
     "end_time": "2021-02-27T12:07:23.847493",
     "exception": false,
     "start_time": "2021-02-27T12:07:23.803703",
     "status": "completed"
    },
    "tags": []
   },
   "outputs": [],
   "source": [
    "#hide\n",
    "#delete problematic countries from table\n",
    "df_table = df_table[~df_table['Country/Region'].isin(['Cape Verde', 'Cruise Ship', 'Kosovo'])]"
   ]
  },
  {
   "cell_type": "code",
   "execution_count": 17,
   "id": "related-center",
   "metadata": {
    "execution": {
     "iopub.execute_input": "2021-02-27T12:07:23.929230Z",
     "iopub.status.busy": "2021-02-27T12:07:23.928551Z",
     "iopub.status.idle": "2021-02-27T12:07:23.944131Z",
     "shell.execute_reply": "2021-02-27T12:07:23.943626Z"
    },
    "papermill": {
     "duration": 0.062056,
     "end_time": "2021-02-27T12:07:23.944266",
     "exception": false,
     "start_time": "2021-02-27T12:07:23.882210",
     "status": "completed"
    },
    "tags": []
   },
   "outputs": [],
   "source": [
    "#hide\n",
    "metrics = [df_table.columns[index] for index in [1,2,5,6]]\n",
    "# s_china = df_table[df_table['Country/Region'].eq('China')][metrics].sum().add_prefix('China ')\n",
    "s_us = df_table[df_table['Country/Region'].eq('US')][metrics].sum().add_prefix('US ')\n",
    "s_eu = df_table[df_table['Continent'].eq('Europe')][metrics].sum().add_prefix('EU ')\n",
    "s_ind = df_table[df_table['Country/Region'].eq('India')][metrics].sum().add_prefix('India ')\n",
    "summary = {'updated': pd.to_datetime(dt_today), 'since': pd.to_datetime(dt_yday)}\n",
    "summary = {'updated': pd.to_datetime(dt_today), 'since': pd.to_datetime(dt_yday)}\n",
    "summary = {**summary, **df_table[metrics].sum(), **s_ind, **s_us, **s_eu}"
   ]
  },
  {
   "cell_type": "code",
   "execution_count": 18,
   "id": "engaging-syndrome",
   "metadata": {
    "execution": {
     "iopub.execute_input": "2021-02-27T12:07:24.019307Z",
     "iopub.status.busy": "2021-02-27T12:07:24.018704Z",
     "iopub.status.idle": "2021-02-27T12:07:24.030536Z",
     "shell.execute_reply": "2021-02-27T12:07:24.031025Z"
    },
    "papermill": {
     "duration": 0.052353,
     "end_time": "2021-02-27T12:07:24.031175",
     "exception": false,
     "start_time": "2021-02-27T12:07:23.978822",
     "status": "completed"
    },
    "tags": []
   },
   "outputs": [],
   "source": [
    "#hide\n",
    "dft_ct_new_cases = dft_cases.groupby(COL_REGION)[dt_cols].sum().diff(axis=1).fillna(0).astype(int)"
   ]
  },
  {
   "cell_type": "code",
   "execution_count": 19,
   "id": "neutral-assignment",
   "metadata": {
    "execution": {
     "iopub.execute_input": "2021-02-27T12:07:24.110658Z",
     "iopub.status.busy": "2021-02-27T12:07:24.110044Z",
     "iopub.status.idle": "2021-02-27T12:07:24.112414Z",
     "shell.execute_reply": "2021-02-27T12:07:24.113018Z"
    },
    "papermill": {
     "duration": 0.045868,
     "end_time": "2021-02-27T12:07:24.113168",
     "exception": false,
     "start_time": "2021-02-27T12:07:24.067300",
     "status": "completed"
    },
    "tags": []
   },
   "outputs": [],
   "source": [
    "#hide\n",
    "everydaycases = dft_ct_new_cases.cumsum(axis=1)"
   ]
  },
  {
   "cell_type": "code",
   "execution_count": 20,
   "id": "parliamentary-calgary",
   "metadata": {
    "execution": {
     "iopub.execute_input": "2021-02-27T12:07:24.186717Z",
     "iopub.status.busy": "2021-02-27T12:07:24.186104Z",
     "iopub.status.idle": "2021-02-27T12:07:25.955927Z",
     "shell.execute_reply": "2021-02-27T12:07:25.954582Z"
    },
    "papermill": {
     "duration": 1.808722,
     "end_time": "2021-02-27T12:07:25.956084",
     "exception": false,
     "start_time": "2021-02-27T12:07:24.147362",
     "status": "completed"
    },
    "tags": []
   },
   "outputs": [],
   "source": [
    "#hide\n",
    "import pandas as pd\n",
    "import matplotlib.pyplot as plt\n",
    "import matplotlib.ticker as ticker\n",
    "import matplotlib.animation as animation\n",
    "from IPython.display import HTML"
   ]
  },
  {
   "cell_type": "code",
   "execution_count": 21,
   "id": "lasting-extraction",
   "metadata": {
    "execution": {
     "iopub.execute_input": "2021-02-27T12:07:26.033242Z",
     "iopub.status.busy": "2021-02-27T12:07:26.032433Z",
     "iopub.status.idle": "2021-02-27T12:07:26.041173Z",
     "shell.execute_reply": "2021-02-27T12:07:26.040555Z"
    },
    "papermill": {
     "duration": 0.050369,
     "end_time": "2021-02-27T12:07:26.041314",
     "exception": false,
     "start_time": "2021-02-27T12:07:25.990945",
     "status": "completed"
    },
    "tags": []
   },
   "outputs": [],
   "source": [
    "#hide\n",
    "t = everydaycases.stack()"
   ]
  },
  {
   "cell_type": "code",
   "execution_count": 22,
   "id": "premier-sleeve",
   "metadata": {
    "execution": {
     "iopub.execute_input": "2021-02-27T12:07:26.122631Z",
     "iopub.status.busy": "2021-02-27T12:07:26.122016Z",
     "iopub.status.idle": "2021-02-27T12:07:26.130143Z",
     "shell.execute_reply": "2021-02-27T12:07:26.130616Z"
    },
    "papermill": {
     "duration": 0.053759,
     "end_time": "2021-02-27T12:07:26.130772",
     "exception": false,
     "start_time": "2021-02-27T12:07:26.077013",
     "status": "completed"
    },
    "tags": []
   },
   "outputs": [],
   "source": [
    "#hide\n",
    "g = t.reset_index(['Country/Region'])"
   ]
  },
  {
   "cell_type": "code",
   "execution_count": 23,
   "id": "distributed-pittsburgh",
   "metadata": {
    "execution": {
     "iopub.execute_input": "2021-02-27T12:07:26.206916Z",
     "iopub.status.busy": "2021-02-27T12:07:26.206306Z",
     "iopub.status.idle": "2021-02-27T12:07:26.208859Z",
     "shell.execute_reply": "2021-02-27T12:07:26.208374Z"
    },
    "papermill": {
     "duration": 0.042247,
     "end_time": "2021-02-27T12:07:26.209018",
     "exception": false,
     "start_time": "2021-02-27T12:07:26.166771",
     "status": "completed"
    },
    "tags": []
   },
   "outputs": [],
   "source": [
    "#hide\n",
    "g.index.name = 'date'"
   ]
  },
  {
   "cell_type": "code",
   "execution_count": 24,
   "id": "naked-donor",
   "metadata": {
    "execution": {
     "iopub.execute_input": "2021-02-27T12:07:26.284206Z",
     "iopub.status.busy": "2021-02-27T12:07:26.283602Z",
     "iopub.status.idle": "2021-02-27T12:07:26.285428Z",
     "shell.execute_reply": "2021-02-27T12:07:26.285912Z"
    },
    "papermill": {
     "duration": 0.042114,
     "end_time": "2021-02-27T12:07:26.286059",
     "exception": false,
     "start_time": "2021-02-27T12:07:26.243945",
     "status": "completed"
    },
    "tags": []
   },
   "outputs": [],
   "source": [
    "# #hide\n",
    "# g = g.reset_index(['date'])"
   ]
  },
  {
   "cell_type": "code",
   "execution_count": 25,
   "id": "incomplete-mustang",
   "metadata": {
    "execution": {
     "iopub.execute_input": "2021-02-27T12:07:26.769610Z",
     "iopub.status.busy": "2021-02-27T12:07:26.768985Z",
     "iopub.status.idle": "2021-02-27T12:07:26.770784Z",
     "shell.execute_reply": "2021-02-27T12:07:26.771240Z"
    },
    "papermill": {
     "duration": 0.044747,
     "end_time": "2021-02-27T12:07:26.771392",
     "exception": false,
     "start_time": "2021-02-27T12:07:26.726645",
     "status": "completed"
    },
    "tags": []
   },
   "outputs": [],
   "source": [
    "#hide\n",
    "# g.head()"
   ]
  },
  {
   "cell_type": "code",
   "execution_count": 26,
   "id": "specific-kruger",
   "metadata": {
    "execution": {
     "iopub.execute_input": "2021-02-27T12:07:26.852717Z",
     "iopub.status.busy": "2021-02-27T12:07:26.852078Z",
     "iopub.status.idle": "2021-02-27T12:07:26.853790Z",
     "shell.execute_reply": "2021-02-27T12:07:26.854319Z"
    },
    "papermill": {
     "duration": 0.042551,
     "end_time": "2021-02-27T12:07:26.854468",
     "exception": false,
     "start_time": "2021-02-27T12:07:26.811917",
     "status": "completed"
    },
    "tags": []
   },
   "outputs": [],
   "source": [
    "#hide\n",
    "# g.columns = ['date','country','cases']"
   ]
  },
  {
   "cell_type": "code",
   "execution_count": 27,
   "id": "tender-conversion",
   "metadata": {
    "execution": {
     "iopub.execute_input": "2021-02-27T12:07:26.935777Z",
     "iopub.status.busy": "2021-02-27T12:07:26.935147Z",
     "iopub.status.idle": "2021-02-27T12:07:26.937958Z",
     "shell.execute_reply": "2021-02-27T12:07:26.937444Z"
    },
    "papermill": {
     "duration": 0.046073,
     "end_time": "2021-02-27T12:07:26.938090",
     "exception": false,
     "start_time": "2021-02-27T12:07:26.892017",
     "status": "completed"
    },
    "tags": []
   },
   "outputs": [],
   "source": [
    "#hide\n",
    "# g['continent'] = g.country"
   ]
  },
  {
   "cell_type": "code",
   "execution_count": 28,
   "id": "substantial-wilderness",
   "metadata": {
    "execution": {
     "iopub.execute_input": "2021-02-27T12:07:27.019145Z",
     "iopub.status.busy": "2021-02-27T12:07:27.018538Z",
     "iopub.status.idle": "2021-02-27T12:07:27.021251Z",
     "shell.execute_reply": "2021-02-27T12:07:27.020706Z"
    },
    "papermill": {
     "duration": 0.048091,
     "end_time": "2021-02-27T12:07:27.021385",
     "exception": false,
     "start_time": "2021-02-27T12:07:26.973294",
     "status": "completed"
    },
    "tags": []
   },
   "outputs": [],
   "source": [
    "#hide\n",
    "# cols = list(g.columns.values)"
   ]
  },
  {
   "cell_type": "code",
   "execution_count": 29,
   "id": "solved-farming",
   "metadata": {
    "execution": {
     "iopub.execute_input": "2021-02-27T12:07:27.094435Z",
     "iopub.status.busy": "2021-02-27T12:07:27.093799Z",
     "iopub.status.idle": "2021-02-27T12:07:27.095608Z",
     "shell.execute_reply": "2021-02-27T12:07:27.096093Z"
    },
    "papermill": {
     "duration": 0.040366,
     "end_time": "2021-02-27T12:07:27.096242",
     "exception": false,
     "start_time": "2021-02-27T12:07:27.055876",
     "status": "completed"
    },
    "tags": []
   },
   "outputs": [],
   "source": [
    "#hide\n",
    "# cols.insert(0, cols.pop())"
   ]
  },
  {
   "cell_type": "code",
   "execution_count": 30,
   "id": "executed-adoption",
   "metadata": {
    "execution": {
     "iopub.execute_input": "2021-02-27T12:07:27.169428Z",
     "iopub.status.busy": "2021-02-27T12:07:27.168757Z",
     "iopub.status.idle": "2021-02-27T12:07:27.170894Z",
     "shell.execute_reply": "2021-02-27T12:07:27.171460Z"
    },
    "papermill": {
     "duration": 0.041138,
     "end_time": "2021-02-27T12:07:27.171607",
     "exception": false,
     "start_time": "2021-02-27T12:07:27.130469",
     "status": "completed"
    },
    "tags": []
   },
   "outputs": [],
   "source": [
    "#hide\n",
    "# g = g[cols]"
   ]
  },
  {
   "cell_type": "code",
   "execution_count": 31,
   "id": "subject-dublin",
   "metadata": {
    "execution": {
     "iopub.execute_input": "2021-02-27T12:07:27.245219Z",
     "iopub.status.busy": "2021-02-27T12:07:27.244523Z",
     "iopub.status.idle": "2021-02-27T12:07:27.245977Z",
     "shell.execute_reply": "2021-02-27T12:07:27.246544Z"
    },
    "papermill": {
     "duration": 0.040576,
     "end_time": "2021-02-27T12:07:27.246696",
     "exception": false,
     "start_time": "2021-02-27T12:07:27.206120",
     "status": "completed"
    },
    "tags": []
   },
   "outputs": [],
   "source": [
    "#hide\n",
    "# g['continent'] = g['continent'].map(mapping['map.continent'])"
   ]
  },
  {
   "cell_type": "code",
   "execution_count": 32,
   "id": "freelance-scout",
   "metadata": {
    "execution": {
     "iopub.execute_input": "2021-02-27T12:07:27.321439Z",
     "iopub.status.busy": "2021-02-27T12:07:27.320297Z",
     "iopub.status.idle": "2021-02-27T12:07:27.322541Z",
     "shell.execute_reply": "2021-02-27T12:07:27.323113Z"
    },
    "papermill": {
     "duration": 0.042114,
     "end_time": "2021-02-27T12:07:27.323264",
     "exception": false,
     "start_time": "2021-02-27T12:07:27.281150",
     "status": "completed"
    },
    "tags": []
   },
   "outputs": [],
   "source": [
    "#hide\n",
    "# g.head()"
   ]
  },
  {
   "cell_type": "code",
   "execution_count": 33,
   "id": "limited-engine",
   "metadata": {
    "execution": {
     "iopub.execute_input": "2021-02-27T12:07:27.397466Z",
     "iopub.status.busy": "2021-02-27T12:07:27.396087Z",
     "iopub.status.idle": "2021-02-27T12:07:27.398139Z",
     "shell.execute_reply": "2021-02-27T12:07:27.398610Z"
    },
    "papermill": {
     "duration": 0.040837,
     "end_time": "2021-02-27T12:07:27.398760",
     "exception": false,
     "start_time": "2021-02-27T12:07:27.357923",
     "status": "completed"
    },
    "tags": []
   },
   "outputs": [],
   "source": [
    "# hide\n",
    "# g['date'] = g['date'].astype('datetime64[ns]')"
   ]
  },
  {
   "cell_type": "code",
   "execution_count": 34,
   "id": "sophisticated-supervisor",
   "metadata": {
    "execution": {
     "iopub.execute_input": "2021-02-27T12:07:27.471850Z",
     "iopub.status.busy": "2021-02-27T12:07:27.471233Z",
     "iopub.status.idle": "2021-02-27T12:07:27.473458Z",
     "shell.execute_reply": "2021-02-27T12:07:27.473912Z"
    },
    "papermill": {
     "duration": 0.040854,
     "end_time": "2021-02-27T12:07:27.474062",
     "exception": false,
     "start_time": "2021-02-27T12:07:27.433208",
     "status": "completed"
    },
    "tags": []
   },
   "outputs": [],
   "source": [
    "#hide\n",
    "# g['date'] = g.date.dt.dayofyear"
   ]
  },
  {
   "cell_type": "code",
   "execution_count": 35,
   "id": "inside-dubai",
   "metadata": {
    "execution": {
     "iopub.execute_input": "2021-02-27T12:07:27.546740Z",
     "iopub.status.busy": "2021-02-27T12:07:27.546141Z",
     "iopub.status.idle": "2021-02-27T12:07:27.548421Z",
     "shell.execute_reply": "2021-02-27T12:07:27.547831Z"
    },
    "papermill": {
     "duration": 0.040067,
     "end_time": "2021-02-27T12:07:27.548547",
     "exception": false,
     "start_time": "2021-02-27T12:07:27.508480",
     "status": "completed"
    },
    "tags": []
   },
   "outputs": [],
   "source": [
    "#hide\n",
    "# g = g.rename(columns= {'continent':'group','country':'name','cases':'value'})"
   ]
  },
  {
   "cell_type": "code",
   "execution_count": 36,
   "id": "fleet-motorcycle",
   "metadata": {
    "execution": {
     "iopub.execute_input": "2021-02-27T12:07:27.622045Z",
     "iopub.status.busy": "2021-02-27T12:07:27.621432Z",
     "iopub.status.idle": "2021-02-27T12:07:27.623398Z",
     "shell.execute_reply": "2021-02-27T12:07:27.623879Z"
    },
    "papermill": {
     "duration": 0.041067,
     "end_time": "2021-02-27T12:07:27.624023",
     "exception": false,
     "start_time": "2021-02-27T12:07:27.582956",
     "status": "completed"
    },
    "tags": []
   },
   "outputs": [],
   "source": [
    "#hide\n",
    "# cols = ['name','group','day','value']"
   ]
  },
  {
   "cell_type": "code",
   "execution_count": 37,
   "id": "continued-sleeping",
   "metadata": {
    "execution": {
     "iopub.execute_input": "2021-02-27T12:07:27.696781Z",
     "iopub.status.busy": "2021-02-27T12:07:27.696177Z",
     "iopub.status.idle": "2021-02-27T12:07:27.698525Z",
     "shell.execute_reply": "2021-02-27T12:07:27.697935Z"
    },
    "papermill": {
     "duration": 0.04035,
     "end_time": "2021-02-27T12:07:27.698652",
     "exception": false,
     "start_time": "2021-02-27T12:07:27.658302",
     "status": "completed"
    },
    "tags": []
   },
   "outputs": [],
   "source": [
    "#hide\n",
    "# g.rename(columns= {'date':'day'},inplace = True)"
   ]
  },
  {
   "cell_type": "code",
   "execution_count": 38,
   "id": "major-fight",
   "metadata": {
    "execution": {
     "iopub.execute_input": "2021-02-27T12:07:27.770974Z",
     "iopub.status.busy": "2021-02-27T12:07:27.770377Z",
     "iopub.status.idle": "2021-02-27T12:07:27.772708Z",
     "shell.execute_reply": "2021-02-27T12:07:27.772187Z"
    },
    "papermill": {
     "duration": 0.040139,
     "end_time": "2021-02-27T12:07:27.772833",
     "exception": false,
     "start_time": "2021-02-27T12:07:27.732694",
     "status": "completed"
    },
    "tags": []
   },
   "outputs": [],
   "source": [
    "#hide\n",
    "# g = g[cols]"
   ]
  },
  {
   "cell_type": "code",
   "execution_count": 39,
   "id": "structured-mobile",
   "metadata": {
    "execution": {
     "iopub.execute_input": "2021-02-27T12:07:27.846915Z",
     "iopub.status.busy": "2021-02-27T12:07:27.846309Z",
     "iopub.status.idle": "2021-02-27T12:07:27.848693Z",
     "shell.execute_reply": "2021-02-27T12:07:27.849237Z"
    },
    "papermill": {
     "duration": 0.041933,
     "end_time": "2021-02-27T12:07:27.849384",
     "exception": false,
     "start_time": "2021-02-27T12:07:27.807451",
     "status": "completed"
    },
    "tags": []
   },
   "outputs": [],
   "source": [
    "# #hide\n",
    "# g = g[g.group.notna()]"
   ]
  },
  {
   "cell_type": "code",
   "execution_count": 40,
   "id": "determined-closing",
   "metadata": {
    "execution": {
     "iopub.execute_input": "2021-02-27T12:07:27.921673Z",
     "iopub.status.busy": "2021-02-27T12:07:27.921051Z",
     "iopub.status.idle": "2021-02-27T12:07:27.923278Z",
     "shell.execute_reply": "2021-02-27T12:07:27.922768Z"
    },
    "papermill": {
     "duration": 0.04013,
     "end_time": "2021-02-27T12:07:27.923401",
     "exception": false,
     "start_time": "2021-02-27T12:07:27.883271",
     "status": "completed"
    },
    "tags": []
   },
   "outputs": [],
   "source": [
    "# #hide\n",
    "# colors = dict(zip(\n",
    "#     [\"Oceania\", \"Europe\", \"Asia\", \"South America\", \"Middle East\", \"North America\", \"Africa\"],\n",
    "#     [\"#adb0ff\", \"#ffb3ff\", \"#90d595\", \"#e48381\", \"#aafbff\", \"#f7bb5f\", \"#eafb50\"]\n",
    "# ))\n",
    "# group_lk = g.set_index('name')['group'].to_dict()"
   ]
  },
  {
   "cell_type": "code",
   "execution_count": null,
   "id": "gross-drinking",
   "metadata": {
    "papermill": {
     "duration": 0.033982,
     "end_time": "2021-02-27T12:07:27.991507",
     "exception": false,
     "start_time": "2021-02-27T12:07:27.957525",
     "status": "completed"
    },
    "tags": []
   },
   "outputs": [],
   "source": []
  },
  {
   "cell_type": "code",
   "execution_count": 41,
   "id": "subject-macintosh",
   "metadata": {
    "execution": {
     "iopub.execute_input": "2021-02-27T12:07:28.064938Z",
     "iopub.status.busy": "2021-02-27T12:07:28.064278Z",
     "iopub.status.idle": "2021-02-27T12:07:28.066187Z",
     "shell.execute_reply": "2021-02-27T12:07:28.066644Z"
    },
    "papermill": {
     "duration": 0.041064,
     "end_time": "2021-02-27T12:07:28.066795",
     "exception": false,
     "start_time": "2021-02-27T12:07:28.025731",
     "status": "completed"
    },
    "tags": []
   },
   "outputs": [],
   "source": [
    "# #hide\n",
    "# fig, ax = plt.subplots(figsize=(15, 8))\n",
    "\n",
    "# def draw_barchart(current_day):\n",
    "#     dff = g[g['day'].eq(current_day)].sort_values(by='value', ascending=True).tail(10)\n",
    "#     ax.clear()\n",
    "#     ax.barh(dff['name'], dff['value'], color=[colors[group_lk[x]] for x in dff['name']])\n",
    "#     dx = dff['value'].max() / 200\n",
    "    \n",
    "#     for i, (value, name) in enumerate(zip(dff['value'], dff['name'])):\n",
    "#         ax.text(value-dx, i,     name,           size=14, weight=600, ha='right', va='bottom')\n",
    "#         ax.text(value-dx, i-.25, group_lk[name], size=10, color='#444444', ha='right', va='baseline')\n",
    "#         ax.text(value+dx, i,     f'{value:,.0f}',  size=14, ha='left',  va='center')\n",
    "#     ax.text(1, 0.4, current_day, transform=ax.transAxes, color='#777777', size=46, ha='right', weight=800)\n",
    "#     ax.text(0, 1.06, 'Population (thousands)', transform=ax.transAxes, size=12, color='#777777')\n",
    "#     ax.xaxis.set_major_formatter(ticker.StrMethodFormatter('{x:,.0f}'))\n",
    "#     ax.xaxis.set_ticks_position('top')\n",
    "#     ax.tick_params(axis='x', colors='#777777', labelsize=12)\n",
    "#     ax.set_yticks([])\n",
    "#     ax.margins(0, 0.01)\n",
    "#     ax.grid(which='major', axis='x', linestyle='-')\n",
    "#     ax.set_axisbelow(True)\n",
    "    \n",
    "#     ax.text(0, 1.15, 'Coronavirus',\n",
    "#             transform=ax.transAxes, size=24, weight=600, ha='left', va='top')\n",
    "# #     ax.text(1, 0, 'by @pratapvardhan; credit @jburnmurdoch', transform=ax.transAxes, color='#777777', ha='right',\n",
    "# #             bbox=dict(facecolor='white', alpha=0.8, edgecolor='white'))\n",
    "#     plt.box(False)"
   ]
  },
  {
   "cell_type": "code",
   "execution_count": 42,
   "id": "sexual-wages",
   "metadata": {
    "execution": {
     "iopub.execute_input": "2021-02-27T12:07:28.139874Z",
     "iopub.status.busy": "2021-02-27T12:07:28.139267Z",
     "iopub.status.idle": "2021-02-27T12:07:28.141707Z",
     "shell.execute_reply": "2021-02-27T12:07:28.141113Z"
    },
    "papermill": {
     "duration": 0.040651,
     "end_time": "2021-02-27T12:07:28.141835",
     "exception": false,
     "start_time": "2021-02-27T12:07:28.101184",
     "status": "completed"
    },
    "tags": []
   },
   "outputs": [],
   "source": [
    "# #hide_input\n",
    "# fig, ax = plt.subplots(figsize=(15, 8))\n",
    "# animator = animation.FuncAnimation(fig, draw_barchart, frames=range(g.day.values.min(), g.day.values.max()))\n",
    "# HTML(animator.to_jshtml())\n",
    "# # or use animator.to_html5_video() or animator.save() "
   ]
  },
  {
   "cell_type": "code",
   "execution_count": null,
   "id": "australian-container",
   "metadata": {
    "papermill": {
     "duration": 0.034093,
     "end_time": "2021-02-27T12:07:28.209947",
     "exception": false,
     "start_time": "2021-02-27T12:07:28.175854",
     "status": "completed"
    },
    "tags": []
   },
   "outputs": [],
   "source": []
  },
  {
   "cell_type": "code",
   "execution_count": null,
   "id": "mediterranean-pontiac",
   "metadata": {
    "papermill": {
     "duration": 0.034094,
     "end_time": "2021-02-27T12:07:28.278415",
     "exception": false,
     "start_time": "2021-02-27T12:07:28.244321",
     "status": "completed"
    },
    "tags": []
   },
   "outputs": [],
   "source": []
  },
  {
   "cell_type": "code",
   "execution_count": null,
   "id": "aging-legislature",
   "metadata": {
    "papermill": {
     "duration": 0.034157,
     "end_time": "2021-02-27T12:07:28.346771",
     "exception": false,
     "start_time": "2021-02-27T12:07:28.312614",
     "status": "completed"
    },
    "tags": []
   },
   "outputs": [],
   "source": []
  }
 ],
 "metadata": {
  "kernelspec": {
   "display_name": "Python 3",
   "language": "python",
   "name": "python3"
  },
  "language_info": {
   "codemirror_mode": {
    "name": "ipython",
    "version": 3
   },
   "file_extension": ".py",
   "mimetype": "text/x-python",
   "name": "python",
   "nbconvert_exporter": "python",
   "pygments_lexer": "ipython3",
   "version": "3.6.13"
  },
  "papermill": {
   "duration": 8.376682,
   "end_time": "2021-02-27T12:07:28.789814",
   "environment_variables": {},
   "exception": null,
   "input_path": "2020-03-21-covid19exp.ipynb",
   "output_path": "2020-03-21-covid19exp.ipynb",
   "parameters": {},
   "start_time": "2021-02-27T12:07:20.413132",
   "version": "2.0.0"
  }
 },
 "nbformat": 4,
 "nbformat_minor": 5
}