{
 "cells": [
  {
   "cell_type": "markdown",
   "metadata": {
    "papermill": {
     "duration": 0.033413,
     "end_time": "2020-12-17T12:07:55.065331",
     "exception": false,
     "start_time": "2020-12-17T12:07:55.031918",
     "status": "completed"
    },
    "tags": []
   },
   "source": [
    "# COVID-19 Case Race\n",
    "> A race chart to see rising cases around the world\n",
    "\n",
    "- author: Hargun Oberoi\n",
    "- image: images/covid-overview.png\n",
    "- hide: false\n",
    "- badges: false"
   ]
  },
  {
   "cell_type": "code",
   "execution_count": 1,
   "metadata": {
    "execution": {
     "iopub.execute_input": "2020-12-17T12:07:55.139027Z",
     "iopub.status.busy": "2020-12-17T12:07:55.138384Z",
     "iopub.status.idle": "2020-12-17T12:07:55.462397Z",
     "shell.execute_reply": "2020-12-17T12:07:55.461843Z"
    },
    "papermill": {
     "duration": 0.367974,
     "end_time": "2020-12-17T12:07:55.462551",
     "exception": false,
     "start_time": "2020-12-17T12:07:55.094577",
     "status": "completed"
    },
    "tags": []
   },
   "outputs": [],
   "source": [
    "#hide\n",
    "import numpy as np\n",
    "import pandas as pd\n",
    "from jinja2 import Template\n",
    "from IPython.display import HTML"
   ]
  },
  {
   "cell_type": "code",
   "execution_count": 2,
   "metadata": {
    "execution": {
     "iopub.execute_input": "2020-12-17T12:07:55.525764Z",
     "iopub.status.busy": "2020-12-17T12:07:55.525163Z",
     "iopub.status.idle": "2020-12-17T12:07:55.526943Z",
     "shell.execute_reply": "2020-12-17T12:07:55.527415Z"
    },
    "papermill": {
     "duration": 0.035907,
     "end_time": "2020-12-17T12:07:55.527556",
     "exception": false,
     "start_time": "2020-12-17T12:07:55.491649",
     "status": "completed"
    },
    "tags": []
   },
   "outputs": [],
   "source": [
    "#hide\n",
    "\n",
    "# FETCH\n",
    "base_url = 'https://raw.githubusercontent.com/pratapvardhan/notebooks/master/covid19/'\n",
    "paths = {\n",
    "    'mapping': base_url + 'mapping_countries.csv',\n",
    "    'overview': base_url + 'overview.tpl'\n",
    "}"
   ]
  },
  {
   "cell_type": "code",
   "execution_count": 3,
   "metadata": {
    "execution": {
     "iopub.execute_input": "2020-12-17T12:07:55.593614Z",
     "iopub.status.busy": "2020-12-17T12:07:55.592741Z",
     "iopub.status.idle": "2020-12-17T12:07:55.595960Z",
     "shell.execute_reply": "2020-12-17T12:07:55.596602Z"
    },
    "papermill": {
     "duration": 0.04074,
     "end_time": "2020-12-17T12:07:55.596786",
     "exception": false,
     "start_time": "2020-12-17T12:07:55.556046",
     "status": "completed"
    },
    "tags": []
   },
   "outputs": [
    {
     "data": {
      "text/plain": [
       "'https://raw.githubusercontent.com/pratapvardhan/notebooks/master/covid19/mapping_countries.csv'"
      ]
     },
     "execution_count": 3,
     "metadata": {},
     "output_type": "execute_result"
    }
   ],
   "source": [
    "#hide\n",
    "paths['mapping']"
   ]
  },
  {
   "cell_type": "code",
   "execution_count": 4,
   "metadata": {
    "execution": {
     "iopub.execute_input": "2020-12-17T12:07:55.668874Z",
     "iopub.status.busy": "2020-12-17T12:07:55.668060Z",
     "iopub.status.idle": "2020-12-17T12:07:55.670908Z",
     "shell.execute_reply": "2020-12-17T12:07:55.670185Z"
    },
    "papermill": {
     "duration": 0.043146,
     "end_time": "2020-12-17T12:07:55.671048",
     "exception": false,
     "start_time": "2020-12-17T12:07:55.627902",
     "status": "completed"
    },
    "tags": []
   },
   "outputs": [],
   "source": [
    "#hide\n",
    "def get_mappings(url):\n",
    "    df = pd.read_csv(url)\n",
    "    return {\n",
    "        'df': df,\n",
    "        'replace.country': dict(df.dropna(subset=['Name']).set_index('Country')['Name']),\n",
    "        'map.continent': dict(df.set_index('Name')['Continent'])\n",
    "    }"
   ]
  },
  {
   "cell_type": "code",
   "execution_count": 5,
   "metadata": {
    "execution": {
     "iopub.execute_input": "2020-12-17T12:07:55.738270Z",
     "iopub.status.busy": "2020-12-17T12:07:55.737727Z",
     "iopub.status.idle": "2020-12-17T12:07:55.791154Z",
     "shell.execute_reply": "2020-12-17T12:07:55.790431Z"
    },
    "papermill": {
     "duration": 0.088099,
     "end_time": "2020-12-17T12:07:55.791330",
     "exception": false,
     "start_time": "2020-12-17T12:07:55.703231",
     "status": "completed"
    },
    "tags": []
   },
   "outputs": [],
   "source": [
    "#hide\n",
    "mapping = get_mappings(paths['mapping'])"
   ]
  },
  {
   "cell_type": "code",
   "execution_count": 6,
   "metadata": {
    "execution": {
     "iopub.execute_input": "2020-12-17T12:07:55.856509Z",
     "iopub.status.busy": "2020-12-17T12:07:55.855893Z",
     "iopub.status.idle": "2020-12-17T12:07:55.857816Z",
     "shell.execute_reply": "2020-12-17T12:07:55.858256Z"
    },
    "papermill": {
     "duration": 0.035877,
     "end_time": "2020-12-17T12:07:55.858391",
     "exception": false,
     "start_time": "2020-12-17T12:07:55.822514",
     "status": "completed"
    },
    "tags": []
   },
   "outputs": [],
   "source": [
    "#hide\n",
    "def get_template(path):\n",
    "    from urllib.parse import urlparse\n",
    "    if bool(urlparse(path).netloc):\n",
    "        from urllib.request import urlopen\n",
    "        return urlopen(path).read().decode('utf8')\n",
    "    return open(path).read()"
   ]
  },
  {
   "cell_type": "code",
   "execution_count": 7,
   "metadata": {
    "execution": {
     "iopub.execute_input": "2020-12-17T12:07:55.921349Z",
     "iopub.status.busy": "2020-12-17T12:07:55.920701Z",
     "iopub.status.idle": "2020-12-17T12:07:55.922949Z",
     "shell.execute_reply": "2020-12-17T12:07:55.922532Z"
    },
    "papermill": {
     "duration": 0.035576,
     "end_time": "2020-12-17T12:07:55.923055",
     "exception": false,
     "start_time": "2020-12-17T12:07:55.887479",
     "status": "completed"
    },
    "tags": []
   },
   "outputs": [],
   "source": [
    "#hide\n",
    "def get_frame(name):\n",
    "    url = (\n",
    "        'https://raw.githubusercontent.com/CSSEGISandData/COVID-19/master/csse_covid_19_data/'\n",
    "        f'csse_covid_19_time_series/time_series_covid19_{name}_global.csv')\n",
    "    df = pd.read_csv(url)\n",
    "    # rename countries\n",
    "    df['Country/Region'] = df['Country/Region'].replace(mapping['replace.country'])\n",
    "    return df"
   ]
  },
  {
   "cell_type": "code",
   "execution_count": 8,
   "metadata": {
    "execution": {
     "iopub.execute_input": "2020-12-17T12:07:55.984111Z",
     "iopub.status.busy": "2020-12-17T12:07:55.983629Z",
     "iopub.status.idle": "2020-12-17T12:07:55.986486Z",
     "shell.execute_reply": "2020-12-17T12:07:55.987008Z"
    },
    "papermill": {
     "duration": 0.037977,
     "end_time": "2020-12-17T12:07:55.987140",
     "exception": false,
     "start_time": "2020-12-17T12:07:55.949163",
     "status": "completed"
    },
    "tags": []
   },
   "outputs": [],
   "source": [
    "#hide\n",
    "def get_dates(df):\n",
    "    dt_cols = df.columns[~df.columns.isin(['Province/State', 'Country/Region', 'Lat', 'Long'])]\n",
    "    LAST_DATE_I = -1\n",
    "    # sometimes last column may be empty, then go backwards\n",
    "    for i in range(-1, -len(dt_cols), -1):\n",
    "        if not df[dt_cols[i]].fillna(0).eq(0).all():\n",
    "            LAST_DATE_I = i\n",
    "            break\n",
    "    return LAST_DATE_I, dt_cols"
   ]
  },
  {
   "cell_type": "code",
   "execution_count": 9,
   "metadata": {
    "execution": {
     "iopub.execute_input": "2020-12-17T12:07:56.045176Z",
     "iopub.status.busy": "2020-12-17T12:07:56.044527Z",
     "iopub.status.idle": "2020-12-17T12:07:56.334763Z",
     "shell.execute_reply": "2020-12-17T12:07:56.335747Z"
    },
    "papermill": {
     "duration": 0.322038,
     "end_time": "2020-12-17T12:07:56.336086",
     "exception": false,
     "start_time": "2020-12-17T12:07:56.014048",
     "status": "completed"
    },
    "tags": []
   },
   "outputs": [],
   "source": [
    "#hide\n",
    "COL_REGION = 'Country/Region'\n",
    "# Confirmed, Recovered, Deaths\n",
    "df = get_frame('confirmed')\n",
    "# dft_: timeseries, dfc_: today country agg\n",
    "dft_cases = df\n",
    "dft_deaths = get_frame('deaths')\n",
    "dft_recovered = get_frame('recovered')\n",
    "LAST_DATE_I, dt_cols = get_dates(df)"
   ]
  },
  {
   "cell_type": "code",
   "execution_count": 10,
   "metadata": {
    "execution": {
     "iopub.execute_input": "2020-12-17T12:07:56.403215Z",
     "iopub.status.busy": "2020-12-17T12:07:56.402174Z",
     "iopub.status.idle": "2020-12-17T12:07:56.403937Z",
     "shell.execute_reply": "2020-12-17T12:07:56.404311Z"
    },
    "papermill": {
     "duration": 0.038271,
     "end_time": "2020-12-17T12:07:56.404434",
     "exception": false,
     "start_time": "2020-12-17T12:07:56.366163",
     "status": "completed"
    },
    "tags": []
   },
   "outputs": [],
   "source": [
    "#hide\n",
    "LAST_DATE_I, dt_cols = get_dates(df)\n",
    "dt_today =dt_cols[LAST_DATE_I]\n",
    "# dt_5day = dt_cols[LAST_DATE_I - 5]\n",
    "dt_yday = dt_cols[LAST_DATE_I - 1]"
   ]
  },
  {
   "cell_type": "code",
   "execution_count": 11,
   "metadata": {
    "execution": {
     "iopub.execute_input": "2020-12-17T12:07:56.466894Z",
     "iopub.status.busy": "2020-12-17T12:07:56.466274Z",
     "iopub.status.idle": "2020-12-17T12:07:56.473144Z",
     "shell.execute_reply": "2020-12-17T12:07:56.473685Z"
    },
    "papermill": {
     "duration": 0.04079,
     "end_time": "2020-12-17T12:07:56.473826",
     "exception": false,
     "start_time": "2020-12-17T12:07:56.433036",
     "status": "completed"
    },
    "tags": []
   },
   "outputs": [],
   "source": [
    "#hide\n",
    "dfc_cases = dft_cases.groupby(COL_REGION)[dt_today].sum()\n",
    "dfc_deaths = dft_deaths.groupby(COL_REGION)[dt_today].sum()\n",
    "# dfp_cases = dft_cases.groupby(COL_REGION)[dt_5day].sum()\n",
    "# dfp_deaths = dft_deaths.groupby(COL_REGION)[dt_5day].sum()\n",
    "dfp_cases = dft_cases.groupby(COL_REGION)[dt_yday].sum()\n",
    "dfp_deaths = dft_deaths.groupby(COL_REGION)[dt_yday].sum()"
   ]
  },
  {
   "cell_type": "code",
   "execution_count": 12,
   "metadata": {
    "execution": {
     "iopub.execute_input": "2020-12-17T12:07:56.548299Z",
     "iopub.status.busy": "2020-12-17T12:07:56.547707Z",
     "iopub.status.idle": "2020-12-17T12:07:56.552744Z",
     "shell.execute_reply": "2020-12-17T12:07:56.552266Z"
    },
    "papermill": {
     "duration": 0.050352,
     "end_time": "2020-12-17T12:07:56.552886",
     "exception": false,
     "start_time": "2020-12-17T12:07:56.502534",
     "status": "completed"
    },
    "tags": []
   },
   "outputs": [],
   "source": [
    "#hide\n",
    "df_table = (pd.DataFrame(dict(Cases = dfc_cases, Deaths = dfc_deaths, PCases = dfp_cases, PDeaths = dfp_deaths))\n",
    "            .sort_values(by = ['Cases','Deaths'], ascending = [False, False])\n",
    "            .reset_index())"
   ]
  },
  {
   "cell_type": "code",
   "execution_count": 13,
   "metadata": {
    "execution": {
     "iopub.execute_input": "2020-12-17T12:07:56.629343Z",
     "iopub.status.busy": "2020-12-17T12:07:56.628703Z",
     "iopub.status.idle": "2020-12-17T12:07:56.637293Z",
     "shell.execute_reply": "2020-12-17T12:07:56.637849Z"
    },
    "papermill": {
     "duration": 0.057651,
     "end_time": "2020-12-17T12:07:56.637996",
     "exception": false,
     "start_time": "2020-12-17T12:07:56.580345",
     "status": "completed"
    },
    "tags": []
   },
   "outputs": [
    {
     "data": {
      "text/html": [
       "<div>\n",
       "<style scoped>\n",
       "    .dataframe tbody tr th:only-of-type {\n",
       "        vertical-align: middle;\n",
       "    }\n",
       "\n",
       "    .dataframe tbody tr th {\n",
       "        vertical-align: top;\n",
       "    }\n",
       "\n",
       "    .dataframe thead th {\n",
       "        text-align: right;\n",
       "    }\n",
       "</style>\n",
       "<table border=\"1\" class=\"dataframe\">\n",
       "  <thead>\n",
       "    <tr style=\"text-align: right;\">\n",
       "      <th></th>\n",
       "      <th>Country/Region</th>\n",
       "      <th>Cases</th>\n",
       "      <th>Deaths</th>\n",
       "      <th>PCases</th>\n",
       "      <th>PDeaths</th>\n",
       "      <th>Cases (+)</th>\n",
       "      <th>Deaths (+)</th>\n",
       "      <th>Fatality Rate</th>\n",
       "      <th>Continent</th>\n",
       "    </tr>\n",
       "  </thead>\n",
       "  <tbody>\n",
       "    <tr>\n",
       "      <th>0</th>\n",
       "      <td>US</td>\n",
       "      <td>16964180</td>\n",
       "      <td>307429</td>\n",
       "      <td>16716777</td>\n",
       "      <td>303773</td>\n",
       "      <td>247403</td>\n",
       "      <td>3656</td>\n",
       "      <td>1.81</td>\n",
       "      <td>North America</td>\n",
       "    </tr>\n",
       "    <tr>\n",
       "      <th>1</th>\n",
       "      <td>India</td>\n",
       "      <td>9956557</td>\n",
       "      <td>144451</td>\n",
       "      <td>9932547</td>\n",
       "      <td>144096</td>\n",
       "      <td>24010</td>\n",
       "      <td>355</td>\n",
       "      <td>1.45</td>\n",
       "      <td>Asia</td>\n",
       "    </tr>\n",
       "    <tr>\n",
       "      <th>2</th>\n",
       "      <td>Brazil</td>\n",
       "      <td>7040608</td>\n",
       "      <td>183735</td>\n",
       "      <td>6970034</td>\n",
       "      <td>182799</td>\n",
       "      <td>70574</td>\n",
       "      <td>936</td>\n",
       "      <td>2.61</td>\n",
       "      <td>South America</td>\n",
       "    </tr>\n",
       "    <tr>\n",
       "      <th>3</th>\n",
       "      <td>Russia</td>\n",
       "      <td>2708940</td>\n",
       "      <td>47994</td>\n",
       "      <td>2682866</td>\n",
       "      <td>47410</td>\n",
       "      <td>26074</td>\n",
       "      <td>584</td>\n",
       "      <td>1.77</td>\n",
       "      <td>Europe</td>\n",
       "    </tr>\n",
       "    <tr>\n",
       "      <th>4</th>\n",
       "      <td>France</td>\n",
       "      <td>2465126</td>\n",
       "      <td>59472</td>\n",
       "      <td>2447406</td>\n",
       "      <td>59182</td>\n",
       "      <td>17720</td>\n",
       "      <td>290</td>\n",
       "      <td>2.41</td>\n",
       "      <td>Europe</td>\n",
       "    </tr>\n",
       "  </tbody>\n",
       "</table>\n",
       "</div>"
      ],
      "text/plain": [
       "  Country/Region     Cases  Deaths    PCases  PDeaths  Cases (+)  Deaths (+)  \\\n",
       "0             US  16964180  307429  16716777   303773     247403        3656   \n",
       "1          India   9956557  144451   9932547   144096      24010         355   \n",
       "2         Brazil   7040608  183735   6970034   182799      70574         936   \n",
       "3         Russia   2708940   47994   2682866    47410      26074         584   \n",
       "4         France   2465126   59472   2447406    59182      17720         290   \n",
       "\n",
       "   Fatality Rate      Continent  \n",
       "0           1.81  North America  \n",
       "1           1.45           Asia  \n",
       "2           2.61  South America  \n",
       "3           1.77         Europe  \n",
       "4           2.41         Europe  "
      ]
     },
     "execution_count": 13,
     "metadata": {},
     "output_type": "execute_result"
    }
   ],
   "source": [
    "#hide\n",
    "for c in 'Cases, Deaths'.split(', '):\n",
    "    df_table[f'{c} (+)'] = (df_table[c] - df_table[f'P{c}']).clip(0)\n",
    "    #Clip ça veut dire, les chiffres negatif sont interdit\n",
    "df_table['Fatality Rate'] = (100* df_table['Deaths']/ df_table['Cases']).round(2)\n",
    "df_table['Continent'] = df_table['Country/Region'].map(mapping['map.continent'])\n",
    "df_table.head(5)"
   ]
  },
  {
   "cell_type": "code",
   "execution_count": 14,
   "metadata": {
    "execution": {
     "iopub.execute_input": "2020-12-17T12:07:56.705343Z",
     "iopub.status.busy": "2020-12-17T12:07:56.704727Z",
     "iopub.status.idle": "2020-12-17T12:07:56.708640Z",
     "shell.execute_reply": "2020-12-17T12:07:56.709233Z"
    },
    "papermill": {
     "duration": 0.039749,
     "end_time": "2020-12-17T12:07:56.709377",
     "exception": false,
     "start_time": "2020-12-17T12:07:56.669628",
     "status": "completed"
    },
    "tags": []
   },
   "outputs": [],
   "source": [
    "#hide\n",
    "#delete problematic countries from table\n",
    "df_table = df_table[~df_table['Country/Region'].isin(['Cape Verde', 'Cruise Ship', 'Kosovo'])]"
   ]
  },
  {
   "cell_type": "code",
   "execution_count": 15,
   "metadata": {
    "execution": {
     "iopub.execute_input": "2020-12-17T12:07:56.776200Z",
     "iopub.status.busy": "2020-12-17T12:07:56.775619Z",
     "iopub.status.idle": "2020-12-17T12:07:56.792974Z",
     "shell.execute_reply": "2020-12-17T12:07:56.792445Z"
    },
    "papermill": {
     "duration": 0.055358,
     "end_time": "2020-12-17T12:07:56.793134",
     "exception": false,
     "start_time": "2020-12-17T12:07:56.737776",
     "status": "completed"
    },
    "tags": []
   },
   "outputs": [
    {
     "data": {
      "text/html": [
       "<div>\n",
       "<style scoped>\n",
       "    .dataframe tbody tr th:only-of-type {\n",
       "        vertical-align: middle;\n",
       "    }\n",
       "\n",
       "    .dataframe tbody tr th {\n",
       "        vertical-align: top;\n",
       "    }\n",
       "\n",
       "    .dataframe thead th {\n",
       "        text-align: right;\n",
       "    }\n",
       "</style>\n",
       "<table border=\"1\" class=\"dataframe\">\n",
       "  <thead>\n",
       "    <tr style=\"text-align: right;\">\n",
       "      <th></th>\n",
       "      <th>Country/Region</th>\n",
       "      <th>Cases</th>\n",
       "      <th>Deaths</th>\n",
       "      <th>PCases</th>\n",
       "      <th>PDeaths</th>\n",
       "      <th>Cases (+)</th>\n",
       "      <th>Deaths (+)</th>\n",
       "      <th>Fatality Rate</th>\n",
       "      <th>Continent</th>\n",
       "    </tr>\n",
       "  </thead>\n",
       "  <tbody>\n",
       "    <tr>\n",
       "      <th>0</th>\n",
       "      <td>US</td>\n",
       "      <td>16964180</td>\n",
       "      <td>307429</td>\n",
       "      <td>16716777</td>\n",
       "      <td>303773</td>\n",
       "      <td>247403</td>\n",
       "      <td>3656</td>\n",
       "      <td>1.8</td>\n",
       "      <td>North America</td>\n",
       "    </tr>\n",
       "    <tr>\n",
       "      <th>1</th>\n",
       "      <td>India</td>\n",
       "      <td>9956557</td>\n",
       "      <td>144451</td>\n",
       "      <td>9932547</td>\n",
       "      <td>144096</td>\n",
       "      <td>24010</td>\n",
       "      <td>355</td>\n",
       "      <td>1.5</td>\n",
       "      <td>Asia</td>\n",
       "    </tr>\n",
       "    <tr>\n",
       "      <th>2</th>\n",
       "      <td>Brazil</td>\n",
       "      <td>7040608</td>\n",
       "      <td>183735</td>\n",
       "      <td>6970034</td>\n",
       "      <td>182799</td>\n",
       "      <td>70574</td>\n",
       "      <td>936</td>\n",
       "      <td>2.6</td>\n",
       "      <td>South America</td>\n",
       "    </tr>\n",
       "    <tr>\n",
       "      <th>3</th>\n",
       "      <td>Russia</td>\n",
       "      <td>2708940</td>\n",
       "      <td>47994</td>\n",
       "      <td>2682866</td>\n",
       "      <td>47410</td>\n",
       "      <td>26074</td>\n",
       "      <td>584</td>\n",
       "      <td>1.8</td>\n",
       "      <td>Europe</td>\n",
       "    </tr>\n",
       "    <tr>\n",
       "      <th>4</th>\n",
       "      <td>France</td>\n",
       "      <td>2465126</td>\n",
       "      <td>59472</td>\n",
       "      <td>2447406</td>\n",
       "      <td>59182</td>\n",
       "      <td>17720</td>\n",
       "      <td>290</td>\n",
       "      <td>2.4</td>\n",
       "      <td>Europe</td>\n",
       "    </tr>\n",
       "  </tbody>\n",
       "</table>\n",
       "</div>"
      ],
      "text/plain": [
       "  Country/Region     Cases  Deaths    PCases  PDeaths  Cases (+)  Deaths (+)  \\\n",
       "0             US  16964180  307429  16716777   303773     247403        3656   \n",
       "1          India   9956557  144451   9932547   144096      24010         355   \n",
       "2         Brazil   7040608  183735   6970034   182799      70574         936   \n",
       "3         Russia   2708940   47994   2682866    47410      26074         584   \n",
       "4         France   2465126   59472   2447406    59182      17720         290   \n",
       "\n",
       "   Fatality Rate      Continent  \n",
       "0            1.8  North America  \n",
       "1            1.5           Asia  \n",
       "2            2.6  South America  \n",
       "3            1.8         Europe  \n",
       "4            2.4         Europe  "
      ]
     },
     "execution_count": 15,
     "metadata": {},
     "output_type": "execute_result"
    }
   ],
   "source": [
    "#hide\n",
    "df_table = (pd.DataFrame(dict(Cases=dfc_cases, Deaths=dfc_deaths, PCases=dfp_cases, PDeaths=dfp_deaths))\n",
    "             .sort_values(by=['Cases', 'Deaths'], ascending=[False, False])\n",
    "             .reset_index())\n",
    "df_table.rename(columns={'index': 'Country/Region'}, inplace=True)\n",
    "for c in 'Cases, Deaths'.split(', '):\n",
    "    df_table[f'{c} (+)'] = (df_table[c] - df_table[f'P{c}']).clip(0)  # DATA BUG\n",
    "df_table['Fatality Rate'] = (100 * df_table['Deaths'] / df_table['Cases']).round(1)\n",
    "df_table['Continent'] = df_table['Country/Region'].map(mapping['map.continent'])\n",
    "df_table.head(5)"
   ]
  },
  {
   "cell_type": "code",
   "execution_count": 16,
   "metadata": {
    "execution": {
     "iopub.execute_input": "2020-12-17T12:07:56.863325Z",
     "iopub.status.busy": "2020-12-17T12:07:56.862743Z",
     "iopub.status.idle": "2020-12-17T12:07:56.865260Z",
     "shell.execute_reply": "2020-12-17T12:07:56.865907Z"
    },
    "papermill": {
     "duration": 0.043741,
     "end_time": "2020-12-17T12:07:56.866028",
     "exception": false,
     "start_time": "2020-12-17T12:07:56.822287",
     "status": "completed"
    },
    "tags": []
   },
   "outputs": [],
   "source": [
    "#hide\n",
    "#delete problematic countries from table\n",
    "df_table = df_table[~df_table['Country/Region'].isin(['Cape Verde', 'Cruise Ship', 'Kosovo'])]"
   ]
  },
  {
   "cell_type": "code",
   "execution_count": 17,
   "metadata": {
    "execution": {
     "iopub.execute_input": "2020-12-17T12:07:56.938494Z",
     "iopub.status.busy": "2020-12-17T12:07:56.937962Z",
     "iopub.status.idle": "2020-12-17T12:07:56.940355Z",
     "shell.execute_reply": "2020-12-17T12:07:56.939826Z"
    },
    "papermill": {
     "duration": 0.046677,
     "end_time": "2020-12-17T12:07:56.940468",
     "exception": false,
     "start_time": "2020-12-17T12:07:56.893791",
     "status": "completed"
    },
    "tags": []
   },
   "outputs": [],
   "source": [
    "#hide\n",
    "metrics = [df_table.columns[index] for index in [1,2,5,6]]\n",
    "# s_china = df_table[df_table['Country/Region'].eq('China')][metrics].sum().add_prefix('China ')\n",
    "s_us = df_table[df_table['Country/Region'].eq('US')][metrics].sum().add_prefix('US ')\n",
    "s_eu = df_table[df_table['Continent'].eq('Europe')][metrics].sum().add_prefix('EU ')\n",
    "s_ind = df_table[df_table['Country/Region'].eq('India')][metrics].sum().add_prefix('India ')\n",
    "summary = {'updated': pd.to_datetime(dt_today), 'since': pd.to_datetime(dt_yday)}\n",
    "summary = {'updated': pd.to_datetime(dt_today), 'since': pd.to_datetime(dt_yday)}\n",
    "summary = {**summary, **df_table[metrics].sum(), **s_ind, **s_us, **s_eu}"
   ]
  },
  {
   "cell_type": "code",
   "execution_count": 18,
   "metadata": {
    "execution": {
     "iopub.execute_input": "2020-12-17T12:07:57.003917Z",
     "iopub.status.busy": "2020-12-17T12:07:57.003377Z",
     "iopub.status.idle": "2020-12-17T12:07:57.014091Z",
     "shell.execute_reply": "2020-12-17T12:07:57.014506Z"
    },
    "papermill": {
     "duration": 0.045513,
     "end_time": "2020-12-17T12:07:57.014623",
     "exception": false,
     "start_time": "2020-12-17T12:07:56.969110",
     "status": "completed"
    },
    "tags": []
   },
   "outputs": [],
   "source": [
    "#hide\n",
    "dft_ct_new_cases = dft_cases.groupby(COL_REGION)[dt_cols].sum().diff(axis=1).fillna(0).astype(int)"
   ]
  },
  {
   "cell_type": "code",
   "execution_count": 19,
   "metadata": {
    "execution": {
     "iopub.execute_input": "2020-12-17T12:07:57.075885Z",
     "iopub.status.busy": "2020-12-17T12:07:57.075302Z",
     "iopub.status.idle": "2020-12-17T12:07:57.077537Z",
     "shell.execute_reply": "2020-12-17T12:07:57.077072Z"
    },
    "papermill": {
     "duration": 0.034354,
     "end_time": "2020-12-17T12:07:57.077651",
     "exception": false,
     "start_time": "2020-12-17T12:07:57.043297",
     "status": "completed"
    },
    "tags": []
   },
   "outputs": [],
   "source": [
    "#hide\n",
    "everydaycases = dft_ct_new_cases.cumsum(axis=1)"
   ]
  },
  {
   "cell_type": "code",
   "execution_count": 20,
   "metadata": {
    "execution": {
     "iopub.execute_input": "2020-12-17T12:07:57.138318Z",
     "iopub.status.busy": "2020-12-17T12:07:57.137768Z",
     "iopub.status.idle": "2020-12-17T12:07:58.153827Z",
     "shell.execute_reply": "2020-12-17T12:07:58.152914Z"
    },
    "papermill": {
     "duration": 1.048779,
     "end_time": "2020-12-17T12:07:58.153962",
     "exception": false,
     "start_time": "2020-12-17T12:07:57.105183",
     "status": "completed"
    },
    "tags": []
   },
   "outputs": [],
   "source": [
    "#hide\n",
    "import pandas as pd\n",
    "import matplotlib.pyplot as plt\n",
    "import matplotlib.ticker as ticker\n",
    "import matplotlib.animation as animation\n",
    "from IPython.display import HTML"
   ]
  },
  {
   "cell_type": "code",
   "execution_count": 21,
   "metadata": {
    "execution": {
     "iopub.execute_input": "2020-12-17T12:07:58.218643Z",
     "iopub.status.busy": "2020-12-17T12:07:58.216912Z",
     "iopub.status.idle": "2020-12-17T12:07:58.222492Z",
     "shell.execute_reply": "2020-12-17T12:07:58.221559Z"
    },
    "papermill": {
     "duration": 0.04012,
     "end_time": "2020-12-17T12:07:58.222704",
     "exception": false,
     "start_time": "2020-12-17T12:07:58.182584",
     "status": "completed"
    },
    "tags": []
   },
   "outputs": [],
   "source": [
    "#hide\n",
    "t = everydaycases.stack()"
   ]
  },
  {
   "cell_type": "code",
   "execution_count": 22,
   "metadata": {
    "execution": {
     "iopub.execute_input": "2020-12-17T12:07:58.289193Z",
     "iopub.status.busy": "2020-12-17T12:07:58.288561Z",
     "iopub.status.idle": "2020-12-17T12:07:58.294826Z",
     "shell.execute_reply": "2020-12-17T12:07:58.295298Z"
    },
    "papermill": {
     "duration": 0.042209,
     "end_time": "2020-12-17T12:07:58.295444",
     "exception": false,
     "start_time": "2020-12-17T12:07:58.253235",
     "status": "completed"
    },
    "tags": []
   },
   "outputs": [],
   "source": [
    "#hide\n",
    "g = t.reset_index(['Country/Region'])"
   ]
  },
  {
   "cell_type": "code",
   "execution_count": 23,
   "metadata": {
    "execution": {
     "iopub.execute_input": "2020-12-17T12:07:58.357547Z",
     "iopub.status.busy": "2020-12-17T12:07:58.357089Z",
     "iopub.status.idle": "2020-12-17T12:07:58.359729Z",
     "shell.execute_reply": "2020-12-17T12:07:58.359263Z"
    },
    "papermill": {
     "duration": 0.034941,
     "end_time": "2020-12-17T12:07:58.359845",
     "exception": false,
     "start_time": "2020-12-17T12:07:58.324904",
     "status": "completed"
    },
    "tags": []
   },
   "outputs": [],
   "source": [
    "#hide\n",
    "g.index.name = 'date'"
   ]
  },
  {
   "cell_type": "code",
   "execution_count": 24,
   "metadata": {
    "execution": {
     "iopub.execute_input": "2020-12-17T12:07:58.423948Z",
     "iopub.status.busy": "2020-12-17T12:07:58.422903Z",
     "iopub.status.idle": "2020-12-17T12:07:58.425062Z",
     "shell.execute_reply": "2020-12-17T12:07:58.425889Z"
    },
    "papermill": {
     "duration": 0.03656,
     "end_time": "2020-12-17T12:07:58.426118",
     "exception": false,
     "start_time": "2020-12-17T12:07:58.389558",
     "status": "completed"
    },
    "tags": []
   },
   "outputs": [],
   "source": [
    "# #hide\n",
    "# g = g.reset_index(['date'])"
   ]
  },
  {
   "cell_type": "code",
   "execution_count": 25,
   "metadata": {
    "execution": {
     "iopub.execute_input": "2020-12-17T12:07:58.488217Z",
     "iopub.status.busy": "2020-12-17T12:07:58.487643Z",
     "iopub.status.idle": "2020-12-17T12:07:58.489789Z",
     "shell.execute_reply": "2020-12-17T12:07:58.489332Z"
    },
    "papermill": {
     "duration": 0.033917,
     "end_time": "2020-12-17T12:07:58.489903",
     "exception": false,
     "start_time": "2020-12-17T12:07:58.455986",
     "status": "completed"
    },
    "tags": []
   },
   "outputs": [],
   "source": [
    "#hide\n",
    "# g.head()"
   ]
  },
  {
   "cell_type": "code",
   "execution_count": 26,
   "metadata": {
    "execution": {
     "iopub.execute_input": "2020-12-17T12:07:58.549727Z",
     "iopub.status.busy": "2020-12-17T12:07:58.549139Z",
     "iopub.status.idle": "2020-12-17T12:07:58.551583Z",
     "shell.execute_reply": "2020-12-17T12:07:58.552026Z"
    },
    "papermill": {
     "duration": 0.034169,
     "end_time": "2020-12-17T12:07:58.552155",
     "exception": false,
     "start_time": "2020-12-17T12:07:58.517986",
     "status": "completed"
    },
    "tags": []
   },
   "outputs": [],
   "source": [
    "#hide\n",
    "# g.columns = ['date','country','cases']"
   ]
  },
  {
   "cell_type": "code",
   "execution_count": 27,
   "metadata": {
    "execution": {
     "iopub.execute_input": "2020-12-17T12:07:58.615277Z",
     "iopub.status.busy": "2020-12-17T12:07:58.614669Z",
     "iopub.status.idle": "2020-12-17T12:07:58.616992Z",
     "shell.execute_reply": "2020-12-17T12:07:58.616390Z"
    },
    "papermill": {
     "duration": 0.035572,
     "end_time": "2020-12-17T12:07:58.617122",
     "exception": false,
     "start_time": "2020-12-17T12:07:58.581550",
     "status": "completed"
    },
    "tags": []
   },
   "outputs": [],
   "source": [
    "#hide\n",
    "# g['continent'] = g.country"
   ]
  },
  {
   "cell_type": "code",
   "execution_count": 28,
   "metadata": {
    "execution": {
     "iopub.execute_input": "2020-12-17T12:07:58.682358Z",
     "iopub.status.busy": "2020-12-17T12:07:58.681610Z",
     "iopub.status.idle": "2020-12-17T12:07:58.683034Z",
     "shell.execute_reply": "2020-12-17T12:07:58.683703Z"
    },
    "papermill": {
     "duration": 0.036068,
     "end_time": "2020-12-17T12:07:58.683838",
     "exception": false,
     "start_time": "2020-12-17T12:07:58.647770",
     "status": "completed"
    },
    "tags": []
   },
   "outputs": [],
   "source": [
    "#hide\n",
    "# cols = list(g.columns.values)"
   ]
  },
  {
   "cell_type": "code",
   "execution_count": 29,
   "metadata": {
    "execution": {
     "iopub.execute_input": "2020-12-17T12:07:58.745981Z",
     "iopub.status.busy": "2020-12-17T12:07:58.745379Z",
     "iopub.status.idle": "2020-12-17T12:07:58.747948Z",
     "shell.execute_reply": "2020-12-17T12:07:58.748335Z"
    },
    "papermill": {
     "duration": 0.034672,
     "end_time": "2020-12-17T12:07:58.748464",
     "exception": false,
     "start_time": "2020-12-17T12:07:58.713792",
     "status": "completed"
    },
    "tags": []
   },
   "outputs": [],
   "source": [
    "#hide\n",
    "# cols.insert(0, cols.pop())"
   ]
  },
  {
   "cell_type": "code",
   "execution_count": 30,
   "metadata": {
    "execution": {
     "iopub.execute_input": "2020-12-17T12:07:58.806677Z",
     "iopub.status.busy": "2020-12-17T12:07:58.806143Z",
     "iopub.status.idle": "2020-12-17T12:07:58.808597Z",
     "shell.execute_reply": "2020-12-17T12:07:58.809099Z"
    },
    "papermill": {
     "duration": 0.033064,
     "end_time": "2020-12-17T12:07:58.809230",
     "exception": false,
     "start_time": "2020-12-17T12:07:58.776166",
     "status": "completed"
    },
    "tags": []
   },
   "outputs": [],
   "source": [
    "#hide\n",
    "# g = g[cols]"
   ]
  },
  {
   "cell_type": "code",
   "execution_count": 31,
   "metadata": {
    "execution": {
     "iopub.execute_input": "2020-12-17T12:07:58.869736Z",
     "iopub.status.busy": "2020-12-17T12:07:58.869036Z",
     "iopub.status.idle": "2020-12-17T12:07:58.870484Z",
     "shell.execute_reply": "2020-12-17T12:07:58.871123Z"
    },
    "papermill": {
     "duration": 0.033925,
     "end_time": "2020-12-17T12:07:58.871282",
     "exception": false,
     "start_time": "2020-12-17T12:07:58.837357",
     "status": "completed"
    },
    "tags": []
   },
   "outputs": [],
   "source": [
    "#hide\n",
    "# g['continent'] = g['continent'].map(mapping['map.continent'])"
   ]
  },
  {
   "cell_type": "code",
   "execution_count": 32,
   "metadata": {
    "execution": {
     "iopub.execute_input": "2020-12-17T12:07:58.935179Z",
     "iopub.status.busy": "2020-12-17T12:07:58.934160Z",
     "iopub.status.idle": "2020-12-17T12:07:58.936252Z",
     "shell.execute_reply": "2020-12-17T12:07:58.937117Z"
    },
    "papermill": {
     "duration": 0.035657,
     "end_time": "2020-12-17T12:07:58.937350",
     "exception": false,
     "start_time": "2020-12-17T12:07:58.901693",
     "status": "completed"
    },
    "tags": []
   },
   "outputs": [],
   "source": [
    "#hide\n",
    "# g.head()"
   ]
  },
  {
   "cell_type": "code",
   "execution_count": 33,
   "metadata": {
    "execution": {
     "iopub.execute_input": "2020-12-17T12:07:58.998358Z",
     "iopub.status.busy": "2020-12-17T12:07:58.997780Z",
     "iopub.status.idle": "2020-12-17T12:07:59.000534Z",
     "shell.execute_reply": "2020-12-17T12:07:59.000977Z"
    },
    "papermill": {
     "duration": 0.035932,
     "end_time": "2020-12-17T12:07:59.001113",
     "exception": false,
     "start_time": "2020-12-17T12:07:58.965181",
     "status": "completed"
    },
    "tags": []
   },
   "outputs": [],
   "source": [
    "# hide\n",
    "# g['date'] = g['date'].astype('datetime64[ns]')"
   ]
  },
  {
   "cell_type": "code",
   "execution_count": 34,
   "metadata": {
    "execution": {
     "iopub.execute_input": "2020-12-17T12:07:59.063053Z",
     "iopub.status.busy": "2020-12-17T12:07:59.062452Z",
     "iopub.status.idle": "2020-12-17T12:07:59.064419Z",
     "shell.execute_reply": "2020-12-17T12:07:59.064832Z"
    },
    "papermill": {
     "duration": 0.034749,
     "end_time": "2020-12-17T12:07:59.064991",
     "exception": false,
     "start_time": "2020-12-17T12:07:59.030242",
     "status": "completed"
    },
    "tags": []
   },
   "outputs": [],
   "source": [
    "#hide\n",
    "# g['date'] = g.date.dt.dayofyear"
   ]
  },
  {
   "cell_type": "code",
   "execution_count": 35,
   "metadata": {
    "execution": {
     "iopub.execute_input": "2020-12-17T12:07:59.127835Z",
     "iopub.status.busy": "2020-12-17T12:07:59.127294Z",
     "iopub.status.idle": "2020-12-17T12:07:59.130043Z",
     "shell.execute_reply": "2020-12-17T12:07:59.130499Z"
    },
    "papermill": {
     "duration": 0.036343,
     "end_time": "2020-12-17T12:07:59.130615",
     "exception": false,
     "start_time": "2020-12-17T12:07:59.094272",
     "status": "completed"
    },
    "tags": []
   },
   "outputs": [],
   "source": [
    "#hide\n",
    "# g = g.rename(columns= {'continent':'group','country':'name','cases':'value'})"
   ]
  },
  {
   "cell_type": "code",
   "execution_count": 36,
   "metadata": {
    "execution": {
     "iopub.execute_input": "2020-12-17T12:07:59.189713Z",
     "iopub.status.busy": "2020-12-17T12:07:59.189143Z",
     "iopub.status.idle": "2020-12-17T12:07:59.191602Z",
     "shell.execute_reply": "2020-12-17T12:07:59.191161Z"
    },
    "papermill": {
     "duration": 0.033893,
     "end_time": "2020-12-17T12:07:59.191723",
     "exception": false,
     "start_time": "2020-12-17T12:07:59.157830",
     "status": "completed"
    },
    "tags": []
   },
   "outputs": [],
   "source": [
    "#hide\n",
    "# cols = ['name','group','day','value']"
   ]
  },
  {
   "cell_type": "code",
   "execution_count": 37,
   "metadata": {
    "execution": {
     "iopub.execute_input": "2020-12-17T12:07:59.250683Z",
     "iopub.status.busy": "2020-12-17T12:07:59.250129Z",
     "iopub.status.idle": "2020-12-17T12:07:59.254034Z",
     "shell.execute_reply": "2020-12-17T12:07:59.254474Z"
    },
    "papermill": {
     "duration": 0.035283,
     "end_time": "2020-12-17T12:07:59.254602",
     "exception": false,
     "start_time": "2020-12-17T12:07:59.219319",
     "status": "completed"
    },
    "tags": []
   },
   "outputs": [],
   "source": [
    "#hide\n",
    "# g.rename(columns= {'date':'day'},inplace = True)"
   ]
  },
  {
   "cell_type": "code",
   "execution_count": 38,
   "metadata": {
    "execution": {
     "iopub.execute_input": "2020-12-17T12:07:59.313609Z",
     "iopub.status.busy": "2020-12-17T12:07:59.313057Z",
     "iopub.status.idle": "2020-12-17T12:07:59.315623Z",
     "shell.execute_reply": "2020-12-17T12:07:59.316089Z"
    },
    "papermill": {
     "duration": 0.034438,
     "end_time": "2020-12-17T12:07:59.316220",
     "exception": false,
     "start_time": "2020-12-17T12:07:59.281782",
     "status": "completed"
    },
    "tags": []
   },
   "outputs": [],
   "source": [
    "#hide\n",
    "# g = g[cols]"
   ]
  },
  {
   "cell_type": "code",
   "execution_count": 39,
   "metadata": {
    "execution": {
     "iopub.execute_input": "2020-12-17T12:07:59.373769Z",
     "iopub.status.busy": "2020-12-17T12:07:59.373185Z",
     "iopub.status.idle": "2020-12-17T12:07:59.375120Z",
     "shell.execute_reply": "2020-12-17T12:07:59.375621Z"
    },
    "papermill": {
     "duration": 0.03355,
     "end_time": "2020-12-17T12:07:59.375748",
     "exception": false,
     "start_time": "2020-12-17T12:07:59.342198",
     "status": "completed"
    },
    "tags": []
   },
   "outputs": [],
   "source": [
    "# #hide\n",
    "# g = g[g.group.notna()]"
   ]
  },
  {
   "cell_type": "code",
   "execution_count": 40,
   "metadata": {
    "execution": {
     "iopub.execute_input": "2020-12-17T12:07:59.435737Z",
     "iopub.status.busy": "2020-12-17T12:07:59.435171Z",
     "iopub.status.idle": "2020-12-17T12:07:59.437923Z",
     "shell.execute_reply": "2020-12-17T12:07:59.437451Z"
    },
    "papermill": {
     "duration": 0.034534,
     "end_time": "2020-12-17T12:07:59.438035",
     "exception": false,
     "start_time": "2020-12-17T12:07:59.403501",
     "status": "completed"
    },
    "tags": []
   },
   "outputs": [],
   "source": [
    "# #hide\n",
    "# colors = dict(zip(\n",
    "#     [\"Oceania\", \"Europe\", \"Asia\", \"South America\", \"Middle East\", \"North America\", \"Africa\"],\n",
    "#     [\"#adb0ff\", \"#ffb3ff\", \"#90d595\", \"#e48381\", \"#aafbff\", \"#f7bb5f\", \"#eafb50\"]\n",
    "# ))\n",
    "# group_lk = g.set_index('name')['group'].to_dict()"
   ]
  },
  {
   "cell_type": "code",
   "execution_count": null,
   "metadata": {
    "papermill": {
     "duration": 0.027823,
     "end_time": "2020-12-17T12:07:59.493350",
     "exception": false,
     "start_time": "2020-12-17T12:07:59.465527",
     "status": "completed"
    },
    "tags": []
   },
   "outputs": [],
   "source": []
  },
  {
   "cell_type": "code",
   "execution_count": 41,
   "metadata": {
    "execution": {
     "iopub.execute_input": "2020-12-17T12:07:59.554560Z",
     "iopub.status.busy": "2020-12-17T12:07:59.553928Z",
     "iopub.status.idle": "2020-12-17T12:07:59.556255Z",
     "shell.execute_reply": "2020-12-17T12:07:59.555741Z"
    },
    "papermill": {
     "duration": 0.034707,
     "end_time": "2020-12-17T12:07:59.556379",
     "exception": false,
     "start_time": "2020-12-17T12:07:59.521672",
     "status": "completed"
    },
    "tags": []
   },
   "outputs": [],
   "source": [
    "# #hide\n",
    "# fig, ax = plt.subplots(figsize=(15, 8))\n",
    "\n",
    "# def draw_barchart(current_day):\n",
    "#     dff = g[g['day'].eq(current_day)].sort_values(by='value', ascending=True).tail(10)\n",
    "#     ax.clear()\n",
    "#     ax.barh(dff['name'], dff['value'], color=[colors[group_lk[x]] for x in dff['name']])\n",
    "#     dx = dff['value'].max() / 200\n",
    "    \n",
    "#     for i, (value, name) in enumerate(zip(dff['value'], dff['name'])):\n",
    "#         ax.text(value-dx, i,     name,           size=14, weight=600, ha='right', va='bottom')\n",
    "#         ax.text(value-dx, i-.25, group_lk[name], size=10, color='#444444', ha='right', va='baseline')\n",
    "#         ax.text(value+dx, i,     f'{value:,.0f}',  size=14, ha='left',  va='center')\n",
    "#     ax.text(1, 0.4, current_day, transform=ax.transAxes, color='#777777', size=46, ha='right', weight=800)\n",
    "#     ax.text(0, 1.06, 'Population (thousands)', transform=ax.transAxes, size=12, color='#777777')\n",
    "#     ax.xaxis.set_major_formatter(ticker.StrMethodFormatter('{x:,.0f}'))\n",
    "#     ax.xaxis.set_ticks_position('top')\n",
    "#     ax.tick_params(axis='x', colors='#777777', labelsize=12)\n",
    "#     ax.set_yticks([])\n",
    "#     ax.margins(0, 0.01)\n",
    "#     ax.grid(which='major', axis='x', linestyle='-')\n",
    "#     ax.set_axisbelow(True)\n",
    "    \n",
    "#     ax.text(0, 1.15, 'Coronavirus',\n",
    "#             transform=ax.transAxes, size=24, weight=600, ha='left', va='top')\n",
    "# #     ax.text(1, 0, 'by @pratapvardhan; credit @jburnmurdoch', transform=ax.transAxes, color='#777777', ha='right',\n",
    "# #             bbox=dict(facecolor='white', alpha=0.8, edgecolor='white'))\n",
    "#     plt.box(False)"
   ]
  },
  {
   "cell_type": "code",
   "execution_count": 42,
   "metadata": {
    "execution": {
     "iopub.execute_input": "2020-12-17T12:07:59.618799Z",
     "iopub.status.busy": "2020-12-17T12:07:59.618324Z",
     "iopub.status.idle": "2020-12-17T12:07:59.620548Z",
     "shell.execute_reply": "2020-12-17T12:07:59.620056Z"
    },
    "papermill": {
     "duration": 0.034951,
     "end_time": "2020-12-17T12:07:59.620673",
     "exception": false,
     "start_time": "2020-12-17T12:07:59.585722",
     "status": "completed"
    },
    "tags": []
   },
   "outputs": [],
   "source": [
    "# #hide_input\n",
    "# fig, ax = plt.subplots(figsize=(15, 8))\n",
    "# animator = animation.FuncAnimation(fig, draw_barchart, frames=range(g.day.values.min(), g.day.values.max()))\n",
    "# HTML(animator.to_jshtml())\n",
    "# # or use animator.to_html5_video() or animator.save() "
   ]
  },
  {
   "cell_type": "code",
   "execution_count": null,
   "metadata": {
    "papermill": {
     "duration": 0.028391,
     "end_time": "2020-12-17T12:07:59.678060",
     "exception": false,
     "start_time": "2020-12-17T12:07:59.649669",
     "status": "completed"
    },
    "tags": []
   },
   "outputs": [],
   "source": []
  },
  {
   "cell_type": "code",
   "execution_count": null,
   "metadata": {
    "papermill": {
     "duration": 0.02795,
     "end_time": "2020-12-17T12:07:59.734184",
     "exception": false,
     "start_time": "2020-12-17T12:07:59.706234",
     "status": "completed"
    },
    "tags": []
   },
   "outputs": [],
   "source": []
  },
  {
   "cell_type": "code",
   "execution_count": null,
   "metadata": {
    "papermill": {
     "duration": 0.025276,
     "end_time": "2020-12-17T12:07:59.787947",
     "exception": false,
     "start_time": "2020-12-17T12:07:59.762671",
     "status": "completed"
    },
    "tags": []
   },
   "outputs": [],
   "source": []
  }
 ],
 "metadata": {
  "kernelspec": {
   "display_name": "Python 3",
   "language": "python",
   "name": "python3"
  },
  "language_info": {
   "codemirror_mode": {
    "name": "ipython",
    "version": 3
   },
   "file_extension": ".py",
   "mimetype": "text/x-python",
   "name": "python",
   "nbconvert_exporter": "python",
   "pygments_lexer": "ipython3",
   "version": "3.6.12"
  },
  "papermill": {
   "duration": 6.166787,
   "end_time": "2020-12-17T12:08:00.125985",
   "environment_variables": {},
   "exception": null,
   "input_path": "2020-03-21-covid19exp.ipynb",
   "output_path": "2020-03-21-covid19exp.ipynb",
   "parameters": {},
   "start_time": "2020-12-17T12:07:53.959198",
   "version": "2.0.0"
  }
 },
 "nbformat": 4,
 "nbformat_minor": 4
}