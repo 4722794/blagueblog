{
 "cells": [
  {
   "cell_type": "markdown",
   "metadata": {
    "papermill": {
     "duration": 0.036135,
     "end_time": "2020-12-17T00:13:45.668840",
     "exception": false,
     "start_time": "2020-12-17T00:13:45.632705",
     "status": "completed"
    },
    "tags": []
   },
   "source": [
    "# COVID-19 Case Race\n",
    "> A race chart to see rising cases around the world\n",
    "\n",
    "- author: Hargun Oberoi\n",
    "- image: images/covid-overview.png\n",
    "- hide: false\n",
    "- badges: false"
   ]
  },
  {
   "cell_type": "code",
   "execution_count": 1,
   "metadata": {
    "execution": {
     "iopub.execute_input": "2020-12-17T00:13:45.749048Z",
     "iopub.status.busy": "2020-12-17T00:13:45.748435Z",
     "iopub.status.idle": "2020-12-17T00:13:46.078846Z",
     "shell.execute_reply": "2020-12-17T00:13:46.079471Z"
    },
    "papermill": {
     "duration": 0.376045,
     "end_time": "2020-12-17T00:13:46.079729",
     "exception": false,
     "start_time": "2020-12-17T00:13:45.703684",
     "status": "completed"
    },
    "tags": []
   },
   "outputs": [],
   "source": [
    "#hide\n",
    "import numpy as np\n",
    "import pandas as pd\n",
    "from jinja2 import Template\n",
    "from IPython.display import HTML"
   ]
  },
  {
   "cell_type": "code",
   "execution_count": 2,
   "metadata": {
    "execution": {
     "iopub.execute_input": "2020-12-17T00:13:46.148324Z",
     "iopub.status.busy": "2020-12-17T00:13:46.147721Z",
     "iopub.status.idle": "2020-12-17T00:13:46.150546Z",
     "shell.execute_reply": "2020-12-17T00:13:46.149821Z"
    },
    "papermill": {
     "duration": 0.039376,
     "end_time": "2020-12-17T00:13:46.150671",
     "exception": false,
     "start_time": "2020-12-17T00:13:46.111295",
     "status": "completed"
    },
    "tags": []
   },
   "outputs": [],
   "source": [
    "#hide\n",
    "\n",
    "# FETCH\n",
    "base_url = 'https://raw.githubusercontent.com/pratapvardhan/notebooks/master/covid19/'\n",
    "paths = {\n",
    "    'mapping': base_url + 'mapping_countries.csv',\n",
    "    'overview': base_url + 'overview.tpl'\n",
    "}"
   ]
  },
  {
   "cell_type": "code",
   "execution_count": 3,
   "metadata": {
    "execution": {
     "iopub.execute_input": "2020-12-17T00:13:46.221438Z",
     "iopub.status.busy": "2020-12-17T00:13:46.220813Z",
     "iopub.status.idle": "2020-12-17T00:13:46.227805Z",
     "shell.execute_reply": "2020-12-17T00:13:46.227248Z"
    },
    "papermill": {
     "duration": 0.04557,
     "end_time": "2020-12-17T00:13:46.227974",
     "exception": false,
     "start_time": "2020-12-17T00:13:46.182404",
     "status": "completed"
    },
    "tags": []
   },
   "outputs": [
    {
     "data": {
      "text/plain": [
       "'https://raw.githubusercontent.com/pratapvardhan/notebooks/master/covid19/mapping_countries.csv'"
      ]
     },
     "execution_count": 3,
     "metadata": {},
     "output_type": "execute_result"
    }
   ],
   "source": [
    "#hide\n",
    "paths['mapping']"
   ]
  },
  {
   "cell_type": "code",
   "execution_count": 4,
   "metadata": {
    "execution": {
     "iopub.execute_input": "2020-12-17T00:13:46.300899Z",
     "iopub.status.busy": "2020-12-17T00:13:46.300010Z",
     "iopub.status.idle": "2020-12-17T00:13:46.302925Z",
     "shell.execute_reply": "2020-12-17T00:13:46.302285Z"
    },
    "papermill": {
     "duration": 0.040959,
     "end_time": "2020-12-17T00:13:46.303054",
     "exception": false,
     "start_time": "2020-12-17T00:13:46.262095",
     "status": "completed"
    },
    "tags": []
   },
   "outputs": [],
   "source": [
    "#hide\n",
    "def get_mappings(url):\n",
    "    df = pd.read_csv(url)\n",
    "    return {\n",
    "        'df': df,\n",
    "        'replace.country': dict(df.dropna(subset=['Name']).set_index('Country')['Name']),\n",
    "        'map.continent': dict(df.set_index('Name')['Continent'])\n",
    "    }"
   ]
  },
  {
   "cell_type": "code",
   "execution_count": 5,
   "metadata": {
    "execution": {
     "iopub.execute_input": "2020-12-17T00:13:46.366443Z",
     "iopub.status.busy": "2020-12-17T00:13:46.365826Z",
     "iopub.status.idle": "2020-12-17T00:13:46.407615Z",
     "shell.execute_reply": "2020-12-17T00:13:46.408303Z"
    },
    "papermill": {
     "duration": 0.073903,
     "end_time": "2020-12-17T00:13:46.408443",
     "exception": false,
     "start_time": "2020-12-17T00:13:46.334540",
     "status": "completed"
    },
    "tags": []
   },
   "outputs": [],
   "source": [
    "#hide\n",
    "mapping = get_mappings(paths['mapping'])"
   ]
  },
  {
   "cell_type": "code",
   "execution_count": 6,
   "metadata": {
    "execution": {
     "iopub.execute_input": "2020-12-17T00:13:46.470770Z",
     "iopub.status.busy": "2020-12-17T00:13:46.470128Z",
     "iopub.status.idle": "2020-12-17T00:13:46.471921Z",
     "shell.execute_reply": "2020-12-17T00:13:46.472347Z"
    },
    "papermill": {
     "duration": 0.035602,
     "end_time": "2020-12-17T00:13:46.472462",
     "exception": false,
     "start_time": "2020-12-17T00:13:46.436860",
     "status": "completed"
    },
    "tags": []
   },
   "outputs": [],
   "source": [
    "#hide\n",
    "def get_template(path):\n",
    "    from urllib.parse import urlparse\n",
    "    if bool(urlparse(path).netloc):\n",
    "        from urllib.request import urlopen\n",
    "        return urlopen(path).read().decode('utf8')\n",
    "    return open(path).read()"
   ]
  },
  {
   "cell_type": "code",
   "execution_count": 7,
   "metadata": {
    "execution": {
     "iopub.execute_input": "2020-12-17T00:13:46.529965Z",
     "iopub.status.busy": "2020-12-17T00:13:46.529403Z",
     "iopub.status.idle": "2020-12-17T00:13:46.531584Z",
     "shell.execute_reply": "2020-12-17T00:13:46.531976Z"
    },
    "papermill": {
     "duration": 0.03217,
     "end_time": "2020-12-17T00:13:46.532129",
     "exception": false,
     "start_time": "2020-12-17T00:13:46.499959",
     "status": "completed"
    },
    "tags": []
   },
   "outputs": [],
   "source": [
    "#hide\n",
    "def get_frame(name):\n",
    "    url = (\n",
    "        'https://raw.githubusercontent.com/CSSEGISandData/COVID-19/master/csse_covid_19_data/'\n",
    "        f'csse_covid_19_time_series/time_series_covid19_{name}_global.csv')\n",
    "    df = pd.read_csv(url)\n",
    "    # rename countries\n",
    "    df['Country/Region'] = df['Country/Region'].replace(mapping['replace.country'])\n",
    "    return df"
   ]
  },
  {
   "cell_type": "code",
   "execution_count": 8,
   "metadata": {
    "execution": {
     "iopub.execute_input": "2020-12-17T00:13:46.601724Z",
     "iopub.status.busy": "2020-12-17T00:13:46.601091Z",
     "iopub.status.idle": "2020-12-17T00:13:46.603272Z",
     "shell.execute_reply": "2020-12-17T00:13:46.602819Z"
    },
    "papermill": {
     "duration": 0.040495,
     "end_time": "2020-12-17T00:13:46.603375",
     "exception": false,
     "start_time": "2020-12-17T00:13:46.562880",
     "status": "completed"
    },
    "tags": []
   },
   "outputs": [],
   "source": [
    "#hide\n",
    "def get_dates(df):\n",
    "    dt_cols = df.columns[~df.columns.isin(['Province/State', 'Country/Region', 'Lat', 'Long'])]\n",
    "    LAST_DATE_I = -1\n",
    "    # sometimes last column may be empty, then go backwards\n",
    "    for i in range(-1, -len(dt_cols), -1):\n",
    "        if not df[dt_cols[i]].fillna(0).eq(0).all():\n",
    "            LAST_DATE_I = i\n",
    "            break\n",
    "    return LAST_DATE_I, dt_cols"
   ]
  },
  {
   "cell_type": "code",
   "execution_count": 9,
   "metadata": {
    "execution": {
     "iopub.execute_input": "2020-12-17T00:13:46.677923Z",
     "iopub.status.busy": "2020-12-17T00:13:46.677266Z",
     "iopub.status.idle": "2020-12-17T00:13:46.986808Z",
     "shell.execute_reply": "2020-12-17T00:13:46.986148Z"
    },
    "papermill": {
     "duration": 0.350023,
     "end_time": "2020-12-17T00:13:46.986951",
     "exception": false,
     "start_time": "2020-12-17T00:13:46.636928",
     "status": "completed"
    },
    "tags": []
   },
   "outputs": [],
   "source": [
    "#hide\n",
    "COL_REGION = 'Country/Region'\n",
    "# Confirmed, Recovered, Deaths\n",
    "df = get_frame('confirmed')\n",
    "# dft_: timeseries, dfc_: today country agg\n",
    "dft_cases = df\n",
    "dft_deaths = get_frame('deaths')\n",
    "dft_recovered = get_frame('recovered')\n",
    "LAST_DATE_I, dt_cols = get_dates(df)"
   ]
  },
  {
   "cell_type": "code",
   "execution_count": 10,
   "metadata": {
    "execution": {
     "iopub.execute_input": "2020-12-17T00:13:47.057534Z",
     "iopub.status.busy": "2020-12-17T00:13:47.056929Z",
     "iopub.status.idle": "2020-12-17T00:13:47.058867Z",
     "shell.execute_reply": "2020-12-17T00:13:47.059296Z"
    },
    "papermill": {
     "duration": 0.040314,
     "end_time": "2020-12-17T00:13:47.059427",
     "exception": false,
     "start_time": "2020-12-17T00:13:47.019113",
     "status": "completed"
    },
    "tags": []
   },
   "outputs": [],
   "source": [
    "#hide\n",
    "LAST_DATE_I, dt_cols = get_dates(df)\n",
    "dt_today =dt_cols[LAST_DATE_I]\n",
    "# dt_5day = dt_cols[LAST_DATE_I - 5]\n",
    "dt_yday = dt_cols[LAST_DATE_I - 1]"
   ]
  },
  {
   "cell_type": "code",
   "execution_count": 11,
   "metadata": {
    "execution": {
     "iopub.execute_input": "2020-12-17T00:13:47.128472Z",
     "iopub.status.busy": "2020-12-17T00:13:47.127815Z",
     "iopub.status.idle": "2020-12-17T00:13:47.138220Z",
     "shell.execute_reply": "2020-12-17T00:13:47.137554Z"
    },
    "papermill": {
     "duration": 0.048138,
     "end_time": "2020-12-17T00:13:47.138404",
     "exception": false,
     "start_time": "2020-12-17T00:13:47.090266",
     "status": "completed"
    },
    "tags": []
   },
   "outputs": [],
   "source": [
    "#hide\n",
    "dfc_cases = dft_cases.groupby(COL_REGION)[dt_today].sum()\n",
    "dfc_deaths = dft_deaths.groupby(COL_REGION)[dt_today].sum()\n",
    "# dfp_cases = dft_cases.groupby(COL_REGION)[dt_5day].sum()\n",
    "# dfp_deaths = dft_deaths.groupby(COL_REGION)[dt_5day].sum()\n",
    "dfp_cases = dft_cases.groupby(COL_REGION)[dt_yday].sum()\n",
    "dfp_deaths = dft_deaths.groupby(COL_REGION)[dt_yday].sum()"
   ]
  },
  {
   "cell_type": "code",
   "execution_count": 12,
   "metadata": {
    "execution": {
     "iopub.execute_input": "2020-12-17T00:13:47.214174Z",
     "iopub.status.busy": "2020-12-17T00:13:47.213546Z",
     "iopub.status.idle": "2020-12-17T00:13:47.219042Z",
     "shell.execute_reply": "2020-12-17T00:13:47.218515Z"
    },
    "papermill": {
     "duration": 0.045853,
     "end_time": "2020-12-17T00:13:47.219162",
     "exception": false,
     "start_time": "2020-12-17T00:13:47.173309",
     "status": "completed"
    },
    "tags": []
   },
   "outputs": [],
   "source": [
    "#hide\n",
    "df_table = (pd.DataFrame(dict(Cases = dfc_cases, Deaths = dfc_deaths, PCases = dfp_cases, PDeaths = dfp_deaths))\n",
    "            .sort_values(by = ['Cases','Deaths'], ascending = [False, False])\n",
    "            .reset_index())"
   ]
  },
  {
   "cell_type": "code",
   "execution_count": 13,
   "metadata": {
    "execution": {
     "iopub.execute_input": "2020-12-17T00:13:47.293888Z",
     "iopub.status.busy": "2020-12-17T00:13:47.290125Z",
     "iopub.status.idle": "2020-12-17T00:13:47.311540Z",
     "shell.execute_reply": "2020-12-17T00:13:47.312093Z"
    },
    "papermill": {
     "duration": 0.061449,
     "end_time": "2020-12-17T00:13:47.312231",
     "exception": false,
     "start_time": "2020-12-17T00:13:47.250782",
     "status": "completed"
    },
    "tags": []
   },
   "outputs": [
    {
     "data": {
      "text/html": [
       "<div>\n",
       "<style scoped>\n",
       "    .dataframe tbody tr th:only-of-type {\n",
       "        vertical-align: middle;\n",
       "    }\n",
       "\n",
       "    .dataframe tbody tr th {\n",
       "        vertical-align: top;\n",
       "    }\n",
       "\n",
       "    .dataframe thead th {\n",
       "        text-align: right;\n",
       "    }\n",
       "</style>\n",
       "<table border=\"1\" class=\"dataframe\">\n",
       "  <thead>\n",
       "    <tr style=\"text-align: right;\">\n",
       "      <th></th>\n",
       "      <th>Country/Region</th>\n",
       "      <th>Cases</th>\n",
       "      <th>Deaths</th>\n",
       "      <th>PCases</th>\n",
       "      <th>PDeaths</th>\n",
       "      <th>Cases (+)</th>\n",
       "      <th>Deaths (+)</th>\n",
       "      <th>Fatality Rate</th>\n",
       "      <th>Continent</th>\n",
       "    </tr>\n",
       "  </thead>\n",
       "  <tbody>\n",
       "    <tr>\n",
       "      <th>0</th>\n",
       "      <td>US</td>\n",
       "      <td>16716777</td>\n",
       "      <td>303773</td>\n",
       "      <td>16518420</td>\n",
       "      <td>300754</td>\n",
       "      <td>198357</td>\n",
       "      <td>3019</td>\n",
       "      <td>1.82</td>\n",
       "      <td>North America</td>\n",
       "    </tr>\n",
       "    <tr>\n",
       "      <th>1</th>\n",
       "      <td>India</td>\n",
       "      <td>9932547</td>\n",
       "      <td>144096</td>\n",
       "      <td>9906165</td>\n",
       "      <td>143709</td>\n",
       "      <td>26382</td>\n",
       "      <td>387</td>\n",
       "      <td>1.45</td>\n",
       "      <td>Asia</td>\n",
       "    </tr>\n",
       "    <tr>\n",
       "      <th>2</th>\n",
       "      <td>Brazil</td>\n",
       "      <td>6970034</td>\n",
       "      <td>182799</td>\n",
       "      <td>6927145</td>\n",
       "      <td>181835</td>\n",
       "      <td>42889</td>\n",
       "      <td>964</td>\n",
       "      <td>2.62</td>\n",
       "      <td>South America</td>\n",
       "    </tr>\n",
       "    <tr>\n",
       "      <th>3</th>\n",
       "      <td>Russia</td>\n",
       "      <td>2682866</td>\n",
       "      <td>47410</td>\n",
       "      <td>2656601</td>\n",
       "      <td>46846</td>\n",
       "      <td>26265</td>\n",
       "      <td>564</td>\n",
       "      <td>1.77</td>\n",
       "      <td>Europe</td>\n",
       "    </tr>\n",
       "    <tr>\n",
       "      <th>4</th>\n",
       "      <td>France</td>\n",
       "      <td>2447406</td>\n",
       "      <td>59182</td>\n",
       "      <td>2435751</td>\n",
       "      <td>58391</td>\n",
       "      <td>11655</td>\n",
       "      <td>791</td>\n",
       "      <td>2.42</td>\n",
       "      <td>Europe</td>\n",
       "    </tr>\n",
       "  </tbody>\n",
       "</table>\n",
       "</div>"
      ],
      "text/plain": [
       "  Country/Region     Cases  Deaths    PCases  PDeaths  Cases (+)  Deaths (+)  \\\n",
       "0             US  16716777  303773  16518420   300754     198357        3019   \n",
       "1          India   9932547  144096   9906165   143709      26382         387   \n",
       "2         Brazil   6970034  182799   6927145   181835      42889         964   \n",
       "3         Russia   2682866   47410   2656601    46846      26265         564   \n",
       "4         France   2447406   59182   2435751    58391      11655         791   \n",
       "\n",
       "   Fatality Rate      Continent  \n",
       "0           1.82  North America  \n",
       "1           1.45           Asia  \n",
       "2           2.62  South America  \n",
       "3           1.77         Europe  \n",
       "4           2.42         Europe  "
      ]
     },
     "execution_count": 13,
     "metadata": {},
     "output_type": "execute_result"
    }
   ],
   "source": [
    "#hide\n",
    "for c in 'Cases, Deaths'.split(', '):\n",
    "    df_table[f'{c} (+)'] = (df_table[c] - df_table[f'P{c}']).clip(0)\n",
    "    #Clip ça veut dire, les chiffres negatif sont interdit\n",
    "df_table['Fatality Rate'] = (100* df_table['Deaths']/ df_table['Cases']).round(2)\n",
    "df_table['Continent'] = df_table['Country/Region'].map(mapping['map.continent'])\n",
    "df_table.head(5)"
   ]
  },
  {
   "cell_type": "code",
   "execution_count": 14,
   "metadata": {
    "execution": {
     "iopub.execute_input": "2020-12-17T00:13:47.383469Z",
     "iopub.status.busy": "2020-12-17T00:13:47.382895Z",
     "iopub.status.idle": "2020-12-17T00:13:47.385040Z",
     "shell.execute_reply": "2020-12-17T00:13:47.385582Z"
    },
    "papermill": {
     "duration": 0.042105,
     "end_time": "2020-12-17T00:13:47.385748",
     "exception": false,
     "start_time": "2020-12-17T00:13:47.343643",
     "status": "completed"
    },
    "tags": []
   },
   "outputs": [],
   "source": [
    "#hide\n",
    "#delete problematic countries from table\n",
    "df_table = df_table[~df_table['Country/Region'].isin(['Cape Verde', 'Cruise Ship', 'Kosovo'])]"
   ]
  },
  {
   "cell_type": "code",
   "execution_count": 15,
   "metadata": {
    "execution": {
     "iopub.execute_input": "2020-12-17T00:13:47.458951Z",
     "iopub.status.busy": "2020-12-17T00:13:47.458200Z",
     "iopub.status.idle": "2020-12-17T00:13:47.479248Z",
     "shell.execute_reply": "2020-12-17T00:13:47.479725Z"
    },
    "papermill": {
     "duration": 0.06335,
     "end_time": "2020-12-17T00:13:47.479873",
     "exception": false,
     "start_time": "2020-12-17T00:13:47.416523",
     "status": "completed"
    },
    "tags": []
   },
   "outputs": [
    {
     "data": {
      "text/html": [
       "<div>\n",
       "<style scoped>\n",
       "    .dataframe tbody tr th:only-of-type {\n",
       "        vertical-align: middle;\n",
       "    }\n",
       "\n",
       "    .dataframe tbody tr th {\n",
       "        vertical-align: top;\n",
       "    }\n",
       "\n",
       "    .dataframe thead th {\n",
       "        text-align: right;\n",
       "    }\n",
       "</style>\n",
       "<table border=\"1\" class=\"dataframe\">\n",
       "  <thead>\n",
       "    <tr style=\"text-align: right;\">\n",
       "      <th></th>\n",
       "      <th>Country/Region</th>\n",
       "      <th>Cases</th>\n",
       "      <th>Deaths</th>\n",
       "      <th>PCases</th>\n",
       "      <th>PDeaths</th>\n",
       "      <th>Cases (+)</th>\n",
       "      <th>Deaths (+)</th>\n",
       "      <th>Fatality Rate</th>\n",
       "      <th>Continent</th>\n",
       "    </tr>\n",
       "  </thead>\n",
       "  <tbody>\n",
       "    <tr>\n",
       "      <th>0</th>\n",
       "      <td>US</td>\n",
       "      <td>16716777</td>\n",
       "      <td>303773</td>\n",
       "      <td>16518420</td>\n",
       "      <td>300754</td>\n",
       "      <td>198357</td>\n",
       "      <td>3019</td>\n",
       "      <td>1.8</td>\n",
       "      <td>North America</td>\n",
       "    </tr>\n",
       "    <tr>\n",
       "      <th>1</th>\n",
       "      <td>India</td>\n",
       "      <td>9932547</td>\n",
       "      <td>144096</td>\n",
       "      <td>9906165</td>\n",
       "      <td>143709</td>\n",
       "      <td>26382</td>\n",
       "      <td>387</td>\n",
       "      <td>1.5</td>\n",
       "      <td>Asia</td>\n",
       "    </tr>\n",
       "    <tr>\n",
       "      <th>2</th>\n",
       "      <td>Brazil</td>\n",
       "      <td>6970034</td>\n",
       "      <td>182799</td>\n",
       "      <td>6927145</td>\n",
       "      <td>181835</td>\n",
       "      <td>42889</td>\n",
       "      <td>964</td>\n",
       "      <td>2.6</td>\n",
       "      <td>South America</td>\n",
       "    </tr>\n",
       "    <tr>\n",
       "      <th>3</th>\n",
       "      <td>Russia</td>\n",
       "      <td>2682866</td>\n",
       "      <td>47410</td>\n",
       "      <td>2656601</td>\n",
       "      <td>46846</td>\n",
       "      <td>26265</td>\n",
       "      <td>564</td>\n",
       "      <td>1.8</td>\n",
       "      <td>Europe</td>\n",
       "    </tr>\n",
       "    <tr>\n",
       "      <th>4</th>\n",
       "      <td>France</td>\n",
       "      <td>2447406</td>\n",
       "      <td>59182</td>\n",
       "      <td>2435751</td>\n",
       "      <td>58391</td>\n",
       "      <td>11655</td>\n",
       "      <td>791</td>\n",
       "      <td>2.4</td>\n",
       "      <td>Europe</td>\n",
       "    </tr>\n",
       "  </tbody>\n",
       "</table>\n",
       "</div>"
      ],
      "text/plain": [
       "  Country/Region     Cases  Deaths    PCases  PDeaths  Cases (+)  Deaths (+)  \\\n",
       "0             US  16716777  303773  16518420   300754     198357        3019   \n",
       "1          India   9932547  144096   9906165   143709      26382         387   \n",
       "2         Brazil   6970034  182799   6927145   181835      42889         964   \n",
       "3         Russia   2682866   47410   2656601    46846      26265         564   \n",
       "4         France   2447406   59182   2435751    58391      11655         791   \n",
       "\n",
       "   Fatality Rate      Continent  \n",
       "0            1.8  North America  \n",
       "1            1.5           Asia  \n",
       "2            2.6  South America  \n",
       "3            1.8         Europe  \n",
       "4            2.4         Europe  "
      ]
     },
     "execution_count": 15,
     "metadata": {},
     "output_type": "execute_result"
    }
   ],
   "source": [
    "#hide\n",
    "df_table = (pd.DataFrame(dict(Cases=dfc_cases, Deaths=dfc_deaths, PCases=dfp_cases, PDeaths=dfp_deaths))\n",
    "             .sort_values(by=['Cases', 'Deaths'], ascending=[False, False])\n",
    "             .reset_index())\n",
    "df_table.rename(columns={'index': 'Country/Region'}, inplace=True)\n",
    "for c in 'Cases, Deaths'.split(', '):\n",
    "    df_table[f'{c} (+)'] = (df_table[c] - df_table[f'P{c}']).clip(0)  # DATA BUG\n",
    "df_table['Fatality Rate'] = (100 * df_table['Deaths'] / df_table['Cases']).round(1)\n",
    "df_table['Continent'] = df_table['Country/Region'].map(mapping['map.continent'])\n",
    "df_table.head(5)"
   ]
  },
  {
   "cell_type": "code",
   "execution_count": 16,
   "metadata": {
    "execution": {
     "iopub.execute_input": "2020-12-17T00:13:47.546956Z",
     "iopub.status.busy": "2020-12-17T00:13:47.546061Z",
     "iopub.status.idle": "2020-12-17T00:13:47.549553Z",
     "shell.execute_reply": "2020-12-17T00:13:47.550035Z"
    },
    "papermill": {
     "duration": 0.038775,
     "end_time": "2020-12-17T00:13:47.550165",
     "exception": false,
     "start_time": "2020-12-17T00:13:47.511390",
     "status": "completed"
    },
    "tags": []
   },
   "outputs": [],
   "source": [
    "#hide\n",
    "#delete problematic countries from table\n",
    "df_table = df_table[~df_table['Country/Region'].isin(['Cape Verde', 'Cruise Ship', 'Kosovo'])]"
   ]
  },
  {
   "cell_type": "code",
   "execution_count": 17,
   "metadata": {
    "execution": {
     "iopub.execute_input": "2020-12-17T00:13:47.617689Z",
     "iopub.status.busy": "2020-12-17T00:13:47.617119Z",
     "iopub.status.idle": "2020-12-17T00:13:47.631076Z",
     "shell.execute_reply": "2020-12-17T00:13:47.631660Z"
    },
    "papermill": {
     "duration": 0.052549,
     "end_time": "2020-12-17T00:13:47.631813",
     "exception": false,
     "start_time": "2020-12-17T00:13:47.579264",
     "status": "completed"
    },
    "tags": []
   },
   "outputs": [],
   "source": [
    "#hide\n",
    "metrics = [df_table.columns[index] for index in [1,2,5,6]]\n",
    "# s_china = df_table[df_table['Country/Region'].eq('China')][metrics].sum().add_prefix('China ')\n",
    "s_us = df_table[df_table['Country/Region'].eq('US')][metrics].sum().add_prefix('US ')\n",
    "s_eu = df_table[df_table['Continent'].eq('Europe')][metrics].sum().add_prefix('EU ')\n",
    "s_ind = df_table[df_table['Country/Region'].eq('India')][metrics].sum().add_prefix('India ')\n",
    "summary = {'updated': pd.to_datetime(dt_today), 'since': pd.to_datetime(dt_yday)}\n",
    "summary = {'updated': pd.to_datetime(dt_today), 'since': pd.to_datetime(dt_yday)}\n",
    "summary = {**summary, **df_table[metrics].sum(), **s_ind, **s_us, **s_eu}"
   ]
  },
  {
   "cell_type": "code",
   "execution_count": 18,
   "metadata": {
    "execution": {
     "iopub.execute_input": "2020-12-17T00:13:47.710125Z",
     "iopub.status.busy": "2020-12-17T00:13:47.709475Z",
     "iopub.status.idle": "2020-12-17T00:13:47.717663Z",
     "shell.execute_reply": "2020-12-17T00:13:47.718193Z"
    },
    "papermill": {
     "duration": 0.050782,
     "end_time": "2020-12-17T00:13:47.718338",
     "exception": false,
     "start_time": "2020-12-17T00:13:47.667556",
     "status": "completed"
    },
    "tags": []
   },
   "outputs": [],
   "source": [
    "#hide\n",
    "dft_ct_new_cases = dft_cases.groupby(COL_REGION)[dt_cols].sum().diff(axis=1).fillna(0).astype(int)"
   ]
  },
  {
   "cell_type": "code",
   "execution_count": 19,
   "metadata": {
    "execution": {
     "iopub.execute_input": "2020-12-17T00:13:47.793742Z",
     "iopub.status.busy": "2020-12-17T00:13:47.793149Z",
     "iopub.status.idle": "2020-12-17T00:13:47.795056Z",
     "shell.execute_reply": "2020-12-17T00:13:47.795491Z"
    },
    "papermill": {
     "duration": 0.043805,
     "end_time": "2020-12-17T00:13:47.795627",
     "exception": false,
     "start_time": "2020-12-17T00:13:47.751822",
     "status": "completed"
    },
    "tags": []
   },
   "outputs": [],
   "source": [
    "#hide\n",
    "everydaycases = dft_ct_new_cases.cumsum(axis=1)"
   ]
  },
  {
   "cell_type": "code",
   "execution_count": 20,
   "metadata": {
    "execution": {
     "iopub.execute_input": "2020-12-17T00:13:47.869576Z",
     "iopub.status.busy": "2020-12-17T00:13:47.868812Z",
     "iopub.status.idle": "2020-12-17T00:13:48.840359Z",
     "shell.execute_reply": "2020-12-17T00:13:48.839907Z"
    },
    "papermill": {
     "duration": 1.009857,
     "end_time": "2020-12-17T00:13:48.840487",
     "exception": false,
     "start_time": "2020-12-17T00:13:47.830630",
     "status": "completed"
    },
    "tags": []
   },
   "outputs": [],
   "source": [
    "#hide\n",
    "import pandas as pd\n",
    "import matplotlib.pyplot as plt\n",
    "import matplotlib.ticker as ticker\n",
    "import matplotlib.animation as animation\n",
    "from IPython.display import HTML"
   ]
  },
  {
   "cell_type": "code",
   "execution_count": 21,
   "metadata": {
    "execution": {
     "iopub.execute_input": "2020-12-17T00:13:48.905455Z",
     "iopub.status.busy": "2020-12-17T00:13:48.904932Z",
     "iopub.status.idle": "2020-12-17T00:13:48.909738Z",
     "shell.execute_reply": "2020-12-17T00:13:48.909257Z"
    },
    "papermill": {
     "duration": 0.040941,
     "end_time": "2020-12-17T00:13:48.909850",
     "exception": false,
     "start_time": "2020-12-17T00:13:48.868909",
     "status": "completed"
    },
    "tags": []
   },
   "outputs": [],
   "source": [
    "#hide\n",
    "t = everydaycases.stack()"
   ]
  },
  {
   "cell_type": "code",
   "execution_count": 22,
   "metadata": {
    "execution": {
     "iopub.execute_input": "2020-12-17T00:13:48.970972Z",
     "iopub.status.busy": "2020-12-17T00:13:48.970418Z",
     "iopub.status.idle": "2020-12-17T00:13:48.976376Z",
     "shell.execute_reply": "2020-12-17T00:13:48.976923Z"
    },
    "papermill": {
     "duration": 0.039122,
     "end_time": "2020-12-17T00:13:48.977044",
     "exception": false,
     "start_time": "2020-12-17T00:13:48.937922",
     "status": "completed"
    },
    "tags": []
   },
   "outputs": [],
   "source": [
    "#hide\n",
    "g = t.reset_index(['Country/Region'])"
   ]
  },
  {
   "cell_type": "code",
   "execution_count": 23,
   "metadata": {
    "execution": {
     "iopub.execute_input": "2020-12-17T00:13:49.040540Z",
     "iopub.status.busy": "2020-12-17T00:13:49.040033Z",
     "iopub.status.idle": "2020-12-17T00:13:49.042230Z",
     "shell.execute_reply": "2020-12-17T00:13:49.041792Z"
    },
    "papermill": {
     "duration": 0.034577,
     "end_time": "2020-12-17T00:13:49.042335",
     "exception": false,
     "start_time": "2020-12-17T00:13:49.007758",
     "status": "completed"
    },
    "tags": []
   },
   "outputs": [],
   "source": [
    "#hide\n",
    "g.index.name = 'date'"
   ]
  },
  {
   "cell_type": "code",
   "execution_count": 24,
   "metadata": {
    "execution": {
     "iopub.execute_input": "2020-12-17T00:13:49.110040Z",
     "iopub.status.busy": "2020-12-17T00:13:49.109431Z",
     "iopub.status.idle": "2020-12-17T00:13:49.111979Z",
     "shell.execute_reply": "2020-12-17T00:13:49.111573Z"
    },
    "papermill": {
     "duration": 0.036957,
     "end_time": "2020-12-17T00:13:49.112086",
     "exception": false,
     "start_time": "2020-12-17T00:13:49.075129",
     "status": "completed"
    },
    "tags": []
   },
   "outputs": [],
   "source": [
    "# #hide\n",
    "# g = g.reset_index(['date'])"
   ]
  },
  {
   "cell_type": "code",
   "execution_count": 25,
   "metadata": {
    "execution": {
     "iopub.execute_input": "2020-12-17T00:13:49.184241Z",
     "iopub.status.busy": "2020-12-17T00:13:49.183593Z",
     "iopub.status.idle": "2020-12-17T00:13:49.185358Z",
     "shell.execute_reply": "2020-12-17T00:13:49.185876Z"
    },
    "papermill": {
     "duration": 0.040111,
     "end_time": "2020-12-17T00:13:49.186008",
     "exception": false,
     "start_time": "2020-12-17T00:13:49.145897",
     "status": "completed"
    },
    "tags": []
   },
   "outputs": [],
   "source": [
    "#hide\n",
    "# g.head()"
   ]
  },
  {
   "cell_type": "code",
   "execution_count": 26,
   "metadata": {
    "execution": {
     "iopub.execute_input": "2020-12-17T00:13:49.255326Z",
     "iopub.status.busy": "2020-12-17T00:13:49.254564Z",
     "iopub.status.idle": "2020-12-17T00:13:49.256608Z",
     "shell.execute_reply": "2020-12-17T00:13:49.257129Z"
    },
    "papermill": {
     "duration": 0.035347,
     "end_time": "2020-12-17T00:13:49.257294",
     "exception": false,
     "start_time": "2020-12-17T00:13:49.221947",
     "status": "completed"
    },
    "tags": []
   },
   "outputs": [],
   "source": [
    "#hide\n",
    "# g.columns = ['date','country','cases']"
   ]
  },
  {
   "cell_type": "code",
   "execution_count": 27,
   "metadata": {
    "execution": {
     "iopub.execute_input": "2020-12-17T00:13:49.335024Z",
     "iopub.status.busy": "2020-12-17T00:13:49.334410Z",
     "iopub.status.idle": "2020-12-17T00:13:49.336235Z",
     "shell.execute_reply": "2020-12-17T00:13:49.336722Z"
    },
    "papermill": {
     "duration": 0.042701,
     "end_time": "2020-12-17T00:13:49.336860",
     "exception": false,
     "start_time": "2020-12-17T00:13:49.294159",
     "status": "completed"
    },
    "tags": []
   },
   "outputs": [],
   "source": [
    "#hide\n",
    "# g['continent'] = g.country"
   ]
  },
  {
   "cell_type": "code",
   "execution_count": 28,
   "metadata": {
    "execution": {
     "iopub.execute_input": "2020-12-17T00:13:49.410545Z",
     "iopub.status.busy": "2020-12-17T00:13:49.409867Z",
     "iopub.status.idle": "2020-12-17T00:13:49.411947Z",
     "shell.execute_reply": "2020-12-17T00:13:49.412639Z"
    },
    "papermill": {
     "duration": 0.039366,
     "end_time": "2020-12-17T00:13:49.412813",
     "exception": false,
     "start_time": "2020-12-17T00:13:49.373447",
     "status": "completed"
    },
    "tags": []
   },
   "outputs": [],
   "source": [
    "#hide\n",
    "# cols = list(g.columns.values)"
   ]
  },
  {
   "cell_type": "code",
   "execution_count": 29,
   "metadata": {
    "execution": {
     "iopub.execute_input": "2020-12-17T00:13:49.481511Z",
     "iopub.status.busy": "2020-12-17T00:13:49.480760Z",
     "iopub.status.idle": "2020-12-17T00:13:49.482862Z",
     "shell.execute_reply": "2020-12-17T00:13:49.483359Z"
    },
    "papermill": {
     "duration": 0.038121,
     "end_time": "2020-12-17T00:13:49.483480",
     "exception": false,
     "start_time": "2020-12-17T00:13:49.445359",
     "status": "completed"
    },
    "tags": []
   },
   "outputs": [],
   "source": [
    "#hide\n",
    "# cols.insert(0, cols.pop())"
   ]
  },
  {
   "cell_type": "code",
   "execution_count": 30,
   "metadata": {
    "execution": {
     "iopub.execute_input": "2020-12-17T00:13:49.550026Z",
     "iopub.status.busy": "2020-12-17T00:13:49.549461Z",
     "iopub.status.idle": "2020-12-17T00:13:49.551742Z",
     "shell.execute_reply": "2020-12-17T00:13:49.551205Z"
    },
    "papermill": {
     "duration": 0.037886,
     "end_time": "2020-12-17T00:13:49.551882",
     "exception": false,
     "start_time": "2020-12-17T00:13:49.513996",
     "status": "completed"
    },
    "tags": []
   },
   "outputs": [],
   "source": [
    "#hide\n",
    "# g = g[cols]"
   ]
  },
  {
   "cell_type": "code",
   "execution_count": 31,
   "metadata": {
    "execution": {
     "iopub.execute_input": "2020-12-17T00:13:49.619957Z",
     "iopub.status.busy": "2020-12-17T00:13:49.619358Z",
     "iopub.status.idle": "2020-12-17T00:13:49.621572Z",
     "shell.execute_reply": "2020-12-17T00:13:49.621141Z"
    },
    "papermill": {
     "duration": 0.035977,
     "end_time": "2020-12-17T00:13:49.621696",
     "exception": false,
     "start_time": "2020-12-17T00:13:49.585719",
     "status": "completed"
    },
    "tags": []
   },
   "outputs": [],
   "source": [
    "#hide\n",
    "# g['continent'] = g['continent'].map(mapping['map.continent'])"
   ]
  },
  {
   "cell_type": "code",
   "execution_count": 32,
   "metadata": {
    "execution": {
     "iopub.execute_input": "2020-12-17T00:13:49.686475Z",
     "iopub.status.busy": "2020-12-17T00:13:49.685804Z",
     "iopub.status.idle": "2020-12-17T00:13:49.688054Z",
     "shell.execute_reply": "2020-12-17T00:13:49.687588Z"
    },
    "papermill": {
     "duration": 0.037974,
     "end_time": "2020-12-17T00:13:49.688160",
     "exception": false,
     "start_time": "2020-12-17T00:13:49.650186",
     "status": "completed"
    },
    "tags": []
   },
   "outputs": [],
   "source": [
    "#hide\n",
    "# g.head()"
   ]
  },
  {
   "cell_type": "code",
   "execution_count": 33,
   "metadata": {
    "execution": {
     "iopub.execute_input": "2020-12-17T00:13:49.754212Z",
     "iopub.status.busy": "2020-12-17T00:13:49.753700Z",
     "iopub.status.idle": "2020-12-17T00:13:49.756126Z",
     "shell.execute_reply": "2020-12-17T00:13:49.755569Z"
    },
    "papermill": {
     "duration": 0.03468,
     "end_time": "2020-12-17T00:13:49.756255",
     "exception": false,
     "start_time": "2020-12-17T00:13:49.721575",
     "status": "completed"
    },
    "tags": []
   },
   "outputs": [],
   "source": [
    "# hide\n",
    "# g['date'] = g['date'].astype('datetime64[ns]')"
   ]
  },
  {
   "cell_type": "code",
   "execution_count": 34,
   "metadata": {
    "execution": {
     "iopub.execute_input": "2020-12-17T00:13:49.823849Z",
     "iopub.status.busy": "2020-12-17T00:13:49.823314Z",
     "iopub.status.idle": "2020-12-17T00:13:49.825887Z",
     "shell.execute_reply": "2020-12-17T00:13:49.825379Z"
    },
    "papermill": {
     "duration": 0.038555,
     "end_time": "2020-12-17T00:13:49.825999",
     "exception": false,
     "start_time": "2020-12-17T00:13:49.787444",
     "status": "completed"
    },
    "tags": []
   },
   "outputs": [],
   "source": [
    "#hide\n",
    "# g['date'] = g.date.dt.dayofyear"
   ]
  },
  {
   "cell_type": "code",
   "execution_count": 35,
   "metadata": {
    "execution": {
     "iopub.execute_input": "2020-12-17T00:13:49.891104Z",
     "iopub.status.busy": "2020-12-17T00:13:49.890487Z",
     "iopub.status.idle": "2020-12-17T00:13:49.894394Z",
     "shell.execute_reply": "2020-12-17T00:13:49.893645Z"
    },
    "papermill": {
     "duration": 0.038223,
     "end_time": "2020-12-17T00:13:49.894587",
     "exception": false,
     "start_time": "2020-12-17T00:13:49.856364",
     "status": "completed"
    },
    "tags": []
   },
   "outputs": [],
   "source": [
    "#hide\n",
    "# g = g.rename(columns= {'continent':'group','country':'name','cases':'value'})"
   ]
  },
  {
   "cell_type": "code",
   "execution_count": 36,
   "metadata": {
    "execution": {
     "iopub.execute_input": "2020-12-17T00:13:49.966428Z",
     "iopub.status.busy": "2020-12-17T00:13:49.965834Z",
     "iopub.status.idle": "2020-12-17T00:13:49.968411Z",
     "shell.execute_reply": "2020-12-17T00:13:49.967874Z"
    },
    "papermill": {
     "duration": 0.039815,
     "end_time": "2020-12-17T00:13:49.968527",
     "exception": false,
     "start_time": "2020-12-17T00:13:49.928712",
     "status": "completed"
    },
    "tags": []
   },
   "outputs": [],
   "source": [
    "#hide\n",
    "# cols = ['name','group','day','value']"
   ]
  },
  {
   "cell_type": "code",
   "execution_count": 37,
   "metadata": {
    "execution": {
     "iopub.execute_input": "2020-12-17T00:13:50.040916Z",
     "iopub.status.busy": "2020-12-17T00:13:50.040260Z",
     "iopub.status.idle": "2020-12-17T00:13:50.042565Z",
     "shell.execute_reply": "2020-12-17T00:13:50.043023Z"
    },
    "papermill": {
     "duration": 0.039105,
     "end_time": "2020-12-17T00:13:50.043166",
     "exception": false,
     "start_time": "2020-12-17T00:13:50.004061",
     "status": "completed"
    },
    "tags": []
   },
   "outputs": [],
   "source": [
    "#hide\n",
    "# g.rename(columns= {'date':'day'},inplace = True)"
   ]
  },
  {
   "cell_type": "code",
   "execution_count": 38,
   "metadata": {
    "execution": {
     "iopub.execute_input": "2020-12-17T00:13:50.118938Z",
     "iopub.status.busy": "2020-12-17T00:13:50.118368Z",
     "iopub.status.idle": "2020-12-17T00:13:50.120695Z",
     "shell.execute_reply": "2020-12-17T00:13:50.120246Z"
    },
    "papermill": {
     "duration": 0.042067,
     "end_time": "2020-12-17T00:13:50.120832",
     "exception": false,
     "start_time": "2020-12-17T00:13:50.078765",
     "status": "completed"
    },
    "tags": []
   },
   "outputs": [],
   "source": [
    "#hide\n",
    "# g = g[cols]"
   ]
  },
  {
   "cell_type": "code",
   "execution_count": 39,
   "metadata": {
    "execution": {
     "iopub.execute_input": "2020-12-17T00:13:50.190320Z",
     "iopub.status.busy": "2020-12-17T00:13:50.189353Z",
     "iopub.status.idle": "2020-12-17T00:13:50.192067Z",
     "shell.execute_reply": "2020-12-17T00:13:50.191537Z"
    },
    "papermill": {
     "duration": 0.038967,
     "end_time": "2020-12-17T00:13:50.192182",
     "exception": false,
     "start_time": "2020-12-17T00:13:50.153215",
     "status": "completed"
    },
    "tags": []
   },
   "outputs": [],
   "source": [
    "# #hide\n",
    "# g = g[g.group.notna()]"
   ]
  },
  {
   "cell_type": "code",
   "execution_count": 40,
   "metadata": {
    "execution": {
     "iopub.execute_input": "2020-12-17T00:13:50.264005Z",
     "iopub.status.busy": "2020-12-17T00:13:50.263344Z",
     "iopub.status.idle": "2020-12-17T00:13:50.266021Z",
     "shell.execute_reply": "2020-12-17T00:13:50.265505Z"
    },
    "papermill": {
     "duration": 0.040893,
     "end_time": "2020-12-17T00:13:50.266152",
     "exception": false,
     "start_time": "2020-12-17T00:13:50.225259",
     "status": "completed"
    },
    "tags": []
   },
   "outputs": [],
   "source": [
    "# #hide\n",
    "# colors = dict(zip(\n",
    "#     [\"Oceania\", \"Europe\", \"Asia\", \"South America\", \"Middle East\", \"North America\", \"Africa\"],\n",
    "#     [\"#adb0ff\", \"#ffb3ff\", \"#90d595\", \"#e48381\", \"#aafbff\", \"#f7bb5f\", \"#eafb50\"]\n",
    "# ))\n",
    "# group_lk = g.set_index('name')['group'].to_dict()"
   ]
  },
  {
   "cell_type": "code",
   "execution_count": null,
   "metadata": {
    "papermill": {
     "duration": 0.031742,
     "end_time": "2020-12-17T00:13:50.332347",
     "exception": false,
     "start_time": "2020-12-17T00:13:50.300605",
     "status": "completed"
    },
    "tags": []
   },
   "outputs": [],
   "source": []
  },
  {
   "cell_type": "code",
   "execution_count": 41,
   "metadata": {
    "execution": {
     "iopub.execute_input": "2020-12-17T00:13:50.401111Z",
     "iopub.status.busy": "2020-12-17T00:13:50.400392Z",
     "iopub.status.idle": "2020-12-17T00:13:50.403249Z",
     "shell.execute_reply": "2020-12-17T00:13:50.402556Z"
    },
    "papermill": {
     "duration": 0.038186,
     "end_time": "2020-12-17T00:13:50.403360",
     "exception": false,
     "start_time": "2020-12-17T00:13:50.365174",
     "status": "completed"
    },
    "tags": []
   },
   "outputs": [],
   "source": [
    "# #hide\n",
    "# fig, ax = plt.subplots(figsize=(15, 8))\n",
    "\n",
    "# def draw_barchart(current_day):\n",
    "#     dff = g[g['day'].eq(current_day)].sort_values(by='value', ascending=True).tail(10)\n",
    "#     ax.clear()\n",
    "#     ax.barh(dff['name'], dff['value'], color=[colors[group_lk[x]] for x in dff['name']])\n",
    "#     dx = dff['value'].max() / 200\n",
    "    \n",
    "#     for i, (value, name) in enumerate(zip(dff['value'], dff['name'])):\n",
    "#         ax.text(value-dx, i,     name,           size=14, weight=600, ha='right', va='bottom')\n",
    "#         ax.text(value-dx, i-.25, group_lk[name], size=10, color='#444444', ha='right', va='baseline')\n",
    "#         ax.text(value+dx, i,     f'{value:,.0f}',  size=14, ha='left',  va='center')\n",
    "#     ax.text(1, 0.4, current_day, transform=ax.transAxes, color='#777777', size=46, ha='right', weight=800)\n",
    "#     ax.text(0, 1.06, 'Population (thousands)', transform=ax.transAxes, size=12, color='#777777')\n",
    "#     ax.xaxis.set_major_formatter(ticker.StrMethodFormatter('{x:,.0f}'))\n",
    "#     ax.xaxis.set_ticks_position('top')\n",
    "#     ax.tick_params(axis='x', colors='#777777', labelsize=12)\n",
    "#     ax.set_yticks([])\n",
    "#     ax.margins(0, 0.01)\n",
    "#     ax.grid(which='major', axis='x', linestyle='-')\n",
    "#     ax.set_axisbelow(True)\n",
    "    \n",
    "#     ax.text(0, 1.15, 'Coronavirus',\n",
    "#             transform=ax.transAxes, size=24, weight=600, ha='left', va='top')\n",
    "# #     ax.text(1, 0, 'by @pratapvardhan; credit @jburnmurdoch', transform=ax.transAxes, color='#777777', ha='right',\n",
    "# #             bbox=dict(facecolor='white', alpha=0.8, edgecolor='white'))\n",
    "#     plt.box(False)"
   ]
  },
  {
   "cell_type": "code",
   "execution_count": 42,
   "metadata": {
    "execution": {
     "iopub.execute_input": "2020-12-17T00:13:50.467897Z",
     "iopub.status.busy": "2020-12-17T00:13:50.467394Z",
     "iopub.status.idle": "2020-12-17T00:13:50.469389Z",
     "shell.execute_reply": "2020-12-17T00:13:50.470045Z"
    },
    "papermill": {
     "duration": 0.037049,
     "end_time": "2020-12-17T00:13:50.470183",
     "exception": false,
     "start_time": "2020-12-17T00:13:50.433134",
     "status": "completed"
    },
    "tags": []
   },
   "outputs": [],
   "source": [
    "# #hide_input\n",
    "# fig, ax = plt.subplots(figsize=(15, 8))\n",
    "# animator = animation.FuncAnimation(fig, draw_barchart, frames=range(g.day.values.min(), g.day.values.max()))\n",
    "# HTML(animator.to_jshtml())\n",
    "# # or use animator.to_html5_video() or animator.save() "
   ]
  },
  {
   "cell_type": "code",
   "execution_count": null,
   "metadata": {
    "papermill": {
     "duration": 0.032928,
     "end_time": "2020-12-17T00:13:50.533567",
     "exception": false,
     "start_time": "2020-12-17T00:13:50.500639",
     "status": "completed"
    },
    "tags": []
   },
   "outputs": [],
   "source": []
  },
  {
   "cell_type": "code",
   "execution_count": null,
   "metadata": {
    "papermill": {
     "duration": 0.031879,
     "end_time": "2020-12-17T00:13:50.598467",
     "exception": false,
     "start_time": "2020-12-17T00:13:50.566588",
     "status": "completed"
    },
    "tags": []
   },
   "outputs": [],
   "source": []
  },
  {
   "cell_type": "code",
   "execution_count": null,
   "metadata": {
    "papermill": {
     "duration": 0.030614,
     "end_time": "2020-12-17T00:13:50.663162",
     "exception": false,
     "start_time": "2020-12-17T00:13:50.632548",
     "status": "completed"
    },
    "tags": []
   },
   "outputs": [],
   "source": []
  }
 ],
 "metadata": {
  "kernelspec": {
   "display_name": "Python 3",
   "language": "python",
   "name": "python3"
  },
  "language_info": {
   "codemirror_mode": {
    "name": "ipython",
    "version": 3
   },
   "file_extension": ".py",
   "mimetype": "text/x-python",
   "name": "python",
   "nbconvert_exporter": "python",
   "pygments_lexer": "ipython3",
   "version": "3.6.12"
  },
  "papermill": {
   "duration": 7.34994,
   "end_time": "2020-12-17T00:13:51.889972",
   "environment_variables": {},
   "exception": null,
   "input_path": "2020-03-21-covid19exp.ipynb",
   "output_path": "2020-03-21-covid19exp.ipynb",
   "parameters": {},
   "start_time": "2020-12-17T00:13:44.540032",
   "version": "2.0.0"
  }
 },
 "nbformat": 4,
 "nbformat_minor": 4
}