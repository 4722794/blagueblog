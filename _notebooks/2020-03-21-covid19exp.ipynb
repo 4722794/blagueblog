{
 "cells": [
  {
   "cell_type": "markdown",
   "id": "muslim-click",
   "metadata": {
    "papermill": {
     "duration": 0.034176,
     "end_time": "2022-04-17T00:38:01.584922",
     "exception": false,
     "start_time": "2022-04-17T00:38:01.550746",
     "status": "completed"
    },
    "tags": []
   },
   "source": [
    "# COVID-19 Case Race\n",
    "> A race chart to see rising cases around the world\n",
    "\n",
    "- author: Hargun Oberoi\n",
    "- image: images/covid-overview.png\n",
    "- hide: false\n",
    "- badges: false"
   ]
  },
  {
   "cell_type": "code",
   "execution_count": 1,
   "id": "proof-material",
   "metadata": {
    "execution": {
     "iopub.execute_input": "2022-04-17T00:38:01.657297Z",
     "iopub.status.busy": "2022-04-17T00:38:01.656762Z",
     "iopub.status.idle": "2022-04-17T00:38:01.980684Z",
     "shell.execute_reply": "2022-04-17T00:38:01.981195Z"
    },
    "papermill": {
     "duration": 0.364677,
     "end_time": "2022-04-17T00:38:01.981388",
     "exception": false,
     "start_time": "2022-04-17T00:38:01.616711",
     "status": "completed"
    },
    "tags": []
   },
   "outputs": [],
   "source": [
    "#hide\n",
    "import numpy as np\n",
    "import pandas as pd\n",
    "from jinja2 import Template\n",
    "from IPython.display import HTML"
   ]
  },
  {
   "cell_type": "code",
   "execution_count": 2,
   "id": "developed-terminology",
   "metadata": {
    "execution": {
     "iopub.execute_input": "2022-04-17T00:38:02.047057Z",
     "iopub.status.busy": "2022-04-17T00:38:02.046429Z",
     "iopub.status.idle": "2022-04-17T00:38:02.047912Z",
     "shell.execute_reply": "2022-04-17T00:38:02.048407Z"
    },
    "papermill": {
     "duration": 0.037214,
     "end_time": "2022-04-17T00:38:02.048554",
     "exception": false,
     "start_time": "2022-04-17T00:38:02.011340",
     "status": "completed"
    },
    "tags": []
   },
   "outputs": [],
   "source": [
    "#hide\n",
    "\n",
    "# FETCH\n",
    "base_url = 'https://raw.githubusercontent.com/pratapvardhan/notebooks/master/covid19/'\n",
    "paths = {\n",
    "    'mapping': base_url + 'mapping_countries.csv',\n",
    "    'overview': base_url + 'overview.tpl'\n",
    "}"
   ]
  },
  {
   "cell_type": "code",
   "execution_count": 3,
   "id": "dynamic-saver",
   "metadata": {
    "execution": {
     "iopub.execute_input": "2022-04-17T00:38:02.117936Z",
     "iopub.status.busy": "2022-04-17T00:38:02.117423Z",
     "iopub.status.idle": "2022-04-17T00:38:02.120086Z",
     "shell.execute_reply": "2022-04-17T00:38:02.120553Z"
    },
    "papermill": {
     "duration": 0.042119,
     "end_time": "2022-04-17T00:38:02.120793",
     "exception": false,
     "start_time": "2022-04-17T00:38:02.078674",
     "status": "completed"
    },
    "tags": []
   },
   "outputs": [
    {
     "data": {
      "text/plain": [
       "'https://raw.githubusercontent.com/pratapvardhan/notebooks/master/covid19/mapping_countries.csv'"
      ]
     },
     "execution_count": 3,
     "metadata": {},
     "output_type": "execute_result"
    }
   ],
   "source": [
    "#hide\n",
    "paths['mapping']"
   ]
  },
  {
   "cell_type": "code",
   "execution_count": 4,
   "id": "urban-software",
   "metadata": {
    "execution": {
     "iopub.execute_input": "2022-04-17T00:38:02.186979Z",
     "iopub.status.busy": "2022-04-17T00:38:02.186430Z",
     "iopub.status.idle": "2022-04-17T00:38:02.190136Z",
     "shell.execute_reply": "2022-04-17T00:38:02.189718Z"
    },
    "papermill": {
     "duration": 0.039249,
     "end_time": "2022-04-17T00:38:02.190251",
     "exception": false,
     "start_time": "2022-04-17T00:38:02.151002",
     "status": "completed"
    },
    "tags": []
   },
   "outputs": [],
   "source": [
    "#hide\n",
    "def get_mappings(url):\n",
    "    df = pd.read_csv(url)\n",
    "    return {\n",
    "        'df': df,\n",
    "        'replace.country': dict(df.dropna(subset=['Name']).set_index('Country')['Name']),\n",
    "        'map.continent': dict(df.set_index('Name')['Continent'])\n",
    "    }"
   ]
  },
  {
   "cell_type": "code",
   "execution_count": 5,
   "id": "intimate-machinery",
   "metadata": {
    "execution": {
     "iopub.execute_input": "2022-04-17T00:38:02.255970Z",
     "iopub.status.busy": "2022-04-17T00:38:02.255402Z",
     "iopub.status.idle": "2022-04-17T00:38:02.281775Z",
     "shell.execute_reply": "2022-04-17T00:38:02.281288Z"
    },
    "papermill": {
     "duration": 0.061704,
     "end_time": "2022-04-17T00:38:02.281907",
     "exception": false,
     "start_time": "2022-04-17T00:38:02.220203",
     "status": "completed"
    },
    "tags": []
   },
   "outputs": [],
   "source": [
    "#hide\n",
    "mapping = get_mappings(paths['mapping'])"
   ]
  },
  {
   "cell_type": "code",
   "execution_count": 6,
   "id": "certified-tactics",
   "metadata": {
    "execution": {
     "iopub.execute_input": "2022-04-17T00:38:02.345682Z",
     "iopub.status.busy": "2022-04-17T00:38:02.345163Z",
     "iopub.status.idle": "2022-04-17T00:38:02.350014Z",
     "shell.execute_reply": "2022-04-17T00:38:02.349600Z"
    },
    "papermill": {
     "duration": 0.037327,
     "end_time": "2022-04-17T00:38:02.350125",
     "exception": false,
     "start_time": "2022-04-17T00:38:02.312798",
     "status": "completed"
    },
    "tags": []
   },
   "outputs": [],
   "source": [
    "#hide\n",
    "def get_template(path):\n",
    "    from urllib.parse import urlparse\n",
    "    if bool(urlparse(path).netloc):\n",
    "        from urllib.request import urlopen\n",
    "        return urlopen(path).read().decode('utf8')\n",
    "    return open(path).read()"
   ]
  },
  {
   "cell_type": "code",
   "execution_count": 7,
   "id": "realistic-blast",
   "metadata": {
    "execution": {
     "iopub.execute_input": "2022-04-17T00:38:02.414971Z",
     "iopub.status.busy": "2022-04-17T00:38:02.414375Z",
     "iopub.status.idle": "2022-04-17T00:38:02.416602Z",
     "shell.execute_reply": "2022-04-17T00:38:02.416104Z"
    },
    "papermill": {
     "duration": 0.036637,
     "end_time": "2022-04-17T00:38:02.416727",
     "exception": false,
     "start_time": "2022-04-17T00:38:02.380090",
     "status": "completed"
    },
    "tags": []
   },
   "outputs": [],
   "source": [
    "#hide\n",
    "def get_frame(name):\n",
    "    url = (\n",
    "        'https://raw.githubusercontent.com/CSSEGISandData/COVID-19/master/csse_covid_19_data/'\n",
    "        f'csse_covid_19_time_series/time_series_covid19_{name}_global.csv')\n",
    "    df = pd.read_csv(url)\n",
    "    # rename countries\n",
    "    df['Country/Region'] = df['Country/Region'].replace(mapping['replace.country'])\n",
    "    return df"
   ]
  },
  {
   "cell_type": "code",
   "execution_count": 8,
   "id": "affiliated-characterization",
   "metadata": {
    "execution": {
     "iopub.execute_input": "2022-04-17T00:38:02.482822Z",
     "iopub.status.busy": "2022-04-17T00:38:02.482291Z",
     "iopub.status.idle": "2022-04-17T00:38:02.484494Z",
     "shell.execute_reply": "2022-04-17T00:38:02.484055Z"
    },
    "papermill": {
     "duration": 0.037608,
     "end_time": "2022-04-17T00:38:02.484608",
     "exception": false,
     "start_time": "2022-04-17T00:38:02.447000",
     "status": "completed"
    },
    "tags": []
   },
   "outputs": [],
   "source": [
    "#hide\n",
    "def get_dates(df):\n",
    "    dt_cols = df.columns[~df.columns.isin(['Province/State', 'Country/Region', 'Lat', 'Long'])]\n",
    "    LAST_DATE_I = -1\n",
    "    # sometimes last column may be empty, then go backwards\n",
    "    for i in range(-1, -len(dt_cols), -1):\n",
    "        if not df[dt_cols[i]].fillna(0).eq(0).all():\n",
    "            LAST_DATE_I = i\n",
    "            break\n",
    "    return LAST_DATE_I, dt_cols"
   ]
  },
  {
   "cell_type": "code",
   "execution_count": 9,
   "id": "recent-optimization",
   "metadata": {
    "execution": {
     "iopub.execute_input": "2022-04-17T00:38:02.549159Z",
     "iopub.status.busy": "2022-04-17T00:38:02.548259Z",
     "iopub.status.idle": "2022-04-17T00:38:02.899897Z",
     "shell.execute_reply": "2022-04-17T00:38:02.898794Z"
    },
    "papermill": {
     "duration": 0.385621,
     "end_time": "2022-04-17T00:38:02.900035",
     "exception": false,
     "start_time": "2022-04-17T00:38:02.514414",
     "status": "completed"
    },
    "tags": []
   },
   "outputs": [],
   "source": [
    "#hide\n",
    "COL_REGION = 'Country/Region'\n",
    "# Confirmed, Recovered, Deaths\n",
    "df = get_frame('confirmed')\n",
    "# dft_: timeseries, dfc_: today country agg\n",
    "dft_cases = df\n",
    "dft_deaths = get_frame('deaths')\n",
    "dft_recovered = get_frame('recovered')\n",
    "LAST_DATE_I, dt_cols = get_dates(df)"
   ]
  },
  {
   "cell_type": "code",
   "execution_count": 10,
   "id": "absolute-copper",
   "metadata": {
    "execution": {
     "iopub.execute_input": "2022-04-17T00:38:02.966906Z",
     "iopub.status.busy": "2022-04-17T00:38:02.966305Z",
     "iopub.status.idle": "2022-04-17T00:38:02.968461Z",
     "shell.execute_reply": "2022-04-17T00:38:02.967929Z"
    },
    "papermill": {
     "duration": 0.03776,
     "end_time": "2022-04-17T00:38:02.968590",
     "exception": false,
     "start_time": "2022-04-17T00:38:02.930830",
     "status": "completed"
    },
    "tags": []
   },
   "outputs": [],
   "source": [
    "#hide\n",
    "LAST_DATE_I, dt_cols = get_dates(df)\n",
    "dt_today =dt_cols[LAST_DATE_I]\n",
    "# dt_5day = dt_cols[LAST_DATE_I - 5]\n",
    "dt_yday = dt_cols[LAST_DATE_I - 1]"
   ]
  },
  {
   "cell_type": "code",
   "execution_count": 11,
   "id": "restricted-sheriff",
   "metadata": {
    "execution": {
     "iopub.execute_input": "2022-04-17T00:38:03.037414Z",
     "iopub.status.busy": "2022-04-17T00:38:03.036886Z",
     "iopub.status.idle": "2022-04-17T00:38:03.042852Z",
     "shell.execute_reply": "2022-04-17T00:38:03.042434Z"
    },
    "papermill": {
     "duration": 0.043396,
     "end_time": "2022-04-17T00:38:03.042964",
     "exception": false,
     "start_time": "2022-04-17T00:38:02.999568",
     "status": "completed"
    },
    "tags": []
   },
   "outputs": [],
   "source": [
    "#hide\n",
    "dfc_cases = dft_cases.groupby(COL_REGION)[dt_today].sum()\n",
    "dfc_deaths = dft_deaths.groupby(COL_REGION)[dt_today].sum()\n",
    "# dfp_cases = dft_cases.groupby(COL_REGION)[dt_5day].sum()\n",
    "# dfp_deaths = dft_deaths.groupby(COL_REGION)[dt_5day].sum()\n",
    "dfp_cases = dft_cases.groupby(COL_REGION)[dt_yday].sum()\n",
    "dfp_deaths = dft_deaths.groupby(COL_REGION)[dt_yday].sum()"
   ]
  },
  {
   "cell_type": "code",
   "execution_count": 12,
   "id": "deluxe-hepatitis",
   "metadata": {
    "execution": {
     "iopub.execute_input": "2022-04-17T00:38:03.109628Z",
     "iopub.status.busy": "2022-04-17T00:38:03.109110Z",
     "iopub.status.idle": "2022-04-17T00:38:03.113688Z",
     "shell.execute_reply": "2022-04-17T00:38:03.113241Z"
    },
    "papermill": {
     "duration": 0.040502,
     "end_time": "2022-04-17T00:38:03.113802",
     "exception": false,
     "start_time": "2022-04-17T00:38:03.073300",
     "status": "completed"
    },
    "tags": []
   },
   "outputs": [],
   "source": [
    "#hide\n",
    "df_table = (pd.DataFrame(dict(Cases = dfc_cases, Deaths = dfc_deaths, PCases = dfp_cases, PDeaths = dfp_deaths))\n",
    "            .sort_values(by = ['Cases','Deaths'], ascending = [False, False])\n",
    "            .reset_index())"
   ]
  },
  {
   "cell_type": "code",
   "execution_count": 13,
   "id": "educational-chancellor",
   "metadata": {
    "execution": {
     "iopub.execute_input": "2022-04-17T00:38:03.192194Z",
     "iopub.status.busy": "2022-04-17T00:38:03.191657Z",
     "iopub.status.idle": "2022-04-17T00:38:03.198829Z",
     "shell.execute_reply": "2022-04-17T00:38:03.199265Z"
    },
    "papermill": {
     "duration": 0.055559,
     "end_time": "2022-04-17T00:38:03.199398",
     "exception": false,
     "start_time": "2022-04-17T00:38:03.143839",
     "status": "completed"
    },
    "tags": []
   },
   "outputs": [
    {
     "data": {
      "text/html": [
       "<div>\n",
       "<style scoped>\n",
       "    .dataframe tbody tr th:only-of-type {\n",
       "        vertical-align: middle;\n",
       "    }\n",
       "\n",
       "    .dataframe tbody tr th {\n",
       "        vertical-align: top;\n",
       "    }\n",
       "\n",
       "    .dataframe thead th {\n",
       "        text-align: right;\n",
       "    }\n",
       "</style>\n",
       "<table border=\"1\" class=\"dataframe\">\n",
       "  <thead>\n",
       "    <tr style=\"text-align: right;\">\n",
       "      <th></th>\n",
       "      <th>Country/Region</th>\n",
       "      <th>Cases</th>\n",
       "      <th>Deaths</th>\n",
       "      <th>PCases</th>\n",
       "      <th>PDeaths</th>\n",
       "      <th>Cases (+)</th>\n",
       "      <th>Deaths (+)</th>\n",
       "      <th>Fatality Rate</th>\n",
       "      <th>Continent</th>\n",
       "    </tr>\n",
       "  </thead>\n",
       "  <tbody>\n",
       "    <tr>\n",
       "      <th>0</th>\n",
       "      <td>US</td>\n",
       "      <td>80612681</td>\n",
       "      <td>988558</td>\n",
       "      <td>80573532</td>\n",
       "      <td>988121</td>\n",
       "      <td>39149</td>\n",
       "      <td>437</td>\n",
       "      <td>1.23</td>\n",
       "      <td>North America</td>\n",
       "    </tr>\n",
       "    <tr>\n",
       "      <th>1</th>\n",
       "      <td>India</td>\n",
       "      <td>43040947</td>\n",
       "      <td>521747</td>\n",
       "      <td>43039972</td>\n",
       "      <td>521743</td>\n",
       "      <td>975</td>\n",
       "      <td>4</td>\n",
       "      <td>1.21</td>\n",
       "      <td>Asia</td>\n",
       "    </tr>\n",
       "    <tr>\n",
       "      <th>2</th>\n",
       "      <td>Brazil</td>\n",
       "      <td>30247302</td>\n",
       "      <td>662154</td>\n",
       "      <td>30234024</td>\n",
       "      <td>662043</td>\n",
       "      <td>13278</td>\n",
       "      <td>111</td>\n",
       "      <td>2.19</td>\n",
       "      <td>South America</td>\n",
       "    </tr>\n",
       "    <tr>\n",
       "      <th>3</th>\n",
       "      <td>France</td>\n",
       "      <td>27762686</td>\n",
       "      <td>145098</td>\n",
       "      <td>27637292</td>\n",
       "      <td>144947</td>\n",
       "      <td>125394</td>\n",
       "      <td>151</td>\n",
       "      <td>0.52</td>\n",
       "      <td>Europe</td>\n",
       "    </tr>\n",
       "    <tr>\n",
       "      <th>4</th>\n",
       "      <td>Germany</td>\n",
       "      <td>23376879</td>\n",
       "      <td>132929</td>\n",
       "      <td>23339311</td>\n",
       "      <td>132900</td>\n",
       "      <td>37568</td>\n",
       "      <td>29</td>\n",
       "      <td>0.57</td>\n",
       "      <td>Europe</td>\n",
       "    </tr>\n",
       "  </tbody>\n",
       "</table>\n",
       "</div>"
      ],
      "text/plain": [
       "  Country/Region     Cases  Deaths    PCases  PDeaths  Cases (+)  Deaths (+)  \\\n",
       "0             US  80612681  988558  80573532   988121      39149         437   \n",
       "1          India  43040947  521747  43039972   521743        975           4   \n",
       "2         Brazil  30247302  662154  30234024   662043      13278         111   \n",
       "3         France  27762686  145098  27637292   144947     125394         151   \n",
       "4        Germany  23376879  132929  23339311   132900      37568          29   \n",
       "\n",
       "   Fatality Rate      Continent  \n",
       "0           1.23  North America  \n",
       "1           1.21           Asia  \n",
       "2           2.19  South America  \n",
       "3           0.52         Europe  \n",
       "4           0.57         Europe  "
      ]
     },
     "execution_count": 13,
     "metadata": {},
     "output_type": "execute_result"
    }
   ],
   "source": [
    "#hide\n",
    "for c in 'Cases, Deaths'.split(', '):\n",
    "    df_table[f'{c} (+)'] = (df_table[c] - df_table[f'P{c}']).clip(0)\n",
    "    #Clip ça veut dire, les chiffres negatif sont interdit\n",
    "df_table['Fatality Rate'] = (100* df_table['Deaths']/ df_table['Cases']).round(2)\n",
    "df_table['Continent'] = df_table['Country/Region'].map(mapping['map.continent'])\n",
    "df_table.head(5)"
   ]
  },
  {
   "cell_type": "code",
   "execution_count": 14,
   "id": "aboriginal-bulgaria",
   "metadata": {
    "execution": {
     "iopub.execute_input": "2022-04-17T00:38:03.265638Z",
     "iopub.status.busy": "2022-04-17T00:38:03.265131Z",
     "iopub.status.idle": "2022-04-17T00:38:03.267900Z",
     "shell.execute_reply": "2022-04-17T00:38:03.268330Z"
    },
    "papermill": {
     "duration": 0.038438,
     "end_time": "2022-04-17T00:38:03.268459",
     "exception": false,
     "start_time": "2022-04-17T00:38:03.230021",
     "status": "completed"
    },
    "tags": []
   },
   "outputs": [],
   "source": [
    "#hide\n",
    "#delete problematic countries from table\n",
    "df_table = df_table[~df_table['Country/Region'].isin(['Cape Verde', 'Cruise Ship', 'Kosovo'])]"
   ]
  },
  {
   "cell_type": "code",
   "execution_count": 15,
   "id": "fantastic-effect",
   "metadata": {
    "execution": {
     "iopub.execute_input": "2022-04-17T00:38:03.337090Z",
     "iopub.status.busy": "2022-04-17T00:38:03.336574Z",
     "iopub.status.idle": "2022-04-17T00:38:03.354135Z",
     "shell.execute_reply": "2022-04-17T00:38:03.354602Z"
    },
    "papermill": {
     "duration": 0.055782,
     "end_time": "2022-04-17T00:38:03.354736",
     "exception": false,
     "start_time": "2022-04-17T00:38:03.298954",
     "status": "completed"
    },
    "tags": []
   },
   "outputs": [
    {
     "data": {
      "text/html": [
       "<div>\n",
       "<style scoped>\n",
       "    .dataframe tbody tr th:only-of-type {\n",
       "        vertical-align: middle;\n",
       "    }\n",
       "\n",
       "    .dataframe tbody tr th {\n",
       "        vertical-align: top;\n",
       "    }\n",
       "\n",
       "    .dataframe thead th {\n",
       "        text-align: right;\n",
       "    }\n",
       "</style>\n",
       "<table border=\"1\" class=\"dataframe\">\n",
       "  <thead>\n",
       "    <tr style=\"text-align: right;\">\n",
       "      <th></th>\n",
       "      <th>Country/Region</th>\n",
       "      <th>Cases</th>\n",
       "      <th>Deaths</th>\n",
       "      <th>PCases</th>\n",
       "      <th>PDeaths</th>\n",
       "      <th>Cases (+)</th>\n",
       "      <th>Deaths (+)</th>\n",
       "      <th>Fatality Rate</th>\n",
       "      <th>Continent</th>\n",
       "    </tr>\n",
       "  </thead>\n",
       "  <tbody>\n",
       "    <tr>\n",
       "      <th>0</th>\n",
       "      <td>US</td>\n",
       "      <td>80612681</td>\n",
       "      <td>988558</td>\n",
       "      <td>80573532</td>\n",
       "      <td>988121</td>\n",
       "      <td>39149</td>\n",
       "      <td>437</td>\n",
       "      <td>1.2</td>\n",
       "      <td>North America</td>\n",
       "    </tr>\n",
       "    <tr>\n",
       "      <th>1</th>\n",
       "      <td>India</td>\n",
       "      <td>43040947</td>\n",
       "      <td>521747</td>\n",
       "      <td>43039972</td>\n",
       "      <td>521743</td>\n",
       "      <td>975</td>\n",
       "      <td>4</td>\n",
       "      <td>1.2</td>\n",
       "      <td>Asia</td>\n",
       "    </tr>\n",
       "    <tr>\n",
       "      <th>2</th>\n",
       "      <td>Brazil</td>\n",
       "      <td>30247302</td>\n",
       "      <td>662154</td>\n",
       "      <td>30234024</td>\n",
       "      <td>662043</td>\n",
       "      <td>13278</td>\n",
       "      <td>111</td>\n",
       "      <td>2.2</td>\n",
       "      <td>South America</td>\n",
       "    </tr>\n",
       "    <tr>\n",
       "      <th>3</th>\n",
       "      <td>France</td>\n",
       "      <td>27762686</td>\n",
       "      <td>145098</td>\n",
       "      <td>27637292</td>\n",
       "      <td>144947</td>\n",
       "      <td>125394</td>\n",
       "      <td>151</td>\n",
       "      <td>0.5</td>\n",
       "      <td>Europe</td>\n",
       "    </tr>\n",
       "    <tr>\n",
       "      <th>4</th>\n",
       "      <td>Germany</td>\n",
       "      <td>23376879</td>\n",
       "      <td>132929</td>\n",
       "      <td>23339311</td>\n",
       "      <td>132900</td>\n",
       "      <td>37568</td>\n",
       "      <td>29</td>\n",
       "      <td>0.6</td>\n",
       "      <td>Europe</td>\n",
       "    </tr>\n",
       "  </tbody>\n",
       "</table>\n",
       "</div>"
      ],
      "text/plain": [
       "  Country/Region     Cases  Deaths    PCases  PDeaths  Cases (+)  Deaths (+)  \\\n",
       "0             US  80612681  988558  80573532   988121      39149         437   \n",
       "1          India  43040947  521747  43039972   521743        975           4   \n",
       "2         Brazil  30247302  662154  30234024   662043      13278         111   \n",
       "3         France  27762686  145098  27637292   144947     125394         151   \n",
       "4        Germany  23376879  132929  23339311   132900      37568          29   \n",
       "\n",
       "   Fatality Rate      Continent  \n",
       "0            1.2  North America  \n",
       "1            1.2           Asia  \n",
       "2            2.2  South America  \n",
       "3            0.5         Europe  \n",
       "4            0.6         Europe  "
      ]
     },
     "execution_count": 15,
     "metadata": {},
     "output_type": "execute_result"
    }
   ],
   "source": [
    "#hide\n",
    "df_table = (pd.DataFrame(dict(Cases=dfc_cases, Deaths=dfc_deaths, PCases=dfp_cases, PDeaths=dfp_deaths))\n",
    "             .sort_values(by=['Cases', 'Deaths'], ascending=[False, False])\n",
    "             .reset_index())\n",
    "df_table.rename(columns={'index': 'Country/Region'}, inplace=True)\n",
    "for c in 'Cases, Deaths'.split(', '):\n",
    "    df_table[f'{c} (+)'] = (df_table[c] - df_table[f'P{c}']).clip(0)  # DATA BUG\n",
    "df_table['Fatality Rate'] = (100 * df_table['Deaths'] / df_table['Cases']).round(1)\n",
    "df_table['Continent'] = df_table['Country/Region'].map(mapping['map.continent'])\n",
    "df_table.head(5)"
   ]
  },
  {
   "cell_type": "code",
   "execution_count": 16,
   "id": "fewer-occasion",
   "metadata": {
    "execution": {
     "iopub.execute_input": "2022-04-17T00:38:03.422525Z",
     "iopub.status.busy": "2022-04-17T00:38:03.422009Z",
     "iopub.status.idle": "2022-04-17T00:38:03.425099Z",
     "shell.execute_reply": "2022-04-17T00:38:03.424682Z"
    },
    "papermill": {
     "duration": 0.038577,
     "end_time": "2022-04-17T00:38:03.425207",
     "exception": false,
     "start_time": "2022-04-17T00:38:03.386630",
     "status": "completed"
    },
    "tags": []
   },
   "outputs": [],
   "source": [
    "#hide\n",
    "#delete problematic countries from table\n",
    "df_table = df_table[~df_table['Country/Region'].isin(['Cape Verde', 'Cruise Ship', 'Kosovo'])]"
   ]
  },
  {
   "cell_type": "code",
   "execution_count": 17,
   "id": "related-center",
   "metadata": {
    "execution": {
     "iopub.execute_input": "2022-04-17T00:38:03.498987Z",
     "iopub.status.busy": "2022-04-17T00:38:03.498478Z",
     "iopub.status.idle": "2022-04-17T00:38:03.505789Z",
     "shell.execute_reply": "2022-04-17T00:38:03.506173Z"
    },
    "papermill": {
     "duration": 0.050445,
     "end_time": "2022-04-17T00:38:03.506299",
     "exception": false,
     "start_time": "2022-04-17T00:38:03.455854",
     "status": "completed"
    },
    "tags": []
   },
   "outputs": [],
   "source": [
    "#hide\n",
    "metrics = [df_table.columns[index] for index in [1,2,5,6]]\n",
    "# s_china = df_table[df_table['Country/Region'].eq('China')][metrics].sum().add_prefix('China ')\n",
    "s_us = df_table[df_table['Country/Region'].eq('US')][metrics].sum().add_prefix('US ')\n",
    "s_eu = df_table[df_table['Continent'].eq('Europe')][metrics].sum().add_prefix('EU ')\n",
    "s_ind = df_table[df_table['Country/Region'].eq('India')][metrics].sum().add_prefix('India ')\n",
    "summary = {'updated': pd.to_datetime(dt_today), 'since': pd.to_datetime(dt_yday)}\n",
    "summary = {'updated': pd.to_datetime(dt_today), 'since': pd.to_datetime(dt_yday)}\n",
    "summary = {**summary, **df_table[metrics].sum(), **s_ind, **s_us, **s_eu}"
   ]
  },
  {
   "cell_type": "code",
   "execution_count": 18,
   "id": "engaging-syndrome",
   "metadata": {
    "execution": {
     "iopub.execute_input": "2022-04-17T00:38:03.572669Z",
     "iopub.status.busy": "2022-04-17T00:38:03.572139Z",
     "iopub.status.idle": "2022-04-17T00:38:03.588914Z",
     "shell.execute_reply": "2022-04-17T00:38:03.589298Z"
    },
    "papermill": {
     "duration": 0.052104,
     "end_time": "2022-04-17T00:38:03.589421",
     "exception": false,
     "start_time": "2022-04-17T00:38:03.537317",
     "status": "completed"
    },
    "tags": []
   },
   "outputs": [],
   "source": [
    "#hide\n",
    "dft_ct_new_cases = dft_cases.groupby(COL_REGION)[dt_cols].sum().diff(axis=1).fillna(0).astype(int)"
   ]
  },
  {
   "cell_type": "code",
   "execution_count": 19,
   "id": "neutral-assignment",
   "metadata": {
    "execution": {
     "iopub.execute_input": "2022-04-17T00:38:03.656984Z",
     "iopub.status.busy": "2022-04-17T00:38:03.656468Z",
     "iopub.status.idle": "2022-04-17T00:38:03.658464Z",
     "shell.execute_reply": "2022-04-17T00:38:03.658857Z"
    },
    "papermill": {
     "duration": 0.038785,
     "end_time": "2022-04-17T00:38:03.658981",
     "exception": false,
     "start_time": "2022-04-17T00:38:03.620196",
     "status": "completed"
    },
    "tags": []
   },
   "outputs": [],
   "source": [
    "#hide\n",
    "everydaycases = dft_ct_new_cases.cumsum(axis=1)"
   ]
  },
  {
   "cell_type": "code",
   "execution_count": 20,
   "id": "parliamentary-calgary",
   "metadata": {
    "execution": {
     "iopub.execute_input": "2022-04-17T00:38:03.725084Z",
     "iopub.status.busy": "2022-04-17T00:38:03.724555Z",
     "iopub.status.idle": "2022-04-17T00:38:04.260909Z",
     "shell.execute_reply": "2022-04-17T00:38:04.260349Z"
    },
    "papermill": {
     "duration": 0.571168,
     "end_time": "2022-04-17T00:38:04.261053",
     "exception": false,
     "start_time": "2022-04-17T00:38:03.689885",
     "status": "completed"
    },
    "tags": []
   },
   "outputs": [],
   "source": [
    "#hide\n",
    "import pandas as pd\n",
    "import matplotlib.pyplot as plt\n",
    "import matplotlib.ticker as ticker\n",
    "import matplotlib.animation as animation\n",
    "from IPython.display import HTML"
   ]
  },
  {
   "cell_type": "code",
   "execution_count": 21,
   "id": "lasting-extraction",
   "metadata": {
    "execution": {
     "iopub.execute_input": "2022-04-17T00:38:04.329873Z",
     "iopub.status.busy": "2022-04-17T00:38:04.329361Z",
     "iopub.status.idle": "2022-04-17T00:38:04.335773Z",
     "shell.execute_reply": "2022-04-17T00:38:04.336250Z"
    },
    "papermill": {
     "duration": 0.043829,
     "end_time": "2022-04-17T00:38:04.336406",
     "exception": false,
     "start_time": "2022-04-17T00:38:04.292577",
     "status": "completed"
    },
    "tags": []
   },
   "outputs": [],
   "source": [
    "#hide\n",
    "t = everydaycases.stack()"
   ]
  },
  {
   "cell_type": "code",
   "execution_count": 22,
   "id": "premier-sleeve",
   "metadata": {
    "execution": {
     "iopub.execute_input": "2022-04-17T00:38:04.402785Z",
     "iopub.status.busy": "2022-04-17T00:38:04.402270Z",
     "iopub.status.idle": "2022-04-17T00:38:04.412694Z",
     "shell.execute_reply": "2022-04-17T00:38:04.413184Z"
    },
    "papermill": {
     "duration": 0.045908,
     "end_time": "2022-04-17T00:38:04.413313",
     "exception": false,
     "start_time": "2022-04-17T00:38:04.367405",
     "status": "completed"
    },
    "tags": []
   },
   "outputs": [],
   "source": [
    "#hide\n",
    "g = t.reset_index(['Country/Region'])"
   ]
  },
  {
   "cell_type": "code",
   "execution_count": 23,
   "id": "distributed-pittsburgh",
   "metadata": {
    "execution": {
     "iopub.execute_input": "2022-04-17T00:38:04.478566Z",
     "iopub.status.busy": "2022-04-17T00:38:04.478055Z",
     "iopub.status.idle": "2022-04-17T00:38:04.480302Z",
     "shell.execute_reply": "2022-04-17T00:38:04.479780Z"
    },
    "papermill": {
     "duration": 0.036351,
     "end_time": "2022-04-17T00:38:04.480414",
     "exception": false,
     "start_time": "2022-04-17T00:38:04.444063",
     "status": "completed"
    },
    "tags": []
   },
   "outputs": [],
   "source": [
    "#hide\n",
    "g.index.name = 'date'"
   ]
  },
  {
   "cell_type": "code",
   "execution_count": 24,
   "id": "naked-donor",
   "metadata": {
    "execution": {
     "iopub.execute_input": "2022-04-17T00:38:04.545575Z",
     "iopub.status.busy": "2022-04-17T00:38:04.544994Z",
     "iopub.status.idle": "2022-04-17T00:38:04.547214Z",
     "shell.execute_reply": "2022-04-17T00:38:04.546751Z"
    },
    "papermill": {
     "duration": 0.035932,
     "end_time": "2022-04-17T00:38:04.547332",
     "exception": false,
     "start_time": "2022-04-17T00:38:04.511400",
     "status": "completed"
    },
    "tags": []
   },
   "outputs": [],
   "source": [
    "# #hide\n",
    "# g = g.reset_index(['date'])"
   ]
  },
  {
   "cell_type": "code",
   "execution_count": 25,
   "id": "incomplete-mustang",
   "metadata": {
    "execution": {
     "iopub.execute_input": "2022-04-17T00:38:04.612605Z",
     "iopub.status.busy": "2022-04-17T00:38:04.611982Z",
     "iopub.status.idle": "2022-04-17T00:38:04.614152Z",
     "shell.execute_reply": "2022-04-17T00:38:04.613636Z"
    },
    "papermill": {
     "duration": 0.035979,
     "end_time": "2022-04-17T00:38:04.614264",
     "exception": false,
     "start_time": "2022-04-17T00:38:04.578285",
     "status": "completed"
    },
    "tags": []
   },
   "outputs": [],
   "source": [
    "#hide\n",
    "# g.head()"
   ]
  },
  {
   "cell_type": "code",
   "execution_count": 26,
   "id": "specific-kruger",
   "metadata": {
    "execution": {
     "iopub.execute_input": "2022-04-17T00:38:04.679049Z",
     "iopub.status.busy": "2022-04-17T00:38:04.678539Z",
     "iopub.status.idle": "2022-04-17T00:38:04.682025Z",
     "shell.execute_reply": "2022-04-17T00:38:04.681612Z"
    },
    "papermill": {
     "duration": 0.036248,
     "end_time": "2022-04-17T00:38:04.682133",
     "exception": false,
     "start_time": "2022-04-17T00:38:04.645885",
     "status": "completed"
    },
    "tags": []
   },
   "outputs": [],
   "source": [
    "#hide\n",
    "# g.columns = ['date','country','cases']"
   ]
  },
  {
   "cell_type": "code",
   "execution_count": 27,
   "id": "tender-conversion",
   "metadata": {
    "execution": {
     "iopub.execute_input": "2022-04-17T00:38:04.747703Z",
     "iopub.status.busy": "2022-04-17T00:38:04.747113Z",
     "iopub.status.idle": "2022-04-17T00:38:04.749371Z",
     "shell.execute_reply": "2022-04-17T00:38:04.748848Z"
    },
    "papermill": {
     "duration": 0.036411,
     "end_time": "2022-04-17T00:38:04.749490",
     "exception": false,
     "start_time": "2022-04-17T00:38:04.713079",
     "status": "completed"
    },
    "tags": []
   },
   "outputs": [],
   "source": [
    "#hide\n",
    "# g['continent'] = g.country"
   ]
  },
  {
   "cell_type": "code",
   "execution_count": 28,
   "id": "substantial-wilderness",
   "metadata": {
    "execution": {
     "iopub.execute_input": "2022-04-17T00:38:04.816133Z",
     "iopub.status.busy": "2022-04-17T00:38:04.815537Z",
     "iopub.status.idle": "2022-04-17T00:38:04.818882Z",
     "shell.execute_reply": "2022-04-17T00:38:04.819326Z"
    },
    "papermill": {
     "duration": 0.038419,
     "end_time": "2022-04-17T00:38:04.819473",
     "exception": false,
     "start_time": "2022-04-17T00:38:04.781054",
     "status": "completed"
    },
    "tags": []
   },
   "outputs": [],
   "source": [
    "#hide\n",
    "# cols = list(g.columns.values)"
   ]
  },
  {
   "cell_type": "code",
   "execution_count": 29,
   "id": "solved-farming",
   "metadata": {
    "execution": {
     "iopub.execute_input": "2022-04-17T00:38:04.885823Z",
     "iopub.status.busy": "2022-04-17T00:38:04.885285Z",
     "iopub.status.idle": "2022-04-17T00:38:04.888545Z",
     "shell.execute_reply": "2022-04-17T00:38:04.888945Z"
    },
    "papermill": {
     "duration": 0.038143,
     "end_time": "2022-04-17T00:38:04.889076",
     "exception": false,
     "start_time": "2022-04-17T00:38:04.850933",
     "status": "completed"
    },
    "tags": []
   },
   "outputs": [],
   "source": [
    "#hide\n",
    "# cols.insert(0, cols.pop())"
   ]
  },
  {
   "cell_type": "code",
   "execution_count": 30,
   "id": "executed-adoption",
   "metadata": {
    "execution": {
     "iopub.execute_input": "2022-04-17T00:38:04.954869Z",
     "iopub.status.busy": "2022-04-17T00:38:04.954337Z",
     "iopub.status.idle": "2022-04-17T00:38:04.956406Z",
     "shell.execute_reply": "2022-04-17T00:38:04.955970Z"
    },
    "papermill": {
     "duration": 0.036243,
     "end_time": "2022-04-17T00:38:04.956521",
     "exception": false,
     "start_time": "2022-04-17T00:38:04.920278",
     "status": "completed"
    },
    "tags": []
   },
   "outputs": [],
   "source": [
    "#hide\n",
    "# g = g[cols]"
   ]
  },
  {
   "cell_type": "code",
   "execution_count": 31,
   "id": "subject-dublin",
   "metadata": {
    "execution": {
     "iopub.execute_input": "2022-04-17T00:38:05.022142Z",
     "iopub.status.busy": "2022-04-17T00:38:05.021545Z",
     "iopub.status.idle": "2022-04-17T00:38:05.023710Z",
     "shell.execute_reply": "2022-04-17T00:38:05.023240Z"
    },
    "papermill": {
     "duration": 0.036379,
     "end_time": "2022-04-17T00:38:05.023829",
     "exception": false,
     "start_time": "2022-04-17T00:38:04.987450",
     "status": "completed"
    },
    "tags": []
   },
   "outputs": [],
   "source": [
    "#hide\n",
    "# g['continent'] = g['continent'].map(mapping['map.continent'])"
   ]
  },
  {
   "cell_type": "code",
   "execution_count": 32,
   "id": "freelance-scout",
   "metadata": {
    "execution": {
     "iopub.execute_input": "2022-04-17T00:38:05.089622Z",
     "iopub.status.busy": "2022-04-17T00:38:05.089015Z",
     "iopub.status.idle": "2022-04-17T00:38:05.092454Z",
     "shell.execute_reply": "2022-04-17T00:38:05.092905Z"
    },
    "papermill": {
     "duration": 0.038104,
     "end_time": "2022-04-17T00:38:05.093051",
     "exception": false,
     "start_time": "2022-04-17T00:38:05.054947",
     "status": "completed"
    },
    "tags": []
   },
   "outputs": [],
   "source": [
    "#hide\n",
    "# g.head()"
   ]
  },
  {
   "cell_type": "code",
   "execution_count": 33,
   "id": "limited-engine",
   "metadata": {
    "execution": {
     "iopub.execute_input": "2022-04-17T00:38:05.158313Z",
     "iopub.status.busy": "2022-04-17T00:38:05.157802Z",
     "iopub.status.idle": "2022-04-17T00:38:05.159575Z",
     "shell.execute_reply": "2022-04-17T00:38:05.159960Z"
    },
    "papermill": {
     "duration": 0.035761,
     "end_time": "2022-04-17T00:38:05.160089",
     "exception": false,
     "start_time": "2022-04-17T00:38:05.124328",
     "status": "completed"
    },
    "tags": []
   },
   "outputs": [],
   "source": [
    "# hide\n",
    "# g['date'] = g['date'].astype('datetime64[ns]')"
   ]
  },
  {
   "cell_type": "code",
   "execution_count": 34,
   "id": "sophisticated-supervisor",
   "metadata": {
    "execution": {
     "iopub.execute_input": "2022-04-17T00:38:05.225871Z",
     "iopub.status.busy": "2022-04-17T00:38:05.225278Z",
     "iopub.status.idle": "2022-04-17T00:38:05.227367Z",
     "shell.execute_reply": "2022-04-17T00:38:05.226788Z"
    },
    "papermill": {
     "duration": 0.036408,
     "end_time": "2022-04-17T00:38:05.227483",
     "exception": false,
     "start_time": "2022-04-17T00:38:05.191075",
     "status": "completed"
    },
    "tags": []
   },
   "outputs": [],
   "source": [
    "#hide\n",
    "# g['date'] = g.date.dt.dayofyear"
   ]
  },
  {
   "cell_type": "code",
   "execution_count": 35,
   "id": "inside-dubai",
   "metadata": {
    "execution": {
     "iopub.execute_input": "2022-04-17T00:38:05.292631Z",
     "iopub.status.busy": "2022-04-17T00:38:05.292006Z",
     "iopub.status.idle": "2022-04-17T00:38:05.295224Z",
     "shell.execute_reply": "2022-04-17T00:38:05.294719Z"
    },
    "papermill": {
     "duration": 0.037132,
     "end_time": "2022-04-17T00:38:05.295343",
     "exception": false,
     "start_time": "2022-04-17T00:38:05.258211",
     "status": "completed"
    },
    "tags": []
   },
   "outputs": [],
   "source": [
    "#hide\n",
    "# g = g.rename(columns= {'continent':'group','country':'name','cases':'value'})"
   ]
  },
  {
   "cell_type": "code",
   "execution_count": 36,
   "id": "fleet-motorcycle",
   "metadata": {
    "execution": {
     "iopub.execute_input": "2022-04-17T00:38:05.361029Z",
     "iopub.status.busy": "2022-04-17T00:38:05.360509Z",
     "iopub.status.idle": "2022-04-17T00:38:05.362648Z",
     "shell.execute_reply": "2022-04-17T00:38:05.362235Z"
    },
    "papermill": {
     "duration": 0.035958,
     "end_time": "2022-04-17T00:38:05.362754",
     "exception": false,
     "start_time": "2022-04-17T00:38:05.326796",
     "status": "completed"
    },
    "tags": []
   },
   "outputs": [],
   "source": [
    "#hide\n",
    "# cols = ['name','group','day','value']"
   ]
  },
  {
   "cell_type": "code",
   "execution_count": 37,
   "id": "continued-sleeping",
   "metadata": {
    "execution": {
     "iopub.execute_input": "2022-04-17T00:38:05.428544Z",
     "iopub.status.busy": "2022-04-17T00:38:05.427898Z",
     "iopub.status.idle": "2022-04-17T00:38:05.429444Z",
     "shell.execute_reply": "2022-04-17T00:38:05.429915Z"
    },
    "papermill": {
     "duration": 0.036306,
     "end_time": "2022-04-17T00:38:05.430053",
     "exception": false,
     "start_time": "2022-04-17T00:38:05.393747",
     "status": "completed"
    },
    "tags": []
   },
   "outputs": [],
   "source": [
    "#hide\n",
    "# g.rename(columns= {'date':'day'},inplace = True)"
   ]
  },
  {
   "cell_type": "code",
   "execution_count": 38,
   "id": "major-fight",
   "metadata": {
    "execution": {
     "iopub.execute_input": "2022-04-17T00:38:05.496216Z",
     "iopub.status.busy": "2022-04-17T00:38:05.495603Z",
     "iopub.status.idle": "2022-04-17T00:38:05.498967Z",
     "shell.execute_reply": "2022-04-17T00:38:05.499423Z"
    },
    "papermill": {
     "duration": 0.038364,
     "end_time": "2022-04-17T00:38:05.499572",
     "exception": false,
     "start_time": "2022-04-17T00:38:05.461208",
     "status": "completed"
    },
    "tags": []
   },
   "outputs": [],
   "source": [
    "#hide\n",
    "# g = g[cols]"
   ]
  },
  {
   "cell_type": "code",
   "execution_count": 39,
   "id": "structured-mobile",
   "metadata": {
    "execution": {
     "iopub.execute_input": "2022-04-17T00:38:05.565381Z",
     "iopub.status.busy": "2022-04-17T00:38:05.564792Z",
     "iopub.status.idle": "2022-04-17T00:38:05.566948Z",
     "shell.execute_reply": "2022-04-17T00:38:05.566481Z"
    },
    "papermill": {
     "duration": 0.036302,
     "end_time": "2022-04-17T00:38:05.567069",
     "exception": false,
     "start_time": "2022-04-17T00:38:05.530767",
     "status": "completed"
    },
    "tags": []
   },
   "outputs": [],
   "source": [
    "# #hide\n",
    "# g = g[g.group.notna()]"
   ]
  },
  {
   "cell_type": "code",
   "execution_count": 40,
   "id": "determined-closing",
   "metadata": {
    "execution": {
     "iopub.execute_input": "2022-04-17T00:38:05.633502Z",
     "iopub.status.busy": "2022-04-17T00:38:05.632981Z",
     "iopub.status.idle": "2022-04-17T00:38:05.635384Z",
     "shell.execute_reply": "2022-04-17T00:38:05.634976Z"
    },
    "papermill": {
     "duration": 0.036491,
     "end_time": "2022-04-17T00:38:05.635491",
     "exception": false,
     "start_time": "2022-04-17T00:38:05.599000",
     "status": "completed"
    },
    "tags": []
   },
   "outputs": [],
   "source": [
    "# #hide\n",
    "# colors = dict(zip(\n",
    "#     [\"Oceania\", \"Europe\", \"Asia\", \"South America\", \"Middle East\", \"North America\", \"Africa\"],\n",
    "#     [\"#adb0ff\", \"#ffb3ff\", \"#90d595\", \"#e48381\", \"#aafbff\", \"#f7bb5f\", \"#eafb50\"]\n",
    "# ))\n",
    "# group_lk = g.set_index('name')['group'].to_dict()"
   ]
  },
  {
   "cell_type": "code",
   "execution_count": null,
   "id": "gross-drinking",
   "metadata": {
    "papermill": {
     "duration": 0.030884,
     "end_time": "2022-04-17T00:38:05.697116",
     "exception": false,
     "start_time": "2022-04-17T00:38:05.666232",
     "status": "completed"
    },
    "tags": []
   },
   "outputs": [],
   "source": []
  },
  {
   "cell_type": "code",
   "execution_count": 41,
   "id": "subject-macintosh",
   "metadata": {
    "execution": {
     "iopub.execute_input": "2022-04-17T00:38:05.763175Z",
     "iopub.status.busy": "2022-04-17T00:38:05.762575Z",
     "iopub.status.idle": "2022-04-17T00:38:05.764813Z",
     "shell.execute_reply": "2022-04-17T00:38:05.764306Z"
    },
    "papermill": {
     "duration": 0.036821,
     "end_time": "2022-04-17T00:38:05.764926",
     "exception": false,
     "start_time": "2022-04-17T00:38:05.728105",
     "status": "completed"
    },
    "tags": []
   },
   "outputs": [],
   "source": [
    "# #hide\n",
    "# fig, ax = plt.subplots(figsize=(15, 8))\n",
    "\n",
    "# def draw_barchart(current_day):\n",
    "#     dff = g[g['day'].eq(current_day)].sort_values(by='value', ascending=True).tail(10)\n",
    "#     ax.clear()\n",
    "#     ax.barh(dff['name'], dff['value'], color=[colors[group_lk[x]] for x in dff['name']])\n",
    "#     dx = dff['value'].max() / 200\n",
    "    \n",
    "#     for i, (value, name) in enumerate(zip(dff['value'], dff['name'])):\n",
    "#         ax.text(value-dx, i,     name,           size=14, weight=600, ha='right', va='bottom')\n",
    "#         ax.text(value-dx, i-.25, group_lk[name], size=10, color='#444444', ha='right', va='baseline')\n",
    "#         ax.text(value+dx, i,     f'{value:,.0f}',  size=14, ha='left',  va='center')\n",
    "#     ax.text(1, 0.4, current_day, transform=ax.transAxes, color='#777777', size=46, ha='right', weight=800)\n",
    "#     ax.text(0, 1.06, 'Population (thousands)', transform=ax.transAxes, size=12, color='#777777')\n",
    "#     ax.xaxis.set_major_formatter(ticker.StrMethodFormatter('{x:,.0f}'))\n",
    "#     ax.xaxis.set_ticks_position('top')\n",
    "#     ax.tick_params(axis='x', colors='#777777', labelsize=12)\n",
    "#     ax.set_yticks([])\n",
    "#     ax.margins(0, 0.01)\n",
    "#     ax.grid(which='major', axis='x', linestyle='-')\n",
    "#     ax.set_axisbelow(True)\n",
    "    \n",
    "#     ax.text(0, 1.15, 'Coronavirus',\n",
    "#             transform=ax.transAxes, size=24, weight=600, ha='left', va='top')\n",
    "# #     ax.text(1, 0, 'by @pratapvardhan; credit @jburnmurdoch', transform=ax.transAxes, color='#777777', ha='right',\n",
    "# #             bbox=dict(facecolor='white', alpha=0.8, edgecolor='white'))\n",
    "#     plt.box(False)"
   ]
  },
  {
   "cell_type": "code",
   "execution_count": 42,
   "id": "sexual-wages",
   "metadata": {
    "execution": {
     "iopub.execute_input": "2022-04-17T00:38:05.830150Z",
     "iopub.status.busy": "2022-04-17T00:38:05.829638Z",
     "iopub.status.idle": "2022-04-17T00:38:05.831368Z",
     "shell.execute_reply": "2022-04-17T00:38:05.831852Z"
    },
    "papermill": {
     "duration": 0.036033,
     "end_time": "2022-04-17T00:38:05.831967",
     "exception": false,
     "start_time": "2022-04-17T00:38:05.795934",
     "status": "completed"
    },
    "tags": []
   },
   "outputs": [],
   "source": [
    "# #hide_input\n",
    "# fig, ax = plt.subplots(figsize=(15, 8))\n",
    "# animator = animation.FuncAnimation(fig, draw_barchart, frames=range(g.day.values.min(), g.day.values.max()))\n",
    "# HTML(animator.to_jshtml())\n",
    "# # or use animator.to_html5_video() or animator.save() "
   ]
  },
  {
   "cell_type": "code",
   "execution_count": null,
   "id": "australian-container",
   "metadata": {
    "papermill": {
     "duration": 0.030727,
     "end_time": "2022-04-17T00:38:05.893528",
     "exception": false,
     "start_time": "2022-04-17T00:38:05.862801",
     "status": "completed"
    },
    "tags": []
   },
   "outputs": [],
   "source": []
  },
  {
   "cell_type": "code",
   "execution_count": null,
   "id": "mediterranean-pontiac",
   "metadata": {
    "papermill": {
     "duration": 0.030794,
     "end_time": "2022-04-17T00:38:05.955134",
     "exception": false,
     "start_time": "2022-04-17T00:38:05.924340",
     "status": "completed"
    },
    "tags": []
   },
   "outputs": [],
   "source": []
  },
  {
   "cell_type": "code",
   "execution_count": null,
   "id": "aging-legislature",
   "metadata": {
    "papermill": {
     "duration": 0.031052,
     "end_time": "2022-04-17T00:38:06.017163",
     "exception": false,
     "start_time": "2022-04-17T00:38:05.986111",
     "status": "completed"
    },
    "tags": []
   },
   "outputs": [],
   "source": []
  }
 ],
 "metadata": {
  "kernelspec": {
   "display_name": "Python 3",
   "language": "python",
   "name": "python3"
  },
  "language_info": {
   "codemirror_mode": {
    "name": "ipython",
    "version": 3
   },
   "file_extension": ".py",
   "mimetype": "text/x-python",
   "name": "python",
   "nbconvert_exporter": "python",
   "pygments_lexer": "ipython3",
   "version": "3.6.15"
  },
  "papermill": {
   "duration": 5.751836,
   "end_time": "2022-04-17T00:38:06.367248",
   "environment_variables": {},
   "exception": null,
   "input_path": "2020-03-21-covid19exp.ipynb",
   "output_path": "2020-03-21-covid19exp.ipynb",
   "parameters": {},
   "start_time": "2022-04-17T00:38:00.615412",
   "version": "2.0.0"
  }
 },
 "nbformat": 4,
 "nbformat_minor": 5
}