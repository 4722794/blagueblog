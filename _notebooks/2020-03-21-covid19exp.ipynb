{
 "cells": [
  {
   "cell_type": "markdown",
   "metadata": {
    "papermill": {
     "duration": 0.029485,
     "end_time": "2020-12-13T12:07:11.372557",
     "exception": false,
     "start_time": "2020-12-13T12:07:11.343072",
     "status": "completed"
    },
    "tags": []
   },
   "source": [
    "# COVID-19 Case Race\n",
    "> A race chart to see rising cases around the world\n",
    "\n",
    "- author: Hargun Oberoi\n",
    "- image: images/covid-overview.png\n",
    "- hide: false\n",
    "- badges: false"
   ]
  },
  {
   "cell_type": "code",
   "execution_count": 1,
   "metadata": {
    "execution": {
     "iopub.execute_input": "2020-12-13T12:07:11.432252Z",
     "iopub.status.busy": "2020-12-13T12:07:11.431761Z",
     "iopub.status.idle": "2020-12-13T12:07:11.734160Z",
     "shell.execute_reply": "2020-12-13T12:07:11.733513Z"
    },
    "papermill": {
     "duration": 0.336101,
     "end_time": "2020-12-13T12:07:11.734347",
     "exception": false,
     "start_time": "2020-12-13T12:07:11.398246",
     "status": "completed"
    },
    "tags": []
   },
   "outputs": [],
   "source": [
    "#hide\n",
    "import numpy as np\n",
    "import pandas as pd\n",
    "from jinja2 import Template\n",
    "from IPython.display import HTML"
   ]
  },
  {
   "cell_type": "code",
   "execution_count": 2,
   "metadata": {
    "execution": {
     "iopub.execute_input": "2020-12-13T12:07:11.798939Z",
     "iopub.status.busy": "2020-12-13T12:07:11.798333Z",
     "iopub.status.idle": "2020-12-13T12:07:11.800701Z",
     "shell.execute_reply": "2020-12-13T12:07:11.801163Z"
    },
    "papermill": {
     "duration": 0.036957,
     "end_time": "2020-12-13T12:07:11.801299",
     "exception": false,
     "start_time": "2020-12-13T12:07:11.764342",
     "status": "completed"
    },
    "tags": []
   },
   "outputs": [],
   "source": [
    "#hide\n",
    "\n",
    "# FETCH\n",
    "base_url = 'https://raw.githubusercontent.com/pratapvardhan/notebooks/master/covid19/'\n",
    "paths = {\n",
    "    'mapping': base_url + 'mapping_countries.csv',\n",
    "    'overview': base_url + 'overview.tpl'\n",
    "}"
   ]
  },
  {
   "cell_type": "code",
   "execution_count": 3,
   "metadata": {
    "execution": {
     "iopub.execute_input": "2020-12-13T12:07:11.867327Z",
     "iopub.status.busy": "2020-12-13T12:07:11.866744Z",
     "iopub.status.idle": "2020-12-13T12:07:11.870010Z",
     "shell.execute_reply": "2020-12-13T12:07:11.869516Z"
    },
    "papermill": {
     "duration": 0.041546,
     "end_time": "2020-12-13T12:07:11.870134",
     "exception": false,
     "start_time": "2020-12-13T12:07:11.828588",
     "status": "completed"
    },
    "tags": []
   },
   "outputs": [
    {
     "data": {
      "text/plain": [
       "'https://raw.githubusercontent.com/pratapvardhan/notebooks/master/covid19/mapping_countries.csv'"
      ]
     },
     "execution_count": 3,
     "metadata": {},
     "output_type": "execute_result"
    }
   ],
   "source": [
    "#hide\n",
    "paths['mapping']"
   ]
  },
  {
   "cell_type": "code",
   "execution_count": 4,
   "metadata": {
    "execution": {
     "iopub.execute_input": "2020-12-13T12:07:11.933014Z",
     "iopub.status.busy": "2020-12-13T12:07:11.932337Z",
     "iopub.status.idle": "2020-12-13T12:07:11.933588Z",
     "shell.execute_reply": "2020-12-13T12:07:11.934009Z"
    },
    "papermill": {
     "duration": 0.035718,
     "end_time": "2020-12-13T12:07:11.934130",
     "exception": false,
     "start_time": "2020-12-13T12:07:11.898412",
     "status": "completed"
    },
    "tags": []
   },
   "outputs": [],
   "source": [
    "#hide\n",
    "def get_mappings(url):\n",
    "    df = pd.read_csv(url)\n",
    "    return {\n",
    "        'df': df,\n",
    "        'replace.country': dict(df.dropna(subset=['Name']).set_index('Country')['Name']),\n",
    "        'map.continent': dict(df.set_index('Name')['Continent'])\n",
    "    }"
   ]
  },
  {
   "cell_type": "code",
   "execution_count": 5,
   "metadata": {
    "execution": {
     "iopub.execute_input": "2020-12-13T12:07:12.003076Z",
     "iopub.status.busy": "2020-12-13T12:07:12.002596Z",
     "iopub.status.idle": "2020-12-13T12:07:12.085707Z",
     "shell.execute_reply": "2020-12-13T12:07:12.085214Z"
    },
    "papermill": {
     "duration": 0.119864,
     "end_time": "2020-12-13T12:07:12.085828",
     "exception": false,
     "start_time": "2020-12-13T12:07:11.965964",
     "status": "completed"
    },
    "tags": []
   },
   "outputs": [],
   "source": [
    "#hide\n",
    "mapping = get_mappings(paths['mapping'])"
   ]
  },
  {
   "cell_type": "code",
   "execution_count": 6,
   "metadata": {
    "execution": {
     "iopub.execute_input": "2020-12-13T12:07:12.144259Z",
     "iopub.status.busy": "2020-12-13T12:07:12.143632Z",
     "iopub.status.idle": "2020-12-13T12:07:12.145883Z",
     "shell.execute_reply": "2020-12-13T12:07:12.146433Z"
    },
    "papermill": {
     "duration": 0.035319,
     "end_time": "2020-12-13T12:07:12.146568",
     "exception": false,
     "start_time": "2020-12-13T12:07:12.111249",
     "status": "completed"
    },
    "tags": []
   },
   "outputs": [],
   "source": [
    "#hide\n",
    "def get_template(path):\n",
    "    from urllib.parse import urlparse\n",
    "    if bool(urlparse(path).netloc):\n",
    "        from urllib.request import urlopen\n",
    "        return urlopen(path).read().decode('utf8')\n",
    "    return open(path).read()"
   ]
  },
  {
   "cell_type": "code",
   "execution_count": 7,
   "metadata": {
    "execution": {
     "iopub.execute_input": "2020-12-13T12:07:12.201273Z",
     "iopub.status.busy": "2020-12-13T12:07:12.200794Z",
     "iopub.status.idle": "2020-12-13T12:07:12.202977Z",
     "shell.execute_reply": "2020-12-13T12:07:12.203617Z"
    },
    "papermill": {
     "duration": 0.032304,
     "end_time": "2020-12-13T12:07:12.203815",
     "exception": false,
     "start_time": "2020-12-13T12:07:12.171511",
     "status": "completed"
    },
    "tags": []
   },
   "outputs": [],
   "source": [
    "#hide\n",
    "def get_frame(name):\n",
    "    url = (\n",
    "        'https://raw.githubusercontent.com/CSSEGISandData/COVID-19/master/csse_covid_19_data/'\n",
    "        f'csse_covid_19_time_series/time_series_covid19_{name}_global.csv')\n",
    "    df = pd.read_csv(url)\n",
    "    # rename countries\n",
    "    df['Country/Region'] = df['Country/Region'].replace(mapping['replace.country'])\n",
    "    return df"
   ]
  },
  {
   "cell_type": "code",
   "execution_count": 8,
   "metadata": {
    "execution": {
     "iopub.execute_input": "2020-12-13T12:07:12.262487Z",
     "iopub.status.busy": "2020-12-13T12:07:12.261728Z",
     "iopub.status.idle": "2020-12-13T12:07:12.264793Z",
     "shell.execute_reply": "2020-12-13T12:07:12.265310Z"
    },
    "papermill": {
     "duration": 0.036445,
     "end_time": "2020-12-13T12:07:12.265567",
     "exception": false,
     "start_time": "2020-12-13T12:07:12.229122",
     "status": "completed"
    },
    "tags": []
   },
   "outputs": [],
   "source": [
    "#hide\n",
    "def get_dates(df):\n",
    "    dt_cols = df.columns[~df.columns.isin(['Province/State', 'Country/Region', 'Lat', 'Long'])]\n",
    "    LAST_DATE_I = -1\n",
    "    # sometimes last column may be empty, then go backwards\n",
    "    for i in range(-1, -len(dt_cols), -1):\n",
    "        if not df[dt_cols[i]].fillna(0).eq(0).all():\n",
    "            LAST_DATE_I = i\n",
    "            break\n",
    "    return LAST_DATE_I, dt_cols"
   ]
  },
  {
   "cell_type": "code",
   "execution_count": 9,
   "metadata": {
    "execution": {
     "iopub.execute_input": "2020-12-13T12:07:12.329128Z",
     "iopub.status.busy": "2020-12-13T12:07:12.328145Z",
     "iopub.status.idle": "2020-12-13T12:07:12.756324Z",
     "shell.execute_reply": "2020-12-13T12:07:12.755209Z"
    },
    "papermill": {
     "duration": 0.461968,
     "end_time": "2020-12-13T12:07:12.756468",
     "exception": false,
     "start_time": "2020-12-13T12:07:12.294500",
     "status": "completed"
    },
    "tags": []
   },
   "outputs": [],
   "source": [
    "#hide\n",
    "COL_REGION = 'Country/Region'\n",
    "# Confirmed, Recovered, Deaths\n",
    "df = get_frame('confirmed')\n",
    "# dft_: timeseries, dfc_: today country agg\n",
    "dft_cases = df\n",
    "dft_deaths = get_frame('deaths')\n",
    "dft_recovered = get_frame('recovered')\n",
    "LAST_DATE_I, dt_cols = get_dates(df)"
   ]
  },
  {
   "cell_type": "code",
   "execution_count": 10,
   "metadata": {
    "execution": {
     "iopub.execute_input": "2020-12-13T12:07:12.813928Z",
     "iopub.status.busy": "2020-12-13T12:07:12.813329Z",
     "iopub.status.idle": "2020-12-13T12:07:12.816199Z",
     "shell.execute_reply": "2020-12-13T12:07:12.815727Z"
    },
    "papermill": {
     "duration": 0.03361,
     "end_time": "2020-12-13T12:07:12.816307",
     "exception": false,
     "start_time": "2020-12-13T12:07:12.782697",
     "status": "completed"
    },
    "tags": []
   },
   "outputs": [],
   "source": [
    "#hide\n",
    "LAST_DATE_I, dt_cols = get_dates(df)\n",
    "dt_today =dt_cols[LAST_DATE_I]\n",
    "# dt_5day = dt_cols[LAST_DATE_I - 5]\n",
    "dt_yday = dt_cols[LAST_DATE_I - 1]"
   ]
  },
  {
   "cell_type": "code",
   "execution_count": 11,
   "metadata": {
    "execution": {
     "iopub.execute_input": "2020-12-13T12:07:12.874532Z",
     "iopub.status.busy": "2020-12-13T12:07:12.873987Z",
     "iopub.status.idle": "2020-12-13T12:07:12.878466Z",
     "shell.execute_reply": "2020-12-13T12:07:12.878061Z"
    },
    "papermill": {
     "duration": 0.036635,
     "end_time": "2020-12-13T12:07:12.878564",
     "exception": false,
     "start_time": "2020-12-13T12:07:12.841929",
     "status": "completed"
    },
    "tags": []
   },
   "outputs": [],
   "source": [
    "#hide\n",
    "dfc_cases = dft_cases.groupby(COL_REGION)[dt_today].sum()\n",
    "dfc_deaths = dft_deaths.groupby(COL_REGION)[dt_today].sum()\n",
    "# dfp_cases = dft_cases.groupby(COL_REGION)[dt_5day].sum()\n",
    "# dfp_deaths = dft_deaths.groupby(COL_REGION)[dt_5day].sum()\n",
    "dfp_cases = dft_cases.groupby(COL_REGION)[dt_yday].sum()\n",
    "dfp_deaths = dft_deaths.groupby(COL_REGION)[dt_yday].sum()"
   ]
  },
  {
   "cell_type": "code",
   "execution_count": 12,
   "metadata": {
    "execution": {
     "iopub.execute_input": "2020-12-13T12:07:12.938949Z",
     "iopub.status.busy": "2020-12-13T12:07:12.937536Z",
     "iopub.status.idle": "2020-12-13T12:07:12.944149Z",
     "shell.execute_reply": "2020-12-13T12:07:12.943651Z"
    },
    "papermill": {
     "duration": 0.038331,
     "end_time": "2020-12-13T12:07:12.944262",
     "exception": false,
     "start_time": "2020-12-13T12:07:12.905931",
     "status": "completed"
    },
    "tags": []
   },
   "outputs": [],
   "source": [
    "#hide\n",
    "df_table = (pd.DataFrame(dict(Cases = dfc_cases, Deaths = dfc_deaths, PCases = dfp_cases, PDeaths = dfp_deaths))\n",
    "            .sort_values(by = ['Cases','Deaths'], ascending = [False, False])\n",
    "            .reset_index())"
   ]
  },
  {
   "cell_type": "code",
   "execution_count": 13,
   "metadata": {
    "execution": {
     "iopub.execute_input": "2020-12-13T12:07:13.014952Z",
     "iopub.status.busy": "2020-12-13T12:07:13.014468Z",
     "iopub.status.idle": "2020-12-13T12:07:13.021794Z",
     "shell.execute_reply": "2020-12-13T12:07:13.021322Z"
    },
    "papermill": {
     "duration": 0.051504,
     "end_time": "2020-12-13T12:07:13.021934",
     "exception": false,
     "start_time": "2020-12-13T12:07:12.970430",
     "status": "completed"
    },
    "tags": []
   },
   "outputs": [
    {
     "data": {
      "text/html": [
       "<div>\n",
       "<style scoped>\n",
       "    .dataframe tbody tr th:only-of-type {\n",
       "        vertical-align: middle;\n",
       "    }\n",
       "\n",
       "    .dataframe tbody tr th {\n",
       "        vertical-align: top;\n",
       "    }\n",
       "\n",
       "    .dataframe thead th {\n",
       "        text-align: right;\n",
       "    }\n",
       "</style>\n",
       "<table border=\"1\" class=\"dataframe\">\n",
       "  <thead>\n",
       "    <tr style=\"text-align: right;\">\n",
       "      <th></th>\n",
       "      <th>Country/Region</th>\n",
       "      <th>Cases</th>\n",
       "      <th>Deaths</th>\n",
       "      <th>PCases</th>\n",
       "      <th>PDeaths</th>\n",
       "      <th>Cases (+)</th>\n",
       "      <th>Deaths (+)</th>\n",
       "      <th>Fatality Rate</th>\n",
       "      <th>Continent</th>\n",
       "    </tr>\n",
       "  </thead>\n",
       "  <tbody>\n",
       "    <tr>\n",
       "      <th>0</th>\n",
       "      <td>US</td>\n",
       "      <td>16062299</td>\n",
       "      <td>297818</td>\n",
       "      <td>15842789</td>\n",
       "      <td>295450</td>\n",
       "      <td>219510</td>\n",
       "      <td>2368</td>\n",
       "      <td>1.85</td>\n",
       "      <td>North America</td>\n",
       "    </tr>\n",
       "    <tr>\n",
       "      <th>1</th>\n",
       "      <td>India</td>\n",
       "      <td>9857029</td>\n",
       "      <td>143019</td>\n",
       "      <td>9826775</td>\n",
       "      <td>142628</td>\n",
       "      <td>30254</td>\n",
       "      <td>391</td>\n",
       "      <td>1.45</td>\n",
       "      <td>Asia</td>\n",
       "    </tr>\n",
       "    <tr>\n",
       "      <th>2</th>\n",
       "      <td>Brazil</td>\n",
       "      <td>6880127</td>\n",
       "      <td>181123</td>\n",
       "      <td>6836227</td>\n",
       "      <td>180437</td>\n",
       "      <td>43900</td>\n",
       "      <td>686</td>\n",
       "      <td>2.63</td>\n",
       "      <td>South America</td>\n",
       "    </tr>\n",
       "    <tr>\n",
       "      <th>3</th>\n",
       "      <td>Russia</td>\n",
       "      <td>2602048</td>\n",
       "      <td>45923</td>\n",
       "      <td>2574319</td>\n",
       "      <td>45370</td>\n",
       "      <td>27729</td>\n",
       "      <td>553</td>\n",
       "      <td>1.76</td>\n",
       "      <td>Europe</td>\n",
       "    </tr>\n",
       "    <tr>\n",
       "      <th>4</th>\n",
       "      <td>France</td>\n",
       "      <td>2405255</td>\n",
       "      <td>57671</td>\n",
       "      <td>2405210</td>\n",
       "      <td>57671</td>\n",
       "      <td>45</td>\n",
       "      <td>0</td>\n",
       "      <td>2.40</td>\n",
       "      <td>Europe</td>\n",
       "    </tr>\n",
       "  </tbody>\n",
       "</table>\n",
       "</div>"
      ],
      "text/plain": [
       "  Country/Region     Cases  Deaths    PCases  PDeaths  Cases (+)  Deaths (+)  \\\n",
       "0             US  16062299  297818  15842789   295450     219510        2368   \n",
       "1          India   9857029  143019   9826775   142628      30254         391   \n",
       "2         Brazil   6880127  181123   6836227   180437      43900         686   \n",
       "3         Russia   2602048   45923   2574319    45370      27729         553   \n",
       "4         France   2405255   57671   2405210    57671         45           0   \n",
       "\n",
       "   Fatality Rate      Continent  \n",
       "0           1.85  North America  \n",
       "1           1.45           Asia  \n",
       "2           2.63  South America  \n",
       "3           1.76         Europe  \n",
       "4           2.40         Europe  "
      ]
     },
     "execution_count": 13,
     "metadata": {},
     "output_type": "execute_result"
    }
   ],
   "source": [
    "#hide\n",
    "for c in 'Cases, Deaths'.split(', '):\n",
    "    df_table[f'{c} (+)'] = (df_table[c] - df_table[f'P{c}']).clip(0)\n",
    "    #Clip ça veut dire, les chiffres negatif sont interdit\n",
    "df_table['Fatality Rate'] = (100* df_table['Deaths']/ df_table['Cases']).round(2)\n",
    "df_table['Continent'] = df_table['Country/Region'].map(mapping['map.continent'])\n",
    "df_table.head(5)"
   ]
  },
  {
   "cell_type": "code",
   "execution_count": 14,
   "metadata": {
    "execution": {
     "iopub.execute_input": "2020-12-13T12:07:13.080239Z",
     "iopub.status.busy": "2020-12-13T12:07:13.079657Z",
     "iopub.status.idle": "2020-12-13T12:07:13.081390Z",
     "shell.execute_reply": "2020-12-13T12:07:13.081850Z"
    },
    "papermill": {
     "duration": 0.035267,
     "end_time": "2020-12-13T12:07:13.081961",
     "exception": false,
     "start_time": "2020-12-13T12:07:13.046694",
     "status": "completed"
    },
    "tags": []
   },
   "outputs": [],
   "source": [
    "#hide\n",
    "#delete problematic countries from table\n",
    "df_table = df_table[~df_table['Country/Region'].isin(['Cape Verde', 'Cruise Ship', 'Kosovo'])]"
   ]
  },
  {
   "cell_type": "code",
   "execution_count": 15,
   "metadata": {
    "execution": {
     "iopub.execute_input": "2020-12-13T12:07:13.141731Z",
     "iopub.status.busy": "2020-12-13T12:07:13.140457Z",
     "iopub.status.idle": "2020-12-13T12:07:13.159106Z",
     "shell.execute_reply": "2020-12-13T12:07:13.158200Z"
    },
    "papermill": {
     "duration": 0.051516,
     "end_time": "2020-12-13T12:07:13.159211",
     "exception": false,
     "start_time": "2020-12-13T12:07:13.107695",
     "status": "completed"
    },
    "tags": []
   },
   "outputs": [
    {
     "data": {
      "text/html": [
       "<div>\n",
       "<style scoped>\n",
       "    .dataframe tbody tr th:only-of-type {\n",
       "        vertical-align: middle;\n",
       "    }\n",
       "\n",
       "    .dataframe tbody tr th {\n",
       "        vertical-align: top;\n",
       "    }\n",
       "\n",
       "    .dataframe thead th {\n",
       "        text-align: right;\n",
       "    }\n",
       "</style>\n",
       "<table border=\"1\" class=\"dataframe\">\n",
       "  <thead>\n",
       "    <tr style=\"text-align: right;\">\n",
       "      <th></th>\n",
       "      <th>Country/Region</th>\n",
       "      <th>Cases</th>\n",
       "      <th>Deaths</th>\n",
       "      <th>PCases</th>\n",
       "      <th>PDeaths</th>\n",
       "      <th>Cases (+)</th>\n",
       "      <th>Deaths (+)</th>\n",
       "      <th>Fatality Rate</th>\n",
       "      <th>Continent</th>\n",
       "    </tr>\n",
       "  </thead>\n",
       "  <tbody>\n",
       "    <tr>\n",
       "      <th>0</th>\n",
       "      <td>US</td>\n",
       "      <td>16062299</td>\n",
       "      <td>297818</td>\n",
       "      <td>15842789</td>\n",
       "      <td>295450</td>\n",
       "      <td>219510</td>\n",
       "      <td>2368</td>\n",
       "      <td>1.9</td>\n",
       "      <td>North America</td>\n",
       "    </tr>\n",
       "    <tr>\n",
       "      <th>1</th>\n",
       "      <td>India</td>\n",
       "      <td>9857029</td>\n",
       "      <td>143019</td>\n",
       "      <td>9826775</td>\n",
       "      <td>142628</td>\n",
       "      <td>30254</td>\n",
       "      <td>391</td>\n",
       "      <td>1.5</td>\n",
       "      <td>Asia</td>\n",
       "    </tr>\n",
       "    <tr>\n",
       "      <th>2</th>\n",
       "      <td>Brazil</td>\n",
       "      <td>6880127</td>\n",
       "      <td>181123</td>\n",
       "      <td>6836227</td>\n",
       "      <td>180437</td>\n",
       "      <td>43900</td>\n",
       "      <td>686</td>\n",
       "      <td>2.6</td>\n",
       "      <td>South America</td>\n",
       "    </tr>\n",
       "    <tr>\n",
       "      <th>3</th>\n",
       "      <td>Russia</td>\n",
       "      <td>2602048</td>\n",
       "      <td>45923</td>\n",
       "      <td>2574319</td>\n",
       "      <td>45370</td>\n",
       "      <td>27729</td>\n",
       "      <td>553</td>\n",
       "      <td>1.8</td>\n",
       "      <td>Europe</td>\n",
       "    </tr>\n",
       "    <tr>\n",
       "      <th>4</th>\n",
       "      <td>France</td>\n",
       "      <td>2405255</td>\n",
       "      <td>57671</td>\n",
       "      <td>2405210</td>\n",
       "      <td>57671</td>\n",
       "      <td>45</td>\n",
       "      <td>0</td>\n",
       "      <td>2.4</td>\n",
       "      <td>Europe</td>\n",
       "    </tr>\n",
       "  </tbody>\n",
       "</table>\n",
       "</div>"
      ],
      "text/plain": [
       "  Country/Region     Cases  Deaths    PCases  PDeaths  Cases (+)  Deaths (+)  \\\n",
       "0             US  16062299  297818  15842789   295450     219510        2368   \n",
       "1          India   9857029  143019   9826775   142628      30254         391   \n",
       "2         Brazil   6880127  181123   6836227   180437      43900         686   \n",
       "3         Russia   2602048   45923   2574319    45370      27729         553   \n",
       "4         France   2405255   57671   2405210    57671         45           0   \n",
       "\n",
       "   Fatality Rate      Continent  \n",
       "0            1.9  North America  \n",
       "1            1.5           Asia  \n",
       "2            2.6  South America  \n",
       "3            1.8         Europe  \n",
       "4            2.4         Europe  "
      ]
     },
     "execution_count": 15,
     "metadata": {},
     "output_type": "execute_result"
    }
   ],
   "source": [
    "#hide\n",
    "df_table = (pd.DataFrame(dict(Cases=dfc_cases, Deaths=dfc_deaths, PCases=dfp_cases, PDeaths=dfp_deaths))\n",
    "             .sort_values(by=['Cases', 'Deaths'], ascending=[False, False])\n",
    "             .reset_index())\n",
    "df_table.rename(columns={'index': 'Country/Region'}, inplace=True)\n",
    "for c in 'Cases, Deaths'.split(', '):\n",
    "    df_table[f'{c} (+)'] = (df_table[c] - df_table[f'P{c}']).clip(0)  # DATA BUG\n",
    "df_table['Fatality Rate'] = (100 * df_table['Deaths'] / df_table['Cases']).round(1)\n",
    "df_table['Continent'] = df_table['Country/Region'].map(mapping['map.continent'])\n",
    "df_table.head(5)"
   ]
  },
  {
   "cell_type": "code",
   "execution_count": 16,
   "metadata": {
    "execution": {
     "iopub.execute_input": "2020-12-13T12:07:13.217266Z",
     "iopub.status.busy": "2020-12-13T12:07:13.216798Z",
     "iopub.status.idle": "2020-12-13T12:07:13.220608Z",
     "shell.execute_reply": "2020-12-13T12:07:13.221048Z"
    },
    "papermill": {
     "duration": 0.036229,
     "end_time": "2020-12-13T12:07:13.221173",
     "exception": false,
     "start_time": "2020-12-13T12:07:13.184944",
     "status": "completed"
    },
    "tags": []
   },
   "outputs": [],
   "source": [
    "#hide\n",
    "#delete problematic countries from table\n",
    "df_table = df_table[~df_table['Country/Region'].isin(['Cape Verde', 'Cruise Ship', 'Kosovo'])]"
   ]
  },
  {
   "cell_type": "code",
   "execution_count": 17,
   "metadata": {
    "execution": {
     "iopub.execute_input": "2020-12-13T12:07:13.288805Z",
     "iopub.status.busy": "2020-12-13T12:07:13.288331Z",
     "iopub.status.idle": "2020-12-13T12:07:13.295684Z",
     "shell.execute_reply": "2020-12-13T12:07:13.295218Z"
    },
    "papermill": {
     "duration": 0.048047,
     "end_time": "2020-12-13T12:07:13.295785",
     "exception": false,
     "start_time": "2020-12-13T12:07:13.247738",
     "status": "completed"
    },
    "tags": []
   },
   "outputs": [],
   "source": [
    "#hide\n",
    "metrics = [df_table.columns[index] for index in [1,2,5,6]]\n",
    "# s_china = df_table[df_table['Country/Region'].eq('China')][metrics].sum().add_prefix('China ')\n",
    "s_us = df_table[df_table['Country/Region'].eq('US')][metrics].sum().add_prefix('US ')\n",
    "s_eu = df_table[df_table['Continent'].eq('Europe')][metrics].sum().add_prefix('EU ')\n",
    "s_ind = df_table[df_table['Country/Region'].eq('India')][metrics].sum().add_prefix('India ')\n",
    "summary = {'updated': pd.to_datetime(dt_today), 'since': pd.to_datetime(dt_yday)}\n",
    "summary = {'updated': pd.to_datetime(dt_today), 'since': pd.to_datetime(dt_yday)}\n",
    "summary = {**summary, **df_table[metrics].sum(), **s_ind, **s_us, **s_eu}"
   ]
  },
  {
   "cell_type": "code",
   "execution_count": 18,
   "metadata": {
    "execution": {
     "iopub.execute_input": "2020-12-13T12:07:13.352716Z",
     "iopub.status.busy": "2020-12-13T12:07:13.352240Z",
     "iopub.status.idle": "2020-12-13T12:07:13.362855Z",
     "shell.execute_reply": "2020-12-13T12:07:13.362455Z"
    },
    "papermill": {
     "duration": 0.04175,
     "end_time": "2020-12-13T12:07:13.362954",
     "exception": false,
     "start_time": "2020-12-13T12:07:13.321204",
     "status": "completed"
    },
    "tags": []
   },
   "outputs": [],
   "source": [
    "#hide\n",
    "dft_ct_new_cases = dft_cases.groupby(COL_REGION)[dt_cols].sum().diff(axis=1).fillna(0).astype(int)"
   ]
  },
  {
   "cell_type": "code",
   "execution_count": 19,
   "metadata": {
    "execution": {
     "iopub.execute_input": "2020-12-13T12:07:13.419600Z",
     "iopub.status.busy": "2020-12-13T12:07:13.419042Z",
     "iopub.status.idle": "2020-12-13T12:07:13.421219Z",
     "shell.execute_reply": "2020-12-13T12:07:13.420730Z"
    },
    "papermill": {
     "duration": 0.033246,
     "end_time": "2020-12-13T12:07:13.421335",
     "exception": false,
     "start_time": "2020-12-13T12:07:13.388089",
     "status": "completed"
    },
    "tags": []
   },
   "outputs": [],
   "source": [
    "#hide\n",
    "everydaycases = dft_ct_new_cases.cumsum(axis=1)"
   ]
  },
  {
   "cell_type": "code",
   "execution_count": 20,
   "metadata": {
    "execution": {
     "iopub.execute_input": "2020-12-13T12:07:13.482203Z",
     "iopub.status.busy": "2020-12-13T12:07:13.481663Z",
     "iopub.status.idle": "2020-12-13T12:07:14.344476Z",
     "shell.execute_reply": "2020-12-13T12:07:14.343596Z"
    },
    "papermill": {
     "duration": 0.895558,
     "end_time": "2020-12-13T12:07:14.344686",
     "exception": false,
     "start_time": "2020-12-13T12:07:13.449128",
     "status": "completed"
    },
    "tags": []
   },
   "outputs": [],
   "source": [
    "#hide\n",
    "import pandas as pd\n",
    "import matplotlib.pyplot as plt\n",
    "import matplotlib.ticker as ticker\n",
    "import matplotlib.animation as animation\n",
    "from IPython.display import HTML"
   ]
  },
  {
   "cell_type": "code",
   "execution_count": 21,
   "metadata": {
    "execution": {
     "iopub.execute_input": "2020-12-13T12:07:14.409590Z",
     "iopub.status.busy": "2020-12-13T12:07:14.409049Z",
     "iopub.status.idle": "2020-12-13T12:07:14.415690Z",
     "shell.execute_reply": "2020-12-13T12:07:14.414733Z"
    },
    "papermill": {
     "duration": 0.040216,
     "end_time": "2020-12-13T12:07:14.415816",
     "exception": false,
     "start_time": "2020-12-13T12:07:14.375600",
     "status": "completed"
    },
    "tags": []
   },
   "outputs": [],
   "source": [
    "#hide\n",
    "t = everydaycases.stack()"
   ]
  },
  {
   "cell_type": "code",
   "execution_count": 22,
   "metadata": {
    "execution": {
     "iopub.execute_input": "2020-12-13T12:07:14.476926Z",
     "iopub.status.busy": "2020-12-13T12:07:14.475959Z",
     "iopub.status.idle": "2020-12-13T12:07:14.481952Z",
     "shell.execute_reply": "2020-12-13T12:07:14.481463Z"
    },
    "papermill": {
     "duration": 0.037852,
     "end_time": "2020-12-13T12:07:14.482068",
     "exception": false,
     "start_time": "2020-12-13T12:07:14.444216",
     "status": "completed"
    },
    "tags": []
   },
   "outputs": [],
   "source": [
    "#hide\n",
    "g = t.reset_index(['Country/Region'])"
   ]
  },
  {
   "cell_type": "code",
   "execution_count": 23,
   "metadata": {
    "execution": {
     "iopub.execute_input": "2020-12-13T12:07:14.547788Z",
     "iopub.status.busy": "2020-12-13T12:07:14.547167Z",
     "iopub.status.idle": "2020-12-13T12:07:14.549987Z",
     "shell.execute_reply": "2020-12-13T12:07:14.549486Z"
    },
    "papermill": {
     "duration": 0.038013,
     "end_time": "2020-12-13T12:07:14.550103",
     "exception": false,
     "start_time": "2020-12-13T12:07:14.512090",
     "status": "completed"
    },
    "tags": []
   },
   "outputs": [],
   "source": [
    "#hide\n",
    "g.index.name = 'date'"
   ]
  },
  {
   "cell_type": "code",
   "execution_count": 24,
   "metadata": {
    "execution": {
     "iopub.execute_input": "2020-12-13T12:07:14.607694Z",
     "iopub.status.busy": "2020-12-13T12:07:14.607189Z",
     "iopub.status.idle": "2020-12-13T12:07:14.609049Z",
     "shell.execute_reply": "2020-12-13T12:07:14.609530Z"
    },
    "papermill": {
     "duration": 0.032326,
     "end_time": "2020-12-13T12:07:14.609662",
     "exception": false,
     "start_time": "2020-12-13T12:07:14.577336",
     "status": "completed"
    },
    "tags": []
   },
   "outputs": [],
   "source": [
    "# #hide\n",
    "# g = g.reset_index(['date'])"
   ]
  },
  {
   "cell_type": "code",
   "execution_count": 25,
   "metadata": {
    "execution": {
     "iopub.execute_input": "2020-12-13T12:07:14.667103Z",
     "iopub.status.busy": "2020-12-13T12:07:14.666627Z",
     "iopub.status.idle": "2020-12-13T12:07:14.669008Z",
     "shell.execute_reply": "2020-12-13T12:07:14.669461Z"
    },
    "papermill": {
     "duration": 0.033753,
     "end_time": "2020-12-13T12:07:14.669574",
     "exception": false,
     "start_time": "2020-12-13T12:07:14.635821",
     "status": "completed"
    },
    "tags": []
   },
   "outputs": [],
   "source": [
    "#hide\n",
    "# g.head()"
   ]
  },
  {
   "cell_type": "code",
   "execution_count": 26,
   "metadata": {
    "execution": {
     "iopub.execute_input": "2020-12-13T12:07:14.727681Z",
     "iopub.status.busy": "2020-12-13T12:07:14.727136Z",
     "iopub.status.idle": "2020-12-13T12:07:14.729918Z",
     "shell.execute_reply": "2020-12-13T12:07:14.730374Z"
    },
    "papermill": {
     "duration": 0.033633,
     "end_time": "2020-12-13T12:07:14.730491",
     "exception": false,
     "start_time": "2020-12-13T12:07:14.696858",
     "status": "completed"
    },
    "tags": []
   },
   "outputs": [],
   "source": [
    "#hide\n",
    "# g.columns = ['date','country','cases']"
   ]
  },
  {
   "cell_type": "code",
   "execution_count": 27,
   "metadata": {
    "execution": {
     "iopub.execute_input": "2020-12-13T12:07:14.784608Z",
     "iopub.status.busy": "2020-12-13T12:07:14.784130Z",
     "iopub.status.idle": "2020-12-13T12:07:14.786500Z",
     "shell.execute_reply": "2020-12-13T12:07:14.786975Z"
    },
    "papermill": {
     "duration": 0.030798,
     "end_time": "2020-12-13T12:07:14.787116",
     "exception": false,
     "start_time": "2020-12-13T12:07:14.756318",
     "status": "completed"
    },
    "tags": []
   },
   "outputs": [],
   "source": [
    "#hide\n",
    "# g['continent'] = g.country"
   ]
  },
  {
   "cell_type": "code",
   "execution_count": 28,
   "metadata": {
    "execution": {
     "iopub.execute_input": "2020-12-13T12:07:14.844411Z",
     "iopub.status.busy": "2020-12-13T12:07:14.843820Z",
     "iopub.status.idle": "2020-12-13T12:07:14.846261Z",
     "shell.execute_reply": "2020-12-13T12:07:14.845796Z"
    },
    "papermill": {
     "duration": 0.0321,
     "end_time": "2020-12-13T12:07:14.846377",
     "exception": false,
     "start_time": "2020-12-13T12:07:14.814277",
     "status": "completed"
    },
    "tags": []
   },
   "outputs": [],
   "source": [
    "#hide\n",
    "# cols = list(g.columns.values)"
   ]
  },
  {
   "cell_type": "code",
   "execution_count": 29,
   "metadata": {
    "execution": {
     "iopub.execute_input": "2020-12-13T12:07:14.904170Z",
     "iopub.status.busy": "2020-12-13T12:07:14.903579Z",
     "iopub.status.idle": "2020-12-13T12:07:14.905048Z",
     "shell.execute_reply": "2020-12-13T12:07:14.905471Z"
    },
    "papermill": {
     "duration": 0.032782,
     "end_time": "2020-12-13T12:07:14.905611",
     "exception": false,
     "start_time": "2020-12-13T12:07:14.872829",
     "status": "completed"
    },
    "tags": []
   },
   "outputs": [],
   "source": [
    "#hide\n",
    "# cols.insert(0, cols.pop())"
   ]
  },
  {
   "cell_type": "code",
   "execution_count": 30,
   "metadata": {
    "execution": {
     "iopub.execute_input": "2020-12-13T12:07:14.963319Z",
     "iopub.status.busy": "2020-12-13T12:07:14.962845Z",
     "iopub.status.idle": "2020-12-13T12:07:14.965471Z",
     "shell.execute_reply": "2020-12-13T12:07:14.965068Z"
    },
    "papermill": {
     "duration": 0.032647,
     "end_time": "2020-12-13T12:07:14.965569",
     "exception": false,
     "start_time": "2020-12-13T12:07:14.932922",
     "status": "completed"
    },
    "tags": []
   },
   "outputs": [],
   "source": [
    "#hide\n",
    "# g = g[cols]"
   ]
  },
  {
   "cell_type": "code",
   "execution_count": 31,
   "metadata": {
    "execution": {
     "iopub.execute_input": "2020-12-13T12:07:15.018529Z",
     "iopub.status.busy": "2020-12-13T12:07:15.018056Z",
     "iopub.status.idle": "2020-12-13T12:07:15.020480Z",
     "shell.execute_reply": "2020-12-13T12:07:15.020065Z"
    },
    "papermill": {
     "duration": 0.030261,
     "end_time": "2020-12-13T12:07:15.020591",
     "exception": false,
     "start_time": "2020-12-13T12:07:14.990330",
     "status": "completed"
    },
    "tags": []
   },
   "outputs": [],
   "source": [
    "#hide\n",
    "# g['continent'] = g['continent'].map(mapping['map.continent'])"
   ]
  },
  {
   "cell_type": "code",
   "execution_count": 32,
   "metadata": {
    "execution": {
     "iopub.execute_input": "2020-12-13T12:07:15.077282Z",
     "iopub.status.busy": "2020-12-13T12:07:15.076444Z",
     "iopub.status.idle": "2020-12-13T12:07:15.078161Z",
     "shell.execute_reply": "2020-12-13T12:07:15.078827Z"
    },
    "papermill": {
     "duration": 0.033615,
     "end_time": "2020-12-13T12:07:15.079012",
     "exception": false,
     "start_time": "2020-12-13T12:07:15.045397",
     "status": "completed"
    },
    "tags": []
   },
   "outputs": [],
   "source": [
    "#hide\n",
    "# g.head()"
   ]
  },
  {
   "cell_type": "code",
   "execution_count": 33,
   "metadata": {
    "execution": {
     "iopub.execute_input": "2020-12-13T12:07:15.139715Z",
     "iopub.status.busy": "2020-12-13T12:07:15.139212Z",
     "iopub.status.idle": "2020-12-13T12:07:15.141666Z",
     "shell.execute_reply": "2020-12-13T12:07:15.142217Z"
    },
    "papermill": {
     "duration": 0.033166,
     "end_time": "2020-12-13T12:07:15.142350",
     "exception": false,
     "start_time": "2020-12-13T12:07:15.109184",
     "status": "completed"
    },
    "tags": []
   },
   "outputs": [],
   "source": [
    "# hide\n",
    "# g['date'] = g['date'].astype('datetime64[ns]')"
   ]
  },
  {
   "cell_type": "code",
   "execution_count": 34,
   "metadata": {
    "execution": {
     "iopub.execute_input": "2020-12-13T12:07:15.202169Z",
     "iopub.status.busy": "2020-12-13T12:07:15.201142Z",
     "iopub.status.idle": "2020-12-13T12:07:15.203240Z",
     "shell.execute_reply": "2020-12-13T12:07:15.204105Z"
    },
    "papermill": {
     "duration": 0.03505,
     "end_time": "2020-12-13T12:07:15.204330",
     "exception": false,
     "start_time": "2020-12-13T12:07:15.169280",
     "status": "completed"
    },
    "tags": []
   },
   "outputs": [],
   "source": [
    "#hide\n",
    "# g['date'] = g.date.dt.dayofyear"
   ]
  },
  {
   "cell_type": "code",
   "execution_count": 35,
   "metadata": {
    "execution": {
     "iopub.execute_input": "2020-12-13T12:07:15.267233Z",
     "iopub.status.busy": "2020-12-13T12:07:15.266684Z",
     "iopub.status.idle": "2020-12-13T12:07:15.268805Z",
     "shell.execute_reply": "2020-12-13T12:07:15.268345Z"
    },
    "papermill": {
     "duration": 0.034947,
     "end_time": "2020-12-13T12:07:15.268917",
     "exception": false,
     "start_time": "2020-12-13T12:07:15.233970",
     "status": "completed"
    },
    "tags": []
   },
   "outputs": [],
   "source": [
    "#hide\n",
    "# g = g.rename(columns= {'continent':'group','country':'name','cases':'value'})"
   ]
  },
  {
   "cell_type": "code",
   "execution_count": 36,
   "metadata": {
    "execution": {
     "iopub.execute_input": "2020-12-13T12:07:15.327912Z",
     "iopub.status.busy": "2020-12-13T12:07:15.327396Z",
     "iopub.status.idle": "2020-12-13T12:07:15.329792Z",
     "shell.execute_reply": "2020-12-13T12:07:15.329301Z"
    },
    "papermill": {
     "duration": 0.033884,
     "end_time": "2020-12-13T12:07:15.329914",
     "exception": false,
     "start_time": "2020-12-13T12:07:15.296030",
     "status": "completed"
    },
    "tags": []
   },
   "outputs": [],
   "source": [
    "#hide\n",
    "# cols = ['name','group','day','value']"
   ]
  },
  {
   "cell_type": "code",
   "execution_count": 37,
   "metadata": {
    "execution": {
     "iopub.execute_input": "2020-12-13T12:07:15.385773Z",
     "iopub.status.busy": "2020-12-13T12:07:15.384759Z",
     "iopub.status.idle": "2020-12-13T12:07:15.386847Z",
     "shell.execute_reply": "2020-12-13T12:07:15.387386Z"
    },
    "papermill": {
     "duration": 0.032178,
     "end_time": "2020-12-13T12:07:15.387545",
     "exception": false,
     "start_time": "2020-12-13T12:07:15.355367",
     "status": "completed"
    },
    "tags": []
   },
   "outputs": [],
   "source": [
    "#hide\n",
    "# g.rename(columns= {'date':'day'},inplace = True)"
   ]
  },
  {
   "cell_type": "code",
   "execution_count": 38,
   "metadata": {
    "execution": {
     "iopub.execute_input": "2020-12-13T12:07:15.445189Z",
     "iopub.status.busy": "2020-12-13T12:07:15.444652Z",
     "iopub.status.idle": "2020-12-13T12:07:15.447490Z",
     "shell.execute_reply": "2020-12-13T12:07:15.447953Z"
    },
    "papermill": {
     "duration": 0.033533,
     "end_time": "2020-12-13T12:07:15.448065",
     "exception": false,
     "start_time": "2020-12-13T12:07:15.414532",
     "status": "completed"
    },
    "tags": []
   },
   "outputs": [],
   "source": [
    "#hide\n",
    "# g = g[cols]"
   ]
  },
  {
   "cell_type": "code",
   "execution_count": 39,
   "metadata": {
    "execution": {
     "iopub.execute_input": "2020-12-13T12:07:15.500295Z",
     "iopub.status.busy": "2020-12-13T12:07:15.499713Z",
     "iopub.status.idle": "2020-12-13T12:07:15.502016Z",
     "shell.execute_reply": "2020-12-13T12:07:15.502454Z"
    },
    "papermill": {
     "duration": 0.030041,
     "end_time": "2020-12-13T12:07:15.502574",
     "exception": false,
     "start_time": "2020-12-13T12:07:15.472533",
     "status": "completed"
    },
    "tags": []
   },
   "outputs": [],
   "source": [
    "# #hide\n",
    "# g = g[g.group.notna()]"
   ]
  },
  {
   "cell_type": "code",
   "execution_count": 40,
   "metadata": {
    "execution": {
     "iopub.execute_input": "2020-12-13T12:07:15.560602Z",
     "iopub.status.busy": "2020-12-13T12:07:15.560053Z",
     "iopub.status.idle": "2020-12-13T12:07:15.561897Z",
     "shell.execute_reply": "2020-12-13T12:07:15.562379Z"
    },
    "papermill": {
     "duration": 0.03181,
     "end_time": "2020-12-13T12:07:15.562511",
     "exception": false,
     "start_time": "2020-12-13T12:07:15.530701",
     "status": "completed"
    },
    "tags": []
   },
   "outputs": [],
   "source": [
    "# #hide\n",
    "# colors = dict(zip(\n",
    "#     [\"Oceania\", \"Europe\", \"Asia\", \"South America\", \"Middle East\", \"North America\", \"Africa\"],\n",
    "#     [\"#adb0ff\", \"#ffb3ff\", \"#90d595\", \"#e48381\", \"#aafbff\", \"#f7bb5f\", \"#eafb50\"]\n",
    "# ))\n",
    "# group_lk = g.set_index('name')['group'].to_dict()"
   ]
  },
  {
   "cell_type": "code",
   "execution_count": null,
   "metadata": {
    "papermill": {
     "duration": 0.025552,
     "end_time": "2020-12-13T12:07:15.614964",
     "exception": false,
     "start_time": "2020-12-13T12:07:15.589412",
     "status": "completed"
    },
    "tags": []
   },
   "outputs": [],
   "source": []
  },
  {
   "cell_type": "code",
   "execution_count": 41,
   "metadata": {
    "execution": {
     "iopub.execute_input": "2020-12-13T12:07:15.673240Z",
     "iopub.status.busy": "2020-12-13T12:07:15.672643Z",
     "iopub.status.idle": "2020-12-13T12:07:15.675216Z",
     "shell.execute_reply": "2020-12-13T12:07:15.675678Z"
    },
    "papermill": {
     "duration": 0.033815,
     "end_time": "2020-12-13T12:07:15.675811",
     "exception": false,
     "start_time": "2020-12-13T12:07:15.641996",
     "status": "completed"
    },
    "tags": []
   },
   "outputs": [],
   "source": [
    "# #hide\n",
    "# fig, ax = plt.subplots(figsize=(15, 8))\n",
    "\n",
    "# def draw_barchart(current_day):\n",
    "#     dff = g[g['day'].eq(current_day)].sort_values(by='value', ascending=True).tail(10)\n",
    "#     ax.clear()\n",
    "#     ax.barh(dff['name'], dff['value'], color=[colors[group_lk[x]] for x in dff['name']])\n",
    "#     dx = dff['value'].max() / 200\n",
    "    \n",
    "#     for i, (value, name) in enumerate(zip(dff['value'], dff['name'])):\n",
    "#         ax.text(value-dx, i,     name,           size=14, weight=600, ha='right', va='bottom')\n",
    "#         ax.text(value-dx, i-.25, group_lk[name], size=10, color='#444444', ha='right', va='baseline')\n",
    "#         ax.text(value+dx, i,     f'{value:,.0f}',  size=14, ha='left',  va='center')\n",
    "#     ax.text(1, 0.4, current_day, transform=ax.transAxes, color='#777777', size=46, ha='right', weight=800)\n",
    "#     ax.text(0, 1.06, 'Population (thousands)', transform=ax.transAxes, size=12, color='#777777')\n",
    "#     ax.xaxis.set_major_formatter(ticker.StrMethodFormatter('{x:,.0f}'))\n",
    "#     ax.xaxis.set_ticks_position('top')\n",
    "#     ax.tick_params(axis='x', colors='#777777', labelsize=12)\n",
    "#     ax.set_yticks([])\n",
    "#     ax.margins(0, 0.01)\n",
    "#     ax.grid(which='major', axis='x', linestyle='-')\n",
    "#     ax.set_axisbelow(True)\n",
    "    \n",
    "#     ax.text(0, 1.15, 'Coronavirus',\n",
    "#             transform=ax.transAxes, size=24, weight=600, ha='left', va='top')\n",
    "# #     ax.text(1, 0, 'by @pratapvardhan; credit @jburnmurdoch', transform=ax.transAxes, color='#777777', ha='right',\n",
    "# #             bbox=dict(facecolor='white', alpha=0.8, edgecolor='white'))\n",
    "#     plt.box(False)"
   ]
  },
  {
   "cell_type": "code",
   "execution_count": 42,
   "metadata": {
    "execution": {
     "iopub.execute_input": "2020-12-13T12:07:15.734752Z",
     "iopub.status.busy": "2020-12-13T12:07:15.734161Z",
     "iopub.status.idle": "2020-12-13T12:07:15.737031Z",
     "shell.execute_reply": "2020-12-13T12:07:15.737548Z"
    },
    "papermill": {
     "duration": 0.033889,
     "end_time": "2020-12-13T12:07:15.737676",
     "exception": false,
     "start_time": "2020-12-13T12:07:15.703787",
     "status": "completed"
    },
    "tags": []
   },
   "outputs": [],
   "source": [
    "# #hide_input\n",
    "# fig, ax = plt.subplots(figsize=(15, 8))\n",
    "# animator = animation.FuncAnimation(fig, draw_barchart, frames=range(g.day.values.min(), g.day.values.max()))\n",
    "# HTML(animator.to_jshtml())\n",
    "# # or use animator.to_html5_video() or animator.save() "
   ]
  },
  {
   "cell_type": "code",
   "execution_count": null,
   "metadata": {
    "papermill": {
     "duration": 0.026649,
     "end_time": "2020-12-13T12:07:15.791048",
     "exception": false,
     "start_time": "2020-12-13T12:07:15.764399",
     "status": "completed"
    },
    "tags": []
   },
   "outputs": [],
   "source": []
  },
  {
   "cell_type": "code",
   "execution_count": null,
   "metadata": {
    "papermill": {
     "duration": 0.028654,
     "end_time": "2020-12-13T12:07:15.847774",
     "exception": false,
     "start_time": "2020-12-13T12:07:15.819120",
     "status": "completed"
    },
    "tags": []
   },
   "outputs": [],
   "source": []
  },
  {
   "cell_type": "code",
   "execution_count": null,
   "metadata": {
    "papermill": {
     "duration": 0.02781,
     "end_time": "2020-12-13T12:07:15.902847",
     "exception": false,
     "start_time": "2020-12-13T12:07:15.875037",
     "status": "completed"
    },
    "tags": []
   },
   "outputs": [],
   "source": []
  }
 ],
 "metadata": {
  "kernelspec": {
   "display_name": "Python 3",
   "language": "python",
   "name": "python3"
  },
  "language_info": {
   "codemirror_mode": {
    "name": "ipython",
    "version": 3
   },
   "file_extension": ".py",
   "mimetype": "text/x-python",
   "name": "python",
   "nbconvert_exporter": "python",
   "pygments_lexer": "ipython3",
   "version": "3.6.12"
  },
  "papermill": {
   "duration": 5.937673,
   "end_time": "2020-12-13T12:07:16.238592",
   "environment_variables": {},
   "exception": null,
   "input_path": "2020-03-21-covid19exp.ipynb",
   "output_path": "2020-03-21-covid19exp.ipynb",
   "parameters": {},
   "start_time": "2020-12-13T12:07:10.300919",
   "version": "2.0.0"
  }
 },
 "nbformat": 4,
 "nbformat_minor": 4
}