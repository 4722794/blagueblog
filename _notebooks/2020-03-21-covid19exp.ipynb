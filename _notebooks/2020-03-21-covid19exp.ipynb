{
 "cells": [
  {
   "cell_type": "markdown",
   "id": "muslim-click",
   "metadata": {
    "papermill": {
     "duration": 0.033158,
     "end_time": "2022-02-04T12:10:46.626656",
     "exception": false,
     "start_time": "2022-02-04T12:10:46.593498",
     "status": "completed"
    },
    "tags": []
   },
   "source": [
    "# COVID-19 Case Race\n",
    "> A race chart to see rising cases around the world\n",
    "\n",
    "- author: Hargun Oberoi\n",
    "- image: images/covid-overview.png\n",
    "- hide: false\n",
    "- badges: false"
   ]
  },
  {
   "cell_type": "code",
   "execution_count": 1,
   "id": "proof-material",
   "metadata": {
    "execution": {
     "iopub.execute_input": "2022-02-04T12:10:46.702279Z",
     "iopub.status.busy": "2022-02-04T12:10:46.701586Z",
     "iopub.status.idle": "2022-02-04T12:10:47.070235Z",
     "shell.execute_reply": "2022-02-04T12:10:47.069648Z"
    },
    "papermill": {
     "duration": 0.413972,
     "end_time": "2022-02-04T12:10:47.070389",
     "exception": false,
     "start_time": "2022-02-04T12:10:46.656417",
     "status": "completed"
    },
    "tags": []
   },
   "outputs": [],
   "source": [
    "#hide\n",
    "import numpy as np\n",
    "import pandas as pd\n",
    "from jinja2 import Template\n",
    "from IPython.display import HTML"
   ]
  },
  {
   "cell_type": "code",
   "execution_count": 2,
   "id": "developed-terminology",
   "metadata": {
    "execution": {
     "iopub.execute_input": "2022-02-04T12:10:47.143808Z",
     "iopub.status.busy": "2022-02-04T12:10:47.142781Z",
     "iopub.status.idle": "2022-02-04T12:10:47.144685Z",
     "shell.execute_reply": "2022-02-04T12:10:47.145206Z"
    },
    "papermill": {
     "duration": 0.040711,
     "end_time": "2022-02-04T12:10:47.145317",
     "exception": false,
     "start_time": "2022-02-04T12:10:47.104606",
     "status": "completed"
    },
    "tags": []
   },
   "outputs": [],
   "source": [
    "#hide\n",
    "\n",
    "# FETCH\n",
    "base_url = 'https://raw.githubusercontent.com/pratapvardhan/notebooks/master/covid19/'\n",
    "paths = {\n",
    "    'mapping': base_url + 'mapping_countries.csv',\n",
    "    'overview': base_url + 'overview.tpl'\n",
    "}"
   ]
  },
  {
   "cell_type": "code",
   "execution_count": 3,
   "id": "dynamic-saver",
   "metadata": {
    "execution": {
     "iopub.execute_input": "2022-02-04T12:10:47.222547Z",
     "iopub.status.busy": "2022-02-04T12:10:47.220349Z",
     "iopub.status.idle": "2022-02-04T12:10:47.224935Z",
     "shell.execute_reply": "2022-02-04T12:10:47.224274Z"
    },
    "papermill": {
     "duration": 0.049646,
     "end_time": "2022-02-04T12:10:47.225037",
     "exception": false,
     "start_time": "2022-02-04T12:10:47.175391",
     "status": "completed"
    },
    "tags": []
   },
   "outputs": [
    {
     "data": {
      "text/plain": [
       "'https://raw.githubusercontent.com/pratapvardhan/notebooks/master/covid19/mapping_countries.csv'"
      ]
     },
     "execution_count": 3,
     "metadata": {},
     "output_type": "execute_result"
    }
   ],
   "source": [
    "#hide\n",
    "paths['mapping']"
   ]
  },
  {
   "cell_type": "code",
   "execution_count": 4,
   "id": "urban-software",
   "metadata": {
    "execution": {
     "iopub.execute_input": "2022-02-04T12:10:47.292906Z",
     "iopub.status.busy": "2022-02-04T12:10:47.292279Z",
     "iopub.status.idle": "2022-02-04T12:10:47.294878Z",
     "shell.execute_reply": "2022-02-04T12:10:47.295326Z"
    },
    "papermill": {
     "duration": 0.039524,
     "end_time": "2022-02-04T12:10:47.295437",
     "exception": false,
     "start_time": "2022-02-04T12:10:47.255913",
     "status": "completed"
    },
    "tags": []
   },
   "outputs": [],
   "source": [
    "#hide\n",
    "def get_mappings(url):\n",
    "    df = pd.read_csv(url)\n",
    "    return {\n",
    "        'df': df,\n",
    "        'replace.country': dict(df.dropna(subset=['Name']).set_index('Country')['Name']),\n",
    "        'map.continent': dict(df.set_index('Name')['Continent'])\n",
    "    }"
   ]
  },
  {
   "cell_type": "code",
   "execution_count": 5,
   "id": "intimate-machinery",
   "metadata": {
    "execution": {
     "iopub.execute_input": "2022-02-04T12:10:47.362634Z",
     "iopub.status.busy": "2022-02-04T12:10:47.362117Z",
     "iopub.status.idle": "2022-02-04T12:10:47.398364Z",
     "shell.execute_reply": "2022-02-04T12:10:47.398836Z"
    },
    "papermill": {
     "duration": 0.071929,
     "end_time": "2022-02-04T12:10:47.398956",
     "exception": false,
     "start_time": "2022-02-04T12:10:47.327027",
     "status": "completed"
    },
    "tags": []
   },
   "outputs": [],
   "source": [
    "#hide\n",
    "mapping = get_mappings(paths['mapping'])"
   ]
  },
  {
   "cell_type": "code",
   "execution_count": 6,
   "id": "certified-tactics",
   "metadata": {
    "execution": {
     "iopub.execute_input": "2022-02-04T12:10:47.475529Z",
     "iopub.status.busy": "2022-02-04T12:10:47.474974Z",
     "iopub.status.idle": "2022-02-04T12:10:47.478366Z",
     "shell.execute_reply": "2022-02-04T12:10:47.478797Z"
    },
    "papermill": {
     "duration": 0.043332,
     "end_time": "2022-02-04T12:10:47.478922",
     "exception": false,
     "start_time": "2022-02-04T12:10:47.435590",
     "status": "completed"
    },
    "tags": []
   },
   "outputs": [],
   "source": [
    "#hide\n",
    "def get_template(path):\n",
    "    from urllib.parse import urlparse\n",
    "    if bool(urlparse(path).netloc):\n",
    "        from urllib.request import urlopen\n",
    "        return urlopen(path).read().decode('utf8')\n",
    "    return open(path).read()"
   ]
  },
  {
   "cell_type": "code",
   "execution_count": 7,
   "id": "realistic-blast",
   "metadata": {
    "execution": {
     "iopub.execute_input": "2022-02-04T12:10:47.549806Z",
     "iopub.status.busy": "2022-02-04T12:10:47.548525Z",
     "iopub.status.idle": "2022-02-04T12:10:47.550630Z",
     "shell.execute_reply": "2022-02-04T12:10:47.551145Z"
    },
    "papermill": {
     "duration": 0.038732,
     "end_time": "2022-02-04T12:10:47.551264",
     "exception": false,
     "start_time": "2022-02-04T12:10:47.512532",
     "status": "completed"
    },
    "tags": []
   },
   "outputs": [],
   "source": [
    "#hide\n",
    "def get_frame(name):\n",
    "    url = (\n",
    "        'https://raw.githubusercontent.com/CSSEGISandData/COVID-19/master/csse_covid_19_data/'\n",
    "        f'csse_covid_19_time_series/time_series_covid19_{name}_global.csv')\n",
    "    df = pd.read_csv(url)\n",
    "    # rename countries\n",
    "    df['Country/Region'] = df['Country/Region'].replace(mapping['replace.country'])\n",
    "    return df"
   ]
  },
  {
   "cell_type": "code",
   "execution_count": 8,
   "id": "affiliated-characterization",
   "metadata": {
    "execution": {
     "iopub.execute_input": "2022-02-04T12:10:47.620887Z",
     "iopub.status.busy": "2022-02-04T12:10:47.620176Z",
     "iopub.status.idle": "2022-02-04T12:10:47.623943Z",
     "shell.execute_reply": "2022-02-04T12:10:47.623429Z"
    },
    "papermill": {
     "duration": 0.039734,
     "end_time": "2022-02-04T12:10:47.624054",
     "exception": false,
     "start_time": "2022-02-04T12:10:47.584320",
     "status": "completed"
    },
    "tags": []
   },
   "outputs": [],
   "source": [
    "#hide\n",
    "def get_dates(df):\n",
    "    dt_cols = df.columns[~df.columns.isin(['Province/State', 'Country/Region', 'Lat', 'Long'])]\n",
    "    LAST_DATE_I = -1\n",
    "    # sometimes last column may be empty, then go backwards\n",
    "    for i in range(-1, -len(dt_cols), -1):\n",
    "        if not df[dt_cols[i]].fillna(0).eq(0).all():\n",
    "            LAST_DATE_I = i\n",
    "            break\n",
    "    return LAST_DATE_I, dt_cols"
   ]
  },
  {
   "cell_type": "code",
   "execution_count": 9,
   "id": "recent-optimization",
   "metadata": {
    "execution": {
     "iopub.execute_input": "2022-02-04T12:10:47.696132Z",
     "iopub.status.busy": "2022-02-04T12:10:47.693607Z",
     "iopub.status.idle": "2022-02-04T12:10:48.103177Z",
     "shell.execute_reply": "2022-02-04T12:10:48.103605Z"
    },
    "papermill": {
     "duration": 0.447041,
     "end_time": "2022-02-04T12:10:48.103758",
     "exception": false,
     "start_time": "2022-02-04T12:10:47.656717",
     "status": "completed"
    },
    "tags": []
   },
   "outputs": [],
   "source": [
    "#hide\n",
    "COL_REGION = 'Country/Region'\n",
    "# Confirmed, Recovered, Deaths\n",
    "df = get_frame('confirmed')\n",
    "# dft_: timeseries, dfc_: today country agg\n",
    "dft_cases = df\n",
    "dft_deaths = get_frame('deaths')\n",
    "dft_recovered = get_frame('recovered')\n",
    "LAST_DATE_I, dt_cols = get_dates(df)"
   ]
  },
  {
   "cell_type": "code",
   "execution_count": 10,
   "id": "absolute-copper",
   "metadata": {
    "execution": {
     "iopub.execute_input": "2022-02-04T12:10:48.170578Z",
     "iopub.status.busy": "2022-02-04T12:10:48.170061Z",
     "iopub.status.idle": "2022-02-04T12:10:48.173981Z",
     "shell.execute_reply": "2022-02-04T12:10:48.173531Z"
    },
    "papermill": {
     "duration": 0.039172,
     "end_time": "2022-02-04T12:10:48.174158",
     "exception": false,
     "start_time": "2022-02-04T12:10:48.134986",
     "status": "completed"
    },
    "tags": []
   },
   "outputs": [],
   "source": [
    "#hide\n",
    "LAST_DATE_I, dt_cols = get_dates(df)\n",
    "dt_today =dt_cols[LAST_DATE_I]\n",
    "# dt_5day = dt_cols[LAST_DATE_I - 5]\n",
    "dt_yday = dt_cols[LAST_DATE_I - 1]"
   ]
  },
  {
   "cell_type": "code",
   "execution_count": 11,
   "id": "restricted-sheriff",
   "metadata": {
    "execution": {
     "iopub.execute_input": "2022-02-04T12:10:48.249869Z",
     "iopub.status.busy": "2022-02-04T12:10:48.245390Z",
     "iopub.status.idle": "2022-02-04T12:10:48.255298Z",
     "shell.execute_reply": "2022-02-04T12:10:48.254864Z"
    },
    "papermill": {
     "duration": 0.047664,
     "end_time": "2022-02-04T12:10:48.255406",
     "exception": false,
     "start_time": "2022-02-04T12:10:48.207742",
     "status": "completed"
    },
    "tags": []
   },
   "outputs": [],
   "source": [
    "#hide\n",
    "dfc_cases = dft_cases.groupby(COL_REGION)[dt_today].sum()\n",
    "dfc_deaths = dft_deaths.groupby(COL_REGION)[dt_today].sum()\n",
    "# dfp_cases = dft_cases.groupby(COL_REGION)[dt_5day].sum()\n",
    "# dfp_deaths = dft_deaths.groupby(COL_REGION)[dt_5day].sum()\n",
    "dfp_cases = dft_cases.groupby(COL_REGION)[dt_yday].sum()\n",
    "dfp_deaths = dft_deaths.groupby(COL_REGION)[dt_yday].sum()"
   ]
  },
  {
   "cell_type": "code",
   "execution_count": 12,
   "id": "deluxe-hepatitis",
   "metadata": {
    "execution": {
     "iopub.execute_input": "2022-02-04T12:10:48.327036Z",
     "iopub.status.busy": "2022-02-04T12:10:48.326379Z",
     "iopub.status.idle": "2022-02-04T12:10:48.332096Z",
     "shell.execute_reply": "2022-02-04T12:10:48.332783Z"
    },
    "papermill": {
     "duration": 0.04448,
     "end_time": "2022-02-04T12:10:48.332905",
     "exception": false,
     "start_time": "2022-02-04T12:10:48.288425",
     "status": "completed"
    },
    "tags": []
   },
   "outputs": [],
   "source": [
    "#hide\n",
    "df_table = (pd.DataFrame(dict(Cases = dfc_cases, Deaths = dfc_deaths, PCases = dfp_cases, PDeaths = dfp_deaths))\n",
    "            .sort_values(by = ['Cases','Deaths'], ascending = [False, False])\n",
    "            .reset_index())"
   ]
  },
  {
   "cell_type": "code",
   "execution_count": 13,
   "id": "educational-chancellor",
   "metadata": {
    "execution": {
     "iopub.execute_input": "2022-02-04T12:10:48.417305Z",
     "iopub.status.busy": "2022-02-04T12:10:48.416622Z",
     "iopub.status.idle": "2022-02-04T12:10:48.426271Z",
     "shell.execute_reply": "2022-02-04T12:10:48.427272Z"
    },
    "papermill": {
     "duration": 0.063503,
     "end_time": "2022-02-04T12:10:48.427428",
     "exception": false,
     "start_time": "2022-02-04T12:10:48.363925",
     "status": "completed"
    },
    "tags": []
   },
   "outputs": [
    {
     "data": {
      "text/html": [
       "<div>\n",
       "<style scoped>\n",
       "    .dataframe tbody tr th:only-of-type {\n",
       "        vertical-align: middle;\n",
       "    }\n",
       "\n",
       "    .dataframe tbody tr th {\n",
       "        vertical-align: top;\n",
       "    }\n",
       "\n",
       "    .dataframe thead th {\n",
       "        text-align: right;\n",
       "    }\n",
       "</style>\n",
       "<table border=\"1\" class=\"dataframe\">\n",
       "  <thead>\n",
       "    <tr style=\"text-align: right;\">\n",
       "      <th></th>\n",
       "      <th>Country/Region</th>\n",
       "      <th>Cases</th>\n",
       "      <th>Deaths</th>\n",
       "      <th>PCases</th>\n",
       "      <th>PDeaths</th>\n",
       "      <th>Cases (+)</th>\n",
       "      <th>Deaths (+)</th>\n",
       "      <th>Fatality Rate</th>\n",
       "      <th>Continent</th>\n",
       "    </tr>\n",
       "  </thead>\n",
       "  <tbody>\n",
       "    <tr>\n",
       "      <th>0</th>\n",
       "      <td>US</td>\n",
       "      <td>75962005</td>\n",
       "      <td>896557</td>\n",
       "      <td>75680487</td>\n",
       "      <td>894316</td>\n",
       "      <td>281518</td>\n",
       "      <td>2241</td>\n",
       "      <td>1.18</td>\n",
       "      <td>North America</td>\n",
       "    </tr>\n",
       "    <tr>\n",
       "      <th>1</th>\n",
       "      <td>India</td>\n",
       "      <td>41952712</td>\n",
       "      <td>500055</td>\n",
       "      <td>41803318</td>\n",
       "      <td>498983</td>\n",
       "      <td>149394</td>\n",
       "      <td>1072</td>\n",
       "      <td>1.19</td>\n",
       "      <td>Asia</td>\n",
       "    </tr>\n",
       "    <tr>\n",
       "      <th>2</th>\n",
       "      <td>Brazil</td>\n",
       "      <td>26107894</td>\n",
       "      <td>630301</td>\n",
       "      <td>25820745</td>\n",
       "      <td>629301</td>\n",
       "      <td>287149</td>\n",
       "      <td>1000</td>\n",
       "      <td>2.41</td>\n",
       "      <td>South America</td>\n",
       "    </tr>\n",
       "    <tr>\n",
       "      <th>3</th>\n",
       "      <td>France</td>\n",
       "      <td>20274710</td>\n",
       "      <td>132847</td>\n",
       "      <td>19998301</td>\n",
       "      <td>132583</td>\n",
       "      <td>276409</td>\n",
       "      <td>264</td>\n",
       "      <td>0.66</td>\n",
       "      <td>Europe</td>\n",
       "    </tr>\n",
       "    <tr>\n",
       "      <th>4</th>\n",
       "      <td>United Kingdom</td>\n",
       "      <td>17727681</td>\n",
       "      <td>158266</td>\n",
       "      <td>17632062</td>\n",
       "      <td>157938</td>\n",
       "      <td>95619</td>\n",
       "      <td>328</td>\n",
       "      <td>0.89</td>\n",
       "      <td>Europe</td>\n",
       "    </tr>\n",
       "  </tbody>\n",
       "</table>\n",
       "</div>"
      ],
      "text/plain": [
       "   Country/Region     Cases  Deaths    PCases  PDeaths  Cases (+)  Deaths (+)  \\\n",
       "0              US  75962005  896557  75680487   894316     281518        2241   \n",
       "1           India  41952712  500055  41803318   498983     149394        1072   \n",
       "2          Brazil  26107894  630301  25820745   629301     287149        1000   \n",
       "3          France  20274710  132847  19998301   132583     276409         264   \n",
       "4  United Kingdom  17727681  158266  17632062   157938      95619         328   \n",
       "\n",
       "   Fatality Rate      Continent  \n",
       "0           1.18  North America  \n",
       "1           1.19           Asia  \n",
       "2           2.41  South America  \n",
       "3           0.66         Europe  \n",
       "4           0.89         Europe  "
      ]
     },
     "execution_count": 13,
     "metadata": {},
     "output_type": "execute_result"
    }
   ],
   "source": [
    "#hide\n",
    "for c in 'Cases, Deaths'.split(', '):\n",
    "    df_table[f'{c} (+)'] = (df_table[c] - df_table[f'P{c}']).clip(0)\n",
    "    #Clip ça veut dire, les chiffres negatif sont interdit\n",
    "df_table['Fatality Rate'] = (100* df_table['Deaths']/ df_table['Cases']).round(2)\n",
    "df_table['Continent'] = df_table['Country/Region'].map(mapping['map.continent'])\n",
    "df_table.head(5)"
   ]
  },
  {
   "cell_type": "code",
   "execution_count": 14,
   "id": "aboriginal-bulgaria",
   "metadata": {
    "execution": {
     "iopub.execute_input": "2022-02-04T12:10:48.504779Z",
     "iopub.status.busy": "2022-02-04T12:10:48.504114Z",
     "iopub.status.idle": "2022-02-04T12:10:48.506490Z",
     "shell.execute_reply": "2022-02-04T12:10:48.506994Z"
    },
    "papermill": {
     "duration": 0.043858,
     "end_time": "2022-02-04T12:10:48.507119",
     "exception": false,
     "start_time": "2022-02-04T12:10:48.463261",
     "status": "completed"
    },
    "tags": []
   },
   "outputs": [],
   "source": [
    "#hide\n",
    "#delete problematic countries from table\n",
    "df_table = df_table[~df_table['Country/Region'].isin(['Cape Verde', 'Cruise Ship', 'Kosovo'])]"
   ]
  },
  {
   "cell_type": "code",
   "execution_count": 15,
   "id": "fantastic-effect",
   "metadata": {
    "execution": {
     "iopub.execute_input": "2022-02-04T12:10:48.586623Z",
     "iopub.status.busy": "2022-02-04T12:10:48.585971Z",
     "iopub.status.idle": "2022-02-04T12:10:48.606767Z",
     "shell.execute_reply": "2022-02-04T12:10:48.607336Z"
    },
    "papermill": {
     "duration": 0.065067,
     "end_time": "2022-02-04T12:10:48.607522",
     "exception": false,
     "start_time": "2022-02-04T12:10:48.542455",
     "status": "completed"
    },
    "tags": []
   },
   "outputs": [
    {
     "data": {
      "text/html": [
       "<div>\n",
       "<style scoped>\n",
       "    .dataframe tbody tr th:only-of-type {\n",
       "        vertical-align: middle;\n",
       "    }\n",
       "\n",
       "    .dataframe tbody tr th {\n",
       "        vertical-align: top;\n",
       "    }\n",
       "\n",
       "    .dataframe thead th {\n",
       "        text-align: right;\n",
       "    }\n",
       "</style>\n",
       "<table border=\"1\" class=\"dataframe\">\n",
       "  <thead>\n",
       "    <tr style=\"text-align: right;\">\n",
       "      <th></th>\n",
       "      <th>Country/Region</th>\n",
       "      <th>Cases</th>\n",
       "      <th>Deaths</th>\n",
       "      <th>PCases</th>\n",
       "      <th>PDeaths</th>\n",
       "      <th>Cases (+)</th>\n",
       "      <th>Deaths (+)</th>\n",
       "      <th>Fatality Rate</th>\n",
       "      <th>Continent</th>\n",
       "    </tr>\n",
       "  </thead>\n",
       "  <tbody>\n",
       "    <tr>\n",
       "      <th>0</th>\n",
       "      <td>US</td>\n",
       "      <td>75962005</td>\n",
       "      <td>896557</td>\n",
       "      <td>75680487</td>\n",
       "      <td>894316</td>\n",
       "      <td>281518</td>\n",
       "      <td>2241</td>\n",
       "      <td>1.2</td>\n",
       "      <td>North America</td>\n",
       "    </tr>\n",
       "    <tr>\n",
       "      <th>1</th>\n",
       "      <td>India</td>\n",
       "      <td>41952712</td>\n",
       "      <td>500055</td>\n",
       "      <td>41803318</td>\n",
       "      <td>498983</td>\n",
       "      <td>149394</td>\n",
       "      <td>1072</td>\n",
       "      <td>1.2</td>\n",
       "      <td>Asia</td>\n",
       "    </tr>\n",
       "    <tr>\n",
       "      <th>2</th>\n",
       "      <td>Brazil</td>\n",
       "      <td>26107894</td>\n",
       "      <td>630301</td>\n",
       "      <td>25820745</td>\n",
       "      <td>629301</td>\n",
       "      <td>287149</td>\n",
       "      <td>1000</td>\n",
       "      <td>2.4</td>\n",
       "      <td>South America</td>\n",
       "    </tr>\n",
       "    <tr>\n",
       "      <th>3</th>\n",
       "      <td>France</td>\n",
       "      <td>20274710</td>\n",
       "      <td>132847</td>\n",
       "      <td>19998301</td>\n",
       "      <td>132583</td>\n",
       "      <td>276409</td>\n",
       "      <td>264</td>\n",
       "      <td>0.7</td>\n",
       "      <td>Europe</td>\n",
       "    </tr>\n",
       "    <tr>\n",
       "      <th>4</th>\n",
       "      <td>United Kingdom</td>\n",
       "      <td>17727681</td>\n",
       "      <td>158266</td>\n",
       "      <td>17632062</td>\n",
       "      <td>157938</td>\n",
       "      <td>95619</td>\n",
       "      <td>328</td>\n",
       "      <td>0.9</td>\n",
       "      <td>Europe</td>\n",
       "    </tr>\n",
       "  </tbody>\n",
       "</table>\n",
       "</div>"
      ],
      "text/plain": [
       "   Country/Region     Cases  Deaths    PCases  PDeaths  Cases (+)  Deaths (+)  \\\n",
       "0              US  75962005  896557  75680487   894316     281518        2241   \n",
       "1           India  41952712  500055  41803318   498983     149394        1072   \n",
       "2          Brazil  26107894  630301  25820745   629301     287149        1000   \n",
       "3          France  20274710  132847  19998301   132583     276409         264   \n",
       "4  United Kingdom  17727681  158266  17632062   157938      95619         328   \n",
       "\n",
       "   Fatality Rate      Continent  \n",
       "0            1.2  North America  \n",
       "1            1.2           Asia  \n",
       "2            2.4  South America  \n",
       "3            0.7         Europe  \n",
       "4            0.9         Europe  "
      ]
     },
     "execution_count": 15,
     "metadata": {},
     "output_type": "execute_result"
    }
   ],
   "source": [
    "#hide\n",
    "df_table = (pd.DataFrame(dict(Cases=dfc_cases, Deaths=dfc_deaths, PCases=dfp_cases, PDeaths=dfp_deaths))\n",
    "             .sort_values(by=['Cases', 'Deaths'], ascending=[False, False])\n",
    "             .reset_index())\n",
    "df_table.rename(columns={'index': 'Country/Region'}, inplace=True)\n",
    "for c in 'Cases, Deaths'.split(', '):\n",
    "    df_table[f'{c} (+)'] = (df_table[c] - df_table[f'P{c}']).clip(0)  # DATA BUG\n",
    "df_table['Fatality Rate'] = (100 * df_table['Deaths'] / df_table['Cases']).round(1)\n",
    "df_table['Continent'] = df_table['Country/Region'].map(mapping['map.continent'])\n",
    "df_table.head(5)"
   ]
  },
  {
   "cell_type": "code",
   "execution_count": 16,
   "id": "fewer-occasion",
   "metadata": {
    "execution": {
     "iopub.execute_input": "2022-02-04T12:10:48.680274Z",
     "iopub.status.busy": "2022-02-04T12:10:48.679734Z",
     "iopub.status.idle": "2022-02-04T12:10:48.683022Z",
     "shell.execute_reply": "2022-02-04T12:10:48.682596Z"
    },
    "papermill": {
     "duration": 0.040817,
     "end_time": "2022-02-04T12:10:48.683128",
     "exception": false,
     "start_time": "2022-02-04T12:10:48.642311",
     "status": "completed"
    },
    "tags": []
   },
   "outputs": [],
   "source": [
    "#hide\n",
    "#delete problematic countries from table\n",
    "df_table = df_table[~df_table['Country/Region'].isin(['Cape Verde', 'Cruise Ship', 'Kosovo'])]"
   ]
  },
  {
   "cell_type": "code",
   "execution_count": 17,
   "id": "related-center",
   "metadata": {
    "execution": {
     "iopub.execute_input": "2022-02-04T12:10:48.771541Z",
     "iopub.status.busy": "2022-02-04T12:10:48.770888Z",
     "iopub.status.idle": "2022-02-04T12:10:48.773358Z",
     "shell.execute_reply": "2022-02-04T12:10:48.773991Z"
    },
    "papermill": {
     "duration": 0.054069,
     "end_time": "2022-02-04T12:10:48.774109",
     "exception": false,
     "start_time": "2022-02-04T12:10:48.720040",
     "status": "completed"
    },
    "tags": []
   },
   "outputs": [],
   "source": [
    "#hide\n",
    "metrics = [df_table.columns[index] for index in [1,2,5,6]]\n",
    "# s_china = df_table[df_table['Country/Region'].eq('China')][metrics].sum().add_prefix('China ')\n",
    "s_us = df_table[df_table['Country/Region'].eq('US')][metrics].sum().add_prefix('US ')\n",
    "s_eu = df_table[df_table['Continent'].eq('Europe')][metrics].sum().add_prefix('EU ')\n",
    "s_ind = df_table[df_table['Country/Region'].eq('India')][metrics].sum().add_prefix('India ')\n",
    "summary = {'updated': pd.to_datetime(dt_today), 'since': pd.to_datetime(dt_yday)}\n",
    "summary = {'updated': pd.to_datetime(dt_today), 'since': pd.to_datetime(dt_yday)}\n",
    "summary = {**summary, **df_table[metrics].sum(), **s_ind, **s_us, **s_eu}"
   ]
  },
  {
   "cell_type": "code",
   "execution_count": 18,
   "id": "engaging-syndrome",
   "metadata": {
    "execution": {
     "iopub.execute_input": "2022-02-04T12:10:48.842816Z",
     "iopub.status.busy": "2022-02-04T12:10:48.842212Z",
     "iopub.status.idle": "2022-02-04T12:10:48.855992Z",
     "shell.execute_reply": "2022-02-04T12:10:48.856695Z"
    },
    "papermill": {
     "duration": 0.050195,
     "end_time": "2022-02-04T12:10:48.856815",
     "exception": false,
     "start_time": "2022-02-04T12:10:48.806620",
     "status": "completed"
    },
    "tags": []
   },
   "outputs": [],
   "source": [
    "#hide\n",
    "dft_ct_new_cases = dft_cases.groupby(COL_REGION)[dt_cols].sum().diff(axis=1).fillna(0).astype(int)"
   ]
  },
  {
   "cell_type": "code",
   "execution_count": 19,
   "id": "neutral-assignment",
   "metadata": {
    "execution": {
     "iopub.execute_input": "2022-02-04T12:10:48.927431Z",
     "iopub.status.busy": "2022-02-04T12:10:48.926576Z",
     "iopub.status.idle": "2022-02-04T12:10:48.933881Z",
     "shell.execute_reply": "2022-02-04T12:10:48.934487Z"
    },
    "papermill": {
     "duration": 0.044963,
     "end_time": "2022-02-04T12:10:48.934639",
     "exception": false,
     "start_time": "2022-02-04T12:10:48.889676",
     "status": "completed"
    },
    "tags": []
   },
   "outputs": [],
   "source": [
    "#hide\n",
    "everydaycases = dft_ct_new_cases.cumsum(axis=1)"
   ]
  },
  {
   "cell_type": "code",
   "execution_count": 20,
   "id": "parliamentary-calgary",
   "metadata": {
    "execution": {
     "iopub.execute_input": "2022-02-04T12:10:49.005552Z",
     "iopub.status.busy": "2022-02-04T12:10:49.003647Z",
     "iopub.status.idle": "2022-02-04T12:10:49.586426Z",
     "shell.execute_reply": "2022-02-04T12:10:49.585921Z"
    },
    "papermill": {
     "duration": 0.617917,
     "end_time": "2022-02-04T12:10:49.586561",
     "exception": false,
     "start_time": "2022-02-04T12:10:48.968644",
     "status": "completed"
    },
    "tags": []
   },
   "outputs": [],
   "source": [
    "#hide\n",
    "import pandas as pd\n",
    "import matplotlib.pyplot as plt\n",
    "import matplotlib.ticker as ticker\n",
    "import matplotlib.animation as animation\n",
    "from IPython.display import HTML"
   ]
  },
  {
   "cell_type": "code",
   "execution_count": 21,
   "id": "lasting-extraction",
   "metadata": {
    "execution": {
     "iopub.execute_input": "2022-02-04T12:10:49.655830Z",
     "iopub.status.busy": "2022-02-04T12:10:49.655298Z",
     "iopub.status.idle": "2022-02-04T12:10:49.660824Z",
     "shell.execute_reply": "2022-02-04T12:10:49.661284Z"
    },
    "papermill": {
     "duration": 0.042233,
     "end_time": "2022-02-04T12:10:49.661402",
     "exception": false,
     "start_time": "2022-02-04T12:10:49.619169",
     "status": "completed"
    },
    "tags": []
   },
   "outputs": [],
   "source": [
    "#hide\n",
    "t = everydaycases.stack()"
   ]
  },
  {
   "cell_type": "code",
   "execution_count": 22,
   "id": "premier-sleeve",
   "metadata": {
    "execution": {
     "iopub.execute_input": "2022-02-04T12:10:49.727218Z",
     "iopub.status.busy": "2022-02-04T12:10:49.726692Z",
     "iopub.status.idle": "2022-02-04T12:10:49.735285Z",
     "shell.execute_reply": "2022-02-04T12:10:49.735861Z"
    },
    "papermill": {
     "duration": 0.043196,
     "end_time": "2022-02-04T12:10:49.735983",
     "exception": false,
     "start_time": "2022-02-04T12:10:49.692787",
     "status": "completed"
    },
    "tags": []
   },
   "outputs": [],
   "source": [
    "#hide\n",
    "g = t.reset_index(['Country/Region'])"
   ]
  },
  {
   "cell_type": "code",
   "execution_count": 23,
   "id": "distributed-pittsburgh",
   "metadata": {
    "execution": {
     "iopub.execute_input": "2022-02-04T12:10:49.800908Z",
     "iopub.status.busy": "2022-02-04T12:10:49.800306Z",
     "iopub.status.idle": "2022-02-04T12:10:49.802773Z",
     "shell.execute_reply": "2022-02-04T12:10:49.802322Z"
    },
    "papermill": {
     "duration": 0.035943,
     "end_time": "2022-02-04T12:10:49.802880",
     "exception": false,
     "start_time": "2022-02-04T12:10:49.766937",
     "status": "completed"
    },
    "tags": []
   },
   "outputs": [],
   "source": [
    "#hide\n",
    "g.index.name = 'date'"
   ]
  },
  {
   "cell_type": "code",
   "execution_count": 24,
   "id": "naked-donor",
   "metadata": {
    "execution": {
     "iopub.execute_input": "2022-02-04T12:10:49.867714Z",
     "iopub.status.busy": "2022-02-04T12:10:49.867142Z",
     "iopub.status.idle": "2022-02-04T12:10:49.868976Z",
     "shell.execute_reply": "2022-02-04T12:10:49.869437Z"
    },
    "papermill": {
     "duration": 0.035757,
     "end_time": "2022-02-04T12:10:49.869560",
     "exception": false,
     "start_time": "2022-02-04T12:10:49.833803",
     "status": "completed"
    },
    "tags": []
   },
   "outputs": [],
   "source": [
    "# #hide\n",
    "# g = g.reset_index(['date'])"
   ]
  },
  {
   "cell_type": "code",
   "execution_count": 25,
   "id": "incomplete-mustang",
   "metadata": {
    "execution": {
     "iopub.execute_input": "2022-02-04T12:10:49.937686Z",
     "iopub.status.busy": "2022-02-04T12:10:49.937150Z",
     "iopub.status.idle": "2022-02-04T12:10:49.939393Z",
     "shell.execute_reply": "2022-02-04T12:10:49.938869Z"
    },
    "papermill": {
     "duration": 0.038503,
     "end_time": "2022-02-04T12:10:49.939497",
     "exception": false,
     "start_time": "2022-02-04T12:10:49.900994",
     "status": "completed"
    },
    "tags": []
   },
   "outputs": [],
   "source": [
    "#hide\n",
    "# g.head()"
   ]
  },
  {
   "cell_type": "code",
   "execution_count": 26,
   "id": "specific-kruger",
   "metadata": {
    "execution": {
     "iopub.execute_input": "2022-02-04T12:10:50.004264Z",
     "iopub.status.busy": "2022-02-04T12:10:50.003690Z",
     "iopub.status.idle": "2022-02-04T12:10:50.005958Z",
     "shell.execute_reply": "2022-02-04T12:10:50.005415Z"
    },
    "papermill": {
     "duration": 0.03537,
     "end_time": "2022-02-04T12:10:50.006061",
     "exception": false,
     "start_time": "2022-02-04T12:10:49.970691",
     "status": "completed"
    },
    "tags": []
   },
   "outputs": [],
   "source": [
    "#hide\n",
    "# g.columns = ['date','country','cases']"
   ]
  },
  {
   "cell_type": "code",
   "execution_count": 27,
   "id": "tender-conversion",
   "metadata": {
    "execution": {
     "iopub.execute_input": "2022-02-04T12:10:50.073816Z",
     "iopub.status.busy": "2022-02-04T12:10:50.073281Z",
     "iopub.status.idle": "2022-02-04T12:10:50.076453Z",
     "shell.execute_reply": "2022-02-04T12:10:50.076871Z"
    },
    "papermill": {
     "duration": 0.038946,
     "end_time": "2022-02-04T12:10:50.076983",
     "exception": false,
     "start_time": "2022-02-04T12:10:50.038037",
     "status": "completed"
    },
    "tags": []
   },
   "outputs": [],
   "source": [
    "#hide\n",
    "# g['continent'] = g.country"
   ]
  },
  {
   "cell_type": "code",
   "execution_count": 28,
   "id": "substantial-wilderness",
   "metadata": {
    "execution": {
     "iopub.execute_input": "2022-02-04T12:10:50.141510Z",
     "iopub.status.busy": "2022-02-04T12:10:50.140982Z",
     "iopub.status.idle": "2022-02-04T12:10:50.143522Z",
     "shell.execute_reply": "2022-02-04T12:10:50.142824Z"
    },
    "papermill": {
     "duration": 0.035624,
     "end_time": "2022-02-04T12:10:50.143634",
     "exception": false,
     "start_time": "2022-02-04T12:10:50.108010",
     "status": "completed"
    },
    "tags": []
   },
   "outputs": [],
   "source": [
    "#hide\n",
    "# cols = list(g.columns.values)"
   ]
  },
  {
   "cell_type": "code",
   "execution_count": 29,
   "id": "solved-farming",
   "metadata": {
    "execution": {
     "iopub.execute_input": "2022-02-04T12:10:50.208274Z",
     "iopub.status.busy": "2022-02-04T12:10:50.207710Z",
     "iopub.status.idle": "2022-02-04T12:10:50.210113Z",
     "shell.execute_reply": "2022-02-04T12:10:50.209676Z"
    },
    "papermill": {
     "duration": 0.035616,
     "end_time": "2022-02-04T12:10:50.210214",
     "exception": false,
     "start_time": "2022-02-04T12:10:50.174598",
     "status": "completed"
    },
    "tags": []
   },
   "outputs": [],
   "source": [
    "#hide\n",
    "# cols.insert(0, cols.pop())"
   ]
  },
  {
   "cell_type": "code",
   "execution_count": 30,
   "id": "executed-adoption",
   "metadata": {
    "execution": {
     "iopub.execute_input": "2022-02-04T12:10:50.275566Z",
     "iopub.status.busy": "2022-02-04T12:10:50.274792Z",
     "iopub.status.idle": "2022-02-04T12:10:50.278359Z",
     "shell.execute_reply": "2022-02-04T12:10:50.278772Z"
    },
    "papermill": {
     "duration": 0.037408,
     "end_time": "2022-02-04T12:10:50.278935",
     "exception": false,
     "start_time": "2022-02-04T12:10:50.241527",
     "status": "completed"
    },
    "tags": []
   },
   "outputs": [],
   "source": [
    "#hide\n",
    "# g = g[cols]"
   ]
  },
  {
   "cell_type": "code",
   "execution_count": 31,
   "id": "subject-dublin",
   "metadata": {
    "execution": {
     "iopub.execute_input": "2022-02-04T12:10:50.345071Z",
     "iopub.status.busy": "2022-02-04T12:10:50.344486Z",
     "iopub.status.idle": "2022-02-04T12:10:50.346674Z",
     "shell.execute_reply": "2022-02-04T12:10:50.346169Z"
    },
    "papermill": {
     "duration": 0.036525,
     "end_time": "2022-02-04T12:10:50.346791",
     "exception": false,
     "start_time": "2022-02-04T12:10:50.310266",
     "status": "completed"
    },
    "tags": []
   },
   "outputs": [],
   "source": [
    "#hide\n",
    "# g['continent'] = g['continent'].map(mapping['map.continent'])"
   ]
  },
  {
   "cell_type": "code",
   "execution_count": 32,
   "id": "freelance-scout",
   "metadata": {
    "execution": {
     "iopub.execute_input": "2022-02-04T12:10:50.411585Z",
     "iopub.status.busy": "2022-02-04T12:10:50.411049Z",
     "iopub.status.idle": "2022-02-04T12:10:50.414229Z",
     "shell.execute_reply": "2022-02-04T12:10:50.414642Z"
    },
    "papermill": {
     "duration": 0.036882,
     "end_time": "2022-02-04T12:10:50.414761",
     "exception": false,
     "start_time": "2022-02-04T12:10:50.377879",
     "status": "completed"
    },
    "tags": []
   },
   "outputs": [],
   "source": [
    "#hide\n",
    "# g.head()"
   ]
  },
  {
   "cell_type": "code",
   "execution_count": 33,
   "id": "limited-engine",
   "metadata": {
    "execution": {
     "iopub.execute_input": "2022-02-04T12:10:50.485714Z",
     "iopub.status.busy": "2022-02-04T12:10:50.485199Z",
     "iopub.status.idle": "2022-02-04T12:10:50.487128Z",
     "shell.execute_reply": "2022-02-04T12:10:50.486507Z"
    },
    "papermill": {
     "duration": 0.039272,
     "end_time": "2022-02-04T12:10:50.487284",
     "exception": false,
     "start_time": "2022-02-04T12:10:50.448012",
     "status": "completed"
    },
    "tags": []
   },
   "outputs": [],
   "source": [
    "# hide\n",
    "# g['date'] = g['date'].astype('datetime64[ns]')"
   ]
  },
  {
   "cell_type": "code",
   "execution_count": 34,
   "id": "sophisticated-supervisor",
   "metadata": {
    "execution": {
     "iopub.execute_input": "2022-02-04T12:10:50.555206Z",
     "iopub.status.busy": "2022-02-04T12:10:50.554647Z",
     "iopub.status.idle": "2022-02-04T12:10:50.556554Z",
     "shell.execute_reply": "2022-02-04T12:10:50.556997Z"
    },
    "papermill": {
     "duration": 0.037622,
     "end_time": "2022-02-04T12:10:50.557114",
     "exception": false,
     "start_time": "2022-02-04T12:10:50.519492",
     "status": "completed"
    },
    "tags": []
   },
   "outputs": [],
   "source": [
    "#hide\n",
    "# g['date'] = g.date.dt.dayofyear"
   ]
  },
  {
   "cell_type": "code",
   "execution_count": 35,
   "id": "inside-dubai",
   "metadata": {
    "execution": {
     "iopub.execute_input": "2022-02-04T12:10:50.627424Z",
     "iopub.status.busy": "2022-02-04T12:10:50.626784Z",
     "iopub.status.idle": "2022-02-04T12:10:50.629193Z",
     "shell.execute_reply": "2022-02-04T12:10:50.629631Z"
    },
    "papermill": {
     "duration": 0.039731,
     "end_time": "2022-02-04T12:10:50.629755",
     "exception": false,
     "start_time": "2022-02-04T12:10:50.590024",
     "status": "completed"
    },
    "tags": []
   },
   "outputs": [],
   "source": [
    "#hide\n",
    "# g = g.rename(columns= {'continent':'group','country':'name','cases':'value'})"
   ]
  },
  {
   "cell_type": "code",
   "execution_count": 36,
   "id": "fleet-motorcycle",
   "metadata": {
    "execution": {
     "iopub.execute_input": "2022-02-04T12:10:50.699293Z",
     "iopub.status.busy": "2022-02-04T12:10:50.698545Z",
     "iopub.status.idle": "2022-02-04T12:10:50.701062Z",
     "shell.execute_reply": "2022-02-04T12:10:50.701542Z"
    },
    "papermill": {
     "duration": 0.03907,
     "end_time": "2022-02-04T12:10:50.701674",
     "exception": false,
     "start_time": "2022-02-04T12:10:50.662604",
     "status": "completed"
    },
    "tags": []
   },
   "outputs": [],
   "source": [
    "#hide\n",
    "# cols = ['name','group','day','value']"
   ]
  },
  {
   "cell_type": "code",
   "execution_count": 37,
   "id": "continued-sleeping",
   "metadata": {
    "execution": {
     "iopub.execute_input": "2022-02-04T12:10:50.769971Z",
     "iopub.status.busy": "2022-02-04T12:10:50.769240Z",
     "iopub.status.idle": "2022-02-04T12:10:50.771454Z",
     "shell.execute_reply": "2022-02-04T12:10:50.771891Z"
    },
    "papermill": {
     "duration": 0.039077,
     "end_time": "2022-02-04T12:10:50.772036",
     "exception": false,
     "start_time": "2022-02-04T12:10:50.732959",
     "status": "completed"
    },
    "tags": []
   },
   "outputs": [],
   "source": [
    "#hide\n",
    "# g.rename(columns= {'date':'day'},inplace = True)"
   ]
  },
  {
   "cell_type": "code",
   "execution_count": 38,
   "id": "major-fight",
   "metadata": {
    "execution": {
     "iopub.execute_input": "2022-02-04T12:10:50.838783Z",
     "iopub.status.busy": "2022-02-04T12:10:50.838194Z",
     "iopub.status.idle": "2022-02-04T12:10:50.842156Z",
     "shell.execute_reply": "2022-02-04T12:10:50.842590Z"
    },
    "papermill": {
     "duration": 0.039418,
     "end_time": "2022-02-04T12:10:50.842708",
     "exception": false,
     "start_time": "2022-02-04T12:10:50.803290",
     "status": "completed"
    },
    "tags": []
   },
   "outputs": [],
   "source": [
    "#hide\n",
    "# g = g[cols]"
   ]
  },
  {
   "cell_type": "code",
   "execution_count": 39,
   "id": "structured-mobile",
   "metadata": {
    "execution": {
     "iopub.execute_input": "2022-02-04T12:10:50.908239Z",
     "iopub.status.busy": "2022-02-04T12:10:50.907721Z",
     "iopub.status.idle": "2022-02-04T12:10:50.909584Z",
     "shell.execute_reply": "2022-02-04T12:10:50.909078Z"
    },
    "papermill": {
     "duration": 0.035854,
     "end_time": "2022-02-04T12:10:50.909685",
     "exception": false,
     "start_time": "2022-02-04T12:10:50.873831",
     "status": "completed"
    },
    "tags": []
   },
   "outputs": [],
   "source": [
    "# #hide\n",
    "# g = g[g.group.notna()]"
   ]
  },
  {
   "cell_type": "code",
   "execution_count": 40,
   "id": "determined-closing",
   "metadata": {
    "execution": {
     "iopub.execute_input": "2022-02-04T12:10:50.975388Z",
     "iopub.status.busy": "2022-02-04T12:10:50.974837Z",
     "iopub.status.idle": "2022-02-04T12:10:50.976486Z",
     "shell.execute_reply": "2022-02-04T12:10:50.975939Z"
    },
    "papermill": {
     "duration": 0.035779,
     "end_time": "2022-02-04T12:10:50.976593",
     "exception": false,
     "start_time": "2022-02-04T12:10:50.940814",
     "status": "completed"
    },
    "tags": []
   },
   "outputs": [],
   "source": [
    "# #hide\n",
    "# colors = dict(zip(\n",
    "#     [\"Oceania\", \"Europe\", \"Asia\", \"South America\", \"Middle East\", \"North America\", \"Africa\"],\n",
    "#     [\"#adb0ff\", \"#ffb3ff\", \"#90d595\", \"#e48381\", \"#aafbff\", \"#f7bb5f\", \"#eafb50\"]\n",
    "# ))\n",
    "# group_lk = g.set_index('name')['group'].to_dict()"
   ]
  },
  {
   "cell_type": "code",
   "execution_count": null,
   "id": "gross-drinking",
   "metadata": {
    "papermill": {
     "duration": 0.033159,
     "end_time": "2022-02-04T12:10:51.040748",
     "exception": false,
     "start_time": "2022-02-04T12:10:51.007589",
     "status": "completed"
    },
    "tags": []
   },
   "outputs": [],
   "source": []
  },
  {
   "cell_type": "code",
   "execution_count": 41,
   "id": "subject-macintosh",
   "metadata": {
    "execution": {
     "iopub.execute_input": "2022-02-04T12:10:51.110797Z",
     "iopub.status.busy": "2022-02-04T12:10:51.110269Z",
     "iopub.status.idle": "2022-02-04T12:10:51.112301Z",
     "shell.execute_reply": "2022-02-04T12:10:51.112722Z"
    },
    "papermill": {
     "duration": 0.037217,
     "end_time": "2022-02-04T12:10:51.112839",
     "exception": false,
     "start_time": "2022-02-04T12:10:51.075622",
     "status": "completed"
    },
    "tags": []
   },
   "outputs": [],
   "source": [
    "# #hide\n",
    "# fig, ax = plt.subplots(figsize=(15, 8))\n",
    "\n",
    "# def draw_barchart(current_day):\n",
    "#     dff = g[g['day'].eq(current_day)].sort_values(by='value', ascending=True).tail(10)\n",
    "#     ax.clear()\n",
    "#     ax.barh(dff['name'], dff['value'], color=[colors[group_lk[x]] for x in dff['name']])\n",
    "#     dx = dff['value'].max() / 200\n",
    "    \n",
    "#     for i, (value, name) in enumerate(zip(dff['value'], dff['name'])):\n",
    "#         ax.text(value-dx, i,     name,           size=14, weight=600, ha='right', va='bottom')\n",
    "#         ax.text(value-dx, i-.25, group_lk[name], size=10, color='#444444', ha='right', va='baseline')\n",
    "#         ax.text(value+dx, i,     f'{value:,.0f}',  size=14, ha='left',  va='center')\n",
    "#     ax.text(1, 0.4, current_day, transform=ax.transAxes, color='#777777', size=46, ha='right', weight=800)\n",
    "#     ax.text(0, 1.06, 'Population (thousands)', transform=ax.transAxes, size=12, color='#777777')\n",
    "#     ax.xaxis.set_major_formatter(ticker.StrMethodFormatter('{x:,.0f}'))\n",
    "#     ax.xaxis.set_ticks_position('top')\n",
    "#     ax.tick_params(axis='x', colors='#777777', labelsize=12)\n",
    "#     ax.set_yticks([])\n",
    "#     ax.margins(0, 0.01)\n",
    "#     ax.grid(which='major', axis='x', linestyle='-')\n",
    "#     ax.set_axisbelow(True)\n",
    "    \n",
    "#     ax.text(0, 1.15, 'Coronavirus',\n",
    "#             transform=ax.transAxes, size=24, weight=600, ha='left', va='top')\n",
    "# #     ax.text(1, 0, 'by @pratapvardhan; credit @jburnmurdoch', transform=ax.transAxes, color='#777777', ha='right',\n",
    "# #             bbox=dict(facecolor='white', alpha=0.8, edgecolor='white'))\n",
    "#     plt.box(False)"
   ]
  },
  {
   "cell_type": "code",
   "execution_count": 42,
   "id": "sexual-wages",
   "metadata": {
    "execution": {
     "iopub.execute_input": "2022-02-04T12:10:51.178246Z",
     "iopub.status.busy": "2022-02-04T12:10:51.177711Z",
     "iopub.status.idle": "2022-02-04T12:10:51.179608Z",
     "shell.execute_reply": "2022-02-04T12:10:51.179093Z"
    },
    "papermill": {
     "duration": 0.036177,
     "end_time": "2022-02-04T12:10:51.179711",
     "exception": false,
     "start_time": "2022-02-04T12:10:51.143534",
     "status": "completed"
    },
    "tags": []
   },
   "outputs": [],
   "source": [
    "# #hide_input\n",
    "# fig, ax = plt.subplots(figsize=(15, 8))\n",
    "# animator = animation.FuncAnimation(fig, draw_barchart, frames=range(g.day.values.min(), g.day.values.max()))\n",
    "# HTML(animator.to_jshtml())\n",
    "# # or use animator.to_html5_video() or animator.save() "
   ]
  },
  {
   "cell_type": "code",
   "execution_count": null,
   "id": "australian-container",
   "metadata": {
    "papermill": {
     "duration": 0.031574,
     "end_time": "2022-02-04T12:10:51.242658",
     "exception": false,
     "start_time": "2022-02-04T12:10:51.211084",
     "status": "completed"
    },
    "tags": []
   },
   "outputs": [],
   "source": []
  },
  {
   "cell_type": "code",
   "execution_count": null,
   "id": "mediterranean-pontiac",
   "metadata": {
    "papermill": {
     "duration": 0.031805,
     "end_time": "2022-02-04T12:10:51.304943",
     "exception": false,
     "start_time": "2022-02-04T12:10:51.273138",
     "status": "completed"
    },
    "tags": []
   },
   "outputs": [],
   "source": []
  },
  {
   "cell_type": "code",
   "execution_count": null,
   "id": "aging-legislature",
   "metadata": {
    "papermill": {
     "duration": 0.031885,
     "end_time": "2022-02-04T12:10:51.367773",
     "exception": false,
     "start_time": "2022-02-04T12:10:51.335888",
     "status": "completed"
    },
    "tags": []
   },
   "outputs": [],
   "source": []
  }
 ],
 "metadata": {
  "kernelspec": {
   "display_name": "Python 3",
   "language": "python",
   "name": "python3"
  },
  "language_info": {
   "codemirror_mode": {
    "name": "ipython",
    "version": 3
   },
   "file_extension": ".py",
   "mimetype": "text/x-python",
   "name": "python",
   "nbconvert_exporter": "python",
   "pygments_lexer": "ipython3",
   "version": "3.6.15"
  },
  "papermill": {
   "duration": 6.064263,
   "end_time": "2022-02-04T12:10:51.716855",
   "environment_variables": {},
   "exception": null,
   "input_path": "2020-03-21-covid19exp.ipynb",
   "output_path": "2020-03-21-covid19exp.ipynb",
   "parameters": {},
   "start_time": "2022-02-04T12:10:45.652592",
   "version": "2.0.0"
  }
 },
 "nbformat": 4,
 "nbformat_minor": 5
}