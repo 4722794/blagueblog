{
 "cells": [
  {
   "cell_type": "markdown",
   "id": "muslim-click",
   "metadata": {
    "papermill": {
     "duration": 0.033076,
     "end_time": "2022-06-01T12:18:31.844612",
     "exception": false,
     "start_time": "2022-06-01T12:18:31.811536",
     "status": "completed"
    },
    "tags": []
   },
   "source": [
    "# COVID-19 Case Race\n",
    "> A race chart to see rising cases around the world\n",
    "\n",
    "- author: Hargun Oberoi\n",
    "- image: images/covid-overview.png\n",
    "- hide: false\n",
    "- badges: false"
   ]
  },
  {
   "cell_type": "code",
   "execution_count": 1,
   "id": "proof-material",
   "metadata": {
    "execution": {
     "iopub.execute_input": "2022-06-01T12:18:31.915683Z",
     "iopub.status.busy": "2022-06-01T12:18:31.915087Z",
     "iopub.status.idle": "2022-06-01T12:18:32.228836Z",
     "shell.execute_reply": "2022-06-01T12:18:32.227770Z"
    },
    "papermill": {
     "duration": 0.353181,
     "end_time": "2022-06-01T12:18:32.228991",
     "exception": false,
     "start_time": "2022-06-01T12:18:31.875810",
     "status": "completed"
    },
    "tags": []
   },
   "outputs": [],
   "source": [
    "#hide\n",
    "import numpy as np\n",
    "import pandas as pd\n",
    "from jinja2 import Template\n",
    "from IPython.display import HTML"
   ]
  },
  {
   "cell_type": "code",
   "execution_count": 2,
   "id": "developed-terminology",
   "metadata": {
    "execution": {
     "iopub.execute_input": "2022-06-01T12:18:32.292676Z",
     "iopub.status.busy": "2022-06-01T12:18:32.291966Z",
     "iopub.status.idle": "2022-06-01T12:18:32.294355Z",
     "shell.execute_reply": "2022-06-01T12:18:32.293712Z"
    },
    "papermill": {
     "duration": 0.03604,
     "end_time": "2022-06-01T12:18:32.294478",
     "exception": false,
     "start_time": "2022-06-01T12:18:32.258438",
     "status": "completed"
    },
    "tags": []
   },
   "outputs": [],
   "source": [
    "#hide\n",
    "\n",
    "# FETCH\n",
    "base_url = 'https://raw.githubusercontent.com/pratapvardhan/notebooks/master/covid19/'\n",
    "paths = {\n",
    "    'mapping': base_url + 'mapping_countries.csv',\n",
    "    'overview': base_url + 'overview.tpl'\n",
    "}"
   ]
  },
  {
   "cell_type": "code",
   "execution_count": 3,
   "id": "dynamic-saver",
   "metadata": {
    "execution": {
     "iopub.execute_input": "2022-06-01T12:18:32.362627Z",
     "iopub.status.busy": "2022-06-01T12:18:32.360430Z",
     "iopub.status.idle": "2022-06-01T12:18:32.365872Z",
     "shell.execute_reply": "2022-06-01T12:18:32.365404Z"
    },
    "papermill": {
     "duration": 0.041771,
     "end_time": "2022-06-01T12:18:32.365978",
     "exception": false,
     "start_time": "2022-06-01T12:18:32.324207",
     "status": "completed"
    },
    "tags": []
   },
   "outputs": [
    {
     "data": {
      "text/plain": [
       "'https://raw.githubusercontent.com/pratapvardhan/notebooks/master/covid19/mapping_countries.csv'"
      ]
     },
     "execution_count": 3,
     "metadata": {},
     "output_type": "execute_result"
    }
   ],
   "source": [
    "#hide\n",
    "paths['mapping']"
   ]
  },
  {
   "cell_type": "code",
   "execution_count": 4,
   "id": "urban-software",
   "metadata": {
    "execution": {
     "iopub.execute_input": "2022-06-01T12:18:32.429680Z",
     "iopub.status.busy": "2022-06-01T12:18:32.429102Z",
     "iopub.status.idle": "2022-06-01T12:18:32.431678Z",
     "shell.execute_reply": "2022-06-01T12:18:32.431212Z"
    },
    "papermill": {
     "duration": 0.036458,
     "end_time": "2022-06-01T12:18:32.431781",
     "exception": false,
     "start_time": "2022-06-01T12:18:32.395323",
     "status": "completed"
    },
    "tags": []
   },
   "outputs": [],
   "source": [
    "#hide\n",
    "def get_mappings(url):\n",
    "    df = pd.read_csv(url)\n",
    "    return {\n",
    "        'df': df,\n",
    "        'replace.country': dict(df.dropna(subset=['Name']).set_index('Country')['Name']),\n",
    "        'map.continent': dict(df.set_index('Name')['Continent'])\n",
    "    }"
   ]
  },
  {
   "cell_type": "code",
   "execution_count": 5,
   "id": "intimate-machinery",
   "metadata": {
    "execution": {
     "iopub.execute_input": "2022-06-01T12:18:32.495233Z",
     "iopub.status.busy": "2022-06-01T12:18:32.494658Z",
     "iopub.status.idle": "2022-06-01T12:18:32.585728Z",
     "shell.execute_reply": "2022-06-01T12:18:32.585239Z"
    },
    "papermill": {
     "duration": 0.12484,
     "end_time": "2022-06-01T12:18:32.585838",
     "exception": false,
     "start_time": "2022-06-01T12:18:32.460998",
     "status": "completed"
    },
    "tags": []
   },
   "outputs": [],
   "source": [
    "#hide\n",
    "mapping = get_mappings(paths['mapping'])"
   ]
  },
  {
   "cell_type": "code",
   "execution_count": 6,
   "id": "certified-tactics",
   "metadata": {
    "execution": {
     "iopub.execute_input": "2022-06-01T12:18:32.649543Z",
     "iopub.status.busy": "2022-06-01T12:18:32.648889Z",
     "iopub.status.idle": "2022-06-01T12:18:32.652801Z",
     "shell.execute_reply": "2022-06-01T12:18:32.653286Z"
    },
    "papermill": {
     "duration": 0.038193,
     "end_time": "2022-06-01T12:18:32.653421",
     "exception": false,
     "start_time": "2022-06-01T12:18:32.615228",
     "status": "completed"
    },
    "tags": []
   },
   "outputs": [],
   "source": [
    "#hide\n",
    "def get_template(path):\n",
    "    from urllib.parse import urlparse\n",
    "    if bool(urlparse(path).netloc):\n",
    "        from urllib.request import urlopen\n",
    "        return urlopen(path).read().decode('utf8')\n",
    "    return open(path).read()"
   ]
  },
  {
   "cell_type": "code",
   "execution_count": 7,
   "id": "realistic-blast",
   "metadata": {
    "execution": {
     "iopub.execute_input": "2022-06-01T12:18:32.716836Z",
     "iopub.status.busy": "2022-06-01T12:18:32.716240Z",
     "iopub.status.idle": "2022-06-01T12:18:32.718610Z",
     "shell.execute_reply": "2022-06-01T12:18:32.719051Z"
    },
    "papermill": {
     "duration": 0.036366,
     "end_time": "2022-06-01T12:18:32.719170",
     "exception": false,
     "start_time": "2022-06-01T12:18:32.682804",
     "status": "completed"
    },
    "tags": []
   },
   "outputs": [],
   "source": [
    "#hide\n",
    "def get_frame(name):\n",
    "    url = (\n",
    "        'https://raw.githubusercontent.com/CSSEGISandData/COVID-19/master/csse_covid_19_data/'\n",
    "        f'csse_covid_19_time_series/time_series_covid19_{name}_global.csv')\n",
    "    df = pd.read_csv(url)\n",
    "    # rename countries\n",
    "    df['Country/Region'] = df['Country/Region'].replace(mapping['replace.country'])\n",
    "    return df"
   ]
  },
  {
   "cell_type": "code",
   "execution_count": 8,
   "id": "affiliated-characterization",
   "metadata": {
    "execution": {
     "iopub.execute_input": "2022-06-01T12:18:32.783685Z",
     "iopub.status.busy": "2022-06-01T12:18:32.783110Z",
     "iopub.status.idle": "2022-06-01T12:18:32.785541Z",
     "shell.execute_reply": "2022-06-01T12:18:32.786011Z"
    },
    "papermill": {
     "duration": 0.037774,
     "end_time": "2022-06-01T12:18:32.786134",
     "exception": false,
     "start_time": "2022-06-01T12:18:32.748360",
     "status": "completed"
    },
    "tags": []
   },
   "outputs": [],
   "source": [
    "#hide\n",
    "def get_dates(df):\n",
    "    dt_cols = df.columns[~df.columns.isin(['Province/State', 'Country/Region', 'Lat', 'Long'])]\n",
    "    LAST_DATE_I = -1\n",
    "    # sometimes last column may be empty, then go backwards\n",
    "    for i in range(-1, -len(dt_cols), -1):\n",
    "        if not df[dt_cols[i]].fillna(0).eq(0).all():\n",
    "            LAST_DATE_I = i\n",
    "            break\n",
    "    return LAST_DATE_I, dt_cols"
   ]
  },
  {
   "cell_type": "code",
   "execution_count": 9,
   "id": "recent-optimization",
   "metadata": {
    "execution": {
     "iopub.execute_input": "2022-06-01T12:18:32.849117Z",
     "iopub.status.busy": "2022-06-01T12:18:32.848448Z",
     "iopub.status.idle": "2022-06-01T12:18:33.630306Z",
     "shell.execute_reply": "2022-06-01T12:18:33.629160Z"
    },
    "papermill": {
     "duration": 0.815094,
     "end_time": "2022-06-01T12:18:33.630438",
     "exception": false,
     "start_time": "2022-06-01T12:18:32.815344",
     "status": "completed"
    },
    "tags": []
   },
   "outputs": [],
   "source": [
    "#hide\n",
    "COL_REGION = 'Country/Region'\n",
    "# Confirmed, Recovered, Deaths\n",
    "df = get_frame('confirmed')\n",
    "# dft_: timeseries, dfc_: today country agg\n",
    "dft_cases = df\n",
    "dft_deaths = get_frame('deaths')\n",
    "dft_recovered = get_frame('recovered')\n",
    "LAST_DATE_I, dt_cols = get_dates(df)"
   ]
  },
  {
   "cell_type": "code",
   "execution_count": 10,
   "id": "absolute-copper",
   "metadata": {
    "execution": {
     "iopub.execute_input": "2022-06-01T12:18:33.694535Z",
     "iopub.status.busy": "2022-06-01T12:18:33.693869Z",
     "iopub.status.idle": "2022-06-01T12:18:33.696007Z",
     "shell.execute_reply": "2022-06-01T12:18:33.695443Z"
    },
    "papermill": {
     "duration": 0.036023,
     "end_time": "2022-06-01T12:18:33.696117",
     "exception": false,
     "start_time": "2022-06-01T12:18:33.660094",
     "status": "completed"
    },
    "tags": []
   },
   "outputs": [],
   "source": [
    "#hide\n",
    "LAST_DATE_I, dt_cols = get_dates(df)\n",
    "dt_today =dt_cols[LAST_DATE_I]\n",
    "# dt_5day = dt_cols[LAST_DATE_I - 5]\n",
    "dt_yday = dt_cols[LAST_DATE_I - 1]"
   ]
  },
  {
   "cell_type": "code",
   "execution_count": 11,
   "id": "restricted-sheriff",
   "metadata": {
    "execution": {
     "iopub.execute_input": "2022-06-01T12:18:33.759639Z",
     "iopub.status.busy": "2022-06-01T12:18:33.759063Z",
     "iopub.status.idle": "2022-06-01T12:18:33.767403Z",
     "shell.execute_reply": "2022-06-01T12:18:33.766932Z"
    },
    "papermill": {
     "duration": 0.04219,
     "end_time": "2022-06-01T12:18:33.767511",
     "exception": false,
     "start_time": "2022-06-01T12:18:33.725321",
     "status": "completed"
    },
    "tags": []
   },
   "outputs": [],
   "source": [
    "#hide\n",
    "dfc_cases = dft_cases.groupby(COL_REGION)[dt_today].sum()\n",
    "dfc_deaths = dft_deaths.groupby(COL_REGION)[dt_today].sum()\n",
    "# dfp_cases = dft_cases.groupby(COL_REGION)[dt_5day].sum()\n",
    "# dfp_deaths = dft_deaths.groupby(COL_REGION)[dt_5day].sum()\n",
    "dfp_cases = dft_cases.groupby(COL_REGION)[dt_yday].sum()\n",
    "dfp_deaths = dft_deaths.groupby(COL_REGION)[dt_yday].sum()"
   ]
  },
  {
   "cell_type": "code",
   "execution_count": 12,
   "id": "deluxe-hepatitis",
   "metadata": {
    "execution": {
     "iopub.execute_input": "2022-06-01T12:18:33.831828Z",
     "iopub.status.busy": "2022-06-01T12:18:33.831259Z",
     "iopub.status.idle": "2022-06-01T12:18:33.835947Z",
     "shell.execute_reply": "2022-06-01T12:18:33.836391Z"
    },
    "papermill": {
     "duration": 0.039722,
     "end_time": "2022-06-01T12:18:33.836543",
     "exception": false,
     "start_time": "2022-06-01T12:18:33.796821",
     "status": "completed"
    },
    "tags": []
   },
   "outputs": [],
   "source": [
    "#hide\n",
    "df_table = (pd.DataFrame(dict(Cases = dfc_cases, Deaths = dfc_deaths, PCases = dfp_cases, PDeaths = dfp_deaths))\n",
    "            .sort_values(by = ['Cases','Deaths'], ascending = [False, False])\n",
    "            .reset_index())"
   ]
  },
  {
   "cell_type": "code",
   "execution_count": 13,
   "id": "educational-chancellor",
   "metadata": {
    "execution": {
     "iopub.execute_input": "2022-06-01T12:18:33.911944Z",
     "iopub.status.busy": "2022-06-01T12:18:33.911368Z",
     "iopub.status.idle": "2022-06-01T12:18:33.919554Z",
     "shell.execute_reply": "2022-06-01T12:18:33.919085Z"
    },
    "papermill": {
     "duration": 0.053767,
     "end_time": "2022-06-01T12:18:33.919661",
     "exception": false,
     "start_time": "2022-06-01T12:18:33.865894",
     "status": "completed"
    },
    "tags": []
   },
   "outputs": [
    {
     "data": {
      "text/html": [
       "<div>\n",
       "<style scoped>\n",
       "    .dataframe tbody tr th:only-of-type {\n",
       "        vertical-align: middle;\n",
       "    }\n",
       "\n",
       "    .dataframe tbody tr th {\n",
       "        vertical-align: top;\n",
       "    }\n",
       "\n",
       "    .dataframe thead th {\n",
       "        text-align: right;\n",
       "    }\n",
       "</style>\n",
       "<table border=\"1\" class=\"dataframe\">\n",
       "  <thead>\n",
       "    <tr style=\"text-align: right;\">\n",
       "      <th></th>\n",
       "      <th>Country/Region</th>\n",
       "      <th>Cases</th>\n",
       "      <th>Deaths</th>\n",
       "      <th>PCases</th>\n",
       "      <th>PDeaths</th>\n",
       "      <th>Cases (+)</th>\n",
       "      <th>Deaths (+)</th>\n",
       "      <th>Fatality Rate</th>\n",
       "      <th>Continent</th>\n",
       "    </tr>\n",
       "  </thead>\n",
       "  <tbody>\n",
       "    <tr>\n",
       "      <th>0</th>\n",
       "      <td>US</td>\n",
       "      <td>84210808</td>\n",
       "      <td>1007032</td>\n",
       "      <td>84012408</td>\n",
       "      <td>1004760</td>\n",
       "      <td>198400</td>\n",
       "      <td>2272</td>\n",
       "      <td>1.20</td>\n",
       "      <td>North America</td>\n",
       "    </tr>\n",
       "    <tr>\n",
       "      <th>1</th>\n",
       "      <td>India</td>\n",
       "      <td>43160832</td>\n",
       "      <td>524636</td>\n",
       "      <td>43158087</td>\n",
       "      <td>524630</td>\n",
       "      <td>2745</td>\n",
       "      <td>6</td>\n",
       "      <td>1.22</td>\n",
       "      <td>Asia</td>\n",
       "    </tr>\n",
       "    <tr>\n",
       "      <th>2</th>\n",
       "      <td>Brazil</td>\n",
       "      <td>31019038</td>\n",
       "      <td>666676</td>\n",
       "      <td>30977661</td>\n",
       "      <td>666516</td>\n",
       "      <td>41377</td>\n",
       "      <td>160</td>\n",
       "      <td>2.15</td>\n",
       "      <td>South America</td>\n",
       "    </tr>\n",
       "    <tr>\n",
       "      <th>3</th>\n",
       "      <td>France</td>\n",
       "      <td>29711870</td>\n",
       "      <td>149366</td>\n",
       "      <td>29676522</td>\n",
       "      <td>149290</td>\n",
       "      <td>35348</td>\n",
       "      <td>76</td>\n",
       "      <td>0.50</td>\n",
       "      <td>Europe</td>\n",
       "    </tr>\n",
       "    <tr>\n",
       "      <th>4</th>\n",
       "      <td>Germany</td>\n",
       "      <td>26360953</td>\n",
       "      <td>139091</td>\n",
       "      <td>26305996</td>\n",
       "      <td>139000</td>\n",
       "      <td>54957</td>\n",
       "      <td>91</td>\n",
       "      <td>0.53</td>\n",
       "      <td>Europe</td>\n",
       "    </tr>\n",
       "  </tbody>\n",
       "</table>\n",
       "</div>"
      ],
      "text/plain": [
       "  Country/Region     Cases   Deaths    PCases  PDeaths  Cases (+)  Deaths (+)  \\\n",
       "0             US  84210808  1007032  84012408  1004760     198400        2272   \n",
       "1          India  43160832   524636  43158087   524630       2745           6   \n",
       "2         Brazil  31019038   666676  30977661   666516      41377         160   \n",
       "3         France  29711870   149366  29676522   149290      35348          76   \n",
       "4        Germany  26360953   139091  26305996   139000      54957          91   \n",
       "\n",
       "   Fatality Rate      Continent  \n",
       "0           1.20  North America  \n",
       "1           1.22           Asia  \n",
       "2           2.15  South America  \n",
       "3           0.50         Europe  \n",
       "4           0.53         Europe  "
      ]
     },
     "execution_count": 13,
     "metadata": {},
     "output_type": "execute_result"
    }
   ],
   "source": [
    "#hide\n",
    "for c in 'Cases, Deaths'.split(', '):\n",
    "    df_table[f'{c} (+)'] = (df_table[c] - df_table[f'P{c}']).clip(0)\n",
    "    #Clip ça veut dire, les chiffres negatif sont interdit\n",
    "df_table['Fatality Rate'] = (100* df_table['Deaths']/ df_table['Cases']).round(2)\n",
    "df_table['Continent'] = df_table['Country/Region'].map(mapping['map.continent'])\n",
    "df_table.head(5)"
   ]
  },
  {
   "cell_type": "code",
   "execution_count": 14,
   "id": "aboriginal-bulgaria",
   "metadata": {
    "execution": {
     "iopub.execute_input": "2022-06-01T12:18:33.983910Z",
     "iopub.status.busy": "2022-06-01T12:18:33.983344Z",
     "iopub.status.idle": "2022-06-01T12:18:33.986306Z",
     "shell.execute_reply": "2022-06-01T12:18:33.986858Z"
    },
    "papermill": {
     "duration": 0.037436,
     "end_time": "2022-06-01T12:18:33.986982",
     "exception": false,
     "start_time": "2022-06-01T12:18:33.949546",
     "status": "completed"
    },
    "tags": []
   },
   "outputs": [],
   "source": [
    "#hide\n",
    "#delete problematic countries from table\n",
    "df_table = df_table[~df_table['Country/Region'].isin(['Cape Verde', 'Cruise Ship', 'Kosovo'])]"
   ]
  },
  {
   "cell_type": "code",
   "execution_count": 15,
   "id": "fantastic-effect",
   "metadata": {
    "execution": {
     "iopub.execute_input": "2022-06-01T12:18:34.053715Z",
     "iopub.status.busy": "2022-06-01T12:18:34.053143Z",
     "iopub.status.idle": "2022-06-01T12:18:34.070489Z",
     "shell.execute_reply": "2022-06-01T12:18:34.070016Z"
    },
    "papermill": {
     "duration": 0.054048,
     "end_time": "2022-06-01T12:18:34.070596",
     "exception": false,
     "start_time": "2022-06-01T12:18:34.016548",
     "status": "completed"
    },
    "tags": []
   },
   "outputs": [
    {
     "data": {
      "text/html": [
       "<div>\n",
       "<style scoped>\n",
       "    .dataframe tbody tr th:only-of-type {\n",
       "        vertical-align: middle;\n",
       "    }\n",
       "\n",
       "    .dataframe tbody tr th {\n",
       "        vertical-align: top;\n",
       "    }\n",
       "\n",
       "    .dataframe thead th {\n",
       "        text-align: right;\n",
       "    }\n",
       "</style>\n",
       "<table border=\"1\" class=\"dataframe\">\n",
       "  <thead>\n",
       "    <tr style=\"text-align: right;\">\n",
       "      <th></th>\n",
       "      <th>Country/Region</th>\n",
       "      <th>Cases</th>\n",
       "      <th>Deaths</th>\n",
       "      <th>PCases</th>\n",
       "      <th>PDeaths</th>\n",
       "      <th>Cases (+)</th>\n",
       "      <th>Deaths (+)</th>\n",
       "      <th>Fatality Rate</th>\n",
       "      <th>Continent</th>\n",
       "    </tr>\n",
       "  </thead>\n",
       "  <tbody>\n",
       "    <tr>\n",
       "      <th>0</th>\n",
       "      <td>US</td>\n",
       "      <td>84210808</td>\n",
       "      <td>1007032</td>\n",
       "      <td>84012408</td>\n",
       "      <td>1004760</td>\n",
       "      <td>198400</td>\n",
       "      <td>2272</td>\n",
       "      <td>1.2</td>\n",
       "      <td>North America</td>\n",
       "    </tr>\n",
       "    <tr>\n",
       "      <th>1</th>\n",
       "      <td>India</td>\n",
       "      <td>43160832</td>\n",
       "      <td>524636</td>\n",
       "      <td>43158087</td>\n",
       "      <td>524630</td>\n",
       "      <td>2745</td>\n",
       "      <td>6</td>\n",
       "      <td>1.2</td>\n",
       "      <td>Asia</td>\n",
       "    </tr>\n",
       "    <tr>\n",
       "      <th>2</th>\n",
       "      <td>Brazil</td>\n",
       "      <td>31019038</td>\n",
       "      <td>666676</td>\n",
       "      <td>30977661</td>\n",
       "      <td>666516</td>\n",
       "      <td>41377</td>\n",
       "      <td>160</td>\n",
       "      <td>2.1</td>\n",
       "      <td>South America</td>\n",
       "    </tr>\n",
       "    <tr>\n",
       "      <th>3</th>\n",
       "      <td>France</td>\n",
       "      <td>29711870</td>\n",
       "      <td>149366</td>\n",
       "      <td>29676522</td>\n",
       "      <td>149290</td>\n",
       "      <td>35348</td>\n",
       "      <td>76</td>\n",
       "      <td>0.5</td>\n",
       "      <td>Europe</td>\n",
       "    </tr>\n",
       "    <tr>\n",
       "      <th>4</th>\n",
       "      <td>Germany</td>\n",
       "      <td>26360953</td>\n",
       "      <td>139091</td>\n",
       "      <td>26305996</td>\n",
       "      <td>139000</td>\n",
       "      <td>54957</td>\n",
       "      <td>91</td>\n",
       "      <td>0.5</td>\n",
       "      <td>Europe</td>\n",
       "    </tr>\n",
       "  </tbody>\n",
       "</table>\n",
       "</div>"
      ],
      "text/plain": [
       "  Country/Region     Cases   Deaths    PCases  PDeaths  Cases (+)  Deaths (+)  \\\n",
       "0             US  84210808  1007032  84012408  1004760     198400        2272   \n",
       "1          India  43160832   524636  43158087   524630       2745           6   \n",
       "2         Brazil  31019038   666676  30977661   666516      41377         160   \n",
       "3         France  29711870   149366  29676522   149290      35348          76   \n",
       "4        Germany  26360953   139091  26305996   139000      54957          91   \n",
       "\n",
       "   Fatality Rate      Continent  \n",
       "0            1.2  North America  \n",
       "1            1.2           Asia  \n",
       "2            2.1  South America  \n",
       "3            0.5         Europe  \n",
       "4            0.5         Europe  "
      ]
     },
     "execution_count": 15,
     "metadata": {},
     "output_type": "execute_result"
    }
   ],
   "source": [
    "#hide\n",
    "df_table = (pd.DataFrame(dict(Cases=dfc_cases, Deaths=dfc_deaths, PCases=dfp_cases, PDeaths=dfp_deaths))\n",
    "             .sort_values(by=['Cases', 'Deaths'], ascending=[False, False])\n",
    "             .reset_index())\n",
    "df_table.rename(columns={'index': 'Country/Region'}, inplace=True)\n",
    "for c in 'Cases, Deaths'.split(', '):\n",
    "    df_table[f'{c} (+)'] = (df_table[c] - df_table[f'P{c}']).clip(0)  # DATA BUG\n",
    "df_table['Fatality Rate'] = (100 * df_table['Deaths'] / df_table['Cases']).round(1)\n",
    "df_table['Continent'] = df_table['Country/Region'].map(mapping['map.continent'])\n",
    "df_table.head(5)"
   ]
  },
  {
   "cell_type": "code",
   "execution_count": 16,
   "id": "fewer-occasion",
   "metadata": {
    "execution": {
     "iopub.execute_input": "2022-06-01T12:18:34.136431Z",
     "iopub.status.busy": "2022-06-01T12:18:34.135865Z",
     "iopub.status.idle": "2022-06-01T12:18:34.138816Z",
     "shell.execute_reply": "2022-06-01T12:18:34.138375Z"
    },
    "papermill": {
     "duration": 0.03786,
     "end_time": "2022-06-01T12:18:34.138925",
     "exception": false,
     "start_time": "2022-06-01T12:18:34.101065",
     "status": "completed"
    },
    "tags": []
   },
   "outputs": [],
   "source": [
    "#hide\n",
    "#delete problematic countries from table\n",
    "df_table = df_table[~df_table['Country/Region'].isin(['Cape Verde', 'Cruise Ship', 'Kosovo'])]"
   ]
  },
  {
   "cell_type": "code",
   "execution_count": 17,
   "id": "related-center",
   "metadata": {
    "execution": {
     "iopub.execute_input": "2022-06-01T12:18:34.206317Z",
     "iopub.status.busy": "2022-06-01T12:18:34.205739Z",
     "iopub.status.idle": "2022-06-01T12:18:34.218833Z",
     "shell.execute_reply": "2022-06-01T12:18:34.218263Z"
    },
    "papermill": {
     "duration": 0.049376,
     "end_time": "2022-06-01T12:18:34.218941",
     "exception": false,
     "start_time": "2022-06-01T12:18:34.169565",
     "status": "completed"
    },
    "tags": []
   },
   "outputs": [],
   "source": [
    "#hide\n",
    "metrics = [df_table.columns[index] for index in [1,2,5,6]]\n",
    "# s_china = df_table[df_table['Country/Region'].eq('China')][metrics].sum().add_prefix('China ')\n",
    "s_us = df_table[df_table['Country/Region'].eq('US')][metrics].sum().add_prefix('US ')\n",
    "s_eu = df_table[df_table['Continent'].eq('Europe')][metrics].sum().add_prefix('EU ')\n",
    "s_ind = df_table[df_table['Country/Region'].eq('India')][metrics].sum().add_prefix('India ')\n",
    "summary = {'updated': pd.to_datetime(dt_today), 'since': pd.to_datetime(dt_yday)}\n",
    "summary = {'updated': pd.to_datetime(dt_today), 'since': pd.to_datetime(dt_yday)}\n",
    "summary = {**summary, **df_table[metrics].sum(), **s_ind, **s_us, **s_eu}"
   ]
  },
  {
   "cell_type": "code",
   "execution_count": 18,
   "id": "engaging-syndrome",
   "metadata": {
    "execution": {
     "iopub.execute_input": "2022-06-01T12:18:34.284284Z",
     "iopub.status.busy": "2022-06-01T12:18:34.283721Z",
     "iopub.status.idle": "2022-06-01T12:18:34.302187Z",
     "shell.execute_reply": "2022-06-01T12:18:34.301722Z"
    },
    "papermill": {
     "duration": 0.052965,
     "end_time": "2022-06-01T12:18:34.302292",
     "exception": false,
     "start_time": "2022-06-01T12:18:34.249327",
     "status": "completed"
    },
    "tags": []
   },
   "outputs": [],
   "source": [
    "#hide\n",
    "dft_ct_new_cases = dft_cases.groupby(COL_REGION)[dt_cols].sum().diff(axis=1).fillna(0).astype(int)"
   ]
  },
  {
   "cell_type": "code",
   "execution_count": 19,
   "id": "neutral-assignment",
   "metadata": {
    "execution": {
     "iopub.execute_input": "2022-06-01T12:18:34.367620Z",
     "iopub.status.busy": "2022-06-01T12:18:34.367058Z",
     "iopub.status.idle": "2022-06-01T12:18:34.370019Z",
     "shell.execute_reply": "2022-06-01T12:18:34.370566Z"
    },
    "papermill": {
     "duration": 0.038123,
     "end_time": "2022-06-01T12:18:34.370684",
     "exception": false,
     "start_time": "2022-06-01T12:18:34.332561",
     "status": "completed"
    },
    "tags": []
   },
   "outputs": [],
   "source": [
    "#hide\n",
    "everydaycases = dft_ct_new_cases.cumsum(axis=1)"
   ]
  },
  {
   "cell_type": "code",
   "execution_count": 20,
   "id": "parliamentary-calgary",
   "metadata": {
    "execution": {
     "iopub.execute_input": "2022-06-01T12:18:34.435271Z",
     "iopub.status.busy": "2022-06-01T12:18:34.434699Z",
     "iopub.status.idle": "2022-06-01T12:18:34.963068Z",
     "shell.execute_reply": "2022-06-01T12:18:34.962497Z"
    },
    "papermill": {
     "duration": 0.562261,
     "end_time": "2022-06-01T12:18:34.963207",
     "exception": false,
     "start_time": "2022-06-01T12:18:34.400946",
     "status": "completed"
    },
    "tags": []
   },
   "outputs": [],
   "source": [
    "#hide\n",
    "import pandas as pd\n",
    "import matplotlib.pyplot as plt\n",
    "import matplotlib.ticker as ticker\n",
    "import matplotlib.animation as animation\n",
    "from IPython.display import HTML"
   ]
  },
  {
   "cell_type": "code",
   "execution_count": 21,
   "id": "lasting-extraction",
   "metadata": {
    "execution": {
     "iopub.execute_input": "2022-06-01T12:18:35.030058Z",
     "iopub.status.busy": "2022-06-01T12:18:35.029490Z",
     "iopub.status.idle": "2022-06-01T12:18:35.036709Z",
     "shell.execute_reply": "2022-06-01T12:18:35.037133Z"
    },
    "papermill": {
     "duration": 0.043635,
     "end_time": "2022-06-01T12:18:35.037256",
     "exception": false,
     "start_time": "2022-06-01T12:18:34.993621",
     "status": "completed"
    },
    "tags": []
   },
   "outputs": [],
   "source": [
    "#hide\n",
    "t = everydaycases.stack()"
   ]
  },
  {
   "cell_type": "code",
   "execution_count": 22,
   "id": "premier-sleeve",
   "metadata": {
    "execution": {
     "iopub.execute_input": "2022-06-01T12:18:35.101712Z",
     "iopub.status.busy": "2022-06-01T12:18:35.101148Z",
     "iopub.status.idle": "2022-06-01T12:18:35.112117Z",
     "shell.execute_reply": "2022-06-01T12:18:35.112693Z"
    },
    "papermill": {
     "duration": 0.045289,
     "end_time": "2022-06-01T12:18:35.112817",
     "exception": false,
     "start_time": "2022-06-01T12:18:35.067528",
     "status": "completed"
    },
    "tags": []
   },
   "outputs": [],
   "source": [
    "#hide\n",
    "g = t.reset_index(['Country/Region'])"
   ]
  },
  {
   "cell_type": "code",
   "execution_count": 23,
   "id": "distributed-pittsburgh",
   "metadata": {
    "execution": {
     "iopub.execute_input": "2022-06-01T12:18:35.176890Z",
     "iopub.status.busy": "2022-06-01T12:18:35.176288Z",
     "iopub.status.idle": "2022-06-01T12:18:35.178420Z",
     "shell.execute_reply": "2022-06-01T12:18:35.178885Z"
    },
    "papermill": {
     "duration": 0.036208,
     "end_time": "2022-06-01T12:18:35.179000",
     "exception": false,
     "start_time": "2022-06-01T12:18:35.142792",
     "status": "completed"
    },
    "tags": []
   },
   "outputs": [],
   "source": [
    "#hide\n",
    "g.index.name = 'date'"
   ]
  },
  {
   "cell_type": "code",
   "execution_count": 24,
   "id": "naked-donor",
   "metadata": {
    "execution": {
     "iopub.execute_input": "2022-06-01T12:18:35.242954Z",
     "iopub.status.busy": "2022-06-01T12:18:35.242293Z",
     "iopub.status.idle": "2022-06-01T12:18:35.244878Z",
     "shell.execute_reply": "2022-06-01T12:18:35.244343Z"
    },
    "papermill": {
     "duration": 0.035854,
     "end_time": "2022-06-01T12:18:35.245001",
     "exception": false,
     "start_time": "2022-06-01T12:18:35.209147",
     "status": "completed"
    },
    "tags": []
   },
   "outputs": [],
   "source": [
    "# #hide\n",
    "# g = g.reset_index(['date'])"
   ]
  },
  {
   "cell_type": "code",
   "execution_count": 25,
   "id": "incomplete-mustang",
   "metadata": {
    "execution": {
     "iopub.execute_input": "2022-06-01T12:18:35.309020Z",
     "iopub.status.busy": "2022-06-01T12:18:35.308352Z",
     "iopub.status.idle": "2022-06-01T12:18:35.310936Z",
     "shell.execute_reply": "2022-06-01T12:18:35.310383Z"
    },
    "papermill": {
     "duration": 0.035487,
     "end_time": "2022-06-01T12:18:35.311037",
     "exception": false,
     "start_time": "2022-06-01T12:18:35.275550",
     "status": "completed"
    },
    "tags": []
   },
   "outputs": [],
   "source": [
    "#hide\n",
    "# g.head()"
   ]
  },
  {
   "cell_type": "code",
   "execution_count": 26,
   "id": "specific-kruger",
   "metadata": {
    "execution": {
     "iopub.execute_input": "2022-06-01T12:18:35.374736Z",
     "iopub.status.busy": "2022-06-01T12:18:35.374086Z",
     "iopub.status.idle": "2022-06-01T12:18:35.376092Z",
     "shell.execute_reply": "2022-06-01T12:18:35.376612Z"
    },
    "papermill": {
     "duration": 0.035537,
     "end_time": "2022-06-01T12:18:35.376749",
     "exception": false,
     "start_time": "2022-06-01T12:18:35.341212",
     "status": "completed"
    },
    "tags": []
   },
   "outputs": [],
   "source": [
    "#hide\n",
    "# g.columns = ['date','country','cases']"
   ]
  },
  {
   "cell_type": "code",
   "execution_count": 27,
   "id": "tender-conversion",
   "metadata": {
    "execution": {
     "iopub.execute_input": "2022-06-01T12:18:35.440664Z",
     "iopub.status.busy": "2022-06-01T12:18:35.440074Z",
     "iopub.status.idle": "2022-06-01T12:18:35.442854Z",
     "shell.execute_reply": "2022-06-01T12:18:35.442419Z"
    },
    "papermill": {
     "duration": 0.035781,
     "end_time": "2022-06-01T12:18:35.442960",
     "exception": false,
     "start_time": "2022-06-01T12:18:35.407179",
     "status": "completed"
    },
    "tags": []
   },
   "outputs": [],
   "source": [
    "#hide\n",
    "# g['continent'] = g.country"
   ]
  },
  {
   "cell_type": "code",
   "execution_count": 28,
   "id": "substantial-wilderness",
   "metadata": {
    "execution": {
     "iopub.execute_input": "2022-06-01T12:18:35.506427Z",
     "iopub.status.busy": "2022-06-01T12:18:35.505868Z",
     "iopub.status.idle": "2022-06-01T12:18:35.508142Z",
     "shell.execute_reply": "2022-06-01T12:18:35.508636Z"
    },
    "papermill": {
     "duration": 0.035593,
     "end_time": "2022-06-01T12:18:35.508751",
     "exception": false,
     "start_time": "2022-06-01T12:18:35.473158",
     "status": "completed"
    },
    "tags": []
   },
   "outputs": [],
   "source": [
    "#hide\n",
    "# cols = list(g.columns.values)"
   ]
  },
  {
   "cell_type": "code",
   "execution_count": 29,
   "id": "solved-farming",
   "metadata": {
    "execution": {
     "iopub.execute_input": "2022-06-01T12:18:35.572354Z",
     "iopub.status.busy": "2022-06-01T12:18:35.571721Z",
     "iopub.status.idle": "2022-06-01T12:18:35.575702Z",
     "shell.execute_reply": "2022-06-01T12:18:35.576117Z"
    },
    "papermill": {
     "duration": 0.037438,
     "end_time": "2022-06-01T12:18:35.576233",
     "exception": false,
     "start_time": "2022-06-01T12:18:35.538795",
     "status": "completed"
    },
    "tags": []
   },
   "outputs": [],
   "source": [
    "#hide\n",
    "# cols.insert(0, cols.pop())"
   ]
  },
  {
   "cell_type": "code",
   "execution_count": 30,
   "id": "executed-adoption",
   "metadata": {
    "execution": {
     "iopub.execute_input": "2022-06-01T12:18:35.639848Z",
     "iopub.status.busy": "2022-06-01T12:18:35.639275Z",
     "iopub.status.idle": "2022-06-01T12:18:35.642017Z",
     "shell.execute_reply": "2022-06-01T12:18:35.641557Z"
    },
    "papermill": {
     "duration": 0.035659,
     "end_time": "2022-06-01T12:18:35.642117",
     "exception": false,
     "start_time": "2022-06-01T12:18:35.606458",
     "status": "completed"
    },
    "tags": []
   },
   "outputs": [],
   "source": [
    "#hide\n",
    "# g = g[cols]"
   ]
  },
  {
   "cell_type": "code",
   "execution_count": 31,
   "id": "subject-dublin",
   "metadata": {
    "execution": {
     "iopub.execute_input": "2022-06-01T12:18:35.706065Z",
     "iopub.status.busy": "2022-06-01T12:18:35.705490Z",
     "iopub.status.idle": "2022-06-01T12:18:35.708010Z",
     "shell.execute_reply": "2022-06-01T12:18:35.707448Z"
    },
    "papermill": {
     "duration": 0.035893,
     "end_time": "2022-06-01T12:18:35.708111",
     "exception": false,
     "start_time": "2022-06-01T12:18:35.672218",
     "status": "completed"
    },
    "tags": []
   },
   "outputs": [],
   "source": [
    "#hide\n",
    "# g['continent'] = g['continent'].map(mapping['map.continent'])"
   ]
  },
  {
   "cell_type": "code",
   "execution_count": 32,
   "id": "freelance-scout",
   "metadata": {
    "execution": {
     "iopub.execute_input": "2022-06-01T12:18:35.771794Z",
     "iopub.status.busy": "2022-06-01T12:18:35.771235Z",
     "iopub.status.idle": "2022-06-01T12:18:35.773876Z",
     "shell.execute_reply": "2022-06-01T12:18:35.773316Z"
    },
    "papermill": {
     "duration": 0.03559,
     "end_time": "2022-06-01T12:18:35.773978",
     "exception": false,
     "start_time": "2022-06-01T12:18:35.738388",
     "status": "completed"
    },
    "tags": []
   },
   "outputs": [],
   "source": [
    "#hide\n",
    "# g.head()"
   ]
  },
  {
   "cell_type": "code",
   "execution_count": 33,
   "id": "limited-engine",
   "metadata": {
    "execution": {
     "iopub.execute_input": "2022-06-01T12:18:35.837533Z",
     "iopub.status.busy": "2022-06-01T12:18:35.836885Z",
     "iopub.status.idle": "2022-06-01T12:18:35.839248Z",
     "shell.execute_reply": "2022-06-01T12:18:35.838696Z"
    },
    "papermill": {
     "duration": 0.035448,
     "end_time": "2022-06-01T12:18:35.839348",
     "exception": false,
     "start_time": "2022-06-01T12:18:35.803900",
     "status": "completed"
    },
    "tags": []
   },
   "outputs": [],
   "source": [
    "# hide\n",
    "# g['date'] = g['date'].astype('datetime64[ns]')"
   ]
  },
  {
   "cell_type": "code",
   "execution_count": 34,
   "id": "sophisticated-supervisor",
   "metadata": {
    "execution": {
     "iopub.execute_input": "2022-06-01T12:18:35.903167Z",
     "iopub.status.busy": "2022-06-01T12:18:35.902515Z",
     "iopub.status.idle": "2022-06-01T12:18:35.905030Z",
     "shell.execute_reply": "2022-06-01T12:18:35.904467Z"
    },
    "papermill": {
     "duration": 0.035542,
     "end_time": "2022-06-01T12:18:35.905147",
     "exception": false,
     "start_time": "2022-06-01T12:18:35.869605",
     "status": "completed"
    },
    "tags": []
   },
   "outputs": [],
   "source": [
    "#hide\n",
    "# g['date'] = g.date.dt.dayofyear"
   ]
  },
  {
   "cell_type": "code",
   "execution_count": 35,
   "id": "inside-dubai",
   "metadata": {
    "execution": {
     "iopub.execute_input": "2022-06-01T12:18:35.969126Z",
     "iopub.status.busy": "2022-06-01T12:18:35.968543Z",
     "iopub.status.idle": "2022-06-01T12:18:35.971310Z",
     "shell.execute_reply": "2022-06-01T12:18:35.970848Z"
    },
    "papermill": {
     "duration": 0.035711,
     "end_time": "2022-06-01T12:18:35.971412",
     "exception": false,
     "start_time": "2022-06-01T12:18:35.935701",
     "status": "completed"
    },
    "tags": []
   },
   "outputs": [],
   "source": [
    "#hide\n",
    "# g = g.rename(columns= {'continent':'group','country':'name','cases':'value'})"
   ]
  },
  {
   "cell_type": "code",
   "execution_count": 36,
   "id": "fleet-motorcycle",
   "metadata": {
    "execution": {
     "iopub.execute_input": "2022-06-01T12:18:36.035473Z",
     "iopub.status.busy": "2022-06-01T12:18:36.034817Z",
     "iopub.status.idle": "2022-06-01T12:18:36.039072Z",
     "shell.execute_reply": "2022-06-01T12:18:36.038601Z"
    },
    "papermill": {
     "duration": 0.037537,
     "end_time": "2022-06-01T12:18:36.039177",
     "exception": false,
     "start_time": "2022-06-01T12:18:36.001640",
     "status": "completed"
    },
    "tags": []
   },
   "outputs": [],
   "source": [
    "#hide\n",
    "# cols = ['name','group','day','value']"
   ]
  },
  {
   "cell_type": "code",
   "execution_count": 37,
   "id": "continued-sleeping",
   "metadata": {
    "execution": {
     "iopub.execute_input": "2022-06-01T12:18:36.103522Z",
     "iopub.status.busy": "2022-06-01T12:18:36.102954Z",
     "iopub.status.idle": "2022-06-01T12:18:36.105849Z",
     "shell.execute_reply": "2022-06-01T12:18:36.105287Z"
    },
    "papermill": {
     "duration": 0.036481,
     "end_time": "2022-06-01T12:18:36.105956",
     "exception": false,
     "start_time": "2022-06-01T12:18:36.069475",
     "status": "completed"
    },
    "tags": []
   },
   "outputs": [],
   "source": [
    "#hide\n",
    "# g.rename(columns= {'date':'day'},inplace = True)"
   ]
  },
  {
   "cell_type": "code",
   "execution_count": 38,
   "id": "major-fight",
   "metadata": {
    "execution": {
     "iopub.execute_input": "2022-06-01T12:18:36.171152Z",
     "iopub.status.busy": "2022-06-01T12:18:36.170466Z",
     "iopub.status.idle": "2022-06-01T12:18:36.173362Z",
     "shell.execute_reply": "2022-06-01T12:18:36.172822Z"
    },
    "papermill": {
     "duration": 0.037203,
     "end_time": "2022-06-01T12:18:36.173512",
     "exception": false,
     "start_time": "2022-06-01T12:18:36.136309",
     "status": "completed"
    },
    "tags": []
   },
   "outputs": [],
   "source": [
    "#hide\n",
    "# g = g[cols]"
   ]
  },
  {
   "cell_type": "code",
   "execution_count": 39,
   "id": "structured-mobile",
   "metadata": {
    "execution": {
     "iopub.execute_input": "2022-06-01T12:18:36.238151Z",
     "iopub.status.busy": "2022-06-01T12:18:36.237503Z",
     "iopub.status.idle": "2022-06-01T12:18:36.241845Z",
     "shell.execute_reply": "2022-06-01T12:18:36.241313Z"
    },
    "papermill": {
     "duration": 0.037758,
     "end_time": "2022-06-01T12:18:36.241964",
     "exception": false,
     "start_time": "2022-06-01T12:18:36.204206",
     "status": "completed"
    },
    "tags": []
   },
   "outputs": [],
   "source": [
    "# #hide\n",
    "# g = g[g.group.notna()]"
   ]
  },
  {
   "cell_type": "code",
   "execution_count": 40,
   "id": "determined-closing",
   "metadata": {
    "execution": {
     "iopub.execute_input": "2022-06-01T12:18:36.306841Z",
     "iopub.status.busy": "2022-06-01T12:18:36.306258Z",
     "iopub.status.idle": "2022-06-01T12:18:36.308435Z",
     "shell.execute_reply": "2022-06-01T12:18:36.308914Z"
    },
    "papermill": {
     "duration": 0.036254,
     "end_time": "2022-06-01T12:18:36.309037",
     "exception": false,
     "start_time": "2022-06-01T12:18:36.272783",
     "status": "completed"
    },
    "tags": []
   },
   "outputs": [],
   "source": [
    "# #hide\n",
    "# colors = dict(zip(\n",
    "#     [\"Oceania\", \"Europe\", \"Asia\", \"South America\", \"Middle East\", \"North America\", \"Africa\"],\n",
    "#     [\"#adb0ff\", \"#ffb3ff\", \"#90d595\", \"#e48381\", \"#aafbff\", \"#f7bb5f\", \"#eafb50\"]\n",
    "# ))\n",
    "# group_lk = g.set_index('name')['group'].to_dict()"
   ]
  },
  {
   "cell_type": "code",
   "execution_count": null,
   "id": "gross-drinking",
   "metadata": {
    "papermill": {
     "duration": 0.030077,
     "end_time": "2022-06-01T12:18:36.369098",
     "exception": false,
     "start_time": "2022-06-01T12:18:36.339021",
     "status": "completed"
    },
    "tags": []
   },
   "outputs": [],
   "source": []
  },
  {
   "cell_type": "code",
   "execution_count": 41,
   "id": "subject-macintosh",
   "metadata": {
    "execution": {
     "iopub.execute_input": "2022-06-01T12:18:36.434116Z",
     "iopub.status.busy": "2022-06-01T12:18:36.433358Z",
     "iopub.status.idle": "2022-06-01T12:18:36.435703Z",
     "shell.execute_reply": "2022-06-01T12:18:36.435064Z"
    },
    "papermill": {
     "duration": 0.036468,
     "end_time": "2022-06-01T12:18:36.435819",
     "exception": false,
     "start_time": "2022-06-01T12:18:36.399351",
     "status": "completed"
    },
    "tags": []
   },
   "outputs": [],
   "source": [
    "# #hide\n",
    "# fig, ax = plt.subplots(figsize=(15, 8))\n",
    "\n",
    "# def draw_barchart(current_day):\n",
    "#     dff = g[g['day'].eq(current_day)].sort_values(by='value', ascending=True).tail(10)\n",
    "#     ax.clear()\n",
    "#     ax.barh(dff['name'], dff['value'], color=[colors[group_lk[x]] for x in dff['name']])\n",
    "#     dx = dff['value'].max() / 200\n",
    "    \n",
    "#     for i, (value, name) in enumerate(zip(dff['value'], dff['name'])):\n",
    "#         ax.text(value-dx, i,     name,           size=14, weight=600, ha='right', va='bottom')\n",
    "#         ax.text(value-dx, i-.25, group_lk[name], size=10, color='#444444', ha='right', va='baseline')\n",
    "#         ax.text(value+dx, i,     f'{value:,.0f}',  size=14, ha='left',  va='center')\n",
    "#     ax.text(1, 0.4, current_day, transform=ax.transAxes, color='#777777', size=46, ha='right', weight=800)\n",
    "#     ax.text(0, 1.06, 'Population (thousands)', transform=ax.transAxes, size=12, color='#777777')\n",
    "#     ax.xaxis.set_major_formatter(ticker.StrMethodFormatter('{x:,.0f}'))\n",
    "#     ax.xaxis.set_ticks_position('top')\n",
    "#     ax.tick_params(axis='x', colors='#777777', labelsize=12)\n",
    "#     ax.set_yticks([])\n",
    "#     ax.margins(0, 0.01)\n",
    "#     ax.grid(which='major', axis='x', linestyle='-')\n",
    "#     ax.set_axisbelow(True)\n",
    "    \n",
    "#     ax.text(0, 1.15, 'Coronavirus',\n",
    "#             transform=ax.transAxes, size=24, weight=600, ha='left', va='top')\n",
    "# #     ax.text(1, 0, 'by @pratapvardhan; credit @jburnmurdoch', transform=ax.transAxes, color='#777777', ha='right',\n",
    "# #             bbox=dict(facecolor='white', alpha=0.8, edgecolor='white'))\n",
    "#     plt.box(False)"
   ]
  },
  {
   "cell_type": "code",
   "execution_count": 42,
   "id": "sexual-wages",
   "metadata": {
    "execution": {
     "iopub.execute_input": "2022-06-01T12:18:36.499880Z",
     "iopub.status.busy": "2022-06-01T12:18:36.499306Z",
     "iopub.status.idle": "2022-06-01T12:18:36.501849Z",
     "shell.execute_reply": "2022-06-01T12:18:36.501383Z"
    },
    "papermill": {
     "duration": 0.03568,
     "end_time": "2022-06-01T12:18:36.501952",
     "exception": false,
     "start_time": "2022-06-01T12:18:36.466272",
     "status": "completed"
    },
    "tags": []
   },
   "outputs": [],
   "source": [
    "# #hide_input\n",
    "# fig, ax = plt.subplots(figsize=(15, 8))\n",
    "# animator = animation.FuncAnimation(fig, draw_barchart, frames=range(g.day.values.min(), g.day.values.max()))\n",
    "# HTML(animator.to_jshtml())\n",
    "# # or use animator.to_html5_video() or animator.save() "
   ]
  },
  {
   "cell_type": "code",
   "execution_count": null,
   "id": "australian-container",
   "metadata": {
    "papermill": {
     "duration": 0.030163,
     "end_time": "2022-06-01T12:18:36.562311",
     "exception": false,
     "start_time": "2022-06-01T12:18:36.532148",
     "status": "completed"
    },
    "tags": []
   },
   "outputs": [],
   "source": []
  },
  {
   "cell_type": "code",
   "execution_count": null,
   "id": "mediterranean-pontiac",
   "metadata": {
    "papermill": {
     "duration": 0.030201,
     "end_time": "2022-06-01T12:18:36.622656",
     "exception": false,
     "start_time": "2022-06-01T12:18:36.592455",
     "status": "completed"
    },
    "tags": []
   },
   "outputs": [],
   "source": []
  },
  {
   "cell_type": "code",
   "execution_count": null,
   "id": "aging-legislature",
   "metadata": {
    "papermill": {
     "duration": 0.030141,
     "end_time": "2022-06-01T12:18:36.683172",
     "exception": false,
     "start_time": "2022-06-01T12:18:36.653031",
     "status": "completed"
    },
    "tags": []
   },
   "outputs": [],
   "source": []
  }
 ],
 "metadata": {
  "kernelspec": {
   "display_name": "Python 3",
   "language": "python",
   "name": "python3"
  },
  "language_info": {
   "codemirror_mode": {
    "name": "ipython",
    "version": 3
   },
   "file_extension": ".py",
   "mimetype": "text/x-python",
   "name": "python",
   "nbconvert_exporter": "python",
   "pygments_lexer": "ipython3",
   "version": "3.6.15"
  },
  "papermill": {
   "duration": 6.156673,
   "end_time": "2022-06-01T12:18:37.032599",
   "environment_variables": {},
   "exception": null,
   "input_path": "2020-03-21-covid19exp.ipynb",
   "output_path": "2020-03-21-covid19exp.ipynb",
   "parameters": {},
   "start_time": "2022-06-01T12:18:30.875926",
   "version": "2.0.0"
  }
 },
 "nbformat": 4,
 "nbformat_minor": 5
}