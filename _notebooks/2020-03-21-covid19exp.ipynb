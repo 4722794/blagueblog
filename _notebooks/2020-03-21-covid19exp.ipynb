{
 "cells": [
  {
   "cell_type": "markdown",
   "id": "muslim-click",
   "metadata": {
    "papermill": {
     "duration": 0.043094,
     "end_time": "2021-11-25T12:12:41.480852",
     "exception": false,
     "start_time": "2021-11-25T12:12:41.437758",
     "status": "completed"
    },
    "tags": []
   },
   "source": [
    "# COVID-19 Case Race\n",
    "> A race chart to see rising cases around the world\n",
    "\n",
    "- author: Hargun Oberoi\n",
    "- image: images/covid-overview.png\n",
    "- hide: false\n",
    "- badges: false"
   ]
  },
  {
   "cell_type": "code",
   "execution_count": 1,
   "id": "proof-material",
   "metadata": {
    "execution": {
     "iopub.execute_input": "2021-11-25T12:12:41.569628Z",
     "iopub.status.busy": "2021-11-25T12:12:41.568946Z",
     "iopub.status.idle": "2021-11-25T12:12:41.977549Z",
     "shell.execute_reply": "2021-11-25T12:12:41.976935Z"
    },
    "papermill": {
     "duration": 0.457258,
     "end_time": "2021-11-25T12:12:41.977719",
     "exception": false,
     "start_time": "2021-11-25T12:12:41.520461",
     "status": "completed"
    },
    "tags": []
   },
   "outputs": [],
   "source": [
    "#hide\n",
    "import numpy as np\n",
    "import pandas as pd\n",
    "from jinja2 import Template\n",
    "from IPython.display import HTML"
   ]
  },
  {
   "cell_type": "code",
   "execution_count": 2,
   "id": "developed-terminology",
   "metadata": {
    "execution": {
     "iopub.execute_input": "2021-11-25T12:12:42.068170Z",
     "iopub.status.busy": "2021-11-25T12:12:42.066593Z",
     "iopub.status.idle": "2021-11-25T12:12:42.068943Z",
     "shell.execute_reply": "2021-11-25T12:12:42.069498Z"
    },
    "papermill": {
     "duration": 0.048195,
     "end_time": "2021-11-25T12:12:42.069652",
     "exception": false,
     "start_time": "2021-11-25T12:12:42.021457",
     "status": "completed"
    },
    "tags": []
   },
   "outputs": [],
   "source": [
    "#hide\n",
    "\n",
    "# FETCH\n",
    "base_url = 'https://raw.githubusercontent.com/pratapvardhan/notebooks/master/covid19/'\n",
    "paths = {\n",
    "    'mapping': base_url + 'mapping_countries.csv',\n",
    "    'overview': base_url + 'overview.tpl'\n",
    "}"
   ]
  },
  {
   "cell_type": "code",
   "execution_count": 3,
   "id": "dynamic-saver",
   "metadata": {
    "execution": {
     "iopub.execute_input": "2021-11-25T12:12:42.164943Z",
     "iopub.status.busy": "2021-11-25T12:12:42.164253Z",
     "iopub.status.idle": "2021-11-25T12:12:42.167238Z",
     "shell.execute_reply": "2021-11-25T12:12:42.167771Z"
    },
    "papermill": {
     "duration": 0.052904,
     "end_time": "2021-11-25T12:12:42.167993",
     "exception": false,
     "start_time": "2021-11-25T12:12:42.115089",
     "status": "completed"
    },
    "tags": []
   },
   "outputs": [
    {
     "data": {
      "text/plain": [
       "'https://raw.githubusercontent.com/pratapvardhan/notebooks/master/covid19/mapping_countries.csv'"
      ]
     },
     "execution_count": 3,
     "metadata": {},
     "output_type": "execute_result"
    }
   ],
   "source": [
    "#hide\n",
    "paths['mapping']"
   ]
  },
  {
   "cell_type": "code",
   "execution_count": 4,
   "id": "urban-software",
   "metadata": {
    "execution": {
     "iopub.execute_input": "2021-11-25T12:12:42.252916Z",
     "iopub.status.busy": "2021-11-25T12:12:42.252230Z",
     "iopub.status.idle": "2021-11-25T12:12:42.254447Z",
     "shell.execute_reply": "2021-11-25T12:12:42.255074Z"
    },
    "papermill": {
     "duration": 0.048173,
     "end_time": "2021-11-25T12:12:42.255228",
     "exception": false,
     "start_time": "2021-11-25T12:12:42.207055",
     "status": "completed"
    },
    "tags": []
   },
   "outputs": [],
   "source": [
    "#hide\n",
    "def get_mappings(url):\n",
    "    df = pd.read_csv(url)\n",
    "    return {\n",
    "        'df': df,\n",
    "        'replace.country': dict(df.dropna(subset=['Name']).set_index('Country')['Name']),\n",
    "        'map.continent': dict(df.set_index('Name')['Continent'])\n",
    "    }"
   ]
  },
  {
   "cell_type": "code",
   "execution_count": 5,
   "id": "intimate-machinery",
   "metadata": {
    "execution": {
     "iopub.execute_input": "2021-11-25T12:12:42.345565Z",
     "iopub.status.busy": "2021-11-25T12:12:42.344879Z",
     "iopub.status.idle": "2021-11-25T12:12:42.378494Z",
     "shell.execute_reply": "2021-11-25T12:12:42.379193Z"
    },
    "papermill": {
     "duration": 0.079471,
     "end_time": "2021-11-25T12:12:42.379359",
     "exception": false,
     "start_time": "2021-11-25T12:12:42.299888",
     "status": "completed"
    },
    "tags": []
   },
   "outputs": [],
   "source": [
    "#hide\n",
    "mapping = get_mappings(paths['mapping'])"
   ]
  },
  {
   "cell_type": "code",
   "execution_count": 6,
   "id": "certified-tactics",
   "metadata": {
    "execution": {
     "iopub.execute_input": "2021-11-25T12:12:42.464178Z",
     "iopub.status.busy": "2021-11-25T12:12:42.463484Z",
     "iopub.status.idle": "2021-11-25T12:12:42.466151Z",
     "shell.execute_reply": "2021-11-25T12:12:42.465481Z"
    },
    "papermill": {
     "duration": 0.047986,
     "end_time": "2021-11-25T12:12:42.466292",
     "exception": false,
     "start_time": "2021-11-25T12:12:42.418306",
     "status": "completed"
    },
    "tags": []
   },
   "outputs": [],
   "source": [
    "#hide\n",
    "def get_template(path):\n",
    "    from urllib.parse import urlparse\n",
    "    if bool(urlparse(path).netloc):\n",
    "        from urllib.request import urlopen\n",
    "        return urlopen(path).read().decode('utf8')\n",
    "    return open(path).read()"
   ]
  },
  {
   "cell_type": "code",
   "execution_count": 7,
   "id": "realistic-blast",
   "metadata": {
    "execution": {
     "iopub.execute_input": "2021-11-25T12:12:42.549532Z",
     "iopub.status.busy": "2021-11-25T12:12:42.548670Z",
     "iopub.status.idle": "2021-11-25T12:12:42.553415Z",
     "shell.execute_reply": "2021-11-25T12:12:42.552867Z"
    },
    "papermill": {
     "duration": 0.048128,
     "end_time": "2021-11-25T12:12:42.553553",
     "exception": false,
     "start_time": "2021-11-25T12:12:42.505425",
     "status": "completed"
    },
    "tags": []
   },
   "outputs": [],
   "source": [
    "#hide\n",
    "def get_frame(name):\n",
    "    url = (\n",
    "        'https://raw.githubusercontent.com/CSSEGISandData/COVID-19/master/csse_covid_19_data/'\n",
    "        f'csse_covid_19_time_series/time_series_covid19_{name}_global.csv')\n",
    "    df = pd.read_csv(url)\n",
    "    # rename countries\n",
    "    df['Country/Region'] = df['Country/Region'].replace(mapping['replace.country'])\n",
    "    return df"
   ]
  },
  {
   "cell_type": "code",
   "execution_count": 8,
   "id": "affiliated-characterization",
   "metadata": {
    "execution": {
     "iopub.execute_input": "2021-11-25T12:12:42.643701Z",
     "iopub.status.busy": "2021-11-25T12:12:42.643013Z",
     "iopub.status.idle": "2021-11-25T12:12:42.645029Z",
     "shell.execute_reply": "2021-11-25T12:12:42.645550Z"
    },
    "papermill": {
     "duration": 0.052026,
     "end_time": "2021-11-25T12:12:42.645714",
     "exception": false,
     "start_time": "2021-11-25T12:12:42.593688",
     "status": "completed"
    },
    "tags": []
   },
   "outputs": [],
   "source": [
    "#hide\n",
    "def get_dates(df):\n",
    "    dt_cols = df.columns[~df.columns.isin(['Province/State', 'Country/Region', 'Lat', 'Long'])]\n",
    "    LAST_DATE_I = -1\n",
    "    # sometimes last column may be empty, then go backwards\n",
    "    for i in range(-1, -len(dt_cols), -1):\n",
    "        if not df[dt_cols[i]].fillna(0).eq(0).all():\n",
    "            LAST_DATE_I = i\n",
    "            break\n",
    "    return LAST_DATE_I, dt_cols"
   ]
  },
  {
   "cell_type": "code",
   "execution_count": 9,
   "id": "recent-optimization",
   "metadata": {
    "execution": {
     "iopub.execute_input": "2021-11-25T12:12:42.730478Z",
     "iopub.status.busy": "2021-11-25T12:12:42.729715Z",
     "iopub.status.idle": "2021-11-25T12:12:43.119532Z",
     "shell.execute_reply": "2021-11-25T12:12:43.118892Z"
    },
    "papermill": {
     "duration": 0.434255,
     "end_time": "2021-11-25T12:12:43.119684",
     "exception": false,
     "start_time": "2021-11-25T12:12:42.685429",
     "status": "completed"
    },
    "tags": []
   },
   "outputs": [],
   "source": [
    "#hide\n",
    "COL_REGION = 'Country/Region'\n",
    "# Confirmed, Recovered, Deaths\n",
    "df = get_frame('confirmed')\n",
    "# dft_: timeseries, dfc_: today country agg\n",
    "dft_cases = df\n",
    "dft_deaths = get_frame('deaths')\n",
    "dft_recovered = get_frame('recovered')\n",
    "LAST_DATE_I, dt_cols = get_dates(df)"
   ]
  },
  {
   "cell_type": "code",
   "execution_count": 10,
   "id": "absolute-copper",
   "metadata": {
    "execution": {
     "iopub.execute_input": "2021-11-25T12:12:43.205479Z",
     "iopub.status.busy": "2021-11-25T12:12:43.204788Z",
     "iopub.status.idle": "2021-11-25T12:12:43.211971Z",
     "shell.execute_reply": "2021-11-25T12:12:43.210523Z"
    },
    "papermill": {
     "duration": 0.053629,
     "end_time": "2021-11-25T12:12:43.212392",
     "exception": false,
     "start_time": "2021-11-25T12:12:43.158763",
     "status": "completed"
    },
    "tags": []
   },
   "outputs": [],
   "source": [
    "#hide\n",
    "LAST_DATE_I, dt_cols = get_dates(df)\n",
    "dt_today =dt_cols[LAST_DATE_I]\n",
    "# dt_5day = dt_cols[LAST_DATE_I - 5]\n",
    "dt_yday = dt_cols[LAST_DATE_I - 1]"
   ]
  },
  {
   "cell_type": "code",
   "execution_count": 11,
   "id": "restricted-sheriff",
   "metadata": {
    "execution": {
     "iopub.execute_input": "2021-11-25T12:12:43.309243Z",
     "iopub.status.busy": "2021-11-25T12:12:43.307273Z",
     "iopub.status.idle": "2021-11-25T12:12:43.315429Z",
     "shell.execute_reply": "2021-11-25T12:12:43.314710Z"
    },
    "papermill": {
     "duration": 0.058656,
     "end_time": "2021-11-25T12:12:43.315570",
     "exception": false,
     "start_time": "2021-11-25T12:12:43.256914",
     "status": "completed"
    },
    "tags": []
   },
   "outputs": [],
   "source": [
    "#hide\n",
    "dfc_cases = dft_cases.groupby(COL_REGION)[dt_today].sum()\n",
    "dfc_deaths = dft_deaths.groupby(COL_REGION)[dt_today].sum()\n",
    "# dfp_cases = dft_cases.groupby(COL_REGION)[dt_5day].sum()\n",
    "# dfp_deaths = dft_deaths.groupby(COL_REGION)[dt_5day].sum()\n",
    "dfp_cases = dft_cases.groupby(COL_REGION)[dt_yday].sum()\n",
    "dfp_deaths = dft_deaths.groupby(COL_REGION)[dt_yday].sum()"
   ]
  },
  {
   "cell_type": "code",
   "execution_count": 12,
   "id": "deluxe-hepatitis",
   "metadata": {
    "execution": {
     "iopub.execute_input": "2021-11-25T12:12:43.405611Z",
     "iopub.status.busy": "2021-11-25T12:12:43.404877Z",
     "iopub.status.idle": "2021-11-25T12:12:43.409076Z",
     "shell.execute_reply": "2021-11-25T12:12:43.409739Z"
    },
    "papermill": {
     "duration": 0.055387,
     "end_time": "2021-11-25T12:12:43.409887",
     "exception": false,
     "start_time": "2021-11-25T12:12:43.354500",
     "status": "completed"
    },
    "tags": []
   },
   "outputs": [],
   "source": [
    "#hide\n",
    "df_table = (pd.DataFrame(dict(Cases = dfc_cases, Deaths = dfc_deaths, PCases = dfp_cases, PDeaths = dfp_deaths))\n",
    "            .sort_values(by = ['Cases','Deaths'], ascending = [False, False])\n",
    "            .reset_index())"
   ]
  },
  {
   "cell_type": "code",
   "execution_count": 13,
   "id": "educational-chancellor",
   "metadata": {
    "execution": {
     "iopub.execute_input": "2021-11-25T12:12:43.516716Z",
     "iopub.status.busy": "2021-11-25T12:12:43.516030Z",
     "iopub.status.idle": "2021-11-25T12:12:43.524748Z",
     "shell.execute_reply": "2021-11-25T12:12:43.525396Z"
    },
    "papermill": {
     "duration": 0.073879,
     "end_time": "2021-11-25T12:12:43.525553",
     "exception": false,
     "start_time": "2021-11-25T12:12:43.451674",
     "status": "completed"
    },
    "tags": []
   },
   "outputs": [
    {
     "data": {
      "text/html": [
       "<div>\n",
       "<style scoped>\n",
       "    .dataframe tbody tr th:only-of-type {\n",
       "        vertical-align: middle;\n",
       "    }\n",
       "\n",
       "    .dataframe tbody tr th {\n",
       "        vertical-align: top;\n",
       "    }\n",
       "\n",
       "    .dataframe thead th {\n",
       "        text-align: right;\n",
       "    }\n",
       "</style>\n",
       "<table border=\"1\" class=\"dataframe\">\n",
       "  <thead>\n",
       "    <tr style=\"text-align: right;\">\n",
       "      <th></th>\n",
       "      <th>Country/Region</th>\n",
       "      <th>Cases</th>\n",
       "      <th>Deaths</th>\n",
       "      <th>PCases</th>\n",
       "      <th>PDeaths</th>\n",
       "      <th>Cases (+)</th>\n",
       "      <th>Deaths (+)</th>\n",
       "      <th>Fatality Rate</th>\n",
       "      <th>Continent</th>\n",
       "    </tr>\n",
       "  </thead>\n",
       "  <tbody>\n",
       "    <tr>\n",
       "      <th>0</th>\n",
       "      <td>US</td>\n",
       "      <td>48092052</td>\n",
       "      <td>775403</td>\n",
       "      <td>47980780</td>\n",
       "      <td>773770</td>\n",
       "      <td>111272</td>\n",
       "      <td>1633</td>\n",
       "      <td>1.61</td>\n",
       "      <td>North America</td>\n",
       "    </tr>\n",
       "    <tr>\n",
       "      <th>1</th>\n",
       "      <td>India</td>\n",
       "      <td>34544882</td>\n",
       "      <td>466980</td>\n",
       "      <td>34535763</td>\n",
       "      <td>466584</td>\n",
       "      <td>9119</td>\n",
       "      <td>396</td>\n",
       "      <td>1.35</td>\n",
       "      <td>Asia</td>\n",
       "    </tr>\n",
       "    <tr>\n",
       "      <th>2</th>\n",
       "      <td>Brazil</td>\n",
       "      <td>22043112</td>\n",
       "      <td>613339</td>\n",
       "      <td>22030182</td>\n",
       "      <td>613066</td>\n",
       "      <td>12930</td>\n",
       "      <td>273</td>\n",
       "      <td>2.78</td>\n",
       "      <td>South America</td>\n",
       "    </tr>\n",
       "    <tr>\n",
       "      <th>3</th>\n",
       "      <td>United Kingdom</td>\n",
       "      <td>10028829</td>\n",
       "      <td>144728</td>\n",
       "      <td>9985879</td>\n",
       "      <td>144579</td>\n",
       "      <td>42950</td>\n",
       "      <td>149</td>\n",
       "      <td>1.44</td>\n",
       "      <td>Europe</td>\n",
       "    </tr>\n",
       "    <tr>\n",
       "      <th>4</th>\n",
       "      <td>Russia</td>\n",
       "      <td>9270885</td>\n",
       "      <td>262733</td>\n",
       "      <td>9238330</td>\n",
       "      <td>261526</td>\n",
       "      <td>32555</td>\n",
       "      <td>1207</td>\n",
       "      <td>2.83</td>\n",
       "      <td>Europe</td>\n",
       "    </tr>\n",
       "  </tbody>\n",
       "</table>\n",
       "</div>"
      ],
      "text/plain": [
       "   Country/Region     Cases  Deaths    PCases  PDeaths  Cases (+)  Deaths (+)  \\\n",
       "0              US  48092052  775403  47980780   773770     111272        1633   \n",
       "1           India  34544882  466980  34535763   466584       9119         396   \n",
       "2          Brazil  22043112  613339  22030182   613066      12930         273   \n",
       "3  United Kingdom  10028829  144728   9985879   144579      42950         149   \n",
       "4          Russia   9270885  262733   9238330   261526      32555        1207   \n",
       "\n",
       "   Fatality Rate      Continent  \n",
       "0           1.61  North America  \n",
       "1           1.35           Asia  \n",
       "2           2.78  South America  \n",
       "3           1.44         Europe  \n",
       "4           2.83         Europe  "
      ]
     },
     "execution_count": 13,
     "metadata": {},
     "output_type": "execute_result"
    }
   ],
   "source": [
    "#hide\n",
    "for c in 'Cases, Deaths'.split(', '):\n",
    "    df_table[f'{c} (+)'] = (df_table[c] - df_table[f'P{c}']).clip(0)\n",
    "    #Clip ça veut dire, les chiffres negatif sont interdit\n",
    "df_table['Fatality Rate'] = (100* df_table['Deaths']/ df_table['Cases']).round(2)\n",
    "df_table['Continent'] = df_table['Country/Region'].map(mapping['map.continent'])\n",
    "df_table.head(5)"
   ]
  },
  {
   "cell_type": "code",
   "execution_count": 14,
   "id": "aboriginal-bulgaria",
   "metadata": {
    "execution": {
     "iopub.execute_input": "2021-11-25T12:12:43.608354Z",
     "iopub.status.busy": "2021-11-25T12:12:43.607685Z",
     "iopub.status.idle": "2021-11-25T12:12:43.610979Z",
     "shell.execute_reply": "2021-11-25T12:12:43.611613Z"
    },
    "papermill": {
     "duration": 0.048176,
     "end_time": "2021-11-25T12:12:43.612749",
     "exception": false,
     "start_time": "2021-11-25T12:12:43.564573",
     "status": "completed"
    },
    "tags": []
   },
   "outputs": [],
   "source": [
    "#hide\n",
    "#delete problematic countries from table\n",
    "df_table = df_table[~df_table['Country/Region'].isin(['Cape Verde', 'Cruise Ship', 'Kosovo'])]"
   ]
  },
  {
   "cell_type": "code",
   "execution_count": 15,
   "id": "fantastic-effect",
   "metadata": {
    "execution": {
     "iopub.execute_input": "2021-11-25T12:12:43.702950Z",
     "iopub.status.busy": "2021-11-25T12:12:43.695755Z",
     "iopub.status.idle": "2021-11-25T12:12:43.726218Z",
     "shell.execute_reply": "2021-11-25T12:12:43.726891Z"
    },
    "papermill": {
     "duration": 0.074765,
     "end_time": "2021-11-25T12:12:43.727060",
     "exception": false,
     "start_time": "2021-11-25T12:12:43.652295",
     "status": "completed"
    },
    "tags": []
   },
   "outputs": [
    {
     "data": {
      "text/html": [
       "<div>\n",
       "<style scoped>\n",
       "    .dataframe tbody tr th:only-of-type {\n",
       "        vertical-align: middle;\n",
       "    }\n",
       "\n",
       "    .dataframe tbody tr th {\n",
       "        vertical-align: top;\n",
       "    }\n",
       "\n",
       "    .dataframe thead th {\n",
       "        text-align: right;\n",
       "    }\n",
       "</style>\n",
       "<table border=\"1\" class=\"dataframe\">\n",
       "  <thead>\n",
       "    <tr style=\"text-align: right;\">\n",
       "      <th></th>\n",
       "      <th>Country/Region</th>\n",
       "      <th>Cases</th>\n",
       "      <th>Deaths</th>\n",
       "      <th>PCases</th>\n",
       "      <th>PDeaths</th>\n",
       "      <th>Cases (+)</th>\n",
       "      <th>Deaths (+)</th>\n",
       "      <th>Fatality Rate</th>\n",
       "      <th>Continent</th>\n",
       "    </tr>\n",
       "  </thead>\n",
       "  <tbody>\n",
       "    <tr>\n",
       "      <th>0</th>\n",
       "      <td>US</td>\n",
       "      <td>48092052</td>\n",
       "      <td>775403</td>\n",
       "      <td>47980780</td>\n",
       "      <td>773770</td>\n",
       "      <td>111272</td>\n",
       "      <td>1633</td>\n",
       "      <td>1.6</td>\n",
       "      <td>North America</td>\n",
       "    </tr>\n",
       "    <tr>\n",
       "      <th>1</th>\n",
       "      <td>India</td>\n",
       "      <td>34544882</td>\n",
       "      <td>466980</td>\n",
       "      <td>34535763</td>\n",
       "      <td>466584</td>\n",
       "      <td>9119</td>\n",
       "      <td>396</td>\n",
       "      <td>1.4</td>\n",
       "      <td>Asia</td>\n",
       "    </tr>\n",
       "    <tr>\n",
       "      <th>2</th>\n",
       "      <td>Brazil</td>\n",
       "      <td>22043112</td>\n",
       "      <td>613339</td>\n",
       "      <td>22030182</td>\n",
       "      <td>613066</td>\n",
       "      <td>12930</td>\n",
       "      <td>273</td>\n",
       "      <td>2.8</td>\n",
       "      <td>South America</td>\n",
       "    </tr>\n",
       "    <tr>\n",
       "      <th>3</th>\n",
       "      <td>United Kingdom</td>\n",
       "      <td>10028829</td>\n",
       "      <td>144728</td>\n",
       "      <td>9985879</td>\n",
       "      <td>144579</td>\n",
       "      <td>42950</td>\n",
       "      <td>149</td>\n",
       "      <td>1.4</td>\n",
       "      <td>Europe</td>\n",
       "    </tr>\n",
       "    <tr>\n",
       "      <th>4</th>\n",
       "      <td>Russia</td>\n",
       "      <td>9270885</td>\n",
       "      <td>262733</td>\n",
       "      <td>9238330</td>\n",
       "      <td>261526</td>\n",
       "      <td>32555</td>\n",
       "      <td>1207</td>\n",
       "      <td>2.8</td>\n",
       "      <td>Europe</td>\n",
       "    </tr>\n",
       "  </tbody>\n",
       "</table>\n",
       "</div>"
      ],
      "text/plain": [
       "   Country/Region     Cases  Deaths    PCases  PDeaths  Cases (+)  Deaths (+)  \\\n",
       "0              US  48092052  775403  47980780   773770     111272        1633   \n",
       "1           India  34544882  466980  34535763   466584       9119         396   \n",
       "2          Brazil  22043112  613339  22030182   613066      12930         273   \n",
       "3  United Kingdom  10028829  144728   9985879   144579      42950         149   \n",
       "4          Russia   9270885  262733   9238330   261526      32555        1207   \n",
       "\n",
       "   Fatality Rate      Continent  \n",
       "0            1.6  North America  \n",
       "1            1.4           Asia  \n",
       "2            2.8  South America  \n",
       "3            1.4         Europe  \n",
       "4            2.8         Europe  "
      ]
     },
     "execution_count": 15,
     "metadata": {},
     "output_type": "execute_result"
    }
   ],
   "source": [
    "#hide\n",
    "df_table = (pd.DataFrame(dict(Cases=dfc_cases, Deaths=dfc_deaths, PCases=dfp_cases, PDeaths=dfp_deaths))\n",
    "             .sort_values(by=['Cases', 'Deaths'], ascending=[False, False])\n",
    "             .reset_index())\n",
    "df_table.rename(columns={'index': 'Country/Region'}, inplace=True)\n",
    "for c in 'Cases, Deaths'.split(', '):\n",
    "    df_table[f'{c} (+)'] = (df_table[c] - df_table[f'P{c}']).clip(0)  # DATA BUG\n",
    "df_table['Fatality Rate'] = (100 * df_table['Deaths'] / df_table['Cases']).round(1)\n",
    "df_table['Continent'] = df_table['Country/Region'].map(mapping['map.continent'])\n",
    "df_table.head(5)"
   ]
  },
  {
   "cell_type": "code",
   "execution_count": 16,
   "id": "fewer-occasion",
   "metadata": {
    "execution": {
     "iopub.execute_input": "2021-11-25T12:12:43.816112Z",
     "iopub.status.busy": "2021-11-25T12:12:43.815266Z",
     "iopub.status.idle": "2021-11-25T12:12:43.817182Z",
     "shell.execute_reply": "2021-11-25T12:12:43.818496Z"
    },
    "papermill": {
     "duration": 0.051609,
     "end_time": "2021-11-25T12:12:43.818665",
     "exception": false,
     "start_time": "2021-11-25T12:12:43.767056",
     "status": "completed"
    },
    "tags": []
   },
   "outputs": [],
   "source": [
    "#hide\n",
    "#delete problematic countries from table\n",
    "df_table = df_table[~df_table['Country/Region'].isin(['Cape Verde', 'Cruise Ship', 'Kosovo'])]"
   ]
  },
  {
   "cell_type": "code",
   "execution_count": 17,
   "id": "related-center",
   "metadata": {
    "execution": {
     "iopub.execute_input": "2021-11-25T12:12:43.905094Z",
     "iopub.status.busy": "2021-11-25T12:12:43.904380Z",
     "iopub.status.idle": "2021-11-25T12:12:43.923316Z",
     "shell.execute_reply": "2021-11-25T12:12:43.922414Z"
    },
    "papermill": {
     "duration": 0.064991,
     "end_time": "2021-11-25T12:12:43.923464",
     "exception": false,
     "start_time": "2021-11-25T12:12:43.858473",
     "status": "completed"
    },
    "tags": []
   },
   "outputs": [],
   "source": [
    "#hide\n",
    "metrics = [df_table.columns[index] for index in [1,2,5,6]]\n",
    "# s_china = df_table[df_table['Country/Region'].eq('China')][metrics].sum().add_prefix('China ')\n",
    "s_us = df_table[df_table['Country/Region'].eq('US')][metrics].sum().add_prefix('US ')\n",
    "s_eu = df_table[df_table['Continent'].eq('Europe')][metrics].sum().add_prefix('EU ')\n",
    "s_ind = df_table[df_table['Country/Region'].eq('India')][metrics].sum().add_prefix('India ')\n",
    "summary = {'updated': pd.to_datetime(dt_today), 'since': pd.to_datetime(dt_yday)}\n",
    "summary = {'updated': pd.to_datetime(dt_today), 'since': pd.to_datetime(dt_yday)}\n",
    "summary = {**summary, **df_table[metrics].sum(), **s_ind, **s_us, **s_eu}"
   ]
  },
  {
   "cell_type": "code",
   "execution_count": 18,
   "id": "engaging-syndrome",
   "metadata": {
    "execution": {
     "iopub.execute_input": "2021-11-25T12:12:44.011542Z",
     "iopub.status.busy": "2021-11-25T12:12:44.010835Z",
     "iopub.status.idle": "2021-11-25T12:12:44.033128Z",
     "shell.execute_reply": "2021-11-25T12:12:44.033693Z"
    },
    "papermill": {
     "duration": 0.066868,
     "end_time": "2021-11-25T12:12:44.033869",
     "exception": false,
     "start_time": "2021-11-25T12:12:43.967001",
     "status": "completed"
    },
    "tags": []
   },
   "outputs": [],
   "source": [
    "#hide\n",
    "dft_ct_new_cases = dft_cases.groupby(COL_REGION)[dt_cols].sum().diff(axis=1).fillna(0).astype(int)"
   ]
  },
  {
   "cell_type": "code",
   "execution_count": 19,
   "id": "neutral-assignment",
   "metadata": {
    "execution": {
     "iopub.execute_input": "2021-11-25T12:12:44.125956Z",
     "iopub.status.busy": "2021-11-25T12:12:44.125246Z",
     "iopub.status.idle": "2021-11-25T12:12:44.127753Z",
     "shell.execute_reply": "2021-11-25T12:12:44.128286Z"
    },
    "papermill": {
     "duration": 0.052175,
     "end_time": "2021-11-25T12:12:44.128433",
     "exception": false,
     "start_time": "2021-11-25T12:12:44.076258",
     "status": "completed"
    },
    "tags": []
   },
   "outputs": [],
   "source": [
    "#hide\n",
    "everydaycases = dft_ct_new_cases.cumsum(axis=1)"
   ]
  },
  {
   "cell_type": "code",
   "execution_count": 20,
   "id": "parliamentary-calgary",
   "metadata": {
    "execution": {
     "iopub.execute_input": "2021-11-25T12:12:44.212947Z",
     "iopub.status.busy": "2021-11-25T12:12:44.212278Z",
     "iopub.status.idle": "2021-11-25T12:12:45.001603Z",
     "shell.execute_reply": "2021-11-25T12:12:45.002181Z"
    },
    "papermill": {
     "duration": 0.832789,
     "end_time": "2021-11-25T12:12:45.002369",
     "exception": false,
     "start_time": "2021-11-25T12:12:44.169580",
     "status": "completed"
    },
    "tags": []
   },
   "outputs": [],
   "source": [
    "#hide\n",
    "import pandas as pd\n",
    "import matplotlib.pyplot as plt\n",
    "import matplotlib.ticker as ticker\n",
    "import matplotlib.animation as animation\n",
    "from IPython.display import HTML"
   ]
  },
  {
   "cell_type": "code",
   "execution_count": 21,
   "id": "lasting-extraction",
   "metadata": {
    "execution": {
     "iopub.execute_input": "2021-11-25T12:12:45.103993Z",
     "iopub.status.busy": "2021-11-25T12:12:45.103267Z",
     "iopub.status.idle": "2021-11-25T12:12:45.109376Z",
     "shell.execute_reply": "2021-11-25T12:12:45.110045Z"
    },
    "papermill": {
     "duration": 0.065253,
     "end_time": "2021-11-25T12:12:45.110206",
     "exception": false,
     "start_time": "2021-11-25T12:12:45.044953",
     "status": "completed"
    },
    "tags": []
   },
   "outputs": [],
   "source": [
    "#hide\n",
    "t = everydaycases.stack()"
   ]
  },
  {
   "cell_type": "code",
   "execution_count": 22,
   "id": "premier-sleeve",
   "metadata": {
    "execution": {
     "iopub.execute_input": "2021-11-25T12:12:45.197698Z",
     "iopub.status.busy": "2021-11-25T12:12:45.197027Z",
     "iopub.status.idle": "2021-11-25T12:12:45.207995Z",
     "shell.execute_reply": "2021-11-25T12:12:45.207452Z"
    },
    "papermill": {
     "duration": 0.05742,
     "end_time": "2021-11-25T12:12:45.208131",
     "exception": false,
     "start_time": "2021-11-25T12:12:45.150711",
     "status": "completed"
    },
    "tags": []
   },
   "outputs": [],
   "source": [
    "#hide\n",
    "g = t.reset_index(['Country/Region'])"
   ]
  },
  {
   "cell_type": "code",
   "execution_count": 23,
   "id": "distributed-pittsburgh",
   "metadata": {
    "execution": {
     "iopub.execute_input": "2021-11-25T12:12:45.293496Z",
     "iopub.status.busy": "2021-11-25T12:12:45.292803Z",
     "iopub.status.idle": "2021-11-25T12:12:45.294927Z",
     "shell.execute_reply": "2021-11-25T12:12:45.295461Z"
    },
    "papermill": {
     "duration": 0.047441,
     "end_time": "2021-11-25T12:12:45.295621",
     "exception": false,
     "start_time": "2021-11-25T12:12:45.248180",
     "status": "completed"
    },
    "tags": []
   },
   "outputs": [],
   "source": [
    "#hide\n",
    "g.index.name = 'date'"
   ]
  },
  {
   "cell_type": "code",
   "execution_count": 24,
   "id": "naked-donor",
   "metadata": {
    "execution": {
     "iopub.execute_input": "2021-11-25T12:12:45.377624Z",
     "iopub.status.busy": "2021-11-25T12:12:45.376928Z",
     "iopub.status.idle": "2021-11-25T12:12:45.379518Z",
     "shell.execute_reply": "2021-11-25T12:12:45.378840Z"
    },
    "papermill": {
     "duration": 0.044518,
     "end_time": "2021-11-25T12:12:45.379647",
     "exception": false,
     "start_time": "2021-11-25T12:12:45.335129",
     "status": "completed"
    },
    "tags": []
   },
   "outputs": [],
   "source": [
    "# #hide\n",
    "# g = g.reset_index(['date'])"
   ]
  },
  {
   "cell_type": "code",
   "execution_count": 25,
   "id": "incomplete-mustang",
   "metadata": {
    "execution": {
     "iopub.execute_input": "2021-11-25T12:12:45.463179Z",
     "iopub.status.busy": "2021-11-25T12:12:45.462475Z",
     "iopub.status.idle": "2021-11-25T12:12:45.465253Z",
     "shell.execute_reply": "2021-11-25T12:12:45.464594Z"
    },
    "papermill": {
     "duration": 0.046063,
     "end_time": "2021-11-25T12:12:45.465382",
     "exception": false,
     "start_time": "2021-11-25T12:12:45.419319",
     "status": "completed"
    },
    "tags": []
   },
   "outputs": [],
   "source": [
    "#hide\n",
    "# g.head()"
   ]
  },
  {
   "cell_type": "code",
   "execution_count": 26,
   "id": "specific-kruger",
   "metadata": {
    "execution": {
     "iopub.execute_input": "2021-11-25T12:12:45.550141Z",
     "iopub.status.busy": "2021-11-25T12:12:45.549449Z",
     "iopub.status.idle": "2021-11-25T12:12:45.553500Z",
     "shell.execute_reply": "2021-11-25T12:12:45.554029Z"
    },
    "papermill": {
     "duration": 0.047658,
     "end_time": "2021-11-25T12:12:45.554181",
     "exception": false,
     "start_time": "2021-11-25T12:12:45.506523",
     "status": "completed"
    },
    "tags": []
   },
   "outputs": [],
   "source": [
    "#hide\n",
    "# g.columns = ['date','country','cases']"
   ]
  },
  {
   "cell_type": "code",
   "execution_count": 27,
   "id": "tender-conversion",
   "metadata": {
    "execution": {
     "iopub.execute_input": "2021-11-25T12:12:45.637623Z",
     "iopub.status.busy": "2021-11-25T12:12:45.636957Z",
     "iopub.status.idle": "2021-11-25T12:12:45.639468Z",
     "shell.execute_reply": "2021-11-25T12:12:45.638749Z"
    },
    "papermill": {
     "duration": 0.0454,
     "end_time": "2021-11-25T12:12:45.639599",
     "exception": false,
     "start_time": "2021-11-25T12:12:45.594199",
     "status": "completed"
    },
    "tags": []
   },
   "outputs": [],
   "source": [
    "#hide\n",
    "# g['continent'] = g.country"
   ]
  },
  {
   "cell_type": "code",
   "execution_count": 28,
   "id": "substantial-wilderness",
   "metadata": {
    "execution": {
     "iopub.execute_input": "2021-11-25T12:12:45.734864Z",
     "iopub.status.busy": "2021-11-25T12:12:45.734169Z",
     "iopub.status.idle": "2021-11-25T12:12:45.738477Z",
     "shell.execute_reply": "2021-11-25T12:12:45.737875Z"
    },
    "papermill": {
     "duration": 0.054049,
     "end_time": "2021-11-25T12:12:45.738621",
     "exception": false,
     "start_time": "2021-11-25T12:12:45.684572",
     "status": "completed"
    },
    "tags": []
   },
   "outputs": [],
   "source": [
    "#hide\n",
    "# cols = list(g.columns.values)"
   ]
  },
  {
   "cell_type": "code",
   "execution_count": 29,
   "id": "solved-farming",
   "metadata": {
    "execution": {
     "iopub.execute_input": "2021-11-25T12:12:45.822948Z",
     "iopub.status.busy": "2021-11-25T12:12:45.822225Z",
     "iopub.status.idle": "2021-11-25T12:12:45.825052Z",
     "shell.execute_reply": "2021-11-25T12:12:45.824486Z"
    },
    "papermill": {
     "duration": 0.04678,
     "end_time": "2021-11-25T12:12:45.825181",
     "exception": false,
     "start_time": "2021-11-25T12:12:45.778401",
     "status": "completed"
    },
    "tags": []
   },
   "outputs": [],
   "source": [
    "#hide\n",
    "# cols.insert(0, cols.pop())"
   ]
  },
  {
   "cell_type": "code",
   "execution_count": 30,
   "id": "executed-adoption",
   "metadata": {
    "execution": {
     "iopub.execute_input": "2021-11-25T12:12:45.910190Z",
     "iopub.status.busy": "2021-11-25T12:12:45.909517Z",
     "iopub.status.idle": "2021-11-25T12:12:45.913337Z",
     "shell.execute_reply": "2021-11-25T12:12:45.913856Z"
    },
    "papermill": {
     "duration": 0.048604,
     "end_time": "2021-11-25T12:12:45.914009",
     "exception": false,
     "start_time": "2021-11-25T12:12:45.865405",
     "status": "completed"
    },
    "tags": []
   },
   "outputs": [],
   "source": [
    "#hide\n",
    "# g = g[cols]"
   ]
  },
  {
   "cell_type": "code",
   "execution_count": 31,
   "id": "subject-dublin",
   "metadata": {
    "execution": {
     "iopub.execute_input": "2021-11-25T12:12:46.002328Z",
     "iopub.status.busy": "2021-11-25T12:12:46.001529Z",
     "iopub.status.idle": "2021-11-25T12:12:46.003595Z",
     "shell.execute_reply": "2021-11-25T12:12:46.003007Z"
    },
    "papermill": {
     "duration": 0.050314,
     "end_time": "2021-11-25T12:12:46.003733",
     "exception": false,
     "start_time": "2021-11-25T12:12:45.953419",
     "status": "completed"
    },
    "tags": []
   },
   "outputs": [],
   "source": [
    "#hide\n",
    "# g['continent'] = g['continent'].map(mapping['map.continent'])"
   ]
  },
  {
   "cell_type": "code",
   "execution_count": 32,
   "id": "freelance-scout",
   "metadata": {
    "execution": {
     "iopub.execute_input": "2021-11-25T12:12:46.090843Z",
     "iopub.status.busy": "2021-11-25T12:12:46.090165Z",
     "iopub.status.idle": "2021-11-25T12:12:46.092347Z",
     "shell.execute_reply": "2021-11-25T12:12:46.092842Z"
    },
    "papermill": {
     "duration": 0.048402,
     "end_time": "2021-11-25T12:12:46.092990",
     "exception": false,
     "start_time": "2021-11-25T12:12:46.044588",
     "status": "completed"
    },
    "tags": []
   },
   "outputs": [],
   "source": [
    "#hide\n",
    "# g.head()"
   ]
  },
  {
   "cell_type": "code",
   "execution_count": 33,
   "id": "limited-engine",
   "metadata": {
    "execution": {
     "iopub.execute_input": "2021-11-25T12:12:46.201906Z",
     "iopub.status.busy": "2021-11-25T12:12:46.201219Z",
     "iopub.status.idle": "2021-11-25T12:12:46.207737Z",
     "shell.execute_reply": "2021-11-25T12:12:46.208303Z"
    },
    "papermill": {
     "duration": 0.072107,
     "end_time": "2021-11-25T12:12:46.208467",
     "exception": false,
     "start_time": "2021-11-25T12:12:46.136360",
     "status": "completed"
    },
    "tags": []
   },
   "outputs": [],
   "source": [
    "# hide\n",
    "# g['date'] = g['date'].astype('datetime64[ns]')"
   ]
  },
  {
   "cell_type": "code",
   "execution_count": 34,
   "id": "sophisticated-supervisor",
   "metadata": {
    "execution": {
     "iopub.execute_input": "2021-11-25T12:12:46.296662Z",
     "iopub.status.busy": "2021-11-25T12:12:46.295978Z",
     "iopub.status.idle": "2021-11-25T12:12:46.299908Z",
     "shell.execute_reply": "2021-11-25T12:12:46.300429Z"
    },
    "papermill": {
     "duration": 0.048797,
     "end_time": "2021-11-25T12:12:46.300590",
     "exception": false,
     "start_time": "2021-11-25T12:12:46.251793",
     "status": "completed"
    },
    "tags": []
   },
   "outputs": [],
   "source": [
    "#hide\n",
    "# g['date'] = g.date.dt.dayofyear"
   ]
  },
  {
   "cell_type": "code",
   "execution_count": 35,
   "id": "inside-dubai",
   "metadata": {
    "execution": {
     "iopub.execute_input": "2021-11-25T12:12:46.387377Z",
     "iopub.status.busy": "2021-11-25T12:12:46.386657Z",
     "iopub.status.idle": "2021-11-25T12:12:46.389285Z",
     "shell.execute_reply": "2021-11-25T12:12:46.388599Z"
    },
    "papermill": {
     "duration": 0.046958,
     "end_time": "2021-11-25T12:12:46.389425",
     "exception": false,
     "start_time": "2021-11-25T12:12:46.342467",
     "status": "completed"
    },
    "tags": []
   },
   "outputs": [],
   "source": [
    "#hide\n",
    "# g = g.rename(columns= {'continent':'group','country':'name','cases':'value'})"
   ]
  },
  {
   "cell_type": "code",
   "execution_count": 36,
   "id": "fleet-motorcycle",
   "metadata": {
    "execution": {
     "iopub.execute_input": "2021-11-25T12:12:46.475773Z",
     "iopub.status.busy": "2021-11-25T12:12:46.475082Z",
     "iopub.status.idle": "2021-11-25T12:12:46.477756Z",
     "shell.execute_reply": "2021-11-25T12:12:46.477181Z"
    },
    "papermill": {
     "duration": 0.046109,
     "end_time": "2021-11-25T12:12:46.477893",
     "exception": false,
     "start_time": "2021-11-25T12:12:46.431784",
     "status": "completed"
    },
    "tags": []
   },
   "outputs": [],
   "source": [
    "#hide\n",
    "# cols = ['name','group','day','value']"
   ]
  },
  {
   "cell_type": "code",
   "execution_count": 37,
   "id": "continued-sleeping",
   "metadata": {
    "execution": {
     "iopub.execute_input": "2021-11-25T12:12:46.562671Z",
     "iopub.status.busy": "2021-11-25T12:12:46.561999Z",
     "iopub.status.idle": "2021-11-25T12:12:46.564133Z",
     "shell.execute_reply": "2021-11-25T12:12:46.564734Z"
    },
    "papermill": {
     "duration": 0.046441,
     "end_time": "2021-11-25T12:12:46.564922",
     "exception": false,
     "start_time": "2021-11-25T12:12:46.518481",
     "status": "completed"
    },
    "tags": []
   },
   "outputs": [],
   "source": [
    "#hide\n",
    "# g.rename(columns= {'date':'day'},inplace = True)"
   ]
  },
  {
   "cell_type": "code",
   "execution_count": 38,
   "id": "major-fight",
   "metadata": {
    "execution": {
     "iopub.execute_input": "2021-11-25T12:12:46.647278Z",
     "iopub.status.busy": "2021-11-25T12:12:46.646528Z",
     "iopub.status.idle": "2021-11-25T12:12:46.649745Z",
     "shell.execute_reply": "2021-11-25T12:12:46.650272Z"
    },
    "papermill": {
     "duration": 0.047105,
     "end_time": "2021-11-25T12:12:46.650444",
     "exception": false,
     "start_time": "2021-11-25T12:12:46.603339",
     "status": "completed"
    },
    "tags": []
   },
   "outputs": [],
   "source": [
    "#hide\n",
    "# g = g[cols]"
   ]
  },
  {
   "cell_type": "code",
   "execution_count": 39,
   "id": "structured-mobile",
   "metadata": {
    "execution": {
     "iopub.execute_input": "2021-11-25T12:12:46.737608Z",
     "iopub.status.busy": "2021-11-25T12:12:46.736942Z",
     "iopub.status.idle": "2021-11-25T12:12:46.739030Z",
     "shell.execute_reply": "2021-11-25T12:12:46.739548Z"
    },
    "papermill": {
     "duration": 0.048324,
     "end_time": "2021-11-25T12:12:46.739699",
     "exception": false,
     "start_time": "2021-11-25T12:12:46.691375",
     "status": "completed"
    },
    "tags": []
   },
   "outputs": [],
   "source": [
    "# #hide\n",
    "# g = g[g.group.notna()]"
   ]
  },
  {
   "cell_type": "code",
   "execution_count": 40,
   "id": "determined-closing",
   "metadata": {
    "execution": {
     "iopub.execute_input": "2021-11-25T12:12:46.836318Z",
     "iopub.status.busy": "2021-11-25T12:12:46.835619Z",
     "iopub.status.idle": "2021-11-25T12:12:46.838176Z",
     "shell.execute_reply": "2021-11-25T12:12:46.837499Z"
    },
    "papermill": {
     "duration": 0.046429,
     "end_time": "2021-11-25T12:12:46.838316",
     "exception": false,
     "start_time": "2021-11-25T12:12:46.791887",
     "status": "completed"
    },
    "tags": []
   },
   "outputs": [],
   "source": [
    "# #hide\n",
    "# colors = dict(zip(\n",
    "#     [\"Oceania\", \"Europe\", \"Asia\", \"South America\", \"Middle East\", \"North America\", \"Africa\"],\n",
    "#     [\"#adb0ff\", \"#ffb3ff\", \"#90d595\", \"#e48381\", \"#aafbff\", \"#f7bb5f\", \"#eafb50\"]\n",
    "# ))\n",
    "# group_lk = g.set_index('name')['group'].to_dict()"
   ]
  },
  {
   "cell_type": "code",
   "execution_count": null,
   "id": "gross-drinking",
   "metadata": {
    "papermill": {
     "duration": 0.03969,
     "end_time": "2021-11-25T12:12:46.917971",
     "exception": false,
     "start_time": "2021-11-25T12:12:46.878281",
     "status": "completed"
    },
    "tags": []
   },
   "outputs": [],
   "source": []
  },
  {
   "cell_type": "code",
   "execution_count": 41,
   "id": "subject-macintosh",
   "metadata": {
    "execution": {
     "iopub.execute_input": "2021-11-25T12:12:47.003385Z",
     "iopub.status.busy": "2021-11-25T12:12:47.002619Z",
     "iopub.status.idle": "2021-11-25T12:12:47.005097Z",
     "shell.execute_reply": "2021-11-25T12:12:47.005705Z"
    },
    "papermill": {
     "duration": 0.046336,
     "end_time": "2021-11-25T12:12:47.005853",
     "exception": false,
     "start_time": "2021-11-25T12:12:46.959517",
     "status": "completed"
    },
    "tags": []
   },
   "outputs": [],
   "source": [
    "# #hide\n",
    "# fig, ax = plt.subplots(figsize=(15, 8))\n",
    "\n",
    "# def draw_barchart(current_day):\n",
    "#     dff = g[g['day'].eq(current_day)].sort_values(by='value', ascending=True).tail(10)\n",
    "#     ax.clear()\n",
    "#     ax.barh(dff['name'], dff['value'], color=[colors[group_lk[x]] for x in dff['name']])\n",
    "#     dx = dff['value'].max() / 200\n",
    "    \n",
    "#     for i, (value, name) in enumerate(zip(dff['value'], dff['name'])):\n",
    "#         ax.text(value-dx, i,     name,           size=14, weight=600, ha='right', va='bottom')\n",
    "#         ax.text(value-dx, i-.25, group_lk[name], size=10, color='#444444', ha='right', va='baseline')\n",
    "#         ax.text(value+dx, i,     f'{value:,.0f}',  size=14, ha='left',  va='center')\n",
    "#     ax.text(1, 0.4, current_day, transform=ax.transAxes, color='#777777', size=46, ha='right', weight=800)\n",
    "#     ax.text(0, 1.06, 'Population (thousands)', transform=ax.transAxes, size=12, color='#777777')\n",
    "#     ax.xaxis.set_major_formatter(ticker.StrMethodFormatter('{x:,.0f}'))\n",
    "#     ax.xaxis.set_ticks_position('top')\n",
    "#     ax.tick_params(axis='x', colors='#777777', labelsize=12)\n",
    "#     ax.set_yticks([])\n",
    "#     ax.margins(0, 0.01)\n",
    "#     ax.grid(which='major', axis='x', linestyle='-')\n",
    "#     ax.set_axisbelow(True)\n",
    "    \n",
    "#     ax.text(0, 1.15, 'Coronavirus',\n",
    "#             transform=ax.transAxes, size=24, weight=600, ha='left', va='top')\n",
    "# #     ax.text(1, 0, 'by @pratapvardhan; credit @jburnmurdoch', transform=ax.transAxes, color='#777777', ha='right',\n",
    "# #             bbox=dict(facecolor='white', alpha=0.8, edgecolor='white'))\n",
    "#     plt.box(False)"
   ]
  },
  {
   "cell_type": "code",
   "execution_count": 42,
   "id": "sexual-wages",
   "metadata": {
    "execution": {
     "iopub.execute_input": "2021-11-25T12:12:47.095573Z",
     "iopub.status.busy": "2021-11-25T12:12:47.094758Z",
     "iopub.status.idle": "2021-11-25T12:12:47.098519Z",
     "shell.execute_reply": "2021-11-25T12:12:47.097968Z"
    },
    "papermill": {
     "duration": 0.046965,
     "end_time": "2021-11-25T12:12:47.098676",
     "exception": false,
     "start_time": "2021-11-25T12:12:47.051711",
     "status": "completed"
    },
    "tags": []
   },
   "outputs": [],
   "source": [
    "# #hide_input\n",
    "# fig, ax = plt.subplots(figsize=(15, 8))\n",
    "# animator = animation.FuncAnimation(fig, draw_barchart, frames=range(g.day.values.min(), g.day.values.max()))\n",
    "# HTML(animator.to_jshtml())\n",
    "# # or use animator.to_html5_video() or animator.save() "
   ]
  },
  {
   "cell_type": "code",
   "execution_count": null,
   "id": "australian-container",
   "metadata": {
    "papermill": {
     "duration": 0.040288,
     "end_time": "2021-11-25T12:12:47.178909",
     "exception": false,
     "start_time": "2021-11-25T12:12:47.138621",
     "status": "completed"
    },
    "tags": []
   },
   "outputs": [],
   "source": []
  },
  {
   "cell_type": "code",
   "execution_count": null,
   "id": "mediterranean-pontiac",
   "metadata": {
    "papermill": {
     "duration": 0.042507,
     "end_time": "2021-11-25T12:12:47.260035",
     "exception": false,
     "start_time": "2021-11-25T12:12:47.217528",
     "status": "completed"
    },
    "tags": []
   },
   "outputs": [],
   "source": []
  },
  {
   "cell_type": "code",
   "execution_count": null,
   "id": "aging-legislature",
   "metadata": {
    "papermill": {
     "duration": 0.041856,
     "end_time": "2021-11-25T12:12:47.341929",
     "exception": false,
     "start_time": "2021-11-25T12:12:47.300073",
     "status": "completed"
    },
    "tags": []
   },
   "outputs": [],
   "source": []
  }
 ],
 "metadata": {
  "kernelspec": {
   "display_name": "Python 3",
   "language": "python",
   "name": "python3"
  },
  "language_info": {
   "codemirror_mode": {
    "name": "ipython",
    "version": 3
   },
   "file_extension": ".py",
   "mimetype": "text/x-python",
   "name": "python",
   "nbconvert_exporter": "python",
   "pygments_lexer": "ipython3",
   "version": "3.6.15"
  },
  "papermill": {
   "duration": 7.629036,
   "end_time": "2021-11-25T12:12:47.693826",
   "environment_variables": {},
   "exception": null,
   "input_path": "2020-03-21-covid19exp.ipynb",
   "output_path": "2020-03-21-covid19exp.ipynb",
   "parameters": {},
   "start_time": "2021-11-25T12:12:40.064790",
   "version": "2.0.0"
  }
 },
 "nbformat": 4,
 "nbformat_minor": 5
}