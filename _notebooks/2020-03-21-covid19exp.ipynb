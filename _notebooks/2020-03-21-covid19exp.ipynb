{
 "cells": [
  {
   "cell_type": "markdown",
   "id": "muslim-click",
   "metadata": {
    "papermill": {
     "duration": 0.050653,
     "end_time": "2022-03-14T12:15:14.803155",
     "exception": false,
     "start_time": "2022-03-14T12:15:14.752502",
     "status": "completed"
    },
    "tags": []
   },
   "source": [
    "# COVID-19 Case Race\n",
    "> A race chart to see rising cases around the world\n",
    "\n",
    "- author: Hargun Oberoi\n",
    "- image: images/covid-overview.png\n",
    "- hide: false\n",
    "- badges: false"
   ]
  },
  {
   "cell_type": "code",
   "execution_count": 1,
   "id": "proof-material",
   "metadata": {
    "execution": {
     "iopub.execute_input": "2022-03-14T12:15:14.905604Z",
     "iopub.status.busy": "2022-03-14T12:15:14.904876Z",
     "iopub.status.idle": "2022-03-14T12:15:15.381486Z",
     "shell.execute_reply": "2022-03-14T12:15:15.382015Z"
    },
    "papermill": {
     "duration": 0.53123,
     "end_time": "2022-03-14T12:15:15.382215",
     "exception": false,
     "start_time": "2022-03-14T12:15:14.850985",
     "status": "completed"
    },
    "tags": []
   },
   "outputs": [],
   "source": [
    "#hide\n",
    "import numpy as np\n",
    "import pandas as pd\n",
    "from jinja2 import Template\n",
    "from IPython.display import HTML"
   ]
  },
  {
   "cell_type": "code",
   "execution_count": 2,
   "id": "developed-terminology",
   "metadata": {
    "execution": {
     "iopub.execute_input": "2022-03-14T12:15:15.486658Z",
     "iopub.status.busy": "2022-03-14T12:15:15.485877Z",
     "iopub.status.idle": "2022-03-14T12:15:15.488683Z",
     "shell.execute_reply": "2022-03-14T12:15:15.487864Z"
    },
    "papermill": {
     "duration": 0.058756,
     "end_time": "2022-03-14T12:15:15.488856",
     "exception": false,
     "start_time": "2022-03-14T12:15:15.430100",
     "status": "completed"
    },
    "tags": []
   },
   "outputs": [],
   "source": [
    "#hide\n",
    "\n",
    "# FETCH\n",
    "base_url = 'https://raw.githubusercontent.com/pratapvardhan/notebooks/master/covid19/'\n",
    "paths = {\n",
    "    'mapping': base_url + 'mapping_countries.csv',\n",
    "    'overview': base_url + 'overview.tpl'\n",
    "}"
   ]
  },
  {
   "cell_type": "code",
   "execution_count": 3,
   "id": "dynamic-saver",
   "metadata": {
    "execution": {
     "iopub.execute_input": "2022-03-14T12:15:15.596393Z",
     "iopub.status.busy": "2022-03-14T12:15:15.595469Z",
     "iopub.status.idle": "2022-03-14T12:15:15.598480Z",
     "shell.execute_reply": "2022-03-14T12:15:15.599149Z"
    },
    "papermill": {
     "duration": 0.060766,
     "end_time": "2022-03-14T12:15:15.599355",
     "exception": false,
     "start_time": "2022-03-14T12:15:15.538589",
     "status": "completed"
    },
    "tags": []
   },
   "outputs": [
    {
     "data": {
      "text/plain": [
       "'https://raw.githubusercontent.com/pratapvardhan/notebooks/master/covid19/mapping_countries.csv'"
      ]
     },
     "execution_count": 3,
     "metadata": {},
     "output_type": "execute_result"
    }
   ],
   "source": [
    "#hide\n",
    "paths['mapping']"
   ]
  },
  {
   "cell_type": "code",
   "execution_count": 4,
   "id": "urban-software",
   "metadata": {
    "execution": {
     "iopub.execute_input": "2022-03-14T12:15:15.706485Z",
     "iopub.status.busy": "2022-03-14T12:15:15.705655Z",
     "iopub.status.idle": "2022-03-14T12:15:15.708916Z",
     "shell.execute_reply": "2022-03-14T12:15:15.708307Z"
    },
    "papermill": {
     "duration": 0.060099,
     "end_time": "2022-03-14T12:15:15.709060",
     "exception": false,
     "start_time": "2022-03-14T12:15:15.648961",
     "status": "completed"
    },
    "tags": []
   },
   "outputs": [],
   "source": [
    "#hide\n",
    "def get_mappings(url):\n",
    "    df = pd.read_csv(url)\n",
    "    return {\n",
    "        'df': df,\n",
    "        'replace.country': dict(df.dropna(subset=['Name']).set_index('Country')['Name']),\n",
    "        'map.continent': dict(df.set_index('Name')['Continent'])\n",
    "    }"
   ]
  },
  {
   "cell_type": "code",
   "execution_count": 5,
   "id": "intimate-machinery",
   "metadata": {
    "execution": {
     "iopub.execute_input": "2022-03-14T12:15:15.808974Z",
     "iopub.status.busy": "2022-03-14T12:15:15.807642Z",
     "iopub.status.idle": "2022-03-14T12:15:15.840104Z",
     "shell.execute_reply": "2022-03-14T12:15:15.839188Z"
    },
    "papermill": {
     "duration": 0.086595,
     "end_time": "2022-03-14T12:15:15.840277",
     "exception": false,
     "start_time": "2022-03-14T12:15:15.753682",
     "status": "completed"
    },
    "tags": []
   },
   "outputs": [],
   "source": [
    "#hide\n",
    "mapping = get_mappings(paths['mapping'])"
   ]
  },
  {
   "cell_type": "code",
   "execution_count": 6,
   "id": "certified-tactics",
   "metadata": {
    "execution": {
     "iopub.execute_input": "2022-03-14T12:15:15.944913Z",
     "iopub.status.busy": "2022-03-14T12:15:15.944205Z",
     "iopub.status.idle": "2022-03-14T12:15:15.948380Z",
     "shell.execute_reply": "2022-03-14T12:15:15.948939Z"
    },
    "papermill": {
     "duration": 0.055142,
     "end_time": "2022-03-14T12:15:15.949112",
     "exception": false,
     "start_time": "2022-03-14T12:15:15.893970",
     "status": "completed"
    },
    "tags": []
   },
   "outputs": [],
   "source": [
    "#hide\n",
    "def get_template(path):\n",
    "    from urllib.parse import urlparse\n",
    "    if bool(urlparse(path).netloc):\n",
    "        from urllib.request import urlopen\n",
    "        return urlopen(path).read().decode('utf8')\n",
    "    return open(path).read()"
   ]
  },
  {
   "cell_type": "code",
   "execution_count": 7,
   "id": "realistic-blast",
   "metadata": {
    "execution": {
     "iopub.execute_input": "2022-03-14T12:15:16.044168Z",
     "iopub.status.busy": "2022-03-14T12:15:16.043487Z",
     "iopub.status.idle": "2022-03-14T12:15:16.045976Z",
     "shell.execute_reply": "2022-03-14T12:15:16.046782Z"
    },
    "papermill": {
     "duration": 0.053963,
     "end_time": "2022-03-14T12:15:16.046935",
     "exception": false,
     "start_time": "2022-03-14T12:15:15.992972",
     "status": "completed"
    },
    "tags": []
   },
   "outputs": [],
   "source": [
    "#hide\n",
    "def get_frame(name):\n",
    "    url = (\n",
    "        'https://raw.githubusercontent.com/CSSEGISandData/COVID-19/master/csse_covid_19_data/'\n",
    "        f'csse_covid_19_time_series/time_series_covid19_{name}_global.csv')\n",
    "    df = pd.read_csv(url)\n",
    "    # rename countries\n",
    "    df['Country/Region'] = df['Country/Region'].replace(mapping['replace.country'])\n",
    "    return df"
   ]
  },
  {
   "cell_type": "code",
   "execution_count": 8,
   "id": "affiliated-characterization",
   "metadata": {
    "execution": {
     "iopub.execute_input": "2022-03-14T12:15:16.141298Z",
     "iopub.status.busy": "2022-03-14T12:15:16.140615Z",
     "iopub.status.idle": "2022-03-14T12:15:16.143360Z",
     "shell.execute_reply": "2022-03-14T12:15:16.142784Z"
    },
    "papermill": {
     "duration": 0.054786,
     "end_time": "2022-03-14T12:15:16.143497",
     "exception": false,
     "start_time": "2022-03-14T12:15:16.088711",
     "status": "completed"
    },
    "tags": []
   },
   "outputs": [],
   "source": [
    "#hide\n",
    "def get_dates(df):\n",
    "    dt_cols = df.columns[~df.columns.isin(['Province/State', 'Country/Region', 'Lat', 'Long'])]\n",
    "    LAST_DATE_I = -1\n",
    "    # sometimes last column may be empty, then go backwards\n",
    "    for i in range(-1, -len(dt_cols), -1):\n",
    "        if not df[dt_cols[i]].fillna(0).eq(0).all():\n",
    "            LAST_DATE_I = i\n",
    "            break\n",
    "    return LAST_DATE_I, dt_cols"
   ]
  },
  {
   "cell_type": "code",
   "execution_count": 9,
   "id": "recent-optimization",
   "metadata": {
    "execution": {
     "iopub.execute_input": "2022-03-14T12:15:16.239996Z",
     "iopub.status.busy": "2022-03-14T12:15:16.239278Z",
     "iopub.status.idle": "2022-03-14T12:15:16.707172Z",
     "shell.execute_reply": "2022-03-14T12:15:16.707852Z"
    },
    "papermill": {
     "duration": 0.520424,
     "end_time": "2022-03-14T12:15:16.708050",
     "exception": false,
     "start_time": "2022-03-14T12:15:16.187626",
     "status": "completed"
    },
    "tags": []
   },
   "outputs": [],
   "source": [
    "#hide\n",
    "COL_REGION = 'Country/Region'\n",
    "# Confirmed, Recovered, Deaths\n",
    "df = get_frame('confirmed')\n",
    "# dft_: timeseries, dfc_: today country agg\n",
    "dft_cases = df\n",
    "dft_deaths = get_frame('deaths')\n",
    "dft_recovered = get_frame('recovered')\n",
    "LAST_DATE_I, dt_cols = get_dates(df)"
   ]
  },
  {
   "cell_type": "code",
   "execution_count": 10,
   "id": "absolute-copper",
   "metadata": {
    "execution": {
     "iopub.execute_input": "2022-03-14T12:15:16.803706Z",
     "iopub.status.busy": "2022-03-14T12:15:16.802991Z",
     "iopub.status.idle": "2022-03-14T12:15:16.805858Z",
     "shell.execute_reply": "2022-03-14T12:15:16.805296Z"
    },
    "papermill": {
     "duration": 0.053608,
     "end_time": "2022-03-14T12:15:16.806320",
     "exception": false,
     "start_time": "2022-03-14T12:15:16.752712",
     "status": "completed"
    },
    "tags": []
   },
   "outputs": [],
   "source": [
    "#hide\n",
    "LAST_DATE_I, dt_cols = get_dates(df)\n",
    "dt_today =dt_cols[LAST_DATE_I]\n",
    "# dt_5day = dt_cols[LAST_DATE_I - 5]\n",
    "dt_yday = dt_cols[LAST_DATE_I - 1]"
   ]
  },
  {
   "cell_type": "code",
   "execution_count": 11,
   "id": "restricted-sheriff",
   "metadata": {
    "execution": {
     "iopub.execute_input": "2022-03-14T12:15:16.902719Z",
     "iopub.status.busy": "2022-03-14T12:15:16.901944Z",
     "iopub.status.idle": "2022-03-14T12:15:16.912671Z",
     "shell.execute_reply": "2022-03-14T12:15:16.913221Z"
    },
    "papermill": {
     "duration": 0.063373,
     "end_time": "2022-03-14T12:15:16.913411",
     "exception": false,
     "start_time": "2022-03-14T12:15:16.850038",
     "status": "completed"
    },
    "tags": []
   },
   "outputs": [],
   "source": [
    "#hide\n",
    "dfc_cases = dft_cases.groupby(COL_REGION)[dt_today].sum()\n",
    "dfc_deaths = dft_deaths.groupby(COL_REGION)[dt_today].sum()\n",
    "# dfp_cases = dft_cases.groupby(COL_REGION)[dt_5day].sum()\n",
    "# dfp_deaths = dft_deaths.groupby(COL_REGION)[dt_5day].sum()\n",
    "dfp_cases = dft_cases.groupby(COL_REGION)[dt_yday].sum()\n",
    "dfp_deaths = dft_deaths.groupby(COL_REGION)[dt_yday].sum()"
   ]
  },
  {
   "cell_type": "code",
   "execution_count": 12,
   "id": "deluxe-hepatitis",
   "metadata": {
    "execution": {
     "iopub.execute_input": "2022-03-14T12:15:17.007185Z",
     "iopub.status.busy": "2022-03-14T12:15:17.006367Z",
     "iopub.status.idle": "2022-03-14T12:15:17.013553Z",
     "shell.execute_reply": "2022-03-14T12:15:17.012959Z"
    },
    "papermill": {
     "duration": 0.05701,
     "end_time": "2022-03-14T12:15:17.013715",
     "exception": false,
     "start_time": "2022-03-14T12:15:16.956705",
     "status": "completed"
    },
    "tags": []
   },
   "outputs": [],
   "source": [
    "#hide\n",
    "df_table = (pd.DataFrame(dict(Cases = dfc_cases, Deaths = dfc_deaths, PCases = dfp_cases, PDeaths = dfp_deaths))\n",
    "            .sort_values(by = ['Cases','Deaths'], ascending = [False, False])\n",
    "            .reset_index())"
   ]
  },
  {
   "cell_type": "code",
   "execution_count": 13,
   "id": "educational-chancellor",
   "metadata": {
    "execution": {
     "iopub.execute_input": "2022-03-14T12:15:17.141609Z",
     "iopub.status.busy": "2022-03-14T12:15:17.140686Z",
     "iopub.status.idle": "2022-03-14T12:15:17.144041Z",
     "shell.execute_reply": "2022-03-14T12:15:17.142246Z"
    },
    "papermill": {
     "duration": 0.084822,
     "end_time": "2022-03-14T12:15:17.144193",
     "exception": false,
     "start_time": "2022-03-14T12:15:17.059371",
     "status": "completed"
    },
    "tags": []
   },
   "outputs": [
    {
     "data": {
      "text/html": [
       "<div>\n",
       "<style scoped>\n",
       "    .dataframe tbody tr th:only-of-type {\n",
       "        vertical-align: middle;\n",
       "    }\n",
       "\n",
       "    .dataframe tbody tr th {\n",
       "        vertical-align: top;\n",
       "    }\n",
       "\n",
       "    .dataframe thead th {\n",
       "        text-align: right;\n",
       "    }\n",
       "</style>\n",
       "<table border=\"1\" class=\"dataframe\">\n",
       "  <thead>\n",
       "    <tr style=\"text-align: right;\">\n",
       "      <th></th>\n",
       "      <th>Country/Region</th>\n",
       "      <th>Cases</th>\n",
       "      <th>Deaths</th>\n",
       "      <th>PCases</th>\n",
       "      <th>PDeaths</th>\n",
       "      <th>Cases (+)</th>\n",
       "      <th>Deaths (+)</th>\n",
       "      <th>Fatality Rate</th>\n",
       "      <th>Continent</th>\n",
       "    </tr>\n",
       "  </thead>\n",
       "  <tbody>\n",
       "    <tr>\n",
       "      <th>0</th>\n",
       "      <td>US</td>\n",
       "      <td>79523228</td>\n",
       "      <td>967720</td>\n",
       "      <td>79517492</td>\n",
       "      <td>967552</td>\n",
       "      <td>5736</td>\n",
       "      <td>168</td>\n",
       "      <td>1.22</td>\n",
       "      <td>North America</td>\n",
       "    </tr>\n",
       "    <tr>\n",
       "      <th>1</th>\n",
       "      <td>India</td>\n",
       "      <td>42993494</td>\n",
       "      <td>515877</td>\n",
       "      <td>42990991</td>\n",
       "      <td>515850</td>\n",
       "      <td>2503</td>\n",
       "      <td>27</td>\n",
       "      <td>1.20</td>\n",
       "      <td>Asia</td>\n",
       "    </tr>\n",
       "    <tr>\n",
       "      <th>2</th>\n",
       "      <td>Brazil</td>\n",
       "      <td>29374833</td>\n",
       "      <td>655359</td>\n",
       "      <td>29361024</td>\n",
       "      <td>655234</td>\n",
       "      <td>13809</td>\n",
       "      <td>125</td>\n",
       "      <td>2.23</td>\n",
       "      <td>South America</td>\n",
       "    </tr>\n",
       "    <tr>\n",
       "      <th>3</th>\n",
       "      <td>France</td>\n",
       "      <td>23565274</td>\n",
       "      <td>141054</td>\n",
       "      <td>23565274</td>\n",
       "      <td>141054</td>\n",
       "      <td>0</td>\n",
       "      <td>0</td>\n",
       "      <td>0.60</td>\n",
       "      <td>Europe</td>\n",
       "    </tr>\n",
       "    <tr>\n",
       "      <th>4</th>\n",
       "      <td>United Kingdom</td>\n",
       "      <td>19673347</td>\n",
       "      <td>163317</td>\n",
       "      <td>19673347</td>\n",
       "      <td>163317</td>\n",
       "      <td>0</td>\n",
       "      <td>0</td>\n",
       "      <td>0.83</td>\n",
       "      <td>Europe</td>\n",
       "    </tr>\n",
       "  </tbody>\n",
       "</table>\n",
       "</div>"
      ],
      "text/plain": [
       "   Country/Region     Cases  Deaths    PCases  PDeaths  Cases (+)  Deaths (+)  \\\n",
       "0              US  79523228  967720  79517492   967552       5736         168   \n",
       "1           India  42993494  515877  42990991   515850       2503          27   \n",
       "2          Brazil  29374833  655359  29361024   655234      13809         125   \n",
       "3          France  23565274  141054  23565274   141054          0           0   \n",
       "4  United Kingdom  19673347  163317  19673347   163317          0           0   \n",
       "\n",
       "   Fatality Rate      Continent  \n",
       "0           1.22  North America  \n",
       "1           1.20           Asia  \n",
       "2           2.23  South America  \n",
       "3           0.60         Europe  \n",
       "4           0.83         Europe  "
      ]
     },
     "execution_count": 13,
     "metadata": {},
     "output_type": "execute_result"
    }
   ],
   "source": [
    "#hide\n",
    "for c in 'Cases, Deaths'.split(', '):\n",
    "    df_table[f'{c} (+)'] = (df_table[c] - df_table[f'P{c}']).clip(0)\n",
    "    #Clip ça veut dire, les chiffres negatif sont interdit\n",
    "df_table['Fatality Rate'] = (100* df_table['Deaths']/ df_table['Cases']).round(2)\n",
    "df_table['Continent'] = df_table['Country/Region'].map(mapping['map.continent'])\n",
    "df_table.head(5)"
   ]
  },
  {
   "cell_type": "code",
   "execution_count": 14,
   "id": "aboriginal-bulgaria",
   "metadata": {
    "execution": {
     "iopub.execute_input": "2022-03-14T12:15:17.237665Z",
     "iopub.status.busy": "2022-03-14T12:15:17.236968Z",
     "iopub.status.idle": "2022-03-14T12:15:17.239499Z",
     "shell.execute_reply": "2022-03-14T12:15:17.240105Z"
    },
    "papermill": {
     "duration": 0.052284,
     "end_time": "2022-03-14T12:15:17.240280",
     "exception": false,
     "start_time": "2022-03-14T12:15:17.187996",
     "status": "completed"
    },
    "tags": []
   },
   "outputs": [],
   "source": [
    "#hide\n",
    "#delete problematic countries from table\n",
    "df_table = df_table[~df_table['Country/Region'].isin(['Cape Verde', 'Cruise Ship', 'Kosovo'])]"
   ]
  },
  {
   "cell_type": "code",
   "execution_count": 15,
   "id": "fantastic-effect",
   "metadata": {
    "execution": {
     "iopub.execute_input": "2022-03-14T12:15:17.339059Z",
     "iopub.status.busy": "2022-03-14T12:15:17.338311Z",
     "iopub.status.idle": "2022-03-14T12:15:17.367590Z",
     "shell.execute_reply": "2022-03-14T12:15:17.368460Z"
    },
    "papermill": {
     "duration": 0.085307,
     "end_time": "2022-03-14T12:15:17.368741",
     "exception": false,
     "start_time": "2022-03-14T12:15:17.283434",
     "status": "completed"
    },
    "tags": []
   },
   "outputs": [
    {
     "data": {
      "text/html": [
       "<div>\n",
       "<style scoped>\n",
       "    .dataframe tbody tr th:only-of-type {\n",
       "        vertical-align: middle;\n",
       "    }\n",
       "\n",
       "    .dataframe tbody tr th {\n",
       "        vertical-align: top;\n",
       "    }\n",
       "\n",
       "    .dataframe thead th {\n",
       "        text-align: right;\n",
       "    }\n",
       "</style>\n",
       "<table border=\"1\" class=\"dataframe\">\n",
       "  <thead>\n",
       "    <tr style=\"text-align: right;\">\n",
       "      <th></th>\n",
       "      <th>Country/Region</th>\n",
       "      <th>Cases</th>\n",
       "      <th>Deaths</th>\n",
       "      <th>PCases</th>\n",
       "      <th>PDeaths</th>\n",
       "      <th>Cases (+)</th>\n",
       "      <th>Deaths (+)</th>\n",
       "      <th>Fatality Rate</th>\n",
       "      <th>Continent</th>\n",
       "    </tr>\n",
       "  </thead>\n",
       "  <tbody>\n",
       "    <tr>\n",
       "      <th>0</th>\n",
       "      <td>US</td>\n",
       "      <td>79523228</td>\n",
       "      <td>967720</td>\n",
       "      <td>79517492</td>\n",
       "      <td>967552</td>\n",
       "      <td>5736</td>\n",
       "      <td>168</td>\n",
       "      <td>1.2</td>\n",
       "      <td>North America</td>\n",
       "    </tr>\n",
       "    <tr>\n",
       "      <th>1</th>\n",
       "      <td>India</td>\n",
       "      <td>42993494</td>\n",
       "      <td>515877</td>\n",
       "      <td>42990991</td>\n",
       "      <td>515850</td>\n",
       "      <td>2503</td>\n",
       "      <td>27</td>\n",
       "      <td>1.2</td>\n",
       "      <td>Asia</td>\n",
       "    </tr>\n",
       "    <tr>\n",
       "      <th>2</th>\n",
       "      <td>Brazil</td>\n",
       "      <td>29374833</td>\n",
       "      <td>655359</td>\n",
       "      <td>29361024</td>\n",
       "      <td>655234</td>\n",
       "      <td>13809</td>\n",
       "      <td>125</td>\n",
       "      <td>2.2</td>\n",
       "      <td>South America</td>\n",
       "    </tr>\n",
       "    <tr>\n",
       "      <th>3</th>\n",
       "      <td>France</td>\n",
       "      <td>23565274</td>\n",
       "      <td>141054</td>\n",
       "      <td>23565274</td>\n",
       "      <td>141054</td>\n",
       "      <td>0</td>\n",
       "      <td>0</td>\n",
       "      <td>0.6</td>\n",
       "      <td>Europe</td>\n",
       "    </tr>\n",
       "    <tr>\n",
       "      <th>4</th>\n",
       "      <td>United Kingdom</td>\n",
       "      <td>19673347</td>\n",
       "      <td>163317</td>\n",
       "      <td>19673347</td>\n",
       "      <td>163317</td>\n",
       "      <td>0</td>\n",
       "      <td>0</td>\n",
       "      <td>0.8</td>\n",
       "      <td>Europe</td>\n",
       "    </tr>\n",
       "  </tbody>\n",
       "</table>\n",
       "</div>"
      ],
      "text/plain": [
       "   Country/Region     Cases  Deaths    PCases  PDeaths  Cases (+)  Deaths (+)  \\\n",
       "0              US  79523228  967720  79517492   967552       5736         168   \n",
       "1           India  42993494  515877  42990991   515850       2503          27   \n",
       "2          Brazil  29374833  655359  29361024   655234      13809         125   \n",
       "3          France  23565274  141054  23565274   141054          0           0   \n",
       "4  United Kingdom  19673347  163317  19673347   163317          0           0   \n",
       "\n",
       "   Fatality Rate      Continent  \n",
       "0            1.2  North America  \n",
       "1            1.2           Asia  \n",
       "2            2.2  South America  \n",
       "3            0.6         Europe  \n",
       "4            0.8         Europe  "
      ]
     },
     "execution_count": 15,
     "metadata": {},
     "output_type": "execute_result"
    }
   ],
   "source": [
    "#hide\n",
    "df_table = (pd.DataFrame(dict(Cases=dfc_cases, Deaths=dfc_deaths, PCases=dfp_cases, PDeaths=dfp_deaths))\n",
    "             .sort_values(by=['Cases', 'Deaths'], ascending=[False, False])\n",
    "             .reset_index())\n",
    "df_table.rename(columns={'index': 'Country/Region'}, inplace=True)\n",
    "for c in 'Cases, Deaths'.split(', '):\n",
    "    df_table[f'{c} (+)'] = (df_table[c] - df_table[f'P{c}']).clip(0)  # DATA BUG\n",
    "df_table['Fatality Rate'] = (100 * df_table['Deaths'] / df_table['Cases']).round(1)\n",
    "df_table['Continent'] = df_table['Country/Region'].map(mapping['map.continent'])\n",
    "df_table.head(5)"
   ]
  },
  {
   "cell_type": "code",
   "execution_count": 16,
   "id": "fewer-occasion",
   "metadata": {
    "execution": {
     "iopub.execute_input": "2022-03-14T12:15:17.463394Z",
     "iopub.status.busy": "2022-03-14T12:15:17.462704Z",
     "iopub.status.idle": "2022-03-14T12:15:17.469534Z",
     "shell.execute_reply": "2022-03-14T12:15:17.468833Z"
    },
    "papermill": {
     "duration": 0.05582,
     "end_time": "2022-03-14T12:15:17.469679",
     "exception": false,
     "start_time": "2022-03-14T12:15:17.413859",
     "status": "completed"
    },
    "tags": []
   },
   "outputs": [],
   "source": [
    "#hide\n",
    "#delete problematic countries from table\n",
    "df_table = df_table[~df_table['Country/Region'].isin(['Cape Verde', 'Cruise Ship', 'Kosovo'])]"
   ]
  },
  {
   "cell_type": "code",
   "execution_count": 17,
   "id": "related-center",
   "metadata": {
    "execution": {
     "iopub.execute_input": "2022-03-14T12:15:17.585107Z",
     "iopub.status.busy": "2022-03-14T12:15:17.584095Z",
     "iopub.status.idle": "2022-03-14T12:15:17.585859Z",
     "shell.execute_reply": "2022-03-14T12:15:17.586439Z"
    },
    "papermill": {
     "duration": 0.073365,
     "end_time": "2022-03-14T12:15:17.586610",
     "exception": false,
     "start_time": "2022-03-14T12:15:17.513245",
     "status": "completed"
    },
    "tags": []
   },
   "outputs": [],
   "source": [
    "#hide\n",
    "metrics = [df_table.columns[index] for index in [1,2,5,6]]\n",
    "# s_china = df_table[df_table['Country/Region'].eq('China')][metrics].sum().add_prefix('China ')\n",
    "s_us = df_table[df_table['Country/Region'].eq('US')][metrics].sum().add_prefix('US ')\n",
    "s_eu = df_table[df_table['Continent'].eq('Europe')][metrics].sum().add_prefix('EU ')\n",
    "s_ind = df_table[df_table['Country/Region'].eq('India')][metrics].sum().add_prefix('India ')\n",
    "summary = {'updated': pd.to_datetime(dt_today), 'since': pd.to_datetime(dt_yday)}\n",
    "summary = {'updated': pd.to_datetime(dt_today), 'since': pd.to_datetime(dt_yday)}\n",
    "summary = {**summary, **df_table[metrics].sum(), **s_ind, **s_us, **s_eu}"
   ]
  },
  {
   "cell_type": "code",
   "execution_count": 18,
   "id": "engaging-syndrome",
   "metadata": {
    "execution": {
     "iopub.execute_input": "2022-03-14T12:15:17.688000Z",
     "iopub.status.busy": "2022-03-14T12:15:17.687300Z",
     "iopub.status.idle": "2022-03-14T12:15:17.710067Z",
     "shell.execute_reply": "2022-03-14T12:15:17.709370Z"
    },
    "papermill": {
     "duration": 0.076552,
     "end_time": "2022-03-14T12:15:17.710219",
     "exception": false,
     "start_time": "2022-03-14T12:15:17.633667",
     "status": "completed"
    },
    "tags": []
   },
   "outputs": [],
   "source": [
    "#hide\n",
    "dft_ct_new_cases = dft_cases.groupby(COL_REGION)[dt_cols].sum().diff(axis=1).fillna(0).astype(int)"
   ]
  },
  {
   "cell_type": "code",
   "execution_count": 19,
   "id": "neutral-assignment",
   "metadata": {
    "execution": {
     "iopub.execute_input": "2022-03-14T12:15:17.807374Z",
     "iopub.status.busy": "2022-03-14T12:15:17.806669Z",
     "iopub.status.idle": "2022-03-14T12:15:17.809426Z",
     "shell.execute_reply": "2022-03-14T12:15:17.809955Z"
    },
    "papermill": {
     "duration": 0.054584,
     "end_time": "2022-03-14T12:15:17.810127",
     "exception": false,
     "start_time": "2022-03-14T12:15:17.755543",
     "status": "completed"
    },
    "tags": []
   },
   "outputs": [],
   "source": [
    "#hide\n",
    "everydaycases = dft_ct_new_cases.cumsum(axis=1)"
   ]
  },
  {
   "cell_type": "code",
   "execution_count": 20,
   "id": "parliamentary-calgary",
   "metadata": {
    "execution": {
     "iopub.execute_input": "2022-03-14T12:15:17.903616Z",
     "iopub.status.busy": "2022-03-14T12:15:17.902795Z",
     "iopub.status.idle": "2022-03-14T12:15:18.746791Z",
     "shell.execute_reply": "2022-03-14T12:15:18.746057Z"
    },
    "papermill": {
     "duration": 0.893125,
     "end_time": "2022-03-14T12:15:18.746964",
     "exception": false,
     "start_time": "2022-03-14T12:15:17.853839",
     "status": "completed"
    },
    "tags": []
   },
   "outputs": [],
   "source": [
    "#hide\n",
    "import pandas as pd\n",
    "import matplotlib.pyplot as plt\n",
    "import matplotlib.ticker as ticker\n",
    "import matplotlib.animation as animation\n",
    "from IPython.display import HTML"
   ]
  },
  {
   "cell_type": "code",
   "execution_count": 21,
   "id": "lasting-extraction",
   "metadata": {
    "execution": {
     "iopub.execute_input": "2022-03-14T12:15:18.845182Z",
     "iopub.status.busy": "2022-03-14T12:15:18.844407Z",
     "iopub.status.idle": "2022-03-14T12:15:18.855421Z",
     "shell.execute_reply": "2022-03-14T12:15:18.854771Z"
    },
    "papermill": {
     "duration": 0.061937,
     "end_time": "2022-03-14T12:15:18.855694",
     "exception": false,
     "start_time": "2022-03-14T12:15:18.793757",
     "status": "completed"
    },
    "tags": []
   },
   "outputs": [],
   "source": [
    "#hide\n",
    "t = everydaycases.stack()"
   ]
  },
  {
   "cell_type": "code",
   "execution_count": 22,
   "id": "premier-sleeve",
   "metadata": {
    "execution": {
     "iopub.execute_input": "2022-03-14T12:15:18.952520Z",
     "iopub.status.busy": "2022-03-14T12:15:18.951728Z",
     "iopub.status.idle": "2022-03-14T12:15:18.972507Z",
     "shell.execute_reply": "2022-03-14T12:15:18.971898Z"
    },
    "papermill": {
     "duration": 0.069861,
     "end_time": "2022-03-14T12:15:18.972683",
     "exception": false,
     "start_time": "2022-03-14T12:15:18.902822",
     "status": "completed"
    },
    "tags": []
   },
   "outputs": [],
   "source": [
    "#hide\n",
    "g = t.reset_index(['Country/Region'])"
   ]
  },
  {
   "cell_type": "code",
   "execution_count": 23,
   "id": "distributed-pittsburgh",
   "metadata": {
    "execution": {
     "iopub.execute_input": "2022-03-14T12:15:19.067393Z",
     "iopub.status.busy": "2022-03-14T12:15:19.066564Z",
     "iopub.status.idle": "2022-03-14T12:15:19.070226Z",
     "shell.execute_reply": "2022-03-14T12:15:19.069563Z"
    },
    "papermill": {
     "duration": 0.052934,
     "end_time": "2022-03-14T12:15:19.070412",
     "exception": false,
     "start_time": "2022-03-14T12:15:19.017478",
     "status": "completed"
    },
    "tags": []
   },
   "outputs": [],
   "source": [
    "#hide\n",
    "g.index.name = 'date'"
   ]
  },
  {
   "cell_type": "code",
   "execution_count": 24,
   "id": "naked-donor",
   "metadata": {
    "execution": {
     "iopub.execute_input": "2022-03-14T12:15:19.167243Z",
     "iopub.status.busy": "2022-03-14T12:15:19.164360Z",
     "iopub.status.idle": "2022-03-14T12:15:19.168100Z",
     "shell.execute_reply": "2022-03-14T12:15:19.168899Z"
    },
    "papermill": {
     "duration": 0.052711,
     "end_time": "2022-03-14T12:15:19.169072",
     "exception": false,
     "start_time": "2022-03-14T12:15:19.116361",
     "status": "completed"
    },
    "tags": []
   },
   "outputs": [],
   "source": [
    "# #hide\n",
    "# g = g.reset_index(['date'])"
   ]
  },
  {
   "cell_type": "code",
   "execution_count": 25,
   "id": "incomplete-mustang",
   "metadata": {
    "execution": {
     "iopub.execute_input": "2022-03-14T12:15:19.265946Z",
     "iopub.status.busy": "2022-03-14T12:15:19.265151Z",
     "iopub.status.idle": "2022-03-14T12:15:19.274985Z",
     "shell.execute_reply": "2022-03-14T12:15:19.274153Z"
    },
    "papermill": {
     "duration": 0.060221,
     "end_time": "2022-03-14T12:15:19.275133",
     "exception": false,
     "start_time": "2022-03-14T12:15:19.214912",
     "status": "completed"
    },
    "tags": []
   },
   "outputs": [],
   "source": [
    "#hide\n",
    "# g.head()"
   ]
  },
  {
   "cell_type": "code",
   "execution_count": 26,
   "id": "specific-kruger",
   "metadata": {
    "execution": {
     "iopub.execute_input": "2022-03-14T12:15:19.368962Z",
     "iopub.status.busy": "2022-03-14T12:15:19.368224Z",
     "iopub.status.idle": "2022-03-14T12:15:19.371822Z",
     "shell.execute_reply": "2022-03-14T12:15:19.371275Z"
    },
    "papermill": {
     "duration": 0.052296,
     "end_time": "2022-03-14T12:15:19.371966",
     "exception": false,
     "start_time": "2022-03-14T12:15:19.319670",
     "status": "completed"
    },
    "tags": []
   },
   "outputs": [],
   "source": [
    "#hide\n",
    "# g.columns = ['date','country','cases']"
   ]
  },
  {
   "cell_type": "code",
   "execution_count": 27,
   "id": "tender-conversion",
   "metadata": {
    "execution": {
     "iopub.execute_input": "2022-03-14T12:15:19.466608Z",
     "iopub.status.busy": "2022-03-14T12:15:19.465768Z",
     "iopub.status.idle": "2022-03-14T12:15:19.470608Z",
     "shell.execute_reply": "2022-03-14T12:15:19.469984Z"
    },
    "papermill": {
     "duration": 0.053409,
     "end_time": "2022-03-14T12:15:19.470804",
     "exception": false,
     "start_time": "2022-03-14T12:15:19.417395",
     "status": "completed"
    },
    "tags": []
   },
   "outputs": [],
   "source": [
    "#hide\n",
    "# g['continent'] = g.country"
   ]
  },
  {
   "cell_type": "code",
   "execution_count": 28,
   "id": "substantial-wilderness",
   "metadata": {
    "execution": {
     "iopub.execute_input": "2022-03-14T12:15:19.568307Z",
     "iopub.status.busy": "2022-03-14T12:15:19.567615Z",
     "iopub.status.idle": "2022-03-14T12:15:19.572513Z",
     "shell.execute_reply": "2022-03-14T12:15:19.571932Z"
    },
    "papermill": {
     "duration": 0.057407,
     "end_time": "2022-03-14T12:15:19.572653",
     "exception": false,
     "start_time": "2022-03-14T12:15:19.515246",
     "status": "completed"
    },
    "tags": []
   },
   "outputs": [],
   "source": [
    "#hide\n",
    "# cols = list(g.columns.values)"
   ]
  },
  {
   "cell_type": "code",
   "execution_count": 29,
   "id": "solved-farming",
   "metadata": {
    "execution": {
     "iopub.execute_input": "2022-03-14T12:15:19.670253Z",
     "iopub.status.busy": "2022-03-14T12:15:19.669536Z",
     "iopub.status.idle": "2022-03-14T12:15:19.672262Z",
     "shell.execute_reply": "2022-03-14T12:15:19.671652Z"
    },
    "papermill": {
     "duration": 0.054719,
     "end_time": "2022-03-14T12:15:19.672400",
     "exception": false,
     "start_time": "2022-03-14T12:15:19.617681",
     "status": "completed"
    },
    "tags": []
   },
   "outputs": [],
   "source": [
    "#hide\n",
    "# cols.insert(0, cols.pop())"
   ]
  },
  {
   "cell_type": "code",
   "execution_count": 30,
   "id": "executed-adoption",
   "metadata": {
    "execution": {
     "iopub.execute_input": "2022-03-14T12:15:19.773487Z",
     "iopub.status.busy": "2022-03-14T12:15:19.772825Z",
     "iopub.status.idle": "2022-03-14T12:15:19.777040Z",
     "shell.execute_reply": "2022-03-14T12:15:19.777589Z"
    },
    "papermill": {
     "duration": 0.057446,
     "end_time": "2022-03-14T12:15:19.777746",
     "exception": false,
     "start_time": "2022-03-14T12:15:19.720300",
     "status": "completed"
    },
    "tags": []
   },
   "outputs": [],
   "source": [
    "#hide\n",
    "# g = g[cols]"
   ]
  },
  {
   "cell_type": "code",
   "execution_count": 31,
   "id": "subject-dublin",
   "metadata": {
    "execution": {
     "iopub.execute_input": "2022-03-14T12:15:19.875375Z",
     "iopub.status.busy": "2022-03-14T12:15:19.874724Z",
     "iopub.status.idle": "2022-03-14T12:15:19.876824Z",
     "shell.execute_reply": "2022-03-14T12:15:19.877406Z"
    },
    "papermill": {
     "duration": 0.05204,
     "end_time": "2022-03-14T12:15:19.877558",
     "exception": false,
     "start_time": "2022-03-14T12:15:19.825518",
     "status": "completed"
    },
    "tags": []
   },
   "outputs": [],
   "source": [
    "#hide\n",
    "# g['continent'] = g['continent'].map(mapping['map.continent'])"
   ]
  },
  {
   "cell_type": "code",
   "execution_count": 32,
   "id": "freelance-scout",
   "metadata": {
    "execution": {
     "iopub.execute_input": "2022-03-14T12:15:19.976249Z",
     "iopub.status.busy": "2022-03-14T12:15:19.975582Z",
     "iopub.status.idle": "2022-03-14T12:15:19.978721Z",
     "shell.execute_reply": "2022-03-14T12:15:19.977999Z"
    },
    "papermill": {
     "duration": 0.052861,
     "end_time": "2022-03-14T12:15:19.978863",
     "exception": false,
     "start_time": "2022-03-14T12:15:19.926002",
     "status": "completed"
    },
    "tags": []
   },
   "outputs": [],
   "source": [
    "#hide\n",
    "# g.head()"
   ]
  },
  {
   "cell_type": "code",
   "execution_count": 33,
   "id": "limited-engine",
   "metadata": {
    "execution": {
     "iopub.execute_input": "2022-03-14T12:15:20.085783Z",
     "iopub.status.busy": "2022-03-14T12:15:20.084805Z",
     "iopub.status.idle": "2022-03-14T12:15:20.088462Z",
     "shell.execute_reply": "2022-03-14T12:15:20.087811Z"
    },
    "papermill": {
     "duration": 0.052848,
     "end_time": "2022-03-14T12:15:20.088601",
     "exception": false,
     "start_time": "2022-03-14T12:15:20.035753",
     "status": "completed"
    },
    "tags": []
   },
   "outputs": [],
   "source": [
    "# hide\n",
    "# g['date'] = g['date'].astype('datetime64[ns]')"
   ]
  },
  {
   "cell_type": "code",
   "execution_count": 34,
   "id": "sophisticated-supervisor",
   "metadata": {
    "execution": {
     "iopub.execute_input": "2022-03-14T12:15:20.188802Z",
     "iopub.status.busy": "2022-03-14T12:15:20.188129Z",
     "iopub.status.idle": "2022-03-14T12:15:20.192589Z",
     "shell.execute_reply": "2022-03-14T12:15:20.193264Z"
    },
    "papermill": {
     "duration": 0.055562,
     "end_time": "2022-03-14T12:15:20.193495",
     "exception": false,
     "start_time": "2022-03-14T12:15:20.137933",
     "status": "completed"
    },
    "tags": []
   },
   "outputs": [],
   "source": [
    "#hide\n",
    "# g['date'] = g.date.dt.dayofyear"
   ]
  },
  {
   "cell_type": "code",
   "execution_count": 35,
   "id": "inside-dubai",
   "metadata": {
    "execution": {
     "iopub.execute_input": "2022-03-14T12:15:20.289722Z",
     "iopub.status.busy": "2022-03-14T12:15:20.289044Z",
     "iopub.status.idle": "2022-03-14T12:15:20.295414Z",
     "shell.execute_reply": "2022-03-14T12:15:20.294644Z"
    },
    "papermill": {
     "duration": 0.055642,
     "end_time": "2022-03-14T12:15:20.295555",
     "exception": false,
     "start_time": "2022-03-14T12:15:20.239913",
     "status": "completed"
    },
    "tags": []
   },
   "outputs": [],
   "source": [
    "#hide\n",
    "# g = g.rename(columns= {'continent':'group','country':'name','cases':'value'})"
   ]
  },
  {
   "cell_type": "code",
   "execution_count": 36,
   "id": "fleet-motorcycle",
   "metadata": {
    "execution": {
     "iopub.execute_input": "2022-03-14T12:15:20.399091Z",
     "iopub.status.busy": "2022-03-14T12:15:20.398197Z",
     "iopub.status.idle": "2022-03-14T12:15:20.401668Z",
     "shell.execute_reply": "2022-03-14T12:15:20.402209Z"
    },
    "papermill": {
     "duration": 0.054866,
     "end_time": "2022-03-14T12:15:20.402439",
     "exception": false,
     "start_time": "2022-03-14T12:15:20.347573",
     "status": "completed"
    },
    "tags": []
   },
   "outputs": [],
   "source": [
    "#hide\n",
    "# cols = ['name','group','day','value']"
   ]
  },
  {
   "cell_type": "code",
   "execution_count": 37,
   "id": "continued-sleeping",
   "metadata": {
    "execution": {
     "iopub.execute_input": "2022-03-14T12:15:20.500255Z",
     "iopub.status.busy": "2022-03-14T12:15:20.499564Z",
     "iopub.status.idle": "2022-03-14T12:15:20.502473Z",
     "shell.execute_reply": "2022-03-14T12:15:20.503019Z"
    },
    "papermill": {
     "duration": 0.053402,
     "end_time": "2022-03-14T12:15:20.503172",
     "exception": false,
     "start_time": "2022-03-14T12:15:20.449770",
     "status": "completed"
    },
    "tags": []
   },
   "outputs": [],
   "source": [
    "#hide\n",
    "# g.rename(columns= {'date':'day'},inplace = True)"
   ]
  },
  {
   "cell_type": "code",
   "execution_count": 38,
   "id": "major-fight",
   "metadata": {
    "execution": {
     "iopub.execute_input": "2022-03-14T12:15:20.620095Z",
     "iopub.status.busy": "2022-03-14T12:15:20.619401Z",
     "iopub.status.idle": "2022-03-14T12:15:20.621643Z",
     "shell.execute_reply": "2022-03-14T12:15:20.622164Z"
    },
    "papermill": {
     "duration": 0.055478,
     "end_time": "2022-03-14T12:15:20.622381",
     "exception": false,
     "start_time": "2022-03-14T12:15:20.566903",
     "status": "completed"
    },
    "tags": []
   },
   "outputs": [],
   "source": [
    "#hide\n",
    "# g = g[cols]"
   ]
  },
  {
   "cell_type": "code",
   "execution_count": 39,
   "id": "structured-mobile",
   "metadata": {
    "execution": {
     "iopub.execute_input": "2022-03-14T12:15:20.716261Z",
     "iopub.status.busy": "2022-03-14T12:15:20.715494Z",
     "iopub.status.idle": "2022-03-14T12:15:20.717829Z",
     "shell.execute_reply": "2022-03-14T12:15:20.718508Z"
    },
    "papermill": {
     "duration": 0.05102,
     "end_time": "2022-03-14T12:15:20.718677",
     "exception": false,
     "start_time": "2022-03-14T12:15:20.667657",
     "status": "completed"
    },
    "tags": []
   },
   "outputs": [],
   "source": [
    "# #hide\n",
    "# g = g[g.group.notna()]"
   ]
  },
  {
   "cell_type": "code",
   "execution_count": 40,
   "id": "determined-closing",
   "metadata": {
    "execution": {
     "iopub.execute_input": "2022-03-14T12:15:20.818435Z",
     "iopub.status.busy": "2022-03-14T12:15:20.817674Z",
     "iopub.status.idle": "2022-03-14T12:15:20.820427Z",
     "shell.execute_reply": "2022-03-14T12:15:20.819845Z"
    },
    "papermill": {
     "duration": 0.053431,
     "end_time": "2022-03-14T12:15:20.820560",
     "exception": false,
     "start_time": "2022-03-14T12:15:20.767129",
     "status": "completed"
    },
    "tags": []
   },
   "outputs": [],
   "source": [
    "# #hide\n",
    "# colors = dict(zip(\n",
    "#     [\"Oceania\", \"Europe\", \"Asia\", \"South America\", \"Middle East\", \"North America\", \"Africa\"],\n",
    "#     [\"#adb0ff\", \"#ffb3ff\", \"#90d595\", \"#e48381\", \"#aafbff\", \"#f7bb5f\", \"#eafb50\"]\n",
    "# ))\n",
    "# group_lk = g.set_index('name')['group'].to_dict()"
   ]
  },
  {
   "cell_type": "code",
   "execution_count": null,
   "id": "gross-drinking",
   "metadata": {
    "papermill": {
     "duration": 0.04779,
     "end_time": "2022-03-14T12:15:20.917846",
     "exception": false,
     "start_time": "2022-03-14T12:15:20.870056",
     "status": "completed"
    },
    "tags": []
   },
   "outputs": [],
   "source": []
  },
  {
   "cell_type": "code",
   "execution_count": 41,
   "id": "subject-macintosh",
   "metadata": {
    "execution": {
     "iopub.execute_input": "2022-03-14T12:15:21.016355Z",
     "iopub.status.busy": "2022-03-14T12:15:21.015560Z",
     "iopub.status.idle": "2022-03-14T12:15:21.018238Z",
     "shell.execute_reply": "2022-03-14T12:15:21.017569Z"
    },
    "papermill": {
     "duration": 0.053162,
     "end_time": "2022-03-14T12:15:21.018407",
     "exception": false,
     "start_time": "2022-03-14T12:15:20.965245",
     "status": "completed"
    },
    "tags": []
   },
   "outputs": [],
   "source": [
    "# #hide\n",
    "# fig, ax = plt.subplots(figsize=(15, 8))\n",
    "\n",
    "# def draw_barchart(current_day):\n",
    "#     dff = g[g['day'].eq(current_day)].sort_values(by='value', ascending=True).tail(10)\n",
    "#     ax.clear()\n",
    "#     ax.barh(dff['name'], dff['value'], color=[colors[group_lk[x]] for x in dff['name']])\n",
    "#     dx = dff['value'].max() / 200\n",
    "    \n",
    "#     for i, (value, name) in enumerate(zip(dff['value'], dff['name'])):\n",
    "#         ax.text(value-dx, i,     name,           size=14, weight=600, ha='right', va='bottom')\n",
    "#         ax.text(value-dx, i-.25, group_lk[name], size=10, color='#444444', ha='right', va='baseline')\n",
    "#         ax.text(value+dx, i,     f'{value:,.0f}',  size=14, ha='left',  va='center')\n",
    "#     ax.text(1, 0.4, current_day, transform=ax.transAxes, color='#777777', size=46, ha='right', weight=800)\n",
    "#     ax.text(0, 1.06, 'Population (thousands)', transform=ax.transAxes, size=12, color='#777777')\n",
    "#     ax.xaxis.set_major_formatter(ticker.StrMethodFormatter('{x:,.0f}'))\n",
    "#     ax.xaxis.set_ticks_position('top')\n",
    "#     ax.tick_params(axis='x', colors='#777777', labelsize=12)\n",
    "#     ax.set_yticks([])\n",
    "#     ax.margins(0, 0.01)\n",
    "#     ax.grid(which='major', axis='x', linestyle='-')\n",
    "#     ax.set_axisbelow(True)\n",
    "    \n",
    "#     ax.text(0, 1.15, 'Coronavirus',\n",
    "#             transform=ax.transAxes, size=24, weight=600, ha='left', va='top')\n",
    "# #     ax.text(1, 0, 'by @pratapvardhan; credit @jburnmurdoch', transform=ax.transAxes, color='#777777', ha='right',\n",
    "# #             bbox=dict(facecolor='white', alpha=0.8, edgecolor='white'))\n",
    "#     plt.box(False)"
   ]
  },
  {
   "cell_type": "code",
   "execution_count": 42,
   "id": "sexual-wages",
   "metadata": {
    "execution": {
     "iopub.execute_input": "2022-03-14T12:15:21.123206Z",
     "iopub.status.busy": "2022-03-14T12:15:21.122491Z",
     "iopub.status.idle": "2022-03-14T12:15:21.125095Z",
     "shell.execute_reply": "2022-03-14T12:15:21.125747Z"
    },
    "papermill": {
     "duration": 0.060444,
     "end_time": "2022-03-14T12:15:21.125904",
     "exception": false,
     "start_time": "2022-03-14T12:15:21.065460",
     "status": "completed"
    },
    "tags": []
   },
   "outputs": [],
   "source": [
    "# #hide_input\n",
    "# fig, ax = plt.subplots(figsize=(15, 8))\n",
    "# animator = animation.FuncAnimation(fig, draw_barchart, frames=range(g.day.values.min(), g.day.values.max()))\n",
    "# HTML(animator.to_jshtml())\n",
    "# # or use animator.to_html5_video() or animator.save() "
   ]
  },
  {
   "cell_type": "code",
   "execution_count": null,
   "id": "australian-container",
   "metadata": {
    "papermill": {
     "duration": 0.042711,
     "end_time": "2022-03-14T12:15:21.224797",
     "exception": false,
     "start_time": "2022-03-14T12:15:21.182086",
     "status": "completed"
    },
    "tags": []
   },
   "outputs": [],
   "source": []
  },
  {
   "cell_type": "code",
   "execution_count": null,
   "id": "mediterranean-pontiac",
   "metadata": {
    "papermill": {
     "duration": 0.046915,
     "end_time": "2022-03-14T12:15:21.315890",
     "exception": false,
     "start_time": "2022-03-14T12:15:21.268975",
     "status": "completed"
    },
    "tags": []
   },
   "outputs": [],
   "source": []
  },
  {
   "cell_type": "code",
   "execution_count": null,
   "id": "aging-legislature",
   "metadata": {
    "papermill": {
     "duration": 0.045284,
     "end_time": "2022-03-14T12:15:21.422422",
     "exception": false,
     "start_time": "2022-03-14T12:15:21.377138",
     "status": "completed"
    },
    "tags": []
   },
   "outputs": [],
   "source": []
  }
 ],
 "metadata": {
  "kernelspec": {
   "display_name": "Python 3",
   "language": "python",
   "name": "python3"
  },
  "language_info": {
   "codemirror_mode": {
    "name": "ipython",
    "version": 3
   },
   "file_extension": ".py",
   "mimetype": "text/x-python",
   "name": "python",
   "nbconvert_exporter": "python",
   "pygments_lexer": "ipython3",
   "version": "3.6.15"
  },
  "papermill": {
   "duration": 8.463695,
   "end_time": "2022-03-14T12:15:21.898541",
   "environment_variables": {},
   "exception": null,
   "input_path": "2020-03-21-covid19exp.ipynb",
   "output_path": "2020-03-21-covid19exp.ipynb",
   "parameters": {},
   "start_time": "2022-03-14T12:15:13.434846",
   "version": "2.0.0"
  }
 },
 "nbformat": 4,
 "nbformat_minor": 5
}