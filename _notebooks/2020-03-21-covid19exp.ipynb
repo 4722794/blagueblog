{
 "cells": [
  {
   "cell_type": "markdown",
   "id": "muslim-click",
   "metadata": {
    "papermill": {
     "duration": 0.035335,
     "end_time": "2022-10-04T12:22:30.321488",
     "exception": false,
     "start_time": "2022-10-04T12:22:30.286153",
     "status": "completed"
    },
    "tags": []
   },
   "source": [
    "# COVID-19 Case Race\n",
    "> A race chart to see rising cases around the world\n",
    "\n",
    "- author: Hargun Oberoi\n",
    "- image: images/covid-overview.png\n",
    "- hide: false\n",
    "- badges: false"
   ]
  },
  {
   "cell_type": "code",
   "execution_count": 1,
   "id": "proof-material",
   "metadata": {
    "execution": {
     "iopub.execute_input": "2022-10-04T12:22:30.392067Z",
     "iopub.status.busy": "2022-10-04T12:22:30.391469Z",
     "iopub.status.idle": "2022-10-04T12:22:30.710891Z",
     "shell.execute_reply": "2022-10-04T12:22:30.710394Z"
    },
    "papermill": {
     "duration": 0.358756,
     "end_time": "2022-10-04T12:22:30.711023",
     "exception": false,
     "start_time": "2022-10-04T12:22:30.352267",
     "status": "completed"
    },
    "tags": []
   },
   "outputs": [],
   "source": [
    "#hide\n",
    "import numpy as np\n",
    "import pandas as pd\n",
    "from jinja2 import Template\n",
    "from IPython.display import HTML"
   ]
  },
  {
   "cell_type": "code",
   "execution_count": 2,
   "id": "developed-terminology",
   "metadata": {
    "execution": {
     "iopub.execute_input": "2022-10-04T12:22:30.776297Z",
     "iopub.status.busy": "2022-10-04T12:22:30.775719Z",
     "iopub.status.idle": "2022-10-04T12:22:30.779592Z",
     "shell.execute_reply": "2022-10-04T12:22:30.780019Z"
    },
    "papermill": {
     "duration": 0.038795,
     "end_time": "2022-10-04T12:22:30.780149",
     "exception": false,
     "start_time": "2022-10-04T12:22:30.741354",
     "status": "completed"
    },
    "tags": []
   },
   "outputs": [],
   "source": [
    "#hide\n",
    "\n",
    "# FETCH\n",
    "base_url = 'https://raw.githubusercontent.com/pratapvardhan/notebooks/master/covid19/'\n",
    "paths = {\n",
    "    'mapping': base_url + 'mapping_countries.csv',\n",
    "    'overview': base_url + 'overview.tpl'\n",
    "}"
   ]
  },
  {
   "cell_type": "code",
   "execution_count": 3,
   "id": "dynamic-saver",
   "metadata": {
    "execution": {
     "iopub.execute_input": "2022-10-04T12:22:30.848386Z",
     "iopub.status.busy": "2022-10-04T12:22:30.847802Z",
     "iopub.status.idle": "2022-10-04T12:22:30.852167Z",
     "shell.execute_reply": "2022-10-04T12:22:30.851713Z"
    },
    "papermill": {
     "duration": 0.042139,
     "end_time": "2022-10-04T12:22:30.852270",
     "exception": false,
     "start_time": "2022-10-04T12:22:30.810131",
     "status": "completed"
    },
    "tags": []
   },
   "outputs": [
    {
     "data": {
      "text/plain": [
       "'https://raw.githubusercontent.com/pratapvardhan/notebooks/master/covid19/mapping_countries.csv'"
      ]
     },
     "execution_count": 3,
     "metadata": {},
     "output_type": "execute_result"
    }
   ],
   "source": [
    "#hide\n",
    "paths['mapping']"
   ]
  },
  {
   "cell_type": "code",
   "execution_count": 4,
   "id": "urban-software",
   "metadata": {
    "execution": {
     "iopub.execute_input": "2022-10-04T12:22:30.918492Z",
     "iopub.status.busy": "2022-10-04T12:22:30.917889Z",
     "iopub.status.idle": "2022-10-04T12:22:30.920303Z",
     "shell.execute_reply": "2022-10-04T12:22:30.919759Z"
    },
    "papermill": {
     "duration": 0.037664,
     "end_time": "2022-10-04T12:22:30.920406",
     "exception": false,
     "start_time": "2022-10-04T12:22:30.882742",
     "status": "completed"
    },
    "tags": []
   },
   "outputs": [],
   "source": [
    "#hide\n",
    "def get_mappings(url):\n",
    "    df = pd.read_csv(url)\n",
    "    return {\n",
    "        'df': df,\n",
    "        'replace.country': dict(df.dropna(subset=['Name']).set_index('Country')['Name']),\n",
    "        'map.continent': dict(df.set_index('Name')['Continent'])\n",
    "    }"
   ]
  },
  {
   "cell_type": "code",
   "execution_count": 5,
   "id": "intimate-machinery",
   "metadata": {
    "execution": {
     "iopub.execute_input": "2022-10-04T12:22:30.986385Z",
     "iopub.status.busy": "2022-10-04T12:22:30.985776Z",
     "iopub.status.idle": "2022-10-04T12:22:31.032247Z",
     "shell.execute_reply": "2022-10-04T12:22:31.031773Z"
    },
    "papermill": {
     "duration": 0.081628,
     "end_time": "2022-10-04T12:22:31.032359",
     "exception": false,
     "start_time": "2022-10-04T12:22:30.950731",
     "status": "completed"
    },
    "tags": []
   },
   "outputs": [],
   "source": [
    "#hide\n",
    "mapping = get_mappings(paths['mapping'])"
   ]
  },
  {
   "cell_type": "code",
   "execution_count": 6,
   "id": "certified-tactics",
   "metadata": {
    "execution": {
     "iopub.execute_input": "2022-10-04T12:22:31.098364Z",
     "iopub.status.busy": "2022-10-04T12:22:31.097752Z",
     "iopub.status.idle": "2022-10-04T12:22:31.099510Z",
     "shell.execute_reply": "2022-10-04T12:22:31.099932Z"
    },
    "papermill": {
     "duration": 0.037319,
     "end_time": "2022-10-04T12:22:31.100052",
     "exception": false,
     "start_time": "2022-10-04T12:22:31.062733",
     "status": "completed"
    },
    "tags": []
   },
   "outputs": [],
   "source": [
    "#hide\n",
    "def get_template(path):\n",
    "    from urllib.parse import urlparse\n",
    "    if bool(urlparse(path).netloc):\n",
    "        from urllib.request import urlopen\n",
    "        return urlopen(path).read().decode('utf8')\n",
    "    return open(path).read()"
   ]
  },
  {
   "cell_type": "code",
   "execution_count": 7,
   "id": "realistic-blast",
   "metadata": {
    "execution": {
     "iopub.execute_input": "2022-10-04T12:22:31.165375Z",
     "iopub.status.busy": "2022-10-04T12:22:31.164790Z",
     "iopub.status.idle": "2022-10-04T12:22:31.167187Z",
     "shell.execute_reply": "2022-10-04T12:22:31.166642Z"
    },
    "papermill": {
     "duration": 0.036997,
     "end_time": "2022-10-04T12:22:31.167289",
     "exception": false,
     "start_time": "2022-10-04T12:22:31.130292",
     "status": "completed"
    },
    "tags": []
   },
   "outputs": [],
   "source": [
    "#hide\n",
    "def get_frame(name):\n",
    "    url = (\n",
    "        'https://raw.githubusercontent.com/CSSEGISandData/COVID-19/master/csse_covid_19_data/'\n",
    "        f'csse_covid_19_time_series/time_series_covid19_{name}_global.csv')\n",
    "    df = pd.read_csv(url)\n",
    "    # rename countries\n",
    "    df['Country/Region'] = df['Country/Region'].replace(mapping['replace.country'])\n",
    "    return df"
   ]
  },
  {
   "cell_type": "code",
   "execution_count": 8,
   "id": "affiliated-characterization",
   "metadata": {
    "execution": {
     "iopub.execute_input": "2022-10-04T12:22:31.234047Z",
     "iopub.status.busy": "2022-10-04T12:22:31.233457Z",
     "iopub.status.idle": "2022-10-04T12:22:31.235877Z",
     "shell.execute_reply": "2022-10-04T12:22:31.235339Z"
    },
    "papermill": {
     "duration": 0.038254,
     "end_time": "2022-10-04T12:22:31.235980",
     "exception": false,
     "start_time": "2022-10-04T12:22:31.197726",
     "status": "completed"
    },
    "tags": []
   },
   "outputs": [],
   "source": [
    "#hide\n",
    "def get_dates(df):\n",
    "    dt_cols = df.columns[~df.columns.isin(['Province/State', 'Country/Region', 'Lat', 'Long'])]\n",
    "    LAST_DATE_I = -1\n",
    "    # sometimes last column may be empty, then go backwards\n",
    "    for i in range(-1, -len(dt_cols), -1):\n",
    "        if not df[dt_cols[i]].fillna(0).eq(0).all():\n",
    "            LAST_DATE_I = i\n",
    "            break\n",
    "    return LAST_DATE_I, dt_cols"
   ]
  },
  {
   "cell_type": "code",
   "execution_count": 9,
   "id": "recent-optimization",
   "metadata": {
    "execution": {
     "iopub.execute_input": "2022-10-04T12:22:31.301467Z",
     "iopub.status.busy": "2022-10-04T12:22:31.300877Z",
     "iopub.status.idle": "2022-10-04T12:22:31.835885Z",
     "shell.execute_reply": "2022-10-04T12:22:31.834810Z"
    },
    "papermill": {
     "duration": 0.5699,
     "end_time": "2022-10-04T12:22:31.836003",
     "exception": false,
     "start_time": "2022-10-04T12:22:31.266103",
     "status": "completed"
    },
    "tags": []
   },
   "outputs": [],
   "source": [
    "#hide\n",
    "COL_REGION = 'Country/Region'\n",
    "# Confirmed, Recovered, Deaths\n",
    "df = get_frame('confirmed')\n",
    "# dft_: timeseries, dfc_: today country agg\n",
    "dft_cases = df\n",
    "dft_deaths = get_frame('deaths')\n",
    "dft_recovered = get_frame('recovered')\n",
    "LAST_DATE_I, dt_cols = get_dates(df)"
   ]
  },
  {
   "cell_type": "code",
   "execution_count": 10,
   "id": "absolute-copper",
   "metadata": {
    "execution": {
     "iopub.execute_input": "2022-10-04T12:22:31.902068Z",
     "iopub.status.busy": "2022-10-04T12:22:31.901482Z",
     "iopub.status.idle": "2022-10-04T12:22:31.903794Z",
     "shell.execute_reply": "2022-10-04T12:22:31.903337Z"
    },
    "papermill": {
     "duration": 0.037445,
     "end_time": "2022-10-04T12:22:31.903897",
     "exception": false,
     "start_time": "2022-10-04T12:22:31.866452",
     "status": "completed"
    },
    "tags": []
   },
   "outputs": [],
   "source": [
    "#hide\n",
    "LAST_DATE_I, dt_cols = get_dates(df)\n",
    "dt_today =dt_cols[LAST_DATE_I]\n",
    "# dt_5day = dt_cols[LAST_DATE_I - 5]\n",
    "dt_yday = dt_cols[LAST_DATE_I - 1]"
   ]
  },
  {
   "cell_type": "code",
   "execution_count": 11,
   "id": "restricted-sheriff",
   "metadata": {
    "execution": {
     "iopub.execute_input": "2022-10-04T12:22:31.970406Z",
     "iopub.status.busy": "2022-10-04T12:22:31.969807Z",
     "iopub.status.idle": "2022-10-04T12:22:31.976712Z",
     "shell.execute_reply": "2022-10-04T12:22:31.977167Z"
    },
    "papermill": {
     "duration": 0.043219,
     "end_time": "2022-10-04T12:22:31.977292",
     "exception": false,
     "start_time": "2022-10-04T12:22:31.934073",
     "status": "completed"
    },
    "tags": []
   },
   "outputs": [],
   "source": [
    "#hide\n",
    "dfc_cases = dft_cases.groupby(COL_REGION)[dt_today].sum()\n",
    "dfc_deaths = dft_deaths.groupby(COL_REGION)[dt_today].sum()\n",
    "# dfp_cases = dft_cases.groupby(COL_REGION)[dt_5day].sum()\n",
    "# dfp_deaths = dft_deaths.groupby(COL_REGION)[dt_5day].sum()\n",
    "dfp_cases = dft_cases.groupby(COL_REGION)[dt_yday].sum()\n",
    "dfp_deaths = dft_deaths.groupby(COL_REGION)[dt_yday].sum()"
   ]
  },
  {
   "cell_type": "code",
   "execution_count": 12,
   "id": "deluxe-hepatitis",
   "metadata": {
    "execution": {
     "iopub.execute_input": "2022-10-04T12:22:32.043901Z",
     "iopub.status.busy": "2022-10-04T12:22:32.043312Z",
     "iopub.status.idle": "2022-10-04T12:22:32.049005Z",
     "shell.execute_reply": "2022-10-04T12:22:32.049425Z"
    },
    "papermill": {
     "duration": 0.041891,
     "end_time": "2022-10-04T12:22:32.049550",
     "exception": false,
     "start_time": "2022-10-04T12:22:32.007659",
     "status": "completed"
    },
    "tags": []
   },
   "outputs": [],
   "source": [
    "#hide\n",
    "df_table = (pd.DataFrame(dict(Cases = dfc_cases, Deaths = dfc_deaths, PCases = dfp_cases, PDeaths = dfp_deaths))\n",
    "            .sort_values(by = ['Cases','Deaths'], ascending = [False, False])\n",
    "            .reset_index())"
   ]
  },
  {
   "cell_type": "code",
   "execution_count": 13,
   "id": "educational-chancellor",
   "metadata": {
    "execution": {
     "iopub.execute_input": "2022-10-04T12:22:32.127354Z",
     "iopub.status.busy": "2022-10-04T12:22:32.126749Z",
     "iopub.status.idle": "2022-10-04T12:22:32.135142Z",
     "shell.execute_reply": "2022-10-04T12:22:32.134676Z"
    },
    "papermill": {
     "duration": 0.055498,
     "end_time": "2022-10-04T12:22:32.135247",
     "exception": false,
     "start_time": "2022-10-04T12:22:32.079749",
     "status": "completed"
    },
    "tags": []
   },
   "outputs": [
    {
     "data": {
      "text/html": [
       "<div>\n",
       "<style scoped>\n",
       "    .dataframe tbody tr th:only-of-type {\n",
       "        vertical-align: middle;\n",
       "    }\n",
       "\n",
       "    .dataframe tbody tr th {\n",
       "        vertical-align: top;\n",
       "    }\n",
       "\n",
       "    .dataframe thead th {\n",
       "        text-align: right;\n",
       "    }\n",
       "</style>\n",
       "<table border=\"1\" class=\"dataframe\">\n",
       "  <thead>\n",
       "    <tr style=\"text-align: right;\">\n",
       "      <th></th>\n",
       "      <th>Country/Region</th>\n",
       "      <th>Cases</th>\n",
       "      <th>Deaths</th>\n",
       "      <th>PCases</th>\n",
       "      <th>PDeaths</th>\n",
       "      <th>Cases (+)</th>\n",
       "      <th>Deaths (+)</th>\n",
       "      <th>Fatality Rate</th>\n",
       "      <th>Continent</th>\n",
       "    </tr>\n",
       "  </thead>\n",
       "  <tbody>\n",
       "    <tr>\n",
       "      <th>0</th>\n",
       "      <td>US</td>\n",
       "      <td>96438726</td>\n",
       "      <td>1059866</td>\n",
       "      <td>96397885</td>\n",
       "      <td>1059605</td>\n",
       "      <td>40841</td>\n",
       "      <td>261</td>\n",
       "      <td>1.10</td>\n",
       "      <td>North America</td>\n",
       "    </tr>\n",
       "    <tr>\n",
       "      <th>1</th>\n",
       "      <td>India</td>\n",
       "      <td>44599466</td>\n",
       "      <td>528716</td>\n",
       "      <td>44597498</td>\n",
       "      <td>528701</td>\n",
       "      <td>1968</td>\n",
       "      <td>15</td>\n",
       "      <td>1.19</td>\n",
       "      <td>Asia</td>\n",
       "    </tr>\n",
       "    <tr>\n",
       "      <th>2</th>\n",
       "      <td>France</td>\n",
       "      <td>35701024</td>\n",
       "      <td>156238</td>\n",
       "      <td>35608285</td>\n",
       "      <td>156152</td>\n",
       "      <td>92739</td>\n",
       "      <td>86</td>\n",
       "      <td>0.44</td>\n",
       "      <td>Europe</td>\n",
       "    </tr>\n",
       "    <tr>\n",
       "      <th>3</th>\n",
       "      <td>Brazil</td>\n",
       "      <td>34684529</td>\n",
       "      <td>686371</td>\n",
       "      <td>34672524</td>\n",
       "      <td>686036</td>\n",
       "      <td>12005</td>\n",
       "      <td>335</td>\n",
       "      <td>1.98</td>\n",
       "      <td>South America</td>\n",
       "    </tr>\n",
       "    <tr>\n",
       "      <th>4</th>\n",
       "      <td>Germany</td>\n",
       "      <td>33386229</td>\n",
       "      <td>150064</td>\n",
       "      <td>33386229</td>\n",
       "      <td>150064</td>\n",
       "      <td>0</td>\n",
       "      <td>0</td>\n",
       "      <td>0.45</td>\n",
       "      <td>Europe</td>\n",
       "    </tr>\n",
       "  </tbody>\n",
       "</table>\n",
       "</div>"
      ],
      "text/plain": [
       "  Country/Region     Cases   Deaths    PCases  PDeaths  Cases (+)  Deaths (+)  \\\n",
       "0             US  96438726  1059866  96397885  1059605      40841         261   \n",
       "1          India  44599466   528716  44597498   528701       1968          15   \n",
       "2         France  35701024   156238  35608285   156152      92739          86   \n",
       "3         Brazil  34684529   686371  34672524   686036      12005         335   \n",
       "4        Germany  33386229   150064  33386229   150064          0           0   \n",
       "\n",
       "   Fatality Rate      Continent  \n",
       "0           1.10  North America  \n",
       "1           1.19           Asia  \n",
       "2           0.44         Europe  \n",
       "3           1.98  South America  \n",
       "4           0.45         Europe  "
      ]
     },
     "execution_count": 13,
     "metadata": {},
     "output_type": "execute_result"
    }
   ],
   "source": [
    "#hide\n",
    "for c in 'Cases, Deaths'.split(', '):\n",
    "    df_table[f'{c} (+)'] = (df_table[c] - df_table[f'P{c}']).clip(0)\n",
    "    #Clip ça veut dire, les chiffres negatif sont interdit\n",
    "df_table['Fatality Rate'] = (100* df_table['Deaths']/ df_table['Cases']).round(2)\n",
    "df_table['Continent'] = df_table['Country/Region'].map(mapping['map.continent'])\n",
    "df_table.head(5)"
   ]
  },
  {
   "cell_type": "code",
   "execution_count": 14,
   "id": "aboriginal-bulgaria",
   "metadata": {
    "execution": {
     "iopub.execute_input": "2022-10-04T12:22:32.202213Z",
     "iopub.status.busy": "2022-10-04T12:22:32.201637Z",
     "iopub.status.idle": "2022-10-04T12:22:32.203964Z",
     "shell.execute_reply": "2022-10-04T12:22:32.204399Z"
    },
    "papermill": {
     "duration": 0.038427,
     "end_time": "2022-10-04T12:22:32.204516",
     "exception": false,
     "start_time": "2022-10-04T12:22:32.166089",
     "status": "completed"
    },
    "tags": []
   },
   "outputs": [],
   "source": [
    "#hide\n",
    "#delete problematic countries from table\n",
    "df_table = df_table[~df_table['Country/Region'].isin(['Cape Verde', 'Cruise Ship', 'Kosovo'])]"
   ]
  },
  {
   "cell_type": "code",
   "execution_count": 15,
   "id": "fantastic-effect",
   "metadata": {
    "execution": {
     "iopub.execute_input": "2022-10-04T12:22:32.273721Z",
     "iopub.status.busy": "2022-10-04T12:22:32.273154Z",
     "iopub.status.idle": "2022-10-04T12:22:32.290895Z",
     "shell.execute_reply": "2022-10-04T12:22:32.290420Z"
    },
    "papermill": {
     "duration": 0.055766,
     "end_time": "2022-10-04T12:22:32.291005",
     "exception": false,
     "start_time": "2022-10-04T12:22:32.235239",
     "status": "completed"
    },
    "tags": []
   },
   "outputs": [
    {
     "data": {
      "text/html": [
       "<div>\n",
       "<style scoped>\n",
       "    .dataframe tbody tr th:only-of-type {\n",
       "        vertical-align: middle;\n",
       "    }\n",
       "\n",
       "    .dataframe tbody tr th {\n",
       "        vertical-align: top;\n",
       "    }\n",
       "\n",
       "    .dataframe thead th {\n",
       "        text-align: right;\n",
       "    }\n",
       "</style>\n",
       "<table border=\"1\" class=\"dataframe\">\n",
       "  <thead>\n",
       "    <tr style=\"text-align: right;\">\n",
       "      <th></th>\n",
       "      <th>Country/Region</th>\n",
       "      <th>Cases</th>\n",
       "      <th>Deaths</th>\n",
       "      <th>PCases</th>\n",
       "      <th>PDeaths</th>\n",
       "      <th>Cases (+)</th>\n",
       "      <th>Deaths (+)</th>\n",
       "      <th>Fatality Rate</th>\n",
       "      <th>Continent</th>\n",
       "    </tr>\n",
       "  </thead>\n",
       "  <tbody>\n",
       "    <tr>\n",
       "      <th>0</th>\n",
       "      <td>US</td>\n",
       "      <td>96438726</td>\n",
       "      <td>1059866</td>\n",
       "      <td>96397885</td>\n",
       "      <td>1059605</td>\n",
       "      <td>40841</td>\n",
       "      <td>261</td>\n",
       "      <td>1.1</td>\n",
       "      <td>North America</td>\n",
       "    </tr>\n",
       "    <tr>\n",
       "      <th>1</th>\n",
       "      <td>India</td>\n",
       "      <td>44599466</td>\n",
       "      <td>528716</td>\n",
       "      <td>44597498</td>\n",
       "      <td>528701</td>\n",
       "      <td>1968</td>\n",
       "      <td>15</td>\n",
       "      <td>1.2</td>\n",
       "      <td>Asia</td>\n",
       "    </tr>\n",
       "    <tr>\n",
       "      <th>2</th>\n",
       "      <td>France</td>\n",
       "      <td>35701024</td>\n",
       "      <td>156238</td>\n",
       "      <td>35608285</td>\n",
       "      <td>156152</td>\n",
       "      <td>92739</td>\n",
       "      <td>86</td>\n",
       "      <td>0.4</td>\n",
       "      <td>Europe</td>\n",
       "    </tr>\n",
       "    <tr>\n",
       "      <th>3</th>\n",
       "      <td>Brazil</td>\n",
       "      <td>34684529</td>\n",
       "      <td>686371</td>\n",
       "      <td>34672524</td>\n",
       "      <td>686036</td>\n",
       "      <td>12005</td>\n",
       "      <td>335</td>\n",
       "      <td>2.0</td>\n",
       "      <td>South America</td>\n",
       "    </tr>\n",
       "    <tr>\n",
       "      <th>4</th>\n",
       "      <td>Germany</td>\n",
       "      <td>33386229</td>\n",
       "      <td>150064</td>\n",
       "      <td>33386229</td>\n",
       "      <td>150064</td>\n",
       "      <td>0</td>\n",
       "      <td>0</td>\n",
       "      <td>0.4</td>\n",
       "      <td>Europe</td>\n",
       "    </tr>\n",
       "  </tbody>\n",
       "</table>\n",
       "</div>"
      ],
      "text/plain": [
       "  Country/Region     Cases   Deaths    PCases  PDeaths  Cases (+)  Deaths (+)  \\\n",
       "0             US  96438726  1059866  96397885  1059605      40841         261   \n",
       "1          India  44599466   528716  44597498   528701       1968          15   \n",
       "2         France  35701024   156238  35608285   156152      92739          86   \n",
       "3         Brazil  34684529   686371  34672524   686036      12005         335   \n",
       "4        Germany  33386229   150064  33386229   150064          0           0   \n",
       "\n",
       "   Fatality Rate      Continent  \n",
       "0            1.1  North America  \n",
       "1            1.2           Asia  \n",
       "2            0.4         Europe  \n",
       "3            2.0  South America  \n",
       "4            0.4         Europe  "
      ]
     },
     "execution_count": 15,
     "metadata": {},
     "output_type": "execute_result"
    }
   ],
   "source": [
    "#hide\n",
    "df_table = (pd.DataFrame(dict(Cases=dfc_cases, Deaths=dfc_deaths, PCases=dfp_cases, PDeaths=dfp_deaths))\n",
    "             .sort_values(by=['Cases', 'Deaths'], ascending=[False, False])\n",
    "             .reset_index())\n",
    "df_table.rename(columns={'index': 'Country/Region'}, inplace=True)\n",
    "for c in 'Cases, Deaths'.split(', '):\n",
    "    df_table[f'{c} (+)'] = (df_table[c] - df_table[f'P{c}']).clip(0)  # DATA BUG\n",
    "df_table['Fatality Rate'] = (100 * df_table['Deaths'] / df_table['Cases']).round(1)\n",
    "df_table['Continent'] = df_table['Country/Region'].map(mapping['map.continent'])\n",
    "df_table.head(5)"
   ]
  },
  {
   "cell_type": "code",
   "execution_count": 16,
   "id": "fewer-occasion",
   "metadata": {
    "execution": {
     "iopub.execute_input": "2022-10-04T12:22:32.359317Z",
     "iopub.status.busy": "2022-10-04T12:22:32.358746Z",
     "iopub.status.idle": "2022-10-04T12:22:32.361541Z",
     "shell.execute_reply": "2022-10-04T12:22:32.361090Z"
    },
    "papermill": {
     "duration": 0.039089,
     "end_time": "2022-10-04T12:22:32.361644",
     "exception": false,
     "start_time": "2022-10-04T12:22:32.322555",
     "status": "completed"
    },
    "tags": []
   },
   "outputs": [],
   "source": [
    "#hide\n",
    "#delete problematic countries from table\n",
    "df_table = df_table[~df_table['Country/Region'].isin(['Cape Verde', 'Cruise Ship', 'Kosovo'])]"
   ]
  },
  {
   "cell_type": "code",
   "execution_count": 17,
   "id": "related-center",
   "metadata": {
    "execution": {
     "iopub.execute_input": "2022-10-04T12:22:32.441449Z",
     "iopub.status.busy": "2022-10-04T12:22:32.440866Z",
     "iopub.status.idle": "2022-10-04T12:22:32.443294Z",
     "shell.execute_reply": "2022-10-04T12:22:32.442759Z"
    },
    "papermill": {
     "duration": 0.050606,
     "end_time": "2022-10-04T12:22:32.443394",
     "exception": false,
     "start_time": "2022-10-04T12:22:32.392788",
     "status": "completed"
    },
    "tags": []
   },
   "outputs": [],
   "source": [
    "#hide\n",
    "metrics = [df_table.columns[index] for index in [1,2,5,6]]\n",
    "# s_china = df_table[df_table['Country/Region'].eq('China')][metrics].sum().add_prefix('China ')\n",
    "s_us = df_table[df_table['Country/Region'].eq('US')][metrics].sum().add_prefix('US ')\n",
    "s_eu = df_table[df_table['Continent'].eq('Europe')][metrics].sum().add_prefix('EU ')\n",
    "s_ind = df_table[df_table['Country/Region'].eq('India')][metrics].sum().add_prefix('India ')\n",
    "summary = {'updated': pd.to_datetime(dt_today), 'since': pd.to_datetime(dt_yday)}\n",
    "summary = {'updated': pd.to_datetime(dt_today), 'since': pd.to_datetime(dt_yday)}\n",
    "summary = {**summary, **df_table[metrics].sum(), **s_ind, **s_us, **s_eu}"
   ]
  },
  {
   "cell_type": "code",
   "execution_count": 18,
   "id": "engaging-syndrome",
   "metadata": {
    "execution": {
     "iopub.execute_input": "2022-10-04T12:22:32.510965Z",
     "iopub.status.busy": "2022-10-04T12:22:32.510378Z",
     "iopub.status.idle": "2022-10-04T12:22:32.529841Z",
     "shell.execute_reply": "2022-10-04T12:22:32.529376Z"
    },
    "papermill": {
     "duration": 0.055296,
     "end_time": "2022-10-04T12:22:32.529948",
     "exception": false,
     "start_time": "2022-10-04T12:22:32.474652",
     "status": "completed"
    },
    "tags": []
   },
   "outputs": [],
   "source": [
    "#hide\n",
    "dft_ct_new_cases = dft_cases.groupby(COL_REGION)[dt_cols].sum().diff(axis=1).fillna(0).astype(int)"
   ]
  },
  {
   "cell_type": "code",
   "execution_count": 19,
   "id": "neutral-assignment",
   "metadata": {
    "execution": {
     "iopub.execute_input": "2022-10-04T12:22:32.598818Z",
     "iopub.status.busy": "2022-10-04T12:22:32.598081Z",
     "iopub.status.idle": "2022-10-04T12:22:32.600032Z",
     "shell.execute_reply": "2022-10-04T12:22:32.600448Z"
    },
    "papermill": {
     "duration": 0.039416,
     "end_time": "2022-10-04T12:22:32.600576",
     "exception": false,
     "start_time": "2022-10-04T12:22:32.561160",
     "status": "completed"
    },
    "tags": []
   },
   "outputs": [],
   "source": [
    "#hide\n",
    "everydaycases = dft_ct_new_cases.cumsum(axis=1)"
   ]
  },
  {
   "cell_type": "code",
   "execution_count": 20,
   "id": "parliamentary-calgary",
   "metadata": {
    "execution": {
     "iopub.execute_input": "2022-10-04T12:22:32.667449Z",
     "iopub.status.busy": "2022-10-04T12:22:32.666868Z",
     "iopub.status.idle": "2022-10-04T12:22:33.222216Z",
     "shell.execute_reply": "2022-10-04T12:22:33.221691Z"
    },
    "papermill": {
     "duration": 0.590302,
     "end_time": "2022-10-04T12:22:33.222332",
     "exception": false,
     "start_time": "2022-10-04T12:22:32.632030",
     "status": "completed"
    },
    "tags": []
   },
   "outputs": [],
   "source": [
    "#hide\n",
    "import pandas as pd\n",
    "import matplotlib.pyplot as plt\n",
    "import matplotlib.ticker as ticker\n",
    "import matplotlib.animation as animation\n",
    "from IPython.display import HTML"
   ]
  },
  {
   "cell_type": "code",
   "execution_count": 21,
   "id": "lasting-extraction",
   "metadata": {
    "execution": {
     "iopub.execute_input": "2022-10-04T12:22:33.291583Z",
     "iopub.status.busy": "2022-10-04T12:22:33.290997Z",
     "iopub.status.idle": "2022-10-04T12:22:33.300188Z",
     "shell.execute_reply": "2022-10-04T12:22:33.299049Z"
    },
    "papermill": {
     "duration": 0.046768,
     "end_time": "2022-10-04T12:22:33.300307",
     "exception": false,
     "start_time": "2022-10-04T12:22:33.253539",
     "status": "completed"
    },
    "tags": []
   },
   "outputs": [],
   "source": [
    "#hide\n",
    "t = everydaycases.stack()"
   ]
  },
  {
   "cell_type": "code",
   "execution_count": 22,
   "id": "premier-sleeve",
   "metadata": {
    "execution": {
     "iopub.execute_input": "2022-10-04T12:22:33.367364Z",
     "iopub.status.busy": "2022-10-04T12:22:33.366793Z",
     "iopub.status.idle": "2022-10-04T12:22:33.378549Z",
     "shell.execute_reply": "2022-10-04T12:22:33.377964Z"
    },
    "papermill": {
     "duration": 0.046895,
     "end_time": "2022-10-04T12:22:33.378657",
     "exception": false,
     "start_time": "2022-10-04T12:22:33.331762",
     "status": "completed"
    },
    "tags": []
   },
   "outputs": [],
   "source": [
    "#hide\n",
    "g = t.reset_index(['Country/Region'])"
   ]
  },
  {
   "cell_type": "code",
   "execution_count": 23,
   "id": "distributed-pittsburgh",
   "metadata": {
    "execution": {
     "iopub.execute_input": "2022-10-04T12:22:33.445446Z",
     "iopub.status.busy": "2022-10-04T12:22:33.444865Z",
     "iopub.status.idle": "2022-10-04T12:22:33.446948Z",
     "shell.execute_reply": "2022-10-04T12:22:33.447377Z"
    },
    "papermill": {
     "duration": 0.037693,
     "end_time": "2022-10-04T12:22:33.447499",
     "exception": false,
     "start_time": "2022-10-04T12:22:33.409806",
     "status": "completed"
    },
    "tags": []
   },
   "outputs": [],
   "source": [
    "#hide\n",
    "g.index.name = 'date'"
   ]
  },
  {
   "cell_type": "code",
   "execution_count": 24,
   "id": "naked-donor",
   "metadata": {
    "execution": {
     "iopub.execute_input": "2022-10-04T12:22:33.513854Z",
     "iopub.status.busy": "2022-10-04T12:22:33.513234Z",
     "iopub.status.idle": "2022-10-04T12:22:33.517531Z",
     "shell.execute_reply": "2022-10-04T12:22:33.517082Z"
    },
    "papermill": {
     "duration": 0.038803,
     "end_time": "2022-10-04T12:22:33.517641",
     "exception": false,
     "start_time": "2022-10-04T12:22:33.478838",
     "status": "completed"
    },
    "tags": []
   },
   "outputs": [],
   "source": [
    "# #hide\n",
    "# g = g.reset_index(['date'])"
   ]
  },
  {
   "cell_type": "code",
   "execution_count": 25,
   "id": "incomplete-mustang",
   "metadata": {
    "execution": {
     "iopub.execute_input": "2022-10-04T12:22:33.583846Z",
     "iopub.status.busy": "2022-10-04T12:22:33.583275Z",
     "iopub.status.idle": "2022-10-04T12:22:33.585517Z",
     "shell.execute_reply": "2022-10-04T12:22:33.585066Z"
    },
    "papermill": {
     "duration": 0.036818,
     "end_time": "2022-10-04T12:22:33.585618",
     "exception": false,
     "start_time": "2022-10-04T12:22:33.548800",
     "status": "completed"
    },
    "tags": []
   },
   "outputs": [],
   "source": [
    "#hide\n",
    "# g.head()"
   ]
  },
  {
   "cell_type": "code",
   "execution_count": 26,
   "id": "specific-kruger",
   "metadata": {
    "execution": {
     "iopub.execute_input": "2022-10-04T12:22:33.651722Z",
     "iopub.status.busy": "2022-10-04T12:22:33.651092Z",
     "iopub.status.idle": "2022-10-04T12:22:33.653561Z",
     "shell.execute_reply": "2022-10-04T12:22:33.653029Z"
    },
    "papermill": {
     "duration": 0.036806,
     "end_time": "2022-10-04T12:22:33.653662",
     "exception": false,
     "start_time": "2022-10-04T12:22:33.616856",
     "status": "completed"
    },
    "tags": []
   },
   "outputs": [],
   "source": [
    "#hide\n",
    "# g.columns = ['date','country','cases']"
   ]
  },
  {
   "cell_type": "code",
   "execution_count": 27,
   "id": "tender-conversion",
   "metadata": {
    "execution": {
     "iopub.execute_input": "2022-10-04T12:22:33.719671Z",
     "iopub.status.busy": "2022-10-04T12:22:33.719085Z",
     "iopub.status.idle": "2022-10-04T12:22:33.722643Z",
     "shell.execute_reply": "2022-10-04T12:22:33.723070Z"
    },
    "papermill": {
     "duration": 0.038516,
     "end_time": "2022-10-04T12:22:33.723200",
     "exception": false,
     "start_time": "2022-10-04T12:22:33.684684",
     "status": "completed"
    },
    "tags": []
   },
   "outputs": [],
   "source": [
    "#hide\n",
    "# g['continent'] = g.country"
   ]
  },
  {
   "cell_type": "code",
   "execution_count": 28,
   "id": "substantial-wilderness",
   "metadata": {
    "execution": {
     "iopub.execute_input": "2022-10-04T12:22:33.789572Z",
     "iopub.status.busy": "2022-10-04T12:22:33.788972Z",
     "iopub.status.idle": "2022-10-04T12:22:33.791259Z",
     "shell.execute_reply": "2022-10-04T12:22:33.790823Z"
    },
    "papermill": {
     "duration": 0.036669,
     "end_time": "2022-10-04T12:22:33.791357",
     "exception": false,
     "start_time": "2022-10-04T12:22:33.754688",
     "status": "completed"
    },
    "tags": []
   },
   "outputs": [],
   "source": [
    "#hide\n",
    "# cols = list(g.columns.values)"
   ]
  },
  {
   "cell_type": "code",
   "execution_count": 29,
   "id": "solved-farming",
   "metadata": {
    "execution": {
     "iopub.execute_input": "2022-10-04T12:22:33.857308Z",
     "iopub.status.busy": "2022-10-04T12:22:33.856745Z",
     "iopub.status.idle": "2022-10-04T12:22:33.858959Z",
     "shell.execute_reply": "2022-10-04T12:22:33.858427Z"
    },
    "papermill": {
     "duration": 0.036483,
     "end_time": "2022-10-04T12:22:33.859061",
     "exception": false,
     "start_time": "2022-10-04T12:22:33.822578",
     "status": "completed"
    },
    "tags": []
   },
   "outputs": [],
   "source": [
    "#hide\n",
    "# cols.insert(0, cols.pop())"
   ]
  },
  {
   "cell_type": "code",
   "execution_count": 30,
   "id": "executed-adoption",
   "metadata": {
    "execution": {
     "iopub.execute_input": "2022-10-04T12:22:33.925110Z",
     "iopub.status.busy": "2022-10-04T12:22:33.924542Z",
     "iopub.status.idle": "2022-10-04T12:22:33.926840Z",
     "shell.execute_reply": "2022-10-04T12:22:33.926391Z"
    },
    "papermill": {
     "duration": 0.036679,
     "end_time": "2022-10-04T12:22:33.926944",
     "exception": false,
     "start_time": "2022-10-04T12:22:33.890265",
     "status": "completed"
    },
    "tags": []
   },
   "outputs": [],
   "source": [
    "#hide\n",
    "# g = g[cols]"
   ]
  },
  {
   "cell_type": "code",
   "execution_count": 31,
   "id": "subject-dublin",
   "metadata": {
    "execution": {
     "iopub.execute_input": "2022-10-04T12:22:33.992834Z",
     "iopub.status.busy": "2022-10-04T12:22:33.992273Z",
     "iopub.status.idle": "2022-10-04T12:22:33.994732Z",
     "shell.execute_reply": "2022-10-04T12:22:33.994288Z"
    },
    "papermill": {
     "duration": 0.036705,
     "end_time": "2022-10-04T12:22:33.994831",
     "exception": false,
     "start_time": "2022-10-04T12:22:33.958126",
     "status": "completed"
    },
    "tags": []
   },
   "outputs": [],
   "source": [
    "#hide\n",
    "# g['continent'] = g['continent'].map(mapping['map.continent'])"
   ]
  },
  {
   "cell_type": "code",
   "execution_count": 32,
   "id": "freelance-scout",
   "metadata": {
    "execution": {
     "iopub.execute_input": "2022-10-04T12:22:34.060973Z",
     "iopub.status.busy": "2022-10-04T12:22:34.060393Z",
     "iopub.status.idle": "2022-10-04T12:22:34.062453Z",
     "shell.execute_reply": "2022-10-04T12:22:34.062858Z"
    },
    "papermill": {
     "duration": 0.036893,
     "end_time": "2022-10-04T12:22:34.062978",
     "exception": false,
     "start_time": "2022-10-04T12:22:34.026085",
     "status": "completed"
    },
    "tags": []
   },
   "outputs": [],
   "source": [
    "#hide\n",
    "# g.head()"
   ]
  },
  {
   "cell_type": "code",
   "execution_count": 33,
   "id": "limited-engine",
   "metadata": {
    "execution": {
     "iopub.execute_input": "2022-10-04T12:22:34.128980Z",
     "iopub.status.busy": "2022-10-04T12:22:34.128373Z",
     "iopub.status.idle": "2022-10-04T12:22:34.130637Z",
     "shell.execute_reply": "2022-10-04T12:22:34.130077Z"
    },
    "papermill": {
     "duration": 0.036737,
     "end_time": "2022-10-04T12:22:34.130742",
     "exception": false,
     "start_time": "2022-10-04T12:22:34.094005",
     "status": "completed"
    },
    "tags": []
   },
   "outputs": [],
   "source": [
    "# hide\n",
    "# g['date'] = g['date'].astype('datetime64[ns]')"
   ]
  },
  {
   "cell_type": "code",
   "execution_count": 34,
   "id": "sophisticated-supervisor",
   "metadata": {
    "execution": {
     "iopub.execute_input": "2022-10-04T12:22:34.197349Z",
     "iopub.status.busy": "2022-10-04T12:22:34.196773Z",
     "iopub.status.idle": "2022-10-04T12:22:34.199220Z",
     "shell.execute_reply": "2022-10-04T12:22:34.198692Z"
    },
    "papermill": {
     "duration": 0.03709,
     "end_time": "2022-10-04T12:22:34.199325",
     "exception": false,
     "start_time": "2022-10-04T12:22:34.162235",
     "status": "completed"
    },
    "tags": []
   },
   "outputs": [],
   "source": [
    "#hide\n",
    "# g['date'] = g.date.dt.dayofyear"
   ]
  },
  {
   "cell_type": "code",
   "execution_count": 35,
   "id": "inside-dubai",
   "metadata": {
    "execution": {
     "iopub.execute_input": "2022-10-04T12:22:34.265187Z",
     "iopub.status.busy": "2022-10-04T12:22:34.264613Z",
     "iopub.status.idle": "2022-10-04T12:22:34.267112Z",
     "shell.execute_reply": "2022-10-04T12:22:34.266666Z"
    },
    "papermill": {
     "duration": 0.036724,
     "end_time": "2022-10-04T12:22:34.267215",
     "exception": false,
     "start_time": "2022-10-04T12:22:34.230491",
     "status": "completed"
    },
    "tags": []
   },
   "outputs": [],
   "source": [
    "#hide\n",
    "# g = g.rename(columns= {'continent':'group','country':'name','cases':'value'})"
   ]
  },
  {
   "cell_type": "code",
   "execution_count": 36,
   "id": "fleet-motorcycle",
   "metadata": {
    "execution": {
     "iopub.execute_input": "2022-10-04T12:22:34.333457Z",
     "iopub.status.busy": "2022-10-04T12:22:34.332882Z",
     "iopub.status.idle": "2022-10-04T12:22:34.335277Z",
     "shell.execute_reply": "2022-10-04T12:22:34.334746Z"
    },
    "papermill": {
     "duration": 0.036949,
     "end_time": "2022-10-04T12:22:34.335378",
     "exception": false,
     "start_time": "2022-10-04T12:22:34.298429",
     "status": "completed"
    },
    "tags": []
   },
   "outputs": [],
   "source": [
    "#hide\n",
    "# cols = ['name','group','day','value']"
   ]
  },
  {
   "cell_type": "code",
   "execution_count": 37,
   "id": "continued-sleeping",
   "metadata": {
    "execution": {
     "iopub.execute_input": "2022-10-04T12:22:34.401296Z",
     "iopub.status.busy": "2022-10-04T12:22:34.400714Z",
     "iopub.status.idle": "2022-10-04T12:22:34.403362Z",
     "shell.execute_reply": "2022-10-04T12:22:34.402906Z"
    },
    "papermill": {
     "duration": 0.037046,
     "end_time": "2022-10-04T12:22:34.403468",
     "exception": false,
     "start_time": "2022-10-04T12:22:34.366422",
     "status": "completed"
    },
    "tags": []
   },
   "outputs": [],
   "source": [
    "#hide\n",
    "# g.rename(columns= {'date':'day'},inplace = True)"
   ]
  },
  {
   "cell_type": "code",
   "execution_count": 38,
   "id": "major-fight",
   "metadata": {
    "execution": {
     "iopub.execute_input": "2022-10-04T12:22:34.470272Z",
     "iopub.status.busy": "2022-10-04T12:22:34.469662Z",
     "iopub.status.idle": "2022-10-04T12:22:34.472052Z",
     "shell.execute_reply": "2022-10-04T12:22:34.471519Z"
    },
    "papermill": {
     "duration": 0.037467,
     "end_time": "2022-10-04T12:22:34.472152",
     "exception": false,
     "start_time": "2022-10-04T12:22:34.434685",
     "status": "completed"
    },
    "tags": []
   },
   "outputs": [],
   "source": [
    "#hide\n",
    "# g = g[cols]"
   ]
  },
  {
   "cell_type": "code",
   "execution_count": 39,
   "id": "structured-mobile",
   "metadata": {
    "execution": {
     "iopub.execute_input": "2022-10-04T12:22:34.537782Z",
     "iopub.status.busy": "2022-10-04T12:22:34.537209Z",
     "iopub.status.idle": "2022-10-04T12:22:34.539324Z",
     "shell.execute_reply": "2022-10-04T12:22:34.539741Z"
    },
    "papermill": {
     "duration": 0.036707,
     "end_time": "2022-10-04T12:22:34.539866",
     "exception": false,
     "start_time": "2022-10-04T12:22:34.503159",
     "status": "completed"
    },
    "tags": []
   },
   "outputs": [],
   "source": [
    "# #hide\n",
    "# g = g[g.group.notna()]"
   ]
  },
  {
   "cell_type": "code",
   "execution_count": 40,
   "id": "determined-closing",
   "metadata": {
    "execution": {
     "iopub.execute_input": "2022-10-04T12:22:34.607346Z",
     "iopub.status.busy": "2022-10-04T12:22:34.606747Z",
     "iopub.status.idle": "2022-10-04T12:22:34.609260Z",
     "shell.execute_reply": "2022-10-04T12:22:34.608790Z"
    },
    "papermill": {
     "duration": 0.037268,
     "end_time": "2022-10-04T12:22:34.609364",
     "exception": false,
     "start_time": "2022-10-04T12:22:34.572096",
     "status": "completed"
    },
    "tags": []
   },
   "outputs": [],
   "source": [
    "# #hide\n",
    "# colors = dict(zip(\n",
    "#     [\"Oceania\", \"Europe\", \"Asia\", \"South America\", \"Middle East\", \"North America\", \"Africa\"],\n",
    "#     [\"#adb0ff\", \"#ffb3ff\", \"#90d595\", \"#e48381\", \"#aafbff\", \"#f7bb5f\", \"#eafb50\"]\n",
    "# ))\n",
    "# group_lk = g.set_index('name')['group'].to_dict()"
   ]
  },
  {
   "cell_type": "code",
   "execution_count": null,
   "id": "gross-drinking",
   "metadata": {
    "papermill": {
     "duration": 0.031079,
     "end_time": "2022-10-04T12:22:34.671701",
     "exception": false,
     "start_time": "2022-10-04T12:22:34.640622",
     "status": "completed"
    },
    "tags": []
   },
   "outputs": [],
   "source": []
  },
  {
   "cell_type": "code",
   "execution_count": 41,
   "id": "subject-macintosh",
   "metadata": {
    "execution": {
     "iopub.execute_input": "2022-10-04T12:22:34.738552Z",
     "iopub.status.busy": "2022-10-04T12:22:34.737915Z",
     "iopub.status.idle": "2022-10-04T12:22:34.741368Z",
     "shell.execute_reply": "2022-10-04T12:22:34.740922Z"
    },
    "papermill": {
     "duration": 0.038466,
     "end_time": "2022-10-04T12:22:34.741472",
     "exception": false,
     "start_time": "2022-10-04T12:22:34.703006",
     "status": "completed"
    },
    "tags": []
   },
   "outputs": [],
   "source": [
    "# #hide\n",
    "# fig, ax = plt.subplots(figsize=(15, 8))\n",
    "\n",
    "# def draw_barchart(current_day):\n",
    "#     dff = g[g['day'].eq(current_day)].sort_values(by='value', ascending=True).tail(10)\n",
    "#     ax.clear()\n",
    "#     ax.barh(dff['name'], dff['value'], color=[colors[group_lk[x]] for x in dff['name']])\n",
    "#     dx = dff['value'].max() / 200\n",
    "    \n",
    "#     for i, (value, name) in enumerate(zip(dff['value'], dff['name'])):\n",
    "#         ax.text(value-dx, i,     name,           size=14, weight=600, ha='right', va='bottom')\n",
    "#         ax.text(value-dx, i-.25, group_lk[name], size=10, color='#444444', ha='right', va='baseline')\n",
    "#         ax.text(value+dx, i,     f'{value:,.0f}',  size=14, ha='left',  va='center')\n",
    "#     ax.text(1, 0.4, current_day, transform=ax.transAxes, color='#777777', size=46, ha='right', weight=800)\n",
    "#     ax.text(0, 1.06, 'Population (thousands)', transform=ax.transAxes, size=12, color='#777777')\n",
    "#     ax.xaxis.set_major_formatter(ticker.StrMethodFormatter('{x:,.0f}'))\n",
    "#     ax.xaxis.set_ticks_position('top')\n",
    "#     ax.tick_params(axis='x', colors='#777777', labelsize=12)\n",
    "#     ax.set_yticks([])\n",
    "#     ax.margins(0, 0.01)\n",
    "#     ax.grid(which='major', axis='x', linestyle='-')\n",
    "#     ax.set_axisbelow(True)\n",
    "    \n",
    "#     ax.text(0, 1.15, 'Coronavirus',\n",
    "#             transform=ax.transAxes, size=24, weight=600, ha='left', va='top')\n",
    "# #     ax.text(1, 0, 'by @pratapvardhan; credit @jburnmurdoch', transform=ax.transAxes, color='#777777', ha='right',\n",
    "# #             bbox=dict(facecolor='white', alpha=0.8, edgecolor='white'))\n",
    "#     plt.box(False)"
   ]
  },
  {
   "cell_type": "code",
   "execution_count": 42,
   "id": "sexual-wages",
   "metadata": {
    "execution": {
     "iopub.execute_input": "2022-10-04T12:22:34.807840Z",
     "iopub.status.busy": "2022-10-04T12:22:34.807266Z",
     "iopub.status.idle": "2022-10-04T12:22:34.809784Z",
     "shell.execute_reply": "2022-10-04T12:22:34.809338Z"
    },
    "papermill": {
     "duration": 0.037096,
     "end_time": "2022-10-04T12:22:34.809884",
     "exception": false,
     "start_time": "2022-10-04T12:22:34.772788",
     "status": "completed"
    },
    "tags": []
   },
   "outputs": [],
   "source": [
    "# #hide_input\n",
    "# fig, ax = plt.subplots(figsize=(15, 8))\n",
    "# animator = animation.FuncAnimation(fig, draw_barchart, frames=range(g.day.values.min(), g.day.values.max()))\n",
    "# HTML(animator.to_jshtml())\n",
    "# # or use animator.to_html5_video() or animator.save() "
   ]
  },
  {
   "cell_type": "code",
   "execution_count": null,
   "id": "australian-container",
   "metadata": {
    "papermill": {
     "duration": 0.03137,
     "end_time": "2022-10-04T12:22:34.872600",
     "exception": false,
     "start_time": "2022-10-04T12:22:34.841230",
     "status": "completed"
    },
    "tags": []
   },
   "outputs": [],
   "source": []
  },
  {
   "cell_type": "code",
   "execution_count": null,
   "id": "mediterranean-pontiac",
   "metadata": {
    "papermill": {
     "duration": 0.030957,
     "end_time": "2022-10-04T12:22:34.934645",
     "exception": false,
     "start_time": "2022-10-04T12:22:34.903688",
     "status": "completed"
    },
    "tags": []
   },
   "outputs": [],
   "source": []
  },
  {
   "cell_type": "code",
   "execution_count": null,
   "id": "aging-legislature",
   "metadata": {
    "papermill": {
     "duration": 0.031323,
     "end_time": "2022-10-04T12:22:34.997247",
     "exception": false,
     "start_time": "2022-10-04T12:22:34.965924",
     "status": "completed"
    },
    "tags": []
   },
   "outputs": [],
   "source": []
  }
 ],
 "metadata": {
  "kernelspec": {
   "display_name": "Python 3",
   "language": "python",
   "name": "python3"
  },
  "language_info": {
   "codemirror_mode": {
    "name": "ipython",
    "version": 3
   },
   "file_extension": ".py",
   "mimetype": "text/x-python",
   "name": "python",
   "nbconvert_exporter": "python",
   "pygments_lexer": "ipython3",
   "version": "3.6.15"
  },
  "papermill": {
   "duration": 6.205491,
   "end_time": "2022-10-04T12:22:35.345058",
   "environment_variables": {},
   "exception": null,
   "input_path": "2020-03-21-covid19exp.ipynb",
   "output_path": "2020-03-21-covid19exp.ipynb",
   "parameters": {},
   "start_time": "2022-10-04T12:22:29.139567",
   "version": "2.0.0"
  }
 },
 "nbformat": 4,
 "nbformat_minor": 5
}