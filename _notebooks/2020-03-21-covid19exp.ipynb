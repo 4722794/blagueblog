{
 "cells": [
  {
   "cell_type": "markdown",
   "id": "muslim-click",
   "metadata": {
    "papermill": {
     "duration": 0.046014,
     "end_time": "2022-09-04T00:48:35.531320",
     "exception": false,
     "start_time": "2022-09-04T00:48:35.485306",
     "status": "completed"
    },
    "tags": []
   },
   "source": [
    "# COVID-19 Case Race\n",
    "> A race chart to see rising cases around the world\n",
    "\n",
    "- author: Hargun Oberoi\n",
    "- image: images/covid-overview.png\n",
    "- hide: false\n",
    "- badges: false"
   ]
  },
  {
   "cell_type": "code",
   "execution_count": 1,
   "id": "proof-material",
   "metadata": {
    "execution": {
     "iopub.execute_input": "2022-09-04T00:48:35.623397Z",
     "iopub.status.busy": "2022-09-04T00:48:35.622621Z",
     "iopub.status.idle": "2022-09-04T00:48:36.020129Z",
     "shell.execute_reply": "2022-09-04T00:48:36.019113Z"
    },
    "papermill": {
     "duration": 0.44799,
     "end_time": "2022-09-04T00:48:36.020301",
     "exception": false,
     "start_time": "2022-09-04T00:48:35.572311",
     "status": "completed"
    },
    "tags": []
   },
   "outputs": [],
   "source": [
    "#hide\n",
    "import numpy as np\n",
    "import pandas as pd\n",
    "from jinja2 import Template\n",
    "from IPython.display import HTML"
   ]
  },
  {
   "cell_type": "code",
   "execution_count": 2,
   "id": "developed-terminology",
   "metadata": {
    "execution": {
     "iopub.execute_input": "2022-09-04T00:48:36.108836Z",
     "iopub.status.busy": "2022-09-04T00:48:36.108079Z",
     "iopub.status.idle": "2022-09-04T00:48:36.112889Z",
     "shell.execute_reply": "2022-09-04T00:48:36.113438Z"
    },
    "papermill": {
     "duration": 0.051842,
     "end_time": "2022-09-04T00:48:36.113603",
     "exception": false,
     "start_time": "2022-09-04T00:48:36.061761",
     "status": "completed"
    },
    "tags": []
   },
   "outputs": [],
   "source": [
    "#hide\n",
    "\n",
    "# FETCH\n",
    "base_url = 'https://raw.githubusercontent.com/pratapvardhan/notebooks/master/covid19/'\n",
    "paths = {\n",
    "    'mapping': base_url + 'mapping_countries.csv',\n",
    "    'overview': base_url + 'overview.tpl'\n",
    "}"
   ]
  },
  {
   "cell_type": "code",
   "execution_count": 3,
   "id": "dynamic-saver",
   "metadata": {
    "execution": {
     "iopub.execute_input": "2022-09-04T00:48:36.206563Z",
     "iopub.status.busy": "2022-09-04T00:48:36.205734Z",
     "iopub.status.idle": "2022-09-04T00:48:36.210151Z",
     "shell.execute_reply": "2022-09-04T00:48:36.209420Z"
    },
    "papermill": {
     "duration": 0.057828,
     "end_time": "2022-09-04T00:48:36.210301",
     "exception": false,
     "start_time": "2022-09-04T00:48:36.152473",
     "status": "completed"
    },
    "tags": []
   },
   "outputs": [
    {
     "data": {
      "text/plain": [
       "'https://raw.githubusercontent.com/pratapvardhan/notebooks/master/covid19/mapping_countries.csv'"
      ]
     },
     "execution_count": 3,
     "metadata": {},
     "output_type": "execute_result"
    }
   ],
   "source": [
    "#hide\n",
    "paths['mapping']"
   ]
  },
  {
   "cell_type": "code",
   "execution_count": 4,
   "id": "urban-software",
   "metadata": {
    "execution": {
     "iopub.execute_input": "2022-09-04T00:48:36.297478Z",
     "iopub.status.busy": "2022-09-04T00:48:36.296710Z",
     "iopub.status.idle": "2022-09-04T00:48:36.299874Z",
     "shell.execute_reply": "2022-09-04T00:48:36.299223Z"
    },
    "papermill": {
     "duration": 0.050327,
     "end_time": "2022-09-04T00:48:36.300017",
     "exception": false,
     "start_time": "2022-09-04T00:48:36.249690",
     "status": "completed"
    },
    "tags": []
   },
   "outputs": [],
   "source": [
    "#hide\n",
    "def get_mappings(url):\n",
    "    df = pd.read_csv(url)\n",
    "    return {\n",
    "        'df': df,\n",
    "        'replace.country': dict(df.dropna(subset=['Name']).set_index('Country')['Name']),\n",
    "        'map.continent': dict(df.set_index('Name')['Continent'])\n",
    "    }"
   ]
  },
  {
   "cell_type": "code",
   "execution_count": 5,
   "id": "intimate-machinery",
   "metadata": {
    "execution": {
     "iopub.execute_input": "2022-09-04T00:48:36.386159Z",
     "iopub.status.busy": "2022-09-04T00:48:36.385196Z",
     "iopub.status.idle": "2022-09-04T00:48:36.447214Z",
     "shell.execute_reply": "2022-09-04T00:48:36.447791Z"
    },
    "papermill": {
     "duration": 0.1074,
     "end_time": "2022-09-04T00:48:36.447977",
     "exception": false,
     "start_time": "2022-09-04T00:48:36.340577",
     "status": "completed"
    },
    "tags": []
   },
   "outputs": [],
   "source": [
    "#hide\n",
    "mapping = get_mappings(paths['mapping'])"
   ]
  },
  {
   "cell_type": "code",
   "execution_count": 6,
   "id": "certified-tactics",
   "metadata": {
    "execution": {
     "iopub.execute_input": "2022-09-04T00:48:36.535363Z",
     "iopub.status.busy": "2022-09-04T00:48:36.534585Z",
     "iopub.status.idle": "2022-09-04T00:48:36.538490Z",
     "shell.execute_reply": "2022-09-04T00:48:36.537818Z"
    },
    "papermill": {
     "duration": 0.048889,
     "end_time": "2022-09-04T00:48:36.538633",
     "exception": false,
     "start_time": "2022-09-04T00:48:36.489744",
     "status": "completed"
    },
    "tags": []
   },
   "outputs": [],
   "source": [
    "#hide\n",
    "def get_template(path):\n",
    "    from urllib.parse import urlparse\n",
    "    if bool(urlparse(path).netloc):\n",
    "        from urllib.request import urlopen\n",
    "        return urlopen(path).read().decode('utf8')\n",
    "    return open(path).read()"
   ]
  },
  {
   "cell_type": "code",
   "execution_count": 7,
   "id": "realistic-blast",
   "metadata": {
    "execution": {
     "iopub.execute_input": "2022-09-04T00:48:36.626441Z",
     "iopub.status.busy": "2022-09-04T00:48:36.625632Z",
     "iopub.status.idle": "2022-09-04T00:48:36.629377Z",
     "shell.execute_reply": "2022-09-04T00:48:36.628623Z"
    },
    "papermill": {
     "duration": 0.048492,
     "end_time": "2022-09-04T00:48:36.629517",
     "exception": false,
     "start_time": "2022-09-04T00:48:36.581025",
     "status": "completed"
    },
    "tags": []
   },
   "outputs": [],
   "source": [
    "#hide\n",
    "def get_frame(name):\n",
    "    url = (\n",
    "        'https://raw.githubusercontent.com/CSSEGISandData/COVID-19/master/csse_covid_19_data/'\n",
    "        f'csse_covid_19_time_series/time_series_covid19_{name}_global.csv')\n",
    "    df = pd.read_csv(url)\n",
    "    # rename countries\n",
    "    df['Country/Region'] = df['Country/Region'].replace(mapping['replace.country'])\n",
    "    return df"
   ]
  },
  {
   "cell_type": "code",
   "execution_count": 8,
   "id": "affiliated-characterization",
   "metadata": {
    "execution": {
     "iopub.execute_input": "2022-09-04T00:48:36.718079Z",
     "iopub.status.busy": "2022-09-04T00:48:36.717321Z",
     "iopub.status.idle": "2022-09-04T00:48:36.721218Z",
     "shell.execute_reply": "2022-09-04T00:48:36.720496Z"
    },
    "papermill": {
     "duration": 0.05101,
     "end_time": "2022-09-04T00:48:36.721355",
     "exception": false,
     "start_time": "2022-09-04T00:48:36.670345",
     "status": "completed"
    },
    "tags": []
   },
   "outputs": [],
   "source": [
    "#hide\n",
    "def get_dates(df):\n",
    "    dt_cols = df.columns[~df.columns.isin(['Province/State', 'Country/Region', 'Lat', 'Long'])]\n",
    "    LAST_DATE_I = -1\n",
    "    # sometimes last column may be empty, then go backwards\n",
    "    for i in range(-1, -len(dt_cols), -1):\n",
    "        if not df[dt_cols[i]].fillna(0).eq(0).all():\n",
    "            LAST_DATE_I = i\n",
    "            break\n",
    "    return LAST_DATE_I, dt_cols"
   ]
  },
  {
   "cell_type": "code",
   "execution_count": 9,
   "id": "recent-optimization",
   "metadata": {
    "execution": {
     "iopub.execute_input": "2022-09-04T00:48:36.808115Z",
     "iopub.status.busy": "2022-09-04T00:48:36.807318Z",
     "iopub.status.idle": "2022-09-04T00:48:37.316066Z",
     "shell.execute_reply": "2022-09-04T00:48:37.316673Z"
    },
    "papermill": {
     "duration": 0.554207,
     "end_time": "2022-09-04T00:48:37.316850",
     "exception": false,
     "start_time": "2022-09-04T00:48:36.762643",
     "status": "completed"
    },
    "tags": []
   },
   "outputs": [],
   "source": [
    "#hide\n",
    "COL_REGION = 'Country/Region'\n",
    "# Confirmed, Recovered, Deaths\n",
    "df = get_frame('confirmed')\n",
    "# dft_: timeseries, dfc_: today country agg\n",
    "dft_cases = df\n",
    "dft_deaths = get_frame('deaths')\n",
    "dft_recovered = get_frame('recovered')\n",
    "LAST_DATE_I, dt_cols = get_dates(df)"
   ]
  },
  {
   "cell_type": "code",
   "execution_count": 10,
   "id": "absolute-copper",
   "metadata": {
    "execution": {
     "iopub.execute_input": "2022-09-04T00:48:37.402294Z",
     "iopub.status.busy": "2022-09-04T00:48:37.401512Z",
     "iopub.status.idle": "2022-09-04T00:48:37.405033Z",
     "shell.execute_reply": "2022-09-04T00:48:37.404257Z"
    },
    "papermill": {
     "duration": 0.048644,
     "end_time": "2022-09-04T00:48:37.405173",
     "exception": false,
     "start_time": "2022-09-04T00:48:37.356529",
     "status": "completed"
    },
    "tags": []
   },
   "outputs": [],
   "source": [
    "#hide\n",
    "LAST_DATE_I, dt_cols = get_dates(df)\n",
    "dt_today =dt_cols[LAST_DATE_I]\n",
    "# dt_5day = dt_cols[LAST_DATE_I - 5]\n",
    "dt_yday = dt_cols[LAST_DATE_I - 1]"
   ]
  },
  {
   "cell_type": "code",
   "execution_count": 11,
   "id": "restricted-sheriff",
   "metadata": {
    "execution": {
     "iopub.execute_input": "2022-09-04T00:48:37.492203Z",
     "iopub.status.busy": "2022-09-04T00:48:37.491465Z",
     "iopub.status.idle": "2022-09-04T00:48:37.499252Z",
     "shell.execute_reply": "2022-09-04T00:48:37.499839Z"
    },
    "papermill": {
     "duration": 0.056908,
     "end_time": "2022-09-04T00:48:37.500004",
     "exception": false,
     "start_time": "2022-09-04T00:48:37.443096",
     "status": "completed"
    },
    "tags": []
   },
   "outputs": [],
   "source": [
    "#hide\n",
    "dfc_cases = dft_cases.groupby(COL_REGION)[dt_today].sum()\n",
    "dfc_deaths = dft_deaths.groupby(COL_REGION)[dt_today].sum()\n",
    "# dfp_cases = dft_cases.groupby(COL_REGION)[dt_5day].sum()\n",
    "# dfp_deaths = dft_deaths.groupby(COL_REGION)[dt_5day].sum()\n",
    "dfp_cases = dft_cases.groupby(COL_REGION)[dt_yday].sum()\n",
    "dfp_deaths = dft_deaths.groupby(COL_REGION)[dt_yday].sum()"
   ]
  },
  {
   "cell_type": "code",
   "execution_count": 12,
   "id": "deluxe-hepatitis",
   "metadata": {
    "execution": {
     "iopub.execute_input": "2022-09-04T00:48:37.585781Z",
     "iopub.status.busy": "2022-09-04T00:48:37.585041Z",
     "iopub.status.idle": "2022-09-04T00:48:37.590588Z",
     "shell.execute_reply": "2022-09-04T00:48:37.591367Z"
    },
    "papermill": {
     "duration": 0.052408,
     "end_time": "2022-09-04T00:48:37.591541",
     "exception": false,
     "start_time": "2022-09-04T00:48:37.539133",
     "status": "completed"
    },
    "tags": []
   },
   "outputs": [],
   "source": [
    "#hide\n",
    "df_table = (pd.DataFrame(dict(Cases = dfc_cases, Deaths = dfc_deaths, PCases = dfp_cases, PDeaths = dfp_deaths))\n",
    "            .sort_values(by = ['Cases','Deaths'], ascending = [False, False])\n",
    "            .reset_index())"
   ]
  },
  {
   "cell_type": "code",
   "execution_count": 13,
   "id": "educational-chancellor",
   "metadata": {
    "execution": {
     "iopub.execute_input": "2022-09-04T00:48:37.692309Z",
     "iopub.status.busy": "2022-09-04T00:48:37.687506Z",
     "iopub.status.idle": "2022-09-04T00:48:37.703265Z",
     "shell.execute_reply": "2022-09-04T00:48:37.702639Z"
    },
    "papermill": {
     "duration": 0.072841,
     "end_time": "2022-09-04T00:48:37.703413",
     "exception": false,
     "start_time": "2022-09-04T00:48:37.630572",
     "status": "completed"
    },
    "tags": []
   },
   "outputs": [
    {
     "data": {
      "text/html": [
       "<div>\n",
       "<style scoped>\n",
       "    .dataframe tbody tr th:only-of-type {\n",
       "        vertical-align: middle;\n",
       "    }\n",
       "\n",
       "    .dataframe tbody tr th {\n",
       "        vertical-align: top;\n",
       "    }\n",
       "\n",
       "    .dataframe thead th {\n",
       "        text-align: right;\n",
       "    }\n",
       "</style>\n",
       "<table border=\"1\" class=\"dataframe\">\n",
       "  <thead>\n",
       "    <tr style=\"text-align: right;\">\n",
       "      <th></th>\n",
       "      <th>Country/Region</th>\n",
       "      <th>Cases</th>\n",
       "      <th>Deaths</th>\n",
       "      <th>PCases</th>\n",
       "      <th>PDeaths</th>\n",
       "      <th>Cases (+)</th>\n",
       "      <th>Deaths (+)</th>\n",
       "      <th>Fatality Rate</th>\n",
       "      <th>Continent</th>\n",
       "    </tr>\n",
       "  </thead>\n",
       "  <tbody>\n",
       "    <tr>\n",
       "      <th>0</th>\n",
       "      <td>US</td>\n",
       "      <td>94732814</td>\n",
       "      <td>1047478</td>\n",
       "      <td>94650029</td>\n",
       "      <td>1047006</td>\n",
       "      <td>82785</td>\n",
       "      <td>472</td>\n",
       "      <td>1.11</td>\n",
       "      <td>North America</td>\n",
       "    </tr>\n",
       "    <tr>\n",
       "      <th>1</th>\n",
       "      <td>India</td>\n",
       "      <td>44449726</td>\n",
       "      <td>527965</td>\n",
       "      <td>44442507</td>\n",
       "      <td>527932</td>\n",
       "      <td>7219</td>\n",
       "      <td>33</td>\n",
       "      <td>1.19</td>\n",
       "      <td>Asia</td>\n",
       "    </tr>\n",
       "    <tr>\n",
       "      <th>2</th>\n",
       "      <td>France</td>\n",
       "      <td>34780903</td>\n",
       "      <td>155229</td>\n",
       "      <td>34764504</td>\n",
       "      <td>155174</td>\n",
       "      <td>16399</td>\n",
       "      <td>55</td>\n",
       "      <td>0.45</td>\n",
       "      <td>Europe</td>\n",
       "    </tr>\n",
       "    <tr>\n",
       "      <th>3</th>\n",
       "      <td>Brazil</td>\n",
       "      <td>34456145</td>\n",
       "      <td>684262</td>\n",
       "      <td>34429853</td>\n",
       "      <td>683965</td>\n",
       "      <td>26292</td>\n",
       "      <td>297</td>\n",
       "      <td>1.99</td>\n",
       "      <td>South America</td>\n",
       "    </tr>\n",
       "    <tr>\n",
       "      <th>4</th>\n",
       "      <td>Germany</td>\n",
       "      <td>32247828</td>\n",
       "      <td>147762</td>\n",
       "      <td>32218483</td>\n",
       "      <td>147642</td>\n",
       "      <td>29345</td>\n",
       "      <td>120</td>\n",
       "      <td>0.46</td>\n",
       "      <td>Europe</td>\n",
       "    </tr>\n",
       "  </tbody>\n",
       "</table>\n",
       "</div>"
      ],
      "text/plain": [
       "  Country/Region     Cases   Deaths    PCases  PDeaths  Cases (+)  Deaths (+)  \\\n",
       "0             US  94732814  1047478  94650029  1047006      82785         472   \n",
       "1          India  44449726   527965  44442507   527932       7219          33   \n",
       "2         France  34780903   155229  34764504   155174      16399          55   \n",
       "3         Brazil  34456145   684262  34429853   683965      26292         297   \n",
       "4        Germany  32247828   147762  32218483   147642      29345         120   \n",
       "\n",
       "   Fatality Rate      Continent  \n",
       "0           1.11  North America  \n",
       "1           1.19           Asia  \n",
       "2           0.45         Europe  \n",
       "3           1.99  South America  \n",
       "4           0.46         Europe  "
      ]
     },
     "execution_count": 13,
     "metadata": {},
     "output_type": "execute_result"
    }
   ],
   "source": [
    "#hide\n",
    "for c in 'Cases, Deaths'.split(', '):\n",
    "    df_table[f'{c} (+)'] = (df_table[c] - df_table[f'P{c}']).clip(0)\n",
    "    #Clip ça veut dire, les chiffres negatif sont interdit\n",
    "df_table['Fatality Rate'] = (100* df_table['Deaths']/ df_table['Cases']).round(2)\n",
    "df_table['Continent'] = df_table['Country/Region'].map(mapping['map.continent'])\n",
    "df_table.head(5)"
   ]
  },
  {
   "cell_type": "code",
   "execution_count": 14,
   "id": "aboriginal-bulgaria",
   "metadata": {
    "execution": {
     "iopub.execute_input": "2022-09-04T00:48:37.788597Z",
     "iopub.status.busy": "2022-09-04T00:48:37.787863Z",
     "iopub.status.idle": "2022-09-04T00:48:37.790890Z",
     "shell.execute_reply": "2022-09-04T00:48:37.791654Z"
    },
    "papermill": {
     "duration": 0.049378,
     "end_time": "2022-09-04T00:48:37.791818",
     "exception": false,
     "start_time": "2022-09-04T00:48:37.742440",
     "status": "completed"
    },
    "tags": []
   },
   "outputs": [],
   "source": [
    "#hide\n",
    "#delete problematic countries from table\n",
    "df_table = df_table[~df_table['Country/Region'].isin(['Cape Verde', 'Cruise Ship', 'Kosovo'])]"
   ]
  },
  {
   "cell_type": "code",
   "execution_count": 15,
   "id": "fantastic-effect",
   "metadata": {
    "execution": {
     "iopub.execute_input": "2022-09-04T00:48:37.879837Z",
     "iopub.status.busy": "2022-09-04T00:48:37.879013Z",
     "iopub.status.idle": "2022-09-04T00:48:37.901892Z",
     "shell.execute_reply": "2022-09-04T00:48:37.901293Z"
    },
    "papermill": {
     "duration": 0.072376,
     "end_time": "2022-09-04T00:48:37.902044",
     "exception": false,
     "start_time": "2022-09-04T00:48:37.829668",
     "status": "completed"
    },
    "tags": []
   },
   "outputs": [
    {
     "data": {
      "text/html": [
       "<div>\n",
       "<style scoped>\n",
       "    .dataframe tbody tr th:only-of-type {\n",
       "        vertical-align: middle;\n",
       "    }\n",
       "\n",
       "    .dataframe tbody tr th {\n",
       "        vertical-align: top;\n",
       "    }\n",
       "\n",
       "    .dataframe thead th {\n",
       "        text-align: right;\n",
       "    }\n",
       "</style>\n",
       "<table border=\"1\" class=\"dataframe\">\n",
       "  <thead>\n",
       "    <tr style=\"text-align: right;\">\n",
       "      <th></th>\n",
       "      <th>Country/Region</th>\n",
       "      <th>Cases</th>\n",
       "      <th>Deaths</th>\n",
       "      <th>PCases</th>\n",
       "      <th>PDeaths</th>\n",
       "      <th>Cases (+)</th>\n",
       "      <th>Deaths (+)</th>\n",
       "      <th>Fatality Rate</th>\n",
       "      <th>Continent</th>\n",
       "    </tr>\n",
       "  </thead>\n",
       "  <tbody>\n",
       "    <tr>\n",
       "      <th>0</th>\n",
       "      <td>US</td>\n",
       "      <td>94732814</td>\n",
       "      <td>1047478</td>\n",
       "      <td>94650029</td>\n",
       "      <td>1047006</td>\n",
       "      <td>82785</td>\n",
       "      <td>472</td>\n",
       "      <td>1.1</td>\n",
       "      <td>North America</td>\n",
       "    </tr>\n",
       "    <tr>\n",
       "      <th>1</th>\n",
       "      <td>India</td>\n",
       "      <td>44449726</td>\n",
       "      <td>527965</td>\n",
       "      <td>44442507</td>\n",
       "      <td>527932</td>\n",
       "      <td>7219</td>\n",
       "      <td>33</td>\n",
       "      <td>1.2</td>\n",
       "      <td>Asia</td>\n",
       "    </tr>\n",
       "    <tr>\n",
       "      <th>2</th>\n",
       "      <td>France</td>\n",
       "      <td>34780903</td>\n",
       "      <td>155229</td>\n",
       "      <td>34764504</td>\n",
       "      <td>155174</td>\n",
       "      <td>16399</td>\n",
       "      <td>55</td>\n",
       "      <td>0.4</td>\n",
       "      <td>Europe</td>\n",
       "    </tr>\n",
       "    <tr>\n",
       "      <th>3</th>\n",
       "      <td>Brazil</td>\n",
       "      <td>34456145</td>\n",
       "      <td>684262</td>\n",
       "      <td>34429853</td>\n",
       "      <td>683965</td>\n",
       "      <td>26292</td>\n",
       "      <td>297</td>\n",
       "      <td>2.0</td>\n",
       "      <td>South America</td>\n",
       "    </tr>\n",
       "    <tr>\n",
       "      <th>4</th>\n",
       "      <td>Germany</td>\n",
       "      <td>32247828</td>\n",
       "      <td>147762</td>\n",
       "      <td>32218483</td>\n",
       "      <td>147642</td>\n",
       "      <td>29345</td>\n",
       "      <td>120</td>\n",
       "      <td>0.5</td>\n",
       "      <td>Europe</td>\n",
       "    </tr>\n",
       "  </tbody>\n",
       "</table>\n",
       "</div>"
      ],
      "text/plain": [
       "  Country/Region     Cases   Deaths    PCases  PDeaths  Cases (+)  Deaths (+)  \\\n",
       "0             US  94732814  1047478  94650029  1047006      82785         472   \n",
       "1          India  44449726   527965  44442507   527932       7219          33   \n",
       "2         France  34780903   155229  34764504   155174      16399          55   \n",
       "3         Brazil  34456145   684262  34429853   683965      26292         297   \n",
       "4        Germany  32247828   147762  32218483   147642      29345         120   \n",
       "\n",
       "   Fatality Rate      Continent  \n",
       "0            1.1  North America  \n",
       "1            1.2           Asia  \n",
       "2            0.4         Europe  \n",
       "3            2.0  South America  \n",
       "4            0.5         Europe  "
      ]
     },
     "execution_count": 15,
     "metadata": {},
     "output_type": "execute_result"
    }
   ],
   "source": [
    "#hide\n",
    "df_table = (pd.DataFrame(dict(Cases=dfc_cases, Deaths=dfc_deaths, PCases=dfp_cases, PDeaths=dfp_deaths))\n",
    "             .sort_values(by=['Cases', 'Deaths'], ascending=[False, False])\n",
    "             .reset_index())\n",
    "df_table.rename(columns={'index': 'Country/Region'}, inplace=True)\n",
    "for c in 'Cases, Deaths'.split(', '):\n",
    "    df_table[f'{c} (+)'] = (df_table[c] - df_table[f'P{c}']).clip(0)  # DATA BUG\n",
    "df_table['Fatality Rate'] = (100 * df_table['Deaths'] / df_table['Cases']).round(1)\n",
    "df_table['Continent'] = df_table['Country/Region'].map(mapping['map.continent'])\n",
    "df_table.head(5)"
   ]
  },
  {
   "cell_type": "code",
   "execution_count": 16,
   "id": "fewer-occasion",
   "metadata": {
    "execution": {
     "iopub.execute_input": "2022-09-04T00:48:37.988612Z",
     "iopub.status.busy": "2022-09-04T00:48:37.987837Z",
     "iopub.status.idle": "2022-09-04T00:48:37.991184Z",
     "shell.execute_reply": "2022-09-04T00:48:37.990448Z"
    },
    "papermill": {
     "duration": 0.048507,
     "end_time": "2022-09-04T00:48:37.991325",
     "exception": false,
     "start_time": "2022-09-04T00:48:37.942818",
     "status": "completed"
    },
    "tags": []
   },
   "outputs": [],
   "source": [
    "#hide\n",
    "#delete problematic countries from table\n",
    "df_table = df_table[~df_table['Country/Region'].isin(['Cape Verde', 'Cruise Ship', 'Kosovo'])]"
   ]
  },
  {
   "cell_type": "code",
   "execution_count": 17,
   "id": "related-center",
   "metadata": {
    "execution": {
     "iopub.execute_input": "2022-09-04T00:48:38.092155Z",
     "iopub.status.busy": "2022-09-04T00:48:38.091252Z",
     "iopub.status.idle": "2022-09-04T00:48:38.102778Z",
     "shell.execute_reply": "2022-09-04T00:48:38.103511Z"
    },
    "papermill": {
     "duration": 0.069296,
     "end_time": "2022-09-04T00:48:38.103682",
     "exception": false,
     "start_time": "2022-09-04T00:48:38.034386",
     "status": "completed"
    },
    "tags": []
   },
   "outputs": [],
   "source": [
    "#hide\n",
    "metrics = [df_table.columns[index] for index in [1,2,5,6]]\n",
    "# s_china = df_table[df_table['Country/Region'].eq('China')][metrics].sum().add_prefix('China ')\n",
    "s_us = df_table[df_table['Country/Region'].eq('US')][metrics].sum().add_prefix('US ')\n",
    "s_eu = df_table[df_table['Continent'].eq('Europe')][metrics].sum().add_prefix('EU ')\n",
    "s_ind = df_table[df_table['Country/Region'].eq('India')][metrics].sum().add_prefix('India ')\n",
    "summary = {'updated': pd.to_datetime(dt_today), 'since': pd.to_datetime(dt_yday)}\n",
    "summary = {'updated': pd.to_datetime(dt_today), 'since': pd.to_datetime(dt_yday)}\n",
    "summary = {**summary, **df_table[metrics].sum(), **s_ind, **s_us, **s_eu}"
   ]
  },
  {
   "cell_type": "code",
   "execution_count": 18,
   "id": "engaging-syndrome",
   "metadata": {
    "execution": {
     "iopub.execute_input": "2022-09-04T00:48:38.187604Z",
     "iopub.status.busy": "2022-09-04T00:48:38.186833Z",
     "iopub.status.idle": "2022-09-04T00:48:38.209747Z",
     "shell.execute_reply": "2022-09-04T00:48:38.209113Z"
    },
    "papermill": {
     "duration": 0.068312,
     "end_time": "2022-09-04T00:48:38.209912",
     "exception": false,
     "start_time": "2022-09-04T00:48:38.141600",
     "status": "completed"
    },
    "tags": []
   },
   "outputs": [],
   "source": [
    "#hide\n",
    "dft_ct_new_cases = dft_cases.groupby(COL_REGION)[dt_cols].sum().diff(axis=1).fillna(0).astype(int)"
   ]
  },
  {
   "cell_type": "code",
   "execution_count": 19,
   "id": "neutral-assignment",
   "metadata": {
    "execution": {
     "iopub.execute_input": "2022-09-04T00:48:38.303116Z",
     "iopub.status.busy": "2022-09-04T00:48:38.302275Z",
     "iopub.status.idle": "2022-09-04T00:48:38.305145Z",
     "shell.execute_reply": "2022-09-04T00:48:38.304540Z"
    },
    "papermill": {
     "duration": 0.050828,
     "end_time": "2022-09-04T00:48:38.305284",
     "exception": false,
     "start_time": "2022-09-04T00:48:38.254456",
     "status": "completed"
    },
    "tags": []
   },
   "outputs": [],
   "source": [
    "#hide\n",
    "everydaycases = dft_ct_new_cases.cumsum(axis=1)"
   ]
  },
  {
   "cell_type": "code",
   "execution_count": 20,
   "id": "parliamentary-calgary",
   "metadata": {
    "execution": {
     "iopub.execute_input": "2022-09-04T00:48:38.390189Z",
     "iopub.status.busy": "2022-09-04T00:48:38.389423Z",
     "iopub.status.idle": "2022-09-04T00:48:39.157479Z",
     "shell.execute_reply": "2022-09-04T00:48:39.156848Z"
    },
    "papermill": {
     "duration": 0.812108,
     "end_time": "2022-09-04T00:48:39.157636",
     "exception": false,
     "start_time": "2022-09-04T00:48:38.345528",
     "status": "completed"
    },
    "tags": []
   },
   "outputs": [],
   "source": [
    "#hide\n",
    "import pandas as pd\n",
    "import matplotlib.pyplot as plt\n",
    "import matplotlib.ticker as ticker\n",
    "import matplotlib.animation as animation\n",
    "from IPython.display import HTML"
   ]
  },
  {
   "cell_type": "code",
   "execution_count": 21,
   "id": "lasting-extraction",
   "metadata": {
    "execution": {
     "iopub.execute_input": "2022-09-04T00:48:39.245133Z",
     "iopub.status.busy": "2022-09-04T00:48:39.244377Z",
     "iopub.status.idle": "2022-09-04T00:48:39.254092Z",
     "shell.execute_reply": "2022-09-04T00:48:39.253429Z"
    },
    "papermill": {
     "duration": 0.056428,
     "end_time": "2022-09-04T00:48:39.254245",
     "exception": false,
     "start_time": "2022-09-04T00:48:39.197817",
     "status": "completed"
    },
    "tags": []
   },
   "outputs": [],
   "source": [
    "#hide\n",
    "t = everydaycases.stack()"
   ]
  },
  {
   "cell_type": "code",
   "execution_count": 22,
   "id": "premier-sleeve",
   "metadata": {
    "execution": {
     "iopub.execute_input": "2022-09-04T00:48:39.341908Z",
     "iopub.status.busy": "2022-09-04T00:48:39.341111Z",
     "iopub.status.idle": "2022-09-04T00:48:39.355986Z",
     "shell.execute_reply": "2022-09-04T00:48:39.355374Z"
    },
    "papermill": {
     "duration": 0.061459,
     "end_time": "2022-09-04T00:48:39.356141",
     "exception": false,
     "start_time": "2022-09-04T00:48:39.294682",
     "status": "completed"
    },
    "tags": []
   },
   "outputs": [],
   "source": [
    "#hide\n",
    "g = t.reset_index(['Country/Region'])"
   ]
  },
  {
   "cell_type": "code",
   "execution_count": 23,
   "id": "distributed-pittsburgh",
   "metadata": {
    "execution": {
     "iopub.execute_input": "2022-09-04T00:48:39.441509Z",
     "iopub.status.busy": "2022-09-04T00:48:39.440703Z",
     "iopub.status.idle": "2022-09-04T00:48:39.445331Z",
     "shell.execute_reply": "2022-09-04T00:48:39.445884Z"
    },
    "papermill": {
     "duration": 0.049858,
     "end_time": "2022-09-04T00:48:39.446056",
     "exception": false,
     "start_time": "2022-09-04T00:48:39.396198",
     "status": "completed"
    },
    "tags": []
   },
   "outputs": [],
   "source": [
    "#hide\n",
    "g.index.name = 'date'"
   ]
  },
  {
   "cell_type": "code",
   "execution_count": 24,
   "id": "naked-donor",
   "metadata": {
    "execution": {
     "iopub.execute_input": "2022-09-04T00:48:39.532032Z",
     "iopub.status.busy": "2022-09-04T00:48:39.530162Z",
     "iopub.status.idle": "2022-09-04T00:48:39.532917Z",
     "shell.execute_reply": "2022-09-04T00:48:39.533570Z"
    },
    "papermill": {
     "duration": 0.048341,
     "end_time": "2022-09-04T00:48:39.533732",
     "exception": false,
     "start_time": "2022-09-04T00:48:39.485391",
     "status": "completed"
    },
    "tags": []
   },
   "outputs": [],
   "source": [
    "# #hide\n",
    "# g = g.reset_index(['date'])"
   ]
  },
  {
   "cell_type": "code",
   "execution_count": 25,
   "id": "incomplete-mustang",
   "metadata": {
    "execution": {
     "iopub.execute_input": "2022-09-04T00:48:39.617384Z",
     "iopub.status.busy": "2022-09-04T00:48:39.616669Z",
     "iopub.status.idle": "2022-09-04T00:48:39.621753Z",
     "shell.execute_reply": "2022-09-04T00:48:39.621015Z"
    },
    "papermill": {
     "duration": 0.048152,
     "end_time": "2022-09-04T00:48:39.621896",
     "exception": false,
     "start_time": "2022-09-04T00:48:39.573744",
     "status": "completed"
    },
    "tags": []
   },
   "outputs": [],
   "source": [
    "#hide\n",
    "# g.head()"
   ]
  },
  {
   "cell_type": "code",
   "execution_count": 26,
   "id": "specific-kruger",
   "metadata": {
    "execution": {
     "iopub.execute_input": "2022-09-04T00:48:39.706579Z",
     "iopub.status.busy": "2022-09-04T00:48:39.704524Z",
     "iopub.status.idle": "2022-09-04T00:48:39.707470Z",
     "shell.execute_reply": "2022-09-04T00:48:39.708072Z"
    },
    "papermill": {
     "duration": 0.046866,
     "end_time": "2022-09-04T00:48:39.708216",
     "exception": false,
     "start_time": "2022-09-04T00:48:39.661350",
     "status": "completed"
    },
    "tags": []
   },
   "outputs": [],
   "source": [
    "#hide\n",
    "# g.columns = ['date','country','cases']"
   ]
  },
  {
   "cell_type": "code",
   "execution_count": 27,
   "id": "tender-conversion",
   "metadata": {
    "execution": {
     "iopub.execute_input": "2022-09-04T00:48:39.791920Z",
     "iopub.status.busy": "2022-09-04T00:48:39.791156Z",
     "iopub.status.idle": "2022-09-04T00:48:39.796383Z",
     "shell.execute_reply": "2022-09-04T00:48:39.795725Z"
    },
    "papermill": {
     "duration": 0.048577,
     "end_time": "2022-09-04T00:48:39.796543",
     "exception": false,
     "start_time": "2022-09-04T00:48:39.747966",
     "status": "completed"
    },
    "tags": []
   },
   "outputs": [],
   "source": [
    "#hide\n",
    "# g['continent'] = g.country"
   ]
  },
  {
   "cell_type": "code",
   "execution_count": 28,
   "id": "substantial-wilderness",
   "metadata": {
    "execution": {
     "iopub.execute_input": "2022-09-04T00:48:39.879343Z",
     "iopub.status.busy": "2022-09-04T00:48:39.878567Z",
     "iopub.status.idle": "2022-09-04T00:48:39.882339Z",
     "shell.execute_reply": "2022-09-04T00:48:39.881766Z"
    },
    "papermill": {
     "duration": 0.047723,
     "end_time": "2022-09-04T00:48:39.882468",
     "exception": false,
     "start_time": "2022-09-04T00:48:39.834745",
     "status": "completed"
    },
    "tags": []
   },
   "outputs": [],
   "source": [
    "#hide\n",
    "# cols = list(g.columns.values)"
   ]
  },
  {
   "cell_type": "code",
   "execution_count": 29,
   "id": "solved-farming",
   "metadata": {
    "execution": {
     "iopub.execute_input": "2022-09-04T00:48:39.972427Z",
     "iopub.status.busy": "2022-09-04T00:48:39.971640Z",
     "iopub.status.idle": "2022-09-04T00:48:39.975028Z",
     "shell.execute_reply": "2022-09-04T00:48:39.974411Z"
    },
    "papermill": {
     "duration": 0.052141,
     "end_time": "2022-09-04T00:48:39.975166",
     "exception": false,
     "start_time": "2022-09-04T00:48:39.923025",
     "status": "completed"
    },
    "tags": []
   },
   "outputs": [],
   "source": [
    "#hide\n",
    "# cols.insert(0, cols.pop())"
   ]
  },
  {
   "cell_type": "code",
   "execution_count": 30,
   "id": "executed-adoption",
   "metadata": {
    "execution": {
     "iopub.execute_input": "2022-09-04T00:48:40.060882Z",
     "iopub.status.busy": "2022-09-04T00:48:40.060111Z",
     "iopub.status.idle": "2022-09-04T00:48:40.063440Z",
     "shell.execute_reply": "2022-09-04T00:48:40.062780Z"
    },
    "papermill": {
     "duration": 0.047744,
     "end_time": "2022-09-04T00:48:40.063578",
     "exception": false,
     "start_time": "2022-09-04T00:48:40.015834",
     "status": "completed"
    },
    "tags": []
   },
   "outputs": [],
   "source": [
    "#hide\n",
    "# g = g[cols]"
   ]
  },
  {
   "cell_type": "code",
   "execution_count": 31,
   "id": "subject-dublin",
   "metadata": {
    "execution": {
     "iopub.execute_input": "2022-09-04T00:48:40.146230Z",
     "iopub.status.busy": "2022-09-04T00:48:40.145471Z",
     "iopub.status.idle": "2022-09-04T00:48:40.148149Z",
     "shell.execute_reply": "2022-09-04T00:48:40.148706Z"
    },
    "papermill": {
     "duration": 0.045107,
     "end_time": "2022-09-04T00:48:40.148866",
     "exception": false,
     "start_time": "2022-09-04T00:48:40.103759",
     "status": "completed"
    },
    "tags": []
   },
   "outputs": [],
   "source": [
    "#hide\n",
    "# g['continent'] = g['continent'].map(mapping['map.continent'])"
   ]
  },
  {
   "cell_type": "code",
   "execution_count": 32,
   "id": "freelance-scout",
   "metadata": {
    "execution": {
     "iopub.execute_input": "2022-09-04T00:48:40.233262Z",
     "iopub.status.busy": "2022-09-04T00:48:40.232212Z",
     "iopub.status.idle": "2022-09-04T00:48:40.235392Z",
     "shell.execute_reply": "2022-09-04T00:48:40.234726Z"
    },
    "papermill": {
     "duration": 0.047437,
     "end_time": "2022-09-04T00:48:40.235532",
     "exception": false,
     "start_time": "2022-09-04T00:48:40.188095",
     "status": "completed"
    },
    "tags": []
   },
   "outputs": [],
   "source": [
    "#hide\n",
    "# g.head()"
   ]
  },
  {
   "cell_type": "code",
   "execution_count": 33,
   "id": "limited-engine",
   "metadata": {
    "execution": {
     "iopub.execute_input": "2022-09-04T00:48:40.318129Z",
     "iopub.status.busy": "2022-09-04T00:48:40.317381Z",
     "iopub.status.idle": "2022-09-04T00:48:40.320844Z",
     "shell.execute_reply": "2022-09-04T00:48:40.320058Z"
    },
    "papermill": {
     "duration": 0.045449,
     "end_time": "2022-09-04T00:48:40.320993",
     "exception": false,
     "start_time": "2022-09-04T00:48:40.275544",
     "status": "completed"
    },
    "tags": []
   },
   "outputs": [],
   "source": [
    "# hide\n",
    "# g['date'] = g['date'].astype('datetime64[ns]')"
   ]
  },
  {
   "cell_type": "code",
   "execution_count": 34,
   "id": "sophisticated-supervisor",
   "metadata": {
    "execution": {
     "iopub.execute_input": "2022-09-04T00:48:40.404912Z",
     "iopub.status.busy": "2022-09-04T00:48:40.404162Z",
     "iopub.status.idle": "2022-09-04T00:48:40.407738Z",
     "shell.execute_reply": "2022-09-04T00:48:40.407104Z"
    },
    "papermill": {
     "duration": 0.046881,
     "end_time": "2022-09-04T00:48:40.407867",
     "exception": false,
     "start_time": "2022-09-04T00:48:40.360986",
     "status": "completed"
    },
    "tags": []
   },
   "outputs": [],
   "source": [
    "#hide\n",
    "# g['date'] = g.date.dt.dayofyear"
   ]
  },
  {
   "cell_type": "code",
   "execution_count": 35,
   "id": "inside-dubai",
   "metadata": {
    "execution": {
     "iopub.execute_input": "2022-09-04T00:48:40.494302Z",
     "iopub.status.busy": "2022-09-04T00:48:40.493526Z",
     "iopub.status.idle": "2022-09-04T00:48:40.497020Z",
     "shell.execute_reply": "2022-09-04T00:48:40.496401Z"
    },
    "papermill": {
     "duration": 0.048665,
     "end_time": "2022-09-04T00:48:40.497160",
     "exception": false,
     "start_time": "2022-09-04T00:48:40.448495",
     "status": "completed"
    },
    "tags": []
   },
   "outputs": [],
   "source": [
    "#hide\n",
    "# g = g.rename(columns= {'continent':'group','country':'name','cases':'value'})"
   ]
  },
  {
   "cell_type": "code",
   "execution_count": 36,
   "id": "fleet-motorcycle",
   "metadata": {
    "execution": {
     "iopub.execute_input": "2022-09-04T00:48:40.581797Z",
     "iopub.status.busy": "2022-09-04T00:48:40.581017Z",
     "iopub.status.idle": "2022-09-04T00:48:40.586229Z",
     "shell.execute_reply": "2022-09-04T00:48:40.585594Z"
    },
    "papermill": {
     "duration": 0.049169,
     "end_time": "2022-09-04T00:48:40.586412",
     "exception": false,
     "start_time": "2022-09-04T00:48:40.537243",
     "status": "completed"
    },
    "tags": []
   },
   "outputs": [],
   "source": [
    "#hide\n",
    "# cols = ['name','group','day','value']"
   ]
  },
  {
   "cell_type": "code",
   "execution_count": 37,
   "id": "continued-sleeping",
   "metadata": {
    "execution": {
     "iopub.execute_input": "2022-09-04T00:48:40.672319Z",
     "iopub.status.busy": "2022-09-04T00:48:40.671532Z",
     "iopub.status.idle": "2022-09-04T00:48:40.676778Z",
     "shell.execute_reply": "2022-09-04T00:48:40.676225Z"
    },
    "papermill": {
     "duration": 0.049983,
     "end_time": "2022-09-04T00:48:40.676909",
     "exception": false,
     "start_time": "2022-09-04T00:48:40.626926",
     "status": "completed"
    },
    "tags": []
   },
   "outputs": [],
   "source": [
    "#hide\n",
    "# g.rename(columns= {'date':'day'},inplace = True)"
   ]
  },
  {
   "cell_type": "code",
   "execution_count": 38,
   "id": "major-fight",
   "metadata": {
    "execution": {
     "iopub.execute_input": "2022-09-04T00:48:40.760367Z",
     "iopub.status.busy": "2022-09-04T00:48:40.759626Z",
     "iopub.status.idle": "2022-09-04T00:48:40.762082Z",
     "shell.execute_reply": "2022-09-04T00:48:40.761368Z"
    },
    "papermill": {
     "duration": 0.046298,
     "end_time": "2022-09-04T00:48:40.762221",
     "exception": false,
     "start_time": "2022-09-04T00:48:40.715923",
     "status": "completed"
    },
    "tags": []
   },
   "outputs": [],
   "source": [
    "#hide\n",
    "# g = g[cols]"
   ]
  },
  {
   "cell_type": "code",
   "execution_count": 39,
   "id": "structured-mobile",
   "metadata": {
    "execution": {
     "iopub.execute_input": "2022-09-04T00:48:40.847708Z",
     "iopub.status.busy": "2022-09-04T00:48:40.846936Z",
     "iopub.status.idle": "2022-09-04T00:48:40.849718Z",
     "shell.execute_reply": "2022-09-04T00:48:40.850262Z"
    },
    "papermill": {
     "duration": 0.048383,
     "end_time": "2022-09-04T00:48:40.850443",
     "exception": false,
     "start_time": "2022-09-04T00:48:40.802060",
     "status": "completed"
    },
    "tags": []
   },
   "outputs": [],
   "source": [
    "# #hide\n",
    "# g = g[g.group.notna()]"
   ]
  },
  {
   "cell_type": "code",
   "execution_count": 40,
   "id": "determined-closing",
   "metadata": {
    "execution": {
     "iopub.execute_input": "2022-09-04T00:48:40.934684Z",
     "iopub.status.busy": "2022-09-04T00:48:40.933886Z",
     "iopub.status.idle": "2022-09-04T00:48:40.937037Z",
     "shell.execute_reply": "2022-09-04T00:48:40.936402Z"
    },
    "papermill": {
     "duration": 0.046839,
     "end_time": "2022-09-04T00:48:40.937218",
     "exception": false,
     "start_time": "2022-09-04T00:48:40.890379",
     "status": "completed"
    },
    "tags": []
   },
   "outputs": [],
   "source": [
    "# #hide\n",
    "# colors = dict(zip(\n",
    "#     [\"Oceania\", \"Europe\", \"Asia\", \"South America\", \"Middle East\", \"North America\", \"Africa\"],\n",
    "#     [\"#adb0ff\", \"#ffb3ff\", \"#90d595\", \"#e48381\", \"#aafbff\", \"#f7bb5f\", \"#eafb50\"]\n",
    "# ))\n",
    "# group_lk = g.set_index('name')['group'].to_dict()"
   ]
  },
  {
   "cell_type": "code",
   "execution_count": null,
   "id": "gross-drinking",
   "metadata": {
    "papermill": {
     "duration": 0.03963,
     "end_time": "2022-09-04T00:48:41.016718",
     "exception": false,
     "start_time": "2022-09-04T00:48:40.977088",
     "status": "completed"
    },
    "tags": []
   },
   "outputs": [],
   "source": []
  },
  {
   "cell_type": "code",
   "execution_count": 41,
   "id": "subject-macintosh",
   "metadata": {
    "execution": {
     "iopub.execute_input": "2022-09-04T00:48:41.102252Z",
     "iopub.status.busy": "2022-09-04T00:48:41.101376Z",
     "iopub.status.idle": "2022-09-04T00:48:41.104669Z",
     "shell.execute_reply": "2022-09-04T00:48:41.105310Z"
    },
    "papermill": {
     "duration": 0.049929,
     "end_time": "2022-09-04T00:48:41.105451",
     "exception": false,
     "start_time": "2022-09-04T00:48:41.055522",
     "status": "completed"
    },
    "tags": []
   },
   "outputs": [],
   "source": [
    "# #hide\n",
    "# fig, ax = plt.subplots(figsize=(15, 8))\n",
    "\n",
    "# def draw_barchart(current_day):\n",
    "#     dff = g[g['day'].eq(current_day)].sort_values(by='value', ascending=True).tail(10)\n",
    "#     ax.clear()\n",
    "#     ax.barh(dff['name'], dff['value'], color=[colors[group_lk[x]] for x in dff['name']])\n",
    "#     dx = dff['value'].max() / 200\n",
    "    \n",
    "#     for i, (value, name) in enumerate(zip(dff['value'], dff['name'])):\n",
    "#         ax.text(value-dx, i,     name,           size=14, weight=600, ha='right', va='bottom')\n",
    "#         ax.text(value-dx, i-.25, group_lk[name], size=10, color='#444444', ha='right', va='baseline')\n",
    "#         ax.text(value+dx, i,     f'{value:,.0f}',  size=14, ha='left',  va='center')\n",
    "#     ax.text(1, 0.4, current_day, transform=ax.transAxes, color='#777777', size=46, ha='right', weight=800)\n",
    "#     ax.text(0, 1.06, 'Population (thousands)', transform=ax.transAxes, size=12, color='#777777')\n",
    "#     ax.xaxis.set_major_formatter(ticker.StrMethodFormatter('{x:,.0f}'))\n",
    "#     ax.xaxis.set_ticks_position('top')\n",
    "#     ax.tick_params(axis='x', colors='#777777', labelsize=12)\n",
    "#     ax.set_yticks([])\n",
    "#     ax.margins(0, 0.01)\n",
    "#     ax.grid(which='major', axis='x', linestyle='-')\n",
    "#     ax.set_axisbelow(True)\n",
    "    \n",
    "#     ax.text(0, 1.15, 'Coronavirus',\n",
    "#             transform=ax.transAxes, size=24, weight=600, ha='left', va='top')\n",
    "# #     ax.text(1, 0, 'by @pratapvardhan; credit @jburnmurdoch', transform=ax.transAxes, color='#777777', ha='right',\n",
    "# #             bbox=dict(facecolor='white', alpha=0.8, edgecolor='white'))\n",
    "#     plt.box(False)"
   ]
  },
  {
   "cell_type": "code",
   "execution_count": 42,
   "id": "sexual-wages",
   "metadata": {
    "execution": {
     "iopub.execute_input": "2022-09-04T00:48:41.190887Z",
     "iopub.status.busy": "2022-09-04T00:48:41.190043Z",
     "iopub.status.idle": "2022-09-04T00:48:41.193400Z",
     "shell.execute_reply": "2022-09-04T00:48:41.192799Z"
    },
    "papermill": {
     "duration": 0.046258,
     "end_time": "2022-09-04T00:48:41.193532",
     "exception": false,
     "start_time": "2022-09-04T00:48:41.147274",
     "status": "completed"
    },
    "tags": []
   },
   "outputs": [],
   "source": [
    "# #hide_input\n",
    "# fig, ax = plt.subplots(figsize=(15, 8))\n",
    "# animator = animation.FuncAnimation(fig, draw_barchart, frames=range(g.day.values.min(), g.day.values.max()))\n",
    "# HTML(animator.to_jshtml())\n",
    "# # or use animator.to_html5_video() or animator.save() "
   ]
  },
  {
   "cell_type": "code",
   "execution_count": null,
   "id": "australian-container",
   "metadata": {
    "papermill": {
     "duration": 0.040716,
     "end_time": "2022-09-04T00:48:41.274673",
     "exception": false,
     "start_time": "2022-09-04T00:48:41.233957",
     "status": "completed"
    },
    "tags": []
   },
   "outputs": [],
   "source": []
  },
  {
   "cell_type": "code",
   "execution_count": null,
   "id": "mediterranean-pontiac",
   "metadata": {
    "papermill": {
     "duration": 0.043048,
     "end_time": "2022-09-04T00:48:41.360291",
     "exception": false,
     "start_time": "2022-09-04T00:48:41.317243",
     "status": "completed"
    },
    "tags": []
   },
   "outputs": [],
   "source": []
  },
  {
   "cell_type": "code",
   "execution_count": null,
   "id": "aging-legislature",
   "metadata": {
    "papermill": {
     "duration": 0.040782,
     "end_time": "2022-09-04T00:48:41.443288",
     "exception": false,
     "start_time": "2022-09-04T00:48:41.402506",
     "status": "completed"
    },
    "tags": []
   },
   "outputs": [],
   "source": []
  }
 ],
 "metadata": {
  "kernelspec": {
   "display_name": "Python 3",
   "language": "python",
   "name": "python3"
  },
  "language_info": {
   "codemirror_mode": {
    "name": "ipython",
    "version": 3
   },
   "file_extension": ".py",
   "mimetype": "text/x-python",
   "name": "python",
   "nbconvert_exporter": "python",
   "pygments_lexer": "ipython3",
   "version": "3.6.15"
  },
  "papermill": {
   "duration": 7.642229,
   "end_time": "2022-09-04T00:48:41.804457",
   "environment_variables": {},
   "exception": null,
   "input_path": "2020-03-21-covid19exp.ipynb",
   "output_path": "2020-03-21-covid19exp.ipynb",
   "parameters": {},
   "start_time": "2022-09-04T00:48:34.162228",
   "version": "2.0.0"
  }
 },
 "nbformat": 4,
 "nbformat_minor": 5
}