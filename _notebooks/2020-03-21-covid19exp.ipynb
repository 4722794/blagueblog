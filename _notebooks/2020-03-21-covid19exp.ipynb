{
 "cells": [
  {
   "cell_type": "markdown",
   "metadata": {
    "papermill": {
     "duration": 0.035484,
     "end_time": "2020-12-06T12:06:47.969400",
     "exception": false,
     "start_time": "2020-12-06T12:06:47.933916",
     "status": "completed"
    },
    "tags": []
   },
   "source": [
    "# COVID-19 Case Race\n",
    "> A race chart to see rising cases around the world\n",
    "\n",
    "- author: Hargun Oberoi\n",
    "- image: images/covid-overview.png\n",
    "- hide: false\n",
    "- badges: false"
   ]
  },
  {
   "cell_type": "code",
   "execution_count": 1,
   "metadata": {
    "execution": {
     "iopub.execute_input": "2020-12-06T12:06:48.034384Z",
     "iopub.status.busy": "2020-12-06T12:06:48.033676Z",
     "iopub.status.idle": "2020-12-06T12:06:48.382779Z",
     "shell.execute_reply": "2020-12-06T12:06:48.382092Z"
    },
    "papermill": {
     "duration": 0.384128,
     "end_time": "2020-12-06T12:06:48.382943",
     "exception": false,
     "start_time": "2020-12-06T12:06:47.998815",
     "status": "completed"
    },
    "tags": []
   },
   "outputs": [],
   "source": [
    "#hide\n",
    "import numpy as np\n",
    "import pandas as pd\n",
    "from jinja2 import Template\n",
    "from IPython.display import HTML"
   ]
  },
  {
   "cell_type": "code",
   "execution_count": 2,
   "metadata": {
    "execution": {
     "iopub.execute_input": "2020-12-06T12:06:48.449212Z",
     "iopub.status.busy": "2020-12-06T12:06:48.448559Z",
     "iopub.status.idle": "2020-12-06T12:06:48.449727Z",
     "shell.execute_reply": "2020-12-06T12:06:48.450166Z"
    },
    "papermill": {
     "duration": 0.036673,
     "end_time": "2020-12-06T12:06:48.450336",
     "exception": false,
     "start_time": "2020-12-06T12:06:48.413663",
     "status": "completed"
    },
    "tags": []
   },
   "outputs": [],
   "source": [
    "#hide\n",
    "\n",
    "# FETCH\n",
    "base_url = 'https://raw.githubusercontent.com/pratapvardhan/notebooks/master/covid19/'\n",
    "paths = {\n",
    "    'mapping': base_url + 'mapping_countries.csv',\n",
    "    'overview': base_url + 'overview.tpl'\n",
    "}"
   ]
  },
  {
   "cell_type": "code",
   "execution_count": 3,
   "metadata": {
    "execution": {
     "iopub.execute_input": "2020-12-06T12:06:48.522621Z",
     "iopub.status.busy": "2020-12-06T12:06:48.518642Z",
     "iopub.status.idle": "2020-12-06T12:06:48.525741Z",
     "shell.execute_reply": "2020-12-06T12:06:48.525275Z"
    },
    "papermill": {
     "duration": 0.046005,
     "end_time": "2020-12-06T12:06:48.525868",
     "exception": false,
     "start_time": "2020-12-06T12:06:48.479863",
     "status": "completed"
    },
    "tags": []
   },
   "outputs": [
    {
     "data": {
      "text/plain": [
       "'https://raw.githubusercontent.com/pratapvardhan/notebooks/master/covid19/mapping_countries.csv'"
      ]
     },
     "execution_count": 3,
     "metadata": {},
     "output_type": "execute_result"
    }
   ],
   "source": [
    "#hide\n",
    "paths['mapping']"
   ]
  },
  {
   "cell_type": "code",
   "execution_count": 4,
   "metadata": {
    "execution": {
     "iopub.execute_input": "2020-12-06T12:06:48.595468Z",
     "iopub.status.busy": "2020-12-06T12:06:48.594767Z",
     "iopub.status.idle": "2020-12-06T12:06:48.596920Z",
     "shell.execute_reply": "2020-12-06T12:06:48.596431Z"
    },
    "papermill": {
     "duration": 0.037059,
     "end_time": "2020-12-06T12:06:48.597041",
     "exception": false,
     "start_time": "2020-12-06T12:06:48.559982",
     "status": "completed"
    },
    "tags": []
   },
   "outputs": [],
   "source": [
    "#hide\n",
    "def get_mappings(url):\n",
    "    df = pd.read_csv(url)\n",
    "    return {\n",
    "        'df': df,\n",
    "        'replace.country': dict(df.dropna(subset=['Name']).set_index('Country')['Name']),\n",
    "        'map.continent': dict(df.set_index('Name')['Continent'])\n",
    "    }"
   ]
  },
  {
   "cell_type": "code",
   "execution_count": 5,
   "metadata": {
    "execution": {
     "iopub.execute_input": "2020-12-06T12:06:48.664711Z",
     "iopub.status.busy": "2020-12-06T12:06:48.664131Z",
     "iopub.status.idle": "2020-12-06T12:06:48.705881Z",
     "shell.execute_reply": "2020-12-06T12:06:48.706468Z"
    },
    "papermill": {
     "duration": 0.080561,
     "end_time": "2020-12-06T12:06:48.706635",
     "exception": false,
     "start_time": "2020-12-06T12:06:48.626074",
     "status": "completed"
    },
    "tags": []
   },
   "outputs": [],
   "source": [
    "#hide\n",
    "mapping = get_mappings(paths['mapping'])"
   ]
  },
  {
   "cell_type": "code",
   "execution_count": 6,
   "metadata": {
    "execution": {
     "iopub.execute_input": "2020-12-06T12:06:48.773855Z",
     "iopub.status.busy": "2020-12-06T12:06:48.773161Z",
     "iopub.status.idle": "2020-12-06T12:06:48.774483Z",
     "shell.execute_reply": "2020-12-06T12:06:48.775019Z"
    },
    "papermill": {
     "duration": 0.037292,
     "end_time": "2020-12-06T12:06:48.775194",
     "exception": false,
     "start_time": "2020-12-06T12:06:48.737902",
     "status": "completed"
    },
    "tags": []
   },
   "outputs": [],
   "source": [
    "#hide\n",
    "def get_template(path):\n",
    "    from urllib.parse import urlparse\n",
    "    if bool(urlparse(path).netloc):\n",
    "        from urllib.request import urlopen\n",
    "        return urlopen(path).read().decode('utf8')\n",
    "    return open(path).read()"
   ]
  },
  {
   "cell_type": "code",
   "execution_count": 7,
   "metadata": {
    "execution": {
     "iopub.execute_input": "2020-12-06T12:06:48.837559Z",
     "iopub.status.busy": "2020-12-06T12:06:48.836982Z",
     "iopub.status.idle": "2020-12-06T12:06:48.839410Z",
     "shell.execute_reply": "2020-12-06T12:06:48.838897Z"
    },
    "papermill": {
     "duration": 0.035959,
     "end_time": "2020-12-06T12:06:48.839538",
     "exception": false,
     "start_time": "2020-12-06T12:06:48.803579",
     "status": "completed"
    },
    "tags": []
   },
   "outputs": [],
   "source": [
    "#hide\n",
    "def get_frame(name):\n",
    "    url = (\n",
    "        'https://raw.githubusercontent.com/CSSEGISandData/COVID-19/master/csse_covid_19_data/'\n",
    "        f'csse_covid_19_time_series/time_series_covid19_{name}_global.csv')\n",
    "    df = pd.read_csv(url)\n",
    "    # rename countries\n",
    "    df['Country/Region'] = df['Country/Region'].replace(mapping['replace.country'])\n",
    "    return df"
   ]
  },
  {
   "cell_type": "code",
   "execution_count": 8,
   "metadata": {
    "execution": {
     "iopub.execute_input": "2020-12-06T12:06:48.904406Z",
     "iopub.status.busy": "2020-12-06T12:06:48.903830Z",
     "iopub.status.idle": "2020-12-06T12:06:48.906032Z",
     "shell.execute_reply": "2020-12-06T12:06:48.905462Z"
    },
    "papermill": {
     "duration": 0.037538,
     "end_time": "2020-12-06T12:06:48.906153",
     "exception": false,
     "start_time": "2020-12-06T12:06:48.868615",
     "status": "completed"
    },
    "tags": []
   },
   "outputs": [],
   "source": [
    "#hide\n",
    "def get_dates(df):\n",
    "    dt_cols = df.columns[~df.columns.isin(['Province/State', 'Country/Region', 'Lat', 'Long'])]\n",
    "    LAST_DATE_I = -1\n",
    "    # sometimes last column may be empty, then go backwards\n",
    "    for i in range(-1, -len(dt_cols), -1):\n",
    "        if not df[dt_cols[i]].fillna(0).eq(0).all():\n",
    "            LAST_DATE_I = i\n",
    "            break\n",
    "    return LAST_DATE_I, dt_cols"
   ]
  },
  {
   "cell_type": "code",
   "execution_count": 9,
   "metadata": {
    "execution": {
     "iopub.execute_input": "2020-12-06T12:06:48.969815Z",
     "iopub.status.busy": "2020-12-06T12:06:48.969229Z",
     "iopub.status.idle": "2020-12-06T12:06:49.249928Z",
     "shell.execute_reply": "2020-12-06T12:06:49.249355Z"
    },
    "papermill": {
     "duration": 0.314808,
     "end_time": "2020-12-06T12:06:49.250066",
     "exception": false,
     "start_time": "2020-12-06T12:06:48.935258",
     "status": "completed"
    },
    "tags": []
   },
   "outputs": [],
   "source": [
    "#hide\n",
    "COL_REGION = 'Country/Region'\n",
    "# Confirmed, Recovered, Deaths\n",
    "df = get_frame('confirmed')\n",
    "# dft_: timeseries, dfc_: today country agg\n",
    "dft_cases = df\n",
    "dft_deaths = get_frame('deaths')\n",
    "dft_recovered = get_frame('recovered')\n",
    "LAST_DATE_I, dt_cols = get_dates(df)"
   ]
  },
  {
   "cell_type": "code",
   "execution_count": 10,
   "metadata": {
    "execution": {
     "iopub.execute_input": "2020-12-06T12:06:49.317088Z",
     "iopub.status.busy": "2020-12-06T12:06:49.316365Z",
     "iopub.status.idle": "2020-12-06T12:06:49.318106Z",
     "shell.execute_reply": "2020-12-06T12:06:49.317620Z"
    },
    "papermill": {
     "duration": 0.038695,
     "end_time": "2020-12-06T12:06:49.318230",
     "exception": false,
     "start_time": "2020-12-06T12:06:49.279535",
     "status": "completed"
    },
    "tags": []
   },
   "outputs": [],
   "source": [
    "#hide\n",
    "LAST_DATE_I, dt_cols = get_dates(df)\n",
    "dt_today =dt_cols[LAST_DATE_I]\n",
    "# dt_5day = dt_cols[LAST_DATE_I - 5]\n",
    "dt_yday = dt_cols[LAST_DATE_I - 1]"
   ]
  },
  {
   "cell_type": "code",
   "execution_count": 11,
   "metadata": {
    "execution": {
     "iopub.execute_input": "2020-12-06T12:06:49.383774Z",
     "iopub.status.busy": "2020-12-06T12:06:49.383233Z",
     "iopub.status.idle": "2020-12-06T12:06:49.390602Z",
     "shell.execute_reply": "2020-12-06T12:06:49.391035Z"
    },
    "papermill": {
     "duration": 0.042998,
     "end_time": "2020-12-06T12:06:49.391184",
     "exception": false,
     "start_time": "2020-12-06T12:06:49.348186",
     "status": "completed"
    },
    "tags": []
   },
   "outputs": [],
   "source": [
    "#hide\n",
    "dfc_cases = dft_cases.groupby(COL_REGION)[dt_today].sum()\n",
    "dfc_deaths = dft_deaths.groupby(COL_REGION)[dt_today].sum()\n",
    "# dfp_cases = dft_cases.groupby(COL_REGION)[dt_5day].sum()\n",
    "# dfp_deaths = dft_deaths.groupby(COL_REGION)[dt_5day].sum()\n",
    "dfp_cases = dft_cases.groupby(COL_REGION)[dt_yday].sum()\n",
    "dfp_deaths = dft_deaths.groupby(COL_REGION)[dt_yday].sum()"
   ]
  },
  {
   "cell_type": "code",
   "execution_count": 12,
   "metadata": {
    "execution": {
     "iopub.execute_input": "2020-12-06T12:06:49.458114Z",
     "iopub.status.busy": "2020-12-06T12:06:49.457089Z",
     "iopub.status.idle": "2020-12-06T12:06:49.461712Z",
     "shell.execute_reply": "2020-12-06T12:06:49.460898Z"
    },
    "papermill": {
     "duration": 0.042415,
     "end_time": "2020-12-06T12:06:49.461919",
     "exception": false,
     "start_time": "2020-12-06T12:06:49.419504",
     "status": "completed"
    },
    "tags": []
   },
   "outputs": [],
   "source": [
    "#hide\n",
    "df_table = (pd.DataFrame(dict(Cases = dfc_cases, Deaths = dfc_deaths, PCases = dfp_cases, PDeaths = dfp_deaths))\n",
    "            .sort_values(by = ['Cases','Deaths'], ascending = [False, False])\n",
    "            .reset_index())"
   ]
  },
  {
   "cell_type": "code",
   "execution_count": 13,
   "metadata": {
    "execution": {
     "iopub.execute_input": "2020-12-06T12:06:49.541389Z",
     "iopub.status.busy": "2020-12-06T12:06:49.540795Z",
     "iopub.status.idle": "2020-12-06T12:06:49.548257Z",
     "shell.execute_reply": "2020-12-06T12:06:49.548737Z"
    },
    "papermill": {
     "duration": 0.05632,
     "end_time": "2020-12-06T12:06:49.548883",
     "exception": false,
     "start_time": "2020-12-06T12:06:49.492563",
     "status": "completed"
    },
    "tags": []
   },
   "outputs": [
    {
     "data": {
      "text/html": [
       "<div>\n",
       "<style scoped>\n",
       "    .dataframe tbody tr th:only-of-type {\n",
       "        vertical-align: middle;\n",
       "    }\n",
       "\n",
       "    .dataframe tbody tr th {\n",
       "        vertical-align: top;\n",
       "    }\n",
       "\n",
       "    .dataframe thead th {\n",
       "        text-align: right;\n",
       "    }\n",
       "</style>\n",
       "<table border=\"1\" class=\"dataframe\">\n",
       "  <thead>\n",
       "    <tr style=\"text-align: right;\">\n",
       "      <th></th>\n",
       "      <th>Country/Region</th>\n",
       "      <th>Cases</th>\n",
       "      <th>Deaths</th>\n",
       "      <th>PCases</th>\n",
       "      <th>PDeaths</th>\n",
       "      <th>Cases (+)</th>\n",
       "      <th>Deaths (+)</th>\n",
       "      <th>Fatality Rate</th>\n",
       "      <th>Continent</th>\n",
       "    </tr>\n",
       "  </thead>\n",
       "  <tbody>\n",
       "    <tr>\n",
       "      <th>0</th>\n",
       "      <td>US</td>\n",
       "      <td>14581337</td>\n",
       "      <td>281186</td>\n",
       "      <td>14367462</td>\n",
       "      <td>278932</td>\n",
       "      <td>213875</td>\n",
       "      <td>2254</td>\n",
       "      <td>1.93</td>\n",
       "      <td>North America</td>\n",
       "    </tr>\n",
       "    <tr>\n",
       "      <th>1</th>\n",
       "      <td>India</td>\n",
       "      <td>9644222</td>\n",
       "      <td>140182</td>\n",
       "      <td>9608211</td>\n",
       "      <td>139700</td>\n",
       "      <td>36011</td>\n",
       "      <td>482</td>\n",
       "      <td>1.45</td>\n",
       "      <td>Asia</td>\n",
       "    </tr>\n",
       "    <tr>\n",
       "      <th>2</th>\n",
       "      <td>Brazil</td>\n",
       "      <td>6577177</td>\n",
       "      <td>176628</td>\n",
       "      <td>6533968</td>\n",
       "      <td>175964</td>\n",
       "      <td>43209</td>\n",
       "      <td>664</td>\n",
       "      <td>2.69</td>\n",
       "      <td>South America</td>\n",
       "    </tr>\n",
       "    <tr>\n",
       "      <th>3</th>\n",
       "      <td>Russia</td>\n",
       "      <td>2410462</td>\n",
       "      <td>42228</td>\n",
       "      <td>2382012</td>\n",
       "      <td>41730</td>\n",
       "      <td>28450</td>\n",
       "      <td>498</td>\n",
       "      <td>1.75</td>\n",
       "      <td>Europe</td>\n",
       "    </tr>\n",
       "    <tr>\n",
       "      <th>4</th>\n",
       "      <td>France</td>\n",
       "      <td>2334626</td>\n",
       "      <td>55073</td>\n",
       "      <td>2321703</td>\n",
       "      <td>54859</td>\n",
       "      <td>12923</td>\n",
       "      <td>214</td>\n",
       "      <td>2.36</td>\n",
       "      <td>Europe</td>\n",
       "    </tr>\n",
       "  </tbody>\n",
       "</table>\n",
       "</div>"
      ],
      "text/plain": [
       "  Country/Region     Cases  Deaths    PCases  PDeaths  Cases (+)  Deaths (+)  \\\n",
       "0             US  14581337  281186  14367462   278932     213875        2254   \n",
       "1          India   9644222  140182   9608211   139700      36011         482   \n",
       "2         Brazil   6577177  176628   6533968   175964      43209         664   \n",
       "3         Russia   2410462   42228   2382012    41730      28450         498   \n",
       "4         France   2334626   55073   2321703    54859      12923         214   \n",
       "\n",
       "   Fatality Rate      Continent  \n",
       "0           1.93  North America  \n",
       "1           1.45           Asia  \n",
       "2           2.69  South America  \n",
       "3           1.75         Europe  \n",
       "4           2.36         Europe  "
      ]
     },
     "execution_count": 13,
     "metadata": {},
     "output_type": "execute_result"
    }
   ],
   "source": [
    "#hide\n",
    "for c in 'Cases, Deaths'.split(', '):\n",
    "    df_table[f'{c} (+)'] = (df_table[c] - df_table[f'P{c}']).clip(0)\n",
    "    #Clip ça veut dire, les chiffres negatif sont interdit\n",
    "df_table['Fatality Rate'] = (100* df_table['Deaths']/ df_table['Cases']).round(2)\n",
    "df_table['Continent'] = df_table['Country/Region'].map(mapping['map.continent'])\n",
    "df_table.head(5)"
   ]
  },
  {
   "cell_type": "code",
   "execution_count": 14,
   "metadata": {
    "execution": {
     "iopub.execute_input": "2020-12-06T12:06:49.615342Z",
     "iopub.status.busy": "2020-12-06T12:06:49.614685Z",
     "iopub.status.idle": "2020-12-06T12:06:49.616713Z",
     "shell.execute_reply": "2020-12-06T12:06:49.617160Z"
    },
    "papermill": {
     "duration": 0.039013,
     "end_time": "2020-12-06T12:06:49.617307",
     "exception": false,
     "start_time": "2020-12-06T12:06:49.578294",
     "status": "completed"
    },
    "tags": []
   },
   "outputs": [],
   "source": [
    "#hide\n",
    "#delete problematic countries from table\n",
    "df_table = df_table[~df_table['Country/Region'].isin(['Cape Verde', 'Cruise Ship', 'Kosovo'])]"
   ]
  },
  {
   "cell_type": "code",
   "execution_count": 15,
   "metadata": {
    "execution": {
     "iopub.execute_input": "2020-12-06T12:06:49.684158Z",
     "iopub.status.busy": "2020-12-06T12:06:49.683603Z",
     "iopub.status.idle": "2020-12-06T12:06:49.705870Z",
     "shell.execute_reply": "2020-12-06T12:06:49.705379Z"
    },
    "papermill": {
     "duration": 0.059571,
     "end_time": "2020-12-06T12:06:49.705991",
     "exception": false,
     "start_time": "2020-12-06T12:06:49.646420",
     "status": "completed"
    },
    "tags": []
   },
   "outputs": [
    {
     "data": {
      "text/html": [
       "<div>\n",
       "<style scoped>\n",
       "    .dataframe tbody tr th:only-of-type {\n",
       "        vertical-align: middle;\n",
       "    }\n",
       "\n",
       "    .dataframe tbody tr th {\n",
       "        vertical-align: top;\n",
       "    }\n",
       "\n",
       "    .dataframe thead th {\n",
       "        text-align: right;\n",
       "    }\n",
       "</style>\n",
       "<table border=\"1\" class=\"dataframe\">\n",
       "  <thead>\n",
       "    <tr style=\"text-align: right;\">\n",
       "      <th></th>\n",
       "      <th>Country/Region</th>\n",
       "      <th>Cases</th>\n",
       "      <th>Deaths</th>\n",
       "      <th>PCases</th>\n",
       "      <th>PDeaths</th>\n",
       "      <th>Cases (+)</th>\n",
       "      <th>Deaths (+)</th>\n",
       "      <th>Fatality Rate</th>\n",
       "      <th>Continent</th>\n",
       "    </tr>\n",
       "  </thead>\n",
       "  <tbody>\n",
       "    <tr>\n",
       "      <th>0</th>\n",
       "      <td>US</td>\n",
       "      <td>14581337</td>\n",
       "      <td>281186</td>\n",
       "      <td>14367462</td>\n",
       "      <td>278932</td>\n",
       "      <td>213875</td>\n",
       "      <td>2254</td>\n",
       "      <td>1.9</td>\n",
       "      <td>North America</td>\n",
       "    </tr>\n",
       "    <tr>\n",
       "      <th>1</th>\n",
       "      <td>India</td>\n",
       "      <td>9644222</td>\n",
       "      <td>140182</td>\n",
       "      <td>9608211</td>\n",
       "      <td>139700</td>\n",
       "      <td>36011</td>\n",
       "      <td>482</td>\n",
       "      <td>1.5</td>\n",
       "      <td>Asia</td>\n",
       "    </tr>\n",
       "    <tr>\n",
       "      <th>2</th>\n",
       "      <td>Brazil</td>\n",
       "      <td>6577177</td>\n",
       "      <td>176628</td>\n",
       "      <td>6533968</td>\n",
       "      <td>175964</td>\n",
       "      <td>43209</td>\n",
       "      <td>664</td>\n",
       "      <td>2.7</td>\n",
       "      <td>South America</td>\n",
       "    </tr>\n",
       "    <tr>\n",
       "      <th>3</th>\n",
       "      <td>Russia</td>\n",
       "      <td>2410462</td>\n",
       "      <td>42228</td>\n",
       "      <td>2382012</td>\n",
       "      <td>41730</td>\n",
       "      <td>28450</td>\n",
       "      <td>498</td>\n",
       "      <td>1.8</td>\n",
       "      <td>Europe</td>\n",
       "    </tr>\n",
       "    <tr>\n",
       "      <th>4</th>\n",
       "      <td>France</td>\n",
       "      <td>2334626</td>\n",
       "      <td>55073</td>\n",
       "      <td>2321703</td>\n",
       "      <td>54859</td>\n",
       "      <td>12923</td>\n",
       "      <td>214</td>\n",
       "      <td>2.4</td>\n",
       "      <td>Europe</td>\n",
       "    </tr>\n",
       "  </tbody>\n",
       "</table>\n",
       "</div>"
      ],
      "text/plain": [
       "  Country/Region     Cases  Deaths    PCases  PDeaths  Cases (+)  Deaths (+)  \\\n",
       "0             US  14581337  281186  14367462   278932     213875        2254   \n",
       "1          India   9644222  140182   9608211   139700      36011         482   \n",
       "2         Brazil   6577177  176628   6533968   175964      43209         664   \n",
       "3         Russia   2410462   42228   2382012    41730      28450         498   \n",
       "4         France   2334626   55073   2321703    54859      12923         214   \n",
       "\n",
       "   Fatality Rate      Continent  \n",
       "0            1.9  North America  \n",
       "1            1.5           Asia  \n",
       "2            2.7  South America  \n",
       "3            1.8         Europe  \n",
       "4            2.4         Europe  "
      ]
     },
     "execution_count": 15,
     "metadata": {},
     "output_type": "execute_result"
    }
   ],
   "source": [
    "#hide\n",
    "df_table = (pd.DataFrame(dict(Cases=dfc_cases, Deaths=dfc_deaths, PCases=dfp_cases, PDeaths=dfp_deaths))\n",
    "             .sort_values(by=['Cases', 'Deaths'], ascending=[False, False])\n",
    "             .reset_index())\n",
    "df_table.rename(columns={'index': 'Country/Region'}, inplace=True)\n",
    "for c in 'Cases, Deaths'.split(', '):\n",
    "    df_table[f'{c} (+)'] = (df_table[c] - df_table[f'P{c}']).clip(0)  # DATA BUG\n",
    "df_table['Fatality Rate'] = (100 * df_table['Deaths'] / df_table['Cases']).round(1)\n",
    "df_table['Continent'] = df_table['Country/Region'].map(mapping['map.continent'])\n",
    "df_table.head(5)"
   ]
  },
  {
   "cell_type": "code",
   "execution_count": 16,
   "metadata": {
    "execution": {
     "iopub.execute_input": "2020-12-06T12:06:49.773411Z",
     "iopub.status.busy": "2020-12-06T12:06:49.772877Z",
     "iopub.status.idle": "2020-12-06T12:06:49.775512Z",
     "shell.execute_reply": "2020-12-06T12:06:49.774990Z"
    },
    "papermill": {
     "duration": 0.03874,
     "end_time": "2020-12-06T12:06:49.775639",
     "exception": false,
     "start_time": "2020-12-06T12:06:49.736899",
     "status": "completed"
    },
    "tags": []
   },
   "outputs": [],
   "source": [
    "#hide\n",
    "#delete problematic countries from table\n",
    "df_table = df_table[~df_table['Country/Region'].isin(['Cape Verde', 'Cruise Ship', 'Kosovo'])]"
   ]
  },
  {
   "cell_type": "code",
   "execution_count": 17,
   "metadata": {
    "execution": {
     "iopub.execute_input": "2020-12-06T12:06:49.849842Z",
     "iopub.status.busy": "2020-12-06T12:06:49.839357Z",
     "iopub.status.idle": "2020-12-06T12:06:49.859560Z",
     "shell.execute_reply": "2020-12-06T12:06:49.859038Z"
    },
    "papermill": {
     "duration": 0.053959,
     "end_time": "2020-12-06T12:06:49.859681",
     "exception": false,
     "start_time": "2020-12-06T12:06:49.805722",
     "status": "completed"
    },
    "tags": []
   },
   "outputs": [],
   "source": [
    "#hide\n",
    "metrics = [df_table.columns[index] for index in [1,2,5,6]]\n",
    "# s_china = df_table[df_table['Country/Region'].eq('China')][metrics].sum().add_prefix('China ')\n",
    "s_us = df_table[df_table['Country/Region'].eq('US')][metrics].sum().add_prefix('US ')\n",
    "s_eu = df_table[df_table['Continent'].eq('Europe')][metrics].sum().add_prefix('EU ')\n",
    "s_ind = df_table[df_table['Country/Region'].eq('India')][metrics].sum().add_prefix('India ')\n",
    "summary = {'updated': pd.to_datetime(dt_today), 'since': pd.to_datetime(dt_yday)}\n",
    "summary = {'updated': pd.to_datetime(dt_today), 'since': pd.to_datetime(dt_yday)}\n",
    "summary = {**summary, **df_table[metrics].sum(), **s_ind, **s_us, **s_eu}"
   ]
  },
  {
   "cell_type": "code",
   "execution_count": 18,
   "metadata": {
    "execution": {
     "iopub.execute_input": "2020-12-06T12:06:49.928696Z",
     "iopub.status.busy": "2020-12-06T12:06:49.928119Z",
     "iopub.status.idle": "2020-12-06T12:06:49.937212Z",
     "shell.execute_reply": "2020-12-06T12:06:49.937752Z"
    },
    "papermill": {
     "duration": 0.046222,
     "end_time": "2020-12-06T12:06:49.937910",
     "exception": false,
     "start_time": "2020-12-06T12:06:49.891688",
     "status": "completed"
    },
    "tags": []
   },
   "outputs": [],
   "source": [
    "#hide\n",
    "dft_ct_new_cases = dft_cases.groupby(COL_REGION)[dt_cols].sum().diff(axis=1).fillna(0).astype(int)"
   ]
  },
  {
   "cell_type": "code",
   "execution_count": 19,
   "metadata": {
    "execution": {
     "iopub.execute_input": "2020-12-06T12:06:50.011180Z",
     "iopub.status.busy": "2020-12-06T12:06:50.010577Z",
     "iopub.status.idle": "2020-12-06T12:06:50.013306Z",
     "shell.execute_reply": "2020-12-06T12:06:50.012815Z"
    },
    "papermill": {
     "duration": 0.041572,
     "end_time": "2020-12-06T12:06:50.013428",
     "exception": false,
     "start_time": "2020-12-06T12:06:49.971856",
     "status": "completed"
    },
    "tags": []
   },
   "outputs": [],
   "source": [
    "#hide\n",
    "everydaycases = dft_ct_new_cases.cumsum(axis=1)"
   ]
  },
  {
   "cell_type": "code",
   "execution_count": 20,
   "metadata": {
    "execution": {
     "iopub.execute_input": "2020-12-06T12:06:50.083328Z",
     "iopub.status.busy": "2020-12-06T12:06:50.082619Z",
     "iopub.status.idle": "2020-12-06T12:06:51.085668Z",
     "shell.execute_reply": "2020-12-06T12:06:51.085149Z"
    },
    "papermill": {
     "duration": 1.040994,
     "end_time": "2020-12-06T12:06:51.085810",
     "exception": false,
     "start_time": "2020-12-06T12:06:50.044816",
     "status": "completed"
    },
    "tags": []
   },
   "outputs": [],
   "source": [
    "#hide\n",
    "import pandas as pd\n",
    "import matplotlib.pyplot as plt\n",
    "import matplotlib.ticker as ticker\n",
    "import matplotlib.animation as animation\n",
    "from IPython.display import HTML"
   ]
  },
  {
   "cell_type": "code",
   "execution_count": 21,
   "metadata": {
    "execution": {
     "iopub.execute_input": "2020-12-06T12:06:51.153634Z",
     "iopub.status.busy": "2020-12-06T12:06:51.153092Z",
     "iopub.status.idle": "2020-12-06T12:06:51.159530Z",
     "shell.execute_reply": "2020-12-06T12:06:51.159024Z"
    },
    "papermill": {
     "duration": 0.042868,
     "end_time": "2020-12-06T12:06:51.159660",
     "exception": false,
     "start_time": "2020-12-06T12:06:51.116792",
     "status": "completed"
    },
    "tags": []
   },
   "outputs": [],
   "source": [
    "#hide\n",
    "t = everydaycases.stack()"
   ]
  },
  {
   "cell_type": "code",
   "execution_count": 22,
   "metadata": {
    "execution": {
     "iopub.execute_input": "2020-12-06T12:06:51.227727Z",
     "iopub.status.busy": "2020-12-06T12:06:51.227118Z",
     "iopub.status.idle": "2020-12-06T12:06:51.233895Z",
     "shell.execute_reply": "2020-12-06T12:06:51.233426Z"
    },
    "papermill": {
     "duration": 0.043038,
     "end_time": "2020-12-06T12:06:51.234023",
     "exception": false,
     "start_time": "2020-12-06T12:06:51.190985",
     "status": "completed"
    },
    "tags": []
   },
   "outputs": [],
   "source": [
    "#hide\n",
    "g = t.reset_index(['Country/Region'])"
   ]
  },
  {
   "cell_type": "code",
   "execution_count": 23,
   "metadata": {
    "execution": {
     "iopub.execute_input": "2020-12-06T12:06:51.298792Z",
     "iopub.status.busy": "2020-12-06T12:06:51.298103Z",
     "iopub.status.idle": "2020-12-06T12:06:51.299489Z",
     "shell.execute_reply": "2020-12-06T12:06:51.300035Z"
    },
    "papermill": {
     "duration": 0.036387,
     "end_time": "2020-12-06T12:06:51.300174",
     "exception": false,
     "start_time": "2020-12-06T12:06:51.263787",
     "status": "completed"
    },
    "tags": []
   },
   "outputs": [],
   "source": [
    "#hide\n",
    "g.index.name = 'date'"
   ]
  },
  {
   "cell_type": "code",
   "execution_count": 24,
   "metadata": {
    "execution": {
     "iopub.execute_input": "2020-12-06T12:06:51.365052Z",
     "iopub.status.busy": "2020-12-06T12:06:51.364526Z",
     "iopub.status.idle": "2020-12-06T12:06:51.366711Z",
     "shell.execute_reply": "2020-12-06T12:06:51.367206Z"
    },
    "papermill": {
     "duration": 0.03648,
     "end_time": "2020-12-06T12:06:51.367341",
     "exception": false,
     "start_time": "2020-12-06T12:06:51.330861",
     "status": "completed"
    },
    "tags": []
   },
   "outputs": [],
   "source": [
    "# #hide\n",
    "# g = g.reset_index(['date'])"
   ]
  },
  {
   "cell_type": "code",
   "execution_count": 25,
   "metadata": {
    "execution": {
     "iopub.execute_input": "2020-12-06T12:06:51.434418Z",
     "iopub.status.busy": "2020-12-06T12:06:51.433852Z",
     "iopub.status.idle": "2020-12-06T12:06:51.436206Z",
     "shell.execute_reply": "2020-12-06T12:06:51.435733Z"
    },
    "papermill": {
     "duration": 0.036271,
     "end_time": "2020-12-06T12:06:51.436334",
     "exception": false,
     "start_time": "2020-12-06T12:06:51.400063",
     "status": "completed"
    },
    "tags": []
   },
   "outputs": [],
   "source": [
    "#hide\n",
    "# g.head()"
   ]
  },
  {
   "cell_type": "code",
   "execution_count": 26,
   "metadata": {
    "execution": {
     "iopub.execute_input": "2020-12-06T12:06:51.501436Z",
     "iopub.status.busy": "2020-12-06T12:06:51.500850Z",
     "iopub.status.idle": "2020-12-06T12:06:51.504194Z",
     "shell.execute_reply": "2020-12-06T12:06:51.503723Z"
    },
    "papermill": {
     "duration": 0.037822,
     "end_time": "2020-12-06T12:06:51.504324",
     "exception": false,
     "start_time": "2020-12-06T12:06:51.466502",
     "status": "completed"
    },
    "tags": []
   },
   "outputs": [],
   "source": [
    "#hide\n",
    "# g.columns = ['date','country','cases']"
   ]
  },
  {
   "cell_type": "code",
   "execution_count": 27,
   "metadata": {
    "execution": {
     "iopub.execute_input": "2020-12-06T12:06:51.567248Z",
     "iopub.status.busy": "2020-12-06T12:06:51.566651Z",
     "iopub.status.idle": "2020-12-06T12:06:51.568931Z",
     "shell.execute_reply": "2020-12-06T12:06:51.568433Z"
    },
    "papermill": {
     "duration": 0.036238,
     "end_time": "2020-12-06T12:06:51.569052",
     "exception": false,
     "start_time": "2020-12-06T12:06:51.532814",
     "status": "completed"
    },
    "tags": []
   },
   "outputs": [],
   "source": [
    "#hide\n",
    "# g['continent'] = g.country"
   ]
  },
  {
   "cell_type": "code",
   "execution_count": 28,
   "metadata": {
    "execution": {
     "iopub.execute_input": "2020-12-06T12:06:51.634363Z",
     "iopub.status.busy": "2020-12-06T12:06:51.633797Z",
     "iopub.status.idle": "2020-12-06T12:06:51.635729Z",
     "shell.execute_reply": "2020-12-06T12:06:51.636194Z"
    },
    "papermill": {
     "duration": 0.036672,
     "end_time": "2020-12-06T12:06:51.636336",
     "exception": false,
     "start_time": "2020-12-06T12:06:51.599664",
     "status": "completed"
    },
    "tags": []
   },
   "outputs": [],
   "source": [
    "#hide\n",
    "# cols = list(g.columns.values)"
   ]
  },
  {
   "cell_type": "code",
   "execution_count": 29,
   "metadata": {
    "execution": {
     "iopub.execute_input": "2020-12-06T12:06:51.701102Z",
     "iopub.status.busy": "2020-12-06T12:06:51.700532Z",
     "iopub.status.idle": "2020-12-06T12:06:51.702940Z",
     "shell.execute_reply": "2020-12-06T12:06:51.703516Z"
    },
    "papermill": {
     "duration": 0.037207,
     "end_time": "2020-12-06T12:06:51.703655",
     "exception": false,
     "start_time": "2020-12-06T12:06:51.666448",
     "status": "completed"
    },
    "tags": []
   },
   "outputs": [],
   "source": [
    "#hide\n",
    "# cols.insert(0, cols.pop())"
   ]
  },
  {
   "cell_type": "code",
   "execution_count": 30,
   "metadata": {
    "execution": {
     "iopub.execute_input": "2020-12-06T12:06:51.774610Z",
     "iopub.status.busy": "2020-12-06T12:06:51.774001Z",
     "iopub.status.idle": "2020-12-06T12:06:51.775476Z",
     "shell.execute_reply": "2020-12-06T12:06:51.776021Z"
    },
    "papermill": {
     "duration": 0.040518,
     "end_time": "2020-12-06T12:06:51.777016",
     "exception": false,
     "start_time": "2020-12-06T12:06:51.736498",
     "status": "completed"
    },
    "tags": []
   },
   "outputs": [],
   "source": [
    "#hide\n",
    "# g = g[cols]"
   ]
  },
  {
   "cell_type": "code",
   "execution_count": 31,
   "metadata": {
    "execution": {
     "iopub.execute_input": "2020-12-06T12:06:51.852341Z",
     "iopub.status.busy": "2020-12-06T12:06:51.851764Z",
     "iopub.status.idle": "2020-12-06T12:06:51.854850Z",
     "shell.execute_reply": "2020-12-06T12:06:51.854386Z"
    },
    "papermill": {
     "duration": 0.045246,
     "end_time": "2020-12-06T12:06:51.854975",
     "exception": false,
     "start_time": "2020-12-06T12:06:51.809729",
     "status": "completed"
    },
    "tags": []
   },
   "outputs": [],
   "source": [
    "#hide\n",
    "# g['continent'] = g['continent'].map(mapping['map.continent'])"
   ]
  },
  {
   "cell_type": "code",
   "execution_count": 32,
   "metadata": {
    "execution": {
     "iopub.execute_input": "2020-12-06T12:06:51.921492Z",
     "iopub.status.busy": "2020-12-06T12:06:51.920713Z",
     "iopub.status.idle": "2020-12-06T12:06:51.923548Z",
     "shell.execute_reply": "2020-12-06T12:06:51.924166Z"
    },
    "papermill": {
     "duration": 0.038156,
     "end_time": "2020-12-06T12:06:51.924354",
     "exception": false,
     "start_time": "2020-12-06T12:06:51.886198",
     "status": "completed"
    },
    "tags": []
   },
   "outputs": [],
   "source": [
    "#hide\n",
    "# g.head()"
   ]
  },
  {
   "cell_type": "code",
   "execution_count": 33,
   "metadata": {
    "execution": {
     "iopub.execute_input": "2020-12-06T12:06:51.992767Z",
     "iopub.status.busy": "2020-12-06T12:06:51.992231Z",
     "iopub.status.idle": "2020-12-06T12:06:51.994671Z",
     "shell.execute_reply": "2020-12-06T12:06:51.995232Z"
    },
    "papermill": {
     "duration": 0.036594,
     "end_time": "2020-12-06T12:06:51.995393",
     "exception": false,
     "start_time": "2020-12-06T12:06:51.958799",
     "status": "completed"
    },
    "tags": []
   },
   "outputs": [],
   "source": [
    "# hide\n",
    "# g['date'] = g['date'].astype('datetime64[ns]')"
   ]
  },
  {
   "cell_type": "code",
   "execution_count": 34,
   "metadata": {
    "execution": {
     "iopub.execute_input": "2020-12-06T12:06:52.060780Z",
     "iopub.status.busy": "2020-12-06T12:06:52.060210Z",
     "iopub.status.idle": "2020-12-06T12:06:52.062364Z",
     "shell.execute_reply": "2020-12-06T12:06:52.061803Z"
    },
    "papermill": {
     "duration": 0.037178,
     "end_time": "2020-12-06T12:06:52.062484",
     "exception": false,
     "start_time": "2020-12-06T12:06:52.025306",
     "status": "completed"
    },
    "tags": []
   },
   "outputs": [],
   "source": [
    "#hide\n",
    "# g['date'] = g.date.dt.dayofyear"
   ]
  },
  {
   "cell_type": "code",
   "execution_count": 35,
   "metadata": {
    "execution": {
     "iopub.execute_input": "2020-12-06T12:06:52.128213Z",
     "iopub.status.busy": "2020-12-06T12:06:52.127685Z",
     "iopub.status.idle": "2020-12-06T12:06:52.130032Z",
     "shell.execute_reply": "2020-12-06T12:06:52.130586Z"
    },
    "papermill": {
     "duration": 0.037157,
     "end_time": "2020-12-06T12:06:52.130722",
     "exception": false,
     "start_time": "2020-12-06T12:06:52.093565",
     "status": "completed"
    },
    "tags": []
   },
   "outputs": [],
   "source": [
    "#hide\n",
    "# g = g.rename(columns= {'continent':'group','country':'name','cases':'value'})"
   ]
  },
  {
   "cell_type": "code",
   "execution_count": 36,
   "metadata": {
    "execution": {
     "iopub.execute_input": "2020-12-06T12:06:52.194199Z",
     "iopub.status.busy": "2020-12-06T12:06:52.193629Z",
     "iopub.status.idle": "2020-12-06T12:06:52.196012Z",
     "shell.execute_reply": "2020-12-06T12:06:52.195583Z"
    },
    "papermill": {
     "duration": 0.035214,
     "end_time": "2020-12-06T12:06:52.196127",
     "exception": false,
     "start_time": "2020-12-06T12:06:52.160913",
     "status": "completed"
    },
    "tags": []
   },
   "outputs": [],
   "source": [
    "#hide\n",
    "# cols = ['name','group','day','value']"
   ]
  },
  {
   "cell_type": "code",
   "execution_count": 37,
   "metadata": {
    "execution": {
     "iopub.execute_input": "2020-12-06T12:06:52.259078Z",
     "iopub.status.busy": "2020-12-06T12:06:52.258550Z",
     "iopub.status.idle": "2020-12-06T12:06:52.260973Z",
     "shell.execute_reply": "2020-12-06T12:06:52.261570Z"
    },
    "papermill": {
     "duration": 0.036233,
     "end_time": "2020-12-06T12:06:52.261703",
     "exception": false,
     "start_time": "2020-12-06T12:06:52.225470",
     "status": "completed"
    },
    "tags": []
   },
   "outputs": [],
   "source": [
    "#hide\n",
    "# g.rename(columns= {'date':'day'},inplace = True)"
   ]
  },
  {
   "cell_type": "code",
   "execution_count": 38,
   "metadata": {
    "execution": {
     "iopub.execute_input": "2020-12-06T12:06:52.325575Z",
     "iopub.status.busy": "2020-12-06T12:06:52.325047Z",
     "iopub.status.idle": "2020-12-06T12:06:52.327704Z",
     "shell.execute_reply": "2020-12-06T12:06:52.327270Z"
    },
    "papermill": {
     "duration": 0.036113,
     "end_time": "2020-12-06T12:06:52.327819",
     "exception": false,
     "start_time": "2020-12-06T12:06:52.291706",
     "status": "completed"
    },
    "tags": []
   },
   "outputs": [],
   "source": [
    "#hide\n",
    "# g = g[cols]"
   ]
  },
  {
   "cell_type": "code",
   "execution_count": 39,
   "metadata": {
    "execution": {
     "iopub.execute_input": "2020-12-06T12:06:52.391508Z",
     "iopub.status.busy": "2020-12-06T12:06:52.390910Z",
     "iopub.status.idle": "2020-12-06T12:06:52.393383Z",
     "shell.execute_reply": "2020-12-06T12:06:52.393920Z"
    },
    "papermill": {
     "duration": 0.036845,
     "end_time": "2020-12-06T12:06:52.394046",
     "exception": false,
     "start_time": "2020-12-06T12:06:52.357201",
     "status": "completed"
    },
    "tags": []
   },
   "outputs": [],
   "source": [
    "# #hide\n",
    "# g = g[g.group.notna()]"
   ]
  },
  {
   "cell_type": "code",
   "execution_count": 40,
   "metadata": {
    "execution": {
     "iopub.execute_input": "2020-12-06T12:06:52.457633Z",
     "iopub.status.busy": "2020-12-06T12:06:52.457053Z",
     "iopub.status.idle": "2020-12-06T12:06:52.459837Z",
     "shell.execute_reply": "2020-12-06T12:06:52.460378Z"
    },
    "papermill": {
     "duration": 0.037458,
     "end_time": "2020-12-06T12:06:52.460513",
     "exception": false,
     "start_time": "2020-12-06T12:06:52.423055",
     "status": "completed"
    },
    "tags": []
   },
   "outputs": [],
   "source": [
    "# #hide\n",
    "# colors = dict(zip(\n",
    "#     [\"Oceania\", \"Europe\", \"Asia\", \"South America\", \"Middle East\", \"North America\", \"Africa\"],\n",
    "#     [\"#adb0ff\", \"#ffb3ff\", \"#90d595\", \"#e48381\", \"#aafbff\", \"#f7bb5f\", \"#eafb50\"]\n",
    "# ))\n",
    "# group_lk = g.set_index('name')['group'].to_dict()"
   ]
  },
  {
   "cell_type": "code",
   "execution_count": null,
   "metadata": {
    "papermill": {
     "duration": 0.030207,
     "end_time": "2020-12-06T12:06:52.520042",
     "exception": false,
     "start_time": "2020-12-06T12:06:52.489835",
     "status": "completed"
    },
    "tags": []
   },
   "outputs": [],
   "source": []
  },
  {
   "cell_type": "code",
   "execution_count": 41,
   "metadata": {
    "execution": {
     "iopub.execute_input": "2020-12-06T12:06:52.583194Z",
     "iopub.status.busy": "2020-12-06T12:06:52.582581Z",
     "iopub.status.idle": "2020-12-06T12:06:52.584529Z",
     "shell.execute_reply": "2020-12-06T12:06:52.585038Z"
    },
    "papermill": {
     "duration": 0.036048,
     "end_time": "2020-12-06T12:06:52.585165",
     "exception": false,
     "start_time": "2020-12-06T12:06:52.549117",
     "status": "completed"
    },
    "tags": []
   },
   "outputs": [],
   "source": [
    "# #hide\n",
    "# fig, ax = plt.subplots(figsize=(15, 8))\n",
    "\n",
    "# def draw_barchart(current_day):\n",
    "#     dff = g[g['day'].eq(current_day)].sort_values(by='value', ascending=True).tail(10)\n",
    "#     ax.clear()\n",
    "#     ax.barh(dff['name'], dff['value'], color=[colors[group_lk[x]] for x in dff['name']])\n",
    "#     dx = dff['value'].max() / 200\n",
    "    \n",
    "#     for i, (value, name) in enumerate(zip(dff['value'], dff['name'])):\n",
    "#         ax.text(value-dx, i,     name,           size=14, weight=600, ha='right', va='bottom')\n",
    "#         ax.text(value-dx, i-.25, group_lk[name], size=10, color='#444444', ha='right', va='baseline')\n",
    "#         ax.text(value+dx, i,     f'{value:,.0f}',  size=14, ha='left',  va='center')\n",
    "#     ax.text(1, 0.4, current_day, transform=ax.transAxes, color='#777777', size=46, ha='right', weight=800)\n",
    "#     ax.text(0, 1.06, 'Population (thousands)', transform=ax.transAxes, size=12, color='#777777')\n",
    "#     ax.xaxis.set_major_formatter(ticker.StrMethodFormatter('{x:,.0f}'))\n",
    "#     ax.xaxis.set_ticks_position('top')\n",
    "#     ax.tick_params(axis='x', colors='#777777', labelsize=12)\n",
    "#     ax.set_yticks([])\n",
    "#     ax.margins(0, 0.01)\n",
    "#     ax.grid(which='major', axis='x', linestyle='-')\n",
    "#     ax.set_axisbelow(True)\n",
    "    \n",
    "#     ax.text(0, 1.15, 'Coronavirus',\n",
    "#             transform=ax.transAxes, size=24, weight=600, ha='left', va='top')\n",
    "# #     ax.text(1, 0, 'by @pratapvardhan; credit @jburnmurdoch', transform=ax.transAxes, color='#777777', ha='right',\n",
    "# #             bbox=dict(facecolor='white', alpha=0.8, edgecolor='white'))\n",
    "#     plt.box(False)"
   ]
  },
  {
   "cell_type": "code",
   "execution_count": 42,
   "metadata": {
    "execution": {
     "iopub.execute_input": "2020-12-06T12:06:52.648882Z",
     "iopub.status.busy": "2020-12-06T12:06:52.648336Z",
     "iopub.status.idle": "2020-12-06T12:06:52.650654Z",
     "shell.execute_reply": "2020-12-06T12:06:52.651121Z"
    },
    "papermill": {
     "duration": 0.03581,
     "end_time": "2020-12-06T12:06:52.651269",
     "exception": false,
     "start_time": "2020-12-06T12:06:52.615459",
     "status": "completed"
    },
    "tags": []
   },
   "outputs": [],
   "source": [
    "# #hide_input\n",
    "# fig, ax = plt.subplots(figsize=(15, 8))\n",
    "# animator = animation.FuncAnimation(fig, draw_barchart, frames=range(g.day.values.min(), g.day.values.max()))\n",
    "# HTML(animator.to_jshtml())\n",
    "# # or use animator.to_html5_video() or animator.save() "
   ]
  },
  {
   "cell_type": "code",
   "execution_count": null,
   "metadata": {
    "papermill": {
     "duration": 0.029436,
     "end_time": "2020-12-06T12:06:52.710232",
     "exception": false,
     "start_time": "2020-12-06T12:06:52.680796",
     "status": "completed"
    },
    "tags": []
   },
   "outputs": [],
   "source": []
  },
  {
   "cell_type": "code",
   "execution_count": null,
   "metadata": {
    "papermill": {
     "duration": 0.029983,
     "end_time": "2020-12-06T12:06:52.769399",
     "exception": false,
     "start_time": "2020-12-06T12:06:52.739416",
     "status": "completed"
    },
    "tags": []
   },
   "outputs": [],
   "source": []
  },
  {
   "cell_type": "code",
   "execution_count": null,
   "metadata": {
    "papermill": {
     "duration": 0.030002,
     "end_time": "2020-12-06T12:06:52.829712",
     "exception": false,
     "start_time": "2020-12-06T12:06:52.799710",
     "status": "completed"
    },
    "tags": []
   },
   "outputs": [],
   "source": []
  }
 ],
 "metadata": {
  "kernelspec": {
   "display_name": "Python 3",
   "language": "python",
   "name": "python3"
  },
  "language_info": {
   "codemirror_mode": {
    "name": "ipython",
    "version": 3
   },
   "file_extension": ".py",
   "mimetype": "text/x-python",
   "name": "python",
   "nbconvert_exporter": "python",
   "pygments_lexer": "ipython3",
   "version": "3.6.12"
  },
  "papermill": {
   "duration": 6.330829,
   "end_time": "2020-12-06T12:06:53.168348",
   "environment_variables": {},
   "exception": null,
   "input_path": "2020-03-21-covid19exp.ipynb",
   "output_path": "2020-03-21-covid19exp.ipynb",
   "parameters": {},
   "start_time": "2020-12-06T12:06:46.837519",
   "version": "2.0.0"
  }
 },
 "nbformat": 4,
 "nbformat_minor": 4
}