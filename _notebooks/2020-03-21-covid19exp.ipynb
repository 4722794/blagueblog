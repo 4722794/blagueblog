{
 "cells": [
  {
   "cell_type": "markdown",
   "id": "muslim-click",
   "metadata": {
    "papermill": {
     "duration": 0.044665,
     "end_time": "2021-06-05T00:44:50.414622",
     "exception": false,
     "start_time": "2021-06-05T00:44:50.369957",
     "status": "completed"
    },
    "tags": []
   },
   "source": [
    "# COVID-19 Case Race\n",
    "> A race chart to see rising cases around the world\n",
    "\n",
    "- author: Hargun Oberoi\n",
    "- image: images/covid-overview.png\n",
    "- hide: false\n",
    "- badges: false"
   ]
  },
  {
   "cell_type": "code",
   "execution_count": 1,
   "id": "proof-material",
   "metadata": {
    "execution": {
     "iopub.execute_input": "2021-06-05T00:44:50.501294Z",
     "iopub.status.busy": "2021-06-05T00:44:50.500684Z",
     "iopub.status.idle": "2021-06-05T00:44:50.866474Z",
     "shell.execute_reply": "2021-06-05T00:44:50.865914Z"
    },
    "papermill": {
     "duration": 0.413475,
     "end_time": "2021-06-05T00:44:50.866688",
     "exception": false,
     "start_time": "2021-06-05T00:44:50.453213",
     "status": "completed"
    },
    "tags": []
   },
   "outputs": [],
   "source": [
    "#hide\n",
    "import numpy as np\n",
    "import pandas as pd\n",
    "from jinja2 import Template\n",
    "from IPython.display import HTML"
   ]
  },
  {
   "cell_type": "code",
   "execution_count": 2,
   "id": "developed-terminology",
   "metadata": {
    "execution": {
     "iopub.execute_input": "2021-06-05T00:44:50.947166Z",
     "iopub.status.busy": "2021-06-05T00:44:50.946551Z",
     "iopub.status.idle": "2021-06-05T00:44:50.948931Z",
     "shell.execute_reply": "2021-06-05T00:44:50.949580Z"
    },
    "papermill": {
     "duration": 0.046517,
     "end_time": "2021-06-05T00:44:50.949717",
     "exception": false,
     "start_time": "2021-06-05T00:44:50.903200",
     "status": "completed"
    },
    "tags": []
   },
   "outputs": [],
   "source": [
    "#hide\n",
    "\n",
    "# FETCH\n",
    "base_url = 'https://raw.githubusercontent.com/pratapvardhan/notebooks/master/covid19/'\n",
    "paths = {\n",
    "    'mapping': base_url + 'mapping_countries.csv',\n",
    "    'overview': base_url + 'overview.tpl'\n",
    "}"
   ]
  },
  {
   "cell_type": "code",
   "execution_count": 3,
   "id": "dynamic-saver",
   "metadata": {
    "execution": {
     "iopub.execute_input": "2021-06-05T00:44:51.035760Z",
     "iopub.status.busy": "2021-06-05T00:44:51.035080Z",
     "iopub.status.idle": "2021-06-05T00:44:51.037968Z",
     "shell.execute_reply": "2021-06-05T00:44:51.038770Z"
    },
    "papermill": {
     "duration": 0.051858,
     "end_time": "2021-06-05T00:44:51.038938",
     "exception": false,
     "start_time": "2021-06-05T00:44:50.987080",
     "status": "completed"
    },
    "tags": []
   },
   "outputs": [
    {
     "data": {
      "text/plain": [
       "'https://raw.githubusercontent.com/pratapvardhan/notebooks/master/covid19/mapping_countries.csv'"
      ]
     },
     "execution_count": 3,
     "metadata": {},
     "output_type": "execute_result"
    }
   ],
   "source": [
    "#hide\n",
    "paths['mapping']"
   ]
  },
  {
   "cell_type": "code",
   "execution_count": 4,
   "id": "urban-software",
   "metadata": {
    "execution": {
     "iopub.execute_input": "2021-06-05T00:44:51.125449Z",
     "iopub.status.busy": "2021-06-05T00:44:51.124832Z",
     "iopub.status.idle": "2021-06-05T00:44:51.127484Z",
     "shell.execute_reply": "2021-06-05T00:44:51.126959Z"
    },
    "papermill": {
     "duration": 0.048737,
     "end_time": "2021-06-05T00:44:51.127609",
     "exception": false,
     "start_time": "2021-06-05T00:44:51.078872",
     "status": "completed"
    },
    "tags": []
   },
   "outputs": [],
   "source": [
    "#hide\n",
    "def get_mappings(url):\n",
    "    df = pd.read_csv(url)\n",
    "    return {\n",
    "        'df': df,\n",
    "        'replace.country': dict(df.dropna(subset=['Name']).set_index('Country')['Name']),\n",
    "        'map.continent': dict(df.set_index('Name')['Continent'])\n",
    "    }"
   ]
  },
  {
   "cell_type": "code",
   "execution_count": 5,
   "id": "intimate-machinery",
   "metadata": {
    "execution": {
     "iopub.execute_input": "2021-06-05T00:44:51.210031Z",
     "iopub.status.busy": "2021-06-05T00:44:51.209253Z",
     "iopub.status.idle": "2021-06-05T00:44:51.249978Z",
     "shell.execute_reply": "2021-06-05T00:44:51.250573Z"
    },
    "papermill": {
     "duration": 0.085497,
     "end_time": "2021-06-05T00:44:51.250736",
     "exception": false,
     "start_time": "2021-06-05T00:44:51.165239",
     "status": "completed"
    },
    "tags": []
   },
   "outputs": [],
   "source": [
    "#hide\n",
    "mapping = get_mappings(paths['mapping'])"
   ]
  },
  {
   "cell_type": "code",
   "execution_count": 6,
   "id": "certified-tactics",
   "metadata": {
    "execution": {
     "iopub.execute_input": "2021-06-05T00:44:51.335756Z",
     "iopub.status.busy": "2021-06-05T00:44:51.335072Z",
     "iopub.status.idle": "2021-06-05T00:44:51.337928Z",
     "shell.execute_reply": "2021-06-05T00:44:51.337267Z"
    },
    "papermill": {
     "duration": 0.048475,
     "end_time": "2021-06-05T00:44:51.338122",
     "exception": false,
     "start_time": "2021-06-05T00:44:51.289647",
     "status": "completed"
    },
    "tags": []
   },
   "outputs": [],
   "source": [
    "#hide\n",
    "def get_template(path):\n",
    "    from urllib.parse import urlparse\n",
    "    if bool(urlparse(path).netloc):\n",
    "        from urllib.request import urlopen\n",
    "        return urlopen(path).read().decode('utf8')\n",
    "    return open(path).read()"
   ]
  },
  {
   "cell_type": "code",
   "execution_count": 7,
   "id": "realistic-blast",
   "metadata": {
    "execution": {
     "iopub.execute_input": "2021-06-05T00:44:51.422682Z",
     "iopub.status.busy": "2021-06-05T00:44:51.421929Z",
     "iopub.status.idle": "2021-06-05T00:44:51.424996Z",
     "shell.execute_reply": "2021-06-05T00:44:51.424357Z"
    },
    "papermill": {
     "duration": 0.047596,
     "end_time": "2021-06-05T00:44:51.425148",
     "exception": false,
     "start_time": "2021-06-05T00:44:51.377552",
     "status": "completed"
    },
    "tags": []
   },
   "outputs": [],
   "source": [
    "#hide\n",
    "def get_frame(name):\n",
    "    url = (\n",
    "        'https://raw.githubusercontent.com/CSSEGISandData/COVID-19/master/csse_covid_19_data/'\n",
    "        f'csse_covid_19_time_series/time_series_covid19_{name}_global.csv')\n",
    "    df = pd.read_csv(url)\n",
    "    # rename countries\n",
    "    df['Country/Region'] = df['Country/Region'].replace(mapping['replace.country'])\n",
    "    return df"
   ]
  },
  {
   "cell_type": "code",
   "execution_count": 8,
   "id": "affiliated-characterization",
   "metadata": {
    "execution": {
     "iopub.execute_input": "2021-06-05T00:44:51.509370Z",
     "iopub.status.busy": "2021-06-05T00:44:51.508699Z",
     "iopub.status.idle": "2021-06-05T00:44:51.511270Z",
     "shell.execute_reply": "2021-06-05T00:44:51.510742Z"
    },
    "papermill": {
     "duration": 0.047084,
     "end_time": "2021-06-05T00:44:51.511395",
     "exception": false,
     "start_time": "2021-06-05T00:44:51.464311",
     "status": "completed"
    },
    "tags": []
   },
   "outputs": [],
   "source": [
    "#hide\n",
    "def get_dates(df):\n",
    "    dt_cols = df.columns[~df.columns.isin(['Province/State', 'Country/Region', 'Lat', 'Long'])]\n",
    "    LAST_DATE_I = -1\n",
    "    # sometimes last column may be empty, then go backwards\n",
    "    for i in range(-1, -len(dt_cols), -1):\n",
    "        if not df[dt_cols[i]].fillna(0).eq(0).all():\n",
    "            LAST_DATE_I = i\n",
    "            break\n",
    "    return LAST_DATE_I, dt_cols"
   ]
  },
  {
   "cell_type": "code",
   "execution_count": 9,
   "id": "recent-optimization",
   "metadata": {
    "execution": {
     "iopub.execute_input": "2021-06-05T00:44:51.594903Z",
     "iopub.status.busy": "2021-06-05T00:44:51.594129Z",
     "iopub.status.idle": "2021-06-05T00:44:51.987600Z",
     "shell.execute_reply": "2021-06-05T00:44:51.988195Z"
    },
    "papermill": {
     "duration": 0.438635,
     "end_time": "2021-06-05T00:44:51.988366",
     "exception": false,
     "start_time": "2021-06-05T00:44:51.549731",
     "status": "completed"
    },
    "tags": []
   },
   "outputs": [],
   "source": [
    "#hide\n",
    "COL_REGION = 'Country/Region'\n",
    "# Confirmed, Recovered, Deaths\n",
    "df = get_frame('confirmed')\n",
    "# dft_: timeseries, dfc_: today country agg\n",
    "dft_cases = df\n",
    "dft_deaths = get_frame('deaths')\n",
    "dft_recovered = get_frame('recovered')\n",
    "LAST_DATE_I, dt_cols = get_dates(df)"
   ]
  },
  {
   "cell_type": "code",
   "execution_count": 10,
   "id": "absolute-copper",
   "metadata": {
    "execution": {
     "iopub.execute_input": "2021-06-05T00:44:52.070131Z",
     "iopub.status.busy": "2021-06-05T00:44:52.069511Z",
     "iopub.status.idle": "2021-06-05T00:44:52.071452Z",
     "shell.execute_reply": "2021-06-05T00:44:52.072061Z"
    },
    "papermill": {
     "duration": 0.04566,
     "end_time": "2021-06-05T00:44:52.072189",
     "exception": false,
     "start_time": "2021-06-05T00:44:52.026529",
     "status": "completed"
    },
    "tags": []
   },
   "outputs": [],
   "source": [
    "#hide\n",
    "LAST_DATE_I, dt_cols = get_dates(df)\n",
    "dt_today =dt_cols[LAST_DATE_I]\n",
    "# dt_5day = dt_cols[LAST_DATE_I - 5]\n",
    "dt_yday = dt_cols[LAST_DATE_I - 1]"
   ]
  },
  {
   "cell_type": "code",
   "execution_count": 11,
   "id": "restricted-sheriff",
   "metadata": {
    "execution": {
     "iopub.execute_input": "2021-06-05T00:44:52.154673Z",
     "iopub.status.busy": "2021-06-05T00:44:52.154052Z",
     "iopub.status.idle": "2021-06-05T00:44:52.162555Z",
     "shell.execute_reply": "2021-06-05T00:44:52.163147Z"
    },
    "papermill": {
     "duration": 0.053612,
     "end_time": "2021-06-05T00:44:52.163331",
     "exception": false,
     "start_time": "2021-06-05T00:44:52.109719",
     "status": "completed"
    },
    "tags": []
   },
   "outputs": [],
   "source": [
    "#hide\n",
    "dfc_cases = dft_cases.groupby(COL_REGION)[dt_today].sum()\n",
    "dfc_deaths = dft_deaths.groupby(COL_REGION)[dt_today].sum()\n",
    "# dfp_cases = dft_cases.groupby(COL_REGION)[dt_5day].sum()\n",
    "# dfp_deaths = dft_deaths.groupby(COL_REGION)[dt_5day].sum()\n",
    "dfp_cases = dft_cases.groupby(COL_REGION)[dt_yday].sum()\n",
    "dfp_deaths = dft_deaths.groupby(COL_REGION)[dt_yday].sum()"
   ]
  },
  {
   "cell_type": "code",
   "execution_count": 12,
   "id": "deluxe-hepatitis",
   "metadata": {
    "execution": {
     "iopub.execute_input": "2021-06-05T00:44:52.247072Z",
     "iopub.status.busy": "2021-06-05T00:44:52.246320Z",
     "iopub.status.idle": "2021-06-05T00:44:52.251225Z",
     "shell.execute_reply": "2021-06-05T00:44:52.252964Z"
    },
    "papermill": {
     "duration": 0.050642,
     "end_time": "2021-06-05T00:44:52.253095",
     "exception": false,
     "start_time": "2021-06-05T00:44:52.202453",
     "status": "completed"
    },
    "tags": []
   },
   "outputs": [],
   "source": [
    "#hide\n",
    "df_table = (pd.DataFrame(dict(Cases = dfc_cases, Deaths = dfc_deaths, PCases = dfp_cases, PDeaths = dfp_deaths))\n",
    "            .sort_values(by = ['Cases','Deaths'], ascending = [False, False])\n",
    "            .reset_index())"
   ]
  },
  {
   "cell_type": "code",
   "execution_count": 13,
   "id": "educational-chancellor",
   "metadata": {
    "execution": {
     "iopub.execute_input": "2021-06-05T00:44:52.343623Z",
     "iopub.status.busy": "2021-06-05T00:44:52.343051Z",
     "iopub.status.idle": "2021-06-05T00:44:52.351157Z",
     "shell.execute_reply": "2021-06-05T00:44:52.351639Z"
    },
    "papermill": {
     "duration": 0.063024,
     "end_time": "2021-06-05T00:44:52.351760",
     "exception": false,
     "start_time": "2021-06-05T00:44:52.288736",
     "status": "completed"
    },
    "tags": []
   },
   "outputs": [
    {
     "data": {
      "text/html": [
       "<div>\n",
       "<style scoped>\n",
       "    .dataframe tbody tr th:only-of-type {\n",
       "        vertical-align: middle;\n",
       "    }\n",
       "\n",
       "    .dataframe tbody tr th {\n",
       "        vertical-align: top;\n",
       "    }\n",
       "\n",
       "    .dataframe thead th {\n",
       "        text-align: right;\n",
       "    }\n",
       "</style>\n",
       "<table border=\"1\" class=\"dataframe\">\n",
       "  <thead>\n",
       "    <tr style=\"text-align: right;\">\n",
       "      <th></th>\n",
       "      <th>Country/Region</th>\n",
       "      <th>Cases</th>\n",
       "      <th>Deaths</th>\n",
       "      <th>PCases</th>\n",
       "      <th>PDeaths</th>\n",
       "      <th>Cases (+)</th>\n",
       "      <th>Deaths (+)</th>\n",
       "      <th>Fatality Rate</th>\n",
       "      <th>Continent</th>\n",
       "    </tr>\n",
       "  </thead>\n",
       "  <tbody>\n",
       "    <tr>\n",
       "      <th>0</th>\n",
       "      <td>US</td>\n",
       "      <td>33326437</td>\n",
       "      <td>596434</td>\n",
       "      <td>33307363</td>\n",
       "      <td>595833</td>\n",
       "      <td>19074</td>\n",
       "      <td>601</td>\n",
       "      <td>1.79</td>\n",
       "      <td>North America</td>\n",
       "    </tr>\n",
       "    <tr>\n",
       "      <th>1</th>\n",
       "      <td>India</td>\n",
       "      <td>28574350</td>\n",
       "      <td>340702</td>\n",
       "      <td>28441986</td>\n",
       "      <td>337989</td>\n",
       "      <td>132364</td>\n",
       "      <td>2713</td>\n",
       "      <td>1.19</td>\n",
       "      <td>Asia</td>\n",
       "    </tr>\n",
       "    <tr>\n",
       "      <th>2</th>\n",
       "      <td>Brazil</td>\n",
       "      <td>16803472</td>\n",
       "      <td>469388</td>\n",
       "      <td>16720081</td>\n",
       "      <td>467706</td>\n",
       "      <td>83391</td>\n",
       "      <td>1682</td>\n",
       "      <td>2.79</td>\n",
       "      <td>South America</td>\n",
       "    </tr>\n",
       "    <tr>\n",
       "      <th>3</th>\n",
       "      <td>France</td>\n",
       "      <td>5755679</td>\n",
       "      <td>109990</td>\n",
       "      <td>5739995</td>\n",
       "      <td>109841</td>\n",
       "      <td>15684</td>\n",
       "      <td>149</td>\n",
       "      <td>1.91</td>\n",
       "      <td>Europe</td>\n",
       "    </tr>\n",
       "    <tr>\n",
       "      <th>4</th>\n",
       "      <td>Turkey</td>\n",
       "      <td>5270299</td>\n",
       "      <td>47882</td>\n",
       "      <td>5263697</td>\n",
       "      <td>47768</td>\n",
       "      <td>6602</td>\n",
       "      <td>114</td>\n",
       "      <td>0.91</td>\n",
       "      <td>Asia</td>\n",
       "    </tr>\n",
       "  </tbody>\n",
       "</table>\n",
       "</div>"
      ],
      "text/plain": [
       "  Country/Region     Cases  Deaths    PCases  PDeaths  Cases (+)  Deaths (+)  \\\n",
       "0             US  33326437  596434  33307363   595833      19074         601   \n",
       "1          India  28574350  340702  28441986   337989     132364        2713   \n",
       "2         Brazil  16803472  469388  16720081   467706      83391        1682   \n",
       "3         France   5755679  109990   5739995   109841      15684         149   \n",
       "4         Turkey   5270299   47882   5263697    47768       6602         114   \n",
       "\n",
       "   Fatality Rate      Continent  \n",
       "0           1.79  North America  \n",
       "1           1.19           Asia  \n",
       "2           2.79  South America  \n",
       "3           1.91         Europe  \n",
       "4           0.91           Asia  "
      ]
     },
     "execution_count": 13,
     "metadata": {},
     "output_type": "execute_result"
    }
   ],
   "source": [
    "#hide\n",
    "for c in 'Cases, Deaths'.split(', '):\n",
    "    df_table[f'{c} (+)'] = (df_table[c] - df_table[f'P{c}']).clip(0)\n",
    "    #Clip ça veut dire, les chiffres negatif sont interdit\n",
    "df_table['Fatality Rate'] = (100* df_table['Deaths']/ df_table['Cases']).round(2)\n",
    "df_table['Continent'] = df_table['Country/Region'].map(mapping['map.continent'])\n",
    "df_table.head(5)"
   ]
  },
  {
   "cell_type": "code",
   "execution_count": 14,
   "id": "aboriginal-bulgaria",
   "metadata": {
    "execution": {
     "iopub.execute_input": "2021-06-05T00:44:52.423807Z",
     "iopub.status.busy": "2021-06-05T00:44:52.423251Z",
     "iopub.status.idle": "2021-06-05T00:44:52.426278Z",
     "shell.execute_reply": "2021-06-05T00:44:52.426936Z"
    },
    "papermill": {
     "duration": 0.041747,
     "end_time": "2021-06-05T00:44:52.427078",
     "exception": false,
     "start_time": "2021-06-05T00:44:52.385331",
     "status": "completed"
    },
    "tags": []
   },
   "outputs": [],
   "source": [
    "#hide\n",
    "#delete problematic countries from table\n",
    "df_table = df_table[~df_table['Country/Region'].isin(['Cape Verde', 'Cruise Ship', 'Kosovo'])]"
   ]
  },
  {
   "cell_type": "code",
   "execution_count": 15,
   "id": "fantastic-effect",
   "metadata": {
    "execution": {
     "iopub.execute_input": "2021-06-05T00:44:52.502696Z",
     "iopub.status.busy": "2021-06-05T00:44:52.502118Z",
     "iopub.status.idle": "2021-06-05T00:44:52.523487Z",
     "shell.execute_reply": "2021-06-05T00:44:52.524088Z"
    },
    "papermill": {
     "duration": 0.063832,
     "end_time": "2021-06-05T00:44:52.524290",
     "exception": false,
     "start_time": "2021-06-05T00:44:52.460458",
     "status": "completed"
    },
    "tags": []
   },
   "outputs": [
    {
     "data": {
      "text/html": [
       "<div>\n",
       "<style scoped>\n",
       "    .dataframe tbody tr th:only-of-type {\n",
       "        vertical-align: middle;\n",
       "    }\n",
       "\n",
       "    .dataframe tbody tr th {\n",
       "        vertical-align: top;\n",
       "    }\n",
       "\n",
       "    .dataframe thead th {\n",
       "        text-align: right;\n",
       "    }\n",
       "</style>\n",
       "<table border=\"1\" class=\"dataframe\">\n",
       "  <thead>\n",
       "    <tr style=\"text-align: right;\">\n",
       "      <th></th>\n",
       "      <th>Country/Region</th>\n",
       "      <th>Cases</th>\n",
       "      <th>Deaths</th>\n",
       "      <th>PCases</th>\n",
       "      <th>PDeaths</th>\n",
       "      <th>Cases (+)</th>\n",
       "      <th>Deaths (+)</th>\n",
       "      <th>Fatality Rate</th>\n",
       "      <th>Continent</th>\n",
       "    </tr>\n",
       "  </thead>\n",
       "  <tbody>\n",
       "    <tr>\n",
       "      <th>0</th>\n",
       "      <td>US</td>\n",
       "      <td>33326437</td>\n",
       "      <td>596434</td>\n",
       "      <td>33307363</td>\n",
       "      <td>595833</td>\n",
       "      <td>19074</td>\n",
       "      <td>601</td>\n",
       "      <td>1.8</td>\n",
       "      <td>North America</td>\n",
       "    </tr>\n",
       "    <tr>\n",
       "      <th>1</th>\n",
       "      <td>India</td>\n",
       "      <td>28574350</td>\n",
       "      <td>340702</td>\n",
       "      <td>28441986</td>\n",
       "      <td>337989</td>\n",
       "      <td>132364</td>\n",
       "      <td>2713</td>\n",
       "      <td>1.2</td>\n",
       "      <td>Asia</td>\n",
       "    </tr>\n",
       "    <tr>\n",
       "      <th>2</th>\n",
       "      <td>Brazil</td>\n",
       "      <td>16803472</td>\n",
       "      <td>469388</td>\n",
       "      <td>16720081</td>\n",
       "      <td>467706</td>\n",
       "      <td>83391</td>\n",
       "      <td>1682</td>\n",
       "      <td>2.8</td>\n",
       "      <td>South America</td>\n",
       "    </tr>\n",
       "    <tr>\n",
       "      <th>3</th>\n",
       "      <td>France</td>\n",
       "      <td>5755679</td>\n",
       "      <td>109990</td>\n",
       "      <td>5739995</td>\n",
       "      <td>109841</td>\n",
       "      <td>15684</td>\n",
       "      <td>149</td>\n",
       "      <td>1.9</td>\n",
       "      <td>Europe</td>\n",
       "    </tr>\n",
       "    <tr>\n",
       "      <th>4</th>\n",
       "      <td>Turkey</td>\n",
       "      <td>5270299</td>\n",
       "      <td>47882</td>\n",
       "      <td>5263697</td>\n",
       "      <td>47768</td>\n",
       "      <td>6602</td>\n",
       "      <td>114</td>\n",
       "      <td>0.9</td>\n",
       "      <td>Asia</td>\n",
       "    </tr>\n",
       "  </tbody>\n",
       "</table>\n",
       "</div>"
      ],
      "text/plain": [
       "  Country/Region     Cases  Deaths    PCases  PDeaths  Cases (+)  Deaths (+)  \\\n",
       "0             US  33326437  596434  33307363   595833      19074         601   \n",
       "1          India  28574350  340702  28441986   337989     132364        2713   \n",
       "2         Brazil  16803472  469388  16720081   467706      83391        1682   \n",
       "3         France   5755679  109990   5739995   109841      15684         149   \n",
       "4         Turkey   5270299   47882   5263697    47768       6602         114   \n",
       "\n",
       "   Fatality Rate      Continent  \n",
       "0            1.8  North America  \n",
       "1            1.2           Asia  \n",
       "2            2.8  South America  \n",
       "3            1.9         Europe  \n",
       "4            0.9           Asia  "
      ]
     },
     "execution_count": 15,
     "metadata": {},
     "output_type": "execute_result"
    }
   ],
   "source": [
    "#hide\n",
    "df_table = (pd.DataFrame(dict(Cases=dfc_cases, Deaths=dfc_deaths, PCases=dfp_cases, PDeaths=dfp_deaths))\n",
    "             .sort_values(by=['Cases', 'Deaths'], ascending=[False, False])\n",
    "             .reset_index())\n",
    "df_table.rename(columns={'index': 'Country/Region'}, inplace=True)\n",
    "for c in 'Cases, Deaths'.split(', '):\n",
    "    df_table[f'{c} (+)'] = (df_table[c] - df_table[f'P{c}']).clip(0)  # DATA BUG\n",
    "df_table['Fatality Rate'] = (100 * df_table['Deaths'] / df_table['Cases']).round(1)\n",
    "df_table['Continent'] = df_table['Country/Region'].map(mapping['map.continent'])\n",
    "df_table.head(5)"
   ]
  },
  {
   "cell_type": "code",
   "execution_count": 16,
   "id": "fewer-occasion",
   "metadata": {
    "execution": {
     "iopub.execute_input": "2021-06-05T00:44:52.616536Z",
     "iopub.status.busy": "2021-06-05T00:44:52.615780Z",
     "iopub.status.idle": "2021-06-05T00:44:52.619132Z",
     "shell.execute_reply": "2021-06-05T00:44:52.619639Z"
    },
    "papermill": {
     "duration": 0.048968,
     "end_time": "2021-06-05T00:44:52.619775",
     "exception": false,
     "start_time": "2021-06-05T00:44:52.570807",
     "status": "completed"
    },
    "tags": []
   },
   "outputs": [],
   "source": [
    "#hide\n",
    "#delete problematic countries from table\n",
    "df_table = df_table[~df_table['Country/Region'].isin(['Cape Verde', 'Cruise Ship', 'Kosovo'])]"
   ]
  },
  {
   "cell_type": "code",
   "execution_count": 17,
   "id": "related-center",
   "metadata": {
    "execution": {
     "iopub.execute_input": "2021-06-05T00:44:52.708796Z",
     "iopub.status.busy": "2021-06-05T00:44:52.708127Z",
     "iopub.status.idle": "2021-06-05T00:44:52.724989Z",
     "shell.execute_reply": "2021-06-05T00:44:52.724474Z"
    },
    "papermill": {
     "duration": 0.06522,
     "end_time": "2021-06-05T00:44:52.725174",
     "exception": false,
     "start_time": "2021-06-05T00:44:52.659954",
     "status": "completed"
    },
    "tags": []
   },
   "outputs": [],
   "source": [
    "#hide\n",
    "metrics = [df_table.columns[index] for index in [1,2,5,6]]\n",
    "# s_china = df_table[df_table['Country/Region'].eq('China')][metrics].sum().add_prefix('China ')\n",
    "s_us = df_table[df_table['Country/Region'].eq('US')][metrics].sum().add_prefix('US ')\n",
    "s_eu = df_table[df_table['Continent'].eq('Europe')][metrics].sum().add_prefix('EU ')\n",
    "s_ind = df_table[df_table['Country/Region'].eq('India')][metrics].sum().add_prefix('India ')\n",
    "summary = {'updated': pd.to_datetime(dt_today), 'since': pd.to_datetime(dt_yday)}\n",
    "summary = {'updated': pd.to_datetime(dt_today), 'since': pd.to_datetime(dt_yday)}\n",
    "summary = {**summary, **df_table[metrics].sum(), **s_ind, **s_us, **s_eu}"
   ]
  },
  {
   "cell_type": "code",
   "execution_count": 18,
   "id": "engaging-syndrome",
   "metadata": {
    "execution": {
     "iopub.execute_input": "2021-06-05T00:44:52.805080Z",
     "iopub.status.busy": "2021-06-05T00:44:52.804404Z",
     "iopub.status.idle": "2021-06-05T00:44:52.818836Z",
     "shell.execute_reply": "2021-06-05T00:44:52.819336Z"
    },
    "papermill": {
     "duration": 0.056788,
     "end_time": "2021-06-05T00:44:52.819492",
     "exception": false,
     "start_time": "2021-06-05T00:44:52.762704",
     "status": "completed"
    },
    "tags": []
   },
   "outputs": [],
   "source": [
    "#hide\n",
    "dft_ct_new_cases = dft_cases.groupby(COL_REGION)[dt_cols].sum().diff(axis=1).fillna(0).astype(int)"
   ]
  },
  {
   "cell_type": "code",
   "execution_count": 19,
   "id": "neutral-assignment",
   "metadata": {
    "execution": {
     "iopub.execute_input": "2021-06-05T00:44:52.894529Z",
     "iopub.status.busy": "2021-06-05T00:44:52.893842Z",
     "iopub.status.idle": "2021-06-05T00:44:52.896707Z",
     "shell.execute_reply": "2021-06-05T00:44:52.896265Z"
    },
    "papermill": {
     "duration": 0.041214,
     "end_time": "2021-06-05T00:44:52.896808",
     "exception": false,
     "start_time": "2021-06-05T00:44:52.855594",
     "status": "completed"
    },
    "tags": []
   },
   "outputs": [],
   "source": [
    "#hide\n",
    "everydaycases = dft_ct_new_cases.cumsum(axis=1)"
   ]
  },
  {
   "cell_type": "code",
   "execution_count": 20,
   "id": "parliamentary-calgary",
   "metadata": {
    "execution": {
     "iopub.execute_input": "2021-06-05T00:44:52.973190Z",
     "iopub.status.busy": "2021-06-05T00:44:52.972601Z",
     "iopub.status.idle": "2021-06-05T00:44:53.521769Z",
     "shell.execute_reply": "2021-06-05T00:44:53.521191Z"
    },
    "papermill": {
     "duration": 0.589987,
     "end_time": "2021-06-05T00:44:53.521915",
     "exception": false,
     "start_time": "2021-06-05T00:44:52.931928",
     "status": "completed"
    },
    "tags": []
   },
   "outputs": [],
   "source": [
    "#hide\n",
    "import pandas as pd\n",
    "import matplotlib.pyplot as plt\n",
    "import matplotlib.ticker as ticker\n",
    "import matplotlib.animation as animation\n",
    "from IPython.display import HTML"
   ]
  },
  {
   "cell_type": "code",
   "execution_count": 21,
   "id": "lasting-extraction",
   "metadata": {
    "execution": {
     "iopub.execute_input": "2021-06-05T00:44:53.597637Z",
     "iopub.status.busy": "2021-06-05T00:44:53.597083Z",
     "iopub.status.idle": "2021-06-05T00:44:53.602905Z",
     "shell.execute_reply": "2021-06-05T00:44:53.602094Z"
    },
    "papermill": {
     "duration": 0.044236,
     "end_time": "2021-06-05T00:44:53.603016",
     "exception": false,
     "start_time": "2021-06-05T00:44:53.558780",
     "status": "completed"
    },
    "tags": []
   },
   "outputs": [],
   "source": [
    "#hide\n",
    "t = everydaycases.stack()"
   ]
  },
  {
   "cell_type": "code",
   "execution_count": 22,
   "id": "premier-sleeve",
   "metadata": {
    "execution": {
     "iopub.execute_input": "2021-06-05T00:44:53.676075Z",
     "iopub.status.busy": "2021-06-05T00:44:53.675468Z",
     "iopub.status.idle": "2021-06-05T00:44:53.682946Z",
     "shell.execute_reply": "2021-06-05T00:44:53.683503Z"
    },
    "papermill": {
     "duration": 0.04698,
     "end_time": "2021-06-05T00:44:53.683655",
     "exception": false,
     "start_time": "2021-06-05T00:44:53.636675",
     "status": "completed"
    },
    "tags": []
   },
   "outputs": [],
   "source": [
    "#hide\n",
    "g = t.reset_index(['Country/Region'])"
   ]
  },
  {
   "cell_type": "code",
   "execution_count": 23,
   "id": "distributed-pittsburgh",
   "metadata": {
    "execution": {
     "iopub.execute_input": "2021-06-05T00:44:53.767166Z",
     "iopub.status.busy": "2021-06-05T00:44:53.766542Z",
     "iopub.status.idle": "2021-06-05T00:44:53.768618Z",
     "shell.execute_reply": "2021-06-05T00:44:53.769099Z"
    },
    "papermill": {
     "duration": 0.049555,
     "end_time": "2021-06-05T00:44:53.769217",
     "exception": false,
     "start_time": "2021-06-05T00:44:53.719662",
     "status": "completed"
    },
    "tags": []
   },
   "outputs": [],
   "source": [
    "#hide\n",
    "g.index.name = 'date'"
   ]
  },
  {
   "cell_type": "code",
   "execution_count": 24,
   "id": "naked-donor",
   "metadata": {
    "execution": {
     "iopub.execute_input": "2021-06-05T00:44:53.839793Z",
     "iopub.status.busy": "2021-06-05T00:44:53.839249Z",
     "iopub.status.idle": "2021-06-05T00:44:53.841682Z",
     "shell.execute_reply": "2021-06-05T00:44:53.842219Z"
    },
    "papermill": {
     "duration": 0.040888,
     "end_time": "2021-06-05T00:44:53.842352",
     "exception": false,
     "start_time": "2021-06-05T00:44:53.801464",
     "status": "completed"
    },
    "tags": []
   },
   "outputs": [],
   "source": [
    "# #hide\n",
    "# g = g.reset_index(['date'])"
   ]
  },
  {
   "cell_type": "code",
   "execution_count": 25,
   "id": "incomplete-mustang",
   "metadata": {
    "execution": {
     "iopub.execute_input": "2021-06-05T00:44:53.915160Z",
     "iopub.status.busy": "2021-06-05T00:44:53.913750Z",
     "iopub.status.idle": "2021-06-05T00:44:53.916565Z",
     "shell.execute_reply": "2021-06-05T00:44:53.915980Z"
    },
    "papermill": {
     "duration": 0.040576,
     "end_time": "2021-06-05T00:44:53.916688",
     "exception": false,
     "start_time": "2021-06-05T00:44:53.876112",
     "status": "completed"
    },
    "tags": []
   },
   "outputs": [],
   "source": [
    "#hide\n",
    "# g.head()"
   ]
  },
  {
   "cell_type": "code",
   "execution_count": 26,
   "id": "specific-kruger",
   "metadata": {
    "execution": {
     "iopub.execute_input": "2021-06-05T00:44:53.995325Z",
     "iopub.status.busy": "2021-06-05T00:44:53.994573Z",
     "iopub.status.idle": "2021-06-05T00:44:53.997444Z",
     "shell.execute_reply": "2021-06-05T00:44:53.996946Z"
    },
    "papermill": {
     "duration": 0.042659,
     "end_time": "2021-06-05T00:44:53.997570",
     "exception": false,
     "start_time": "2021-06-05T00:44:53.954911",
     "status": "completed"
    },
    "tags": []
   },
   "outputs": [],
   "source": [
    "#hide\n",
    "# g.columns = ['date','country','cases']"
   ]
  },
  {
   "cell_type": "code",
   "execution_count": 27,
   "id": "tender-conversion",
   "metadata": {
    "execution": {
     "iopub.execute_input": "2021-06-05T00:44:54.075294Z",
     "iopub.status.busy": "2021-06-05T00:44:54.074744Z",
     "iopub.status.idle": "2021-06-05T00:44:54.077381Z",
     "shell.execute_reply": "2021-06-05T00:44:54.076888Z"
    },
    "papermill": {
     "duration": 0.04455,
     "end_time": "2021-06-05T00:44:54.077485",
     "exception": false,
     "start_time": "2021-06-05T00:44:54.032935",
     "status": "completed"
    },
    "tags": []
   },
   "outputs": [],
   "source": [
    "#hide\n",
    "# g['continent'] = g.country"
   ]
  },
  {
   "cell_type": "code",
   "execution_count": 28,
   "id": "substantial-wilderness",
   "metadata": {
    "execution": {
     "iopub.execute_input": "2021-06-05T00:44:54.153351Z",
     "iopub.status.busy": "2021-06-05T00:44:54.152771Z",
     "iopub.status.idle": "2021-06-05T00:44:54.155198Z",
     "shell.execute_reply": "2021-06-05T00:44:54.154731Z"
    },
    "papermill": {
     "duration": 0.041984,
     "end_time": "2021-06-05T00:44:54.155322",
     "exception": false,
     "start_time": "2021-06-05T00:44:54.113338",
     "status": "completed"
    },
    "tags": []
   },
   "outputs": [],
   "source": [
    "#hide\n",
    "# cols = list(g.columns.values)"
   ]
  },
  {
   "cell_type": "code",
   "execution_count": 29,
   "id": "solved-farming",
   "metadata": {
    "execution": {
     "iopub.execute_input": "2021-06-05T00:44:54.225937Z",
     "iopub.status.busy": "2021-06-05T00:44:54.225388Z",
     "iopub.status.idle": "2021-06-05T00:44:54.228323Z",
     "shell.execute_reply": "2021-06-05T00:44:54.227824Z"
    },
    "papermill": {
     "duration": 0.040284,
     "end_time": "2021-06-05T00:44:54.228424",
     "exception": false,
     "start_time": "2021-06-05T00:44:54.188140",
     "status": "completed"
    },
    "tags": []
   },
   "outputs": [],
   "source": [
    "#hide\n",
    "# cols.insert(0, cols.pop())"
   ]
  },
  {
   "cell_type": "code",
   "execution_count": 30,
   "id": "executed-adoption",
   "metadata": {
    "execution": {
     "iopub.execute_input": "2021-06-05T00:44:54.298520Z",
     "iopub.status.busy": "2021-06-05T00:44:54.297862Z",
     "iopub.status.idle": "2021-06-05T00:44:54.300000Z",
     "shell.execute_reply": "2021-06-05T00:44:54.299545Z"
    },
    "papermill": {
     "duration": 0.036482,
     "end_time": "2021-06-05T00:44:54.300116",
     "exception": false,
     "start_time": "2021-06-05T00:44:54.263634",
     "status": "completed"
    },
    "tags": []
   },
   "outputs": [],
   "source": [
    "#hide\n",
    "# g = g[cols]"
   ]
  },
  {
   "cell_type": "code",
   "execution_count": 31,
   "id": "subject-dublin",
   "metadata": {
    "execution": {
     "iopub.execute_input": "2021-06-05T00:44:54.370842Z",
     "iopub.status.busy": "2021-06-05T00:44:54.370294Z",
     "iopub.status.idle": "2021-06-05T00:44:54.372495Z",
     "shell.execute_reply": "2021-06-05T00:44:54.371989Z"
    },
    "papermill": {
     "duration": 0.040367,
     "end_time": "2021-06-05T00:44:54.372594",
     "exception": false,
     "start_time": "2021-06-05T00:44:54.332227",
     "status": "completed"
    },
    "tags": []
   },
   "outputs": [],
   "source": [
    "#hide\n",
    "# g['continent'] = g['continent'].map(mapping['map.continent'])"
   ]
  },
  {
   "cell_type": "code",
   "execution_count": 32,
   "id": "freelance-scout",
   "metadata": {
    "execution": {
     "iopub.execute_input": "2021-06-05T00:44:54.444496Z",
     "iopub.status.busy": "2021-06-05T00:44:54.443897Z",
     "iopub.status.idle": "2021-06-05T00:44:54.445962Z",
     "shell.execute_reply": "2021-06-05T00:44:54.446647Z"
    },
    "papermill": {
     "duration": 0.039734,
     "end_time": "2021-06-05T00:44:54.446834",
     "exception": false,
     "start_time": "2021-06-05T00:44:54.407100",
     "status": "completed"
    },
    "tags": []
   },
   "outputs": [],
   "source": [
    "#hide\n",
    "# g.head()"
   ]
  },
  {
   "cell_type": "code",
   "execution_count": 33,
   "id": "limited-engine",
   "metadata": {
    "execution": {
     "iopub.execute_input": "2021-06-05T00:44:54.519107Z",
     "iopub.status.busy": "2021-06-05T00:44:54.518500Z",
     "iopub.status.idle": "2021-06-05T00:44:54.522122Z",
     "shell.execute_reply": "2021-06-05T00:44:54.522607Z"
    },
    "papermill": {
     "duration": 0.041003,
     "end_time": "2021-06-05T00:44:54.522730",
     "exception": false,
     "start_time": "2021-06-05T00:44:54.481727",
     "status": "completed"
    },
    "tags": []
   },
   "outputs": [],
   "source": [
    "# hide\n",
    "# g['date'] = g['date'].astype('datetime64[ns]')"
   ]
  },
  {
   "cell_type": "code",
   "execution_count": 34,
   "id": "sophisticated-supervisor",
   "metadata": {
    "execution": {
     "iopub.execute_input": "2021-06-05T00:44:54.593260Z",
     "iopub.status.busy": "2021-06-05T00:44:54.592745Z",
     "iopub.status.idle": "2021-06-05T00:44:54.595007Z",
     "shell.execute_reply": "2021-06-05T00:44:54.595496Z"
    },
    "papermill": {
     "duration": 0.039568,
     "end_time": "2021-06-05T00:44:54.595606",
     "exception": false,
     "start_time": "2021-06-05T00:44:54.556038",
     "status": "completed"
    },
    "tags": []
   },
   "outputs": [],
   "source": [
    "#hide\n",
    "# g['date'] = g.date.dt.dayofyear"
   ]
  },
  {
   "cell_type": "code",
   "execution_count": 35,
   "id": "inside-dubai",
   "metadata": {
    "execution": {
     "iopub.execute_input": "2021-06-05T00:44:54.667234Z",
     "iopub.status.busy": "2021-06-05T00:44:54.666690Z",
     "iopub.status.idle": "2021-06-05T00:44:54.668495Z",
     "shell.execute_reply": "2021-06-05T00:44:54.668887Z"
    },
    "papermill": {
     "duration": 0.039835,
     "end_time": "2021-06-05T00:44:54.669001",
     "exception": false,
     "start_time": "2021-06-05T00:44:54.629166",
     "status": "completed"
    },
    "tags": []
   },
   "outputs": [],
   "source": [
    "#hide\n",
    "# g = g.rename(columns= {'continent':'group','country':'name','cases':'value'})"
   ]
  },
  {
   "cell_type": "code",
   "execution_count": 36,
   "id": "fleet-motorcycle",
   "metadata": {
    "execution": {
     "iopub.execute_input": "2021-06-05T00:44:54.744381Z",
     "iopub.status.busy": "2021-06-05T00:44:54.743792Z",
     "iopub.status.idle": "2021-06-05T00:44:54.746049Z",
     "shell.execute_reply": "2021-06-05T00:44:54.745373Z"
    },
    "papermill": {
     "duration": 0.042265,
     "end_time": "2021-06-05T00:44:54.746198",
     "exception": false,
     "start_time": "2021-06-05T00:44:54.703933",
     "status": "completed"
    },
    "tags": []
   },
   "outputs": [],
   "source": [
    "#hide\n",
    "# cols = ['name','group','day','value']"
   ]
  },
  {
   "cell_type": "code",
   "execution_count": 37,
   "id": "continued-sleeping",
   "metadata": {
    "execution": {
     "iopub.execute_input": "2021-06-05T00:44:54.824455Z",
     "iopub.status.busy": "2021-06-05T00:44:54.823824Z",
     "iopub.status.idle": "2021-06-05T00:44:54.826475Z",
     "shell.execute_reply": "2021-06-05T00:44:54.825911Z"
    },
    "papermill": {
     "duration": 0.045837,
     "end_time": "2021-06-05T00:44:54.826598",
     "exception": false,
     "start_time": "2021-06-05T00:44:54.780761",
     "status": "completed"
    },
    "tags": []
   },
   "outputs": [],
   "source": [
    "#hide\n",
    "# g.rename(columns= {'date':'day'},inplace = True)"
   ]
  },
  {
   "cell_type": "code",
   "execution_count": 38,
   "id": "major-fight",
   "metadata": {
    "execution": {
     "iopub.execute_input": "2021-06-05T00:44:54.903331Z",
     "iopub.status.busy": "2021-06-05T00:44:54.902529Z",
     "iopub.status.idle": "2021-06-05T00:44:54.905590Z",
     "shell.execute_reply": "2021-06-05T00:44:54.904979Z"
    },
    "papermill": {
     "duration": 0.042016,
     "end_time": "2021-06-05T00:44:54.905718",
     "exception": false,
     "start_time": "2021-06-05T00:44:54.863702",
     "status": "completed"
    },
    "tags": []
   },
   "outputs": [],
   "source": [
    "#hide\n",
    "# g = g[cols]"
   ]
  },
  {
   "cell_type": "code",
   "execution_count": 39,
   "id": "structured-mobile",
   "metadata": {
    "execution": {
     "iopub.execute_input": "2021-06-05T00:44:54.986163Z",
     "iopub.status.busy": "2021-06-05T00:44:54.985519Z",
     "iopub.status.idle": "2021-06-05T00:44:54.987722Z",
     "shell.execute_reply": "2021-06-05T00:44:54.988211Z"
    },
    "papermill": {
     "duration": 0.044782,
     "end_time": "2021-06-05T00:44:54.988332",
     "exception": false,
     "start_time": "2021-06-05T00:44:54.943550",
     "status": "completed"
    },
    "tags": []
   },
   "outputs": [],
   "source": [
    "# #hide\n",
    "# g = g[g.group.notna()]"
   ]
  },
  {
   "cell_type": "code",
   "execution_count": 40,
   "id": "determined-closing",
   "metadata": {
    "execution": {
     "iopub.execute_input": "2021-06-05T00:44:55.069331Z",
     "iopub.status.busy": "2021-06-05T00:44:55.068603Z",
     "iopub.status.idle": "2021-06-05T00:44:55.070702Z",
     "shell.execute_reply": "2021-06-05T00:44:55.071402Z"
    },
    "papermill": {
     "duration": 0.046881,
     "end_time": "2021-06-05T00:44:55.071602",
     "exception": false,
     "start_time": "2021-06-05T00:44:55.024721",
     "status": "completed"
    },
    "tags": []
   },
   "outputs": [],
   "source": [
    "# #hide\n",
    "# colors = dict(zip(\n",
    "#     [\"Oceania\", \"Europe\", \"Asia\", \"South America\", \"Middle East\", \"North America\", \"Africa\"],\n",
    "#     [\"#adb0ff\", \"#ffb3ff\", \"#90d595\", \"#e48381\", \"#aafbff\", \"#f7bb5f\", \"#eafb50\"]\n",
    "# ))\n",
    "# group_lk = g.set_index('name')['group'].to_dict()"
   ]
  },
  {
   "cell_type": "code",
   "execution_count": null,
   "id": "gross-drinking",
   "metadata": {
    "papermill": {
     "duration": 0.040043,
     "end_time": "2021-06-05T00:44:55.147386",
     "exception": false,
     "start_time": "2021-06-05T00:44:55.107343",
     "status": "completed"
    },
    "tags": []
   },
   "outputs": [],
   "source": []
  },
  {
   "cell_type": "code",
   "execution_count": 41,
   "id": "subject-macintosh",
   "metadata": {
    "execution": {
     "iopub.execute_input": "2021-06-05T00:44:55.229325Z",
     "iopub.status.busy": "2021-06-05T00:44:55.228704Z",
     "iopub.status.idle": "2021-06-05T00:44:55.231129Z",
     "shell.execute_reply": "2021-06-05T00:44:55.230657Z"
    },
    "papermill": {
     "duration": 0.044822,
     "end_time": "2021-06-05T00:44:55.231247",
     "exception": false,
     "start_time": "2021-06-05T00:44:55.186425",
     "status": "completed"
    },
    "tags": []
   },
   "outputs": [],
   "source": [
    "# #hide\n",
    "# fig, ax = plt.subplots(figsize=(15, 8))\n",
    "\n",
    "# def draw_barchart(current_day):\n",
    "#     dff = g[g['day'].eq(current_day)].sort_values(by='value', ascending=True).tail(10)\n",
    "#     ax.clear()\n",
    "#     ax.barh(dff['name'], dff['value'], color=[colors[group_lk[x]] for x in dff['name']])\n",
    "#     dx = dff['value'].max() / 200\n",
    "    \n",
    "#     for i, (value, name) in enumerate(zip(dff['value'], dff['name'])):\n",
    "#         ax.text(value-dx, i,     name,           size=14, weight=600, ha='right', va='bottom')\n",
    "#         ax.text(value-dx, i-.25, group_lk[name], size=10, color='#444444', ha='right', va='baseline')\n",
    "#         ax.text(value+dx, i,     f'{value:,.0f}',  size=14, ha='left',  va='center')\n",
    "#     ax.text(1, 0.4, current_day, transform=ax.transAxes, color='#777777', size=46, ha='right', weight=800)\n",
    "#     ax.text(0, 1.06, 'Population (thousands)', transform=ax.transAxes, size=12, color='#777777')\n",
    "#     ax.xaxis.set_major_formatter(ticker.StrMethodFormatter('{x:,.0f}'))\n",
    "#     ax.xaxis.set_ticks_position('top')\n",
    "#     ax.tick_params(axis='x', colors='#777777', labelsize=12)\n",
    "#     ax.set_yticks([])\n",
    "#     ax.margins(0, 0.01)\n",
    "#     ax.grid(which='major', axis='x', linestyle='-')\n",
    "#     ax.set_axisbelow(True)\n",
    "    \n",
    "#     ax.text(0, 1.15, 'Coronavirus',\n",
    "#             transform=ax.transAxes, size=24, weight=600, ha='left', va='top')\n",
    "# #     ax.text(1, 0, 'by @pratapvardhan; credit @jburnmurdoch', transform=ax.transAxes, color='#777777', ha='right',\n",
    "# #             bbox=dict(facecolor='white', alpha=0.8, edgecolor='white'))\n",
    "#     plt.box(False)"
   ]
  },
  {
   "cell_type": "code",
   "execution_count": 42,
   "id": "sexual-wages",
   "metadata": {
    "execution": {
     "iopub.execute_input": "2021-06-05T00:44:55.307276Z",
     "iopub.status.busy": "2021-06-05T00:44:55.306682Z",
     "iopub.status.idle": "2021-06-05T00:44:55.308748Z",
     "shell.execute_reply": "2021-06-05T00:44:55.308292Z"
    },
    "papermill": {
     "duration": 0.040312,
     "end_time": "2021-06-05T00:44:55.308857",
     "exception": false,
     "start_time": "2021-06-05T00:44:55.268545",
     "status": "completed"
    },
    "tags": []
   },
   "outputs": [],
   "source": [
    "# #hide_input\n",
    "# fig, ax = plt.subplots(figsize=(15, 8))\n",
    "# animator = animation.FuncAnimation(fig, draw_barchart, frames=range(g.day.values.min(), g.day.values.max()))\n",
    "# HTML(animator.to_jshtml())\n",
    "# # or use animator.to_html5_video() or animator.save() "
   ]
  },
  {
   "cell_type": "code",
   "execution_count": null,
   "id": "australian-container",
   "metadata": {
    "papermill": {
     "duration": 0.036848,
     "end_time": "2021-06-05T00:44:55.383085",
     "exception": false,
     "start_time": "2021-06-05T00:44:55.346237",
     "status": "completed"
    },
    "tags": []
   },
   "outputs": [],
   "source": []
  },
  {
   "cell_type": "code",
   "execution_count": null,
   "id": "mediterranean-pontiac",
   "metadata": {
    "papermill": {
     "duration": 0.036202,
     "end_time": "2021-06-05T00:44:55.457865",
     "exception": false,
     "start_time": "2021-06-05T00:44:55.421663",
     "status": "completed"
    },
    "tags": []
   },
   "outputs": [],
   "source": []
  },
  {
   "cell_type": "code",
   "execution_count": null,
   "id": "aging-legislature",
   "metadata": {
    "papermill": {
     "duration": 0.037545,
     "end_time": "2021-06-05T00:44:55.531734",
     "exception": false,
     "start_time": "2021-06-05T00:44:55.494189",
     "status": "completed"
    },
    "tags": []
   },
   "outputs": [],
   "source": []
  }
 ],
 "metadata": {
  "kernelspec": {
   "display_name": "Python 3",
   "language": "python",
   "name": "python3"
  },
  "language_info": {
   "codemirror_mode": {
    "name": "ipython",
    "version": 3
   },
   "file_extension": ".py",
   "mimetype": "text/x-python",
   "name": "python",
   "nbconvert_exporter": "python",
   "pygments_lexer": "ipython3",
   "version": "3.6.13"
  },
  "papermill": {
   "duration": 6.595008,
   "end_time": "2021-06-05T00:44:55.875459",
   "environment_variables": {},
   "exception": null,
   "input_path": "2020-03-21-covid19exp.ipynb",
   "output_path": "2020-03-21-covid19exp.ipynb",
   "parameters": {},
   "start_time": "2021-06-05T00:44:49.280451",
   "version": "2.0.0"
  }
 },
 "nbformat": 4,
 "nbformat_minor": 5
}