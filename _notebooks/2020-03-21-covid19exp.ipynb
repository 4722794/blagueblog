{
 "cells": [
  {
   "cell_type": "markdown",
   "metadata": {
    "papermill": {
     "duration": 0.040028,
     "end_time": "2020-12-21T12:08:46.011790",
     "exception": false,
     "start_time": "2020-12-21T12:08:45.971762",
     "status": "completed"
    },
    "tags": []
   },
   "source": [
    "# COVID-19 Case Race\n",
    "> A race chart to see rising cases around the world\n",
    "\n",
    "- author: Hargun Oberoi\n",
    "- image: images/covid-overview.png\n",
    "- hide: false\n",
    "- badges: false"
   ]
  },
  {
   "cell_type": "code",
   "execution_count": 1,
   "metadata": {
    "execution": {
     "iopub.execute_input": "2020-12-21T12:08:46.098463Z",
     "iopub.status.busy": "2020-12-21T12:08:46.097735Z",
     "iopub.status.idle": "2020-12-21T12:08:46.496472Z",
     "shell.execute_reply": "2020-12-21T12:08:46.495812Z"
    },
    "papermill": {
     "duration": 0.44782,
     "end_time": "2020-12-21T12:08:46.496650",
     "exception": false,
     "start_time": "2020-12-21T12:08:46.048830",
     "status": "completed"
    },
    "tags": []
   },
   "outputs": [],
   "source": [
    "#hide\n",
    "import numpy as np\n",
    "import pandas as pd\n",
    "from jinja2 import Template\n",
    "from IPython.display import HTML"
   ]
  },
  {
   "cell_type": "code",
   "execution_count": 2,
   "metadata": {
    "execution": {
     "iopub.execute_input": "2020-12-21T12:08:46.574098Z",
     "iopub.status.busy": "2020-12-21T12:08:46.573312Z",
     "iopub.status.idle": "2020-12-21T12:08:46.576090Z",
     "shell.execute_reply": "2020-12-21T12:08:46.575522Z"
    },
    "papermill": {
     "duration": 0.042696,
     "end_time": "2020-12-21T12:08:46.576236",
     "exception": false,
     "start_time": "2020-12-21T12:08:46.533540",
     "status": "completed"
    },
    "tags": []
   },
   "outputs": [],
   "source": [
    "#hide\n",
    "\n",
    "# FETCH\n",
    "base_url = 'https://raw.githubusercontent.com/pratapvardhan/notebooks/master/covid19/'\n",
    "paths = {\n",
    "    'mapping': base_url + 'mapping_countries.csv',\n",
    "    'overview': base_url + 'overview.tpl'\n",
    "}"
   ]
  },
  {
   "cell_type": "code",
   "execution_count": 3,
   "metadata": {
    "execution": {
     "iopub.execute_input": "2020-12-21T12:08:46.664207Z",
     "iopub.status.busy": "2020-12-21T12:08:46.663393Z",
     "iopub.status.idle": "2020-12-21T12:08:46.666354Z",
     "shell.execute_reply": "2020-12-21T12:08:46.666928Z"
    },
    "papermill": {
     "duration": 0.052212,
     "end_time": "2020-12-21T12:08:46.667101",
     "exception": false,
     "start_time": "2020-12-21T12:08:46.614889",
     "status": "completed"
    },
    "tags": []
   },
   "outputs": [
    {
     "data": {
      "text/plain": [
       "'https://raw.githubusercontent.com/pratapvardhan/notebooks/master/covid19/mapping_countries.csv'"
      ]
     },
     "execution_count": 3,
     "metadata": {},
     "output_type": "execute_result"
    }
   ],
   "source": [
    "#hide\n",
    "paths['mapping']"
   ]
  },
  {
   "cell_type": "code",
   "execution_count": 4,
   "metadata": {
    "execution": {
     "iopub.execute_input": "2020-12-21T12:08:46.747986Z",
     "iopub.status.busy": "2020-12-21T12:08:46.747260Z",
     "iopub.status.idle": "2020-12-21T12:08:46.749751Z",
     "shell.execute_reply": "2020-12-21T12:08:46.749046Z"
    },
    "papermill": {
     "duration": 0.046781,
     "end_time": "2020-12-21T12:08:46.749897",
     "exception": false,
     "start_time": "2020-12-21T12:08:46.703116",
     "status": "completed"
    },
    "tags": []
   },
   "outputs": [],
   "source": [
    "#hide\n",
    "def get_mappings(url):\n",
    "    df = pd.read_csv(url)\n",
    "    return {\n",
    "        'df': df,\n",
    "        'replace.country': dict(df.dropna(subset=['Name']).set_index('Country')['Name']),\n",
    "        'map.continent': dict(df.set_index('Name')['Continent'])\n",
    "    }"
   ]
  },
  {
   "cell_type": "code",
   "execution_count": 5,
   "metadata": {
    "execution": {
     "iopub.execute_input": "2020-12-21T12:08:46.827720Z",
     "iopub.status.busy": "2020-12-21T12:08:46.827042Z",
     "iopub.status.idle": "2020-12-21T12:08:46.860537Z",
     "shell.execute_reply": "2020-12-21T12:08:46.859267Z"
    },
    "papermill": {
     "duration": 0.075655,
     "end_time": "2020-12-21T12:08:46.860705",
     "exception": false,
     "start_time": "2020-12-21T12:08:46.785050",
     "status": "completed"
    },
    "tags": []
   },
   "outputs": [],
   "source": [
    "#hide\n",
    "mapping = get_mappings(paths['mapping'])"
   ]
  },
  {
   "cell_type": "code",
   "execution_count": 6,
   "metadata": {
    "execution": {
     "iopub.execute_input": "2020-12-21T12:08:46.943698Z",
     "iopub.status.busy": "2020-12-21T12:08:46.942856Z",
     "iopub.status.idle": "2020-12-21T12:08:46.945086Z",
     "shell.execute_reply": "2020-12-21T12:08:46.944378Z"
    },
    "papermill": {
     "duration": 0.047497,
     "end_time": "2020-12-21T12:08:46.945273",
     "exception": false,
     "start_time": "2020-12-21T12:08:46.897776",
     "status": "completed"
    },
    "tags": []
   },
   "outputs": [],
   "source": [
    "#hide\n",
    "def get_template(path):\n",
    "    from urllib.parse import urlparse\n",
    "    if bool(urlparse(path).netloc):\n",
    "        from urllib.request import urlopen\n",
    "        return urlopen(path).read().decode('utf8')\n",
    "    return open(path).read()"
   ]
  },
  {
   "cell_type": "code",
   "execution_count": 7,
   "metadata": {
    "execution": {
     "iopub.execute_input": "2020-12-21T12:08:47.023209Z",
     "iopub.status.busy": "2020-12-21T12:08:47.022382Z",
     "iopub.status.idle": "2020-12-21T12:08:47.024662Z",
     "shell.execute_reply": "2020-12-21T12:08:47.025247Z"
    },
    "papermill": {
     "duration": 0.043666,
     "end_time": "2020-12-21T12:08:47.025484",
     "exception": false,
     "start_time": "2020-12-21T12:08:46.981818",
     "status": "completed"
    },
    "tags": []
   },
   "outputs": [],
   "source": [
    "#hide\n",
    "def get_frame(name):\n",
    "    url = (\n",
    "        'https://raw.githubusercontent.com/CSSEGISandData/COVID-19/master/csse_covid_19_data/'\n",
    "        f'csse_covid_19_time_series/time_series_covid19_{name}_global.csv')\n",
    "    df = pd.read_csv(url)\n",
    "    # rename countries\n",
    "    df['Country/Region'] = df['Country/Region'].replace(mapping['replace.country'])\n",
    "    return df"
   ]
  },
  {
   "cell_type": "code",
   "execution_count": 8,
   "metadata": {
    "execution": {
     "iopub.execute_input": "2020-12-21T12:08:47.107731Z",
     "iopub.status.busy": "2020-12-21T12:08:47.106961Z",
     "iopub.status.idle": "2020-12-21T12:08:47.108999Z",
     "shell.execute_reply": "2020-12-21T12:08:47.109631Z"
    },
    "papermill": {
     "duration": 0.048221,
     "end_time": "2020-12-21T12:08:47.109814",
     "exception": false,
     "start_time": "2020-12-21T12:08:47.061593",
     "status": "completed"
    },
    "tags": []
   },
   "outputs": [],
   "source": [
    "#hide\n",
    "def get_dates(df):\n",
    "    dt_cols = df.columns[~df.columns.isin(['Province/State', 'Country/Region', 'Lat', 'Long'])]\n",
    "    LAST_DATE_I = -1\n",
    "    # sometimes last column may be empty, then go backwards\n",
    "    for i in range(-1, -len(dt_cols), -1):\n",
    "        if not df[dt_cols[i]].fillna(0).eq(0).all():\n",
    "            LAST_DATE_I = i\n",
    "            break\n",
    "    return LAST_DATE_I, dt_cols"
   ]
  },
  {
   "cell_type": "code",
   "execution_count": 9,
   "metadata": {
    "execution": {
     "iopub.execute_input": "2020-12-21T12:08:47.192264Z",
     "iopub.status.busy": "2020-12-21T12:08:47.191468Z",
     "iopub.status.idle": "2020-12-21T12:08:47.448133Z",
     "shell.execute_reply": "2020-12-21T12:08:47.447539Z"
    },
    "papermill": {
     "duration": 0.301318,
     "end_time": "2020-12-21T12:08:47.448287",
     "exception": false,
     "start_time": "2020-12-21T12:08:47.146969",
     "status": "completed"
    },
    "tags": []
   },
   "outputs": [],
   "source": [
    "#hide\n",
    "COL_REGION = 'Country/Region'\n",
    "# Confirmed, Recovered, Deaths\n",
    "df = get_frame('confirmed')\n",
    "# dft_: timeseries, dfc_: today country agg\n",
    "dft_cases = df\n",
    "dft_deaths = get_frame('deaths')\n",
    "dft_recovered = get_frame('recovered')\n",
    "LAST_DATE_I, dt_cols = get_dates(df)"
   ]
  },
  {
   "cell_type": "code",
   "execution_count": 10,
   "metadata": {
    "execution": {
     "iopub.execute_input": "2020-12-21T12:08:47.532008Z",
     "iopub.status.busy": "2020-12-21T12:08:47.531239Z",
     "iopub.status.idle": "2020-12-21T12:08:47.534115Z",
     "shell.execute_reply": "2020-12-21T12:08:47.533475Z"
    },
    "papermill": {
     "duration": 0.050688,
     "end_time": "2020-12-21T12:08:47.534298",
     "exception": false,
     "start_time": "2020-12-21T12:08:47.483610",
     "status": "completed"
    },
    "tags": []
   },
   "outputs": [],
   "source": [
    "#hide\n",
    "LAST_DATE_I, dt_cols = get_dates(df)\n",
    "dt_today =dt_cols[LAST_DATE_I]\n",
    "# dt_5day = dt_cols[LAST_DATE_I - 5]\n",
    "dt_yday = dt_cols[LAST_DATE_I - 1]"
   ]
  },
  {
   "cell_type": "code",
   "execution_count": 11,
   "metadata": {
    "execution": {
     "iopub.execute_input": "2020-12-21T12:08:47.615063Z",
     "iopub.status.busy": "2020-12-21T12:08:47.614188Z",
     "iopub.status.idle": "2020-12-21T12:08:47.623067Z",
     "shell.execute_reply": "2020-12-21T12:08:47.622428Z"
    },
    "papermill": {
     "duration": 0.052115,
     "end_time": "2020-12-21T12:08:47.623218",
     "exception": false,
     "start_time": "2020-12-21T12:08:47.571103",
     "status": "completed"
    },
    "tags": []
   },
   "outputs": [],
   "source": [
    "#hide\n",
    "dfc_cases = dft_cases.groupby(COL_REGION)[dt_today].sum()\n",
    "dfc_deaths = dft_deaths.groupby(COL_REGION)[dt_today].sum()\n",
    "# dfp_cases = dft_cases.groupby(COL_REGION)[dt_5day].sum()\n",
    "# dfp_deaths = dft_deaths.groupby(COL_REGION)[dt_5day].sum()\n",
    "dfp_cases = dft_cases.groupby(COL_REGION)[dt_yday].sum()\n",
    "dfp_deaths = dft_deaths.groupby(COL_REGION)[dt_yday].sum()"
   ]
  },
  {
   "cell_type": "code",
   "execution_count": 12,
   "metadata": {
    "execution": {
     "iopub.execute_input": "2020-12-21T12:08:47.702491Z",
     "iopub.status.busy": "2020-12-21T12:08:47.701731Z",
     "iopub.status.idle": "2020-12-21T12:08:47.706954Z",
     "shell.execute_reply": "2020-12-21T12:08:47.707608Z"
    },
    "papermill": {
     "duration": 0.048632,
     "end_time": "2020-12-21T12:08:47.707815",
     "exception": false,
     "start_time": "2020-12-21T12:08:47.659183",
     "status": "completed"
    },
    "tags": []
   },
   "outputs": [],
   "source": [
    "#hide\n",
    "df_table = (pd.DataFrame(dict(Cases = dfc_cases, Deaths = dfc_deaths, PCases = dfp_cases, PDeaths = dfp_deaths))\n",
    "            .sort_values(by = ['Cases','Deaths'], ascending = [False, False])\n",
    "            .reset_index())"
   ]
  },
  {
   "cell_type": "code",
   "execution_count": 13,
   "metadata": {
    "execution": {
     "iopub.execute_input": "2020-12-21T12:08:47.802532Z",
     "iopub.status.busy": "2020-12-21T12:08:47.801664Z",
     "iopub.status.idle": "2020-12-21T12:08:47.811960Z",
     "shell.execute_reply": "2020-12-21T12:08:47.811371Z"
    },
    "papermill": {
     "duration": 0.068021,
     "end_time": "2020-12-21T12:08:47.812108",
     "exception": false,
     "start_time": "2020-12-21T12:08:47.744087",
     "status": "completed"
    },
    "tags": []
   },
   "outputs": [
    {
     "data": {
      "text/html": [
       "<div>\n",
       "<style scoped>\n",
       "    .dataframe tbody tr th:only-of-type {\n",
       "        vertical-align: middle;\n",
       "    }\n",
       "\n",
       "    .dataframe tbody tr th {\n",
       "        vertical-align: top;\n",
       "    }\n",
       "\n",
       "    .dataframe thead th {\n",
       "        text-align: right;\n",
       "    }\n",
       "</style>\n",
       "<table border=\"1\" class=\"dataframe\">\n",
       "  <thead>\n",
       "    <tr style=\"text-align: right;\">\n",
       "      <th></th>\n",
       "      <th>Country/Region</th>\n",
       "      <th>Cases</th>\n",
       "      <th>Deaths</th>\n",
       "      <th>PCases</th>\n",
       "      <th>PDeaths</th>\n",
       "      <th>Cases (+)</th>\n",
       "      <th>Deaths (+)</th>\n",
       "      <th>Fatality Rate</th>\n",
       "      <th>Continent</th>\n",
       "    </tr>\n",
       "  </thead>\n",
       "  <tbody>\n",
       "    <tr>\n",
       "      <th>0</th>\n",
       "      <td>US</td>\n",
       "      <td>17844690</td>\n",
       "      <td>317668</td>\n",
       "      <td>17655591</td>\n",
       "      <td>316159</td>\n",
       "      <td>189099</td>\n",
       "      <td>1509</td>\n",
       "      <td>1.78</td>\n",
       "      <td>North America</td>\n",
       "    </tr>\n",
       "    <tr>\n",
       "      <th>1</th>\n",
       "      <td>India</td>\n",
       "      <td>10055560</td>\n",
       "      <td>145810</td>\n",
       "      <td>10031223</td>\n",
       "      <td>145477</td>\n",
       "      <td>24337</td>\n",
       "      <td>333</td>\n",
       "      <td>1.45</td>\n",
       "      <td>Asia</td>\n",
       "    </tr>\n",
       "    <tr>\n",
       "      <th>2</th>\n",
       "      <td>Brazil</td>\n",
       "      <td>7238600</td>\n",
       "      <td>186764</td>\n",
       "      <td>7213155</td>\n",
       "      <td>186356</td>\n",
       "      <td>25445</td>\n",
       "      <td>408</td>\n",
       "      <td>2.58</td>\n",
       "      <td>South America</td>\n",
       "    </tr>\n",
       "    <tr>\n",
       "      <th>3</th>\n",
       "      <td>Russia</td>\n",
       "      <td>2821125</td>\n",
       "      <td>50242</td>\n",
       "      <td>2792615</td>\n",
       "      <td>49744</td>\n",
       "      <td>28510</td>\n",
       "      <td>498</td>\n",
       "      <td>1.78</td>\n",
       "      <td>Europe</td>\n",
       "    </tr>\n",
       "    <tr>\n",
       "      <th>4</th>\n",
       "      <td>France</td>\n",
       "      <td>2529756</td>\n",
       "      <td>60665</td>\n",
       "      <td>2516957</td>\n",
       "      <td>60534</td>\n",
       "      <td>12799</td>\n",
       "      <td>131</td>\n",
       "      <td>2.40</td>\n",
       "      <td>Europe</td>\n",
       "    </tr>\n",
       "  </tbody>\n",
       "</table>\n",
       "</div>"
      ],
      "text/plain": [
       "  Country/Region     Cases  Deaths    PCases  PDeaths  Cases (+)  Deaths (+)  \\\n",
       "0             US  17844690  317668  17655591   316159     189099        1509   \n",
       "1          India  10055560  145810  10031223   145477      24337         333   \n",
       "2         Brazil   7238600  186764   7213155   186356      25445         408   \n",
       "3         Russia   2821125   50242   2792615    49744      28510         498   \n",
       "4         France   2529756   60665   2516957    60534      12799         131   \n",
       "\n",
       "   Fatality Rate      Continent  \n",
       "0           1.78  North America  \n",
       "1           1.45           Asia  \n",
       "2           2.58  South America  \n",
       "3           1.78         Europe  \n",
       "4           2.40         Europe  "
      ]
     },
     "execution_count": 13,
     "metadata": {},
     "output_type": "execute_result"
    }
   ],
   "source": [
    "#hide\n",
    "for c in 'Cases, Deaths'.split(', '):\n",
    "    df_table[f'{c} (+)'] = (df_table[c] - df_table[f'P{c}']).clip(0)\n",
    "    #Clip ça veut dire, les chiffres negatif sont interdit\n",
    "df_table['Fatality Rate'] = (100* df_table['Deaths']/ df_table['Cases']).round(2)\n",
    "df_table['Continent'] = df_table['Country/Region'].map(mapping['map.continent'])\n",
    "df_table.head(5)"
   ]
  },
  {
   "cell_type": "code",
   "execution_count": 14,
   "metadata": {
    "execution": {
     "iopub.execute_input": "2020-12-21T12:08:47.893064Z",
     "iopub.status.busy": "2020-12-21T12:08:47.892294Z",
     "iopub.status.idle": "2020-12-21T12:08:47.895141Z",
     "shell.execute_reply": "2020-12-21T12:08:47.895788Z"
    },
    "papermill": {
     "duration": 0.047521,
     "end_time": "2020-12-21T12:08:47.895947",
     "exception": false,
     "start_time": "2020-12-21T12:08:47.848426",
     "status": "completed"
    },
    "tags": []
   },
   "outputs": [],
   "source": [
    "#hide\n",
    "#delete problematic countries from table\n",
    "df_table = df_table[~df_table['Country/Region'].isin(['Cape Verde', 'Cruise Ship', 'Kosovo'])]"
   ]
  },
  {
   "cell_type": "code",
   "execution_count": 15,
   "metadata": {
    "execution": {
     "iopub.execute_input": "2020-12-21T12:08:47.979400Z",
     "iopub.status.busy": "2020-12-21T12:08:47.978705Z",
     "iopub.status.idle": "2020-12-21T12:08:48.006149Z",
     "shell.execute_reply": "2020-12-21T12:08:48.005514Z"
    },
    "papermill": {
     "duration": 0.074565,
     "end_time": "2020-12-21T12:08:48.006329",
     "exception": false,
     "start_time": "2020-12-21T12:08:47.931764",
     "status": "completed"
    },
    "tags": []
   },
   "outputs": [
    {
     "data": {
      "text/html": [
       "<div>\n",
       "<style scoped>\n",
       "    .dataframe tbody tr th:only-of-type {\n",
       "        vertical-align: middle;\n",
       "    }\n",
       "\n",
       "    .dataframe tbody tr th {\n",
       "        vertical-align: top;\n",
       "    }\n",
       "\n",
       "    .dataframe thead th {\n",
       "        text-align: right;\n",
       "    }\n",
       "</style>\n",
       "<table border=\"1\" class=\"dataframe\">\n",
       "  <thead>\n",
       "    <tr style=\"text-align: right;\">\n",
       "      <th></th>\n",
       "      <th>Country/Region</th>\n",
       "      <th>Cases</th>\n",
       "      <th>Deaths</th>\n",
       "      <th>PCases</th>\n",
       "      <th>PDeaths</th>\n",
       "      <th>Cases (+)</th>\n",
       "      <th>Deaths (+)</th>\n",
       "      <th>Fatality Rate</th>\n",
       "      <th>Continent</th>\n",
       "    </tr>\n",
       "  </thead>\n",
       "  <tbody>\n",
       "    <tr>\n",
       "      <th>0</th>\n",
       "      <td>US</td>\n",
       "      <td>17844690</td>\n",
       "      <td>317668</td>\n",
       "      <td>17655591</td>\n",
       "      <td>316159</td>\n",
       "      <td>189099</td>\n",
       "      <td>1509</td>\n",
       "      <td>1.8</td>\n",
       "      <td>North America</td>\n",
       "    </tr>\n",
       "    <tr>\n",
       "      <th>1</th>\n",
       "      <td>India</td>\n",
       "      <td>10055560</td>\n",
       "      <td>145810</td>\n",
       "      <td>10031223</td>\n",
       "      <td>145477</td>\n",
       "      <td>24337</td>\n",
       "      <td>333</td>\n",
       "      <td>1.5</td>\n",
       "      <td>Asia</td>\n",
       "    </tr>\n",
       "    <tr>\n",
       "      <th>2</th>\n",
       "      <td>Brazil</td>\n",
       "      <td>7238600</td>\n",
       "      <td>186764</td>\n",
       "      <td>7213155</td>\n",
       "      <td>186356</td>\n",
       "      <td>25445</td>\n",
       "      <td>408</td>\n",
       "      <td>2.6</td>\n",
       "      <td>South America</td>\n",
       "    </tr>\n",
       "    <tr>\n",
       "      <th>3</th>\n",
       "      <td>Russia</td>\n",
       "      <td>2821125</td>\n",
       "      <td>50242</td>\n",
       "      <td>2792615</td>\n",
       "      <td>49744</td>\n",
       "      <td>28510</td>\n",
       "      <td>498</td>\n",
       "      <td>1.8</td>\n",
       "      <td>Europe</td>\n",
       "    </tr>\n",
       "    <tr>\n",
       "      <th>4</th>\n",
       "      <td>France</td>\n",
       "      <td>2529756</td>\n",
       "      <td>60665</td>\n",
       "      <td>2516957</td>\n",
       "      <td>60534</td>\n",
       "      <td>12799</td>\n",
       "      <td>131</td>\n",
       "      <td>2.4</td>\n",
       "      <td>Europe</td>\n",
       "    </tr>\n",
       "  </tbody>\n",
       "</table>\n",
       "</div>"
      ],
      "text/plain": [
       "  Country/Region     Cases  Deaths    PCases  PDeaths  Cases (+)  Deaths (+)  \\\n",
       "0             US  17844690  317668  17655591   316159     189099        1509   \n",
       "1          India  10055560  145810  10031223   145477      24337         333   \n",
       "2         Brazil   7238600  186764   7213155   186356      25445         408   \n",
       "3         Russia   2821125   50242   2792615    49744      28510         498   \n",
       "4         France   2529756   60665   2516957    60534      12799         131   \n",
       "\n",
       "   Fatality Rate      Continent  \n",
       "0            1.8  North America  \n",
       "1            1.5           Asia  \n",
       "2            2.6  South America  \n",
       "3            1.8         Europe  \n",
       "4            2.4         Europe  "
      ]
     },
     "execution_count": 15,
     "metadata": {},
     "output_type": "execute_result"
    }
   ],
   "source": [
    "#hide\n",
    "df_table = (pd.DataFrame(dict(Cases=dfc_cases, Deaths=dfc_deaths, PCases=dfp_cases, PDeaths=dfp_deaths))\n",
    "             .sort_values(by=['Cases', 'Deaths'], ascending=[False, False])\n",
    "             .reset_index())\n",
    "df_table.rename(columns={'index': 'Country/Region'}, inplace=True)\n",
    "for c in 'Cases, Deaths'.split(', '):\n",
    "    df_table[f'{c} (+)'] = (df_table[c] - df_table[f'P{c}']).clip(0)  # DATA BUG\n",
    "df_table['Fatality Rate'] = (100 * df_table['Deaths'] / df_table['Cases']).round(1)\n",
    "df_table['Continent'] = df_table['Country/Region'].map(mapping['map.continent'])\n",
    "df_table.head(5)"
   ]
  },
  {
   "cell_type": "code",
   "execution_count": 16,
   "metadata": {
    "execution": {
     "iopub.execute_input": "2020-12-21T12:08:48.090652Z",
     "iopub.status.busy": "2020-12-21T12:08:48.089841Z",
     "iopub.status.idle": "2020-12-21T12:08:48.092981Z",
     "shell.execute_reply": "2020-12-21T12:08:48.093646Z"
    },
    "papermill": {
     "duration": 0.048508,
     "end_time": "2020-12-21T12:08:48.093824",
     "exception": false,
     "start_time": "2020-12-21T12:08:48.045316",
     "status": "completed"
    },
    "tags": []
   },
   "outputs": [],
   "source": [
    "#hide\n",
    "#delete problematic countries from table\n",
    "df_table = df_table[~df_table['Country/Region'].isin(['Cape Verde', 'Cruise Ship', 'Kosovo'])]"
   ]
  },
  {
   "cell_type": "code",
   "execution_count": 17,
   "metadata": {
    "execution": {
     "iopub.execute_input": "2020-12-21T12:08:48.175231Z",
     "iopub.status.busy": "2020-12-21T12:08:48.174433Z",
     "iopub.status.idle": "2020-12-21T12:08:48.191774Z",
     "shell.execute_reply": "2020-12-21T12:08:48.191055Z"
    },
    "papermill": {
     "duration": 0.062173,
     "end_time": "2020-12-21T12:08:48.191932",
     "exception": false,
     "start_time": "2020-12-21T12:08:48.129759",
     "status": "completed"
    },
    "tags": []
   },
   "outputs": [],
   "source": [
    "#hide\n",
    "metrics = [df_table.columns[index] for index in [1,2,5,6]]\n",
    "# s_china = df_table[df_table['Country/Region'].eq('China')][metrics].sum().add_prefix('China ')\n",
    "s_us = df_table[df_table['Country/Region'].eq('US')][metrics].sum().add_prefix('US ')\n",
    "s_eu = df_table[df_table['Continent'].eq('Europe')][metrics].sum().add_prefix('EU ')\n",
    "s_ind = df_table[df_table['Country/Region'].eq('India')][metrics].sum().add_prefix('India ')\n",
    "summary = {'updated': pd.to_datetime(dt_today), 'since': pd.to_datetime(dt_yday)}\n",
    "summary = {'updated': pd.to_datetime(dt_today), 'since': pd.to_datetime(dt_yday)}\n",
    "summary = {**summary, **df_table[metrics].sum(), **s_ind, **s_us, **s_eu}"
   ]
  },
  {
   "cell_type": "code",
   "execution_count": 18,
   "metadata": {
    "execution": {
     "iopub.execute_input": "2020-12-21T12:08:48.278520Z",
     "iopub.status.busy": "2020-12-21T12:08:48.277794Z",
     "iopub.status.idle": "2020-12-21T12:08:48.289943Z",
     "shell.execute_reply": "2020-12-21T12:08:48.289354Z"
    },
    "papermill": {
     "duration": 0.061552,
     "end_time": "2020-12-21T12:08:48.290103",
     "exception": false,
     "start_time": "2020-12-21T12:08:48.228551",
     "status": "completed"
    },
    "tags": []
   },
   "outputs": [],
   "source": [
    "#hide\n",
    "dft_ct_new_cases = dft_cases.groupby(COL_REGION)[dt_cols].sum().diff(axis=1).fillna(0).astype(int)"
   ]
  },
  {
   "cell_type": "code",
   "execution_count": 19,
   "metadata": {
    "execution": {
     "iopub.execute_input": "2020-12-21T12:08:48.367154Z",
     "iopub.status.busy": "2020-12-21T12:08:48.366452Z",
     "iopub.status.idle": "2020-12-21T12:08:48.371422Z",
     "shell.execute_reply": "2020-12-21T12:08:48.370830Z"
    },
    "papermill": {
     "duration": 0.045178,
     "end_time": "2020-12-21T12:08:48.371601",
     "exception": false,
     "start_time": "2020-12-21T12:08:48.326423",
     "status": "completed"
    },
    "tags": []
   },
   "outputs": [],
   "source": [
    "#hide\n",
    "everydaycases = dft_ct_new_cases.cumsum(axis=1)"
   ]
  },
  {
   "cell_type": "code",
   "execution_count": 20,
   "metadata": {
    "execution": {
     "iopub.execute_input": "2020-12-21T12:08:48.450840Z",
     "iopub.status.busy": "2020-12-21T12:08:48.450106Z",
     "iopub.status.idle": "2020-12-21T12:08:51.254141Z",
     "shell.execute_reply": "2020-12-21T12:08:51.254727Z"
    },
    "papermill": {
     "duration": 2.846285,
     "end_time": "2020-12-21T12:08:51.254933",
     "exception": false,
     "start_time": "2020-12-21T12:08:48.408648",
     "status": "completed"
    },
    "tags": []
   },
   "outputs": [],
   "source": [
    "#hide\n",
    "import pandas as pd\n",
    "import matplotlib.pyplot as plt\n",
    "import matplotlib.ticker as ticker\n",
    "import matplotlib.animation as animation\n",
    "from IPython.display import HTML"
   ]
  },
  {
   "cell_type": "code",
   "execution_count": 21,
   "metadata": {
    "execution": {
     "iopub.execute_input": "2020-12-21T12:08:51.336769Z",
     "iopub.status.busy": "2020-12-21T12:08:51.336082Z",
     "iopub.status.idle": "2020-12-21T12:08:51.341427Z",
     "shell.execute_reply": "2020-12-21T12:08:51.342094Z"
    },
    "papermill": {
     "duration": 0.049978,
     "end_time": "2020-12-21T12:08:51.342288",
     "exception": false,
     "start_time": "2020-12-21T12:08:51.292310",
     "status": "completed"
    },
    "tags": []
   },
   "outputs": [],
   "source": [
    "#hide\n",
    "t = everydaycases.stack()"
   ]
  },
  {
   "cell_type": "code",
   "execution_count": 22,
   "metadata": {
    "execution": {
     "iopub.execute_input": "2020-12-21T12:08:51.435939Z",
     "iopub.status.busy": "2020-12-21T12:08:51.435214Z",
     "iopub.status.idle": "2020-12-21T12:08:51.439984Z",
     "shell.execute_reply": "2020-12-21T12:08:51.440599Z"
    },
    "papermill": {
     "duration": 0.062282,
     "end_time": "2020-12-21T12:08:51.440781",
     "exception": false,
     "start_time": "2020-12-21T12:08:51.378499",
     "status": "completed"
    },
    "tags": []
   },
   "outputs": [],
   "source": [
    "#hide\n",
    "g = t.reset_index(['Country/Region'])"
   ]
  },
  {
   "cell_type": "code",
   "execution_count": 23,
   "metadata": {
    "execution": {
     "iopub.execute_input": "2020-12-21T12:08:51.781901Z",
     "iopub.status.busy": "2020-12-21T12:08:51.781073Z",
     "iopub.status.idle": "2020-12-21T12:08:51.785690Z",
     "shell.execute_reply": "2020-12-21T12:08:51.784990Z"
    },
    "papermill": {
     "duration": 0.308757,
     "end_time": "2020-12-21T12:08:51.785841",
     "exception": false,
     "start_time": "2020-12-21T12:08:51.477084",
     "status": "completed"
    },
    "tags": []
   },
   "outputs": [],
   "source": [
    "#hide\n",
    "g.index.name = 'date'"
   ]
  },
  {
   "cell_type": "code",
   "execution_count": 24,
   "metadata": {
    "execution": {
     "iopub.execute_input": "2020-12-21T12:08:52.116030Z",
     "iopub.status.busy": "2020-12-21T12:08:52.115230Z",
     "iopub.status.idle": "2020-12-21T12:08:52.118145Z",
     "shell.execute_reply": "2020-12-21T12:08:52.118763Z"
    },
    "papermill": {
     "duration": 0.045313,
     "end_time": "2020-12-21T12:08:52.118944",
     "exception": false,
     "start_time": "2020-12-21T12:08:52.073631",
     "status": "completed"
    },
    "tags": []
   },
   "outputs": [],
   "source": [
    "# #hide\n",
    "# g = g.reset_index(['date'])"
   ]
  },
  {
   "cell_type": "code",
   "execution_count": 25,
   "metadata": {
    "execution": {
     "iopub.execute_input": "2020-12-21T12:08:52.201795Z",
     "iopub.status.busy": "2020-12-21T12:08:52.200992Z",
     "iopub.status.idle": "2020-12-21T12:08:52.206142Z",
     "shell.execute_reply": "2020-12-21T12:08:52.205457Z"
    },
    "papermill": {
     "duration": 0.04586,
     "end_time": "2020-12-21T12:08:52.206319",
     "exception": false,
     "start_time": "2020-12-21T12:08:52.160459",
     "status": "completed"
    },
    "tags": []
   },
   "outputs": [],
   "source": [
    "#hide\n",
    "# g.head()"
   ]
  },
  {
   "cell_type": "code",
   "execution_count": 26,
   "metadata": {
    "execution": {
     "iopub.execute_input": "2020-12-21T12:08:52.285692Z",
     "iopub.status.busy": "2020-12-21T12:08:52.284961Z",
     "iopub.status.idle": "2020-12-21T12:08:52.287524Z",
     "shell.execute_reply": "2020-12-21T12:08:52.286673Z"
    },
    "papermill": {
     "duration": 0.042932,
     "end_time": "2020-12-21T12:08:52.287676",
     "exception": false,
     "start_time": "2020-12-21T12:08:52.244744",
     "status": "completed"
    },
    "tags": []
   },
   "outputs": [],
   "source": [
    "#hide\n",
    "# g.columns = ['date','country','cases']"
   ]
  },
  {
   "cell_type": "code",
   "execution_count": 27,
   "metadata": {
    "execution": {
     "iopub.execute_input": "2020-12-21T12:08:52.363631Z",
     "iopub.status.busy": "2020-12-21T12:08:52.362946Z",
     "iopub.status.idle": "2020-12-21T12:08:52.365667Z",
     "shell.execute_reply": "2020-12-21T12:08:52.364994Z"
    },
    "papermill": {
     "duration": 0.042591,
     "end_time": "2020-12-21T12:08:52.365809",
     "exception": false,
     "start_time": "2020-12-21T12:08:52.323218",
     "status": "completed"
    },
    "tags": []
   },
   "outputs": [],
   "source": [
    "#hide\n",
    "# g['continent'] = g.country"
   ]
  },
  {
   "cell_type": "code",
   "execution_count": 28,
   "metadata": {
    "execution": {
     "iopub.execute_input": "2020-12-21T12:08:52.442675Z",
     "iopub.status.busy": "2020-12-21T12:08:52.441954Z",
     "iopub.status.idle": "2020-12-21T12:08:52.444657Z",
     "shell.execute_reply": "2020-12-21T12:08:52.443837Z"
    },
    "papermill": {
     "duration": 0.04297,
     "end_time": "2020-12-21T12:08:52.444814",
     "exception": false,
     "start_time": "2020-12-21T12:08:52.401844",
     "status": "completed"
    },
    "tags": []
   },
   "outputs": [],
   "source": [
    "#hide\n",
    "# cols = list(g.columns.values)"
   ]
  },
  {
   "cell_type": "code",
   "execution_count": 29,
   "metadata": {
    "execution": {
     "iopub.execute_input": "2020-12-21T12:08:52.523597Z",
     "iopub.status.busy": "2020-12-21T12:08:52.522881Z",
     "iopub.status.idle": "2020-12-21T12:08:52.525578Z",
     "shell.execute_reply": "2020-12-21T12:08:52.524890Z"
    },
    "papermill": {
     "duration": 0.044045,
     "end_time": "2020-12-21T12:08:52.525729",
     "exception": false,
     "start_time": "2020-12-21T12:08:52.481684",
     "status": "completed"
    },
    "tags": []
   },
   "outputs": [],
   "source": [
    "#hide\n",
    "# cols.insert(0, cols.pop())"
   ]
  },
  {
   "cell_type": "code",
   "execution_count": 30,
   "metadata": {
    "execution": {
     "iopub.execute_input": "2020-12-21T12:08:52.606219Z",
     "iopub.status.busy": "2020-12-21T12:08:52.605521Z",
     "iopub.status.idle": "2020-12-21T12:08:52.607396Z",
     "shell.execute_reply": "2020-12-21T12:08:52.607977Z"
    },
    "papermill": {
     "duration": 0.044135,
     "end_time": "2020-12-21T12:08:52.608317",
     "exception": false,
     "start_time": "2020-12-21T12:08:52.564182",
     "status": "completed"
    },
    "tags": []
   },
   "outputs": [],
   "source": [
    "#hide\n",
    "# g = g[cols]"
   ]
  },
  {
   "cell_type": "code",
   "execution_count": 31,
   "metadata": {
    "execution": {
     "iopub.execute_input": "2020-12-21T12:08:52.690668Z",
     "iopub.status.busy": "2020-12-21T12:08:52.689968Z",
     "iopub.status.idle": "2020-12-21T12:08:52.693509Z",
     "shell.execute_reply": "2020-12-21T12:08:52.692869Z"
    },
    "papermill": {
     "duration": 0.047655,
     "end_time": "2020-12-21T12:08:52.693649",
     "exception": false,
     "start_time": "2020-12-21T12:08:52.645994",
     "status": "completed"
    },
    "tags": []
   },
   "outputs": [],
   "source": [
    "#hide\n",
    "# g['continent'] = g['continent'].map(mapping['map.continent'])"
   ]
  },
  {
   "cell_type": "code",
   "execution_count": 32,
   "metadata": {
    "execution": {
     "iopub.execute_input": "2020-12-21T12:08:52.770629Z",
     "iopub.status.busy": "2020-12-21T12:08:52.769845Z",
     "iopub.status.idle": "2020-12-21T12:08:52.773210Z",
     "shell.execute_reply": "2020-12-21T12:08:52.772239Z"
    },
    "papermill": {
     "duration": 0.04287,
     "end_time": "2020-12-21T12:08:52.773361",
     "exception": false,
     "start_time": "2020-12-21T12:08:52.730491",
     "status": "completed"
    },
    "tags": []
   },
   "outputs": [],
   "source": [
    "#hide\n",
    "# g.head()"
   ]
  },
  {
   "cell_type": "code",
   "execution_count": 33,
   "metadata": {
    "execution": {
     "iopub.execute_input": "2020-12-21T12:08:52.860348Z",
     "iopub.status.busy": "2020-12-21T12:08:52.859672Z",
     "iopub.status.idle": "2020-12-21T12:08:52.862207Z",
     "shell.execute_reply": "2020-12-21T12:08:52.861544Z"
    },
    "papermill": {
     "duration": 0.050384,
     "end_time": "2020-12-21T12:08:52.862472",
     "exception": false,
     "start_time": "2020-12-21T12:08:52.812088",
     "status": "completed"
    },
    "tags": []
   },
   "outputs": [],
   "source": [
    "# hide\n",
    "# g['date'] = g['date'].astype('datetime64[ns]')"
   ]
  },
  {
   "cell_type": "code",
   "execution_count": 34,
   "metadata": {
    "execution": {
     "iopub.execute_input": "2020-12-21T12:08:52.943067Z",
     "iopub.status.busy": "2020-12-21T12:08:52.942257Z",
     "iopub.status.idle": "2020-12-21T12:08:52.947040Z",
     "shell.execute_reply": "2020-12-21T12:08:52.948219Z"
    },
    "papermill": {
     "duration": 0.048559,
     "end_time": "2020-12-21T12:08:52.948384",
     "exception": false,
     "start_time": "2020-12-21T12:08:52.899825",
     "status": "completed"
    },
    "tags": []
   },
   "outputs": [],
   "source": [
    "#hide\n",
    "# g['date'] = g.date.dt.dayofyear"
   ]
  },
  {
   "cell_type": "code",
   "execution_count": 35,
   "metadata": {
    "execution": {
     "iopub.execute_input": "2020-12-21T12:08:53.035644Z",
     "iopub.status.busy": "2020-12-21T12:08:53.034890Z",
     "iopub.status.idle": "2020-12-21T12:08:53.037557Z",
     "shell.execute_reply": "2020-12-21T12:08:53.036895Z"
    },
    "papermill": {
     "duration": 0.0452,
     "end_time": "2020-12-21T12:08:53.037697",
     "exception": false,
     "start_time": "2020-12-21T12:08:52.992497",
     "status": "completed"
    },
    "tags": []
   },
   "outputs": [],
   "source": [
    "#hide\n",
    "# g = g.rename(columns= {'continent':'group','country':'name','cases':'value'})"
   ]
  },
  {
   "cell_type": "code",
   "execution_count": 36,
   "metadata": {
    "execution": {
     "iopub.execute_input": "2020-12-21T12:08:53.125312Z",
     "iopub.status.busy": "2020-12-21T12:08:53.123516Z",
     "iopub.status.idle": "2020-12-21T12:08:53.126080Z",
     "shell.execute_reply": "2020-12-21T12:08:53.126779Z"
    },
    "papermill": {
     "duration": 0.050534,
     "end_time": "2020-12-21T12:08:53.126955",
     "exception": false,
     "start_time": "2020-12-21T12:08:53.076421",
     "status": "completed"
    },
    "tags": []
   },
   "outputs": [],
   "source": [
    "#hide\n",
    "# cols = ['name','group','day','value']"
   ]
  },
  {
   "cell_type": "code",
   "execution_count": 37,
   "metadata": {
    "execution": {
     "iopub.execute_input": "2020-12-21T12:08:53.271528Z",
     "iopub.status.busy": "2020-12-21T12:08:53.270784Z",
     "iopub.status.idle": "2020-12-21T12:08:53.275595Z",
     "shell.execute_reply": "2020-12-21T12:08:53.275047Z"
    },
    "papermill": {
     "duration": 0.049193,
     "end_time": "2020-12-21T12:08:53.275737",
     "exception": false,
     "start_time": "2020-12-21T12:08:53.226544",
     "status": "completed"
    },
    "tags": []
   },
   "outputs": [],
   "source": [
    "#hide\n",
    "# g.rename(columns= {'date':'day'},inplace = True)"
   ]
  },
  {
   "cell_type": "code",
   "execution_count": 38,
   "metadata": {
    "execution": {
     "iopub.execute_input": "2020-12-21T12:08:53.362043Z",
     "iopub.status.busy": "2020-12-21T12:08:53.361367Z",
     "iopub.status.idle": "2020-12-21T12:08:53.363282Z",
     "shell.execute_reply": "2020-12-21T12:08:53.363925Z"
    },
    "papermill": {
     "duration": 0.043013,
     "end_time": "2020-12-21T12:08:53.364148",
     "exception": false,
     "start_time": "2020-12-21T12:08:53.321135",
     "status": "completed"
    },
    "tags": []
   },
   "outputs": [],
   "source": [
    "#hide\n",
    "# g = g[cols]"
   ]
  },
  {
   "cell_type": "code",
   "execution_count": 39,
   "metadata": {
    "execution": {
     "iopub.execute_input": "2020-12-21T12:08:53.458765Z",
     "iopub.status.busy": "2020-12-21T12:08:53.457952Z",
     "iopub.status.idle": "2020-12-21T12:08:53.459782Z",
     "shell.execute_reply": "2020-12-21T12:08:53.460667Z"
    },
    "papermill": {
     "duration": 0.053084,
     "end_time": "2020-12-21T12:08:53.460936",
     "exception": false,
     "start_time": "2020-12-21T12:08:53.407852",
     "status": "completed"
    },
    "tags": []
   },
   "outputs": [],
   "source": [
    "# #hide\n",
    "# g = g[g.group.notna()]"
   ]
  },
  {
   "cell_type": "code",
   "execution_count": 40,
   "metadata": {
    "execution": {
     "iopub.execute_input": "2020-12-21T12:08:53.543169Z",
     "iopub.status.busy": "2020-12-21T12:08:53.542489Z",
     "iopub.status.idle": "2020-12-21T12:08:53.544629Z",
     "shell.execute_reply": "2020-12-21T12:08:53.545246Z"
    },
    "papermill": {
     "duration": 0.04433,
     "end_time": "2020-12-21T12:08:53.545454",
     "exception": false,
     "start_time": "2020-12-21T12:08:53.501124",
     "status": "completed"
    },
    "tags": []
   },
   "outputs": [],
   "source": [
    "# #hide\n",
    "# colors = dict(zip(\n",
    "#     [\"Oceania\", \"Europe\", \"Asia\", \"South America\", \"Middle East\", \"North America\", \"Africa\"],\n",
    "#     [\"#adb0ff\", \"#ffb3ff\", \"#90d595\", \"#e48381\", \"#aafbff\", \"#f7bb5f\", \"#eafb50\"]\n",
    "# ))\n",
    "# group_lk = g.set_index('name')['group'].to_dict()"
   ]
  },
  {
   "cell_type": "code",
   "execution_count": null,
   "metadata": {
    "papermill": {
     "duration": 0.041316,
     "end_time": "2020-12-21T12:08:53.624145",
     "exception": false,
     "start_time": "2020-12-21T12:08:53.582829",
     "status": "completed"
    },
    "tags": []
   },
   "outputs": [],
   "source": []
  },
  {
   "cell_type": "code",
   "execution_count": 41,
   "metadata": {
    "execution": {
     "iopub.execute_input": "2020-12-21T12:08:53.708582Z",
     "iopub.status.busy": "2020-12-21T12:08:53.707811Z",
     "iopub.status.idle": "2020-12-21T12:08:53.710538Z",
     "shell.execute_reply": "2020-12-21T12:08:53.709672Z"
    },
    "papermill": {
     "duration": 0.044686,
     "end_time": "2020-12-21T12:08:53.710690",
     "exception": false,
     "start_time": "2020-12-21T12:08:53.666004",
     "status": "completed"
    },
    "tags": []
   },
   "outputs": [],
   "source": [
    "# #hide\n",
    "# fig, ax = plt.subplots(figsize=(15, 8))\n",
    "\n",
    "# def draw_barchart(current_day):\n",
    "#     dff = g[g['day'].eq(current_day)].sort_values(by='value', ascending=True).tail(10)\n",
    "#     ax.clear()\n",
    "#     ax.barh(dff['name'], dff['value'], color=[colors[group_lk[x]] for x in dff['name']])\n",
    "#     dx = dff['value'].max() / 200\n",
    "    \n",
    "#     for i, (value, name) in enumerate(zip(dff['value'], dff['name'])):\n",
    "#         ax.text(value-dx, i,     name,           size=14, weight=600, ha='right', va='bottom')\n",
    "#         ax.text(value-dx, i-.25, group_lk[name], size=10, color='#444444', ha='right', va='baseline')\n",
    "#         ax.text(value+dx, i,     f'{value:,.0f}',  size=14, ha='left',  va='center')\n",
    "#     ax.text(1, 0.4, current_day, transform=ax.transAxes, color='#777777', size=46, ha='right', weight=800)\n",
    "#     ax.text(0, 1.06, 'Population (thousands)', transform=ax.transAxes, size=12, color='#777777')\n",
    "#     ax.xaxis.set_major_formatter(ticker.StrMethodFormatter('{x:,.0f}'))\n",
    "#     ax.xaxis.set_ticks_position('top')\n",
    "#     ax.tick_params(axis='x', colors='#777777', labelsize=12)\n",
    "#     ax.set_yticks([])\n",
    "#     ax.margins(0, 0.01)\n",
    "#     ax.grid(which='major', axis='x', linestyle='-')\n",
    "#     ax.set_axisbelow(True)\n",
    "    \n",
    "#     ax.text(0, 1.15, 'Coronavirus',\n",
    "#             transform=ax.transAxes, size=24, weight=600, ha='left', va='top')\n",
    "# #     ax.text(1, 0, 'by @pratapvardhan; credit @jburnmurdoch', transform=ax.transAxes, color='#777777', ha='right',\n",
    "# #             bbox=dict(facecolor='white', alpha=0.8, edgecolor='white'))\n",
    "#     plt.box(False)"
   ]
  },
  {
   "cell_type": "code",
   "execution_count": 42,
   "metadata": {
    "execution": {
     "iopub.execute_input": "2020-12-21T12:08:53.794132Z",
     "iopub.status.busy": "2020-12-21T12:08:53.793255Z",
     "iopub.status.idle": "2020-12-21T12:08:53.795738Z",
     "shell.execute_reply": "2020-12-21T12:08:53.795016Z"
    },
    "papermill": {
     "duration": 0.047463,
     "end_time": "2020-12-21T12:08:53.795922",
     "exception": false,
     "start_time": "2020-12-21T12:08:53.748459",
     "status": "completed"
    },
    "tags": []
   },
   "outputs": [],
   "source": [
    "# #hide_input\n",
    "# fig, ax = plt.subplots(figsize=(15, 8))\n",
    "# animator = animation.FuncAnimation(fig, draw_barchart, frames=range(g.day.values.min(), g.day.values.max()))\n",
    "# HTML(animator.to_jshtml())\n",
    "# # or use animator.to_html5_video() or animator.save() "
   ]
  },
  {
   "cell_type": "code",
   "execution_count": null,
   "metadata": {
    "papermill": {
     "duration": 0.039586,
     "end_time": "2020-12-21T12:08:53.875210",
     "exception": false,
     "start_time": "2020-12-21T12:08:53.835624",
     "status": "completed"
    },
    "tags": []
   },
   "outputs": [],
   "source": []
  },
  {
   "cell_type": "code",
   "execution_count": null,
   "metadata": {
    "papermill": {
     "duration": 0.036591,
     "end_time": "2020-12-21T12:08:53.947898",
     "exception": false,
     "start_time": "2020-12-21T12:08:53.911307",
     "status": "completed"
    },
    "tags": []
   },
   "outputs": [],
   "source": []
  },
  {
   "cell_type": "code",
   "execution_count": null,
   "metadata": {
    "papermill": {
     "duration": 0.03603,
     "end_time": "2020-12-21T12:08:54.019395",
     "exception": false,
     "start_time": "2020-12-21T12:08:53.983365",
     "status": "completed"
    },
    "tags": []
   },
   "outputs": [],
   "source": []
  }
 ],
 "metadata": {
  "kernelspec": {
   "display_name": "Python 3",
   "language": "python",
   "name": "python3"
  },
  "language_info": {
   "codemirror_mode": {
    "name": "ipython",
    "version": 3
   },
   "file_extension": ".py",
   "mimetype": "text/x-python",
   "name": "python",
   "nbconvert_exporter": "python",
   "pygments_lexer": "ipython3",
   "version": "3.6.12"
  },
  "papermill": {
   "duration": 9.767195,
   "end_time": "2020-12-21T12:08:54.465180",
   "environment_variables": {},
   "exception": null,
   "input_path": "2020-03-21-covid19exp.ipynb",
   "output_path": "2020-03-21-covid19exp.ipynb",
   "parameters": {},
   "start_time": "2020-12-21T12:08:44.697985",
   "version": "2.0.0"
  }
 },
 "nbformat": 4,
 "nbformat_minor": 4
}