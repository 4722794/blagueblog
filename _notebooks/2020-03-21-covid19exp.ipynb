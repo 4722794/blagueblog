{
 "cells": [
  {
   "cell_type": "markdown",
   "id": "muslim-click",
   "metadata": {
    "papermill": {
     "duration": 0.034545,
     "end_time": "2022-06-20T00:41:18.839491",
     "exception": false,
     "start_time": "2022-06-20T00:41:18.804946",
     "status": "completed"
    },
    "tags": []
   },
   "source": [
    "# COVID-19 Case Race\n",
    "> A race chart to see rising cases around the world\n",
    "\n",
    "- author: Hargun Oberoi\n",
    "- image: images/covid-overview.png\n",
    "- hide: false\n",
    "- badges: false"
   ]
  },
  {
   "cell_type": "code",
   "execution_count": 1,
   "id": "proof-material",
   "metadata": {
    "execution": {
     "iopub.execute_input": "2022-06-20T00:41:18.911745Z",
     "iopub.status.busy": "2022-06-20T00:41:18.910989Z",
     "iopub.status.idle": "2022-06-20T00:41:19.258099Z",
     "shell.execute_reply": "2022-06-20T00:41:19.257408Z"
    },
    "papermill": {
     "duration": 0.386867,
     "end_time": "2022-06-20T00:41:19.258273",
     "exception": false,
     "start_time": "2022-06-20T00:41:18.871406",
     "status": "completed"
    },
    "tags": []
   },
   "outputs": [],
   "source": [
    "#hide\n",
    "import numpy as np\n",
    "import pandas as pd\n",
    "from jinja2 import Template\n",
    "from IPython.display import HTML"
   ]
  },
  {
   "cell_type": "code",
   "execution_count": 2,
   "id": "developed-terminology",
   "metadata": {
    "execution": {
     "iopub.execute_input": "2022-06-20T00:41:19.323986Z",
     "iopub.status.busy": "2022-06-20T00:41:19.323307Z",
     "iopub.status.idle": "2022-06-20T00:41:19.324999Z",
     "shell.execute_reply": "2022-06-20T00:41:19.325454Z"
    },
    "papermill": {
     "duration": 0.037126,
     "end_time": "2022-06-20T00:41:19.325588",
     "exception": false,
     "start_time": "2022-06-20T00:41:19.288462",
     "status": "completed"
    },
    "tags": []
   },
   "outputs": [],
   "source": [
    "#hide\n",
    "\n",
    "# FETCH\n",
    "base_url = 'https://raw.githubusercontent.com/pratapvardhan/notebooks/master/covid19/'\n",
    "paths = {\n",
    "    'mapping': base_url + 'mapping_countries.csv',\n",
    "    'overview': base_url + 'overview.tpl'\n",
    "}"
   ]
  },
  {
   "cell_type": "code",
   "execution_count": 3,
   "id": "dynamic-saver",
   "metadata": {
    "execution": {
     "iopub.execute_input": "2022-06-20T00:41:19.395457Z",
     "iopub.status.busy": "2022-06-20T00:41:19.394835Z",
     "iopub.status.idle": "2022-06-20T00:41:19.397239Z",
     "shell.execute_reply": "2022-06-20T00:41:19.397799Z"
    },
    "papermill": {
     "duration": 0.042984,
     "end_time": "2022-06-20T00:41:19.397938",
     "exception": false,
     "start_time": "2022-06-20T00:41:19.354954",
     "status": "completed"
    },
    "tags": []
   },
   "outputs": [
    {
     "data": {
      "text/plain": [
       "'https://raw.githubusercontent.com/pratapvardhan/notebooks/master/covid19/mapping_countries.csv'"
      ]
     },
     "execution_count": 3,
     "metadata": {},
     "output_type": "execute_result"
    }
   ],
   "source": [
    "#hide\n",
    "paths['mapping']"
   ]
  },
  {
   "cell_type": "code",
   "execution_count": 4,
   "id": "urban-software",
   "metadata": {
    "execution": {
     "iopub.execute_input": "2022-06-20T00:41:19.463811Z",
     "iopub.status.busy": "2022-06-20T00:41:19.463174Z",
     "iopub.status.idle": "2022-06-20T00:41:19.466866Z",
     "shell.execute_reply": "2022-06-20T00:41:19.467290Z"
    },
    "papermill": {
     "duration": 0.039587,
     "end_time": "2022-06-20T00:41:19.467430",
     "exception": false,
     "start_time": "2022-06-20T00:41:19.427843",
     "status": "completed"
    },
    "tags": []
   },
   "outputs": [],
   "source": [
    "#hide\n",
    "def get_mappings(url):\n",
    "    df = pd.read_csv(url)\n",
    "    return {\n",
    "        'df': df,\n",
    "        'replace.country': dict(df.dropna(subset=['Name']).set_index('Country')['Name']),\n",
    "        'map.continent': dict(df.set_index('Name')['Continent'])\n",
    "    }"
   ]
  },
  {
   "cell_type": "code",
   "execution_count": 5,
   "id": "intimate-machinery",
   "metadata": {
    "execution": {
     "iopub.execute_input": "2022-06-20T00:41:19.532755Z",
     "iopub.status.busy": "2022-06-20T00:41:19.532180Z",
     "iopub.status.idle": "2022-06-20T00:41:19.571809Z",
     "shell.execute_reply": "2022-06-20T00:41:19.571250Z"
    },
    "papermill": {
     "duration": 0.074172,
     "end_time": "2022-06-20T00:41:19.571940",
     "exception": false,
     "start_time": "2022-06-20T00:41:19.497768",
     "status": "completed"
    },
    "tags": []
   },
   "outputs": [],
   "source": [
    "#hide\n",
    "mapping = get_mappings(paths['mapping'])"
   ]
  },
  {
   "cell_type": "code",
   "execution_count": 6,
   "id": "certified-tactics",
   "metadata": {
    "execution": {
     "iopub.execute_input": "2022-06-20T00:41:19.637745Z",
     "iopub.status.busy": "2022-06-20T00:41:19.637167Z",
     "iopub.status.idle": "2022-06-20T00:41:19.639660Z",
     "shell.execute_reply": "2022-06-20T00:41:19.640105Z"
    },
    "papermill": {
     "duration": 0.037953,
     "end_time": "2022-06-20T00:41:19.640239",
     "exception": false,
     "start_time": "2022-06-20T00:41:19.602286",
     "status": "completed"
    },
    "tags": []
   },
   "outputs": [],
   "source": [
    "#hide\n",
    "def get_template(path):\n",
    "    from urllib.parse import urlparse\n",
    "    if bool(urlparse(path).netloc):\n",
    "        from urllib.request import urlopen\n",
    "        return urlopen(path).read().decode('utf8')\n",
    "    return open(path).read()"
   ]
  },
  {
   "cell_type": "code",
   "execution_count": 7,
   "id": "realistic-blast",
   "metadata": {
    "execution": {
     "iopub.execute_input": "2022-06-20T00:41:19.704428Z",
     "iopub.status.busy": "2022-06-20T00:41:19.703765Z",
     "iopub.status.idle": "2022-06-20T00:41:19.706412Z",
     "shell.execute_reply": "2022-06-20T00:41:19.705858Z"
    },
    "papermill": {
     "duration": 0.036718,
     "end_time": "2022-06-20T00:41:19.706542",
     "exception": false,
     "start_time": "2022-06-20T00:41:19.669824",
     "status": "completed"
    },
    "tags": []
   },
   "outputs": [],
   "source": [
    "#hide\n",
    "def get_frame(name):\n",
    "    url = (\n",
    "        'https://raw.githubusercontent.com/CSSEGISandData/COVID-19/master/csse_covid_19_data/'\n",
    "        f'csse_covid_19_time_series/time_series_covid19_{name}_global.csv')\n",
    "    df = pd.read_csv(url)\n",
    "    # rename countries\n",
    "    df['Country/Region'] = df['Country/Region'].replace(mapping['replace.country'])\n",
    "    return df"
   ]
  },
  {
   "cell_type": "code",
   "execution_count": 8,
   "id": "affiliated-characterization",
   "metadata": {
    "execution": {
     "iopub.execute_input": "2022-06-20T00:41:19.773424Z",
     "iopub.status.busy": "2022-06-20T00:41:19.772720Z",
     "iopub.status.idle": "2022-06-20T00:41:19.774443Z",
     "shell.execute_reply": "2022-06-20T00:41:19.773954Z"
    },
    "papermill": {
     "duration": 0.038222,
     "end_time": "2022-06-20T00:41:19.774548",
     "exception": false,
     "start_time": "2022-06-20T00:41:19.736326",
     "status": "completed"
    },
    "tags": []
   },
   "outputs": [],
   "source": [
    "#hide\n",
    "def get_dates(df):\n",
    "    dt_cols = df.columns[~df.columns.isin(['Province/State', 'Country/Region', 'Lat', 'Long'])]\n",
    "    LAST_DATE_I = -1\n",
    "    # sometimes last column may be empty, then go backwards\n",
    "    for i in range(-1, -len(dt_cols), -1):\n",
    "        if not df[dt_cols[i]].fillna(0).eq(0).all():\n",
    "            LAST_DATE_I = i\n",
    "            break\n",
    "    return LAST_DATE_I, dt_cols"
   ]
  },
  {
   "cell_type": "code",
   "execution_count": 9,
   "id": "recent-optimization",
   "metadata": {
    "execution": {
     "iopub.execute_input": "2022-06-20T00:41:19.840718Z",
     "iopub.status.busy": "2022-06-20T00:41:19.840105Z",
     "iopub.status.idle": "2022-06-20T00:41:20.291155Z",
     "shell.execute_reply": "2022-06-20T00:41:20.289836Z"
    },
    "papermill": {
     "duration": 0.487084,
     "end_time": "2022-06-20T00:41:20.291299",
     "exception": false,
     "start_time": "2022-06-20T00:41:19.804215",
     "status": "completed"
    },
    "tags": []
   },
   "outputs": [],
   "source": [
    "#hide\n",
    "COL_REGION = 'Country/Region'\n",
    "# Confirmed, Recovered, Deaths\n",
    "df = get_frame('confirmed')\n",
    "# dft_: timeseries, dfc_: today country agg\n",
    "dft_cases = df\n",
    "dft_deaths = get_frame('deaths')\n",
    "dft_recovered = get_frame('recovered')\n",
    "LAST_DATE_I, dt_cols = get_dates(df)"
   ]
  },
  {
   "cell_type": "code",
   "execution_count": 10,
   "id": "absolute-copper",
   "metadata": {
    "execution": {
     "iopub.execute_input": "2022-06-20T00:41:20.357029Z",
     "iopub.status.busy": "2022-06-20T00:41:20.356438Z",
     "iopub.status.idle": "2022-06-20T00:41:20.358720Z",
     "shell.execute_reply": "2022-06-20T00:41:20.358138Z"
    },
    "papermill": {
     "duration": 0.03738,
     "end_time": "2022-06-20T00:41:20.358840",
     "exception": false,
     "start_time": "2022-06-20T00:41:20.321460",
     "status": "completed"
    },
    "tags": []
   },
   "outputs": [],
   "source": [
    "#hide\n",
    "LAST_DATE_I, dt_cols = get_dates(df)\n",
    "dt_today =dt_cols[LAST_DATE_I]\n",
    "# dt_5day = dt_cols[LAST_DATE_I - 5]\n",
    "dt_yday = dt_cols[LAST_DATE_I - 1]"
   ]
  },
  {
   "cell_type": "code",
   "execution_count": 11,
   "id": "restricted-sheriff",
   "metadata": {
    "execution": {
     "iopub.execute_input": "2022-06-20T00:41:20.425276Z",
     "iopub.status.busy": "2022-06-20T00:41:20.424701Z",
     "iopub.status.idle": "2022-06-20T00:41:20.431401Z",
     "shell.execute_reply": "2022-06-20T00:41:20.430937Z"
    },
    "papermill": {
     "duration": 0.042971,
     "end_time": "2022-06-20T00:41:20.431510",
     "exception": false,
     "start_time": "2022-06-20T00:41:20.388539",
     "status": "completed"
    },
    "tags": []
   },
   "outputs": [],
   "source": [
    "#hide\n",
    "dfc_cases = dft_cases.groupby(COL_REGION)[dt_today].sum()\n",
    "dfc_deaths = dft_deaths.groupby(COL_REGION)[dt_today].sum()\n",
    "# dfp_cases = dft_cases.groupby(COL_REGION)[dt_5day].sum()\n",
    "# dfp_deaths = dft_deaths.groupby(COL_REGION)[dt_5day].sum()\n",
    "dfp_cases = dft_cases.groupby(COL_REGION)[dt_yday].sum()\n",
    "dfp_deaths = dft_deaths.groupby(COL_REGION)[dt_yday].sum()"
   ]
  },
  {
   "cell_type": "code",
   "execution_count": 12,
   "id": "deluxe-hepatitis",
   "metadata": {
    "execution": {
     "iopub.execute_input": "2022-06-20T00:41:20.497800Z",
     "iopub.status.busy": "2022-06-20T00:41:20.497226Z",
     "iopub.status.idle": "2022-06-20T00:41:20.501822Z",
     "shell.execute_reply": "2022-06-20T00:41:20.502392Z"
    },
    "papermill": {
     "duration": 0.041309,
     "end_time": "2022-06-20T00:41:20.502525",
     "exception": false,
     "start_time": "2022-06-20T00:41:20.461216",
     "status": "completed"
    },
    "tags": []
   },
   "outputs": [],
   "source": [
    "#hide\n",
    "df_table = (pd.DataFrame(dict(Cases = dfc_cases, Deaths = dfc_deaths, PCases = dfp_cases, PDeaths = dfp_deaths))\n",
    "            .sort_values(by = ['Cases','Deaths'], ascending = [False, False])\n",
    "            .reset_index())"
   ]
  },
  {
   "cell_type": "code",
   "execution_count": 13,
   "id": "educational-chancellor",
   "metadata": {
    "execution": {
     "iopub.execute_input": "2022-06-20T00:41:20.578880Z",
     "iopub.status.busy": "2022-06-20T00:41:20.578294Z",
     "iopub.status.idle": "2022-06-20T00:41:20.586959Z",
     "shell.execute_reply": "2022-06-20T00:41:20.586489Z"
    },
    "papermill": {
     "duration": 0.054975,
     "end_time": "2022-06-20T00:41:20.587068",
     "exception": false,
     "start_time": "2022-06-20T00:41:20.532093",
     "status": "completed"
    },
    "tags": []
   },
   "outputs": [
    {
     "data": {
      "text/html": [
       "<div>\n",
       "<style scoped>\n",
       "    .dataframe tbody tr th:only-of-type {\n",
       "        vertical-align: middle;\n",
       "    }\n",
       "\n",
       "    .dataframe tbody tr th {\n",
       "        vertical-align: top;\n",
       "    }\n",
       "\n",
       "    .dataframe thead th {\n",
       "        text-align: right;\n",
       "    }\n",
       "</style>\n",
       "<table border=\"1\" class=\"dataframe\">\n",
       "  <thead>\n",
       "    <tr style=\"text-align: right;\">\n",
       "      <th></th>\n",
       "      <th>Country/Region</th>\n",
       "      <th>Cases</th>\n",
       "      <th>Deaths</th>\n",
       "      <th>PCases</th>\n",
       "      <th>PDeaths</th>\n",
       "      <th>Cases (+)</th>\n",
       "      <th>Deaths (+)</th>\n",
       "      <th>Fatality Rate</th>\n",
       "      <th>Continent</th>\n",
       "    </tr>\n",
       "  </thead>\n",
       "  <tbody>\n",
       "    <tr>\n",
       "      <th>0</th>\n",
       "      <td>US</td>\n",
       "      <td>86230982</td>\n",
       "      <td>1013377</td>\n",
       "      <td>86216418</td>\n",
       "      <td>1013358</td>\n",
       "      <td>14564</td>\n",
       "      <td>19</td>\n",
       "      <td>1.18</td>\n",
       "      <td>North America</td>\n",
       "    </tr>\n",
       "    <tr>\n",
       "      <th>1</th>\n",
       "      <td>India</td>\n",
       "      <td>43296692</td>\n",
       "      <td>524855</td>\n",
       "      <td>43283793</td>\n",
       "      <td>524840</td>\n",
       "      <td>12899</td>\n",
       "      <td>15</td>\n",
       "      <td>1.21</td>\n",
       "      <td>Asia</td>\n",
       "    </tr>\n",
       "    <tr>\n",
       "      <th>2</th>\n",
       "      <td>Brazil</td>\n",
       "      <td>31611769</td>\n",
       "      <td>668693</td>\n",
       "      <td>31611769</td>\n",
       "      <td>668693</td>\n",
       "      <td>0</td>\n",
       "      <td>0</td>\n",
       "      <td>2.12</td>\n",
       "      <td>South America</td>\n",
       "    </tr>\n",
       "    <tr>\n",
       "      <th>3</th>\n",
       "      <td>France</td>\n",
       "      <td>30279240</td>\n",
       "      <td>150078</td>\n",
       "      <td>30279240</td>\n",
       "      <td>150078</td>\n",
       "      <td>0</td>\n",
       "      <td>0</td>\n",
       "      <td>0.50</td>\n",
       "      <td>Europe</td>\n",
       "    </tr>\n",
       "    <tr>\n",
       "      <th>4</th>\n",
       "      <td>Germany</td>\n",
       "      <td>27204955</td>\n",
       "      <td>140176</td>\n",
       "      <td>27204953</td>\n",
       "      <td>140176</td>\n",
       "      <td>2</td>\n",
       "      <td>0</td>\n",
       "      <td>0.52</td>\n",
       "      <td>Europe</td>\n",
       "    </tr>\n",
       "  </tbody>\n",
       "</table>\n",
       "</div>"
      ],
      "text/plain": [
       "  Country/Region     Cases   Deaths    PCases  PDeaths  Cases (+)  Deaths (+)  \\\n",
       "0             US  86230982  1013377  86216418  1013358      14564          19   \n",
       "1          India  43296692   524855  43283793   524840      12899          15   \n",
       "2         Brazil  31611769   668693  31611769   668693          0           0   \n",
       "3         France  30279240   150078  30279240   150078          0           0   \n",
       "4        Germany  27204955   140176  27204953   140176          2           0   \n",
       "\n",
       "   Fatality Rate      Continent  \n",
       "0           1.18  North America  \n",
       "1           1.21           Asia  \n",
       "2           2.12  South America  \n",
       "3           0.50         Europe  \n",
       "4           0.52         Europe  "
      ]
     },
     "execution_count": 13,
     "metadata": {},
     "output_type": "execute_result"
    }
   ],
   "source": [
    "#hide\n",
    "for c in 'Cases, Deaths'.split(', '):\n",
    "    df_table[f'{c} (+)'] = (df_table[c] - df_table[f'P{c}']).clip(0)\n",
    "    #Clip ça veut dire, les chiffres negatif sont interdit\n",
    "df_table['Fatality Rate'] = (100* df_table['Deaths']/ df_table['Cases']).round(2)\n",
    "df_table['Continent'] = df_table['Country/Region'].map(mapping['map.continent'])\n",
    "df_table.head(5)"
   ]
  },
  {
   "cell_type": "code",
   "execution_count": 14,
   "id": "aboriginal-bulgaria",
   "metadata": {
    "execution": {
     "iopub.execute_input": "2022-06-20T00:41:20.652764Z",
     "iopub.status.busy": "2022-06-20T00:41:20.652197Z",
     "iopub.status.idle": "2022-06-20T00:41:20.655052Z",
     "shell.execute_reply": "2022-06-20T00:41:20.654587Z"
    },
    "papermill": {
     "duration": 0.037751,
     "end_time": "2022-06-20T00:41:20.655157",
     "exception": false,
     "start_time": "2022-06-20T00:41:20.617406",
     "status": "completed"
    },
    "tags": []
   },
   "outputs": [],
   "source": [
    "#hide\n",
    "#delete problematic countries from table\n",
    "df_table = df_table[~df_table['Country/Region'].isin(['Cape Verde', 'Cruise Ship', 'Kosovo'])]"
   ]
  },
  {
   "cell_type": "code",
   "execution_count": 15,
   "id": "fantastic-effect",
   "metadata": {
    "execution": {
     "iopub.execute_input": "2022-06-20T00:41:20.723577Z",
     "iopub.status.busy": "2022-06-20T00:41:20.722996Z",
     "iopub.status.idle": "2022-06-20T00:41:20.740738Z",
     "shell.execute_reply": "2022-06-20T00:41:20.740264Z"
    },
    "papermill": {
     "duration": 0.055745,
     "end_time": "2022-06-20T00:41:20.740854",
     "exception": false,
     "start_time": "2022-06-20T00:41:20.685109",
     "status": "completed"
    },
    "tags": []
   },
   "outputs": [
    {
     "data": {
      "text/html": [
       "<div>\n",
       "<style scoped>\n",
       "    .dataframe tbody tr th:only-of-type {\n",
       "        vertical-align: middle;\n",
       "    }\n",
       "\n",
       "    .dataframe tbody tr th {\n",
       "        vertical-align: top;\n",
       "    }\n",
       "\n",
       "    .dataframe thead th {\n",
       "        text-align: right;\n",
       "    }\n",
       "</style>\n",
       "<table border=\"1\" class=\"dataframe\">\n",
       "  <thead>\n",
       "    <tr style=\"text-align: right;\">\n",
       "      <th></th>\n",
       "      <th>Country/Region</th>\n",
       "      <th>Cases</th>\n",
       "      <th>Deaths</th>\n",
       "      <th>PCases</th>\n",
       "      <th>PDeaths</th>\n",
       "      <th>Cases (+)</th>\n",
       "      <th>Deaths (+)</th>\n",
       "      <th>Fatality Rate</th>\n",
       "      <th>Continent</th>\n",
       "    </tr>\n",
       "  </thead>\n",
       "  <tbody>\n",
       "    <tr>\n",
       "      <th>0</th>\n",
       "      <td>US</td>\n",
       "      <td>86230982</td>\n",
       "      <td>1013377</td>\n",
       "      <td>86216418</td>\n",
       "      <td>1013358</td>\n",
       "      <td>14564</td>\n",
       "      <td>19</td>\n",
       "      <td>1.2</td>\n",
       "      <td>North America</td>\n",
       "    </tr>\n",
       "    <tr>\n",
       "      <th>1</th>\n",
       "      <td>India</td>\n",
       "      <td>43296692</td>\n",
       "      <td>524855</td>\n",
       "      <td>43283793</td>\n",
       "      <td>524840</td>\n",
       "      <td>12899</td>\n",
       "      <td>15</td>\n",
       "      <td>1.2</td>\n",
       "      <td>Asia</td>\n",
       "    </tr>\n",
       "    <tr>\n",
       "      <th>2</th>\n",
       "      <td>Brazil</td>\n",
       "      <td>31611769</td>\n",
       "      <td>668693</td>\n",
       "      <td>31611769</td>\n",
       "      <td>668693</td>\n",
       "      <td>0</td>\n",
       "      <td>0</td>\n",
       "      <td>2.1</td>\n",
       "      <td>South America</td>\n",
       "    </tr>\n",
       "    <tr>\n",
       "      <th>3</th>\n",
       "      <td>France</td>\n",
       "      <td>30279240</td>\n",
       "      <td>150078</td>\n",
       "      <td>30279240</td>\n",
       "      <td>150078</td>\n",
       "      <td>0</td>\n",
       "      <td>0</td>\n",
       "      <td>0.5</td>\n",
       "      <td>Europe</td>\n",
       "    </tr>\n",
       "    <tr>\n",
       "      <th>4</th>\n",
       "      <td>Germany</td>\n",
       "      <td>27204955</td>\n",
       "      <td>140176</td>\n",
       "      <td>27204953</td>\n",
       "      <td>140176</td>\n",
       "      <td>2</td>\n",
       "      <td>0</td>\n",
       "      <td>0.5</td>\n",
       "      <td>Europe</td>\n",
       "    </tr>\n",
       "  </tbody>\n",
       "</table>\n",
       "</div>"
      ],
      "text/plain": [
       "  Country/Region     Cases   Deaths    PCases  PDeaths  Cases (+)  Deaths (+)  \\\n",
       "0             US  86230982  1013377  86216418  1013358      14564          19   \n",
       "1          India  43296692   524855  43283793   524840      12899          15   \n",
       "2         Brazil  31611769   668693  31611769   668693          0           0   \n",
       "3         France  30279240   150078  30279240   150078          0           0   \n",
       "4        Germany  27204955   140176  27204953   140176          2           0   \n",
       "\n",
       "   Fatality Rate      Continent  \n",
       "0            1.2  North America  \n",
       "1            1.2           Asia  \n",
       "2            2.1  South America  \n",
       "3            0.5         Europe  \n",
       "4            0.5         Europe  "
      ]
     },
     "execution_count": 15,
     "metadata": {},
     "output_type": "execute_result"
    }
   ],
   "source": [
    "#hide\n",
    "df_table = (pd.DataFrame(dict(Cases=dfc_cases, Deaths=dfc_deaths, PCases=dfp_cases, PDeaths=dfp_deaths))\n",
    "             .sort_values(by=['Cases', 'Deaths'], ascending=[False, False])\n",
    "             .reset_index())\n",
    "df_table.rename(columns={'index': 'Country/Region'}, inplace=True)\n",
    "for c in 'Cases, Deaths'.split(', '):\n",
    "    df_table[f'{c} (+)'] = (df_table[c] - df_table[f'P{c}']).clip(0)  # DATA BUG\n",
    "df_table['Fatality Rate'] = (100 * df_table['Deaths'] / df_table['Cases']).round(1)\n",
    "df_table['Continent'] = df_table['Country/Region'].map(mapping['map.continent'])\n",
    "df_table.head(5)"
   ]
  },
  {
   "cell_type": "code",
   "execution_count": 16,
   "id": "fewer-occasion",
   "metadata": {
    "execution": {
     "iopub.execute_input": "2022-06-20T00:41:20.810906Z",
     "iopub.status.busy": "2022-06-20T00:41:20.810176Z",
     "iopub.status.idle": "2022-06-20T00:41:20.812027Z",
     "shell.execute_reply": "2022-06-20T00:41:20.812537Z"
    },
    "papermill": {
     "duration": 0.040779,
     "end_time": "2022-06-20T00:41:20.812685",
     "exception": false,
     "start_time": "2022-06-20T00:41:20.771906",
     "status": "completed"
    },
    "tags": []
   },
   "outputs": [],
   "source": [
    "#hide\n",
    "#delete problematic countries from table\n",
    "df_table = df_table[~df_table['Country/Region'].isin(['Cape Verde', 'Cruise Ship', 'Kosovo'])]"
   ]
  },
  {
   "cell_type": "code",
   "execution_count": 17,
   "id": "related-center",
   "metadata": {
    "execution": {
     "iopub.execute_input": "2022-06-20T00:41:20.887475Z",
     "iopub.status.busy": "2022-06-20T00:41:20.886897Z",
     "iopub.status.idle": "2022-06-20T00:41:20.894648Z",
     "shell.execute_reply": "2022-06-20T00:41:20.895098Z"
    },
    "papermill": {
     "duration": 0.051698,
     "end_time": "2022-06-20T00:41:20.895234",
     "exception": false,
     "start_time": "2022-06-20T00:41:20.843536",
     "status": "completed"
    },
    "tags": []
   },
   "outputs": [],
   "source": [
    "#hide\n",
    "metrics = [df_table.columns[index] for index in [1,2,5,6]]\n",
    "# s_china = df_table[df_table['Country/Region'].eq('China')][metrics].sum().add_prefix('China ')\n",
    "s_us = df_table[df_table['Country/Region'].eq('US')][metrics].sum().add_prefix('US ')\n",
    "s_eu = df_table[df_table['Continent'].eq('Europe')][metrics].sum().add_prefix('EU ')\n",
    "s_ind = df_table[df_table['Country/Region'].eq('India')][metrics].sum().add_prefix('India ')\n",
    "summary = {'updated': pd.to_datetime(dt_today), 'since': pd.to_datetime(dt_yday)}\n",
    "summary = {'updated': pd.to_datetime(dt_today), 'since': pd.to_datetime(dt_yday)}\n",
    "summary = {**summary, **df_table[metrics].sum(), **s_ind, **s_us, **s_eu}"
   ]
  },
  {
   "cell_type": "code",
   "execution_count": 18,
   "id": "engaging-syndrome",
   "metadata": {
    "execution": {
     "iopub.execute_input": "2022-06-20T00:41:20.963623Z",
     "iopub.status.busy": "2022-06-20T00:41:20.963024Z",
     "iopub.status.idle": "2022-06-20T00:41:20.983416Z",
     "shell.execute_reply": "2022-06-20T00:41:20.982843Z"
    },
    "papermill": {
     "duration": 0.057304,
     "end_time": "2022-06-20T00:41:20.983565",
     "exception": false,
     "start_time": "2022-06-20T00:41:20.926261",
     "status": "completed"
    },
    "tags": []
   },
   "outputs": [],
   "source": [
    "#hide\n",
    "dft_ct_new_cases = dft_cases.groupby(COL_REGION)[dt_cols].sum().diff(axis=1).fillna(0).astype(int)"
   ]
  },
  {
   "cell_type": "code",
   "execution_count": 19,
   "id": "neutral-assignment",
   "metadata": {
    "execution": {
     "iopub.execute_input": "2022-06-20T00:41:21.053700Z",
     "iopub.status.busy": "2022-06-20T00:41:21.053067Z",
     "iopub.status.idle": "2022-06-20T00:41:21.055530Z",
     "shell.execute_reply": "2022-06-20T00:41:21.054945Z"
    },
    "papermill": {
     "duration": 0.04035,
     "end_time": "2022-06-20T00:41:21.055651",
     "exception": false,
     "start_time": "2022-06-20T00:41:21.015301",
     "status": "completed"
    },
    "tags": []
   },
   "outputs": [],
   "source": [
    "#hide\n",
    "everydaycases = dft_ct_new_cases.cumsum(axis=1)"
   ]
  },
  {
   "cell_type": "code",
   "execution_count": 20,
   "id": "parliamentary-calgary",
   "metadata": {
    "execution": {
     "iopub.execute_input": "2022-06-20T00:41:21.122735Z",
     "iopub.status.busy": "2022-06-20T00:41:21.122135Z",
     "iopub.status.idle": "2022-06-20T00:41:21.667249Z",
     "shell.execute_reply": "2022-06-20T00:41:21.666721Z"
    },
    "papermill": {
     "duration": 0.580684,
     "end_time": "2022-06-20T00:41:21.667387",
     "exception": false,
     "start_time": "2022-06-20T00:41:21.086703",
     "status": "completed"
    },
    "tags": []
   },
   "outputs": [],
   "source": [
    "#hide\n",
    "import pandas as pd\n",
    "import matplotlib.pyplot as plt\n",
    "import matplotlib.ticker as ticker\n",
    "import matplotlib.animation as animation\n",
    "from IPython.display import HTML"
   ]
  },
  {
   "cell_type": "code",
   "execution_count": 21,
   "id": "lasting-extraction",
   "metadata": {
    "execution": {
     "iopub.execute_input": "2022-06-20T00:41:21.736233Z",
     "iopub.status.busy": "2022-06-20T00:41:21.735641Z",
     "iopub.status.idle": "2022-06-20T00:41:21.742563Z",
     "shell.execute_reply": "2022-06-20T00:41:21.743119Z"
    },
    "papermill": {
     "duration": 0.044951,
     "end_time": "2022-06-20T00:41:21.743251",
     "exception": false,
     "start_time": "2022-06-20T00:41:21.698300",
     "status": "completed"
    },
    "tags": []
   },
   "outputs": [],
   "source": [
    "#hide\n",
    "t = everydaycases.stack()"
   ]
  },
  {
   "cell_type": "code",
   "execution_count": 22,
   "id": "premier-sleeve",
   "metadata": {
    "execution": {
     "iopub.execute_input": "2022-06-20T00:41:21.810064Z",
     "iopub.status.busy": "2022-06-20T00:41:21.809474Z",
     "iopub.status.idle": "2022-06-20T00:41:21.821186Z",
     "shell.execute_reply": "2022-06-20T00:41:21.820707Z"
    },
    "papermill": {
     "duration": 0.047147,
     "end_time": "2022-06-20T00:41:21.821302",
     "exception": false,
     "start_time": "2022-06-20T00:41:21.774155",
     "status": "completed"
    },
    "tags": []
   },
   "outputs": [],
   "source": [
    "#hide\n",
    "g = t.reset_index(['Country/Region'])"
   ]
  },
  {
   "cell_type": "code",
   "execution_count": 23,
   "id": "distributed-pittsburgh",
   "metadata": {
    "execution": {
     "iopub.execute_input": "2022-06-20T00:41:21.887780Z",
     "iopub.status.busy": "2022-06-20T00:41:21.887200Z",
     "iopub.status.idle": "2022-06-20T00:41:21.889091Z",
     "shell.execute_reply": "2022-06-20T00:41:21.889638Z"
    },
    "papermill": {
     "duration": 0.037514,
     "end_time": "2022-06-20T00:41:21.889770",
     "exception": false,
     "start_time": "2022-06-20T00:41:21.852256",
     "status": "completed"
    },
    "tags": []
   },
   "outputs": [],
   "source": [
    "#hide\n",
    "g.index.name = 'date'"
   ]
  },
  {
   "cell_type": "code",
   "execution_count": 24,
   "id": "naked-donor",
   "metadata": {
    "execution": {
     "iopub.execute_input": "2022-06-20T00:41:21.958276Z",
     "iopub.status.busy": "2022-06-20T00:41:21.957671Z",
     "iopub.status.idle": "2022-06-20T00:41:21.963100Z",
     "shell.execute_reply": "2022-06-20T00:41:21.963542Z"
    },
    "papermill": {
     "duration": 0.042078,
     "end_time": "2022-06-20T00:41:21.963677",
     "exception": false,
     "start_time": "2022-06-20T00:41:21.921599",
     "status": "completed"
    },
    "tags": []
   },
   "outputs": [],
   "source": [
    "# #hide\n",
    "# g = g.reset_index(['date'])"
   ]
  },
  {
   "cell_type": "code",
   "execution_count": 25,
   "id": "incomplete-mustang",
   "metadata": {
    "execution": {
     "iopub.execute_input": "2022-06-20T00:41:22.140511Z",
     "iopub.status.busy": "2022-06-20T00:41:22.139698Z",
     "iopub.status.idle": "2022-06-20T00:41:22.143843Z",
     "shell.execute_reply": "2022-06-20T00:41:22.144328Z"
    },
    "papermill": {
     "duration": 0.098143,
     "end_time": "2022-06-20T00:41:22.144469",
     "exception": false,
     "start_time": "2022-06-20T00:41:22.046326",
     "status": "completed"
    },
    "tags": []
   },
   "outputs": [],
   "source": [
    "#hide\n",
    "# g.head()"
   ]
  },
  {
   "cell_type": "code",
   "execution_count": 26,
   "id": "specific-kruger",
   "metadata": {
    "execution": {
     "iopub.execute_input": "2022-06-20T00:41:22.389896Z",
     "iopub.status.busy": "2022-06-20T00:41:22.389211Z",
     "iopub.status.idle": "2022-06-20T00:41:22.393487Z",
     "shell.execute_reply": "2022-06-20T00:41:22.393025Z"
    },
    "papermill": {
     "duration": 0.158892,
     "end_time": "2022-06-20T00:41:22.393606",
     "exception": false,
     "start_time": "2022-06-20T00:41:22.234714",
     "status": "completed"
    },
    "tags": []
   },
   "outputs": [],
   "source": [
    "#hide\n",
    "# g.columns = ['date','country','cases']"
   ]
  },
  {
   "cell_type": "code",
   "execution_count": 27,
   "id": "tender-conversion",
   "metadata": {
    "execution": {
     "iopub.execute_input": "2022-06-20T00:41:22.460224Z",
     "iopub.status.busy": "2022-06-20T00:41:22.459537Z",
     "iopub.status.idle": "2022-06-20T00:41:22.463789Z",
     "shell.execute_reply": "2022-06-20T00:41:22.464235Z"
    },
    "papermill": {
     "duration": 0.039617,
     "end_time": "2022-06-20T00:41:22.464365",
     "exception": false,
     "start_time": "2022-06-20T00:41:22.424748",
     "status": "completed"
    },
    "tags": []
   },
   "outputs": [],
   "source": [
    "#hide\n",
    "# g['continent'] = g.country"
   ]
  },
  {
   "cell_type": "code",
   "execution_count": 28,
   "id": "substantial-wilderness",
   "metadata": {
    "execution": {
     "iopub.execute_input": "2022-06-20T00:41:22.529858Z",
     "iopub.status.busy": "2022-06-20T00:41:22.529184Z",
     "iopub.status.idle": "2022-06-20T00:41:22.533195Z",
     "shell.execute_reply": "2022-06-20T00:41:22.533612Z"
    },
    "papermill": {
     "duration": 0.038525,
     "end_time": "2022-06-20T00:41:22.533742",
     "exception": false,
     "start_time": "2022-06-20T00:41:22.495217",
     "status": "completed"
    },
    "tags": []
   },
   "outputs": [],
   "source": [
    "#hide\n",
    "# cols = list(g.columns.values)"
   ]
  },
  {
   "cell_type": "code",
   "execution_count": 29,
   "id": "solved-farming",
   "metadata": {
    "execution": {
     "iopub.execute_input": "2022-06-20T00:41:22.598967Z",
     "iopub.status.busy": "2022-06-20T00:41:22.598298Z",
     "iopub.status.idle": "2022-06-20T00:41:22.601317Z",
     "shell.execute_reply": "2022-06-20T00:41:22.600671Z"
    },
    "papermill": {
     "duration": 0.036913,
     "end_time": "2022-06-20T00:41:22.601441",
     "exception": false,
     "start_time": "2022-06-20T00:41:22.564528",
     "status": "completed"
    },
    "tags": []
   },
   "outputs": [],
   "source": [
    "#hide\n",
    "# cols.insert(0, cols.pop())"
   ]
  },
  {
   "cell_type": "code",
   "execution_count": 30,
   "id": "executed-adoption",
   "metadata": {
    "execution": {
     "iopub.execute_input": "2022-06-20T00:41:22.666937Z",
     "iopub.status.busy": "2022-06-20T00:41:22.666348Z",
     "iopub.status.idle": "2022-06-20T00:41:22.668863Z",
     "shell.execute_reply": "2022-06-20T00:41:22.668363Z"
    },
    "papermill": {
     "duration": 0.036299,
     "end_time": "2022-06-20T00:41:22.668970",
     "exception": false,
     "start_time": "2022-06-20T00:41:22.632671",
     "status": "completed"
    },
    "tags": []
   },
   "outputs": [],
   "source": [
    "#hide\n",
    "# g = g[cols]"
   ]
  },
  {
   "cell_type": "code",
   "execution_count": 31,
   "id": "subject-dublin",
   "metadata": {
    "execution": {
     "iopub.execute_input": "2022-06-20T00:41:22.733839Z",
     "iopub.status.busy": "2022-06-20T00:41:22.733192Z",
     "iopub.status.idle": "2022-06-20T00:41:22.735301Z",
     "shell.execute_reply": "2022-06-20T00:41:22.735726Z"
    },
    "papermill": {
     "duration": 0.036209,
     "end_time": "2022-06-20T00:41:22.735847",
     "exception": false,
     "start_time": "2022-06-20T00:41:22.699638",
     "status": "completed"
    },
    "tags": []
   },
   "outputs": [],
   "source": [
    "#hide\n",
    "# g['continent'] = g['continent'].map(mapping['map.continent'])"
   ]
  },
  {
   "cell_type": "code",
   "execution_count": 32,
   "id": "freelance-scout",
   "metadata": {
    "execution": {
     "iopub.execute_input": "2022-06-20T00:41:22.800104Z",
     "iopub.status.busy": "2022-06-20T00:41:22.799527Z",
     "iopub.status.idle": "2022-06-20T00:41:22.802219Z",
     "shell.execute_reply": "2022-06-20T00:41:22.801640Z"
    },
    "papermill": {
     "duration": 0.036059,
     "end_time": "2022-06-20T00:41:22.802327",
     "exception": false,
     "start_time": "2022-06-20T00:41:22.766268",
     "status": "completed"
    },
    "tags": []
   },
   "outputs": [],
   "source": [
    "#hide\n",
    "# g.head()"
   ]
  },
  {
   "cell_type": "code",
   "execution_count": 33,
   "id": "limited-engine",
   "metadata": {
    "execution": {
     "iopub.execute_input": "2022-06-20T00:41:22.867488Z",
     "iopub.status.busy": "2022-06-20T00:41:22.866924Z",
     "iopub.status.idle": "2022-06-20T00:41:22.869172Z",
     "shell.execute_reply": "2022-06-20T00:41:22.869612Z"
    },
    "papermill": {
     "duration": 0.036748,
     "end_time": "2022-06-20T00:41:22.869729",
     "exception": false,
     "start_time": "2022-06-20T00:41:22.832981",
     "status": "completed"
    },
    "tags": []
   },
   "outputs": [],
   "source": [
    "# hide\n",
    "# g['date'] = g['date'].astype('datetime64[ns]')"
   ]
  },
  {
   "cell_type": "code",
   "execution_count": 34,
   "id": "sophisticated-supervisor",
   "metadata": {
    "execution": {
     "iopub.execute_input": "2022-06-20T00:41:22.935869Z",
     "iopub.status.busy": "2022-06-20T00:41:22.935302Z",
     "iopub.status.idle": "2022-06-20T00:41:22.937510Z",
     "shell.execute_reply": "2022-06-20T00:41:22.938051Z"
    },
    "papermill": {
     "duration": 0.036256,
     "end_time": "2022-06-20T00:41:22.938189",
     "exception": false,
     "start_time": "2022-06-20T00:41:22.901933",
     "status": "completed"
    },
    "tags": []
   },
   "outputs": [],
   "source": [
    "#hide\n",
    "# g['date'] = g.date.dt.dayofyear"
   ]
  },
  {
   "cell_type": "code",
   "execution_count": 35,
   "id": "inside-dubai",
   "metadata": {
    "execution": {
     "iopub.execute_input": "2022-06-20T00:41:23.004188Z",
     "iopub.status.busy": "2022-06-20T00:41:23.003532Z",
     "iopub.status.idle": "2022-06-20T00:41:23.006064Z",
     "shell.execute_reply": "2022-06-20T00:41:23.005429Z"
    },
    "papermill": {
     "duration": 0.03648,
     "end_time": "2022-06-20T00:41:23.006209",
     "exception": false,
     "start_time": "2022-06-20T00:41:22.969729",
     "status": "completed"
    },
    "tags": []
   },
   "outputs": [],
   "source": [
    "#hide\n",
    "# g = g.rename(columns= {'continent':'group','country':'name','cases':'value'})"
   ]
  },
  {
   "cell_type": "code",
   "execution_count": 36,
   "id": "fleet-motorcycle",
   "metadata": {
    "execution": {
     "iopub.execute_input": "2022-06-20T00:41:23.071626Z",
     "iopub.status.busy": "2022-06-20T00:41:23.071041Z",
     "iopub.status.idle": "2022-06-20T00:41:23.074745Z",
     "shell.execute_reply": "2022-06-20T00:41:23.075162Z"
    },
    "papermill": {
     "duration": 0.038001,
     "end_time": "2022-06-20T00:41:23.075285",
     "exception": false,
     "start_time": "2022-06-20T00:41:23.037284",
     "status": "completed"
    },
    "tags": []
   },
   "outputs": [],
   "source": [
    "#hide\n",
    "# cols = ['name','group','day','value']"
   ]
  },
  {
   "cell_type": "code",
   "execution_count": 37,
   "id": "continued-sleeping",
   "metadata": {
    "execution": {
     "iopub.execute_input": "2022-06-20T00:41:23.140772Z",
     "iopub.status.busy": "2022-06-20T00:41:23.140117Z",
     "iopub.status.idle": "2022-06-20T00:41:23.142670Z",
     "shell.execute_reply": "2022-06-20T00:41:23.141991Z"
    },
    "papermill": {
     "duration": 0.036811,
     "end_time": "2022-06-20T00:41:23.142800",
     "exception": false,
     "start_time": "2022-06-20T00:41:23.105989",
     "status": "completed"
    },
    "tags": []
   },
   "outputs": [],
   "source": [
    "#hide\n",
    "# g.rename(columns= {'date':'day'},inplace = True)"
   ]
  },
  {
   "cell_type": "code",
   "execution_count": 38,
   "id": "major-fight",
   "metadata": {
    "execution": {
     "iopub.execute_input": "2022-06-20T00:41:23.208643Z",
     "iopub.status.busy": "2022-06-20T00:41:23.207955Z",
     "iopub.status.idle": "2022-06-20T00:41:23.210143Z",
     "shell.execute_reply": "2022-06-20T00:41:23.210636Z"
    },
    "papermill": {
     "duration": 0.037108,
     "end_time": "2022-06-20T00:41:23.210786",
     "exception": false,
     "start_time": "2022-06-20T00:41:23.173678",
     "status": "completed"
    },
    "tags": []
   },
   "outputs": [],
   "source": [
    "#hide\n",
    "# g = g[cols]"
   ]
  },
  {
   "cell_type": "code",
   "execution_count": 39,
   "id": "structured-mobile",
   "metadata": {
    "execution": {
     "iopub.execute_input": "2022-06-20T00:41:23.276773Z",
     "iopub.status.busy": "2022-06-20T00:41:23.276173Z",
     "iopub.status.idle": "2022-06-20T00:41:23.278326Z",
     "shell.execute_reply": "2022-06-20T00:41:23.278756Z"
    },
    "papermill": {
     "duration": 0.037009,
     "end_time": "2022-06-20T00:41:23.278887",
     "exception": false,
     "start_time": "2022-06-20T00:41:23.241878",
     "status": "completed"
    },
    "tags": []
   },
   "outputs": [],
   "source": [
    "# #hide\n",
    "# g = g[g.group.notna()]"
   ]
  },
  {
   "cell_type": "code",
   "execution_count": 40,
   "id": "determined-closing",
   "metadata": {
    "execution": {
     "iopub.execute_input": "2022-06-20T00:41:23.343972Z",
     "iopub.status.busy": "2022-06-20T00:41:23.343296Z",
     "iopub.status.idle": "2022-06-20T00:41:23.347150Z",
     "shell.execute_reply": "2022-06-20T00:41:23.347570Z"
    },
    "papermill": {
     "duration": 0.038261,
     "end_time": "2022-06-20T00:41:23.347699",
     "exception": false,
     "start_time": "2022-06-20T00:41:23.309438",
     "status": "completed"
    },
    "tags": []
   },
   "outputs": [],
   "source": [
    "# #hide\n",
    "# colors = dict(zip(\n",
    "#     [\"Oceania\", \"Europe\", \"Asia\", \"South America\", \"Middle East\", \"North America\", \"Africa\"],\n",
    "#     [\"#adb0ff\", \"#ffb3ff\", \"#90d595\", \"#e48381\", \"#aafbff\", \"#f7bb5f\", \"#eafb50\"]\n",
    "# ))\n",
    "# group_lk = g.set_index('name')['group'].to_dict()"
   ]
  },
  {
   "cell_type": "code",
   "execution_count": null,
   "id": "gross-drinking",
   "metadata": {
    "papermill": {
     "duration": 0.030734,
     "end_time": "2022-06-20T00:41:23.409016",
     "exception": false,
     "start_time": "2022-06-20T00:41:23.378282",
     "status": "completed"
    },
    "tags": []
   },
   "outputs": [],
   "source": []
  },
  {
   "cell_type": "code",
   "execution_count": 41,
   "id": "subject-macintosh",
   "metadata": {
    "execution": {
     "iopub.execute_input": "2022-06-20T00:41:23.474065Z",
     "iopub.status.busy": "2022-06-20T00:41:23.473484Z",
     "iopub.status.idle": "2022-06-20T00:41:23.476349Z",
     "shell.execute_reply": "2022-06-20T00:41:23.475877Z"
    },
    "papermill": {
     "duration": 0.037,
     "end_time": "2022-06-20T00:41:23.476456",
     "exception": false,
     "start_time": "2022-06-20T00:41:23.439456",
     "status": "completed"
    },
    "tags": []
   },
   "outputs": [],
   "source": [
    "# #hide\n",
    "# fig, ax = plt.subplots(figsize=(15, 8))\n",
    "\n",
    "# def draw_barchart(current_day):\n",
    "#     dff = g[g['day'].eq(current_day)].sort_values(by='value', ascending=True).tail(10)\n",
    "#     ax.clear()\n",
    "#     ax.barh(dff['name'], dff['value'], color=[colors[group_lk[x]] for x in dff['name']])\n",
    "#     dx = dff['value'].max() / 200\n",
    "    \n",
    "#     for i, (value, name) in enumerate(zip(dff['value'], dff['name'])):\n",
    "#         ax.text(value-dx, i,     name,           size=14, weight=600, ha='right', va='bottom')\n",
    "#         ax.text(value-dx, i-.25, group_lk[name], size=10, color='#444444', ha='right', va='baseline')\n",
    "#         ax.text(value+dx, i,     f'{value:,.0f}',  size=14, ha='left',  va='center')\n",
    "#     ax.text(1, 0.4, current_day, transform=ax.transAxes, color='#777777', size=46, ha='right', weight=800)\n",
    "#     ax.text(0, 1.06, 'Population (thousands)', transform=ax.transAxes, size=12, color='#777777')\n",
    "#     ax.xaxis.set_major_formatter(ticker.StrMethodFormatter('{x:,.0f}'))\n",
    "#     ax.xaxis.set_ticks_position('top')\n",
    "#     ax.tick_params(axis='x', colors='#777777', labelsize=12)\n",
    "#     ax.set_yticks([])\n",
    "#     ax.margins(0, 0.01)\n",
    "#     ax.grid(which='major', axis='x', linestyle='-')\n",
    "#     ax.set_axisbelow(True)\n",
    "    \n",
    "#     ax.text(0, 1.15, 'Coronavirus',\n",
    "#             transform=ax.transAxes, size=24, weight=600, ha='left', va='top')\n",
    "# #     ax.text(1, 0, 'by @pratapvardhan; credit @jburnmurdoch', transform=ax.transAxes, color='#777777', ha='right',\n",
    "# #             bbox=dict(facecolor='white', alpha=0.8, edgecolor='white'))\n",
    "#     plt.box(False)"
   ]
  },
  {
   "cell_type": "code",
   "execution_count": 42,
   "id": "sexual-wages",
   "metadata": {
    "execution": {
     "iopub.execute_input": "2022-06-20T00:41:23.544528Z",
     "iopub.status.busy": "2022-06-20T00:41:23.543127Z",
     "iopub.status.idle": "2022-06-20T00:41:23.545198Z",
     "shell.execute_reply": "2022-06-20T00:41:23.545629Z"
    },
    "papermill": {
     "duration": 0.037692,
     "end_time": "2022-06-20T00:41:23.545753",
     "exception": false,
     "start_time": "2022-06-20T00:41:23.508061",
     "status": "completed"
    },
    "tags": []
   },
   "outputs": [],
   "source": [
    "# #hide_input\n",
    "# fig, ax = plt.subplots(figsize=(15, 8))\n",
    "# animator = animation.FuncAnimation(fig, draw_barchart, frames=range(g.day.values.min(), g.day.values.max()))\n",
    "# HTML(animator.to_jshtml())\n",
    "# # or use animator.to_html5_video() or animator.save() "
   ]
  },
  {
   "cell_type": "code",
   "execution_count": null,
   "id": "australian-container",
   "metadata": {
    "papermill": {
     "duration": 0.030567,
     "end_time": "2022-06-20T00:41:23.606804",
     "exception": false,
     "start_time": "2022-06-20T00:41:23.576237",
     "status": "completed"
    },
    "tags": []
   },
   "outputs": [],
   "source": []
  },
  {
   "cell_type": "code",
   "execution_count": null,
   "id": "mediterranean-pontiac",
   "metadata": {
    "papermill": {
     "duration": 0.031783,
     "end_time": "2022-06-20T00:41:23.669170",
     "exception": false,
     "start_time": "2022-06-20T00:41:23.637387",
     "status": "completed"
    },
    "tags": []
   },
   "outputs": [],
   "source": []
  },
  {
   "cell_type": "code",
   "execution_count": null,
   "id": "aging-legislature",
   "metadata": {
    "papermill": {
     "duration": 0.030462,
     "end_time": "2022-06-20T00:41:23.730120",
     "exception": false,
     "start_time": "2022-06-20T00:41:23.699658",
     "status": "completed"
    },
    "tags": []
   },
   "outputs": [],
   "source": []
  }
 ],
 "metadata": {
  "kernelspec": {
   "display_name": "Python 3",
   "language": "python",
   "name": "python3"
  },
  "language_info": {
   "codemirror_mode": {
    "name": "ipython",
    "version": 3
   },
   "file_extension": ".py",
   "mimetype": "text/x-python",
   "name": "python",
   "nbconvert_exporter": "python",
   "pygments_lexer": "ipython3",
   "version": "3.6.15"
  },
  "papermill": {
   "duration": 6.215747,
   "end_time": "2022-06-20T00:41:24.081199",
   "environment_variables": {},
   "exception": null,
   "input_path": "2020-03-21-covid19exp.ipynb",
   "output_path": "2020-03-21-covid19exp.ipynb",
   "parameters": {},
   "start_time": "2022-06-20T00:41:17.865452",
   "version": "2.0.0"
  }
 },
 "nbformat": 4,
 "nbformat_minor": 5
}