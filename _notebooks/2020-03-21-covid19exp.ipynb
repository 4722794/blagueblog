{
 "cells": [
  {
   "cell_type": "markdown",
   "id": "muslim-click",
   "metadata": {
    "papermill": {
     "duration": 0.034329,
     "end_time": "2022-05-05T00:41:09.030243",
     "exception": false,
     "start_time": "2022-05-05T00:41:08.995914",
     "status": "completed"
    },
    "tags": []
   },
   "source": [
    "# COVID-19 Case Race\n",
    "> A race chart to see rising cases around the world\n",
    "\n",
    "- author: Hargun Oberoi\n",
    "- image: images/covid-overview.png\n",
    "- hide: false\n",
    "- badges: false"
   ]
  },
  {
   "cell_type": "code",
   "execution_count": 1,
   "id": "proof-material",
   "metadata": {
    "execution": {
     "iopub.execute_input": "2022-05-05T00:41:09.102295Z",
     "iopub.status.busy": "2022-05-05T00:41:09.101794Z",
     "iopub.status.idle": "2022-05-05T00:41:09.410104Z",
     "shell.execute_reply": "2022-05-05T00:41:09.409654Z"
    },
    "papermill": {
     "duration": 0.347628,
     "end_time": "2022-05-05T00:41:09.410225",
     "exception": false,
     "start_time": "2022-05-05T00:41:09.062597",
     "status": "completed"
    },
    "tags": []
   },
   "outputs": [],
   "source": [
    "#hide\n",
    "import numpy as np\n",
    "import pandas as pd\n",
    "from jinja2 import Template\n",
    "from IPython.display import HTML"
   ]
  },
  {
   "cell_type": "code",
   "execution_count": 2,
   "id": "developed-terminology",
   "metadata": {
    "execution": {
     "iopub.execute_input": "2022-05-05T00:41:09.476469Z",
     "iopub.status.busy": "2022-05-05T00:41:09.475958Z",
     "iopub.status.idle": "2022-05-05T00:41:09.477888Z",
     "shell.execute_reply": "2022-05-05T00:41:09.477490Z"
    },
    "papermill": {
     "duration": 0.036933,
     "end_time": "2022-05-05T00:41:09.477988",
     "exception": false,
     "start_time": "2022-05-05T00:41:09.441055",
     "status": "completed"
    },
    "tags": []
   },
   "outputs": [],
   "source": [
    "#hide\n",
    "\n",
    "# FETCH\n",
    "base_url = 'https://raw.githubusercontent.com/pratapvardhan/notebooks/master/covid19/'\n",
    "paths = {\n",
    "    'mapping': base_url + 'mapping_countries.csv',\n",
    "    'overview': base_url + 'overview.tpl'\n",
    "}"
   ]
  },
  {
   "cell_type": "code",
   "execution_count": 3,
   "id": "dynamic-saver",
   "metadata": {
    "execution": {
     "iopub.execute_input": "2022-05-05T00:41:09.548199Z",
     "iopub.status.busy": "2022-05-05T00:41:09.547696Z",
     "iopub.status.idle": "2022-05-05T00:41:09.551518Z",
     "shell.execute_reply": "2022-05-05T00:41:09.551121Z"
    },
    "papermill": {
     "duration": 0.042858,
     "end_time": "2022-05-05T00:41:09.551620",
     "exception": false,
     "start_time": "2022-05-05T00:41:09.508762",
     "status": "completed"
    },
    "tags": []
   },
   "outputs": [
    {
     "data": {
      "text/plain": [
       "'https://raw.githubusercontent.com/pratapvardhan/notebooks/master/covid19/mapping_countries.csv'"
      ]
     },
     "execution_count": 3,
     "metadata": {},
     "output_type": "execute_result"
    }
   ],
   "source": [
    "#hide\n",
    "paths['mapping']"
   ]
  },
  {
   "cell_type": "code",
   "execution_count": 4,
   "id": "urban-software",
   "metadata": {
    "execution": {
     "iopub.execute_input": "2022-05-05T00:41:09.617900Z",
     "iopub.status.busy": "2022-05-05T00:41:09.617370Z",
     "iopub.status.idle": "2022-05-05T00:41:09.620252Z",
     "shell.execute_reply": "2022-05-05T00:41:09.619857Z"
    },
    "papermill": {
     "duration": 0.037882,
     "end_time": "2022-05-05T00:41:09.620351",
     "exception": false,
     "start_time": "2022-05-05T00:41:09.582469",
     "status": "completed"
    },
    "tags": []
   },
   "outputs": [],
   "source": [
    "#hide\n",
    "def get_mappings(url):\n",
    "    df = pd.read_csv(url)\n",
    "    return {\n",
    "        'df': df,\n",
    "        'replace.country': dict(df.dropna(subset=['Name']).set_index('Country')['Name']),\n",
    "        'map.continent': dict(df.set_index('Name')['Continent'])\n",
    "    }"
   ]
  },
  {
   "cell_type": "code",
   "execution_count": 5,
   "id": "intimate-machinery",
   "metadata": {
    "execution": {
     "iopub.execute_input": "2022-05-05T00:41:09.686380Z",
     "iopub.status.busy": "2022-05-05T00:41:09.685890Z",
     "iopub.status.idle": "2022-05-05T00:41:09.746434Z",
     "shell.execute_reply": "2022-05-05T00:41:09.745992Z"
    },
    "papermill": {
     "duration": 0.095452,
     "end_time": "2022-05-05T00:41:09.746542",
     "exception": false,
     "start_time": "2022-05-05T00:41:09.651090",
     "status": "completed"
    },
    "tags": []
   },
   "outputs": [],
   "source": [
    "#hide\n",
    "mapping = get_mappings(paths['mapping'])"
   ]
  },
  {
   "cell_type": "code",
   "execution_count": 6,
   "id": "certified-tactics",
   "metadata": {
    "execution": {
     "iopub.execute_input": "2022-05-05T00:41:09.813756Z",
     "iopub.status.busy": "2022-05-05T00:41:09.813217Z",
     "iopub.status.idle": "2022-05-05T00:41:09.814854Z",
     "shell.execute_reply": "2022-05-05T00:41:09.815234Z"
    },
    "papermill": {
     "duration": 0.037349,
     "end_time": "2022-05-05T00:41:09.815353",
     "exception": false,
     "start_time": "2022-05-05T00:41:09.778004",
     "status": "completed"
    },
    "tags": []
   },
   "outputs": [],
   "source": [
    "#hide\n",
    "def get_template(path):\n",
    "    from urllib.parse import urlparse\n",
    "    if bool(urlparse(path).netloc):\n",
    "        from urllib.request import urlopen\n",
    "        return urlopen(path).read().decode('utf8')\n",
    "    return open(path).read()"
   ]
  },
  {
   "cell_type": "code",
   "execution_count": 7,
   "id": "realistic-blast",
   "metadata": {
    "execution": {
     "iopub.execute_input": "2022-05-05T00:41:09.881713Z",
     "iopub.status.busy": "2022-05-05T00:41:09.881181Z",
     "iopub.status.idle": "2022-05-05T00:41:09.883055Z",
     "shell.execute_reply": "2022-05-05T00:41:09.882570Z"
    },
    "papermill": {
     "duration": 0.036856,
     "end_time": "2022-05-05T00:41:09.883155",
     "exception": false,
     "start_time": "2022-05-05T00:41:09.846299",
     "status": "completed"
    },
    "tags": []
   },
   "outputs": [],
   "source": [
    "#hide\n",
    "def get_frame(name):\n",
    "    url = (\n",
    "        'https://raw.githubusercontent.com/CSSEGISandData/COVID-19/master/csse_covid_19_data/'\n",
    "        f'csse_covid_19_time_series/time_series_covid19_{name}_global.csv')\n",
    "    df = pd.read_csv(url)\n",
    "    # rename countries\n",
    "    df['Country/Region'] = df['Country/Region'].replace(mapping['replace.country'])\n",
    "    return df"
   ]
  },
  {
   "cell_type": "code",
   "execution_count": 8,
   "id": "affiliated-characterization",
   "metadata": {
    "execution": {
     "iopub.execute_input": "2022-05-05T00:41:09.950072Z",
     "iopub.status.busy": "2022-05-05T00:41:09.949555Z",
     "iopub.status.idle": "2022-05-05T00:41:09.951386Z",
     "shell.execute_reply": "2022-05-05T00:41:09.951765Z"
    },
    "papermill": {
     "duration": 0.037779,
     "end_time": "2022-05-05T00:41:09.951882",
     "exception": false,
     "start_time": "2022-05-05T00:41:09.914103",
     "status": "completed"
    },
    "tags": []
   },
   "outputs": [],
   "source": [
    "#hide\n",
    "def get_dates(df):\n",
    "    dt_cols = df.columns[~df.columns.isin(['Province/State', 'Country/Region', 'Lat', 'Long'])]\n",
    "    LAST_DATE_I = -1\n",
    "    # sometimes last column may be empty, then go backwards\n",
    "    for i in range(-1, -len(dt_cols), -1):\n",
    "        if not df[dt_cols[i]].fillna(0).eq(0).all():\n",
    "            LAST_DATE_I = i\n",
    "            break\n",
    "    return LAST_DATE_I, dt_cols"
   ]
  },
  {
   "cell_type": "code",
   "execution_count": 9,
   "id": "recent-optimization",
   "metadata": {
    "execution": {
     "iopub.execute_input": "2022-05-05T00:41:10.018123Z",
     "iopub.status.busy": "2022-05-05T00:41:10.017597Z",
     "iopub.status.idle": "2022-05-05T00:41:10.633651Z",
     "shell.execute_reply": "2022-05-05T00:41:10.634062Z"
    },
    "papermill": {
     "duration": 0.651619,
     "end_time": "2022-05-05T00:41:10.634195",
     "exception": false,
     "start_time": "2022-05-05T00:41:09.982576",
     "status": "completed"
    },
    "tags": []
   },
   "outputs": [],
   "source": [
    "#hide\n",
    "COL_REGION = 'Country/Region'\n",
    "# Confirmed, Recovered, Deaths\n",
    "df = get_frame('confirmed')\n",
    "# dft_: timeseries, dfc_: today country agg\n",
    "dft_cases = df\n",
    "dft_deaths = get_frame('deaths')\n",
    "dft_recovered = get_frame('recovered')\n",
    "LAST_DATE_I, dt_cols = get_dates(df)"
   ]
  },
  {
   "cell_type": "code",
   "execution_count": 10,
   "id": "absolute-copper",
   "metadata": {
    "execution": {
     "iopub.execute_input": "2022-05-05T00:41:10.700918Z",
     "iopub.status.busy": "2022-05-05T00:41:10.700410Z",
     "iopub.status.idle": "2022-05-05T00:41:10.702301Z",
     "shell.execute_reply": "2022-05-05T00:41:10.701821Z"
    },
    "papermill": {
     "duration": 0.037256,
     "end_time": "2022-05-05T00:41:10.702401",
     "exception": false,
     "start_time": "2022-05-05T00:41:10.665145",
     "status": "completed"
    },
    "tags": []
   },
   "outputs": [],
   "source": [
    "#hide\n",
    "LAST_DATE_I, dt_cols = get_dates(df)\n",
    "dt_today =dt_cols[LAST_DATE_I]\n",
    "# dt_5day = dt_cols[LAST_DATE_I - 5]\n",
    "dt_yday = dt_cols[LAST_DATE_I - 1]"
   ]
  },
  {
   "cell_type": "code",
   "execution_count": 11,
   "id": "restricted-sheriff",
   "metadata": {
    "execution": {
     "iopub.execute_input": "2022-05-05T00:41:10.770522Z",
     "iopub.status.busy": "2022-05-05T00:41:10.770033Z",
     "iopub.status.idle": "2022-05-05T00:41:10.775783Z",
     "shell.execute_reply": "2022-05-05T00:41:10.775380Z"
    },
    "papermill": {
     "duration": 0.042707,
     "end_time": "2022-05-05T00:41:10.775887",
     "exception": false,
     "start_time": "2022-05-05T00:41:10.733180",
     "status": "completed"
    },
    "tags": []
   },
   "outputs": [],
   "source": [
    "#hide\n",
    "dfc_cases = dft_cases.groupby(COL_REGION)[dt_today].sum()\n",
    "dfc_deaths = dft_deaths.groupby(COL_REGION)[dt_today].sum()\n",
    "# dfp_cases = dft_cases.groupby(COL_REGION)[dt_5day].sum()\n",
    "# dfp_deaths = dft_deaths.groupby(COL_REGION)[dt_5day].sum()\n",
    "dfp_cases = dft_cases.groupby(COL_REGION)[dt_yday].sum()\n",
    "dfp_deaths = dft_deaths.groupby(COL_REGION)[dt_yday].sum()"
   ]
  },
  {
   "cell_type": "code",
   "execution_count": 12,
   "id": "deluxe-hepatitis",
   "metadata": {
    "execution": {
     "iopub.execute_input": "2022-05-05T00:41:10.843791Z",
     "iopub.status.busy": "2022-05-05T00:41:10.843298Z",
     "iopub.status.idle": "2022-05-05T00:41:10.847644Z",
     "shell.execute_reply": "2022-05-05T00:41:10.847238Z"
    },
    "papermill": {
     "duration": 0.040775,
     "end_time": "2022-05-05T00:41:10.847750",
     "exception": false,
     "start_time": "2022-05-05T00:41:10.806975",
     "status": "completed"
    },
    "tags": []
   },
   "outputs": [],
   "source": [
    "#hide\n",
    "df_table = (pd.DataFrame(dict(Cases = dfc_cases, Deaths = dfc_deaths, PCases = dfp_cases, PDeaths = dfp_deaths))\n",
    "            .sort_values(by = ['Cases','Deaths'], ascending = [False, False])\n",
    "            .reset_index())"
   ]
  },
  {
   "cell_type": "code",
   "execution_count": 13,
   "id": "educational-chancellor",
   "metadata": {
    "execution": {
     "iopub.execute_input": "2022-05-05T00:41:10.921854Z",
     "iopub.status.busy": "2022-05-05T00:41:10.921340Z",
     "iopub.status.idle": "2022-05-05T00:41:10.932305Z",
     "shell.execute_reply": "2022-05-05T00:41:10.932701Z"
    },
    "papermill": {
     "duration": 0.054254,
     "end_time": "2022-05-05T00:41:10.932816",
     "exception": false,
     "start_time": "2022-05-05T00:41:10.878562",
     "status": "completed"
    },
    "tags": []
   },
   "outputs": [
    {
     "data": {
      "text/html": [
       "<div>\n",
       "<style scoped>\n",
       "    .dataframe tbody tr th:only-of-type {\n",
       "        vertical-align: middle;\n",
       "    }\n",
       "\n",
       "    .dataframe tbody tr th {\n",
       "        vertical-align: top;\n",
       "    }\n",
       "\n",
       "    .dataframe thead th {\n",
       "        text-align: right;\n",
       "    }\n",
       "</style>\n",
       "<table border=\"1\" class=\"dataframe\">\n",
       "  <thead>\n",
       "    <tr style=\"text-align: right;\">\n",
       "      <th></th>\n",
       "      <th>Country/Region</th>\n",
       "      <th>Cases</th>\n",
       "      <th>Deaths</th>\n",
       "      <th>PCases</th>\n",
       "      <th>PDeaths</th>\n",
       "      <th>Cases (+)</th>\n",
       "      <th>Deaths (+)</th>\n",
       "      <th>Fatality Rate</th>\n",
       "      <th>Continent</th>\n",
       "    </tr>\n",
       "  </thead>\n",
       "  <tbody>\n",
       "    <tr>\n",
       "      <th>0</th>\n",
       "      <td>US</td>\n",
       "      <td>81506075</td>\n",
       "      <td>994744</td>\n",
       "      <td>81444332</td>\n",
       "      <td>993999</td>\n",
       "      <td>61743</td>\n",
       "      <td>745</td>\n",
       "      <td>1.22</td>\n",
       "      <td>North America</td>\n",
       "    </tr>\n",
       "    <tr>\n",
       "      <th>1</th>\n",
       "      <td>India</td>\n",
       "      <td>43088118</td>\n",
       "      <td>523920</td>\n",
       "      <td>43084913</td>\n",
       "      <td>523889</td>\n",
       "      <td>3205</td>\n",
       "      <td>31</td>\n",
       "      <td>1.22</td>\n",
       "      <td>Asia</td>\n",
       "    </tr>\n",
       "    <tr>\n",
       "      <th>2</th>\n",
       "      <td>Brazil</td>\n",
       "      <td>30482429</td>\n",
       "      <td>663930</td>\n",
       "      <td>30460997</td>\n",
       "      <td>663838</td>\n",
       "      <td>21432</td>\n",
       "      <td>92</td>\n",
       "      <td>2.18</td>\n",
       "      <td>South America</td>\n",
       "    </tr>\n",
       "    <tr>\n",
       "      <th>3</th>\n",
       "      <td>France</td>\n",
       "      <td>28948497</td>\n",
       "      <td>147299</td>\n",
       "      <td>28881384</td>\n",
       "      <td>147179</td>\n",
       "      <td>67113</td>\n",
       "      <td>120</td>\n",
       "      <td>0.51</td>\n",
       "      <td>Europe</td>\n",
       "    </tr>\n",
       "    <tr>\n",
       "      <th>4</th>\n",
       "      <td>Germany</td>\n",
       "      <td>25033970</td>\n",
       "      <td>135942</td>\n",
       "      <td>24927339</td>\n",
       "      <td>135701</td>\n",
       "      <td>106631</td>\n",
       "      <td>241</td>\n",
       "      <td>0.54</td>\n",
       "      <td>Europe</td>\n",
       "    </tr>\n",
       "  </tbody>\n",
       "</table>\n",
       "</div>"
      ],
      "text/plain": [
       "  Country/Region     Cases  Deaths    PCases  PDeaths  Cases (+)  Deaths (+)  \\\n",
       "0             US  81506075  994744  81444332   993999      61743         745   \n",
       "1          India  43088118  523920  43084913   523889       3205          31   \n",
       "2         Brazil  30482429  663930  30460997   663838      21432          92   \n",
       "3         France  28948497  147299  28881384   147179      67113         120   \n",
       "4        Germany  25033970  135942  24927339   135701     106631         241   \n",
       "\n",
       "   Fatality Rate      Continent  \n",
       "0           1.22  North America  \n",
       "1           1.22           Asia  \n",
       "2           2.18  South America  \n",
       "3           0.51         Europe  \n",
       "4           0.54         Europe  "
      ]
     },
     "execution_count": 13,
     "metadata": {},
     "output_type": "execute_result"
    }
   ],
   "source": [
    "#hide\n",
    "for c in 'Cases, Deaths'.split(', '):\n",
    "    df_table[f'{c} (+)'] = (df_table[c] - df_table[f'P{c}']).clip(0)\n",
    "    #Clip ça veut dire, les chiffres negatif sont interdit\n",
    "df_table['Fatality Rate'] = (100* df_table['Deaths']/ df_table['Cases']).round(2)\n",
    "df_table['Continent'] = df_table['Country/Region'].map(mapping['map.continent'])\n",
    "df_table.head(5)"
   ]
  },
  {
   "cell_type": "code",
   "execution_count": 14,
   "id": "aboriginal-bulgaria",
   "metadata": {
    "execution": {
     "iopub.execute_input": "2022-05-05T00:41:11.000157Z",
     "iopub.status.busy": "2022-05-05T00:41:10.999667Z",
     "iopub.status.idle": "2022-05-05T00:41:11.002417Z",
     "shell.execute_reply": "2022-05-05T00:41:11.002030Z"
    },
    "papermill": {
     "duration": 0.038463,
     "end_time": "2022-05-05T00:41:11.002517",
     "exception": false,
     "start_time": "2022-05-05T00:41:10.964054",
     "status": "completed"
    },
    "tags": []
   },
   "outputs": [],
   "source": [
    "#hide\n",
    "#delete problematic countries from table\n",
    "df_table = df_table[~df_table['Country/Region'].isin(['Cape Verde', 'Cruise Ship', 'Kosovo'])]"
   ]
  },
  {
   "cell_type": "code",
   "execution_count": 15,
   "id": "fantastic-effect",
   "metadata": {
    "execution": {
     "iopub.execute_input": "2022-05-05T00:41:11.072268Z",
     "iopub.status.busy": "2022-05-05T00:41:11.071776Z",
     "iopub.status.idle": "2022-05-05T00:41:11.088284Z",
     "shell.execute_reply": "2022-05-05T00:41:11.088659Z"
    },
    "papermill": {
     "duration": 0.055205,
     "end_time": "2022-05-05T00:41:11.088780",
     "exception": false,
     "start_time": "2022-05-05T00:41:11.033575",
     "status": "completed"
    },
    "tags": []
   },
   "outputs": [
    {
     "data": {
      "text/html": [
       "<div>\n",
       "<style scoped>\n",
       "    .dataframe tbody tr th:only-of-type {\n",
       "        vertical-align: middle;\n",
       "    }\n",
       "\n",
       "    .dataframe tbody tr th {\n",
       "        vertical-align: top;\n",
       "    }\n",
       "\n",
       "    .dataframe thead th {\n",
       "        text-align: right;\n",
       "    }\n",
       "</style>\n",
       "<table border=\"1\" class=\"dataframe\">\n",
       "  <thead>\n",
       "    <tr style=\"text-align: right;\">\n",
       "      <th></th>\n",
       "      <th>Country/Region</th>\n",
       "      <th>Cases</th>\n",
       "      <th>Deaths</th>\n",
       "      <th>PCases</th>\n",
       "      <th>PDeaths</th>\n",
       "      <th>Cases (+)</th>\n",
       "      <th>Deaths (+)</th>\n",
       "      <th>Fatality Rate</th>\n",
       "      <th>Continent</th>\n",
       "    </tr>\n",
       "  </thead>\n",
       "  <tbody>\n",
       "    <tr>\n",
       "      <th>0</th>\n",
       "      <td>US</td>\n",
       "      <td>81506075</td>\n",
       "      <td>994744</td>\n",
       "      <td>81444332</td>\n",
       "      <td>993999</td>\n",
       "      <td>61743</td>\n",
       "      <td>745</td>\n",
       "      <td>1.2</td>\n",
       "      <td>North America</td>\n",
       "    </tr>\n",
       "    <tr>\n",
       "      <th>1</th>\n",
       "      <td>India</td>\n",
       "      <td>43088118</td>\n",
       "      <td>523920</td>\n",
       "      <td>43084913</td>\n",
       "      <td>523889</td>\n",
       "      <td>3205</td>\n",
       "      <td>31</td>\n",
       "      <td>1.2</td>\n",
       "      <td>Asia</td>\n",
       "    </tr>\n",
       "    <tr>\n",
       "      <th>2</th>\n",
       "      <td>Brazil</td>\n",
       "      <td>30482429</td>\n",
       "      <td>663930</td>\n",
       "      <td>30460997</td>\n",
       "      <td>663838</td>\n",
       "      <td>21432</td>\n",
       "      <td>92</td>\n",
       "      <td>2.2</td>\n",
       "      <td>South America</td>\n",
       "    </tr>\n",
       "    <tr>\n",
       "      <th>3</th>\n",
       "      <td>France</td>\n",
       "      <td>28948497</td>\n",
       "      <td>147299</td>\n",
       "      <td>28881384</td>\n",
       "      <td>147179</td>\n",
       "      <td>67113</td>\n",
       "      <td>120</td>\n",
       "      <td>0.5</td>\n",
       "      <td>Europe</td>\n",
       "    </tr>\n",
       "    <tr>\n",
       "      <th>4</th>\n",
       "      <td>Germany</td>\n",
       "      <td>25033970</td>\n",
       "      <td>135942</td>\n",
       "      <td>24927339</td>\n",
       "      <td>135701</td>\n",
       "      <td>106631</td>\n",
       "      <td>241</td>\n",
       "      <td>0.5</td>\n",
       "      <td>Europe</td>\n",
       "    </tr>\n",
       "  </tbody>\n",
       "</table>\n",
       "</div>"
      ],
      "text/plain": [
       "  Country/Region     Cases  Deaths    PCases  PDeaths  Cases (+)  Deaths (+)  \\\n",
       "0             US  81506075  994744  81444332   993999      61743         745   \n",
       "1          India  43088118  523920  43084913   523889       3205          31   \n",
       "2         Brazil  30482429  663930  30460997   663838      21432          92   \n",
       "3         France  28948497  147299  28881384   147179      67113         120   \n",
       "4        Germany  25033970  135942  24927339   135701     106631         241   \n",
       "\n",
       "   Fatality Rate      Continent  \n",
       "0            1.2  North America  \n",
       "1            1.2           Asia  \n",
       "2            2.2  South America  \n",
       "3            0.5         Europe  \n",
       "4            0.5         Europe  "
      ]
     },
     "execution_count": 15,
     "metadata": {},
     "output_type": "execute_result"
    }
   ],
   "source": [
    "#hide\n",
    "df_table = (pd.DataFrame(dict(Cases=dfc_cases, Deaths=dfc_deaths, PCases=dfp_cases, PDeaths=dfp_deaths))\n",
    "             .sort_values(by=['Cases', 'Deaths'], ascending=[False, False])\n",
    "             .reset_index())\n",
    "df_table.rename(columns={'index': 'Country/Region'}, inplace=True)\n",
    "for c in 'Cases, Deaths'.split(', '):\n",
    "    df_table[f'{c} (+)'] = (df_table[c] - df_table[f'P{c}']).clip(0)  # DATA BUG\n",
    "df_table['Fatality Rate'] = (100 * df_table['Deaths'] / df_table['Cases']).round(1)\n",
    "df_table['Continent'] = df_table['Country/Region'].map(mapping['map.continent'])\n",
    "df_table.head(5)"
   ]
  },
  {
   "cell_type": "code",
   "execution_count": 16,
   "id": "fewer-occasion",
   "metadata": {
    "execution": {
     "iopub.execute_input": "2022-05-05T00:41:11.157198Z",
     "iopub.status.busy": "2022-05-05T00:41:11.156679Z",
     "iopub.status.idle": "2022-05-05T00:41:11.158303Z",
     "shell.execute_reply": "2022-05-05T00:41:11.158698Z"
    },
    "papermill": {
     "duration": 0.038348,
     "end_time": "2022-05-05T00:41:11.158811",
     "exception": false,
     "start_time": "2022-05-05T00:41:11.120463",
     "status": "completed"
    },
    "tags": []
   },
   "outputs": [],
   "source": [
    "#hide\n",
    "#delete problematic countries from table\n",
    "df_table = df_table[~df_table['Country/Region'].isin(['Cape Verde', 'Cruise Ship', 'Kosovo'])]"
   ]
  },
  {
   "cell_type": "code",
   "execution_count": 17,
   "id": "related-center",
   "metadata": {
    "execution": {
     "iopub.execute_input": "2022-05-05T00:41:11.239708Z",
     "iopub.status.busy": "2022-05-05T00:41:11.239181Z",
     "iopub.status.idle": "2022-05-05T00:41:11.242012Z",
     "shell.execute_reply": "2022-05-05T00:41:11.242404Z"
    },
    "papermill": {
     "duration": 0.051843,
     "end_time": "2022-05-05T00:41:11.242520",
     "exception": false,
     "start_time": "2022-05-05T00:41:11.190677",
     "status": "completed"
    },
    "tags": []
   },
   "outputs": [],
   "source": [
    "#hide\n",
    "metrics = [df_table.columns[index] for index in [1,2,5,6]]\n",
    "# s_china = df_table[df_table['Country/Region'].eq('China')][metrics].sum().add_prefix('China ')\n",
    "s_us = df_table[df_table['Country/Region'].eq('US')][metrics].sum().add_prefix('US ')\n",
    "s_eu = df_table[df_table['Continent'].eq('Europe')][metrics].sum().add_prefix('EU ')\n",
    "s_ind = df_table[df_table['Country/Region'].eq('India')][metrics].sum().add_prefix('India ')\n",
    "summary = {'updated': pd.to_datetime(dt_today), 'since': pd.to_datetime(dt_yday)}\n",
    "summary = {'updated': pd.to_datetime(dt_today), 'since': pd.to_datetime(dt_yday)}\n",
    "summary = {**summary, **df_table[metrics].sum(), **s_ind, **s_us, **s_eu}"
   ]
  },
  {
   "cell_type": "code",
   "execution_count": 18,
   "id": "engaging-syndrome",
   "metadata": {
    "execution": {
     "iopub.execute_input": "2022-05-05T00:41:11.310998Z",
     "iopub.status.busy": "2022-05-05T00:41:11.310517Z",
     "iopub.status.idle": "2022-05-05T00:41:11.328660Z",
     "shell.execute_reply": "2022-05-05T00:41:11.328234Z"
    },
    "papermill": {
     "duration": 0.054369,
     "end_time": "2022-05-05T00:41:11.328761",
     "exception": false,
     "start_time": "2022-05-05T00:41:11.274392",
     "status": "completed"
    },
    "tags": []
   },
   "outputs": [],
   "source": [
    "#hide\n",
    "dft_ct_new_cases = dft_cases.groupby(COL_REGION)[dt_cols].sum().diff(axis=1).fillna(0).astype(int)"
   ]
  },
  {
   "cell_type": "code",
   "execution_count": 19,
   "id": "neutral-assignment",
   "metadata": {
    "execution": {
     "iopub.execute_input": "2022-05-05T00:41:11.398292Z",
     "iopub.status.busy": "2022-05-05T00:41:11.397796Z",
     "iopub.status.idle": "2022-05-05T00:41:11.400077Z",
     "shell.execute_reply": "2022-05-05T00:41:11.400441Z"
    },
    "papermill": {
     "duration": 0.039647,
     "end_time": "2022-05-05T00:41:11.400557",
     "exception": false,
     "start_time": "2022-05-05T00:41:11.360910",
     "status": "completed"
    },
    "tags": []
   },
   "outputs": [],
   "source": [
    "#hide\n",
    "everydaycases = dft_ct_new_cases.cumsum(axis=1)"
   ]
  },
  {
   "cell_type": "code",
   "execution_count": 20,
   "id": "parliamentary-calgary",
   "metadata": {
    "execution": {
     "iopub.execute_input": "2022-05-05T00:41:11.468054Z",
     "iopub.status.busy": "2022-05-05T00:41:11.467543Z",
     "iopub.status.idle": "2022-05-05T00:41:12.004741Z",
     "shell.execute_reply": "2022-05-05T00:41:12.004291Z"
    },
    "papermill": {
     "duration": 0.57264,
     "end_time": "2022-05-05T00:41:12.004859",
     "exception": false,
     "start_time": "2022-05-05T00:41:11.432219",
     "status": "completed"
    },
    "tags": []
   },
   "outputs": [],
   "source": [
    "#hide\n",
    "import pandas as pd\n",
    "import matplotlib.pyplot as plt\n",
    "import matplotlib.ticker as ticker\n",
    "import matplotlib.animation as animation\n",
    "from IPython.display import HTML"
   ]
  },
  {
   "cell_type": "code",
   "execution_count": 21,
   "id": "lasting-extraction",
   "metadata": {
    "execution": {
     "iopub.execute_input": "2022-05-05T00:41:12.075111Z",
     "iopub.status.busy": "2022-05-05T00:41:12.074614Z",
     "iopub.status.idle": "2022-05-05T00:41:12.080352Z",
     "shell.execute_reply": "2022-05-05T00:41:12.079963Z"
    },
    "papermill": {
     "duration": 0.043552,
     "end_time": "2022-05-05T00:41:12.080456",
     "exception": false,
     "start_time": "2022-05-05T00:41:12.036904",
     "status": "completed"
    },
    "tags": []
   },
   "outputs": [],
   "source": [
    "#hide\n",
    "t = everydaycases.stack()"
   ]
  },
  {
   "cell_type": "code",
   "execution_count": 22,
   "id": "premier-sleeve",
   "metadata": {
    "execution": {
     "iopub.execute_input": "2022-05-05T00:41:12.147924Z",
     "iopub.status.busy": "2022-05-05T00:41:12.147419Z",
     "iopub.status.idle": "2022-05-05T00:41:12.156744Z",
     "shell.execute_reply": "2022-05-05T00:41:12.157186Z"
    },
    "papermill": {
     "duration": 0.044973,
     "end_time": "2022-05-05T00:41:12.157299",
     "exception": false,
     "start_time": "2022-05-05T00:41:12.112326",
     "status": "completed"
    },
    "tags": []
   },
   "outputs": [],
   "source": [
    "#hide\n",
    "g = t.reset_index(['Country/Region'])"
   ]
  },
  {
   "cell_type": "code",
   "execution_count": 23,
   "id": "distributed-pittsburgh",
   "metadata": {
    "execution": {
     "iopub.execute_input": "2022-05-05T00:41:12.224518Z",
     "iopub.status.busy": "2022-05-05T00:41:12.224006Z",
     "iopub.status.idle": "2022-05-05T00:41:12.225591Z",
     "shell.execute_reply": "2022-05-05T00:41:12.225978Z"
    },
    "papermill": {
     "duration": 0.037117,
     "end_time": "2022-05-05T00:41:12.226093",
     "exception": false,
     "start_time": "2022-05-05T00:41:12.188976",
     "status": "completed"
    },
    "tags": []
   },
   "outputs": [],
   "source": [
    "#hide\n",
    "g.index.name = 'date'"
   ]
  },
  {
   "cell_type": "code",
   "execution_count": 24,
   "id": "naked-donor",
   "metadata": {
    "execution": {
     "iopub.execute_input": "2022-05-05T00:41:12.292809Z",
     "iopub.status.busy": "2022-05-05T00:41:12.292304Z",
     "iopub.status.idle": "2022-05-05T00:41:12.294315Z",
     "shell.execute_reply": "2022-05-05T00:41:12.293930Z"
    },
    "papermill": {
     "duration": 0.036632,
     "end_time": "2022-05-05T00:41:12.294415",
     "exception": false,
     "start_time": "2022-05-05T00:41:12.257783",
     "status": "completed"
    },
    "tags": []
   },
   "outputs": [],
   "source": [
    "# #hide\n",
    "# g = g.reset_index(['date'])"
   ]
  },
  {
   "cell_type": "code",
   "execution_count": 25,
   "id": "incomplete-mustang",
   "metadata": {
    "execution": {
     "iopub.execute_input": "2022-05-05T00:41:12.361237Z",
     "iopub.status.busy": "2022-05-05T00:41:12.360707Z",
     "iopub.status.idle": "2022-05-05T00:41:12.364001Z",
     "shell.execute_reply": "2022-05-05T00:41:12.363590Z"
    },
    "papermill": {
     "duration": 0.037881,
     "end_time": "2022-05-05T00:41:12.364101",
     "exception": false,
     "start_time": "2022-05-05T00:41:12.326220",
     "status": "completed"
    },
    "tags": []
   },
   "outputs": [],
   "source": [
    "#hide\n",
    "# g.head()"
   ]
  },
  {
   "cell_type": "code",
   "execution_count": 26,
   "id": "specific-kruger",
   "metadata": {
    "execution": {
     "iopub.execute_input": "2022-05-05T00:41:12.431455Z",
     "iopub.status.busy": "2022-05-05T00:41:12.430940Z",
     "iopub.status.idle": "2022-05-05T00:41:12.432535Z",
     "shell.execute_reply": "2022-05-05T00:41:12.432899Z"
    },
    "papermill": {
     "duration": 0.037024,
     "end_time": "2022-05-05T00:41:12.433013",
     "exception": false,
     "start_time": "2022-05-05T00:41:12.395989",
     "status": "completed"
    },
    "tags": []
   },
   "outputs": [],
   "source": [
    "#hide\n",
    "# g.columns = ['date','country','cases']"
   ]
  },
  {
   "cell_type": "code",
   "execution_count": 27,
   "id": "tender-conversion",
   "metadata": {
    "execution": {
     "iopub.execute_input": "2022-05-05T00:41:12.499512Z",
     "iopub.status.busy": "2022-05-05T00:41:12.499004Z",
     "iopub.status.idle": "2022-05-05T00:41:12.502435Z",
     "shell.execute_reply": "2022-05-05T00:41:12.502041Z"
    },
    "papermill": {
     "duration": 0.037919,
     "end_time": "2022-05-05T00:41:12.502537",
     "exception": false,
     "start_time": "2022-05-05T00:41:12.464618",
     "status": "completed"
    },
    "tags": []
   },
   "outputs": [],
   "source": [
    "#hide\n",
    "# g['continent'] = g.country"
   ]
  },
  {
   "cell_type": "code",
   "execution_count": 28,
   "id": "substantial-wilderness",
   "metadata": {
    "execution": {
     "iopub.execute_input": "2022-05-05T00:41:12.569783Z",
     "iopub.status.busy": "2022-05-05T00:41:12.569262Z",
     "iopub.status.idle": "2022-05-05T00:41:12.571029Z",
     "shell.execute_reply": "2022-05-05T00:41:12.571404Z"
    },
    "papermill": {
     "duration": 0.037038,
     "end_time": "2022-05-05T00:41:12.571520",
     "exception": false,
     "start_time": "2022-05-05T00:41:12.534482",
     "status": "completed"
    },
    "tags": []
   },
   "outputs": [],
   "source": [
    "#hide\n",
    "# cols = list(g.columns.values)"
   ]
  },
  {
   "cell_type": "code",
   "execution_count": 29,
   "id": "solved-farming",
   "metadata": {
    "execution": {
     "iopub.execute_input": "2022-05-05T00:41:12.638306Z",
     "iopub.status.busy": "2022-05-05T00:41:12.637815Z",
     "iopub.status.idle": "2022-05-05T00:41:12.639370Z",
     "shell.execute_reply": "2022-05-05T00:41:12.639773Z"
    },
    "papermill": {
     "duration": 0.036754,
     "end_time": "2022-05-05T00:41:12.639884",
     "exception": false,
     "start_time": "2022-05-05T00:41:12.603130",
     "status": "completed"
    },
    "tags": []
   },
   "outputs": [],
   "source": [
    "#hide\n",
    "# cols.insert(0, cols.pop())"
   ]
  },
  {
   "cell_type": "code",
   "execution_count": 30,
   "id": "executed-adoption",
   "metadata": {
    "execution": {
     "iopub.execute_input": "2022-05-05T00:41:12.706906Z",
     "iopub.status.busy": "2022-05-05T00:41:12.706391Z",
     "iopub.status.idle": "2022-05-05T00:41:12.708583Z",
     "shell.execute_reply": "2022-05-05T00:41:12.708192Z"
    },
    "papermill": {
     "duration": 0.037063,
     "end_time": "2022-05-05T00:41:12.708684",
     "exception": false,
     "start_time": "2022-05-05T00:41:12.671621",
     "status": "completed"
    },
    "tags": []
   },
   "outputs": [],
   "source": [
    "#hide\n",
    "# g = g[cols]"
   ]
  },
  {
   "cell_type": "code",
   "execution_count": 31,
   "id": "subject-dublin",
   "metadata": {
    "execution": {
     "iopub.execute_input": "2022-05-05T00:41:12.775320Z",
     "iopub.status.busy": "2022-05-05T00:41:12.774826Z",
     "iopub.status.idle": "2022-05-05T00:41:12.776569Z",
     "shell.execute_reply": "2022-05-05T00:41:12.776953Z"
    },
    "papermill": {
     "duration": 0.036577,
     "end_time": "2022-05-05T00:41:12.777065",
     "exception": false,
     "start_time": "2022-05-05T00:41:12.740488",
     "status": "completed"
    },
    "tags": []
   },
   "outputs": [],
   "source": [
    "#hide\n",
    "# g['continent'] = g['continent'].map(mapping['map.continent'])"
   ]
  },
  {
   "cell_type": "code",
   "execution_count": 32,
   "id": "freelance-scout",
   "metadata": {
    "execution": {
     "iopub.execute_input": "2022-05-05T00:41:12.844331Z",
     "iopub.status.busy": "2022-05-05T00:41:12.843831Z",
     "iopub.status.idle": "2022-05-05T00:41:12.845488Z",
     "shell.execute_reply": "2022-05-05T00:41:12.845873Z"
    },
    "papermill": {
     "duration": 0.037165,
     "end_time": "2022-05-05T00:41:12.845992",
     "exception": false,
     "start_time": "2022-05-05T00:41:12.808827",
     "status": "completed"
    },
    "tags": []
   },
   "outputs": [],
   "source": [
    "#hide\n",
    "# g.head()"
   ]
  },
  {
   "cell_type": "code",
   "execution_count": 33,
   "id": "limited-engine",
   "metadata": {
    "execution": {
     "iopub.execute_input": "2022-05-05T00:41:12.912579Z",
     "iopub.status.busy": "2022-05-05T00:41:12.912069Z",
     "iopub.status.idle": "2022-05-05T00:41:12.913936Z",
     "shell.execute_reply": "2022-05-05T00:41:12.913456Z"
    },
    "papermill": {
     "duration": 0.036309,
     "end_time": "2022-05-05T00:41:12.914033",
     "exception": false,
     "start_time": "2022-05-05T00:41:12.877724",
     "status": "completed"
    },
    "tags": []
   },
   "outputs": [],
   "source": [
    "# hide\n",
    "# g['date'] = g['date'].astype('datetime64[ns]')"
   ]
  },
  {
   "cell_type": "code",
   "execution_count": 34,
   "id": "sophisticated-supervisor",
   "metadata": {
    "execution": {
     "iopub.execute_input": "2022-05-05T00:41:12.981233Z",
     "iopub.status.busy": "2022-05-05T00:41:12.980725Z",
     "iopub.status.idle": "2022-05-05T00:41:12.982507Z",
     "shell.execute_reply": "2022-05-05T00:41:12.982874Z"
    },
    "papermill": {
     "duration": 0.036743,
     "end_time": "2022-05-05T00:41:12.982986",
     "exception": false,
     "start_time": "2022-05-05T00:41:12.946243",
     "status": "completed"
    },
    "tags": []
   },
   "outputs": [],
   "source": [
    "#hide\n",
    "# g['date'] = g.date.dt.dayofyear"
   ]
  },
  {
   "cell_type": "code",
   "execution_count": 35,
   "id": "inside-dubai",
   "metadata": {
    "execution": {
     "iopub.execute_input": "2022-05-05T00:41:13.050144Z",
     "iopub.status.busy": "2022-05-05T00:41:13.049591Z",
     "iopub.status.idle": "2022-05-05T00:41:13.051100Z",
     "shell.execute_reply": "2022-05-05T00:41:13.051481Z"
    },
    "papermill": {
     "duration": 0.036848,
     "end_time": "2022-05-05T00:41:13.051594",
     "exception": false,
     "start_time": "2022-05-05T00:41:13.014746",
     "status": "completed"
    },
    "tags": []
   },
   "outputs": [],
   "source": [
    "#hide\n",
    "# g = g.rename(columns= {'continent':'group','country':'name','cases':'value'})"
   ]
  },
  {
   "cell_type": "code",
   "execution_count": 36,
   "id": "fleet-motorcycle",
   "metadata": {
    "execution": {
     "iopub.execute_input": "2022-05-05T00:41:13.118139Z",
     "iopub.status.busy": "2022-05-05T00:41:13.117470Z",
     "iopub.status.idle": "2022-05-05T00:41:13.119905Z",
     "shell.execute_reply": "2022-05-05T00:41:13.120280Z"
    },
    "papermill": {
     "duration": 0.037054,
     "end_time": "2022-05-05T00:41:13.120394",
     "exception": false,
     "start_time": "2022-05-05T00:41:13.083340",
     "status": "completed"
    },
    "tags": []
   },
   "outputs": [],
   "source": [
    "#hide\n",
    "# cols = ['name','group','day','value']"
   ]
  },
  {
   "cell_type": "code",
   "execution_count": 37,
   "id": "continued-sleeping",
   "metadata": {
    "execution": {
     "iopub.execute_input": "2022-05-05T00:41:13.187351Z",
     "iopub.status.busy": "2022-05-05T00:41:13.186854Z",
     "iopub.status.idle": "2022-05-05T00:41:13.189706Z",
     "shell.execute_reply": "2022-05-05T00:41:13.190082Z"
    },
    "papermill": {
     "duration": 0.03823,
     "end_time": "2022-05-05T00:41:13.190201",
     "exception": false,
     "start_time": "2022-05-05T00:41:13.151971",
     "status": "completed"
    },
    "tags": []
   },
   "outputs": [],
   "source": [
    "#hide\n",
    "# g.rename(columns= {'date':'day'},inplace = True)"
   ]
  },
  {
   "cell_type": "code",
   "execution_count": 38,
   "id": "major-fight",
   "metadata": {
    "execution": {
     "iopub.execute_input": "2022-05-05T00:41:13.256873Z",
     "iopub.status.busy": "2022-05-05T00:41:13.256346Z",
     "iopub.status.idle": "2022-05-05T00:41:13.258078Z",
     "shell.execute_reply": "2022-05-05T00:41:13.258461Z"
    },
    "papermill": {
     "duration": 0.036665,
     "end_time": "2022-05-05T00:41:13.258574",
     "exception": false,
     "start_time": "2022-05-05T00:41:13.221909",
     "status": "completed"
    },
    "tags": []
   },
   "outputs": [],
   "source": [
    "#hide\n",
    "# g = g[cols]"
   ]
  },
  {
   "cell_type": "code",
   "execution_count": 39,
   "id": "structured-mobile",
   "metadata": {
    "execution": {
     "iopub.execute_input": "2022-05-05T00:41:13.324985Z",
     "iopub.status.busy": "2022-05-05T00:41:13.324477Z",
     "iopub.status.idle": "2022-05-05T00:41:13.327431Z",
     "shell.execute_reply": "2022-05-05T00:41:13.327813Z"
    },
    "papermill": {
     "duration": 0.037768,
     "end_time": "2022-05-05T00:41:13.327929",
     "exception": false,
     "start_time": "2022-05-05T00:41:13.290161",
     "status": "completed"
    },
    "tags": []
   },
   "outputs": [],
   "source": [
    "# #hide\n",
    "# g = g[g.group.notna()]"
   ]
  },
  {
   "cell_type": "code",
   "execution_count": 40,
   "id": "determined-closing",
   "metadata": {
    "execution": {
     "iopub.execute_input": "2022-05-05T00:41:13.395493Z",
     "iopub.status.busy": "2022-05-05T00:41:13.394968Z",
     "iopub.status.idle": "2022-05-05T00:41:13.396666Z",
     "shell.execute_reply": "2022-05-05T00:41:13.396208Z"
    },
    "papermill": {
     "duration": 0.037063,
     "end_time": "2022-05-05T00:41:13.396760",
     "exception": false,
     "start_time": "2022-05-05T00:41:13.359697",
     "status": "completed"
    },
    "tags": []
   },
   "outputs": [],
   "source": [
    "# #hide\n",
    "# colors = dict(zip(\n",
    "#     [\"Oceania\", \"Europe\", \"Asia\", \"South America\", \"Middle East\", \"North America\", \"Africa\"],\n",
    "#     [\"#adb0ff\", \"#ffb3ff\", \"#90d595\", \"#e48381\", \"#aafbff\", \"#f7bb5f\", \"#eafb50\"]\n",
    "# ))\n",
    "# group_lk = g.set_index('name')['group'].to_dict()"
   ]
  },
  {
   "cell_type": "code",
   "execution_count": null,
   "id": "gross-drinking",
   "metadata": {
    "papermill": {
     "duration": 0.031661,
     "end_time": "2022-05-05T00:41:13.460016",
     "exception": false,
     "start_time": "2022-05-05T00:41:13.428355",
     "status": "completed"
    },
    "tags": []
   },
   "outputs": [],
   "source": []
  },
  {
   "cell_type": "code",
   "execution_count": 41,
   "id": "subject-macintosh",
   "metadata": {
    "execution": {
     "iopub.execute_input": "2022-05-05T00:41:13.527267Z",
     "iopub.status.busy": "2022-05-05T00:41:13.526752Z",
     "iopub.status.idle": "2022-05-05T00:41:13.528715Z",
     "shell.execute_reply": "2022-05-05T00:41:13.528326Z"
    },
    "papermill": {
     "duration": 0.036988,
     "end_time": "2022-05-05T00:41:13.528815",
     "exception": false,
     "start_time": "2022-05-05T00:41:13.491827",
     "status": "completed"
    },
    "tags": []
   },
   "outputs": [],
   "source": [
    "# #hide\n",
    "# fig, ax = plt.subplots(figsize=(15, 8))\n",
    "\n",
    "# def draw_barchart(current_day):\n",
    "#     dff = g[g['day'].eq(current_day)].sort_values(by='value', ascending=True).tail(10)\n",
    "#     ax.clear()\n",
    "#     ax.barh(dff['name'], dff['value'], color=[colors[group_lk[x]] for x in dff['name']])\n",
    "#     dx = dff['value'].max() / 200\n",
    "    \n",
    "#     for i, (value, name) in enumerate(zip(dff['value'], dff['name'])):\n",
    "#         ax.text(value-dx, i,     name,           size=14, weight=600, ha='right', va='bottom')\n",
    "#         ax.text(value-dx, i-.25, group_lk[name], size=10, color='#444444', ha='right', va='baseline')\n",
    "#         ax.text(value+dx, i,     f'{value:,.0f}',  size=14, ha='left',  va='center')\n",
    "#     ax.text(1, 0.4, current_day, transform=ax.transAxes, color='#777777', size=46, ha='right', weight=800)\n",
    "#     ax.text(0, 1.06, 'Population (thousands)', transform=ax.transAxes, size=12, color='#777777')\n",
    "#     ax.xaxis.set_major_formatter(ticker.StrMethodFormatter('{x:,.0f}'))\n",
    "#     ax.xaxis.set_ticks_position('top')\n",
    "#     ax.tick_params(axis='x', colors='#777777', labelsize=12)\n",
    "#     ax.set_yticks([])\n",
    "#     ax.margins(0, 0.01)\n",
    "#     ax.grid(which='major', axis='x', linestyle='-')\n",
    "#     ax.set_axisbelow(True)\n",
    "    \n",
    "#     ax.text(0, 1.15, 'Coronavirus',\n",
    "#             transform=ax.transAxes, size=24, weight=600, ha='left', va='top')\n",
    "# #     ax.text(1, 0, 'by @pratapvardhan; credit @jburnmurdoch', transform=ax.transAxes, color='#777777', ha='right',\n",
    "# #             bbox=dict(facecolor='white', alpha=0.8, edgecolor='white'))\n",
    "#     plt.box(False)"
   ]
  },
  {
   "cell_type": "code",
   "execution_count": 42,
   "id": "sexual-wages",
   "metadata": {
    "execution": {
     "iopub.execute_input": "2022-05-05T00:41:13.595895Z",
     "iopub.status.busy": "2022-05-05T00:41:13.595387Z",
     "iopub.status.idle": "2022-05-05T00:41:13.598903Z",
     "shell.execute_reply": "2022-05-05T00:41:13.598491Z"
    },
    "papermill": {
     "duration": 0.038642,
     "end_time": "2022-05-05T00:41:13.599011",
     "exception": false,
     "start_time": "2022-05-05T00:41:13.560369",
     "status": "completed"
    },
    "tags": []
   },
   "outputs": [],
   "source": [
    "# #hide_input\n",
    "# fig, ax = plt.subplots(figsize=(15, 8))\n",
    "# animator = animation.FuncAnimation(fig, draw_barchart, frames=range(g.day.values.min(), g.day.values.max()))\n",
    "# HTML(animator.to_jshtml())\n",
    "# # or use animator.to_html5_video() or animator.save() "
   ]
  },
  {
   "cell_type": "code",
   "execution_count": null,
   "id": "australian-container",
   "metadata": {
    "papermill": {
     "duration": 0.031828,
     "end_time": "2022-05-05T00:41:13.662868",
     "exception": false,
     "start_time": "2022-05-05T00:41:13.631040",
     "status": "completed"
    },
    "tags": []
   },
   "outputs": [],
   "source": []
  },
  {
   "cell_type": "code",
   "execution_count": null,
   "id": "mediterranean-pontiac",
   "metadata": {
    "papermill": {
     "duration": 0.031481,
     "end_time": "2022-05-05T00:41:13.726109",
     "exception": false,
     "start_time": "2022-05-05T00:41:13.694628",
     "status": "completed"
    },
    "tags": []
   },
   "outputs": [],
   "source": []
  },
  {
   "cell_type": "code",
   "execution_count": null,
   "id": "aging-legislature",
   "metadata": {
    "papermill": {
     "duration": 0.03174,
     "end_time": "2022-05-05T00:41:13.789516",
     "exception": false,
     "start_time": "2022-05-05T00:41:13.757776",
     "status": "completed"
    },
    "tags": []
   },
   "outputs": [],
   "source": []
  }
 ],
 "metadata": {
  "kernelspec": {
   "display_name": "Python 3",
   "language": "python",
   "name": "python3"
  },
  "language_info": {
   "codemirror_mode": {
    "name": "ipython",
    "version": 3
   },
   "file_extension": ".py",
   "mimetype": "text/x-python",
   "name": "python",
   "nbconvert_exporter": "python",
   "pygments_lexer": "ipython3",
   "version": "3.6.15"
  },
  "papermill": {
   "duration": 6.055491,
   "end_time": "2022-05-05T00:41:14.138263",
   "environment_variables": {},
   "exception": null,
   "input_path": "2020-03-21-covid19exp.ipynb",
   "output_path": "2020-03-21-covid19exp.ipynb",
   "parameters": {},
   "start_time": "2022-05-05T00:41:08.082772",
   "version": "2.0.0"
  }
 },
 "nbformat": 4,
 "nbformat_minor": 5
}