{
 "cells": [
  {
   "cell_type": "markdown",
   "id": "muslim-click",
   "metadata": {
    "papermill": {
     "duration": 0.033461,
     "end_time": "2021-08-04T12:10:46.441387",
     "exception": false,
     "start_time": "2021-08-04T12:10:46.407926",
     "status": "completed"
    },
    "tags": []
   },
   "source": [
    "# COVID-19 Case Race\n",
    "> A race chart to see rising cases around the world\n",
    "\n",
    "- author: Hargun Oberoi\n",
    "- image: images/covid-overview.png\n",
    "- hide: false\n",
    "- badges: false"
   ]
  },
  {
   "cell_type": "code",
   "execution_count": 1,
   "id": "proof-material",
   "metadata": {
    "execution": {
     "iopub.execute_input": "2021-08-04T12:10:46.510887Z",
     "iopub.status.busy": "2021-08-04T12:10:46.510333Z",
     "iopub.status.idle": "2021-08-04T12:10:46.803895Z",
     "shell.execute_reply": "2021-08-04T12:10:46.803351Z"
    },
    "papermill": {
     "duration": 0.332775,
     "end_time": "2021-08-04T12:10:46.804044",
     "exception": false,
     "start_time": "2021-08-04T12:10:46.471269",
     "status": "completed"
    },
    "tags": []
   },
   "outputs": [],
   "source": [
    "#hide\n",
    "import numpy as np\n",
    "import pandas as pd\n",
    "from jinja2 import Template\n",
    "from IPython.display import HTML"
   ]
  },
  {
   "cell_type": "code",
   "execution_count": 2,
   "id": "developed-terminology",
   "metadata": {
    "execution": {
     "iopub.execute_input": "2021-08-04T12:10:46.868000Z",
     "iopub.status.busy": "2021-08-04T12:10:46.867509Z",
     "iopub.status.idle": "2021-08-04T12:10:46.869597Z",
     "shell.execute_reply": "2021-08-04T12:10:46.869233Z"
    },
    "papermill": {
     "duration": 0.035575,
     "end_time": "2021-08-04T12:10:46.869698",
     "exception": false,
     "start_time": "2021-08-04T12:10:46.834123",
     "status": "completed"
    },
    "tags": []
   },
   "outputs": [],
   "source": [
    "#hide\n",
    "\n",
    "# FETCH\n",
    "base_url = 'https://raw.githubusercontent.com/pratapvardhan/notebooks/master/covid19/'\n",
    "paths = {\n",
    "    'mapping': base_url + 'mapping_countries.csv',\n",
    "    'overview': base_url + 'overview.tpl'\n",
    "}"
   ]
  },
  {
   "cell_type": "code",
   "execution_count": 3,
   "id": "dynamic-saver",
   "metadata": {
    "execution": {
     "iopub.execute_input": "2021-08-04T12:10:46.931162Z",
     "iopub.status.busy": "2021-08-04T12:10:46.930705Z",
     "iopub.status.idle": "2021-08-04T12:10:46.933252Z",
     "shell.execute_reply": "2021-08-04T12:10:46.933602Z"
    },
    "papermill": {
     "duration": 0.038228,
     "end_time": "2021-08-04T12:10:46.933717",
     "exception": false,
     "start_time": "2021-08-04T12:10:46.895489",
     "status": "completed"
    },
    "tags": []
   },
   "outputs": [
    {
     "data": {
      "text/plain": [
       "'https://raw.githubusercontent.com/pratapvardhan/notebooks/master/covid19/mapping_countries.csv'"
      ]
     },
     "execution_count": 3,
     "metadata": {},
     "output_type": "execute_result"
    }
   ],
   "source": [
    "#hide\n",
    "paths['mapping']"
   ]
  },
  {
   "cell_type": "code",
   "execution_count": 4,
   "id": "urban-software",
   "metadata": {
    "execution": {
     "iopub.execute_input": "2021-08-04T12:10:46.991873Z",
     "iopub.status.busy": "2021-08-04T12:10:46.991425Z",
     "iopub.status.idle": "2021-08-04T12:10:46.993636Z",
     "shell.execute_reply": "2021-08-04T12:10:46.993267Z"
    },
    "papermill": {
     "duration": 0.033346,
     "end_time": "2021-08-04T12:10:46.993731",
     "exception": false,
     "start_time": "2021-08-04T12:10:46.960385",
     "status": "completed"
    },
    "tags": []
   },
   "outputs": [],
   "source": [
    "#hide\n",
    "def get_mappings(url):\n",
    "    df = pd.read_csv(url)\n",
    "    return {\n",
    "        'df': df,\n",
    "        'replace.country': dict(df.dropna(subset=['Name']).set_index('Country')['Name']),\n",
    "        'map.continent': dict(df.set_index('Name')['Continent'])\n",
    "    }"
   ]
  },
  {
   "cell_type": "code",
   "execution_count": 5,
   "id": "intimate-machinery",
   "metadata": {
    "execution": {
     "iopub.execute_input": "2021-08-04T12:10:47.051588Z",
     "iopub.status.busy": "2021-08-04T12:10:47.051148Z",
     "iopub.status.idle": "2021-08-04T12:10:47.081483Z",
     "shell.execute_reply": "2021-08-04T12:10:47.081022Z"
    },
    "papermill": {
     "duration": 0.0617,
     "end_time": "2021-08-04T12:10:47.081593",
     "exception": false,
     "start_time": "2021-08-04T12:10:47.019893",
     "status": "completed"
    },
    "tags": []
   },
   "outputs": [],
   "source": [
    "#hide\n",
    "mapping = get_mappings(paths['mapping'])"
   ]
  },
  {
   "cell_type": "code",
   "execution_count": 6,
   "id": "certified-tactics",
   "metadata": {
    "execution": {
     "iopub.execute_input": "2021-08-04T12:10:47.139554Z",
     "iopub.status.busy": "2021-08-04T12:10:47.139118Z",
     "iopub.status.idle": "2021-08-04T12:10:47.140795Z",
     "shell.execute_reply": "2021-08-04T12:10:47.141213Z"
    },
    "papermill": {
     "duration": 0.033217,
     "end_time": "2021-08-04T12:10:47.141331",
     "exception": false,
     "start_time": "2021-08-04T12:10:47.108114",
     "status": "completed"
    },
    "tags": []
   },
   "outputs": [],
   "source": [
    "#hide\n",
    "def get_template(path):\n",
    "    from urllib.parse import urlparse\n",
    "    if bool(urlparse(path).netloc):\n",
    "        from urllib.request import urlopen\n",
    "        return urlopen(path).read().decode('utf8')\n",
    "    return open(path).read()"
   ]
  },
  {
   "cell_type": "code",
   "execution_count": 7,
   "id": "realistic-blast",
   "metadata": {
    "execution": {
     "iopub.execute_input": "2021-08-04T12:10:47.197554Z",
     "iopub.status.busy": "2021-08-04T12:10:47.197118Z",
     "iopub.status.idle": "2021-08-04T12:10:47.198954Z",
     "shell.execute_reply": "2021-08-04T12:10:47.199361Z"
    },
    "papermill": {
     "duration": 0.032293,
     "end_time": "2021-08-04T12:10:47.199474",
     "exception": false,
     "start_time": "2021-08-04T12:10:47.167181",
     "status": "completed"
    },
    "tags": []
   },
   "outputs": [],
   "source": [
    "#hide\n",
    "def get_frame(name):\n",
    "    url = (\n",
    "        'https://raw.githubusercontent.com/CSSEGISandData/COVID-19/master/csse_covid_19_data/'\n",
    "        f'csse_covid_19_time_series/time_series_covid19_{name}_global.csv')\n",
    "    df = pd.read_csv(url)\n",
    "    # rename countries\n",
    "    df['Country/Region'] = df['Country/Region'].replace(mapping['replace.country'])\n",
    "    return df"
   ]
  },
  {
   "cell_type": "code",
   "execution_count": 8,
   "id": "affiliated-characterization",
   "metadata": {
    "execution": {
     "iopub.execute_input": "2021-08-04T12:10:47.256555Z",
     "iopub.status.busy": "2021-08-04T12:10:47.256115Z",
     "iopub.status.idle": "2021-08-04T12:10:47.257798Z",
     "shell.execute_reply": "2021-08-04T12:10:47.258166Z"
    },
    "papermill": {
     "duration": 0.032888,
     "end_time": "2021-08-04T12:10:47.258273",
     "exception": false,
     "start_time": "2021-08-04T12:10:47.225385",
     "status": "completed"
    },
    "tags": []
   },
   "outputs": [],
   "source": [
    "#hide\n",
    "def get_dates(df):\n",
    "    dt_cols = df.columns[~df.columns.isin(['Province/State', 'Country/Region', 'Lat', 'Long'])]\n",
    "    LAST_DATE_I = -1\n",
    "    # sometimes last column may be empty, then go backwards\n",
    "    for i in range(-1, -len(dt_cols), -1):\n",
    "        if not df[dt_cols[i]].fillna(0).eq(0).all():\n",
    "            LAST_DATE_I = i\n",
    "            break\n",
    "    return LAST_DATE_I, dt_cols"
   ]
  },
  {
   "cell_type": "code",
   "execution_count": 9,
   "id": "recent-optimization",
   "metadata": {
    "execution": {
     "iopub.execute_input": "2021-08-04T12:10:47.315417Z",
     "iopub.status.busy": "2021-08-04T12:10:47.314963Z",
     "iopub.status.idle": "2021-08-04T12:10:47.589822Z",
     "shell.execute_reply": "2021-08-04T12:10:47.589309Z"
    },
    "papermill": {
     "duration": 0.305787,
     "end_time": "2021-08-04T12:10:47.589959",
     "exception": false,
     "start_time": "2021-08-04T12:10:47.284172",
     "status": "completed"
    },
    "tags": []
   },
   "outputs": [],
   "source": [
    "#hide\n",
    "COL_REGION = 'Country/Region'\n",
    "# Confirmed, Recovered, Deaths\n",
    "df = get_frame('confirmed')\n",
    "# dft_: timeseries, dfc_: today country agg\n",
    "dft_cases = df\n",
    "dft_deaths = get_frame('deaths')\n",
    "dft_recovered = get_frame('recovered')\n",
    "LAST_DATE_I, dt_cols = get_dates(df)"
   ]
  },
  {
   "cell_type": "code",
   "execution_count": 10,
   "id": "absolute-copper",
   "metadata": {
    "execution": {
     "iopub.execute_input": "2021-08-04T12:10:47.650666Z",
     "iopub.status.busy": "2021-08-04T12:10:47.650115Z",
     "iopub.status.idle": "2021-08-04T12:10:47.652107Z",
     "shell.execute_reply": "2021-08-04T12:10:47.651649Z"
    },
    "papermill": {
     "duration": 0.032998,
     "end_time": "2021-08-04T12:10:47.652211",
     "exception": false,
     "start_time": "2021-08-04T12:10:47.619213",
     "status": "completed"
    },
    "tags": []
   },
   "outputs": [],
   "source": [
    "#hide\n",
    "LAST_DATE_I, dt_cols = get_dates(df)\n",
    "dt_today =dt_cols[LAST_DATE_I]\n",
    "# dt_5day = dt_cols[LAST_DATE_I - 5]\n",
    "dt_yday = dt_cols[LAST_DATE_I - 1]"
   ]
  },
  {
   "cell_type": "code",
   "execution_count": 11,
   "id": "restricted-sheriff",
   "metadata": {
    "execution": {
     "iopub.execute_input": "2021-08-04T12:10:47.717534Z",
     "iopub.status.busy": "2021-08-04T12:10:47.717027Z",
     "iopub.status.idle": "2021-08-04T12:10:47.723808Z",
     "shell.execute_reply": "2021-08-04T12:10:47.723381Z"
    },
    "papermill": {
     "duration": 0.042179,
     "end_time": "2021-08-04T12:10:47.723918",
     "exception": false,
     "start_time": "2021-08-04T12:10:47.681739",
     "status": "completed"
    },
    "tags": []
   },
   "outputs": [],
   "source": [
    "#hide\n",
    "dfc_cases = dft_cases.groupby(COL_REGION)[dt_today].sum()\n",
    "dfc_deaths = dft_deaths.groupby(COL_REGION)[dt_today].sum()\n",
    "# dfp_cases = dft_cases.groupby(COL_REGION)[dt_5day].sum()\n",
    "# dfp_deaths = dft_deaths.groupby(COL_REGION)[dt_5day].sum()\n",
    "dfp_cases = dft_cases.groupby(COL_REGION)[dt_yday].sum()\n",
    "dfp_deaths = dft_deaths.groupby(COL_REGION)[dt_yday].sum()"
   ]
  },
  {
   "cell_type": "code",
   "execution_count": 12,
   "id": "deluxe-hepatitis",
   "metadata": {
    "execution": {
     "iopub.execute_input": "2021-08-04T12:10:47.790191Z",
     "iopub.status.busy": "2021-08-04T12:10:47.789689Z",
     "iopub.status.idle": "2021-08-04T12:10:47.793353Z",
     "shell.execute_reply": "2021-08-04T12:10:47.793774Z"
    },
    "papermill": {
     "duration": 0.040297,
     "end_time": "2021-08-04T12:10:47.793906",
     "exception": false,
     "start_time": "2021-08-04T12:10:47.753609",
     "status": "completed"
    },
    "tags": []
   },
   "outputs": [],
   "source": [
    "#hide\n",
    "df_table = (pd.DataFrame(dict(Cases = dfc_cases, Deaths = dfc_deaths, PCases = dfp_cases, PDeaths = dfp_deaths))\n",
    "            .sort_values(by = ['Cases','Deaths'], ascending = [False, False])\n",
    "            .reset_index())"
   ]
  },
  {
   "cell_type": "code",
   "execution_count": 13,
   "id": "educational-chancellor",
   "metadata": {
    "execution": {
     "iopub.execute_input": "2021-08-04T12:10:47.869174Z",
     "iopub.status.busy": "2021-08-04T12:10:47.868639Z",
     "iopub.status.idle": "2021-08-04T12:10:47.874879Z",
     "shell.execute_reply": "2021-08-04T12:10:47.875254Z"
    },
    "papermill": {
     "duration": 0.051866,
     "end_time": "2021-08-04T12:10:47.875392",
     "exception": false,
     "start_time": "2021-08-04T12:10:47.823526",
     "status": "completed"
    },
    "tags": []
   },
   "outputs": [
    {
     "data": {
      "text/html": [
       "<div>\n",
       "<style scoped>\n",
       "    .dataframe tbody tr th:only-of-type {\n",
       "        vertical-align: middle;\n",
       "    }\n",
       "\n",
       "    .dataframe tbody tr th {\n",
       "        vertical-align: top;\n",
       "    }\n",
       "\n",
       "    .dataframe thead th {\n",
       "        text-align: right;\n",
       "    }\n",
       "</style>\n",
       "<table border=\"1\" class=\"dataframe\">\n",
       "  <thead>\n",
       "    <tr style=\"text-align: right;\">\n",
       "      <th></th>\n",
       "      <th>Country/Region</th>\n",
       "      <th>Cases</th>\n",
       "      <th>Deaths</th>\n",
       "      <th>PCases</th>\n",
       "      <th>PDeaths</th>\n",
       "      <th>Cases (+)</th>\n",
       "      <th>Deaths (+)</th>\n",
       "      <th>Fatality Rate</th>\n",
       "      <th>Continent</th>\n",
       "    </tr>\n",
       "  </thead>\n",
       "  <tbody>\n",
       "    <tr>\n",
       "      <th>0</th>\n",
       "      <td>US</td>\n",
       "      <td>35237950</td>\n",
       "      <td>614295</td>\n",
       "      <td>35131393</td>\n",
       "      <td>613679</td>\n",
       "      <td>106557</td>\n",
       "      <td>616</td>\n",
       "      <td>1.74</td>\n",
       "      <td>North America</td>\n",
       "    </tr>\n",
       "    <tr>\n",
       "      <th>1</th>\n",
       "      <td>India</td>\n",
       "      <td>31769132</td>\n",
       "      <td>425757</td>\n",
       "      <td>31726507</td>\n",
       "      <td>425195</td>\n",
       "      <td>42625</td>\n",
       "      <td>562</td>\n",
       "      <td>1.34</td>\n",
       "      <td>Asia</td>\n",
       "    </tr>\n",
       "    <tr>\n",
       "      <th>2</th>\n",
       "      <td>Brazil</td>\n",
       "      <td>19985817</td>\n",
       "      <td>558432</td>\n",
       "      <td>19953501</td>\n",
       "      <td>557223</td>\n",
       "      <td>32316</td>\n",
       "      <td>1209</td>\n",
       "      <td>2.79</td>\n",
       "      <td>South America</td>\n",
       "    </tr>\n",
       "    <tr>\n",
       "      <th>3</th>\n",
       "      <td>Russia</td>\n",
       "      <td>6251953</td>\n",
       "      <td>158263</td>\n",
       "      <td>6230482</td>\n",
       "      <td>157496</td>\n",
       "      <td>21471</td>\n",
       "      <td>767</td>\n",
       "      <td>2.53</td>\n",
       "      <td>Europe</td>\n",
       "    </tr>\n",
       "    <tr>\n",
       "      <th>4</th>\n",
       "      <td>France</td>\n",
       "      <td>6242948</td>\n",
       "      <td>112185</td>\n",
       "      <td>6218526</td>\n",
       "      <td>112107</td>\n",
       "      <td>24422</td>\n",
       "      <td>78</td>\n",
       "      <td>1.80</td>\n",
       "      <td>Europe</td>\n",
       "    </tr>\n",
       "  </tbody>\n",
       "</table>\n",
       "</div>"
      ],
      "text/plain": [
       "  Country/Region     Cases  Deaths    PCases  PDeaths  Cases (+)  Deaths (+)  \\\n",
       "0             US  35237950  614295  35131393   613679     106557         616   \n",
       "1          India  31769132  425757  31726507   425195      42625         562   \n",
       "2         Brazil  19985817  558432  19953501   557223      32316        1209   \n",
       "3         Russia   6251953  158263   6230482   157496      21471         767   \n",
       "4         France   6242948  112185   6218526   112107      24422          78   \n",
       "\n",
       "   Fatality Rate      Continent  \n",
       "0           1.74  North America  \n",
       "1           1.34           Asia  \n",
       "2           2.79  South America  \n",
       "3           2.53         Europe  \n",
       "4           1.80         Europe  "
      ]
     },
     "execution_count": 13,
     "metadata": {},
     "output_type": "execute_result"
    }
   ],
   "source": [
    "#hide\n",
    "for c in 'Cases, Deaths'.split(', '):\n",
    "    df_table[f'{c} (+)'] = (df_table[c] - df_table[f'P{c}']).clip(0)\n",
    "    #Clip ça veut dire, les chiffres negatif sont interdit\n",
    "df_table['Fatality Rate'] = (100* df_table['Deaths']/ df_table['Cases']).round(2)\n",
    "df_table['Continent'] = df_table['Country/Region'].map(mapping['map.continent'])\n",
    "df_table.head(5)"
   ]
  },
  {
   "cell_type": "code",
   "execution_count": 14,
   "id": "aboriginal-bulgaria",
   "metadata": {
    "execution": {
     "iopub.execute_input": "2021-08-04T12:10:47.940913Z",
     "iopub.status.busy": "2021-08-04T12:10:47.940421Z",
     "iopub.status.idle": "2021-08-04T12:10:47.942499Z",
     "shell.execute_reply": "2021-08-04T12:10:47.942916Z"
    },
    "papermill": {
     "duration": 0.03754,
     "end_time": "2021-08-04T12:10:47.943045",
     "exception": false,
     "start_time": "2021-08-04T12:10:47.905505",
     "status": "completed"
    },
    "tags": []
   },
   "outputs": [],
   "source": [
    "#hide\n",
    "#delete problematic countries from table\n",
    "df_table = df_table[~df_table['Country/Region'].isin(['Cape Verde', 'Cruise Ship', 'Kosovo'])]"
   ]
  },
  {
   "cell_type": "code",
   "execution_count": 15,
   "id": "fantastic-effect",
   "metadata": {
    "execution": {
     "iopub.execute_input": "2021-08-04T12:10:48.010692Z",
     "iopub.status.busy": "2021-08-04T12:10:48.010167Z",
     "iopub.status.idle": "2021-08-04T12:10:48.026360Z",
     "shell.execute_reply": "2021-08-04T12:10:48.026825Z"
    },
    "papermill": {
     "duration": 0.054082,
     "end_time": "2021-08-04T12:10:48.026983",
     "exception": false,
     "start_time": "2021-08-04T12:10:47.972901",
     "status": "completed"
    },
    "tags": []
   },
   "outputs": [
    {
     "data": {
      "text/html": [
       "<div>\n",
       "<style scoped>\n",
       "    .dataframe tbody tr th:only-of-type {\n",
       "        vertical-align: middle;\n",
       "    }\n",
       "\n",
       "    .dataframe tbody tr th {\n",
       "        vertical-align: top;\n",
       "    }\n",
       "\n",
       "    .dataframe thead th {\n",
       "        text-align: right;\n",
       "    }\n",
       "</style>\n",
       "<table border=\"1\" class=\"dataframe\">\n",
       "  <thead>\n",
       "    <tr style=\"text-align: right;\">\n",
       "      <th></th>\n",
       "      <th>Country/Region</th>\n",
       "      <th>Cases</th>\n",
       "      <th>Deaths</th>\n",
       "      <th>PCases</th>\n",
       "      <th>PDeaths</th>\n",
       "      <th>Cases (+)</th>\n",
       "      <th>Deaths (+)</th>\n",
       "      <th>Fatality Rate</th>\n",
       "      <th>Continent</th>\n",
       "    </tr>\n",
       "  </thead>\n",
       "  <tbody>\n",
       "    <tr>\n",
       "      <th>0</th>\n",
       "      <td>US</td>\n",
       "      <td>35237950</td>\n",
       "      <td>614295</td>\n",
       "      <td>35131393</td>\n",
       "      <td>613679</td>\n",
       "      <td>106557</td>\n",
       "      <td>616</td>\n",
       "      <td>1.7</td>\n",
       "      <td>North America</td>\n",
       "    </tr>\n",
       "    <tr>\n",
       "      <th>1</th>\n",
       "      <td>India</td>\n",
       "      <td>31769132</td>\n",
       "      <td>425757</td>\n",
       "      <td>31726507</td>\n",
       "      <td>425195</td>\n",
       "      <td>42625</td>\n",
       "      <td>562</td>\n",
       "      <td>1.3</td>\n",
       "      <td>Asia</td>\n",
       "    </tr>\n",
       "    <tr>\n",
       "      <th>2</th>\n",
       "      <td>Brazil</td>\n",
       "      <td>19985817</td>\n",
       "      <td>558432</td>\n",
       "      <td>19953501</td>\n",
       "      <td>557223</td>\n",
       "      <td>32316</td>\n",
       "      <td>1209</td>\n",
       "      <td>2.8</td>\n",
       "      <td>South America</td>\n",
       "    </tr>\n",
       "    <tr>\n",
       "      <th>3</th>\n",
       "      <td>Russia</td>\n",
       "      <td>6251953</td>\n",
       "      <td>158263</td>\n",
       "      <td>6230482</td>\n",
       "      <td>157496</td>\n",
       "      <td>21471</td>\n",
       "      <td>767</td>\n",
       "      <td>2.5</td>\n",
       "      <td>Europe</td>\n",
       "    </tr>\n",
       "    <tr>\n",
       "      <th>4</th>\n",
       "      <td>France</td>\n",
       "      <td>6242948</td>\n",
       "      <td>112185</td>\n",
       "      <td>6218526</td>\n",
       "      <td>112107</td>\n",
       "      <td>24422</td>\n",
       "      <td>78</td>\n",
       "      <td>1.8</td>\n",
       "      <td>Europe</td>\n",
       "    </tr>\n",
       "  </tbody>\n",
       "</table>\n",
       "</div>"
      ],
      "text/plain": [
       "  Country/Region     Cases  Deaths    PCases  PDeaths  Cases (+)  Deaths (+)  \\\n",
       "0             US  35237950  614295  35131393   613679     106557         616   \n",
       "1          India  31769132  425757  31726507   425195      42625         562   \n",
       "2         Brazil  19985817  558432  19953501   557223      32316        1209   \n",
       "3         Russia   6251953  158263   6230482   157496      21471         767   \n",
       "4         France   6242948  112185   6218526   112107      24422          78   \n",
       "\n",
       "   Fatality Rate      Continent  \n",
       "0            1.7  North America  \n",
       "1            1.3           Asia  \n",
       "2            2.8  South America  \n",
       "3            2.5         Europe  \n",
       "4            1.8         Europe  "
      ]
     },
     "execution_count": 15,
     "metadata": {},
     "output_type": "execute_result"
    }
   ],
   "source": [
    "#hide\n",
    "df_table = (pd.DataFrame(dict(Cases=dfc_cases, Deaths=dfc_deaths, PCases=dfp_cases, PDeaths=dfp_deaths))\n",
    "             .sort_values(by=['Cases', 'Deaths'], ascending=[False, False])\n",
    "             .reset_index())\n",
    "df_table.rename(columns={'index': 'Country/Region'}, inplace=True)\n",
    "for c in 'Cases, Deaths'.split(', '):\n",
    "    df_table[f'{c} (+)'] = (df_table[c] - df_table[f'P{c}']).clip(0)  # DATA BUG\n",
    "df_table['Fatality Rate'] = (100 * df_table['Deaths'] / df_table['Cases']).round(1)\n",
    "df_table['Continent'] = df_table['Country/Region'].map(mapping['map.continent'])\n",
    "df_table.head(5)"
   ]
  },
  {
   "cell_type": "code",
   "execution_count": 16,
   "id": "fewer-occasion",
   "metadata": {
    "execution": {
     "iopub.execute_input": "2021-08-04T12:10:48.094470Z",
     "iopub.status.busy": "2021-08-04T12:10:48.093983Z",
     "iopub.status.idle": "2021-08-04T12:10:48.096360Z",
     "shell.execute_reply": "2021-08-04T12:10:48.095962Z"
    },
    "papermill": {
     "duration": 0.037982,
     "end_time": "2021-08-04T12:10:48.096469",
     "exception": false,
     "start_time": "2021-08-04T12:10:48.058487",
     "status": "completed"
    },
    "tags": []
   },
   "outputs": [],
   "source": [
    "#hide\n",
    "#delete problematic countries from table\n",
    "df_table = df_table[~df_table['Country/Region'].isin(['Cape Verde', 'Cruise Ship', 'Kosovo'])]"
   ]
  },
  {
   "cell_type": "code",
   "execution_count": 17,
   "id": "related-center",
   "metadata": {
    "execution": {
     "iopub.execute_input": "2021-08-04T12:10:48.174415Z",
     "iopub.status.busy": "2021-08-04T12:10:48.173909Z",
     "iopub.status.idle": "2021-08-04T12:10:48.175845Z",
     "shell.execute_reply": "2021-08-04T12:10:48.176220Z"
    },
    "papermill": {
     "duration": 0.049485,
     "end_time": "2021-08-04T12:10:48.176359",
     "exception": false,
     "start_time": "2021-08-04T12:10:48.126874",
     "status": "completed"
    },
    "tags": []
   },
   "outputs": [],
   "source": [
    "#hide\n",
    "metrics = [df_table.columns[index] for index in [1,2,5,6]]\n",
    "# s_china = df_table[df_table['Country/Region'].eq('China')][metrics].sum().add_prefix('China ')\n",
    "s_us = df_table[df_table['Country/Region'].eq('US')][metrics].sum().add_prefix('US ')\n",
    "s_eu = df_table[df_table['Continent'].eq('Europe')][metrics].sum().add_prefix('EU ')\n",
    "s_ind = df_table[df_table['Country/Region'].eq('India')][metrics].sum().add_prefix('India ')\n",
    "summary = {'updated': pd.to_datetime(dt_today), 'since': pd.to_datetime(dt_yday)}\n",
    "summary = {'updated': pd.to_datetime(dt_today), 'since': pd.to_datetime(dt_yday)}\n",
    "summary = {**summary, **df_table[metrics].sum(), **s_ind, **s_us, **s_eu}"
   ]
  },
  {
   "cell_type": "code",
   "execution_count": 18,
   "id": "engaging-syndrome",
   "metadata": {
    "execution": {
     "iopub.execute_input": "2021-08-04T12:10:48.242088Z",
     "iopub.status.busy": "2021-08-04T12:10:48.241595Z",
     "iopub.status.idle": "2021-08-04T12:10:48.253810Z",
     "shell.execute_reply": "2021-08-04T12:10:48.253409Z"
    },
    "papermill": {
     "duration": 0.047067,
     "end_time": "2021-08-04T12:10:48.253920",
     "exception": false,
     "start_time": "2021-08-04T12:10:48.206853",
     "status": "completed"
    },
    "tags": []
   },
   "outputs": [],
   "source": [
    "#hide\n",
    "dft_ct_new_cases = dft_cases.groupby(COL_REGION)[dt_cols].sum().diff(axis=1).fillna(0).astype(int)"
   ]
  },
  {
   "cell_type": "code",
   "execution_count": 19,
   "id": "neutral-assignment",
   "metadata": {
    "execution": {
     "iopub.execute_input": "2021-08-04T12:10:48.320594Z",
     "iopub.status.busy": "2021-08-04T12:10:48.320091Z",
     "iopub.status.idle": "2021-08-04T12:10:48.322277Z",
     "shell.execute_reply": "2021-08-04T12:10:48.321856Z"
    },
    "papermill": {
     "duration": 0.038044,
     "end_time": "2021-08-04T12:10:48.322385",
     "exception": false,
     "start_time": "2021-08-04T12:10:48.284341",
     "status": "completed"
    },
    "tags": []
   },
   "outputs": [],
   "source": [
    "#hide\n",
    "everydaycases = dft_ct_new_cases.cumsum(axis=1)"
   ]
  },
  {
   "cell_type": "code",
   "execution_count": 20,
   "id": "parliamentary-calgary",
   "metadata": {
    "execution": {
     "iopub.execute_input": "2021-08-04T12:10:48.387858Z",
     "iopub.status.busy": "2021-08-04T12:10:48.387361Z",
     "iopub.status.idle": "2021-08-04T12:10:48.913164Z",
     "shell.execute_reply": "2021-08-04T12:10:48.912641Z"
    },
    "papermill": {
     "duration": 0.560346,
     "end_time": "2021-08-04T12:10:48.913306",
     "exception": false,
     "start_time": "2021-08-04T12:10:48.352960",
     "status": "completed"
    },
    "tags": []
   },
   "outputs": [],
   "source": [
    "#hide\n",
    "import pandas as pd\n",
    "import matplotlib.pyplot as plt\n",
    "import matplotlib.ticker as ticker\n",
    "import matplotlib.animation as animation\n",
    "from IPython.display import HTML"
   ]
  },
  {
   "cell_type": "code",
   "execution_count": 21,
   "id": "lasting-extraction",
   "metadata": {
    "execution": {
     "iopub.execute_input": "2021-08-04T12:10:48.980108Z",
     "iopub.status.busy": "2021-08-04T12:10:48.979600Z",
     "iopub.status.idle": "2021-08-04T12:10:48.984729Z",
     "shell.execute_reply": "2021-08-04T12:10:48.984330Z"
    },
    "papermill": {
     "duration": 0.040426,
     "end_time": "2021-08-04T12:10:48.984840",
     "exception": false,
     "start_time": "2021-08-04T12:10:48.944414",
     "status": "completed"
    },
    "tags": []
   },
   "outputs": [],
   "source": [
    "#hide\n",
    "t = everydaycases.stack()"
   ]
  },
  {
   "cell_type": "code",
   "execution_count": 22,
   "id": "premier-sleeve",
   "metadata": {
    "execution": {
     "iopub.execute_input": "2021-08-04T12:10:49.050023Z",
     "iopub.status.busy": "2021-08-04T12:10:49.049531Z",
     "iopub.status.idle": "2021-08-04T12:10:49.056890Z",
     "shell.execute_reply": "2021-08-04T12:10:49.056491Z"
    },
    "papermill": {
     "duration": 0.041717,
     "end_time": "2021-08-04T12:10:49.057001",
     "exception": false,
     "start_time": "2021-08-04T12:10:49.015284",
     "status": "completed"
    },
    "tags": []
   },
   "outputs": [],
   "source": [
    "#hide\n",
    "g = t.reset_index(['Country/Region'])"
   ]
  },
  {
   "cell_type": "code",
   "execution_count": 23,
   "id": "distributed-pittsburgh",
   "metadata": {
    "execution": {
     "iopub.execute_input": "2021-08-04T12:10:49.121912Z",
     "iopub.status.busy": "2021-08-04T12:10:49.121416Z",
     "iopub.status.idle": "2021-08-04T12:10:49.123659Z",
     "shell.execute_reply": "2021-08-04T12:10:49.123266Z"
    },
    "papermill": {
     "duration": 0.036255,
     "end_time": "2021-08-04T12:10:49.123769",
     "exception": false,
     "start_time": "2021-08-04T12:10:49.087514",
     "status": "completed"
    },
    "tags": []
   },
   "outputs": [],
   "source": [
    "#hide\n",
    "g.index.name = 'date'"
   ]
  },
  {
   "cell_type": "code",
   "execution_count": 24,
   "id": "naked-donor",
   "metadata": {
    "execution": {
     "iopub.execute_input": "2021-08-04T12:10:49.188313Z",
     "iopub.status.busy": "2021-08-04T12:10:49.187814Z",
     "iopub.status.idle": "2021-08-04T12:10:49.189547Z",
     "shell.execute_reply": "2021-08-04T12:10:49.190024Z"
    },
    "papermill": {
     "duration": 0.03594,
     "end_time": "2021-08-04T12:10:49.190148",
     "exception": false,
     "start_time": "2021-08-04T12:10:49.154208",
     "status": "completed"
    },
    "tags": []
   },
   "outputs": [],
   "source": [
    "# #hide\n",
    "# g = g.reset_index(['date'])"
   ]
  },
  {
   "cell_type": "code",
   "execution_count": 25,
   "id": "incomplete-mustang",
   "metadata": {
    "execution": {
     "iopub.execute_input": "2021-08-04T12:10:49.254301Z",
     "iopub.status.busy": "2021-08-04T12:10:49.253810Z",
     "iopub.status.idle": "2021-08-04T12:10:49.255603Z",
     "shell.execute_reply": "2021-08-04T12:10:49.256056Z"
    },
    "papermill": {
     "duration": 0.035793,
     "end_time": "2021-08-04T12:10:49.256179",
     "exception": false,
     "start_time": "2021-08-04T12:10:49.220386",
     "status": "completed"
    },
    "tags": []
   },
   "outputs": [],
   "source": [
    "#hide\n",
    "# g.head()"
   ]
  },
  {
   "cell_type": "code",
   "execution_count": 26,
   "id": "specific-kruger",
   "metadata": {
    "execution": {
     "iopub.execute_input": "2021-08-04T12:10:49.320326Z",
     "iopub.status.busy": "2021-08-04T12:10:49.319837Z",
     "iopub.status.idle": "2021-08-04T12:10:49.321594Z",
     "shell.execute_reply": "2021-08-04T12:10:49.322060Z"
    },
    "papermill": {
     "duration": 0.035804,
     "end_time": "2021-08-04T12:10:49.322185",
     "exception": false,
     "start_time": "2021-08-04T12:10:49.286381",
     "status": "completed"
    },
    "tags": []
   },
   "outputs": [],
   "source": [
    "#hide\n",
    "# g.columns = ['date','country','cases']"
   ]
  },
  {
   "cell_type": "code",
   "execution_count": 27,
   "id": "tender-conversion",
   "metadata": {
    "execution": {
     "iopub.execute_input": "2021-08-04T12:10:49.386152Z",
     "iopub.status.busy": "2021-08-04T12:10:49.385661Z",
     "iopub.status.idle": "2021-08-04T12:10:49.387222Z",
     "shell.execute_reply": "2021-08-04T12:10:49.387670Z"
    },
    "papermill": {
     "duration": 0.035343,
     "end_time": "2021-08-04T12:10:49.387795",
     "exception": false,
     "start_time": "2021-08-04T12:10:49.352452",
     "status": "completed"
    },
    "tags": []
   },
   "outputs": [],
   "source": [
    "#hide\n",
    "# g['continent'] = g.country"
   ]
  },
  {
   "cell_type": "code",
   "execution_count": 28,
   "id": "substantial-wilderness",
   "metadata": {
    "execution": {
     "iopub.execute_input": "2021-08-04T12:10:49.452373Z",
     "iopub.status.busy": "2021-08-04T12:10:49.451879Z",
     "iopub.status.idle": "2021-08-04T12:10:49.453694Z",
     "shell.execute_reply": "2021-08-04T12:10:49.454106Z"
    },
    "papermill": {
     "duration": 0.035968,
     "end_time": "2021-08-04T12:10:49.454229",
     "exception": false,
     "start_time": "2021-08-04T12:10:49.418261",
     "status": "completed"
    },
    "tags": []
   },
   "outputs": [],
   "source": [
    "#hide\n",
    "# cols = list(g.columns.values)"
   ]
  },
  {
   "cell_type": "code",
   "execution_count": 29,
   "id": "solved-farming",
   "metadata": {
    "execution": {
     "iopub.execute_input": "2021-08-04T12:10:49.518117Z",
     "iopub.status.busy": "2021-08-04T12:10:49.517629Z",
     "iopub.status.idle": "2021-08-04T12:10:49.519451Z",
     "shell.execute_reply": "2021-08-04T12:10:49.519867Z"
    },
    "papermill": {
     "duration": 0.035609,
     "end_time": "2021-08-04T12:10:49.519990",
     "exception": false,
     "start_time": "2021-08-04T12:10:49.484381",
     "status": "completed"
    },
    "tags": []
   },
   "outputs": [],
   "source": [
    "#hide\n",
    "# cols.insert(0, cols.pop())"
   ]
  },
  {
   "cell_type": "code",
   "execution_count": 30,
   "id": "executed-adoption",
   "metadata": {
    "execution": {
     "iopub.execute_input": "2021-08-04T12:10:49.584129Z",
     "iopub.status.busy": "2021-08-04T12:10:49.583637Z",
     "iopub.status.idle": "2021-08-04T12:10:49.585453Z",
     "shell.execute_reply": "2021-08-04T12:10:49.585868Z"
    },
    "papermill": {
     "duration": 0.035652,
     "end_time": "2021-08-04T12:10:49.585992",
     "exception": false,
     "start_time": "2021-08-04T12:10:49.550340",
     "status": "completed"
    },
    "tags": []
   },
   "outputs": [],
   "source": [
    "#hide\n",
    "# g = g[cols]"
   ]
  },
  {
   "cell_type": "code",
   "execution_count": 31,
   "id": "subject-dublin",
   "metadata": {
    "execution": {
     "iopub.execute_input": "2021-08-04T12:10:49.650654Z",
     "iopub.status.busy": "2021-08-04T12:10:49.650123Z",
     "iopub.status.idle": "2021-08-04T12:10:49.652395Z",
     "shell.execute_reply": "2021-08-04T12:10:49.651974Z"
    },
    "papermill": {
     "duration": 0.035949,
     "end_time": "2021-08-04T12:10:49.652499",
     "exception": false,
     "start_time": "2021-08-04T12:10:49.616550",
     "status": "completed"
    },
    "tags": []
   },
   "outputs": [],
   "source": [
    "#hide\n",
    "# g['continent'] = g['continent'].map(mapping['map.continent'])"
   ]
  },
  {
   "cell_type": "code",
   "execution_count": 32,
   "id": "freelance-scout",
   "metadata": {
    "execution": {
     "iopub.execute_input": "2021-08-04T12:10:49.717158Z",
     "iopub.status.busy": "2021-08-04T12:10:49.716666Z",
     "iopub.status.idle": "2021-08-04T12:10:49.718993Z",
     "shell.execute_reply": "2021-08-04T12:10:49.718571Z"
    },
    "papermill": {
     "duration": 0.036015,
     "end_time": "2021-08-04T12:10:49.719107",
     "exception": false,
     "start_time": "2021-08-04T12:10:49.683092",
     "status": "completed"
    },
    "tags": []
   },
   "outputs": [],
   "source": [
    "#hide\n",
    "# g.head()"
   ]
  },
  {
   "cell_type": "code",
   "execution_count": 33,
   "id": "limited-engine",
   "metadata": {
    "execution": {
     "iopub.execute_input": "2021-08-04T12:10:49.783466Z",
     "iopub.status.busy": "2021-08-04T12:10:49.782958Z",
     "iopub.status.idle": "2021-08-04T12:10:49.785128Z",
     "shell.execute_reply": "2021-08-04T12:10:49.784725Z"
    },
    "papermill": {
     "duration": 0.035796,
     "end_time": "2021-08-04T12:10:49.785237",
     "exception": false,
     "start_time": "2021-08-04T12:10:49.749441",
     "status": "completed"
    },
    "tags": []
   },
   "outputs": [],
   "source": [
    "# hide\n",
    "# g['date'] = g['date'].astype('datetime64[ns]')"
   ]
  },
  {
   "cell_type": "code",
   "execution_count": 34,
   "id": "sophisticated-supervisor",
   "metadata": {
    "execution": {
     "iopub.execute_input": "2021-08-04T12:10:49.849884Z",
     "iopub.status.busy": "2021-08-04T12:10:49.849384Z",
     "iopub.status.idle": "2021-08-04T12:10:49.851547Z",
     "shell.execute_reply": "2021-08-04T12:10:49.851127Z"
    },
    "papermill": {
     "duration": 0.035935,
     "end_time": "2021-08-04T12:10:49.851652",
     "exception": false,
     "start_time": "2021-08-04T12:10:49.815717",
     "status": "completed"
    },
    "tags": []
   },
   "outputs": [],
   "source": [
    "#hide\n",
    "# g['date'] = g.date.dt.dayofyear"
   ]
  },
  {
   "cell_type": "code",
   "execution_count": 35,
   "id": "inside-dubai",
   "metadata": {
    "execution": {
     "iopub.execute_input": "2021-08-04T12:10:49.916369Z",
     "iopub.status.busy": "2021-08-04T12:10:49.915877Z",
     "iopub.status.idle": "2021-08-04T12:10:49.917703Z",
     "shell.execute_reply": "2021-08-04T12:10:49.918096Z"
    },
    "papermill": {
     "duration": 0.036121,
     "end_time": "2021-08-04T12:10:49.918218",
     "exception": false,
     "start_time": "2021-08-04T12:10:49.882097",
     "status": "completed"
    },
    "tags": []
   },
   "outputs": [],
   "source": [
    "#hide\n",
    "# g = g.rename(columns= {'continent':'group','country':'name','cases':'value'})"
   ]
  },
  {
   "cell_type": "code",
   "execution_count": 36,
   "id": "fleet-motorcycle",
   "metadata": {
    "execution": {
     "iopub.execute_input": "2021-08-04T12:10:49.982722Z",
     "iopub.status.busy": "2021-08-04T12:10:49.982197Z",
     "iopub.status.idle": "2021-08-04T12:10:49.984082Z",
     "shell.execute_reply": "2021-08-04T12:10:49.983595Z"
    },
    "papermill": {
     "duration": 0.035499,
     "end_time": "2021-08-04T12:10:49.984189",
     "exception": false,
     "start_time": "2021-08-04T12:10:49.948690",
     "status": "completed"
    },
    "tags": []
   },
   "outputs": [],
   "source": [
    "#hide\n",
    "# cols = ['name','group','day','value']"
   ]
  },
  {
   "cell_type": "code",
   "execution_count": 37,
   "id": "continued-sleeping",
   "metadata": {
    "execution": {
     "iopub.execute_input": "2021-08-04T12:10:50.048986Z",
     "iopub.status.busy": "2021-08-04T12:10:50.048481Z",
     "iopub.status.idle": "2021-08-04T12:10:50.050335Z",
     "shell.execute_reply": "2021-08-04T12:10:50.050813Z"
    },
    "papermill": {
     "duration": 0.036164,
     "end_time": "2021-08-04T12:10:50.050943",
     "exception": false,
     "start_time": "2021-08-04T12:10:50.014779",
     "status": "completed"
    },
    "tags": []
   },
   "outputs": [],
   "source": [
    "#hide\n",
    "# g.rename(columns= {'date':'day'},inplace = True)"
   ]
  },
  {
   "cell_type": "code",
   "execution_count": 38,
   "id": "major-fight",
   "metadata": {
    "execution": {
     "iopub.execute_input": "2021-08-04T12:10:50.115685Z",
     "iopub.status.busy": "2021-08-04T12:10:50.115185Z",
     "iopub.status.idle": "2021-08-04T12:10:50.116914Z",
     "shell.execute_reply": "2021-08-04T12:10:50.117381Z"
    },
    "papermill": {
     "duration": 0.036057,
     "end_time": "2021-08-04T12:10:50.117510",
     "exception": false,
     "start_time": "2021-08-04T12:10:50.081453",
     "status": "completed"
    },
    "tags": []
   },
   "outputs": [],
   "source": [
    "#hide\n",
    "# g = g[cols]"
   ]
  },
  {
   "cell_type": "code",
   "execution_count": 39,
   "id": "structured-mobile",
   "metadata": {
    "execution": {
     "iopub.execute_input": "2021-08-04T12:10:50.181881Z",
     "iopub.status.busy": "2021-08-04T12:10:50.181391Z",
     "iopub.status.idle": "2021-08-04T12:10:50.183619Z",
     "shell.execute_reply": "2021-08-04T12:10:50.183228Z"
    },
    "papermill": {
     "duration": 0.035859,
     "end_time": "2021-08-04T12:10:50.183730",
     "exception": false,
     "start_time": "2021-08-04T12:10:50.147871",
     "status": "completed"
    },
    "tags": []
   },
   "outputs": [],
   "source": [
    "# #hide\n",
    "# g = g[g.group.notna()]"
   ]
  },
  {
   "cell_type": "code",
   "execution_count": 40,
   "id": "determined-closing",
   "metadata": {
    "execution": {
     "iopub.execute_input": "2021-08-04T12:10:50.248827Z",
     "iopub.status.busy": "2021-08-04T12:10:50.248321Z",
     "iopub.status.idle": "2021-08-04T12:10:50.250093Z",
     "shell.execute_reply": "2021-08-04T12:10:50.250465Z"
    },
    "papermill": {
     "duration": 0.036263,
     "end_time": "2021-08-04T12:10:50.250597",
     "exception": false,
     "start_time": "2021-08-04T12:10:50.214334",
     "status": "completed"
    },
    "tags": []
   },
   "outputs": [],
   "source": [
    "# #hide\n",
    "# colors = dict(zip(\n",
    "#     [\"Oceania\", \"Europe\", \"Asia\", \"South America\", \"Middle East\", \"North America\", \"Africa\"],\n",
    "#     [\"#adb0ff\", \"#ffb3ff\", \"#90d595\", \"#e48381\", \"#aafbff\", \"#f7bb5f\", \"#eafb50\"]\n",
    "# ))\n",
    "# group_lk = g.set_index('name')['group'].to_dict()"
   ]
  },
  {
   "cell_type": "code",
   "execution_count": null,
   "id": "gross-drinking",
   "metadata": {
    "papermill": {
     "duration": 0.030232,
     "end_time": "2021-08-04T12:10:50.311153",
     "exception": false,
     "start_time": "2021-08-04T12:10:50.280921",
     "status": "completed"
    },
    "tags": []
   },
   "outputs": [],
   "source": []
  },
  {
   "cell_type": "code",
   "execution_count": 41,
   "id": "subject-macintosh",
   "metadata": {
    "execution": {
     "iopub.execute_input": "2021-08-04T12:10:50.376144Z",
     "iopub.status.busy": "2021-08-04T12:10:50.375632Z",
     "iopub.status.idle": "2021-08-04T12:10:50.377402Z",
     "shell.execute_reply": "2021-08-04T12:10:50.377821Z"
    },
    "papermill": {
     "duration": 0.03647,
     "end_time": "2021-08-04T12:10:50.377944",
     "exception": false,
     "start_time": "2021-08-04T12:10:50.341474",
     "status": "completed"
    },
    "tags": []
   },
   "outputs": [],
   "source": [
    "# #hide\n",
    "# fig, ax = plt.subplots(figsize=(15, 8))\n",
    "\n",
    "# def draw_barchart(current_day):\n",
    "#     dff = g[g['day'].eq(current_day)].sort_values(by='value', ascending=True).tail(10)\n",
    "#     ax.clear()\n",
    "#     ax.barh(dff['name'], dff['value'], color=[colors[group_lk[x]] for x in dff['name']])\n",
    "#     dx = dff['value'].max() / 200\n",
    "    \n",
    "#     for i, (value, name) in enumerate(zip(dff['value'], dff['name'])):\n",
    "#         ax.text(value-dx, i,     name,           size=14, weight=600, ha='right', va='bottom')\n",
    "#         ax.text(value-dx, i-.25, group_lk[name], size=10, color='#444444', ha='right', va='baseline')\n",
    "#         ax.text(value+dx, i,     f'{value:,.0f}',  size=14, ha='left',  va='center')\n",
    "#     ax.text(1, 0.4, current_day, transform=ax.transAxes, color='#777777', size=46, ha='right', weight=800)\n",
    "#     ax.text(0, 1.06, 'Population (thousands)', transform=ax.transAxes, size=12, color='#777777')\n",
    "#     ax.xaxis.set_major_formatter(ticker.StrMethodFormatter('{x:,.0f}'))\n",
    "#     ax.xaxis.set_ticks_position('top')\n",
    "#     ax.tick_params(axis='x', colors='#777777', labelsize=12)\n",
    "#     ax.set_yticks([])\n",
    "#     ax.margins(0, 0.01)\n",
    "#     ax.grid(which='major', axis='x', linestyle='-')\n",
    "#     ax.set_axisbelow(True)\n",
    "    \n",
    "#     ax.text(0, 1.15, 'Coronavirus',\n",
    "#             transform=ax.transAxes, size=24, weight=600, ha='left', va='top')\n",
    "# #     ax.text(1, 0, 'by @pratapvardhan; credit @jburnmurdoch', transform=ax.transAxes, color='#777777', ha='right',\n",
    "# #             bbox=dict(facecolor='white', alpha=0.8, edgecolor='white'))\n",
    "#     plt.box(False)"
   ]
  },
  {
   "cell_type": "code",
   "execution_count": 42,
   "id": "sexual-wages",
   "metadata": {
    "execution": {
     "iopub.execute_input": "2021-08-04T12:10:50.442097Z",
     "iopub.status.busy": "2021-08-04T12:10:50.441604Z",
     "iopub.status.idle": "2021-08-04T12:10:50.443837Z",
     "shell.execute_reply": "2021-08-04T12:10:50.443418Z"
    },
    "papermill": {
     "duration": 0.035697,
     "end_time": "2021-08-04T12:10:50.443941",
     "exception": false,
     "start_time": "2021-08-04T12:10:50.408244",
     "status": "completed"
    },
    "tags": []
   },
   "outputs": [],
   "source": [
    "# #hide_input\n",
    "# fig, ax = plt.subplots(figsize=(15, 8))\n",
    "# animator = animation.FuncAnimation(fig, draw_barchart, frames=range(g.day.values.min(), g.day.values.max()))\n",
    "# HTML(animator.to_jshtml())\n",
    "# # or use animator.to_html5_video() or animator.save() "
   ]
  },
  {
   "cell_type": "code",
   "execution_count": null,
   "id": "australian-container",
   "metadata": {
    "papermill": {
     "duration": 0.030364,
     "end_time": "2021-08-04T12:10:50.504886",
     "exception": false,
     "start_time": "2021-08-04T12:10:50.474522",
     "status": "completed"
    },
    "tags": []
   },
   "outputs": [],
   "source": []
  },
  {
   "cell_type": "code",
   "execution_count": null,
   "id": "mediterranean-pontiac",
   "metadata": {
    "papermill": {
     "duration": 0.030262,
     "end_time": "2021-08-04T12:10:50.565522",
     "exception": false,
     "start_time": "2021-08-04T12:10:50.535260",
     "status": "completed"
    },
    "tags": []
   },
   "outputs": [],
   "source": []
  },
  {
   "cell_type": "code",
   "execution_count": null,
   "id": "aging-legislature",
   "metadata": {
    "papermill": {
     "duration": 0.030585,
     "end_time": "2021-08-04T12:10:50.626570",
     "exception": false,
     "start_time": "2021-08-04T12:10:50.595985",
     "status": "completed"
    },
    "tags": []
   },
   "outputs": [],
   "source": []
  }
 ],
 "metadata": {
  "kernelspec": {
   "display_name": "Python 3",
   "language": "python",
   "name": "python3"
  },
  "language_info": {
   "codemirror_mode": {
    "name": "ipython",
    "version": 3
   },
   "file_extension": ".py",
   "mimetype": "text/x-python",
   "name": "python",
   "nbconvert_exporter": "python",
   "pygments_lexer": "ipython3",
   "version": "3.6.14"
  },
  "papermill": {
   "duration": 5.648827,
   "end_time": "2021-08-04T12:10:50.964511",
   "environment_variables": {},
   "exception": null,
   "input_path": "2020-03-21-covid19exp.ipynb",
   "output_path": "2020-03-21-covid19exp.ipynb",
   "parameters": {},
   "start_time": "2021-08-04T12:10:45.315684",
   "version": "2.0.0"
  }
 },
 "nbformat": 4,
 "nbformat_minor": 5
}