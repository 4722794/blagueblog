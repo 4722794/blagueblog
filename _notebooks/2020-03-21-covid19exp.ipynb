{
 "cells": [
  {
   "cell_type": "markdown",
   "id": "muslim-click",
   "metadata": {
    "papermill": {
     "duration": 0.044178,
     "end_time": "2022-05-01T12:15:37.004996",
     "exception": false,
     "start_time": "2022-05-01T12:15:36.960818",
     "status": "completed"
    },
    "tags": []
   },
   "source": [
    "# COVID-19 Case Race\n",
    "> A race chart to see rising cases around the world\n",
    "\n",
    "- author: Hargun Oberoi\n",
    "- image: images/covid-overview.png\n",
    "- hide: false\n",
    "- badges: false"
   ]
  },
  {
   "cell_type": "code",
   "execution_count": 1,
   "id": "proof-material",
   "metadata": {
    "execution": {
     "iopub.execute_input": "2022-05-01T12:15:37.095180Z",
     "iopub.status.busy": "2022-05-01T12:15:37.094578Z",
     "iopub.status.idle": "2022-05-01T12:15:37.495611Z",
     "shell.execute_reply": "2022-05-01T12:15:37.494613Z"
    },
    "papermill": {
     "duration": 0.450118,
     "end_time": "2022-05-01T12:15:37.495774",
     "exception": false,
     "start_time": "2022-05-01T12:15:37.045656",
     "status": "completed"
    },
    "tags": []
   },
   "outputs": [],
   "source": [
    "#hide\n",
    "import numpy as np\n",
    "import pandas as pd\n",
    "from jinja2 import Template\n",
    "from IPython.display import HTML"
   ]
  },
  {
   "cell_type": "code",
   "execution_count": 2,
   "id": "developed-terminology",
   "metadata": {
    "execution": {
     "iopub.execute_input": "2022-05-01T12:15:37.579127Z",
     "iopub.status.busy": "2022-05-01T12:15:37.578459Z",
     "iopub.status.idle": "2022-05-01T12:15:37.580927Z",
     "shell.execute_reply": "2022-05-01T12:15:37.581627Z"
    },
    "papermill": {
     "duration": 0.048193,
     "end_time": "2022-05-01T12:15:37.581814",
     "exception": false,
     "start_time": "2022-05-01T12:15:37.533621",
     "status": "completed"
    },
    "tags": []
   },
   "outputs": [],
   "source": [
    "#hide\n",
    "\n",
    "# FETCH\n",
    "base_url = 'https://raw.githubusercontent.com/pratapvardhan/notebooks/master/covid19/'\n",
    "paths = {\n",
    "    'mapping': base_url + 'mapping_countries.csv',\n",
    "    'overview': base_url + 'overview.tpl'\n",
    "}"
   ]
  },
  {
   "cell_type": "code",
   "execution_count": 3,
   "id": "dynamic-saver",
   "metadata": {
    "execution": {
     "iopub.execute_input": "2022-05-01T12:15:37.670620Z",
     "iopub.status.busy": "2022-05-01T12:15:37.666959Z",
     "iopub.status.idle": "2022-05-01T12:15:37.674047Z",
     "shell.execute_reply": "2022-05-01T12:15:37.673467Z"
    },
    "papermill": {
     "duration": 0.054664,
     "end_time": "2022-05-01T12:15:37.674177",
     "exception": false,
     "start_time": "2022-05-01T12:15:37.619513",
     "status": "completed"
    },
    "tags": []
   },
   "outputs": [
    {
     "data": {
      "text/plain": [
       "'https://raw.githubusercontent.com/pratapvardhan/notebooks/master/covid19/mapping_countries.csv'"
      ]
     },
     "execution_count": 3,
     "metadata": {},
     "output_type": "execute_result"
    }
   ],
   "source": [
    "#hide\n",
    "paths['mapping']"
   ]
  },
  {
   "cell_type": "code",
   "execution_count": 4,
   "id": "urban-software",
   "metadata": {
    "execution": {
     "iopub.execute_input": "2022-05-01T12:15:37.757843Z",
     "iopub.status.busy": "2022-05-01T12:15:37.757122Z",
     "iopub.status.idle": "2022-05-01T12:15:37.761254Z",
     "shell.execute_reply": "2022-05-01T12:15:37.760696Z"
    },
    "papermill": {
     "duration": 0.049166,
     "end_time": "2022-05-01T12:15:37.761431",
     "exception": false,
     "start_time": "2022-05-01T12:15:37.712265",
     "status": "completed"
    },
    "tags": []
   },
   "outputs": [],
   "source": [
    "#hide\n",
    "def get_mappings(url):\n",
    "    df = pd.read_csv(url)\n",
    "    return {\n",
    "        'df': df,\n",
    "        'replace.country': dict(df.dropna(subset=['Name']).set_index('Country')['Name']),\n",
    "        'map.continent': dict(df.set_index('Name')['Continent'])\n",
    "    }"
   ]
  },
  {
   "cell_type": "code",
   "execution_count": 5,
   "id": "intimate-machinery",
   "metadata": {
    "execution": {
     "iopub.execute_input": "2022-05-01T12:15:37.844191Z",
     "iopub.status.busy": "2022-05-01T12:15:37.843594Z",
     "iopub.status.idle": "2022-05-01T12:15:37.883651Z",
     "shell.execute_reply": "2022-05-01T12:15:37.883110Z"
    },
    "papermill": {
     "duration": 0.081916,
     "end_time": "2022-05-01T12:15:37.883784",
     "exception": false,
     "start_time": "2022-05-01T12:15:37.801868",
     "status": "completed"
    },
    "tags": []
   },
   "outputs": [],
   "source": [
    "#hide\n",
    "mapping = get_mappings(paths['mapping'])"
   ]
  },
  {
   "cell_type": "code",
   "execution_count": 6,
   "id": "certified-tactics",
   "metadata": {
    "execution": {
     "iopub.execute_input": "2022-05-01T12:15:37.959799Z",
     "iopub.status.busy": "2022-05-01T12:15:37.959113Z",
     "iopub.status.idle": "2022-05-01T12:15:37.961834Z",
     "shell.execute_reply": "2022-05-01T12:15:37.961114Z"
    },
    "papermill": {
     "duration": 0.043743,
     "end_time": "2022-05-01T12:15:37.961982",
     "exception": false,
     "start_time": "2022-05-01T12:15:37.918239",
     "status": "completed"
    },
    "tags": []
   },
   "outputs": [],
   "source": [
    "#hide\n",
    "def get_template(path):\n",
    "    from urllib.parse import urlparse\n",
    "    if bool(urlparse(path).netloc):\n",
    "        from urllib.request import urlopen\n",
    "        return urlopen(path).read().decode('utf8')\n",
    "    return open(path).read()"
   ]
  },
  {
   "cell_type": "code",
   "execution_count": 7,
   "id": "realistic-blast",
   "metadata": {
    "execution": {
     "iopub.execute_input": "2022-05-01T12:15:38.047977Z",
     "iopub.status.busy": "2022-05-01T12:15:38.047140Z",
     "iopub.status.idle": "2022-05-01T12:15:38.049898Z",
     "shell.execute_reply": "2022-05-01T12:15:38.049285Z"
    },
    "papermill": {
     "duration": 0.047033,
     "end_time": "2022-05-01T12:15:38.050034",
     "exception": false,
     "start_time": "2022-05-01T12:15:38.003001",
     "status": "completed"
    },
    "tags": []
   },
   "outputs": [],
   "source": [
    "#hide\n",
    "def get_frame(name):\n",
    "    url = (\n",
    "        'https://raw.githubusercontent.com/CSSEGISandData/COVID-19/master/csse_covid_19_data/'\n",
    "        f'csse_covid_19_time_series/time_series_covid19_{name}_global.csv')\n",
    "    df = pd.read_csv(url)\n",
    "    # rename countries\n",
    "    df['Country/Region'] = df['Country/Region'].replace(mapping['replace.country'])\n",
    "    return df"
   ]
  },
  {
   "cell_type": "code",
   "execution_count": 8,
   "id": "affiliated-characterization",
   "metadata": {
    "execution": {
     "iopub.execute_input": "2022-05-01T12:15:38.142194Z",
     "iopub.status.busy": "2022-05-01T12:15:38.141396Z",
     "iopub.status.idle": "2022-05-01T12:15:38.147790Z",
     "shell.execute_reply": "2022-05-01T12:15:38.147180Z"
    },
    "papermill": {
     "duration": 0.050039,
     "end_time": "2022-05-01T12:15:38.147945",
     "exception": false,
     "start_time": "2022-05-01T12:15:38.097906",
     "status": "completed"
    },
    "tags": []
   },
   "outputs": [],
   "source": [
    "#hide\n",
    "def get_dates(df):\n",
    "    dt_cols = df.columns[~df.columns.isin(['Province/State', 'Country/Region', 'Lat', 'Long'])]\n",
    "    LAST_DATE_I = -1\n",
    "    # sometimes last column may be empty, then go backwards\n",
    "    for i in range(-1, -len(dt_cols), -1):\n",
    "        if not df[dt_cols[i]].fillna(0).eq(0).all():\n",
    "            LAST_DATE_I = i\n",
    "            break\n",
    "    return LAST_DATE_I, dt_cols"
   ]
  },
  {
   "cell_type": "code",
   "execution_count": 9,
   "id": "recent-optimization",
   "metadata": {
    "execution": {
     "iopub.execute_input": "2022-05-01T12:15:38.237110Z",
     "iopub.status.busy": "2022-05-01T12:15:38.236329Z",
     "iopub.status.idle": "2022-05-01T12:15:38.761798Z",
     "shell.execute_reply": "2022-05-01T12:15:38.761087Z"
    },
    "papermill": {
     "duration": 0.571322,
     "end_time": "2022-05-01T12:15:38.761954",
     "exception": false,
     "start_time": "2022-05-01T12:15:38.190632",
     "status": "completed"
    },
    "tags": []
   },
   "outputs": [],
   "source": [
    "#hide\n",
    "COL_REGION = 'Country/Region'\n",
    "# Confirmed, Recovered, Deaths\n",
    "df = get_frame('confirmed')\n",
    "# dft_: timeseries, dfc_: today country agg\n",
    "dft_cases = df\n",
    "dft_deaths = get_frame('deaths')\n",
    "dft_recovered = get_frame('recovered')\n",
    "LAST_DATE_I, dt_cols = get_dates(df)"
   ]
  },
  {
   "cell_type": "code",
   "execution_count": 10,
   "id": "absolute-copper",
   "metadata": {
    "execution": {
     "iopub.execute_input": "2022-05-01T12:15:38.847243Z",
     "iopub.status.busy": "2022-05-01T12:15:38.846355Z",
     "iopub.status.idle": "2022-05-01T12:15:38.851251Z",
     "shell.execute_reply": "2022-05-01T12:15:38.850475Z"
    },
    "papermill": {
     "duration": 0.049351,
     "end_time": "2022-05-01T12:15:38.851381",
     "exception": false,
     "start_time": "2022-05-01T12:15:38.802030",
     "status": "completed"
    },
    "tags": []
   },
   "outputs": [],
   "source": [
    "#hide\n",
    "LAST_DATE_I, dt_cols = get_dates(df)\n",
    "dt_today =dt_cols[LAST_DATE_I]\n",
    "# dt_5day = dt_cols[LAST_DATE_I - 5]\n",
    "dt_yday = dt_cols[LAST_DATE_I - 1]"
   ]
  },
  {
   "cell_type": "code",
   "execution_count": 11,
   "id": "restricted-sheriff",
   "metadata": {
    "execution": {
     "iopub.execute_input": "2022-05-01T12:15:38.943868Z",
     "iopub.status.busy": "2022-05-01T12:15:38.940396Z",
     "iopub.status.idle": "2022-05-01T12:15:38.946387Z",
     "shell.execute_reply": "2022-05-01T12:15:38.945823Z"
    },
    "papermill": {
     "duration": 0.054864,
     "end_time": "2022-05-01T12:15:38.946689",
     "exception": false,
     "start_time": "2022-05-01T12:15:38.891825",
     "status": "completed"
    },
    "tags": []
   },
   "outputs": [],
   "source": [
    "#hide\n",
    "dfc_cases = dft_cases.groupby(COL_REGION)[dt_today].sum()\n",
    "dfc_deaths = dft_deaths.groupby(COL_REGION)[dt_today].sum()\n",
    "# dfp_cases = dft_cases.groupby(COL_REGION)[dt_5day].sum()\n",
    "# dfp_deaths = dft_deaths.groupby(COL_REGION)[dt_5day].sum()\n",
    "dfp_cases = dft_cases.groupby(COL_REGION)[dt_yday].sum()\n",
    "dfp_deaths = dft_deaths.groupby(COL_REGION)[dt_yday].sum()"
   ]
  },
  {
   "cell_type": "code",
   "execution_count": 12,
   "id": "deluxe-hepatitis",
   "metadata": {
    "execution": {
     "iopub.execute_input": "2022-05-01T12:15:39.032643Z",
     "iopub.status.busy": "2022-05-01T12:15:39.031982Z",
     "iopub.status.idle": "2022-05-01T12:15:39.037323Z",
     "shell.execute_reply": "2022-05-01T12:15:39.037999Z"
    },
    "papermill": {
     "duration": 0.052787,
     "end_time": "2022-05-01T12:15:39.038145",
     "exception": false,
     "start_time": "2022-05-01T12:15:38.985358",
     "status": "completed"
    },
    "tags": []
   },
   "outputs": [],
   "source": [
    "#hide\n",
    "df_table = (pd.DataFrame(dict(Cases = dfc_cases, Deaths = dfc_deaths, PCases = dfp_cases, PDeaths = dfp_deaths))\n",
    "            .sort_values(by = ['Cases','Deaths'], ascending = [False, False])\n",
    "            .reset_index())"
   ]
  },
  {
   "cell_type": "code",
   "execution_count": 13,
   "id": "educational-chancellor",
   "metadata": {
    "execution": {
     "iopub.execute_input": "2022-05-01T12:15:39.146542Z",
     "iopub.status.busy": "2022-05-01T12:15:39.145898Z",
     "iopub.status.idle": "2022-05-01T12:15:39.156007Z",
     "shell.execute_reply": "2022-05-01T12:15:39.156851Z"
    },
    "papermill": {
     "duration": 0.078423,
     "end_time": "2022-05-01T12:15:39.157018",
     "exception": false,
     "start_time": "2022-05-01T12:15:39.078595",
     "status": "completed"
    },
    "tags": []
   },
   "outputs": [
    {
     "data": {
      "text/html": [
       "<div>\n",
       "<style scoped>\n",
       "    .dataframe tbody tr th:only-of-type {\n",
       "        vertical-align: middle;\n",
       "    }\n",
       "\n",
       "    .dataframe tbody tr th {\n",
       "        vertical-align: top;\n",
       "    }\n",
       "\n",
       "    .dataframe thead th {\n",
       "        text-align: right;\n",
       "    }\n",
       "</style>\n",
       "<table border=\"1\" class=\"dataframe\">\n",
       "  <thead>\n",
       "    <tr style=\"text-align: right;\">\n",
       "      <th></th>\n",
       "      <th>Country/Region</th>\n",
       "      <th>Cases</th>\n",
       "      <th>Deaths</th>\n",
       "      <th>PCases</th>\n",
       "      <th>PDeaths</th>\n",
       "      <th>Cases (+)</th>\n",
       "      <th>Deaths (+)</th>\n",
       "      <th>Fatality Rate</th>\n",
       "      <th>Continent</th>\n",
       "    </tr>\n",
       "  </thead>\n",
       "  <tbody>\n",
       "    <tr>\n",
       "      <th>0</th>\n",
       "      <td>US</td>\n",
       "      <td>81349065</td>\n",
       "      <td>993712</td>\n",
       "      <td>81325716</td>\n",
       "      <td>993588</td>\n",
       "      <td>23349</td>\n",
       "      <td>124</td>\n",
       "      <td>1.22</td>\n",
       "      <td>North America</td>\n",
       "    </tr>\n",
       "    <tr>\n",
       "      <th>1</th>\n",
       "      <td>India</td>\n",
       "      <td>43079188</td>\n",
       "      <td>523843</td>\n",
       "      <td>43075864</td>\n",
       "      <td>523803</td>\n",
       "      <td>3324</td>\n",
       "      <td>40</td>\n",
       "      <td>1.22</td>\n",
       "      <td>Asia</td>\n",
       "    </tr>\n",
       "    <tr>\n",
       "      <th>2</th>\n",
       "      <td>Brazil</td>\n",
       "      <td>30448236</td>\n",
       "      <td>663736</td>\n",
       "      <td>30433042</td>\n",
       "      <td>663649</td>\n",
       "      <td>15194</td>\n",
       "      <td>87</td>\n",
       "      <td>2.18</td>\n",
       "      <td>South America</td>\n",
       "    </tr>\n",
       "    <tr>\n",
       "      <th>3</th>\n",
       "      <td>France</td>\n",
       "      <td>28835895</td>\n",
       "      <td>146967</td>\n",
       "      <td>28786413</td>\n",
       "      <td>146906</td>\n",
       "      <td>49482</td>\n",
       "      <td>61</td>\n",
       "      <td>0.51</td>\n",
       "      <td>Europe</td>\n",
       "    </tr>\n",
       "    <tr>\n",
       "      <th>4</th>\n",
       "      <td>Germany</td>\n",
       "      <td>24809785</td>\n",
       "      <td>135461</td>\n",
       "      <td>24798067</td>\n",
       "      <td>135451</td>\n",
       "      <td>11718</td>\n",
       "      <td>10</td>\n",
       "      <td>0.55</td>\n",
       "      <td>Europe</td>\n",
       "    </tr>\n",
       "  </tbody>\n",
       "</table>\n",
       "</div>"
      ],
      "text/plain": [
       "  Country/Region     Cases  Deaths    PCases  PDeaths  Cases (+)  Deaths (+)  \\\n",
       "0             US  81349065  993712  81325716   993588      23349         124   \n",
       "1          India  43079188  523843  43075864   523803       3324          40   \n",
       "2         Brazil  30448236  663736  30433042   663649      15194          87   \n",
       "3         France  28835895  146967  28786413   146906      49482          61   \n",
       "4        Germany  24809785  135461  24798067   135451      11718          10   \n",
       "\n",
       "   Fatality Rate      Continent  \n",
       "0           1.22  North America  \n",
       "1           1.22           Asia  \n",
       "2           2.18  South America  \n",
       "3           0.51         Europe  \n",
       "4           0.55         Europe  "
      ]
     },
     "execution_count": 13,
     "metadata": {},
     "output_type": "execute_result"
    }
   ],
   "source": [
    "#hide\n",
    "for c in 'Cases, Deaths'.split(', '):\n",
    "    df_table[f'{c} (+)'] = (df_table[c] - df_table[f'P{c}']).clip(0)\n",
    "    #Clip ça veut dire, les chiffres negatif sont interdit\n",
    "df_table['Fatality Rate'] = (100* df_table['Deaths']/ df_table['Cases']).round(2)\n",
    "df_table['Continent'] = df_table['Country/Region'].map(mapping['map.continent'])\n",
    "df_table.head(5)"
   ]
  },
  {
   "cell_type": "code",
   "execution_count": 14,
   "id": "aboriginal-bulgaria",
   "metadata": {
    "execution": {
     "iopub.execute_input": "2022-05-01T12:15:39.263103Z",
     "iopub.status.busy": "2022-05-01T12:15:39.262373Z",
     "iopub.status.idle": "2022-05-01T12:15:39.265309Z",
     "shell.execute_reply": "2022-05-01T12:15:39.264729Z"
    },
    "papermill": {
     "duration": 0.054196,
     "end_time": "2022-05-01T12:15:39.265445",
     "exception": false,
     "start_time": "2022-05-01T12:15:39.211249",
     "status": "completed"
    },
    "tags": []
   },
   "outputs": [],
   "source": [
    "#hide\n",
    "#delete problematic countries from table\n",
    "df_table = df_table[~df_table['Country/Region'].isin(['Cape Verde', 'Cruise Ship', 'Kosovo'])]"
   ]
  },
  {
   "cell_type": "code",
   "execution_count": 15,
   "id": "fantastic-effect",
   "metadata": {
    "execution": {
     "iopub.execute_input": "2022-05-01T12:15:39.354708Z",
     "iopub.status.busy": "2022-05-01T12:15:39.354004Z",
     "iopub.status.idle": "2022-05-01T12:15:39.377168Z",
     "shell.execute_reply": "2022-05-01T12:15:39.377839Z"
    },
    "papermill": {
     "duration": 0.070428,
     "end_time": "2022-05-01T12:15:39.378011",
     "exception": false,
     "start_time": "2022-05-01T12:15:39.307583",
     "status": "completed"
    },
    "tags": []
   },
   "outputs": [
    {
     "data": {
      "text/html": [
       "<div>\n",
       "<style scoped>\n",
       "    .dataframe tbody tr th:only-of-type {\n",
       "        vertical-align: middle;\n",
       "    }\n",
       "\n",
       "    .dataframe tbody tr th {\n",
       "        vertical-align: top;\n",
       "    }\n",
       "\n",
       "    .dataframe thead th {\n",
       "        text-align: right;\n",
       "    }\n",
       "</style>\n",
       "<table border=\"1\" class=\"dataframe\">\n",
       "  <thead>\n",
       "    <tr style=\"text-align: right;\">\n",
       "      <th></th>\n",
       "      <th>Country/Region</th>\n",
       "      <th>Cases</th>\n",
       "      <th>Deaths</th>\n",
       "      <th>PCases</th>\n",
       "      <th>PDeaths</th>\n",
       "      <th>Cases (+)</th>\n",
       "      <th>Deaths (+)</th>\n",
       "      <th>Fatality Rate</th>\n",
       "      <th>Continent</th>\n",
       "    </tr>\n",
       "  </thead>\n",
       "  <tbody>\n",
       "    <tr>\n",
       "      <th>0</th>\n",
       "      <td>US</td>\n",
       "      <td>81349065</td>\n",
       "      <td>993712</td>\n",
       "      <td>81325716</td>\n",
       "      <td>993588</td>\n",
       "      <td>23349</td>\n",
       "      <td>124</td>\n",
       "      <td>1.2</td>\n",
       "      <td>North America</td>\n",
       "    </tr>\n",
       "    <tr>\n",
       "      <th>1</th>\n",
       "      <td>India</td>\n",
       "      <td>43079188</td>\n",
       "      <td>523843</td>\n",
       "      <td>43075864</td>\n",
       "      <td>523803</td>\n",
       "      <td>3324</td>\n",
       "      <td>40</td>\n",
       "      <td>1.2</td>\n",
       "      <td>Asia</td>\n",
       "    </tr>\n",
       "    <tr>\n",
       "      <th>2</th>\n",
       "      <td>Brazil</td>\n",
       "      <td>30448236</td>\n",
       "      <td>663736</td>\n",
       "      <td>30433042</td>\n",
       "      <td>663649</td>\n",
       "      <td>15194</td>\n",
       "      <td>87</td>\n",
       "      <td>2.2</td>\n",
       "      <td>South America</td>\n",
       "    </tr>\n",
       "    <tr>\n",
       "      <th>3</th>\n",
       "      <td>France</td>\n",
       "      <td>28835895</td>\n",
       "      <td>146967</td>\n",
       "      <td>28786413</td>\n",
       "      <td>146906</td>\n",
       "      <td>49482</td>\n",
       "      <td>61</td>\n",
       "      <td>0.5</td>\n",
       "      <td>Europe</td>\n",
       "    </tr>\n",
       "    <tr>\n",
       "      <th>4</th>\n",
       "      <td>Germany</td>\n",
       "      <td>24809785</td>\n",
       "      <td>135461</td>\n",
       "      <td>24798067</td>\n",
       "      <td>135451</td>\n",
       "      <td>11718</td>\n",
       "      <td>10</td>\n",
       "      <td>0.5</td>\n",
       "      <td>Europe</td>\n",
       "    </tr>\n",
       "  </tbody>\n",
       "</table>\n",
       "</div>"
      ],
      "text/plain": [
       "  Country/Region     Cases  Deaths    PCases  PDeaths  Cases (+)  Deaths (+)  \\\n",
       "0             US  81349065  993712  81325716   993588      23349         124   \n",
       "1          India  43079188  523843  43075864   523803       3324          40   \n",
       "2         Brazil  30448236  663736  30433042   663649      15194          87   \n",
       "3         France  28835895  146967  28786413   146906      49482          61   \n",
       "4        Germany  24809785  135461  24798067   135451      11718          10   \n",
       "\n",
       "   Fatality Rate      Continent  \n",
       "0            1.2  North America  \n",
       "1            1.2           Asia  \n",
       "2            2.2  South America  \n",
       "3            0.5         Europe  \n",
       "4            0.5         Europe  "
      ]
     },
     "execution_count": 15,
     "metadata": {},
     "output_type": "execute_result"
    }
   ],
   "source": [
    "#hide\n",
    "df_table = (pd.DataFrame(dict(Cases=dfc_cases, Deaths=dfc_deaths, PCases=dfp_cases, PDeaths=dfp_deaths))\n",
    "             .sort_values(by=['Cases', 'Deaths'], ascending=[False, False])\n",
    "             .reset_index())\n",
    "df_table.rename(columns={'index': 'Country/Region'}, inplace=True)\n",
    "for c in 'Cases, Deaths'.split(', '):\n",
    "    df_table[f'{c} (+)'] = (df_table[c] - df_table[f'P{c}']).clip(0)  # DATA BUG\n",
    "df_table['Fatality Rate'] = (100 * df_table['Deaths'] / df_table['Cases']).round(1)\n",
    "df_table['Continent'] = df_table['Country/Region'].map(mapping['map.continent'])\n",
    "df_table.head(5)"
   ]
  },
  {
   "cell_type": "code",
   "execution_count": 16,
   "id": "fewer-occasion",
   "metadata": {
    "execution": {
     "iopub.execute_input": "2022-05-01T12:15:39.463384Z",
     "iopub.status.busy": "2022-05-01T12:15:39.462678Z",
     "iopub.status.idle": "2022-05-01T12:15:39.465246Z",
     "shell.execute_reply": "2022-05-01T12:15:39.464559Z"
    },
    "papermill": {
     "duration": 0.046908,
     "end_time": "2022-05-01T12:15:39.465381",
     "exception": false,
     "start_time": "2022-05-01T12:15:39.418473",
     "status": "completed"
    },
    "tags": []
   },
   "outputs": [],
   "source": [
    "#hide\n",
    "#delete problematic countries from table\n",
    "df_table = df_table[~df_table['Country/Region'].isin(['Cape Verde', 'Cruise Ship', 'Kosovo'])]"
   ]
  },
  {
   "cell_type": "code",
   "execution_count": 17,
   "id": "related-center",
   "metadata": {
    "execution": {
     "iopub.execute_input": "2022-05-01T12:15:39.569651Z",
     "iopub.status.busy": "2022-05-01T12:15:39.569045Z",
     "iopub.status.idle": "2022-05-01T12:15:39.571881Z",
     "shell.execute_reply": "2022-05-01T12:15:39.571223Z"
    },
    "papermill": {
     "duration": 0.06357,
     "end_time": "2022-05-01T12:15:39.572057",
     "exception": false,
     "start_time": "2022-05-01T12:15:39.508487",
     "status": "completed"
    },
    "tags": []
   },
   "outputs": [],
   "source": [
    "#hide\n",
    "metrics = [df_table.columns[index] for index in [1,2,5,6]]\n",
    "# s_china = df_table[df_table['Country/Region'].eq('China')][metrics].sum().add_prefix('China ')\n",
    "s_us = df_table[df_table['Country/Region'].eq('US')][metrics].sum().add_prefix('US ')\n",
    "s_eu = df_table[df_table['Continent'].eq('Europe')][metrics].sum().add_prefix('EU ')\n",
    "s_ind = df_table[df_table['Country/Region'].eq('India')][metrics].sum().add_prefix('India ')\n",
    "summary = {'updated': pd.to_datetime(dt_today), 'since': pd.to_datetime(dt_yday)}\n",
    "summary = {'updated': pd.to_datetime(dt_today), 'since': pd.to_datetime(dt_yday)}\n",
    "summary = {**summary, **df_table[metrics].sum(), **s_ind, **s_us, **s_eu}"
   ]
  },
  {
   "cell_type": "code",
   "execution_count": 18,
   "id": "engaging-syndrome",
   "metadata": {
    "execution": {
     "iopub.execute_input": "2022-05-01T12:15:39.664729Z",
     "iopub.status.busy": "2022-05-01T12:15:39.663945Z",
     "iopub.status.idle": "2022-05-01T12:15:39.686738Z",
     "shell.execute_reply": "2022-05-01T12:15:39.686030Z"
    },
    "papermill": {
     "duration": 0.068481,
     "end_time": "2022-05-01T12:15:39.686885",
     "exception": false,
     "start_time": "2022-05-01T12:15:39.618404",
     "status": "completed"
    },
    "tags": []
   },
   "outputs": [],
   "source": [
    "#hide\n",
    "dft_ct_new_cases = dft_cases.groupby(COL_REGION)[dt_cols].sum().diff(axis=1).fillna(0).astype(int)"
   ]
  },
  {
   "cell_type": "code",
   "execution_count": 19,
   "id": "neutral-assignment",
   "metadata": {
    "execution": {
     "iopub.execute_input": "2022-05-01T12:15:39.772088Z",
     "iopub.status.busy": "2022-05-01T12:15:39.771357Z",
     "iopub.status.idle": "2022-05-01T12:15:39.775431Z",
     "shell.execute_reply": "2022-05-01T12:15:39.776695Z"
    },
    "papermill": {
     "duration": 0.051558,
     "end_time": "2022-05-01T12:15:39.776881",
     "exception": false,
     "start_time": "2022-05-01T12:15:39.725323",
     "status": "completed"
    },
    "tags": []
   },
   "outputs": [],
   "source": [
    "#hide\n",
    "everydaycases = dft_ct_new_cases.cumsum(axis=1)"
   ]
  },
  {
   "cell_type": "code",
   "execution_count": 20,
   "id": "parliamentary-calgary",
   "metadata": {
    "execution": {
     "iopub.execute_input": "2022-05-01T12:15:39.863850Z",
     "iopub.status.busy": "2022-05-01T12:15:39.860871Z",
     "iopub.status.idle": "2022-05-01T12:15:40.598205Z",
     "shell.execute_reply": "2022-05-01T12:15:40.597496Z"
    },
    "papermill": {
     "duration": 0.781539,
     "end_time": "2022-05-01T12:15:40.598347",
     "exception": false,
     "start_time": "2022-05-01T12:15:39.816808",
     "status": "completed"
    },
    "tags": []
   },
   "outputs": [],
   "source": [
    "#hide\n",
    "import pandas as pd\n",
    "import matplotlib.pyplot as plt\n",
    "import matplotlib.ticker as ticker\n",
    "import matplotlib.animation as animation\n",
    "from IPython.display import HTML"
   ]
  },
  {
   "cell_type": "code",
   "execution_count": 21,
   "id": "lasting-extraction",
   "metadata": {
    "execution": {
     "iopub.execute_input": "2022-05-01T12:15:40.682855Z",
     "iopub.status.busy": "2022-05-01T12:15:40.682241Z",
     "iopub.status.idle": "2022-05-01T12:15:40.691758Z",
     "shell.execute_reply": "2022-05-01T12:15:40.691183Z"
    },
    "papermill": {
     "duration": 0.05444,
     "end_time": "2022-05-01T12:15:40.691898",
     "exception": false,
     "start_time": "2022-05-01T12:15:40.637458",
     "status": "completed"
    },
    "tags": []
   },
   "outputs": [],
   "source": [
    "#hide\n",
    "t = everydaycases.stack()"
   ]
  },
  {
   "cell_type": "code",
   "execution_count": 22,
   "id": "premier-sleeve",
   "metadata": {
    "execution": {
     "iopub.execute_input": "2022-05-01T12:15:40.775555Z",
     "iopub.status.busy": "2022-05-01T12:15:40.774862Z",
     "iopub.status.idle": "2022-05-01T12:15:40.786071Z",
     "shell.execute_reply": "2022-05-01T12:15:40.786536Z"
    },
    "papermill": {
     "duration": 0.05387,
     "end_time": "2022-05-01T12:15:40.786668",
     "exception": false,
     "start_time": "2022-05-01T12:15:40.732798",
     "status": "completed"
    },
    "tags": []
   },
   "outputs": [],
   "source": [
    "#hide\n",
    "g = t.reset_index(['Country/Region'])"
   ]
  },
  {
   "cell_type": "code",
   "execution_count": 23,
   "id": "distributed-pittsburgh",
   "metadata": {
    "execution": {
     "iopub.execute_input": "2022-05-01T12:15:40.876616Z",
     "iopub.status.busy": "2022-05-01T12:15:40.876021Z",
     "iopub.status.idle": "2022-05-01T12:15:40.878869Z",
     "shell.execute_reply": "2022-05-01T12:15:40.878005Z"
    },
    "papermill": {
     "duration": 0.045089,
     "end_time": "2022-05-01T12:15:40.879025",
     "exception": false,
     "start_time": "2022-05-01T12:15:40.833936",
     "status": "completed"
    },
    "tags": []
   },
   "outputs": [],
   "source": [
    "#hide\n",
    "g.index.name = 'date'"
   ]
  },
  {
   "cell_type": "code",
   "execution_count": 24,
   "id": "naked-donor",
   "metadata": {
    "execution": {
     "iopub.execute_input": "2022-05-01T12:15:40.967499Z",
     "iopub.status.busy": "2022-05-01T12:15:40.966737Z",
     "iopub.status.idle": "2022-05-01T12:15:40.968986Z",
     "shell.execute_reply": "2022-05-01T12:15:40.969655Z"
    },
    "papermill": {
     "duration": 0.047432,
     "end_time": "2022-05-01T12:15:40.969857",
     "exception": false,
     "start_time": "2022-05-01T12:15:40.922425",
     "status": "completed"
    },
    "tags": []
   },
   "outputs": [],
   "source": [
    "# #hide\n",
    "# g = g.reset_index(['date'])"
   ]
  },
  {
   "cell_type": "code",
   "execution_count": 25,
   "id": "incomplete-mustang",
   "metadata": {
    "execution": {
     "iopub.execute_input": "2022-05-01T12:15:41.056175Z",
     "iopub.status.busy": "2022-05-01T12:15:41.055503Z",
     "iopub.status.idle": "2022-05-01T12:15:41.058408Z",
     "shell.execute_reply": "2022-05-01T12:15:41.057634Z"
    },
    "papermill": {
     "duration": 0.047564,
     "end_time": "2022-05-01T12:15:41.058541",
     "exception": false,
     "start_time": "2022-05-01T12:15:41.010977",
     "status": "completed"
    },
    "tags": []
   },
   "outputs": [],
   "source": [
    "#hide\n",
    "# g.head()"
   ]
  },
  {
   "cell_type": "code",
   "execution_count": 26,
   "id": "specific-kruger",
   "metadata": {
    "execution": {
     "iopub.execute_input": "2022-05-01T12:15:41.147042Z",
     "iopub.status.busy": "2022-05-01T12:15:41.146293Z",
     "iopub.status.idle": "2022-05-01T12:15:41.149062Z",
     "shell.execute_reply": "2022-05-01T12:15:41.148349Z"
    },
    "papermill": {
     "duration": 0.049976,
     "end_time": "2022-05-01T12:15:41.149212",
     "exception": false,
     "start_time": "2022-05-01T12:15:41.099236",
     "status": "completed"
    },
    "tags": []
   },
   "outputs": [],
   "source": [
    "#hide\n",
    "# g.columns = ['date','country','cases']"
   ]
  },
  {
   "cell_type": "code",
   "execution_count": 27,
   "id": "tender-conversion",
   "metadata": {
    "execution": {
     "iopub.execute_input": "2022-05-01T12:15:41.246165Z",
     "iopub.status.busy": "2022-05-01T12:15:41.244948Z",
     "iopub.status.idle": "2022-05-01T12:15:41.249761Z",
     "shell.execute_reply": "2022-05-01T12:15:41.249149Z"
    },
    "papermill": {
     "duration": 0.052565,
     "end_time": "2022-05-01T12:15:41.249900",
     "exception": false,
     "start_time": "2022-05-01T12:15:41.197335",
     "status": "completed"
    },
    "tags": []
   },
   "outputs": [],
   "source": [
    "#hide\n",
    "# g['continent'] = g.country"
   ]
  },
  {
   "cell_type": "code",
   "execution_count": 28,
   "id": "substantial-wilderness",
   "metadata": {
    "execution": {
     "iopub.execute_input": "2022-05-01T12:15:41.338278Z",
     "iopub.status.busy": "2022-05-01T12:15:41.337547Z",
     "iopub.status.idle": "2022-05-01T12:15:41.339688Z",
     "shell.execute_reply": "2022-05-01T12:15:41.340248Z"
    },
    "papermill": {
     "duration": 0.049514,
     "end_time": "2022-05-01T12:15:41.340396",
     "exception": false,
     "start_time": "2022-05-01T12:15:41.290882",
     "status": "completed"
    },
    "tags": []
   },
   "outputs": [],
   "source": [
    "#hide\n",
    "# cols = list(g.columns.values)"
   ]
  },
  {
   "cell_type": "code",
   "execution_count": 29,
   "id": "solved-farming",
   "metadata": {
    "execution": {
     "iopub.execute_input": "2022-05-01T12:15:41.430080Z",
     "iopub.status.busy": "2022-05-01T12:15:41.429320Z",
     "iopub.status.idle": "2022-05-01T12:15:41.431737Z",
     "shell.execute_reply": "2022-05-01T12:15:41.431031Z"
    },
    "papermill": {
     "duration": 0.049018,
     "end_time": "2022-05-01T12:15:41.431904",
     "exception": false,
     "start_time": "2022-05-01T12:15:41.382886",
     "status": "completed"
    },
    "tags": []
   },
   "outputs": [],
   "source": [
    "#hide\n",
    "# cols.insert(0, cols.pop())"
   ]
  },
  {
   "cell_type": "code",
   "execution_count": 30,
   "id": "executed-adoption",
   "metadata": {
    "execution": {
     "iopub.execute_input": "2022-05-01T12:15:41.516653Z",
     "iopub.status.busy": "2022-05-01T12:15:41.515613Z",
     "iopub.status.idle": "2022-05-01T12:15:41.519547Z",
     "shell.execute_reply": "2022-05-01T12:15:41.518983Z"
    },
    "papermill": {
     "duration": 0.046999,
     "end_time": "2022-05-01T12:15:41.519706",
     "exception": false,
     "start_time": "2022-05-01T12:15:41.472707",
     "status": "completed"
    },
    "tags": []
   },
   "outputs": [],
   "source": [
    "#hide\n",
    "# g = g[cols]"
   ]
  },
  {
   "cell_type": "code",
   "execution_count": 31,
   "id": "subject-dublin",
   "metadata": {
    "execution": {
     "iopub.execute_input": "2022-05-01T12:15:41.605234Z",
     "iopub.status.busy": "2022-05-01T12:15:41.604517Z",
     "iopub.status.idle": "2022-05-01T12:15:41.609363Z",
     "shell.execute_reply": "2022-05-01T12:15:41.608747Z"
    },
    "papermill": {
     "duration": 0.048276,
     "end_time": "2022-05-01T12:15:41.609499",
     "exception": false,
     "start_time": "2022-05-01T12:15:41.561223",
     "status": "completed"
    },
    "tags": []
   },
   "outputs": [],
   "source": [
    "#hide\n",
    "# g['continent'] = g['continent'].map(mapping['map.continent'])"
   ]
  },
  {
   "cell_type": "code",
   "execution_count": 32,
   "id": "freelance-scout",
   "metadata": {
    "execution": {
     "iopub.execute_input": "2022-05-01T12:15:41.698196Z",
     "iopub.status.busy": "2022-05-01T12:15:41.697312Z",
     "iopub.status.idle": "2022-05-01T12:15:41.699906Z",
     "shell.execute_reply": "2022-05-01T12:15:41.699247Z"
    },
    "papermill": {
     "duration": 0.046532,
     "end_time": "2022-05-01T12:15:41.700039",
     "exception": false,
     "start_time": "2022-05-01T12:15:41.653507",
     "status": "completed"
    },
    "tags": []
   },
   "outputs": [],
   "source": [
    "#hide\n",
    "# g.head()"
   ]
  },
  {
   "cell_type": "code",
   "execution_count": 33,
   "id": "limited-engine",
   "metadata": {
    "execution": {
     "iopub.execute_input": "2022-05-01T12:15:41.788054Z",
     "iopub.status.busy": "2022-05-01T12:15:41.787325Z",
     "iopub.status.idle": "2022-05-01T12:15:41.790253Z",
     "shell.execute_reply": "2022-05-01T12:15:41.789623Z"
    },
    "papermill": {
     "duration": 0.048039,
     "end_time": "2022-05-01T12:15:41.790384",
     "exception": false,
     "start_time": "2022-05-01T12:15:41.742345",
     "status": "completed"
    },
    "tags": []
   },
   "outputs": [],
   "source": [
    "# hide\n",
    "# g['date'] = g['date'].astype('datetime64[ns]')"
   ]
  },
  {
   "cell_type": "code",
   "execution_count": 34,
   "id": "sophisticated-supervisor",
   "metadata": {
    "execution": {
     "iopub.execute_input": "2022-05-01T12:15:41.877552Z",
     "iopub.status.busy": "2022-05-01T12:15:41.876793Z",
     "iopub.status.idle": "2022-05-01T12:15:41.881476Z",
     "shell.execute_reply": "2022-05-01T12:15:41.880794Z"
    },
    "papermill": {
     "duration": 0.048574,
     "end_time": "2022-05-01T12:15:41.881646",
     "exception": false,
     "start_time": "2022-05-01T12:15:41.833072",
     "status": "completed"
    },
    "tags": []
   },
   "outputs": [],
   "source": [
    "#hide\n",
    "# g['date'] = g.date.dt.dayofyear"
   ]
  },
  {
   "cell_type": "code",
   "execution_count": 35,
   "id": "inside-dubai",
   "metadata": {
    "execution": {
     "iopub.execute_input": "2022-05-01T12:15:41.968692Z",
     "iopub.status.busy": "2022-05-01T12:15:41.967945Z",
     "iopub.status.idle": "2022-05-01T12:15:41.970913Z",
     "shell.execute_reply": "2022-05-01T12:15:41.970269Z"
    },
    "papermill": {
     "duration": 0.047182,
     "end_time": "2022-05-01T12:15:41.971055",
     "exception": false,
     "start_time": "2022-05-01T12:15:41.923873",
     "status": "completed"
    },
    "tags": []
   },
   "outputs": [],
   "source": [
    "#hide\n",
    "# g = g.rename(columns= {'continent':'group','country':'name','cases':'value'})"
   ]
  },
  {
   "cell_type": "code",
   "execution_count": 36,
   "id": "fleet-motorcycle",
   "metadata": {
    "execution": {
     "iopub.execute_input": "2022-05-01T12:15:42.068936Z",
     "iopub.status.busy": "2022-05-01T12:15:42.068242Z",
     "iopub.status.idle": "2022-05-01T12:15:42.070418Z",
     "shell.execute_reply": "2022-05-01T12:15:42.071003Z"
    },
    "papermill": {
     "duration": 0.060778,
     "end_time": "2022-05-01T12:15:42.071215",
     "exception": false,
     "start_time": "2022-05-01T12:15:42.010437",
     "status": "completed"
    },
    "tags": []
   },
   "outputs": [],
   "source": [
    "#hide\n",
    "# cols = ['name','group','day','value']"
   ]
  },
  {
   "cell_type": "code",
   "execution_count": 37,
   "id": "continued-sleeping",
   "metadata": {
    "execution": {
     "iopub.execute_input": "2022-05-01T12:15:42.159164Z",
     "iopub.status.busy": "2022-05-01T12:15:42.158374Z",
     "iopub.status.idle": "2022-05-01T12:15:42.162347Z",
     "shell.execute_reply": "2022-05-01T12:15:42.162919Z"
    },
    "papermill": {
     "duration": 0.051401,
     "end_time": "2022-05-01T12:15:42.163078",
     "exception": false,
     "start_time": "2022-05-01T12:15:42.111677",
     "status": "completed"
    },
    "tags": []
   },
   "outputs": [],
   "source": [
    "#hide\n",
    "# g.rename(columns= {'date':'day'},inplace = True)"
   ]
  },
  {
   "cell_type": "code",
   "execution_count": 38,
   "id": "major-fight",
   "metadata": {
    "execution": {
     "iopub.execute_input": "2022-05-01T12:15:42.249294Z",
     "iopub.status.busy": "2022-05-01T12:15:42.248567Z",
     "iopub.status.idle": "2022-05-01T12:15:42.251054Z",
     "shell.execute_reply": "2022-05-01T12:15:42.250376Z"
    },
    "papermill": {
     "duration": 0.046848,
     "end_time": "2022-05-01T12:15:42.251193",
     "exception": false,
     "start_time": "2022-05-01T12:15:42.204345",
     "status": "completed"
    },
    "tags": []
   },
   "outputs": [],
   "source": [
    "#hide\n",
    "# g = g[cols]"
   ]
  },
  {
   "cell_type": "code",
   "execution_count": 39,
   "id": "structured-mobile",
   "metadata": {
    "execution": {
     "iopub.execute_input": "2022-05-01T12:15:42.339382Z",
     "iopub.status.busy": "2022-05-01T12:15:42.338734Z",
     "iopub.status.idle": "2022-05-01T12:15:42.343280Z",
     "shell.execute_reply": "2022-05-01T12:15:42.342727Z"
    },
    "papermill": {
     "duration": 0.0507,
     "end_time": "2022-05-01T12:15:42.343413",
     "exception": false,
     "start_time": "2022-05-01T12:15:42.292713",
     "status": "completed"
    },
    "tags": []
   },
   "outputs": [],
   "source": [
    "# #hide\n",
    "# g = g[g.group.notna()]"
   ]
  },
  {
   "cell_type": "code",
   "execution_count": 40,
   "id": "determined-closing",
   "metadata": {
    "execution": {
     "iopub.execute_input": "2022-05-01T12:15:42.432281Z",
     "iopub.status.busy": "2022-05-01T12:15:42.431533Z",
     "iopub.status.idle": "2022-05-01T12:15:42.434229Z",
     "shell.execute_reply": "2022-05-01T12:15:42.433451Z"
    },
    "papermill": {
     "duration": 0.049708,
     "end_time": "2022-05-01T12:15:42.434366",
     "exception": false,
     "start_time": "2022-05-01T12:15:42.384658",
     "status": "completed"
    },
    "tags": []
   },
   "outputs": [],
   "source": [
    "# #hide\n",
    "# colors = dict(zip(\n",
    "#     [\"Oceania\", \"Europe\", \"Asia\", \"South America\", \"Middle East\", \"North America\", \"Africa\"],\n",
    "#     [\"#adb0ff\", \"#ffb3ff\", \"#90d595\", \"#e48381\", \"#aafbff\", \"#f7bb5f\", \"#eafb50\"]\n",
    "# ))\n",
    "# group_lk = g.set_index('name')['group'].to_dict()"
   ]
  },
  {
   "cell_type": "code",
   "execution_count": null,
   "id": "gross-drinking",
   "metadata": {
    "papermill": {
     "duration": 0.044584,
     "end_time": "2022-05-01T12:15:42.528661",
     "exception": false,
     "start_time": "2022-05-01T12:15:42.484077",
     "status": "completed"
    },
    "tags": []
   },
   "outputs": [],
   "source": []
  },
  {
   "cell_type": "code",
   "execution_count": 41,
   "id": "subject-macintosh",
   "metadata": {
    "execution": {
     "iopub.execute_input": "2022-05-01T12:15:42.621807Z",
     "iopub.status.busy": "2022-05-01T12:15:42.621070Z",
     "iopub.status.idle": "2022-05-01T12:15:42.623658Z",
     "shell.execute_reply": "2022-05-01T12:15:42.624235Z"
    },
    "papermill": {
     "duration": 0.049325,
     "end_time": "2022-05-01T12:15:42.624387",
     "exception": false,
     "start_time": "2022-05-01T12:15:42.575062",
     "status": "completed"
    },
    "tags": []
   },
   "outputs": [],
   "source": [
    "# #hide\n",
    "# fig, ax = plt.subplots(figsize=(15, 8))\n",
    "\n",
    "# def draw_barchart(current_day):\n",
    "#     dff = g[g['day'].eq(current_day)].sort_values(by='value', ascending=True).tail(10)\n",
    "#     ax.clear()\n",
    "#     ax.barh(dff['name'], dff['value'], color=[colors[group_lk[x]] for x in dff['name']])\n",
    "#     dx = dff['value'].max() / 200\n",
    "    \n",
    "#     for i, (value, name) in enumerate(zip(dff['value'], dff['name'])):\n",
    "#         ax.text(value-dx, i,     name,           size=14, weight=600, ha='right', va='bottom')\n",
    "#         ax.text(value-dx, i-.25, group_lk[name], size=10, color='#444444', ha='right', va='baseline')\n",
    "#         ax.text(value+dx, i,     f'{value:,.0f}',  size=14, ha='left',  va='center')\n",
    "#     ax.text(1, 0.4, current_day, transform=ax.transAxes, color='#777777', size=46, ha='right', weight=800)\n",
    "#     ax.text(0, 1.06, 'Population (thousands)', transform=ax.transAxes, size=12, color='#777777')\n",
    "#     ax.xaxis.set_major_formatter(ticker.StrMethodFormatter('{x:,.0f}'))\n",
    "#     ax.xaxis.set_ticks_position('top')\n",
    "#     ax.tick_params(axis='x', colors='#777777', labelsize=12)\n",
    "#     ax.set_yticks([])\n",
    "#     ax.margins(0, 0.01)\n",
    "#     ax.grid(which='major', axis='x', linestyle='-')\n",
    "#     ax.set_axisbelow(True)\n",
    "    \n",
    "#     ax.text(0, 1.15, 'Coronavirus',\n",
    "#             transform=ax.transAxes, size=24, weight=600, ha='left', va='top')\n",
    "# #     ax.text(1, 0, 'by @pratapvardhan; credit @jburnmurdoch', transform=ax.transAxes, color='#777777', ha='right',\n",
    "# #             bbox=dict(facecolor='white', alpha=0.8, edgecolor='white'))\n",
    "#     plt.box(False)"
   ]
  },
  {
   "cell_type": "code",
   "execution_count": 42,
   "id": "sexual-wages",
   "metadata": {
    "execution": {
     "iopub.execute_input": "2022-05-01T12:15:42.719489Z",
     "iopub.status.busy": "2022-05-01T12:15:42.718694Z",
     "iopub.status.idle": "2022-05-01T12:15:42.723414Z",
     "shell.execute_reply": "2022-05-01T12:15:42.722719Z"
    },
    "papermill": {
     "duration": 0.051546,
     "end_time": "2022-05-01T12:15:42.723550",
     "exception": false,
     "start_time": "2022-05-01T12:15:42.672004",
     "status": "completed"
    },
    "tags": []
   },
   "outputs": [],
   "source": [
    "# #hide_input\n",
    "# fig, ax = plt.subplots(figsize=(15, 8))\n",
    "# animator = animation.FuncAnimation(fig, draw_barchart, frames=range(g.day.values.min(), g.day.values.max()))\n",
    "# HTML(animator.to_jshtml())\n",
    "# # or use animator.to_html5_video() or animator.save() "
   ]
  },
  {
   "cell_type": "code",
   "execution_count": null,
   "id": "australian-container",
   "metadata": {
    "papermill": {
     "duration": 0.04622,
     "end_time": "2022-05-01T12:15:42.820959",
     "exception": false,
     "start_time": "2022-05-01T12:15:42.774739",
     "status": "completed"
    },
    "tags": []
   },
   "outputs": [],
   "source": []
  },
  {
   "cell_type": "code",
   "execution_count": null,
   "id": "mediterranean-pontiac",
   "metadata": {
    "papermill": {
     "duration": 0.03885,
     "end_time": "2022-05-01T12:15:42.906312",
     "exception": false,
     "start_time": "2022-05-01T12:15:42.867462",
     "status": "completed"
    },
    "tags": []
   },
   "outputs": [],
   "source": []
  },
  {
   "cell_type": "code",
   "execution_count": null,
   "id": "aging-legislature",
   "metadata": {
    "papermill": {
     "duration": 0.040483,
     "end_time": "2022-05-01T12:15:42.987272",
     "exception": false,
     "start_time": "2022-05-01T12:15:42.946789",
     "status": "completed"
    },
    "tags": []
   },
   "outputs": [],
   "source": []
  }
 ],
 "metadata": {
  "kernelspec": {
   "display_name": "Python 3",
   "language": "python",
   "name": "python3"
  },
  "language_info": {
   "codemirror_mode": {
    "name": "ipython",
    "version": 3
   },
   "file_extension": ".py",
   "mimetype": "text/x-python",
   "name": "python",
   "nbconvert_exporter": "python",
   "pygments_lexer": "ipython3",
   "version": "3.6.15"
  },
  "papermill": {
   "duration": 7.749809,
   "end_time": "2022-05-01T12:15:43.350919",
   "environment_variables": {},
   "exception": null,
   "input_path": "2020-03-21-covid19exp.ipynb",
   "output_path": "2020-03-21-covid19exp.ipynb",
   "parameters": {},
   "start_time": "2022-05-01T12:15:35.601110",
   "version": "2.0.0"
  }
 },
 "nbformat": 4,
 "nbformat_minor": 5
}