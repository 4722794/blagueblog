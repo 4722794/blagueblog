{
 "cells": [
  {
   "cell_type": "markdown",
   "id": "muslim-click",
   "metadata": {
    "papermill": {
     "duration": 0.033083,
     "end_time": "2021-11-30T00:24:46.153072",
     "exception": false,
     "start_time": "2021-11-30T00:24:46.119989",
     "status": "completed"
    },
    "tags": []
   },
   "source": [
    "# COVID-19 Case Race\n",
    "> A race chart to see rising cases around the world\n",
    "\n",
    "- author: Hargun Oberoi\n",
    "- image: images/covid-overview.png\n",
    "- hide: false\n",
    "- badges: false"
   ]
  },
  {
   "cell_type": "code",
   "execution_count": 1,
   "id": "proof-material",
   "metadata": {
    "execution": {
     "iopub.execute_input": "2021-11-30T00:24:46.222253Z",
     "iopub.status.busy": "2021-11-30T00:24:46.221729Z",
     "iopub.status.idle": "2021-11-30T00:24:46.538959Z",
     "shell.execute_reply": "2021-11-30T00:24:46.538433Z"
    },
    "papermill": {
     "duration": 0.356167,
     "end_time": "2021-11-30T00:24:46.539107",
     "exception": false,
     "start_time": "2021-11-30T00:24:46.182940",
     "status": "completed"
    },
    "tags": []
   },
   "outputs": [],
   "source": [
    "#hide\n",
    "import numpy as np\n",
    "import pandas as pd\n",
    "from jinja2 import Template\n",
    "from IPython.display import HTML"
   ]
  },
  {
   "cell_type": "code",
   "execution_count": 2,
   "id": "developed-terminology",
   "metadata": {
    "execution": {
     "iopub.execute_input": "2021-11-30T00:24:46.604029Z",
     "iopub.status.busy": "2021-11-30T00:24:46.603419Z",
     "iopub.status.idle": "2021-11-30T00:24:46.607310Z",
     "shell.execute_reply": "2021-11-30T00:24:46.606844Z"
    },
    "papermill": {
     "duration": 0.038675,
     "end_time": "2021-11-30T00:24:46.607430",
     "exception": false,
     "start_time": "2021-11-30T00:24:46.568755",
     "status": "completed"
    },
    "tags": []
   },
   "outputs": [],
   "source": [
    "#hide\n",
    "\n",
    "# FETCH\n",
    "base_url = 'https://raw.githubusercontent.com/pratapvardhan/notebooks/master/covid19/'\n",
    "paths = {\n",
    "    'mapping': base_url + 'mapping_countries.csv',\n",
    "    'overview': base_url + 'overview.tpl'\n",
    "}"
   ]
  },
  {
   "cell_type": "code",
   "execution_count": 3,
   "id": "dynamic-saver",
   "metadata": {
    "execution": {
     "iopub.execute_input": "2021-11-30T00:24:46.675999Z",
     "iopub.status.busy": "2021-11-30T00:24:46.675477Z",
     "iopub.status.idle": "2021-11-30T00:24:46.678155Z",
     "shell.execute_reply": "2021-11-30T00:24:46.678534Z"
    },
    "papermill": {
     "duration": 0.041098,
     "end_time": "2021-11-30T00:24:46.678661",
     "exception": false,
     "start_time": "2021-11-30T00:24:46.637563",
     "status": "completed"
    },
    "tags": []
   },
   "outputs": [
    {
     "data": {
      "text/plain": [
       "'https://raw.githubusercontent.com/pratapvardhan/notebooks/master/covid19/mapping_countries.csv'"
      ]
     },
     "execution_count": 3,
     "metadata": {},
     "output_type": "execute_result"
    }
   ],
   "source": [
    "#hide\n",
    "paths['mapping']"
   ]
  },
  {
   "cell_type": "code",
   "execution_count": 4,
   "id": "urban-software",
   "metadata": {
    "execution": {
     "iopub.execute_input": "2021-11-30T00:24:46.743092Z",
     "iopub.status.busy": "2021-11-30T00:24:46.742570Z",
     "iopub.status.idle": "2021-11-30T00:24:46.744329Z",
     "shell.execute_reply": "2021-11-30T00:24:46.744764Z"
    },
    "papermill": {
     "duration": 0.03659,
     "end_time": "2021-11-30T00:24:46.744892",
     "exception": false,
     "start_time": "2021-11-30T00:24:46.708302",
     "status": "completed"
    },
    "tags": []
   },
   "outputs": [],
   "source": [
    "#hide\n",
    "def get_mappings(url):\n",
    "    df = pd.read_csv(url)\n",
    "    return {\n",
    "        'df': df,\n",
    "        'replace.country': dict(df.dropna(subset=['Name']).set_index('Country')['Name']),\n",
    "        'map.continent': dict(df.set_index('Name')['Continent'])\n",
    "    }"
   ]
  },
  {
   "cell_type": "code",
   "execution_count": 5,
   "id": "intimate-machinery",
   "metadata": {
    "execution": {
     "iopub.execute_input": "2021-11-30T00:24:46.809052Z",
     "iopub.status.busy": "2021-11-30T00:24:46.808532Z",
     "iopub.status.idle": "2021-11-30T00:24:46.834992Z",
     "shell.execute_reply": "2021-11-30T00:24:46.834521Z"
    },
    "papermill": {
     "duration": 0.060742,
     "end_time": "2021-11-30T00:24:46.835116",
     "exception": false,
     "start_time": "2021-11-30T00:24:46.774374",
     "status": "completed"
    },
    "tags": []
   },
   "outputs": [],
   "source": [
    "#hide\n",
    "mapping = get_mappings(paths['mapping'])"
   ]
  },
  {
   "cell_type": "code",
   "execution_count": 6,
   "id": "certified-tactics",
   "metadata": {
    "execution": {
     "iopub.execute_input": "2021-11-30T00:24:46.900588Z",
     "iopub.status.busy": "2021-11-30T00:24:46.899959Z",
     "iopub.status.idle": "2021-11-30T00:24:46.902075Z",
     "shell.execute_reply": "2021-11-30T00:24:46.901508Z"
    },
    "papermill": {
     "duration": 0.036217,
     "end_time": "2021-11-30T00:24:46.902192",
     "exception": false,
     "start_time": "2021-11-30T00:24:46.865975",
     "status": "completed"
    },
    "tags": []
   },
   "outputs": [],
   "source": [
    "#hide\n",
    "def get_template(path):\n",
    "    from urllib.parse import urlparse\n",
    "    if bool(urlparse(path).netloc):\n",
    "        from urllib.request import urlopen\n",
    "        return urlopen(path).read().decode('utf8')\n",
    "    return open(path).read()"
   ]
  },
  {
   "cell_type": "code",
   "execution_count": 7,
   "id": "realistic-blast",
   "metadata": {
    "execution": {
     "iopub.execute_input": "2021-11-30T00:24:46.966128Z",
     "iopub.status.busy": "2021-11-30T00:24:46.965605Z",
     "iopub.status.idle": "2021-11-30T00:24:46.967708Z",
     "shell.execute_reply": "2021-11-30T00:24:46.967309Z"
    },
    "papermill": {
     "duration": 0.035856,
     "end_time": "2021-11-30T00:24:46.967817",
     "exception": false,
     "start_time": "2021-11-30T00:24:46.931961",
     "status": "completed"
    },
    "tags": []
   },
   "outputs": [],
   "source": [
    "#hide\n",
    "def get_frame(name):\n",
    "    url = (\n",
    "        'https://raw.githubusercontent.com/CSSEGISandData/COVID-19/master/csse_covid_19_data/'\n",
    "        f'csse_covid_19_time_series/time_series_covid19_{name}_global.csv')\n",
    "    df = pd.read_csv(url)\n",
    "    # rename countries\n",
    "    df['Country/Region'] = df['Country/Region'].replace(mapping['replace.country'])\n",
    "    return df"
   ]
  },
  {
   "cell_type": "code",
   "execution_count": 8,
   "id": "affiliated-characterization",
   "metadata": {
    "execution": {
     "iopub.execute_input": "2021-11-30T00:24:47.032384Z",
     "iopub.status.busy": "2021-11-30T00:24:47.031870Z",
     "iopub.status.idle": "2021-11-30T00:24:47.034451Z",
     "shell.execute_reply": "2021-11-30T00:24:47.034047Z"
    },
    "papermill": {
     "duration": 0.037284,
     "end_time": "2021-11-30T00:24:47.034560",
     "exception": false,
     "start_time": "2021-11-30T00:24:46.997276",
     "status": "completed"
    },
    "tags": []
   },
   "outputs": [],
   "source": [
    "#hide\n",
    "def get_dates(df):\n",
    "    dt_cols = df.columns[~df.columns.isin(['Province/State', 'Country/Region', 'Lat', 'Long'])]\n",
    "    LAST_DATE_I = -1\n",
    "    # sometimes last column may be empty, then go backwards\n",
    "    for i in range(-1, -len(dt_cols), -1):\n",
    "        if not df[dt_cols[i]].fillna(0).eq(0).all():\n",
    "            LAST_DATE_I = i\n",
    "            break\n",
    "    return LAST_DATE_I, dt_cols"
   ]
  },
  {
   "cell_type": "code",
   "execution_count": 9,
   "id": "recent-optimization",
   "metadata": {
    "execution": {
     "iopub.execute_input": "2021-11-30T00:24:47.098438Z",
     "iopub.status.busy": "2021-11-30T00:24:47.097856Z",
     "iopub.status.idle": "2021-11-30T00:24:47.397043Z",
     "shell.execute_reply": "2021-11-30T00:24:47.397499Z"
    },
    "papermill": {
     "duration": 0.333694,
     "end_time": "2021-11-30T00:24:47.397640",
     "exception": false,
     "start_time": "2021-11-30T00:24:47.063946",
     "status": "completed"
    },
    "tags": []
   },
   "outputs": [],
   "source": [
    "#hide\n",
    "COL_REGION = 'Country/Region'\n",
    "# Confirmed, Recovered, Deaths\n",
    "df = get_frame('confirmed')\n",
    "# dft_: timeseries, dfc_: today country agg\n",
    "dft_cases = df\n",
    "dft_deaths = get_frame('deaths')\n",
    "dft_recovered = get_frame('recovered')\n",
    "LAST_DATE_I, dt_cols = get_dates(df)"
   ]
  },
  {
   "cell_type": "code",
   "execution_count": 10,
   "id": "absolute-copper",
   "metadata": {
    "execution": {
     "iopub.execute_input": "2021-11-30T00:24:47.462684Z",
     "iopub.status.busy": "2021-11-30T00:24:47.462140Z",
     "iopub.status.idle": "2021-11-30T00:24:47.464248Z",
     "shell.execute_reply": "2021-11-30T00:24:47.463749Z"
    },
    "papermill": {
     "duration": 0.036856,
     "end_time": "2021-11-30T00:24:47.464356",
     "exception": false,
     "start_time": "2021-11-30T00:24:47.427500",
     "status": "completed"
    },
    "tags": []
   },
   "outputs": [],
   "source": [
    "#hide\n",
    "LAST_DATE_I, dt_cols = get_dates(df)\n",
    "dt_today =dt_cols[LAST_DATE_I]\n",
    "# dt_5day = dt_cols[LAST_DATE_I - 5]\n",
    "dt_yday = dt_cols[LAST_DATE_I - 1]"
   ]
  },
  {
   "cell_type": "code",
   "execution_count": 11,
   "id": "restricted-sheriff",
   "metadata": {
    "execution": {
     "iopub.execute_input": "2021-11-30T00:24:47.529451Z",
     "iopub.status.busy": "2021-11-30T00:24:47.528950Z",
     "iopub.status.idle": "2021-11-30T00:24:47.536302Z",
     "shell.execute_reply": "2021-11-30T00:24:47.535875Z"
    },
    "papermill": {
     "duration": 0.04238,
     "end_time": "2021-11-30T00:24:47.536405",
     "exception": false,
     "start_time": "2021-11-30T00:24:47.494025",
     "status": "completed"
    },
    "tags": []
   },
   "outputs": [],
   "source": [
    "#hide\n",
    "dfc_cases = dft_cases.groupby(COL_REGION)[dt_today].sum()\n",
    "dfc_deaths = dft_deaths.groupby(COL_REGION)[dt_today].sum()\n",
    "# dfp_cases = dft_cases.groupby(COL_REGION)[dt_5day].sum()\n",
    "# dfp_deaths = dft_deaths.groupby(COL_REGION)[dt_5day].sum()\n",
    "dfp_cases = dft_cases.groupby(COL_REGION)[dt_yday].sum()\n",
    "dfp_deaths = dft_deaths.groupby(COL_REGION)[dt_yday].sum()"
   ]
  },
  {
   "cell_type": "code",
   "execution_count": 12,
   "id": "deluxe-hepatitis",
   "metadata": {
    "execution": {
     "iopub.execute_input": "2021-11-30T00:24:47.601503Z",
     "iopub.status.busy": "2021-11-30T00:24:47.600995Z",
     "iopub.status.idle": "2021-11-30T00:24:47.605219Z",
     "shell.execute_reply": "2021-11-30T00:24:47.605701Z"
    },
    "papermill": {
     "duration": 0.039922,
     "end_time": "2021-11-30T00:24:47.605823",
     "exception": false,
     "start_time": "2021-11-30T00:24:47.565901",
     "status": "completed"
    },
    "tags": []
   },
   "outputs": [],
   "source": [
    "#hide\n",
    "df_table = (pd.DataFrame(dict(Cases = dfc_cases, Deaths = dfc_deaths, PCases = dfp_cases, PDeaths = dfp_deaths))\n",
    "            .sort_values(by = ['Cases','Deaths'], ascending = [False, False])\n",
    "            .reset_index())"
   ]
  },
  {
   "cell_type": "code",
   "execution_count": 13,
   "id": "educational-chancellor",
   "metadata": {
    "execution": {
     "iopub.execute_input": "2021-11-30T00:24:47.682236Z",
     "iopub.status.busy": "2021-11-30T00:24:47.681732Z",
     "iopub.status.idle": "2021-11-30T00:24:47.688769Z",
     "shell.execute_reply": "2021-11-30T00:24:47.689154Z"
    },
    "papermill": {
     "duration": 0.053988,
     "end_time": "2021-11-30T00:24:47.689278",
     "exception": false,
     "start_time": "2021-11-30T00:24:47.635290",
     "status": "completed"
    },
    "tags": []
   },
   "outputs": [
    {
     "data": {
      "text/html": [
       "<div>\n",
       "<style scoped>\n",
       "    .dataframe tbody tr th:only-of-type {\n",
       "        vertical-align: middle;\n",
       "    }\n",
       "\n",
       "    .dataframe tbody tr th {\n",
       "        vertical-align: top;\n",
       "    }\n",
       "\n",
       "    .dataframe thead th {\n",
       "        text-align: right;\n",
       "    }\n",
       "</style>\n",
       "<table border=\"1\" class=\"dataframe\">\n",
       "  <thead>\n",
       "    <tr style=\"text-align: right;\">\n",
       "      <th></th>\n",
       "      <th>Country/Region</th>\n",
       "      <th>Cases</th>\n",
       "      <th>Deaths</th>\n",
       "      <th>PCases</th>\n",
       "      <th>PDeaths</th>\n",
       "      <th>Cases (+)</th>\n",
       "      <th>Deaths (+)</th>\n",
       "      <th>Fatality Rate</th>\n",
       "      <th>Continent</th>\n",
       "    </tr>\n",
       "  </thead>\n",
       "  <tbody>\n",
       "    <tr>\n",
       "      <th>0</th>\n",
       "      <td>US</td>\n",
       "      <td>48229210</td>\n",
       "      <td>776639</td>\n",
       "      <td>48201079</td>\n",
       "      <td>776536</td>\n",
       "      <td>28131</td>\n",
       "      <td>103</td>\n",
       "      <td>1.61</td>\n",
       "      <td>North America</td>\n",
       "    </tr>\n",
       "    <tr>\n",
       "      <th>1</th>\n",
       "      <td>India</td>\n",
       "      <td>34580832</td>\n",
       "      <td>468790</td>\n",
       "      <td>34572523</td>\n",
       "      <td>468554</td>\n",
       "      <td>8309</td>\n",
       "      <td>236</td>\n",
       "      <td>1.36</td>\n",
       "      <td>Asia</td>\n",
       "    </tr>\n",
       "    <tr>\n",
       "      <th>2</th>\n",
       "      <td>Brazil</td>\n",
       "      <td>22080906</td>\n",
       "      <td>614278</td>\n",
       "      <td>22076863</td>\n",
       "      <td>614186</td>\n",
       "      <td>4043</td>\n",
       "      <td>92</td>\n",
       "      <td>2.78</td>\n",
       "      <td>South America</td>\n",
       "    </tr>\n",
       "    <tr>\n",
       "      <th>3</th>\n",
       "      <td>United Kingdom</td>\n",
       "      <td>10202370</td>\n",
       "      <td>145218</td>\n",
       "      <td>10165779</td>\n",
       "      <td>145167</td>\n",
       "      <td>36591</td>\n",
       "      <td>51</td>\n",
       "      <td>1.42</td>\n",
       "      <td>Europe</td>\n",
       "    </tr>\n",
       "    <tr>\n",
       "      <th>4</th>\n",
       "      <td>Russia</td>\n",
       "      <td>9403480</td>\n",
       "      <td>267527</td>\n",
       "      <td>9370694</td>\n",
       "      <td>266337</td>\n",
       "      <td>32786</td>\n",
       "      <td>1190</td>\n",
       "      <td>2.84</td>\n",
       "      <td>Europe</td>\n",
       "    </tr>\n",
       "  </tbody>\n",
       "</table>\n",
       "</div>"
      ],
      "text/plain": [
       "   Country/Region     Cases  Deaths    PCases  PDeaths  Cases (+)  Deaths (+)  \\\n",
       "0              US  48229210  776639  48201079   776536      28131         103   \n",
       "1           India  34580832  468790  34572523   468554       8309         236   \n",
       "2          Brazil  22080906  614278  22076863   614186       4043          92   \n",
       "3  United Kingdom  10202370  145218  10165779   145167      36591          51   \n",
       "4          Russia   9403480  267527   9370694   266337      32786        1190   \n",
       "\n",
       "   Fatality Rate      Continent  \n",
       "0           1.61  North America  \n",
       "1           1.36           Asia  \n",
       "2           2.78  South America  \n",
       "3           1.42         Europe  \n",
       "4           2.84         Europe  "
      ]
     },
     "execution_count": 13,
     "metadata": {},
     "output_type": "execute_result"
    }
   ],
   "source": [
    "#hide\n",
    "for c in 'Cases, Deaths'.split(', '):\n",
    "    df_table[f'{c} (+)'] = (df_table[c] - df_table[f'P{c}']).clip(0)\n",
    "    #Clip ça veut dire, les chiffres negatif sont interdit\n",
    "df_table['Fatality Rate'] = (100* df_table['Deaths']/ df_table['Cases']).round(2)\n",
    "df_table['Continent'] = df_table['Country/Region'].map(mapping['map.continent'])\n",
    "df_table.head(5)"
   ]
  },
  {
   "cell_type": "code",
   "execution_count": 14,
   "id": "aboriginal-bulgaria",
   "metadata": {
    "execution": {
     "iopub.execute_input": "2021-11-30T00:24:47.754222Z",
     "iopub.status.busy": "2021-11-30T00:24:47.753720Z",
     "iopub.status.idle": "2021-11-30T00:24:47.756339Z",
     "shell.execute_reply": "2021-11-30T00:24:47.756849Z"
    },
    "papermill": {
     "duration": 0.037838,
     "end_time": "2021-11-30T00:24:47.756971",
     "exception": false,
     "start_time": "2021-11-30T00:24:47.719133",
     "status": "completed"
    },
    "tags": []
   },
   "outputs": [],
   "source": [
    "#hide\n",
    "#delete problematic countries from table\n",
    "df_table = df_table[~df_table['Country/Region'].isin(['Cape Verde', 'Cruise Ship', 'Kosovo'])]"
   ]
  },
  {
   "cell_type": "code",
   "execution_count": 15,
   "id": "fantastic-effect",
   "metadata": {
    "execution": {
     "iopub.execute_input": "2021-11-30T00:24:47.824165Z",
     "iopub.status.busy": "2021-11-30T00:24:47.823663Z",
     "iopub.status.idle": "2021-11-30T00:24:47.842108Z",
     "shell.execute_reply": "2021-11-30T00:24:47.842542Z"
    },
    "papermill": {
     "duration": 0.055996,
     "end_time": "2021-11-30T00:24:47.842678",
     "exception": false,
     "start_time": "2021-11-30T00:24:47.786682",
     "status": "completed"
    },
    "tags": []
   },
   "outputs": [
    {
     "data": {
      "text/html": [
       "<div>\n",
       "<style scoped>\n",
       "    .dataframe tbody tr th:only-of-type {\n",
       "        vertical-align: middle;\n",
       "    }\n",
       "\n",
       "    .dataframe tbody tr th {\n",
       "        vertical-align: top;\n",
       "    }\n",
       "\n",
       "    .dataframe thead th {\n",
       "        text-align: right;\n",
       "    }\n",
       "</style>\n",
       "<table border=\"1\" class=\"dataframe\">\n",
       "  <thead>\n",
       "    <tr style=\"text-align: right;\">\n",
       "      <th></th>\n",
       "      <th>Country/Region</th>\n",
       "      <th>Cases</th>\n",
       "      <th>Deaths</th>\n",
       "      <th>PCases</th>\n",
       "      <th>PDeaths</th>\n",
       "      <th>Cases (+)</th>\n",
       "      <th>Deaths (+)</th>\n",
       "      <th>Fatality Rate</th>\n",
       "      <th>Continent</th>\n",
       "    </tr>\n",
       "  </thead>\n",
       "  <tbody>\n",
       "    <tr>\n",
       "      <th>0</th>\n",
       "      <td>US</td>\n",
       "      <td>48229210</td>\n",
       "      <td>776639</td>\n",
       "      <td>48201079</td>\n",
       "      <td>776536</td>\n",
       "      <td>28131</td>\n",
       "      <td>103</td>\n",
       "      <td>1.6</td>\n",
       "      <td>North America</td>\n",
       "    </tr>\n",
       "    <tr>\n",
       "      <th>1</th>\n",
       "      <td>India</td>\n",
       "      <td>34580832</td>\n",
       "      <td>468790</td>\n",
       "      <td>34572523</td>\n",
       "      <td>468554</td>\n",
       "      <td>8309</td>\n",
       "      <td>236</td>\n",
       "      <td>1.4</td>\n",
       "      <td>Asia</td>\n",
       "    </tr>\n",
       "    <tr>\n",
       "      <th>2</th>\n",
       "      <td>Brazil</td>\n",
       "      <td>22080906</td>\n",
       "      <td>614278</td>\n",
       "      <td>22076863</td>\n",
       "      <td>614186</td>\n",
       "      <td>4043</td>\n",
       "      <td>92</td>\n",
       "      <td>2.8</td>\n",
       "      <td>South America</td>\n",
       "    </tr>\n",
       "    <tr>\n",
       "      <th>3</th>\n",
       "      <td>United Kingdom</td>\n",
       "      <td>10202370</td>\n",
       "      <td>145218</td>\n",
       "      <td>10165779</td>\n",
       "      <td>145167</td>\n",
       "      <td>36591</td>\n",
       "      <td>51</td>\n",
       "      <td>1.4</td>\n",
       "      <td>Europe</td>\n",
       "    </tr>\n",
       "    <tr>\n",
       "      <th>4</th>\n",
       "      <td>Russia</td>\n",
       "      <td>9403480</td>\n",
       "      <td>267527</td>\n",
       "      <td>9370694</td>\n",
       "      <td>266337</td>\n",
       "      <td>32786</td>\n",
       "      <td>1190</td>\n",
       "      <td>2.8</td>\n",
       "      <td>Europe</td>\n",
       "    </tr>\n",
       "  </tbody>\n",
       "</table>\n",
       "</div>"
      ],
      "text/plain": [
       "   Country/Region     Cases  Deaths    PCases  PDeaths  Cases (+)  Deaths (+)  \\\n",
       "0              US  48229210  776639  48201079   776536      28131         103   \n",
       "1           India  34580832  468790  34572523   468554       8309         236   \n",
       "2          Brazil  22080906  614278  22076863   614186       4043          92   \n",
       "3  United Kingdom  10202370  145218  10165779   145167      36591          51   \n",
       "4          Russia   9403480  267527   9370694   266337      32786        1190   \n",
       "\n",
       "   Fatality Rate      Continent  \n",
       "0            1.6  North America  \n",
       "1            1.4           Asia  \n",
       "2            2.8  South America  \n",
       "3            1.4         Europe  \n",
       "4            2.8         Europe  "
      ]
     },
     "execution_count": 15,
     "metadata": {},
     "output_type": "execute_result"
    }
   ],
   "source": [
    "#hide\n",
    "df_table = (pd.DataFrame(dict(Cases=dfc_cases, Deaths=dfc_deaths, PCases=dfp_cases, PDeaths=dfp_deaths))\n",
    "             .sort_values(by=['Cases', 'Deaths'], ascending=[False, False])\n",
    "             .reset_index())\n",
    "df_table.rename(columns={'index': 'Country/Region'}, inplace=True)\n",
    "for c in 'Cases, Deaths'.split(', '):\n",
    "    df_table[f'{c} (+)'] = (df_table[c] - df_table[f'P{c}']).clip(0)  # DATA BUG\n",
    "df_table['Fatality Rate'] = (100 * df_table['Deaths'] / df_table['Cases']).round(1)\n",
    "df_table['Continent'] = df_table['Country/Region'].map(mapping['map.continent'])\n",
    "df_table.head(5)"
   ]
  },
  {
   "cell_type": "code",
   "execution_count": 16,
   "id": "fewer-occasion",
   "metadata": {
    "execution": {
     "iopub.execute_input": "2021-11-30T00:24:47.911809Z",
     "iopub.status.busy": "2021-11-30T00:24:47.911300Z",
     "iopub.status.idle": "2021-11-30T00:24:47.913687Z",
     "shell.execute_reply": "2021-11-30T00:24:47.913263Z"
    },
    "papermill": {
     "duration": 0.039949,
     "end_time": "2021-11-30T00:24:47.913790",
     "exception": false,
     "start_time": "2021-11-30T00:24:47.873841",
     "status": "completed"
    },
    "tags": []
   },
   "outputs": [],
   "source": [
    "#hide\n",
    "#delete problematic countries from table\n",
    "df_table = df_table[~df_table['Country/Region'].isin(['Cape Verde', 'Cruise Ship', 'Kosovo'])]"
   ]
  },
  {
   "cell_type": "code",
   "execution_count": 17,
   "id": "related-center",
   "metadata": {
    "execution": {
     "iopub.execute_input": "2021-11-30T00:24:47.982189Z",
     "iopub.status.busy": "2021-11-30T00:24:47.981668Z",
     "iopub.status.idle": "2021-11-30T00:24:47.994031Z",
     "shell.execute_reply": "2021-11-30T00:24:47.994436Z"
    },
    "papermill": {
     "duration": 0.050674,
     "end_time": "2021-11-30T00:24:47.994558",
     "exception": false,
     "start_time": "2021-11-30T00:24:47.943884",
     "status": "completed"
    },
    "tags": []
   },
   "outputs": [],
   "source": [
    "#hide\n",
    "metrics = [df_table.columns[index] for index in [1,2,5,6]]\n",
    "# s_china = df_table[df_table['Country/Region'].eq('China')][metrics].sum().add_prefix('China ')\n",
    "s_us = df_table[df_table['Country/Region'].eq('US')][metrics].sum().add_prefix('US ')\n",
    "s_eu = df_table[df_table['Continent'].eq('Europe')][metrics].sum().add_prefix('EU ')\n",
    "s_ind = df_table[df_table['Country/Region'].eq('India')][metrics].sum().add_prefix('India ')\n",
    "summary = {'updated': pd.to_datetime(dt_today), 'since': pd.to_datetime(dt_yday)}\n",
    "summary = {'updated': pd.to_datetime(dt_today), 'since': pd.to_datetime(dt_yday)}\n",
    "summary = {**summary, **df_table[metrics].sum(), **s_ind, **s_us, **s_eu}"
   ]
  },
  {
   "cell_type": "code",
   "execution_count": 18,
   "id": "engaging-syndrome",
   "metadata": {
    "execution": {
     "iopub.execute_input": "2021-11-30T00:24:48.059293Z",
     "iopub.status.busy": "2021-11-30T00:24:48.058792Z",
     "iopub.status.idle": "2021-11-30T00:24:48.073594Z",
     "shell.execute_reply": "2021-11-30T00:24:48.073150Z"
    },
    "papermill": {
     "duration": 0.048925,
     "end_time": "2021-11-30T00:24:48.073708",
     "exception": false,
     "start_time": "2021-11-30T00:24:48.024783",
     "status": "completed"
    },
    "tags": []
   },
   "outputs": [],
   "source": [
    "#hide\n",
    "dft_ct_new_cases = dft_cases.groupby(COL_REGION)[dt_cols].sum().diff(axis=1).fillna(0).astype(int)"
   ]
  },
  {
   "cell_type": "code",
   "execution_count": 19,
   "id": "neutral-assignment",
   "metadata": {
    "execution": {
     "iopub.execute_input": "2021-11-30T00:24:48.139438Z",
     "iopub.status.busy": "2021-11-30T00:24:48.138940Z",
     "iopub.status.idle": "2021-11-30T00:24:48.141505Z",
     "shell.execute_reply": "2021-11-30T00:24:48.141106Z"
    },
    "papermill": {
     "duration": 0.037611,
     "end_time": "2021-11-30T00:24:48.141611",
     "exception": false,
     "start_time": "2021-11-30T00:24:48.104000",
     "status": "completed"
    },
    "tags": []
   },
   "outputs": [],
   "source": [
    "#hide\n",
    "everydaycases = dft_ct_new_cases.cumsum(axis=1)"
   ]
  },
  {
   "cell_type": "code",
   "execution_count": 20,
   "id": "parliamentary-calgary",
   "metadata": {
    "execution": {
     "iopub.execute_input": "2021-11-30T00:24:48.206049Z",
     "iopub.status.busy": "2021-11-30T00:24:48.205542Z",
     "iopub.status.idle": "2021-11-30T00:24:48.824833Z",
     "shell.execute_reply": "2021-11-30T00:24:48.824275Z"
    },
    "papermill": {
     "duration": 0.653218,
     "end_time": "2021-11-30T00:24:48.824979",
     "exception": false,
     "start_time": "2021-11-30T00:24:48.171761",
     "status": "completed"
    },
    "tags": []
   },
   "outputs": [],
   "source": [
    "#hide\n",
    "import pandas as pd\n",
    "import matplotlib.pyplot as plt\n",
    "import matplotlib.ticker as ticker\n",
    "import matplotlib.animation as animation\n",
    "from IPython.display import HTML"
   ]
  },
  {
   "cell_type": "code",
   "execution_count": 21,
   "id": "lasting-extraction",
   "metadata": {
    "execution": {
     "iopub.execute_input": "2021-11-30T00:24:48.891394Z",
     "iopub.status.busy": "2021-11-30T00:24:48.890884Z",
     "iopub.status.idle": "2021-11-30T00:24:48.896983Z",
     "shell.execute_reply": "2021-11-30T00:24:48.896566Z"
    },
    "papermill": {
     "duration": 0.041689,
     "end_time": "2021-11-30T00:24:48.897095",
     "exception": false,
     "start_time": "2021-11-30T00:24:48.855406",
     "status": "completed"
    },
    "tags": []
   },
   "outputs": [],
   "source": [
    "#hide\n",
    "t = everydaycases.stack()"
   ]
  },
  {
   "cell_type": "code",
   "execution_count": 22,
   "id": "premier-sleeve",
   "metadata": {
    "execution": {
     "iopub.execute_input": "2021-11-30T00:24:48.961926Z",
     "iopub.status.busy": "2021-11-30T00:24:48.961415Z",
     "iopub.status.idle": "2021-11-30T00:24:48.970909Z",
     "shell.execute_reply": "2021-11-30T00:24:48.971317Z"
    },
    "papermill": {
     "duration": 0.043933,
     "end_time": "2021-11-30T00:24:48.971443",
     "exception": false,
     "start_time": "2021-11-30T00:24:48.927510",
     "status": "completed"
    },
    "tags": []
   },
   "outputs": [],
   "source": [
    "#hide\n",
    "g = t.reset_index(['Country/Region'])"
   ]
  },
  {
   "cell_type": "code",
   "execution_count": 23,
   "id": "distributed-pittsburgh",
   "metadata": {
    "execution": {
     "iopub.execute_input": "2021-11-30T00:24:49.035670Z",
     "iopub.status.busy": "2021-11-30T00:24:49.035079Z",
     "iopub.status.idle": "2021-11-30T00:24:49.038916Z",
     "shell.execute_reply": "2021-11-30T00:24:49.038497Z"
    },
    "papermill": {
     "duration": 0.037535,
     "end_time": "2021-11-30T00:24:49.039025",
     "exception": false,
     "start_time": "2021-11-30T00:24:49.001490",
     "status": "completed"
    },
    "tags": []
   },
   "outputs": [],
   "source": [
    "#hide\n",
    "g.index.name = 'date'"
   ]
  },
  {
   "cell_type": "code",
   "execution_count": 24,
   "id": "naked-donor",
   "metadata": {
    "execution": {
     "iopub.execute_input": "2021-11-30T00:24:49.103557Z",
     "iopub.status.busy": "2021-11-30T00:24:49.102951Z",
     "iopub.status.idle": "2021-11-30T00:24:49.105006Z",
     "shell.execute_reply": "2021-11-30T00:24:49.104405Z"
    },
    "papermill": {
     "duration": 0.03563,
     "end_time": "2021-11-30T00:24:49.105126",
     "exception": false,
     "start_time": "2021-11-30T00:24:49.069496",
     "status": "completed"
    },
    "tags": []
   },
   "outputs": [],
   "source": [
    "# #hide\n",
    "# g = g.reset_index(['date'])"
   ]
  },
  {
   "cell_type": "code",
   "execution_count": 25,
   "id": "incomplete-mustang",
   "metadata": {
    "execution": {
     "iopub.execute_input": "2021-11-30T00:24:49.169871Z",
     "iopub.status.busy": "2021-11-30T00:24:49.169282Z",
     "iopub.status.idle": "2021-11-30T00:24:49.171308Z",
     "shell.execute_reply": "2021-11-30T00:24:49.170900Z"
    },
    "papermill": {
     "duration": 0.035427,
     "end_time": "2021-11-30T00:24:49.171416",
     "exception": false,
     "start_time": "2021-11-30T00:24:49.135989",
     "status": "completed"
    },
    "tags": []
   },
   "outputs": [],
   "source": [
    "#hide\n",
    "# g.head()"
   ]
  },
  {
   "cell_type": "code",
   "execution_count": 26,
   "id": "specific-kruger",
   "metadata": {
    "execution": {
     "iopub.execute_input": "2021-11-30T00:24:49.235670Z",
     "iopub.status.busy": "2021-11-30T00:24:49.235065Z",
     "iopub.status.idle": "2021-11-30T00:24:49.238334Z",
     "shell.execute_reply": "2021-11-30T00:24:49.238774Z"
    },
    "papermill": {
     "duration": 0.037173,
     "end_time": "2021-11-30T00:24:49.238917",
     "exception": false,
     "start_time": "2021-11-30T00:24:49.201744",
     "status": "completed"
    },
    "tags": []
   },
   "outputs": [],
   "source": [
    "#hide\n",
    "# g.columns = ['date','country','cases']"
   ]
  },
  {
   "cell_type": "code",
   "execution_count": 27,
   "id": "tender-conversion",
   "metadata": {
    "execution": {
     "iopub.execute_input": "2021-11-30T00:24:49.303339Z",
     "iopub.status.busy": "2021-11-30T00:24:49.302805Z",
     "iopub.status.idle": "2021-11-30T00:24:49.306474Z",
     "shell.execute_reply": "2021-11-30T00:24:49.306062Z"
    },
    "papermill": {
     "duration": 0.037151,
     "end_time": "2021-11-30T00:24:49.306587",
     "exception": false,
     "start_time": "2021-11-30T00:24:49.269436",
     "status": "completed"
    },
    "tags": []
   },
   "outputs": [],
   "source": [
    "#hide\n",
    "# g['continent'] = g.country"
   ]
  },
  {
   "cell_type": "code",
   "execution_count": 28,
   "id": "substantial-wilderness",
   "metadata": {
    "execution": {
     "iopub.execute_input": "2021-11-30T00:24:49.371201Z",
     "iopub.status.busy": "2021-11-30T00:24:49.370591Z",
     "iopub.status.idle": "2021-11-30T00:24:49.372536Z",
     "shell.execute_reply": "2021-11-30T00:24:49.372006Z"
    },
    "papermill": {
     "duration": 0.035474,
     "end_time": "2021-11-30T00:24:49.372645",
     "exception": false,
     "start_time": "2021-11-30T00:24:49.337171",
     "status": "completed"
    },
    "tags": []
   },
   "outputs": [],
   "source": [
    "#hide\n",
    "# cols = list(g.columns.values)"
   ]
  },
  {
   "cell_type": "code",
   "execution_count": 29,
   "id": "solved-farming",
   "metadata": {
    "execution": {
     "iopub.execute_input": "2021-11-30T00:24:49.436529Z",
     "iopub.status.busy": "2021-11-30T00:24:49.435920Z",
     "iopub.status.idle": "2021-11-30T00:24:49.438031Z",
     "shell.execute_reply": "2021-11-30T00:24:49.437468Z"
    },
    "papermill": {
     "duration": 0.03537,
     "end_time": "2021-11-30T00:24:49.438151",
     "exception": false,
     "start_time": "2021-11-30T00:24:49.402781",
     "status": "completed"
    },
    "tags": []
   },
   "outputs": [],
   "source": [
    "#hide\n",
    "# cols.insert(0, cols.pop())"
   ]
  },
  {
   "cell_type": "code",
   "execution_count": 30,
   "id": "executed-adoption",
   "metadata": {
    "execution": {
     "iopub.execute_input": "2021-11-30T00:24:49.503066Z",
     "iopub.status.busy": "2021-11-30T00:24:49.502500Z",
     "iopub.status.idle": "2021-11-30T00:24:49.506143Z",
     "shell.execute_reply": "2021-11-30T00:24:49.505735Z"
    },
    "papermill": {
     "duration": 0.037213,
     "end_time": "2021-11-30T00:24:49.506254",
     "exception": false,
     "start_time": "2021-11-30T00:24:49.469041",
     "status": "completed"
    },
    "tags": []
   },
   "outputs": [],
   "source": [
    "#hide\n",
    "# g = g[cols]"
   ]
  },
  {
   "cell_type": "code",
   "execution_count": 31,
   "id": "subject-dublin",
   "metadata": {
    "execution": {
     "iopub.execute_input": "2021-11-30T00:24:49.569975Z",
     "iopub.status.busy": "2021-11-30T00:24:49.569402Z",
     "iopub.status.idle": "2021-11-30T00:24:49.571311Z",
     "shell.execute_reply": "2021-11-30T00:24:49.570752Z"
    },
    "papermill": {
     "duration": 0.034976,
     "end_time": "2021-11-30T00:24:49.571426",
     "exception": false,
     "start_time": "2021-11-30T00:24:49.536450",
     "status": "completed"
    },
    "tags": []
   },
   "outputs": [],
   "source": [
    "#hide\n",
    "# g['continent'] = g['continent'].map(mapping['map.continent'])"
   ]
  },
  {
   "cell_type": "code",
   "execution_count": 32,
   "id": "freelance-scout",
   "metadata": {
    "execution": {
     "iopub.execute_input": "2021-11-30T00:24:49.635589Z",
     "iopub.status.busy": "2021-11-30T00:24:49.635032Z",
     "iopub.status.idle": "2021-11-30T00:24:49.638149Z",
     "shell.execute_reply": "2021-11-30T00:24:49.638532Z"
    },
    "papermill": {
     "duration": 0.036689,
     "end_time": "2021-11-30T00:24:49.638654",
     "exception": false,
     "start_time": "2021-11-30T00:24:49.601965",
     "status": "completed"
    },
    "tags": []
   },
   "outputs": [],
   "source": [
    "#hide\n",
    "# g.head()"
   ]
  },
  {
   "cell_type": "code",
   "execution_count": 33,
   "id": "limited-engine",
   "metadata": {
    "execution": {
     "iopub.execute_input": "2021-11-30T00:24:49.701993Z",
     "iopub.status.busy": "2021-11-30T00:24:49.701420Z",
     "iopub.status.idle": "2021-11-30T00:24:49.703302Z",
     "shell.execute_reply": "2021-11-30T00:24:49.702734Z"
    },
    "papermill": {
     "duration": 0.034732,
     "end_time": "2021-11-30T00:24:49.703417",
     "exception": false,
     "start_time": "2021-11-30T00:24:49.668685",
     "status": "completed"
    },
    "tags": []
   },
   "outputs": [],
   "source": [
    "# hide\n",
    "# g['date'] = g['date'].astype('datetime64[ns]')"
   ]
  },
  {
   "cell_type": "code",
   "execution_count": 34,
   "id": "sophisticated-supervisor",
   "metadata": {
    "execution": {
     "iopub.execute_input": "2021-11-30T00:24:49.768296Z",
     "iopub.status.busy": "2021-11-30T00:24:49.767749Z",
     "iopub.status.idle": "2021-11-30T00:24:49.771343Z",
     "shell.execute_reply": "2021-11-30T00:24:49.770939Z"
    },
    "papermill": {
     "duration": 0.03711,
     "end_time": "2021-11-30T00:24:49.771453",
     "exception": false,
     "start_time": "2021-11-30T00:24:49.734343",
     "status": "completed"
    },
    "tags": []
   },
   "outputs": [],
   "source": [
    "#hide\n",
    "# g['date'] = g.date.dt.dayofyear"
   ]
  },
  {
   "cell_type": "code",
   "execution_count": 35,
   "id": "inside-dubai",
   "metadata": {
    "execution": {
     "iopub.execute_input": "2021-11-30T00:24:49.835468Z",
     "iopub.status.busy": "2021-11-30T00:24:49.834956Z",
     "iopub.status.idle": "2021-11-30T00:24:49.837158Z",
     "shell.execute_reply": "2021-11-30T00:24:49.836642Z"
    },
    "papermill": {
     "duration": 0.035538,
     "end_time": "2021-11-30T00:24:49.837264",
     "exception": false,
     "start_time": "2021-11-30T00:24:49.801726",
     "status": "completed"
    },
    "tags": []
   },
   "outputs": [],
   "source": [
    "#hide\n",
    "# g = g.rename(columns= {'continent':'group','country':'name','cases':'value'})"
   ]
  },
  {
   "cell_type": "code",
   "execution_count": 36,
   "id": "fleet-motorcycle",
   "metadata": {
    "execution": {
     "iopub.execute_input": "2021-11-30T00:24:49.901313Z",
     "iopub.status.busy": "2021-11-30T00:24:49.900723Z",
     "iopub.status.idle": "2021-11-30T00:24:49.902866Z",
     "shell.execute_reply": "2021-11-30T00:24:49.902383Z"
    },
    "papermill": {
     "duration": 0.035429,
     "end_time": "2021-11-30T00:24:49.902979",
     "exception": false,
     "start_time": "2021-11-30T00:24:49.867550",
     "status": "completed"
    },
    "tags": []
   },
   "outputs": [],
   "source": [
    "#hide\n",
    "# cols = ['name','group','day','value']"
   ]
  },
  {
   "cell_type": "code",
   "execution_count": 37,
   "id": "continued-sleeping",
   "metadata": {
    "execution": {
     "iopub.execute_input": "2021-11-30T00:24:49.967488Z",
     "iopub.status.busy": "2021-11-30T00:24:49.966906Z",
     "iopub.status.idle": "2021-11-30T00:24:49.969118Z",
     "shell.execute_reply": "2021-11-30T00:24:49.968679Z"
    },
    "papermill": {
     "duration": 0.035422,
     "end_time": "2021-11-30T00:24:49.969224",
     "exception": false,
     "start_time": "2021-11-30T00:24:49.933802",
     "status": "completed"
    },
    "tags": []
   },
   "outputs": [],
   "source": [
    "#hide\n",
    "# g.rename(columns= {'date':'day'},inplace = True)"
   ]
  },
  {
   "cell_type": "code",
   "execution_count": 38,
   "id": "major-fight",
   "metadata": {
    "execution": {
     "iopub.execute_input": "2021-11-30T00:24:50.033146Z",
     "iopub.status.busy": "2021-11-30T00:24:50.032534Z",
     "iopub.status.idle": "2021-11-30T00:24:50.034537Z",
     "shell.execute_reply": "2021-11-30T00:24:50.033969Z"
    },
    "papermill": {
     "duration": 0.035281,
     "end_time": "2021-11-30T00:24:50.034654",
     "exception": false,
     "start_time": "2021-11-30T00:24:49.999373",
     "status": "completed"
    },
    "tags": []
   },
   "outputs": [],
   "source": [
    "#hide\n",
    "# g = g[cols]"
   ]
  },
  {
   "cell_type": "code",
   "execution_count": 39,
   "id": "structured-mobile",
   "metadata": {
    "execution": {
     "iopub.execute_input": "2021-11-30T00:24:50.099787Z",
     "iopub.status.busy": "2021-11-30T00:24:50.099177Z",
     "iopub.status.idle": "2021-11-30T00:24:50.102682Z",
     "shell.execute_reply": "2021-11-30T00:24:50.102228Z"
    },
    "papermill": {
     "duration": 0.03716,
     "end_time": "2021-11-30T00:24:50.102792",
     "exception": false,
     "start_time": "2021-11-30T00:24:50.065632",
     "status": "completed"
    },
    "tags": []
   },
   "outputs": [],
   "source": [
    "# #hide\n",
    "# g = g[g.group.notna()]"
   ]
  },
  {
   "cell_type": "code",
   "execution_count": 40,
   "id": "determined-closing",
   "metadata": {
    "execution": {
     "iopub.execute_input": "2021-11-30T00:24:50.167016Z",
     "iopub.status.busy": "2021-11-30T00:24:50.166418Z",
     "iopub.status.idle": "2021-11-30T00:24:50.168088Z",
     "shell.execute_reply": "2021-11-30T00:24:50.168548Z"
    },
    "papermill": {
     "duration": 0.035547,
     "end_time": "2021-11-30T00:24:50.168694",
     "exception": false,
     "start_time": "2021-11-30T00:24:50.133147",
     "status": "completed"
    },
    "tags": []
   },
   "outputs": [],
   "source": [
    "# #hide\n",
    "# colors = dict(zip(\n",
    "#     [\"Oceania\", \"Europe\", \"Asia\", \"South America\", \"Middle East\", \"North America\", \"Africa\"],\n",
    "#     [\"#adb0ff\", \"#ffb3ff\", \"#90d595\", \"#e48381\", \"#aafbff\", \"#f7bb5f\", \"#eafb50\"]\n",
    "# ))\n",
    "# group_lk = g.set_index('name')['group'].to_dict()"
   ]
  },
  {
   "cell_type": "code",
   "execution_count": null,
   "id": "gross-drinking",
   "metadata": {
    "papermill": {
     "duration": 0.030139,
     "end_time": "2021-11-30T00:24:50.229416",
     "exception": false,
     "start_time": "2021-11-30T00:24:50.199277",
     "status": "completed"
    },
    "tags": []
   },
   "outputs": [],
   "source": []
  },
  {
   "cell_type": "code",
   "execution_count": 41,
   "id": "subject-macintosh",
   "metadata": {
    "execution": {
     "iopub.execute_input": "2021-11-30T00:24:50.294299Z",
     "iopub.status.busy": "2021-11-30T00:24:50.293703Z",
     "iopub.status.idle": "2021-11-30T00:24:50.296206Z",
     "shell.execute_reply": "2021-11-30T00:24:50.296612Z"
    },
    "papermill": {
     "duration": 0.037082,
     "end_time": "2021-11-30T00:24:50.296744",
     "exception": false,
     "start_time": "2021-11-30T00:24:50.259662",
     "status": "completed"
    },
    "tags": []
   },
   "outputs": [],
   "source": [
    "# #hide\n",
    "# fig, ax = plt.subplots(figsize=(15, 8))\n",
    "\n",
    "# def draw_barchart(current_day):\n",
    "#     dff = g[g['day'].eq(current_day)].sort_values(by='value', ascending=True).tail(10)\n",
    "#     ax.clear()\n",
    "#     ax.barh(dff['name'], dff['value'], color=[colors[group_lk[x]] for x in dff['name']])\n",
    "#     dx = dff['value'].max() / 200\n",
    "    \n",
    "#     for i, (value, name) in enumerate(zip(dff['value'], dff['name'])):\n",
    "#         ax.text(value-dx, i,     name,           size=14, weight=600, ha='right', va='bottom')\n",
    "#         ax.text(value-dx, i-.25, group_lk[name], size=10, color='#444444', ha='right', va='baseline')\n",
    "#         ax.text(value+dx, i,     f'{value:,.0f}',  size=14, ha='left',  va='center')\n",
    "#     ax.text(1, 0.4, current_day, transform=ax.transAxes, color='#777777', size=46, ha='right', weight=800)\n",
    "#     ax.text(0, 1.06, 'Population (thousands)', transform=ax.transAxes, size=12, color='#777777')\n",
    "#     ax.xaxis.set_major_formatter(ticker.StrMethodFormatter('{x:,.0f}'))\n",
    "#     ax.xaxis.set_ticks_position('top')\n",
    "#     ax.tick_params(axis='x', colors='#777777', labelsize=12)\n",
    "#     ax.set_yticks([])\n",
    "#     ax.margins(0, 0.01)\n",
    "#     ax.grid(which='major', axis='x', linestyle='-')\n",
    "#     ax.set_axisbelow(True)\n",
    "    \n",
    "#     ax.text(0, 1.15, 'Coronavirus',\n",
    "#             transform=ax.transAxes, size=24, weight=600, ha='left', va='top')\n",
    "# #     ax.text(1, 0, 'by @pratapvardhan; credit @jburnmurdoch', transform=ax.transAxes, color='#777777', ha='right',\n",
    "# #             bbox=dict(facecolor='white', alpha=0.8, edgecolor='white'))\n",
    "#     plt.box(False)"
   ]
  },
  {
   "cell_type": "code",
   "execution_count": 42,
   "id": "sexual-wages",
   "metadata": {
    "execution": {
     "iopub.execute_input": "2021-11-30T00:24:50.360864Z",
     "iopub.status.busy": "2021-11-30T00:24:50.360329Z",
     "iopub.status.idle": "2021-11-30T00:24:50.362232Z",
     "shell.execute_reply": "2021-11-30T00:24:50.362614Z"
    },
    "papermill": {
     "duration": 0.035741,
     "end_time": "2021-11-30T00:24:50.362742",
     "exception": false,
     "start_time": "2021-11-30T00:24:50.327001",
     "status": "completed"
    },
    "tags": []
   },
   "outputs": [],
   "source": [
    "# #hide_input\n",
    "# fig, ax = plt.subplots(figsize=(15, 8))\n",
    "# animator = animation.FuncAnimation(fig, draw_barchart, frames=range(g.day.values.min(), g.day.values.max()))\n",
    "# HTML(animator.to_jshtml())\n",
    "# # or use animator.to_html5_video() or animator.save() "
   ]
  },
  {
   "cell_type": "code",
   "execution_count": null,
   "id": "australian-container",
   "metadata": {
    "papermill": {
     "duration": 0.030132,
     "end_time": "2021-11-30T00:24:50.423106",
     "exception": false,
     "start_time": "2021-11-30T00:24:50.392974",
     "status": "completed"
    },
    "tags": []
   },
   "outputs": [],
   "source": []
  },
  {
   "cell_type": "code",
   "execution_count": null,
   "id": "mediterranean-pontiac",
   "metadata": {
    "papermill": {
     "duration": 0.030114,
     "end_time": "2021-11-30T00:24:50.483292",
     "exception": false,
     "start_time": "2021-11-30T00:24:50.453178",
     "status": "completed"
    },
    "tags": []
   },
   "outputs": [],
   "source": []
  },
  {
   "cell_type": "code",
   "execution_count": null,
   "id": "aging-legislature",
   "metadata": {
    "papermill": {
     "duration": 0.030006,
     "end_time": "2021-11-30T00:24:50.544174",
     "exception": false,
     "start_time": "2021-11-30T00:24:50.514168",
     "status": "completed"
    },
    "tags": []
   },
   "outputs": [],
   "source": []
  }
 ],
 "metadata": {
  "kernelspec": {
   "display_name": "Python 3",
   "language": "python",
   "name": "python3"
  },
  "language_info": {
   "codemirror_mode": {
    "name": "ipython",
    "version": 3
   },
   "file_extension": ".py",
   "mimetype": "text/x-python",
   "name": "python",
   "nbconvert_exporter": "python",
   "pygments_lexer": "ipython3",
   "version": "3.6.15"
  },
  "papermill": {
   "duration": 5.682292,
   "end_time": "2021-11-30T00:24:50.881619",
   "environment_variables": {},
   "exception": null,
   "input_path": "2020-03-21-covid19exp.ipynb",
   "output_path": "2020-03-21-covid19exp.ipynb",
   "parameters": {},
   "start_time": "2021-11-30T00:24:45.199327",
   "version": "2.0.0"
  }
 },
 "nbformat": 4,
 "nbformat_minor": 5
}