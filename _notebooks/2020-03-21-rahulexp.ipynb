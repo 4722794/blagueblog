{
 "cells": [
  {
   "cell_type": "markdown",
   "id": "substantial-verification",
   "metadata": {
    "papermill": {
     "duration": 0.018179,
     "end_time": "2021-03-14T00:11:20.145282",
     "exception": false,
     "start_time": "2021-03-14T00:11:20.127103",
     "status": "completed"
    },
    "tags": []
   },
   "source": [
    "# COVID-19 India Matplotlib Overview\n",
    "> Tracking coronavirus total cases, deaths and new cases in India\n",
    "\n",
    "- author: Hargun Oberoi\n",
    "- image: images/covid-overview.png\n",
    "- permalink: /covid-overview-linde-matplotlib/\n",
    "- hide: false\n",
    "- badges: false"
   ]
  },
  {
   "cell_type": "code",
   "execution_count": 1,
   "id": "fatty-craft",
   "metadata": {
    "execution": {
     "iopub.execute_input": "2021-03-14T00:11:20.186939Z",
     "iopub.status.busy": "2021-03-14T00:11:20.186436Z",
     "iopub.status.idle": "2021-03-14T00:11:20.914629Z",
     "shell.execute_reply": "2021-03-14T00:11:20.913645Z"
    },
    "papermill": {
     "duration": 0.754751,
     "end_time": "2021-03-14T00:11:20.914753",
     "exception": false,
     "start_time": "2021-03-14T00:11:20.160002",
     "status": "completed"
    },
    "tags": []
   },
   "outputs": [],
   "source": [
    "#hide\n",
    "import pandas as pd\n",
    "import numpy as np\n",
    "import requests\n",
    "import datetime as dt\n",
    "from jinja2 import Template\n",
    "from IPython.display import HTML\n",
    "import json\n",
    "import matplotlib.pyplot as plt\n",
    "import matplotlib.dates as mdates\n",
    "import matplotlib as mpl\n",
    "import seaborn as sns"
   ]
  },
  {
   "cell_type": "code",
   "execution_count": 2,
   "id": "regional-sierra",
   "metadata": {
    "execution": {
     "iopub.execute_input": "2021-03-14T00:11:20.945475Z",
     "iopub.status.busy": "2021-03-14T00:11:20.942352Z",
     "iopub.status.idle": "2021-03-14T00:11:20.970720Z",
     "shell.execute_reply": "2021-03-14T00:11:20.970036Z"
    },
    "papermill": {
     "duration": 0.043732,
     "end_time": "2021-03-14T00:11:20.970890",
     "exception": false,
     "start_time": "2021-03-14T00:11:20.927158",
     "status": "completed"
    },
    "tags": []
   },
   "outputs": [],
   "source": [
    "#hide\n",
    "url = 'https://raw.githubusercontent.com/hargun3045/dashboards/master/abb_dict.json'\n",
    "r = requests.get(url)\n",
    "abb_dict = r.json()"
   ]
  },
  {
   "cell_type": "code",
   "execution_count": 3,
   "id": "suburban-democracy",
   "metadata": {
    "execution": {
     "iopub.execute_input": "2021-03-14T00:11:21.006019Z",
     "iopub.status.busy": "2021-03-14T00:11:21.005176Z",
     "iopub.status.idle": "2021-03-14T00:11:21.006898Z",
     "shell.execute_reply": "2021-03-14T00:11:21.007593Z"
    },
    "papermill": {
     "duration": 0.02063,
     "end_time": "2021-03-14T00:11:21.007771",
     "exception": false,
     "start_time": "2021-03-14T00:11:20.987141",
     "status": "completed"
    },
    "tags": []
   },
   "outputs": [],
   "source": [
    "#hide\n",
    "#write a function that checks if all last index values are zero, and also selects the appropriate date columns\n",
    "def get_dates(df):\n",
    "    dt_cols = df.columns[~df.columns.isin(['stateABB','states'])]\n",
    "    valid_i = -1\n",
    "    for i in range(-1,-len(dt_cols),-1):\n",
    "        if not df[dt_cols[i]].fillna(0).eq(0).all():\n",
    "            valid_i = i\n",
    "            break\n",
    "    return valid_i, dt_cols"
   ]
  },
  {
   "cell_type": "code",
   "execution_count": 4,
   "id": "historical-pound",
   "metadata": {
    "execution": {
     "iopub.execute_input": "2021-03-14T00:11:21.042042Z",
     "iopub.status.busy": "2021-03-14T00:11:21.039847Z",
     "iopub.status.idle": "2021-03-14T00:11:21.043955Z",
     "shell.execute_reply": "2021-03-14T00:11:21.043549Z"
    },
    "papermill": {
     "duration": 0.02358,
     "end_time": "2021-03-14T00:11:21.044046",
     "exception": false,
     "start_time": "2021-03-14T00:11:21.020466",
     "status": "completed"
    },
    "tags": []
   },
   "outputs": [],
   "source": [
    "#hide\n",
    "def get_frame(name):\n",
    "#    pdb.set_trace()\n",
    "    url = f'http://api.covid19india.org/states_daily_csv/{name}.csv'\n",
    "    df = pd.read_csv(url)\n",
    "    df.set_index('date',inplace = True)\n",
    "    df = df.T\n",
    "    df = df.iloc[:-1,:]\n",
    "    df.fillna(0,inplace=True)\n",
    "    df = df[df.columns].astype(int)\n",
    "    df = df.rename_axis('stateABB').reset_index()\n",
    "    df['states'] = df['stateABB'].map(abb_dict)\n",
    "    df = df[[df.columns[-1]] + list(df.columns[:-1])]\n",
    "    df =df.iloc[1:,:]\n",
    "    df = df[df.states.notna()]\n",
    "    df.sort_values(by = [df.columns[-1]], ascending = False, inplace = True)\n",
    "    df.drop(['stateABB'],axis = 1)\n",
    "    df = df.groupby('states').sum().cumsum(axis=1)\n",
    "    df.reset_index(inplace = True)\n",
    "    return df"
   ]
  },
  {
   "cell_type": "code",
   "execution_count": 5,
   "id": "mechanical-andrews",
   "metadata": {
    "execution": {
     "iopub.execute_input": "2021-03-14T00:11:21.073865Z",
     "iopub.status.busy": "2021-03-14T00:11:21.073295Z",
     "iopub.status.idle": "2021-03-14T00:11:21.075510Z",
     "shell.execute_reply": "2021-03-14T00:11:21.076072Z"
    },
    "papermill": {
     "duration": 0.019687,
     "end_time": "2021-03-14T00:11:21.076204",
     "exception": false,
     "start_time": "2021-03-14T00:11:21.056517",
     "status": "completed"
    },
    "tags": []
   },
   "outputs": [],
   "source": [
    "#hide\n",
    "# dft_cases = get_frame('confirmed')\n",
    "# dft_deaths = get_frame('deceased')"
   ]
  },
  {
   "cell_type": "code",
   "execution_count": 6,
   "id": "needed-baseball",
   "metadata": {
    "execution": {
     "iopub.execute_input": "2021-03-14T00:11:21.108231Z",
     "iopub.status.busy": "2021-03-14T00:11:21.107763Z",
     "iopub.status.idle": "2021-03-14T00:11:21.109975Z",
     "shell.execute_reply": "2021-03-14T00:11:21.110536Z"
    },
    "papermill": {
     "duration": 0.020206,
     "end_time": "2021-03-14T00:11:21.110657",
     "exception": false,
     "start_time": "2021-03-14T00:11:21.090451",
     "status": "completed"
    },
    "tags": []
   },
   "outputs": [],
   "source": [
    "#hide\n",
    "# valid_i, dt_cols = get_dates(dft_cases)\n",
    "# dt_today = dt_cols[valid_i]\n",
    "# dt_yday = dt_cols[valid_i -1]"
   ]
  },
  {
   "cell_type": "code",
   "execution_count": 7,
   "id": "funded-dress",
   "metadata": {
    "execution": {
     "iopub.execute_input": "2021-03-14T00:11:21.140180Z",
     "iopub.status.busy": "2021-03-14T00:11:21.139700Z",
     "iopub.status.idle": "2021-03-14T00:11:21.142421Z",
     "shell.execute_reply": "2021-03-14T00:11:21.141937Z"
    },
    "papermill": {
     "duration": 0.017918,
     "end_time": "2021-03-14T00:11:21.142529",
     "exception": false,
     "start_time": "2021-03-14T00:11:21.124611",
     "status": "completed"
    },
    "tags": []
   },
   "outputs": [],
   "source": [
    "#hide\n",
    "# dfc_cases = dft_cases.groupby('states')[dt_today].sum()\n",
    "# dfc_deaths = dft_deaths.groupby('states')[dt_today].sum()\n",
    "# dfp_cases = dft_cases.groupby('states')[dt_yday].sum()\n",
    "# dfp_deaths = dft_deaths.groupby('states')[dt_yday].sum()"
   ]
  },
  {
   "cell_type": "code",
   "execution_count": 8,
   "id": "clear-occupation",
   "metadata": {
    "execution": {
     "iopub.execute_input": "2021-03-14T00:11:21.170036Z",
     "iopub.status.busy": "2021-03-14T00:11:21.169493Z",
     "iopub.status.idle": "2021-03-14T00:11:21.171468Z",
     "shell.execute_reply": "2021-03-14T00:11:21.171117Z"
    },
    "papermill": {
     "duration": 0.016765,
     "end_time": "2021-03-14T00:11:21.171553",
     "exception": false,
     "start_time": "2021-03-14T00:11:21.154788",
     "status": "completed"
    },
    "tags": []
   },
   "outputs": [],
   "source": [
    "# #hide\n",
    "# # Build the cases table\n",
    "# df_table = (pd.DataFrame(dict(Cases = dfc_cases, Deaths = dfc_deaths, PCases = dfp_cases, PDeaths = dfp_deaths))\n",
    "#             .sort_values(by = ['Cases','Deaths'], ascending = [False, False])\n",
    "#             .reset_index())\n",
    "# for c in 'Cases, Deaths'.split(', '):\n",
    "#     df_table[f'{c} (+)'] = (df_table[c] - df_table[f'P{c}']).clip(0)\n",
    "#     #Clip ça veut dire, les chiffres negatif sont interdit\n",
    "# df_table['Fatality Rate'] = (100* df_table['Deaths']/ df_table['Cases']).round(2)"
   ]
  },
  {
   "cell_type": "code",
   "execution_count": 9,
   "id": "sitting-flavor",
   "metadata": {
    "execution": {
     "iopub.execute_input": "2021-03-14T00:11:21.201000Z",
     "iopub.status.busy": "2021-03-14T00:11:21.200367Z",
     "iopub.status.idle": "2021-03-14T00:11:21.201814Z",
     "shell.execute_reply": "2021-03-14T00:11:21.202264Z"
    },
    "papermill": {
     "duration": 0.018812,
     "end_time": "2021-03-14T00:11:21.202376",
     "exception": false,
     "start_time": "2021-03-14T00:11:21.183564",
     "status": "completed"
    },
    "tags": []
   },
   "outputs": [],
   "source": [
    "# #hide\n",
    "# #Building the summary tab\n",
    "# metrics = [df_table.columns[index] for index in [1,2,5,6]]\n",
    "# s_mah = df_table[df_table.states == 'Maharashtra'][metrics].sum().add_prefix('MH ').astype(int)\n",
    "# s_del = df_table[df_table.states =='Delhi'][metrics].sum().add_prefix('DEL ').astype(int)\n",
    "# s_guj = df_table[df_table.states == 'Gujarat'][metrics].sum().add_prefix('GUJ ').astype(int)\n",
    "# summary = {'updated': pd.to_datetime(dt_today).date(), 'since': pd.to_datetime(dt_yday).date()}\n",
    "# summary = {**summary, **df_table[metrics].sum().astype(int), **s_mah, **s_del, **s_guj}"
   ]
  },
  {
   "cell_type": "code",
   "execution_count": 10,
   "id": "fatty-legislature",
   "metadata": {
    "execution": {
     "iopub.execute_input": "2021-03-14T00:11:21.234608Z",
     "iopub.status.busy": "2021-03-14T00:11:21.234200Z",
     "iopub.status.idle": "2021-03-14T00:11:21.237155Z",
     "shell.execute_reply": "2021-03-14T00:11:21.236730Z"
    },
    "papermill": {
     "duration": 0.020309,
     "end_time": "2021-03-14T00:11:21.237246",
     "exception": false,
     "start_time": "2021-03-14T00:11:21.216937",
     "status": "completed"
    },
    "tags": []
   },
   "outputs": [],
   "source": [
    "# #hide\n",
    "# def myconverter(obj):\n",
    "#         if isinstance(obj, np.integer):\n",
    "#             return int(obj)\n",
    "#         elif isinstance(obj, np.floating):\n",
    "#             return float(obj)\n",
    "#         elif isinstance(obj, np.ndarray):\n",
    "#             return obj.tolist()\n",
    "#         elif isinstance(obj, datetime.datetime):\n",
    "#             return obj.__str__()\n",
    "#         elif isinstance(obj, datetime.date):\n",
    "#             return obj.__str__()"
   ]
  },
  {
   "cell_type": "code",
   "execution_count": 11,
   "id": "passive-yellow",
   "metadata": {
    "execution": {
     "iopub.execute_input": "2021-03-14T00:11:21.264573Z",
     "iopub.status.busy": "2021-03-14T00:11:21.264170Z",
     "iopub.status.idle": "2021-03-14T00:11:21.266394Z",
     "shell.execute_reply": "2021-03-14T00:11:21.266939Z"
    },
    "papermill": {
     "duration": 0.018343,
     "end_time": "2021-03-14T00:11:21.267059",
     "exception": false,
     "start_time": "2021-03-14T00:11:21.248716",
     "status": "completed"
    },
    "tags": []
   },
   "outputs": [],
   "source": [
    "# #hide\n",
    "# #Data on new cases\n",
    "# dft_ct_new_cases = dft_cases.groupby('states')[dt_cols].sum().diff(axis=1).fillna(0).astype(int)\n",
    "# dft_ct_new_cases.sort_values(by = [dft_ct_new_cases.columns[-1]], ascending = False,inplace = True)"
   ]
  },
  {
   "cell_type": "code",
   "execution_count": 12,
   "id": "smart-somerset",
   "metadata": {
    "execution": {
     "iopub.execute_input": "2021-03-14T00:11:21.294054Z",
     "iopub.status.busy": "2021-03-14T00:11:21.293577Z",
     "iopub.status.idle": "2021-03-14T00:11:21.295536Z",
     "shell.execute_reply": "2021-03-14T00:11:21.295138Z"
    },
    "papermill": {
     "duration": 0.017359,
     "end_time": "2021-03-14T00:11:21.295622",
     "exception": false,
     "start_time": "2021-03-14T00:11:21.278263",
     "status": "completed"
    },
    "tags": []
   },
   "outputs": [],
   "source": [
    "# #hide\n",
    "# fig, ax = plt.subplots(facecolor='white',figsize = (14,4))\n",
    "\n",
    "# ax.axis([0, 10, 0, 10])\n",
    "\n",
    "# # This chunk is for overall\n",
    "# ax.text(0.5,1, f'India Summary', transform = fig.transFigure, fontsize = 30);\n",
    "# ax.text(0.38,0.5, f\"Latest update on: {summary['updated'].strftime('%B %d, %Y')} (+change since 24 hours)\", transform = fig.transFigure, fontsize = 16);\n",
    "\n",
    "# ax.text(0.1, 0.9,f'Confirmed Cases' , transform=ax.transAxes,fontsize = 16);\n",
    "# ax.text(1, 0.9,f'Deaths' , transform=ax.transAxes,fontsize = 16)\n",
    "\n",
    "# ax.text(0.1, 0.7,f\"{summary['Cases']}\" , transform=ax.transAxes,fontsize = 40);\n",
    "# ax.text(1, 0.7,f\"{summary['Deaths']}\" , transform=ax.transAxes,fontsize = 40)\n",
    "\n",
    "# ax.text(0.1, 0.6,f\"(+{summary['Cases (+)']})\" ,color='r', transform=ax.transAxes,fontsize = 20);\n",
    "# ax.text(1, 0.6,f\"(+{summary['Deaths (+)']})\" ,color ='r', transform=ax.transAxes,fontsize = 20)\n",
    "\n",
    "# ## End of chunk\n",
    "# ax.set_axis_off()"
   ]
  },
  {
   "cell_type": "code",
   "execution_count": 13,
   "id": "civilian-colombia",
   "metadata": {
    "execution": {
     "iopub.execute_input": "2021-03-14T00:11:21.326136Z",
     "iopub.status.busy": "2021-03-14T00:11:21.325593Z",
     "iopub.status.idle": "2021-03-14T00:11:21.328224Z",
     "shell.execute_reply": "2021-03-14T00:11:21.327753Z"
    },
    "papermill": {
     "duration": 0.019171,
     "end_time": "2021-03-14T00:11:21.328327",
     "exception": false,
     "start_time": "2021-03-14T00:11:21.309156",
     "status": "completed"
    },
    "tags": []
   },
   "outputs": [],
   "source": [
    "# #hide_input\n",
    "# overview = '''\n",
    "# <!-- #######  YAY,HTML!! #########-->\n",
    "# <h1 style=\"color: #5e9ca0; text-align: center;\">India</h1>\n",
    "# <p style=\"text-align: center;\">Last update: <strong>{update}</strong></p>\n",
    "# <p style=\"text-align: center;\">Confirmed cases:</p>\n",
    "# <h1 style=\"text-align: center;\">{cases} (<span style=\"color: #ff0000;\">+{new}</span>)</h1>\n",
    "# <p style=\"text-align: center;\">Confirmed deaths:</p>\n",
    "# <h1 style=\"text-align: center;\">{deaths} (<span style=\"color: #ff0000;\">+{dnew}</span>)</h1>\n",
    "# '''\n",
    "\n",
    "# update = summary['updated'].strftime('%B %d %Y')\n",
    "# cases = summary['Cases']\n",
    "# new = summary['Cases (+)']\n",
    "# deaths = summary['Deaths']\n",
    "# dnew = summary['Deaths (+)']\n",
    "\n",
    "# html = HTML(overview.format(update=update, cases=cases,new=new,deaths=deaths,dnew=dnew))\n",
    "\n",
    "# display(html)"
   ]
  },
  {
   "cell_type": "code",
   "execution_count": 14,
   "id": "editorial-community",
   "metadata": {
    "execution": {
     "iopub.execute_input": "2021-03-14T00:11:21.357329Z",
     "iopub.status.busy": "2021-03-14T00:11:21.356634Z",
     "iopub.status.idle": "2021-03-14T00:11:21.359535Z",
     "shell.execute_reply": "2021-03-14T00:11:21.359921Z"
    },
    "papermill": {
     "duration": 0.019339,
     "end_time": "2021-03-14T00:11:21.360010",
     "exception": false,
     "start_time": "2021-03-14T00:11:21.340671",
     "status": "completed"
    },
    "tags": []
   },
   "outputs": [],
   "source": [
    "# #hide\n",
    "# fig, ax = plt.subplots(facecolor='white',figsize = (14,4))\n",
    "\n",
    "# ax.axis([0, 10, 0, 10])\n",
    "\n",
    "# # This chunk is for overall\n",
    "# ax.text(0.4,0.9, f'India CoVID-19 Dashboard', transform = fig.transFigure, fontsize = 30);\n",
    "# ax.text(0.36,0.5, f\"Latest update on: {summary['updated'].strftime('%B %d, %Y')} (+change since 24 hours)\", transform = fig.transFigure, fontsize = 16);\n",
    "\n",
    "# ax.text(0.1, 0.9,f'Confirmed Cases' , transform=ax.transAxes,fontsize = 16);\n",
    "# ax.text(1, 0.9,f'Deaths' , transform=ax.transAxes,fontsize = 16)\n",
    "\n",
    "# ax.text(0.1, 0.7,f\"{summary['Cases']}\" , transform=ax.transAxes,fontsize = 40);\n",
    "# ax.text(1, 0.7,f\"{summary['Deaths']}\" , transform=ax.transAxes,fontsize = 40)\n",
    "\n",
    "# ax.text(0.1, 0.6,f\"(+{summary['Cases (+)']})\" ,color='r', transform=ax.transAxes,fontsize = 20);\n",
    "# ax.text(1, 0.6,f\"(+{summary['Deaths (+)']})\" ,color ='r', transform=ax.transAxes,fontsize = 20)\n",
    "\n",
    "# ## End of chunk\n",
    "\n",
    "# # Attempting Maharashtra Chunk\n",
    "\n",
    "# ax.text(0.25,0.3, f'Maharashtra', transform = fig.transFigure, fontsize = 20);\n",
    "\n",
    "# ax.text(0.05, 0.2,f'Cases' , transform=ax.transAxes,fontsize = 14);\n",
    "# ax.text(0.4, 0.2,f'Deaths' , transform=ax.transAxes,fontsize = 14)\n",
    "\n",
    "# ax.text(0.05, 0.1,f\"{summary['MH Cases']}\" , transform=ax.transAxes,fontsize = 20);\n",
    "# ax.text(0.4, 0.1,f\"{summary['MH Deaths']}\" , transform=ax.transAxes,fontsize = 20)\n",
    "\n",
    "# ax.text(0.05, 0.05,f\"(+{summary['MH Cases (+)']})\" ,color='r', transform=ax.transAxes,fontsize = 10);\n",
    "# ax.text(0.4, 0.05,f\"(+{summary['MH Deaths (+)']})\" ,color ='r', transform=ax.transAxes,fontsize = 10)\n",
    "\n",
    "# ## End Maharashtra Chunk\n",
    "\n",
    "# # Gujarat Chunk\n",
    "\n",
    "# ax.text(0.83,0.3, f'Gujarat', transform = fig.transFigure, fontsize = 20);\n",
    "\n",
    "# ax.text(0.75, 0.2,f'Cases' , transform=ax.transAxes,fontsize = 14);\n",
    "# ax.text(1.1, 0.2,f'Deaths' , transform=ax.transAxes,fontsize = 14)\n",
    "\n",
    "# ax.text(0.75, 0.1,f\"{summary['GUJ Cases']}\" , transform=ax.transAxes,fontsize = 20);\n",
    "# ax.text(1.1, 0.1,f\"{summary['GUJ Deaths']}\" , transform=ax.transAxes,fontsize = 20)\n",
    "\n",
    "# ax.text(0.75, 0.05,f\"(+{summary['GUJ Cases (+)']})\" ,color='r', transform=ax.transAxes,fontsize = 10);\n",
    "# ax.text(1.1, 0.05,f\"(+{summary['GUJ Deaths (+)']})\" ,color ='r', transform=ax.transAxes,fontsize = 10)\n",
    "\n",
    "# ax.set_axis_off()"
   ]
  },
  {
   "cell_type": "code",
   "execution_count": 15,
   "id": "accompanied-metadata",
   "metadata": {
    "execution": {
     "iopub.execute_input": "2021-03-14T00:11:21.387889Z",
     "iopub.status.busy": "2021-03-14T00:11:21.387327Z",
     "iopub.status.idle": "2021-03-14T00:11:21.389679Z",
     "shell.execute_reply": "2021-03-14T00:11:21.389259Z"
    },
    "papermill": {
     "duration": 0.01752,
     "end_time": "2021-03-14T00:11:21.389768",
     "exception": false,
     "start_time": "2021-03-14T00:11:21.372248",
     "status": "completed"
    },
    "tags": []
   },
   "outputs": [],
   "source": [
    "# #hide_input\n",
    "# df = dft_ct_new_cases\n",
    "# df.loc['Total'] = df.sum()\n",
    "# n = 10\n",
    "# ax = []\n",
    "# fig = plt.figure(constrained_layout=True, figsize = (16,32))\n",
    "# gs = fig.add_gridspec(n+2, 3)\n",
    "# # gs = fig.add_gridspec(2, 3)\n",
    "# ax1 = fig.add_subplot(gs[0, :])\n",
    "# ef = df.loc['Total'].reset_index()\n",
    "# ef['date'] = ef['date'].astype('datetime64[ns]')\n",
    "# ax1.bar(ef.date,ef.Total ,color = 'r',alpha=0.5)\n",
    "# ax1.xaxis.set_major_locator(mdates.WeekdayLocator())\n",
    "# ax1.xaxis.set_major_formatter(mdates.DateFormatter('%b %d'))\n",
    "# textstr = '\\n'.join((\n",
    "# f\"India Overview\",\n",
    "# f\"Total Cases: {summary['Cases']} (+{summary['Cases (+)']})\",\n",
    "# f\"Total Deaths: {summary['Deaths']}(+{summary['Deaths (+)']})\",\n",
    "# f\"Last updated: {dt_today}\"\n",
    "# ))\n",
    "# ax1.text(0.02, 0.50, textstr,transform = ax1.transAxes, fontsize = 20);\n",
    "\n",
    "\n",
    "# ax2 = fig.add_subplot(gs[1,0])\n",
    "# ef = df.loc['Maharashtra'].reset_index()\n",
    "# ef['date'] = ef['date'].astype('datetime64[ns]')\n",
    "# ax2.bar(ef.date, ef.Maharashtra,color = 'r',alpha=0.5)\n",
    "# ax2.set_title('Maharashtra')\n",
    "# ax2.xaxis.set_major_locator(mdates.WeekdayLocator())\n",
    "# ax2.xaxis.set_major_formatter(mdates.DateFormatter('%b %d'))\n",
    "# textstr = '\\n'.join((\n",
    "# f\"Maharashtra\",\n",
    "# f\"Total Cases: {summary['MH Cases']} (+{summary['MH Cases (+)']})\",\n",
    "# f\"Total Deaths: {summary['MH Deaths']}(+{summary['MH Deaths (+)']})\"\n",
    "# ))\n",
    "# ax2.text(0.02, 0.50, textstr,transform = ax2.transAxes, fontsize = 16);\n",
    "\n",
    "\n",
    "# ax3 = fig.add_subplot(gs[1,1])\n",
    "# ef = df.loc['Gujarat'].reset_index()\n",
    "# ef['date'] = ef['date'].astype('datetime64[ns]')\n",
    "# ax3.bar(ef.date, ef.Gujarat,color = 'r',alpha=0.5)\n",
    "# ax3.set_title('Gujarat')\n",
    "# ax3.xaxis.set_major_locator(mdates.WeekdayLocator())\n",
    "# ax3.xaxis.set_major_formatter(mdates.DateFormatter('%b %d'))\n",
    "# textstr = '\\n'.join((\n",
    "# f\"Gujarat\",\n",
    "# f\"Total Cases: {summary['GUJ Cases']} (+{summary['GUJ Cases (+)']})\",\n",
    "# f\"Total Deaths: {summary['GUJ Deaths']}(+{summary['GUJ Deaths (+)']})\"\n",
    "# ))\n",
    "# ax3.text(0.02, 0.50, textstr,transform = ax3.transAxes, fontsize = 16);\n",
    "\n",
    "# ax4 = fig.add_subplot(gs[1,2])\n",
    "# ef = df.loc['Delhi'].reset_index()\n",
    "# ef['date'] = ef['date'].astype('datetime64[ns]')\n",
    "# ax4.bar(ef.date, ef.Delhi,color = 'r',alpha=0.5)\n",
    "# ax4.set_title('Delhi')\n",
    "# ax4.xaxis.set_major_locator(mdates.WeekdayLocator())\n",
    "# ax4.xaxis.set_major_formatter(mdates.DateFormatter('%b %d'))\n",
    "# textstr = '\\n'.join((\n",
    "# f\"Delhi\",\n",
    "# f\"Total Cases: {summary['DEL Cases']} (+{summary['DEL Cases (+)']})\",\n",
    "# f\"Total Deaths: {summary['DEL Deaths']}(+{summary['DEL Deaths (+)']})\"\n",
    "# ))\n",
    "# ax4.text(0.02, 0.50, textstr,transform = ax4.transAxes, fontsize = 16);\n",
    "\n",
    "# for i in range(n):\n",
    "    \n",
    "#     ax.append(fig.add_subplot(gs[i+2,:]))\n",
    "#     ef = df.iloc[i+3].reset_index()\n",
    "#     ef['date'] = ef['date'].astype('datetime64[ns]')\n",
    "#     ax[i].bar(ef.date,ef.iloc[:,-1],color = 'r',alpha=0.5)\n",
    "#     ax[i].set_title(f'{ef.columns.values[-1]}')\n",
    "#     ax[i].xaxis.set_major_locator(mdates.WeekdayLocator())\n",
    "#     ax[i].xaxis.set_major_formatter(mdates.DateFormatter('%b %d'))\n",
    "    \n",
    "\n",
    "# sns.despine()"
   ]
  },
  {
   "cell_type": "code",
   "execution_count": 16,
   "id": "unsigned-leonard",
   "metadata": {
    "execution": {
     "iopub.execute_input": "2021-03-14T00:11:21.420223Z",
     "iopub.status.busy": "2021-03-14T00:11:21.419751Z",
     "iopub.status.idle": "2021-03-14T00:11:21.421818Z",
     "shell.execute_reply": "2021-03-14T00:11:21.422268Z"
    },
    "papermill": {
     "duration": 0.018817,
     "end_time": "2021-03-14T00:11:21.422370",
     "exception": false,
     "start_time": "2021-03-14T00:11:21.403553",
     "status": "completed"
    },
    "tags": []
   },
   "outputs": [],
   "source": [
    "#hide_input\n",
    "# print(df_table.head(20).to_string(index=False))"
   ]
  },
  {
   "cell_type": "code",
   "execution_count": 17,
   "id": "delayed-slovak",
   "metadata": {
    "execution": {
     "iopub.execute_input": "2021-03-14T00:11:21.449927Z",
     "iopub.status.busy": "2021-03-14T00:11:21.449384Z",
     "iopub.status.idle": "2021-03-14T00:11:21.451548Z",
     "shell.execute_reply": "2021-03-14T00:11:21.451969Z"
    },
    "papermill": {
     "duration": 0.018069,
     "end_time": "2021-03-14T00:11:21.452081",
     "exception": false,
     "start_time": "2021-03-14T00:11:21.434012",
     "status": "completed"
    },
    "tags": []
   },
   "outputs": [],
   "source": [
    "# #hide\n",
    "# fig, ax2 = plt.subplots(figsize = (12,4))\n",
    "# ef = df.loc['Maharashtra'].reset_index()\n",
    "# ef['date'] = ef['date'].astype('datetime64[ns]')\n",
    "# ax2.bar(ef.date, ef.Maharashtra, color = 'r', alpha = 0.5)\n",
    "# ax2.set_title('Maharashtra')\n",
    "# #set ticks every week\n",
    "# ax2.xaxis.set_major_locator(mdates.WeekdayLocator())\n",
    "# #set major ticks format\n",
    "# ax2.xaxis.set_major_formatter(mdates.DateFormatter('%b %d'))\n",
    "# textstr = '\\n'.join((\n",
    "# f\"Maharashtra\",\n",
    "# f\"Total Cases: {summary['MH Cases']} (+{summary['MH Cases (+)']})\",\n",
    "# f\"Total Deaths: {summary['MH Deaths']}(+{summary['MH Deaths (+)']})\"\n",
    "# ))\n",
    "# ax2.text(0.02, 0.50, textstr,transform = ax2.transAxes, fontsize = 16);"
   ]
  },
  {
   "cell_type": "code",
   "execution_count": null,
   "id": "acting-nigeria",
   "metadata": {
    "papermill": {
     "duration": 0.011788,
     "end_time": "2021-03-14T00:11:21.476334",
     "exception": false,
     "start_time": "2021-03-14T00:11:21.464546",
     "status": "completed"
    },
    "tags": []
   },
   "outputs": [],
   "source": []
  },
  {
   "cell_type": "code",
   "execution_count": null,
   "id": "hydraulic-metro",
   "metadata": {
    "papermill": {
     "duration": 0.011842,
     "end_time": "2021-03-14T00:11:21.500633",
     "exception": false,
     "start_time": "2021-03-14T00:11:21.488791",
     "status": "completed"
    },
    "tags": []
   },
   "outputs": [],
   "source": []
  },
  {
   "cell_type": "code",
   "execution_count": null,
   "id": "mexican-terminal",
   "metadata": {
    "papermill": {
     "duration": 0.011794,
     "end_time": "2021-03-14T00:11:21.523966",
     "exception": false,
     "start_time": "2021-03-14T00:11:21.512172",
     "status": "completed"
    },
    "tags": []
   },
   "outputs": [],
   "source": []
  },
  {
   "cell_type": "code",
   "execution_count": null,
   "id": "abroad-assurance",
   "metadata": {
    "papermill": {
     "duration": 0.011809,
     "end_time": "2021-03-14T00:11:21.547821",
     "exception": false,
     "start_time": "2021-03-14T00:11:21.536012",
     "status": "completed"
    },
    "tags": []
   },
   "outputs": [],
   "source": []
  }
 ],
 "metadata": {
  "kernelspec": {
   "display_name": "Python 3.7.3 64-bit",
   "metadata": {
    "interpreter": {
     "hash": "aee8b7b246df8f9039afb4144a1f6fd8d2ca17a180786b69acc140d282b71a49"
    }
   },
   "name": "python3"
  },
  "language_info": {
   "codemirror_mode": {
    "name": "ipython",
    "version": 3
   },
   "file_extension": ".py",
   "mimetype": "text/x-python",
   "name": "python",
   "nbconvert_exporter": "python",
   "pygments_lexer": "ipython3",
   "version": "3.6.13"
  },
  "papermill": {
   "duration": 2.780525,
   "end_time": "2021-03-14T00:11:21.868680",
   "environment_variables": {},
   "exception": null,
   "input_path": "2020-03-21-rahulexp.ipynb",
   "output_path": "2020-03-21-rahulexp.ipynb",
   "parameters": {},
   "start_time": "2021-03-14T00:11:19.088155",
   "version": "2.1.1"
  }
 },
 "nbformat": 4,
 "nbformat_minor": 5
}