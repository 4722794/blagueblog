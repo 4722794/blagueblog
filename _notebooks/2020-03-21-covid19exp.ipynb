{
 "cells": [
  {
   "cell_type": "markdown",
   "id": "muslim-click",
   "metadata": {
    "papermill": {
     "duration": 0.040554,
     "end_time": "2022-02-12T00:29:03.279061",
     "exception": false,
     "start_time": "2022-02-12T00:29:03.238507",
     "status": "completed"
    },
    "tags": []
   },
   "source": [
    "# COVID-19 Case Race\n",
    "> A race chart to see rising cases around the world\n",
    "\n",
    "- author: Hargun Oberoi\n",
    "- image: images/covid-overview.png\n",
    "- hide: false\n",
    "- badges: false"
   ]
  },
  {
   "cell_type": "code",
   "execution_count": 1,
   "id": "proof-material",
   "metadata": {
    "execution": {
     "iopub.execute_input": "2022-02-12T00:29:03.373425Z",
     "iopub.status.busy": "2022-02-12T00:29:03.372806Z",
     "iopub.status.idle": "2022-02-12T00:29:03.740456Z",
     "shell.execute_reply": "2022-02-12T00:29:03.739873Z"
    },
    "papermill": {
     "duration": 0.414172,
     "end_time": "2022-02-12T00:29:03.740613",
     "exception": false,
     "start_time": "2022-02-12T00:29:03.326441",
     "status": "completed"
    },
    "tags": []
   },
   "outputs": [],
   "source": [
    "#hide\n",
    "import numpy as np\n",
    "import pandas as pd\n",
    "from jinja2 import Template\n",
    "from IPython.display import HTML"
   ]
  },
  {
   "cell_type": "code",
   "execution_count": 2,
   "id": "developed-terminology",
   "metadata": {
    "execution": {
     "iopub.execute_input": "2022-02-12T00:29:03.820208Z",
     "iopub.status.busy": "2022-02-12T00:29:03.819620Z",
     "iopub.status.idle": "2022-02-12T00:29:03.821481Z",
     "shell.execute_reply": "2022-02-12T00:29:03.822019Z"
    },
    "papermill": {
     "duration": 0.043723,
     "end_time": "2022-02-12T00:29:03.822147",
     "exception": false,
     "start_time": "2022-02-12T00:29:03.778424",
     "status": "completed"
    },
    "tags": []
   },
   "outputs": [],
   "source": [
    "#hide\n",
    "\n",
    "# FETCH\n",
    "base_url = 'https://raw.githubusercontent.com/pratapvardhan/notebooks/master/covid19/'\n",
    "paths = {\n",
    "    'mapping': base_url + 'mapping_countries.csv',\n",
    "    'overview': base_url + 'overview.tpl'\n",
    "}"
   ]
  },
  {
   "cell_type": "code",
   "execution_count": 3,
   "id": "dynamic-saver",
   "metadata": {
    "execution": {
     "iopub.execute_input": "2022-02-12T00:29:03.904710Z",
     "iopub.status.busy": "2022-02-12T00:29:03.902194Z",
     "iopub.status.idle": "2022-02-12T00:29:03.908610Z",
     "shell.execute_reply": "2022-02-12T00:29:03.907992Z"
    },
    "papermill": {
     "duration": 0.049308,
     "end_time": "2022-02-12T00:29:03.908730",
     "exception": false,
     "start_time": "2022-02-12T00:29:03.859422",
     "status": "completed"
    },
    "tags": []
   },
   "outputs": [
    {
     "data": {
      "text/plain": [
       "'https://raw.githubusercontent.com/pratapvardhan/notebooks/master/covid19/mapping_countries.csv'"
      ]
     },
     "execution_count": 3,
     "metadata": {},
     "output_type": "execute_result"
    }
   ],
   "source": [
    "#hide\n",
    "paths['mapping']"
   ]
  },
  {
   "cell_type": "code",
   "execution_count": 4,
   "id": "urban-software",
   "metadata": {
    "execution": {
     "iopub.execute_input": "2022-02-12T00:29:03.986019Z",
     "iopub.status.busy": "2022-02-12T00:29:03.985339Z",
     "iopub.status.idle": "2022-02-12T00:29:03.988155Z",
     "shell.execute_reply": "2022-02-12T00:29:03.987405Z"
    },
    "papermill": {
     "duration": 0.043652,
     "end_time": "2022-02-12T00:29:03.988354",
     "exception": false,
     "start_time": "2022-02-12T00:29:03.944702",
     "status": "completed"
    },
    "tags": []
   },
   "outputs": [],
   "source": [
    "#hide\n",
    "def get_mappings(url):\n",
    "    df = pd.read_csv(url)\n",
    "    return {\n",
    "        'df': df,\n",
    "        'replace.country': dict(df.dropna(subset=['Name']).set_index('Country')['Name']),\n",
    "        'map.continent': dict(df.set_index('Name')['Continent'])\n",
    "    }"
   ]
  },
  {
   "cell_type": "code",
   "execution_count": 5,
   "id": "intimate-machinery",
   "metadata": {
    "execution": {
     "iopub.execute_input": "2022-02-12T00:29:04.069253Z",
     "iopub.status.busy": "2022-02-12T00:29:04.068343Z",
     "iopub.status.idle": "2022-02-12T00:29:04.110598Z",
     "shell.execute_reply": "2022-02-12T00:29:04.110044Z"
    },
    "papermill": {
     "duration": 0.084756,
     "end_time": "2022-02-12T00:29:04.110824",
     "exception": false,
     "start_time": "2022-02-12T00:29:04.026068",
     "status": "completed"
    },
    "tags": []
   },
   "outputs": [],
   "source": [
    "#hide\n",
    "mapping = get_mappings(paths['mapping'])"
   ]
  },
  {
   "cell_type": "code",
   "execution_count": 6,
   "id": "certified-tactics",
   "metadata": {
    "execution": {
     "iopub.execute_input": "2022-02-12T00:29:04.189735Z",
     "iopub.status.busy": "2022-02-12T00:29:04.189094Z",
     "iopub.status.idle": "2022-02-12T00:29:04.191998Z",
     "shell.execute_reply": "2022-02-12T00:29:04.191442Z"
    },
    "papermill": {
     "duration": 0.043787,
     "end_time": "2022-02-12T00:29:04.192112",
     "exception": false,
     "start_time": "2022-02-12T00:29:04.148325",
     "status": "completed"
    },
    "tags": []
   },
   "outputs": [],
   "source": [
    "#hide\n",
    "def get_template(path):\n",
    "    from urllib.parse import urlparse\n",
    "    if bool(urlparse(path).netloc):\n",
    "        from urllib.request import urlopen\n",
    "        return urlopen(path).read().decode('utf8')\n",
    "    return open(path).read()"
   ]
  },
  {
   "cell_type": "code",
   "execution_count": 7,
   "id": "realistic-blast",
   "metadata": {
    "execution": {
     "iopub.execute_input": "2022-02-12T00:29:04.271638Z",
     "iopub.status.busy": "2022-02-12T00:29:04.270521Z",
     "iopub.status.idle": "2022-02-12T00:29:04.272294Z",
     "shell.execute_reply": "2022-02-12T00:29:04.272809Z"
    },
    "papermill": {
     "duration": 0.044833,
     "end_time": "2022-02-12T00:29:04.272940",
     "exception": false,
     "start_time": "2022-02-12T00:29:04.228107",
     "status": "completed"
    },
    "tags": []
   },
   "outputs": [],
   "source": [
    "#hide\n",
    "def get_frame(name):\n",
    "    url = (\n",
    "        'https://raw.githubusercontent.com/CSSEGISandData/COVID-19/master/csse_covid_19_data/'\n",
    "        f'csse_covid_19_time_series/time_series_covid19_{name}_global.csv')\n",
    "    df = pd.read_csv(url)\n",
    "    # rename countries\n",
    "    df['Country/Region'] = df['Country/Region'].replace(mapping['replace.country'])\n",
    "    return df"
   ]
  },
  {
   "cell_type": "code",
   "execution_count": 8,
   "id": "affiliated-characterization",
   "metadata": {
    "execution": {
     "iopub.execute_input": "2022-02-12T00:29:04.349386Z",
     "iopub.status.busy": "2022-02-12T00:29:04.348725Z",
     "iopub.status.idle": "2022-02-12T00:29:04.354247Z",
     "shell.execute_reply": "2022-02-12T00:29:04.354797Z"
    },
    "papermill": {
     "duration": 0.045056,
     "end_time": "2022-02-12T00:29:04.354927",
     "exception": false,
     "start_time": "2022-02-12T00:29:04.309871",
     "status": "completed"
    },
    "tags": []
   },
   "outputs": [],
   "source": [
    "#hide\n",
    "def get_dates(df):\n",
    "    dt_cols = df.columns[~df.columns.isin(['Province/State', 'Country/Region', 'Lat', 'Long'])]\n",
    "    LAST_DATE_I = -1\n",
    "    # sometimes last column may be empty, then go backwards\n",
    "    for i in range(-1, -len(dt_cols), -1):\n",
    "        if not df[dt_cols[i]].fillna(0).eq(0).all():\n",
    "            LAST_DATE_I = i\n",
    "            break\n",
    "    return LAST_DATE_I, dt_cols"
   ]
  },
  {
   "cell_type": "code",
   "execution_count": 9,
   "id": "recent-optimization",
   "metadata": {
    "execution": {
     "iopub.execute_input": "2022-02-12T00:29:04.434096Z",
     "iopub.status.busy": "2022-02-12T00:29:04.433326Z",
     "iopub.status.idle": "2022-02-12T00:29:04.903288Z",
     "shell.execute_reply": "2022-02-12T00:29:04.902739Z"
    },
    "papermill": {
     "duration": 0.512151,
     "end_time": "2022-02-12T00:29:04.903422",
     "exception": false,
     "start_time": "2022-02-12T00:29:04.391271",
     "status": "completed"
    },
    "tags": []
   },
   "outputs": [],
   "source": [
    "#hide\n",
    "COL_REGION = 'Country/Region'\n",
    "# Confirmed, Recovered, Deaths\n",
    "df = get_frame('confirmed')\n",
    "# dft_: timeseries, dfc_: today country agg\n",
    "dft_cases = df\n",
    "dft_deaths = get_frame('deaths')\n",
    "dft_recovered = get_frame('recovered')\n",
    "LAST_DATE_I, dt_cols = get_dates(df)"
   ]
  },
  {
   "cell_type": "code",
   "execution_count": 10,
   "id": "absolute-copper",
   "metadata": {
    "execution": {
     "iopub.execute_input": "2022-02-12T00:29:04.983858Z",
     "iopub.status.busy": "2022-02-12T00:29:04.983248Z",
     "iopub.status.idle": "2022-02-12T00:29:04.985759Z",
     "shell.execute_reply": "2022-02-12T00:29:04.985091Z"
    },
    "papermill": {
     "duration": 0.044463,
     "end_time": "2022-02-12T00:29:04.985894",
     "exception": false,
     "start_time": "2022-02-12T00:29:04.941431",
     "status": "completed"
    },
    "tags": []
   },
   "outputs": [],
   "source": [
    "#hide\n",
    "LAST_DATE_I, dt_cols = get_dates(df)\n",
    "dt_today =dt_cols[LAST_DATE_I]\n",
    "# dt_5day = dt_cols[LAST_DATE_I - 5]\n",
    "dt_yday = dt_cols[LAST_DATE_I - 1]"
   ]
  },
  {
   "cell_type": "code",
   "execution_count": 11,
   "id": "restricted-sheriff",
   "metadata": {
    "execution": {
     "iopub.execute_input": "2022-02-12T00:29:05.067934Z",
     "iopub.status.busy": "2022-02-12T00:29:05.067236Z",
     "iopub.status.idle": "2022-02-12T00:29:05.076149Z",
     "shell.execute_reply": "2022-02-12T00:29:05.076875Z"
    },
    "papermill": {
     "duration": 0.05419,
     "end_time": "2022-02-12T00:29:05.077017",
     "exception": false,
     "start_time": "2022-02-12T00:29:05.022827",
     "status": "completed"
    },
    "tags": []
   },
   "outputs": [],
   "source": [
    "#hide\n",
    "dfc_cases = dft_cases.groupby(COL_REGION)[dt_today].sum()\n",
    "dfc_deaths = dft_deaths.groupby(COL_REGION)[dt_today].sum()\n",
    "# dfp_cases = dft_cases.groupby(COL_REGION)[dt_5day].sum()\n",
    "# dfp_deaths = dft_deaths.groupby(COL_REGION)[dt_5day].sum()\n",
    "dfp_cases = dft_cases.groupby(COL_REGION)[dt_yday].sum()\n",
    "dfp_deaths = dft_deaths.groupby(COL_REGION)[dt_yday].sum()"
   ]
  },
  {
   "cell_type": "code",
   "execution_count": 12,
   "id": "deluxe-hepatitis",
   "metadata": {
    "execution": {
     "iopub.execute_input": "2022-02-12T00:29:05.156301Z",
     "iopub.status.busy": "2022-02-12T00:29:05.155660Z",
     "iopub.status.idle": "2022-02-12T00:29:05.161421Z",
     "shell.execute_reply": "2022-02-12T00:29:05.160715Z"
    },
    "papermill": {
     "duration": 0.04891,
     "end_time": "2022-02-12T00:29:05.161554",
     "exception": false,
     "start_time": "2022-02-12T00:29:05.112644",
     "status": "completed"
    },
    "tags": []
   },
   "outputs": [],
   "source": [
    "#hide\n",
    "df_table = (pd.DataFrame(dict(Cases = dfc_cases, Deaths = dfc_deaths, PCases = dfp_cases, PDeaths = dfp_deaths))\n",
    "            .sort_values(by = ['Cases','Deaths'], ascending = [False, False])\n",
    "            .reset_index())"
   ]
  },
  {
   "cell_type": "code",
   "execution_count": 13,
   "id": "educational-chancellor",
   "metadata": {
    "execution": {
     "iopub.execute_input": "2022-02-12T00:29:05.257096Z",
     "iopub.status.busy": "2022-02-12T00:29:05.256408Z",
     "iopub.status.idle": "2022-02-12T00:29:05.265859Z",
     "shell.execute_reply": "2022-02-12T00:29:05.265379Z"
    },
    "papermill": {
     "duration": 0.067019,
     "end_time": "2022-02-12T00:29:05.265973",
     "exception": false,
     "start_time": "2022-02-12T00:29:05.198954",
     "status": "completed"
    },
    "tags": []
   },
   "outputs": [
    {
     "data": {
      "text/html": [
       "<div>\n",
       "<style scoped>\n",
       "    .dataframe tbody tr th:only-of-type {\n",
       "        vertical-align: middle;\n",
       "    }\n",
       "\n",
       "    .dataframe tbody tr th {\n",
       "        vertical-align: top;\n",
       "    }\n",
       "\n",
       "    .dataframe thead th {\n",
       "        text-align: right;\n",
       "    }\n",
       "</style>\n",
       "<table border=\"1\" class=\"dataframe\">\n",
       "  <thead>\n",
       "    <tr style=\"text-align: right;\">\n",
       "      <th></th>\n",
       "      <th>Country/Region</th>\n",
       "      <th>Cases</th>\n",
       "      <th>Deaths</th>\n",
       "      <th>PCases</th>\n",
       "      <th>PDeaths</th>\n",
       "      <th>Cases (+)</th>\n",
       "      <th>Deaths (+)</th>\n",
       "      <th>Fatality Rate</th>\n",
       "      <th>Continent</th>\n",
       "    </tr>\n",
       "  </thead>\n",
       "  <tbody>\n",
       "    <tr>\n",
       "      <th>0</th>\n",
       "      <td>US</td>\n",
       "      <td>77428574</td>\n",
       "      <td>915434</td>\n",
       "      <td>77281158</td>\n",
       "      <td>912255</td>\n",
       "      <td>147416</td>\n",
       "      <td>3179</td>\n",
       "      <td>1.18</td>\n",
       "      <td>North America</td>\n",
       "    </tr>\n",
       "    <tr>\n",
       "      <th>1</th>\n",
       "      <td>India</td>\n",
       "      <td>42536137</td>\n",
       "      <td>507177</td>\n",
       "      <td>42478060</td>\n",
       "      <td>506520</td>\n",
       "      <td>58077</td>\n",
       "      <td>657</td>\n",
       "      <td>1.19</td>\n",
       "      <td>Asia</td>\n",
       "    </tr>\n",
       "    <tr>\n",
       "      <th>2</th>\n",
       "      <td>Brazil</td>\n",
       "      <td>27135550</td>\n",
       "      <td>636338</td>\n",
       "      <td>26972914</td>\n",
       "      <td>635421</td>\n",
       "      <td>162636</td>\n",
       "      <td>917</td>\n",
       "      <td>2.35</td>\n",
       "      <td>South America</td>\n",
       "    </tr>\n",
       "    <tr>\n",
       "      <th>3</th>\n",
       "      <td>France</td>\n",
       "      <td>21511997</td>\n",
       "      <td>135264</td>\n",
       "      <td>21177663</td>\n",
       "      <td>134609</td>\n",
       "      <td>334334</td>\n",
       "      <td>655</td>\n",
       "      <td>0.63</td>\n",
       "      <td>Europe</td>\n",
       "    </tr>\n",
       "    <tr>\n",
       "      <th>4</th>\n",
       "      <td>United Kingdom</td>\n",
       "      <td>18287720</td>\n",
       "      <td>159713</td>\n",
       "      <td>18123192</td>\n",
       "      <td>159503</td>\n",
       "      <td>164528</td>\n",
       "      <td>210</td>\n",
       "      <td>0.87</td>\n",
       "      <td>Europe</td>\n",
       "    </tr>\n",
       "  </tbody>\n",
       "</table>\n",
       "</div>"
      ],
      "text/plain": [
       "   Country/Region     Cases  Deaths    PCases  PDeaths  Cases (+)  Deaths (+)  \\\n",
       "0              US  77428574  915434  77281158   912255     147416        3179   \n",
       "1           India  42536137  507177  42478060   506520      58077         657   \n",
       "2          Brazil  27135550  636338  26972914   635421     162636         917   \n",
       "3          France  21511997  135264  21177663   134609     334334         655   \n",
       "4  United Kingdom  18287720  159713  18123192   159503     164528         210   \n",
       "\n",
       "   Fatality Rate      Continent  \n",
       "0           1.18  North America  \n",
       "1           1.19           Asia  \n",
       "2           2.35  South America  \n",
       "3           0.63         Europe  \n",
       "4           0.87         Europe  "
      ]
     },
     "execution_count": 13,
     "metadata": {},
     "output_type": "execute_result"
    }
   ],
   "source": [
    "#hide\n",
    "for c in 'Cases, Deaths'.split(', '):\n",
    "    df_table[f'{c} (+)'] = (df_table[c] - df_table[f'P{c}']).clip(0)\n",
    "    #Clip ça veut dire, les chiffres negatif sont interdit\n",
    "df_table['Fatality Rate'] = (100* df_table['Deaths']/ df_table['Cases']).round(2)\n",
    "df_table['Continent'] = df_table['Country/Region'].map(mapping['map.continent'])\n",
    "df_table.head(5)"
   ]
  },
  {
   "cell_type": "code",
   "execution_count": 14,
   "id": "aboriginal-bulgaria",
   "metadata": {
    "execution": {
     "iopub.execute_input": "2022-02-12T00:29:05.344869Z",
     "iopub.status.busy": "2022-02-12T00:29:05.344119Z",
     "iopub.status.idle": "2022-02-12T00:29:05.347181Z",
     "shell.execute_reply": "2022-02-12T00:29:05.347716Z"
    },
    "papermill": {
     "duration": 0.045361,
     "end_time": "2022-02-12T00:29:05.347835",
     "exception": false,
     "start_time": "2022-02-12T00:29:05.302474",
     "status": "completed"
    },
    "tags": []
   },
   "outputs": [],
   "source": [
    "#hide\n",
    "#delete problematic countries from table\n",
    "df_table = df_table[~df_table['Country/Region'].isin(['Cape Verde', 'Cruise Ship', 'Kosovo'])]"
   ]
  },
  {
   "cell_type": "code",
   "execution_count": 15,
   "id": "fantastic-effect",
   "metadata": {
    "execution": {
     "iopub.execute_input": "2022-02-12T00:29:05.432555Z",
     "iopub.status.busy": "2022-02-12T00:29:05.431954Z",
     "iopub.status.idle": "2022-02-12T00:29:05.454050Z",
     "shell.execute_reply": "2022-02-12T00:29:05.453271Z"
    },
    "papermill": {
     "duration": 0.069457,
     "end_time": "2022-02-12T00:29:05.454168",
     "exception": false,
     "start_time": "2022-02-12T00:29:05.384711",
     "status": "completed"
    },
    "tags": []
   },
   "outputs": [
    {
     "data": {
      "text/html": [
       "<div>\n",
       "<style scoped>\n",
       "    .dataframe tbody tr th:only-of-type {\n",
       "        vertical-align: middle;\n",
       "    }\n",
       "\n",
       "    .dataframe tbody tr th {\n",
       "        vertical-align: top;\n",
       "    }\n",
       "\n",
       "    .dataframe thead th {\n",
       "        text-align: right;\n",
       "    }\n",
       "</style>\n",
       "<table border=\"1\" class=\"dataframe\">\n",
       "  <thead>\n",
       "    <tr style=\"text-align: right;\">\n",
       "      <th></th>\n",
       "      <th>Country/Region</th>\n",
       "      <th>Cases</th>\n",
       "      <th>Deaths</th>\n",
       "      <th>PCases</th>\n",
       "      <th>PDeaths</th>\n",
       "      <th>Cases (+)</th>\n",
       "      <th>Deaths (+)</th>\n",
       "      <th>Fatality Rate</th>\n",
       "      <th>Continent</th>\n",
       "    </tr>\n",
       "  </thead>\n",
       "  <tbody>\n",
       "    <tr>\n",
       "      <th>0</th>\n",
       "      <td>US</td>\n",
       "      <td>77428574</td>\n",
       "      <td>915434</td>\n",
       "      <td>77281158</td>\n",
       "      <td>912255</td>\n",
       "      <td>147416</td>\n",
       "      <td>3179</td>\n",
       "      <td>1.2</td>\n",
       "      <td>North America</td>\n",
       "    </tr>\n",
       "    <tr>\n",
       "      <th>1</th>\n",
       "      <td>India</td>\n",
       "      <td>42536137</td>\n",
       "      <td>507177</td>\n",
       "      <td>42478060</td>\n",
       "      <td>506520</td>\n",
       "      <td>58077</td>\n",
       "      <td>657</td>\n",
       "      <td>1.2</td>\n",
       "      <td>Asia</td>\n",
       "    </tr>\n",
       "    <tr>\n",
       "      <th>2</th>\n",
       "      <td>Brazil</td>\n",
       "      <td>27135550</td>\n",
       "      <td>636338</td>\n",
       "      <td>26972914</td>\n",
       "      <td>635421</td>\n",
       "      <td>162636</td>\n",
       "      <td>917</td>\n",
       "      <td>2.3</td>\n",
       "      <td>South America</td>\n",
       "    </tr>\n",
       "    <tr>\n",
       "      <th>3</th>\n",
       "      <td>France</td>\n",
       "      <td>21511997</td>\n",
       "      <td>135264</td>\n",
       "      <td>21177663</td>\n",
       "      <td>134609</td>\n",
       "      <td>334334</td>\n",
       "      <td>655</td>\n",
       "      <td>0.6</td>\n",
       "      <td>Europe</td>\n",
       "    </tr>\n",
       "    <tr>\n",
       "      <th>4</th>\n",
       "      <td>United Kingdom</td>\n",
       "      <td>18287720</td>\n",
       "      <td>159713</td>\n",
       "      <td>18123192</td>\n",
       "      <td>159503</td>\n",
       "      <td>164528</td>\n",
       "      <td>210</td>\n",
       "      <td>0.9</td>\n",
       "      <td>Europe</td>\n",
       "    </tr>\n",
       "  </tbody>\n",
       "</table>\n",
       "</div>"
      ],
      "text/plain": [
       "   Country/Region     Cases  Deaths    PCases  PDeaths  Cases (+)  Deaths (+)  \\\n",
       "0              US  77428574  915434  77281158   912255     147416        3179   \n",
       "1           India  42536137  507177  42478060   506520      58077         657   \n",
       "2          Brazil  27135550  636338  26972914   635421     162636         917   \n",
       "3          France  21511997  135264  21177663   134609     334334         655   \n",
       "4  United Kingdom  18287720  159713  18123192   159503     164528         210   \n",
       "\n",
       "   Fatality Rate      Continent  \n",
       "0            1.2  North America  \n",
       "1            1.2           Asia  \n",
       "2            2.3  South America  \n",
       "3            0.6         Europe  \n",
       "4            0.9         Europe  "
      ]
     },
     "execution_count": 15,
     "metadata": {},
     "output_type": "execute_result"
    }
   ],
   "source": [
    "#hide\n",
    "df_table = (pd.DataFrame(dict(Cases=dfc_cases, Deaths=dfc_deaths, PCases=dfp_cases, PDeaths=dfp_deaths))\n",
    "             .sort_values(by=['Cases', 'Deaths'], ascending=[False, False])\n",
    "             .reset_index())\n",
    "df_table.rename(columns={'index': 'Country/Region'}, inplace=True)\n",
    "for c in 'Cases, Deaths'.split(', '):\n",
    "    df_table[f'{c} (+)'] = (df_table[c] - df_table[f'P{c}']).clip(0)  # DATA BUG\n",
    "df_table['Fatality Rate'] = (100 * df_table['Deaths'] / df_table['Cases']).round(1)\n",
    "df_table['Continent'] = df_table['Country/Region'].map(mapping['map.continent'])\n",
    "df_table.head(5)"
   ]
  },
  {
   "cell_type": "code",
   "execution_count": 16,
   "id": "fewer-occasion",
   "metadata": {
    "execution": {
     "iopub.execute_input": "2022-02-12T00:29:05.535321Z",
     "iopub.status.busy": "2022-02-12T00:29:05.534692Z",
     "iopub.status.idle": "2022-02-12T00:29:05.539272Z",
     "shell.execute_reply": "2022-02-12T00:29:05.538661Z"
    },
    "papermill": {
     "duration": 0.047015,
     "end_time": "2022-02-12T00:29:05.539381",
     "exception": false,
     "start_time": "2022-02-12T00:29:05.492366",
     "status": "completed"
    },
    "tags": []
   },
   "outputs": [],
   "source": [
    "#hide\n",
    "#delete problematic countries from table\n",
    "df_table = df_table[~df_table['Country/Region'].isin(['Cape Verde', 'Cruise Ship', 'Kosovo'])]"
   ]
  },
  {
   "cell_type": "code",
   "execution_count": 17,
   "id": "related-center",
   "metadata": {
    "execution": {
     "iopub.execute_input": "2022-02-12T00:29:05.619502Z",
     "iopub.status.busy": "2022-02-12T00:29:05.618791Z",
     "iopub.status.idle": "2022-02-12T00:29:05.635007Z",
     "shell.execute_reply": "2022-02-12T00:29:05.634502Z"
    },
    "papermill": {
     "duration": 0.058932,
     "end_time": "2022-02-12T00:29:05.635117",
     "exception": false,
     "start_time": "2022-02-12T00:29:05.576185",
     "status": "completed"
    },
    "tags": []
   },
   "outputs": [],
   "source": [
    "#hide\n",
    "metrics = [df_table.columns[index] for index in [1,2,5,6]]\n",
    "# s_china = df_table[df_table['Country/Region'].eq('China')][metrics].sum().add_prefix('China ')\n",
    "s_us = df_table[df_table['Country/Region'].eq('US')][metrics].sum().add_prefix('US ')\n",
    "s_eu = df_table[df_table['Continent'].eq('Europe')][metrics].sum().add_prefix('EU ')\n",
    "s_ind = df_table[df_table['Country/Region'].eq('India')][metrics].sum().add_prefix('India ')\n",
    "summary = {'updated': pd.to_datetime(dt_today), 'since': pd.to_datetime(dt_yday)}\n",
    "summary = {'updated': pd.to_datetime(dt_today), 'since': pd.to_datetime(dt_yday)}\n",
    "summary = {**summary, **df_table[metrics].sum(), **s_ind, **s_us, **s_eu}"
   ]
  },
  {
   "cell_type": "code",
   "execution_count": 18,
   "id": "engaging-syndrome",
   "metadata": {
    "execution": {
     "iopub.execute_input": "2022-02-12T00:29:05.714714Z",
     "iopub.status.busy": "2022-02-12T00:29:05.714018Z",
     "iopub.status.idle": "2022-02-12T00:29:05.731565Z",
     "shell.execute_reply": "2022-02-12T00:29:05.731043Z"
    },
    "papermill": {
     "duration": 0.059709,
     "end_time": "2022-02-12T00:29:05.731684",
     "exception": false,
     "start_time": "2022-02-12T00:29:05.671975",
     "status": "completed"
    },
    "tags": []
   },
   "outputs": [],
   "source": [
    "#hide\n",
    "dft_ct_new_cases = dft_cases.groupby(COL_REGION)[dt_cols].sum().diff(axis=1).fillna(0).astype(int)"
   ]
  },
  {
   "cell_type": "code",
   "execution_count": 19,
   "id": "neutral-assignment",
   "metadata": {
    "execution": {
     "iopub.execute_input": "2022-02-12T00:29:05.812249Z",
     "iopub.status.busy": "2022-02-12T00:29:05.811545Z",
     "iopub.status.idle": "2022-02-12T00:29:05.814498Z",
     "shell.execute_reply": "2022-02-12T00:29:05.814020Z"
    },
    "papermill": {
     "duration": 0.04558,
     "end_time": "2022-02-12T00:29:05.814609",
     "exception": false,
     "start_time": "2022-02-12T00:29:05.769029",
     "status": "completed"
    },
    "tags": []
   },
   "outputs": [],
   "source": [
    "#hide\n",
    "everydaycases = dft_ct_new_cases.cumsum(axis=1)"
   ]
  },
  {
   "cell_type": "code",
   "execution_count": 20,
   "id": "parliamentary-calgary",
   "metadata": {
    "execution": {
     "iopub.execute_input": "2022-02-12T00:29:05.891755Z",
     "iopub.status.busy": "2022-02-12T00:29:05.891167Z",
     "iopub.status.idle": "2022-02-12T00:29:06.570370Z",
     "shell.execute_reply": "2022-02-12T00:29:06.570947Z"
    },
    "papermill": {
     "duration": 0.720299,
     "end_time": "2022-02-12T00:29:06.571108",
     "exception": false,
     "start_time": "2022-02-12T00:29:05.850809",
     "status": "completed"
    },
    "tags": []
   },
   "outputs": [],
   "source": [
    "#hide\n",
    "import pandas as pd\n",
    "import matplotlib.pyplot as plt\n",
    "import matplotlib.ticker as ticker\n",
    "import matplotlib.animation as animation\n",
    "from IPython.display import HTML"
   ]
  },
  {
   "cell_type": "code",
   "execution_count": 21,
   "id": "lasting-extraction",
   "metadata": {
    "execution": {
     "iopub.execute_input": "2022-02-12T00:29:06.653931Z",
     "iopub.status.busy": "2022-02-12T00:29:06.653165Z",
     "iopub.status.idle": "2022-02-12T00:29:06.662142Z",
     "shell.execute_reply": "2022-02-12T00:29:06.662653Z"
    },
    "papermill": {
     "duration": 0.053269,
     "end_time": "2022-02-12T00:29:06.662786",
     "exception": false,
     "start_time": "2022-02-12T00:29:06.609517",
     "status": "completed"
    },
    "tags": []
   },
   "outputs": [],
   "source": [
    "#hide\n",
    "t = everydaycases.stack()"
   ]
  },
  {
   "cell_type": "code",
   "execution_count": 22,
   "id": "premier-sleeve",
   "metadata": {
    "execution": {
     "iopub.execute_input": "2022-02-12T00:29:06.742735Z",
     "iopub.status.busy": "2022-02-12T00:29:06.742111Z",
     "iopub.status.idle": "2022-02-12T00:29:06.752952Z",
     "shell.execute_reply": "2022-02-12T00:29:06.752476Z"
    },
    "papermill": {
     "duration": 0.053038,
     "end_time": "2022-02-12T00:29:06.753063",
     "exception": false,
     "start_time": "2022-02-12T00:29:06.700025",
     "status": "completed"
    },
    "tags": []
   },
   "outputs": [],
   "source": [
    "#hide\n",
    "g = t.reset_index(['Country/Region'])"
   ]
  },
  {
   "cell_type": "code",
   "execution_count": 23,
   "id": "distributed-pittsburgh",
   "metadata": {
    "execution": {
     "iopub.execute_input": "2022-02-12T00:29:06.835871Z",
     "iopub.status.busy": "2022-02-12T00:29:06.835143Z",
     "iopub.status.idle": "2022-02-12T00:29:06.837724Z",
     "shell.execute_reply": "2022-02-12T00:29:06.837114Z"
    },
    "papermill": {
     "duration": 0.04578,
     "end_time": "2022-02-12T00:29:06.837848",
     "exception": false,
     "start_time": "2022-02-12T00:29:06.792068",
     "status": "completed"
    },
    "tags": []
   },
   "outputs": [],
   "source": [
    "#hide\n",
    "g.index.name = 'date'"
   ]
  },
  {
   "cell_type": "code",
   "execution_count": 24,
   "id": "naked-donor",
   "metadata": {
    "execution": {
     "iopub.execute_input": "2022-02-12T00:29:06.922336Z",
     "iopub.status.busy": "2022-02-12T00:29:06.921734Z",
     "iopub.status.idle": "2022-02-12T00:29:06.925575Z",
     "shell.execute_reply": "2022-02-12T00:29:06.926021Z"
    },
    "papermill": {
     "duration": 0.044901,
     "end_time": "2022-02-12T00:29:06.926212",
     "exception": false,
     "start_time": "2022-02-12T00:29:06.881311",
     "status": "completed"
    },
    "tags": []
   },
   "outputs": [],
   "source": [
    "# #hide\n",
    "# g = g.reset_index(['date'])"
   ]
  },
  {
   "cell_type": "code",
   "execution_count": 25,
   "id": "incomplete-mustang",
   "metadata": {
    "execution": {
     "iopub.execute_input": "2022-02-12T00:29:07.005239Z",
     "iopub.status.busy": "2022-02-12T00:29:07.004585Z",
     "iopub.status.idle": "2022-02-12T00:29:07.007364Z",
     "shell.execute_reply": "2022-02-12T00:29:07.006811Z"
    },
    "papermill": {
     "duration": 0.043666,
     "end_time": "2022-02-12T00:29:07.007521",
     "exception": false,
     "start_time": "2022-02-12T00:29:06.963855",
     "status": "completed"
    },
    "tags": []
   },
   "outputs": [],
   "source": [
    "#hide\n",
    "# g.head()"
   ]
  },
  {
   "cell_type": "code",
   "execution_count": 26,
   "id": "specific-kruger",
   "metadata": {
    "execution": {
     "iopub.execute_input": "2022-02-12T00:29:07.087232Z",
     "iopub.status.busy": "2022-02-12T00:29:07.086642Z",
     "iopub.status.idle": "2022-02-12T00:29:07.089314Z",
     "shell.execute_reply": "2022-02-12T00:29:07.088815Z"
    },
    "papermill": {
     "duration": 0.043146,
     "end_time": "2022-02-12T00:29:07.089442",
     "exception": false,
     "start_time": "2022-02-12T00:29:07.046296",
     "status": "completed"
    },
    "tags": []
   },
   "outputs": [],
   "source": [
    "#hide\n",
    "# g.columns = ['date','country','cases']"
   ]
  },
  {
   "cell_type": "code",
   "execution_count": 27,
   "id": "tender-conversion",
   "metadata": {
    "execution": {
     "iopub.execute_input": "2022-02-12T00:29:07.168142Z",
     "iopub.status.busy": "2022-02-12T00:29:07.167414Z",
     "iopub.status.idle": "2022-02-12T00:29:07.170726Z",
     "shell.execute_reply": "2022-02-12T00:29:07.170226Z"
    },
    "papermill": {
     "duration": 0.04391,
     "end_time": "2022-02-12T00:29:07.170838",
     "exception": false,
     "start_time": "2022-02-12T00:29:07.126928",
     "status": "completed"
    },
    "tags": []
   },
   "outputs": [],
   "source": [
    "#hide\n",
    "# g['continent'] = g.country"
   ]
  },
  {
   "cell_type": "code",
   "execution_count": 28,
   "id": "substantial-wilderness",
   "metadata": {
    "execution": {
     "iopub.execute_input": "2022-02-12T00:29:07.249634Z",
     "iopub.status.busy": "2022-02-12T00:29:07.248982Z",
     "iopub.status.idle": "2022-02-12T00:29:07.251556Z",
     "shell.execute_reply": "2022-02-12T00:29:07.250985Z"
    },
    "papermill": {
     "duration": 0.042975,
     "end_time": "2022-02-12T00:29:07.251685",
     "exception": false,
     "start_time": "2022-02-12T00:29:07.208710",
     "status": "completed"
    },
    "tags": []
   },
   "outputs": [],
   "source": [
    "#hide\n",
    "# cols = list(g.columns.values)"
   ]
  },
  {
   "cell_type": "code",
   "execution_count": 29,
   "id": "solved-farming",
   "metadata": {
    "execution": {
     "iopub.execute_input": "2022-02-12T00:29:07.329586Z",
     "iopub.status.busy": "2022-02-12T00:29:07.328940Z",
     "iopub.status.idle": "2022-02-12T00:29:07.332972Z",
     "shell.execute_reply": "2022-02-12T00:29:07.333630Z"
    },
    "papermill": {
     "duration": 0.044583,
     "end_time": "2022-02-12T00:29:07.333761",
     "exception": false,
     "start_time": "2022-02-12T00:29:07.289178",
     "status": "completed"
    },
    "tags": []
   },
   "outputs": [],
   "source": [
    "#hide\n",
    "# cols.insert(0, cols.pop())"
   ]
  },
  {
   "cell_type": "code",
   "execution_count": 30,
   "id": "executed-adoption",
   "metadata": {
    "execution": {
     "iopub.execute_input": "2022-02-12T00:29:07.412684Z",
     "iopub.status.busy": "2022-02-12T00:29:07.412128Z",
     "iopub.status.idle": "2022-02-12T00:29:07.414786Z",
     "shell.execute_reply": "2022-02-12T00:29:07.414235Z"
    },
    "papermill": {
     "duration": 0.044779,
     "end_time": "2022-02-12T00:29:07.414898",
     "exception": false,
     "start_time": "2022-02-12T00:29:07.370119",
     "status": "completed"
    },
    "tags": []
   },
   "outputs": [],
   "source": [
    "#hide\n",
    "# g = g[cols]"
   ]
  },
  {
   "cell_type": "code",
   "execution_count": 31,
   "id": "subject-dublin",
   "metadata": {
    "execution": {
     "iopub.execute_input": "2022-02-12T00:29:07.494734Z",
     "iopub.status.busy": "2022-02-12T00:29:07.494131Z",
     "iopub.status.idle": "2022-02-12T00:29:07.496906Z",
     "shell.execute_reply": "2022-02-12T00:29:07.496394Z"
    },
    "papermill": {
     "duration": 0.04519,
     "end_time": "2022-02-12T00:29:07.497022",
     "exception": false,
     "start_time": "2022-02-12T00:29:07.451832",
     "status": "completed"
    },
    "tags": []
   },
   "outputs": [],
   "source": [
    "#hide\n",
    "# g['continent'] = g['continent'].map(mapping['map.continent'])"
   ]
  },
  {
   "cell_type": "code",
   "execution_count": 32,
   "id": "freelance-scout",
   "metadata": {
    "execution": {
     "iopub.execute_input": "2022-02-12T00:29:07.575531Z",
     "iopub.status.busy": "2022-02-12T00:29:07.574803Z",
     "iopub.status.idle": "2022-02-12T00:29:07.578900Z",
     "shell.execute_reply": "2022-02-12T00:29:07.578443Z"
    },
    "papermill": {
     "duration": 0.044058,
     "end_time": "2022-02-12T00:29:07.579026",
     "exception": false,
     "start_time": "2022-02-12T00:29:07.534968",
     "status": "completed"
    },
    "tags": []
   },
   "outputs": [],
   "source": [
    "#hide\n",
    "# g.head()"
   ]
  },
  {
   "cell_type": "code",
   "execution_count": 33,
   "id": "limited-engine",
   "metadata": {
    "execution": {
     "iopub.execute_input": "2022-02-12T00:29:07.656230Z",
     "iopub.status.busy": "2022-02-12T00:29:07.655576Z",
     "iopub.status.idle": "2022-02-12T00:29:07.658089Z",
     "shell.execute_reply": "2022-02-12T00:29:07.658568Z"
    },
    "papermill": {
     "duration": 0.043173,
     "end_time": "2022-02-12T00:29:07.658692",
     "exception": false,
     "start_time": "2022-02-12T00:29:07.615519",
     "status": "completed"
    },
    "tags": []
   },
   "outputs": [],
   "source": [
    "# hide\n",
    "# g['date'] = g['date'].astype('datetime64[ns]')"
   ]
  },
  {
   "cell_type": "code",
   "execution_count": 34,
   "id": "sophisticated-supervisor",
   "metadata": {
    "execution": {
     "iopub.execute_input": "2022-02-12T00:29:07.736865Z",
     "iopub.status.busy": "2022-02-12T00:29:07.736164Z",
     "iopub.status.idle": "2022-02-12T00:29:07.738347Z",
     "shell.execute_reply": "2022-02-12T00:29:07.738829Z"
    },
    "papermill": {
     "duration": 0.043656,
     "end_time": "2022-02-12T00:29:07.739008",
     "exception": false,
     "start_time": "2022-02-12T00:29:07.695352",
     "status": "completed"
    },
    "tags": []
   },
   "outputs": [],
   "source": [
    "#hide\n",
    "# g['date'] = g.date.dt.dayofyear"
   ]
  },
  {
   "cell_type": "code",
   "execution_count": 35,
   "id": "inside-dubai",
   "metadata": {
    "execution": {
     "iopub.execute_input": "2022-02-12T00:29:07.822901Z",
     "iopub.status.busy": "2022-02-12T00:29:07.822245Z",
     "iopub.status.idle": "2022-02-12T00:29:07.825030Z",
     "shell.execute_reply": "2022-02-12T00:29:07.824255Z"
    },
    "papermill": {
     "duration": 0.046788,
     "end_time": "2022-02-12T00:29:07.825156",
     "exception": false,
     "start_time": "2022-02-12T00:29:07.778368",
     "status": "completed"
    },
    "tags": []
   },
   "outputs": [],
   "source": [
    "#hide\n",
    "# g = g.rename(columns= {'continent':'group','country':'name','cases':'value'})"
   ]
  },
  {
   "cell_type": "code",
   "execution_count": 36,
   "id": "fleet-motorcycle",
   "metadata": {
    "execution": {
     "iopub.execute_input": "2022-02-12T00:29:07.909448Z",
     "iopub.status.busy": "2022-02-12T00:29:07.908449Z",
     "iopub.status.idle": "2022-02-12T00:29:07.912798Z",
     "shell.execute_reply": "2022-02-12T00:29:07.913283Z"
    },
    "papermill": {
     "duration": 0.048745,
     "end_time": "2022-02-12T00:29:07.913435",
     "exception": false,
     "start_time": "2022-02-12T00:29:07.864690",
     "status": "completed"
    },
    "tags": []
   },
   "outputs": [],
   "source": [
    "#hide\n",
    "# cols = ['name','group','day','value']"
   ]
  },
  {
   "cell_type": "code",
   "execution_count": 37,
   "id": "continued-sleeping",
   "metadata": {
    "execution": {
     "iopub.execute_input": "2022-02-12T00:29:08.012400Z",
     "iopub.status.busy": "2022-02-12T00:29:08.011685Z",
     "iopub.status.idle": "2022-02-12T00:29:08.014263Z",
     "shell.execute_reply": "2022-02-12T00:29:08.013739Z"
    },
    "papermill": {
     "duration": 0.046741,
     "end_time": "2022-02-12T00:29:08.014415",
     "exception": false,
     "start_time": "2022-02-12T00:29:07.967674",
     "status": "completed"
    },
    "tags": []
   },
   "outputs": [],
   "source": [
    "#hide\n",
    "# g.rename(columns= {'date':'day'},inplace = True)"
   ]
  },
  {
   "cell_type": "code",
   "execution_count": 38,
   "id": "major-fight",
   "metadata": {
    "execution": {
     "iopub.execute_input": "2022-02-12T00:29:08.097300Z",
     "iopub.status.busy": "2022-02-12T00:29:08.096606Z",
     "iopub.status.idle": "2022-02-12T00:29:08.100442Z",
     "shell.execute_reply": "2022-02-12T00:29:08.101066Z"
    },
    "papermill": {
     "duration": 0.04783,
     "end_time": "2022-02-12T00:29:08.101235",
     "exception": false,
     "start_time": "2022-02-12T00:29:08.053405",
     "status": "completed"
    },
    "tags": []
   },
   "outputs": [],
   "source": [
    "#hide\n",
    "# g = g[cols]"
   ]
  },
  {
   "cell_type": "code",
   "execution_count": 39,
   "id": "structured-mobile",
   "metadata": {
    "execution": {
     "iopub.execute_input": "2022-02-12T00:29:08.184819Z",
     "iopub.status.busy": "2022-02-12T00:29:08.184177Z",
     "iopub.status.idle": "2022-02-12T00:29:08.186792Z",
     "shell.execute_reply": "2022-02-12T00:29:08.186045Z"
    },
    "papermill": {
     "duration": 0.046639,
     "end_time": "2022-02-12T00:29:08.186917",
     "exception": false,
     "start_time": "2022-02-12T00:29:08.140278",
     "status": "completed"
    },
    "tags": []
   },
   "outputs": [],
   "source": [
    "# #hide\n",
    "# g = g[g.group.notna()]"
   ]
  },
  {
   "cell_type": "code",
   "execution_count": 40,
   "id": "determined-closing",
   "metadata": {
    "execution": {
     "iopub.execute_input": "2022-02-12T00:29:08.266997Z",
     "iopub.status.busy": "2022-02-12T00:29:08.266300Z",
     "iopub.status.idle": "2022-02-12T00:29:08.269091Z",
     "shell.execute_reply": "2022-02-12T00:29:08.268522Z"
    },
    "papermill": {
     "duration": 0.044261,
     "end_time": "2022-02-12T00:29:08.269207",
     "exception": false,
     "start_time": "2022-02-12T00:29:08.224946",
     "status": "completed"
    },
    "tags": []
   },
   "outputs": [],
   "source": [
    "# #hide\n",
    "# colors = dict(zip(\n",
    "#     [\"Oceania\", \"Europe\", \"Asia\", \"South America\", \"Middle East\", \"North America\", \"Africa\"],\n",
    "#     [\"#adb0ff\", \"#ffb3ff\", \"#90d595\", \"#e48381\", \"#aafbff\", \"#f7bb5f\", \"#eafb50\"]\n",
    "# ))\n",
    "# group_lk = g.set_index('name')['group'].to_dict()"
   ]
  },
  {
   "cell_type": "code",
   "execution_count": null,
   "id": "gross-drinking",
   "metadata": {
    "papermill": {
     "duration": 0.038955,
     "end_time": "2022-02-12T00:29:08.345919",
     "exception": false,
     "start_time": "2022-02-12T00:29:08.306964",
     "status": "completed"
    },
    "tags": []
   },
   "outputs": [],
   "source": []
  },
  {
   "cell_type": "code",
   "execution_count": 41,
   "id": "subject-macintosh",
   "metadata": {
    "execution": {
     "iopub.execute_input": "2022-02-12T00:29:08.426012Z",
     "iopub.status.busy": "2022-02-12T00:29:08.425160Z",
     "iopub.status.idle": "2022-02-12T00:29:08.427863Z",
     "shell.execute_reply": "2022-02-12T00:29:08.427272Z"
    },
    "papermill": {
     "duration": 0.045506,
     "end_time": "2022-02-12T00:29:08.427986",
     "exception": false,
     "start_time": "2022-02-12T00:29:08.382480",
     "status": "completed"
    },
    "tags": []
   },
   "outputs": [],
   "source": [
    "# #hide\n",
    "# fig, ax = plt.subplots(figsize=(15, 8))\n",
    "\n",
    "# def draw_barchart(current_day):\n",
    "#     dff = g[g['day'].eq(current_day)].sort_values(by='value', ascending=True).tail(10)\n",
    "#     ax.clear()\n",
    "#     ax.barh(dff['name'], dff['value'], color=[colors[group_lk[x]] for x in dff['name']])\n",
    "#     dx = dff['value'].max() / 200\n",
    "    \n",
    "#     for i, (value, name) in enumerate(zip(dff['value'], dff['name'])):\n",
    "#         ax.text(value-dx, i,     name,           size=14, weight=600, ha='right', va='bottom')\n",
    "#         ax.text(value-dx, i-.25, group_lk[name], size=10, color='#444444', ha='right', va='baseline')\n",
    "#         ax.text(value+dx, i,     f'{value:,.0f}',  size=14, ha='left',  va='center')\n",
    "#     ax.text(1, 0.4, current_day, transform=ax.transAxes, color='#777777', size=46, ha='right', weight=800)\n",
    "#     ax.text(0, 1.06, 'Population (thousands)', transform=ax.transAxes, size=12, color='#777777')\n",
    "#     ax.xaxis.set_major_formatter(ticker.StrMethodFormatter('{x:,.0f}'))\n",
    "#     ax.xaxis.set_ticks_position('top')\n",
    "#     ax.tick_params(axis='x', colors='#777777', labelsize=12)\n",
    "#     ax.set_yticks([])\n",
    "#     ax.margins(0, 0.01)\n",
    "#     ax.grid(which='major', axis='x', linestyle='-')\n",
    "#     ax.set_axisbelow(True)\n",
    "    \n",
    "#     ax.text(0, 1.15, 'Coronavirus',\n",
    "#             transform=ax.transAxes, size=24, weight=600, ha='left', va='top')\n",
    "# #     ax.text(1, 0, 'by @pratapvardhan; credit @jburnmurdoch', transform=ax.transAxes, color='#777777', ha='right',\n",
    "# #             bbox=dict(facecolor='white', alpha=0.8, edgecolor='white'))\n",
    "#     plt.box(False)"
   ]
  },
  {
   "cell_type": "code",
   "execution_count": 42,
   "id": "sexual-wages",
   "metadata": {
    "execution": {
     "iopub.execute_input": "2022-02-12T00:29:08.508092Z",
     "iopub.status.busy": "2022-02-12T00:29:08.507502Z",
     "iopub.status.idle": "2022-02-12T00:29:08.510876Z",
     "shell.execute_reply": "2022-02-12T00:29:08.510289Z"
    },
    "papermill": {
     "duration": 0.044582,
     "end_time": "2022-02-12T00:29:08.511011",
     "exception": false,
     "start_time": "2022-02-12T00:29:08.466429",
     "status": "completed"
    },
    "tags": []
   },
   "outputs": [],
   "source": [
    "# #hide_input\n",
    "# fig, ax = plt.subplots(figsize=(15, 8))\n",
    "# animator = animation.FuncAnimation(fig, draw_barchart, frames=range(g.day.values.min(), g.day.values.max()))\n",
    "# HTML(animator.to_jshtml())\n",
    "# # or use animator.to_html5_video() or animator.save() "
   ]
  },
  {
   "cell_type": "code",
   "execution_count": null,
   "id": "australian-container",
   "metadata": {
    "papermill": {
     "duration": 0.036562,
     "end_time": "2022-02-12T00:29:08.585620",
     "exception": false,
     "start_time": "2022-02-12T00:29:08.549058",
     "status": "completed"
    },
    "tags": []
   },
   "outputs": [],
   "source": []
  },
  {
   "cell_type": "code",
   "execution_count": null,
   "id": "mediterranean-pontiac",
   "metadata": {
    "papermill": {
     "duration": 0.038443,
     "end_time": "2022-02-12T00:29:08.661483",
     "exception": false,
     "start_time": "2022-02-12T00:29:08.623040",
     "status": "completed"
    },
    "tags": []
   },
   "outputs": [],
   "source": []
  },
  {
   "cell_type": "code",
   "execution_count": null,
   "id": "aging-legislature",
   "metadata": {
    "papermill": {
     "duration": 0.037881,
     "end_time": "2022-02-12T00:29:08.736727",
     "exception": false,
     "start_time": "2022-02-12T00:29:08.698846",
     "status": "completed"
    },
    "tags": []
   },
   "outputs": [],
   "source": []
  }
 ],
 "metadata": {
  "kernelspec": {
   "display_name": "Python 3",
   "language": "python",
   "name": "python3"
  },
  "language_info": {
   "codemirror_mode": {
    "name": "ipython",
    "version": 3
   },
   "file_extension": ".py",
   "mimetype": "text/x-python",
   "name": "python",
   "nbconvert_exporter": "python",
   "pygments_lexer": "ipython3",
   "version": "3.6.15"
  },
  "papermill": {
   "duration": 7.03248,
   "end_time": "2022-02-12T00:29:09.094718",
   "environment_variables": {},
   "exception": null,
   "input_path": "2020-03-21-covid19exp.ipynb",
   "output_path": "2020-03-21-covid19exp.ipynb",
   "parameters": {},
   "start_time": "2022-02-12T00:29:02.062238",
   "version": "2.0.0"
  }
 },
 "nbformat": 4,
 "nbformat_minor": 5
}