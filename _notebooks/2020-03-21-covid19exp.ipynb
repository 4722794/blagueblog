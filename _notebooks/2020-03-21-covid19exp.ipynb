{
 "cells": [
  {
   "cell_type": "markdown",
   "id": "muslim-click",
   "metadata": {
    "papermill": {
     "duration": 0.040596,
     "end_time": "2021-04-04T00:06:52.592252",
     "exception": false,
     "start_time": "2021-04-04T00:06:52.551656",
     "status": "completed"
    },
    "tags": []
   },
   "source": [
    "# COVID-19 Case Race\n",
    "> A race chart to see rising cases around the world\n",
    "\n",
    "- author: Hargun Oberoi\n",
    "- image: images/covid-overview.png\n",
    "- hide: false\n",
    "- badges: false"
   ]
  },
  {
   "cell_type": "code",
   "execution_count": 1,
   "id": "proof-material",
   "metadata": {
    "execution": {
     "iopub.execute_input": "2021-04-04T00:06:52.681418Z",
     "iopub.status.busy": "2021-04-04T00:06:52.673530Z",
     "iopub.status.idle": "2021-04-04T00:06:53.053871Z",
     "shell.execute_reply": "2021-04-04T00:06:53.052762Z"
    },
    "papermill": {
     "duration": 0.420307,
     "end_time": "2021-04-04T00:06:53.054054",
     "exception": false,
     "start_time": "2021-04-04T00:06:52.633747",
     "status": "completed"
    },
    "tags": []
   },
   "outputs": [],
   "source": [
    "#hide\n",
    "import numpy as np\n",
    "import pandas as pd\n",
    "from jinja2 import Template\n",
    "from IPython.display import HTML"
   ]
  },
  {
   "cell_type": "code",
   "execution_count": 2,
   "id": "developed-terminology",
   "metadata": {
    "execution": {
     "iopub.execute_input": "2021-04-04T00:06:53.127504Z",
     "iopub.status.busy": "2021-04-04T00:06:53.126885Z",
     "iopub.status.idle": "2021-04-04T00:06:53.129190Z",
     "shell.execute_reply": "2021-04-04T00:06:53.128594Z"
    },
    "papermill": {
     "duration": 0.040993,
     "end_time": "2021-04-04T00:06:53.129315",
     "exception": false,
     "start_time": "2021-04-04T00:06:53.088322",
     "status": "completed"
    },
    "tags": []
   },
   "outputs": [],
   "source": [
    "#hide\n",
    "\n",
    "# FETCH\n",
    "base_url = 'https://raw.githubusercontent.com/pratapvardhan/notebooks/master/covid19/'\n",
    "paths = {\n",
    "    'mapping': base_url + 'mapping_countries.csv',\n",
    "    'overview': base_url + 'overview.tpl'\n",
    "}"
   ]
  },
  {
   "cell_type": "code",
   "execution_count": 3,
   "id": "dynamic-saver",
   "metadata": {
    "execution": {
     "iopub.execute_input": "2021-04-04T00:06:53.210217Z",
     "iopub.status.busy": "2021-04-04T00:06:53.209561Z",
     "iopub.status.idle": "2021-04-04T00:06:53.211954Z",
     "shell.execute_reply": "2021-04-04T00:06:53.212500Z"
    },
    "papermill": {
     "duration": 0.048852,
     "end_time": "2021-04-04T00:06:53.212647",
     "exception": false,
     "start_time": "2021-04-04T00:06:53.163795",
     "status": "completed"
    },
    "tags": []
   },
   "outputs": [
    {
     "data": {
      "text/plain": [
       "'https://raw.githubusercontent.com/pratapvardhan/notebooks/master/covid19/mapping_countries.csv'"
      ]
     },
     "execution_count": 3,
     "metadata": {},
     "output_type": "execute_result"
    }
   ],
   "source": [
    "#hide\n",
    "paths['mapping']"
   ]
  },
  {
   "cell_type": "code",
   "execution_count": 4,
   "id": "urban-software",
   "metadata": {
    "execution": {
     "iopub.execute_input": "2021-04-04T00:06:53.289651Z",
     "iopub.status.busy": "2021-04-04T00:06:53.289019Z",
     "iopub.status.idle": "2021-04-04T00:06:53.291422Z",
     "shell.execute_reply": "2021-04-04T00:06:53.291983Z"
    },
    "papermill": {
     "duration": 0.044991,
     "end_time": "2021-04-04T00:06:53.292128",
     "exception": false,
     "start_time": "2021-04-04T00:06:53.247137",
     "status": "completed"
    },
    "tags": []
   },
   "outputs": [],
   "source": [
    "#hide\n",
    "def get_mappings(url):\n",
    "    df = pd.read_csv(url)\n",
    "    return {\n",
    "        'df': df,\n",
    "        'replace.country': dict(df.dropna(subset=['Name']).set_index('Country')['Name']),\n",
    "        'map.continent': dict(df.set_index('Name')['Continent'])\n",
    "    }"
   ]
  },
  {
   "cell_type": "code",
   "execution_count": 5,
   "id": "intimate-machinery",
   "metadata": {
    "execution": {
     "iopub.execute_input": "2021-04-04T00:06:53.366755Z",
     "iopub.status.busy": "2021-04-04T00:06:53.366149Z",
     "iopub.status.idle": "2021-04-04T00:06:53.440558Z",
     "shell.execute_reply": "2021-04-04T00:06:53.441167Z"
    },
    "papermill": {
     "duration": 0.115088,
     "end_time": "2021-04-04T00:06:53.441367",
     "exception": false,
     "start_time": "2021-04-04T00:06:53.326279",
     "status": "completed"
    },
    "tags": []
   },
   "outputs": [],
   "source": [
    "#hide\n",
    "mapping = get_mappings(paths['mapping'])"
   ]
  },
  {
   "cell_type": "code",
   "execution_count": 6,
   "id": "certified-tactics",
   "metadata": {
    "execution": {
     "iopub.execute_input": "2021-04-04T00:06:53.516540Z",
     "iopub.status.busy": "2021-04-04T00:06:53.515946Z",
     "iopub.status.idle": "2021-04-04T00:06:53.518855Z",
     "shell.execute_reply": "2021-04-04T00:06:53.518381Z"
    },
    "papermill": {
     "duration": 0.042506,
     "end_time": "2021-04-04T00:06:53.518988",
     "exception": false,
     "start_time": "2021-04-04T00:06:53.476482",
     "status": "completed"
    },
    "tags": []
   },
   "outputs": [],
   "source": [
    "#hide\n",
    "def get_template(path):\n",
    "    from urllib.parse import urlparse\n",
    "    if bool(urlparse(path).netloc):\n",
    "        from urllib.request import urlopen\n",
    "        return urlopen(path).read().decode('utf8')\n",
    "    return open(path).read()"
   ]
  },
  {
   "cell_type": "code",
   "execution_count": 7,
   "id": "realistic-blast",
   "metadata": {
    "execution": {
     "iopub.execute_input": "2021-04-04T00:06:53.594332Z",
     "iopub.status.busy": "2021-04-04T00:06:53.593714Z",
     "iopub.status.idle": "2021-04-04T00:06:53.598811Z",
     "shell.execute_reply": "2021-04-04T00:06:53.599321Z"
    },
    "papermill": {
     "duration": 0.046265,
     "end_time": "2021-04-04T00:06:53.599478",
     "exception": false,
     "start_time": "2021-04-04T00:06:53.553213",
     "status": "completed"
    },
    "tags": []
   },
   "outputs": [],
   "source": [
    "#hide\n",
    "def get_frame(name):\n",
    "    url = (\n",
    "        'https://raw.githubusercontent.com/CSSEGISandData/COVID-19/master/csse_covid_19_data/'\n",
    "        f'csse_covid_19_time_series/time_series_covid19_{name}_global.csv')\n",
    "    df = pd.read_csv(url)\n",
    "    # rename countries\n",
    "    df['Country/Region'] = df['Country/Region'].replace(mapping['replace.country'])\n",
    "    return df"
   ]
  },
  {
   "cell_type": "code",
   "execution_count": 8,
   "id": "affiliated-characterization",
   "metadata": {
    "execution": {
     "iopub.execute_input": "2021-04-04T00:06:53.674748Z",
     "iopub.status.busy": "2021-04-04T00:06:53.674151Z",
     "iopub.status.idle": "2021-04-04T00:06:53.675946Z",
     "shell.execute_reply": "2021-04-04T00:06:53.676391Z"
    },
    "papermill": {
     "duration": 0.042706,
     "end_time": "2021-04-04T00:06:53.676538",
     "exception": false,
     "start_time": "2021-04-04T00:06:53.633832",
     "status": "completed"
    },
    "tags": []
   },
   "outputs": [],
   "source": [
    "#hide\n",
    "def get_dates(df):\n",
    "    dt_cols = df.columns[~df.columns.isin(['Province/State', 'Country/Region', 'Lat', 'Long'])]\n",
    "    LAST_DATE_I = -1\n",
    "    # sometimes last column may be empty, then go backwards\n",
    "    for i in range(-1, -len(dt_cols), -1):\n",
    "        if not df[dt_cols[i]].fillna(0).eq(0).all():\n",
    "            LAST_DATE_I = i\n",
    "            break\n",
    "    return LAST_DATE_I, dt_cols"
   ]
  },
  {
   "cell_type": "code",
   "execution_count": 9,
   "id": "recent-optimization",
   "metadata": {
    "execution": {
     "iopub.execute_input": "2021-04-04T00:06:53.750656Z",
     "iopub.status.busy": "2021-04-04T00:06:53.750056Z",
     "iopub.status.idle": "2021-04-04T00:06:54.185086Z",
     "shell.execute_reply": "2021-04-04T00:06:54.184557Z"
    },
    "papermill": {
     "duration": 0.474709,
     "end_time": "2021-04-04T00:06:54.185230",
     "exception": false,
     "start_time": "2021-04-04T00:06:53.710521",
     "status": "completed"
    },
    "tags": []
   },
   "outputs": [],
   "source": [
    "#hide\n",
    "COL_REGION = 'Country/Region'\n",
    "# Confirmed, Recovered, Deaths\n",
    "df = get_frame('confirmed')\n",
    "# dft_: timeseries, dfc_: today country agg\n",
    "dft_cases = df\n",
    "dft_deaths = get_frame('deaths')\n",
    "dft_recovered = get_frame('recovered')\n",
    "LAST_DATE_I, dt_cols = get_dates(df)"
   ]
  },
  {
   "cell_type": "code",
   "execution_count": 10,
   "id": "absolute-copper",
   "metadata": {
    "execution": {
     "iopub.execute_input": "2021-04-04T00:06:54.260708Z",
     "iopub.status.busy": "2021-04-04T00:06:54.260095Z",
     "iopub.status.idle": "2021-04-04T00:06:54.264251Z",
     "shell.execute_reply": "2021-04-04T00:06:54.263763Z"
    },
    "papermill": {
     "duration": 0.044274,
     "end_time": "2021-04-04T00:06:54.264387",
     "exception": false,
     "start_time": "2021-04-04T00:06:54.220113",
     "status": "completed"
    },
    "tags": []
   },
   "outputs": [],
   "source": [
    "#hide\n",
    "LAST_DATE_I, dt_cols = get_dates(df)\n",
    "dt_today =dt_cols[LAST_DATE_I]\n",
    "# dt_5day = dt_cols[LAST_DATE_I - 5]\n",
    "dt_yday = dt_cols[LAST_DATE_I - 1]"
   ]
  },
  {
   "cell_type": "code",
   "execution_count": 11,
   "id": "restricted-sheriff",
   "metadata": {
    "execution": {
     "iopub.execute_input": "2021-04-04T00:06:54.344331Z",
     "iopub.status.busy": "2021-04-04T00:06:54.343702Z",
     "iopub.status.idle": "2021-04-04T00:06:54.350435Z",
     "shell.execute_reply": "2021-04-04T00:06:54.349951Z"
    },
    "papermill": {
     "duration": 0.048444,
     "end_time": "2021-04-04T00:06:54.350568",
     "exception": false,
     "start_time": "2021-04-04T00:06:54.302124",
     "status": "completed"
    },
    "tags": []
   },
   "outputs": [],
   "source": [
    "#hide\n",
    "dfc_cases = dft_cases.groupby(COL_REGION)[dt_today].sum()\n",
    "dfc_deaths = dft_deaths.groupby(COL_REGION)[dt_today].sum()\n",
    "# dfp_cases = dft_cases.groupby(COL_REGION)[dt_5day].sum()\n",
    "# dfp_deaths = dft_deaths.groupby(COL_REGION)[dt_5day].sum()\n",
    "dfp_cases = dft_cases.groupby(COL_REGION)[dt_yday].sum()\n",
    "dfp_deaths = dft_deaths.groupby(COL_REGION)[dt_yday].sum()"
   ]
  },
  {
   "cell_type": "code",
   "execution_count": 12,
   "id": "deluxe-hepatitis",
   "metadata": {
    "execution": {
     "iopub.execute_input": "2021-04-04T00:06:54.439474Z",
     "iopub.status.busy": "2021-04-04T00:06:54.438870Z",
     "iopub.status.idle": "2021-04-04T00:06:54.442984Z",
     "shell.execute_reply": "2021-04-04T00:06:54.443535Z"
    },
    "papermill": {
     "duration": 0.058194,
     "end_time": "2021-04-04T00:06:54.443685",
     "exception": false,
     "start_time": "2021-04-04T00:06:54.385491",
     "status": "completed"
    },
    "tags": []
   },
   "outputs": [],
   "source": [
    "#hide\n",
    "df_table = (pd.DataFrame(dict(Cases = dfc_cases, Deaths = dfc_deaths, PCases = dfp_cases, PDeaths = dfp_deaths))\n",
    "            .sort_values(by = ['Cases','Deaths'], ascending = [False, False])\n",
    "            .reset_index())"
   ]
  },
  {
   "cell_type": "code",
   "execution_count": 13,
   "id": "educational-chancellor",
   "metadata": {
    "execution": {
     "iopub.execute_input": "2021-04-04T00:06:54.532443Z",
     "iopub.status.busy": "2021-04-04T00:06:54.531798Z",
     "iopub.status.idle": "2021-04-04T00:06:54.540876Z",
     "shell.execute_reply": "2021-04-04T00:06:54.541355Z"
    },
    "papermill": {
     "duration": 0.063907,
     "end_time": "2021-04-04T00:06:54.541514",
     "exception": false,
     "start_time": "2021-04-04T00:06:54.477607",
     "status": "completed"
    },
    "tags": []
   },
   "outputs": [
    {
     "data": {
      "text/html": [
       "<div>\n",
       "<style scoped>\n",
       "    .dataframe tbody tr th:only-of-type {\n",
       "        vertical-align: middle;\n",
       "    }\n",
       "\n",
       "    .dataframe tbody tr th {\n",
       "        vertical-align: top;\n",
       "    }\n",
       "\n",
       "    .dataframe thead th {\n",
       "        text-align: right;\n",
       "    }\n",
       "</style>\n",
       "<table border=\"1\" class=\"dataframe\">\n",
       "  <thead>\n",
       "    <tr style=\"text-align: right;\">\n",
       "      <th></th>\n",
       "      <th>Country/Region</th>\n",
       "      <th>Cases</th>\n",
       "      <th>Deaths</th>\n",
       "      <th>PCases</th>\n",
       "      <th>PDeaths</th>\n",
       "      <th>Cases (+)</th>\n",
       "      <th>Deaths (+)</th>\n",
       "      <th>Fatality Rate</th>\n",
       "      <th>Continent</th>\n",
       "    </tr>\n",
       "  </thead>\n",
       "  <tbody>\n",
       "    <tr>\n",
       "      <th>0</th>\n",
       "      <td>US</td>\n",
       "      <td>30609690</td>\n",
       "      <td>554103</td>\n",
       "      <td>30539868</td>\n",
       "      <td>553136</td>\n",
       "      <td>69822</td>\n",
       "      <td>967</td>\n",
       "      <td>1.81</td>\n",
       "      <td>North America</td>\n",
       "    </tr>\n",
       "    <tr>\n",
       "      <th>1</th>\n",
       "      <td>Brazil</td>\n",
       "      <td>12910082</td>\n",
       "      <td>328206</td>\n",
       "      <td>12839844</td>\n",
       "      <td>325284</td>\n",
       "      <td>70238</td>\n",
       "      <td>2922</td>\n",
       "      <td>2.54</td>\n",
       "      <td>South America</td>\n",
       "    </tr>\n",
       "    <tr>\n",
       "      <th>2</th>\n",
       "      <td>India</td>\n",
       "      <td>12392260</td>\n",
       "      <td>164110</td>\n",
       "      <td>12303131</td>\n",
       "      <td>163396</td>\n",
       "      <td>89129</td>\n",
       "      <td>714</td>\n",
       "      <td>1.32</td>\n",
       "      <td>Asia</td>\n",
       "    </tr>\n",
       "    <tr>\n",
       "      <th>3</th>\n",
       "      <td>France</td>\n",
       "      <td>4802457</td>\n",
       "      <td>96438</td>\n",
       "      <td>4755779</td>\n",
       "      <td>96106</td>\n",
       "      <td>46678</td>\n",
       "      <td>332</td>\n",
       "      <td>2.01</td>\n",
       "      <td>Europe</td>\n",
       "    </tr>\n",
       "    <tr>\n",
       "      <th>4</th>\n",
       "      <td>Russia</td>\n",
       "      <td>4511973</td>\n",
       "      <td>97986</td>\n",
       "      <td>4503291</td>\n",
       "      <td>97594</td>\n",
       "      <td>8682</td>\n",
       "      <td>392</td>\n",
       "      <td>2.17</td>\n",
       "      <td>Europe</td>\n",
       "    </tr>\n",
       "  </tbody>\n",
       "</table>\n",
       "</div>"
      ],
      "text/plain": [
       "  Country/Region     Cases  Deaths    PCases  PDeaths  Cases (+)  Deaths (+)  \\\n",
       "0             US  30609690  554103  30539868   553136      69822         967   \n",
       "1         Brazil  12910082  328206  12839844   325284      70238        2922   \n",
       "2          India  12392260  164110  12303131   163396      89129         714   \n",
       "3         France   4802457   96438   4755779    96106      46678         332   \n",
       "4         Russia   4511973   97986   4503291    97594       8682         392   \n",
       "\n",
       "   Fatality Rate      Continent  \n",
       "0           1.81  North America  \n",
       "1           2.54  South America  \n",
       "2           1.32           Asia  \n",
       "3           2.01         Europe  \n",
       "4           2.17         Europe  "
      ]
     },
     "execution_count": 13,
     "metadata": {},
     "output_type": "execute_result"
    }
   ],
   "source": [
    "#hide\n",
    "for c in 'Cases, Deaths'.split(', '):\n",
    "    df_table[f'{c} (+)'] = (df_table[c] - df_table[f'P{c}']).clip(0)\n",
    "    #Clip ça veut dire, les chiffres negatif sont interdit\n",
    "df_table['Fatality Rate'] = (100* df_table['Deaths']/ df_table['Cases']).round(2)\n",
    "df_table['Continent'] = df_table['Country/Region'].map(mapping['map.continent'])\n",
    "df_table.head(5)"
   ]
  },
  {
   "cell_type": "code",
   "execution_count": 14,
   "id": "aboriginal-bulgaria",
   "metadata": {
    "execution": {
     "iopub.execute_input": "2021-04-04T00:06:54.617909Z",
     "iopub.status.busy": "2021-04-04T00:06:54.617261Z",
     "iopub.status.idle": "2021-04-04T00:06:54.619124Z",
     "shell.execute_reply": "2021-04-04T00:06:54.619599Z"
    },
    "papermill": {
     "duration": 0.043099,
     "end_time": "2021-04-04T00:06:54.619747",
     "exception": false,
     "start_time": "2021-04-04T00:06:54.576648",
     "status": "completed"
    },
    "tags": []
   },
   "outputs": [],
   "source": [
    "#hide\n",
    "#delete problematic countries from table\n",
    "df_table = df_table[~df_table['Country/Region'].isin(['Cape Verde', 'Cruise Ship', 'Kosovo'])]"
   ]
  },
  {
   "cell_type": "code",
   "execution_count": 15,
   "id": "fantastic-effect",
   "metadata": {
    "execution": {
     "iopub.execute_input": "2021-04-04T00:06:54.699093Z",
     "iopub.status.busy": "2021-04-04T00:06:54.697367Z",
     "iopub.status.idle": "2021-04-04T00:06:54.718162Z",
     "shell.execute_reply": "2021-04-04T00:06:54.718653Z"
    },
    "papermill": {
     "duration": 0.064418,
     "end_time": "2021-04-04T00:06:54.718813",
     "exception": false,
     "start_time": "2021-04-04T00:06:54.654395",
     "status": "completed"
    },
    "tags": []
   },
   "outputs": [
    {
     "data": {
      "text/html": [
       "<div>\n",
       "<style scoped>\n",
       "    .dataframe tbody tr th:only-of-type {\n",
       "        vertical-align: middle;\n",
       "    }\n",
       "\n",
       "    .dataframe tbody tr th {\n",
       "        vertical-align: top;\n",
       "    }\n",
       "\n",
       "    .dataframe thead th {\n",
       "        text-align: right;\n",
       "    }\n",
       "</style>\n",
       "<table border=\"1\" class=\"dataframe\">\n",
       "  <thead>\n",
       "    <tr style=\"text-align: right;\">\n",
       "      <th></th>\n",
       "      <th>Country/Region</th>\n",
       "      <th>Cases</th>\n",
       "      <th>Deaths</th>\n",
       "      <th>PCases</th>\n",
       "      <th>PDeaths</th>\n",
       "      <th>Cases (+)</th>\n",
       "      <th>Deaths (+)</th>\n",
       "      <th>Fatality Rate</th>\n",
       "      <th>Continent</th>\n",
       "    </tr>\n",
       "  </thead>\n",
       "  <tbody>\n",
       "    <tr>\n",
       "      <th>0</th>\n",
       "      <td>US</td>\n",
       "      <td>30609690</td>\n",
       "      <td>554103</td>\n",
       "      <td>30539868</td>\n",
       "      <td>553136</td>\n",
       "      <td>69822</td>\n",
       "      <td>967</td>\n",
       "      <td>1.8</td>\n",
       "      <td>North America</td>\n",
       "    </tr>\n",
       "    <tr>\n",
       "      <th>1</th>\n",
       "      <td>Brazil</td>\n",
       "      <td>12910082</td>\n",
       "      <td>328206</td>\n",
       "      <td>12839844</td>\n",
       "      <td>325284</td>\n",
       "      <td>70238</td>\n",
       "      <td>2922</td>\n",
       "      <td>2.5</td>\n",
       "      <td>South America</td>\n",
       "    </tr>\n",
       "    <tr>\n",
       "      <th>2</th>\n",
       "      <td>India</td>\n",
       "      <td>12392260</td>\n",
       "      <td>164110</td>\n",
       "      <td>12303131</td>\n",
       "      <td>163396</td>\n",
       "      <td>89129</td>\n",
       "      <td>714</td>\n",
       "      <td>1.3</td>\n",
       "      <td>Asia</td>\n",
       "    </tr>\n",
       "    <tr>\n",
       "      <th>3</th>\n",
       "      <td>France</td>\n",
       "      <td>4802457</td>\n",
       "      <td>96438</td>\n",
       "      <td>4755779</td>\n",
       "      <td>96106</td>\n",
       "      <td>46678</td>\n",
       "      <td>332</td>\n",
       "      <td>2.0</td>\n",
       "      <td>Europe</td>\n",
       "    </tr>\n",
       "    <tr>\n",
       "      <th>4</th>\n",
       "      <td>Russia</td>\n",
       "      <td>4511973</td>\n",
       "      <td>97986</td>\n",
       "      <td>4503291</td>\n",
       "      <td>97594</td>\n",
       "      <td>8682</td>\n",
       "      <td>392</td>\n",
       "      <td>2.2</td>\n",
       "      <td>Europe</td>\n",
       "    </tr>\n",
       "  </tbody>\n",
       "</table>\n",
       "</div>"
      ],
      "text/plain": [
       "  Country/Region     Cases  Deaths    PCases  PDeaths  Cases (+)  Deaths (+)  \\\n",
       "0             US  30609690  554103  30539868   553136      69822         967   \n",
       "1         Brazil  12910082  328206  12839844   325284      70238        2922   \n",
       "2          India  12392260  164110  12303131   163396      89129         714   \n",
       "3         France   4802457   96438   4755779    96106      46678         332   \n",
       "4         Russia   4511973   97986   4503291    97594       8682         392   \n",
       "\n",
       "   Fatality Rate      Continent  \n",
       "0            1.8  North America  \n",
       "1            2.5  South America  \n",
       "2            1.3           Asia  \n",
       "3            2.0         Europe  \n",
       "4            2.2         Europe  "
      ]
     },
     "execution_count": 15,
     "metadata": {},
     "output_type": "execute_result"
    }
   ],
   "source": [
    "#hide\n",
    "df_table = (pd.DataFrame(dict(Cases=dfc_cases, Deaths=dfc_deaths, PCases=dfp_cases, PDeaths=dfp_deaths))\n",
    "             .sort_values(by=['Cases', 'Deaths'], ascending=[False, False])\n",
    "             .reset_index())\n",
    "df_table.rename(columns={'index': 'Country/Region'}, inplace=True)\n",
    "for c in 'Cases, Deaths'.split(', '):\n",
    "    df_table[f'{c} (+)'] = (df_table[c] - df_table[f'P{c}']).clip(0)  # DATA BUG\n",
    "df_table['Fatality Rate'] = (100 * df_table['Deaths'] / df_table['Cases']).round(1)\n",
    "df_table['Continent'] = df_table['Country/Region'].map(mapping['map.continent'])\n",
    "df_table.head(5)"
   ]
  },
  {
   "cell_type": "code",
   "execution_count": 16,
   "id": "fewer-occasion",
   "metadata": {
    "execution": {
     "iopub.execute_input": "2021-04-04T00:06:54.796559Z",
     "iopub.status.busy": "2021-04-04T00:06:54.795970Z",
     "iopub.status.idle": "2021-04-04T00:06:54.798277Z",
     "shell.execute_reply": "2021-04-04T00:06:54.798726Z"
    },
    "papermill": {
     "duration": 0.044562,
     "end_time": "2021-04-04T00:06:54.798872",
     "exception": false,
     "start_time": "2021-04-04T00:06:54.754310",
     "status": "completed"
    },
    "tags": []
   },
   "outputs": [],
   "source": [
    "#hide\n",
    "#delete problematic countries from table\n",
    "df_table = df_table[~df_table['Country/Region'].isin(['Cape Verde', 'Cruise Ship', 'Kosovo'])]"
   ]
  },
  {
   "cell_type": "code",
   "execution_count": 17,
   "id": "related-center",
   "metadata": {
    "execution": {
     "iopub.execute_input": "2021-04-04T00:06:54.892159Z",
     "iopub.status.busy": "2021-04-04T00:06:54.891522Z",
     "iopub.status.idle": "2021-04-04T00:06:54.894265Z",
     "shell.execute_reply": "2021-04-04T00:06:54.893739Z"
    },
    "papermill": {
     "duration": 0.060286,
     "end_time": "2021-04-04T00:06:54.894399",
     "exception": false,
     "start_time": "2021-04-04T00:06:54.834113",
     "status": "completed"
    },
    "tags": []
   },
   "outputs": [],
   "source": [
    "#hide\n",
    "metrics = [df_table.columns[index] for index in [1,2,5,6]]\n",
    "# s_china = df_table[df_table['Country/Region'].eq('China')][metrics].sum().add_prefix('China ')\n",
    "s_us = df_table[df_table['Country/Region'].eq('US')][metrics].sum().add_prefix('US ')\n",
    "s_eu = df_table[df_table['Continent'].eq('Europe')][metrics].sum().add_prefix('EU ')\n",
    "s_ind = df_table[df_table['Country/Region'].eq('India')][metrics].sum().add_prefix('India ')\n",
    "summary = {'updated': pd.to_datetime(dt_today), 'since': pd.to_datetime(dt_yday)}\n",
    "summary = {'updated': pd.to_datetime(dt_today), 'since': pd.to_datetime(dt_yday)}\n",
    "summary = {**summary, **df_table[metrics].sum(), **s_ind, **s_us, **s_eu}"
   ]
  },
  {
   "cell_type": "code",
   "execution_count": 18,
   "id": "engaging-syndrome",
   "metadata": {
    "execution": {
     "iopub.execute_input": "2021-04-04T00:06:54.972033Z",
     "iopub.status.busy": "2021-04-04T00:06:54.971357Z",
     "iopub.status.idle": "2021-04-04T00:06:54.984387Z",
     "shell.execute_reply": "2021-04-04T00:06:54.983879Z"
    },
    "papermill": {
     "duration": 0.054721,
     "end_time": "2021-04-04T00:06:54.984527",
     "exception": false,
     "start_time": "2021-04-04T00:06:54.929806",
     "status": "completed"
    },
    "tags": []
   },
   "outputs": [],
   "source": [
    "#hide\n",
    "dft_ct_new_cases = dft_cases.groupby(COL_REGION)[dt_cols].sum().diff(axis=1).fillna(0).astype(int)"
   ]
  },
  {
   "cell_type": "code",
   "execution_count": 19,
   "id": "neutral-assignment",
   "metadata": {
    "execution": {
     "iopub.execute_input": "2021-04-04T00:06:55.062353Z",
     "iopub.status.busy": "2021-04-04T00:06:55.061743Z",
     "iopub.status.idle": "2021-04-04T00:06:55.063113Z",
     "shell.execute_reply": "2021-04-04T00:06:55.063658Z"
    },
    "papermill": {
     "duration": 0.043229,
     "end_time": "2021-04-04T00:06:55.063808",
     "exception": false,
     "start_time": "2021-04-04T00:06:55.020579",
     "status": "completed"
    },
    "tags": []
   },
   "outputs": [],
   "source": [
    "#hide\n",
    "everydaycases = dft_ct_new_cases.cumsum(axis=1)"
   ]
  },
  {
   "cell_type": "code",
   "execution_count": 20,
   "id": "parliamentary-calgary",
   "metadata": {
    "execution": {
     "iopub.execute_input": "2021-04-04T00:06:55.139413Z",
     "iopub.status.busy": "2021-04-04T00:06:55.138818Z",
     "iopub.status.idle": "2021-04-04T00:06:57.161974Z",
     "shell.execute_reply": "2021-04-04T00:06:57.160962Z"
    },
    "papermill": {
     "duration": 2.062792,
     "end_time": "2021-04-04T00:06:57.162131",
     "exception": false,
     "start_time": "2021-04-04T00:06:55.099339",
     "status": "completed"
    },
    "tags": []
   },
   "outputs": [],
   "source": [
    "#hide\n",
    "import pandas as pd\n",
    "import matplotlib.pyplot as plt\n",
    "import matplotlib.ticker as ticker\n",
    "import matplotlib.animation as animation\n",
    "from IPython.display import HTML"
   ]
  },
  {
   "cell_type": "code",
   "execution_count": 21,
   "id": "lasting-extraction",
   "metadata": {
    "execution": {
     "iopub.execute_input": "2021-04-04T00:06:57.239232Z",
     "iopub.status.busy": "2021-04-04T00:06:57.238542Z",
     "iopub.status.idle": "2021-04-04T00:06:57.244143Z",
     "shell.execute_reply": "2021-04-04T00:06:57.243661Z"
    },
    "papermill": {
     "duration": 0.046854,
     "end_time": "2021-04-04T00:06:57.244275",
     "exception": false,
     "start_time": "2021-04-04T00:06:57.197421",
     "status": "completed"
    },
    "tags": []
   },
   "outputs": [],
   "source": [
    "#hide\n",
    "t = everydaycases.stack()"
   ]
  },
  {
   "cell_type": "code",
   "execution_count": 22,
   "id": "premier-sleeve",
   "metadata": {
    "execution": {
     "iopub.execute_input": "2021-04-04T00:06:57.326165Z",
     "iopub.status.busy": "2021-04-04T00:06:57.325536Z",
     "iopub.status.idle": "2021-04-04T00:06:57.335829Z",
     "shell.execute_reply": "2021-04-04T00:06:57.334833Z"
    },
    "papermill": {
     "duration": 0.050757,
     "end_time": "2021-04-04T00:06:57.336035",
     "exception": false,
     "start_time": "2021-04-04T00:06:57.285278",
     "status": "completed"
    },
    "tags": []
   },
   "outputs": [],
   "source": [
    "#hide\n",
    "g = t.reset_index(['Country/Region'])"
   ]
  },
  {
   "cell_type": "code",
   "execution_count": 23,
   "id": "distributed-pittsburgh",
   "metadata": {
    "execution": {
     "iopub.execute_input": "2021-04-04T00:06:57.413783Z",
     "iopub.status.busy": "2021-04-04T00:06:57.413154Z",
     "iopub.status.idle": "2021-04-04T00:06:57.414969Z",
     "shell.execute_reply": "2021-04-04T00:06:57.415441Z"
    },
    "papermill": {
     "duration": 0.042302,
     "end_time": "2021-04-04T00:06:57.415581",
     "exception": false,
     "start_time": "2021-04-04T00:06:57.373279",
     "status": "completed"
    },
    "tags": []
   },
   "outputs": [],
   "source": [
    "#hide\n",
    "g.index.name = 'date'"
   ]
  },
  {
   "cell_type": "code",
   "execution_count": 24,
   "id": "naked-donor",
   "metadata": {
    "execution": {
     "iopub.execute_input": "2021-04-04T00:06:57.490491Z",
     "iopub.status.busy": "2021-04-04T00:06:57.489891Z",
     "iopub.status.idle": "2021-04-04T00:06:57.492140Z",
     "shell.execute_reply": "2021-04-04T00:06:57.491644Z"
    },
    "papermill": {
     "duration": 0.041534,
     "end_time": "2021-04-04T00:06:57.492263",
     "exception": false,
     "start_time": "2021-04-04T00:06:57.450729",
     "status": "completed"
    },
    "tags": []
   },
   "outputs": [],
   "source": [
    "# #hide\n",
    "# g = g.reset_index(['date'])"
   ]
  },
  {
   "cell_type": "code",
   "execution_count": 25,
   "id": "incomplete-mustang",
   "metadata": {
    "execution": {
     "iopub.execute_input": "2021-04-04T00:06:57.569981Z",
     "iopub.status.busy": "2021-04-04T00:06:57.568837Z",
     "iopub.status.idle": "2021-04-04T00:06:57.571084Z",
     "shell.execute_reply": "2021-04-04T00:06:57.571890Z"
    },
    "papermill": {
     "duration": 0.044687,
     "end_time": "2021-04-04T00:06:57.572120",
     "exception": false,
     "start_time": "2021-04-04T00:06:57.527433",
     "status": "completed"
    },
    "tags": []
   },
   "outputs": [],
   "source": [
    "#hide\n",
    "# g.head()"
   ]
  },
  {
   "cell_type": "code",
   "execution_count": 26,
   "id": "specific-kruger",
   "metadata": {
    "execution": {
     "iopub.execute_input": "2021-04-04T00:06:57.652975Z",
     "iopub.status.busy": "2021-04-04T00:06:57.652227Z",
     "iopub.status.idle": "2021-04-04T00:06:57.653665Z",
     "shell.execute_reply": "2021-04-04T00:06:57.654364Z"
    },
    "papermill": {
     "duration": 0.042319,
     "end_time": "2021-04-04T00:06:57.654524",
     "exception": false,
     "start_time": "2021-04-04T00:06:57.612205",
     "status": "completed"
    },
    "tags": []
   },
   "outputs": [],
   "source": [
    "#hide\n",
    "# g.columns = ['date','country','cases']"
   ]
  },
  {
   "cell_type": "code",
   "execution_count": 27,
   "id": "tender-conversion",
   "metadata": {
    "execution": {
     "iopub.execute_input": "2021-04-04T00:06:57.730935Z",
     "iopub.status.busy": "2021-04-04T00:06:57.730319Z",
     "iopub.status.idle": "2021-04-04T00:06:57.732632Z",
     "shell.execute_reply": "2021-04-04T00:06:57.732160Z"
    },
    "papermill": {
     "duration": 0.041522,
     "end_time": "2021-04-04T00:06:57.732762",
     "exception": false,
     "start_time": "2021-04-04T00:06:57.691240",
     "status": "completed"
    },
    "tags": []
   },
   "outputs": [],
   "source": [
    "#hide\n",
    "# g['continent'] = g.country"
   ]
  },
  {
   "cell_type": "code",
   "execution_count": 28,
   "id": "substantial-wilderness",
   "metadata": {
    "execution": {
     "iopub.execute_input": "2021-04-04T00:06:57.817240Z",
     "iopub.status.busy": "2021-04-04T00:06:57.816657Z",
     "iopub.status.idle": "2021-04-04T00:06:57.818954Z",
     "shell.execute_reply": "2021-04-04T00:06:57.818466Z"
    },
    "papermill": {
     "duration": 0.042836,
     "end_time": "2021-04-04T00:06:57.819075",
     "exception": false,
     "start_time": "2021-04-04T00:06:57.776239",
     "status": "completed"
    },
    "tags": []
   },
   "outputs": [],
   "source": [
    "#hide\n",
    "# cols = list(g.columns.values)"
   ]
  },
  {
   "cell_type": "code",
   "execution_count": 29,
   "id": "solved-farming",
   "metadata": {
    "execution": {
     "iopub.execute_input": "2021-04-04T00:06:57.911801Z",
     "iopub.status.busy": "2021-04-04T00:06:57.911216Z",
     "iopub.status.idle": "2021-04-04T00:06:57.913306Z",
     "shell.execute_reply": "2021-04-04T00:06:57.913818Z"
    },
    "papermill": {
     "duration": 0.042447,
     "end_time": "2021-04-04T00:06:57.913974",
     "exception": false,
     "start_time": "2021-04-04T00:06:57.871527",
     "status": "completed"
    },
    "tags": []
   },
   "outputs": [],
   "source": [
    "#hide\n",
    "# cols.insert(0, cols.pop())"
   ]
  },
  {
   "cell_type": "code",
   "execution_count": 30,
   "id": "executed-adoption",
   "metadata": {
    "execution": {
     "iopub.execute_input": "2021-04-04T00:06:57.989832Z",
     "iopub.status.busy": "2021-04-04T00:06:57.989133Z",
     "iopub.status.idle": "2021-04-04T00:06:57.990459Z",
     "shell.execute_reply": "2021-04-04T00:06:57.990917Z"
    },
    "papermill": {
     "duration": 0.041886,
     "end_time": "2021-04-04T00:06:57.991058",
     "exception": false,
     "start_time": "2021-04-04T00:06:57.949172",
     "status": "completed"
    },
    "tags": []
   },
   "outputs": [],
   "source": [
    "#hide\n",
    "# g = g[cols]"
   ]
  },
  {
   "cell_type": "code",
   "execution_count": 31,
   "id": "subject-dublin",
   "metadata": {
    "execution": {
     "iopub.execute_input": "2021-04-04T00:06:58.069150Z",
     "iopub.status.busy": "2021-04-04T00:06:58.068546Z",
     "iopub.status.idle": "2021-04-04T00:06:58.071196Z",
     "shell.execute_reply": "2021-04-04T00:06:58.071770Z"
    },
    "papermill": {
     "duration": 0.044201,
     "end_time": "2021-04-04T00:06:58.071912",
     "exception": false,
     "start_time": "2021-04-04T00:06:58.027711",
     "status": "completed"
    },
    "tags": []
   },
   "outputs": [],
   "source": [
    "#hide\n",
    "# g['continent'] = g['continent'].map(mapping['map.continent'])"
   ]
  },
  {
   "cell_type": "code",
   "execution_count": 32,
   "id": "freelance-scout",
   "metadata": {
    "execution": {
     "iopub.execute_input": "2021-04-04T00:06:58.148818Z",
     "iopub.status.busy": "2021-04-04T00:06:58.147786Z",
     "iopub.status.idle": "2021-04-04T00:06:58.149941Z",
     "shell.execute_reply": "2021-04-04T00:06:58.150765Z"
    },
    "papermill": {
     "duration": 0.0438,
     "end_time": "2021-04-04T00:06:58.150991",
     "exception": false,
     "start_time": "2021-04-04T00:06:58.107191",
     "status": "completed"
    },
    "tags": []
   },
   "outputs": [],
   "source": [
    "#hide\n",
    "# g.head()"
   ]
  },
  {
   "cell_type": "code",
   "execution_count": 33,
   "id": "limited-engine",
   "metadata": {
    "execution": {
     "iopub.execute_input": "2021-04-04T00:06:58.225573Z",
     "iopub.status.busy": "2021-04-04T00:06:58.224974Z",
     "iopub.status.idle": "2021-04-04T00:06:58.228624Z",
     "shell.execute_reply": "2021-04-04T00:06:58.229137Z"
    },
    "papermill": {
     "duration": 0.043318,
     "end_time": "2021-04-04T00:06:58.229285",
     "exception": false,
     "start_time": "2021-04-04T00:06:58.185967",
     "status": "completed"
    },
    "tags": []
   },
   "outputs": [],
   "source": [
    "# hide\n",
    "# g['date'] = g['date'].astype('datetime64[ns]')"
   ]
  },
  {
   "cell_type": "code",
   "execution_count": 34,
   "id": "sophisticated-supervisor",
   "metadata": {
    "execution": {
     "iopub.execute_input": "2021-04-04T00:06:58.304008Z",
     "iopub.status.busy": "2021-04-04T00:06:58.303398Z",
     "iopub.status.idle": "2021-04-04T00:06:58.305674Z",
     "shell.execute_reply": "2021-04-04T00:06:58.306141Z"
    },
    "papermill": {
     "duration": 0.041973,
     "end_time": "2021-04-04T00:06:58.306279",
     "exception": false,
     "start_time": "2021-04-04T00:06:58.264306",
     "status": "completed"
    },
    "tags": []
   },
   "outputs": [],
   "source": [
    "#hide\n",
    "# g['date'] = g.date.dt.dayofyear"
   ]
  },
  {
   "cell_type": "code",
   "execution_count": 35,
   "id": "inside-dubai",
   "metadata": {
    "execution": {
     "iopub.execute_input": "2021-04-04T00:06:58.381197Z",
     "iopub.status.busy": "2021-04-04T00:06:58.380608Z",
     "iopub.status.idle": "2021-04-04T00:06:58.382924Z",
     "shell.execute_reply": "2021-04-04T00:06:58.383485Z"
    },
    "papermill": {
     "duration": 0.042285,
     "end_time": "2021-04-04T00:06:58.383627",
     "exception": false,
     "start_time": "2021-04-04T00:06:58.341342",
     "status": "completed"
    },
    "tags": []
   },
   "outputs": [],
   "source": [
    "#hide\n",
    "# g = g.rename(columns= {'continent':'group','country':'name','cases':'value'})"
   ]
  },
  {
   "cell_type": "code",
   "execution_count": 36,
   "id": "fleet-motorcycle",
   "metadata": {
    "execution": {
     "iopub.execute_input": "2021-04-04T00:06:58.458085Z",
     "iopub.status.busy": "2021-04-04T00:06:58.457453Z",
     "iopub.status.idle": "2021-04-04T00:06:58.459741Z",
     "shell.execute_reply": "2021-04-04T00:06:58.459247Z"
    },
    "papermill": {
     "duration": 0.041339,
     "end_time": "2021-04-04T00:06:58.459865",
     "exception": false,
     "start_time": "2021-04-04T00:06:58.418526",
     "status": "completed"
    },
    "tags": []
   },
   "outputs": [],
   "source": [
    "#hide\n",
    "# cols = ['name','group','day','value']"
   ]
  },
  {
   "cell_type": "code",
   "execution_count": 37,
   "id": "continued-sleeping",
   "metadata": {
    "execution": {
     "iopub.execute_input": "2021-04-04T00:06:58.534201Z",
     "iopub.status.busy": "2021-04-04T00:06:58.533568Z",
     "iopub.status.idle": "2021-04-04T00:06:58.535646Z",
     "shell.execute_reply": "2021-04-04T00:06:58.536114Z"
    },
    "papermill": {
     "duration": 0.0414,
     "end_time": "2021-04-04T00:06:58.536259",
     "exception": false,
     "start_time": "2021-04-04T00:06:58.494859",
     "status": "completed"
    },
    "tags": []
   },
   "outputs": [],
   "source": [
    "#hide\n",
    "# g.rename(columns= {'date':'day'},inplace = True)"
   ]
  },
  {
   "cell_type": "code",
   "execution_count": 38,
   "id": "major-fight",
   "metadata": {
    "execution": {
     "iopub.execute_input": "2021-04-04T00:06:58.611434Z",
     "iopub.status.busy": "2021-04-04T00:06:58.610790Z",
     "iopub.status.idle": "2021-04-04T00:06:58.612359Z",
     "shell.execute_reply": "2021-04-04T00:06:58.612886Z"
    },
    "papermill": {
     "duration": 0.041563,
     "end_time": "2021-04-04T00:06:58.613036",
     "exception": false,
     "start_time": "2021-04-04T00:06:58.571473",
     "status": "completed"
    },
    "tags": []
   },
   "outputs": [],
   "source": [
    "#hide\n",
    "# g = g[cols]"
   ]
  },
  {
   "cell_type": "code",
   "execution_count": 39,
   "id": "structured-mobile",
   "metadata": {
    "execution": {
     "iopub.execute_input": "2021-04-04T00:06:58.690842Z",
     "iopub.status.busy": "2021-04-04T00:06:58.689873Z",
     "iopub.status.idle": "2021-04-04T00:06:58.691914Z",
     "shell.execute_reply": "2021-04-04T00:06:58.691418Z"
    },
    "papermill": {
     "duration": 0.043077,
     "end_time": "2021-04-04T00:06:58.692039",
     "exception": false,
     "start_time": "2021-04-04T00:06:58.648962",
     "status": "completed"
    },
    "tags": []
   },
   "outputs": [],
   "source": [
    "# #hide\n",
    "# g = g[g.group.notna()]"
   ]
  },
  {
   "cell_type": "code",
   "execution_count": 40,
   "id": "determined-closing",
   "metadata": {
    "execution": {
     "iopub.execute_input": "2021-04-04T00:06:58.768339Z",
     "iopub.status.busy": "2021-04-04T00:06:58.767739Z",
     "iopub.status.idle": "2021-04-04T00:06:58.770245Z",
     "shell.execute_reply": "2021-04-04T00:06:58.770806Z"
    },
    "papermill": {
     "duration": 0.042821,
     "end_time": "2021-04-04T00:06:58.770953",
     "exception": false,
     "start_time": "2021-04-04T00:06:58.728132",
     "status": "completed"
    },
    "tags": []
   },
   "outputs": [],
   "source": [
    "# #hide\n",
    "# colors = dict(zip(\n",
    "#     [\"Oceania\", \"Europe\", \"Asia\", \"South America\", \"Middle East\", \"North America\", \"Africa\"],\n",
    "#     [\"#adb0ff\", \"#ffb3ff\", \"#90d595\", \"#e48381\", \"#aafbff\", \"#f7bb5f\", \"#eafb50\"]\n",
    "# ))\n",
    "# group_lk = g.set_index('name')['group'].to_dict()"
   ]
  },
  {
   "cell_type": "code",
   "execution_count": null,
   "id": "gross-drinking",
   "metadata": {
    "papermill": {
     "duration": 0.040966,
     "end_time": "2021-04-04T00:06:58.848906",
     "exception": false,
     "start_time": "2021-04-04T00:06:58.807940",
     "status": "completed"
    },
    "tags": []
   },
   "outputs": [],
   "source": []
  },
  {
   "cell_type": "code",
   "execution_count": 41,
   "id": "subject-macintosh",
   "metadata": {
    "execution": {
     "iopub.execute_input": "2021-04-04T00:06:58.925247Z",
     "iopub.status.busy": "2021-04-04T00:06:58.924419Z",
     "iopub.status.idle": "2021-04-04T00:06:58.926474Z",
     "shell.execute_reply": "2021-04-04T00:06:58.926949Z"
    },
    "papermill": {
     "duration": 0.042587,
     "end_time": "2021-04-04T00:06:58.927099",
     "exception": false,
     "start_time": "2021-04-04T00:06:58.884512",
     "status": "completed"
    },
    "tags": []
   },
   "outputs": [],
   "source": [
    "# #hide\n",
    "# fig, ax = plt.subplots(figsize=(15, 8))\n",
    "\n",
    "# def draw_barchart(current_day):\n",
    "#     dff = g[g['day'].eq(current_day)].sort_values(by='value', ascending=True).tail(10)\n",
    "#     ax.clear()\n",
    "#     ax.barh(dff['name'], dff['value'], color=[colors[group_lk[x]] for x in dff['name']])\n",
    "#     dx = dff['value'].max() / 200\n",
    "    \n",
    "#     for i, (value, name) in enumerate(zip(dff['value'], dff['name'])):\n",
    "#         ax.text(value-dx, i,     name,           size=14, weight=600, ha='right', va='bottom')\n",
    "#         ax.text(value-dx, i-.25, group_lk[name], size=10, color='#444444', ha='right', va='baseline')\n",
    "#         ax.text(value+dx, i,     f'{value:,.0f}',  size=14, ha='left',  va='center')\n",
    "#     ax.text(1, 0.4, current_day, transform=ax.transAxes, color='#777777', size=46, ha='right', weight=800)\n",
    "#     ax.text(0, 1.06, 'Population (thousands)', transform=ax.transAxes, size=12, color='#777777')\n",
    "#     ax.xaxis.set_major_formatter(ticker.StrMethodFormatter('{x:,.0f}'))\n",
    "#     ax.xaxis.set_ticks_position('top')\n",
    "#     ax.tick_params(axis='x', colors='#777777', labelsize=12)\n",
    "#     ax.set_yticks([])\n",
    "#     ax.margins(0, 0.01)\n",
    "#     ax.grid(which='major', axis='x', linestyle='-')\n",
    "#     ax.set_axisbelow(True)\n",
    "    \n",
    "#     ax.text(0, 1.15, 'Coronavirus',\n",
    "#             transform=ax.transAxes, size=24, weight=600, ha='left', va='top')\n",
    "# #     ax.text(1, 0, 'by @pratapvardhan; credit @jburnmurdoch', transform=ax.transAxes, color='#777777', ha='right',\n",
    "# #             bbox=dict(facecolor='white', alpha=0.8, edgecolor='white'))\n",
    "#     plt.box(False)"
   ]
  },
  {
   "cell_type": "code",
   "execution_count": 42,
   "id": "sexual-wages",
   "metadata": {
    "execution": {
     "iopub.execute_input": "2021-04-04T00:06:59.006904Z",
     "iopub.status.busy": "2021-04-04T00:06:59.006305Z",
     "iopub.status.idle": "2021-04-04T00:06:59.008587Z",
     "shell.execute_reply": "2021-04-04T00:06:59.008000Z"
    },
    "papermill": {
     "duration": 0.044239,
     "end_time": "2021-04-04T00:06:59.008712",
     "exception": false,
     "start_time": "2021-04-04T00:06:58.964473",
     "status": "completed"
    },
    "tags": []
   },
   "outputs": [],
   "source": [
    "# #hide_input\n",
    "# fig, ax = plt.subplots(figsize=(15, 8))\n",
    "# animator = animation.FuncAnimation(fig, draw_barchart, frames=range(g.day.values.min(), g.day.values.max()))\n",
    "# HTML(animator.to_jshtml())\n",
    "# # or use animator.to_html5_video() or animator.save() "
   ]
  },
  {
   "cell_type": "code",
   "execution_count": null,
   "id": "australian-container",
   "metadata": {
    "papermill": {
     "duration": 0.034995,
     "end_time": "2021-04-04T00:06:59.079187",
     "exception": false,
     "start_time": "2021-04-04T00:06:59.044192",
     "status": "completed"
    },
    "tags": []
   },
   "outputs": [],
   "source": []
  },
  {
   "cell_type": "code",
   "execution_count": null,
   "id": "mediterranean-pontiac",
   "metadata": {
    "papermill": {
     "duration": 0.035151,
     "end_time": "2021-04-04T00:06:59.149387",
     "exception": false,
     "start_time": "2021-04-04T00:06:59.114236",
     "status": "completed"
    },
    "tags": []
   },
   "outputs": [],
   "source": []
  },
  {
   "cell_type": "code",
   "execution_count": null,
   "id": "aging-legislature",
   "metadata": {
    "papermill": {
     "duration": 0.03489,
     "end_time": "2021-04-04T00:06:59.219543",
     "exception": false,
     "start_time": "2021-04-04T00:06:59.184653",
     "status": "completed"
    },
    "tags": []
   },
   "outputs": [],
   "source": []
  }
 ],
 "metadata": {
  "kernelspec": {
   "display_name": "Python 3",
   "language": "python",
   "name": "python3"
  },
  "language_info": {
   "codemirror_mode": {
    "name": "ipython",
    "version": 3
   },
   "file_extension": ".py",
   "mimetype": "text/x-python",
   "name": "python",
   "nbconvert_exporter": "python",
   "pygments_lexer": "ipython3",
   "version": "3.6.13"
  },
  "papermill": {
   "duration": 8.222929,
   "end_time": "2021-04-04T00:06:59.663651",
   "environment_variables": {},
   "exception": null,
   "input_path": "2020-03-21-covid19exp.ipynb",
   "output_path": "2020-03-21-covid19exp.ipynb",
   "parameters": {},
   "start_time": "2021-04-04T00:06:51.440722",
   "version": "2.0.0"
  }
 },
 "nbformat": 4,
 "nbformat_minor": 5
}