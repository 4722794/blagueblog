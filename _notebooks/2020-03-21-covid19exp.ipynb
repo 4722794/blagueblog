{
 "cells": [
  {
   "cell_type": "markdown",
   "id": "muslim-click",
   "metadata": {
    "papermill": {
     "duration": 0.042932,
     "end_time": "2021-04-19T12:04:01.138619",
     "exception": false,
     "start_time": "2021-04-19T12:04:01.095687",
     "status": "completed"
    },
    "tags": []
   },
   "source": [
    "# COVID-19 Case Race\n",
    "> A race chart to see rising cases around the world\n",
    "\n",
    "- author: Hargun Oberoi\n",
    "- image: images/covid-overview.png\n",
    "- hide: false\n",
    "- badges: false"
   ]
  },
  {
   "cell_type": "code",
   "execution_count": 1,
   "id": "proof-material",
   "metadata": {
    "execution": {
     "iopub.execute_input": "2021-04-19T12:04:01.215133Z",
     "iopub.status.busy": "2021-04-19T12:04:01.214101Z",
     "iopub.status.idle": "2021-04-19T12:04:01.544422Z",
     "shell.execute_reply": "2021-04-19T12:04:01.543420Z"
    },
    "papermill": {
     "duration": 0.372994,
     "end_time": "2021-04-19T12:04:01.544605",
     "exception": false,
     "start_time": "2021-04-19T12:04:01.171611",
     "status": "completed"
    },
    "tags": []
   },
   "outputs": [],
   "source": [
    "#hide\n",
    "import numpy as np\n",
    "import pandas as pd\n",
    "from jinja2 import Template\n",
    "from IPython.display import HTML"
   ]
  },
  {
   "cell_type": "code",
   "execution_count": 2,
   "id": "developed-terminology",
   "metadata": {
    "execution": {
     "iopub.execute_input": "2021-04-19T12:04:01.616246Z",
     "iopub.status.busy": "2021-04-19T12:04:01.615648Z",
     "iopub.status.idle": "2021-04-19T12:04:01.618260Z",
     "shell.execute_reply": "2021-04-19T12:04:01.618822Z"
    },
    "papermill": {
     "duration": 0.041713,
     "end_time": "2021-04-19T12:04:01.618965",
     "exception": false,
     "start_time": "2021-04-19T12:04:01.577252",
     "status": "completed"
    },
    "tags": []
   },
   "outputs": [],
   "source": [
    "#hide\n",
    "\n",
    "# FETCH\n",
    "base_url = 'https://raw.githubusercontent.com/pratapvardhan/notebooks/master/covid19/'\n",
    "paths = {\n",
    "    'mapping': base_url + 'mapping_countries.csv',\n",
    "    'overview': base_url + 'overview.tpl'\n",
    "}"
   ]
  },
  {
   "cell_type": "code",
   "execution_count": 3,
   "id": "dynamic-saver",
   "metadata": {
    "execution": {
     "iopub.execute_input": "2021-04-19T12:04:01.695112Z",
     "iopub.status.busy": "2021-04-19T12:04:01.694499Z",
     "iopub.status.idle": "2021-04-19T12:04:01.697910Z",
     "shell.execute_reply": "2021-04-19T12:04:01.697143Z"
    },
    "papermill": {
     "duration": 0.046457,
     "end_time": "2021-04-19T12:04:01.698045",
     "exception": false,
     "start_time": "2021-04-19T12:04:01.651588",
     "status": "completed"
    },
    "tags": []
   },
   "outputs": [
    {
     "data": {
      "text/plain": [
       "'https://raw.githubusercontent.com/pratapvardhan/notebooks/master/covid19/mapping_countries.csv'"
      ]
     },
     "execution_count": 3,
     "metadata": {},
     "output_type": "execute_result"
    }
   ],
   "source": [
    "#hide\n",
    "paths['mapping']"
   ]
  },
  {
   "cell_type": "code",
   "execution_count": 4,
   "id": "urban-software",
   "metadata": {
    "execution": {
     "iopub.execute_input": "2021-04-19T12:04:01.774883Z",
     "iopub.status.busy": "2021-04-19T12:04:01.774281Z",
     "iopub.status.idle": "2021-04-19T12:04:01.776674Z",
     "shell.execute_reply": "2021-04-19T12:04:01.776184Z"
    },
    "papermill": {
     "duration": 0.044171,
     "end_time": "2021-04-19T12:04:01.776794",
     "exception": false,
     "start_time": "2021-04-19T12:04:01.732623",
     "status": "completed"
    },
    "tags": []
   },
   "outputs": [],
   "source": [
    "#hide\n",
    "def get_mappings(url):\n",
    "    df = pd.read_csv(url)\n",
    "    return {\n",
    "        'df': df,\n",
    "        'replace.country': dict(df.dropna(subset=['Name']).set_index('Country')['Name']),\n",
    "        'map.continent': dict(df.set_index('Name')['Continent'])\n",
    "    }"
   ]
  },
  {
   "cell_type": "code",
   "execution_count": 5,
   "id": "intimate-machinery",
   "metadata": {
    "execution": {
     "iopub.execute_input": "2021-04-19T12:04:01.853426Z",
     "iopub.status.busy": "2021-04-19T12:04:01.852693Z",
     "iopub.status.idle": "2021-04-19T12:04:01.899272Z",
     "shell.execute_reply": "2021-04-19T12:04:01.898347Z"
    },
    "papermill": {
     "duration": 0.089356,
     "end_time": "2021-04-19T12:04:01.899470",
     "exception": false,
     "start_time": "2021-04-19T12:04:01.810114",
     "status": "completed"
    },
    "tags": []
   },
   "outputs": [],
   "source": [
    "#hide\n",
    "mapping = get_mappings(paths['mapping'])"
   ]
  },
  {
   "cell_type": "code",
   "execution_count": 6,
   "id": "certified-tactics",
   "metadata": {
    "execution": {
     "iopub.execute_input": "2021-04-19T12:04:01.975515Z",
     "iopub.status.busy": "2021-04-19T12:04:01.974979Z",
     "iopub.status.idle": "2021-04-19T12:04:01.977067Z",
     "shell.execute_reply": "2021-04-19T12:04:01.977500Z"
    },
    "papermill": {
     "duration": 0.043102,
     "end_time": "2021-04-19T12:04:01.977629",
     "exception": false,
     "start_time": "2021-04-19T12:04:01.934527",
     "status": "completed"
    },
    "tags": []
   },
   "outputs": [],
   "source": [
    "#hide\n",
    "def get_template(path):\n",
    "    from urllib.parse import urlparse\n",
    "    if bool(urlparse(path).netloc):\n",
    "        from urllib.request import urlopen\n",
    "        return urlopen(path).read().decode('utf8')\n",
    "    return open(path).read()"
   ]
  },
  {
   "cell_type": "code",
   "execution_count": 7,
   "id": "realistic-blast",
   "metadata": {
    "execution": {
     "iopub.execute_input": "2021-04-19T12:04:02.046896Z",
     "iopub.status.busy": "2021-04-19T12:04:02.046334Z",
     "iopub.status.idle": "2021-04-19T12:04:02.048631Z",
     "shell.execute_reply": "2021-04-19T12:04:02.048168Z"
    },
    "papermill": {
     "duration": 0.03982,
     "end_time": "2021-04-19T12:04:02.048740",
     "exception": false,
     "start_time": "2021-04-19T12:04:02.008920",
     "status": "completed"
    },
    "tags": []
   },
   "outputs": [],
   "source": [
    "#hide\n",
    "def get_frame(name):\n",
    "    url = (\n",
    "        'https://raw.githubusercontent.com/CSSEGISandData/COVID-19/master/csse_covid_19_data/'\n",
    "        f'csse_covid_19_time_series/time_series_covid19_{name}_global.csv')\n",
    "    df = pd.read_csv(url)\n",
    "    # rename countries\n",
    "    df['Country/Region'] = df['Country/Region'].replace(mapping['replace.country'])\n",
    "    return df"
   ]
  },
  {
   "cell_type": "code",
   "execution_count": 8,
   "id": "affiliated-characterization",
   "metadata": {
    "execution": {
     "iopub.execute_input": "2021-04-19T12:04:02.121667Z",
     "iopub.status.busy": "2021-04-19T12:04:02.121099Z",
     "iopub.status.idle": "2021-04-19T12:04:02.123245Z",
     "shell.execute_reply": "2021-04-19T12:04:02.122758Z"
    },
    "papermill": {
     "duration": 0.041822,
     "end_time": "2021-04-19T12:04:02.123363",
     "exception": false,
     "start_time": "2021-04-19T12:04:02.081541",
     "status": "completed"
    },
    "tags": []
   },
   "outputs": [],
   "source": [
    "#hide\n",
    "def get_dates(df):\n",
    "    dt_cols = df.columns[~df.columns.isin(['Province/State', 'Country/Region', 'Lat', 'Long'])]\n",
    "    LAST_DATE_I = -1\n",
    "    # sometimes last column may be empty, then go backwards\n",
    "    for i in range(-1, -len(dt_cols), -1):\n",
    "        if not df[dt_cols[i]].fillna(0).eq(0).all():\n",
    "            LAST_DATE_I = i\n",
    "            break\n",
    "    return LAST_DATE_I, dt_cols"
   ]
  },
  {
   "cell_type": "code",
   "execution_count": 9,
   "id": "recent-optimization",
   "metadata": {
    "execution": {
     "iopub.execute_input": "2021-04-19T12:04:02.195390Z",
     "iopub.status.busy": "2021-04-19T12:04:02.194390Z",
     "iopub.status.idle": "2021-04-19T12:04:02.464942Z",
     "shell.execute_reply": "2021-04-19T12:04:02.464401Z"
    },
    "papermill": {
     "duration": 0.309132,
     "end_time": "2021-04-19T12:04:02.465081",
     "exception": false,
     "start_time": "2021-04-19T12:04:02.155949",
     "status": "completed"
    },
    "tags": []
   },
   "outputs": [],
   "source": [
    "#hide\n",
    "COL_REGION = 'Country/Region'\n",
    "# Confirmed, Recovered, Deaths\n",
    "df = get_frame('confirmed')\n",
    "# dft_: timeseries, dfc_: today country agg\n",
    "dft_cases = df\n",
    "dft_deaths = get_frame('deaths')\n",
    "dft_recovered = get_frame('recovered')\n",
    "LAST_DATE_I, dt_cols = get_dates(df)"
   ]
  },
  {
   "cell_type": "code",
   "execution_count": 10,
   "id": "absolute-copper",
   "metadata": {
    "execution": {
     "iopub.execute_input": "2021-04-19T12:04:02.538071Z",
     "iopub.status.busy": "2021-04-19T12:04:02.537491Z",
     "iopub.status.idle": "2021-04-19T12:04:02.539751Z",
     "shell.execute_reply": "2021-04-19T12:04:02.539262Z"
    },
    "papermill": {
     "duration": 0.041382,
     "end_time": "2021-04-19T12:04:02.539872",
     "exception": false,
     "start_time": "2021-04-19T12:04:02.498490",
     "status": "completed"
    },
    "tags": []
   },
   "outputs": [],
   "source": [
    "#hide\n",
    "LAST_DATE_I, dt_cols = get_dates(df)\n",
    "dt_today =dt_cols[LAST_DATE_I]\n",
    "# dt_5day = dt_cols[LAST_DATE_I - 5]\n",
    "dt_yday = dt_cols[LAST_DATE_I - 1]"
   ]
  },
  {
   "cell_type": "code",
   "execution_count": 11,
   "id": "restricted-sheriff",
   "metadata": {
    "execution": {
     "iopub.execute_input": "2021-04-19T12:04:02.612293Z",
     "iopub.status.busy": "2021-04-19T12:04:02.611714Z",
     "iopub.status.idle": "2021-04-19T12:04:02.620560Z",
     "shell.execute_reply": "2021-04-19T12:04:02.620090Z"
    },
    "papermill": {
     "duration": 0.047714,
     "end_time": "2021-04-19T12:04:02.620685",
     "exception": false,
     "start_time": "2021-04-19T12:04:02.572971",
     "status": "completed"
    },
    "tags": []
   },
   "outputs": [],
   "source": [
    "#hide\n",
    "dfc_cases = dft_cases.groupby(COL_REGION)[dt_today].sum()\n",
    "dfc_deaths = dft_deaths.groupby(COL_REGION)[dt_today].sum()\n",
    "# dfp_cases = dft_cases.groupby(COL_REGION)[dt_5day].sum()\n",
    "# dfp_deaths = dft_deaths.groupby(COL_REGION)[dt_5day].sum()\n",
    "dfp_cases = dft_cases.groupby(COL_REGION)[dt_yday].sum()\n",
    "dfp_deaths = dft_deaths.groupby(COL_REGION)[dt_yday].sum()"
   ]
  },
  {
   "cell_type": "code",
   "execution_count": 12,
   "id": "deluxe-hepatitis",
   "metadata": {
    "execution": {
     "iopub.execute_input": "2021-04-19T12:04:02.691941Z",
     "iopub.status.busy": "2021-04-19T12:04:02.691368Z",
     "iopub.status.idle": "2021-04-19T12:04:02.696312Z",
     "shell.execute_reply": "2021-04-19T12:04:02.695849Z"
    },
    "papermill": {
     "duration": 0.043274,
     "end_time": "2021-04-19T12:04:02.696434",
     "exception": false,
     "start_time": "2021-04-19T12:04:02.653160",
     "status": "completed"
    },
    "tags": []
   },
   "outputs": [],
   "source": [
    "#hide\n",
    "df_table = (pd.DataFrame(dict(Cases = dfc_cases, Deaths = dfc_deaths, PCases = dfp_cases, PDeaths = dfp_deaths))\n",
    "            .sort_values(by = ['Cases','Deaths'], ascending = [False, False])\n",
    "            .reset_index())"
   ]
  },
  {
   "cell_type": "code",
   "execution_count": 13,
   "id": "educational-chancellor",
   "metadata": {
    "execution": {
     "iopub.execute_input": "2021-04-19T12:04:02.782677Z",
     "iopub.status.busy": "2021-04-19T12:04:02.782078Z",
     "iopub.status.idle": "2021-04-19T12:04:02.791384Z",
     "shell.execute_reply": "2021-04-19T12:04:02.791851Z"
    },
    "papermill": {
     "duration": 0.062262,
     "end_time": "2021-04-19T12:04:02.791995",
     "exception": false,
     "start_time": "2021-04-19T12:04:02.729733",
     "status": "completed"
    },
    "tags": []
   },
   "outputs": [
    {
     "data": {
      "text/html": [
       "<div>\n",
       "<style scoped>\n",
       "    .dataframe tbody tr th:only-of-type {\n",
       "        vertical-align: middle;\n",
       "    }\n",
       "\n",
       "    .dataframe tbody tr th {\n",
       "        vertical-align: top;\n",
       "    }\n",
       "\n",
       "    .dataframe thead th {\n",
       "        text-align: right;\n",
       "    }\n",
       "</style>\n",
       "<table border=\"1\" class=\"dataframe\">\n",
       "  <thead>\n",
       "    <tr style=\"text-align: right;\">\n",
       "      <th></th>\n",
       "      <th>Country/Region</th>\n",
       "      <th>Cases</th>\n",
       "      <th>Deaths</th>\n",
       "      <th>PCases</th>\n",
       "      <th>PDeaths</th>\n",
       "      <th>Cases (+)</th>\n",
       "      <th>Deaths (+)</th>\n",
       "      <th>Fatality Rate</th>\n",
       "      <th>Continent</th>\n",
       "    </tr>\n",
       "  </thead>\n",
       "  <tbody>\n",
       "    <tr>\n",
       "      <th>0</th>\n",
       "      <td>US</td>\n",
       "      <td>31670031</td>\n",
       "      <td>567217</td>\n",
       "      <td>31628013</td>\n",
       "      <td>566904</td>\n",
       "      <td>42018</td>\n",
       "      <td>313</td>\n",
       "      <td>1.79</td>\n",
       "      <td>North America</td>\n",
       "    </tr>\n",
       "    <tr>\n",
       "      <th>1</th>\n",
       "      <td>India</td>\n",
       "      <td>15061805</td>\n",
       "      <td>178769</td>\n",
       "      <td>14788003</td>\n",
       "      <td>177150</td>\n",
       "      <td>273802</td>\n",
       "      <td>1619</td>\n",
       "      <td>1.19</td>\n",
       "      <td>Asia</td>\n",
       "    </tr>\n",
       "    <tr>\n",
       "      <th>2</th>\n",
       "      <td>Brazil</td>\n",
       "      <td>13943071</td>\n",
       "      <td>373335</td>\n",
       "      <td>13900091</td>\n",
       "      <td>371678</td>\n",
       "      <td>42980</td>\n",
       "      <td>1657</td>\n",
       "      <td>2.68</td>\n",
       "      <td>South America</td>\n",
       "    </tr>\n",
       "    <tr>\n",
       "      <th>3</th>\n",
       "      <td>France</td>\n",
       "      <td>5350521</td>\n",
       "      <td>100892</td>\n",
       "      <td>5321176</td>\n",
       "      <td>100752</td>\n",
       "      <td>29345</td>\n",
       "      <td>140</td>\n",
       "      <td>1.89</td>\n",
       "      <td>Europe</td>\n",
       "    </tr>\n",
       "    <tr>\n",
       "      <th>4</th>\n",
       "      <td>Russia</td>\n",
       "      <td>4649044</td>\n",
       "      <td>103834</td>\n",
       "      <td>4640537</td>\n",
       "      <td>103451</td>\n",
       "      <td>8507</td>\n",
       "      <td>383</td>\n",
       "      <td>2.23</td>\n",
       "      <td>Europe</td>\n",
       "    </tr>\n",
       "  </tbody>\n",
       "</table>\n",
       "</div>"
      ],
      "text/plain": [
       "  Country/Region     Cases  Deaths    PCases  PDeaths  Cases (+)  Deaths (+)  \\\n",
       "0             US  31670031  567217  31628013   566904      42018         313   \n",
       "1          India  15061805  178769  14788003   177150     273802        1619   \n",
       "2         Brazil  13943071  373335  13900091   371678      42980        1657   \n",
       "3         France   5350521  100892   5321176   100752      29345         140   \n",
       "4         Russia   4649044  103834   4640537   103451       8507         383   \n",
       "\n",
       "   Fatality Rate      Continent  \n",
       "0           1.79  North America  \n",
       "1           1.19           Asia  \n",
       "2           2.68  South America  \n",
       "3           1.89         Europe  \n",
       "4           2.23         Europe  "
      ]
     },
     "execution_count": 13,
     "metadata": {},
     "output_type": "execute_result"
    }
   ],
   "source": [
    "#hide\n",
    "for c in 'Cases, Deaths'.split(', '):\n",
    "    df_table[f'{c} (+)'] = (df_table[c] - df_table[f'P{c}']).clip(0)\n",
    "    #Clip ça veut dire, les chiffres negatif sont interdit\n",
    "df_table['Fatality Rate'] = (100* df_table['Deaths']/ df_table['Cases']).round(2)\n",
    "df_table['Continent'] = df_table['Country/Region'].map(mapping['map.continent'])\n",
    "df_table.head(5)"
   ]
  },
  {
   "cell_type": "code",
   "execution_count": 14,
   "id": "aboriginal-bulgaria",
   "metadata": {
    "execution": {
     "iopub.execute_input": "2021-04-19T12:04:02.865395Z",
     "iopub.status.busy": "2021-04-19T12:04:02.864788Z",
     "iopub.status.idle": "2021-04-19T12:04:02.866526Z",
     "shell.execute_reply": "2021-04-19T12:04:02.867072Z"
    },
    "papermill": {
     "duration": 0.041368,
     "end_time": "2021-04-19T12:04:02.867210",
     "exception": false,
     "start_time": "2021-04-19T12:04:02.825842",
     "status": "completed"
    },
    "tags": []
   },
   "outputs": [],
   "source": [
    "#hide\n",
    "#delete problematic countries from table\n",
    "df_table = df_table[~df_table['Country/Region'].isin(['Cape Verde', 'Cruise Ship', 'Kosovo'])]"
   ]
  },
  {
   "cell_type": "code",
   "execution_count": 15,
   "id": "fantastic-effect",
   "metadata": {
    "execution": {
     "iopub.execute_input": "2021-04-19T12:04:02.942809Z",
     "iopub.status.busy": "2021-04-19T12:04:02.942228Z",
     "iopub.status.idle": "2021-04-19T12:04:02.961272Z",
     "shell.execute_reply": "2021-04-19T12:04:02.960775Z"
    },
    "papermill": {
     "duration": 0.061282,
     "end_time": "2021-04-19T12:04:02.961389",
     "exception": false,
     "start_time": "2021-04-19T12:04:02.900107",
     "status": "completed"
    },
    "tags": []
   },
   "outputs": [
    {
     "data": {
      "text/html": [
       "<div>\n",
       "<style scoped>\n",
       "    .dataframe tbody tr th:only-of-type {\n",
       "        vertical-align: middle;\n",
       "    }\n",
       "\n",
       "    .dataframe tbody tr th {\n",
       "        vertical-align: top;\n",
       "    }\n",
       "\n",
       "    .dataframe thead th {\n",
       "        text-align: right;\n",
       "    }\n",
       "</style>\n",
       "<table border=\"1\" class=\"dataframe\">\n",
       "  <thead>\n",
       "    <tr style=\"text-align: right;\">\n",
       "      <th></th>\n",
       "      <th>Country/Region</th>\n",
       "      <th>Cases</th>\n",
       "      <th>Deaths</th>\n",
       "      <th>PCases</th>\n",
       "      <th>PDeaths</th>\n",
       "      <th>Cases (+)</th>\n",
       "      <th>Deaths (+)</th>\n",
       "      <th>Fatality Rate</th>\n",
       "      <th>Continent</th>\n",
       "    </tr>\n",
       "  </thead>\n",
       "  <tbody>\n",
       "    <tr>\n",
       "      <th>0</th>\n",
       "      <td>US</td>\n",
       "      <td>31670031</td>\n",
       "      <td>567217</td>\n",
       "      <td>31628013</td>\n",
       "      <td>566904</td>\n",
       "      <td>42018</td>\n",
       "      <td>313</td>\n",
       "      <td>1.8</td>\n",
       "      <td>North America</td>\n",
       "    </tr>\n",
       "    <tr>\n",
       "      <th>1</th>\n",
       "      <td>India</td>\n",
       "      <td>15061805</td>\n",
       "      <td>178769</td>\n",
       "      <td>14788003</td>\n",
       "      <td>177150</td>\n",
       "      <td>273802</td>\n",
       "      <td>1619</td>\n",
       "      <td>1.2</td>\n",
       "      <td>Asia</td>\n",
       "    </tr>\n",
       "    <tr>\n",
       "      <th>2</th>\n",
       "      <td>Brazil</td>\n",
       "      <td>13943071</td>\n",
       "      <td>373335</td>\n",
       "      <td>13900091</td>\n",
       "      <td>371678</td>\n",
       "      <td>42980</td>\n",
       "      <td>1657</td>\n",
       "      <td>2.7</td>\n",
       "      <td>South America</td>\n",
       "    </tr>\n",
       "    <tr>\n",
       "      <th>3</th>\n",
       "      <td>France</td>\n",
       "      <td>5350521</td>\n",
       "      <td>100892</td>\n",
       "      <td>5321176</td>\n",
       "      <td>100752</td>\n",
       "      <td>29345</td>\n",
       "      <td>140</td>\n",
       "      <td>1.9</td>\n",
       "      <td>Europe</td>\n",
       "    </tr>\n",
       "    <tr>\n",
       "      <th>4</th>\n",
       "      <td>Russia</td>\n",
       "      <td>4649044</td>\n",
       "      <td>103834</td>\n",
       "      <td>4640537</td>\n",
       "      <td>103451</td>\n",
       "      <td>8507</td>\n",
       "      <td>383</td>\n",
       "      <td>2.2</td>\n",
       "      <td>Europe</td>\n",
       "    </tr>\n",
       "  </tbody>\n",
       "</table>\n",
       "</div>"
      ],
      "text/plain": [
       "  Country/Region     Cases  Deaths    PCases  PDeaths  Cases (+)  Deaths (+)  \\\n",
       "0             US  31670031  567217  31628013   566904      42018         313   \n",
       "1          India  15061805  178769  14788003   177150     273802        1619   \n",
       "2         Brazil  13943071  373335  13900091   371678      42980        1657   \n",
       "3         France   5350521  100892   5321176   100752      29345         140   \n",
       "4         Russia   4649044  103834   4640537   103451       8507         383   \n",
       "\n",
       "   Fatality Rate      Continent  \n",
       "0            1.8  North America  \n",
       "1            1.2           Asia  \n",
       "2            2.7  South America  \n",
       "3            1.9         Europe  \n",
       "4            2.2         Europe  "
      ]
     },
     "execution_count": 15,
     "metadata": {},
     "output_type": "execute_result"
    }
   ],
   "source": [
    "#hide\n",
    "df_table = (pd.DataFrame(dict(Cases=dfc_cases, Deaths=dfc_deaths, PCases=dfp_cases, PDeaths=dfp_deaths))\n",
    "             .sort_values(by=['Cases', 'Deaths'], ascending=[False, False])\n",
    "             .reset_index())\n",
    "df_table.rename(columns={'index': 'Country/Region'}, inplace=True)\n",
    "for c in 'Cases, Deaths'.split(', '):\n",
    "    df_table[f'{c} (+)'] = (df_table[c] - df_table[f'P{c}']).clip(0)  # DATA BUG\n",
    "df_table['Fatality Rate'] = (100 * df_table['Deaths'] / df_table['Cases']).round(1)\n",
    "df_table['Continent'] = df_table['Country/Region'].map(mapping['map.continent'])\n",
    "df_table.head(5)"
   ]
  },
  {
   "cell_type": "code",
   "execution_count": 16,
   "id": "fewer-occasion",
   "metadata": {
    "execution": {
     "iopub.execute_input": "2021-04-19T12:04:03.036739Z",
     "iopub.status.busy": "2021-04-19T12:04:03.036162Z",
     "iopub.status.idle": "2021-04-19T12:04:03.039261Z",
     "shell.execute_reply": "2021-04-19T12:04:03.038797Z"
    },
    "papermill": {
     "duration": 0.043608,
     "end_time": "2021-04-19T12:04:03.039386",
     "exception": false,
     "start_time": "2021-04-19T12:04:02.995778",
     "status": "completed"
    },
    "tags": []
   },
   "outputs": [],
   "source": [
    "#hide\n",
    "#delete problematic countries from table\n",
    "df_table = df_table[~df_table['Country/Region'].isin(['Cape Verde', 'Cruise Ship', 'Kosovo'])]"
   ]
  },
  {
   "cell_type": "code",
   "execution_count": 17,
   "id": "related-center",
   "metadata": {
    "execution": {
     "iopub.execute_input": "2021-04-19T12:04:03.123262Z",
     "iopub.status.busy": "2021-04-19T12:04:03.122664Z",
     "iopub.status.idle": "2021-04-19T12:04:03.131790Z",
     "shell.execute_reply": "2021-04-19T12:04:03.132265Z"
    },
    "papermill": {
     "duration": 0.058545,
     "end_time": "2021-04-19T12:04:03.132409",
     "exception": false,
     "start_time": "2021-04-19T12:04:03.073864",
     "status": "completed"
    },
    "tags": []
   },
   "outputs": [],
   "source": [
    "#hide\n",
    "metrics = [df_table.columns[index] for index in [1,2,5,6]]\n",
    "# s_china = df_table[df_table['Country/Region'].eq('China')][metrics].sum().add_prefix('China ')\n",
    "s_us = df_table[df_table['Country/Region'].eq('US')][metrics].sum().add_prefix('US ')\n",
    "s_eu = df_table[df_table['Continent'].eq('Europe')][metrics].sum().add_prefix('EU ')\n",
    "s_ind = df_table[df_table['Country/Region'].eq('India')][metrics].sum().add_prefix('India ')\n",
    "summary = {'updated': pd.to_datetime(dt_today), 'since': pd.to_datetime(dt_yday)}\n",
    "summary = {'updated': pd.to_datetime(dt_today), 'since': pd.to_datetime(dt_yday)}\n",
    "summary = {**summary, **df_table[metrics].sum(), **s_ind, **s_us, **s_eu}"
   ]
  },
  {
   "cell_type": "code",
   "execution_count": 18,
   "id": "engaging-syndrome",
   "metadata": {
    "execution": {
     "iopub.execute_input": "2021-04-19T12:04:03.207986Z",
     "iopub.status.busy": "2021-04-19T12:04:03.207407Z",
     "iopub.status.idle": "2021-04-19T12:04:03.221690Z",
     "shell.execute_reply": "2021-04-19T12:04:03.220713Z"
    },
    "papermill": {
     "duration": 0.054869,
     "end_time": "2021-04-19T12:04:03.221900",
     "exception": false,
     "start_time": "2021-04-19T12:04:03.167031",
     "status": "completed"
    },
    "tags": []
   },
   "outputs": [],
   "source": [
    "#hide\n",
    "dft_ct_new_cases = dft_cases.groupby(COL_REGION)[dt_cols].sum().diff(axis=1).fillna(0).astype(int)"
   ]
  },
  {
   "cell_type": "code",
   "execution_count": 19,
   "id": "neutral-assignment",
   "metadata": {
    "execution": {
     "iopub.execute_input": "2021-04-19T12:04:03.300024Z",
     "iopub.status.busy": "2021-04-19T12:04:03.299402Z",
     "iopub.status.idle": "2021-04-19T12:04:03.301225Z",
     "shell.execute_reply": "2021-04-19T12:04:03.301718Z"
    },
    "papermill": {
     "duration": 0.042865,
     "end_time": "2021-04-19T12:04:03.301857",
     "exception": false,
     "start_time": "2021-04-19T12:04:03.258992",
     "status": "completed"
    },
    "tags": []
   },
   "outputs": [],
   "source": [
    "#hide\n",
    "everydaycases = dft_ct_new_cases.cumsum(axis=1)"
   ]
  },
  {
   "cell_type": "code",
   "execution_count": 20,
   "id": "parliamentary-calgary",
   "metadata": {
    "execution": {
     "iopub.execute_input": "2021-04-19T12:04:03.376545Z",
     "iopub.status.busy": "2021-04-19T12:04:03.375950Z",
     "iopub.status.idle": "2021-04-19T12:04:03.928075Z",
     "shell.execute_reply": "2021-04-19T12:04:03.927554Z"
    },
    "papermill": {
     "duration": 0.591565,
     "end_time": "2021-04-19T12:04:03.928212",
     "exception": false,
     "start_time": "2021-04-19T12:04:03.336647",
     "status": "completed"
    },
    "tags": []
   },
   "outputs": [],
   "source": [
    "#hide\n",
    "import pandas as pd\n",
    "import matplotlib.pyplot as plt\n",
    "import matplotlib.ticker as ticker\n",
    "import matplotlib.animation as animation\n",
    "from IPython.display import HTML"
   ]
  },
  {
   "cell_type": "code",
   "execution_count": 21,
   "id": "lasting-extraction",
   "metadata": {
    "execution": {
     "iopub.execute_input": "2021-04-19T12:04:04.002529Z",
     "iopub.status.busy": "2021-04-19T12:04:04.001940Z",
     "iopub.status.idle": "2021-04-19T12:04:04.008770Z",
     "shell.execute_reply": "2021-04-19T12:04:04.008295Z"
    },
    "papermill": {
     "duration": 0.04649,
     "end_time": "2021-04-19T12:04:04.008909",
     "exception": false,
     "start_time": "2021-04-19T12:04:03.962419",
     "status": "completed"
    },
    "tags": []
   },
   "outputs": [],
   "source": [
    "#hide\n",
    "t = everydaycases.stack()"
   ]
  },
  {
   "cell_type": "code",
   "execution_count": 22,
   "id": "premier-sleeve",
   "metadata": {
    "execution": {
     "iopub.execute_input": "2021-04-19T12:04:04.081572Z",
     "iopub.status.busy": "2021-04-19T12:04:04.080979Z",
     "iopub.status.idle": "2021-04-19T12:04:04.088858Z",
     "shell.execute_reply": "2021-04-19T12:04:04.088346Z"
    },
    "papermill": {
     "duration": 0.045805,
     "end_time": "2021-04-19T12:04:04.088988",
     "exception": false,
     "start_time": "2021-04-19T12:04:04.043183",
     "status": "completed"
    },
    "tags": []
   },
   "outputs": [],
   "source": [
    "#hide\n",
    "g = t.reset_index(['Country/Region'])"
   ]
  },
  {
   "cell_type": "code",
   "execution_count": 23,
   "id": "distributed-pittsburgh",
   "metadata": {
    "execution": {
     "iopub.execute_input": "2021-04-19T12:04:04.162328Z",
     "iopub.status.busy": "2021-04-19T12:04:04.161649Z",
     "iopub.status.idle": "2021-04-19T12:04:04.164930Z",
     "shell.execute_reply": "2021-04-19T12:04:04.164143Z"
    },
    "papermill": {
     "duration": 0.04194,
     "end_time": "2021-04-19T12:04:04.165193",
     "exception": false,
     "start_time": "2021-04-19T12:04:04.123253",
     "status": "completed"
    },
    "tags": []
   },
   "outputs": [],
   "source": [
    "#hide\n",
    "g.index.name = 'date'"
   ]
  },
  {
   "cell_type": "code",
   "execution_count": 24,
   "id": "naked-donor",
   "metadata": {
    "execution": {
     "iopub.execute_input": "2021-04-19T12:04:04.256876Z",
     "iopub.status.busy": "2021-04-19T12:04:04.256084Z",
     "iopub.status.idle": "2021-04-19T12:04:04.257510Z",
     "shell.execute_reply": "2021-04-19T12:04:04.258082Z"
    },
    "papermill": {
     "duration": 0.050229,
     "end_time": "2021-04-19T12:04:04.258249",
     "exception": false,
     "start_time": "2021-04-19T12:04:04.208020",
     "status": "completed"
    },
    "tags": []
   },
   "outputs": [],
   "source": [
    "# #hide\n",
    "# g = g.reset_index(['date'])"
   ]
  },
  {
   "cell_type": "code",
   "execution_count": 25,
   "id": "incomplete-mustang",
   "metadata": {
    "execution": {
     "iopub.execute_input": "2021-04-19T12:04:04.332523Z",
     "iopub.status.busy": "2021-04-19T12:04:04.331919Z",
     "iopub.status.idle": "2021-04-19T12:04:04.334266Z",
     "shell.execute_reply": "2021-04-19T12:04:04.333796Z"
    },
    "papermill": {
     "duration": 0.041617,
     "end_time": "2021-04-19T12:04:04.334390",
     "exception": false,
     "start_time": "2021-04-19T12:04:04.292773",
     "status": "completed"
    },
    "tags": []
   },
   "outputs": [],
   "source": [
    "#hide\n",
    "# g.head()"
   ]
  },
  {
   "cell_type": "code",
   "execution_count": 26,
   "id": "specific-kruger",
   "metadata": {
    "execution": {
     "iopub.execute_input": "2021-04-19T12:04:04.410830Z",
     "iopub.status.busy": "2021-04-19T12:04:04.410222Z",
     "iopub.status.idle": "2021-04-19T12:04:04.412555Z",
     "shell.execute_reply": "2021-04-19T12:04:04.411977Z"
    },
    "papermill": {
     "duration": 0.042656,
     "end_time": "2021-04-19T12:04:04.412676",
     "exception": false,
     "start_time": "2021-04-19T12:04:04.370020",
     "status": "completed"
    },
    "tags": []
   },
   "outputs": [],
   "source": [
    "#hide\n",
    "# g.columns = ['date','country','cases']"
   ]
  },
  {
   "cell_type": "code",
   "execution_count": 27,
   "id": "tender-conversion",
   "metadata": {
    "execution": {
     "iopub.execute_input": "2021-04-19T12:04:04.481874Z",
     "iopub.status.busy": "2021-04-19T12:04:04.481347Z",
     "iopub.status.idle": "2021-04-19T12:04:04.483777Z",
     "shell.execute_reply": "2021-04-19T12:04:04.483341Z"
    },
    "papermill": {
     "duration": 0.038488,
     "end_time": "2021-04-19T12:04:04.483890",
     "exception": false,
     "start_time": "2021-04-19T12:04:04.445402",
     "status": "completed"
    },
    "tags": []
   },
   "outputs": [],
   "source": [
    "#hide\n",
    "# g['continent'] = g.country"
   ]
  },
  {
   "cell_type": "code",
   "execution_count": 28,
   "id": "substantial-wilderness",
   "metadata": {
    "execution": {
     "iopub.execute_input": "2021-04-19T12:04:04.556557Z",
     "iopub.status.busy": "2021-04-19T12:04:04.555986Z",
     "iopub.status.idle": "2021-04-19T12:04:04.558729Z",
     "shell.execute_reply": "2021-04-19T12:04:04.558266Z"
    },
    "papermill": {
     "duration": 0.041011,
     "end_time": "2021-04-19T12:04:04.558858",
     "exception": false,
     "start_time": "2021-04-19T12:04:04.517847",
     "status": "completed"
    },
    "tags": []
   },
   "outputs": [],
   "source": [
    "#hide\n",
    "# cols = list(g.columns.values)"
   ]
  },
  {
   "cell_type": "code",
   "execution_count": 29,
   "id": "solved-farming",
   "metadata": {
    "execution": {
     "iopub.execute_input": "2021-04-19T12:04:04.633144Z",
     "iopub.status.busy": "2021-04-19T12:04:04.632132Z",
     "iopub.status.idle": "2021-04-19T12:04:04.634152Z",
     "shell.execute_reply": "2021-04-19T12:04:04.634644Z"
    },
    "papermill": {
     "duration": 0.041554,
     "end_time": "2021-04-19T12:04:04.634784",
     "exception": false,
     "start_time": "2021-04-19T12:04:04.593230",
     "status": "completed"
    },
    "tags": []
   },
   "outputs": [],
   "source": [
    "#hide\n",
    "# cols.insert(0, cols.pop())"
   ]
  },
  {
   "cell_type": "code",
   "execution_count": 30,
   "id": "executed-adoption",
   "metadata": {
    "execution": {
     "iopub.execute_input": "2021-04-19T12:04:04.707369Z",
     "iopub.status.busy": "2021-04-19T12:04:04.706825Z",
     "iopub.status.idle": "2021-04-19T12:04:04.709538Z",
     "shell.execute_reply": "2021-04-19T12:04:04.709069Z"
    },
    "papermill": {
     "duration": 0.040283,
     "end_time": "2021-04-19T12:04:04.709653",
     "exception": false,
     "start_time": "2021-04-19T12:04:04.669370",
     "status": "completed"
    },
    "tags": []
   },
   "outputs": [],
   "source": [
    "#hide\n",
    "# g = g[cols]"
   ]
  },
  {
   "cell_type": "code",
   "execution_count": 31,
   "id": "subject-dublin",
   "metadata": {
    "execution": {
     "iopub.execute_input": "2021-04-19T12:04:04.787628Z",
     "iopub.status.busy": "2021-04-19T12:04:04.787151Z",
     "iopub.status.idle": "2021-04-19T12:04:04.789516Z",
     "shell.execute_reply": "2021-04-19T12:04:04.789128Z"
    },
    "papermill": {
     "duration": 0.041403,
     "end_time": "2021-04-19T12:04:04.789619",
     "exception": false,
     "start_time": "2021-04-19T12:04:04.748216",
     "status": "completed"
    },
    "tags": []
   },
   "outputs": [],
   "source": [
    "#hide\n",
    "# g['continent'] = g['continent'].map(mapping['map.continent'])"
   ]
  },
  {
   "cell_type": "code",
   "execution_count": 32,
   "id": "freelance-scout",
   "metadata": {
    "execution": {
     "iopub.execute_input": "2021-04-19T12:04:04.863755Z",
     "iopub.status.busy": "2021-04-19T12:04:04.863101Z",
     "iopub.status.idle": "2021-04-19T12:04:04.865250Z",
     "shell.execute_reply": "2021-04-19T12:04:04.865697Z"
    },
    "papermill": {
     "duration": 0.041498,
     "end_time": "2021-04-19T12:04:04.865832",
     "exception": false,
     "start_time": "2021-04-19T12:04:04.824334",
     "status": "completed"
    },
    "tags": []
   },
   "outputs": [],
   "source": [
    "#hide\n",
    "# g.head()"
   ]
  },
  {
   "cell_type": "code",
   "execution_count": 33,
   "id": "limited-engine",
   "metadata": {
    "execution": {
     "iopub.execute_input": "2021-04-19T12:04:04.939751Z",
     "iopub.status.busy": "2021-04-19T12:04:04.939157Z",
     "iopub.status.idle": "2021-04-19T12:04:04.941424Z",
     "shell.execute_reply": "2021-04-19T12:04:04.940929Z"
    },
    "papermill": {
     "duration": 0.041438,
     "end_time": "2021-04-19T12:04:04.941543",
     "exception": false,
     "start_time": "2021-04-19T12:04:04.900105",
     "status": "completed"
    },
    "tags": []
   },
   "outputs": [],
   "source": [
    "# hide\n",
    "# g['date'] = g['date'].astype('datetime64[ns]')"
   ]
  },
  {
   "cell_type": "code",
   "execution_count": 34,
   "id": "sophisticated-supervisor",
   "metadata": {
    "execution": {
     "iopub.execute_input": "2021-04-19T12:04:05.015305Z",
     "iopub.status.busy": "2021-04-19T12:04:05.014774Z",
     "iopub.status.idle": "2021-04-19T12:04:05.018683Z",
     "shell.execute_reply": "2021-04-19T12:04:05.017911Z"
    },
    "papermill": {
     "duration": 0.043448,
     "end_time": "2021-04-19T12:04:05.018812",
     "exception": false,
     "start_time": "2021-04-19T12:04:04.975364",
     "status": "completed"
    },
    "tags": []
   },
   "outputs": [],
   "source": [
    "#hide\n",
    "# g['date'] = g.date.dt.dayofyear"
   ]
  },
  {
   "cell_type": "code",
   "execution_count": 35,
   "id": "inside-dubai",
   "metadata": {
    "execution": {
     "iopub.execute_input": "2021-04-19T12:04:05.095081Z",
     "iopub.status.busy": "2021-04-19T12:04:05.094528Z",
     "iopub.status.idle": "2021-04-19T12:04:05.096850Z",
     "shell.execute_reply": "2021-04-19T12:04:05.096342Z"
    },
    "papermill": {
     "duration": 0.041277,
     "end_time": "2021-04-19T12:04:05.096973",
     "exception": false,
     "start_time": "2021-04-19T12:04:05.055696",
     "status": "completed"
    },
    "tags": []
   },
   "outputs": [],
   "source": [
    "#hide\n",
    "# g = g.rename(columns= {'continent':'group','country':'name','cases':'value'})"
   ]
  },
  {
   "cell_type": "code",
   "execution_count": 36,
   "id": "fleet-motorcycle",
   "metadata": {
    "execution": {
     "iopub.execute_input": "2021-04-19T12:04:05.172487Z",
     "iopub.status.busy": "2021-04-19T12:04:05.171910Z",
     "iopub.status.idle": "2021-04-19T12:04:05.174452Z",
     "shell.execute_reply": "2021-04-19T12:04:05.174930Z"
    },
    "papermill": {
     "duration": 0.042745,
     "end_time": "2021-04-19T12:04:05.175064",
     "exception": false,
     "start_time": "2021-04-19T12:04:05.132319",
     "status": "completed"
    },
    "tags": []
   },
   "outputs": [],
   "source": [
    "#hide\n",
    "# cols = ['name','group','day','value']"
   ]
  },
  {
   "cell_type": "code",
   "execution_count": 37,
   "id": "continued-sleeping",
   "metadata": {
    "execution": {
     "iopub.execute_input": "2021-04-19T12:04:05.255229Z",
     "iopub.status.busy": "2021-04-19T12:04:05.254638Z",
     "iopub.status.idle": "2021-04-19T12:04:05.256433Z",
     "shell.execute_reply": "2021-04-19T12:04:05.256892Z"
    },
    "papermill": {
     "duration": 0.044091,
     "end_time": "2021-04-19T12:04:05.257040",
     "exception": false,
     "start_time": "2021-04-19T12:04:05.212949",
     "status": "completed"
    },
    "tags": []
   },
   "outputs": [],
   "source": [
    "#hide\n",
    "# g.rename(columns= {'date':'day'},inplace = True)"
   ]
  },
  {
   "cell_type": "code",
   "execution_count": 38,
   "id": "major-fight",
   "metadata": {
    "execution": {
     "iopub.execute_input": "2021-04-19T12:04:05.338263Z",
     "iopub.status.busy": "2021-04-19T12:04:05.337665Z",
     "iopub.status.idle": "2021-04-19T12:04:05.339545Z",
     "shell.execute_reply": "2021-04-19T12:04:05.339984Z"
    },
    "papermill": {
     "duration": 0.043684,
     "end_time": "2021-04-19T12:04:05.340122",
     "exception": false,
     "start_time": "2021-04-19T12:04:05.296438",
     "status": "completed"
    },
    "tags": []
   },
   "outputs": [],
   "source": [
    "#hide\n",
    "# g = g[cols]"
   ]
  },
  {
   "cell_type": "code",
   "execution_count": 39,
   "id": "structured-mobile",
   "metadata": {
    "execution": {
     "iopub.execute_input": "2021-04-19T12:04:05.415492Z",
     "iopub.status.busy": "2021-04-19T12:04:05.414684Z",
     "iopub.status.idle": "2021-04-19T12:04:05.416102Z",
     "shell.execute_reply": "2021-04-19T12:04:05.416555Z"
    },
    "papermill": {
     "duration": 0.041805,
     "end_time": "2021-04-19T12:04:05.416695",
     "exception": false,
     "start_time": "2021-04-19T12:04:05.374890",
     "status": "completed"
    },
    "tags": []
   },
   "outputs": [],
   "source": [
    "# #hide\n",
    "# g = g[g.group.notna()]"
   ]
  },
  {
   "cell_type": "code",
   "execution_count": 40,
   "id": "determined-closing",
   "metadata": {
    "execution": {
     "iopub.execute_input": "2021-04-19T12:04:05.493222Z",
     "iopub.status.busy": "2021-04-19T12:04:05.492531Z",
     "iopub.status.idle": "2021-04-19T12:04:05.497150Z",
     "shell.execute_reply": "2021-04-19T12:04:05.496614Z"
    },
    "papermill": {
     "duration": 0.044149,
     "end_time": "2021-04-19T12:04:05.497279",
     "exception": false,
     "start_time": "2021-04-19T12:04:05.453130",
     "status": "completed"
    },
    "tags": []
   },
   "outputs": [],
   "source": [
    "# #hide\n",
    "# colors = dict(zip(\n",
    "#     [\"Oceania\", \"Europe\", \"Asia\", \"South America\", \"Middle East\", \"North America\", \"Africa\"],\n",
    "#     [\"#adb0ff\", \"#ffb3ff\", \"#90d595\", \"#e48381\", \"#aafbff\", \"#f7bb5f\", \"#eafb50\"]\n",
    "# ))\n",
    "# group_lk = g.set_index('name')['group'].to_dict()"
   ]
  },
  {
   "cell_type": "code",
   "execution_count": null,
   "id": "gross-drinking",
   "metadata": {
    "papermill": {
     "duration": 0.034693,
     "end_time": "2021-04-19T12:04:05.566393",
     "exception": false,
     "start_time": "2021-04-19T12:04:05.531700",
     "status": "completed"
    },
    "tags": []
   },
   "outputs": [],
   "source": []
  },
  {
   "cell_type": "code",
   "execution_count": 41,
   "id": "subject-macintosh",
   "metadata": {
    "execution": {
     "iopub.execute_input": "2021-04-19T12:04:05.639921Z",
     "iopub.status.busy": "2021-04-19T12:04:05.639320Z",
     "iopub.status.idle": "2021-04-19T12:04:05.642128Z",
     "shell.execute_reply": "2021-04-19T12:04:05.642681Z"
    },
    "papermill": {
     "duration": 0.04216,
     "end_time": "2021-04-19T12:04:05.642821",
     "exception": false,
     "start_time": "2021-04-19T12:04:05.600661",
     "status": "completed"
    },
    "tags": []
   },
   "outputs": [],
   "source": [
    "# #hide\n",
    "# fig, ax = plt.subplots(figsize=(15, 8))\n",
    "\n",
    "# def draw_barchart(current_day):\n",
    "#     dff = g[g['day'].eq(current_day)].sort_values(by='value', ascending=True).tail(10)\n",
    "#     ax.clear()\n",
    "#     ax.barh(dff['name'], dff['value'], color=[colors[group_lk[x]] for x in dff['name']])\n",
    "#     dx = dff['value'].max() / 200\n",
    "    \n",
    "#     for i, (value, name) in enumerate(zip(dff['value'], dff['name'])):\n",
    "#         ax.text(value-dx, i,     name,           size=14, weight=600, ha='right', va='bottom')\n",
    "#         ax.text(value-dx, i-.25, group_lk[name], size=10, color='#444444', ha='right', va='baseline')\n",
    "#         ax.text(value+dx, i,     f'{value:,.0f}',  size=14, ha='left',  va='center')\n",
    "#     ax.text(1, 0.4, current_day, transform=ax.transAxes, color='#777777', size=46, ha='right', weight=800)\n",
    "#     ax.text(0, 1.06, 'Population (thousands)', transform=ax.transAxes, size=12, color='#777777')\n",
    "#     ax.xaxis.set_major_formatter(ticker.StrMethodFormatter('{x:,.0f}'))\n",
    "#     ax.xaxis.set_ticks_position('top')\n",
    "#     ax.tick_params(axis='x', colors='#777777', labelsize=12)\n",
    "#     ax.set_yticks([])\n",
    "#     ax.margins(0, 0.01)\n",
    "#     ax.grid(which='major', axis='x', linestyle='-')\n",
    "#     ax.set_axisbelow(True)\n",
    "    \n",
    "#     ax.text(0, 1.15, 'Coronavirus',\n",
    "#             transform=ax.transAxes, size=24, weight=600, ha='left', va='top')\n",
    "# #     ax.text(1, 0, 'by @pratapvardhan; credit @jburnmurdoch', transform=ax.transAxes, color='#777777', ha='right',\n",
    "# #             bbox=dict(facecolor='white', alpha=0.8, edgecolor='white'))\n",
    "#     plt.box(False)"
   ]
  },
  {
   "cell_type": "code",
   "execution_count": 42,
   "id": "sexual-wages",
   "metadata": {
    "execution": {
     "iopub.execute_input": "2021-04-19T12:04:05.715864Z",
     "iopub.status.busy": "2021-04-19T12:04:05.715285Z",
     "iopub.status.idle": "2021-04-19T12:04:05.717499Z",
     "shell.execute_reply": "2021-04-19T12:04:05.716998Z"
    },
    "papermill": {
     "duration": 0.040638,
     "end_time": "2021-04-19T12:04:05.717618",
     "exception": false,
     "start_time": "2021-04-19T12:04:05.676980",
     "status": "completed"
    },
    "tags": []
   },
   "outputs": [],
   "source": [
    "# #hide_input\n",
    "# fig, ax = plt.subplots(figsize=(15, 8))\n",
    "# animator = animation.FuncAnimation(fig, draw_barchart, frames=range(g.day.values.min(), g.day.values.max()))\n",
    "# HTML(animator.to_jshtml())\n",
    "# # or use animator.to_html5_video() or animator.save() "
   ]
  },
  {
   "cell_type": "code",
   "execution_count": null,
   "id": "australian-container",
   "metadata": {
    "papermill": {
     "duration": 0.033779,
     "end_time": "2021-04-19T12:04:05.785003",
     "exception": false,
     "start_time": "2021-04-19T12:04:05.751224",
     "status": "completed"
    },
    "tags": []
   },
   "outputs": [],
   "source": []
  },
  {
   "cell_type": "code",
   "execution_count": null,
   "id": "mediterranean-pontiac",
   "metadata": {
    "papermill": {
     "duration": 0.034274,
     "end_time": "2021-04-19T12:04:05.852408",
     "exception": false,
     "start_time": "2021-04-19T12:04:05.818134",
     "status": "completed"
    },
    "tags": []
   },
   "outputs": [],
   "source": []
  },
  {
   "cell_type": "code",
   "execution_count": null,
   "id": "aging-legislature",
   "metadata": {
    "papermill": {
     "duration": 0.032781,
     "end_time": "2021-04-19T12:04:05.918642",
     "exception": false,
     "start_time": "2021-04-19T12:04:05.885861",
     "status": "completed"
    },
    "tags": []
   },
   "outputs": [],
   "source": []
  }
 ],
 "metadata": {
  "kernelspec": {
   "display_name": "Python 3",
   "language": "python",
   "name": "python3"
  },
  "language_info": {
   "codemirror_mode": {
    "name": "ipython",
    "version": 3
   },
   "file_extension": ".py",
   "mimetype": "text/x-python",
   "name": "python",
   "nbconvert_exporter": "python",
   "pygments_lexer": "ipython3",
   "version": "3.6.13"
  },
  "papermill": {
   "duration": 6.266808,
   "end_time": "2021-04-19T12:04:06.260636",
   "environment_variables": {},
   "exception": null,
   "input_path": "2020-03-21-covid19exp.ipynb",
   "output_path": "2020-03-21-covid19exp.ipynb",
   "parameters": {},
   "start_time": "2021-04-19T12:03:59.993828",
   "version": "2.0.0"
  }
 },
 "nbformat": 4,
 "nbformat_minor": 5
}