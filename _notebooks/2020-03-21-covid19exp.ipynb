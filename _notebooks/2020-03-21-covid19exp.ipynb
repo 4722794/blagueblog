{
 "cells": [
  {
   "cell_type": "markdown",
   "id": "muslim-click",
   "metadata": {
    "papermill": {
     "duration": 0.068109,
     "end_time": "2022-02-27T00:33:47.655318",
     "exception": false,
     "start_time": "2022-02-27T00:33:47.587209",
     "status": "completed"
    },
    "tags": []
   },
   "source": [
    "# COVID-19 Case Race\n",
    "> A race chart to see rising cases around the world\n",
    "\n",
    "- author: Hargun Oberoi\n",
    "- image: images/covid-overview.png\n",
    "- hide: false\n",
    "- badges: false"
   ]
  },
  {
   "cell_type": "code",
   "execution_count": 1,
   "id": "proof-material",
   "metadata": {
    "execution": {
     "iopub.execute_input": "2022-02-27T00:33:47.755412Z",
     "iopub.status.busy": "2022-02-27T00:33:47.754721Z",
     "iopub.status.idle": "2022-02-27T00:33:48.182115Z",
     "shell.execute_reply": "2022-02-27T00:33:48.182730Z"
    },
    "papermill": {
     "duration": 0.479764,
     "end_time": "2022-02-27T00:33:48.182942",
     "exception": false,
     "start_time": "2022-02-27T00:33:47.703178",
     "status": "completed"
    },
    "tags": []
   },
   "outputs": [],
   "source": [
    "#hide\n",
    "import numpy as np\n",
    "import pandas as pd\n",
    "from jinja2 import Template\n",
    "from IPython.display import HTML"
   ]
  },
  {
   "cell_type": "code",
   "execution_count": 2,
   "id": "developed-terminology",
   "metadata": {
    "execution": {
     "iopub.execute_input": "2022-02-27T00:33:48.272970Z",
     "iopub.status.busy": "2022-02-27T00:33:48.271976Z",
     "iopub.status.idle": "2022-02-27T00:33:48.274273Z",
     "shell.execute_reply": "2022-02-27T00:33:48.274866Z"
    },
    "papermill": {
     "duration": 0.050741,
     "end_time": "2022-02-27T00:33:48.275279",
     "exception": false,
     "start_time": "2022-02-27T00:33:48.224538",
     "status": "completed"
    },
    "tags": []
   },
   "outputs": [],
   "source": [
    "#hide\n",
    "\n",
    "# FETCH\n",
    "base_url = 'https://raw.githubusercontent.com/pratapvardhan/notebooks/master/covid19/'\n",
    "paths = {\n",
    "    'mapping': base_url + 'mapping_countries.csv',\n",
    "    'overview': base_url + 'overview.tpl'\n",
    "}"
   ]
  },
  {
   "cell_type": "code",
   "execution_count": 3,
   "id": "dynamic-saver",
   "metadata": {
    "execution": {
     "iopub.execute_input": "2022-02-27T00:33:48.378628Z",
     "iopub.status.busy": "2022-02-27T00:33:48.373295Z",
     "iopub.status.idle": "2022-02-27T00:33:48.381787Z",
     "shell.execute_reply": "2022-02-27T00:33:48.382549Z"
    },
    "papermill": {
     "duration": 0.063423,
     "end_time": "2022-02-27T00:33:48.382752",
     "exception": false,
     "start_time": "2022-02-27T00:33:48.319329",
     "status": "completed"
    },
    "tags": []
   },
   "outputs": [
    {
     "data": {
      "text/plain": [
       "'https://raw.githubusercontent.com/pratapvardhan/notebooks/master/covid19/mapping_countries.csv'"
      ]
     },
     "execution_count": 3,
     "metadata": {},
     "output_type": "execute_result"
    }
   ],
   "source": [
    "#hide\n",
    "paths['mapping']"
   ]
  },
  {
   "cell_type": "code",
   "execution_count": 4,
   "id": "urban-software",
   "metadata": {
    "execution": {
     "iopub.execute_input": "2022-02-27T00:33:48.475289Z",
     "iopub.status.busy": "2022-02-27T00:33:48.474283Z",
     "iopub.status.idle": "2022-02-27T00:33:48.479874Z",
     "shell.execute_reply": "2022-02-27T00:33:48.480431Z"
    },
    "papermill": {
     "duration": 0.056729,
     "end_time": "2022-02-27T00:33:48.480624",
     "exception": false,
     "start_time": "2022-02-27T00:33:48.423895",
     "status": "completed"
    },
    "tags": []
   },
   "outputs": [],
   "source": [
    "#hide\n",
    "def get_mappings(url):\n",
    "    df = pd.read_csv(url)\n",
    "    return {\n",
    "        'df': df,\n",
    "        'replace.country': dict(df.dropna(subset=['Name']).set_index('Country')['Name']),\n",
    "        'map.continent': dict(df.set_index('Name')['Continent'])\n",
    "    }"
   ]
  },
  {
   "cell_type": "code",
   "execution_count": 5,
   "id": "intimate-machinery",
   "metadata": {
    "execution": {
     "iopub.execute_input": "2022-02-27T00:33:48.571223Z",
     "iopub.status.busy": "2022-02-27T00:33:48.570466Z",
     "iopub.status.idle": "2022-02-27T00:33:48.609885Z",
     "shell.execute_reply": "2022-02-27T00:33:48.609218Z"
    },
    "papermill": {
     "duration": 0.087071,
     "end_time": "2022-02-27T00:33:48.610097",
     "exception": false,
     "start_time": "2022-02-27T00:33:48.523026",
     "status": "completed"
    },
    "tags": []
   },
   "outputs": [],
   "source": [
    "#hide\n",
    "mapping = get_mappings(paths['mapping'])"
   ]
  },
  {
   "cell_type": "code",
   "execution_count": 6,
   "id": "certified-tactics",
   "metadata": {
    "execution": {
     "iopub.execute_input": "2022-02-27T00:33:48.703880Z",
     "iopub.status.busy": "2022-02-27T00:33:48.703145Z",
     "iopub.status.idle": "2022-02-27T00:33:48.707472Z",
     "shell.execute_reply": "2022-02-27T00:33:48.708126Z"
    },
    "papermill": {
     "duration": 0.053813,
     "end_time": "2022-02-27T00:33:48.708316",
     "exception": false,
     "start_time": "2022-02-27T00:33:48.654503",
     "status": "completed"
    },
    "tags": []
   },
   "outputs": [],
   "source": [
    "#hide\n",
    "def get_template(path):\n",
    "    from urllib.parse import urlparse\n",
    "    if bool(urlparse(path).netloc):\n",
    "        from urllib.request import urlopen\n",
    "        return urlopen(path).read().decode('utf8')\n",
    "    return open(path).read()"
   ]
  },
  {
   "cell_type": "code",
   "execution_count": 7,
   "id": "realistic-blast",
   "metadata": {
    "execution": {
     "iopub.execute_input": "2022-02-27T00:33:48.800857Z",
     "iopub.status.busy": "2022-02-27T00:33:48.800156Z",
     "iopub.status.idle": "2022-02-27T00:33:48.802437Z",
     "shell.execute_reply": "2022-02-27T00:33:48.802960Z"
    },
    "papermill": {
     "duration": 0.049949,
     "end_time": "2022-02-27T00:33:48.803135",
     "exception": false,
     "start_time": "2022-02-27T00:33:48.753186",
     "status": "completed"
    },
    "tags": []
   },
   "outputs": [],
   "source": [
    "#hide\n",
    "def get_frame(name):\n",
    "    url = (\n",
    "        'https://raw.githubusercontent.com/CSSEGISandData/COVID-19/master/csse_covid_19_data/'\n",
    "        f'csse_covid_19_time_series/time_series_covid19_{name}_global.csv')\n",
    "    df = pd.read_csv(url)\n",
    "    # rename countries\n",
    "    df['Country/Region'] = df['Country/Region'].replace(mapping['replace.country'])\n",
    "    return df"
   ]
  },
  {
   "cell_type": "code",
   "execution_count": 8,
   "id": "affiliated-characterization",
   "metadata": {
    "execution": {
     "iopub.execute_input": "2022-02-27T00:33:48.894252Z",
     "iopub.status.busy": "2022-02-27T00:33:48.893475Z",
     "iopub.status.idle": "2022-02-27T00:33:48.896174Z",
     "shell.execute_reply": "2022-02-27T00:33:48.895457Z"
    },
    "papermill": {
     "duration": 0.05094,
     "end_time": "2022-02-27T00:33:48.896312",
     "exception": false,
     "start_time": "2022-02-27T00:33:48.845372",
     "status": "completed"
    },
    "tags": []
   },
   "outputs": [],
   "source": [
    "#hide\n",
    "def get_dates(df):\n",
    "    dt_cols = df.columns[~df.columns.isin(['Province/State', 'Country/Region', 'Lat', 'Long'])]\n",
    "    LAST_DATE_I = -1\n",
    "    # sometimes last column may be empty, then go backwards\n",
    "    for i in range(-1, -len(dt_cols), -1):\n",
    "        if not df[dt_cols[i]].fillna(0).eq(0).all():\n",
    "            LAST_DATE_I = i\n",
    "            break\n",
    "    return LAST_DATE_I, dt_cols"
   ]
  },
  {
   "cell_type": "code",
   "execution_count": 9,
   "id": "recent-optimization",
   "metadata": {
    "execution": {
     "iopub.execute_input": "2022-02-27T00:33:48.987775Z",
     "iopub.status.busy": "2022-02-27T00:33:48.985195Z",
     "iopub.status.idle": "2022-02-27T00:33:49.458685Z",
     "shell.execute_reply": "2022-02-27T00:33:49.457952Z"
    },
    "papermill": {
     "duration": 0.519774,
     "end_time": "2022-02-27T00:33:49.458838",
     "exception": false,
     "start_time": "2022-02-27T00:33:48.939064",
     "status": "completed"
    },
    "tags": []
   },
   "outputs": [],
   "source": [
    "#hide\n",
    "COL_REGION = 'Country/Region'\n",
    "# Confirmed, Recovered, Deaths\n",
    "df = get_frame('confirmed')\n",
    "# dft_: timeseries, dfc_: today country agg\n",
    "dft_cases = df\n",
    "dft_deaths = get_frame('deaths')\n",
    "dft_recovered = get_frame('recovered')\n",
    "LAST_DATE_I, dt_cols = get_dates(df)"
   ]
  },
  {
   "cell_type": "code",
   "execution_count": 10,
   "id": "absolute-copper",
   "metadata": {
    "execution": {
     "iopub.execute_input": "2022-02-27T00:33:49.550839Z",
     "iopub.status.busy": "2022-02-27T00:33:49.550051Z",
     "iopub.status.idle": "2022-02-27T00:33:49.552730Z",
     "shell.execute_reply": "2022-02-27T00:33:49.552144Z"
    },
    "papermill": {
     "duration": 0.050779,
     "end_time": "2022-02-27T00:33:49.552875",
     "exception": false,
     "start_time": "2022-02-27T00:33:49.502096",
     "status": "completed"
    },
    "tags": []
   },
   "outputs": [],
   "source": [
    "#hide\n",
    "LAST_DATE_I, dt_cols = get_dates(df)\n",
    "dt_today =dt_cols[LAST_DATE_I]\n",
    "# dt_5day = dt_cols[LAST_DATE_I - 5]\n",
    "dt_yday = dt_cols[LAST_DATE_I - 1]"
   ]
  },
  {
   "cell_type": "code",
   "execution_count": 11,
   "id": "restricted-sheriff",
   "metadata": {
    "execution": {
     "iopub.execute_input": "2022-02-27T00:33:49.648750Z",
     "iopub.status.busy": "2022-02-27T00:33:49.647852Z",
     "iopub.status.idle": "2022-02-27T00:33:49.657572Z",
     "shell.execute_reply": "2022-02-27T00:33:49.655878Z"
    },
    "papermill": {
     "duration": 0.063502,
     "end_time": "2022-02-27T00:33:49.657720",
     "exception": false,
     "start_time": "2022-02-27T00:33:49.594218",
     "status": "completed"
    },
    "tags": []
   },
   "outputs": [],
   "source": [
    "#hide\n",
    "dfc_cases = dft_cases.groupby(COL_REGION)[dt_today].sum()\n",
    "dfc_deaths = dft_deaths.groupby(COL_REGION)[dt_today].sum()\n",
    "# dfp_cases = dft_cases.groupby(COL_REGION)[dt_5day].sum()\n",
    "# dfp_deaths = dft_deaths.groupby(COL_REGION)[dt_5day].sum()\n",
    "dfp_cases = dft_cases.groupby(COL_REGION)[dt_yday].sum()\n",
    "dfp_deaths = dft_deaths.groupby(COL_REGION)[dt_yday].sum()"
   ]
  },
  {
   "cell_type": "code",
   "execution_count": 12,
   "id": "deluxe-hepatitis",
   "metadata": {
    "execution": {
     "iopub.execute_input": "2022-02-27T00:33:49.749266Z",
     "iopub.status.busy": "2022-02-27T00:33:49.748486Z",
     "iopub.status.idle": "2022-02-27T00:33:49.754680Z",
     "shell.execute_reply": "2022-02-27T00:33:49.754090Z"
    },
    "papermill": {
     "duration": 0.053713,
     "end_time": "2022-02-27T00:33:49.754836",
     "exception": false,
     "start_time": "2022-02-27T00:33:49.701123",
     "status": "completed"
    },
    "tags": []
   },
   "outputs": [],
   "source": [
    "#hide\n",
    "df_table = (pd.DataFrame(dict(Cases = dfc_cases, Deaths = dfc_deaths, PCases = dfp_cases, PDeaths = dfp_deaths))\n",
    "            .sort_values(by = ['Cases','Deaths'], ascending = [False, False])\n",
    "            .reset_index())"
   ]
  },
  {
   "cell_type": "code",
   "execution_count": 13,
   "id": "educational-chancellor",
   "metadata": {
    "execution": {
     "iopub.execute_input": "2022-02-27T00:33:49.873171Z",
     "iopub.status.busy": "2022-02-27T00:33:49.866641Z",
     "iopub.status.idle": "2022-02-27T00:33:49.877577Z",
     "shell.execute_reply": "2022-02-27T00:33:49.876980Z"
    },
    "papermill": {
     "duration": 0.082394,
     "end_time": "2022-02-27T00:33:49.877758",
     "exception": false,
     "start_time": "2022-02-27T00:33:49.795364",
     "status": "completed"
    },
    "tags": []
   },
   "outputs": [
    {
     "data": {
      "text/html": [
       "<div>\n",
       "<style scoped>\n",
       "    .dataframe tbody tr th:only-of-type {\n",
       "        vertical-align: middle;\n",
       "    }\n",
       "\n",
       "    .dataframe tbody tr th {\n",
       "        vertical-align: top;\n",
       "    }\n",
       "\n",
       "    .dataframe thead th {\n",
       "        text-align: right;\n",
       "    }\n",
       "</style>\n",
       "<table border=\"1\" class=\"dataframe\">\n",
       "  <thead>\n",
       "    <tr style=\"text-align: right;\">\n",
       "      <th></th>\n",
       "      <th>Country/Region</th>\n",
       "      <th>Cases</th>\n",
       "      <th>Deaths</th>\n",
       "      <th>PCases</th>\n",
       "      <th>PDeaths</th>\n",
       "      <th>Cases (+)</th>\n",
       "      <th>Deaths (+)</th>\n",
       "      <th>Fatality Rate</th>\n",
       "      <th>Continent</th>\n",
       "    </tr>\n",
       "  </thead>\n",
       "  <tbody>\n",
       "    <tr>\n",
       "      <th>0</th>\n",
       "      <td>US</td>\n",
       "      <td>78883101</td>\n",
       "      <td>947417</td>\n",
       "      <td>78798989</td>\n",
       "      <td>944830</td>\n",
       "      <td>84112</td>\n",
       "      <td>2587</td>\n",
       "      <td>1.20</td>\n",
       "      <td>North America</td>\n",
       "    </tr>\n",
       "    <tr>\n",
       "      <th>1</th>\n",
       "      <td>India</td>\n",
       "      <td>42905844</td>\n",
       "      <td>513481</td>\n",
       "      <td>42894345</td>\n",
       "      <td>513226</td>\n",
       "      <td>11499</td>\n",
       "      <td>255</td>\n",
       "      <td>1.20</td>\n",
       "      <td>Asia</td>\n",
       "    </tr>\n",
       "    <tr>\n",
       "      <th>2</th>\n",
       "      <td>Brazil</td>\n",
       "      <td>28679671</td>\n",
       "      <td>648496</td>\n",
       "      <td>28589235</td>\n",
       "      <td>647703</td>\n",
       "      <td>90436</td>\n",
       "      <td>793</td>\n",
       "      <td>2.26</td>\n",
       "      <td>South America</td>\n",
       "    </tr>\n",
       "    <tr>\n",
       "      <th>3</th>\n",
       "      <td>France</td>\n",
       "      <td>22765934</td>\n",
       "      <td>138972</td>\n",
       "      <td>22707110</td>\n",
       "      <td>138784</td>\n",
       "      <td>58824</td>\n",
       "      <td>188</td>\n",
       "      <td>0.61</td>\n",
       "      <td>Europe</td>\n",
       "    </tr>\n",
       "    <tr>\n",
       "      <th>4</th>\n",
       "      <td>United Kingdom</td>\n",
       "      <td>18938546</td>\n",
       "      <td>161797</td>\n",
       "      <td>18906546</td>\n",
       "      <td>161675</td>\n",
       "      <td>32000</td>\n",
       "      <td>122</td>\n",
       "      <td>0.85</td>\n",
       "      <td>Europe</td>\n",
       "    </tr>\n",
       "  </tbody>\n",
       "</table>\n",
       "</div>"
      ],
      "text/plain": [
       "   Country/Region     Cases  Deaths    PCases  PDeaths  Cases (+)  Deaths (+)  \\\n",
       "0              US  78883101  947417  78798989   944830      84112        2587   \n",
       "1           India  42905844  513481  42894345   513226      11499         255   \n",
       "2          Brazil  28679671  648496  28589235   647703      90436         793   \n",
       "3          France  22765934  138972  22707110   138784      58824         188   \n",
       "4  United Kingdom  18938546  161797  18906546   161675      32000         122   \n",
       "\n",
       "   Fatality Rate      Continent  \n",
       "0           1.20  North America  \n",
       "1           1.20           Asia  \n",
       "2           2.26  South America  \n",
       "3           0.61         Europe  \n",
       "4           0.85         Europe  "
      ]
     },
     "execution_count": 13,
     "metadata": {},
     "output_type": "execute_result"
    }
   ],
   "source": [
    "#hide\n",
    "for c in 'Cases, Deaths'.split(', '):\n",
    "    df_table[f'{c} (+)'] = (df_table[c] - df_table[f'P{c}']).clip(0)\n",
    "    #Clip ça veut dire, les chiffres negatif sont interdit\n",
    "df_table['Fatality Rate'] = (100* df_table['Deaths']/ df_table['Cases']).round(2)\n",
    "df_table['Continent'] = df_table['Country/Region'].map(mapping['map.continent'])\n",
    "df_table.head(5)"
   ]
  },
  {
   "cell_type": "code",
   "execution_count": 14,
   "id": "aboriginal-bulgaria",
   "metadata": {
    "execution": {
     "iopub.execute_input": "2022-02-27T00:33:49.981576Z",
     "iopub.status.busy": "2022-02-27T00:33:49.980717Z",
     "iopub.status.idle": "2022-02-27T00:33:49.984456Z",
     "shell.execute_reply": "2022-02-27T00:33:49.985160Z"
    },
    "papermill": {
     "duration": 0.065901,
     "end_time": "2022-02-27T00:33:49.985324",
     "exception": false,
     "start_time": "2022-02-27T00:33:49.919423",
     "status": "completed"
    },
    "tags": []
   },
   "outputs": [],
   "source": [
    "#hide\n",
    "#delete problematic countries from table\n",
    "df_table = df_table[~df_table['Country/Region'].isin(['Cape Verde', 'Cruise Ship', 'Kosovo'])]"
   ]
  },
  {
   "cell_type": "code",
   "execution_count": 15,
   "id": "fantastic-effect",
   "metadata": {
    "execution": {
     "iopub.execute_input": "2022-02-27T00:33:50.081093Z",
     "iopub.status.busy": "2022-02-27T00:33:50.080360Z",
     "iopub.status.idle": "2022-02-27T00:33:50.113667Z",
     "shell.execute_reply": "2022-02-27T00:33:50.114323Z"
    },
    "papermill": {
     "duration": 0.086192,
     "end_time": "2022-02-27T00:33:50.114496",
     "exception": false,
     "start_time": "2022-02-27T00:33:50.028304",
     "status": "completed"
    },
    "tags": []
   },
   "outputs": [
    {
     "data": {
      "text/html": [
       "<div>\n",
       "<style scoped>\n",
       "    .dataframe tbody tr th:only-of-type {\n",
       "        vertical-align: middle;\n",
       "    }\n",
       "\n",
       "    .dataframe tbody tr th {\n",
       "        vertical-align: top;\n",
       "    }\n",
       "\n",
       "    .dataframe thead th {\n",
       "        text-align: right;\n",
       "    }\n",
       "</style>\n",
       "<table border=\"1\" class=\"dataframe\">\n",
       "  <thead>\n",
       "    <tr style=\"text-align: right;\">\n",
       "      <th></th>\n",
       "      <th>Country/Region</th>\n",
       "      <th>Cases</th>\n",
       "      <th>Deaths</th>\n",
       "      <th>PCases</th>\n",
       "      <th>PDeaths</th>\n",
       "      <th>Cases (+)</th>\n",
       "      <th>Deaths (+)</th>\n",
       "      <th>Fatality Rate</th>\n",
       "      <th>Continent</th>\n",
       "    </tr>\n",
       "  </thead>\n",
       "  <tbody>\n",
       "    <tr>\n",
       "      <th>0</th>\n",
       "      <td>US</td>\n",
       "      <td>78883101</td>\n",
       "      <td>947417</td>\n",
       "      <td>78798989</td>\n",
       "      <td>944830</td>\n",
       "      <td>84112</td>\n",
       "      <td>2587</td>\n",
       "      <td>1.2</td>\n",
       "      <td>North America</td>\n",
       "    </tr>\n",
       "    <tr>\n",
       "      <th>1</th>\n",
       "      <td>India</td>\n",
       "      <td>42905844</td>\n",
       "      <td>513481</td>\n",
       "      <td>42894345</td>\n",
       "      <td>513226</td>\n",
       "      <td>11499</td>\n",
       "      <td>255</td>\n",
       "      <td>1.2</td>\n",
       "      <td>Asia</td>\n",
       "    </tr>\n",
       "    <tr>\n",
       "      <th>2</th>\n",
       "      <td>Brazil</td>\n",
       "      <td>28679671</td>\n",
       "      <td>648496</td>\n",
       "      <td>28589235</td>\n",
       "      <td>647703</td>\n",
       "      <td>90436</td>\n",
       "      <td>793</td>\n",
       "      <td>2.3</td>\n",
       "      <td>South America</td>\n",
       "    </tr>\n",
       "    <tr>\n",
       "      <th>3</th>\n",
       "      <td>France</td>\n",
       "      <td>22765934</td>\n",
       "      <td>138972</td>\n",
       "      <td>22707110</td>\n",
       "      <td>138784</td>\n",
       "      <td>58824</td>\n",
       "      <td>188</td>\n",
       "      <td>0.6</td>\n",
       "      <td>Europe</td>\n",
       "    </tr>\n",
       "    <tr>\n",
       "      <th>4</th>\n",
       "      <td>United Kingdom</td>\n",
       "      <td>18938546</td>\n",
       "      <td>161797</td>\n",
       "      <td>18906546</td>\n",
       "      <td>161675</td>\n",
       "      <td>32000</td>\n",
       "      <td>122</td>\n",
       "      <td>0.9</td>\n",
       "      <td>Europe</td>\n",
       "    </tr>\n",
       "  </tbody>\n",
       "</table>\n",
       "</div>"
      ],
      "text/plain": [
       "   Country/Region     Cases  Deaths    PCases  PDeaths  Cases (+)  Deaths (+)  \\\n",
       "0              US  78883101  947417  78798989   944830      84112        2587   \n",
       "1           India  42905844  513481  42894345   513226      11499         255   \n",
       "2          Brazil  28679671  648496  28589235   647703      90436         793   \n",
       "3          France  22765934  138972  22707110   138784      58824         188   \n",
       "4  United Kingdom  18938546  161797  18906546   161675      32000         122   \n",
       "\n",
       "   Fatality Rate      Continent  \n",
       "0            1.2  North America  \n",
       "1            1.2           Asia  \n",
       "2            2.3  South America  \n",
       "3            0.6         Europe  \n",
       "4            0.9         Europe  "
      ]
     },
     "execution_count": 15,
     "metadata": {},
     "output_type": "execute_result"
    }
   ],
   "source": [
    "#hide\n",
    "df_table = (pd.DataFrame(dict(Cases=dfc_cases, Deaths=dfc_deaths, PCases=dfp_cases, PDeaths=dfp_deaths))\n",
    "             .sort_values(by=['Cases', 'Deaths'], ascending=[False, False])\n",
    "             .reset_index())\n",
    "df_table.rename(columns={'index': 'Country/Region'}, inplace=True)\n",
    "for c in 'Cases, Deaths'.split(', '):\n",
    "    df_table[f'{c} (+)'] = (df_table[c] - df_table[f'P{c}']).clip(0)  # DATA BUG\n",
    "df_table['Fatality Rate'] = (100 * df_table['Deaths'] / df_table['Cases']).round(1)\n",
    "df_table['Continent'] = df_table['Country/Region'].map(mapping['map.continent'])\n",
    "df_table.head(5)"
   ]
  },
  {
   "cell_type": "code",
   "execution_count": 16,
   "id": "fewer-occasion",
   "metadata": {
    "execution": {
     "iopub.execute_input": "2022-02-27T00:33:50.207933Z",
     "iopub.status.busy": "2022-02-27T00:33:50.207248Z",
     "iopub.status.idle": "2022-02-27T00:33:50.209724Z",
     "shell.execute_reply": "2022-02-27T00:33:50.210468Z"
    },
    "papermill": {
     "duration": 0.052924,
     "end_time": "2022-02-27T00:33:50.210665",
     "exception": false,
     "start_time": "2022-02-27T00:33:50.157741",
     "status": "completed"
    },
    "tags": []
   },
   "outputs": [],
   "source": [
    "#hide\n",
    "#delete problematic countries from table\n",
    "df_table = df_table[~df_table['Country/Region'].isin(['Cape Verde', 'Cruise Ship', 'Kosovo'])]"
   ]
  },
  {
   "cell_type": "code",
   "execution_count": 17,
   "id": "related-center",
   "metadata": {
    "execution": {
     "iopub.execute_input": "2022-02-27T00:33:50.341861Z",
     "iopub.status.busy": "2022-02-27T00:33:50.341131Z",
     "iopub.status.idle": "2022-02-27T00:33:50.343831Z",
     "shell.execute_reply": "2022-02-27T00:33:50.343208Z"
    },
    "papermill": {
     "duration": 0.090278,
     "end_time": "2022-02-27T00:33:50.344001",
     "exception": false,
     "start_time": "2022-02-27T00:33:50.253723",
     "status": "completed"
    },
    "tags": []
   },
   "outputs": [],
   "source": [
    "#hide\n",
    "metrics = [df_table.columns[index] for index in [1,2,5,6]]\n",
    "# s_china = df_table[df_table['Country/Region'].eq('China')][metrics].sum().add_prefix('China ')\n",
    "s_us = df_table[df_table['Country/Region'].eq('US')][metrics].sum().add_prefix('US ')\n",
    "s_eu = df_table[df_table['Continent'].eq('Europe')][metrics].sum().add_prefix('EU ')\n",
    "s_ind = df_table[df_table['Country/Region'].eq('India')][metrics].sum().add_prefix('India ')\n",
    "summary = {'updated': pd.to_datetime(dt_today), 'since': pd.to_datetime(dt_yday)}\n",
    "summary = {'updated': pd.to_datetime(dt_today), 'since': pd.to_datetime(dt_yday)}\n",
    "summary = {**summary, **df_table[metrics].sum(), **s_ind, **s_us, **s_eu}"
   ]
  },
  {
   "cell_type": "code",
   "execution_count": 18,
   "id": "engaging-syndrome",
   "metadata": {
    "execution": {
     "iopub.execute_input": "2022-02-27T00:33:50.439004Z",
     "iopub.status.busy": "2022-02-27T00:33:50.438298Z",
     "iopub.status.idle": "2022-02-27T00:33:50.457127Z",
     "shell.execute_reply": "2022-02-27T00:33:50.456533Z"
    },
    "papermill": {
     "duration": 0.06987,
     "end_time": "2022-02-27T00:33:50.457282",
     "exception": false,
     "start_time": "2022-02-27T00:33:50.387412",
     "status": "completed"
    },
    "tags": []
   },
   "outputs": [],
   "source": [
    "#hide\n",
    "dft_ct_new_cases = dft_cases.groupby(COL_REGION)[dt_cols].sum().diff(axis=1).fillna(0).astype(int)"
   ]
  },
  {
   "cell_type": "code",
   "execution_count": 19,
   "id": "neutral-assignment",
   "metadata": {
    "execution": {
     "iopub.execute_input": "2022-02-27T00:33:50.553300Z",
     "iopub.status.busy": "2022-02-27T00:33:50.552452Z",
     "iopub.status.idle": "2022-02-27T00:33:50.554538Z",
     "shell.execute_reply": "2022-02-27T00:33:50.555241Z"
    },
    "papermill": {
     "duration": 0.053263,
     "end_time": "2022-02-27T00:33:50.555409",
     "exception": false,
     "start_time": "2022-02-27T00:33:50.502146",
     "status": "completed"
    },
    "tags": []
   },
   "outputs": [],
   "source": [
    "#hide\n",
    "everydaycases = dft_ct_new_cases.cumsum(axis=1)"
   ]
  },
  {
   "cell_type": "code",
   "execution_count": 20,
   "id": "parliamentary-calgary",
   "metadata": {
    "execution": {
     "iopub.execute_input": "2022-02-27T00:33:50.659181Z",
     "iopub.status.busy": "2022-02-27T00:33:50.658374Z",
     "iopub.status.idle": "2022-02-27T00:33:51.556377Z",
     "shell.execute_reply": "2022-02-27T00:33:51.554707Z"
    },
    "papermill": {
     "duration": 0.946137,
     "end_time": "2022-02-27T00:33:51.556942",
     "exception": false,
     "start_time": "2022-02-27T00:33:50.610805",
     "status": "completed"
    },
    "tags": []
   },
   "outputs": [],
   "source": [
    "#hide\n",
    "import pandas as pd\n",
    "import matplotlib.pyplot as plt\n",
    "import matplotlib.ticker as ticker\n",
    "import matplotlib.animation as animation\n",
    "from IPython.display import HTML"
   ]
  },
  {
   "cell_type": "code",
   "execution_count": 21,
   "id": "lasting-extraction",
   "metadata": {
    "execution": {
     "iopub.execute_input": "2022-02-27T00:33:51.663638Z",
     "iopub.status.busy": "2022-02-27T00:33:51.662896Z",
     "iopub.status.idle": "2022-02-27T00:33:51.669925Z",
     "shell.execute_reply": "2022-02-27T00:33:51.670563Z"
    },
    "papermill": {
     "duration": 0.064135,
     "end_time": "2022-02-27T00:33:51.671314",
     "exception": false,
     "start_time": "2022-02-27T00:33:51.607179",
     "status": "completed"
    },
    "tags": []
   },
   "outputs": [],
   "source": [
    "#hide\n",
    "t = everydaycases.stack()"
   ]
  },
  {
   "cell_type": "code",
   "execution_count": 22,
   "id": "premier-sleeve",
   "metadata": {
    "execution": {
     "iopub.execute_input": "2022-02-27T00:33:51.770538Z",
     "iopub.status.busy": "2022-02-27T00:33:51.769783Z",
     "iopub.status.idle": "2022-02-27T00:33:51.783403Z",
     "shell.execute_reply": "2022-02-27T00:33:51.782784Z"
    },
    "papermill": {
     "duration": 0.061754,
     "end_time": "2022-02-27T00:33:51.783563",
     "exception": false,
     "start_time": "2022-02-27T00:33:51.721809",
     "status": "completed"
    },
    "tags": []
   },
   "outputs": [],
   "source": [
    "#hide\n",
    "g = t.reset_index(['Country/Region'])"
   ]
  },
  {
   "cell_type": "code",
   "execution_count": 23,
   "id": "distributed-pittsburgh",
   "metadata": {
    "execution": {
     "iopub.execute_input": "2022-02-27T00:33:51.887254Z",
     "iopub.status.busy": "2022-02-27T00:33:51.886555Z",
     "iopub.status.idle": "2022-02-27T00:33:51.889792Z",
     "shell.execute_reply": "2022-02-27T00:33:51.889236Z"
    },
    "papermill": {
     "duration": 0.064138,
     "end_time": "2022-02-27T00:33:51.889936",
     "exception": false,
     "start_time": "2022-02-27T00:33:51.825798",
     "status": "completed"
    },
    "tags": []
   },
   "outputs": [],
   "source": [
    "#hide\n",
    "g.index.name = 'date'"
   ]
  },
  {
   "cell_type": "code",
   "execution_count": 24,
   "id": "naked-donor",
   "metadata": {
    "execution": {
     "iopub.execute_input": "2022-02-27T00:33:51.979295Z",
     "iopub.status.busy": "2022-02-27T00:33:51.978599Z",
     "iopub.status.idle": "2022-02-27T00:33:51.980678Z",
     "shell.execute_reply": "2022-02-27T00:33:51.981715Z"
    },
    "papermill": {
     "duration": 0.049474,
     "end_time": "2022-02-27T00:33:51.981879",
     "exception": false,
     "start_time": "2022-02-27T00:33:51.932405",
     "status": "completed"
    },
    "tags": []
   },
   "outputs": [],
   "source": [
    "# #hide\n",
    "# g = g.reset_index(['date'])"
   ]
  },
  {
   "cell_type": "code",
   "execution_count": 25,
   "id": "incomplete-mustang",
   "metadata": {
    "execution": {
     "iopub.execute_input": "2022-02-27T00:33:52.069555Z",
     "iopub.status.busy": "2022-02-27T00:33:52.068830Z",
     "iopub.status.idle": "2022-02-27T00:33:52.071449Z",
     "shell.execute_reply": "2022-02-27T00:33:52.070887Z"
    },
    "papermill": {
     "duration": 0.048195,
     "end_time": "2022-02-27T00:33:52.071589",
     "exception": false,
     "start_time": "2022-02-27T00:33:52.023394",
     "status": "completed"
    },
    "tags": []
   },
   "outputs": [],
   "source": [
    "#hide\n",
    "# g.head()"
   ]
  },
  {
   "cell_type": "code",
   "execution_count": 26,
   "id": "specific-kruger",
   "metadata": {
    "execution": {
     "iopub.execute_input": "2022-02-27T00:33:52.175494Z",
     "iopub.status.busy": "2022-02-27T00:33:52.174669Z",
     "iopub.status.idle": "2022-02-27T00:33:52.179869Z",
     "shell.execute_reply": "2022-02-27T00:33:52.180430Z"
    },
    "papermill": {
     "duration": 0.062179,
     "end_time": "2022-02-27T00:33:52.180601",
     "exception": false,
     "start_time": "2022-02-27T00:33:52.118422",
     "status": "completed"
    },
    "tags": []
   },
   "outputs": [],
   "source": [
    "#hide\n",
    "# g.columns = ['date','country','cases']"
   ]
  },
  {
   "cell_type": "code",
   "execution_count": 27,
   "id": "tender-conversion",
   "metadata": {
    "execution": {
     "iopub.execute_input": "2022-02-27T00:33:52.273436Z",
     "iopub.status.busy": "2022-02-27T00:33:52.272738Z",
     "iopub.status.idle": "2022-02-27T00:33:52.275480Z",
     "shell.execute_reply": "2022-02-27T00:33:52.274927Z"
    },
    "papermill": {
     "duration": 0.050554,
     "end_time": "2022-02-27T00:33:52.275619",
     "exception": false,
     "start_time": "2022-02-27T00:33:52.225065",
     "status": "completed"
    },
    "tags": []
   },
   "outputs": [],
   "source": [
    "#hide\n",
    "# g['continent'] = g.country"
   ]
  },
  {
   "cell_type": "code",
   "execution_count": 28,
   "id": "substantial-wilderness",
   "metadata": {
    "execution": {
     "iopub.execute_input": "2022-02-27T00:33:52.375165Z",
     "iopub.status.busy": "2022-02-27T00:33:52.374306Z",
     "iopub.status.idle": "2022-02-27T00:33:52.376258Z",
     "shell.execute_reply": "2022-02-27T00:33:52.376878Z"
    },
    "papermill": {
     "duration": 0.048674,
     "end_time": "2022-02-27T00:33:52.377062",
     "exception": false,
     "start_time": "2022-02-27T00:33:52.328388",
     "status": "completed"
    },
    "tags": []
   },
   "outputs": [],
   "source": [
    "#hide\n",
    "# cols = list(g.columns.values)"
   ]
  },
  {
   "cell_type": "code",
   "execution_count": 29,
   "id": "solved-farming",
   "metadata": {
    "execution": {
     "iopub.execute_input": "2022-02-27T00:33:52.487433Z",
     "iopub.status.busy": "2022-02-27T00:33:52.486719Z",
     "iopub.status.idle": "2022-02-27T00:33:52.491290Z",
     "shell.execute_reply": "2022-02-27T00:33:52.491825Z"
    },
    "papermill": {
     "duration": 0.061781,
     "end_time": "2022-02-27T00:33:52.491988",
     "exception": false,
     "start_time": "2022-02-27T00:33:52.430207",
     "status": "completed"
    },
    "tags": []
   },
   "outputs": [],
   "source": [
    "#hide\n",
    "# cols.insert(0, cols.pop())"
   ]
  },
  {
   "cell_type": "code",
   "execution_count": 30,
   "id": "executed-adoption",
   "metadata": {
    "execution": {
     "iopub.execute_input": "2022-02-27T00:33:52.588048Z",
     "iopub.status.busy": "2022-02-27T00:33:52.586421Z",
     "iopub.status.idle": "2022-02-27T00:33:52.588802Z",
     "shell.execute_reply": "2022-02-27T00:33:52.589392Z"
    },
    "papermill": {
     "duration": 0.048795,
     "end_time": "2022-02-27T00:33:52.589577",
     "exception": false,
     "start_time": "2022-02-27T00:33:52.540782",
     "status": "completed"
    },
    "tags": []
   },
   "outputs": [],
   "source": [
    "#hide\n",
    "# g = g[cols]"
   ]
  },
  {
   "cell_type": "code",
   "execution_count": 31,
   "id": "subject-dublin",
   "metadata": {
    "execution": {
     "iopub.execute_input": "2022-02-27T00:33:52.680060Z",
     "iopub.status.busy": "2022-02-27T00:33:52.679350Z",
     "iopub.status.idle": "2022-02-27T00:33:52.683397Z",
     "shell.execute_reply": "2022-02-27T00:33:52.684106Z"
    },
    "papermill": {
     "duration": 0.051593,
     "end_time": "2022-02-27T00:33:52.684279",
     "exception": false,
     "start_time": "2022-02-27T00:33:52.632686",
     "status": "completed"
    },
    "tags": []
   },
   "outputs": [],
   "source": [
    "#hide\n",
    "# g['continent'] = g['continent'].map(mapping['map.continent'])"
   ]
  },
  {
   "cell_type": "code",
   "execution_count": 32,
   "id": "freelance-scout",
   "metadata": {
    "execution": {
     "iopub.execute_input": "2022-02-27T00:33:52.775311Z",
     "iopub.status.busy": "2022-02-27T00:33:52.774621Z",
     "iopub.status.idle": "2022-02-27T00:33:52.777438Z",
     "shell.execute_reply": "2022-02-27T00:33:52.777999Z"
    },
    "papermill": {
     "duration": 0.050104,
     "end_time": "2022-02-27T00:33:52.778158",
     "exception": false,
     "start_time": "2022-02-27T00:33:52.728054",
     "status": "completed"
    },
    "tags": []
   },
   "outputs": [],
   "source": [
    "#hide\n",
    "# g.head()"
   ]
  },
  {
   "cell_type": "code",
   "execution_count": 33,
   "id": "limited-engine",
   "metadata": {
    "execution": {
     "iopub.execute_input": "2022-02-27T00:33:52.865556Z",
     "iopub.status.busy": "2022-02-27T00:33:52.864865Z",
     "iopub.status.idle": "2022-02-27T00:33:52.867025Z",
     "shell.execute_reply": "2022-02-27T00:33:52.866366Z"
    },
    "papermill": {
     "duration": 0.047315,
     "end_time": "2022-02-27T00:33:52.867177",
     "exception": false,
     "start_time": "2022-02-27T00:33:52.819862",
     "status": "completed"
    },
    "tags": []
   },
   "outputs": [],
   "source": [
    "# hide\n",
    "# g['date'] = g['date'].astype('datetime64[ns]')"
   ]
  },
  {
   "cell_type": "code",
   "execution_count": 34,
   "id": "sophisticated-supervisor",
   "metadata": {
    "execution": {
     "iopub.execute_input": "2022-02-27T00:33:52.958021Z",
     "iopub.status.busy": "2022-02-27T00:33:52.957209Z",
     "iopub.status.idle": "2022-02-27T00:33:52.959673Z",
     "shell.execute_reply": "2022-02-27T00:33:52.958884Z"
    },
    "papermill": {
     "duration": 0.048023,
     "end_time": "2022-02-27T00:33:52.959810",
     "exception": false,
     "start_time": "2022-02-27T00:33:52.911787",
     "status": "completed"
    },
    "tags": []
   },
   "outputs": [],
   "source": [
    "#hide\n",
    "# g['date'] = g.date.dt.dayofyear"
   ]
  },
  {
   "cell_type": "code",
   "execution_count": 35,
   "id": "inside-dubai",
   "metadata": {
    "execution": {
     "iopub.execute_input": "2022-02-27T00:33:53.048970Z",
     "iopub.status.busy": "2022-02-27T00:33:53.048254Z",
     "iopub.status.idle": "2022-02-27T00:33:53.052875Z",
     "shell.execute_reply": "2022-02-27T00:33:53.053595Z"
    },
    "papermill": {
     "duration": 0.051167,
     "end_time": "2022-02-27T00:33:53.053783",
     "exception": false,
     "start_time": "2022-02-27T00:33:53.002616",
     "status": "completed"
    },
    "tags": []
   },
   "outputs": [],
   "source": [
    "#hide\n",
    "# g = g.rename(columns= {'continent':'group','country':'name','cases':'value'})"
   ]
  },
  {
   "cell_type": "code",
   "execution_count": 36,
   "id": "fleet-motorcycle",
   "metadata": {
    "execution": {
     "iopub.execute_input": "2022-02-27T00:33:53.155723Z",
     "iopub.status.busy": "2022-02-27T00:33:53.154865Z",
     "iopub.status.idle": "2022-02-27T00:33:53.157776Z",
     "shell.execute_reply": "2022-02-27T00:33:53.156612Z"
    },
    "papermill": {
     "duration": 0.056282,
     "end_time": "2022-02-27T00:33:53.157919",
     "exception": false,
     "start_time": "2022-02-27T00:33:53.101637",
     "status": "completed"
    },
    "tags": []
   },
   "outputs": [],
   "source": [
    "#hide\n",
    "# cols = ['name','group','day','value']"
   ]
  },
  {
   "cell_type": "code",
   "execution_count": 37,
   "id": "continued-sleeping",
   "metadata": {
    "execution": {
     "iopub.execute_input": "2022-02-27T00:33:53.250309Z",
     "iopub.status.busy": "2022-02-27T00:33:53.249533Z",
     "iopub.status.idle": "2022-02-27T00:33:53.256124Z",
     "shell.execute_reply": "2022-02-27T00:33:53.256682Z"
    },
    "papermill": {
     "duration": 0.054988,
     "end_time": "2022-02-27T00:33:53.256840",
     "exception": false,
     "start_time": "2022-02-27T00:33:53.201852",
     "status": "completed"
    },
    "tags": []
   },
   "outputs": [],
   "source": [
    "#hide\n",
    "# g.rename(columns= {'date':'day'},inplace = True)"
   ]
  },
  {
   "cell_type": "code",
   "execution_count": 38,
   "id": "major-fight",
   "metadata": {
    "execution": {
     "iopub.execute_input": "2022-02-27T00:33:53.355908Z",
     "iopub.status.busy": "2022-02-27T00:33:53.355197Z",
     "iopub.status.idle": "2022-02-27T00:33:53.358582Z",
     "shell.execute_reply": "2022-02-27T00:33:53.359206Z"
    },
    "papermill": {
     "duration": 0.049818,
     "end_time": "2022-02-27T00:33:53.359375",
     "exception": false,
     "start_time": "2022-02-27T00:33:53.309557",
     "status": "completed"
    },
    "tags": []
   },
   "outputs": [],
   "source": [
    "#hide\n",
    "# g = g[cols]"
   ]
  },
  {
   "cell_type": "code",
   "execution_count": 39,
   "id": "structured-mobile",
   "metadata": {
    "execution": {
     "iopub.execute_input": "2022-02-27T00:33:53.451411Z",
     "iopub.status.busy": "2022-02-27T00:33:53.450663Z",
     "iopub.status.idle": "2022-02-27T00:33:53.452940Z",
     "shell.execute_reply": "2022-02-27T00:33:53.452186Z"
    },
    "papermill": {
     "duration": 0.049467,
     "end_time": "2022-02-27T00:33:53.453154",
     "exception": false,
     "start_time": "2022-02-27T00:33:53.403687",
     "status": "completed"
    },
    "tags": []
   },
   "outputs": [],
   "source": [
    "# #hide\n",
    "# g = g[g.group.notna()]"
   ]
  },
  {
   "cell_type": "code",
   "execution_count": 40,
   "id": "determined-closing",
   "metadata": {
    "execution": {
     "iopub.execute_input": "2022-02-27T00:33:53.542132Z",
     "iopub.status.busy": "2022-02-27T00:33:53.541428Z",
     "iopub.status.idle": "2022-02-27T00:33:53.543637Z",
     "shell.execute_reply": "2022-02-27T00:33:53.544212Z"
    },
    "papermill": {
     "duration": 0.048783,
     "end_time": "2022-02-27T00:33:53.544364",
     "exception": false,
     "start_time": "2022-02-27T00:33:53.495581",
     "status": "completed"
    },
    "tags": []
   },
   "outputs": [],
   "source": [
    "# #hide\n",
    "# colors = dict(zip(\n",
    "#     [\"Oceania\", \"Europe\", \"Asia\", \"South America\", \"Middle East\", \"North America\", \"Africa\"],\n",
    "#     [\"#adb0ff\", \"#ffb3ff\", \"#90d595\", \"#e48381\", \"#aafbff\", \"#f7bb5f\", \"#eafb50\"]\n",
    "# ))\n",
    "# group_lk = g.set_index('name')['group'].to_dict()"
   ]
  },
  {
   "cell_type": "code",
   "execution_count": null,
   "id": "gross-drinking",
   "metadata": {
    "papermill": {
     "duration": 0.041514,
     "end_time": "2022-02-27T00:33:53.628507",
     "exception": false,
     "start_time": "2022-02-27T00:33:53.586993",
     "status": "completed"
    },
    "tags": []
   },
   "outputs": [],
   "source": []
  },
  {
   "cell_type": "code",
   "execution_count": 41,
   "id": "subject-macintosh",
   "metadata": {
    "execution": {
     "iopub.execute_input": "2022-02-27T00:33:53.724545Z",
     "iopub.status.busy": "2022-02-27T00:33:53.723343Z",
     "iopub.status.idle": "2022-02-27T00:33:53.729644Z",
     "shell.execute_reply": "2022-02-27T00:33:53.728593Z"
    },
    "papermill": {
     "duration": 0.058146,
     "end_time": "2022-02-27T00:33:53.730146",
     "exception": false,
     "start_time": "2022-02-27T00:33:53.672000",
     "status": "completed"
    },
    "tags": []
   },
   "outputs": [],
   "source": [
    "# #hide\n",
    "# fig, ax = plt.subplots(figsize=(15, 8))\n",
    "\n",
    "# def draw_barchart(current_day):\n",
    "#     dff = g[g['day'].eq(current_day)].sort_values(by='value', ascending=True).tail(10)\n",
    "#     ax.clear()\n",
    "#     ax.barh(dff['name'], dff['value'], color=[colors[group_lk[x]] for x in dff['name']])\n",
    "#     dx = dff['value'].max() / 200\n",
    "    \n",
    "#     for i, (value, name) in enumerate(zip(dff['value'], dff['name'])):\n",
    "#         ax.text(value-dx, i,     name,           size=14, weight=600, ha='right', va='bottom')\n",
    "#         ax.text(value-dx, i-.25, group_lk[name], size=10, color='#444444', ha='right', va='baseline')\n",
    "#         ax.text(value+dx, i,     f'{value:,.0f}',  size=14, ha='left',  va='center')\n",
    "#     ax.text(1, 0.4, current_day, transform=ax.transAxes, color='#777777', size=46, ha='right', weight=800)\n",
    "#     ax.text(0, 1.06, 'Population (thousands)', transform=ax.transAxes, size=12, color='#777777')\n",
    "#     ax.xaxis.set_major_formatter(ticker.StrMethodFormatter('{x:,.0f}'))\n",
    "#     ax.xaxis.set_ticks_position('top')\n",
    "#     ax.tick_params(axis='x', colors='#777777', labelsize=12)\n",
    "#     ax.set_yticks([])\n",
    "#     ax.margins(0, 0.01)\n",
    "#     ax.grid(which='major', axis='x', linestyle='-')\n",
    "#     ax.set_axisbelow(True)\n",
    "    \n",
    "#     ax.text(0, 1.15, 'Coronavirus',\n",
    "#             transform=ax.transAxes, size=24, weight=600, ha='left', va='top')\n",
    "# #     ax.text(1, 0, 'by @pratapvardhan; credit @jburnmurdoch', transform=ax.transAxes, color='#777777', ha='right',\n",
    "# #             bbox=dict(facecolor='white', alpha=0.8, edgecolor='white'))\n",
    "#     plt.box(False)"
   ]
  },
  {
   "cell_type": "code",
   "execution_count": 42,
   "id": "sexual-wages",
   "metadata": {
    "execution": {
     "iopub.execute_input": "2022-02-27T00:33:53.828745Z",
     "iopub.status.busy": "2022-02-27T00:33:53.828036Z",
     "iopub.status.idle": "2022-02-27T00:33:53.832708Z",
     "shell.execute_reply": "2022-02-27T00:33:53.832120Z"
    },
    "papermill": {
     "duration": 0.052579,
     "end_time": "2022-02-27T00:33:53.832864",
     "exception": false,
     "start_time": "2022-02-27T00:33:53.780285",
     "status": "completed"
    },
    "tags": []
   },
   "outputs": [],
   "source": [
    "# #hide_input\n",
    "# fig, ax = plt.subplots(figsize=(15, 8))\n",
    "# animator = animation.FuncAnimation(fig, draw_barchart, frames=range(g.day.values.min(), g.day.values.max()))\n",
    "# HTML(animator.to_jshtml())\n",
    "# # or use animator.to_html5_video() or animator.save() "
   ]
  },
  {
   "cell_type": "code",
   "execution_count": null,
   "id": "australian-container",
   "metadata": {
    "papermill": {
     "duration": 0.054222,
     "end_time": "2022-02-27T00:33:53.929107",
     "exception": false,
     "start_time": "2022-02-27T00:33:53.874885",
     "status": "completed"
    },
    "tags": []
   },
   "outputs": [],
   "source": []
  },
  {
   "cell_type": "code",
   "execution_count": null,
   "id": "mediterranean-pontiac",
   "metadata": {
    "papermill": {
     "duration": 0.048509,
     "end_time": "2022-02-27T00:33:54.019500",
     "exception": false,
     "start_time": "2022-02-27T00:33:53.970991",
     "status": "completed"
    },
    "tags": []
   },
   "outputs": [],
   "source": []
  },
  {
   "cell_type": "code",
   "execution_count": null,
   "id": "aging-legislature",
   "metadata": {
    "papermill": {
     "duration": 0.041603,
     "end_time": "2022-02-27T00:33:54.107405",
     "exception": false,
     "start_time": "2022-02-27T00:33:54.065802",
     "status": "completed"
    },
    "tags": []
   },
   "outputs": [],
   "source": []
  }
 ],
 "metadata": {
  "kernelspec": {
   "display_name": "Python 3",
   "language": "python",
   "name": "python3"
  },
  "language_info": {
   "codemirror_mode": {
    "name": "ipython",
    "version": 3
   },
   "file_extension": ".py",
   "mimetype": "text/x-python",
   "name": "python",
   "nbconvert_exporter": "python",
   "pygments_lexer": "ipython3",
   "version": "3.6.15"
  },
  "papermill": {
   "duration": 8.297112,
   "end_time": "2022-02-27T00:33:54.578050",
   "environment_variables": {},
   "exception": null,
   "input_path": "2020-03-21-covid19exp.ipynb",
   "output_path": "2020-03-21-covid19exp.ipynb",
   "parameters": {},
   "start_time": "2022-02-27T00:33:46.280938",
   "version": "2.0.0"
  }
 },
 "nbformat": 4,
 "nbformat_minor": 5
}