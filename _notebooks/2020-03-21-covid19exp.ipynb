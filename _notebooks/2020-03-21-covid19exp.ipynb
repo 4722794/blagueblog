{
 "cells": [
  {
   "cell_type": "markdown",
   "id": "muslim-click",
   "metadata": {
    "papermill": {
     "duration": 0.043266,
     "end_time": "2021-04-24T12:04:43.669799",
     "exception": false,
     "start_time": "2021-04-24T12:04:43.626533",
     "status": "completed"
    },
    "tags": []
   },
   "source": [
    "# COVID-19 Case Race\n",
    "> A race chart to see rising cases around the world\n",
    "\n",
    "- author: Hargun Oberoi\n",
    "- image: images/covid-overview.png\n",
    "- hide: false\n",
    "- badges: false"
   ]
  },
  {
   "cell_type": "code",
   "execution_count": 1,
   "id": "proof-material",
   "metadata": {
    "execution": {
     "iopub.execute_input": "2021-04-24T12:04:43.758692Z",
     "iopub.status.busy": "2021-04-24T12:04:43.758026Z",
     "iopub.status.idle": "2021-04-24T12:04:44.109107Z",
     "shell.execute_reply": "2021-04-24T12:04:44.108273Z"
    },
    "papermill": {
     "duration": 0.401118,
     "end_time": "2021-04-24T12:04:44.109271",
     "exception": false,
     "start_time": "2021-04-24T12:04:43.708153",
     "status": "completed"
    },
    "tags": []
   },
   "outputs": [],
   "source": [
    "#hide\n",
    "import numpy as np\n",
    "import pandas as pd\n",
    "from jinja2 import Template\n",
    "from IPython.display import HTML"
   ]
  },
  {
   "cell_type": "code",
   "execution_count": 2,
   "id": "developed-terminology",
   "metadata": {
    "execution": {
     "iopub.execute_input": "2021-04-24T12:04:44.191493Z",
     "iopub.status.busy": "2021-04-24T12:04:44.190840Z",
     "iopub.status.idle": "2021-04-24T12:04:44.193321Z",
     "shell.execute_reply": "2021-04-24T12:04:44.192602Z"
    },
    "papermill": {
     "duration": 0.044003,
     "end_time": "2021-04-24T12:04:44.193451",
     "exception": false,
     "start_time": "2021-04-24T12:04:44.149448",
     "status": "completed"
    },
    "tags": []
   },
   "outputs": [],
   "source": [
    "#hide\n",
    "\n",
    "# FETCH\n",
    "base_url = 'https://raw.githubusercontent.com/pratapvardhan/notebooks/master/covid19/'\n",
    "paths = {\n",
    "    'mapping': base_url + 'mapping_countries.csv',\n",
    "    'overview': base_url + 'overview.tpl'\n",
    "}"
   ]
  },
  {
   "cell_type": "code",
   "execution_count": 3,
   "id": "dynamic-saver",
   "metadata": {
    "execution": {
     "iopub.execute_input": "2021-04-24T12:04:44.279020Z",
     "iopub.status.busy": "2021-04-24T12:04:44.276295Z",
     "iopub.status.idle": "2021-04-24T12:04:44.281976Z",
     "shell.execute_reply": "2021-04-24T12:04:44.282530Z"
    },
    "papermill": {
     "duration": 0.051258,
     "end_time": "2021-04-24T12:04:44.282674",
     "exception": false,
     "start_time": "2021-04-24T12:04:44.231416",
     "status": "completed"
    },
    "tags": []
   },
   "outputs": [
    {
     "data": {
      "text/plain": [
       "'https://raw.githubusercontent.com/pratapvardhan/notebooks/master/covid19/mapping_countries.csv'"
      ]
     },
     "execution_count": 3,
     "metadata": {},
     "output_type": "execute_result"
    }
   ],
   "source": [
    "#hide\n",
    "paths['mapping']"
   ]
  },
  {
   "cell_type": "code",
   "execution_count": 4,
   "id": "urban-software",
   "metadata": {
    "execution": {
     "iopub.execute_input": "2021-04-24T12:04:44.364880Z",
     "iopub.status.busy": "2021-04-24T12:04:44.364164Z",
     "iopub.status.idle": "2021-04-24T12:04:44.366581Z",
     "shell.execute_reply": "2021-04-24T12:04:44.366038Z"
    },
    "papermill": {
     "duration": 0.046041,
     "end_time": "2021-04-24T12:04:44.366707",
     "exception": false,
     "start_time": "2021-04-24T12:04:44.320666",
     "status": "completed"
    },
    "tags": []
   },
   "outputs": [],
   "source": [
    "#hide\n",
    "def get_mappings(url):\n",
    "    df = pd.read_csv(url)\n",
    "    return {\n",
    "        'df': df,\n",
    "        'replace.country': dict(df.dropna(subset=['Name']).set_index('Country')['Name']),\n",
    "        'map.continent': dict(df.set_index('Name')['Continent'])\n",
    "    }"
   ]
  },
  {
   "cell_type": "code",
   "execution_count": 5,
   "id": "intimate-machinery",
   "metadata": {
    "execution": {
     "iopub.execute_input": "2021-04-24T12:04:44.447403Z",
     "iopub.status.busy": "2021-04-24T12:04:44.446766Z",
     "iopub.status.idle": "2021-04-24T12:04:44.478108Z",
     "shell.execute_reply": "2021-04-24T12:04:44.477550Z"
    },
    "papermill": {
     "duration": 0.074756,
     "end_time": "2021-04-24T12:04:44.478243",
     "exception": false,
     "start_time": "2021-04-24T12:04:44.403487",
     "status": "completed"
    },
    "tags": []
   },
   "outputs": [],
   "source": [
    "#hide\n",
    "mapping = get_mappings(paths['mapping'])"
   ]
  },
  {
   "cell_type": "code",
   "execution_count": 6,
   "id": "certified-tactics",
   "metadata": {
    "execution": {
     "iopub.execute_input": "2021-04-24T12:04:44.562092Z",
     "iopub.status.busy": "2021-04-24T12:04:44.561428Z",
     "iopub.status.idle": "2021-04-24T12:04:44.564347Z",
     "shell.execute_reply": "2021-04-24T12:04:44.563803Z"
    },
    "papermill": {
     "duration": 0.048142,
     "end_time": "2021-04-24T12:04:44.564481",
     "exception": false,
     "start_time": "2021-04-24T12:04:44.516339",
     "status": "completed"
    },
    "tags": []
   },
   "outputs": [],
   "source": [
    "#hide\n",
    "def get_template(path):\n",
    "    from urllib.parse import urlparse\n",
    "    if bool(urlparse(path).netloc):\n",
    "        from urllib.request import urlopen\n",
    "        return urlopen(path).read().decode('utf8')\n",
    "    return open(path).read()"
   ]
  },
  {
   "cell_type": "code",
   "execution_count": 7,
   "id": "realistic-blast",
   "metadata": {
    "execution": {
     "iopub.execute_input": "2021-04-24T12:04:44.646053Z",
     "iopub.status.busy": "2021-04-24T12:04:44.645413Z",
     "iopub.status.idle": "2021-04-24T12:04:44.647314Z",
     "shell.execute_reply": "2021-04-24T12:04:44.648195Z"
    },
    "papermill": {
     "duration": 0.045848,
     "end_time": "2021-04-24T12:04:44.648346",
     "exception": false,
     "start_time": "2021-04-24T12:04:44.602498",
     "status": "completed"
    },
    "tags": []
   },
   "outputs": [],
   "source": [
    "#hide\n",
    "def get_frame(name):\n",
    "    url = (\n",
    "        'https://raw.githubusercontent.com/CSSEGISandData/COVID-19/master/csse_covid_19_data/'\n",
    "        f'csse_covid_19_time_series/time_series_covid19_{name}_global.csv')\n",
    "    df = pd.read_csv(url)\n",
    "    # rename countries\n",
    "    df['Country/Region'] = df['Country/Region'].replace(mapping['replace.country'])\n",
    "    return df"
   ]
  },
  {
   "cell_type": "code",
   "execution_count": 8,
   "id": "affiliated-characterization",
   "metadata": {
    "execution": {
     "iopub.execute_input": "2021-04-24T12:04:44.733387Z",
     "iopub.status.busy": "2021-04-24T12:04:44.732722Z",
     "iopub.status.idle": "2021-04-24T12:04:44.735244Z",
     "shell.execute_reply": "2021-04-24T12:04:44.734693Z"
    },
    "papermill": {
     "duration": 0.047023,
     "end_time": "2021-04-24T12:04:44.735381",
     "exception": false,
     "start_time": "2021-04-24T12:04:44.688358",
     "status": "completed"
    },
    "tags": []
   },
   "outputs": [],
   "source": [
    "#hide\n",
    "def get_dates(df):\n",
    "    dt_cols = df.columns[~df.columns.isin(['Province/State', 'Country/Region', 'Lat', 'Long'])]\n",
    "    LAST_DATE_I = -1\n",
    "    # sometimes last column may be empty, then go backwards\n",
    "    for i in range(-1, -len(dt_cols), -1):\n",
    "        if not df[dt_cols[i]].fillna(0).eq(0).all():\n",
    "            LAST_DATE_I = i\n",
    "            break\n",
    "    return LAST_DATE_I, dt_cols"
   ]
  },
  {
   "cell_type": "code",
   "execution_count": 9,
   "id": "recent-optimization",
   "metadata": {
    "execution": {
     "iopub.execute_input": "2021-04-24T12:04:44.818793Z",
     "iopub.status.busy": "2021-04-24T12:04:44.818150Z",
     "iopub.status.idle": "2021-04-24T12:04:45.112045Z",
     "shell.execute_reply": "2021-04-24T12:04:45.110952Z"
    },
    "papermill": {
     "duration": 0.338403,
     "end_time": "2021-04-24T12:04:45.112330",
     "exception": false,
     "start_time": "2021-04-24T12:04:44.773927",
     "status": "completed"
    },
    "tags": []
   },
   "outputs": [],
   "source": [
    "#hide\n",
    "COL_REGION = 'Country/Region'\n",
    "# Confirmed, Recovered, Deaths\n",
    "df = get_frame('confirmed')\n",
    "# dft_: timeseries, dfc_: today country agg\n",
    "dft_cases = df\n",
    "dft_deaths = get_frame('deaths')\n",
    "dft_recovered = get_frame('recovered')\n",
    "LAST_DATE_I, dt_cols = get_dates(df)"
   ]
  },
  {
   "cell_type": "code",
   "execution_count": 10,
   "id": "absolute-copper",
   "metadata": {
    "execution": {
     "iopub.execute_input": "2021-04-24T12:04:45.197544Z",
     "iopub.status.busy": "2021-04-24T12:04:45.196894Z",
     "iopub.status.idle": "2021-04-24T12:04:45.199532Z",
     "shell.execute_reply": "2021-04-24T12:04:45.198976Z"
    },
    "papermill": {
     "duration": 0.045191,
     "end_time": "2021-04-24T12:04:45.199664",
     "exception": false,
     "start_time": "2021-04-24T12:04:45.154473",
     "status": "completed"
    },
    "tags": []
   },
   "outputs": [],
   "source": [
    "#hide\n",
    "LAST_DATE_I, dt_cols = get_dates(df)\n",
    "dt_today =dt_cols[LAST_DATE_I]\n",
    "# dt_5day = dt_cols[LAST_DATE_I - 5]\n",
    "dt_yday = dt_cols[LAST_DATE_I - 1]"
   ]
  },
  {
   "cell_type": "code",
   "execution_count": 11,
   "id": "restricted-sheriff",
   "metadata": {
    "execution": {
     "iopub.execute_input": "2021-04-24T12:04:45.287481Z",
     "iopub.status.busy": "2021-04-24T12:04:45.286766Z",
     "iopub.status.idle": "2021-04-24T12:04:45.292627Z",
     "shell.execute_reply": "2021-04-24T12:04:45.291953Z"
    },
    "papermill": {
     "duration": 0.052867,
     "end_time": "2021-04-24T12:04:45.292758",
     "exception": false,
     "start_time": "2021-04-24T12:04:45.239891",
     "status": "completed"
    },
    "tags": []
   },
   "outputs": [],
   "source": [
    "#hide\n",
    "dfc_cases = dft_cases.groupby(COL_REGION)[dt_today].sum()\n",
    "dfc_deaths = dft_deaths.groupby(COL_REGION)[dt_today].sum()\n",
    "# dfp_cases = dft_cases.groupby(COL_REGION)[dt_5day].sum()\n",
    "# dfp_deaths = dft_deaths.groupby(COL_REGION)[dt_5day].sum()\n",
    "dfp_cases = dft_cases.groupby(COL_REGION)[dt_yday].sum()\n",
    "dfp_deaths = dft_deaths.groupby(COL_REGION)[dt_yday].sum()"
   ]
  },
  {
   "cell_type": "code",
   "execution_count": 12,
   "id": "deluxe-hepatitis",
   "metadata": {
    "execution": {
     "iopub.execute_input": "2021-04-24T12:04:45.379173Z",
     "iopub.status.busy": "2021-04-24T12:04:45.378460Z",
     "iopub.status.idle": "2021-04-24T12:04:45.383749Z",
     "shell.execute_reply": "2021-04-24T12:04:45.383199Z"
    },
    "papermill": {
     "duration": 0.050929,
     "end_time": "2021-04-24T12:04:45.383904",
     "exception": false,
     "start_time": "2021-04-24T12:04:45.332975",
     "status": "completed"
    },
    "tags": []
   },
   "outputs": [],
   "source": [
    "#hide\n",
    "df_table = (pd.DataFrame(dict(Cases = dfc_cases, Deaths = dfc_deaths, PCases = dfp_cases, PDeaths = dfp_deaths))\n",
    "            .sort_values(by = ['Cases','Deaths'], ascending = [False, False])\n",
    "            .reset_index())"
   ]
  },
  {
   "cell_type": "code",
   "execution_count": 13,
   "id": "educational-chancellor",
   "metadata": {
    "execution": {
     "iopub.execute_input": "2021-04-24T12:04:45.468635Z",
     "iopub.status.busy": "2021-04-24T12:04:45.467985Z",
     "iopub.status.idle": "2021-04-24T12:04:45.487951Z",
     "shell.execute_reply": "2021-04-24T12:04:45.487379Z"
    },
    "papermill": {
     "duration": 0.066033,
     "end_time": "2021-04-24T12:04:45.488083",
     "exception": false,
     "start_time": "2021-04-24T12:04:45.422050",
     "status": "completed"
    },
    "tags": []
   },
   "outputs": [
    {
     "data": {
      "text/html": [
       "<div>\n",
       "<style scoped>\n",
       "    .dataframe tbody tr th:only-of-type {\n",
       "        vertical-align: middle;\n",
       "    }\n",
       "\n",
       "    .dataframe tbody tr th {\n",
       "        vertical-align: top;\n",
       "    }\n",
       "\n",
       "    .dataframe thead th {\n",
       "        text-align: right;\n",
       "    }\n",
       "</style>\n",
       "<table border=\"1\" class=\"dataframe\">\n",
       "  <thead>\n",
       "    <tr style=\"text-align: right;\">\n",
       "      <th></th>\n",
       "      <th>Country/Region</th>\n",
       "      <th>Cases</th>\n",
       "      <th>Deaths</th>\n",
       "      <th>PCases</th>\n",
       "      <th>PDeaths</th>\n",
       "      <th>Cases (+)</th>\n",
       "      <th>Deaths (+)</th>\n",
       "      <th>Fatality Rate</th>\n",
       "      <th>Continent</th>\n",
       "    </tr>\n",
       "  </thead>\n",
       "  <tbody>\n",
       "    <tr>\n",
       "      <th>0</th>\n",
       "      <td>US</td>\n",
       "      <td>31991750</td>\n",
       "      <td>571197</td>\n",
       "      <td>31929351</td>\n",
       "      <td>570345</td>\n",
       "      <td>62399</td>\n",
       "      <td>852</td>\n",
       "      <td>1.79</td>\n",
       "      <td>North America</td>\n",
       "    </tr>\n",
       "    <tr>\n",
       "      <th>1</th>\n",
       "      <td>India</td>\n",
       "      <td>16610481</td>\n",
       "      <td>189544</td>\n",
       "      <td>16263695</td>\n",
       "      <td>186920</td>\n",
       "      <td>346786</td>\n",
       "      <td>2624</td>\n",
       "      <td>1.14</td>\n",
       "      <td>Asia</td>\n",
       "    </tr>\n",
       "    <tr>\n",
       "      <th>2</th>\n",
       "      <td>Brazil</td>\n",
       "      <td>14237078</td>\n",
       "      <td>386416</td>\n",
       "      <td>14167973</td>\n",
       "      <td>383502</td>\n",
       "      <td>69105</td>\n",
       "      <td>2914</td>\n",
       "      <td>2.71</td>\n",
       "      <td>South America</td>\n",
       "    </tr>\n",
       "    <tr>\n",
       "      <th>3</th>\n",
       "      <td>France</td>\n",
       "      <td>5502014</td>\n",
       "      <td>102655</td>\n",
       "      <td>5469674</td>\n",
       "      <td>102323</td>\n",
       "      <td>32340</td>\n",
       "      <td>332</td>\n",
       "      <td>1.87</td>\n",
       "      <td>Europe</td>\n",
       "    </tr>\n",
       "    <tr>\n",
       "      <th>4</th>\n",
       "      <td>Russia</td>\n",
       "      <td>4691290</td>\n",
       "      <td>105718</td>\n",
       "      <td>4682573</td>\n",
       "      <td>105328</td>\n",
       "      <td>8717</td>\n",
       "      <td>390</td>\n",
       "      <td>2.25</td>\n",
       "      <td>Europe</td>\n",
       "    </tr>\n",
       "  </tbody>\n",
       "</table>\n",
       "</div>"
      ],
      "text/plain": [
       "  Country/Region     Cases  Deaths    PCases  PDeaths  Cases (+)  Deaths (+)  \\\n",
       "0             US  31991750  571197  31929351   570345      62399         852   \n",
       "1          India  16610481  189544  16263695   186920     346786        2624   \n",
       "2         Brazil  14237078  386416  14167973   383502      69105        2914   \n",
       "3         France   5502014  102655   5469674   102323      32340         332   \n",
       "4         Russia   4691290  105718   4682573   105328       8717         390   \n",
       "\n",
       "   Fatality Rate      Continent  \n",
       "0           1.79  North America  \n",
       "1           1.14           Asia  \n",
       "2           2.71  South America  \n",
       "3           1.87         Europe  \n",
       "4           2.25         Europe  "
      ]
     },
     "execution_count": 13,
     "metadata": {},
     "output_type": "execute_result"
    }
   ],
   "source": [
    "#hide\n",
    "for c in 'Cases, Deaths'.split(', '):\n",
    "    df_table[f'{c} (+)'] = (df_table[c] - df_table[f'P{c}']).clip(0)\n",
    "    #Clip ça veut dire, les chiffres negatif sont interdit\n",
    "df_table['Fatality Rate'] = (100* df_table['Deaths']/ df_table['Cases']).round(2)\n",
    "df_table['Continent'] = df_table['Country/Region'].map(mapping['map.continent'])\n",
    "df_table.head(5)"
   ]
  },
  {
   "cell_type": "code",
   "execution_count": 14,
   "id": "aboriginal-bulgaria",
   "metadata": {
    "execution": {
     "iopub.execute_input": "2021-04-24T12:04:45.572802Z",
     "iopub.status.busy": "2021-04-24T12:04:45.572108Z",
     "iopub.status.idle": "2021-04-24T12:04:45.574445Z",
     "shell.execute_reply": "2021-04-24T12:04:45.573903Z"
    },
    "papermill": {
     "duration": 0.046985,
     "end_time": "2021-04-24T12:04:45.574575",
     "exception": false,
     "start_time": "2021-04-24T12:04:45.527590",
     "status": "completed"
    },
    "tags": []
   },
   "outputs": [],
   "source": [
    "#hide\n",
    "#delete problematic countries from table\n",
    "df_table = df_table[~df_table['Country/Region'].isin(['Cape Verde', 'Cruise Ship', 'Kosovo'])]"
   ]
  },
  {
   "cell_type": "code",
   "execution_count": 15,
   "id": "fantastic-effect",
   "metadata": {
    "execution": {
     "iopub.execute_input": "2021-04-24T12:04:45.660611Z",
     "iopub.status.busy": "2021-04-24T12:04:45.659905Z",
     "iopub.status.idle": "2021-04-24T12:04:45.680941Z",
     "shell.execute_reply": "2021-04-24T12:04:45.680287Z"
    },
    "papermill": {
     "duration": 0.068144,
     "end_time": "2021-04-24T12:04:45.681098",
     "exception": false,
     "start_time": "2021-04-24T12:04:45.612954",
     "status": "completed"
    },
    "tags": []
   },
   "outputs": [
    {
     "data": {
      "text/html": [
       "<div>\n",
       "<style scoped>\n",
       "    .dataframe tbody tr th:only-of-type {\n",
       "        vertical-align: middle;\n",
       "    }\n",
       "\n",
       "    .dataframe tbody tr th {\n",
       "        vertical-align: top;\n",
       "    }\n",
       "\n",
       "    .dataframe thead th {\n",
       "        text-align: right;\n",
       "    }\n",
       "</style>\n",
       "<table border=\"1\" class=\"dataframe\">\n",
       "  <thead>\n",
       "    <tr style=\"text-align: right;\">\n",
       "      <th></th>\n",
       "      <th>Country/Region</th>\n",
       "      <th>Cases</th>\n",
       "      <th>Deaths</th>\n",
       "      <th>PCases</th>\n",
       "      <th>PDeaths</th>\n",
       "      <th>Cases (+)</th>\n",
       "      <th>Deaths (+)</th>\n",
       "      <th>Fatality Rate</th>\n",
       "      <th>Continent</th>\n",
       "    </tr>\n",
       "  </thead>\n",
       "  <tbody>\n",
       "    <tr>\n",
       "      <th>0</th>\n",
       "      <td>US</td>\n",
       "      <td>31991750</td>\n",
       "      <td>571197</td>\n",
       "      <td>31929351</td>\n",
       "      <td>570345</td>\n",
       "      <td>62399</td>\n",
       "      <td>852</td>\n",
       "      <td>1.8</td>\n",
       "      <td>North America</td>\n",
       "    </tr>\n",
       "    <tr>\n",
       "      <th>1</th>\n",
       "      <td>India</td>\n",
       "      <td>16610481</td>\n",
       "      <td>189544</td>\n",
       "      <td>16263695</td>\n",
       "      <td>186920</td>\n",
       "      <td>346786</td>\n",
       "      <td>2624</td>\n",
       "      <td>1.1</td>\n",
       "      <td>Asia</td>\n",
       "    </tr>\n",
       "    <tr>\n",
       "      <th>2</th>\n",
       "      <td>Brazil</td>\n",
       "      <td>14237078</td>\n",
       "      <td>386416</td>\n",
       "      <td>14167973</td>\n",
       "      <td>383502</td>\n",
       "      <td>69105</td>\n",
       "      <td>2914</td>\n",
       "      <td>2.7</td>\n",
       "      <td>South America</td>\n",
       "    </tr>\n",
       "    <tr>\n",
       "      <th>3</th>\n",
       "      <td>France</td>\n",
       "      <td>5502014</td>\n",
       "      <td>102655</td>\n",
       "      <td>5469674</td>\n",
       "      <td>102323</td>\n",
       "      <td>32340</td>\n",
       "      <td>332</td>\n",
       "      <td>1.9</td>\n",
       "      <td>Europe</td>\n",
       "    </tr>\n",
       "    <tr>\n",
       "      <th>4</th>\n",
       "      <td>Russia</td>\n",
       "      <td>4691290</td>\n",
       "      <td>105718</td>\n",
       "      <td>4682573</td>\n",
       "      <td>105328</td>\n",
       "      <td>8717</td>\n",
       "      <td>390</td>\n",
       "      <td>2.3</td>\n",
       "      <td>Europe</td>\n",
       "    </tr>\n",
       "  </tbody>\n",
       "</table>\n",
       "</div>"
      ],
      "text/plain": [
       "  Country/Region     Cases  Deaths    PCases  PDeaths  Cases (+)  Deaths (+)  \\\n",
       "0             US  31991750  571197  31929351   570345      62399         852   \n",
       "1          India  16610481  189544  16263695   186920     346786        2624   \n",
       "2         Brazil  14237078  386416  14167973   383502      69105        2914   \n",
       "3         France   5502014  102655   5469674   102323      32340         332   \n",
       "4         Russia   4691290  105718   4682573   105328       8717         390   \n",
       "\n",
       "   Fatality Rate      Continent  \n",
       "0            1.8  North America  \n",
       "1            1.1           Asia  \n",
       "2            2.7  South America  \n",
       "3            1.9         Europe  \n",
       "4            2.3         Europe  "
      ]
     },
     "execution_count": 15,
     "metadata": {},
     "output_type": "execute_result"
    }
   ],
   "source": [
    "#hide\n",
    "df_table = (pd.DataFrame(dict(Cases=dfc_cases, Deaths=dfc_deaths, PCases=dfp_cases, PDeaths=dfp_deaths))\n",
    "             .sort_values(by=['Cases', 'Deaths'], ascending=[False, False])\n",
    "             .reset_index())\n",
    "df_table.rename(columns={'index': 'Country/Region'}, inplace=True)\n",
    "for c in 'Cases, Deaths'.split(', '):\n",
    "    df_table[f'{c} (+)'] = (df_table[c] - df_table[f'P{c}']).clip(0)  # DATA BUG\n",
    "df_table['Fatality Rate'] = (100 * df_table['Deaths'] / df_table['Cases']).round(1)\n",
    "df_table['Continent'] = df_table['Country/Region'].map(mapping['map.continent'])\n",
    "df_table.head(5)"
   ]
  },
  {
   "cell_type": "code",
   "execution_count": 16,
   "id": "fewer-occasion",
   "metadata": {
    "execution": {
     "iopub.execute_input": "2021-04-24T12:04:45.766529Z",
     "iopub.status.busy": "2021-04-24T12:04:45.765878Z",
     "iopub.status.idle": "2021-04-24T12:04:45.767813Z",
     "shell.execute_reply": "2021-04-24T12:04:45.768338Z"
    },
    "papermill": {
     "duration": 0.047496,
     "end_time": "2021-04-24T12:04:45.768490",
     "exception": false,
     "start_time": "2021-04-24T12:04:45.720994",
     "status": "completed"
    },
    "tags": []
   },
   "outputs": [],
   "source": [
    "#hide\n",
    "#delete problematic countries from table\n",
    "df_table = df_table[~df_table['Country/Region'].isin(['Cape Verde', 'Cruise Ship', 'Kosovo'])]"
   ]
  },
  {
   "cell_type": "code",
   "execution_count": 17,
   "id": "related-center",
   "metadata": {
    "execution": {
     "iopub.execute_input": "2021-04-24T12:04:45.867538Z",
     "iopub.status.busy": "2021-04-24T12:04:45.866877Z",
     "iopub.status.idle": "2021-04-24T12:04:45.868807Z",
     "shell.execute_reply": "2021-04-24T12:04:45.869304Z"
    },
    "papermill": {
     "duration": 0.062683,
     "end_time": "2021-04-24T12:04:45.869455",
     "exception": false,
     "start_time": "2021-04-24T12:04:45.806772",
     "status": "completed"
    },
    "tags": []
   },
   "outputs": [],
   "source": [
    "#hide\n",
    "metrics = [df_table.columns[index] for index in [1,2,5,6]]\n",
    "# s_china = df_table[df_table['Country/Region'].eq('China')][metrics].sum().add_prefix('China ')\n",
    "s_us = df_table[df_table['Country/Region'].eq('US')][metrics].sum().add_prefix('US ')\n",
    "s_eu = df_table[df_table['Continent'].eq('Europe')][metrics].sum().add_prefix('EU ')\n",
    "s_ind = df_table[df_table['Country/Region'].eq('India')][metrics].sum().add_prefix('India ')\n",
    "summary = {'updated': pd.to_datetime(dt_today), 'since': pd.to_datetime(dt_yday)}\n",
    "summary = {'updated': pd.to_datetime(dt_today), 'since': pd.to_datetime(dt_yday)}\n",
    "summary = {**summary, **df_table[metrics].sum(), **s_ind, **s_us, **s_eu}"
   ]
  },
  {
   "cell_type": "code",
   "execution_count": 18,
   "id": "engaging-syndrome",
   "metadata": {
    "execution": {
     "iopub.execute_input": "2021-04-24T12:04:45.953687Z",
     "iopub.status.busy": "2021-04-24T12:04:45.953030Z",
     "iopub.status.idle": "2021-04-24T12:04:45.964428Z",
     "shell.execute_reply": "2021-04-24T12:04:45.964932Z"
    },
    "papermill": {
     "duration": 0.056922,
     "end_time": "2021-04-24T12:04:45.965090",
     "exception": false,
     "start_time": "2021-04-24T12:04:45.908168",
     "status": "completed"
    },
    "tags": []
   },
   "outputs": [],
   "source": [
    "#hide\n",
    "dft_ct_new_cases = dft_cases.groupby(COL_REGION)[dt_cols].sum().diff(axis=1).fillna(0).astype(int)"
   ]
  },
  {
   "cell_type": "code",
   "execution_count": 19,
   "id": "neutral-assignment",
   "metadata": {
    "execution": {
     "iopub.execute_input": "2021-04-24T12:04:46.050489Z",
     "iopub.status.busy": "2021-04-24T12:04:46.049845Z",
     "iopub.status.idle": "2021-04-24T12:04:46.051759Z",
     "shell.execute_reply": "2021-04-24T12:04:46.052290Z"
    },
    "papermill": {
     "duration": 0.048042,
     "end_time": "2021-04-24T12:04:46.052443",
     "exception": false,
     "start_time": "2021-04-24T12:04:46.004401",
     "status": "completed"
    },
    "tags": []
   },
   "outputs": [],
   "source": [
    "#hide\n",
    "everydaycases = dft_ct_new_cases.cumsum(axis=1)"
   ]
  },
  {
   "cell_type": "code",
   "execution_count": 20,
   "id": "parliamentary-calgary",
   "metadata": {
    "execution": {
     "iopub.execute_input": "2021-04-24T12:04:46.133876Z",
     "iopub.status.busy": "2021-04-24T12:04:46.133230Z",
     "iopub.status.idle": "2021-04-24T12:04:46.704760Z",
     "shell.execute_reply": "2021-04-24T12:04:46.704198Z"
    },
    "papermill": {
     "duration": 0.61414,
     "end_time": "2021-04-24T12:04:46.704908",
     "exception": false,
     "start_time": "2021-04-24T12:04:46.090768",
     "status": "completed"
    },
    "tags": []
   },
   "outputs": [],
   "source": [
    "#hide\n",
    "import pandas as pd\n",
    "import matplotlib.pyplot as plt\n",
    "import matplotlib.ticker as ticker\n",
    "import matplotlib.animation as animation\n",
    "from IPython.display import HTML"
   ]
  },
  {
   "cell_type": "code",
   "execution_count": 21,
   "id": "lasting-extraction",
   "metadata": {
    "execution": {
     "iopub.execute_input": "2021-04-24T12:04:46.787526Z",
     "iopub.status.busy": "2021-04-24T12:04:46.786881Z",
     "iopub.status.idle": "2021-04-24T12:04:46.792249Z",
     "shell.execute_reply": "2021-04-24T12:04:46.792865Z"
    },
    "papermill": {
     "duration": 0.049387,
     "end_time": "2021-04-24T12:04:46.793012",
     "exception": false,
     "start_time": "2021-04-24T12:04:46.743625",
     "status": "completed"
    },
    "tags": []
   },
   "outputs": [],
   "source": [
    "#hide\n",
    "t = everydaycases.stack()"
   ]
  },
  {
   "cell_type": "code",
   "execution_count": 22,
   "id": "premier-sleeve",
   "metadata": {
    "execution": {
     "iopub.execute_input": "2021-04-24T12:04:46.876643Z",
     "iopub.status.busy": "2021-04-24T12:04:46.875987Z",
     "iopub.status.idle": "2021-04-24T12:04:46.892417Z",
     "shell.execute_reply": "2021-04-24T12:04:46.892921Z"
    },
    "papermill": {
     "duration": 0.061593,
     "end_time": "2021-04-24T12:04:46.893087",
     "exception": false,
     "start_time": "2021-04-24T12:04:46.831494",
     "status": "completed"
    },
    "tags": []
   },
   "outputs": [],
   "source": [
    "#hide\n",
    "g = t.reset_index(['Country/Region'])"
   ]
  },
  {
   "cell_type": "code",
   "execution_count": 23,
   "id": "distributed-pittsburgh",
   "metadata": {
    "execution": {
     "iopub.execute_input": "2021-04-24T12:04:46.977286Z",
     "iopub.status.busy": "2021-04-24T12:04:46.976637Z",
     "iopub.status.idle": "2021-04-24T12:04:46.979134Z",
     "shell.execute_reply": "2021-04-24T12:04:46.978503Z"
    },
    "papermill": {
     "duration": 0.046862,
     "end_time": "2021-04-24T12:04:46.979265",
     "exception": false,
     "start_time": "2021-04-24T12:04:46.932403",
     "status": "completed"
    },
    "tags": []
   },
   "outputs": [],
   "source": [
    "#hide\n",
    "g.index.name = 'date'"
   ]
  },
  {
   "cell_type": "code",
   "execution_count": 24,
   "id": "naked-donor",
   "metadata": {
    "execution": {
     "iopub.execute_input": "2021-04-24T12:04:47.062368Z",
     "iopub.status.busy": "2021-04-24T12:04:47.061724Z",
     "iopub.status.idle": "2021-04-24T12:04:47.063733Z",
     "shell.execute_reply": "2021-04-24T12:04:47.064295Z"
    },
    "papermill": {
     "duration": 0.046211,
     "end_time": "2021-04-24T12:04:47.064437",
     "exception": false,
     "start_time": "2021-04-24T12:04:47.018226",
     "status": "completed"
    },
    "tags": []
   },
   "outputs": [],
   "source": [
    "# #hide\n",
    "# g = g.reset_index(['date'])"
   ]
  },
  {
   "cell_type": "code",
   "execution_count": 25,
   "id": "incomplete-mustang",
   "metadata": {
    "execution": {
     "iopub.execute_input": "2021-04-24T12:04:47.146635Z",
     "iopub.status.busy": "2021-04-24T12:04:47.145986Z",
     "iopub.status.idle": "2021-04-24T12:04:47.147884Z",
     "shell.execute_reply": "2021-04-24T12:04:47.148488Z"
    },
    "papermill": {
     "duration": 0.044129,
     "end_time": "2021-04-24T12:04:47.148631",
     "exception": false,
     "start_time": "2021-04-24T12:04:47.104502",
     "status": "completed"
    },
    "tags": []
   },
   "outputs": [],
   "source": [
    "#hide\n",
    "# g.head()"
   ]
  },
  {
   "cell_type": "code",
   "execution_count": 26,
   "id": "specific-kruger",
   "metadata": {
    "execution": {
     "iopub.execute_input": "2021-04-24T12:04:47.241375Z",
     "iopub.status.busy": "2021-04-24T12:04:47.240731Z",
     "iopub.status.idle": "2021-04-24T12:04:47.243409Z",
     "shell.execute_reply": "2021-04-24T12:04:47.242885Z"
    },
    "papermill": {
     "duration": 0.045294,
     "end_time": "2021-04-24T12:04:47.243541",
     "exception": false,
     "start_time": "2021-04-24T12:04:47.198247",
     "status": "completed"
    },
    "tags": []
   },
   "outputs": [],
   "source": [
    "#hide\n",
    "# g.columns = ['date','country','cases']"
   ]
  },
  {
   "cell_type": "code",
   "execution_count": 27,
   "id": "tender-conversion",
   "metadata": {
    "execution": {
     "iopub.execute_input": "2021-04-24T12:04:47.325464Z",
     "iopub.status.busy": "2021-04-24T12:04:47.324821Z",
     "iopub.status.idle": "2021-04-24T12:04:47.327417Z",
     "shell.execute_reply": "2021-04-24T12:04:47.326896Z"
    },
    "papermill": {
     "duration": 0.045006,
     "end_time": "2021-04-24T12:04:47.327548",
     "exception": false,
     "start_time": "2021-04-24T12:04:47.282542",
     "status": "completed"
    },
    "tags": []
   },
   "outputs": [],
   "source": [
    "#hide\n",
    "# g['continent'] = g.country"
   ]
  },
  {
   "cell_type": "code",
   "execution_count": 28,
   "id": "substantial-wilderness",
   "metadata": {
    "execution": {
     "iopub.execute_input": "2021-04-24T12:04:47.410040Z",
     "iopub.status.busy": "2021-04-24T12:04:47.409398Z",
     "iopub.status.idle": "2021-04-24T12:04:47.411981Z",
     "shell.execute_reply": "2021-04-24T12:04:47.411411Z"
    },
    "papermill": {
     "duration": 0.044889,
     "end_time": "2021-04-24T12:04:47.412109",
     "exception": false,
     "start_time": "2021-04-24T12:04:47.367220",
     "status": "completed"
    },
    "tags": []
   },
   "outputs": [],
   "source": [
    "#hide\n",
    "# cols = list(g.columns.values)"
   ]
  },
  {
   "cell_type": "code",
   "execution_count": 29,
   "id": "solved-farming",
   "metadata": {
    "execution": {
     "iopub.execute_input": "2021-04-24T12:04:47.493198Z",
     "iopub.status.busy": "2021-04-24T12:04:47.492560Z",
     "iopub.status.idle": "2021-04-24T12:04:47.495200Z",
     "shell.execute_reply": "2021-04-24T12:04:47.494433Z"
    },
    "papermill": {
     "duration": 0.044826,
     "end_time": "2021-04-24T12:04:47.495331",
     "exception": false,
     "start_time": "2021-04-24T12:04:47.450505",
     "status": "completed"
    },
    "tags": []
   },
   "outputs": [],
   "source": [
    "#hide\n",
    "# cols.insert(0, cols.pop())"
   ]
  },
  {
   "cell_type": "code",
   "execution_count": 30,
   "id": "executed-adoption",
   "metadata": {
    "execution": {
     "iopub.execute_input": "2021-04-24T12:04:47.574950Z",
     "iopub.status.busy": "2021-04-24T12:04:47.574322Z",
     "iopub.status.idle": "2021-04-24T12:04:47.577832Z",
     "shell.execute_reply": "2021-04-24T12:04:47.577279Z"
    },
    "papermill": {
     "duration": 0.044683,
     "end_time": "2021-04-24T12:04:47.577962",
     "exception": false,
     "start_time": "2021-04-24T12:04:47.533279",
     "status": "completed"
    },
    "tags": []
   },
   "outputs": [],
   "source": [
    "#hide\n",
    "# g = g[cols]"
   ]
  },
  {
   "cell_type": "code",
   "execution_count": 31,
   "id": "subject-dublin",
   "metadata": {
    "execution": {
     "iopub.execute_input": "2021-04-24T12:04:47.659100Z",
     "iopub.status.busy": "2021-04-24T12:04:47.658465Z",
     "iopub.status.idle": "2021-04-24T12:04:47.661044Z",
     "shell.execute_reply": "2021-04-24T12:04:47.660502Z"
    },
    "papermill": {
     "duration": 0.04487,
     "end_time": "2021-04-24T12:04:47.661168",
     "exception": false,
     "start_time": "2021-04-24T12:04:47.616298",
     "status": "completed"
    },
    "tags": []
   },
   "outputs": [],
   "source": [
    "#hide\n",
    "# g['continent'] = g['continent'].map(mapping['map.continent'])"
   ]
  },
  {
   "cell_type": "code",
   "execution_count": 32,
   "id": "freelance-scout",
   "metadata": {
    "execution": {
     "iopub.execute_input": "2021-04-24T12:04:47.745600Z",
     "iopub.status.busy": "2021-04-24T12:04:47.744957Z",
     "iopub.status.idle": "2021-04-24T12:04:47.747076Z",
     "shell.execute_reply": "2021-04-24T12:04:47.747681Z"
    },
    "papermill": {
     "duration": 0.044283,
     "end_time": "2021-04-24T12:04:47.747831",
     "exception": false,
     "start_time": "2021-04-24T12:04:47.703548",
     "status": "completed"
    },
    "tags": []
   },
   "outputs": [],
   "source": [
    "#hide\n",
    "# g.head()"
   ]
  },
  {
   "cell_type": "code",
   "execution_count": 33,
   "id": "limited-engine",
   "metadata": {
    "execution": {
     "iopub.execute_input": "2021-04-24T12:04:47.831128Z",
     "iopub.status.busy": "2021-04-24T12:04:47.830481Z",
     "iopub.status.idle": "2021-04-24T12:04:47.832981Z",
     "shell.execute_reply": "2021-04-24T12:04:47.832436Z"
    },
    "papermill": {
     "duration": 0.044524,
     "end_time": "2021-04-24T12:04:47.833112",
     "exception": false,
     "start_time": "2021-04-24T12:04:47.788588",
     "status": "completed"
    },
    "tags": []
   },
   "outputs": [],
   "source": [
    "# hide\n",
    "# g['date'] = g['date'].astype('datetime64[ns]')"
   ]
  },
  {
   "cell_type": "code",
   "execution_count": 34,
   "id": "sophisticated-supervisor",
   "metadata": {
    "execution": {
     "iopub.execute_input": "2021-04-24T12:04:47.919274Z",
     "iopub.status.busy": "2021-04-24T12:04:47.918459Z",
     "iopub.status.idle": "2021-04-24T12:04:47.920432Z",
     "shell.execute_reply": "2021-04-24T12:04:47.921148Z"
    },
    "papermill": {
     "duration": 0.047618,
     "end_time": "2021-04-24T12:04:47.921303",
     "exception": false,
     "start_time": "2021-04-24T12:04:47.873685",
     "status": "completed"
    },
    "tags": []
   },
   "outputs": [],
   "source": [
    "#hide\n",
    "# g['date'] = g.date.dt.dayofyear"
   ]
  },
  {
   "cell_type": "code",
   "execution_count": 35,
   "id": "inside-dubai",
   "metadata": {
    "execution": {
     "iopub.execute_input": "2021-04-24T12:04:48.007786Z",
     "iopub.status.busy": "2021-04-24T12:04:48.007096Z",
     "iopub.status.idle": "2021-04-24T12:04:48.009798Z",
     "shell.execute_reply": "2021-04-24T12:04:48.009256Z"
    },
    "papermill": {
     "duration": 0.04586,
     "end_time": "2021-04-24T12:04:48.009926",
     "exception": false,
     "start_time": "2021-04-24T12:04:47.964066",
     "status": "completed"
    },
    "tags": []
   },
   "outputs": [],
   "source": [
    "#hide\n",
    "# g = g.rename(columns= {'continent':'group','country':'name','cases':'value'})"
   ]
  },
  {
   "cell_type": "code",
   "execution_count": 36,
   "id": "fleet-motorcycle",
   "metadata": {
    "execution": {
     "iopub.execute_input": "2021-04-24T12:04:48.091736Z",
     "iopub.status.busy": "2021-04-24T12:04:48.091095Z",
     "iopub.status.idle": "2021-04-24T12:04:48.093515Z",
     "shell.execute_reply": "2021-04-24T12:04:48.092971Z"
    },
    "papermill": {
     "duration": 0.044606,
     "end_time": "2021-04-24T12:04:48.093642",
     "exception": false,
     "start_time": "2021-04-24T12:04:48.049036",
     "status": "completed"
    },
    "tags": []
   },
   "outputs": [],
   "source": [
    "#hide\n",
    "# cols = ['name','group','day','value']"
   ]
  },
  {
   "cell_type": "code",
   "execution_count": 37,
   "id": "continued-sleeping",
   "metadata": {
    "execution": {
     "iopub.execute_input": "2021-04-24T12:04:48.173176Z",
     "iopub.status.busy": "2021-04-24T12:04:48.172533Z",
     "iopub.status.idle": "2021-04-24T12:04:48.174564Z",
     "shell.execute_reply": "2021-04-24T12:04:48.175171Z"
    },
    "papermill": {
     "duration": 0.043168,
     "end_time": "2021-04-24T12:04:48.175308",
     "exception": false,
     "start_time": "2021-04-24T12:04:48.132140",
     "status": "completed"
    },
    "tags": []
   },
   "outputs": [],
   "source": [
    "#hide\n",
    "# g.rename(columns= {'date':'day'},inplace = True)"
   ]
  },
  {
   "cell_type": "code",
   "execution_count": 38,
   "id": "major-fight",
   "metadata": {
    "execution": {
     "iopub.execute_input": "2021-04-24T12:04:48.257262Z",
     "iopub.status.busy": "2021-04-24T12:04:48.256608Z",
     "iopub.status.idle": "2021-04-24T12:04:48.259060Z",
     "shell.execute_reply": "2021-04-24T12:04:48.258514Z"
    },
    "papermill": {
     "duration": 0.043915,
     "end_time": "2021-04-24T12:04:48.259188",
     "exception": false,
     "start_time": "2021-04-24T12:04:48.215273",
     "status": "completed"
    },
    "tags": []
   },
   "outputs": [],
   "source": [
    "#hide\n",
    "# g = g[cols]"
   ]
  },
  {
   "cell_type": "code",
   "execution_count": 39,
   "id": "structured-mobile",
   "metadata": {
    "execution": {
     "iopub.execute_input": "2021-04-24T12:04:48.343315Z",
     "iopub.status.busy": "2021-04-24T12:04:48.342531Z",
     "iopub.status.idle": "2021-04-24T12:04:48.345092Z",
     "shell.execute_reply": "2021-04-24T12:04:48.344546Z"
    },
    "papermill": {
     "duration": 0.04527,
     "end_time": "2021-04-24T12:04:48.345221",
     "exception": false,
     "start_time": "2021-04-24T12:04:48.299951",
     "status": "completed"
    },
    "tags": []
   },
   "outputs": [],
   "source": [
    "# #hide\n",
    "# g = g[g.group.notna()]"
   ]
  },
  {
   "cell_type": "code",
   "execution_count": 40,
   "id": "determined-closing",
   "metadata": {
    "execution": {
     "iopub.execute_input": "2021-04-24T12:04:48.430422Z",
     "iopub.status.busy": "2021-04-24T12:04:48.429771Z",
     "iopub.status.idle": "2021-04-24T12:04:48.431614Z",
     "shell.execute_reply": "2021-04-24T12:04:48.432166Z"
    },
    "papermill": {
     "duration": 0.047206,
     "end_time": "2021-04-24T12:04:48.432314",
     "exception": false,
     "start_time": "2021-04-24T12:04:48.385108",
     "status": "completed"
    },
    "tags": []
   },
   "outputs": [],
   "source": [
    "# #hide\n",
    "# colors = dict(zip(\n",
    "#     [\"Oceania\", \"Europe\", \"Asia\", \"South America\", \"Middle East\", \"North America\", \"Africa\"],\n",
    "#     [\"#adb0ff\", \"#ffb3ff\", \"#90d595\", \"#e48381\", \"#aafbff\", \"#f7bb5f\", \"#eafb50\"]\n",
    "# ))\n",
    "# group_lk = g.set_index('name')['group'].to_dict()"
   ]
  },
  {
   "cell_type": "code",
   "execution_count": null,
   "id": "gross-drinking",
   "metadata": {
    "papermill": {
     "duration": 0.039307,
     "end_time": "2021-04-24T12:04:48.509857",
     "exception": false,
     "start_time": "2021-04-24T12:04:48.470550",
     "status": "completed"
    },
    "tags": []
   },
   "outputs": [],
   "source": []
  },
  {
   "cell_type": "code",
   "execution_count": 41,
   "id": "subject-macintosh",
   "metadata": {
    "execution": {
     "iopub.execute_input": "2021-04-24T12:04:48.592152Z",
     "iopub.status.busy": "2021-04-24T12:04:48.591466Z",
     "iopub.status.idle": "2021-04-24T12:04:48.593412Z",
     "shell.execute_reply": "2021-04-24T12:04:48.593967Z"
    },
    "papermill": {
     "duration": 0.045851,
     "end_time": "2021-04-24T12:04:48.594113",
     "exception": false,
     "start_time": "2021-04-24T12:04:48.548262",
     "status": "completed"
    },
    "tags": []
   },
   "outputs": [],
   "source": [
    "# #hide\n",
    "# fig, ax = plt.subplots(figsize=(15, 8))\n",
    "\n",
    "# def draw_barchart(current_day):\n",
    "#     dff = g[g['day'].eq(current_day)].sort_values(by='value', ascending=True).tail(10)\n",
    "#     ax.clear()\n",
    "#     ax.barh(dff['name'], dff['value'], color=[colors[group_lk[x]] for x in dff['name']])\n",
    "#     dx = dff['value'].max() / 200\n",
    "    \n",
    "#     for i, (value, name) in enumerate(zip(dff['value'], dff['name'])):\n",
    "#         ax.text(value-dx, i,     name,           size=14, weight=600, ha='right', va='bottom')\n",
    "#         ax.text(value-dx, i-.25, group_lk[name], size=10, color='#444444', ha='right', va='baseline')\n",
    "#         ax.text(value+dx, i,     f'{value:,.0f}',  size=14, ha='left',  va='center')\n",
    "#     ax.text(1, 0.4, current_day, transform=ax.transAxes, color='#777777', size=46, ha='right', weight=800)\n",
    "#     ax.text(0, 1.06, 'Population (thousands)', transform=ax.transAxes, size=12, color='#777777')\n",
    "#     ax.xaxis.set_major_formatter(ticker.StrMethodFormatter('{x:,.0f}'))\n",
    "#     ax.xaxis.set_ticks_position('top')\n",
    "#     ax.tick_params(axis='x', colors='#777777', labelsize=12)\n",
    "#     ax.set_yticks([])\n",
    "#     ax.margins(0, 0.01)\n",
    "#     ax.grid(which='major', axis='x', linestyle='-')\n",
    "#     ax.set_axisbelow(True)\n",
    "    \n",
    "#     ax.text(0, 1.15, 'Coronavirus',\n",
    "#             transform=ax.transAxes, size=24, weight=600, ha='left', va='top')\n",
    "# #     ax.text(1, 0, 'by @pratapvardhan; credit @jburnmurdoch', transform=ax.transAxes, color='#777777', ha='right',\n",
    "# #             bbox=dict(facecolor='white', alpha=0.8, edgecolor='white'))\n",
    "#     plt.box(False)"
   ]
  },
  {
   "cell_type": "code",
   "execution_count": 42,
   "id": "sexual-wages",
   "metadata": {
    "execution": {
     "iopub.execute_input": "2021-04-24T12:04:48.675041Z",
     "iopub.status.busy": "2021-04-24T12:04:48.674402Z",
     "iopub.status.idle": "2021-04-24T12:04:48.676449Z",
     "shell.execute_reply": "2021-04-24T12:04:48.677074Z"
    },
    "papermill": {
     "duration": 0.044232,
     "end_time": "2021-04-24T12:04:48.677213",
     "exception": false,
     "start_time": "2021-04-24T12:04:48.632981",
     "status": "completed"
    },
    "tags": []
   },
   "outputs": [],
   "source": [
    "# #hide_input\n",
    "# fig, ax = plt.subplots(figsize=(15, 8))\n",
    "# animator = animation.FuncAnimation(fig, draw_barchart, frames=range(g.day.values.min(), g.day.values.max()))\n",
    "# HTML(animator.to_jshtml())\n",
    "# # or use animator.to_html5_video() or animator.save() "
   ]
  },
  {
   "cell_type": "code",
   "execution_count": null,
   "id": "australian-container",
   "metadata": {
    "papermill": {
     "duration": 0.039543,
     "end_time": "2021-04-24T12:04:48.756304",
     "exception": false,
     "start_time": "2021-04-24T12:04:48.716761",
     "status": "completed"
    },
    "tags": []
   },
   "outputs": [],
   "source": []
  },
  {
   "cell_type": "code",
   "execution_count": null,
   "id": "mediterranean-pontiac",
   "metadata": {
    "papermill": {
     "duration": 0.03839,
     "end_time": "2021-04-24T12:04:48.834035",
     "exception": false,
     "start_time": "2021-04-24T12:04:48.795645",
     "status": "completed"
    },
    "tags": []
   },
   "outputs": [],
   "source": []
  },
  {
   "cell_type": "code",
   "execution_count": null,
   "id": "aging-legislature",
   "metadata": {
    "papermill": {
     "duration": 0.041332,
     "end_time": "2021-04-24T12:04:48.915741",
     "exception": false,
     "start_time": "2021-04-24T12:04:48.874409",
     "status": "completed"
    },
    "tags": []
   },
   "outputs": [],
   "source": []
  }
 ],
 "metadata": {
  "kernelspec": {
   "display_name": "Python 3",
   "language": "python",
   "name": "python3"
  },
  "language_info": {
   "codemirror_mode": {
    "name": "ipython",
    "version": 3
   },
   "file_extension": ".py",
   "mimetype": "text/x-python",
   "name": "python",
   "nbconvert_exporter": "python",
   "pygments_lexer": "ipython3",
   "version": "3.6.13"
  },
  "papermill": {
   "duration": 6.951729,
   "end_time": "2021-04-24T12:04:49.265240",
   "environment_variables": {},
   "exception": null,
   "input_path": "2020-03-21-covid19exp.ipynb",
   "output_path": "2020-03-21-covid19exp.ipynb",
   "parameters": {},
   "start_time": "2021-04-24T12:04:42.313511",
   "version": "2.0.0"
  }
 },
 "nbformat": 4,
 "nbformat_minor": 5
}