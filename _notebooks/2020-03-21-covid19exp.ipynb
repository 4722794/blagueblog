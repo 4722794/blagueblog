{
 "cells": [
  {
   "cell_type": "markdown",
   "id": "muslim-click",
   "metadata": {
    "papermill": {
     "duration": 0.050859,
     "end_time": "2022-11-02T00:55:21.767602",
     "exception": false,
     "start_time": "2022-11-02T00:55:21.716743",
     "status": "completed"
    },
    "tags": []
   },
   "source": [
    "# COVID-19 Case Race\n",
    "> A race chart to see rising cases around the world\n",
    "\n",
    "- author: Hargun Oberoi\n",
    "- image: images/covid-overview.png\n",
    "- hide: false\n",
    "- badges: false"
   ]
  },
  {
   "cell_type": "code",
   "execution_count": 1,
   "id": "proof-material",
   "metadata": {
    "execution": {
     "iopub.execute_input": "2022-11-02T00:55:21.867393Z",
     "iopub.status.busy": "2022-11-02T00:55:21.864575Z",
     "iopub.status.idle": "2022-11-02T00:55:22.302067Z",
     "shell.execute_reply": "2022-11-02T00:55:22.300981Z"
    },
    "papermill": {
     "duration": 0.492303,
     "end_time": "2022-11-02T00:55:22.302250",
     "exception": false,
     "start_time": "2022-11-02T00:55:21.809947",
     "status": "completed"
    },
    "tags": []
   },
   "outputs": [],
   "source": [
    "#hide\n",
    "import numpy as np\n",
    "import pandas as pd\n",
    "from jinja2 import Template\n",
    "from IPython.display import HTML"
   ]
  },
  {
   "cell_type": "code",
   "execution_count": 2,
   "id": "developed-terminology",
   "metadata": {
    "execution": {
     "iopub.execute_input": "2022-11-02T00:55:22.387428Z",
     "iopub.status.busy": "2022-11-02T00:55:22.386387Z",
     "iopub.status.idle": "2022-11-02T00:55:22.389208Z",
     "shell.execute_reply": "2022-11-02T00:55:22.388346Z"
    },
    "papermill": {
     "duration": 0.049023,
     "end_time": "2022-11-02T00:55:22.389391",
     "exception": false,
     "start_time": "2022-11-02T00:55:22.340368",
     "status": "completed"
    },
    "tags": []
   },
   "outputs": [],
   "source": [
    "#hide\n",
    "\n",
    "# FETCH\n",
    "base_url = 'https://raw.githubusercontent.com/pratapvardhan/notebooks/master/covid19/'\n",
    "paths = {\n",
    "    'mapping': base_url + 'mapping_countries.csv',\n",
    "    'overview': base_url + 'overview.tpl'\n",
    "}"
   ]
  },
  {
   "cell_type": "code",
   "execution_count": 3,
   "id": "dynamic-saver",
   "metadata": {
    "execution": {
     "iopub.execute_input": "2022-11-02T00:55:22.481374Z",
     "iopub.status.busy": "2022-11-02T00:55:22.480399Z",
     "iopub.status.idle": "2022-11-02T00:55:22.484865Z",
     "shell.execute_reply": "2022-11-02T00:55:22.484044Z"
    },
    "papermill": {
     "duration": 0.056778,
     "end_time": "2022-11-02T00:55:22.485047",
     "exception": false,
     "start_time": "2022-11-02T00:55:22.428269",
     "status": "completed"
    },
    "tags": []
   },
   "outputs": [
    {
     "data": {
      "text/plain": [
       "'https://raw.githubusercontent.com/pratapvardhan/notebooks/master/covid19/mapping_countries.csv'"
      ]
     },
     "execution_count": 3,
     "metadata": {},
     "output_type": "execute_result"
    }
   ],
   "source": [
    "#hide\n",
    "paths['mapping']"
   ]
  },
  {
   "cell_type": "code",
   "execution_count": 4,
   "id": "urban-software",
   "metadata": {
    "execution": {
     "iopub.execute_input": "2022-11-02T00:55:22.578076Z",
     "iopub.status.busy": "2022-11-02T00:55:22.577230Z",
     "iopub.status.idle": "2022-11-02T00:55:22.580144Z",
     "shell.execute_reply": "2022-11-02T00:55:22.580656Z"
    },
    "papermill": {
     "duration": 0.054874,
     "end_time": "2022-11-02T00:55:22.580806",
     "exception": false,
     "start_time": "2022-11-02T00:55:22.525932",
     "status": "completed"
    },
    "tags": []
   },
   "outputs": [],
   "source": [
    "#hide\n",
    "def get_mappings(url):\n",
    "    df = pd.read_csv(url)\n",
    "    return {\n",
    "        'df': df,\n",
    "        'replace.country': dict(df.dropna(subset=['Name']).set_index('Country')['Name']),\n",
    "        'map.continent': dict(df.set_index('Name')['Continent'])\n",
    "    }"
   ]
  },
  {
   "cell_type": "code",
   "execution_count": 5,
   "id": "intimate-machinery",
   "metadata": {
    "execution": {
     "iopub.execute_input": "2022-11-02T00:55:22.671630Z",
     "iopub.status.busy": "2022-11-02T00:55:22.670828Z",
     "iopub.status.idle": "2022-11-02T00:55:22.702519Z",
     "shell.execute_reply": "2022-11-02T00:55:22.701904Z"
    },
    "papermill": {
     "duration": 0.082231,
     "end_time": "2022-11-02T00:55:22.702664",
     "exception": false,
     "start_time": "2022-11-02T00:55:22.620433",
     "status": "completed"
    },
    "tags": []
   },
   "outputs": [],
   "source": [
    "#hide\n",
    "mapping = get_mappings(paths['mapping'])"
   ]
  },
  {
   "cell_type": "code",
   "execution_count": 6,
   "id": "certified-tactics",
   "metadata": {
    "execution": {
     "iopub.execute_input": "2022-11-02T00:55:22.795891Z",
     "iopub.status.busy": "2022-11-02T00:55:22.795140Z",
     "iopub.status.idle": "2022-11-02T00:55:22.798291Z",
     "shell.execute_reply": "2022-11-02T00:55:22.797552Z"
    },
    "papermill": {
     "duration": 0.049546,
     "end_time": "2022-11-02T00:55:22.798423",
     "exception": false,
     "start_time": "2022-11-02T00:55:22.748877",
     "status": "completed"
    },
    "tags": []
   },
   "outputs": [],
   "source": [
    "#hide\n",
    "def get_template(path):\n",
    "    from urllib.parse import urlparse\n",
    "    if bool(urlparse(path).netloc):\n",
    "        from urllib.request import urlopen\n",
    "        return urlopen(path).read().decode('utf8')\n",
    "    return open(path).read()"
   ]
  },
  {
   "cell_type": "code",
   "execution_count": 7,
   "id": "realistic-blast",
   "metadata": {
    "execution": {
     "iopub.execute_input": "2022-11-02T00:55:22.887370Z",
     "iopub.status.busy": "2022-11-02T00:55:22.886590Z",
     "iopub.status.idle": "2022-11-02T00:55:22.889433Z",
     "shell.execute_reply": "2022-11-02T00:55:22.889976Z"
    },
    "papermill": {
     "duration": 0.049706,
     "end_time": "2022-11-02T00:55:22.890128",
     "exception": false,
     "start_time": "2022-11-02T00:55:22.840422",
     "status": "completed"
    },
    "tags": []
   },
   "outputs": [],
   "source": [
    "#hide\n",
    "def get_frame(name):\n",
    "    url = (\n",
    "        'https://raw.githubusercontent.com/CSSEGISandData/COVID-19/master/csse_covid_19_data/'\n",
    "        f'csse_covid_19_time_series/time_series_covid19_{name}_global.csv')\n",
    "    df = pd.read_csv(url)\n",
    "    # rename countries\n",
    "    df['Country/Region'] = df['Country/Region'].replace(mapping['replace.country'])\n",
    "    return df"
   ]
  },
  {
   "cell_type": "code",
   "execution_count": 8,
   "id": "affiliated-characterization",
   "metadata": {
    "execution": {
     "iopub.execute_input": "2022-11-02T00:55:22.972822Z",
     "iopub.status.busy": "2022-11-02T00:55:22.971850Z",
     "iopub.status.idle": "2022-11-02T00:55:22.974436Z",
     "shell.execute_reply": "2022-11-02T00:55:22.975049Z"
    },
    "papermill": {
     "duration": 0.047733,
     "end_time": "2022-11-02T00:55:22.975216",
     "exception": false,
     "start_time": "2022-11-02T00:55:22.927483",
     "status": "completed"
    },
    "tags": []
   },
   "outputs": [],
   "source": [
    "#hide\n",
    "def get_dates(df):\n",
    "    dt_cols = df.columns[~df.columns.isin(['Province/State', 'Country/Region', 'Lat', 'Long'])]\n",
    "    LAST_DATE_I = -1\n",
    "    # sometimes last column may be empty, then go backwards\n",
    "    for i in range(-1, -len(dt_cols), -1):\n",
    "        if not df[dt_cols[i]].fillna(0).eq(0).all():\n",
    "            LAST_DATE_I = i\n",
    "            break\n",
    "    return LAST_DATE_I, dt_cols"
   ]
  },
  {
   "cell_type": "code",
   "execution_count": 9,
   "id": "recent-optimization",
   "metadata": {
    "execution": {
     "iopub.execute_input": "2022-11-02T00:55:23.067849Z",
     "iopub.status.busy": "2022-11-02T00:55:23.067015Z",
     "iopub.status.idle": "2022-11-02T00:55:23.579733Z",
     "shell.execute_reply": "2022-11-02T00:55:23.579060Z"
    },
    "papermill": {
     "duration": 0.565364,
     "end_time": "2022-11-02T00:55:23.579884",
     "exception": false,
     "start_time": "2022-11-02T00:55:23.014520",
     "status": "completed"
    },
    "tags": []
   },
   "outputs": [],
   "source": [
    "#hide\n",
    "COL_REGION = 'Country/Region'\n",
    "# Confirmed, Recovered, Deaths\n",
    "df = get_frame('confirmed')\n",
    "# dft_: timeseries, dfc_: today country agg\n",
    "dft_cases = df\n",
    "dft_deaths = get_frame('deaths')\n",
    "dft_recovered = get_frame('recovered')\n",
    "LAST_DATE_I, dt_cols = get_dates(df)"
   ]
  },
  {
   "cell_type": "code",
   "execution_count": 10,
   "id": "absolute-copper",
   "metadata": {
    "execution": {
     "iopub.execute_input": "2022-11-02T00:55:23.663295Z",
     "iopub.status.busy": "2022-11-02T00:55:23.662363Z",
     "iopub.status.idle": "2022-11-02T00:55:23.665038Z",
     "shell.execute_reply": "2022-11-02T00:55:23.665666Z"
    },
    "papermill": {
     "duration": 0.048608,
     "end_time": "2022-11-02T00:55:23.665811",
     "exception": false,
     "start_time": "2022-11-02T00:55:23.617203",
     "status": "completed"
    },
    "tags": []
   },
   "outputs": [],
   "source": [
    "#hide\n",
    "LAST_DATE_I, dt_cols = get_dates(df)\n",
    "dt_today =dt_cols[LAST_DATE_I]\n",
    "# dt_5day = dt_cols[LAST_DATE_I - 5]\n",
    "dt_yday = dt_cols[LAST_DATE_I - 1]"
   ]
  },
  {
   "cell_type": "code",
   "execution_count": 11,
   "id": "restricted-sheriff",
   "metadata": {
    "execution": {
     "iopub.execute_input": "2022-11-02T00:55:23.758181Z",
     "iopub.status.busy": "2022-11-02T00:55:23.756886Z",
     "iopub.status.idle": "2022-11-02T00:55:23.760135Z",
     "shell.execute_reply": "2022-11-02T00:55:23.760888Z"
    },
    "papermill": {
     "duration": 0.058531,
     "end_time": "2022-11-02T00:55:23.761218",
     "exception": false,
     "start_time": "2022-11-02T00:55:23.702687",
     "status": "completed"
    },
    "tags": []
   },
   "outputs": [],
   "source": [
    "#hide\n",
    "dfc_cases = dft_cases.groupby(COL_REGION)[dt_today].sum()\n",
    "dfc_deaths = dft_deaths.groupby(COL_REGION)[dt_today].sum()\n",
    "# dfp_cases = dft_cases.groupby(COL_REGION)[dt_5day].sum()\n",
    "# dfp_deaths = dft_deaths.groupby(COL_REGION)[dt_5day].sum()\n",
    "dfp_cases = dft_cases.groupby(COL_REGION)[dt_yday].sum()\n",
    "dfp_deaths = dft_deaths.groupby(COL_REGION)[dt_yday].sum()"
   ]
  },
  {
   "cell_type": "code",
   "execution_count": 12,
   "id": "deluxe-hepatitis",
   "metadata": {
    "execution": {
     "iopub.execute_input": "2022-11-02T00:55:23.842973Z",
     "iopub.status.busy": "2022-11-02T00:55:23.842298Z",
     "iopub.status.idle": "2022-11-02T00:55:23.848082Z",
     "shell.execute_reply": "2022-11-02T00:55:23.848808Z"
    },
    "papermill": {
     "duration": 0.050488,
     "end_time": "2022-11-02T00:55:23.848949",
     "exception": false,
     "start_time": "2022-11-02T00:55:23.798461",
     "status": "completed"
    },
    "tags": []
   },
   "outputs": [],
   "source": [
    "#hide\n",
    "df_table = (pd.DataFrame(dict(Cases = dfc_cases, Deaths = dfc_deaths, PCases = dfp_cases, PDeaths = dfp_deaths))\n",
    "            .sort_values(by = ['Cases','Deaths'], ascending = [False, False])\n",
    "            .reset_index())"
   ]
  },
  {
   "cell_type": "code",
   "execution_count": 13,
   "id": "educational-chancellor",
   "metadata": {
    "execution": {
     "iopub.execute_input": "2022-11-02T00:55:23.948720Z",
     "iopub.status.busy": "2022-11-02T00:55:23.947825Z",
     "iopub.status.idle": "2022-11-02T00:55:23.964955Z",
     "shell.execute_reply": "2022-11-02T00:55:23.965584Z"
    },
    "papermill": {
     "duration": 0.075465,
     "end_time": "2022-11-02T00:55:23.965792",
     "exception": false,
     "start_time": "2022-11-02T00:55:23.890327",
     "status": "completed"
    },
    "tags": []
   },
   "outputs": [
    {
     "data": {
      "text/html": [
       "<div>\n",
       "<style scoped>\n",
       "    .dataframe tbody tr th:only-of-type {\n",
       "        vertical-align: middle;\n",
       "    }\n",
       "\n",
       "    .dataframe tbody tr th {\n",
       "        vertical-align: top;\n",
       "    }\n",
       "\n",
       "    .dataframe thead th {\n",
       "        text-align: right;\n",
       "    }\n",
       "</style>\n",
       "<table border=\"1\" class=\"dataframe\">\n",
       "  <thead>\n",
       "    <tr style=\"text-align: right;\">\n",
       "      <th></th>\n",
       "      <th>Country/Region</th>\n",
       "      <th>Cases</th>\n",
       "      <th>Deaths</th>\n",
       "      <th>PCases</th>\n",
       "      <th>PDeaths</th>\n",
       "      <th>Cases (+)</th>\n",
       "      <th>Deaths (+)</th>\n",
       "      <th>Fatality Rate</th>\n",
       "      <th>Continent</th>\n",
       "    </tr>\n",
       "  </thead>\n",
       "  <tbody>\n",
       "    <tr>\n",
       "      <th>0</th>\n",
       "      <td>US</td>\n",
       "      <td>97495076</td>\n",
       "      <td>1070389</td>\n",
       "      <td>97450639</td>\n",
       "      <td>1070266</td>\n",
       "      <td>44437</td>\n",
       "      <td>123</td>\n",
       "      <td>1.10</td>\n",
       "      <td>North America</td>\n",
       "    </tr>\n",
       "    <tr>\n",
       "      <th>1</th>\n",
       "      <td>India</td>\n",
       "      <td>44654638</td>\n",
       "      <td>529077</td>\n",
       "      <td>44653592</td>\n",
       "      <td>529024</td>\n",
       "      <td>1046</td>\n",
       "      <td>53</td>\n",
       "      <td>1.18</td>\n",
       "      <td>Asia</td>\n",
       "    </tr>\n",
       "    <tr>\n",
       "      <th>2</th>\n",
       "      <td>France</td>\n",
       "      <td>37033519</td>\n",
       "      <td>158034</td>\n",
       "      <td>36990572</td>\n",
       "      <td>157872</td>\n",
       "      <td>42947</td>\n",
       "      <td>162</td>\n",
       "      <td>0.43</td>\n",
       "      <td>Europe</td>\n",
       "    </tr>\n",
       "    <tr>\n",
       "      <th>3</th>\n",
       "      <td>Germany</td>\n",
       "      <td>35619687</td>\n",
       "      <td>153694</td>\n",
       "      <td>35571131</td>\n",
       "      <td>153544</td>\n",
       "      <td>48556</td>\n",
       "      <td>150</td>\n",
       "      <td>0.43</td>\n",
       "      <td>Europe</td>\n",
       "    </tr>\n",
       "    <tr>\n",
       "      <th>4</th>\n",
       "      <td>Brazil</td>\n",
       "      <td>34828749</td>\n",
       "      <td>688157</td>\n",
       "      <td>34815258</td>\n",
       "      <td>687962</td>\n",
       "      <td>13491</td>\n",
       "      <td>195</td>\n",
       "      <td>1.98</td>\n",
       "      <td>South America</td>\n",
       "    </tr>\n",
       "  </tbody>\n",
       "</table>\n",
       "</div>"
      ],
      "text/plain": [
       "  Country/Region     Cases   Deaths    PCases  PDeaths  Cases (+)  Deaths (+)  \\\n",
       "0             US  97495076  1070389  97450639  1070266      44437         123   \n",
       "1          India  44654638   529077  44653592   529024       1046          53   \n",
       "2         France  37033519   158034  36990572   157872      42947         162   \n",
       "3        Germany  35619687   153694  35571131   153544      48556         150   \n",
       "4         Brazil  34828749   688157  34815258   687962      13491         195   \n",
       "\n",
       "   Fatality Rate      Continent  \n",
       "0           1.10  North America  \n",
       "1           1.18           Asia  \n",
       "2           0.43         Europe  \n",
       "3           0.43         Europe  \n",
       "4           1.98  South America  "
      ]
     },
     "execution_count": 13,
     "metadata": {},
     "output_type": "execute_result"
    }
   ],
   "source": [
    "#hide\n",
    "for c in 'Cases, Deaths'.split(', '):\n",
    "    df_table[f'{c} (+)'] = (df_table[c] - df_table[f'P{c}']).clip(0)\n",
    "    #Clip ça veut dire, les chiffres negatif sont interdit\n",
    "df_table['Fatality Rate'] = (100* df_table['Deaths']/ df_table['Cases']).round(2)\n",
    "df_table['Continent'] = df_table['Country/Region'].map(mapping['map.continent'])\n",
    "df_table.head(5)"
   ]
  },
  {
   "cell_type": "code",
   "execution_count": 14,
   "id": "aboriginal-bulgaria",
   "metadata": {
    "execution": {
     "iopub.execute_input": "2022-11-02T00:55:24.055125Z",
     "iopub.status.busy": "2022-11-02T00:55:24.054418Z",
     "iopub.status.idle": "2022-11-02T00:55:24.057969Z",
     "shell.execute_reply": "2022-11-02T00:55:24.058817Z"
    },
    "papermill": {
     "duration": 0.052684,
     "end_time": "2022-11-02T00:55:24.058989",
     "exception": false,
     "start_time": "2022-11-02T00:55:24.006305",
     "status": "completed"
    },
    "tags": []
   },
   "outputs": [],
   "source": [
    "#hide\n",
    "#delete problematic countries from table\n",
    "df_table = df_table[~df_table['Country/Region'].isin(['Cape Verde', 'Cruise Ship', 'Kosovo'])]"
   ]
  },
  {
   "cell_type": "code",
   "execution_count": 15,
   "id": "fantastic-effect",
   "metadata": {
    "execution": {
     "iopub.execute_input": "2022-11-02T00:55:24.150313Z",
     "iopub.status.busy": "2022-11-02T00:55:24.149543Z",
     "iopub.status.idle": "2022-11-02T00:55:24.176581Z",
     "shell.execute_reply": "2022-11-02T00:55:24.175951Z"
    },
    "papermill": {
     "duration": 0.076557,
     "end_time": "2022-11-02T00:55:24.176720",
     "exception": false,
     "start_time": "2022-11-02T00:55:24.100163",
     "status": "completed"
    },
    "tags": []
   },
   "outputs": [
    {
     "data": {
      "text/html": [
       "<div>\n",
       "<style scoped>\n",
       "    .dataframe tbody tr th:only-of-type {\n",
       "        vertical-align: middle;\n",
       "    }\n",
       "\n",
       "    .dataframe tbody tr th {\n",
       "        vertical-align: top;\n",
       "    }\n",
       "\n",
       "    .dataframe thead th {\n",
       "        text-align: right;\n",
       "    }\n",
       "</style>\n",
       "<table border=\"1\" class=\"dataframe\">\n",
       "  <thead>\n",
       "    <tr style=\"text-align: right;\">\n",
       "      <th></th>\n",
       "      <th>Country/Region</th>\n",
       "      <th>Cases</th>\n",
       "      <th>Deaths</th>\n",
       "      <th>PCases</th>\n",
       "      <th>PDeaths</th>\n",
       "      <th>Cases (+)</th>\n",
       "      <th>Deaths (+)</th>\n",
       "      <th>Fatality Rate</th>\n",
       "      <th>Continent</th>\n",
       "    </tr>\n",
       "  </thead>\n",
       "  <tbody>\n",
       "    <tr>\n",
       "      <th>0</th>\n",
       "      <td>US</td>\n",
       "      <td>97495076</td>\n",
       "      <td>1070389</td>\n",
       "      <td>97450639</td>\n",
       "      <td>1070266</td>\n",
       "      <td>44437</td>\n",
       "      <td>123</td>\n",
       "      <td>1.1</td>\n",
       "      <td>North America</td>\n",
       "    </tr>\n",
       "    <tr>\n",
       "      <th>1</th>\n",
       "      <td>India</td>\n",
       "      <td>44654638</td>\n",
       "      <td>529077</td>\n",
       "      <td>44653592</td>\n",
       "      <td>529024</td>\n",
       "      <td>1046</td>\n",
       "      <td>53</td>\n",
       "      <td>1.2</td>\n",
       "      <td>Asia</td>\n",
       "    </tr>\n",
       "    <tr>\n",
       "      <th>2</th>\n",
       "      <td>France</td>\n",
       "      <td>37033519</td>\n",
       "      <td>158034</td>\n",
       "      <td>36990572</td>\n",
       "      <td>157872</td>\n",
       "      <td>42947</td>\n",
       "      <td>162</td>\n",
       "      <td>0.4</td>\n",
       "      <td>Europe</td>\n",
       "    </tr>\n",
       "    <tr>\n",
       "      <th>3</th>\n",
       "      <td>Germany</td>\n",
       "      <td>35619687</td>\n",
       "      <td>153694</td>\n",
       "      <td>35571131</td>\n",
       "      <td>153544</td>\n",
       "      <td>48556</td>\n",
       "      <td>150</td>\n",
       "      <td>0.4</td>\n",
       "      <td>Europe</td>\n",
       "    </tr>\n",
       "    <tr>\n",
       "      <th>4</th>\n",
       "      <td>Brazil</td>\n",
       "      <td>34828749</td>\n",
       "      <td>688157</td>\n",
       "      <td>34815258</td>\n",
       "      <td>687962</td>\n",
       "      <td>13491</td>\n",
       "      <td>195</td>\n",
       "      <td>2.0</td>\n",
       "      <td>South America</td>\n",
       "    </tr>\n",
       "  </tbody>\n",
       "</table>\n",
       "</div>"
      ],
      "text/plain": [
       "  Country/Region     Cases   Deaths    PCases  PDeaths  Cases (+)  Deaths (+)  \\\n",
       "0             US  97495076  1070389  97450639  1070266      44437         123   \n",
       "1          India  44654638   529077  44653592   529024       1046          53   \n",
       "2         France  37033519   158034  36990572   157872      42947         162   \n",
       "3        Germany  35619687   153694  35571131   153544      48556         150   \n",
       "4         Brazil  34828749   688157  34815258   687962      13491         195   \n",
       "\n",
       "   Fatality Rate      Continent  \n",
       "0            1.1  North America  \n",
       "1            1.2           Asia  \n",
       "2            0.4         Europe  \n",
       "3            0.4         Europe  \n",
       "4            2.0  South America  "
      ]
     },
     "execution_count": 15,
     "metadata": {},
     "output_type": "execute_result"
    }
   ],
   "source": [
    "#hide\n",
    "df_table = (pd.DataFrame(dict(Cases=dfc_cases, Deaths=dfc_deaths, PCases=dfp_cases, PDeaths=dfp_deaths))\n",
    "             .sort_values(by=['Cases', 'Deaths'], ascending=[False, False])\n",
    "             .reset_index())\n",
    "df_table.rename(columns={'index': 'Country/Region'}, inplace=True)\n",
    "for c in 'Cases, Deaths'.split(', '):\n",
    "    df_table[f'{c} (+)'] = (df_table[c] - df_table[f'P{c}']).clip(0)  # DATA BUG\n",
    "df_table['Fatality Rate'] = (100 * df_table['Deaths'] / df_table['Cases']).round(1)\n",
    "df_table['Continent'] = df_table['Country/Region'].map(mapping['map.continent'])\n",
    "df_table.head(5)"
   ]
  },
  {
   "cell_type": "code",
   "execution_count": 16,
   "id": "fewer-occasion",
   "metadata": {
    "execution": {
     "iopub.execute_input": "2022-11-02T00:55:24.265766Z",
     "iopub.status.busy": "2022-11-02T00:55:24.264958Z",
     "iopub.status.idle": "2022-11-02T00:55:24.268011Z",
     "shell.execute_reply": "2022-11-02T00:55:24.267434Z"
    },
    "papermill": {
     "duration": 0.050082,
     "end_time": "2022-11-02T00:55:24.268144",
     "exception": false,
     "start_time": "2022-11-02T00:55:24.218062",
     "status": "completed"
    },
    "tags": []
   },
   "outputs": [],
   "source": [
    "#hide\n",
    "#delete problematic countries from table\n",
    "df_table = df_table[~df_table['Country/Region'].isin(['Cape Verde', 'Cruise Ship', 'Kosovo'])]"
   ]
  },
  {
   "cell_type": "code",
   "execution_count": 17,
   "id": "related-center",
   "metadata": {
    "execution": {
     "iopub.execute_input": "2022-11-02T00:55:24.372906Z",
     "iopub.status.busy": "2022-11-02T00:55:24.371917Z",
     "iopub.status.idle": "2022-11-02T00:55:24.374184Z",
     "shell.execute_reply": "2022-11-02T00:55:24.374694Z"
    },
    "papermill": {
     "duration": 0.065381,
     "end_time": "2022-11-02T00:55:24.374842",
     "exception": false,
     "start_time": "2022-11-02T00:55:24.309461",
     "status": "completed"
    },
    "tags": []
   },
   "outputs": [],
   "source": [
    "#hide\n",
    "metrics = [df_table.columns[index] for index in [1,2,5,6]]\n",
    "# s_china = df_table[df_table['Country/Region'].eq('China')][metrics].sum().add_prefix('China ')\n",
    "s_us = df_table[df_table['Country/Region'].eq('US')][metrics].sum().add_prefix('US ')\n",
    "s_eu = df_table[df_table['Continent'].eq('Europe')][metrics].sum().add_prefix('EU ')\n",
    "s_ind = df_table[df_table['Country/Region'].eq('India')][metrics].sum().add_prefix('India ')\n",
    "summary = {'updated': pd.to_datetime(dt_today), 'since': pd.to_datetime(dt_yday)}\n",
    "summary = {'updated': pd.to_datetime(dt_today), 'since': pd.to_datetime(dt_yday)}\n",
    "summary = {**summary, **df_table[metrics].sum(), **s_ind, **s_us, **s_eu}"
   ]
  },
  {
   "cell_type": "code",
   "execution_count": 18,
   "id": "engaging-syndrome",
   "metadata": {
    "execution": {
     "iopub.execute_input": "2022-11-02T00:55:24.459632Z",
     "iopub.status.busy": "2022-11-02T00:55:24.458839Z",
     "iopub.status.idle": "2022-11-02T00:55:24.480124Z",
     "shell.execute_reply": "2022-11-02T00:55:24.479455Z"
    },
    "papermill": {
     "duration": 0.06669,
     "end_time": "2022-11-02T00:55:24.480257",
     "exception": false,
     "start_time": "2022-11-02T00:55:24.413567",
     "status": "completed"
    },
    "tags": []
   },
   "outputs": [],
   "source": [
    "#hide\n",
    "dft_ct_new_cases = dft_cases.groupby(COL_REGION)[dt_cols].sum().diff(axis=1).fillna(0).astype(int)"
   ]
  },
  {
   "cell_type": "code",
   "execution_count": 19,
   "id": "neutral-assignment",
   "metadata": {
    "execution": {
     "iopub.execute_input": "2022-11-02T00:55:24.575643Z",
     "iopub.status.busy": "2022-11-02T00:55:24.574766Z",
     "iopub.status.idle": "2022-11-02T00:55:24.578569Z",
     "shell.execute_reply": "2022-11-02T00:55:24.578003Z"
    },
    "papermill": {
     "duration": 0.05706,
     "end_time": "2022-11-02T00:55:24.578707",
     "exception": false,
     "start_time": "2022-11-02T00:55:24.521647",
     "status": "completed"
    },
    "tags": []
   },
   "outputs": [],
   "source": [
    "#hide\n",
    "everydaycases = dft_ct_new_cases.cumsum(axis=1)"
   ]
  },
  {
   "cell_type": "code",
   "execution_count": 20,
   "id": "parliamentary-calgary",
   "metadata": {
    "execution": {
     "iopub.execute_input": "2022-11-02T00:55:24.668915Z",
     "iopub.status.busy": "2022-11-02T00:55:24.668100Z",
     "iopub.status.idle": "2022-11-02T00:55:25.367743Z",
     "shell.execute_reply": "2022-11-02T00:55:25.368449Z"
    },
    "papermill": {
     "duration": 0.749232,
     "end_time": "2022-11-02T00:55:25.368705",
     "exception": false,
     "start_time": "2022-11-02T00:55:24.619473",
     "status": "completed"
    },
    "tags": []
   },
   "outputs": [],
   "source": [
    "#hide\n",
    "import pandas as pd\n",
    "import matplotlib.pyplot as plt\n",
    "import matplotlib.ticker as ticker\n",
    "import matplotlib.animation as animation\n",
    "from IPython.display import HTML"
   ]
  },
  {
   "cell_type": "code",
   "execution_count": 21,
   "id": "lasting-extraction",
   "metadata": {
    "execution": {
     "iopub.execute_input": "2022-11-02T00:55:25.469044Z",
     "iopub.status.busy": "2022-11-02T00:55:25.468294Z",
     "iopub.status.idle": "2022-11-02T00:55:25.477379Z",
     "shell.execute_reply": "2022-11-02T00:55:25.476752Z"
    },
    "papermill": {
     "duration": 0.061152,
     "end_time": "2022-11-02T00:55:25.477534",
     "exception": false,
     "start_time": "2022-11-02T00:55:25.416382",
     "status": "completed"
    },
    "tags": []
   },
   "outputs": [],
   "source": [
    "#hide\n",
    "t = everydaycases.stack()"
   ]
  },
  {
   "cell_type": "code",
   "execution_count": 22,
   "id": "premier-sleeve",
   "metadata": {
    "execution": {
     "iopub.execute_input": "2022-11-02T00:55:25.566185Z",
     "iopub.status.busy": "2022-11-02T00:55:25.565356Z",
     "iopub.status.idle": "2022-11-02T00:55:25.580792Z",
     "shell.execute_reply": "2022-11-02T00:55:25.580236Z"
    },
    "papermill": {
     "duration": 0.062418,
     "end_time": "2022-11-02T00:55:25.580933",
     "exception": false,
     "start_time": "2022-11-02T00:55:25.518515",
     "status": "completed"
    },
    "tags": []
   },
   "outputs": [],
   "source": [
    "#hide\n",
    "g = t.reset_index(['Country/Region'])"
   ]
  },
  {
   "cell_type": "code",
   "execution_count": 23,
   "id": "distributed-pittsburgh",
   "metadata": {
    "execution": {
     "iopub.execute_input": "2022-11-02T00:55:25.680494Z",
     "iopub.status.busy": "2022-11-02T00:55:25.679716Z",
     "iopub.status.idle": "2022-11-02T00:55:25.683612Z",
     "shell.execute_reply": "2022-11-02T00:55:25.682972Z"
    },
    "papermill": {
     "duration": 0.062897,
     "end_time": "2022-11-02T00:55:25.683775",
     "exception": false,
     "start_time": "2022-11-02T00:55:25.620878",
     "status": "completed"
    },
    "tags": []
   },
   "outputs": [],
   "source": [
    "#hide\n",
    "g.index.name = 'date'"
   ]
  },
  {
   "cell_type": "code",
   "execution_count": 24,
   "id": "naked-donor",
   "metadata": {
    "execution": {
     "iopub.execute_input": "2022-11-02T00:55:25.771186Z",
     "iopub.status.busy": "2022-11-02T00:55:25.770478Z",
     "iopub.status.idle": "2022-11-02T00:55:25.775574Z",
     "shell.execute_reply": "2022-11-02T00:55:25.774736Z"
    },
    "papermill": {
     "duration": 0.050306,
     "end_time": "2022-11-02T00:55:25.775774",
     "exception": false,
     "start_time": "2022-11-02T00:55:25.725468",
     "status": "completed"
    },
    "tags": []
   },
   "outputs": [],
   "source": [
    "# #hide\n",
    "# g = g.reset_index(['date'])"
   ]
  },
  {
   "cell_type": "code",
   "execution_count": 25,
   "id": "incomplete-mustang",
   "metadata": {
    "execution": {
     "iopub.execute_input": "2022-11-02T00:55:25.859653Z",
     "iopub.status.busy": "2022-11-02T00:55:25.858913Z",
     "iopub.status.idle": "2022-11-02T00:55:25.863572Z",
     "shell.execute_reply": "2022-11-02T00:55:25.862832Z"
    },
    "papermill": {
     "duration": 0.050211,
     "end_time": "2022-11-02T00:55:25.863712",
     "exception": false,
     "start_time": "2022-11-02T00:55:25.813501",
     "status": "completed"
    },
    "tags": []
   },
   "outputs": [],
   "source": [
    "#hide\n",
    "# g.head()"
   ]
  },
  {
   "cell_type": "code",
   "execution_count": 26,
   "id": "specific-kruger",
   "metadata": {
    "execution": {
     "iopub.execute_input": "2022-11-02T00:55:25.956233Z",
     "iopub.status.busy": "2022-11-02T00:55:25.955523Z",
     "iopub.status.idle": "2022-11-02T00:55:25.960000Z",
     "shell.execute_reply": "2022-11-02T00:55:25.959422Z"
    },
    "papermill": {
     "duration": 0.048917,
     "end_time": "2022-11-02T00:55:25.960131",
     "exception": false,
     "start_time": "2022-11-02T00:55:25.911214",
     "status": "completed"
    },
    "tags": []
   },
   "outputs": [],
   "source": [
    "#hide\n",
    "# g.columns = ['date','country','cases']"
   ]
  },
  {
   "cell_type": "code",
   "execution_count": 27,
   "id": "tender-conversion",
   "metadata": {
    "execution": {
     "iopub.execute_input": "2022-11-02T00:55:26.045733Z",
     "iopub.status.busy": "2022-11-02T00:55:26.044293Z",
     "iopub.status.idle": "2022-11-02T00:55:26.046664Z",
     "shell.execute_reply": "2022-11-02T00:55:26.047378Z"
    },
    "papermill": {
     "duration": 0.046536,
     "end_time": "2022-11-02T00:55:26.047571",
     "exception": false,
     "start_time": "2022-11-02T00:55:26.001035",
     "status": "completed"
    },
    "tags": []
   },
   "outputs": [],
   "source": [
    "#hide\n",
    "# g['continent'] = g.country"
   ]
  },
  {
   "cell_type": "code",
   "execution_count": 28,
   "id": "substantial-wilderness",
   "metadata": {
    "execution": {
     "iopub.execute_input": "2022-11-02T00:55:26.139473Z",
     "iopub.status.busy": "2022-11-02T00:55:26.138659Z",
     "iopub.status.idle": "2022-11-02T00:55:26.141640Z",
     "shell.execute_reply": "2022-11-02T00:55:26.142256Z"
    },
    "papermill": {
     "duration": 0.049662,
     "end_time": "2022-11-02T00:55:26.142405",
     "exception": false,
     "start_time": "2022-11-02T00:55:26.092743",
     "status": "completed"
    },
    "tags": []
   },
   "outputs": [],
   "source": [
    "#hide\n",
    "# cols = list(g.columns.values)"
   ]
  },
  {
   "cell_type": "code",
   "execution_count": 29,
   "id": "solved-farming",
   "metadata": {
    "execution": {
     "iopub.execute_input": "2022-11-02T00:55:26.231392Z",
     "iopub.status.busy": "2022-11-02T00:55:26.230546Z",
     "iopub.status.idle": "2022-11-02T00:55:26.234099Z",
     "shell.execute_reply": "2022-11-02T00:55:26.233444Z"
    },
    "papermill": {
     "duration": 0.048783,
     "end_time": "2022-11-02T00:55:26.234232",
     "exception": false,
     "start_time": "2022-11-02T00:55:26.185449",
     "status": "completed"
    },
    "tags": []
   },
   "outputs": [],
   "source": [
    "#hide\n",
    "# cols.insert(0, cols.pop())"
   ]
  },
  {
   "cell_type": "code",
   "execution_count": 30,
   "id": "executed-adoption",
   "metadata": {
    "execution": {
     "iopub.execute_input": "2022-11-02T00:55:26.323459Z",
     "iopub.status.busy": "2022-11-02T00:55:26.322520Z",
     "iopub.status.idle": "2022-11-02T00:55:26.324782Z",
     "shell.execute_reply": "2022-11-02T00:55:26.325462Z"
    },
    "papermill": {
     "duration": 0.047492,
     "end_time": "2022-11-02T00:55:26.325623",
     "exception": false,
     "start_time": "2022-11-02T00:55:26.278131",
     "status": "completed"
    },
    "tags": []
   },
   "outputs": [],
   "source": [
    "#hide\n",
    "# g = g[cols]"
   ]
  },
  {
   "cell_type": "code",
   "execution_count": 31,
   "id": "subject-dublin",
   "metadata": {
    "execution": {
     "iopub.execute_input": "2022-11-02T00:55:26.412392Z",
     "iopub.status.busy": "2022-11-02T00:55:26.411676Z",
     "iopub.status.idle": "2022-11-02T00:55:26.415713Z",
     "shell.execute_reply": "2022-11-02T00:55:26.415044Z"
    },
    "papermill": {
     "duration": 0.049007,
     "end_time": "2022-11-02T00:55:26.415896",
     "exception": false,
     "start_time": "2022-11-02T00:55:26.366889",
     "status": "completed"
    },
    "tags": []
   },
   "outputs": [],
   "source": [
    "#hide\n",
    "# g['continent'] = g['continent'].map(mapping['map.continent'])"
   ]
  },
  {
   "cell_type": "code",
   "execution_count": 32,
   "id": "freelance-scout",
   "metadata": {
    "execution": {
     "iopub.execute_input": "2022-11-02T00:55:26.506093Z",
     "iopub.status.busy": "2022-11-02T00:55:26.505392Z",
     "iopub.status.idle": "2022-11-02T00:55:26.508531Z",
     "shell.execute_reply": "2022-11-02T00:55:26.507975Z"
    },
    "papermill": {
     "duration": 0.04964,
     "end_time": "2022-11-02T00:55:26.508669",
     "exception": false,
     "start_time": "2022-11-02T00:55:26.459029",
     "status": "completed"
    },
    "tags": []
   },
   "outputs": [],
   "source": [
    "#hide\n",
    "# g.head()"
   ]
  },
  {
   "cell_type": "code",
   "execution_count": 33,
   "id": "limited-engine",
   "metadata": {
    "execution": {
     "iopub.execute_input": "2022-11-02T00:55:26.598724Z",
     "iopub.status.busy": "2022-11-02T00:55:26.598033Z",
     "iopub.status.idle": "2022-11-02T00:55:26.601242Z",
     "shell.execute_reply": "2022-11-02T00:55:26.600497Z"
    },
    "papermill": {
     "duration": 0.049661,
     "end_time": "2022-11-02T00:55:26.601373",
     "exception": false,
     "start_time": "2022-11-02T00:55:26.551712",
     "status": "completed"
    },
    "tags": []
   },
   "outputs": [],
   "source": [
    "# hide\n",
    "# g['date'] = g['date'].astype('datetime64[ns]')"
   ]
  },
  {
   "cell_type": "code",
   "execution_count": 34,
   "id": "sophisticated-supervisor",
   "metadata": {
    "execution": {
     "iopub.execute_input": "2022-11-02T00:55:26.689982Z",
     "iopub.status.busy": "2022-11-02T00:55:26.689143Z",
     "iopub.status.idle": "2022-11-02T00:55:26.693651Z",
     "shell.execute_reply": "2022-11-02T00:55:26.694234Z"
    },
    "papermill": {
     "duration": 0.051779,
     "end_time": "2022-11-02T00:55:26.694397",
     "exception": false,
     "start_time": "2022-11-02T00:55:26.642618",
     "status": "completed"
    },
    "tags": []
   },
   "outputs": [],
   "source": [
    "#hide\n",
    "# g['date'] = g.date.dt.dayofyear"
   ]
  },
  {
   "cell_type": "code",
   "execution_count": 35,
   "id": "inside-dubai",
   "metadata": {
    "execution": {
     "iopub.execute_input": "2022-11-02T00:55:26.778150Z",
     "iopub.status.busy": "2022-11-02T00:55:26.777360Z",
     "iopub.status.idle": "2022-11-02T00:55:26.780846Z",
     "shell.execute_reply": "2022-11-02T00:55:26.780115Z"
    },
    "papermill": {
     "duration": 0.047984,
     "end_time": "2022-11-02T00:55:26.781005",
     "exception": false,
     "start_time": "2022-11-02T00:55:26.733021",
     "status": "completed"
    },
    "tags": []
   },
   "outputs": [],
   "source": [
    "#hide\n",
    "# g = g.rename(columns= {'continent':'group','country':'name','cases':'value'})"
   ]
  },
  {
   "cell_type": "code",
   "execution_count": 36,
   "id": "fleet-motorcycle",
   "metadata": {
    "execution": {
     "iopub.execute_input": "2022-11-02T00:55:26.864837Z",
     "iopub.status.busy": "2022-11-02T00:55:26.864050Z",
     "iopub.status.idle": "2022-11-02T00:55:26.866567Z",
     "shell.execute_reply": "2022-11-02T00:55:26.867083Z"
    },
    "papermill": {
     "duration": 0.046736,
     "end_time": "2022-11-02T00:55:26.867228",
     "exception": false,
     "start_time": "2022-11-02T00:55:26.820492",
     "status": "completed"
    },
    "tags": []
   },
   "outputs": [],
   "source": [
    "#hide\n",
    "# cols = ['name','group','day','value']"
   ]
  },
  {
   "cell_type": "code",
   "execution_count": 37,
   "id": "continued-sleeping",
   "metadata": {
    "execution": {
     "iopub.execute_input": "2022-11-02T00:55:26.953744Z",
     "iopub.status.busy": "2022-11-02T00:55:26.952824Z",
     "iopub.status.idle": "2022-11-02T00:55:26.957364Z",
     "shell.execute_reply": "2022-11-02T00:55:26.958075Z"
    },
    "papermill": {
     "duration": 0.048019,
     "end_time": "2022-11-02T00:55:26.958219",
     "exception": false,
     "start_time": "2022-11-02T00:55:26.910200",
     "status": "completed"
    },
    "tags": []
   },
   "outputs": [],
   "source": [
    "#hide\n",
    "# g.rename(columns= {'date':'day'},inplace = True)"
   ]
  },
  {
   "cell_type": "code",
   "execution_count": 38,
   "id": "major-fight",
   "metadata": {
    "execution": {
     "iopub.execute_input": "2022-11-02T00:55:27.042396Z",
     "iopub.status.busy": "2022-11-02T00:55:27.040882Z",
     "iopub.status.idle": "2022-11-02T00:55:27.044093Z",
     "shell.execute_reply": "2022-11-02T00:55:27.044843Z"
    },
    "papermill": {
     "duration": 0.047549,
     "end_time": "2022-11-02T00:55:27.045154",
     "exception": false,
     "start_time": "2022-11-02T00:55:26.997605",
     "status": "completed"
    },
    "tags": []
   },
   "outputs": [],
   "source": [
    "#hide\n",
    "# g = g[cols]"
   ]
  },
  {
   "cell_type": "code",
   "execution_count": 39,
   "id": "structured-mobile",
   "metadata": {
    "execution": {
     "iopub.execute_input": "2022-11-02T00:55:27.132438Z",
     "iopub.status.busy": "2022-11-02T00:55:27.131708Z",
     "iopub.status.idle": "2022-11-02T00:55:27.134847Z",
     "shell.execute_reply": "2022-11-02T00:55:27.134201Z"
    },
    "papermill": {
     "duration": 0.046698,
     "end_time": "2022-11-02T00:55:27.135012",
     "exception": false,
     "start_time": "2022-11-02T00:55:27.088314",
     "status": "completed"
    },
    "tags": []
   },
   "outputs": [],
   "source": [
    "# #hide\n",
    "# g = g[g.group.notna()]"
   ]
  },
  {
   "cell_type": "code",
   "execution_count": 40,
   "id": "determined-closing",
   "metadata": {
    "execution": {
     "iopub.execute_input": "2022-11-02T00:55:27.220074Z",
     "iopub.status.busy": "2022-11-02T00:55:27.219064Z",
     "iopub.status.idle": "2022-11-02T00:55:27.221825Z",
     "shell.execute_reply": "2022-11-02T00:55:27.222547Z"
    },
    "papermill": {
     "duration": 0.04807,
     "end_time": "2022-11-02T00:55:27.222710",
     "exception": false,
     "start_time": "2022-11-02T00:55:27.174640",
     "status": "completed"
    },
    "tags": []
   },
   "outputs": [],
   "source": [
    "# #hide\n",
    "# colors = dict(zip(\n",
    "#     [\"Oceania\", \"Europe\", \"Asia\", \"South America\", \"Middle East\", \"North America\", \"Africa\"],\n",
    "#     [\"#adb0ff\", \"#ffb3ff\", \"#90d595\", \"#e48381\", \"#aafbff\", \"#f7bb5f\", \"#eafb50\"]\n",
    "# ))\n",
    "# group_lk = g.set_index('name')['group'].to_dict()"
   ]
  },
  {
   "cell_type": "code",
   "execution_count": null,
   "id": "gross-drinking",
   "metadata": {
    "papermill": {
     "duration": 0.038722,
     "end_time": "2022-11-02T00:55:27.300182",
     "exception": false,
     "start_time": "2022-11-02T00:55:27.261460",
     "status": "completed"
    },
    "tags": []
   },
   "outputs": [],
   "source": []
  },
  {
   "cell_type": "code",
   "execution_count": 41,
   "id": "subject-macintosh",
   "metadata": {
    "execution": {
     "iopub.execute_input": "2022-11-02T00:55:27.382301Z",
     "iopub.status.busy": "2022-11-02T00:55:27.381589Z",
     "iopub.status.idle": "2022-11-02T00:55:27.384916Z",
     "shell.execute_reply": "2022-11-02T00:55:27.384208Z"
    },
    "papermill": {
     "duration": 0.047067,
     "end_time": "2022-11-02T00:55:27.385039",
     "exception": false,
     "start_time": "2022-11-02T00:55:27.337972",
     "status": "completed"
    },
    "tags": []
   },
   "outputs": [],
   "source": [
    "# #hide\n",
    "# fig, ax = plt.subplots(figsize=(15, 8))\n",
    "\n",
    "# def draw_barchart(current_day):\n",
    "#     dff = g[g['day'].eq(current_day)].sort_values(by='value', ascending=True).tail(10)\n",
    "#     ax.clear()\n",
    "#     ax.barh(dff['name'], dff['value'], color=[colors[group_lk[x]] for x in dff['name']])\n",
    "#     dx = dff['value'].max() / 200\n",
    "    \n",
    "#     for i, (value, name) in enumerate(zip(dff['value'], dff['name'])):\n",
    "#         ax.text(value-dx, i,     name,           size=14, weight=600, ha='right', va='bottom')\n",
    "#         ax.text(value-dx, i-.25, group_lk[name], size=10, color='#444444', ha='right', va='baseline')\n",
    "#         ax.text(value+dx, i,     f'{value:,.0f}',  size=14, ha='left',  va='center')\n",
    "#     ax.text(1, 0.4, current_day, transform=ax.transAxes, color='#777777', size=46, ha='right', weight=800)\n",
    "#     ax.text(0, 1.06, 'Population (thousands)', transform=ax.transAxes, size=12, color='#777777')\n",
    "#     ax.xaxis.set_major_formatter(ticker.StrMethodFormatter('{x:,.0f}'))\n",
    "#     ax.xaxis.set_ticks_position('top')\n",
    "#     ax.tick_params(axis='x', colors='#777777', labelsize=12)\n",
    "#     ax.set_yticks([])\n",
    "#     ax.margins(0, 0.01)\n",
    "#     ax.grid(which='major', axis='x', linestyle='-')\n",
    "#     ax.set_axisbelow(True)\n",
    "    \n",
    "#     ax.text(0, 1.15, 'Coronavirus',\n",
    "#             transform=ax.transAxes, size=24, weight=600, ha='left', va='top')\n",
    "# #     ax.text(1, 0, 'by @pratapvardhan; credit @jburnmurdoch', transform=ax.transAxes, color='#777777', ha='right',\n",
    "# #             bbox=dict(facecolor='white', alpha=0.8, edgecolor='white'))\n",
    "#     plt.box(False)"
   ]
  },
  {
   "cell_type": "code",
   "execution_count": 42,
   "id": "sexual-wages",
   "metadata": {
    "execution": {
     "iopub.execute_input": "2022-11-02T00:55:27.469036Z",
     "iopub.status.busy": "2022-11-02T00:55:27.468337Z",
     "iopub.status.idle": "2022-11-02T00:55:27.470942Z",
     "shell.execute_reply": "2022-11-02T00:55:27.471572Z"
    },
    "papermill": {
     "duration": 0.048898,
     "end_time": "2022-11-02T00:55:27.471743",
     "exception": false,
     "start_time": "2022-11-02T00:55:27.422845",
     "status": "completed"
    },
    "tags": []
   },
   "outputs": [],
   "source": [
    "# #hide_input\n",
    "# fig, ax = plt.subplots(figsize=(15, 8))\n",
    "# animator = animation.FuncAnimation(fig, draw_barchart, frames=range(g.day.values.min(), g.day.values.max()))\n",
    "# HTML(animator.to_jshtml())\n",
    "# # or use animator.to_html5_video() or animator.save() "
   ]
  },
  {
   "cell_type": "code",
   "execution_count": null,
   "id": "australian-container",
   "metadata": {
    "papermill": {
     "duration": 0.042655,
     "end_time": "2022-11-02T00:55:27.554058",
     "exception": false,
     "start_time": "2022-11-02T00:55:27.511403",
     "status": "completed"
    },
    "tags": []
   },
   "outputs": [],
   "source": []
  },
  {
   "cell_type": "code",
   "execution_count": null,
   "id": "mediterranean-pontiac",
   "metadata": {
    "papermill": {
     "duration": 0.042408,
     "end_time": "2022-11-02T00:55:27.638392",
     "exception": false,
     "start_time": "2022-11-02T00:55:27.595984",
     "status": "completed"
    },
    "tags": []
   },
   "outputs": [],
   "source": []
  },
  {
   "cell_type": "code",
   "execution_count": null,
   "id": "aging-legislature",
   "metadata": {
    "papermill": {
     "duration": 0.04394,
     "end_time": "2022-11-02T00:55:27.724357",
     "exception": false,
     "start_time": "2022-11-02T00:55:27.680417",
     "status": "completed"
    },
    "tags": []
   },
   "outputs": [],
   "source": []
  }
 ],
 "metadata": {
  "kernelspec": {
   "display_name": "Python 3",
   "language": "python",
   "name": "python3"
  },
  "language_info": {
   "codemirror_mode": {
    "name": "ipython",
    "version": 3
   },
   "file_extension": ".py",
   "mimetype": "text/x-python",
   "name": "python",
   "nbconvert_exporter": "python",
   "pygments_lexer": "ipython3",
   "version": "3.6.15"
  },
  "papermill": {
   "duration": 7.668892,
   "end_time": "2022-11-02T00:55:28.189327",
   "environment_variables": {},
   "exception": null,
   "input_path": "2020-03-21-covid19exp.ipynb",
   "output_path": "2020-03-21-covid19exp.ipynb",
   "parameters": {},
   "start_time": "2022-11-02T00:55:20.520435",
   "version": "2.0.0"
  }
 },
 "nbformat": 4,
 "nbformat_minor": 5
}