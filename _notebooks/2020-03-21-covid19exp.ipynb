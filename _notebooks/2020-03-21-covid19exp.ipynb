{
 "cells": [
  {
   "cell_type": "markdown",
   "id": "muslim-click",
   "metadata": {
    "papermill": {
     "duration": 0.042714,
     "end_time": "2021-11-22T12:12:58.507210",
     "exception": false,
     "start_time": "2021-11-22T12:12:58.464496",
     "status": "completed"
    },
    "tags": []
   },
   "source": [
    "# COVID-19 Case Race\n",
    "> A race chart to see rising cases around the world\n",
    "\n",
    "- author: Hargun Oberoi\n",
    "- image: images/covid-overview.png\n",
    "- hide: false\n",
    "- badges: false"
   ]
  },
  {
   "cell_type": "code",
   "execution_count": 1,
   "id": "proof-material",
   "metadata": {
    "execution": {
     "iopub.execute_input": "2021-11-22T12:12:58.596254Z",
     "iopub.status.busy": "2021-11-22T12:12:58.595572Z",
     "iopub.status.idle": "2021-11-22T12:12:58.998416Z",
     "shell.execute_reply": "2021-11-22T12:12:58.997812Z"
    },
    "papermill": {
     "duration": 0.452233,
     "end_time": "2021-11-22T12:12:58.998591",
     "exception": false,
     "start_time": "2021-11-22T12:12:58.546358",
     "status": "completed"
    },
    "tags": []
   },
   "outputs": [],
   "source": [
    "#hide\n",
    "import numpy as np\n",
    "import pandas as pd\n",
    "from jinja2 import Template\n",
    "from IPython.display import HTML"
   ]
  },
  {
   "cell_type": "code",
   "execution_count": 2,
   "id": "developed-terminology",
   "metadata": {
    "execution": {
     "iopub.execute_input": "2021-11-22T12:12:59.080913Z",
     "iopub.status.busy": "2021-11-22T12:12:59.080193Z",
     "iopub.status.idle": "2021-11-22T12:12:59.082223Z",
     "shell.execute_reply": "2021-11-22T12:12:59.083246Z"
    },
    "papermill": {
     "duration": 0.04617,
     "end_time": "2021-11-22T12:12:59.083408",
     "exception": false,
     "start_time": "2021-11-22T12:12:59.037238",
     "status": "completed"
    },
    "tags": []
   },
   "outputs": [],
   "source": [
    "#hide\n",
    "\n",
    "# FETCH\n",
    "base_url = 'https://raw.githubusercontent.com/pratapvardhan/notebooks/master/covid19/'\n",
    "paths = {\n",
    "    'mapping': base_url + 'mapping_countries.csv',\n",
    "    'overview': base_url + 'overview.tpl'\n",
    "}"
   ]
  },
  {
   "cell_type": "code",
   "execution_count": 3,
   "id": "dynamic-saver",
   "metadata": {
    "execution": {
     "iopub.execute_input": "2021-11-22T12:12:59.170516Z",
     "iopub.status.busy": "2021-11-22T12:12:59.169845Z",
     "iopub.status.idle": "2021-11-22T12:12:59.173651Z",
     "shell.execute_reply": "2021-11-22T12:12:59.174268Z"
    },
    "papermill": {
     "duration": 0.053155,
     "end_time": "2021-11-22T12:12:59.174424",
     "exception": false,
     "start_time": "2021-11-22T12:12:59.121269",
     "status": "completed"
    },
    "tags": []
   },
   "outputs": [
    {
     "data": {
      "text/plain": [
       "'https://raw.githubusercontent.com/pratapvardhan/notebooks/master/covid19/mapping_countries.csv'"
      ]
     },
     "execution_count": 3,
     "metadata": {},
     "output_type": "execute_result"
    }
   ],
   "source": [
    "#hide\n",
    "paths['mapping']"
   ]
  },
  {
   "cell_type": "code",
   "execution_count": 4,
   "id": "urban-software",
   "metadata": {
    "execution": {
     "iopub.execute_input": "2021-11-22T12:12:59.261652Z",
     "iopub.status.busy": "2021-11-22T12:12:59.260956Z",
     "iopub.status.idle": "2021-11-22T12:12:59.262444Z",
     "shell.execute_reply": "2021-11-22T12:12:59.263069Z"
    },
    "papermill": {
     "duration": 0.0468,
     "end_time": "2021-11-22T12:12:59.263233",
     "exception": false,
     "start_time": "2021-11-22T12:12:59.216433",
     "status": "completed"
    },
    "tags": []
   },
   "outputs": [],
   "source": [
    "#hide\n",
    "def get_mappings(url):\n",
    "    df = pd.read_csv(url)\n",
    "    return {\n",
    "        'df': df,\n",
    "        'replace.country': dict(df.dropna(subset=['Name']).set_index('Country')['Name']),\n",
    "        'map.continent': dict(df.set_index('Name')['Continent'])\n",
    "    }"
   ]
  },
  {
   "cell_type": "code",
   "execution_count": 5,
   "id": "intimate-machinery",
   "metadata": {
    "execution": {
     "iopub.execute_input": "2021-11-22T12:12:59.352248Z",
     "iopub.status.busy": "2021-11-22T12:12:59.351583Z",
     "iopub.status.idle": "2021-11-22T12:12:59.425656Z",
     "shell.execute_reply": "2021-11-22T12:12:59.425049Z"
    },
    "papermill": {
     "duration": 0.121508,
     "end_time": "2021-11-22T12:12:59.425815",
     "exception": false,
     "start_time": "2021-11-22T12:12:59.304307",
     "status": "completed"
    },
    "tags": []
   },
   "outputs": [],
   "source": [
    "#hide\n",
    "mapping = get_mappings(paths['mapping'])"
   ]
  },
  {
   "cell_type": "code",
   "execution_count": 6,
   "id": "certified-tactics",
   "metadata": {
    "execution": {
     "iopub.execute_input": "2021-11-22T12:12:59.510873Z",
     "iopub.status.busy": "2021-11-22T12:12:59.510170Z",
     "iopub.status.idle": "2021-11-22T12:12:59.512964Z",
     "shell.execute_reply": "2021-11-22T12:12:59.512387Z"
    },
    "papermill": {
     "duration": 0.047942,
     "end_time": "2021-11-22T12:12:59.513101",
     "exception": false,
     "start_time": "2021-11-22T12:12:59.465159",
     "status": "completed"
    },
    "tags": []
   },
   "outputs": [],
   "source": [
    "#hide\n",
    "def get_template(path):\n",
    "    from urllib.parse import urlparse\n",
    "    if bool(urlparse(path).netloc):\n",
    "        from urllib.request import urlopen\n",
    "        return urlopen(path).read().decode('utf8')\n",
    "    return open(path).read()"
   ]
  },
  {
   "cell_type": "code",
   "execution_count": 7,
   "id": "realistic-blast",
   "metadata": {
    "execution": {
     "iopub.execute_input": "2021-11-22T12:12:59.596115Z",
     "iopub.status.busy": "2021-11-22T12:12:59.595422Z",
     "iopub.status.idle": "2021-11-22T12:12:59.599198Z",
     "shell.execute_reply": "2021-11-22T12:12:59.599715Z"
    },
    "papermill": {
     "duration": 0.04836,
     "end_time": "2021-11-22T12:12:59.599874",
     "exception": false,
     "start_time": "2021-11-22T12:12:59.551514",
     "status": "completed"
    },
    "tags": []
   },
   "outputs": [],
   "source": [
    "#hide\n",
    "def get_frame(name):\n",
    "    url = (\n",
    "        'https://raw.githubusercontent.com/CSSEGISandData/COVID-19/master/csse_covid_19_data/'\n",
    "        f'csse_covid_19_time_series/time_series_covid19_{name}_global.csv')\n",
    "    df = pd.read_csv(url)\n",
    "    # rename countries\n",
    "    df['Country/Region'] = df['Country/Region'].replace(mapping['replace.country'])\n",
    "    return df"
   ]
  },
  {
   "cell_type": "code",
   "execution_count": 8,
   "id": "affiliated-characterization",
   "metadata": {
    "execution": {
     "iopub.execute_input": "2021-11-22T12:12:59.682933Z",
     "iopub.status.busy": "2021-11-22T12:12:59.682208Z",
     "iopub.status.idle": "2021-11-22T12:12:59.685089Z",
     "shell.execute_reply": "2021-11-22T12:12:59.684517Z"
    },
    "papermill": {
     "duration": 0.047659,
     "end_time": "2021-11-22T12:12:59.685216",
     "exception": false,
     "start_time": "2021-11-22T12:12:59.637557",
     "status": "completed"
    },
    "tags": []
   },
   "outputs": [],
   "source": [
    "#hide\n",
    "def get_dates(df):\n",
    "    dt_cols = df.columns[~df.columns.isin(['Province/State', 'Country/Region', 'Lat', 'Long'])]\n",
    "    LAST_DATE_I = -1\n",
    "    # sometimes last column may be empty, then go backwards\n",
    "    for i in range(-1, -len(dt_cols), -1):\n",
    "        if not df[dt_cols[i]].fillna(0).eq(0).all():\n",
    "            LAST_DATE_I = i\n",
    "            break\n",
    "    return LAST_DATE_I, dt_cols"
   ]
  },
  {
   "cell_type": "code",
   "execution_count": 9,
   "id": "recent-optimization",
   "metadata": {
    "execution": {
     "iopub.execute_input": "2021-11-22T12:12:59.773296Z",
     "iopub.status.busy": "2021-11-22T12:12:59.772627Z",
     "iopub.status.idle": "2021-11-22T12:13:00.390702Z",
     "shell.execute_reply": "2021-11-22T12:13:00.391313Z"
    },
    "papermill": {
     "duration": 0.667827,
     "end_time": "2021-11-22T12:13:00.391502",
     "exception": false,
     "start_time": "2021-11-22T12:12:59.723675",
     "status": "completed"
    },
    "tags": []
   },
   "outputs": [],
   "source": [
    "#hide\n",
    "COL_REGION = 'Country/Region'\n",
    "# Confirmed, Recovered, Deaths\n",
    "df = get_frame('confirmed')\n",
    "# dft_: timeseries, dfc_: today country agg\n",
    "dft_cases = df\n",
    "dft_deaths = get_frame('deaths')\n",
    "dft_recovered = get_frame('recovered')\n",
    "LAST_DATE_I, dt_cols = get_dates(df)"
   ]
  },
  {
   "cell_type": "code",
   "execution_count": 10,
   "id": "absolute-copper",
   "metadata": {
    "execution": {
     "iopub.execute_input": "2021-11-22T12:13:00.476997Z",
     "iopub.status.busy": "2021-11-22T12:13:00.476325Z",
     "iopub.status.idle": "2021-11-22T12:13:00.478912Z",
     "shell.execute_reply": "2021-11-22T12:13:00.478345Z"
    },
    "papermill": {
     "duration": 0.047627,
     "end_time": "2021-11-22T12:13:00.479055",
     "exception": false,
     "start_time": "2021-11-22T12:13:00.431428",
     "status": "completed"
    },
    "tags": []
   },
   "outputs": [],
   "source": [
    "#hide\n",
    "LAST_DATE_I, dt_cols = get_dates(df)\n",
    "dt_today =dt_cols[LAST_DATE_I]\n",
    "# dt_5day = dt_cols[LAST_DATE_I - 5]\n",
    "dt_yday = dt_cols[LAST_DATE_I - 1]"
   ]
  },
  {
   "cell_type": "code",
   "execution_count": 11,
   "id": "restricted-sheriff",
   "metadata": {
    "execution": {
     "iopub.execute_input": "2021-11-22T12:13:00.563643Z",
     "iopub.status.busy": "2021-11-22T12:13:00.562983Z",
     "iopub.status.idle": "2021-11-22T12:13:00.571153Z",
     "shell.execute_reply": "2021-11-22T12:13:00.571658Z"
    },
    "papermill": {
     "duration": 0.053526,
     "end_time": "2021-11-22T12:13:00.571810",
     "exception": false,
     "start_time": "2021-11-22T12:13:00.518284",
     "status": "completed"
    },
    "tags": []
   },
   "outputs": [],
   "source": [
    "#hide\n",
    "dfc_cases = dft_cases.groupby(COL_REGION)[dt_today].sum()\n",
    "dfc_deaths = dft_deaths.groupby(COL_REGION)[dt_today].sum()\n",
    "# dfp_cases = dft_cases.groupby(COL_REGION)[dt_5day].sum()\n",
    "# dfp_deaths = dft_deaths.groupby(COL_REGION)[dt_5day].sum()\n",
    "dfp_cases = dft_cases.groupby(COL_REGION)[dt_yday].sum()\n",
    "dfp_deaths = dft_deaths.groupby(COL_REGION)[dt_yday].sum()"
   ]
  },
  {
   "cell_type": "code",
   "execution_count": 12,
   "id": "deluxe-hepatitis",
   "metadata": {
    "execution": {
     "iopub.execute_input": "2021-11-22T12:13:00.655300Z",
     "iopub.status.busy": "2021-11-22T12:13:00.654503Z",
     "iopub.status.idle": "2021-11-22T12:13:00.659451Z",
     "shell.execute_reply": "2021-11-22T12:13:00.660091Z"
    },
    "papermill": {
     "duration": 0.049984,
     "end_time": "2021-11-22T12:13:00.660243",
     "exception": false,
     "start_time": "2021-11-22T12:13:00.610259",
     "status": "completed"
    },
    "tags": []
   },
   "outputs": [],
   "source": [
    "#hide\n",
    "df_table = (pd.DataFrame(dict(Cases = dfc_cases, Deaths = dfc_deaths, PCases = dfp_cases, PDeaths = dfp_deaths))\n",
    "            .sort_values(by = ['Cases','Deaths'], ascending = [False, False])\n",
    "            .reset_index())"
   ]
  },
  {
   "cell_type": "code",
   "execution_count": 13,
   "id": "educational-chancellor",
   "metadata": {
    "execution": {
     "iopub.execute_input": "2021-11-22T12:13:00.758612Z",
     "iopub.status.busy": "2021-11-22T12:13:00.757905Z",
     "iopub.status.idle": "2021-11-22T12:13:00.768928Z",
     "shell.execute_reply": "2021-11-22T12:13:00.768367Z"
    },
    "papermill": {
     "duration": 0.070055,
     "end_time": "2021-11-22T12:13:00.769082",
     "exception": false,
     "start_time": "2021-11-22T12:13:00.699027",
     "status": "completed"
    },
    "tags": []
   },
   "outputs": [
    {
     "data": {
      "text/html": [
       "<div>\n",
       "<style scoped>\n",
       "    .dataframe tbody tr th:only-of-type {\n",
       "        vertical-align: middle;\n",
       "    }\n",
       "\n",
       "    .dataframe tbody tr th {\n",
       "        vertical-align: top;\n",
       "    }\n",
       "\n",
       "    .dataframe thead th {\n",
       "        text-align: right;\n",
       "    }\n",
       "</style>\n",
       "<table border=\"1\" class=\"dataframe\">\n",
       "  <thead>\n",
       "    <tr style=\"text-align: right;\">\n",
       "      <th></th>\n",
       "      <th>Country/Region</th>\n",
       "      <th>Cases</th>\n",
       "      <th>Deaths</th>\n",
       "      <th>PCases</th>\n",
       "      <th>PDeaths</th>\n",
       "      <th>Cases (+)</th>\n",
       "      <th>Deaths (+)</th>\n",
       "      <th>Fatality Rate</th>\n",
       "      <th>Continent</th>\n",
       "    </tr>\n",
       "  </thead>\n",
       "  <tbody>\n",
       "    <tr>\n",
       "      <th>0</th>\n",
       "      <td>US</td>\n",
       "      <td>47730591</td>\n",
       "      <td>771118</td>\n",
       "      <td>47701872</td>\n",
       "      <td>771013</td>\n",
       "      <td>28719</td>\n",
       "      <td>105</td>\n",
       "      <td>1.62</td>\n",
       "      <td>North America</td>\n",
       "    </tr>\n",
       "    <tr>\n",
       "      <th>1</th>\n",
       "      <td>India</td>\n",
       "      <td>34518901</td>\n",
       "      <td>465911</td>\n",
       "      <td>34510413</td>\n",
       "      <td>465662</td>\n",
       "      <td>8488</td>\n",
       "      <td>249</td>\n",
       "      <td>1.35</td>\n",
       "      <td>Asia</td>\n",
       "    </tr>\n",
       "    <tr>\n",
       "      <th>2</th>\n",
       "      <td>Brazil</td>\n",
       "      <td>22017276</td>\n",
       "      <td>612659</td>\n",
       "      <td>22012150</td>\n",
       "      <td>612587</td>\n",
       "      <td>5126</td>\n",
       "      <td>72</td>\n",
       "      <td>2.78</td>\n",
       "      <td>South America</td>\n",
       "    </tr>\n",
       "    <tr>\n",
       "      <th>3</th>\n",
       "      <td>United Kingdom</td>\n",
       "      <td>9897206</td>\n",
       "      <td>144369</td>\n",
       "      <td>9857658</td>\n",
       "      <td>144308</td>\n",
       "      <td>39548</td>\n",
       "      <td>61</td>\n",
       "      <td>1.46</td>\n",
       "      <td>Europe</td>\n",
       "    </tr>\n",
       "    <tr>\n",
       "      <th>4</th>\n",
       "      <td>Russia</td>\n",
       "      <td>9170898</td>\n",
       "      <td>259107</td>\n",
       "      <td>9135149</td>\n",
       "      <td>257891</td>\n",
       "      <td>35749</td>\n",
       "      <td>1216</td>\n",
       "      <td>2.83</td>\n",
       "      <td>Europe</td>\n",
       "    </tr>\n",
       "  </tbody>\n",
       "</table>\n",
       "</div>"
      ],
      "text/plain": [
       "   Country/Region     Cases  Deaths    PCases  PDeaths  Cases (+)  Deaths (+)  \\\n",
       "0              US  47730591  771118  47701872   771013      28719         105   \n",
       "1           India  34518901  465911  34510413   465662       8488         249   \n",
       "2          Brazil  22017276  612659  22012150   612587       5126          72   \n",
       "3  United Kingdom   9897206  144369   9857658   144308      39548          61   \n",
       "4          Russia   9170898  259107   9135149   257891      35749        1216   \n",
       "\n",
       "   Fatality Rate      Continent  \n",
       "0           1.62  North America  \n",
       "1           1.35           Asia  \n",
       "2           2.78  South America  \n",
       "3           1.46         Europe  \n",
       "4           2.83         Europe  "
      ]
     },
     "execution_count": 13,
     "metadata": {},
     "output_type": "execute_result"
    }
   ],
   "source": [
    "#hide\n",
    "for c in 'Cases, Deaths'.split(', '):\n",
    "    df_table[f'{c} (+)'] = (df_table[c] - df_table[f'P{c}']).clip(0)\n",
    "    #Clip ça veut dire, les chiffres negatif sont interdit\n",
    "df_table['Fatality Rate'] = (100* df_table['Deaths']/ df_table['Cases']).round(2)\n",
    "df_table['Continent'] = df_table['Country/Region'].map(mapping['map.continent'])\n",
    "df_table.head(5)"
   ]
  },
  {
   "cell_type": "code",
   "execution_count": 14,
   "id": "aboriginal-bulgaria",
   "metadata": {
    "execution": {
     "iopub.execute_input": "2021-11-22T12:13:00.856620Z",
     "iopub.status.busy": "2021-11-22T12:13:00.855945Z",
     "iopub.status.idle": "2021-11-22T12:13:00.858188Z",
     "shell.execute_reply": "2021-11-22T12:13:00.858864Z"
    },
    "papermill": {
     "duration": 0.050406,
     "end_time": "2021-11-22T12:13:00.859016",
     "exception": false,
     "start_time": "2021-11-22T12:13:00.808610",
     "status": "completed"
    },
    "tags": []
   },
   "outputs": [],
   "source": [
    "#hide\n",
    "#delete problematic countries from table\n",
    "df_table = df_table[~df_table['Country/Region'].isin(['Cape Verde', 'Cruise Ship', 'Kosovo'])]"
   ]
  },
  {
   "cell_type": "code",
   "execution_count": 15,
   "id": "fantastic-effect",
   "metadata": {
    "execution": {
     "iopub.execute_input": "2021-11-22T12:13:00.944904Z",
     "iopub.status.busy": "2021-11-22T12:13:00.944228Z",
     "iopub.status.idle": "2021-11-22T12:13:00.967729Z",
     "shell.execute_reply": "2021-11-22T12:13:00.967193Z"
    },
    "papermill": {
     "duration": 0.070988,
     "end_time": "2021-11-22T12:13:00.967898",
     "exception": false,
     "start_time": "2021-11-22T12:13:00.896910",
     "status": "completed"
    },
    "tags": []
   },
   "outputs": [
    {
     "data": {
      "text/html": [
       "<div>\n",
       "<style scoped>\n",
       "    .dataframe tbody tr th:only-of-type {\n",
       "        vertical-align: middle;\n",
       "    }\n",
       "\n",
       "    .dataframe tbody tr th {\n",
       "        vertical-align: top;\n",
       "    }\n",
       "\n",
       "    .dataframe thead th {\n",
       "        text-align: right;\n",
       "    }\n",
       "</style>\n",
       "<table border=\"1\" class=\"dataframe\">\n",
       "  <thead>\n",
       "    <tr style=\"text-align: right;\">\n",
       "      <th></th>\n",
       "      <th>Country/Region</th>\n",
       "      <th>Cases</th>\n",
       "      <th>Deaths</th>\n",
       "      <th>PCases</th>\n",
       "      <th>PDeaths</th>\n",
       "      <th>Cases (+)</th>\n",
       "      <th>Deaths (+)</th>\n",
       "      <th>Fatality Rate</th>\n",
       "      <th>Continent</th>\n",
       "    </tr>\n",
       "  </thead>\n",
       "  <tbody>\n",
       "    <tr>\n",
       "      <th>0</th>\n",
       "      <td>US</td>\n",
       "      <td>47730591</td>\n",
       "      <td>771118</td>\n",
       "      <td>47701872</td>\n",
       "      <td>771013</td>\n",
       "      <td>28719</td>\n",
       "      <td>105</td>\n",
       "      <td>1.6</td>\n",
       "      <td>North America</td>\n",
       "    </tr>\n",
       "    <tr>\n",
       "      <th>1</th>\n",
       "      <td>India</td>\n",
       "      <td>34518901</td>\n",
       "      <td>465911</td>\n",
       "      <td>34510413</td>\n",
       "      <td>465662</td>\n",
       "      <td>8488</td>\n",
       "      <td>249</td>\n",
       "      <td>1.3</td>\n",
       "      <td>Asia</td>\n",
       "    </tr>\n",
       "    <tr>\n",
       "      <th>2</th>\n",
       "      <td>Brazil</td>\n",
       "      <td>22017276</td>\n",
       "      <td>612659</td>\n",
       "      <td>22012150</td>\n",
       "      <td>612587</td>\n",
       "      <td>5126</td>\n",
       "      <td>72</td>\n",
       "      <td>2.8</td>\n",
       "      <td>South America</td>\n",
       "    </tr>\n",
       "    <tr>\n",
       "      <th>3</th>\n",
       "      <td>United Kingdom</td>\n",
       "      <td>9897206</td>\n",
       "      <td>144369</td>\n",
       "      <td>9857658</td>\n",
       "      <td>144308</td>\n",
       "      <td>39548</td>\n",
       "      <td>61</td>\n",
       "      <td>1.5</td>\n",
       "      <td>Europe</td>\n",
       "    </tr>\n",
       "    <tr>\n",
       "      <th>4</th>\n",
       "      <td>Russia</td>\n",
       "      <td>9170898</td>\n",
       "      <td>259107</td>\n",
       "      <td>9135149</td>\n",
       "      <td>257891</td>\n",
       "      <td>35749</td>\n",
       "      <td>1216</td>\n",
       "      <td>2.8</td>\n",
       "      <td>Europe</td>\n",
       "    </tr>\n",
       "  </tbody>\n",
       "</table>\n",
       "</div>"
      ],
      "text/plain": [
       "   Country/Region     Cases  Deaths    PCases  PDeaths  Cases (+)  Deaths (+)  \\\n",
       "0              US  47730591  771118  47701872   771013      28719         105   \n",
       "1           India  34518901  465911  34510413   465662       8488         249   \n",
       "2          Brazil  22017276  612659  22012150   612587       5126          72   \n",
       "3  United Kingdom   9897206  144369   9857658   144308      39548          61   \n",
       "4          Russia   9170898  259107   9135149   257891      35749        1216   \n",
       "\n",
       "   Fatality Rate      Continent  \n",
       "0            1.6  North America  \n",
       "1            1.3           Asia  \n",
       "2            2.8  South America  \n",
       "3            1.5         Europe  \n",
       "4            2.8         Europe  "
      ]
     },
     "execution_count": 15,
     "metadata": {},
     "output_type": "execute_result"
    }
   ],
   "source": [
    "#hide\n",
    "df_table = (pd.DataFrame(dict(Cases=dfc_cases, Deaths=dfc_deaths, PCases=dfp_cases, PDeaths=dfp_deaths))\n",
    "             .sort_values(by=['Cases', 'Deaths'], ascending=[False, False])\n",
    "             .reset_index())\n",
    "df_table.rename(columns={'index': 'Country/Region'}, inplace=True)\n",
    "for c in 'Cases, Deaths'.split(', '):\n",
    "    df_table[f'{c} (+)'] = (df_table[c] - df_table[f'P{c}']).clip(0)  # DATA BUG\n",
    "df_table['Fatality Rate'] = (100 * df_table['Deaths'] / df_table['Cases']).round(1)\n",
    "df_table['Continent'] = df_table['Country/Region'].map(mapping['map.continent'])\n",
    "df_table.head(5)"
   ]
  },
  {
   "cell_type": "code",
   "execution_count": 16,
   "id": "fewer-occasion",
   "metadata": {
    "execution": {
     "iopub.execute_input": "2021-11-22T12:13:01.052882Z",
     "iopub.status.busy": "2021-11-22T12:13:01.052191Z",
     "iopub.status.idle": "2021-11-22T12:13:01.054554Z",
     "shell.execute_reply": "2021-11-22T12:13:01.055242Z"
    },
    "papermill": {
     "duration": 0.04819,
     "end_time": "2021-11-22T12:13:01.055395",
     "exception": false,
     "start_time": "2021-11-22T12:13:01.007205",
     "status": "completed"
    },
    "tags": []
   },
   "outputs": [],
   "source": [
    "#hide\n",
    "#delete problematic countries from table\n",
    "df_table = df_table[~df_table['Country/Region'].isin(['Cape Verde', 'Cruise Ship', 'Kosovo'])]"
   ]
  },
  {
   "cell_type": "code",
   "execution_count": 17,
   "id": "related-center",
   "metadata": {
    "execution": {
     "iopub.execute_input": "2021-11-22T12:13:01.165158Z",
     "iopub.status.busy": "2021-11-22T12:13:01.164487Z",
     "iopub.status.idle": "2021-11-22T12:13:01.168519Z",
     "shell.execute_reply": "2021-11-22T12:13:01.169002Z"
    },
    "papermill": {
     "duration": 0.072604,
     "end_time": "2021-11-22T12:13:01.169187",
     "exception": false,
     "start_time": "2021-11-22T12:13:01.096583",
     "status": "completed"
    },
    "tags": []
   },
   "outputs": [],
   "source": [
    "#hide\n",
    "metrics = [df_table.columns[index] for index in [1,2,5,6]]\n",
    "# s_china = df_table[df_table['Country/Region'].eq('China')][metrics].sum().add_prefix('China ')\n",
    "s_us = df_table[df_table['Country/Region'].eq('US')][metrics].sum().add_prefix('US ')\n",
    "s_eu = df_table[df_table['Continent'].eq('Europe')][metrics].sum().add_prefix('EU ')\n",
    "s_ind = df_table[df_table['Country/Region'].eq('India')][metrics].sum().add_prefix('India ')\n",
    "summary = {'updated': pd.to_datetime(dt_today), 'since': pd.to_datetime(dt_yday)}\n",
    "summary = {'updated': pd.to_datetime(dt_today), 'since': pd.to_datetime(dt_yday)}\n",
    "summary = {**summary, **df_table[metrics].sum(), **s_ind, **s_us, **s_eu}"
   ]
  },
  {
   "cell_type": "code",
   "execution_count": 18,
   "id": "engaging-syndrome",
   "metadata": {
    "execution": {
     "iopub.execute_input": "2021-11-22T12:13:01.260310Z",
     "iopub.status.busy": "2021-11-22T12:13:01.259632Z",
     "iopub.status.idle": "2021-11-22T12:13:01.272939Z",
     "shell.execute_reply": "2021-11-22T12:13:01.273493Z"
    },
    "papermill": {
     "duration": 0.063802,
     "end_time": "2021-11-22T12:13:01.273672",
     "exception": false,
     "start_time": "2021-11-22T12:13:01.209870",
     "status": "completed"
    },
    "tags": []
   },
   "outputs": [],
   "source": [
    "#hide\n",
    "dft_ct_new_cases = dft_cases.groupby(COL_REGION)[dt_cols].sum().diff(axis=1).fillna(0).astype(int)"
   ]
  },
  {
   "cell_type": "code",
   "execution_count": 19,
   "id": "neutral-assignment",
   "metadata": {
    "execution": {
     "iopub.execute_input": "2021-11-22T12:13:01.361063Z",
     "iopub.status.busy": "2021-11-22T12:13:01.360378Z",
     "iopub.status.idle": "2021-11-22T12:13:01.363048Z",
     "shell.execute_reply": "2021-11-22T12:13:01.363647Z"
    },
    "papermill": {
     "duration": 0.050826,
     "end_time": "2021-11-22T12:13:01.363824",
     "exception": false,
     "start_time": "2021-11-22T12:13:01.312998",
     "status": "completed"
    },
    "tags": []
   },
   "outputs": [],
   "source": [
    "#hide\n",
    "everydaycases = dft_ct_new_cases.cumsum(axis=1)"
   ]
  },
  {
   "cell_type": "code",
   "execution_count": 20,
   "id": "parliamentary-calgary",
   "metadata": {
    "execution": {
     "iopub.execute_input": "2021-11-22T12:13:01.452235Z",
     "iopub.status.busy": "2021-11-22T12:13:01.448668Z",
     "iopub.status.idle": "2021-11-22T12:13:02.200954Z",
     "shell.execute_reply": "2021-11-22T12:13:02.201496Z"
    },
    "papermill": {
     "duration": 0.796125,
     "end_time": "2021-11-22T12:13:02.201688",
     "exception": false,
     "start_time": "2021-11-22T12:13:01.405563",
     "status": "completed"
    },
    "tags": []
   },
   "outputs": [],
   "source": [
    "#hide\n",
    "import pandas as pd\n",
    "import matplotlib.pyplot as plt\n",
    "import matplotlib.ticker as ticker\n",
    "import matplotlib.animation as animation\n",
    "from IPython.display import HTML"
   ]
  },
  {
   "cell_type": "code",
   "execution_count": 21,
   "id": "lasting-extraction",
   "metadata": {
    "execution": {
     "iopub.execute_input": "2021-11-22T12:13:02.287565Z",
     "iopub.status.busy": "2021-11-22T12:13:02.286868Z",
     "iopub.status.idle": "2021-11-22T12:13:02.293637Z",
     "shell.execute_reply": "2021-11-22T12:13:02.293107Z"
    },
    "papermill": {
     "duration": 0.052529,
     "end_time": "2021-11-22T12:13:02.293802",
     "exception": false,
     "start_time": "2021-11-22T12:13:02.241273",
     "status": "completed"
    },
    "tags": []
   },
   "outputs": [],
   "source": [
    "#hide\n",
    "t = everydaycases.stack()"
   ]
  },
  {
   "cell_type": "code",
   "execution_count": 22,
   "id": "premier-sleeve",
   "metadata": {
    "execution": {
     "iopub.execute_input": "2021-11-22T12:13:02.380390Z",
     "iopub.status.busy": "2021-11-22T12:13:02.379714Z",
     "iopub.status.idle": "2021-11-22T12:13:02.390157Z",
     "shell.execute_reply": "2021-11-22T12:13:02.389612Z"
    },
    "papermill": {
     "duration": 0.055441,
     "end_time": "2021-11-22T12:13:02.390305",
     "exception": false,
     "start_time": "2021-11-22T12:13:02.334864",
     "status": "completed"
    },
    "tags": []
   },
   "outputs": [],
   "source": [
    "#hide\n",
    "g = t.reset_index(['Country/Region'])"
   ]
  },
  {
   "cell_type": "code",
   "execution_count": 23,
   "id": "distributed-pittsburgh",
   "metadata": {
    "execution": {
     "iopub.execute_input": "2021-11-22T12:13:02.475145Z",
     "iopub.status.busy": "2021-11-22T12:13:02.474453Z",
     "iopub.status.idle": "2021-11-22T12:13:02.477181Z",
     "shell.execute_reply": "2021-11-22T12:13:02.476654Z"
    },
    "papermill": {
     "duration": 0.046487,
     "end_time": "2021-11-22T12:13:02.477321",
     "exception": false,
     "start_time": "2021-11-22T12:13:02.430834",
     "status": "completed"
    },
    "tags": []
   },
   "outputs": [],
   "source": [
    "#hide\n",
    "g.index.name = 'date'"
   ]
  },
  {
   "cell_type": "code",
   "execution_count": 24,
   "id": "naked-donor",
   "metadata": {
    "execution": {
     "iopub.execute_input": "2021-11-22T12:13:02.560723Z",
     "iopub.status.busy": "2021-11-22T12:13:02.560038Z",
     "iopub.status.idle": "2021-11-22T12:13:02.562631Z",
     "shell.execute_reply": "2021-11-22T12:13:02.561968Z"
    },
    "papermill": {
     "duration": 0.045746,
     "end_time": "2021-11-22T12:13:02.562768",
     "exception": false,
     "start_time": "2021-11-22T12:13:02.517022",
     "status": "completed"
    },
    "tags": []
   },
   "outputs": [],
   "source": [
    "# #hide\n",
    "# g = g.reset_index(['date'])"
   ]
  },
  {
   "cell_type": "code",
   "execution_count": 25,
   "id": "incomplete-mustang",
   "metadata": {
    "execution": {
     "iopub.execute_input": "2021-11-22T12:13:02.653433Z",
     "iopub.status.busy": "2021-11-22T12:13:02.652777Z",
     "iopub.status.idle": "2021-11-22T12:13:02.655020Z",
     "shell.execute_reply": "2021-11-22T12:13:02.655523Z"
    },
    "papermill": {
     "duration": 0.051621,
     "end_time": "2021-11-22T12:13:02.655679",
     "exception": false,
     "start_time": "2021-11-22T12:13:02.604058",
     "status": "completed"
    },
    "tags": []
   },
   "outputs": [],
   "source": [
    "#hide\n",
    "# g.head()"
   ]
  },
  {
   "cell_type": "code",
   "execution_count": 26,
   "id": "specific-kruger",
   "metadata": {
    "execution": {
     "iopub.execute_input": "2021-11-22T12:13:02.792507Z",
     "iopub.status.busy": "2021-11-22T12:13:02.790816Z",
     "iopub.status.idle": "2021-11-22T12:13:02.795080Z",
     "shell.execute_reply": "2021-11-22T12:13:02.795647Z"
    },
    "papermill": {
     "duration": 0.050773,
     "end_time": "2021-11-22T12:13:02.795824",
     "exception": false,
     "start_time": "2021-11-22T12:13:02.745051",
     "status": "completed"
    },
    "tags": []
   },
   "outputs": [],
   "source": [
    "#hide\n",
    "# g.columns = ['date','country','cases']"
   ]
  },
  {
   "cell_type": "code",
   "execution_count": 27,
   "id": "tender-conversion",
   "metadata": {
    "execution": {
     "iopub.execute_input": "2021-11-22T12:13:02.884205Z",
     "iopub.status.busy": "2021-11-22T12:13:02.883537Z",
     "iopub.status.idle": "2021-11-22T12:13:02.885854Z",
     "shell.execute_reply": "2021-11-22T12:13:02.886359Z"
    },
    "papermill": {
     "duration": 0.046778,
     "end_time": "2021-11-22T12:13:02.886519",
     "exception": false,
     "start_time": "2021-11-22T12:13:02.839741",
     "status": "completed"
    },
    "tags": []
   },
   "outputs": [],
   "source": [
    "#hide\n",
    "# g['continent'] = g.country"
   ]
  },
  {
   "cell_type": "code",
   "execution_count": 28,
   "id": "substantial-wilderness",
   "metadata": {
    "execution": {
     "iopub.execute_input": "2021-11-22T12:13:02.971026Z",
     "iopub.status.busy": "2021-11-22T12:13:02.970283Z",
     "iopub.status.idle": "2021-11-22T12:13:02.972889Z",
     "shell.execute_reply": "2021-11-22T12:13:02.972325Z"
    },
    "papermill": {
     "duration": 0.046444,
     "end_time": "2021-11-22T12:13:02.973060",
     "exception": false,
     "start_time": "2021-11-22T12:13:02.926616",
     "status": "completed"
    },
    "tags": []
   },
   "outputs": [],
   "source": [
    "#hide\n",
    "# cols = list(g.columns.values)"
   ]
  },
  {
   "cell_type": "code",
   "execution_count": 29,
   "id": "solved-farming",
   "metadata": {
    "execution": {
     "iopub.execute_input": "2021-11-22T12:13:03.061015Z",
     "iopub.status.busy": "2021-11-22T12:13:03.060251Z",
     "iopub.status.idle": "2021-11-22T12:13:03.065053Z",
     "shell.execute_reply": "2021-11-22T12:13:03.064367Z"
    },
    "papermill": {
     "duration": 0.050248,
     "end_time": "2021-11-22T12:13:03.065200",
     "exception": false,
     "start_time": "2021-11-22T12:13:03.014952",
     "status": "completed"
    },
    "tags": []
   },
   "outputs": [],
   "source": [
    "#hide\n",
    "# cols.insert(0, cols.pop())"
   ]
  },
  {
   "cell_type": "code",
   "execution_count": 30,
   "id": "executed-adoption",
   "metadata": {
    "execution": {
     "iopub.execute_input": "2021-11-22T12:13:03.152583Z",
     "iopub.status.busy": "2021-11-22T12:13:03.151919Z",
     "iopub.status.idle": "2021-11-22T12:13:03.156661Z",
     "shell.execute_reply": "2021-11-22T12:13:03.156115Z"
    },
    "papermill": {
     "duration": 0.049801,
     "end_time": "2021-11-22T12:13:03.156808",
     "exception": false,
     "start_time": "2021-11-22T12:13:03.107007",
     "status": "completed"
    },
    "tags": []
   },
   "outputs": [],
   "source": [
    "#hide\n",
    "# g = g[cols]"
   ]
  },
  {
   "cell_type": "code",
   "execution_count": 31,
   "id": "subject-dublin",
   "metadata": {
    "execution": {
     "iopub.execute_input": "2021-11-22T12:13:03.240316Z",
     "iopub.status.busy": "2021-11-22T12:13:03.239159Z",
     "iopub.status.idle": "2021-11-22T12:13:03.241803Z",
     "shell.execute_reply": "2021-11-22T12:13:03.242317Z"
    },
    "papermill": {
     "duration": 0.045793,
     "end_time": "2021-11-22T12:13:03.242474",
     "exception": false,
     "start_time": "2021-11-22T12:13:03.196681",
     "status": "completed"
    },
    "tags": []
   },
   "outputs": [],
   "source": [
    "#hide\n",
    "# g['continent'] = g['continent'].map(mapping['map.continent'])"
   ]
  },
  {
   "cell_type": "code",
   "execution_count": 32,
   "id": "freelance-scout",
   "metadata": {
    "execution": {
     "iopub.execute_input": "2021-11-22T12:13:03.326752Z",
     "iopub.status.busy": "2021-11-22T12:13:03.325965Z",
     "iopub.status.idle": "2021-11-22T12:13:03.330276Z",
     "shell.execute_reply": "2021-11-22T12:13:03.329710Z"
    },
    "papermill": {
     "duration": 0.048229,
     "end_time": "2021-11-22T12:13:03.330414",
     "exception": false,
     "start_time": "2021-11-22T12:13:03.282185",
     "status": "completed"
    },
    "tags": []
   },
   "outputs": [],
   "source": [
    "#hide\n",
    "# g.head()"
   ]
  },
  {
   "cell_type": "code",
   "execution_count": 33,
   "id": "limited-engine",
   "metadata": {
    "execution": {
     "iopub.execute_input": "2021-11-22T12:13:03.414303Z",
     "iopub.status.busy": "2021-11-22T12:13:03.413641Z",
     "iopub.status.idle": "2021-11-22T12:13:03.417325Z",
     "shell.execute_reply": "2021-11-22T12:13:03.417905Z"
    },
    "papermill": {
     "duration": 0.048178,
     "end_time": "2021-11-22T12:13:03.418066",
     "exception": false,
     "start_time": "2021-11-22T12:13:03.369888",
     "status": "completed"
    },
    "tags": []
   },
   "outputs": [],
   "source": [
    "# hide\n",
    "# g['date'] = g['date'].astype('datetime64[ns]')"
   ]
  },
  {
   "cell_type": "code",
   "execution_count": 34,
   "id": "sophisticated-supervisor",
   "metadata": {
    "execution": {
     "iopub.execute_input": "2021-11-22T12:13:03.502290Z",
     "iopub.status.busy": "2021-11-22T12:13:03.501619Z",
     "iopub.status.idle": "2021-11-22T12:13:03.506162Z",
     "shell.execute_reply": "2021-11-22T12:13:03.505619Z"
    },
    "papermill": {
     "duration": 0.047854,
     "end_time": "2021-11-22T12:13:03.506289",
     "exception": false,
     "start_time": "2021-11-22T12:13:03.458435",
     "status": "completed"
    },
    "tags": []
   },
   "outputs": [],
   "source": [
    "#hide\n",
    "# g['date'] = g.date.dt.dayofyear"
   ]
  },
  {
   "cell_type": "code",
   "execution_count": 35,
   "id": "inside-dubai",
   "metadata": {
    "execution": {
     "iopub.execute_input": "2021-11-22T12:13:03.589187Z",
     "iopub.status.busy": "2021-11-22T12:13:03.588516Z",
     "iopub.status.idle": "2021-11-22T12:13:03.591579Z",
     "shell.execute_reply": "2021-11-22T12:13:03.592145Z"
    },
    "papermill": {
     "duration": 0.046967,
     "end_time": "2021-11-22T12:13:03.592287",
     "exception": false,
     "start_time": "2021-11-22T12:13:03.545320",
     "status": "completed"
    },
    "tags": []
   },
   "outputs": [],
   "source": [
    "#hide\n",
    "# g = g.rename(columns= {'continent':'group','country':'name','cases':'value'})"
   ]
  },
  {
   "cell_type": "code",
   "execution_count": 36,
   "id": "fleet-motorcycle",
   "metadata": {
    "execution": {
     "iopub.execute_input": "2021-11-22T12:13:03.674241Z",
     "iopub.status.busy": "2021-11-22T12:13:03.673550Z",
     "iopub.status.idle": "2021-11-22T12:13:03.676160Z",
     "shell.execute_reply": "2021-11-22T12:13:03.675488Z"
    },
    "papermill": {
     "duration": 0.045624,
     "end_time": "2021-11-22T12:13:03.676321",
     "exception": false,
     "start_time": "2021-11-22T12:13:03.630697",
     "status": "completed"
    },
    "tags": []
   },
   "outputs": [],
   "source": [
    "#hide\n",
    "# cols = ['name','group','day','value']"
   ]
  },
  {
   "cell_type": "code",
   "execution_count": 37,
   "id": "continued-sleeping",
   "metadata": {
    "execution": {
     "iopub.execute_input": "2021-11-22T12:13:03.760910Z",
     "iopub.status.busy": "2021-11-22T12:13:03.760242Z",
     "iopub.status.idle": "2021-11-22T12:13:03.762569Z",
     "shell.execute_reply": "2021-11-22T12:13:03.763124Z"
    },
    "papermill": {
     "duration": 0.046283,
     "end_time": "2021-11-22T12:13:03.763284",
     "exception": false,
     "start_time": "2021-11-22T12:13:03.717001",
     "status": "completed"
    },
    "tags": []
   },
   "outputs": [],
   "source": [
    "#hide\n",
    "# g.rename(columns= {'date':'day'},inplace = True)"
   ]
  },
  {
   "cell_type": "code",
   "execution_count": 38,
   "id": "major-fight",
   "metadata": {
    "execution": {
     "iopub.execute_input": "2021-11-22T12:13:03.848513Z",
     "iopub.status.busy": "2021-11-22T12:13:03.847843Z",
     "iopub.status.idle": "2021-11-22T12:13:03.850425Z",
     "shell.execute_reply": "2021-11-22T12:13:03.849869Z"
    },
    "papermill": {
     "duration": 0.047231,
     "end_time": "2021-11-22T12:13:03.850562",
     "exception": false,
     "start_time": "2021-11-22T12:13:03.803331",
     "status": "completed"
    },
    "tags": []
   },
   "outputs": [],
   "source": [
    "#hide\n",
    "# g = g[cols]"
   ]
  },
  {
   "cell_type": "code",
   "execution_count": 39,
   "id": "structured-mobile",
   "metadata": {
    "execution": {
     "iopub.execute_input": "2021-11-22T12:13:03.943207Z",
     "iopub.status.busy": "2021-11-22T12:13:03.942465Z",
     "iopub.status.idle": "2021-11-22T12:13:03.945055Z",
     "shell.execute_reply": "2021-11-22T12:13:03.945858Z"
    },
    "papermill": {
     "duration": 0.053242,
     "end_time": "2021-11-22T12:13:03.946116",
     "exception": false,
     "start_time": "2021-11-22T12:13:03.892874",
     "status": "completed"
    },
    "tags": []
   },
   "outputs": [],
   "source": [
    "# #hide\n",
    "# g = g[g.group.notna()]"
   ]
  },
  {
   "cell_type": "code",
   "execution_count": 40,
   "id": "determined-closing",
   "metadata": {
    "execution": {
     "iopub.execute_input": "2021-11-22T12:13:04.036809Z",
     "iopub.status.busy": "2021-11-22T12:13:04.036130Z",
     "iopub.status.idle": "2021-11-22T12:13:04.040522Z",
     "shell.execute_reply": "2021-11-22T12:13:04.041041Z"
    },
    "papermill": {
     "duration": 0.048924,
     "end_time": "2021-11-22T12:13:04.041209",
     "exception": false,
     "start_time": "2021-11-22T12:13:03.992285",
     "status": "completed"
    },
    "tags": []
   },
   "outputs": [],
   "source": [
    "# #hide\n",
    "# colors = dict(zip(\n",
    "#     [\"Oceania\", \"Europe\", \"Asia\", \"South America\", \"Middle East\", \"North America\", \"Africa\"],\n",
    "#     [\"#adb0ff\", \"#ffb3ff\", \"#90d595\", \"#e48381\", \"#aafbff\", \"#f7bb5f\", \"#eafb50\"]\n",
    "# ))\n",
    "# group_lk = g.set_index('name')['group'].to_dict()"
   ]
  },
  {
   "cell_type": "code",
   "execution_count": null,
   "id": "gross-drinking",
   "metadata": {
    "papermill": {
     "duration": 0.050572,
     "end_time": "2021-11-22T12:13:04.132610",
     "exception": false,
     "start_time": "2021-11-22T12:13:04.082038",
     "status": "completed"
    },
    "tags": []
   },
   "outputs": [],
   "source": []
  },
  {
   "cell_type": "code",
   "execution_count": 41,
   "id": "subject-macintosh",
   "metadata": {
    "execution": {
     "iopub.execute_input": "2021-11-22T12:13:04.221791Z",
     "iopub.status.busy": "2021-11-22T12:13:04.221107Z",
     "iopub.status.idle": "2021-11-22T12:13:04.223636Z",
     "shell.execute_reply": "2021-11-22T12:13:04.222976Z"
    },
    "papermill": {
     "duration": 0.049979,
     "end_time": "2021-11-22T12:13:04.223777",
     "exception": false,
     "start_time": "2021-11-22T12:13:04.173798",
     "status": "completed"
    },
    "tags": []
   },
   "outputs": [],
   "source": [
    "# #hide\n",
    "# fig, ax = plt.subplots(figsize=(15, 8))\n",
    "\n",
    "# def draw_barchart(current_day):\n",
    "#     dff = g[g['day'].eq(current_day)].sort_values(by='value', ascending=True).tail(10)\n",
    "#     ax.clear()\n",
    "#     ax.barh(dff['name'], dff['value'], color=[colors[group_lk[x]] for x in dff['name']])\n",
    "#     dx = dff['value'].max() / 200\n",
    "    \n",
    "#     for i, (value, name) in enumerate(zip(dff['value'], dff['name'])):\n",
    "#         ax.text(value-dx, i,     name,           size=14, weight=600, ha='right', va='bottom')\n",
    "#         ax.text(value-dx, i-.25, group_lk[name], size=10, color='#444444', ha='right', va='baseline')\n",
    "#         ax.text(value+dx, i,     f'{value:,.0f}',  size=14, ha='left',  va='center')\n",
    "#     ax.text(1, 0.4, current_day, transform=ax.transAxes, color='#777777', size=46, ha='right', weight=800)\n",
    "#     ax.text(0, 1.06, 'Population (thousands)', transform=ax.transAxes, size=12, color='#777777')\n",
    "#     ax.xaxis.set_major_formatter(ticker.StrMethodFormatter('{x:,.0f}'))\n",
    "#     ax.xaxis.set_ticks_position('top')\n",
    "#     ax.tick_params(axis='x', colors='#777777', labelsize=12)\n",
    "#     ax.set_yticks([])\n",
    "#     ax.margins(0, 0.01)\n",
    "#     ax.grid(which='major', axis='x', linestyle='-')\n",
    "#     ax.set_axisbelow(True)\n",
    "    \n",
    "#     ax.text(0, 1.15, 'Coronavirus',\n",
    "#             transform=ax.transAxes, size=24, weight=600, ha='left', va='top')\n",
    "# #     ax.text(1, 0, 'by @pratapvardhan; credit @jburnmurdoch', transform=ax.transAxes, color='#777777', ha='right',\n",
    "# #             bbox=dict(facecolor='white', alpha=0.8, edgecolor='white'))\n",
    "#     plt.box(False)"
   ]
  },
  {
   "cell_type": "code",
   "execution_count": 42,
   "id": "sexual-wages",
   "metadata": {
    "execution": {
     "iopub.execute_input": "2021-11-22T12:13:04.307516Z",
     "iopub.status.busy": "2021-11-22T12:13:04.306814Z",
     "iopub.status.idle": "2021-11-22T12:13:04.310189Z",
     "shell.execute_reply": "2021-11-22T12:13:04.309653Z"
    },
    "papermill": {
     "duration": 0.046403,
     "end_time": "2021-11-22T12:13:04.310333",
     "exception": false,
     "start_time": "2021-11-22T12:13:04.263930",
     "status": "completed"
    },
    "tags": []
   },
   "outputs": [],
   "source": [
    "# #hide_input\n",
    "# fig, ax = plt.subplots(figsize=(15, 8))\n",
    "# animator = animation.FuncAnimation(fig, draw_barchart, frames=range(g.day.values.min(), g.day.values.max()))\n",
    "# HTML(animator.to_jshtml())\n",
    "# # or use animator.to_html5_video() or animator.save() "
   ]
  },
  {
   "cell_type": "code",
   "execution_count": null,
   "id": "australian-container",
   "metadata": {
    "papermill": {
     "duration": 0.041035,
     "end_time": "2021-11-22T12:13:04.393777",
     "exception": false,
     "start_time": "2021-11-22T12:13:04.352742",
     "status": "completed"
    },
    "tags": []
   },
   "outputs": [],
   "source": []
  },
  {
   "cell_type": "code",
   "execution_count": null,
   "id": "mediterranean-pontiac",
   "metadata": {
    "papermill": {
     "duration": 0.040922,
     "end_time": "2021-11-22T12:13:04.483208",
     "exception": false,
     "start_time": "2021-11-22T12:13:04.442286",
     "status": "completed"
    },
    "tags": []
   },
   "outputs": [],
   "source": []
  },
  {
   "cell_type": "code",
   "execution_count": null,
   "id": "aging-legislature",
   "metadata": {
    "papermill": {
     "duration": 0.039369,
     "end_time": "2021-11-22T12:13:04.562423",
     "exception": false,
     "start_time": "2021-11-22T12:13:04.523054",
     "status": "completed"
    },
    "tags": []
   },
   "outputs": [],
   "source": []
  }
 ],
 "metadata": {
  "kernelspec": {
   "display_name": "Python 3",
   "language": "python",
   "name": "python3"
  },
  "language_info": {
   "codemirror_mode": {
    "name": "ipython",
    "version": 3
   },
   "file_extension": ".py",
   "mimetype": "text/x-python",
   "name": "python",
   "nbconvert_exporter": "python",
   "pygments_lexer": "ipython3",
   "version": "3.6.15"
  },
  "papermill": {
   "duration": 7.686493,
   "end_time": "2021-11-22T12:13:05.010203",
   "environment_variables": {},
   "exception": null,
   "input_path": "2020-03-21-covid19exp.ipynb",
   "output_path": "2020-03-21-covid19exp.ipynb",
   "parameters": {},
   "start_time": "2021-11-22T12:12:57.323710",
   "version": "2.0.0"
  }
 },
 "nbformat": 4,
 "nbformat_minor": 5
}