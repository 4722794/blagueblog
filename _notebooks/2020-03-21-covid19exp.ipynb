{
 "cells": [
  {
   "cell_type": "markdown",
   "id": "muslim-click",
   "metadata": {
    "papermill": {
     "duration": 0.043304,
     "end_time": "2022-02-13T00:29:46.807767",
     "exception": false,
     "start_time": "2022-02-13T00:29:46.764463",
     "status": "completed"
    },
    "tags": []
   },
   "source": [
    "# COVID-19 Case Race\n",
    "> A race chart to see rising cases around the world\n",
    "\n",
    "- author: Hargun Oberoi\n",
    "- image: images/covid-overview.png\n",
    "- hide: false\n",
    "- badges: false"
   ]
  },
  {
   "cell_type": "code",
   "execution_count": 1,
   "id": "proof-material",
   "metadata": {
    "execution": {
     "iopub.execute_input": "2022-02-13T00:29:46.898809Z",
     "iopub.status.busy": "2022-02-13T00:29:46.898080Z",
     "iopub.status.idle": "2022-02-13T00:29:47.298867Z",
     "shell.execute_reply": "2022-02-13T00:29:47.298236Z"
    },
    "papermill": {
     "duration": 0.451715,
     "end_time": "2022-02-13T00:29:47.299063",
     "exception": false,
     "start_time": "2022-02-13T00:29:46.847348",
     "status": "completed"
    },
    "tags": []
   },
   "outputs": [],
   "source": [
    "#hide\n",
    "import numpy as np\n",
    "import pandas as pd\n",
    "from jinja2 import Template\n",
    "from IPython.display import HTML"
   ]
  },
  {
   "cell_type": "code",
   "execution_count": 2,
   "id": "developed-terminology",
   "metadata": {
    "execution": {
     "iopub.execute_input": "2022-02-13T00:29:47.380055Z",
     "iopub.status.busy": "2022-02-13T00:29:47.379400Z",
     "iopub.status.idle": "2022-02-13T00:29:47.381929Z",
     "shell.execute_reply": "2022-02-13T00:29:47.381394Z"
    },
    "papermill": {
     "duration": 0.042721,
     "end_time": "2022-02-13T00:29:47.382056",
     "exception": false,
     "start_time": "2022-02-13T00:29:47.339335",
     "status": "completed"
    },
    "tags": []
   },
   "outputs": [],
   "source": [
    "#hide\n",
    "\n",
    "# FETCH\n",
    "base_url = 'https://raw.githubusercontent.com/pratapvardhan/notebooks/master/covid19/'\n",
    "paths = {\n",
    "    'mapping': base_url + 'mapping_countries.csv',\n",
    "    'overview': base_url + 'overview.tpl'\n",
    "}"
   ]
  },
  {
   "cell_type": "code",
   "execution_count": 3,
   "id": "dynamic-saver",
   "metadata": {
    "execution": {
     "iopub.execute_input": "2022-02-13T00:29:47.465726Z",
     "iopub.status.busy": "2022-02-13T00:29:47.465054Z",
     "iopub.status.idle": "2022-02-13T00:29:47.467857Z",
     "shell.execute_reply": "2022-02-13T00:29:47.468372Z"
    },
    "papermill": {
     "duration": 0.049518,
     "end_time": "2022-02-13T00:29:47.468515",
     "exception": false,
     "start_time": "2022-02-13T00:29:47.418997",
     "status": "completed"
    },
    "tags": []
   },
   "outputs": [
    {
     "data": {
      "text/plain": [
       "'https://raw.githubusercontent.com/pratapvardhan/notebooks/master/covid19/mapping_countries.csv'"
      ]
     },
     "execution_count": 3,
     "metadata": {},
     "output_type": "execute_result"
    }
   ],
   "source": [
    "#hide\n",
    "paths['mapping']"
   ]
  },
  {
   "cell_type": "code",
   "execution_count": 4,
   "id": "urban-software",
   "metadata": {
    "execution": {
     "iopub.execute_input": "2022-02-13T00:29:47.553421Z",
     "iopub.status.busy": "2022-02-13T00:29:47.552691Z",
     "iopub.status.idle": "2022-02-13T00:29:47.556520Z",
     "shell.execute_reply": "2022-02-13T00:29:47.556015Z"
    },
    "papermill": {
     "duration": 0.053246,
     "end_time": "2022-02-13T00:29:47.556646",
     "exception": false,
     "start_time": "2022-02-13T00:29:47.503400",
     "status": "completed"
    },
    "tags": []
   },
   "outputs": [],
   "source": [
    "#hide\n",
    "def get_mappings(url):\n",
    "    df = pd.read_csv(url)\n",
    "    return {\n",
    "        'df': df,\n",
    "        'replace.country': dict(df.dropna(subset=['Name']).set_index('Country')['Name']),\n",
    "        'map.continent': dict(df.set_index('Name')['Continent'])\n",
    "    }"
   ]
  },
  {
   "cell_type": "code",
   "execution_count": 5,
   "id": "intimate-machinery",
   "metadata": {
    "execution": {
     "iopub.execute_input": "2022-02-13T00:29:47.631192Z",
     "iopub.status.busy": "2022-02-13T00:29:47.630479Z",
     "iopub.status.idle": "2022-02-13T00:29:47.668178Z",
     "shell.execute_reply": "2022-02-13T00:29:47.668703Z"
    },
    "papermill": {
     "duration": 0.077596,
     "end_time": "2022-02-13T00:29:47.668863",
     "exception": false,
     "start_time": "2022-02-13T00:29:47.591267",
     "status": "completed"
    },
    "tags": []
   },
   "outputs": [],
   "source": [
    "#hide\n",
    "mapping = get_mappings(paths['mapping'])"
   ]
  },
  {
   "cell_type": "code",
   "execution_count": 6,
   "id": "certified-tactics",
   "metadata": {
    "execution": {
     "iopub.execute_input": "2022-02-13T00:29:47.746890Z",
     "iopub.status.busy": "2022-02-13T00:29:47.746180Z",
     "iopub.status.idle": "2022-02-13T00:29:47.748671Z",
     "shell.execute_reply": "2022-02-13T00:29:47.748085Z"
    },
    "papermill": {
     "duration": 0.04437,
     "end_time": "2022-02-13T00:29:47.748791",
     "exception": false,
     "start_time": "2022-02-13T00:29:47.704421",
     "status": "completed"
    },
    "tags": []
   },
   "outputs": [],
   "source": [
    "#hide\n",
    "def get_template(path):\n",
    "    from urllib.parse import urlparse\n",
    "    if bool(urlparse(path).netloc):\n",
    "        from urllib.request import urlopen\n",
    "        return urlopen(path).read().decode('utf8')\n",
    "    return open(path).read()"
   ]
  },
  {
   "cell_type": "code",
   "execution_count": 7,
   "id": "realistic-blast",
   "metadata": {
    "execution": {
     "iopub.execute_input": "2022-02-13T00:29:47.827781Z",
     "iopub.status.busy": "2022-02-13T00:29:47.827101Z",
     "iopub.status.idle": "2022-02-13T00:29:47.829032Z",
     "shell.execute_reply": "2022-02-13T00:29:47.829534Z"
    },
    "papermill": {
     "duration": 0.0474,
     "end_time": "2022-02-13T00:29:47.829685",
     "exception": false,
     "start_time": "2022-02-13T00:29:47.782285",
     "status": "completed"
    },
    "tags": []
   },
   "outputs": [],
   "source": [
    "#hide\n",
    "def get_frame(name):\n",
    "    url = (\n",
    "        'https://raw.githubusercontent.com/CSSEGISandData/COVID-19/master/csse_covid_19_data/'\n",
    "        f'csse_covid_19_time_series/time_series_covid19_{name}_global.csv')\n",
    "    df = pd.read_csv(url)\n",
    "    # rename countries\n",
    "    df['Country/Region'] = df['Country/Region'].replace(mapping['replace.country'])\n",
    "    return df"
   ]
  },
  {
   "cell_type": "code",
   "execution_count": 8,
   "id": "affiliated-characterization",
   "metadata": {
    "execution": {
     "iopub.execute_input": "2022-02-13T00:29:47.908891Z",
     "iopub.status.busy": "2022-02-13T00:29:47.908203Z",
     "iopub.status.idle": "2022-02-13T00:29:47.910307Z",
     "shell.execute_reply": "2022-02-13T00:29:47.910810Z"
    },
    "papermill": {
     "duration": 0.045454,
     "end_time": "2022-02-13T00:29:47.910963",
     "exception": false,
     "start_time": "2022-02-13T00:29:47.865509",
     "status": "completed"
    },
    "tags": []
   },
   "outputs": [],
   "source": [
    "#hide\n",
    "def get_dates(df):\n",
    "    dt_cols = df.columns[~df.columns.isin(['Province/State', 'Country/Region', 'Lat', 'Long'])]\n",
    "    LAST_DATE_I = -1\n",
    "    # sometimes last column may be empty, then go backwards\n",
    "    for i in range(-1, -len(dt_cols), -1):\n",
    "        if not df[dt_cols[i]].fillna(0).eq(0).all():\n",
    "            LAST_DATE_I = i\n",
    "            break\n",
    "    return LAST_DATE_I, dt_cols"
   ]
  },
  {
   "cell_type": "code",
   "execution_count": 9,
   "id": "recent-optimization",
   "metadata": {
    "execution": {
     "iopub.execute_input": "2022-02-13T00:29:47.991906Z",
     "iopub.status.busy": "2022-02-13T00:29:47.991219Z",
     "iopub.status.idle": "2022-02-13T00:29:48.456106Z",
     "shell.execute_reply": "2022-02-13T00:29:48.455491Z"
    },
    "papermill": {
     "duration": 0.504891,
     "end_time": "2022-02-13T00:29:48.456257",
     "exception": false,
     "start_time": "2022-02-13T00:29:47.951366",
     "status": "completed"
    },
    "tags": []
   },
   "outputs": [],
   "source": [
    "#hide\n",
    "COL_REGION = 'Country/Region'\n",
    "# Confirmed, Recovered, Deaths\n",
    "df = get_frame('confirmed')\n",
    "# dft_: timeseries, dfc_: today country agg\n",
    "dft_cases = df\n",
    "dft_deaths = get_frame('deaths')\n",
    "dft_recovered = get_frame('recovered')\n",
    "LAST_DATE_I, dt_cols = get_dates(df)"
   ]
  },
  {
   "cell_type": "code",
   "execution_count": 10,
   "id": "absolute-copper",
   "metadata": {
    "execution": {
     "iopub.execute_input": "2022-02-13T00:29:48.535436Z",
     "iopub.status.busy": "2022-02-13T00:29:48.534739Z",
     "iopub.status.idle": "2022-02-13T00:29:48.536876Z",
     "shell.execute_reply": "2022-02-13T00:29:48.537463Z"
    },
    "papermill": {
     "duration": 0.04417,
     "end_time": "2022-02-13T00:29:48.537621",
     "exception": false,
     "start_time": "2022-02-13T00:29:48.493451",
     "status": "completed"
    },
    "tags": []
   },
   "outputs": [],
   "source": [
    "#hide\n",
    "LAST_DATE_I, dt_cols = get_dates(df)\n",
    "dt_today =dt_cols[LAST_DATE_I]\n",
    "# dt_5day = dt_cols[LAST_DATE_I - 5]\n",
    "dt_yday = dt_cols[LAST_DATE_I - 1]"
   ]
  },
  {
   "cell_type": "code",
   "execution_count": 11,
   "id": "restricted-sheriff",
   "metadata": {
    "execution": {
     "iopub.execute_input": "2022-02-13T00:29:48.618344Z",
     "iopub.status.busy": "2022-02-13T00:29:48.617694Z",
     "iopub.status.idle": "2022-02-13T00:29:48.627524Z",
     "shell.execute_reply": "2022-02-13T00:29:48.627029Z"
    },
    "papermill": {
     "duration": 0.050442,
     "end_time": "2022-02-13T00:29:48.627648",
     "exception": false,
     "start_time": "2022-02-13T00:29:48.577206",
     "status": "completed"
    },
    "tags": []
   },
   "outputs": [],
   "source": [
    "#hide\n",
    "dfc_cases = dft_cases.groupby(COL_REGION)[dt_today].sum()\n",
    "dfc_deaths = dft_deaths.groupby(COL_REGION)[dt_today].sum()\n",
    "# dfp_cases = dft_cases.groupby(COL_REGION)[dt_5day].sum()\n",
    "# dfp_deaths = dft_deaths.groupby(COL_REGION)[dt_5day].sum()\n",
    "dfp_cases = dft_cases.groupby(COL_REGION)[dt_yday].sum()\n",
    "dfp_deaths = dft_deaths.groupby(COL_REGION)[dt_yday].sum()"
   ]
  },
  {
   "cell_type": "code",
   "execution_count": 12,
   "id": "deluxe-hepatitis",
   "metadata": {
    "execution": {
     "iopub.execute_input": "2022-02-13T00:29:48.710003Z",
     "iopub.status.busy": "2022-02-13T00:29:48.709322Z",
     "iopub.status.idle": "2022-02-13T00:29:48.714245Z",
     "shell.execute_reply": "2022-02-13T00:29:48.714977Z"
    },
    "papermill": {
     "duration": 0.049379,
     "end_time": "2022-02-13T00:29:48.715160",
     "exception": false,
     "start_time": "2022-02-13T00:29:48.665781",
     "status": "completed"
    },
    "tags": []
   },
   "outputs": [],
   "source": [
    "#hide\n",
    "df_table = (pd.DataFrame(dict(Cases = dfc_cases, Deaths = dfc_deaths, PCases = dfp_cases, PDeaths = dfp_deaths))\n",
    "            .sort_values(by = ['Cases','Deaths'], ascending = [False, False])\n",
    "            .reset_index())"
   ]
  },
  {
   "cell_type": "code",
   "execution_count": 13,
   "id": "educational-chancellor",
   "metadata": {
    "execution": {
     "iopub.execute_input": "2022-02-13T00:29:48.807371Z",
     "iopub.status.busy": "2022-02-13T00:29:48.806704Z",
     "iopub.status.idle": "2022-02-13T00:29:48.815536Z",
     "shell.execute_reply": "2022-02-13T00:29:48.816412Z"
    },
    "papermill": {
     "duration": 0.067353,
     "end_time": "2022-02-13T00:29:48.816579",
     "exception": false,
     "start_time": "2022-02-13T00:29:48.749226",
     "status": "completed"
    },
    "tags": []
   },
   "outputs": [
    {
     "data": {
      "text/html": [
       "<div>\n",
       "<style scoped>\n",
       "    .dataframe tbody tr th:only-of-type {\n",
       "        vertical-align: middle;\n",
       "    }\n",
       "\n",
       "    .dataframe tbody tr th {\n",
       "        vertical-align: top;\n",
       "    }\n",
       "\n",
       "    .dataframe thead th {\n",
       "        text-align: right;\n",
       "    }\n",
       "</style>\n",
       "<table border=\"1\" class=\"dataframe\">\n",
       "  <thead>\n",
       "    <tr style=\"text-align: right;\">\n",
       "      <th></th>\n",
       "      <th>Country/Region</th>\n",
       "      <th>Cases</th>\n",
       "      <th>Deaths</th>\n",
       "      <th>PCases</th>\n",
       "      <th>PDeaths</th>\n",
       "      <th>Cases (+)</th>\n",
       "      <th>Deaths (+)</th>\n",
       "      <th>Fatality Rate</th>\n",
       "      <th>Continent</th>\n",
       "    </tr>\n",
       "  </thead>\n",
       "  <tbody>\n",
       "    <tr>\n",
       "      <th>0</th>\n",
       "      <td>US</td>\n",
       "      <td>77650446</td>\n",
       "      <td>918451</td>\n",
       "      <td>77441181</td>\n",
       "      <td>915847</td>\n",
       "      <td>209265</td>\n",
       "      <td>2604</td>\n",
       "      <td>1.18</td>\n",
       "      <td>North America</td>\n",
       "    </tr>\n",
       "    <tr>\n",
       "      <th>1</th>\n",
       "      <td>India</td>\n",
       "      <td>42586544</td>\n",
       "      <td>507981</td>\n",
       "      <td>42536137</td>\n",
       "      <td>507177</td>\n",
       "      <td>50407</td>\n",
       "      <td>804</td>\n",
       "      <td>1.19</td>\n",
       "      <td>Asia</td>\n",
       "    </tr>\n",
       "    <tr>\n",
       "      <th>2</th>\n",
       "      <td>Brazil</td>\n",
       "      <td>27299336</td>\n",
       "      <td>637467</td>\n",
       "      <td>27135550</td>\n",
       "      <td>636338</td>\n",
       "      <td>163786</td>\n",
       "      <td>1129</td>\n",
       "      <td>2.34</td>\n",
       "      <td>South America</td>\n",
       "    </tr>\n",
       "    <tr>\n",
       "      <th>3</th>\n",
       "      <td>France</td>\n",
       "      <td>21646561</td>\n",
       "      <td>135534</td>\n",
       "      <td>21511997</td>\n",
       "      <td>135264</td>\n",
       "      <td>134564</td>\n",
       "      <td>270</td>\n",
       "      <td>0.63</td>\n",
       "      <td>Europe</td>\n",
       "    </tr>\n",
       "    <tr>\n",
       "      <th>4</th>\n",
       "      <td>United Kingdom</td>\n",
       "      <td>18346553</td>\n",
       "      <td>159909</td>\n",
       "      <td>18287720</td>\n",
       "      <td>159713</td>\n",
       "      <td>58833</td>\n",
       "      <td>196</td>\n",
       "      <td>0.87</td>\n",
       "      <td>Europe</td>\n",
       "    </tr>\n",
       "  </tbody>\n",
       "</table>\n",
       "</div>"
      ],
      "text/plain": [
       "   Country/Region     Cases  Deaths    PCases  PDeaths  Cases (+)  Deaths (+)  \\\n",
       "0              US  77650446  918451  77441181   915847     209265        2604   \n",
       "1           India  42586544  507981  42536137   507177      50407         804   \n",
       "2          Brazil  27299336  637467  27135550   636338     163786        1129   \n",
       "3          France  21646561  135534  21511997   135264     134564         270   \n",
       "4  United Kingdom  18346553  159909  18287720   159713      58833         196   \n",
       "\n",
       "   Fatality Rate      Continent  \n",
       "0           1.18  North America  \n",
       "1           1.19           Asia  \n",
       "2           2.34  South America  \n",
       "3           0.63         Europe  \n",
       "4           0.87         Europe  "
      ]
     },
     "execution_count": 13,
     "metadata": {},
     "output_type": "execute_result"
    }
   ],
   "source": [
    "#hide\n",
    "for c in 'Cases, Deaths'.split(', '):\n",
    "    df_table[f'{c} (+)'] = (df_table[c] - df_table[f'P{c}']).clip(0)\n",
    "    #Clip ça veut dire, les chiffres negatif sont interdit\n",
    "df_table['Fatality Rate'] = (100* df_table['Deaths']/ df_table['Cases']).round(2)\n",
    "df_table['Continent'] = df_table['Country/Region'].map(mapping['map.continent'])\n",
    "df_table.head(5)"
   ]
  },
  {
   "cell_type": "code",
   "execution_count": 14,
   "id": "aboriginal-bulgaria",
   "metadata": {
    "execution": {
     "iopub.execute_input": "2022-02-13T00:29:48.894111Z",
     "iopub.status.busy": "2022-02-13T00:29:48.893363Z",
     "iopub.status.idle": "2022-02-13T00:29:48.896471Z",
     "shell.execute_reply": "2022-02-13T00:29:48.895870Z"
    },
    "papermill": {
     "duration": 0.044371,
     "end_time": "2022-02-13T00:29:48.896608",
     "exception": false,
     "start_time": "2022-02-13T00:29:48.852237",
     "status": "completed"
    },
    "tags": []
   },
   "outputs": [],
   "source": [
    "#hide\n",
    "#delete problematic countries from table\n",
    "df_table = df_table[~df_table['Country/Region'].isin(['Cape Verde', 'Cruise Ship', 'Kosovo'])]"
   ]
  },
  {
   "cell_type": "code",
   "execution_count": 15,
   "id": "fantastic-effect",
   "metadata": {
    "execution": {
     "iopub.execute_input": "2022-02-13T00:29:48.975052Z",
     "iopub.status.busy": "2022-02-13T00:29:48.974333Z",
     "iopub.status.idle": "2022-02-13T00:29:48.998761Z",
     "shell.execute_reply": "2022-02-13T00:29:48.998227Z"
    },
    "papermill": {
     "duration": 0.067343,
     "end_time": "2022-02-13T00:29:48.998891",
     "exception": false,
     "start_time": "2022-02-13T00:29:48.931548",
     "status": "completed"
    },
    "tags": []
   },
   "outputs": [
    {
     "data": {
      "text/html": [
       "<div>\n",
       "<style scoped>\n",
       "    .dataframe tbody tr th:only-of-type {\n",
       "        vertical-align: middle;\n",
       "    }\n",
       "\n",
       "    .dataframe tbody tr th {\n",
       "        vertical-align: top;\n",
       "    }\n",
       "\n",
       "    .dataframe thead th {\n",
       "        text-align: right;\n",
       "    }\n",
       "</style>\n",
       "<table border=\"1\" class=\"dataframe\">\n",
       "  <thead>\n",
       "    <tr style=\"text-align: right;\">\n",
       "      <th></th>\n",
       "      <th>Country/Region</th>\n",
       "      <th>Cases</th>\n",
       "      <th>Deaths</th>\n",
       "      <th>PCases</th>\n",
       "      <th>PDeaths</th>\n",
       "      <th>Cases (+)</th>\n",
       "      <th>Deaths (+)</th>\n",
       "      <th>Fatality Rate</th>\n",
       "      <th>Continent</th>\n",
       "    </tr>\n",
       "  </thead>\n",
       "  <tbody>\n",
       "    <tr>\n",
       "      <th>0</th>\n",
       "      <td>US</td>\n",
       "      <td>77650446</td>\n",
       "      <td>918451</td>\n",
       "      <td>77441181</td>\n",
       "      <td>915847</td>\n",
       "      <td>209265</td>\n",
       "      <td>2604</td>\n",
       "      <td>1.2</td>\n",
       "      <td>North America</td>\n",
       "    </tr>\n",
       "    <tr>\n",
       "      <th>1</th>\n",
       "      <td>India</td>\n",
       "      <td>42586544</td>\n",
       "      <td>507981</td>\n",
       "      <td>42536137</td>\n",
       "      <td>507177</td>\n",
       "      <td>50407</td>\n",
       "      <td>804</td>\n",
       "      <td>1.2</td>\n",
       "      <td>Asia</td>\n",
       "    </tr>\n",
       "    <tr>\n",
       "      <th>2</th>\n",
       "      <td>Brazil</td>\n",
       "      <td>27299336</td>\n",
       "      <td>637467</td>\n",
       "      <td>27135550</td>\n",
       "      <td>636338</td>\n",
       "      <td>163786</td>\n",
       "      <td>1129</td>\n",
       "      <td>2.3</td>\n",
       "      <td>South America</td>\n",
       "    </tr>\n",
       "    <tr>\n",
       "      <th>3</th>\n",
       "      <td>France</td>\n",
       "      <td>21646561</td>\n",
       "      <td>135534</td>\n",
       "      <td>21511997</td>\n",
       "      <td>135264</td>\n",
       "      <td>134564</td>\n",
       "      <td>270</td>\n",
       "      <td>0.6</td>\n",
       "      <td>Europe</td>\n",
       "    </tr>\n",
       "    <tr>\n",
       "      <th>4</th>\n",
       "      <td>United Kingdom</td>\n",
       "      <td>18346553</td>\n",
       "      <td>159909</td>\n",
       "      <td>18287720</td>\n",
       "      <td>159713</td>\n",
       "      <td>58833</td>\n",
       "      <td>196</td>\n",
       "      <td>0.9</td>\n",
       "      <td>Europe</td>\n",
       "    </tr>\n",
       "  </tbody>\n",
       "</table>\n",
       "</div>"
      ],
      "text/plain": [
       "   Country/Region     Cases  Deaths    PCases  PDeaths  Cases (+)  Deaths (+)  \\\n",
       "0              US  77650446  918451  77441181   915847     209265        2604   \n",
       "1           India  42586544  507981  42536137   507177      50407         804   \n",
       "2          Brazil  27299336  637467  27135550   636338     163786        1129   \n",
       "3          France  21646561  135534  21511997   135264     134564         270   \n",
       "4  United Kingdom  18346553  159909  18287720   159713      58833         196   \n",
       "\n",
       "   Fatality Rate      Continent  \n",
       "0            1.2  North America  \n",
       "1            1.2           Asia  \n",
       "2            2.3  South America  \n",
       "3            0.6         Europe  \n",
       "4            0.9         Europe  "
      ]
     },
     "execution_count": 15,
     "metadata": {},
     "output_type": "execute_result"
    }
   ],
   "source": [
    "#hide\n",
    "df_table = (pd.DataFrame(dict(Cases=dfc_cases, Deaths=dfc_deaths, PCases=dfp_cases, PDeaths=dfp_deaths))\n",
    "             .sort_values(by=['Cases', 'Deaths'], ascending=[False, False])\n",
    "             .reset_index())\n",
    "df_table.rename(columns={'index': 'Country/Region'}, inplace=True)\n",
    "for c in 'Cases, Deaths'.split(', '):\n",
    "    df_table[f'{c} (+)'] = (df_table[c] - df_table[f'P{c}']).clip(0)  # DATA BUG\n",
    "df_table['Fatality Rate'] = (100 * df_table['Deaths'] / df_table['Cases']).round(1)\n",
    "df_table['Continent'] = df_table['Country/Region'].map(mapping['map.continent'])\n",
    "df_table.head(5)"
   ]
  },
  {
   "cell_type": "code",
   "execution_count": 16,
   "id": "fewer-occasion",
   "metadata": {
    "execution": {
     "iopub.execute_input": "2022-02-13T00:29:49.083196Z",
     "iopub.status.busy": "2022-02-13T00:29:49.082501Z",
     "iopub.status.idle": "2022-02-13T00:29:49.084512Z",
     "shell.execute_reply": "2022-02-13T00:29:49.085218Z"
    },
    "papermill": {
     "duration": 0.047299,
     "end_time": "2022-02-13T00:29:49.085419",
     "exception": false,
     "start_time": "2022-02-13T00:29:49.038120",
     "status": "completed"
    },
    "tags": []
   },
   "outputs": [],
   "source": [
    "#hide\n",
    "#delete problematic countries from table\n",
    "df_table = df_table[~df_table['Country/Region'].isin(['Cape Verde', 'Cruise Ship', 'Kosovo'])]"
   ]
  },
  {
   "cell_type": "code",
   "execution_count": 17,
   "id": "related-center",
   "metadata": {
    "execution": {
     "iopub.execute_input": "2022-02-13T00:29:49.184552Z",
     "iopub.status.busy": "2022-02-13T00:29:49.183829Z",
     "iopub.status.idle": "2022-02-13T00:29:49.186365Z",
     "shell.execute_reply": "2022-02-13T00:29:49.185800Z"
    },
    "papermill": {
     "duration": 0.063914,
     "end_time": "2022-02-13T00:29:49.186502",
     "exception": false,
     "start_time": "2022-02-13T00:29:49.122588",
     "status": "completed"
    },
    "tags": []
   },
   "outputs": [],
   "source": [
    "#hide\n",
    "metrics = [df_table.columns[index] for index in [1,2,5,6]]\n",
    "# s_china = df_table[df_table['Country/Region'].eq('China')][metrics].sum().add_prefix('China ')\n",
    "s_us = df_table[df_table['Country/Region'].eq('US')][metrics].sum().add_prefix('US ')\n",
    "s_eu = df_table[df_table['Continent'].eq('Europe')][metrics].sum().add_prefix('EU ')\n",
    "s_ind = df_table[df_table['Country/Region'].eq('India')][metrics].sum().add_prefix('India ')\n",
    "summary = {'updated': pd.to_datetime(dt_today), 'since': pd.to_datetime(dt_yday)}\n",
    "summary = {'updated': pd.to_datetime(dt_today), 'since': pd.to_datetime(dt_yday)}\n",
    "summary = {**summary, **df_table[metrics].sum(), **s_ind, **s_us, **s_eu}"
   ]
  },
  {
   "cell_type": "code",
   "execution_count": 18,
   "id": "engaging-syndrome",
   "metadata": {
    "execution": {
     "iopub.execute_input": "2022-02-13T00:29:49.268858Z",
     "iopub.status.busy": "2022-02-13T00:29:49.268139Z",
     "iopub.status.idle": "2022-02-13T00:29:49.291158Z",
     "shell.execute_reply": "2022-02-13T00:29:49.290388Z"
    },
    "papermill": {
     "duration": 0.067961,
     "end_time": "2022-02-13T00:29:49.291341",
     "exception": false,
     "start_time": "2022-02-13T00:29:49.223380",
     "status": "completed"
    },
    "tags": []
   },
   "outputs": [],
   "source": [
    "#hide\n",
    "dft_ct_new_cases = dft_cases.groupby(COL_REGION)[dt_cols].sum().diff(axis=1).fillna(0).astype(int)"
   ]
  },
  {
   "cell_type": "code",
   "execution_count": 19,
   "id": "neutral-assignment",
   "metadata": {
    "execution": {
     "iopub.execute_input": "2022-02-13T00:29:49.386738Z",
     "iopub.status.busy": "2022-02-13T00:29:49.386025Z",
     "iopub.status.idle": "2022-02-13T00:29:49.388586Z",
     "shell.execute_reply": "2022-02-13T00:29:49.388019Z"
    },
    "papermill": {
     "duration": 0.060072,
     "end_time": "2022-02-13T00:29:49.388727",
     "exception": false,
     "start_time": "2022-02-13T00:29:49.328655",
     "status": "completed"
    },
    "tags": []
   },
   "outputs": [],
   "source": [
    "#hide\n",
    "everydaycases = dft_ct_new_cases.cumsum(axis=1)"
   ]
  },
  {
   "cell_type": "code",
   "execution_count": 20,
   "id": "parliamentary-calgary",
   "metadata": {
    "execution": {
     "iopub.execute_input": "2022-02-13T00:29:49.467779Z",
     "iopub.status.busy": "2022-02-13T00:29:49.467145Z",
     "iopub.status.idle": "2022-02-13T00:29:50.168064Z",
     "shell.execute_reply": "2022-02-13T00:29:50.167497Z"
    },
    "papermill": {
     "duration": 0.742024,
     "end_time": "2022-02-13T00:29:50.168214",
     "exception": false,
     "start_time": "2022-02-13T00:29:49.426190",
     "status": "completed"
    },
    "tags": []
   },
   "outputs": [],
   "source": [
    "#hide\n",
    "import pandas as pd\n",
    "import matplotlib.pyplot as plt\n",
    "import matplotlib.ticker as ticker\n",
    "import matplotlib.animation as animation\n",
    "from IPython.display import HTML"
   ]
  },
  {
   "cell_type": "code",
   "execution_count": 21,
   "id": "lasting-extraction",
   "metadata": {
    "execution": {
     "iopub.execute_input": "2022-02-13T00:29:50.247547Z",
     "iopub.status.busy": "2022-02-13T00:29:50.246900Z",
     "iopub.status.idle": "2022-02-13T00:29:50.253916Z",
     "shell.execute_reply": "2022-02-13T00:29:50.253385Z"
    },
    "papermill": {
     "duration": 0.049442,
     "end_time": "2022-02-13T00:29:50.254050",
     "exception": false,
     "start_time": "2022-02-13T00:29:50.204608",
     "status": "completed"
    },
    "tags": []
   },
   "outputs": [],
   "source": [
    "#hide\n",
    "t = everydaycases.stack()"
   ]
  },
  {
   "cell_type": "code",
   "execution_count": 22,
   "id": "premier-sleeve",
   "metadata": {
    "execution": {
     "iopub.execute_input": "2022-02-13T00:29:50.330066Z",
     "iopub.status.busy": "2022-02-13T00:29:50.329439Z",
     "iopub.status.idle": "2022-02-13T00:29:50.339916Z",
     "shell.execute_reply": "2022-02-13T00:29:50.340522Z"
    },
    "papermill": {
     "duration": 0.051101,
     "end_time": "2022-02-13T00:29:50.340664",
     "exception": false,
     "start_time": "2022-02-13T00:29:50.289563",
     "status": "completed"
    },
    "tags": []
   },
   "outputs": [],
   "source": [
    "#hide\n",
    "g = t.reset_index(['Country/Region'])"
   ]
  },
  {
   "cell_type": "code",
   "execution_count": 23,
   "id": "distributed-pittsburgh",
   "metadata": {
    "execution": {
     "iopub.execute_input": "2022-02-13T00:29:50.421054Z",
     "iopub.status.busy": "2022-02-13T00:29:50.420359Z",
     "iopub.status.idle": "2022-02-13T00:29:50.423040Z",
     "shell.execute_reply": "2022-02-13T00:29:50.422255Z"
    },
    "papermill": {
     "duration": 0.044704,
     "end_time": "2022-02-13T00:29:50.423178",
     "exception": false,
     "start_time": "2022-02-13T00:29:50.378474",
     "status": "completed"
    },
    "tags": []
   },
   "outputs": [],
   "source": [
    "#hide\n",
    "g.index.name = 'date'"
   ]
  },
  {
   "cell_type": "code",
   "execution_count": 24,
   "id": "naked-donor",
   "metadata": {
    "execution": {
     "iopub.execute_input": "2022-02-13T00:29:50.500485Z",
     "iopub.status.busy": "2022-02-13T00:29:50.499839Z",
     "iopub.status.idle": "2022-02-13T00:29:50.502355Z",
     "shell.execute_reply": "2022-02-13T00:29:50.501848Z"
    },
    "papermill": {
     "duration": 0.041932,
     "end_time": "2022-02-13T00:29:50.502484",
     "exception": false,
     "start_time": "2022-02-13T00:29:50.460552",
     "status": "completed"
    },
    "tags": []
   },
   "outputs": [],
   "source": [
    "# #hide\n",
    "# g = g.reset_index(['date'])"
   ]
  },
  {
   "cell_type": "code",
   "execution_count": 25,
   "id": "incomplete-mustang",
   "metadata": {
    "execution": {
     "iopub.execute_input": "2022-02-13T00:29:50.578724Z",
     "iopub.status.busy": "2022-02-13T00:29:50.578081Z",
     "iopub.status.idle": "2022-02-13T00:29:50.580545Z",
     "shell.execute_reply": "2022-02-13T00:29:50.580023Z"
    },
    "papermill": {
     "duration": 0.042083,
     "end_time": "2022-02-13T00:29:50.580674",
     "exception": false,
     "start_time": "2022-02-13T00:29:50.538591",
     "status": "completed"
    },
    "tags": []
   },
   "outputs": [],
   "source": [
    "#hide\n",
    "# g.head()"
   ]
  },
  {
   "cell_type": "code",
   "execution_count": 26,
   "id": "specific-kruger",
   "metadata": {
    "execution": {
     "iopub.execute_input": "2022-02-13T00:29:50.660773Z",
     "iopub.status.busy": "2022-02-13T00:29:50.660067Z",
     "iopub.status.idle": "2022-02-13T00:29:50.662396Z",
     "shell.execute_reply": "2022-02-13T00:29:50.663227Z"
    },
    "papermill": {
     "duration": 0.045613,
     "end_time": "2022-02-13T00:29:50.663385",
     "exception": false,
     "start_time": "2022-02-13T00:29:50.617772",
     "status": "completed"
    },
    "tags": []
   },
   "outputs": [],
   "source": [
    "#hide\n",
    "# g.columns = ['date','country','cases']"
   ]
  },
  {
   "cell_type": "code",
   "execution_count": 27,
   "id": "tender-conversion",
   "metadata": {
    "execution": {
     "iopub.execute_input": "2022-02-13T00:29:50.741656Z",
     "iopub.status.busy": "2022-02-13T00:29:50.741004Z",
     "iopub.status.idle": "2022-02-13T00:29:50.743453Z",
     "shell.execute_reply": "2022-02-13T00:29:50.742828Z"
    },
    "papermill": {
     "duration": 0.042221,
     "end_time": "2022-02-13T00:29:50.743580",
     "exception": false,
     "start_time": "2022-02-13T00:29:50.701359",
     "status": "completed"
    },
    "tags": []
   },
   "outputs": [],
   "source": [
    "#hide\n",
    "# g['continent'] = g.country"
   ]
  },
  {
   "cell_type": "code",
   "execution_count": 28,
   "id": "substantial-wilderness",
   "metadata": {
    "execution": {
     "iopub.execute_input": "2022-02-13T00:29:50.824881Z",
     "iopub.status.busy": "2022-02-13T00:29:50.824234Z",
     "iopub.status.idle": "2022-02-13T00:29:50.826651Z",
     "shell.execute_reply": "2022-02-13T00:29:50.826022Z"
    },
    "papermill": {
     "duration": 0.044646,
     "end_time": "2022-02-13T00:29:50.826779",
     "exception": false,
     "start_time": "2022-02-13T00:29:50.782133",
     "status": "completed"
    },
    "tags": []
   },
   "outputs": [],
   "source": [
    "#hide\n",
    "# cols = list(g.columns.values)"
   ]
  },
  {
   "cell_type": "code",
   "execution_count": 29,
   "id": "solved-farming",
   "metadata": {
    "execution": {
     "iopub.execute_input": "2022-02-13T00:29:50.912747Z",
     "iopub.status.busy": "2022-02-13T00:29:50.912069Z",
     "iopub.status.idle": "2022-02-13T00:29:50.914150Z",
     "shell.execute_reply": "2022-02-13T00:29:50.914642Z"
    },
    "papermill": {
     "duration": 0.044228,
     "end_time": "2022-02-13T00:29:50.914787",
     "exception": false,
     "start_time": "2022-02-13T00:29:50.870559",
     "status": "completed"
    },
    "tags": []
   },
   "outputs": [],
   "source": [
    "#hide\n",
    "# cols.insert(0, cols.pop())"
   ]
  },
  {
   "cell_type": "code",
   "execution_count": 30,
   "id": "executed-adoption",
   "metadata": {
    "execution": {
     "iopub.execute_input": "2022-02-13T00:29:50.994274Z",
     "iopub.status.busy": "2022-02-13T00:29:50.993624Z",
     "iopub.status.idle": "2022-02-13T00:29:50.997605Z",
     "shell.execute_reply": "2022-02-13T00:29:50.998129Z"
    },
    "papermill": {
     "duration": 0.046185,
     "end_time": "2022-02-13T00:29:50.998285",
     "exception": false,
     "start_time": "2022-02-13T00:29:50.952100",
     "status": "completed"
    },
    "tags": []
   },
   "outputs": [],
   "source": [
    "#hide\n",
    "# g = g[cols]"
   ]
  },
  {
   "cell_type": "code",
   "execution_count": 31,
   "id": "subject-dublin",
   "metadata": {
    "execution": {
     "iopub.execute_input": "2022-02-13T00:29:51.078402Z",
     "iopub.status.busy": "2022-02-13T00:29:51.077700Z",
     "iopub.status.idle": "2022-02-13T00:29:51.080516Z",
     "shell.execute_reply": "2022-02-13T00:29:51.079842Z"
    },
    "papermill": {
     "duration": 0.044116,
     "end_time": "2022-02-13T00:29:51.080639",
     "exception": false,
     "start_time": "2022-02-13T00:29:51.036523",
     "status": "completed"
    },
    "tags": []
   },
   "outputs": [],
   "source": [
    "#hide\n",
    "# g['continent'] = g['continent'].map(mapping['map.continent'])"
   ]
  },
  {
   "cell_type": "code",
   "execution_count": 32,
   "id": "freelance-scout",
   "metadata": {
    "execution": {
     "iopub.execute_input": "2022-02-13T00:29:51.158927Z",
     "iopub.status.busy": "2022-02-13T00:29:51.158256Z",
     "iopub.status.idle": "2022-02-13T00:29:51.163866Z",
     "shell.execute_reply": "2022-02-13T00:29:51.163294Z"
    },
    "papermill": {
     "duration": 0.046629,
     "end_time": "2022-02-13T00:29:51.164164",
     "exception": false,
     "start_time": "2022-02-13T00:29:51.117535",
     "status": "completed"
    },
    "tags": []
   },
   "outputs": [],
   "source": [
    "#hide\n",
    "# g.head()"
   ]
  },
  {
   "cell_type": "code",
   "execution_count": 33,
   "id": "limited-engine",
   "metadata": {
    "execution": {
     "iopub.execute_input": "2022-02-13T00:29:51.241859Z",
     "iopub.status.busy": "2022-02-13T00:29:51.240969Z",
     "iopub.status.idle": "2022-02-13T00:29:51.243338Z",
     "shell.execute_reply": "2022-02-13T00:29:51.242669Z"
    },
    "papermill": {
     "duration": 0.042003,
     "end_time": "2022-02-13T00:29:51.243465",
     "exception": false,
     "start_time": "2022-02-13T00:29:51.201462",
     "status": "completed"
    },
    "tags": []
   },
   "outputs": [],
   "source": [
    "# hide\n",
    "# g['date'] = g['date'].astype('datetime64[ns]')"
   ]
  },
  {
   "cell_type": "code",
   "execution_count": 34,
   "id": "sophisticated-supervisor",
   "metadata": {
    "execution": {
     "iopub.execute_input": "2022-02-13T00:29:51.337145Z",
     "iopub.status.busy": "2022-02-13T00:29:51.336462Z",
     "iopub.status.idle": "2022-02-13T00:29:51.339702Z",
     "shell.execute_reply": "2022-02-13T00:29:51.340192Z"
    },
    "papermill": {
     "duration": 0.046923,
     "end_time": "2022-02-13T00:29:51.340339",
     "exception": false,
     "start_time": "2022-02-13T00:29:51.293416",
     "status": "completed"
    },
    "tags": []
   },
   "outputs": [],
   "source": [
    "#hide\n",
    "# g['date'] = g.date.dt.dayofyear"
   ]
  },
  {
   "cell_type": "code",
   "execution_count": 35,
   "id": "inside-dubai",
   "metadata": {
    "execution": {
     "iopub.execute_input": "2022-02-13T00:29:51.425264Z",
     "iopub.status.busy": "2022-02-13T00:29:51.424509Z",
     "iopub.status.idle": "2022-02-13T00:29:51.426974Z",
     "shell.execute_reply": "2022-02-13T00:29:51.426321Z"
    },
    "papermill": {
     "duration": 0.046001,
     "end_time": "2022-02-13T00:29:51.427118",
     "exception": false,
     "start_time": "2022-02-13T00:29:51.381117",
     "status": "completed"
    },
    "tags": []
   },
   "outputs": [],
   "source": [
    "#hide\n",
    "# g = g.rename(columns= {'continent':'group','country':'name','cases':'value'})"
   ]
  },
  {
   "cell_type": "code",
   "execution_count": 36,
   "id": "fleet-motorcycle",
   "metadata": {
    "execution": {
     "iopub.execute_input": "2022-02-13T00:29:51.516327Z",
     "iopub.status.busy": "2022-02-13T00:29:51.515622Z",
     "iopub.status.idle": "2022-02-13T00:29:51.520621Z",
     "shell.execute_reply": "2022-02-13T00:29:51.520097Z"
    },
    "papermill": {
     "duration": 0.047942,
     "end_time": "2022-02-13T00:29:51.520757",
     "exception": false,
     "start_time": "2022-02-13T00:29:51.472815",
     "status": "completed"
    },
    "tags": []
   },
   "outputs": [],
   "source": [
    "#hide\n",
    "# cols = ['name','group','day','value']"
   ]
  },
  {
   "cell_type": "code",
   "execution_count": 37,
   "id": "continued-sleeping",
   "metadata": {
    "execution": {
     "iopub.execute_input": "2022-02-13T00:29:51.602095Z",
     "iopub.status.busy": "2022-02-13T00:29:51.601344Z",
     "iopub.status.idle": "2022-02-13T00:29:51.604026Z",
     "shell.execute_reply": "2022-02-13T00:29:51.603342Z"
    },
    "papermill": {
     "duration": 0.046088,
     "end_time": "2022-02-13T00:29:51.604178",
     "exception": false,
     "start_time": "2022-02-13T00:29:51.558090",
     "status": "completed"
    },
    "tags": []
   },
   "outputs": [],
   "source": [
    "#hide\n",
    "# g.rename(columns= {'date':'day'},inplace = True)"
   ]
  },
  {
   "cell_type": "code",
   "execution_count": 38,
   "id": "major-fight",
   "metadata": {
    "execution": {
     "iopub.execute_input": "2022-02-13T00:29:51.690637Z",
     "iopub.status.busy": "2022-02-13T00:29:51.689918Z",
     "iopub.status.idle": "2022-02-13T00:29:51.691366Z",
     "shell.execute_reply": "2022-02-13T00:29:51.691953Z"
    },
    "papermill": {
     "duration": 0.049075,
     "end_time": "2022-02-13T00:29:51.692106",
     "exception": false,
     "start_time": "2022-02-13T00:29:51.643031",
     "status": "completed"
    },
    "tags": []
   },
   "outputs": [],
   "source": [
    "#hide\n",
    "# g = g[cols]"
   ]
  },
  {
   "cell_type": "code",
   "execution_count": 39,
   "id": "structured-mobile",
   "metadata": {
    "execution": {
     "iopub.execute_input": "2022-02-13T00:29:51.772915Z",
     "iopub.status.busy": "2022-02-13T00:29:51.772267Z",
     "iopub.status.idle": "2022-02-13T00:29:51.776197Z",
     "shell.execute_reply": "2022-02-13T00:29:51.775644Z"
    },
    "papermill": {
     "duration": 0.045972,
     "end_time": "2022-02-13T00:29:51.776339",
     "exception": false,
     "start_time": "2022-02-13T00:29:51.730367",
     "status": "completed"
    },
    "tags": []
   },
   "outputs": [],
   "source": [
    "# #hide\n",
    "# g = g[g.group.notna()]"
   ]
  },
  {
   "cell_type": "code",
   "execution_count": 40,
   "id": "determined-closing",
   "metadata": {
    "execution": {
     "iopub.execute_input": "2022-02-13T00:29:51.866205Z",
     "iopub.status.busy": "2022-02-13T00:29:51.865491Z",
     "iopub.status.idle": "2022-02-13T00:29:51.869535Z",
     "shell.execute_reply": "2022-02-13T00:29:51.868813Z"
    },
    "papermill": {
     "duration": 0.0521,
     "end_time": "2022-02-13T00:29:51.869666",
     "exception": false,
     "start_time": "2022-02-13T00:29:51.817566",
     "status": "completed"
    },
    "tags": []
   },
   "outputs": [],
   "source": [
    "# #hide\n",
    "# colors = dict(zip(\n",
    "#     [\"Oceania\", \"Europe\", \"Asia\", \"South America\", \"Middle East\", \"North America\", \"Africa\"],\n",
    "#     [\"#adb0ff\", \"#ffb3ff\", \"#90d595\", \"#e48381\", \"#aafbff\", \"#f7bb5f\", \"#eafb50\"]\n",
    "# ))\n",
    "# group_lk = g.set_index('name')['group'].to_dict()"
   ]
  },
  {
   "cell_type": "code",
   "execution_count": null,
   "id": "gross-drinking",
   "metadata": {
    "papermill": {
     "duration": 0.037298,
     "end_time": "2022-02-13T00:29:51.948050",
     "exception": false,
     "start_time": "2022-02-13T00:29:51.910752",
     "status": "completed"
    },
    "tags": []
   },
   "outputs": [],
   "source": []
  },
  {
   "cell_type": "code",
   "execution_count": 41,
   "id": "subject-macintosh",
   "metadata": {
    "execution": {
     "iopub.execute_input": "2022-02-13T00:29:52.034497Z",
     "iopub.status.busy": "2022-02-13T00:29:52.033780Z",
     "iopub.status.idle": "2022-02-13T00:29:52.038993Z",
     "shell.execute_reply": "2022-02-13T00:29:52.041247Z"
    },
    "papermill": {
     "duration": 0.056193,
     "end_time": "2022-02-13T00:29:52.041425",
     "exception": false,
     "start_time": "2022-02-13T00:29:51.985232",
     "status": "completed"
    },
    "tags": []
   },
   "outputs": [],
   "source": [
    "# #hide\n",
    "# fig, ax = plt.subplots(figsize=(15, 8))\n",
    "\n",
    "# def draw_barchart(current_day):\n",
    "#     dff = g[g['day'].eq(current_day)].sort_values(by='value', ascending=True).tail(10)\n",
    "#     ax.clear()\n",
    "#     ax.barh(dff['name'], dff['value'], color=[colors[group_lk[x]] for x in dff['name']])\n",
    "#     dx = dff['value'].max() / 200\n",
    "    \n",
    "#     for i, (value, name) in enumerate(zip(dff['value'], dff['name'])):\n",
    "#         ax.text(value-dx, i,     name,           size=14, weight=600, ha='right', va='bottom')\n",
    "#         ax.text(value-dx, i-.25, group_lk[name], size=10, color='#444444', ha='right', va='baseline')\n",
    "#         ax.text(value+dx, i,     f'{value:,.0f}',  size=14, ha='left',  va='center')\n",
    "#     ax.text(1, 0.4, current_day, transform=ax.transAxes, color='#777777', size=46, ha='right', weight=800)\n",
    "#     ax.text(0, 1.06, 'Population (thousands)', transform=ax.transAxes, size=12, color='#777777')\n",
    "#     ax.xaxis.set_major_formatter(ticker.StrMethodFormatter('{x:,.0f}'))\n",
    "#     ax.xaxis.set_ticks_position('top')\n",
    "#     ax.tick_params(axis='x', colors='#777777', labelsize=12)\n",
    "#     ax.set_yticks([])\n",
    "#     ax.margins(0, 0.01)\n",
    "#     ax.grid(which='major', axis='x', linestyle='-')\n",
    "#     ax.set_axisbelow(True)\n",
    "    \n",
    "#     ax.text(0, 1.15, 'Coronavirus',\n",
    "#             transform=ax.transAxes, size=24, weight=600, ha='left', va='top')\n",
    "# #     ax.text(1, 0, 'by @pratapvardhan; credit @jburnmurdoch', transform=ax.transAxes, color='#777777', ha='right',\n",
    "# #             bbox=dict(facecolor='white', alpha=0.8, edgecolor='white'))\n",
    "#     plt.box(False)"
   ]
  },
  {
   "cell_type": "code",
   "execution_count": 42,
   "id": "sexual-wages",
   "metadata": {
    "execution": {
     "iopub.execute_input": "2022-02-13T00:29:52.124172Z",
     "iopub.status.busy": "2022-02-13T00:29:52.123505Z",
     "iopub.status.idle": "2022-02-13T00:29:52.126021Z",
     "shell.execute_reply": "2022-02-13T00:29:52.125473Z"
    },
    "papermill": {
     "duration": 0.046428,
     "end_time": "2022-02-13T00:29:52.126150",
     "exception": false,
     "start_time": "2022-02-13T00:29:52.079722",
     "status": "completed"
    },
    "tags": []
   },
   "outputs": [],
   "source": [
    "# #hide_input\n",
    "# fig, ax = plt.subplots(figsize=(15, 8))\n",
    "# animator = animation.FuncAnimation(fig, draw_barchart, frames=range(g.day.values.min(), g.day.values.max()))\n",
    "# HTML(animator.to_jshtml())\n",
    "# # or use animator.to_html5_video() or animator.save() "
   ]
  },
  {
   "cell_type": "code",
   "execution_count": null,
   "id": "australian-container",
   "metadata": {
    "papermill": {
     "duration": 0.041703,
     "end_time": "2022-02-13T00:29:52.210929",
     "exception": false,
     "start_time": "2022-02-13T00:29:52.169226",
     "status": "completed"
    },
    "tags": []
   },
   "outputs": [],
   "source": []
  },
  {
   "cell_type": "code",
   "execution_count": null,
   "id": "mediterranean-pontiac",
   "metadata": {
    "papermill": {
     "duration": 0.037658,
     "end_time": "2022-02-13T00:29:52.287989",
     "exception": false,
     "start_time": "2022-02-13T00:29:52.250331",
     "status": "completed"
    },
    "tags": []
   },
   "outputs": [],
   "source": []
  },
  {
   "cell_type": "code",
   "execution_count": null,
   "id": "aging-legislature",
   "metadata": {
    "papermill": {
     "duration": 0.036736,
     "end_time": "2022-02-13T00:29:52.366962",
     "exception": false,
     "start_time": "2022-02-13T00:29:52.330226",
     "status": "completed"
    },
    "tags": []
   },
   "outputs": [],
   "source": []
  }
 ],
 "metadata": {
  "kernelspec": {
   "display_name": "Python 3",
   "language": "python",
   "name": "python3"
  },
  "language_info": {
   "codemirror_mode": {
    "name": "ipython",
    "version": 3
   },
   "file_extension": ".py",
   "mimetype": "text/x-python",
   "name": "python",
   "nbconvert_exporter": "python",
   "pygments_lexer": "ipython3",
   "version": "3.6.15"
  },
  "papermill": {
   "duration": 7.311043,
   "end_time": "2022-02-13T00:29:52.723733",
   "environment_variables": {},
   "exception": null,
   "input_path": "2020-03-21-covid19exp.ipynb",
   "output_path": "2020-03-21-covid19exp.ipynb",
   "parameters": {},
   "start_time": "2022-02-13T00:29:45.412690",
   "version": "2.0.0"
  }
 },
 "nbformat": 4,
 "nbformat_minor": 5
}