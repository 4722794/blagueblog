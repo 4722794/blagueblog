{
 "cells": [
  {
   "cell_type": "markdown",
   "id": "muslim-click",
   "metadata": {
    "papermill": {
     "duration": 0.035105,
     "end_time": "2022-10-11T00:53:04.783359",
     "exception": false,
     "start_time": "2022-10-11T00:53:04.748254",
     "status": "completed"
    },
    "tags": []
   },
   "source": [
    "# COVID-19 Case Race\n",
    "> A race chart to see rising cases around the world\n",
    "\n",
    "- author: Hargun Oberoi\n",
    "- image: images/covid-overview.png\n",
    "- hide: false\n",
    "- badges: false"
   ]
  },
  {
   "cell_type": "code",
   "execution_count": 1,
   "id": "proof-material",
   "metadata": {
    "execution": {
     "iopub.execute_input": "2022-10-11T00:53:04.852409Z",
     "iopub.status.busy": "2022-10-11T00:53:04.851785Z",
     "iopub.status.idle": "2022-10-11T00:53:05.175251Z",
     "shell.execute_reply": "2022-10-11T00:53:05.174663Z"
    },
    "papermill": {
     "duration": 0.362088,
     "end_time": "2022-10-11T00:53:05.175405",
     "exception": false,
     "start_time": "2022-10-11T00:53:04.813317",
     "status": "completed"
    },
    "tags": []
   },
   "outputs": [],
   "source": [
    "#hide\n",
    "import numpy as np\n",
    "import pandas as pd\n",
    "from jinja2 import Template\n",
    "from IPython.display import HTML"
   ]
  },
  {
   "cell_type": "code",
   "execution_count": 2,
   "id": "developed-terminology",
   "metadata": {
    "execution": {
     "iopub.execute_input": "2022-10-11T00:53:05.240240Z",
     "iopub.status.busy": "2022-10-11T00:53:05.239481Z",
     "iopub.status.idle": "2022-10-11T00:53:05.241268Z",
     "shell.execute_reply": "2022-10-11T00:53:05.241810Z"
    },
    "papermill": {
     "duration": 0.036347,
     "end_time": "2022-10-11T00:53:05.241953",
     "exception": false,
     "start_time": "2022-10-11T00:53:05.205606",
     "status": "completed"
    },
    "tags": []
   },
   "outputs": [],
   "source": [
    "#hide\n",
    "\n",
    "# FETCH\n",
    "base_url = 'https://raw.githubusercontent.com/pratapvardhan/notebooks/master/covid19/'\n",
    "paths = {\n",
    "    'mapping': base_url + 'mapping_countries.csv',\n",
    "    'overview': base_url + 'overview.tpl'\n",
    "}"
   ]
  },
  {
   "cell_type": "code",
   "execution_count": 3,
   "id": "dynamic-saver",
   "metadata": {
    "execution": {
     "iopub.execute_input": "2022-10-11T00:53:05.309641Z",
     "iopub.status.busy": "2022-10-11T00:53:05.309043Z",
     "iopub.status.idle": "2022-10-11T00:53:05.311891Z",
     "shell.execute_reply": "2022-10-11T00:53:05.312454Z"
    },
    "papermill": {
     "duration": 0.041584,
     "end_time": "2022-10-11T00:53:05.312583",
     "exception": false,
     "start_time": "2022-10-11T00:53:05.270999",
     "status": "completed"
    },
    "tags": []
   },
   "outputs": [
    {
     "data": {
      "text/plain": [
       "'https://raw.githubusercontent.com/pratapvardhan/notebooks/master/covid19/mapping_countries.csv'"
      ]
     },
     "execution_count": 3,
     "metadata": {},
     "output_type": "execute_result"
    }
   ],
   "source": [
    "#hide\n",
    "paths['mapping']"
   ]
  },
  {
   "cell_type": "code",
   "execution_count": 4,
   "id": "urban-software",
   "metadata": {
    "execution": {
     "iopub.execute_input": "2022-10-11T00:53:05.377110Z",
     "iopub.status.busy": "2022-10-11T00:53:05.376520Z",
     "iopub.status.idle": "2022-10-11T00:53:05.379284Z",
     "shell.execute_reply": "2022-10-11T00:53:05.378809Z"
    },
    "papermill": {
     "duration": 0.037316,
     "end_time": "2022-10-11T00:53:05.379392",
     "exception": false,
     "start_time": "2022-10-11T00:53:05.342076",
     "status": "completed"
    },
    "tags": []
   },
   "outputs": [],
   "source": [
    "#hide\n",
    "def get_mappings(url):\n",
    "    df = pd.read_csv(url)\n",
    "    return {\n",
    "        'df': df,\n",
    "        'replace.country': dict(df.dropna(subset=['Name']).set_index('Country')['Name']),\n",
    "        'map.continent': dict(df.set_index('Name')['Continent'])\n",
    "    }"
   ]
  },
  {
   "cell_type": "code",
   "execution_count": 5,
   "id": "intimate-machinery",
   "metadata": {
    "execution": {
     "iopub.execute_input": "2022-10-11T00:53:05.443493Z",
     "iopub.status.busy": "2022-10-11T00:53:05.442903Z",
     "iopub.status.idle": "2022-10-11T00:53:05.477814Z",
     "shell.execute_reply": "2022-10-11T00:53:05.477304Z"
    },
    "papermill": {
     "duration": 0.069322,
     "end_time": "2022-10-11T00:53:05.477929",
     "exception": false,
     "start_time": "2022-10-11T00:53:05.408607",
     "status": "completed"
    },
    "tags": []
   },
   "outputs": [],
   "source": [
    "#hide\n",
    "mapping = get_mappings(paths['mapping'])"
   ]
  },
  {
   "cell_type": "code",
   "execution_count": 6,
   "id": "certified-tactics",
   "metadata": {
    "execution": {
     "iopub.execute_input": "2022-10-11T00:53:05.542685Z",
     "iopub.status.busy": "2022-10-11T00:53:05.541974Z",
     "iopub.status.idle": "2022-10-11T00:53:05.543856Z",
     "shell.execute_reply": "2022-10-11T00:53:05.544377Z"
    },
    "papermill": {
     "duration": 0.037006,
     "end_time": "2022-10-11T00:53:05.544521",
     "exception": false,
     "start_time": "2022-10-11T00:53:05.507515",
     "status": "completed"
    },
    "tags": []
   },
   "outputs": [],
   "source": [
    "#hide\n",
    "def get_template(path):\n",
    "    from urllib.parse import urlparse\n",
    "    if bool(urlparse(path).netloc):\n",
    "        from urllib.request import urlopen\n",
    "        return urlopen(path).read().decode('utf8')\n",
    "    return open(path).read()"
   ]
  },
  {
   "cell_type": "code",
   "execution_count": 7,
   "id": "realistic-blast",
   "metadata": {
    "execution": {
     "iopub.execute_input": "2022-10-11T00:53:05.608733Z",
     "iopub.status.busy": "2022-10-11T00:53:05.608143Z",
     "iopub.status.idle": "2022-10-11T00:53:05.610677Z",
     "shell.execute_reply": "2022-10-11T00:53:05.611122Z"
    },
    "papermill": {
     "duration": 0.037028,
     "end_time": "2022-10-11T00:53:05.611246",
     "exception": false,
     "start_time": "2022-10-11T00:53:05.574218",
     "status": "completed"
    },
    "tags": []
   },
   "outputs": [],
   "source": [
    "#hide\n",
    "def get_frame(name):\n",
    "    url = (\n",
    "        'https://raw.githubusercontent.com/CSSEGISandData/COVID-19/master/csse_covid_19_data/'\n",
    "        f'csse_covid_19_time_series/time_series_covid19_{name}_global.csv')\n",
    "    df = pd.read_csv(url)\n",
    "    # rename countries\n",
    "    df['Country/Region'] = df['Country/Region'].replace(mapping['replace.country'])\n",
    "    return df"
   ]
  },
  {
   "cell_type": "code",
   "execution_count": 8,
   "id": "affiliated-characterization",
   "metadata": {
    "execution": {
     "iopub.execute_input": "2022-10-11T00:53:05.676537Z",
     "iopub.status.busy": "2022-10-11T00:53:05.675831Z",
     "iopub.status.idle": "2022-10-11T00:53:05.677538Z",
     "shell.execute_reply": "2022-10-11T00:53:05.678083Z"
    },
    "papermill": {
     "duration": 0.037524,
     "end_time": "2022-10-11T00:53:05.678223",
     "exception": false,
     "start_time": "2022-10-11T00:53:05.640699",
     "status": "completed"
    },
    "tags": []
   },
   "outputs": [],
   "source": [
    "#hide\n",
    "def get_dates(df):\n",
    "    dt_cols = df.columns[~df.columns.isin(['Province/State', 'Country/Region', 'Lat', 'Long'])]\n",
    "    LAST_DATE_I = -1\n",
    "    # sometimes last column may be empty, then go backwards\n",
    "    for i in range(-1, -len(dt_cols), -1):\n",
    "        if not df[dt_cols[i]].fillna(0).eq(0).all():\n",
    "            LAST_DATE_I = i\n",
    "            break\n",
    "    return LAST_DATE_I, dt_cols"
   ]
  },
  {
   "cell_type": "code",
   "execution_count": 9,
   "id": "recent-optimization",
   "metadata": {
    "execution": {
     "iopub.execute_input": "2022-10-11T00:53:05.742979Z",
     "iopub.status.busy": "2022-10-11T00:53:05.742298Z",
     "iopub.status.idle": "2022-10-11T00:53:06.123607Z",
     "shell.execute_reply": "2022-10-11T00:53:06.123040Z"
    },
    "papermill": {
     "duration": 0.415842,
     "end_time": "2022-10-11T00:53:06.123779",
     "exception": false,
     "start_time": "2022-10-11T00:53:05.707937",
     "status": "completed"
    },
    "tags": []
   },
   "outputs": [],
   "source": [
    "#hide\n",
    "COL_REGION = 'Country/Region'\n",
    "# Confirmed, Recovered, Deaths\n",
    "df = get_frame('confirmed')\n",
    "# dft_: timeseries, dfc_: today country agg\n",
    "dft_cases = df\n",
    "dft_deaths = get_frame('deaths')\n",
    "dft_recovered = get_frame('recovered')\n",
    "LAST_DATE_I, dt_cols = get_dates(df)"
   ]
  },
  {
   "cell_type": "code",
   "execution_count": 10,
   "id": "absolute-copper",
   "metadata": {
    "execution": {
     "iopub.execute_input": "2022-10-11T00:53:06.188618Z",
     "iopub.status.busy": "2022-10-11T00:53:06.186234Z",
     "iopub.status.idle": "2022-10-11T00:53:06.191016Z",
     "shell.execute_reply": "2022-10-11T00:53:06.191561Z"
    },
    "papermill": {
     "duration": 0.03776,
     "end_time": "2022-10-11T00:53:06.191722",
     "exception": false,
     "start_time": "2022-10-11T00:53:06.153962",
     "status": "completed"
    },
    "tags": []
   },
   "outputs": [],
   "source": [
    "#hide\n",
    "LAST_DATE_I, dt_cols = get_dates(df)\n",
    "dt_today =dt_cols[LAST_DATE_I]\n",
    "# dt_5day = dt_cols[LAST_DATE_I - 5]\n",
    "dt_yday = dt_cols[LAST_DATE_I - 1]"
   ]
  },
  {
   "cell_type": "code",
   "execution_count": 11,
   "id": "restricted-sheriff",
   "metadata": {
    "execution": {
     "iopub.execute_input": "2022-10-11T00:53:06.257340Z",
     "iopub.status.busy": "2022-10-11T00:53:06.256751Z",
     "iopub.status.idle": "2022-10-11T00:53:06.263104Z",
     "shell.execute_reply": "2022-10-11T00:53:06.262626Z"
    },
    "papermill": {
     "duration": 0.042399,
     "end_time": "2022-10-11T00:53:06.263216",
     "exception": false,
     "start_time": "2022-10-11T00:53:06.220817",
     "status": "completed"
    },
    "tags": []
   },
   "outputs": [],
   "source": [
    "#hide\n",
    "dfc_cases = dft_cases.groupby(COL_REGION)[dt_today].sum()\n",
    "dfc_deaths = dft_deaths.groupby(COL_REGION)[dt_today].sum()\n",
    "# dfp_cases = dft_cases.groupby(COL_REGION)[dt_5day].sum()\n",
    "# dfp_deaths = dft_deaths.groupby(COL_REGION)[dt_5day].sum()\n",
    "dfp_cases = dft_cases.groupby(COL_REGION)[dt_yday].sum()\n",
    "dfp_deaths = dft_deaths.groupby(COL_REGION)[dt_yday].sum()"
   ]
  },
  {
   "cell_type": "code",
   "execution_count": 12,
   "id": "deluxe-hepatitis",
   "metadata": {
    "execution": {
     "iopub.execute_input": "2022-10-11T00:53:06.327985Z",
     "iopub.status.busy": "2022-10-11T00:53:06.327348Z",
     "iopub.status.idle": "2022-10-11T00:53:06.332202Z",
     "shell.execute_reply": "2022-10-11T00:53:06.331706Z"
    },
    "papermill": {
     "duration": 0.039822,
     "end_time": "2022-10-11T00:53:06.332313",
     "exception": false,
     "start_time": "2022-10-11T00:53:06.292491",
     "status": "completed"
    },
    "tags": []
   },
   "outputs": [],
   "source": [
    "#hide\n",
    "df_table = (pd.DataFrame(dict(Cases = dfc_cases, Deaths = dfc_deaths, PCases = dfp_cases, PDeaths = dfp_deaths))\n",
    "            .sort_values(by = ['Cases','Deaths'], ascending = [False, False])\n",
    "            .reset_index())"
   ]
  },
  {
   "cell_type": "code",
   "execution_count": 13,
   "id": "educational-chancellor",
   "metadata": {
    "execution": {
     "iopub.execute_input": "2022-10-11T00:53:06.408269Z",
     "iopub.status.busy": "2022-10-11T00:53:06.407618Z",
     "iopub.status.idle": "2022-10-11T00:53:06.415582Z",
     "shell.execute_reply": "2022-10-11T00:53:06.415109Z"
    },
    "papermill": {
     "duration": 0.054355,
     "end_time": "2022-10-11T00:53:06.415713",
     "exception": false,
     "start_time": "2022-10-11T00:53:06.361358",
     "status": "completed"
    },
    "tags": []
   },
   "outputs": [
    {
     "data": {
      "text/html": [
       "<div>\n",
       "<style scoped>\n",
       "    .dataframe tbody tr th:only-of-type {\n",
       "        vertical-align: middle;\n",
       "    }\n",
       "\n",
       "    .dataframe tbody tr th {\n",
       "        vertical-align: top;\n",
       "    }\n",
       "\n",
       "    .dataframe thead th {\n",
       "        text-align: right;\n",
       "    }\n",
       "</style>\n",
       "<table border=\"1\" class=\"dataframe\">\n",
       "  <thead>\n",
       "    <tr style=\"text-align: right;\">\n",
       "      <th></th>\n",
       "      <th>Country/Region</th>\n",
       "      <th>Cases</th>\n",
       "      <th>Deaths</th>\n",
       "      <th>PCases</th>\n",
       "      <th>PDeaths</th>\n",
       "      <th>Cases (+)</th>\n",
       "      <th>Deaths (+)</th>\n",
       "      <th>Fatality Rate</th>\n",
       "      <th>Continent</th>\n",
       "    </tr>\n",
       "  </thead>\n",
       "  <tbody>\n",
       "    <tr>\n",
       "      <th>0</th>\n",
       "      <td>US</td>\n",
       "      <td>96699237</td>\n",
       "      <td>1062564</td>\n",
       "      <td>96694214</td>\n",
       "      <td>1062560</td>\n",
       "      <td>5023</td>\n",
       "      <td>4</td>\n",
       "      <td>1.10</td>\n",
       "      <td>North America</td>\n",
       "    </tr>\n",
       "    <tr>\n",
       "      <th>1</th>\n",
       "      <td>India</td>\n",
       "      <td>44614437</td>\n",
       "      <td>528814</td>\n",
       "      <td>44612013</td>\n",
       "      <td>528799</td>\n",
       "      <td>2424</td>\n",
       "      <td>15</td>\n",
       "      <td>1.19</td>\n",
       "      <td>Asia</td>\n",
       "    </tr>\n",
       "    <tr>\n",
       "      <th>2</th>\n",
       "      <td>France</td>\n",
       "      <td>35983605</td>\n",
       "      <td>156462</td>\n",
       "      <td>35983605</td>\n",
       "      <td>156462</td>\n",
       "      <td>0</td>\n",
       "      <td>0</td>\n",
       "      <td>0.43</td>\n",
       "      <td>Europe</td>\n",
       "    </tr>\n",
       "    <tr>\n",
       "      <th>3</th>\n",
       "      <td>Brazil</td>\n",
       "      <td>34707233</td>\n",
       "      <td>686706</td>\n",
       "      <td>34707233</td>\n",
       "      <td>686706</td>\n",
       "      <td>0</td>\n",
       "      <td>0</td>\n",
       "      <td>1.98</td>\n",
       "      <td>South America</td>\n",
       "    </tr>\n",
       "    <tr>\n",
       "      <th>4</th>\n",
       "      <td>Germany</td>\n",
       "      <td>33948632</td>\n",
       "      <td>150535</td>\n",
       "      <td>33948632</td>\n",
       "      <td>150535</td>\n",
       "      <td>0</td>\n",
       "      <td>0</td>\n",
       "      <td>0.44</td>\n",
       "      <td>Europe</td>\n",
       "    </tr>\n",
       "  </tbody>\n",
       "</table>\n",
       "</div>"
      ],
      "text/plain": [
       "  Country/Region     Cases   Deaths    PCases  PDeaths  Cases (+)  Deaths (+)  \\\n",
       "0             US  96699237  1062564  96694214  1062560       5023           4   \n",
       "1          India  44614437   528814  44612013   528799       2424          15   \n",
       "2         France  35983605   156462  35983605   156462          0           0   \n",
       "3         Brazil  34707233   686706  34707233   686706          0           0   \n",
       "4        Germany  33948632   150535  33948632   150535          0           0   \n",
       "\n",
       "   Fatality Rate      Continent  \n",
       "0           1.10  North America  \n",
       "1           1.19           Asia  \n",
       "2           0.43         Europe  \n",
       "3           1.98  South America  \n",
       "4           0.44         Europe  "
      ]
     },
     "execution_count": 13,
     "metadata": {},
     "output_type": "execute_result"
    }
   ],
   "source": [
    "#hide\n",
    "for c in 'Cases, Deaths'.split(', '):\n",
    "    df_table[f'{c} (+)'] = (df_table[c] - df_table[f'P{c}']).clip(0)\n",
    "    #Clip ça veut dire, les chiffres negatif sont interdit\n",
    "df_table['Fatality Rate'] = (100* df_table['Deaths']/ df_table['Cases']).round(2)\n",
    "df_table['Continent'] = df_table['Country/Region'].map(mapping['map.continent'])\n",
    "df_table.head(5)"
   ]
  },
  {
   "cell_type": "code",
   "execution_count": 14,
   "id": "aboriginal-bulgaria",
   "metadata": {
    "execution": {
     "iopub.execute_input": "2022-10-11T00:53:06.480793Z",
     "iopub.status.busy": "2022-10-11T00:53:06.480202Z",
     "iopub.status.idle": "2022-10-11T00:53:06.483616Z",
     "shell.execute_reply": "2022-10-11T00:53:06.483142Z"
    },
    "papermill": {
     "duration": 0.038239,
     "end_time": "2022-10-11T00:53:06.483750",
     "exception": false,
     "start_time": "2022-10-11T00:53:06.445511",
     "status": "completed"
    },
    "tags": []
   },
   "outputs": [],
   "source": [
    "#hide\n",
    "#delete problematic countries from table\n",
    "df_table = df_table[~df_table['Country/Region'].isin(['Cape Verde', 'Cruise Ship', 'Kosovo'])]"
   ]
  },
  {
   "cell_type": "code",
   "execution_count": 15,
   "id": "fantastic-effect",
   "metadata": {
    "execution": {
     "iopub.execute_input": "2022-10-11T00:53:06.552153Z",
     "iopub.status.busy": "2022-10-11T00:53:06.551518Z",
     "iopub.status.idle": "2022-10-11T00:53:06.568730Z",
     "shell.execute_reply": "2022-10-11T00:53:06.569289Z"
    },
    "papermill": {
     "duration": 0.055941,
     "end_time": "2022-10-11T00:53:06.569421",
     "exception": false,
     "start_time": "2022-10-11T00:53:06.513480",
     "status": "completed"
    },
    "tags": []
   },
   "outputs": [
    {
     "data": {
      "text/html": [
       "<div>\n",
       "<style scoped>\n",
       "    .dataframe tbody tr th:only-of-type {\n",
       "        vertical-align: middle;\n",
       "    }\n",
       "\n",
       "    .dataframe tbody tr th {\n",
       "        vertical-align: top;\n",
       "    }\n",
       "\n",
       "    .dataframe thead th {\n",
       "        text-align: right;\n",
       "    }\n",
       "</style>\n",
       "<table border=\"1\" class=\"dataframe\">\n",
       "  <thead>\n",
       "    <tr style=\"text-align: right;\">\n",
       "      <th></th>\n",
       "      <th>Country/Region</th>\n",
       "      <th>Cases</th>\n",
       "      <th>Deaths</th>\n",
       "      <th>PCases</th>\n",
       "      <th>PDeaths</th>\n",
       "      <th>Cases (+)</th>\n",
       "      <th>Deaths (+)</th>\n",
       "      <th>Fatality Rate</th>\n",
       "      <th>Continent</th>\n",
       "    </tr>\n",
       "  </thead>\n",
       "  <tbody>\n",
       "    <tr>\n",
       "      <th>0</th>\n",
       "      <td>US</td>\n",
       "      <td>96699237</td>\n",
       "      <td>1062564</td>\n",
       "      <td>96694214</td>\n",
       "      <td>1062560</td>\n",
       "      <td>5023</td>\n",
       "      <td>4</td>\n",
       "      <td>1.1</td>\n",
       "      <td>North America</td>\n",
       "    </tr>\n",
       "    <tr>\n",
       "      <th>1</th>\n",
       "      <td>India</td>\n",
       "      <td>44614437</td>\n",
       "      <td>528814</td>\n",
       "      <td>44612013</td>\n",
       "      <td>528799</td>\n",
       "      <td>2424</td>\n",
       "      <td>15</td>\n",
       "      <td>1.2</td>\n",
       "      <td>Asia</td>\n",
       "    </tr>\n",
       "    <tr>\n",
       "      <th>2</th>\n",
       "      <td>France</td>\n",
       "      <td>35983605</td>\n",
       "      <td>156462</td>\n",
       "      <td>35983605</td>\n",
       "      <td>156462</td>\n",
       "      <td>0</td>\n",
       "      <td>0</td>\n",
       "      <td>0.4</td>\n",
       "      <td>Europe</td>\n",
       "    </tr>\n",
       "    <tr>\n",
       "      <th>3</th>\n",
       "      <td>Brazil</td>\n",
       "      <td>34707233</td>\n",
       "      <td>686706</td>\n",
       "      <td>34707233</td>\n",
       "      <td>686706</td>\n",
       "      <td>0</td>\n",
       "      <td>0</td>\n",
       "      <td>2.0</td>\n",
       "      <td>South America</td>\n",
       "    </tr>\n",
       "    <tr>\n",
       "      <th>4</th>\n",
       "      <td>Germany</td>\n",
       "      <td>33948632</td>\n",
       "      <td>150535</td>\n",
       "      <td>33948632</td>\n",
       "      <td>150535</td>\n",
       "      <td>0</td>\n",
       "      <td>0</td>\n",
       "      <td>0.4</td>\n",
       "      <td>Europe</td>\n",
       "    </tr>\n",
       "  </tbody>\n",
       "</table>\n",
       "</div>"
      ],
      "text/plain": [
       "  Country/Region     Cases   Deaths    PCases  PDeaths  Cases (+)  Deaths (+)  \\\n",
       "0             US  96699237  1062564  96694214  1062560       5023           4   \n",
       "1          India  44614437   528814  44612013   528799       2424          15   \n",
       "2         France  35983605   156462  35983605   156462          0           0   \n",
       "3         Brazil  34707233   686706  34707233   686706          0           0   \n",
       "4        Germany  33948632   150535  33948632   150535          0           0   \n",
       "\n",
       "   Fatality Rate      Continent  \n",
       "0            1.1  North America  \n",
       "1            1.2           Asia  \n",
       "2            0.4         Europe  \n",
       "3            2.0  South America  \n",
       "4            0.4         Europe  "
      ]
     },
     "execution_count": 15,
     "metadata": {},
     "output_type": "execute_result"
    }
   ],
   "source": [
    "#hide\n",
    "df_table = (pd.DataFrame(dict(Cases=dfc_cases, Deaths=dfc_deaths, PCases=dfp_cases, PDeaths=dfp_deaths))\n",
    "             .sort_values(by=['Cases', 'Deaths'], ascending=[False, False])\n",
    "             .reset_index())\n",
    "df_table.rename(columns={'index': 'Country/Region'}, inplace=True)\n",
    "for c in 'Cases, Deaths'.split(', '):\n",
    "    df_table[f'{c} (+)'] = (df_table[c] - df_table[f'P{c}']).clip(0)  # DATA BUG\n",
    "df_table['Fatality Rate'] = (100 * df_table['Deaths'] / df_table['Cases']).round(1)\n",
    "df_table['Continent'] = df_table['Country/Region'].map(mapping['map.continent'])\n",
    "df_table.head(5)"
   ]
  },
  {
   "cell_type": "code",
   "execution_count": 16,
   "id": "fewer-occasion",
   "metadata": {
    "execution": {
     "iopub.execute_input": "2022-10-11T00:53:06.636461Z",
     "iopub.status.busy": "2022-10-11T00:53:06.635843Z",
     "iopub.status.idle": "2022-10-11T00:53:06.638938Z",
     "shell.execute_reply": "2022-10-11T00:53:06.639505Z"
    },
    "papermill": {
     "duration": 0.039594,
     "end_time": "2022-10-11T00:53:06.639639",
     "exception": false,
     "start_time": "2022-10-11T00:53:06.600045",
     "status": "completed"
    },
    "tags": []
   },
   "outputs": [],
   "source": [
    "#hide\n",
    "#delete problematic countries from table\n",
    "df_table = df_table[~df_table['Country/Region'].isin(['Cape Verde', 'Cruise Ship', 'Kosovo'])]"
   ]
  },
  {
   "cell_type": "code",
   "execution_count": 17,
   "id": "related-center",
   "metadata": {
    "execution": {
     "iopub.execute_input": "2022-10-11T00:53:06.708686Z",
     "iopub.status.busy": "2022-10-11T00:53:06.708083Z",
     "iopub.status.idle": "2022-10-11T00:53:06.720434Z",
     "shell.execute_reply": "2022-10-11T00:53:06.719944Z"
    },
    "papermill": {
     "duration": 0.050596,
     "end_time": "2022-10-11T00:53:06.720547",
     "exception": false,
     "start_time": "2022-10-11T00:53:06.669951",
     "status": "completed"
    },
    "tags": []
   },
   "outputs": [],
   "source": [
    "#hide\n",
    "metrics = [df_table.columns[index] for index in [1,2,5,6]]\n",
    "# s_china = df_table[df_table['Country/Region'].eq('China')][metrics].sum().add_prefix('China ')\n",
    "s_us = df_table[df_table['Country/Region'].eq('US')][metrics].sum().add_prefix('US ')\n",
    "s_eu = df_table[df_table['Continent'].eq('Europe')][metrics].sum().add_prefix('EU ')\n",
    "s_ind = df_table[df_table['Country/Region'].eq('India')][metrics].sum().add_prefix('India ')\n",
    "summary = {'updated': pd.to_datetime(dt_today), 'since': pd.to_datetime(dt_yday)}\n",
    "summary = {'updated': pd.to_datetime(dt_today), 'since': pd.to_datetime(dt_yday)}\n",
    "summary = {**summary, **df_table[metrics].sum(), **s_ind, **s_us, **s_eu}"
   ]
  },
  {
   "cell_type": "code",
   "execution_count": 18,
   "id": "engaging-syndrome",
   "metadata": {
    "execution": {
     "iopub.execute_input": "2022-10-11T00:53:06.786657Z",
     "iopub.status.busy": "2022-10-11T00:53:06.786043Z",
     "iopub.status.idle": "2022-10-11T00:53:06.808397Z",
     "shell.execute_reply": "2022-10-11T00:53:06.807799Z"
    },
    "papermill": {
     "duration": 0.057651,
     "end_time": "2022-10-11T00:53:06.808526",
     "exception": false,
     "start_time": "2022-10-11T00:53:06.750875",
     "status": "completed"
    },
    "tags": []
   },
   "outputs": [],
   "source": [
    "#hide\n",
    "dft_ct_new_cases = dft_cases.groupby(COL_REGION)[dt_cols].sum().diff(axis=1).fillna(0).astype(int)"
   ]
  },
  {
   "cell_type": "code",
   "execution_count": 19,
   "id": "neutral-assignment",
   "metadata": {
    "execution": {
     "iopub.execute_input": "2022-10-11T00:53:06.877067Z",
     "iopub.status.busy": "2022-10-11T00:53:06.876478Z",
     "iopub.status.idle": "2022-10-11T00:53:06.878834Z",
     "shell.execute_reply": "2022-10-11T00:53:06.879307Z"
    },
    "papermill": {
     "duration": 0.039685,
     "end_time": "2022-10-11T00:53:06.879435",
     "exception": false,
     "start_time": "2022-10-11T00:53:06.839750",
     "status": "completed"
    },
    "tags": []
   },
   "outputs": [],
   "source": [
    "#hide\n",
    "everydaycases = dft_ct_new_cases.cumsum(axis=1)"
   ]
  },
  {
   "cell_type": "code",
   "execution_count": 20,
   "id": "parliamentary-calgary",
   "metadata": {
    "execution": {
     "iopub.execute_input": "2022-10-11T00:53:06.944860Z",
     "iopub.status.busy": "2022-10-11T00:53:06.944265Z",
     "iopub.status.idle": "2022-10-11T00:53:07.576956Z",
     "shell.execute_reply": "2022-10-11T00:53:07.576410Z"
    },
    "papermill": {
     "duration": 0.667353,
     "end_time": "2022-10-11T00:53:07.577078",
     "exception": false,
     "start_time": "2022-10-11T00:53:06.909725",
     "status": "completed"
    },
    "tags": []
   },
   "outputs": [],
   "source": [
    "#hide\n",
    "import pandas as pd\n",
    "import matplotlib.pyplot as plt\n",
    "import matplotlib.ticker as ticker\n",
    "import matplotlib.animation as animation\n",
    "from IPython.display import HTML"
   ]
  },
  {
   "cell_type": "code",
   "execution_count": 21,
   "id": "lasting-extraction",
   "metadata": {
    "execution": {
     "iopub.execute_input": "2022-10-11T00:53:07.722753Z",
     "iopub.status.busy": "2022-10-11T00:53:07.722083Z",
     "iopub.status.idle": "2022-10-11T00:53:07.729811Z",
     "shell.execute_reply": "2022-10-11T00:53:07.729214Z"
    },
    "papermill": {
     "duration": 0.122522,
     "end_time": "2022-10-11T00:53:07.729926",
     "exception": false,
     "start_time": "2022-10-11T00:53:07.607404",
     "status": "completed"
    },
    "tags": []
   },
   "outputs": [],
   "source": [
    "#hide\n",
    "t = everydaycases.stack()"
   ]
  },
  {
   "cell_type": "code",
   "execution_count": 22,
   "id": "premier-sleeve",
   "metadata": {
    "execution": {
     "iopub.execute_input": "2022-10-11T00:53:07.795623Z",
     "iopub.status.busy": "2022-10-11T00:53:07.795018Z",
     "iopub.status.idle": "2022-10-11T00:53:07.807808Z",
     "shell.execute_reply": "2022-10-11T00:53:07.807300Z"
    },
    "papermill": {
     "duration": 0.047451,
     "end_time": "2022-10-11T00:53:07.807933",
     "exception": false,
     "start_time": "2022-10-11T00:53:07.760482",
     "status": "completed"
    },
    "tags": []
   },
   "outputs": [],
   "source": [
    "#hide\n",
    "g = t.reset_index(['Country/Region'])"
   ]
  },
  {
   "cell_type": "code",
   "execution_count": 23,
   "id": "distributed-pittsburgh",
   "metadata": {
    "execution": {
     "iopub.execute_input": "2022-10-11T00:53:07.873691Z",
     "iopub.status.busy": "2022-10-11T00:53:07.872996Z",
     "iopub.status.idle": "2022-10-11T00:53:07.875652Z",
     "shell.execute_reply": "2022-10-11T00:53:07.875132Z"
    },
    "papermill": {
     "duration": 0.03739,
     "end_time": "2022-10-11T00:53:07.875819",
     "exception": false,
     "start_time": "2022-10-11T00:53:07.838429",
     "status": "completed"
    },
    "tags": []
   },
   "outputs": [],
   "source": [
    "#hide\n",
    "g.index.name = 'date'"
   ]
  },
  {
   "cell_type": "code",
   "execution_count": 24,
   "id": "naked-donor",
   "metadata": {
    "execution": {
     "iopub.execute_input": "2022-10-11T00:53:07.941367Z",
     "iopub.status.busy": "2022-10-11T00:53:07.940648Z",
     "iopub.status.idle": "2022-10-11T00:53:07.942501Z",
     "shell.execute_reply": "2022-10-11T00:53:07.943012Z"
    },
    "papermill": {
     "duration": 0.036861,
     "end_time": "2022-10-11T00:53:07.943155",
     "exception": false,
     "start_time": "2022-10-11T00:53:07.906294",
     "status": "completed"
    },
    "tags": []
   },
   "outputs": [],
   "source": [
    "# #hide\n",
    "# g = g.reset_index(['date'])"
   ]
  },
  {
   "cell_type": "code",
   "execution_count": 25,
   "id": "incomplete-mustang",
   "metadata": {
    "execution": {
     "iopub.execute_input": "2022-10-11T00:53:08.008901Z",
     "iopub.status.busy": "2022-10-11T00:53:08.008200Z",
     "iopub.status.idle": "2022-10-11T00:53:08.010572Z",
     "shell.execute_reply": "2022-10-11T00:53:08.009997Z"
    },
    "papermill": {
     "duration": 0.036507,
     "end_time": "2022-10-11T00:53:08.010681",
     "exception": false,
     "start_time": "2022-10-11T00:53:07.974174",
     "status": "completed"
    },
    "tags": []
   },
   "outputs": [],
   "source": [
    "#hide\n",
    "# g.head()"
   ]
  },
  {
   "cell_type": "code",
   "execution_count": 26,
   "id": "specific-kruger",
   "metadata": {
    "execution": {
     "iopub.execute_input": "2022-10-11T00:53:08.076135Z",
     "iopub.status.busy": "2022-10-11T00:53:08.075502Z",
     "iopub.status.idle": "2022-10-11T00:53:08.077741Z",
     "shell.execute_reply": "2022-10-11T00:53:08.078296Z"
    },
    "papermill": {
     "duration": 0.037205,
     "end_time": "2022-10-11T00:53:08.078428",
     "exception": false,
     "start_time": "2022-10-11T00:53:08.041223",
     "status": "completed"
    },
    "tags": []
   },
   "outputs": [],
   "source": [
    "#hide\n",
    "# g.columns = ['date','country','cases']"
   ]
  },
  {
   "cell_type": "code",
   "execution_count": 27,
   "id": "tender-conversion",
   "metadata": {
    "execution": {
     "iopub.execute_input": "2022-10-11T00:53:08.143565Z",
     "iopub.status.busy": "2022-10-11T00:53:08.142955Z",
     "iopub.status.idle": "2022-10-11T00:53:08.146979Z",
     "shell.execute_reply": "2022-10-11T00:53:08.146500Z"
    },
    "papermill": {
     "duration": 0.037955,
     "end_time": "2022-10-11T00:53:08.147089",
     "exception": false,
     "start_time": "2022-10-11T00:53:08.109134",
     "status": "completed"
    },
    "tags": []
   },
   "outputs": [],
   "source": [
    "#hide\n",
    "# g['continent'] = g.country"
   ]
  },
  {
   "cell_type": "code",
   "execution_count": 28,
   "id": "substantial-wilderness",
   "metadata": {
    "execution": {
     "iopub.execute_input": "2022-10-11T00:53:08.212720Z",
     "iopub.status.busy": "2022-10-11T00:53:08.212019Z",
     "iopub.status.idle": "2022-10-11T00:53:08.213731Z",
     "shell.execute_reply": "2022-10-11T00:53:08.214179Z"
    },
    "papermill": {
     "duration": 0.036627,
     "end_time": "2022-10-11T00:53:08.214305",
     "exception": false,
     "start_time": "2022-10-11T00:53:08.177678",
     "status": "completed"
    },
    "tags": []
   },
   "outputs": [],
   "source": [
    "#hide\n",
    "# cols = list(g.columns.values)"
   ]
  },
  {
   "cell_type": "code",
   "execution_count": 29,
   "id": "solved-farming",
   "metadata": {
    "execution": {
     "iopub.execute_input": "2022-10-11T00:53:08.279182Z",
     "iopub.status.busy": "2022-10-11T00:53:08.278488Z",
     "iopub.status.idle": "2022-10-11T00:53:08.280806Z",
     "shell.execute_reply": "2022-10-11T00:53:08.280228Z"
    },
    "papermill": {
     "duration": 0.036353,
     "end_time": "2022-10-11T00:53:08.280917",
     "exception": false,
     "start_time": "2022-10-11T00:53:08.244564",
     "status": "completed"
    },
    "tags": []
   },
   "outputs": [],
   "source": [
    "#hide\n",
    "# cols.insert(0, cols.pop())"
   ]
  },
  {
   "cell_type": "code",
   "execution_count": 30,
   "id": "executed-adoption",
   "metadata": {
    "execution": {
     "iopub.execute_input": "2022-10-11T00:53:08.345537Z",
     "iopub.status.busy": "2022-10-11T00:53:08.344943Z",
     "iopub.status.idle": "2022-10-11T00:53:08.347693Z",
     "shell.execute_reply": "2022-10-11T00:53:08.347200Z"
    },
    "papermill": {
     "duration": 0.036592,
     "end_time": "2022-10-11T00:53:08.347806",
     "exception": false,
     "start_time": "2022-10-11T00:53:08.311214",
     "status": "completed"
    },
    "tags": []
   },
   "outputs": [],
   "source": [
    "#hide\n",
    "# g = g[cols]"
   ]
  },
  {
   "cell_type": "code",
   "execution_count": 31,
   "id": "subject-dublin",
   "metadata": {
    "execution": {
     "iopub.execute_input": "2022-10-11T00:53:08.412697Z",
     "iopub.status.busy": "2022-10-11T00:53:08.411988Z",
     "iopub.status.idle": "2022-10-11T00:53:08.413813Z",
     "shell.execute_reply": "2022-10-11T00:53:08.414329Z"
    },
    "papermill": {
     "duration": 0.036546,
     "end_time": "2022-10-11T00:53:08.414471",
     "exception": false,
     "start_time": "2022-10-11T00:53:08.377925",
     "status": "completed"
    },
    "tags": []
   },
   "outputs": [],
   "source": [
    "#hide\n",
    "# g['continent'] = g['continent'].map(mapping['map.continent'])"
   ]
  },
  {
   "cell_type": "code",
   "execution_count": 32,
   "id": "freelance-scout",
   "metadata": {
    "execution": {
     "iopub.execute_input": "2022-10-11T00:53:08.480101Z",
     "iopub.status.busy": "2022-10-11T00:53:08.479359Z",
     "iopub.status.idle": "2022-10-11T00:53:08.481207Z",
     "shell.execute_reply": "2022-10-11T00:53:08.481717Z"
    },
    "papermill": {
     "duration": 0.036716,
     "end_time": "2022-10-11T00:53:08.481860",
     "exception": false,
     "start_time": "2022-10-11T00:53:08.445144",
     "status": "completed"
    },
    "tags": []
   },
   "outputs": [],
   "source": [
    "#hide\n",
    "# g.head()"
   ]
  },
  {
   "cell_type": "code",
   "execution_count": 33,
   "id": "limited-engine",
   "metadata": {
    "execution": {
     "iopub.execute_input": "2022-10-11T00:53:08.547819Z",
     "iopub.status.busy": "2022-10-11T00:53:08.547072Z",
     "iopub.status.idle": "2022-10-11T00:53:08.548869Z",
     "shell.execute_reply": "2022-10-11T00:53:08.549432Z"
    },
    "papermill": {
     "duration": 0.03664,
     "end_time": "2022-10-11T00:53:08.549561",
     "exception": false,
     "start_time": "2022-10-11T00:53:08.512921",
     "status": "completed"
    },
    "tags": []
   },
   "outputs": [],
   "source": [
    "# hide\n",
    "# g['date'] = g['date'].astype('datetime64[ns]')"
   ]
  },
  {
   "cell_type": "code",
   "execution_count": 34,
   "id": "sophisticated-supervisor",
   "metadata": {
    "execution": {
     "iopub.execute_input": "2022-10-11T00:53:08.614750Z",
     "iopub.status.busy": "2022-10-11T00:53:08.614062Z",
     "iopub.status.idle": "2022-10-11T00:53:08.616614Z",
     "shell.execute_reply": "2022-10-11T00:53:08.615957Z"
    },
    "papermill": {
     "duration": 0.036749,
     "end_time": "2022-10-11T00:53:08.616739",
     "exception": false,
     "start_time": "2022-10-11T00:53:08.579990",
     "status": "completed"
    },
    "tags": []
   },
   "outputs": [],
   "source": [
    "#hide\n",
    "# g['date'] = g.date.dt.dayofyear"
   ]
  },
  {
   "cell_type": "code",
   "execution_count": 35,
   "id": "inside-dubai",
   "metadata": {
    "execution": {
     "iopub.execute_input": "2022-10-11T00:53:08.682252Z",
     "iopub.status.busy": "2022-10-11T00:53:08.681638Z",
     "iopub.status.idle": "2022-10-11T00:53:08.684129Z",
     "shell.execute_reply": "2022-10-11T00:53:08.683518Z"
    },
    "papermill": {
     "duration": 0.036711,
     "end_time": "2022-10-11T00:53:08.684243",
     "exception": false,
     "start_time": "2022-10-11T00:53:08.647532",
     "status": "completed"
    },
    "tags": []
   },
   "outputs": [],
   "source": [
    "#hide\n",
    "# g = g.rename(columns= {'continent':'group','country':'name','cases':'value'})"
   ]
  },
  {
   "cell_type": "code",
   "execution_count": 36,
   "id": "fleet-motorcycle",
   "metadata": {
    "execution": {
     "iopub.execute_input": "2022-10-11T00:53:08.749319Z",
     "iopub.status.busy": "2022-10-11T00:53:08.748641Z",
     "iopub.status.idle": "2022-10-11T00:53:08.751805Z",
     "shell.execute_reply": "2022-10-11T00:53:08.751116Z"
    },
    "papermill": {
     "duration": 0.037295,
     "end_time": "2022-10-11T00:53:08.751933",
     "exception": false,
     "start_time": "2022-10-11T00:53:08.714638",
     "status": "completed"
    },
    "tags": []
   },
   "outputs": [],
   "source": [
    "#hide\n",
    "# cols = ['name','group','day','value']"
   ]
  },
  {
   "cell_type": "code",
   "execution_count": 37,
   "id": "continued-sleeping",
   "metadata": {
    "execution": {
     "iopub.execute_input": "2022-10-11T00:53:08.816368Z",
     "iopub.status.busy": "2022-10-11T00:53:08.815759Z",
     "iopub.status.idle": "2022-10-11T00:53:08.818391Z",
     "shell.execute_reply": "2022-10-11T00:53:08.817910Z"
    },
    "papermill": {
     "duration": 0.036303,
     "end_time": "2022-10-11T00:53:08.818498",
     "exception": false,
     "start_time": "2022-10-11T00:53:08.782195",
     "status": "completed"
    },
    "tags": []
   },
   "outputs": [],
   "source": [
    "#hide\n",
    "# g.rename(columns= {'date':'day'},inplace = True)"
   ]
  },
  {
   "cell_type": "code",
   "execution_count": 38,
   "id": "major-fight",
   "metadata": {
    "execution": {
     "iopub.execute_input": "2022-10-11T00:53:08.882813Z",
     "iopub.status.busy": "2022-10-11T00:53:08.882139Z",
     "iopub.status.idle": "2022-10-11T00:53:08.884650Z",
     "shell.execute_reply": "2022-10-11T00:53:08.883998Z"
    },
    "papermill": {
     "duration": 0.036053,
     "end_time": "2022-10-11T00:53:08.884770",
     "exception": false,
     "start_time": "2022-10-11T00:53:08.848717",
     "status": "completed"
    },
    "tags": []
   },
   "outputs": [],
   "source": [
    "#hide\n",
    "# g = g[cols]"
   ]
  },
  {
   "cell_type": "code",
   "execution_count": 39,
   "id": "structured-mobile",
   "metadata": {
    "execution": {
     "iopub.execute_input": "2022-10-11T00:53:08.949282Z",
     "iopub.status.busy": "2022-10-11T00:53:08.948594Z",
     "iopub.status.idle": "2022-10-11T00:53:08.951218Z",
     "shell.execute_reply": "2022-10-11T00:53:08.950735Z"
    },
    "papermill": {
     "duration": 0.036386,
     "end_time": "2022-10-11T00:53:08.951328",
     "exception": false,
     "start_time": "2022-10-11T00:53:08.914942",
     "status": "completed"
    },
    "tags": []
   },
   "outputs": [],
   "source": [
    "# #hide\n",
    "# g = g[g.group.notna()]"
   ]
  },
  {
   "cell_type": "code",
   "execution_count": 40,
   "id": "determined-closing",
   "metadata": {
    "execution": {
     "iopub.execute_input": "2022-10-11T00:53:09.016785Z",
     "iopub.status.busy": "2022-10-11T00:53:09.016187Z",
     "iopub.status.idle": "2022-10-11T00:53:09.018651Z",
     "shell.execute_reply": "2022-10-11T00:53:09.018079Z"
    },
    "papermill": {
     "duration": 0.036706,
     "end_time": "2022-10-11T00:53:09.018762",
     "exception": false,
     "start_time": "2022-10-11T00:53:08.982056",
     "status": "completed"
    },
    "tags": []
   },
   "outputs": [],
   "source": [
    "# #hide\n",
    "# colors = dict(zip(\n",
    "#     [\"Oceania\", \"Europe\", \"Asia\", \"South America\", \"Middle East\", \"North America\", \"Africa\"],\n",
    "#     [\"#adb0ff\", \"#ffb3ff\", \"#90d595\", \"#e48381\", \"#aafbff\", \"#f7bb5f\", \"#eafb50\"]\n",
    "# ))\n",
    "# group_lk = g.set_index('name')['group'].to_dict()"
   ]
  },
  {
   "cell_type": "code",
   "execution_count": null,
   "id": "gross-drinking",
   "metadata": {
    "papermill": {
     "duration": 0.030778,
     "end_time": "2022-10-11T00:53:09.079814",
     "exception": false,
     "start_time": "2022-10-11T00:53:09.049036",
     "status": "completed"
    },
    "tags": []
   },
   "outputs": [],
   "source": []
  },
  {
   "cell_type": "code",
   "execution_count": 41,
   "id": "subject-macintosh",
   "metadata": {
    "execution": {
     "iopub.execute_input": "2022-10-11T00:53:09.146030Z",
     "iopub.status.busy": "2022-10-11T00:53:09.145302Z",
     "iopub.status.idle": "2022-10-11T00:53:09.147684Z",
     "shell.execute_reply": "2022-10-11T00:53:09.147015Z"
    },
    "papermill": {
     "duration": 0.037116,
     "end_time": "2022-10-11T00:53:09.147812",
     "exception": false,
     "start_time": "2022-10-11T00:53:09.110696",
     "status": "completed"
    },
    "tags": []
   },
   "outputs": [],
   "source": [
    "# #hide\n",
    "# fig, ax = plt.subplots(figsize=(15, 8))\n",
    "\n",
    "# def draw_barchart(current_day):\n",
    "#     dff = g[g['day'].eq(current_day)].sort_values(by='value', ascending=True).tail(10)\n",
    "#     ax.clear()\n",
    "#     ax.barh(dff['name'], dff['value'], color=[colors[group_lk[x]] for x in dff['name']])\n",
    "#     dx = dff['value'].max() / 200\n",
    "    \n",
    "#     for i, (value, name) in enumerate(zip(dff['value'], dff['name'])):\n",
    "#         ax.text(value-dx, i,     name,           size=14, weight=600, ha='right', va='bottom')\n",
    "#         ax.text(value-dx, i-.25, group_lk[name], size=10, color='#444444', ha='right', va='baseline')\n",
    "#         ax.text(value+dx, i,     f'{value:,.0f}',  size=14, ha='left',  va='center')\n",
    "#     ax.text(1, 0.4, current_day, transform=ax.transAxes, color='#777777', size=46, ha='right', weight=800)\n",
    "#     ax.text(0, 1.06, 'Population (thousands)', transform=ax.transAxes, size=12, color='#777777')\n",
    "#     ax.xaxis.set_major_formatter(ticker.StrMethodFormatter('{x:,.0f}'))\n",
    "#     ax.xaxis.set_ticks_position('top')\n",
    "#     ax.tick_params(axis='x', colors='#777777', labelsize=12)\n",
    "#     ax.set_yticks([])\n",
    "#     ax.margins(0, 0.01)\n",
    "#     ax.grid(which='major', axis='x', linestyle='-')\n",
    "#     ax.set_axisbelow(True)\n",
    "    \n",
    "#     ax.text(0, 1.15, 'Coronavirus',\n",
    "#             transform=ax.transAxes, size=24, weight=600, ha='left', va='top')\n",
    "# #     ax.text(1, 0, 'by @pratapvardhan; credit @jburnmurdoch', transform=ax.transAxes, color='#777777', ha='right',\n",
    "# #             bbox=dict(facecolor='white', alpha=0.8, edgecolor='white'))\n",
    "#     plt.box(False)"
   ]
  },
  {
   "cell_type": "code",
   "execution_count": 42,
   "id": "sexual-wages",
   "metadata": {
    "execution": {
     "iopub.execute_input": "2022-10-11T00:53:09.212656Z",
     "iopub.status.busy": "2022-10-11T00:53:09.212054Z",
     "iopub.status.idle": "2022-10-11T00:53:09.214405Z",
     "shell.execute_reply": "2022-10-11T00:53:09.213842Z"
    },
    "papermill": {
     "duration": 0.036109,
     "end_time": "2022-10-11T00:53:09.214514",
     "exception": false,
     "start_time": "2022-10-11T00:53:09.178405",
     "status": "completed"
    },
    "tags": []
   },
   "outputs": [],
   "source": [
    "# #hide_input\n",
    "# fig, ax = plt.subplots(figsize=(15, 8))\n",
    "# animator = animation.FuncAnimation(fig, draw_barchart, frames=range(g.day.values.min(), g.day.values.max()))\n",
    "# HTML(animator.to_jshtml())\n",
    "# # or use animator.to_html5_video() or animator.save() "
   ]
  },
  {
   "cell_type": "code",
   "execution_count": null,
   "id": "australian-container",
   "metadata": {
    "papermill": {
     "duration": 0.030286,
     "end_time": "2022-10-11T00:53:09.275167",
     "exception": false,
     "start_time": "2022-10-11T00:53:09.244881",
     "status": "completed"
    },
    "tags": []
   },
   "outputs": [],
   "source": []
  },
  {
   "cell_type": "code",
   "execution_count": null,
   "id": "mediterranean-pontiac",
   "metadata": {
    "papermill": {
     "duration": 0.030392,
     "end_time": "2022-10-11T00:53:09.335807",
     "exception": false,
     "start_time": "2022-10-11T00:53:09.305415",
     "status": "completed"
    },
    "tags": []
   },
   "outputs": [],
   "source": []
  },
  {
   "cell_type": "code",
   "execution_count": null,
   "id": "aging-legislature",
   "metadata": {
    "papermill": {
     "duration": 0.030294,
     "end_time": "2022-10-11T00:53:09.396603",
     "exception": false,
     "start_time": "2022-10-11T00:53:09.366309",
     "status": "completed"
    },
    "tags": []
   },
   "outputs": [],
   "source": []
  }
 ],
 "metadata": {
  "kernelspec": {
   "display_name": "Python 3",
   "language": "python",
   "name": "python3"
  },
  "language_info": {
   "codemirror_mode": {
    "name": "ipython",
    "version": 3
   },
   "file_extension": ".py",
   "mimetype": "text/x-python",
   "name": "python",
   "nbconvert_exporter": "python",
   "pygments_lexer": "ipython3",
   "version": "3.6.15"
  },
  "papermill": {
   "duration": 5.945202,
   "end_time": "2022-10-11T00:53:09.745540",
   "environment_variables": {},
   "exception": null,
   "input_path": "2020-03-21-covid19exp.ipynb",
   "output_path": "2020-03-21-covid19exp.ipynb",
   "parameters": {},
   "start_time": "2022-10-11T00:53:03.800338",
   "version": "2.0.0"
  }
 },
 "nbformat": 4,
 "nbformat_minor": 5
}